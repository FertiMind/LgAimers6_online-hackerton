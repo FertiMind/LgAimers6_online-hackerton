{
 "cells": [
  {
   "cell_type": "code",
   "execution_count": 1,
   "metadata": {
    "colab": {
     "base_uri": "https://localhost:8080/"
    },
    "id": "0_-E_OuZQXqu",
    "outputId": "8f5cbcbb-5086-4ead-c817-9fdb22e3533b"
   },
   "outputs": [],
   "source": [
    "import random\n",
    "import os\n",
    "import pandas as pd\n",
    "import numpy as np\n",
    "\n",
    "from matplotlib import pyplot as plt\n",
    "import seaborn as sns\n",
    "from catboost import CatBoostClassifier\n",
    "import lightgbm as lgb\n",
    "\n",
    "import optuna\n",
    "from optuna import Trial\n",
    "from optuna.samplers import TPESampler\n",
    "from sklearn.model_selection import StratifiedKFold\n",
    "from sklearn.metrics import roc_auc_score\n",
    "from sklearn.utils.class_weight import compute_class_weight\n",
    "\n",
    "import warnings\n",
    "\n",
    "warnings.filterwarnings('ignore')"
   ]
  },
  {
   "cell_type": "code",
   "execution_count": 2,
   "metadata": {
    "id": "u2FSTwmUIkF5"
   },
   "outputs": [],
   "source": [
    "import os\n",
    "import logging\n",
    "\n",
    "def set_affinity(pid, cores):\n",
    "    os.sched_setaffinity(pid, cores)\n",
    "set_affinity(0, {21,22,23,24,25,26,27,28,43,44,45,46,47})\n",
    "def seed_everything(seed: int = 42):\n",
    "    random.seed(seed)\n",
    "    np.random.seed(seed)\n",
    "    os.environ[\"PYTHONHASHSEED\"] = str(seed)"
   ]
  },
  {
   "cell_type": "code",
   "execution_count": 3,
   "metadata": {
    "colab": {
     "base_uri": "https://localhost:8080/"
    },
    "id": "bbtq1EWyQcwX",
    "outputId": "ad146067-7509-44f2-ee26-cc8bc615473f"
   },
   "outputs": [
    {
     "data": {
      "text/plain": [
       "((256351, 68), (90067, 67))"
      ]
     },
     "execution_count": 3,
     "metadata": {},
     "output_type": "execute_result"
    }
   ],
   "source": [
    "train = pd.read_csv('//data/home/brian1501/Minsu/Pregnant/train/data/train.csv').drop(columns=['ID'])\n",
    "test = pd.read_csv('/data/home/brian1501/Minsu/Pregnant/train/data/test.csv').drop(columns=['ID'])\n",
    "train.shape, test.shape\n",
    "# train.loc[train['시술 당시 나이'] == '알 수 없음', '시술 당시 나이'] = '만43-44세'"
   ]
  },
  {
   "cell_type": "code",
   "execution_count": 245,
   "metadata": {},
   "outputs": [
    {
     "data": {
      "text/plain": [
       "0         0.0\n",
       "1         0.0\n",
       "2         0.0\n",
       "3         0.0\n",
       "4         0.0\n",
       "         ... \n",
       "256346    0.0\n",
       "256347    0.0\n",
       "256348    0.0\n",
       "256349    0.0\n",
       "256350    0.0\n",
       "Name: 저장된 신선 난자 수, Length: 256351, dtype: float64"
      ]
     },
     "execution_count": 245,
     "metadata": {},
     "output_type": "execute_result"
    }
   ],
   "source": [
    "train[\"저장된 신선 난자 수\"]"
   ]
  },
  {
   "cell_type": "code",
   "execution_count": 4,
   "metadata": {
    "colab": {
     "base_uri": "https://localhost:8080/",
     "height": 178
    },
    "id": "x7kj8pMWSpd9",
    "outputId": "11cdbca0-3097-42aa-dd4e-52d7070ff5c9"
   },
   "outputs": [
    {
     "data": {
      "text/plain": [
       "임신 성공 여부\n",
       "0    190123\n",
       "1     66228\n",
       "Name: count, dtype: int64"
      ]
     },
     "execution_count": 4,
     "metadata": {},
     "output_type": "execute_result"
    }
   ],
   "source": [
    "train['임신 성공 여부'].value_counts()"
   ]
  },
  {
   "cell_type": "code",
   "execution_count": null,
   "metadata": {
    "colab": {
     "base_uri": "https://localhost:8080/",
     "height": 335
    },
    "id": "EsL6VCeI_Q4D",
    "outputId": "32bd81c0-f1bf-4f45-8b2a-54bf8e66c1d1"
   },
   "outputs": [],
   "source": [
    "# train['시술 당시 나이'] = train['시술 당시 나이'].replace('알 수 없음','만35-37세')\n",
    "# test['시술 당시 나이'] = test['시술 당시 나이'].replace('알 수 없음','만35-37세')\n",
    "\n",
    "train['시술 당시 나이'].value_counts()\n",
    "# train['']\n"
   ]
  },
  {
   "cell_type": "code",
   "execution_count": 5,
   "metadata": {
    "colab": {
     "base_uri": "https://localhost:8080/"
    },
    "id": "4xu4wqTwWgEO",
    "outputId": "8b21d1a6-d5ee-46ea-ab34-c6c2ec30bb19"
   },
   "outputs": [
    {
     "data": {
      "text/plain": [
       "((256351, 65), (90067, 64))"
      ]
     },
     "execution_count": 5,
     "metadata": {},
     "output_type": "execute_result"
    }
   ],
   "source": [
    "# drop_columns = ['착상 전 유전 검사 사용 여부',\n",
    "#                 'PGD 시술 여부', 'PGS 시술 여부', '난자 해동 경과일'] + ['배란 유도 유형', '불임 원인 - 자궁경부 문제', '불임 원인 - 정자 면역학적 요인','불임 원인 - 정자 운동성', '불임 원인 - 정자 형태']#\n",
    "drop_columns = ['난자 해동 경과일', 'DI 임신 횟수',\"DI 출산 횟수\"]\n",
    "train.drop(columns=drop_columns, inplace=True)\n",
    "test.drop(columns=drop_columns, inplace=True)\n",
    "\n",
    "train.shape, test.shape"
   ]
  },
  {
   "cell_type": "code",
   "execution_count": 6,
   "metadata": {},
   "outputs": [],
   "source": [
    "import pandas as pd\n",
    "\n",
    "# 예제 데이터 (train 데이터프레임이 있다고 가정)\n",
    "category_stats = {\n",
    "    \"배아 생성 주요 이유\": [\n",
    "        \"기증용, 현재 시술용\", \"기증용, 배아 저장용, 현재 시술용\", \"현재 시술용\", \"배아 저장용, 현재 시술용\",\n",
    "        \"난자 저장용, 현재 시술용\", \"nan\", \"배아 저장용\", \"기증용\", \"기증용, 난자 저장용\", \"기증용, 배아 저장용\",\n",
    "        \"난자 저장용\", \"난자 저장용, 배아 저장용\", \"난자 저장용, 배아 저장용, 연구용\", \"연구용, 현재 시술용\"\n",
    "    ],\n",
    "    \"임신 성공 비율\": [0.379757, 0.350000, 0.273570, 0.265060, 0.200000, 0.128914, \n",
    "                 0.000870, 0.000000, 0.000000, 0.000000, 0.000000, 0.000000, \n",
    "                 0.000000, 0.000000]\n",
    "}\n",
    "\n",
    "# 성공 비율 데이터프레임 생성\n",
    "success_rate_df = pd.DataFrame(category_stats)\n",
    "\n",
    "# 임신 성공 비율이 0.1보다 낮은 카테고리 리스트 만들기\n",
    "low_success_categories = success_rate_df[success_rate_df[\"임신 성공 비율\"] < 0.1][\"배아 생성 주요 이유\"].tolist()\n",
    "\n",
    "# train 데이터프레임에서 해당 카테고리를 \"나머지\"로 변경\n",
    "train[\"배아 생성 주요 이유\"] = train[\"배아 생성 주요 이유\"].apply(lambda x: \"나머지\" if x in low_success_categories else x)\n",
    "train.loc[train['시술 당시 나이'] == '알 수 없음', '시술 당시 나이'] = '만43-44세'\n",
    "train[\"저장된 신선 난자 수\"] = train[\"저장된 신선 난자 수\"].apply(\n",
    "    lambda x: \"알 수 없음\" if pd.isna(x) else (\"0개\" if x == 0.0 else \"1개 이상\")\n",
    ")\n",
    "test[\"배아 생성 주요 이유\"] = test[\"배아 생성 주요 이유\"].apply(lambda x: \"나머지\" if x in low_success_categories else x)\n",
    "test.loc[test['시술 당시 나이'] == '알 수 없음', '시술 당시 나이'] = '만43-44세'\n",
    "test[\"저장된 신선 난자 수\"] = test[\"저장된 신선 난자 수\"].apply(\n",
    "    lambda x: \"알 수 없음\" if pd.isna(x) else (\"0개\" if x == 0.0 else \"1개 이상\")\n",
    ")\n"
   ]
  },
  {
   "cell_type": "code",
   "execution_count": 7,
   "metadata": {
    "id": "q5k1E_a8a6LH"
   },
   "outputs": [],
   "source": [
    "nan_col_list = ['PGD 시술 여부', 'PGS 시술 여부','착상 전 유전 검사 사용 여부']\n",
    "for col in nan_col_list:\n",
    "    train[col] = train[col].fillna(0)\n",
    "    test[col] = test[col].fillna(0)\n",
    " \n",
    "nan_col_list = ['착상 전 유전 진단 사용 여부' ]   \n",
    "\n",
    "for col in nan_col_list:\n",
    "    train[col] = train[col].fillna(1)\n",
    "    test[col] = test[col].fillna(1)   "
   ]
  },
  {
   "cell_type": "code",
   "execution_count": 8,
   "metadata": {
    "colab": {
     "base_uri": "https://localhost:8080/"
    },
    "id": "_Q-1vJvMZVdO",
    "outputId": "c00dc096-9bb5-4d60-f38f-4908c4f8c858"
   },
   "outputs": [],
   "source": [
    "drop_columns2 = []\n",
    "for col in train.columns:\n",
    "    if len(train[col].value_counts()) == 1:\n",
    "        drop_columns2.append(col)"
   ]
  },
  {
   "cell_type": "code",
   "execution_count": 9,
   "metadata": {
    "colab": {
     "base_uri": "https://localhost:8080/"
    },
    "id": "Eb_P6B2RarRm",
    "outputId": "8648f15e-8a85-49bb-fb00-a83582492051"
   },
   "outputs": [
    {
     "name": "stdout",
     "output_type": "stream",
     "text": [
      "['불임 원인 - 여성 요인', '난자 채취 경과일']\n"
     ]
    },
    {
     "data": {
      "text/plain": [
       "((256351, 63), (90067, 62))"
      ]
     },
     "execution_count": 9,
     "metadata": {},
     "output_type": "execute_result"
    }
   ],
   "source": [
    "print(drop_columns2)\n",
    "train.drop(columns=drop_columns2, inplace=True)\n",
    "test.drop(columns=drop_columns2, inplace=True)\n",
    "\n",
    "train.shape, test.shape"
   ]
  },
  {
   "cell_type": "code",
   "execution_count": 10,
   "metadata": {
    "id": "YjAuM-pa6Ewz"
   },
   "outputs": [],
   "source": [
    "cat_to_int_dict = {'6회 이상' : 6, '5회' : 5, '4회' : 4, '3회' : 3, '2회' : 2, '1회' : 1, '0회' : 0}\n",
    "\n",
    "cat_to_int_columns = ['총 시술 횟수', '클리닉 내 총 시술 횟수', 'IVF 시술 횟수',\n",
    "                      '총 임신 횟수', 'IVF 임신 횟수', '총 출산 횟수', 'IVF 출산 횟수'] #\n",
    "for col in cat_to_int_columns:\n",
    "    train[col] = train[col].map(cat_to_int_dict)\n",
    "    test[col] = test[col].map(cat_to_int_dict)"
   ]
  },
  {
   "cell_type": "code",
   "execution_count": 11,
   "metadata": {},
   "outputs": [],
   "source": [
    "# num_cols_to_clip = [\n",
    "#     '총 생성 배아 수', '미세주입된 난자 수', '수집된 신선 난자 수',\n",
    "#     '저장된 배아 수', '해동된 배아 수', '해동 난자 수', '혼합된 난자 수'\n",
    "# ]\n",
    "\n",
    "# for col in num_cols_to_clip:\n",
    "#     if col not in train.columns:\n",
    "#         continue  # 실제 존재하는 컬럼에만 적용\n",
    "#     # 훈련셋 기준으로 clip 범위 계산\n",
    "#     # lower_p = train[col].quantile(0.01)\n",
    "#     upper_p = train[col].quantile(0.99)\n",
    "#     # 실제 clip\n",
    "#     train[col] = train[col].clip(lower=lower_p, upper=upper_p)\n",
    "#     test[col]  = test[col].clip(lower=lower_p, upper=upper_p)\n",
    "\n",
    "# (참고) 특정 컬럼을 임의 값으로 직접 clip할 때 예시\n",
    "# train['수집된 신선 난자 수'] = train['수집된 신선 난자 수'].clip(upper=30)\n",
    "# test['수집된 신선 난자 수']  = test['수집된 신선 난자 수'].clip(upper=30)\n",
    "\n",
    "# 5. Binning(구간화) 예시\n",
    "# 예: 임신 시도 또는 마지막 임신 경과 연수\n",
    "# if '임신 시도 또는 마지막 임신 경과 연수' in train.columns:\n",
    "#     bins = [-0.1, 0.9, 3, 6, 10, 20]  # 0 이하, 1~3, 4~6, 7~10, 11~20\n",
    "#     labels = ['0년 이하','1~3년','4~6년','7~10년','11~20년']\n",
    "#     train['임신시도_bin'] = pd.cut(train['임신 시도 또는 마지막 임신 경과 연수'], bins=bins, labels=labels)\n",
    "#     test['임신시도_bin']  = pd.cut(test['임신 시도 또는 마지막 임신 경과 연수'],  bins=bins, labels=labels)\n",
    "\n",
    "# 예: 총 생성 배아 수 (0~20, 21이상 구간)\n",
    "if '총 생성 배아 수' in train.columns:\n",
    "    bins = [-0.1, 0, 5, 10, 15, 20, 999]\n",
    "    labels = ['0','1~5','6~10','11~15','16~20','21이상']\n",
    "    train['총_생성_배아_bin'] = pd.cut(train['총 생성 배아 수'], bins=bins, labels=labels)\n",
    "    test['총_생성_배아_bin']  = pd.cut(test['총 생성 배아 수'],  bins=bins, labels=labels)\n",
    "\n",
    "# 6. 희소 범주(rare categories) 병합 예시\n",
    "def merge_rare_categories(series, min_count=100):\n",
    "    \"\"\"\n",
    "    시리즈 내에서 출현 횟수가 min_count 미만인 카테고리를\n",
    "    모두 '기타' 카테고리로 통합\n",
    "    \"\"\"\n",
    "    value_counts = series.value_counts(dropna=False)\n",
    "    rare_cats = value_counts[value_counts < min_count].index\n",
    "    return series.replace(rare_cats, '기타')\n",
    "\n",
    "\n",
    "rare_merge_cols = ['특정 시술 유형', '배아 생성 주요 이유']\n",
    "for col in rare_merge_cols:\n",
    "    if col in train.columns:\n",
    "        train[col] = merge_rare_categories(train[col], min_count=30)\n",
    "    if col in test.columns:\n",
    "        test[col] = merge_rare_categories(test[col], min_count=30)\n",
    "train.drop(columns =['임신 시도 또는 마지막 임신 경과 연수'],inplace = True )\n",
    "test.drop(columns =['임신 시도 또는 마지막 임신 경과 연수'],inplace = True )\n"
   ]
  },
  {
   "cell_type": "code",
   "execution_count": 12,
   "metadata": {},
   "outputs": [],
   "source": [
    "train.loc[train['정자 기증자 나이'] == '만20세 이하', '정자 기증자 나이'] = '만0-20세'\n",
    "train.loc[train['정자 기증자 나이'] == '알 수 없음', '정자 기증자 나이'] = '만31-35세'\n",
    "\n",
    "test.loc[test['정자 기증자 나이'] == '만20세 이하', '정자 기증자 나이'] = '만0-20세'\n",
    "test.loc[test['정자 기증자 나이'] == '알 수 없음', '정자 기증자 나이'] = '만31-35세'\n",
    "\n",
    "train.loc[train['난자 기증자 나이'] == '만20세 이하', '난자 기증자 나이'] = '만0-20세'\n",
    "train.loc[train['난자 기증자 나이'] == '알 수 없음', '난자 기증자 나이'] ='만0-20세'\n",
    "\n",
    "test.loc[test['난자 기증자 나이'] == '만20세 이하', '난자 기증자 나이'] = '만0-20세'\n",
    "test.loc[test['난자 기증자 나이'] == '알 수 없음', '난자 기증자 나이'] ='만0-20세'\n",
    "def parse_age_range(age_range):\n",
    "    \"\"\" '만18-34세' 같은 범위를 [18, 34] 로 변환 \"\"\"\n",
    "    age_range = age_range.replace('만', '').replace('세', '')\n",
    "    start, end = map(int, age_range.split('-'))\n",
    "    return (start, end)\n",
    "\n",
    "# 시술 당시 나이와 정자 기증자 나이를 숫자 범위로 변환\n",
    "train['시술 나이 범위'] = train['시술 당시 나이'].apply(parse_age_range)\n",
    "train['기증자 나이 범위'] = train['정자 기증자 나이'].apply(parse_age_range)\n",
    "test['시술 나이 범위'] = test['시술 당시 나이'].apply(parse_age_range)\n",
    "test['기증자 나이 범위'] = test['정자 기증자 나이'].apply(parse_age_range)\n",
    "\n",
    "\n",
    "# 새로운 범위 계산 (시술 당시 나이 - 정자 기증자 나이)\n",
    "def calculate_new_range(row):\n",
    "    s_start, s_end = row['시술 나이 범위']\n",
    "    d_start, d_end = row['기증자 나이 범위']\n",
    "    return f\"{s_start - d_end}-{s_end - d_start}세\"\n",
    "\n",
    "train['시술 정자'] = train.apply(calculate_new_range, axis=1)\n",
    "test['시술 정자'] = test.apply(calculate_new_range, axis=1)\n",
    "train.drop(columns =['시술 나이 범위','기증자 나이 범위'],inplace = True )\n",
    "test.drop(columns =['시술 나이 범위','기증자 나이 범위'],inplace = True )\n",
    "\n",
    "\n",
    "train['시술 나이 범위'] = train['시술 당시 나이'].apply(parse_age_range)\n",
    "train['기증자 나이 범위'] = train['난자 기증자 나이'].apply(parse_age_range)\n",
    "test['시술 나이 범위'] = test['시술 당시 나이'].apply(parse_age_range)\n",
    "test['기증자 나이 범위'] = test['난자 기증자 나이'].apply(parse_age_range)\n",
    "\n",
    "\n",
    "train['시술 난자'] = train.apply(calculate_new_range, axis=1)\n",
    "test['시술 난자'] = test.apply(calculate_new_range, axis=1)\n",
    "train.drop(columns =['시술 나이 범위','기증자 나이 범위'],inplace = True )\n",
    "test.drop(columns =['시술 나이 범위','기증자 나이 범위'],inplace = True )\n",
    "\n",
    "\n",
    "# train 데이터 처리\n",
    "\n",
    "\n"
   ]
  },
  {
   "cell_type": "code",
   "execution_count": null,
   "metadata": {
    "id": "f-mBaoLO4ffA"
   },
   "outputs": [],
   "source": [
    "# procedure_encoding_dict = {'ICSI' : 'ICSI', 'IVF' : 'IVF', 'Unknown' : 'Unknown','IUI' : 'IUI',\n",
    "#                            'ICSI:ICSI' : 'ICSI', 'ICSI / BLASTOCYST ' : 'ICSI / BLASTOCYST',\n",
    "#                            'IVF / BLASTOCYST' : 'IVF / BLASTOCYST','IVF:IVF' : 'IVF','ICSI:IVF' : 'ICSI:IVF',\n",
    "#                            'ICSI / AH' : 'ICSI / AH','IVF:ICSI' : 'ICSI:IVF', 'IVF / AH' : 'IVF / AH',\n",
    "#                            'ICSI:Unknown' : 'ICSI', 'IVF:Unknown' : 'IVF', 'ICI' : 'ICI','Generic DI' : 'Generic DI',\n",
    "#                            'IVI' : 'IVI','ICSI / BLASTOCYST:IVF / BLASTOCYST' : 'ICSI / BLASTOCYST:IVF / BLASTOCYST',\n",
    "#                            'ICSI / BLASTOCYST :IVF / BLASTOCYST': 'ICSI / BLASTOCYST:IVF / BLASTOCYST','FER' : 'FER',\n",
    "#                            'IVF / AH:ICSI / AH' : 'IVF / AH:ICSI / AH','GIFT':'GIFT','ICSI / AH:Unknown' : 'ICSI / AH',\n",
    "#                            'ICSI / BLASTOCYST :ICSI' : 'ICSI / BLASTOCYST', 'IUI:ICI' : 'IUI:ICI',\n",
    "#                            'IVF:Unknown:Unknown:Unknown' : 'IVF'}\n",
    "\n",
    "# train['특정 시술 유형'] = train['특정 시술 유형'].map(procedure_encoding_dict)\n",
    "# test['특정 시술 유형'] = test['특정 시술 유형'].map(procedure_encoding_dict)"
   ]
  },
  {
   "cell_type": "code",
   "execution_count": null,
   "metadata": {
    "id": "UEU77iWib0U_"
   },
   "outputs": [],
   "source": [
    "# train['불임 원인 - 정자 요인'] = train['불임 원인 - 정자 면역학적 요인'] + train['불임 원인 - 정자 운동성'] + train['불임 원인 - 정자 농도']  + train['불임 원인 - 정자 형태']\n",
    "# test['불임 원인 - 정자 요인'] = test['불임 원인 - 정자 면역학적 요인'] + test['불임 원인 - 정자 운동성'] + test['불임 원인 - 정자 농도'] + test['불임 원인 - 정자 형태']\n",
    "# train['불임 원인 - 여성 요인'] = train['불임 원인 - 자궁경부 문제'] + train['불임 원인 - 자궁내막증'] + train['불임 원인 - 배란 장애'] + train['불임 원인 - 난관 질환']\n",
    "# test['불임 원인 - 여성 요인'] = test['불임 원인 - 자궁경부 문제'] + test['불임 원인 - 자궁내막증'] + test['불임 원인 - 배란 장애'] + test['불임 원인 - 난관 질환']\n",
    "\n",
    "# train['남성 불임 원인'] = train['남성 주 불임 원인'] + train['남성 부 불임 원인']\n",
    "# test['남성 불임 원인'] = test['남성 주 불임 원인'] + test['남성 부 불임 원인']\n",
    "# train['여성 불임 원인'] = train['여성 주 불임 원인'] + train['여성 부 불임 원인']\n",
    "# test['여성 불임 원인'] = test['여성 주 불임 원인'] + test['여성 부 불임 원인']\n",
    "# train['부부 불임 원인'] = train['부부 주 불임 원인'] + train['부부 부 불임 원인']\n",
    "# test['부부 불임 원인'] = test['부부 주 불임 원인'] + test['부부 부 불임 원인']\n",
    "\n",
    "\n",
    "# drop_columns3 = ['불임 원인 - 정자 면역학적 요인', '불임 원인 - 정자 운동성', '불임 원인 - 정자 형태', '불임 원인 - 자궁경부 문제',\n",
    "#                  '남성 주 불임 원인', '남성 부 불임 원인', '여성 주 불임 원인', '여성 부 불임 원인',\n",
    "#                  '부부 주 불임 원인', '부부 부 불임 원인']\n",
    "# train.drop(columns=drop_columns3, inplace=True)\n",
    "# test.drop(columns=drop_columns3, inplace=True)"
   ]
  },
  {
   "cell_type": "code",
   "execution_count": null,
   "metadata": {
    "colab": {
     "base_uri": "https://localhost:8080/"
    },
    "id": "kjEBmjSkbL5j",
    "outputId": "b3db516d-031e-42fc-89bb-a3218d8bd879"
   },
   "outputs": [],
   "source": [
    "train.columns"
   ]
  },
  {
   "cell_type": "code",
   "execution_count": 13,
   "metadata": {
    "id": "64dAkKrBayFA"
   },
   "outputs": [],
   "source": [
    "categorical_columns = [\n",
    "    \"시술 시기 코드\",\n",
    "    \"시술 당시 나이\",\n",
    "    \"시술 유형\",\n",
    "    \"특정 시술 유형\",\n",
    "    \"배란 자극 여부\",\n",
    "    \"배란 유도 유형\",\n",
    "    \"단일 배아 이식 여부\",\n",
    "    \"착상 전 유전 검사 사용 여부\",\n",
    "    \"착상 전 유전 진단 사용 여부\",\n",
    "    \"남성 주 불임 원인\",\n",
    "    \"남성 부 불임 원인\",\n",
    "    \"여성 주 불임 원인\",\n",
    "    \"여성 부 불임 원인\",\n",
    "    \"부부 주 불임 원인\",\n",
    "    \"부부 부 불임 원인\",\n",
    "    \"불명확 불임 원인\",\n",
    "    \"불임 원인 - 난관 질환\",\n",
    "    \"불임 원인 - 남성 요인\",\n",
    "    \"불임 원인 - 배란 장애\",\n",
    "    # \"불임 원인 - 여성 요인\",\n",
    "    \"불임 원인 - 자궁경부 문제\",\n",
    "    \"불임 원인 - 자궁내막증\",\n",
    "    \"불임 원인 - 정자 농도\",\n",
    "    \"불임 원인 - 정자 면역학적 요인\",\n",
    "    \"불임 원인 - 정자 운동성\",\n",
    "    \"불임 원인 - 정자 형태\",\n",
    "    \"배아 생성 주요 이유\",\n",
    "    # \"총 시술 횟수\",\n",
    "    # \"클리닉 내 총 시술 횟수\",\n",
    "    # \"IVF 시술 횟수\",\n",
    "    \"DI 시술 횟수\",\n",
    "    # \"총 임신 횟수\",\n",
    "    # \"IVF 임신 횟수\",\n",
    "    # \"DI 임신 횟수\",\n",
    "    # \"총 출산 횟수\",\n",
    "    # \"IVF 출산 횟수\",\n",
    "    # \"DI 출산 횟수\",\n",
    "    \"난자 출처\",\n",
    "    \"정자 출처\",\n",
    "    \"난자 기증자 나이\",\n",
    "    \"정자 기증자 나이\",\n",
    "    \"동결 배아 사용 여부\",\n",
    "    \"신선 배아 사용 여부\",\n",
    "    \"기증 배아 사용 여부\",\n",
    "    \"대리모 여부\",\n",
    "    \"PGD 시술 여부\",\n",
    "    \"PGS 시술 여부\",\n",
    "    '시술 정자',\n",
    "    '시술 난자',\n",
    "        \"저장된 신선 난자 수\",\"총_생성_배아_bin\"\n",
    "]\n",
    "numeric_columns = [\n",
    "    \"임신 시도 또는 마지막 임신 경과 연수\",\n",
    "    \"총 생성 배아 수\",\n",
    "    \"미세주입된 난자 수\",\n",
    "    \"미세주입에서 생성된 배아 수\",\n",
    "    \"이식된 배아 수\",\n",
    "    \"미세주입 배아 이식 수\",\n",
    "    \"저장된 배아 수\",\n",
    "    \"미세주입 후 저장된 배아 수\",\n",
    "    \"해동된 배아 수\",\n",
    "    \"해동 난자 수\",\n",
    "    \"수집된 신선 난자 수\",\n",
    "    \"저장된 신선 난자 수\",\n",
    "    \"혼합된 난자 수\",\n",
    "    \"파트너 정자와 혼합된 난자 수\",\n",
    "    \"기증자 정자와 혼합된 난자 수\",\n",
    "    \"난자 채취 경과일\",\n",
    "    \"난자 해동 경과일\",\n",
    "    \"난자 혼합 경과일\",\n",
    "    \"배아 이식 경과일\",\n",
    "    \"배아 해동 경과일\"\n",
    "]+['총 시술 횟수', '클리닉 내 총 시술 횟수', 'IVF 시술 횟수',\n",
    "                      '총 임신 횟수', 'IVF 임신 횟수', '총 출산 횟수', 'IVF 출산 횟수']\n",
    "\n",
    "for col in categorical_columns:\n",
    "  if col in train.columns:\n",
    "    if train[col].isna().sum() > 0 or test[col].isna().sum() > 0 :\n",
    "\n",
    "      mode_value = train[col].mode()[0]\n",
    "      train[col].fillna(mode_value, inplace=True)  # 최빈값으로 대체\n",
    "      test[col].fillna(mode_value, inplace = True)\n",
    "    train[col] = train[col].astype(str)\n",
    "    test[col] = test[col].astype(str)\n",
    "    #encoder = ce.OrdinalEncoder(handle_unknown='impute')\n",
    "    #encoder.fit(train[col])\n",
    "    #train[col] = encoder.transform(train[col])\n",
    "    #test[col] = encoder.transform(test[col])\n",
    "\n",
    "# numeric_columns = [\"총 생성 배아 수\", \"총 시술 횟수\",\"클리닉 내 총 시술 횟수\",\"IVF 시술 횟수\",\"DI 시술 횟수\",\n",
    "#                    \"총 임신 횟수\",\"IVF 임신 횟수\",\"DI 임신 횟수\",\"총 출산 횟수\",\"IVF 출산 횟수\",\"DI 출산 횟수\",\n",
    "#                     '미세주입된 난자 수', '미세주입에서 생성된 배아 수', '이식된 배아 수', '미세주입 배아 이식 수', '저장된 배아 수',\n",
    "#        '미세주입 후 저장된 배아 수', '해동된 배아 수', '해동 난자 수', '수집된 신선 난자 수', '저장된 신선 난자 수',\n",
    "#        '혼합된 난자 수', '파트너 정자와 혼합된 난자 수', '기증자 정자와 혼합된 난자 수', '난자 혼합 경과일', '배아 이식 경과일', '배아 해동 경과일'] #\n",
    "\n",
    "# # numeric_columns = [\"총 생성 배아 수\",\"미세주입된 난자 수\",\"미세주입에서 생성된 배아 수\",\n",
    "# #                    \"이식된 배아 수\",\"미세주입 배아 이식 수\",\"저장된 배아 수\",\"미세주입 후 저장된 배아 수\",\n",
    "# #                    \"수집된 신선 난자 수\",\"혼합된 난자 수\",\"파트너 정자와 혼합된 난자 수\",\n",
    "# #                    \"기증자 정자와 혼합된 난자 수\",\"배아 이식 경과일\"]\n",
    "\n",
    "for col in numeric_columns:\n",
    "  if col in train.columns:\n",
    "    if train[col].isna().sum():\n",
    "      if train[col].isna().sum() >= len(train)*0.5: # 결측치가 절반이 넘어갈 경우\n",
    "        train[col].fillna(-1, inplace=True)  # -1로 대체\n",
    "        test[col].fillna(-1, inplace = True)\n",
    "      else:\n",
    "        mode_value = train[col].mode()[0]  # 최빈값 구하기\n",
    "        train[col].fillna(mode_value, inplace=True)  # 최빈값으로 대체\n",
    "        test[col].fillna(mode_value, inplace = True)\n"
   ]
  },
  {
   "cell_type": "code",
   "execution_count": 243,
   "metadata": {},
   "outputs": [
    {
     "data": {
      "text/plain": [
       "{'0개', '1개 이상', '알 수 없음'}"
      ]
     },
     "execution_count": 243,
     "metadata": {},
     "output_type": "execute_result"
    }
   ],
   "source": [
    "set(train[\"저장된 신선 난자 수\"])"
   ]
  },
  {
   "cell_type": "code",
   "execution_count": 14,
   "metadata": {
    "colab": {
     "base_uri": "https://localhost:8080/"
    },
    "id": "rrQrzq0H_QfV",
    "outputId": "255208d3-85ca-4d21-d9d0-eb8dccc27e6d"
   },
   "outputs": [],
   "source": [
    "# train[\"저장된 신선 난자 수\"] = train[\"저장된 신선 난자 수\"].apply(lambda x: 20.0 if x >= 20 else x)\n",
    "train[\"해동 난자 수\"] = train[\"해동 난자 수\"].apply(lambda x: 20.0 if x >= 20 else x)\n",
    "train[\"미세주입 후 저장된 배아 수\"] = train[\"미세주입 후 저장된 배아 수\"].apply(lambda x: 20.0 if x >= 20 else x)\n",
    "\n",
    "# test 데이터 처리\n",
    "# test[\"저장된 신선 난자 수\"] = test[\"저장된 신선 난자 수\"].apply(lambda x: 20.0 if x >= 20 else x)\n",
    "test[\"해동 난자 수\"] = test[\"해동 난자 수\"].apply(lambda x: 20.0 if x >= 20 else x)\n",
    "test[\"미세주입 후 저장된 배아 수\"] = test[\"미세주입 후 저장된 배아 수\"].apply(lambda x: 20.0 if x >= 20 else x)\n"
   ]
  },
  {
   "cell_type": "code",
   "execution_count": 239,
   "metadata": {},
   "outputs": [
    {
     "data": {
      "text/plain": [
       "'0개'"
      ]
     },
     "execution_count": 239,
     "metadata": {},
     "output_type": "execute_result"
    }
   ],
   "source": [
    "train[\"저장된 신선 난자 수\"][0]"
   ]
  },
  {
   "cell_type": "code",
   "execution_count": 15,
   "metadata": {
    "id": "CI8IOlCFVXGY"
   },
   "outputs": [],
   "source": [
    "def make_feature(df):\n",
    "  #df['연령 가중치'] = df['시술 당시 나이'].map(age_weight_dict)\n",
    "\n",
    "  #df['난자 활용률'] = df['미세주입된 난자 수'] / (df['수집된 신선 난자 수'] + df['해동 난자 수'] + 1)\n",
    "  df['미세주입 배아 생성률'] = (df['미세주입에서 생성된 배아 수']) / (df['미세주입된 난자 수'] + 1)\n",
    "  df['미세주입 배아 이식률'] = (df['미세주입 배아 이식 수']) / (df['미세주입에서 생성된 배아 수'] + 1)\n",
    "  df['배아 이식률'] = (df['이식된 배아 수']) / (df['총 생성 배아 수'] + 1)\n",
    "  df['저장 배아 비율'] = (df['저장된 배아 수'])/ (df['총 생성 배아 수'] + 1)\n",
    "  df['해동 배아 생존율'] = (df['해동된 배아 수'])/ (df['총 생성 배아 수'] + 1)\n",
    "  df['파트너 정자 혼합 비율'] = (df['파트너 정자와 혼합된 난자 수']) / (df['혼합된 난자 수'] + 1)\n",
    "\n",
    "  # df['저장 배아 비율2'] = (df['저장된 배아 수'])/ (df['이식된 배아 수'] + 1)\n",
    "  # df['해동 배아 생존율2'] = (df['해동된 배아 수'])/ (df['이식된 배아 수'] + 1)\n",
    "  # df['미세주입 배아 이식 비율'] = df['미세주입 배아 이식 수'] / (df['이식된 배아 수'] + 1)\n",
    "  #df['나이보정 배아 이식 수'] = df['이식된 배아 수']*df['연령 가중치']\n",
    "\n",
    "  df['임신 성공률'] = (df['총 임신 횟수']) / (df['총 시술 횟수'] + 1)\n",
    "  #df['IVF 시술 성공률'] = (df['IVF 임신 횟수'])/ (df['IVF 시술 횟수'] + 1)\n",
    "  #df['DI 시술 성공률'] = (df['DI 임신 횟수']) / (df['DI 시술 횟수'] + 1)\n",
    "  df['출산율'] = df['총 출산 횟수'] / (df['총 임신 횟수'] + 1)\n",
    "  #df['IVF 출산율'] = df['IVF 출산 횟수'] / (df['IVF 임신 횟수'] + 1)\n",
    "  #df['DI 출산율'] = df['DI 출산 횟수'] / (df['DI 임신 횟수'] + 1)\n",
    "  #df['시술 기준 출산 성공률'] = df['총 출산 횟수'] / (df['총 시술 횟수'] + 1)\n",
    "\n",
    "  #df = df.drop(columns = ['연령 가중치'])\n",
    "\n",
    "  return df"
   ]
  },
  {
   "cell_type": "code",
   "execution_count": 16,
   "metadata": {
    "colab": {
     "base_uri": "https://localhost:8080/"
    },
    "id": "_VNPbGSR4h_I",
    "outputId": "44e7b9c5-1948-417e-b02a-64267fb91fae"
   },
   "outputs": [
    {
     "data": {
      "text/plain": [
       "((256351, 72), (90067, 72))"
      ]
     },
     "execution_count": 16,
     "metadata": {},
     "output_type": "execute_result"
    }
   ],
   "source": [
    "X = train.drop('임신 성공 여부', axis=1)\n",
    "y = train['임신 성공 여부']\n",
    "\n",
    "X = make_feature(X)\n",
    "test = make_feature(test)\n",
    "\n",
    "X.shape, test.shape"
   ]
  },
  {
   "cell_type": "code",
   "execution_count": null,
   "metadata": {
    "colab": {
     "base_uri": "https://localhost:8080/",
     "height": 178
    },
    "id": "1WNQj2e8ukWK",
    "outputId": "039cab20-93c0-4ab4-f8a6-8098c62dc87f"
   },
   "outputs": [],
   "source": [
    "y.value_counts()"
   ]
  },
  {
   "cell_type": "code",
   "execution_count": 18,
   "metadata": {
    "id": "nsRZfmFixgqm"
   },
   "outputs": [],
   "source": [
    "from sklearn.utils.class_weight import compute_class_weight\n",
    "def objective_cat(trial):\n",
    "    global best_val_auc\n",
    "    cbrm_param = {\n",
    "        'iterations':trial.suggest_int(\"iterations\", 1500, 3000),\n",
    "        'depth':trial.suggest_int(\"depth\", 4, 10),\n",
    "        'learning_rate' : trial.suggest_float('learning_rate',0.005, 0.1),\n",
    "        'l2_leaf_reg': trial.suggest_float(\"l2_leaf_reg\", 1e-4, 100.0, log=True),\n",
    "        'early_stopping_rounds': 300\n",
    "    }\n",
    "\n",
    "    # Generate model\n",
    "    model_cat = CatBoostClassifier(**cbrm_param, auto_class_weights='Balanced', eval_metric='AUC', random_state=seed, task_type=\"GPU\",devices='2')\n",
    "    model_cat.fit(X_train,\n",
    "          y_train,\n",
    "          cat_features=categorical_columns,\n",
    "          early_stopping_rounds= 300,\n",
    "          eval_set=[(X_val,y_val)],\n",
    "          verbose = 300)\n",
    "    \n",
    "    val_auc = model_cat.get_best_score()[\"validation\"][\"AUC\"]\n",
    "    best_model_path = \"/data/home/brian1501/Minsu/Pregnant/train/weight/cat_fold_gpu{}.cbm\".format(idx)\n",
    "    if val_auc > best_val_auc:\n",
    "        best_val_auc = val_auc\n",
    "        model_cat.save_model(best_model_path)\n",
    "        print('저장 완료')\n",
    "\n",
    "    return val_auc\n",
    "\n",
    "def objective_lgbm(trial):\n",
    "\n",
    "    lgbm_params = {\n",
    "         #'num_leaves': trial.suggest_int('num_leaves', 2, 1024, step=1),\n",
    "         #'max_depth': trial.suggest_int('max_depth', 3, 18, step=1),\n",
    "          \"num_iterations\": trial.suggest_int(\"num_iterations\", 1500, 3000),\n",
    "        \"objective\":  trial.suggest_categorical(\"objective\", [\"binary\"]),\n",
    "         \"metric\":  trial.suggest_categorical(\"metric\", [\"auc\"]),\n",
    "        #  \"random_state\":  trial.suggest_int('random_state', 42, 42),\n",
    "        \"random_state\": seed,\n",
    "        \"verbose\":  trial.suggest_int('verbose', -1, -1),\n",
    "        'learning_rate': trial.suggest_float('learning_rate', 0.005, 0.1, log=True),\n",
    "        'n_estimators': trial.suggest_int('n_estimators', 100, 2000),\n",
    "        'min_child_samples': trial.suggest_int('min_child_samples', 10, 50, step=5),\n",
    "        'subsample': trial.suggest_float('subsample', 0.5, 1.0, step=0.1),\n",
    "        'colsample_bytree': trial.suggest_float('colsample_bytree', 0.5, 1.0, step=0.1),\n",
    "        \n",
    "    }\n",
    "\n",
    "    # Generate model\n",
    "\n",
    "    class_weights = compute_class_weight(class_weight=\"balanced\", classes=np.unique(y), y=y_train)\n",
    "    class_weight_dict = {i: w for i, w in enumerate(class_weights)}\n",
    "\n",
    "    model_lgbm = lgb.LGBMClassifier(**lgbm_params, early_stopping_rounds=200,class_weight=class_weight_dict)\n",
    "\n",
    "    model_lgbm.fit(X_train, y_train,eval_set=[(X_val, y_val)],categorical_feature=categorical_columns)\n",
    "\n",
    "    return model_lgbm.best_score_['valid_0']['auc']"
   ]
  },
  {
   "cell_type": "code",
   "execution_count": 26,
   "metadata": {},
   "outputs": [
    {
     "data": {
      "text/plain": [
       "{'0', '11~15', '16~20', '1~5', '21이상', '6~10'}"
      ]
     },
     "execution_count": 26,
     "metadata": {},
     "output_type": "execute_result"
    }
   ],
   "source": [
    "set(train[\"총_생성_배아_bin\"])"
   ]
  },
  {
   "cell_type": "code",
   "execution_count": 17,
   "metadata": {},
   "outputs": [],
   "source": [
    "import pandas as pd\n",
    "\n",
    "for col in categorical_columns:\n",
    "    unique_types = set(type(x) for x in train[col])\n",
    "    # int 또는 str이 아닌 타입이 섞여 있는지 확인\n",
    "    non_int_str_types = [t for t in unique_types if t not in (int, str)]\n",
    "    \n",
    "    if len(non_int_str_types) > 0:\n",
    "        print(f\"컬럼명: {col}\")\n",
    "        print(f\"  발견된 타입들: {unique_types}\")\n",
    "        print(f\"  int/str가 아닌 타입: {non_int_str_types}\")\n",
    "        print(\"-\" * 40)\n"
   ]
  },
  {
   "cell_type": "code",
   "execution_count": 22,
   "metadata": {
    "colab": {
     "base_uri": "https://localhost:8080/"
    },
    "id": "NsuYwQX28LzT",
    "outputId": "392153b7-08f0-4feb-9a83-6016732f894c",
    "scrolled": true,
    "tags": []
   },
   "outputs": [
    {
     "name": "stderr",
     "output_type": "stream",
     "text": [
      "[I 2025-02-23 03:37:12,667] A new study created in memory with name: no-name-8305f863-68a7-41c1-938b-e7d229d64d91\n"
     ]
    },
    {
     "name": "stdout",
     "output_type": "stream",
     "text": [
      "Seed 4972 Start!\n",
      "==================================================\n"
     ]
    },
    {
     "name": "stderr",
     "output_type": "stream",
     "text": [
      "Default metric period is 5 because AUC is/are not implemented for GPU\n"
     ]
    },
    {
     "name": "stdout",
     "output_type": "stream",
     "text": [
      "0:\ttest: 0.7287047\tbest: 0.7287047 (0)\ttotal: 83.2ms\tremaining: 3m 16s\n",
      "300:\ttest: 0.7389837\tbest: 0.7389837 (300)\ttotal: 24.5s\tremaining: 2m 47s\n",
      "600:\ttest: 0.7402311\tbest: 0.7402477 (589)\ttotal: 48.9s\tremaining: 2m 23s\n",
      "900:\ttest: 0.7403706\tbest: 0.7404835 (806)\ttotal: 1m 13s\tremaining: 1m 59s\n",
      "bestTest = 0.7404834628\n",
      "bestIteration = 806\n",
      "Shrink model to first 807 iterations.\n"
     ]
    },
    {
     "name": "stderr",
     "output_type": "stream",
     "text": [
      "[I 2025-02-23 03:38:45,374] Trial 0 finished with value: 0.7404834628105164 and parameters: {'iterations': 2366, 'depth': 10, 'learning_rate': 0.01181021951839225, 'l2_leaf_reg': 9.980783802743254}. Best is trial 0 with value: 0.7404834628105164.\n"
     ]
    },
    {
     "name": "stdout",
     "output_type": "stream",
     "text": [
      "저장 완료\n"
     ]
    },
    {
     "name": "stderr",
     "output_type": "stream",
     "text": [
      "Default metric period is 5 because AUC is/are not implemented for GPU\n"
     ]
    },
    {
     "name": "stdout",
     "output_type": "stream",
     "text": [
      "0:\ttest: 0.7117603\tbest: 0.7117603 (0)\ttotal: 25.7ms\tremaining: 56.4s\n",
      "300:\ttest: 0.7312410\tbest: 0.7312410 (300)\ttotal: 5.28s\tremaining: 33.2s\n",
      "600:\ttest: 0.7346237\tbest: 0.7346237 (600)\ttotal: 9.55s\tremaining: 25.3s\n",
      "900:\ttest: 0.7364347\tbest: 0.7364347 (900)\ttotal: 13.9s\tremaining: 19.9s\n",
      "1200:\ttest: 0.7374796\tbest: 0.7374803 (1198)\ttotal: 18.2s\tremaining: 15s\n",
      "1500:\ttest: 0.7381836\tbest: 0.7381836 (1500)\ttotal: 22.5s\tremaining: 10.4s\n",
      "1800:\ttest: 0.7387230\tbest: 0.7387230 (1800)\ttotal: 26.8s\tremaining: 5.84s\n",
      "2100:\ttest: 0.7390698\tbest: 0.7390698 (2100)\ttotal: 31.2s\tremaining: 1.37s\n",
      "2192:\ttest: 0.7391580\tbest: 0.7391590 (2191)\ttotal: 32.5s\tremaining: 0us\n",
      "bestTest = 0.7391590178\n",
      "bestIteration = 2191\n",
      "Shrink model to first 2192 iterations.\n"
     ]
    },
    {
     "name": "stderr",
     "output_type": "stream",
     "text": [
      "[I 2025-02-23 03:39:21,935] Trial 1 finished with value: 0.7391590178012848 and parameters: {'iterations': 2193, 'depth': 4, 'learning_rate': 0.005671430811678843, 'l2_leaf_reg': 0.00012325230809466137}. Best is trial 0 with value: 0.7404834628105164.\n",
      "Default metric period is 5 because AUC is/are not implemented for GPU\n"
     ]
    },
    {
     "name": "stdout",
     "output_type": "stream",
     "text": [
      "0:\ttest: 0.7117603\tbest: 0.7117603 (0)\ttotal: 26.9ms\tremaining: 1m 8s\n",
      "300:\ttest: 0.7398319\tbest: 0.7398936 (268)\ttotal: 5.32s\tremaining: 39.5s\n",
      "600:\ttest: 0.7401033\tbest: 0.7401584 (384)\ttotal: 9.7s\tremaining: 31.2s\n",
      "900:\ttest: 0.7401159\tbest: 0.7402039 (652)\ttotal: 14.1s\tremaining: 25.6s\n"
     ]
    },
    {
     "name": "stderr",
     "output_type": "stream",
     "text": [
      "[I 2025-02-23 03:39:40,856] Trial 2 finished with value: 0.7402039468288422 and parameters: {'iterations': 2535, 'depth': 4, 'learning_rate': 0.09275339199839054, 'l2_leaf_reg': 0.0008705394248343123}. Best is trial 0 with value: 0.7404834628105164.\n"
     ]
    },
    {
     "name": "stdout",
     "output_type": "stream",
     "text": [
      "bestTest = 0.7402039468\n",
      "bestIteration = 652\n",
      "Shrink model to first 653 iterations.\n"
     ]
    },
    {
     "name": "stderr",
     "output_type": "stream",
     "text": [
      "Default metric period is 5 because AUC is/are not implemented for GPU\n"
     ]
    },
    {
     "name": "stdout",
     "output_type": "stream",
     "text": [
      "0:\ttest: 0.7117603\tbest: 0.7117603 (0)\ttotal: 25.2ms\tremaining: 58.8s\n",
      "300:\ttest: 0.7393458\tbest: 0.7393485 (299)\ttotal: 5.51s\tremaining: 37.2s\n",
      "600:\ttest: 0.7401175\tbest: 0.7401362 (580)\ttotal: 9.83s\tremaining: 28.4s\n",
      "900:\ttest: 0.7403813\tbest: 0.7403813 (900)\ttotal: 14.2s\tremaining: 22.6s\n",
      "1200:\ttest: 0.7405465\tbest: 0.7405479 (1180)\ttotal: 18.6s\tremaining: 17.6s\n",
      "1500:\ttest: 0.7408674\tbest: 0.7408753 (1498)\ttotal: 23s\tremaining: 12.8s\n",
      "1800:\ttest: 0.7408699\tbest: 0.7409312 (1545)\ttotal: 27.4s\tremaining: 8.12s\n",
      "bestTest = 0.7409311831\n",
      "bestIteration = 1545\n",
      "Shrink model to first 1546 iterations.\n"
     ]
    },
    {
     "name": "stderr",
     "output_type": "stream",
     "text": [
      "[I 2025-02-23 03:40:13,189] Trial 3 finished with value: 0.7409311830997467 and parameters: {'iterations': 2334, 'depth': 4, 'learning_rate': 0.04657568321363276, 'l2_leaf_reg': 0.0008640473331457248}. Best is trial 3 with value: 0.7409311830997467.\n"
     ]
    },
    {
     "name": "stdout",
     "output_type": "stream",
     "text": [
      "저장 완료\n"
     ]
    },
    {
     "name": "stderr",
     "output_type": "stream",
     "text": [
      "Default metric period is 5 because AUC is/are not implemented for GPU\n"
     ]
    },
    {
     "name": "stdout",
     "output_type": "stream",
     "text": [
      "0:\ttest: 0.7271529\tbest: 0.7271529 (0)\ttotal: 115ms\tremaining: 3m 20s\n",
      "300:\ttest: 0.7374293\tbest: 0.7374736 (293)\ttotal: 26.6s\tremaining: 2m 7s\n",
      "600:\ttest: 0.7376026\tbest: 0.7378853 (402)\ttotal: 51s\tremaining: 1m 36s\n",
      "bestTest = 0.7378852963\n",
      "bestIteration = 402\n",
      "Shrink model to first 403 iterations.\n"
     ]
    },
    {
     "name": "stderr",
     "output_type": "stream",
     "text": [
      "[I 2025-02-23 03:41:16,732] Trial 4 finished with value: 0.7378852963447571 and parameters: {'iterations': 1742, 'depth': 10, 'learning_rate': 0.012622767482095846, 'l2_leaf_reg': 0.00021158816350109617}. Best is trial 3 with value: 0.7409311830997467.\n",
      "Default metric period is 5 because AUC is/are not implemented for GPU\n"
     ]
    },
    {
     "name": "stdout",
     "output_type": "stream",
     "text": [
      "0:\ttest: 0.7117603\tbest: 0.7117603 (0)\ttotal: 26.6ms\tremaining: 55.3s\n",
      "300:\ttest: 0.7397902\tbest: 0.7398066 (298)\ttotal: 5.74s\tremaining: 34s\n",
      "600:\ttest: 0.7398763\tbest: 0.7401089 (406)\ttotal: 10.3s\tremaining: 25.4s\n",
      "bestTest = 0.7401088774\n",
      "bestIteration = 406\n",
      "Shrink model to first 407 iterations.\n"
     ]
    },
    {
     "name": "stderr",
     "output_type": "stream",
     "text": [
      "[I 2025-02-23 03:41:32,569] Trial 5 finished with value: 0.7401088774204254 and parameters: {'iterations': 2082, 'depth': 4, 'learning_rate': 0.06995196593094148, 'l2_leaf_reg': 0.0018080296485396804}. Best is trial 3 with value: 0.7409311830997467.\n",
      "Default metric period is 5 because AUC is/are not implemented for GPU\n"
     ]
    },
    {
     "name": "stdout",
     "output_type": "stream",
     "text": [
      "0:\ttest: 0.7153791\tbest: 0.7153791 (0)\ttotal: 33ms\tremaining: 1m 5s\n",
      "300:\ttest: 0.7405697\tbest: 0.7406689 (274)\ttotal: 6.62s\tremaining: 37.3s\n",
      "600:\ttest: 0.7408861\tbest: 0.7409180 (597)\ttotal: 12.2s\tremaining: 28.3s\n",
      "900:\ttest: 0.7410738\tbest: 0.7410738 (900)\ttotal: 17.7s\tremaining: 21.6s\n",
      "1200:\ttest: 0.7407724\tbest: 0.7410738 (900)\ttotal: 23.3s\tremaining: 15.5s\n",
      "bestTest = 0.7410737872\n",
      "bestIteration = 900\n",
      "Shrink model to first 901 iterations.\n"
     ]
    },
    {
     "name": "stderr",
     "output_type": "stream",
     "text": [
      "[I 2025-02-23 03:42:00,011] Trial 6 finished with value: 0.7410737872123718 and parameters: {'iterations': 1997, 'depth': 5, 'learning_rate': 0.07985155992831598, 'l2_leaf_reg': 62.52181000710482}. Best is trial 6 with value: 0.7410737872123718.\n"
     ]
    },
    {
     "name": "stdout",
     "output_type": "stream",
     "text": [
      "저장 완료\n"
     ]
    },
    {
     "name": "stderr",
     "output_type": "stream",
     "text": [
      "Default metric period is 5 because AUC is/are not implemented for GPU\n"
     ]
    },
    {
     "name": "stdout",
     "output_type": "stream",
     "text": [
      "0:\ttest: 0.7218023\tbest: 0.7218023 (0)\ttotal: 49.8ms\tremaining: 1m 35s\n",
      "300:\ttest: 0.7392648\tbest: 0.7405679 (199)\ttotal: 12s\tremaining: 1m 4s\n",
      "bestTest = 0.740567863\n",
      "bestIteration = 199\n",
      "Shrink model to first 200 iterations.\n"
     ]
    },
    {
     "name": "stderr",
     "output_type": "stream",
     "text": [
      "[I 2025-02-23 03:42:23,000] Trial 7 finished with value: 0.7405678629875183 and parameters: {'iterations': 1927, 'depth': 7, 'learning_rate': 0.0941937211034094, 'l2_leaf_reg': 0.05654822767791934}. Best is trial 6 with value: 0.7410737872123718.\n",
      "Default metric period is 5 because AUC is/are not implemented for GPU\n"
     ]
    },
    {
     "name": "stdout",
     "output_type": "stream",
     "text": [
      "0:\ttest: 0.7218280\tbest: 0.7218280 (0)\ttotal: 34.1ms\tremaining: 1m 4s\n",
      "300:\ttest: 0.7406315\tbest: 0.7407406 (283)\ttotal: 8.95s\tremaining: 47.7s\n",
      "600:\ttest: 0.7405237\tbest: 0.7408898 (438)\ttotal: 17.7s\tremaining: 38.5s\n",
      "bestTest = 0.7408898175\n",
      "bestIteration = 438\n",
      "Shrink model to first 439 iterations.\n"
     ]
    },
    {
     "name": "stderr",
     "output_type": "stream",
     "text": [
      "[I 2025-02-23 03:42:48,654] Trial 8 finished with value: 0.7408898174762726 and parameters: {'iterations': 1904, 'depth': 7, 'learning_rate': 0.05155602859187331, 'l2_leaf_reg': 1.299974533316308}. Best is trial 6 with value: 0.7410737872123718.\n",
      "Default metric period is 5 because AUC is/are not implemented for GPU\n"
     ]
    },
    {
     "name": "stdout",
     "output_type": "stream",
     "text": [
      "0:\ttest: 0.7221259\tbest: 0.7221259 (0)\ttotal: 41.5ms\tremaining: 1m 49s\n",
      "300:\ttest: 0.7398853\tbest: 0.7399053 (293)\ttotal: 7.73s\tremaining: 1m\n",
      "600:\ttest: 0.7404937\tbest: 0.7405131 (549)\ttotal: 14.6s\tremaining: 49.6s\n",
      "900:\ttest: 0.7406610\tbest: 0.7407231 (842)\ttotal: 21.5s\tremaining: 41.5s\n",
      "bestTest = 0.7407230735\n",
      "bestIteration = 842\n",
      "Shrink model to first 843 iterations.\n"
     ]
    },
    {
     "name": "stderr",
     "output_type": "stream",
     "text": [
      "[I 2025-02-23 03:43:19,911] Trial 9 finished with value: 0.7407230734825134 and parameters: {'iterations': 2639, 'depth': 6, 'learning_rate': 0.03968704290444751, 'l2_leaf_reg': 0.30557194377967184}. Best is trial 6 with value: 0.7410737872123718.\n",
      "Default metric period is 5 because AUC is/are not implemented for GPU\n"
     ]
    },
    {
     "name": "stdout",
     "output_type": "stream",
     "text": [
      "0:\ttest: 0.7220384\tbest: 0.7220384 (0)\ttotal: 40.4ms\tremaining: 1m 59s\n",
      "300:\ttest: 0.7412205\tbest: 0.7412289 (293)\ttotal: 7.75s\tremaining: 1m 8s\n",
      "600:\ttest: 0.7410851\tbest: 0.7412975 (459)\ttotal: 14.6s\tremaining: 57.1s\n",
      "bestTest = 0.7412974536\n",
      "bestIteration = 459\n",
      "Shrink model to first 460 iterations.\n"
     ]
    },
    {
     "name": "stderr",
     "output_type": "stream",
     "text": [
      "[I 2025-02-23 03:43:42,257] Trial 10 finished with value: 0.7412974536418915 and parameters: {'iterations': 2945, 'depth': 6, 'learning_rate': 0.07265276039199581, 'l2_leaf_reg': 97.18545559492446}. Best is trial 10 with value: 0.7412974536418915.\n"
     ]
    },
    {
     "name": "stdout",
     "output_type": "stream",
     "text": [
      "저장 완료\n"
     ]
    },
    {
     "name": "stderr",
     "output_type": "stream",
     "text": [
      "Default metric period is 5 because AUC is/are not implemented for GPU\n"
     ]
    },
    {
     "name": "stdout",
     "output_type": "stream",
     "text": [
      "0:\ttest: 0.7220854\tbest: 0.7220854 (0)\ttotal: 25.7ms\tremaining: 1m 16s\n",
      "300:\ttest: 0.7411664\tbest: 0.7411703 (299)\ttotal: 6.92s\tremaining: 1m 1s\n",
      "600:\ttest: 0.7410240\tbest: 0.7412131 (365)\ttotal: 13.9s\tremaining: 55.2s\n",
      "bestTest = 0.7412130535\n",
      "bestIteration = 365\n",
      "Shrink model to first 366 iterations.\n"
     ]
    },
    {
     "name": "stderr",
     "output_type": "stream",
     "text": [
      "[I 2025-02-23 03:44:01,634] Trial 11 finished with value: 0.7412130534648895 and parameters: {'iterations': 2994, 'depth': 6, 'learning_rate': 0.07131044509072976, 'l2_leaf_reg': 73.12133513928158}. Best is trial 10 with value: 0.7412974536418915.\n",
      "Default metric period is 5 because AUC is/are not implemented for GPU\n"
     ]
    },
    {
     "name": "stdout",
     "output_type": "stream",
     "text": [
      "0:\ttest: 0.7220396\tbest: 0.7220396 (0)\ttotal: 32.3ms\tremaining: 1m 33s\n",
      "300:\ttest: 0.7409493\tbest: 0.7409498 (293)\ttotal: 7.72s\tremaining: 1m 6s\n",
      "600:\ttest: 0.7410495\tbest: 0.7411514 (444)\ttotal: 14.6s\tremaining: 55.8s\n",
      "bestTest = 0.7411513925\n",
      "bestIteration = 444\n",
      "Shrink model to first 445 iterations.\n"
     ]
    },
    {
     "name": "stderr",
     "output_type": "stream",
     "text": [
      "[I 2025-02-23 03:44:23,548] Trial 12 finished with value: 0.7411513924598694 and parameters: {'iterations': 2897, 'depth': 6, 'learning_rate': 0.06853332055535903, 'l2_leaf_reg': 87.13438924619733}. Best is trial 10 with value: 0.7412974536418915.\n",
      "Default metric period is 5 because AUC is/are not implemented for GPU\n"
     ]
    },
    {
     "name": "stdout",
     "output_type": "stream",
     "text": [
      "0:\ttest: 0.7255505\tbest: 0.7255505 (0)\ttotal: 43.5ms\tremaining: 2m 9s\n",
      "300:\ttest: 0.7407573\tbest: 0.7410689 (231)\ttotal: 11.7s\tremaining: 1m 43s\n",
      "bestTest = 0.7410688698\n",
      "bestIteration = 231\n",
      "Shrink model to first 232 iterations.\n"
     ]
    },
    {
     "name": "stderr",
     "output_type": "stream",
     "text": [
      "[I 2025-02-23 03:44:48,149] Trial 13 finished with value: 0.7410688698291779 and parameters: {'iterations': 2975, 'depth': 8, 'learning_rate': 0.06703158786644411, 'l2_leaf_reg': 7.828901342687918}. Best is trial 10 with value: 0.7412974536418915.\n",
      "Default metric period is 5 because AUC is/are not implemented for GPU\n"
     ]
    },
    {
     "name": "stdout",
     "output_type": "stream",
     "text": [
      "0:\ttest: 0.7248272\tbest: 0.7248272 (0)\ttotal: 64.8ms\tremaining: 2m 58s\n",
      "300:\ttest: 0.7407777\tbest: 0.7409845 (240)\ttotal: 12.3s\tremaining: 1m 40s\n"
     ]
    },
    {
     "name": "stderr",
     "output_type": "stream",
     "text": [
      "[I 2025-02-23 03:45:13,526] Trial 14 finished with value: 0.7409845292568207 and parameters: {'iterations': 2754, 'depth': 8, 'learning_rate': 0.08100676431388791, 'l2_leaf_reg': 92.74223128282532}. Best is trial 10 with value: 0.7412974536418915.\n"
     ]
    },
    {
     "name": "stdout",
     "output_type": "stream",
     "text": [
      "bestTest = 0.7409845293\n",
      "bestIteration = 240\n",
      "Shrink model to first 241 iterations.\n"
     ]
    },
    {
     "name": "stderr",
     "output_type": "stream",
     "text": [
      "Default metric period is 5 because AUC is/are not implemented for GPU\n"
     ]
    },
    {
     "name": "stdout",
     "output_type": "stream",
     "text": [
      "0:\ttest: 0.7221251\tbest: 0.7221251 (0)\ttotal: 23.5ms\tremaining: 35.5s\n",
      "300:\ttest: 0.7407080\tbest: 0.7407723 (264)\ttotal: 6.92s\tremaining: 27.9s\n",
      "600:\ttest: 0.7407331\tbest: 0.7408494 (435)\ttotal: 13.8s\tremaining: 21s\n",
      "bestTest = 0.7408493757\n",
      "bestIteration = 435\n",
      "Shrink model to first 436 iterations.\n"
     ]
    },
    {
     "name": "stderr",
     "output_type": "stream",
     "text": [
      "[I 2025-02-23 03:45:34,405] Trial 15 finished with value: 0.7408493757247925 and parameters: {'iterations': 1513, 'depth': 6, 'learning_rate': 0.05972793605769974, 'l2_leaf_reg': 9.663069382488281}. Best is trial 10 with value: 0.7412974536418915.\n",
      "Default metric period is 5 because AUC is/are not implemented for GPU\n"
     ]
    },
    {
     "name": "stdout",
     "output_type": "stream",
     "text": [
      "0:\ttest: 0.7244724\tbest: 0.7244724 (0)\ttotal: 58.2ms\tremaining: 2m 42s\n",
      "300:\ttest: 0.7396379\tbest: 0.7402497 (195)\ttotal: 12.5s\tremaining: 1m 42s\n",
      "bestTest = 0.7402496934\n",
      "bestIteration = 195\n",
      "Shrink model to first 196 iterations.\n"
     ]
    },
    {
     "name": "stderr",
     "output_type": "stream",
     "text": [
      "[I 2025-02-23 03:45:58,295] Trial 16 finished with value: 0.7402496933937073 and parameters: {'iterations': 2788, 'depth': 8, 'learning_rate': 0.0808891958156232, 'l2_leaf_reg': 1.8815744634882094}. Best is trial 10 with value: 0.7412974536418915.\n",
      "Default metric period is 5 because AUC is/are not implemented for GPU\n"
     ]
    },
    {
     "name": "stdout",
     "output_type": "stream",
     "text": [
      "0:\ttest: 0.7153738\tbest: 0.7153738 (0)\ttotal: 20.5ms\tremaining: 1m 1s\n",
      "300:\ttest: 0.7405313\tbest: 0.7406253 (256)\ttotal: 5.88s\tremaining: 52.7s\n",
      "600:\ttest: 0.7406588\tbest: 0.7406998 (597)\ttotal: 11.4s\tremaining: 45.7s\n",
      "900:\ttest: 0.7403224\tbest: 0.7407077 (616)\ttotal: 17s\tremaining: 39.6s\n",
      "bestTest = 0.7407076955\n",
      "bestIteration = 616\n",
      "Shrink model to first 617 iterations.\n"
     ]
    },
    {
     "name": "stderr",
     "output_type": "stream",
     "text": [
      "[I 2025-02-23 03:46:19,577] Trial 17 finished with value: 0.7407076954841614 and parameters: {'iterations': 2999, 'depth': 5, 'learning_rate': 0.09756908568640506, 'l2_leaf_reg': 17.97132158843658}. Best is trial 10 with value: 0.7412974536418915.\n",
      "Default metric period is 5 because AUC is/are not implemented for GPU\n"
     ]
    },
    {
     "name": "stdout",
     "output_type": "stream",
     "text": [
      "0:\ttest: 0.7153808\tbest: 0.7153808 (0)\ttotal: 33.4ms\tremaining: 1m 22s\n",
      "300:\ttest: 0.7406700\tbest: 0.7406726 (298)\ttotal: 6.6s\tremaining: 47.8s\n",
      "600:\ttest: 0.7410166\tbest: 0.7410772 (566)\ttotal: 12.1s\tremaining: 37.9s\n",
      "900:\ttest: 0.7410139\tbest: 0.7411150 (675)\ttotal: 17.7s\tremaining: 31s\n",
      "bestTest = 0.741114974\n",
      "bestIteration = 675\n",
      "Shrink model to first 676 iterations.\n"
     ]
    },
    {
     "name": "stderr",
     "output_type": "stream",
     "text": [
      "[I 2025-02-23 03:46:42,763] Trial 18 finished with value: 0.7411149740219116 and parameters: {'iterations': 2482, 'depth': 5, 'learning_rate': 0.05970016430294879, 'l2_leaf_reg': 27.476376202913}. Best is trial 10 with value: 0.7412974536418915.\n",
      "Default metric period is 5 because AUC is/are not implemented for GPU\n"
     ]
    },
    {
     "name": "stdout",
     "output_type": "stream",
     "text": [
      "0:\ttest: 0.7262791\tbest: 0.7262791 (0)\ttotal: 77.1ms\tremaining: 3m 33s\n",
      "300:\ttest: 0.7403117\tbest: 0.7404945 (241)\ttotal: 16.9s\tremaining: 2m 18s\n",
      "600:\ttest: 0.7396642\tbest: 0.7405816 (362)\ttotal: 33s\tremaining: 1m 59s\n",
      "bestTest = 0.7405816317\n",
      "bestIteration = 362\n",
      "Shrink model to first 363 iterations.\n"
     ]
    },
    {
     "name": "stderr",
     "output_type": "stream",
     "text": [
      "[I 2025-02-23 03:47:23,124] Trial 19 finished with value: 0.7405816316604614 and parameters: {'iterations': 2774, 'depth': 9, 'learning_rate': 0.03744929706975118, 'l2_leaf_reg': 2.763664557647676}. Best is trial 10 with value: 0.7412974536418915.\n",
      "Default metric period is 5 because AUC is/are not implemented for GPU\n"
     ]
    },
    {
     "name": "stdout",
     "output_type": "stream",
     "text": [
      "0:\ttest: 0.7220373\tbest: 0.7220373 (0)\ttotal: 42.1ms\tremaining: 1m 52s\n",
      "300:\ttest: 0.7409542\tbest: 0.7409987 (293)\ttotal: 10.1s\tremaining: 1m 19s\n",
      "600:\ttest: 0.7409583\tbest: 0.7411063 (428)\ttotal: 18.6s\tremaining: 1m 4s\n",
      "bestTest = 0.7411062717\n",
      "bestIteration = 428\n",
      "Shrink model to first 429 iterations.\n"
     ]
    },
    {
     "name": "stderr",
     "output_type": "stream",
     "text": [
      "[I 2025-02-23 03:47:48,676] Trial 20 finished with value: 0.7411062717437744 and parameters: {'iterations': 2680, 'depth': 6, 'learning_rate': 0.08608942945026384, 'l2_leaf_reg': 99.4230842016086}. Best is trial 10 with value: 0.7412974536418915.\n",
      "Default metric period is 5 because AUC is/are not implemented for GPU\n"
     ]
    },
    {
     "name": "stdout",
     "output_type": "stream",
     "text": [
      "0:\ttest: 0.7220950\tbest: 0.7220950 (0)\ttotal: 33.3ms\tremaining: 1m 36s\n",
      "300:\ttest: 0.7409566\tbest: 0.7410178 (292)\ttotal: 8.6s\tremaining: 1m 14s\n",
      "600:\ttest: 0.7409714\tbest: 0.7411867 (407)\ttotal: 17.7s\tremaining: 1m 7s\n",
      "bestTest = 0.741186738\n",
      "bestIteration = 407\n",
      "Shrink model to first 408 iterations.\n"
     ]
    },
    {
     "name": "stderr",
     "output_type": "stream",
     "text": [
      "[I 2025-02-23 03:48:13,406] Trial 21 finished with value: 0.7411867380142212 and parameters: {'iterations': 2900, 'depth': 6, 'learning_rate': 0.07360126881183988, 'l2_leaf_reg': 33.894253733241015}. Best is trial 10 with value: 0.7412974536418915.\n",
      "Default metric period is 5 because AUC is/are not implemented for GPU\n"
     ]
    },
    {
     "name": "stdout",
     "output_type": "stream",
     "text": [
      "0:\ttest: 0.7244581\tbest: 0.7244581 (0)\ttotal: 32.9ms\tremaining: 1m 34s\n",
      "300:\ttest: 0.7411621\tbest: 0.7412554 (221)\ttotal: 10.3s\tremaining: 1m 28s\n",
      "bestTest = 0.7412554026\n",
      "bestIteration = 221\n",
      "Shrink model to first 222 iterations.\n"
     ]
    },
    {
     "name": "stderr",
     "output_type": "stream",
     "text": [
      "[I 2025-02-23 03:48:36,147] Trial 22 finished with value: 0.7412554025650024 and parameters: {'iterations': 2884, 'depth': 7, 'learning_rate': 0.07426743788891002, 'l2_leaf_reg': 26.793808193554963}. Best is trial 10 with value: 0.7412974536418915.\n",
      "Default metric period is 5 because AUC is/are not implemented for GPU\n"
     ]
    },
    {
     "name": "stdout",
     "output_type": "stream",
     "text": [
      "0:\ttest: 0.7244617\tbest: 0.7244617 (0)\ttotal: 46.8ms\tremaining: 2m 13s\n",
      "300:\ttest: 0.7406344\tbest: 0.7407499 (226)\ttotal: 10.5s\tremaining: 1m 29s\n",
      "bestTest = 0.7407498956\n",
      "bestIteration = 226\n",
      "Shrink model to first 227 iterations.\n"
     ]
    },
    {
     "name": "stderr",
     "output_type": "stream",
     "text": [
      "[I 2025-02-23 03:48:57,494] Trial 23 finished with value: 0.7407498955726624 and parameters: {'iterations': 2849, 'depth': 7, 'learning_rate': 0.08822301905998375, 'l2_leaf_reg': 24.246184155884656}. Best is trial 10 with value: 0.7412974536418915.\n",
      "Default metric period is 5 because AUC is/are not implemented for GPU\n"
     ]
    },
    {
     "name": "stdout",
     "output_type": "stream",
     "text": [
      "0:\ttest: 0.7218433\tbest: 0.7218433 (0)\ttotal: 54.4ms\tremaining: 2m 20s\n",
      "300:\ttest: 0.7409000\tbest: 0.7410778 (245)\ttotal: 10s\tremaining: 1m 16s\n",
      "bestTest = 0.7410777807\n",
      "bestIteration = 245\n",
      "Shrink model to first 246 iterations.\n"
     ]
    },
    {
     "name": "stderr",
     "output_type": "stream",
     "text": [
      "[I 2025-02-23 03:49:18,688] Trial 24 finished with value: 0.7410777807235718 and parameters: {'iterations': 2590, 'depth': 7, 'learning_rate': 0.07589613702788456, 'l2_leaf_reg': 6.813512155558402}. Best is trial 10 with value: 0.7412974536418915.\n",
      "Default metric period is 5 because AUC is/are not implemented for GPU\n"
     ]
    },
    {
     "name": "stdout",
     "output_type": "stream",
     "text": [
      "0:\ttest: 0.7153791\tbest: 0.7153791 (0)\ttotal: 32.9ms\tremaining: 1m 38s\n",
      "300:\ttest: 0.7403628\tbest: 0.7403651 (299)\ttotal: 6.52s\tremaining: 58.3s\n",
      "600:\ttest: 0.7408049\tbest: 0.7408548 (590)\ttotal: 12s\tremaining: 47.9s\n",
      "900:\ttest: 0.7409657\tbest: 0.7409779 (897)\ttotal: 17.6s\tremaining: 40.8s\n",
      "1200:\ttest: 0.7409795\tbest: 0.7410062 (1195)\ttotal: 23.2s\tremaining: 34.6s\n",
      "1500:\ttest: 0.7408609\tbest: 0.7410975 (1279)\ttotal: 28.8s\tremaining: 28.6s\n",
      "bestTest = 0.7410975099\n",
      "bestIteration = 1279\n",
      "Shrink model to first 1280 iterations.\n"
     ]
    },
    {
     "name": "stderr",
     "output_type": "stream",
     "text": [
      "[I 2025-02-23 03:49:53,179] Trial 25 finished with value: 0.7410975098609924 and parameters: {'iterations': 2992, 'depth': 5, 'learning_rate': 0.0633290210296596, 'l2_leaf_reg': 32.063075700063294}. Best is trial 10 with value: 0.7412974536418915.\n",
      "Default metric period is 5 because AUC is/are not implemented for GPU\n"
     ]
    },
    {
     "name": "stdout",
     "output_type": "stream",
     "text": [
      "0:\ttest: 0.7218319\tbest: 0.7218319 (0)\ttotal: 34.4ms\tremaining: 1m 24s\n",
      "300:\ttest: 0.7407066\tbest: 0.7407770 (289)\ttotal: 9.1s\tremaining: 1m 4s\n",
      "bestTest = 0.7407769561\n",
      "bestIteration = 289\n",
      "Shrink model to first 290 iterations.\n"
     ]
    },
    {
     "name": "stderr",
     "output_type": "stream",
     "text": [
      "[I 2025-02-23 03:50:14,780] Trial 26 finished with value: 0.7407769560813904 and parameters: {'iterations': 2442, 'depth': 7, 'learning_rate': 0.0742866838537976, 'l2_leaf_reg': 4.342397790956763}. Best is trial 10 with value: 0.7412974536418915.\n",
      "Default metric period is 5 because AUC is/are not implemented for GPU\n"
     ]
    },
    {
     "name": "stdout",
     "output_type": "stream",
     "text": [
      "0:\ttest: 0.7255529\tbest: 0.7255529 (0)\ttotal: 38.5ms\tremaining: 1m 43s\n",
      "300:\ttest: 0.7402105\tbest: 0.7407259 (223)\ttotal: 11.5s\tremaining: 1m 30s\n",
      "bestTest = 0.7407259047\n",
      "bestIteration = 223\n",
      "Shrink model to first 224 iterations.\n"
     ]
    },
    {
     "name": "stderr",
     "output_type": "stream",
     "text": [
      "[I 2025-02-23 03:50:38,833] Trial 27 finished with value: 0.7407259047031403 and parameters: {'iterations': 2679, 'depth': 8, 'learning_rate': 0.08707650873003747, 'l2_leaf_reg': 18.200106566109696}. Best is trial 10 with value: 0.7412974536418915.\n",
      "Default metric period is 5 because AUC is/are not implemented for GPU\n"
     ]
    },
    {
     "name": "stdout",
     "output_type": "stream",
     "text": [
      "0:\ttest: 0.7262798\tbest: 0.7262798 (0)\ttotal: 84ms\tremaining: 4m 3s\n",
      "300:\ttest: 0.7398773\tbest: 0.7408092 (168)\ttotal: 17s\tremaining: 2m 26s\n",
      "bestTest = 0.7408092022\n",
      "bestIteration = 168\n",
      "Shrink model to first 169 iterations.\n"
     ]
    },
    {
     "name": "stderr",
     "output_type": "stream",
     "text": [
      "[I 2025-02-23 03:51:09,004] Trial 28 finished with value: 0.7408092021942139 and parameters: {'iterations': 2895, 'depth': 9, 'learning_rate': 0.06461998844978646, 'l2_leaf_reg': 1.1744317755387594}. Best is trial 10 with value: 0.7412974536418915.\n",
      "Default metric period is 5 because AUC is/are not implemented for GPU\n"
     ]
    },
    {
     "name": "stdout",
     "output_type": "stream",
     "text": [
      "0:\ttest: 0.7221251\tbest: 0.7221251 (0)\ttotal: 41.5ms\tremaining: 1m 37s\n",
      "300:\ttest: 0.7408444\tbest: 0.7410223 (256)\ttotal: 7.99s\tremaining: 54.7s\n"
     ]
    },
    {
     "name": "stderr",
     "output_type": "stream",
     "text": [
      "[I 2025-02-23 03:51:26,877] Trial 29 finished with value: 0.7410223186016083 and parameters: {'iterations': 2360, 'depth': 6, 'learning_rate': 0.0997987467417374, 'l2_leaf_reg': 10.190739489801594}. Best is trial 10 with value: 0.7412974536418915.\n"
     ]
    },
    {
     "name": "stdout",
     "output_type": "stream",
     "text": [
      "bestTest = 0.7410223186\n",
      "bestIteration = 256\n",
      "Shrink model to first 257 iterations.\n"
     ]
    },
    {
     "name": "stderr",
     "output_type": "stream",
     "text": [
      "Default metric period is 5 because AUC is/are not implemented for GPU\n"
     ]
    },
    {
     "name": "stdout",
     "output_type": "stream",
     "text": [
      "0:\ttest: 0.7276857\tbest: 0.7276857 (0)\ttotal: 69.6ms\tremaining: 3m 14s\n",
      "300:\ttest: 0.7403565\tbest: 0.7407897 (173)\ttotal: 18.1s\tremaining: 2m 30s\n",
      "bestTest = 0.7407897115\n",
      "bestIteration = 173\n",
      "Shrink model to first 174 iterations.\n"
     ]
    },
    {
     "name": "stderr",
     "output_type": "stream",
     "text": [
      "[I 2025-02-23 03:51:58,200] Trial 30 finished with value: 0.7407897114753723 and parameters: {'iterations': 2797, 'depth': 9, 'learning_rate': 0.07384269980147438, 'l2_leaf_reg': 48.48528016113126}. Best is trial 10 with value: 0.7412974536418915.\n",
      "Default metric period is 5 because AUC is/are not implemented for GPU\n"
     ]
    },
    {
     "name": "stdout",
     "output_type": "stream",
     "text": [
      "0:\ttest: 0.7220943\tbest: 0.7220943 (0)\ttotal: 40.7ms\tremaining: 1m 57s\n",
      "300:\ttest: 0.7409042\tbest: 0.7409552 (292)\ttotal: 9.42s\tremaining: 1m 20s\n",
      "600:\ttest: 0.7407604\tbest: 0.7410790 (457)\ttotal: 17.8s\tremaining: 1m 7s\n",
      "bestTest = 0.7410789728\n",
      "bestIteration = 457\n",
      "Shrink model to first 458 iterations.\n"
     ]
    },
    {
     "name": "stderr",
     "output_type": "stream",
     "text": [
      "[I 2025-02-23 03:52:23,600] Trial 31 finished with value: 0.7410789728164673 and parameters: {'iterations': 2887, 'depth': 6, 'learning_rate': 0.0720822819667787, 'l2_leaf_reg': 35.60090780280767}. Best is trial 10 with value: 0.7412974536418915.\n",
      "Default metric period is 5 because AUC is/are not implemented for GPU\n"
     ]
    },
    {
     "name": "stdout",
     "output_type": "stream",
     "text": [
      "0:\ttest: 0.7153791\tbest: 0.7153791 (0)\ttotal: 22.1ms\tremaining: 1m 4s\n",
      "300:\ttest: 0.7408558\tbest: 0.7409180 (284)\ttotal: 7.79s\tremaining: 1m 7s\n",
      "600:\ttest: 0.7413386\tbest: 0.7413620 (593)\ttotal: 15.4s\tremaining: 59.3s\n",
      "900:\ttest: 0.7412918\tbest: 0.7414317 (635)\ttotal: 24s\tremaining: 53.6s\n",
      "bestTest = 0.7414317131\n",
      "bestIteration = 635\n",
      "Shrink model to first 636 iterations.\n"
     ]
    },
    {
     "name": "stderr",
     "output_type": "stream",
     "text": [
      "[I 2025-02-23 03:52:52,634] Trial 32 finished with value: 0.741431713104248 and parameters: {'iterations': 2915, 'depth': 5, 'learning_rate': 0.07855414039603811, 'l2_leaf_reg': 44.77816585933678}. Best is trial 32 with value: 0.741431713104248.\n"
     ]
    },
    {
     "name": "stdout",
     "output_type": "stream",
     "text": [
      "저장 완료\n"
     ]
    },
    {
     "name": "stderr",
     "output_type": "stream",
     "text": [
      "Default metric period is 5 because AUC is/are not implemented for GPU\n"
     ]
    },
    {
     "name": "stdout",
     "output_type": "stream",
     "text": [
      "0:\ttest: 0.7153738\tbest: 0.7153738 (0)\ttotal: 25.3ms\tremaining: 1m 8s\n",
      "300:\ttest: 0.7407117\tbest: 0.7407379 (264)\ttotal: 6.85s\tremaining: 54.7s\n",
      "600:\ttest: 0.7412551\tbest: 0.7412929 (590)\ttotal: 12.2s\tremaining: 42.5s\n",
      "900:\ttest: 0.7411006\tbest: 0.7413409 (655)\ttotal: 17.5s\tremaining: 35.1s\n",
      "bestTest = 0.7413409352\n",
      "bestIteration = 655\n",
      "Shrink model to first 656 iterations.\n"
     ]
    },
    {
     "name": "stderr",
     "output_type": "stream",
     "text": [
      "[I 2025-02-23 03:53:15,201] Trial 33 finished with value: 0.7413409352302551 and parameters: {'iterations': 2702, 'depth': 5, 'learning_rate': 0.0815536976484682, 'l2_leaf_reg': 11.561933830208508}. Best is trial 32 with value: 0.741431713104248.\n",
      "Default metric period is 5 because AUC is/are not implemented for GPU\n"
     ]
    },
    {
     "name": "stdout",
     "output_type": "stream",
     "text": [
      "0:\ttest: 0.7153738\tbest: 0.7153738 (0)\ttotal: 21ms\tremaining: 56.9s\n",
      "300:\ttest: 0.7408104\tbest: 0.7408112 (299)\ttotal: 6.69s\tremaining: 53.5s\n",
      "600:\ttest: 0.7410578\tbest: 0.7410922 (590)\ttotal: 13.4s\tremaining: 47.1s\n",
      "900:\ttest: 0.7409497\tbest: 0.7412093 (655)\ttotal: 20.3s\tremaining: 40.7s\n",
      "bestTest = 0.7412093282\n",
      "bestIteration = 655\n",
      "Shrink model to first 656 iterations.\n"
     ]
    },
    {
     "name": "stderr",
     "output_type": "stream",
     "text": [
      "[I 2025-02-23 03:53:40,548] Trial 34 finished with value: 0.7412093281745911 and parameters: {'iterations': 2708, 'depth': 5, 'learning_rate': 0.08012716961308441, 'l2_leaf_reg': 13.430650692083576}. Best is trial 32 with value: 0.741431713104248.\n",
      "Default metric period is 5 because AUC is/are not implemented for GPU\n"
     ]
    },
    {
     "name": "stdout",
     "output_type": "stream",
     "text": [
      "0:\ttest: 0.7117603\tbest: 0.7117603 (0)\ttotal: 25.7ms\tremaining: 57.2s\n",
      "300:\ttest: 0.7407647\tbest: 0.7407727 (299)\ttotal: 4.17s\tremaining: 26.7s\n",
      "600:\ttest: 0.7409512\tbest: 0.7410044 (435)\ttotal: 8.33s\tremaining: 22.6s\n",
      "900:\ttest: 0.7410390\tbest: 0.7410672 (702)\ttotal: 12.5s\tremaining: 18.5s\n",
      "1200:\ttest: 0.7407341\tbest: 0.7410718 (921)\ttotal: 16.7s\tremaining: 14.3s\n",
      "bestTest = 0.7410717607\n",
      "bestIteration = 921\n",
      "Shrink model to first 922 iterations.\n"
     ]
    },
    {
     "name": "stderr",
     "output_type": "stream",
     "text": [
      "[I 2025-02-23 03:54:01,564] Trial 35 finished with value: 0.7410717606544495 and parameters: {'iterations': 2231, 'depth': 4, 'learning_rate': 0.0901597085285444, 'l2_leaf_reg': 3.69184735172986}. Best is trial 32 with value: 0.741431713104248.\n",
      "Default metric period is 5 because AUC is/are not implemented for GPU\n"
     ]
    },
    {
     "name": "stdout",
     "output_type": "stream",
     "text": [
      "0:\ttest: 0.7153738\tbest: 0.7153738 (0)\ttotal: 31.1ms\tremaining: 1m 17s\n",
      "300:\ttest: 0.7410452\tbest: 0.7410577 (299)\ttotal: 6.32s\tremaining: 46.3s\n",
      "600:\ttest: 0.7412462\tbest: 0.7413434 (568)\ttotal: 11.6s\tremaining: 36.9s\n",
      "bestTest = 0.7413434088\n",
      "bestIteration = 568\n",
      "Shrink model to first 569 iterations.\n"
     ]
    },
    {
     "name": "stderr",
     "output_type": "stream",
     "text": [
      "[I 2025-02-23 03:54:22,021] Trial 36 finished with value: 0.7413434088230133 and parameters: {'iterations': 2505, 'depth': 5, 'learning_rate': 0.08394195030461032, 'l2_leaf_reg': 14.421938149457356}. Best is trial 32 with value: 0.741431713104248.\n",
      "Default metric period is 5 because AUC is/are not implemented for GPU\n"
     ]
    },
    {
     "name": "stdout",
     "output_type": "stream",
     "text": [
      "0:\ttest: 0.7117603\tbest: 0.7117603 (0)\ttotal: 21.6ms\tremaining: 55.6s\n",
      "300:\ttest: 0.7405814\tbest: 0.7405817 (299)\ttotal: 4.6s\tremaining: 34.7s\n",
      "600:\ttest: 0.7409832\tbest: 0.7409832 (600)\ttotal: 8.75s\tremaining: 28.7s\n",
      "900:\ttest: 0.7409112\tbest: 0.7410119 (612)\ttotal: 13.7s\tremaining: 25.3s\n",
      "bestTest = 0.7410119176\n",
      "bestIteration = 612\n",
      "Shrink model to first 613 iterations.\n"
     ]
    },
    {
     "name": "stderr",
     "output_type": "stream",
     "text": [
      "[I 2025-02-23 03:54:40,191] Trial 37 finished with value: 0.741011917591095 and parameters: {'iterations': 2570, 'depth': 4, 'learning_rate': 0.09413474989929024, 'l2_leaf_reg': 6.764695895267549}. Best is trial 32 with value: 0.741431713104248.\n",
      "Default metric period is 5 because AUC is/are not implemented for GPU\n"
     ]
    },
    {
     "name": "stdout",
     "output_type": "stream",
     "text": [
      "0:\ttest: 0.7153791\tbest: 0.7153791 (0)\ttotal: 19.6ms\tremaining: 48.4s\n",
      "300:\ttest: 0.7408598\tbest: 0.7408648 (299)\ttotal: 5.32s\tremaining: 38.3s\n",
      "600:\ttest: 0.7412030\tbest: 0.7412332 (590)\ttotal: 11.7s\tremaining: 36.2s\n",
      "900:\ttest: 0.7410508\tbest: 0.7412428 (612)\ttotal: 17s\tremaining: 29.6s\n"
     ]
    },
    {
     "name": "stderr",
     "output_type": "stream",
     "text": [
      "[I 2025-02-23 03:55:01,164] Trial 38 finished with value: 0.7412427663803101 and parameters: {'iterations': 2467, 'depth': 5, 'learning_rate': 0.08374065845040025, 'l2_leaf_reg': 48.14335445781366}. Best is trial 32 with value: 0.741431713104248.\n"
     ]
    },
    {
     "name": "stdout",
     "output_type": "stream",
     "text": [
      "bestTest = 0.7412427664\n",
      "bestIteration = 612\n",
      "Shrink model to first 613 iterations.\n"
     ]
    },
    {
     "name": "stderr",
     "output_type": "stream",
     "text": [
      "Default metric period is 5 because AUC is/are not implemented for GPU\n"
     ]
    },
    {
     "name": "stdout",
     "output_type": "stream",
     "text": [
      "0:\ttest: 0.7117603\tbest: 0.7117603 (0)\ttotal: 17.8ms\tremaining: 41.3s\n",
      "300:\ttest: 0.7404264\tbest: 0.7404264 (300)\ttotal: 5.02s\tremaining: 33.7s\n",
      "600:\ttest: 0.7408472\tbest: 0.7408502 (589)\ttotal: 9.61s\tremaining: 27.5s\n",
      "900:\ttest: 0.7409237\tbest: 0.7409930 (735)\ttotal: 14s\tremaining: 22.1s\n"
     ]
    },
    {
     "name": "stderr",
     "output_type": "stream",
     "text": [
      "[I 2025-02-23 03:55:20,954] Trial 39 finished with value: 0.7409929633140564 and parameters: {'iterations': 2323, 'depth': 4, 'learning_rate': 0.09015793327655677, 'l2_leaf_reg': 13.950952285730713}. Best is trial 32 with value: 0.741431713104248.\n",
      "[I 2025-02-23 03:55:20,961] A new study created in memory with name: no-name-dbc57bbf-a5a1-44c0-87f4-484ee86e0983\n"
     ]
    },
    {
     "name": "stdout",
     "output_type": "stream",
     "text": [
      "bestTest = 0.7409929633\n",
      "bestIteration = 735\n",
      "Shrink model to first 736 iterations.\n"
     ]
    },
    {
     "name": "stderr",
     "output_type": "stream",
     "text": [
      "[I 2025-02-23 03:55:25,014] Trial 0 finished with value: 0.7408656929575724 and parameters: {'num_iterations': 2366, 'objective': 'binary', 'metric': 'auc', 'verbose': -1, 'learning_rate': 0.0652646236447618, 'n_estimators': 236, 'min_child_samples': 45, 'subsample': 0.7, 'colsample_bytree': 0.5}. Best is trial 0 with value: 0.7408656929575724.\n",
      "[I 2025-02-23 03:55:37,113] Trial 1 finished with value: 0.7410486538295885 and parameters: {'num_iterations': 1510, 'objective': 'binary', 'metric': 'auc', 'verbose': -1, 'learning_rate': 0.005231880959249543, 'n_estimators': 1411, 'min_child_samples': 10, 'subsample': 1.0, 'colsample_bytree': 0.5}. Best is trial 1 with value: 0.7410486538295885.\n",
      "[I 2025-02-23 03:55:43,753] Trial 2 finished with value: 0.7402733830430904 and parameters: {'num_iterations': 2334, 'objective': 'binary', 'metric': 'auc', 'verbose': -1, 'learning_rate': 0.006578527777128852, 'n_estimators': 931, 'min_child_samples': 15, 'subsample': 0.5, 'colsample_bytree': 1.0}. Best is trial 1 with value: 0.7410486538295885.\n",
      "[I 2025-02-23 03:55:53,841] Trial 3 finished with value: 0.7411569659669828 and parameters: {'num_iterations': 1620, 'objective': 'binary', 'metric': 'auc', 'verbose': -1, 'learning_rate': 0.0058823249237283685, 'n_estimators': 837, 'min_child_samples': 10, 'subsample': 0.9, 'colsample_bytree': 0.6}. Best is trial 3 with value: 0.7411569659669828.\n",
      "[I 2025-02-23 03:55:59,668] Trial 4 finished with value: 0.7408308899703937 and parameters: {'num_iterations': 1997, 'objective': 'binary', 'metric': 'auc', 'verbose': -1, 'learning_rate': 0.010907507425244923, 'n_estimators': 1597, 'min_child_samples': 50, 'subsample': 0.6, 'colsample_bytree': 0.8}. Best is trial 3 with value: 0.7411569659669828.\n",
      "[I 2025-02-23 03:56:03,566] Trial 5 finished with value: 0.7406131419939085 and parameters: {'num_iterations': 2909, 'objective': 'binary', 'metric': 'auc', 'verbose': -1, 'learning_rate': 0.019760591962733942, 'n_estimators': 612, 'min_child_samples': 30, 'subsample': 0.7, 'colsample_bytree': 0.9}. Best is trial 3 with value: 0.7411569659669828.\n",
      "[I 2025-02-23 03:56:07,697] Trial 6 finished with value: 0.7410884360461936 and parameters: {'num_iterations': 2639, 'objective': 'binary', 'metric': 'auc', 'verbose': -1, 'learning_rate': 0.017862094446750985, 'n_estimators': 794, 'min_child_samples': 35, 'subsample': 1.0, 'colsample_bytree': 0.8}. Best is trial 3 with value: 0.7411569659669828.\n",
      "[I 2025-02-23 03:56:13,393] Trial 7 finished with value: 0.7412197423762578 and parameters: {'num_iterations': 1580, 'objective': 'binary', 'metric': 'auc', 'verbose': -1, 'learning_rate': 0.01776722177611332, 'n_estimators': 529, 'min_child_samples': 25, 'subsample': 0.8, 'colsample_bytree': 0.5}. Best is trial 7 with value: 0.7412197423762578.\n",
      "[I 2025-02-23 03:56:16,524] Trial 8 finished with value: 0.7410366306185016 and parameters: {'num_iterations': 1911, 'objective': 'binary', 'metric': 'auc', 'verbose': -1, 'learning_rate': 0.0304747553332844, 'n_estimators': 1328, 'min_child_samples': 10, 'subsample': 0.7, 'colsample_bytree': 0.6}. Best is trial 7 with value: 0.7412197423762578.\n",
      "[I 2025-02-23 03:56:21,123] Trial 9 finished with value: 0.7413658791863119 and parameters: {'num_iterations': 2739, 'objective': 'binary', 'metric': 'auc', 'verbose': -1, 'learning_rate': 0.02691531614176271, 'n_estimators': 1438, 'min_child_samples': 20, 'subsample': 0.6, 'colsample_bytree': 0.5}. Best is trial 9 with value: 0.7413658791863119.\n",
      "[I 2025-02-23 03:56:23,521] Trial 10 finished with value: 0.7405658194609712 and parameters: {'num_iterations': 2945, 'objective': 'binary', 'metric': 'auc', 'verbose': -1, 'learning_rate': 0.04092715427752937, 'n_estimators': 1962, 'min_child_samples': 20, 'subsample': 0.5, 'colsample_bytree': 0.7}. Best is trial 9 with value: 0.7413658791863119.\n",
      "[I 2025-02-23 03:56:29,975] Trial 11 finished with value: 0.7412724253236493 and parameters: {'num_iterations': 2597, 'objective': 'binary', 'metric': 'auc', 'verbose': -1, 'learning_rate': 0.014149153669737905, 'n_estimators': 282, 'min_child_samples': 25, 'subsample': 0.8, 'colsample_bytree': 0.5}. Best is trial 9 with value: 0.7413658791863119.\n",
      "[I 2025-02-23 03:56:36,366] Trial 12 finished with value: 0.7412015050550813 and parameters: {'num_iterations': 2618, 'objective': 'binary', 'metric': 'auc', 'verbose': -1, 'learning_rate': 0.012636173011756879, 'n_estimators': 216, 'min_child_samples': 35, 'subsample': 0.8, 'colsample_bytree': 0.6}. Best is trial 9 with value: 0.7413658791863119.\n",
      "[I 2025-02-23 03:56:39,158] Trial 13 finished with value: 0.7406970304947784 and parameters: {'num_iterations': 2648, 'objective': 'binary', 'metric': 'auc', 'verbose': -1, 'learning_rate': 0.033512406663377806, 'n_estimators': 1112, 'min_child_samples': 20, 'subsample': 0.6, 'colsample_bytree': 0.7}. Best is trial 9 with value: 0.7413658791863119.\n",
      "[I 2025-02-23 03:56:41,457] Trial 14 finished with value: 0.741033978206016 and parameters: {'num_iterations': 2783, 'objective': 'binary', 'metric': 'auc', 'verbose': -1, 'learning_rate': 0.09010541727541226, 'n_estimators': 1729, 'min_child_samples': 25, 'subsample': 0.6, 'colsample_bytree': 0.5}. Best is trial 9 with value: 0.7413658791863119.\n",
      "[I 2025-02-23 03:56:45,130] Trial 15 finished with value: 0.7409068212338071 and parameters: {'num_iterations': 2498, 'objective': 'binary', 'metric': 'auc', 'verbose': -1, 'learning_rate': 0.02655413372188442, 'n_estimators': 1162, 'min_child_samples': 35, 'subsample': 0.8, 'colsample_bytree': 0.6}. Best is trial 9 with value: 0.7413658791863119.\n",
      "[I 2025-02-23 03:56:50,832] Trial 16 finished with value: 0.740855079336953 and parameters: {'num_iterations': 2123, 'objective': 'binary', 'metric': 'auc', 'verbose': -1, 'learning_rate': 0.011371191882668745, 'n_estimators': 457, 'min_child_samples': 20, 'subsample': 0.9, 'colsample_bytree': 0.7}. Best is trial 9 with value: 0.7413658791863119.\n",
      "[I 2025-02-23 03:56:53,844] Trial 17 finished with value: 0.7413087212855205 and parameters: {'num_iterations': 2805, 'objective': 'binary', 'metric': 'auc', 'verbose': -1, 'learning_rate': 0.04326478532673719, 'n_estimators': 1569, 'min_child_samples': 30, 'subsample': 0.9, 'colsample_bytree': 0.5}. Best is trial 9 with value: 0.7413658791863119.\n",
      "[I 2025-02-23 03:56:56,557] Trial 18 finished with value: 0.7409198331435601 and parameters: {'num_iterations': 2793, 'objective': 'binary', 'metric': 'auc', 'verbose': -1, 'learning_rate': 0.05151388636924916, 'n_estimators': 1730, 'min_child_samples': 40, 'subsample': 0.9, 'colsample_bytree': 0.6}. Best is trial 9 with value: 0.7413658791863119.\n",
      "[I 2025-02-23 03:56:58,967] Trial 19 finished with value: 0.7410385722797371 and parameters: {'num_iterations': 2997, 'objective': 'binary', 'metric': 'auc', 'verbose': -1, 'learning_rate': 0.04381459609418823, 'n_estimators': 1421, 'min_child_samples': 30, 'subsample': 0.6, 'colsample_bytree': 0.9}. Best is trial 9 with value: 0.7413658791863119.\n",
      "[I 2025-02-23 03:57:03,879] Trial 20 finished with value: 0.7411561797728629 and parameters: {'num_iterations': 2449, 'objective': 'binary', 'metric': 'auc', 'verbose': -1, 'learning_rate': 0.027158782188135732, 'n_estimators': 1981, 'min_child_samples': 15, 'subsample': 0.9, 'colsample_bytree': 0.5}. Best is trial 9 with value: 0.7413658791863119.\n",
      "[I 2025-02-23 03:57:08,692] Trial 21 finished with value: 0.7411805001717755 and parameters: {'num_iterations': 2816, 'objective': 'binary', 'metric': 'auc', 'verbose': -1, 'learning_rate': 0.025150403139402058, 'n_estimators': 1608, 'min_child_samples': 25, 'subsample': 0.8, 'colsample_bytree': 0.5}. Best is trial 9 with value: 0.7413658791863119.\n",
      "[I 2025-02-23 03:57:11,727] Trial 22 finished with value: 0.7410828334204196 and parameters: {'num_iterations': 2565, 'objective': 'binary', 'metric': 'auc', 'verbose': -1, 'learning_rate': 0.03738503691823558, 'n_estimators': 1210, 'min_child_samples': 30, 'subsample': 1.0, 'colsample_bytree': 0.6}. Best is trial 9 with value: 0.7413658791863119.\n",
      "[I 2025-02-23 03:57:14,334] Trial 23 finished with value: 0.7410688129586137 and parameters: {'num_iterations': 2731, 'objective': 'binary', 'metric': 'auc', 'verbose': -1, 'learning_rate': 0.05463971588203152, 'n_estimators': 1549, 'min_child_samples': 25, 'subsample': 0.7, 'colsample_bytree': 0.5}. Best is trial 9 with value: 0.7413658791863119.\n",
      "[I 2025-02-23 03:57:19,152] Trial 24 finished with value: 0.7412406837287255 and parameters: {'num_iterations': 2245, 'objective': 'binary', 'metric': 'auc', 'verbose': -1, 'learning_rate': 0.021637149699652296, 'n_estimators': 1837, 'min_child_samples': 15, 'subsample': 0.9, 'colsample_bytree': 0.5}. Best is trial 9 with value: 0.7413658791863119.\n",
      "[I 2025-02-23 03:57:22,532] Trial 25 finished with value: 0.7410907827165213 and parameters: {'num_iterations': 2711, 'objective': 'binary', 'metric': 'auc', 'verbose': -1, 'learning_rate': 0.031240054233777244, 'n_estimators': 1008, 'min_child_samples': 20, 'subsample': 0.8, 'colsample_bytree': 0.6}. Best is trial 9 with value: 0.7413658791863119.\n",
      "[I 2025-02-23 03:57:27,495] Trial 26 finished with value: 0.7409304547055342 and parameters: {'num_iterations': 2848, 'objective': 'binary', 'metric': 'auc', 'verbose': -1, 'learning_rate': 0.01593564750861196, 'n_estimators': 1270, 'min_child_samples': 35, 'subsample': 0.5, 'colsample_bytree': 0.7}. Best is trial 9 with value: 0.7413658791863119.\n",
      "[I 2025-02-23 03:57:32,502] Trial 27 finished with value: 0.7413311635540355 and parameters: {'num_iterations': 2537, 'objective': 'binary', 'metric': 'auc', 'verbose': -1, 'learning_rate': 0.023490377370371397, 'n_estimators': 350, 'min_child_samples': 40, 'subsample': 0.7, 'colsample_bytree': 0.5}. Best is trial 9 with value: 0.7413658791863119.\n",
      "[I 2025-02-23 03:57:36,602] Trial 28 finished with value: 0.7408960884928666 and parameters: {'num_iterations': 2455, 'objective': 'binary', 'metric': 'auc', 'verbose': -1, 'learning_rate': 0.02298033044059737, 'n_estimators': 1477, 'min_child_samples': 40, 'subsample': 0.6, 'colsample_bytree': 0.6}. Best is trial 9 with value: 0.7413658791863119.\n",
      "[I 2025-02-23 03:57:39,175] Trial 29 finished with value: 0.7409702805995904 and parameters: {'num_iterations': 2358, 'objective': 'binary', 'metric': 'auc', 'verbose': -1, 'learning_rate': 0.07234407408474254, 'n_estimators': 359, 'min_child_samples': 45, 'subsample': 0.7, 'colsample_bytree': 0.5}. Best is trial 9 with value: 0.7413658791863119.\n",
      "[I 2025-02-23 03:57:42,182] Trial 30 finished with value: 0.7413103413218889 and parameters: {'num_iterations': 2238, 'objective': 'binary', 'metric': 'auc', 'verbose': -1, 'learning_rate': 0.046903386855048294, 'n_estimators': 104, 'min_child_samples': 40, 'subsample': 0.7, 'colsample_bytree': 0.5}. Best is trial 9 with value: 0.7413658791863119.\n",
      "[I 2025-02-23 03:57:45,621] Trial 31 finished with value: 0.741646455190878 and parameters: {'num_iterations': 2183, 'objective': 'binary', 'metric': 'auc', 'verbose': -1, 'learning_rate': 0.042030640541419896, 'n_estimators': 120, 'min_child_samples': 45, 'subsample': 0.7, 'colsample_bytree': 0.5}. Best is trial 31 with value: 0.741646455190878.\n",
      "[I 2025-02-23 03:57:49,314] Trial 32 finished with value: 0.7415038364009767 and parameters: {'num_iterations': 2216, 'objective': 'binary', 'metric': 'auc', 'verbose': -1, 'learning_rate': 0.035975588497438336, 'n_estimators': 109, 'min_child_samples': 50, 'subsample': 0.7, 'colsample_bytree': 0.5}. Best is trial 31 with value: 0.741646455190878.\n",
      "[I 2025-02-23 03:57:53,282] Trial 33 finished with value: 0.7415083470904731 and parameters: {'num_iterations': 2118, 'objective': 'binary', 'metric': 'auc', 'verbose': -1, 'learning_rate': 0.03672250234754425, 'n_estimators': 251, 'min_child_samples': 50, 'subsample': 0.6, 'colsample_bytree': 0.5}. Best is trial 31 with value: 0.741646455190878.\n",
      "[I 2025-02-23 03:57:56,370] Trial 34 finished with value: 0.741231567053476 and parameters: {'num_iterations': 2091, 'objective': 'binary', 'metric': 'auc', 'verbose': -1, 'learning_rate': 0.03622442311013849, 'n_estimators': 158, 'min_child_samples': 50, 'subsample': 0.6, 'colsample_bytree': 0.6}. Best is trial 31 with value: 0.741646455190878.\n",
      "[I 2025-02-23 03:57:59,092] Trial 35 finished with value: 0.7411505493523471 and parameters: {'num_iterations': 1931, 'objective': 'binary', 'metric': 'auc', 'verbose': -1, 'learning_rate': 0.06114650976612315, 'n_estimators': 656, 'min_child_samples': 45, 'subsample': 0.5, 'colsample_bytree': 0.5}. Best is trial 31 with value: 0.741646455190878.\n",
      "[I 2025-02-23 03:58:02,599] Trial 36 finished with value: 0.7411601305968494 and parameters: {'num_iterations': 1785, 'objective': 'binary', 'metric': 'auc', 'verbose': -1, 'learning_rate': 0.03689300807628623, 'n_estimators': 270, 'min_child_samples': 50, 'subsample': 0.6, 'colsample_bytree': 0.6}. Best is trial 31 with value: 0.741646455190878.\n",
      "[I 2025-02-23 03:58:04,775] Trial 37 finished with value: 0.7403951716594903 and parameters: {'num_iterations': 2148, 'objective': 'binary', 'metric': 'auc', 'verbose': -1, 'learning_rate': 0.0314481374916499, 'n_estimators': 436, 'min_child_samples': 45, 'subsample': 0.6, 'colsample_bytree': 1.0}. Best is trial 31 with value: 0.741646455190878.\n",
      "[I 2025-02-23 03:58:06,766] Trial 38 finished with value: 0.7405237024860705 and parameters: {'num_iterations': 2046, 'objective': 'binary', 'metric': 'auc', 'verbose': -1, 'learning_rate': 0.05082201003049871, 'n_estimators': 106, 'min_child_samples': 50, 'subsample': 0.7, 'colsample_bytree': 0.9}. Best is trial 31 with value: 0.741646455190878.\n",
      "[I 2025-02-23 03:58:09,698] Trial 39 finished with value: 0.7407728505792254 and parameters: {'num_iterations': 2315, 'objective': 'binary', 'metric': 'auc', 'verbose': -1, 'learning_rate': 0.028832670764928715, 'n_estimators': 841, 'min_child_samples': 50, 'subsample': 0.5, 'colsample_bytree': 0.8}. Best is trial 31 with value: 0.741646455190878.\n"
     ]
    },
    {
     "name": "stdout",
     "output_type": "stream",
     "text": [
      "Cat val score : 0.7414316613983587\n",
      "LGBM val score : 0.7414513956649049\n",
      "Ensemble val score : 0.7417649918225091\n"
     ]
    },
    {
     "name": "stderr",
     "output_type": "stream",
     "text": [
      "[I 2025-02-23 03:58:13,479] A new study created in memory with name: no-name-a084520a-ed78-48b3-ba60-71780d25c3c4\n"
     ]
    },
    {
     "name": "stdout",
     "output_type": "stream",
     "text": [
      "==================================================\n"
     ]
    },
    {
     "name": "stderr",
     "output_type": "stream",
     "text": [
      "Default metric period is 5 because AUC is/are not implemented for GPU\n"
     ]
    },
    {
     "name": "stdout",
     "output_type": "stream",
     "text": [
      "0:\ttest: 0.7208875\tbest: 0.7208875 (0)\ttotal: 81ms\tremaining: 3m 11s\n",
      "300:\ttest: 0.7336387\tbest: 0.7336387 (300)\ttotal: 24.7s\tremaining: 2m 49s\n",
      "600:\ttest: 0.7349491\tbest: 0.7349514 (597)\ttotal: 49s\tremaining: 2m 24s\n",
      "900:\ttest: 0.7353797\tbest: 0.7353797 (900)\ttotal: 1m 13s\tremaining: 1m 59s\n",
      "1200:\ttest: 0.7355372\tbest: 0.7355372 (1200)\ttotal: 1m 37s\tremaining: 1m 34s\n",
      "1500:\ttest: 0.7354930\tbest: 0.7355927 (1336)\ttotal: 2m 2s\tremaining: 1m 10s\n",
      "bestTest = 0.7355927229\n",
      "bestIteration = 1336\n",
      "Shrink model to first 1337 iterations.\n"
     ]
    },
    {
     "name": "stderr",
     "output_type": "stream",
     "text": [
      "[I 2025-02-23 04:00:29,355] Trial 0 finished with value: 0.7355927228927612 and parameters: {'iterations': 2366, 'depth': 10, 'learning_rate': 0.01181021951839225, 'l2_leaf_reg': 9.980783802743254}. Best is trial 0 with value: 0.7355927228927612.\n"
     ]
    },
    {
     "name": "stdout",
     "output_type": "stream",
     "text": [
      "저장 완료\n"
     ]
    },
    {
     "name": "stderr",
     "output_type": "stream",
     "text": [
      "Default metric period is 5 because AUC is/are not implemented for GPU\n"
     ]
    },
    {
     "name": "stdout",
     "output_type": "stream",
     "text": [
      "0:\ttest: 0.7052417\tbest: 0.7052417 (0)\ttotal: 30.1ms\tremaining: 1m 6s\n",
      "300:\ttest: 0.7246436\tbest: 0.7246436 (300)\ttotal: 6.98s\tremaining: 43.9s\n",
      "600:\ttest: 0.7287106\tbest: 0.7287106 (600)\ttotal: 13s\tremaining: 34.3s\n",
      "900:\ttest: 0.7307952\tbest: 0.7307952 (900)\ttotal: 19.5s\tremaining: 27.9s\n",
      "1200:\ttest: 0.7320632\tbest: 0.7320632 (1200)\ttotal: 24.4s\tremaining: 20.1s\n",
      "1500:\ttest: 0.7327748\tbest: 0.7327748 (1500)\ttotal: 28.5s\tremaining: 13.1s\n",
      "1800:\ttest: 0.7333182\tbest: 0.7333182 (1800)\ttotal: 32.6s\tremaining: 7.09s\n",
      "2100:\ttest: 0.7336618\tbest: 0.7336618 (2100)\ttotal: 36.7s\tremaining: 1.61s\n",
      "2192:\ttest: 0.7337638\tbest: 0.7337645 (2190)\ttotal: 38s\tremaining: 0us\n",
      "bestTest = 0.7337645292\n",
      "bestIteration = 2190\n",
      "Shrink model to first 2191 iterations.\n"
     ]
    },
    {
     "name": "stderr",
     "output_type": "stream",
     "text": [
      "[I 2025-02-23 04:01:11,346] Trial 1 finished with value: 0.7337645292282104 and parameters: {'iterations': 2193, 'depth': 4, 'learning_rate': 0.005671430811678843, 'l2_leaf_reg': 0.00012325230809466137}. Best is trial 0 with value: 0.7355927228927612.\n",
      "Default metric period is 5 because AUC is/are not implemented for GPU\n"
     ]
    },
    {
     "name": "stdout",
     "output_type": "stream",
     "text": [
      "0:\ttest: 0.7052417\tbest: 0.7052417 (0)\ttotal: 26.1ms\tremaining: 1m 6s\n",
      "300:\ttest: 0.7350057\tbest: 0.7350268 (299)\ttotal: 5.99s\tremaining: 44.4s\n",
      "600:\ttest: 0.7357311\tbest: 0.7358327 (574)\ttotal: 11.5s\tremaining: 37s\n"
     ]
    },
    {
     "name": "stderr",
     "output_type": "stream",
     "text": [
      "[I 2025-02-23 04:01:31,860] Trial 2 finished with value: 0.7358327209949493 and parameters: {'iterations': 2535, 'depth': 4, 'learning_rate': 0.09275339199839054, 'l2_leaf_reg': 0.0008705394248343123}. Best is trial 2 with value: 0.7358327209949493.\n"
     ]
    },
    {
     "name": "stdout",
     "output_type": "stream",
     "text": [
      "bestTest = 0.735832721\n",
      "bestIteration = 574\n",
      "Shrink model to first 575 iterations.\n",
      "저장 완료\n"
     ]
    },
    {
     "name": "stderr",
     "output_type": "stream",
     "text": [
      "Default metric period is 5 because AUC is/are not implemented for GPU\n"
     ]
    },
    {
     "name": "stdout",
     "output_type": "stream",
     "text": [
      "0:\ttest: 0.7052417\tbest: 0.7052417 (0)\ttotal: 25.1ms\tremaining: 58.6s\n",
      "300:\ttest: 0.7338884\tbest: 0.7338884 (299)\ttotal: 4.84s\tremaining: 32.7s\n",
      "600:\ttest: 0.7350174\tbest: 0.7350204 (591)\ttotal: 8.91s\tremaining: 25.7s\n",
      "900:\ttest: 0.7353732\tbest: 0.7353732 (900)\ttotal: 13.1s\tremaining: 20.8s\n",
      "1200:\ttest: 0.7355950\tbest: 0.7356113 (1174)\ttotal: 17.2s\tremaining: 16.3s\n",
      "1500:\ttest: 0.7357184\tbest: 0.7357397 (1360)\ttotal: 21.4s\tremaining: 11.9s\n",
      "1800:\ttest: 0.7357503\tbest: 0.7357705 (1649)\ttotal: 26.7s\tremaining: 7.9s\n",
      "2100:\ttest: 0.7358096\tbest: 0.7358232 (2097)\ttotal: 32.1s\tremaining: 3.56s\n",
      "2333:\ttest: 0.7358378\tbest: 0.7358531 (2144)\ttotal: 36.4s\tremaining: 0us\n",
      "bestTest = 0.7358531356\n",
      "bestIteration = 2144\n",
      "Shrink model to first 2145 iterations.\n"
     ]
    },
    {
     "name": "stderr",
     "output_type": "stream",
     "text": [
      "[I 2025-02-23 04:02:12,707] Trial 3 finished with value: 0.7358531355857849 and parameters: {'iterations': 2334, 'depth': 4, 'learning_rate': 0.04657568321363276, 'l2_leaf_reg': 0.0008640473331457248}. Best is trial 3 with value: 0.7358531355857849.\n"
     ]
    },
    {
     "name": "stdout",
     "output_type": "stream",
     "text": [
      "저장 완료\n"
     ]
    },
    {
     "name": "stderr",
     "output_type": "stream",
     "text": [
      "Default metric period is 5 because AUC is/are not implemented for GPU\n"
     ]
    },
    {
     "name": "stdout",
     "output_type": "stream",
     "text": [
      "0:\ttest: 0.7207180\tbest: 0.7207180 (0)\ttotal: 105ms\tremaining: 3m 2s\n",
      "300:\ttest: 0.7330846\tbest: 0.7331069 (296)\ttotal: 24.7s\tremaining: 1m 58s\n",
      "600:\ttest: 0.7336525\tbest: 0.7341259 (447)\ttotal: 49s\tremaining: 1m 33s\n",
      "bestTest = 0.7341258824\n",
      "bestIteration = 447\n",
      "Shrink model to first 448 iterations.\n"
     ]
    },
    {
     "name": "stderr",
     "output_type": "stream",
     "text": [
      "[I 2025-02-23 04:03:17,834] Trial 4 finished with value: 0.7341258823871613 and parameters: {'iterations': 1742, 'depth': 10, 'learning_rate': 0.012622767482095846, 'l2_leaf_reg': 0.00021158816350109617}. Best is trial 3 with value: 0.7358531355857849.\n",
      "Default metric period is 5 because AUC is/are not implemented for GPU\n"
     ]
    },
    {
     "name": "stdout",
     "output_type": "stream",
     "text": [
      "0:\ttest: 0.7052417\tbest: 0.7052417 (0)\ttotal: 16ms\tremaining: 33.2s\n",
      "300:\ttest: 0.7346125\tbest: 0.7346502 (299)\ttotal: 4.5s\tremaining: 26.7s\n",
      "600:\ttest: 0.7352920\tbest: 0.7353036 (560)\ttotal: 8.64s\tremaining: 21.3s\n",
      "900:\ttest: 0.7355354\tbest: 0.7355497 (805)\ttotal: 12.8s\tremaining: 16.8s\n",
      "1200:\ttest: 0.7356187\tbest: 0.7356384 (1178)\ttotal: 17s\tremaining: 12.5s\n",
      "1500:\ttest: 0.7356967\tbest: 0.7357055 (1496)\ttotal: 21.1s\tremaining: 8.18s\n",
      "1800:\ttest: 0.7354089\tbest: 0.7357108 (1538)\ttotal: 25.3s\tremaining: 3.95s\n",
      "bestTest = 0.7357107997\n",
      "bestIteration = 1538\n",
      "Shrink model to first 1539 iterations.\n"
     ]
    },
    {
     "name": "stderr",
     "output_type": "stream",
     "text": [
      "[I 2025-02-23 04:03:47,557] Trial 5 finished with value: 0.7357107996940613 and parameters: {'iterations': 2082, 'depth': 4, 'learning_rate': 0.06995196593094148, 'l2_leaf_reg': 0.0018080296485396804}. Best is trial 3 with value: 0.7358531355857849.\n",
      "Default metric period is 5 because AUC is/are not implemented for GPU\n"
     ]
    },
    {
     "name": "stdout",
     "output_type": "stream",
     "text": [
      "0:\ttest: 0.7085915\tbest: 0.7085915 (0)\ttotal: 32.3ms\tremaining: 1m 4s\n",
      "300:\ttest: 0.7354539\tbest: 0.7354802 (296)\ttotal: 6.41s\tremaining: 36.1s\n",
      "600:\ttest: 0.7358828\tbest: 0.7359684 (513)\ttotal: 11.7s\tremaining: 27.2s\n",
      "900:\ttest: 0.7359369\tbest: 0.7360846 (701)\ttotal: 17.1s\tremaining: 20.8s\n",
      "bestTest = 0.73608464\n",
      "bestIteration = 701\n",
      "Shrink model to first 702 iterations.\n"
     ]
    },
    {
     "name": "stderr",
     "output_type": "stream",
     "text": [
      "[I 2025-02-23 04:04:10,555] Trial 6 finished with value: 0.7360846400260925 and parameters: {'iterations': 1997, 'depth': 5, 'learning_rate': 0.07985155992831598, 'l2_leaf_reg': 62.52181000710482}. Best is trial 6 with value: 0.7360846400260925.\n"
     ]
    },
    {
     "name": "stdout",
     "output_type": "stream",
     "text": [
      "저장 완료\n"
     ]
    },
    {
     "name": "stderr",
     "output_type": "stream",
     "text": [
      "Default metric period is 5 because AUC is/are not implemented for GPU\n"
     ]
    },
    {
     "name": "stdout",
     "output_type": "stream",
     "text": [
      "0:\ttest: 0.7172658\tbest: 0.7172658 (0)\ttotal: 45.5ms\tremaining: 1m 27s\n",
      "300:\ttest: 0.7352382\tbest: 0.7355390 (284)\ttotal: 9.38s\tremaining: 50.7s\n"
     ]
    },
    {
     "name": "stderr",
     "output_type": "stream",
     "text": [
      "[I 2025-02-23 04:04:32,117] Trial 7 finished with value: 0.7355389595031738 and parameters: {'iterations': 1927, 'depth': 7, 'learning_rate': 0.0941937211034094, 'l2_leaf_reg': 0.05654822767791934}. Best is trial 6 with value: 0.7360846400260925.\n"
     ]
    },
    {
     "name": "stdout",
     "output_type": "stream",
     "text": [
      "bestTest = 0.7355389595\n",
      "bestIteration = 284\n",
      "Shrink model to first 285 iterations.\n"
     ]
    },
    {
     "name": "stderr",
     "output_type": "stream",
     "text": [
      "Default metric period is 5 because AUC is/are not implemented for GPU\n"
     ]
    },
    {
     "name": "stdout",
     "output_type": "stream",
     "text": [
      "0:\ttest: 0.7172752\tbest: 0.7172752 (0)\ttotal: 40.8ms\tremaining: 1m 17s\n",
      "300:\ttest: 0.7349900\tbest: 0.7350512 (285)\ttotal: 9.26s\tremaining: 49.3s\n",
      "600:\ttest: 0.7351092\tbest: 0.7354749 (456)\ttotal: 17.8s\tremaining: 38.6s\n",
      "bestTest = 0.7354749441\n",
      "bestIteration = 456\n",
      "Shrink model to first 457 iterations.\n"
     ]
    },
    {
     "name": "stderr",
     "output_type": "stream",
     "text": [
      "[I 2025-02-23 04:04:58,537] Trial 8 finished with value: 0.7354749441146851 and parameters: {'iterations': 1904, 'depth': 7, 'learning_rate': 0.05155602859187331, 'l2_leaf_reg': 1.299974533316308}. Best is trial 6 with value: 0.7360846400260925.\n",
      "Default metric period is 5 because AUC is/are not implemented for GPU\n"
     ]
    },
    {
     "name": "stdout",
     "output_type": "stream",
     "text": [
      "0:\ttest: 0.7149307\tbest: 0.7149307 (0)\ttotal: 37.4ms\tremaining: 1m 38s\n",
      "300:\ttest: 0.7345547\tbest: 0.7345576 (299)\ttotal: 7.89s\tremaining: 1m 1s\n",
      "600:\ttest: 0.7355239\tbest: 0.7355391 (582)\ttotal: 16.1s\tremaining: 54.5s\n",
      "900:\ttest: 0.7357227\tbest: 0.7357297 (868)\ttotal: 22.7s\tremaining: 43.8s\n",
      "1200:\ttest: 0.7357231\tbest: 0.7359349 (1112)\ttotal: 29.4s\tremaining: 35.2s\n",
      "bestTest = 0.7359349132\n",
      "bestIteration = 1112\n",
      "Shrink model to first 1113 iterations.\n"
     ]
    },
    {
     "name": "stderr",
     "output_type": "stream",
     "text": [
      "[I 2025-02-23 04:05:36,698] Trial 9 finished with value: 0.7359349131584167 and parameters: {'iterations': 2639, 'depth': 6, 'learning_rate': 0.03968704290444751, 'l2_leaf_reg': 0.30557194377967184}. Best is trial 6 with value: 0.7360846400260925.\n",
      "Default metric period is 5 because AUC is/are not implemented for GPU\n"
     ]
    },
    {
     "name": "stdout",
     "output_type": "stream",
     "text": [
      "0:\ttest: 0.7150210\tbest: 0.7150210 (0)\ttotal: 27.7ms\tremaining: 1m 21s\n",
      "300:\ttest: 0.7354405\tbest: 0.7354453 (297)\ttotal: 7.38s\tremaining: 1m 4s\n",
      "600:\ttest: 0.7360432\tbest: 0.7360566 (593)\ttotal: 14.7s\tremaining: 57.4s\n",
      "900:\ttest: 0.7358294\tbest: 0.7361050 (622)\ttotal: 21.7s\tremaining: 49.1s\n",
      "bestTest = 0.7361049652\n",
      "bestIteration = 622\n",
      "Shrink model to first 623 iterations.\n"
     ]
    },
    {
     "name": "stderr",
     "output_type": "stream",
     "text": [
      "[I 2025-02-23 04:06:02,817] Trial 10 finished with value: 0.7361049652099609 and parameters: {'iterations': 2945, 'depth': 6, 'learning_rate': 0.07265276039199581, 'l2_leaf_reg': 97.18545559492446}. Best is trial 10 with value: 0.7361049652099609.\n"
     ]
    },
    {
     "name": "stdout",
     "output_type": "stream",
     "text": [
      "저장 완료\n"
     ]
    },
    {
     "name": "stderr",
     "output_type": "stream",
     "text": [
      "Default metric period is 5 because AUC is/are not implemented for GPU\n"
     ]
    },
    {
     "name": "stdout",
     "output_type": "stream",
     "text": [
      "0:\ttest: 0.7150141\tbest: 0.7150141 (0)\ttotal: 40.2ms\tremaining: 2m\n",
      "300:\ttest: 0.7353789\tbest: 0.7353899 (299)\ttotal: 8.43s\tremaining: 1m 15s\n",
      "600:\ttest: 0.7357121\tbest: 0.7358086 (571)\ttotal: 15.1s\tremaining: 1m\n",
      "bestTest = 0.7358085811\n",
      "bestIteration = 571\n",
      "Shrink model to first 572 iterations.\n"
     ]
    },
    {
     "name": "stderr",
     "output_type": "stream",
     "text": [
      "[I 2025-02-23 04:06:28,040] Trial 11 finished with value: 0.7358085811138153 and parameters: {'iterations': 2994, 'depth': 6, 'learning_rate': 0.07131044509072976, 'l2_leaf_reg': 73.12133513928158}. Best is trial 10 with value: 0.7361049652099609.\n",
      "Default metric period is 5 because AUC is/are not implemented for GPU\n"
     ]
    },
    {
     "name": "stdout",
     "output_type": "stream",
     "text": [
      "0:\ttest: 0.7150162\tbest: 0.7150162 (0)\ttotal: 37.7ms\tremaining: 59.8s\n",
      "300:\ttest: 0.7357977\tbest: 0.7357977 (300)\ttotal: 7.39s\tremaining: 31.6s\n",
      "600:\ttest: 0.7359419\tbest: 0.7359636 (528)\ttotal: 14s\tremaining: 23s\n",
      "bestTest = 0.7359636426\n",
      "bestIteration = 528\n",
      "Shrink model to first 529 iterations.\n"
     ]
    },
    {
     "name": "stderr",
     "output_type": "stream",
     "text": [
      "[I 2025-02-23 04:06:51,215] Trial 12 finished with value: 0.7359636425971985 and parameters: {'iterations': 1588, 'depth': 6, 'learning_rate': 0.07674945667870968, 'l2_leaf_reg': 87.13438924619733}. Best is trial 10 with value: 0.7361049652099609.\n",
      "Default metric period is 5 because AUC is/are not implemented for GPU\n"
     ]
    },
    {
     "name": "stdout",
     "output_type": "stream",
     "text": [
      "0:\ttest: 0.7085774\tbest: 0.7085774 (0)\ttotal: 32ms\tremaining: 1m 35s\n",
      "300:\ttest: 0.7356332\tbest: 0.7356670 (299)\ttotal: 6.82s\tremaining: 1m\n",
      "600:\ttest: 0.7358823\tbest: 0.7359304 (579)\ttotal: 12.5s\tremaining: 49.5s\n",
      "900:\ttest: 0.7357480\tbest: 0.7359645 (647)\ttotal: 17.9s\tremaining: 41.1s\n",
      "bestTest = 0.7359645367\n",
      "bestIteration = 647\n",
      "Shrink model to first 648 iterations.\n"
     ]
    },
    {
     "name": "stderr",
     "output_type": "stream",
     "text": [
      "[I 2025-02-23 04:07:14,082] Trial 13 finished with value: 0.7359645366668701 and parameters: {'iterations': 2975, 'depth': 5, 'learning_rate': 0.07888750974731618, 'l2_leaf_reg': 10.019996908534585}. Best is trial 10 with value: 0.7361049652099609.\n",
      "Default metric period is 5 because AUC is/are not implemented for GPU\n"
     ]
    },
    {
     "name": "stdout",
     "output_type": "stream",
     "text": [
      "0:\ttest: 0.7180789\tbest: 0.7180789 (0)\ttotal: 59.8ms\tremaining: 2m 41s\n",
      "300:\ttest: 0.7359949\tbest: 0.7359959 (290)\ttotal: 13.6s\tremaining: 1m 48s\n",
      "600:\ttest: 0.7359805\tbest: 0.7360514 (447)\ttotal: 25.4s\tremaining: 1m 28s\n",
      "bestTest = 0.7360514402\n",
      "bestIteration = 447\n",
      "Shrink model to first 448 iterations.\n"
     ]
    },
    {
     "name": "stderr",
     "output_type": "stream",
     "text": [
      "[I 2025-02-23 04:07:49,191] Trial 14 finished with value: 0.7360514402389526 and parameters: {'iterations': 2702, 'depth': 8, 'learning_rate': 0.06308101933412968, 'l2_leaf_reg': 92.74223128282532}. Best is trial 10 with value: 0.7361049652099609.\n",
      "Default metric period is 5 because AUC is/are not implemented for GPU\n"
     ]
    },
    {
     "name": "stdout",
     "output_type": "stream",
     "text": [
      "0:\ttest: 0.7183163\tbest: 0.7183163 (0)\ttotal: 57.5ms\tremaining: 1m 26s\n",
      "300:\ttest: 0.7361763\tbest: 0.7363117 (254)\ttotal: 11.9s\tremaining: 47.9s\n",
      "bestTest = 0.7363117337\n",
      "bestIteration = 254\n",
      "Shrink model to first 255 iterations.\n"
     ]
    },
    {
     "name": "stderr",
     "output_type": "stream",
     "text": [
      "[I 2025-02-23 04:08:14,869] Trial 15 finished with value: 0.7363117337226868 and parameters: {'iterations': 1513, 'depth': 8, 'learning_rate': 0.08625378621185843, 'l2_leaf_reg': 7.451035024616121}. Best is trial 15 with value: 0.7363117337226868.\n"
     ]
    },
    {
     "name": "stdout",
     "output_type": "stream",
     "text": [
      "저장 완료\n"
     ]
    },
    {
     "name": "stderr",
     "output_type": "stream",
     "text": [
      "Default metric period is 5 because AUC is/are not implemented for GPU\n"
     ]
    },
    {
     "name": "stdout",
     "output_type": "stream",
     "text": [
      "0:\ttest: 0.7183173\tbest: 0.7183173 (0)\ttotal: 37.4ms\tremaining: 56.9s\n",
      "300:\ttest: 0.7353324\tbest: 0.7357025 (226)\ttotal: 11.3s\tremaining: 45.9s\n",
      "bestTest = 0.7357025146\n",
      "bestIteration = 226\n",
      "Shrink model to first 227 iterations.\n"
     ]
    },
    {
     "name": "stderr",
     "output_type": "stream",
     "text": [
      "[I 2025-02-23 04:08:38,603] Trial 16 finished with value: 0.7357025146484375 and parameters: {'iterations': 1522, 'depth': 8, 'learning_rate': 0.09047957246744213, 'l2_leaf_reg': 7.598651346764848}. Best is trial 15 with value: 0.7363117337226868.\n",
      "Default metric period is 5 because AUC is/are not implemented for GPU\n"
     ]
    },
    {
     "name": "stdout",
     "output_type": "stream",
     "text": [
      "0:\ttest: 0.7204903\tbest: 0.7204903 (0)\ttotal: 69.8ms\tremaining: 3m 16s\n",
      "300:\ttest: 0.7338002\tbest: 0.7349993 (174)\ttotal: 16.5s\tremaining: 2m 17s\n",
      "bestTest = 0.7349992692\n",
      "bestIteration = 174\n",
      "Shrink model to first 175 iterations.\n"
     ]
    },
    {
     "name": "stderr",
     "output_type": "stream",
     "text": [
      "[I 2025-02-23 04:09:08,466] Trial 17 finished with value: 0.734999269247055 and parameters: {'iterations': 2816, 'depth': 9, 'learning_rate': 0.09882008335430675, 'l2_leaf_reg': 1.9690445489611057}. Best is trial 15 with value: 0.7363117337226868.\n",
      "Default metric period is 5 because AUC is/are not implemented for GPU\n"
     ]
    },
    {
     "name": "stdout",
     "output_type": "stream",
     "text": [
      "0:\ttest: 0.7183016\tbest: 0.7183016 (0)\ttotal: 40.2ms\tremaining: 1m 39s\n",
      "300:\ttest: 0.7360831\tbest: 0.7360831 (300)\ttotal: 12.2s\tremaining: 1m 28s\n",
      "600:\ttest: 0.7357784\tbest: 0.7361916 (383)\ttotal: 23.5s\tremaining: 1m 13s\n",
      "bestTest = 0.7361916304\n",
      "bestIteration = 383\n",
      "Shrink model to first 384 iterations.\n"
     ]
    },
    {
     "name": "stderr",
     "output_type": "stream",
     "text": [
      "[I 2025-02-23 04:09:39,199] Trial 18 finished with value: 0.7361916303634644 and parameters: {'iterations': 2482, 'depth': 8, 'learning_rate': 0.061130575194345324, 'l2_leaf_reg': 18.051943549542695}. Best is trial 15 with value: 0.7363117337226868.\n",
      "Default metric period is 5 because AUC is/are not implemented for GPU\n"
     ]
    },
    {
     "name": "stdout",
     "output_type": "stream",
     "text": [
      "0:\ttest: 0.7182991\tbest: 0.7182991 (0)\ttotal: 59.2ms\tremaining: 2m 27s\n",
      "300:\ttest: 0.7345552\tbest: 0.7350274 (236)\ttotal: 12s\tremaining: 1m 27s\n",
      "bestTest = 0.7350273728\n",
      "bestIteration = 236\n",
      "Shrink model to first 237 iterations.\n"
     ]
    },
    {
     "name": "stderr",
     "output_type": "stream",
     "text": [
      "[I 2025-02-23 04:10:04,206] Trial 19 finished with value: 0.7350273728370667 and parameters: {'iterations': 2487, 'depth': 8, 'learning_rate': 0.059421891464269225, 'l2_leaf_reg': 0.10234964252364995}. Best is trial 15 with value: 0.7363117337226868.\n",
      "Default metric period is 5 because AUC is/are not implemented for GPU\n"
     ]
    },
    {
     "name": "stdout",
     "output_type": "stream",
     "text": [
      "0:\ttest: 0.7205432\tbest: 0.7205432 (0)\ttotal: 77.9ms\tremaining: 2m 14s\n",
      "300:\ttest: 0.7346511\tbest: 0.7352925 (204)\ttotal: 16.8s\tremaining: 1m 19s\n",
      "bestTest = 0.7352924943\n",
      "bestIteration = 204\n",
      "Shrink model to first 205 iterations.\n"
     ]
    },
    {
     "name": "stderr",
     "output_type": "stream",
     "text": [
      "[I 2025-02-23 04:10:36,071] Trial 20 finished with value: 0.7352924942970276 and parameters: {'iterations': 1726, 'depth': 9, 'learning_rate': 0.08531861957487413, 'l2_leaf_reg': 13.747021738495466}. Best is trial 15 with value: 0.7363117337226868.\n",
      "Default metric period is 5 because AUC is/are not implemented for GPU\n"
     ]
    },
    {
     "name": "stdout",
     "output_type": "stream",
     "text": [
      "0:\ttest: 0.7205885\tbest: 0.7205885 (0)\ttotal: 78.1ms\tremaining: 3m 39s\n",
      "300:\ttest: 0.7342260\tbest: 0.7347478 (173)\ttotal: 16.7s\tremaining: 2m 19s\n",
      "bestTest = 0.7347478271\n",
      "bestIteration = 173\n",
      "Shrink model to first 174 iterations.\n"
     ]
    },
    {
     "name": "stderr",
     "output_type": "stream",
     "text": [
      "[I 2025-02-23 04:11:05,982] Trial 21 finished with value: 0.7347478270530701 and parameters: {'iterations': 2814, 'depth': 9, 'learning_rate': 0.08443758859870017, 'l2_leaf_reg': 26.96963431672059}. Best is trial 15 with value: 0.7363117337226868.\n",
      "Default metric period is 5 because AUC is/are not implemented for GPU\n"
     ]
    },
    {
     "name": "stdout",
     "output_type": "stream",
     "text": [
      "0:\ttest: 0.7172868\tbest: 0.7172868 (0)\ttotal: 47.9ms\tremaining: 1m 46s\n",
      "300:\ttest: 0.7353956\tbest: 0.7355332 (281)\ttotal: 10.5s\tremaining: 1m 7s\n",
      "600:\ttest: 0.7355424\tbest: 0.7357630 (456)\ttotal: 19s\tremaining: 51.5s\n",
      "bestTest = 0.7357630432\n",
      "bestIteration = 456\n",
      "Shrink model to first 457 iterations.\n"
     ]
    },
    {
     "name": "stderr",
     "output_type": "stream",
     "text": [
      "[I 2025-02-23 04:11:33,583] Trial 22 finished with value: 0.7357630431652069 and parameters: {'iterations': 2227, 'depth': 7, 'learning_rate': 0.06672520183751504, 'l2_leaf_reg': 4.385191635529254}. Best is trial 15 with value: 0.7363117337226868.\n",
      "Default metric period is 5 because AUC is/are not implemented for GPU\n"
     ]
    },
    {
     "name": "stdout",
     "output_type": "stream",
     "text": [
      "0:\ttest: 0.7183041\tbest: 0.7183041 (0)\ttotal: 58.4ms\tremaining: 2m 24s\n",
      "300:\ttest: 0.7356866\tbest: 0.7357429 (290)\ttotal: 12.2s\tremaining: 1m 28s\n",
      "600:\ttest: 0.7354703\tbest: 0.7358232 (403)\ttotal: 23.5s\tremaining: 1m 13s\n",
      "bestTest = 0.7358232141\n",
      "bestIteration = 403\n",
      "Shrink model to first 404 iterations.\n"
     ]
    },
    {
     "name": "stderr",
     "output_type": "stream",
     "text": [
      "[I 2025-02-23 04:12:05,236] Trial 23 finished with value: 0.7358232140541077 and parameters: {'iterations': 2477, 'depth': 8, 'learning_rate': 0.05990668078126798, 'l2_leaf_reg': 24.246184155884656}. Best is trial 15 with value: 0.7363117337226868.\n",
      "Default metric period is 5 because AUC is/are not implemented for GPU\n"
     ]
    },
    {
     "name": "stdout",
     "output_type": "stream",
     "text": [
      "0:\ttest: 0.7149638\tbest: 0.7149638 (0)\ttotal: 43.2ms\tremaining: 2m\n",
      "300:\ttest: 0.7354933\tbest: 0.7355169 (283)\ttotal: 8.03s\tremaining: 1m 6s\n",
      "600:\ttest: 0.7353233\tbest: 0.7356238 (408)\ttotal: 14.7s\tremaining: 53.6s\n"
     ]
    },
    {
     "name": "stderr",
     "output_type": "stream",
     "text": [
      "[I 2025-02-23 04:12:26,476] Trial 24 finished with value: 0.735623836517334 and parameters: {'iterations': 2794, 'depth': 6, 'learning_rate': 0.0724722102130891, 'l2_leaf_reg': 22.73175876769283}. Best is trial 15 with value: 0.7363117337226868.\n"
     ]
    },
    {
     "name": "stdout",
     "output_type": "stream",
     "text": [
      "bestTest = 0.7356238365\n",
      "bestIteration = 408\n",
      "Shrink model to first 409 iterations.\n"
     ]
    },
    {
     "name": "stderr",
     "output_type": "stream",
     "text": [
      "Default metric period is 5 because AUC is/are not implemented for GPU\n"
     ]
    },
    {
     "name": "stdout",
     "output_type": "stream",
     "text": [
      "0:\ttest: 0.7172861\tbest: 0.7172861 (0)\ttotal: 41ms\tremaining: 1m 26s\n",
      "300:\ttest: 0.7355860\tbest: 0.7358646 (241)\ttotal: 9.34s\tremaining: 56.3s\n",
      "bestTest = 0.7358646393\n",
      "bestIteration = 241\n",
      "Shrink model to first 242 iterations.\n"
     ]
    },
    {
     "name": "stderr",
     "output_type": "stream",
     "text": [
      "[I 2025-02-23 04:12:46,812] Trial 25 finished with value: 0.7358646392822266 and parameters: {'iterations': 2116, 'depth': 7, 'learning_rate': 0.088174178097401, 'l2_leaf_reg': 3.7078700320497613}. Best is trial 15 with value: 0.7363117337226868.\n",
      "Default metric period is 5 because AUC is/are not implemented for GPU\n"
     ]
    },
    {
     "name": "stdout",
     "output_type": "stream",
     "text": [
      "0:\ttest: 0.7085860\tbest: 0.7085860 (0)\ttotal: 31.5ms\tremaining: 1m 22s\n",
      "300:\ttest: 0.7352524\tbest: 0.7352753 (294)\ttotal: 6.22s\tremaining: 48.2s\n",
      "600:\ttest: 0.7354835\tbest: 0.7355359 (590)\ttotal: 11.6s\tremaining: 39.1s\n",
      "900:\ttest: 0.7354558\tbest: 0.7355557 (706)\ttotal: 16.9s\tremaining: 32.6s\n",
      "bestTest = 0.7355557084\n",
      "bestIteration = 706\n",
      "Shrink model to first 707 iterations.\n"
     ]
    },
    {
     "name": "stderr",
     "output_type": "stream",
     "text": [
      "[I 2025-02-23 04:13:09,813] Trial 26 finished with value: 0.7355557084083557 and parameters: {'iterations': 2635, 'depth': 5, 'learning_rate': 0.07628804970187145, 'l2_leaf_reg': 34.44151339380014}. Best is trial 15 with value: 0.7363117337226868.\n",
      "Default metric period is 5 because AUC is/are not implemented for GPU\n"
     ]
    },
    {
     "name": "stdout",
     "output_type": "stream",
     "text": [
      "0:\ttest: 0.7204878\tbest: 0.7204878 (0)\ttotal: 76.1ms\tremaining: 2m 58s\n",
      "300:\ttest: 0.7341140\tbest: 0.7350712 (166)\ttotal: 16.5s\tremaining: 1m 52s\n",
      "bestTest = 0.7350711823\n",
      "bestIteration = 166\n",
      "Shrink model to first 167 iterations.\n"
     ]
    },
    {
     "name": "stderr",
     "output_type": "stream",
     "text": [
      "[I 2025-02-23 04:13:39,150] Trial 27 finished with value: 0.7350711822509766 and parameters: {'iterations': 2351, 'depth': 9, 'learning_rate': 0.08515538937042232, 'l2_leaf_reg': 1.410176335099611}. Best is trial 15 with value: 0.7363117337226868.\n",
      "Default metric period is 5 because AUC is/are not implemented for GPU\n"
     ]
    },
    {
     "name": "stdout",
     "output_type": "stream",
     "text": [
      "0:\ttest: 0.7183043\tbest: 0.7183043 (0)\ttotal: 37.8ms\tremaining: 1m 50s\n",
      "300:\ttest: 0.7348794\tbest: 0.7353800 (235)\ttotal: 11.3s\tremaining: 1m 38s\n",
      "bestTest = 0.7353800237\n",
      "bestIteration = 235\n",
      "Shrink model to first 236 iterations.\n"
     ]
    },
    {
     "name": "stderr",
     "output_type": "stream",
     "text": [
      "[I 2025-02-23 04:14:03,219] Trial 28 finished with value: 0.7353800237178802 and parameters: {'iterations': 2912, 'depth': 8, 'learning_rate': 0.09891973221512389, 'l2_leaf_reg': 26.501183295928964}. Best is trial 15 with value: 0.7363117337226868.\n",
      "Default metric period is 5 because AUC is/are not implemented for GPU\n"
     ]
    },
    {
     "name": "stdout",
     "output_type": "stream",
     "text": [
      "0:\ttest: 0.7208872\tbest: 0.7208872 (0)\ttotal: 105ms\tremaining: 3m 12s\n",
      "300:\ttest: 0.7338181\tbest: 0.7349297 (137)\ttotal: 26.6s\tremaining: 2m 14s\n",
      "bestTest = 0.7349296808\n",
      "bestIteration = 137\n",
      "Shrink model to first 138 iterations.\n"
     ]
    },
    {
     "name": "stderr",
     "output_type": "stream",
     "text": [
      "[I 2025-02-23 04:14:45,327] Trial 29 finished with value: 0.7349296808242798 and parameters: {'iterations': 1822, 'depth': 10, 'learning_rate': 0.06657917760785473, 'l2_leaf_reg': 9.626994619429514}. Best is trial 15 with value: 0.7363117337226868.\n",
      "Default metric period is 5 because AUC is/are not implemented for GPU\n"
     ]
    },
    {
     "name": "stdout",
     "output_type": "stream",
     "text": [
      "0:\ttest: 0.7172942\tbest: 0.7172942 (0)\ttotal: 39.2ms\tremaining: 1m 35s\n",
      "300:\ttest: 0.7354520\tbest: 0.7355384 (282)\ttotal: 10.1s\tremaining: 1m 12s\n",
      "600:\ttest: 0.7355950\tbest: 0.7357324 (511)\ttotal: 19.2s\tremaining: 58.9s\n",
      "bestTest = 0.7357324362\n",
      "bestIteration = 511\n",
      "Shrink model to first 512 iterations.\n"
     ]
    },
    {
     "name": "stderr",
     "output_type": "stream",
     "text": [
      "[I 2025-02-23 04:15:14,438] Trial 30 finished with value: 0.7357324361801147 and parameters: {'iterations': 2444, 'depth': 7, 'learning_rate': 0.08165572998114079, 'l2_leaf_reg': 95.13028147054796}. Best is trial 15 with value: 0.7363117337226868.\n",
      "Default metric period is 5 because AUC is/are not implemented for GPU\n"
     ]
    },
    {
     "name": "stdout",
     "output_type": "stream",
     "text": [
      "0:\ttest: 0.7085915\tbest: 0.7085915 (0)\ttotal: 24.7ms\tremaining: 48.5s\n",
      "300:\ttest: 0.7352584\tbest: 0.7352870 (294)\ttotal: 6.07s\tremaining: 33.5s\n",
      "600:\ttest: 0.7356030\tbest: 0.7357045 (572)\ttotal: 11.4s\tremaining: 25.9s\n",
      "900:\ttest: 0.7355453\tbest: 0.7357221 (695)\ttotal: 16.8s\tremaining: 19.8s\n",
      "bestTest = 0.7357220948\n",
      "bestIteration = 695\n",
      "Shrink model to first 696 iterations.\n"
     ]
    },
    {
     "name": "stderr",
     "output_type": "stream",
     "text": [
      "[I 2025-02-23 04:15:37,226] Trial 31 finished with value: 0.7357220947742462 and parameters: {'iterations': 1963, 'depth': 5, 'learning_rate': 0.07654544477834963, 'l2_leaf_reg': 43.41162443687808}. Best is trial 15 with value: 0.7363117337226868.\n",
      "Default metric period is 5 because AUC is/are not implemented for GPU\n"
     ]
    },
    {
     "name": "stdout",
     "output_type": "stream",
     "text": [
      "0:\ttest: 0.7085915\tbest: 0.7085915 (0)\ttotal: 26.2ms\tremaining: 53.5s\n",
      "300:\ttest: 0.7355394\tbest: 0.7355750 (299)\ttotal: 6.11s\tremaining: 35.4s\n",
      "600:\ttest: 0.7359322\tbest: 0.7360213 (590)\ttotal: 11.5s\tremaining: 27.5s\n",
      "900:\ttest: 0.7359309\tbest: 0.7361256 (698)\ttotal: 17.5s\tremaining: 22.1s\n",
      "bestTest = 0.736125648\n",
      "bestIteration = 698\n",
      "Shrink model to first 699 iterations.\n"
     ]
    },
    {
     "name": "stderr",
     "output_type": "stream",
     "text": [
      "[I 2025-02-23 04:16:00,423] Trial 32 finished with value: 0.736125648021698 and parameters: {'iterations': 2043, 'depth': 5, 'learning_rate': 0.08010822664633191, 'l2_leaf_reg': 46.971903196026766}. Best is trial 15 with value: 0.7363117337226868.\n",
      "Default metric period is 5 because AUC is/are not implemented for GPU\n"
     ]
    },
    {
     "name": "stdout",
     "output_type": "stream",
     "text": [
      "0:\ttest: 0.7149642\tbest: 0.7149642 (0)\ttotal: 33.1ms\tremaining: 1m 10s\n",
      "300:\ttest: 0.7355856\tbest: 0.7355856 (300)\ttotal: 7.28s\tremaining: 44.2s\n",
      "600:\ttest: 0.7351295\tbest: 0.7355856 (300)\ttotal: 13.9s\tremaining: 35.4s\n",
      "bestTest = 0.7355856001\n",
      "bestIteration = 300\n",
      "Shrink model to first 301 iterations.\n"
     ]
    },
    {
     "name": "stderr",
     "output_type": "stream",
     "text": [
      "[I 2025-02-23 04:16:18,437] Trial 33 finished with value: 0.7355856001377106 and parameters: {'iterations': 2130, 'depth': 6, 'learning_rate': 0.09065566141537074, 'l2_leaf_reg': 17.807119017429212}. Best is trial 15 with value: 0.7363117337226868.\n",
      "Default metric period is 5 because AUC is/are not implemented for GPU\n"
     ]
    },
    {
     "name": "stdout",
     "output_type": "stream",
     "text": [
      "0:\ttest: 0.7085783\tbest: 0.7085783 (0)\ttotal: 31.2ms\tremaining: 1m 12s\n",
      "300:\ttest: 0.7353789\tbest: 0.7354060 (295)\ttotal: 6.8s\tremaining: 45.9s\n",
      "600:\ttest: 0.7356304\tbest: 0.7356634 (592)\ttotal: 12.1s\tremaining: 35s\n",
      "bestTest = 0.7356633544\n",
      "bestIteration = 592\n",
      "Shrink model to first 593 iterations.\n"
     ]
    },
    {
     "name": "stderr",
     "output_type": "stream",
     "text": [
      "[I 2025-02-23 04:16:39,852] Trial 34 finished with value: 0.7356633543968201 and parameters: {'iterations': 2332, 'depth': 5, 'learning_rate': 0.07340645224080147, 'l2_leaf_reg': 5.789057938473729}. Best is trial 15 with value: 0.7363117337226868.\n",
      "Default metric period is 5 because AUC is/are not implemented for GPU\n"
     ]
    },
    {
     "name": "stdout",
     "output_type": "stream",
     "text": [
      "0:\ttest: 0.7172878\tbest: 0.7172878 (0)\ttotal: 37ms\tremaining: 1m 1s\n",
      "300:\ttest: 0.7358099\tbest: 0.7358283 (290)\ttotal: 8.84s\tremaining: 39.9s\n",
      "600:\ttest: 0.7355697\tbest: 0.7359878 (445)\ttotal: 17.4s\tremaining: 30.7s\n",
      "bestTest = 0.7359878123\n",
      "bestIteration = 445\n",
      "Shrink model to first 446 iterations.\n"
     ]
    },
    {
     "name": "stderr",
     "output_type": "stream",
     "text": [
      "[I 2025-02-23 04:17:05,461] Trial 35 finished with value: 0.7359878122806549 and parameters: {'iterations': 1658, 'depth': 7, 'learning_rate': 0.08405131475293962, 'l2_leaf_reg': 42.2179318164306}. Best is trial 15 with value: 0.7363117337226868.\n",
      "Default metric period is 5 because AUC is/are not implemented for GPU\n"
     ]
    },
    {
     "name": "stdout",
     "output_type": "stream",
     "text": [
      "0:\ttest: 0.7052417\tbest: 0.7052417 (0)\ttotal: 16.3ms\tremaining: 42.2s\n",
      "300:\ttest: 0.7345411\tbest: 0.7345573 (299)\ttotal: 4.1s\tremaining: 31.2s\n",
      "600:\ttest: 0.7354333\tbest: 0.7354343 (599)\ttotal: 8.25s\tremaining: 27.3s\n",
      "900:\ttest: 0.7354667\tbest: 0.7355199 (719)\ttotal: 14.4s\tremaining: 27.1s\n",
      "1200:\ttest: 0.7358039\tbest: 0.7358057 (1174)\ttotal: 18.7s\tremaining: 21.6s\n",
      "1500:\ttest: 0.7358606\tbest: 0.7358606 (1500)\ttotal: 23.2s\tremaining: 16.9s\n",
      "1800:\ttest: 0.7358180\tbest: 0.7358650 (1509)\ttotal: 28.6s\tremaining: 12.6s\n",
      "bestTest = 0.7358650267\n",
      "bestIteration = 1509\n",
      "Shrink model to first 1510 iterations.\n"
     ]
    },
    {
     "name": "stderr",
     "output_type": "stream",
     "text": [
      "[I 2025-02-23 04:17:38,478] Trial 36 finished with value: 0.7358650267124176 and parameters: {'iterations': 2594, 'depth': 4, 'learning_rate': 0.06855494083833313, 'l2_leaf_reg': 14.421938149457356}. Best is trial 15 with value: 0.7363117337226868.\n",
      "Default metric period is 5 because AUC is/are not implemented for GPU\n"
     ]
    },
    {
     "name": "stdout",
     "output_type": "stream",
     "text": [
      "0:\ttest: 0.7183188\tbest: 0.7183188 (0)\ttotal: 58ms\tremaining: 2m 10s\n",
      "300:\ttest: 0.7347490\tbest: 0.7347497 (299)\ttotal: 11.4s\tremaining: 1m 13s\n",
      "600:\ttest: 0.7345098\tbest: 0.7349033 (382)\ttotal: 22.7s\tremaining: 1m 2s\n",
      "bestTest = 0.734903276\n",
      "bestIteration = 382\n",
      "Shrink model to first 383 iterations.\n"
     ]
    },
    {
     "name": "stderr",
     "output_type": "stream",
     "text": [
      "[I 2025-02-23 04:18:08,385] Trial 37 finished with value: 0.7349032759666443 and parameters: {'iterations': 2253, 'depth': 8, 'learning_rate': 0.08051551122411664, 'l2_leaf_reg': 47.406690424270856}. Best is trial 15 with value: 0.7363117337226868.\n",
      "Default metric period is 5 because AUC is/are not implemented for GPU\n"
     ]
    },
    {
     "name": "stdout",
     "output_type": "stream",
     "text": [
      "0:\ttest: 0.7149307\tbest: 0.7149307 (0)\ttotal: 22.3ms\tremaining: 40.6s\n",
      "300:\ttest: 0.7353730\tbest: 0.7353730 (300)\ttotal: 6.64s\tremaining: 33.5s\n",
      "600:\ttest: 0.7356158\tbest: 0.7357073 (564)\ttotal: 13.3s\tremaining: 26.9s\n",
      "bestTest = 0.7357073426\n",
      "bestIteration = 564\n",
      "Shrink model to first 565 iterations.\n"
     ]
    },
    {
     "name": "stderr",
     "output_type": "stream",
     "text": [
      "[I 2025-02-23 04:18:32,761] Trial 38 finished with value: 0.7357073426246643 and parameters: {'iterations': 1821, 'depth': 6, 'learning_rate': 0.06264951769249319, 'l2_leaf_reg': 4.238581163181915}. Best is trial 15 with value: 0.7363117337226868.\n",
      "Default metric period is 5 because AUC is/are not implemented for GPU\n"
     ]
    },
    {
     "name": "stdout",
     "output_type": "stream",
     "text": [
      "0:\ttest: 0.7052417\tbest: 0.7052417 (0)\ttotal: 25.1ms\tremaining: 51.3s\n",
      "300:\ttest: 0.7349896\tbest: 0.7350086 (298)\ttotal: 5.24s\tremaining: 30.4s\n",
      "600:\ttest: 0.7353958\tbest: 0.7354209 (590)\ttotal: 11.1s\tremaining: 26.7s\n",
      "900:\ttest: 0.7355197\tbest: 0.7355254 (804)\ttotal: 15.3s\tremaining: 19.4s\n",
      "1200:\ttest: 0.7355853\tbest: 0.7356018 (1039)\ttotal: 19.5s\tremaining: 13.7s\n",
      "1500:\ttest: 0.7353562\tbest: 0.7356168 (1214)\ttotal: 23.8s\tremaining: 8.6s\n",
      "bestTest = 0.735616833\n",
      "bestIteration = 1214\n",
      "Shrink model to first 1215 iterations.\n"
     ]
    },
    {
     "name": "stderr",
     "output_type": "stream",
     "text": [
      "[I 2025-02-23 04:19:00,809] Trial 39 finished with value: 0.7356168329715729 and parameters: {'iterations': 2044, 'depth': 4, 'learning_rate': 0.0954552059102912, 'l2_leaf_reg': 10.166368944923418}. Best is trial 15 with value: 0.7363117337226868.\n",
      "[I 2025-02-23 04:19:00,817] A new study created in memory with name: no-name-3974be2d-5dea-461a-933d-ec7bb30952bf\n",
      "[I 2025-02-23 04:19:05,159] Trial 0 finished with value: 0.7348459842677385 and parameters: {'num_iterations': 2366, 'objective': 'binary', 'metric': 'auc', 'verbose': -1, 'learning_rate': 0.0652646236447618, 'n_estimators': 236, 'min_child_samples': 45, 'subsample': 0.7, 'colsample_bytree': 0.5}. Best is trial 0 with value: 0.7348459842677385.\n",
      "[I 2025-02-23 04:19:16,880] Trial 1 finished with value: 0.7350035129122021 and parameters: {'num_iterations': 1510, 'objective': 'binary', 'metric': 'auc', 'verbose': -1, 'learning_rate': 0.005231880959249543, 'n_estimators': 1411, 'min_child_samples': 10, 'subsample': 1.0, 'colsample_bytree': 0.5}. Best is trial 1 with value: 0.7350035129122021.\n",
      "[I 2025-02-23 04:19:26,570] Trial 2 finished with value: 0.7346694451203116 and parameters: {'num_iterations': 2334, 'objective': 'binary', 'metric': 'auc', 'verbose': -1, 'learning_rate': 0.006578527777128852, 'n_estimators': 931, 'min_child_samples': 15, 'subsample': 0.5, 'colsample_bytree': 1.0}. Best is trial 1 with value: 0.7350035129122021.\n",
      "[I 2025-02-23 04:19:37,136] Trial 3 finished with value: 0.7352462770747568 and parameters: {'num_iterations': 1620, 'objective': 'binary', 'metric': 'auc', 'verbose': -1, 'learning_rate': 0.0058823249237283685, 'n_estimators': 837, 'min_child_samples': 10, 'subsample': 0.9, 'colsample_bytree': 0.6}. Best is trial 3 with value: 0.7352462770747568.\n",
      "[I 2025-02-23 04:19:43,769] Trial 4 finished with value: 0.7349462232703076 and parameters: {'num_iterations': 1997, 'objective': 'binary', 'metric': 'auc', 'verbose': -1, 'learning_rate': 0.010907507425244923, 'n_estimators': 1597, 'min_child_samples': 50, 'subsample': 0.6, 'colsample_bytree': 0.8}. Best is trial 3 with value: 0.7352462770747568.\n",
      "[I 2025-02-23 04:19:47,747] Trial 5 finished with value: 0.7347093246838708 and parameters: {'num_iterations': 2909, 'objective': 'binary', 'metric': 'auc', 'verbose': -1, 'learning_rate': 0.019760591962733942, 'n_estimators': 612, 'min_child_samples': 30, 'subsample': 0.7, 'colsample_bytree': 0.9}. Best is trial 3 with value: 0.7352462770747568.\n",
      "[I 2025-02-23 04:19:52,759] Trial 6 finished with value: 0.7349322960018947 and parameters: {'num_iterations': 2639, 'objective': 'binary', 'metric': 'auc', 'verbose': -1, 'learning_rate': 0.017862094446750985, 'n_estimators': 794, 'min_child_samples': 35, 'subsample': 1.0, 'colsample_bytree': 0.8}. Best is trial 3 with value: 0.7352462770747568.\n",
      "[I 2025-02-23 04:19:58,695] Trial 7 finished with value: 0.7351164758862552 and parameters: {'num_iterations': 1580, 'objective': 'binary', 'metric': 'auc', 'verbose': -1, 'learning_rate': 0.01776722177611332, 'n_estimators': 529, 'min_child_samples': 25, 'subsample': 0.8, 'colsample_bytree': 0.5}. Best is trial 3 with value: 0.7352462770747568.\n",
      "[I 2025-02-23 04:20:01,950] Trial 8 finished with value: 0.7349580973885153 and parameters: {'num_iterations': 1911, 'objective': 'binary', 'metric': 'auc', 'verbose': -1, 'learning_rate': 0.0304747553332844, 'n_estimators': 1328, 'min_child_samples': 10, 'subsample': 0.7, 'colsample_bytree': 0.6}. Best is trial 3 with value: 0.7352462770747568.\n",
      "[I 2025-02-23 04:20:06,292] Trial 9 finished with value: 0.7351598581161218 and parameters: {'num_iterations': 2739, 'objective': 'binary', 'metric': 'auc', 'verbose': -1, 'learning_rate': 0.02691531614176271, 'n_estimators': 1438, 'min_child_samples': 20, 'subsample': 0.6, 'colsample_bytree': 0.5}. Best is trial 3 with value: 0.7352462770747568.\n",
      "[I 2025-02-23 04:20:14,822] Trial 10 finished with value: 0.7349730810166082 and parameters: {'num_iterations': 1883, 'objective': 'binary', 'metric': 'auc', 'verbose': -1, 'learning_rate': 0.007630609716045009, 'n_estimators': 1917, 'min_child_samples': 40, 'subsample': 0.9, 'colsample_bytree': 0.7}. Best is trial 3 with value: 0.7352462770747568.\n",
      "[I 2025-02-23 04:20:17,969] Trial 11 finished with value: 0.7348655904622508 and parameters: {'num_iterations': 2986, 'objective': 'binary', 'metric': 'auc', 'verbose': -1, 'learning_rate': 0.03460621797677765, 'n_estimators': 1155, 'min_child_samples': 20, 'subsample': 0.5, 'colsample_bytree': 0.6}. Best is trial 3 with value: 0.7352462770747568.\n",
      "[I 2025-02-23 04:20:24,396] Trial 12 finished with value: 0.7351470030924969 and parameters: {'num_iterations': 2632, 'objective': 'binary', 'metric': 'auc', 'verbose': -1, 'learning_rate': 0.011192671172311408, 'n_estimators': 1761, 'min_child_samples': 20, 'subsample': 0.9, 'colsample_bytree': 0.6}. Best is trial 3 with value: 0.7352462770747568.\n",
      "[I 2025-02-23 04:20:26,757] Trial 13 finished with value: 0.7352883408406619 and parameters: {'num_iterations': 2663, 'objective': 'binary', 'metric': 'auc', 'verbose': -1, 'learning_rate': 0.04738120331415176, 'n_estimators': 1108, 'min_child_samples': 20, 'subsample': 0.8, 'colsample_bytree': 0.7}. Best is trial 13 with value: 0.7352883408406619.\n",
      "[I 2025-02-23 04:20:28,629] Trial 14 finished with value: 0.7348667619889636 and parameters: {'num_iterations': 2163, 'objective': 'binary', 'metric': 'auc', 'verbose': -1, 'learning_rate': 0.09010541727541226, 'n_estimators': 1099, 'min_child_samples': 10, 'subsample': 0.9, 'colsample_bytree': 0.7}. Best is trial 13 with value: 0.7352883408406619.\n",
      "[I 2025-02-23 04:20:31,240] Trial 15 finished with value: 0.7348537560568129 and parameters: {'num_iterations': 1690, 'objective': 'binary', 'metric': 'auc', 'verbose': -1, 'learning_rate': 0.04953864610179718, 'n_estimators': 207, 'min_child_samples': 25, 'subsample': 0.8, 'colsample_bytree': 0.7}. Best is trial 13 with value: 0.7352883408406619.\n",
      "[I 2025-02-23 04:20:34,005] Trial 16 finished with value: 0.7350274795688522 and parameters: {'num_iterations': 2522, 'objective': 'binary', 'metric': 'auc', 'verbose': -1, 'learning_rate': 0.04258686508002543, 'n_estimators': 751, 'min_child_samples': 15, 'subsample': 0.8, 'colsample_bytree': 0.8}. Best is trial 13 with value: 0.7352883408406619.\n",
      "[I 2025-02-23 04:20:36,797] Trial 17 finished with value: 0.7353431047503891 and parameters: {'num_iterations': 2171, 'objective': 'binary', 'metric': 'auc', 'verbose': -1, 'learning_rate': 0.054741030035070484, 'n_estimators': 507, 'min_child_samples': 15, 'subsample': 0.9, 'colsample_bytree': 0.6}. Best is trial 17 with value: 0.7353431047503891.\n",
      "[I 2025-02-23 04:20:38,815] Trial 18 finished with value: 0.7345856472044918 and parameters: {'num_iterations': 2155, 'objective': 'binary', 'metric': 'auc', 'verbose': -1, 'learning_rate': 0.06670814294149753, 'n_estimators': 383, 'min_child_samples': 30, 'subsample': 1.0, 'colsample_bytree': 0.9}. Best is trial 17 with value: 0.7353431047503891.\n",
      "[I 2025-02-23 04:20:40,709] Trial 19 finished with value: 0.7347488349186697 and parameters: {'num_iterations': 2454, 'objective': 'binary', 'metric': 'auc', 'verbose': -1, 'learning_rate': 0.09242345777751795, 'n_estimators': 518, 'min_child_samples': 25, 'subsample': 0.8, 'colsample_bytree': 0.7}. Best is trial 17 with value: 0.7353431047503891.\n",
      "[I 2025-02-23 04:20:43,451] Trial 20 finished with value: 0.7350417642521944 and parameters: {'num_iterations': 2784, 'objective': 'binary', 'metric': 'auc', 'verbose': -1, 'learning_rate': 0.044344764294399146, 'n_estimators': 1174, 'min_child_samples': 15, 'subsample': 0.9, 'colsample_bytree': 0.6}. Best is trial 17 with value: 0.7353431047503891.\n",
      "[I 2025-02-23 04:20:46,144] Trial 21 finished with value: 0.734993934192096 and parameters: {'num_iterations': 1778, 'objective': 'binary', 'metric': 'auc', 'verbose': -1, 'learning_rate': 0.057074856976986825, 'n_estimators': 922, 'min_child_samples': 15, 'subsample': 0.9, 'colsample_bytree': 0.6}. Best is trial 17 with value: 0.7353431047503891.\n",
      "[I 2025-02-23 04:20:49,237] Trial 22 finished with value: 0.7350065390252704 and parameters: {'num_iterations': 2076, 'objective': 'binary', 'metric': 'auc', 'verbose': -1, 'learning_rate': 0.03748991720311096, 'n_estimators': 746, 'min_child_samples': 10, 'subsample': 0.9, 'colsample_bytree': 0.6}. Best is trial 17 with value: 0.7353431047503891.\n",
      "[I 2025-02-23 04:20:52,961] Trial 23 finished with value: 0.7348849266099275 and parameters: {'num_iterations': 1726, 'objective': 'binary', 'metric': 'auc', 'verbose': -1, 'learning_rate': 0.024264423105645274, 'n_estimators': 926, 'min_child_samples': 20, 'subsample': 0.8, 'colsample_bytree': 0.7}. Best is trial 17 with value: 0.7353431047503891.\n",
      "[I 2025-02-23 04:20:57,057] Trial 24 finished with value: 0.735116591053288 and parameters: {'num_iterations': 2261, 'objective': 'binary', 'metric': 'auc', 'verbose': -1, 'learning_rate': 0.030495367572464963, 'n_estimators': 358, 'min_child_samples': 15, 'subsample': 1.0, 'colsample_bytree': 0.6}. Best is trial 17 with value: 0.7353431047503891.\n",
      "[I 2025-02-23 04:20:59,719] Trial 25 finished with value: 0.7347700693367489 and parameters: {'num_iterations': 2456, 'objective': 'binary', 'metric': 'auc', 'verbose': -1, 'learning_rate': 0.05024883911822808, 'n_estimators': 637, 'min_child_samples': 25, 'subsample': 0.9, 'colsample_bytree': 0.7}. Best is trial 17 with value: 0.7353431047503891.\n",
      "[I 2025-02-23 04:21:02,128] Trial 26 finished with value: 0.7346260033212901 and parameters: {'num_iterations': 1916, 'objective': 'binary', 'metric': 'auc', 'verbose': -1, 'learning_rate': 0.0703098101487649, 'n_estimators': 1298, 'min_child_samples': 10, 'subsample': 0.8, 'colsample_bytree': 0.5}. Best is trial 17 with value: 0.7353431047503891.\n",
      "[I 2025-02-23 04:21:04,955] Trial 27 finished with value: 0.7346578013361695 and parameters: {'num_iterations': 2828, 'objective': 'binary', 'metric': 'auc', 'verbose': -1, 'learning_rate': 0.03887891435186554, 'n_estimators': 1009, 'min_child_samples': 20, 'subsample': 1.0, 'colsample_bytree': 0.8}. Best is trial 17 with value: 0.7353431047503891.\n",
      "[I 2025-02-23 04:21:08,650] Trial 28 finished with value: 0.7349175625642523 and parameters: {'num_iterations': 2570, 'objective': 'binary', 'metric': 'auc', 'verbose': -1, 'learning_rate': 0.022817119185957045, 'n_estimators': 400, 'min_child_samples': 15, 'subsample': 0.7, 'colsample_bytree': 0.6}. Best is trial 17 with value: 0.7353431047503891.\n",
      "[I 2025-02-23 04:21:11,470] Trial 29 finished with value: 0.7350662630599614 and parameters: {'num_iterations': 2341, 'objective': 'binary', 'metric': 'auc', 'verbose': -1, 'learning_rate': 0.06039594748316395, 'n_estimators': 855, 'min_child_samples': 35, 'subsample': 0.7, 'colsample_bytree': 0.5}. Best is trial 17 with value: 0.7353431047503891.\n",
      "[I 2025-02-23 04:21:13,251] Trial 30 finished with value: 0.7344690266843286 and parameters: {'num_iterations': 2226, 'objective': 'binary', 'metric': 'auc', 'verbose': -1, 'learning_rate': 0.07263777348050664, 'n_estimators': 104, 'min_child_samples': 10, 'subsample': 0.9, 'colsample_bytree': 0.9}. Best is trial 17 with value: 0.7353431047503891.\n",
      "[I 2025-02-23 04:21:17,598] Trial 31 finished with value: 0.7348262787913015 and parameters: {'num_iterations': 2742, 'objective': 'binary', 'metric': 'auc', 'verbose': -1, 'learning_rate': 0.026569567658172748, 'n_estimators': 1570, 'min_child_samples': 20, 'subsample': 0.6, 'colsample_bytree': 0.5}. Best is trial 17 with value: 0.7353431047503891.\n",
      "[I 2025-02-23 04:21:21,130] Trial 32 finished with value: 0.7352643463850729 and parameters: {'num_iterations': 2731, 'objective': 'binary', 'metric': 'auc', 'verbose': -1, 'learning_rate': 0.05060386559105995, 'n_estimators': 1493, 'min_child_samples': 20, 'subsample': 0.6, 'colsample_bytree': 0.5}. Best is trial 17 with value: 0.7353431047503891.\n",
      "[I 2025-02-23 04:21:24,168] Trial 33 finished with value: 0.7350967028981092 and parameters: {'num_iterations': 2660, 'objective': 'binary', 'metric': 'auc', 'verbose': -1, 'learning_rate': 0.05252172418227507, 'n_estimators': 1595, 'min_child_samples': 15, 'subsample': 0.5, 'colsample_bytree': 0.5}. Best is trial 17 with value: 0.7353431047503891.\n",
      "[I 2025-02-23 04:21:27,095] Trial 34 finished with value: 0.7349081665228879 and parameters: {'num_iterations': 1502, 'objective': 'binary', 'metric': 'auc', 'verbose': -1, 'learning_rate': 0.042704818626805696, 'n_estimators': 1232, 'min_child_samples': 25, 'subsample': 0.6, 'colsample_bytree': 0.6}. Best is trial 17 with value: 0.7353431047503891.\n",
      "[I 2025-02-23 04:21:30,014] Trial 35 finished with value: 0.7350546272183732 and parameters: {'num_iterations': 2946, 'objective': 'binary', 'metric': 'auc', 'verbose': -1, 'learning_rate': 0.08292201788727444, 'n_estimators': 1462, 'min_child_samples': 15, 'subsample': 0.7, 'colsample_bytree': 0.5}. Best is trial 17 with value: 0.7353431047503891.\n",
      "[I 2025-02-23 04:21:31,999] Trial 36 finished with value: 0.7346537069495902 and parameters: {'num_iterations': 1609, 'objective': 'binary', 'metric': 'auc', 'verbose': -1, 'learning_rate': 0.06045663190605174, 'n_estimators': 1740, 'min_child_samples': 10, 'subsample': 0.8, 'colsample_bytree': 0.7}. Best is trial 17 with value: 0.7353431047503891.\n",
      "[I 2025-02-23 04:21:34,163] Trial 37 finished with value: 0.7346374683979676 and parameters: {'num_iterations': 2844, 'objective': 'binary', 'metric': 'auc', 'verbose': -1, 'learning_rate': 0.04961702545622603, 'n_estimators': 1014, 'min_child_samples': 45, 'subsample': 1.0, 'colsample_bytree': 1.0}. Best is trial 17 with value: 0.7353431047503891.\n",
      "[I 2025-02-23 04:21:47,848] Trial 38 finished with value: 0.7350566724260243 and parameters: {'num_iterations': 2418, 'objective': 'binary', 'metric': 'auc', 'verbose': -1, 'learning_rate': 0.005761692517338732, 'n_estimators': 681, 'min_child_samples': 35, 'subsample': 0.8, 'colsample_bytree': 0.6}. Best is trial 17 with value: 0.7353431047503891.\n",
      "[I 2025-02-23 04:21:50,582] Trial 39 finished with value: 0.7352154003961396 and parameters: {'num_iterations': 2524, 'objective': 'binary', 'metric': 'auc', 'verbose': -1, 'learning_rate': 0.07820589796056561, 'n_estimators': 545, 'min_child_samples': 20, 'subsample': 0.5, 'colsample_bytree': 0.5}. Best is trial 17 with value: 0.7353431047503891.\n"
     ]
    },
    {
     "name": "stdout",
     "output_type": "stream",
     "text": [
      "Cat val score : 0.7363117071514262\n",
      "LGBM val score : 0.735077688423869\n",
      "Ensemble val score : 0.7363626427501329\n"
     ]
    },
    {
     "name": "stderr",
     "output_type": "stream",
     "text": [
      "[I 2025-02-23 04:21:54,059] A new study created in memory with name: no-name-323f2b6e-441c-49f6-aec1-6147c7ceec02\n"
     ]
    },
    {
     "name": "stdout",
     "output_type": "stream",
     "text": [
      "==================================================\n"
     ]
    },
    {
     "name": "stderr",
     "output_type": "stream",
     "text": [
      "Default metric period is 5 because AUC is/are not implemented for GPU\n"
     ]
    },
    {
     "name": "stdout",
     "output_type": "stream",
     "text": [
      "0:\ttest: 0.7229777\tbest: 0.7229777 (0)\ttotal: 82.3ms\tremaining: 3m 14s\n",
      "300:\ttest: 0.7407350\tbest: 0.7407350 (300)\ttotal: 24.3s\tremaining: 2m 46s\n",
      "600:\ttest: 0.7422509\tbest: 0.7422550 (599)\ttotal: 48.7s\tremaining: 2m 23s\n",
      "900:\ttest: 0.7428091\tbest: 0.7428204 (898)\ttotal: 1m 13s\tremaining: 1m 58s\n",
      "1200:\ttest: 0.7428890\tbest: 0.7429122 (1055)\ttotal: 1m 37s\tremaining: 1m 34s\n",
      "1500:\ttest: 0.7427894\tbest: 0.7429924 (1338)\ttotal: 2m 2s\tremaining: 1m 10s\n",
      "bestTest = 0.7429924011\n",
      "bestIteration = 1338\n",
      "Shrink model to first 1339 iterations.\n"
     ]
    },
    {
     "name": "stderr",
     "output_type": "stream",
     "text": [
      "[I 2025-02-23 04:24:10,168] Trial 0 finished with value: 0.7429924011230469 and parameters: {'iterations': 2366, 'depth': 10, 'learning_rate': 0.01181021951839225, 'l2_leaf_reg': 9.980783802743254}. Best is trial 0 with value: 0.7429924011230469.\n"
     ]
    },
    {
     "name": "stdout",
     "output_type": "stream",
     "text": [
      "저장 완료\n"
     ]
    },
    {
     "name": "stderr",
     "output_type": "stream",
     "text": [
      "Default metric period is 5 because AUC is/are not implemented for GPU\n"
     ]
    },
    {
     "name": "stdout",
     "output_type": "stream",
     "text": [
      "0:\ttest: 0.7097557\tbest: 0.7097557 (0)\ttotal: 24.3ms\tremaining: 53.2s\n",
      "300:\ttest: 0.7305035\tbest: 0.7305035 (300)\ttotal: 5.51s\tremaining: 34.7s\n",
      "600:\ttest: 0.7349504\tbest: 0.7349504 (600)\ttotal: 9.61s\tremaining: 25.4s\n",
      "900:\ttest: 0.7372367\tbest: 0.7372367 (900)\ttotal: 13.7s\tremaining: 19.6s\n",
      "1200:\ttest: 0.7384999\tbest: 0.7384999 (1200)\ttotal: 18.8s\tremaining: 15.5s\n",
      "1500:\ttest: 0.7393231\tbest: 0.7393231 (1500)\ttotal: 23.3s\tremaining: 10.7s\n",
      "1800:\ttest: 0.7398750\tbest: 0.7398750 (1800)\ttotal: 27.4s\tremaining: 5.97s\n",
      "2100:\ttest: 0.7403257\tbest: 0.7403257 (2100)\ttotal: 31.5s\tremaining: 1.38s\n",
      "2192:\ttest: 0.7404411\tbest: 0.7404411 (2192)\ttotal: 32.8s\tremaining: 0us\n",
      "bestTest = 0.7404410541\n",
      "bestIteration = 2192\n"
     ]
    },
    {
     "name": "stderr",
     "output_type": "stream",
     "text": [
      "[I 2025-02-23 04:24:46,967] Trial 1 finished with value: 0.7404410541057587 and parameters: {'iterations': 2193, 'depth': 4, 'learning_rate': 0.005671430811678843, 'l2_leaf_reg': 0.00012325230809466137}. Best is trial 0 with value: 0.7429924011230469.\n",
      "Default metric period is 5 because AUC is/are not implemented for GPU\n"
     ]
    },
    {
     "name": "stdout",
     "output_type": "stream",
     "text": [
      "0:\ttest: 0.7097557\tbest: 0.7097557 (0)\ttotal: 17.9ms\tremaining: 45.4s\n",
      "300:\ttest: 0.7416213\tbest: 0.7416295 (299)\ttotal: 5.2s\tremaining: 38.6s\n",
      "600:\ttest: 0.7417216\tbest: 0.7418763 (567)\ttotal: 10.3s\tremaining: 33s\n",
      "900:\ttest: 0.7418023\tbest: 0.7419992 (704)\ttotal: 15.7s\tremaining: 28.4s\n"
     ]
    },
    {
     "name": "stderr",
     "output_type": "stream",
     "text": [
      "[I 2025-02-23 04:25:08,457] Trial 2 finished with value: 0.7419992387294769 and parameters: {'iterations': 2535, 'depth': 4, 'learning_rate': 0.09275339199839054, 'l2_leaf_reg': 0.0008705394248343123}. Best is trial 0 with value: 0.7429924011230469.\n"
     ]
    },
    {
     "name": "stdout",
     "output_type": "stream",
     "text": [
      "bestTest = 0.7419992387\n",
      "bestIteration = 704\n",
      "Shrink model to first 705 iterations.\n"
     ]
    },
    {
     "name": "stderr",
     "output_type": "stream",
     "text": [
      "Default metric period is 5 because AUC is/are not implemented for GPU\n"
     ]
    },
    {
     "name": "stdout",
     "output_type": "stream",
     "text": [
      "0:\ttest: 0.7097557\tbest: 0.7097557 (0)\ttotal: 18.6ms\tremaining: 43.5s\n",
      "300:\ttest: 0.7408693\tbest: 0.7408693 (300)\ttotal: 4.65s\tremaining: 31.4s\n",
      "600:\ttest: 0.7419796\tbest: 0.7420479 (558)\ttotal: 9.06s\tremaining: 26.1s\n",
      "900:\ttest: 0.7423584\tbest: 0.7423601 (887)\ttotal: 13.9s\tremaining: 22.1s\n",
      "1200:\ttest: 0.7422713\tbest: 0.7423742 (908)\ttotal: 19.5s\tremaining: 18.4s\n",
      "bestTest = 0.7423741519\n",
      "bestIteration = 908\n",
      "Shrink model to first 909 iterations.\n"
     ]
    },
    {
     "name": "stderr",
     "output_type": "stream",
     "text": [
      "[I 2025-02-23 04:25:31,978] Trial 3 finished with value: 0.7423741519451141 and parameters: {'iterations': 2334, 'depth': 4, 'learning_rate': 0.04657568321363276, 'l2_leaf_reg': 0.0008640473331457248}. Best is trial 0 with value: 0.7429924011230469.\n",
      "Default metric period is 5 because AUC is/are not implemented for GPU\n"
     ]
    },
    {
     "name": "stdout",
     "output_type": "stream",
     "text": [
      "0:\ttest: 0.7235305\tbest: 0.7235305 (0)\ttotal: 87.8ms\tremaining: 2m 32s\n",
      "300:\ttest: 0.7398773\tbest: 0.7398773 (300)\ttotal: 24.4s\tremaining: 1m 56s\n",
      "600:\ttest: 0.7402754\tbest: 0.7406724 (518)\ttotal: 48.8s\tremaining: 1m 32s\n",
      "bestTest = 0.7406724393\n",
      "bestIteration = 518\n",
      "Shrink model to first 519 iterations.\n"
     ]
    },
    {
     "name": "stderr",
     "output_type": "stream",
     "text": [
      "[I 2025-02-23 04:26:42,630] Trial 4 finished with value: 0.7406724393367767 and parameters: {'iterations': 1742, 'depth': 10, 'learning_rate': 0.012622767482095846, 'l2_leaf_reg': 0.00021158816350109617}. Best is trial 0 with value: 0.7429924011230469.\n",
      "Default metric period is 5 because AUC is/are not implemented for GPU\n"
     ]
    },
    {
     "name": "stdout",
     "output_type": "stream",
     "text": [
      "0:\ttest: 0.7097557\tbest: 0.7097557 (0)\ttotal: 25.2ms\tremaining: 52.5s\n",
      "300:\ttest: 0.7413447\tbest: 0.7413669 (296)\ttotal: 5.59s\tremaining: 33.1s\n",
      "600:\ttest: 0.7419637\tbest: 0.7420436 (560)\ttotal: 12s\tremaining: 29.5s\n",
      "900:\ttest: 0.7421535\tbest: 0.7422037 (889)\ttotal: 16.5s\tremaining: 21.7s\n",
      "bestTest = 0.7422037423\n",
      "bestIteration = 889\n",
      "Shrink model to first 890 iterations.\n"
     ]
    },
    {
     "name": "stderr",
     "output_type": "stream",
     "text": [
      "[I 2025-02-23 04:27:07,332] Trial 5 finished with value: 0.7422037422657013 and parameters: {'iterations': 2082, 'depth': 4, 'learning_rate': 0.06995196593094148, 'l2_leaf_reg': 0.0018080296485396804}. Best is trial 0 with value: 0.7429924011230469.\n",
      "Default metric period is 5 because AUC is/are not implemented for GPU\n"
     ]
    },
    {
     "name": "stdout",
     "output_type": "stream",
     "text": [
      "0:\ttest: 0.7139430\tbest: 0.7139430 (0)\ttotal: 31.9ms\tremaining: 1m 3s\n",
      "300:\ttest: 0.7420719\tbest: 0.7420719 (300)\ttotal: 6.52s\tremaining: 36.7s\n",
      "600:\ttest: 0.7428040\tbest: 0.7428274 (576)\ttotal: 11.8s\tremaining: 27.5s\n",
      "900:\ttest: 0.7428867\tbest: 0.7430365 (862)\ttotal: 17.2s\tremaining: 20.9s\n",
      "1200:\ttest: 0.7428802\tbest: 0.7430836 (1121)\ttotal: 22.6s\tremaining: 15s\n",
      "bestTest = 0.7430835664\n",
      "bestIteration = 1121\n",
      "Shrink model to first 1122 iterations.\n"
     ]
    },
    {
     "name": "stderr",
     "output_type": "stream",
     "text": [
      "[I 2025-02-23 04:27:38,204] Trial 6 finished with value: 0.7430835664272308 and parameters: {'iterations': 1997, 'depth': 5, 'learning_rate': 0.07985155992831598, 'l2_leaf_reg': 62.52181000710482}. Best is trial 6 with value: 0.7430835664272308.\n"
     ]
    },
    {
     "name": "stdout",
     "output_type": "stream",
     "text": [
      "저장 완료\n"
     ]
    },
    {
     "name": "stderr",
     "output_type": "stream",
     "text": [
      "Default metric period is 5 because AUC is/are not implemented for GPU\n"
     ]
    },
    {
     "name": "stdout",
     "output_type": "stream",
     "text": [
      "0:\ttest: 0.7191603\tbest: 0.7191603 (0)\ttotal: 40.8ms\tremaining: 1m 18s\n",
      "300:\ttest: 0.7416281\tbest: 0.7424127 (116)\ttotal: 8.93s\tremaining: 48.2s\n"
     ]
    },
    {
     "name": "stderr",
     "output_type": "stream",
     "text": [
      "[I 2025-02-23 04:27:54,518] Trial 7 finished with value: 0.7424127161502838 and parameters: {'iterations': 1927, 'depth': 7, 'learning_rate': 0.0941937211034094, 'l2_leaf_reg': 0.05654822767791934}. Best is trial 6 with value: 0.7430835664272308.\n"
     ]
    },
    {
     "name": "stdout",
     "output_type": "stream",
     "text": [
      "bestTest = 0.7424127162\n",
      "bestIteration = 116\n",
      "Shrink model to first 117 iterations.\n"
     ]
    },
    {
     "name": "stderr",
     "output_type": "stream",
     "text": [
      "Default metric period is 5 because AUC is/are not implemented for GPU\n"
     ]
    },
    {
     "name": "stdout",
     "output_type": "stream",
     "text": [
      "0:\ttest: 0.7191585\tbest: 0.7191585 (0)\ttotal: 43.5ms\tremaining: 1m 22s\n",
      "300:\ttest: 0.7425096\tbest: 0.7425209 (298)\ttotal: 9.39s\tremaining: 50s\n",
      "600:\ttest: 0.7428203\tbest: 0.7429882 (439)\ttotal: 17.9s\tremaining: 38.9s\n",
      "bestTest = 0.7429881692\n",
      "bestIteration = 439\n",
      "Shrink model to first 440 iterations.\n"
     ]
    },
    {
     "name": "stderr",
     "output_type": "stream",
     "text": [
      "[I 2025-02-23 04:28:20,578] Trial 8 finished with value: 0.7429881691932678 and parameters: {'iterations': 1904, 'depth': 7, 'learning_rate': 0.05155602859187331, 'l2_leaf_reg': 1.299974533316308}. Best is trial 6 with value: 0.7430835664272308.\n",
      "Default metric period is 5 because AUC is/are not implemented for GPU\n"
     ]
    },
    {
     "name": "stdout",
     "output_type": "stream",
     "text": [
      "0:\ttest: 0.7167428\tbest: 0.7167428 (0)\ttotal: 27.4ms\tremaining: 1m 12s\n",
      "300:\ttest: 0.7416085\tbest: 0.7416085 (300)\ttotal: 7.26s\tremaining: 56.4s\n",
      "600:\ttest: 0.7425065\tbest: 0.7425416 (593)\ttotal: 13.8s\tremaining: 46.9s\n",
      "900:\ttest: 0.7427070\tbest: 0.7428046 (749)\ttotal: 20.5s\tremaining: 39.6s\n",
      "bestTest = 0.7428046465\n",
      "bestIteration = 749\n",
      "Shrink model to first 750 iterations.\n"
     ]
    },
    {
     "name": "stderr",
     "output_type": "stream",
     "text": [
      "[I 2025-02-23 04:28:48,390] Trial 9 finished with value: 0.7428046464920044 and parameters: {'iterations': 2639, 'depth': 6, 'learning_rate': 0.03968704290444751, 'l2_leaf_reg': 0.30557194377967184}. Best is trial 6 with value: 0.7430835664272308.\n",
      "Default metric period is 5 because AUC is/are not implemented for GPU\n"
     ]
    },
    {
     "name": "stdout",
     "output_type": "stream",
     "text": [
      "0:\ttest: 0.7224582\tbest: 0.7224582 (0)\ttotal: 33.4ms\tremaining: 1m 38s\n",
      "300:\ttest: 0.7426055\tbest: 0.7426055 (300)\ttotal: 7.26s\tremaining: 1m 3s\n",
      "600:\ttest: 0.7433285\tbest: 0.7433455 (597)\ttotal: 13.9s\tremaining: 54.1s\n",
      "900:\ttest: 0.7434366\tbest: 0.7434763 (853)\ttotal: 20.5s\tremaining: 46.6s\n",
      "bestTest = 0.7434762716\n",
      "bestIteration = 853\n",
      "Shrink model to first 854 iterations.\n"
     ]
    },
    {
     "name": "stderr",
     "output_type": "stream",
     "text": [
      "[I 2025-02-23 04:29:18,742] Trial 10 finished with value: 0.7434762716293335 and parameters: {'iterations': 2945, 'depth': 6, 'learning_rate': 0.07265276039199581, 'l2_leaf_reg': 97.18545559492446}. Best is trial 10 with value: 0.7434762716293335.\n"
     ]
    },
    {
     "name": "stdout",
     "output_type": "stream",
     "text": [
      "저장 완료\n"
     ]
    },
    {
     "name": "stderr",
     "output_type": "stream",
     "text": [
      "Default metric period is 5 because AUC is/are not implemented for GPU\n"
     ]
    },
    {
     "name": "stdout",
     "output_type": "stream",
     "text": [
      "0:\ttest: 0.7167213\tbest: 0.7167213 (0)\ttotal: 37.1ms\tremaining: 1m 51s\n",
      "300:\ttest: 0.7425331\tbest: 0.7425339 (296)\ttotal: 8.23s\tremaining: 1m 13s\n",
      "600:\ttest: 0.7431303\tbest: 0.7431356 (596)\ttotal: 14.8s\tremaining: 59s\n",
      "900:\ttest: 0.7431947\tbest: 0.7432426 (710)\ttotal: 21.5s\tremaining: 49.9s\n",
      "bestTest = 0.7432425916\n",
      "bestIteration = 710\n",
      "Shrink model to first 711 iterations.\n"
     ]
    },
    {
     "name": "stderr",
     "output_type": "stream",
     "text": [
      "[I 2025-02-23 04:29:46,765] Trial 11 finished with value: 0.7432425916194916 and parameters: {'iterations': 2994, 'depth': 6, 'learning_rate': 0.07131044509072976, 'l2_leaf_reg': 73.12133513928158}. Best is trial 10 with value: 0.7434762716293335.\n",
      "Default metric period is 5 because AUC is/are not implemented for GPU\n"
     ]
    },
    {
     "name": "stdout",
     "output_type": "stream",
     "text": [
      "0:\ttest: 0.7224582\tbest: 0.7224582 (0)\ttotal: 40.8ms\tremaining: 1m 58s\n",
      "300:\ttest: 0.7424461\tbest: 0.7425024 (293)\ttotal: 9.14s\tremaining: 1m 18s\n",
      "600:\ttest: 0.7429586\tbest: 0.7429966 (532)\ttotal: 16.9s\tremaining: 1m 4s\n",
      "900:\ttest: 0.7430071\tbest: 0.7431375 (710)\ttotal: 23.6s\tremaining: 52.3s\n",
      "bestTest = 0.7431374788\n",
      "bestIteration = 710\n",
      "Shrink model to first 711 iterations.\n"
     ]
    },
    {
     "name": "stderr",
     "output_type": "stream",
     "text": [
      "[I 2025-02-23 04:30:16,994] Trial 12 finished with value: 0.7431374788284302 and parameters: {'iterations': 2897, 'depth': 6, 'learning_rate': 0.06853332055535903, 'l2_leaf_reg': 87.13438924619733}. Best is trial 10 with value: 0.7434762716293335.\n",
      "Default metric period is 5 because AUC is/are not implemented for GPU\n"
     ]
    },
    {
     "name": "stdout",
     "output_type": "stream",
     "text": [
      "0:\ttest: 0.7199645\tbest: 0.7199645 (0)\ttotal: 57.6ms\tremaining: 2m 51s\n",
      "300:\ttest: 0.7430974\tbest: 0.7431090 (289)\ttotal: 12.3s\tremaining: 1m 49s\n",
      "600:\ttest: 0.7427427\tbest: 0.7433647 (408)\ttotal: 23.7s\tremaining: 1m 33s\n",
      "bestTest = 0.7433647215\n",
      "bestIteration = 408\n",
      "Shrink model to first 409 iterations.\n"
     ]
    },
    {
     "name": "stderr",
     "output_type": "stream",
     "text": [
      "[I 2025-02-23 04:30:48,832] Trial 13 finished with value: 0.7433647215366364 and parameters: {'iterations': 2975, 'depth': 8, 'learning_rate': 0.06703158786644411, 'l2_leaf_reg': 7.828901342687918}. Best is trial 10 with value: 0.7434762716293335.\n",
      "Default metric period is 5 because AUC is/are not implemented for GPU\n"
     ]
    },
    {
     "name": "stdout",
     "output_type": "stream",
     "text": [
      "0:\ttest: 0.7199655\tbest: 0.7199655 (0)\ttotal: 56.7ms\tremaining: 2m 36s\n",
      "300:\ttest: 0.7423999\tbest: 0.7425568 (258)\ttotal: 13.8s\tremaining: 1m 52s\n",
      "600:\ttest: 0.7422531\tbest: 0.7426779 (392)\ttotal: 25.1s\tremaining: 1m 29s\n",
      "bestTest = 0.742677927\n",
      "bestIteration = 392\n",
      "Shrink model to first 393 iterations.\n"
     ]
    },
    {
     "name": "stderr",
     "output_type": "stream",
     "text": [
      "[I 2025-02-23 04:31:21,439] Trial 14 finished with value: 0.7426779270172119 and parameters: {'iterations': 2754, 'depth': 8, 'learning_rate': 0.06046185283141788, 'l2_leaf_reg': 7.379847537700873}. Best is trial 10 with value: 0.7434762716293335.\n",
      "Default metric period is 5 because AUC is/are not implemented for GPU\n"
     ]
    },
    {
     "name": "stdout",
     "output_type": "stream",
     "text": [
      "0:\ttest: 0.7199634\tbest: 0.7199634 (0)\ttotal: 44.7ms\tremaining: 1m 7s\n",
      "300:\ttest: 0.7426351\tbest: 0.7430037 (206)\ttotal: 12.2s\tremaining: 49.2s\n"
     ]
    },
    {
     "name": "stderr",
     "output_type": "stream",
     "text": [
      "[I 2025-02-23 04:31:45,331] Trial 15 finished with value: 0.7430036962032318 and parameters: {'iterations': 1513, 'depth': 8, 'learning_rate': 0.08625378621185843, 'l2_leaf_reg': 9.663069382488281}. Best is trial 10 with value: 0.7434762716293335.\n"
     ]
    },
    {
     "name": "stdout",
     "output_type": "stream",
     "text": [
      "bestTest = 0.7430036962\n",
      "bestIteration = 206\n",
      "Shrink model to first 207 iterations.\n"
     ]
    },
    {
     "name": "stderr",
     "output_type": "stream",
     "text": [
      "Default metric period is 5 because AUC is/are not implemented for GPU\n"
     ]
    },
    {
     "name": "stdout",
     "output_type": "stream",
     "text": [
      "0:\ttest: 0.7220398\tbest: 0.7220398 (0)\ttotal: 53.6ms\tremaining: 2m 31s\n",
      "300:\ttest: 0.7404506\tbest: 0.7421784 (124)\ttotal: 16s\tremaining: 2m 14s\n"
     ]
    },
    {
     "name": "stderr",
     "output_type": "stream",
     "text": [
      "[I 2025-02-23 04:32:11,876] Trial 16 finished with value: 0.7421784102916718 and parameters: {'iterations': 2821, 'depth': 9, 'learning_rate': 0.0808891958156232, 'l2_leaf_reg': 2.3137710520516865}. Best is trial 10 with value: 0.7434762716293335.\n"
     ]
    },
    {
     "name": "stdout",
     "output_type": "stream",
     "text": [
      "bestTest = 0.7421784103\n",
      "bestIteration = 124\n",
      "Shrink model to first 125 iterations.\n"
     ]
    },
    {
     "name": "stderr",
     "output_type": "stream",
     "text": [
      "Default metric period is 5 because AUC is/are not implemented for GPU\n"
     ]
    },
    {
     "name": "stdout",
     "output_type": "stream",
     "text": [
      "0:\ttest: 0.7199562\tbest: 0.7199562 (0)\ttotal: 54.6ms\tremaining: 2m 17s\n",
      "300:\ttest: 0.7426607\tbest: 0.7427174 (288)\ttotal: 11.4s\tremaining: 1m 23s\n",
      "bestTest = 0.7427173853\n",
      "bestIteration = 288\n",
      "Shrink model to first 289 iterations.\n"
     ]
    },
    {
     "name": "stderr",
     "output_type": "stream",
     "text": [
      "[I 2025-02-23 04:32:38,050] Trial 17 finished with value: 0.7427173852920532 and parameters: {'iterations': 2519, 'depth': 8, 'learning_rate': 0.09691485007004577, 'l2_leaf_reg': 17.34354739135641}. Best is trial 10 with value: 0.7434762716293335.\n",
      "Default metric period is 5 because AUC is/are not implemented for GPU\n"
     ]
    },
    {
     "name": "stdout",
     "output_type": "stream",
     "text": [
      "0:\ttest: 0.7220407\tbest: 0.7220407 (0)\ttotal: 53.9ms\tremaining: 2m 41s\n",
      "300:\ttest: 0.7425510\tbest: 0.7426956 (207)\ttotal: 16s\tremaining: 2m 23s\n",
      "bestTest = 0.7426955998\n",
      "bestIteration = 207\n",
      "Shrink model to first 208 iterations.\n"
     ]
    },
    {
     "name": "stderr",
     "output_type": "stream",
     "text": [
      "[I 2025-02-23 04:33:08,983] Trial 18 finished with value: 0.7426955997943878 and parameters: {'iterations': 2996, 'depth': 9, 'learning_rate': 0.05970016430294879, 'l2_leaf_reg': 1.519994315857349}. Best is trial 10 with value: 0.7434762716293335.\n",
      "Default metric period is 5 because AUC is/are not implemented for GPU\n"
     ]
    },
    {
     "name": "stdout",
     "output_type": "stream",
     "text": [
      "0:\ttest: 0.7139357\tbest: 0.7139357 (0)\ttotal: 28.4ms\tremaining: 1m 17s\n",
      "300:\ttest: 0.7420181\tbest: 0.7420181 (300)\ttotal: 6.38s\tremaining: 51.6s\n",
      "600:\ttest: 0.7426411\tbest: 0.7426805 (566)\ttotal: 12.7s\tremaining: 44.9s\n",
      "900:\ttest: 0.7425018\tbest: 0.7427350 (685)\ttotal: 18s\tremaining: 36.7s\n",
      "bestTest = 0.7427349985\n",
      "bestIteration = 685\n",
      "Shrink model to first 686 iterations.\n"
     ]
    },
    {
     "name": "stderr",
     "output_type": "stream",
     "text": [
      "[I 2025-02-23 04:33:32,396] Trial 19 finished with value: 0.7427349984645844 and parameters: {'iterations': 2735, 'depth': 5, 'learning_rate': 0.07926302938688666, 'l2_leaf_reg': 26.173311383243338}. Best is trial 10 with value: 0.7434762716293335.\n",
      "Default metric period is 5 because AUC is/are not implemented for GPU\n"
     ]
    },
    {
     "name": "stdout",
     "output_type": "stream",
     "text": [
      "0:\ttest: 0.7250915\tbest: 0.7250915 (0)\ttotal: 46.2ms\tremaining: 1m 57s\n",
      "300:\ttest: 0.7418940\tbest: 0.7419029 (296)\ttotal: 9.27s\tremaining: 1m 9s\n",
      "600:\ttest: 0.7427342\tbest: 0.7427342 (600)\ttotal: 19.6s\tremaining: 1m 3s\n",
      "900:\ttest: 0.7429149\tbest: 0.7429149 (900)\ttotal: 28.2s\tremaining: 51.5s\n",
      "1200:\ttest: 0.7429143\tbest: 0.7430023 (1118)\ttotal: 36.8s\tremaining: 41.2s\n",
      "bestTest = 0.7430022955\n",
      "bestIteration = 1118\n",
      "Shrink model to first 1119 iterations.\n"
     ]
    },
    {
     "name": "stderr",
     "output_type": "stream",
     "text": [
      "[I 2025-02-23 04:34:19,796] Trial 20 finished with value: 0.7430022954940796 and parameters: {'iterations': 2547, 'depth': 7, 'learning_rate': 0.041718701258102425, 'l2_leaf_reg': 99.4230842016086}. Best is trial 10 with value: 0.7434762716293335.\n",
      "Default metric period is 5 because AUC is/are not implemented for GPU\n"
     ]
    },
    {
     "name": "stdout",
     "output_type": "stream",
     "text": [
      "0:\ttest: 0.7167350\tbest: 0.7167350 (0)\ttotal: 33.9ms\tremaining: 1m 41s\n",
      "300:\ttest: 0.7428932\tbest: 0.7428956 (299)\ttotal: 7.44s\tremaining: 1m 6s\n",
      "600:\ttest: 0.7433095\tbest: 0.7433716 (595)\ttotal: 14.1s\tremaining: 55.8s\n",
      "900:\ttest: 0.7433192\tbest: 0.7434643 (657)\ttotal: 20.8s\tremaining: 48.1s\n",
      "bestTest = 0.7434642911\n",
      "bestIteration = 657\n",
      "Shrink model to first 658 iterations.\n"
     ]
    },
    {
     "name": "stderr",
     "output_type": "stream",
     "text": [
      "[I 2025-02-23 04:34:45,875] Trial 21 finished with value: 0.7434642910957336 and parameters: {'iterations': 2987, 'depth': 6, 'learning_rate': 0.07233754255384207, 'l2_leaf_reg': 33.894253733241015}. Best is trial 10 with value: 0.7434762716293335.\n",
      "Default metric period is 5 because AUC is/are not implemented for GPU\n"
     ]
    },
    {
     "name": "stdout",
     "output_type": "stream",
     "text": [
      "0:\ttest: 0.7139357\tbest: 0.7139357 (0)\ttotal: 28.3ms\tremaining: 1m 21s\n",
      "300:\ttest: 0.7419230\tbest: 0.7419319 (296)\ttotal: 6.18s\tremaining: 53s\n",
      "600:\ttest: 0.7428665\tbest: 0.7428669 (595)\ttotal: 11.5s\tremaining: 43.6s\n",
      "900:\ttest: 0.7430501\tbest: 0.7430999 (885)\ttotal: 16.9s\tremaining: 37s\n",
      "1200:\ttest: 0.7431377\tbest: 0.7432460 (1130)\ttotal: 22.3s\tremaining: 31.1s\n",
      "bestTest = 0.7432460189\n",
      "bestIteration = 1130\n",
      "Shrink model to first 1131 iterations.\n"
     ]
    },
    {
     "name": "stderr",
     "output_type": "stream",
     "text": [
      "[I 2025-02-23 04:35:16,487] Trial 22 finished with value: 0.7432460188865662 and parameters: {'iterations': 2879, 'depth': 5, 'learning_rate': 0.06337206314474193, 'l2_leaf_reg': 26.451953873196402}. Best is trial 10 with value: 0.7434762716293335.\n",
      "Default metric period is 5 because AUC is/are not implemented for GPU\n"
     ]
    },
    {
     "name": "stdout",
     "output_type": "stream",
     "text": [
      "0:\ttest: 0.7167396\tbest: 0.7167396 (0)\ttotal: 27.7ms\tremaining: 1m 14s\n",
      "300:\ttest: 0.7422223\tbest: 0.7422300 (299)\ttotal: 8.12s\tremaining: 1m 4s\n",
      "600:\ttest: 0.7425413\tbest: 0.7426924 (523)\ttotal: 16.2s\tremaining: 56.1s\n",
      "bestTest = 0.7426923513\n",
      "bestIteration = 523\n",
      "Shrink model to first 524 iterations.\n"
     ]
    },
    {
     "name": "stderr",
     "output_type": "stream",
     "text": [
      "[I 2025-02-23 04:35:43,749] Trial 23 finished with value: 0.7426923513412476 and parameters: {'iterations': 2684, 'depth': 6, 'learning_rate': 0.07488576957117589, 'l2_leaf_reg': 4.650534219111174}. Best is trial 10 with value: 0.7434762716293335.\n",
      "Default metric period is 5 because AUC is/are not implemented for GPU\n"
     ]
    },
    {
     "name": "stdout",
     "output_type": "stream",
     "text": [
      "0:\ttest: 0.7199559\tbest: 0.7199559 (0)\ttotal: 60.7ms\tremaining: 2m 55s\n",
      "300:\ttest: 0.7426324\tbest: 0.7430472 (193)\ttotal: 13.1s\tremaining: 1m 52s\n"
     ]
    },
    {
     "name": "stderr",
     "output_type": "stream",
     "text": [
      "[I 2025-02-23 04:36:09,054] Trial 24 finished with value: 0.7430472075939178 and parameters: {'iterations': 2892, 'depth': 8, 'learning_rate': 0.0865053845892953, 'l2_leaf_reg': 22.86771688635144}. Best is trial 10 with value: 0.7434762716293335.\n"
     ]
    },
    {
     "name": "stdout",
     "output_type": "stream",
     "text": [
      "bestTest = 0.7430472076\n",
      "bestIteration = 193\n",
      "Shrink model to first 194 iterations.\n"
     ]
    },
    {
     "name": "stderr",
     "output_type": "stream",
     "text": [
      "Default metric period is 5 because AUC is/are not implemented for GPU\n"
     ]
    },
    {
     "name": "stdout",
     "output_type": "stream",
     "text": [
      "0:\ttest: 0.7191560\tbest: 0.7191560 (0)\ttotal: 45.3ms\tremaining: 2m 15s\n",
      "300:\ttest: 0.7428319\tbest: 0.7428456 (299)\ttotal: 9.34s\tremaining: 1m 23s\n",
      "600:\ttest: 0.7429297\tbest: 0.7431917 (350)\ttotal: 18.3s\tremaining: 1m 12s\n",
      "bestTest = 0.7431916595\n",
      "bestIteration = 350\n",
      "Shrink model to first 351 iterations.\n"
     ]
    },
    {
     "name": "stderr",
     "output_type": "stream",
     "text": [
      "[I 2025-02-23 04:36:33,648] Trial 25 finished with value: 0.743191659450531 and parameters: {'iterations': 2992, 'depth': 7, 'learning_rate': 0.0649130636506585, 'l2_leaf_reg': 32.063075700063294}. Best is trial 10 with value: 0.7434762716293335.\n",
      "Default metric period is 5 because AUC is/are not implemented for GPU\n"
     ]
    },
    {
     "name": "stdout",
     "output_type": "stream",
     "text": [
      "0:\ttest: 0.7220375\tbest: 0.7220375 (0)\ttotal: 62.2ms\tremaining: 2m 54s\n",
      "300:\ttest: 0.7418477\tbest: 0.7423418 (123)\ttotal: 18.6s\tremaining: 2m 34s\n",
      "bestTest = 0.7423418164\n",
      "bestIteration = 123\n",
      "Shrink model to first 124 iterations.\n"
     ]
    },
    {
     "name": "stderr",
     "output_type": "stream",
     "text": [
      "[I 2025-02-23 04:37:02,702] Trial 26 finished with value: 0.7423418164253235 and parameters: {'iterations': 2801, 'depth': 9, 'learning_rate': 0.0742866838537976, 'l2_leaf_reg': 4.342397790956763}. Best is trial 10 with value: 0.7434762716293335.\n",
      "Default metric period is 5 because AUC is/are not implemented for GPU\n"
     ]
    },
    {
     "name": "stdout",
     "output_type": "stream",
     "text": [
      "0:\ttest: 0.7139430\tbest: 0.7139430 (0)\ttotal: 30.3ms\tremaining: 1m 19s\n",
      "300:\ttest: 0.7420335\tbest: 0.7420335 (300)\ttotal: 6.24s\tremaining: 47.9s\n",
      "600:\ttest: 0.7428944\tbest: 0.7429258 (594)\ttotal: 12.6s\tremaining: 42.1s\n",
      "900:\ttest: 0.7430441\tbest: 0.7430864 (885)\ttotal: 17.9s\tremaining: 34.1s\n",
      "1200:\ttest: 0.7430570\tbest: 0.7431921 (1139)\ttotal: 24.7s\tremaining: 29s\n",
      "bestTest = 0.7431921065\n",
      "bestIteration = 1139\n",
      "Shrink model to first 1140 iterations.\n"
     ]
    },
    {
     "name": "stderr",
     "output_type": "stream",
     "text": [
      "[I 2025-02-23 04:37:35,883] Trial 27 finished with value: 0.7431921064853668 and parameters: {'iterations': 2611, 'depth': 5, 'learning_rate': 0.059285751516017136, 'l2_leaf_reg': 40.13609841357797}. Best is trial 10 with value: 0.7434762716293335.\n",
      "Default metric period is 5 because AUC is/are not implemented for GPU\n"
     ]
    },
    {
     "name": "stdout",
     "output_type": "stream",
     "text": [
      "0:\ttest: 0.7167428\tbest: 0.7167428 (0)\ttotal: 35.2ms\tremaining: 1m 25s\n",
      "300:\ttest: 0.7422463\tbest: 0.7422463 (300)\ttotal: 7.11s\tremaining: 50.4s\n",
      "600:\ttest: 0.7427775\tbest: 0.7428353 (594)\ttotal: 14.4s\tremaining: 44.1s\n",
      "900:\ttest: 0.7427917\tbest: 0.7428881 (754)\ttotal: 21.5s\tremaining: 36.6s\n",
      "bestTest = 0.742888093\n",
      "bestIteration = 754\n",
      "Shrink model to first 755 iterations.\n"
     ]
    },
    {
     "name": "stderr",
     "output_type": "stream",
     "text": [
      "[I 2025-02-23 04:38:05,046] Trial 28 finished with value: 0.7428880929946899 and parameters: {'iterations': 2435, 'depth': 6, 'learning_rate': 0.054998305185314914, 'l2_leaf_reg': 0.6662420999624478}. Best is trial 10 with value: 0.7434762716293335.\n",
      "Default metric period is 5 because AUC is/are not implemented for GPU\n"
     ]
    },
    {
     "name": "stdout",
     "output_type": "stream",
     "text": [
      "0:\ttest: 0.7191480\tbest: 0.7191480 (0)\ttotal: 42.9ms\tremaining: 2m 3s\n",
      "300:\ttest: 0.7426691\tbest: 0.7427098 (273)\ttotal: 9.43s\tremaining: 1m 21s\n",
      "600:\ttest: 0.7422349\tbest: 0.7428064 (324)\ttotal: 18s\tremaining: 1m 8s\n",
      "bestTest = 0.7428064346\n",
      "bestIteration = 324\n",
      "Shrink model to first 325 iterations.\n"
     ]
    },
    {
     "name": "stderr",
     "output_type": "stream",
     "text": [
      "[I 2025-02-23 04:38:27,789] Trial 29 finished with value: 0.7428064346313477 and parameters: {'iterations': 2894, 'depth': 7, 'learning_rate': 0.0997987467417374, 'l2_leaf_reg': 9.626994619429514}. Best is trial 10 with value: 0.7434762716293335.\n",
      "Default metric period is 5 because AUC is/are not implemented for GPU\n"
     ]
    },
    {
     "name": "stdout",
     "output_type": "stream",
     "text": [
      "0:\ttest: 0.7220270\tbest: 0.7220270 (0)\ttotal: 58.3ms\tremaining: 2m 14s\n",
      "300:\ttest: 0.7427753\tbest: 0.7427816 (288)\ttotal: 16.5s\tremaining: 1m 50s\n",
      "600:\ttest: 0.7412842\tbest: 0.7428358 (312)\ttotal: 32.5s\tremaining: 1m 32s\n",
      "bestTest = 0.7428357899\n",
      "bestIteration = 312\n",
      "Shrink model to first 313 iterations.\n"
     ]
    },
    {
     "name": "stderr",
     "output_type": "stream",
     "text": [
      "[I 2025-02-23 04:39:05,042] Trial 30 finished with value: 0.7428357899188995 and parameters: {'iterations': 2309, 'depth': 9, 'learning_rate': 0.06845494143715, 'l2_leaf_reg': 11.60269168814099}. Best is trial 10 with value: 0.7434762716293335.\n",
      "Default metric period is 5 because AUC is/are not implemented for GPU\n"
     ]
    },
    {
     "name": "stdout",
     "output_type": "stream",
     "text": [
      "0:\ttest: 0.7139357\tbest: 0.7139357 (0)\ttotal: 29.6ms\tremaining: 1m 25s\n",
      "300:\ttest: 0.7418873\tbest: 0.7418891 (296)\ttotal: 5.59s\tremaining: 47.8s\n",
      "600:\ttest: 0.7426615\tbest: 0.7427096 (549)\ttotal: 12.4s\tremaining: 46.8s\n",
      "900:\ttest: 0.7428401\tbest: 0.7428548 (710)\ttotal: 17.7s\tremaining: 38.8s\n",
      "1200:\ttest: 0.7430125\tbest: 0.7431536 (1142)\ttotal: 23.1s\tremaining: 32.1s\n",
      "bestTest = 0.7431536317\n",
      "bestIteration = 1142\n",
      "Shrink model to first 1143 iterations.\n"
     ]
    },
    {
     "name": "stderr",
     "output_type": "stream",
     "text": [
      "[I 2025-02-23 04:39:36,617] Trial 31 finished with value: 0.7431536316871643 and parameters: {'iterations': 2874, 'depth': 5, 'learning_rate': 0.06496845964516883, 'l2_leaf_reg': 27.676057519651742}. Best is trial 10 with value: 0.7434762716293335.\n",
      "Default metric period is 5 because AUC is/are not implemented for GPU\n"
     ]
    },
    {
     "name": "stdout",
     "output_type": "stream",
     "text": [
      "0:\ttest: 0.7139430\tbest: 0.7139430 (0)\ttotal: 19.9ms\tremaining: 56.2s\n",
      "300:\ttest: 0.7419076\tbest: 0.7419156 (299)\ttotal: 6.26s\tremaining: 52.4s\n",
      "600:\ttest: 0.7427600\tbest: 0.7427686 (598)\ttotal: 11.6s\tremaining: 42.8s\n",
      "900:\ttest: 0.7428925\tbest: 0.7429808 (703)\ttotal: 16.9s\tremaining: 36.1s\n",
      "1200:\ttest: 0.7428820\tbest: 0.7430539 (1137)\ttotal: 22.4s\tremaining: 30.1s\n",
      "bestTest = 0.7430539429\n",
      "bestIteration = 1137\n",
      "Shrink model to first 1138 iterations.\n"
     ]
    },
    {
     "name": "stderr",
     "output_type": "stream",
     "text": [
      "[I 2025-02-23 04:40:07,501] Trial 32 finished with value: 0.7430539429187775 and parameters: {'iterations': 2820, 'depth': 5, 'learning_rate': 0.07424404764225348, 'l2_leaf_reg': 35.486607714424096}. Best is trial 10 with value: 0.7434762716293335.\n",
      "Default metric period is 5 because AUC is/are not implemented for GPU\n"
     ]
    },
    {
     "name": "stdout",
     "output_type": "stream",
     "text": [
      "0:\ttest: 0.7167362\tbest: 0.7167362 (0)\ttotal: 27.1ms\tremaining: 1m 19s\n",
      "300:\ttest: 0.7427386\tbest: 0.7427512 (294)\ttotal: 7.78s\tremaining: 1m 8s\n",
      "600:\ttest: 0.7431686\tbest: 0.7432262 (528)\ttotal: 14.9s\tremaining: 58.1s\n",
      "900:\ttest: 0.7429935\tbest: 0.7432328 (653)\ttotal: 21.6s\tremaining: 48.9s\n",
      "bestTest = 0.7432328463\n",
      "bestIteration = 653\n",
      "Shrink model to first 654 iterations.\n"
     ]
    },
    {
     "name": "stderr",
     "output_type": "stream",
     "text": [
      "[I 2025-02-23 04:40:34,275] Trial 33 finished with value: 0.7432328462600708 and parameters: {'iterations': 2942, 'depth': 6, 'learning_rate': 0.06479876225099868, 'l2_leaf_reg': 13.47576533159458}. Best is trial 10 with value: 0.7434762716293335.\n",
      "Default metric period is 5 because AUC is/are not implemented for GPU\n"
     ]
    },
    {
     "name": "stdout",
     "output_type": "stream",
     "text": [
      "0:\ttest: 0.7139406\tbest: 0.7139406 (0)\ttotal: 30.5ms\tremaining: 1m 22s\n",
      "300:\ttest: 0.7417339\tbest: 0.7417344 (299)\ttotal: 6.12s\tremaining: 49s\n",
      "600:\ttest: 0.7425411\tbest: 0.7425411 (600)\ttotal: 13.3s\tremaining: 46.6s\n",
      "900:\ttest: 0.7427432\tbest: 0.7428014 (885)\ttotal: 18.6s\tremaining: 37.4s\n",
      "1200:\ttest: 0.7428426\tbest: 0.7428987 (1132)\ttotal: 24s\tremaining: 30.2s\n",
      "bestTest = 0.7428987026\n",
      "bestIteration = 1132\n",
      "Shrink model to first 1133 iterations.\n"
     ]
    },
    {
     "name": "stderr",
     "output_type": "stream",
     "text": [
      "[I 2025-02-23 04:41:06,823] Trial 34 finished with value: 0.74289870262146 and parameters: {'iterations': 2708, 'depth': 5, 'learning_rate': 0.053643162840900524, 'l2_leaf_reg': 4.0489625850889}. Best is trial 10 with value: 0.7434762716293335.\n",
      "Default metric period is 5 because AUC is/are not implemented for GPU\n"
     ]
    },
    {
     "name": "stdout",
     "output_type": "stream",
     "text": [
      "0:\ttest: 0.7097557\tbest: 0.7097557 (0)\ttotal: 14.1ms\tremaining: 39.5s\n",
      "300:\ttest: 0.7416969\tbest: 0.7417012 (296)\ttotal: 5.75s\tremaining: 48s\n",
      "600:\ttest: 0.7422950\tbest: 0.7423135 (561)\ttotal: 10.1s\tremaining: 37s\n",
      "900:\ttest: 0.7426136\tbest: 0.7426321 (885)\ttotal: 14.3s\tremaining: 30.2s\n",
      "1200:\ttest: 0.7425806\tbest: 0.7426540 (1033)\ttotal: 18.5s\tremaining: 24.8s\n",
      "bestTest = 0.7426540256\n",
      "bestIteration = 1033\n",
      "Shrink model to first 1034 iterations.\n"
     ]
    },
    {
     "name": "stderr",
     "output_type": "stream",
     "text": [
      "[I 2025-02-23 04:41:31,165] Trial 35 finished with value: 0.742654025554657 and parameters: {'iterations': 2809, 'depth': 4, 'learning_rate': 0.08889784521463175, 'l2_leaf_reg': 47.73136382311419}. Best is trial 10 with value: 0.7434762716293335.\n",
      "Default metric period is 5 because AUC is/are not implemented for GPU\n"
     ]
    },
    {
     "name": "stdout",
     "output_type": "stream",
     "text": [
      "0:\ttest: 0.7224582\tbest: 0.7224582 (0)\ttotal: 35.2ms\tremaining: 1m 16s\n",
      "300:\ttest: 0.7430467\tbest: 0.7430467 (300)\ttotal: 7.36s\tremaining: 45.9s\n",
      "600:\ttest: 0.7435773\tbest: 0.7436092 (596)\ttotal: 15.2s\tremaining: 39.9s\n",
      "900:\ttest: 0.7438620\tbest: 0.7438911 (855)\ttotal: 21.9s\tremaining: 31.1s\n",
      "bestTest = 0.7438910604\n",
      "bestIteration = 855\n",
      "Shrink model to first 856 iterations.\n"
     ]
    },
    {
     "name": "stderr",
     "output_type": "stream",
     "text": [
      "[I 2025-02-23 04:42:02,953] Trial 36 finished with value: 0.7438910603523254 and parameters: {'iterations': 2181, 'depth': 6, 'learning_rate': 0.0800336090220011, 'l2_leaf_reg': 95.73149498355843}. Best is trial 36 with value: 0.7438910603523254.\n"
     ]
    },
    {
     "name": "stdout",
     "output_type": "stream",
     "text": [
      "저장 완료\n"
     ]
    },
    {
     "name": "stderr",
     "output_type": "stream",
     "text": [
      "Default metric period is 5 because AUC is/are not implemented for GPU\n"
     ]
    },
    {
     "name": "stdout",
     "output_type": "stream",
     "text": [
      "0:\ttest: 0.7191643\tbest: 0.7191643 (0)\ttotal: 46ms\tremaining: 1m 43s\n",
      "300:\ttest: 0.7427658\tbest: 0.7428032 (284)\ttotal: 10.7s\tremaining: 1m 9s\n",
      "600:\ttest: 0.7428222\tbest: 0.7429939 (366)\ttotal: 19.3s\tremaining: 52.9s\n",
      "bestTest = 0.7429938614\n",
      "bestIteration = 366\n",
      "Shrink model to first 367 iterations.\n"
     ]
    },
    {
     "name": "stderr",
     "output_type": "stream",
     "text": [
      "[I 2025-02-23 04:42:28,244] Trial 37 finished with value: 0.7429938614368439 and parameters: {'iterations': 2253, 'depth': 7, 'learning_rate': 0.07999083692874183, 'l2_leaf_reg': 66.84824255146019}. Best is trial 36 with value: 0.7438910603523254.\n",
      "Default metric period is 5 because AUC is/are not implemented for GPU\n"
     ]
    },
    {
     "name": "stdout",
     "output_type": "stream",
     "text": [
      "0:\ttest: 0.7224582\tbest: 0.7224582 (0)\ttotal: 38.1ms\tremaining: 1m 21s\n",
      "300:\ttest: 0.7427785\tbest: 0.7427785 (300)\ttotal: 7.55s\tremaining: 46.4s\n",
      "600:\ttest: 0.7431687\tbest: 0.7433329 (498)\ttotal: 14.9s\tremaining: 38.6s\n",
      "bestTest = 0.7433328927\n",
      "bestIteration = 498\n",
      "Shrink model to first 499 iterations.\n"
     ]
    },
    {
     "name": "stderr",
     "output_type": "stream",
     "text": [
      "[I 2025-02-23 04:42:53,364] Trial 38 finished with value: 0.7433328926563263 and parameters: {'iterations': 2152, 'depth': 6, 'learning_rate': 0.08946318127546282, 'l2_leaf_reg': 85.18669059665297}. Best is trial 36 with value: 0.7438910603523254.\n",
      "Default metric period is 5 because AUC is/are not implemented for GPU\n"
     ]
    },
    {
     "name": "stdout",
     "output_type": "stream",
     "text": [
      "0:\ttest: 0.7229753\tbest: 0.7229753 (0)\ttotal: 81.8ms\tremaining: 3m 19s\n",
      "300:\ttest: 0.7405241\tbest: 0.7424343 (146)\ttotal: 24.4s\tremaining: 2m 52s\n",
      "bestTest = 0.7424342632\n",
      "bestIteration = 146\n",
      "Shrink model to first 147 iterations.\n"
     ]
    },
    {
     "name": "stderr",
     "output_type": "stream",
     "text": [
      "[I 2025-02-23 04:43:33,605] Trial 39 finished with value: 0.7424342632293701 and parameters: {'iterations': 2436, 'depth': 10, 'learning_rate': 0.08404381427930376, 'l2_leaf_reg': 13.0311736567845}. Best is trial 36 with value: 0.7438910603523254.\n",
      "[I 2025-02-23 04:43:33,614] A new study created in memory with name: no-name-7bcf55c6-bb8c-4883-8d40-9517875b7802\n",
      "[I 2025-02-23 04:43:37,917] Trial 0 finished with value: 0.7420360249467995 and parameters: {'num_iterations': 2366, 'objective': 'binary', 'metric': 'auc', 'verbose': -1, 'learning_rate': 0.0652646236447618, 'n_estimators': 236, 'min_child_samples': 45, 'subsample': 0.7, 'colsample_bytree': 0.5}. Best is trial 0 with value: 0.7420360249467995.\n",
      "[I 2025-02-23 04:43:49,518] Trial 1 finished with value: 0.7425288326226362 and parameters: {'num_iterations': 1510, 'objective': 'binary', 'metric': 'auc', 'verbose': -1, 'learning_rate': 0.005231880959249543, 'n_estimators': 1411, 'min_child_samples': 10, 'subsample': 1.0, 'colsample_bytree': 0.5}. Best is trial 1 with value: 0.7425288326226362.\n",
      "[I 2025-02-23 04:44:00,086] Trial 2 finished with value: 0.7420148898106452 and parameters: {'num_iterations': 2334, 'objective': 'binary', 'metric': 'auc', 'verbose': -1, 'learning_rate': 0.006578527777128852, 'n_estimators': 931, 'min_child_samples': 15, 'subsample': 0.5, 'colsample_bytree': 1.0}. Best is trial 1 with value: 0.7425288326226362.\n",
      "[I 2025-02-23 04:44:10,718] Trial 3 finished with value: 0.7426868934182168 and parameters: {'num_iterations': 1620, 'objective': 'binary', 'metric': 'auc', 'verbose': -1, 'learning_rate': 0.0058823249237283685, 'n_estimators': 837, 'min_child_samples': 10, 'subsample': 0.9, 'colsample_bytree': 0.6}. Best is trial 3 with value: 0.7426868934182168.\n",
      "[I 2025-02-23 04:44:16,519] Trial 4 finished with value: 0.742159499891052 and parameters: {'num_iterations': 1997, 'objective': 'binary', 'metric': 'auc', 'verbose': -1, 'learning_rate': 0.010907507425244923, 'n_estimators': 1597, 'min_child_samples': 50, 'subsample': 0.6, 'colsample_bytree': 0.8}. Best is trial 3 with value: 0.7426868934182168.\n",
      "[I 2025-02-23 04:44:20,947] Trial 5 finished with value: 0.7419074826531047 and parameters: {'num_iterations': 2909, 'objective': 'binary', 'metric': 'auc', 'verbose': -1, 'learning_rate': 0.019760591962733942, 'n_estimators': 612, 'min_child_samples': 30, 'subsample': 0.7, 'colsample_bytree': 0.9}. Best is trial 3 with value: 0.7426868934182168.\n",
      "[I 2025-02-23 04:44:25,273] Trial 6 finished with value: 0.7420172130076859 and parameters: {'num_iterations': 2639, 'objective': 'binary', 'metric': 'auc', 'verbose': -1, 'learning_rate': 0.017862094446750985, 'n_estimators': 794, 'min_child_samples': 35, 'subsample': 1.0, 'colsample_bytree': 0.8}. Best is trial 3 with value: 0.7426868934182168.\n",
      "[I 2025-02-23 04:44:31,101] Trial 7 finished with value: 0.7426487651878113 and parameters: {'num_iterations': 1580, 'objective': 'binary', 'metric': 'auc', 'verbose': -1, 'learning_rate': 0.01776722177611332, 'n_estimators': 529, 'min_child_samples': 25, 'subsample': 0.8, 'colsample_bytree': 0.5}. Best is trial 3 with value: 0.7426868934182168.\n",
      "[I 2025-02-23 04:44:34,439] Trial 8 finished with value: 0.7427557633038216 and parameters: {'num_iterations': 1911, 'objective': 'binary', 'metric': 'auc', 'verbose': -1, 'learning_rate': 0.0304747553332844, 'n_estimators': 1328, 'min_child_samples': 10, 'subsample': 0.7, 'colsample_bytree': 0.6}. Best is trial 8 with value: 0.7427557633038216.\n",
      "[I 2025-02-23 04:44:38,699] Trial 9 finished with value: 0.7425620245557399 and parameters: {'num_iterations': 2739, 'objective': 'binary', 'metric': 'auc', 'verbose': -1, 'learning_rate': 0.02691531614176271, 'n_estimators': 1438, 'min_child_samples': 20, 'subsample': 0.6, 'colsample_bytree': 0.5}. Best is trial 8 with value: 0.7427557633038216.\n",
      "[I 2025-02-23 04:44:40,787] Trial 10 finished with value: 0.7423537072498188 and parameters: {'num_iterations': 1956, 'objective': 'binary', 'metric': 'auc', 'verbose': -1, 'learning_rate': 0.054215149252329425, 'n_estimators': 1953, 'min_child_samples': 40, 'subsample': 0.8, 'colsample_bytree': 0.7}. Best is trial 8 with value: 0.7427557633038216.\n",
      "[I 2025-02-23 04:44:43,399] Trial 11 finished with value: 0.7421443732969873 and parameters: {'num_iterations': 1834, 'objective': 'binary', 'metric': 'auc', 'verbose': -1, 'learning_rate': 0.03460621797677765, 'n_estimators': 1155, 'min_child_samples': 10, 'subsample': 0.9, 'colsample_bytree': 0.7}. Best is trial 8 with value: 0.7427557633038216.\n",
      "[I 2025-02-23 04:44:45,518] Trial 12 finished with value: 0.741793737337484 and parameters: {'num_iterations': 1744, 'objective': 'binary', 'metric': 'auc', 'verbose': -1, 'learning_rate': 0.09589438055026471, 'n_estimators': 1182, 'min_child_samples': 20, 'subsample': 0.9, 'colsample_bytree': 0.6}. Best is trial 8 with value: 0.7427557633038216.\n",
      "[I 2025-02-23 04:44:53,977] Trial 13 finished with value: 0.7426149894769897 and parameters: {'num_iterations': 2109, 'objective': 'binary', 'metric': 'auc', 'verbose': -1, 'learning_rate': 0.008919020151167545, 'n_estimators': 1881, 'min_child_samples': 10, 'subsample': 0.9, 'colsample_bytree': 0.6}. Best is trial 8 with value: 0.7427557633038216.\n",
      "[I 2025-02-23 04:45:01,091] Trial 14 finished with value: 0.7426129124991225 and parameters: {'num_iterations': 1714, 'objective': 'binary', 'metric': 'auc', 'verbose': -1, 'learning_rate': 0.012490420102650054, 'n_estimators': 172, 'min_child_samples': 20, 'subsample': 0.8, 'colsample_bytree': 0.6}. Best is trial 8 with value: 0.7427557633038216.\n",
      "[I 2025-02-23 04:45:12,962] Trial 15 finished with value: 0.7423734087549788 and parameters: {'num_iterations': 2164, 'objective': 'binary', 'metric': 'auc', 'verbose': -1, 'learning_rate': 0.00518253235982016, 'n_estimators': 1058, 'min_child_samples': 15, 'subsample': 0.6, 'colsample_bytree': 0.7}. Best is trial 8 with value: 0.7427557633038216.\n",
      "[I 2025-02-23 04:45:16,967] Trial 16 finished with value: 0.7424621151691614 and parameters: {'num_iterations': 1830, 'objective': 'binary', 'metric': 'auc', 'verbose': -1, 'learning_rate': 0.030545717236467297, 'n_estimators': 667, 'min_child_samples': 30, 'subsample': 0.7, 'colsample_bytree': 0.6}. Best is trial 8 with value: 0.7427557633038216.\n",
      "[I 2025-02-23 04:45:23,208] Trial 17 finished with value: 0.7426397980443621 and parameters: {'num_iterations': 1678, 'objective': 'binary', 'metric': 'auc', 'verbose': -1, 'learning_rate': 0.01384769331008121, 'n_estimators': 1658, 'min_child_samples': 15, 'subsample': 0.9, 'colsample_bytree': 0.6}. Best is trial 8 with value: 0.7427557633038216.\n",
      "[I 2025-02-23 04:45:32,211] Trial 18 finished with value: 0.7424688703113257 and parameters: {'num_iterations': 1955, 'objective': 'binary', 'metric': 'auc', 'verbose': -1, 'learning_rate': 0.008285940515159382, 'n_estimators': 408, 'min_child_samples': 25, 'subsample': 1.0, 'colsample_bytree': 0.7}. Best is trial 8 with value: 0.7427557633038216.\n",
      "[I 2025-02-23 04:45:35,685] Trial 19 finished with value: 0.7423746477934005 and parameters: {'num_iterations': 2481, 'objective': 'binary', 'metric': 'auc', 'verbose': -1, 'learning_rate': 0.02370015129033347, 'n_estimators': 871, 'min_child_samples': 10, 'subsample': 0.5, 'colsample_bytree': 0.8}. Best is trial 8 with value: 0.7427557633038216.\n",
      "[I 2025-02-23 04:45:38,155] Trial 20 finished with value: 0.7420079043344153 and parameters: {'num_iterations': 1622, 'objective': 'binary', 'metric': 'auc', 'verbose': -1, 'learning_rate': 0.03844621393609846, 'n_estimators': 1267, 'min_child_samples': 15, 'subsample': 0.8, 'colsample_bytree': 0.9}. Best is trial 8 with value: 0.7427557633038216.\n",
      "[I 2025-02-23 04:45:44,937] Trial 21 finished with value: 0.7429132045801913 and parameters: {'num_iterations': 1519, 'objective': 'binary', 'metric': 'auc', 'verbose': -1, 'learning_rate': 0.016867104651340004, 'n_estimators': 467, 'min_child_samples': 25, 'subsample': 0.8, 'colsample_bytree': 0.5}. Best is trial 21 with value: 0.7429132045801913.\n",
      "[I 2025-02-23 04:45:52,379] Trial 22 finished with value: 0.7427229129005393 and parameters: {'num_iterations': 1534, 'objective': 'binary', 'metric': 'auc', 'verbose': -1, 'learning_rate': 0.015331505878026301, 'n_estimators': 483, 'min_child_samples': 25, 'subsample': 0.7, 'colsample_bytree': 0.5}. Best is trial 21 with value: 0.7429132045801913.\n",
      "[I 2025-02-23 04:45:58,353] Trial 23 finished with value: 0.742703795173097 and parameters: {'num_iterations': 1833, 'objective': 'binary', 'metric': 'auc', 'verbose': -1, 'learning_rate': 0.015113426209393484, 'n_estimators': 379, 'min_child_samples': 35, 'subsample': 0.7, 'colsample_bytree': 0.5}. Best is trial 21 with value: 0.7429132045801913.\n",
      "[I 2025-02-23 04:46:02,838] Trial 24 finished with value: 0.742399928942735 and parameters: {'num_iterations': 1523, 'objective': 'binary', 'metric': 'auc', 'verbose': -1, 'learning_rate': 0.021863948969835807, 'n_estimators': 381, 'min_child_samples': 25, 'subsample': 0.6, 'colsample_bytree': 0.5}. Best is trial 21 with value: 0.7429132045801913.\n",
      "[I 2025-02-23 04:46:07,363] Trial 25 finished with value: 0.7423579684300318 and parameters: {'num_iterations': 1502, 'objective': 'binary', 'metric': 'auc', 'verbose': -1, 'learning_rate': 0.02519071573035645, 'n_estimators': 136, 'min_child_samples': 35, 'subsample': 0.7, 'colsample_bytree': 0.5}. Best is trial 21 with value: 0.7429132045801913.\n",
      "[I 2025-02-23 04:46:12,383] Trial 26 finished with value: 0.7425843629888231 and parameters: {'num_iterations': 2040, 'objective': 'binary', 'metric': 'auc', 'verbose': -1, 'learning_rate': 0.018727687063849627, 'n_estimators': 693, 'min_child_samples': 25, 'subsample': 0.8, 'colsample_bytree': 0.6}. Best is trial 21 with value: 0.7429132045801913.\n",
      "[I 2025-02-23 04:46:19,970] Trial 27 finished with value: 0.742700089971663 and parameters: {'num_iterations': 1766, 'objective': 'binary', 'metric': 'auc', 'verbose': -1, 'learning_rate': 0.015002224389329938, 'n_estimators': 502, 'min_child_samples': 40, 'subsample': 0.7, 'colsample_bytree': 0.5}. Best is trial 21 with value: 0.7429132045801913.\n",
      "[I 2025-02-23 04:46:27,786] Trial 28 finished with value: 0.7426074321368729 and parameters: {'num_iterations': 1910, 'objective': 'binary', 'metric': 'auc', 'verbose': -1, 'learning_rate': 0.010499628776536615, 'n_estimators': 1016, 'min_child_samples': 20, 'subsample': 0.6, 'colsample_bytree': 0.6}. Best is trial 21 with value: 0.7429132045801913.\n",
      "[I 2025-02-23 04:46:32,266] Trial 29 finished with value: 0.7425221410209037 and parameters: {'num_iterations': 2236, 'objective': 'binary', 'metric': 'auc', 'verbose': -1, 'learning_rate': 0.04030098468148633, 'n_estimators': 289, 'min_child_samples': 30, 'subsample': 0.7, 'colsample_bytree': 0.5}. Best is trial 21 with value: 0.7429132045801913.\n",
      "[I 2025-02-23 04:46:36,555] Trial 30 finished with value: 0.7424898982230013 and parameters: {'num_iterations': 1661, 'objective': 'binary', 'metric': 'auc', 'verbose': -1, 'learning_rate': 0.02818682156612029, 'n_estimators': 1340, 'min_child_samples': 45, 'subsample': 0.8, 'colsample_bytree': 0.5}. Best is trial 21 with value: 0.7429132045801913.\n",
      "[I 2025-02-23 04:46:43,927] Trial 31 finished with value: 0.7425610793918158 and parameters: {'num_iterations': 1851, 'objective': 'binary', 'metric': 'auc', 'verbose': -1, 'learning_rate': 0.014276704862345611, 'n_estimators': 304, 'min_child_samples': 35, 'subsample': 0.7, 'colsample_bytree': 0.5}. Best is trial 21 with value: 0.7429132045801913.\n",
      "[I 2025-02-23 04:46:49,505] Trial 32 finished with value: 0.7424738979479983 and parameters: {'num_iterations': 1773, 'objective': 'binary', 'metric': 'auc', 'verbose': -1, 'learning_rate': 0.016251776596893624, 'n_estimators': 424, 'min_child_samples': 40, 'subsample': 0.7, 'colsample_bytree': 0.5}. Best is trial 21 with value: 0.7429132045801913.\n",
      "[I 2025-02-23 04:46:54,938] Trial 33 finished with value: 0.7427252758103497 and parameters: {'num_iterations': 1581, 'objective': 'binary', 'metric': 'auc', 'verbose': -1, 'learning_rate': 0.02212906128851352, 'n_estimators': 543, 'min_child_samples': 30, 'subsample': 0.8, 'colsample_bytree': 0.5}. Best is trial 21 with value: 0.7429132045801913.\n",
      "[I 2025-02-23 04:47:00,304] Trial 34 finished with value: 0.7423401373963352 and parameters: {'num_iterations': 1573, 'objective': 'binary', 'metric': 'auc', 'verbose': -1, 'learning_rate': 0.02117684092670549, 'n_estimators': 772, 'min_child_samples': 30, 'subsample': 0.8, 'colsample_bytree': 0.6}. Best is trial 21 with value: 0.7429132045801913.\n",
      "[I 2025-02-23 04:47:05,622] Trial 35 finished with value: 0.742471916280779 and parameters: {'num_iterations': 1634, 'objective': 'binary', 'metric': 'auc', 'verbose': -1, 'learning_rate': 0.021552797695193738, 'n_estimators': 593, 'min_child_samples': 25, 'subsample': 0.8, 'colsample_bytree': 0.5}. Best is trial 21 with value: 0.7429132045801913.\n",
      "[I 2025-02-23 04:47:09,094] Trial 36 finished with value: 0.742470828150883 and parameters: {'num_iterations': 1509, 'objective': 'binary', 'metric': 'auc', 'verbose': -1, 'learning_rate': 0.030902456924498584, 'n_estimators': 1614, 'min_child_samples': 20, 'subsample': 0.9, 'colsample_bytree': 0.6}. Best is trial 21 with value: 0.7429132045801913.\n",
      "[I 2025-02-23 04:47:13,337] Trial 37 finished with value: 0.7417185014948602 and parameters: {'num_iterations': 2313, 'objective': 'binary', 'metric': 'auc', 'verbose': -1, 'learning_rate': 0.017135145674218356, 'n_estimators': 971, 'min_child_samples': 30, 'subsample': 0.6, 'colsample_bytree': 1.0}. Best is trial 21 with value: 0.7429132045801913.\n",
      "[I 2025-02-23 04:47:18,407] Trial 38 finished with value: 0.7427183379894438 and parameters: {'num_iterations': 1691, 'objective': 'binary', 'metric': 'auc', 'verbose': -1, 'learning_rate': 0.02411364521749526, 'n_estimators': 1489, 'min_child_samples': 25, 'subsample': 0.7, 'colsample_bytree': 0.5}. Best is trial 21 with value: 0.7429132045801913.\n",
      "[I 2025-02-23 04:47:22,110] Trial 39 finished with value: 0.7417918311245276 and parameters: {'num_iterations': 1576, 'objective': 'binary', 'metric': 'auc', 'verbose': -1, 'learning_rate': 0.01854724390389007, 'n_estimators': 230, 'min_child_samples': 45, 'subsample': 0.5, 'colsample_bytree': 0.9}. Best is trial 21 with value: 0.7429132045801913.\n"
     ]
    },
    {
     "name": "stdout",
     "output_type": "stream",
     "text": [
      "Cat val score : 0.7438910719704521\n",
      "LGBM val score : 0.7426468748599628\n",
      "Ensemble val score : 0.7438701274555934\n"
     ]
    },
    {
     "name": "stderr",
     "output_type": "stream",
     "text": [
      "[I 2025-02-23 04:47:30,201] A new study created in memory with name: no-name-cfe5da74-2d68-4162-a2d2-8c0c97963c29\n"
     ]
    },
    {
     "name": "stdout",
     "output_type": "stream",
     "text": [
      "==================================================\n"
     ]
    },
    {
     "name": "stderr",
     "output_type": "stream",
     "text": [
      "Default metric period is 5 because AUC is/are not implemented for GPU\n"
     ]
    },
    {
     "name": "stdout",
     "output_type": "stream",
     "text": [
      "0:\ttest: 0.7271577\tbest: 0.7271577 (0)\ttotal: 81.8ms\tremaining: 3m 13s\n",
      "300:\ttest: 0.7396214\tbest: 0.7396214 (300)\ttotal: 24.3s\tremaining: 2m 46s\n",
      "600:\ttest: 0.7407389\tbest: 0.7407520 (590)\ttotal: 48.7s\tremaining: 2m 23s\n",
      "900:\ttest: 0.7409975\tbest: 0.7410277 (804)\ttotal: 1m 13s\tremaining: 1m 58s\n",
      "1200:\ttest: 0.7410862\tbest: 0.7411244 (1115)\ttotal: 1m 37s\tremaining: 1m 34s\n",
      "bestTest = 0.7411244214\n",
      "bestIteration = 1115\n",
      "Shrink model to first 1116 iterations.\n"
     ]
    },
    {
     "name": "stderr",
     "output_type": "stream",
     "text": [
      "[I 2025-02-23 04:49:27,800] Trial 0 finished with value: 0.7411244213581085 and parameters: {'iterations': 2366, 'depth': 10, 'learning_rate': 0.01181021951839225, 'l2_leaf_reg': 9.980783802743254}. Best is trial 0 with value: 0.7411244213581085.\n"
     ]
    },
    {
     "name": "stdout",
     "output_type": "stream",
     "text": [
      "저장 완료\n"
     ]
    },
    {
     "name": "stderr",
     "output_type": "stream",
     "text": [
      "Default metric period is 5 because AUC is/are not implemented for GPU\n"
     ]
    },
    {
     "name": "stdout",
     "output_type": "stream",
     "text": [
      "0:\ttest: 0.7112691\tbest: 0.7112691 (0)\ttotal: 17.8ms\tremaining: 38.9s\n",
      "300:\ttest: 0.7305694\tbest: 0.7305694 (300)\ttotal: 5.91s\tremaining: 37.1s\n",
      "600:\ttest: 0.7346716\tbest: 0.7346716 (600)\ttotal: 10.9s\tremaining: 28.9s\n",
      "900:\ttest: 0.7364686\tbest: 0.7364686 (900)\ttotal: 15.9s\tremaining: 22.7s\n",
      "1200:\ttest: 0.7375373\tbest: 0.7375373 (1200)\ttotal: 20.9s\tremaining: 17.2s\n",
      "1500:\ttest: 0.7382472\tbest: 0.7382472 (1500)\ttotal: 25.9s\tremaining: 12s\n",
      "1800:\ttest: 0.7386799\tbest: 0.7386799 (1800)\ttotal: 31s\tremaining: 6.76s\n",
      "2100:\ttest: 0.7390044\tbest: 0.7390044 (2100)\ttotal: 36.1s\tremaining: 1.58s\n",
      "2192:\ttest: 0.7390971\tbest: 0.7390971 (2192)\ttotal: 37.6s\tremaining: 0us\n",
      "bestTest = 0.7390970886\n",
      "bestIteration = 2192\n"
     ]
    },
    {
     "name": "stderr",
     "output_type": "stream",
     "text": [
      "[I 2025-02-23 04:50:09,149] Trial 1 finished with value: 0.7390970885753632 and parameters: {'iterations': 2193, 'depth': 4, 'learning_rate': 0.005671430811678843, 'l2_leaf_reg': 0.00012325230809466137}. Best is trial 0 with value: 0.7411244213581085.\n",
      "Default metric period is 5 because AUC is/are not implemented for GPU\n"
     ]
    },
    {
     "name": "stdout",
     "output_type": "stream",
     "text": [
      "0:\ttest: 0.7112691\tbest: 0.7112691 (0)\ttotal: 15.4ms\tremaining: 39s\n",
      "300:\ttest: 0.7402270\tbest: 0.7402270 (300)\ttotal: 4.92s\tremaining: 36.5s\n",
      "600:\ttest: 0.7406417\tbest: 0.7407062 (577)\ttotal: 10.1s\tremaining: 32.6s\n",
      "900:\ttest: 0.7407124\tbest: 0.7409353 (785)\ttotal: 15.6s\tremaining: 28.2s\n",
      "bestTest = 0.7409353256\n",
      "bestIteration = 785\n",
      "Shrink model to first 786 iterations.\n"
     ]
    },
    {
     "name": "stderr",
     "output_type": "stream",
     "text": [
      "[I 2025-02-23 04:50:32,061] Trial 2 finished with value: 0.7409353256225586 and parameters: {'iterations': 2535, 'depth': 4, 'learning_rate': 0.09275339199839054, 'l2_leaf_reg': 0.0008705394248343123}. Best is trial 0 with value: 0.7411244213581085.\n",
      "Default metric period is 5 because AUC is/are not implemented for GPU\n"
     ]
    },
    {
     "name": "stdout",
     "output_type": "stream",
     "text": [
      "0:\ttest: 0.7112691\tbest: 0.7112691 (0)\ttotal: 13.9ms\tremaining: 32.5s\n",
      "300:\ttest: 0.7395506\tbest: 0.7395683 (299)\ttotal: 5.15s\tremaining: 34.8s\n",
      "600:\ttest: 0.7403533\tbest: 0.7404063 (559)\ttotal: 10.2s\tremaining: 29.4s\n",
      "900:\ttest: 0.7407053\tbest: 0.7407658 (881)\ttotal: 14.4s\tremaining: 22.8s\n",
      "1200:\ttest: 0.7408178\tbest: 0.7408651 (1084)\ttotal: 18.5s\tremaining: 17.5s\n",
      "1500:\ttest: 0.7407006\tbest: 0.7408950 (1336)\ttotal: 22.7s\tremaining: 12.6s\n",
      "bestTest = 0.7408950031\n",
      "bestIteration = 1336\n",
      "Shrink model to first 1337 iterations.\n"
     ]
    },
    {
     "name": "stderr",
     "output_type": "stream",
     "text": [
      "[I 2025-02-23 04:51:00,717] Trial 3 finished with value: 0.740895003080368 and parameters: {'iterations': 2334, 'depth': 4, 'learning_rate': 0.04657568321363276, 'l2_leaf_reg': 0.0008640473331457248}. Best is trial 0 with value: 0.7411244213581085.\n",
      "Default metric period is 5 because AUC is/are not implemented for GPU\n"
     ]
    },
    {
     "name": "stdout",
     "output_type": "stream",
     "text": [
      "0:\ttest: 0.7270665\tbest: 0.7270665 (0)\ttotal: 106ms\tremaining: 3m 4s\n",
      "300:\ttest: 0.7381983\tbest: 0.7385238 (283)\ttotal: 24.8s\tremaining: 1m 58s\n",
      "bestTest = 0.7385238409\n",
      "bestIteration = 283\n",
      "Shrink model to first 284 iterations.\n"
     ]
    },
    {
     "name": "stderr",
     "output_type": "stream",
     "text": [
      "[I 2025-02-23 04:51:52,577] Trial 4 finished with value: 0.7385238409042358 and parameters: {'iterations': 1742, 'depth': 10, 'learning_rate': 0.012622767482095846, 'l2_leaf_reg': 0.00021158816350109617}. Best is trial 0 with value: 0.7411244213581085.\n",
      "Default metric period is 5 because AUC is/are not implemented for GPU\n"
     ]
    },
    {
     "name": "stdout",
     "output_type": "stream",
     "text": [
      "0:\ttest: 0.7112691\tbest: 0.7112691 (0)\ttotal: 18.8ms\tremaining: 39.1s\n",
      "300:\ttest: 0.7398553\tbest: 0.7399108 (288)\ttotal: 4.95s\tremaining: 29.3s\n",
      "600:\ttest: 0.7403035\tbest: 0.7403179 (570)\ttotal: 10s\tremaining: 24.7s\n",
      "900:\ttest: 0.7404378\tbest: 0.7405412 (785)\ttotal: 15.1s\tremaining: 19.8s\n",
      "1200:\ttest: 0.7404883\tbest: 0.7405766 (968)\ttotal: 20.1s\tremaining: 14.8s\n",
      "bestTest = 0.7405766249\n",
      "bestIteration = 968\n",
      "Shrink model to first 969 iterations.\n"
     ]
    },
    {
     "name": "stderr",
     "output_type": "stream",
     "text": [
      "[I 2025-02-23 04:52:17,797] Trial 5 finished with value: 0.7405766248703003 and parameters: {'iterations': 2082, 'depth': 4, 'learning_rate': 0.06995196593094148, 'l2_leaf_reg': 0.0018080296485396804}. Best is trial 0 with value: 0.7411244213581085.\n",
      "Default metric period is 5 because AUC is/are not implemented for GPU\n"
     ]
    },
    {
     "name": "stdout",
     "output_type": "stream",
     "text": [
      "0:\ttest: 0.7153960\tbest: 0.7153960 (0)\ttotal: 21.1ms\tremaining: 42.1s\n",
      "300:\ttest: 0.7405798\tbest: 0.7405849 (298)\ttotal: 6.44s\tremaining: 36.3s\n",
      "600:\ttest: 0.7409407\tbest: 0.7410428 (557)\ttotal: 13.4s\tremaining: 31.1s\n",
      "900:\ttest: 0.7410173\tbest: 0.7411160 (760)\ttotal: 20.2s\tremaining: 24.6s\n",
      "bestTest = 0.7411159575\n",
      "bestIteration = 760\n",
      "Shrink model to first 761 iterations.\n"
     ]
    },
    {
     "name": "stderr",
     "output_type": "stream",
     "text": [
      "[I 2025-02-23 04:52:45,519] Trial 6 finished with value: 0.7411159574985504 and parameters: {'iterations': 1997, 'depth': 5, 'learning_rate': 0.07985155992831598, 'l2_leaf_reg': 62.52181000710482}. Best is trial 0 with value: 0.7411244213581085.\n",
      "Default metric period is 5 because AUC is/are not implemented for GPU\n"
     ]
    },
    {
     "name": "stdout",
     "output_type": "stream",
     "text": [
      "0:\ttest: 0.7247883\tbest: 0.7247883 (0)\ttotal: 33.4ms\tremaining: 1m 4s\n",
      "300:\ttest: 0.7392892\tbest: 0.7409705 (122)\ttotal: 10.4s\tremaining: 56.3s\n"
     ]
    },
    {
     "name": "stderr",
     "output_type": "stream",
     "text": [
      "[I 2025-02-23 04:53:03,944] Trial 7 finished with value: 0.7409704625606537 and parameters: {'iterations': 1927, 'depth': 7, 'learning_rate': 0.0941937211034094, 'l2_leaf_reg': 0.05654822767791934}. Best is trial 0 with value: 0.7411244213581085.\n"
     ]
    },
    {
     "name": "stdout",
     "output_type": "stream",
     "text": [
      "bestTest = 0.7409704626\n",
      "bestIteration = 122\n",
      "Shrink model to first 123 iterations.\n"
     ]
    },
    {
     "name": "stderr",
     "output_type": "stream",
     "text": [
      "Default metric period is 5 because AUC is/are not implemented for GPU\n"
     ]
    },
    {
     "name": "stdout",
     "output_type": "stream",
     "text": [
      "0:\ttest: 0.7247882\tbest: 0.7247882 (0)\ttotal: 47.8ms\tremaining: 1m 31s\n",
      "300:\ttest: 0.7407574\tbest: 0.7407887 (294)\ttotal: 11s\tremaining: 58.7s\n",
      "600:\ttest: 0.7408938\tbest: 0.7410509 (447)\ttotal: 20s\tremaining: 43.4s\n",
      "900:\ttest: 0.7406259\tbest: 0.7411143 (635)\ttotal: 28.8s\tremaining: 32.1s\n",
      "bestTest = 0.7411142886\n",
      "bestIteration = 635\n",
      "Shrink model to first 636 iterations.\n"
     ]
    },
    {
     "name": "stderr",
     "output_type": "stream",
     "text": [
      "[I 2025-02-23 04:53:38,023] Trial 8 finished with value: 0.7411142885684967 and parameters: {'iterations': 1904, 'depth': 7, 'learning_rate': 0.05155602859187331, 'l2_leaf_reg': 1.299974533316308}. Best is trial 0 with value: 0.7411244213581085.\n",
      "Default metric period is 5 because AUC is/are not implemented for GPU\n"
     ]
    },
    {
     "name": "stdout",
     "output_type": "stream",
     "text": [
      "0:\ttest: 0.7229764\tbest: 0.7229764 (0)\ttotal: 32ms\tremaining: 1m 24s\n",
      "300:\ttest: 0.7402788\tbest: 0.7402788 (300)\ttotal: 9.96s\tremaining: 1m 17s\n",
      "600:\ttest: 0.7406121\tbest: 0.7406844 (417)\ttotal: 18.8s\tremaining: 1m 3s\n",
      "bestTest = 0.7406844497\n",
      "bestIteration = 417\n",
      "Shrink model to first 418 iterations.\n"
     ]
    },
    {
     "name": "stderr",
     "output_type": "stream",
     "text": [
      "[I 2025-02-23 04:54:04,862] Trial 9 finished with value: 0.740684449672699 and parameters: {'iterations': 2639, 'depth': 6, 'learning_rate': 0.03968704290444751, 'l2_leaf_reg': 0.30557194377967184}. Best is trial 0 with value: 0.7411244213581085.\n",
      "Default metric period is 5 because AUC is/are not implemented for GPU\n"
     ]
    },
    {
     "name": "stdout",
     "output_type": "stream",
     "text": [
      "0:\ttest: 0.7269484\tbest: 0.7269484 (0)\ttotal: 82.5ms\tremaining: 4m 2s\n",
      "300:\ttest: 0.7413512\tbest: 0.7413991 (290)\ttotal: 24.4s\tremaining: 3m 34s\n",
      "600:\ttest: 0.7420012\tbest: 0.7420090 (598)\ttotal: 48.9s\tremaining: 3m 10s\n",
      "bestTest = 0.7420089543\n",
      "bestIteration = 598\n",
      "Shrink model to first 599 iterations.\n"
     ]
    },
    {
     "name": "stderr",
     "output_type": "stream",
     "text": [
      "[I 2025-02-23 04:55:22,079] Trial 10 finished with value: 0.7420089542865753 and parameters: {'iterations': 2945, 'depth': 10, 'learning_rate': 0.025911330134996406, 'l2_leaf_reg': 97.18545559492446}. Best is trial 10 with value: 0.7420089542865753.\n"
     ]
    },
    {
     "name": "stdout",
     "output_type": "stream",
     "text": [
      "저장 완료\n"
     ]
    },
    {
     "name": "stderr",
     "output_type": "stream",
     "text": [
      "Default metric period is 5 because AUC is/are not implemented for GPU\n"
     ]
    },
    {
     "name": "stdout",
     "output_type": "stream",
     "text": [
      "0:\ttest: 0.7267169\tbest: 0.7267169 (0)\ttotal: 108ms\tremaining: 5m 23s\n",
      "300:\ttest: 0.7410311\tbest: 0.7410311 (300)\ttotal: 25.1s\tremaining: 3m 44s\n",
      "600:\ttest: 0.7413909\tbest: 0.7414642 (532)\ttotal: 49.5s\tremaining: 3m 17s\n",
      "900:\ttest: 0.7410873\tbest: 0.7414647 (655)\ttotal: 1m 13s\tremaining: 2m 51s\n",
      "bestTest = 0.7414647341\n",
      "bestIteration = 655\n",
      "Shrink model to first 656 iterations.\n"
     ]
    },
    {
     "name": "stderr",
     "output_type": "stream",
     "text": [
      "[I 2025-02-23 04:56:44,676] Trial 11 finished with value: 0.7414647340774536 and parameters: {'iterations': 2995, 'depth': 10, 'learning_rate': 0.026163874004606635, 'l2_leaf_reg': 73.12133513928158}. Best is trial 10 with value: 0.7420089542865753.\n",
      "Default metric period is 5 because AUC is/are not implemented for GPU\n"
     ]
    },
    {
     "name": "stdout",
     "output_type": "stream",
     "text": [
      "0:\ttest: 0.7263038\tbest: 0.7263038 (0)\ttotal: 79.4ms\tremaining: 3m 49s\n",
      "300:\ttest: 0.7408824\tbest: 0.7409002 (295)\ttotal: 16.7s\tremaining: 2m 24s\n",
      "600:\ttest: 0.7416229\tbest: 0.7416232 (596)\ttotal: 32.8s\tremaining: 2m 5s\n",
      "900:\ttest: 0.7415378\tbest: 0.7416975 (643)\ttotal: 48.9s\tremaining: 1m 48s\n",
      "bestTest = 0.74169752\n",
      "bestIteration = 643\n",
      "Shrink model to first 644 iterations.\n"
     ]
    },
    {
     "name": "stderr",
     "output_type": "stream",
     "text": [
      "[I 2025-02-23 04:57:40,167] Trial 12 finished with value: 0.7416975200176239 and parameters: {'iterations': 2897, 'depth': 9, 'learning_rate': 0.02806616524326412, 'l2_leaf_reg': 87.13438924619733}. Best is trial 10 with value: 0.7420089542865753.\n",
      "Default metric period is 5 because AUC is/are not implemented for GPU\n"
     ]
    },
    {
     "name": "stdout",
     "output_type": "stream",
     "text": [
      "0:\ttest: 0.7263407\tbest: 0.7263407 (0)\ttotal: 84.8ms\tremaining: 4m 12s\n",
      "300:\ttest: 0.7408227\tbest: 0.7408931 (298)\ttotal: 20s\tremaining: 2m 57s\n",
      "600:\ttest: 0.7412014\tbest: 0.7412260 (597)\ttotal: 36.8s\tremaining: 2m 25s\n",
      "900:\ttest: 0.7407282\tbest: 0.7412758 (709)\ttotal: 53s\tremaining: 2m 1s\n",
      "bestTest = 0.741275847\n",
      "bestIteration = 709\n",
      "Shrink model to first 710 iterations.\n"
     ]
    },
    {
     "name": "stderr",
     "output_type": "stream",
     "text": [
      "[I 2025-02-23 04:58:43,324] Trial 13 finished with value: 0.7412758469581604 and parameters: {'iterations': 2975, 'depth': 9, 'learning_rate': 0.02975441117748237, 'l2_leaf_reg': 7.828901342687918}. Best is trial 10 with value: 0.7420089542865753.\n",
      "Default metric period is 5 because AUC is/are not implemented for GPU\n"
     ]
    },
    {
     "name": "stdout",
     "output_type": "stream",
     "text": [
      "0:\ttest: 0.7246826\tbest: 0.7246826 (0)\ttotal: 59.4ms\tremaining: 2m 43s\n",
      "300:\ttest: 0.7408999\tbest: 0.7408999 (300)\ttotal: 12.4s\tremaining: 1m 41s\n",
      "600:\ttest: 0.7417102\tbest: 0.7417156 (596)\ttotal: 23.9s\tremaining: 1m 25s\n",
      "900:\ttest: 0.7417790\tbest: 0.7417859 (806)\ttotal: 35.4s\tremaining: 1m 12s\n",
      "1200:\ttest: 0.7416868\tbest: 0.7418139 (968)\ttotal: 46.9s\tremaining: 1m\n",
      "bestTest = 0.7418138683\n",
      "bestIteration = 968\n",
      "Shrink model to first 969 iterations.\n"
     ]
    },
    {
     "name": "stderr",
     "output_type": "stream",
     "text": [
      "[I 2025-02-23 04:59:36,985] Trial 14 finished with value: 0.7418138682842255 and parameters: {'iterations': 2754, 'depth': 8, 'learning_rate': 0.02821394057380833, 'l2_leaf_reg': 92.74223128282532}. Best is trial 10 with value: 0.7420089542865753.\n",
      "Default metric period is 5 because AUC is/are not implemented for GPU\n"
     ]
    },
    {
     "name": "stdout",
     "output_type": "stream",
     "text": [
      "0:\ttest: 0.7248983\tbest: 0.7248983 (0)\ttotal: 60ms\tremaining: 2m 43s\n",
      "300:\ttest: 0.7409560\tbest: 0.7411332 (215)\ttotal: 12.3s\tremaining: 1m 38s\n",
      "600:\ttest: 0.7401817\tbest: 0.7411676 (378)\ttotal: 23.8s\tremaining: 1m 23s\n",
      "bestTest = 0.7411675751\n",
      "bestIteration = 378\n",
      "Shrink model to first 379 iterations.\n"
     ]
    },
    {
     "name": "stderr",
     "output_type": "stream",
     "text": [
      "[I 2025-02-23 05:00:08,064] Trial 15 finished with value: 0.7411675751209259 and parameters: {'iterations': 2718, 'depth': 8, 'learning_rate': 0.06211785996573631, 'l2_leaf_reg': 9.663069382488281}. Best is trial 10 with value: 0.7420089542865753.\n",
      "Default metric period is 5 because AUC is/are not implemented for GPU\n"
     ]
    },
    {
     "name": "stdout",
     "output_type": "stream",
     "text": [
      "0:\ttest: 0.7249009\tbest: 0.7249009 (0)\ttotal: 64.3ms\tremaining: 2m 56s\n",
      "300:\ttest: 0.7406226\tbest: 0.7406463 (296)\ttotal: 13.1s\tremaining: 1m 46s\n",
      "600:\ttest: 0.7406642\tbest: 0.7409317 (465)\ttotal: 24.6s\tremaining: 1m 27s\n",
      "bestTest = 0.7409317493\n",
      "bestIteration = 465\n",
      "Shrink model to first 466 iterations.\n"
     ]
    },
    {
     "name": "stderr",
     "output_type": "stream",
     "text": [
      "[I 2025-02-23 05:00:43,183] Trial 16 finished with value: 0.7409317493438721 and parameters: {'iterations': 2740, 'depth': 8, 'learning_rate': 0.039328181809814275, 'l2_leaf_reg': 1.817461917348717}. Best is trial 10 with value: 0.7420089542865753.\n",
      "Default metric period is 5 because AUC is/are not implemented for GPU\n"
     ]
    },
    {
     "name": "stdout",
     "output_type": "stream",
     "text": [
      "0:\ttest: 0.7263920\tbest: 0.7263920 (0)\ttotal: 77ms\tremaining: 3m 17s\n",
      "300:\ttest: 0.7406442\tbest: 0.7406442 (300)\ttotal: 17.4s\tremaining: 2m 11s\n",
      "600:\ttest: 0.7413695\tbest: 0.7413695 (600)\ttotal: 33.6s\tremaining: 1m 49s\n",
      "900:\ttest: 0.7413538\tbest: 0.7414394 (707)\ttotal: 49.7s\tremaining: 1m 31s\n",
      "bestTest = 0.7414393723\n",
      "bestIteration = 707\n",
      "Shrink model to first 708 iterations.\n"
     ]
    },
    {
     "name": "stderr",
     "output_type": "stream",
     "text": [
      "[I 2025-02-23 05:01:42,741] Trial 17 finished with value: 0.7414393723011017 and parameters: {'iterations': 2563, 'depth': 9, 'learning_rate': 0.020683376194142348, 'l2_leaf_reg': 17.816357665932845}. Best is trial 10 with value: 0.7420089542865753.\n",
      "Default metric period is 5 because AUC is/are not implemented for GPU\n"
     ]
    },
    {
     "name": "stdout",
     "output_type": "stream",
     "text": [
      "0:\ttest: 0.7248369\tbest: 0.7248369 (0)\ttotal: 64.5ms\tremaining: 3m 1s\n",
      "300:\ttest: 0.7410781\tbest: 0.7410837 (299)\ttotal: 12.8s\tremaining: 1m 47s\n",
      "600:\ttest: 0.7417908\tbest: 0.7417942 (489)\ttotal: 24.3s\tremaining: 1m 29s\n",
      "900:\ttest: 0.7420394\tbest: 0.7420495 (891)\ttotal: 35.8s\tremaining: 1m 16s\n",
      "1200:\ttest: 0.7418478\tbest: 0.7420909 (934)\ttotal: 47.4s\tremaining: 1m 3s\n",
      "bestTest = 0.7420909107\n",
      "bestIteration = 934\n",
      "Shrink model to first 935 iterations.\n"
     ]
    },
    {
     "name": "stderr",
     "output_type": "stream",
     "text": [
      "[I 2025-02-23 05:02:35,719] Trial 18 finished with value: 0.7420909106731415 and parameters: {'iterations': 2821, 'depth': 8, 'learning_rate': 0.03807590246117568, 'l2_leaf_reg': 85.41573081664262}. Best is trial 18 with value: 0.7420909106731415.\n"
     ]
    },
    {
     "name": "stdout",
     "output_type": "stream",
     "text": [
      "저장 완료\n"
     ]
    },
    {
     "name": "stderr",
     "output_type": "stream",
     "text": [
      "Default metric period is 5 because AUC is/are not implemented for GPU\n"
     ]
    },
    {
     "name": "stdout",
     "output_type": "stream",
     "text": [
      "0:\ttest: 0.7229764\tbest: 0.7229764 (0)\ttotal: 42.6ms\tremaining: 1m 44s\n",
      "300:\ttest: 0.7404151\tbest: 0.7404204 (298)\ttotal: 8.23s\tremaining: 59s\n",
      "600:\ttest: 0.7409882\tbest: 0.7409882 (600)\ttotal: 15.6s\tremaining: 48.2s\n",
      "900:\ttest: 0.7410372\tbest: 0.7410941 (889)\ttotal: 23.4s\tremaining: 40.5s\n",
      "1200:\ttest: 0.7410318\tbest: 0.7411433 (1027)\ttotal: 31.3s\tremaining: 32.8s\n",
      "bestTest = 0.7411433458\n",
      "bestIteration = 1027\n",
      "Shrink model to first 1028 iterations.\n"
     ]
    },
    {
     "name": "stderr",
     "output_type": "stream",
     "text": [
      "[I 2025-02-23 05:03:14,584] Trial 19 finished with value: 0.7411433458328247 and parameters: {'iterations': 2460, 'depth': 6, 'learning_rate': 0.041068055997712544, 'l2_leaf_reg': 2.2761750054483345}. Best is trial 18 with value: 0.7420909106731415.\n",
      "Default metric period is 5 because AUC is/are not implemented for GPU\n"
     ]
    },
    {
     "name": "stdout",
     "output_type": "stream",
     "text": [
      "0:\ttest: 0.7247916\tbest: 0.7247916 (0)\ttotal: 37.1ms\tremaining: 57.6s\n",
      "300:\ttest: 0.7414429\tbest: 0.7415079 (276)\ttotal: 9.52s\tremaining: 39.5s\n",
      "600:\ttest: 0.7417411\tbest: 0.7418711 (391)\ttotal: 18.3s\tremaining: 28.9s\n",
      "bestTest = 0.7418711185\n",
      "bestIteration = 391\n",
      "Shrink model to first 392 iterations.\n"
     ]
    },
    {
     "name": "stderr",
     "output_type": "stream",
     "text": [
      "[I 2025-02-23 05:03:39,489] Trial 20 finished with value: 0.7418711185455322 and parameters: {'iterations': 1551, 'depth': 7, 'learning_rate': 0.05639437633932935, 'l2_leaf_reg': 25.121986351201187}. Best is trial 18 with value: 0.7420909106731415.\n",
      "Default metric period is 5 because AUC is/are not implemented for GPU\n"
     ]
    },
    {
     "name": "stdout",
     "output_type": "stream",
     "text": [
      "0:\ttest: 0.7247874\tbest: 0.7247874 (0)\ttotal: 43ms\tremaining: 1m 5s\n",
      "300:\ttest: 0.7417237\tbest: 0.7417563 (276)\ttotal: 9.64s\tremaining: 38.9s\n",
      "600:\ttest: 0.7420219\tbest: 0.7420796 (482)\ttotal: 18.4s\tremaining: 28s\n",
      "900:\ttest: 0.7418419\tbest: 0.7421138 (740)\ttotal: 27.2s\tremaining: 18.6s\n",
      "bestTest = 0.7421137691\n",
      "bestIteration = 740\n",
      "Shrink model to first 741 iterations.\n"
     ]
    },
    {
     "name": "stderr",
     "output_type": "stream",
     "text": [
      "[I 2025-02-23 05:04:15,064] Trial 21 finished with value: 0.7421137690544128 and parameters: {'iterations': 1515, 'depth': 7, 'learning_rate': 0.055978564941420825, 'l2_leaf_reg': 26.96963431672059}. Best is trial 21 with value: 0.7421137690544128.\n"
     ]
    },
    {
     "name": "stdout",
     "output_type": "stream",
     "text": [
      "저장 완료\n"
     ]
    },
    {
     "name": "stderr",
     "output_type": "stream",
     "text": [
      "Default metric period is 5 because AUC is/are not implemented for GPU\n"
     ]
    },
    {
     "name": "stdout",
     "output_type": "stream",
     "text": [
      "0:\ttest: 0.7229716\tbest: 0.7229716 (0)\ttotal: 28.3ms\tremaining: 1m 20s\n",
      "300:\ttest: 0.7405388\tbest: 0.7405421 (299)\ttotal: 8.4s\tremaining: 1m 10s\n",
      "600:\ttest: 0.7412984\tbest: 0.7412984 (600)\ttotal: 16.8s\tremaining: 1m 2s\n",
      "900:\ttest: 0.7414362\tbest: 0.7414563 (890)\ttotal: 25.1s\tremaining: 54.1s\n",
      "1200:\ttest: 0.7416168\tbest: 0.7416893 (1144)\ttotal: 33.5s\tremaining: 45.7s\n",
      "bestTest = 0.7416892946\n",
      "bestIteration = 1144\n",
      "Shrink model to first 1145 iterations.\n"
     ]
    },
    {
     "name": "stderr",
     "output_type": "stream",
     "text": [
      "[I 2025-02-23 05:04:59,386] Trial 22 finished with value: 0.7416892945766449 and parameters: {'iterations': 2840, 'depth': 6, 'learning_rate': 0.03636655179514519, 'l2_leaf_reg': 26.793808193554963}. Best is trial 21 with value: 0.7421137690544128.\n",
      "Default metric period is 5 because AUC is/are not implemented for GPU\n"
     ]
    },
    {
     "name": "stdout",
     "output_type": "stream",
     "text": [
      "0:\ttest: 0.7248982\tbest: 0.7248982 (0)\ttotal: 61.2ms\tremaining: 2m 13s\n",
      "300:\ttest: 0.7411041\tbest: 0.7411220 (299)\ttotal: 13.3s\tremaining: 1m 23s\n",
      "600:\ttest: 0.7411200\tbest: 0.7414095 (346)\ttotal: 24.8s\tremaining: 1m 5s\n",
      "bestTest = 0.7414094806\n",
      "bestIteration = 346\n",
      "Shrink model to first 347 iterations.\n"
     ]
    },
    {
     "name": "stderr",
     "output_type": "stream",
     "text": [
      "[I 2025-02-23 05:05:30,007] Trial 23 finished with value: 0.7414094805717468 and parameters: {'iterations': 2190, 'depth': 8, 'learning_rate': 0.04944348258885028, 'l2_leaf_reg': 4.733294922506321}. Best is trial 21 with value: 0.7421137690544128.\n",
      "Default metric period is 5 because AUC is/are not implemented for GPU\n"
     ]
    },
    {
     "name": "stdout",
     "output_type": "stream",
     "text": [
      "0:\ttest: 0.7263834\tbest: 0.7263834 (0)\ttotal: 80.8ms\tremaining: 2m 2s\n",
      "300:\ttest: 0.7408721\tbest: 0.7410977 (262)\ttotal: 16.9s\tremaining: 1m 8s\n",
      "bestTest = 0.7410976589\n",
      "bestIteration = 262\n",
      "Shrink model to first 263 iterations.\n"
     ]
    },
    {
     "name": "stderr",
     "output_type": "stream",
     "text": [
      "[I 2025-02-23 05:06:05,053] Trial 24 finished with value: 0.7410976588726044 and parameters: {'iterations': 1519, 'depth': 9, 'learning_rate': 0.058744373706346865, 'l2_leaf_reg': 36.88308849820679}. Best is trial 21 with value: 0.7421137690544128.\n",
      "Default metric period is 5 because AUC is/are not implemented for GPU\n"
     ]
    },
    {
     "name": "stdout",
     "output_type": "stream",
     "text": [
      "0:\ttest: 0.7229731\tbest: 0.7229731 (0)\ttotal: 42ms\tremaining: 1m 11s\n",
      "300:\ttest: 0.7406514\tbest: 0.7406715 (299)\ttotal: 8.22s\tremaining: 38.1s\n",
      "600:\ttest: 0.7411976\tbest: 0.7412065 (556)\ttotal: 16s\tremaining: 29.2s\n",
      "900:\ttest: 0.7412513\tbest: 0.7413487 (713)\ttotal: 23s\tremaining: 20.2s\n",
      "bestTest = 0.7413486838\n",
      "bestIteration = 713\n",
      "Shrink model to first 714 iterations.\n"
     ]
    },
    {
     "name": "stderr",
     "output_type": "stream",
     "text": [
      "[I 2025-02-23 05:06:34,691] Trial 25 finished with value: 0.7413486838340759 and parameters: {'iterations': 1695, 'depth': 6, 'learning_rate': 0.04718074665064635, 'l2_leaf_reg': 24.65126058468673}. Best is trial 21 with value: 0.7421137690544128.\n",
      "Default metric period is 5 because AUC is/are not implemented for GPU\n"
     ]
    },
    {
     "name": "stdout",
     "output_type": "stream",
     "text": [
      "0:\ttest: 0.7247812\tbest: 0.7247812 (0)\ttotal: 44.8ms\tremaining: 2m 7s\n",
      "300:\ttest: 0.7407960\tbest: 0.7408116 (297)\ttotal: 9.83s\tremaining: 1m 23s\n",
      "600:\ttest: 0.7415018\tbest: 0.7415281 (595)\ttotal: 18.6s\tremaining: 1m 9s\n",
      "900:\ttest: 0.7417701\tbest: 0.7418413 (864)\ttotal: 27.4s\tremaining: 59.2s\n",
      "1200:\ttest: 0.7418524\tbest: 0.7419392 (1148)\ttotal: 36.2s\tremaining: 49.7s\n",
      "1500:\ttest: 0.7418370\tbest: 0.7419677 (1317)\ttotal: 45.2s\tremaining: 40.6s\n",
      "bestTest = 0.7419677377\n",
      "bestIteration = 1317\n",
      "Shrink model to first 1318 iterations.\n"
     ]
    },
    {
     "name": "stderr",
     "output_type": "stream",
     "text": [
      "[I 2025-02-23 05:07:27,630] Trial 26 finished with value: 0.7419677376747131 and parameters: {'iterations': 2849, 'depth': 7, 'learning_rate': 0.033738306809584374, 'l2_leaf_reg': 82.72901846810633}. Best is trial 21 with value: 0.7421137690544128.\n",
      "Default metric period is 5 because AUC is/are not implemented for GPU\n"
     ]
    },
    {
     "name": "stdout",
     "output_type": "stream",
     "text": [
      "0:\ttest: 0.7154084\tbest: 0.7154084 (0)\ttotal: 34ms\tremaining: 1m 1s\n",
      "300:\ttest: 0.7385479\tbest: 0.7385546 (298)\ttotal: 7.63s\tremaining: 38.2s\n",
      "600:\ttest: 0.7401083\tbest: 0.7401083 (600)\ttotal: 13.9s\tremaining: 28s\n",
      "900:\ttest: 0.7407176\tbest: 0.7407221 (895)\ttotal: 20.2s\tremaining: 20.4s\n",
      "1200:\ttest: 0.7409746\tbest: 0.7409764 (1186)\ttotal: 26.1s\tremaining: 13.2s\n",
      "1500:\ttest: 0.7410575\tbest: 0.7410834 (1391)\ttotal: 31.7s\tremaining: 6.52s\n",
      "1800:\ttest: 0.7411419\tbest: 0.7411425 (1799)\ttotal: 37.2s\tremaining: 186ms\n",
      "1809:\ttest: 0.7411399\tbest: 0.7411428 (1802)\ttotal: 37.4s\tremaining: 0us\n",
      "bestTest = 0.7411427796\n",
      "bestIteration = 1802\n",
      "Shrink model to first 1803 iterations.\n"
     ]
    },
    {
     "name": "stderr",
     "output_type": "stream",
     "text": [
      "[I 2025-02-23 05:08:09,331] Trial 27 finished with value: 0.7411427795886993 and parameters: {'iterations': 1810, 'depth': 5, 'learning_rate': 0.02134599772762577, 'l2_leaf_reg': 4.5552365000679655}. Best is trial 21 with value: 0.7421137690544128.\n",
      "Default metric period is 5 because AUC is/are not implemented for GPU\n"
     ]
    },
    {
     "name": "stdout",
     "output_type": "stream",
     "text": [
      "0:\ttest: 0.7248947\tbest: 0.7248947 (0)\ttotal: 38.5ms\tremaining: 1m 41s\n",
      "300:\ttest: 0.7413129\tbest: 0.7414027 (202)\ttotal: 11.6s\tremaining: 1m 29s\n",
      "600:\ttest: 0.7410031\tbest: 0.7414323 (416)\ttotal: 23.2s\tremaining: 1m 18s\n",
      "bestTest = 0.741432339\n",
      "bestIteration = 416\n",
      "Shrink model to first 417 iterations.\n"
     ]
    },
    {
     "name": "stderr",
     "output_type": "stream",
     "text": [
      "[I 2025-02-23 05:08:40,938] Trial 28 finished with value: 0.7414323389530182 and parameters: {'iterations': 2631, 'depth': 8, 'learning_rate': 0.06517904334493022, 'l2_leaf_reg': 16.222563079450087}. Best is trial 21 with value: 0.7421137690544128.\n",
      "Default metric period is 5 because AUC is/are not implemented for GPU\n"
     ]
    },
    {
     "name": "stdout",
     "output_type": "stream",
     "text": [
      "0:\ttest: 0.7271575\tbest: 0.7271575 (0)\ttotal: 107ms\tremaining: 4m 13s\n",
      "300:\ttest: 0.7408547\tbest: 0.7411864 (235)\ttotal: 25.1s\tremaining: 2m 52s\n",
      "bestTest = 0.7411863506\n",
      "bestIteration = 235\n",
      "Shrink model to first 236 iterations.\n"
     ]
    },
    {
     "name": "stderr",
     "output_type": "stream",
     "text": [
      "[I 2025-02-23 05:09:29,232] Trial 29 finished with value: 0.7411863505840302 and parameters: {'iterations': 2369, 'depth': 10, 'learning_rate': 0.046362167857127344, 'l2_leaf_reg': 10.189122089491892}. Best is trial 21 with value: 0.7421137690544128.\n",
      "Default metric period is 5 because AUC is/are not implemented for GPU\n"
     ]
    },
    {
     "name": "stdout",
     "output_type": "stream",
     "text": [
      "0:\ttest: 0.7271928\tbest: 0.7271928 (0)\ttotal: 114ms\tremaining: 4m 39s\n",
      "300:\ttest: 0.7410153\tbest: 0.7412902 (222)\ttotal: 26.7s\tremaining: 3m 11s\n",
      "bestTest = 0.7412901521\n",
      "bestIteration = 222\n",
      "Shrink model to first 223 iterations.\n"
     ]
    },
    {
     "name": "stderr",
     "output_type": "stream",
     "text": [
      "[I 2025-02-23 05:10:19,537] Trial 30 finished with value: 0.7412901520729065 and parameters: {'iterations': 2464, 'depth': 10, 'learning_rate': 0.055711610866541375, 'l2_leaf_reg': 38.90113536599559}. Best is trial 21 with value: 0.7421137690544128.\n",
      "Default metric period is 5 because AUC is/are not implemented for GPU\n"
     ]
    },
    {
     "name": "stdout",
     "output_type": "stream",
     "text": [
      "0:\ttest: 0.7247869\tbest: 0.7247869 (0)\ttotal: 34.3ms\tremaining: 1m 37s\n",
      "300:\ttest: 0.7408237\tbest: 0.7408543 (296)\ttotal: 10.3s\tremaining: 1m 26s\n",
      "600:\ttest: 0.7416235\tbest: 0.7416345 (596)\ttotal: 21s\tremaining: 1m 18s\n",
      "900:\ttest: 0.7418688\tbest: 0.7419022 (878)\ttotal: 31.6s\tremaining: 1m 7s\n",
      "1200:\ttest: 0.7420591\tbest: 0.7420591 (1200)\ttotal: 42s\tremaining: 57.1s\n",
      "1500:\ttest: 0.7419683\tbest: 0.7421179 (1311)\ttotal: 52.4s\tremaining: 46.6s\n",
      "bestTest = 0.742117852\n",
      "bestIteration = 1311\n",
      "Shrink model to first 1312 iterations.\n"
     ]
    },
    {
     "name": "stderr",
     "output_type": "stream",
     "text": [
      "[I 2025-02-23 05:11:19,872] Trial 31 finished with value: 0.74211785197258 and parameters: {'iterations': 2836, 'depth': 7, 'learning_rate': 0.03694191120753434, 'l2_leaf_reg': 93.41491469956874}. Best is trial 31 with value: 0.74211785197258.\n"
     ]
    },
    {
     "name": "stdout",
     "output_type": "stream",
     "text": [
      "저장 완료\n"
     ]
    },
    {
     "name": "stderr",
     "output_type": "stream",
     "text": [
      "Default metric period is 5 because AUC is/are not implemented for GPU\n"
     ]
    },
    {
     "name": "stdout",
     "output_type": "stream",
     "text": [
      "0:\ttest: 0.7247854\tbest: 0.7247854 (0)\ttotal: 51.3ms\tremaining: 2m 28s\n",
      "300:\ttest: 0.7406647\tbest: 0.7406700 (299)\ttotal: 11s\tremaining: 1m 35s\n",
      "600:\ttest: 0.7414310\tbest: 0.7414383 (595)\ttotal: 20.3s\tremaining: 1m 17s\n",
      "900:\ttest: 0.7419046\tbest: 0.7419312 (875)\ttotal: 29.8s\tremaining: 1m 6s\n",
      "bestTest = 0.7419311702\n",
      "bestIteration = 875\n",
      "Shrink model to first 876 iterations.\n"
     ]
    },
    {
     "name": "stderr",
     "output_type": "stream",
     "text": [
      "[I 2025-02-23 05:12:05,397] Trial 32 finished with value: 0.7419311702251434 and parameters: {'iterations': 2902, 'depth': 7, 'learning_rate': 0.03387292286482474, 'l2_leaf_reg': 34.50227286170469}. Best is trial 31 with value: 0.74211785197258.\n",
      "Default metric period is 5 because AUC is/are not implemented for GPU\n"
     ]
    },
    {
     "name": "stdout",
     "output_type": "stream",
     "text": [
      "0:\ttest: 0.7248853\tbest: 0.7248853 (0)\ttotal: 51.9ms\tremaining: 2m 25s\n",
      "300:\ttest: 0.7409866\tbest: 0.7409866 (300)\ttotal: 14.8s\tremaining: 2m 3s\n",
      "600:\ttest: 0.7416217\tbest: 0.7416753 (485)\ttotal: 28.7s\tremaining: 1m 45s\n",
      "900:\ttest: 0.7413662\tbest: 0.7417431 (737)\ttotal: 42.7s\tremaining: 1m 30s\n",
      "bestTest = 0.7417430878\n",
      "bestIteration = 737\n",
      "Shrink model to first 738 iterations.\n"
     ]
    },
    {
     "name": "stderr",
     "output_type": "stream",
     "text": [
      "[I 2025-02-23 05:12:58,660] Trial 33 finished with value: 0.7417430877685547 and parameters: {'iterations': 2807, 'depth': 8, 'learning_rate': 0.042641181585682184, 'l2_leaf_reg': 43.492293426374395}. Best is trial 31 with value: 0.74211785197258.\n",
      "Default metric period is 5 because AUC is/are not implemented for GPU\n"
     ]
    },
    {
     "name": "stdout",
     "output_type": "stream",
     "text": [
      "0:\ttest: 0.7263795\tbest: 0.7263795 (0)\ttotal: 77.3ms\tremaining: 3m 24s\n",
      "300:\ttest: 0.7413456\tbest: 0.7415399 (213)\ttotal: 18.4s\tremaining: 2m 23s\n",
      "bestTest = 0.7415399253\n",
      "bestIteration = 213\n",
      "Shrink model to first 214 iterations.\n"
     ]
    },
    {
     "name": "stderr",
     "output_type": "stream",
     "text": [
      "[I 2025-02-23 05:13:33,063] Trial 34 finished with value: 0.7415399253368378 and parameters: {'iterations': 2649, 'depth': 9, 'learning_rate': 0.05227631864667949, 'l2_leaf_reg': 13.430650692083576}. Best is trial 31 with value: 0.74211785197258.\n",
      "Default metric period is 5 because AUC is/are not implemented for GPU\n"
     ]
    },
    {
     "name": "stdout",
     "output_type": "stream",
     "text": [
      "0:\ttest: 0.7153960\tbest: 0.7153960 (0)\ttotal: 30.4ms\tremaining: 1m 7s\n",
      "300:\ttest: 0.7365534\tbest: 0.7365534 (300)\ttotal: 6.21s\tremaining: 39.7s\n",
      "600:\ttest: 0.7390340\tbest: 0.7390340 (600)\ttotal: 11.5s\tremaining: 31s\n",
      "900:\ttest: 0.7398961\tbest: 0.7398961 (900)\ttotal: 16.8s\tremaining: 24.7s\n",
      "1200:\ttest: 0.7404667\tbest: 0.7404692 (1199)\ttotal: 22s\tremaining: 18.8s\n",
      "1500:\ttest: 0.7407369\tbest: 0.7407385 (1498)\ttotal: 27.3s\tremaining: 13.2s\n",
      "1800:\ttest: 0.7409162\tbest: 0.7409162 (1800)\ttotal: 32.6s\tremaining: 7.67s\n",
      "2100:\ttest: 0.7410542\tbest: 0.7410634 (2083)\ttotal: 38s\tremaining: 2.22s\n",
      "2223:\ttest: 0.7410830\tbest: 0.7410879 (2219)\ttotal: 40.1s\tremaining: 0us\n",
      "bestTest = 0.7410879433\n",
      "bestIteration = 2219\n",
      "Shrink model to first 2220 iterations.\n"
     ]
    },
    {
     "name": "stderr",
     "output_type": "stream",
     "text": [
      "[I 2025-02-23 05:14:17,408] Trial 35 finished with value: 0.741087943315506 and parameters: {'iterations': 2224, 'depth': 5, 'learning_rate': 0.012577047475717574, 'l2_leaf_reg': 75.94229246330791}. Best is trial 31 with value: 0.74211785197258.\n",
      "Default metric period is 5 because AUC is/are not implemented for GPU\n"
     ]
    },
    {
     "name": "stdout",
     "output_type": "stream",
     "text": [
      "0:\ttest: 0.7229485\tbest: 0.7229485 (0)\ttotal: 35.1ms\tremaining: 1m 43s\n",
      "300:\ttest: 0.7404813\tbest: 0.7404823 (299)\ttotal: 7.58s\tremaining: 1m 6s\n",
      "600:\ttest: 0.7414252\tbest: 0.7414252 (600)\ttotal: 14.2s\tremaining: 55.5s\n",
      "900:\ttest: 0.7416613\tbest: 0.7416846 (832)\ttotal: 20.8s\tremaining: 47.5s\n",
      "1200:\ttest: 0.7418124\tbest: 0.7418608 (1167)\ttotal: 27.4s\tremaining: 40.1s\n",
      "1500:\ttest: 0.7419016\tbest: 0.7419788 (1384)\ttotal: 35.8s\tremaining: 34.8s\n",
      "bestTest = 0.7419788241\n",
      "bestIteration = 1384\n",
      "Shrink model to first 1385 iterations.\n"
     ]
    },
    {
     "name": "stderr",
     "output_type": "stream",
     "text": [
      "[I 2025-02-23 05:15:01,582] Trial 36 finished with value: 0.7419788241386414 and parameters: {'iterations': 2960, 'depth': 6, 'learning_rate': 0.03391816816184751, 'l2_leaf_reg': 95.73149498355843}. Best is trial 31 with value: 0.74211785197258.\n",
      "Default metric period is 5 because AUC is/are not implemented for GPU\n"
     ]
    },
    {
     "name": "stdout",
     "output_type": "stream",
     "text": [
      "0:\ttest: 0.7247961\tbest: 0.7247961 (0)\ttotal: 45.4ms\tremaining: 1m 36s\n",
      "300:\ttest: 0.7411953\tbest: 0.7411953 (300)\ttotal: 8.89s\tremaining: 53.8s\n",
      "600:\ttest: 0.7413535\tbest: 0.7414280 (450)\ttotal: 17.4s\tremaining: 44.1s\n",
      "900:\ttest: 0.7412507\tbest: 0.7414359 (645)\ttotal: 26s\tremaining: 35.3s\n",
      "bestTest = 0.7414358556\n",
      "bestIteration = 645\n",
      "Shrink model to first 646 iterations.\n"
     ]
    },
    {
     "name": "stderr",
     "output_type": "stream",
     "text": [
      "[I 2025-02-23 05:15:32,910] Trial 37 finished with value: 0.7414358556270599 and parameters: {'iterations': 2123, 'depth': 7, 'learning_rate': 0.04517653168600552, 'l2_leaf_reg': 18.032897202402786}. Best is trial 31 with value: 0.74211785197258.\n",
      "Default metric period is 5 because AUC is/are not implemented for GPU\n"
     ]
    },
    {
     "name": "stdout",
     "output_type": "stream",
     "text": [
      "0:\ttest: 0.7247978\tbest: 0.7247978 (0)\ttotal: 47.5ms\tremaining: 1m 49s\n",
      "300:\ttest: 0.7397252\tbest: 0.7397252 (300)\ttotal: 9.44s\tremaining: 1m 3s\n",
      "600:\ttest: 0.7409661\tbest: 0.7409740 (598)\ttotal: 19.2s\tremaining: 54.8s\n",
      "900:\ttest: 0.7415132\tbest: 0.7415132 (900)\ttotal: 27.8s\tremaining: 43.6s\n",
      "1200:\ttest: 0.7417429\tbest: 0.7417429 (1200)\ttotal: 36.3s\tremaining: 33.7s\n",
      "1500:\ttest: 0.7418023\tbest: 0.7418554 (1334)\ttotal: 45s\tremaining: 24.4s\n",
      "bestTest = 0.7418554425\n",
      "bestIteration = 1334\n",
      "Shrink model to first 1335 iterations.\n"
     ]
    },
    {
     "name": "stderr",
     "output_type": "stream",
     "text": [
      "[I 2025-02-23 05:16:26,014] Trial 38 finished with value: 0.7418554425239563 and parameters: {'iterations': 2315, 'depth': 7, 'learning_rate': 0.018520474699712436, 'l2_leaf_reg': 4.835962117540525}. Best is trial 31 with value: 0.74211785197258.\n",
      "Default metric period is 5 because AUC is/are not implemented for GPU\n"
     ]
    },
    {
     "name": "stdout",
     "output_type": "stream",
     "text": [
      "0:\ttest: 0.7263859\tbest: 0.7263859 (0)\ttotal: 75ms\tremaining: 3m 10s\n",
      "300:\ttest: 0.7362278\tbest: 0.7362278 (300)\ttotal: 16.4s\tremaining: 2m 1s\n",
      "600:\ttest: 0.7388508\tbest: 0.7388508 (600)\ttotal: 32.2s\tremaining: 1m 43s\n",
      "900:\ttest: 0.7400639\tbest: 0.7400642 (899)\ttotal: 48.4s\tremaining: 1m 27s\n",
      "1200:\ttest: 0.7407003\tbest: 0.7407003 (1200)\ttotal: 1m 4s\tremaining: 1m 11s\n",
      "1500:\ttest: 0.7410295\tbest: 0.7410313 (1497)\ttotal: 1m 20s\tremaining: 55.6s\n",
      "1800:\ttest: 0.7412985\tbest: 0.7412985 (1800)\ttotal: 1m 36s\tremaining: 39.5s\n",
      "2100:\ttest: 0.7414291\tbest: 0.7414338 (2080)\ttotal: 1m 53s\tremaining: 23.7s\n",
      "2400:\ttest: 0.7415242\tbest: 0.7415265 (2398)\ttotal: 2m 10s\tremaining: 7.42s\n",
      "2537:\ttest: 0.7415683\tbest: 0.7415684 (2536)\ttotal: 2m 17s\tremaining: 0us\n",
      "bestTest = 0.7415683866\n",
      "bestIteration = 2536\n",
      "Shrink model to first 2537 iterations.\n"
     ]
    },
    {
     "name": "stderr",
     "output_type": "stream",
     "text": [
      "[I 2025-02-23 05:18:48,222] Trial 39 finished with value: 0.741568386554718 and parameters: {'iterations': 2538, 'depth': 9, 'learning_rate': 0.005037310710515358, 'l2_leaf_reg': 42.99605034422256}. Best is trial 31 with value: 0.74211785197258.\n",
      "[I 2025-02-23 05:18:48,232] A new study created in memory with name: no-name-41a5999b-a8ac-4ec8-8b76-82eb473a436f\n",
      "[I 2025-02-23 05:18:52,394] Trial 0 finished with value: 0.7405301669973674 and parameters: {'num_iterations': 2366, 'objective': 'binary', 'metric': 'auc', 'verbose': -1, 'learning_rate': 0.0652646236447618, 'n_estimators': 236, 'min_child_samples': 45, 'subsample': 0.7, 'colsample_bytree': 0.5}. Best is trial 0 with value: 0.7405301669973674.\n",
      "[I 2025-02-23 05:19:03,891] Trial 1 finished with value: 0.7405248499807127 and parameters: {'num_iterations': 1510, 'objective': 'binary', 'metric': 'auc', 'verbose': -1, 'learning_rate': 0.005231880959249543, 'n_estimators': 1411, 'min_child_samples': 10, 'subsample': 1.0, 'colsample_bytree': 0.5}. Best is trial 0 with value: 0.7405301669973674.\n",
      "[I 2025-02-23 05:19:10,718] Trial 2 finished with value: 0.7403815923183873 and parameters: {'num_iterations': 2334, 'objective': 'binary', 'metric': 'auc', 'verbose': -1, 'learning_rate': 0.006578527777128852, 'n_estimators': 931, 'min_child_samples': 15, 'subsample': 0.5, 'colsample_bytree': 1.0}. Best is trial 0 with value: 0.7405301669973674.\n",
      "[I 2025-02-23 05:19:20,533] Trial 3 finished with value: 0.7405388195584508 and parameters: {'num_iterations': 1620, 'objective': 'binary', 'metric': 'auc', 'verbose': -1, 'learning_rate': 0.0058823249237283685, 'n_estimators': 837, 'min_child_samples': 10, 'subsample': 0.9, 'colsample_bytree': 0.6}. Best is trial 3 with value: 0.7405388195584508.\n",
      "[I 2025-02-23 05:19:25,410] Trial 4 finished with value: 0.7403571435719024 and parameters: {'num_iterations': 1997, 'objective': 'binary', 'metric': 'auc', 'verbose': -1, 'learning_rate': 0.010907507425244923, 'n_estimators': 1597, 'min_child_samples': 50, 'subsample': 0.6, 'colsample_bytree': 0.8}. Best is trial 3 with value: 0.7405388195584508.\n",
      "[I 2025-02-23 05:19:28,522] Trial 5 finished with value: 0.7403609238555882 and parameters: {'num_iterations': 2909, 'objective': 'binary', 'metric': 'auc', 'verbose': -1, 'learning_rate': 0.019760591962733942, 'n_estimators': 612, 'min_child_samples': 30, 'subsample': 0.7, 'colsample_bytree': 0.9}. Best is trial 3 with value: 0.7405388195584508.\n",
      "[I 2025-02-23 05:19:31,865] Trial 6 finished with value: 0.7402778529157693 and parameters: {'num_iterations': 2639, 'objective': 'binary', 'metric': 'auc', 'verbose': -1, 'learning_rate': 0.017862094446750985, 'n_estimators': 794, 'min_child_samples': 35, 'subsample': 1.0, 'colsample_bytree': 0.8}. Best is trial 3 with value: 0.7405388195584508.\n",
      "[I 2025-02-23 05:19:37,295] Trial 7 finished with value: 0.7405662822075803 and parameters: {'num_iterations': 1580, 'objective': 'binary', 'metric': 'auc', 'verbose': -1, 'learning_rate': 0.01776722177611332, 'n_estimators': 529, 'min_child_samples': 25, 'subsample': 0.8, 'colsample_bytree': 0.5}. Best is trial 7 with value: 0.7405662822075803.\n",
      "[I 2025-02-23 05:19:40,619] Trial 8 finished with value: 0.7404089477535887 and parameters: {'num_iterations': 1911, 'objective': 'binary', 'metric': 'auc', 'verbose': -1, 'learning_rate': 0.0304747553332844, 'n_estimators': 1328, 'min_child_samples': 10, 'subsample': 0.7, 'colsample_bytree': 0.6}. Best is trial 7 with value: 0.7405662822075803.\n",
      "[I 2025-02-23 05:19:44,604] Trial 9 finished with value: 0.7408424136647535 and parameters: {'num_iterations': 2739, 'objective': 'binary', 'metric': 'auc', 'verbose': -1, 'learning_rate': 0.02691531614176271, 'n_estimators': 1438, 'min_child_samples': 20, 'subsample': 0.6, 'colsample_bytree': 0.5}. Best is trial 9 with value: 0.7408424136647535.\n",
      "[I 2025-02-23 05:19:46,861] Trial 10 finished with value: 0.7403013208533568 and parameters: {'num_iterations': 2945, 'objective': 'binary', 'metric': 'auc', 'verbose': -1, 'learning_rate': 0.04092715427752937, 'n_estimators': 1962, 'min_child_samples': 20, 'subsample': 0.5, 'colsample_bytree': 0.7}. Best is trial 9 with value: 0.7408424136647535.\n",
      "[I 2025-02-23 05:19:52,892] Trial 11 finished with value: 0.7405874629147022 and parameters: {'num_iterations': 2597, 'objective': 'binary', 'metric': 'auc', 'verbose': -1, 'learning_rate': 0.014149153669737905, 'n_estimators': 282, 'min_child_samples': 25, 'subsample': 0.8, 'colsample_bytree': 0.5}. Best is trial 9 with value: 0.7408424136647535.\n",
      "[I 2025-02-23 05:19:58,310] Trial 12 finished with value: 0.7406064596344009 and parameters: {'num_iterations': 2618, 'objective': 'binary', 'metric': 'auc', 'verbose': -1, 'learning_rate': 0.012636173011756879, 'n_estimators': 216, 'min_child_samples': 35, 'subsample': 0.8, 'colsample_bytree': 0.6}. Best is trial 9 with value: 0.7408424136647535.\n",
      "[I 2025-02-23 05:20:01,499] Trial 13 finished with value: 0.7405522173285727 and parameters: {'num_iterations': 2648, 'objective': 'binary', 'metric': 'auc', 'verbose': -1, 'learning_rate': 0.030600717873549982, 'n_estimators': 1138, 'min_child_samples': 40, 'subsample': 0.6, 'colsample_bytree': 0.6}. Best is trial 9 with value: 0.7408424136647535.\n",
      "[I 2025-02-23 05:20:07,271] Trial 14 finished with value: 0.7405430009016453 and parameters: {'num_iterations': 2793, 'objective': 'binary', 'metric': 'auc', 'verbose': -1, 'learning_rate': 0.0100621759388551, 'n_estimators': 1729, 'min_child_samples': 35, 'subsample': 0.6, 'colsample_bytree': 0.7}. Best is trial 9 with value: 0.7408424136647535.\n",
      "[I 2025-02-23 05:20:09,428] Trial 15 finished with value: 0.7405263827427954 and parameters: {'num_iterations': 2513, 'objective': 'binary', 'metric': 'auc', 'verbose': -1, 'learning_rate': 0.07462082572654112, 'n_estimators': 1162, 'min_child_samples': 20, 'subsample': 0.8, 'colsample_bytree': 0.6}. Best is trial 9 with value: 0.7408424136647535.\n",
      "[I 2025-02-23 05:20:12,327] Trial 16 finished with value: 0.7404428710346055 and parameters: {'num_iterations': 2140, 'objective': 'binary', 'metric': 'auc', 'verbose': -1, 'learning_rate': 0.02672793960371514, 'n_estimators': 502, 'min_child_samples': 30, 'subsample': 0.9, 'colsample_bytree': 0.7}. Best is trial 9 with value: 0.7408424136647535.\n",
      "[I 2025-02-23 05:20:14,913] Trial 17 finished with value: 0.740747310939674 and parameters: {'num_iterations': 2757, 'objective': 'binary', 'metric': 'auc', 'verbose': -1, 'learning_rate': 0.045214325000557255, 'n_estimators': 120, 'min_child_samples': 40, 'subsample': 0.9, 'colsample_bytree': 0.6}. Best is trial 9 with value: 0.7408424136647535.\n",
      "[I 2025-02-23 05:20:17,730] Trial 18 finished with value: 0.74092017552969 and parameters: {'num_iterations': 2793, 'objective': 'binary', 'metric': 'auc', 'verbose': -1, 'learning_rate': 0.05151388636924916, 'n_estimators': 1561, 'min_child_samples': 45, 'subsample': 0.9, 'colsample_bytree': 0.5}. Best is trial 18 with value: 0.74092017552969.\n",
      "[I 2025-02-23 05:20:20,225] Trial 19 finished with value: 0.7406724160545917 and parameters: {'num_iterations': 2997, 'objective': 'binary', 'metric': 'auc', 'verbose': -1, 'learning_rate': 0.08273178085822706, 'n_estimators': 1684, 'min_child_samples': 50, 'subsample': 0.6, 'colsample_bytree': 0.5}. Best is trial 18 with value: 0.74092017552969.\n",
      "[I 2025-02-23 05:20:22,200] Trial 20 finished with value: 0.7402569501706829 and parameters: {'num_iterations': 2448, 'objective': 'binary', 'metric': 'auc', 'verbose': -1, 'learning_rate': 0.05228189927156721, 'n_estimators': 1981, 'min_child_samples': 20, 'subsample': 0.9, 'colsample_bytree': 1.0}. Best is trial 18 with value: 0.74092017552969.\n",
      "[I 2025-02-23 05:20:25,871] Trial 21 finished with value: 0.741043078429228 and parameters: {'num_iterations': 2780, 'objective': 'binary', 'metric': 'auc', 'verbose': -1, 'learning_rate': 0.04146808007352709, 'n_estimators': 1437, 'min_child_samples': 45, 'subsample': 0.9, 'colsample_bytree': 0.5}. Best is trial 21 with value: 0.741043078429228.\n",
      "[I 2025-02-23 05:20:28,921] Trial 22 finished with value: 0.7408324189441261 and parameters: {'num_iterations': 2812, 'objective': 'binary', 'metric': 'auc', 'verbose': -1, 'learning_rate': 0.0382712861947992, 'n_estimators': 1439, 'min_child_samples': 45, 'subsample': 1.0, 'colsample_bytree': 0.5}. Best is trial 21 with value: 0.741043078429228.\n",
      "[I 2025-02-23 05:20:31,404] Trial 23 finished with value: 0.7405396931534202 and parameters: {'num_iterations': 2802, 'objective': 'binary', 'metric': 'auc', 'verbose': -1, 'learning_rate': 0.09413148437373714, 'n_estimators': 1267, 'min_child_samples': 45, 'subsample': 0.9, 'colsample_bytree': 0.5}. Best is trial 21 with value: 0.741043078429228.\n",
      "[I 2025-02-23 05:20:34,013] Trial 24 finished with value: 0.7408914580805136 and parameters: {'num_iterations': 2212, 'objective': 'binary', 'metric': 'auc', 'verbose': -1, 'learning_rate': 0.057486536335755095, 'n_estimators': 1513, 'min_child_samples': 40, 'subsample': 1.0, 'colsample_bytree': 0.5}. Best is trial 21 with value: 0.741043078429228.\n",
      "[I 2025-02-23 05:20:36,432] Trial 25 finished with value: 0.7405258307896101 and parameters: {'num_iterations': 2179, 'objective': 'binary', 'metric': 'auc', 'verbose': -1, 'learning_rate': 0.056573223966597815, 'n_estimators': 1571, 'min_child_samples': 40, 'subsample': 1.0, 'colsample_bytree': 0.6}. Best is trial 21 with value: 0.741043078429228.\n",
      "[I 2025-02-23 05:20:38,382] Trial 26 finished with value: 0.7403797140892031 and parameters: {'num_iterations': 1838, 'objective': 'binary', 'metric': 'auc', 'verbose': -1, 'learning_rate': 0.06535883661389877, 'n_estimators': 1581, 'min_child_samples': 50, 'subsample': 1.0, 'colsample_bytree': 0.7}. Best is trial 21 with value: 0.741043078429228.\n",
      "[I 2025-02-23 05:20:40,545] Trial 27 finished with value: 0.7402296463570026 and parameters: {'num_iterations': 2113, 'objective': 'binary', 'metric': 'auc', 'verbose': -1, 'learning_rate': 0.05100984107995132, 'n_estimators': 1871, 'min_child_samples': 45, 'subsample': 0.9, 'colsample_bytree': 0.9}. Best is trial 21 with value: 0.741043078429228.\n",
      "[I 2025-02-23 05:20:43,957] Trial 28 finished with value: 0.7407422599723963 and parameters: {'num_iterations': 2266, 'objective': 'binary', 'metric': 'auc', 'verbose': -1, 'learning_rate': 0.03898130569041551, 'n_estimators': 1751, 'min_child_samples': 40, 'subsample': 1.0, 'colsample_bytree': 0.5}. Best is trial 21 with value: 0.741043078429228.\n",
      "[I 2025-02-23 05:20:46,524] Trial 29 finished with value: 0.7404194388349941 and parameters: {'num_iterations': 2362, 'objective': 'binary', 'metric': 'auc', 'verbose': -1, 'learning_rate': 0.062117384535710335, 'n_estimators': 1041, 'min_child_samples': 45, 'subsample': 0.9, 'colsample_bytree': 0.5}. Best is trial 21 with value: 0.741043078429228.\n",
      "[I 2025-02-23 05:20:48,761] Trial 30 finished with value: 0.7405027639115314 and parameters: {'num_iterations': 2470, 'objective': 'binary', 'metric': 'auc', 'verbose': -1, 'learning_rate': 0.07338143032727948, 'n_estimators': 1255, 'min_child_samples': 45, 'subsample': 0.8, 'colsample_bytree': 0.6}. Best is trial 21 with value: 0.741043078429228.\n",
      "[I 2025-02-23 05:20:53,080] Trial 31 finished with value: 0.7407992660150369 and parameters: {'num_iterations': 2687, 'objective': 'binary', 'metric': 'auc', 'verbose': -1, 'learning_rate': 0.03324648333777657, 'n_estimators': 1463, 'min_child_samples': 50, 'subsample': 0.7, 'colsample_bytree': 0.5}. Best is trial 21 with value: 0.741043078429228.\n",
      "[I 2025-02-23 05:20:56,593] Trial 32 finished with value: 0.7409053323569824 and parameters: {'num_iterations': 2839, 'objective': 'binary', 'metric': 'auc', 'verbose': -1, 'learning_rate': 0.046784889211935986, 'n_estimators': 1382, 'min_child_samples': 40, 'subsample': 1.0, 'colsample_bytree': 0.5}. Best is trial 21 with value: 0.741043078429228.\n",
      "[I 2025-02-23 05:20:59,425] Trial 33 finished with value: 0.7406381155393834 and parameters: {'num_iterations': 2857, 'objective': 'binary', 'metric': 'auc', 'verbose': -1, 'learning_rate': 0.04777583851778646, 'n_estimators': 1358, 'min_child_samples': 40, 'subsample': 1.0, 'colsample_bytree': 0.5}. Best is trial 21 with value: 0.741043078429228.\n",
      "[I 2025-02-23 05:21:01,920] Trial 34 finished with value: 0.7406282677415464 and parameters: {'num_iterations': 2519, 'objective': 'binary', 'metric': 'auc', 'verbose': -1, 'learning_rate': 0.058772427595177375, 'n_estimators': 1523, 'min_child_samples': 35, 'subsample': 1.0, 'colsample_bytree': 0.5}. Best is trial 21 with value: 0.741043078429228.\n",
      "[I 2025-02-23 05:21:04,764] Trial 35 finished with value: 0.7410973564730322 and parameters: {'num_iterations': 2264, 'objective': 'binary', 'metric': 'auc', 'verbose': -1, 'learning_rate': 0.04437639637446488, 'n_estimators': 1808, 'min_child_samples': 45, 'subsample': 0.9, 'colsample_bytree': 0.6}. Best is trial 35 with value: 0.7410973564730322.\n",
      "[I 2025-02-23 05:21:07,499] Trial 36 finished with value: 0.7408170952941854 and parameters: {'num_iterations': 2899, 'objective': 'binary', 'metric': 'auc', 'verbose': -1, 'learning_rate': 0.042990597065848, 'n_estimators': 1794, 'min_child_samples': 50, 'subsample': 0.9, 'colsample_bytree': 0.6}. Best is trial 35 with value: 0.7410973564730322.\n",
      "[I 2025-02-23 05:21:10,777] Trial 37 finished with value: 0.7405238016667494 and parameters: {'num_iterations': 1778, 'objective': 'binary', 'metric': 'auc', 'verbose': -1, 'learning_rate': 0.0355951234783129, 'n_estimators': 1635, 'min_child_samples': 45, 'subsample': 0.9, 'colsample_bytree': 0.6}. Best is trial 35 with value: 0.7410973564730322.\n",
      "[I 2025-02-23 05:21:12,870] Trial 38 finished with value: 0.7408452449066316 and parameters: {'num_iterations': 2719, 'objective': 'binary', 'metric': 'auc', 'verbose': -1, 'learning_rate': 0.04660692625334032, 'n_estimators': 1843, 'min_child_samples': 50, 'subsample': 0.9, 'colsample_bytree': 0.8}. Best is trial 35 with value: 0.7410973564730322.\n",
      "[I 2025-02-23 05:21:16,009] Trial 39 finished with value: 0.7406503538107276 and parameters: {'num_iterations': 2018, 'objective': 'binary', 'metric': 'auc', 'verbose': -1, 'learning_rate': 0.038799093807172384, 'n_estimators': 973, 'min_child_samples': 35, 'subsample': 0.8, 'colsample_bytree': 0.6}. Best is trial 35 with value: 0.7410973564730322.\n"
     ]
    },
    {
     "name": "stdout",
     "output_type": "stream",
     "text": [
      "Cat val score : 0.7421178821745298\n",
      "LGBM val score : 0.7406258216756321\n",
      "Ensemble val score : 0.7420991078244598\n"
     ]
    },
    {
     "name": "stderr",
     "output_type": "stream",
     "text": [
      "[I 2025-02-23 05:21:19,314] A new study created in memory with name: no-name-ab4185bf-23dc-453c-abbb-7b4e7fec6fb4\n"
     ]
    },
    {
     "name": "stdout",
     "output_type": "stream",
     "text": [
      "==================================================\n"
     ]
    },
    {
     "name": "stderr",
     "output_type": "stream",
     "text": [
      "Default metric period is 5 because AUC is/are not implemented for GPU\n"
     ]
    },
    {
     "name": "stdout",
     "output_type": "stream",
     "text": [
      "0:\ttest: 0.7290263\tbest: 0.7290263 (0)\ttotal: 82.1ms\tremaining: 3m 14s\n",
      "300:\ttest: 0.7420428\tbest: 0.7420428 (300)\ttotal: 24.3s\tremaining: 2m 46s\n",
      "600:\ttest: 0.7436287\tbest: 0.7436434 (593)\ttotal: 48.6s\tremaining: 2m 22s\n",
      "900:\ttest: 0.7440361\tbest: 0.7440429 (894)\ttotal: 1m 12s\tremaining: 1m 58s\n",
      "1200:\ttest: 0.7439527\tbest: 0.7441589 (1001)\ttotal: 1m 37s\tremaining: 1m 34s\n",
      "bestTest = 0.7441589236\n",
      "bestIteration = 1001\n",
      "Shrink model to first 1002 iterations.\n"
     ]
    },
    {
     "name": "stderr",
     "output_type": "stream",
     "text": [
      "[I 2025-02-23 05:23:07,956] Trial 0 finished with value: 0.744158923625946 and parameters: {'iterations': 2366, 'depth': 10, 'learning_rate': 0.01181021951839225, 'l2_leaf_reg': 9.980783802743254}. Best is trial 0 with value: 0.744158923625946.\n"
     ]
    },
    {
     "name": "stdout",
     "output_type": "stream",
     "text": [
      "저장 완료\n"
     ]
    },
    {
     "name": "stderr",
     "output_type": "stream",
     "text": [
      "Default metric period is 5 because AUC is/are not implemented for GPU\n"
     ]
    },
    {
     "name": "stdout",
     "output_type": "stream",
     "text": [
      "0:\ttest: 0.7102664\tbest: 0.7102664 (0)\ttotal: 15ms\tremaining: 33s\n",
      "300:\ttest: 0.7319343\tbest: 0.7319343 (300)\ttotal: 4.05s\tremaining: 25.5s\n",
      "600:\ttest: 0.7364636\tbest: 0.7364636 (600)\ttotal: 8.09s\tremaining: 21.4s\n",
      "900:\ttest: 0.7385927\tbest: 0.7385927 (900)\ttotal: 12.2s\tremaining: 17.4s\n",
      "1200:\ttest: 0.7398602\tbest: 0.7398602 (1200)\ttotal: 16.2s\tremaining: 13.4s\n",
      "1500:\ttest: 0.7407065\tbest: 0.7407065 (1500)\ttotal: 20.3s\tremaining: 9.36s\n",
      "1800:\ttest: 0.7412942\tbest: 0.7412942 (1800)\ttotal: 24.4s\tremaining: 5.31s\n",
      "2100:\ttest: 0.7417857\tbest: 0.7417857 (2100)\ttotal: 28.5s\tremaining: 1.25s\n",
      "2192:\ttest: 0.7419203\tbest: 0.7419203 (2192)\ttotal: 29.8s\tremaining: 0us\n",
      "bestTest = 0.7419203222\n",
      "bestIteration = 2192\n"
     ]
    },
    {
     "name": "stderr",
     "output_type": "stream",
     "text": [
      "[I 2025-02-23 05:23:41,552] Trial 1 finished with value: 0.7419203221797943 and parameters: {'iterations': 2193, 'depth': 4, 'learning_rate': 0.005671430811678843, 'l2_leaf_reg': 0.00012325230809466137}. Best is trial 0 with value: 0.744158923625946.\n",
      "Default metric period is 5 because AUC is/are not implemented for GPU\n"
     ]
    },
    {
     "name": "stdout",
     "output_type": "stream",
     "text": [
      "0:\ttest: 0.7102664\tbest: 0.7102664 (0)\ttotal: 13.9ms\tremaining: 35.3s\n",
      "300:\ttest: 0.7436831\tbest: 0.7436831 (300)\ttotal: 4.1s\tremaining: 30.4s\n",
      "600:\ttest: 0.7441282\tbest: 0.7441444 (590)\ttotal: 8.2s\tremaining: 26.4s\n",
      "900:\ttest: 0.7437962\tbest: 0.7443100 (634)\ttotal: 12.4s\tremaining: 22.5s\n"
     ]
    },
    {
     "name": "stderr",
     "output_type": "stream",
     "text": [
      "[I 2025-02-23 05:23:58,269] Trial 2 finished with value: 0.7443100214004517 and parameters: {'iterations': 2535, 'depth': 4, 'learning_rate': 0.09275339199839054, 'l2_leaf_reg': 0.0008705394248343123}. Best is trial 2 with value: 0.7443100214004517.\n"
     ]
    },
    {
     "name": "stdout",
     "output_type": "stream",
     "text": [
      "bestTest = 0.7443100214\n",
      "bestIteration = 634\n",
      "Shrink model to first 635 iterations.\n",
      "저장 완료\n"
     ]
    },
    {
     "name": "stderr",
     "output_type": "stream",
     "text": [
      "Default metric period is 5 because AUC is/are not implemented for GPU\n"
     ]
    },
    {
     "name": "stdout",
     "output_type": "stream",
     "text": [
      "0:\ttest: 0.7102664\tbest: 0.7102664 (0)\ttotal: 20.5ms\tremaining: 47.8s\n",
      "300:\ttest: 0.7421266\tbest: 0.7421266 (300)\ttotal: 6.41s\tremaining: 43.3s\n",
      "600:\ttest: 0.7432725\tbest: 0.7432787 (595)\ttotal: 11.2s\tremaining: 32.4s\n",
      "900:\ttest: 0.7435222\tbest: 0.7436077 (780)\ttotal: 15.4s\tremaining: 24.5s\n",
      "1200:\ttest: 0.7439110\tbest: 0.7439153 (1182)\ttotal: 19.6s\tremaining: 18.5s\n",
      "1500:\ttest: 0.7439603\tbest: 0.7440221 (1261)\ttotal: 23.7s\tremaining: 13.2s\n",
      "bestTest = 0.7440220714\n",
      "bestIteration = 1261\n",
      "Shrink model to first 1262 iterations.\n"
     ]
    },
    {
     "name": "stderr",
     "output_type": "stream",
     "text": [
      "[I 2025-02-23 05:24:26,965] Trial 3 finished with value: 0.7440220713615417 and parameters: {'iterations': 2334, 'depth': 4, 'learning_rate': 0.04657568321363276, 'l2_leaf_reg': 0.0008640473331457248}. Best is trial 2 with value: 0.7443100214004517.\n",
      "Default metric period is 5 because AUC is/are not implemented for GPU\n"
     ]
    },
    {
     "name": "stdout",
     "output_type": "stream",
     "text": [
      "0:\ttest: 0.7290057\tbest: 0.7290057 (0)\ttotal: 102ms\tremaining: 2m 57s\n",
      "300:\ttest: 0.7416130\tbest: 0.7416338 (272)\ttotal: 24.5s\tremaining: 1m 57s\n",
      "600:\ttest: 0.7420549\tbest: 0.7421937 (415)\ttotal: 48.8s\tremaining: 1m 32s\n",
      "900:\ttest: 0.7417628\tbest: 0.7422188 (774)\ttotal: 1m 13s\tremaining: 1m 8s\n",
      "bestTest = 0.7422188222\n",
      "bestIteration = 774\n",
      "Shrink model to first 775 iterations.\n"
     ]
    },
    {
     "name": "stderr",
     "output_type": "stream",
     "text": [
      "[I 2025-02-23 05:25:58,803] Trial 4 finished with value: 0.7422188222408295 and parameters: {'iterations': 1742, 'depth': 10, 'learning_rate': 0.012622767482095846, 'l2_leaf_reg': 0.00021158816350109617}. Best is trial 2 with value: 0.7443100214004517.\n",
      "Default metric period is 5 because AUC is/are not implemented for GPU\n"
     ]
    },
    {
     "name": "stdout",
     "output_type": "stream",
     "text": [
      "0:\ttest: 0.7102664\tbest: 0.7102664 (0)\ttotal: 25.3ms\tremaining: 52.7s\n",
      "300:\ttest: 0.7430000\tbest: 0.7430000 (300)\ttotal: 5.74s\tremaining: 33.9s\n",
      "600:\ttest: 0.7437271\tbest: 0.7437408 (579)\ttotal: 10.2s\tremaining: 25.2s\n",
      "900:\ttest: 0.7437909\tbest: 0.7439664 (701)\ttotal: 16.3s\tremaining: 21.3s\n"
     ]
    },
    {
     "name": "stderr",
     "output_type": "stream",
     "text": [
      "[I 2025-02-23 05:26:20,533] Trial 5 finished with value: 0.7439664006233215 and parameters: {'iterations': 2082, 'depth': 4, 'learning_rate': 0.06995196593094148, 'l2_leaf_reg': 0.0018080296485396804}. Best is trial 2 with value: 0.7443100214004517.\n"
     ]
    },
    {
     "name": "stdout",
     "output_type": "stream",
     "text": [
      "bestTest = 0.7439664006\n",
      "bestIteration = 701\n",
      "Shrink model to first 702 iterations.\n"
     ]
    },
    {
     "name": "stderr",
     "output_type": "stream",
     "text": [
      "Default metric period is 5 because AUC is/are not implemented for GPU\n"
     ]
    },
    {
     "name": "stdout",
     "output_type": "stream",
     "text": [
      "0:\ttest: 0.7148724\tbest: 0.7148724 (0)\ttotal: 32.1ms\tremaining: 1m 4s\n",
      "300:\ttest: 0.7437888\tbest: 0.7437888 (300)\ttotal: 6.88s\tremaining: 38.8s\n",
      "600:\ttest: 0.7443016\tbest: 0.7443430 (581)\ttotal: 13.3s\tremaining: 30.8s\n",
      "900:\ttest: 0.7442037\tbest: 0.7443444 (777)\ttotal: 19.8s\tremaining: 24s\n",
      "bestTest = 0.7443444133\n",
      "bestIteration = 777\n",
      "Shrink model to first 778 iterations.\n"
     ]
    },
    {
     "name": "stderr",
     "output_type": "stream",
     "text": [
      "[I 2025-02-23 05:26:48,181] Trial 6 finished with value: 0.7443444132804871 and parameters: {'iterations': 1997, 'depth': 5, 'learning_rate': 0.07985155992831598, 'l2_leaf_reg': 62.52181000710482}. Best is trial 6 with value: 0.7443444132804871.\n"
     ]
    },
    {
     "name": "stdout",
     "output_type": "stream",
     "text": [
      "저장 완료\n"
     ]
    },
    {
     "name": "stderr",
     "output_type": "stream",
     "text": [
      "Default metric period is 5 because AUC is/are not implemented for GPU\n"
     ]
    },
    {
     "name": "stdout",
     "output_type": "stream",
     "text": [
      "0:\ttest: 0.7243760\tbest: 0.7243760 (0)\ttotal: 32.9ms\tremaining: 1m 3s\n",
      "300:\ttest: 0.7435396\tbest: 0.7439263 (178)\ttotal: 10.1s\tremaining: 54.5s\n",
      "bestTest = 0.7439263463\n",
      "bestIteration = 178\n",
      "Shrink model to first 179 iterations.\n"
     ]
    },
    {
     "name": "stderr",
     "output_type": "stream",
     "text": [
      "[I 2025-02-23 05:27:08,073] Trial 7 finished with value: 0.7439263463020325 and parameters: {'iterations': 1927, 'depth': 7, 'learning_rate': 0.0941937211034094, 'l2_leaf_reg': 0.05654822767791934}. Best is trial 6 with value: 0.7443444132804871.\n",
      "Default metric period is 5 because AUC is/are not implemented for GPU\n"
     ]
    },
    {
     "name": "stdout",
     "output_type": "stream",
     "text": [
      "0:\ttest: 0.7243759\tbest: 0.7243759 (0)\ttotal: 47.2ms\tremaining: 1m 29s\n",
      "300:\ttest: 0.7437232\tbest: 0.7437232 (300)\ttotal: 10.8s\tremaining: 57.3s\n",
      "600:\ttest: 0.7440138\tbest: 0.7440808 (489)\ttotal: 21.3s\tremaining: 46.1s\n",
      "bestTest = 0.7440807819\n",
      "bestIteration = 489\n",
      "Shrink model to first 490 iterations.\n"
     ]
    },
    {
     "name": "stderr",
     "output_type": "stream",
     "text": [
      "[I 2025-02-23 05:27:39,892] Trial 8 finished with value: 0.7440807819366455 and parameters: {'iterations': 1904, 'depth': 7, 'learning_rate': 0.05155602859187331, 'l2_leaf_reg': 1.299974533316308}. Best is trial 6 with value: 0.7443444132804871.\n",
      "Default metric period is 5 because AUC is/are not implemented for GPU\n"
     ]
    },
    {
     "name": "stdout",
     "output_type": "stream",
     "text": [
      "0:\ttest: 0.7214416\tbest: 0.7214416 (0)\ttotal: 26.5ms\tremaining: 1m 9s\n",
      "300:\ttest: 0.7432629\tbest: 0.7432659 (299)\ttotal: 7.6s\tremaining: 59s\n",
      "600:\ttest: 0.7441358\tbest: 0.7441505 (596)\ttotal: 14.2s\tremaining: 48.1s\n",
      "900:\ttest: 0.7441610\tbest: 0.7441915 (698)\ttotal: 20.9s\tremaining: 40.2s\n",
      "1200:\ttest: 0.7438734\tbest: 0.7441960 (943)\ttotal: 27.6s\tremaining: 33s\n",
      "bestTest = 0.7441959977\n",
      "bestIteration = 943\n",
      "Shrink model to first 944 iterations.\n"
     ]
    },
    {
     "name": "stderr",
     "output_type": "stream",
     "text": [
      "[I 2025-02-23 05:28:12,441] Trial 9 finished with value: 0.7441959977149963 and parameters: {'iterations': 2639, 'depth': 6, 'learning_rate': 0.03968704290444751, 'l2_leaf_reg': 0.30557194377967184}. Best is trial 6 with value: 0.7443444132804871.\n",
      "Default metric period is 5 because AUC is/are not implemented for GPU\n"
     ]
    },
    {
     "name": "stdout",
     "output_type": "stream",
     "text": [
      "0:\ttest: 0.7213999\tbest: 0.7213999 (0)\ttotal: 27.1ms\tremaining: 1m 19s\n",
      "300:\ttest: 0.7441762\tbest: 0.7441762 (300)\ttotal: 7.49s\tremaining: 1m 5s\n",
      "600:\ttest: 0.7443682\tbest: 0.7444114 (547)\ttotal: 14.9s\tremaining: 58s\n",
      "900:\ttest: 0.7442369\tbest: 0.7445098 (755)\ttotal: 21.9s\tremaining: 49.7s\n",
      "bestTest = 0.7445097566\n",
      "bestIteration = 755\n",
      "Shrink model to first 756 iterations.\n"
     ]
    },
    {
     "name": "stderr",
     "output_type": "stream",
     "text": [
      "[I 2025-02-23 05:28:41,960] Trial 10 finished with value: 0.744509756565094 and parameters: {'iterations': 2945, 'depth': 6, 'learning_rate': 0.07265276039199581, 'l2_leaf_reg': 97.18545559492446}. Best is trial 10 with value: 0.744509756565094.\n"
     ]
    },
    {
     "name": "stdout",
     "output_type": "stream",
     "text": [
      "저장 완료\n"
     ]
    },
    {
     "name": "stderr",
     "output_type": "stream",
     "text": [
      "Default metric period is 5 because AUC is/are not implemented for GPU\n"
     ]
    },
    {
     "name": "stdout",
     "output_type": "stream",
     "text": [
      "0:\ttest: 0.7214013\tbest: 0.7214013 (0)\ttotal: 39.8ms\tremaining: 1m 59s\n",
      "300:\ttest: 0.7441549\tbest: 0.7441549 (300)\ttotal: 9.46s\tremaining: 1m 24s\n",
      "600:\ttest: 0.7444207\tbest: 0.7444847 (528)\ttotal: 17.4s\tremaining: 1m 9s\n",
      "900:\ttest: 0.7440860\tbest: 0.7446357 (694)\ttotal: 25.5s\tremaining: 59.2s\n",
      "bestTest = 0.744635731\n",
      "bestIteration = 694\n",
      "Shrink model to first 695 iterations.\n"
     ]
    },
    {
     "name": "stderr",
     "output_type": "stream",
     "text": [
      "[I 2025-02-23 05:29:14,159] Trial 11 finished with value: 0.7446357309818268 and parameters: {'iterations': 2994, 'depth': 6, 'learning_rate': 0.07131044509072976, 'l2_leaf_reg': 73.12133513928158}. Best is trial 11 with value: 0.7446357309818268.\n"
     ]
    },
    {
     "name": "stdout",
     "output_type": "stream",
     "text": [
      "저장 완료\n"
     ]
    },
    {
     "name": "stderr",
     "output_type": "stream",
     "text": [
      "Default metric period is 5 because AUC is/are not implemented for GPU\n"
     ]
    },
    {
     "name": "stdout",
     "output_type": "stream",
     "text": [
      "0:\ttest: 0.7214013\tbest: 0.7214013 (0)\ttotal: 22ms\tremaining: 1m 3s\n",
      "300:\ttest: 0.7444845\tbest: 0.7444845 (300)\ttotal: 7.93s\tremaining: 1m 8s\n",
      "600:\ttest: 0.7445838\tbest: 0.7446853 (566)\ttotal: 14.5s\tremaining: 55.5s\n",
      "bestTest = 0.7446852922\n",
      "bestIteration = 566\n",
      "Shrink model to first 567 iterations.\n"
     ]
    },
    {
     "name": "stderr",
     "output_type": "stream",
     "text": [
      "[I 2025-02-23 05:29:38,456] Trial 12 finished with value: 0.7446852922439575 and parameters: {'iterations': 2897, 'depth': 6, 'learning_rate': 0.06853332055535903, 'l2_leaf_reg': 87.13438924619733}. Best is trial 12 with value: 0.7446852922439575.\n"
     ]
    },
    {
     "name": "stdout",
     "output_type": "stream",
     "text": [
      "저장 완료\n"
     ]
    },
    {
     "name": "stderr",
     "output_type": "stream",
     "text": [
      "Default metric period is 5 because AUC is/are not implemented for GPU\n"
     ]
    },
    {
     "name": "stdout",
     "output_type": "stream",
     "text": [
      "0:\ttest: 0.7253365\tbest: 0.7253365 (0)\ttotal: 53.5ms\tremaining: 2m 39s\n",
      "300:\ttest: 0.7442890\tbest: 0.7443056 (294)\ttotal: 12.2s\tremaining: 1m 48s\n",
      "600:\ttest: 0.7436372\tbest: 0.7443529 (384)\ttotal: 23.6s\tremaining: 1m 33s\n",
      "bestTest = 0.7443529367\n",
      "bestIteration = 384\n",
      "Shrink model to first 385 iterations.\n"
     ]
    },
    {
     "name": "stderr",
     "output_type": "stream",
     "text": [
      "[I 2025-02-23 05:30:09,262] Trial 13 finished with value: 0.7443529367446899 and parameters: {'iterations': 2975, 'depth': 8, 'learning_rate': 0.0628933885949758, 'l2_leaf_reg': 9.932122665254592}. Best is trial 12 with value: 0.7446852922439575.\n",
      "Default metric period is 5 because AUC is/are not implemented for GPU\n"
     ]
    },
    {
     "name": "stdout",
     "output_type": "stream",
     "text": [
      "0:\ttest: 0.7253400\tbest: 0.7253400 (0)\ttotal: 60.1ms\tremaining: 2m 45s\n",
      "300:\ttest: 0.7441663\tbest: 0.7443630 (225)\ttotal: 12.3s\tremaining: 1m 39s\n",
      "bestTest = 0.7443629503\n",
      "bestIteration = 225\n",
      "Shrink model to first 226 iterations.\n"
     ]
    },
    {
     "name": "stderr",
     "output_type": "stream",
     "text": [
      "[I 2025-02-23 05:30:34,030] Trial 14 finished with value: 0.7443629503250122 and parameters: {'iterations': 2754, 'depth': 8, 'learning_rate': 0.08100676431388791, 'l2_leaf_reg': 11.34882823847061}. Best is trial 12 with value: 0.7446852922439575.\n",
      "Default metric period is 5 because AUC is/are not implemented for GPU\n"
     ]
    },
    {
     "name": "stdout",
     "output_type": "stream",
     "text": [
      "0:\ttest: 0.7214009\tbest: 0.7214009 (0)\ttotal: 35.7ms\tremaining: 54s\n",
      "300:\ttest: 0.7439111\tbest: 0.7439136 (296)\ttotal: 7.55s\tremaining: 30.4s\n",
      "600:\ttest: 0.7442241\tbest: 0.7443202 (517)\ttotal: 14.2s\tremaining: 21.5s\n",
      "bestTest = 0.744320184\n",
      "bestIteration = 517\n",
      "Shrink model to first 518 iterations.\n"
     ]
    },
    {
     "name": "stderr",
     "output_type": "stream",
     "text": [
      "[I 2025-02-23 05:30:57,089] Trial 15 finished with value: 0.7443201839923859 and parameters: {'iterations': 1513, 'depth': 6, 'learning_rate': 0.058567350860737666, 'l2_leaf_reg': 70.3890424045827}. Best is trial 12 with value: 0.7446852922439575.\n",
      "Default metric period is 5 because AUC is/are not implemented for GPU\n"
     ]
    },
    {
     "name": "stdout",
     "output_type": "stream",
     "text": [
      "0:\ttest: 0.7253270\tbest: 0.7253270 (0)\ttotal: 56.3ms\tremaining: 2m 38s\n",
      "300:\ttest: 0.7436804\tbest: 0.7442408 (218)\ttotal: 11.9s\tremaining: 1m 39s\n"
     ]
    },
    {
     "name": "stderr",
     "output_type": "stream",
     "text": [
      "[I 2025-02-23 05:31:21,248] Trial 16 finished with value: 0.7442408204078674 and parameters: {'iterations': 2824, 'depth': 8, 'learning_rate': 0.08245935917939866, 'l2_leaf_reg': 2.168978912033319}. Best is trial 12 with value: 0.7446852922439575.\n"
     ]
    },
    {
     "name": "stdout",
     "output_type": "stream",
     "text": [
      "bestTest = 0.7442408204\n",
      "bestIteration = 218\n",
      "Shrink model to first 219 iterations.\n"
     ]
    },
    {
     "name": "stderr",
     "output_type": "stream",
     "text": [
      "Default metric period is 5 because AUC is/are not implemented for GPU\n"
     ]
    },
    {
     "name": "stdout",
     "output_type": "stream",
     "text": [
      "0:\ttest: 0.7148724\tbest: 0.7148724 (0)\ttotal: 31.3ms\tremaining: 1m 19s\n",
      "300:\ttest: 0.7436475\tbest: 0.7436475 (300)\ttotal: 7.62s\tremaining: 56.8s\n",
      "600:\ttest: 0.7441813\tbest: 0.7442346 (572)\ttotal: 13.2s\tremaining: 42.6s\n",
      "900:\ttest: 0.7440923\tbest: 0.7443527 (764)\ttotal: 18.5s\tremaining: 33.8s\n",
      "bestTest = 0.7443527281\n",
      "bestIteration = 764\n",
      "Shrink model to first 765 iterations.\n"
     ]
    },
    {
     "name": "stderr",
     "output_type": "stream",
     "text": [
      "[I 2025-02-23 05:31:46,902] Trial 17 finished with value: 0.7443527281284332 and parameters: {'iterations': 2546, 'depth': 5, 'learning_rate': 0.06372653739420268, 'l2_leaf_reg': 19.628874304278746}. Best is trial 12 with value: 0.7446852922439575.\n",
      "Default metric period is 5 because AUC is/are not implemented for GPU\n"
     ]
    },
    {
     "name": "stdout",
     "output_type": "stream",
     "text": [
      "0:\ttest: 0.7148785\tbest: 0.7148785 (0)\ttotal: 32.2ms\tremaining: 1m 30s\n",
      "300:\ttest: 0.7425398\tbest: 0.7425398 (300)\ttotal: 6.28s\tremaining: 52.5s\n",
      "600:\ttest: 0.7437771\tbest: 0.7437771 (600)\ttotal: 11.5s\tremaining: 42.5s\n",
      "900:\ttest: 0.7440376\tbest: 0.7441032 (842)\ttotal: 16.8s\tremaining: 35.7s\n",
      "bestTest = 0.7441032231\n",
      "bestIteration = 842\n",
      "Shrink model to first 843 iterations.\n"
     ]
    },
    {
     "name": "stderr",
     "output_type": "stream",
     "text": [
      "[I 2025-02-23 05:32:14,077] Trial 18 finished with value: 0.7441032230854034 and parameters: {'iterations': 2815, 'depth': 5, 'learning_rate': 0.03807590246117568, 'l2_leaf_reg': 1.6241109247683345}. Best is trial 12 with value: 0.7446852922439575.\n",
      "Default metric period is 5 because AUC is/are not implemented for GPU\n"
     ]
    },
    {
     "name": "stdout",
     "output_type": "stream",
     "text": [
      "0:\ttest: 0.7276538\tbest: 0.7276538 (0)\ttotal: 75.1ms\tremaining: 3m 17s\n",
      "300:\ttest: 0.7428346\tbest: 0.7436199 (138)\ttotal: 16.5s\tremaining: 2m 7s\n"
     ]
    },
    {
     "name": "stderr",
     "output_type": "stream",
     "text": [
      "[I 2025-02-23 05:32:41,952] Trial 19 finished with value: 0.7436199486255646 and parameters: {'iterations': 2629, 'depth': 9, 'learning_rate': 0.09707812418213355, 'l2_leaf_reg': 26.173311383243338}. Best is trial 12 with value: 0.7446852922439575.\n"
     ]
    },
    {
     "name": "stdout",
     "output_type": "stream",
     "text": [
      "bestTest = 0.7436199486\n",
      "bestIteration = 138\n",
      "Shrink model to first 139 iterations.\n"
     ]
    },
    {
     "name": "stderr",
     "output_type": "stream",
     "text": [
      "Default metric period is 5 because AUC is/are not implemented for GPU\n"
     ]
    },
    {
     "name": "stdout",
     "output_type": "stream",
     "text": [
      "0:\ttest: 0.7213999\tbest: 0.7213999 (0)\ttotal: 36.7ms\tremaining: 1m 48s\n",
      "300:\ttest: 0.7442865\tbest: 0.7442865 (300)\ttotal: 8.59s\tremaining: 1m 16s\n",
      "600:\ttest: 0.7445220\tbest: 0.7445306 (596)\ttotal: 15.2s\tremaining: 59.9s\n",
      "900:\ttest: 0.7442903\tbest: 0.7446281 (722)\ttotal: 21.9s\tremaining: 50.2s\n",
      "bestTest = 0.7446280718\n",
      "bestIteration = 722\n",
      "Shrink model to first 723 iterations.\n"
     ]
    },
    {
     "name": "stderr",
     "output_type": "stream",
     "text": [
      "[I 2025-02-23 05:33:10,569] Trial 20 finished with value: 0.7446280717849731 and parameters: {'iterations': 2967, 'depth': 6, 'learning_rate': 0.07236387410741332, 'l2_leaf_reg': 98.94432858891635}. Best is trial 12 with value: 0.7446852922439575.\n",
      "Default metric period is 5 because AUC is/are not implemented for GPU\n"
     ]
    },
    {
     "name": "stdout",
     "output_type": "stream",
     "text": [
      "0:\ttest: 0.7214013\tbest: 0.7214013 (0)\ttotal: 38.8ms\tremaining: 1m 55s\n",
      "300:\ttest: 0.7444334\tbest: 0.7444334 (300)\ttotal: 8.71s\tremaining: 1m 17s\n",
      "600:\ttest: 0.7447505\tbest: 0.7447752 (596)\ttotal: 15.5s\tremaining: 1m 1s\n",
      "900:\ttest: 0.7445253\tbest: 0.7448283 (616)\ttotal: 22.2s\tremaining: 50.9s\n",
      "bestTest = 0.7448283434\n",
      "bestIteration = 616\n",
      "Shrink model to first 617 iterations.\n"
     ]
    },
    {
     "name": "stderr",
     "output_type": "stream",
     "text": [
      "[I 2025-02-23 05:33:37,217] Trial 21 finished with value: 0.7448283433914185 and parameters: {'iterations': 2969, 'depth': 6, 'learning_rate': 0.06705893892128602, 'l2_leaf_reg': 89.64660875312265}. Best is trial 21 with value: 0.7448283433914185.\n"
     ]
    },
    {
     "name": "stdout",
     "output_type": "stream",
     "text": [
      "저장 완료\n"
     ]
    },
    {
     "name": "stderr",
     "output_type": "stream",
     "text": [
      "Default metric period is 5 because AUC is/are not implemented for GPU\n"
     ]
    },
    {
     "name": "stdout",
     "output_type": "stream",
     "text": [
      "0:\ttest: 0.7243744\tbest: 0.7243744 (0)\ttotal: 39.6ms\tremaining: 1m 50s\n",
      "300:\ttest: 0.7437563\tbest: 0.7438014 (288)\ttotal: 9.5s\tremaining: 1m 18s\n",
      "600:\ttest: 0.7440256\tbest: 0.7440487 (564)\ttotal: 18s\tremaining: 1m 5s\n",
      "900:\ttest: 0.7434898\tbest: 0.7440636 (652)\ttotal: 26.6s\tremaining: 55.6s\n",
      "bestTest = 0.7440636158\n",
      "bestIteration = 652\n",
      "Shrink model to first 653 iterations.\n"
     ]
    },
    {
     "name": "stderr",
     "output_type": "stream",
     "text": [
      "[I 2025-02-23 05:34:09,420] Trial 22 finished with value: 0.7440636157989502 and parameters: {'iterations': 2785, 'depth': 7, 'learning_rate': 0.05906158269211451, 'l2_leaf_reg': 24.208477447949065}. Best is trial 21 with value: 0.7448283433914185.\n",
      "Default metric period is 5 because AUC is/are not implemented for GPU\n"
     ]
    },
    {
     "name": "stdout",
     "output_type": "stream",
     "text": [
      "0:\ttest: 0.7148785\tbest: 0.7148785 (0)\ttotal: 31.9ms\tremaining: 1m 35s\n",
      "300:\ttest: 0.7437009\tbest: 0.7437009 (300)\ttotal: 6.55s\tremaining: 58.7s\n",
      "600:\ttest: 0.7441930\tbest: 0.7441991 (599)\ttotal: 11.9s\tremaining: 47.4s\n",
      "900:\ttest: 0.7439775\tbest: 0.7442383 (610)\ttotal: 17.3s\tremaining: 40.1s\n",
      "bestTest = 0.7442383468\n",
      "bestIteration = 610\n",
      "Shrink model to first 611 iterations.\n"
     ]
    },
    {
     "name": "stderr",
     "output_type": "stream",
     "text": [
      "[I 2025-02-23 05:34:30,947] Trial 23 finished with value: 0.7442383468151093 and parameters: {'iterations': 2995, 'depth': 5, 'learning_rate': 0.0689244051863916, 'l2_leaf_reg': 4.781771609073337}. Best is trial 21 with value: 0.7448283433914185.\n",
      "Default metric period is 5 because AUC is/are not implemented for GPU\n"
     ]
    },
    {
     "name": "stdout",
     "output_type": "stream",
     "text": [
      "0:\ttest: 0.7214183\tbest: 0.7214183 (0)\ttotal: 36.8ms\tremaining: 1m 45s\n",
      "300:\ttest: 0.7441067\tbest: 0.7441328 (293)\ttotal: 9.24s\tremaining: 1m 19s\n",
      "600:\ttest: 0.7439298\tbest: 0.7441766 (385)\ttotal: 15.8s\tremaining: 59.9s\n"
     ]
    },
    {
     "name": "stderr",
     "output_type": "stream",
     "text": [
      "[I 2025-02-23 05:34:52,685] Trial 24 finished with value: 0.7441765666007996 and parameters: {'iterations': 2875, 'depth': 6, 'learning_rate': 0.08748012751481887, 'l2_leaf_reg': 41.75489521697288}. Best is trial 21 with value: 0.7448283433914185.\n"
     ]
    },
    {
     "name": "stdout",
     "output_type": "stream",
     "text": [
      "bestTest = 0.7441765666\n",
      "bestIteration = 385\n",
      "Shrink model to first 386 iterations.\n"
     ]
    },
    {
     "name": "stderr",
     "output_type": "stream",
     "text": [
      "Default metric period is 5 because AUC is/are not implemented for GPU\n"
     ]
    },
    {
     "name": "stdout",
     "output_type": "stream",
     "text": [
      "0:\ttest: 0.7243744\tbest: 0.7243744 (0)\ttotal: 41.7ms\tremaining: 1m 51s\n",
      "300:\ttest: 0.7439268\tbest: 0.7439877 (285)\ttotal: 11s\tremaining: 1m 26s\n",
      "600:\ttest: 0.7436470\tbest: 0.7440846 (352)\ttotal: 19.6s\tremaining: 1m 7s\n",
      "bestTest = 0.7440845668\n",
      "bestIteration = 352\n",
      "Shrink model to first 353 iterations.\n"
     ]
    },
    {
     "name": "stderr",
     "output_type": "stream",
     "text": [
      "[I 2025-02-23 05:35:17,913] Trial 25 finished with value: 0.7440845668315887 and parameters: {'iterations': 2676, 'depth': 7, 'learning_rate': 0.07803133569061724, 'l2_leaf_reg': 25.38531164201259}. Best is trial 21 with value: 0.7448283433914185.\n",
      "Default metric period is 5 because AUC is/are not implemented for GPU\n"
     ]
    },
    {
     "name": "stdout",
     "output_type": "stream",
     "text": [
      "0:\ttest: 0.7148771\tbest: 0.7148771 (0)\ttotal: 32.3ms\tremaining: 1m 18s\n",
      "300:\ttest: 0.7438865\tbest: 0.7438865 (300)\ttotal: 7.26s\tremaining: 51.6s\n",
      "600:\ttest: 0.7443646\tbest: 0.7443711 (599)\ttotal: 12.7s\tremaining: 38.9s\n",
      "900:\ttest: 0.7440420\tbest: 0.7444359 (702)\ttotal: 18.1s\tremaining: 30.9s\n",
      "bestTest = 0.7444359064\n",
      "bestIteration = 702\n",
      "Shrink model to first 703 iterations.\n"
     ]
    },
    {
     "name": "stderr",
     "output_type": "stream",
     "text": [
      "[I 2025-02-23 05:35:41,990] Trial 26 finished with value: 0.7444359064102173 and parameters: {'iterations': 2442, 'depth': 5, 'learning_rate': 0.07519428729254268, 'l2_leaf_reg': 6.134949608431425}. Best is trial 21 with value: 0.7448283433914185.\n",
      "Default metric period is 5 because AUC is/are not implemented for GPU\n"
     ]
    },
    {
     "name": "stdout",
     "output_type": "stream",
     "text": [
      "0:\ttest: 0.7214229\tbest: 0.7214229 (0)\ttotal: 36.5ms\tremaining: 1m 38s\n",
      "300:\ttest: 0.7439905\tbest: 0.7440099 (297)\ttotal: 7.57s\tremaining: 1m\n",
      "600:\ttest: 0.7441694\tbest: 0.7443873 (509)\ttotal: 14.2s\tremaining: 49.6s\n",
      "bestTest = 0.7443872988\n",
      "bestIteration = 509\n",
      "Shrink model to first 510 iterations.\n"
     ]
    },
    {
     "name": "stderr",
     "output_type": "stream",
     "text": [
      "[I 2025-02-23 05:36:04,878] Trial 27 finished with value: 0.744387298822403 and parameters: {'iterations': 2703, 'depth': 6, 'learning_rate': 0.08624665687484309, 'l2_leaf_reg': 35.09863812718424}. Best is trial 21 with value: 0.7448283433914185.\n",
      "Default metric period is 5 because AUC is/are not implemented for GPU\n"
     ]
    },
    {
     "name": "stdout",
     "output_type": "stream",
     "text": [
      "0:\ttest: 0.7243861\tbest: 0.7243861 (0)\ttotal: 45ms\tremaining: 2m 9s\n",
      "300:\ttest: 0.7440086\tbest: 0.7440086 (300)\ttotal: 9.36s\tremaining: 1m 20s\n",
      "600:\ttest: 0.7438248\tbest: 0.7441136 (332)\ttotal: 17.9s\tremaining: 1m 7s\n"
     ]
    },
    {
     "name": "stderr",
     "output_type": "stream",
     "text": [
      "[I 2025-02-23 05:36:27,737] Trial 28 finished with value: 0.7441136240959167 and parameters: {'iterations': 2879, 'depth': 7, 'learning_rate': 0.06541118354214727, 'l2_leaf_reg': 4.350683283507977}. Best is trial 21 with value: 0.7448283433914185.\n"
     ]
    },
    {
     "name": "stdout",
     "output_type": "stream",
     "text": [
      "bestTest = 0.7441136241\n",
      "bestIteration = 332\n",
      "Shrink model to first 333 iterations.\n"
     ]
    },
    {
     "name": "stderr",
     "output_type": "stream",
     "text": [
      "Default metric period is 5 because AUC is/are not implemented for GPU\n"
     ]
    },
    {
     "name": "stdout",
     "output_type": "stream",
     "text": [
      "0:\ttest: 0.7214002\tbest: 0.7214002 (0)\ttotal: 29.3ms\tremaining: 1m 11s\n",
      "300:\ttest: 0.7446342\tbest: 0.7446865 (277)\ttotal: 6.66s\tremaining: 47.3s\n"
     ]
    },
    {
     "name": "stderr",
     "output_type": "stream",
     "text": [
      "[I 2025-02-23 05:36:44,483] Trial 29 finished with value: 0.7446865141391754 and parameters: {'iterations': 2437, 'depth': 6, 'learning_rate': 0.09977466689713427, 'l2_leaf_reg': 94.49149995416464}. Best is trial 21 with value: 0.7448283433914185.\n"
     ]
    },
    {
     "name": "stdout",
     "output_type": "stream",
     "text": [
      "bestTest = 0.7446865141\n",
      "bestIteration = 277\n",
      "Shrink model to first 278 iterations.\n"
     ]
    },
    {
     "name": "stderr",
     "output_type": "stream",
     "text": [
      "Default metric period is 5 because AUC is/are not implemented for GPU\n"
     ]
    },
    {
     "name": "stdout",
     "output_type": "stream",
     "text": [
      "0:\ttest: 0.7253428\tbest: 0.7253428 (0)\ttotal: 42.5ms\tremaining: 1m 36s\n",
      "300:\ttest: 0.7451137\tbest: 0.7451198 (298)\ttotal: 11.8s\tremaining: 1m 17s\n",
      "600:\ttest: 0.7435094\tbest: 0.7451493 (316)\ttotal: 23.1s\tremaining: 1m 4s\n",
      "bestTest = 0.7451493144\n",
      "bestIteration = 316\n",
      "Shrink model to first 317 iterations.\n"
     ]
    },
    {
     "name": "stderr",
     "output_type": "stream",
     "text": [
      "[I 2025-02-23 05:37:12,256] Trial 30 finished with value: 0.7451493144035339 and parameters: {'iterations': 2281, 'depth': 8, 'learning_rate': 0.08942823233481612, 'l2_leaf_reg': 13.607344221672376}. Best is trial 30 with value: 0.7451493144035339.\n"
     ]
    },
    {
     "name": "stdout",
     "output_type": "stream",
     "text": [
      "저장 완료\n"
     ]
    },
    {
     "name": "stderr",
     "output_type": "stream",
     "text": [
      "Default metric period is 5 because AUC is/are not implemented for GPU\n"
     ]
    },
    {
     "name": "stdout",
     "output_type": "stream",
     "text": [
      "0:\ttest: 0.7276819\tbest: 0.7276819 (0)\ttotal: 62.2ms\tremaining: 2m 21s\n",
      "300:\ttest: 0.7421026\tbest: 0.7437067 (146)\ttotal: 16.7s\tremaining: 1m 49s\n",
      "bestTest = 0.7437066734\n",
      "bestIteration = 146\n",
      "Shrink model to first 147 iterations.\n"
     ]
    },
    {
     "name": "stderr",
     "output_type": "stream",
     "text": [
      "[I 2025-02-23 05:37:40,650] Trial 31 finished with value: 0.7437066733837128 and parameters: {'iterations': 2272, 'depth': 9, 'learning_rate': 0.09999147739737177, 'l2_leaf_reg': 11.830523147541125}. Best is trial 30 with value: 0.7451493144035339.\n",
      "Default metric period is 5 because AUC is/are not implemented for GPU\n"
     ]
    },
    {
     "name": "stdout",
     "output_type": "stream",
     "text": [
      "0:\ttest: 0.7289861\tbest: 0.7289861 (0)\ttotal: 48.5ms\tremaining: 1m 45s\n",
      "300:\ttest: 0.7441166\tbest: 0.7443265 (250)\ttotal: 12s\tremaining: 1m 14s\n"
     ]
    },
    {
     "name": "stderr",
     "output_type": "stream",
     "text": [
      "[I 2025-02-23 05:38:06,050] Trial 32 finished with value: 0.7443265318870544 and parameters: {'iterations': 2170, 'depth': 8, 'learning_rate': 0.08943263138931981, 'l2_leaf_reg': 95.42903126876216}. Best is trial 30 with value: 0.7451493144035339.\n"
     ]
    },
    {
     "name": "stdout",
     "output_type": "stream",
     "text": [
      "bestTest = 0.7443265319\n",
      "bestIteration = 250\n",
      "Shrink model to first 251 iterations.\n"
     ]
    },
    {
     "name": "stderr",
     "output_type": "stream",
     "text": [
      "Default metric period is 5 because AUC is/are not implemented for GPU\n"
     ]
    },
    {
     "name": "stdout",
     "output_type": "stream",
     "text": [
      "0:\ttest: 0.7276556\tbest: 0.7276556 (0)\ttotal: 75.4ms\tremaining: 3m 2s\n",
      "300:\ttest: 0.7428152\tbest: 0.7437463 (203)\ttotal: 16.5s\tremaining: 1m 56s\n",
      "bestTest = 0.7437463403\n",
      "bestIteration = 203\n",
      "Shrink model to first 204 iterations.\n"
     ]
    },
    {
     "name": "stderr",
     "output_type": "stream",
     "text": [
      "[I 2025-02-23 05:38:37,493] Trial 33 finished with value: 0.7437463402748108 and parameters: {'iterations': 2423, 'depth': 9, 'learning_rate': 0.09126321544984337, 'l2_leaf_reg': 37.04126616832178}. Best is trial 30 with value: 0.7451493144035339.\n",
      "Default metric period is 5 because AUC is/are not implemented for GPU\n"
     ]
    },
    {
     "name": "stdout",
     "output_type": "stream",
     "text": [
      "0:\ttest: 0.7243942\tbest: 0.7243942 (0)\ttotal: 42.8ms\tremaining: 1m 48s\n",
      "300:\ttest: 0.7440773\tbest: 0.7441140 (295)\ttotal: 9.38s\tremaining: 1m 9s\n"
     ]
    },
    {
     "name": "stderr",
     "output_type": "stream",
     "text": [
      "[I 2025-02-23 05:38:59,349] Trial 34 finished with value: 0.744113951921463 and parameters: {'iterations': 2527, 'depth': 7, 'learning_rate': 0.09956263975655444, 'l2_leaf_reg': 17.995642850287307}. Best is trial 30 with value: 0.7451493144035339.\n"
     ]
    },
    {
     "name": "stdout",
     "output_type": "stream",
     "text": [
      "bestTest = 0.7441139519\n",
      "bestIteration = 295\n",
      "Shrink model to first 296 iterations.\n"
     ]
    },
    {
     "name": "stderr",
     "output_type": "stream",
     "text": [
      "Default metric period is 5 because AUC is/are not implemented for GPU\n"
     ]
    },
    {
     "name": "stdout",
     "output_type": "stream",
     "text": [
      "0:\ttest: 0.7253256\tbest: 0.7253256 (0)\ttotal: 55.8ms\tremaining: 2m 8s\n",
      "300:\ttest: 0.7444562\tbest: 0.7447623 (217)\ttotal: 12.1s\tremaining: 1m 20s\n"
     ]
    },
    {
     "name": "stderr",
     "output_type": "stream",
     "text": [
      "[I 2025-02-23 05:39:23,612] Trial 35 finished with value: 0.7447623014450073 and parameters: {'iterations': 2299, 'depth': 8, 'learning_rate': 0.0853310712118788, 'l2_leaf_reg': 41.09509812202608}. Best is trial 30 with value: 0.7451493144035339.\n"
     ]
    },
    {
     "name": "stdout",
     "output_type": "stream",
     "text": [
      "bestTest = 0.7447623014\n",
      "bestIteration = 217\n",
      "Shrink model to first 218 iterations.\n"
     ]
    },
    {
     "name": "stderr",
     "output_type": "stream",
     "text": [
      "Default metric period is 5 because AUC is/are not implemented for GPU\n"
     ]
    },
    {
     "name": "stdout",
     "output_type": "stream",
     "text": [
      "0:\ttest: 0.7253272\tbest: 0.7253272 (0)\ttotal: 38ms\tremaining: 1m 23s\n",
      "300:\ttest: 0.7444624\tbest: 0.7448218 (186)\ttotal: 11.3s\tremaining: 1m 11s\n"
     ]
    },
    {
     "name": "stderr",
     "output_type": "stream",
     "text": [
      "[I 2025-02-23 05:39:45,750] Trial 36 finished with value: 0.7448218166828156 and parameters: {'iterations': 2192, 'depth': 8, 'learning_rate': 0.09332129431704865, 'l2_leaf_reg': 37.77267049192002}. Best is trial 30 with value: 0.7451493144035339.\n"
     ]
    },
    {
     "name": "stdout",
     "output_type": "stream",
     "text": [
      "bestTest = 0.7448218167\n",
      "bestIteration = 186\n",
      "Shrink model to first 187 iterations.\n"
     ]
    },
    {
     "name": "stderr",
     "output_type": "stream",
     "text": [
      "Default metric period is 5 because AUC is/are not implemented for GPU\n"
     ]
    },
    {
     "name": "stdout",
     "output_type": "stream",
     "text": [
      "0:\ttest: 0.7290259\tbest: 0.7290259 (0)\ttotal: 93.6ms\tremaining: 3m 27s\n",
      "300:\ttest: 0.7414539\tbest: 0.7436263 (135)\ttotal: 25.9s\tremaining: 2m 44s\n",
      "bestTest = 0.7436263263\n",
      "bestIteration = 135\n",
      "Shrink model to first 136 iterations.\n"
     ]
    },
    {
     "name": "stderr",
     "output_type": "stream",
     "text": [
      "[I 2025-02-23 05:40:27,308] Trial 37 finished with value: 0.7436263263225555 and parameters: {'iterations': 2216, 'depth': 10, 'learning_rate': 0.08603140622722842, 'l2_leaf_reg': 11.905636288871863}. Best is trial 30 with value: 0.7451493144035339.\n",
      "Default metric period is 5 because AUC is/are not implemented for GPU\n"
     ]
    },
    {
     "name": "stdout",
     "output_type": "stream",
     "text": [
      "0:\ttest: 0.7276556\tbest: 0.7276556 (0)\ttotal: 63.7ms\tremaining: 2m 14s\n",
      "300:\ttest: 0.7432837\tbest: 0.7440079 (122)\ttotal: 17.5s\tremaining: 1m 45s\n",
      "bestTest = 0.7440079153\n",
      "bestIteration = 122\n",
      "Shrink model to first 123 iterations.\n"
     ]
    },
    {
     "name": "stderr",
     "output_type": "stream",
     "text": [
      "[I 2025-02-23 05:40:55,186] Trial 38 finished with value: 0.7440079152584076 and parameters: {'iterations': 2109, 'depth': 9, 'learning_rate': 0.09067748761884611, 'l2_leaf_reg': 36.63432212659434}. Best is trial 30 with value: 0.7451493144035339.\n",
      "Default metric period is 5 because AUC is/are not implemented for GPU\n"
     ]
    },
    {
     "name": "stdout",
     "output_type": "stream",
     "text": [
      "0:\ttest: 0.7253372\tbest: 0.7253372 (0)\ttotal: 57ms\tremaining: 2m 13s\n",
      "300:\ttest: 0.7432727\tbest: 0.7438232 (147)\ttotal: 12s\tremaining: 1m 21s\n"
     ]
    },
    {
     "name": "stderr",
     "output_type": "stream",
     "text": [
      "[I 2025-02-23 05:41:16,738] Trial 39 finished with value: 0.7438231706619263 and parameters: {'iterations': 2339, 'depth': 8, 'learning_rate': 0.09396483022354322, 'l2_leaf_reg': 6.446359827688424}. Best is trial 30 with value: 0.7451493144035339.\n",
      "[I 2025-02-23 05:41:16,746] A new study created in memory with name: no-name-d1b0a303-f49b-492e-a4db-c353e0b6f9cd\n"
     ]
    },
    {
     "name": "stdout",
     "output_type": "stream",
     "text": [
      "bestTest = 0.7438231707\n",
      "bestIteration = 147\n",
      "Shrink model to first 148 iterations.\n"
     ]
    },
    {
     "name": "stderr",
     "output_type": "stream",
     "text": [
      "[I 2025-02-23 05:41:20,909] Trial 0 finished with value: 0.7437160328406903 and parameters: {'num_iterations': 2366, 'objective': 'binary', 'metric': 'auc', 'verbose': -1, 'learning_rate': 0.0652646236447618, 'n_estimators': 236, 'min_child_samples': 45, 'subsample': 0.7, 'colsample_bytree': 0.5}. Best is trial 0 with value: 0.7437160328406903.\n",
      "[I 2025-02-23 05:41:32,394] Trial 1 finished with value: 0.7434520483244782 and parameters: {'num_iterations': 1510, 'objective': 'binary', 'metric': 'auc', 'verbose': -1, 'learning_rate': 0.005231880959249543, 'n_estimators': 1411, 'min_child_samples': 10, 'subsample': 1.0, 'colsample_bytree': 0.5}. Best is trial 0 with value: 0.7437160328406903.\n",
      "[I 2025-02-23 05:41:39,234] Trial 2 finished with value: 0.7427284138733362 and parameters: {'num_iterations': 2334, 'objective': 'binary', 'metric': 'auc', 'verbose': -1, 'learning_rate': 0.006578527777128852, 'n_estimators': 931, 'min_child_samples': 15, 'subsample': 0.5, 'colsample_bytree': 1.0}. Best is trial 0 with value: 0.7437160328406903.\n",
      "[I 2025-02-23 05:41:49,935] Trial 3 finished with value: 0.7436261756563136 and parameters: {'num_iterations': 1620, 'objective': 'binary', 'metric': 'auc', 'verbose': -1, 'learning_rate': 0.0058823249237283685, 'n_estimators': 837, 'min_child_samples': 10, 'subsample': 0.9, 'colsample_bytree': 0.6}. Best is trial 0 with value: 0.7437160328406903.\n",
      "[I 2025-02-23 05:41:56,198] Trial 4 finished with value: 0.7434693931555073 and parameters: {'num_iterations': 1997, 'objective': 'binary', 'metric': 'auc', 'verbose': -1, 'learning_rate': 0.010907507425244923, 'n_estimators': 1597, 'min_child_samples': 50, 'subsample': 0.6, 'colsample_bytree': 0.8}. Best is trial 0 with value: 0.7437160328406903.\n",
      "[I 2025-02-23 05:41:59,943] Trial 5 finished with value: 0.7435215983967023 and parameters: {'num_iterations': 2909, 'objective': 'binary', 'metric': 'auc', 'verbose': -1, 'learning_rate': 0.019760591962733942, 'n_estimators': 612, 'min_child_samples': 30, 'subsample': 0.7, 'colsample_bytree': 0.9}. Best is trial 0 with value: 0.7437160328406903.\n",
      "[I 2025-02-23 05:42:04,337] Trial 6 finished with value: 0.7435784972254147 and parameters: {'num_iterations': 2639, 'objective': 'binary', 'metric': 'auc', 'verbose': -1, 'learning_rate': 0.017862094446750985, 'n_estimators': 794, 'min_child_samples': 35, 'subsample': 1.0, 'colsample_bytree': 0.8}. Best is trial 0 with value: 0.7437160328406903.\n",
      "[I 2025-02-23 05:42:10,438] Trial 7 finished with value: 0.7438158251824011 and parameters: {'num_iterations': 1580, 'objective': 'binary', 'metric': 'auc', 'verbose': -1, 'learning_rate': 0.01776722177611332, 'n_estimators': 529, 'min_child_samples': 25, 'subsample': 0.8, 'colsample_bytree': 0.5}. Best is trial 7 with value: 0.7438158251824011.\n",
      "[I 2025-02-23 05:42:15,062] Trial 8 finished with value: 0.7436857190952517 and parameters: {'num_iterations': 1911, 'objective': 'binary', 'metric': 'auc', 'verbose': -1, 'learning_rate': 0.0304747553332844, 'n_estimators': 1328, 'min_child_samples': 10, 'subsample': 0.7, 'colsample_bytree': 0.6}. Best is trial 7 with value: 0.7438158251824011.\n",
      "[I 2025-02-23 05:42:19,548] Trial 9 finished with value: 0.7437659230552164 and parameters: {'num_iterations': 2739, 'objective': 'binary', 'metric': 'auc', 'verbose': -1, 'learning_rate': 0.02691531614176271, 'n_estimators': 1438, 'min_child_samples': 20, 'subsample': 0.6, 'colsample_bytree': 0.5}. Best is trial 7 with value: 0.7438158251824011.\n",
      "[I 2025-02-23 05:42:21,414] Trial 10 finished with value: 0.7431997024757904 and parameters: {'num_iterations': 1887, 'objective': 'binary', 'metric': 'auc', 'verbose': -1, 'learning_rate': 0.08223556891145911, 'n_estimators': 1917, 'min_child_samples': 25, 'subsample': 0.9, 'colsample_bytree': 0.7}. Best is trial 7 with value: 0.7438158251824011.\n",
      "[I 2025-02-23 05:42:25,383] Trial 11 finished with value: 0.7435665250034476 and parameters: {'num_iterations': 2986, 'objective': 'binary', 'metric': 'auc', 'verbose': -1, 'learning_rate': 0.0315761742407037, 'n_estimators': 282, 'min_child_samples': 20, 'subsample': 0.5, 'colsample_bytree': 0.5}. Best is trial 7 with value: 0.7438158251824011.\n",
      "[I 2025-02-23 05:42:28,568] Trial 12 finished with value: 0.7435356751883685 and parameters: {'num_iterations': 2632, 'objective': 'binary', 'metric': 'auc', 'verbose': -1, 'learning_rate': 0.042669301184678446, 'n_estimators': 1182, 'min_child_samples': 35, 'subsample': 0.8, 'colsample_bytree': 0.6}. Best is trial 7 with value: 0.7438158251824011.\n",
      "[I 2025-02-23 05:42:33,893] Trial 13 finished with value: 0.7435202959460206 and parameters: {'num_iterations': 2579, 'objective': 'binary', 'metric': 'auc', 'verbose': -1, 'learning_rate': 0.01407606674720388, 'n_estimators': 1698, 'min_child_samples': 20, 'subsample': 0.6, 'colsample_bytree': 0.7}. Best is trial 7 with value: 0.7438158251824011.\n",
      "[I 2025-02-23 05:42:37,814] Trial 14 finished with value: 0.7436527170598389 and parameters: {'num_iterations': 2122, 'objective': 'binary', 'metric': 'auc', 'verbose': -1, 'learning_rate': 0.02793446010796509, 'n_estimators': 541, 'min_child_samples': 25, 'subsample': 0.8, 'colsample_bytree': 0.5}. Best is trial 7 with value: 0.7438158251824011.\n",
      "[I 2025-02-23 05:42:44,609] Trial 15 finished with value: 0.7437726656200258 and parameters: {'num_iterations': 1748, 'objective': 'binary', 'metric': 'auc', 'verbose': -1, 'learning_rate': 0.012119605516503361, 'n_estimators': 1109, 'min_child_samples': 35, 'subsample': 0.6, 'colsample_bytree': 0.6}. Best is trial 7 with value: 0.7438158251824011.\n",
      "[I 2025-02-23 05:42:52,263] Trial 16 finished with value: 0.7435856567332777 and parameters: {'num_iterations': 1681, 'objective': 'binary', 'metric': 'auc', 'verbose': -1, 'learning_rate': 0.010221646467426853, 'n_estimators': 502, 'min_child_samples': 40, 'subsample': 0.8, 'colsample_bytree': 0.6}. Best is trial 7 with value: 0.7438158251824011.\n",
      "[I 2025-02-23 05:42:57,366] Trial 17 finished with value: 0.7434281872691545 and parameters: {'num_iterations': 1769, 'objective': 'binary', 'metric': 'auc', 'verbose': -1, 'learning_rate': 0.014364323482076244, 'n_estimators': 1042, 'min_child_samples': 30, 'subsample': 0.9, 'colsample_bytree': 0.7}. Best is trial 7 with value: 0.7438158251824011.\n",
      "[I 2025-02-23 05:43:07,451] Trial 18 finished with value: 0.7436949990563586 and parameters: {'num_iterations': 2177, 'objective': 'binary', 'metric': 'auc', 'verbose': -1, 'learning_rate': 0.008285940515159382, 'n_estimators': 1163, 'min_child_samples': 40, 'subsample': 0.6, 'colsample_bytree': 0.6}. Best is trial 7 with value: 0.7438158251824011.\n",
      "[I 2025-02-23 05:43:13,905] Trial 19 finished with value: 0.743658180999284 and parameters: {'num_iterations': 1527, 'objective': 'binary', 'metric': 'auc', 'verbose': -1, 'learning_rate': 0.01230157196785397, 'n_estimators': 144, 'min_child_samples': 35, 'subsample': 0.5, 'colsample_bytree': 0.7}. Best is trial 7 with value: 0.7438158251824011.\n",
      "[I 2025-02-23 05:43:19,277] Trial 20 finished with value: 0.7436928746322284 and parameters: {'num_iterations': 1771, 'objective': 'binary', 'metric': 'auc', 'verbose': -1, 'learning_rate': 0.017562760814721457, 'n_estimators': 665, 'min_child_samples': 25, 'subsample': 0.7, 'colsample_bytree': 0.6}. Best is trial 7 with value: 0.7438158251824011.\n",
      "[I 2025-02-23 05:43:24,416] Trial 21 finished with value: 0.74374385286958 and parameters: {'num_iterations': 2851, 'objective': 'binary', 'metric': 'auc', 'verbose': -1, 'learning_rate': 0.024550121352974078, 'n_estimators': 1476, 'min_child_samples': 20, 'subsample': 0.6, 'colsample_bytree': 0.5}. Best is trial 7 with value: 0.7438158251824011.\n",
      "[I 2025-02-23 05:43:29,547] Trial 22 finished with value: 0.743556137165084 and parameters: {'num_iterations': 2433, 'objective': 'binary', 'metric': 'auc', 'verbose': -1, 'learning_rate': 0.022729466524887776, 'n_estimators': 1294, 'min_child_samples': 15, 'subsample': 0.6, 'colsample_bytree': 0.5}. Best is trial 7 with value: 0.7438158251824011.\n",
      "[I 2025-02-23 05:43:35,902] Trial 23 finished with value: 0.743790312238408 and parameters: {'num_iterations': 2026, 'objective': 'binary', 'metric': 'auc', 'verbose': -1, 'learning_rate': 0.015477946812606485, 'n_estimators': 1790, 'min_child_samples': 30, 'subsample': 0.8, 'colsample_bytree': 0.5}. Best is trial 7 with value: 0.7438158251824011.\n",
      "[I 2025-02-23 05:43:45,638] Trial 24 finished with value: 0.7436051537846405 and parameters: {'num_iterations': 2039, 'objective': 'binary', 'metric': 'auc', 'verbose': -1, 'learning_rate': 0.008810167559509675, 'n_estimators': 2000, 'min_child_samples': 30, 'subsample': 0.8, 'colsample_bytree': 0.6}. Best is trial 7 with value: 0.7438158251824011.\n",
      "[I 2025-02-23 05:43:52,621] Trial 25 finished with value: 0.7438024472667104 and parameters: {'num_iterations': 1833, 'objective': 'binary', 'metric': 'auc', 'verbose': -1, 'learning_rate': 0.014825612748509614, 'n_estimators': 434, 'min_child_samples': 40, 'subsample': 0.9, 'colsample_bytree': 0.5}. Best is trial 7 with value: 0.7438158251824011.\n",
      "[I 2025-02-23 05:43:58,275] Trial 26 finished with value: 0.7437008958224022 and parameters: {'num_iterations': 1838, 'objective': 'binary', 'metric': 'auc', 'verbose': -1, 'learning_rate': 0.017291148566788577, 'n_estimators': 420, 'min_child_samples': 45, 'subsample': 0.9, 'colsample_bytree': 0.5}. Best is trial 7 with value: 0.7438158251824011.\n",
      "[I 2025-02-23 05:44:03,174] Trial 27 finished with value: 0.7430821960106316 and parameters: {'num_iterations': 2007, 'objective': 'binary', 'metric': 'auc', 'verbose': -1, 'learning_rate': 0.01515458341723415, 'n_estimators': 343, 'min_child_samples': 40, 'subsample': 0.9, 'colsample_bytree': 1.0}. Best is trial 7 with value: 0.7438158251824011.\n",
      "[I 2025-02-23 05:44:07,117] Trial 28 finished with value: 0.743208216055856 and parameters: {'num_iterations': 1622, 'objective': 'binary', 'metric': 'auc', 'verbose': -1, 'learning_rate': 0.02098960183479786, 'n_estimators': 691, 'min_child_samples': 30, 'subsample': 1.0, 'colsample_bytree': 0.9}. Best is trial 7 with value: 0.7438158251824011.\n",
      "[I 2025-02-23 05:44:10,672] Trial 29 finished with value: 0.7436825026774098 and parameters: {'num_iterations': 2128, 'objective': 'binary', 'metric': 'auc', 'verbose': -1, 'learning_rate': 0.03894494901663392, 'n_estimators': 163, 'min_child_samples': 50, 'subsample': 0.8, 'colsample_bytree': 0.5}. Best is trial 7 with value: 0.7438158251824011.\n",
      "[I 2025-02-23 05:44:17,488] Trial 30 finished with value: 0.743739115602314 and parameters: {'num_iterations': 2296, 'objective': 'binary', 'metric': 'auc', 'verbose': -1, 'learning_rate': 0.014704794323858432, 'n_estimators': 1826, 'min_child_samples': 45, 'subsample': 0.8, 'colsample_bytree': 0.5}. Best is trial 7 with value: 0.7438158251824011.\n",
      "[I 2025-02-23 05:44:24,275] Trial 31 finished with value: 0.7436106892000377 and parameters: {'num_iterations': 1735, 'objective': 'binary', 'metric': 'auc', 'verbose': -1, 'learning_rate': 0.011968408691770018, 'n_estimators': 950, 'min_child_samples': 35, 'subsample': 0.7, 'colsample_bytree': 0.6}. Best is trial 7 with value: 0.7438158251824011.\n",
      "[I 2025-02-23 05:44:32,422] Trial 32 finished with value: 0.7437521559926756 and parameters: {'num_iterations': 1501, 'objective': 'binary', 'metric': 'auc', 'verbose': -1, 'learning_rate': 0.012616282925108696, 'n_estimators': 404, 'min_child_samples': 40, 'subsample': 0.9, 'colsample_bytree': 0.5}. Best is trial 7 with value: 0.7438158251824011.\n",
      "[I 2025-02-23 05:44:42,811] Trial 33 finished with value: 0.7437180699053236 and parameters: {'num_iterations': 1918, 'objective': 'binary', 'metric': 'auc', 'verbose': -1, 'learning_rate': 0.010086718948143688, 'n_estimators': 785, 'min_child_samples': 25, 'subsample': 0.8, 'colsample_bytree': 0.5}. Best is trial 7 with value: 0.7438158251824011.\n",
      "[I 2025-02-23 05:44:51,831] Trial 34 finished with value: 0.743540102726509 and parameters: {'num_iterations': 1588, 'objective': 'binary', 'metric': 'auc', 'verbose': -1, 'learning_rate': 0.007909415928255724, 'n_estimators': 1636, 'min_child_samples': 35, 'subsample': 0.7, 'colsample_bytree': 0.6}. Best is trial 7 with value: 0.7438158251824011.\n",
      "[I 2025-02-23 05:45:04,206] Trial 35 finished with value: 0.7438079945947661 and parameters: {'num_iterations': 1684, 'objective': 'binary', 'metric': 'auc', 'verbose': -1, 'learning_rate': 0.006812822028270831, 'n_estimators': 245, 'min_child_samples': 45, 'subsample': 1.0, 'colsample_bytree': 0.5}. Best is trial 7 with value: 0.7438158251824011.\n",
      "[I 2025-02-23 05:45:16,606] Trial 36 finished with value: 0.7437026469832272 and parameters: {'num_iterations': 1646, 'objective': 'binary', 'metric': 'auc', 'verbose': -1, 'learning_rate': 0.005380413736768218, 'n_estimators': 260, 'min_child_samples': 45, 'subsample': 1.0, 'colsample_bytree': 0.5}. Best is trial 7 with value: 0.7438158251824011.\n",
      "[I 2025-02-23 05:45:29,894] Trial 37 finished with value: 0.7438251686776876 and parameters: {'num_iterations': 1842, 'objective': 'binary', 'metric': 'auc', 'verbose': -1, 'learning_rate': 0.006456793768560987, 'n_estimators': 491, 'min_child_samples': 40, 'subsample': 1.0, 'colsample_bytree': 0.5}. Best is trial 37 with value: 0.7438251686776876.\n",
      "[I 2025-02-23 05:45:39,191] Trial 38 finished with value: 0.7433297569414189 and parameters: {'num_iterations': 1844, 'objective': 'binary', 'metric': 'auc', 'verbose': -1, 'learning_rate': 0.00634563663229177, 'n_estimators': 492, 'min_child_samples': 45, 'subsample': 1.0, 'colsample_bytree': 0.9}. Best is trial 37 with value: 0.7438251686776876.\n",
      "[I 2025-02-23 05:45:49,105] Trial 39 finished with value: 0.7434714540454579 and parameters: {'num_iterations': 1699, 'objective': 'binary', 'metric': 'auc', 'verbose': -1, 'learning_rate': 0.0050310188734144995, 'n_estimators': 114, 'min_child_samples': 50, 'subsample': 1.0, 'colsample_bytree': 0.8}. Best is trial 37 with value: 0.7438251686776876.\n"
     ]
    },
    {
     "name": "stdout",
     "output_type": "stream",
     "text": [
      "Cat val score : 0.7451493162816913\n",
      "LGBM val score : 0.7437274173714963\n",
      "Ensemble val score : 0.7451706637660349\n"
     ]
    },
    {
     "name": "stderr",
     "output_type": "stream",
     "text": [
      "[I 2025-02-23 05:46:04,190] A new study created in memory with name: no-name-352dd392-5e33-4068-aa36-f340cc9fe7b5\n"
     ]
    },
    {
     "name": "stdout",
     "output_type": "stream",
     "text": [
      "==================================================\n"
     ]
    },
    {
     "name": "stderr",
     "output_type": "stream",
     "text": [
      "Default metric period is 5 because AUC is/are not implemented for GPU\n"
     ]
    },
    {
     "name": "stdout",
     "output_type": "stream",
     "text": [
      "0:\ttest: 0.7249227\tbest: 0.7249227 (0)\ttotal: 81.9ms\tremaining: 3m 13s\n",
      "300:\ttest: 0.7364464\tbest: 0.7364464 (300)\ttotal: 24.3s\tremaining: 2m 46s\n",
      "600:\ttest: 0.7376253\tbest: 0.7376261 (598)\ttotal: 48.6s\tremaining: 2m 22s\n",
      "900:\ttest: 0.7378222\tbest: 0.7378482 (813)\ttotal: 1m 12s\tremaining: 1m 58s\n",
      "bestTest = 0.7378482223\n",
      "bestIteration = 813\n",
      "Shrink model to first 814 iterations.\n"
     ]
    },
    {
     "name": "stderr",
     "output_type": "stream",
     "text": [
      "[I 2025-02-23 05:47:37,250] Trial 0 finished with value: 0.7378482222557068 and parameters: {'iterations': 2366, 'depth': 10, 'learning_rate': 0.01181021951839225, 'l2_leaf_reg': 9.980783802743254}. Best is trial 0 with value: 0.7378482222557068.\n"
     ]
    },
    {
     "name": "stdout",
     "output_type": "stream",
     "text": [
      "저장 완료\n"
     ]
    },
    {
     "name": "stderr",
     "output_type": "stream",
     "text": [
      "Default metric period is 5 because AUC is/are not implemented for GPU\n"
     ]
    },
    {
     "name": "stdout",
     "output_type": "stream",
     "text": [
      "0:\ttest: 0.7103115\tbest: 0.7103115 (0)\ttotal: 15.4ms\tremaining: 33.9s\n",
      "300:\ttest: 0.7288556\tbest: 0.7288713 (299)\ttotal: 4.65s\tremaining: 29.2s\n",
      "600:\ttest: 0.7327840\tbest: 0.7327840 (600)\ttotal: 9.36s\tremaining: 24.8s\n",
      "900:\ttest: 0.7346251\tbest: 0.7346251 (900)\ttotal: 14.1s\tremaining: 20.2s\n",
      "1200:\ttest: 0.7357118\tbest: 0.7357118 (1200)\ttotal: 18.8s\tremaining: 15.5s\n",
      "1500:\ttest: 0.7364319\tbest: 0.7364319 (1500)\ttotal: 22.9s\tremaining: 10.6s\n",
      "1800:\ttest: 0.7369513\tbest: 0.7369525 (1799)\ttotal: 27.1s\tremaining: 5.89s\n",
      "2100:\ttest: 0.7373577\tbest: 0.7373577 (2100)\ttotal: 31.2s\tremaining: 1.36s\n",
      "2192:\ttest: 0.7374673\tbest: 0.7374673 (2192)\ttotal: 32.4s\tremaining: 0us\n",
      "bestTest = 0.7374673188\n",
      "bestIteration = 2192\n"
     ]
    },
    {
     "name": "stderr",
     "output_type": "stream",
     "text": [
      "[I 2025-02-23 05:48:13,681] Trial 1 finished with value: 0.7374673187732697 and parameters: {'iterations': 2193, 'depth': 4, 'learning_rate': 0.005671430811678843, 'l2_leaf_reg': 0.00012325230809466137}. Best is trial 0 with value: 0.7378482222557068.\n",
      "Default metric period is 5 because AUC is/are not implemented for GPU\n"
     ]
    },
    {
     "name": "stdout",
     "output_type": "stream",
     "text": [
      "0:\ttest: 0.7103115\tbest: 0.7103115 (0)\ttotal: 22.4ms\tremaining: 56.7s\n",
      "300:\ttest: 0.7383639\tbest: 0.7383639 (300)\ttotal: 5.2s\tremaining: 38.6s\n",
      "600:\ttest: 0.7383780\tbest: 0.7384572 (439)\ttotal: 9.39s\tremaining: 30.2s\n"
     ]
    },
    {
     "name": "stderr",
     "output_type": "stream",
     "text": [
      "[I 2025-02-23 05:48:29,030] Trial 2 finished with value: 0.7384571731090546 and parameters: {'iterations': 2535, 'depth': 4, 'learning_rate': 0.09275339199839054, 'l2_leaf_reg': 0.0008705394248343123}. Best is trial 2 with value: 0.7384571731090546.\n"
     ]
    },
    {
     "name": "stdout",
     "output_type": "stream",
     "text": [
      "bestTest = 0.7384571731\n",
      "bestIteration = 439\n",
      "Shrink model to first 440 iterations.\n",
      "저장 완료\n"
     ]
    },
    {
     "name": "stderr",
     "output_type": "stream",
     "text": [
      "Default metric period is 5 because AUC is/are not implemented for GPU\n"
     ]
    },
    {
     "name": "stdout",
     "output_type": "stream",
     "text": [
      "0:\ttest: 0.7103115\tbest: 0.7103115 (0)\ttotal: 24.1ms\tremaining: 56.2s\n",
      "300:\ttest: 0.7375699\tbest: 0.7375699 (300)\ttotal: 5.17s\tremaining: 34.9s\n",
      "600:\ttest: 0.7384958\tbest: 0.7385128 (595)\ttotal: 10.9s\tremaining: 31.4s\n",
      "900:\ttest: 0.7387972\tbest: 0.7388473 (869)\ttotal: 15.1s\tremaining: 24s\n",
      "1200:\ttest: 0.7387576\tbest: 0.7388641 (987)\ttotal: 19.2s\tremaining: 18.1s\n",
      "bestTest = 0.738864094\n",
      "bestIteration = 987\n",
      "Shrink model to first 988 iterations.\n"
     ]
    },
    {
     "name": "stderr",
     "output_type": "stream",
     "text": [
      "[I 2025-02-23 05:48:53,598] Trial 3 finished with value: 0.7388640940189362 and parameters: {'iterations': 2334, 'depth': 4, 'learning_rate': 0.04657568321363276, 'l2_leaf_reg': 0.0008640473331457248}. Best is trial 3 with value: 0.7388640940189362.\n"
     ]
    },
    {
     "name": "stdout",
     "output_type": "stream",
     "text": [
      "저장 완료\n"
     ]
    },
    {
     "name": "stderr",
     "output_type": "stream",
     "text": [
      "Default metric period is 5 because AUC is/are not implemented for GPU\n"
     ]
    },
    {
     "name": "stdout",
     "output_type": "stream",
     "text": [
      "0:\ttest: 0.7249029\tbest: 0.7249029 (0)\ttotal: 106ms\tremaining: 3m 5s\n",
      "300:\ttest: 0.7353218\tbest: 0.7353901 (291)\ttotal: 24.8s\tremaining: 1m 58s\n",
      "600:\ttest: 0.7353383\tbest: 0.7355999 (506)\ttotal: 49.1s\tremaining: 1m 33s\n",
      "bestTest = 0.7355998755\n",
      "bestIteration = 506\n",
      "Shrink model to first 507 iterations.\n"
     ]
    },
    {
     "name": "stderr",
     "output_type": "stream",
     "text": [
      "[I 2025-02-23 05:50:03,779] Trial 4 finished with value: 0.7355998754501343 and parameters: {'iterations': 1742, 'depth': 10, 'learning_rate': 0.012622767482095846, 'l2_leaf_reg': 0.00021158816350109617}. Best is trial 3 with value: 0.7388640940189362.\n",
      "Default metric period is 5 because AUC is/are not implemented for GPU\n"
     ]
    },
    {
     "name": "stdout",
     "output_type": "stream",
     "text": [
      "0:\ttest: 0.7103115\tbest: 0.7103115 (0)\ttotal: 15.9ms\tremaining: 33.1s\n",
      "300:\ttest: 0.7381884\tbest: 0.7381884 (300)\ttotal: 4.7s\tremaining: 27.8s\n",
      "600:\ttest: 0.7385883\tbest: 0.7386499 (541)\ttotal: 9.4s\tremaining: 23.2s\n",
      "900:\ttest: 0.7385396\tbest: 0.7387368 (735)\ttotal: 14s\tremaining: 18.4s\n"
     ]
    },
    {
     "name": "stderr",
     "output_type": "stream",
     "text": [
      "[I 2025-02-23 05:50:23,469] Trial 5 finished with value: 0.7387368083000183 and parameters: {'iterations': 2082, 'depth': 4, 'learning_rate': 0.06995196593094148, 'l2_leaf_reg': 0.0018080296485396804}. Best is trial 3 with value: 0.7388640940189362.\n"
     ]
    },
    {
     "name": "stdout",
     "output_type": "stream",
     "text": [
      "bestTest = 0.7387368083\n",
      "bestIteration = 735\n",
      "Shrink model to first 736 iterations.\n"
     ]
    },
    {
     "name": "stderr",
     "output_type": "stream",
     "text": [
      "Default metric period is 5 because AUC is/are not implemented for GPU\n"
     ]
    },
    {
     "name": "stdout",
     "output_type": "stream",
     "text": [
      "0:\ttest: 0.7138026\tbest: 0.7138026 (0)\ttotal: 17.3ms\tremaining: 34.6s\n",
      "300:\ttest: 0.7387374\tbest: 0.7387401 (294)\ttotal: 5.27s\tremaining: 29.7s\n",
      "600:\ttest: 0.7389741\tbest: 0.7390565 (540)\ttotal: 10.6s\tremaining: 24.6s\n",
      "bestTest = 0.7390564978\n",
      "bestIteration = 540\n",
      "Shrink model to first 541 iterations.\n"
     ]
    },
    {
     "name": "stderr",
     "output_type": "stream",
     "text": [
      "[I 2025-02-23 05:50:42,310] Trial 6 finished with value: 0.7390564978122711 and parameters: {'iterations': 1997, 'depth': 5, 'learning_rate': 0.07985155992831598, 'l2_leaf_reg': 62.52181000710482}. Best is trial 6 with value: 0.7390564978122711.\n"
     ]
    },
    {
     "name": "stdout",
     "output_type": "stream",
     "text": [
      "저장 완료\n"
     ]
    },
    {
     "name": "stderr",
     "output_type": "stream",
     "text": [
      "Default metric period is 5 because AUC is/are not implemented for GPU\n"
     ]
    },
    {
     "name": "stdout",
     "output_type": "stream",
     "text": [
      "0:\ttest: 0.7203543\tbest: 0.7203543 (0)\ttotal: 37.8ms\tremaining: 1m 12s\n",
      "300:\ttest: 0.7372847\tbest: 0.7376339 (178)\ttotal: 9.02s\tremaining: 48.7s\n"
     ]
    },
    {
     "name": "stderr",
     "output_type": "stream",
     "text": [
      "[I 2025-02-23 05:51:00,357] Trial 7 finished with value: 0.7376338541507721 and parameters: {'iterations': 1927, 'depth': 7, 'learning_rate': 0.0941937211034094, 'l2_leaf_reg': 0.05654822767791934}. Best is trial 6 with value: 0.7390564978122711.\n"
     ]
    },
    {
     "name": "stdout",
     "output_type": "stream",
     "text": [
      "bestTest = 0.7376338542\n",
      "bestIteration = 178\n",
      "Shrink model to first 179 iterations.\n"
     ]
    },
    {
     "name": "stderr",
     "output_type": "stream",
     "text": [
      "Default metric period is 5 because AUC is/are not implemented for GPU\n"
     ]
    },
    {
     "name": "stdout",
     "output_type": "stream",
     "text": [
      "0:\ttest: 0.7203557\tbest: 0.7203557 (0)\ttotal: 48.6ms\tremaining: 1m 32s\n",
      "300:\ttest: 0.7388505\tbest: 0.7388505 (300)\ttotal: 10.6s\tremaining: 56.7s\n",
      "600:\ttest: 0.7387007\tbest: 0.7389462 (325)\ttotal: 19.3s\tremaining: 41.8s\n",
      "bestTest = 0.7389461994\n",
      "bestIteration = 325\n",
      "Shrink model to first 326 iterations.\n"
     ]
    },
    {
     "name": "stderr",
     "output_type": "stream",
     "text": [
      "[I 2025-02-23 05:51:24,577] Trial 8 finished with value: 0.7389461994171143 and parameters: {'iterations': 1904, 'depth': 7, 'learning_rate': 0.05155602859187331, 'l2_leaf_reg': 1.299974533316308}. Best is trial 6 with value: 0.7390564978122711.\n",
      "Default metric period is 5 because AUC is/are not implemented for GPU\n"
     ]
    },
    {
     "name": "stdout",
     "output_type": "stream",
     "text": [
      "0:\ttest: 0.7187536\tbest: 0.7187536 (0)\ttotal: 27.1ms\tremaining: 1m 11s\n",
      "300:\ttest: 0.7381242\tbest: 0.7381287 (299)\ttotal: 8.19s\tremaining: 1m 3s\n",
      "600:\ttest: 0.7387197\tbest: 0.7387978 (471)\ttotal: 15.8s\tremaining: 53.6s\n",
      "900:\ttest: 0.7386012\tbest: 0.7388779 (777)\ttotal: 23.1s\tremaining: 44.5s\n",
      "bestTest = 0.7388778627\n",
      "bestIteration = 777\n",
      "Shrink model to first 778 iterations.\n"
     ]
    },
    {
     "name": "stderr",
     "output_type": "stream",
     "text": [
      "[I 2025-02-23 05:51:56,284] Trial 9 finished with value: 0.7388778626918793 and parameters: {'iterations': 2639, 'depth': 6, 'learning_rate': 0.03968704290444751, 'l2_leaf_reg': 0.30557194377967184}. Best is trial 6 with value: 0.7390564978122711.\n",
      "Default metric period is 5 because AUC is/are not implemented for GPU\n"
     ]
    },
    {
     "name": "stdout",
     "output_type": "stream",
     "text": [
      "0:\ttest: 0.7188268\tbest: 0.7188268 (0)\ttotal: 27.6ms\tremaining: 1m 21s\n",
      "300:\ttest: 0.7387817\tbest: 0.7387845 (298)\ttotal: 8.2s\tremaining: 1m 12s\n",
      "600:\ttest: 0.7387036\tbest: 0.7389553 (471)\ttotal: 16.4s\tremaining: 1m 3s\n",
      "bestTest = 0.7389553189\n",
      "bestIteration = 471\n",
      "Shrink model to first 472 iterations.\n"
     ]
    },
    {
     "name": "stderr",
     "output_type": "stream",
     "text": [
      "[I 2025-02-23 05:52:21,295] Trial 10 finished with value: 0.7389553189277649 and parameters: {'iterations': 2945, 'depth': 6, 'learning_rate': 0.07265276039199581, 'l2_leaf_reg': 97.18545559492446}. Best is trial 6 with value: 0.7390564978122711.\n",
      "Default metric period is 5 because AUC is/are not implemented for GPU\n"
     ]
    },
    {
     "name": "stdout",
     "output_type": "stream",
     "text": [
      "0:\ttest: 0.7188251\tbest: 0.7188251 (0)\ttotal: 30.4ms\tremaining: 1m 31s\n",
      "300:\ttest: 0.7387539\tbest: 0.7387661 (288)\ttotal: 9.16s\tremaining: 1m 21s\n",
      "600:\ttest: 0.7387406\tbest: 0.7388722 (363)\ttotal: 16.1s\tremaining: 1m 4s\n",
      "bestTest = 0.7388721704\n",
      "bestIteration = 363\n",
      "Shrink model to first 364 iterations.\n"
     ]
    },
    {
     "name": "stderr",
     "output_type": "stream",
     "text": [
      "[I 2025-02-23 05:52:42,798] Trial 11 finished with value: 0.7388721704483032 and parameters: {'iterations': 2994, 'depth': 6, 'learning_rate': 0.07131044509072976, 'l2_leaf_reg': 73.12133513928158}. Best is trial 6 with value: 0.7390564978122711.\n",
      "Default metric period is 5 because AUC is/are not implemented for GPU\n"
     ]
    },
    {
     "name": "stdout",
     "output_type": "stream",
     "text": [
      "0:\ttest: 0.7188267\tbest: 0.7188267 (0)\ttotal: 38.5ms\tremaining: 1m 1s\n",
      "300:\ttest: 0.7390569\tbest: 0.7390569 (300)\ttotal: 8.81s\tremaining: 37.7s\n",
      "600:\ttest: 0.7390950\tbest: 0.7392489 (428)\ttotal: 18.1s\tremaining: 29.8s\n",
      "bestTest = 0.7392488718\n",
      "bestIteration = 428\n",
      "Shrink model to first 429 iterations.\n"
     ]
    },
    {
     "name": "stderr",
     "output_type": "stream",
     "text": [
      "[I 2025-02-23 05:53:08,611] Trial 12 finished with value: 0.7392488718032837 and parameters: {'iterations': 1588, 'depth': 6, 'learning_rate': 0.07674945667870968, 'l2_leaf_reg': 87.13438924619733}. Best is trial 12 with value: 0.7392488718032837.\n"
     ]
    },
    {
     "name": "stdout",
     "output_type": "stream",
     "text": [
      "저장 완료\n"
     ]
    },
    {
     "name": "stderr",
     "output_type": "stream",
     "text": [
      "Default metric period is 5 because AUC is/are not implemented for GPU\n"
     ]
    },
    {
     "name": "stdout",
     "output_type": "stream",
     "text": [
      "0:\ttest: 0.7138073\tbest: 0.7138073 (0)\ttotal: 32.4ms\tremaining: 52.2s\n",
      "300:\ttest: 0.7383600\tbest: 0.7383747 (249)\ttotal: 6.32s\tremaining: 27.5s\n",
      "600:\ttest: 0.7385693\tbest: 0.7386955 (518)\ttotal: 11.7s\tremaining: 19.5s\n"
     ]
    },
    {
     "name": "stderr",
     "output_type": "stream",
     "text": [
      "[I 2025-02-23 05:53:28,166] Trial 13 finished with value: 0.7386954724788666 and parameters: {'iterations': 1609, 'depth': 5, 'learning_rate': 0.08630609059955752, 'l2_leaf_reg': 10.019996908534585}. Best is trial 12 with value: 0.7392488718032837.\n"
     ]
    },
    {
     "name": "stdout",
     "output_type": "stream",
     "text": [
      "bestTest = 0.7386954725\n",
      "bestIteration = 518\n",
      "Shrink model to first 519 iterations.\n"
     ]
    },
    {
     "name": "stderr",
     "output_type": "stream",
     "text": [
      "Default metric period is 5 because AUC is/are not implemented for GPU\n"
     ]
    },
    {
     "name": "stdout",
     "output_type": "stream",
     "text": [
      "0:\ttest: 0.7210739\tbest: 0.7210739 (0)\ttotal: 43.9ms\tremaining: 1m 7s\n",
      "300:\ttest: 0.7379800\tbest: 0.7382339 (199)\ttotal: 13.1s\tremaining: 53.4s\n",
      "bestTest = 0.7382339239\n",
      "bestIteration = 199\n",
      "Shrink model to first 200 iterations.\n"
     ]
    },
    {
     "name": "stderr",
     "output_type": "stream",
     "text": [
      "[I 2025-02-23 05:53:52,589] Trial 14 finished with value: 0.7382339239120483 and parameters: {'iterations': 1533, 'depth': 8, 'learning_rate': 0.08100676431388791, 'l2_leaf_reg': 11.438982664164415}. Best is trial 12 with value: 0.7392488718032837.\n",
      "Default metric period is 5 because AUC is/are not implemented for GPU\n"
     ]
    },
    {
     "name": "stdout",
     "output_type": "stream",
     "text": [
      "0:\ttest: 0.7207291\tbest: 0.7207291 (0)\ttotal: 44.1ms\tremaining: 1m 18s\n",
      "300:\ttest: 0.7384950\tbest: 0.7386731 (189)\ttotal: 11.6s\tremaining: 57.5s\n"
     ]
    },
    {
     "name": "stderr",
     "output_type": "stream",
     "text": [
      "[I 2025-02-23 05:54:15,256] Trial 15 finished with value: 0.7386731207370758 and parameters: {'iterations': 1791, 'depth': 8, 'learning_rate': 0.09785527189942261, 'l2_leaf_reg': 70.3890424045827}. Best is trial 12 with value: 0.7392488718032837.\n"
     ]
    },
    {
     "name": "stdout",
     "output_type": "stream",
     "text": [
      "bestTest = 0.7386731207\n",
      "bestIteration = 189\n",
      "Shrink model to first 190 iterations.\n"
     ]
    },
    {
     "name": "stderr",
     "output_type": "stream",
     "text": [
      "Default metric period is 5 because AUC is/are not implemented for GPU\n"
     ]
    },
    {
     "name": "stdout",
     "output_type": "stream",
     "text": [
      "0:\ttest: 0.7138107\tbest: 0.7138107 (0)\ttotal: 19.6ms\tremaining: 40.7s\n",
      "300:\ttest: 0.7384537\tbest: 0.7384705 (294)\ttotal: 5.94s\tremaining: 35.1s\n",
      "600:\ttest: 0.7386985\tbest: 0.7388544 (559)\ttotal: 11.9s\tremaining: 29.3s\n"
     ]
    },
    {
     "name": "stderr",
     "output_type": "stream",
     "text": [
      "[I 2025-02-23 05:54:36,229] Trial 16 finished with value: 0.7388543784618378 and parameters: {'iterations': 2077, 'depth': 5, 'learning_rate': 0.06244555290112677, 'l2_leaf_reg': 2.2154120601410607}. Best is trial 12 with value: 0.7392488718032837.\n"
     ]
    },
    {
     "name": "stdout",
     "output_type": "stream",
     "text": [
      "bestTest = 0.7388543785\n",
      "bestIteration = 559\n",
      "Shrink model to first 560 iterations.\n"
     ]
    },
    {
     "name": "stderr",
     "output_type": "stream",
     "text": [
      "Default metric period is 5 because AUC is/are not implemented for GPU\n"
     ]
    },
    {
     "name": "stdout",
     "output_type": "stream",
     "text": [
      "0:\ttest: 0.7138107\tbest: 0.7138107 (0)\ttotal: 17.6ms\tremaining: 28.9s\n",
      "300:\ttest: 0.7384585\tbest: 0.7384585 (300)\ttotal: 5.28s\tremaining: 23.6s\n",
      "600:\ttest: 0.7387983\tbest: 0.7388181 (595)\ttotal: 10.6s\tremaining: 18.5s\n",
      "bestTest = 0.738818109\n",
      "bestIteration = 595\n",
      "Shrink model to first 596 iterations.\n"
     ]
    },
    {
     "name": "stderr",
     "output_type": "stream",
     "text": [
      "[I 2025-02-23 05:54:55,940] Trial 17 finished with value: 0.7388181090354919 and parameters: {'iterations': 1648, 'depth': 5, 'learning_rate': 0.0823974134565037, 'l2_leaf_reg': 0.03766449391751257}. Best is trial 12 with value: 0.7392488718032837.\n",
      "Default metric period is 5 because AUC is/are not implemented for GPU\n"
     ]
    },
    {
     "name": "stdout",
     "output_type": "stream",
     "text": [
      "0:\ttest: 0.7210515\tbest: 0.7210515 (0)\ttotal: 38.1ms\tremaining: 1m 12s\n",
      "300:\ttest: 0.7382831\tbest: 0.7383027 (278)\ttotal: 11.3s\tremaining: 1m\n",
      "bestTest = 0.7383027077\n",
      "bestIteration = 278\n",
      "Shrink model to first 279 iterations.\n"
     ]
    },
    {
     "name": "stderr",
     "output_type": "stream",
     "text": [
      "[I 2025-02-23 05:55:21,657] Trial 18 finished with value: 0.7383027076721191 and parameters: {'iterations': 1910, 'depth': 8, 'learning_rate': 0.05970016430294879, 'l2_leaf_reg': 26.5004009289384}. Best is trial 12 with value: 0.7392488718032837.\n",
      "Default metric period is 5 because AUC is/are not implemented for GPU\n"
     ]
    },
    {
     "name": "stdout",
     "output_type": "stream",
     "text": [
      "0:\ttest: 0.7187536\tbest: 0.7187536 (0)\ttotal: 38.2ms\tremaining: 1m 7s\n",
      "300:\ttest: 0.7387423\tbest: 0.7387779 (206)\ttotal: 8.87s\tremaining: 43s\n",
      "600:\ttest: 0.7386736\tbest: 0.7388350 (406)\ttotal: 16s\tremaining: 30.8s\n",
      "900:\ttest: 0.7385815\tbest: 0.7389543 (712)\ttotal: 22.7s\tremaining: 21.6s\n",
      "bestTest = 0.7389542758\n",
      "bestIteration = 712\n",
      "Shrink model to first 713 iterations.\n"
     ]
    },
    {
     "name": "stderr",
     "output_type": "stream",
     "text": [
      "[I 2025-02-23 05:55:51,019] Trial 19 finished with value: 0.7389542758464813 and parameters: {'iterations': 1759, 'depth': 6, 'learning_rate': 0.08150471809745188, 'l2_leaf_reg': 2.2761750054483345}. Best is trial 12 with value: 0.7392488718032837.\n",
      "Default metric period is 5 because AUC is/are not implemented for GPU\n"
     ]
    },
    {
     "name": "stdout",
     "output_type": "stream",
     "text": [
      "0:\ttest: 0.7204478\tbest: 0.7204478 (0)\ttotal: 47.4ms\tremaining: 1m 37s\n",
      "300:\ttest: 0.7386100\tbest: 0.7386508 (235)\ttotal: 9.95s\tremaining: 58.3s\n"
     ]
    },
    {
     "name": "stderr",
     "output_type": "stream",
     "text": [
      "[I 2025-02-23 05:56:12,283] Trial 20 finished with value: 0.7386508285999298 and parameters: {'iterations': 2066, 'depth': 7, 'learning_rate': 0.0981462221121846, 'l2_leaf_reg': 25.121986351201187}. Best is trial 12 with value: 0.7392488718032837.\n"
     ]
    },
    {
     "name": "stdout",
     "output_type": "stream",
     "text": [
      "bestTest = 0.7386508286\n",
      "bestIteration = 235\n",
      "Shrink model to first 236 iterations.\n"
     ]
    },
    {
     "name": "stderr",
     "output_type": "stream",
     "text": [
      "Default metric period is 5 because AUC is/are not implemented for GPU\n"
     ]
    },
    {
     "name": "stdout",
     "output_type": "stream",
     "text": [
      "0:\ttest: 0.7188268\tbest: 0.7188268 (0)\ttotal: 24.6ms\tremaining: 1m 12s\n",
      "300:\ttest: 0.7387419\tbest: 0.7387419 (300)\ttotal: 7.06s\tremaining: 1m 2s\n",
      "600:\ttest: 0.7385967\tbest: 0.7388367 (344)\ttotal: 13.7s\tremaining: 53.9s\n"
     ]
    },
    {
     "name": "stderr",
     "output_type": "stream",
     "text": [
      "[I 2025-02-23 05:56:30,869] Trial 21 finished with value: 0.7388367354869843 and parameters: {'iterations': 2969, 'depth': 6, 'learning_rate': 0.07105586576499134, 'l2_leaf_reg': 89.94798088783348}. Best is trial 12 with value: 0.7392488718032837.\n"
     ]
    },
    {
     "name": "stdout",
     "output_type": "stream",
     "text": [
      "bestTest = 0.7388367355\n",
      "bestIteration = 344\n",
      "Shrink model to first 345 iterations.\n"
     ]
    },
    {
     "name": "stderr",
     "output_type": "stream",
     "text": [
      "Default metric period is 5 because AUC is/are not implemented for GPU\n"
     ]
    },
    {
     "name": "stdout",
     "output_type": "stream",
     "text": [
      "0:\ttest: 0.7138026\tbest: 0.7138026 (0)\ttotal: 19.7ms\tremaining: 53.9s\n",
      "300:\ttest: 0.7387251\tbest: 0.7387251 (300)\ttotal: 5.97s\tremaining: 48.2s\n",
      "600:\ttest: 0.7390125\tbest: 0.7391135 (544)\ttotal: 12s\tremaining: 42.6s\n",
      "900:\ttest: 0.7392118\tbest: 0.7392145 (899)\ttotal: 18.1s\tremaining: 36.7s\n",
      "1200:\ttest: 0.7390514\tbest: 0.7392161 (966)\ttotal: 24.1s\tremaining: 30.7s\n",
      "bestTest = 0.7392160892\n",
      "bestIteration = 966\n",
      "Shrink model to first 967 iterations.\n"
     ]
    },
    {
     "name": "stderr",
     "output_type": "stream",
     "text": [
      "[I 2025-02-23 05:57:00,637] Trial 22 finished with value: 0.7392160892486572 and parameters: {'iterations': 2731, 'depth': 5, 'learning_rate': 0.07642008539751163, 'l2_leaf_reg': 82.35177733542166}. Best is trial 12 with value: 0.7392488718032837.\n",
      "Default metric period is 5 because AUC is/are not implemented for GPU\n"
     ]
    },
    {
     "name": "stdout",
     "output_type": "stream",
     "text": [
      "0:\ttest: 0.7138073\tbest: 0.7138073 (0)\ttotal: 35ms\tremaining: 1m 34s\n",
      "300:\ttest: 0.7386340\tbest: 0.7386340 (300)\ttotal: 7.54s\tremaining: 59.8s\n",
      "600:\ttest: 0.7387734\tbest: 0.7388936 (426)\ttotal: 15.1s\tremaining: 52.5s\n"
     ]
    },
    {
     "name": "stderr",
     "output_type": "stream",
     "text": [
      "[I 2025-02-23 05:57:22,972] Trial 23 finished with value: 0.7388936281204224 and parameters: {'iterations': 2688, 'depth': 5, 'learning_rate': 0.08939688136812274, 'l2_leaf_reg': 19.877387311660602}. Best is trial 12 with value: 0.7392488718032837.\n"
     ]
    },
    {
     "name": "stdout",
     "output_type": "stream",
     "text": [
      "bestTest = 0.7388936281\n",
      "bestIteration = 426\n",
      "Shrink model to first 427 iterations.\n"
     ]
    },
    {
     "name": "stderr",
     "output_type": "stream",
     "text": [
      "Default metric period is 5 because AUC is/are not implemented for GPU\n"
     ]
    },
    {
     "name": "stdout",
     "output_type": "stream",
     "text": [
      "0:\ttest: 0.7138026\tbest: 0.7138026 (0)\ttotal: 25.8ms\tremaining: 1m 5s\n",
      "300:\ttest: 0.7386478\tbest: 0.7386529 (294)\ttotal: 6.46s\tremaining: 47.7s\n",
      "600:\ttest: 0.7389121\tbest: 0.7390276 (552)\ttotal: 13.3s\tremaining: 42.4s\n",
      "bestTest = 0.7390276194\n",
      "bestIteration = 552\n",
      "Shrink model to first 553 iterations.\n"
     ]
    },
    {
     "name": "stderr",
     "output_type": "stream",
     "text": [
      "[I 2025-02-23 05:57:45,323] Trial 24 finished with value: 0.7390276193618774 and parameters: {'iterations': 2521, 'depth': 5, 'learning_rate': 0.07718895691165846, 'l2_leaf_reg': 41.75489521697288}. Best is trial 12 with value: 0.7392488718032837.\n",
      "Default metric period is 5 because AUC is/are not implemented for GPU\n"
     ]
    },
    {
     "name": "stdout",
     "output_type": "stream",
     "text": [
      "0:\ttest: 0.7138098\tbest: 0.7138098 (0)\ttotal: 28.7ms\tremaining: 43.4s\n",
      "300:\ttest: 0.7384869\tbest: 0.7385921 (234)\ttotal: 6.19s\tremaining: 24.9s\n",
      "600:\ttest: 0.7384751\tbest: 0.7386083 (456)\ttotal: 12.2s\tremaining: 18.6s\n",
      "bestTest = 0.7386083007\n",
      "bestIteration = 456\n",
      "Shrink model to first 457 iterations.\n"
     ]
    },
    {
     "name": "stderr",
     "output_type": "stream",
     "text": [
      "[I 2025-02-23 05:58:04,368] Trial 25 finished with value: 0.7386083006858826 and parameters: {'iterations': 1513, 'depth': 5, 'learning_rate': 0.088174178097401, 'l2_leaf_reg': 7.034895460952718}. Best is trial 12 with value: 0.7392488718032837.\n",
      "Default metric period is 5 because AUC is/are not implemented for GPU\n"
     ]
    },
    {
     "name": "stdout",
     "output_type": "stream",
     "text": [
      "0:\ttest: 0.7187879\tbest: 0.7187879 (0)\ttotal: 37.4ms\tremaining: 1m 45s\n",
      "300:\ttest: 0.7389632\tbest: 0.7389632 (300)\ttotal: 7.6s\tremaining: 1m 3s\n",
      "600:\ttest: 0.7391086\tbest: 0.7392148 (524)\ttotal: 15s\tremaining: 55.5s\n",
      "bestTest = 0.7392147779\n",
      "bestIteration = 524\n",
      "Shrink model to first 525 iterations.\n"
     ]
    },
    {
     "name": "stderr",
     "output_type": "stream",
     "text": [
      "[I 2025-02-23 05:58:29,077] Trial 26 finished with value: 0.7392147779464722 and parameters: {'iterations': 2820, 'depth': 6, 'learning_rate': 0.07628804970187145, 'l2_leaf_reg': 24.547879447505274}. Best is trial 12 with value: 0.7392488718032837.\n",
      "Default metric period is 5 because AUC is/are not implemented for GPU\n"
     ]
    },
    {
     "name": "stdout",
     "output_type": "stream",
     "text": [
      "0:\ttest: 0.7229793\tbest: 0.7229793 (0)\ttotal: 68.9ms\tremaining: 3m 14s\n",
      "300:\ttest: 0.7374732\tbest: 0.7380887 (187)\ttotal: 17.3s\tremaining: 2m 24s\n",
      "bestTest = 0.7380886674\n",
      "bestIteration = 187\n",
      "Shrink model to first 188 iterations.\n"
     ]
    },
    {
     "name": "stderr",
     "output_type": "stream",
     "text": [
      "[I 2025-02-23 05:59:00,183] Trial 27 finished with value: 0.7380886673927307 and parameters: {'iterations': 2820, 'depth': 9, 'learning_rate': 0.06568905940928277, 'l2_leaf_reg': 4.469885364123921}. Best is trial 12 with value: 0.7392488718032837.\n",
      "Default metric period is 5 because AUC is/are not implemented for GPU\n"
     ]
    },
    {
     "name": "stdout",
     "output_type": "stream",
     "text": [
      "0:\ttest: 0.7187879\tbest: 0.7187879 (0)\ttotal: 31.7ms\tremaining: 1m 29s\n",
      "300:\ttest: 0.7386850\tbest: 0.7386891 (298)\ttotal: 7.42s\tremaining: 1m 2s\n",
      "600:\ttest: 0.7387195\tbest: 0.7389312 (345)\ttotal: 14.1s\tremaining: 52.1s\n",
      "bestTest = 0.738931179\n",
      "bestIteration = 345\n",
      "Shrink model to first 346 iterations.\n"
     ]
    },
    {
     "name": "stderr",
     "output_type": "stream",
     "text": [
      "[I 2025-02-23 05:59:19,217] Trial 28 finished with value: 0.7389311790466309 and parameters: {'iterations': 2829, 'depth': 6, 'learning_rate': 0.05858631532730083, 'l2_leaf_reg': 25.34066518365798}. Best is trial 12 with value: 0.7392488718032837.\n",
      "Default metric period is 5 because AUC is/are not implemented for GPU\n"
     ]
    },
    {
     "name": "stdout",
     "output_type": "stream",
     "text": [
      "0:\ttest: 0.7204252\tbest: 0.7204252 (0)\ttotal: 41.9ms\tremaining: 1m 39s\n",
      "300:\ttest: 0.7389235\tbest: 0.7389235 (300)\ttotal: 12.3s\tremaining: 1m 24s\n",
      "600:\ttest: 0.7384877\tbest: 0.7389823 (321)\ttotal: 22.2s\tremaining: 1m 5s\n",
      "bestTest = 0.7389822602\n",
      "bestIteration = 321\n",
      "Shrink model to first 322 iterations.\n"
     ]
    },
    {
     "name": "stderr",
     "output_type": "stream",
     "text": [
      "[I 2025-02-23 05:59:46,105] Trial 29 finished with value: 0.7389822602272034 and parameters: {'iterations': 2366, 'depth': 7, 'learning_rate': 0.0759705880929485, 'l2_leaf_reg': 14.603383768761256}. Best is trial 12 with value: 0.7392488718032837.\n",
      "Default metric period is 5 because AUC is/are not implemented for GPU\n"
     ]
    },
    {
     "name": "stdout",
     "output_type": "stream",
     "text": [
      "0:\ttest: 0.7203944\tbest: 0.7203944 (0)\ttotal: 43.2ms\tremaining: 2m\n",
      "300:\ttest: 0.7377471\tbest: 0.7381378 (200)\ttotal: 12.4s\tremaining: 1m 43s\n"
     ]
    },
    {
     "name": "stderr",
     "output_type": "stream",
     "text": [
      "[I 2025-02-23 06:00:10,316] Trial 30 finished with value: 0.7381377518177032 and parameters: {'iterations': 2797, 'depth': 7, 'learning_rate': 0.08560295738450913, 'l2_leaf_reg': 6.461029815140964}. Best is trial 12 with value: 0.7392488718032837.\n"
     ]
    },
    {
     "name": "stdout",
     "output_type": "stream",
     "text": [
      "bestTest = 0.7381377518\n",
      "bestIteration = 200\n",
      "Shrink model to first 201 iterations.\n"
     ]
    },
    {
     "name": "stderr",
     "output_type": "stream",
     "text": [
      "Default metric period is 5 because AUC is/are not implemented for GPU\n"
     ]
    },
    {
     "name": "stdout",
     "output_type": "stream",
     "text": [
      "0:\ttest: 0.7138026\tbest: 0.7138026 (0)\ttotal: 34.5ms\tremaining: 1m 24s\n",
      "300:\ttest: 0.7387770\tbest: 0.7387920 (294)\ttotal: 9.2s\tremaining: 1m 5s\n",
      "600:\ttest: 0.7389182\tbest: 0.7391080 (489)\ttotal: 14.6s\tremaining: 45.1s\n",
      "bestTest = 0.7391079664\n",
      "bestIteration = 489\n",
      "Shrink model to first 490 iterations.\n"
     ]
    },
    {
     "name": "stderr",
     "output_type": "stream",
     "text": [
      "[I 2025-02-23 06:00:33,422] Trial 31 finished with value: 0.7391079664230347 and parameters: {'iterations': 2452, 'depth': 5, 'learning_rate': 0.07816012832690906, 'l2_leaf_reg': 37.40594615708374}. Best is trial 12 with value: 0.7392488718032837.\n",
      "Default metric period is 5 because AUC is/are not implemented for GPU\n"
     ]
    },
    {
     "name": "stdout",
     "output_type": "stream",
     "text": [
      "0:\ttest: 0.7187843\tbest: 0.7187843 (0)\ttotal: 34.3ms\tremaining: 1m 24s\n",
      "300:\ttest: 0.7390513\tbest: 0.7390523 (298)\ttotal: 7.32s\tremaining: 52.6s\n",
      "600:\ttest: 0.7390627\tbest: 0.7392185 (337)\ttotal: 14s\tremaining: 43.2s\n"
     ]
    },
    {
     "name": "stderr",
     "output_type": "stream",
     "text": [
      "[I 2025-02-23 06:00:52,122] Trial 32 finished with value: 0.739218533039093 and parameters: {'iterations': 2462, 'depth': 6, 'learning_rate': 0.0763519028778321, 'l2_leaf_reg': 34.46127772282847}. Best is trial 12 with value: 0.7392488718032837.\n"
     ]
    },
    {
     "name": "stdout",
     "output_type": "stream",
     "text": [
      "bestTest = 0.739218533\n",
      "bestIteration = 337\n",
      "Shrink model to first 338 iterations.\n"
     ]
    },
    {
     "name": "stderr",
     "output_type": "stream",
     "text": [
      "Default metric period is 5 because AUC is/are not implemented for GPU\n"
     ]
    },
    {
     "name": "stdout",
     "output_type": "stream",
     "text": [
      "0:\ttest: 0.7187843\tbest: 0.7187843 (0)\ttotal: 36.8ms\tremaining: 1m 36s\n",
      "300:\ttest: 0.7388592\tbest: 0.7388768 (282)\ttotal: 9.12s\tremaining: 1m 10s\n",
      "600:\ttest: 0.7389995\tbest: 0.7390187 (344)\ttotal: 15.8s\tremaining: 53s\n"
     ]
    },
    {
     "name": "stderr",
     "output_type": "stream",
     "text": [
      "[I 2025-02-23 06:01:12,900] Trial 33 finished with value: 0.7390187382698059 and parameters: {'iterations': 2624, 'depth': 6, 'learning_rate': 0.06635001221773351, 'l2_leaf_reg': 36.177278638831154}. Best is trial 12 with value: 0.7392488718032837.\n"
     ]
    },
    {
     "name": "stdout",
     "output_type": "stream",
     "text": [
      "bestTest = 0.7390187383\n",
      "bestIteration = 344\n",
      "Shrink model to first 345 iterations.\n"
     ]
    },
    {
     "name": "stderr",
     "output_type": "stream",
     "text": [
      "Default metric period is 5 because AUC is/are not implemented for GPU\n"
     ]
    },
    {
     "name": "stdout",
     "output_type": "stream",
     "text": [
      "0:\ttest: 0.7103115\tbest: 0.7103115 (0)\ttotal: 17.5ms\tremaining: 38.3s\n",
      "300:\ttest: 0.7384219\tbest: 0.7384219 (300)\ttotal: 5.83s\tremaining: 36.5s\n",
      "600:\ttest: 0.7388776\tbest: 0.7389026 (591)\ttotal: 10.2s\tremaining: 26.8s\n",
      "900:\ttest: 0.7389210\tbest: 0.7390156 (720)\ttotal: 16.6s\tremaining: 23.6s\n",
      "bestTest = 0.7390156388\n",
      "bestIteration = 720\n",
      "Shrink model to first 721 iterations.\n"
     ]
    },
    {
     "name": "stderr",
     "output_type": "stream",
     "text": [
      "[I 2025-02-23 06:01:36,030] Trial 34 finished with value: 0.7390156388282776 and parameters: {'iterations': 2184, 'depth': 4, 'learning_rate': 0.07606772993434732, 'l2_leaf_reg': 12.789887130199993}. Best is trial 12 with value: 0.7392488718032837.\n",
      "Default metric period is 5 because AUC is/are not implemented for GPU\n"
     ]
    },
    {
     "name": "stdout",
     "output_type": "stream",
     "text": [
      "0:\ttest: 0.7187843\tbest: 0.7187843 (0)\ttotal: 34.2ms\tremaining: 1m 33s\n",
      "300:\ttest: 0.7388020\tbest: 0.7388106 (298)\ttotal: 9.68s\tremaining: 1m 17s\n",
      "600:\ttest: 0.7384914\tbest: 0.7388572 (305)\ttotal: 16.3s\tremaining: 57.7s\n",
      "bestTest = 0.7388572097\n",
      "bestIteration = 305\n",
      "Shrink model to first 306 iterations.\n"
     ]
    },
    {
     "name": "stderr",
     "output_type": "stream",
     "text": [
      "[I 2025-02-23 06:01:56,400] Trial 35 finished with value: 0.7388572096824646 and parameters: {'iterations': 2723, 'depth': 6, 'learning_rate': 0.09136163119721132, 'l2_leaf_reg': 41.09509812202608}. Best is trial 12 with value: 0.7392488718032837.\n",
      "Default metric period is 5 because AUC is/are not implemented for GPU\n"
     ]
    },
    {
     "name": "stdout",
     "output_type": "stream",
     "text": [
      "0:\ttest: 0.7103115\tbest: 0.7103115 (0)\ttotal: 22.1ms\tremaining: 49.9s\n",
      "300:\ttest: 0.7385238\tbest: 0.7385289 (291)\ttotal: 4.81s\tremaining: 31.3s\n",
      "600:\ttest: 0.7387151\tbest: 0.7387965 (469)\ttotal: 8.96s\tremaining: 24.7s\n",
      "900:\ttest: 0.7389380\tbest: 0.7389624 (870)\ttotal: 13.1s\tremaining: 19.8s\n",
      "1200:\ttest: 0.7388124\tbest: 0.7389724 (922)\ttotal: 17.3s\tremaining: 15.3s\n",
      "bestTest = 0.7389723659\n",
      "bestIteration = 922\n",
      "Shrink model to first 923 iterations.\n"
     ]
    },
    {
     "name": "stderr",
     "output_type": "stream",
     "text": [
      "[I 2025-02-23 06:02:18,202] Trial 36 finished with value: 0.7389723658561707 and parameters: {'iterations': 2259, 'depth': 4, 'learning_rate': 0.08486292143453836, 'l2_leaf_reg': 95.56991941816959}. Best is trial 12 with value: 0.7392488718032837.\n",
      "Default metric period is 5 because AUC is/are not implemented for GPU\n"
     ]
    },
    {
     "name": "stdout",
     "output_type": "stream",
     "text": [
      "0:\ttest: 0.7203598\tbest: 0.7203598 (0)\ttotal: 45.4ms\tremaining: 1m 54s\n",
      "300:\ttest: 0.7380085\tbest: 0.7383188 (268)\ttotal: 9.63s\tremaining: 1m 11s\n"
     ]
    },
    {
     "name": "stderr",
     "output_type": "stream",
     "text": [
      "[I 2025-02-23 06:02:39,443] Trial 37 finished with value: 0.7383188009262085 and parameters: {'iterations': 2528, 'depth': 7, 'learning_rate': 0.09257221683602454, 'l2_leaf_reg': 4.389853515321699}. Best is trial 12 with value: 0.7392488718032837.\n"
     ]
    },
    {
     "name": "stdout",
     "output_type": "stream",
     "text": [
      "bestTest = 0.7383188009\n",
      "bestIteration = 268\n",
      "Shrink model to first 269 iterations.\n"
     ]
    },
    {
     "name": "stderr",
     "output_type": "stream",
     "text": [
      "Default metric period is 5 because AUC is/are not implemented for GPU\n"
     ]
    },
    {
     "name": "stdout",
     "output_type": "stream",
     "text": [
      "0:\ttest: 0.7187899\tbest: 0.7187899 (0)\ttotal: 39.4ms\tremaining: 1m 35s\n",
      "300:\ttest: 0.7388471\tbest: 0.7388471 (300)\ttotal: 8.27s\tremaining: 58.3s\n",
      "600:\ttest: 0.7388453\tbest: 0.7390945 (345)\ttotal: 14.9s\tremaining: 45.1s\n"
     ]
    },
    {
     "name": "stderr",
     "output_type": "stream",
     "text": [
      "[I 2025-02-23 06:02:59,360] Trial 38 finished with value: 0.7390944957733154 and parameters: {'iterations': 2423, 'depth': 6, 'learning_rate': 0.06824109883140252, 'l2_leaf_reg': 18.964332444677822}. Best is trial 12 with value: 0.7392488718032837.\n"
     ]
    },
    {
     "name": "stdout",
     "output_type": "stream",
     "text": [
      "bestTest = 0.7390944958\n",
      "bestIteration = 345\n",
      "Shrink model to first 346 iterations.\n"
     ]
    },
    {
     "name": "stderr",
     "output_type": "stream",
     "text": [
      "Default metric period is 5 because AUC is/are not implemented for GPU\n"
     ]
    },
    {
     "name": "stdout",
     "output_type": "stream",
     "text": [
      "0:\ttest: 0.7103115\tbest: 0.7103115 (0)\ttotal: 22.5ms\tremaining: 1m 5s\n",
      "300:\ttest: 0.7383183\tbest: 0.7383183 (300)\ttotal: 5.12s\tremaining: 44.4s\n",
      "600:\ttest: 0.7386889\tbest: 0.7387629 (491)\ttotal: 9.29s\tremaining: 35.7s\n",
      "900:\ttest: 0.7387930\tbest: 0.7388598 (800)\ttotal: 13.5s\tremaining: 30.1s\n",
      "1200:\ttest: 0.7388892\tbest: 0.7389219 (1184)\ttotal: 17.7s\tremaining: 25.2s\n",
      "1500:\ttest: 0.7388103\tbest: 0.7389644 (1263)\ttotal: 22s\tremaining: 20.6s\n",
      "bestTest = 0.7389643788\n",
      "bestIteration = 1263\n",
      "Shrink model to first 1264 iterations.\n"
     ]
    },
    {
     "name": "stderr",
     "output_type": "stream",
     "text": [
      "[I 2025-02-23 06:03:26,340] Trial 39 finished with value: 0.7389643788337708 and parameters: {'iterations': 2909, 'depth': 4, 'learning_rate': 0.07391925004291368, 'l2_leaf_reg': 42.613622195770006}. Best is trial 12 with value: 0.7392488718032837.\n",
      "[I 2025-02-23 06:03:26,344] A new study created in memory with name: no-name-28804096-8619-42ba-a275-bc0d3e4ab935\n",
      "[I 2025-02-23 06:03:31,342] Trial 0 finished with value: 0.737846324415877 and parameters: {'num_iterations': 2366, 'objective': 'binary', 'metric': 'auc', 'verbose': -1, 'learning_rate': 0.0652646236447618, 'n_estimators': 236, 'min_child_samples': 45, 'subsample': 0.7, 'colsample_bytree': 0.5}. Best is trial 0 with value: 0.737846324415877.\n",
      "[I 2025-02-23 06:03:42,805] Trial 1 finished with value: 0.7378585348910177 and parameters: {'num_iterations': 1510, 'objective': 'binary', 'metric': 'auc', 'verbose': -1, 'learning_rate': 0.005231880959249543, 'n_estimators': 1411, 'min_child_samples': 10, 'subsample': 1.0, 'colsample_bytree': 0.5}. Best is trial 1 with value: 0.7378585348910177.\n",
      "[I 2025-02-23 06:03:51,308] Trial 2 finished with value: 0.7378790762854577 and parameters: {'num_iterations': 2334, 'objective': 'binary', 'metric': 'auc', 'verbose': -1, 'learning_rate': 0.006578527777128852, 'n_estimators': 931, 'min_child_samples': 15, 'subsample': 0.5, 'colsample_bytree': 1.0}. Best is trial 2 with value: 0.7378790762854577.\n",
      "[I 2025-02-23 06:04:00,679] Trial 3 finished with value: 0.7376073048613591 and parameters: {'num_iterations': 1620, 'objective': 'binary', 'metric': 'auc', 'verbose': -1, 'learning_rate': 0.0058823249237283685, 'n_estimators': 837, 'min_child_samples': 10, 'subsample': 0.9, 'colsample_bytree': 0.6}. Best is trial 2 with value: 0.7378790762854577.\n",
      "[I 2025-02-23 06:04:08,115] Trial 4 finished with value: 0.7380797887005669 and parameters: {'num_iterations': 1997, 'objective': 'binary', 'metric': 'auc', 'verbose': -1, 'learning_rate': 0.010907507425244923, 'n_estimators': 1597, 'min_child_samples': 50, 'subsample': 0.6, 'colsample_bytree': 0.8}. Best is trial 4 with value: 0.7380797887005669.\n",
      "[I 2025-02-23 06:04:13,325] Trial 5 finished with value: 0.7383028611760069 and parameters: {'num_iterations': 2909, 'objective': 'binary', 'metric': 'auc', 'verbose': -1, 'learning_rate': 0.019760591962733942, 'n_estimators': 612, 'min_child_samples': 30, 'subsample': 0.7, 'colsample_bytree': 0.9}. Best is trial 5 with value: 0.7383028611760069.\n",
      "[I 2025-02-23 06:04:18,631] Trial 6 finished with value: 0.7382748743698958 and parameters: {'num_iterations': 2639, 'objective': 'binary', 'metric': 'auc', 'verbose': -1, 'learning_rate': 0.017862094446750985, 'n_estimators': 794, 'min_child_samples': 35, 'subsample': 1.0, 'colsample_bytree': 0.8}. Best is trial 5 with value: 0.7383028611760069.\n",
      "[I 2025-02-23 06:04:24,207] Trial 7 finished with value: 0.7381833851512808 and parameters: {'num_iterations': 1580, 'objective': 'binary', 'metric': 'auc', 'verbose': -1, 'learning_rate': 0.01776722177611332, 'n_estimators': 529, 'min_child_samples': 25, 'subsample': 0.8, 'colsample_bytree': 0.5}. Best is trial 5 with value: 0.7383028611760069.\n",
      "[I 2025-02-23 06:04:27,182] Trial 8 finished with value: 0.7381227338350861 and parameters: {'num_iterations': 1911, 'objective': 'binary', 'metric': 'auc', 'verbose': -1, 'learning_rate': 0.0304747553332844, 'n_estimators': 1328, 'min_child_samples': 10, 'subsample': 0.7, 'colsample_bytree': 0.6}. Best is trial 5 with value: 0.7383028611760069.\n",
      "[I 2025-02-23 06:04:32,976] Trial 9 finished with value: 0.7386330244820384 and parameters: {'num_iterations': 2739, 'objective': 'binary', 'metric': 'auc', 'verbose': -1, 'learning_rate': 0.02691531614176271, 'n_estimators': 1438, 'min_child_samples': 20, 'subsample': 0.6, 'colsample_bytree': 0.5}. Best is trial 9 with value: 0.7386330244820384.\n",
      "[I 2025-02-23 06:04:36,218] Trial 10 finished with value: 0.7380200665717487 and parameters: {'num_iterations': 2945, 'objective': 'binary', 'metric': 'auc', 'verbose': -1, 'learning_rate': 0.04092715427752937, 'n_estimators': 1962, 'min_child_samples': 20, 'subsample': 0.5, 'colsample_bytree': 0.7}. Best is trial 9 with value: 0.7386330244820384.\n",
      "[I 2025-02-23 06:04:40,230] Trial 11 finished with value: 0.7383273218351505 and parameters: {'num_iterations': 2986, 'objective': 'binary', 'metric': 'auc', 'verbose': -1, 'learning_rate': 0.027577493020158085, 'n_estimators': 183, 'min_child_samples': 35, 'subsample': 0.6, 'colsample_bytree': 1.0}. Best is trial 9 with value: 0.7386330244820384.\n",
      "[I 2025-02-23 06:04:42,225] Trial 12 finished with value: 0.7380349295988874 and parameters: {'num_iterations': 2642, 'objective': 'binary', 'metric': 'auc', 'verbose': -1, 'learning_rate': 0.09492979317799342, 'n_estimators': 216, 'min_child_samples': 35, 'subsample': 0.6, 'colsample_bytree': 1.0}. Best is trial 9 with value: 0.7386330244820384.\n",
      "[I 2025-02-23 06:04:45,489] Trial 13 finished with value: 0.7381357901089926 and parameters: {'num_iterations': 2700, 'objective': 'binary', 'metric': 'auc', 'verbose': -1, 'learning_rate': 0.033512406663377806, 'n_estimators': 1151, 'min_child_samples': 40, 'subsample': 0.6, 'colsample_bytree': 0.9}. Best is trial 9 with value: 0.7386330244820384.\n",
      "[I 2025-02-23 06:04:48,543] Trial 14 finished with value: 0.7385362738391757 and parameters: {'num_iterations': 2786, 'objective': 'binary', 'metric': 'auc', 'verbose': -1, 'learning_rate': 0.04267947545761721, 'n_estimators': 1729, 'min_child_samples': 25, 'subsample': 0.5, 'colsample_bytree': 0.7}. Best is trial 9 with value: 0.7386330244820384.\n",
      "[I 2025-02-23 06:04:51,443] Trial 15 finished with value: 0.7378656666026772 and parameters: {'num_iterations': 2477, 'objective': 'binary', 'metric': 'auc', 'verbose': -1, 'learning_rate': 0.04813250684976887, 'n_estimators': 1821, 'min_child_samples': 20, 'subsample': 0.5, 'colsample_bytree': 0.7}. Best is trial 9 with value: 0.7386330244820384.\n",
      "[I 2025-02-23 06:04:54,861] Trial 16 finished with value: 0.7378804660956363 and parameters: {'num_iterations': 2756, 'objective': 'binary', 'metric': 'auc', 'verbose': -1, 'learning_rate': 0.05085405857858794, 'n_estimators': 1726, 'min_child_samples': 25, 'subsample': 0.5, 'colsample_bytree': 0.6}. Best is trial 9 with value: 0.7386330244820384.\n",
      "[I 2025-02-23 06:04:59,634] Trial 17 finished with value: 0.7384690427645069 and parameters: {'num_iterations': 2097, 'objective': 'binary', 'metric': 'auc', 'verbose': -1, 'learning_rate': 0.02551152431150628, 'n_estimators': 1569, 'min_child_samples': 20, 'subsample': 0.8, 'colsample_bytree': 0.7}. Best is trial 9 with value: 0.7386330244820384.\n",
      "[I 2025-02-23 06:05:02,329] Trial 18 finished with value: 0.7376931832177387 and parameters: {'num_iterations': 2534, 'objective': 'binary', 'metric': 'auc', 'verbose': -1, 'learning_rate': 0.06670814294149753, 'n_estimators': 1276, 'min_child_samples': 25, 'subsample': 0.6, 'colsample_bytree': 0.6}. Best is trial 9 with value: 0.7386330244820384.\n",
      "[I 2025-02-23 06:05:06,815] Trial 19 finished with value: 0.7381235597794208 and parameters: {'num_iterations': 2812, 'objective': 'binary', 'metric': 'auc', 'verbose': -1, 'learning_rate': 0.014394178374391903, 'n_estimators': 1521, 'min_child_samples': 30, 'subsample': 0.5, 'colsample_bytree': 0.8}. Best is trial 9 with value: 0.7386330244820384.\n",
      "[I 2025-02-23 06:05:10,265] Trial 20 finished with value: 0.7379200836274993 and parameters: {'num_iterations': 2494, 'objective': 'binary', 'metric': 'auc', 'verbose': -1, 'learning_rate': 0.03473363120228368, 'n_estimators': 1987, 'min_child_samples': 15, 'subsample': 0.7, 'colsample_bytree': 0.5}. Best is trial 9 with value: 0.7386330244820384.\n",
      "[I 2025-02-23 06:05:14,611] Trial 21 finished with value: 0.7382954157643358 and parameters: {'num_iterations': 2131, 'objective': 'binary', 'metric': 'auc', 'verbose': -1, 'learning_rate': 0.025150403139402058, 'n_estimators': 1676, 'min_child_samples': 20, 'subsample': 0.8, 'colsample_bytree': 0.7}. Best is trial 9 with value: 0.7386330244820384.\n",
      "[I 2025-02-23 06:05:18,997] Trial 22 finished with value: 0.7383095402066366 and parameters: {'num_iterations': 2166, 'objective': 'binary', 'metric': 'auc', 'verbose': -1, 'learning_rate': 0.024556085093007517, 'n_estimators': 1500, 'min_child_samples': 15, 'subsample': 0.9, 'colsample_bytree': 0.7}. Best is trial 9 with value: 0.7386330244820384.\n",
      "[I 2025-02-23 06:05:23,223] Trial 23 finished with value: 0.7380743922661877 and parameters: {'num_iterations': 1809, 'objective': 'binary', 'metric': 'auc', 'verbose': -1, 'learning_rate': 0.03579621572135731, 'n_estimators': 1158, 'min_child_samples': 25, 'subsample': 0.8, 'colsample_bytree': 0.6}. Best is trial 9 with value: 0.7386330244820384.\n",
      "[I 2025-02-23 06:05:27,164] Trial 24 finished with value: 0.7382794686852577 and parameters: {'num_iterations': 2245, 'objective': 'binary', 'metric': 'auc', 'verbose': -1, 'learning_rate': 0.02856826754269659, 'n_estimators': 1784, 'min_child_samples': 20, 'subsample': 0.9, 'colsample_bytree': 0.9}. Best is trial 9 with value: 0.7386330244820384.\n",
      "[I 2025-02-23 06:05:31,093] Trial 25 finished with value: 0.7381725247774564 and parameters: {'num_iterations': 2821, 'objective': 'binary', 'metric': 'auc', 'verbose': -1, 'learning_rate': 0.021974800345397588, 'n_estimators': 1418, 'min_child_samples': 15, 'subsample': 0.8, 'colsample_bytree': 0.7}. Best is trial 9 with value: 0.7386330244820384.\n",
      "[I 2025-02-23 06:05:35,024] Trial 26 finished with value: 0.7379949864543541 and parameters: {'num_iterations': 1742, 'objective': 'binary', 'metric': 'auc', 'verbose': -1, 'learning_rate': 0.04111431307724659, 'n_estimators': 1620, 'min_child_samples': 30, 'subsample': 0.6, 'colsample_bytree': 0.8}. Best is trial 9 with value: 0.7386330244820384.\n",
      "[I 2025-02-23 06:05:39,275] Trial 27 finished with value: 0.7380246450035657 and parameters: {'num_iterations': 2076, 'objective': 'binary', 'metric': 'auc', 'verbose': -1, 'learning_rate': 0.024242941538984035, 'n_estimators': 1871, 'min_child_samples': 20, 'subsample': 0.7, 'colsample_bytree': 0.6}. Best is trial 9 with value: 0.7386330244820384.\n",
      "[I 2025-02-23 06:05:46,973] Trial 28 finished with value: 0.738224245570532 and parameters: {'num_iterations': 2379, 'objective': 'binary', 'metric': 'auc', 'verbose': -1, 'learning_rate': 0.013981759659711353, 'n_estimators': 1074, 'min_child_samples': 30, 'subsample': 0.5, 'colsample_bytree': 0.7}. Best is trial 9 with value: 0.7386330244820384.\n",
      "[I 2025-02-23 06:05:50,310] Trial 29 finished with value: 0.7377181084705706 and parameters: {'num_iterations': 2362, 'objective': 'binary', 'metric': 'auc', 'verbose': -1, 'learning_rate': 0.059120235163729114, 'n_estimators': 1285, 'min_child_samples': 25, 'subsample': 0.7, 'colsample_bytree': 0.5}. Best is trial 9 with value: 0.7386330244820384.\n",
      "[I 2025-02-23 06:05:54,335] Trial 30 finished with value: 0.7383294105213046 and parameters: {'num_iterations': 2539, 'objective': 'binary', 'metric': 'auc', 'verbose': -1, 'learning_rate': 0.042264479046196644, 'n_estimators': 1517, 'min_child_samples': 40, 'subsample': 0.9, 'colsample_bytree': 0.5}. Best is trial 9 with value: 0.7386330244820384.\n",
      "[I 2025-02-23 06:05:58,773] Trial 31 finished with value: 0.738209378572507 and parameters: {'num_iterations': 2578, 'objective': 'binary', 'metric': 'auc', 'verbose': -1, 'learning_rate': 0.03835695924453921, 'n_estimators': 1534, 'min_child_samples': 45, 'subsample': 0.9, 'colsample_bytree': 0.5}. Best is trial 9 with value: 0.7386330244820384.\n",
      "[I 2025-02-23 06:06:04,267] Trial 32 finished with value: 0.7385212400639294 and parameters: {'num_iterations': 2825, 'objective': 'binary', 'metric': 'auc', 'verbose': -1, 'learning_rate': 0.030715429988249755, 'n_estimators': 1681, 'min_child_samples': 45, 'subsample': 1.0, 'colsample_bytree': 0.5}. Best is trial 9 with value: 0.7386330244820384.\n",
      "[I 2025-02-23 06:06:09,921] Trial 33 finished with value: 0.7383311100606087 and parameters: {'num_iterations': 2871, 'objective': 'binary', 'metric': 'auc', 'verbose': -1, 'learning_rate': 0.02964802223811887, 'n_estimators': 1698, 'min_child_samples': 45, 'subsample': 1.0, 'colsample_bytree': 0.5}. Best is trial 9 with value: 0.7386330244820384.\n",
      "[I 2025-02-23 06:06:13,581] Trial 34 finished with value: 0.7383046361621493 and parameters: {'num_iterations': 2737, 'objective': 'binary', 'metric': 'auc', 'verbose': -1, 'learning_rate': 0.03201357999597818, 'n_estimators': 1377, 'min_child_samples': 50, 'subsample': 1.0, 'colsample_bytree': 0.6}. Best is trial 9 with value: 0.7386330244820384.\n",
      "[I 2025-02-23 06:06:18,121] Trial 35 finished with value: 0.7379694099761813 and parameters: {'num_iterations': 1961, 'objective': 'binary', 'metric': 'auc', 'verbose': -1, 'learning_rate': 0.021588144326560834, 'n_estimators': 1876, 'min_child_samples': 10, 'subsample': 0.5, 'colsample_bytree': 0.6}. Best is trial 9 with value: 0.7386330244820384.\n",
      "[I 2025-02-23 06:06:23,849] Trial 36 finished with value: 0.7383789036472082 and parameters: {'num_iterations': 3000, 'objective': 'binary', 'metric': 'auc', 'verbose': -1, 'learning_rate': 0.029740602979192666, 'n_estimators': 1614, 'min_child_samples': 40, 'subsample': 0.6, 'colsample_bytree': 0.5}. Best is trial 9 with value: 0.7386330244820384.\n",
      "[I 2025-02-23 06:06:27,850] Trial 37 finished with value: 0.7382193693222482 and parameters: {'num_iterations': 2246, 'objective': 'binary', 'metric': 'auc', 'verbose': -1, 'learning_rate': 0.024935851884881958, 'n_estimators': 1420, 'min_child_samples': 20, 'subsample': 0.8, 'colsample_bytree': 0.8}. Best is trial 9 with value: 0.7386330244820384.\n",
      "[I 2025-02-23 06:06:33,478] Trial 38 finished with value: 0.7381077437395881 and parameters: {'num_iterations': 2861, 'objective': 'binary', 'metric': 'auc', 'verbose': -1, 'learning_rate': 0.01984556841649715, 'n_estimators': 1746, 'min_child_samples': 15, 'subsample': 1.0, 'colsample_bytree': 0.6}. Best is trial 9 with value: 0.7386330244820384.\n",
      "[I 2025-02-23 06:06:45,594] Trial 39 finished with value: 0.7382653998353639 and parameters: {'num_iterations': 2649, 'objective': 'binary', 'metric': 'auc', 'verbose': -1, 'learning_rate': 0.008846006612176728, 'n_estimators': 995, 'min_child_samples': 25, 'subsample': 0.9, 'colsample_bytree': 0.5}. Best is trial 9 with value: 0.7386330244820384.\n"
     ]
    },
    {
     "name": "stdout",
     "output_type": "stream",
     "text": [
      "Cat val score : 0.7392488731974995\n",
      "LGBM val score : 0.7380298984860408\n",
      "Ensemble val score : 0.7391214951091865\n"
     ]
    },
    {
     "name": "stderr",
     "output_type": "stream",
     "text": [
      "[I 2025-02-23 06:06:51,448] A new study created in memory with name: no-name-aee804d1-40d0-4378-8497-13c8858e0ea7\n"
     ]
    },
    {
     "name": "stdout",
     "output_type": "stream",
     "text": [
      "==================================================\n"
     ]
    },
    {
     "name": "stderr",
     "output_type": "stream",
     "text": [
      "Default metric period is 5 because AUC is/are not implemented for GPU\n"
     ]
    },
    {
     "name": "stdout",
     "output_type": "stream",
     "text": [
      "0:\ttest: 0.7229869\tbest: 0.7229869 (0)\ttotal: 81.3ms\tremaining: 3m 12s\n",
      "300:\ttest: 0.7368685\tbest: 0.7368685 (300)\ttotal: 24.3s\tremaining: 2m 46s\n",
      "600:\ttest: 0.7382850\tbest: 0.7382850 (600)\ttotal: 48.6s\tremaining: 2m 22s\n",
      "900:\ttest: 0.7387384\tbest: 0.7387564 (887)\ttotal: 1m 12s\tremaining: 1m 58s\n",
      "1200:\ttest: 0.7388128\tbest: 0.7388850 (1091)\ttotal: 1m 37s\tremaining: 1m 34s\n",
      "bestTest = 0.7388850152\n",
      "bestIteration = 1091\n",
      "Shrink model to first 1092 iterations.\n"
     ]
    },
    {
     "name": "stderr",
     "output_type": "stream",
     "text": [
      "[I 2025-02-23 06:08:47,040] Trial 0 finished with value: 0.7388850152492523 and parameters: {'iterations': 2366, 'depth': 10, 'learning_rate': 0.01181021951839225, 'l2_leaf_reg': 9.980783802743254}. Best is trial 0 with value: 0.7388850152492523.\n"
     ]
    },
    {
     "name": "stdout",
     "output_type": "stream",
     "text": [
      "저장 완료\n"
     ]
    },
    {
     "name": "stderr",
     "output_type": "stream",
     "text": [
      "Default metric period is 5 because AUC is/are not implemented for GPU\n"
     ]
    },
    {
     "name": "stdout",
     "output_type": "stream",
     "text": [
      "0:\ttest: 0.7070870\tbest: 0.7070870 (0)\ttotal: 29.2ms\tremaining: 1m 3s\n",
      "300:\ttest: 0.7280461\tbest: 0.7280461 (300)\ttotal: 6.98s\tremaining: 43.9s\n",
      "600:\ttest: 0.7321632\tbest: 0.7321632 (600)\ttotal: 13.1s\tremaining: 34.8s\n",
      "900:\ttest: 0.7341126\tbest: 0.7341126 (900)\ttotal: 19.1s\tremaining: 27.4s\n",
      "1200:\ttest: 0.7351990\tbest: 0.7351990 (1200)\ttotal: 24.8s\tremaining: 20.5s\n",
      "1500:\ttest: 0.7359168\tbest: 0.7359168 (1500)\ttotal: 28.9s\tremaining: 13.3s\n",
      "1800:\ttest: 0.7364078\tbest: 0.7364078 (1800)\ttotal: 33s\tremaining: 7.18s\n",
      "2100:\ttest: 0.7367896\tbest: 0.7367896 (2100)\ttotal: 37.1s\tremaining: 1.63s\n",
      "2192:\ttest: 0.7368957\tbest: 0.7368957 (2192)\ttotal: 38.4s\tremaining: 0us\n",
      "bestTest = 0.73689574\n",
      "bestIteration = 2192\n"
     ]
    },
    {
     "name": "stderr",
     "output_type": "stream",
     "text": [
      "[I 2025-02-23 06:09:29,620] Trial 1 finished with value: 0.736895740032196 and parameters: {'iterations': 2193, 'depth': 4, 'learning_rate': 0.005671430811678843, 'l2_leaf_reg': 0.00012325230809466137}. Best is trial 0 with value: 0.7388850152492523.\n",
      "Default metric period is 5 because AUC is/are not implemented for GPU\n"
     ]
    },
    {
     "name": "stdout",
     "output_type": "stream",
     "text": [
      "0:\ttest: 0.7070870\tbest: 0.7070870 (0)\ttotal: 24.4ms\tremaining: 1m 1s\n",
      "300:\ttest: 0.7380150\tbest: 0.7380150 (300)\ttotal: 4.87s\tremaining: 36.2s\n",
      "600:\ttest: 0.7381674\tbest: 0.7382965 (553)\ttotal: 9s\tremaining: 28.9s\n",
      "900:\ttest: 0.7378882\tbest: 0.7383130 (633)\ttotal: 13.2s\tremaining: 23.9s\n"
     ]
    },
    {
     "name": "stderr",
     "output_type": "stream",
     "text": [
      "[I 2025-02-23 06:09:47,316] Trial 2 finished with value: 0.7383130192756653 and parameters: {'iterations': 2535, 'depth': 4, 'learning_rate': 0.09275339199839054, 'l2_leaf_reg': 0.0008705394248343123}. Best is trial 0 with value: 0.7388850152492523.\n"
     ]
    },
    {
     "name": "stdout",
     "output_type": "stream",
     "text": [
      "bestTest = 0.7383130193\n",
      "bestIteration = 633\n",
      "Shrink model to first 634 iterations.\n"
     ]
    },
    {
     "name": "stderr",
     "output_type": "stream",
     "text": [
      "Default metric period is 5 because AUC is/are not implemented for GPU\n"
     ]
    },
    {
     "name": "stdout",
     "output_type": "stream",
     "text": [
      "0:\ttest: 0.7070870\tbest: 0.7070870 (0)\ttotal: 23.6ms\tremaining: 55.1s\n",
      "300:\ttest: 0.7371896\tbest: 0.7371896 (300)\ttotal: 4.83s\tremaining: 32.6s\n",
      "600:\ttest: 0.7381034\tbest: 0.7381559 (581)\ttotal: 8.94s\tremaining: 25.8s\n",
      "900:\ttest: 0.7383596\tbest: 0.7385119 (818)\ttotal: 13.1s\tremaining: 20.9s\n"
     ]
    },
    {
     "name": "stderr",
     "output_type": "stream",
     "text": [
      "[I 2025-02-23 06:10:07,653] Trial 3 finished with value: 0.7385118901729584 and parameters: {'iterations': 2334, 'depth': 4, 'learning_rate': 0.04657568321363276, 'l2_leaf_reg': 0.0008640473331457248}. Best is trial 0 with value: 0.7388850152492523.\n"
     ]
    },
    {
     "name": "stdout",
     "output_type": "stream",
     "text": [
      "bestTest = 0.7385118902\n",
      "bestIteration = 818\n",
      "Shrink model to first 819 iterations.\n"
     ]
    },
    {
     "name": "stderr",
     "output_type": "stream",
     "text": [
      "Default metric period is 5 because AUC is/are not implemented for GPU\n"
     ]
    },
    {
     "name": "stdout",
     "output_type": "stream",
     "text": [
      "0:\ttest: 0.7207196\tbest: 0.7207196 (0)\ttotal: 94.8ms\tremaining: 2m 45s\n",
      "300:\ttest: 0.7363730\tbest: 0.7363730 (300)\ttotal: 24.3s\tremaining: 1m 56s\n",
      "600:\ttest: 0.7365804\tbest: 0.7366558 (400)\ttotal: 48.6s\tremaining: 1m 32s\n",
      "bestTest = 0.7366557717\n",
      "bestIteration = 400\n",
      "Shrink model to first 401 iterations.\n"
     ]
    },
    {
     "name": "stderr",
     "output_type": "stream",
     "text": [
      "[I 2025-02-23 06:11:08,629] Trial 4 finished with value: 0.7366557717323303 and parameters: {'iterations': 1742, 'depth': 10, 'learning_rate': 0.012622767482095846, 'l2_leaf_reg': 0.00021158816350109617}. Best is trial 0 with value: 0.7388850152492523.\n",
      "Default metric period is 5 because AUC is/are not implemented for GPU\n"
     ]
    },
    {
     "name": "stdout",
     "output_type": "stream",
     "text": [
      "0:\ttest: 0.7070870\tbest: 0.7070870 (0)\ttotal: 25.2ms\tremaining: 52.5s\n",
      "300:\ttest: 0.7381578\tbest: 0.7381578 (300)\ttotal: 5.11s\tremaining: 30.2s\n",
      "600:\ttest: 0.7385197\tbest: 0.7385628 (579)\ttotal: 9.22s\tremaining: 22.7s\n",
      "900:\ttest: 0.7383904\tbest: 0.7386316 (834)\ttotal: 13.4s\tremaining: 17.6s\n"
     ]
    },
    {
     "name": "stderr",
     "output_type": "stream",
     "text": [
      "[I 2025-02-23 06:11:29,191] Trial 5 finished with value: 0.7386316061019897 and parameters: {'iterations': 2082, 'depth': 4, 'learning_rate': 0.06995196593094148, 'l2_leaf_reg': 0.0018080296485396804}. Best is trial 0 with value: 0.7388850152492523.\n"
     ]
    },
    {
     "name": "stdout",
     "output_type": "stream",
     "text": [
      "bestTest = 0.7386316061\n",
      "bestIteration = 834\n",
      "Shrink model to first 835 iterations.\n"
     ]
    },
    {
     "name": "stderr",
     "output_type": "stream",
     "text": [
      "Default metric period is 5 because AUC is/are not implemented for GPU\n"
     ]
    },
    {
     "name": "stdout",
     "output_type": "stream",
     "text": [
      "0:\ttest: 0.7117733\tbest: 0.7117733 (0)\ttotal: 17.6ms\tremaining: 35.1s\n",
      "300:\ttest: 0.7383894\tbest: 0.7383894 (300)\ttotal: 6.37s\tremaining: 35.9s\n",
      "600:\ttest: 0.7384782\tbest: 0.7385443 (573)\ttotal: 11.7s\tremaining: 27.2s\n",
      "bestTest = 0.7385443151\n",
      "bestIteration = 573\n",
      "Shrink model to first 574 iterations.\n"
     ]
    },
    {
     "name": "stderr",
     "output_type": "stream",
     "text": [
      "[I 2025-02-23 06:11:49,695] Trial 6 finished with value: 0.7385443150997162 and parameters: {'iterations': 1997, 'depth': 5, 'learning_rate': 0.07985155992831598, 'l2_leaf_reg': 62.52181000710482}. Best is trial 0 with value: 0.7388850152492523.\n",
      "Default metric period is 5 because AUC is/are not implemented for GPU\n"
     ]
    },
    {
     "name": "stdout",
     "output_type": "stream",
     "text": [
      "0:\ttest: 0.7192672\tbest: 0.7192672 (0)\ttotal: 28.8ms\tremaining: 55.5s\n",
      "300:\ttest: 0.7369714\tbest: 0.7376814 (143)\ttotal: 8.53s\tremaining: 46.1s\n"
     ]
    },
    {
     "name": "stderr",
     "output_type": "stream",
     "text": [
      "[I 2025-02-23 06:12:06,133] Trial 7 finished with value: 0.7376813888549805 and parameters: {'iterations': 1927, 'depth': 7, 'learning_rate': 0.0941937211034094, 'l2_leaf_reg': 0.05654822767791934}. Best is trial 0 with value: 0.7388850152492523.\n"
     ]
    },
    {
     "name": "stdout",
     "output_type": "stream",
     "text": [
      "bestTest = 0.7376813889\n",
      "bestIteration = 143\n",
      "Shrink model to first 144 iterations.\n"
     ]
    },
    {
     "name": "stderr",
     "output_type": "stream",
     "text": [
      "Default metric period is 5 because AUC is/are not implemented for GPU\n"
     ]
    },
    {
     "name": "stdout",
     "output_type": "stream",
     "text": [
      "0:\ttest: 0.7192672\tbest: 0.7192672 (0)\ttotal: 32.1ms\tremaining: 1m 1s\n",
      "300:\ttest: 0.7384228\tbest: 0.7384393 (290)\ttotal: 9.37s\tremaining: 49.9s\n",
      "600:\ttest: 0.7384053\tbest: 0.7387751 (466)\ttotal: 17.9s\tremaining: 38.8s\n",
      "bestTest = 0.7387750745\n",
      "bestIteration = 466\n",
      "Shrink model to first 467 iterations.\n"
     ]
    },
    {
     "name": "stderr",
     "output_type": "stream",
     "text": [
      "[I 2025-02-23 06:12:34,647] Trial 8 finished with value: 0.7387750744819641 and parameters: {'iterations': 1904, 'depth': 7, 'learning_rate': 0.05155602859187331, 'l2_leaf_reg': 1.299974533316308}. Best is trial 0 with value: 0.7388850152492523.\n",
      "Default metric period is 5 because AUC is/are not implemented for GPU\n"
     ]
    },
    {
     "name": "stdout",
     "output_type": "stream",
     "text": [
      "0:\ttest: 0.7173428\tbest: 0.7173428 (0)\ttotal: 28.2ms\tremaining: 1m 14s\n",
      "300:\ttest: 0.7379362\tbest: 0.7379423 (299)\ttotal: 8.06s\tremaining: 1m 2s\n",
      "600:\ttest: 0.7384901\tbest: 0.7385191 (526)\ttotal: 14.8s\tremaining: 50.1s\n",
      "900:\ttest: 0.7382237\tbest: 0.7385719 (627)\ttotal: 21.4s\tremaining: 41.3s\n",
      "bestTest = 0.7385719419\n",
      "bestIteration = 627\n",
      "Shrink model to first 628 iterations.\n"
     ]
    },
    {
     "name": "stderr",
     "output_type": "stream",
     "text": [
      "[I 2025-02-23 06:13:00,613] Trial 9 finished with value: 0.7385719418525696 and parameters: {'iterations': 2639, 'depth': 6, 'learning_rate': 0.03968704290444751, 'l2_leaf_reg': 0.30557194377967184}. Best is trial 0 with value: 0.7388850152492523.\n",
      "Default metric period is 5 because AUC is/are not implemented for GPU\n"
     ]
    },
    {
     "name": "stdout",
     "output_type": "stream",
     "text": [
      "0:\ttest: 0.7233984\tbest: 0.7233984 (0)\ttotal: 104ms\tremaining: 5m 5s\n",
      "300:\ttest: 0.7382194\tbest: 0.7382358 (296)\ttotal: 25.5s\tremaining: 3m 43s\n",
      "600:\ttest: 0.7384177\tbest: 0.7386234 (519)\ttotal: 49.8s\tremaining: 3m 14s\n",
      "bestTest = 0.7386234105\n",
      "bestIteration = 519\n",
      "Shrink model to first 520 iterations.\n"
     ]
    },
    {
     "name": "stderr",
     "output_type": "stream",
     "text": [
      "[I 2025-02-23 06:14:12,362] Trial 10 finished with value: 0.7386234104633331 and parameters: {'iterations': 2945, 'depth': 10, 'learning_rate': 0.025911330134996406, 'l2_leaf_reg': 97.18545559492446}. Best is trial 0 with value: 0.7388850152492523.\n",
      "Default metric period is 5 because AUC is/are not implemented for GPU\n"
     ]
    },
    {
     "name": "stdout",
     "output_type": "stream",
     "text": [
      "0:\ttest: 0.7192781\tbest: 0.7192781 (0)\ttotal: 50.2ms\tremaining: 1m 22s\n",
      "300:\ttest: 0.7387579\tbest: 0.7388816 (264)\ttotal: 13.1s\tremaining: 58.5s\n",
      "bestTest = 0.7388815582\n",
      "bestIteration = 264\n",
      "Shrink model to first 265 iterations.\n"
     ]
    },
    {
     "name": "stderr",
     "output_type": "stream",
     "text": [
      "[I 2025-02-23 06:14:40,796] Trial 11 finished with value: 0.7388815581798553 and parameters: {'iterations': 1645, 'depth': 8, 'learning_rate': 0.05541979182757262, 'l2_leaf_reg': 5.2672194422778995}. Best is trial 0 with value: 0.7388850152492523.\n",
      "Default metric period is 5 because AUC is/are not implemented for GPU\n"
     ]
    },
    {
     "name": "stdout",
     "output_type": "stream",
     "text": [
      "0:\ttest: 0.7208436\tbest: 0.7208436 (0)\ttotal: 58ms\tremaining: 1m 31s\n",
      "300:\ttest: 0.7382349\tbest: 0.7382384 (284)\ttotal: 16.3s\tremaining: 1m 9s\n",
      "600:\ttest: 0.7385285\tbest: 0.7385402 (587)\ttotal: 32.3s\tremaining: 52.4s\n",
      "900:\ttest: 0.7377833\tbest: 0.7386314 (660)\ttotal: 48.4s\tremaining: 36.1s\n",
      "bestTest = 0.7386314273\n",
      "bestIteration = 660\n",
      "Shrink model to first 661 iterations.\n"
     ]
    },
    {
     "name": "stderr",
     "output_type": "stream",
     "text": [
      "[I 2025-02-23 06:15:36,461] Trial 12 finished with value: 0.7386314272880554 and parameters: {'iterations': 1574, 'depth': 9, 'learning_rate': 0.02806616524326412, 'l2_leaf_reg': 5.825638504015783}. Best is trial 0 with value: 0.7388850152492523.\n",
      "Default metric period is 5 because AUC is/are not implemented for GPU\n"
     ]
    },
    {
     "name": "stdout",
     "output_type": "stream",
     "text": [
      "0:\ttest: 0.7208396\tbest: 0.7208396 (0)\ttotal: 68.6ms\tremaining: 2m 44s\n",
      "300:\ttest: 0.7385648\tbest: 0.7389716 (253)\ttotal: 16.6s\tremaining: 1m 56s\n",
      "bestTest = 0.738971591\n",
      "bestIteration = 253\n",
      "Shrink model to first 254 iterations.\n"
     ]
    },
    {
     "name": "stderr",
     "output_type": "stream",
     "text": [
      "[I 2025-02-23 06:16:10,673] Trial 13 finished with value: 0.7389715909957886 and parameters: {'iterations': 2402, 'depth': 9, 'learning_rate': 0.0628933885949758, 'l2_leaf_reg': 7.162267458446158}. Best is trial 13 with value: 0.7389715909957886.\n"
     ]
    },
    {
     "name": "stdout",
     "output_type": "stream",
     "text": [
      "저장 완료\n"
     ]
    },
    {
     "name": "stderr",
     "output_type": "stream",
     "text": [
      "Default metric period is 5 because AUC is/are not implemented for GPU\n"
     ]
    },
    {
     "name": "stdout",
     "output_type": "stream",
     "text": [
      "0:\ttest: 0.7212515\tbest: 0.7212515 (0)\ttotal: 77.2ms\tremaining: 3m 2s\n",
      "300:\ttest: 0.7381337\tbest: 0.7385083 (253)\ttotal: 16.7s\tremaining: 1m 54s\n",
      "bestTest = 0.7385083139\n",
      "bestIteration = 253\n",
      "Shrink model to first 254 iterations.\n"
     ]
    },
    {
     "name": "stderr",
     "output_type": "stream",
     "text": [
      "[I 2025-02-23 06:16:44,864] Trial 14 finished with value: 0.7385083138942719 and parameters: {'iterations': 2370, 'depth': 9, 'learning_rate': 0.06308101933412968, 'l2_leaf_reg': 15.763602183712758}. Best is trial 13 with value: 0.7389715909957886.\n",
      "Default metric period is 5 because AUC is/are not implemented for GPU\n"
     ]
    },
    {
     "name": "stdout",
     "output_type": "stream",
     "text": [
      "0:\ttest: 0.7208350\tbest: 0.7208350 (0)\ttotal: 80.4ms\tremaining: 3m 42s\n",
      "300:\ttest: 0.7378516\tbest: 0.7378886 (287)\ttotal: 18.2s\tremaining: 2m 28s\n",
      "600:\ttest: 0.7375129\tbest: 0.7382159 (384)\ttotal: 35.1s\tremaining: 2m 6s\n",
      "bestTest = 0.7382159233\n",
      "bestIteration = 384\n",
      "Shrink model to first 385 iterations.\n"
     ]
    },
    {
     "name": "stderr",
     "output_type": "stream",
     "text": [
      "[I 2025-02-23 06:17:28,575] Trial 15 finished with value: 0.7382159233093262 and parameters: {'iterations': 2762, 'depth': 9, 'learning_rate': 0.03581205446809423, 'l2_leaf_reg': 0.7567704278549603}. Best is trial 13 with value: 0.7389715909957886.\n",
      "Default metric period is 5 because AUC is/are not implemented for GPU\n"
     ]
    },
    {
     "name": "stdout",
     "output_type": "stream",
     "text": [
      "0:\ttest: 0.7192833\tbest: 0.7192833 (0)\ttotal: 40.7ms\tremaining: 1m 39s\n",
      "300:\ttest: 0.7376827\tbest: 0.7376988 (298)\ttotal: 11.7s\tremaining: 1m 23s\n",
      "600:\ttest: 0.7383724\tbest: 0.7384487 (534)\ttotal: 23.1s\tremaining: 1m 10s\n",
      "bestTest = 0.7384486794\n",
      "bestIteration = 534\n",
      "Shrink model to first 535 iterations.\n"
     ]
    },
    {
     "name": "stderr",
     "output_type": "stream",
     "text": [
      "[I 2025-02-23 06:18:04,433] Trial 16 finished with value: 0.7384486794471741 and parameters: {'iterations': 2447, 'depth': 8, 'learning_rate': 0.02133436249939709, 'l2_leaf_reg': 0.06359318338456689}. Best is trial 13 with value: 0.7389715909957886.\n",
      "Default metric period is 5 because AUC is/are not implemented for GPU\n"
     ]
    },
    {
     "name": "stdout",
     "output_type": "stream",
     "text": [
      "0:\ttest: 0.7235018\tbest: 0.7235018 (0)\ttotal: 103ms\tremaining: 3m 48s\n",
      "300:\ttest: 0.7384747\tbest: 0.7385145 (296)\ttotal: 26.2s\tremaining: 2m 46s\n",
      "bestTest = 0.7385145128\n",
      "bestIteration = 296\n",
      "Shrink model to first 297 iterations.\n"
     ]
    },
    {
     "name": "stderr",
     "output_type": "stream",
     "text": [
      "[I 2025-02-23 06:19:02,897] Trial 17 finished with value: 0.7385145127773285 and parameters: {'iterations': 2217, 'depth': 10, 'learning_rate': 0.03982864020580086, 'l2_leaf_reg': 17.151651377668287}. Best is trial 13 with value: 0.7389715909957886.\n",
      "Default metric period is 5 because AUC is/are not implemented for GPU\n"
     ]
    },
    {
     "name": "stdout",
     "output_type": "stream",
     "text": [
      "0:\ttest: 0.7192790\tbest: 0.7192790 (0)\ttotal: 49.5ms\tremaining: 2m 12s\n",
      "300:\ttest: 0.7379066\tbest: 0.7381012 (160)\ttotal: 15.2s\tremaining: 2m\n"
     ]
    },
    {
     "name": "stderr",
     "output_type": "stream",
     "text": [
      "[I 2025-02-23 06:19:29,813] Trial 18 finished with value: 0.7381011545658112 and parameters: {'iterations': 2681, 'depth': 8, 'learning_rate': 0.06209640602050908, 'l2_leaf_reg': 1.9095322154473866}. Best is trial 13 with value: 0.7389715909957886.\n"
     ]
    },
    {
     "name": "stdout",
     "output_type": "stream",
     "text": [
      "bestTest = 0.7381011546\n",
      "bestIteration = 160\n",
      "Shrink model to first 161 iterations.\n"
     ]
    },
    {
     "name": "stderr",
     "output_type": "stream",
     "text": [
      "Default metric period is 5 because AUC is/are not implemented for GPU\n"
     ]
    },
    {
     "name": "stdout",
     "output_type": "stream",
     "text": [
      "0:\ttest: 0.7212313\tbest: 0.7212313 (0)\ttotal: 76ms\tremaining: 3m 38s\n",
      "300:\ttest: 0.7374504\tbest: 0.7374504 (300)\ttotal: 16.1s\tremaining: 2m 17s\n",
      "600:\ttest: 0.7386205\tbest: 0.7386205 (600)\ttotal: 32.1s\tremaining: 2m 1s\n",
      "900:\ttest: 0.7388555\tbest: 0.7388574 (895)\ttotal: 48.1s\tremaining: 1m 45s\n",
      "1200:\ttest: 0.7387592\tbest: 0.7388632 (922)\ttotal: 1m 4s\tremaining: 1m 29s\n",
      "bestTest = 0.7388631999\n",
      "bestIteration = 922\n",
      "Shrink model to first 923 iterations.\n"
     ]
    },
    {
     "name": "stderr",
     "output_type": "stream",
     "text": [
      "[I 2025-02-23 06:20:39,191] Trial 19 finished with value: 0.7388631999492645 and parameters: {'iterations': 2883, 'depth': 9, 'learning_rate': 0.016343481365864485, 'l2_leaf_reg': 26.173311383243338}. Best is trial 13 with value: 0.7389715909957886.\n",
      "Default metric period is 5 because AUC is/are not implemented for GPU\n"
     ]
    },
    {
     "name": "stdout",
     "output_type": "stream",
     "text": [
      "0:\ttest: 0.7207257\tbest: 0.7207257 (0)\ttotal: 109ms\tremaining: 4m 34s\n",
      "300:\ttest: 0.7366216\tbest: 0.7373860 (149)\ttotal: 25s\tremaining: 3m 5s\n",
      "bestTest = 0.7373859584\n",
      "bestIteration = 149\n",
      "Shrink model to first 150 iterations.\n"
     ]
    },
    {
     "name": "stderr",
     "output_type": "stream",
     "text": [
      "[I 2025-02-23 06:21:20,427] Trial 20 finished with value: 0.7373859584331512 and parameters: {'iterations': 2533, 'depth': 10, 'learning_rate': 0.04772365023034583, 'l2_leaf_reg': 0.22269272259280082}. Best is trial 13 with value: 0.7389715909957886.\n",
      "Default metric period is 5 because AUC is/are not implemented for GPU\n"
     ]
    },
    {
     "name": "stdout",
     "output_type": "stream",
     "text": [
      "0:\ttest: 0.7192768\tbest: 0.7192768 (0)\ttotal: 57.6ms\tremaining: 1m 41s\n",
      "300:\ttest: 0.7382618\tbest: 0.7385406 (251)\ttotal: 15.4s\tremaining: 1m 14s\n",
      "bestTest = 0.7385406494\n",
      "bestIteration = 251\n",
      "Shrink model to first 252 iterations.\n"
     ]
    },
    {
     "name": "stderr",
     "output_type": "stream",
     "text": [
      "[I 2025-02-23 06:21:49,714] Trial 21 finished with value: 0.7385406494140625 and parameters: {'iterations': 1758, 'depth': 8, 'learning_rate': 0.0576656183892393, 'l2_leaf_reg': 6.367168281600935}. Best is trial 13 with value: 0.7389715909957886.\n",
      "Default metric period is 5 because AUC is/are not implemented for GPU\n"
     ]
    },
    {
     "name": "stdout",
     "output_type": "stream",
     "text": [
      "0:\ttest: 0.7192782\tbest: 0.7192782 (0)\ttotal: 37.9ms\tremaining: 1m 20s\n",
      "300:\ttest: 0.7385981\tbest: 0.7390103 (229)\ttotal: 11.3s\tremaining: 1m 8s\n",
      "bestTest = 0.7390103042\n",
      "bestIteration = 229\n",
      "Shrink model to first 230 iterations.\n"
     ]
    },
    {
     "name": "stderr",
     "output_type": "stream",
     "text": [
      "[I 2025-02-23 06:22:13,619] Trial 22 finished with value: 0.7390103042125702 and parameters: {'iterations': 2134, 'depth': 8, 'learning_rate': 0.0700715719484913, 'l2_leaf_reg': 4.234137239722747}. Best is trial 22 with value: 0.7390103042125702.\n"
     ]
    },
    {
     "name": "stdout",
     "output_type": "stream",
     "text": [
      "저장 완료\n"
     ]
    },
    {
     "name": "stderr",
     "output_type": "stream",
     "text": [
      "Default metric period is 5 because AUC is/are not implemented for GPU\n"
     ]
    },
    {
     "name": "stdout",
     "output_type": "stream",
     "text": [
      "0:\ttest: 0.7208365\tbest: 0.7208365 (0)\ttotal: 75.8ms\tremaining: 2m 42s\n",
      "300:\ttest: 0.7372688\tbest: 0.7382483 (191)\ttotal: 18.2s\tremaining: 1m 51s\n",
      "bestTest = 0.7382482886\n",
      "bestIteration = 191\n",
      "Shrink model to first 192 iterations.\n"
     ]
    },
    {
     "name": "stderr",
     "output_type": "stream",
     "text": [
      "[I 2025-02-23 06:22:46,151] Trial 23 finished with value: 0.7382482886314392 and parameters: {'iterations': 2142, 'depth': 9, 'learning_rate': 0.07305561011068513, 'l2_leaf_reg': 1.9652793761322365}. Best is trial 22 with value: 0.7390103042125702.\n",
      "Default metric period is 5 because AUC is/are not implemented for GPU\n"
     ]
    },
    {
     "name": "stdout",
     "output_type": "stream",
     "text": [
      "0:\ttest: 0.7173426\tbest: 0.7173426 (0)\ttotal: 39.3ms\tremaining: 1m 29s\n",
      "300:\ttest: 0.7391725\tbest: 0.7391725 (300)\ttotal: 9.29s\tremaining: 1m 1s\n",
      "600:\ttest: 0.7388181\tbest: 0.7392182 (305)\ttotal: 17.5s\tremaining: 49.2s\n",
      "bestTest = 0.7392182052\n",
      "bestIteration = 305\n",
      "Shrink model to first 306 iterations.\n"
     ]
    },
    {
     "name": "stderr",
     "output_type": "stream",
     "text": [
      "[I 2025-02-23 06:23:07,875] Trial 24 finished with value: 0.7392182052135468 and parameters: {'iterations': 2292, 'depth': 6, 'learning_rate': 0.0802711624870801, 'l2_leaf_reg': 27.79322090252406}. Best is trial 24 with value: 0.7392182052135468.\n"
     ]
    },
    {
     "name": "stdout",
     "output_type": "stream",
     "text": [
      "저장 완료\n"
     ]
    },
    {
     "name": "stderr",
     "output_type": "stream",
     "text": [
      "Default metric period is 5 because AUC is/are not implemented for GPU\n"
     ]
    },
    {
     "name": "stdout",
     "output_type": "stream",
     "text": [
      "0:\ttest: 0.7173680\tbest: 0.7173680 (0)\ttotal: 25ms\tremaining: 57.1s\n",
      "300:\ttest: 0.7391577\tbest: 0.7391577 (300)\ttotal: 6.85s\tremaining: 45.1s\n",
      "600:\ttest: 0.7392808\tbest: 0.7393501 (468)\ttotal: 13.5s\tremaining: 37.7s\n"
     ]
    },
    {
     "name": "stderr",
     "output_type": "stream",
     "text": [
      "[I 2025-02-23 06:23:28,976] Trial 25 finished with value: 0.7393501400947571 and parameters: {'iterations': 2284, 'depth': 6, 'learning_rate': 0.08195994388582707, 'l2_leaf_reg': 39.250701347089205}. Best is trial 25 with value: 0.7393501400947571.\n"
     ]
    },
    {
     "name": "stdout",
     "output_type": "stream",
     "text": [
      "bestTest = 0.7393501401\n",
      "bestIteration = 468\n",
      "Shrink model to first 469 iterations.\n",
      "저장 완료\n"
     ]
    },
    {
     "name": "stderr",
     "output_type": "stream",
     "text": [
      "Default metric period is 5 because AUC is/are not implemented for GPU\n"
     ]
    },
    {
     "name": "stdout",
     "output_type": "stream",
     "text": [
      "0:\ttest: 0.7173680\tbest: 0.7173680 (0)\ttotal: 36.9ms\tremaining: 1m 14s\n",
      "300:\ttest: 0.7391164\tbest: 0.7391164 (300)\ttotal: 7.62s\tremaining: 43.6s\n",
      "600:\ttest: 0.7387368\tbest: 0.7391754 (459)\ttotal: 14.2s\tremaining: 33.7s\n",
      "bestTest = 0.7391754091\n",
      "bestIteration = 459\n",
      "Shrink model to first 460 iterations.\n"
     ]
    },
    {
     "name": "stderr",
     "output_type": "stream",
     "text": [
      "[I 2025-02-23 06:23:50,811] Trial 26 finished with value: 0.739175409078598 and parameters: {'iterations': 2024, 'depth': 6, 'learning_rate': 0.08359756819210692, 'l2_leaf_reg': 41.4459867258238}. Best is trial 25 with value: 0.7393501400947571.\n",
      "Default metric period is 5 because AUC is/are not implemented for GPU\n"
     ]
    },
    {
     "name": "stdout",
     "output_type": "stream",
     "text": [
      "0:\ttest: 0.7173680\tbest: 0.7173680 (0)\ttotal: 37.2ms\tremaining: 1m 15s\n",
      "300:\ttest: 0.7389923\tbest: 0.7390548 (282)\ttotal: 7.67s\tremaining: 44.1s\n"
     ]
    },
    {
     "name": "stderr",
     "output_type": "stream",
     "text": [
      "[I 2025-02-23 06:24:08,878] Trial 27 finished with value: 0.739054799079895 and parameters: {'iterations': 2031, 'depth': 6, 'learning_rate': 0.08337069120103681, 'l2_leaf_reg': 42.16236899903176}. Best is trial 25 with value: 0.7393501400947571.\n"
     ]
    },
    {
     "name": "stdout",
     "output_type": "stream",
     "text": [
      "bestTest = 0.7390547991\n",
      "bestIteration = 282\n",
      "Shrink model to first 283 iterations.\n"
     ]
    },
    {
     "name": "stderr",
     "output_type": "stream",
     "text": [
      "Default metric period is 5 because AUC is/are not implemented for GPU\n"
     ]
    },
    {
     "name": "stdout",
     "output_type": "stream",
     "text": [
      "0:\ttest: 0.7173508\tbest: 0.7173508 (0)\ttotal: 31.5ms\tremaining: 1m 11s\n",
      "300:\ttest: 0.7389167\tbest: 0.7389396 (291)\ttotal: 7.41s\tremaining: 48.2s\n",
      "600:\ttest: 0.7386562\tbest: 0.7389902 (311)\ttotal: 14.1s\tremaining: 38.8s\n",
      "bestTest = 0.7389902472\n",
      "bestIteration = 311\n",
      "Shrink model to first 312 iterations.\n"
     ]
    },
    {
     "name": "stderr",
     "output_type": "stream",
     "text": [
      "[I 2025-02-23 06:24:27,121] Trial 28 finished with value: 0.7389902472496033 and parameters: {'iterations': 2258, 'depth': 6, 'learning_rate': 0.09860635559455763, 'l2_leaf_reg': 34.606468707115845}. Best is trial 25 with value: 0.7393501400947571.\n",
      "Default metric period is 5 because AUC is/are not implemented for GPU\n"
     ]
    },
    {
     "name": "stdout",
     "output_type": "stream",
     "text": [
      "0:\ttest: 0.7117733\tbest: 0.7117733 (0)\ttotal: 30.8ms\tremaining: 57.6s\n",
      "300:\ttest: 0.7386839\tbest: 0.7387268 (286)\ttotal: 5.81s\tremaining: 30.4s\n",
      "600:\ttest: 0.7388667\tbest: 0.7389982 (485)\ttotal: 11.2s\tremaining: 23.6s\n"
     ]
    },
    {
     "name": "stderr",
     "output_type": "stream",
     "text": [
      "[I 2025-02-23 06:24:45,666] Trial 29 finished with value: 0.7389981746673584 and parameters: {'iterations': 1873, 'depth': 5, 'learning_rate': 0.08491700830734877, 'l2_leaf_reg': 93.06057999125709}. Best is trial 25 with value: 0.7393501400947571.\n"
     ]
    },
    {
     "name": "stdout",
     "output_type": "stream",
     "text": [
      "bestTest = 0.7389981747\n",
      "bestIteration = 485\n",
      "Shrink model to first 486 iterations.\n"
     ]
    },
    {
     "name": "stderr",
     "output_type": "stream",
     "text": [
      "Default metric period is 5 because AUC is/are not implemented for GPU\n"
     ]
    },
    {
     "name": "stdout",
     "output_type": "stream",
     "text": [
      "0:\ttest: 0.7117370\tbest: 0.7117370 (0)\ttotal: 30.8ms\tremaining: 1m 11s\n",
      "300:\ttest: 0.7382718\tbest: 0.7382718 (300)\ttotal: 6.5s\tremaining: 43.4s\n",
      "600:\ttest: 0.7383581\tbest: 0.7384838 (442)\ttotal: 11.8s\tremaining: 33.6s\n"
     ]
    },
    {
     "name": "stderr",
     "output_type": "stream",
     "text": [
      "[I 2025-02-23 06:25:04,141] Trial 30 finished with value: 0.7384837865829468 and parameters: {'iterations': 2309, 'depth': 5, 'learning_rate': 0.08603748912110865, 'l2_leaf_reg': 26.605013075407264}. Best is trial 25 with value: 0.7393501400947571.\n"
     ]
    },
    {
     "name": "stdout",
     "output_type": "stream",
     "text": [
      "bestTest = 0.7384837866\n",
      "bestIteration = 442\n",
      "Shrink model to first 443 iterations.\n"
     ]
    },
    {
     "name": "stderr",
     "output_type": "stream",
     "text": [
      "Default metric period is 5 because AUC is/are not implemented for GPU\n"
     ]
    },
    {
     "name": "stdout",
     "output_type": "stream",
     "text": [
      "0:\ttest: 0.7173770\tbest: 0.7173770 (0)\ttotal: 35.9ms\tremaining: 1m 13s\n",
      "300:\ttest: 0.7392538\tbest: 0.7392563 (291)\ttotal: 7.41s\tremaining: 42.7s\n",
      "600:\ttest: 0.7389369\tbest: 0.7392824 (305)\ttotal: 14.1s\tremaining: 33.6s\n",
      "bestTest = 0.7392823994\n",
      "bestIteration = 305\n",
      "Shrink model to first 306 iterations.\n"
     ]
    },
    {
     "name": "stderr",
     "output_type": "stream",
     "text": [
      "[I 2025-02-23 06:25:22,343] Trial 31 finished with value: 0.7392823994159698 and parameters: {'iterations': 2034, 'depth': 6, 'learning_rate': 0.07806502609151121, 'l2_leaf_reg': 43.94135544017501}. Best is trial 25 with value: 0.7393501400947571.\n",
      "Default metric period is 5 because AUC is/are not implemented for GPU\n"
     ]
    },
    {
     "name": "stdout",
     "output_type": "stream",
     "text": [
      "0:\ttest: 0.7192485\tbest: 0.7192485 (0)\ttotal: 48.1ms\tremaining: 1m 44s\n",
      "300:\ttest: 0.7388657\tbest: 0.7390817 (246)\ttotal: 9.75s\tremaining: 1m 1s\n",
      "bestTest = 0.7390816808\n",
      "bestIteration = 246\n",
      "Shrink model to first 247 iterations.\n"
     ]
    },
    {
     "name": "stderr",
     "output_type": "stream",
     "text": [
      "[I 2025-02-23 06:25:43,132] Trial 32 finished with value: 0.7390816807746887 and parameters: {'iterations': 2184, 'depth': 7, 'learning_rate': 0.07728774626485119, 'l2_leaf_reg': 16.16176344993061}. Best is trial 25 with value: 0.7393501400947571.\n",
      "Default metric period is 5 because AUC is/are not implemented for GPU\n"
     ]
    },
    {
     "name": "stdout",
     "output_type": "stream",
     "text": [
      "0:\ttest: 0.7173680\tbest: 0.7173680 (0)\ttotal: 36.8ms\tremaining: 1m 13s\n",
      "300:\ttest: 0.7385007\tbest: 0.7385007 (300)\ttotal: 7.46s\tremaining: 42.1s\n",
      "600:\ttest: 0.7382327\tbest: 0.7385271 (306)\ttotal: 14.1s\tremaining: 32.7s\n",
      "bestTest = 0.738527149\n",
      "bestIteration = 306\n",
      "Shrink model to first 307 iterations.\n"
     ]
    },
    {
     "name": "stderr",
     "output_type": "stream",
     "text": [
      "[I 2025-02-23 06:26:01,453] Trial 33 finished with value: 0.7385271489620209 and parameters: {'iterations': 1999, 'depth': 6, 'learning_rate': 0.09026348362149589, 'l2_leaf_reg': 41.20797494960404}. Best is trial 25 with value: 0.7393501400947571.\n",
      "Default metric period is 5 because AUC is/are not implemented for GPU\n"
     ]
    },
    {
     "name": "stdout",
     "output_type": "stream",
     "text": [
      "0:\ttest: 0.7117317\tbest: 0.7117317 (0)\ttotal: 32.4ms\tremaining: 58.1s\n",
      "300:\ttest: 0.7383544\tbest: 0.7383758 (274)\ttotal: 6.56s\tremaining: 32.5s\n",
      "600:\ttest: 0.7385434\tbest: 0.7386551 (447)\ttotal: 13s\tremaining: 25.9s\n"
     ]
    },
    {
     "name": "stderr",
     "output_type": "stream",
     "text": [
      "[I 2025-02-23 06:26:21,679] Trial 34 finished with value: 0.7386550605297089 and parameters: {'iterations': 1793, 'depth': 5, 'learning_rate': 0.07732981526129525, 'l2_leaf_reg': 13.465686762275737}. Best is trial 25 with value: 0.7393501400947571.\n"
     ]
    },
    {
     "name": "stdout",
     "output_type": "stream",
     "text": [
      "bestTest = 0.7386550605\n",
      "bestIteration = 447\n",
      "Shrink model to first 448 iterations.\n"
     ]
    },
    {
     "name": "stderr",
     "output_type": "stream",
     "text": [
      "Default metric period is 5 because AUC is/are not implemented for GPU\n"
     ]
    },
    {
     "name": "stdout",
     "output_type": "stream",
     "text": [
      "0:\ttest: 0.7173770\tbest: 0.7173770 (0)\ttotal: 26.6ms\tremaining: 1m 6s\n",
      "300:\ttest: 0.7386357\tbest: 0.7386725 (291)\ttotal: 8.2s\tremaining: 1m\n",
      "600:\ttest: 0.7385824\tbest: 0.7387683 (434)\ttotal: 16.4s\tremaining: 52.3s\n"
     ]
    },
    {
     "name": "stderr",
     "output_type": "stream",
     "text": [
      "[I 2025-02-23 06:26:45,628] Trial 35 finished with value: 0.7387682795524597 and parameters: {'iterations': 2523, 'depth': 6, 'learning_rate': 0.08916769834262006, 'l2_leaf_reg': 84.88375006192405}. Best is trial 25 with value: 0.7393501400947571.\n"
     ]
    },
    {
     "name": "stdout",
     "output_type": "stream",
     "text": [
      "bestTest = 0.7387682796\n",
      "bestIteration = 434\n",
      "Shrink model to first 435 iterations.\n"
     ]
    },
    {
     "name": "stderr",
     "output_type": "stream",
     "text": [
      "Default metric period is 5 because AUC is/are not implemented for GPU\n"
     ]
    },
    {
     "name": "stdout",
     "output_type": "stream",
     "text": [
      "0:\ttest: 0.7173770\tbest: 0.7173770 (0)\ttotal: 40.8ms\tremaining: 1m 25s\n",
      "300:\ttest: 0.7388615\tbest: 0.7388615 (300)\ttotal: 8.61s\tremaining: 51.4s\n",
      "600:\ttest: 0.7384566\tbest: 0.7389660 (309)\ttotal: 15.3s\tremaining: 38s\n",
      "bestTest = 0.7389660478\n",
      "bestIteration = 309\n",
      "Shrink model to first 310 iterations.\n"
     ]
    },
    {
     "name": "stderr",
     "output_type": "stream",
     "text": [
      "[I 2025-02-23 06:27:05,172] Trial 36 finished with value: 0.7389660477638245 and parameters: {'iterations': 2097, 'depth': 6, 'learning_rate': 0.09639395154276678, 'l2_leaf_reg': 43.0694792820446}. Best is trial 25 with value: 0.7393501400947571.\n",
      "Default metric period is 5 because AUC is/are not implemented for GPU\n"
     ]
    },
    {
     "name": "stdout",
     "output_type": "stream",
     "text": [
      "0:\ttest: 0.7192485\tbest: 0.7192485 (0)\ttotal: 31ms\tremaining: 1m 10s\n",
      "300:\ttest: 0.7388404\tbest: 0.7392199 (233)\ttotal: 9.39s\tremaining: 1m 1s\n"
     ]
    },
    {
     "name": "stderr",
     "output_type": "stream",
     "text": [
      "[I 2025-02-23 06:27:25,245] Trial 37 finished with value: 0.7392198741436005 and parameters: {'iterations': 2279, 'depth': 7, 'learning_rate': 0.08174593241105543, 'l2_leaf_reg': 12.857255323547625}. Best is trial 25 with value: 0.7393501400947571.\n"
     ]
    },
    {
     "name": "stdout",
     "output_type": "stream",
     "text": [
      "bestTest = 0.7392198741\n",
      "bestIteration = 233\n",
      "Shrink model to first 234 iterations.\n"
     ]
    },
    {
     "name": "stderr",
     "output_type": "stream",
     "text": [
      "Default metric period is 5 because AUC is/are not implemented for GPU\n"
     ]
    },
    {
     "name": "stdout",
     "output_type": "stream",
     "text": [
      "0:\ttest: 0.7192487\tbest: 0.7192487 (0)\ttotal: 30.9ms\tremaining: 1m 10s\n",
      "300:\ttest: 0.7390487\tbest: 0.7392701 (262)\ttotal: 9.23s\tremaining: 1m\n",
      "bestTest = 0.7392700911\n",
      "bestIteration = 262\n",
      "Shrink model to first 263 iterations.\n"
     ]
    },
    {
     "name": "stderr",
     "output_type": "stream",
     "text": [
      "[I 2025-02-23 06:27:45,863] Trial 38 finished with value: 0.7392700910568237 and parameters: {'iterations': 2277, 'depth': 7, 'learning_rate': 0.09350437811870628, 'l2_leaf_reg': 11.064511229834194}. Best is trial 25 with value: 0.7393501400947571.\n",
      "Default metric period is 5 because AUC is/are not implemented for GPU\n"
     ]
    },
    {
     "name": "stdout",
     "output_type": "stream",
     "text": [
      "0:\ttest: 0.7192487\tbest: 0.7192487 (0)\ttotal: 42.6ms\tremaining: 1m 43s\n",
      "300:\ttest: 0.7389513\tbest: 0.7390330 (246)\ttotal: 9.8s\tremaining: 1m 9s\n",
      "bestTest = 0.7390330434\n",
      "bestIteration = 246\n",
      "Shrink model to first 247 iterations.\n"
     ]
    },
    {
     "name": "stderr",
     "output_type": "stream",
     "text": [
      "[I 2025-02-23 06:28:07,771] Trial 39 finished with value: 0.739033043384552 and parameters: {'iterations': 2436, 'depth': 7, 'learning_rate': 0.0927523816845462, 'l2_leaf_reg': 8.466592419370127}. Best is trial 25 with value: 0.7393501400947571.\n",
      "[I 2025-02-23 06:28:07,778] A new study created in memory with name: no-name-56bc6230-9c8a-4fa3-9814-2a2584c532c9\n",
      "[I 2025-02-23 06:28:11,814] Trial 0 finished with value: 0.7378688552243156 and parameters: {'num_iterations': 2366, 'objective': 'binary', 'metric': 'auc', 'verbose': -1, 'learning_rate': 0.0652646236447618, 'n_estimators': 236, 'min_child_samples': 45, 'subsample': 0.7, 'colsample_bytree': 0.5}. Best is trial 0 with value: 0.7378688552243156.\n",
      "[I 2025-02-23 06:28:23,550] Trial 1 finished with value: 0.7381030302976396 and parameters: {'num_iterations': 1510, 'objective': 'binary', 'metric': 'auc', 'verbose': -1, 'learning_rate': 0.005231880959249543, 'n_estimators': 1411, 'min_child_samples': 10, 'subsample': 1.0, 'colsample_bytree': 0.5}. Best is trial 1 with value: 0.7381030302976396.\n",
      "[I 2025-02-23 06:28:31,350] Trial 2 finished with value: 0.7378205771895967 and parameters: {'num_iterations': 2334, 'objective': 'binary', 'metric': 'auc', 'verbose': -1, 'learning_rate': 0.006578527777128852, 'n_estimators': 931, 'min_child_samples': 15, 'subsample': 0.5, 'colsample_bytree': 1.0}. Best is trial 1 with value: 0.7381030302976396.\n",
      "[I 2025-02-23 06:28:41,829] Trial 3 finished with value: 0.7380788992220526 and parameters: {'num_iterations': 1620, 'objective': 'binary', 'metric': 'auc', 'verbose': -1, 'learning_rate': 0.0058823249237283685, 'n_estimators': 837, 'min_child_samples': 10, 'subsample': 0.9, 'colsample_bytree': 0.6}. Best is trial 1 with value: 0.7381030302976396.\n",
      "[I 2025-02-23 06:28:46,689] Trial 4 finished with value: 0.737786161518688 and parameters: {'num_iterations': 1997, 'objective': 'binary', 'metric': 'auc', 'verbose': -1, 'learning_rate': 0.010907507425244923, 'n_estimators': 1597, 'min_child_samples': 50, 'subsample': 0.6, 'colsample_bytree': 0.8}. Best is trial 1 with value: 0.7381030302976396.\n",
      "[I 2025-02-23 06:28:50,030] Trial 5 finished with value: 0.7379426184068238 and parameters: {'num_iterations': 2909, 'objective': 'binary', 'metric': 'auc', 'verbose': -1, 'learning_rate': 0.019760591962733942, 'n_estimators': 612, 'min_child_samples': 30, 'subsample': 0.7, 'colsample_bytree': 0.9}. Best is trial 1 with value: 0.7381030302976396.\n",
      "[I 2025-02-23 06:28:54,097] Trial 6 finished with value: 0.7381718894356605 and parameters: {'num_iterations': 2639, 'objective': 'binary', 'metric': 'auc', 'verbose': -1, 'learning_rate': 0.017862094446750985, 'n_estimators': 794, 'min_child_samples': 35, 'subsample': 1.0, 'colsample_bytree': 0.8}. Best is trial 6 with value: 0.7381718894356605.\n",
      "[I 2025-02-23 06:29:00,204] Trial 7 finished with value: 0.7383870797019446 and parameters: {'num_iterations': 1580, 'objective': 'binary', 'metric': 'auc', 'verbose': -1, 'learning_rate': 0.01776722177611332, 'n_estimators': 529, 'min_child_samples': 25, 'subsample': 0.8, 'colsample_bytree': 0.5}. Best is trial 7 with value: 0.7383870797019446.\n",
      "[I 2025-02-23 06:29:03,548] Trial 8 finished with value: 0.7380642903316322 and parameters: {'num_iterations': 1911, 'objective': 'binary', 'metric': 'auc', 'verbose': -1, 'learning_rate': 0.0304747553332844, 'n_estimators': 1328, 'min_child_samples': 10, 'subsample': 0.7, 'colsample_bytree': 0.6}. Best is trial 7 with value: 0.7383870797019446.\n",
      "[I 2025-02-23 06:29:07,879] Trial 9 finished with value: 0.7383076063850452 and parameters: {'num_iterations': 2739, 'objective': 'binary', 'metric': 'auc', 'verbose': -1, 'learning_rate': 0.02691531614176271, 'n_estimators': 1438, 'min_child_samples': 20, 'subsample': 0.6, 'colsample_bytree': 0.5}. Best is trial 7 with value: 0.7383870797019446.\n",
      "[I 2025-02-23 06:29:09,832] Trial 10 finished with value: 0.7380240096617697 and parameters: {'num_iterations': 1887, 'objective': 'binary', 'metric': 'auc', 'verbose': -1, 'learning_rate': 0.08223556891145911, 'n_estimators': 1917, 'min_child_samples': 25, 'subsample': 0.9, 'colsample_bytree': 0.7}. Best is trial 7 with value: 0.7383870797019446.\n",
      "[I 2025-02-23 06:29:13,649] Trial 11 finished with value: 0.7380145152728067 and parameters: {'num_iterations': 2986, 'objective': 'binary', 'metric': 'auc', 'verbose': -1, 'learning_rate': 0.0315761742407037, 'n_estimators': 282, 'min_child_samples': 20, 'subsample': 0.5, 'colsample_bytree': 0.5}. Best is trial 7 with value: 0.7383870797019446.\n",
      "[I 2025-02-23 06:29:16,651] Trial 12 finished with value: 0.7380616616049516 and parameters: {'num_iterations': 2632, 'objective': 'binary', 'metric': 'auc', 'verbose': -1, 'learning_rate': 0.042669301184678446, 'n_estimators': 1182, 'min_child_samples': 35, 'subsample': 0.8, 'colsample_bytree': 0.6}. Best is trial 7 with value: 0.7383870797019446.\n",
      "[I 2025-02-23 06:29:22,205] Trial 13 finished with value: 0.7380986504101338 and parameters: {'num_iterations': 2579, 'objective': 'binary', 'metric': 'auc', 'verbose': -1, 'learning_rate': 0.01407606674720388, 'n_estimators': 1698, 'min_child_samples': 20, 'subsample': 0.6, 'colsample_bytree': 0.7}. Best is trial 7 with value: 0.7383870797019446.\n",
      "[I 2025-02-23 06:29:26,133] Trial 14 finished with value: 0.7381664254962155 and parameters: {'num_iterations': 2122, 'objective': 'binary', 'metric': 'auc', 'verbose': -1, 'learning_rate': 0.02793446010796509, 'n_estimators': 541, 'min_child_samples': 25, 'subsample': 0.8, 'colsample_bytree': 0.5}. Best is trial 7 with value: 0.7383870797019446.\n",
      "[I 2025-02-23 06:29:33,882] Trial 15 finished with value: 0.7382990610378899 and parameters: {'num_iterations': 1748, 'objective': 'binary', 'metric': 'auc', 'verbose': -1, 'learning_rate': 0.012119605516503361, 'n_estimators': 1109, 'min_child_samples': 35, 'subsample': 0.6, 'colsample_bytree': 0.6}. Best is trial 7 with value: 0.7383870797019446.\n",
      "[I 2025-02-23 06:29:37,683] Trial 16 finished with value: 0.738340783139452 and parameters: {'num_iterations': 2808, 'objective': 'binary', 'metric': 'auc', 'verbose': -1, 'learning_rate': 0.020994815812742717, 'n_estimators': 502, 'min_child_samples': 20, 'subsample': 0.8, 'colsample_bytree': 0.7}. Best is trial 7 with value: 0.7383870797019446.\n",
      "[I 2025-02-23 06:29:42,022] Trial 17 finished with value: 0.7379986356987945 and parameters: {'num_iterations': 2183, 'objective': 'binary', 'metric': 'auc', 'verbose': -1, 'learning_rate': 0.018135349245203124, 'n_estimators': 462, 'min_child_samples': 30, 'subsample': 0.9, 'colsample_bytree': 0.9}. Best is trial 7 with value: 0.7383870797019446.\n",
      "[I 2025-02-23 06:29:49,548] Trial 18 finished with value: 0.7381285869213812 and parameters: {'num_iterations': 2434, 'objective': 'binary', 'metric': 'auc', 'verbose': -1, 'learning_rate': 0.008995631742356142, 'n_estimators': 131, 'min_child_samples': 25, 'subsample': 0.8, 'colsample_bytree': 0.7}. Best is trial 7 with value: 0.7383870797019446.\n",
      "[I 2025-02-23 06:29:54,134] Trial 19 finished with value: 0.7379282914493255 and parameters: {'num_iterations': 2813, 'objective': 'binary', 'metric': 'auc', 'verbose': -1, 'learning_rate': 0.014839755909084786, 'n_estimators': 665, 'min_child_samples': 40, 'subsample': 0.9, 'colsample_bytree': 0.8}. Best is trial 7 with value: 0.7383870797019446.\n",
      "[I 2025-02-23 06:29:57,640] Trial 20 finished with value: 0.7378028551243763 and parameters: {'num_iterations': 2471, 'objective': 'binary', 'metric': 'auc', 'verbose': -1, 'learning_rate': 0.021166061374642824, 'n_estimators': 427, 'min_child_samples': 15, 'subsample': 0.8, 'colsample_bytree': 1.0}. Best is trial 7 with value: 0.7383870797019446.\n",
      "[I 2025-02-23 06:30:01,869] Trial 21 finished with value: 0.7382731708597055 and parameters: {'num_iterations': 2737, 'objective': 'binary', 'metric': 'auc', 'verbose': -1, 'learning_rate': 0.025471350728109434, 'n_estimators': 941, 'min_child_samples': 20, 'subsample': 0.7, 'colsample_bytree': 0.6}. Best is trial 7 with value: 0.7383870797019446.\n",
      "[I 2025-02-23 06:30:05,154] Trial 22 finished with value: 0.7379353675685778 and parameters: {'num_iterations': 2824, 'objective': 'binary', 'metric': 'auc', 'verbose': -1, 'learning_rate': 0.04020049272869294, 'n_estimators': 1335, 'min_child_samples': 15, 'subsample': 0.6, 'colsample_bytree': 0.5}. Best is trial 7 with value: 0.7383870797019446.\n",
      "[I 2025-02-23 06:30:08,878] Trial 23 finished with value: 0.7380132247347837 and parameters: {'num_iterations': 2534, 'objective': 'binary', 'metric': 'auc', 'verbose': -1, 'learning_rate': 0.022932205575164847, 'n_estimators': 722, 'min_child_samples': 25, 'subsample': 0.8, 'colsample_bytree': 0.7}. Best is trial 7 with value: 0.7383870797019446.\n",
      "[I 2025-02-23 06:30:16,026] Trial 24 finished with value: 0.7382969882352807 and parameters: {'num_iterations': 2738, 'objective': 'binary', 'metric': 'auc', 'verbose': -1, 'learning_rate': 0.01652842773675478, 'n_estimators': 356, 'min_child_samples': 20, 'subsample': 0.7, 'colsample_bytree': 0.5}. Best is trial 7 with value: 0.7383870797019446.\n",
      "[I 2025-02-23 06:30:20,105] Trial 25 finished with value: 0.7381194379995196 and parameters: {'num_iterations': 1735, 'objective': 'binary', 'metric': 'auc', 'verbose': -1, 'learning_rate': 0.021877566686310565, 'n_estimators': 1533, 'min_child_samples': 15, 'subsample': 0.5, 'colsample_bytree': 0.6}. Best is trial 7 with value: 0.7383870797019446.\n",
      "[I 2025-02-23 06:30:24,522] Trial 26 finished with value: 0.7378212840073447 and parameters: {'num_iterations': 3000, 'objective': 'binary', 'metric': 'auc', 'verbose': -1, 'learning_rate': 0.013868444761038776, 'n_estimators': 1925, 'min_child_samples': 30, 'subsample': 0.9, 'colsample_bytree': 0.9}. Best is trial 7 with value: 0.7383870797019446.\n",
      "[I 2025-02-23 06:30:27,322] Trial 27 finished with value: 0.7378348406129155 and parameters: {'num_iterations': 2082, 'objective': 'binary', 'metric': 'auc', 'verbose': -1, 'learning_rate': 0.03534985959067766, 'n_estimators': 1231, 'min_child_samples': 20, 'subsample': 0.8, 'colsample_bytree': 0.6}. Best is trial 7 with value: 0.7383870797019446.\n",
      "[I 2025-02-23 06:30:31,887] Trial 28 finished with value: 0.7381598020579928 and parameters: {'num_iterations': 2253, 'objective': 'binary', 'metric': 'auc', 'verbose': -1, 'learning_rate': 0.024285447727471113, 'n_estimators': 1000, 'min_child_samples': 25, 'subsample': 0.6, 'colsample_bytree': 0.5}. Best is trial 7 with value: 0.7383870797019446.\n",
      "[I 2025-02-23 06:30:34,600] Trial 29 finished with value: 0.7378073541384688 and parameters: {'num_iterations': 2320, 'objective': 'binary', 'metric': 'auc', 'verbose': -1, 'learning_rate': 0.053674837707710546, 'n_estimators': 163, 'min_child_samples': 40, 'subsample': 0.7, 'colsample_bytree': 0.5}. Best is trial 7 with value: 0.7383870797019446.\n",
      "[I 2025-02-23 06:30:37,796] Trial 30 finished with value: 0.7379791346765454 and parameters: {'num_iterations': 2720, 'objective': 'binary', 'metric': 'auc', 'verbose': -1, 'learning_rate': 0.027527300219809522, 'n_estimators': 1749, 'min_child_samples': 15, 'subsample': 0.7, 'colsample_bytree': 0.7}. Best is trial 7 with value: 0.7383870797019446.\n",
      "[I 2025-02-23 06:30:45,311] Trial 31 finished with value: 0.7382953204630663 and parameters: {'num_iterations': 1735, 'objective': 'binary', 'metric': 'auc', 'verbose': -1, 'learning_rate': 0.011968408691770018, 'n_estimators': 1062, 'min_child_samples': 35, 'subsample': 0.6, 'colsample_bytree': 0.6}. Best is trial 7 with value: 0.7383870797019446.\n",
      "[I 2025-02-23 06:30:51,913] Trial 32 finished with value: 0.7382927274743617 and parameters: {'num_iterations': 1501, 'objective': 'binary', 'metric': 'auc', 'verbose': -1, 'learning_rate': 0.01667431723371217, 'n_estimators': 1175, 'min_child_samples': 40, 'subsample': 0.6, 'colsample_bytree': 0.5}. Best is trial 7 with value: 0.7383870797019446.\n",
      "[I 2025-02-23 06:31:00,758] Trial 33 finished with value: 0.7383256302376188 and parameters: {'num_iterations': 1652, 'objective': 'binary', 'metric': 'auc', 'verbose': -1, 'learning_rate': 0.010065074959579446, 'n_estimators': 1478, 'min_child_samples': 30, 'subsample': 0.5, 'colsample_bytree': 0.6}. Best is trial 7 with value: 0.7383870797019446.\n",
      "[I 2025-02-23 06:31:11,510] Trial 34 finished with value: 0.738233739959495 and parameters: {'num_iterations': 1571, 'objective': 'binary', 'metric': 'auc', 'verbose': -1, 'learning_rate': 0.00851104196803679, 'n_estimators': 1521, 'min_child_samples': 30, 'subsample': 0.5, 'colsample_bytree': 0.5}. Best is trial 7 with value: 0.7383870797019446.\n",
      "[I 2025-02-23 06:31:16,750] Trial 35 finished with value: 0.7382364798709901 and parameters: {'num_iterations': 1606, 'objective': 'binary', 'metric': 'auc', 'verbose': -1, 'learning_rate': 0.020313291704367704, 'n_estimators': 1447, 'min_child_samples': 25, 'subsample': 0.5, 'colsample_bytree': 0.6}. Best is trial 7 with value: 0.7383870797019446.\n",
      "[I 2025-02-23 06:31:28,044] Trial 36 finished with value: 0.7381951191200745 and parameters: {'num_iterations': 1839, 'objective': 'binary', 'metric': 'auc', 'verbose': -1, 'learning_rate': 0.007875599940347531, 'n_estimators': 1731, 'min_child_samples': 20, 'subsample': 0.5, 'colsample_bytree': 0.5}. Best is trial 7 with value: 0.7383870797019446.\n",
      "[I 2025-02-23 06:31:34,284] Trial 37 finished with value: 0.7378762093056035 and parameters: {'num_iterations': 2020, 'objective': 'binary', 'metric': 'auc', 'verbose': -1, 'learning_rate': 0.010264442991948659, 'n_estimators': 554, 'min_child_samples': 10, 'subsample': 1.0, 'colsample_bytree': 0.7}. Best is trial 7 with value: 0.7383870797019446.\n",
      "[I 2025-02-23 06:31:42,709] Trial 38 finished with value: 0.7380454762727 and parameters: {'num_iterations': 1670, 'objective': 'binary', 'metric': 'auc', 'verbose': -1, 'learning_rate': 0.007059043665273918, 'n_estimators': 854, 'min_child_samples': 30, 'subsample': 0.8, 'colsample_bytree': 0.8}. Best is trial 7 with value: 0.7383870797019446.\n",
      "[I 2025-02-23 06:31:57,342] Trial 39 finished with value: 0.7381645631505761 and parameters: {'num_iterations': 2897, 'objective': 'binary', 'metric': 'auc', 'verbose': -1, 'learning_rate': 0.005083799509105381, 'n_estimators': 1362, 'min_child_samples': 25, 'subsample': 0.9, 'colsample_bytree': 0.6}. Best is trial 7 with value: 0.7383870797019446.\n"
     ]
    },
    {
     "name": "stdout",
     "output_type": "stream",
     "text": [
      "Cat val score : 0.7393501665342032\n",
      "LGBM val score : 0.7384356079024956\n",
      "Ensemble val score : 0.7394023638336258\n"
     ]
    },
    {
     "name": "stderr",
     "output_type": "stream",
     "text": [
      "[I 2025-02-23 06:32:04,423] A new study created in memory with name: no-name-6081cd2f-7582-445a-abe0-a878d6be94c1\n"
     ]
    },
    {
     "name": "stdout",
     "output_type": "stream",
     "text": [
      "==================================================\n"
     ]
    },
    {
     "name": "stderr",
     "output_type": "stream",
     "text": [
      "Default metric period is 5 because AUC is/are not implemented for GPU\n"
     ]
    },
    {
     "name": "stdout",
     "output_type": "stream",
     "text": [
      "0:\ttest: 0.7226714\tbest: 0.7226714 (0)\ttotal: 85.6ms\tremaining: 3m 22s\n",
      "300:\ttest: 0.7366987\tbest: 0.7367123 (296)\ttotal: 24.9s\tremaining: 2m 50s\n",
      "600:\ttest: 0.7374378\tbest: 0.7374378 (600)\ttotal: 49.3s\tremaining: 2m 24s\n",
      "900:\ttest: 0.7375415\tbest: 0.7375669 (841)\ttotal: 1m 13s\tremaining: 1m 59s\n",
      "bestTest = 0.7375668883\n",
      "bestIteration = 841\n",
      "Shrink model to first 842 iterations.\n"
     ]
    },
    {
     "name": "stderr",
     "output_type": "stream",
     "text": [
      "[I 2025-02-23 06:33:40,002] Trial 0 finished with value: 0.7375668883323669 and parameters: {'iterations': 2366, 'depth': 10, 'learning_rate': 0.01181021951839225, 'l2_leaf_reg': 9.980783802743254}. Best is trial 0 with value: 0.7375668883323669.\n"
     ]
    },
    {
     "name": "stdout",
     "output_type": "stream",
     "text": [
      "저장 완료\n"
     ]
    },
    {
     "name": "stderr",
     "output_type": "stream",
     "text": [
      "Default metric period is 5 because AUC is/are not implemented for GPU\n"
     ]
    },
    {
     "name": "stdout",
     "output_type": "stream",
     "text": [
      "0:\ttest: 0.7096822\tbest: 0.7096822 (0)\ttotal: 23.8ms\tremaining: 52.3s\n",
      "300:\ttest: 0.7296891\tbest: 0.7296891 (300)\ttotal: 5s\tremaining: 31.4s\n",
      "600:\ttest: 0.7331242\tbest: 0.7331242 (600)\ttotal: 9.09s\tremaining: 24.1s\n",
      "900:\ttest: 0.7345006\tbest: 0.7345006 (900)\ttotal: 13.2s\tremaining: 18.9s\n",
      "1200:\ttest: 0.7353712\tbest: 0.7353712 (1200)\ttotal: 17.3s\tremaining: 14.3s\n",
      "1500:\ttest: 0.7359518\tbest: 0.7359521 (1498)\ttotal: 21.4s\tremaining: 9.86s\n",
      "1800:\ttest: 0.7364236\tbest: 0.7364236 (1800)\ttotal: 25.5s\tremaining: 5.55s\n",
      "2100:\ttest: 0.7367568\tbest: 0.7367577 (2099)\ttotal: 29.6s\tremaining: 1.3s\n",
      "2192:\ttest: 0.7368480\tbest: 0.7368480 (2192)\ttotal: 30.9s\tremaining: 0us\n",
      "bestTest = 0.7368480265\n",
      "bestIteration = 2192\n"
     ]
    },
    {
     "name": "stderr",
     "output_type": "stream",
     "text": [
      "[I 2025-02-23 06:34:14,855] Trial 1 finished with value: 0.7368480265140533 and parameters: {'iterations': 2193, 'depth': 4, 'learning_rate': 0.005671430811678843, 'l2_leaf_reg': 0.00012325230809466137}. Best is trial 0 with value: 0.7375668883323669.\n",
      "Default metric period is 5 because AUC is/are not implemented for GPU\n"
     ]
    },
    {
     "name": "stdout",
     "output_type": "stream",
     "text": [
      "0:\ttest: 0.7096822\tbest: 0.7096822 (0)\ttotal: 15.5ms\tremaining: 39.3s\n",
      "300:\ttest: 0.7380323\tbest: 0.7380422 (293)\ttotal: 4.55s\tremaining: 33.8s\n",
      "600:\ttest: 0.7385332\tbest: 0.7386363 (579)\ttotal: 9.65s\tremaining: 31s\n",
      "900:\ttest: 0.7385694\tbest: 0.7387221 (748)\ttotal: 14.8s\tremaining: 26.8s\n"
     ]
    },
    {
     "name": "stderr",
     "output_type": "stream",
     "text": [
      "[I 2025-02-23 06:34:35,638] Trial 2 finished with value: 0.7387221455574036 and parameters: {'iterations': 2535, 'depth': 4, 'learning_rate': 0.09275339199839054, 'l2_leaf_reg': 0.0008705394248343123}. Best is trial 2 with value: 0.7387221455574036.\n"
     ]
    },
    {
     "name": "stdout",
     "output_type": "stream",
     "text": [
      "bestTest = 0.7387221456\n",
      "bestIteration = 748\n",
      "Shrink model to first 749 iterations.\n",
      "저장 완료\n"
     ]
    },
    {
     "name": "stderr",
     "output_type": "stream",
     "text": [
      "Default metric period is 5 because AUC is/are not implemented for GPU\n"
     ]
    },
    {
     "name": "stdout",
     "output_type": "stream",
     "text": [
      "0:\ttest: 0.7096822\tbest: 0.7096822 (0)\ttotal: 25.3ms\tremaining: 59s\n",
      "300:\ttest: 0.7369622\tbest: 0.7369622 (300)\ttotal: 6.37s\tremaining: 43s\n",
      "600:\ttest: 0.7379384\tbest: 0.7379384 (600)\ttotal: 11.3s\tremaining: 32.6s\n",
      "900:\ttest: 0.7381636\tbest: 0.7381702 (894)\ttotal: 16.3s\tremaining: 26s\n",
      "1200:\ttest: 0.7383421\tbest: 0.7383558 (1182)\ttotal: 21.5s\tremaining: 20.3s\n",
      "1500:\ttest: 0.7384102\tbest: 0.7384812 (1350)\ttotal: 26.6s\tremaining: 14.8s\n",
      "bestTest = 0.738481164\n",
      "bestIteration = 1350\n",
      "Shrink model to first 1351 iterations.\n"
     ]
    },
    {
     "name": "stderr",
     "output_type": "stream",
     "text": [
      "[I 2025-02-23 06:35:08,875] Trial 3 finished with value: 0.7384811639785767 and parameters: {'iterations': 2334, 'depth': 4, 'learning_rate': 0.04657568321363276, 'l2_leaf_reg': 0.0008640473331457248}. Best is trial 2 with value: 0.7387221455574036.\n",
      "Default metric period is 5 because AUC is/are not implemented for GPU\n"
     ]
    },
    {
     "name": "stdout",
     "output_type": "stream",
     "text": [
      "0:\ttest: 0.7226860\tbest: 0.7226860 (0)\ttotal: 102ms\tremaining: 2m 58s\n",
      "300:\ttest: 0.7357504\tbest: 0.7357504 (300)\ttotal: 24.7s\tremaining: 1m 58s\n",
      "600:\ttest: 0.7357839\tbest: 0.7360947 (538)\ttotal: 49.1s\tremaining: 1m 33s\n",
      "bestTest = 0.7360946834\n",
      "bestIteration = 538\n",
      "Shrink model to first 539 iterations.\n"
     ]
    },
    {
     "name": "stderr",
     "output_type": "stream",
     "text": [
      "[I 2025-02-23 06:36:21,631] Trial 4 finished with value: 0.7360946834087372 and parameters: {'iterations': 1742, 'depth': 10, 'learning_rate': 0.012622767482095846, 'l2_leaf_reg': 0.00021158816350109617}. Best is trial 2 with value: 0.7387221455574036.\n",
      "Default metric period is 5 because AUC is/are not implemented for GPU\n"
     ]
    },
    {
     "name": "stdout",
     "output_type": "stream",
     "text": [
      "0:\ttest: 0.7096822\tbest: 0.7096822 (0)\ttotal: 20.4ms\tremaining: 42.5s\n",
      "300:\ttest: 0.7376024\tbest: 0.7376024 (300)\ttotal: 5.04s\tremaining: 29.8s\n",
      "600:\ttest: 0.7381302\tbest: 0.7381461 (587)\ttotal: 9.16s\tremaining: 22.6s\n",
      "900:\ttest: 0.7381725\tbest: 0.7383522 (857)\ttotal: 13.3s\tremaining: 17.4s\n",
      "1200:\ttest: 0.7383608\tbest: 0.7383643 (1197)\ttotal: 17.5s\tremaining: 12.8s\n",
      "1500:\ttest: 0.7381049\tbest: 0.7383819 (1211)\ttotal: 21.7s\tremaining: 8.39s\n",
      "bestTest = 0.7383819222\n",
      "bestIteration = 1211\n",
      "Shrink model to first 1212 iterations.\n"
     ]
    },
    {
     "name": "stderr",
     "output_type": "stream",
     "text": [
      "[I 2025-02-23 06:36:47,558] Trial 5 finished with value: 0.7383819222450256 and parameters: {'iterations': 2082, 'depth': 4, 'learning_rate': 0.06995196593094148, 'l2_leaf_reg': 0.0018080296485396804}. Best is trial 2 with value: 0.7387221455574036.\n",
      "Default metric period is 5 because AUC is/are not implemented for GPU\n"
     ]
    },
    {
     "name": "stdout",
     "output_type": "stream",
     "text": [
      "0:\ttest: 0.7135163\tbest: 0.7135163 (0)\ttotal: 30.1ms\tremaining: 1m\n",
      "300:\ttest: 0.7380949\tbest: 0.7381239 (287)\ttotal: 6.09s\tremaining: 34.3s\n",
      "600:\ttest: 0.7383401\tbest: 0.7383766 (571)\ttotal: 11.4s\tremaining: 26.5s\n",
      "900:\ttest: 0.7382478\tbest: 0.7383835 (642)\ttotal: 16.8s\tremaining: 20.4s\n",
      "bestTest = 0.7383835316\n",
      "bestIteration = 642\n",
      "Shrink model to first 643 iterations.\n"
     ]
    },
    {
     "name": "stderr",
     "output_type": "stream",
     "text": [
      "[I 2025-02-23 06:37:09,217] Trial 6 finished with value: 0.7383835315704346 and parameters: {'iterations': 1997, 'depth': 5, 'learning_rate': 0.07985155992831598, 'l2_leaf_reg': 62.52181000710482}. Best is trial 2 with value: 0.7387221455574036.\n",
      "Default metric period is 5 because AUC is/are not implemented for GPU\n"
     ]
    },
    {
     "name": "stdout",
     "output_type": "stream",
     "text": [
      "0:\ttest: 0.7187333\tbest: 0.7187333 (0)\ttotal: 35.6ms\tremaining: 1m 8s\n",
      "300:\ttest: 0.7378215\tbest: 0.7380344 (169)\ttotal: 9.51s\tremaining: 51.4s\n"
     ]
    },
    {
     "name": "stderr",
     "output_type": "stream",
     "text": [
      "[I 2025-02-23 06:37:27,406] Trial 7 finished with value: 0.7380344271659851 and parameters: {'iterations': 1927, 'depth': 7, 'learning_rate': 0.0941937211034094, 'l2_leaf_reg': 0.05654822767791934}. Best is trial 2 with value: 0.7387221455574036.\n"
     ]
    },
    {
     "name": "stdout",
     "output_type": "stream",
     "text": [
      "bestTest = 0.7380344272\n",
      "bestIteration = 169\n",
      "Shrink model to first 170 iterations.\n"
     ]
    },
    {
     "name": "stderr",
     "output_type": "stream",
     "text": [
      "Default metric period is 5 because AUC is/are not implemented for GPU\n"
     ]
    },
    {
     "name": "stdout",
     "output_type": "stream",
     "text": [
      "0:\ttest: 0.7187326\tbest: 0.7187326 (0)\ttotal: 31ms\tremaining: 59.1s\n",
      "300:\ttest: 0.7379934\tbest: 0.7380007 (297)\ttotal: 9.29s\tremaining: 49.5s\n",
      "600:\ttest: 0.7381397\tbest: 0.7382706 (565)\ttotal: 17.8s\tremaining: 38.5s\n",
      "bestTest = 0.7382705808\n",
      "bestIteration = 565\n",
      "Shrink model to first 566 iterations.\n"
     ]
    },
    {
     "name": "stderr",
     "output_type": "stream",
     "text": [
      "[I 2025-02-23 06:37:56,774] Trial 8 finished with value: 0.7382705807685852 and parameters: {'iterations': 1904, 'depth': 7, 'learning_rate': 0.05155602859187331, 'l2_leaf_reg': 1.299974533316308}. Best is trial 2 with value: 0.7387221455574036.\n",
      "Default metric period is 5 because AUC is/are not implemented for GPU\n"
     ]
    },
    {
     "name": "stdout",
     "output_type": "stream",
     "text": [
      "0:\ttest: 0.7157748\tbest: 0.7157748 (0)\ttotal: 37.8ms\tremaining: 1m 39s\n",
      "300:\ttest: 0.7378229\tbest: 0.7378400 (299)\ttotal: 8.24s\tremaining: 1m 4s\n",
      "600:\ttest: 0.7384589\tbest: 0.7384917 (587)\ttotal: 15.4s\tremaining: 52.1s\n",
      "900:\ttest: 0.7382787\tbest: 0.7385034 (635)\ttotal: 22s\tremaining: 42.4s\n",
      "bestTest = 0.7385034263\n",
      "bestIteration = 635\n",
      "Shrink model to first 636 iterations.\n"
     ]
    },
    {
     "name": "stderr",
     "output_type": "stream",
     "text": [
      "[I 2025-02-23 06:38:23,730] Trial 9 finished with value: 0.7385034263134003 and parameters: {'iterations': 2639, 'depth': 6, 'learning_rate': 0.03968704290444751, 'l2_leaf_reg': 0.30557194377967184}. Best is trial 2 with value: 0.7387221455574036.\n",
      "Default metric period is 5 because AUC is/are not implemented for GPU\n"
     ]
    },
    {
     "name": "stdout",
     "output_type": "stream",
     "text": [
      "0:\ttest: 0.7194988\tbest: 0.7194988 (0)\ttotal: 42.2ms\tremaining: 2m 4s\n",
      "300:\ttest: 0.7349822\tbest: 0.7371724 (101)\ttotal: 11.5s\tremaining: 1m 40s\n",
      "bestTest = 0.737172395\n",
      "bestIteration = 101\n",
      "Shrink model to first 102 iterations.\n"
     ]
    },
    {
     "name": "stderr",
     "output_type": "stream",
     "text": [
      "[I 2025-02-23 06:38:42,866] Trial 10 finished with value: 0.737172394990921 and parameters: {'iterations': 2945, 'depth': 8, 'learning_rate': 0.09878390391236043, 'l2_leaf_reg': 0.009600053278819038}. Best is trial 2 with value: 0.7387221455574036.\n",
      "Default metric period is 5 because AUC is/are not implemented for GPU\n"
     ]
    },
    {
     "name": "stdout",
     "output_type": "stream",
     "text": [
      "0:\ttest: 0.7157748\tbest: 0.7157748 (0)\ttotal: 42ms\tremaining: 1m 53s\n",
      "300:\ttest: 0.7376077\tbest: 0.7376201 (299)\ttotal: 10.2s\tremaining: 1m 21s\n",
      "600:\ttest: 0.7383541\tbest: 0.7383665 (598)\ttotal: 19.9s\tremaining: 1m 9s\n",
      "900:\ttest: 0.7381992\tbest: 0.7384401 (736)\ttotal: 27.6s\tremaining: 54.9s\n",
      "bestTest = 0.7384400964\n",
      "bestIteration = 736\n",
      "Shrink model to first 737 iterations.\n"
     ]
    },
    {
     "name": "stderr",
     "output_type": "stream",
     "text": [
      "[I 2025-02-23 06:39:17,634] Trial 11 finished with value: 0.7384400963783264 and parameters: {'iterations': 2693, 'depth': 6, 'learning_rate': 0.036444582936226384, 'l2_leaf_reg': 0.1959434321475551}. Best is trial 2 with value: 0.7387221455574036.\n",
      "Default metric period is 5 because AUC is/are not implemented for GPU\n"
     ]
    },
    {
     "name": "stdout",
     "output_type": "stream",
     "text": [
      "0:\ttest: 0.7157748\tbest: 0.7157748 (0)\ttotal: 25.3ms\tremaining: 1m 5s\n",
      "300:\ttest: 0.7377902\tbest: 0.7378319 (296)\ttotal: 6.99s\tremaining: 53.5s\n",
      "600:\ttest: 0.7377865\tbest: 0.7379109 (571)\ttotal: 13.6s\tremaining: 45.4s\n",
      "bestTest = 0.7379108965\n",
      "bestIteration = 571\n",
      "Shrink model to first 572 iterations.\n"
     ]
    },
    {
     "name": "stderr",
     "output_type": "stream",
     "text": [
      "[I 2025-02-23 06:39:41,156] Trial 12 finished with value: 0.7379108965396881 and parameters: {'iterations': 2606, 'depth': 6, 'learning_rate': 0.07059971999150161, 'l2_leaf_reg': 0.02442351869606057}. Best is trial 2 with value: 0.7387221455574036.\n",
      "Default metric period is 5 because AUC is/are not implemented for GPU\n"
     ]
    },
    {
     "name": "stdout",
     "output_type": "stream",
     "text": [
      "0:\ttest: 0.7135161\tbest: 0.7135161 (0)\ttotal: 31.2ms\tremaining: 1m 21s\n",
      "300:\ttest: 0.7373142\tbest: 0.7373142 (300)\ttotal: 6.02s\tremaining: 46.5s\n",
      "600:\ttest: 0.7382252\tbest: 0.7382619 (566)\ttotal: 12.2s\tremaining: 41s\n",
      "900:\ttest: 0.7384609\tbest: 0.7384831 (854)\ttotal: 18.5s\tremaining: 35.4s\n",
      "1200:\ttest: 0.7386141\tbest: 0.7386767 (1173)\ttotal: 23.8s\tremaining: 28.3s\n",
      "bestTest = 0.7386766672\n",
      "bestIteration = 1173\n",
      "Shrink model to first 1174 iterations.\n"
     ]
    },
    {
     "name": "stderr",
     "output_type": "stream",
     "text": [
      "[I 2025-02-23 06:40:14,091] Trial 13 finished with value: 0.7386766672134399 and parameters: {'iterations': 2626, 'depth': 5, 'learning_rate': 0.037272505106488114, 'l2_leaf_reg': 0.31754768948715023}. Best is trial 2 with value: 0.7387221455574036.\n",
      "Default metric period is 5 because AUC is/are not implemented for GPU\n"
     ]
    },
    {
     "name": "stdout",
     "output_type": "stream",
     "text": [
      "0:\ttest: 0.7135161\tbest: 0.7135161 (0)\ttotal: 30.2ms\tremaining: 1m 28s\n",
      "300:\ttest: 0.7367121\tbest: 0.7367121 (300)\ttotal: 6.06s\tremaining: 53s\n",
      "600:\ttest: 0.7379304\tbest: 0.7379304 (600)\ttotal: 11.3s\tremaining: 43.9s\n",
      "900:\ttest: 0.7381048\tbest: 0.7381901 (862)\ttotal: 16.6s\tremaining: 37.4s\n",
      "1200:\ttest: 0.7384490\tbest: 0.7384657 (1191)\ttotal: 21.9s\tremaining: 31.6s\n",
      "1500:\ttest: 0.7383727\tbest: 0.7385229 (1260)\ttotal: 27.3s\tremaining: 26s\n",
      "bestTest = 0.7385228574\n",
      "bestIteration = 1260\n",
      "Shrink model to first 1261 iterations.\n"
     ]
    },
    {
     "name": "stderr",
     "output_type": "stream",
     "text": [
      "[I 2025-02-23 06:40:46,575] Trial 14 finished with value: 0.738522857427597 and parameters: {'iterations': 2930, 'depth': 5, 'learning_rate': 0.029128395358770272, 'l2_leaf_reg': 0.0070996374930783175}. Best is trial 2 with value: 0.7387221455574036.\n",
      "Default metric period is 5 because AUC is/are not implemented for GPU\n"
     ]
    },
    {
     "name": "stdout",
     "output_type": "stream",
     "text": [
      "0:\ttest: 0.7135161\tbest: 0.7135161 (0)\ttotal: 32.7ms\tremaining: 49.4s\n",
      "300:\ttest: 0.7379707\tbest: 0.7379743 (299)\ttotal: 7.1s\tremaining: 28.6s\n",
      "600:\ttest: 0.7381592\tbest: 0.7383337 (519)\ttotal: 13.5s\tremaining: 20.6s\n"
     ]
    },
    {
     "name": "stderr",
     "output_type": "stream",
     "text": [
      "[I 2025-02-23 06:41:08,993] Trial 15 finished with value: 0.7383337318897247 and parameters: {'iterations': 1513, 'depth': 5, 'learning_rate': 0.06696600009766787, 'l2_leaf_reg': 1.1304247061212491}. Best is trial 2 with value: 0.7387221455574036.\n"
     ]
    },
    {
     "name": "stdout",
     "output_type": "stream",
     "text": [
      "bestTest = 0.7383337319\n",
      "bestIteration = 519\n",
      "Shrink model to first 520 iterations.\n"
     ]
    },
    {
     "name": "stderr",
     "output_type": "stream",
     "text": [
      "Default metric period is 5 because AUC is/are not implemented for GPU\n"
     ]
    },
    {
     "name": "stdout",
     "output_type": "stream",
     "text": [
      "0:\ttest: 0.7194988\tbest: 0.7194988 (0)\ttotal: 62.3ms\tremaining: 2m 38s\n",
      "300:\ttest: 0.7362097\tbest: 0.7369787 (196)\ttotal: 12.2s\tremaining: 1m 31s\n"
     ]
    },
    {
     "name": "stderr",
     "output_type": "stream",
     "text": [
      "[I 2025-02-23 06:41:32,672] Trial 16 finished with value: 0.7369787096977234 and parameters: {'iterations': 2553, 'depth': 8, 'learning_rate': 0.05800026330531767, 'l2_leaf_reg': 0.0025318268591719957}. Best is trial 2 with value: 0.7387221455574036.\n"
     ]
    },
    {
     "name": "stdout",
     "output_type": "stream",
     "text": [
      "bestTest = 0.7369787097\n",
      "bestIteration = 196\n",
      "Shrink model to first 197 iterations.\n"
     ]
    },
    {
     "name": "stderr",
     "output_type": "stream",
     "text": [
      "Default metric period is 5 because AUC is/are not implemented for GPU\n"
     ]
    },
    {
     "name": "stdout",
     "output_type": "stream",
     "text": [
      "0:\ttest: 0.7135161\tbest: 0.7135161 (0)\ttotal: 30.3ms\tremaining: 1m 24s\n",
      "300:\ttest: 0.7379775\tbest: 0.7379965 (299)\ttotal: 6.83s\tremaining: 56.6s\n",
      "600:\ttest: 0.7378962\tbest: 0.7381471 (358)\ttotal: 14.1s\tremaining: 51.5s\n",
      "bestTest = 0.7381471395\n",
      "bestIteration = 358\n",
      "Shrink model to first 359 iterations.\n"
     ]
    },
    {
     "name": "stderr",
     "output_type": "stream",
     "text": [
      "[I 2025-02-23 06:41:51,895] Trial 17 finished with value: 0.7381471395492554 and parameters: {'iterations': 2795, 'depth': 5, 'learning_rate': 0.08356527827519994, 'l2_leaf_reg': 0.02045264423401544}. Best is trial 2 with value: 0.7387221455574036.\n",
      "Default metric period is 5 because AUC is/are not implemented for GPU\n"
     ]
    },
    {
     "name": "stdout",
     "output_type": "stream",
     "text": [
      "0:\ttest: 0.7096822\tbest: 0.7096822 (0)\ttotal: 24.1ms\tremaining: 58.9s\n",
      "300:\ttest: 0.7375289\tbest: 0.7375289 (300)\ttotal: 6.12s\tremaining: 43.7s\n",
      "600:\ttest: 0.7382795\tbest: 0.7382874 (593)\ttotal: 11.4s\tremaining: 35s\n",
      "900:\ttest: 0.7384747\tbest: 0.7385092 (857)\ttotal: 16.9s\tremaining: 29s\n",
      "1200:\ttest: 0.7386569\tbest: 0.7386938 (1146)\ttotal: 23.4s\tremaining: 24.3s\n",
      "1500:\ttest: 0.7384821\tbest: 0.7387199 (1235)\ttotal: 28.8s\tremaining: 18.2s\n",
      "bestTest = 0.7387199104\n",
      "bestIteration = 1235\n",
      "Shrink model to first 1236 iterations.\n"
     ]
    },
    {
     "name": "stderr",
     "output_type": "stream",
     "text": [
      "[I 2025-02-23 06:42:25,238] Trial 18 finished with value: 0.7387199103832245 and parameters: {'iterations': 2448, 'depth': 4, 'learning_rate': 0.05970016430294879, 'l2_leaf_reg': 0.055817559212407095}. Best is trial 2 with value: 0.7387221455574036.\n",
      "Default metric period is 5 because AUC is/are not implemented for GPU\n"
     ]
    },
    {
     "name": "stdout",
     "output_type": "stream",
     "text": [
      "0:\ttest: 0.7096822\tbest: 0.7096822 (0)\ttotal: 24.2ms\tremaining: 59.5s\n",
      "300:\ttest: 0.7378437\tbest: 0.7378892 (288)\ttotal: 5.42s\tremaining: 38.9s\n",
      "600:\ttest: 0.7383135\tbest: 0.7383415 (592)\ttotal: 10.2s\tremaining: 31.4s\n",
      "900:\ttest: 0.7385347\tbest: 0.7385452 (896)\ttotal: 15.2s\tremaining: 26.3s\n",
      "1200:\ttest: 0.7384448\tbest: 0.7385591 (912)\ttotal: 19.8s\tremaining: 20.7s\n",
      "bestTest = 0.7385591269\n",
      "bestIteration = 912\n",
      "Shrink model to first 913 iterations.\n"
     ]
    },
    {
     "name": "stderr",
     "output_type": "stream",
     "text": [
      "[I 2025-02-23 06:42:49,188] Trial 19 finished with value: 0.7385591268539429 and parameters: {'iterations': 2460, 'depth': 4, 'learning_rate': 0.08757677852715737, 'l2_leaf_reg': 0.0007684732048449838}. Best is trial 2 with value: 0.7387221455574036.\n",
      "Default metric period is 5 because AUC is/are not implemented for GPU\n"
     ]
    },
    {
     "name": "stdout",
     "output_type": "stream",
     "text": [
      "0:\ttest: 0.7194988\tbest: 0.7194988 (0)\ttotal: 44ms\tremaining: 1m 37s\n",
      "300:\ttest: 0.7371819\tbest: 0.7378738 (193)\ttotal: 11.9s\tremaining: 1m 15s\n"
     ]
    },
    {
     "name": "stderr",
     "output_type": "stream",
     "text": [
      "[I 2025-02-23 06:43:12,199] Trial 20 finished with value: 0.7378737926483154 and parameters: {'iterations': 2212, 'depth': 8, 'learning_rate': 0.0596654532940903, 'l2_leaf_reg': 0.04888848952559124}. Best is trial 2 with value: 0.7387221455574036.\n"
     ]
    },
    {
     "name": "stdout",
     "output_type": "stream",
     "text": [
      "bestTest = 0.7378737926\n",
      "bestIteration = 193\n",
      "Shrink model to first 194 iterations.\n"
     ]
    },
    {
     "name": "stderr",
     "output_type": "stream",
     "text": [
      "Default metric period is 5 because AUC is/are not implemented for GPU\n"
     ]
    },
    {
     "name": "stdout",
     "output_type": "stream",
     "text": [
      "0:\ttest: 0.7096822\tbest: 0.7096822 (0)\ttotal: 25.1ms\tremaining: 1m 1s\n",
      "300:\ttest: 0.7381325\tbest: 0.7381325 (300)\ttotal: 4.88s\tremaining: 35s\n",
      "600:\ttest: 0.7383073\tbest: 0.7383754 (400)\ttotal: 9.03s\tremaining: 27.9s\n"
     ]
    },
    {
     "name": "stderr",
     "output_type": "stream",
     "text": [
      "[I 2025-02-23 06:43:26,518] Trial 21 finished with value: 0.7383753955364227 and parameters: {'iterations': 2458, 'depth': 4, 'learning_rate': 0.0987389155184239, 'l2_leaf_reg': 0.19627628581568551}. Best is trial 2 with value: 0.7387221455574036.\n"
     ]
    },
    {
     "name": "stdout",
     "output_type": "stream",
     "text": [
      "bestTest = 0.7383753955\n",
      "bestIteration = 400\n",
      "Shrink model to first 401 iterations.\n"
     ]
    },
    {
     "name": "stderr",
     "output_type": "stream",
     "text": [
      "Default metric period is 5 because AUC is/are not implemented for GPU\n"
     ]
    },
    {
     "name": "stdout",
     "output_type": "stream",
     "text": [
      "0:\ttest: 0.7135161\tbest: 0.7135161 (0)\ttotal: 30.9ms\tremaining: 1m 25s\n",
      "300:\ttest: 0.7382519\tbest: 0.7382519 (300)\ttotal: 6.71s\tremaining: 55.1s\n",
      "600:\ttest: 0.7376528\tbest: 0.7382765 (333)\ttotal: 12.6s\tremaining: 45.5s\n",
      "bestTest = 0.7382765412\n",
      "bestIteration = 333\n",
      "Shrink model to first 334 iterations.\n"
     ]
    },
    {
     "name": "stderr",
     "output_type": "stream",
     "text": [
      "[I 2025-02-23 06:43:44,197] Trial 22 finished with value: 0.7382765412330627 and parameters: {'iterations': 2776, 'depth': 5, 'learning_rate': 0.07959785181297442, 'l2_leaf_reg': 0.006975442220804754}. Best is trial 2 with value: 0.7387221455574036.\n",
      "Default metric period is 5 because AUC is/are not implemented for GPU\n"
     ]
    },
    {
     "name": "stdout",
     "output_type": "stream",
     "text": [
      "0:\ttest: 0.7096822\tbest: 0.7096822 (0)\ttotal: 22.4ms\tremaining: 55.8s\n",
      "300:\ttest: 0.7375811\tbest: 0.7375918 (291)\ttotal: 4.91s\tremaining: 35.7s\n",
      "600:\ttest: 0.7380657\tbest: 0.7380872 (593)\ttotal: 9.02s\tremaining: 28.3s\n",
      "900:\ttest: 0.7382593\tbest: 0.7382979 (884)\ttotal: 13.2s\tremaining: 23.2s\n",
      "1200:\ttest: 0.7384528\tbest: 0.7384665 (1181)\ttotal: 17.5s\tremaining: 18.7s\n",
      "1500:\ttest: 0.7382882\tbest: 0.7385003 (1228)\ttotal: 21.7s\tremaining: 14.2s\n",
      "bestTest = 0.7385002971\n",
      "bestIteration = 1228\n",
      "Shrink model to first 1229 iterations.\n"
     ]
    },
    {
     "name": "stderr",
     "output_type": "stream",
     "text": [
      "[I 2025-02-23 06:44:10,206] Trial 23 finished with value: 0.7385002970695496 and parameters: {'iterations': 2488, 'depth': 4, 'learning_rate': 0.06187218972041917, 'l2_leaf_reg': 0.07672669821280156}. Best is trial 2 with value: 0.7387221455574036.\n",
      "Default metric period is 5 because AUC is/are not implemented for GPU\n"
     ]
    },
    {
     "name": "stdout",
     "output_type": "stream",
     "text": [
      "0:\ttest: 0.7157748\tbest: 0.7157748 (0)\ttotal: 30.7ms\tremaining: 1m 11s\n",
      "300:\ttest: 0.7379782\tbest: 0.7380276 (296)\ttotal: 8.6s\tremaining: 57.8s\n",
      "600:\ttest: 0.7380269\tbest: 0.7381870 (571)\ttotal: 17.1s\tremaining: 49s\n",
      "bestTest = 0.7381869555\n",
      "bestIteration = 571\n",
      "Shrink model to first 572 iterations.\n"
     ]
    },
    {
     "name": "stderr",
     "output_type": "stream",
     "text": [
      "[I 2025-02-23 06:44:37,486] Trial 24 finished with value: 0.7381869554519653 and parameters: {'iterations': 2324, 'depth': 6, 'learning_rate': 0.07422262986480445, 'l2_leaf_reg': 0.7549760199792515}. Best is trial 2 with value: 0.7387221455574036.\n",
      "Default metric period is 5 because AUC is/are not implemented for GPU\n"
     ]
    },
    {
     "name": "stdout",
     "output_type": "stream",
     "text": [
      "0:\ttest: 0.7135161\tbest: 0.7135161 (0)\ttotal: 30.9ms\tremaining: 1m 27s\n",
      "300:\ttest: 0.7386569\tbest: 0.7386569 (300)\ttotal: 6.03s\tremaining: 50.6s\n",
      "600:\ttest: 0.7382669\tbest: 0.7386810 (365)\ttotal: 11.4s\tremaining: 42.1s\n"
     ]
    },
    {
     "name": "stderr",
     "output_type": "stream",
     "text": [
      "[I 2025-02-23 06:44:54,088] Trial 25 finished with value: 0.7386809587478638 and parameters: {'iterations': 2828, 'depth': 5, 'learning_rate': 0.088174178097401, 'l2_leaf_reg': 0.0222421389562879}. Best is trial 2 with value: 0.7387221455574036.\n"
     ]
    },
    {
     "name": "stdout",
     "output_type": "stream",
     "text": [
      "bestTest = 0.7386809587\n",
      "bestIteration = 365\n",
      "Shrink model to first 366 iterations.\n"
     ]
    },
    {
     "name": "stderr",
     "output_type": "stream",
     "text": [
      "Default metric period is 5 because AUC is/are not implemented for GPU\n"
     ]
    },
    {
     "name": "stdout",
     "output_type": "stream",
     "text": [
      "0:\ttest: 0.7096822\tbest: 0.7096822 (0)\ttotal: 25.3ms\tremaining: 1m 11s\n",
      "300:\ttest: 0.7381398\tbest: 0.7381677 (293)\ttotal: 4.95s\tremaining: 41.5s\n",
      "600:\ttest: 0.7386224\tbest: 0.7386565 (553)\ttotal: 9.1s\tremaining: 33.6s\n",
      "900:\ttest: 0.7386936\tbest: 0.7387180 (674)\ttotal: 13.3s\tremaining: 28.3s\n"
     ]
    },
    {
     "name": "stderr",
     "output_type": "stream",
     "text": [
      "[I 2025-02-23 06:45:12,477] Trial 26 finished with value: 0.7387179732322693 and parameters: {'iterations': 2820, 'depth': 4, 'learning_rate': 0.08667659140455015, 'l2_leaf_reg': 0.01934018134990657}. Best is trial 2 with value: 0.7387221455574036.\n"
     ]
    },
    {
     "name": "stdout",
     "output_type": "stream",
     "text": [
      "bestTest = 0.7387179732\n",
      "bestIteration = 674\n",
      "Shrink model to first 675 iterations.\n"
     ]
    },
    {
     "name": "stderr",
     "output_type": "stream",
     "text": [
      "Default metric period is 5 because AUC is/are not implemented for GPU\n"
     ]
    },
    {
     "name": "stdout",
     "output_type": "stream",
     "text": [
      "0:\ttest: 0.7210837\tbest: 0.7210837 (0)\ttotal: 72.1ms\tremaining: 3m 15s\n",
      "300:\ttest: 0.7313043\tbest: 0.7373660 (63)\ttotal: 16.7s\tremaining: 2m 13s\n"
     ]
    },
    {
     "name": "stderr",
     "output_type": "stream",
     "text": [
      "[I 2025-02-23 06:45:36,554] Trial 27 finished with value: 0.7373660206794739 and parameters: {'iterations': 2709, 'depth': 9, 'learning_rate': 0.08985783689867484, 'l2_leaf_reg': 0.004164593860059033}. Best is trial 2 with value: 0.7387221455574036.\n"
     ]
    },
    {
     "name": "stdout",
     "output_type": "stream",
     "text": [
      "bestTest = 0.7373660207\n",
      "bestIteration = 63\n",
      "Shrink model to first 64 iterations.\n"
     ]
    },
    {
     "name": "stderr",
     "output_type": "stream",
     "text": [
      "Default metric period is 5 because AUC is/are not implemented for GPU\n"
     ]
    },
    {
     "name": "stdout",
     "output_type": "stream",
     "text": [
      "0:\ttest: 0.7096822\tbest: 0.7096822 (0)\ttotal: 24.4ms\tremaining: 1m 9s\n",
      "300:\ttest: 0.7380834\tbest: 0.7380834 (300)\ttotal: 5.16s\tremaining: 43.8s\n",
      "600:\ttest: 0.7385003\tbest: 0.7385404 (591)\ttotal: 10.3s\tremaining: 38.6s\n",
      "900:\ttest: 0.7385995\tbest: 0.7386187 (888)\ttotal: 15.4s\tremaining: 33.3s\n",
      "1200:\ttest: 0.7385780\tbest: 0.7386530 (1055)\ttotal: 19.5s\tremaining: 26.9s\n",
      "1500:\ttest: 0.7384494\tbest: 0.7386541 (1227)\ttotal: 23.7s\tremaining: 21.4s\n",
      "bestTest = 0.7386540771\n",
      "bestIteration = 1227\n",
      "Shrink model to first 1228 iterations.\n"
     ]
    },
    {
     "name": "stderr",
     "output_type": "stream",
     "text": [
      "[I 2025-02-23 06:46:04,829] Trial 28 finished with value: 0.7386540770530701 and parameters: {'iterations': 2854, 'depth': 4, 'learning_rate': 0.08066470918081843, 'l2_leaf_reg': 0.0005014701113476366}. Best is trial 2 with value: 0.7387221455574036.\n",
      "Default metric period is 5 because AUC is/are not implemented for GPU\n"
     ]
    },
    {
     "name": "stdout",
     "output_type": "stream",
     "text": [
      "0:\ttest: 0.7210837\tbest: 0.7210837 (0)\ttotal: 57.9ms\tremaining: 2m 25s\n",
      "300:\ttest: 0.7324954\tbest: 0.7361614 (51)\ttotal: 17.3s\tremaining: 2m 6s\n"
     ]
    },
    {
     "name": "stderr",
     "output_type": "stream",
     "text": [
      "[I 2025-02-23 06:46:28,670] Trial 29 finished with value: 0.7361614406108856 and parameters: {'iterations': 2513, 'depth': 9, 'learning_rate': 0.0775049625945594, 'l2_leaf_reg': 0.0015548617681137745}. Best is trial 2 with value: 0.7387221455574036.\n"
     ]
    },
    {
     "name": "stdout",
     "output_type": "stream",
     "text": [
      "bestTest = 0.7361614406\n",
      "bestIteration = 51\n",
      "Shrink model to first 52 iterations.\n"
     ]
    },
    {
     "name": "stderr",
     "output_type": "stream",
     "text": [
      "Default metric period is 5 because AUC is/are not implemented for GPU\n"
     ]
    },
    {
     "name": "stdout",
     "output_type": "stream",
     "text": [
      "0:\ttest: 0.7096822\tbest: 0.7096822 (0)\ttotal: 25.3ms\tremaining: 59.9s\n",
      "300:\ttest: 0.7379114\tbest: 0.7379624 (287)\ttotal: 4.72s\tremaining: 32.4s\n",
      "600:\ttest: 0.7382864\tbest: 0.7383096 (593)\ttotal: 8.89s\tremaining: 26.1s\n",
      "900:\ttest: 0.7386099\tbest: 0.7386774 (853)\ttotal: 13.1s\tremaining: 21.2s\n",
      "1200:\ttest: 0.7387307\tbest: 0.7388049 (1148)\ttotal: 17.3s\tremaining: 16.7s\n",
      "1500:\ttest: 0.7384886\tbest: 0.7388287 (1231)\ttotal: 21.5s\tremaining: 12.4s\n",
      "bestTest = 0.7388286889\n",
      "bestIteration = 1231\n",
      "Shrink model to first 1232 iterations.\n"
     ]
    },
    {
     "name": "stderr",
     "output_type": "stream",
     "text": [
      "[I 2025-02-23 06:46:54,807] Trial 30 finished with value: 0.7388286888599396 and parameters: {'iterations': 2366, 'depth': 4, 'learning_rate': 0.09279014563155585, 'l2_leaf_reg': 0.010405798538247463}. Best is trial 30 with value: 0.7388286888599396.\n"
     ]
    },
    {
     "name": "stdout",
     "output_type": "stream",
     "text": [
      "저장 완료\n"
     ]
    },
    {
     "name": "stderr",
     "output_type": "stream",
     "text": [
      "Default metric period is 5 because AUC is/are not implemented for GPU\n"
     ]
    },
    {
     "name": "stdout",
     "output_type": "stream",
     "text": [
      "0:\ttest: 0.7096822\tbest: 0.7096822 (0)\ttotal: 17.9ms\tremaining: 42.8s\n",
      "300:\ttest: 0.7382068\tbest: 0.7382102 (298)\ttotal: 4.71s\tremaining: 32.8s\n",
      "600:\ttest: 0.7385802\tbest: 0.7386322 (578)\ttotal: 10.2s\tremaining: 30.5s\n",
      "900:\ttest: 0.7386901\tbest: 0.7388229 (840)\ttotal: 14.4s\tremaining: 23.8s\n",
      "1200:\ttest: 0.7388956\tbest: 0.7389476 (1146)\ttotal: 18.6s\tremaining: 18.5s\n",
      "bestTest = 0.7389475703\n",
      "bestIteration = 1146\n",
      "Shrink model to first 1147 iterations.\n"
     ]
    },
    {
     "name": "stderr",
     "output_type": "stream",
     "text": [
      "[I 2025-02-23 06:47:20,781] Trial 31 finished with value: 0.7389475703239441 and parameters: {'iterations': 2396, 'depth': 4, 'learning_rate': 0.09356661978808206, 'l2_leaf_reg': 0.01269509840678357}. Best is trial 31 with value: 0.7389475703239441.\n"
     ]
    },
    {
     "name": "stdout",
     "output_type": "stream",
     "text": [
      "저장 완료\n"
     ]
    },
    {
     "name": "stderr",
     "output_type": "stream",
     "text": [
      "Default metric period is 5 because AUC is/are not implemented for GPU\n"
     ]
    },
    {
     "name": "stdout",
     "output_type": "stream",
     "text": [
      "0:\ttest: 0.7096822\tbest: 0.7096822 (0)\ttotal: 15.7ms\tremaining: 37.7s\n",
      "300:\ttest: 0.7381653\tbest: 0.7382060 (281)\ttotal: 4.58s\tremaining: 32s\n",
      "600:\ttest: 0.7384226\tbest: 0.7384497 (548)\ttotal: 9.19s\tremaining: 27.6s\n",
      "900:\ttest: 0.7380913\tbest: 0.7384936 (659)\ttotal: 13.4s\tremaining: 22.4s\n"
     ]
    },
    {
     "name": "stderr",
     "output_type": "stream",
     "text": [
      "[I 2025-02-23 06:47:38,912] Trial 32 finished with value: 0.7384936213493347 and parameters: {'iterations': 2406, 'depth': 4, 'learning_rate': 0.0932248091408164, 'l2_leaf_reg': 0.0028041327991136966}. Best is trial 31 with value: 0.7389475703239441.\n"
     ]
    },
    {
     "name": "stdout",
     "output_type": "stream",
     "text": [
      "bestTest = 0.7384936213\n",
      "bestIteration = 659\n",
      "Shrink model to first 660 iterations.\n"
     ]
    },
    {
     "name": "stderr",
     "output_type": "stream",
     "text": [
      "Default metric period is 5 because AUC is/are not implemented for GPU\n"
     ]
    },
    {
     "name": "stdout",
     "output_type": "stream",
     "text": [
      "0:\ttest: 0.7096822\tbest: 0.7096822 (0)\ttotal: 17.8ms\tremaining: 40.5s\n",
      "300:\ttest: 0.7381358\tbest: 0.7381616 (284)\ttotal: 5.58s\tremaining: 36.7s\n",
      "600:\ttest: 0.7384159\tbest: 0.7384264 (592)\ttotal: 10.4s\tremaining: 29s\n",
      "900:\ttest: 0.7383829\tbest: 0.7385113 (720)\ttotal: 16.4s\tremaining: 25.1s\n",
      "bestTest = 0.7385112643\n",
      "bestIteration = 720\n",
      "Shrink model to first 721 iterations.\n"
     ]
    },
    {
     "name": "stderr",
     "output_type": "stream",
     "text": [
      "[I 2025-02-23 06:48:01,073] Trial 33 finished with value: 0.7385112643241882 and parameters: {'iterations': 2279, 'depth': 4, 'learning_rate': 0.09256232206396132, 'l2_leaf_reg': 0.0001160402158846128}. Best is trial 31 with value: 0.7389475703239441.\n",
      "Default metric period is 5 because AUC is/are not implemented for GPU\n"
     ]
    },
    {
     "name": "stdout",
     "output_type": "stream",
     "text": [
      "0:\ttest: 0.7135161\tbest: 0.7135161 (0)\ttotal: 19.6ms\tremaining: 42s\n",
      "300:\ttest: 0.7375792\tbest: 0.7378157 (196)\ttotal: 5.87s\tremaining: 35.9s\n"
     ]
    },
    {
     "name": "stderr",
     "output_type": "stream",
     "text": [
      "[I 2025-02-23 06:48:14,606] Trial 34 finished with value: 0.7378157377243042 and parameters: {'iterations': 2140, 'depth': 5, 'learning_rate': 0.09935767727051623, 'l2_leaf_reg': 0.000422611275460212}. Best is trial 31 with value: 0.7389475703239441.\n"
     ]
    },
    {
     "name": "stdout",
     "output_type": "stream",
     "text": [
      "bestTest = 0.7378157377\n",
      "bestIteration = 196\n",
      "Shrink model to first 197 iterations.\n"
     ]
    },
    {
     "name": "stderr",
     "output_type": "stream",
     "text": [
      "Default metric period is 5 because AUC is/are not implemented for GPU\n"
     ]
    },
    {
     "name": "stdout",
     "output_type": "stream",
     "text": [
      "0:\ttest: 0.7096822\tbest: 0.7096822 (0)\ttotal: 24.2ms\tremaining: 56.6s\n",
      "300:\ttest: 0.7379034\tbest: 0.7379279 (291)\ttotal: 4.95s\tremaining: 33.5s\n",
      "600:\ttest: 0.7382938\tbest: 0.7383297 (584)\ttotal: 10.4s\tremaining: 30.2s\n",
      "900:\ttest: 0.7384857\tbest: 0.7384985 (896)\ttotal: 14.6s\tremaining: 23.3s\n",
      "1200:\ttest: 0.7385634\tbest: 0.7386568 (1154)\ttotal: 18.8s\tremaining: 17.8s\n",
      "bestTest = 0.7386567593\n",
      "bestIteration = 1154\n",
      "Shrink model to first 1155 iterations.\n"
     ]
    },
    {
     "name": "stderr",
     "output_type": "stream",
     "text": [
      "[I 2025-02-23 06:48:41,040] Trial 35 finished with value: 0.738656759262085 and parameters: {'iterations': 2337, 'depth': 4, 'learning_rate': 0.0853310712118788, 'l2_leaf_reg': 0.005258686780081411}. Best is trial 31 with value: 0.7389475703239441.\n",
      "Default metric period is 5 because AUC is/are not implemented for GPU\n"
     ]
    },
    {
     "name": "stdout",
     "output_type": "stream",
     "text": [
      "0:\ttest: 0.7096822\tbest: 0.7096822 (0)\ttotal: 24.4ms\tremaining: 58.4s\n",
      "300:\ttest: 0.7378657\tbest: 0.7378983 (291)\ttotal: 5.51s\tremaining: 38.3s\n",
      "600:\ttest: 0.7383507\tbest: 0.7383826 (592)\ttotal: 10.2s\tremaining: 30.4s\n",
      "900:\ttest: 0.7384961\tbest: 0.7385295 (848)\ttotal: 15s\tremaining: 24.8s\n",
      "1200:\ttest: 0.7385313\tbest: 0.7385904 (1145)\ttotal: 19.7s\tremaining: 19.5s\n",
      "bestTest = 0.7385903895\n",
      "bestIteration = 1145\n",
      "Shrink model to first 1146 iterations.\n"
     ]
    },
    {
     "name": "stderr",
     "output_type": "stream",
     "text": [
      "[I 2025-02-23 06:49:08,476] Trial 36 finished with value: 0.7385903894901276 and parameters: {'iterations': 2393, 'depth': 4, 'learning_rate': 0.0765647106844617, 'l2_leaf_reg': 0.0022048213340727678}. Best is trial 31 with value: 0.7389475703239441.\n",
      "Default metric period is 5 because AUC is/are not implemented for GPU\n"
     ]
    },
    {
     "name": "stdout",
     "output_type": "stream",
     "text": [
      "0:\ttest: 0.7135161\tbest: 0.7135161 (0)\ttotal: 18.3ms\tremaining: 39s\n",
      "300:\ttest: 0.7380610\tbest: 0.7381014 (260)\ttotal: 5.28s\tremaining: 32.2s\n",
      "600:\ttest: 0.7375627\tbest: 0.7381677 (350)\ttotal: 10.6s\tremaining: 27.1s\n",
      "bestTest = 0.7381676733\n",
      "bestIteration = 350\n",
      "Shrink model to first 351 iterations.\n"
     ]
    },
    {
     "name": "stderr",
     "output_type": "stream",
     "text": [
      "[I 2025-02-23 06:49:23,861] Trial 37 finished with value: 0.7381676733493805 and parameters: {'iterations': 2136, 'depth': 5, 'learning_rate': 0.08236118379736034, 'l2_leaf_reg': 0.0002685635253782392}. Best is trial 31 with value: 0.7389475703239441.\n",
      "Default metric period is 5 because AUC is/are not implemented for GPU\n"
     ]
    },
    {
     "name": "stdout",
     "output_type": "stream",
     "text": [
      "0:\ttest: 0.7157748\tbest: 0.7157748 (0)\ttotal: 22.2ms\tremaining: 50.4s\n",
      "300:\ttest: 0.7373984\tbest: 0.7379254 (202)\ttotal: 7.38s\tremaining: 48.3s\n"
     ]
    },
    {
     "name": "stderr",
     "output_type": "stream",
     "text": [
      "[I 2025-02-23 06:49:40,023] Trial 38 finished with value: 0.7379253804683685 and parameters: {'iterations': 2273, 'depth': 6, 'learning_rate': 0.09479620962244881, 'l2_leaf_reg': 0.001467921590865538}. Best is trial 31 with value: 0.7389475703239441.\n"
     ]
    },
    {
     "name": "stdout",
     "output_type": "stream",
     "text": [
      "bestTest = 0.7379253805\n",
      "bestIteration = 202\n",
      "Shrink model to first 203 iterations.\n"
     ]
    },
    {
     "name": "stderr",
     "output_type": "stream",
     "text": [
      "Default metric period is 5 because AUC is/are not implemented for GPU\n"
     ]
    },
    {
     "name": "stdout",
     "output_type": "stream",
     "text": [
      "0:\ttest: 0.7096822\tbest: 0.7096822 (0)\ttotal: 25.7ms\tremaining: 51.4s\n",
      "300:\ttest: 0.7378854\tbest: 0.7378854 (300)\ttotal: 5.32s\tremaining: 30.1s\n",
      "600:\ttest: 0.7384613\tbest: 0.7384908 (587)\ttotal: 9.92s\tremaining: 23.1s\n",
      "900:\ttest: 0.7385007\tbest: 0.7385061 (845)\ttotal: 14.6s\tremaining: 17.8s\n",
      "1200:\ttest: 0.7387509\tbest: 0.7387509 (1200)\ttotal: 18.9s\tremaining: 12.6s\n",
      "1500:\ttest: 0.7385062\tbest: 0.7388181 (1228)\ttotal: 24.7s\tremaining: 8.26s\n",
      "bestTest = 0.738818109\n",
      "bestIteration = 1228\n",
      "Shrink model to first 1229 iterations.\n"
     ]
    },
    {
     "name": "stderr",
     "output_type": "stream",
     "text": [
      "[I 2025-02-23 06:50:09,252] Trial 39 finished with value: 0.7388181090354919 and parameters: {'iterations': 2003, 'depth': 4, 'learning_rate': 0.07282525844834165, 'l2_leaf_reg': 0.011302504794701388}. Best is trial 31 with value: 0.7389475703239441.\n",
      "[I 2025-02-23 06:50:09,258] A new study created in memory with name: no-name-63b1e04f-80a0-4651-9d68-93701428c36a\n",
      "[I 2025-02-23 06:50:13,569] Trial 0 finished with value: 0.7377564473770692 and parameters: {'num_iterations': 2366, 'objective': 'binary', 'metric': 'auc', 'verbose': -1, 'learning_rate': 0.0652646236447618, 'n_estimators': 236, 'min_child_samples': 45, 'subsample': 0.7, 'colsample_bytree': 0.5}. Best is trial 0 with value: 0.7377564473770692.\n",
      "[I 2025-02-23 06:50:25,294] Trial 1 finished with value: 0.7371592697686361 and parameters: {'num_iterations': 1510, 'objective': 'binary', 'metric': 'auc', 'verbose': -1, 'learning_rate': 0.005231880959249543, 'n_estimators': 1411, 'min_child_samples': 10, 'subsample': 1.0, 'colsample_bytree': 0.5}. Best is trial 0 with value: 0.7377564473770692.\n",
      "[I 2025-02-23 06:50:33,591] Trial 2 finished with value: 0.736338753635386 and parameters: {'num_iterations': 2334, 'objective': 'binary', 'metric': 'auc', 'verbose': -1, 'learning_rate': 0.006578527777128852, 'n_estimators': 931, 'min_child_samples': 15, 'subsample': 0.5, 'colsample_bytree': 1.0}. Best is trial 0 with value: 0.7377564473770692.\n",
      "[I 2025-02-23 06:50:44,062] Trial 3 finished with value: 0.7370126090568163 and parameters: {'num_iterations': 1620, 'objective': 'binary', 'metric': 'auc', 'verbose': -1, 'learning_rate': 0.0058823249237283685, 'n_estimators': 837, 'min_child_samples': 10, 'subsample': 0.9, 'colsample_bytree': 0.6}. Best is trial 0 with value: 0.7377564473770692.\n",
      "[I 2025-02-23 06:50:48,868] Trial 4 finished with value: 0.7366888110814028 and parameters: {'num_iterations': 1997, 'objective': 'binary', 'metric': 'auc', 'verbose': -1, 'learning_rate': 0.010907507425244923, 'n_estimators': 1597, 'min_child_samples': 50, 'subsample': 0.6, 'colsample_bytree': 0.8}. Best is trial 0 with value: 0.7377564473770692.\n",
      "[I 2025-02-23 06:50:52,998] Trial 5 finished with value: 0.7364702058529656 and parameters: {'num_iterations': 2909, 'objective': 'binary', 'metric': 'auc', 'verbose': -1, 'learning_rate': 0.019760591962733942, 'n_estimators': 612, 'min_child_samples': 30, 'subsample': 0.7, 'colsample_bytree': 0.9}. Best is trial 0 with value: 0.7377564473770692.\n",
      "[I 2025-02-23 06:50:57,081] Trial 6 finished with value: 0.7367582737941301 and parameters: {'num_iterations': 2639, 'objective': 'binary', 'metric': 'auc', 'verbose': -1, 'learning_rate': 0.017862094446750985, 'n_estimators': 794, 'min_child_samples': 35, 'subsample': 1.0, 'colsample_bytree': 0.8}. Best is trial 0 with value: 0.7377564473770692.\n",
      "[I 2025-02-23 06:51:02,415] Trial 7 finished with value: 0.7373989961409022 and parameters: {'num_iterations': 1580, 'objective': 'binary', 'metric': 'auc', 'verbose': -1, 'learning_rate': 0.01776722177611332, 'n_estimators': 529, 'min_child_samples': 25, 'subsample': 0.8, 'colsample_bytree': 0.5}. Best is trial 0 with value: 0.7377564473770692.\n",
      "[I 2025-02-23 06:51:05,498] Trial 8 finished with value: 0.7370084515389392 and parameters: {'num_iterations': 1911, 'objective': 'binary', 'metric': 'auc', 'verbose': -1, 'learning_rate': 0.0304747553332844, 'n_estimators': 1328, 'min_child_samples': 10, 'subsample': 0.7, 'colsample_bytree': 0.6}. Best is trial 0 with value: 0.7377564473770692.\n",
      "[I 2025-02-23 06:51:09,983] Trial 9 finished with value: 0.7376895816239329 and parameters: {'num_iterations': 2739, 'objective': 'binary', 'metric': 'auc', 'verbose': -1, 'learning_rate': 0.02691531614176271, 'n_estimators': 1438, 'min_child_samples': 20, 'subsample': 0.6, 'colsample_bytree': 0.5}. Best is trial 0 with value: 0.7377564473770692.\n",
      "[I 2025-02-23 06:51:11,755] Trial 10 finished with value: 0.7370019789943931 and parameters: {'num_iterations': 2356, 'objective': 'binary', 'metric': 'auc', 'verbose': -1, 'learning_rate': 0.08223556891145911, 'n_estimators': 110, 'min_child_samples': 50, 'subsample': 0.8, 'colsample_bytree': 0.7}. Best is trial 0 with value: 0.7377564473770692.\n",
      "[I 2025-02-23 06:51:14,784] Trial 11 finished with value: 0.7375702684055421 and parameters: {'num_iterations': 2656, 'objective': 'binary', 'metric': 'auc', 'verbose': -1, 'learning_rate': 0.05281895991675075, 'n_estimators': 156, 'min_child_samples': 40, 'subsample': 0.5, 'colsample_bytree': 0.5}. Best is trial 0 with value: 0.7377564473770692.\n",
      "[I 2025-02-23 06:51:17,801] Trial 12 finished with value: 0.7374771034729403 and parameters: {'num_iterations': 2627, 'objective': 'binary', 'metric': 'auc', 'verbose': -1, 'learning_rate': 0.04121561268123298, 'n_estimators': 1958, 'min_child_samples': 20, 'subsample': 0.6, 'colsample_bytree': 0.6}. Best is trial 0 with value: 0.7377564473770692.\n",
      "[I 2025-02-23 06:51:19,537] Trial 13 finished with value: 0.7367735577352086 and parameters: {'num_iterations': 2940, 'objective': 'binary', 'metric': 'auc', 'verbose': -1, 'learning_rate': 0.09837947857632467, 'n_estimators': 1881, 'min_child_samples': 40, 'subsample': 0.6, 'colsample_bytree': 0.7}. Best is trial 0 with value: 0.7377564473770692.\n",
      "[I 2025-02-23 06:51:22,239] Trial 14 finished with value: 0.7374189101353186 and parameters: {'num_iterations': 2102, 'objective': 'binary', 'metric': 'auc', 'verbose': -1, 'learning_rate': 0.05223026488877053, 'n_estimators': 1220, 'min_child_samples': 25, 'subsample': 0.7, 'colsample_bytree': 0.5}. Best is trial 0 with value: 0.7377564473770692.\n",
      "[I 2025-02-23 06:51:26,599] Trial 15 finished with value: 0.7372176060581619 and parameters: {'num_iterations': 2516, 'objective': 'binary', 'metric': 'auc', 'verbose': -1, 'learning_rate': 0.029953080823490463, 'n_estimators': 1686, 'min_child_samples': 45, 'subsample': 0.6, 'colsample_bytree': 0.6}. Best is trial 0 with value: 0.7377564473770692.\n",
      "[I 2025-02-23 06:51:28,656] Trial 16 finished with value: 0.7371607072294495 and parameters: {'num_iterations': 2804, 'objective': 'binary', 'metric': 'auc', 'verbose': -1, 'learning_rate': 0.064822144177441, 'n_estimators': 377, 'min_child_samples': 30, 'subsample': 0.8, 'colsample_bytree': 0.7}. Best is trial 0 with value: 0.7377564473770692.\n",
      "[I 2025-02-23 06:51:32,104] Trial 17 finished with value: 0.7375179122706707 and parameters: {'num_iterations': 2460, 'objective': 'binary', 'metric': 'auc', 'verbose': -1, 'learning_rate': 0.03413796000180084, 'n_estimators': 1110, 'min_child_samples': 20, 'subsample': 0.5, 'colsample_bytree': 0.5}. Best is trial 0 with value: 0.7377564473770692.\n",
      "[I 2025-02-23 06:51:34,308] Trial 18 finished with value: 0.7370670221107523 and parameters: {'num_iterations': 2179, 'objective': 'binary', 'metric': 'auc', 'verbose': -1, 'learning_rate': 0.06670814294149753, 'n_estimators': 1542, 'min_child_samples': 35, 'subsample': 0.9, 'colsample_bytree': 0.6}. Best is trial 0 with value: 0.7377564473770692.\n",
      "[I 2025-02-23 06:51:37,592] Trial 19 finished with value: 0.7365753946290555 and parameters: {'num_iterations': 2794, 'objective': 'binary', 'metric': 'auc', 'verbose': -1, 'learning_rate': 0.024901721762231162, 'n_estimators': 1031, 'min_child_samples': 20, 'subsample': 0.7, 'colsample_bytree': 0.9}. Best is trial 0 with value: 0.7377564473770692.\n",
      "[I 2025-02-23 06:51:40,645] Trial 20 finished with value: 0.7379649506709511 and parameters: {'num_iterations': 1812, 'objective': 'binary', 'metric': 'auc', 'verbose': -1, 'learning_rate': 0.046933098781375776, 'n_estimators': 339, 'min_child_samples': 45, 'subsample': 0.6, 'colsample_bytree': 0.5}. Best is trial 20 with value: 0.7379649506709511.\n",
      "[I 2025-02-23 06:51:43,964] Trial 21 finished with value: 0.7375992161661196 and parameters: {'num_iterations': 1778, 'objective': 'binary', 'metric': 'auc', 'verbose': -1, 'learning_rate': 0.0436185174517986, 'n_estimators': 302, 'min_child_samples': 45, 'subsample': 0.6, 'colsample_bytree': 0.5}. Best is trial 20 with value: 0.7379649506709511.\n",
      "[I 2025-02-23 06:51:46,966] Trial 22 finished with value: 0.7371420043553315 and parameters: {'num_iterations': 1841, 'objective': 'binary', 'metric': 'auc', 'verbose': -1, 'learning_rate': 0.04020049272869294, 'n_estimators': 573, 'min_child_samples': 45, 'subsample': 0.6, 'colsample_bytree': 0.6}. Best is trial 20 with value: 0.7379649506709511.\n",
      "[I 2025-02-23 06:51:49,721] Trial 23 finished with value: 0.7377416995056311 and parameters: {'num_iterations': 2237, 'objective': 'binary', 'metric': 'auc', 'verbose': -1, 'learning_rate': 0.05881402045460428, 'n_estimators': 381, 'min_child_samples': 40, 'subsample': 0.7, 'colsample_bytree': 0.5}. Best is trial 20 with value: 0.7379649506709511.\n",
      "[I 2025-02-23 06:51:52,180] Trial 24 finished with value: 0.7373473349111199 and parameters: {'num_iterations': 2104, 'objective': 'binary', 'metric': 'auc', 'verbose': -1, 'learning_rate': 0.06934982895478733, 'n_estimators': 333, 'min_child_samples': 40, 'subsample': 0.7, 'colsample_bytree': 0.5}. Best is trial 20 with value: 0.7379649506709511.\n",
      "[I 2025-02-23 06:51:54,304] Trial 25 finished with value: 0.7371633637523337 and parameters: {'num_iterations': 2247, 'objective': 'binary', 'metric': 'auc', 'verbose': -1, 'learning_rate': 0.09599607521219103, 'n_estimators': 453, 'min_child_samples': 50, 'subsample': 0.8, 'colsample_bytree': 0.6}. Best is trial 20 with value: 0.7379649506709511.\n",
      "[I 2025-02-23 06:51:56,227] Trial 26 finished with value: 0.737259399635676 and parameters: {'num_iterations': 1742, 'objective': 'binary', 'metric': 'auc', 'verbose': -1, 'learning_rate': 0.060671129029505236, 'n_estimators': 700, 'min_child_samples': 35, 'subsample': 0.7, 'colsample_bytree': 0.7}. Best is trial 20 with value: 0.7379649506709511.\n",
      "[I 2025-02-23 06:51:58,511] Trial 27 finished with value: 0.7369827519632935 and parameters: {'num_iterations': 1990, 'objective': 'binary', 'metric': 'auc', 'verbose': -1, 'learning_rate': 0.08113703315826239, 'n_estimators': 270, 'min_child_samples': 45, 'subsample': 0.5, 'colsample_bytree': 0.5}. Best is trial 20 with value: 0.7379649506709511.\n",
      "[I 2025-02-23 06:52:01,098] Trial 28 finished with value: 0.7370301087524083 and parameters: {'num_iterations': 2381, 'objective': 'binary', 'metric': 'auc', 'verbose': -1, 'learning_rate': 0.05089768111104972, 'n_estimators': 206, 'min_child_samples': 40, 'subsample': 0.9, 'colsample_bytree': 0.6}. Best is trial 20 with value: 0.7379649506709511.\n",
      "[I 2025-02-23 06:52:04,502] Trial 29 finished with value: 0.7372413241615815 and parameters: {'num_iterations': 2226, 'objective': 'binary', 'metric': 'auc', 'verbose': -1, 'learning_rate': 0.03842015647073939, 'n_estimators': 440, 'min_child_samples': 45, 'subsample': 0.7, 'colsample_bytree': 0.5}. Best is trial 20 with value: 0.7379649506709511.\n",
      "[I 2025-02-23 06:52:07,250] Trial 30 finished with value: 0.7374683159017252 and parameters: {'num_iterations': 2480, 'objective': 'binary', 'metric': 'auc', 'verbose': -1, 'learning_rate': 0.04926290434494061, 'n_estimators': 680, 'min_child_samples': 50, 'subsample': 0.8, 'colsample_bytree': 0.5}. Best is trial 20 with value: 0.7379649506709511.\n",
      "[I 2025-02-23 06:52:10,444] Trial 31 finished with value: 0.7376516398060569 and parameters: {'num_iterations': 2759, 'objective': 'binary', 'metric': 'auc', 'verbose': -1, 'learning_rate': 0.05623645417162276, 'n_estimators': 1440, 'min_child_samples': 30, 'subsample': 0.6, 'colsample_bytree': 0.5}. Best is trial 20 with value: 0.7379649506709511.\n",
      "[I 2025-02-23 06:52:12,800] Trial 32 finished with value: 0.7371069930514892 and parameters: {'num_iterations': 2551, 'objective': 'binary', 'metric': 'auc', 'verbose': -1, 'learning_rate': 0.07203320987496631, 'n_estimators': 1760, 'min_child_samples': 15, 'subsample': 0.6, 'colsample_bytree': 0.5}. Best is trial 20 with value: 0.7379649506709511.\n",
      "[I 2025-02-23 06:52:14,951] Trial 33 finished with value: 0.7363956762894158 and parameters: {'num_iterations': 1685, 'objective': 'binary', 'metric': 'auc', 'verbose': -1, 'learning_rate': 0.04685353067944829, 'n_estimators': 884, 'min_child_samples': 40, 'subsample': 0.5, 'colsample_bytree': 1.0}. Best is trial 20 with value: 0.7379649506709511.\n",
      "[I 2025-02-23 06:52:17,825] Trial 34 finished with value: 0.7372601223369688 and parameters: {'num_iterations': 1532, 'objective': 'binary', 'metric': 'auc', 'verbose': -1, 'learning_rate': 0.03461110144678616, 'n_estimators': 236, 'min_child_samples': 35, 'subsample': 0.7, 'colsample_bytree': 0.6}. Best is trial 20 with value: 0.7379649506709511.\n",
      "[I 2025-02-23 06:52:20,244] Trial 35 finished with value: 0.7374848228757609 and parameters: {'num_iterations': 2068, 'objective': 'binary', 'metric': 'auc', 'verbose': -1, 'learning_rate': 0.06114650976612315, 'n_estimators': 466, 'min_child_samples': 25, 'subsample': 0.6, 'colsample_bytree': 0.5}. Best is trial 20 with value: 0.7379649506709511.\n",
      "[I 2025-02-23 06:52:23,374] Trial 36 finished with value: 0.7365897295283264 and parameters: {'num_iterations': 3000, 'objective': 'binary', 'metric': 'auc', 'verbose': -1, 'learning_rate': 0.024766333680726817, 'n_estimators': 1003, 'min_child_samples': 15, 'subsample': 0.6, 'colsample_bytree': 0.9}. Best is trial 20 with value: 0.7379649506709511.\n",
      "[I 2025-02-23 06:52:25,994] Trial 37 finished with value: 0.7372986161080303 and parameters: {'num_iterations': 2304, 'objective': 'binary', 'metric': 'auc', 'verbose': -1, 'learning_rate': 0.04321860164114911, 'n_estimators': 764, 'min_child_samples': 50, 'subsample': 0.5, 'colsample_bytree': 0.6}. Best is trial 20 with value: 0.7379649506709511.\n",
      "[I 2025-02-23 06:52:30,102] Trial 38 finished with value: 0.7367563042345626 and parameters: {'num_iterations': 1905, 'objective': 'binary', 'metric': 'auc', 'verbose': -1, 'learning_rate': 0.014312647820139619, 'n_estimators': 1299, 'min_child_samples': 45, 'subsample': 0.7, 'colsample_bytree': 0.8}. Best is trial 20 with value: 0.7379649506709511.\n",
      "[I 2025-02-23 06:52:32,629] Trial 39 finished with value: 0.7373333732751542 and parameters: {'num_iterations': 2388, 'objective': 'binary', 'metric': 'auc', 'verbose': -1, 'learning_rate': 0.056877061656368216, 'n_estimators': 122, 'min_child_samples': 10, 'subsample': 0.7, 'colsample_bytree': 0.5}. Best is trial 20 with value: 0.7379649506709511.\n"
     ]
    },
    {
     "name": "stdout",
     "output_type": "stream",
     "text": [
      "Cat val score : 0.7389475702925485\n",
      "LGBM val score : 0.7373906175709682\n",
      "Ensemble val score : 0.738935538507288\n"
     ]
    },
    {
     "name": "stderr",
     "output_type": "stream",
     "text": [
      "[I 2025-02-23 06:52:36,193] A new study created in memory with name: no-name-e1ec2676-1927-4de3-a005-245dd5665f5d\n"
     ]
    },
    {
     "name": "stdout",
     "output_type": "stream",
     "text": [
      "==================================================\n"
     ]
    },
    {
     "name": "stderr",
     "output_type": "stream",
     "text": [
      "Default metric period is 5 because AUC is/are not implemented for GPU\n"
     ]
    },
    {
     "name": "stdout",
     "output_type": "stream",
     "text": [
      "0:\ttest: 0.7250421\tbest: 0.7250421 (0)\ttotal: 80.3ms\tremaining: 3m 9s\n",
      "300:\ttest: 0.7402354\tbest: 0.7402354 (300)\ttotal: 24.2s\tremaining: 2m 46s\n",
      "600:\ttest: 0.7410539\tbest: 0.7410559 (599)\ttotal: 48.5s\tremaining: 2m 22s\n",
      "900:\ttest: 0.7410063\tbest: 0.7410853 (612)\ttotal: 1m 12s\tremaining: 1m 58s\n",
      "bestTest = 0.7410852909\n",
      "bestIteration = 612\n",
      "Shrink model to first 613 iterations.\n"
     ]
    },
    {
     "name": "stderr",
     "output_type": "stream",
     "text": [
      "[I 2025-02-23 06:53:52,307] Trial 0 finished with value: 0.7410852909088135 and parameters: {'iterations': 2366, 'depth': 10, 'learning_rate': 0.01181021951839225, 'l2_leaf_reg': 9.980783802743254}. Best is trial 0 with value: 0.7410852909088135.\n"
     ]
    },
    {
     "name": "stdout",
     "output_type": "stream",
     "text": [
      "저장 완료\n"
     ]
    },
    {
     "name": "stderr",
     "output_type": "stream",
     "text": [
      "Default metric period is 5 because AUC is/are not implemented for GPU\n"
     ]
    },
    {
     "name": "stdout",
     "output_type": "stream",
     "text": [
      "0:\ttest: 0.7092189\tbest: 0.7092189 (0)\ttotal: 21.4ms\tremaining: 46.8s\n",
      "300:\ttest: 0.7303561\tbest: 0.7303561 (300)\ttotal: 6.42s\tremaining: 40.3s\n",
      "600:\ttest: 0.7352776\tbest: 0.7352776 (600)\ttotal: 12.4s\tremaining: 32.7s\n",
      "900:\ttest: 0.7375976\tbest: 0.7375976 (900)\ttotal: 17.8s\tremaining: 25.5s\n",
      "1200:\ttest: 0.7388122\tbest: 0.7388122 (1200)\ttotal: 21.9s\tremaining: 18.1s\n",
      "1500:\ttest: 0.7395762\tbest: 0.7395762 (1500)\ttotal: 26s\tremaining: 12s\n",
      "1800:\ttest: 0.7400853\tbest: 0.7400865 (1797)\ttotal: 30.2s\tremaining: 6.56s\n",
      "2100:\ttest: 0.7403734\tbest: 0.7403742 (2099)\ttotal: 34.3s\tremaining: 1.5s\n",
      "2192:\ttest: 0.7405028\tbest: 0.7405028 (2192)\ttotal: 35.5s\tremaining: 0us\n",
      "bestTest = 0.7405028343\n",
      "bestIteration = 2192\n"
     ]
    },
    {
     "name": "stderr",
     "output_type": "stream",
     "text": [
      "[I 2025-02-23 06:54:31,807] Trial 1 finished with value: 0.7405028343200684 and parameters: {'iterations': 2193, 'depth': 4, 'learning_rate': 0.005671430811678843, 'l2_leaf_reg': 0.00012325230809466137}. Best is trial 0 with value: 0.7410852909088135.\n",
      "Default metric period is 5 because AUC is/are not implemented for GPU\n"
     ]
    },
    {
     "name": "stdout",
     "output_type": "stream",
     "text": [
      "0:\ttest: 0.7092189\tbest: 0.7092189 (0)\ttotal: 17.7ms\tremaining: 45s\n",
      "300:\ttest: 0.7416522\tbest: 0.7417306 (277)\ttotal: 5.57s\tremaining: 41.3s\n",
      "600:\ttest: 0.7415035\tbest: 0.7417321 (426)\ttotal: 11.4s\tremaining: 36.8s\n"
     ]
    },
    {
     "name": "stderr",
     "output_type": "stream",
     "text": [
      "[I 2025-02-23 06:54:49,032] Trial 2 finished with value: 0.741732120513916 and parameters: {'iterations': 2535, 'depth': 4, 'learning_rate': 0.09275339199839054, 'l2_leaf_reg': 0.0008705394248343123}. Best is trial 2 with value: 0.741732120513916.\n"
     ]
    },
    {
     "name": "stdout",
     "output_type": "stream",
     "text": [
      "bestTest = 0.7417321205\n",
      "bestIteration = 426\n",
      "Shrink model to first 427 iterations.\n",
      "저장 완료\n"
     ]
    },
    {
     "name": "stderr",
     "output_type": "stream",
     "text": [
      "Default metric period is 5 because AUC is/are not implemented for GPU\n"
     ]
    },
    {
     "name": "stdout",
     "output_type": "stream",
     "text": [
      "0:\ttest: 0.7092189\tbest: 0.7092189 (0)\ttotal: 14.6ms\tremaining: 34s\n",
      "300:\ttest: 0.7408112\tbest: 0.7408112 (300)\ttotal: 4.11s\tremaining: 27.7s\n",
      "600:\ttest: 0.7418345\tbest: 0.7418429 (587)\ttotal: 8.22s\tremaining: 23.7s\n",
      "900:\ttest: 0.7420748\tbest: 0.7421159 (805)\ttotal: 12.4s\tremaining: 19.7s\n",
      "bestTest = 0.7421159446\n",
      "bestIteration = 805\n",
      "Shrink model to first 806 iterations.\n"
     ]
    },
    {
     "name": "stderr",
     "output_type": "stream",
     "text": [
      "[I 2025-02-23 06:55:08,243] Trial 3 finished with value: 0.7421159446239471 and parameters: {'iterations': 2334, 'depth': 4, 'learning_rate': 0.04657568321363276, 'l2_leaf_reg': 0.0008640473331457248}. Best is trial 3 with value: 0.7421159446239471.\n"
     ]
    },
    {
     "name": "stdout",
     "output_type": "stream",
     "text": [
      "저장 완료\n"
     ]
    },
    {
     "name": "stderr",
     "output_type": "stream",
     "text": [
      "Default metric period is 5 because AUC is/are not implemented for GPU\n"
     ]
    },
    {
     "name": "stdout",
     "output_type": "stream",
     "text": [
      "0:\ttest: 0.7249149\tbest: 0.7249149 (0)\ttotal: 106ms\tremaining: 3m 4s\n",
      "300:\ttest: 0.7399234\tbest: 0.7399398 (298)\ttotal: 24.6s\tremaining: 1m 57s\n",
      "600:\ttest: 0.7398694\tbest: 0.7402585 (424)\ttotal: 48.9s\tremaining: 1m 32s\n",
      "bestTest = 0.7402585447\n",
      "bestIteration = 424\n",
      "Shrink model to first 425 iterations.\n"
     ]
    },
    {
     "name": "stderr",
     "output_type": "stream",
     "text": [
      "[I 2025-02-23 06:56:11,441] Trial 4 finished with value: 0.7402585446834564 and parameters: {'iterations': 1742, 'depth': 10, 'learning_rate': 0.012622767482095846, 'l2_leaf_reg': 0.00021158816350109617}. Best is trial 3 with value: 0.7421159446239471.\n",
      "Default metric period is 5 because AUC is/are not implemented for GPU\n"
     ]
    },
    {
     "name": "stdout",
     "output_type": "stream",
     "text": [
      "0:\ttest: 0.7092189\tbest: 0.7092189 (0)\ttotal: 24.7ms\tremaining: 51.4s\n",
      "300:\ttest: 0.7411788\tbest: 0.7412059 (276)\ttotal: 6.79s\tremaining: 40.1s\n",
      "600:\ttest: 0.7414982\tbest: 0.7415561 (582)\ttotal: 11.3s\tremaining: 27.8s\n",
      "bestTest = 0.7415560782\n",
      "bestIteration = 582\n",
      "Shrink model to first 583 iterations.\n"
     ]
    },
    {
     "name": "stderr",
     "output_type": "stream",
     "text": [
      "[I 2025-02-23 06:56:30,711] Trial 5 finished with value: 0.7415560781955719 and parameters: {'iterations': 2082, 'depth': 4, 'learning_rate': 0.06995196593094148, 'l2_leaf_reg': 0.0018080296485396804}. Best is trial 3 with value: 0.7421159446239471.\n",
      "Default metric period is 5 because AUC is/are not implemented for GPU\n"
     ]
    },
    {
     "name": "stdout",
     "output_type": "stream",
     "text": [
      "0:\ttest: 0.7125735\tbest: 0.7125735 (0)\ttotal: 26.6ms\tremaining: 53.2s\n",
      "300:\ttest: 0.7420719\tbest: 0.7421288 (271)\ttotal: 6.28s\tremaining: 35.4s\n",
      "600:\ttest: 0.7417313\tbest: 0.7421320 (321)\ttotal: 11.6s\tremaining: 26.9s\n"
     ]
    },
    {
     "name": "stderr",
     "output_type": "stream",
     "text": [
      "[I 2025-02-23 06:56:46,790] Trial 6 finished with value: 0.7421320080757141 and parameters: {'iterations': 1997, 'depth': 5, 'learning_rate': 0.07985155992831598, 'l2_leaf_reg': 62.52181000710482}. Best is trial 6 with value: 0.7421320080757141.\n"
     ]
    },
    {
     "name": "stdout",
     "output_type": "stream",
     "text": [
      "bestTest = 0.7421320081\n",
      "bestIteration = 321\n",
      "Shrink model to first 322 iterations.\n",
      "저장 완료\n"
     ]
    },
    {
     "name": "stderr",
     "output_type": "stream",
     "text": [
      "Default metric period is 5 because AUC is/are not implemented for GPU\n"
     ]
    },
    {
     "name": "stdout",
     "output_type": "stream",
     "text": [
      "0:\ttest: 0.7215362\tbest: 0.7215362 (0)\ttotal: 48ms\tremaining: 1m 32s\n",
      "300:\ttest: 0.7398558\tbest: 0.7407347 (111)\ttotal: 10.9s\tremaining: 58.6s\n"
     ]
    },
    {
     "name": "stderr",
     "output_type": "stream",
     "text": [
      "[I 2025-02-23 06:57:05,471] Trial 7 finished with value: 0.7407346665859222 and parameters: {'iterations': 1927, 'depth': 7, 'learning_rate': 0.0941937211034094, 'l2_leaf_reg': 0.05654822767791934}. Best is trial 6 with value: 0.7421320080757141.\n"
     ]
    },
    {
     "name": "stdout",
     "output_type": "stream",
     "text": [
      "bestTest = 0.7407346666\n",
      "bestIteration = 111\n",
      "Shrink model to first 112 iterations.\n"
     ]
    },
    {
     "name": "stderr",
     "output_type": "stream",
     "text": [
      "Default metric period is 5 because AUC is/are not implemented for GPU\n"
     ]
    },
    {
     "name": "stdout",
     "output_type": "stream",
     "text": [
      "0:\ttest: 0.7215362\tbest: 0.7215362 (0)\ttotal: 30.6ms\tremaining: 58.3s\n",
      "300:\ttest: 0.7414784\tbest: 0.7415656 (289)\ttotal: 9.44s\tremaining: 50.3s\n",
      "600:\ttest: 0.7414183\tbest: 0.7417614 (425)\ttotal: 18.8s\tremaining: 40.8s\n",
      "bestTest = 0.7417613566\n",
      "bestIteration = 425\n",
      "Shrink model to first 426 iterations.\n"
     ]
    },
    {
     "name": "stderr",
     "output_type": "stream",
     "text": [
      "[I 2025-02-23 06:57:32,022] Trial 8 finished with value: 0.7417613565921783 and parameters: {'iterations': 1904, 'depth': 7, 'learning_rate': 0.05155602859187331, 'l2_leaf_reg': 1.299974533316308}. Best is trial 6 with value: 0.7421320080757141.\n",
      "Default metric period is 5 because AUC is/are not implemented for GPU\n"
     ]
    },
    {
     "name": "stdout",
     "output_type": "stream",
     "text": [
      "0:\ttest: 0.7191097\tbest: 0.7191097 (0)\ttotal: 37ms\tremaining: 1m 37s\n",
      "300:\ttest: 0.7416177\tbest: 0.7416222 (293)\ttotal: 7.58s\tremaining: 58.9s\n",
      "600:\ttest: 0.7421807\tbest: 0.7422269 (535)\ttotal: 14.2s\tremaining: 48.1s\n",
      "900:\ttest: 0.7421578\tbest: 0.7422684 (635)\ttotal: 20.9s\tremaining: 40.2s\n",
      "bestTest = 0.7422683537\n",
      "bestIteration = 635\n",
      "Shrink model to first 636 iterations.\n"
     ]
    },
    {
     "name": "stderr",
     "output_type": "stream",
     "text": [
      "[I 2025-02-23 06:57:57,798] Trial 9 finished with value: 0.7422683537006378 and parameters: {'iterations': 2639, 'depth': 6, 'learning_rate': 0.03968704290444751, 'l2_leaf_reg': 0.30557194377967184}. Best is trial 9 with value: 0.7422683537006378.\n"
     ]
    },
    {
     "name": "stdout",
     "output_type": "stream",
     "text": [
      "저장 완료\n"
     ]
    },
    {
     "name": "stderr",
     "output_type": "stream",
     "text": [
      "Default metric period is 5 because AUC is/are not implemented for GPU\n"
     ]
    },
    {
     "name": "stdout",
     "output_type": "stream",
     "text": [
      "0:\ttest: 0.7215362\tbest: 0.7215362 (0)\ttotal: 45.7ms\tremaining: 2m 14s\n",
      "300:\ttest: 0.7412938\tbest: 0.7412938 (300)\ttotal: 11.2s\tremaining: 1m 38s\n",
      "600:\ttest: 0.7419987\tbest: 0.7420630 (573)\ttotal: 19.7s\tremaining: 1m 17s\n",
      "bestTest = 0.7420630455\n",
      "bestIteration = 573\n",
      "Shrink model to first 574 iterations.\n"
     ]
    },
    {
     "name": "stderr",
     "output_type": "stream",
     "text": [
      "[I 2025-02-23 06:58:29,398] Trial 10 finished with value: 0.742063045501709 and parameters: {'iterations': 2945, 'depth': 7, 'learning_rate': 0.03333404337164428, 'l2_leaf_reg': 0.09727344885454356}. Best is trial 9 with value: 0.7422683537006378.\n",
      "Default metric period is 5 because AUC is/are not implemented for GPU\n"
     ]
    },
    {
     "name": "stdout",
     "output_type": "stream",
     "text": [
      "0:\ttest: 0.7191067\tbest: 0.7191067 (0)\ttotal: 37.4ms\tremaining: 1m 42s\n",
      "300:\ttest: 0.7416345\tbest: 0.7417297 (248)\ttotal: 7.73s\tremaining: 1m 2s\n",
      "bestTest = 0.7417296767\n",
      "bestIteration = 248\n",
      "Shrink model to first 249 iterations.\n"
     ]
    },
    {
     "name": "stderr",
     "output_type": "stream",
     "text": [
      "[I 2025-02-23 06:58:47,763] Trial 11 finished with value: 0.7417296767234802 and parameters: {'iterations': 2742, 'depth': 6, 'learning_rate': 0.06823895055506055, 'l2_leaf_reg': 73.12133513928158}. Best is trial 9 with value: 0.7422683537006378.\n",
      "Default metric period is 5 because AUC is/are not implemented for GPU\n"
     ]
    },
    {
     "name": "stdout",
     "output_type": "stream",
     "text": [
      "0:\ttest: 0.7191067\tbest: 0.7191067 (0)\ttotal: 37.6ms\tremaining: 59.7s\n",
      "300:\ttest: 0.7415331\tbest: 0.7415898 (272)\ttotal: 7.48s\tremaining: 32s\n"
     ]
    },
    {
     "name": "stderr",
     "output_type": "stream",
     "text": [
      "[I 2025-02-23 06:59:05,242] Trial 12 finished with value: 0.74158975481987 and parameters: {'iterations': 1588, 'depth': 6, 'learning_rate': 0.07382783813729095, 'l2_leaf_reg': 87.13438924619733}. Best is trial 9 with value: 0.7422683537006378.\n"
     ]
    },
    {
     "name": "stdout",
     "output_type": "stream",
     "text": [
      "bestTest = 0.7415897548\n",
      "bestIteration = 272\n",
      "Shrink model to first 273 iterations.\n"
     ]
    },
    {
     "name": "stderr",
     "output_type": "stream",
     "text": [
      "Default metric period is 5 because AUC is/are not implemented for GPU\n"
     ]
    },
    {
     "name": "stdout",
     "output_type": "stream",
     "text": [
      "0:\ttest: 0.7125705\tbest: 0.7125705 (0)\ttotal: 17.8ms\tremaining: 46.7s\n",
      "300:\ttest: 0.7409186\tbest: 0.7409186 (300)\ttotal: 5.28s\tremaining: 40.7s\n",
      "600:\ttest: 0.7417022\tbest: 0.7417031 (587)\ttotal: 10.5s\tremaining: 35.4s\n",
      "900:\ttest: 0.7417608\tbest: 0.7417907 (785)\ttotal: 15.9s\tremaining: 30.3s\n",
      "1200:\ttest: 0.7418887\tbest: 0.7418973 (1189)\ttotal: 21.3s\tremaining: 25.1s\n",
      "1500:\ttest: 0.7418093\tbest: 0.7419204 (1258)\ttotal: 26.7s\tremaining: 19.9s\n",
      "bestTest = 0.7419204414\n",
      "bestIteration = 1258\n",
      "Shrink model to first 1259 iterations.\n"
     ]
    },
    {
     "name": "stderr",
     "output_type": "stream",
     "text": [
      "[I 2025-02-23 06:59:36,976] Trial 13 finished with value: 0.7419204413890839 and parameters: {'iterations': 2621, 'depth': 5, 'learning_rate': 0.037295530226032936, 'l2_leaf_reg': 1.753669023487523}. Best is trial 9 with value: 0.7422683537006378.\n",
      "Default metric period is 5 because AUC is/are not implemented for GPU\n"
     ]
    },
    {
     "name": "stdout",
     "output_type": "stream",
     "text": [
      "0:\ttest: 0.7216983\tbest: 0.7216983 (0)\ttotal: 58.8ms\tremaining: 2m 51s\n",
      "300:\ttest: 0.7406173\tbest: 0.7416504 (204)\ttotal: 14.1s\tremaining: 2m 2s\n",
      "bestTest = 0.7416503727\n",
      "bestIteration = 204\n",
      "Shrink model to first 205 iterations.\n"
     ]
    },
    {
     "name": "stderr",
     "output_type": "stream",
     "text": [
      "[I 2025-02-23 07:00:03,648] Trial 14 finished with value: 0.7416503727436066 and parameters: {'iterations': 2922, 'depth': 8, 'learning_rate': 0.0629137445767596, 'l2_leaf_reg': 0.016673349285722724}. Best is trial 9 with value: 0.7422683537006378.\n",
      "Default metric period is 5 because AUC is/are not implemented for GPU\n"
     ]
    },
    {
     "name": "stdout",
     "output_type": "stream",
     "text": [
      "0:\ttest: 0.7191097\tbest: 0.7191097 (0)\ttotal: 37.4ms\tremaining: 1m 32s\n",
      "300:\ttest: 0.7416732\tbest: 0.7417971 (256)\ttotal: 7s\tremaining: 50.3s\n"
     ]
    },
    {
     "name": "stderr",
     "output_type": "stream",
     "text": [
      "[I 2025-02-23 07:00:20,315] Trial 15 finished with value: 0.741797149181366 and parameters: {'iterations': 2465, 'depth': 6, 'learning_rate': 0.0791246044213029, 'l2_leaf_reg': 1.1304247061212491}. Best is trial 9 with value: 0.7422683537006378.\n"
     ]
    },
    {
     "name": "stdout",
     "output_type": "stream",
     "text": [
      "bestTest = 0.7417971492\n",
      "bestIteration = 256\n",
      "Shrink model to first 257 iterations.\n"
     ]
    },
    {
     "name": "stderr",
     "output_type": "stream",
     "text": [
      "Default metric period is 5 because AUC is/are not implemented for GPU\n"
     ]
    },
    {
     "name": "stdout",
     "output_type": "stream",
     "text": [
      "0:\ttest: 0.7125705\tbest: 0.7125705 (0)\ttotal: 27.9ms\tremaining: 59.5s\n",
      "300:\ttest: 0.7420616\tbest: 0.7421464 (287)\ttotal: 6.34s\tremaining: 38.6s\n",
      "600:\ttest: 0.7419245\tbest: 0.7421739 (319)\ttotal: 11.7s\tremaining: 29.7s\n",
      "bestTest = 0.7421738803\n",
      "bestIteration = 319\n",
      "Shrink model to first 320 iterations.\n"
     ]
    },
    {
     "name": "stderr",
     "output_type": "stream",
     "text": [
      "[I 2025-02-23 07:00:36,386] Trial 16 finished with value: 0.7421738803386688 and parameters: {'iterations': 2130, 'depth': 5, 'learning_rate': 0.08232767483332624, 'l2_leaf_reg': 0.2874668837485942}. Best is trial 9 with value: 0.7422683537006378.\n",
      "Default metric period is 5 because AUC is/are not implemented for GPU\n"
     ]
    },
    {
     "name": "stdout",
     "output_type": "stream",
     "text": [
      "0:\ttest: 0.7241546\tbest: 0.7241546 (0)\ttotal: 78.1ms\tremaining: 3m 33s\n",
      "300:\ttest: 0.7401482\tbest: 0.7410623 (190)\ttotal: 16.5s\tremaining: 2m 13s\n",
      "bestTest = 0.7410623133\n",
      "bestIteration = 190\n",
      "Shrink model to first 191 iterations.\n"
     ]
    },
    {
     "name": "stderr",
     "output_type": "stream",
     "text": [
      "[I 2025-02-23 07:01:07,189] Trial 17 finished with value: 0.7410623133182526 and parameters: {'iterations': 2730, 'depth': 9, 'learning_rate': 0.05826954394351571, 'l2_leaf_reg': 0.2874200464707651}. Best is trial 9 with value: 0.7422683537006378.\n",
      "Default metric period is 5 because AUC is/are not implemented for GPU\n"
     ]
    },
    {
     "name": "stdout",
     "output_type": "stream",
     "text": [
      "0:\ttest: 0.7125705\tbest: 0.7125705 (0)\ttotal: 28ms\tremaining: 1m\n",
      "300:\ttest: 0.7417811\tbest: 0.7420431 (266)\ttotal: 5.69s\tremaining: 34.9s\n"
     ]
    },
    {
     "name": "stderr",
     "output_type": "stream",
     "text": [
      "[I 2025-02-23 07:01:21,566] Trial 18 finished with value: 0.7420430779457092 and parameters: {'iterations': 2146, 'depth': 5, 'learning_rate': 0.0869211030300752, 'l2_leaf_reg': 0.01734944121649843}. Best is trial 9 with value: 0.7422683537006378.\n"
     ]
    },
    {
     "name": "stdout",
     "output_type": "stream",
     "text": [
      "bestTest = 0.7420430779\n",
      "bestIteration = 266\n",
      "Shrink model to first 267 iterations.\n"
     ]
    },
    {
     "name": "stderr",
     "output_type": "stream",
     "text": [
      "Default metric period is 5 because AUC is/are not implemented for GPU\n"
     ]
    },
    {
     "name": "stdout",
     "output_type": "stream",
     "text": [
      "0:\ttest: 0.7216983\tbest: 0.7216983 (0)\ttotal: 57.3ms\tremaining: 2m 12s\n",
      "300:\ttest: 0.7389028\tbest: 0.7411588 (113)\ttotal: 12s\tremaining: 1m 20s\n"
     ]
    },
    {
     "name": "stderr",
     "output_type": "stream",
     "text": [
      "[I 2025-02-23 07:01:41,718] Trial 19 finished with value: 0.7411588430404663 and parameters: {'iterations': 2321, 'depth': 8, 'learning_rate': 0.09845714075903478, 'l2_leaf_reg': 0.22505941616928013}. Best is trial 9 with value: 0.7422683537006378.\n"
     ]
    },
    {
     "name": "stdout",
     "output_type": "stream",
     "text": [
      "bestTest = 0.741158843\n",
      "bestIteration = 113\n",
      "Shrink model to first 114 iterations.\n"
     ]
    },
    {
     "name": "stderr",
     "output_type": "stream",
     "text": [
      "Default metric period is 5 because AUC is/are not implemented for GPU\n"
     ]
    },
    {
     "name": "stdout",
     "output_type": "stream",
     "text": [
      "0:\ttest: 0.7125701\tbest: 0.7125701 (0)\ttotal: 22.4ms\tremaining: 1m\n",
      "300:\ttest: 0.7415915\tbest: 0.7416052 (299)\ttotal: 6.52s\tremaining: 52.4s\n",
      "600:\ttest: 0.7417002\tbest: 0.7417804 (580)\ttotal: 11.8s\tremaining: 41.6s\n",
      "900:\ttest: 0.7417983\tbest: 0.7418529 (803)\ttotal: 17.2s\tremaining: 34.7s\n",
      "bestTest = 0.7418528795\n",
      "bestIteration = 803\n",
      "Shrink model to first 804 iterations.\n"
     ]
    },
    {
     "name": "stderr",
     "output_type": "stream",
     "text": [
      "[I 2025-02-23 07:02:06,489] Trial 20 finished with value: 0.741852879524231 and parameters: {'iterations': 2723, 'depth': 5, 'learning_rate': 0.05946119003908275, 'l2_leaf_reg': 6.211119165892681}. Best is trial 9 with value: 0.7422683537006378.\n",
      "Default metric period is 5 because AUC is/are not implemented for GPU\n"
     ]
    },
    {
     "name": "stdout",
     "output_type": "stream",
     "text": [
      "0:\ttest: 0.7125686\tbest: 0.7125686 (0)\ttotal: 30.2ms\tremaining: 1m\n",
      "300:\ttest: 0.7419227\tbest: 0.7420601 (266)\ttotal: 6.61s\tremaining: 37.5s\n",
      "bestTest = 0.7420601249\n",
      "bestIteration = 266\n",
      "Shrink model to first 267 iterations.\n"
     ]
    },
    {
     "name": "stderr",
     "output_type": "stream",
     "text": [
      "[I 2025-02-23 07:02:23,209] Trial 21 finished with value: 0.742060124874115 and parameters: {'iterations': 2008, 'depth': 5, 'learning_rate': 0.08164698855569169, 'l2_leaf_reg': 14.1712901622504}. Best is trial 9 with value: 0.7422683537006378.\n",
      "Default metric period is 5 because AUC is/are not implemented for GPU\n"
     ]
    },
    {
     "name": "stdout",
     "output_type": "stream",
     "text": [
      "0:\ttest: 0.7191097\tbest: 0.7191097 (0)\ttotal: 38.1ms\tremaining: 1m 8s\n",
      "300:\ttest: 0.7412893\tbest: 0.7414045 (226)\ttotal: 7.45s\tremaining: 37s\n",
      "600:\ttest: 0.7409746\tbest: 0.7414050 (387)\ttotal: 14.1s\tremaining: 28.1s\n"
     ]
    },
    {
     "name": "stderr",
     "output_type": "stream",
     "text": [
      "[I 2025-02-23 07:02:43,166] Trial 22 finished with value: 0.7414049804210663 and parameters: {'iterations': 1796, 'depth': 6, 'learning_rate': 0.08368518933185896, 'l2_leaf_reg': 0.6643080127233894}. Best is trial 9 with value: 0.7422683537006378.\n"
     ]
    },
    {
     "name": "stdout",
     "output_type": "stream",
     "text": [
      "bestTest = 0.7414049804\n",
      "bestIteration = 387\n",
      "Shrink model to first 388 iterations.\n"
     ]
    },
    {
     "name": "stderr",
     "output_type": "stream",
     "text": [
      "Default metric period is 5 because AUC is/are not implemented for GPU\n"
     ]
    },
    {
     "name": "stdout",
     "output_type": "stream",
     "text": [
      "0:\ttest: 0.7125701\tbest: 0.7125701 (0)\ttotal: 26.3ms\tremaining: 57.7s\n",
      "300:\ttest: 0.7417243\tbest: 0.7418192 (268)\ttotal: 6.12s\tremaining: 38.5s\n"
     ]
    },
    {
     "name": "stderr",
     "output_type": "stream",
     "text": [
      "[I 2025-02-23 07:02:58,071] Trial 23 finished with value: 0.7418191730976105 and parameters: {'iterations': 2197, 'depth': 5, 'learning_rate': 0.09988370202849357, 'l2_leaf_reg': 5.649800770996568}. Best is trial 9 with value: 0.7422683537006378.\n"
     ]
    },
    {
     "name": "stdout",
     "output_type": "stream",
     "text": [
      "bestTest = 0.7418191731\n",
      "bestIteration = 268\n",
      "Shrink model to first 269 iterations.\n"
     ]
    },
    {
     "name": "stderr",
     "output_type": "stream",
     "text": [
      "Default metric period is 5 because AUC is/are not implemented for GPU\n"
     ]
    },
    {
     "name": "stdout",
     "output_type": "stream",
     "text": [
      "0:\ttest: 0.7190942\tbest: 0.7190942 (0)\ttotal: 28ms\tremaining: 44.8s\n",
      "300:\ttest: 0.7417234\tbest: 0.7418654 (254)\ttotal: 7.13s\tremaining: 30.8s\n",
      "600:\ttest: 0.7416171\tbest: 0.7420430 (389)\ttotal: 13.8s\tremaining: 22.9s\n"
     ]
    },
    {
     "name": "stderr",
     "output_type": "stream",
     "text": [
      "[I 2025-02-23 07:03:17,770] Trial 24 finished with value: 0.7420430183410645 and parameters: {'iterations': 1601, 'depth': 6, 'learning_rate': 0.07802480237547624, 'l2_leaf_reg': 25.64352744052186}. Best is trial 9 with value: 0.7422683537006378.\n"
     ]
    },
    {
     "name": "stdout",
     "output_type": "stream",
     "text": [
      "bestTest = 0.7420430183\n",
      "bestIteration = 389\n",
      "Shrink model to first 390 iterations.\n"
     ]
    },
    {
     "name": "stderr",
     "output_type": "stream",
     "text": [
      "Default metric period is 5 because AUC is/are not implemented for GPU\n"
     ]
    },
    {
     "name": "stdout",
     "output_type": "stream",
     "text": [
      "0:\ttest: 0.7125701\tbest: 0.7125701 (0)\ttotal: 30.9ms\tremaining: 1m 3s\n",
      "300:\ttest: 0.7416967\tbest: 0.7418188 (279)\ttotal: 6.51s\tremaining: 38.1s\n"
     ]
    },
    {
     "name": "stderr",
     "output_type": "stream",
     "text": [
      "[I 2025-02-23 07:03:34,243] Trial 25 finished with value: 0.741818755865097 and parameters: {'iterations': 2060, 'depth': 5, 'learning_rate': 0.088174178097401, 'l2_leaf_reg': 5.284751436740825}. Best is trial 9 with value: 0.7422683537006378.\n"
     ]
    },
    {
     "name": "stdout",
     "output_type": "stream",
     "text": [
      "bestTest = 0.7418187559\n",
      "bestIteration = 279\n",
      "Shrink model to first 280 iterations.\n"
     ]
    },
    {
     "name": "stderr",
     "output_type": "stream",
     "text": [
      "Default metric period is 5 because AUC is/are not implemented for GPU\n"
     ]
    },
    {
     "name": "stdout",
     "output_type": "stream",
     "text": [
      "0:\ttest: 0.7191097\tbest: 0.7191097 (0)\ttotal: 32.9ms\tremaining: 58.9s\n",
      "300:\ttest: 0.7414831\tbest: 0.7415636 (255)\ttotal: 7.66s\tremaining: 38s\n",
      "600:\ttest: 0.7415652\tbest: 0.7416893 (581)\ttotal: 14.3s\tremaining: 28.3s\n",
      "bestTest = 0.7416893244\n",
      "bestIteration = 581\n",
      "Shrink model to first 582 iterations.\n"
     ]
    },
    {
     "name": "stderr",
     "output_type": "stream",
     "text": [
      "[I 2025-02-23 07:03:58,816] Trial 26 finished with value: 0.7416893243789673 and parameters: {'iterations': 1792, 'depth': 6, 'learning_rate': 0.07411407878687008, 'l2_leaf_reg': 0.4875321356597568}. Best is trial 9 with value: 0.7422683537006378.\n",
      "Default metric period is 5 because AUC is/are not implemented for GPU\n"
     ]
    },
    {
     "name": "stdout",
     "output_type": "stream",
     "text": [
      "0:\ttest: 0.7216957\tbest: 0.7216957 (0)\ttotal: 61.4ms\tremaining: 2m 31s\n",
      "300:\ttest: 0.7404056\tbest: 0.7419444 (144)\ttotal: 13.7s\tremaining: 1m 38s\n",
      "bestTest = 0.7419444323\n",
      "bestIteration = 144\n",
      "Shrink model to first 145 iterations.\n"
     ]
    },
    {
     "name": "stderr",
     "output_type": "stream",
     "text": [
      "[I 2025-02-23 07:04:22,759] Trial 27 finished with value: 0.741944432258606 and parameters: {'iterations': 2463, 'depth': 8, 'learning_rate': 0.08820714058464725, 'l2_leaf_reg': 2.682590249387828}. Best is trial 9 with value: 0.7422683537006378.\n",
      "Default metric period is 5 because AUC is/are not implemented for GPU\n"
     ]
    },
    {
     "name": "stdout",
     "output_type": "stream",
     "text": [
      "0:\ttest: 0.7125667\tbest: 0.7125667 (0)\ttotal: 31.6ms\tremaining: 1m 1s\n",
      "300:\ttest: 0.7416559\tbest: 0.7416971 (290)\ttotal: 8.04s\tremaining: 44.1s\n",
      "600:\ttest: 0.7421862\tbest: 0.7422296 (580)\ttotal: 14.2s\tremaining: 32s\n",
      "900:\ttest: 0.7421012\tbest: 0.7422307 (637)\ttotal: 20.6s\tremaining: 24.1s\n",
      "bestTest = 0.7422307134\n",
      "bestIteration = 637\n",
      "Shrink model to first 638 iterations.\n"
     ]
    },
    {
     "name": "stderr",
     "output_type": "stream",
     "text": [
      "[I 2025-02-23 07:04:48,215] Trial 28 finished with value: 0.7422307133674622 and parameters: {'iterations': 1954, 'depth': 5, 'learning_rate': 0.06652189194650075, 'l2_leaf_reg': 22.500704387649893}. Best is trial 9 with value: 0.7422683537006378.\n",
      "Default metric period is 5 because AUC is/are not implemented for GPU\n"
     ]
    },
    {
     "name": "stdout",
     "output_type": "stream",
     "text": [
      "0:\ttest: 0.7092189\tbest: 0.7092189 (0)\ttotal: 17.9ms\tremaining: 40.8s\n",
      "300:\ttest: 0.7410496\tbest: 0.7410496 (300)\ttotal: 4.67s\tremaining: 30.7s\n",
      "600:\ttest: 0.7414297\tbest: 0.7414366 (594)\ttotal: 9.65s\tremaining: 27s\n",
      "900:\ttest: 0.7414621\tbest: 0.7415286 (800)\ttotal: 14s\tremaining: 21.5s\n",
      "bestTest = 0.7415286303\n",
      "bestIteration = 800\n",
      "Shrink model to first 801 iterations.\n"
     ]
    },
    {
     "name": "stderr",
     "output_type": "stream",
     "text": [
      "[I 2025-02-23 07:05:08,941] Trial 29 finished with value: 0.7415286302566528 and parameters: {'iterations': 2281, 'depth': 4, 'learning_rate': 0.06657917760785473, 'l2_leaf_reg': 14.471122038277787}. Best is trial 9 with value: 0.7422683537006378.\n",
      "Default metric period is 5 because AUC is/are not implemented for GPU\n"
     ]
    },
    {
     "name": "stdout",
     "output_type": "stream",
     "text": [
      "0:\ttest: 0.7215357\tbest: 0.7215357 (0)\ttotal: 28.5ms\tremaining: 53.5s\n",
      "300:\ttest: 0.7413644\tbest: 0.7414415 (289)\ttotal: 8.53s\tremaining: 44.6s\n",
      "600:\ttest: 0.7413440\tbest: 0.7416964 (479)\ttotal: 18.5s\tremaining: 39.3s\n",
      "bestTest = 0.7416964173\n",
      "bestIteration = 479\n",
      "Shrink model to first 480 iterations.\n"
     ]
    },
    {
     "name": "stderr",
     "output_type": "stream",
     "text": [
      "[I 2025-02-23 07:05:36,543] Trial 30 finished with value: 0.7416964173316956 and parameters: {'iterations': 1876, 'depth': 7, 'learning_rate': 0.053802346803504354, 'l2_leaf_reg': 2.811161627028411}. Best is trial 9 with value: 0.7422683537006378.\n",
      "Default metric period is 5 because AUC is/are not implemented for GPU\n"
     ]
    },
    {
     "name": "stdout",
     "output_type": "stream",
     "text": [
      "0:\ttest: 0.7125622\tbest: 0.7125622 (0)\ttotal: 25.7ms\tremaining: 51.2s\n",
      "300:\ttest: 0.7417440\tbest: 0.7418308 (268)\ttotal: 6.04s\tremaining: 34s\n",
      "600:\ttest: 0.7417147\tbest: 0.7418367 (383)\ttotal: 11.3s\tremaining: 26.3s\n"
     ]
    },
    {
     "name": "stderr",
     "output_type": "stream",
     "text": [
      "[I 2025-02-23 07:05:53,397] Trial 31 finished with value: 0.741836667060852 and parameters: {'iterations': 1996, 'depth': 5, 'learning_rate': 0.073570351986521, 'l2_leaf_reg': 32.7122211652119}. Best is trial 9 with value: 0.7422683537006378.\n"
     ]
    },
    {
     "name": "stdout",
     "output_type": "stream",
     "text": [
      "bestTest = 0.7418366671\n",
      "bestIteration = 383\n",
      "Shrink model to first 384 iterations.\n"
     ]
    },
    {
     "name": "stderr",
     "output_type": "stream",
     "text": [
      "Default metric period is 5 because AUC is/are not implemented for GPU\n"
     ]
    },
    {
     "name": "stdout",
     "output_type": "stream",
     "text": [
      "0:\ttest: 0.7125622\tbest: 0.7125622 (0)\ttotal: 29.7ms\tremaining: 1m 3s\n",
      "300:\ttest: 0.7419190\tbest: 0.7419935 (265)\ttotal: 6.18s\tremaining: 37.5s\n",
      "600:\ttest: 0.7420328\tbest: 0.7420961 (580)\ttotal: 12.4s\tremaining: 31.5s\n"
     ]
    },
    {
     "name": "stderr",
     "output_type": "stream",
     "text": [
      "[I 2025-02-23 07:06:15,200] Trial 32 finished with value: 0.7420961260795593 and parameters: {'iterations': 2130, 'depth': 5, 'learning_rate': 0.07996713202778276, 'l2_leaf_reg': 36.59733150613492}. Best is trial 9 with value: 0.7422683537006378.\n"
     ]
    },
    {
     "name": "stdout",
     "output_type": "stream",
     "text": [
      "bestTest = 0.7420961261\n",
      "bestIteration = 580\n",
      "Shrink model to first 581 iterations.\n"
     ]
    },
    {
     "name": "stderr",
     "output_type": "stream",
     "text": [
      "Default metric period is 5 because AUC is/are not implemented for GPU\n"
     ]
    },
    {
     "name": "stdout",
     "output_type": "stream",
     "text": [
      "0:\ttest: 0.7092189\tbest: 0.7092189 (0)\ttotal: 24.7ms\tremaining: 54.8s\n",
      "300:\ttest: 0.7412179\tbest: 0.7412179 (300)\ttotal: 4.93s\tremaining: 31.4s\n",
      "600:\ttest: 0.7416108\tbest: 0.7416669 (582)\ttotal: 9.07s\tremaining: 24.4s\n",
      "900:\ttest: 0.7415865\tbest: 0.7417114 (800)\ttotal: 13.3s\tremaining: 19.4s\n",
      "bestTest = 0.7417113781\n",
      "bestIteration = 800\n",
      "Shrink model to first 801 iterations.\n"
     ]
    },
    {
     "name": "stderr",
     "output_type": "stream",
     "text": [
      "[I 2025-02-23 07:06:35,391] Trial 33 finished with value: 0.7417113780975342 and parameters: {'iterations': 2217, 'depth': 4, 'learning_rate': 0.06663948172489599, 'l2_leaf_reg': 10.500052638993415}. Best is trial 9 with value: 0.7422683537006378.\n",
      "Default metric period is 5 because AUC is/are not implemented for GPU\n"
     ]
    },
    {
     "name": "stdout",
     "output_type": "stream",
     "text": [
      "0:\ttest: 0.7191040\tbest: 0.7191040 (0)\ttotal: 37.3ms\tremaining: 1m 29s\n",
      "300:\ttest: 0.7420521\tbest: 0.7420824 (267)\ttotal: 7.58s\tremaining: 53.2s\n",
      "600:\ttest: 0.7418213\tbest: 0.7421118 (357)\ttotal: 14.2s\tremaining: 42.9s\n",
      "bestTest = 0.7421118021\n",
      "bestIteration = 357\n",
      "Shrink model to first 358 iterations.\n"
     ]
    },
    {
     "name": "stderr",
     "output_type": "stream",
     "text": [
      "[I 2025-02-23 07:06:55,063] Trial 34 finished with value: 0.7421118021011353 and parameters: {'iterations': 2414, 'depth': 6, 'learning_rate': 0.07498709477027901, 'l2_leaf_reg': 58.89149548436538}. Best is trial 9 with value: 0.7422683537006378.\n",
      "Default metric period is 5 because AUC is/are not implemented for GPU\n"
     ]
    },
    {
     "name": "stdout",
     "output_type": "stream",
     "text": [
      "0:\ttest: 0.7092189\tbest: 0.7092189 (0)\ttotal: 22.4ms\tremaining: 37.8s\n",
      "300:\ttest: 0.7412723\tbest: 0.7413703 (279)\ttotal: 4.85s\tremaining: 22.3s\n",
      "600:\ttest: 0.7413607\tbest: 0.7415161 (485)\ttotal: 9.05s\tremaining: 16.3s\n"
     ]
    },
    {
     "name": "stderr",
     "output_type": "stream",
     "text": [
      "[I 2025-02-23 07:07:10,856] Trial 35 finished with value: 0.7415160536766052 and parameters: {'iterations': 1687, 'depth': 4, 'learning_rate': 0.0914075518218237, 'l2_leaf_reg': 18.947573870724515}. Best is trial 9 with value: 0.7422683537006378.\n"
     ]
    },
    {
     "name": "stdout",
     "output_type": "stream",
     "text": [
      "bestTest = 0.7415160537\n",
      "bestIteration = 485\n",
      "Shrink model to first 486 iterations.\n"
     ]
    },
    {
     "name": "stderr",
     "output_type": "stream",
     "text": [
      "Default metric period is 5 because AUC is/are not implemented for GPU\n"
     ]
    },
    {
     "name": "stdout",
     "output_type": "stream",
     "text": [
      "0:\ttest: 0.7092189\tbest: 0.7092189 (0)\ttotal: 24.4ms\tremaining: 48.2s\n",
      "300:\ttest: 0.7411800\tbest: 0.7412329 (275)\ttotal: 4.94s\tremaining: 27.5s\n",
      "600:\ttest: 0.7412319\tbest: 0.7412594 (591)\ttotal: 9.09s\tremaining: 20.8s\n"
     ]
    },
    {
     "name": "stderr",
     "output_type": "stream",
     "text": [
      "[I 2025-02-23 07:07:28,092] Trial 36 finished with value: 0.74125936627388 and parameters: {'iterations': 1977, 'depth': 4, 'learning_rate': 0.08311871027646606, 'l2_leaf_reg': 95.01657150245448}. Best is trial 9 with value: 0.7422683537006378.\n"
     ]
    },
    {
     "name": "stdout",
     "output_type": "stream",
     "text": [
      "bestTest = 0.7412593663\n",
      "bestIteration = 591\n",
      "Shrink model to first 592 iterations.\n"
     ]
    },
    {
     "name": "stderr",
     "output_type": "stream",
     "text": [
      "Default metric period is 5 because AUC is/are not implemented for GPU\n"
     ]
    },
    {
     "name": "stdout",
     "output_type": "stream",
     "text": [
      "0:\ttest: 0.7125705\tbest: 0.7125705 (0)\ttotal: 19.7ms\tremaining: 50.6s\n",
      "300:\ttest: 0.7415768\tbest: 0.7415768 (300)\ttotal: 5.88s\tremaining: 44.4s\n",
      "600:\ttest: 0.7420266\tbest: 0.7420673 (588)\ttotal: 11.2s\tremaining: 36.8s\n",
      "bestTest = 0.742067337\n",
      "bestIteration = 588\n",
      "Shrink model to first 589 iterations.\n"
     ]
    },
    {
     "name": "stderr",
     "output_type": "stream",
     "text": [
      "[I 2025-02-23 07:07:48,426] Trial 37 finished with value: 0.7420673370361328 and parameters: {'iterations': 2570, 'depth': 5, 'learning_rate': 0.047006430282931486, 'l2_leaf_reg': 3.6789380733914974}. Best is trial 9 with value: 0.7422683537006378.\n",
      "Default metric period is 5 because AUC is/are not implemented for GPU\n"
     ]
    },
    {
     "name": "stdout",
     "output_type": "stream",
     "text": [
      "0:\ttest: 0.7191078\tbest: 0.7191078 (0)\ttotal: 39.3ms\tremaining: 1m 24s\n",
      "300:\ttest: 0.7421080\tbest: 0.7421805 (257)\ttotal: 8.32s\tremaining: 50.8s\n",
      "600:\ttest: 0.7418806\tbest: 0.7422595 (389)\ttotal: 15.8s\tremaining: 40.3s\n"
     ]
    },
    {
     "name": "stderr",
     "output_type": "stream",
     "text": [
      "[I 2025-02-23 07:08:10,543] Trial 38 finished with value: 0.7422595024108887 and parameters: {'iterations': 2139, 'depth': 6, 'learning_rate': 0.07097672044055296, 'l2_leaf_reg': 10.513116457460422}. Best is trial 9 with value: 0.7422683537006378.\n"
     ]
    },
    {
     "name": "stdout",
     "output_type": "stream",
     "text": [
      "bestTest = 0.7422595024\n",
      "bestIteration = 389\n",
      "Shrink model to first 390 iterations.\n"
     ]
    },
    {
     "name": "stderr",
     "output_type": "stream",
     "text": [
      "Default metric period is 5 because AUC is/are not implemented for GPU\n"
     ]
    },
    {
     "name": "stdout",
     "output_type": "stream",
     "text": [
      "0:\ttest: 0.7215385\tbest: 0.7215385 (0)\ttotal: 31.9ms\tremaining: 1m 6s\n",
      "300:\ttest: 0.7414063\tbest: 0.7415336 (276)\ttotal: 8.8s\tremaining: 52.5s\n",
      "bestTest = 0.7415335774\n",
      "bestIteration = 276\n",
      "Shrink model to first 277 iterations.\n"
     ]
    },
    {
     "name": "stderr",
     "output_type": "stream",
     "text": [
      "[I 2025-02-23 07:08:31,198] Trial 39 finished with value: 0.7415335774421692 and parameters: {'iterations': 2097, 'depth': 7, 'learning_rate': 0.07056472670134425, 'l2_leaf_reg': 10.43044416750781}. Best is trial 9 with value: 0.7422683537006378.\n",
      "[I 2025-02-23 07:08:31,206] A new study created in memory with name: no-name-ea4369f0-a2f5-4323-849d-43df580703c4\n",
      "[I 2025-02-23 07:08:35,439] Trial 0 finished with value: 0.7417788995301934 and parameters: {'num_iterations': 2366, 'objective': 'binary', 'metric': 'auc', 'verbose': -1, 'learning_rate': 0.0652646236447618, 'n_estimators': 236, 'min_child_samples': 45, 'subsample': 0.7, 'colsample_bytree': 0.5}. Best is trial 0 with value: 0.7417788995301934.\n",
      "[I 2025-02-23 07:08:47,249] Trial 1 finished with value: 0.7417400960300065 and parameters: {'num_iterations': 1510, 'objective': 'binary', 'metric': 'auc', 'verbose': -1, 'learning_rate': 0.005231880959249543, 'n_estimators': 1411, 'min_child_samples': 10, 'subsample': 1.0, 'colsample_bytree': 0.5}. Best is trial 0 with value: 0.7417788995301934.\n",
      "[I 2025-02-23 07:08:54,254] Trial 2 finished with value: 0.7415909296889789 and parameters: {'num_iterations': 2334, 'objective': 'binary', 'metric': 'auc', 'verbose': -1, 'learning_rate': 0.006578527777128852, 'n_estimators': 931, 'min_child_samples': 15, 'subsample': 0.5, 'colsample_bytree': 1.0}. Best is trial 0 with value: 0.7417788995301934.\n",
      "[I 2025-02-23 07:09:05,042] Trial 3 finished with value: 0.7417100721592621 and parameters: {'num_iterations': 1620, 'objective': 'binary', 'metric': 'auc', 'verbose': -1, 'learning_rate': 0.0058823249237283685, 'n_estimators': 837, 'min_child_samples': 10, 'subsample': 0.9, 'colsample_bytree': 0.6}. Best is trial 0 with value: 0.7417788995301934.\n",
      "[I 2025-02-23 07:09:10,994] Trial 4 finished with value: 0.741833149777794 and parameters: {'num_iterations': 1997, 'objective': 'binary', 'metric': 'auc', 'verbose': -1, 'learning_rate': 0.010907507425244923, 'n_estimators': 1597, 'min_child_samples': 50, 'subsample': 0.6, 'colsample_bytree': 0.8}. Best is trial 4 with value: 0.741833149777794.\n",
      "[I 2025-02-23 07:09:14,396] Trial 5 finished with value: 0.7417339689525618 and parameters: {'num_iterations': 2909, 'objective': 'binary', 'metric': 'auc', 'verbose': -1, 'learning_rate': 0.019760591962733942, 'n_estimators': 612, 'min_child_samples': 30, 'subsample': 0.7, 'colsample_bytree': 0.9}. Best is trial 4 with value: 0.741833149777794.\n",
      "[I 2025-02-23 07:09:17,744] Trial 6 finished with value: 0.7418902749470212 and parameters: {'num_iterations': 2639, 'objective': 'binary', 'metric': 'auc', 'verbose': -1, 'learning_rate': 0.017862094446750985, 'n_estimators': 794, 'min_child_samples': 35, 'subsample': 1.0, 'colsample_bytree': 0.8}. Best is trial 6 with value: 0.7418902749470212.\n",
      "[I 2025-02-23 07:09:23,117] Trial 7 finished with value: 0.7418511815721399 and parameters: {'num_iterations': 1580, 'objective': 'binary', 'metric': 'auc', 'verbose': -1, 'learning_rate': 0.01776722177611332, 'n_estimators': 529, 'min_child_samples': 25, 'subsample': 0.8, 'colsample_bytree': 0.5}. Best is trial 6 with value: 0.7418902749470212.\n",
      "[I 2025-02-23 07:09:26,156] Trial 8 finished with value: 0.7416335333272828 and parameters: {'num_iterations': 1911, 'objective': 'binary', 'metric': 'auc', 'verbose': -1, 'learning_rate': 0.0304747553332844, 'n_estimators': 1328, 'min_child_samples': 10, 'subsample': 0.7, 'colsample_bytree': 0.6}. Best is trial 6 with value: 0.7418902749470212.\n",
      "[I 2025-02-23 07:09:29,795] Trial 9 finished with value: 0.7417792688226122 and parameters: {'num_iterations': 2739, 'objective': 'binary', 'metric': 'auc', 'verbose': -1, 'learning_rate': 0.02691531614176271, 'n_estimators': 1438, 'min_child_samples': 20, 'subsample': 0.6, 'colsample_bytree': 0.5}. Best is trial 6 with value: 0.7418902749470212.\n",
      "[I 2025-02-23 07:09:31,656] Trial 10 finished with value: 0.7416748901073121 and parameters: {'num_iterations': 2627, 'objective': 'binary', 'metric': 'auc', 'verbose': -1, 'learning_rate': 0.08223556891145911, 'n_estimators': 1917, 'min_child_samples': 35, 'subsample': 1.0, 'colsample_bytree': 0.8}. Best is trial 6 with value: 0.7418902749470212.\n",
      "[I 2025-02-23 07:09:35,340] Trial 11 finished with value: 0.741726916658627 and parameters: {'num_iterations': 2522, 'objective': 'binary', 'metric': 'auc', 'verbose': -1, 'learning_rate': 0.015608900924695067, 'n_estimators': 387, 'min_child_samples': 30, 'subsample': 0.9, 'colsample_bytree': 0.7}. Best is trial 6 with value: 0.7418902749470212.\n",
      "[I 2025-02-23 07:09:40,713] Trial 12 finished with value: 0.7417695520640206 and parameters: {'num_iterations': 2058, 'objective': 'binary', 'metric': 'auc', 'verbose': -1, 'learning_rate': 0.011335798942888114, 'n_estimators': 603, 'min_child_samples': 25, 'subsample': 0.9, 'colsample_bytree': 0.7}. Best is trial 6 with value: 0.7418902749470212.\n",
      "[I 2025-02-23 07:09:42,936] Trial 13 finished with value: 0.7419619970940101 and parameters: {'num_iterations': 1785, 'objective': 'binary', 'metric': 'auc', 'verbose': -1, 'learning_rate': 0.04078066254149932, 'n_estimators': 116, 'min_child_samples': 40, 'subsample': 0.8, 'colsample_bytree': 0.9}. Best is trial 13 with value: 0.7419619970940101.\n",
      "[I 2025-02-23 07:09:45,167] Trial 14 finished with value: 0.7416426385693958 and parameters: {'num_iterations': 2918, 'objective': 'binary', 'metric': 'auc', 'verbose': -1, 'learning_rate': 0.0416859307364196, 'n_estimators': 144, 'min_child_samples': 40, 'subsample': 0.8, 'colsample_bytree': 1.0}. Best is trial 13 with value: 0.7419619970940101.\n",
      "[I 2025-02-23 07:09:47,393] Trial 15 finished with value: 0.7415913942826672 and parameters: {'num_iterations': 1825, 'objective': 'binary', 'metric': 'auc', 'verbose': -1, 'learning_rate': 0.04495270359990296, 'n_estimators': 1130, 'min_child_samples': 40, 'subsample': 1.0, 'colsample_bytree': 0.9}. Best is trial 13 with value: 0.7419619970940101.\n",
      "[I 2025-02-23 07:09:49,929] Trial 16 finished with value: 0.7418868163051195 and parameters: {'num_iterations': 2229, 'objective': 'binary', 'metric': 'auc', 'verbose': -1, 'learning_rate': 0.03430819849411822, 'n_estimators': 797, 'min_child_samples': 40, 'subsample': 0.8, 'colsample_bytree': 0.9}. Best is trial 13 with value: 0.7419619970940101.\n",
      "[I 2025-02-23 07:09:51,967] Trial 17 finished with value: 0.741785380016512 and parameters: {'num_iterations': 1772, 'objective': 'binary', 'metric': 'auc', 'verbose': -1, 'learning_rate': 0.054741030035070484, 'n_estimators': 354, 'min_child_samples': 35, 'subsample': 0.9, 'colsample_bytree': 0.8}. Best is trial 13 with value: 0.7419619970940101.\n",
      "[I 2025-02-23 07:09:54,792] Trial 18 finished with value: 0.7419247660647682 and parameters: {'num_iterations': 2167, 'objective': 'binary', 'metric': 'auc', 'verbose': -1, 'learning_rate': 0.025544993213744524, 'n_estimators': 1160, 'min_child_samples': 50, 'subsample': 1.0, 'colsample_bytree': 0.9}. Best is trial 13 with value: 0.7419619970940101.\n",
      "[I 2025-02-23 07:09:56,478] Trial 19 finished with value: 0.7418168056100934 and parameters: {'num_iterations': 2202, 'objective': 'binary', 'metric': 'auc', 'verbose': -1, 'learning_rate': 0.09044557130835931, 'n_estimators': 1101, 'min_child_samples': 50, 'subsample': 0.5, 'colsample_bytree': 1.0}. Best is trial 13 with value: 0.7419619970940101.\n",
      "[I 2025-02-23 07:09:59,483] Trial 20 finished with value: 0.7419891976646488 and parameters: {'num_iterations': 2108, 'objective': 'binary', 'metric': 'auc', 'verbose': -1, 'learning_rate': 0.024199720731551994, 'n_estimators': 1764, 'min_child_samples': 45, 'subsample': 0.6, 'colsample_bytree': 0.9}. Best is trial 20 with value: 0.7419891976646488.\n",
      "[I 2025-02-23 07:10:02,471] Trial 21 finished with value: 0.7419993790169287 and parameters: {'num_iterations': 2085, 'objective': 'binary', 'metric': 'auc', 'verbose': -1, 'learning_rate': 0.02489333309125932, 'n_estimators': 1951, 'min_child_samples': 45, 'subsample': 0.6, 'colsample_bytree': 0.9}. Best is trial 21 with value: 0.7419993790169287.\n",
      "[I 2025-02-23 07:10:04,967] Trial 22 finished with value: 0.7416794447138118 and parameters: {'num_iterations': 1717, 'objective': 'binary', 'metric': 'auc', 'verbose': -1, 'learning_rate': 0.03582453759004472, 'n_estimators': 1973, 'min_child_samples': 45, 'subsample': 0.6, 'colsample_bytree': 0.9}. Best is trial 21 with value: 0.7419993790169287.\n",
      "[I 2025-02-23 07:10:08,153] Trial 23 finished with value: 0.7417531125950507 and parameters: {'num_iterations': 2055, 'objective': 'binary', 'metric': 'auc', 'verbose': -1, 'learning_rate': 0.024226230013975968, 'n_estimators': 1743, 'min_child_samples': 45, 'subsample': 0.6, 'colsample_bytree': 1.0}. Best is trial 21 with value: 0.7419993790169287.\n",
      "[I 2025-02-23 07:10:10,372] Trial 24 finished with value: 0.7415941302232759 and parameters: {'num_iterations': 1891, 'objective': 'binary', 'metric': 'auc', 'verbose': -1, 'learning_rate': 0.04417463108124241, 'n_estimators': 1775, 'min_child_samples': 45, 'subsample': 0.5, 'colsample_bytree': 0.9}. Best is trial 21 with value: 0.7419993790169287.\n",
      "[I 2025-02-23 07:10:13,012] Trial 25 finished with value: 0.7418648970131597 and parameters: {'num_iterations': 2359, 'objective': 'binary', 'metric': 'auc', 'verbose': -1, 'learning_rate': 0.030158776521607315, 'n_estimators': 1599, 'min_child_samples': 40, 'subsample': 0.7, 'colsample_bytree': 1.0}. Best is trial 21 with value: 0.7419993790169287.\n",
      "[I 2025-02-23 07:10:16,555] Trial 26 finished with value: 0.7420542169556905 and parameters: {'num_iterations': 1700, 'objective': 'binary', 'metric': 'auc', 'verbose': -1, 'learning_rate': 0.020991488683850208, 'n_estimators': 1742, 'min_child_samples': 45, 'subsample': 0.6, 'colsample_bytree': 0.8}. Best is trial 26 with value: 0.7420542169556905.\n",
      "[I 2025-02-23 07:10:19,784] Trial 27 finished with value: 0.7419081757021218 and parameters: {'num_iterations': 1972, 'objective': 'binary', 'metric': 'auc', 'verbose': -1, 'learning_rate': 0.02148951071513757, 'n_estimators': 1831, 'min_child_samples': 50, 'subsample': 0.6, 'colsample_bytree': 0.7}. Best is trial 26 with value: 0.7420542169556905.\n",
      "[I 2025-02-23 07:10:22,550] Trial 28 finished with value: 0.7419810851440919 and parameters: {'num_iterations': 2136, 'objective': 'binary', 'metric': 'auc', 'verbose': -1, 'learning_rate': 0.02428176954628455, 'n_estimators': 1600, 'min_child_samples': 45, 'subsample': 0.5, 'colsample_bytree': 0.8}. Best is trial 26 with value: 0.7420542169556905.\n",
      "[I 2025-02-23 07:10:26,736] Trial 29 finished with value: 0.7416877200407038 and parameters: {'num_iterations': 2483, 'objective': 'binary', 'metric': 'auc', 'verbose': -1, 'learning_rate': 0.014376385373372219, 'n_estimators': 1992, 'min_child_samples': 45, 'subsample': 0.6, 'colsample_bytree': 0.8}. Best is trial 26 with value: 0.7420542169556905.\n",
      "[I 2025-02-23 07:10:28,734] Trial 30 finished with value: 0.7417530093520088 and parameters: {'num_iterations': 1666, 'objective': 'binary', 'metric': 'auc', 'verbose': -1, 'learning_rate': 0.06050632214235323, 'n_estimators': 1658, 'min_child_samples': 35, 'subsample': 0.7, 'colsample_bytree': 0.7}. Best is trial 26 with value: 0.7420542169556905.\n",
      "[I 2025-02-23 07:10:31,663] Trial 31 finished with value: 0.7417636751524082 and parameters: {'num_iterations': 2094, 'objective': 'binary', 'metric': 'auc', 'verbose': -1, 'learning_rate': 0.02254886141359254, 'n_estimators': 1500, 'min_child_samples': 45, 'subsample': 0.5, 'colsample_bytree': 0.8}. Best is trial 26 with value: 0.7420542169556905.\n",
      "[I 2025-02-23 07:10:34,394] Trial 32 finished with value: 0.7418566137444952 and parameters: {'num_iterations': 2273, 'objective': 'binary', 'metric': 'auc', 'verbose': -1, 'learning_rate': 0.027315730509849624, 'n_estimators': 1834, 'min_child_samples': 50, 'subsample': 0.5, 'colsample_bytree': 0.8}. Best is trial 26 with value: 0.7420542169556905.\n",
      "[I 2025-02-23 07:10:37,358] Trial 33 finished with value: 0.7417034487210394 and parameters: {'num_iterations': 2132, 'objective': 'binary', 'metric': 'auc', 'verbose': -1, 'learning_rate': 0.022385157932139004, 'n_estimators': 1291, 'min_child_samples': 45, 'subsample': 0.5, 'colsample_bytree': 0.9}. Best is trial 26 with value: 0.7420542169556905.\n",
      "[I 2025-02-23 07:10:40,367] Trial 34 finished with value: 0.7420986273472265 and parameters: {'num_iterations': 1528, 'objective': 'binary', 'metric': 'auc', 'verbose': -1, 'learning_rate': 0.03174987370601306, 'n_estimators': 1686, 'min_child_samples': 40, 'subsample': 0.6, 'colsample_bytree': 0.8}. Best is trial 34 with value: 0.7420986273472265.\n",
      "[I 2025-02-23 07:10:43,030] Trial 35 finished with value: 0.7416344783982042 and parameters: {'num_iterations': 1593, 'objective': 'binary', 'metric': 'auc', 'verbose': -1, 'learning_rate': 0.033113241124075245, 'n_estimators': 1716, 'min_child_samples': 40, 'subsample': 0.6, 'colsample_bytree': 0.9}. Best is trial 34 with value: 0.7420986273472265.\n",
      "[I 2025-02-23 07:10:46,133] Trial 36 finished with value: 0.741501954041344 and parameters: {'num_iterations': 1509, 'objective': 'binary', 'metric': 'auc', 'verbose': -1, 'learning_rate': 0.030709300435710043, 'n_estimators': 1884, 'min_child_samples': 50, 'subsample': 0.7, 'colsample_bytree': 0.6}. Best is trial 34 with value: 0.7420986273472265.\n",
      "[I 2025-02-23 07:10:49,791] Trial 37 finished with value: 0.7420170851986042 and parameters: {'num_iterations': 1706, 'objective': 'binary', 'metric': 'auc', 'verbose': -1, 'learning_rate': 0.01852505392879844, 'n_estimators': 1522, 'min_child_samples': 35, 'subsample': 0.6, 'colsample_bytree': 0.8}. Best is trial 34 with value: 0.7420986273472265.\n",
      "[I 2025-02-23 07:10:54,014] Trial 38 finished with value: 0.7418292463966352 and parameters: {'num_iterations': 1690, 'objective': 'binary', 'metric': 'auc', 'verbose': -1, 'learning_rate': 0.018073826848718926, 'n_estimators': 1522, 'min_child_samples': 35, 'subsample': 0.7, 'colsample_bytree': 0.7}. Best is trial 34 with value: 0.7420986273472265.\n",
      "[I 2025-02-23 07:10:57,785] Trial 39 finished with value: 0.7417665738993522 and parameters: {'num_iterations': 1579, 'objective': 'binary', 'metric': 'auc', 'verbose': -1, 'learning_rate': 0.019837899958143397, 'n_estimators': 1320, 'min_child_samples': 30, 'subsample': 0.6, 'colsample_bytree': 0.8}. Best is trial 34 with value: 0.7420986273472265.\n"
     ]
    },
    {
     "name": "stdout",
     "output_type": "stream",
     "text": [
      "Cat val score : 0.7422684025877598\n",
      "LGBM val score : 0.7418883371545436\n",
      "Ensemble val score : 0.7425205935718849\n"
     ]
    },
    {
     "name": "stderr",
     "output_type": "stream",
     "text": [
      "[I 2025-02-23 07:11:01,477] A new study created in memory with name: no-name-075a5b60-a81f-4b62-83b7-ad5ae71cdb0d\n"
     ]
    },
    {
     "name": "stdout",
     "output_type": "stream",
     "text": [
      "==================================================\n"
     ]
    },
    {
     "name": "stderr",
     "output_type": "stream",
     "text": [
      "Default metric period is 5 because AUC is/are not implemented for GPU\n"
     ]
    },
    {
     "name": "stdout",
     "output_type": "stream",
     "text": [
      "0:\ttest: 0.7269014\tbest: 0.7269014 (0)\ttotal: 81.5ms\tremaining: 3m 12s\n",
      "300:\ttest: 0.7410723\tbest: 0.7410723 (300)\ttotal: 24.7s\tremaining: 2m 49s\n",
      "600:\ttest: 0.7420888\tbest: 0.7421035 (588)\ttotal: 49.1s\tremaining: 2m 24s\n",
      "900:\ttest: 0.7421720\tbest: 0.7421837 (794)\ttotal: 1m 13s\tremaining: 1m 59s\n",
      "1200:\ttest: 0.7420301\tbest: 0.7422035 (1022)\ttotal: 1m 37s\tremaining: 1m 34s\n",
      "bestTest = 0.7422035336\n",
      "bestIteration = 1022\n",
      "Shrink model to first 1023 iterations.\n"
     ]
    },
    {
     "name": "stderr",
     "output_type": "stream",
     "text": [
      "[I 2025-02-23 07:12:52,023] Trial 0 finished with value: 0.7422035336494446 and parameters: {'iterations': 2366, 'depth': 10, 'learning_rate': 0.01181021951839225, 'l2_leaf_reg': 9.980783802743254}. Best is trial 0 with value: 0.7422035336494446.\n"
     ]
    },
    {
     "name": "stdout",
     "output_type": "stream",
     "text": [
      "저장 완료\n"
     ]
    },
    {
     "name": "stderr",
     "output_type": "stream",
     "text": [
      "Default metric period is 5 because AUC is/are not implemented for GPU\n"
     ]
    },
    {
     "name": "stdout",
     "output_type": "stream",
     "text": [
      "0:\ttest: 0.7111251\tbest: 0.7111251 (0)\ttotal: 23.3ms\tremaining: 51.1s\n",
      "300:\ttest: 0.7320130\tbest: 0.7320130 (300)\ttotal: 4.89s\tremaining: 30.8s\n",
      "600:\ttest: 0.7366128\tbest: 0.7366128 (600)\ttotal: 9.3s\tremaining: 24.6s\n",
      "900:\ttest: 0.7385626\tbest: 0.7385626 (900)\ttotal: 14.5s\tremaining: 20.8s\n",
      "1200:\ttest: 0.7397440\tbest: 0.7397440 (1200)\ttotal: 19.5s\tremaining: 16.1s\n",
      "1500:\ttest: 0.7404179\tbest: 0.7404179 (1500)\ttotal: 23.6s\tremaining: 10.9s\n",
      "1800:\ttest: 0.7409609\tbest: 0.7409609 (1800)\ttotal: 28.1s\tremaining: 6.12s\n",
      "2100:\ttest: 0.7413254\tbest: 0.7413254 (2100)\ttotal: 34.9s\tremaining: 1.53s\n",
      "2192:\ttest: 0.7414411\tbest: 0.7414411 (2191)\ttotal: 37s\tremaining: 0us\n",
      "bestTest = 0.7414411008\n",
      "bestIteration = 2191\n",
      "Shrink model to first 2192 iterations.\n"
     ]
    },
    {
     "name": "stderr",
     "output_type": "stream",
     "text": [
      "[I 2025-02-23 07:13:32,990] Trial 1 finished with value: 0.7414411008358002 and parameters: {'iterations': 2193, 'depth': 4, 'learning_rate': 0.005671430811678843, 'l2_leaf_reg': 0.00012325230809466137}. Best is trial 0 with value: 0.7422035336494446.\n",
      "Default metric period is 5 because AUC is/are not implemented for GPU\n"
     ]
    },
    {
     "name": "stdout",
     "output_type": "stream",
     "text": [
      "0:\ttest: 0.7111251\tbest: 0.7111251 (0)\ttotal: 24.2ms\tremaining: 1m 1s\n",
      "300:\ttest: 0.7425596\tbest: 0.7425700 (288)\ttotal: 4.92s\tremaining: 36.5s\n",
      "600:\ttest: 0.7425426\tbest: 0.7427101 (476)\ttotal: 9.03s\tremaining: 29.1s\n"
     ]
    },
    {
     "name": "stderr",
     "output_type": "stream",
     "text": [
      "[I 2025-02-23 07:13:48,350] Trial 2 finished with value: 0.742710143327713 and parameters: {'iterations': 2535, 'depth': 4, 'learning_rate': 0.09275339199839054, 'l2_leaf_reg': 0.0008705394248343123}. Best is trial 2 with value: 0.742710143327713.\n"
     ]
    },
    {
     "name": "stdout",
     "output_type": "stream",
     "text": [
      "bestTest = 0.7427101433\n",
      "bestIteration = 476\n",
      "Shrink model to first 477 iterations.\n",
      "저장 완료\n"
     ]
    },
    {
     "name": "stderr",
     "output_type": "stream",
     "text": [
      "Default metric period is 5 because AUC is/are not implemented for GPU\n"
     ]
    },
    {
     "name": "stdout",
     "output_type": "stream",
     "text": [
      "0:\ttest: 0.7111251\tbest: 0.7111251 (0)\ttotal: 21.2ms\tremaining: 49.4s\n",
      "300:\ttest: 0.7416327\tbest: 0.7416327 (300)\ttotal: 5.28s\tremaining: 35.7s\n",
      "600:\ttest: 0.7426075\tbest: 0.7426075 (600)\ttotal: 11.2s\tremaining: 32.2s\n",
      "900:\ttest: 0.7429397\tbest: 0.7429430 (896)\ttotal: 15.3s\tremaining: 24.3s\n",
      "1200:\ttest: 0.7429560\tbest: 0.7430915 (996)\ttotal: 19.5s\tremaining: 18.4s\n",
      "bestTest = 0.7430915236\n",
      "bestIteration = 996\n",
      "Shrink model to first 997 iterations.\n"
     ]
    },
    {
     "name": "stderr",
     "output_type": "stream",
     "text": [
      "[I 2025-02-23 07:14:13,307] Trial 3 finished with value: 0.7430915236473083 and parameters: {'iterations': 2334, 'depth': 4, 'learning_rate': 0.04657568321363276, 'l2_leaf_reg': 0.0008640473331457248}. Best is trial 3 with value: 0.7430915236473083.\n"
     ]
    },
    {
     "name": "stdout",
     "output_type": "stream",
     "text": [
      "저장 완료\n"
     ]
    },
    {
     "name": "stderr",
     "output_type": "stream",
     "text": [
      "Default metric period is 5 because AUC is/are not implemented for GPU\n"
     ]
    },
    {
     "name": "stdout",
     "output_type": "stream",
     "text": [
      "0:\ttest: 0.7267975\tbest: 0.7267975 (0)\ttotal: 109ms\tremaining: 3m 10s\n",
      "300:\ttest: 0.7404180\tbest: 0.7404358 (297)\ttotal: 24.6s\tremaining: 1m 57s\n",
      "600:\ttest: 0.7400130\tbest: 0.7404942 (403)\ttotal: 48.8s\tremaining: 1m 32s\n",
      "bestTest = 0.7404941618\n",
      "bestIteration = 403\n",
      "Shrink model to first 404 iterations.\n"
     ]
    },
    {
     "name": "stderr",
     "output_type": "stream",
     "text": [
      "[I 2025-02-23 07:15:14,768] Trial 4 finished with value: 0.7404941618442535 and parameters: {'iterations': 1742, 'depth': 10, 'learning_rate': 0.012622767482095846, 'l2_leaf_reg': 0.00021158816350109617}. Best is trial 3 with value: 0.7430915236473083.\n",
      "Default metric period is 5 because AUC is/are not implemented for GPU\n"
     ]
    },
    {
     "name": "stdout",
     "output_type": "stream",
     "text": [
      "0:\ttest: 0.7111251\tbest: 0.7111251 (0)\ttotal: 22.3ms\tremaining: 46.3s\n",
      "300:\ttest: 0.7422578\tbest: 0.7422748 (297)\ttotal: 4.8s\tremaining: 28.4s\n",
      "600:\ttest: 0.7424351\tbest: 0.7426420 (478)\ttotal: 8.93s\tremaining: 22s\n"
     ]
    },
    {
     "name": "stderr",
     "output_type": "stream",
     "text": [
      "[I 2025-02-23 07:15:30,031] Trial 5 finished with value: 0.74264195561409 and parameters: {'iterations': 2082, 'depth': 4, 'learning_rate': 0.06995196593094148, 'l2_leaf_reg': 0.0018080296485396804}. Best is trial 3 with value: 0.7430915236473083.\n"
     ]
    },
    {
     "name": "stdout",
     "output_type": "stream",
     "text": [
      "bestTest = 0.7426419556\n",
      "bestIteration = 478\n",
      "Shrink model to first 479 iterations.\n"
     ]
    },
    {
     "name": "stderr",
     "output_type": "stream",
     "text": [
      "Default metric period is 5 because AUC is/are not implemented for GPU\n"
     ]
    },
    {
     "name": "stdout",
     "output_type": "stream",
     "text": [
      "0:\ttest: 0.7143497\tbest: 0.7143497 (0)\ttotal: 17.7ms\tremaining: 35.3s\n",
      "300:\ttest: 0.7429940\tbest: 0.7429940 (295)\ttotal: 5.25s\tremaining: 29.6s\n",
      "600:\ttest: 0.7432823\tbest: 0.7433504 (584)\ttotal: 10.6s\tremaining: 24.5s\n",
      "bestTest = 0.7433503866\n",
      "bestIteration = 584\n",
      "Shrink model to first 585 iterations.\n"
     ]
    },
    {
     "name": "stderr",
     "output_type": "stream",
     "text": [
      "[I 2025-02-23 07:15:49,501] Trial 6 finished with value: 0.7433503866195679 and parameters: {'iterations': 1997, 'depth': 5, 'learning_rate': 0.07985155992831598, 'l2_leaf_reg': 62.52181000710482}. Best is trial 6 with value: 0.7433503866195679.\n"
     ]
    },
    {
     "name": "stdout",
     "output_type": "stream",
     "text": [
      "저장 완료\n"
     ]
    },
    {
     "name": "stderr",
     "output_type": "stream",
     "text": [
      "Default metric period is 5 because AUC is/are not implemented for GPU\n"
     ]
    },
    {
     "name": "stdout",
     "output_type": "stream",
     "text": [
      "0:\ttest: 0.7239323\tbest: 0.7239323 (0)\ttotal: 48.5ms\tremaining: 1m 33s\n",
      "300:\ttest: 0.7409694\tbest: 0.7422650 (166)\ttotal: 9.84s\tremaining: 53.2s\n"
     ]
    },
    {
     "name": "stderr",
     "output_type": "stream",
     "text": [
      "[I 2025-02-23 07:16:08,021] Trial 7 finished with value: 0.7422649562358856 and parameters: {'iterations': 1927, 'depth': 7, 'learning_rate': 0.0941937211034094, 'l2_leaf_reg': 0.05654822767791934}. Best is trial 6 with value: 0.7433503866195679.\n"
     ]
    },
    {
     "name": "stdout",
     "output_type": "stream",
     "text": [
      "bestTest = 0.7422649562\n",
      "bestIteration = 166\n",
      "Shrink model to first 167 iterations.\n"
     ]
    },
    {
     "name": "stderr",
     "output_type": "stream",
     "text": [
      "Default metric period is 5 because AUC is/are not implemented for GPU\n"
     ]
    },
    {
     "name": "stdout",
     "output_type": "stream",
     "text": [
      "0:\ttest: 0.7239323\tbest: 0.7239323 (0)\ttotal: 28.1ms\tremaining: 53.6s\n",
      "300:\ttest: 0.7428887\tbest: 0.7429123 (293)\ttotal: 8.57s\tremaining: 45.7s\n",
      "600:\ttest: 0.7426885\tbest: 0.7430881 (424)\ttotal: 17.1s\tremaining: 37.1s\n",
      "bestTest = 0.7430880666\n",
      "bestIteration = 424\n",
      "Shrink model to first 425 iterations.\n"
     ]
    },
    {
     "name": "stderr",
     "output_type": "stream",
     "text": [
      "[I 2025-02-23 07:16:32,579] Trial 8 finished with value: 0.7430880665779114 and parameters: {'iterations': 1904, 'depth': 7, 'learning_rate': 0.05155602859187331, 'l2_leaf_reg': 1.299974533316308}. Best is trial 6 with value: 0.7433503866195679.\n",
      "Default metric period is 5 because AUC is/are not implemented for GPU\n"
     ]
    },
    {
     "name": "stdout",
     "output_type": "stream",
     "text": [
      "0:\ttest: 0.7219239\tbest: 0.7219239 (0)\ttotal: 40.7ms\tremaining: 1m 47s\n",
      "300:\ttest: 0.7424551\tbest: 0.7424551 (300)\ttotal: 9.15s\tremaining: 1m 11s\n",
      "600:\ttest: 0.7430480\tbest: 0.7430677 (566)\ttotal: 17.2s\tremaining: 58.2s\n",
      "900:\ttest: 0.7428282\tbest: 0.7430970 (624)\ttotal: 23.9s\tremaining: 46.1s\n",
      "bestTest = 0.7430970073\n",
      "bestIteration = 624\n",
      "Shrink model to first 625 iterations.\n"
     ]
    },
    {
     "name": "stderr",
     "output_type": "stream",
     "text": [
      "[I 2025-02-23 07:17:01,143] Trial 9 finished with value: 0.7430970072746277 and parameters: {'iterations': 2639, 'depth': 6, 'learning_rate': 0.03968704290444751, 'l2_leaf_reg': 0.30557194377967184}. Best is trial 6 with value: 0.7433503866195679.\n",
      "Default metric period is 5 because AUC is/are not implemented for GPU\n"
     ]
    },
    {
     "name": "stdout",
     "output_type": "stream",
     "text": [
      "0:\ttest: 0.7220131\tbest: 0.7220131 (0)\ttotal: 36.6ms\tremaining: 1m 47s\n",
      "300:\ttest: 0.7429323\tbest: 0.7429391 (288)\ttotal: 7.48s\tremaining: 1m 5s\n",
      "600:\ttest: 0.7430835\tbest: 0.7431904 (529)\ttotal: 14.1s\tremaining: 55s\n",
      "bestTest = 0.7431904078\n",
      "bestIteration = 529\n",
      "Shrink model to first 530 iterations.\n"
     ]
    },
    {
     "name": "stderr",
     "output_type": "stream",
     "text": [
      "[I 2025-02-23 07:17:24,258] Trial 10 finished with value: 0.7431904077529907 and parameters: {'iterations': 2945, 'depth': 6, 'learning_rate': 0.07265276039199581, 'l2_leaf_reg': 97.18545559492446}. Best is trial 6 with value: 0.7433503866195679.\n",
      "Default metric period is 5 because AUC is/are not implemented for GPU\n"
     ]
    },
    {
     "name": "stdout",
     "output_type": "stream",
     "text": [
      "0:\ttest: 0.7220068\tbest: 0.7220068 (0)\ttotal: 28.1ms\tremaining: 1m 24s\n",
      "300:\ttest: 0.7430592\tbest: 0.7430606 (299)\ttotal: 7.41s\tremaining: 1m 6s\n",
      "600:\ttest: 0.7431011\tbest: 0.7432172 (483)\ttotal: 14.6s\tremaining: 58.2s\n",
      "bestTest = 0.7432172\n",
      "bestIteration = 483\n",
      "Shrink model to first 484 iterations.\n"
     ]
    },
    {
     "name": "stderr",
     "output_type": "stream",
     "text": [
      "[I 2025-02-23 07:17:48,245] Trial 11 finished with value: 0.7432172000408173 and parameters: {'iterations': 2994, 'depth': 6, 'learning_rate': 0.07131044509072976, 'l2_leaf_reg': 73.12133513928158}. Best is trial 6 with value: 0.7433503866195679.\n",
      "Default metric period is 5 because AUC is/are not implemented for GPU\n"
     ]
    },
    {
     "name": "stdout",
     "output_type": "stream",
     "text": [
      "0:\ttest: 0.7220107\tbest: 0.7220107 (0)\ttotal: 25.1ms\tremaining: 39.9s\n",
      "300:\ttest: 0.7432587\tbest: 0.7432832 (288)\ttotal: 7.43s\tremaining: 31.8s\n",
      "600:\ttest: 0.7432767\tbest: 0.7433783 (531)\ttotal: 14.9s\tremaining: 24.5s\n",
      "bestTest = 0.7433783412\n",
      "bestIteration = 531\n",
      "Shrink model to first 532 iterations.\n"
     ]
    },
    {
     "name": "stderr",
     "output_type": "stream",
     "text": [
      "[I 2025-02-23 07:18:12,608] Trial 12 finished with value: 0.7433783411979675 and parameters: {'iterations': 1588, 'depth': 6, 'learning_rate': 0.07382783813729095, 'l2_leaf_reg': 87.13438924619733}. Best is trial 12 with value: 0.7433783411979675.\n"
     ]
    },
    {
     "name": "stdout",
     "output_type": "stream",
     "text": [
      "저장 완료\n"
     ]
    },
    {
     "name": "stderr",
     "output_type": "stream",
     "text": [
      "Default metric period is 5 because AUC is/are not implemented for GPU\n"
     ]
    },
    {
     "name": "stdout",
     "output_type": "stream",
     "text": [
      "0:\ttest: 0.7143344\tbest: 0.7143344 (0)\ttotal: 20.3ms\tremaining: 32.7s\n",
      "300:\ttest: 0.7428114\tbest: 0.7428197 (294)\ttotal: 5.37s\tremaining: 23.3s\n",
      "600:\ttest: 0.7429968\tbest: 0.7431345 (476)\ttotal: 12.1s\tremaining: 20.3s\n"
     ]
    },
    {
     "name": "stderr",
     "output_type": "stream",
     "text": [
      "[I 2025-02-23 07:18:31,742] Trial 13 finished with value: 0.7431345283985138 and parameters: {'iterations': 1609, 'depth': 5, 'learning_rate': 0.07888750974731618, 'l2_leaf_reg': 10.019996908534585}. Best is trial 12 with value: 0.7433783411979675.\n"
     ]
    },
    {
     "name": "stdout",
     "output_type": "stream",
     "text": [
      "bestTest = 0.7431345284\n",
      "bestIteration = 476\n",
      "Shrink model to first 477 iterations.\n"
     ]
    },
    {
     "name": "stderr",
     "output_type": "stream",
     "text": [
      "Default metric period is 5 because AUC is/are not implemented for GPU\n"
     ]
    },
    {
     "name": "stdout",
     "output_type": "stream",
     "text": [
      "0:\ttest: 0.7242582\tbest: 0.7242582 (0)\ttotal: 54.8ms\tremaining: 1m 23s\n",
      "300:\ttest: 0.7419409\tbest: 0.7425655 (218)\ttotal: 12s\tremaining: 49.1s\n"
     ]
    },
    {
     "name": "stderr",
     "output_type": "stream",
     "text": [
      "[I 2025-02-23 07:18:56,654] Trial 14 finished with value: 0.7425655424594879 and parameters: {'iterations': 1533, 'depth': 8, 'learning_rate': 0.08440970345452611, 'l2_leaf_reg': 11.438982664164415}. Best is trial 12 with value: 0.7433783411979675.\n"
     ]
    },
    {
     "name": "stdout",
     "output_type": "stream",
     "text": [
      "bestTest = 0.7425655425\n",
      "bestIteration = 218\n",
      "Shrink model to first 219 iterations.\n"
     ]
    },
    {
     "name": "stderr",
     "output_type": "stream",
     "text": [
      "Default metric period is 5 because AUC is/are not implemented for GPU\n"
     ]
    },
    {
     "name": "stdout",
     "output_type": "stream",
     "text": [
      "0:\ttest: 0.7244386\tbest: 0.7244386 (0)\ttotal: 60.7ms\tremaining: 1m 48s\n",
      "300:\ttest: 0.7427548\tbest: 0.7429809 (243)\ttotal: 12.7s\tremaining: 1m 2s\n"
     ]
    },
    {
     "name": "stderr",
     "output_type": "stream",
     "text": [
      "[I 2025-02-23 07:19:22,695] Trial 15 finished with value: 0.7429808974266052 and parameters: {'iterations': 1791, 'depth': 8, 'learning_rate': 0.06275110816374027, 'l2_leaf_reg': 70.3890424045827}. Best is trial 12 with value: 0.7433783411979675.\n"
     ]
    },
    {
     "name": "stdout",
     "output_type": "stream",
     "text": [
      "bestTest = 0.7429808974\n",
      "bestIteration = 243\n",
      "Shrink model to first 244 iterations.\n"
     ]
    },
    {
     "name": "stderr",
     "output_type": "stream",
     "text": [
      "Default metric period is 5 because AUC is/are not implemented for GPU\n"
     ]
    },
    {
     "name": "stdout",
     "output_type": "stream",
     "text": [
      "0:\ttest: 0.7143353\tbest: 0.7143353 (0)\ttotal: 17.6ms\tremaining: 36.5s\n",
      "300:\ttest: 0.7430733\tbest: 0.7431022 (298)\ttotal: 5.29s\tremaining: 31.2s\n",
      "600:\ttest: 0.7429907\tbest: 0.7431281 (453)\ttotal: 10.6s\tremaining: 26.1s\n"
     ]
    },
    {
     "name": "stderr",
     "output_type": "stream",
     "text": [
      "[I 2025-02-23 07:19:39,996] Trial 16 finished with value: 0.7431281208992004 and parameters: {'iterations': 2077, 'depth': 5, 'learning_rate': 0.08539951567811262, 'l2_leaf_reg': 2.2154120601410607}. Best is trial 12 with value: 0.7433783411979675.\n"
     ]
    },
    {
     "name": "stdout",
     "output_type": "stream",
     "text": [
      "bestTest = 0.7431281209\n",
      "bestIteration = 453\n",
      "Shrink model to first 454 iterations.\n"
     ]
    },
    {
     "name": "stderr",
     "output_type": "stream",
     "text": [
      "Default metric period is 5 because AUC is/are not implemented for GPU\n"
     ]
    },
    {
     "name": "stdout",
     "output_type": "stream",
     "text": [
      "0:\ttest: 0.7143353\tbest: 0.7143353 (0)\ttotal: 32.6ms\tremaining: 53.7s\n",
      "300:\ttest: 0.7430491\tbest: 0.7431346 (291)\ttotal: 6.71s\tremaining: 30s\n"
     ]
    },
    {
     "name": "stderr",
     "output_type": "stream",
     "text": [
      "[I 2025-02-23 07:19:57,286] Trial 17 finished with value: 0.743134617805481 and parameters: {'iterations': 1648, 'depth': 5, 'learning_rate': 0.09787421385886011, 'l2_leaf_reg': 0.03766449391751257}. Best is trial 12 with value: 0.7433783411979675.\n"
     ]
    },
    {
     "name": "stdout",
     "output_type": "stream",
     "text": [
      "bestTest = 0.7431346178\n",
      "bestIteration = 291\n",
      "Shrink model to first 292 iterations.\n"
     ]
    },
    {
     "name": "stderr",
     "output_type": "stream",
     "text": [
      "Default metric period is 5 because AUC is/are not implemented for GPU\n"
     ]
    },
    {
     "name": "stdout",
     "output_type": "stream",
     "text": [
      "0:\ttest: 0.7243060\tbest: 0.7243060 (0)\ttotal: 40.5ms\tremaining: 1m 17s\n",
      "300:\ttest: 0.7427526\tbest: 0.7429573 (239)\ttotal: 12.3s\tremaining: 1m 5s\n"
     ]
    },
    {
     "name": "stderr",
     "output_type": "stream",
     "text": [
      "[I 2025-02-23 07:20:23,307] Trial 18 finished with value: 0.7429572939872742 and parameters: {'iterations': 1910, 'depth': 8, 'learning_rate': 0.05970016430294879, 'l2_leaf_reg': 26.5004009289384}. Best is trial 12 with value: 0.7433783411979675.\n"
     ]
    },
    {
     "name": "stdout",
     "output_type": "stream",
     "text": [
      "bestTest = 0.742957294\n",
      "bestIteration = 239\n",
      "Shrink model to first 240 iterations.\n"
     ]
    },
    {
     "name": "stderr",
     "output_type": "stream",
     "text": [
      "Default metric period is 5 because AUC is/are not implemented for GPU\n"
     ]
    },
    {
     "name": "stdout",
     "output_type": "stream",
     "text": [
      "0:\ttest: 0.7219239\tbest: 0.7219239 (0)\ttotal: 38.6ms\tremaining: 1m 7s\n",
      "300:\ttest: 0.7427394\tbest: 0.7427394 (300)\ttotal: 8.15s\tremaining: 39.5s\n",
      "600:\ttest: 0.7425894\tbest: 0.7428361 (430)\ttotal: 14.8s\tremaining: 28.5s\n"
     ]
    },
    {
     "name": "stderr",
     "output_type": "stream",
     "text": [
      "[I 2025-02-23 07:20:44,978] Trial 19 finished with value: 0.7428361177444458 and parameters: {'iterations': 1759, 'depth': 6, 'learning_rate': 0.0824713249504086, 'l2_leaf_reg': 2.2761750054483345}. Best is trial 12 with value: 0.7433783411979675.\n"
     ]
    },
    {
     "name": "stdout",
     "output_type": "stream",
     "text": [
      "bestTest = 0.7428361177\n",
      "bestIteration = 430\n",
      "Shrink model to first 431 iterations.\n"
     ]
    },
    {
     "name": "stderr",
     "output_type": "stream",
     "text": [
      "Default metric period is 5 because AUC is/are not implemented for GPU\n"
     ]
    },
    {
     "name": "stdout",
     "output_type": "stream",
     "text": [
      "0:\ttest: 0.7239450\tbest: 0.7239450 (0)\ttotal: 46.3ms\tremaining: 1m 35s\n",
      "300:\ttest: 0.7426670\tbest: 0.7426832 (299)\ttotal: 9.72s\tremaining: 57s\n",
      "600:\ttest: 0.7424062\tbest: 0.7427589 (363)\ttotal: 19.3s\tremaining: 47s\n",
      "bestTest = 0.7427588999\n",
      "bestIteration = 363\n",
      "Shrink model to first 364 iterations.\n"
     ]
    },
    {
     "name": "stderr",
     "output_type": "stream",
     "text": [
      "[I 2025-02-23 07:21:10,346] Trial 20 finished with value: 0.7427588999271393 and parameters: {'iterations': 2066, 'depth': 7, 'learning_rate': 0.06451819519030813, 'l2_leaf_reg': 25.121986351201187}. Best is trial 12 with value: 0.7433783411979675.\n",
      "Default metric period is 5 because AUC is/are not implemented for GPU\n"
     ]
    },
    {
     "name": "stdout",
     "output_type": "stream",
     "text": [
      "0:\ttest: 0.7220131\tbest: 0.7220131 (0)\ttotal: 38.4ms\tremaining: 1m 54s\n",
      "300:\ttest: 0.7431454\tbest: 0.7431531 (297)\ttotal: 8.53s\tremaining: 1m 15s\n",
      "600:\ttest: 0.7432243\tbest: 0.7433918 (531)\ttotal: 15.4s\tremaining: 1m\n",
      "bestTest = 0.7433918118\n",
      "bestIteration = 531\n",
      "Shrink model to first 532 iterations.\n"
     ]
    },
    {
     "name": "stderr",
     "output_type": "stream",
     "text": [
      "[I 2025-02-23 07:21:35,085] Trial 21 finished with value: 0.7433918118476868 and parameters: {'iterations': 2969, 'depth': 6, 'learning_rate': 0.0777897817222467, 'l2_leaf_reg': 89.1501519652713}. Best is trial 21 with value: 0.7433918118476868.\n"
     ]
    },
    {
     "name": "stdout",
     "output_type": "stream",
     "text": [
      "저장 완료\n"
     ]
    },
    {
     "name": "stderr",
     "output_type": "stream",
     "text": [
      "Default metric period is 5 because AUC is/are not implemented for GPU\n"
     ]
    },
    {
     "name": "stdout",
     "output_type": "stream",
     "text": [
      "0:\ttest: 0.7143527\tbest: 0.7143527 (0)\ttotal: 27.8ms\tremaining: 1m 18s\n",
      "300:\ttest: 0.7430720\tbest: 0.7431082 (287)\ttotal: 8.54s\tremaining: 1m 11s\n",
      "600:\ttest: 0.7432375\tbest: 0.7433011 (533)\ttotal: 15.1s\tremaining: 55.8s\n"
     ]
    },
    {
     "name": "stderr",
     "output_type": "stream",
     "text": [
      "[I 2025-02-23 07:21:58,456] Trial 22 finished with value: 0.743301123380661 and parameters: {'iterations': 2816, 'depth': 5, 'learning_rate': 0.07717803999588925, 'l2_leaf_reg': 82.45470717456395}. Best is trial 21 with value: 0.7433918118476868.\n"
     ]
    },
    {
     "name": "stdout",
     "output_type": "stream",
     "text": [
      "bestTest = 0.7433011234\n",
      "bestIteration = 533\n",
      "Shrink model to first 534 iterations.\n"
     ]
    },
    {
     "name": "stderr",
     "output_type": "stream",
     "text": [
      "Default metric period is 5 because AUC is/are not implemented for GPU\n"
     ]
    },
    {
     "name": "stdout",
     "output_type": "stream",
     "text": [
      "0:\ttest: 0.7219134\tbest: 0.7219134 (0)\ttotal: 24.8ms\tremaining: 1m 2s\n",
      "300:\ttest: 0.7432621\tbest: 0.7433052 (245)\ttotal: 6.94s\tremaining: 51.1s\n",
      "bestTest = 0.7433051765\n",
      "bestIteration = 245\n",
      "Shrink model to first 246 iterations.\n"
     ]
    },
    {
     "name": "stderr",
     "output_type": "stream",
     "text": [
      "[I 2025-02-23 07:22:14,781] Trial 23 finished with value: 0.7433051764965057 and parameters: {'iterations': 2519, 'depth': 6, 'learning_rate': 0.09004418331054932, 'l2_leaf_reg': 19.877387311660602}. Best is trial 21 with value: 0.7433918118476868.\n",
      "Default metric period is 5 because AUC is/are not implemented for GPU\n"
     ]
    },
    {
     "name": "stdout",
     "output_type": "stream",
     "text": [
      "0:\ttest: 0.7143497\tbest: 0.7143497 (0)\ttotal: 19.5ms\tremaining: 53.3s\n",
      "300:\ttest: 0.7429571\tbest: 0.7430188 (293)\ttotal: 5.9s\tremaining: 47.8s\n",
      "600:\ttest: 0.7431033\tbest: 0.7431942 (584)\ttotal: 11.9s\tremaining: 42.3s\n",
      "900:\ttest: 0.7430557\tbest: 0.7432029 (703)\ttotal: 17.3s\tremaining: 35.3s\n",
      "bestTest = 0.7432028651\n",
      "bestIteration = 703\n",
      "Shrink model to first 704 iterations.\n"
     ]
    },
    {
     "name": "stderr",
     "output_type": "stream",
     "text": [
      "[I 2025-02-23 07:22:37,816] Trial 24 finished with value: 0.7432028651237488 and parameters: {'iterations': 2739, 'depth': 5, 'learning_rate': 0.07750108708413472, 'l2_leaf_reg': 41.75489521697288}. Best is trial 21 with value: 0.7433918118476868.\n",
      "Default metric period is 5 because AUC is/are not implemented for GPU\n"
     ]
    },
    {
     "name": "stdout",
     "output_type": "stream",
     "text": [
      "0:\ttest: 0.7239293\tbest: 0.7239293 (0)\ttotal: 48.9ms\tremaining: 1m 13s\n",
      "300:\ttest: 0.7425976\tbest: 0.7429020 (189)\ttotal: 9.34s\tremaining: 37.6s\n",
      "bestTest = 0.7429019809\n",
      "bestIteration = 189\n",
      "Shrink model to first 190 iterations.\n"
     ]
    },
    {
     "name": "stderr",
     "output_type": "stream",
     "text": [
      "[I 2025-02-23 07:22:56,660] Trial 25 finished with value: 0.7429019808769226 and parameters: {'iterations': 1513, 'depth': 7, 'learning_rate': 0.0989372979167249, 'l2_leaf_reg': 7.034895460952718}. Best is trial 21 with value: 0.7433918118476868.\n",
      "Default metric period is 5 because AUC is/are not implemented for GPU\n"
     ]
    },
    {
     "name": "stdout",
     "output_type": "stream",
     "text": [
      "0:\ttest: 0.7260439\tbest: 0.7260439 (0)\ttotal: 57.1ms\tremaining: 2m 5s\n",
      "300:\ttest: 0.7410459\tbest: 0.7422245 (171)\ttotal: 16.2s\tremaining: 1m 41s\n",
      "bestTest = 0.7422244549\n",
      "bestIteration = 171\n",
      "Shrink model to first 172 iterations.\n"
     ]
    },
    {
     "name": "stderr",
     "output_type": "stream",
     "text": [
      "[I 2025-02-23 07:23:26,052] Trial 26 finished with value: 0.7422244548797607 and parameters: {'iterations': 2197, 'depth': 9, 'learning_rate': 0.08795268673846489, 'l2_leaf_reg': 25.15645496602401}. Best is trial 21 with value: 0.7433918118476868.\n",
      "Default metric period is 5 because AUC is/are not implemented for GPU\n"
     ]
    },
    {
     "name": "stdout",
     "output_type": "stream",
     "text": [
      "0:\ttest: 0.7219219\tbest: 0.7219219 (0)\ttotal: 35.3ms\tremaining: 1m 26s\n",
      "300:\ttest: 0.7429318\tbest: 0.7429911 (259)\ttotal: 8.79s\tremaining: 1m 2s\n",
      "600:\ttest: 0.7423995\tbest: 0.7430176 (313)\ttotal: 15.4s\tremaining: 47.6s\n"
     ]
    },
    {
     "name": "stderr",
     "output_type": "stream",
     "text": [
      "[I 2025-02-23 07:23:45,780] Trial 27 finished with value: 0.7430175840854645 and parameters: {'iterations': 2455, 'depth': 6, 'learning_rate': 0.08758824543032133, 'l2_leaf_reg': 4.602207737040147}. Best is trial 21 with value: 0.7433918118476868.\n"
     ]
    },
    {
     "name": "stdout",
     "output_type": "stream",
     "text": [
      "bestTest = 0.7430175841\n",
      "bestIteration = 313\n",
      "Shrink model to first 314 iterations.\n"
     ]
    },
    {
     "name": "stderr",
     "output_type": "stream",
     "text": [
      "Default metric period is 5 because AUC is/are not implemented for GPU\n"
     ]
    },
    {
     "name": "stdout",
     "output_type": "stream",
     "text": [
      "0:\ttest: 0.7143451\tbest: 0.7143451 (0)\ttotal: 31.8ms\tremaining: 1m 3s\n",
      "300:\ttest: 0.7429771\tbest: 0.7429919 (297)\ttotal: 6.49s\tremaining: 36.4s\n",
      "600:\ttest: 0.7432572\tbest: 0.7433610 (571)\ttotal: 13.3s\tremaining: 30.6s\n",
      "bestTest = 0.743361026\n",
      "bestIteration = 571\n",
      "Shrink model to first 572 iterations.\n"
     ]
    },
    {
     "name": "stderr",
     "output_type": "stream",
     "text": [
      "[I 2025-02-23 07:24:07,990] Trial 28 finished with value: 0.7433610260486603 and parameters: {'iterations': 1988, 'depth': 5, 'learning_rate': 0.06733363000838587, 'l2_leaf_reg': 31.928088271513342}. Best is trial 21 with value: 0.7433918118476868.\n",
      "Default metric period is 5 because AUC is/are not implemented for GPU\n"
     ]
    },
    {
     "name": "stdout",
     "output_type": "stream",
     "text": [
      "0:\ttest: 0.7219150\tbest: 0.7219150 (0)\ttotal: 38.8ms\tremaining: 1m 30s\n",
      "300:\ttest: 0.7429399\tbest: 0.7429564 (298)\ttotal: 8.89s\tremaining: 1m\n",
      "600:\ttest: 0.7431118\tbest: 0.7432729 (530)\ttotal: 16.7s\tremaining: 48.3s\n",
      "bestTest = 0.7432729006\n",
      "bestIteration = 530\n",
      "Shrink model to first 531 iterations.\n"
     ]
    },
    {
     "name": "stderr",
     "output_type": "stream",
     "text": [
      "[I 2025-02-23 07:24:33,816] Trial 29 finished with value: 0.7432729005813599 and parameters: {'iterations': 2341, 'depth': 6, 'learning_rate': 0.06657917760785473, 'l2_leaf_reg': 15.056878122766262}. Best is trial 21 with value: 0.7433918118476868.\n",
      "Default metric period is 5 because AUC is/are not implemented for GPU\n"
     ]
    },
    {
     "name": "stdout",
     "output_type": "stream",
     "text": [
      "0:\ttest: 0.7239296\tbest: 0.7239296 (0)\ttotal: 44.6ms\tremaining: 1m 21s\n",
      "300:\ttest: 0.7429805\tbest: 0.7429916 (298)\ttotal: 9.35s\tremaining: 47.4s\n",
      "600:\ttest: 0.7426710\tbest: 0.7431158 (424)\ttotal: 17.9s\tremaining: 36.5s\n",
      "bestTest = 0.7431158423\n",
      "bestIteration = 424\n",
      "Shrink model to first 425 iterations.\n"
     ]
    },
    {
     "name": "stderr",
     "output_type": "stream",
     "text": [
      "[I 2025-02-23 07:24:59,346] Trial 30 finished with value: 0.7431158423423767 and parameters: {'iterations': 1828, 'depth': 7, 'learning_rate': 0.05943213695023876, 'l2_leaf_reg': 6.712081441089159}. Best is trial 21 with value: 0.7433918118476868.\n",
      "Default metric period is 5 because AUC is/are not implemented for GPU\n"
     ]
    },
    {
     "name": "stdout",
     "output_type": "stream",
     "text": [
      "0:\ttest: 0.7143497\tbest: 0.7143497 (0)\ttotal: 31.7ms\tremaining: 1m 4s\n",
      "300:\ttest: 0.7430959\tbest: 0.7431282 (296)\ttotal: 6.02s\tremaining: 34.5s\n",
      "600:\ttest: 0.7431163\tbest: 0.7432506 (446)\ttotal: 11.4s\tremaining: 26.9s\n"
     ]
    },
    {
     "name": "stderr",
     "output_type": "stream",
     "text": [
      "[I 2025-02-23 07:25:17,311] Trial 31 finished with value: 0.7432506084442139 and parameters: {'iterations': 2026, 'depth': 5, 'learning_rate': 0.07563867076664277, 'l2_leaf_reg': 37.87995330324253}. Best is trial 21 with value: 0.7433918118476868.\n"
     ]
    },
    {
     "name": "stdout",
     "output_type": "stream",
     "text": [
      "bestTest = 0.7432506084\n",
      "bestIteration = 446\n",
      "Shrink model to first 447 iterations.\n"
     ]
    },
    {
     "name": "stderr",
     "output_type": "stream",
     "text": [
      "Default metric period is 5 because AUC is/are not implemented for GPU\n"
     ]
    },
    {
     "name": "stdout",
     "output_type": "stream",
     "text": [
      "0:\ttest: 0.7143527\tbest: 0.7143527 (0)\ttotal: 30.5ms\tremaining: 1m 5s\n",
      "300:\ttest: 0.7429849\tbest: 0.7430085 (295)\ttotal: 7.75s\tremaining: 47.9s\n",
      "600:\ttest: 0.7431383\tbest: 0.7432858 (562)\ttotal: 15.1s\tremaining: 39s\n",
      "bestTest = 0.7432858348\n",
      "bestIteration = 562\n",
      "Shrink model to first 563 iterations.\n"
     ]
    },
    {
     "name": "stderr",
     "output_type": "stream",
     "text": [
      "[I 2025-02-23 07:25:41,142] Trial 32 finished with value: 0.7432858347892761 and parameters: {'iterations': 2160, 'depth': 5, 'learning_rate': 0.08010822664633191, 'l2_leaf_reg': 95.33776350551432}. Best is trial 21 with value: 0.7433918118476868.\n",
      "Default metric period is 5 because AUC is/are not implemented for GPU\n"
     ]
    },
    {
     "name": "stdout",
     "output_type": "stream",
     "text": [
      "0:\ttest: 0.7143497\tbest: 0.7143497 (0)\ttotal: 32.2ms\tremaining: 1m 12s\n",
      "300:\ttest: 0.7428045\tbest: 0.7428121 (297)\ttotal: 7.49s\tremaining: 48.7s\n",
      "600:\ttest: 0.7430986\tbest: 0.7431647 (583)\ttotal: 13.9s\tremaining: 38.3s\n",
      "bestTest = 0.7431647182\n",
      "bestIteration = 583\n",
      "Shrink model to first 584 iterations.\n"
     ]
    },
    {
     "name": "stderr",
     "output_type": "stream",
     "text": [
      "[I 2025-02-23 07:26:05,149] Trial 33 finished with value: 0.7431647181510925 and parameters: {'iterations': 2258, 'depth': 5, 'learning_rate': 0.07025477230890777, 'l2_leaf_reg': 36.7527298402571}. Best is trial 21 with value: 0.7433918118476868.\n",
      "Default metric period is 5 because AUC is/are not implemented for GPU\n"
     ]
    },
    {
     "name": "stdout",
     "output_type": "stream",
     "text": [
      "0:\ttest: 0.7111251\tbest: 0.7111251 (0)\ttotal: 25.3ms\tremaining: 50.7s\n",
      "300:\ttest: 0.7424602\tbest: 0.7425013 (291)\ttotal: 5.8s\tremaining: 32.8s\n",
      "600:\ttest: 0.7426682\tbest: 0.7427015 (563)\ttotal: 10.9s\tremaining: 25.5s\n"
     ]
    },
    {
     "name": "stderr",
     "output_type": "stream",
     "text": [
      "[I 2025-02-23 07:26:24,451] Trial 34 finished with value: 0.7427015006542206 and parameters: {'iterations': 2006, 'depth': 4, 'learning_rate': 0.08119226775906402, 'l2_leaf_reg': 17.995642850287307}. Best is trial 21 with value: 0.7433918118476868.\n"
     ]
    },
    {
     "name": "stdout",
     "output_type": "stream",
     "text": [
      "bestTest = 0.7427015007\n",
      "bestIteration = 563\n",
      "Shrink model to first 564 iterations.\n"
     ]
    },
    {
     "name": "stderr",
     "output_type": "stream",
     "text": [
      "Default metric period is 5 because AUC is/are not implemented for GPU\n"
     ]
    },
    {
     "name": "stdout",
     "output_type": "stream",
     "text": [
      "0:\ttest: 0.7111251\tbest: 0.7111251 (0)\ttotal: 18.1ms\tremaining: 29.8s\n",
      "300:\ttest: 0.7423759\tbest: 0.7423951 (297)\ttotal: 5s\tremaining: 22.4s\n",
      "600:\ttest: 0.7426873\tbest: 0.7427482 (547)\ttotal: 10s\tremaining: 17.5s\n",
      "900:\ttest: 0.7426265\tbest: 0.7427739 (683)\ttotal: 15.4s\tremaining: 12.8s\n"
     ]
    },
    {
     "name": "stderr",
     "output_type": "stream",
     "text": [
      "[I 2025-02-23 07:26:44,941] Trial 35 finished with value: 0.7427738904953003 and parameters: {'iterations': 1651, 'depth': 4, 'learning_rate': 0.07396770348850984, 'l2_leaf_reg': 43.05267065321799}. Best is trial 21 with value: 0.7433918118476868.\n"
     ]
    },
    {
     "name": "stdout",
     "output_type": "stream",
     "text": [
      "bestTest = 0.7427738905\n",
      "bestIteration = 683\n",
      "Shrink model to first 684 iterations.\n"
     ]
    },
    {
     "name": "stderr",
     "output_type": "stream",
     "text": [
      "Default metric period is 5 because AUC is/are not implemented for GPU\n"
     ]
    },
    {
     "name": "stdout",
     "output_type": "stream",
     "text": [
      "0:\ttest: 0.7220131\tbest: 0.7220131 (0)\ttotal: 36.6ms\tremaining: 1m 28s\n",
      "300:\ttest: 0.7431376\tbest: 0.7431659 (286)\ttotal: 7.71s\tremaining: 54.2s\n",
      "600:\ttest: 0.7428242\tbest: 0.7431952 (319)\ttotal: 14.3s\tremaining: 43.3s\n"
     ]
    },
    {
     "name": "stderr",
     "output_type": "stream",
     "text": [
      "[I 2025-02-23 07:27:03,594] Trial 36 finished with value: 0.7431952357292175 and parameters: {'iterations': 2417, 'depth': 6, 'learning_rate': 0.09321401226123757, 'l2_leaf_reg': 95.01657150245448}. Best is trial 21 with value: 0.7433918118476868.\n"
     ]
    },
    {
     "name": "stdout",
     "output_type": "stream",
     "text": [
      "bestTest = 0.7431952357\n",
      "bestIteration = 319\n",
      "Shrink model to first 320 iterations.\n"
     ]
    },
    {
     "name": "stderr",
     "output_type": "stream",
     "text": [
      "Default metric period is 5 because AUC is/are not implemented for GPU\n"
     ]
    },
    {
     "name": "stdout",
     "output_type": "stream",
     "text": [
      "0:\ttest: 0.7111251\tbest: 0.7111251 (0)\ttotal: 14.3ms\tremaining: 32.1s\n",
      "300:\ttest: 0.7422768\tbest: 0.7422810 (299)\ttotal: 4.09s\tremaining: 26.5s\n",
      "600:\ttest: 0.7427115\tbest: 0.7427773 (547)\ttotal: 8.25s\tremaining: 22.7s\n",
      "900:\ttest: 0.7427745\tbest: 0.7428583 (822)\ttotal: 12.5s\tremaining: 18.7s\n",
      "1200:\ttest: 0.7428440\tbest: 0.7428770 (1071)\ttotal: 16.7s\tremaining: 14.6s\n",
      "bestTest = 0.7428770363\n",
      "bestIteration = 1071\n",
      "Shrink model to first 1072 iterations.\n"
     ]
    },
    {
     "name": "stderr",
     "output_type": "stream",
     "text": [
      "[I 2025-02-23 07:27:27,456] Trial 37 finished with value: 0.7428770363330841 and parameters: {'iterations': 2253, 'depth': 4, 'learning_rate': 0.06872505651029734, 'l2_leaf_reg': 11.315550053656665}. Best is trial 21 with value: 0.7433918118476868.\n",
      "Default metric period is 5 because AUC is/are not implemented for GPU\n"
     ]
    },
    {
     "name": "stdout",
     "output_type": "stream",
     "text": [
      "0:\ttest: 0.7143348\tbest: 0.7143348 (0)\ttotal: 31.1ms\tremaining: 53.3s\n",
      "300:\ttest: 0.7428867\tbest: 0.7429440 (297)\ttotal: 6.76s\tremaining: 31.8s\n"
     ]
    },
    {
     "name": "stderr",
     "output_type": "stream",
     "text": [
      "[I 2025-02-23 07:27:44,583] Trial 38 finished with value: 0.7429439723491669 and parameters: {'iterations': 1715, 'depth': 5, 'learning_rate': 0.08307653345543428, 'l2_leaf_reg': 3.7443799691617308}. Best is trial 21 with value: 0.7433918118476868.\n"
     ]
    },
    {
     "name": "stdout",
     "output_type": "stream",
     "text": [
      "bestTest = 0.7429439723\n",
      "bestIteration = 297\n",
      "Shrink model to first 298 iterations.\n"
     ]
    },
    {
     "name": "stderr",
     "output_type": "stream",
     "text": [
      "Default metric period is 5 because AUC is/are not implemented for GPU\n"
     ]
    },
    {
     "name": "stdout",
     "output_type": "stream",
     "text": [
      "0:\ttest: 0.7111251\tbest: 0.7111251 (0)\ttotal: 19.9ms\tremaining: 37s\n",
      "300:\ttest: 0.7419643\tbest: 0.7419917 (297)\ttotal: 5.17s\tremaining: 26.8s\n",
      "600:\ttest: 0.7427478\tbest: 0.7427831 (560)\ttotal: 10.1s\tremaining: 21.2s\n",
      "900:\ttest: 0.7429329\tbest: 0.7429785 (844)\ttotal: 15.2s\tremaining: 16.2s\n",
      "bestTest = 0.7429785132\n",
      "bestIteration = 844\n",
      "Shrink model to first 845 iterations.\n"
     ]
    },
    {
     "name": "stderr",
     "output_type": "stream",
     "text": [
      "[I 2025-02-23 07:28:07,752] Trial 39 finished with value: 0.7429785132408142 and parameters: {'iterations': 1862, 'depth': 4, 'learning_rate': 0.05453429408189529, 'l2_leaf_reg': 43.20369168983096}. Best is trial 21 with value: 0.7433918118476868.\n",
      "[I 2025-02-23 07:28:07,760] A new study created in memory with name: no-name-3b1fe136-f238-4ec9-a7b7-81ab9f38141d\n",
      "[I 2025-02-23 07:28:11,773] Trial 0 finished with value: 0.7429485756891735 and parameters: {'num_iterations': 2366, 'objective': 'binary', 'metric': 'auc', 'verbose': -1, 'learning_rate': 0.0652646236447618, 'n_estimators': 236, 'min_child_samples': 45, 'subsample': 0.7, 'colsample_bytree': 0.5}. Best is trial 0 with value: 0.7429485756891735.\n",
      "[I 2025-02-23 07:28:23,587] Trial 1 finished with value: 0.7427680274343129 and parameters: {'num_iterations': 1510, 'objective': 'binary', 'metric': 'auc', 'verbose': -1, 'learning_rate': 0.005231880959249543, 'n_estimators': 1411, 'min_child_samples': 10, 'subsample': 1.0, 'colsample_bytree': 0.5}. Best is trial 0 with value: 0.7429485756891735.\n",
      "[I 2025-02-23 07:28:30,229] Trial 2 finished with value: 0.7420195630316083 and parameters: {'num_iterations': 2334, 'objective': 'binary', 'metric': 'auc', 'verbose': -1, 'learning_rate': 0.006578527777128852, 'n_estimators': 931, 'min_child_samples': 15, 'subsample': 0.5, 'colsample_bytree': 1.0}. Best is trial 0 with value: 0.7429485756891735.\n",
      "[I 2025-02-23 07:28:40,818] Trial 3 finished with value: 0.742655274119965 and parameters: {'num_iterations': 1620, 'objective': 'binary', 'metric': 'auc', 'verbose': -1, 'learning_rate': 0.0058823249237283685, 'n_estimators': 837, 'min_child_samples': 10, 'subsample': 0.9, 'colsample_bytree': 0.6}. Best is trial 0 with value: 0.7429485756891735.\n",
      "[I 2025-02-23 07:28:46,820] Trial 4 finished with value: 0.7423711770650252 and parameters: {'num_iterations': 1997, 'objective': 'binary', 'metric': 'auc', 'verbose': -1, 'learning_rate': 0.010907507425244923, 'n_estimators': 1597, 'min_child_samples': 50, 'subsample': 0.6, 'colsample_bytree': 0.8}. Best is trial 0 with value: 0.7429485756891735.\n",
      "[I 2025-02-23 07:28:50,986] Trial 5 finished with value: 0.7422832100224914 and parameters: {'num_iterations': 2909, 'objective': 'binary', 'metric': 'auc', 'verbose': -1, 'learning_rate': 0.019760591962733942, 'n_estimators': 612, 'min_child_samples': 30, 'subsample': 0.7, 'colsample_bytree': 0.9}. Best is trial 0 with value: 0.7429485756891735.\n",
      "[I 2025-02-23 07:28:56,131] Trial 6 finished with value: 0.742241249667756 and parameters: {'num_iterations': 2639, 'objective': 'binary', 'metric': 'auc', 'verbose': -1, 'learning_rate': 0.017862094446750985, 'n_estimators': 794, 'min_child_samples': 35, 'subsample': 1.0, 'colsample_bytree': 0.8}. Best is trial 0 with value: 0.7429485756891735.\n",
      "[I 2025-02-23 07:29:01,824] Trial 7 finished with value: 0.7427818937690093 and parameters: {'num_iterations': 1580, 'objective': 'binary', 'metric': 'auc', 'verbose': -1, 'learning_rate': 0.01776722177611332, 'n_estimators': 529, 'min_child_samples': 25, 'subsample': 0.8, 'colsample_bytree': 0.5}. Best is trial 0 with value: 0.7429485756891735.\n",
      "[I 2025-02-23 07:29:05,241] Trial 8 finished with value: 0.7426238922061319 and parameters: {'num_iterations': 1911, 'objective': 'binary', 'metric': 'auc', 'verbose': -1, 'learning_rate': 0.0304747553332844, 'n_estimators': 1328, 'min_child_samples': 10, 'subsample': 0.7, 'colsample_bytree': 0.6}. Best is trial 0 with value: 0.7429485756891735.\n",
      "[I 2025-02-23 07:29:09,922] Trial 9 finished with value: 0.7425556287010446 and parameters: {'num_iterations': 2739, 'objective': 'binary', 'metric': 'auc', 'verbose': -1, 'learning_rate': 0.02691531614176271, 'n_estimators': 1438, 'min_child_samples': 20, 'subsample': 0.6, 'colsample_bytree': 0.5}. Best is trial 0 with value: 0.7429485756891735.\n",
      "[I 2025-02-23 07:29:11,822] Trial 10 finished with value: 0.7423001259978083 and parameters: {'num_iterations': 2356, 'objective': 'binary', 'metric': 'auc', 'verbose': -1, 'learning_rate': 0.08223556891145911, 'n_estimators': 110, 'min_child_samples': 50, 'subsample': 0.8, 'colsample_bytree': 0.7}. Best is trial 0 with value: 0.7429485756891735.\n",
      "[I 2025-02-23 07:29:15,039] Trial 11 finished with value: 0.7428228891983921 and parameters: {'num_iterations': 2066, 'objective': 'binary', 'metric': 'auc', 'verbose': -1, 'learning_rate': 0.05874633373593952, 'n_estimators': 263, 'min_child_samples': 35, 'subsample': 0.8, 'colsample_bytree': 0.5}. Best is trial 0 with value: 0.7429485756891735.\n",
      "[I 2025-02-23 07:29:17,134] Trial 12 finished with value: 0.7425279277987418 and parameters: {'num_iterations': 2109, 'objective': 'binary', 'metric': 'auc', 'verbose': -1, 'learning_rate': 0.07408392730105004, 'n_estimators': 192, 'min_child_samples': 40, 'subsample': 0.9, 'colsample_bytree': 0.6}. Best is trial 0 with value: 0.7429485756891735.\n",
      "[I 2025-02-23 07:29:19,364] Trial 13 finished with value: 0.7426074924460243 and parameters: {'num_iterations': 2508, 'objective': 'binary', 'metric': 'auc', 'verbose': -1, 'learning_rate': 0.05692129973332467, 'n_estimators': 2000, 'min_child_samples': 40, 'subsample': 0.7, 'colsample_bytree': 0.7}. Best is trial 0 with value: 0.7429485756891735.\n",
      "[I 2025-02-23 07:29:22,380] Trial 14 finished with value: 0.7427709301521431 and parameters: {'num_iterations': 1803, 'objective': 'binary', 'metric': 'auc', 'verbose': -1, 'learning_rate': 0.0457050534867104, 'n_estimators': 384, 'min_child_samples': 45, 'subsample': 0.8, 'colsample_bytree': 0.5}. Best is trial 0 with value: 0.7429485756891735.\n",
      "[I 2025-02-23 07:29:24,360] Trial 15 finished with value: 0.7425267206493295 and parameters: {'num_iterations': 2214, 'objective': 'binary', 'metric': 'auc', 'verbose': -1, 'learning_rate': 0.09268923499941918, 'n_estimators': 440, 'min_child_samples': 35, 'subsample': 0.6, 'colsample_bytree': 0.6}. Best is trial 0 with value: 0.7429485756891735.\n",
      "[I 2025-02-23 07:29:26,938] Trial 16 finished with value: 0.7426219861807442 and parameters: {'num_iterations': 2539, 'objective': 'binary', 'metric': 'auc', 'verbose': -1, 'learning_rate': 0.04333250885838149, 'n_estimators': 281, 'min_child_samples': 40, 'subsample': 0.9, 'colsample_bytree': 0.7}. Best is trial 0 with value: 0.7429485756891735.\n",
      "[I 2025-02-23 07:29:29,144] Trial 17 finished with value: 0.7421509000934874 and parameters: {'num_iterations': 2145, 'objective': 'binary', 'metric': 'auc', 'verbose': -1, 'learning_rate': 0.09979065306757506, 'n_estimators': 647, 'min_child_samples': 30, 'subsample': 0.5, 'colsample_bytree': 0.5}. Best is trial 0 with value: 0.7429485756891735.\n",
      "[I 2025-02-23 07:29:31,529] Trial 18 finished with value: 0.7424837834565827 and parameters: {'num_iterations': 1792, 'objective': 'binary', 'metric': 'auc', 'verbose': -1, 'learning_rate': 0.05838787197638106, 'n_estimators': 1105, 'min_child_samples': 45, 'subsample': 0.8, 'colsample_bytree': 0.6}. Best is trial 0 with value: 0.7429485756891735.\n",
      "[I 2025-02-23 07:29:34,107] Trial 19 finished with value: 0.7422491477604567 and parameters: {'num_iterations': 2421, 'objective': 'binary', 'metric': 'auc', 'verbose': -1, 'learning_rate': 0.03495296051412762, 'n_estimators': 298, 'min_child_samples': 35, 'subsample': 0.7, 'colsample_bytree': 0.9}. Best is trial 0 with value: 0.7429485756891735.\n",
      "[I 2025-02-23 07:29:36,684] Trial 20 finished with value: 0.7428759521510115 and parameters: {'num_iterations': 2025, 'objective': 'binary', 'metric': 'auc', 'verbose': -1, 'learning_rate': 0.06735307075712287, 'n_estimators': 1116, 'min_child_samples': 25, 'subsample': 0.9, 'colsample_bytree': 0.5}. Best is trial 0 with value: 0.7429485756891735.\n",
      "[I 2025-02-23 07:29:39,186] Trial 21 finished with value: 0.7423669401294236 and parameters: {'num_iterations': 2012, 'objective': 'binary', 'metric': 'auc', 'verbose': -1, 'learning_rate': 0.06645970680805233, 'n_estimators': 1103, 'min_child_samples': 25, 'subsample': 0.9, 'colsample_bytree': 0.5}. Best is trial 0 with value: 0.7429485756891735.\n",
      "[I 2025-02-23 07:29:41,886] Trial 22 finished with value: 0.742402960038367 and parameters: {'num_iterations': 2255, 'objective': 'binary', 'metric': 'auc', 'verbose': -1, 'learning_rate': 0.0508357788494696, 'n_estimators': 1725, 'min_child_samples': 25, 'subsample': 0.8, 'colsample_bytree': 0.6}. Best is trial 0 with value: 0.7429485756891735.\n",
      "[I 2025-02-23 07:29:44,260] Trial 23 finished with value: 0.7426994462583276 and parameters: {'num_iterations': 1835, 'objective': 'binary', 'metric': 'auc', 'verbose': -1, 'learning_rate': 0.07028632502867924, 'n_estimators': 1278, 'min_child_samples': 30, 'subsample': 1.0, 'colsample_bytree': 0.5}. Best is trial 0 with value: 0.7429485756891735.\n",
      "[I 2025-02-23 07:29:47,793] Trial 24 finished with value: 0.7426812754829638 and parameters: {'num_iterations': 2077, 'objective': 'binary', 'metric': 'auc', 'verbose': -1, 'learning_rate': 0.037342012277841986, 'n_estimators': 746, 'min_child_samples': 20, 'subsample': 0.9, 'colsample_bytree': 0.5}. Best is trial 0 with value: 0.7429485756891735.\n",
      "[I 2025-02-23 07:29:50,070] Trial 25 finished with value: 0.7424552685226038 and parameters: {'num_iterations': 2245, 'objective': 'binary', 'metric': 'auc', 'verbose': -1, 'learning_rate': 0.05910740976031905, 'n_estimators': 1008, 'min_child_samples': 45, 'subsample': 0.7, 'colsample_bytree': 0.6}. Best is trial 0 with value: 0.7429485756891735.\n",
      "[I 2025-02-23 07:29:52,019] Trial 26 finished with value: 0.7424618999025989 and parameters: {'num_iterations': 1677, 'objective': 'binary', 'metric': 'auc', 'verbose': -1, 'learning_rate': 0.07522413609537597, 'n_estimators': 481, 'min_child_samples': 20, 'subsample': 0.8, 'colsample_bytree': 0.7}. Best is trial 0 with value: 0.7429485756891735.\n",
      "[I 2025-02-23 07:29:54,824] Trial 27 finished with value: 0.7425913587352937 and parameters: {'num_iterations': 1943, 'objective': 'binary', 'metric': 'auc', 'verbose': -1, 'learning_rate': 0.047947876079429776, 'n_estimators': 1201, 'min_child_samples': 35, 'subsample': 0.6, 'colsample_bytree': 0.5}. Best is trial 0 with value: 0.7429485756891735.\n",
      "[I 2025-02-23 07:29:56,999] Trial 28 finished with value: 0.7427351246710557 and parameters: {'num_iterations': 2464, 'objective': 'binary', 'metric': 'auc', 'verbose': -1, 'learning_rate': 0.08814237406891497, 'n_estimators': 122, 'min_child_samples': 40, 'subsample': 0.9, 'colsample_bytree': 0.6}. Best is trial 0 with value: 0.7429485756891735.\n",
      "[I 2025-02-23 07:30:00,388] Trial 29 finished with value: 0.7427483437512975 and parameters: {'num_iterations': 2689, 'objective': 'binary', 'metric': 'auc', 'verbose': -1, 'learning_rate': 0.04010772790358282, 'n_estimators': 1487, 'min_child_samples': 50, 'subsample': 1.0, 'colsample_bytree': 0.5}. Best is trial 0 with value: 0.7429485756891735.\n",
      "[I 2025-02-23 07:30:03,111] Trial 30 finished with value: 0.7430883350007349 and parameters: {'num_iterations': 2163, 'objective': 'binary', 'metric': 'auc', 'verbose': -1, 'learning_rate': 0.06335506478822968, 'n_estimators': 680, 'min_child_samples': 25, 'subsample': 0.8, 'colsample_bytree': 0.5}. Best is trial 30 with value: 0.7430883350007349.\n",
      "[I 2025-02-23 07:30:05,813] Trial 31 finished with value: 0.7428106906359101 and parameters: {'num_iterations': 2148, 'objective': 'binary', 'metric': 'auc', 'verbose': -1, 'learning_rate': 0.06280870652162769, 'n_estimators': 323, 'min_child_samples': 25, 'subsample': 0.8, 'colsample_bytree': 0.5}. Best is trial 30 with value: 0.7430883350007349.\n",
      "[I 2025-02-23 07:30:09,087] Trial 32 finished with value: 0.7427358235470313 and parameters: {'num_iterations': 2319, 'objective': 'binary', 'metric': 'auc', 'verbose': -1, 'learning_rate': 0.051758205311755005, 'n_estimators': 611, 'min_child_samples': 15, 'subsample': 0.7, 'colsample_bytree': 0.5}. Best is trial 30 with value: 0.7430883350007349.\n",
      "[I 2025-02-23 07:30:10,839] Trial 33 finished with value: 0.7419721109412243 and parameters: {'num_iterations': 2047, 'objective': 'binary', 'metric': 'auc', 'verbose': -1, 'learning_rate': 0.07545408368510075, 'n_estimators': 891, 'min_child_samples': 30, 'subsample': 0.9, 'colsample_bytree': 1.0}. Best is trial 30 with value: 0.7430883350007349.\n",
      "[I 2025-02-23 07:30:13,091] Trial 34 finished with value: 0.742521443341537 and parameters: {'num_iterations': 1908, 'objective': 'binary', 'metric': 'auc', 'verbose': -1, 'learning_rate': 0.06224058909662804, 'n_estimators': 966, 'min_child_samples': 15, 'subsample': 0.8, 'colsample_bytree': 0.6}. Best is trial 30 with value: 0.7430883350007349.\n",
      "[I 2025-02-23 07:30:15,236] Trial 35 finished with value: 0.7422838413934011 and parameters: {'num_iterations': 2341, 'objective': 'binary', 'metric': 'auc', 'verbose': -1, 'learning_rate': 0.09626724261783973, 'n_estimators': 682, 'min_child_samples': 30, 'subsample': 0.9, 'colsample_bytree': 0.5}. Best is trial 30 with value: 0.7430883350007349.\n",
      "[I 2025-02-23 07:30:17,413] Trial 36 finished with value: 0.7422155342085653 and parameters: {'num_iterations': 2192, 'objective': 'binary', 'metric': 'auc', 'verbose': -1, 'learning_rate': 0.051482688801124325, 'n_estimators': 228, 'min_child_samples': 25, 'subsample': 0.7, 'colsample_bytree': 0.9}. Best is trial 30 with value: 0.7430883350007349.\n",
      "[I 2025-02-23 07:30:19,563] Trial 37 finished with value: 0.7424554273580528 and parameters: {'num_iterations': 1984, 'objective': 'binary', 'metric': 'auc', 'verbose': -1, 'learning_rate': 0.07699423623102479, 'n_estimators': 545, 'min_child_samples': 20, 'subsample': 0.8, 'colsample_bytree': 0.6}. Best is trial 30 with value: 0.7430883350007349.\n",
      "[I 2025-02-23 07:30:22,391] Trial 38 finished with value: 0.7423912776910943 and parameters: {'num_iterations': 2941, 'objective': 'binary', 'metric': 'auc', 'verbose': -1, 'learning_rate': 0.039600809428560015, 'n_estimators': 813, 'min_child_samples': 35, 'subsample': 0.6, 'colsample_bytree': 0.8}. Best is trial 30 with value: 0.7430883350007349.\n",
      "[I 2025-02-23 07:30:24,777] Trial 39 finished with value: 0.7430003639873148 and parameters: {'num_iterations': 2590, 'objective': 'binary', 'metric': 'auc', 'verbose': -1, 'learning_rate': 0.08505194385859076, 'n_estimators': 418, 'min_child_samples': 25, 'subsample': 1.0, 'colsample_bytree': 0.5}. Best is trial 30 with value: 0.7430883350007349.\n"
     ]
    },
    {
     "name": "stdout",
     "output_type": "stream",
     "text": [
      "Cat val score : 0.7433917861551336\n",
      "LGBM val score : 0.742727953250534\n",
      "Ensemble val score : 0.7435391933935636\n"
     ]
    }
   ],
   "source": [
    "for col in X.columns:\n",
    "    if X[col].dtype == 'object':  # 문자형이면 category로 변환\n",
    "        X[col] = X[col].astype('category')\n",
    "        test[col] = test[col].astype('category')\n",
    "seed = 4972\n",
    "\n",
    "test_pred_total = []\n",
    "scores_total = []\n",
    "seed_everything(seed)\n",
    "print('Seed {} Start!'.format(seed))\n",
    "cv = StratifiedKFold(n_splits = 10, random_state = seed, shuffle=True)\n",
    "test_pred_cat_total = []\n",
    "test_pred_lgbm_total = []\n",
    "# test_pred_xgb_total = []\n",
    "y_val_total = []\n",
    "val_pred_cat_total = []\n",
    "val_pred_lgbm_total = []\n",
    "# val_pred_xgb_total = []\n",
    "\n",
    "cat_param_list = []\n",
    "lgbm_param_list = []\n",
    "for idx, (train_idx, val_idx) in enumerate(cv.split(X, y)):\n",
    "    print('='*50)\n",
    "    X_train, X_val = X.iloc[train_idx],X.iloc[val_idx]\n",
    "    y_train, y_val = y.iloc[train_idx], y.iloc[val_idx]\n",
    "    y_val_total.append(y_val)\n",
    "    best_val_auc = 0\n",
    "\n",
    "    sampler = TPESampler(seed=seed)\n",
    "    optuna_cat = optuna.create_study(direction='maximize', sampler=sampler)\n",
    "    optuna_cat.optimize(objective_cat, n_trials = 40)\n",
    "    cat_trial = optuna_cat.best_trial\n",
    "    cat_trial_params = cat_trial.params\n",
    "    cat_param_list.append(cat_trial_params)\n",
    "    \n",
    "    model = CatBoostClassifier(**cat_trial_params, auto_class_weights='Balanced', eval_metric='AUC', random_state=seed, task_type=\"GPU\" ,devices='2')\n",
    "    model.load_model(\"/data/home/brian1501/Minsu/Pregnant/train/weight/cat_fold_gpu{}.cbm\".format(idx))\n",
    "    #model = CatBoostClassifier(auto_class_weights='Balanced', eval_metric='AUC', random_state=seed, task_type=\"CPU\" )\n",
    "    #model.fit(X_train,y_train,cat_features=categorical_columns,early_stopping_rounds = 300,eval_set=[(X_val,y_val)], verbose = 300)\n",
    "    \n",
    "    # model_gpu = CatBoostClassifier(auto_class_weights='Balanced',eval_metric='AUC', random_state = 501, task_type=\"GPU\" )\n",
    "    # model_gpu.fit(X_train,y_train,cat_features=categorical_columns, early_stopping_rounds = 300,eval_set=[(X_val,y_val)], verbose = 300)\n",
    "    # model_gpu.save_model(\"cat_fold_{}.cbm\".format(idx))\n",
    "\n",
    "\n",
    "    sampler = TPESampler(seed=seed)\n",
    "    optuna_lgbm = optuna.create_study(direction='maximize', sampler=sampler)\n",
    "    optuna_lgbm.optimize(objective_lgbm, n_trials = 40)\n",
    "    lgbm_trial = optuna_lgbm.best_trial\n",
    "    lgbm_trial_params = lgbm_trial.params\n",
    "    lgbm_param_list.append(lgbm_trial_params)\n",
    "    \n",
    "    # lgbm_trial_params =loaded_lgbm_params[idx]\n",
    "    #print(lgbm_trial_params)\n",
    "\n",
    "    class_weights = compute_class_weight(class_weight=\"balanced\", classes=np.unique(y), y=y_train)\n",
    "    class_weight_dict = {i: w for i, w in enumerate(class_weights)}\n",
    "    model_lgbm = lgb.LGBMClassifier(**lgbm_trial_params,early_stopping_rounds=200,class_weight=class_weight_dict)\n",
    "    # model_lgbm = lgb.LGBMClassifier(class_weight=class_weight_dict)\n",
    "    #model_lgbm= lgb.LGBMClassifier(objective = 'binary', metric = 'auc', random_state =  seed, class_weight=class_weight_dict)\n",
    "    model_lgbm.fit(X_train, y_train, eval_set=[(X_val, y_val)],categorical_feature=categorical_columns)\n",
    "\n",
    "    val_pred = model.predict_proba(X_val)[:, 1]\n",
    "    val_pred_lgbm = model_lgbm.predict_proba(X_val)[:, 1]\n",
    "    print('Cat val score : {}'.format(roc_auc_score(y_val,val_pred)))\n",
    "    print('LGBM val score : {}'.format(roc_auc_score(y_val,val_pred_lgbm)))\n",
    "\n",
    "    val_pred_cat_total.append(val_pred)\n",
    "    val_pred_lgbm_total.append(val_pred_lgbm)\n",
    "\n",
    "    \n",
    "    roc_val = roc_auc_score(y_val, (2*val_pred+val_pred_lgbm)/3)\n",
    "    scores_total.append(roc_val)\n",
    "    print('Ensemble val score : {}'.format(roc_val))\n",
    "    \n",
    "    test_pred = model.predict_proba(test)[:, 1]\n",
    "    test_pred_lgbm = model_lgbm.predict_proba(test)[:, 1]\n",
    "    test_pred_total.append((2*test_pred+test_pred_lgbm)/3)\n",
    "    test_pred_cat_total.append(test_pred)\n",
    "    test_pred_lgbm_total.append(test_pred_lgbm)\n"
   ]
  },
  {
   "cell_type": "code",
   "execution_count": null,
   "metadata": {},
   "outputs": [
    {
     "name": "stdout",
     "output_type": "stream",
     "text": [
      "Ensemble val score : 0.7397559720159047\n",
      "Ensemble val score : 0.7430628740674867\n",
      "Ensemble val score : 0.7404131586325166\n",
      "Ensemble val score : 0.7424507377414216\n",
      "Ensemble val score : 0.7433893797980814\n",
      "Ensemble val score : 0.7421342064877992\n",
      "Ensemble val score : 0.742806461642081\n",
      "Ensemble val score : 0.7414416839302269\n",
      "Ensemble val score : 0.7391250967029923\n",
      "Ensemble val score : 0.7373874646873058\n",
      "0.7411967035705815\n"
     ]
    }
   ],
   "source": [
    "cat_ratio, lgbm_ratio= 2,1\n",
    "total_ratio = cat_ratio + lgbm_ratio\n",
    "\n",
    "scores_ensemble_total = []\n",
    "test_pred_ensemble_total = []\n",
    "for i in range(10):\n",
    "    val_pred_cat_seed = val_pred_cat_total[i]\n",
    "    val_pred_lgbm_seed = val_pred_lgbm_total[i]\n",
    "    # val_pred_xgb_seed = val_pred_xgb_total[i]\n",
    "    \n",
    "    test_pred_cat_seed = test_pred_cat_total[i]\n",
    "    test_pred_lgbm_seed = test_pred_lgbm_total[i]\n",
    "    # test_pred_xgb_seed = test_pred_xgb_total[i]\n",
    "    \n",
    "    val_pred_ensemble = (val_pred_cat_seed*cat_ratio + val_pred_lgbm_seed*lgbm_ratio )/total_ratio\n",
    "    y_val_seed = y_val_total[i]\n",
    "    roc_val_seed = roc_auc_score(y_val_seed, val_pred_ensemble)\n",
    "    scores_ensemble_total.append(roc_val_seed)\n",
    "    print('Ensemble val score : {}'.format(roc_val_seed))\n",
    "    \n",
    "    test_pred_ensemble = (test_pred_cat_seed*cat_ratio + test_pred_lgbm_seed*lgbm_ratio)/total_ratio\n",
    "    test_pred_ensemble_total.append(test_pred_ensemble)\n",
    "print(np.mean(scores_ensemble_total))"
   ]
  },
  {
   "cell_type": "code",
   "execution_count": 23,
   "metadata": {},
   "outputs": [],
   "source": [
    "import json\n",
    "\n",
    "# with open(\"cat_gpu_params.json\", \"w\") as f:\n",
    "#     json.dump(cat_param_list, f)\n",
    "with open(\"lgbm_params_min.json\", \"w\") as f:\n",
    "    json.dump(lgbm_param_list, f)  \n",
    "# with open(\"/data/home/brian1501/Minsu/Pregnant/train/recent_best/lgbm_params.json\", \"r\") as f:\n",
    "#     loaded_lgbm_params =  json.load(f)\n",
    "# with open(\"cat_params.json\", \"r\") as f:\n",
    "#     loaded_cat_params = json.load(f)\n",
    "# with open(\"cat_gpu_params.json\", \"r\") as f:\n",
    "#     loaded_cat_gpu_params = json.load(f)\n",
    "    \n"
   ]
  },
  {
   "cell_type": "code",
   "execution_count": 24,
   "metadata": {
    "colab": {
     "base_uri": "https://localhost:8080/"
    },
    "id": "LDLeh9IJD9pt",
    "outputId": "0534775f-2085-448a-d2aa-690a9e4e4ff4"
   },
   "outputs": [
    {
     "data": {
      "text/plain": [
       "(0.7412786718034279,\n",
       " [0.7417649918225091,\n",
       "  0.7363626427501329,\n",
       "  0.7438701274555934,\n",
       "  0.7420991078244598,\n",
       "  0.7451706637660349,\n",
       "  0.7391214951091865,\n",
       "  0.7394023638336258,\n",
       "  0.738935538507288,\n",
       "  0.7425205935718849,\n",
       "  0.7435391933935636])"
      ]
     },
     "execution_count": 24,
     "metadata": {},
     "output_type": "execute_result"
    }
   ],
   "source": [
    "np.mean(scores_total), scores_total"
   ]
  },
  {
   "cell_type": "markdown",
   "metadata": {},
   "source": [
    "(0.741201564719638,\n",
    " [0.7414238034278366,\n",
    "  0.736325829012412,\n",
    "  0.7433595364013841,\n",
    "  0.7422114481666402,\n",
    "  0.7451912528111095,\n",
    "  0.7392552305863451,\n",
    "  0.739200440298218,\n",
    "  0.7389758112353779,\n",
    "  0.7423986158888373,\n",
    "  0.7436736793682186])"
   ]
  },
  {
   "cell_type": "code",
   "execution_count": 25,
   "metadata": {},
   "outputs": [],
   "source": [
    "test_pred_total_mean = np.mean(test_pred_total, axis=(0))"
   ]
  },
  {
   "cell_type": "code",
   "execution_count": 26,
   "metadata": {},
   "outputs": [
    {
     "data": {
      "text/plain": [
       "array([0.00506044, 0.00385008, 0.32100515, ..., 0.6983585 , 0.36143792,\n",
       "       0.00512319])"
      ]
     },
     "execution_count": 26,
     "metadata": {},
     "output_type": "execute_result"
    }
   ],
   "source": [
    "test_pred_total_mean"
   ]
  },
  {
   "cell_type": "code",
   "execution_count": 27,
   "metadata": {},
   "outputs": [
    {
     "ename": "FileNotFoundError",
     "evalue": "[Errno 2] No such file or directory: '/data/sample_submission.csv'",
     "output_type": "error",
     "traceback": [
      "\u001b[0;31m---------------------------------------------------------------------------\u001b[0m",
      "\u001b[0;31mFileNotFoundError\u001b[0m                         Traceback (most recent call last)",
      "Input \u001b[0;32mIn [27]\u001b[0m, in \u001b[0;36m<cell line: 1>\u001b[0;34m()\u001b[0m\n\u001b[0;32m----> 1\u001b[0m sample_submission \u001b[38;5;241m=\u001b[39m \u001b[43mpd\u001b[49m\u001b[38;5;241;43m.\u001b[39;49m\u001b[43mread_csv\u001b[49m\u001b[43m(\u001b[49m\u001b[38;5;124;43m'\u001b[39;49m\u001b[38;5;124;43m/data/sample_submission.csv\u001b[39;49m\u001b[38;5;124;43m'\u001b[39;49m\u001b[43m)\u001b[49m\n\u001b[1;32m      2\u001b[0m sample_submission[\u001b[38;5;124m'\u001b[39m\u001b[38;5;124mprobability\u001b[39m\u001b[38;5;124m'\u001b[39m] \u001b[38;5;241m=\u001b[39m test_pred_total_mean\n\u001b[1;32m      3\u001b[0m sample_submission\u001b[38;5;241m.\u001b[39mto_csv(\u001b[38;5;124m'\u001b[39m\u001b[38;5;124mdata/Add_feature_reason2_Minsu_seed.csv\u001b[39m\u001b[38;5;124m'\u001b[39m, index\u001b[38;5;241m=\u001b[39m\u001b[38;5;28;01mFalse\u001b[39;00m)\n",
      "File \u001b[0;32m~/.local/lib/python3.9/site-packages/pandas/io/parsers/readers.py:948\u001b[0m, in \u001b[0;36mread_csv\u001b[0;34m(filepath_or_buffer, sep, delimiter, header, names, index_col, usecols, dtype, engine, converters, true_values, false_values, skipinitialspace, skiprows, skipfooter, nrows, na_values, keep_default_na, na_filter, verbose, skip_blank_lines, parse_dates, infer_datetime_format, keep_date_col, date_parser, date_format, dayfirst, cache_dates, iterator, chunksize, compression, thousands, decimal, lineterminator, quotechar, quoting, doublequote, escapechar, comment, encoding, encoding_errors, dialect, on_bad_lines, delim_whitespace, low_memory, memory_map, float_precision, storage_options, dtype_backend)\u001b[0m\n\u001b[1;32m    935\u001b[0m kwds_defaults \u001b[38;5;241m=\u001b[39m _refine_defaults_read(\n\u001b[1;32m    936\u001b[0m     dialect,\n\u001b[1;32m    937\u001b[0m     delimiter,\n\u001b[0;32m   (...)\u001b[0m\n\u001b[1;32m    944\u001b[0m     dtype_backend\u001b[38;5;241m=\u001b[39mdtype_backend,\n\u001b[1;32m    945\u001b[0m )\n\u001b[1;32m    946\u001b[0m kwds\u001b[38;5;241m.\u001b[39mupdate(kwds_defaults)\n\u001b[0;32m--> 948\u001b[0m \u001b[38;5;28;01mreturn\u001b[39;00m \u001b[43m_read\u001b[49m\u001b[43m(\u001b[49m\u001b[43mfilepath_or_buffer\u001b[49m\u001b[43m,\u001b[49m\u001b[43m \u001b[49m\u001b[43mkwds\u001b[49m\u001b[43m)\u001b[49m\n",
      "File \u001b[0;32m~/.local/lib/python3.9/site-packages/pandas/io/parsers/readers.py:611\u001b[0m, in \u001b[0;36m_read\u001b[0;34m(filepath_or_buffer, kwds)\u001b[0m\n\u001b[1;32m    608\u001b[0m _validate_names(kwds\u001b[38;5;241m.\u001b[39mget(\u001b[38;5;124m\"\u001b[39m\u001b[38;5;124mnames\u001b[39m\u001b[38;5;124m\"\u001b[39m, \u001b[38;5;28;01mNone\u001b[39;00m))\n\u001b[1;32m    610\u001b[0m \u001b[38;5;66;03m# Create the parser.\u001b[39;00m\n\u001b[0;32m--> 611\u001b[0m parser \u001b[38;5;241m=\u001b[39m \u001b[43mTextFileReader\u001b[49m\u001b[43m(\u001b[49m\u001b[43mfilepath_or_buffer\u001b[49m\u001b[43m,\u001b[49m\u001b[43m \u001b[49m\u001b[38;5;241;43m*\u001b[39;49m\u001b[38;5;241;43m*\u001b[39;49m\u001b[43mkwds\u001b[49m\u001b[43m)\u001b[49m\n\u001b[1;32m    613\u001b[0m \u001b[38;5;28;01mif\u001b[39;00m chunksize \u001b[38;5;129;01mor\u001b[39;00m iterator:\n\u001b[1;32m    614\u001b[0m     \u001b[38;5;28;01mreturn\u001b[39;00m parser\n",
      "File \u001b[0;32m~/.local/lib/python3.9/site-packages/pandas/io/parsers/readers.py:1448\u001b[0m, in \u001b[0;36mTextFileReader.__init__\u001b[0;34m(self, f, engine, **kwds)\u001b[0m\n\u001b[1;32m   1445\u001b[0m     \u001b[38;5;28mself\u001b[39m\u001b[38;5;241m.\u001b[39moptions[\u001b[38;5;124m\"\u001b[39m\u001b[38;5;124mhas_index_names\u001b[39m\u001b[38;5;124m\"\u001b[39m] \u001b[38;5;241m=\u001b[39m kwds[\u001b[38;5;124m\"\u001b[39m\u001b[38;5;124mhas_index_names\u001b[39m\u001b[38;5;124m\"\u001b[39m]\n\u001b[1;32m   1447\u001b[0m \u001b[38;5;28mself\u001b[39m\u001b[38;5;241m.\u001b[39mhandles: IOHandles \u001b[38;5;241m|\u001b[39m \u001b[38;5;28;01mNone\u001b[39;00m \u001b[38;5;241m=\u001b[39m \u001b[38;5;28;01mNone\u001b[39;00m\n\u001b[0;32m-> 1448\u001b[0m \u001b[38;5;28mself\u001b[39m\u001b[38;5;241m.\u001b[39m_engine \u001b[38;5;241m=\u001b[39m \u001b[38;5;28;43mself\u001b[39;49m\u001b[38;5;241;43m.\u001b[39;49m\u001b[43m_make_engine\u001b[49m\u001b[43m(\u001b[49m\u001b[43mf\u001b[49m\u001b[43m,\u001b[49m\u001b[43m \u001b[49m\u001b[38;5;28;43mself\u001b[39;49m\u001b[38;5;241;43m.\u001b[39;49m\u001b[43mengine\u001b[49m\u001b[43m)\u001b[49m\n",
      "File \u001b[0;32m~/.local/lib/python3.9/site-packages/pandas/io/parsers/readers.py:1705\u001b[0m, in \u001b[0;36mTextFileReader._make_engine\u001b[0;34m(self, f, engine)\u001b[0m\n\u001b[1;32m   1703\u001b[0m     \u001b[38;5;28;01mif\u001b[39;00m \u001b[38;5;124m\"\u001b[39m\u001b[38;5;124mb\u001b[39m\u001b[38;5;124m\"\u001b[39m \u001b[38;5;129;01mnot\u001b[39;00m \u001b[38;5;129;01min\u001b[39;00m mode:\n\u001b[1;32m   1704\u001b[0m         mode \u001b[38;5;241m+\u001b[39m\u001b[38;5;241m=\u001b[39m \u001b[38;5;124m\"\u001b[39m\u001b[38;5;124mb\u001b[39m\u001b[38;5;124m\"\u001b[39m\n\u001b[0;32m-> 1705\u001b[0m \u001b[38;5;28mself\u001b[39m\u001b[38;5;241m.\u001b[39mhandles \u001b[38;5;241m=\u001b[39m \u001b[43mget_handle\u001b[49m\u001b[43m(\u001b[49m\n\u001b[1;32m   1706\u001b[0m \u001b[43m    \u001b[49m\u001b[43mf\u001b[49m\u001b[43m,\u001b[49m\n\u001b[1;32m   1707\u001b[0m \u001b[43m    \u001b[49m\u001b[43mmode\u001b[49m\u001b[43m,\u001b[49m\n\u001b[1;32m   1708\u001b[0m \u001b[43m    \u001b[49m\u001b[43mencoding\u001b[49m\u001b[38;5;241;43m=\u001b[39;49m\u001b[38;5;28;43mself\u001b[39;49m\u001b[38;5;241;43m.\u001b[39;49m\u001b[43moptions\u001b[49m\u001b[38;5;241;43m.\u001b[39;49m\u001b[43mget\u001b[49m\u001b[43m(\u001b[49m\u001b[38;5;124;43m\"\u001b[39;49m\u001b[38;5;124;43mencoding\u001b[39;49m\u001b[38;5;124;43m\"\u001b[39;49m\u001b[43m,\u001b[49m\u001b[43m \u001b[49m\u001b[38;5;28;43;01mNone\u001b[39;49;00m\u001b[43m)\u001b[49m\u001b[43m,\u001b[49m\n\u001b[1;32m   1709\u001b[0m \u001b[43m    \u001b[49m\u001b[43mcompression\u001b[49m\u001b[38;5;241;43m=\u001b[39;49m\u001b[38;5;28;43mself\u001b[39;49m\u001b[38;5;241;43m.\u001b[39;49m\u001b[43moptions\u001b[49m\u001b[38;5;241;43m.\u001b[39;49m\u001b[43mget\u001b[49m\u001b[43m(\u001b[49m\u001b[38;5;124;43m\"\u001b[39;49m\u001b[38;5;124;43mcompression\u001b[39;49m\u001b[38;5;124;43m\"\u001b[39;49m\u001b[43m,\u001b[49m\u001b[43m \u001b[49m\u001b[38;5;28;43;01mNone\u001b[39;49;00m\u001b[43m)\u001b[49m\u001b[43m,\u001b[49m\n\u001b[1;32m   1710\u001b[0m \u001b[43m    \u001b[49m\u001b[43mmemory_map\u001b[49m\u001b[38;5;241;43m=\u001b[39;49m\u001b[38;5;28;43mself\u001b[39;49m\u001b[38;5;241;43m.\u001b[39;49m\u001b[43moptions\u001b[49m\u001b[38;5;241;43m.\u001b[39;49m\u001b[43mget\u001b[49m\u001b[43m(\u001b[49m\u001b[38;5;124;43m\"\u001b[39;49m\u001b[38;5;124;43mmemory_map\u001b[39;49m\u001b[38;5;124;43m\"\u001b[39;49m\u001b[43m,\u001b[49m\u001b[43m \u001b[49m\u001b[38;5;28;43;01mFalse\u001b[39;49;00m\u001b[43m)\u001b[49m\u001b[43m,\u001b[49m\n\u001b[1;32m   1711\u001b[0m \u001b[43m    \u001b[49m\u001b[43mis_text\u001b[49m\u001b[38;5;241;43m=\u001b[39;49m\u001b[43mis_text\u001b[49m\u001b[43m,\u001b[49m\n\u001b[1;32m   1712\u001b[0m \u001b[43m    \u001b[49m\u001b[43merrors\u001b[49m\u001b[38;5;241;43m=\u001b[39;49m\u001b[38;5;28;43mself\u001b[39;49m\u001b[38;5;241;43m.\u001b[39;49m\u001b[43moptions\u001b[49m\u001b[38;5;241;43m.\u001b[39;49m\u001b[43mget\u001b[49m\u001b[43m(\u001b[49m\u001b[38;5;124;43m\"\u001b[39;49m\u001b[38;5;124;43mencoding_errors\u001b[39;49m\u001b[38;5;124;43m\"\u001b[39;49m\u001b[43m,\u001b[49m\u001b[43m \u001b[49m\u001b[38;5;124;43m\"\u001b[39;49m\u001b[38;5;124;43mstrict\u001b[39;49m\u001b[38;5;124;43m\"\u001b[39;49m\u001b[43m)\u001b[49m\u001b[43m,\u001b[49m\n\u001b[1;32m   1713\u001b[0m \u001b[43m    \u001b[49m\u001b[43mstorage_options\u001b[49m\u001b[38;5;241;43m=\u001b[39;49m\u001b[38;5;28;43mself\u001b[39;49m\u001b[38;5;241;43m.\u001b[39;49m\u001b[43moptions\u001b[49m\u001b[38;5;241;43m.\u001b[39;49m\u001b[43mget\u001b[49m\u001b[43m(\u001b[49m\u001b[38;5;124;43m\"\u001b[39;49m\u001b[38;5;124;43mstorage_options\u001b[39;49m\u001b[38;5;124;43m\"\u001b[39;49m\u001b[43m,\u001b[49m\u001b[43m \u001b[49m\u001b[38;5;28;43;01mNone\u001b[39;49;00m\u001b[43m)\u001b[49m\u001b[43m,\u001b[49m\n\u001b[1;32m   1714\u001b[0m \u001b[43m\u001b[49m\u001b[43m)\u001b[49m\n\u001b[1;32m   1715\u001b[0m \u001b[38;5;28;01massert\u001b[39;00m \u001b[38;5;28mself\u001b[39m\u001b[38;5;241m.\u001b[39mhandles \u001b[38;5;129;01mis\u001b[39;00m \u001b[38;5;129;01mnot\u001b[39;00m \u001b[38;5;28;01mNone\u001b[39;00m\n\u001b[1;32m   1716\u001b[0m f \u001b[38;5;241m=\u001b[39m \u001b[38;5;28mself\u001b[39m\u001b[38;5;241m.\u001b[39mhandles\u001b[38;5;241m.\u001b[39mhandle\n",
      "File \u001b[0;32m~/.local/lib/python3.9/site-packages/pandas/io/common.py:863\u001b[0m, in \u001b[0;36mget_handle\u001b[0;34m(path_or_buf, mode, encoding, compression, memory_map, is_text, errors, storage_options)\u001b[0m\n\u001b[1;32m    858\u001b[0m \u001b[38;5;28;01melif\u001b[39;00m \u001b[38;5;28misinstance\u001b[39m(handle, \u001b[38;5;28mstr\u001b[39m):\n\u001b[1;32m    859\u001b[0m     \u001b[38;5;66;03m# Check whether the filename is to be opened in binary mode.\u001b[39;00m\n\u001b[1;32m    860\u001b[0m     \u001b[38;5;66;03m# Binary mode does not support 'encoding' and 'newline'.\u001b[39;00m\n\u001b[1;32m    861\u001b[0m     \u001b[38;5;28;01mif\u001b[39;00m ioargs\u001b[38;5;241m.\u001b[39mencoding \u001b[38;5;129;01mand\u001b[39;00m \u001b[38;5;124m\"\u001b[39m\u001b[38;5;124mb\u001b[39m\u001b[38;5;124m\"\u001b[39m \u001b[38;5;129;01mnot\u001b[39;00m \u001b[38;5;129;01min\u001b[39;00m ioargs\u001b[38;5;241m.\u001b[39mmode:\n\u001b[1;32m    862\u001b[0m         \u001b[38;5;66;03m# Encoding\u001b[39;00m\n\u001b[0;32m--> 863\u001b[0m         handle \u001b[38;5;241m=\u001b[39m \u001b[38;5;28;43mopen\u001b[39;49m\u001b[43m(\u001b[49m\n\u001b[1;32m    864\u001b[0m \u001b[43m            \u001b[49m\u001b[43mhandle\u001b[49m\u001b[43m,\u001b[49m\n\u001b[1;32m    865\u001b[0m \u001b[43m            \u001b[49m\u001b[43mioargs\u001b[49m\u001b[38;5;241;43m.\u001b[39;49m\u001b[43mmode\u001b[49m\u001b[43m,\u001b[49m\n\u001b[1;32m    866\u001b[0m \u001b[43m            \u001b[49m\u001b[43mencoding\u001b[49m\u001b[38;5;241;43m=\u001b[39;49m\u001b[43mioargs\u001b[49m\u001b[38;5;241;43m.\u001b[39;49m\u001b[43mencoding\u001b[49m\u001b[43m,\u001b[49m\n\u001b[1;32m    867\u001b[0m \u001b[43m            \u001b[49m\u001b[43merrors\u001b[49m\u001b[38;5;241;43m=\u001b[39;49m\u001b[43merrors\u001b[49m\u001b[43m,\u001b[49m\n\u001b[1;32m    868\u001b[0m \u001b[43m            \u001b[49m\u001b[43mnewline\u001b[49m\u001b[38;5;241;43m=\u001b[39;49m\u001b[38;5;124;43m\"\u001b[39;49m\u001b[38;5;124;43m\"\u001b[39;49m\u001b[43m,\u001b[49m\n\u001b[1;32m    869\u001b[0m \u001b[43m        \u001b[49m\u001b[43m)\u001b[49m\n\u001b[1;32m    870\u001b[0m     \u001b[38;5;28;01melse\u001b[39;00m:\n\u001b[1;32m    871\u001b[0m         \u001b[38;5;66;03m# Binary mode\u001b[39;00m\n\u001b[1;32m    872\u001b[0m         handle \u001b[38;5;241m=\u001b[39m \u001b[38;5;28mopen\u001b[39m(handle, ioargs\u001b[38;5;241m.\u001b[39mmode)\n",
      "\u001b[0;31mFileNotFoundError\u001b[0m: [Errno 2] No such file or directory: '/data/sample_submission.csv'"
     ]
    }
   ],
   "source": [
    "\n",
    "sample_submission = pd.read_csv('/data/sample_submission.csv')\n",
    "sample_submission['probability'] = test_pred_total_mean\n",
    "sample_submission.to_csv('data/Add_feature_reason2_Minsu_seed.csv', index=False)"
   ]
  },
  {
   "cell_type": "code",
   "execution_count": null,
   "metadata": {
    "colab": {
     "base_uri": "https://localhost:8080/"
    },
    "id": "E8D6DZP0pIm3",
    "outputId": "946ae60d-f2f2-405e-e757-ab31fe0d2375"
   },
   "outputs": [],
   "source": [
    "np.mean(scores_total), scores_total # 불임 원인 인코딩 + make feature 사용\n",
    "# 불임 원인 인코딩 x + make feature 사용x - > 0.740432\n",
    "# 불임 원인 인코딩 x + make feature 사용 -> 0.740432\n",
    "# 불임 원인 인코딩 x + make feature 사용 + 배아 특성 추가 -> 0.740426"
   ]
  },
  {
   "cell_type": "code",
   "execution_count": null,
   "metadata": {},
   "outputs": [],
   "source": [
    "with open(\"/data/home/brian1501/Minsu/Pregnant/train/recent_best_7412/lgbm_params.json\", \"r\") as f:\n",
    "    loaded_lgbm_params =  json.load(f)"
   ]
  },
  {
   "cell_type": "markdown",
   "metadata": {},
   "source": [
    "#### 재현성 확인"
   ]
  },
  {
   "cell_type": "code",
   "execution_count": 187,
   "metadata": {
    "scrolled": true,
    "tags": []
   },
   "outputs": [
    {
     "name": "stdout",
     "output_type": "stream",
     "text": [
      "Seed 4972 Start!\n",
      "==================================================\n",
      "Cat gpu val score : 0.7412651510427011\n",
      "LGBM val score : 0.7409247369301163\n",
      "Ensemble val score : 0.7414238034278366\n",
      "==================================================\n",
      "==================================================\n",
      "Cat gpu val score : 0.7431440787394302\n",
      "LGBM val score : 0.7429758435321949\n",
      "Ensemble val score : 0.7433595364013841\n",
      "==================================================\n",
      "Cat gpu val score : 0.7421248034292193\n",
      "LGBM val score : 0.7411499429193047\n",
      "Ensemble val score : 0.7422114481666402\n",
      "==================================================\n",
      "Cat gpu val score : 0.7451250581377452\n",
      "LGBM val score : 0.7442730965564824\n",
      "Ensemble val score : 0.7451912528111095\n",
      "==================================================\n",
      "Cat gpu val score : 0.7391588889447638\n",
      "LGBM val score : 0.738617831871343\n",
      "Ensemble val score : 0.7392552305863451\n",
      "==================================================\n",
      "Cat gpu val score : 0.7391290675892168\n",
      "LGBM val score : 0.7385059878899406\n",
      "Ensemble val score : 0.739200440298218\n",
      "==================================================\n",
      "Cat gpu val score : 0.7389655107565114\n",
      "LGBM val score : 0.73765427647451\n",
      "Ensemble val score : 0.7389758112353779\n",
      "==================================================\n",
      "Cat gpu val score : 0.7421823693668174\n",
      "LGBM val score : 0.7419428216844315\n",
      "Ensemble val score : 0.7423986158888373\n",
      "==================================================\n",
      "Cat gpu val score : 0.7432991136124235\n",
      "LGBM val score : 0.7435971802451016\n",
      "Ensemble val score : 0.7436736793682186\n"
     ]
    }
   ],
   "source": [
    "for col in X.columns:\n",
    "    if X[col].dtype == 'object':  # 문자형이면 category로 변환\n",
    "        X[col] = X[col].astype('category')\n",
    "        test[col] = test[col].astype('category')\n",
    "seed = 4972\n",
    "with open(\"/data/home/brian1501/Minsu/Pregnant/train/recent_best_7412/lgbm_params.json\", \"r\") as f:\n",
    "    loaded_lgbm_params =  json.load(f)\n",
    "\n",
    "test_pred_total = []\n",
    "scores_total = []\n",
    "seed_everything(seed)\n",
    "print('Seed {} Start!'.format(seed))\n",
    "cv = StratifiedKFold(n_splits = 10, random_state = seed, shuffle=True)\n",
    "\n",
    "cat_param_list = []\n",
    "lgbm_param_list = []\n",
    "for idx, (train_idx, val_idx) in enumerate(cv.split(X, y)):\n",
    "    print('='*50)\n",
    "    X_train, X_val = X.iloc[train_idx],X.iloc[val_idx]\n",
    "    y_train, y_val = y.iloc[train_idx], y.iloc[val_idx]\n",
    "    if idx == 1:\n",
    "        continue\n",
    "    # if idx == 7:\n",
    "    #     continue\n",
    "    # cat_trial_params = loaded_cat_params[idx]\n",
    "    # model = CatBoostClassifier(**cat_trial_params ,auto_class_weights='Balanced', eval_metric='AUC', random_state=seed, task_type=\"CPU\")\n",
    "    # model.fit(X_train,y_train,cat_features=categorical_columns, early_stopping_rounds = 300, eval_set=[(X_val,y_val)], verbose = 300)\n",
    "    \n",
    "    model_gpu = CatBoostClassifier()\n",
    "    model_gpu.load_model(\"/data/home/brian1501/Minsu/Pregnant/train/recent_best_7412/cat_fold_gpu{}.cbm\".format(idx))\n",
    "\n",
    "    lgbm_trial_params = loaded_lgbm_params[idx]\n",
    "    class_weights = compute_class_weight(class_weight=\"balanced\", classes=np.unique(y), y=y_train)\n",
    "    class_weight_dict = {i: w for i, w in enumerate(class_weights)}\n",
    "\n",
    "    model_lgbm = lgb.LGBMClassifier(**lgbm_trial_params,class_weight=class_weight_dict)\n",
    "    model_lgbm.fit(X_train, y_train, eval_set=[(X_val, y_val)],categorical_feature=categorical_columns)\n",
    "\n",
    "    # val_pred = model.predict_proba(X_val)[:, 1]\n",
    "    val_pred_gpu = model_gpu.predict_proba(X_val)[:, 1]\n",
    "    val_pred_lgbm = model_lgbm.predict_proba(X_val)[:, 1]\n",
    "    # print('Cat val score : {}'.format(roc_auc_score(y_val,val_pred)))\n",
    "    print('Cat gpu val score : {}'.format(roc_auc_score(y_val,val_pred_gpu)))\n",
    "    print('LGBM val score : {}'.format(roc_auc_score(y_val,val_pred_lgbm)))\n",
    "\n",
    "    roc_val = roc_auc_score(y_val, (val_pred_gpu*2 + val_pred_lgbm)/3)\n",
    "    scores_total.append(roc_val)\n",
    "    print('Ensemble val score : {}'.format(roc_val))\n",
    "\n",
    "    # test_pred = model.predict_proba(test)[:, 1]\n",
    "    test_pred_gpu = model_gpu.predict_proba(test)[:, 1]\n",
    "    test_pred_lgbm = model_lgbm.predict_proba(test)[:, 1]\n",
    "    test_pred_total.append((test_pred_gpu*2+test_pred_lgbm)/3)\n",
    "    # test_pred_total.append((test_pred_gpu))"
   ]
  },
  {
   "cell_type": "markdown",
   "metadata": {},
   "source": [
    "(0.741201564719638,\n",
    " [0.7414238034278366,\n",
    "  0.736325829012412,\n",
    "  0.7433595364013841,\n",
    "  0.7422114481666402,\n",
    "  0.7451912528111095,\n",
    "  0.7392552305863451,\n",
    "  0.739200440298218,\n",
    "  0.7389758112353779,\n",
    "  0.7423986158888373,\n",
    "  0.7436736793682186])"
   ]
  },
  {
   "cell_type": "code",
   "execution_count": 188,
   "metadata": {},
   "outputs": [
    {
     "name": "stdout",
     "output_type": "stream",
     "text": [
      "Seed 6132 Start!\n",
      "==================================================\n",
      "Cat gpu val score : 0.7397805743329109\n",
      "LGBM val score : 0.7386644883954134\n",
      "Ensemble val score : 0.7397073391594341\n",
      "==================================================\n",
      "Cat gpu val score : 0.7429770190301845\n",
      "LGBM val score : 0.742426623866679\n",
      "Ensemble val score : 0.7430591331245595\n",
      "==================================================\n",
      "Cat gpu val score : 0.7403268508696375\n",
      "LGBM val score : 0.7397788583287122\n",
      "Ensemble val score : 0.7404068760723143\n",
      "==================================================\n",
      "Cat gpu val score : 0.7423420466436814\n",
      "LGBM val score : 0.741602794697018\n",
      "Ensemble val score : 0.7424416047031049\n",
      "==================================================\n",
      "Cat gpu val score : 0.7434219569486681\n",
      "LGBM val score : 0.7423389215562228\n",
      "Ensemble val score : 0.7433408317430994\n",
      "==================================================\n",
      "Cat gpu val score : 0.7420862222986608\n",
      "LGBM val score : 0.7412268470728167\n",
      "Ensemble val score : 0.7421110323957922\n",
      "==================================================\n",
      "Cat gpu val score : 0.7426166532805445\n",
      "LGBM val score : 0.7421799113882444\n",
      "Ensemble val score : 0.7428383955090992\n",
      "==================================================\n",
      "Cat gpu val score : 0.741464913614641\n",
      "LGBM val score : 0.7404712787546563\n",
      "Ensemble val score : 0.7414091147214126\n",
      "==================================================\n",
      "Cat gpu val score : 0.738919698642138\n",
      "LGBM val score : 0.7386928141159224\n",
      "Ensemble val score : 0.7391511536583981\n",
      "==================================================\n"
     ]
    }
   ],
   "source": [
    "for col in X.columns:\n",
    "    if X[col].dtype == 'object':  # 문자형이면 category로 변환\n",
    "        X[col] = X[col].astype('category')\n",
    "        test[col] = test[col].astype('category')\n",
    "seed = 6132\n",
    "\n",
    "with open(\"/data/home/brian1501/Minsu/Pregnant/train/weight/lgbm_params_6132.json\", \"r\") as f:\n",
    "    loaded_lgbm_params =  json.load(f)\n",
    "# test_pred_total = []\n",
    "scores_total = []\n",
    "seed_everything(seed)\n",
    "print('Seed {} Start!'.format(seed))\n",
    "cv = StratifiedKFold(n_splits = 10, random_state = seed, shuffle=True)\n",
    "\n",
    "for idx, (train_idx, val_idx) in enumerate(cv.split(X, y)):\n",
    "    print('='*50)\n",
    "    X_train, X_val = X.iloc[train_idx],X.iloc[val_idx]\n",
    "    y_train, y_val = y.iloc[train_idx], y.iloc[val_idx]\n",
    "    if idx == 9:\n",
    "        continue\n",
    "    # if idx == 7:\n",
    "    #     continue\n",
    "    # cat_trial_params = loaded_cat_params[idx]\n",
    "    # model = CatBoostClassifier(**cat_trial_params ,auto_class_weights='Balanced', eval_metric='AUC', random_state=seed, task_type=\"CPU\")\n",
    "    # model.fit(X_train,y_train,cat_features=categorical_columns, early_stopping_rounds = 300, eval_set=[(X_val,y_val)], verbose = 300)\n",
    "    \n",
    "    model_gpu = CatBoostClassifier()\n",
    "    model_gpu.load_model(\"/data/home/brian1501/Minsu/Pregnant/train/weight/cat_fold_gpu{}.cbm\".format(idx))\n",
    "\n",
    "    lgbm_trial_params = loaded_lgbm_params[idx]\n",
    "    class_weights = compute_class_weight(class_weight=\"balanced\", classes=np.unique(y), y=y_train)\n",
    "    class_weight_dict = {i: w for i, w in enumerate(class_weights)}\n",
    "\n",
    "    model_lgbm = lgb.LGBMClassifier(**lgbm_trial_params,early_stopping_rounds=200,class_weight=class_weight_dict)\n",
    "    model_lgbm.fit(X_train, y_train, eval_set=[(X_val, y_val)],categorical_feature=categorical_columns)\n",
    "\n",
    "    # val_pred = model.predict_proba(X_val)[:, 1]\n",
    "    val_pred_gpu = model_gpu.predict_proba(X_val)[:, 1]\n",
    "    val_pred_lgbm = model_lgbm.predict_proba(X_val)[:, 1]\n",
    "    # print('Cat val score : {}'.format(roc_auc_score(y_val,val_pred)))\n",
    "    print('Cat gpu val score : {}'.format(roc_auc_score(y_val,val_pred_gpu)))\n",
    "    print('LGBM val score : {}'.format(roc_auc_score(y_val,val_pred_lgbm)))\n",
    "\n",
    "    roc_val = roc_auc_score(y_val, (val_pred_gpu*2 + val_pred_lgbm)/3)\n",
    "    scores_total.append(roc_val)\n",
    "    print('Ensemble val score : {}'.format(roc_val))\n",
    "\n",
    "    # test_pred = model.predict_proba(test)[:, 1]\n",
    "    test_pred_gpu = model_gpu.predict_proba(test)[:, 1]\n",
    "    test_pred_lgbm = model_lgbm.predict_proba(test)[:, 1]\n",
    "    test_pred_total.append((test_pred_gpu*2+test_pred_lgbm)/3)\n",
    "    # test_pred_total.append((test_pred_gpu))"
   ]
  },
  {
   "cell_type": "markdown",
   "metadata": {},
   "source": [
    "(0.7411885927955502,\n",
    " [0.7397073391594341,\n",
    "  0.7430591331245595,\n",
    "  0.7404068760723143,\n",
    "  0.7424416047031049,\n",
    "  0.7433408317430994,\n",
    "  0.7421110323957922,\n",
    "  0.7428383955090992,\n",
    "  0.7414091147214126,\n",
    "  0.7391511536583981,\n",
    "  0.7374204468682874])"
   ]
  },
  {
   "cell_type": "code",
   "execution_count": 189,
   "metadata": {},
   "outputs": [
    {
     "data": {
      "text/plain": [
       "18"
      ]
     },
     "execution_count": 189,
     "metadata": {},
     "output_type": "execute_result"
    }
   ],
   "source": [
    "len(test_pred_total)"
   ]
  },
  {
   "cell_type": "markdown",
   "metadata": {},
   "source": [
    "len(test_pred_total)"
   ]
  },
  {
   "cell_type": "markdown",
   "metadata": {},
   "source": [
    "(0.741201564719638,\n",
    " [0.7414238034278366,\n",
    "  0.736325829012412,\n",
    "  0.7433595364013841,\n",
    "  0.7422114481666402,\n",
    "  0.7451912528111095,\n",
    "  0.7392552305863451,\n",
    "  0.739200440298218,\n",
    "  0.7389758112353779,\n",
    "  0.7423986158888373,\n",
    "  0.7436736793682186])"
   ]
  },
  {
   "cell_type": "code",
   "execution_count": null,
   "metadata": {},
   "outputs": [],
   "source": []
  },
  {
   "cell_type": "code",
   "execution_count": 190,
   "metadata": {
    "id": "zdqhyNyumAyx"
   },
   "outputs": [],
   "source": [
    "test_pred_total_mean = np.mean(test_pred_total, axis=(0))"
   ]
  },
  {
   "cell_type": "code",
   "execution_count": 191,
   "metadata": {
    "colab": {
     "base_uri": "https://localhost:8080/",
     "height": 540
    },
    "id": "HHVwzBg8NEZK",
    "outputId": "7c5d38e1-affe-45e7-b863-372c9a868b84"
   },
   "outputs": [
    {
     "data": {
      "text/plain": [
       "(array([13471.,  2383.,  3367.,  6171.,  9321., 13349., 16851., 15178.,\n",
       "         9432.,   544.]),\n",
       " array([7.00234449e-04, 8.91581956e-02, 1.77616157e-01, 2.66074118e-01,\n",
       "        3.54532079e-01, 4.42990040e-01, 5.31448002e-01, 6.19905963e-01,\n",
       "        7.08363924e-01, 7.96821885e-01, 8.85279846e-01]),\n",
       " <BarContainer object of 10 artists>)"
      ]
     },
     "execution_count": 191,
     "metadata": {},
     "output_type": "execute_result"
    },
    {
     "data": {
      "image/png": "[encoded data removed]",
      "text/plain": [
       "<Figure size 432x288 with 1 Axes>"
      ]
     },
     "metadata": {
      "needs_background": "light"
     },
     "output_type": "display_data"
    }
   ],
   "source": [
    "plt.hist(test_pred_total_mean)"
   ]
  },
  {
   "cell_type": "code",
   "execution_count": 28,
   "metadata": {
    "id": "KGlLsagWhQmz"
   },
   "outputs": [],
   "source": [
    "# test_pred_total_mean = np.mean(test_pred_total, axis=(0))\n",
    "sample_submission = pd.read_csv('/data/home/brian1501/Minsu/Pregnant/data/sample_submission.csv')\n",
    "sample_submission['probability'] = test_pred_total_mean\n",
    "sample_submission.to_csv('/data/home/brian1501/Minsu/Pregnant/data/Add_feature_Minsu.csv', index=False)"
   ]
  },
  {
   "cell_type": "code",
   "execution_count": null,
   "metadata": {
    "id": "cRPfPmjigZCd"
   },
   "outputs": [],
   "source": [
    "sample_submission.to_csv('/data/home/brian1501/Minsu/Pregnant/data/Add_feature_reason2_lgbmcat_Minsu_30.csv', index=False)"
   ]
  },
  {
   "cell_type": "code",
   "execution_count": null,
   "metadata": {
    "id": "FhfFoj0tvQ-j"
   },
   "outputs": [],
   "source": []
  }
 ],
 "metadata": {
  "accelerator": "GPU",
  "colab": {
   "gpuType": "T4",
   "provenance": []
  },
  "kernelspec": {
   "display_name": "base",
   "language": "python",
   "name": "python3"
  },
  "language_info": {
   "codemirror_mode": {
    "name": "ipython",
    "version": 3
   },
   "file_extension": ".py",
   "mimetype": "text/x-python",
   "name": "python",
   "nbconvert_exporter": "python",
   "pygments_lexer": "ipython3",
   "version": "3.9.12"
  }
 },
 "nbformat": 4,
 "nbformat_minor": 4
}
