{
  "cells": [
    {
      "cell_type": "code",
      "execution_count": 59,
      "metadata": {
        "id": "0_-E_OuZQXqu"
      },
      "outputs": [],
      "source": [
        "import random\n",
        "import os\n",
        "import pandas as pd\n",
        "import numpy as np\n",
        "\n",
        "from matplotlib import pyplot as plt\n",
        "import seaborn as sns\n",
        "from catboost import CatBoostClassifier\n",
        "import lightgbm as lgb\n",
        "\n",
        "import optuna\n",
        "from optuna import Trial\n",
        "from optuna.samplers import TPESampler\n",
        "from sklearn.model_selection import StratifiedKFold\n",
        "from sklearn.metrics import roc_auc_score\n",
        "from sklearn.utils.class_weight import compute_class_weight\n",
        "\n",
        "import warnings\n",
        "\n",
        "warnings.filterwarnings('ignore')"
      ]
    },
    {
      "cell_type": "code",
      "execution_count": null,
      "metadata": {
        "colab": {
          "base_uri": "https://localhost:8080/"
        },
        "id": "M6wU0Q5nGde3",
        "outputId": "e7c561c2-379f-4366-b9a1-132161c487d4"
      },
      "outputs": [
        {
          "ename": "NameError",
          "evalue": "name 'no_embryo_no_pregnancy' is not defined",
          "output_type": "error",
          "traceback": [
            "\u001b[0;31m---------------------------------------------------------------------------\u001b[0m",
            "\u001b[0;31mNameError\u001b[0m                                 Traceback (most recent call last)",
            "Input \u001b[0;32mIn [36]\u001b[0m, in \u001b[0;36m<cell line: 29>\u001b[0;34m()\u001b[0m\n\u001b[1;32m     26\u001b[0m     \u001b[38;5;28;01mreturn\u001b[39;00m result\n\u001b[1;32m     28\u001b[0m \u001b[38;5;66;03m# 두 부류 비교\u001b[39;00m\n\u001b[0;32m---> 29\u001b[0m comparison_results \u001b[38;5;241m=\u001b[39m compare_category_distribution(\u001b[43mno_embryo_no_pregnancy\u001b[49m, no_embryo_yes_pregnancy,\n\u001b[1;32m     30\u001b[0m                                                   \u001b[38;5;124m\"\u001b[39m\u001b[38;5;124m이식 0 & 임신 0\u001b[39m\u001b[38;5;124m\"\u001b[39m, \u001b[38;5;124m\"\u001b[39m\u001b[38;5;124m이식 0 & 임신 1\u001b[39m\u001b[38;5;124m\"\u001b[39m)\n\u001b[1;32m     32\u001b[0m \u001b[38;5;66;03m# 결과 출력\u001b[39;00m\n\u001b[1;32m     33\u001b[0m \u001b[38;5;28;01mfor\u001b[39;00m col, df \u001b[38;5;129;01min\u001b[39;00m comparison_results\u001b[38;5;241m.\u001b[39mitems():\n",
            "\u001b[0;31mNameError\u001b[0m: name 'no_embryo_no_pregnancy' is not defined"
          ]
        }
      ],
      "source": [
        "# import pandas as pd\n",
        "\n",
        "# # 모든 컬럼에 대해 카테고리별 임신 성공 비율 및 전체 행 대비 비율 비교하는 함수\n",
        "# def compare_category_distribution(df1, df2, label1, label2):\n",
        "#     result = {}\n",
        "#     total_count1 = len(df1)\n",
        "#     total_count2 = len(df2)\n",
        "\n",
        "#     for col in df1.columns:\n",
        "#         if df1[col].dtype == 'object':  # 문자열(카테고리) 타입인 경우만 계산\n",
        "#             category_counts1 = df1.groupby(col)[\"임신 성공 여부\"].agg(['mean', 'count'])\n",
        "#             category_counts2 = df2.groupby(col)[\"임신 성공 여부\"].agg(['mean', 'count'])\n",
        "\n",
        "#             # 비율 계산 (해당 카테고리 개수 / 전체 개수)\n",
        "#             category_counts1[\"비율(%)\"] = (category_counts1[\"count\"] / total_count1) * 100\n",
        "#             category_counts2[\"비율(%)\"] = (category_counts2[\"count\"] / total_count2) * 100\n",
        "\n",
        "#             # 컬럼명 변경\n",
        "#             category_counts1.columns = [f'{label1} - 임신 성공 비율', f'{label1} - 데이터 개수', f'{label1} - 비율(%)']\n",
        "#             category_counts2.columns = [f'{label2} - 임신 성공 비율', f'{label2} - 데이터 개수', f'{label2} - 비율(%)']\n",
        "\n",
        "#             # 두 데이터프레임 병합 (outer join 사용)\n",
        "#             merged_df = category_counts1.merge(category_counts2, left_index=True, right_index=True, how=\"outer\").fillna(0)\n",
        "#             result[col] = merged_df\n",
        "\n",
        "#     return result\n",
        "\n",
        "# # 두 부류 비교\n",
        "# comparison_results = compare_category_distribution(no_embryo_no_pregnancy, no_embryo_yes_pregnancy,\n",
        "#                                                   \"이식 0 & 임신 0\", \"이식 0 & 임신 1\")\n",
        "\n",
        "# # 결과 출력\n",
        "# for col, df in comparison_results.items():\n",
        "#     print(f\"\\n========== 비교 - {col} ==========\\n\")\n",
        "#     print(df)\n",
        "#     print(\"\\n\" + \"=\"*50)\n"
      ]
    },
    {
      "cell_type": "code",
      "execution_count": 60,
      "metadata": {
        "id": "u2FSTwmUIkF5"
      },
      "outputs": [],
      "source": [
        "import os\n",
        "import logging\n",
        "\n",
        "def set_affinity(pid, cores):\n",
        "    os.sched_setaffinity(pid, cores)\n",
        "set_affinity(0, {21,22,23,24,25,26,27,28,43,44,45,46,47})\n",
        "def seed_everything(seed: int = 42):\n",
        "    random.seed(seed)\n",
        "    np.random.seed(seed)\n",
        "    os.environ[\"PYTHONHASHSEED\"] = str(seed)"
      ]
    },
    {
      "cell_type": "code",
      "execution_count": 62,
      "metadata": {
        "id": "bbtq1EWyQcwX"
      },
      "outputs": [],
      "source": [
        "train = pd.read_csv('/data/home/brian1501/Minsu/Pregnant/train/data/train.csv').drop(columns=['ID'])\n",
        "test = pd.read_csv('/data/home/brian1501/Minsu/Pregnant/train/data/test.csv').drop(columns=['ID'])\n",
        "train.shape, test.shape\n",
        "train.loc[train['시술 당시 나이'] == '알 수 없음', '시술 당시 나이'] = '만43-44세'\n",
        "test.loc[test['시술 당시 나이'] == '알 수 없음', '시술 당시 나이'] = '만43-44세'\n",
        "train = train[~((train[\"이식된 배아 수\"] == 0) & (train[\"임신 성공 여부\"] == 1))]"
      ]
    },
    {
      "cell_type": "code",
      "execution_count": 63,
      "metadata": {
        "colab": {
          "base_uri": "https://localhost:8080/"
        },
        "id": "4xu4wqTwWgEO",
        "outputId": "238c86b8-4cb2-454b-bbaf-0c8836d5625e"
      },
      "outputs": [
        {
          "data": {
            "text/plain": [
              "((256321, 61), (90067, 60))"
            ]
          },
          "execution_count": 63,
          "metadata": {},
          "output_type": "execute_result"
        }
      ],
      "source": [
        "# drop_columns = ['착상 전 유전 검사 사용 여부',\n",
        "#                 'PGD 시술 여부', 'PGS 시술 여부', '난자 해동 경과일'] + ['배란 유도 유형', '불임 원인 - 자궁경부 문제', '불임 원인 - 정자 면역학적 요인','불임 원인 - 정자 운동성', '불임 원인 - 정자 형태']#\n",
        "drop_columns =['불임 원인 - 여성 요인', '불임 원인 - 자궁경부 문제', '불임 원인 - 정자 면역학적 요인', '불임 원인 - 정자 운동성', '불임 원인 - 정자 형태', '난자 채취 경과일', '난자 해동 경과일']\n",
        "train.drop(columns=drop_columns, inplace=True)\n",
        "test.drop(columns=drop_columns, inplace=True)\n",
        "\n",
        "train.shape, test.shape"
      ]
    },
    {
      "cell_type": "code",
      "execution_count": 64,
      "metadata": {},
      "outputs": [],
      "source": [
        "nan_col_list = ['착상 전 유전 검사 사용 여부','PGD 시술 여부', 'PGS 시술 여부']\n",
        "for col in nan_col_list:\n",
        "    train[col] = train[col].fillna(0)\n",
        "    test[col] = test[col].fillna(0)\n",
        "\n",
        "nan_col_list = ['착상 전 유전 진단 사용 여부' ]\n",
        "\n",
        "for col in nan_col_list:\n",
        "    train[col] = train[col].fillna(1)\n",
        "    test[col] = test[col].fillna(1)"
      ]
    },
    {
      "cell_type": "code",
      "execution_count": 65,
      "metadata": {},
      "outputs": [
        {
          "data": {
            "text/plain": [
              "((256321, 47), (90067, 46))"
            ]
          },
          "execution_count": 65,
          "metadata": {},
          "output_type": "execute_result"
        }
      ],
      "source": [
        "drop_col = [\"불임 원인 - 정자 농도\",\"DI 출산 횟수\",\"DI 임신 횟수\",\"착상 전 유전 진단 사용 여부\",\"난자 혼합 경과일\",\"부부 주 불임 원인\",\"남성 주 불임 원인\",\"저장된 신선 난자 수\",\"대리모 여부\",\"남성 부 불임 원인\",\"여성 부 불임 원인\",\"부부 부 불임 원인\",\"미세 주입에서 생성된 배아 수\",\"여성 부 불임 원인\",\"불명확 불임 원인\",\"불임 원인 - 자궁내막증\" ]\n",
        "\n",
        "for col in train.columns:\n",
        "    if col in drop_col:\n",
        "        train.drop(columns=col, inplace=True)\n",
        "        test.drop(columns=col, inplace=True)\n",
        "        \n",
        "train.shape, test.shape"
      ]
    },
    {
      "cell_type": "code",
      "execution_count": 66,
      "metadata": {},
      "outputs": [
        {
          "name": "stdout",
          "output_type": "stream",
          "text": [
            "       시술 시기 코드 시술 당시 나이  임신 시도 또는 마지막 임신 경과 연수 시술 유형 특정 시술 유형  배란 자극 여부  \\\n",
            "0        TRZKPL  만18-34세                    NaN   IVF     ICSI         1   \n",
            "1        TRYBLT  만45-50세                    NaN   IVF     ICSI         0   \n",
            "2        TRVNRY  만18-34세                    NaN   IVF      IVF         1   \n",
            "3        TRJXFG  만35-37세                    NaN   IVF     ICSI         1   \n",
            "4        TRVNRY  만18-34세                    NaN   IVF     ICSI         1   \n",
            "...         ...      ...                    ...   ...      ...       ...   \n",
            "256346   TRYBLT  만18-34세                    NaN   IVF     ICSI         1   \n",
            "256347   TRYBLT  만38-39세                    NaN   IVF     ICSI         1   \n",
            "256348   TRVNRY  만35-37세                    NaN   IVF     ICSI         1   \n",
            "256349   TRZKPL  만38-39세                    NaN   IVF     ICSI         1   \n",
            "256350   TRXQMD  만35-37세                    NaN   IVF      IVF         0   \n",
            "\n",
            "          배란 유도 유형  단일 배아 이식 여부  착상 전 유전 검사 사용 여부  여성 주 불임 원인  ...  난자 기증자 나이  \\\n",
            "0       기록되지 않은 시행          0.0               0.0           0  ...     알 수 없음   \n",
            "1           알 수 없음          0.0               0.0           0  ...     알 수 없음   \n",
            "2       기록되지 않은 시행          0.0               0.0           0  ...     알 수 없음   \n",
            "3       기록되지 않은 시행          0.0               0.0           0  ...     알 수 없음   \n",
            "4       기록되지 않은 시행          0.0               0.0           0  ...     알 수 없음   \n",
            "...            ...          ...               ...         ...  ...        ...   \n",
            "256346  기록되지 않은 시행          0.0               0.0           0  ...     알 수 없음   \n",
            "256347  기록되지 않은 시행          0.0               0.0           0  ...     알 수 없음   \n",
            "256348  기록되지 않은 시행          0.0               0.0           0  ...     알 수 없음   \n",
            "256349  기록되지 않은 시행          0.0               0.0           0  ...     알 수 없음   \n",
            "256350      알 수 없음          0.0               0.0           0  ...     알 수 없음   \n",
            "\n",
            "        정자 기증자 나이  동결 배아 사용 여부 신선 배아 사용 여부 기증 배아 사용 여부 PGD 시술 여부 PGS 시술 여부  \\\n",
            "0          알 수 없음          0.0         1.0         0.0       0.0       0.0   \n",
            "1          알 수 없음          0.0         1.0         0.0       0.0       0.0   \n",
            "2          알 수 없음          0.0         1.0         0.0       0.0       0.0   \n",
            "3          알 수 없음          0.0         1.0         0.0       0.0       0.0   \n",
            "4          알 수 없음          0.0         1.0         0.0       0.0       0.0   \n",
            "...           ...          ...         ...         ...       ...       ...   \n",
            "256346     알 수 없음          0.0         1.0         0.0       0.0       0.0   \n",
            "256347     알 수 없음          0.0         1.0         0.0       0.0       0.0   \n",
            "256348     알 수 없음          0.0         1.0         0.0       0.0       0.0   \n",
            "256349     알 수 없음          0.0         1.0         0.0       0.0       0.0   \n",
            "256350     알 수 없음          1.0         0.0         0.0       0.0       0.0   \n",
            "\n",
            "       배아 이식 경과일 배아 해동 경과일 임신 성공 여부  \n",
            "0             3일       NaN        0  \n",
            "1        Missing       NaN        0  \n",
            "2             2일       NaN        0  \n",
            "3        Missing       NaN        0  \n",
            "4             3일       NaN        0  \n",
            "...          ...       ...      ...  \n",
            "256346        5일       NaN        0  \n",
            "256347        3일       NaN        1  \n",
            "256348        3일       NaN        0  \n",
            "256349        1일       NaN        1  \n",
            "256350        0일       0.0        1  \n",
            "\n",
            "[256321 rows x 47 columns]\n",
            "시술 시기 코드                   object\n",
            "시술 당시 나이                   object\n",
            "임신 시도 또는 마지막 임신 경과 연수     float64\n",
            "시술 유형                      object\n",
            "특정 시술 유형                   object\n",
            "배란 자극 여부                    int64\n",
            "배란 유도 유형                   object\n",
            "단일 배아 이식 여부               float64\n",
            "착상 전 유전 검사 사용 여부          float64\n",
            "여성 주 불임 원인                  int64\n",
            "불임 원인 - 난관 질환               int64\n",
            "불임 원인 - 남성 요인               int64\n",
            "불임 원인 - 배란 장애               int64\n",
            "배아 생성 주요 이유                object\n",
            "총 시술 횟수                    object\n",
            "클리닉 내 총 시술 횟수              object\n",
            "IVF 시술 횟수                  object\n",
            "DI 시술 횟수                   object\n",
            "총 임신 횟수                    object\n",
            "IVF 임신 횟수                  object\n",
            "총 출산 횟수                    object\n",
            "IVF 출산 횟수                  object\n",
            "총 생성 배아 수                 float64\n",
            "미세주입된 난자 수                float64\n",
            "미세주입에서 생성된 배아 수           float64\n",
            "이식된 배아 수                  float64\n",
            "미세주입 배아 이식 수              float64\n",
            "저장된 배아 수                  float64\n",
            "미세주입 후 저장된 배아 수           float64\n",
            "해동된 배아 수                  float64\n",
            "해동 난자 수                   float64\n",
            "수집된 신선 난자 수               float64\n",
            "혼합된 난자 수                  float64\n",
            "파트너 정자와 혼합된 난자 수          float64\n",
            "기증자 정자와 혼합된 난자 수          float64\n",
            "난자 출처                      object\n",
            "정자 출처                      object\n",
            "난자 기증자 나이                  object\n",
            "정자 기증자 나이                  object\n",
            "동결 배아 사용 여부               float64\n",
            "신선 배아 사용 여부               float64\n",
            "기증 배아 사용 여부               float64\n",
            "PGD 시술 여부                 float64\n",
            "PGS 시술 여부                 float64\n",
            "배아 이식 경과일                category\n",
            "배아 해동 경과일                 float64\n",
            "임신 성공 여부                    int64\n",
            "dtype: object\n"
          ]
        }
      ],
      "source": [
        "import numpy as np\n",
        "import pandas as pd\n",
        "# 1) -1을 NaN으로 치환\n",
        "train['배아 이식 경과일'] = train['배아 이식 경과일'].replace(-1, np.nan)\n",
        "test['배아 이식 경과일'] = test['배아 이식 경과일'].replace(-1, np.nan)\n",
        "# 2) 숫자 값들을 '0개', '1개' 등으로 매핑 (dict 이용)\n",
        "mapping_dict = {\n",
        "    0.0: '0일',\n",
        "    1.0: '1일',\n",
        "    2.0: '2일',\n",
        "    3.0: '3일',\n",
        "    4.0: '4일',\n",
        "    5.0: '5일',\n",
        "    6.0: '6일',\n",
        "    7.0: '7일'\n",
        "}\n",
        "\n",
        "train['배아 이식 경과일'] = train['배아 이식 경과일'].map(mapping_dict)\n",
        "\n",
        "# 3) NaN 값(Missing)을 'Missing' 범주로 대체\n",
        "train['배아 이식 경과일'] = train['배아 이식 경과일'].fillna('Missing')\n",
        "\n",
        "# 4) 최종적으로 카테고리형으로 변환\n",
        "train['배아 이식 경과일'] = train['배아 이식 경과일'].astype('category')\n",
        "\n",
        "test['배아 이식 경과일'] = test['배아 이식 경과일'].map(mapping_dict)\n",
        "\n",
        "# 3) NaN 값(Missing)을 'Missing' 범주로 대체\n",
        "test['배아 이식 경과일'] = test['배아 이식 경과일'].fillna('Missing')\n",
        "\n",
        "# 4) 최종적으로 카테고리형으로 변환\n",
        "test['배아 이식 경과일'] = test['배아 이식 경과일'].astype('category')\n",
        "\n",
        "print(train)\n",
        "print(train.dtypes)"
      ]
    },
    {
      "cell_type": "code",
      "execution_count": 57,
      "metadata": {},
      "outputs": [
        {
          "data": {
            "text/plain": [
              "{'0일', '1일', '2일', '3일', '4일', '5일', '6일', '7일', 'Missing'}"
            ]
          },
          "execution_count": 57,
          "metadata": {},
          "output_type": "execute_result"
        }
      ],
      "source": [
        "set(list(test[\"배아 이식 경과일\"]))"
      ]
    },
    {
      "cell_type": "code",
      "execution_count": 67,
      "metadata": {
        "id": "R3zV3S6o92rP"
      },
      "outputs": [],
      "source": [
        "\n",
        "if '총 생성 배아 수' in train.columns:\n",
        "    bins = [-0.1, 0, 5, 10, 15, 20, 999]\n",
        "    labels = ['0','1~5','6~10','11~15','16~20','21이상']\n",
        "    train['총_생성_배아_bin'] = pd.cut(train['총 생성 배아 수'], bins=bins, labels=labels)\n",
        "    test['총_생성_배아_bin']  = pd.cut(test['총 생성 배아 수'],  bins=bins, labels=labels)\n",
        "\n",
        "if '저장된 배아 수' in train.columns:\n",
        "    bins = [-0.1, 0, 5, 10, 15, 20, 999]\n",
        "    labels = ['0','1~5','6~10','11~15','16~20','21이상']\n",
        "    train['저장된 배아 수_bin'] = pd.cut(train['저장된 배아 수'], bins=bins, labels=labels)\n",
        "    test['저장된 배아 수_bin']  = pd.cut(test['저장된 배아 수'],  bins=bins, labels=labels)\n",
        "\n",
        "# 6. 희소 범주(rare categories) 병합 예시\n",
        "def merge_rare_categories(series, min_count=100):\n",
        "    \"\"\"\n",
        "    시리즈 내에서 출현 횟수가 min_count 미만인 카테고리를\n",
        "    모두 '기타' 카테고리로 통합\n",
        "    \"\"\"\n",
        "    value_counts = series.value_counts(dropna=False)\n",
        "    rare_cats = value_counts[value_counts < min_count].index\n",
        "    return series.replace(rare_cats, '기타')\n",
        "\n",
        "\n",
        "rare_merge_cols = ['특정 시술 유형', '배아 생성 주요 이유']\n",
        "for col in rare_merge_cols:\n",
        "    if col in train.columns:\n",
        "        train[col] = merge_rare_categories(train[col], min_count=30)\n",
        "    if col in test.columns:\n",
        "        test[col] = merge_rare_categories(test[col], min_count=30)\n",
        "train.drop(columns =['임신 시도 또는 마지막 임신 경과 연수'],inplace = True )\n",
        "test.drop(columns =['임신 시도 또는 마지막 임신 경과 연수'],inplace = True )\n"
      ]
    },
    {
      "cell_type": "code",
      "execution_count": 68,
      "metadata": {
        "id": "f-mBaoLO4ffA"
      },
      "outputs": [],
      "source": [
        "procedure_encoding_dict = {'ICSI' : 'ICSI', 'IVF' : 'IVF', 'Unknown' : 'Unknown','IUI' : 'IUI',\n",
        "                           'ICSI:ICSI' : 'ICSI', 'ICSI / BLASTOCYST ' : 'ICSI / BLASTOCYST',\n",
        "                           'IVF / BLASTOCYST' : 'IVF / BLASTOCYST','IVF:IVF' : 'IVF','ICSI:IVF' : 'ICSI:IVF',\n",
        "                           'ICSI / AH' : 'ICSI / AH','IVF:ICSI' : 'ICSI:IVF', 'IVF / AH' : 'IVF / AH',\n",
        "                           'ICSI:Unknown' : 'ICSI', 'IVF:Unknown' : 'IVF', 'ICI' : 'ICI','Generic DI' : 'Generic DI',\n",
        "                           'IVI' : 'IVI','ICSI / BLASTOCYST:IVF / BLASTOCYST' : 'ICSI / BLASTOCYST:IVF / BLASTOCYST',\n",
        "                           'ICSI / BLASTOCYST :IVF / BLASTOCYST': 'ICSI / BLASTOCYST:IVF / BLASTOCYST','FER' : 'FER',\n",
        "                           'IVF / AH:ICSI / AH' : 'IVF / AH:ICSI / AH','GIFT':'GIFT','ICSI / AH:Unknown' : 'ICSI / AH',\n",
        "                           'ICSI / BLASTOCYST :ICSI' : 'ICSI / BLASTOCYST', 'IUI:ICI' : 'IUI:ICI',\n",
        "                           'IVF:Unknown:Unknown:Unknown' : 'IVF'}\n",
        "\n",
        "train['특정 시술 유형'] = train['특정 시술 유형'].map(procedure_encoding_dict)\n",
        "test['특정 시술 유형'] = test['특정 시술 유형'].map(procedure_encoding_dict)"
      ]
    },
    {
      "cell_type": "code",
      "execution_count": 69,
      "metadata": {
        "id": "64dAkKrBayFA"
      },
      "outputs": [],
      "source": [
        "\n",
        "categorical_columns = [\n",
        "    \"시술 시기 코드\",\n",
        "    \"시술 당시 나이\",\n",
        "    \"시술 유형\",\n",
        "    \"특정 시술 유형\",\n",
        "    \"배란 자극 여부\",\n",
        "    \"배란 유도 유형\",\n",
        "    \"단일 배아 이식 여부\",\n",
        "    \"착상 전 유전 검사 사용 여부\",\n",
        "    \"착상 전 유전 진단 사용 여부\",\n",
        "    \"남성 주 불임 원인\",\n",
        "    \"남성 부 불임 원인\",\n",
        "    \"여성 주 불임 원인\",\n",
        "    \"여성 부 불임 원인\",\n",
        "    \"부부 주 불임 원인\",\n",
        "    \"부부 부 불임 원인\",\n",
        "    \"불명확 불임 원인\",\n",
        "    \"불임 원인 - 난관 질환\",\n",
        "    \"불임 원인 - 남성 요인\",\n",
        "    \"불임 원인 - 배란 장애\",\n",
        "    \"불임 원인 - 여성 요인\",\n",
        "    \"불임 원인 - 자궁경부 문제\",\n",
        "    \"불임 원인 - 자궁내막증\",\n",
        "    \"불임 원인 - 정자 농도\",\n",
        "    \"불임 원인 - 정자 면역학적 요인\",\n",
        "    \"불임 원인 - 정자 운동성\",\n",
        "    \"불임 원인 - 정자 형태\",\n",
        "    \"배아 생성 주요 이유\",\n",
        "    \"총 시술 횟수\",\n",
        "    \"클리닉 내 총 시술 횟수\",\n",
        "    \"IVF 시술 횟수\",\n",
        "    \"DI 시술 횟수\",\n",
        "    \"총 임신 횟수\",\n",
        "    \"IVF 임신 횟수\",\n",
        "    \"DI 임신 횟수\",\n",
        "    \"총 출산 횟수\",\n",
        "    \"IVF 출산 횟수\",\n",
        "    \"DI 출산 횟수\",\n",
        "    \"난자 출처\",\n",
        "    \"정자 출처\",\n",
        "    \"난자 기증자 나이\",\n",
        "    \"정자 기증자 나이\",\n",
        "    \"동결 배아 사용 여부\",\n",
        "    \"신선 배아 사용 여부\",\n",
        "    \"기증 배아 사용 여부\",\n",
        "    \"대리모 여부\",\n",
        "    \"PGD 시술 여부\",\n",
        "    \"PGS 시술 여부\",\n",
        "    '시술 정자',\n",
        "    '시술 난자',\n",
        "        \"저장된 신선 난자 수\",\"총_생성_배아_bin\",\"저장된 배아 수_bin\"\n",
        "]\n",
        "numeric_columns = [\n",
        "    \"임신 시도 또는 마지막 임신 경과 연수\",\n",
        "    \"총 생성 배아 수\",\n",
        "    \"미세주입된 난자 수\",\n",
        "    \"미세주입에서 생성된 배아 수\",\n",
        "    \"이식된 배아 수\",\n",
        "    \"미세주입 배아 이식 수\",\n",
        "    \"저장된 배아 수\",\n",
        "    \"미세주입 후 저장된 배아 수\",\n",
        "    \"해동된 배아 수\",\n",
        "    \"해동 난자 수\",\n",
        "    \"수집된 신선 난자 수\",\n",
        "    \"저장된 신선 난자 수\",\n",
        "    \"혼합된 난자 수\",\n",
        "    \"파트너 정자와 혼합된 난자 수\",\n",
        "    \"기증자 정자와 혼합된 난자 수\",\n",
        "    \"난자 채취 경과일\",\n",
        "    \"난자 해동 경과일\",\n",
        "    \"난자 혼합 경과일\",\n",
        "    # \"배아 이식 경과일\",\n",
        "    \"배아 해동 경과일\"\n",
        "]+['총 시술 횟수', '클리닉 내 총 시술 횟수', 'IVF 시술 횟수',\n",
        "                      '총 임신 횟수', 'IVF 임신 횟수', '총 출산 횟수', 'IVF 출산 횟수']\n",
        "\n",
        "for col in categorical_columns:\n",
        "  if col in train.columns:\n",
        "    if train[col].isna().sum() > 0 or test[col].isna().sum() > 0 :\n",
        "\n",
        "      mode_value = train[col].mode()[0]\n",
        "      train[col].fillna(mode_value, inplace=True)  # 최빈값으로 대체\n",
        "      test[col].fillna(mode_value, inplace = True)\n",
        "    train[col] = train[col].astype(str)\n",
        "    test[col] = test[col].astype(str)\n",
        "    #encoder = ce.OrdinalEncoder(handle_unknown='impute')\n",
        "    #encoder.fit(train[col])\n",
        "    #train[col] = encoder.transform(train[col])\n",
        "    #test[col] = encoder.transform(test[col])\n",
        "\n",
        "# numeric_columns = [\"총 생성 배아 수\", \"총 시술 횟수\",\"클리닉 내 총 시술 횟수\",\"IVF 시술 횟수\",\"DI 시술 횟수\",\n",
        "#                    \"총 임신 횟수\",\"IVF 임신 횟수\",\"DI 임신 횟수\",\"총 출산 횟수\",\"IVF 출산 횟수\",\"DI 출산 횟수\",\n",
        "#                     '미세주입된 난자 수', '미세주입에서 생성된 배아 수', '이식된 배아 수', '미세주입 배아 이식 수', '저장된 배아 수',\n",
        "#        '미세주입 후 저장된 배아 수', '해동된 배아 수', '해동 난자 수', '수집된 신선 난자 수', '저장된 신선 난자 수',\n",
        "#        '혼합된 난자 수', '파트너 정자와 혼합된 난자 수', '기증자 정자와 혼합된 난자 수', '난자 혼합 경과일', '배아 이식 경과일', '배아 해동 경과일'] #\n",
        "\n",
        "# # numeric_columns = [\"총 생성 배아 수\",\"미세주입된 난자 수\",\"미세주입에서 생성된 배아 수\",\n",
        "# #                    \"이식된 배아 수\",\"미세주입 배아 이식 수\",\"저장된 배아 수\",\"미세주입 후 저장된 배아 수\",\n",
        "# #                    \"수집된 신선 난자 수\",\"혼합된 난자 수\",\"파트너 정자와 혼합된 난자 수\",\n",
        "# #                    \"기증자 정자와 혼합된 난자 수\",\"배아 이식 경과일\"]\n",
        "\n",
        "for col in numeric_columns:\n",
        "  if col in train.columns:\n",
        "    if train[col].isna().sum():\n",
        "      if col == \"이식된 배아 수\":\n",
        "        train[col].fillna(3, inplace=True)  # -1로 대체\n",
        "        test[col].fillna(3, inplace = True)\n",
        "      elif train[col].isna().sum() >= len(train)*0.5: # 결측치가 절반이 넘어갈 경우\n",
        "        train[col].fillna(-1, inplace=True)  # -1로 대체\n",
        "        test[col].fillna(-1, inplace = True)\n",
        "      else:\n",
        "        mode_value = train[col].mode()[0]  # 최빈값 구하기\n",
        "        train[col].fillna(mode_value, inplace=True)  # 최빈값으로 대체\n",
        "        test[col].fillna(mode_value, inplace = True)"
      ]
    },
    {
      "cell_type": "code",
      "execution_count": 47,
      "metadata": {},
      "outputs": [
        {
          "name": "stdout",
          "output_type": "stream",
          "text": [
            "\n",
            "========== 컬럼: 이식된 배아 수 ==========\n",
            "\n",
            "          임신 성공 비율  데이터 개수\n",
            "이식된 배아 수                  \n",
            "0.0       0.000000   36514\n",
            "1.0       0.313548   93791\n",
            "2.0       0.311092  110845\n",
            "3.0       0.152066   15171\n"
          ]
        }
      ],
      "source": [
        "import pandas as pd\n",
        "\n",
        "# \"이식된 배아 수\" 컬럼에 대한 임신 성공 비율 및 데이터 개수 계산\n",
        "def calculate_pregnancy_success_rate(df, column=\"이식된 배아 수\"):\n",
        "    # 각 고유값별 임신 성공 여부 평균 (즉, 1의 비율) 및 개수 계산\n",
        "    result = df.groupby(column)[\"임신 성공 여부\"].agg(['mean', 'count'])\n",
        "    \n",
        "    # 컬럼명 변경\n",
        "    result.columns = [\"임신 성공 비율\", \"데이터 개수\"]\n",
        "    \n",
        "    return result\n",
        "\n",
        "# 결과 계산\n",
        "success_rate_df = calculate_pregnancy_success_rate(train)\n",
        "\n",
        "# 결과 출력\n",
        "print(\"\\n========== 컬럼: 이식된 배아 수 ==========\\n\")\n",
        "print(success_rate_df)\n"
      ]
    },
    {
      "cell_type": "code",
      "execution_count": 70,
      "metadata": {
        "colab": {
          "base_uri": "https://localhost:8080/"
        },
        "id": "rrQrzq0H_QfV",
        "outputId": "255208d3-85ca-4d21-d9d0-eb8dccc27e6d"
      },
      "outputs": [
        {
          "data": {
            "text/plain": [
              "78"
            ]
          },
          "execution_count": 70,
          "metadata": {},
          "output_type": "execute_result"
        }
      ],
      "source": [
        "len(categorical_columns) + len(numeric_columns)"
      ]
    },
    {
      "cell_type": "code",
      "execution_count": 71,
      "metadata": {
        "id": "CI8IOlCFVXGY"
      },
      "outputs": [],
      "source": [
        "def make_feature(df):\n",
        "  #df['연령 가중치'] = df['시술 당시 나이'].map(age_weight_dict)\n",
        "\n",
        "  #df['난자 활용률'] = df['미세주입된 난자 수'] / (df['수집된 신선 난자 수'] + df['해동 난자 수'] + 1)\n",
        "  df['미세주입 배아 생성률'] = (df['미세주입에서 생성된 배아 수']) / (df['미세주입된 난자 수'] + 1)\n",
        "  df['미세주입 배아 이식률'] = (df['미세주입 배아 이식 수']) / (df['미세주입에서 생성된 배아 수'] + 1)\n",
        "  df['배아 이식률'] = (df['이식된 배아 수']) / (df['총 생성 배아 수'] + 1)\n",
        "  df['저장 배아 비율'] = (df['저장된 배아 수'])/ (df['총 생성 배아 수'] + 1)\n",
        "  df['해동 배아 생존율'] = (df['해동된 배아 수'])/ (df['총 생성 배아 수'] + 1)\n",
        "  df['파트너 정자 혼합 비율'] = (df['파트너 정자와 혼합된 난자 수']) / (df['혼합된 난자 수'] + 1)\n",
        "\n",
        "  # df['저장 배아 비율2'] = (df['저장된 배아 수'])/ (df['이식된 배아 수'] + 1)\n",
        "  # df['해동 배아 생존율2'] = (df['해동된 배아 수'])/ (df['이식된 배아 수'] + 1)\n",
        "  # df['미세주입 배아 이식 비율'] = df['미세주입 배아 이식 수'] / (df['이식된 배아 수'] + 1)\n",
        "  # #df['나이보정 배아 이식 수'] = df['이식된 배아 수']*df['연령 가중치']\n",
        "\n",
        "  # df['임신 성공률'] = (df['총 임신 횟수']) / (df['총 시술 횟수'] + 1)\n",
        "  # #df['IVF 시술 성공률'] = (df['IVF 임신 횟수'])/ (df['IVF 시술 횟수'] + 1)\n",
        "  # #df['DI 시술 성공률'] = (df['DI 임신 횟수']) / (df['DI 시술 횟수'] + 1)\n",
        "  # df['출산율'] = df['총 출산 횟수'] / (df['총 임신 횟수'] + 1)\n",
        "  #df['IVF 출산율'] = df['IVF 출산 횟수'] / (df['IVF 임신 횟수'] + 1)\n",
        "  #df['DI 출산율'] = df['DI 출산 횟수'] / (df['DI 임신 횟수'] + 1)\n",
        "  #df['시술 기준 출산 성공률'] = df['총 출산 횟수'] / (df['총 시술 횟수'] + 1)\n",
        "\n",
        "  #df = df.drop(columns = ['연령 가중치'])\n",
        "\n",
        "  return df"
      ]
    },
    {
      "cell_type": "code",
      "execution_count": 72,
      "metadata": {
        "colab": {
          "base_uri": "https://localhost:8080/"
        },
        "id": "_VNPbGSR4h_I",
        "outputId": "1875ff1c-04b4-4453-9598-5e59d6b72b4e"
      },
      "outputs": [
        {
          "data": {
            "text/plain": [
              "((256321, 53), (90067, 53))"
            ]
          },
          "execution_count": 72,
          "metadata": {},
          "output_type": "execute_result"
        }
      ],
      "source": [
        "X = train.drop('임신 성공 여부', axis=1)\n",
        "y = train['임신 성공 여부']\n",
        "\n",
        "X = make_feature(X)\n",
        "test = make_feature(test)\n",
        "\n",
        "X.shape, test.shape"
      ]
    },
    {
      "cell_type": "code",
      "execution_count": 50,
      "metadata": {
        "colab": {
          "base_uri": "https://localhost:8080/",
          "height": 178
        },
        "id": "1WNQj2e8ukWK",
        "outputId": "039cab20-93c0-4ab4-f8a6-8098c62dc87f"
      },
      "outputs": [
        {
          "data": {
            "text/plain": [
              "임신 성공 여부\n",
              "0    190123\n",
              "1     66198\n",
              "Name: count, dtype: int64"
            ]
          },
          "execution_count": 50,
          "metadata": {},
          "output_type": "execute_result"
        }
      ],
      "source": [
        "y.value_counts()"
      ]
    },
    {
      "cell_type": "code",
      "execution_count": 73,
      "metadata": {
        "id": "fkCBE-kSIUnx"
      },
      "outputs": [],
      "source": [
        "categorical_columns = [\n",
        "    \"시술 시기 코드\",\n",
        "    \"시술 당시 나이\",\n",
        "    \"시술 유형\",\n",
        "    \"특정 시술 유형\",\n",
        "    \"배란 자극 여부\",\n",
        "    \"배란 유도 유형\",\n",
        "    \"단일 배아 이식 여부\",\n",
        "    \"착상 전 유전 검사 사용 여부\",\n",
        "    \"착상 전 유전 진단 사용 여부\",\n",
        "    \"남성 주 불임 원인\",\n",
        "    \"남성 부 불임 원인\",\n",
        "    \"여성 주 불임 원인\",\n",
        "    \"여성 부 불임 원인\",\n",
        "    \"부부 주 불임 원인\",\n",
        "    \"부부 부 불임 원인\",\n",
        "    \"불명확 불임 원인\",\n",
        "    \"불임 원인 - 난관 질환\",\n",
        "    \"불임 원인 - 남성 요인\",\n",
        "    \"불임 원인 - 배란 장애\",\n",
        "    \"불임 원인 - 여성 요인\",\n",
        "    \"불임 원인 - 자궁경부 문제\",\n",
        "    \"불임 원인 - 자궁내막증\",\n",
        "    \"불임 원인 - 정자 농도\",\n",
        "    \"불임 원인 - 정자 면역학적 요인\",\n",
        "    \"불임 원인 - 정자 운동성\",\n",
        "    \"불임 원인 - 정자 형태\",\n",
        "    \"배아 생성 주요 이유\",\n",
        "    \"총 시술 횟수\",\n",
        "    \"클리닉 내 총 시술 횟수\",\n",
        "    \"IVF 시술 횟수\",\n",
        "    \"DI 시술 횟수\",\n",
        "    \"총 임신 횟수\",\n",
        "    \"IVF 임신 횟수\",\n",
        "    \"DI 임신 횟수\",\n",
        "    \"총 출산 횟수\",\n",
        "    \"IVF 출산 횟수\",\n",
        "    \"DI 출산 횟수\",\n",
        "    \"난자 출처\",\n",
        "    \"정자 출처\",\n",
        "    \"난자 기증자 나이\",\n",
        "    \"정자 기증자 나이\",\n",
        "    \"동결 배아 사용 여부\",\n",
        "    \"신선 배아 사용 여부\",\n",
        "    \"기증 배아 사용 여부\",\n",
        "    \"대리모 여부\",\n",
        "    \"PGD 시술 여부\",\n",
        "    \"PGS 시술 여부\",\n",
        "    '시술 정자',\n",
        "    '시술 난자',\n",
        "        \"저장된 신선 난자 수\",\"총_생성_배아_bin\",\"임신시도_bin\",\"저장된 배아 수_bin\",\"배아 이식 경과일\"\n",
        "]\n",
        "\n",
        "categorical_columns_new = []\n",
        "for col in X.columns:\n",
        "  if col in categorical_columns:\n",
        "    categorical_columns_new.append(col)\n"
      ]
    },
    {
      "cell_type": "code",
      "execution_count": 91,
      "metadata": {
        "id": "nsRZfmFixgqm"
      },
      "outputs": [],
      "source": [
        "from sklearn.utils.class_weight import compute_class_weight\n",
        "\n",
        "seed = 4972\n",
        "\n",
        "def objective_cat(trial):\n",
        "    global best_val_auc\n",
        "    cbrm_param = {\n",
        "        'iterations':trial.suggest_int(\"iterations\", 1500, 3000),\n",
        "        'depth':trial.suggest_int(\"depth\", 4, 10),\n",
        "        'learning_rate' : trial.suggest_float('learning_rate',0.005, 0.1),\n",
        "        'l2_leaf_reg': trial.suggest_float(\"l2_leaf_reg\", 1e-4, 100.0, log=True),\n",
        "        'early_stopping_rounds': 300\n",
        "    }\n",
        "\n",
        "    # Generate model\n",
        "    model_cat = CatBoostClassifier(**cbrm_param, auto_class_weights='Balanced', eval_metric='AUC', random_state=seed, task_type=\"GPU\",devices='2')\n",
        "    model_cat.fit(X_train,\n",
        "          y_train,\n",
        "          cat_features=categorical_columns_new,\n",
        "          early_stopping_rounds= 300,\n",
        "          eval_set=[(X_val,y_val)],\n",
        "          verbose = 300)\n",
        "\n",
        "    val_auc = model_cat.get_best_score()[\"validation\"][\"AUC\"]\n",
        "    best_model_path = \"/data/home/brian1501/Minsu/Pregnant/train/weight/cat_fold_gpu{}.cbm\".format(idx)\n",
        "    if val_auc > best_val_auc:\n",
        "        best_val_auc = val_auc\n",
        "        model_cat.save_model(best_model_path)\n",
        "        print('저장 완료')\n",
        "\n",
        "    return val_auc\n",
        "\n",
        "def objective_lgbm(trial):\n",
        "    \"\"\"\n",
        "    LightGBM을 Optuna로 하이퍼파라미터 탐색하는 Objective 함수.\n",
        "    \"\"\"\n",
        "    lgbm_params = {\n",
        "        \"objective\": trial.suggest_categorical(\"objective\", [\"binary\"]),\n",
        "        \"metric\": trial.suggest_categorical(\"metric\", [\"auc\"]),\n",
        "        \"random_state\": trial.suggest_int('random_state', 42, 42),\n",
        "        \"verbose\": trial.suggest_int('verbose', -1, -1),\n",
        "        'learning_rate': trial.suggest_float('learning_rate', 0.005, 0.1, log=True),\n",
        "        'n_estimators': trial.suggest_int('n_estimators', 100, 2000),\n",
        "        'min_child_samples': trial.suggest_int('min_child_samples', 10, 50, step=5),\n",
        "        'subsample': trial.suggest_float('subsample', 0.5, 1.0, step=0.1),\n",
        "        'colsample_bytree': trial.suggest_float('colsample_bytree', 0.5, 1.0, step=0.1),\n",
        "    }\n",
        "\n",
        "    class_weights = compute_class_weight(class_weight=\"balanced\", classes=np.unique(y), y=y_train)\n",
        "    class_weight_dict = {i: w for i, w in enumerate(class_weights)}\n",
        "\n",
        "    model_lgbm = lgb.LGBMClassifier(**lgbm_params, class_weight=class_weight_dict)\n",
        "    model_lgbm.fit(\n",
        "        X_train, y_train,\n",
        "        eval_set=[(X_val, y_val)],\n",
        "        categorical_feature=categorical_columns_new\n",
        "    )\n",
        "\n",
        "    return model_lgbm.best_score_['valid_0']['auc']"
      ]
    },
    {
      "cell_type": "code",
      "execution_count": 77,
      "metadata": {
        "id": "_Kc8ofqpJiCe"
      },
      "outputs": [],
      "source": [
        "import pandas as pd\n",
        "import numpy as np\n",
        "\n",
        "for i, col in enumerate(categorical_columns_new):\n",
        "    # 1) NaN(결측값) 여부 확인\n",
        "    nan_mask = train[col].isnull()\n",
        "    if nan_mask.any():\n",
        "        print(f\"[열 인덱스: {i}] {col} 열에 NaN(결측값) 존재\")\n",
        "        print(train.loc[nan_mask, col].head(), \"\\n\")\n",
        "\n",
        "    # 2) int/str 이외의 타입이 있는지 확인 (float, bool 등)\n",
        "    invalid_mask = train[col].notnull() & ~train[col].apply(lambda x: isinstance(x, (int, str)))\n",
        "    if invalid_mask.any():\n",
        "        print(f\"[열 인덱스: {i}] {col} 열에 int/str 이외의 타입 존재\")\n",
        "        print(train.loc[invalid_mask, col].head(), \"\\n\")\n"
      ]
    },
    {
      "cell_type": "code",
      "execution_count": null,
      "metadata": {
        "colab": {
          "base_uri": "https://localhost:8080/"
        },
        "id": "NsuYwQX28LzT",
        "outputId": "fabc13bb-92a5-4778-b080-2e31857380ec",
        "scrolled": true,
        "tags": []
      },
      "outputs": [
        {
          "name": "stderr",
          "output_type": "stream",
          "text": [
            "[I 2025-02-24 21:27:43,953] A new study created in memory with name: no-name-04e43194-19a6-489f-94d6-3fa896575b8b\n"
          ]
        },
        {
          "name": "stdout",
          "output_type": "stream",
          "text": [
            "Seed 4972 Start!\n",
            "==================================================\n"
          ]
        },
        {
          "name": "stderr",
          "output_type": "stream",
          "text": [
            "[I 2025-02-24 21:27:51,121] Trial 0 finished with value: 0.7406501879855459 and parameters: {'objective': 'binary', 'metric': 'auc', 'random_state': 42, 'verbose': -1, 'learning_rate': 0.028176029297306456, 'n_estimators': 1730, 'min_child_samples': 10, 'subsample': 0.9, 'colsample_bytree': 0.7}. Best is trial 0 with value: 0.7406501879855459.\n",
            "[I 2025-02-24 21:27:52,377] Trial 1 finished with value: 0.7366485095346593 and parameters: {'objective': 'binary', 'metric': 'auc', 'random_state': 42, 'verbose': -1, 'learning_rate': 0.005944336111080004, 'n_estimators': 113, 'min_child_samples': 10, 'subsample': 0.9, 'colsample_bytree': 0.5}. Best is trial 0 with value: 0.7406501879855459.\n",
            "[I 2025-02-24 21:27:54,433] Trial 2 finished with value: 0.7424128553797584 and parameters: {'objective': 'binary', 'metric': 'auc', 'random_state': 42, 'verbose': -1, 'learning_rate': 0.07957145920376708, 'n_estimators': 397, 'min_child_samples': 35, 'subsample': 0.5, 'colsample_bytree': 0.7}. Best is trial 2 with value: 0.7424128553797584.\n",
            "[I 2025-02-24 21:27:57,954] Trial 3 finished with value: 0.742149766187962 and parameters: {'objective': 'binary', 'metric': 'auc', 'random_state': 42, 'verbose': -1, 'learning_rate': 0.007980814962048806, 'n_estimators': 406, 'min_child_samples': 50, 'subsample': 0.5, 'colsample_bytree': 0.5}. Best is trial 2 with value: 0.7424128553797584.\n",
            "[I 2025-02-24 21:27:59,548] Trial 4 finished with value: 0.7419963809147597 and parameters: {'objective': 'binary', 'metric': 'auc', 'random_state': 42, 'verbose': -1, 'learning_rate': 0.01599119727287282, 'n_estimators': 183, 'min_child_samples': 40, 'subsample': 0.6, 'colsample_bytree': 0.6}. Best is trial 2 with value: 0.7424128553797584.\n",
            "[I 2025-02-24 21:28:06,976] Trial 5 finished with value: 0.743271673078509 and parameters: {'objective': 'binary', 'metric': 'auc', 'random_state': 42, 'verbose': -1, 'learning_rate': 0.010907507425244923, 'n_estimators': 1597, 'min_child_samples': 50, 'subsample': 0.6, 'colsample_bytree': 0.8}. Best is trial 5 with value: 0.743271673078509.\n",
            "[I 2025-02-24 21:28:11,066] Trial 6 finished with value: 0.7366405208838666 and parameters: {'objective': 'binary', 'metric': 'auc', 'random_state': 42, 'verbose': -1, 'learning_rate': 0.0832688765336147, 'n_estimators': 972, 'min_child_samples': 20, 'subsample': 0.7, 'colsample_bytree': 0.7}. Best is trial 5 with value: 0.743271673078509.\n",
            "[I 2025-02-24 21:28:17,311] Trial 7 finished with value: 0.7394127614704075 and parameters: {'objective': 'binary', 'metric': 'auc', 'random_state': 42, 'verbose': -1, 'learning_rate': 0.03899678252089179, 'n_estimators': 1543, 'min_child_samples': 25, 'subsample': 0.7, 'colsample_bytree': 0.8}. Best is trial 5 with value: 0.743271673078509.\n",
            "[I 2025-02-24 21:28:24,195] Trial 8 finished with value: 0.7373926497738945 and parameters: {'objective': 'binary', 'metric': 'auc', 'random_state': 42, 'verbose': -1, 'learning_rate': 0.06174177473816209, 'n_estimators': 1360, 'min_child_samples': 10, 'subsample': 0.7, 'colsample_bytree': 0.6}. Best is trial 5 with value: 0.743271673078509.\n",
            "[I 2025-02-24 21:28:29,784] Trial 9 finished with value: 0.7432930132237395 and parameters: {'objective': 'binary', 'metric': 'auc', 'random_state': 42, 'verbose': -1, 'learning_rate': 0.013735964154420877, 'n_estimators': 1151, 'min_child_samples': 10, 'subsample': 0.6, 'colsample_bytree': 0.8}. Best is trial 9 with value: 0.7432930132237395.\n",
            "[I 2025-02-24 21:28:34,562] Trial 10 finished with value: 0.7427177548896025 and parameters: {'objective': 'binary', 'metric': 'auc', 'random_state': 42, 'verbose': -1, 'learning_rate': 0.01611395757926384, 'n_estimators': 993, 'min_child_samples': 20, 'subsample': 1.0, 'colsample_bytree': 1.0}. Best is trial 9 with value: 0.7432930132237395.\n",
            "[I 2025-02-24 21:28:43,247] Trial 11 finished with value: 0.7431917031485692 and parameters: {'objective': 'binary', 'metric': 'auc', 'random_state': 42, 'verbose': -1, 'learning_rate': 0.010358887774671185, 'n_estimators': 1926, 'min_child_samples': 50, 'subsample': 0.6, 'colsample_bytree': 0.9}. Best is trial 9 with value: 0.7432930132237395.\n",
            "[I 2025-02-24 21:28:49,368] Trial 12 finished with value: 0.7435313221054191 and parameters: {'objective': 'binary', 'metric': 'auc', 'random_state': 42, 'verbose': -1, 'learning_rate': 0.011808052122619036, 'n_estimators': 1272, 'min_child_samples': 40, 'subsample': 0.6, 'colsample_bytree': 0.9}. Best is trial 12 with value: 0.7435313221054191.\n",
            "[I 2025-02-24 21:28:54,728] Trial 13 finished with value: 0.7431105414755972 and parameters: {'objective': 'binary', 'metric': 'auc', 'random_state': 42, 'verbose': -1, 'learning_rate': 0.01828500867939795, 'n_estimators': 1173, 'min_child_samples': 40, 'subsample': 0.8, 'colsample_bytree': 1.0}. Best is trial 12 with value: 0.7435313221054191.\n",
            "[I 2025-02-24 21:28:59,328] Trial 14 finished with value: 0.7429681202382914 and parameters: {'objective': 'binary', 'metric': 'auc', 'random_state': 42, 'verbose': -1, 'learning_rate': 0.005131718790565893, 'n_estimators': 760, 'min_child_samples': 30, 'subsample': 0.5, 'colsample_bytree': 0.9}. Best is trial 12 with value: 0.7435313221054191.\n",
            "[I 2025-02-24 21:29:05,385] Trial 15 finished with value: 0.743472354660184 and parameters: {'objective': 'binary', 'metric': 'auc', 'random_state': 42, 'verbose': -1, 'learning_rate': 0.012490420102650054, 'n_estimators': 1275, 'min_child_samples': 40, 'subsample': 0.6, 'colsample_bytree': 0.9}. Best is trial 12 with value: 0.7435313221054191.\n",
            "[I 2025-02-24 21:29:08,820] Trial 16 finished with value: 0.7431643089487349 and parameters: {'objective': 'binary', 'metric': 'auc', 'random_state': 42, 'verbose': -1, 'learning_rate': 0.026117663889187813, 'n_estimators': 702, 'min_child_samples': 40, 'subsample': 0.8, 'colsample_bytree': 0.9}. Best is trial 12 with value: 0.7435313221054191.\n",
            "[I 2025-02-24 21:29:15,431] Trial 17 finished with value: 0.7435345040593151 and parameters: {'objective': 'binary', 'metric': 'auc', 'random_state': 42, 'verbose': -1, 'learning_rate': 0.00804386343347627, 'n_estimators': 1296, 'min_child_samples': 45, 'subsample': 0.6, 'colsample_bytree': 1.0}. Best is trial 17 with value: 0.7435345040593151.\n",
            "[I 2025-02-24 21:29:22,690] Trial 18 finished with value: 0.7433315978906466 and parameters: {'objective': 'binary', 'metric': 'auc', 'random_state': 42, 'verbose': -1, 'learning_rate': 0.007858294449533869, 'n_estimators': 1425, 'min_child_samples': 45, 'subsample': 0.5, 'colsample_bytree': 1.0}. Best is trial 17 with value: 0.7435345040593151.\n",
            "[I 2025-02-24 21:29:31,277] Trial 19 finished with value: 0.7432419510072851 and parameters: {'objective': 'binary', 'metric': 'auc', 'random_state': 42, 'verbose': -1, 'learning_rate': 0.00883161911167747, 'n_estimators': 1841, 'min_child_samples': 35, 'subsample': 0.7, 'colsample_bytree': 1.0}. Best is trial 17 with value: 0.7435345040593151.\n"
          ]
        },
        {
          "name": "stdout",
          "output_type": "stream",
          "text": [
            "LGBM val score : 0.7435345040593151\n"
          ]
        },
        {
          "name": "stderr",
          "output_type": "stream",
          "text": [
            "[I 2025-02-24 21:29:39,364] A new study created in memory with name: no-name-b8e6be70-a67c-46a2-8241-4a4882fa29b1\n"
          ]
        },
        {
          "name": "stdout",
          "output_type": "stream",
          "text": [
            "==================================================\n"
          ]
        },
        {
          "name": "stderr",
          "output_type": "stream",
          "text": [
            "[I 2025-02-24 21:29:46,545] Trial 0 finished with value: 0.7322668047983677 and parameters: {'objective': 'binary', 'metric': 'auc', 'random_state': 42, 'verbose': -1, 'learning_rate': 0.028176029297306456, 'n_estimators': 1730, 'min_child_samples': 10, 'subsample': 0.9, 'colsample_bytree': 0.7}. Best is trial 0 with value: 0.7322668047983677.\n",
            "[I 2025-02-24 21:29:47,778] Trial 1 finished with value: 0.7273414846198178 and parameters: {'objective': 'binary', 'metric': 'auc', 'random_state': 42, 'verbose': -1, 'learning_rate': 0.005944336111080004, 'n_estimators': 113, 'min_child_samples': 10, 'subsample': 0.9, 'colsample_bytree': 0.5}. Best is trial 0 with value: 0.7322668047983677.\n",
            "[I 2025-02-24 21:29:49,782] Trial 2 finished with value: 0.7342532677783055 and parameters: {'objective': 'binary', 'metric': 'auc', 'random_state': 42, 'verbose': -1, 'learning_rate': 0.07957145920376708, 'n_estimators': 397, 'min_child_samples': 35, 'subsample': 0.5, 'colsample_bytree': 0.7}. Best is trial 2 with value: 0.7342532677783055.\n",
            "[I 2025-02-24 21:29:53,314] Trial 3 finished with value: 0.7343743353787237 and parameters: {'objective': 'binary', 'metric': 'auc', 'random_state': 42, 'verbose': -1, 'learning_rate': 0.007980814962048806, 'n_estimators': 406, 'min_child_samples': 50, 'subsample': 0.5, 'colsample_bytree': 0.5}. Best is trial 3 with value: 0.7343743353787237.\n",
            "[I 2025-02-24 21:29:54,902] Trial 4 finished with value: 0.7344175108057959 and parameters: {'objective': 'binary', 'metric': 'auc', 'random_state': 42, 'verbose': -1, 'learning_rate': 0.01599119727287282, 'n_estimators': 183, 'min_child_samples': 40, 'subsample': 0.6, 'colsample_bytree': 0.6}. Best is trial 4 with value: 0.7344175108057959.\n",
            "[I 2025-02-24 21:30:02,452] Trial 5 finished with value: 0.7358242502106546 and parameters: {'objective': 'binary', 'metric': 'auc', 'random_state': 42, 'verbose': -1, 'learning_rate': 0.010907507425244923, 'n_estimators': 1597, 'min_child_samples': 50, 'subsample': 0.6, 'colsample_bytree': 0.8}. Best is trial 5 with value: 0.7358242502106546.\n",
            "[I 2025-02-24 21:30:06,463] Trial 6 finished with value: 0.728206427442036 and parameters: {'objective': 'binary', 'metric': 'auc', 'random_state': 42, 'verbose': -1, 'learning_rate': 0.0832688765336147, 'n_estimators': 972, 'min_child_samples': 20, 'subsample': 0.7, 'colsample_bytree': 0.7}. Best is trial 5 with value: 0.7358242502106546.\n",
            "[I 2025-02-24 21:30:12,609] Trial 7 finished with value: 0.7301184031755628 and parameters: {'objective': 'binary', 'metric': 'auc', 'random_state': 42, 'verbose': -1, 'learning_rate': 0.03899678252089179, 'n_estimators': 1543, 'min_child_samples': 25, 'subsample': 0.7, 'colsample_bytree': 0.8}. Best is trial 5 with value: 0.7358242502106546.\n",
            "[I 2025-02-24 21:30:19,363] Trial 8 finished with value: 0.729708953758764 and parameters: {'objective': 'binary', 'metric': 'auc', 'random_state': 42, 'verbose': -1, 'learning_rate': 0.06174177473816209, 'n_estimators': 1360, 'min_child_samples': 10, 'subsample': 0.7, 'colsample_bytree': 0.6}. Best is trial 5 with value: 0.7358242502106546.\n",
            "[I 2025-02-24 21:30:24,843] Trial 9 finished with value: 0.735911983695573 and parameters: {'objective': 'binary', 'metric': 'auc', 'random_state': 42, 'verbose': -1, 'learning_rate': 0.013735964154420877, 'n_estimators': 1151, 'min_child_samples': 10, 'subsample': 0.6, 'colsample_bytree': 0.8}. Best is trial 9 with value: 0.735911983695573.\n",
            "[I 2025-02-24 21:30:29,727] Trial 10 finished with value: 0.7362211129197176 and parameters: {'objective': 'binary', 'metric': 'auc', 'random_state': 42, 'verbose': -1, 'learning_rate': 0.01611395757926384, 'n_estimators': 993, 'min_child_samples': 20, 'subsample': 1.0, 'colsample_bytree': 1.0}. Best is trial 10 with value: 0.7362211129197176.\n",
            "[I 2025-02-24 21:30:34,382] Trial 11 finished with value: 0.7362752699314431 and parameters: {'objective': 'binary', 'metric': 'auc', 'random_state': 42, 'verbose': -1, 'learning_rate': 0.016168310431087372, 'n_estimators': 944, 'min_child_samples': 20, 'subsample': 1.0, 'colsample_bytree': 1.0}. Best is trial 11 with value: 0.7362752699314431.\n",
            "[I 2025-02-24 21:30:38,614] Trial 12 finished with value: 0.7358600635261628 and parameters: {'objective': 'binary', 'metric': 'auc', 'random_state': 42, 'verbose': -1, 'learning_rate': 0.021486323794773284, 'n_estimators': 856, 'min_child_samples': 20, 'subsample': 1.0, 'colsample_bytree': 1.0}. Best is trial 11 with value: 0.7362752699314431.\n",
            "[I 2025-02-24 21:30:44,682] Trial 13 finished with value: 0.736143383642526 and parameters: {'objective': 'binary', 'metric': 'auc', 'random_state': 42, 'verbose': -1, 'learning_rate': 0.01946491629515626, 'n_estimators': 767, 'min_child_samples': 20, 'subsample': 1.0, 'colsample_bytree': 1.0}. Best is trial 11 with value: 0.7362752699314431.\n",
            "[I 2025-02-24 21:30:48,818] Trial 14 finished with value: 0.7360738349307473 and parameters: {'objective': 'binary', 'metric': 'auc', 'random_state': 42, 'verbose': -1, 'learning_rate': 0.010006361389653062, 'n_estimators': 630, 'min_child_samples': 30, 'subsample': 0.9, 'colsample_bytree': 0.9}. Best is trial 11 with value: 0.7362752699314431.\n",
            "[I 2025-02-24 21:30:54,150] Trial 15 finished with value: 0.7338346564460905 and parameters: {'objective': 'binary', 'metric': 'auc', 'random_state': 42, 'verbose': -1, 'learning_rate': 0.02793446010796509, 'n_estimators': 1233, 'min_child_samples': 25, 'subsample': 1.0, 'colsample_bytree': 0.9}. Best is trial 11 with value: 0.7362752699314431.\n",
            "[I 2025-02-24 21:30:57,695] Trial 16 finished with value: 0.7361980412619455 and parameters: {'objective': 'binary', 'metric': 'auc', 'random_state': 42, 'verbose': -1, 'learning_rate': 0.014181698417506085, 'n_estimators': 634, 'min_child_samples': 15, 'subsample': 0.8, 'colsample_bytree': 1.0}. Best is trial 11 with value: 0.7362752699314431.\n",
            "[I 2025-02-24 21:31:07,467] Trial 17 finished with value: 0.7366145428903071 and parameters: {'objective': 'binary', 'metric': 'auc', 'random_state': 42, 'verbose': -1, 'learning_rate': 0.00624842059245217, 'n_estimators': 1915, 'min_child_samples': 30, 'subsample': 0.8, 'colsample_bytree': 0.9}. Best is trial 17 with value: 0.7366145428903071.\n",
            "[I 2025-02-24 21:31:15,273] Trial 18 finished with value: 0.736328830981628 and parameters: {'objective': 'binary', 'metric': 'auc', 'random_state': 42, 'verbose': -1, 'learning_rate': 0.005544781398063263, 'n_estimators': 1393, 'min_child_samples': 40, 'subsample': 0.8, 'colsample_bytree': 0.9}. Best is trial 17 with value: 0.7366145428903071.\n",
            "[I 2025-02-24 21:31:25,631] Trial 19 finished with value: 0.736519065878439 and parameters: {'objective': 'binary', 'metric': 'auc', 'random_state': 42, 'verbose': -1, 'learning_rate': 0.005240999938924505, 'n_estimators': 1981, 'min_child_samples': 40, 'subsample': 0.8, 'colsample_bytree': 0.9}. Best is trial 17 with value: 0.7366145428903071.\n"
          ]
        },
        {
          "name": "stdout",
          "output_type": "stream",
          "text": [
            "LGBM val score : 0.7366145428903071\n"
          ]
        },
        {
          "name": "stderr",
          "output_type": "stream",
          "text": [
            "[I 2025-02-24 21:31:37,555] A new study created in memory with name: no-name-9b330c40-0f9b-4b91-864e-4619651c9874\n"
          ]
        },
        {
          "name": "stdout",
          "output_type": "stream",
          "text": [
            "==================================================\n"
          ]
        },
        {
          "name": "stderr",
          "output_type": "stream",
          "text": [
            "[I 2025-02-24 21:31:45,041] Trial 0 finished with value: 0.739600930008314 and parameters: {'objective': 'binary', 'metric': 'auc', 'random_state': 42, 'verbose': -1, 'learning_rate': 0.028176029297306456, 'n_estimators': 1730, 'min_child_samples': 10, 'subsample': 0.9, 'colsample_bytree': 0.7}. Best is trial 0 with value: 0.739600930008314.\n",
            "[I 2025-02-24 21:31:46,331] Trial 1 finished with value: 0.7336518869608438 and parameters: {'objective': 'binary', 'metric': 'auc', 'random_state': 42, 'verbose': -1, 'learning_rate': 0.005944336111080004, 'n_estimators': 113, 'min_child_samples': 10, 'subsample': 0.9, 'colsample_bytree': 0.5}. Best is trial 0 with value: 0.739600930008314.\n",
            "[I 2025-02-24 21:31:48,455] Trial 2 finished with value: 0.7399177590555621 and parameters: {'objective': 'binary', 'metric': 'auc', 'random_state': 42, 'verbose': -1, 'learning_rate': 0.07957145920376708, 'n_estimators': 397, 'min_child_samples': 35, 'subsample': 0.5, 'colsample_bytree': 0.7}. Best is trial 2 with value: 0.7399177590555621.\n",
            "[I 2025-02-24 21:31:52,189] Trial 3 finished with value: 0.7397370635164765 and parameters: {'objective': 'binary', 'metric': 'auc', 'random_state': 42, 'verbose': -1, 'learning_rate': 0.007980814962048806, 'n_estimators': 406, 'min_child_samples': 50, 'subsample': 0.5, 'colsample_bytree': 0.5}. Best is trial 2 with value: 0.7399177590555621.\n",
            "[I 2025-02-24 21:31:53,881] Trial 4 finished with value: 0.7398965944747198 and parameters: {'objective': 'binary', 'metric': 'auc', 'random_state': 42, 'verbose': -1, 'learning_rate': 0.01599119727287282, 'n_estimators': 183, 'min_child_samples': 40, 'subsample': 0.6, 'colsample_bytree': 0.6}. Best is trial 2 with value: 0.7399177590555621.\n",
            "[I 2025-02-24 21:32:01,660] Trial 5 finished with value: 0.7409618598360913 and parameters: {'objective': 'binary', 'metric': 'auc', 'random_state': 42, 'verbose': -1, 'learning_rate': 0.010907507425244923, 'n_estimators': 1597, 'min_child_samples': 50, 'subsample': 0.6, 'colsample_bytree': 0.8}. Best is trial 5 with value: 0.7409618598360913.\n",
            "[I 2025-02-24 21:32:05,859] Trial 6 finished with value: 0.7365171548284323 and parameters: {'objective': 'binary', 'metric': 'auc', 'random_state': 42, 'verbose': -1, 'learning_rate': 0.0832688765336147, 'n_estimators': 972, 'min_child_samples': 20, 'subsample': 0.7, 'colsample_bytree': 0.7}. Best is trial 5 with value: 0.7409618598360913.\n",
            "[I 2025-02-24 21:32:12,139] Trial 7 finished with value: 0.7385811762432535 and parameters: {'objective': 'binary', 'metric': 'auc', 'random_state': 42, 'verbose': -1, 'learning_rate': 0.03899678252089179, 'n_estimators': 1543, 'min_child_samples': 25, 'subsample': 0.7, 'colsample_bytree': 0.8}. Best is trial 5 with value: 0.7409618598360913.\n",
            "[I 2025-02-24 21:32:19,076] Trial 8 finished with value: 0.7366917199098045 and parameters: {'objective': 'binary', 'metric': 'auc', 'random_state': 42, 'verbose': -1, 'learning_rate': 0.06174177473816209, 'n_estimators': 1360, 'min_child_samples': 10, 'subsample': 0.7, 'colsample_bytree': 0.6}. Best is trial 5 with value: 0.7409618598360913.\n",
            "[I 2025-02-24 21:32:24,640] Trial 9 finished with value: 0.741337494395081 and parameters: {'objective': 'binary', 'metric': 'auc', 'random_state': 42, 'verbose': -1, 'learning_rate': 0.013735964154420877, 'n_estimators': 1151, 'min_child_samples': 10, 'subsample': 0.6, 'colsample_bytree': 0.8}. Best is trial 9 with value: 0.741337494395081.\n",
            "[I 2025-02-24 21:32:29,511] Trial 10 finished with value: 0.740598398784836 and parameters: {'objective': 'binary', 'metric': 'auc', 'random_state': 42, 'verbose': -1, 'learning_rate': 0.01611395757926384, 'n_estimators': 993, 'min_child_samples': 20, 'subsample': 1.0, 'colsample_bytree': 1.0}. Best is trial 9 with value: 0.741337494395081.\n",
            "[I 2025-02-24 21:32:38,476] Trial 11 finished with value: 0.7406170921118237 and parameters: {'objective': 'binary', 'metric': 'auc', 'random_state': 42, 'verbose': -1, 'learning_rate': 0.010358887774671185, 'n_estimators': 1926, 'min_child_samples': 50, 'subsample': 0.6, 'colsample_bytree': 0.9}. Best is trial 9 with value: 0.741337494395081.\n",
            "[I 2025-02-24 21:32:44,700] Trial 12 finished with value: 0.7409544301822195 and parameters: {'objective': 'binary', 'metric': 'auc', 'random_state': 42, 'verbose': -1, 'learning_rate': 0.011808052122619036, 'n_estimators': 1272, 'min_child_samples': 40, 'subsample': 0.6, 'colsample_bytree': 0.9}. Best is trial 9 with value: 0.741337494395081.\n",
            "[I 2025-02-24 21:32:49,463] Trial 13 finished with value: 0.7409927266708134 and parameters: {'objective': 'binary', 'metric': 'auc', 'random_state': 42, 'verbose': -1, 'learning_rate': 0.00558325111163444, 'n_estimators': 767, 'min_child_samples': 30, 'subsample': 0.8, 'colsample_bytree': 0.8}. Best is trial 9 with value: 0.741337494395081.\n",
            "[I 2025-02-24 21:32:54,097] Trial 14 finished with value: 0.7403247332454292 and parameters: {'objective': 'binary', 'metric': 'auc', 'random_state': 42, 'verbose': -1, 'learning_rate': 0.005131718790565893, 'n_estimators': 751, 'min_child_samples': 30, 'subsample': 0.8, 'colsample_bytree': 0.9}. Best is trial 9 with value: 0.741337494395081.\n",
            "[I 2025-02-24 21:32:58,515] Trial 15 finished with value: 0.7407313816429876 and parameters: {'objective': 'binary', 'metric': 'auc', 'random_state': 42, 'verbose': -1, 'learning_rate': 0.007218524711500066, 'n_estimators': 733, 'min_child_samples': 20, 'subsample': 0.8, 'colsample_bytree': 1.0}. Best is trial 9 with value: 0.741337494395081.\n",
            "[I 2025-02-24 21:33:03,319] Trial 16 finished with value: 0.7406850039159043 and parameters: {'objective': 'binary', 'metric': 'auc', 'random_state': 42, 'verbose': -1, 'learning_rate': 0.005051837301093731, 'n_estimators': 764, 'min_child_samples': 15, 'subsample': 0.9, 'colsample_bytree': 0.8}. Best is trial 9 with value: 0.741337494395081.\n",
            "[I 2025-02-24 21:33:08,616] Trial 17 finished with value: 0.740584377796326 and parameters: {'objective': 'binary', 'metric': 'auc', 'random_state': 42, 'verbose': -1, 'learning_rate': 0.019704944397290976, 'n_estimators': 1170, 'min_child_samples': 30, 'subsample': 0.8, 'colsample_bytree': 0.9}. Best is trial 9 with value: 0.741337494395081.\n",
            "[I 2025-02-24 21:33:12,185] Trial 18 finished with value: 0.7411800334099218 and parameters: {'objective': 'binary', 'metric': 'auc', 'random_state': 42, 'verbose': -1, 'learning_rate': 0.007858294449533869, 'n_estimators': 576, 'min_child_samples': 40, 'subsample': 1.0, 'colsample_bytree': 0.8}. Best is trial 9 with value: 0.741337494395081.\n",
            "[I 2025-02-24 21:33:16,093] Trial 19 finished with value: 0.7411115733212238 and parameters: {'objective': 'binary', 'metric': 'auc', 'random_state': 42, 'verbose': -1, 'learning_rate': 0.008731162655939187, 'n_estimators': 519, 'min_child_samples': 40, 'subsample': 1.0, 'colsample_bytree': 0.6}. Best is trial 9 with value: 0.741337494395081.\n"
          ]
        },
        {
          "name": "stdout",
          "output_type": "stream",
          "text": [
            "LGBM val score : 0.741337494395081\n"
          ]
        },
        {
          "name": "stderr",
          "output_type": "stream",
          "text": [
            "[I 2025-02-24 21:33:22,811] A new study created in memory with name: no-name-bdd88efd-ad24-42d7-a2ed-52116ae2cc18\n"
          ]
        },
        {
          "name": "stdout",
          "output_type": "stream",
          "text": [
            "==================================================\n"
          ]
        },
        {
          "name": "stderr",
          "output_type": "stream",
          "text": [
            "[I 2025-02-24 21:33:30,042] Trial 0 finished with value: 0.7383922016497133 and parameters: {'objective': 'binary', 'metric': 'auc', 'random_state': 42, 'verbose': -1, 'learning_rate': 0.028176029297306456, 'n_estimators': 1730, 'min_child_samples': 10, 'subsample': 0.9, 'colsample_bytree': 0.7}. Best is trial 0 with value: 0.7383922016497133.\n",
            "[I 2025-02-24 21:33:31,291] Trial 1 finished with value: 0.7328741292667439 and parameters: {'objective': 'binary', 'metric': 'auc', 'random_state': 42, 'verbose': -1, 'learning_rate': 0.005944336111080004, 'n_estimators': 113, 'min_child_samples': 10, 'subsample': 0.9, 'colsample_bytree': 0.5}. Best is trial 0 with value: 0.7383922016497133.\n",
            "[I 2025-02-24 21:33:33,310] Trial 2 finished with value: 0.740052017552279 and parameters: {'objective': 'binary', 'metric': 'auc', 'random_state': 42, 'verbose': -1, 'learning_rate': 0.07957145920376708, 'n_estimators': 397, 'min_child_samples': 35, 'subsample': 0.5, 'colsample_bytree': 0.7}. Best is trial 2 with value: 0.740052017552279.\n",
            "[I 2025-02-24 21:33:36,876] Trial 3 finished with value: 0.7387727491875064 and parameters: {'objective': 'binary', 'metric': 'auc', 'random_state': 42, 'verbose': -1, 'learning_rate': 0.007980814962048806, 'n_estimators': 406, 'min_child_samples': 50, 'subsample': 0.5, 'colsample_bytree': 0.5}. Best is trial 2 with value: 0.740052017552279.\n",
            "[I 2025-02-24 21:33:38,484] Trial 4 finished with value: 0.738637840753145 and parameters: {'objective': 'binary', 'metric': 'auc', 'random_state': 42, 'verbose': -1, 'learning_rate': 0.01599119727287282, 'n_estimators': 183, 'min_child_samples': 40, 'subsample': 0.6, 'colsample_bytree': 0.6}. Best is trial 2 with value: 0.740052017552279.\n",
            "[I 2025-02-24 21:33:46,147] Trial 5 finished with value: 0.741179163835466 and parameters: {'objective': 'binary', 'metric': 'auc', 'random_state': 42, 'verbose': -1, 'learning_rate': 0.010907507425244923, 'n_estimators': 1597, 'min_child_samples': 50, 'subsample': 0.6, 'colsample_bytree': 0.8}. Best is trial 5 with value: 0.741179163835466.\n",
            "[I 2025-02-24 21:33:50,261] Trial 6 finished with value: 0.7353161471241252 and parameters: {'objective': 'binary', 'metric': 'auc', 'random_state': 42, 'verbose': -1, 'learning_rate': 0.0832688765336147, 'n_estimators': 972, 'min_child_samples': 20, 'subsample': 0.7, 'colsample_bytree': 0.7}. Best is trial 5 with value: 0.741179163835466.\n",
            "[I 2025-02-24 21:33:56,616] Trial 7 finished with value: 0.7378132303782696 and parameters: {'objective': 'binary', 'metric': 'auc', 'random_state': 42, 'verbose': -1, 'learning_rate': 0.03899678252089179, 'n_estimators': 1543, 'min_child_samples': 25, 'subsample': 0.7, 'colsample_bytree': 0.8}. Best is trial 5 with value: 0.741179163835466.\n",
            "[I 2025-02-24 21:34:04,111] Trial 8 finished with value: 0.7361163969901662 and parameters: {'objective': 'binary', 'metric': 'auc', 'random_state': 42, 'verbose': -1, 'learning_rate': 0.06174177473816209, 'n_estimators': 1360, 'min_child_samples': 10, 'subsample': 0.7, 'colsample_bytree': 0.6}. Best is trial 5 with value: 0.741179163835466.\n",
            "[I 2025-02-24 21:34:11,201] Trial 9 finished with value: 0.7411728274017427 and parameters: {'objective': 'binary', 'metric': 'auc', 'random_state': 42, 'verbose': -1, 'learning_rate': 0.013735964154420877, 'n_estimators': 1151, 'min_child_samples': 10, 'subsample': 0.6, 'colsample_bytree': 0.8}. Best is trial 5 with value: 0.741179163835466.\n",
            "[I 2025-02-24 21:34:20,070] Trial 10 finished with value: 0.7407884025226872 and parameters: {'objective': 'binary', 'metric': 'auc', 'random_state': 42, 'verbose': -1, 'learning_rate': 0.010294631376366912, 'n_estimators': 1917, 'min_child_samples': 50, 'subsample': 1.0, 'colsample_bytree': 1.0}. Best is trial 5 with value: 0.741179163835466.\n",
            "[I 2025-02-24 21:34:25,450] Trial 11 finished with value: 0.7413886236900467 and parameters: {'objective': 'binary', 'metric': 'auc', 'random_state': 42, 'verbose': -1, 'learning_rate': 0.01451018914487997, 'n_estimators': 1067, 'min_child_samples': 40, 'subsample': 0.6, 'colsample_bytree': 0.9}. Best is trial 11 with value: 0.7413886236900467.\n",
            "[I 2025-02-24 21:34:29,800] Trial 12 finished with value: 0.7409974849721245 and parameters: {'objective': 'binary', 'metric': 'auc', 'random_state': 42, 'verbose': -1, 'learning_rate': 0.01748620797514845, 'n_estimators': 856, 'min_child_samples': 40, 'subsample': 0.6, 'colsample_bytree': 1.0}. Best is trial 11 with value: 0.7413886236900467.\n",
            "[I 2025-02-24 21:34:34,226] Trial 13 finished with value: 0.7415014201556911 and parameters: {'objective': 'binary', 'metric': 'auc', 'random_state': 42, 'verbose': -1, 'learning_rate': 0.011331695984425854, 'n_estimators': 767, 'min_child_samples': 45, 'subsample': 0.8, 'colsample_bytree': 0.9}. Best is trial 13 with value: 0.7415014201556911.\n",
            "[I 2025-02-24 21:34:38,648] Trial 14 finished with value: 0.7399432771987544 and parameters: {'objective': 'binary', 'metric': 'auc', 'random_state': 42, 'verbose': -1, 'learning_rate': 0.005131718790565893, 'n_estimators': 690, 'min_child_samples': 40, 'subsample': 0.8, 'colsample_bytree': 0.9}. Best is trial 13 with value: 0.7415014201556911.\n",
            "[I 2025-02-24 21:34:44,116] Trial 15 finished with value: 0.7405378293435916 and parameters: {'objective': 'binary', 'metric': 'auc', 'random_state': 42, 'verbose': -1, 'learning_rate': 0.02351972996817493, 'n_estimators': 1203, 'min_child_samples': 30, 'subsample': 0.8, 'colsample_bytree': 0.9}. Best is trial 13 with value: 0.7415014201556911.\n",
            "[I 2025-02-24 21:34:48,446] Trial 16 finished with value: 0.7415432485636357 and parameters: {'objective': 'binary', 'metric': 'auc', 'random_state': 42, 'verbose': -1, 'learning_rate': 0.008663363159805215, 'n_estimators': 702, 'min_child_samples': 45, 'subsample': 0.9, 'colsample_bytree': 0.9}. Best is trial 16 with value: 0.7415432485636357.\n",
            "[I 2025-02-24 21:34:52,762] Trial 17 finished with value: 0.7410856627043629 and parameters: {'objective': 'binary', 'metric': 'auc', 'random_state': 42, 'verbose': -1, 'learning_rate': 0.007875034458109624, 'n_estimators': 701, 'min_child_samples': 45, 'subsample': 1.0, 'colsample_bytree': 1.0}. Best is trial 16 with value: 0.7415432485636357.\n",
            "[I 2025-02-24 21:34:56,373] Trial 18 finished with value: 0.7405357039567314 and parameters: {'objective': 'binary', 'metric': 'auc', 'random_state': 42, 'verbose': -1, 'learning_rate': 0.007385412212875271, 'n_estimators': 550, 'min_child_samples': 30, 'subsample': 0.9, 'colsample_bytree': 0.9}. Best is trial 16 with value: 0.7415432485636357.\n",
            "[I 2025-02-24 21:35:01,314] Trial 19 finished with value: 0.7416317202746174 and parameters: {'objective': 'binary', 'metric': 'auc', 'random_state': 42, 'verbose': -1, 'learning_rate': 0.010692873263436086, 'n_estimators': 913, 'min_child_samples': 45, 'subsample': 0.8, 'colsample_bytree': 0.9}. Best is trial 19 with value: 0.7416317202746174.\n"
          ]
        },
        {
          "name": "stdout",
          "output_type": "stream",
          "text": [
            "LGBM val score : 0.7416317202746174\n"
          ]
        },
        {
          "name": "stderr",
          "output_type": "stream",
          "text": [
            "[I 2025-02-24 21:35:07,285] A new study created in memory with name: no-name-29fbb750-e16d-4265-956f-f0a212ad1b6f\n"
          ]
        },
        {
          "name": "stdout",
          "output_type": "stream",
          "text": [
            "==================================================\n"
          ]
        },
        {
          "name": "stderr",
          "output_type": "stream",
          "text": [
            "[I 2025-02-24 21:35:14,463] Trial 0 finished with value: 0.7417551714833627 and parameters: {'objective': 'binary', 'metric': 'auc', 'random_state': 42, 'verbose': -1, 'learning_rate': 0.028176029297306456, 'n_estimators': 1730, 'min_child_samples': 10, 'subsample': 0.9, 'colsample_bytree': 0.7}. Best is trial 0 with value: 0.7417551714833627.\n",
            "[I 2025-02-24 21:35:15,742] Trial 1 finished with value: 0.7371861061832152 and parameters: {'objective': 'binary', 'metric': 'auc', 'random_state': 42, 'verbose': -1, 'learning_rate': 0.005944336111080004, 'n_estimators': 113, 'min_child_samples': 10, 'subsample': 0.9, 'colsample_bytree': 0.5}. Best is trial 0 with value: 0.7417551714833627.\n",
            "[I 2025-02-24 21:35:17,762] Trial 2 finished with value: 0.7426204144877809 and parameters: {'objective': 'binary', 'metric': 'auc', 'random_state': 42, 'verbose': -1, 'learning_rate': 0.07957145920376708, 'n_estimators': 397, 'min_child_samples': 35, 'subsample': 0.5, 'colsample_bytree': 0.7}. Best is trial 2 with value: 0.7426204144877809.\n",
            "[I 2025-02-24 21:35:21,356] Trial 3 finished with value: 0.7425537687121443 and parameters: {'objective': 'binary', 'metric': 'auc', 'random_state': 42, 'verbose': -1, 'learning_rate': 0.007980814962048806, 'n_estimators': 406, 'min_child_samples': 50, 'subsample': 0.5, 'colsample_bytree': 0.5}. Best is trial 2 with value: 0.7426204144877809.\n",
            "[I 2025-02-24 21:35:23,005] Trial 4 finished with value: 0.7422975781554407 and parameters: {'objective': 'binary', 'metric': 'auc', 'random_state': 42, 'verbose': -1, 'learning_rate': 0.01599119727287282, 'n_estimators': 183, 'min_child_samples': 40, 'subsample': 0.6, 'colsample_bytree': 0.6}. Best is trial 2 with value: 0.7426204144877809.\n",
            "[I 2025-02-24 21:35:30,628] Trial 5 finished with value: 0.7444766439450231 and parameters: {'objective': 'binary', 'metric': 'auc', 'random_state': 42, 'verbose': -1, 'learning_rate': 0.010907507425244923, 'n_estimators': 1597, 'min_child_samples': 50, 'subsample': 0.6, 'colsample_bytree': 0.8}. Best is trial 5 with value: 0.7444766439450231.\n",
            "[I 2025-02-24 21:35:34,713] Trial 6 finished with value: 0.7367270107033688 and parameters: {'objective': 'binary', 'metric': 'auc', 'random_state': 42, 'verbose': -1, 'learning_rate': 0.0832688765336147, 'n_estimators': 972, 'min_child_samples': 20, 'subsample': 0.7, 'colsample_bytree': 0.7}. Best is trial 5 with value: 0.7444766439450231.\n",
            "[I 2025-02-24 21:35:40,998] Trial 7 finished with value: 0.739548356484027 and parameters: {'objective': 'binary', 'metric': 'auc', 'random_state': 42, 'verbose': -1, 'learning_rate': 0.03899678252089179, 'n_estimators': 1543, 'min_child_samples': 25, 'subsample': 0.7, 'colsample_bytree': 0.8}. Best is trial 5 with value: 0.7444766439450231.\n",
            "[I 2025-02-24 21:35:47,982] Trial 8 finished with value: 0.738179575564614 and parameters: {'objective': 'binary', 'metric': 'auc', 'random_state': 42, 'verbose': -1, 'learning_rate': 0.06174177473816209, 'n_estimators': 1360, 'min_child_samples': 10, 'subsample': 0.7, 'colsample_bytree': 0.6}. Best is trial 5 with value: 0.7444766439450231.\n",
            "[I 2025-02-24 21:35:53,515] Trial 9 finished with value: 0.7442353430143976 and parameters: {'objective': 'binary', 'metric': 'auc', 'random_state': 42, 'verbose': -1, 'learning_rate': 0.013735964154420877, 'n_estimators': 1151, 'min_child_samples': 10, 'subsample': 0.6, 'colsample_bytree': 0.8}. Best is trial 5 with value: 0.7444766439450231.\n",
            "[I 2025-02-24 21:36:02,263] Trial 10 finished with value: 0.7438799147684115 and parameters: {'objective': 'binary', 'metric': 'auc', 'random_state': 42, 'verbose': -1, 'learning_rate': 0.010294631376366912, 'n_estimators': 1917, 'min_child_samples': 50, 'subsample': 1.0, 'colsample_bytree': 1.0}. Best is trial 5 with value: 0.7444766439450231.\n",
            "[I 2025-02-24 21:36:07,539] Trial 11 finished with value: 0.7442926211971068 and parameters: {'objective': 'binary', 'metric': 'auc', 'random_state': 42, 'verbose': -1, 'learning_rate': 0.01451018914487997, 'n_estimators': 1067, 'min_child_samples': 40, 'subsample': 0.6, 'colsample_bytree': 0.9}. Best is trial 5 with value: 0.7444766439450231.\n",
            "[I 2025-02-24 21:36:11,977] Trial 12 finished with value: 0.7442022823238368 and parameters: {'objective': 'binary', 'metric': 'auc', 'random_state': 42, 'verbose': -1, 'learning_rate': 0.01748620797514845, 'n_estimators': 856, 'min_child_samples': 40, 'subsample': 0.6, 'colsample_bytree': 1.0}. Best is trial 5 with value: 0.7444766439450231.\n",
            "[I 2025-02-24 21:36:16,318] Trial 13 finished with value: 0.7447432548563699 and parameters: {'objective': 'binary', 'metric': 'auc', 'random_state': 42, 'verbose': -1, 'learning_rate': 0.011331695984425854, 'n_estimators': 767, 'min_child_samples': 45, 'subsample': 0.8, 'colsample_bytree': 0.9}. Best is trial 13 with value: 0.7447432548563699.\n",
            "[I 2025-02-24 21:36:20,526] Trial 14 finished with value: 0.742780430295892 and parameters: {'objective': 'binary', 'metric': 'auc', 'random_state': 42, 'verbose': -1, 'learning_rate': 0.005131718790565893, 'n_estimators': 661, 'min_child_samples': 50, 'subsample': 0.8, 'colsample_bytree': 0.9}. Best is trial 13 with value: 0.7447432548563699.\n",
            "[I 2025-02-24 21:36:27,114] Trial 15 finished with value: 0.7446522088450417 and parameters: {'objective': 'binary', 'metric': 'auc', 'random_state': 42, 'verbose': -1, 'learning_rate': 0.009396062142341564, 'n_estimators': 1306, 'min_child_samples': 45, 'subsample': 0.8, 'colsample_bytree': 0.9}. Best is trial 13 with value: 0.7447432548563699.\n",
            "[I 2025-02-24 21:36:33,749] Trial 16 finished with value: 0.7446150999877323 and parameters: {'objective': 'binary', 'metric': 'auc', 'random_state': 42, 'verbose': -1, 'learning_rate': 0.008036385391934195, 'n_estimators': 1289, 'min_child_samples': 30, 'subsample': 0.8, 'colsample_bytree': 0.9}. Best is trial 13 with value: 0.7447432548563699.\n",
            "[I 2025-02-24 21:36:37,477] Trial 17 finished with value: 0.7441208700753793 and parameters: {'objective': 'binary', 'metric': 'auc', 'random_state': 42, 'verbose': -1, 'learning_rate': 0.019704944397290976, 'n_estimators': 735, 'min_child_samples': 45, 'subsample': 0.9, 'colsample_bytree': 1.0}. Best is trial 13 with value: 0.7447432548563699.\n",
            "[I 2025-02-24 21:36:40,200] Trial 18 finished with value: 0.744217624836087 and parameters: {'objective': 'binary', 'metric': 'auc', 'random_state': 42, 'verbose': -1, 'learning_rate': 0.028289895593453056, 'n_estimators': 517, 'min_child_samples': 35, 'subsample': 0.8, 'colsample_bytree': 0.9}. Best is trial 13 with value: 0.7447432548563699.\n",
            "[I 2025-02-24 21:36:46,205] Trial 19 finished with value: 0.7449255812674838 and parameters: {'objective': 'binary', 'metric': 'auc', 'random_state': 42, 'verbose': -1, 'learning_rate': 0.010737689338914353, 'n_estimators': 1204, 'min_child_samples': 45, 'subsample': 1.0, 'colsample_bytree': 0.9}. Best is trial 19 with value: 0.7449255812674838.\n"
          ]
        },
        {
          "name": "stdout",
          "output_type": "stream",
          "text": [
            "LGBM val score : 0.7449255812674838\n"
          ]
        },
        {
          "name": "stderr",
          "output_type": "stream",
          "text": [
            "[I 2025-02-24 21:36:53,499] A new study created in memory with name: no-name-bc0f9f59-87e6-4306-b491-5e29b2d2f430\n"
          ]
        },
        {
          "name": "stdout",
          "output_type": "stream",
          "text": [
            "==================================================\n"
          ]
        },
        {
          "name": "stderr",
          "output_type": "stream",
          "text": [
            "[I 2025-02-24 21:37:00,723] Trial 0 finished with value: 0.7361611453221149 and parameters: {'objective': 'binary', 'metric': 'auc', 'random_state': 42, 'verbose': -1, 'learning_rate': 0.028176029297306456, 'n_estimators': 1730, 'min_child_samples': 10, 'subsample': 0.9, 'colsample_bytree': 0.7}. Best is trial 0 with value: 0.7361611453221149.\n",
            "[I 2025-02-24 21:37:01,990] Trial 1 finished with value: 0.7333370822244243 and parameters: {'objective': 'binary', 'metric': 'auc', 'random_state': 42, 'verbose': -1, 'learning_rate': 0.005944336111080004, 'n_estimators': 113, 'min_child_samples': 10, 'subsample': 0.9, 'colsample_bytree': 0.5}. Best is trial 0 with value: 0.7361611453221149.\n",
            "[I 2025-02-24 21:37:04,022] Trial 2 finished with value: 0.7364708439827795 and parameters: {'objective': 'binary', 'metric': 'auc', 'random_state': 42, 'verbose': -1, 'learning_rate': 0.07957145920376708, 'n_estimators': 397, 'min_child_samples': 35, 'subsample': 0.5, 'colsample_bytree': 0.7}. Best is trial 2 with value: 0.7364708439827795.\n",
            "[I 2025-02-24 21:37:07,552] Trial 3 finished with value: 0.7380839927461937 and parameters: {'objective': 'binary', 'metric': 'auc', 'random_state': 42, 'verbose': -1, 'learning_rate': 0.007980814962048806, 'n_estimators': 406, 'min_child_samples': 50, 'subsample': 0.5, 'colsample_bytree': 0.5}. Best is trial 3 with value: 0.7380839927461937.\n",
            "[I 2025-02-24 21:37:09,170] Trial 4 finished with value: 0.7376730104631007 and parameters: {'objective': 'binary', 'metric': 'auc', 'random_state': 42, 'verbose': -1, 'learning_rate': 0.01599119727287282, 'n_estimators': 183, 'min_child_samples': 40, 'subsample': 0.6, 'colsample_bytree': 0.6}. Best is trial 3 with value: 0.7380839927461937.\n",
            "[I 2025-02-24 21:37:16,680] Trial 5 finished with value: 0.7387434307668936 and parameters: {'objective': 'binary', 'metric': 'auc', 'random_state': 42, 'verbose': -1, 'learning_rate': 0.010907507425244923, 'n_estimators': 1597, 'min_child_samples': 50, 'subsample': 0.6, 'colsample_bytree': 0.8}. Best is trial 5 with value: 0.7387434307668936.\n",
            "[I 2025-02-24 21:37:20,755] Trial 6 finished with value: 0.732015278313649 and parameters: {'objective': 'binary', 'metric': 'auc', 'random_state': 42, 'verbose': -1, 'learning_rate': 0.0832688765336147, 'n_estimators': 972, 'min_child_samples': 20, 'subsample': 0.7, 'colsample_bytree': 0.7}. Best is trial 5 with value: 0.7387434307668936.\n",
            "[I 2025-02-24 21:37:27,002] Trial 7 finished with value: 0.734555933984769 and parameters: {'objective': 'binary', 'metric': 'auc', 'random_state': 42, 'verbose': -1, 'learning_rate': 0.03899678252089179, 'n_estimators': 1543, 'min_child_samples': 25, 'subsample': 0.7, 'colsample_bytree': 0.8}. Best is trial 5 with value: 0.7387434307668936.\n",
            "[I 2025-02-24 21:37:33,770] Trial 8 finished with value: 0.7324762449284694 and parameters: {'objective': 'binary', 'metric': 'auc', 'random_state': 42, 'verbose': -1, 'learning_rate': 0.06174177473816209, 'n_estimators': 1360, 'min_child_samples': 10, 'subsample': 0.7, 'colsample_bytree': 0.6}. Best is trial 5 with value: 0.7387434307668936.\n",
            "[I 2025-02-24 21:37:39,257] Trial 9 finished with value: 0.7385044459120428 and parameters: {'objective': 'binary', 'metric': 'auc', 'random_state': 42, 'verbose': -1, 'learning_rate': 0.013735964154420877, 'n_estimators': 1151, 'min_child_samples': 10, 'subsample': 0.6, 'colsample_bytree': 0.8}. Best is trial 5 with value: 0.7387434307668936.\n",
            "[I 2025-02-24 21:37:48,322] Trial 10 finished with value: 0.7379362882911286 and parameters: {'objective': 'binary', 'metric': 'auc', 'random_state': 42, 'verbose': -1, 'learning_rate': 0.010294631376366912, 'n_estimators': 1917, 'min_child_samples': 50, 'subsample': 1.0, 'colsample_bytree': 1.0}. Best is trial 5 with value: 0.7387434307668936.\n",
            "[I 2025-02-24 21:37:53,890] Trial 11 finished with value: 0.7385294261598494 and parameters: {'objective': 'binary', 'metric': 'auc', 'random_state': 42, 'verbose': -1, 'learning_rate': 0.01451018914487997, 'n_estimators': 1067, 'min_child_samples': 40, 'subsample': 0.6, 'colsample_bytree': 0.9}. Best is trial 5 with value: 0.7387434307668936.\n",
            "[I 2025-02-24 21:37:58,206] Trial 12 finished with value: 0.7382187343277549 and parameters: {'objective': 'binary', 'metric': 'auc', 'random_state': 42, 'verbose': -1, 'learning_rate': 0.01748620797514845, 'n_estimators': 856, 'min_child_samples': 40, 'subsample': 0.6, 'colsample_bytree': 1.0}. Best is trial 5 with value: 0.7387434307668936.\n",
            "[I 2025-02-24 21:38:02,534] Trial 13 finished with value: 0.7386530442213949 and parameters: {'objective': 'binary', 'metric': 'auc', 'random_state': 42, 'verbose': -1, 'learning_rate': 0.011331695984425854, 'n_estimators': 767, 'min_child_samples': 45, 'subsample': 0.8, 'colsample_bytree': 0.9}. Best is trial 5 with value: 0.7387434307668936.\n",
            "[I 2025-02-24 21:38:06,751] Trial 14 finished with value: 0.7379529735711521 and parameters: {'objective': 'binary', 'metric': 'auc', 'random_state': 42, 'verbose': -1, 'learning_rate': 0.005131718790565893, 'n_estimators': 661, 'min_child_samples': 50, 'subsample': 0.8, 'colsample_bytree': 0.9}. Best is trial 5 with value: 0.7387434307668936.\n",
            "[I 2025-02-24 21:38:13,432] Trial 15 finished with value: 0.7386392033843469 and parameters: {'objective': 'binary', 'metric': 'auc', 'random_state': 42, 'verbose': -1, 'learning_rate': 0.009396062142341564, 'n_estimators': 1306, 'min_child_samples': 45, 'subsample': 0.8, 'colsample_bytree': 0.9}. Best is trial 5 with value: 0.7387434307668936.\n",
            "[I 2025-02-24 21:38:17,025] Trial 16 finished with value: 0.73865161008185 and parameters: {'objective': 'binary', 'metric': 'auc', 'random_state': 42, 'verbose': -1, 'learning_rate': 0.021978864776805457, 'n_estimators': 702, 'min_child_samples': 30, 'subsample': 0.9, 'colsample_bytree': 0.8}. Best is trial 5 with value: 0.7387434307668936.\n",
            "[I 2025-02-24 21:38:24,772] Trial 17 finished with value: 0.7384825842225263 and parameters: {'objective': 'binary', 'metric': 'auc', 'random_state': 42, 'verbose': -1, 'learning_rate': 0.01093551321516423, 'n_estimators': 1658, 'min_child_samples': 45, 'subsample': 0.8, 'colsample_bytree': 0.9}. Best is trial 5 with value: 0.7387434307668936.\n",
            "[I 2025-02-24 21:38:32,062] Trial 18 finished with value: 0.7385552366989715 and parameters: {'objective': 'binary', 'metric': 'auc', 'random_state': 42, 'verbose': -1, 'learning_rate': 0.007385412212875271, 'n_estimators': 1393, 'min_child_samples': 45, 'subsample': 1.0, 'colsample_bytree': 1.0}. Best is trial 5 with value: 0.7387434307668936.\n",
            "[I 2025-02-24 21:38:41,646] Trial 19 finished with value: 0.7387072276819283 and parameters: {'objective': 'binary', 'metric': 'auc', 'random_state': 42, 'verbose': -1, 'learning_rate': 0.007232509666675898, 'n_estimators': 1966, 'min_child_samples': 35, 'subsample': 0.5, 'colsample_bytree': 0.8}. Best is trial 5 with value: 0.7387434307668936.\n"
          ]
        },
        {
          "name": "stdout",
          "output_type": "stream",
          "text": [
            "LGBM val score : 0.7387434307668936\n"
          ]
        },
        {
          "name": "stderr",
          "output_type": "stream",
          "text": [
            "[I 2025-02-24 21:38:50,997] A new study created in memory with name: no-name-0b70461a-c387-40e7-a791-c9b290ed84e8\n"
          ]
        },
        {
          "name": "stdout",
          "output_type": "stream",
          "text": [
            "==================================================\n"
          ]
        },
        {
          "name": "stderr",
          "output_type": "stream",
          "text": [
            "[I 2025-02-24 21:38:58,214] Trial 0 finished with value: 0.7358952892210548 and parameters: {'objective': 'binary', 'metric': 'auc', 'random_state': 42, 'verbose': -1, 'learning_rate': 0.028176029297306456, 'n_estimators': 1730, 'min_child_samples': 10, 'subsample': 0.9, 'colsample_bytree': 0.7}. Best is trial 0 with value: 0.7358952892210548.\n",
            "[I 2025-02-24 21:38:59,524] Trial 1 finished with value: 0.7293529829784718 and parameters: {'objective': 'binary', 'metric': 'auc', 'random_state': 42, 'verbose': -1, 'learning_rate': 0.005944336111080004, 'n_estimators': 113, 'min_child_samples': 10, 'subsample': 0.9, 'colsample_bytree': 0.5}. Best is trial 0 with value: 0.7358952892210548.\n",
            "[I 2025-02-24 21:39:01,583] Trial 2 finished with value: 0.7362018137058293 and parameters: {'objective': 'binary', 'metric': 'auc', 'random_state': 42, 'verbose': -1, 'learning_rate': 0.07957145920376708, 'n_estimators': 397, 'min_child_samples': 35, 'subsample': 0.5, 'colsample_bytree': 0.7}. Best is trial 2 with value: 0.7362018137058293.\n",
            "[I 2025-02-24 21:39:05,733] Trial 3 finished with value: 0.7354981676384386 and parameters: {'objective': 'binary', 'metric': 'auc', 'random_state': 42, 'verbose': -1, 'learning_rate': 0.007980814962048806, 'n_estimators': 406, 'min_child_samples': 50, 'subsample': 0.5, 'colsample_bytree': 0.5}. Best is trial 2 with value: 0.7362018137058293.\n",
            "[I 2025-02-24 21:39:07,365] Trial 4 finished with value: 0.7353146494216087 and parameters: {'objective': 'binary', 'metric': 'auc', 'random_state': 42, 'verbose': -1, 'learning_rate': 0.01599119727287282, 'n_estimators': 183, 'min_child_samples': 40, 'subsample': 0.6, 'colsample_bytree': 0.6}. Best is trial 2 with value: 0.7362018137058293.\n",
            "[I 2025-02-24 21:39:15,037] Trial 5 finished with value: 0.7371319386134246 and parameters: {'objective': 'binary', 'metric': 'auc', 'random_state': 42, 'verbose': -1, 'learning_rate': 0.010907507425244923, 'n_estimators': 1597, 'min_child_samples': 50, 'subsample': 0.6, 'colsample_bytree': 0.8}. Best is trial 5 with value: 0.7371319386134246.\n",
            "[I 2025-02-24 21:39:19,383] Trial 6 finished with value: 0.732627941932683 and parameters: {'objective': 'binary', 'metric': 'auc', 'random_state': 42, 'verbose': -1, 'learning_rate': 0.0832688765336147, 'n_estimators': 972, 'min_child_samples': 20, 'subsample': 0.7, 'colsample_bytree': 0.7}. Best is trial 5 with value: 0.7371319386134246.\n",
            "[I 2025-02-24 21:39:28,617] Trial 7 finished with value: 0.7344882116113023 and parameters: {'objective': 'binary', 'metric': 'auc', 'random_state': 42, 'verbose': -1, 'learning_rate': 0.03899678252089179, 'n_estimators': 1543, 'min_child_samples': 25, 'subsample': 0.7, 'colsample_bytree': 0.8}. Best is trial 5 with value: 0.7371319386134246.\n",
            "[I 2025-02-24 21:39:38,127] Trial 8 finished with value: 0.7326107282854588 and parameters: {'objective': 'binary', 'metric': 'auc', 'random_state': 42, 'verbose': -1, 'learning_rate': 0.06174177473816209, 'n_estimators': 1360, 'min_child_samples': 10, 'subsample': 0.7, 'colsample_bytree': 0.6}. Best is trial 5 with value: 0.7371319386134246.\n",
            "[I 2025-02-24 21:39:44,085] Trial 9 finished with value: 0.7374673167145825 and parameters: {'objective': 'binary', 'metric': 'auc', 'random_state': 42, 'verbose': -1, 'learning_rate': 0.013735964154420877, 'n_estimators': 1151, 'min_child_samples': 10, 'subsample': 0.6, 'colsample_bytree': 0.8}. Best is trial 9 with value: 0.7374673167145825.\n",
            "[I 2025-02-24 21:39:48,954] Trial 10 finished with value: 0.7374608134280591 and parameters: {'objective': 'binary', 'metric': 'auc', 'random_state': 42, 'verbose': -1, 'learning_rate': 0.01611395757926384, 'n_estimators': 993, 'min_child_samples': 20, 'subsample': 1.0, 'colsample_bytree': 1.0}. Best is trial 9 with value: 0.7374673167145825.\n",
            "[I 2025-02-24 21:39:53,648] Trial 11 finished with value: 0.7374808794636302 and parameters: {'objective': 'binary', 'metric': 'auc', 'random_state': 42, 'verbose': -1, 'learning_rate': 0.016168310431087372, 'n_estimators': 944, 'min_child_samples': 20, 'subsample': 1.0, 'colsample_bytree': 1.0}. Best is trial 11 with value: 0.7374808794636302.\n",
            "[I 2025-02-24 21:39:57,934] Trial 12 finished with value: 0.7374583702263414 and parameters: {'objective': 'binary', 'metric': 'auc', 'random_state': 42, 'verbose': -1, 'learning_rate': 0.01336453341249116, 'n_estimators': 792, 'min_child_samples': 20, 'subsample': 1.0, 'colsample_bytree': 1.0}. Best is trial 11 with value: 0.7374808794636302.\n",
            "[I 2025-02-24 21:40:03,128] Trial 13 finished with value: 0.7366832754062786 and parameters: {'objective': 'binary', 'metric': 'auc', 'random_state': 42, 'verbose': -1, 'learning_rate': 0.02250246586908976, 'n_estimators': 1163, 'min_child_samples': 15, 'subsample': 0.8, 'colsample_bytree': 0.9}. Best is trial 11 with value: 0.7374808794636302.\n",
            "[I 2025-02-24 21:40:07,481] Trial 14 finished with value: 0.7371891929600195 and parameters: {'objective': 'binary', 'metric': 'auc', 'random_state': 42, 'verbose': -1, 'learning_rate': 0.009723398115700119, 'n_estimators': 760, 'min_child_samples': 30, 'subsample': 0.8, 'colsample_bytree': 0.9}. Best is trial 11 with value: 0.7374808794636302.\n",
            "[I 2025-02-24 21:40:13,322] Trial 15 finished with value: 0.7370122614561133 and parameters: {'objective': 'binary', 'metric': 'auc', 'random_state': 42, 'verbose': -1, 'learning_rate': 0.01721153206460666, 'n_estimators': 1275, 'min_child_samples': 15, 'subsample': 0.6, 'colsample_bytree': 0.9}. Best is trial 11 with value: 0.7374808794636302.\n",
            "[I 2025-02-24 21:40:17,765] Trial 16 finished with value: 0.7359243414717244 and parameters: {'objective': 'binary', 'metric': 'auc', 'random_state': 42, 'verbose': -1, 'learning_rate': 0.005241649733590531, 'n_estimators': 702, 'min_child_samples': 25, 'subsample': 0.9, 'colsample_bytree': 1.0}. Best is trial 11 with value: 0.7374808794636302.\n",
            "[I 2025-02-24 21:40:25,562] Trial 17 finished with value: 0.7356139475910587 and parameters: {'objective': 'binary', 'metric': 'auc', 'random_state': 42, 'verbose': -1, 'learning_rate': 0.02499753019485085, 'n_estimators': 1915, 'min_child_samples': 15, 'subsample': 0.8, 'colsample_bytree': 0.8}. Best is trial 11 with value: 0.7374808794636302.\n",
            "[I 2025-02-24 21:40:32,717] Trial 18 finished with value: 0.7374681112517265 and parameters: {'objective': 'binary', 'metric': 'auc', 'random_state': 42, 'verbose': -1, 'learning_rate': 0.007858294449533869, 'n_estimators': 1393, 'min_child_samples': 25, 'subsample': 0.6, 'colsample_bytree': 0.9}. Best is trial 11 with value: 0.7374808794636302.\n",
            "[I 2025-02-24 21:40:41,467] Trial 19 finished with value: 0.7374145276667368 and parameters: {'objective': 'binary', 'metric': 'auc', 'random_state': 42, 'verbose': -1, 'learning_rate': 0.007010357342820021, 'n_estimators': 1481, 'min_child_samples': 35, 'subsample': 1.0, 'colsample_bytree': 0.9}. Best is trial 11 with value: 0.7374808794636302.\n"
          ]
        },
        {
          "name": "stdout",
          "output_type": "stream",
          "text": [
            "LGBM val score : 0.7374808794636303\n"
          ]
        },
        {
          "name": "stderr",
          "output_type": "stream",
          "text": [
            "[I 2025-02-24 21:40:47,054] A new study created in memory with name: no-name-bb880d8a-ebc2-4287-a499-785038c9dcbc\n"
          ]
        },
        {
          "name": "stdout",
          "output_type": "stream",
          "text": [
            "==================================================\n"
          ]
        },
        {
          "name": "stderr",
          "output_type": "stream",
          "text": [
            "[I 2025-02-24 21:40:54,402] Trial 0 finished with value: 0.735463315266618 and parameters: {'objective': 'binary', 'metric': 'auc', 'random_state': 42, 'verbose': -1, 'learning_rate': 0.028176029297306456, 'n_estimators': 1730, 'min_child_samples': 10, 'subsample': 0.9, 'colsample_bytree': 0.7}. Best is trial 0 with value: 0.735463315266618.\n",
            "[I 2025-02-24 21:40:59,762] Trial 1 finished with value: 0.7283850976931091 and parameters: {'objective': 'binary', 'metric': 'auc', 'random_state': 42, 'verbose': -1, 'learning_rate': 0.005944336111080004, 'n_estimators': 113, 'min_child_samples': 10, 'subsample': 0.9, 'colsample_bytree': 0.5}. Best is trial 0 with value: 0.735463315266618.\n",
            "[I 2025-02-24 21:41:01,903] Trial 2 finished with value: 0.7355488193813671 and parameters: {'objective': 'binary', 'metric': 'auc', 'random_state': 42, 'verbose': -1, 'learning_rate': 0.07957145920376708, 'n_estimators': 397, 'min_child_samples': 35, 'subsample': 0.5, 'colsample_bytree': 0.7}. Best is trial 2 with value: 0.7355488193813671.\n",
            "[I 2025-02-24 21:41:05,515] Trial 3 finished with value: 0.7346213363097754 and parameters: {'objective': 'binary', 'metric': 'auc', 'random_state': 42, 'verbose': -1, 'learning_rate': 0.007980814962048806, 'n_estimators': 406, 'min_child_samples': 50, 'subsample': 0.5, 'colsample_bytree': 0.5}. Best is trial 2 with value: 0.7355488193813671.\n",
            "[I 2025-02-24 21:41:07,736] Trial 4 finished with value: 0.7345143042111104 and parameters: {'objective': 'binary', 'metric': 'auc', 'random_state': 42, 'verbose': -1, 'learning_rate': 0.01599119727287282, 'n_estimators': 183, 'min_child_samples': 40, 'subsample': 0.6, 'colsample_bytree': 0.6}. Best is trial 2 with value: 0.7355488193813671.\n",
            "[I 2025-02-24 21:41:15,338] Trial 5 finished with value: 0.7370506376001673 and parameters: {'objective': 'binary', 'metric': 'auc', 'random_state': 42, 'verbose': -1, 'learning_rate': 0.010907507425244923, 'n_estimators': 1597, 'min_child_samples': 50, 'subsample': 0.6, 'colsample_bytree': 0.8}. Best is trial 5 with value: 0.7370506376001673.\n",
            "[I 2025-02-24 21:41:19,409] Trial 6 finished with value: 0.7328815502436686 and parameters: {'objective': 'binary', 'metric': 'auc', 'random_state': 42, 'verbose': -1, 'learning_rate': 0.0832688765336147, 'n_estimators': 972, 'min_child_samples': 20, 'subsample': 0.7, 'colsample_bytree': 0.7}. Best is trial 5 with value: 0.7370506376001673.\n",
            "[I 2025-02-24 21:41:25,665] Trial 7 finished with value: 0.7338366355356419 and parameters: {'objective': 'binary', 'metric': 'auc', 'random_state': 42, 'verbose': -1, 'learning_rate': 0.03899678252089179, 'n_estimators': 1543, 'min_child_samples': 25, 'subsample': 0.7, 'colsample_bytree': 0.8}. Best is trial 5 with value: 0.7370506376001673.\n",
            "[I 2025-02-24 21:41:32,816] Trial 8 finished with value: 0.7327759999567772 and parameters: {'objective': 'binary', 'metric': 'auc', 'random_state': 42, 'verbose': -1, 'learning_rate': 0.06174177473816209, 'n_estimators': 1360, 'min_child_samples': 10, 'subsample': 0.7, 'colsample_bytree': 0.6}. Best is trial 5 with value: 0.7370506376001673.\n",
            "[I 2025-02-24 21:41:38,335] Trial 9 finished with value: 0.7369503352311118 and parameters: {'objective': 'binary', 'metric': 'auc', 'random_state': 42, 'verbose': -1, 'learning_rate': 0.013735964154420877, 'n_estimators': 1151, 'min_child_samples': 10, 'subsample': 0.6, 'colsample_bytree': 0.8}. Best is trial 5 with value: 0.7370506376001673.\n",
            "[I 2025-02-24 21:41:47,307] Trial 10 finished with value: 0.7363194091758234 and parameters: {'objective': 'binary', 'metric': 'auc', 'random_state': 42, 'verbose': -1, 'learning_rate': 0.010294631376366912, 'n_estimators': 1917, 'min_child_samples': 50, 'subsample': 1.0, 'colsample_bytree': 1.0}. Best is trial 5 with value: 0.7370506376001673.\n",
            "[I 2025-02-24 21:41:52,573] Trial 11 finished with value: 0.7371217566199246 and parameters: {'objective': 'binary', 'metric': 'auc', 'random_state': 42, 'verbose': -1, 'learning_rate': 0.01451018914487997, 'n_estimators': 1067, 'min_child_samples': 40, 'subsample': 0.6, 'colsample_bytree': 0.9}. Best is trial 11 with value: 0.7371217566199246.\n",
            "[I 2025-02-24 21:41:56,941] Trial 12 finished with value: 0.7369244531836467 and parameters: {'objective': 'binary', 'metric': 'auc', 'random_state': 42, 'verbose': -1, 'learning_rate': 0.01748620797514845, 'n_estimators': 856, 'min_child_samples': 40, 'subsample': 0.6, 'colsample_bytree': 1.0}. Best is trial 11 with value: 0.7371217566199246.\n",
            "[I 2025-02-24 21:42:01,351] Trial 13 finished with value: 0.7368745562510051 and parameters: {'objective': 'binary', 'metric': 'auc', 'random_state': 42, 'verbose': -1, 'learning_rate': 0.011331695984425854, 'n_estimators': 767, 'min_child_samples': 45, 'subsample': 0.8, 'colsample_bytree': 0.9}. Best is trial 11 with value: 0.7371217566199246.\n",
            "[I 2025-02-24 21:42:08,818] Trial 14 finished with value: 0.7365407632514493 and parameters: {'objective': 'binary', 'metric': 'auc', 'random_state': 42, 'verbose': -1, 'learning_rate': 0.005131718790565893, 'n_estimators': 1289, 'min_child_samples': 35, 'subsample': 0.5, 'colsample_bytree': 0.9}. Best is trial 11 with value: 0.7371217566199246.\n",
            "[I 2025-02-24 21:42:15,849] Trial 15 finished with value: 0.7361398318632277 and parameters: {'objective': 'binary', 'metric': 'auc', 'random_state': 42, 'verbose': -1, 'learning_rate': 0.018637199589194114, 'n_estimators': 1574, 'min_child_samples': 45, 'subsample': 0.6, 'colsample_bytree': 0.9}. Best is trial 11 with value: 0.7371217566199246.\n",
            "[I 2025-02-24 21:42:23,874] Trial 16 finished with value: 0.7347161802086518 and parameters: {'objective': 'binary', 'metric': 'auc', 'random_state': 42, 'verbose': -1, 'learning_rate': 0.026117663889187813, 'n_estimators': 1936, 'min_child_samples': 30, 'subsample': 0.8, 'colsample_bytree': 0.8}. Best is trial 11 with value: 0.7371217566199246.\n",
            "[I 2025-02-24 21:42:28,193] Trial 17 finished with value: 0.7364983151045325 and parameters: {'objective': 'binary', 'metric': 'auc', 'random_state': 42, 'verbose': -1, 'learning_rate': 0.008662699869312696, 'n_estimators': 701, 'min_child_samples': 45, 'subsample': 0.6, 'colsample_bytree': 0.9}. Best is trial 11 with value: 0.7371217566199246.\n",
            "[I 2025-02-24 21:42:33,871] Trial 18 finished with value: 0.7368659553864215 and parameters: {'objective': 'binary', 'metric': 'auc', 'random_state': 42, 'verbose': -1, 'learning_rate': 0.012872357585527044, 'n_estimators': 1128, 'min_child_samples': 50, 'subsample': 0.5, 'colsample_bytree': 1.0}. Best is trial 11 with value: 0.7371217566199246.\n",
            "[I 2025-02-24 21:42:40,002] Trial 19 finished with value: 0.7366163197611558 and parameters: {'objective': 'binary', 'metric': 'auc', 'random_state': 42, 'verbose': -1, 'learning_rate': 0.019967069644884428, 'n_estimators': 1340, 'min_child_samples': 40, 'subsample': 0.7, 'colsample_bytree': 0.8}. Best is trial 11 with value: 0.7371217566199246.\n"
          ]
        },
        {
          "name": "stdout",
          "output_type": "stream",
          "text": [
            "LGBM val score : 0.7371217566199246\n"
          ]
        },
        {
          "name": "stderr",
          "output_type": "stream",
          "text": [
            "[I 2025-02-24 21:42:46,479] A new study created in memory with name: no-name-49e21027-517d-4eb9-b102-34b0e701978b\n"
          ]
        },
        {
          "name": "stdout",
          "output_type": "stream",
          "text": [
            "==================================================\n"
          ]
        },
        {
          "name": "stderr",
          "output_type": "stream",
          "text": [
            "[I 2025-02-24 21:42:53,863] Trial 0 finished with value: 0.7428189613746891 and parameters: {'objective': 'binary', 'metric': 'auc', 'random_state': 42, 'verbose': -1, 'learning_rate': 0.028176029297306456, 'n_estimators': 1730, 'min_child_samples': 10, 'subsample': 0.9, 'colsample_bytree': 0.7}. Best is trial 0 with value: 0.7428189613746891.\n",
            "[I 2025-02-24 21:42:55,144] Trial 1 finished with value: 0.7339603767504448 and parameters: {'objective': 'binary', 'metric': 'auc', 'random_state': 42, 'verbose': -1, 'learning_rate': 0.005944336111080004, 'n_estimators': 113, 'min_child_samples': 10, 'subsample': 0.9, 'colsample_bytree': 0.5}. Best is trial 0 with value: 0.7428189613746891.\n",
            "[I 2025-02-24 21:42:57,217] Trial 2 finished with value: 0.743452545156724 and parameters: {'objective': 'binary', 'metric': 'auc', 'random_state': 42, 'verbose': -1, 'learning_rate': 0.07957145920376708, 'n_estimators': 397, 'min_child_samples': 35, 'subsample': 0.5, 'colsample_bytree': 0.7}. Best is trial 2 with value: 0.743452545156724.\n",
            "[I 2025-02-24 21:43:00,869] Trial 3 finished with value: 0.741438822546803 and parameters: {'objective': 'binary', 'metric': 'auc', 'random_state': 42, 'verbose': -1, 'learning_rate': 0.007980814962048806, 'n_estimators': 406, 'min_child_samples': 50, 'subsample': 0.5, 'colsample_bytree': 0.5}. Best is trial 2 with value: 0.743452545156724.\n",
            "[I 2025-02-24 21:43:02,542] Trial 4 finished with value: 0.7415497280140448 and parameters: {'objective': 'binary', 'metric': 'auc', 'random_state': 42, 'verbose': -1, 'learning_rate': 0.01599119727287282, 'n_estimators': 183, 'min_child_samples': 40, 'subsample': 0.6, 'colsample_bytree': 0.6}. Best is trial 2 with value: 0.743452545156724.\n",
            "[I 2025-02-24 21:43:10,125] Trial 5 finished with value: 0.7444593627621416 and parameters: {'objective': 'binary', 'metric': 'auc', 'random_state': 42, 'verbose': -1, 'learning_rate': 0.010907507425244923, 'n_estimators': 1597, 'min_child_samples': 50, 'subsample': 0.6, 'colsample_bytree': 0.8}. Best is trial 5 with value: 0.7444593627621416.\n",
            "[I 2025-02-24 21:43:14,255] Trial 6 finished with value: 0.7386006007972068 and parameters: {'objective': 'binary', 'metric': 'auc', 'random_state': 42, 'verbose': -1, 'learning_rate': 0.0832688765336147, 'n_estimators': 972, 'min_child_samples': 20, 'subsample': 0.7, 'colsample_bytree': 0.7}. Best is trial 5 with value: 0.7444593627621416.\n",
            "[I 2025-02-24 21:43:20,605] Trial 7 finished with value: 0.740669162360805 and parameters: {'objective': 'binary', 'metric': 'auc', 'random_state': 42, 'verbose': -1, 'learning_rate': 0.03899678252089179, 'n_estimators': 1543, 'min_child_samples': 25, 'subsample': 0.7, 'colsample_bytree': 0.8}. Best is trial 5 with value: 0.7444593627621416.\n",
            "[I 2025-02-24 21:43:27,549] Trial 8 finished with value: 0.7392730890904965 and parameters: {'objective': 'binary', 'metric': 'auc', 'random_state': 42, 'verbose': -1, 'learning_rate': 0.06174177473816209, 'n_estimators': 1360, 'min_child_samples': 10, 'subsample': 0.7, 'colsample_bytree': 0.6}. Best is trial 5 with value: 0.7444593627621416.\n",
            "[I 2025-02-24 21:43:33,241] Trial 9 finished with value: 0.7450152765656672 and parameters: {'objective': 'binary', 'metric': 'auc', 'random_state': 42, 'verbose': -1, 'learning_rate': 0.013735964154420877, 'n_estimators': 1151, 'min_child_samples': 10, 'subsample': 0.6, 'colsample_bytree': 0.8}. Best is trial 9 with value: 0.7450152765656672.\n",
            "[I 2025-02-24 21:43:38,209] Trial 10 finished with value: 0.7445689929972674 and parameters: {'objective': 'binary', 'metric': 'auc', 'random_state': 42, 'verbose': -1, 'learning_rate': 0.01611395757926384, 'n_estimators': 993, 'min_child_samples': 20, 'subsample': 1.0, 'colsample_bytree': 1.0}. Best is trial 9 with value: 0.7450152765656672.\n",
            "[I 2025-02-24 21:43:42,982] Trial 11 finished with value: 0.7443216813931478 and parameters: {'objective': 'binary', 'metric': 'auc', 'random_state': 42, 'verbose': -1, 'learning_rate': 0.016168310431087372, 'n_estimators': 944, 'min_child_samples': 20, 'subsample': 1.0, 'colsample_bytree': 1.0}. Best is trial 9 with value: 0.7450152765656672.\n",
            "[I 2025-02-24 21:43:49,185] Trial 12 finished with value: 0.7442021790340081 and parameters: {'objective': 'binary', 'metric': 'auc', 'random_state': 42, 'verbose': -1, 'learning_rate': 0.013329125195953582, 'n_estimators': 1214, 'min_child_samples': 20, 'subsample': 1.0, 'colsample_bytree': 1.0}. Best is trial 9 with value: 0.7450152765656672.\n",
            "[I 2025-02-24 21:43:53,164] Trial 13 finished with value: 0.744700210806595 and parameters: {'objective': 'binary', 'metric': 'auc', 'random_state': 42, 'verbose': -1, 'learning_rate': 0.02250246586908976, 'n_estimators': 767, 'min_child_samples': 15, 'subsample': 0.8, 'colsample_bytree': 0.9}. Best is trial 9 with value: 0.7450152765656672.\n",
            "[I 2025-02-24 21:43:56,669] Trial 14 finished with value: 0.7443307907615034 and parameters: {'objective': 'binary', 'metric': 'auc', 'random_state': 42, 'verbose': -1, 'learning_rate': 0.025183740920647072, 'n_estimators': 661, 'min_child_samples': 15, 'subsample': 0.8, 'colsample_bytree': 0.9}. Best is trial 9 with value: 0.7450152765656672.\n",
            "[I 2025-02-24 21:44:00,922] Trial 15 finished with value: 0.7440995208623207 and parameters: {'objective': 'binary', 'metric': 'auc', 'random_state': 42, 'verbose': -1, 'learning_rate': 0.009533320573949247, 'n_estimators': 701, 'min_child_samples': 30, 'subsample': 0.8, 'colsample_bytree': 0.9}. Best is trial 9 with value: 0.7450152765656672.\n",
            "[I 2025-02-24 21:44:04,571] Trial 16 finished with value: 0.7444326663141041 and parameters: {'objective': 'binary', 'metric': 'auc', 'random_state': 42, 'verbose': -1, 'learning_rate': 0.02194009964630271, 'n_estimators': 702, 'min_child_samples': 15, 'subsample': 0.6, 'colsample_bytree': 0.9}. Best is trial 9 with value: 0.7450152765656672.\n",
            "[I 2025-02-24 21:44:12,250] Trial 17 finished with value: 0.7401393093756019 and parameters: {'objective': 'binary', 'metric': 'auc', 'random_state': 42, 'verbose': -1, 'learning_rate': 0.039612154680947004, 'n_estimators': 1915, 'min_child_samples': 30, 'subsample': 0.8, 'colsample_bytree': 0.8}. Best is trial 9 with value: 0.7450152765656672.\n",
            "[I 2025-02-24 21:44:19,428] Trial 18 finished with value: 0.7440885006321337 and parameters: {'objective': 'binary', 'metric': 'auc', 'random_state': 42, 'verbose': -1, 'learning_rate': 0.005544781398063263, 'n_estimators': 1247, 'min_child_samples': 15, 'subsample': 0.9, 'colsample_bytree': 0.9}. Best is trial 9 with value: 0.7450152765656672.\n",
            "[I 2025-02-24 21:44:23,551] Trial 19 finished with value: 0.7449792323881308 and parameters: {'objective': 'binary', 'metric': 'auc', 'random_state': 42, 'verbose': -1, 'learning_rate': 0.02055404727461679, 'n_estimators': 808, 'min_child_samples': 25, 'subsample': 0.6, 'colsample_bytree': 0.8}. Best is trial 9 with value: 0.7450152765656672.\n"
          ]
        },
        {
          "name": "stdout",
          "output_type": "stream",
          "text": [
            "LGBM val score : 0.7450152765656672\n"
          ]
        },
        {
          "name": "stderr",
          "output_type": "stream",
          "text": [
            "[I 2025-02-24 21:44:30,447] A new study created in memory with name: no-name-cbd33128-f4a6-429b-ab04-490e14523dc9\n"
          ]
        },
        {
          "name": "stdout",
          "output_type": "stream",
          "text": [
            "==================================================\n"
          ]
        },
        {
          "name": "stderr",
          "output_type": "stream",
          "text": [
            "[I 2025-02-24 21:44:37,731] Trial 0 finished with value: 0.7340199074459571 and parameters: {'objective': 'binary', 'metric': 'auc', 'random_state': 42, 'verbose': -1, 'learning_rate': 0.028176029297306456, 'n_estimators': 1730, 'min_child_samples': 10, 'subsample': 0.9, 'colsample_bytree': 0.7}. Best is trial 0 with value: 0.7340199074459571.\n",
            "[I 2025-02-24 21:44:39,007] Trial 1 finished with value: 0.72886976932362 and parameters: {'objective': 'binary', 'metric': 'auc', 'random_state': 42, 'verbose': -1, 'learning_rate': 0.005944336111080004, 'n_estimators': 113, 'min_child_samples': 10, 'subsample': 0.9, 'colsample_bytree': 0.5}. Best is trial 0 with value: 0.7340199074459571.\n",
            "[I 2025-02-24 21:44:41,072] Trial 2 finished with value: 0.7346008094426608 and parameters: {'objective': 'binary', 'metric': 'auc', 'random_state': 42, 'verbose': -1, 'learning_rate': 0.07957145920376708, 'n_estimators': 397, 'min_child_samples': 35, 'subsample': 0.5, 'colsample_bytree': 0.7}. Best is trial 2 with value: 0.7346008094426608.\n",
            "[I 2025-02-24 21:44:44,711] Trial 3 finished with value: 0.7342030562030151 and parameters: {'objective': 'binary', 'metric': 'auc', 'random_state': 42, 'verbose': -1, 'learning_rate': 0.007980814962048806, 'n_estimators': 406, 'min_child_samples': 50, 'subsample': 0.5, 'colsample_bytree': 0.5}. Best is trial 2 with value: 0.7346008094426608.\n",
            "[I 2025-02-24 21:44:46,368] Trial 4 finished with value: 0.733985078910251 and parameters: {'objective': 'binary', 'metric': 'auc', 'random_state': 42, 'verbose': -1, 'learning_rate': 0.01599119727287282, 'n_estimators': 183, 'min_child_samples': 40, 'subsample': 0.6, 'colsample_bytree': 0.6}. Best is trial 2 with value: 0.7346008094426608.\n",
            "[I 2025-02-24 21:44:54,046] Trial 5 finished with value: 0.7364503488971507 and parameters: {'objective': 'binary', 'metric': 'auc', 'random_state': 42, 'verbose': -1, 'learning_rate': 0.010907507425244923, 'n_estimators': 1597, 'min_child_samples': 50, 'subsample': 0.6, 'colsample_bytree': 0.8}. Best is trial 5 with value: 0.7364503488971507.\n",
            "[I 2025-02-24 21:44:58,140] Trial 6 finished with value: 0.7296905857836329 and parameters: {'objective': 'binary', 'metric': 'auc', 'random_state': 42, 'verbose': -1, 'learning_rate': 0.0832688765336147, 'n_estimators': 972, 'min_child_samples': 20, 'subsample': 0.7, 'colsample_bytree': 0.7}. Best is trial 5 with value: 0.7364503488971507.\n",
            "[I 2025-02-24 21:45:04,529] Trial 7 finished with value: 0.7331291478811601 and parameters: {'objective': 'binary', 'metric': 'auc', 'random_state': 42, 'verbose': -1, 'learning_rate': 0.03899678252089179, 'n_estimators': 1543, 'min_child_samples': 25, 'subsample': 0.7, 'colsample_bytree': 0.8}. Best is trial 5 with value: 0.7364503488971507.\n",
            "[I 2025-02-24 21:45:11,454] Trial 8 finished with value: 0.7308019843406264 and parameters: {'objective': 'binary', 'metric': 'auc', 'random_state': 42, 'verbose': -1, 'learning_rate': 0.06174177473816209, 'n_estimators': 1360, 'min_child_samples': 10, 'subsample': 0.7, 'colsample_bytree': 0.6}. Best is trial 5 with value: 0.7364503488971507.\n",
            "[I 2025-02-24 21:45:17,397] Trial 9 finished with value: 0.7362192021512252 and parameters: {'objective': 'binary', 'metric': 'auc', 'random_state': 42, 'verbose': -1, 'learning_rate': 0.013735964154420877, 'n_estimators': 1151, 'min_child_samples': 10, 'subsample': 0.6, 'colsample_bytree': 0.8}. Best is trial 5 with value: 0.7364503488971507.\n",
            "[I 2025-02-24 21:45:26,506] Trial 10 finished with value: 0.7358592410708327 and parameters: {'objective': 'binary', 'metric': 'auc', 'random_state': 42, 'verbose': -1, 'learning_rate': 0.010294631376366912, 'n_estimators': 1917, 'min_child_samples': 50, 'subsample': 1.0, 'colsample_bytree': 1.0}. Best is trial 5 with value: 0.7364503488971507.\n",
            "[I 2025-02-24 21:45:32,864] Trial 11 finished with value: 0.7357828900239823 and parameters: {'objective': 'binary', 'metric': 'auc', 'random_state': 42, 'verbose': -1, 'learning_rate': 0.01451018914487997, 'n_estimators': 1067, 'min_child_samples': 40, 'subsample': 0.6, 'colsample_bytree': 0.9}. Best is trial 5 with value: 0.7364503488971507.\n",
            "[I 2025-02-24 21:45:39,548] Trial 12 finished with value: 0.7359113309259917 and parameters: {'objective': 'binary', 'metric': 'auc', 'random_state': 42, 'verbose': -1, 'learning_rate': 0.005037597623428152, 'n_estimators': 1154, 'min_child_samples': 20, 'subsample': 0.6, 'colsample_bytree': 0.9}. Best is trial 5 with value: 0.7364503488971507.\n",
            "[I 2025-02-24 21:45:43,689] Trial 13 finished with value: 0.7364557438043583 and parameters: {'objective': 'binary', 'metric': 'auc', 'random_state': 42, 'verbose': -1, 'learning_rate': 0.013782748087740262, 'n_estimators': 767, 'min_child_samples': 30, 'subsample': 0.8, 'colsample_bytree': 0.8}. Best is trial 13 with value: 0.7364557438043583.\n",
            "[I 2025-02-24 21:45:47,481] Trial 14 finished with value: 0.7359284492287587 and parameters: {'objective': 'binary', 'metric': 'auc', 'random_state': 42, 'verbose': -1, 'learning_rate': 0.020842689383915307, 'n_estimators': 751, 'min_child_samples': 30, 'subsample': 0.8, 'colsample_bytree': 0.9}. Best is trial 13 with value: 0.7364557438043583.\n",
            "[I 2025-02-24 21:45:51,625] Trial 15 finished with value: 0.7360322197524477 and parameters: {'objective': 'binary', 'metric': 'auc', 'random_state': 42, 'verbose': -1, 'learning_rate': 0.009604755655461804, 'n_estimators': 733, 'min_child_samples': 40, 'subsample': 0.8, 'colsample_bytree': 1.0}. Best is trial 13 with value: 0.7364557438043583.\n",
            "[I 2025-02-24 21:45:58,205] Trial 16 finished with value: 0.7354403571158429 and parameters: {'objective': 'binary', 'metric': 'auc', 'random_state': 42, 'verbose': -1, 'learning_rate': 0.021978864776805457, 'n_estimators': 1532, 'min_child_samples': 30, 'subsample': 0.9, 'colsample_bytree': 0.8}. Best is trial 13 with value: 0.7364557438043583.\n",
            "[I 2025-02-24 21:46:02,393] Trial 17 finished with value: 0.7358278608263313 and parameters: {'objective': 'binary', 'metric': 'auc', 'random_state': 42, 'verbose': -1, 'learning_rate': 0.007728156957998619, 'n_estimators': 701, 'min_child_samples': 45, 'subsample': 0.8, 'colsample_bytree': 0.9}. Best is trial 13 with value: 0.7364557438043583.\n",
            "[I 2025-02-24 21:46:09,024] Trial 18 finished with value: 0.7360383774153134 and parameters: {'objective': 'binary', 'metric': 'auc', 'random_state': 42, 'verbose': -1, 'learning_rate': 0.012494697774181914, 'n_estimators': 1393, 'min_child_samples': 25, 'subsample': 1.0, 'colsample_bytree': 0.8}. Best is trial 13 with value: 0.7364557438043583.\n",
            "[I 2025-02-24 21:46:19,668] Trial 19 finished with value: 0.7351536841416106 and parameters: {'objective': 'binary', 'metric': 'auc', 'random_state': 42, 'verbose': -1, 'learning_rate': 0.017096198380104635, 'n_estimators': 1966, 'min_child_samples': 35, 'subsample': 0.5, 'colsample_bytree': 0.6}. Best is trial 13 with value: 0.7364557438043583.\n"
          ]
        },
        {
          "name": "stdout",
          "output_type": "stream",
          "text": [
            "LGBM val score : 0.7364557438043582\n"
          ]
        }
      ],
      "source": [
        "for col in X.columns:\n",
        "    if X[col].dtype == 'object':  # 문자형이면 category로 변환\n",
        "        X[col] = X[col].astype('category')\n",
        "        test[col] = test[col].astype('category')\n",
        "seed = 4972\n",
        "\n",
        "test_pred_total = []\n",
        "scores_total = []\n",
        "seed_everything(seed)\n",
        "print('Seed {} Start!'.format(seed))\n",
        "cv = StratifiedKFold(n_splits = 10, random_state = seed, shuffle=True)\n",
        "test_pred_cat_total = []\n",
        "test_pred_lgbm_total = []\n",
        "# test_pred_xgb_total = []\n",
        "y_val_total = []\n",
        "val_pred_cat_total = []\n",
        "val_pred_lgbm_total = []\n",
        "cat_param_list = []\n",
        "lgbm_param_list = []\n",
        "for idx, (train_idx, val_idx) in enumerate(cv.split(X, y)):\n",
        "    print('='*50)\n",
        "    X_train, X_val = X.iloc[train_idx],X.iloc[val_idx]\n",
        "    y_train, y_val = y.iloc[train_idx], y.iloc[val_idx]\n",
        "    y_val_total.append(y_val)\n",
        "    best_val_auc = 0\n",
        "\n",
        "    sampler = TPESampler(seed=seed)\n",
        "    optuna_cat = optuna.create_study(direction='maximize', sampler=sampler)\n",
        "    optuna_cat.optimize(objective_cat, n_trials = 50)\n",
        "    cat_trial = optuna_cat.best_trial\n",
        "    cat_trial_params = cat_trial.params\n",
        "    cat_param_list.append(cat_trial_params)\n",
        "\n",
        "    model = CatBoostClassifier(**cat_trial_params, auto_class_weights='Balanced', eval_metric='AUC', random_state=seed, task_type=\"GPU\",devices='2')\n",
        "    model.load_model(\"/data/home/brian1501/Minsu/Pregnant/train/weight/cat_fold_gpu{}.cbm\".format(idx))\n",
        "    # model = CatBoostClassifier(auto_class_weights='Balanced', eval_metric='AUC', random_state=seed, task_type=\"CPU\" )\n",
        "    model.fit(X_train,y_train,cat_features=categorical_columns,early_stopping_rounds = 300,eval_set=[(X_val,y_val)], verbose = 300)\n",
        "\n",
        "    # model_gpu = CatBoostClassifier(auto_class_weights='Balanced',eval_metric='AUC', random_state = 501, task_type=\"GPU\" )\n",
        "    # model_gpu.fit(X_train,y_train,cat_features=categorical_columns, early_stopping_rounds = 300,eval_set=[(X_val,y_val)], verbose = 300)\n",
        "    # model_gpu.save_model(\"cat_fold_{}.cbm\".format(idx))\n",
        "\n",
        "\n",
        "    sampler = TPESampler(seed=seed)\n",
        "    optuna_lgbm = optuna.create_study(direction='maximize', sampler=sampler)\n",
        "    optuna_lgbm.optimize(objective_lgbm, n_trials=50)\n",
        "    lgbm_trial = optuna_lgbm.best_trial\n",
        "    lgbm_trial_params = lgbm_trial.params\n",
        "    lgbm_param_list.append(lgbm_trial_params)\n",
        "\n",
        "    class_weights = compute_class_weight(class_weight=\"balanced\", classes=np.unique(y), y=y_train)\n",
        "    class_weight_dict = {i: w for i, w in enumerate(class_weights)}\n",
        "    model_lgbm = lgb.LGBMClassifier(**lgbm_trial_params, class_weight=class_weight_dict)\n",
        "    model_lgbm.fit(\n",
        "        X_train, y_train, \n",
        "        eval_set=[(X_val, y_val)], \n",
        "        categorical_feature=categorical_columns_new)\n",
        "    val_pred_lgbm = model_lgbm.predict_proba(X_val)[:, 1]\n",
        "    # print('Cat val score : {}'.format(roc_auc_score(y_val,val_pred)))\n",
        "    print('LGBM val score : {}'.format(roc_auc_score(y_val,val_pred_lgbm)))\n",
        "\n",
        "    # # roc_val = roc_auc_score(y_val, (2*val_pred+val_pred_lgbm)/3)\n",
        "    # scores_total.append(roc_val)\n",
        "    print('Ensemble val score : {}'.format(roc_val))\n",
        "\n",
        "    # test_pred = model.predict_proba(test)[:, 1]\n",
        "    test_pred_lgbm = model_lgbm.predict_proba(test)[:, 1]\n",
        "    # test_pred_total.append((2*test_pred+test_pred_lgbm)/3)"
      ]
    },
    {
      "cell_type": "code",
      "execution_count": null,
      "metadata": {
        "colab": {
          "base_uri": "https://localhost:8080/"
        },
        "id": "LDLeh9IJD9pt",
        "outputId": "0534775f-2085-448a-d2aa-690a9e4e4ff4"
      },
      "outputs": [
        {
          "data": {
            "text/plain": [
              "(0.741201564719638,\n",
              " [0.7414238034278366,\n",
              "  0.736325829012412,\n",
              "  0.7433595364013841,\n",
              "  0.7422114481666402,\n",
              "  0.7451912528111095,\n",
              "  0.7392552305863451,\n",
              "  0.739200440298218,\n",
              "  0.7389758112353779,\n",
              "  0.7423986158888373,\n",
              "  0.7436736793682186])"
            ]
          },
          "execution_count": 128,
          "metadata": {},
          "output_type": "execute_result"
        }
      ],
      "source": [
        "np.mean(scores_total), scores_total"
      ]
    },
    {
      "cell_type": "code",
      "execution_count": null,
      "metadata": {
        "id": "lHrBw1W192rQ"
      },
      "outputs": [],
      "source": [
        "test_pred_total_mean = np.mean(test_pred_total, axis=(0))"
      ]
    },
    {
      "cell_type": "code",
      "execution_count": null,
      "metadata": {
        "id": "5w89rAUz92rQ",
        "outputId": "4e5b03ca-786f-4e1b-ec92-3409fa7ebae1"
      },
      "outputs": [
        {
          "data": {
            "text/plain": [
              "array([0.00424094, 0.0035059 , 0.32189225, ..., 0.68036313, 0.3850272 ,\n",
              "       0.00482632])"
            ]
          },
          "execution_count": 130,
          "metadata": {},
          "output_type": "execute_result"
        }
      ],
      "source": [
        "test_pred_total_mean"
      ]
    },
    {
      "cell_type": "code",
      "execution_count": null,
      "metadata": {
        "id": "IILJoCXH92rQ"
      },
      "outputs": [],
      "source": [
        "\n",
        "sample_submission = pd.read_csv('/data/sample_submission.csv')\n",
        "sample_submission['probability'] = test_pred_total_mean\n",
        "sample_submission.to_csv('data/Add_feature_reason2_lgbmcat2_Minsu_seed.csv', index=False)"
      ]
    },
    {
      "cell_type": "code",
      "execution_count": null,
      "metadata": {
        "id": "E8D6DZP0pIm3"
      },
      "outputs": [],
      "source": [
        "np.mean(scores_total), scores_total # 불임 원인 인코딩 + make feature 사용\n"
      ]
    },
    {
      "cell_type": "code",
      "execution_count": 95,
      "metadata": {
        "id": "_4Opbmv292rQ"
      },
      "outputs": [],
      "source": [
        "import json\n",
        "with open(\"lgbm_params_minsu.json\", \"w\") as f:\n",
        "    json.dump(lgbm_param_list, f)\n",
        "\n",
        "with open(\"/data/home/brian1501/Minsu/Pregnant/train/lgbm_params_minsu.json\", \"r\") as f:\n",
        "    loaded_lgbm_params =  json.load(f)"
      ]
    },
    {
      "cell_type": "markdown",
      "metadata": {
        "id": "uHdE3GoI92rQ"
      },
      "source": [
        "#### 재현성 확인"
      ]
    },
    {
      "cell_type": "code",
      "execution_count": 97,
      "metadata": {
        "id": "3DLcKWEi92rR",
        "outputId": "b63519d1-259c-4612-9dcf-aa68ba2a44f3",
        "scrolled": true,
        "tags": []
      },
      "outputs": [
        {
          "name": "stdout",
          "output_type": "stream",
          "text": [
            "Seed 4972 Start!\n",
            "==================================================\n",
            "Cat gpu val score : 0.7451971683232159\n",
            "LGBM val score : 0.7435345040593151\n",
            "Ensemble val score : 0.7450429488298911\n",
            "==================================================\n",
            "==================================================\n",
            "Cat gpu val score : 0.7427893639808648\n",
            "LGBM val score : 0.741337494395081\n",
            "Ensemble val score : 0.7426223437725956\n",
            "==================================================\n",
            "Cat gpu val score : 0.7424724478354583\n",
            "LGBM val score : 0.7416317202746174\n",
            "Ensemble val score : 0.7426420735703257\n",
            "==================================================\n",
            "Cat gpu val score : 0.7449202260871335\n",
            "LGBM val score : 0.7449255812674838\n",
            "Ensemble val score : 0.7453531455407716\n",
            "==================================================\n",
            "Cat gpu val score : 0.740316328278594\n",
            "LGBM val score : 0.7387434307668936\n",
            "Ensemble val score : 0.7402497540113002\n",
            "==================================================\n",
            "Cat gpu val score : 0.7385353494342578\n",
            "LGBM val score : 0.7374808794636303\n",
            "Ensemble val score : 0.738596655920287\n",
            "==================================================\n",
            "Cat gpu val score : 0.7383553986892044\n",
            "LGBM val score : 0.7371217566199246\n",
            "Ensemble val score : 0.7383284797707665\n",
            "==================================================\n",
            "Cat gpu val score : 0.7440963149049448\n",
            "LGBM val score : 0.7450152765656672\n",
            "Ensemble val score : 0.7448823346107372\n",
            "==================================================\n",
            "Cat gpu val score : 0.7376609851434267\n",
            "LGBM val score : 0.7364557438043582\n",
            "Ensemble val score : 0.7376587842755378\n"
          ]
        }
      ],
      "source": [
        "for col in X.columns:\n",
        "    if X[col].dtype == 'object':  # 문자형이면 category로 변환\n",
        "        X[col] = X[col].astype('category')\n",
        "        test[col] = test[col].astype('category')\n",
        "seed = 4972\n",
        "\n",
        "test_pred_total = []\n",
        "scores_total = []\n",
        "seed_everything(seed)\n",
        "print('Seed {} Start!'.format(seed))\n",
        "cv = StratifiedKFold(n_splits = 10, random_state = seed, shuffle=True)\n",
        "\n",
        "cat_param_list = []\n",
        "lgbm_param_list = []\n",
        "for idx, (train_idx, val_idx) in enumerate(cv.split(X, y)):\n",
        "    print('='*50)\n",
        "    X_train, X_val = X.iloc[train_idx],X.iloc[val_idx]\n",
        "    y_train, y_val = y.iloc[train_idx], y.iloc[val_idx]\n",
        "    if idx == 1:\n",
        "        continue\n",
        "    # cat_trial_params = loaded_cat_params[idx]\n",
        "    # model = CatBoostClassifier(**cat_trial_params ,auto_class_weights='Balanced', eval_metric='AUC', random_state=seed, task_type=\"CPU\")\n",
        "    # model.fit(X_train,y_train,cat_features=categorical_columns, early_stopping_rounds = 300, eval_set=[(X_val,y_val)], verbose = 300)\n",
        "\n",
        "    model_gpu = CatBoostClassifier()\n",
        "    model_gpu.load_model(\"/data/home/brian1501/Minsu/Pregnant/train/weight/cat_fold_gpu{}.cbm\".format(idx))\n",
        "\n",
        "    lgbm_trial_params = loaded_lgbm_params[idx]\n",
        "    class_weights = compute_class_weight(class_weight=\"balanced\", classes=np.unique(y), y=y_train)\n",
        "    class_weight_dict = {i: w for i, w in enumerate(class_weights)}\n",
        "\n",
        "    model_lgbm = lgb.LGBMClassifier(**lgbm_trial_params,class_weight=class_weight_dict)\n",
        "    model_lgbm.fit(X_train, y_train, eval_set=[(X_val, y_val)],categorical_feature=categorical_columns_new)\n",
        "\n",
        "    # val_pred = model.predict_proba(X_val)[:, 1]\n",
        "    val_pred_gpu = model_gpu.predict_proba(X_val)[:, 1]\n",
        "    val_pred_lgbm = model_lgbm.predict_proba(X_val)[:, 1]\n",
        "    # print('Cat val score : {}'.format(roc_auc_score(y_val,val_pred)))\n",
        "    print('Cat gpu val score : {}'.format(roc_auc_score(y_val,val_pred_gpu)))\n",
        "    print('LGBM val score : {}'.format(roc_auc_score(y_val,val_pred_lgbm)))\n",
        "\n",
        "    roc_val = roc_auc_score(y_val, (val_pred_gpu*2 + val_pred_lgbm)/3)\n",
        "    scores_total.append(roc_val)\n",
        "    print('Ensemble val score : {}'.format(roc_val))\n",
        "\n",
        "    # test_pred = model.predict_proba(test)[:, 1]\n",
        "    test_pred_gpu = model_gpu.predict_proba(test)[:, 1]\n",
        "    test_pred_lgbm = model_lgbm.predict_proba(test)[:, 1]\n",
        "    test_pred_total.append((test_pred_gpu*2+test_pred_lgbm)/3)\n",
        "    # test_pred_total.append((test_pred_gpu))"
      ]
    },
    {
      "cell_type": "markdown",
      "metadata": {
        "id": "LCEcmCFv92rR"
      },
      "source": [
        "(0.741201564719638,\n",
        " [0.7414238034278366,\n",
        "  0.736325829012412,\n",
        "  0.7433595364013841,\n",
        "  0.7422114481666402,\n",
        "  0.7451912528111095,\n",
        "  0.7392552305863451,\n",
        "  0.739200440298218,\n",
        "  0.7389758112353779,\n",
        "  0.7423986158888373,\n",
        "  0.7436736793682186])"
      ]
    },
    {
      "cell_type": "code",
      "execution_count": 98,
      "metadata": {
        "id": "zdqhyNyumAyx"
      },
      "outputs": [],
      "source": [
        "test_pred_total_mean = np.mean(test_pred_total, axis=(0))"
      ]
    },
    {
      "cell_type": "code",
      "execution_count": 99,
      "metadata": {
        "id": "HHVwzBg8NEZK"
      },
      "outputs": [
        {
          "data": {
            "text/plain": [
              "(array([13512.,  2390.,  3343.,  6064.,  9251., 13213., 16854., 15220.,\n",
              "         9625.,   595.]),\n",
              " array([1.02789631e-04, 8.84367804e-02, 1.76770771e-01, 2.65104762e-01,\n",
              "        3.53438753e-01, 4.41772743e-01, 5.30106734e-01, 6.18440725e-01,\n",
              "        7.06774715e-01, 7.95108706e-01, 8.83442697e-01]),\n",
              " <BarContainer object of 10 artists>)"
            ]
          },
          "execution_count": 99,
          "metadata": {},
          "output_type": "execute_result"
        },
        {
          "data": {
            "image/png": "[encoded data removed]",
            "text/plain": [
              "<Figure size 432x288 with 1 Axes>"
            ]
          },
          "metadata": {
            "needs_background": "light"
          },
          "output_type": "display_data"
        }
      ],
      "source": [
        "plt.hist(test_pred_total_mean)"
      ]
    },
    {
      "cell_type": "code",
      "execution_count": 101,
      "metadata": {
        "id": "KGlLsagWhQmz"
      },
      "outputs": [],
      "source": [
        "\n",
        "sample_submission = pd.read_csv('/data/home/brian1501/Minsu/Pregnant/data/sample_submission.csv')\n",
        "sample_submission['probability'] = test_pred_total_mean\n",
        "sample_submission.to_csv('/data/home/brian1501/Minsu/Pregnant/data/Add_feature_Minsu_seed.csv', index=False)"
      ]
    }
  ],
  "metadata": {
    "colab": {
      "provenance": []
    },
    "kernelspec": {
      "display_name": "base",
      "language": "python",
      "name": "python3"
    },
    "language_info": {
      "codemirror_mode": {
        "name": "ipython",
        "version": 3
      },
      "file_extension": ".py",
      "mimetype": "text/x-python",
      "name": "python",
      "nbconvert_exporter": "python",
      "pygments_lexer": "ipython3",
      "version": "3.9.12"
    }
  },
  "nbformat": 4,
  "nbformat_minor": 0
}
