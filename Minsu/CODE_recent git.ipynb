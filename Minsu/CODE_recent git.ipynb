{
 "cells": [
  {
   "cell_type": "code",
   "execution_count": 102,
   "metadata": {
    "colab": {
     "base_uri": "https://localhost:8080/"
    },
    "id": "0_-E_OuZQXqu",
    "outputId": "8f5cbcbb-5086-4ead-c817-9fdb22e3533b"
   },
   "outputs": [],
   "source": [
    "import random\n",
    "import os\n",
    "import pandas as pd\n",
    "import numpy as np\n",
    "\n",
    "from matplotlib import pyplot as plt\n",
    "import seaborn as sns\n",
    "from catboost import CatBoostClassifier\n",
    "import lightgbm as lgb\n",
    "\n",
    "import optuna\n",
    "from optuna import Trial\n",
    "from optuna.samplers import TPESampler\n",
    "from sklearn.model_selection import StratifiedKFold\n",
    "from sklearn.metrics import roc_auc_score\n",
    "from sklearn.utils.class_weight import compute_class_weight\n",
    "\n",
    "import warnings\n",
    "\n",
    "warnings.filterwarnings('ignore')"
   ]
  },
  {
   "cell_type": "code",
   "execution_count": null,
   "metadata": {
    "id": "u2FSTwmUIkF5"
   },
   "outputs": [],
   "source": [
    "import os\n",
    "import logging\n",
    "\n",
    "def set_affinity(pid, cores):\n",
    "    os.sched_setaffinity(pid, cores)\n",
    "set_affinity(0, {21,22,23,24,25,26,27,28,43,44,45,46,47})\n",
    "def seed_everything(seed: int = 42):\n",
    "    random.seed(seed)\n",
    "    np.random.seed(seed)\n",
    "    os.environ[\"PYTHONHASHSEED\"] = str(seed)"
   ]
  },
  {
   "cell_type": "code",
   "execution_count": null,
   "metadata": {
    "colab": {
     "base_uri": "https://localhost:8080/"
    },
    "id": "bbtq1EWyQcwX",
    "outputId": "ad146067-7509-44f2-ee26-cc8bc615473f"
   },
   "outputs": [
    {
     "data": {
      "text/plain": [
       "((256351, 68), (90067, 67))"
      ]
     },
     "execution_count": 104,
     "metadata": {},
     "output_type": "execute_result"
    }
   ],
   "source": [
    "train = pd.read_csv('/Pregnant/train/data/train.csv').drop(columns=['ID'])\n",
    "test = pd.read_csv('/Pregnant/train/data/test.csv').drop(columns=['ID'])\n",
    "train.shape, test.shape\n",
    "# train.loc[train['시술 당시 나이'] == '알 수 없음', '시술 당시 나이'] = '만43-44세'"
   ]
  },
  {
   "cell_type": "code",
   "execution_count": 105,
   "metadata": {
    "colab": {
     "base_uri": "https://localhost:8080/",
     "height": 178
    },
    "id": "x7kj8pMWSpd9",
    "outputId": "11cdbca0-3097-42aa-dd4e-52d7070ff5c9"
   },
   "outputs": [
    {
     "data": {
      "text/plain": [
       "임신 성공 여부\n",
       "0    190123\n",
       "1     66228\n",
       "Name: count, dtype: int64"
      ]
     },
     "execution_count": 105,
     "metadata": {},
     "output_type": "execute_result"
    }
   ],
   "source": [
    "train['임신 성공 여부'].value_counts()"
   ]
  },
  {
   "cell_type": "code",
   "execution_count": 106,
   "metadata": {
    "colab": {
     "base_uri": "https://localhost:8080/",
     "height": 335
    },
    "id": "EsL6VCeI_Q4D",
    "outputId": "32bd81c0-f1bf-4f45-8b2a-54bf8e66c1d1"
   },
   "outputs": [
    {
     "data": {
      "text/plain": [
       "시술 당시 나이\n",
       "만18-34세    102476\n",
       "만35-37세     57780\n",
       "만38-39세     39247\n",
       "만40-42세     37348\n",
       "만43-44세     12253\n",
       "만45-50세      6918\n",
       "알 수 없음        329\n",
       "Name: count, dtype: int64"
      ]
     },
     "execution_count": 106,
     "metadata": {},
     "output_type": "execute_result"
    }
   ],
   "source": [
    "# train['시술 당시 나이'] = train['시술 당시 나이'].replace('알 수 없음','만35-37세')\n",
    "# test['시술 당시 나이'] = test['시술 당시 나이'].replace('알 수 없음','만35-37세')\n",
    "\n",
    "train['시술 당시 나이'].value_counts()\n",
    "# train['']\n"
   ]
  },
  {
   "cell_type": "code",
   "execution_count": 107,
   "metadata": {
    "colab": {
     "base_uri": "https://localhost:8080/"
    },
    "id": "4xu4wqTwWgEO",
    "outputId": "8b21d1a6-d5ee-46ea-ab34-c6c2ec30bb19"
   },
   "outputs": [
    {
     "data": {
      "text/plain": [
       "((256351, 66), (90067, 65))"
      ]
     },
     "execution_count": 107,
     "metadata": {},
     "output_type": "execute_result"
    }
   ],
   "source": [
    "# drop_columns = ['착상 전 유전 검사 사용 여부',\n",
    "#                 'PGD 시술 여부', 'PGS 시술 여부', '난자 해동 경과일'] + ['배란 유도 유형', '불임 원인 - 자궁경부 문제', '불임 원인 - 정자 면역학적 요인','불임 원인 - 정자 운동성', '불임 원인 - 정자 형태']#\n",
    "drop_columns = ['난자 해동 경과일', '배란 유도 유형']\n",
    "train.drop(columns=drop_columns, inplace=True)\n",
    "test.drop(columns=drop_columns, inplace=True)\n",
    "\n",
    "train.shape, test.shape"
   ]
  },
  {
   "cell_type": "code",
   "execution_count": 108,
   "metadata": {
    "id": "q5k1E_a8a6LH"
   },
   "outputs": [],
   "source": [
    "nan_col_list = ['착상 전 유전 검사 사용 여부','PGD 시술 여부', 'PGS 시술 여부']\n",
    "for col in nan_col_list:\n",
    "    train[col] = train[col].fillna(0)\n",
    "    test[col] = test[col].fillna(0)"
   ]
  },
  {
   "cell_type": "code",
   "execution_count": 109,
   "metadata": {
    "colab": {
     "base_uri": "https://localhost:8080/"
    },
    "id": "_Q-1vJvMZVdO",
    "outputId": "c00dc096-9bb5-4d60-f38f-4908c4f8c858"
   },
   "outputs": [],
   "source": [
    "drop_columns2 = []\n",
    "for col in train.columns:\n",
    "    if len(train[col].value_counts()) == 1:\n",
    "        drop_columns2.append(col)"
   ]
  },
  {
   "cell_type": "code",
   "execution_count": 110,
   "metadata": {
    "colab": {
     "base_uri": "https://localhost:8080/"
    },
    "id": "Eb_P6B2RarRm",
    "outputId": "8648f15e-8a85-49bb-fb00-a83582492051"
   },
   "outputs": [
    {
     "name": "stdout",
     "output_type": "stream",
     "text": [
      "['불임 원인 - 여성 요인', '난자 채취 경과일']\n"
     ]
    },
    {
     "data": {
      "text/plain": [
       "((256351, 64), (90067, 63))"
      ]
     },
     "execution_count": 110,
     "metadata": {},
     "output_type": "execute_result"
    }
   ],
   "source": [
    "print(drop_columns2)\n",
    "train.drop(columns=drop_columns2, inplace=True)\n",
    "test.drop(columns=drop_columns2, inplace=True)\n",
    "\n",
    "train.shape, test.shape"
   ]
  },
  {
   "cell_type": "code",
   "execution_count": 111,
   "metadata": {
    "id": "YjAuM-pa6Ewz"
   },
   "outputs": [],
   "source": [
    "cat_to_int_dict = {'6회 이상' : 6, '5회' : 5, '4회' : 4, '3회' : 3, '2회' : 2, '1회' : 1, '0회' : 0}\n",
    "\n",
    "cat_to_int_columns = ['총 시술 횟수', '클리닉 내 총 시술 횟수', 'IVF 시술 횟수','DI 시술 횟수', 'DI 임신 횟수' ,'DI 출산 횟수',\n",
    "                      '총 임신 횟수', 'IVF 임신 횟수', '총 출산 횟수', 'IVF 출산 횟수'] #\n",
    "for col in cat_to_int_columns:\n",
    "    train[col] = train[col].map(cat_to_int_dict)\n",
    "    test[col] = test[col].map(cat_to_int_dict)"
   ]
  },
  {
   "cell_type": "code",
   "execution_count": null,
   "metadata": {},
   "outputs": [],
   "source": [
    "\n",
    "# 5. Binning(구간화) 예시\n",
    "# 예: 임신 시도 또는 마지막 임신 경과 연수\n",
    "if '임신 시도 또는 마지막 임신 경과 연수' in train.columns:\n",
    "    bins = [-0.1, 0.9, 3, 6, 10, 20]  # 0 이하, 1~3, 4~6, 7~10, 11~20\n",
    "    labels = ['0년 이하','1~3년','4~6년','7~10년','11~20년']\n",
    "    train['임신시도_bin'] = pd.cut(train['임신 시도 또는 마지막 임신 경과 연수'], bins=bins, labels=labels)\n",
    "    test['임신시도_bin']  = pd.cut(test['임신 시도 또는 마지막 임신 경과 연수'],  bins=bins, labels=labels)\n",
    "\n",
    "# 예: 총 생성 배아 수 (0~20, 21이상 구간)\n",
    "if '총 생성 배아 수' in train.columns:\n",
    "    bins = [-0.1, 0, 5, 10, 15, 20, 999]\n",
    "    labels = ['0','1~5','6~10','11~15','16~20','21이상']\n",
    "    train['총_생성_배아_bin'] = pd.cut(train['총 생성 배아 수'], bins=bins, labels=labels)\n",
    "    test['총_생성_배아_bin']  = pd.cut(test['총 생성 배아 수'],  bins=bins, labels=labels)\n",
    "\n",
    "# 6. 희소 범주(rare categories) 병합 예시\n",
    "def merge_rare_categories(series, min_count=100):\n",
    "    \"\"\"\n",
    "    시리즈 내에서 출현 횟수가 min_count 미만인 카테고리를\n",
    "    모두 '기타' 카테고리로 통합\n",
    "    \"\"\"\n",
    "    value_counts = series.value_counts(dropna=False)\n",
    "    rare_cats = value_counts[value_counts < min_count].index\n",
    "    return series.replace(rare_cats, '기타')\n",
    "\n",
    "\n",
    "rare_merge_cols = ['특정 시술 유형', '배아 생성 주요 이유']\n",
    "for col in rare_merge_cols:\n",
    "    if col in train.columns:\n",
    "        train[col] = merge_rare_categories(train[col], min_count=100)\n",
    "    if col in test.columns:\n",
    "        test[col] = merge_rare_categories(test[col], min_count=100)\n",
    "train.drop(columns =['임신 시도 또는 마지막 임신 경과 연수'],inplace = True )\n",
    "test.drop(columns =['임신 시도 또는 마지막 임신 경과 연수'],inplace = True )\n"
   ]
  },
  {
   "cell_type": "code",
   "execution_count": 113,
   "metadata": {
    "id": "f-mBaoLO4ffA"
   },
   "outputs": [],
   "source": [
    "procedure_encoding_dict = {'ICSI' : 'ICSI', 'IVF' : 'IVF', 'Unknown' : 'Unknown','IUI' : 'IUI',\n",
    "                           'ICSI:ICSI' : 'ICSI', 'ICSI / BLASTOCYST ' : 'ICSI / BLASTOCYST',\n",
    "                           'IVF / BLASTOCYST' : 'IVF / BLASTOCYST','IVF:IVF' : 'IVF','ICSI:IVF' : 'ICSI:IVF',\n",
    "                           'ICSI / AH' : 'ICSI / AH','IVF:ICSI' : 'ICSI:IVF', 'IVF / AH' : 'IVF / AH',\n",
    "                           'ICSI:Unknown' : 'ICSI', 'IVF:Unknown' : 'IVF', 'ICI' : 'ICI','Generic DI' : 'Generic DI',\n",
    "                           'IVI' : 'IVI','ICSI / BLASTOCYST:IVF / BLASTOCYST' : 'ICSI / BLASTOCYST:IVF / BLASTOCYST',\n",
    "                           'ICSI / BLASTOCYST :IVF / BLASTOCYST': 'ICSI / BLASTOCYST:IVF / BLASTOCYST','FER' : 'FER',\n",
    "                           'IVF / AH:ICSI / AH' : 'IVF / AH:ICSI / AH','GIFT':'GIFT','ICSI / AH:Unknown' : 'ICSI / AH',\n",
    "                           'ICSI / BLASTOCYST :ICSI' : 'ICSI / BLASTOCYST', 'IUI:ICI' : 'IUI:ICI',\n",
    "                           'IVF:Unknown:Unknown:Unknown' : 'IVF'}\n",
    "\n",
    "train['특정 시술 유형'] = train['특정 시술 유형'].map(procedure_encoding_dict)\n",
    "test['특정 시술 유형'] = test['특정 시술 유형'].map(procedure_encoding_dict)"
   ]
  },
  {
   "cell_type": "code",
   "execution_count": 114,
   "metadata": {
    "id": "UEU77iWib0U_"
   },
   "outputs": [],
   "source": [
    "train['불임 원인 - 정자 요인'] = train['불임 원인 - 정자 면역학적 요인'] + train['불임 원인 - 정자 운동성'] + train['불임 원인 - 정자 농도']  + train['불임 원인 - 정자 형태']\n",
    "test['불임 원인 - 정자 요인'] = test['불임 원인 - 정자 면역학적 요인'] + test['불임 원인 - 정자 운동성'] + test['불임 원인 - 정자 농도'] + test['불임 원인 - 정자 형태']\n",
    "train['불임 원인 - 여성 요인'] = train['불임 원인 - 자궁경부 문제'] + train['불임 원인 - 자궁내막증'] + train['불임 원인 - 배란 장애'] + train['불임 원인 - 난관 질환']\n",
    "test['불임 원인 - 여성 요인'] = test['불임 원인 - 자궁경부 문제'] + test['불임 원인 - 자궁내막증'] + test['불임 원인 - 배란 장애'] + test['불임 원인 - 난관 질환']\n",
    "\n",
    "train['남성 불임 원인'] = train['남성 주 불임 원인'] + train['남성 부 불임 원인']\n",
    "test['남성 불임 원인'] = test['남성 주 불임 원인'] + test['남성 부 불임 원인']\n",
    "train['여성 불임 원인'] = train['여성 주 불임 원인'] + train['여성 부 불임 원인']\n",
    "test['여성 불임 원인'] = test['여성 주 불임 원인'] + test['여성 부 불임 원인']\n",
    "train['부부 불임 원인'] = train['부부 주 불임 원인'] + train['부부 부 불임 원인']\n",
    "test['부부 불임 원인'] = test['부부 주 불임 원인'] + test['부부 부 불임 원인']\n",
    "\n",
    "\n",
    "drop_columns3 = ['불임 원인 - 정자 면역학적 요인', '불임 원인 - 정자 운동성', '불임 원인 - 정자 형태', '불임 원인 - 자궁경부 문제',\n",
    "                 '남성 주 불임 원인', '남성 부 불임 원인', '여성 주 불임 원인', '여성 부 불임 원인',\n",
    "                 '부부 주 불임 원인', '부부 부 불임 원인']\n",
    "train.drop(columns=drop_columns3, inplace=True)\n",
    "test.drop(columns=drop_columns3, inplace=True)"
   ]
  },
  {
   "cell_type": "code",
   "execution_count": 115,
   "metadata": {},
   "outputs": [],
   "source": [
    "train.drop(columns =['임신 시도 또는 마지막 임신 경과 연수'],inplace = True )\n",
    "test.drop(columns =['임신 시도 또는 마지막 임신 경과 연수'],inplace = True )"
   ]
  },
  {
   "cell_type": "code",
   "execution_count": 96,
   "metadata": {
    "colab": {
     "base_uri": "https://localhost:8080/"
    },
    "id": "kjEBmjSkbL5j",
    "outputId": "b3db516d-031e-42fc-89bb-a3218d8bd879"
   },
   "outputs": [
    {
     "data": {
      "text/plain": [
       "Index(['시술 시기 코드', '시술 당시 나이', '시술 유형', '특정 시술 유형', '배란 자극 여부', '단일 배아 이식 여부',\n",
       "       '착상 전 유전 검사 사용 여부', '착상 전 유전 진단 사용 여부', '불명확 불임 원인', '불임 원인 - 난관 질환',\n",
       "       '불임 원인 - 남성 요인', '불임 원인 - 배란 장애', '불임 원인 - 자궁내막증', '불임 원인 - 정자 농도',\n",
       "       '배아 생성 주요 이유', '총 시술 횟수', '클리닉 내 총 시술 횟수', 'IVF 시술 횟수', 'DI 시술 횟수',\n",
       "       '총 임신 횟수', 'IVF 임신 횟수', 'DI 임신 횟수', '총 출산 횟수', 'IVF 출산 횟수', 'DI 출산 횟수',\n",
       "       '총 생성 배아 수', '미세주입된 난자 수', '미세주입에서 생성된 배아 수', '이식된 배아 수',\n",
       "       '미세주입 배아 이식 수', '저장된 배아 수', '미세주입 후 저장된 배아 수', '해동된 배아 수', '해동 난자 수',\n",
       "       '수집된 신선 난자 수', '저장된 신선 난자 수', '혼합된 난자 수', '파트너 정자와 혼합된 난자 수',\n",
       "       '기증자 정자와 혼합된 난자 수', '난자 출처', '정자 출처', '난자 기증자 나이', '정자 기증자 나이',\n",
       "       '동결 배아 사용 여부', '신선 배아 사용 여부', '기증 배아 사용 여부', '대리모 여부', 'PGD 시술 여부',\n",
       "       'PGS 시술 여부', '난자 혼합 경과일', '배아 이식 경과일', '배아 해동 경과일', '임신 성공 여부',\n",
       "       '임신시도_bin', '총_생성_배아_bin', '불임 원인 - 정자 요인', '불임 원인 - 여성 요인', '남성 불임 원인',\n",
       "       '여성 불임 원인', '부부 불임 원인'],\n",
       "      dtype='object')"
      ]
     },
     "execution_count": 96,
     "metadata": {},
     "output_type": "execute_result"
    }
   ],
   "source": [
    "train.columns"
   ]
  },
  {
   "cell_type": "code",
   "execution_count": 116,
   "metadata": {
    "id": "64dAkKrBayFA"
   },
   "outputs": [],
   "source": [
    "# categorical_columns = [\"시술 시기 코드\",\"시술 당시 나이\", \"시술 유형\", \"특정 시술 유형\",\"배란 자극 여부\",\n",
    "                      #  \"단일 배아 이식 여부\",\"착상 전 유전 진단 사용 여부\",\n",
    "                      #  \"남성 주 불임 원인\",\"남성 부 불임 원인\",\"여성 주 불임 원인\",\"여성 부 불임 원인\",\n",
    "                      #  \"부부 주 불임 원인\",\"부부 부 불임 원인\",\"불명확 불임 원인\",\"불임 원인 - 난관 질환\",\n",
    "                      #  \"불임 원인 - 남성 요인\",\"불임 원인 - 배란 장애\",\"불임 원인 - 자궁경부 문제\",\"불임 원인 - 자궁내막증\",\n",
    "                      #  \"불임 원인 - 정자 농도\",\"불임 원인 - 정자 면역학적 요인\",\"불임 원인 - 정자 운동성\",\"불임 원인 - 정자 형태\",\n",
    "                      #  \"배아 생성 주요 이유\",\"총 시술 횟수\",\"클리닉 내 총 시술 횟수\",\"IVF 시술 횟수\",\"DI 시술 횟수\",\n",
    "                      #  \"총 임신 횟수\",\"IVF 임신 횟수\",\"DI 임신 횟수\",\"총 출산 횟수\",\"IVF 출산 횟수\",\"DI 출산 횟수\",\n",
    "                      #  \"난자 출처\",\"정자 출처\",\"난자 기증자 나이\",\"정자 기증자 나이\",\n",
    "                      #  \"동결 배아 사용 여부\",\"신선 배아 사용 여부\",\"기증 배아 사용 여부\",\"대리모 여부\"]\n",
    "categorical_columns =  [\"시술 시기 코드\",\"시술 당시 나이\",\"시술 유형\", \"특정 시술 유형\",\n",
    "                        \"배란 자극 여부\", \"단일 배아 이식 여부\", '착상 전 유전 검사 사용 여부',\"착상 전 유전 진단 사용 여부\",\n",
    "                       \"불명확 불임 원인\",\"배아 생성 주요 이유\",\n",
    "                        \"불임 원인 - 난관 질환\",\"불임 원인 - 남성 요인\",\"불임 원인 - 배란 장애\",\n",
    "                        \"불임 원인 - 자궁내막증\",'불임 원인 - 정자 농도',\"난자 출처\",\"정자 출처\",\"난자 기증자 나이\",\"정자 기증자 나이\",\n",
    "                       \"동결 배아 사용 여부\",\"신선 배아 사용 여부\", '기증 배아 사용 여부',\"대리모 여부\",\n",
    "                        'PGD 시술 여부', '총_생성_배아_bin','PGS 시술 여부', '불임 원인 - 정자 요인', '불임 원인 - 여성 요인',  '남성 불임 원인', '여성 불임 원인', '부부 불임 원인',\"임신시도_bin\"] #\n",
    "# \"남성 주 불임 원인\",\"남성 부 불임 원인\",\"여성 주 불임 원인\",\"여성 부 불임 원인\",\n",
    "#                       \"부부 주 불임 원인\",\"부부 부 불임 원인\",\n",
    "\n",
    "for col in categorical_columns:\n",
    "    if train[col].isna().sum() > 0 or test[col].isna().sum() > 0 :\n",
    "\n",
    "      mode_value = train[col].mode()[0]\n",
    "      train[col].fillna(mode_value, inplace=True)  # 최빈값으로 대체\n",
    "      test[col].fillna(mode_value, inplace = True)\n",
    "    train[col] = train[col].astype(str)\n",
    "    test[col] = test[col].astype(str)\n",
    "    #encoder = ce.OrdinalEncoder(handle_unknown='impute')\n",
    "    #encoder.fit(train[col])\n",
    "    #train[col] = encoder.transform(train[col])\n",
    "    #test[col] = encoder.transform(test[col])\n",
    "\n",
    "numeric_columns = [\"총 생성 배아 수\", \"총 시술 횟수\",\"클리닉 내 총 시술 횟수\",\"IVF 시술 횟수\",\"DI 시술 횟수\",\n",
    "                   \"총 임신 횟수\",\"IVF 임신 횟수\",\"DI 임신 횟수\",\"총 출산 횟수\",\"IVF 출산 횟수\",\"DI 출산 횟수\",\n",
    "                    '미세주입된 난자 수', '미세주입에서 생성된 배아 수', '이식된 배아 수', '미세주입 배아 이식 수', '저장된 배아 수',\n",
    "       '미세주입 후 저장된 배아 수', '해동된 배아 수', '해동 난자 수', '수집된 신선 난자 수', '저장된 신선 난자 수',\n",
    "       '혼합된 난자 수', '파트너 정자와 혼합된 난자 수', '기증자 정자와 혼합된 난자 수', '난자 혼합 경과일', '배아 이식 경과일', '배아 해동 경과일'] #\n",
    "\n",
    "# numeric_columns = [\"총 생성 배아 수\",\"미세주입된 난자 수\",\"미세주입에서 생성된 배아 수\",\n",
    "#                    \"이식된 배아 수\",\"미세주입 배아 이식 수\",\"저장된 배아 수\",\"미세주입 후 저장된 배아 수\",\n",
    "#                    \"수집된 신선 난자 수\",\"혼합된 난자 수\",\"파트너 정자와 혼합된 난자 수\",\n",
    "#                    \"기증자 정자와 혼합된 난자 수\",\"배아 이식 경과일\"]\n",
    "\n",
    "for col in numeric_columns:\n",
    "  if train[col].isna().sum():\n",
    "    if train[col].isna().sum() >= len(train)*0.5: # 결측치가 절반이 넘어갈 경우\n",
    "      train[col].fillna(-1, inplace=True)  # -1로 대체\n",
    "      test[col].fillna(-1, inplace = True)\n",
    "    else:\n",
    "      mode_value = train[col].mode()[0]  # 최빈값 구하기\n",
    "      train[col].fillna(mode_value, inplace=True)  # 최빈값으로 대체\n",
    "      test[col].fillna(mode_value, inplace = True)\n"
   ]
  },
  {
   "cell_type": "code",
   "execution_count": 98,
   "metadata": {
    "colab": {
     "base_uri": "https://localhost:8080/"
    },
    "id": "rrQrzq0H_QfV",
    "outputId": "255208d3-85ca-4d21-d9d0-eb8dccc27e6d"
   },
   "outputs": [
    {
     "data": {
      "text/plain": [
       "59"
      ]
     },
     "execution_count": 98,
     "metadata": {},
     "output_type": "execute_result"
    }
   ],
   "source": [
    "len(categorical_columns) + len(numeric_columns)"
   ]
  },
  {
   "cell_type": "code",
   "execution_count": 117,
   "metadata": {
    "id": "CI8IOlCFVXGY"
   },
   "outputs": [],
   "source": [
    "def make_feature(df):\n",
    "  #df['연령 가중치'] = df['시술 당시 나이'].map(age_weight_dict)\n",
    "\n",
    "  #df['난자 활용률'] = df['미세주입된 난자 수'] / (df['수집된 신선 난자 수'] + df['해동 난자 수'] + 1)\n",
    "  df['미세주입 배아 생성률'] = (df['미세주입에서 생성된 배아 수']) / (df['미세주입된 난자 수'] + 1)\n",
    "  df['미세주입 배아 이식률'] = (df['미세주입 배아 이식 수']) / (df['미세주입에서 생성된 배아 수'] + 1)\n",
    "  df['배아 이식률'] = (df['이식된 배아 수']) / (df['총 생성 배아 수'] + 1)\n",
    "  df['저장 배아 비율'] = (df['저장된 배아 수'])/ (df['총 생성 배아 수'] + 1)\n",
    "  df['해동 배아 생존율'] = (df['해동된 배아 수'])/ (df['총 생성 배아 수'] + 1)\n",
    "  df['파트너 정자 혼합 비율'] = (df['파트너 정자와 혼합된 난자 수']) / (df['혼합된 난자 수'] + 1)\n",
    "\n",
    "  # df['저장 배아 비율2'] = (df['저장된 배아 수'])/ (df['이식된 배아 수'] + 1)\n",
    "  # df['해동 배아 생존율2'] = (df['해동된 배아 수'])/ (df['이식된 배아 수'] + 1)\n",
    "  # df['미세주입 배아 이식 비율'] = df['미세주입 배아 이식 수'] / (df['이식된 배아 수'] + 1)\n",
    "  #df['나이보정 배아 이식 수'] = df['이식된 배아 수']*df['연령 가중치']\n",
    "\n",
    "  df['임신 성공률'] = (df['총 임신 횟수']) / (df['총 시술 횟수'] + 1)\n",
    "  #df['IVF 시술 성공률'] = (df['IVF 임신 횟수'])/ (df['IVF 시술 횟수'] + 1)\n",
    "  #df['DI 시술 성공률'] = (df['DI 임신 횟수']) / (df['DI 시술 횟수'] + 1)\n",
    "  df['출산율'] = df['총 출산 횟수'] / (df['총 임신 횟수'] + 1)\n",
    "  #df['IVF 출산율'] = df['IVF 출산 횟수'] / (df['IVF 임신 횟수'] + 1)\n",
    "  #df['DI 출산율'] = df['DI 출산 횟수'] / (df['DI 임신 횟수'] + 1)\n",
    "  #df['시술 기준 출산 성공률'] = df['총 출산 횟수'] / (df['총 시술 횟수'] + 1)\n",
    "\n",
    "  #df = df.drop(columns = ['연령 가중치'])\n",
    "\n",
    "  return df"
   ]
  },
  {
   "cell_type": "code",
   "execution_count": 118,
   "metadata": {
    "colab": {
     "base_uri": "https://localhost:8080/"
    },
    "id": "_VNPbGSR4h_I",
    "outputId": "44e7b9c5-1948-417e-b02a-64267fb91fae"
   },
   "outputs": [
    {
     "data": {
      "text/plain": [
       "((256351, 67), (90067, 67))"
      ]
     },
     "execution_count": 118,
     "metadata": {},
     "output_type": "execute_result"
    }
   ],
   "source": [
    "X = train.drop('임신 성공 여부', axis=1)\n",
    "y = train['임신 성공 여부']\n",
    "\n",
    "X = make_feature(X)\n",
    "test = make_feature(test)\n",
    "\n",
    "X.shape, test.shape"
   ]
  },
  {
   "cell_type": "code",
   "execution_count": 101,
   "metadata": {
    "colab": {
     "base_uri": "https://localhost:8080/",
     "height": 178
    },
    "id": "1WNQj2e8ukWK",
    "outputId": "039cab20-93c0-4ab4-f8a6-8098c62dc87f"
   },
   "outputs": [
    {
     "data": {
      "text/plain": [
       "임신 성공 여부\n",
       "0    190123\n",
       "1     66228\n",
       "Name: count, dtype: int64"
      ]
     },
     "execution_count": 101,
     "metadata": {},
     "output_type": "execute_result"
    }
   ],
   "source": [
    "y.value_counts()"
   ]
  },
  {
   "cell_type": "code",
   "execution_count": 122,
   "metadata": {
    "id": "nsRZfmFixgqm"
   },
   "outputs": [],
   "source": [
    "from sklearn.utils.class_weight import compute_class_weight\n",
    "def objective_cat(trial):\n",
    "    global best_val_auc\n",
    "    cbrm_param = {\n",
    "        'iterations':trial.suggest_int(\"iterations\", 1500, 3000),\n",
    "        'depth':trial.suggest_int(\"depth\", 4, 10),\n",
    "        'learning_rate' : trial.suggest_float('learning_rate',0.005, 0.1),\n",
    "        'l2_leaf_reg': trial.suggest_float(\"l2_leaf_reg\", 1e-4, 100.0, log=True),\n",
    "        'early_stopping_rounds': 300\n",
    "    }\n",
    "\n",
    "    # Generate model\n",
    "    model_cat = CatBoostClassifier(**cbrm_param, auto_class_weights='Balanced', eval_metric='AUC', random_state=seed, task_type=\"GPU\",devices='2')\n",
    "    model_cat.fit(X_train,\n",
    "          y_train,\n",
    "          cat_features=categorical_columns,\n",
    "          early_stopping_rounds= 300,\n",
    "          eval_set=[(X_val,y_val)],\n",
    "          verbose = 300)\n",
    "    \n",
    "    val_auc = model_cat.get_best_score()[\"validation\"][\"AUC\"]\n",
    "    best_model_path = \"/data/home/brian1501/Minsu/Pregnant/train/weight/cat_fold_gpu{}.cbm\".format(idx)\n",
    "    if val_auc > best_val_auc:\n",
    "        best_val_auc = val_auc\n",
    "        model_cat.save_model(best_model_path)\n",
    "        print('저장 완료')\n",
    "\n",
    "    return val_auc\n",
    "\n",
    "def objective_lgbm(trial):\n",
    "\n",
    "    lgbm_params = {\n",
    "         #'num_leaves': trial.suggest_int('num_leaves', 2, 1024, step=1),\n",
    "         #'max_depth': trial.suggest_int('max_depth', 3, 18, step=1),\n",
    "          \"num_iterations\": trial.suggest_int(\"num_iterations\", 1500, 3000),\n",
    "        \"objective\":  trial.suggest_categorical(\"objective\", [\"binary\"]),\n",
    "         \"metric\":  trial.suggest_categorical(\"metric\", [\"auc\"]),\n",
    "        #  \"random_state\":  trial.suggest_int('random_state', 42, 42),\n",
    "        \"random_state\": seed,\n",
    "        \"verbose\":  trial.suggest_int('verbose', -1, -1),\n",
    "        'learning_rate': trial.suggest_float('learning_rate', 0.005, 0.1, log=True),\n",
    "        'n_estimators': trial.suggest_int('n_estimators', 100, 2000),\n",
    "        'min_child_samples': trial.suggest_int('min_child_samples', 10, 50, step=5),\n",
    "        'subsample': trial.suggest_float('subsample', 0.5, 1.0, step=0.1),\n",
    "        'colsample_bytree': trial.suggest_float('colsample_bytree', 0.5, 1.0, step=0.1),\n",
    "    }\n",
    "\n",
    "    # Generate model\n",
    "\n",
    "    class_weights = compute_class_weight(class_weight=\"balanced\", classes=np.unique(y), y=y_train)\n",
    "    class_weight_dict = {i: w for i, w in enumerate(class_weights)}\n",
    "\n",
    "    model_lgbm = lgb.LGBMClassifier(**lgbm_params, class_weight=class_weight_dict)\n",
    "\n",
    "    model_lgbm.fit(X_train, y_train,eval_set=[(X_val, y_val)],categorical_feature=categorical_columns)\n",
    "\n",
    "    return model_lgbm.best_score_['valid_0']['auc']"
   ]
  },
  {
   "cell_type": "code",
   "execution_count": null,
   "metadata": {
    "colab": {
     "base_uri": "https://localhost:8080/"
    },
    "id": "NsuYwQX28LzT",
    "outputId": "392153b7-08f0-4feb-9a83-6016732f894c",
    "scrolled": true,
    "tags": []
   },
   "outputs": [
    {
     "name": "stderr",
     "output_type": "stream",
     "text": [
      "[I 2025-02-21 02:58:11,849] A new study created in memory with name: no-name-c5153a7c-0eec-4a8d-b936-5e9c5d504eb1\n"
     ]
    },
    {
     "name": "stdout",
     "output_type": "stream",
     "text": [
      "Seed 4972 Start!\n",
      "==================================================\n"
     ]
    },
    {
     "name": "stderr",
     "output_type": "stream",
     "text": [
      "Default metric period is 5 because AUC is/are not implemented for GPU\n"
     ]
    },
    {
     "name": "stdout",
     "output_type": "stream",
     "text": [
      "0:\ttest: 0.7273249\tbest: 0.7273249 (0)\ttotal: 87.3ms\tremaining: 3m 26s\n",
      "300:\ttest: 0.7388394\tbest: 0.7388394 (300)\ttotal: 27.8s\tremaining: 3m 10s\n",
      "600:\ttest: 0.7399620\tbest: 0.7399630 (599)\ttotal: 54.5s\tremaining: 2m 40s\n",
      "900:\ttest: 0.7401867\tbest: 0.7402921 (802)\ttotal: 1m 18s\tremaining: 2m 8s\n",
      "bestTest = 0.7402921021\n",
      "bestIteration = 802\n",
      "Shrink model to first 803 iterations.\n"
     ]
    },
    {
     "name": "stderr",
     "output_type": "stream",
     "text": [
      "[I 2025-02-21 02:59:48,889] Trial 0 finished with value: 0.740292102098465 and parameters: {'iterations': 2366, 'depth': 10, 'learning_rate': 0.01181021951839225, 'l2_leaf_reg': 9.980783802743254}. Best is trial 0 with value: 0.740292102098465.\n"
     ]
    },
    {
     "name": "stdout",
     "output_type": "stream",
     "text": [
      "저장 완료\n"
     ]
    },
    {
     "name": "stderr",
     "output_type": "stream",
     "text": [
      "Default metric period is 5 because AUC is/are not implemented for GPU\n"
     ]
    },
    {
     "name": "stdout",
     "output_type": "stream",
     "text": [
      "0:\ttest: 0.7016709\tbest: 0.7016709 (0)\ttotal: 17.3ms\tremaining: 37.9s\n",
      "300:\ttest: 0.7296179\tbest: 0.7296179 (300)\ttotal: 4.72s\tremaining: 29.7s\n",
      "600:\ttest: 0.7335977\tbest: 0.7335977 (600)\ttotal: 8.78s\tremaining: 23.3s\n",
      "900:\ttest: 0.7356877\tbest: 0.7356877 (900)\ttotal: 12.9s\tremaining: 18.5s\n",
      "1200:\ttest: 0.7368985\tbest: 0.7368988 (1198)\ttotal: 17.6s\tremaining: 14.5s\n",
      "1500:\ttest: 0.7376916\tbest: 0.7376916 (1500)\ttotal: 22.8s\tremaining: 10.5s\n",
      "1800:\ttest: 0.7382925\tbest: 0.7382925 (1800)\ttotal: 26.9s\tremaining: 5.85s\n",
      "2100:\ttest: 0.7387561\tbest: 0.7387561 (2100)\ttotal: 32.9s\tremaining: 1.44s\n"
     ]
    },
    {
     "name": "stderr",
     "output_type": "stream",
     "text": [
      "[I 2025-02-21 03:00:26,346] Trial 1 finished with value: 0.7388679385185242 and parameters: {'iterations': 2193, 'depth': 4, 'learning_rate': 0.005671430811678843, 'l2_leaf_reg': 0.00012325230809466137}. Best is trial 0 with value: 0.740292102098465.\n"
     ]
    },
    {
     "name": "stdout",
     "output_type": "stream",
     "text": [
      "2192:\ttest: 0.7388675\tbest: 0.7388679 (2191)\ttotal: 34.1s\tremaining: 0us\n",
      "bestTest = 0.7388679385\n",
      "bestIteration = 2191\n",
      "Shrink model to first 2192 iterations.\n"
     ]
    },
    {
     "name": "stderr",
     "output_type": "stream",
     "text": [
      "Default metric period is 5 because AUC is/are not implemented for GPU\n"
     ]
    },
    {
     "name": "stdout",
     "output_type": "stream",
     "text": [
      "0:\ttest: 0.7016709\tbest: 0.7016709 (0)\ttotal: 18.2ms\tremaining: 46.1s\n",
      "300:\ttest: 0.7400660\tbest: 0.7400761 (299)\ttotal: 4.9s\tremaining: 36.4s\n",
      "600:\ttest: 0.7403332\tbest: 0.7404209 (579)\ttotal: 9.61s\tremaining: 30.9s\n",
      "900:\ttest: 0.7402225\tbest: 0.7404698 (735)\ttotal: 15.4s\tremaining: 28s\n",
      "bestTest = 0.7404698133\n",
      "bestIteration = 735\n",
      "Shrink model to first 736 iterations.\n"
     ]
    },
    {
     "name": "stderr",
     "output_type": "stream",
     "text": [
      "[I 2025-02-21 03:00:47,027] Trial 2 finished with value: 0.7404698133468628 and parameters: {'iterations': 2535, 'depth': 4, 'learning_rate': 0.09275339199839054, 'l2_leaf_reg': 0.0008705394248343123}. Best is trial 2 with value: 0.7404698133468628.\n"
     ]
    },
    {
     "name": "stdout",
     "output_type": "stream",
     "text": [
      "저장 완료\n"
     ]
    },
    {
     "name": "stderr",
     "output_type": "stream",
     "text": [
      "Default metric period is 5 because AUC is/are not implemented for GPU\n"
     ]
    },
    {
     "name": "stdout",
     "output_type": "stream",
     "text": [
      "0:\ttest: 0.7016709\tbest: 0.7016709 (0)\ttotal: 23.2ms\tremaining: 54.2s\n",
      "300:\ttest: 0.7391387\tbest: 0.7391387 (300)\ttotal: 6.43s\tremaining: 43.4s\n",
      "600:\ttest: 0.7401731\tbest: 0.7402030 (593)\ttotal: 12.1s\tremaining: 34.8s\n",
      "900:\ttest: 0.7404376\tbest: 0.7404461 (897)\ttotal: 17.9s\tremaining: 28.5s\n",
      "1200:\ttest: 0.7405278\tbest: 0.7405338 (1197)\ttotal: 23.6s\tremaining: 22.3s\n",
      "1500:\ttest: 0.7405124\tbest: 0.7406339 (1300)\ttotal: 27.6s\tremaining: 15.3s\n"
     ]
    },
    {
     "name": "stderr",
     "output_type": "stream",
     "text": [
      "[I 2025-02-21 03:01:19,565] Trial 3 finished with value: 0.7406339049339294 and parameters: {'iterations': 2334, 'depth': 4, 'learning_rate': 0.04657568321363276, 'l2_leaf_reg': 0.0008640473331457248}. Best is trial 3 with value: 0.7406339049339294.\n"
     ]
    },
    {
     "name": "stdout",
     "output_type": "stream",
     "text": [
      "bestTest = 0.7406339049\n",
      "bestIteration = 1300\n",
      "Shrink model to first 1301 iterations.\n",
      "저장 완료\n"
     ]
    },
    {
     "name": "stderr",
     "output_type": "stream",
     "text": [
      "Default metric period is 5 because AUC is/are not implemented for GPU\n"
     ]
    },
    {
     "name": "stdout",
     "output_type": "stream",
     "text": [
      "0:\ttest: 0.7272932\tbest: 0.7272932 (0)\ttotal: 82.9ms\tremaining: 2m 24s\n",
      "300:\ttest: 0.7380289\tbest: 0.7380311 (296)\ttotal: 24s\tremaining: 1m 54s\n",
      "600:\ttest: 0.7380550\tbest: 0.7384270 (464)\ttotal: 48.1s\tremaining: 1m 31s\n",
      "bestTest = 0.7384269536\n",
      "bestIteration = 464\n",
      "Shrink model to first 465 iterations.\n"
     ]
    },
    {
     "name": "stderr",
     "output_type": "stream",
     "text": [
      "[I 2025-02-21 03:02:24,322] Trial 4 finished with value: 0.7384269535541534 and parameters: {'iterations': 1742, 'depth': 10, 'learning_rate': 0.012622767482095846, 'l2_leaf_reg': 0.00021158816350109617}. Best is trial 3 with value: 0.7406339049339294.\n",
      "Default metric period is 5 because AUC is/are not implemented for GPU\n"
     ]
    },
    {
     "name": "stdout",
     "output_type": "stream",
     "text": [
      "0:\ttest: 0.7016709\tbest: 0.7016709 (0)\ttotal: 19.6ms\tremaining: 40.8s\n",
      "300:\ttest: 0.7398606\tbest: 0.7398662 (299)\ttotal: 4.73s\tremaining: 28s\n",
      "600:\ttest: 0.7401159\tbest: 0.7401946 (583)\ttotal: 8.74s\tremaining: 21.5s\n",
      "900:\ttest: 0.7403358\tbest: 0.7403988 (871)\ttotal: 12.8s\tremaining: 16.7s\n"
     ]
    },
    {
     "name": "stderr",
     "output_type": "stream",
     "text": [
      "[I 2025-02-21 03:02:44,110] Trial 5 finished with value: 0.7403987944126129 and parameters: {'iterations': 2082, 'depth': 4, 'learning_rate': 0.06995196593094148, 'l2_leaf_reg': 0.0018080296485396804}. Best is trial 3 with value: 0.7406339049339294.\n"
     ]
    },
    {
     "name": "stdout",
     "output_type": "stream",
     "text": [
      "bestTest = 0.7403987944\n",
      "bestIteration = 871\n",
      "Shrink model to first 872 iterations.\n"
     ]
    },
    {
     "name": "stderr",
     "output_type": "stream",
     "text": [
      "Default metric period is 5 because AUC is/are not implemented for GPU\n"
     ]
    },
    {
     "name": "stdout",
     "output_type": "stream",
     "text": [
      "0:\ttest: 0.7055385\tbest: 0.7055385 (0)\ttotal: 23.5ms\tremaining: 46.9s\n",
      "300:\ttest: 0.7404531\tbest: 0.7405109 (278)\ttotal: 6.02s\tremaining: 33.9s\n",
      "600:\ttest: 0.7405335\tbest: 0.7406142 (573)\ttotal: 11.2s\tremaining: 26.1s\n"
     ]
    },
    {
     "name": "stderr",
     "output_type": "stream",
     "text": [
      "[I 2025-02-21 03:03:03,512] Trial 6 finished with value: 0.7406141757965088 and parameters: {'iterations': 1997, 'depth': 5, 'learning_rate': 0.07985155992831598, 'l2_leaf_reg': 62.52181000710482}. Best is trial 3 with value: 0.7406339049339294.\n"
     ]
    },
    {
     "name": "stdout",
     "output_type": "stream",
     "text": [
      "bestTest = 0.7406141758\n",
      "bestIteration = 573\n",
      "Shrink model to first 574 iterations.\n"
     ]
    },
    {
     "name": "stderr",
     "output_type": "stream",
     "text": [
      "Default metric period is 5 because AUC is/are not implemented for GPU\n"
     ]
    },
    {
     "name": "stdout",
     "output_type": "stream",
     "text": [
      "0:\ttest: 0.7227349\tbest: 0.7227349 (0)\ttotal: 33.5ms\tremaining: 1m 4s\n",
      "300:\ttest: 0.7398571\tbest: 0.7403906 (199)\ttotal: 9.22s\tremaining: 49.8s\n"
     ]
    },
    {
     "name": "stderr",
     "output_type": "stream",
     "text": [
      "[I 2025-02-21 03:03:21,641] Trial 7 finished with value: 0.7403906285762787 and parameters: {'iterations': 1927, 'depth': 7, 'learning_rate': 0.0941937211034094, 'l2_leaf_reg': 0.05654822767791934}. Best is trial 3 with value: 0.7406339049339294.\n"
     ]
    },
    {
     "name": "stdout",
     "output_type": "stream",
     "text": [
      "bestTest = 0.7403906286\n",
      "bestIteration = 199\n",
      "Shrink model to first 200 iterations.\n"
     ]
    },
    {
     "name": "stderr",
     "output_type": "stream",
     "text": [
      "Default metric period is 5 because AUC is/are not implemented for GPU\n"
     ]
    },
    {
     "name": "stdout",
     "output_type": "stream",
     "text": [
      "0:\ttest: 0.7227346\tbest: 0.7227346 (0)\ttotal: 34ms\tremaining: 1m 4s\n",
      "300:\ttest: 0.7405671\tbest: 0.7405822 (280)\ttotal: 9.14s\tremaining: 48.7s\n",
      "600:\ttest: 0.7404356\tbest: 0.7406207 (318)\ttotal: 17.5s\tremaining: 38s\n"
     ]
    },
    {
     "name": "stderr",
     "output_type": "stream",
     "text": [
      "[I 2025-02-21 03:03:43,011] Trial 8 finished with value: 0.7406207323074341 and parameters: {'iterations': 1904, 'depth': 7, 'learning_rate': 0.05155602859187331, 'l2_leaf_reg': 1.299974533316308}. Best is trial 3 with value: 0.7406339049339294.\n"
     ]
    },
    {
     "name": "stdout",
     "output_type": "stream",
     "text": [
      "bestTest = 0.7406207323\n",
      "bestIteration = 318\n",
      "Shrink model to first 319 iterations.\n"
     ]
    },
    {
     "name": "stderr",
     "output_type": "stream",
     "text": [
      "Default metric period is 5 because AUC is/are not implemented for GPU\n"
     ]
    },
    {
     "name": "stdout",
     "output_type": "stream",
     "text": [
      "0:\ttest: 0.7204318\tbest: 0.7204318 (0)\ttotal: 22.3ms\tremaining: 59s\n",
      "300:\ttest: 0.7400440\tbest: 0.7400440 (300)\ttotal: 6.53s\tremaining: 50.7s\n",
      "600:\ttest: 0.7402304\tbest: 0.7404317 (397)\ttotal: 13s\tremaining: 44.2s\n"
     ]
    },
    {
     "name": "stderr",
     "output_type": "stream",
     "text": [
      "[I 2025-02-21 03:04:01,490] Trial 9 finished with value: 0.7404316961765289 and parameters: {'iterations': 2639, 'depth': 6, 'learning_rate': 0.03968704290444751, 'l2_leaf_reg': 0.30557194377967184}. Best is trial 3 with value: 0.7406339049339294.\n"
     ]
    },
    {
     "name": "stdout",
     "output_type": "stream",
     "text": [
      "bestTest = 0.7404316962\n",
      "bestIteration = 397\n",
      "Shrink model to first 398 iterations.\n"
     ]
    },
    {
     "name": "stderr",
     "output_type": "stream",
     "text": [
      "Default metric period is 5 because AUC is/are not implemented for GPU\n"
     ]
    },
    {
     "name": "stdout",
     "output_type": "stream",
     "text": [
      "0:\ttest: 0.7248707\tbest: 0.7248707 (0)\ttotal: 45.1ms\tremaining: 2m 12s\n",
      "300:\ttest: 0.7398760\tbest: 0.7399906 (263)\ttotal: 11.9s\tremaining: 1m 44s\n"
     ]
    },
    {
     "name": "stderr",
     "output_type": "stream",
     "text": [
      "[I 2025-02-21 03:04:26,586] Trial 10 finished with value: 0.7399905920028687 and parameters: {'iterations': 2945, 'depth': 8, 'learning_rate': 0.03551513902080894, 'l2_leaf_reg': 0.009609347671836436}. Best is trial 3 with value: 0.7406339049339294.\n"
     ]
    },
    {
     "name": "stdout",
     "output_type": "stream",
     "text": [
      "bestTest = 0.739990592\n",
      "bestIteration = 263\n",
      "Shrink model to first 264 iterations.\n"
     ]
    },
    {
     "name": "stderr",
     "output_type": "stream",
     "text": [
      "Default metric period is 5 because AUC is/are not implemented for GPU\n"
     ]
    },
    {
     "name": "stdout",
     "output_type": "stream",
     "text": [
      "0:\ttest: 0.7248704\tbest: 0.7248704 (0)\ttotal: 47.3ms\tremaining: 1m 17s\n",
      "300:\ttest: 0.7399141\tbest: 0.7401285 (270)\ttotal: 12s\tremaining: 53.7s\n",
      "600:\ttest: 0.7393331\tbest: 0.7403417 (348)\ttotal: 23.5s\tremaining: 40.7s\n"
     ]
    },
    {
     "name": "stderr",
     "output_type": "stream",
     "text": [
      "[I 2025-02-21 03:04:55,244] Trial 11 finished with value: 0.7403416633605957 and parameters: {'iterations': 1645, 'depth': 8, 'learning_rate': 0.05421121796031786, 'l2_leaf_reg': 0.6376696322582283}. Best is trial 3 with value: 0.7406339049339294.\n"
     ]
    },
    {
     "name": "stdout",
     "output_type": "stream",
     "text": [
      "bestTest = 0.7403416634\n",
      "bestIteration = 348\n",
      "Shrink model to first 349 iterations.\n"
     ]
    },
    {
     "name": "stderr",
     "output_type": "stream",
     "text": [
      "Default metric period is 5 because AUC is/are not implemented for GPU\n"
     ]
    },
    {
     "name": "stdout",
     "output_type": "stream",
     "text": [
      "0:\ttest: 0.7204318\tbest: 0.7204318 (0)\ttotal: 29.9ms\tremaining: 1m 10s\n",
      "300:\ttest: 0.7402665\tbest: 0.7402665 (300)\ttotal: 7.2s\tremaining: 49.1s\n",
      "600:\ttest: 0.7398627\tbest: 0.7405333 (382)\ttotal: 13.8s\tremaining: 40.2s\n"
     ]
    },
    {
     "name": "stderr",
     "output_type": "stream",
     "text": [
      "[I 2025-02-21 03:05:14,206] Trial 12 finished with value: 0.740533322095871 and parameters: {'iterations': 2354, 'depth': 6, 'learning_rate': 0.05505787465936693, 'l2_leaf_reg': 0.02442351869606057}. Best is trial 3 with value: 0.7406339049339294.\n"
     ]
    },
    {
     "name": "stdout",
     "output_type": "stream",
     "text": [
      "bestTest = 0.7405333221\n",
      "bestIteration = 382\n",
      "Shrink model to first 383 iterations.\n"
     ]
    },
    {
     "name": "stderr",
     "output_type": "stream",
     "text": [
      "Default metric period is 5 because AUC is/are not implemented for GPU\n"
     ]
    },
    {
     "name": "stdout",
     "output_type": "stream",
     "text": [
      "0:\ttest: 0.7248699\tbest: 0.7248699 (0)\ttotal: 47ms\tremaining: 1m 25s\n",
      "300:\ttest: 0.7402588\tbest: 0.7404385 (280)\ttotal: 12.5s\tremaining: 1m 3s\n",
      "600:\ttest: 0.7402742\tbest: 0.7405871 (399)\ttotal: 23.8s\tremaining: 48.2s\n",
      "bestTest = 0.7405870557\n",
      "bestIteration = 399\n",
      "Shrink model to first 400 iterations.\n"
     ]
    },
    {
     "name": "stderr",
     "output_type": "stream",
     "text": [
      "[I 2025-02-21 03:05:45,175] Trial 13 finished with value: 0.740587055683136 and parameters: {'iterations': 1816, 'depth': 8, 'learning_rate': 0.039348083836476914, 'l2_leaf_reg': 1.3904506094747306}. Best is trial 3 with value: 0.7406339049339294.\n",
      "Default metric period is 5 because AUC is/are not implemented for GPU\n"
     ]
    },
    {
     "name": "stdout",
     "output_type": "stream",
     "text": [
      "0:\ttest: 0.7204318\tbest: 0.7204318 (0)\ttotal: 29.4ms\tremaining: 45s\n",
      "300:\ttest: 0.7403351\tbest: 0.7403421 (296)\ttotal: 8.31s\tremaining: 34s\n",
      "600:\ttest: 0.7398329\tbest: 0.7404778 (342)\ttotal: 14.9s\tremaining: 23.1s\n"
     ]
    },
    {
     "name": "stderr",
     "output_type": "stream",
     "text": [
      "[I 2025-02-21 03:06:04,259] Trial 14 finished with value: 0.7404778003692627 and parameters: {'iterations': 1533, 'depth': 6, 'learning_rate': 0.06308101933412968, 'l2_leaf_reg': 0.0070996374930783175}. Best is trial 3 with value: 0.7406339049339294.\n"
     ]
    },
    {
     "name": "stdout",
     "output_type": "stream",
     "text": [
      "bestTest = 0.7404778004\n",
      "bestIteration = 342\n",
      "Shrink model to first 343 iterations.\n"
     ]
    },
    {
     "name": "stderr",
     "output_type": "stream",
     "text": [
      "Default metric period is 5 because AUC is/are not implemented for GPU\n"
     ]
    },
    {
     "name": "stdout",
     "output_type": "stream",
     "text": [
      "0:\ttest: 0.7264012\tbest: 0.7264012 (0)\ttotal: 63.7ms\tremaining: 2m 55s\n",
      "300:\ttest: 0.7387127\tbest: 0.7389948 (190)\ttotal: 16.3s\tremaining: 2m 13s\n",
      "bestTest = 0.7389948368\n",
      "bestIteration = 190\n",
      "Shrink model to first 191 iterations.\n"
     ]
    },
    {
     "name": "stderr",
     "output_type": "stream",
     "text": [
      "[I 2025-02-21 03:06:34,570] Trial 15 finished with value: 0.738994836807251 and parameters: {'iterations': 2762, 'depth': 9, 'learning_rate': 0.04413446875846874, 'l2_leaf_reg': 0.08416625597719872}. Best is trial 3 with value: 0.7406339049339294.\n",
      "Default metric period is 5 because AUC is/are not implemented for GPU\n"
     ]
    },
    {
     "name": "stdout",
     "output_type": "stream",
     "text": [
      "0:\ttest: 0.7055427\tbest: 0.7055427 (0)\ttotal: 19.9ms\tremaining: 44.3s\n",
      "300:\ttest: 0.7385455\tbest: 0.7385455 (300)\ttotal: 5.38s\tremaining: 34.4s\n",
      "600:\ttest: 0.7400456\tbest: 0.7400457 (594)\ttotal: 10.8s\tremaining: 29.2s\n",
      "900:\ttest: 0.7405348\tbest: 0.7405375 (899)\ttotal: 16.1s\tremaining: 23.7s\n",
      "1200:\ttest: 0.7408443\tbest: 0.7408443 (1200)\ttotal: 21.5s\tremaining: 18.4s\n",
      "1500:\ttest: 0.7410576\tbest: 0.7410763 (1494)\ttotal: 26.9s\tremaining: 13s\n",
      "1800:\ttest: 0.7410574\tbest: 0.7410910 (1546)\ttotal: 32.2s\tremaining: 7.63s\n"
     ]
    },
    {
     "name": "stderr",
     "output_type": "stream",
     "text": [
      "[I 2025-02-21 03:07:11,011] Trial 16 finished with value: 0.7410909533500671 and parameters: {'iterations': 2227, 'depth': 5, 'learning_rate': 0.027198320505425724, 'l2_leaf_reg': 2.3137710520516865}. Best is trial 16 with value: 0.7410909533500671.\n"
     ]
    },
    {
     "name": "stdout",
     "output_type": "stream",
     "text": [
      "bestTest = 0.7410909534\n",
      "bestIteration = 1546\n",
      "Shrink model to first 1547 iterations.\n",
      "저장 완료\n"
     ]
    },
    {
     "name": "stderr",
     "output_type": "stream",
     "text": [
      "Default metric period is 5 because AUC is/are not implemented for GPU\n"
     ]
    },
    {
     "name": "stdout",
     "output_type": "stream",
     "text": [
      "0:\ttest: 0.7055430\tbest: 0.7055430 (0)\ttotal: 23.9ms\tremaining: 53.5s\n",
      "300:\ttest: 0.7383292\tbest: 0.7383292 (300)\ttotal: 5.94s\tremaining: 38.2s\n",
      "600:\ttest: 0.7398224\tbest: 0.7398224 (600)\ttotal: 11.3s\tremaining: 30.7s\n",
      "900:\ttest: 0.7403528\tbest: 0.7403552 (899)\ttotal: 18s\tremaining: 26.7s\n",
      "1200:\ttest: 0.7406673\tbest: 0.7406673 (1200)\ttotal: 23.3s\tremaining: 20.1s\n",
      "1500:\ttest: 0.7408094\tbest: 0.7408405 (1469)\ttotal: 28.7s\tremaining: 14s\n",
      "bestTest = 0.7408404946\n",
      "bestIteration = 1469\n",
      "Shrink model to first 1470 iterations.\n"
     ]
    },
    {
     "name": "stderr",
     "output_type": "stream",
     "text": [
      "[I 2025-02-21 03:07:47,869] Trial 17 finished with value: 0.740840494632721 and parameters: {'iterations': 2237, 'depth': 5, 'learning_rate': 0.02574146298973914, 'l2_leaf_reg': 0.2708864456479575}. Best is trial 16 with value: 0.7410909533500671.\n",
      "Default metric period is 5 because AUC is/are not implemented for GPU\n"
     ]
    },
    {
     "name": "stdout",
     "output_type": "stream",
     "text": [
      "0:\ttest: 0.7055427\tbest: 0.7055427 (0)\ttotal: 22.8ms\tremaining: 48.8s\n",
      "300:\ttest: 0.7384040\tbest: 0.7384040 (300)\ttotal: 6.64s\tremaining: 40.6s\n",
      "600:\ttest: 0.7398985\tbest: 0.7399001 (597)\ttotal: 13.6s\tremaining: 34.8s\n",
      "900:\ttest: 0.7404926\tbest: 0.7404951 (899)\ttotal: 21.1s\tremaining: 29s\n",
      "1200:\ttest: 0.7407374\tbest: 0.7407374 (1200)\ttotal: 28.2s\tremaining: 22.1s\n",
      "1500:\ttest: 0.7409719\tbest: 0.7409889 (1485)\ttotal: 35.3s\tremaining: 15.1s\n",
      "1800:\ttest: 0.7410284\tbest: 0.7410297 (1799)\ttotal: 42.4s\tremaining: 8.02s\n",
      "2100:\ttest: 0.7410012\tbest: 0.7410343 (1841)\ttotal: 49.4s\tremaining: 964ms\n",
      "2141:\ttest: 0.7409622\tbest: 0.7410343 (1841)\ttotal: 50.4s\tremaining: 0us\n",
      "bestTest = 0.7410343289\n",
      "bestIteration = 1841\n",
      "Shrink model to first 1842 iterations.\n"
     ]
    },
    {
     "name": "stderr",
     "output_type": "stream",
     "text": [
      "[I 2025-02-21 03:08:41,737] Trial 18 finished with value: 0.7410343289375305 and parameters: {'iterations': 2142, 'depth': 5, 'learning_rate': 0.025832463870630727, 'l2_leaf_reg': 3.3337894818784077}. Best is trial 16 with value: 0.7410909533500671.\n",
      "Default metric period is 5 because AUC is/are not implemented for GPU\n"
     ]
    },
    {
     "name": "stdout",
     "output_type": "stream",
     "text": [
      "0:\ttest: 0.7055427\tbest: 0.7055427 (0)\ttotal: 30.1ms\tremaining: 1m 16s\n",
      "300:\ttest: 0.7384390\tbest: 0.7384390 (300)\ttotal: 8.76s\tremaining: 1m 5s\n",
      "600:\ttest: 0.7399339\tbest: 0.7399343 (593)\ttotal: 16.5s\tremaining: 53.5s\n",
      "900:\ttest: 0.7405153\tbest: 0.7405166 (899)\ttotal: 23s\tremaining: 42.1s\n",
      "1200:\ttest: 0.7407671\tbest: 0.7407671 (1200)\ttotal: 28.4s\tremaining: 31.9s\n",
      "1500:\ttest: 0.7409574\tbest: 0.7409692 (1495)\ttotal: 33.6s\tremaining: 23.4s\n",
      "1800:\ttest: 0.7410869\tbest: 0.7410913 (1798)\ttotal: 38.9s\tremaining: 16.1s\n",
      "2100:\ttest: 0.7410348\tbest: 0.7410923 (1820)\ttotal: 44.2s\tremaining: 9.41s\n",
      "bestTest = 0.7410922647\n",
      "bestIteration = 1820\n",
      "Shrink model to first 1821 iterations.\n"
     ]
    },
    {
     "name": "stderr",
     "output_type": "stream",
     "text": [
      "[I 2025-02-21 03:09:30,079] Trial 19 finished with value: 0.7410922646522522 and parameters: {'iterations': 2548, 'depth': 5, 'learning_rate': 0.026222184363929167, 'l2_leaf_reg': 7.395511091138712}. Best is trial 19 with value: 0.7410922646522522.\n"
     ]
    },
    {
     "name": "stdout",
     "output_type": "stream",
     "text": [
      "저장 완료\n"
     ]
    },
    {
     "name": "stderr",
     "output_type": "stream",
     "text": [
      "Default metric period is 5 because AUC is/are not implemented for GPU\n"
     ]
    },
    {
     "name": "stdout",
     "output_type": "stream",
     "text": [
      "0:\ttest: 0.7055427\tbest: 0.7055427 (0)\ttotal: 21.3ms\tremaining: 53.9s\n",
      "300:\ttest: 0.7387094\tbest: 0.7387099 (299)\ttotal: 5.79s\tremaining: 42.9s\n",
      "600:\ttest: 0.7400725\tbest: 0.7400773 (594)\ttotal: 11.2s\tremaining: 36.1s\n",
      "900:\ttest: 0.7405830\tbest: 0.7405834 (899)\ttotal: 16.7s\tremaining: 30.2s\n",
      "1200:\ttest: 0.7408174\tbest: 0.7408174 (1200)\ttotal: 22.1s\tremaining: 24.5s\n",
      "1500:\ttest: 0.7409672\tbest: 0.7409830 (1471)\ttotal: 27.5s\tremaining: 18.9s\n",
      "1800:\ttest: 0.7410570\tbest: 0.7410655 (1761)\ttotal: 34.3s\tremaining: 13.9s\n",
      "bestTest = 0.7410655022\n",
      "bestIteration = 1761\n",
      "Shrink model to first 1762 iterations.\n"
     ]
    },
    {
     "name": "stderr",
     "output_type": "stream",
     "text": [
      "[I 2025-02-21 03:10:13,067] Trial 20 finished with value: 0.741065502166748 and parameters: {'iterations': 2533, 'depth': 5, 'learning_rate': 0.02763986251039155, 'l2_leaf_reg': 10.42185028518926}. Best is trial 19 with value: 0.7410922646522522.\n",
      "Default metric period is 5 because AUC is/are not implemented for GPU\n"
     ]
    },
    {
     "name": "stdout",
     "output_type": "stream",
     "text": [
      "0:\ttest: 0.7055427\tbest: 0.7055427 (0)\ttotal: 23.5ms\tremaining: 59.1s\n",
      "300:\ttest: 0.7384925\tbest: 0.7384946 (299)\ttotal: 7.1s\tremaining: 52.2s\n",
      "600:\ttest: 0.7400413\tbest: 0.7400557 (591)\ttotal: 14.4s\tremaining: 45.7s\n",
      "900:\ttest: 0.7406017\tbest: 0.7406046 (899)\ttotal: 21.8s\tremaining: 38.9s\n",
      "1200:\ttest: 0.7408183\tbest: 0.7408183 (1200)\ttotal: 28.9s\tremaining: 31.5s\n",
      "1500:\ttest: 0.7409357\tbest: 0.7409650 (1421)\ttotal: 36s\tremaining: 24.2s\n",
      "1800:\ttest: 0.7410446\tbest: 0.7410446 (1800)\ttotal: 43.1s\tremaining: 17s\n",
      "2100:\ttest: 0.7410306\tbest: 0.7410645 (1841)\ttotal: 50.3s\tremaining: 9.85s\n",
      "bestTest = 0.7410644889\n",
      "bestIteration = 1841\n",
      "Shrink model to first 1842 iterations.\n"
     ]
    },
    {
     "name": "stderr",
     "output_type": "stream",
     "text": [
      "[I 2025-02-21 03:11:07,899] Trial 21 finished with value: 0.7410644888877869 and parameters: {'iterations': 2512, 'depth': 5, 'learning_rate': 0.02677479587896089, 'l2_leaf_reg': 11.383025702436356}. Best is trial 19 with value: 0.7410922646522522.\n",
      "Default metric period is 5 because AUC is/are not implemented for GPU\n"
     ]
    },
    {
     "name": "stdout",
     "output_type": "stream",
     "text": [
      "0:\ttest: 0.7205089\tbest: 0.7205089 (0)\ttotal: 33.5ms\tremaining: 1m 32s\n",
      "300:\ttest: 0.7385894\tbest: 0.7385894 (300)\ttotal: 9.16s\tremaining: 1m 15s\n",
      "600:\ttest: 0.7403235\tbest: 0.7403235 (600)\ttotal: 18.7s\tremaining: 1m 7s\n",
      "900:\ttest: 0.7408631\tbest: 0.7408719 (898)\ttotal: 28.1s\tremaining: 58.1s\n",
      "1200:\ttest: 0.7410350\tbest: 0.7410430 (1179)\ttotal: 37.4s\tremaining: 48.8s\n",
      "1500:\ttest: 0.7410884\tbest: 0.7411020 (1407)\ttotal: 46.3s\tremaining: 39s\n",
      "1800:\ttest: 0.7411086\tbest: 0.7411390 (1730)\ttotal: 55.3s\tremaining: 29.7s\n",
      "2100:\ttest: 0.7411202\tbest: 0.7411399 (1920)\ttotal: 1m 4s\tremaining: 20.4s\n",
      "2400:\ttest: 0.7411075\tbest: 0.7411402 (2184)\ttotal: 1m 13s\tremaining: 11.2s\n",
      "bestTest = 0.7411402464\n",
      "bestIteration = 2184\n",
      "Shrink model to first 2185 iterations.\n"
     ]
    },
    {
     "name": "stderr",
     "output_type": "stream",
     "text": [
      "[I 2025-02-21 03:12:27,278] Trial 22 finished with value: 0.7411402463912964 and parameters: {'iterations': 2767, 'depth': 6, 'learning_rate': 0.019034707158210495, 'l2_leaf_reg': 68.58558645988461}. Best is trial 22 with value: 0.7411402463912964.\n"
     ]
    },
    {
     "name": "stdout",
     "output_type": "stream",
     "text": [
      "저장 완료\n"
     ]
    },
    {
     "name": "stderr",
     "output_type": "stream",
     "text": [
      "Default metric period is 5 because AUC is/are not implemented for GPU\n"
     ]
    },
    {
     "name": "stdout",
     "output_type": "stream",
     "text": [
      "0:\ttest: 0.7205194\tbest: 0.7205194 (0)\ttotal: 33.4ms\tremaining: 1m 35s\n",
      "300:\ttest: 0.7383303\tbest: 0.7383303 (300)\ttotal: 9.14s\tremaining: 1m 18s\n",
      "600:\ttest: 0.7402349\tbest: 0.7402349 (600)\ttotal: 16.2s\tremaining: 1m 1s\n",
      "900:\ttest: 0.7408181\tbest: 0.7408242 (899)\ttotal: 22.9s\tremaining: 50.1s\n",
      "1200:\ttest: 0.7410686\tbest: 0.7410945 (1179)\ttotal: 29.5s\tremaining: 41.1s\n",
      "1500:\ttest: 0.7411250\tbest: 0.7411454 (1480)\ttotal: 36.3s\tremaining: 33.3s\n",
      "1800:\ttest: 0.7411830\tbest: 0.7411928 (1788)\ttotal: 43.2s\tremaining: 25.8s\n",
      "bestTest = 0.7411928177\n",
      "bestIteration = 1788\n",
      "Shrink model to first 1789 iterations.\n"
     ]
    },
    {
     "name": "stderr",
     "output_type": "stream",
     "text": [
      "[I 2025-02-21 03:13:20,546] Trial 23 finished with value: 0.7411928176879883 and parameters: {'iterations': 2876, 'depth': 6, 'learning_rate': 0.017533647467873906, 'l2_leaf_reg': 76.08825155527019}. Best is trial 23 with value: 0.7411928176879883.\n"
     ]
    },
    {
     "name": "stdout",
     "output_type": "stream",
     "text": [
      "저장 완료\n"
     ]
    },
    {
     "name": "stderr",
     "output_type": "stream",
     "text": [
      "Default metric period is 5 because AUC is/are not implemented for GPU\n"
     ]
    },
    {
     "name": "stdout",
     "output_type": "stream",
     "text": [
      "0:\ttest: 0.7229139\tbest: 0.7229139 (0)\ttotal: 28.8ms\tremaining: 1m 24s\n",
      "300:\ttest: 0.7385265\tbest: 0.7385265 (300)\ttotal: 8.58s\tremaining: 1m 14s\n",
      "600:\ttest: 0.7402512\tbest: 0.7402530 (599)\ttotal: 17.1s\tremaining: 1m 6s\n",
      "900:\ttest: 0.7408836\tbest: 0.7408850 (899)\ttotal: 25.6s\tremaining: 57.5s\n",
      "1200:\ttest: 0.7410715\tbest: 0.7410832 (1179)\ttotal: 34.1s\tremaining: 48.9s\n",
      "1500:\ttest: 0.7412189\tbest: 0.7412199 (1493)\ttotal: 42.5s\tremaining: 40.3s\n",
      "1800:\ttest: 0.7412241\tbest: 0.7412652 (1565)\ttotal: 51s\tremaining: 31.8s\n",
      "bestTest = 0.7412651777\n",
      "bestIteration = 1565\n",
      "Shrink model to first 1566 iterations.\n"
     ]
    },
    {
     "name": "stderr",
     "output_type": "stream",
     "text": [
      "[I 2025-02-21 03:14:16,791] Trial 24 finished with value: 0.7412651777267456 and parameters: {'iterations': 2925, 'depth': 7, 'learning_rate': 0.015088056172847347, 'l2_leaf_reg': 56.64802908490342}. Best is trial 24 with value: 0.7412651777267456.\n"
     ]
    },
    {
     "name": "stdout",
     "output_type": "stream",
     "text": [
      "저장 완료\n"
     ]
    },
    {
     "name": "stderr",
     "output_type": "stream",
     "text": [
      "Default metric period is 5 because AUC is/are not implemented for GPU\n"
     ]
    },
    {
     "name": "stdout",
     "output_type": "stream",
     "text": [
      "0:\ttest: 0.7229466\tbest: 0.7229466 (0)\ttotal: 40.8ms\tremaining: 2m 2s\n",
      "300:\ttest: 0.7387508\tbest: 0.7387508 (300)\ttotal: 10.9s\tremaining: 1m 37s\n",
      "600:\ttest: 0.7403109\tbest: 0.7403117 (599)\ttotal: 22s\tremaining: 1m 27s\n",
      "900:\ttest: 0.7408568\tbest: 0.7408769 (880)\ttotal: 30.4s\tremaining: 1m 10s\n",
      "1200:\ttest: 0.7409966\tbest: 0.7410057 (1178)\ttotal: 38.9s\tremaining: 57.9s\n",
      "1500:\ttest: 0.7411429\tbest: 0.7411430 (1499)\ttotal: 47.4s\tremaining: 46.9s\n",
      "1800:\ttest: 0.7411665\tbest: 0.7411928 (1685)\ttotal: 55.9s\tremaining: 36.9s\n",
      "bestTest = 0.7411928177\n",
      "bestIteration = 1685\n",
      "Shrink model to first 1686 iterations.\n"
     ]
    },
    {
     "name": "stderr",
     "output_type": "stream",
     "text": [
      "[I 2025-02-21 03:15:21,344] Trial 25 finished with value: 0.7411928176879883 and parameters: {'iterations': 2989, 'depth': 7, 'learning_rate': 0.01642227761358999, 'l2_leaf_reg': 93.60157325513079}. Best is trial 24 with value: 0.7412651777267456.\n",
      "Default metric period is 5 because AUC is/are not implemented for GPU\n"
     ]
    },
    {
     "name": "stdout",
     "output_type": "stream",
     "text": [
      "0:\ttest: 0.7229418\tbest: 0.7229418 (0)\ttotal: 28.5ms\tremaining: 1m 24s\n",
      "300:\ttest: 0.7341629\tbest: 0.7341629 (300)\ttotal: 8.44s\tremaining: 1m 15s\n",
      "600:\ttest: 0.7372541\tbest: 0.7372541 (600)\ttotal: 16.8s\tremaining: 1m 6s\n",
      "900:\ttest: 0.7387826\tbest: 0.7387826 (900)\ttotal: 26.3s\tremaining: 1m\n",
      "1200:\ttest: 0.7395843\tbest: 0.7395843 (1200)\ttotal: 34.8s\tremaining: 51.6s\n",
      "1500:\ttest: 0.7400858\tbest: 0.7400858 (1500)\ttotal: 43.4s\tremaining: 42.8s\n",
      "1800:\ttest: 0.7404471\tbest: 0.7404485 (1795)\ttotal: 51.9s\tremaining: 34s\n",
      "2100:\ttest: 0.7406489\tbest: 0.7406490 (2099)\ttotal: 1m\tremaining: 25.3s\n",
      "2400:\ttest: 0.7408375\tbest: 0.7408431 (2385)\ttotal: 1m 8s\tremaining: 16.6s\n",
      "2700:\ttest: 0.7409465\tbest: 0.7409477 (2699)\ttotal: 1m 17s\tremaining: 8.04s\n",
      "2979:\ttest: 0.7410064\tbest: 0.7410119 (2947)\ttotal: 1m 25s\tremaining: 0us\n",
      "bestTest = 0.7410119176\n",
      "bestIteration = 2947\n",
      "Shrink model to first 2948 iterations.\n"
     ]
    },
    {
     "name": "stderr",
     "output_type": "stream",
     "text": [
      "[I 2025-02-21 03:16:50,608] Trial 26 finished with value: 0.741011917591095 and parameters: {'iterations': 2980, 'depth': 7, 'learning_rate': 0.005519737783455471, 'l2_leaf_reg': 85.66929807344094}. Best is trial 24 with value: 0.7412651777267456.\n",
      "Default metric period is 5 because AUC is/are not implemented for GPU\n"
     ]
    },
    {
     "name": "stdout",
     "output_type": "stream",
     "text": [
      "0:\ttest: 0.7228793\tbest: 0.7228793 (0)\ttotal: 37.2ms\tremaining: 1m 46s\n",
      "300:\ttest: 0.7384258\tbest: 0.7384258 (300)\ttotal: 9.38s\tremaining: 1m 19s\n",
      "600:\ttest: 0.7399476\tbest: 0.7399483 (599)\ttotal: 18.2s\tremaining: 1m 8s\n",
      "900:\ttest: 0.7404231\tbest: 0.7404244 (899)\ttotal: 27s\tremaining: 58.4s\n",
      "1200:\ttest: 0.7406287\tbest: 0.7406287 (1200)\ttotal: 35.5s\tremaining: 48.7s\n",
      "1500:\ttest: 0.7406804\tbest: 0.7407224 (1418)\ttotal: 44s\tremaining: 39.5s\n",
      "bestTest = 0.7407224178\n",
      "bestIteration = 1418\n",
      "Shrink model to first 1419 iterations.\n"
     ]
    },
    {
     "name": "stderr",
     "output_type": "stream",
     "text": [
      "[I 2025-02-21 03:17:44,216] Trial 27 finished with value: 0.7407224178314209 and parameters: {'iterations': 2849, 'depth': 7, 'learning_rate': 0.016112627219887293, 'l2_leaf_reg': 27.197202783843565}. Best is trial 24 with value: 0.7412651777267456.\n",
      "Default metric period is 5 because AUC is/are not implemented for GPU\n"
     ]
    },
    {
     "name": "stdout",
     "output_type": "stream",
     "text": [
      "0:\ttest: 0.7252970\tbest: 0.7252970 (0)\ttotal: 61.5ms\tremaining: 2m 56s\n",
      "300:\ttest: 0.7398293\tbest: 0.7398293 (300)\ttotal: 16.4s\tremaining: 2m 20s\n",
      "600:\ttest: 0.7405678\tbest: 0.7405710 (599)\ttotal: 32.3s\tremaining: 2m 2s\n",
      "900:\ttest: 0.7407005\tbest: 0.7407737 (784)\ttotal: 48.1s\tremaining: 1m 45s\n",
      "bestTest = 0.7407736778\n",
      "bestIteration = 784\n",
      "Shrink model to first 785 iterations.\n"
     ]
    },
    {
     "name": "stderr",
     "output_type": "stream",
     "text": [
      "[I 2025-02-21 03:18:45,520] Trial 28 finished with value: 0.7407736778259277 and parameters: {'iterations': 2877, 'depth': 9, 'learning_rate': 0.018436329927159444, 'l2_leaf_reg': 32.33841384632552}. Best is trial 24 with value: 0.7412651777267456.\n",
      "Default metric period is 5 because AUC is/are not implemented for GPU\n"
     ]
    },
    {
     "name": "stdout",
     "output_type": "stream",
     "text": [
      "0:\ttest: 0.7227581\tbest: 0.7227581 (0)\ttotal: 35.3ms\tremaining: 1m 35s\n",
      "300:\ttest: 0.7372567\tbest: 0.7372567 (300)\ttotal: 8.96s\tremaining: 1m 11s\n",
      "600:\ttest: 0.7394847\tbest: 0.7394879 (599)\ttotal: 17.4s\tremaining: 1m 1s\n",
      "900:\ttest: 0.7402882\tbest: 0.7402918 (897)\ttotal: 27s\tremaining: 54.2s\n",
      "1200:\ttest: 0.7406207\tbest: 0.7406284 (1195)\ttotal: 35.4s\tremaining: 44.4s\n",
      "1500:\ttest: 0.7408924\tbest: 0.7409008 (1490)\ttotal: 43.7s\tremaining: 35.2s\n",
      "1800:\ttest: 0.7410677\tbest: 0.7410766 (1789)\ttotal: 52.1s\tremaining: 26.3s\n",
      "2100:\ttest: 0.7411205\tbest: 0.7411469 (2074)\ttotal: 1m\tremaining: 17.5s\n",
      "2400:\ttest: 0.7411523\tbest: 0.7411771 (2373)\ttotal: 1m 10s\tremaining: 9s\n",
      "2700:\ttest: 0.7411249\tbest: 0.7411804 (2484)\ttotal: 1m 18s\tremaining: 233ms\n",
      "2708:\ttest: 0.7411299\tbest: 0.7411804 (2484)\ttotal: 1m 18s\tremaining: 0us\n",
      "bestTest = 0.7411803603\n",
      "bestIteration = 2484\n",
      "Shrink model to first 2485 iterations.\n"
     ]
    },
    {
     "name": "stderr",
     "output_type": "stream",
     "text": [
      "[I 2025-02-21 03:20:07,882] Trial 29 finished with value: 0.7411803603172302 and parameters: {'iterations': 2709, 'depth': 7, 'learning_rate': 0.010735273686069406, 'l2_leaf_reg': 21.20535379351786}. Best is trial 24 with value: 0.7412651777267456.\n",
      "Default metric period is 5 because AUC is/are not implemented for GPU\n"
     ]
    },
    {
     "name": "stdout",
     "output_type": "stream",
     "text": [
      "0:\ttest: 0.7253043\tbest: 0.7253043 (0)\ttotal: 62.8ms\tremaining: 3m\n",
      "300:\ttest: 0.7383454\tbest: 0.7383454 (300)\ttotal: 16.1s\tremaining: 2m 17s\n",
      "600:\ttest: 0.7401001\tbest: 0.7401001 (600)\ttotal: 31.8s\tremaining: 2m\n",
      "900:\ttest: 0.7407563\tbest: 0.7407611 (886)\ttotal: 47.7s\tremaining: 1m 44s\n",
      "1200:\ttest: 0.7409911\tbest: 0.7409964 (1199)\ttotal: 1m 3s\tremaining: 1m 28s\n",
      "1500:\ttest: 0.7411439\tbest: 0.7411485 (1497)\ttotal: 1m 19s\tremaining: 1m 12s\n",
      "1800:\ttest: 0.7411513\tbest: 0.7411938 (1772)\ttotal: 1m 35s\tremaining: 56.5s\n",
      "bestTest = 0.7411937714\n",
      "bestIteration = 1772\n",
      "Shrink model to first 1773 iterations.\n"
     ]
    },
    {
     "name": "stderr",
     "output_type": "stream",
     "text": [
      "[I 2025-02-21 03:22:00,942] Trial 30 finished with value: 0.7411937713623047 and parameters: {'iterations': 2870, 'depth': 9, 'learning_rate': 0.010593302754762784, 'l2_leaf_reg': 94.77840665634666}. Best is trial 24 with value: 0.7412651777267456.\n",
      "Default metric period is 5 because AUC is/are not implemented for GPU\n"
     ]
    },
    {
     "name": "stdout",
     "output_type": "stream",
     "text": [
      "0:\ttest: 0.7253035\tbest: 0.7253035 (0)\ttotal: 71.5ms\tremaining: 3m 34s\n",
      "300:\ttest: 0.7386717\tbest: 0.7386717 (300)\ttotal: 19.5s\tremaining: 2m 54s\n",
      "600:\ttest: 0.7403394\tbest: 0.7403394 (600)\ttotal: 35.5s\tremaining: 2m 21s\n",
      "900:\ttest: 0.7409177\tbest: 0.7409236 (895)\ttotal: 51.5s\tremaining: 1m 59s\n",
      "1200:\ttest: 0.7410797\tbest: 0.7411126 (1158)\ttotal: 1m 7s\tremaining: 1m 40s\n",
      "1500:\ttest: 0.7412131\tbest: 0.7412292 (1472)\ttotal: 1m 23s\tremaining: 1m 23s\n",
      "1800:\ttest: 0.7411239\tbest: 0.7412342 (1515)\ttotal: 1m 39s\tremaining: 1m 6s\n",
      "bestTest = 0.7412342429\n",
      "bestIteration = 1515\n",
      "Shrink model to first 1516 iterations.\n"
     ]
    },
    {
     "name": "stderr",
     "output_type": "stream",
     "text": [
      "[I 2025-02-21 03:23:44,918] Trial 31 finished with value: 0.7412342429161072 and parameters: {'iterations': 2997, 'depth': 9, 'learning_rate': 0.011272832032288793, 'l2_leaf_reg': 92.84730887951936}. Best is trial 24 with value: 0.7412651777267456.\n",
      "Default metric period is 5 because AUC is/are not implemented for GPU\n"
     ]
    },
    {
     "name": "stdout",
     "output_type": "stream",
     "text": [
      "0:\ttest: 0.7250387\tbest: 0.7250387 (0)\ttotal: 92.3ms\tremaining: 4m 24s\n",
      "300:\ttest: 0.7362367\tbest: 0.7362367 (300)\ttotal: 24.4s\tremaining: 3m 27s\n",
      "600:\ttest: 0.7385800\tbest: 0.7385800 (600)\ttotal: 48.6s\tremaining: 3m 2s\n",
      "900:\ttest: 0.7394858\tbest: 0.7394858 (900)\ttotal: 1m 12s\tremaining: 2m 38s\n",
      "1200:\ttest: 0.7400969\tbest: 0.7400972 (1199)\ttotal: 1m 37s\tremaining: 2m 14s\n",
      "1500:\ttest: 0.7403576\tbest: 0.7403576 (1500)\ttotal: 2m 1s\tremaining: 1m 50s\n",
      "1800:\ttest: 0.7404891\tbest: 0.7405011 (1790)\ttotal: 2m 26s\tremaining: 1m 26s\n",
      "2100:\ttest: 0.7405588\tbest: 0.7405616 (2068)\ttotal: 2m 50s\tremaining: 1m 1s\n",
      "2400:\ttest: 0.7405158\tbest: 0.7405737 (2149)\ttotal: 3m 14s\tremaining: 37.6s\n",
      "bestTest = 0.7405737042\n",
      "bestIteration = 2149\n",
      "Shrink model to first 2150 iterations.\n"
     ]
    },
    {
     "name": "stderr",
     "output_type": "stream",
     "text": [
      "[I 2025-02-21 03:27:07,540] Trial 32 finished with value: 0.7405737042427063 and parameters: {'iterations': 2864, 'depth': 10, 'learning_rate': 0.005119244932561999, 'l2_leaf_reg': 27.903917359538866}. Best is trial 24 with value: 0.7412651777267456.\n",
      "Default metric period is 5 because AUC is/are not implemented for GPU\n"
     ]
    },
    {
     "name": "stdout",
     "output_type": "stream",
     "text": [
      "0:\ttest: 0.7263948\tbest: 0.7263948 (0)\ttotal: 63.9ms\tremaining: 2m 49s\n",
      "300:\ttest: 0.7382368\tbest: 0.7382368 (300)\ttotal: 16.2s\tremaining: 2m 7s\n",
      "600:\ttest: 0.7399221\tbest: 0.7399237 (595)\ttotal: 32.3s\tremaining: 1m 50s\n",
      "900:\ttest: 0.7404204\tbest: 0.7404384 (887)\ttotal: 48.1s\tremaining: 1m 33s\n",
      "1200:\ttest: 0.7406054\tbest: 0.7406154 (1185)\ttotal: 1m 4s\tremaining: 1m 17s\n",
      "1500:\ttest: 0.7406857\tbest: 0.7407027 (1290)\ttotal: 1m 19s\tremaining: 1m 1s\n",
      "1800:\ttest: 0.7405865\tbest: 0.7407255 (1518)\ttotal: 1m 35s\tremaining: 45.7s\n",
      "bestTest = 0.7407255173\n",
      "bestIteration = 1518\n",
      "Shrink model to first 1519 iterations.\n"
     ]
    },
    {
     "name": "stderr",
     "output_type": "stream",
     "text": [
      "[I 2025-02-21 03:28:47,609] Trial 33 finished with value: 0.7407255172729492 and parameters: {'iterations': 2660, 'depth': 9, 'learning_rate': 0.010586530544568653, 'l2_leaf_reg': 6.663524383911217}. Best is trial 24 with value: 0.7412651777267456.\n",
      "Default metric period is 5 because AUC is/are not implemented for GPU\n"
     ]
    },
    {
     "name": "stdout",
     "output_type": "stream",
     "text": [
      "0:\ttest: 0.7253210\tbest: 0.7253210 (0)\ttotal: 53ms\tremaining: 2m 28s\n",
      "300:\ttest: 0.7382887\tbest: 0.7382887 (300)\ttotal: 15.7s\tremaining: 2m 10s\n",
      "600:\ttest: 0.7400513\tbest: 0.7400513 (600)\ttotal: 31.4s\tremaining: 1m 55s\n",
      "900:\ttest: 0.7406509\tbest: 0.7406536 (897)\ttotal: 47.2s\tremaining: 1m 40s\n",
      "1200:\ttest: 0.7408904\tbest: 0.7408908 (1194)\ttotal: 1m 3s\tremaining: 1m 24s\n",
      "1500:\ttest: 0.7411188\tbest: 0.7411239 (1490)\ttotal: 1m 18s\tremaining: 1m 8s\n",
      "1800:\ttest: 0.7410989\tbest: 0.7411607 (1688)\ttotal: 1m 34s\tremaining: 53.1s\n",
      "bestTest = 0.7411606908\n",
      "bestIteration = 1688\n",
      "Shrink model to first 1689 iterations.\n"
     ]
    },
    {
     "name": "stderr",
     "output_type": "stream",
     "text": [
      "[I 2025-02-21 03:30:35,803] Trial 34 finished with value: 0.7411606907844543 and parameters: {'iterations': 2811, 'depth': 9, 'learning_rate': 0.010319059725458223, 'l2_leaf_reg': 43.703651787045615}. Best is trial 24 with value: 0.7412651777267456.\n",
      "Default metric period is 5 because AUC is/are not implemented for GPU\n"
     ]
    },
    {
     "name": "stdout",
     "output_type": "stream",
     "text": [
      "0:\ttest: 0.7248683\tbest: 0.7248683 (0)\ttotal: 46.9ms\tremaining: 2m 17s\n",
      "300:\ttest: 0.7398221\tbest: 0.7398221 (300)\ttotal: 11.7s\tremaining: 1m 42s\n",
      "600:\ttest: 0.7407190\tbest: 0.7407349 (576)\ttotal: 22.9s\tremaining: 1m 29s\n",
      "900:\ttest: 0.7410066\tbest: 0.7410296 (878)\ttotal: 34.1s\tremaining: 1m 17s\n",
      "1200:\ttest: 0.7410227\tbest: 0.7410613 (1088)\ttotal: 45.3s\tremaining: 1m 5s\n",
      "bestTest = 0.7410612702\n",
      "bestIteration = 1088\n",
      "Shrink model to first 1089 iterations.\n"
     ]
    },
    {
     "name": "stderr",
     "output_type": "stream",
     "text": [
      "[I 2025-02-21 03:31:31,598] Trial 35 finished with value: 0.741061270236969 and parameters: {'iterations': 2934, 'depth': 8, 'learning_rate': 0.019867581290886463, 'l2_leaf_reg': 18.131647468298933}. Best is trial 24 with value: 0.7412651777267456.\n",
      "Default metric period is 5 because AUC is/are not implemented for GPU\n"
     ]
    },
    {
     "name": "stdout",
     "output_type": "stream",
     "text": [
      "0:\ttest: 0.7252716\tbest: 0.7252716 (0)\ttotal: 81.4ms\tremaining: 3m 18s\n",
      "300:\ttest: 0.7379619\tbest: 0.7379619 (300)\ttotal: 24s\tremaining: 2m 50s\n",
      "600:\ttest: 0.7397158\tbest: 0.7397158 (600)\ttotal: 48.1s\tremaining: 2m 26s\n",
      "900:\ttest: 0.7403331\tbest: 0.7403350 (896)\ttotal: 1m 12s\tremaining: 2m 3s\n",
      "1200:\ttest: 0.7406212\tbest: 0.7406220 (1199)\ttotal: 1m 36s\tremaining: 1m 39s\n",
      "1500:\ttest: 0.7406973\tbest: 0.7407315 (1438)\ttotal: 2m 1s\tremaining: 1m 15s\n",
      "bestTest = 0.7407314777\n",
      "bestIteration = 1438\n",
      "Shrink model to first 1439 iterations.\n"
     ]
    },
    {
     "name": "stderr",
     "output_type": "stream",
     "text": [
      "[I 2025-02-21 03:33:55,516] Trial 36 finished with value: 0.7407314777374268 and parameters: {'iterations': 2439, 'depth': 10, 'learning_rate': 0.008695931029819033, 'l2_leaf_reg': 95.35583942428445}. Best is trial 24 with value: 0.7412651777267456.\n",
      "Default metric period is 5 because AUC is/are not implemented for GPU\n"
     ]
    },
    {
     "name": "stdout",
     "output_type": "stream",
     "text": [
      "0:\ttest: 0.7248578\tbest: 0.7248578 (0)\ttotal: 47.1ms\tremaining: 2m 4s\n",
      "300:\ttest: 0.7386523\tbest: 0.7386523 (300)\ttotal: 11.7s\tremaining: 1m 30s\n",
      "600:\ttest: 0.7402721\tbest: 0.7402728 (597)\ttotal: 22.8s\tremaining: 1m 17s\n",
      "900:\ttest: 0.7408012\tbest: 0.7408095 (896)\ttotal: 34.2s\tremaining: 1m 5s\n",
      "1200:\ttest: 0.7410443\tbest: 0.7410443 (1200)\ttotal: 45.4s\tremaining: 54.3s\n",
      "1500:\ttest: 0.7410148\tbest: 0.7410753 (1246)\ttotal: 56.6s\tremaining: 42.9s\n",
      "bestTest = 0.7410752773\n",
      "bestIteration = 1246\n",
      "Shrink model to first 1247 iterations.\n"
     ]
    },
    {
     "name": "stderr",
     "output_type": "stream",
     "text": [
      "[I 2025-02-21 03:34:57,250] Trial 37 finished with value: 0.7410752773284912 and parameters: {'iterations': 2639, 'depth': 8, 'learning_rate': 0.013264857989617625, 'l2_leaf_reg': 38.300241564294424}. Best is trial 24 with value: 0.7412651777267456.\n",
      "Default metric period is 5 because AUC is/are not implemented for GPU\n"
     ]
    },
    {
     "name": "stdout",
     "output_type": "stream",
     "text": [
      "0:\ttest: 0.7263874\tbest: 0.7263874 (0)\ttotal: 53.1ms\tremaining: 2m 34s\n",
      "300:\ttest: 0.7399939\tbest: 0.7399939 (300)\ttotal: 15.9s\tremaining: 2m 18s\n",
      "600:\ttest: 0.7405557\tbest: 0.7406118 (531)\ttotal: 31.8s\tremaining: 2m 2s\n",
      "900:\ttest: 0.7405385\tbest: 0.7407112 (707)\ttotal: 47.7s\tremaining: 1m 46s\n",
      "bestTest = 0.7407112122\n",
      "bestIteration = 707\n",
      "Shrink model to first 708 iterations.\n"
     ]
    },
    {
     "name": "stderr",
     "output_type": "stream",
     "text": [
      "[I 2025-02-21 03:35:54,073] Trial 38 finished with value: 0.7407112121582031 and parameters: {'iterations': 2915, 'depth': 9, 'learning_rate': 0.02068813231282979, 'l2_leaf_reg': 13.439327891857674}. Best is trial 24 with value: 0.7412651777267456.\n",
      "Default metric period is 5 because AUC is/are not implemented for GPU\n"
     ]
    },
    {
     "name": "stdout",
     "output_type": "stream",
     "text": [
      "0:\ttest: 0.7273038\tbest: 0.7273038 (0)\ttotal: 92.6ms\tremaining: 4m 13s\n",
      "300:\ttest: 0.7359385\tbest: 0.7359385 (300)\ttotal: 24.4s\tremaining: 3m 17s\n",
      "600:\ttest: 0.7382083\tbest: 0.7382083 (600)\ttotal: 48.6s\tremaining: 2m 53s\n",
      "900:\ttest: 0.7391801\tbest: 0.7391801 (900)\ttotal: 1m 12s\tremaining: 2m 28s\n",
      "1200:\ttest: 0.7397266\tbest: 0.7397266 (1200)\ttotal: 1m 37s\tremaining: 2m 4s\n",
      "1500:\ttest: 0.7399551\tbest: 0.7399570 (1496)\ttotal: 2m 1s\tremaining: 1m 40s\n",
      "1800:\ttest: 0.7401195\tbest: 0.7401348 (1750)\ttotal: 2m 25s\tremaining: 1m 16s\n",
      "2100:\ttest: 0.7402145\tbest: 0.7402456 (1972)\ttotal: 2m 50s\tremaining: 52.2s\n",
      "bestTest = 0.7402456403\n",
      "bestIteration = 1972\n",
      "Shrink model to first 1973 iterations.\n"
     ]
    },
    {
     "name": "stderr",
     "output_type": "stream",
     "text": [
      "[I 2025-02-21 03:39:02,481] Trial 39 finished with value: 0.7402456402778625 and parameters: {'iterations': 2744, 'depth': 10, 'learning_rate': 0.005003886095192122, 'l2_leaf_reg': 4.4429605059055195}. Best is trial 24 with value: 0.7412651777267456.\n",
      "[I 2025-02-21 03:39:02,488] A new study created in memory with name: no-name-4ad9736e-153a-499d-99bf-eae832e0e7c4\n",
      "[I 2025-02-21 03:39:18,020] Trial 0 finished with value: 0.7307881376076998 and parameters: {'num_iterations': 2366, 'objective': 'binary', 'metric': 'auc', 'verbose': -1, 'learning_rate': 0.0652646236447618, 'n_estimators': 236, 'min_child_samples': 45, 'subsample': 0.7, 'colsample_bytree': 0.5}. Best is trial 0 with value: 0.7307881376076998.\n",
      "[I 2025-02-21 03:39:30,049] Trial 1 finished with value: 0.7406597934823698 and parameters: {'num_iterations': 1510, 'objective': 'binary', 'metric': 'auc', 'verbose': -1, 'learning_rate': 0.005231880959249543, 'n_estimators': 1411, 'min_child_samples': 10, 'subsample': 1.0, 'colsample_bytree': 0.5}. Best is trial 1 with value: 0.7406597934823698.\n",
      "[I 2025-02-21 03:39:41,345] Trial 2 finished with value: 0.740731916866182 and parameters: {'num_iterations': 2334, 'objective': 'binary', 'metric': 'auc', 'verbose': -1, 'learning_rate': 0.006578527777128852, 'n_estimators': 931, 'min_child_samples': 15, 'subsample': 0.5, 'colsample_bytree': 1.0}. Best is trial 2 with value: 0.740731916866182.\n",
      "[I 2025-02-21 03:39:52,256] Trial 3 finished with value: 0.7407105188858162 and parameters: {'num_iterations': 1620, 'objective': 'binary', 'metric': 'auc', 'verbose': -1, 'learning_rate': 0.0058823249237283685, 'n_estimators': 837, 'min_child_samples': 10, 'subsample': 0.9, 'colsample_bytree': 0.6}. Best is trial 2 with value: 0.740731916866182.\n",
      "[I 2025-02-21 03:40:01,717] Trial 4 finished with value: 0.7404833881986974 and parameters: {'num_iterations': 1997, 'objective': 'binary', 'metric': 'auc', 'verbose': -1, 'learning_rate': 0.010907507425244923, 'n_estimators': 1597, 'min_child_samples': 50, 'subsample': 0.6, 'colsample_bytree': 0.8}. Best is trial 2 with value: 0.740731916866182.\n",
      "[I 2025-02-21 03:40:14,224] Trial 5 finished with value: 0.737201170692281 and parameters: {'num_iterations': 2909, 'objective': 'binary', 'metric': 'auc', 'verbose': -1, 'learning_rate': 0.019760591962733942, 'n_estimators': 612, 'min_child_samples': 30, 'subsample': 0.7, 'colsample_bytree': 0.9}. Best is trial 2 with value: 0.740731916866182.\n",
      "[I 2025-02-21 03:40:25,333] Trial 6 finished with value: 0.7384220308936329 and parameters: {'num_iterations': 2639, 'objective': 'binary', 'metric': 'auc', 'verbose': -1, 'learning_rate': 0.017862094446750985, 'n_estimators': 794, 'min_child_samples': 35, 'subsample': 1.0, 'colsample_bytree': 0.8}. Best is trial 2 with value: 0.740731916866182.\n",
      "[I 2025-02-21 03:40:36,025] Trial 7 finished with value: 0.7402155540978228 and parameters: {'num_iterations': 1580, 'objective': 'binary', 'metric': 'auc', 'verbose': -1, 'learning_rate': 0.01776722177611332, 'n_estimators': 529, 'min_child_samples': 25, 'subsample': 0.8, 'colsample_bytree': 0.5}. Best is trial 2 with value: 0.740731916866182.\n",
      "[I 2025-02-21 03:40:45,937] Trial 8 finished with value: 0.7373127308437668 and parameters: {'num_iterations': 1911, 'objective': 'binary', 'metric': 'auc', 'verbose': -1, 'learning_rate': 0.0304747553332844, 'n_estimators': 1328, 'min_child_samples': 10, 'subsample': 0.7, 'colsample_bytree': 0.6}. Best is trial 2 with value: 0.740731916866182.\n",
      "[I 2025-02-21 03:41:03,448] Trial 9 finished with value: 0.7366546665119796 and parameters: {'num_iterations': 2739, 'objective': 'binary', 'metric': 'auc', 'verbose': -1, 'learning_rate': 0.02691531614176271, 'n_estimators': 1438, 'min_child_samples': 20, 'subsample': 0.6, 'colsample_bytree': 0.5}. Best is trial 2 with value: 0.740731916866182.\n",
      "[I 2025-02-21 03:41:13,986] Trial 10 finished with value: 0.7405320964980381 and parameters: {'num_iterations': 2334, 'objective': 'binary', 'metric': 'auc', 'verbose': -1, 'learning_rate': 0.007630609716045009, 'n_estimators': 1917, 'min_child_samples': 20, 'subsample': 0.5, 'colsample_bytree': 1.0}. Best is trial 2 with value: 0.740731916866182.\n",
      "[I 2025-02-21 03:41:24,415] Trial 11 finished with value: 0.7407629159444369 and parameters: {'num_iterations': 2009, 'objective': 'binary', 'metric': 'auc', 'verbose': -1, 'learning_rate': 0.005637168073461898, 'n_estimators': 1002, 'min_child_samples': 10, 'subsample': 0.9, 'colsample_bytree': 0.7}. Best is trial 11 with value: 0.7407629159444369.\n",
      "[I 2025-02-21 03:41:37,870] Trial 12 finished with value: 0.7405702547075974 and parameters: {'num_iterations': 2082, 'objective': 'binary', 'metric': 'auc', 'verbose': -1, 'learning_rate': 0.009303222125489577, 'n_estimators': 1042, 'min_child_samples': 15, 'subsample': 0.9, 'colsample_bytree': 0.7}. Best is trial 11 with value: 0.7407629159444369.\n",
      "[I 2025-02-21 03:41:50,684] Trial 13 finished with value: 0.7407773533273669 and parameters: {'num_iterations': 2482, 'objective': 'binary', 'metric': 'auc', 'verbose': -1, 'learning_rate': 0.0052484314638887785, 'n_estimators': 1090, 'min_child_samples': 20, 'subsample': 0.5, 'colsample_bytree': 1.0}. Best is trial 13 with value: 0.7407773533273669.\n",
      "[I 2025-02-21 03:42:04,323] Trial 14 finished with value: 0.7409031245331724 and parameters: {'num_iterations': 2558, 'objective': 'binary', 'metric': 'auc', 'verbose': -1, 'learning_rate': 0.005143193798336225, 'n_estimators': 1213, 'min_child_samples': 35, 'subsample': 0.9, 'colsample_bytree': 0.7}. Best is trial 14 with value: 0.7409031245331724.\n",
      "[I 2025-02-21 03:42:16,108] Trial 15 finished with value: 0.7396321821781086 and parameters: {'num_iterations': 2613, 'objective': 'binary', 'metric': 'auc', 'verbose': -1, 'learning_rate': 0.010133607361198385, 'n_estimators': 1188, 'min_child_samples': 35, 'subsample': 0.8, 'colsample_bytree': 0.9}. Best is trial 14 with value: 0.7409031245331724.\n",
      "[I 2025-02-21 03:42:31,129] Trial 16 finished with value: 0.7409374828044853 and parameters: {'num_iterations': 2544, 'objective': 'binary', 'metric': 'auc', 'verbose': -1, 'learning_rate': 0.005174636622270037, 'n_estimators': 1710, 'min_child_samples': 40, 'subsample': 0.6, 'colsample_bytree': 0.9}. Best is trial 16 with value: 0.7409374828044853.\n",
      "[I 2025-02-21 03:42:46,244] Trial 17 finished with value: 0.7392864592698755 and parameters: {'num_iterations': 2961, 'objective': 'binary', 'metric': 'auc', 'verbose': -1, 'learning_rate': 0.012337364409926362, 'n_estimators': 1824, 'min_child_samples': 40, 'subsample': 0.6, 'colsample_bytree': 0.9}. Best is trial 16 with value: 0.7409374828044853.\n",
      "[I 2025-02-21 03:42:59,408] Trial 18 finished with value: 0.7406366722280239 and parameters: {'num_iterations': 2773, 'objective': 'binary', 'metric': 'auc', 'verbose': -1, 'learning_rate': 0.008012226478587663, 'n_estimators': 1651, 'min_child_samples': 40, 'subsample': 0.8, 'colsample_bytree': 0.8}. Best is trial 16 with value: 0.7409374828044853.\n",
      "[I 2025-02-21 03:43:11,805] Trial 19 finished with value: 0.7407445595029392 and parameters: {'num_iterations': 2510, 'objective': 'binary', 'metric': 'auc', 'verbose': -1, 'learning_rate': 0.007499100746663171, 'n_estimators': 1670, 'min_child_samples': 50, 'subsample': 0.9, 'colsample_bytree': 0.7}. Best is trial 16 with value: 0.7409374828044853.\n",
      "[I 2025-02-21 03:43:26,302] Trial 20 finished with value: 0.740862425090094 and parameters: {'num_iterations': 2179, 'objective': 'binary', 'metric': 'auc', 'verbose': -1, 'learning_rate': 0.005177685835279014, 'n_estimators': 1987, 'min_child_samples': 30, 'subsample': 0.6, 'colsample_bytree': 0.6}. Best is trial 16 with value: 0.7409374828044853.\n",
      "[I 2025-02-21 03:43:43,859] Trial 21 finished with value: 0.7409175897108441 and parameters: {'num_iterations': 2188, 'objective': 'binary', 'metric': 'auc', 'verbose': -1, 'learning_rate': 0.005147108083487892, 'n_estimators': 1977, 'min_child_samples': 30, 'subsample': 0.6, 'colsample_bytree': 0.6}. Best is trial 16 with value: 0.7409374828044853.\n",
      "[I 2025-02-21 03:43:55,668] Trial 22 finished with value: 0.7408178939433503 and parameters: {'num_iterations': 1798, 'objective': 'binary', 'metric': 'auc', 'verbose': -1, 'learning_rate': 0.0071551735056598524, 'n_estimators': 1725, 'min_child_samples': 35, 'subsample': 0.7, 'colsample_bytree': 0.6}. Best is trial 16 with value: 0.7409374828044853.\n",
      "[I 2025-02-21 03:44:05,871] Trial 23 finished with value: 0.7401539252143088 and parameters: {'num_iterations': 2176, 'objective': 'binary', 'metric': 'auc', 'verbose': -1, 'learning_rate': 0.013036251673916727, 'n_estimators': 1833, 'min_child_samples': 40, 'subsample': 0.6, 'colsample_bytree': 0.7}. Best is trial 16 with value: 0.7409374828044853.\n",
      "[I 2025-02-21 03:44:18,920] Trial 24 finished with value: 0.740925944016038 and parameters: {'num_iterations': 2440, 'objective': 'binary', 'metric': 'auc', 'verbose': -1, 'learning_rate': 0.00503742968496922, 'n_estimators': 1518, 'min_child_samples': 45, 'subsample': 0.5, 'colsample_bytree': 0.8}. Best is trial 16 with value: 0.7409374828044853.\n",
      "[I 2025-02-21 03:44:30,239] Trial 25 finished with value: 0.7406130506683289 and parameters: {'num_iterations': 2426, 'objective': 'binary', 'metric': 'auc', 'verbose': -1, 'learning_rate': 0.008883021712741569, 'n_estimators': 1497, 'min_child_samples': 45, 'subsample': 0.5, 'colsample_bytree': 0.9}. Best is trial 16 with value: 0.7409374828044853.\n",
      "[I 2025-02-21 03:44:42,552] Trial 26 finished with value: 0.740954159649454 and parameters: {'num_iterations': 2214, 'objective': 'binary', 'metric': 'auc', 'verbose': -1, 'learning_rate': 0.006560862459482555, 'n_estimators': 1965, 'min_child_samples': 45, 'subsample': 0.5, 'colsample_bytree': 0.8}. Best is trial 26 with value: 0.740954159649454.\n",
      "[I 2025-02-21 03:44:55,796] Trial 27 finished with value: 0.7407124605470519 and parameters: {'num_iterations': 2743, 'objective': 'binary', 'metric': 'auc', 'verbose': -1, 'learning_rate': 0.006891511054496665, 'n_estimators': 1785, 'min_child_samples': 45, 'subsample': 0.5, 'colsample_bytree': 0.8}. Best is trial 26 with value: 0.740954159649454.\n",
      "[I 2025-02-21 03:45:06,459] Trial 28 finished with value: 0.7406194593416098 and parameters: {'num_iterations': 2268, 'objective': 'binary', 'metric': 'auc', 'verbose': -1, 'learning_rate': 0.008700119132566632, 'n_estimators': 1522, 'min_child_samples': 50, 'subsample': 0.5, 'colsample_bytree': 0.9}. Best is trial 26 with value: 0.740954159649454.\n",
      "[I 2025-02-21 03:45:18,172] Trial 29 finished with value: 0.7408800548976324 and parameters: {'num_iterations': 2406, 'objective': 'binary', 'metric': 'auc', 'verbose': -1, 'learning_rate': 0.006537389057360071, 'n_estimators': 315, 'min_child_samples': 45, 'subsample': 0.5, 'colsample_bytree': 0.8}. Best is trial 26 with value: 0.740954159649454.\n",
      "[I 2025-02-21 03:45:29,967] Trial 30 finished with value: 0.7286187739073988 and parameters: {'num_iterations': 2831, 'objective': 'binary', 'metric': 'auc', 'verbose': -1, 'learning_rate': 0.06335506478822968, 'n_estimators': 104, 'min_child_samples': 40, 'subsample': 0.6, 'colsample_bytree': 0.9}. Best is trial 26 with value: 0.740954159649454.\n",
      "[I 2025-02-21 03:45:42,013] Trial 31 finished with value: 0.7409890142554385 and parameters: {'num_iterations': 2247, 'objective': 'binary', 'metric': 'auc', 'verbose': -1, 'learning_rate': 0.006172852358525382, 'n_estimators': 1988, 'min_child_samples': 45, 'subsample': 0.6, 'colsample_bytree': 0.8}. Best is trial 31 with value: 0.7409890142554385.\n",
      "[I 2025-02-21 03:45:53,777] Trial 32 finished with value: 0.7409334843323702 and parameters: {'num_iterations': 2369, 'objective': 'binary', 'metric': 'auc', 'verbose': -1, 'learning_rate': 0.006662523374091374, 'n_estimators': 1869, 'min_child_samples': 45, 'subsample': 0.7, 'colsample_bytree': 0.8}. Best is trial 31 with value: 0.7409890142554385.\n",
      "[I 2025-02-21 03:46:05,252] Trial 33 finished with value: 0.7410632460689361 and parameters: {'num_iterations': 2276, 'objective': 'binary', 'metric': 'auc', 'verbose': -1, 'learning_rate': 0.006441475699014167, 'n_estimators': 1915, 'min_child_samples': 45, 'subsample': 0.7, 'colsample_bytree': 0.8}. Best is trial 33 with value: 0.7410632460689361.\n",
      "[I 2025-02-21 03:46:16,604] Trial 34 finished with value: 0.7406301960532277 and parameters: {'num_iterations': 2282, 'objective': 'binary', 'metric': 'auc', 'verbose': -1, 'learning_rate': 0.0063984728447244255, 'n_estimators': 1979, 'min_child_samples': 50, 'subsample': 0.7, 'colsample_bytree': 0.9}. Best is trial 33 with value: 0.7410632460689361.\n",
      "[I 2025-02-21 03:46:27,449] Trial 35 finished with value: 0.7408868050491674 and parameters: {'num_iterations': 2113, 'objective': 'binary', 'metric': 'auc', 'verbose': -1, 'learning_rate': 0.006234944094693082, 'n_estimators': 1756, 'min_child_samples': 40, 'subsample': 0.6, 'colsample_bytree': 1.0}. Best is trial 33 with value: 0.7410632460689361.\n",
      "[I 2025-02-21 03:46:37,131] Trial 36 finished with value: 0.7408988282602543 and parameters: {'num_iterations': 1839, 'objective': 'binary', 'metric': 'auc', 'verbose': -1, 'learning_rate': 0.008348836727109453, 'n_estimators': 1614, 'min_child_samples': 50, 'subsample': 0.6, 'colsample_bytree': 0.8}. Best is trial 33 with value: 0.7410632460689361.\n",
      "[I 2025-02-21 03:46:46,750] Trial 37 finished with value: 0.740578287387924 and parameters: {'num_iterations': 2071, 'objective': 'binary', 'metric': 'auc', 'verbose': -1, 'learning_rate': 0.010996556455270512, 'n_estimators': 1877, 'min_child_samples': 45, 'subsample': 0.7, 'colsample_bytree': 0.8}. Best is trial 33 with value: 0.7410632460689361.\n",
      "[I 2025-02-21 03:46:58,529] Trial 38 finished with value: 0.7409389876912098 and parameters: {'num_iterations': 2294, 'objective': 'binary', 'metric': 'auc', 'verbose': -1, 'learning_rate': 0.006115609409955998, 'n_estimators': 1739, 'min_child_samples': 40, 'subsample': 0.6, 'colsample_bytree': 0.9}. Best is trial 33 with value: 0.7410632460689361.\n",
      "[I 2025-02-21 03:47:10,442] Trial 39 finished with value: 0.7409000075514343 and parameters: {'num_iterations': 2224, 'objective': 'binary', 'metric': 'auc', 'verbose': -1, 'learning_rate': 0.006113827117939831, 'n_estimators': 1313, 'min_child_samples': 50, 'subsample': 0.8, 'colsample_bytree': 0.7}. Best is trial 33 with value: 0.7410632460689361.\n"
     ]
    },
    {
     "name": "stdout",
     "output_type": "stream",
     "text": [
      "Cat val score : 0.7412651510427011\n",
      "LGBM val score : 0.7409247369301163\n",
      "Ensemble val score : 0.7414238034278366\n"
     ]
    },
    {
     "name": "stderr",
     "output_type": "stream",
     "text": [
      "[I 2025-02-21 03:47:24,752] A new study created in memory with name: no-name-6bf4aaed-e3b9-406e-85ce-408ce69f9247\n"
     ]
    },
    {
     "name": "stdout",
     "output_type": "stream",
     "text": [
      "==================================================\n"
     ]
    },
    {
     "name": "stderr",
     "output_type": "stream",
     "text": [
      "Default metric period is 5 because AUC is/are not implemented for GPU\n"
     ]
    },
    {
     "name": "stdout",
     "output_type": "stream",
     "text": [
      "0:\ttest: 0.7205257\tbest: 0.7205257 (0)\ttotal: 79.1ms\tremaining: 3m 7s\n",
      "300:\ttest: 0.7340196\tbest: 0.7340196 (300)\ttotal: 24.1s\tremaining: 2m 45s\n",
      "600:\ttest: 0.7354320\tbest: 0.7354320 (600)\ttotal: 48.4s\tremaining: 2m 22s\n",
      "900:\ttest: 0.7357762\tbest: 0.7357813 (899)\ttotal: 1m 12s\tremaining: 1m 57s\n",
      "1200:\ttest: 0.7357444\tbest: 0.7358444 (1108)\ttotal: 1m 36s\tremaining: 1m 33s\n",
      "bestTest = 0.7358444333\n",
      "bestIteration = 1108\n",
      "Shrink model to first 1109 iterations.\n"
     ]
    },
    {
     "name": "stderr",
     "output_type": "stream",
     "text": [
      "[I 2025-02-21 03:49:20,784] Trial 0 finished with value: 0.7358444333076477 and parameters: {'iterations': 2366, 'depth': 10, 'learning_rate': 0.01181021951839225, 'l2_leaf_reg': 9.980783802743254}. Best is trial 0 with value: 0.7358444333076477.\n"
     ]
    },
    {
     "name": "stdout",
     "output_type": "stream",
     "text": [
      "저장 완료\n"
     ]
    },
    {
     "name": "stderr",
     "output_type": "stream",
     "text": [
      "Default metric period is 5 because AUC is/are not implemented for GPU\n"
     ]
    },
    {
     "name": "stdout",
     "output_type": "stream",
     "text": [
      "0:\ttest: 0.6969406\tbest: 0.6969406 (0)\ttotal: 20ms\tremaining: 43.9s\n",
      "300:\ttest: 0.7233505\tbest: 0.7233505 (300)\ttotal: 5.62s\tremaining: 35.3s\n",
      "600:\ttest: 0.7282651\tbest: 0.7282651 (600)\ttotal: 11.3s\tremaining: 29.9s\n",
      "900:\ttest: 0.7304334\tbest: 0.7304334 (900)\ttotal: 16.9s\tremaining: 24.2s\n",
      "1200:\ttest: 0.7317460\tbest: 0.7317460 (1200)\ttotal: 22.5s\tremaining: 18.6s\n",
      "1500:\ttest: 0.7325480\tbest: 0.7325480 (1500)\ttotal: 28.2s\tremaining: 13s\n",
      "1800:\ttest: 0.7330678\tbest: 0.7330678 (1800)\ttotal: 33.8s\tremaining: 7.36s\n",
      "2100:\ttest: 0.7334488\tbest: 0.7334488 (2100)\ttotal: 39.3s\tremaining: 1.72s\n"
     ]
    },
    {
     "name": "stderr",
     "output_type": "stream",
     "text": [
      "[I 2025-02-21 03:50:05,158] Trial 1 finished with value: 0.7335624992847443 and parameters: {'iterations': 2193, 'depth': 4, 'learning_rate': 0.005671430811678843, 'l2_leaf_reg': 0.00012325230809466137}. Best is trial 0 with value: 0.7358444333076477.\n"
     ]
    },
    {
     "name": "stdout",
     "output_type": "stream",
     "text": [
      "2192:\ttest: 0.7335625\tbest: 0.7335625 (2192)\ttotal: 41s\tremaining: 0us\n",
      "bestTest = 0.7335624993\n",
      "bestIteration = 2192\n"
     ]
    },
    {
     "name": "stderr",
     "output_type": "stream",
     "text": [
      "Default metric period is 5 because AUC is/are not implemented for GPU\n"
     ]
    },
    {
     "name": "stdout",
     "output_type": "stream",
     "text": [
      "0:\ttest: 0.6969406\tbest: 0.6969406 (0)\ttotal: 19ms\tremaining: 48.2s\n",
      "300:\ttest: 0.7349599\tbest: 0.7349599 (300)\ttotal: 5.59s\tremaining: 41.5s\n",
      "600:\ttest: 0.7352200\tbest: 0.7352200 (600)\ttotal: 11.2s\tremaining: 36.1s\n",
      "900:\ttest: 0.7345373\tbest: 0.7352369 (683)\ttotal: 16.5s\tremaining: 29.9s\n",
      "bestTest = 0.7352368832\n",
      "bestIteration = 683\n",
      "Shrink model to first 684 iterations.\n"
     ]
    },
    {
     "name": "stderr",
     "output_type": "stream",
     "text": [
      "[I 2025-02-21 03:50:27,085] Trial 2 finished with value: 0.7352368831634521 and parameters: {'iterations': 2535, 'depth': 4, 'learning_rate': 0.09275339199839054, 'l2_leaf_reg': 0.0008705394248343123}. Best is trial 0 with value: 0.7358444333076477.\n",
      "Default metric period is 5 because AUC is/are not implemented for GPU\n"
     ]
    },
    {
     "name": "stdout",
     "output_type": "stream",
     "text": [
      "0:\ttest: 0.6969406\tbest: 0.6969406 (0)\ttotal: 18.5ms\tremaining: 43.1s\n",
      "300:\ttest: 0.7342055\tbest: 0.7342111 (299)\ttotal: 5.67s\tremaining: 38.3s\n",
      "600:\ttest: 0.7352626\tbest: 0.7352650 (596)\ttotal: 11.2s\tremaining: 32.3s\n",
      "900:\ttest: 0.7353207\tbest: 0.7353311 (628)\ttotal: 16.8s\tremaining: 26.8s\n",
      "1200:\ttest: 0.7354142\tbest: 0.7354658 (1171)\ttotal: 22.5s\tremaining: 21.2s\n",
      "1500:\ttest: 0.7354994\tbest: 0.7355247 (1496)\ttotal: 28.6s\tremaining: 15.9s\n",
      "1800:\ttest: 0.7354460\tbest: 0.7355267 (1641)\ttotal: 34.6s\tremaining: 10.2s\n"
     ]
    },
    {
     "name": "stderr",
     "output_type": "stream",
     "text": [
      "[I 2025-02-21 03:51:07,733] Trial 3 finished with value: 0.7355267405509949 and parameters: {'iterations': 2334, 'depth': 4, 'learning_rate': 0.04657568321363276, 'l2_leaf_reg': 0.0008640473331457248}. Best is trial 0 with value: 0.7358444333076477.\n"
     ]
    },
    {
     "name": "stdout",
     "output_type": "stream",
     "text": [
      "bestTest = 0.7355267406\n",
      "bestIteration = 1641\n",
      "Shrink model to first 1642 iterations.\n"
     ]
    },
    {
     "name": "stderr",
     "output_type": "stream",
     "text": [
      "Default metric period is 5 because AUC is/are not implemented for GPU\n"
     ]
    },
    {
     "name": "stdout",
     "output_type": "stream",
     "text": [
      "0:\ttest: 0.7206620\tbest: 0.7206620 (0)\ttotal: 88.9ms\tremaining: 2m 34s\n",
      "300:\ttest: 0.7329454\tbest: 0.7329947 (284)\ttotal: 27s\tremaining: 2m 9s\n",
      "600:\ttest: 0.7336256\tbest: 0.7336773 (422)\ttotal: 53.2s\tremaining: 1m 40s\n",
      "900:\ttest: 0.7331288\tbest: 0.7336914 (611)\ttotal: 1m 17s\tremaining: 1m 12s\n",
      "bestTest = 0.7336913645\n",
      "bestIteration = 611\n",
      "Shrink model to first 612 iterations.\n"
     ]
    },
    {
     "name": "stderr",
     "output_type": "stream",
     "text": [
      "[I 2025-02-21 03:52:29,711] Trial 4 finished with value: 0.7336913645267487 and parameters: {'iterations': 1742, 'depth': 10, 'learning_rate': 0.012622767482095846, 'l2_leaf_reg': 0.00021158816350109617}. Best is trial 0 with value: 0.7358444333076477.\n",
      "Default metric period is 5 because AUC is/are not implemented for GPU\n"
     ]
    },
    {
     "name": "stdout",
     "output_type": "stream",
     "text": [
      "0:\ttest: 0.6969406\tbest: 0.6969406 (0)\ttotal: 21ms\tremaining: 43.6s\n",
      "300:\ttest: 0.7345828\tbest: 0.7345840 (299)\ttotal: 5.7s\tremaining: 33.8s\n",
      "600:\ttest: 0.7353064\tbest: 0.7353064 (600)\ttotal: 11.3s\tremaining: 27.9s\n"
     ]
    },
    {
     "name": "stderr",
     "output_type": "stream",
     "text": [
      "[I 2025-02-21 03:52:50,014] Trial 5 finished with value: 0.7353100478649139 and parameters: {'iterations': 2082, 'depth': 4, 'learning_rate': 0.06995196593094148, 'l2_leaf_reg': 0.0018080296485396804}. Best is trial 0 with value: 0.7358444333076477.\n"
     ]
    },
    {
     "name": "stdout",
     "output_type": "stream",
     "text": [
      "900:\ttest: 0.7350483\tbest: 0.7353100 (601)\ttotal: 16.9s\tremaining: 22.2s\n",
      "bestTest = 0.7353100479\n",
      "bestIteration = 601\n",
      "Shrink model to first 602 iterations.\n"
     ]
    },
    {
     "name": "stderr",
     "output_type": "stream",
     "text": [
      "Default metric period is 5 because AUC is/are not implemented for GPU\n"
     ]
    },
    {
     "name": "stdout",
     "output_type": "stream",
     "text": [
      "0:\ttest: 0.7013674\tbest: 0.7013674 (0)\ttotal: 22.9ms\tremaining: 45.6s\n",
      "300:\ttest: 0.7355424\tbest: 0.7355674 (289)\ttotal: 6.23s\tremaining: 35.1s\n",
      "600:\ttest: 0.7357323\tbest: 0.7357971 (577)\ttotal: 13.4s\tremaining: 31.1s\n",
      "900:\ttest: 0.7356320\tbest: 0.7357974 (716)\ttotal: 20.4s\tremaining: 24.8s\n"
     ]
    },
    {
     "name": "stderr",
     "output_type": "stream",
     "text": [
      "[I 2025-02-21 03:53:16,075] Trial 6 finished with value: 0.7357974052429199 and parameters: {'iterations': 1997, 'depth': 5, 'learning_rate': 0.07985155992831598, 'l2_leaf_reg': 62.52181000710482}. Best is trial 0 with value: 0.7358444333076477.\n"
     ]
    },
    {
     "name": "stdout",
     "output_type": "stream",
     "text": [
      "bestTest = 0.7357974052\n",
      "bestIteration = 716\n",
      "Shrink model to first 717 iterations.\n"
     ]
    },
    {
     "name": "stderr",
     "output_type": "stream",
     "text": [
      "Default metric period is 5 because AUC is/are not implemented for GPU\n"
     ]
    },
    {
     "name": "stdout",
     "output_type": "stream",
     "text": [
      "0:\ttest: 0.7156618\tbest: 0.7156618 (0)\ttotal: 31.3ms\tremaining: 1m\n",
      "300:\ttest: 0.7339018\tbest: 0.7345327 (110)\ttotal: 9.53s\tremaining: 51.5s\n"
     ]
    },
    {
     "name": "stderr",
     "output_type": "stream",
     "text": [
      "[I 2025-02-21 03:53:32,348] Trial 7 finished with value: 0.7345326542854309 and parameters: {'iterations': 1927, 'depth': 7, 'learning_rate': 0.0941937211034094, 'l2_leaf_reg': 0.05654822767791934}. Best is trial 0 with value: 0.7358444333076477.\n"
     ]
    },
    {
     "name": "stdout",
     "output_type": "stream",
     "text": [
      "bestTest = 0.7345326543\n",
      "bestIteration = 110\n",
      "Shrink model to first 111 iterations.\n"
     ]
    },
    {
     "name": "stderr",
     "output_type": "stream",
     "text": [
      "Default metric period is 5 because AUC is/are not implemented for GPU\n"
     ]
    },
    {
     "name": "stdout",
     "output_type": "stream",
     "text": [
      "0:\ttest: 0.7156933\tbest: 0.7156933 (0)\ttotal: 37.3ms\tremaining: 1m 11s\n",
      "300:\ttest: 0.7352491\tbest: 0.7352968 (290)\ttotal: 11.4s\tremaining: 1m\n",
      "600:\ttest: 0.7353845\tbest: 0.7354988 (584)\ttotal: 21.7s\tremaining: 47.1s\n",
      "900:\ttest: 0.7350015\tbest: 0.7355610 (687)\ttotal: 32.9s\tremaining: 36.6s\n"
     ]
    },
    {
     "name": "stderr",
     "output_type": "stream",
     "text": [
      "[I 2025-02-21 03:54:11,784] Trial 8 finished with value: 0.735560953617096 and parameters: {'iterations': 1904, 'depth': 7, 'learning_rate': 0.05155602859187331, 'l2_leaf_reg': 1.299974533316308}. Best is trial 0 with value: 0.7358444333076477.\n"
     ]
    },
    {
     "name": "stdout",
     "output_type": "stream",
     "text": [
      "bestTest = 0.7355609536\n",
      "bestIteration = 687\n",
      "Shrink model to first 688 iterations.\n"
     ]
    },
    {
     "name": "stderr",
     "output_type": "stream",
     "text": [
      "Default metric period is 5 because AUC is/are not implemented for GPU\n"
     ]
    },
    {
     "name": "stdout",
     "output_type": "stream",
     "text": [
      "0:\ttest: 0.7125366\tbest: 0.7125366 (0)\ttotal: 29ms\tremaining: 1m 16s\n",
      "300:\ttest: 0.7349246\tbest: 0.7349246 (300)\ttotal: 8.63s\tremaining: 1m 7s\n",
      "600:\ttest: 0.7358563\tbest: 0.7358648 (585)\ttotal: 17s\tremaining: 57.5s\n",
      "900:\ttest: 0.7359077\tbest: 0.7359077 (900)\ttotal: 25.8s\tremaining: 49.7s\n",
      "1200:\ttest: 0.7358941\tbest: 0.7359363 (919)\ttotal: 34.4s\tremaining: 41.2s\n",
      "bestTest = 0.7359363437\n",
      "bestIteration = 919\n",
      "Shrink model to first 920 iterations.\n"
     ]
    },
    {
     "name": "stderr",
     "output_type": "stream",
     "text": [
      "[I 2025-02-21 03:54:51,494] Trial 9 finished with value: 0.7359363436698914 and parameters: {'iterations': 2639, 'depth': 6, 'learning_rate': 0.03968704290444751, 'l2_leaf_reg': 0.30557194377967184}. Best is trial 9 with value: 0.7359363436698914.\n"
     ]
    },
    {
     "name": "stdout",
     "output_type": "stream",
     "text": [
      "저장 완료\n"
     ]
    },
    {
     "name": "stderr",
     "output_type": "stream",
     "text": [
      "Default metric period is 5 because AUC is/are not implemented for GPU\n"
     ]
    },
    {
     "name": "stdout",
     "output_type": "stream",
     "text": [
      "0:\ttest: 0.7156711\tbest: 0.7156711 (0)\ttotal: 30.4ms\tremaining: 1m 29s\n",
      "300:\ttest: 0.7348884\tbest: 0.7349381 (285)\ttotal: 9.49s\tremaining: 1m 23s\n",
      "600:\ttest: 0.7356544\tbest: 0.7356937 (580)\ttotal: 18.4s\tremaining: 1m 11s\n",
      "900:\ttest: 0.7353699\tbest: 0.7357017 (632)\ttotal: 26.9s\tremaining: 1m 1s\n"
     ]
    },
    {
     "name": "stderr",
     "output_type": "stream",
     "text": [
      "[I 2025-02-21 03:55:21,376] Trial 10 finished with value: 0.7357017397880554 and parameters: {'iterations': 2945, 'depth': 7, 'learning_rate': 0.03333404337164428, 'l2_leaf_reg': 0.09727344885454356}. Best is trial 9 with value: 0.7359363436698914.\n"
     ]
    },
    {
     "name": "stdout",
     "output_type": "stream",
     "text": [
      "bestTest = 0.7357017398\n",
      "bestIteration = 632\n",
      "Shrink model to first 633 iterations.\n"
     ]
    },
    {
     "name": "stderr",
     "output_type": "stream",
     "text": [
      "Default metric period is 5 because AUC is/are not implemented for GPU\n"
     ]
    },
    {
     "name": "stdout",
     "output_type": "stream",
     "text": [
      "0:\ttest: 0.7204821\tbest: 0.7204821 (0)\ttotal: 91.1ms\tremaining: 4m 5s\n",
      "300:\ttest: 0.7350096\tbest: 0.7350320 (298)\ttotal: 24.8s\tremaining: 3m 16s\n",
      "600:\ttest: 0.7347992\tbest: 0.7352149 (525)\ttotal: 49.1s\tremaining: 2m 50s\n",
      "bestTest = 0.7352149487\n",
      "bestIteration = 525\n",
      "Shrink model to first 526 iterations.\n"
     ]
    },
    {
     "name": "stderr",
     "output_type": "stream",
     "text": [
      "[I 2025-02-21 03:56:32,398] Trial 11 finished with value: 0.7352149486541748 and parameters: {'iterations': 2693, 'depth': 10, 'learning_rate': 0.026163874004606635, 'l2_leaf_reg': 5.2672194422778995}. Best is trial 9 with value: 0.7359363436698914.\n",
      "Default metric period is 5 because AUC is/are not implemented for GPU\n"
     ]
    },
    {
     "name": "stdout",
     "output_type": "stream",
     "text": [
      "0:\ttest: 0.7206646\tbest: 0.7206646 (0)\ttotal: 60.8ms\tremaining: 2m 31s\n",
      "300:\ttest: 0.7348411\tbest: 0.7348784 (295)\ttotal: 16.2s\tremaining: 1m 57s\n",
      "600:\ttest: 0.7352122\tbest: 0.7352420 (591)\ttotal: 32.1s\tremaining: 1m 40s\n",
      "bestTest = 0.7352419794\n",
      "bestIteration = 591\n",
      "Shrink model to first 592 iterations.\n"
     ]
    },
    {
     "name": "stderr",
     "output_type": "stream",
     "text": [
      "[I 2025-02-21 03:57:23,144] Trial 12 finished with value: 0.7352419793605804 and parameters: {'iterations': 2488, 'depth': 9, 'learning_rate': 0.026367019946764103, 'l2_leaf_reg': 1.5098646436458447}. Best is trial 9 with value: 0.7359363436698914.\n",
      "Default metric period is 5 because AUC is/are not implemented for GPU\n"
     ]
    },
    {
     "name": "stdout",
     "output_type": "stream",
     "text": [
      "0:\ttest: 0.7125628\tbest: 0.7125628 (0)\ttotal: 23ms\tremaining: 1m 4s\n",
      "300:\ttest: 0.7347386\tbest: 0.7347426 (298)\ttotal: 6.59s\tremaining: 54.5s\n",
      "600:\ttest: 0.7357894\tbest: 0.7357897 (590)\ttotal: 13.1s\tremaining: 47.8s\n",
      "900:\ttest: 0.7360438\tbest: 0.7360548 (898)\ttotal: 19.6s\tremaining: 41.2s\n",
      "1200:\ttest: 0.7360124\tbest: 0.7360906 (915)\ttotal: 26.2s\tremaining: 34.7s\n"
     ]
    },
    {
     "name": "stderr",
     "output_type": "stream",
     "text": [
      "[I 2025-02-21 03:57:53,019] Trial 13 finished with value: 0.7360905706882477 and parameters: {'iterations': 2793, 'depth': 6, 'learning_rate': 0.03929405842707977, 'l2_leaf_reg': 55.074044317639206}. Best is trial 13 with value: 0.7360905706882477.\n"
     ]
    },
    {
     "name": "stdout",
     "output_type": "stream",
     "text": [
      "bestTest = 0.7360905707\n",
      "bestIteration = 915\n",
      "Shrink model to first 916 iterations.\n",
      "저장 완료\n"
     ]
    },
    {
     "name": "stderr",
     "output_type": "stream",
     "text": [
      "Default metric period is 5 because AUC is/are not implemented for GPU\n"
     ]
    },
    {
     "name": "stdout",
     "output_type": "stream",
     "text": [
      "0:\ttest: 0.7125807\tbest: 0.7125807 (0)\ttotal: 30.5ms\tremaining: 1m 29s\n",
      "300:\ttest: 0.7348133\tbest: 0.7348136 (298)\ttotal: 7.28s\tremaining: 1m 4s\n",
      "600:\ttest: 0.7357561\tbest: 0.7357563 (589)\ttotal: 13.8s\tremaining: 53.8s\n",
      "900:\ttest: 0.7358164\tbest: 0.7358424 (718)\ttotal: 20.3s\tremaining: 46.1s\n",
      "1200:\ttest: 0.7356913\tbest: 0.7358506 (944)\ttotal: 26.8s\tremaining: 39.1s\n"
     ]
    },
    {
     "name": "stderr",
     "output_type": "stream",
     "text": [
      "[I 2025-02-21 03:58:24,262] Trial 14 finished with value: 0.7358506321907043 and parameters: {'iterations': 2950, 'depth': 6, 'learning_rate': 0.04269453044327311, 'l2_leaf_reg': 92.74223128282532}. Best is trial 13 with value: 0.7360905706882477.\n"
     ]
    },
    {
     "name": "stdout",
     "output_type": "stream",
     "text": [
      "bestTest = 0.7358506322\n",
      "bestIteration = 944\n",
      "Shrink model to first 945 iterations.\n"
     ]
    },
    {
     "name": "stderr",
     "output_type": "stream",
     "text": [
      "Default metric period is 5 because AUC is/are not implemented for GPU\n"
     ]
    },
    {
     "name": "stdout",
     "output_type": "stream",
     "text": [
      "0:\ttest: 0.7125366\tbest: 0.7125366 (0)\ttotal: 22.5ms\tremaining: 1m 1s\n",
      "300:\ttest: 0.7351442\tbest: 0.7351551 (298)\ttotal: 6.54s\tremaining: 53.3s\n",
      "600:\ttest: 0.7353959\tbest: 0.7355447 (495)\ttotal: 13.1s\tremaining: 46.8s\n",
      "bestTest = 0.7355446815\n",
      "bestIteration = 495\n",
      "Shrink model to first 496 iterations.\n"
     ]
    },
    {
     "name": "stderr",
     "output_type": "stream",
     "text": [
      "[I 2025-02-21 03:58:45,173] Trial 15 finished with value: 0.7355446815490723 and parameters: {'iterations': 2752, 'depth': 6, 'learning_rate': 0.06696600009766787, 'l2_leaf_reg': 0.4690291521377337}. Best is trial 13 with value: 0.7360905706882477.\n",
      "Default metric period is 5 because AUC is/are not implemented for GPU\n"
     ]
    },
    {
     "name": "stdout",
     "output_type": "stream",
     "text": [
      "0:\ttest: 0.7200582\tbest: 0.7200582 (0)\ttotal: 46.6ms\tremaining: 2m 6s\n",
      "300:\ttest: 0.7348188\tbest: 0.7349524 (184)\ttotal: 11.9s\tremaining: 1m 34s\n"
     ]
    },
    {
     "name": "stderr",
     "output_type": "stream",
     "text": [
      "[I 2025-02-21 03:59:07,338] Trial 16 finished with value: 0.7349523901939392 and parameters: {'iterations': 2707, 'depth': 8, 'learning_rate': 0.05971470761452537, 'l2_leaf_reg': 0.014366584683552503}. Best is trial 13 with value: 0.7360905706882477.\n"
     ]
    },
    {
     "name": "stdout",
     "output_type": "stream",
     "text": [
      "bestTest = 0.7349523902\n",
      "bestIteration = 184\n",
      "Shrink model to first 185 iterations.\n"
     ]
    },
    {
     "name": "stderr",
     "output_type": "stream",
     "text": [
      "Default metric period is 5 because AUC is/are not implemented for GPU\n"
     ]
    },
    {
     "name": "stdout",
     "output_type": "stream",
     "text": [
      "0:\ttest: 0.7125378\tbest: 0.7125378 (0)\ttotal: 22.7ms\tremaining: 1m 4s\n",
      "300:\ttest: 0.7347146\tbest: 0.7347184 (299)\ttotal: 6.54s\tremaining: 54.7s\n",
      "600:\ttest: 0.7357221\tbest: 0.7357309 (589)\ttotal: 13s\tremaining: 48.1s\n",
      "900:\ttest: 0.7359329\tbest: 0.7359431 (898)\ttotal: 19.5s\tremaining: 41.5s\n",
      "1200:\ttest: 0.7359614\tbest: 0.7360752 (1115)\ttotal: 26.1s\tremaining: 35.1s\n"
     ]
    },
    {
     "name": "stderr",
     "output_type": "stream",
     "text": [
      "[I 2025-02-21 03:59:41,536] Trial 17 finished with value: 0.7360751628875732 and parameters: {'iterations': 2816, 'depth': 6, 'learning_rate': 0.03918207895179442, 'l2_leaf_reg': 21.995587519556917}. Best is trial 13 with value: 0.7360905706882477.\n"
     ]
    },
    {
     "name": "stdout",
     "output_type": "stream",
     "text": [
      "bestTest = 0.7360751629\n",
      "bestIteration = 1115\n",
      "Shrink model to first 1116 iterations.\n"
     ]
    },
    {
     "name": "stderr",
     "output_type": "stream",
     "text": [
      "Default metric period is 5 because AUC is/are not implemented for GPU\n"
     ]
    },
    {
     "name": "stdout",
     "output_type": "stream",
     "text": [
      "0:\ttest: 0.7013697\tbest: 0.7013697 (0)\ttotal: 22ms\tremaining: 1m 2s\n",
      "300:\ttest: 0.7352208\tbest: 0.7352216 (296)\ttotal: 5.9s\tremaining: 50s\n",
      "600:\ttest: 0.7358558\tbest: 0.7358617 (589)\ttotal: 11.2s\tremaining: 42s\n",
      "900:\ttest: 0.7360879\tbest: 0.7360879 (900)\ttotal: 16.5s\tremaining: 35.7s\n",
      "1200:\ttest: 0.7361650\tbest: 0.7362695 (1105)\ttotal: 21.7s\tremaining: 29.9s\n"
     ]
    },
    {
     "name": "stderr",
     "output_type": "stream",
     "text": [
      "[I 2025-02-21 04:00:10,307] Trial 18 finished with value: 0.736269474029541 and parameters: {'iterations': 2852, 'depth': 5, 'learning_rate': 0.055179194028824236, 'l2_leaf_reg': 19.21563883415902}. Best is trial 18 with value: 0.736269474029541.\n"
     ]
    },
    {
     "name": "stdout",
     "output_type": "stream",
     "text": [
      "bestTest = 0.736269474\n",
      "bestIteration = 1105\n",
      "Shrink model to first 1106 iterations.\n",
      "저장 완료\n"
     ]
    },
    {
     "name": "stderr",
     "output_type": "stream",
     "text": [
      "Default metric period is 5 because AUC is/are not implemented for GPU\n"
     ]
    },
    {
     "name": "stdout",
     "output_type": "stream",
     "text": [
      "0:\ttest: 0.7013697\tbest: 0.7013697 (0)\ttotal: 24.8ms\tremaining: 1m 11s\n",
      "300:\ttest: 0.7349668\tbest: 0.7349864 (285)\ttotal: 6.47s\tremaining: 55.5s\n",
      "600:\ttest: 0.7356179\tbest: 0.7356298 (590)\ttotal: 11.8s\tremaining: 44.8s\n",
      "900:\ttest: 0.7357114\tbest: 0.7357163 (697)\ttotal: 17s\tremaining: 37.5s\n",
      "1200:\ttest: 0.7355028\tbest: 0.7357213 (909)\ttotal: 22.4s\tremaining: 31.4s\n",
      "bestTest = 0.7357212901\n",
      "bestIteration = 909\n",
      "Shrink model to first 910 iterations.\n"
     ]
    },
    {
     "name": "stderr",
     "output_type": "stream",
     "text": [
      "[I 2025-02-21 04:00:36,359] Trial 19 finished with value: 0.7357212901115417 and parameters: {'iterations': 2883, 'depth': 5, 'learning_rate': 0.05163514874950665, 'l2_leaf_reg': 23.46685891324945}. Best is trial 18 with value: 0.736269474029541.\n",
      "Default metric period is 5 because AUC is/are not implemented for GPU\n"
     ]
    },
    {
     "name": "stdout",
     "output_type": "stream",
     "text": [
      "0:\ttest: 0.7013797\tbest: 0.7013797 (0)\ttotal: 25.3ms\tremaining: 39.2s\n",
      "300:\ttest: 0.7353956\tbest: 0.7354110 (294)\ttotal: 6.44s\tremaining: 26.7s\n",
      "600:\ttest: 0.7358651\tbest: 0.7358817 (589)\ttotal: 12.3s\tremaining: 19.4s\n",
      "900:\ttest: 0.7359451\tbest: 0.7359511 (898)\ttotal: 18.3s\tremaining: 13.2s\n",
      "1200:\ttest: 0.7358559\tbest: 0.7360041 (1002)\ttotal: 23.7s\tremaining: 6.9s\n",
      "bestTest = 0.736004144\n",
      "bestIteration = 1002\n",
      "Shrink model to first 1003 iterations.\n"
     ]
    },
    {
     "name": "stderr",
     "output_type": "stream",
     "text": [
      "[I 2025-02-21 04:01:05,642] Trial 20 finished with value: 0.7360041439533234 and parameters: {'iterations': 1551, 'depth': 5, 'learning_rate': 0.05909886766022706, 'l2_leaf_reg': 99.33892652809469}. Best is trial 18 with value: 0.736269474029541.\n",
      "Default metric period is 5 because AUC is/are not implemented for GPU\n"
     ]
    },
    {
     "name": "stdout",
     "output_type": "stream",
     "text": [
      "0:\ttest: 0.7125416\tbest: 0.7125416 (0)\ttotal: 29.1ms\tremaining: 1m 22s\n",
      "300:\ttest: 0.7346968\tbest: 0.7347000 (297)\ttotal: 7.21s\tremaining: 1m\n",
      "600:\ttest: 0.7356969\tbest: 0.7357136 (587)\ttotal: 15.1s\tremaining: 56.3s\n",
      "900:\ttest: 0.7358097\tbest: 0.7358209 (843)\ttotal: 23.4s\tremaining: 50.5s\n",
      "1200:\ttest: 0.7358279\tbest: 0.7359058 (1112)\ttotal: 30.9s\tremaining: 42.4s\n"
     ]
    },
    {
     "name": "stderr",
     "output_type": "stream",
     "text": [
      "[I 2025-02-21 04:01:45,148] Trial 21 finished with value: 0.7359058260917664 and parameters: {'iterations': 2847, 'depth': 6, 'learning_rate': 0.03714500255319523, 'l2_leaf_reg': 14.1712901622504}. Best is trial 18 with value: 0.736269474029541.\n"
     ]
    },
    {
     "name": "stdout",
     "output_type": "stream",
     "text": [
      "bestTest = 0.7359058261\n",
      "bestIteration = 1112\n",
      "Shrink model to first 1113 iterations.\n"
     ]
    },
    {
     "name": "stderr",
     "output_type": "stream",
     "text": [
      "Default metric period is 5 because AUC is/are not implemented for GPU\n"
     ]
    },
    {
     "name": "stdout",
     "output_type": "stream",
     "text": [
      "0:\ttest: 0.7013700\tbest: 0.7013700 (0)\ttotal: 22.5ms\tremaining: 57.2s\n",
      "300:\ttest: 0.7346801\tbest: 0.7346831 (298)\ttotal: 6.67s\tremaining: 49.7s\n",
      "600:\ttest: 0.7355871\tbest: 0.7355990 (599)\ttotal: 12.6s\tremaining: 40.6s\n",
      "900:\ttest: 0.7355192\tbest: 0.7356298 (628)\ttotal: 18.5s\tremaining: 33.8s\n"
     ]
    },
    {
     "name": "stderr",
     "output_type": "stream",
     "text": [
      "[I 2025-02-21 04:02:07,700] Trial 22 finished with value: 0.7356297969818115 and parameters: {'iterations': 2545, 'depth': 5, 'learning_rate': 0.04788812891384475, 'l2_leaf_reg': 4.50113032175447}. Best is trial 18 with value: 0.736269474029541.\n"
     ]
    },
    {
     "name": "stdout",
     "output_type": "stream",
     "text": [
      "bestTest = 0.735629797\n",
      "bestIteration = 628\n",
      "Shrink model to first 629 iterations.\n"
     ]
    },
    {
     "name": "stderr",
     "output_type": "stream",
     "text": [
      "Default metric period is 5 because AUC is/are not implemented for GPU\n"
     ]
    },
    {
     "name": "stdout",
     "output_type": "stream",
     "text": [
      "0:\ttest: 0.7201417\tbest: 0.7201417 (0)\ttotal: 45.1ms\tremaining: 2m 15s\n",
      "300:\ttest: 0.7349761\tbest: 0.7349781 (299)\ttotal: 12.5s\tremaining: 1m 51s\n",
      "600:\ttest: 0.7355444\tbest: 0.7355627 (594)\ttotal: 24.7s\tremaining: 1m 38s\n"
     ]
    },
    {
     "name": "stderr",
     "output_type": "stream",
     "text": [
      "[I 2025-02-21 04:02:47,871] Trial 23 finished with value: 0.7355626821517944 and parameters: {'iterations': 2994, 'depth': 8, 'learning_rate': 0.030373243937328813, 'l2_leaf_reg': 20.052093776093585}. Best is trial 18 with value: 0.736269474029541.\n"
     ]
    },
    {
     "name": "stdout",
     "output_type": "stream",
     "text": [
      "bestTest = 0.7355626822\n",
      "bestIteration = 594\n",
      "Shrink model to first 595 iterations.\n"
     ]
    },
    {
     "name": "stderr",
     "output_type": "stream",
     "text": [
      "Default metric period is 5 because AUC is/are not implemented for GPU\n"
     ]
    },
    {
     "name": "stdout",
     "output_type": "stream",
     "text": [
      "0:\ttest: 0.7125528\tbest: 0.7125528 (0)\ttotal: 24.6ms\tremaining: 1m 9s\n",
      "300:\ttest: 0.7348654\tbest: 0.7348741 (297)\ttotal: 7.5s\tremaining: 1m 2s\n",
      "600:\ttest: 0.7358242\tbest: 0.7358404 (592)\ttotal: 14.9s\tremaining: 55.1s\n",
      "900:\ttest: 0.7358882\tbest: 0.7358949 (898)\ttotal: 22.4s\tremaining: 47.6s\n",
      "1200:\ttest: 0.7358115\tbest: 0.7359312 (926)\ttotal: 29.8s\tremaining: 40.2s\n"
     ]
    },
    {
     "name": "stderr",
     "output_type": "stream",
     "text": [
      "[I 2025-02-21 04:03:21,665] Trial 24 finished with value: 0.7359312474727631 and parameters: {'iterations': 2818, 'depth': 6, 'learning_rate': 0.04244886048153564, 'l2_leaf_reg': 32.34607560618059}. Best is trial 18 with value: 0.736269474029541.\n"
     ]
    },
    {
     "name": "stdout",
     "output_type": "stream",
     "text": [
      "bestTest = 0.7359312475\n",
      "bestIteration = 926\n",
      "Shrink model to first 927 iterations.\n"
     ]
    },
    {
     "name": "stderr",
     "output_type": "stream",
     "text": [
      "Default metric period is 5 because AUC is/are not implemented for GPU\n"
     ]
    },
    {
     "name": "stdout",
     "output_type": "stream",
     "text": [
      "0:\ttest: 0.7013700\tbest: 0.7013700 (0)\ttotal: 24.2ms\tremaining: 1m 3s\n",
      "300:\ttest: 0.7350903\tbest: 0.7350903 (300)\ttotal: 7.07s\tremaining: 54.2s\n",
      "600:\ttest: 0.7356150\tbest: 0.7356361 (589)\ttotal: 13.6s\tremaining: 45.6s\n",
      "900:\ttest: 0.7355967\tbest: 0.7356393 (617)\ttotal: 18.9s\tremaining: 35.9s\n"
     ]
    },
    {
     "name": "stderr",
     "output_type": "stream",
     "text": [
      "[I 2025-02-21 04:03:44,248] Trial 25 finished with value: 0.7356393039226532 and parameters: {'iterations': 2610, 'depth': 5, 'learning_rate': 0.05427304185984871, 'l2_leaf_reg': 4.752470659425878}. Best is trial 18 with value: 0.736269474029541.\n"
     ]
    },
    {
     "name": "stdout",
     "output_type": "stream",
     "text": [
      "bestTest = 0.7356393039\n",
      "bestIteration = 617\n",
      "Shrink model to first 618 iterations.\n"
     ]
    },
    {
     "name": "stderr",
     "output_type": "stream",
     "text": [
      "Default metric period is 5 because AUC is/are not implemented for GPU\n"
     ]
    },
    {
     "name": "stdout",
     "output_type": "stream",
     "text": [
      "0:\ttest: 0.7146799\tbest: 0.7146799 (0)\ttotal: 40.2ms\tremaining: 1m 38s\n",
      "300:\ttest: 0.7349615\tbest: 0.7349709 (287)\ttotal: 11.1s\tremaining: 1m 19s\n",
      "600:\ttest: 0.7357864\tbest: 0.7357967 (592)\ttotal: 22.1s\tremaining: 1m 7s\n",
      "900:\ttest: 0.7358379\tbest: 0.7358814 (797)\ttotal: 32.8s\tremaining: 56.1s\n",
      "1200:\ttest: 0.7360235\tbest: 0.7360646 (1151)\ttotal: 43.8s\tremaining: 45.3s\n",
      "bestTest = 0.7360645831\n",
      "bestIteration = 1151\n",
      "Shrink model to first 1152 iterations.\n"
     ]
    },
    {
     "name": "stderr",
     "output_type": "stream",
     "text": [
      "[I 2025-02-21 04:04:40,815] Trial 26 finished with value: 0.7360645830631256 and parameters: {'iterations': 2442, 'depth': 7, 'learning_rate': 0.0346960821082778, 'l2_leaf_reg': 42.72713223815415}. Best is trial 18 with value: 0.736269474029541.\n",
      "Default metric period is 5 because AUC is/are not implemented for GPU\n"
     ]
    },
    {
     "name": "stdout",
     "output_type": "stream",
     "text": [
      "0:\ttest: 0.7201292\tbest: 0.7201292 (0)\ttotal: 47.2ms\tremaining: 2m 11s\n",
      "300:\ttest: 0.7345863\tbest: 0.7345877 (298)\ttotal: 13.5s\tremaining: 1m 51s\n",
      "600:\ttest: 0.7354313\tbest: 0.7354420 (599)\ttotal: 27.6s\tremaining: 1m 40s\n",
      "900:\ttest: 0.7354569\tbest: 0.7355938 (737)\ttotal: 41.3s\tremaining: 1m 26s\n",
      "bestTest = 0.7355938256\n",
      "bestIteration = 737\n",
      "Shrink model to first 738 iterations.\n"
     ]
    },
    {
     "name": "stderr",
     "output_type": "stream",
     "text": [
      "[I 2025-02-21 04:05:32,044] Trial 27 finished with value: 0.7355938255786896 and parameters: {'iterations': 2794, 'depth': 8, 'learning_rate': 0.022321178452303712, 'l2_leaf_reg': 10.8700223018484}. Best is trial 18 with value: 0.736269474029541.\n",
      "Default metric period is 5 because AUC is/are not implemented for GPU\n"
     ]
    },
    {
     "name": "stdout",
     "output_type": "stream",
     "text": [
      "0:\ttest: 0.7125378\tbest: 0.7125378 (0)\ttotal: 25.2ms\tremaining: 56.7s\n",
      "300:\ttest: 0.7347367\tbest: 0.7347386 (299)\ttotal: 7.53s\tremaining: 48.9s\n",
      "600:\ttest: 0.7353794\tbest: 0.7353930 (590)\ttotal: 15.3s\tremaining: 42.1s\n",
      "900:\ttest: 0.7356397\tbest: 0.7356462 (899)\ttotal: 24.1s\tremaining: 36.3s\n",
      "1200:\ttest: 0.7356236\tbest: 0.7357950 (1031)\ttotal: 33s\tremaining: 28.9s\n"
     ]
    },
    {
     "name": "stderr",
     "output_type": "stream",
     "text": [
      "[I 2025-02-21 04:06:12,113] Trial 28 finished with value: 0.7357949912548065 and parameters: {'iterations': 2255, 'depth': 6, 'learning_rate': 0.04516177334473795, 'l2_leaf_reg': 21.92267884910513}. Best is trial 18 with value: 0.736269474029541.\n"
     ]
    },
    {
     "name": "stdout",
     "output_type": "stream",
     "text": [
      "bestTest = 0.7357949913\n",
      "bestIteration = 1031\n",
      "Shrink model to first 1032 iterations.\n"
     ]
    },
    {
     "name": "stderr",
     "output_type": "stream",
     "text": [
      "Default metric period is 5 because AUC is/are not implemented for GPU\n"
     ]
    },
    {
     "name": "stdout",
     "output_type": "stream",
     "text": [
      "0:\ttest: 0.7013700\tbest: 0.7013700 (0)\ttotal: 20.2ms\tremaining: 47.5s\n",
      "300:\ttest: 0.7343186\tbest: 0.7343229 (299)\ttotal: 5.97s\tremaining: 40.7s\n",
      "600:\ttest: 0.7353050\tbest: 0.7353348 (592)\ttotal: 12.1s\tremaining: 35.3s\n",
      "900:\ttest: 0.7356173\tbest: 0.7356180 (899)\ttotal: 17.4s\tremaining: 28.1s\n",
      "1200:\ttest: 0.7356353\tbest: 0.7356431 (1179)\ttotal: 22.6s\tremaining: 21.7s\n",
      "1500:\ttest: 0.7357455\tbest: 0.7357602 (1459)\ttotal: 27.9s\tremaining: 15.8s\n",
      "bestTest = 0.7357602119\n",
      "bestIteration = 1459\n",
      "Shrink model to first 1460 iterations.\n"
     ]
    },
    {
     "name": "stderr",
     "output_type": "stream",
     "text": [
      "[I 2025-02-21 04:06:47,998] Trial 29 finished with value: 0.7357602119445801 and parameters: {'iterations': 2354, 'depth': 5, 'learning_rate': 0.038206482976425774, 'l2_leaf_reg': 7.948468176277566}. Best is trial 18 with value: 0.736269474029541.\n",
      "Default metric period is 5 because AUC is/are not implemented for GPU\n"
     ]
    },
    {
     "name": "stdout",
     "output_type": "stream",
     "text": [
      "0:\ttest: 0.7125486\tbest: 0.7125486 (0)\ttotal: 24ms\tremaining: 1m 3s\n",
      "300:\ttest: 0.7335270\tbest: 0.7335270 (300)\ttotal: 6.67s\tremaining: 51.9s\n",
      "600:\ttest: 0.7349387\tbest: 0.7349546 (596)\ttotal: 13.3s\tremaining: 45.3s\n",
      "900:\ttest: 0.7354658\tbest: 0.7354722 (897)\ttotal: 19.9s\tremaining: 38.6s\n",
      "1200:\ttest: 0.7356479\tbest: 0.7356776 (1170)\ttotal: 26.5s\tremaining: 31.9s\n",
      "1500:\ttest: 0.7357286\tbest: 0.7357622 (1445)\ttotal: 33s\tremaining: 25.2s\n",
      "1800:\ttest: 0.7357855\tbest: 0.7357942 (1715)\ttotal: 39.6s\tremaining: 18.5s\n",
      "2100:\ttest: 0.7357665\tbest: 0.7357998 (1819)\ttotal: 46.1s\tremaining: 11.9s\n",
      "bestTest = 0.7357997596\n",
      "bestIteration = 1819\n",
      "Shrink model to first 1820 iterations.\n"
     ]
    },
    {
     "name": "stderr",
     "output_type": "stream",
     "text": [
      "[I 2025-02-21 04:07:38,248] Trial 30 finished with value: 0.7357997596263885 and parameters: {'iterations': 2645, 'depth': 6, 'learning_rate': 0.02125390049572315, 'l2_leaf_reg': 49.68688006005547}. Best is trial 18 with value: 0.736269474029541.\n",
      "Default metric period is 5 because AUC is/are not implemented for GPU\n"
     ]
    },
    {
     "name": "stdout",
     "output_type": "stream",
     "text": [
      "0:\ttest: 0.7146783\tbest: 0.7146783 (0)\ttotal: 29ms\tremaining: 1m 11s\n",
      "300:\ttest: 0.7349786\tbest: 0.7349863 (296)\ttotal: 8.46s\tremaining: 1m\n",
      "600:\ttest: 0.7357606\tbest: 0.7357709 (581)\ttotal: 16.8s\tremaining: 52.1s\n",
      "900:\ttest: 0.7357602\tbest: 0.7358653 (720)\ttotal: 25.2s\tremaining: 43.7s\n"
     ]
    },
    {
     "name": "stderr",
     "output_type": "stream",
     "text": [
      "[I 2025-02-21 04:08:10,288] Trial 31 finished with value: 0.7358652949333191 and parameters: {'iterations': 2461, 'depth': 7, 'learning_rate': 0.03186279284859405, 'l2_leaf_reg': 37.374465184145556}. Best is trial 18 with value: 0.736269474029541.\n"
     ]
    },
    {
     "name": "stdout",
     "output_type": "stream",
     "text": [
      "bestTest = 0.7358652949\n",
      "bestIteration = 720\n",
      "Shrink model to first 721 iterations.\n"
     ]
    },
    {
     "name": "stderr",
     "output_type": "stream",
     "text": [
      "Default metric period is 5 because AUC is/are not implemented for GPU\n"
     ]
    },
    {
     "name": "stdout",
     "output_type": "stream",
     "text": [
      "0:\ttest: 0.7181718\tbest: 0.7181718 (0)\ttotal: 28.5ms\tremaining: 1m 21s\n",
      "300:\ttest: 0.7349724\tbest: 0.7349859 (294)\ttotal: 8.42s\tremaining: 1m 11s\n",
      "600:\ttest: 0.7357091\tbest: 0.7357208 (592)\ttotal: 16.8s\tremaining: 1m 3s\n",
      "900:\ttest: 0.7359349\tbest: 0.7359784 (805)\ttotal: 25.2s\tremaining: 55.2s\n",
      "1200:\ttest: 0.7359782\tbest: 0.7360088 (1169)\ttotal: 33.7s\tremaining: 46.8s\n",
      "1500:\ttest: 0.7359259\tbest: 0.7361212 (1317)\ttotal: 42.1s\tremaining: 38.4s\n",
      "bestTest = 0.7361211777\n",
      "bestIteration = 1317\n",
      "Shrink model to first 1318 iterations.\n"
     ]
    },
    {
     "name": "stderr",
     "output_type": "stream",
     "text": [
      "[I 2025-02-21 04:08:59,122] Trial 32 finished with value: 0.7361211776733398 and parameters: {'iterations': 2872, 'depth': 7, 'learning_rate': 0.03707215052066374, 'l2_leaf_reg': 87.4275959106076}. Best is trial 18 with value: 0.736269474029541.\n",
      "Default metric period is 5 because AUC is/are not implemented for GPU\n"
     ]
    },
    {
     "name": "stdout",
     "output_type": "stream",
     "text": [
      "0:\ttest: 0.7206983\tbest: 0.7206983 (0)\ttotal: 50.8ms\tremaining: 2m 23s\n",
      "300:\ttest: 0.7354022\tbest: 0.7354022 (300)\ttotal: 15.8s\tremaining: 2m 13s\n",
      "600:\ttest: 0.7356331\tbest: 0.7357704 (441)\ttotal: 31.6s\tremaining: 1m 57s\n"
     ]
    },
    {
     "name": "stderr",
     "output_type": "stream",
     "text": [
      "[I 2025-02-21 04:09:41,545] Trial 33 finished with value: 0.7357704341411591 and parameters: {'iterations': 2830, 'depth': 9, 'learning_rate': 0.042641181585682184, 'l2_leaf_reg': 11.726177224028156}. Best is trial 18 with value: 0.736269474029541.\n"
     ]
    },
    {
     "name": "stdout",
     "output_type": "stream",
     "text": [
      "bestTest = 0.7357704341\n",
      "bestIteration = 441\n",
      "Shrink model to first 442 iterations.\n"
     ]
    },
    {
     "name": "stderr",
     "output_type": "stream",
     "text": [
      "Default metric period is 5 because AUC is/are not implemented for GPU\n"
     ]
    },
    {
     "name": "stdout",
     "output_type": "stream",
     "text": [
      "0:\ttest: 0.7146634\tbest: 0.7146634 (0)\ttotal: 28.6ms\tremaining: 1m 25s\n",
      "300:\ttest: 0.7349674\tbest: 0.7349771 (298)\ttotal: 8.45s\tremaining: 1m 15s\n",
      "600:\ttest: 0.7356573\tbest: 0.7356835 (592)\ttotal: 16.9s\tremaining: 1m 7s\n",
      "900:\ttest: 0.7357665\tbest: 0.7357984 (706)\ttotal: 25.2s\tremaining: 58.8s\n",
      "1200:\ttest: 0.7357934\tbest: 0.7358297 (1182)\ttotal: 33.7s\tremaining: 50.4s\n",
      "1500:\ttest: 0.7358516\tbest: 0.7359426 (1345)\ttotal: 42.1s\tremaining: 42s\n",
      "bestTest = 0.7359426022\n",
      "bestIteration = 1345\n",
      "Shrink model to first 1346 iterations.\n"
     ]
    },
    {
     "name": "stderr",
     "output_type": "stream",
     "text": [
      "[I 2025-02-21 04:10:31,064] Trial 34 finished with value: 0.7359426021575928 and parameters: {'iterations': 3000, 'depth': 7, 'learning_rate': 0.03718119647342773, 'l2_leaf_reg': 79.86609345655089}. Best is trial 18 with value: 0.736269474029541.\n",
      "Default metric period is 5 because AUC is/are not implemented for GPU\n"
     ]
    },
    {
     "name": "stdout",
     "output_type": "stream",
     "text": [
      "0:\ttest: 0.6969406\tbest: 0.6969406 (0)\ttotal: 17.8ms\tremaining: 51.8s\n",
      "300:\ttest: 0.7340929\tbest: 0.7340929 (300)\ttotal: 4.74s\tremaining: 41s\n",
      "600:\ttest: 0.7353487\tbest: 0.7353555 (596)\ttotal: 8.71s\tremaining: 33.4s\n",
      "900:\ttest: 0.7355625\tbest: 0.7355689 (897)\ttotal: 13.9s\tremaining: 30.8s\n",
      "1200:\ttest: 0.7355917\tbest: 0.7356558 (1050)\ttotal: 18.2s\tremaining: 25.9s\n"
     ]
    },
    {
     "name": "stderr",
     "output_type": "stream",
     "text": [
      "[I 2025-02-21 04:10:54,728] Trial 35 finished with value: 0.7356558442115784 and parameters: {'iterations': 2906, 'depth': 4, 'learning_rate': 0.04817028511986866, 'l2_leaf_reg': 3.2295193970345357}. Best is trial 18 with value: 0.736269474029541.\n"
     ]
    },
    {
     "name": "stdout",
     "output_type": "stream",
     "text": [
      "bestTest = 0.7356558442\n",
      "bestIteration = 1050\n",
      "Shrink model to first 1051 iterations.\n"
     ]
    },
    {
     "name": "stderr",
     "output_type": "stream",
     "text": [
      "Default metric period is 5 because AUC is/are not implemented for GPU\n"
     ]
    },
    {
     "name": "stdout",
     "output_type": "stream",
     "text": [
      "0:\ttest: 0.7201417\tbest: 0.7201417 (0)\ttotal: 48.6ms\tremaining: 2m 13s\n",
      "300:\ttest: 0.7337134\tbest: 0.7337134 (300)\ttotal: 11.9s\tremaining: 1m 36s\n",
      "600:\ttest: 0.7350669\tbest: 0.7350760 (591)\ttotal: 23.2s\tremaining: 1m 22s\n",
      "900:\ttest: 0.7356039\tbest: 0.7356039 (900)\ttotal: 34.5s\tremaining: 1m 10s\n",
      "1200:\ttest: 0.7356996\tbest: 0.7357095 (1178)\ttotal: 45.8s\tremaining: 58.8s\n",
      "1500:\ttest: 0.7357998\tbest: 0.7358580 (1433)\ttotal: 57.2s\tremaining: 47.3s\n",
      "bestTest = 0.7358580232\n",
      "bestIteration = 1433\n",
      "Shrink model to first 1434 iterations.\n"
     ]
    },
    {
     "name": "stderr",
     "output_type": "stream",
     "text": [
      "[I 2025-02-21 04:12:04,257] Trial 36 finished with value: 0.7358580231666565 and parameters: {'iterations': 2743, 'depth': 8, 'learning_rate': 0.015449720781827395, 'l2_leaf_reg': 21.10762106591491}. Best is trial 18 with value: 0.736269474029541.\n",
      "Default metric period is 5 because AUC is/are not implemented for GPU\n"
     ]
    },
    {
     "name": "stdout",
     "output_type": "stream",
     "text": [
      "0:\ttest: 0.7125628\tbest: 0.7125628 (0)\ttotal: 26.3ms\tremaining: 1m 7s\n",
      "300:\ttest: 0.7292768\tbest: 0.7292768 (300)\ttotal: 7.37s\tremaining: 55.5s\n",
      "600:\ttest: 0.7324409\tbest: 0.7324409 (600)\ttotal: 13.9s\tremaining: 45.7s\n",
      "900:\ttest: 0.7337303\tbest: 0.7337303 (900)\ttotal: 20.5s\tremaining: 38.1s\n",
      "1200:\ttest: 0.7344235\tbest: 0.7344235 (1200)\ttotal: 27.2s\tremaining: 31s\n",
      "1500:\ttest: 0.7348369\tbest: 0.7348379 (1498)\ttotal: 34.4s\tremaining: 24.5s\n",
      "1800:\ttest: 0.7351714\tbest: 0.7351714 (1800)\ttotal: 41.1s\tremaining: 17.5s\n",
      "2100:\ttest: 0.7353810\tbest: 0.7353843 (2088)\ttotal: 47.7s\tremaining: 10.6s\n",
      "2400:\ttest: 0.7354900\tbest: 0.7354900 (2400)\ttotal: 54.3s\tremaining: 3.82s\n",
      "2569:\ttest: 0.7355800\tbest: 0.7355804 (2563)\ttotal: 58.4s\tremaining: 0us\n",
      "bestTest = 0.7355803847\n",
      "bestIteration = 2563\n",
      "Shrink model to first 2564 iterations.\n"
     ]
    },
    {
     "name": "stderr",
     "output_type": "stream",
     "text": [
      "[I 2025-02-21 04:13:06,146] Trial 37 finished with value: 0.7355803847312927 and parameters: {'iterations': 2570, 'depth': 6, 'learning_rate': 0.007854056834208062, 'l2_leaf_reg': 54.53327884674689}. Best is trial 18 with value: 0.736269474029541.\n",
      "Default metric period is 5 because AUC is/are not implemented for GPU\n"
     ]
    },
    {
     "name": "stdout",
     "output_type": "stream",
     "text": [
      "0:\ttest: 0.7013700\tbest: 0.7013700 (0)\ttotal: 27.1ms\tremaining: 1m 17s\n",
      "300:\ttest: 0.7338329\tbest: 0.7338433 (298)\ttotal: 7.27s\tremaining: 1m 2s\n",
      "600:\ttest: 0.7351657\tbest: 0.7351806 (590)\ttotal: 14.2s\tremaining: 54s\n",
      "900:\ttest: 0.7354888\tbest: 0.7354958 (894)\ttotal: 21.2s\tremaining: 46.7s\n",
      "1200:\ttest: 0.7355989\tbest: 0.7356208 (1174)\ttotal: 28.4s\tremaining: 39.7s\n",
      "1500:\ttest: 0.7357191\tbest: 0.7357312 (1496)\ttotal: 35.4s\tremaining: 32.6s\n"
     ]
    },
    {
     "name": "stderr",
     "output_type": "stream",
     "text": [
      "[I 2025-02-21 04:13:52,061] Trial 38 finished with value: 0.7357311844825745 and parameters: {'iterations': 2881, 'depth': 5, 'learning_rate': 0.03131972127677789, 'l2_leaf_reg': 11.747404827704694}. Best is trial 18 with value: 0.736269474029541.\n"
     ]
    },
    {
     "name": "stdout",
     "output_type": "stream",
     "text": [
      "bestTest = 0.7357311845\n",
      "bestIteration = 1496\n",
      "Shrink model to first 1497 iterations.\n"
     ]
    },
    {
     "name": "stderr",
     "output_type": "stream",
     "text": [
      "Default metric period is 5 because AUC is/are not implemented for GPU\n"
     ]
    },
    {
     "name": "stdout",
     "output_type": "stream",
     "text": [
      "0:\ttest: 0.6969406\tbest: 0.6969406 (0)\ttotal: 18.9ms\tremaining: 40.4s\n",
      "300:\ttest: 0.7339987\tbest: 0.7339987 (300)\ttotal: 5.42s\tremaining: 33.1s\n",
      "600:\ttest: 0.7350927\tbest: 0.7351151 (589)\ttotal: 10.9s\tremaining: 28s\n",
      "900:\ttest: 0.7353437\tbest: 0.7353526 (898)\ttotal: 15.4s\tremaining: 21s\n",
      "1200:\ttest: 0.7354567\tbest: 0.7354832 (1177)\ttotal: 20.8s\tremaining: 16.2s\n",
      "1500:\ttest: 0.7355224\tbest: 0.7355424 (1465)\ttotal: 24.9s\tremaining: 10.5s\n",
      "bestTest = 0.735542357\n",
      "bestIteration = 1465\n",
      "Shrink model to first 1466 iterations.\n"
     ]
    },
    {
     "name": "stderr",
     "output_type": "stream",
     "text": [
      "[I 2025-02-21 04:14:24,102] Trial 39 finished with value: 0.735542356967926 and parameters: {'iterations': 2136, 'depth': 4, 'learning_rate': 0.047105316261072734, 'l2_leaf_reg': 30.56176902497394}. Best is trial 18 with value: 0.736269474029541.\n",
      "[I 2025-02-21 04:14:24,106] A new study created in memory with name: no-name-d3f9e85c-32de-4331-9834-250c0a5d9aee\n",
      "[I 2025-02-21 04:14:40,122] Trial 0 finished with value: 0.7244809711735646 and parameters: {'num_iterations': 2366, 'objective': 'binary', 'metric': 'auc', 'verbose': -1, 'learning_rate': 0.0652646236447618, 'n_estimators': 236, 'min_child_samples': 45, 'subsample': 0.7, 'colsample_bytree': 0.5}. Best is trial 0 with value: 0.7244809711735646.\n",
      "[I 2025-02-21 04:14:53,101] Trial 1 finished with value: 0.7349562030893898 and parameters: {'num_iterations': 1510, 'objective': 'binary', 'metric': 'auc', 'verbose': -1, 'learning_rate': 0.005231880959249543, 'n_estimators': 1411, 'min_child_samples': 10, 'subsample': 1.0, 'colsample_bytree': 0.5}. Best is trial 1 with value: 0.7349562030893898.\n",
      "[I 2025-02-21 04:15:04,458] Trial 2 finished with value: 0.7346403475737873 and parameters: {'num_iterations': 2334, 'objective': 'binary', 'metric': 'auc', 'verbose': -1, 'learning_rate': 0.006578527777128852, 'n_estimators': 931, 'min_child_samples': 15, 'subsample': 0.5, 'colsample_bytree': 1.0}. Best is trial 1 with value: 0.7349562030893898.\n",
      "[I 2025-02-21 04:15:16,279] Trial 3 finished with value: 0.7349909041077507 and parameters: {'num_iterations': 1620, 'objective': 'binary', 'metric': 'auc', 'verbose': -1, 'learning_rate': 0.0058823249237283685, 'n_estimators': 837, 'min_child_samples': 10, 'subsample': 0.9, 'colsample_bytree': 0.6}. Best is trial 3 with value: 0.7349909041077507.\n",
      "[I 2025-02-21 04:15:25,901] Trial 4 finished with value: 0.7345175278902386 and parameters: {'num_iterations': 1997, 'objective': 'binary', 'metric': 'auc', 'verbose': -1, 'learning_rate': 0.010907507425244923, 'n_estimators': 1597, 'min_child_samples': 50, 'subsample': 0.6, 'colsample_bytree': 0.8}. Best is trial 3 with value: 0.7349909041077507.\n",
      "[I 2025-02-21 04:15:37,977] Trial 5 finished with value: 0.7312994591772025 and parameters: {'num_iterations': 2909, 'objective': 'binary', 'metric': 'auc', 'verbose': -1, 'learning_rate': 0.019760591962733942, 'n_estimators': 612, 'min_child_samples': 30, 'subsample': 0.7, 'colsample_bytree': 0.9}. Best is trial 3 with value: 0.7349909041077507.\n",
      "[I 2025-02-21 04:15:49,748] Trial 6 finished with value: 0.7324730668391493 and parameters: {'num_iterations': 2639, 'objective': 'binary', 'metric': 'auc', 'verbose': -1, 'learning_rate': 0.017862094446750985, 'n_estimators': 794, 'min_child_samples': 35, 'subsample': 1.0, 'colsample_bytree': 0.8}. Best is trial 3 with value: 0.7349909041077507.\n",
      "[I 2025-02-21 04:16:00,703] Trial 7 finished with value: 0.7345201648181616 and parameters: {'num_iterations': 1580, 'objective': 'binary', 'metric': 'auc', 'verbose': -1, 'learning_rate': 0.01776722177611332, 'n_estimators': 529, 'min_child_samples': 25, 'subsample': 0.8, 'colsample_bytree': 0.5}. Best is trial 3 with value: 0.7349909041077507.\n",
      "[I 2025-02-21 04:16:10,907] Trial 8 finished with value: 0.7327310807053553 and parameters: {'num_iterations': 1911, 'objective': 'binary', 'metric': 'auc', 'verbose': -1, 'learning_rate': 0.0304747553332844, 'n_estimators': 1328, 'min_child_samples': 10, 'subsample': 0.7, 'colsample_bytree': 0.6}. Best is trial 3 with value: 0.7349909041077507.\n",
      "[I 2025-02-21 04:16:28,890] Trial 9 finished with value: 0.7310895732168692 and parameters: {'num_iterations': 2739, 'objective': 'binary', 'metric': 'auc', 'verbose': -1, 'learning_rate': 0.02691531614176271, 'n_estimators': 1438, 'min_child_samples': 20, 'subsample': 0.6, 'colsample_bytree': 0.5}. Best is trial 3 with value: 0.7349909041077507.\n",
      "[I 2025-02-21 04:16:38,633] Trial 10 finished with value: 0.734799325734353 and parameters: {'num_iterations': 1883, 'objective': 'binary', 'metric': 'auc', 'verbose': -1, 'learning_rate': 0.007630609716045009, 'n_estimators': 1917, 'min_child_samples': 40, 'subsample': 0.9, 'colsample_bytree': 0.7}. Best is trial 3 with value: 0.7349909041077507.\n",
      "[I 2025-02-21 04:16:49,202] Trial 11 finished with value: 0.7349940533304058 and parameters: {'num_iterations': 1513, 'objective': 'binary', 'metric': 'auc', 'verbose': -1, 'learning_rate': 0.005340229419903739, 'n_estimators': 1206, 'min_child_samples': 10, 'subsample': 1.0, 'colsample_bytree': 0.6}. Best is trial 11 with value: 0.7349940533304058.\n",
      "[I 2025-02-21 04:16:59,258] Trial 12 finished with value: 0.7351145061328669 and parameters: {'num_iterations': 1717, 'objective': 'binary', 'metric': 'auc', 'verbose': -1, 'learning_rate': 0.005017837931138521, 'n_estimators': 1093, 'min_child_samples': 20, 'subsample': 0.9, 'colsample_bytree': 0.7}. Best is trial 12 with value: 0.7351145061328669.\n",
      "[I 2025-02-21 04:17:08,007] Trial 13 finished with value: 0.7346445055007984 and parameters: {'num_iterations': 1779, 'objective': 'binary', 'metric': 'auc', 'verbose': -1, 'learning_rate': 0.010618561537604376, 'n_estimators': 1108, 'min_child_samples': 20, 'subsample': 0.9, 'colsample_bytree': 0.7}. Best is trial 12 with value: 0.7351145061328669.\n",
      "[I 2025-02-21 04:17:22,206] Trial 14 finished with value: 0.7350391074678863 and parameters: {'num_iterations': 2165, 'objective': 'binary', 'metric': 'auc', 'verbose': -1, 'learning_rate': 0.00513646046606985, 'n_estimators': 1215, 'min_child_samples': 20, 'subsample': 1.0, 'colsample_bytree': 0.6}. Best is trial 12 with value: 0.7351145061328669.\n",
      "[I 2025-02-21 04:17:32,227] Trial 15 finished with value: 0.7347505385964995 and parameters: {'num_iterations': 2146, 'objective': 'binary', 'metric': 'auc', 'verbose': -1, 'learning_rate': 0.009657296341803496, 'n_estimators': 1671, 'min_child_samples': 25, 'subsample': 0.8, 'colsample_bytree': 0.7}. Best is trial 12 with value: 0.7351145061328669.\n",
      "[I 2025-02-21 04:17:42,115] Trial 16 finished with value: 0.7349476291023629 and parameters: {'num_iterations': 2113, 'objective': 'binary', 'metric': 'auc', 'verbose': -1, 'learning_rate': 0.008193220893122482, 'n_estimators': 1067, 'min_child_samples': 20, 'subsample': 0.9, 'colsample_bytree': 0.8}. Best is trial 12 with value: 0.7351145061328669.\n",
      "[I 2025-02-21 04:17:55,789] Trial 17 finished with value: 0.7344531534901894 and parameters: {'num_iterations': 2486, 'objective': 'binary', 'metric': 'auc', 'verbose': -1, 'learning_rate': 0.012177301983254339, 'n_estimators': 1943, 'min_child_samples': 25, 'subsample': 1.0, 'colsample_bytree': 0.6}. Best is trial 12 with value: 0.7351145061328669.\n",
      "[I 2025-02-21 04:18:05,859] Trial 18 finished with value: 0.7352324729159306 and parameters: {'num_iterations': 1745, 'objective': 'binary', 'metric': 'auc', 'verbose': -1, 'learning_rate': 0.005192673733367554, 'n_estimators': 332, 'min_child_samples': 30, 'subsample': 0.8, 'colsample_bytree': 0.9}. Best is trial 18 with value: 0.7352324729159306.\n",
      "[I 2025-02-21 04:18:15,020] Trial 19 finished with value: 0.7349356318745683 and parameters: {'num_iterations': 1710, 'objective': 'binary', 'metric': 'auc', 'verbose': -1, 'learning_rate': 0.007497995163942383, 'n_estimators': 144, 'min_child_samples': 35, 'subsample': 0.8, 'colsample_bytree': 1.0}. Best is trial 18 with value: 0.7352324729159306.\n",
      "[I 2025-02-21 04:18:24,963] Trial 20 finished with value: 0.7351327342942627 and parameters: {'num_iterations': 1771, 'objective': 'binary', 'metric': 'auc', 'verbose': -1, 'learning_rate': 0.00688976659636273, 'n_estimators': 434, 'min_child_samples': 30, 'subsample': 0.8, 'colsample_bytree': 0.9}. Best is trial 18 with value: 0.7352324729159306.\n",
      "[I 2025-02-21 04:18:34,403] Trial 21 finished with value: 0.7350622401563679 and parameters: {'num_iterations': 1778, 'objective': 'binary', 'metric': 'auc', 'verbose': -1, 'learning_rate': 0.00722814897037405, 'n_estimators': 387, 'min_child_samples': 30, 'subsample': 0.8, 'colsample_bytree': 0.9}. Best is trial 18 with value: 0.7352324729159306.\n",
      "[I 2025-02-21 04:18:45,015] Trial 22 finished with value: 0.7353326364642367 and parameters: {'num_iterations': 1982, 'objective': 'binary', 'metric': 'auc', 'verbose': -1, 'learning_rate': 0.0050036295933414505, 'n_estimators': 631, 'min_child_samples': 30, 'subsample': 0.9, 'colsample_bytree': 0.9}. Best is trial 22 with value: 0.7353326364642367.\n",
      "[I 2025-02-21 04:18:55,202] Trial 23 finished with value: 0.7350366889601978 and parameters: {'num_iterations': 1961, 'objective': 'binary', 'metric': 'auc', 'verbose': -1, 'learning_rate': 0.006925508612107438, 'n_estimators': 362, 'min_child_samples': 35, 'subsample': 0.8, 'colsample_bytree': 0.9}. Best is trial 22 with value: 0.7353326364642367.\n",
      "[I 2025-02-21 04:19:05,401] Trial 24 finished with value: 0.7347458405758174 and parameters: {'num_iterations': 2039, 'objective': 'binary', 'metric': 'auc', 'verbose': -1, 'learning_rate': 0.00898551697187332, 'n_estimators': 527, 'min_child_samples': 30, 'subsample': 0.7, 'colsample_bytree': 0.9}. Best is trial 22 with value: 0.7353326364642367.\n",
      "[I 2025-02-21 04:19:15,515] Trial 25 finished with value: 0.7348357423443748 and parameters: {'num_iterations': 1855, 'objective': 'binary', 'metric': 'auc', 'verbose': -1, 'learning_rate': 0.006517323818482844, 'n_estimators': 685, 'min_child_samples': 40, 'subsample': 0.9, 'colsample_bytree': 1.0}. Best is trial 22 with value: 0.7353326364642367.\n",
      "[I 2025-02-21 04:19:23,086] Trial 26 finished with value: 0.7344754839807185 and parameters: {'num_iterations': 1643, 'objective': 'binary', 'metric': 'auc', 'verbose': -1, 'learning_rate': 0.014016100814211405, 'n_estimators': 353, 'min_child_samples': 40, 'subsample': 0.8, 'colsample_bytree': 0.9}. Best is trial 22 with value: 0.7353326364642367.\n",
      "[I 2025-02-21 04:19:32,590] Trial 27 finished with value: 0.7345053440124255 and parameters: {'num_iterations': 2043, 'objective': 'binary', 'metric': 'auc', 'verbose': -1, 'learning_rate': 0.008963657273009818, 'n_estimators': 139, 'min_child_samples': 35, 'subsample': 0.6, 'colsample_bytree': 1.0}. Best is trial 22 with value: 0.7353326364642367.\n",
      "[I 2025-02-21 04:19:43,479] Trial 28 finished with value: 0.7350975686364937 and parameters: {'num_iterations': 2253, 'objective': 'binary', 'metric': 'auc', 'verbose': -1, 'learning_rate': 0.006342855167917399, 'n_estimators': 496, 'min_child_samples': 25, 'subsample': 0.9, 'colsample_bytree': 0.8}. Best is trial 22 with value: 0.7353326364642367.\n",
      "[I 2025-02-21 04:19:50,674] Trial 29 finished with value: 0.7240666081321618 and parameters: {'num_iterations': 1821, 'objective': 'binary', 'metric': 'auc', 'verbose': -1, 'learning_rate': 0.07234407408474254, 'n_estimators': 226, 'min_child_samples': 45, 'subsample': 0.7, 'colsample_bytree': 0.9}. Best is trial 22 with value: 0.7353326364642367.\n",
      "[I 2025-02-21 04:20:01,153] Trial 30 finished with value: 0.7335712917212234 and parameters: {'num_iterations': 2431, 'objective': 'binary', 'metric': 'auc', 'verbose': -1, 'learning_rate': 0.013473179831780013, 'n_estimators': 680, 'min_child_samples': 30, 'subsample': 0.8, 'colsample_bytree': 1.0}. Best is trial 22 with value: 0.7353326364642367.\n",
      "[I 2025-02-21 04:20:10,286] Trial 31 finished with value: 0.7352949013902536 and parameters: {'num_iterations': 1665, 'objective': 'binary', 'metric': 'auc', 'verbose': -1, 'learning_rate': 0.00504257907661904, 'n_estimators': 950, 'min_child_samples': 25, 'subsample': 0.9, 'colsample_bytree': 0.8}. Best is trial 22 with value: 0.7353326364642367.\n",
      "[I 2025-02-21 04:20:19,386] Trial 32 finished with value: 0.7351861876825825 and parameters: {'num_iterations': 1715, 'objective': 'binary', 'metric': 'auc', 'verbose': -1, 'learning_rate': 0.0057630821512632486, 'n_estimators': 935, 'min_child_samples': 30, 'subsample': 0.9, 'colsample_bytree': 0.8}. Best is trial 22 with value: 0.7353326364642367.\n",
      "[I 2025-02-21 04:20:28,528] Trial 33 finished with value: 0.7352177037367953 and parameters: {'num_iterations': 1661, 'objective': 'binary', 'metric': 'auc', 'verbose': -1, 'learning_rate': 0.005045454628375, 'n_estimators': 910, 'min_child_samples': 25, 'subsample': 0.9, 'colsample_bytree': 0.8}. Best is trial 22 with value: 0.7353326364642367.\n",
      "[I 2025-02-21 04:20:37,848] Trial 34 finished with value: 0.7351767320720631 and parameters: {'num_iterations': 1502, 'objective': 'binary', 'metric': 'auc', 'verbose': -1, 'learning_rate': 0.005648489679323124, 'n_estimators': 907, 'min_child_samples': 15, 'subsample': 0.9, 'colsample_bytree': 0.8}. Best is trial 22 with value: 0.7353326364642367.\n",
      "[I 2025-02-21 04:20:46,920] Trial 35 finished with value: 0.7352602281708316 and parameters: {'num_iterations': 1636, 'objective': 'binary', 'metric': 'auc', 'verbose': -1, 'learning_rate': 0.005124531570415765, 'n_estimators': 847, 'min_child_samples': 25, 'subsample': 1.0, 'colsample_bytree': 0.8}. Best is trial 22 with value: 0.7353326364642367.\n",
      "[I 2025-02-21 04:20:55,724] Trial 36 finished with value: 0.7351721293620288 and parameters: {'num_iterations': 1590, 'objective': 'binary', 'metric': 'auc', 'verbose': -1, 'learning_rate': 0.006107930614067179, 'n_estimators': 698, 'min_child_samples': 15, 'subsample': 1.0, 'colsample_bytree': 0.9}. Best is trial 22 with value: 0.7353326364642367.\n",
      "[I 2025-02-21 04:21:05,248] Trial 37 finished with value: 0.7350499768530149 and parameters: {'num_iterations': 1920, 'objective': 'binary', 'metric': 'auc', 'verbose': -1, 'learning_rate': 0.008442369257707484, 'n_estimators': 772, 'min_child_samples': 25, 'subsample': 1.0, 'colsample_bytree': 0.8}. Best is trial 22 with value: 0.7353326364642367.\n",
      "[I 2025-02-21 04:21:14,664] Trial 38 finished with value: 0.7350813062572091 and parameters: {'num_iterations': 1576, 'objective': 'binary', 'metric': 'auc', 'verbose': -1, 'learning_rate': 0.006411727636321183, 'n_estimators': 608, 'min_child_samples': 35, 'subsample': 1.0, 'colsample_bytree': 0.9}. Best is trial 22 with value: 0.7353326364642367.\n",
      "[I 2025-02-21 04:21:24,797] Trial 39 finished with value: 0.7352729680274237 and parameters: {'num_iterations': 1831, 'objective': 'binary', 'metric': 'auc', 'verbose': -1, 'learning_rate': 0.005020384776441591, 'n_estimators': 822, 'min_child_samples': 25, 'subsample': 0.5, 'colsample_bytree': 0.8}. Best is trial 22 with value: 0.7353326364642367.\n"
     ]
    },
    {
     "name": "stdout",
     "output_type": "stream",
     "text": [
      "Cat val score : 0.7362695004195494\n",
      "LGBM val score : 0.7352399865720005\n",
      "Ensemble val score : 0.736325829012412\n"
     ]
    },
    {
     "name": "stderr",
     "output_type": "stream",
     "text": [
      "[I 2025-02-21 04:21:38,477] A new study created in memory with name: no-name-38571458-7507-479f-97cb-c1840384daa3\n"
     ]
    },
    {
     "name": "stdout",
     "output_type": "stream",
     "text": [
      "==================================================\n"
     ]
    },
    {
     "name": "stderr",
     "output_type": "stream",
     "text": [
      "Default metric period is 5 because AUC is/are not implemented for GPU\n"
     ]
    },
    {
     "name": "stdout",
     "output_type": "stream",
     "text": [
      "0:\ttest: 0.7313913\tbest: 0.7313913 (0)\ttotal: 78ms\tremaining: 3m 4s\n",
      "300:\ttest: 0.7405004\tbest: 0.7405004 (300)\ttotal: 24.1s\tremaining: 2m 45s\n",
      "600:\ttest: 0.7421387\tbest: 0.7421445 (598)\ttotal: 48.3s\tremaining: 2m 21s\n",
      "900:\ttest: 0.7426891\tbest: 0.7426891 (900)\ttotal: 1m 12s\tremaining: 1m 57s\n",
      "1200:\ttest: 0.7428016\tbest: 0.7428420 (1092)\ttotal: 1m 36s\tremaining: 1m 33s\n",
      "bestTest = 0.742841959\n",
      "bestIteration = 1092\n",
      "Shrink model to first 1093 iterations.\n"
     ]
    },
    {
     "name": "stderr",
     "output_type": "stream",
     "text": [
      "[I 2025-02-21 04:23:32,832] Trial 0 finished with value: 0.7428419589996338 and parameters: {'iterations': 2366, 'depth': 10, 'learning_rate': 0.01181021951839225, 'l2_leaf_reg': 9.980783802743254}. Best is trial 0 with value: 0.7428419589996338.\n"
     ]
    },
    {
     "name": "stdout",
     "output_type": "stream",
     "text": [
      "저장 완료\n"
     ]
    },
    {
     "name": "stderr",
     "output_type": "stream",
     "text": [
      "Default metric period is 5 because AUC is/are not implemented for GPU\n"
     ]
    },
    {
     "name": "stdout",
     "output_type": "stream",
     "text": [
      "0:\ttest: 0.6997534\tbest: 0.6997534 (0)\ttotal: 19.5ms\tremaining: 42.7s\n",
      "300:\ttest: 0.7286566\tbest: 0.7286566 (300)\ttotal: 4.71s\tremaining: 29.6s\n",
      "600:\ttest: 0.7341018\tbest: 0.7341018 (600)\ttotal: 9.95s\tremaining: 26.4s\n",
      "900:\ttest: 0.7366525\tbest: 0.7366525 (900)\ttotal: 14s\tremaining: 20s\n",
      "1200:\ttest: 0.7380695\tbest: 0.7380695 (1200)\ttotal: 18s\tremaining: 14.8s\n",
      "1500:\ttest: 0.7390019\tbest: 0.7390019 (1500)\ttotal: 22s\tremaining: 10.1s\n",
      "1800:\ttest: 0.7396562\tbest: 0.7396562 (1800)\ttotal: 27.2s\tremaining: 5.91s\n",
      "2100:\ttest: 0.7401824\tbest: 0.7401824 (2100)\ttotal: 31.6s\tremaining: 1.38s\n",
      "2192:\ttest: 0.7403392\tbest: 0.7403392 (2192)\ttotal: 32.8s\tremaining: 0us\n",
      "bestTest = 0.7403392494\n",
      "bestIteration = 2192\n"
     ]
    },
    {
     "name": "stderr",
     "output_type": "stream",
     "text": [
      "[I 2025-02-21 04:24:08,976] Trial 1 finished with value: 0.7403392493724823 and parameters: {'iterations': 2193, 'depth': 4, 'learning_rate': 0.005671430811678843, 'l2_leaf_reg': 0.00012325230809466137}. Best is trial 0 with value: 0.7428419589996338.\n",
      "Default metric period is 5 because AUC is/are not implemented for GPU\n"
     ]
    },
    {
     "name": "stdout",
     "output_type": "stream",
     "text": [
      "0:\ttest: 0.6997534\tbest: 0.6997534 (0)\ttotal: 14.8ms\tremaining: 37.4s\n",
      "300:\ttest: 0.7413245\tbest: 0.7413733 (294)\ttotal: 4.25s\tremaining: 31.6s\n",
      "600:\ttest: 0.7415037\tbest: 0.7416047 (438)\ttotal: 8.37s\tremaining: 26.9s\n",
      "900:\ttest: 0.7413927\tbest: 0.7416419 (611)\ttotal: 12.4s\tremaining: 22.5s\n",
      "bestTest = 0.7416419089\n",
      "bestIteration = 611\n",
      "Shrink model to first 612 iterations.\n"
     ]
    },
    {
     "name": "stderr",
     "output_type": "stream",
     "text": [
      "[I 2025-02-21 04:24:24,888] Trial 2 finished with value: 0.7416419088840485 and parameters: {'iterations': 2535, 'depth': 4, 'learning_rate': 0.09275339199839054, 'l2_leaf_reg': 0.0008705394248343123}. Best is trial 0 with value: 0.7428419589996338.\n",
      "Default metric period is 5 because AUC is/are not implemented for GPU\n"
     ]
    },
    {
     "name": "stdout",
     "output_type": "stream",
     "text": [
      "0:\ttest: 0.6997534\tbest: 0.6997534 (0)\ttotal: 14.6ms\tremaining: 34s\n",
      "300:\ttest: 0.7405744\tbest: 0.7405744 (300)\ttotal: 4.08s\tremaining: 27.5s\n",
      "600:\ttest: 0.7418846\tbest: 0.7418981 (574)\ttotal: 8.09s\tremaining: 23.3s\n",
      "900:\ttest: 0.7420741\tbest: 0.7421074 (893)\ttotal: 12.1s\tremaining: 19.3s\n"
     ]
    },
    {
     "name": "stderr",
     "output_type": "stream",
     "text": [
      "[I 2025-02-21 04:24:44,905] Trial 3 finished with value: 0.7421074211597443 and parameters: {'iterations': 2334, 'depth': 4, 'learning_rate': 0.04657568321363276, 'l2_leaf_reg': 0.0008640473331457248}. Best is trial 0 with value: 0.7428419589996338.\n"
     ]
    },
    {
     "name": "stdout",
     "output_type": "stream",
     "text": [
      "bestTest = 0.7421074212\n",
      "bestIteration = 893\n",
      "Shrink model to first 894 iterations.\n"
     ]
    },
    {
     "name": "stderr",
     "output_type": "stream",
     "text": [
      "Default metric period is 5 because AUC is/are not implemented for GPU\n"
     ]
    },
    {
     "name": "stdout",
     "output_type": "stream",
     "text": [
      "0:\ttest: 0.7313343\tbest: 0.7313343 (0)\ttotal: 89.3ms\tremaining: 2m 35s\n",
      "300:\ttest: 0.7398447\tbest: 0.7399276 (297)\ttotal: 24.4s\tremaining: 1m 56s\n",
      "600:\ttest: 0.7405226\tbest: 0.7406078 (546)\ttotal: 48.6s\tremaining: 1m 32s\n",
      "bestTest = 0.7406077981\n",
      "bestIteration = 546\n",
      "Shrink model to first 547 iterations.\n"
     ]
    },
    {
     "name": "stderr",
     "output_type": "stream",
     "text": [
      "[I 2025-02-21 04:25:56,816] Trial 4 finished with value: 0.7406077980995178 and parameters: {'iterations': 1742, 'depth': 10, 'learning_rate': 0.012622767482095846, 'l2_leaf_reg': 0.00021158816350109617}. Best is trial 0 with value: 0.7428419589996338.\n",
      "Default metric period is 5 because AUC is/are not implemented for GPU\n"
     ]
    },
    {
     "name": "stdout",
     "output_type": "stream",
     "text": [
      "0:\ttest: 0.6997534\tbest: 0.6997534 (0)\ttotal: 19.8ms\tremaining: 41.2s\n",
      "300:\ttest: 0.7414744\tbest: 0.7414923 (296)\ttotal: 4.73s\tremaining: 28s\n",
      "600:\ttest: 0.7419164\tbest: 0.7419958 (540)\ttotal: 8.8s\tremaining: 21.7s\n",
      "900:\ttest: 0.7420058\tbest: 0.7420685 (877)\ttotal: 12.9s\tremaining: 16.9s\n",
      "1200:\ttest: 0.7420370\tbest: 0.7421071 (1108)\ttotal: 17.1s\tremaining: 12.6s\n"
     ]
    },
    {
     "name": "stderr",
     "output_type": "stream",
     "text": [
      "[I 2025-02-21 04:26:20,168] Trial 5 finished with value: 0.742107093334198 and parameters: {'iterations': 2082, 'depth': 4, 'learning_rate': 0.06995196593094148, 'l2_leaf_reg': 0.0018080296485396804}. Best is trial 0 with value: 0.7428419589996338.\n"
     ]
    },
    {
     "name": "stdout",
     "output_type": "stream",
     "text": [
      "bestTest = 0.7421070933\n",
      "bestIteration = 1108\n",
      "Shrink model to first 1109 iterations.\n"
     ]
    },
    {
     "name": "stderr",
     "output_type": "stream",
     "text": [
      "Default metric period is 5 because AUC is/are not implemented for GPU\n"
     ]
    },
    {
     "name": "stdout",
     "output_type": "stream",
     "text": [
      "0:\ttest: 0.7054052\tbest: 0.7054052 (0)\ttotal: 22.9ms\tremaining: 45.8s\n",
      "300:\ttest: 0.7420757\tbest: 0.7420913 (298)\ttotal: 7.74s\tremaining: 43.6s\n",
      "600:\ttest: 0.7426122\tbest: 0.7426160 (596)\ttotal: 15.5s\tremaining: 36s\n",
      "900:\ttest: 0.7424925\tbest: 0.7426885 (745)\ttotal: 23.2s\tremaining: 28.2s\n",
      "bestTest = 0.742688477\n",
      "bestIteration = 745\n",
      "Shrink model to first 746 iterations.\n"
     ]
    },
    {
     "name": "stderr",
     "output_type": "stream",
     "text": [
      "[I 2025-02-21 04:26:50,553] Trial 6 finished with value: 0.7426884770393372 and parameters: {'iterations': 1997, 'depth': 5, 'learning_rate': 0.07985155992831598, 'l2_leaf_reg': 62.52181000710482}. Best is trial 0 with value: 0.7428419589996338.\n",
      "Default metric period is 5 because AUC is/are not implemented for GPU\n"
     ]
    },
    {
     "name": "stdout",
     "output_type": "stream",
     "text": [
      "0:\ttest: 0.7280103\tbest: 0.7280103 (0)\ttotal: 41.2ms\tremaining: 1m 19s\n",
      "300:\ttest: 0.7418340\tbest: 0.7419735 (273)\ttotal: 10.5s\tremaining: 56.7s\n",
      "600:\ttest: 0.7403435\tbest: 0.7423012 (353)\ttotal: 21.7s\tremaining: 47.8s\n"
     ]
    },
    {
     "name": "stderr",
     "output_type": "stream",
     "text": [
      "[I 2025-02-21 04:27:17,590] Trial 7 finished with value: 0.7423011660575867 and parameters: {'iterations': 1927, 'depth': 7, 'learning_rate': 0.0941937211034094, 'l2_leaf_reg': 0.05654822767791934}. Best is trial 0 with value: 0.7428419589996338.\n"
     ]
    },
    {
     "name": "stdout",
     "output_type": "stream",
     "text": [
      "bestTest = 0.7423011661\n",
      "bestIteration = 353\n",
      "Shrink model to first 354 iterations.\n"
     ]
    },
    {
     "name": "stderr",
     "output_type": "stream",
     "text": [
      "Default metric period is 5 because AUC is/are not implemented for GPU\n"
     ]
    },
    {
     "name": "stdout",
     "output_type": "stream",
     "text": [
      "0:\ttest: 0.7280103\tbest: 0.7280103 (0)\ttotal: 37.1ms\tremaining: 1m 10s\n",
      "300:\ttest: 0.7423539\tbest: 0.7424080 (280)\ttotal: 11.2s\tremaining: 59.6s\n",
      "600:\ttest: 0.7426139\tbest: 0.7428728 (451)\ttotal: 21.2s\tremaining: 46.1s\n",
      "bestTest = 0.7428727746\n",
      "bestIteration = 451\n",
      "Shrink model to first 452 iterations.\n"
     ]
    },
    {
     "name": "stderr",
     "output_type": "stream",
     "text": [
      "[I 2025-02-21 04:27:47,188] Trial 8 finished with value: 0.7428727746009827 and parameters: {'iterations': 1904, 'depth': 7, 'learning_rate': 0.05155602859187331, 'l2_leaf_reg': 1.299974533316308}. Best is trial 8 with value: 0.7428727746009827.\n"
     ]
    },
    {
     "name": "stdout",
     "output_type": "stream",
     "text": [
      "저장 완료\n"
     ]
    },
    {
     "name": "stderr",
     "output_type": "stream",
     "text": [
      "Default metric period is 5 because AUC is/are not implemented for GPU\n"
     ]
    },
    {
     "name": "stdout",
     "output_type": "stream",
     "text": [
      "0:\ttest: 0.7231779\tbest: 0.7231779 (0)\ttotal: 36.4ms\tremaining: 1m 36s\n",
      "300:\ttest: 0.7417063\tbest: 0.7417071 (298)\ttotal: 7.44s\tremaining: 57.8s\n",
      "600:\ttest: 0.7425130\tbest: 0.7425164 (599)\ttotal: 14s\tremaining: 47.6s\n",
      "900:\ttest: 0.7423730\tbest: 0.7425323 (666)\ttotal: 20.6s\tremaining: 39.8s\n"
     ]
    },
    {
     "name": "stderr",
     "output_type": "stream",
     "text": [
      "[I 2025-02-21 04:28:12,806] Trial 9 finished with value: 0.7425323128700256 and parameters: {'iterations': 2639, 'depth': 6, 'learning_rate': 0.03968704290444751, 'l2_leaf_reg': 0.30557194377967184}. Best is trial 8 with value: 0.7428727746009827.\n"
     ]
    },
    {
     "name": "stdout",
     "output_type": "stream",
     "text": [
      "bestTest = 0.7425323129\n",
      "bestIteration = 666\n",
      "Shrink model to first 667 iterations.\n"
     ]
    },
    {
     "name": "stderr",
     "output_type": "stream",
     "text": [
      "Default metric period is 5 because AUC is/are not implemented for GPU\n"
     ]
    },
    {
     "name": "stdout",
     "output_type": "stream",
     "text": [
      "0:\ttest: 0.7305933\tbest: 0.7305933 (0)\ttotal: 47.1ms\tremaining: 2m 18s\n",
      "300:\ttest: 0.7426444\tbest: 0.7428440 (261)\ttotal: 12s\tremaining: 1m 45s\n"
     ]
    },
    {
     "name": "stderr",
     "output_type": "stream",
     "text": [
      "[I 2025-02-21 04:28:37,923] Trial 10 finished with value: 0.7428439855575562 and parameters: {'iterations': 2945, 'depth': 8, 'learning_rate': 0.06206283181204082, 'l2_leaf_reg': 1.738744547551828}. Best is trial 8 with value: 0.7428727746009827.\n"
     ]
    },
    {
     "name": "stdout",
     "output_type": "stream",
     "text": [
      "bestTest = 0.7428439856\n",
      "bestIteration = 261\n",
      "Shrink model to first 262 iterations.\n"
     ]
    },
    {
     "name": "stderr",
     "output_type": "stream",
     "text": [
      "Default metric period is 5 because AUC is/are not implemented for GPU\n"
     ]
    },
    {
     "name": "stdout",
     "output_type": "stream",
     "text": [
      "0:\ttest: 0.7305933\tbest: 0.7305933 (0)\ttotal: 47.5ms\tremaining: 2m 22s\n",
      "300:\ttest: 0.7422978\tbest: 0.7424733 (222)\ttotal: 11.8s\tremaining: 1m 45s\n",
      "bestTest = 0.7424733043\n",
      "bestIteration = 222\n",
      "Shrink model to first 223 iterations.\n"
     ]
    },
    {
     "name": "stderr",
     "output_type": "stream",
     "text": [
      "[I 2025-02-21 04:29:01,800] Trial 11 finished with value: 0.742473304271698 and parameters: {'iterations': 2994, 'depth': 8, 'learning_rate': 0.06314094331924561, 'l2_leaf_reg': 1.9458284937024213}. Best is trial 8 with value: 0.7428727746009827.\n",
      "Default metric period is 5 because AUC is/are not implemented for GPU\n"
     ]
    },
    {
     "name": "stdout",
     "output_type": "stream",
     "text": [
      "0:\ttest: 0.7305938\tbest: 0.7305938 (0)\ttotal: 52ms\tremaining: 1m 21s\n",
      "300:\ttest: 0.7428674\tbest: 0.7428674 (300)\ttotal: 14.4s\tremaining: 1m\n",
      "600:\ttest: 0.7419573\tbest: 0.7429015 (303)\ttotal: 28.9s\tremaining: 46.4s\n",
      "bestTest = 0.7429014742\n",
      "bestIteration = 303\n",
      "Shrink model to first 304 iterations.\n"
     ]
    },
    {
     "name": "stderr",
     "output_type": "stream",
     "text": [
      "[I 2025-02-21 04:29:34,379] Trial 12 finished with value: 0.742901474237442 and parameters: {'iterations': 1565, 'depth': 8, 'learning_rate': 0.05292729463882511, 'l2_leaf_reg': 0.8360692218769613}. Best is trial 12 with value: 0.742901474237442.\n"
     ]
    },
    {
     "name": "stdout",
     "output_type": "stream",
     "text": [
      "저장 완료\n"
     ]
    },
    {
     "name": "stderr",
     "output_type": "stream",
     "text": [
      "Default metric period is 5 because AUC is/are not implemented for GPU\n"
     ]
    },
    {
     "name": "stdout",
     "output_type": "stream",
     "text": [
      "0:\ttest: 0.7305939\tbest: 0.7305939 (0)\ttotal: 51.7ms\tremaining: 1m 22s\n",
      "300:\ttest: 0.7418950\tbest: 0.7418950 (300)\ttotal: 14.3s\tremaining: 1m 1s\n",
      "600:\ttest: 0.7413555\tbest: 0.7420132 (432)\ttotal: 28.9s\tremaining: 47.9s\n",
      "bestTest = 0.7420131862\n",
      "bestIteration = 432\n",
      "Shrink model to first 433 iterations.\n"
     ]
    },
    {
     "name": "stderr",
     "output_type": "stream",
     "text": [
      "[I 2025-02-21 04:30:13,328] Trial 13 finished with value: 0.7420131862163544 and parameters: {'iterations': 1597, 'depth': 8, 'learning_rate': 0.03929405842707977, 'l2_leaf_reg': 0.05056418498118175}. Best is trial 12 with value: 0.742901474237442.\n",
      "Default metric period is 5 because AUC is/are not implemented for GPU\n"
     ]
    },
    {
     "name": "stdout",
     "output_type": "stream",
     "text": [
      "0:\ttest: 0.7280103\tbest: 0.7280103 (0)\ttotal: 37.6ms\tremaining: 57.5s\n",
      "300:\ttest: 0.7426209\tbest: 0.7426209 (300)\ttotal: 9.25s\tremaining: 37.9s\n",
      "600:\ttest: 0.7423291\tbest: 0.7429339 (340)\ttotal: 17.8s\tremaining: 27.6s\n"
     ]
    },
    {
     "name": "stderr",
     "output_type": "stream",
     "text": [
      "[I 2025-02-21 04:30:35,585] Trial 14 finished with value: 0.7429338991641998 and parameters: {'iterations': 1533, 'depth': 7, 'learning_rate': 0.05166890059690833, 'l2_leaf_reg': 0.2738468651115194}. Best is trial 14 with value: 0.7429338991641998.\n"
     ]
    },
    {
     "name": "stdout",
     "output_type": "stream",
     "text": [
      "bestTest = 0.7429338992\n",
      "bestIteration = 340\n",
      "Shrink model to first 341 iterations.\n",
      "저장 완료\n"
     ]
    },
    {
     "name": "stderr",
     "output_type": "stream",
     "text": [
      "Default metric period is 5 because AUC is/are not implemented for GPU\n"
     ]
    },
    {
     "name": "stdout",
     "output_type": "stream",
     "text": [
      "0:\ttest: 0.7310463\tbest: 0.7310463 (0)\ttotal: 57.8ms\tremaining: 1m 27s\n",
      "300:\ttest: 0.7411112\tbest: 0.7411329 (274)\ttotal: 18s\tremaining: 1m 12s\n",
      "600:\ttest: 0.7407147\tbest: 0.7415330 (363)\ttotal: 34s\tremaining: 51.6s\n",
      "bestTest = 0.7415329516\n",
      "bestIteration = 363\n",
      "Shrink model to first 364 iterations.\n"
     ]
    },
    {
     "name": "stderr",
     "output_type": "stream",
     "text": [
      "[I 2025-02-21 04:31:16,420] Trial 15 finished with value: 0.741532951593399 and parameters: {'iterations': 1513, 'depth': 9, 'learning_rate': 0.0341677494588813, 'l2_leaf_reg': 0.026986971696484466}. Best is trial 14 with value: 0.7429338991641998.\n",
      "Default metric period is 5 because AUC is/are not implemented for GPU\n"
     ]
    },
    {
     "name": "stdout",
     "output_type": "stream",
     "text": [
      "0:\ttest: 0.7231779\tbest: 0.7231779 (0)\ttotal: 27.3ms\tremaining: 48.2s\n",
      "300:\ttest: 0.7409021\tbest: 0.7409021 (300)\ttotal: 7.6s\tremaining: 37s\n",
      "600:\ttest: 0.7422964\tbest: 0.7422979 (599)\ttotal: 14.3s\tremaining: 27.7s\n",
      "900:\ttest: 0.7426656\tbest: 0.7426753 (857)\ttotal: 20.9s\tremaining: 20.1s\n",
      "1200:\ttest: 0.7427031\tbest: 0.7427096 (1165)\ttotal: 27.6s\tremaining: 13s\n",
      "1500:\ttest: 0.7426705\tbest: 0.7428628 (1324)\ttotal: 34.2s\tremaining: 6.07s\n",
      "bestTest = 0.7428628206\n",
      "bestIteration = 1324\n",
      "Shrink model to first 1325 iterations.\n"
     ]
    },
    {
     "name": "stderr",
     "output_type": "stream",
     "text": [
      "[I 2025-02-21 04:31:56,828] Trial 16 finished with value: 0.7428628206253052 and parameters: {'iterations': 1767, 'depth': 6, 'learning_rate': 0.027198320505425724, 'l2_leaf_reg': 0.32899530926515486}. Best is trial 14 with value: 0.7429338991641998.\n",
      "Default metric period is 5 because AUC is/are not implemented for GPU\n"
     ]
    },
    {
     "name": "stdout",
     "output_type": "stream",
     "text": [
      "0:\ttest: 0.7280103\tbest: 0.7280103 (0)\ttotal: 37.8ms\tremaining: 1m 6s\n",
      "300:\ttest: 0.7417004\tbest: 0.7417004 (300)\ttotal: 9.33s\tremaining: 45.5s\n",
      "600:\ttest: 0.7410469\tbest: 0.7419729 (333)\ttotal: 17.8s\tremaining: 34.7s\n"
     ]
    },
    {
     "name": "stderr",
     "output_type": "stream",
     "text": [
      "[I 2025-02-21 04:32:18,911] Trial 17 finished with value: 0.7419728636741638 and parameters: {'iterations': 1770, 'depth': 7, 'learning_rate': 0.05742508707118142, 'l2_leaf_reg': 0.007954808409196443}. Best is trial 14 with value: 0.7429338991641998.\n"
     ]
    },
    {
     "name": "stdout",
     "output_type": "stream",
     "text": [
      "bestTest = 0.7419728637\n",
      "bestIteration = 333\n",
      "Shrink model to first 334 iterations.\n"
     ]
    },
    {
     "name": "stderr",
     "output_type": "stream",
     "text": [
      "Default metric period is 5 because AUC is/are not implemented for GPU\n"
     ]
    },
    {
     "name": "stdout",
     "output_type": "stream",
     "text": [
      "0:\ttest: 0.7310648\tbest: 0.7310648 (0)\ttotal: 61.3ms\tremaining: 1m 37s\n",
      "300:\ttest: 0.7411636\tbest: 0.7415374 (236)\ttotal: 16.7s\tremaining: 1m 11s\n"
     ]
    },
    {
     "name": "stderr",
     "output_type": "stream",
     "text": [
      "[I 2025-02-21 04:32:51,475] Trial 18 finished with value: 0.7415373921394348 and parameters: {'iterations': 1585, 'depth': 9, 'learning_rate': 0.04885404279754595, 'l2_leaf_reg': 0.21385973711127224}. Best is trial 14 with value: 0.7429338991641998.\n"
     ]
    },
    {
     "name": "stdout",
     "output_type": "stream",
     "text": [
      "bestTest = 0.7415373921\n",
      "bestIteration = 236\n",
      "Shrink model to first 237 iterations.\n"
     ]
    },
    {
     "name": "stderr",
     "output_type": "stream",
     "text": [
      "Default metric period is 5 because AUC is/are not implemented for GPU\n"
     ]
    },
    {
     "name": "stdout",
     "output_type": "stream",
     "text": [
      "0:\ttest: 0.7231779\tbest: 0.7231779 (0)\ttotal: 30.5ms\tremaining: 51s\n",
      "300:\ttest: 0.7417507\tbest: 0.7418122 (245)\ttotal: 7.06s\tremaining: 32.1s\n",
      "600:\ttest: 0.7417272\tbest: 0.7419539 (490)\ttotal: 13.7s\tremaining: 24.4s\n"
     ]
    },
    {
     "name": "stderr",
     "output_type": "stream",
     "text": [
      "[I 2025-02-21 04:33:12,704] Trial 19 finished with value: 0.7419539093971252 and parameters: {'iterations': 1671, 'depth': 6, 'learning_rate': 0.06756371844589396, 'l2_leaf_reg': 0.01644200510781862}. Best is trial 14 with value: 0.7429338991641998.\n"
     ]
    },
    {
     "name": "stdout",
     "output_type": "stream",
     "text": [
      "bestTest = 0.7419539094\n",
      "bestIteration = 490\n",
      "Shrink model to first 491 iterations.\n"
     ]
    },
    {
     "name": "stderr",
     "output_type": "stream",
     "text": [
      "Default metric period is 5 because AUC is/are not implemented for GPU\n"
     ]
    },
    {
     "name": "stdout",
     "output_type": "stream",
     "text": [
      "0:\ttest: 0.7310648\tbest: 0.7310648 (0)\ttotal: 66ms\tremaining: 2m 1s\n",
      "300:\ttest: 0.7393595\tbest: 0.7408522 (96)\ttotal: 19.5s\tremaining: 1m 40s\n"
     ]
    },
    {
     "name": "stderr",
     "output_type": "stream",
     "text": [
      "[I 2025-02-21 04:33:40,655] Trial 20 finished with value: 0.7408521771430969 and parameters: {'iterations': 1849, 'depth': 9, 'learning_rate': 0.0767805512853846, 'l2_leaf_reg': 0.15401277899006233}. Best is trial 14 with value: 0.7429338991641998.\n"
     ]
    },
    {
     "name": "stdout",
     "output_type": "stream",
     "text": [
      "bestTest = 0.7408521771\n",
      "bestIteration = 96\n",
      "Shrink model to first 97 iterations.\n"
     ]
    },
    {
     "name": "stderr",
     "output_type": "stream",
     "text": [
      "Default metric period is 5 because AUC is/are not implemented for GPU\n"
     ]
    },
    {
     "name": "stdout",
     "output_type": "stream",
     "text": [
      "0:\ttest: 0.7280103\tbest: 0.7280103 (0)\ttotal: 35.8ms\tremaining: 54s\n",
      "300:\ttest: 0.7424365\tbest: 0.7424365 (300)\ttotal: 9.18s\tremaining: 36.8s\n",
      "600:\ttest: 0.7424204\tbest: 0.7426364 (356)\ttotal: 17.6s\tremaining: 26.6s\n",
      "bestTest = 0.7426364422\n",
      "bestIteration = 356\n",
      "Shrink model to first 357 iterations.\n"
     ]
    },
    {
     "name": "stderr",
     "output_type": "stream",
     "text": [
      "[I 2025-02-21 04:34:03,533] Trial 21 finished with value: 0.7426364421844482 and parameters: {'iterations': 1507, 'depth': 7, 'learning_rate': 0.051755727974241585, 'l2_leaf_reg': 0.9178712401200942}. Best is trial 14 with value: 0.7429338991641998.\n",
      "Default metric period is 5 because AUC is/are not implemented for GPU\n"
     ]
    },
    {
     "name": "stdout",
     "output_type": "stream",
     "text": [
      "0:\ttest: 0.7280004\tbest: 0.7280004 (0)\ttotal: 28.7ms\tremaining: 54.5s\n",
      "300:\ttest: 0.7424342\tbest: 0.7424342 (300)\ttotal: 8.7s\tremaining: 46.2s\n",
      "600:\ttest: 0.7426423\tbest: 0.7427770 (397)\ttotal: 17.4s\tremaining: 37.5s\n"
     ]
    },
    {
     "name": "stderr",
     "output_type": "stream",
     "text": [
      "[I 2025-02-21 04:34:27,346] Trial 22 finished with value: 0.742777019739151 and parameters: {'iterations': 1899, 'depth': 7, 'learning_rate': 0.05426816355074104, 'l2_leaf_reg': 5.17686090437539}. Best is trial 14 with value: 0.7429338991641998.\n"
     ]
    },
    {
     "name": "stdout",
     "output_type": "stream",
     "text": [
      "bestTest = 0.7427770197\n",
      "bestIteration = 397\n",
      "Shrink model to first 398 iterations.\n"
     ]
    },
    {
     "name": "stderr",
     "output_type": "stream",
     "text": [
      "Default metric period is 5 because AUC is/are not implemented for GPU\n"
     ]
    },
    {
     "name": "stdout",
     "output_type": "stream",
     "text": [
      "0:\ttest: 0.7305934\tbest: 0.7305934 (0)\ttotal: 38.2ms\tremaining: 1m 3s\n",
      "300:\ttest: 0.7424030\tbest: 0.7424356 (298)\ttotal: 12.2s\tremaining: 54.8s\n"
     ]
    },
    {
     "name": "stderr",
     "output_type": "stream",
     "text": [
      "[I 2025-02-21 04:34:54,942] Trial 23 finished with value: 0.7424356341362 and parameters: {'iterations': 1657, 'depth': 8, 'learning_rate': 0.05629613338854729, 'l2_leaf_reg': 1.1550327684493025}. Best is trial 14 with value: 0.7429338991641998.\n"
     ]
    },
    {
     "name": "stdout",
     "output_type": "stream",
     "text": [
      "bestTest = 0.7424356341\n",
      "bestIteration = 298\n",
      "Shrink model to first 299 iterations.\n"
     ]
    },
    {
     "name": "stderr",
     "output_type": "stream",
     "text": [
      "Default metric period is 5 because AUC is/are not implemented for GPU\n"
     ]
    },
    {
     "name": "stdout",
     "output_type": "stream",
     "text": [
      "0:\ttest: 0.7231779\tbest: 0.7231779 (0)\ttotal: 27ms\tremaining: 56.8s\n",
      "300:\ttest: 0.7418540\tbest: 0.7418815 (297)\ttotal: 7.36s\tremaining: 44.1s\n",
      "600:\ttest: 0.7426509\tbest: 0.7426771 (599)\ttotal: 14.2s\tremaining: 35.4s\n",
      "900:\ttest: 0.7426620\tbest: 0.7427682 (702)\ttotal: 20.9s\tremaining: 27.9s\n"
     ]
    },
    {
     "name": "stderr",
     "output_type": "stream",
     "text": [
      "[I 2025-02-21 04:35:21,489] Trial 24 finished with value: 0.7427681684494019 and parameters: {'iterations': 2104, 'depth': 6, 'learning_rate': 0.04893347104009999, 'l2_leaf_reg': 0.7221306072918333}. Best is trial 14 with value: 0.7429338991641998.\n"
     ]
    },
    {
     "name": "stdout",
     "output_type": "stream",
     "text": [
      "bestTest = 0.7427681684\n",
      "bestIteration = 702\n",
      "Shrink model to first 703 iterations.\n"
     ]
    },
    {
     "name": "stderr",
     "output_type": "stream",
     "text": [
      "Default metric period is 5 because AUC is/are not implemented for GPU\n"
     ]
    },
    {
     "name": "stdout",
     "output_type": "stream",
     "text": [
      "0:\ttest: 0.7280103\tbest: 0.7280103 (0)\ttotal: 36.3ms\tremaining: 1m 5s\n",
      "300:\ttest: 0.7424690\tbest: 0.7424864 (293)\ttotal: 9.52s\tremaining: 47.9s\n",
      "600:\ttest: 0.7427109\tbest: 0.7428424 (462)\ttotal: 18.5s\tremaining: 37.4s\n",
      "900:\ttest: 0.7425390\tbest: 0.7428930 (699)\ttotal: 27s\tremaining: 27.4s\n"
     ]
    },
    {
     "name": "stderr",
     "output_type": "stream",
     "text": [
      "[I 2025-02-21 04:35:54,864] Trial 25 finished with value: 0.7428930401802063 and parameters: {'iterations': 1815, 'depth': 7, 'learning_rate': 0.0430732756948711, 'l2_leaf_reg': 0.11718066933600847}. Best is trial 14 with value: 0.7429338991641998.\n"
     ]
    },
    {
     "name": "stdout",
     "output_type": "stream",
     "text": [
      "bestTest = 0.7428930402\n",
      "bestIteration = 699\n",
      "Shrink model to first 700 iterations.\n"
     ]
    },
    {
     "name": "stderr",
     "output_type": "stream",
     "text": [
      "Default metric period is 5 because AUC is/are not implemented for GPU\n"
     ]
    },
    {
     "name": "stdout",
     "output_type": "stream",
     "text": [
      "0:\ttest: 0.7305939\tbest: 0.7305939 (0)\ttotal: 44.8ms\tremaining: 1m 14s\n",
      "300:\ttest: 0.7415687\tbest: 0.7415687 (300)\ttotal: 11.5s\tremaining: 51.8s\n",
      "600:\ttest: 0.7419645\tbest: 0.7421282 (425)\ttotal: 23s\tremaining: 40.4s\n",
      "bestTest = 0.7421281636\n",
      "bestIteration = 425\n",
      "Shrink model to first 426 iterations.\n"
     ]
    },
    {
     "name": "stderr",
     "output_type": "stream",
     "text": [
      "[I 2025-02-21 04:36:25,895] Trial 26 finished with value: 0.7421281635761261 and parameters: {'iterations': 1656, 'depth': 8, 'learning_rate': 0.029236640164716513, 'l2_leaf_reg': 0.0878013276586667}. Best is trial 14 with value: 0.7429338991641998.\n",
      "Default metric period is 5 because AUC is/are not implemented for GPU\n"
     ]
    },
    {
     "name": "stdout",
     "output_type": "stream",
     "text": [
      "0:\ttest: 0.7054052\tbest: 0.7054052 (0)\ttotal: 23.5ms\tremaining: 35.7s\n",
      "300:\ttest: 0.7411964\tbest: 0.7411964 (300)\ttotal: 6.04s\tremaining: 24.4s\n",
      "600:\ttest: 0.7422066\tbest: 0.7422214 (540)\ttotal: 11.8s\tremaining: 18s\n",
      "900:\ttest: 0.7426113\tbest: 0.7426371 (892)\ttotal: 17.1s\tremaining: 11.7s\n",
      "1200:\ttest: 0.7426524\tbest: 0.7427441 (1152)\ttotal: 23.2s\tremaining: 6.11s\n"
     ]
    },
    {
     "name": "stderr",
     "output_type": "stream",
     "text": [
      "[I 2025-02-21 04:36:57,724] Trial 27 finished with value: 0.7427441477775574 and parameters: {'iterations': 1518, 'depth': 5, 'learning_rate': 0.04260056384196155, 'l2_leaf_reg': 0.09455276612791595}. Best is trial 14 with value: 0.7429338991641998.\n"
     ]
    },
    {
     "name": "stdout",
     "output_type": "stream",
     "text": [
      "bestTest = 0.7427441478\n",
      "bestIteration = 1152\n",
      "Shrink model to first 1153 iterations.\n"
     ]
    },
    {
     "name": "stderr",
     "output_type": "stream",
     "text": [
      "Default metric period is 5 because AUC is/are not implemented for GPU\n"
     ]
    },
    {
     "name": "stdout",
     "output_type": "stream",
     "text": [
      "0:\ttest: 0.7310649\tbest: 0.7310649 (0)\ttotal: 61.2ms\tremaining: 1m 44s\n",
      "300:\ttest: 0.7419838\tbest: 0.7420354 (295)\ttotal: 16.7s\tremaining: 1m 18s\n",
      "600:\ttest: 0.7408784\tbest: 0.7421691 (323)\ttotal: 32.6s\tremaining: 1m\n"
     ]
    },
    {
     "name": "stderr",
     "output_type": "stream",
     "text": [
      "[I 2025-02-21 04:37:34,907] Trial 28 finished with value: 0.7421691119670868 and parameters: {'iterations': 1714, 'depth': 9, 'learning_rate': 0.03652552394407586, 'l2_leaf_reg': 0.44016833438090164}. Best is trial 14 with value: 0.7429338991641998.\n"
     ]
    },
    {
     "name": "stdout",
     "output_type": "stream",
     "text": [
      "bestTest = 0.742169112\n",
      "bestIteration = 323\n",
      "Shrink model to first 324 iterations.\n"
     ]
    },
    {
     "name": "stderr",
     "output_type": "stream",
     "text": [
      "Default metric period is 5 because AUC is/are not implemented for GPU\n"
     ]
    },
    {
     "name": "stdout",
     "output_type": "stream",
     "text": [
      "0:\ttest: 0.7313682\tbest: 0.7313682 (0)\ttotal: 86.4ms\tremaining: 2m 36s\n",
      "300:\ttest: 0.7421068\tbest: 0.7421276 (295)\ttotal: 24.6s\tremaining: 2m 3s\n",
      "600:\ttest: 0.7408357\tbest: 0.7421388 (302)\ttotal: 48.7s\tremaining: 1m 38s\n",
      "bestTest = 0.742138803\n",
      "bestIteration = 302\n",
      "Shrink model to first 303 iterations.\n"
     ]
    },
    {
     "name": "stderr",
     "output_type": "stream",
     "text": [
      "[I 2025-02-21 04:38:27,167] Trial 29 finished with value: 0.7421388030052185 and parameters: {'iterations': 1813, 'depth': 10, 'learning_rate': 0.04442698399147222, 'l2_leaf_reg': 6.54775286561914}. Best is trial 14 with value: 0.7429338991641998.\n",
      "Default metric period is 5 because AUC is/are not implemented for GPU\n"
     ]
    },
    {
     "name": "stdout",
     "output_type": "stream",
     "text": [
      "0:\ttest: 0.7054052\tbest: 0.7054052 (0)\ttotal: 21.5ms\tremaining: 42.8s\n",
      "300:\ttest: 0.7416764\tbest: 0.7416903 (298)\ttotal: 5.74s\tremaining: 32.3s\n",
      "600:\ttest: 0.7423431\tbest: 0.7423908 (542)\ttotal: 10.9s\tremaining: 25.3s\n",
      "900:\ttest: 0.7422631\tbest: 0.7424631 (720)\ttotal: 16.1s\tremaining: 19.5s\n"
     ]
    },
    {
     "name": "stderr",
     "output_type": "stream",
     "text": [
      "[I 2025-02-21 04:38:48,695] Trial 30 finished with value: 0.742463082075119 and parameters: {'iterations': 1992, 'depth': 5, 'learning_rate': 0.05767079050263405, 'l2_leaf_reg': 0.22732692130077356}. Best is trial 14 with value: 0.7429338991641998.\n"
     ]
    },
    {
     "name": "stdout",
     "output_type": "stream",
     "text": [
      "bestTest = 0.7424630821\n",
      "bestIteration = 720\n",
      "Shrink model to first 721 iterations.\n"
     ]
    },
    {
     "name": "stderr",
     "output_type": "stream",
     "text": [
      "Default metric period is 5 because AUC is/are not implemented for GPU\n"
     ]
    },
    {
     "name": "stdout",
     "output_type": "stream",
     "text": [
      "0:\ttest: 0.7280100\tbest: 0.7280100 (0)\ttotal: 34ms\tremaining: 55s\n",
      "300:\ttest: 0.7423720\tbest: 0.7423720 (300)\ttotal: 9.16s\tremaining: 40.1s\n",
      "600:\ttest: 0.7429194\tbest: 0.7429348 (599)\ttotal: 17.6s\tremaining: 29.8s\n",
      "900:\ttest: 0.7424139\tbest: 0.7429960 (617)\ttotal: 26s\tremaining: 20.7s\n"
     ]
    },
    {
     "name": "stderr",
     "output_type": "stream",
     "text": [
      "[I 2025-02-21 04:39:18,496] Trial 31 finished with value: 0.7429959774017334 and parameters: {'iterations': 1620, 'depth': 7, 'learning_rate': 0.05108143824919271, 'l2_leaf_reg': 2.2749899692325593}. Best is trial 31 with value: 0.7429959774017334.\n"
     ]
    },
    {
     "name": "stdout",
     "output_type": "stream",
     "text": [
      "bestTest = 0.7429959774\n",
      "bestIteration = 617\n",
      "Shrink model to first 618 iterations.\n",
      "저장 완료\n"
     ]
    },
    {
     "name": "stderr",
     "output_type": "stream",
     "text": [
      "Default metric period is 5 because AUC is/are not implemented for GPU\n"
     ]
    },
    {
     "name": "stdout",
     "output_type": "stream",
     "text": [
      "0:\ttest: 0.7279981\tbest: 0.7279981 (0)\ttotal: 27.3ms\tremaining: 42.8s\n",
      "300:\ttest: 0.7424477\tbest: 0.7424513 (297)\ttotal: 8.42s\tremaining: 35.5s\n",
      "600:\ttest: 0.7431188\tbest: 0.7431355 (531)\ttotal: 16.8s\tremaining: 27.1s\n",
      "900:\ttest: 0.7428921\tbest: 0.7431441 (636)\ttotal: 25.2s\tremaining: 18.7s\n"
     ]
    },
    {
     "name": "stderr",
     "output_type": "stream",
     "text": [
      "[I 2025-02-21 04:39:48,080] Trial 32 finished with value: 0.7431440949440002 and parameters: {'iterations': 1570, 'depth': 7, 'learning_rate': 0.04354063148906487, 'l2_leaf_reg': 17.76018129977093}. Best is trial 32 with value: 0.7431440949440002.\n"
     ]
    },
    {
     "name": "stdout",
     "output_type": "stream",
     "text": [
      "bestTest = 0.7431440949\n",
      "bestIteration = 636\n",
      "Shrink model to first 637 iterations.\n",
      "저장 완료\n"
     ]
    },
    {
     "name": "stderr",
     "output_type": "stream",
     "text": [
      "Default metric period is 5 because AUC is/are not implemented for GPU\n"
     ]
    },
    {
     "name": "stdout",
     "output_type": "stream",
     "text": [
      "0:\ttest: 0.7305685\tbest: 0.7305685 (0)\ttotal: 44.2ms\tremaining: 1m 10s\n",
      "300:\ttest: 0.7428862\tbest: 0.7429586 (289)\ttotal: 11.7s\tremaining: 50.7s\n",
      "600:\ttest: 0.7426644\tbest: 0.7431179 (440)\ttotal: 22.8s\tremaining: 38.2s\n"
     ]
    },
    {
     "name": "stderr",
     "output_type": "stream",
     "text": [
      "[I 2025-02-21 04:40:19,528] Trial 33 finished with value: 0.7431179285049438 and parameters: {'iterations': 1607, 'depth': 8, 'learning_rate': 0.04978753020419399, 'l2_leaf_reg': 20.164875729709955}. Best is trial 32 with value: 0.7431440949440002.\n"
     ]
    },
    {
     "name": "stdout",
     "output_type": "stream",
     "text": [
      "bestTest = 0.7431179285\n",
      "bestIteration = 440\n",
      "Shrink model to first 441 iterations.\n"
     ]
    },
    {
     "name": "stderr",
     "output_type": "stream",
     "text": [
      "Default metric period is 5 because AUC is/are not implemented for GPU\n"
     ]
    },
    {
     "name": "stdout",
     "output_type": "stream",
     "text": [
      "0:\ttest: 0.7231772\tbest: 0.7231772 (0)\ttotal: 28ms\tremaining: 45.4s\n",
      "300:\ttest: 0.7419318\tbest: 0.7419511 (297)\ttotal: 7.26s\tremaining: 31.9s\n",
      "600:\ttest: 0.7428086\tbest: 0.7428195 (599)\ttotal: 13.7s\tremaining: 23.4s\n",
      "900:\ttest: 0.7429378\tbest: 0.7429471 (869)\ttotal: 20.3s\tremaining: 16.2s\n",
      "1200:\ttest: 0.7429539\tbest: 0.7430510 (930)\ttotal: 27.4s\tremaining: 9.63s\n",
      "bestTest = 0.7430509925\n",
      "bestIteration = 930\n",
      "Shrink model to first 931 iterations.\n"
     ]
    },
    {
     "name": "stderr",
     "output_type": "stream",
     "text": [
      "[I 2025-02-21 04:40:51,215] Trial 34 finished with value: 0.7430509924888611 and parameters: {'iterations': 1623, 'depth': 6, 'learning_rate': 0.045380225257983874, 'l2_leaf_reg': 22.434720807242712}. Best is trial 32 with value: 0.7431440949440002.\n",
      "Default metric period is 5 because AUC is/are not implemented for GPU\n"
     ]
    },
    {
     "name": "stdout",
     "output_type": "stream",
     "text": [
      "0:\ttest: 0.7231772\tbest: 0.7231772 (0)\ttotal: 29.5ms\tremaining: 48.4s\n",
      "300:\ttest: 0.7420287\tbest: 0.7420287 (300)\ttotal: 7.07s\tremaining: 31.4s\n",
      "600:\ttest: 0.7427236\tbest: 0.7427344 (599)\ttotal: 13.6s\tremaining: 23.4s\n",
      "900:\ttest: 0.7428435\tbest: 0.7428778 (855)\ttotal: 20.1s\tremaining: 16.4s\n",
      "1200:\ttest: 0.7428822\tbest: 0.7429368 (992)\ttotal: 26.6s\tremaining: 9.69s\n",
      "bestTest = 0.7429368496\n",
      "bestIteration = 992\n",
      "Shrink model to first 993 iterations.\n"
     ]
    },
    {
     "name": "stderr",
     "output_type": "stream",
     "text": [
      "[I 2025-02-21 04:41:23,174] Trial 35 finished with value: 0.7429368495941162 and parameters: {'iterations': 1639, 'depth': 6, 'learning_rate': 0.04538774085574813, 'l2_leaf_reg': 20.968793950036574}. Best is trial 32 with value: 0.7431440949440002.\n",
      "Default metric period is 5 because AUC is/are not implemented for GPU\n"
     ]
    },
    {
     "name": "stdout",
     "output_type": "stream",
     "text": [
      "0:\ttest: 0.7231772\tbest: 0.7231772 (0)\ttotal: 28.2ms\tremaining: 1m 10s\n",
      "300:\ttest: 0.7415288\tbest: 0.7415288 (300)\ttotal: 7.32s\tremaining: 53.6s\n",
      "600:\ttest: 0.7426483\tbest: 0.7426605 (598)\ttotal: 13.8s\tremaining: 43.6s\n",
      "900:\ttest: 0.7429075\tbest: 0.7429075 (900)\ttotal: 20.2s\tremaining: 36s\n",
      "1200:\ttest: 0.7429042\tbest: 0.7429840 (999)\ttotal: 26.8s\tremaining: 29.1s\n"
     ]
    },
    {
     "name": "stderr",
     "output_type": "stream",
     "text": [
      "[I 2025-02-21 04:41:55,579] Trial 36 finished with value: 0.7429839670658112 and parameters: {'iterations': 2505, 'depth': 6, 'learning_rate': 0.035394146262614196, 'l2_leaf_reg': 19.37207153101638}. Best is trial 32 with value: 0.7431440949440002.\n"
     ]
    },
    {
     "name": "stdout",
     "output_type": "stream",
     "text": [
      "bestTest = 0.7429839671\n",
      "bestIteration = 999\n",
      "Shrink model to first 1000 iterations.\n"
     ]
    },
    {
     "name": "stderr",
     "output_type": "stream",
     "text": [
      "Default metric period is 5 because AUC is/are not implemented for GPU\n"
     ]
    },
    {
     "name": "stdout",
     "output_type": "stream",
     "text": [
      "0:\ttest: 0.7054052\tbest: 0.7054052 (0)\ttotal: 24.5ms\tremaining: 55.2s\n",
      "300:\ttest: 0.7405242\tbest: 0.7405242 (300)\ttotal: 6.16s\tremaining: 40s\n",
      "600:\ttest: 0.7422204\tbest: 0.7422204 (600)\ttotal: 11.4s\tremaining: 31.4s\n",
      "900:\ttest: 0.7426848\tbest: 0.7427001 (889)\ttotal: 17.7s\tremaining: 26.5s\n",
      "1200:\ttest: 0.7429311\tbest: 0.7429371 (1163)\ttotal: 23.1s\tremaining: 20.2s\n",
      "1500:\ttest: 0.7429288\tbest: 0.7430260 (1291)\ttotal: 28.3s\tremaining: 14.2s\n"
     ]
    },
    {
     "name": "stderr",
     "output_type": "stream",
     "text": [
      "[I 2025-02-21 04:42:28,888] Trial 37 finished with value: 0.7430260181427002 and parameters: {'iterations': 2253, 'depth': 5, 'learning_rate': 0.029537002233243993, 'l2_leaf_reg': 68.3996244775332}. Best is trial 32 with value: 0.7431440949440002.\n"
     ]
    },
    {
     "name": "stdout",
     "output_type": "stream",
     "text": [
      "bestTest = 0.7430260181\n",
      "bestIteration = 1291\n",
      "Shrink model to first 1292 iterations.\n"
     ]
    },
    {
     "name": "stderr",
     "output_type": "stream",
     "text": [
      "Default metric period is 5 because AUC is/are not implemented for GPU\n"
     ]
    },
    {
     "name": "stdout",
     "output_type": "stream",
     "text": [
      "0:\ttest: 0.7054052\tbest: 0.7054052 (0)\ttotal: 18.2ms\tremaining: 40.5s\n",
      "300:\ttest: 0.7401389\tbest: 0.7401389 (300)\ttotal: 5.44s\tremaining: 34.7s\n",
      "600:\ttest: 0.7420194\tbest: 0.7420194 (600)\ttotal: 12.2s\tremaining: 32.9s\n",
      "900:\ttest: 0.7426465\tbest: 0.7426569 (898)\ttotal: 17.7s\tremaining: 26s\n",
      "1200:\ttest: 0.7428272\tbest: 0.7428387 (1160)\ttotal: 24.6s\tremaining: 20.9s\n",
      "1500:\ttest: 0.7428975\tbest: 0.7429159 (1330)\ttotal: 31.3s\tremaining: 15s\n",
      "1800:\ttest: 0.7430920\tbest: 0.7430943 (1790)\ttotal: 38.5s\tremaining: 9.02s\n",
      "2100:\ttest: 0.7430405\tbest: 0.7431278 (1884)\ttotal: 44.6s\tremaining: 2.59s\n",
      "bestTest = 0.7431278229\n",
      "bestIteration = 1884\n",
      "Shrink model to first 1885 iterations.\n"
     ]
    },
    {
     "name": "stderr",
     "output_type": "stream",
     "text": [
      "[I 2025-02-21 04:43:18,353] Trial 38 finished with value: 0.7431278228759766 and parameters: {'iterations': 2223, 'depth': 5, 'learning_rate': 0.025997949802818006, 'l2_leaf_reg': 83.52400666715208}. Best is trial 32 with value: 0.7431440949440002.\n",
      "Default metric period is 5 because AUC is/are not implemented for GPU\n"
     ]
    },
    {
     "name": "stdout",
     "output_type": "stream",
     "text": [
      "0:\ttest: 0.6997534\tbest: 0.6997534 (0)\ttotal: 17.1ms\tremaining: 46.8s\n",
      "300:\ttest: 0.7381949\tbest: 0.7381949 (300)\ttotal: 5.36s\tremaining: 43.5s\n",
      "600:\ttest: 0.7407009\tbest: 0.7407042 (598)\ttotal: 10s\tremaining: 35.8s\n",
      "900:\ttest: 0.7415895\tbest: 0.7415895 (900)\ttotal: 14.2s\tremaining: 29.1s\n",
      "1200:\ttest: 0.7421167\tbest: 0.7421167 (1200)\ttotal: 18.5s\tremaining: 23.7s\n",
      "1500:\ttest: 0.7423152\tbest: 0.7423250 (1488)\ttotal: 22.8s\tremaining: 18.9s\n",
      "1800:\ttest: 0.7425045\tbest: 0.7425050 (1798)\ttotal: 26.8s\tremaining: 14.1s\n",
      "2100:\ttest: 0.7425523\tbest: 0.7425784 (1914)\ttotal: 32.6s\tremaining: 9.98s\n"
     ]
    },
    {
     "name": "stderr",
     "output_type": "stream",
     "text": [
      "[I 2025-02-21 04:43:56,329] Trial 39 finished with value: 0.7425784468650818 and parameters: {'iterations': 2744, 'depth': 4, 'learning_rate': 0.02335352058187573, 'l2_leaf_reg': 26.819645263986885}. Best is trial 32 with value: 0.7431440949440002.\n",
      "[I 2025-02-21 04:43:56,334] A new study created in memory with name: no-name-c8e662d1-4aff-4ea6-a13e-9066b72a6dec\n"
     ]
    },
    {
     "name": "stdout",
     "output_type": "stream",
     "text": [
      "bestTest = 0.7425784469\n",
      "bestIteration = 1914\n",
      "Shrink model to first 1915 iterations.\n"
     ]
    },
    {
     "name": "stderr",
     "output_type": "stream",
     "text": [
      "[I 2025-02-21 04:44:12,607] Trial 0 finished with value: 0.733232430598003 and parameters: {'num_iterations': 2366, 'objective': 'binary', 'metric': 'auc', 'verbose': -1, 'learning_rate': 0.0652646236447618, 'n_estimators': 236, 'min_child_samples': 45, 'subsample': 0.7, 'colsample_bytree': 0.5}. Best is trial 0 with value: 0.733232430598003.\n",
      "[I 2025-02-21 04:44:25,146] Trial 1 finished with value: 0.7426571286971576 and parameters: {'num_iterations': 1510, 'objective': 'binary', 'metric': 'auc', 'verbose': -1, 'learning_rate': 0.005231880959249543, 'n_estimators': 1411, 'min_child_samples': 10, 'subsample': 1.0, 'colsample_bytree': 0.5}. Best is trial 1 with value: 0.7426571286971576.\n",
      "[I 2025-02-21 04:44:36,682] Trial 2 finished with value: 0.7421237981108889 and parameters: {'num_iterations': 2334, 'objective': 'binary', 'metric': 'auc', 'verbose': -1, 'learning_rate': 0.006578527777128852, 'n_estimators': 931, 'min_child_samples': 15, 'subsample': 0.5, 'colsample_bytree': 1.0}. Best is trial 1 with value: 0.7426571286971576.\n",
      "[I 2025-02-21 04:44:47,786] Trial 3 finished with value: 0.7426608299273146 and parameters: {'num_iterations': 1620, 'objective': 'binary', 'metric': 'auc', 'verbose': -1, 'learning_rate': 0.0058823249237283685, 'n_estimators': 837, 'min_child_samples': 10, 'subsample': 0.9, 'colsample_bytree': 0.6}. Best is trial 3 with value: 0.7426608299273146.\n",
      "[I 2025-02-21 04:44:57,883] Trial 4 finished with value: 0.7420938546823651 and parameters: {'num_iterations': 1997, 'objective': 'binary', 'metric': 'auc', 'verbose': -1, 'learning_rate': 0.010907507425244923, 'n_estimators': 1597, 'min_child_samples': 50, 'subsample': 0.6, 'colsample_bytree': 0.8}. Best is trial 3 with value: 0.7426608299273146.\n",
      "[I 2025-02-21 04:45:10,636] Trial 5 finished with value: 0.7400727050272221 and parameters: {'num_iterations': 2909, 'objective': 'binary', 'metric': 'auc', 'verbose': -1, 'learning_rate': 0.019760591962733942, 'n_estimators': 612, 'min_child_samples': 30, 'subsample': 0.7, 'colsample_bytree': 0.9}. Best is trial 3 with value: 0.7426608299273146.\n",
      "[I 2025-02-21 04:45:21,823] Trial 6 finished with value: 0.7405475744448834 and parameters: {'num_iterations': 2639, 'objective': 'binary', 'metric': 'auc', 'verbose': -1, 'learning_rate': 0.017862094446750985, 'n_estimators': 794, 'min_child_samples': 35, 'subsample': 1.0, 'colsample_bytree': 0.8}. Best is trial 3 with value: 0.7426608299273146.\n",
      "[I 2025-02-21 04:45:32,514] Trial 7 finished with value: 0.7421423995723221 and parameters: {'num_iterations': 1580, 'objective': 'binary', 'metric': 'auc', 'verbose': -1, 'learning_rate': 0.01776722177611332, 'n_estimators': 529, 'min_child_samples': 25, 'subsample': 0.8, 'colsample_bytree': 0.5}. Best is trial 3 with value: 0.7426608299273146.\n",
      "[I 2025-02-21 04:45:42,854] Trial 8 finished with value: 0.7408477275312574 and parameters: {'num_iterations': 1911, 'objective': 'binary', 'metric': 'auc', 'verbose': -1, 'learning_rate': 0.0304747553332844, 'n_estimators': 1328, 'min_child_samples': 10, 'subsample': 0.7, 'colsample_bytree': 0.6}. Best is trial 3 with value: 0.7426608299273146.\n",
      "[I 2025-02-21 04:46:00,006] Trial 9 finished with value: 0.739742187556963 and parameters: {'num_iterations': 2739, 'objective': 'binary', 'metric': 'auc', 'verbose': -1, 'learning_rate': 0.02691531614176271, 'n_estimators': 1438, 'min_child_samples': 20, 'subsample': 0.6, 'colsample_bytree': 0.5}. Best is trial 3 with value: 0.7426608299273146.\n",
      "[I 2025-02-21 04:46:09,427] Trial 10 finished with value: 0.7426046006163771 and parameters: {'num_iterations': 1883, 'objective': 'binary', 'metric': 'auc', 'verbose': -1, 'learning_rate': 0.007630609716045009, 'n_estimators': 1917, 'min_child_samples': 40, 'subsample': 0.9, 'colsample_bytree': 0.7}. Best is trial 3 with value: 0.7426608299273146.\n",
      "[I 2025-02-21 04:46:19,629] Trial 11 finished with value: 0.7424698234178039 and parameters: {'num_iterations': 1513, 'objective': 'binary', 'metric': 'auc', 'verbose': -1, 'learning_rate': 0.005340229419903739, 'n_estimators': 1206, 'min_child_samples': 10, 'subsample': 1.0, 'colsample_bytree': 0.6}. Best is trial 3 with value: 0.7426608299273146.\n",
      "[I 2025-02-21 04:46:31,679] Trial 12 finished with value: 0.7425390388045071 and parameters: {'num_iterations': 1698, 'objective': 'binary', 'metric': 'auc', 'verbose': -1, 'learning_rate': 0.005009803090245928, 'n_estimators': 1719, 'min_child_samples': 20, 'subsample': 0.9, 'colsample_bytree': 0.6}. Best is trial 3 with value: 0.7426608299273146.\n",
      "[I 2025-02-21 04:46:40,913] Trial 13 finished with value: 0.7425680847244306 and parameters: {'num_iterations': 1740, 'objective': 'binary', 'metric': 'auc', 'verbose': -1, 'learning_rate': 0.010074542479113706, 'n_estimators': 1082, 'min_child_samples': 10, 'subsample': 0.9, 'colsample_bytree': 0.7}. Best is trial 3 with value: 0.7426608299273146.\n",
      "[I 2025-02-21 04:46:53,667] Trial 14 finished with value: 0.7428418367613582 and parameters: {'num_iterations': 2165, 'objective': 'binary', 'metric': 'auc', 'verbose': -1, 'learning_rate': 0.008677259435973453, 'n_estimators': 251, 'min_child_samples': 20, 'subsample': 1.0, 'colsample_bytree': 0.6}. Best is trial 14 with value: 0.7428418367613582.\n",
      "[I 2025-02-21 04:47:03,854] Trial 15 finished with value: 0.7424225811067006 and parameters: {'num_iterations': 2153, 'objective': 'binary', 'metric': 'auc', 'verbose': -1, 'learning_rate': 0.00944134096391749, 'n_estimators': 188, 'min_child_samples': 20, 'subsample': 0.8, 'colsample_bytree': 0.7}. Best is trial 14 with value: 0.7428418367613582.\n",
      "[I 2025-02-21 04:47:17,618] Trial 16 finished with value: 0.7419193170585425 and parameters: {'num_iterations': 2503, 'objective': 'binary', 'metric': 'auc', 'verbose': -1, 'learning_rate': 0.01246797026993832, 'n_estimators': 444, 'min_child_samples': 25, 'subsample': 0.9, 'colsample_bytree': 0.6}. Best is trial 14 with value: 0.7428418367613582.\n",
      "[I 2025-02-21 04:47:31,443] Trial 17 finished with value: 0.7425445271093108 and parameters: {'num_iterations': 2103, 'objective': 'binary', 'metric': 'auc', 'verbose': -1, 'learning_rate': 0.007322909664975975, 'n_estimators': 116, 'min_child_samples': 15, 'subsample': 1.0, 'colsample_bytree': 0.6}. Best is trial 14 with value: 0.7428418367613582.\n",
      "[I 2025-02-21 04:47:39,988] Trial 18 finished with value: 0.7420633830740012 and parameters: {'num_iterations': 1753, 'objective': 'binary', 'metric': 'auc', 'verbose': -1, 'learning_rate': 0.01356820322695768, 'n_estimators': 756, 'min_child_samples': 30, 'subsample': 0.8, 'colsample_bytree': 0.7}. Best is trial 14 with value: 0.7428418367613582.\n",
      "[I 2025-02-21 04:47:50,981] Trial 19 finished with value: 0.7423258169715 and parameters: {'num_iterations': 2202, 'objective': 'binary', 'metric': 'auc', 'verbose': -1, 'learning_rate': 0.007530998097998975, 'n_estimators': 414, 'min_child_samples': 15, 'subsample': 0.9, 'colsample_bytree': 0.8}. Best is trial 14 with value: 0.7428418367613582.\n",
      "[I 2025-02-21 04:48:00,645] Trial 20 finished with value: 0.7421631216956692 and parameters: {'num_iterations': 1973, 'objective': 'binary', 'metric': 'auc', 'verbose': -1, 'learning_rate': 0.009071235086999675, 'n_estimators': 946, 'min_child_samples': 25, 'subsample': 1.0, 'colsample_bytree': 0.9}. Best is trial 14 with value: 0.7428418367613582.\n",
      "[I 2025-02-21 04:48:13,762] Trial 21 finished with value: 0.7427093748172716 and parameters: {'num_iterations': 1623, 'objective': 'binary', 'metric': 'auc', 'verbose': -1, 'learning_rate': 0.005176253721621948, 'n_estimators': 1452, 'min_child_samples': 10, 'subsample': 1.0, 'colsample_bytree': 0.5}. Best is trial 14 with value: 0.7428418367613582.\n",
      "[I 2025-02-21 04:48:26,796] Trial 22 finished with value: 0.7428211940635508 and parameters: {'num_iterations': 1639, 'objective': 'binary', 'metric': 'auc', 'verbose': -1, 'learning_rate': 0.0063609971316856235, 'n_estimators': 1632, 'min_child_samples': 15, 'subsample': 1.0, 'colsample_bytree': 0.5}. Best is trial 14 with value: 0.7428418367613582.\n",
      "[I 2025-02-21 04:48:40,520] Trial 23 finished with value: 0.7429090665095651 and parameters: {'num_iterations': 1835, 'objective': 'binary', 'metric': 'auc', 'verbose': -1, 'learning_rate': 0.006914507528168017, 'n_estimators': 1879, 'min_child_samples': 15, 'subsample': 1.0, 'colsample_bytree': 0.5}. Best is trial 23 with value: 0.7429090665095651.\n",
      "[I 2025-02-21 04:48:53,707] Trial 24 finished with value: 0.742960323781708 and parameters: {'num_iterations': 1791, 'objective': 'binary', 'metric': 'auc', 'verbose': -1, 'learning_rate': 0.007868143060564967, 'n_estimators': 2000, 'min_child_samples': 20, 'subsample': 1.0, 'colsample_bytree': 0.5}. Best is trial 24 with value: 0.742960323781708.\n",
      "[I 2025-02-21 04:49:07,070] Trial 25 finished with value: 0.7422984469304674 and parameters: {'num_iterations': 1833, 'objective': 'binary', 'metric': 'auc', 'verbose': -1, 'learning_rate': 0.013790963287326551, 'n_estimators': 1869, 'min_child_samples': 20, 'subsample': 1.0, 'colsample_bytree': 0.5}. Best is trial 24 with value: 0.742960323781708.\n",
      "[I 2025-02-21 04:49:19,246] Trial 26 finished with value: 0.7426248739854241 and parameters: {'num_iterations': 2049, 'objective': 'binary', 'metric': 'auc', 'verbose': -1, 'learning_rate': 0.009307269710677841, 'n_estimators': 1990, 'min_child_samples': 25, 'subsample': 0.9, 'colsample_bytree': 0.6}. Best is trial 24 with value: 0.742960323781708.\n",
      "[I 2025-02-21 04:49:35,354] Trial 27 finished with value: 0.742734763191085 and parameters: {'num_iterations': 2257, 'objective': 'binary', 'metric': 'auc', 'verbose': -1, 'learning_rate': 0.007804220586486574, 'n_estimators': 1797, 'min_child_samples': 35, 'subsample': 1.0, 'colsample_bytree': 0.5}. Best is trial 24 with value: 0.742960323781708.\n",
      "[I 2025-02-21 04:49:45,969] Trial 28 finished with value: 0.7423825824048316 and parameters: {'num_iterations': 1827, 'objective': 'binary', 'metric': 'auc', 'verbose': -1, 'learning_rate': 0.011821105235946075, 'n_estimators': 1600, 'min_child_samples': 20, 'subsample': 0.8, 'colsample_bytree': 0.6}. Best is trial 24 with value: 0.742960323781708.\n",
      "[I 2025-02-21 04:50:01,726] Trial 29 finished with value: 0.7335483337689295 and parameters: {'num_iterations': 2417, 'objective': 'binary', 'metric': 'auc', 'verbose': -1, 'learning_rate': 0.07234407408474254, 'n_estimators': 315, 'min_child_samples': 15, 'subsample': 0.9, 'colsample_bytree': 0.5}. Best is trial 24 with value: 0.742960323781708.\n",
      "[I 2025-02-21 04:50:18,209] Trial 30 finished with value: 0.7426667113885407 and parameters: {'num_iterations': 2303, 'objective': 'binary', 'metric': 'auc', 'verbose': -1, 'learning_rate': 0.006641279923681973, 'n_estimators': 1970, 'min_child_samples': 35, 'subsample': 0.5, 'colsample_bytree': 0.5}. Best is trial 24 with value: 0.742960323781708.\n",
      "[I 2025-02-21 04:50:31,798] Trial 31 finished with value: 0.7428358798458693 and parameters: {'num_iterations': 1716, 'objective': 'binary', 'metric': 'auc', 'verbose': -1, 'learning_rate': 0.006252320547335897, 'n_estimators': 1693, 'min_child_samples': 15, 'subsample': 1.0, 'colsample_bytree': 0.5}. Best is trial 24 with value: 0.742960323781708.\n",
      "[I 2025-02-21 04:50:45,717] Trial 32 finished with value: 0.7426762901086467 and parameters: {'num_iterations': 1810, 'objective': 'binary', 'metric': 'auc', 'verbose': -1, 'learning_rate': 0.008791030460932842, 'n_estimators': 1786, 'min_child_samples': 15, 'subsample': 1.0, 'colsample_bytree': 0.5}. Best is trial 24 with value: 0.742960323781708.\n",
      "[I 2025-02-21 04:50:59,900] Trial 33 finished with value: 0.7428150266703815 and parameters: {'num_iterations': 1916, 'objective': 'binary', 'metric': 'auc', 'verbose': -1, 'learning_rate': 0.006402294049353406, 'n_estimators': 1707, 'min_child_samples': 20, 'subsample': 1.0, 'colsample_bytree': 0.5}. Best is trial 24 with value: 0.742960323781708.\n",
      "[I 2025-02-21 04:51:13,262] Trial 34 finished with value: 0.7426972266809514 and parameters: {'num_iterations': 2035, 'objective': 'binary', 'metric': 'auc', 'verbose': -1, 'learning_rate': 0.005937446564848583, 'n_estimators': 1860, 'min_child_samples': 15, 'subsample': 1.0, 'colsample_bytree': 0.6}. Best is trial 24 with value: 0.742960323781708.\n",
      "[I 2025-02-21 04:51:25,975] Trial 35 finished with value: 0.7428410861900065 and parameters: {'num_iterations': 1684, 'objective': 'binary', 'metric': 'auc', 'verbose': -1, 'learning_rate': 0.0081473908271846, 'n_estimators': 1318, 'min_child_samples': 25, 'subsample': 0.9, 'colsample_bytree': 0.5}. Best is trial 24 with value: 0.742960323781708.\n",
      "[I 2025-02-21 04:51:35,063] Trial 36 finished with value: 0.7426347624651356 and parameters: {'num_iterations': 1509, 'objective': 'binary', 'metric': 'auc', 'verbose': -1, 'learning_rate': 0.010467272144067367, 'n_estimators': 1253, 'min_child_samples': 25, 'subsample': 0.9, 'colsample_bytree': 0.6}. Best is trial 24 with value: 0.742960323781708.\n",
      "[I 2025-02-21 04:51:45,377] Trial 37 finished with value: 0.7421133258534596 and parameters: {'num_iterations': 1962, 'objective': 'binary', 'metric': 'auc', 'verbose': -1, 'learning_rate': 0.0082229106491411, 'n_estimators': 1527, 'min_child_samples': 30, 'subsample': 0.9, 'colsample_bytree': 1.0}. Best is trial 24 with value: 0.742960323781708.\n",
      "[I 2025-02-21 04:52:02,077] Trial 38 finished with value: 0.7423708949366424 and parameters: {'num_iterations': 2408, 'objective': 'binary', 'metric': 'auc', 'verbose': -1, 'learning_rate': 0.010933894486114988, 'n_estimators': 1102, 'min_child_samples': 25, 'subsample': 1.0, 'colsample_bytree': 0.5}. Best is trial 24 with value: 0.742960323781708.\n",
      "[I 2025-02-21 04:52:12,322] Trial 39 finished with value: 0.7420772348881512 and parameters: {'num_iterations': 2103, 'objective': 'binary', 'metric': 'auc', 'verbose': -1, 'learning_rate': 0.007180286990835833, 'n_estimators': 957, 'min_child_samples': 20, 'subsample': 0.7, 'colsample_bytree': 0.9}. Best is trial 24 with value: 0.742960323781708.\n"
     ]
    },
    {
     "name": "stdout",
     "output_type": "stream",
     "text": [
      "Cat val score : 0.7431440787394302\n",
      "LGBM val score : 0.7429758435321949\n",
      "Ensemble val score : 0.7433595364013841\n"
     ]
    },
    {
     "name": "stderr",
     "output_type": "stream",
     "text": [
      "[I 2025-02-21 04:52:27,668] A new study created in memory with name: no-name-e7d9e818-6904-45c4-9383-06da3ef0d853\n"
     ]
    },
    {
     "name": "stdout",
     "output_type": "stream",
     "text": [
      "==================================================\n"
     ]
    },
    {
     "name": "stderr",
     "output_type": "stream",
     "text": [
      "Default metric period is 5 because AUC is/are not implemented for GPU\n"
     ]
    },
    {
     "name": "stdout",
     "output_type": "stream",
     "text": [
      "0:\ttest: 0.7303427\tbest: 0.7303427 (0)\ttotal: 79.4ms\tremaining: 3m 7s\n",
      "300:\ttest: 0.7400688\tbest: 0.7400688 (300)\ttotal: 24.3s\tremaining: 2m 46s\n",
      "600:\ttest: 0.7414904\tbest: 0.7414916 (599)\ttotal: 48.5s\tremaining: 2m 22s\n",
      "900:\ttest: 0.7419373\tbest: 0.7419396 (878)\ttotal: 1m 12s\tremaining: 1m 58s\n",
      "1200:\ttest: 0.7417567\tbest: 0.7419505 (925)\ttotal: 1m 37s\tremaining: 1m 34s\n",
      "bestTest = 0.7419504523\n",
      "bestIteration = 925\n",
      "Shrink model to first 926 iterations.\n"
     ]
    },
    {
     "name": "stderr",
     "output_type": "stream",
     "text": [
      "[I 2025-02-21 04:54:08,788] Trial 0 finished with value: 0.7419504523277283 and parameters: {'iterations': 2366, 'depth': 10, 'learning_rate': 0.01181021951839225, 'l2_leaf_reg': 9.980783802743254}. Best is trial 0 with value: 0.7419504523277283.\n"
     ]
    },
    {
     "name": "stdout",
     "output_type": "stream",
     "text": [
      "저장 완료\n"
     ]
    },
    {
     "name": "stderr",
     "output_type": "stream",
     "text": [
      "Default metric period is 5 because AUC is/are not implemented for GPU\n"
     ]
    },
    {
     "name": "stdout",
     "output_type": "stream",
     "text": [
      "0:\ttest: 0.7023523\tbest: 0.7023523 (0)\ttotal: 19ms\tremaining: 41.7s\n",
      "300:\ttest: 0.7292266\tbest: 0.7292266 (300)\ttotal: 4.72s\tremaining: 29.7s\n",
      "600:\ttest: 0.7342364\tbest: 0.7342364 (600)\ttotal: 8.69s\tremaining: 23s\n",
      "900:\ttest: 0.7363380\tbest: 0.7363380 (900)\ttotal: 12.7s\tremaining: 18.2s\n",
      "1200:\ttest: 0.7375438\tbest: 0.7375438 (1200)\ttotal: 16.7s\tremaining: 13.8s\n",
      "1500:\ttest: 0.7382114\tbest: 0.7382114 (1500)\ttotal: 20.7s\tremaining: 9.53s\n",
      "1800:\ttest: 0.7387062\tbest: 0.7387062 (1800)\ttotal: 24.7s\tremaining: 5.37s\n",
      "2100:\ttest: 0.7390773\tbest: 0.7390773 (2100)\ttotal: 28.7s\tremaining: 1.25s\n"
     ]
    },
    {
     "name": "stderr",
     "output_type": "stream",
     "text": [
      "[I 2025-02-21 04:54:41,977] Trial 1 finished with value: 0.7391738295555115 and parameters: {'iterations': 2193, 'depth': 4, 'learning_rate': 0.005671430811678843, 'l2_leaf_reg': 0.00012325230809466137}. Best is trial 0 with value: 0.7419504523277283.\n"
     ]
    },
    {
     "name": "stdout",
     "output_type": "stream",
     "text": [
      "2192:\ttest: 0.7391738\tbest: 0.7391738 (2192)\ttotal: 29.9s\tremaining: 0us\n",
      "bestTest = 0.7391738296\n",
      "bestIteration = 2192\n"
     ]
    },
    {
     "name": "stderr",
     "output_type": "stream",
     "text": [
      "Default metric period is 5 because AUC is/are not implemented for GPU\n"
     ]
    },
    {
     "name": "stdout",
     "output_type": "stream",
     "text": [
      "0:\ttest: 0.7023523\tbest: 0.7023523 (0)\ttotal: 14.3ms\tremaining: 36.3s\n",
      "300:\ttest: 0.7403625\tbest: 0.7403625 (300)\ttotal: 4.07s\tremaining: 30.2s\n",
      "600:\ttest: 0.7407943\tbest: 0.7407966 (593)\ttotal: 8.07s\tremaining: 26s\n",
      "900:\ttest: 0.7404941\tbest: 0.7408840 (682)\ttotal: 12.1s\tremaining: 21.9s\n"
     ]
    },
    {
     "name": "stderr",
     "output_type": "stream",
     "text": [
      "[I 2025-02-21 04:54:58,547] Trial 2 finished with value: 0.740884006023407 and parameters: {'iterations': 2535, 'depth': 4, 'learning_rate': 0.09275339199839054, 'l2_leaf_reg': 0.0008705394248343123}. Best is trial 0 with value: 0.7419504523277283.\n"
     ]
    },
    {
     "name": "stdout",
     "output_type": "stream",
     "text": [
      "bestTest = 0.740884006\n",
      "bestIteration = 682\n",
      "Shrink model to first 683 iterations.\n"
     ]
    },
    {
     "name": "stderr",
     "output_type": "stream",
     "text": [
      "Default metric period is 5 because AUC is/are not implemented for GPU\n"
     ]
    },
    {
     "name": "stdout",
     "output_type": "stream",
     "text": [
      "0:\ttest: 0.7023523\tbest: 0.7023523 (0)\ttotal: 14.2ms\tremaining: 33.2s\n",
      "300:\ttest: 0.7395384\tbest: 0.7395487 (299)\ttotal: 4.06s\tremaining: 27.4s\n",
      "600:\ttest: 0.7405453\tbest: 0.7405453 (600)\ttotal: 8.24s\tremaining: 23.8s\n",
      "900:\ttest: 0.7406895\tbest: 0.7406904 (899)\ttotal: 13.7s\tremaining: 21.8s\n",
      "1200:\ttest: 0.7408097\tbest: 0.7408165 (1198)\ttotal: 17.7s\tremaining: 16.7s\n",
      "1500:\ttest: 0.7405936\tbest: 0.7408739 (1251)\ttotal: 21.8s\tremaining: 12.1s\n"
     ]
    },
    {
     "name": "stderr",
     "output_type": "stream",
     "text": [
      "[I 2025-02-21 04:55:24,332] Trial 3 finished with value: 0.7408739328384399 and parameters: {'iterations': 2334, 'depth': 4, 'learning_rate': 0.04657568321363276, 'l2_leaf_reg': 0.0008640473331457248}. Best is trial 0 with value: 0.7419504523277283.\n"
     ]
    },
    {
     "name": "stdout",
     "output_type": "stream",
     "text": [
      "bestTest = 0.7408739328\n",
      "bestIteration = 1251\n",
      "Shrink model to first 1252 iterations.\n"
     ]
    },
    {
     "name": "stderr",
     "output_type": "stream",
     "text": [
      "Default metric period is 5 because AUC is/are not implemented for GPU\n"
     ]
    },
    {
     "name": "stdout",
     "output_type": "stream",
     "text": [
      "0:\ttest: 0.7302783\tbest: 0.7302783 (0)\ttotal: 90.3ms\tremaining: 2m 37s\n",
      "300:\ttest: 0.7377508\tbest: 0.7377508 (300)\ttotal: 24.4s\tremaining: 1m 56s\n",
      "600:\ttest: 0.7368130\tbest: 0.7379276 (393)\ttotal: 48.6s\tremaining: 1m 32s\n",
      "bestTest = 0.7379276156\n",
      "bestIteration = 393\n",
      "Shrink model to first 394 iterations.\n"
     ]
    },
    {
     "name": "stderr",
     "output_type": "stream",
     "text": [
      "[I 2025-02-21 04:56:23,795] Trial 4 finished with value: 0.7379276156425476 and parameters: {'iterations': 1742, 'depth': 10, 'learning_rate': 0.012622767482095846, 'l2_leaf_reg': 0.00021158816350109617}. Best is trial 0 with value: 0.7419504523277283.\n",
      "Default metric period is 5 because AUC is/are not implemented for GPU\n"
     ]
    },
    {
     "name": "stdout",
     "output_type": "stream",
     "text": [
      "0:\ttest: 0.7023523\tbest: 0.7023523 (0)\ttotal: 20.1ms\tremaining: 41.7s\n",
      "300:\ttest: 0.7398691\tbest: 0.7398691 (300)\ttotal: 4.67s\tremaining: 27.6s\n",
      "600:\ttest: 0.7401015\tbest: 0.7401982 (556)\ttotal: 8.68s\tremaining: 21.4s\n",
      "900:\ttest: 0.7403344\tbest: 0.7403620 (847)\ttotal: 12.7s\tremaining: 16.7s\n",
      "1200:\ttest: 0.7400478\tbest: 0.7403709 (924)\ttotal: 16.7s\tremaining: 12.3s\n"
     ]
    },
    {
     "name": "stderr",
     "output_type": "stream",
     "text": [
      "[I 2025-02-21 04:56:44,199] Trial 5 finished with value: 0.7403708696365356 and parameters: {'iterations': 2082, 'depth': 4, 'learning_rate': 0.06995196593094148, 'l2_leaf_reg': 0.0018080296485396804}. Best is trial 0 with value: 0.7419504523277283.\n"
     ]
    },
    {
     "name": "stdout",
     "output_type": "stream",
     "text": [
      "bestTest = 0.7403708696\n",
      "bestIteration = 924\n",
      "Shrink model to first 925 iterations.\n"
     ]
    },
    {
     "name": "stderr",
     "output_type": "stream",
     "text": [
      "Default metric period is 5 because AUC is/are not implemented for GPU\n"
     ]
    },
    {
     "name": "stdout",
     "output_type": "stream",
     "text": [
      "0:\ttest: 0.7181420\tbest: 0.7181420 (0)\ttotal: 21.6ms\tremaining: 43.1s\n",
      "300:\ttest: 0.7407376\tbest: 0.7407376 (300)\ttotal: 5.99s\tremaining: 33.7s\n",
      "600:\ttest: 0.7408725\tbest: 0.7409357 (426)\ttotal: 11.2s\tremaining: 25.9s\n"
     ]
    },
    {
     "name": "stderr",
     "output_type": "stream",
     "text": [
      "[I 2025-02-21 04:57:00,826] Trial 6 finished with value: 0.7409357130527496 and parameters: {'iterations': 1997, 'depth': 5, 'learning_rate': 0.07985155992831598, 'l2_leaf_reg': 62.52181000710482}. Best is trial 0 with value: 0.7419504523277283.\n"
     ]
    },
    {
     "name": "stdout",
     "output_type": "stream",
     "text": [
      "bestTest = 0.7409357131\n",
      "bestIteration = 426\n",
      "Shrink model to first 427 iterations.\n"
     ]
    },
    {
     "name": "stderr",
     "output_type": "stream",
     "text": [
      "Default metric period is 5 because AUC is/are not implemented for GPU\n"
     ]
    },
    {
     "name": "stdout",
     "output_type": "stream",
     "text": [
      "0:\ttest: 0.7283008\tbest: 0.7283008 (0)\ttotal: 35.3ms\tremaining: 1m 7s\n",
      "300:\ttest: 0.7392559\tbest: 0.7404038 (138)\ttotal: 9.11s\tremaining: 49.2s\n"
     ]
    },
    {
     "name": "stderr",
     "output_type": "stream",
     "text": [
      "[I 2025-02-21 04:57:17,188] Trial 7 finished with value: 0.7404037714004517 and parameters: {'iterations': 1927, 'depth': 7, 'learning_rate': 0.0941937211034094, 'l2_leaf_reg': 0.05654822767791934}. Best is trial 0 with value: 0.7419504523277283.\n"
     ]
    },
    {
     "name": "stdout",
     "output_type": "stream",
     "text": [
      "bestTest = 0.7404037714\n",
      "bestIteration = 138\n",
      "Shrink model to first 139 iterations.\n"
     ]
    },
    {
     "name": "stderr",
     "output_type": "stream",
     "text": [
      "Default metric period is 5 because AUC is/are not implemented for GPU\n"
     ]
    },
    {
     "name": "stdout",
     "output_type": "stream",
     "text": [
      "0:\ttest: 0.7283008\tbest: 0.7283008 (0)\ttotal: 37.5ms\tremaining: 1m 11s\n",
      "300:\ttest: 0.7412331\tbest: 0.7412833 (295)\ttotal: 9.16s\tremaining: 48.8s\n",
      "600:\ttest: 0.7412094\tbest: 0.7416049 (392)\ttotal: 17.6s\tremaining: 38.1s\n"
     ]
    },
    {
     "name": "stderr",
     "output_type": "stream",
     "text": [
      "[I 2025-02-21 04:57:40,704] Trial 8 finished with value: 0.7416048645973206 and parameters: {'iterations': 1904, 'depth': 7, 'learning_rate': 0.05155602859187331, 'l2_leaf_reg': 1.299974533316308}. Best is trial 0 with value: 0.7419504523277283.\n"
     ]
    },
    {
     "name": "stdout",
     "output_type": "stream",
     "text": [
      "bestTest = 0.7416048646\n",
      "bestIteration = 392\n",
      "Shrink model to first 393 iterations.\n"
     ]
    },
    {
     "name": "stderr",
     "output_type": "stream",
     "text": [
      "Default metric period is 5 because AUC is/are not implemented for GPU\n"
     ]
    },
    {
     "name": "stdout",
     "output_type": "stream",
     "text": [
      "0:\ttest: 0.7244371\tbest: 0.7244371 (0)\ttotal: 26.6ms\tremaining: 1m 10s\n",
      "300:\ttest: 0.7402164\tbest: 0.7402186 (299)\ttotal: 7.21s\tremaining: 56s\n",
      "600:\ttest: 0.7405907\tbest: 0.7408341 (426)\ttotal: 13.8s\tremaining: 47s\n"
     ]
    },
    {
     "name": "stderr",
     "output_type": "stream",
     "text": [
      "[I 2025-02-21 04:58:00,669] Trial 9 finished with value: 0.7408340573310852 and parameters: {'iterations': 2639, 'depth': 6, 'learning_rate': 0.03968704290444751, 'l2_leaf_reg': 0.30557194377967184}. Best is trial 0 with value: 0.7419504523277283.\n"
     ]
    },
    {
     "name": "stdout",
     "output_type": "stream",
     "text": [
      "bestTest = 0.7408340573\n",
      "bestIteration = 426\n",
      "Shrink model to first 427 iterations.\n"
     ]
    },
    {
     "name": "stderr",
     "output_type": "stream",
     "text": [
      "Default metric period is 5 because AUC is/are not implemented for GPU\n"
     ]
    },
    {
     "name": "stdout",
     "output_type": "stream",
     "text": [
      "0:\ttest: 0.7295190\tbest: 0.7295190 (0)\ttotal: 78.2ms\tremaining: 3m 50s\n",
      "300:\ttest: 0.7412322\tbest: 0.7412322 (300)\ttotal: 24.6s\tremaining: 3m 35s\n",
      "600:\ttest: 0.7416652\tbest: 0.7417428 (553)\ttotal: 48.8s\tremaining: 3m 10s\n",
      "900:\ttest: 0.7415886\tbest: 0.7417803 (649)\ttotal: 1m 13s\tremaining: 2m 47s\n",
      "bestTest = 0.7417802811\n",
      "bestIteration = 649\n",
      "Shrink model to first 650 iterations.\n"
     ]
    },
    {
     "name": "stderr",
     "output_type": "stream",
     "text": [
      "[I 2025-02-21 04:59:21,681] Trial 10 finished with value: 0.7417802810668945 and parameters: {'iterations': 2945, 'depth': 10, 'learning_rate': 0.025911330134996406, 'l2_leaf_reg': 97.18545559492446}. Best is trial 0 with value: 0.7419504523277283.\n",
      "Default metric period is 5 because AUC is/are not implemented for GPU\n"
     ]
    },
    {
     "name": "stdout",
     "output_type": "stream",
     "text": [
      "0:\ttest: 0.7303873\tbest: 0.7303873 (0)\ttotal: 78.8ms\tremaining: 3m 55s\n",
      "300:\ttest: 0.7415107\tbest: 0.7415107 (300)\ttotal: 24.5s\tremaining: 3m 39s\n",
      "600:\ttest: 0.7418417\tbest: 0.7419769 (560)\ttotal: 48.8s\tremaining: 3m 14s\n",
      "bestTest = 0.7419769168\n",
      "bestIteration = 560\n",
      "Shrink model to first 561 iterations.\n"
     ]
    },
    {
     "name": "stderr",
     "output_type": "stream",
     "text": [
      "[I 2025-02-21 05:00:34,912] Trial 11 finished with value: 0.7419769167900085 and parameters: {'iterations': 2995, 'depth': 10, 'learning_rate': 0.026163874004606635, 'l2_leaf_reg': 73.12133513928158}. Best is trial 11 with value: 0.7419769167900085.\n"
     ]
    },
    {
     "name": "stdout",
     "output_type": "stream",
     "text": [
      "저장 완료\n"
     ]
    },
    {
     "name": "stderr",
     "output_type": "stream",
     "text": [
      "Default metric period is 5 because AUC is/are not implemented for GPU\n"
     ]
    },
    {
     "name": "stdout",
     "output_type": "stream",
     "text": [
      "0:\ttest: 0.7296619\tbest: 0.7296619 (0)\ttotal: 58.9ms\tremaining: 2m 46s\n",
      "300:\ttest: 0.7411937\tbest: 0.7411937 (300)\ttotal: 17.3s\tremaining: 2m 25s\n",
      "600:\ttest: 0.7416742\tbest: 0.7416890 (589)\ttotal: 34.6s\tremaining: 2m 8s\n",
      "bestTest = 0.7416889668\n",
      "bestIteration = 589\n",
      "Shrink model to first 590 iterations.\n"
     ]
    },
    {
     "name": "stderr",
     "output_type": "stream",
     "text": [
      "[I 2025-02-21 05:01:28,265] Trial 12 finished with value: 0.7416889667510986 and parameters: {'iterations': 2831, 'depth': 9, 'learning_rate': 0.023676454265733254, 'l2_leaf_reg': 9.386190522738499}. Best is trial 11 with value: 0.7419769167900085.\n",
      "Default metric period is 5 because AUC is/are not implemented for GPU\n"
     ]
    },
    {
     "name": "stdout",
     "output_type": "stream",
     "text": [
      "0:\ttest: 0.7296619\tbest: 0.7296619 (0)\ttotal: 61.3ms\tremaining: 2m 28s\n",
      "300:\ttest: 0.7412565\tbest: 0.7412829 (298)\ttotal: 16.4s\tremaining: 1m 55s\n",
      "600:\ttest: 0.7413639\tbest: 0.7416599 (438)\ttotal: 32.2s\tremaining: 1m 37s\n"
     ]
    },
    {
     "name": "stderr",
     "output_type": "stream",
     "text": [
      "[I 2025-02-21 05:02:11,151] Trial 13 finished with value: 0.7416599094867706 and parameters: {'iterations': 2421, 'depth': 9, 'learning_rate': 0.028913180830738475, 'l2_leaf_reg': 9.201517196585796}. Best is trial 11 with value: 0.7419769167900085.\n"
     ]
    },
    {
     "name": "stdout",
     "output_type": "stream",
     "text": [
      "bestTest = 0.7416599095\n",
      "bestIteration = 438\n",
      "Shrink model to first 439 iterations.\n"
     ]
    },
    {
     "name": "stderr",
     "output_type": "stream",
     "text": [
      "Default metric period is 5 because AUC is/are not implemented for GPU\n"
     ]
    },
    {
     "name": "stdout",
     "output_type": "stream",
     "text": [
      "0:\ttest: 0.7296778\tbest: 0.7296778 (0)\ttotal: 51ms\tremaining: 1m 18s\n",
      "300:\ttest: 0.7400240\tbest: 0.7400240 (300)\ttotal: 15.9s\tremaining: 1m 5s\n",
      "600:\ttest: 0.7412432\tbest: 0.7412501 (596)\ttotal: 32s\tremaining: 49.7s\n",
      "900:\ttest: 0.7415920\tbest: 0.7416169 (877)\ttotal: 48.1s\tremaining: 33.7s\n",
      "1200:\ttest: 0.7415214\tbest: 0.7416391 (946)\ttotal: 1m 4s\tremaining: 17.7s\n",
      "bestTest = 0.7416391373\n",
      "bestIteration = 946\n",
      "Shrink model to first 947 iterations.\n"
     ]
    },
    {
     "name": "stderr",
     "output_type": "stream",
     "text": [
      "[I 2025-02-21 05:03:21,192] Trial 14 finished with value: 0.7416391372680664 and parameters: {'iterations': 1533, 'depth': 9, 'learning_rate': 0.014704958704754507, 'l2_leaf_reg': 11.564056006203653}. Best is trial 11 with value: 0.7419769167900085.\n",
      "Default metric period is 5 because AUC is/are not implemented for GPU\n"
     ]
    },
    {
     "name": "stdout",
     "output_type": "stream",
     "text": [
      "0:\ttest: 0.7296853\tbest: 0.7296853 (0)\ttotal: 51.1ms\tremaining: 2m 18s\n",
      "300:\ttest: 0.7412456\tbest: 0.7412944 (293)\ttotal: 14.4s\tremaining: 1m 55s\n",
      "600:\ttest: 0.7407788\tbest: 0.7413910 (425)\ttotal: 28.4s\tremaining: 1m 40s\n"
     ]
    },
    {
     "name": "stderr",
     "output_type": "stream",
     "text": [
      "[I 2025-02-21 05:03:58,894] Trial 15 finished with value: 0.7413910031318665 and parameters: {'iterations': 2717, 'depth': 8, 'learning_rate': 0.036171481209208434, 'l2_leaf_reg': 1.6800422049230213}. Best is trial 11 with value: 0.7419769167900085.\n"
     ]
    },
    {
     "name": "stdout",
     "output_type": "stream",
     "text": [
      "bestTest = 0.7413910031\n",
      "bestIteration = 425\n",
      "Shrink model to first 426 iterations.\n"
     ]
    },
    {
     "name": "stderr",
     "output_type": "stream",
     "text": [
      "Default metric period is 5 because AUC is/are not implemented for GPU\n"
     ]
    },
    {
     "name": "stdout",
     "output_type": "stream",
     "text": [
      "0:\ttest: 0.7292860\tbest: 0.7292860 (0)\ttotal: 89.8ms\tremaining: 4m 21s\n",
      "300:\ttest: 0.7375336\tbest: 0.7375336 (300)\ttotal: 27.7s\tremaining: 4m 1s\n",
      "600:\ttest: 0.7398517\tbest: 0.7398517 (600)\ttotal: 55.3s\tremaining: 3m 33s\n",
      "900:\ttest: 0.7408265\tbest: 0.7408265 (900)\ttotal: 1m 23s\tremaining: 3m 5s\n",
      "1200:\ttest: 0.7412341\tbest: 0.7412350 (1199)\ttotal: 1m 47s\tremaining: 2m 34s\n",
      "1500:\ttest: 0.7414305\tbest: 0.7414305 (1500)\ttotal: 2m 12s\tremaining: 2m 4s\n",
      "1800:\ttest: 0.7415471\tbest: 0.7415492 (1785)\ttotal: 2m 36s\tremaining: 1m 37s\n",
      "2100:\ttest: 0.7416080\tbest: 0.7416225 (2048)\ttotal: 3m 1s\tremaining: 1m 10s\n",
      "2400:\ttest: 0.7416685\tbest: 0.7416734 (2397)\ttotal: 3m 25s\tremaining: 44.2s\n",
      "2700:\ttest: 0.7416653\tbest: 0.7416840 (2539)\ttotal: 3m 49s\tremaining: 18.5s\n",
      "bestTest = 0.7416840494\n",
      "bestIteration = 2539\n",
      "Shrink model to first 2540 iterations.\n"
     ]
    },
    {
     "name": "stderr",
     "output_type": "stream",
     "text": [
      "[I 2025-02-21 05:08:04,278] Trial 16 finished with value: 0.7416840493679047 and parameters: {'iterations': 2918, 'depth': 10, 'learning_rate': 0.005830320214998093, 'l2_leaf_reg': 82.21749872685159}. Best is trial 11 with value: 0.7419769167900085.\n",
      "Default metric period is 5 because AUC is/are not implemented for GPU\n"
     ]
    },
    {
     "name": "stdout",
     "output_type": "stream",
     "text": [
      "0:\ttest: 0.7296881\tbest: 0.7296881 (0)\ttotal: 38.8ms\tremaining: 1m 36s\n",
      "300:\ttest: 0.7400957\tbest: 0.7400957 (300)\ttotal: 11.6s\tremaining: 1m 24s\n",
      "600:\ttest: 0.7410150\tbest: 0.7410150 (600)\ttotal: 23.1s\tremaining: 1m 12s\n",
      "900:\ttest: 0.7411966\tbest: 0.7412616 (866)\ttotal: 34.5s\tremaining: 1m 1s\n",
      "1200:\ttest: 0.7412749\tbest: 0.7413138 (1166)\ttotal: 45.8s\tremaining: 49.4s\n",
      "bestTest = 0.7413137555\n",
      "bestIteration = 1166\n",
      "Shrink model to first 1167 iterations.\n"
     ]
    },
    {
     "name": "stderr",
     "output_type": "stream",
     "text": [
      "[I 2025-02-21 05:09:04,821] Trial 17 finished with value: 0.7413137555122375 and parameters: {'iterations': 2495, 'depth': 8, 'learning_rate': 0.019825129676360076, 'l2_leaf_reg': 18.629068383938442}. Best is trial 11 with value: 0.7419769167900085.\n",
      "Default metric period is 5 because AUC is/are not implemented for GPU\n"
     ]
    },
    {
     "name": "stdout",
     "output_type": "stream",
     "text": [
      "0:\ttest: 0.7296853\tbest: 0.7296853 (0)\ttotal: 47.9ms\tremaining: 1m 47s\n",
      "300:\ttest: 0.7409694\tbest: 0.7409700 (298)\ttotal: 11.9s\tremaining: 1m 16s\n",
      "600:\ttest: 0.7412987\tbest: 0.7415736 (430)\ttotal: 23.2s\tremaining: 1m 3s\n"
     ]
    },
    {
     "name": "stderr",
     "output_type": "stream",
     "text": [
      "[I 2025-02-21 05:09:36,266] Trial 18 finished with value: 0.7415736317634583 and parameters: {'iterations': 2255, 'depth': 8, 'learning_rate': 0.03383977181207483, 'l2_leaf_reg': 1.4779556720626277}. Best is trial 11 with value: 0.7419769167900085.\n"
     ]
    },
    {
     "name": "stdout",
     "output_type": "stream",
     "text": [
      "bestTest = 0.7415736318\n",
      "bestIteration = 430\n",
      "Shrink model to first 431 iterations.\n"
     ]
    },
    {
     "name": "stderr",
     "output_type": "stream",
     "text": [
      "Default metric period is 5 because AUC is/are not implemented for GPU\n"
     ]
    },
    {
     "name": "stdout",
     "output_type": "stream",
     "text": [
      "0:\ttest: 0.7296580\tbest: 0.7296580 (0)\ttotal: 62.3ms\tremaining: 2m 48s\n",
      "300:\ttest: 0.7406493\tbest: 0.7406493 (300)\ttotal: 17s\tremaining: 2m 15s\n",
      "600:\ttest: 0.7417180\tbest: 0.7417238 (591)\ttotal: 32.9s\tremaining: 1m 54s\n",
      "900:\ttest: 0.7419504\tbest: 0.7420052 (852)\ttotal: 48.7s\tremaining: 1m 37s\n",
      "bestTest = 0.742005229\n",
      "bestIteration = 852\n",
      "Shrink model to first 853 iterations.\n"
     ]
    },
    {
     "name": "stderr",
     "output_type": "stream",
     "text": [
      "[I 2025-02-21 05:10:41,752] Trial 19 finished with value: 0.7420052289962769 and parameters: {'iterations': 2701, 'depth': 9, 'learning_rate': 0.018357749662516513, 'l2_leaf_reg': 26.173311383243338}. Best is trial 19 with value: 0.7420052289962769.\n"
     ]
    },
    {
     "name": "stdout",
     "output_type": "stream",
     "text": [
      "저장 완료\n"
     ]
    },
    {
     "name": "stderr",
     "output_type": "stream",
     "text": [
      "Default metric period is 5 because AUC is/are not implemented for GPU\n"
     ]
    },
    {
     "name": "stdout",
     "output_type": "stream",
     "text": [
      "0:\ttest: 0.7296506\tbest: 0.7296506 (0)\ttotal: 61.7ms\tremaining: 2m 49s\n",
      "300:\ttest: 0.7416296\tbest: 0.7416900 (284)\ttotal: 16.2s\tremaining: 2m 12s\n",
      "600:\ttest: 0.7414115\tbest: 0.7417981 (399)\ttotal: 32.1s\tremaining: 1m 54s\n"
     ]
    },
    {
     "name": "stderr",
     "output_type": "stream",
     "text": [
      "[I 2025-02-21 05:11:22,371] Trial 20 finished with value: 0.7417981326580048 and parameters: {'iterations': 2755, 'depth': 9, 'learning_rate': 0.04279597597675146, 'l2_leaf_reg': 33.27338485845761}. Best is trial 19 with value: 0.7420052289962769.\n"
     ]
    },
    {
     "name": "stdout",
     "output_type": "stream",
     "text": [
      "bestTest = 0.7417981327\n",
      "bestIteration = 399\n",
      "Shrink model to first 400 iterations.\n"
     ]
    },
    {
     "name": "stderr",
     "output_type": "stream",
     "text": [
      "Default metric period is 5 because AUC is/are not implemented for GPU\n"
     ]
    },
    {
     "name": "stdout",
     "output_type": "stream",
     "text": [
      "0:\ttest: 0.7304026\tbest: 0.7304026 (0)\ttotal: 89.4ms\tremaining: 4m 27s\n",
      "300:\ttest: 0.7406299\tbest: 0.7406299 (300)\ttotal: 24.5s\tremaining: 3m 38s\n",
      "600:\ttest: 0.7415186\tbest: 0.7415267 (595)\ttotal: 48.5s\tremaining: 3m 12s\n",
      "900:\ttest: 0.7414820\tbest: 0.7417077 (736)\ttotal: 1m 12s\tremaining: 2m 48s\n",
      "bestTest = 0.7417077422\n",
      "bestIteration = 736\n",
      "Shrink model to first 737 iterations.\n"
     ]
    },
    {
     "name": "stderr",
     "output_type": "stream",
     "text": [
      "[I 2025-02-21 05:12:49,497] Trial 21 finished with value: 0.7417077422142029 and parameters: {'iterations': 2987, 'depth': 10, 'learning_rate': 0.017607218368316507, 'l2_leaf_reg': 26.96963431672059}. Best is trial 19 with value: 0.7420052289962769.\n",
      "Default metric period is 5 because AUC is/are not implemented for GPU\n"
     ]
    },
    {
     "name": "stdout",
     "output_type": "stream",
     "text": [
      "0:\ttest: 0.7303137\tbest: 0.7303137 (0)\ttotal: 88ms\tremaining: 3m 50s\n",
      "300:\ttest: 0.7406393\tbest: 0.7407951 (283)\ttotal: 24.5s\tremaining: 3m 8s\n",
      "600:\ttest: 0.7402339\tbest: 0.7408335 (344)\ttotal: 48.6s\tremaining: 2m 43s\n"
     ]
    },
    {
     "name": "stderr",
     "output_type": "stream",
     "text": [
      "[I 2025-02-21 05:13:44,979] Trial 22 finished with value: 0.7408335208892822 and parameters: {'iterations': 2621, 'depth': 10, 'learning_rate': 0.02930021587258389, 'l2_leaf_reg': 5.098955840164499}. Best is trial 19 with value: 0.7420052289962769.\n"
     ]
    },
    {
     "name": "stdout",
     "output_type": "stream",
     "text": [
      "bestTest = 0.7408335209\n",
      "bestIteration = 344\n",
      "Shrink model to first 345 iterations.\n"
     ]
    },
    {
     "name": "stderr",
     "output_type": "stream",
     "text": [
      "Default metric period is 5 because AUC is/are not implemented for GPU\n"
     ]
    },
    {
     "name": "stdout",
     "output_type": "stream",
     "text": [
      "0:\ttest: 0.7295169\tbest: 0.7295169 (0)\ttotal: 51.4ms\tremaining: 2m 26s\n",
      "300:\ttest: 0.7397715\tbest: 0.7397715 (300)\ttotal: 16s\tremaining: 2m 15s\n",
      "600:\ttest: 0.7412769\tbest: 0.7412806 (598)\ttotal: 31.9s\tremaining: 1m 59s\n",
      "900:\ttest: 0.7417414\tbest: 0.7417431 (897)\ttotal: 48s\tremaining: 1m 43s\n",
      "1200:\ttest: 0.7420270\tbest: 0.7420270 (1200)\ttotal: 1m 4s\tremaining: 1m 27s\n",
      "1500:\ttest: 0.7419575\tbest: 0.7420326 (1205)\ttotal: 1m 19s\tremaining: 1m 11s\n",
      "bestTest = 0.7420325875\n",
      "bestIteration = 1205\n",
      "Shrink model to first 1206 iterations.\n"
     ]
    },
    {
     "name": "stderr",
     "output_type": "stream",
     "text": [
      "[I 2025-02-21 05:15:08,638] Trial 23 finished with value: 0.7420325875282288 and parameters: {'iterations': 2849, 'depth': 9, 'learning_rate': 0.013416833727666921, 'l2_leaf_reg': 88.56882445786988}. Best is trial 23 with value: 0.7420325875282288.\n"
     ]
    },
    {
     "name": "stdout",
     "output_type": "stream",
     "text": [
      "저장 완료\n"
     ]
    },
    {
     "name": "stderr",
     "output_type": "stream",
     "text": [
      "Default metric period is 5 because AUC is/are not implemented for GPU\n"
     ]
    },
    {
     "name": "stdout",
     "output_type": "stream",
     "text": [
      "0:\ttest: 0.7296835\tbest: 0.7296835 (0)\ttotal: 46.3ms\tremaining: 2m 8s\n",
      "300:\ttest: 0.7406354\tbest: 0.7406354 (300)\ttotal: 13.8s\tremaining: 1m 53s\n",
      "600:\ttest: 0.7416131\tbest: 0.7416131 (600)\ttotal: 28.1s\tremaining: 1m 41s\n",
      "900:\ttest: 0.7418104\tbest: 0.7418360 (886)\ttotal: 42.5s\tremaining: 1m 28s\n",
      "1200:\ttest: 0.7418559\tbest: 0.7419578 (1096)\ttotal: 54.5s\tremaining: 1m 11s\n",
      "bestTest = 0.7419578433\n",
      "bestIteration = 1096\n",
      "Shrink model to first 1097 iterations.\n"
     ]
    },
    {
     "name": "stderr",
     "output_type": "stream",
     "text": [
      "[I 2025-02-21 05:16:14,052] Trial 24 finished with value: 0.7419578433036804 and parameters: {'iterations': 2772, 'depth': 8, 'learning_rate': 0.02237169561347303, 'l2_leaf_reg': 78.78279975924482}. Best is trial 23 with value: 0.7420325875282288.\n",
      "Default metric period is 5 because AUC is/are not implemented for GPU\n"
     ]
    },
    {
     "name": "stdout",
     "output_type": "stream",
     "text": [
      "0:\ttest: 0.7296510\tbest: 0.7296510 (0)\ttotal: 61ms\tremaining: 2m 53s\n",
      "300:\ttest: 0.7414319\tbest: 0.7414642 (290)\ttotal: 16.4s\tremaining: 2m 18s\n",
      "600:\ttest: 0.7414392\tbest: 0.7416999 (419)\ttotal: 32.4s\tremaining: 2m 1s\n",
      "bestTest = 0.741699934\n",
      "bestIteration = 419\n",
      "Shrink model to first 420 iterations.\n"
     ]
    },
    {
     "name": "stderr",
     "output_type": "stream",
     "text": [
      "[I 2025-02-21 05:16:56,162] Trial 25 finished with value: 0.7416999340057373 and parameters: {'iterations': 2846, 'depth': 9, 'learning_rate': 0.03326960029531885, 'l2_leaf_reg': 29.67294718561743}. Best is trial 23 with value: 0.7420325875282288.\n",
      "Default metric period is 5 because AUC is/are not implemented for GPU\n"
     ]
    },
    {
     "name": "stdout",
     "output_type": "stream",
     "text": [
      "0:\ttest: 0.7296603\tbest: 0.7296603 (0)\ttotal: 51.8ms\tremaining: 2m 34s\n",
      "300:\ttest: 0.7401636\tbest: 0.7401733 (295)\ttotal: 16s\tremaining: 2m 23s\n",
      "600:\ttest: 0.7407723\tbest: 0.7409091 (563)\ttotal: 31.9s\tremaining: 2m 7s\n",
      "bestTest = 0.7409090996\n",
      "bestIteration = 563\n",
      "Shrink model to first 564 iterations.\n"
     ]
    },
    {
     "name": "stderr",
     "output_type": "stream",
     "text": [
      "[I 2025-02-21 05:17:45,355] Trial 26 finished with value: 0.7409090995788574 and parameters: {'iterations': 2992, 'depth': 9, 'learning_rate': 0.01993410430292462, 'l2_leaf_reg': 3.7373261245593223}. Best is trial 23 with value: 0.7420325875282288.\n",
      "Default metric period is 5 because AUC is/are not implemented for GPU\n"
     ]
    },
    {
     "name": "stdout",
     "output_type": "stream",
     "text": [
      "0:\ttest: 0.7244323\tbest: 0.7244323 (0)\ttotal: 28.7ms\tremaining: 1m 15s\n",
      "300:\ttest: 0.7373556\tbest: 0.7373556 (300)\ttotal: 10.2s\tremaining: 1m 19s\n",
      "600:\ttest: 0.7397402\tbest: 0.7397402 (600)\ttotal: 19s\tremaining: 1m 4s\n",
      "900:\ttest: 0.7405505\tbest: 0.7405510 (899)\ttotal: 28s\tremaining: 53.8s\n",
      "1200:\ttest: 0.7410168\tbest: 0.7410168 (1200)\ttotal: 37s\tremaining: 44.1s\n",
      "1500:\ttest: 0.7413010\tbest: 0.7413073 (1489)\ttotal: 44.2s\tremaining: 33.3s\n",
      "1800:\ttest: 0.7414031\tbest: 0.7414031 (1800)\ttotal: 52.3s\tremaining: 24.1s\n",
      "2100:\ttest: 0.7415393\tbest: 0.7415393 (2100)\ttotal: 59.2s\tremaining: 14.9s\n",
      "2400:\ttest: 0.7416366\tbest: 0.7416388 (2396)\ttotal: 1m 7s\tremaining: 6.42s\n",
      "2630:\ttest: 0.7416369\tbest: 0.7416457 (2450)\ttotal: 1m 12s\tremaining: 0us\n",
      "bestTest = 0.7416456938\n",
      "bestIteration = 2450\n",
      "Shrink model to first 2451 iterations.\n"
     ]
    },
    {
     "name": "stderr",
     "output_type": "stream",
     "text": [
      "[I 2025-02-21 05:19:01,152] Trial 27 finished with value: 0.7416456937789917 and parameters: {'iterations': 2631, 'depth': 6, 'learning_rate': 0.011472802322178087, 'l2_leaf_reg': 26.874369193739195}. Best is trial 23 with value: 0.7420325875282288.\n",
      "Default metric period is 5 because AUC is/are not implemented for GPU\n"
     ]
    },
    {
     "name": "stdout",
     "output_type": "stream",
     "text": [
      "0:\ttest: 0.7282526\tbest: 0.7282526 (0)\ttotal: 40.2ms\tremaining: 1m 55s\n",
      "300:\ttest: 0.7407024\tbest: 0.7407278 (294)\ttotal: 9.5s\tremaining: 1m 21s\n",
      "600:\ttest: 0.7416186\tbest: 0.7416230 (598)\ttotal: 18s\tremaining: 1m 8s\n",
      "900:\ttest: 0.7417865\tbest: 0.7418633 (855)\ttotal: 26.5s\tremaining: 58s\n",
      "1200:\ttest: 0.7417572\tbest: 0.7418965 (947)\ttotal: 35s\tremaining: 48.7s\n",
      "bestTest = 0.7418965101\n",
      "bestIteration = 947\n",
      "Shrink model to first 948 iterations.\n"
     ]
    },
    {
     "name": "stderr",
     "output_type": "stream",
     "text": [
      "[I 2025-02-21 05:19:41,008] Trial 28 finished with value: 0.7418965101242065 and parameters: {'iterations': 2873, 'depth': 7, 'learning_rate': 0.02807864690621696, 'l2_leaf_reg': 41.660499298503744}. Best is trial 23 with value: 0.7420325875282288.\n",
      "Default metric period is 5 because AUC is/are not implemented for GPU\n"
     ]
    },
    {
     "name": "stdout",
     "output_type": "stream",
     "text": [
      "0:\ttest: 0.7295244\tbest: 0.7295244 (0)\ttotal: 95.1ms\tremaining: 4m 13s\n",
      "300:\ttest: 0.7393499\tbest: 0.7393499 (300)\ttotal: 24.8s\tremaining: 3m 15s\n",
      "600:\ttest: 0.7410189\tbest: 0.7410189 (600)\ttotal: 49s\tremaining: 2m 48s\n",
      "900:\ttest: 0.7415887\tbest: 0.7415906 (886)\ttotal: 1m 13s\tremaining: 2m 23s\n",
      "1200:\ttest: 0.7417763\tbest: 0.7417828 (1197)\ttotal: 1m 37s\tremaining: 1m 59s\n",
      "1500:\ttest: 0.7418247\tbest: 0.7418474 (1487)\ttotal: 2m 1s\tremaining: 1m 34s\n",
      "1800:\ttest: 0.7418255\tbest: 0.7418607 (1772)\ttotal: 2m 25s\tremaining: 1m 10s\n",
      "bestTest = 0.7418607473\n",
      "bestIteration = 1772\n",
      "Shrink model to first 1773 iterations.\n"
     ]
    },
    {
     "name": "stderr",
     "output_type": "stream",
     "text": [
      "[I 2025-02-21 05:22:32,559] Trial 29 finished with value: 0.7418607473373413 and parameters: {'iterations': 2669, 'depth': 10, 'learning_rate': 0.010024729023111993, 'l2_leaf_reg': 94.47265519511508}. Best is trial 23 with value: 0.7420325875282288.\n",
      "Default metric period is 5 because AUC is/are not implemented for GPU\n"
     ]
    },
    {
     "name": "stdout",
     "output_type": "stream",
     "text": [
      "0:\ttest: 0.7296590\tbest: 0.7296590 (0)\ttotal: 57.4ms\tremaining: 2m 40s\n",
      "300:\ttest: 0.7402619\tbest: 0.7402619 (300)\ttotal: 16s\tremaining: 2m 12s\n",
      "600:\ttest: 0.7414504\tbest: 0.7414504 (600)\ttotal: 31.8s\tremaining: 1m 56s\n",
      "900:\ttest: 0.7417298\tbest: 0.7417389 (870)\ttotal: 47.7s\tremaining: 1m 40s\n",
      "1200:\ttest: 0.7414808\tbest: 0.7417536 (918)\ttotal: 1m 3s\tremaining: 1m 24s\n",
      "bestTest = 0.7417535782\n",
      "bestIteration = 918\n",
      "Shrink model to first 919 iterations.\n"
     ]
    },
    {
     "name": "stderr",
     "output_type": "stream",
     "text": [
      "[I 2025-02-21 05:23:40,428] Trial 30 finished with value: 0.7417535781860352 and parameters: {'iterations': 2797, 'depth': 9, 'learning_rate': 0.01658202297053425, 'l2_leaf_reg': 14.660043488188427}. Best is trial 23 with value: 0.7420325875282288.\n",
      "Default metric period is 5 because AUC is/are not implemented for GPU\n"
     ]
    },
    {
     "name": "stdout",
     "output_type": "stream",
     "text": [
      "0:\ttest: 0.7296825\tbest: 0.7296825 (0)\ttotal: 37.9ms\tremaining: 1m 44s\n",
      "300:\ttest: 0.7405510\tbest: 0.7405642 (296)\ttotal: 11.1s\tremaining: 1m 31s\n",
      "600:\ttest: 0.7414232\tbest: 0.7414232 (600)\ttotal: 22.4s\tremaining: 1m 20s\n",
      "900:\ttest: 0.7417451\tbest: 0.7417535 (897)\ttotal: 33.5s\tremaining: 1m 9s\n",
      "1200:\ttest: 0.7417846\tbest: 0.7418696 (1094)\ttotal: 45.8s\tremaining: 59.7s\n",
      "bestTest = 0.7418695688\n",
      "bestIteration = 1094\n",
      "Shrink model to first 1095 iterations.\n"
     ]
    },
    {
     "name": "stderr",
     "output_type": "stream",
     "text": [
      "[I 2025-02-21 05:24:36,989] Trial 31 finished with value: 0.7418695688247681 and parameters: {'iterations': 2768, 'depth': 8, 'learning_rate': 0.02206111223351113, 'l2_leaf_reg': 92.74806614819722}. Best is trial 23 with value: 0.7420325875282288.\n",
      "Default metric period is 5 because AUC is/are not implemented for GPU\n"
     ]
    },
    {
     "name": "stdout",
     "output_type": "stream",
     "text": [
      "0:\ttest: 0.7296696\tbest: 0.7296696 (0)\ttotal: 38.5ms\tremaining: 1m 38s\n",
      "300:\ttest: 0.7355822\tbest: 0.7355822 (300)\ttotal: 11.1s\tremaining: 1m 23s\n",
      "600:\ttest: 0.7386785\tbest: 0.7386785 (600)\ttotal: 22.2s\tremaining: 1m 12s\n",
      "900:\ttest: 0.7398665\tbest: 0.7398665 (900)\ttotal: 33.5s\tremaining: 1m 1s\n",
      "1200:\ttest: 0.7406035\tbest: 0.7406035 (1200)\ttotal: 44.7s\tremaining: 50.2s\n",
      "1500:\ttest: 0.7410550\tbest: 0.7410552 (1499)\ttotal: 56s\tremaining: 39.1s\n",
      "1800:\ttest: 0.7413171\tbest: 0.7413172 (1799)\ttotal: 1m 7s\tremaining: 28s\n",
      "2100:\ttest: 0.7415265\tbest: 0.7415265 (2100)\ttotal: 1m 18s\tremaining: 16.8s\n",
      "2400:\ttest: 0.7417002\tbest: 0.7417026 (2395)\ttotal: 1m 30s\tremaining: 5.61s\n",
      "2549:\ttest: 0.7417442\tbest: 0.7417442 (2549)\ttotal: 1m 36s\tremaining: 0us\n",
      "bestTest = 0.7417442203\n",
      "bestIteration = 2549\n"
     ]
    },
    {
     "name": "stderr",
     "output_type": "stream",
     "text": [
      "[I 2025-02-21 05:26:16,650] Trial 32 finished with value: 0.7417442202568054 and parameters: {'iterations': 2550, 'depth': 8, 'learning_rate': 0.005263768150511584, 'l2_leaf_reg': 45.91095853628695}. Best is trial 23 with value: 0.7420325875282288.\n",
      "Default metric period is 5 because AUC is/are not implemented for GPU\n"
     ]
    },
    {
     "name": "stdout",
     "output_type": "stream",
     "text": [
      "0:\ttest: 0.7296881\tbest: 0.7296881 (0)\ttotal: 47.3ms\tremaining: 2m 14s\n",
      "300:\ttest: 0.7402764\tbest: 0.7402778 (299)\ttotal: 11.9s\tremaining: 1m 40s\n",
      "600:\ttest: 0.7411850\tbest: 0.7411890 (595)\ttotal: 23.3s\tremaining: 1m 27s\n",
      "900:\ttest: 0.7412782\tbest: 0.7413372 (739)\ttotal: 34.8s\tremaining: 1m 15s\n"
     ]
    },
    {
     "name": "stderr",
     "output_type": "stream",
     "text": [
      "[I 2025-02-21 05:27:00,015] Trial 33 finished with value: 0.7413372099399567 and parameters: {'iterations': 2851, 'depth': 8, 'learning_rate': 0.020810920601415955, 'l2_leaf_reg': 18.55160496427729}. Best is trial 23 with value: 0.7420325875282288.\n"
     ]
    },
    {
     "name": "stdout",
     "output_type": "stream",
     "text": [
      "bestTest = 0.7413372099\n",
      "bestIteration = 739\n",
      "Shrink model to first 740 iterations.\n"
     ]
    },
    {
     "name": "stderr",
     "output_type": "stream",
     "text": [
      "Default metric period is 5 because AUC is/are not implemented for GPU\n"
     ]
    },
    {
     "name": "stdout",
     "output_type": "stream",
     "text": [
      "0:\ttest: 0.7296263\tbest: 0.7296263 (0)\ttotal: 61.4ms\tremaining: 2m 30s\n",
      "300:\ttest: 0.7400027\tbest: 0.7400027 (300)\ttotal: 18.3s\tremaining: 2m 10s\n",
      "600:\ttest: 0.7412060\tbest: 0.7412060 (600)\ttotal: 35s\tremaining: 1m 47s\n",
      "900:\ttest: 0.7417161\tbest: 0.7417161 (900)\ttotal: 51.1s\tremaining: 1m 27s\n",
      "1200:\ttest: 0.7416534\tbest: 0.7417968 (966)\ttotal: 1m 7s\tremaining: 1m 9s\n",
      "bestTest = 0.7417967916\n",
      "bestIteration = 966\n",
      "Shrink model to first 967 iterations.\n"
     ]
    },
    {
     "name": "stderr",
     "output_type": "stream",
     "text": [
      "[I 2025-02-21 05:28:14,130] Trial 34 finished with value: 0.7417967915534973 and parameters: {'iterations': 2452, 'depth': 9, 'learning_rate': 0.014429212254112722, 'l2_leaf_reg': 41.98970921277311}. Best is trial 23 with value: 0.7420325875282288.\n",
      "Default metric period is 5 because AUC is/are not implemented for GPU\n"
     ]
    },
    {
     "name": "stdout",
     "output_type": "stream",
     "text": [
      "0:\ttest: 0.7303104\tbest: 0.7303104 (0)\ttotal: 79.4ms\tremaining: 3m 24s\n",
      "300:\ttest: 0.7410259\tbest: 0.7410452 (270)\ttotal: 24.4s\tremaining: 3m 4s\n",
      "600:\ttest: 0.7406079\tbest: 0.7411397 (444)\ttotal: 48.6s\tremaining: 2m 39s\n",
      "bestTest = 0.7411396503\n",
      "bestIteration = 444\n",
      "Shrink model to first 445 iterations.\n"
     ]
    },
    {
     "name": "stderr",
     "output_type": "stream",
     "text": [
      "[I 2025-02-21 05:29:17,741] Trial 35 finished with value: 0.7411396503448486 and parameters: {'iterations': 2574, 'depth': 10, 'learning_rate': 0.02500688717909535, 'l2_leaf_reg': 5.560189380642535}. Best is trial 23 with value: 0.7420325875282288.\n",
      "Default metric period is 5 because AUC is/are not implemented for GPU\n"
     ]
    },
    {
     "name": "stdout",
     "output_type": "stream",
     "text": [
      "0:\ttest: 0.7296832\tbest: 0.7296832 (0)\ttotal: 48.1ms\tremaining: 2m 11s\n",
      "300:\ttest: 0.7380420\tbest: 0.7380420 (300)\ttotal: 11.9s\tremaining: 1m 35s\n",
      "600:\ttest: 0.7403071\tbest: 0.7403071 (600)\ttotal: 23.1s\tremaining: 1m 22s\n",
      "900:\ttest: 0.7411380\tbest: 0.7411380 (900)\ttotal: 34.6s\tremaining: 1m 10s\n",
      "1200:\ttest: 0.7415522\tbest: 0.7415542 (1196)\ttotal: 45.9s\tremaining: 58.5s\n",
      "1500:\ttest: 0.7417879\tbest: 0.7417885 (1496)\ttotal: 57.3s\tremaining: 47s\n",
      "1800:\ttest: 0.7419161\tbest: 0.7419238 (1793)\ttotal: 1m 8s\tremaining: 35.5s\n",
      "2100:\ttest: 0.7420297\tbest: 0.7420395 (2057)\ttotal: 1m 20s\tremaining: 24.1s\n",
      "2400:\ttest: 0.7420099\tbest: 0.7420819 (2219)\ttotal: 1m 31s\tremaining: 12.7s\n",
      "bestTest = 0.7420819402\n",
      "bestIteration = 2219\n",
      "Shrink model to first 2220 iterations.\n"
     ]
    },
    {
     "name": "stderr",
     "output_type": "stream",
     "text": [
      "[I 2025-02-21 05:30:57,326] Trial 36 finished with value: 0.7420819401741028 and parameters: {'iterations': 2733, 'depth': 8, 'learning_rate': 0.009299932015691192, 'l2_leaf_reg': 95.29001816077022}. Best is trial 36 with value: 0.7420819401741028.\n"
     ]
    },
    {
     "name": "stdout",
     "output_type": "stream",
     "text": [
      "저장 완료\n"
     ]
    },
    {
     "name": "stderr",
     "output_type": "stream",
     "text": [
      "Default metric period is 5 because AUC is/are not implemented for GPU\n"
     ]
    },
    {
     "name": "stdout",
     "output_type": "stream",
     "text": [
      "0:\ttest: 0.7296574\tbest: 0.7296574 (0)\ttotal: 58.2ms\tremaining: 2m 15s\n",
      "300:\ttest: 0.7386643\tbest: 0.7386643 (300)\ttotal: 16.3s\tremaining: 1m 49s\n",
      "600:\ttest: 0.7406090\tbest: 0.7406090 (600)\ttotal: 32.2s\tremaining: 1m 32s\n",
      "900:\ttest: 0.7412192\tbest: 0.7412192 (900)\ttotal: 48.1s\tremaining: 1m 16s\n",
      "1200:\ttest: 0.7414699\tbest: 0.7414699 (1200)\ttotal: 1m 4s\tremaining: 1m\n",
      "1500:\ttest: 0.7416457\tbest: 0.7416552 (1443)\ttotal: 1m 20s\tremaining: 44.2s\n",
      "1800:\ttest: 0.7416168\tbest: 0.7416815 (1586)\ttotal: 1m 36s\tremaining: 28.2s\n",
      "bestTest = 0.7416814566\n",
      "bestIteration = 1586\n",
      "Shrink model to first 1587 iterations.\n"
     ]
    },
    {
     "name": "stderr",
     "output_type": "stream",
     "text": [
      "[I 2025-02-21 05:32:41,704] Trial 37 finished with value: 0.7416814565658569 and parameters: {'iterations': 2329, 'depth': 9, 'learning_rate': 0.009360351104789544, 'l2_leaf_reg': 18.176875306931706}. Best is trial 36 with value: 0.7420819401741028.\n",
      "Default metric period is 5 because AUC is/are not implemented for GPU\n"
     ]
    },
    {
     "name": "stdout",
     "output_type": "stream",
     "text": [
      "0:\ttest: 0.7304341\tbest: 0.7304341 (0)\ttotal: 89.7ms\tremaining: 4m 18s\n",
      "300:\ttest: 0.7405427\tbest: 0.7405427 (300)\ttotal: 24.7s\tremaining: 3m 32s\n",
      "600:\ttest: 0.7417384\tbest: 0.7417566 (559)\ttotal: 48.9s\tremaining: 3m 5s\n",
      "900:\ttest: 0.7420756\tbest: 0.7421247 (889)\ttotal: 1m 13s\tremaining: 2m 40s\n",
      "bestTest = 0.7421247363\n",
      "bestIteration = 889\n",
      "Shrink model to first 890 iterations.\n"
     ]
    },
    {
     "name": "stderr",
     "output_type": "stream",
     "text": [
      "[I 2025-02-21 05:34:21,620] Trial 38 finished with value: 0.7421247363090515 and parameters: {'iterations': 2882, 'depth': 10, 'learning_rate': 0.014126799988858504, 'l2_leaf_reg': 45.07801503329612}. Best is trial 38 with value: 0.7421247363090515.\n"
     ]
    },
    {
     "name": "stdout",
     "output_type": "stream",
     "text": [
      "저장 완료\n"
     ]
    },
    {
     "name": "stderr",
     "output_type": "stream",
     "text": [
      "Default metric period is 5 because AUC is/are not implemented for GPU\n"
     ]
    },
    {
     "name": "stdout",
     "output_type": "stream",
     "text": [
      "0:\ttest: 0.7244323\tbest: 0.7244323 (0)\ttotal: 29.6ms\tremaining: 1m 20s\n",
      "300:\ttest: 0.7329024\tbest: 0.7329024 (300)\ttotal: 7.1s\tremaining: 56.8s\n",
      "600:\ttest: 0.7365906\tbest: 0.7365906 (600)\ttotal: 13.5s\tremaining: 47.5s\n",
      "900:\ttest: 0.7383465\tbest: 0.7383465 (900)\ttotal: 20s\tremaining: 40.2s\n",
      "1200:\ttest: 0.7392850\tbest: 0.7392850 (1200)\ttotal: 26.5s\tremaining: 33.3s\n",
      "1500:\ttest: 0.7398275\tbest: 0.7398275 (1500)\ttotal: 33.1s\tremaining: 26.6s\n",
      "1800:\ttest: 0.7402000\tbest: 0.7402000 (1800)\ttotal: 39.6s\tremaining: 20s\n",
      "2100:\ttest: 0.7404499\tbest: 0.7404504 (2098)\ttotal: 46.2s\tremaining: 13.4s\n",
      "2400:\ttest: 0.7406863\tbest: 0.7406863 (2400)\ttotal: 52.7s\tremaining: 6.76s\n",
      "2700:\ttest: 0.7408640\tbest: 0.7408640 (2700)\ttotal: 59.2s\tremaining: 175ms\n",
      "2708:\ttest: 0.7408701\tbest: 0.7408705 (2706)\ttotal: 59.4s\tremaining: 0us\n",
      "bestTest = 0.7408704758\n",
      "bestIteration = 2706\n",
      "Shrink model to first 2707 iterations.\n"
     ]
    },
    {
     "name": "stderr",
     "output_type": "stream",
     "text": [
      "[I 2025-02-21 05:35:24,429] Trial 39 finished with value: 0.740870475769043 and parameters: {'iterations': 2709, 'depth': 6, 'learning_rate': 0.005003478013435588, 'l2_leaf_reg': 39.819875775443215}. Best is trial 38 with value: 0.7421247363090515.\n",
      "[I 2025-02-21 05:35:24,455] A new study created in memory with name: no-name-8aec2a1c-be9a-4d38-9a71-7021d31fd21f\n",
      "[I 2025-02-21 05:35:41,499] Trial 0 finished with value: 0.7301370235297882 and parameters: {'num_iterations': 2366, 'objective': 'binary', 'metric': 'auc', 'verbose': -1, 'learning_rate': 0.0652646236447618, 'n_estimators': 236, 'min_child_samples': 45, 'subsample': 0.7, 'colsample_bytree': 0.5}. Best is trial 0 with value: 0.7301370235297882.\n",
      "[I 2025-02-21 05:35:55,906] Trial 1 finished with value: 0.7406758985218106 and parameters: {'num_iterations': 1510, 'objective': 'binary', 'metric': 'auc', 'verbose': -1, 'learning_rate': 0.005231880959249543, 'n_estimators': 1411, 'min_child_samples': 10, 'subsample': 1.0, 'colsample_bytree': 0.5}. Best is trial 1 with value: 0.7406758985218106.\n",
      "[I 2025-02-21 05:36:10,185] Trial 2 finished with value: 0.7403877273376044 and parameters: {'num_iterations': 2334, 'objective': 'binary', 'metric': 'auc', 'verbose': -1, 'learning_rate': 0.006578527777128852, 'n_estimators': 931, 'min_child_samples': 15, 'subsample': 0.5, 'colsample_bytree': 1.0}. Best is trial 1 with value: 0.7406758985218106.\n",
      "[I 2025-02-21 05:36:21,028] Trial 3 finished with value: 0.7407327973505231 and parameters: {'num_iterations': 1620, 'objective': 'binary', 'metric': 'auc', 'verbose': -1, 'learning_rate': 0.0058823249237283685, 'n_estimators': 837, 'min_child_samples': 10, 'subsample': 0.9, 'colsample_bytree': 0.6}. Best is trial 3 with value: 0.7407327973505231.\n",
      "[I 2025-02-21 05:36:30,441] Trial 4 finished with value: 0.7402054596890084 and parameters: {'num_iterations': 1997, 'objective': 'binary', 'metric': 'auc', 'verbose': -1, 'learning_rate': 0.010907507425244923, 'n_estimators': 1597, 'min_child_samples': 50, 'subsample': 0.6, 'colsample_bytree': 0.8}. Best is trial 3 with value: 0.7407327973505231.\n",
      "[I 2025-02-21 05:36:43,053] Trial 5 finished with value: 0.7352435673310933 and parameters: {'num_iterations': 2909, 'objective': 'binary', 'metric': 'auc', 'verbose': -1, 'learning_rate': 0.019760591962733942, 'n_estimators': 612, 'min_child_samples': 30, 'subsample': 0.7, 'colsample_bytree': 0.9}. Best is trial 3 with value: 0.7407327973505231.\n",
      "[I 2025-02-21 05:36:54,586] Trial 6 finished with value: 0.736998671246168 and parameters: {'num_iterations': 2639, 'objective': 'binary', 'metric': 'auc', 'verbose': -1, 'learning_rate': 0.017862094446750985, 'n_estimators': 794, 'min_child_samples': 35, 'subsample': 1.0, 'colsample_bytree': 0.8}. Best is trial 3 with value: 0.7407327973505231.\n",
      "[I 2025-02-21 05:37:07,942] Trial 7 finished with value: 0.739727289540727 and parameters: {'num_iterations': 1580, 'objective': 'binary', 'metric': 'auc', 'verbose': -1, 'learning_rate': 0.01776722177611332, 'n_estimators': 529, 'min_child_samples': 25, 'subsample': 0.8, 'colsample_bytree': 0.5}. Best is trial 3 with value: 0.7407327973505231.\n",
      "[I 2025-02-21 05:37:19,106] Trial 8 finished with value: 0.7364931456626852 and parameters: {'num_iterations': 1911, 'objective': 'binary', 'metric': 'auc', 'verbose': -1, 'learning_rate': 0.0304747553332844, 'n_estimators': 1328, 'min_child_samples': 10, 'subsample': 0.7, 'colsample_bytree': 0.6}. Best is trial 3 with value: 0.7407327973505231.\n",
      "[I 2025-02-21 05:37:36,986] Trial 9 finished with value: 0.7362385880303702 and parameters: {'num_iterations': 2739, 'objective': 'binary', 'metric': 'auc', 'verbose': -1, 'learning_rate': 0.02691531614176271, 'n_estimators': 1438, 'min_child_samples': 20, 'subsample': 0.6, 'colsample_bytree': 0.5}. Best is trial 3 with value: 0.7407327973505231.\n",
      "[I 2025-02-21 05:37:46,852] Trial 10 finished with value: 0.7408195215056685 and parameters: {'num_iterations': 1883, 'objective': 'binary', 'metric': 'auc', 'verbose': -1, 'learning_rate': 0.007630609716045009, 'n_estimators': 1917, 'min_child_samples': 40, 'subsample': 0.9, 'colsample_bytree': 0.7}. Best is trial 10 with value: 0.7408195215056685.\n",
      "[I 2025-02-21 05:37:56,030] Trial 11 finished with value: 0.7407999688618986 and parameters: {'num_iterations': 1834, 'objective': 'binary', 'metric': 'auc', 'verbose': -1, 'learning_rate': 0.007972116511668377, 'n_estimators': 1756, 'min_child_samples': 40, 'subsample': 0.9, 'colsample_bytree': 0.7}. Best is trial 10 with value: 0.7408195215056685.\n",
      "[I 2025-02-21 05:38:05,371] Trial 12 finished with value: 0.740454954441387 and parameters: {'num_iterations': 1990, 'objective': 'binary', 'metric': 'auc', 'verbose': -1, 'learning_rate': 0.009303222125489577, 'n_estimators': 1958, 'min_child_samples': 40, 'subsample': 0.9, 'colsample_bytree': 0.7}. Best is trial 10 with value: 0.7408195215056685.\n",
      "[I 2025-02-21 05:38:14,319] Trial 13 finished with value: 0.7407067403951172 and parameters: {'num_iterations': 1832, 'objective': 'binary', 'metric': 'auc', 'verbose': -1, 'learning_rate': 0.008297713384171916, 'n_estimators': 2000, 'min_child_samples': 40, 'subsample': 0.9, 'colsample_bytree': 0.7}. Best is trial 10 with value: 0.7408195215056685.\n",
      "[I 2025-02-21 05:38:25,002] Trial 14 finished with value: 0.7399852581643088 and parameters: {'num_iterations': 2165, 'objective': 'binary', 'metric': 'auc', 'verbose': -1, 'learning_rate': 0.011369098027764696, 'n_estimators': 1729, 'min_child_samples': 50, 'subsample': 0.8, 'colsample_bytree': 0.7}. Best is trial 10 with value: 0.7408195215056685.\n",
      "[I 2025-02-21 05:38:34,692] Trial 15 finished with value: 0.7410177163789113 and parameters: {'num_iterations': 1757, 'objective': 'binary', 'metric': 'auc', 'verbose': -1, 'learning_rate': 0.005158006658641952, 'n_estimators': 1147, 'min_child_samples': 35, 'subsample': 0.9, 'colsample_bytree': 0.9}. Best is trial 15 with value: 0.7410177163789113.\n",
      "[I 2025-02-21 05:38:44,384] Trial 16 finished with value: 0.7411950363032714 and parameters: {'num_iterations': 1702, 'objective': 'binary', 'metric': 'auc', 'verbose': -1, 'learning_rate': 0.005175175775812108, 'n_estimators': 1086, 'min_child_samples': 30, 'subsample': 1.0, 'colsample_bytree': 1.0}. Best is trial 16 with value: 0.7411950363032714.\n",
      "[I 2025-02-21 05:38:54,087] Trial 17 finished with value: 0.7409911590918412 and parameters: {'num_iterations': 1709, 'objective': 'binary', 'metric': 'auc', 'verbose': -1, 'learning_rate': 0.005781272965693252, 'n_estimators': 1115, 'min_child_samples': 30, 'subsample': 1.0, 'colsample_bytree': 1.0}. Best is trial 16 with value: 0.7411950363032714.\n",
      "[I 2025-02-21 05:39:04,778] Trial 18 finished with value: 0.7406423604167576 and parameters: {'num_iterations': 2151, 'objective': 'binary', 'metric': 'auc', 'verbose': -1, 'learning_rate': 0.005192673733367554, 'n_estimators': 1143, 'min_child_samples': 25, 'subsample': 1.0, 'colsample_bytree': 0.9}. Best is trial 16 with value: 0.7411950363032714.\n",
      "[I 2025-02-21 05:39:12,561] Trial 19 finished with value: 0.7396143893035888 and parameters: {'num_iterations': 1714, 'objective': 'binary', 'metric': 'auc', 'verbose': -1, 'learning_rate': 0.012494911637938571, 'n_estimators': 1224, 'min_child_samples': 30, 'subsample': 0.8, 'colsample_bytree': 0.9}. Best is trial 16 with value: 0.7411950363032714.\n",
      "[I 2025-02-21 05:39:24,113] Trial 20 finished with value: 0.7408539411474635 and parameters: {'num_iterations': 2133, 'objective': 'binary', 'metric': 'auc', 'verbose': -1, 'learning_rate': 0.0051776852754506775, 'n_estimators': 618, 'min_child_samples': 35, 'subsample': 1.0, 'colsample_bytree': 1.0}. Best is trial 16 with value: 0.7411950363032714.\n",
      "[I 2025-02-21 05:39:33,765] Trial 21 finished with value: 0.7409522324941813 and parameters: {'num_iterations': 1706, 'objective': 'binary', 'metric': 'auc', 'verbose': -1, 'learning_rate': 0.006596405009327437, 'n_estimators': 1052, 'min_child_samples': 30, 'subsample': 1.0, 'colsample_bytree': 1.0}. Best is trial 16 with value: 0.7411950363032714.\n",
      "[I 2025-02-21 05:39:43,167] Trial 22 finished with value: 0.7411332890224787 and parameters: {'num_iterations': 1714, 'objective': 'binary', 'metric': 'auc', 'verbose': -1, 'learning_rate': 0.005003612867506744, 'n_estimators': 977, 'min_child_samples': 25, 'subsample': 1.0, 'colsample_bytree': 1.0}. Best is trial 16 with value: 0.7411950363032714.\n",
      "[I 2025-02-21 05:39:52,103] Trial 23 finished with value: 0.7405689546140094 and parameters: {'num_iterations': 1739, 'objective': 'binary', 'metric': 'auc', 'verbose': -1, 'learning_rate': 0.006910411199048648, 'n_estimators': 951, 'min_child_samples': 25, 'subsample': 0.9, 'colsample_bytree': 0.9}. Best is trial 16 with value: 0.7411950363032714.\n",
      "[I 2025-02-21 05:40:00,935] Trial 24 finished with value: 0.7409385726455686 and parameters: {'num_iterations': 1515, 'objective': 'binary', 'metric': 'auc', 'verbose': -1, 'learning_rate': 0.005036036591237273, 'n_estimators': 746, 'min_child_samples': 20, 'subsample': 1.0, 'colsample_bytree': 1.0}. Best is trial 16 with value: 0.7411950363032714.\n",
      "[I 2025-02-21 05:40:10,422] Trial 25 finished with value: 0.7402847185780517 and parameters: {'num_iterations': 2004, 'objective': 'binary', 'metric': 'auc', 'verbose': -1, 'learning_rate': 0.008883021712741569, 'n_estimators': 391, 'min_child_samples': 35, 'subsample': 0.9, 'colsample_bytree': 0.9}. Best is trial 16 with value: 0.7411950363032714.\n",
      "[I 2025-02-21 05:40:22,398] Trial 26 finished with value: 0.7399041925220334 and parameters: {'num_iterations': 2478, 'objective': 'binary', 'metric': 'auc', 'verbose': -1, 'learning_rate': 0.0070319925342010176, 'n_estimators': 1231, 'min_child_samples': 20, 'subsample': 0.8, 'colsample_bytree': 0.8}. Best is trial 16 with value: 0.7411950363032714.\n",
      "[I 2025-02-21 05:40:30,422] Trial 27 finished with value: 0.7402032717306987 and parameters: {'num_iterations': 1622, 'objective': 'binary', 'metric': 'auc', 'verbose': -1, 'learning_rate': 0.009576177856997022, 'n_estimators': 963, 'min_child_samples': 25, 'subsample': 1.0, 'colsample_bytree': 1.0}. Best is trial 16 with value: 0.7411950363032714.\n",
      "[I 2025-02-21 05:40:39,602] Trial 28 finished with value: 0.7392238486725121 and parameters: {'num_iterations': 2029, 'objective': 'binary', 'metric': 'auc', 'verbose': -1, 'learning_rate': 0.013981759659711353, 'n_estimators': 1484, 'min_child_samples': 35, 'subsample': 0.9, 'colsample_bytree': 0.9}. Best is trial 16 with value: 0.7411950363032714.\n",
      "[I 2025-02-21 05:40:47,607] Trial 29 finished with value: 0.7277874422089131 and parameters: {'num_iterations': 1789, 'objective': 'binary', 'metric': 'auc', 'verbose': -1, 'learning_rate': 0.07234407408474254, 'n_estimators': 315, 'min_child_samples': 45, 'subsample': 1.0, 'colsample_bytree': 1.0}. Best is trial 16 with value: 0.7411950363032714.\n",
      "[I 2025-02-21 05:40:59,642] Trial 30 finished with value: 0.7400865713554435 and parameters: {'num_iterations': 2437, 'objective': 'binary', 'metric': 'auc', 'verbose': -1, 'learning_rate': 0.006300048275050027, 'n_estimators': 104, 'min_child_samples': 15, 'subsample': 0.8, 'colsample_bytree': 0.9}. Best is trial 16 with value: 0.7411950363032714.\n",
      "[I 2025-02-21 05:41:08,647] Trial 31 finished with value: 0.7410001650617986 and parameters: {'num_iterations': 1672, 'objective': 'binary', 'metric': 'auc', 'verbose': -1, 'learning_rate': 0.005907012174201185, 'n_estimators': 1118, 'min_child_samples': 30, 'subsample': 1.0, 'colsample_bytree': 1.0}. Best is trial 16 with value: 0.7411950363032714.\n",
      "[I 2025-02-21 05:41:17,229] Trial 32 finished with value: 0.7412049595479467 and parameters: {'num_iterations': 1502, 'objective': 'binary', 'metric': 'auc', 'verbose': -1, 'learning_rate': 0.005117078713347992, 'n_estimators': 1268, 'min_child_samples': 35, 'subsample': 1.0, 'colsample_bytree': 1.0}. Best is trial 32 with value: 0.7412049595479467.\n",
      "[I 2025-02-21 05:41:25,848] Trial 33 finished with value: 0.7411758172139442 and parameters: {'num_iterations': 1544, 'objective': 'binary', 'metric': 'auc', 'verbose': -1, 'learning_rate': 0.0050449586814154835, 'n_estimators': 1321, 'min_child_samples': 35, 'subsample': 1.0, 'colsample_bytree': 1.0}. Best is trial 32 with value: 0.7412049595479467.\n",
      "[I 2025-02-21 05:41:34,356] Trial 34 finished with value: 0.7408931059982968 and parameters: {'num_iterations': 1501, 'objective': 'binary', 'metric': 'auc', 'verbose': -1, 'learning_rate': 0.007358881097394222, 'n_estimators': 1281, 'min_child_samples': 45, 'subsample': 1.0, 'colsample_bytree': 1.0}. Best is trial 32 with value: 0.7412049595479467.\n",
      "[I 2025-02-21 05:41:42,813] Trial 35 finished with value: 0.7409133376636112 and parameters: {'num_iterations': 1597, 'objective': 'binary', 'metric': 'auc', 'verbose': -1, 'learning_rate': 0.006307188753856895, 'n_estimators': 1556, 'min_child_samples': 30, 'subsample': 0.5, 'colsample_bytree': 1.0}. Best is trial 32 with value: 0.7412049595479467.\n",
      "[I 2025-02-21 05:41:51,144] Trial 36 finished with value: 0.7409824390256919 and parameters: {'num_iterations': 1559, 'objective': 'binary', 'metric': 'auc', 'verbose': -1, 'learning_rate': 0.005878456784876626, 'n_estimators': 1353, 'min_child_samples': 25, 'subsample': 1.0, 'colsample_bytree': 1.0}. Best is trial 32 with value: 0.7412049595479467.\n",
      "[I 2025-02-21 05:41:59,773] Trial 37 finished with value: 0.74061910293614 and parameters: {'num_iterations': 1644, 'objective': 'binary', 'metric': 'auc', 'verbose': -1, 'learning_rate': 0.008442369257707484, 'n_estimators': 909, 'min_child_samples': 35, 'subsample': 0.9, 'colsample_bytree': 0.9}. Best is trial 32 with value: 0.7412049595479467.\n",
      "[I 2025-02-21 05:42:07,343] Trial 38 finished with value: 0.740690491528686 and parameters: {'num_iterations': 1505, 'objective': 'binary', 'metric': 'auc', 'verbose': -1, 'learning_rate': 0.010114894429581574, 'n_estimators': 1027, 'min_child_samples': 45, 'subsample': 1.0, 'colsample_bytree': 0.8}. Best is trial 32 with value: 0.7412049595479467.\n",
      "[I 2025-02-21 05:42:18,531] Trial 39 finished with value: 0.7410285767527357 and parameters: {'num_iterations': 1912, 'objective': 'binary', 'metric': 'auc', 'verbose': -1, 'learning_rate': 0.005019875163537686, 'n_estimators': 734, 'min_child_samples': 30, 'subsample': 0.7, 'colsample_bytree': 1.0}. Best is trial 32 with value: 0.7412049595479467.\n"
     ]
    },
    {
     "name": "stdout",
     "output_type": "stream",
     "text": [
      "Cat val score : 0.7421248034292193\n",
      "LGBM val score : 0.7411499429193047\n",
      "Ensemble val score : 0.7422114481666402\n"
     ]
    },
    {
     "name": "stderr",
     "output_type": "stream",
     "text": [
      "[I 2025-02-21 05:42:30,098] A new study created in memory with name: no-name-678a5889-031f-41e6-b1b2-dee85bc35f9a\n"
     ]
    },
    {
     "name": "stdout",
     "output_type": "stream",
     "text": [
      "==================================================\n"
     ]
    },
    {
     "name": "stderr",
     "output_type": "stream",
     "text": [
      "Default metric period is 5 because AUC is/are not implemented for GPU\n"
     ]
    },
    {
     "name": "stdout",
     "output_type": "stream",
     "text": [
      "0:\ttest: 0.7323326\tbest: 0.7323326 (0)\ttotal: 77.9ms\tremaining: 3m 4s\n",
      "300:\ttest: 0.7417291\tbest: 0.7417291 (300)\ttotal: 24.1s\tremaining: 2m 45s\n",
      "600:\ttest: 0.7434522\tbest: 0.7434522 (600)\ttotal: 48.4s\tremaining: 2m 22s\n",
      "900:\ttest: 0.7439697\tbest: 0.7440000 (878)\ttotal: 1m 12s\tremaining: 1m 58s\n",
      "1200:\ttest: 0.7440691\tbest: 0.7441572 (1129)\ttotal: 1m 36s\tremaining: 1m 34s\n",
      "bestTest = 0.7441571951\n",
      "bestIteration = 1129\n",
      "Shrink model to first 1130 iterations.\n"
     ]
    },
    {
     "name": "stderr",
     "output_type": "stream",
     "text": [
      "[I 2025-02-21 05:44:27,501] Trial 0 finished with value: 0.7441571950912476 and parameters: {'iterations': 2366, 'depth': 10, 'learning_rate': 0.01181021951839225, 'l2_leaf_reg': 9.980783802743254}. Best is trial 0 with value: 0.7441571950912476.\n"
     ]
    },
    {
     "name": "stdout",
     "output_type": "stream",
     "text": [
      "저장 완료\n"
     ]
    },
    {
     "name": "stderr",
     "output_type": "stream",
     "text": [
      "Default metric period is 5 because AUC is/are not implemented for GPU\n"
     ]
    },
    {
     "name": "stdout",
     "output_type": "stream",
     "text": [
      "0:\ttest: 0.7031181\tbest: 0.7031181 (0)\ttotal: 17.4ms\tremaining: 38s\n",
      "300:\ttest: 0.7301861\tbest: 0.7301861 (300)\ttotal: 4.66s\tremaining: 29.3s\n",
      "600:\ttest: 0.7356281\tbest: 0.7356281 (600)\ttotal: 8.8s\tremaining: 23.3s\n",
      "900:\ttest: 0.7380702\tbest: 0.7380702 (900)\ttotal: 12.9s\tremaining: 18.5s\n",
      "1200:\ttest: 0.7394717\tbest: 0.7394717 (1200)\ttotal: 18.3s\tremaining: 15.1s\n",
      "1500:\ttest: 0.7404717\tbest: 0.7404717 (1500)\ttotal: 22.6s\tremaining: 10.4s\n",
      "1800:\ttest: 0.7411310\tbest: 0.7411310 (1800)\ttotal: 26.7s\tremaining: 5.81s\n",
      "2100:\ttest: 0.7416531\tbest: 0.7416531 (2100)\ttotal: 30.8s\tremaining: 1.35s\n",
      "2192:\ttest: 0.7417710\tbest: 0.7417710 (2192)\ttotal: 32.1s\tremaining: 0us\n",
      "bestTest = 0.7417710423\n",
      "bestIteration = 2192\n"
     ]
    },
    {
     "name": "stderr",
     "output_type": "stream",
     "text": [
      "[I 2025-02-21 05:45:02,891] Trial 1 finished with value: 0.7417710423469543 and parameters: {'iterations': 2193, 'depth': 4, 'learning_rate': 0.005671430811678843, 'l2_leaf_reg': 0.00012325230809466137}. Best is trial 0 with value: 0.7441571950912476.\n",
      "Default metric period is 5 because AUC is/are not implemented for GPU\n"
     ]
    },
    {
     "name": "stdout",
     "output_type": "stream",
     "text": [
      "0:\ttest: 0.7031181\tbest: 0.7031181 (0)\ttotal: 14.5ms\tremaining: 36.6s\n",
      "300:\ttest: 0.7430522\tbest: 0.7430538 (298)\ttotal: 4.17s\tremaining: 30.9s\n",
      "600:\ttest: 0.7431384\tbest: 0.7433056 (553)\ttotal: 8.34s\tremaining: 26.8s\n"
     ]
    },
    {
     "name": "stderr",
     "output_type": "stream",
     "text": [
      "[I 2025-02-21 05:45:17,922] Trial 2 finished with value: 0.7433055937290192 and parameters: {'iterations': 2535, 'depth': 4, 'learning_rate': 0.09275339199839054, 'l2_leaf_reg': 0.0008705394248343123}. Best is trial 0 with value: 0.7441571950912476.\n"
     ]
    },
    {
     "name": "stdout",
     "output_type": "stream",
     "text": [
      "bestTest = 0.7433055937\n",
      "bestIteration = 553\n",
      "Shrink model to first 554 iterations.\n"
     ]
    },
    {
     "name": "stderr",
     "output_type": "stream",
     "text": [
      "Default metric period is 5 because AUC is/are not implemented for GPU\n"
     ]
    },
    {
     "name": "stdout",
     "output_type": "stream",
     "text": [
      "0:\ttest: 0.7031181\tbest: 0.7031181 (0)\ttotal: 14.2ms\tremaining: 33.2s\n",
      "300:\ttest: 0.7420724\tbest: 0.7420724 (300)\ttotal: 4.15s\tremaining: 28.1s\n",
      "600:\ttest: 0.7434342\tbest: 0.7434414 (579)\ttotal: 8.29s\tremaining: 23.9s\n",
      "900:\ttest: 0.7434807\tbest: 0.7436010 (707)\ttotal: 12.4s\tremaining: 19.7s\n"
     ]
    },
    {
     "name": "stderr",
     "output_type": "stream",
     "text": [
      "[I 2025-02-21 05:45:35,101] Trial 3 finished with value: 0.7436010241508484 and parameters: {'iterations': 2334, 'depth': 4, 'learning_rate': 0.04657568321363276, 'l2_leaf_reg': 0.0008640473331457248}. Best is trial 0 with value: 0.7441571950912476.\n"
     ]
    },
    {
     "name": "stdout",
     "output_type": "stream",
     "text": [
      "bestTest = 0.7436010242\n",
      "bestIteration = 707\n",
      "Shrink model to first 708 iterations.\n"
     ]
    },
    {
     "name": "stderr",
     "output_type": "stream",
     "text": [
      "Default metric period is 5 because AUC is/are not implemented for GPU\n"
     ]
    },
    {
     "name": "stdout",
     "output_type": "stream",
     "text": [
      "0:\ttest: 0.7323273\tbest: 0.7323273 (0)\ttotal: 88ms\tremaining: 2m 33s\n",
      "300:\ttest: 0.7415130\tbest: 0.7415130 (300)\ttotal: 24.5s\tremaining: 1m 57s\n",
      "600:\ttest: 0.7417924\tbest: 0.7420030 (500)\ttotal: 48.7s\tremaining: 1m 32s\n",
      "bestTest = 0.742002964\n",
      "bestIteration = 500\n",
      "Shrink model to first 501 iterations.\n"
     ]
    },
    {
     "name": "stderr",
     "output_type": "stream",
     "text": [
      "[I 2025-02-21 05:46:45,080] Trial 4 finished with value: 0.7420029640197754 and parameters: {'iterations': 1742, 'depth': 10, 'learning_rate': 0.012622767482095846, 'l2_leaf_reg': 0.00021158816350109617}. Best is trial 0 with value: 0.7441571950912476.\n",
      "Default metric period is 5 because AUC is/are not implemented for GPU\n"
     ]
    },
    {
     "name": "stdout",
     "output_type": "stream",
     "text": [
      "0:\ttest: 0.7031181\tbest: 0.7031181 (0)\ttotal: 14.5ms\tremaining: 30.2s\n",
      "300:\ttest: 0.7429188\tbest: 0.7429519 (298)\ttotal: 4.18s\tremaining: 24.7s\n",
      "600:\ttest: 0.7434826\tbest: 0.7435089 (580)\ttotal: 8.38s\tremaining: 20.6s\n",
      "900:\ttest: 0.7431917\tbest: 0.7435222 (607)\ttotal: 12.6s\tremaining: 16.5s\n",
      "bestTest = 0.743522197\n",
      "bestIteration = 607\n",
      "Shrink model to first 608 iterations.\n"
     ]
    },
    {
     "name": "stderr",
     "output_type": "stream",
     "text": [
      "[I 2025-02-21 05:47:00,967] Trial 5 finished with value: 0.7435221970081329 and parameters: {'iterations': 2082, 'depth': 4, 'learning_rate': 0.06995196593094148, 'l2_leaf_reg': 0.0018080296485396804}. Best is trial 0 with value: 0.7441571950912476.\n",
      "Default metric period is 5 because AUC is/are not implemented for GPU\n"
     ]
    },
    {
     "name": "stdout",
     "output_type": "stream",
     "text": [
      "0:\ttest: 0.7075834\tbest: 0.7075834 (0)\ttotal: 18.4ms\tremaining: 36.7s\n",
      "300:\ttest: 0.7437679\tbest: 0.7437693 (299)\ttotal: 5.39s\tremaining: 30.4s\n",
      "600:\ttest: 0.7441702\tbest: 0.7442544 (553)\ttotal: 12.2s\tremaining: 28.4s\n"
     ]
    },
    {
     "name": "stderr",
     "output_type": "stream",
     "text": [
      "[I 2025-02-21 05:47:21,077] Trial 6 finished with value: 0.7442543506622314 and parameters: {'iterations': 1997, 'depth': 5, 'learning_rate': 0.07985155992831598, 'l2_leaf_reg': 62.52181000710482}. Best is trial 6 with value: 0.7442543506622314.\n"
     ]
    },
    {
     "name": "stdout",
     "output_type": "stream",
     "text": [
      "bestTest = 0.7442543507\n",
      "bestIteration = 553\n",
      "Shrink model to first 554 iterations.\n",
      "저장 완료\n"
     ]
    },
    {
     "name": "stderr",
     "output_type": "stream",
     "text": [
      "Default metric period is 5 because AUC is/are not implemented for GPU\n"
     ]
    },
    {
     "name": "stdout",
     "output_type": "stream",
     "text": [
      "0:\ttest: 0.7279319\tbest: 0.7279319 (0)\ttotal: 33.2ms\tremaining: 1m 3s\n",
      "300:\ttest: 0.7427889\tbest: 0.7431039 (169)\ttotal: 9.05s\tremaining: 48.9s\n"
     ]
    },
    {
     "name": "stderr",
     "output_type": "stream",
     "text": [
      "[I 2025-02-21 05:47:38,295] Trial 7 finished with value: 0.7431039214134216 and parameters: {'iterations': 1927, 'depth': 7, 'learning_rate': 0.0941937211034094, 'l2_leaf_reg': 0.05654822767791934}. Best is trial 6 with value: 0.7442543506622314.\n"
     ]
    },
    {
     "name": "stdout",
     "output_type": "stream",
     "text": [
      "bestTest = 0.7431039214\n",
      "bestIteration = 169\n",
      "Shrink model to first 170 iterations.\n"
     ]
    },
    {
     "name": "stderr",
     "output_type": "stream",
     "text": [
      "Default metric period is 5 because AUC is/are not implemented for GPU\n"
     ]
    },
    {
     "name": "stdout",
     "output_type": "stream",
     "text": [
      "0:\ttest: 0.7279319\tbest: 0.7279319 (0)\ttotal: 33.1ms\tremaining: 1m 3s\n",
      "300:\ttest: 0.7437717\tbest: 0.7437809 (298)\ttotal: 9.08s\tremaining: 48.3s\n",
      "600:\ttest: 0.7436507\tbest: 0.7437855 (302)\ttotal: 17.8s\tremaining: 38.5s\n",
      "bestTest = 0.7437855005\n",
      "bestIteration = 302\n",
      "Shrink model to first 303 iterations.\n"
     ]
    },
    {
     "name": "stderr",
     "output_type": "stream",
     "text": [
      "[I 2025-02-21 05:47:59,477] Trial 8 finished with value: 0.7437855005264282 and parameters: {'iterations': 1904, 'depth': 7, 'learning_rate': 0.05155602859187331, 'l2_leaf_reg': 1.299974533316308}. Best is trial 6 with value: 0.7442543506622314.\n",
      "Default metric period is 5 because AUC is/are not implemented for GPU\n"
     ]
    },
    {
     "name": "stdout",
     "output_type": "stream",
     "text": [
      "0:\ttest: 0.7214416\tbest: 0.7214416 (0)\ttotal: 22.5ms\tremaining: 59.3s\n",
      "300:\ttest: 0.7431631\tbest: 0.7431631 (300)\ttotal: 6.6s\tremaining: 51.2s\n",
      "600:\ttest: 0.7442375\tbest: 0.7442592 (598)\ttotal: 13.1s\tremaining: 44.5s\n"
     ]
    },
    {
     "name": "stderr",
     "output_type": "stream",
     "text": [
      "[I 2025-02-21 05:48:22,443] Trial 9 finished with value: 0.7442591786384583 and parameters: {'iterations': 2639, 'depth': 6, 'learning_rate': 0.03968704290444751, 'l2_leaf_reg': 0.30557194377967184}. Best is trial 9 with value: 0.7442591786384583.\n"
     ]
    },
    {
     "name": "stdout",
     "output_type": "stream",
     "text": [
      "bestTest = 0.7442591786\n",
      "bestIteration = 598\n",
      "Shrink model to first 599 iterations.\n",
      "저장 완료\n"
     ]
    },
    {
     "name": "stderr",
     "output_type": "stream",
     "text": [
      "Default metric period is 5 because AUC is/are not implemented for GPU\n"
     ]
    },
    {
     "name": "stdout",
     "output_type": "stream",
     "text": [
      "0:\ttest: 0.7279319\tbest: 0.7279319 (0)\ttotal: 33.1ms\tremaining: 1m 37s\n",
      "300:\ttest: 0.7431930\tbest: 0.7432211 (296)\ttotal: 9.18s\tremaining: 1m 20s\n",
      "600:\ttest: 0.7436316\tbest: 0.7436364 (597)\ttotal: 17.6s\tremaining: 1m 8s\n",
      "900:\ttest: 0.7430922\tbest: 0.7437225 (618)\ttotal: 26s\tremaining: 58.9s\n"
     ]
    },
    {
     "name": "stderr",
     "output_type": "stream",
     "text": [
      "[I 2025-02-21 05:48:52,256] Trial 10 finished with value: 0.7437224984169006 and parameters: {'iterations': 2945, 'depth': 7, 'learning_rate': 0.03333404337164428, 'l2_leaf_reg': 0.09727344885454356}. Best is trial 9 with value: 0.7442591786384583.\n"
     ]
    },
    {
     "name": "stdout",
     "output_type": "stream",
     "text": [
      "bestTest = 0.7437224984\n",
      "bestIteration = 618\n",
      "Shrink model to first 619 iterations.\n"
     ]
    },
    {
     "name": "stderr",
     "output_type": "stream",
     "text": [
      "Default metric period is 5 because AUC is/are not implemented for GPU\n"
     ]
    },
    {
     "name": "stdout",
     "output_type": "stream",
     "text": [
      "0:\ttest: 0.7214013\tbest: 0.7214013 (0)\ttotal: 22.5ms\tremaining: 1m 1s\n",
      "300:\ttest: 0.7438890\tbest: 0.7439752 (276)\ttotal: 6.56s\tremaining: 53.2s\n",
      "600:\ttest: 0.7443634\tbest: 0.7443651 (576)\ttotal: 13.1s\tremaining: 46.6s\n",
      "900:\ttest: 0.7443191\tbest: 0.7444935 (854)\ttotal: 19.6s\tremaining: 40.1s\n"
     ]
    },
    {
     "name": "stderr",
     "output_type": "stream",
     "text": [
      "[I 2025-02-21 05:49:20,827] Trial 11 finished with value: 0.7444934546947479 and parameters: {'iterations': 2742, 'depth': 6, 'learning_rate': 0.06823895055506055, 'l2_leaf_reg': 73.12133513928158}. Best is trial 11 with value: 0.7444934546947479.\n"
     ]
    },
    {
     "name": "stdout",
     "output_type": "stream",
     "text": [
      "bestTest = 0.7444934547\n",
      "bestIteration = 854\n",
      "Shrink model to first 855 iterations.\n",
      "저장 완료\n"
     ]
    },
    {
     "name": "stderr",
     "output_type": "stream",
     "text": [
      "Default metric period is 5 because AUC is/are not implemented for GPU\n"
     ]
    },
    {
     "name": "stdout",
     "output_type": "stream",
     "text": [
      "0:\ttest: 0.7214013\tbest: 0.7214013 (0)\ttotal: 30.1ms\tremaining: 1m 24s\n",
      "300:\ttest: 0.7440836\tbest: 0.7440836 (300)\ttotal: 7.39s\tremaining: 1m 1s\n",
      "600:\ttest: 0.7446527\tbest: 0.7446635 (581)\ttotal: 15.3s\tremaining: 56.5s\n",
      "900:\ttest: 0.7445973\tbest: 0.7448512 (700)\ttotal: 21.9s\tremaining: 46.6s\n",
      "bestTest = 0.744851172\n",
      "bestIteration = 700\n",
      "Shrink model to first 701 iterations.\n"
     ]
    },
    {
     "name": "stderr",
     "output_type": "stream",
     "text": [
      "[I 2025-02-21 05:49:48,249] Trial 12 finished with value: 0.7448511719703674 and parameters: {'iterations': 2821, 'depth': 6, 'learning_rate': 0.0653403381374208, 'l2_leaf_reg': 87.13438924619733}. Best is trial 12 with value: 0.7448511719703674.\n"
     ]
    },
    {
     "name": "stdout",
     "output_type": "stream",
     "text": [
      "저장 완료\n"
     ]
    },
    {
     "name": "stderr",
     "output_type": "stream",
     "text": [
      "Default metric period is 5 because AUC is/are not implemented for GPU\n"
     ]
    },
    {
     "name": "stdout",
     "output_type": "stream",
     "text": [
      "0:\ttest: 0.7299493\tbest: 0.7299493 (0)\ttotal: 45.1ms\tremaining: 2m 14s\n",
      "300:\ttest: 0.7442353\tbest: 0.7443071 (293)\ttotal: 11.9s\tremaining: 1m 45s\n",
      "bestTest = 0.7443071008\n",
      "bestIteration = 293\n",
      "Shrink model to first 294 iterations.\n"
     ]
    },
    {
     "name": "stderr",
     "output_type": "stream",
     "text": [
      "[I 2025-02-21 05:50:14,558] Trial 13 finished with value: 0.7443071007728577 and parameters: {'iterations': 2975, 'depth': 8, 'learning_rate': 0.0636379415504278, 'l2_leaf_reg': 55.074044317639206}. Best is trial 12 with value: 0.7448511719703674.\n",
      "Default metric period is 5 because AUC is/are not implemented for GPU\n"
     ]
    },
    {
     "name": "stdout",
     "output_type": "stream",
     "text": [
      "0:\ttest: 0.7214002\tbest: 0.7214002 (0)\ttotal: 26.6ms\tremaining: 1m 13s\n",
      "300:\ttest: 0.7441989\tbest: 0.7441989 (300)\ttotal: 7.29s\tremaining: 59.4s\n",
      "600:\ttest: 0.7446183\tbest: 0.7446717 (577)\ttotal: 14.5s\tremaining: 52.1s\n",
      "900:\ttest: 0.7446012\tbest: 0.7449216 (761)\ttotal: 21.7s\tremaining: 44.7s\n"
     ]
    },
    {
     "name": "stderr",
     "output_type": "stream",
     "text": [
      "[I 2025-02-21 05:50:43,211] Trial 14 finished with value: 0.7449215948581696 and parameters: {'iterations': 2754, 'depth': 6, 'learning_rate': 0.06415274569773431, 'l2_leaf_reg': 92.74223128282532}. Best is trial 14 with value: 0.7449215948581696.\n"
     ]
    },
    {
     "name": "stdout",
     "output_type": "stream",
     "text": [
      "bestTest = 0.7449215949\n",
      "bestIteration = 761\n",
      "Shrink model to first 762 iterations.\n",
      "저장 완료\n"
     ]
    },
    {
     "name": "stderr",
     "output_type": "stream",
     "text": [
      "Default metric period is 5 because AUC is/are not implemented for GPU\n"
     ]
    },
    {
     "name": "stdout",
     "output_type": "stream",
     "text": [
      "0:\ttest: 0.7214379\tbest: 0.7214379 (0)\ttotal: 22.6ms\tremaining: 34.2s\n",
      "300:\ttest: 0.7439330\tbest: 0.7439330 (300)\ttotal: 6.55s\tremaining: 26.4s\n",
      "600:\ttest: 0.7441277\tbest: 0.7441673 (506)\ttotal: 13.1s\tremaining: 19.8s\n",
      "900:\ttest: 0.7438644\tbest: 0.7443292 (650)\ttotal: 19.6s\tremaining: 13.3s\n"
     ]
    },
    {
     "name": "stderr",
     "output_type": "stream",
     "text": [
      "[I 2025-02-21 05:51:07,222] Trial 15 finished with value: 0.7443291544914246 and parameters: {'iterations': 1513, 'depth': 6, 'learning_rate': 0.054938157887029125, 'l2_leaf_reg': 7.311863445562793}. Best is trial 14 with value: 0.7449215948581696.\n"
     ]
    },
    {
     "name": "stdout",
     "output_type": "stream",
     "text": [
      "bestTest = 0.7443291545\n",
      "bestIteration = 650\n",
      "Shrink model to first 651 iterations.\n"
     ]
    },
    {
     "name": "stderr",
     "output_type": "stream",
     "text": [
      "Default metric period is 5 because AUC is/are not implemented for GPU\n"
     ]
    },
    {
     "name": "stdout",
     "output_type": "stream",
     "text": [
      "0:\ttest: 0.7299794\tbest: 0.7299794 (0)\ttotal: 48.6ms\tremaining: 2m 17s\n",
      "300:\ttest: 0.7436336\tbest: 0.7439547 (212)\ttotal: 11.9s\tremaining: 1m 39s\n"
     ]
    },
    {
     "name": "stderr",
     "output_type": "stream",
     "text": [
      "[I 2025-02-21 05:51:30,416] Trial 16 finished with value: 0.7439546585083008 and parameters: {'iterations': 2821, 'depth': 8, 'learning_rate': 0.07966433200427497, 'l2_leaf_reg': 11.71753836783521}. Best is trial 14 with value: 0.7449215948581696.\n"
     ]
    },
    {
     "name": "stdout",
     "output_type": "stream",
     "text": [
      "bestTest = 0.7439546585\n",
      "bestIteration = 212\n",
      "Shrink model to first 213 iterations.\n"
     ]
    },
    {
     "name": "stderr",
     "output_type": "stream",
     "text": [
      "Default metric period is 5 because AUC is/are not implemented for GPU\n"
     ]
    },
    {
     "name": "stdout",
     "output_type": "stream",
     "text": [
      "0:\ttest: 0.7076125\tbest: 0.7076125 (0)\ttotal: 24.3ms\tremaining: 1m 1s\n",
      "300:\ttest: 0.7433698\tbest: 0.7433698 (300)\ttotal: 5.95s\tremaining: 43.9s\n",
      "600:\ttest: 0.7438310\tbest: 0.7438393 (599)\ttotal: 11.5s\tremaining: 36.9s\n",
      "900:\ttest: 0.7435260\tbest: 0.7438526 (602)\ttotal: 18s\tremaining: 32.4s\n",
      "bestTest = 0.7438525558\n",
      "bestIteration = 602\n",
      "Shrink model to first 603 iterations.\n"
     ]
    },
    {
     "name": "stderr",
     "output_type": "stream",
     "text": [
      "[I 2025-02-21 05:51:51,820] Trial 17 finished with value: 0.7438525557518005 and parameters: {'iterations': 2522, 'depth': 5, 'learning_rate': 0.0601849822762379, 'l2_leaf_reg': 4.0182468397469275}. Best is trial 14 with value: 0.7449215948581696.\n",
      "Default metric period is 5 because AUC is/are not implemented for GPU\n"
     ]
    },
    {
     "name": "stdout",
     "output_type": "stream",
     "text": [
      "0:\ttest: 0.7299533\tbest: 0.7299533 (0)\ttotal: 47.2ms\tremaining: 2m 11s\n",
      "300:\ttest: 0.7441226\tbest: 0.7442524 (186)\ttotal: 12.4s\tremaining: 1m 42s\n"
     ]
    },
    {
     "name": "stderr",
     "output_type": "stream",
     "text": [
      "[I 2025-02-21 05:52:15,127] Trial 18 finished with value: 0.7442523837089539 and parameters: {'iterations': 2777, 'depth': 8, 'learning_rate': 0.07649827856610247, 'l2_leaf_reg': 74.1832538232651}. Best is trial 14 with value: 0.7449215948581696.\n"
     ]
    },
    {
     "name": "stdout",
     "output_type": "stream",
     "text": [
      "bestTest = 0.7442523837\n",
      "bestIteration = 186\n",
      "Shrink model to first 187 iterations.\n"
     ]
    },
    {
     "name": "stderr",
     "output_type": "stream",
     "text": [
      "Default metric period is 5 because AUC is/are not implemented for GPU\n"
     ]
    },
    {
     "name": "stdout",
     "output_type": "stream",
     "text": [
      "0:\ttest: 0.7076030\tbest: 0.7076030 (0)\ttotal: 17.6ms\tremaining: 43.7s\n",
      "300:\ttest: 0.7432114\tbest: 0.7432114 (300)\ttotal: 6.15s\tremaining: 44.6s\n",
      "600:\ttest: 0.7437635\tbest: 0.7438292 (556)\ttotal: 11.8s\tremaining: 36.9s\n"
     ]
    },
    {
     "name": "stderr",
     "output_type": "stream",
     "text": [
      "[I 2025-02-21 05:52:35,439] Trial 19 finished with value: 0.743829220533371 and parameters: {'iterations': 2483, 'depth': 5, 'learning_rate': 0.056227501312699664, 'l2_leaf_reg': 1.2429338415169777}. Best is trial 14 with value: 0.7449215948581696.\n"
     ]
    },
    {
     "name": "stdout",
     "output_type": "stream",
     "text": [
      "bestTest = 0.7438292205\n",
      "bestIteration = 556\n",
      "Shrink model to first 557 iterations.\n"
     ]
    },
    {
     "name": "stderr",
     "output_type": "stream",
     "text": [
      "Default metric period is 5 because AUC is/are not implemented for GPU\n"
     ]
    },
    {
     "name": "stdout",
     "output_type": "stream",
     "text": [
      "0:\ttest: 0.7214229\tbest: 0.7214229 (0)\ttotal: 31.3ms\tremaining: 1m 23s\n",
      "300:\ttest: 0.7441072\tbest: 0.7441612 (287)\ttotal: 8.03s\tremaining: 1m 3s\n",
      "600:\ttest: 0.7441440\tbest: 0.7442116 (330)\ttotal: 14.7s\tremaining: 50.8s\n",
      "900:\ttest: 0.7438920\tbest: 0.7443081 (677)\ttotal: 21.3s\tremaining: 42.1s\n",
      "bestTest = 0.7443081141\n",
      "bestIteration = 677\n",
      "Shrink model to first 678 iterations.\n"
     ]
    },
    {
     "name": "stderr",
     "output_type": "stream",
     "text": [
      "[I 2025-02-21 05:53:01,888] Trial 20 finished with value: 0.7443081140518188 and parameters: {'iterations': 2680, 'depth': 6, 'learning_rate': 0.08665836865442113, 'l2_leaf_reg': 25.121986351201187}. Best is trial 14 with value: 0.7449215948581696.\n",
      "Default metric period is 5 because AUC is/are not implemented for GPU\n"
     ]
    },
    {
     "name": "stdout",
     "output_type": "stream",
     "text": [
      "0:\ttest: 0.7214013\tbest: 0.7214013 (0)\ttotal: 26ms\tremaining: 1m 13s\n",
      "300:\ttest: 0.7442148\tbest: 0.7442273 (293)\ttotal: 7.51s\tremaining: 1m 3s\n",
      "600:\ttest: 0.7443244\tbest: 0.7443837 (433)\ttotal: 14.2s\tremaining: 52.9s\n",
      "900:\ttest: 0.7442438\tbest: 0.7445470 (757)\ttotal: 21.5s\tremaining: 46.4s\n",
      "bestTest = 0.7445470095\n",
      "bestIteration = 757\n",
      "Shrink model to first 758 iterations.\n"
     ]
    },
    {
     "name": "stderr",
     "output_type": "stream",
     "text": [
      "[I 2025-02-21 05:53:30,319] Trial 21 finished with value: 0.7445470094680786 and parameters: {'iterations': 2849, 'depth': 6, 'learning_rate': 0.0698368095248591, 'l2_leaf_reg': 89.64660875312265}. Best is trial 14 with value: 0.7449215948581696.\n",
      "Default metric period is 5 because AUC is/are not implemented for GPU\n"
     ]
    },
    {
     "name": "stdout",
     "output_type": "stream",
     "text": [
      "0:\ttest: 0.7279308\tbest: 0.7279308 (0)\ttotal: 36.5ms\tremaining: 1m 44s\n",
      "300:\ttest: 0.7443550\tbest: 0.7443911 (269)\ttotal: 9.46s\tremaining: 1m 20s\n",
      "600:\ttest: 0.7444403\tbest: 0.7446188 (525)\ttotal: 18.2s\tremaining: 1m 8s\n"
     ]
    },
    {
     "name": "stderr",
     "output_type": "stream",
     "text": [
      "[I 2025-02-21 05:53:58,228] Trial 22 finished with value: 0.7446188032627106 and parameters: {'iterations': 2866, 'depth': 7, 'learning_rate': 0.07094766133054327, 'l2_leaf_reg': 24.680291204055855}. Best is trial 14 with value: 0.7449215948581696.\n"
     ]
    },
    {
     "name": "stdout",
     "output_type": "stream",
     "text": [
      "bestTest = 0.7446188033\n",
      "bestIteration = 525\n",
      "Shrink model to first 526 iterations.\n"
     ]
    },
    {
     "name": "stderr",
     "output_type": "stream",
     "text": [
      "Default metric period is 5 because AUC is/are not implemented for GPU\n"
     ]
    },
    {
     "name": "stdout",
     "output_type": "stream",
     "text": [
      "0:\ttest: 0.7312217\tbest: 0.7312217 (0)\ttotal: 51.5ms\tremaining: 2m 34s\n",
      "300:\ttest: 0.7418654\tbest: 0.7431424 (226)\ttotal: 16s\tremaining: 2m 23s\n",
      "bestTest = 0.7431423664\n",
      "bestIteration = 226\n",
      "Shrink model to first 227 iterations.\n"
     ]
    },
    {
     "name": "stderr",
     "output_type": "stream",
     "text": [
      "[I 2025-02-21 05:54:30,733] Trial 23 finished with value: 0.7431423664093018 and parameters: {'iterations': 2993, 'depth': 9, 'learning_rate': 0.09972609694667948, 'l2_leaf_reg': 20.30355379300672}. Best is trial 14 with value: 0.7449215948581696.\n",
      "Default metric period is 5 because AUC is/are not implemented for GPU\n"
     ]
    },
    {
     "name": "stdout",
     "output_type": "stream",
     "text": [
      "0:\ttest: 0.7279266\tbest: 0.7279266 (0)\ttotal: 36.9ms\tremaining: 1m 36s\n",
      "300:\ttest: 0.7439440\tbest: 0.7439440 (300)\ttotal: 9.62s\tremaining: 1m 14s\n",
      "600:\ttest: 0.7436952\tbest: 0.7439440 (300)\ttotal: 18.7s\tremaining: 1m 2s\n",
      "bestTest = 0.7439439893\n",
      "bestIteration = 300\n",
      "Shrink model to first 301 iterations.\n"
     ]
    },
    {
     "name": "stderr",
     "output_type": "stream",
     "text": [
      "[I 2025-02-21 05:54:53,029] Trial 24 finished with value: 0.743943989276886 and parameters: {'iterations': 2628, 'depth': 7, 'learning_rate': 0.06589745012045643, 'l2_leaf_reg': 21.01727816315706}. Best is trial 14 with value: 0.7449215948581696.\n",
      "Default metric period is 5 because AUC is/are not implemented for GPU\n"
     ]
    },
    {
     "name": "stdout",
     "output_type": "stream",
     "text": [
      "0:\ttest: 0.7076125\tbest: 0.7076125 (0)\ttotal: 24.8ms\tremaining: 1m 11s\n",
      "300:\ttest: 0.7432628\tbest: 0.7432721 (294)\ttotal: 7.03s\tremaining: 60s\n",
      "600:\ttest: 0.7436160\tbest: 0.7436454 (558)\ttotal: 14.1s\tremaining: 53.3s\n",
      "900:\ttest: 0.7434503\tbest: 0.7437218 (721)\ttotal: 21.2s\tremaining: 46.3s\n"
     ]
    },
    {
     "name": "stderr",
     "output_type": "stream",
     "text": [
      "[I 2025-02-21 05:55:20,455] Trial 25 finished with value: 0.7437217831611633 and parameters: {'iterations': 2868, 'depth': 5, 'learning_rate': 0.07734128233553994, 'l2_leaf_reg': 3.962946223966848}. Best is trial 14 with value: 0.7449215948581696.\n"
     ]
    },
    {
     "name": "stdout",
     "output_type": "stream",
     "text": [
      "bestTest = 0.7437217832\n",
      "bestIteration = 721\n",
      "Shrink model to first 722 iterations.\n"
     ]
    },
    {
     "name": "stderr",
     "output_type": "stream",
     "text": [
      "Default metric period is 5 because AUC is/are not implemented for GPU\n"
     ]
    },
    {
     "name": "stdout",
     "output_type": "stream",
     "text": [
      "0:\ttest: 0.7279232\tbest: 0.7279232 (0)\ttotal: 38.1ms\tremaining: 1m 31s\n",
      "300:\ttest: 0.7440852\tbest: 0.7440852 (300)\ttotal: 11.6s\tremaining: 1m 21s\n",
      "600:\ttest: 0.7443932\tbest: 0.7444855 (554)\ttotal: 22.6s\tremaining: 1m 8s\n",
      "bestTest = 0.7444854975\n",
      "bestIteration = 554\n",
      "Shrink model to first 555 iterations.\n"
     ]
    },
    {
     "name": "stderr",
     "output_type": "stream",
     "text": [
      "[I 2025-02-21 05:55:55,923] Trial 26 finished with value: 0.7444854974746704 and parameters: {'iterations': 2414, 'depth': 7, 'learning_rate': 0.060456231550004506, 'l2_leaf_reg': 33.50813969028899}. Best is trial 14 with value: 0.7449215948581696.\n",
      "Default metric period is 5 because AUC is/are not implemented for GPU\n"
     ]
    },
    {
     "name": "stdout",
     "output_type": "stream",
     "text": [
      "0:\ttest: 0.7299677\tbest: 0.7299677 (0)\ttotal: 47.2ms\tremaining: 2m 7s\n",
      "300:\ttest: 0.7443847\tbest: 0.7444567 (207)\ttotal: 11.9s\tremaining: 1m 34s\n",
      "bestTest = 0.7444567382\n",
      "bestIteration = 207\n",
      "Shrink model to first 208 iterations.\n"
     ]
    },
    {
     "name": "stderr",
     "output_type": "stream",
     "text": [
      "[I 2025-02-21 05:56:18,936] Trial 27 finished with value: 0.7444567382335663 and parameters: {'iterations': 2703, 'depth': 8, 'learning_rate': 0.07033389826766662, 'l2_leaf_reg': 25.433435389937877}. Best is trial 14 with value: 0.7449215948581696.\n",
      "Default metric period is 5 because AUC is/are not implemented for GPU\n"
     ]
    },
    {
     "name": "stdout",
     "output_type": "stream",
     "text": [
      "0:\ttest: 0.7312383\tbest: 0.7312383 (0)\ttotal: 64.8ms\tremaining: 3m 7s\n",
      "300:\ttest: 0.7416291\tbest: 0.7432437 (157)\ttotal: 19.3s\tremaining: 2m 46s\n",
      "bestTest = 0.7432437241\n",
      "bestIteration = 157\n",
      "Shrink model to first 158 iterations.\n"
     ]
    },
    {
     "name": "stderr",
     "output_type": "stream",
     "text": [
      "[I 2025-02-21 05:56:51,915] Trial 28 finished with value: 0.7432437241077423 and parameters: {'iterations': 2891, 'depth': 9, 'learning_rate': 0.08621081976046274, 'l2_leaf_reg': 5.4594138944887725}. Best is trial 14 with value: 0.7449215948581696.\n",
      "Default metric period is 5 because AUC is/are not implemented for GPU\n"
     ]
    },
    {
     "name": "stdout",
     "output_type": "stream",
     "text": [
      "0:\ttest: 0.7214013\tbest: 0.7214013 (0)\ttotal: 28.7ms\tremaining: 1m 14s\n",
      "300:\ttest: 0.7437302\tbest: 0.7437362 (299)\ttotal: 7.7s\tremaining: 58.7s\n",
      "600:\ttest: 0.7441318\tbest: 0.7441857 (542)\ttotal: 16.5s\tremaining: 54.8s\n",
      "900:\ttest: 0.7440467\tbest: 0.7442225 (787)\ttotal: 23.2s\tremaining: 43.6s\n",
      "bestTest = 0.7442224622\n",
      "bestIteration = 787\n",
      "Shrink model to first 788 iterations.\n"
     ]
    },
    {
     "name": "stderr",
     "output_type": "stream",
     "text": [
      "[I 2025-02-21 05:57:22,631] Trial 29 finished with value: 0.7442224621772766 and parameters: {'iterations': 2595, 'depth': 6, 'learning_rate': 0.05043810874267053, 'l2_leaf_reg': 87.58321562621877}. Best is trial 14 with value: 0.7449215948581696.\n",
      "Default metric period is 5 because AUC is/are not implemented for GPU\n"
     ]
    },
    {
     "name": "stdout",
     "output_type": "stream",
     "text": [
      "0:\ttest: 0.7312265\tbest: 0.7312265 (0)\ttotal: 59.9ms\tremaining: 2m 18s\n",
      "300:\ttest: 0.7438169\tbest: 0.7440206 (187)\ttotal: 16.7s\tremaining: 1m 51s\n"
     ]
    },
    {
     "name": "stderr",
     "output_type": "stream",
     "text": [
      "[I 2025-02-21 05:57:52,612] Trial 30 finished with value: 0.7440206110477448 and parameters: {'iterations': 2309, 'depth': 9, 'learning_rate': 0.060253172755317275, 'l2_leaf_reg': 13.79015761789756}. Best is trial 14 with value: 0.7449215948581696.\n"
     ]
    },
    {
     "name": "stdout",
     "output_type": "stream",
     "text": [
      "bestTest = 0.744020611\n",
      "bestIteration = 187\n",
      "Shrink model to first 188 iterations.\n"
     ]
    },
    {
     "name": "stderr",
     "output_type": "stream",
     "text": [
      "Default metric period is 5 because AUC is/are not implemented for GPU\n"
     ]
    },
    {
     "name": "stdout",
     "output_type": "stream",
     "text": [
      "0:\ttest: 0.7214002\tbest: 0.7214002 (0)\ttotal: 22.1ms\tremaining: 1m 2s\n",
      "300:\ttest: 0.7445107\tbest: 0.7445232 (298)\ttotal: 6.7s\tremaining: 55.7s\n",
      "600:\ttest: 0.7448622\tbest: 0.7448936 (579)\ttotal: 13.3s\tremaining: 48.8s\n",
      "900:\ttest: 0.7448516\tbest: 0.7451250 (745)\ttotal: 19.9s\tremaining: 42.1s\n",
      "bestTest = 0.7451249957\n",
      "bestIteration = 745\n",
      "Shrink model to first 746 iterations.\n"
     ]
    },
    {
     "name": "stderr",
     "output_type": "stream",
     "text": [
      "[I 2025-02-21 05:58:19,178] Trial 31 finished with value: 0.7451249957084656 and parameters: {'iterations': 2805, 'depth': 6, 'learning_rate': 0.07250858352987079, 'l2_leaf_reg': 93.17052692819767}. Best is trial 31 with value: 0.7451249957084656.\n"
     ]
    },
    {
     "name": "stdout",
     "output_type": "stream",
     "text": [
      "저장 완료\n"
     ]
    },
    {
     "name": "stderr",
     "output_type": "stream",
     "text": [
      "Default metric period is 5 because AUC is/are not implemented for GPU\n"
     ]
    },
    {
     "name": "stdout",
     "output_type": "stream",
     "text": [
      "0:\ttest: 0.7076119\tbest: 0.7076119 (0)\ttotal: 24.6ms\tremaining: 1m 8s\n",
      "300:\ttest: 0.7436823\tbest: 0.7436823 (300)\ttotal: 6.21s\tremaining: 50.8s\n",
      "600:\ttest: 0.7441712\tbest: 0.7441996 (556)\ttotal: 12.4s\tremaining: 44.7s\n",
      "900:\ttest: 0.7440156\tbest: 0.7442788 (703)\ttotal: 17.8s\tremaining: 36.7s\n"
     ]
    },
    {
     "name": "stderr",
     "output_type": "stream",
     "text": [
      "[I 2025-02-21 05:58:42,077] Trial 32 finished with value: 0.7442788481712341 and parameters: {'iterations': 2765, 'depth': 5, 'learning_rate': 0.07154343384126044, 'l2_leaf_reg': 34.46396163086912}. Best is trial 31 with value: 0.7451249957084656.\n"
     ]
    },
    {
     "name": "stdout",
     "output_type": "stream",
     "text": [
      "bestTest = 0.7442788482\n",
      "bestIteration = 703\n",
      "Shrink model to first 704 iterations.\n"
     ]
    },
    {
     "name": "stderr",
     "output_type": "stream",
     "text": [
      "Default metric period is 5 because AUC is/are not implemented for GPU\n"
     ]
    },
    {
     "name": "stdout",
     "output_type": "stream",
     "text": [
      "0:\ttest: 0.7279232\tbest: 0.7279232 (0)\ttotal: 28.5ms\tremaining: 1m 3s\n",
      "300:\ttest: 0.7443988\tbest: 0.7444535 (283)\ttotal: 8.61s\tremaining: 54.8s\n",
      "600:\ttest: 0.7444151\tbest: 0.7446527 (381)\ttotal: 17.2s\tremaining: 46.2s\n"
     ]
    },
    {
     "name": "stderr",
     "output_type": "stream",
     "text": [
      "[I 2025-02-21 05:59:04,958] Trial 33 finished with value: 0.744652658700943 and parameters: {'iterations': 2217, 'depth': 7, 'learning_rate': 0.07463668682370103, 'l2_leaf_reg': 37.384785187331126}. Best is trial 31 with value: 0.7451249957084656.\n"
     ]
    },
    {
     "name": "stdout",
     "output_type": "stream",
     "text": [
      "bestTest = 0.7446526587\n",
      "bestIteration = 381\n",
      "Shrink model to first 382 iterations.\n"
     ]
    },
    {
     "name": "stderr",
     "output_type": "stream",
     "text": [
      "Default metric period is 5 because AUC is/are not implemented for GPU\n"
     ]
    },
    {
     "name": "stdout",
     "output_type": "stream",
     "text": [
      "0:\ttest: 0.7214366\tbest: 0.7214366 (0)\ttotal: 29.1ms\tremaining: 1m 10s\n",
      "300:\ttest: 0.7440815\tbest: 0.7440815 (300)\ttotal: 7.38s\tremaining: 52.1s\n",
      "600:\ttest: 0.7442308\tbest: 0.7443070 (449)\ttotal: 14.1s\tremaining: 42.7s\n",
      "900:\ttest: 0.7436399\tbest: 0.7443722 (649)\ttotal: 20.8s\tremaining: 35.1s\n"
     ]
    },
    {
     "name": "stderr",
     "output_type": "stream",
     "text": [
      "[I 2025-02-21 05:59:30,227] Trial 34 finished with value: 0.7443721890449524 and parameters: {'iterations': 2423, 'depth': 6, 'learning_rate': 0.0641969180579056, 'l2_leaf_reg': 10.38396012766206}. Best is trial 31 with value: 0.7451249957084656.\n"
     ]
    },
    {
     "name": "stdout",
     "output_type": "stream",
     "text": [
      "bestTest = 0.744372189\n",
      "bestIteration = 649\n",
      "Shrink model to first 650 iterations.\n"
     ]
    },
    {
     "name": "stderr",
     "output_type": "stream",
     "text": [
      "Default metric period is 5 because AUC is/are not implemented for GPU\n"
     ]
    },
    {
     "name": "stdout",
     "output_type": "stream",
     "text": [
      "0:\ttest: 0.7214013\tbest: 0.7214013 (0)\ttotal: 33ms\tremaining: 1m 10s\n",
      "300:\ttest: 0.7444229\tbest: 0.7444277 (293)\ttotal: 8.94s\tremaining: 54.8s\n",
      "600:\ttest: 0.7445737\tbest: 0.7446546 (551)\ttotal: 15.6s\tremaining: 40.1s\n"
     ]
    },
    {
     "name": "stderr",
     "output_type": "stream",
     "text": [
      "[I 2025-02-21 05:59:54,784] Trial 35 finished with value: 0.7446545958518982 and parameters: {'iterations': 2146, 'depth': 6, 'learning_rate': 0.08456442612798665, 'l2_leaf_reg': 88.53245771763366}. Best is trial 31 with value: 0.7451249957084656.\n"
     ]
    },
    {
     "name": "stdout",
     "output_type": "stream",
     "text": [
      "bestTest = 0.7446545959\n",
      "bestIteration = 551\n",
      "Shrink model to first 552 iterations.\n"
     ]
    },
    {
     "name": "stderr",
     "output_type": "stream",
     "text": [
      "Default metric period is 5 because AUC is/are not implemented for GPU\n"
     ]
    },
    {
     "name": "stdout",
     "output_type": "stream",
     "text": [
      "0:\ttest: 0.7075834\tbest: 0.7075834 (0)\ttotal: 22.9ms\tremaining: 49.9s\n",
      "300:\ttest: 0.7439957\tbest: 0.7439960 (299)\ttotal: 6.96s\tremaining: 43.5s\n",
      "600:\ttest: 0.7444031\tbest: 0.7444800 (557)\ttotal: 14s\tremaining: 36.9s\n",
      "900:\ttest: 0.7443113\tbest: 0.7445570 (702)\ttotal: 20.3s\tremaining: 28.9s\n",
      "bestTest = 0.744557023\n",
      "bestIteration = 702\n",
      "Shrink model to first 703 iterations.\n"
     ]
    },
    {
     "name": "stderr",
     "output_type": "stream",
     "text": [
      "[I 2025-02-21 06:00:21,699] Trial 36 finished with value: 0.7445570230484009 and parameters: {'iterations': 2181, 'depth': 5, 'learning_rate': 0.08126942733291087, 'l2_leaf_reg': 88.37632510890897}. Best is trial 31 with value: 0.7451249957084656.\n",
      "Default metric period is 5 because AUC is/are not implemented for GPU\n"
     ]
    },
    {
     "name": "stdout",
     "output_type": "stream",
     "text": [
      "0:\ttest: 0.7031181\tbest: 0.7031181 (0)\ttotal: 19.1ms\tremaining: 33.7s\n",
      "300:\ttest: 0.7432458\tbest: 0.7432670 (299)\ttotal: 5.6s\tremaining: 27.3s\n",
      "600:\ttest: 0.7438543\tbest: 0.7438663 (573)\ttotal: 10.1s\tremaining: 19.7s\n",
      "900:\ttest: 0.7436160\tbest: 0.7439340 (667)\ttotal: 14.3s\tremaining: 13.8s\n"
     ]
    },
    {
     "name": "stderr",
     "output_type": "stream",
     "text": [
      "[I 2025-02-21 06:00:40,201] Trial 37 finished with value: 0.7439340353012085 and parameters: {'iterations': 1771, 'depth': 4, 'learning_rate': 0.08312201013727229, 'l2_leaf_reg': 11.550625310404753}. Best is trial 31 with value: 0.7451249957084656.\n"
     ]
    },
    {
     "name": "stdout",
     "output_type": "stream",
     "text": [
      "bestTest = 0.7439340353\n",
      "bestIteration = 667\n",
      "Shrink model to first 668 iterations.\n"
     ]
    },
    {
     "name": "stderr",
     "output_type": "stream",
     "text": [
      "Default metric period is 5 because AUC is/are not implemented for GPU\n"
     ]
    },
    {
     "name": "stdout",
     "output_type": "stream",
     "text": [
      "0:\ttest: 0.7214178\tbest: 0.7214178 (0)\ttotal: 31.8ms\tremaining: 1m 7s\n",
      "300:\ttest: 0.7441999\tbest: 0.7442424 (277)\ttotal: 9.13s\tremaining: 55.1s\n",
      "600:\ttest: 0.7442046\tbest: 0.7443359 (513)\ttotal: 18.1s\tremaining: 45.8s\n"
     ]
    },
    {
     "name": "stderr",
     "output_type": "stream",
     "text": [
      "[I 2025-02-21 06:01:07,835] Trial 38 finished with value: 0.744335949420929 and parameters: {'iterations': 2118, 'depth': 6, 'learning_rate': 0.08639354220296541, 'l2_leaf_reg': 45.60170563763556}. Best is trial 31 with value: 0.7451249957084656.\n"
     ]
    },
    {
     "name": "stdout",
     "output_type": "stream",
     "text": [
      "bestTest = 0.7443359494\n",
      "bestIteration = 513\n",
      "Shrink model to first 514 iterations.\n"
     ]
    },
    {
     "name": "stderr",
     "output_type": "stream",
     "text": [
      "Default metric period is 5 because AUC is/are not implemented for GPU\n"
     ]
    },
    {
     "name": "stdout",
     "output_type": "stream",
     "text": [
      "0:\ttest: 0.7076119\tbest: 0.7076119 (0)\ttotal: 24.6ms\tremaining: 56.3s\n",
      "300:\ttest: 0.7436435\tbest: 0.7436435 (300)\ttotal: 7.49s\tremaining: 49.6s\n",
      "600:\ttest: 0.7442024\tbest: 0.7442142 (596)\ttotal: 15.5s\tremaining: 43.7s\n",
      "900:\ttest: 0.7440790\tbest: 0.7443194 (712)\ttotal: 22.7s\tremaining: 35.1s\n"
     ]
    },
    {
     "name": "stderr",
     "output_type": "stream",
     "text": [
      "[I 2025-02-21 06:01:36,529] Trial 39 finished with value: 0.7443194389343262 and parameters: {'iterations': 2293, 'depth': 5, 'learning_rate': 0.07368726918707895, 'l2_leaf_reg': 43.849569328505716}. Best is trial 31 with value: 0.7451249957084656.\n",
      "[I 2025-02-21 06:01:36,535] A new study created in memory with name: no-name-66beaaaa-7723-44b2-a2ef-56a7ab9f25e0\n"
     ]
    },
    {
     "name": "stdout",
     "output_type": "stream",
     "text": [
      "bestTest = 0.7443194389\n",
      "bestIteration = 712\n",
      "Shrink model to first 713 iterations.\n"
     ]
    },
    {
     "name": "stderr",
     "output_type": "stream",
     "text": [
      "[I 2025-02-21 06:01:52,382] Trial 0 finished with value: 0.7349897006329815 and parameters: {'num_iterations': 2366, 'objective': 'binary', 'metric': 'auc', 'verbose': -1, 'learning_rate': 0.0652646236447618, 'n_estimators': 236, 'min_child_samples': 45, 'subsample': 0.7, 'colsample_bytree': 0.5}. Best is trial 0 with value: 0.7349897006329815.\n",
      "[I 2025-02-21 06:02:04,658] Trial 1 finished with value: 0.7436480314140939 and parameters: {'num_iterations': 1510, 'objective': 'binary', 'metric': 'auc', 'verbose': -1, 'learning_rate': 0.005231880959249543, 'n_estimators': 1411, 'min_child_samples': 10, 'subsample': 1.0, 'colsample_bytree': 0.5}. Best is trial 1 with value: 0.7436480314140939.\n",
      "[I 2025-02-21 06:02:15,907] Trial 2 finished with value: 0.743309128187482 and parameters: {'num_iterations': 2334, 'objective': 'binary', 'metric': 'auc', 'verbose': -1, 'learning_rate': 0.006578527777128852, 'n_estimators': 931, 'min_child_samples': 15, 'subsample': 0.5, 'colsample_bytree': 1.0}. Best is trial 1 with value: 0.7436480314140939.\n",
      "[I 2025-02-21 06:02:27,001] Trial 3 finished with value: 0.743988654034441 and parameters: {'num_iterations': 1620, 'objective': 'binary', 'metric': 'auc', 'verbose': -1, 'learning_rate': 0.0058823249237283685, 'n_estimators': 837, 'min_child_samples': 10, 'subsample': 0.9, 'colsample_bytree': 0.6}. Best is trial 3 with value: 0.743988654034441.\n",
      "[I 2025-02-21 06:02:36,471] Trial 4 finished with value: 0.7433846782687914 and parameters: {'num_iterations': 1997, 'objective': 'binary', 'metric': 'auc', 'verbose': -1, 'learning_rate': 0.010907507425244923, 'n_estimators': 1597, 'min_child_samples': 50, 'subsample': 0.6, 'colsample_bytree': 0.8}. Best is trial 3 with value: 0.743988654034441.\n",
      "[I 2025-02-21 06:02:49,254] Trial 5 finished with value: 0.7397277104546668 and parameters: {'num_iterations': 2909, 'objective': 'binary', 'metric': 'auc', 'verbose': -1, 'learning_rate': 0.019760591962733942, 'n_estimators': 612, 'min_child_samples': 30, 'subsample': 0.7, 'colsample_bytree': 0.9}. Best is trial 3 with value: 0.743988654034441.\n",
      "[I 2025-02-21 06:03:01,882] Trial 6 finished with value: 0.7410496184788399 and parameters: {'num_iterations': 2639, 'objective': 'binary', 'metric': 'auc', 'verbose': -1, 'learning_rate': 0.017862094446750985, 'n_estimators': 794, 'min_child_samples': 35, 'subsample': 1.0, 'colsample_bytree': 0.8}. Best is trial 3 with value: 0.743988654034441.\n",
      "[I 2025-02-21 06:03:14,456] Trial 7 finished with value: 0.7433672262238343 and parameters: {'num_iterations': 1580, 'objective': 'binary', 'metric': 'auc', 'verbose': -1, 'learning_rate': 0.01776722177611332, 'n_estimators': 529, 'min_child_samples': 25, 'subsample': 0.8, 'colsample_bytree': 0.5}. Best is trial 3 with value: 0.743988654034441.\n",
      "[I 2025-02-21 06:03:26,168] Trial 8 finished with value: 0.7412014850225002 and parameters: {'num_iterations': 1911, 'objective': 'binary', 'metric': 'auc', 'verbose': -1, 'learning_rate': 0.0304747553332844, 'n_estimators': 1328, 'min_child_samples': 10, 'subsample': 0.7, 'colsample_bytree': 0.6}. Best is trial 3 with value: 0.743988654034441.\n",
      "[I 2025-02-21 06:03:46,431] Trial 9 finished with value: 0.7405867362425231 and parameters: {'num_iterations': 2739, 'objective': 'binary', 'metric': 'auc', 'verbose': -1, 'learning_rate': 0.02691531614176271, 'n_estimators': 1438, 'min_child_samples': 20, 'subsample': 0.6, 'colsample_bytree': 0.5}. Best is trial 3 with value: 0.743988654034441.\n",
      "[I 2025-02-21 06:03:56,228] Trial 10 finished with value: 0.7440079882794687 and parameters: {'num_iterations': 1883, 'objective': 'binary', 'metric': 'auc', 'verbose': -1, 'learning_rate': 0.007630609716045009, 'n_estimators': 1917, 'min_child_samples': 40, 'subsample': 0.9, 'colsample_bytree': 0.7}. Best is trial 10 with value: 0.7440079882794687.\n",
      "[I 2025-02-21 06:04:06,263] Trial 11 finished with value: 0.7441114497200509 and parameters: {'num_iterations': 1834, 'objective': 'binary', 'metric': 'auc', 'verbose': -1, 'learning_rate': 0.007972116511668377, 'n_estimators': 1756, 'min_child_samples': 40, 'subsample': 0.9, 'colsample_bytree': 0.7}. Best is trial 11 with value: 0.7441114497200509.\n",
      "[I 2025-02-21 06:04:17,946] Trial 12 finished with value: 0.7437707278275482 and parameters: {'num_iterations': 1990, 'objective': 'binary', 'metric': 'auc', 'verbose': -1, 'learning_rate': 0.009303222125489577, 'n_estimators': 1958, 'min_child_samples': 40, 'subsample': 0.9, 'colsample_bytree': 0.7}. Best is trial 11 with value: 0.7441114497200509.\n",
      "[I 2025-02-21 06:04:29,288] Trial 13 finished with value: 0.7438785770974086 and parameters: {'num_iterations': 1832, 'objective': 'binary', 'metric': 'auc', 'verbose': -1, 'learning_rate': 0.008297713384171916, 'n_estimators': 2000, 'min_child_samples': 40, 'subsample': 0.9, 'colsample_bytree': 0.7}. Best is trial 11 with value: 0.7441114497200509.\n",
      "[I 2025-02-21 06:04:42,756] Trial 14 finished with value: 0.7435975892463826 and parameters: {'num_iterations': 2165, 'objective': 'binary', 'metric': 'auc', 'verbose': -1, 'learning_rate': 0.011369098027764696, 'n_estimators': 1729, 'min_child_samples': 50, 'subsample': 0.8, 'colsample_bytree': 0.7}. Best is trial 11 with value: 0.7441114497200509.\n",
      "[I 2025-02-21 06:04:52,407] Trial 15 finished with value: 0.743713074530453 and parameters: {'num_iterations': 1757, 'objective': 'binary', 'metric': 'auc', 'verbose': -1, 'learning_rate': 0.005158006658641952, 'n_estimators': 1147, 'min_child_samples': 35, 'subsample': 0.9, 'colsample_bytree': 0.9}. Best is trial 11 with value: 0.7441114497200509.\n",
      "[I 2025-02-21 06:05:05,259] Trial 16 finished with value: 0.743434596279521 and parameters: {'num_iterations': 2158, 'objective': 'binary', 'metric': 'auc', 'verbose': -1, 'learning_rate': 0.012815889726243021, 'n_estimators': 1728, 'min_child_samples': 40, 'subsample': 1.0, 'colsample_bytree': 0.6}. Best is trial 11 with value: 0.7441114497200509.\n",
      "[I 2025-02-21 06:05:14,833] Trial 17 finished with value: 0.743889508947185 and parameters: {'num_iterations': 1714, 'objective': 'binary', 'metric': 'auc', 'verbose': -1, 'learning_rate': 0.008024460667023848, 'n_estimators': 1796, 'min_child_samples': 30, 'subsample': 0.8, 'colsample_bytree': 0.8}. Best is trial 11 with value: 0.7441114497200509.\n",
      "[I 2025-02-21 06:05:30,060] Trial 18 finished with value: 0.7437105172797244 and parameters: {'num_iterations': 2492, 'objective': 'binary', 'metric': 'auc', 'verbose': -1, 'learning_rate': 0.007304908567591956, 'n_estimators': 1233, 'min_child_samples': 45, 'subsample': 0.9, 'colsample_bytree': 0.7}. Best is trial 11 with value: 0.7441114497200509.\n",
      "[I 2025-02-21 06:05:39,449] Trial 19 finished with value: 0.7429186749159022 and parameters: {'num_iterations': 2068, 'objective': 'binary', 'metric': 'auc', 'verbose': -1, 'learning_rate': 0.011850788655424936, 'n_estimators': 1573, 'min_child_samples': 35, 'subsample': 1.0, 'colsample_bytree': 0.9}. Best is trial 11 with value: 0.7441114497200509.\n",
      "[I 2025-02-21 06:05:51,800] Trial 20 finished with value: 0.7441384596881507 and parameters: {'num_iterations': 1861, 'objective': 'binary', 'metric': 'auc', 'verbose': -1, 'learning_rate': 0.00688976659636273, 'n_estimators': 1915, 'min_child_samples': 45, 'subsample': 0.8, 'colsample_bytree': 0.6}. Best is trial 20 with value: 0.7441384596881507.\n",
      "[I 2025-02-21 06:06:03,981] Trial 21 finished with value: 0.744074556216138 and parameters: {'num_iterations': 1840, 'objective': 'binary', 'metric': 'auc', 'verbose': -1, 'learning_rate': 0.006935107293704373, 'n_estimators': 1850, 'min_child_samples': 45, 'subsample': 0.8, 'colsample_bytree': 0.6}. Best is trial 20 with value: 0.7441384596881507.\n",
      "[I 2025-02-21 06:06:15,914] Trial 22 finished with value: 0.7439599921776718 and parameters: {'num_iterations': 1714, 'objective': 'binary', 'metric': 'auc', 'verbose': -1, 'learning_rate': 0.005005599529663174, 'n_estimators': 1559, 'min_child_samples': 45, 'subsample': 0.8, 'colsample_bytree': 0.6}. Best is trial 20 with value: 0.7441384596881507.\n",
      "[I 2025-02-21 06:06:28,465] Trial 23 finished with value: 0.744062655470123 and parameters: {'num_iterations': 1835, 'objective': 'binary', 'metric': 'auc', 'verbose': -1, 'learning_rate': 0.006753174334569502, 'n_estimators': 1791, 'min_child_samples': 50, 'subsample': 0.8, 'colsample_bytree': 0.6}. Best is trial 20 with value: 0.7441384596881507.\n",
      "[I 2025-02-21 06:06:40,425] Trial 24 finished with value: 0.7440712961185476 and parameters: {'num_iterations': 2039, 'objective': 'binary', 'metric': 'auc', 'verbose': -1, 'learning_rate': 0.009039618756573949, 'n_estimators': 1849, 'min_child_samples': 45, 'subsample': 0.7, 'colsample_bytree': 0.6}. Best is trial 20 with value: 0.7441384596881507.\n",
      "[I 2025-02-21 06:06:49,887] Trial 25 finished with value: 0.7437495232951087 and parameters: {'num_iterations': 1650, 'objective': 'binary', 'metric': 'auc', 'verbose': -1, 'learning_rate': 0.013938195766085189, 'n_estimators': 1633, 'min_child_samples': 45, 'subsample': 0.8, 'colsample_bytree': 0.6}. Best is trial 20 with value: 0.7441384596881507.\n",
      "[I 2025-02-21 06:07:01,210] Trial 26 finished with value: 0.7440325085019056 and parameters: {'num_iterations': 2234, 'objective': 'binary', 'metric': 'auc', 'verbose': -1, 'learning_rate': 0.0064847128909716455, 'n_estimators': 1475, 'min_child_samples': 35, 'subsample': 0.6, 'colsample_bytree': 0.7}. Best is trial 20 with value: 0.7441384596881507.\n",
      "[I 2025-02-21 06:07:09,529] Trial 27 finished with value: 0.7436952690766219 and parameters: {'num_iterations': 1781, 'objective': 'binary', 'metric': 'auc', 'verbose': -1, 'learning_rate': 0.009680925734298186, 'n_estimators': 1691, 'min_child_samples': 50, 'subsample': 0.9, 'colsample_bytree': 0.8}. Best is trial 20 with value: 0.7441384596881507.\n",
      "[I 2025-02-21 06:07:24,739] Trial 28 finished with value: 0.7441545417773604 and parameters: {'num_iterations': 1936, 'objective': 'binary', 'metric': 'auc', 'verbose': -1, 'learning_rate': 0.006234827424190913, 'n_estimators': 1865, 'min_child_samples': 40, 'subsample': 0.8, 'colsample_bytree': 0.5}. Best is trial 28 with value: 0.7441545417773604.\n",
      "[I 2025-02-21 06:07:40,302] Trial 29 finished with value: 0.7431472867776255 and parameters: {'num_iterations': 2362, 'objective': 'binary', 'metric': 'auc', 'verbose': -1, 'learning_rate': 0.014434762846779503, 'n_estimators': 315, 'min_child_samples': 25, 'subsample': 0.7, 'colsample_bytree': 0.5}. Best is trial 28 with value: 0.7441545417773604.\n",
      "[I 2025-02-21 06:07:54,590] Trial 30 finished with value: 0.7438601839524162 and parameters: {'num_iterations': 1959, 'objective': 'binary', 'metric': 'auc', 'verbose': -1, 'learning_rate': 0.010182928546199657, 'n_estimators': 104, 'min_child_samples': 40, 'subsample': 0.7, 'colsample_bytree': 0.5}. Best is trial 28 with value: 0.7441545417773604.\n",
      "[I 2025-02-21 06:08:09,683] Trial 31 finished with value: 0.7442545048671788 and parameters: {'num_iterations': 1899, 'objective': 'binary', 'metric': 'auc', 'verbose': -1, 'learning_rate': 0.006170768181372635, 'n_estimators': 1994, 'min_child_samples': 45, 'subsample': 0.8, 'colsample_bytree': 0.5}. Best is trial 31 with value: 0.7442545048671788.\n",
      "[I 2025-02-21 06:08:21,560] Trial 32 finished with value: 0.743844765001206 and parameters: {'num_iterations': 1503, 'objective': 'binary', 'metric': 'auc', 'verbose': -1, 'learning_rate': 0.006045564107635363, 'n_estimators': 1993, 'min_child_samples': 40, 'subsample': 0.8, 'colsample_bytree': 0.5}. Best is trial 31 with value: 0.7442545048671788.\n",
      "[I 2025-02-21 06:08:37,029] Trial 33 finished with value: 0.7442022122664869 and parameters: {'num_iterations': 2074, 'objective': 'binary', 'metric': 'auc', 'verbose': -1, 'learning_rate': 0.005981245539202781, 'n_estimators': 1862, 'min_child_samples': 45, 'subsample': 0.9, 'colsample_bytree': 0.5}. Best is trial 31 with value: 0.7442545048671788.\n",
      "[I 2025-02-21 06:08:52,844] Trial 34 finished with value: 0.7440952246789372 and parameters: {'num_iterations': 2130, 'objective': 'binary', 'metric': 'auc', 'verbose': -1, 'learning_rate': 0.005743399680272722, 'n_estimators': 1870, 'min_child_samples': 45, 'subsample': 0.8, 'colsample_bytree': 0.5}. Best is trial 31 with value: 0.7442545048671788.\n",
      "[I 2025-02-21 06:09:08,819] Trial 35 finished with value: 0.7440886290369181 and parameters: {'num_iterations': 1948, 'objective': 'binary', 'metric': 'auc', 'verbose': -1, 'learning_rate': 0.005176533011474844, 'n_estimators': 1326, 'min_child_samples': 50, 'subsample': 0.5, 'colsample_bytree': 0.5}. Best is trial 31 with value: 0.7442545048671788.\n",
      "[I 2025-02-21 06:09:25,988] Trial 36 finished with value: 0.744375398498287 and parameters: {'num_iterations': 2238, 'objective': 'binary', 'metric': 'auc', 'verbose': -1, 'learning_rate': 0.0061383365717748144, 'n_estimators': 1907, 'min_child_samples': 45, 'subsample': 0.9, 'colsample_bytree': 0.5}. Best is trial 36 with value: 0.744375398498287.\n",
      "[I 2025-02-21 06:09:42,671] Trial 37 finished with value: 0.7440753265680656 and parameters: {'num_iterations': 2278, 'objective': 'binary', 'metric': 'auc', 'verbose': -1, 'learning_rate': 0.005969168006573898, 'n_estimators': 1508, 'min_child_samples': 50, 'subsample': 1.0, 'colsample_bytree': 0.5}. Best is trial 36 with value: 0.744375398498287.\n",
      "[I 2025-02-21 06:10:00,383] Trial 38 finished with value: 0.743999331747499 and parameters: {'num_iterations': 2470, 'objective': 'binary', 'metric': 'auc', 'verbose': -1, 'learning_rate': 0.005893510565530278, 'n_estimators': 1066, 'min_child_samples': 35, 'subsample': 0.9, 'colsample_bytree': 0.5}. Best is trial 36 with value: 0.744375398498287.\n",
      "[I 2025-02-21 06:10:11,270] Trial 39 finished with value: 0.7432128262547627 and parameters: {'num_iterations': 2433, 'objective': 'binary', 'metric': 'auc', 'verbose': -1, 'learning_rate': 0.008681335886108995, 'n_estimators': 1636, 'min_child_samples': 45, 'subsample': 0.9, 'colsample_bytree': 1.0}. Best is trial 36 with value: 0.744375398498287.\n"
     ]
    },
    {
     "name": "stdout",
     "output_type": "stream",
     "text": [
      "Cat val score : 0.7451250581377452\n",
      "LGBM val score : 0.7442730965564824\n",
      "Ensemble val score : 0.7451912528111095\n"
     ]
    },
    {
     "name": "stderr",
     "output_type": "stream",
     "text": [
      "[I 2025-02-21 06:10:30,429] A new study created in memory with name: no-name-9f8abcf7-8392-4db9-8559-c78931c1b67a\n"
     ]
    },
    {
     "name": "stdout",
     "output_type": "stream",
     "text": [
      "==================================================\n"
     ]
    },
    {
     "name": "stderr",
     "output_type": "stream",
     "text": [
      "Default metric period is 5 because AUC is/are not implemented for GPU\n"
     ]
    },
    {
     "name": "stdout",
     "output_type": "stream",
     "text": [
      "0:\ttest: 0.7255752\tbest: 0.7255752 (0)\ttotal: 78.9ms\tremaining: 3m 6s\n",
      "300:\ttest: 0.7363916\tbest: 0.7363916 (300)\ttotal: 24.3s\tremaining: 2m 46s\n",
      "600:\ttest: 0.7375003\tbest: 0.7375003 (600)\ttotal: 48.6s\tremaining: 2m 22s\n",
      "900:\ttest: 0.7377300\tbest: 0.7378083 (848)\ttotal: 1m 13s\tremaining: 1m 59s\n",
      "bestTest = 0.7378082871\n",
      "bestIteration = 848\n",
      "Shrink model to first 849 iterations.\n"
     ]
    },
    {
     "name": "stderr",
     "output_type": "stream",
     "text": [
      "[I 2025-02-21 06:12:05,791] Trial 0 finished with value: 0.7378082871437073 and parameters: {'iterations': 2366, 'depth': 10, 'learning_rate': 0.01181021951839225, 'l2_leaf_reg': 9.980783802743254}. Best is trial 0 with value: 0.7378082871437073.\n"
     ]
    },
    {
     "name": "stdout",
     "output_type": "stream",
     "text": [
      "저장 완료\n"
     ]
    },
    {
     "name": "stderr",
     "output_type": "stream",
     "text": [
      "Default metric period is 5 because AUC is/are not implemented for GPU\n"
     ]
    },
    {
     "name": "stdout",
     "output_type": "stream",
     "text": [
      "0:\ttest: 0.7007363\tbest: 0.7007363 (0)\ttotal: 19.4ms\tremaining: 42.4s\n",
      "300:\ttest: 0.7272975\tbest: 0.7272975 (300)\ttotal: 4.83s\tremaining: 30.3s\n",
      "600:\ttest: 0.7319717\tbest: 0.7319717 (600)\ttotal: 9.46s\tremaining: 25s\n",
      "900:\ttest: 0.7340811\tbest: 0.7340811 (900)\ttotal: 13.6s\tremaining: 19.4s\n",
      "1200:\ttest: 0.7352538\tbest: 0.7352538 (1200)\ttotal: 17.6s\tremaining: 14.6s\n",
      "1500:\ttest: 0.7361117\tbest: 0.7361117 (1500)\ttotal: 21.7s\tremaining: 10s\n",
      "1800:\ttest: 0.7366615\tbest: 0.7366615 (1800)\ttotal: 25.9s\tremaining: 5.63s\n",
      "2100:\ttest: 0.7371004\tbest: 0.7371004 (2100)\ttotal: 30s\tremaining: 1.31s\n",
      "2192:\ttest: 0.7372102\tbest: 0.7372102 (2192)\ttotal: 31.3s\tremaining: 0us\n",
      "bestTest = 0.7372101843\n",
      "bestIteration = 2192\n"
     ]
    },
    {
     "name": "stderr",
     "output_type": "stream",
     "text": [
      "[I 2025-02-21 06:12:40,406] Trial 1 finished with value: 0.7372101843357086 and parameters: {'iterations': 2193, 'depth': 4, 'learning_rate': 0.005671430811678843, 'l2_leaf_reg': 0.00012325230809466137}. Best is trial 0 with value: 0.7378082871437073.\n",
      "Default metric period is 5 because AUC is/are not implemented for GPU\n"
     ]
    },
    {
     "name": "stdout",
     "output_type": "stream",
     "text": [
      "0:\ttest: 0.7007363\tbest: 0.7007363 (0)\ttotal: 19.8ms\tremaining: 50.2s\n",
      "300:\ttest: 0.7384185\tbest: 0.7384440 (293)\ttotal: 5.07s\tremaining: 37.6s\n"
     ]
    },
    {
     "name": "stderr",
     "output_type": "stream",
     "text": [
      "[I 2025-02-21 06:12:53,007] Trial 2 finished with value: 0.7384440004825592 and parameters: {'iterations': 2535, 'depth': 4, 'learning_rate': 0.09275339199839054, 'l2_leaf_reg': 0.0008705394248343123}. Best is trial 2 with value: 0.7384440004825592.\n"
     ]
    },
    {
     "name": "stdout",
     "output_type": "stream",
     "text": [
      "bestTest = 0.7384440005\n",
      "bestIteration = 293\n",
      "Shrink model to first 294 iterations.\n",
      "저장 완료\n"
     ]
    },
    {
     "name": "stderr",
     "output_type": "stream",
     "text": [
      "Default metric period is 5 because AUC is/are not implemented for GPU\n"
     ]
    },
    {
     "name": "stdout",
     "output_type": "stream",
     "text": [
      "0:\ttest: 0.7007363\tbest: 0.7007363 (0)\ttotal: 19.9ms\tremaining: 46.4s\n",
      "300:\ttest: 0.7374035\tbest: 0.7374035 (300)\ttotal: 4.88s\tremaining: 33s\n",
      "600:\ttest: 0.7384512\tbest: 0.7384610 (594)\ttotal: 9.02s\tremaining: 26s\n",
      "900:\ttest: 0.7386920\tbest: 0.7386980 (856)\ttotal: 13.2s\tremaining: 20.9s\n",
      "1200:\ttest: 0.7385947\tbest: 0.7387583 (958)\ttotal: 17.3s\tremaining: 16.3s\n",
      "bestTest = 0.738758266\n",
      "bestIteration = 958\n",
      "Shrink model to first 959 iterations.\n"
     ]
    },
    {
     "name": "stderr",
     "output_type": "stream",
     "text": [
      "[I 2025-02-21 06:13:15,767] Trial 3 finished with value: 0.7387582659721375 and parameters: {'iterations': 2334, 'depth': 4, 'learning_rate': 0.04657568321363276, 'l2_leaf_reg': 0.0008640473331457248}. Best is trial 3 with value: 0.7387582659721375.\n"
     ]
    },
    {
     "name": "stdout",
     "output_type": "stream",
     "text": [
      "저장 완료\n"
     ]
    },
    {
     "name": "stderr",
     "output_type": "stream",
     "text": [
      "Default metric period is 5 because AUC is/are not implemented for GPU\n"
     ]
    },
    {
     "name": "stdout",
     "output_type": "stream",
     "text": [
      "0:\ttest: 0.7255250\tbest: 0.7255250 (0)\ttotal: 90ms\tremaining: 2m 36s\n",
      "300:\ttest: 0.7351222\tbest: 0.7351434 (299)\ttotal: 25.9s\tremaining: 2m 4s\n",
      "600:\ttest: 0.7352697\tbest: 0.7354493 (400)\ttotal: 50.2s\tremaining: 1m 35s\n",
      "bestTest = 0.7354492545\n",
      "bestIteration = 400\n",
      "Shrink model to first 401 iterations.\n"
     ]
    },
    {
     "name": "stderr",
     "output_type": "stream",
     "text": [
      "[I 2025-02-21 06:14:17,635] Trial 4 finished with value: 0.7354492545127869 and parameters: {'iterations': 1742, 'depth': 10, 'learning_rate': 0.012622767482095846, 'l2_leaf_reg': 0.00021158816350109617}. Best is trial 3 with value: 0.7387582659721375.\n",
      "Default metric period is 5 because AUC is/are not implemented for GPU\n"
     ]
    },
    {
     "name": "stdout",
     "output_type": "stream",
     "text": [
      "0:\ttest: 0.7007363\tbest: 0.7007363 (0)\ttotal: 13.9ms\tremaining: 29s\n",
      "300:\ttest: 0.7382438\tbest: 0.7382438 (300)\ttotal: 4.14s\tremaining: 24.5s\n",
      "600:\ttest: 0.7385905\tbest: 0.7386049 (588)\ttotal: 8.28s\tremaining: 20.4s\n",
      "900:\ttest: 0.7385999\tbest: 0.7387083 (733)\ttotal: 12.5s\tremaining: 16.3s\n"
     ]
    },
    {
     "name": "stderr",
     "output_type": "stream",
     "text": [
      "[I 2025-02-21 06:14:35,219] Trial 5 finished with value: 0.7387083172798157 and parameters: {'iterations': 2082, 'depth': 4, 'learning_rate': 0.06995196593094148, 'l2_leaf_reg': 0.0018080296485396804}. Best is trial 3 with value: 0.7387582659721375.\n"
     ]
    },
    {
     "name": "stdout",
     "output_type": "stream",
     "text": [
      "bestTest = 0.7387083173\n",
      "bestIteration = 733\n",
      "Shrink model to first 734 iterations.\n"
     ]
    },
    {
     "name": "stderr",
     "output_type": "stream",
     "text": [
      "Default metric period is 5 because AUC is/are not implemented for GPU\n"
     ]
    },
    {
     "name": "stdout",
     "output_type": "stream",
     "text": [
      "0:\ttest: 0.7147403\tbest: 0.7147403 (0)\ttotal: 26.7ms\tremaining: 53.3s\n",
      "300:\ttest: 0.7389665\tbest: 0.7390206 (261)\ttotal: 5.8s\tremaining: 32.7s\n",
      "600:\ttest: 0.7390754\tbest: 0.7391589 (466)\ttotal: 11.1s\tremaining: 25.7s\n"
     ]
    },
    {
     "name": "stderr",
     "output_type": "stream",
     "text": [
      "[I 2025-02-21 06:14:52,845] Trial 6 finished with value: 0.7391588687896729 and parameters: {'iterations': 1997, 'depth': 5, 'learning_rate': 0.07985155992831598, 'l2_leaf_reg': 62.52181000710482}. Best is trial 6 with value: 0.7391588687896729.\n"
     ]
    },
    {
     "name": "stdout",
     "output_type": "stream",
     "text": [
      "bestTest = 0.7391588688\n",
      "bestIteration = 466\n",
      "Shrink model to first 467 iterations.\n",
      "저장 완료\n"
     ]
    },
    {
     "name": "stderr",
     "output_type": "stream",
     "text": [
      "Default metric period is 5 because AUC is/are not implemented for GPU\n"
     ]
    },
    {
     "name": "stdout",
     "output_type": "stream",
     "text": [
      "0:\ttest: 0.7232842\tbest: 0.7232842 (0)\ttotal: 29.2ms\tremaining: 56.3s\n",
      "300:\ttest: 0.7370488\tbest: 0.7379401 (144)\ttotal: 8.62s\tremaining: 46.6s\n"
     ]
    },
    {
     "name": "stderr",
     "output_type": "stream",
     "text": [
      "[I 2025-02-21 06:15:08,808] Trial 7 finished with value: 0.7379401326179504 and parameters: {'iterations': 1927, 'depth': 7, 'learning_rate': 0.0941937211034094, 'l2_leaf_reg': 0.05654822767791934}. Best is trial 6 with value: 0.7391588687896729.\n"
     ]
    },
    {
     "name": "stdout",
     "output_type": "stream",
     "text": [
      "bestTest = 0.7379401326\n",
      "bestIteration = 144\n",
      "Shrink model to first 145 iterations.\n"
     ]
    },
    {
     "name": "stderr",
     "output_type": "stream",
     "text": [
      "Default metric period is 5 because AUC is/are not implemented for GPU\n"
     ]
    },
    {
     "name": "stdout",
     "output_type": "stream",
     "text": [
      "0:\ttest: 0.7232842\tbest: 0.7232842 (0)\ttotal: 33.3ms\tremaining: 1m 3s\n",
      "300:\ttest: 0.7384974\tbest: 0.7385147 (294)\ttotal: 9.03s\tremaining: 48.1s\n"
     ]
    },
    {
     "name": "stderr",
     "output_type": "stream",
     "text": [
      "[I 2025-02-21 06:15:30,893] Trial 8 finished with value: 0.7385147213935852 and parameters: {'iterations': 1904, 'depth': 7, 'learning_rate': 0.05155602859187331, 'l2_leaf_reg': 1.299974533316308}. Best is trial 6 with value: 0.7391588687896729.\n"
     ]
    },
    {
     "name": "stdout",
     "output_type": "stream",
     "text": [
      "bestTest = 0.7385147214\n",
      "bestIteration = 294\n",
      "Shrink model to first 295 iterations.\n"
     ]
    },
    {
     "name": "stderr",
     "output_type": "stream",
     "text": [
      "Default metric period is 5 because AUC is/are not implemented for GPU\n"
     ]
    },
    {
     "name": "stdout",
     "output_type": "stream",
     "text": [
      "0:\ttest: 0.7192200\tbest: 0.7192200 (0)\ttotal: 30ms\tremaining: 1m 19s\n",
      "300:\ttest: 0.7381113\tbest: 0.7381226 (296)\ttotal: 7.47s\tremaining: 58.1s\n",
      "600:\ttest: 0.7384231\tbest: 0.7385407 (440)\ttotal: 14.3s\tremaining: 48.5s\n"
     ]
    },
    {
     "name": "stderr",
     "output_type": "stream",
     "text": [
      "[I 2025-02-21 06:15:51,652] Trial 9 finished with value: 0.7385407090187073 and parameters: {'iterations': 2639, 'depth': 6, 'learning_rate': 0.03968704290444751, 'l2_leaf_reg': 0.30557194377967184}. Best is trial 6 with value: 0.7391588687896729.\n"
     ]
    },
    {
     "name": "stdout",
     "output_type": "stream",
     "text": [
      "bestTest = 0.738540709\n",
      "bestIteration = 440\n",
      "Shrink model to first 441 iterations.\n"
     ]
    },
    {
     "name": "stderr",
     "output_type": "stream",
     "text": [
      "Default metric period is 5 because AUC is/are not implemented for GPU\n"
     ]
    },
    {
     "name": "stdout",
     "output_type": "stream",
     "text": [
      "0:\ttest: 0.7193125\tbest: 0.7193125 (0)\ttotal: 26.3ms\tremaining: 1m 17s\n",
      "300:\ttest: 0.7389866\tbest: 0.7390005 (298)\ttotal: 8.4s\tremaining: 1m 13s\n",
      "600:\ttest: 0.7390719\tbest: 0.7391545 (448)\ttotal: 15.7s\tremaining: 1m 1s\n"
     ]
    },
    {
     "name": "stderr",
     "output_type": "stream",
     "text": [
      "[I 2025-02-21 06:16:14,199] Trial 10 finished with value: 0.7391544580459595 and parameters: {'iterations': 2945, 'depth': 6, 'learning_rate': 0.07265276039199581, 'l2_leaf_reg': 97.18545559492446}. Best is trial 6 with value: 0.7391588687896729.\n"
     ]
    },
    {
     "name": "stdout",
     "output_type": "stream",
     "text": [
      "bestTest = 0.739154458\n",
      "bestIteration = 448\n",
      "Shrink model to first 449 iterations.\n"
     ]
    },
    {
     "name": "stderr",
     "output_type": "stream",
     "text": [
      "Default metric period is 5 because AUC is/are not implemented for GPU\n"
     ]
    },
    {
     "name": "stdout",
     "output_type": "stream",
     "text": [
      "0:\ttest: 0.7193114\tbest: 0.7193114 (0)\ttotal: 26.5ms\tremaining: 1m 19s\n",
      "300:\ttest: 0.7386463\tbest: 0.7386583 (298)\ttotal: 7.4s\tremaining: 1m 6s\n",
      "600:\ttest: 0.7388201\tbest: 0.7388617 (586)\ttotal: 14s\tremaining: 55.8s\n"
     ]
    },
    {
     "name": "stderr",
     "output_type": "stream",
     "text": [
      "[I 2025-02-21 06:16:37,832] Trial 11 finished with value: 0.7388616800308228 and parameters: {'iterations': 2994, 'depth': 6, 'learning_rate': 0.07131044509072976, 'l2_leaf_reg': 73.12133513928158}. Best is trial 6 with value: 0.7391588687896729.\n"
     ]
    },
    {
     "name": "stdout",
     "output_type": "stream",
     "text": [
      "bestTest = 0.73886168\n",
      "bestIteration = 586\n",
      "Shrink model to first 587 iterations.\n"
     ]
    },
    {
     "name": "stderr",
     "output_type": "stream",
     "text": [
      "Default metric period is 5 because AUC is/are not implemented for GPU\n"
     ]
    },
    {
     "name": "stdout",
     "output_type": "stream",
     "text": [
      "0:\ttest: 0.7193124\tbest: 0.7193124 (0)\ttotal: 22.8ms\tremaining: 36.2s\n",
      "300:\ttest: 0.7387633\tbest: 0.7387633 (300)\ttotal: 6.58s\tremaining: 28.1s\n",
      "600:\ttest: 0.7385616\tbest: 0.7388627 (344)\ttotal: 13.1s\tremaining: 21.6s\n"
     ]
    },
    {
     "name": "stderr",
     "output_type": "stream",
     "text": [
      "[I 2025-02-21 06:16:55,249] Trial 12 finished with value: 0.7388626933097839 and parameters: {'iterations': 1588, 'depth': 6, 'learning_rate': 0.07674945667870968, 'l2_leaf_reg': 87.13438924619733}. Best is trial 6 with value: 0.7391588687896729.\n"
     ]
    },
    {
     "name": "stdout",
     "output_type": "stream",
     "text": [
      "bestTest = 0.7388626933\n",
      "bestIteration = 344\n",
      "Shrink model to first 345 iterations.\n"
     ]
    },
    {
     "name": "stderr",
     "output_type": "stream",
     "text": [
      "Default metric period is 5 because AUC is/are not implemented for GPU\n"
     ]
    },
    {
     "name": "stdout",
     "output_type": "stream",
     "text": [
      "0:\ttest: 0.7147570\tbest: 0.7147570 (0)\ttotal: 18.3ms\tremaining: 54.3s\n",
      "300:\ttest: 0.7388362\tbest: 0.7389026 (268)\ttotal: 5.23s\tremaining: 46.4s\n",
      "600:\ttest: 0.7388589\tbest: 0.7390279 (427)\ttotal: 10.4s\tremaining: 41.2s\n"
     ]
    },
    {
     "name": "stderr",
     "output_type": "stream",
     "text": [
      "[I 2025-02-21 06:17:11,140] Trial 13 finished with value: 0.7390279173851013 and parameters: {'iterations': 2975, 'depth': 5, 'learning_rate': 0.07888750974731618, 'l2_leaf_reg': 10.019996908534585}. Best is trial 6 with value: 0.7391588687896729.\n"
     ]
    },
    {
     "name": "stdout",
     "output_type": "stream",
     "text": [
      "bestTest = 0.7390279174\n",
      "bestIteration = 427\n",
      "Shrink model to first 428 iterations.\n"
     ]
    },
    {
     "name": "stderr",
     "output_type": "stream",
     "text": [
      "Default metric period is 5 because AUC is/are not implemented for GPU\n"
     ]
    },
    {
     "name": "stdout",
     "output_type": "stream",
     "text": [
      "0:\ttest: 0.7259630\tbest: 0.7259630 (0)\ttotal: 38.8ms\tremaining: 1m 44s\n",
      "300:\ttest: 0.7387342\tbest: 0.7387717 (294)\ttotal: 11.2s\tremaining: 1m 29s\n",
      "600:\ttest: 0.7384945\tbest: 0.7388262 (322)\ttotal: 22.4s\tremaining: 1m 18s\n"
     ]
    },
    {
     "name": "stderr",
     "output_type": "stream",
     "text": [
      "[I 2025-02-21 06:17:37,703] Trial 14 finished with value: 0.7388262152671814 and parameters: {'iterations': 2702, 'depth': 8, 'learning_rate': 0.06308101933412968, 'l2_leaf_reg': 92.74223128282532}. Best is trial 6 with value: 0.7391588687896729.\n"
     ]
    },
    {
     "name": "stdout",
     "output_type": "stream",
     "text": [
      "bestTest = 0.7388262153\n",
      "bestIteration = 322\n",
      "Shrink model to first 323 iterations.\n"
     ]
    },
    {
     "name": "stderr",
     "output_type": "stream",
     "text": [
      "Default metric period is 5 because AUC is/are not implemented for GPU\n"
     ]
    },
    {
     "name": "stdout",
     "output_type": "stream",
     "text": [
      "0:\ttest: 0.7259344\tbest: 0.7259344 (0)\ttotal: 37.3ms\tremaining: 56.3s\n",
      "300:\ttest: 0.7386854\tbest: 0.7387317 (240)\ttotal: 11.2s\tremaining: 45.1s\n",
      "600:\ttest: 0.7368683\tbest: 0.7387859 (313)\ttotal: 22.4s\tremaining: 34s\n"
     ]
    },
    {
     "name": "stderr",
     "output_type": "stream",
     "text": [
      "[I 2025-02-21 06:18:03,993] Trial 15 finished with value: 0.7387859225273132 and parameters: {'iterations': 1513, 'depth': 8, 'learning_rate': 0.08625378621185843, 'l2_leaf_reg': 7.451035024616121}. Best is trial 6 with value: 0.7391588687896729.\n"
     ]
    },
    {
     "name": "stdout",
     "output_type": "stream",
     "text": [
      "bestTest = 0.7387859225\n",
      "bestIteration = 313\n",
      "Shrink model to first 314 iterations.\n"
     ]
    },
    {
     "name": "stderr",
     "output_type": "stream",
     "text": [
      "Default metric period is 5 because AUC is/are not implemented for GPU\n"
     ]
    },
    {
     "name": "stdout",
     "output_type": "stream",
     "text": [
      "0:\ttest: 0.7147570\tbest: 0.7147570 (0)\ttotal: 21.9ms\tremaining: 44.2s\n",
      "300:\ttest: 0.7386034\tbest: 0.7386034 (300)\ttotal: 5.9s\tremaining: 33.6s\n",
      "600:\ttest: 0.7386602\tbest: 0.7387204 (368)\ttotal: 11.1s\tremaining: 26s\n"
     ]
    },
    {
     "name": "stderr",
     "output_type": "stream",
     "text": [
      "[I 2025-02-21 06:18:19,601] Trial 16 finished with value: 0.7387204170227051 and parameters: {'iterations': 2016, 'depth': 5, 'learning_rate': 0.0615985697073551, 'l2_leaf_reg': 2.2154120601410607}. Best is trial 6 with value: 0.7391588687896729.\n"
     ]
    },
    {
     "name": "stdout",
     "output_type": "stream",
     "text": [
      "bestTest = 0.738720417\n",
      "bestIteration = 368\n",
      "Shrink model to first 369 iterations.\n"
     ]
    },
    {
     "name": "stderr",
     "output_type": "stream",
     "text": [
      "Default metric period is 5 because AUC is/are not implemented for GPU\n"
     ]
    },
    {
     "name": "stdout",
     "output_type": "stream",
     "text": [
      "0:\ttest: 0.7147403\tbest: 0.7147403 (0)\ttotal: 23.9ms\tremaining: 1m 7s\n",
      "300:\ttest: 0.7386094\tbest: 0.7388631 (258)\ttotal: 5.97s\tremaining: 49.9s\n"
     ]
    },
    {
     "name": "stderr",
     "output_type": "stream",
     "text": [
      "[I 2025-02-21 06:18:33,455] Trial 17 finished with value: 0.7388630509376526 and parameters: {'iterations': 2816, 'depth': 5, 'learning_rate': 0.09773821456719883, 'l2_leaf_reg': 26.97241350154797}. Best is trial 6 with value: 0.7391588687896729.\n"
     ]
    },
    {
     "name": "stdout",
     "output_type": "stream",
     "text": [
      "bestTest = 0.7388630509\n",
      "bestIteration = 258\n",
      "Shrink model to first 259 iterations.\n"
     ]
    },
    {
     "name": "stderr",
     "output_type": "stream",
     "text": [
      "Default metric period is 5 because AUC is/are not implemented for GPU\n"
     ]
    },
    {
     "name": "stdout",
     "output_type": "stream",
     "text": [
      "0:\ttest: 0.7259330\tbest: 0.7259330 (0)\ttotal: 45.3ms\tremaining: 1m 53s\n",
      "300:\ttest: 0.7384683\tbest: 0.7386992 (239)\ttotal: 11.8s\tremaining: 1m 27s\n"
     ]
    },
    {
     "name": "stderr",
     "output_type": "stream",
     "text": [
      "[I 2025-02-21 06:18:57,573] Trial 18 finished with value: 0.7386992275714874 and parameters: {'iterations': 2516, 'depth': 8, 'learning_rate': 0.085092199736808, 'l2_leaf_reg': 27.221212898343293}. Best is trial 6 with value: 0.7391588687896729.\n"
     ]
    },
    {
     "name": "stdout",
     "output_type": "stream",
     "text": [
      "bestTest = 0.7386992276\n",
      "bestIteration = 239\n",
      "Shrink model to first 240 iterations.\n"
     ]
    },
    {
     "name": "stderr",
     "output_type": "stream",
     "text": [
      "Default metric period is 5 because AUC is/are not implemented for GPU\n"
     ]
    },
    {
     "name": "stdout",
     "output_type": "stream",
     "text": [
      "0:\ttest: 0.7192200\tbest: 0.7192200 (0)\ttotal: 26.2ms\tremaining: 46.2s\n",
      "300:\ttest: 0.7381219\tbest: 0.7383746 (244)\ttotal: 7.22s\tremaining: 35s\n",
      "600:\ttest: 0.7382067\tbest: 0.7385184 (470)\ttotal: 13.7s\tremaining: 26.5s\n"
     ]
    },
    {
     "name": "stderr",
     "output_type": "stream",
     "text": [
      "[I 2025-02-21 06:19:18,401] Trial 19 finished with value: 0.7385183870792389 and parameters: {'iterations': 1761, 'depth': 6, 'learning_rate': 0.08271858848963275, 'l2_leaf_reg': 2.2761750054483345}. Best is trial 6 with value: 0.7391588687896729.\n"
     ]
    },
    {
     "name": "stdout",
     "output_type": "stream",
     "text": [
      "bestTest = 0.7385183871\n",
      "bestIteration = 470\n",
      "Shrink model to first 471 iterations.\n"
     ]
    },
    {
     "name": "stderr",
     "output_type": "stream",
     "text": [
      "Default metric period is 5 because AUC is/are not implemented for GPU\n"
     ]
    },
    {
     "name": "stdout",
     "output_type": "stream",
     "text": [
      "0:\ttest: 0.7232842\tbest: 0.7232842 (0)\ttotal: 31.2ms\tremaining: 1m 9s\n",
      "300:\ttest: 0.7378098\tbest: 0.7379364 (253)\ttotal: 9.17s\tremaining: 58.2s\n"
     ]
    },
    {
     "name": "stderr",
     "output_type": "stream",
     "text": [
      "[I 2025-02-21 06:19:38,050] Trial 20 finished with value: 0.7379363775253296 and parameters: {'iterations': 2212, 'depth': 7, 'learning_rate': 0.06362418064736489, 'l2_leaf_reg': 0.09212745072618449}. Best is trial 6 with value: 0.7391588687896729.\n"
     ]
    },
    {
     "name": "stdout",
     "output_type": "stream",
     "text": [
      "bestTest = 0.7379363775\n",
      "bestIteration = 253\n",
      "Shrink model to first 254 iterations.\n"
     ]
    },
    {
     "name": "stderr",
     "output_type": "stream",
     "text": [
      "Default metric period is 5 because AUC is/are not implemented for GPU\n"
     ]
    },
    {
     "name": "stdout",
     "output_type": "stream",
     "text": [
      "0:\ttest: 0.7147570\tbest: 0.7147570 (0)\ttotal: 24.6ms\tremaining: 1m 13s\n",
      "300:\ttest: 0.7386550\tbest: 0.7386986 (271)\ttotal: 6.03s\tremaining: 53.5s\n",
      "600:\ttest: 0.7385288\tbest: 0.7387435 (456)\ttotal: 11.2s\tremaining: 44.1s\n"
     ]
    },
    {
     "name": "stderr",
     "output_type": "stream",
     "text": [
      "[I 2025-02-21 06:19:55,317] Trial 21 finished with value: 0.7387435436248779 and parameters: {'iterations': 2969, 'depth': 5, 'learning_rate': 0.0805765449160892, 'l2_leaf_reg': 14.1712901622504}. Best is trial 6 with value: 0.7391588687896729.\n"
     ]
    },
    {
     "name": "stdout",
     "output_type": "stream",
     "text": [
      "bestTest = 0.7387435436\n",
      "bestIteration = 456\n",
      "Shrink model to first 457 iterations.\n"
     ]
    },
    {
     "name": "stderr",
     "output_type": "stream",
     "text": [
      "Default metric period is 5 because AUC is/are not implemented for GPU\n"
     ]
    },
    {
     "name": "stdout",
     "output_type": "stream",
     "text": [
      "0:\ttest: 0.7147403\tbest: 0.7147403 (0)\ttotal: 17.5ms\tremaining: 49.8s\n",
      "300:\ttest: 0.7386701\tbest: 0.7387111 (269)\ttotal: 5.27s\tremaining: 44.4s\n",
      "600:\ttest: 0.7385284\tbest: 0.7387272 (345)\ttotal: 10.5s\tremaining: 39s\n"
     ]
    },
    {
     "name": "stderr",
     "output_type": "stream",
     "text": [
      "[I 2025-02-21 06:20:09,911] Trial 22 finished with value: 0.7387271821498871 and parameters: {'iterations': 2840, 'depth': 5, 'learning_rate': 0.0749719534726437, 'l2_leaf_reg': 27.40182702789412}. Best is trial 6 with value: 0.7391588687896729.\n"
     ]
    },
    {
     "name": "stdout",
     "output_type": "stream",
     "text": [
      "bestTest = 0.7387271821\n",
      "bestIteration = 345\n",
      "Shrink model to first 346 iterations.\n"
     ]
    },
    {
     "name": "stderr",
     "output_type": "stream",
     "text": [
      "Default metric period is 5 because AUC is/are not implemented for GPU\n"
     ]
    },
    {
     "name": "stdout",
     "output_type": "stream",
     "text": [
      "0:\ttest: 0.7147570\tbest: 0.7147570 (0)\ttotal: 25.5ms\tremaining: 1m 12s\n",
      "300:\ttest: 0.7385161\tbest: 0.7387610 (211)\ttotal: 6.22s\tremaining: 52.8s\n"
     ]
    },
    {
     "name": "stderr",
     "output_type": "stream",
     "text": [
      "[I 2025-02-21 06:20:23,189] Trial 23 finished with value: 0.7387610077857971 and parameters: {'iterations': 2857, 'depth': 5, 'learning_rate': 0.09985302673459719, 'l2_leaf_reg': 5.9028543199509675}. Best is trial 6 with value: 0.7391588687896729.\n"
     ]
    },
    {
     "name": "stdout",
     "output_type": "stream",
     "text": [
      "bestTest = 0.7387610078\n",
      "bestIteration = 211\n",
      "Shrink model to first 212 iterations.\n"
     ]
    },
    {
     "name": "stderr",
     "output_type": "stream",
     "text": [
      "Default metric period is 5 because AUC is/are not implemented for GPU\n"
     ]
    },
    {
     "name": "stdout",
     "output_type": "stream",
     "text": [
      "0:\ttest: 0.7192726\tbest: 0.7192726 (0)\ttotal: 26.7ms\tremaining: 1m 12s\n",
      "300:\ttest: 0.7385902\tbest: 0.7386090 (298)\ttotal: 7.44s\tremaining: 59.7s\n",
      "600:\ttest: 0.7384993\tbest: 0.7387066 (453)\ttotal: 14.1s\tremaining: 49.7s\n"
     ]
    },
    {
     "name": "stderr",
     "output_type": "stream",
     "text": [
      "[I 2025-02-21 06:20:44,082] Trial 24 finished with value: 0.738706648349762 and parameters: {'iterations': 2714, 'depth': 6, 'learning_rate': 0.08855797834475825, 'l2_leaf_reg': 39.94853115066065}. Best is trial 6 with value: 0.7391588687896729.\n"
     ]
    },
    {
     "name": "stdout",
     "output_type": "stream",
     "text": [
      "bestTest = 0.7387066483\n",
      "bestIteration = 453\n",
      "Shrink model to first 454 iterations.\n"
     ]
    },
    {
     "name": "stderr",
     "output_type": "stream",
     "text": [
      "Default metric period is 5 because AUC is/are not implemented for GPU\n"
     ]
    },
    {
     "name": "stdout",
     "output_type": "stream",
     "text": [
      "0:\ttest: 0.7147403\tbest: 0.7147403 (0)\ttotal: 21.5ms\tremaining: 52.5s\n",
      "300:\ttest: 0.7388566\tbest: 0.7388566 (300)\ttotal: 5.92s\tremaining: 42.2s\n",
      "600:\ttest: 0.7387043\tbest: 0.7389358 (328)\ttotal: 12.2s\tremaining: 37.3s\n"
     ]
    },
    {
     "name": "stderr",
     "output_type": "stream",
     "text": [
      "[I 2025-02-21 06:21:00,226] Trial 25 finished with value: 0.7389357686042786 and parameters: {'iterations': 2443, 'depth': 5, 'learning_rate': 0.07906727257805568, 'l2_leaf_reg': 93.09599374203756}. Best is trial 6 with value: 0.7391588687896729.\n"
     ]
    },
    {
     "name": "stdout",
     "output_type": "stream",
     "text": [
      "bestTest = 0.7389357686\n",
      "bestIteration = 328\n",
      "Shrink model to first 329 iterations.\n"
     ]
    },
    {
     "name": "stderr",
     "output_type": "stream",
     "text": [
      "Default metric period is 5 because AUC is/are not implemented for GPU\n"
     ]
    },
    {
     "name": "stdout",
     "output_type": "stream",
     "text": [
      "0:\ttest: 0.7192613\tbest: 0.7192613 (0)\ttotal: 32.5ms\tremaining: 1m 35s\n",
      "300:\ttest: 0.7383530\tbest: 0.7383951 (266)\ttotal: 8.85s\tremaining: 1m 17s\n",
      "600:\ttest: 0.7385366\tbest: 0.7385366 (600)\ttotal: 17.7s\tremaining: 1m 8s\n",
      "900:\ttest: 0.7381621\tbest: 0.7385654 (763)\ttotal: 26.5s\tremaining: 59.6s\n",
      "bestTest = 0.7385654449\n",
      "bestIteration = 763\n",
      "Shrink model to first 764 iterations.\n"
     ]
    },
    {
     "name": "stderr",
     "output_type": "stream",
     "text": [
      "[I 2025-02-21 06:21:35,101] Trial 26 finished with value: 0.7385654449462891 and parameters: {'iterations': 2927, 'depth': 6, 'learning_rate': 0.08720726842974445, 'l2_leaf_reg': 15.19452818424484}. Best is trial 6 with value: 0.7391588687896729.\n",
      "Default metric period is 5 because AUC is/are not implemented for GPU\n"
     ]
    },
    {
     "name": "stdout",
     "output_type": "stream",
     "text": [
      "0:\ttest: 0.7255234\tbest: 0.7255234 (0)\ttotal: 66.4ms\tremaining: 2m 53s\n",
      "300:\ttest: 0.7377487\tbest: 0.7378523 (219)\ttotal: 16.8s\tremaining: 2m 8s\n"
     ]
    },
    {
     "name": "stderr",
     "output_type": "stream",
     "text": [
      "[I 2025-02-21 06:22:06,873] Trial 27 finished with value: 0.7378523051738739 and parameters: {'iterations': 2616, 'depth': 9, 'learning_rate': 0.07033389826766662, 'l2_leaf_reg': 4.864933600432959}. Best is trial 6 with value: 0.7391588687896729.\n"
     ]
    },
    {
     "name": "stdout",
     "output_type": "stream",
     "text": [
      "bestTest = 0.7378523052\n",
      "bestIteration = 219\n",
      "Shrink model to first 220 iterations.\n"
     ]
    },
    {
     "name": "stderr",
     "output_type": "stream",
     "text": [
      "Default metric period is 5 because AUC is/are not implemented for GPU\n"
     ]
    },
    {
     "name": "stdout",
     "output_type": "stream",
     "text": [
      "0:\ttest: 0.7147403\tbest: 0.7147403 (0)\ttotal: 24.9ms\tremaining: 51.7s\n",
      "300:\ttest: 0.7386954\tbest: 0.7387834 (269)\ttotal: 5.66s\tremaining: 33.4s\n",
      "600:\ttest: 0.7385934\tbest: 0.7388467 (459)\ttotal: 11s\tremaining: 27.1s\n",
      "bestTest = 0.7388467193\n",
      "bestIteration = 459\n",
      "Shrink model to first 460 iterations.\n"
     ]
    },
    {
     "name": "stderr",
     "output_type": "stream",
     "text": [
      "[I 2025-02-21 06:22:24,166] Trial 28 finished with value: 0.7388467192649841 and parameters: {'iterations': 2076, 'depth': 5, 'learning_rate': 0.07981931117606446, 'l2_leaf_reg': 22.894256673695168}. Best is trial 6 with value: 0.7391588687896729.\n",
      "Default metric period is 5 because AUC is/are not implemented for GPU\n"
     ]
    },
    {
     "name": "stdout",
     "output_type": "stream",
     "text": [
      "0:\ttest: 0.7232914\tbest: 0.7232914 (0)\ttotal: 37.7ms\tremaining: 1m 29s\n",
      "300:\ttest: 0.7386840\tbest: 0.7386882 (299)\ttotal: 9.1s\tremaining: 1m 2s\n",
      "600:\ttest: 0.7383469\tbest: 0.7387146 (342)\ttotal: 17.6s\tremaining: 52s\n"
     ]
    },
    {
     "name": "stderr",
     "output_type": "stream",
     "text": [
      "[I 2025-02-21 06:22:46,667] Trial 29 finished with value: 0.7387145757675171 and parameters: {'iterations': 2371, 'depth': 7, 'learning_rate': 0.09022814553553674, 'l2_leaf_reg': 10.05857552773623}. Best is trial 6 with value: 0.7391588687896729.\n"
     ]
    },
    {
     "name": "stdout",
     "output_type": "stream",
     "text": [
      "bestTest = 0.7387145758\n",
      "bestIteration = 342\n",
      "Shrink model to first 343 iterations.\n"
     ]
    },
    {
     "name": "stderr",
     "output_type": "stream",
     "text": [
      "Default metric period is 5 because AUC is/are not implemented for GPU\n"
     ]
    },
    {
     "name": "stdout",
     "output_type": "stream",
     "text": [
      "0:\ttest: 0.7007363\tbest: 0.7007363 (0)\ttotal: 18.8ms\tremaining: 51.7s\n",
      "300:\ttest: 0.7385521\tbest: 0.7385575 (294)\ttotal: 4.54s\tremaining: 37s\n",
      "600:\ttest: 0.7388493\tbest: 0.7388676 (591)\ttotal: 8.73s\tremaining: 31.3s\n",
      "900:\ttest: 0.7388665\tbest: 0.7389507 (800)\ttotal: 13.3s\tremaining: 27.4s\n",
      "bestTest = 0.7389507294\n",
      "bestIteration = 800\n",
      "Shrink model to first 801 iterations.\n"
     ]
    },
    {
     "name": "stderr",
     "output_type": "stream",
     "text": [
      "[I 2025-02-21 06:23:07,417] Trial 30 finished with value: 0.7389507293701172 and parameters: {'iterations': 2756, 'depth': 4, 'learning_rate': 0.074123446658444, 'l2_leaf_reg': 40.03990269476562}. Best is trial 6 with value: 0.7391588687896729.\n",
      "Default metric period is 5 because AUC is/are not implemented for GPU\n"
     ]
    },
    {
     "name": "stdout",
     "output_type": "stream",
     "text": [
      "0:\ttest: 0.7007363\tbest: 0.7007363 (0)\ttotal: 15.5ms\tremaining: 42.9s\n",
      "300:\ttest: 0.7386839\tbest: 0.7386839 (300)\ttotal: 4.14s\tremaining: 34s\n",
      "600:\ttest: 0.7389484\tbest: 0.7390060 (531)\ttotal: 9.04s\tremaining: 32.7s\n"
     ]
    },
    {
     "name": "stderr",
     "output_type": "stream",
     "text": [
      "[I 2025-02-21 06:23:23,873] Trial 31 finished with value: 0.7390060126781464 and parameters: {'iterations': 2774, 'depth': 4, 'learning_rate': 0.07652540912339625, 'l2_leaf_reg': 38.51349387716022}. Best is trial 6 with value: 0.7391588687896729.\n"
     ]
    },
    {
     "name": "stdout",
     "output_type": "stream",
     "text": [
      "bestTest = 0.7390060127\n",
      "bestIteration = 531\n",
      "Shrink model to first 532 iterations.\n"
     ]
    },
    {
     "name": "stderr",
     "output_type": "stream",
     "text": [
      "Default metric period is 5 because AUC is/are not implemented for GPU\n"
     ]
    },
    {
     "name": "stdout",
     "output_type": "stream",
     "text": [
      "0:\ttest: 0.7007363\tbest: 0.7007363 (0)\ttotal: 20.4ms\tremaining: 59.3s\n",
      "300:\ttest: 0.7384291\tbest: 0.7384291 (300)\ttotal: 4.79s\tremaining: 41.4s\n",
      "600:\ttest: 0.7386746\tbest: 0.7387015 (581)\ttotal: 8.89s\tremaining: 34.1s\n",
      "900:\ttest: 0.7388364\tbest: 0.7388413 (889)\ttotal: 13s\tremaining: 29s\n",
      "1200:\ttest: 0.7386007\tbest: 0.7388670 (934)\ttotal: 17.2s\tremaining: 24.4s\n"
     ]
    },
    {
     "name": "stderr",
     "output_type": "stream",
     "text": [
      "[I 2025-02-21 06:23:45,092] Trial 32 finished with value: 0.7388670444488525 and parameters: {'iterations': 2903, 'depth': 4, 'learning_rate': 0.08369947038770117, 'l2_leaf_reg': 47.754365149502604}. Best is trial 6 with value: 0.7391588687896729.\n"
     ]
    },
    {
     "name": "stdout",
     "output_type": "stream",
     "text": [
      "bestTest = 0.7388670444\n",
      "bestIteration = 934\n",
      "Shrink model to first 935 iterations.\n"
     ]
    },
    {
     "name": "stderr",
     "output_type": "stream",
     "text": [
      "Default metric period is 5 because AUC is/are not implemented for GPU\n"
     ]
    },
    {
     "name": "stdout",
     "output_type": "stream",
     "text": [
      "0:\ttest: 0.7007363\tbest: 0.7007363 (0)\ttotal: 19ms\tremaining: 53.9s\n",
      "300:\ttest: 0.7383437\tbest: 0.7383437 (300)\ttotal: 5s\tremaining: 42.1s\n",
      "600:\ttest: 0.7389209\tbest: 0.7389209 (600)\ttotal: 10.7s\tremaining: 39.8s\n",
      "900:\ttest: 0.7388591\tbest: 0.7389508 (689)\ttotal: 14.8s\tremaining: 31.7s\n"
     ]
    },
    {
     "name": "stderr",
     "output_type": "stream",
     "text": [
      "[I 2025-02-21 06:24:04,399] Trial 33 finished with value: 0.738950788974762 and parameters: {'iterations': 2837, 'depth': 4, 'learning_rate': 0.06663948172489599, 'l2_leaf_reg': 16.256692549062166}. Best is trial 6 with value: 0.7391588687896729.\n"
     ]
    },
    {
     "name": "stdout",
     "output_type": "stream",
     "text": [
      "bestTest = 0.738950789\n",
      "bestIteration = 689\n",
      "Shrink model to first 690 iterations.\n"
     ]
    },
    {
     "name": "stderr",
     "output_type": "stream",
     "text": [
      "Default metric period is 5 because AUC is/are not implemented for GPU\n"
     ]
    },
    {
     "name": "stdout",
     "output_type": "stream",
     "text": [
      "0:\ttest: 0.7147403\tbest: 0.7147403 (0)\ttotal: 24.6ms\tremaining: 1m 13s\n",
      "300:\ttest: 0.7386872\tbest: 0.7386872 (300)\ttotal: 5.93s\tremaining: 53.2s\n",
      "600:\ttest: 0.7387831\tbest: 0.7389106 (450)\ttotal: 11.3s\tremaining: 45s\n",
      "900:\ttest: 0.7389427\tbest: 0.7389607 (854)\ttotal: 16.6s\tremaining: 38.7s\n",
      "1200:\ttest: 0.7386772\tbest: 0.7390028 (923)\ttotal: 22s\tremaining: 32.9s\n"
     ]
    },
    {
     "name": "stderr",
     "output_type": "stream",
     "text": [
      "[I 2025-02-21 06:24:30,100] Trial 34 finished with value: 0.7390028238296509 and parameters: {'iterations': 3000, 'depth': 5, 'learning_rate': 0.07621091729483784, 'l2_leaf_reg': 51.150753493765464}. Best is trial 6 with value: 0.7391588687896729.\n"
     ]
    },
    {
     "name": "stdout",
     "output_type": "stream",
     "text": [
      "bestTest = 0.7390028238\n",
      "bestIteration = 923\n",
      "Shrink model to first 924 iterations.\n"
     ]
    },
    {
     "name": "stderr",
     "output_type": "stream",
     "text": [
      "Default metric period is 5 because AUC is/are not implemented for GPU\n"
     ]
    },
    {
     "name": "stdout",
     "output_type": "stream",
     "text": [
      "0:\ttest: 0.7007363\tbest: 0.7007363 (0)\ttotal: 14.3ms\tremaining: 32.8s\n",
      "300:\ttest: 0.7389152\tbest: 0.7389152 (300)\ttotal: 4.17s\tremaining: 27.6s\n",
      "600:\ttest: 0.7389612\tbest: 0.7390071 (448)\ttotal: 8.31s\tremaining: 23.4s\n"
     ]
    },
    {
     "name": "stderr",
     "output_type": "stream",
     "text": [
      "[I 2025-02-21 06:24:43,650] Trial 35 finished with value: 0.7390071153640747 and parameters: {'iterations': 2294, 'depth': 4, 'learning_rate': 0.09289029704902244, 'l2_leaf_reg': 8.748348227099706}. Best is trial 6 with value: 0.7391588687896729.\n"
     ]
    },
    {
     "name": "stdout",
     "output_type": "stream",
     "text": [
      "bestTest = 0.7390071154\n",
      "bestIteration = 448\n",
      "Shrink model to first 449 iterations.\n"
     ]
    },
    {
     "name": "stderr",
     "output_type": "stream",
     "text": [
      "Default metric period is 5 because AUC is/are not implemented for GPU\n"
     ]
    },
    {
     "name": "stdout",
     "output_type": "stream",
     "text": [
      "0:\ttest: 0.7007363\tbest: 0.7007363 (0)\ttotal: 18.7ms\tremaining: 40.7s\n",
      "300:\ttest: 0.7388623\tbest: 0.7388627 (299)\ttotal: 4.92s\tremaining: 30.7s\n",
      "600:\ttest: 0.7390599\tbest: 0.7390822 (591)\ttotal: 8.98s\tremaining: 23.6s\n"
     ]
    },
    {
     "name": "stderr",
     "output_type": "stream",
     "text": [
      "[I 2025-02-21 06:25:00,094] Trial 36 finished with value: 0.7391036152839661 and parameters: {'iterations': 2181, 'depth': 4, 'learning_rate': 0.09323913273588999, 'l2_leaf_reg': 7.985155059452034}. Best is trial 6 with value: 0.7391588687896729.\n"
     ]
    },
    {
     "name": "stdout",
     "output_type": "stream",
     "text": [
      "900:\ttest: 0.7390299\tbest: 0.7391036 (602)\ttotal: 13.1s\tremaining: 18.6s\n",
      "bestTest = 0.7391036153\n",
      "bestIteration = 602\n",
      "Shrink model to first 603 iterations.\n"
     ]
    },
    {
     "name": "stderr",
     "output_type": "stream",
     "text": [
      "Default metric period is 5 because AUC is/are not implemented for GPU\n"
     ]
    },
    {
     "name": "stdout",
     "output_type": "stream",
     "text": [
      "0:\ttest: 0.7147570\tbest: 0.7147570 (0)\ttotal: 18.6ms\tremaining: 33.5s\n",
      "300:\ttest: 0.7385571\tbest: 0.7387863 (249)\ttotal: 5.47s\tremaining: 27.3s\n"
     ]
    },
    {
     "name": "stderr",
     "output_type": "stream",
     "text": [
      "[I 2025-02-21 06:25:14,621] Trial 37 finished with value: 0.7387863099575043 and parameters: {'iterations': 1803, 'depth': 5, 'learning_rate': 0.09303272574346169, 'l2_leaf_reg': 3.6789380733914974}. Best is trial 6 with value: 0.7391588687896729.\n"
     ]
    },
    {
     "name": "stdout",
     "output_type": "stream",
     "text": [
      "bestTest = 0.73878631\n",
      "bestIteration = 249\n",
      "Shrink model to first 250 iterations.\n"
     ]
    },
    {
     "name": "stderr",
     "output_type": "stream",
     "text": [
      "Default metric period is 5 because AUC is/are not implemented for GPU\n"
     ]
    },
    {
     "name": "stdout",
     "output_type": "stream",
     "text": [
      "0:\ttest: 0.7192200\tbest: 0.7192200 (0)\ttotal: 26.5ms\tremaining: 57s\n",
      "300:\ttest: 0.7379039\tbest: 0.7382638 (249)\ttotal: 7.11s\tremaining: 43.7s\n",
      "bestTest = 0.7382637858\n",
      "bestIteration = 249\n",
      "Shrink model to first 250 iterations.\n"
     ]
    },
    {
     "name": "stderr",
     "output_type": "stream",
     "text": [
      "[I 2025-02-21 06:25:31,525] Trial 38 finished with value: 0.7382637858390808 and parameters: {'iterations': 2152, 'depth': 6, 'learning_rate': 0.09607895015050745, 'l2_leaf_reg': 1.213664289478371}. Best is trial 6 with value: 0.7391588687896729.\n",
      "Default metric period is 5 because AUC is/are not implemented for GPU\n"
     ]
    },
    {
     "name": "stdout",
     "output_type": "stream",
     "text": [
      "0:\ttest: 0.7007363\tbest: 0.7007363 (0)\ttotal: 20.7ms\tremaining: 39.9s\n",
      "300:\ttest: 0.7385934\tbest: 0.7385934 (300)\ttotal: 4.94s\tremaining: 26.8s\n",
      "600:\ttest: 0.7387554\tbest: 0.7387724 (586)\ttotal: 9.05s\tremaining: 20s\n",
      "900:\ttest: 0.7388317\tbest: 0.7389392 (856)\ttotal: 13.2s\tremaining: 15s\n"
     ]
    },
    {
     "name": "stderr",
     "output_type": "stream",
     "text": [
      "[I 2025-02-21 06:25:51,629] Trial 39 finished with value: 0.7389391660690308 and parameters: {'iterations': 1931, 'depth': 4, 'learning_rate': 0.08891965312100301, 'l2_leaf_reg': 12.584545151726887}. Best is trial 6 with value: 0.7391588687896729.\n",
      "[I 2025-02-21 06:25:51,634] A new study created in memory with name: no-name-e338c776-9b26-4faf-b906-a51cf48718df\n"
     ]
    },
    {
     "name": "stdout",
     "output_type": "stream",
     "text": [
      "bestTest = 0.7389391661\n",
      "bestIteration = 856\n",
      "Shrink model to first 857 iterations.\n"
     ]
    },
    {
     "name": "stderr",
     "output_type": "stream",
     "text": [
      "[I 2025-02-21 06:26:07,287] Trial 0 finished with value: 0.7276658219056258 and parameters: {'num_iterations': 2366, 'objective': 'binary', 'metric': 'auc', 'verbose': -1, 'learning_rate': 0.0652646236447618, 'n_estimators': 236, 'min_child_samples': 45, 'subsample': 0.7, 'colsample_bytree': 0.5}. Best is trial 0 with value: 0.7276658219056258.\n",
      "[I 2025-02-21 06:26:20,105] Trial 1 finished with value: 0.7382055704926177 and parameters: {'num_iterations': 1510, 'objective': 'binary', 'metric': 'auc', 'verbose': -1, 'learning_rate': 0.005231880959249543, 'n_estimators': 1411, 'min_child_samples': 10, 'subsample': 1.0, 'colsample_bytree': 0.5}. Best is trial 1 with value: 0.7382055704926177.\n",
      "[I 2025-02-21 06:26:31,656] Trial 2 finished with value: 0.73804879990447 and parameters: {'num_iterations': 2334, 'objective': 'binary', 'metric': 'auc', 'verbose': -1, 'learning_rate': 0.006578527777128852, 'n_estimators': 931, 'min_child_samples': 15, 'subsample': 0.5, 'colsample_bytree': 1.0}. Best is trial 1 with value: 0.7382055704926177.\n",
      "[I 2025-02-21 06:26:42,689] Trial 3 finished with value: 0.737976315347326 and parameters: {'num_iterations': 1620, 'objective': 'binary', 'metric': 'auc', 'verbose': -1, 'learning_rate': 0.0058823249237283685, 'n_estimators': 837, 'min_child_samples': 10, 'subsample': 0.9, 'colsample_bytree': 0.6}. Best is trial 1 with value: 0.7382055704926177.\n",
      "[I 2025-02-21 06:26:51,819] Trial 4 finished with value: 0.7383541967931186 and parameters: {'num_iterations': 1997, 'objective': 'binary', 'metric': 'auc', 'verbose': -1, 'learning_rate': 0.010907507425244923, 'n_estimators': 1597, 'min_child_samples': 50, 'subsample': 0.6, 'colsample_bytree': 0.8}. Best is trial 4 with value: 0.7383541967931186.\n",
      "[I 2025-02-21 06:27:03,710] Trial 5 finished with value: 0.7355242811909698 and parameters: {'num_iterations': 2909, 'objective': 'binary', 'metric': 'auc', 'verbose': -1, 'learning_rate': 0.019760591962733942, 'n_estimators': 612, 'min_child_samples': 30, 'subsample': 0.7, 'colsample_bytree': 0.9}. Best is trial 4 with value: 0.7383541967931186.\n",
      "[I 2025-02-21 06:27:14,644] Trial 6 finished with value: 0.7362372260163952 and parameters: {'num_iterations': 2639, 'objective': 'binary', 'metric': 'auc', 'verbose': -1, 'learning_rate': 0.017862094446750985, 'n_estimators': 794, 'min_child_samples': 35, 'subsample': 1.0, 'colsample_bytree': 0.8}. Best is trial 4 with value: 0.7383541967931186.\n",
      "[I 2025-02-21 06:27:25,279] Trial 7 finished with value: 0.7375347011776282 and parameters: {'num_iterations': 1580, 'objective': 'binary', 'metric': 'auc', 'verbose': -1, 'learning_rate': 0.01776722177611332, 'n_estimators': 529, 'min_child_samples': 25, 'subsample': 0.8, 'colsample_bytree': 0.5}. Best is trial 4 with value: 0.7383541967931186.\n",
      "[I 2025-02-21 06:27:35,049] Trial 8 finished with value: 0.7344461061632633 and parameters: {'num_iterations': 1911, 'objective': 'binary', 'metric': 'auc', 'verbose': -1, 'learning_rate': 0.0304747553332844, 'n_estimators': 1328, 'min_child_samples': 10, 'subsample': 0.7, 'colsample_bytree': 0.6}. Best is trial 4 with value: 0.7383541967931186.\n",
      "[I 2025-02-21 06:27:51,886] Trial 9 finished with value: 0.7339205633423223 and parameters: {'num_iterations': 2739, 'objective': 'binary', 'metric': 'auc', 'verbose': -1, 'learning_rate': 0.02691531614176271, 'n_estimators': 1438, 'min_child_samples': 20, 'subsample': 0.6, 'colsample_bytree': 0.5}. Best is trial 4 with value: 0.7383541967931186.\n",
      "[I 2025-02-21 06:28:01,000] Trial 10 finished with value: 0.7382294752276898 and parameters: {'num_iterations': 2005, 'objective': 'binary', 'metric': 'auc', 'verbose': -1, 'learning_rate': 0.010657060501116526, 'n_estimators': 1971, 'min_child_samples': 50, 'subsample': 0.5, 'colsample_bytree': 0.8}. Best is trial 4 with value: 0.7383541967931186.\n",
      "[I 2025-02-21 06:28:10,921] Trial 11 finished with value: 0.738456387550109 and parameters: {'num_iterations': 2009, 'objective': 'binary', 'metric': 'auc', 'verbose': -1, 'learning_rate': 0.009938030435229023, 'n_estimators': 1865, 'min_child_samples': 50, 'subsample': 0.5, 'colsample_bytree': 0.8}. Best is trial 11 with value: 0.738456387550109.\n",
      "[I 2025-02-21 06:28:20,287] Trial 12 finished with value: 0.7382350146139731 and parameters: {'num_iterations': 1988, 'objective': 'binary', 'metric': 'auc', 'verbose': -1, 'learning_rate': 0.01042045920074364, 'n_estimators': 1958, 'min_child_samples': 40, 'subsample': 0.6, 'colsample_bytree': 0.7}. Best is trial 11 with value: 0.738456387550109.\n",
      "[I 2025-02-21 06:28:30,437] Trial 13 finished with value: 0.7379710221559885 and parameters: {'num_iterations': 2139, 'objective': 'binary', 'metric': 'auc', 'verbose': -1, 'learning_rate': 0.011897574839912776, 'n_estimators': 1698, 'min_child_samples': 50, 'subsample': 0.6, 'colsample_bytree': 0.9}. Best is trial 11 with value: 0.738456387550109.\n",
      "[I 2025-02-21 06:28:39,432] Trial 14 finished with value: 0.7384795814965469 and parameters: {'num_iterations': 1767, 'objective': 'binary', 'metric': 'auc', 'verbose': -1, 'learning_rate': 0.0083199393220011, 'n_estimators': 1647, 'min_child_samples': 40, 'subsample': 0.5, 'colsample_bytree': 0.7}. Best is trial 14 with value: 0.7384795814965469.\n",
      "[I 2025-02-21 06:28:49,211] Trial 15 finished with value: 0.7383493721663558 and parameters: {'num_iterations': 1782, 'objective': 'binary', 'metric': 'auc', 'verbose': -1, 'learning_rate': 0.00749651169759204, 'n_estimators': 1752, 'min_child_samples': 40, 'subsample': 0.5, 'colsample_bytree': 0.7}. Best is trial 14 with value: 0.7384795814965469.\n",
      "[I 2025-02-21 06:28:58,350] Trial 16 finished with value: 0.7384584285856285 and parameters: {'num_iterations': 1768, 'objective': 'binary', 'metric': 'auc', 'verbose': -1, 'learning_rate': 0.00827947900584499, 'n_estimators': 1167, 'min_child_samples': 40, 'subsample': 0.5, 'colsample_bytree': 0.7}. Best is trial 14 with value: 0.7384795814965469.\n",
      "[I 2025-02-21 06:29:10,190] Trial 17 finished with value: 0.7383588149337978 and parameters: {'num_iterations': 1770, 'objective': 'binary', 'metric': 'auc', 'verbose': -1, 'learning_rate': 0.007684877909058336, 'n_estimators': 1154, 'min_child_samples': 35, 'subsample': 0.8, 'colsample_bytree': 0.6}. Best is trial 14 with value: 0.7384795814965469.\n",
      "[I 2025-02-21 06:29:20,480] Trial 18 finished with value: 0.7382582442983872 and parameters: {'num_iterations': 1747, 'objective': 'binary', 'metric': 'auc', 'verbose': -1, 'learning_rate': 0.005192673733367554, 'n_estimators': 1212, 'min_child_samples': 40, 'subsample': 0.5, 'colsample_bytree': 0.7}. Best is trial 14 with value: 0.7384795814965469.\n",
      "[I 2025-02-21 06:29:30,359] Trial 19 finished with value: 0.7374820909060383 and parameters: {'num_iterations': 2202, 'objective': 'binary', 'metric': 'auc', 'verbose': -1, 'learning_rate': 0.013856858584846005, 'n_estimators': 1573, 'min_child_samples': 30, 'subsample': 0.6, 'colsample_bytree': 0.7}. Best is trial 14 with value: 0.7384795814965469.\n",
      "[I 2025-02-21 06:29:42,015] Trial 20 finished with value: 0.7384713538202896 and parameters: {'num_iterations': 2521, 'objective': 'binary', 'metric': 'auc', 'verbose': -1, 'learning_rate': 0.007877155758725746, 'n_estimators': 1024, 'min_child_samples': 35, 'subsample': 0.9, 'colsample_bytree': 0.9}. Best is trial 14 with value: 0.7384795814965469.\n",
      "[I 2025-02-21 06:29:53,912] Trial 21 finished with value: 0.7381680575304538 and parameters: {'num_iterations': 2525, 'objective': 'binary', 'metric': 'auc', 'verbose': -1, 'learning_rate': 0.007981572824427349, 'n_estimators': 1027, 'min_child_samples': 35, 'subsample': 0.9, 'colsample_bytree': 1.0}. Best is trial 14 with value: 0.7384795814965469.\n",
      "[I 2025-02-21 06:30:05,657] Trial 22 finished with value: 0.7383413271508646 and parameters: {'num_iterations': 2559, 'objective': 'binary', 'metric': 'auc', 'verbose': -1, 'learning_rate': 0.007898374361181647, 'n_estimators': 1213, 'min_child_samples': 40, 'subsample': 0.9, 'colsample_bytree': 0.9}. Best is trial 14 with value: 0.7384795814965469.\n",
      "[I 2025-02-21 06:30:16,948] Trial 23 finished with value: 0.737481201427524 and parameters: {'num_iterations': 2427, 'objective': 'binary', 'metric': 'auc', 'verbose': -1, 'learning_rate': 0.013978764606979253, 'n_estimators': 576, 'min_child_samples': 45, 'subsample': 0.8, 'colsample_bytree': 0.9}. Best is trial 14 with value: 0.7384795814965469.\n",
      "[I 2025-02-21 06:30:35,203] Trial 24 finished with value: 0.7382843687588588 and parameters: {'num_iterations': 2992, 'objective': 'binary', 'metric': 'auc', 'verbose': -1, 'learning_rate': 0.005074094456962596, 'n_estimators': 1104, 'min_child_samples': 25, 'subsample': 0.9, 'colsample_bytree': 0.6}. Best is trial 14 with value: 0.7384795814965469.\n",
      "[I 2025-02-21 06:30:45,722] Trial 25 finished with value: 0.738457253203306 and parameters: {'num_iterations': 2124, 'objective': 'binary', 'metric': 'auc', 'verbose': -1, 'learning_rate': 0.008883021712741569, 'n_estimators': 710, 'min_child_samples': 45, 'subsample': 1.0, 'colsample_bytree': 0.7}. Best is trial 14 with value: 0.7384795814965469.\n",
      "[I 2025-02-21 06:30:55,127] Trial 26 finished with value: 0.738343118020552 and parameters: {'num_iterations': 1839, 'objective': 'binary', 'metric': 'auc', 'verbose': -1, 'learning_rate': 0.006560862459482555, 'n_estimators': 1347, 'min_child_samples': 35, 'subsample': 0.7, 'colsample_bytree': 0.8}. Best is trial 14 with value: 0.7384795814965469.\n",
      "[I 2025-02-21 06:31:03,953] Trial 27 finished with value: 0.7379431465346917 and parameters: {'num_iterations': 1665, 'objective': 'binary', 'metric': 'auc', 'verbose': -1, 'learning_rate': 0.0067987996220265174, 'n_estimators': 270, 'min_child_samples': 25, 'subsample': 0.5, 'colsample_bytree': 1.0}. Best is trial 14 with value: 0.7384795814965469.\n",
      "[I 2025-02-21 06:31:17,842] Trial 28 finished with value: 0.7383471643536148 and parameters: {'num_iterations': 2740, 'objective': 'binary', 'metric': 'auc', 'verbose': -1, 'learning_rate': 0.008852667065915495, 'n_estimators': 938, 'min_child_samples': 30, 'subsample': 0.8, 'colsample_bytree': 0.7}. Best is trial 14 with value: 0.7384795814965469.\n",
      "[I 2025-02-21 06:31:30,114] Trial 29 finished with value: 0.7267983103339074 and parameters: {'num_iterations': 2362, 'objective': 'binary', 'metric': 'auc', 'verbose': -1, 'learning_rate': 0.07234407408474254, 'n_estimators': 359, 'min_child_samples': 45, 'subsample': 0.6, 'colsample_bytree': 0.6}. Best is trial 14 with value: 0.7384795814965469.\n",
      "[I 2025-02-21 06:31:39,101] Trial 30 finished with value: 0.7380108541157077 and parameters: {'num_iterations': 1868, 'objective': 'binary', 'metric': 'auc', 'verbose': -1, 'learning_rate': 0.013473179831780013, 'n_estimators': 104, 'min_child_samples': 40, 'subsample': 0.7, 'colsample_bytree': 0.9}. Best is trial 14 with value: 0.7384795814965469.\n",
      "[I 2025-02-21 06:31:49,682] Trial 31 finished with value: 0.7383422960471034 and parameters: {'num_iterations': 2136, 'objective': 'binary', 'metric': 'auc', 'verbose': -1, 'learning_rate': 0.008808589618974409, 'n_estimators': 694, 'min_child_samples': 45, 'subsample': 1.0, 'colsample_bytree': 0.7}. Best is trial 14 with value: 0.7384795814965469.\n",
      "[I 2025-02-21 06:31:57,901] Trial 32 finished with value: 0.7385786590787372 and parameters: {'num_iterations': 1502, 'objective': 'binary', 'metric': 'auc', 'verbose': -1, 'learning_rate': 0.008813357058276265, 'n_estimators': 403, 'min_child_samples': 45, 'subsample': 1.0, 'colsample_bytree': 0.7}. Best is trial 32 with value: 0.7385786590787372.\n",
      "[I 2025-02-21 06:32:06,790] Trial 33 finished with value: 0.7381367550343452 and parameters: {'num_iterations': 1547, 'objective': 'binary', 'metric': 'auc', 'verbose': -1, 'learning_rate': 0.0060050687373575246, 'n_estimators': 1524, 'min_child_samples': 35, 'subsample': 0.9, 'colsample_bytree': 0.8}. Best is trial 32 with value: 0.7385786590787372.\n",
      "[I 2025-02-21 06:32:17,243] Trial 34 finished with value: 0.7382030013292303 and parameters: {'num_iterations': 1502, 'objective': 'binary', 'metric': 'auc', 'verbose': -1, 'learning_rate': 0.006326843227859586, 'n_estimators': 489, 'min_child_samples': 40, 'subsample': 1.0, 'colsample_bytree': 0.6}. Best is trial 32 with value: 0.7385786590787372.\n",
      "[I 2025-02-21 06:32:26,542] Trial 35 finished with value: 0.7383598314806714 and parameters: {'num_iterations': 1684, 'objective': 'binary', 'metric': 'auc', 'verbose': -1, 'learning_rate': 0.005806200099116752, 'n_estimators': 990, 'min_child_samples': 45, 'subsample': 1.0, 'colsample_bytree': 0.7}. Best is trial 32 with value: 0.7385786590787372.\n",
      "[I 2025-02-21 06:32:34,858] Trial 36 finished with value: 0.7382315718556164 and parameters: {'num_iterations': 1640, 'objective': 'binary', 'metric': 'auc', 'verbose': -1, 'learning_rate': 0.007247364632091568, 'n_estimators': 1740, 'min_child_samples': 35, 'subsample': 0.9, 'colsample_bytree': 0.8}. Best is trial 32 with value: 0.7385786590787372.\n",
      "[I 2025-02-21 06:32:45,591] Trial 37 finished with value: 0.7383582788641575 and parameters: {'num_iterations': 1706, 'objective': 'binary', 'metric': 'auc', 'verbose': -1, 'learning_rate': 0.009372284502549037, 'n_estimators': 823, 'min_child_samples': 45, 'subsample': 1.0, 'colsample_bytree': 0.6}. Best is trial 32 with value: 0.7385786590787372.\n",
      "[I 2025-02-21 06:33:00,617] Trial 38 finished with value: 0.7376044974447983 and parameters: {'num_iterations': 2459, 'objective': 'binary', 'metric': 'auc', 'verbose': -1, 'learning_rate': 0.012607617737742537, 'n_estimators': 1453, 'min_child_samples': 40, 'subsample': 0.5, 'colsample_bytree': 0.7}. Best is trial 32 with value: 0.7385786590787372.\n",
      "[I 2025-02-21 06:33:08,589] Trial 39 finished with value: 0.7384451340585485 and parameters: {'num_iterations': 1575, 'objective': 'binary', 'metric': 'auc', 'verbose': -1, 'learning_rate': 0.011414477122008233, 'n_estimators': 422, 'min_child_samples': 30, 'subsample': 0.9, 'colsample_bytree': 0.8}. Best is trial 32 with value: 0.7385786590787372.\n"
     ]
    },
    {
     "name": "stdout",
     "output_type": "stream",
     "text": [
      "Cat val score : 0.7391588889447638\n",
      "LGBM val score : 0.738617831871343\n",
      "Ensemble val score : 0.7392552305863451\n"
     ]
    },
    {
     "name": "stderr",
     "output_type": "stream",
     "text": [
      "[I 2025-02-21 06:33:18,559] A new study created in memory with name: no-name-e4d8ac3f-93dc-4467-bf83-87085dabb177\n"
     ]
    },
    {
     "name": "stdout",
     "output_type": "stream",
     "text": [
      "==================================================\n"
     ]
    },
    {
     "name": "stderr",
     "output_type": "stream",
     "text": [
      "Default metric period is 5 because AUC is/are not implemented for GPU\n"
     ]
    },
    {
     "name": "stdout",
     "output_type": "stream",
     "text": [
      "0:\ttest: 0.7203070\tbest: 0.7203070 (0)\ttotal: 80.5ms\tremaining: 3m 10s\n",
      "300:\ttest: 0.7369917\tbest: 0.7369917 (300)\ttotal: 24.1s\tremaining: 2m 45s\n",
      "600:\ttest: 0.7382882\tbest: 0.7382882 (600)\ttotal: 48.3s\tremaining: 2m 21s\n",
      "900:\ttest: 0.7386873\tbest: 0.7386897 (898)\ttotal: 1m 12s\tremaining: 1m 58s\n",
      "1200:\ttest: 0.7387474\tbest: 0.7387996 (1008)\ttotal: 1m 37s\tremaining: 1m 34s\n",
      "bestTest = 0.7387996316\n",
      "bestIteration = 1008\n",
      "Shrink model to first 1009 iterations.\n"
     ]
    },
    {
     "name": "stderr",
     "output_type": "stream",
     "text": [
      "[I 2025-02-21 06:35:06,283] Trial 0 finished with value: 0.7387996315956116 and parameters: {'iterations': 2366, 'depth': 10, 'learning_rate': 0.01181021951839225, 'l2_leaf_reg': 9.980783802743254}. Best is trial 0 with value: 0.7387996315956116.\n"
     ]
    },
    {
     "name": "stdout",
     "output_type": "stream",
     "text": [
      "저장 완료\n"
     ]
    },
    {
     "name": "stderr",
     "output_type": "stream",
     "text": [
      "Default metric period is 5 because AUC is/are not implemented for GPU\n"
     ]
    },
    {
     "name": "stdout",
     "output_type": "stream",
     "text": [
      "0:\ttest: 0.6982180\tbest: 0.6982180 (0)\ttotal: 22.1ms\tremaining: 48.3s\n",
      "300:\ttest: 0.7262762\tbest: 0.7262762 (300)\ttotal: 5.09s\tremaining: 32s\n",
      "600:\ttest: 0.7314804\tbest: 0.7314804 (600)\ttotal: 9.2s\tremaining: 24.4s\n",
      "900:\ttest: 0.7336601\tbest: 0.7336601 (900)\ttotal: 13.3s\tremaining: 19.1s\n",
      "1200:\ttest: 0.7350134\tbest: 0.7350134 (1200)\ttotal: 17.4s\tremaining: 14.4s\n",
      "1500:\ttest: 0.7358322\tbest: 0.7358322 (1500)\ttotal: 21.5s\tremaining: 9.93s\n",
      "1800:\ttest: 0.7363796\tbest: 0.7363796 (1800)\ttotal: 25.6s\tremaining: 5.57s\n",
      "2100:\ttest: 0.7368237\tbest: 0.7368237 (2100)\ttotal: 29.7s\tremaining: 1.3s\n"
     ]
    },
    {
     "name": "stderr",
     "output_type": "stream",
     "text": [
      "[I 2025-02-21 06:35:40,608] Trial 1 finished with value: 0.736924797296524 and parameters: {'iterations': 2193, 'depth': 4, 'learning_rate': 0.005671430811678843, 'l2_leaf_reg': 0.00012325230809466137}. Best is trial 0 with value: 0.7387996315956116.\n"
     ]
    },
    {
     "name": "stdout",
     "output_type": "stream",
     "text": [
      "2192:\ttest: 0.7369236\tbest: 0.7369248 (2190)\ttotal: 30.9s\tremaining: 0us\n",
      "bestTest = 0.7369247973\n",
      "bestIteration = 2190\n",
      "Shrink model to first 2191 iterations.\n"
     ]
    },
    {
     "name": "stderr",
     "output_type": "stream",
     "text": [
      "Default metric period is 5 because AUC is/are not implemented for GPU\n"
     ]
    },
    {
     "name": "stdout",
     "output_type": "stream",
     "text": [
      "0:\ttest: 0.6982180\tbest: 0.6982180 (0)\ttotal: 21.6ms\tremaining: 54.8s\n",
      "300:\ttest: 0.7380780\tbest: 0.7380847 (299)\ttotal: 5.67s\tremaining: 42.1s\n",
      "600:\ttest: 0.7381140\tbest: 0.7383959 (354)\ttotal: 11.3s\tremaining: 36.5s\n"
     ]
    },
    {
     "name": "stderr",
     "output_type": "stream",
     "text": [
      "[I 2025-02-21 06:35:56,315] Trial 2 finished with value: 0.7383959293365479 and parameters: {'iterations': 2535, 'depth': 4, 'learning_rate': 0.09275339199839054, 'l2_leaf_reg': 0.0008705394248343123}. Best is trial 0 with value: 0.7387996315956116.\n"
     ]
    },
    {
     "name": "stdout",
     "output_type": "stream",
     "text": [
      "bestTest = 0.7383959293\n",
      "bestIteration = 354\n",
      "Shrink model to first 355 iterations.\n"
     ]
    },
    {
     "name": "stderr",
     "output_type": "stream",
     "text": [
      "Default metric period is 5 because AUC is/are not implemented for GPU\n"
     ]
    },
    {
     "name": "stdout",
     "output_type": "stream",
     "text": [
      "0:\ttest: 0.6982180\tbest: 0.6982180 (0)\ttotal: 19.2ms\tremaining: 44.8s\n",
      "300:\ttest: 0.7372520\tbest: 0.7372520 (300)\ttotal: 5.56s\tremaining: 37.5s\n",
      "600:\ttest: 0.7384467\tbest: 0.7384767 (584)\ttotal: 11.1s\tremaining: 32s\n",
      "900:\ttest: 0.7388074\tbest: 0.7388296 (854)\ttotal: 16.7s\tremaining: 26.6s\n",
      "1200:\ttest: 0.7386154\tbest: 0.7388741 (919)\ttotal: 22.3s\tremaining: 21.1s\n"
     ]
    },
    {
     "name": "stderr",
     "output_type": "stream",
     "text": [
      "[I 2025-02-21 06:36:22,291] Trial 3 finished with value: 0.7388741374015808 and parameters: {'iterations': 2334, 'depth': 4, 'learning_rate': 0.04657568321363276, 'l2_leaf_reg': 0.0008640473331457248}. Best is trial 3 with value: 0.7388741374015808.\n"
     ]
    },
    {
     "name": "stdout",
     "output_type": "stream",
     "text": [
      "bestTest = 0.7388741374\n",
      "bestIteration = 919\n",
      "Shrink model to first 920 iterations.\n",
      "저장 완료\n"
     ]
    },
    {
     "name": "stderr",
     "output_type": "stream",
     "text": [
      "Default metric period is 5 because AUC is/are not implemented for GPU\n"
     ]
    },
    {
     "name": "stdout",
     "output_type": "stream",
     "text": [
      "0:\ttest: 0.7202984\tbest: 0.7202984 (0)\ttotal: 96.9ms\tremaining: 2m 48s\n",
      "300:\ttest: 0.7357345\tbest: 0.7358577 (273)\ttotal: 27s\tremaining: 2m 9s\n",
      "600:\ttest: 0.7358326\tbest: 0.7361951 (474)\ttotal: 51.4s\tremaining: 1m 37s\n",
      "bestTest = 0.736195147\n",
      "bestIteration = 474\n",
      "Shrink model to first 475 iterations.\n"
     ]
    },
    {
     "name": "stderr",
     "output_type": "stream",
     "text": [
      "[I 2025-02-21 06:37:31,181] Trial 4 finished with value: 0.7361951470375061 and parameters: {'iterations': 1742, 'depth': 10, 'learning_rate': 0.012622767482095846, 'l2_leaf_reg': 0.00021158816350109617}. Best is trial 3 with value: 0.7388741374015808.\n",
      "Default metric period is 5 because AUC is/are not implemented for GPU\n"
     ]
    },
    {
     "name": "stdout",
     "output_type": "stream",
     "text": [
      "0:\ttest: 0.6982180\tbest: 0.6982180 (0)\ttotal: 20.1ms\tremaining: 41.8s\n",
      "300:\ttest: 0.7379396\tbest: 0.7379396 (300)\ttotal: 4.7s\tremaining: 27.8s\n",
      "600:\ttest: 0.7384991\tbest: 0.7385859 (583)\ttotal: 8.8s\tremaining: 21.7s\n",
      "900:\ttest: 0.7384962\tbest: 0.7386522 (675)\ttotal: 12.9s\tremaining: 16.9s\n"
     ]
    },
    {
     "name": "stderr",
     "output_type": "stream",
     "text": [
      "[I 2025-02-21 06:37:48,397] Trial 5 finished with value: 0.7386521995067596 and parameters: {'iterations': 2082, 'depth': 4, 'learning_rate': 0.06995196593094148, 'l2_leaf_reg': 0.0018080296485396804}. Best is trial 3 with value: 0.7388741374015808.\n"
     ]
    },
    {
     "name": "stdout",
     "output_type": "stream",
     "text": [
      "bestTest = 0.7386521995\n",
      "bestIteration = 675\n",
      "Shrink model to first 676 iterations.\n"
     ]
    },
    {
     "name": "stderr",
     "output_type": "stream",
     "text": [
      "Default metric period is 5 because AUC is/are not implemented for GPU\n"
     ]
    },
    {
     "name": "stdout",
     "output_type": "stream",
     "text": [
      "0:\ttest: 0.7039803\tbest: 0.7039803 (0)\ttotal: 18.2ms\tremaining: 36.3s\n",
      "300:\ttest: 0.7386018\tbest: 0.7386375 (292)\ttotal: 5.43s\tremaining: 30.6s\n",
      "600:\ttest: 0.7391270\tbest: 0.7391291 (598)\ttotal: 11.1s\tremaining: 25.9s\n"
     ]
    },
    {
     "name": "stderr",
     "output_type": "stream",
     "text": [
      "[I 2025-02-21 06:38:08,814] Trial 6 finished with value: 0.7391290664672852 and parameters: {'iterations': 1997, 'depth': 5, 'learning_rate': 0.07985155992831598, 'l2_leaf_reg': 62.52181000710482}. Best is trial 6 with value: 0.7391290664672852.\n"
     ]
    },
    {
     "name": "stdout",
     "output_type": "stream",
     "text": [
      "bestTest = 0.7391290665\n",
      "bestIteration = 598\n",
      "Shrink model to first 599 iterations.\n",
      "저장 완료\n"
     ]
    },
    {
     "name": "stderr",
     "output_type": "stream",
     "text": [
      "Default metric period is 5 because AUC is/are not implemented for GPU\n"
     ]
    },
    {
     "name": "stdout",
     "output_type": "stream",
     "text": [
      "0:\ttest: 0.7181616\tbest: 0.7181616 (0)\ttotal: 37.7ms\tremaining: 1m 12s\n",
      "300:\ttest: 0.7369187\tbest: 0.7376865 (177)\ttotal: 9.3s\tremaining: 50.3s\n"
     ]
    },
    {
     "name": "stderr",
     "output_type": "stream",
     "text": [
      "[I 2025-02-21 06:38:26,457] Trial 7 finished with value: 0.7376864552497864 and parameters: {'iterations': 1927, 'depth': 7, 'learning_rate': 0.0941937211034094, 'l2_leaf_reg': 0.05654822767791934}. Best is trial 6 with value: 0.7391290664672852.\n"
     ]
    },
    {
     "name": "stdout",
     "output_type": "stream",
     "text": [
      "bestTest = 0.7376864552\n",
      "bestIteration = 177\n",
      "Shrink model to first 178 iterations.\n"
     ]
    },
    {
     "name": "stderr",
     "output_type": "stream",
     "text": [
      "Default metric period is 5 because AUC is/are not implemented for GPU\n"
     ]
    },
    {
     "name": "stdout",
     "output_type": "stream",
     "text": [
      "0:\ttest: 0.7181614\tbest: 0.7181614 (0)\ttotal: 40.7ms\tremaining: 1m 17s\n",
      "300:\ttest: 0.7386843\tbest: 0.7386877 (292)\ttotal: 10.6s\tremaining: 56.5s\n",
      "600:\ttest: 0.7382964\tbest: 0.7388669 (366)\ttotal: 19.1s\tremaining: 41.5s\n"
     ]
    },
    {
     "name": "stderr",
     "output_type": "stream",
     "text": [
      "[I 2025-02-21 06:38:50,753] Trial 8 finished with value: 0.738866925239563 and parameters: {'iterations': 1904, 'depth': 7, 'learning_rate': 0.05155602859187331, 'l2_leaf_reg': 1.299974533316308}. Best is trial 6 with value: 0.7391290664672852.\n"
     ]
    },
    {
     "name": "stdout",
     "output_type": "stream",
     "text": [
      "bestTest = 0.7388669252\n",
      "bestIteration = 366\n",
      "Shrink model to first 367 iterations.\n"
     ]
    },
    {
     "name": "stderr",
     "output_type": "stream",
     "text": [
      "Default metric period is 5 because AUC is/are not implemented for GPU\n"
     ]
    },
    {
     "name": "stdout",
     "output_type": "stream",
     "text": [
      "0:\ttest: 0.7161891\tbest: 0.7161891 (0)\ttotal: 36.8ms\tremaining: 1m 36s\n",
      "300:\ttest: 0.7376666\tbest: 0.7376666 (300)\ttotal: 9.42s\tremaining: 1m 13s\n",
      "600:\ttest: 0.7384529\tbest: 0.7384749 (594)\ttotal: 17.2s\tremaining: 58.3s\n",
      "900:\ttest: 0.7380691\tbest: 0.7384933 (615)\ttotal: 24.7s\tremaining: 47.7s\n"
     ]
    },
    {
     "name": "stderr",
     "output_type": "stream",
     "text": [
      "[I 2025-02-21 06:39:19,256] Trial 9 finished with value: 0.7384933233261108 and parameters: {'iterations': 2639, 'depth': 6, 'learning_rate': 0.03968704290444751, 'l2_leaf_reg': 0.30557194377967184}. Best is trial 6 with value: 0.7391290664672852.\n"
     ]
    },
    {
     "name": "stdout",
     "output_type": "stream",
     "text": [
      "bestTest = 0.7384933233\n",
      "bestIteration = 615\n",
      "Shrink model to first 616 iterations.\n"
     ]
    },
    {
     "name": "stderr",
     "output_type": "stream",
     "text": [
      "Default metric period is 5 because AUC is/are not implemented for GPU\n"
     ]
    },
    {
     "name": "stdout",
     "output_type": "stream",
     "text": [
      "0:\ttest: 0.7161660\tbest: 0.7161660 (0)\ttotal: 30.7ms\tremaining: 1m 30s\n",
      "300:\ttest: 0.7386662\tbest: 0.7386671 (299)\ttotal: 7.33s\tremaining: 1m 4s\n",
      "600:\ttest: 0.7388124\tbest: 0.7389455 (392)\ttotal: 14s\tremaining: 54.5s\n"
     ]
    },
    {
     "name": "stderr",
     "output_type": "stream",
     "text": [
      "[I 2025-02-21 06:39:38,629] Trial 10 finished with value: 0.738945484161377 and parameters: {'iterations': 2945, 'depth': 6, 'learning_rate': 0.07265276039199581, 'l2_leaf_reg': 97.18545559492446}. Best is trial 6 with value: 0.7391290664672852.\n"
     ]
    },
    {
     "name": "stdout",
     "output_type": "stream",
     "text": [
      "bestTest = 0.7389454842\n",
      "bestIteration = 392\n",
      "Shrink model to first 393 iterations.\n"
     ]
    },
    {
     "name": "stderr",
     "output_type": "stream",
     "text": [
      "Default metric period is 5 because AUC is/are not implemented for GPU\n"
     ]
    },
    {
     "name": "stdout",
     "output_type": "stream",
     "text": [
      "0:\ttest: 0.7161709\tbest: 0.7161709 (0)\ttotal: 29.8ms\tremaining: 1m 29s\n",
      "300:\ttest: 0.7387818\tbest: 0.7387818 (300)\ttotal: 7.3s\tremaining: 1m 5s\n",
      "600:\ttest: 0.7388601\tbest: 0.7389308 (512)\ttotal: 14s\tremaining: 55.8s\n",
      "900:\ttest: 0.7385999\tbest: 0.7389312 (638)\ttotal: 20.7s\tremaining: 48s\n"
     ]
    },
    {
     "name": "stderr",
     "output_type": "stream",
     "text": [
      "[I 2025-02-21 06:40:03,517] Trial 11 finished with value: 0.7389312088489532 and parameters: {'iterations': 2994, 'depth': 6, 'learning_rate': 0.07131044509072976, 'l2_leaf_reg': 73.12133513928158}. Best is trial 6 with value: 0.7391290664672852.\n"
     ]
    },
    {
     "name": "stdout",
     "output_type": "stream",
     "text": [
      "bestTest = 0.7389312088\n",
      "bestIteration = 638\n",
      "Shrink model to first 639 iterations.\n"
     ]
    },
    {
     "name": "stderr",
     "output_type": "stream",
     "text": [
      "Default metric period is 5 because AUC is/are not implemented for GPU\n"
     ]
    },
    {
     "name": "stdout",
     "output_type": "stream",
     "text": [
      "0:\ttest: 0.7161660\tbest: 0.7161660 (0)\ttotal: 30.3ms\tremaining: 48s\n",
      "300:\ttest: 0.7385636\tbest: 0.7385684 (299)\ttotal: 7.32s\tremaining: 31.3s\n",
      "600:\ttest: 0.7386487\tbest: 0.7387323 (508)\ttotal: 13.9s\tremaining: 22.9s\n"
     ]
    },
    {
     "name": "stderr",
     "output_type": "stream",
     "text": [
      "[I 2025-02-21 06:40:25,339] Trial 12 finished with value: 0.7387323081493378 and parameters: {'iterations': 1588, 'depth': 6, 'learning_rate': 0.07674945667870968, 'l2_leaf_reg': 87.13438924619733}. Best is trial 6 with value: 0.7391290664672852.\n"
     ]
    },
    {
     "name": "stdout",
     "output_type": "stream",
     "text": [
      "bestTest = 0.7387323081\n",
      "bestIteration = 508\n",
      "Shrink model to first 509 iterations.\n"
     ]
    },
    {
     "name": "stderr",
     "output_type": "stream",
     "text": [
      "Default metric period is 5 because AUC is/are not implemented for GPU\n"
     ]
    },
    {
     "name": "stdout",
     "output_type": "stream",
     "text": [
      "0:\ttest: 0.7039868\tbest: 0.7039868 (0)\ttotal: 18.3ms\tremaining: 54.5s\n",
      "300:\ttest: 0.7382143\tbest: 0.7382865 (293)\ttotal: 5.32s\tremaining: 47.3s\n",
      "600:\ttest: 0.7381134\tbest: 0.7383343 (451)\ttotal: 10.6s\tremaining: 41.9s\n"
     ]
    },
    {
     "name": "stderr",
     "output_type": "stream",
     "text": [
      "[I 2025-02-21 06:40:41,919] Trial 13 finished with value: 0.7383342981338501 and parameters: {'iterations': 2975, 'depth': 5, 'learning_rate': 0.07888750974731618, 'l2_leaf_reg': 10.019996908534585}. Best is trial 6 with value: 0.7391290664672852.\n"
     ]
    },
    {
     "name": "stdout",
     "output_type": "stream",
     "text": [
      "bestTest = 0.7383342981\n",
      "bestIteration = 451\n",
      "Shrink model to first 452 iterations.\n"
     ]
    },
    {
     "name": "stderr",
     "output_type": "stream",
     "text": [
      "Default metric period is 5 because AUC is/are not implemented for GPU\n"
     ]
    },
    {
     "name": "stdout",
     "output_type": "stream",
     "text": [
      "0:\ttest: 0.7203957\tbest: 0.7203957 (0)\ttotal: 46.5ms\tremaining: 2m 5s\n",
      "300:\ttest: 0.7383515\tbest: 0.7383713 (291)\ttotal: 12.1s\tremaining: 1m 36s\n",
      "600:\ttest: 0.7382358\tbest: 0.7386032 (406)\ttotal: 23.5s\tremaining: 1m 22s\n"
     ]
    },
    {
     "name": "stderr",
     "output_type": "stream",
     "text": [
      "[I 2025-02-21 06:41:12,797] Trial 14 finished with value: 0.7386032342910767 and parameters: {'iterations': 2702, 'depth': 8, 'learning_rate': 0.06308101933412968, 'l2_leaf_reg': 92.74223128282532}. Best is trial 6 with value: 0.7391290664672852.\n"
     ]
    },
    {
     "name": "stdout",
     "output_type": "stream",
     "text": [
      "bestTest = 0.7386032343\n",
      "bestIteration = 406\n",
      "Shrink model to first 407 iterations.\n"
     ]
    },
    {
     "name": "stderr",
     "output_type": "stream",
     "text": [
      "Default metric period is 5 because AUC is/are not implemented for GPU\n"
     ]
    },
    {
     "name": "stdout",
     "output_type": "stream",
     "text": [
      "0:\ttest: 0.7205381\tbest: 0.7205381 (0)\ttotal: 38ms\tremaining: 57.4s\n",
      "300:\ttest: 0.7385924\tbest: 0.7390241 (171)\ttotal: 11.5s\tremaining: 46.4s\n"
     ]
    },
    {
     "name": "stderr",
     "output_type": "stream",
     "text": [
      "[I 2025-02-21 06:41:34,044] Trial 15 finished with value: 0.7390241324901581 and parameters: {'iterations': 1513, 'depth': 8, 'learning_rate': 0.08625378621185843, 'l2_leaf_reg': 7.451035024616121}. Best is trial 6 with value: 0.7391290664672852.\n"
     ]
    },
    {
     "name": "stdout",
     "output_type": "stream",
     "text": [
      "bestTest = 0.7390241325\n",
      "bestIteration = 171\n",
      "Shrink model to first 172 iterations.\n"
     ]
    },
    {
     "name": "stderr",
     "output_type": "stream",
     "text": [
      "Default metric period is 5 because AUC is/are not implemented for GPU\n"
     ]
    },
    {
     "name": "stdout",
     "output_type": "stream",
     "text": [
      "0:\ttest: 0.7207224\tbest: 0.7207224 (0)\ttotal: 63.3ms\tremaining: 1m 35s\n",
      "300:\ttest: 0.7372863\tbest: 0.7384996 (143)\ttotal: 16.3s\tremaining: 1m 5s\n"
     ]
    },
    {
     "name": "stderr",
     "output_type": "stream",
     "text": [
      "[I 2025-02-21 06:42:01,260] Trial 16 finished with value: 0.7384995818138123 and parameters: {'iterations': 1515, 'depth': 9, 'learning_rate': 0.08643036237287802, 'l2_leaf_reg': 6.322723243121181}. Best is trial 6 with value: 0.7391290664672852.\n"
     ]
    },
    {
     "name": "stdout",
     "output_type": "stream",
     "text": [
      "bestTest = 0.7384995818\n",
      "bestIteration = 143\n",
      "Shrink model to first 144 iterations.\n"
     ]
    },
    {
     "name": "stderr",
     "output_type": "stream",
     "text": [
      "Default metric period is 5 because AUC is/are not implemented for GPU\n"
     ]
    },
    {
     "name": "stdout",
     "output_type": "stream",
     "text": [
      "0:\ttest: 0.7205436\tbest: 0.7205436 (0)\ttotal: 48.2ms\tremaining: 1m 27s\n",
      "300:\ttest: 0.7376020\tbest: 0.7383178 (116)\ttotal: 12.1s\tremaining: 1m 1s\n"
     ]
    },
    {
     "name": "stderr",
     "output_type": "stream",
     "text": [
      "[I 2025-02-21 06:42:21,071] Trial 17 finished with value: 0.7383178174495697 and parameters: {'iterations': 1821, 'depth': 8, 'learning_rate': 0.09882008335430675, 'l2_leaf_reg': 1.9690445489611057}. Best is trial 6 with value: 0.7391290664672852.\n"
     ]
    },
    {
     "name": "stdout",
     "output_type": "stream",
     "text": [
      "bestTest = 0.7383178174\n",
      "bestIteration = 116\n",
      "Shrink model to first 117 iterations.\n"
     ]
    },
    {
     "name": "stderr",
     "output_type": "stream",
     "text": [
      "Default metric period is 5 because AUC is/are not implemented for GPU\n"
     ]
    },
    {
     "name": "stdout",
     "output_type": "stream",
     "text": [
      "0:\ttest: 0.7205133\tbest: 0.7205133 (0)\ttotal: 37.8ms\tremaining: 1m 1s\n",
      "300:\ttest: 0.7388358\tbest: 0.7389390 (170)\ttotal: 11.5s\tremaining: 51.1s\n"
     ]
    },
    {
     "name": "stderr",
     "output_type": "stream",
     "text": [
      "[I 2025-02-21 06:42:42,446] Trial 18 finished with value: 0.7389390170574188 and parameters: {'iterations': 1637, 'depth': 8, 'learning_rate': 0.08426562474655346, 'l2_leaf_reg': 18.051943549542695}. Best is trial 6 with value: 0.7391290664672852.\n"
     ]
    },
    {
     "name": "stdout",
     "output_type": "stream",
     "text": [
      "bestTest = 0.7389390171\n",
      "bestIteration = 170\n",
      "Shrink model to first 171 iterations.\n"
     ]
    },
    {
     "name": "stderr",
     "output_type": "stream",
     "text": [
      "Default metric period is 5 because AUC is/are not implemented for GPU\n"
     ]
    },
    {
     "name": "stdout",
     "output_type": "stream",
     "text": [
      "0:\ttest: 0.7039871\tbest: 0.7039871 (0)\ttotal: 19.7ms\tremaining: 41.1s\n",
      "300:\ttest: 0.7383692\tbest: 0.7384833 (288)\ttotal: 5.41s\tremaining: 32.2s\n"
     ]
    },
    {
     "name": "stderr",
     "output_type": "stream",
     "text": [
      "[I 2025-02-21 06:42:56,285] Trial 19 finished with value: 0.7384833097457886 and parameters: {'iterations': 2094, 'depth': 5, 'learning_rate': 0.09878101108921525, 'l2_leaf_reg': 1.5383214678443413}. Best is trial 6 with value: 0.7391290664672852.\n"
     ]
    },
    {
     "name": "stdout",
     "output_type": "stream",
     "text": [
      "bestTest = 0.7384833097\n",
      "bestIteration = 288\n",
      "Shrink model to first 289 iterations.\n"
     ]
    },
    {
     "name": "stderr",
     "output_type": "stream",
     "text": [
      "Default metric period is 5 because AUC is/are not implemented for GPU\n"
     ]
    },
    {
     "name": "stdout",
     "output_type": "stream",
     "text": [
      "0:\ttest: 0.7039868\tbest: 0.7039868 (0)\ttotal: 23.3ms\tremaining: 40.2s\n",
      "300:\ttest: 0.7382609\tbest: 0.7382693 (299)\ttotal: 6.21s\tremaining: 29.4s\n",
      "600:\ttest: 0.7390324\tbest: 0.7390389 (596)\ttotal: 11.4s\tremaining: 21.4s\n",
      "900:\ttest: 0.7387163\tbest: 0.7390505 (605)\ttotal: 16.7s\tremaining: 15.3s\n",
      "bestTest = 0.7390505075\n",
      "bestIteration = 605\n",
      "Shrink model to first 606 iterations.\n"
     ]
    },
    {
     "name": "stderr",
     "output_type": "stream",
     "text": [
      "[I 2025-02-21 06:43:16,424] Trial 20 finished with value: 0.7390505075454712 and parameters: {'iterations': 1726, 'depth': 5, 'learning_rate': 0.06294477957831263, 'l2_leaf_reg': 25.121986351201187}. Best is trial 6 with value: 0.7391290664672852.\n",
      "Default metric period is 5 because AUC is/are not implemented for GPU\n"
     ]
    },
    {
     "name": "stdout",
     "output_type": "stream",
     "text": [
      "0:\ttest: 0.7039868\tbest: 0.7039868 (0)\ttotal: 21.3ms\tremaining: 36.5s\n",
      "300:\ttest: 0.7379749\tbest: 0.7379887 (299)\ttotal: 6.05s\tremaining: 28.4s\n",
      "600:\ttest: 0.7385388\tbest: 0.7385584 (584)\ttotal: 11.3s\tremaining: 20.9s\n",
      "900:\ttest: 0.7383530\tbest: 0.7385585 (626)\ttotal: 16.6s\tremaining: 14.9s\n"
     ]
    },
    {
     "name": "stderr",
     "output_type": "stream",
     "text": [
      "[I 2025-02-21 06:43:36,829] Trial 21 finished with value: 0.7385585308074951 and parameters: {'iterations': 1712, 'depth': 5, 'learning_rate': 0.06386668623749678, 'l2_leaf_reg': 26.96963431672059}. Best is trial 6 with value: 0.7391290664672852.\n"
     ]
    },
    {
     "name": "stdout",
     "output_type": "stream",
     "text": [
      "bestTest = 0.7385585308\n",
      "bestIteration = 626\n",
      "Shrink model to first 627 iterations.\n"
     ]
    },
    {
     "name": "stderr",
     "output_type": "stream",
     "text": [
      "Default metric period is 5 because AUC is/are not implemented for GPU\n"
     ]
    },
    {
     "name": "stdout",
     "output_type": "stream",
     "text": [
      "0:\ttest: 0.7206565\tbest: 0.7206565 (0)\ttotal: 72.5ms\tremaining: 2m 18s\n",
      "300:\ttest: 0.7373601\tbest: 0.7384968 (141)\ttotal: 16.5s\tremaining: 1m 28s\n"
     ]
    },
    {
     "name": "stderr",
     "output_type": "stream",
     "text": [
      "[I 2025-02-21 06:44:04,164] Trial 22 finished with value: 0.7384967505931854 and parameters: {'iterations': 1910, 'depth': 9, 'learning_rate': 0.0842298551745172, 'l2_leaf_reg': 23.785642010900634}. Best is trial 6 with value: 0.7391290664672852.\n"
     ]
    },
    {
     "name": "stdout",
     "output_type": "stream",
     "text": [
      "bestTest = 0.7384967506\n",
      "bestIteration = 141\n",
      "Shrink model to first 142 iterations.\n"
     ]
    },
    {
     "name": "stderr",
     "output_type": "stream",
     "text": [
      "Default metric period is 5 because AUC is/are not implemented for GPU\n"
     ]
    },
    {
     "name": "stdout",
     "output_type": "stream",
     "text": [
      "0:\ttest: 0.7039868\tbest: 0.7039868 (0)\ttotal: 26.9ms\tremaining: 40.9s\n",
      "300:\ttest: 0.7379508\tbest: 0.7379652 (299)\ttotal: 7.53s\tremaining: 30.5s\n",
      "600:\ttest: 0.7382804\tbest: 0.7383493 (526)\ttotal: 14.7s\tremaining: 22.5s\n"
     ]
    },
    {
     "name": "stderr",
     "output_type": "stream",
     "text": [
      "[I 2025-02-21 06:44:27,592] Trial 23 finished with value: 0.7383492887020111 and parameters: {'iterations': 1521, 'depth': 5, 'learning_rate': 0.06332986668943112, 'l2_leaf_reg': 3.6822627446822054}. Best is trial 6 with value: 0.7391290664672852.\n"
     ]
    },
    {
     "name": "stdout",
     "output_type": "stream",
     "text": [
      "bestTest = 0.7383492887\n",
      "bestIteration = 526\n",
      "Shrink model to first 527 iterations.\n"
     ]
    },
    {
     "name": "stderr",
     "output_type": "stream",
     "text": [
      "Default metric period is 5 because AUC is/are not implemented for GPU\n"
     ]
    },
    {
     "name": "stdout",
     "output_type": "stream",
     "text": [
      "0:\ttest: 0.7181494\tbest: 0.7181494 (0)\ttotal: 33ms\tremaining: 57.8s\n",
      "300:\ttest: 0.7386075\tbest: 0.7387227 (273)\ttotal: 8.87s\tremaining: 42.7s\n"
     ]
    },
    {
     "name": "stderr",
     "output_type": "stream",
     "text": [
      "[I 2025-02-21 06:44:47,532] Trial 24 finished with value: 0.7387226819992065 and parameters: {'iterations': 1751, 'depth': 7, 'learning_rate': 0.08831169944260595, 'l2_leaf_reg': 22.73175876769283}. Best is trial 6 with value: 0.7391290664672852.\n"
     ]
    },
    {
     "name": "stdout",
     "output_type": "stream",
     "text": [
      "bestTest = 0.738722682\n",
      "bestIteration = 273\n",
      "Shrink model to first 274 iterations.\n"
     ]
    },
    {
     "name": "stderr",
     "output_type": "stream",
     "text": [
      "Default metric period is 5 because AUC is/are not implemented for GPU\n"
     ]
    },
    {
     "name": "stdout",
     "output_type": "stream",
     "text": [
      "0:\ttest: 0.7207248\tbest: 0.7207248 (0)\ttotal: 60.3ms\tremaining: 2m 4s\n",
      "300:\ttest: 0.7379462\tbest: 0.7386202 (140)\ttotal: 16.4s\tremaining: 1m 35s\n"
     ]
    },
    {
     "name": "stderr",
     "output_type": "stream",
     "text": [
      "[I 2025-02-21 06:45:14,673] Trial 25 finished with value: 0.7386201918125153 and parameters: {'iterations': 2060, 'depth': 9, 'learning_rate': 0.07906727257805568, 'l2_leaf_reg': 4.52825216770789}. Best is trial 6 with value: 0.7391290664672852.\n"
     ]
    },
    {
     "name": "stdout",
     "output_type": "stream",
     "text": [
      "bestTest = 0.7386201918\n",
      "bestIteration = 140\n",
      "Shrink model to first 141 iterations.\n"
     ]
    },
    {
     "name": "stderr",
     "output_type": "stream",
     "text": [
      "Default metric period is 5 because AUC is/are not implemented for GPU\n"
     ]
    },
    {
     "name": "stdout",
     "output_type": "stream",
     "text": [
      "0:\ttest: 0.7039868\tbest: 0.7039868 (0)\ttotal: 23.6ms\tremaining: 39s\n",
      "300:\ttest: 0.7382548\tbest: 0.7382548 (300)\ttotal: 6.17s\tremaining: 27.8s\n",
      "600:\ttest: 0.7388578\tbest: 0.7388614 (595)\ttotal: 11.3s\tremaining: 19.8s\n",
      "900:\ttest: 0.7386616\tbest: 0.7388837 (642)\ttotal: 16.5s\tremaining: 13.8s\n"
     ]
    },
    {
     "name": "stderr",
     "output_type": "stream",
     "text": [
      "[I 2025-02-21 06:45:35,263] Trial 26 finished with value: 0.7388836741447449 and parameters: {'iterations': 1656, 'depth': 5, 'learning_rate': 0.057847966247011606, 'l2_leaf_reg': 30.632189627215993}. Best is trial 6 with value: 0.7391290664672852.\n"
     ]
    },
    {
     "name": "stdout",
     "output_type": "stream",
     "text": [
      "bestTest = 0.7388836741\n",
      "bestIteration = 642\n",
      "Shrink model to first 643 iterations.\n"
     ]
    },
    {
     "name": "stderr",
     "output_type": "stream",
     "text": [
      "Default metric period is 5 because AUC is/are not implemented for GPU\n"
     ]
    },
    {
     "name": "stdout",
     "output_type": "stream",
     "text": [
      "0:\ttest: 0.7205437\tbest: 0.7205437 (0)\ttotal: 43.9ms\tremaining: 1m 27s\n",
      "300:\ttest: 0.7370878\tbest: 0.7382874 (153)\ttotal: 11.9s\tremaining: 1m 6s\n"
     ]
    },
    {
     "name": "stderr",
     "output_type": "stream",
     "text": [
      "[I 2025-02-21 06:45:56,199] Trial 27 finished with value: 0.7382873892784119 and parameters: {'iterations': 1989, 'depth': 8, 'learning_rate': 0.0908032272097421, 'l2_leaf_reg': 0.6798125562644078}. Best is trial 6 with value: 0.7391290664672852.\n"
     ]
    },
    {
     "name": "stdout",
     "output_type": "stream",
     "text": [
      "bestTest = 0.7382873893\n",
      "bestIteration = 153\n",
      "Shrink model to first 154 iterations.\n"
     ]
    },
    {
     "name": "stderr",
     "output_type": "stream",
     "text": [
      "Default metric period is 5 because AUC is/are not implemented for GPU\n"
     ]
    },
    {
     "name": "stdout",
     "output_type": "stream",
     "text": [
      "0:\ttest: 0.7161888\tbest: 0.7161888 (0)\ttotal: 22.5ms\tremaining: 41.3s\n",
      "300:\ttest: 0.7387132\tbest: 0.7387292 (292)\ttotal: 6.56s\tremaining: 33.4s\n",
      "600:\ttest: 0.7381148\tbest: 0.7387996 (307)\ttotal: 13.1s\tremaining: 26.8s\n",
      "bestTest = 0.738799572\n",
      "bestIteration = 307\n",
      "Shrink model to first 308 iterations.\n"
     ]
    },
    {
     "name": "stderr",
     "output_type": "stream",
     "text": [
      "[I 2025-02-21 06:46:12,772] Trial 28 finished with value: 0.7387995719909668 and parameters: {'iterations': 1834, 'depth': 6, 'learning_rate': 0.0808030494916055, 'l2_leaf_reg': 7.332102216857384}. Best is trial 6 with value: 0.7391290664672852.\n",
      "Default metric period is 5 because AUC is/are not implemented for GPU\n"
     ]
    },
    {
     "name": "stdout",
     "output_type": "stream",
     "text": [
      "0:\ttest: 0.7181547\tbest: 0.7181547 (0)\ttotal: 33.3ms\tremaining: 1m 15s\n",
      "300:\ttest: 0.7383302\tbest: 0.7383338 (299)\ttotal: 9.12s\tremaining: 59.6s\n",
      "600:\ttest: 0.7377623\tbest: 0.7383754 (307)\ttotal: 17.5s\tremaining: 48.5s\n",
      "bestTest = 0.7383753955\n",
      "bestIteration = 307\n",
      "Shrink model to first 308 iterations.\n"
     ]
    },
    {
     "name": "stderr",
     "output_type": "stream",
     "text": [
      "[I 2025-02-21 06:46:33,849] Trial 29 finished with value: 0.7383753955364227 and parameters: {'iterations': 2268, 'depth': 7, 'learning_rate': 0.07464651103644832, 'l2_leaf_reg': 12.289218146450354}. Best is trial 6 with value: 0.7391290664672852.\n",
      "Default metric period is 5 because AUC is/are not implemented for GPU\n"
     ]
    },
    {
     "name": "stdout",
     "output_type": "stream",
     "text": [
      "0:\ttest: 0.7199891\tbest: 0.7199891 (0)\ttotal: 62.9ms\tremaining: 1m 55s\n",
      "300:\ttest: 0.7382763\tbest: 0.7387353 (158)\ttotal: 16.3s\tremaining: 1m 23s\n"
     ]
    },
    {
     "name": "stderr",
     "output_type": "stream",
     "text": [
      "[I 2025-02-21 06:47:01,937] Trial 30 finished with value: 0.7387352585792542 and parameters: {'iterations': 1831, 'depth': 9, 'learning_rate': 0.068460727666766, 'l2_leaf_reg': 46.843350950685554}. Best is trial 6 with value: 0.7391290664672852.\n"
     ]
    },
    {
     "name": "stdout",
     "output_type": "stream",
     "text": [
      "bestTest = 0.7387352586\n",
      "bestIteration = 158\n",
      "Shrink model to first 159 iterations.\n"
     ]
    },
    {
     "name": "stderr",
     "output_type": "stream",
     "text": [
      "Default metric period is 5 because AUC is/are not implemented for GPU\n"
     ]
    },
    {
     "name": "stdout",
     "output_type": "stream",
     "text": [
      "0:\ttest: 0.7161660\tbest: 0.7161660 (0)\ttotal: 22.5ms\tremaining: 55.7s\n",
      "300:\ttest: 0.7384942\tbest: 0.7384942 (300)\ttotal: 6.58s\tremaining: 47.6s\n",
      "600:\ttest: 0.7388008\tbest: 0.7388674 (525)\ttotal: 13.1s\tremaining: 41s\n",
      "900:\ttest: 0.7383832\tbest: 0.7389120 (728)\ttotal: 19.7s\tremaining: 34.5s\n"
     ]
    },
    {
     "name": "stderr",
     "output_type": "stream",
     "text": [
      "[I 2025-02-21 06:47:27,756] Trial 31 finished with value: 0.7389119863510132 and parameters: {'iterations': 2480, 'depth': 6, 'learning_rate': 0.07654544477834963, 'l2_leaf_reg': 92.33645221893296}. Best is trial 6 with value: 0.7391290664672852.\n"
     ]
    },
    {
     "name": "stdout",
     "output_type": "stream",
     "text": [
      "bestTest = 0.7389119864\n",
      "bestIteration = 728\n",
      "Shrink model to first 729 iterations.\n"
     ]
    },
    {
     "name": "stderr",
     "output_type": "stream",
     "text": [
      "Default metric period is 5 because AUC is/are not implemented for GPU\n"
     ]
    },
    {
     "name": "stdout",
     "output_type": "stream",
     "text": [
      "0:\ttest: 0.7039868\tbest: 0.7039868 (0)\ttotal: 23.4ms\tremaining: 1m 4s\n",
      "300:\ttest: 0.7384686\tbest: 0.7384958 (286)\ttotal: 6.05s\tremaining: 49.5s\n",
      "600:\ttest: 0.7388554\tbest: 0.7389133 (484)\ttotal: 11.2s\tremaining: 40.3s\n"
     ]
    },
    {
     "name": "stderr",
     "output_type": "stream",
     "text": [
      "[I 2025-02-21 06:47:45,576] Trial 32 finished with value: 0.7389132976531982 and parameters: {'iterations': 2764, 'depth': 5, 'learning_rate': 0.08441924740895344, 'l2_leaf_reg': 32.297751176577215}. Best is trial 6 with value: 0.7391290664672852.\n"
     ]
    },
    {
     "name": "stdout",
     "output_type": "stream",
     "text": [
      "bestTest = 0.7389132977\n",
      "bestIteration = 484\n",
      "Shrink model to first 485 iterations.\n"
     ]
    },
    {
     "name": "stderr",
     "output_type": "stream",
     "text": [
      "Default metric period is 5 because AUC is/are not implemented for GPU\n"
     ]
    },
    {
     "name": "stdout",
     "output_type": "stream",
     "text": [
      "0:\ttest: 0.7161885\tbest: 0.7161885 (0)\ttotal: 29.8ms\tremaining: 1m 5s\n",
      "300:\ttest: 0.7384676\tbest: 0.7384731 (299)\ttotal: 7.29s\tremaining: 45.7s\n",
      "600:\ttest: 0.7384122\tbest: 0.7386042 (495)\ttotal: 13.8s\tremaining: 36.5s\n"
     ]
    },
    {
     "name": "stderr",
     "output_type": "stream",
     "text": [
      "[I 2025-02-21 06:48:07,112] Trial 33 finished with value: 0.7386042177677155 and parameters: {'iterations': 2187, 'depth': 6, 'learning_rate': 0.07193000329093772, 'l2_leaf_reg': 13.112006821298227}. Best is trial 6 with value: 0.7391290664672852.\n"
     ]
    },
    {
     "name": "stdout",
     "output_type": "stream",
     "text": [
      "bestTest = 0.7386042178\n",
      "bestIteration = 495\n",
      "Shrink model to first 496 iterations.\n"
     ]
    },
    {
     "name": "stderr",
     "output_type": "stream",
     "text": [
      "Default metric period is 5 because AUC is/are not implemented for GPU\n"
     ]
    },
    {
     "name": "stdout",
     "output_type": "stream",
     "text": [
      "0:\ttest: 0.6982180\tbest: 0.6982180 (0)\ttotal: 18.4ms\tremaining: 44.5s\n",
      "300:\ttest: 0.7380493\tbest: 0.7380493 (300)\ttotal: 4.69s\tremaining: 33.1s\n",
      "600:\ttest: 0.7385394\tbest: 0.7385826 (577)\ttotal: 8.84s\tremaining: 26.8s\n",
      "900:\ttest: 0.7386132\tbest: 0.7386613 (861)\ttotal: 12.9s\tremaining: 21.8s\n",
      "bestTest = 0.7386612892\n",
      "bestIteration = 861\n",
      "Shrink model to first 862 iterations.\n"
     ]
    },
    {
     "name": "stderr",
     "output_type": "stream",
     "text": [
      "[I 2025-02-21 06:48:27,961] Trial 34 finished with value: 0.7386612892150879 and parameters: {'iterations': 2423, 'depth': 4, 'learning_rate': 0.08119226775906402, 'l2_leaf_reg': 51.150753493765464}. Best is trial 6 with value: 0.7391290664672852.\n",
      "Default metric period is 5 because AUC is/are not implemented for GPU\n"
     ]
    },
    {
     "name": "stdout",
     "output_type": "stream",
     "text": [
      "0:\ttest: 0.6982180\tbest: 0.6982180 (0)\ttotal: 22.5ms\tremaining: 1m 4s\n",
      "300:\ttest: 0.7382716\tbest: 0.7382842 (291)\ttotal: 5.68s\tremaining: 48.2s\n",
      "600:\ttest: 0.7386594\tbest: 0.7386799 (577)\ttotal: 11.3s\tremaining: 42.4s\n",
      "900:\ttest: 0.7385430\tbest: 0.7387182 (635)\ttotal: 17s\tremaining: 36.9s\n"
     ]
    },
    {
     "name": "stderr",
     "output_type": "stream",
     "text": [
      "[I 2025-02-21 06:48:49,005] Trial 35 finished with value: 0.7387182116508484 and parameters: {'iterations': 2858, 'depth': 4, 'learning_rate': 0.09289029704902244, 'l2_leaf_reg': 43.05267065321799}. Best is trial 6 with value: 0.7391290664672852.\n"
     ]
    },
    {
     "name": "stdout",
     "output_type": "stream",
     "text": [
      "bestTest = 0.7387182117\n",
      "bestIteration = 635\n",
      "Shrink model to first 636 iterations.\n"
     ]
    },
    {
     "name": "stderr",
     "output_type": "stream",
     "text": [
      "Default metric period is 5 because AUC is/are not implemented for GPU\n"
     ]
    },
    {
     "name": "stdout",
     "output_type": "stream",
     "text": [
      "0:\ttest: 0.7039868\tbest: 0.7039868 (0)\ttotal: 21.2ms\tremaining: 33.7s\n",
      "300:\ttest: 0.7385158\tbest: 0.7385158 (300)\ttotal: 6.67s\tremaining: 28.5s\n",
      "600:\ttest: 0.7389703\tbest: 0.7390068 (580)\ttotal: 13.2s\tremaining: 21.6s\n"
     ]
    },
    {
     "name": "stderr",
     "output_type": "stream",
     "text": [
      "[I 2025-02-21 06:49:11,595] Trial 36 finished with value: 0.7390068173408508 and parameters: {'iterations': 1588, 'depth': 5, 'learning_rate': 0.07354557972600861, 'l2_leaf_reg': 12.659768240497975}. Best is trial 6 with value: 0.7391290664672852.\n"
     ]
    },
    {
     "name": "stdout",
     "output_type": "stream",
     "text": [
      "bestTest = 0.7390068173\n",
      "bestIteration = 580\n",
      "Shrink model to first 581 iterations.\n"
     ]
    },
    {
     "name": "stderr",
     "output_type": "stream",
     "text": [
      "Default metric period is 5 because AUC is/are not implemented for GPU\n"
     ]
    },
    {
     "name": "stdout",
     "output_type": "stream",
     "text": [
      "0:\ttest: 0.6982180\tbest: 0.6982180 (0)\ttotal: 19.9ms\tremaining: 31.5s\n",
      "300:\ttest: 0.7378981\tbest: 0.7379032 (299)\ttotal: 5.69s\tremaining: 24.2s\n",
      "600:\ttest: 0.7383053\tbest: 0.7383674 (583)\ttotal: 10.8s\tremaining: 17.6s\n",
      "900:\ttest: 0.7380694\tbest: 0.7384218 (630)\ttotal: 15s\tremaining: 11.3s\n"
     ]
    },
    {
     "name": "stderr",
     "output_type": "stream",
     "text": [
      "[I 2025-02-21 06:49:30,403] Trial 37 finished with value: 0.7384218275547028 and parameters: {'iterations': 1581, 'depth': 4, 'learning_rate': 0.08971854240828965, 'l2_leaf_reg': 3.6789380733914974}. Best is trial 6 with value: 0.7391290664672852.\n"
     ]
    },
    {
     "name": "stdout",
     "output_type": "stream",
     "text": [
      "bestTest = 0.7384218276\n",
      "bestIteration = 630\n",
      "Shrink model to first 631 iterations.\n"
     ]
    },
    {
     "name": "stderr",
     "output_type": "stream",
     "text": [
      "Default metric period is 5 because AUC is/are not implemented for GPU\n"
     ]
    },
    {
     "name": "stdout",
     "output_type": "stream",
     "text": [
      "0:\ttest: 0.7039868\tbest: 0.7039868 (0)\ttotal: 32.6ms\tremaining: 54.8s\n",
      "300:\ttest: 0.7381235\tbest: 0.7381375 (290)\ttotal: 6.38s\tremaining: 29.3s\n",
      "600:\ttest: 0.7385747\tbest: 0.7386472 (475)\ttotal: 11.7s\tremaining: 21.1s\n"
     ]
    },
    {
     "name": "stderr",
     "output_type": "stream",
     "text": [
      "[I 2025-02-21 06:49:48,801] Trial 38 finished with value: 0.7386472225189209 and parameters: {'iterations': 1685, 'depth': 5, 'learning_rate': 0.06769642517608014, 'l2_leaf_reg': 11.225697581316247}. Best is trial 6 with value: 0.7391290664672852.\n"
     ]
    },
    {
     "name": "stdout",
     "output_type": "stream",
     "text": [
      "bestTest = 0.7386472225\n",
      "bestIteration = 475\n",
      "Shrink model to first 476 iterations.\n"
     ]
    },
    {
     "name": "stderr",
     "output_type": "stream",
     "text": [
      "Default metric period is 5 because AUC is/are not implemented for GPU\n"
     ]
    },
    {
     "name": "stdout",
     "output_type": "stream",
     "text": [
      "0:\ttest: 0.7203382\tbest: 0.7203382 (0)\ttotal: 83.5ms\tremaining: 2m 26s\n",
      "300:\ttest: 0.7373398\tbest: 0.7379437 (167)\ttotal: 24.5s\tremaining: 1m 59s\n"
     ]
    },
    {
     "name": "stderr",
     "output_type": "stream",
     "text": [
      "[I 2025-02-21 06:50:30,474] Trial 39 finished with value: 0.7379437386989594 and parameters: {'iterations': 1762, 'depth': 10, 'learning_rate': 0.056279036230645695, 'l2_leaf_reg': 5.280502518770667}. Best is trial 6 with value: 0.7391290664672852.\n",
      "[I 2025-02-21 06:50:30,482] A new study created in memory with name: no-name-c15bee87-7d1b-49f2-8482-37f4ea20c8d3\n"
     ]
    },
    {
     "name": "stdout",
     "output_type": "stream",
     "text": [
      "bestTest = 0.7379437387\n",
      "bestIteration = 167\n",
      "Shrink model to first 168 iterations.\n"
     ]
    },
    {
     "name": "stderr",
     "output_type": "stream",
     "text": [
      "[I 2025-02-21 06:50:46,865] Trial 0 finished with value: 0.72837973562729 and parameters: {'num_iterations': 2366, 'objective': 'binary', 'metric': 'auc', 'verbose': -1, 'learning_rate': 0.0652646236447618, 'n_estimators': 236, 'min_child_samples': 45, 'subsample': 0.7, 'colsample_bytree': 0.5}. Best is trial 0 with value: 0.72837973562729.\n",
      "[I 2025-02-21 06:50:59,035] Trial 1 finished with value: 0.7382602456250443 and parameters: {'num_iterations': 1510, 'objective': 'binary', 'metric': 'auc', 'verbose': -1, 'learning_rate': 0.005231880959249543, 'n_estimators': 1411, 'min_child_samples': 10, 'subsample': 1.0, 'colsample_bytree': 0.5}. Best is trial 1 with value: 0.7382602456250443.\n",
      "[I 2025-02-21 06:51:10,048] Trial 2 finished with value: 0.737565828954743 and parameters: {'num_iterations': 2334, 'objective': 'binary', 'metric': 'auc', 'verbose': -1, 'learning_rate': 0.006578527777128852, 'n_estimators': 931, 'min_child_samples': 15, 'subsample': 0.5, 'colsample_bytree': 1.0}. Best is trial 1 with value: 0.7382602456250443.\n",
      "[I 2025-02-21 06:51:21,538] Trial 3 finished with value: 0.7385288601945944 and parameters: {'num_iterations': 1620, 'objective': 'binary', 'metric': 'auc', 'verbose': -1, 'learning_rate': 0.0058823249237283685, 'n_estimators': 837, 'min_child_samples': 10, 'subsample': 0.9, 'colsample_bytree': 0.6}. Best is trial 3 with value: 0.7385288601945944.\n",
      "[I 2025-02-21 06:51:31,468] Trial 4 finished with value: 0.7380462744208311 and parameters: {'num_iterations': 1997, 'objective': 'binary', 'metric': 'auc', 'verbose': -1, 'learning_rate': 0.010907507425244923, 'n_estimators': 1597, 'min_child_samples': 50, 'subsample': 0.6, 'colsample_bytree': 0.8}. Best is trial 3 with value: 0.7385288601945944.\n",
      "[I 2025-02-21 06:51:43,047] Trial 5 finished with value: 0.7342664275324859 and parameters: {'num_iterations': 2909, 'objective': 'binary', 'metric': 'auc', 'verbose': -1, 'learning_rate': 0.019760591962733942, 'n_estimators': 612, 'min_child_samples': 30, 'subsample': 0.7, 'colsample_bytree': 0.9}. Best is trial 3 with value: 0.7385288601945944.\n",
      "[I 2025-02-21 06:51:54,356] Trial 6 finished with value: 0.7357614939922557 and parameters: {'num_iterations': 2639, 'objective': 'binary', 'metric': 'auc', 'verbose': -1, 'learning_rate': 0.017862094446750985, 'n_estimators': 794, 'min_child_samples': 35, 'subsample': 1.0, 'colsample_bytree': 0.8}. Best is trial 3 with value: 0.7385288601945944.\n",
      "[I 2025-02-21 06:52:05,536] Trial 7 finished with value: 0.7375532333036385 and parameters: {'num_iterations': 1580, 'objective': 'binary', 'metric': 'auc', 'verbose': -1, 'learning_rate': 0.01776722177611332, 'n_estimators': 529, 'min_child_samples': 25, 'subsample': 0.8, 'colsample_bytree': 0.5}. Best is trial 3 with value: 0.7385288601945944.\n",
      "[I 2025-02-21 06:52:15,740] Trial 8 finished with value: 0.733833100602339 and parameters: {'num_iterations': 1911, 'objective': 'binary', 'metric': 'auc', 'verbose': -1, 'learning_rate': 0.0304747553332844, 'n_estimators': 1328, 'min_child_samples': 10, 'subsample': 0.7, 'colsample_bytree': 0.6}. Best is trial 3 with value: 0.7385288601945944.\n",
      "[I 2025-02-21 06:52:33,058] Trial 9 finished with value: 0.7334005400532334 and parameters: {'num_iterations': 2739, 'objective': 'binary', 'metric': 'auc', 'verbose': -1, 'learning_rate': 0.02691531614176271, 'n_estimators': 1438, 'min_child_samples': 20, 'subsample': 0.6, 'colsample_bytree': 0.5}. Best is trial 3 with value: 0.7385288601945944.\n",
      "[I 2025-02-21 06:52:42,577] Trial 10 finished with value: 0.7385360276442298 and parameters: {'num_iterations': 1883, 'objective': 'binary', 'metric': 'auc', 'verbose': -1, 'learning_rate': 0.007630609716045009, 'n_estimators': 1917, 'min_child_samples': 40, 'subsample': 0.9, 'colsample_bytree': 0.7}. Best is trial 10 with value: 0.7385360276442298.\n",
      "[I 2025-02-21 06:52:52,491] Trial 11 finished with value: 0.7385098078824887 and parameters: {'num_iterations': 1834, 'objective': 'binary', 'metric': 'auc', 'verbose': -1, 'learning_rate': 0.007972116511668377, 'n_estimators': 1756, 'min_child_samples': 40, 'subsample': 0.9, 'colsample_bytree': 0.7}. Best is trial 10 with value: 0.7385360276442298.\n",
      "[I 2025-02-21 06:53:02,554] Trial 12 finished with value: 0.7384813644244618 and parameters: {'num_iterations': 1730, 'objective': 'binary', 'metric': 'auc', 'verbose': -1, 'learning_rate': 0.005011196950175546, 'n_estimators': 1958, 'min_child_samples': 35, 'subsample': 0.9, 'colsample_bytree': 0.7}. Best is trial 10 with value: 0.7385360276442298.\n",
      "[I 2025-02-21 06:53:14,910] Trial 13 finished with value: 0.737949992342543 and parameters: {'num_iterations': 2087, 'objective': 'binary', 'metric': 'auc', 'verbose': -1, 'learning_rate': 0.010668787980411175, 'n_estimators': 1108, 'min_child_samples': 25, 'subsample': 0.9, 'colsample_bytree': 0.6}. Best is trial 10 with value: 0.7385360276442298.\n",
      "[I 2025-02-21 06:53:25,791] Trial 14 finished with value: 0.7385430362584162 and parameters: {'num_iterations': 1701, 'objective': 'binary', 'metric': 'auc', 'verbose': -1, 'learning_rate': 0.008609839825564297, 'n_estimators': 1099, 'min_child_samples': 50, 'subsample': 0.8, 'colsample_bytree': 0.6}. Best is trial 14 with value: 0.7385430362584162.\n",
      "[I 2025-02-21 06:53:37,021] Trial 15 finished with value: 0.7383160524600451 and parameters: {'num_iterations': 2241, 'objective': 'binary', 'metric': 'auc', 'verbose': -1, 'learning_rate': 0.009837667345746827, 'n_estimators': 1987, 'min_child_samples': 50, 'subsample': 0.8, 'colsample_bytree': 0.7}. Best is trial 14 with value: 0.7385430362584162.\n",
      "[I 2025-02-21 06:53:47,008] Trial 16 finished with value: 0.7371677595233844 and parameters: {'num_iterations': 2136, 'objective': 'binary', 'metric': 'auc', 'verbose': -1, 'learning_rate': 0.012730880566710883, 'n_estimators': 259, 'min_child_samples': 45, 'subsample': 0.8, 'colsample_bytree': 0.8}. Best is trial 14 with value: 0.7385430362584162.\n",
      "[I 2025-02-21 06:53:58,728] Trial 17 finished with value: 0.7385250918235672 and parameters: {'num_iterations': 1775, 'objective': 'binary', 'metric': 'auc', 'verbose': -1, 'learning_rate': 0.008024460667023848, 'n_estimators': 1154, 'min_child_samples': 40, 'subsample': 1.0, 'colsample_bytree': 0.6}. Best is trial 14 with value: 0.7385430362584162.\n",
      "[I 2025-02-21 06:54:06,754] Trial 18 finished with value: 0.7375521214554956 and parameters: {'num_iterations': 1687, 'objective': 'binary', 'metric': 'auc', 'verbose': -1, 'learning_rate': 0.01356820322695768, 'n_estimators': 1768, 'min_child_samples': 45, 'subsample': 0.8, 'colsample_bytree': 0.9}. Best is trial 14 with value: 0.7385430362584162.\n",
      "[I 2025-02-21 06:54:16,596] Trial 19 finished with value: 0.7384016488835028 and parameters: {'num_iterations': 1915, 'objective': 'binary', 'metric': 'auc', 'verbose': -1, 'learning_rate': 0.007524437906393621, 'n_estimators': 1235, 'min_child_samples': 50, 'subsample': 0.9, 'colsample_bytree': 0.7}. Best is trial 14 with value: 0.7385430362584162.\n",
      "[I 2025-02-21 06:54:28,732] Trial 20 finished with value: 0.738441679387533 and parameters: {'num_iterations': 2006, 'objective': 'binary', 'metric': 'auc', 'verbose': -1, 'learning_rate': 0.007877155758725746, 'n_estimators': 1561, 'min_child_samples': 40, 'subsample': 0.5, 'colsample_bytree': 0.6}. Best is trial 14 with value: 0.7385430362584162.\n",
      "[I 2025-02-21 06:54:39,490] Trial 21 finished with value: 0.738561381752774 and parameters: {'num_iterations': 1623, 'objective': 'binary', 'metric': 'auc', 'verbose': -1, 'learning_rate': 0.006016548080098509, 'n_estimators': 884, 'min_child_samples': 35, 'subsample': 0.9, 'colsample_bytree': 0.6}. Best is trial 21 with value: 0.738561381752774.\n",
      "[I 2025-02-21 06:54:51,067] Trial 22 finished with value: 0.7384492320131323 and parameters: {'num_iterations': 1714, 'objective': 'binary', 'metric': 'auc', 'verbose': -1, 'learning_rate': 0.005009179488055185, 'n_estimators': 582, 'min_child_samples': 35, 'subsample': 0.9, 'colsample_bytree': 0.6}. Best is trial 21 with value: 0.738561381752774.\n",
      "[I 2025-02-21 06:55:00,436] Trial 23 finished with value: 0.7386250350589545 and parameters: {'num_iterations': 1558, 'objective': 'binary', 'metric': 'auc', 'verbose': -1, 'learning_rate': 0.006196310195869502, 'n_estimators': 1058, 'min_child_samples': 30, 'subsample': 0.8, 'colsample_bytree': 0.7}. Best is trial 23 with value: 0.7386250350589545.\n",
      "[I 2025-02-21 06:55:10,469] Trial 24 finished with value: 0.7386621350489511 and parameters: {'num_iterations': 1515, 'objective': 'binary', 'metric': 'auc', 'verbose': -1, 'learning_rate': 0.0064672142391431035, 'n_estimators': 898, 'min_child_samples': 30, 'subsample': 0.8, 'colsample_bytree': 0.6}. Best is trial 24 with value: 0.7386621350489511.\n",
      "[I 2025-02-21 06:55:18,470] Trial 25 finished with value: 0.7386066458848483 and parameters: {'num_iterations': 1501, 'objective': 'binary', 'metric': 'auc', 'verbose': -1, 'learning_rate': 0.00682415666595665, 'n_estimators': 945, 'min_child_samples': 30, 'subsample': 0.7, 'colsample_bytree': 0.7}. Best is trial 24 with value: 0.7386621350489511.\n",
      "[I 2025-02-21 06:55:26,306] Trial 26 finished with value: 0.7384833578093466 and parameters: {'num_iterations': 1526, 'objective': 'binary', 'metric': 'auc', 'verbose': -1, 'learning_rate': 0.006402397903376832, 'n_estimators': 696, 'min_child_samples': 25, 'subsample': 0.6, 'colsample_bytree': 0.8}. Best is trial 24 with value: 0.7386621350489511.\n",
      "[I 2025-02-21 06:55:34,235] Trial 27 finished with value: 0.7386278067375392 and parameters: {'num_iterations': 1510, 'objective': 'binary', 'metric': 'auc', 'verbose': -1, 'learning_rate': 0.006613097378520285, 'n_estimators': 971, 'min_child_samples': 30, 'subsample': 0.7, 'colsample_bytree': 0.7}. Best is trial 24 with value: 0.7386621350489511.\n",
      "[I 2025-02-21 06:55:44,978] Trial 28 finished with value: 0.7377171117781283 and parameters: {'num_iterations': 2542, 'objective': 'binary', 'metric': 'auc', 'verbose': -1, 'learning_rate': 0.009648233210868985, 'n_estimators': 1016, 'min_child_samples': 30, 'subsample': 0.7, 'colsample_bytree': 0.9}. Best is trial 24 with value: 0.7386621350489511.\n",
      "[I 2025-02-21 06:55:56,447] Trial 29 finished with value: 0.7290572164678434 and parameters: {'num_iterations': 1794, 'objective': 'binary', 'metric': 'auc', 'verbose': -1, 'learning_rate': 0.07234407408474254, 'n_estimators': 388, 'min_child_samples': 20, 'subsample': 0.6, 'colsample_bytree': 0.5}. Best is trial 24 with value: 0.7386621350489511.\n",
      "[I 2025-02-21 06:56:04,493] Trial 30 finished with value: 0.7378718373598702 and parameters: {'num_iterations': 1623, 'objective': 'binary', 'metric': 'auc', 'verbose': -1, 'learning_rate': 0.013473179831780013, 'n_estimators': 104, 'min_child_samples': 20, 'subsample': 0.7, 'colsample_bytree': 0.7}. Best is trial 24 with value: 0.7386621350489511.\n",
      "[I 2025-02-21 06:56:12,695] Trial 31 finished with value: 0.7386498451560859 and parameters: {'num_iterations': 1525, 'objective': 'binary', 'metric': 'auc', 'verbose': -1, 'learning_rate': 0.006537681114498621, 'n_estimators': 988, 'min_child_samples': 30, 'subsample': 0.7, 'colsample_bytree': 0.7}. Best is trial 24 with value: 0.7386621350489511.\n",
      "[I 2025-02-21 06:56:21,292] Trial 32 finished with value: 0.7382925329009367 and parameters: {'num_iterations': 1502, 'objective': 'binary', 'metric': 'auc', 'verbose': -1, 'learning_rate': 0.006152555893076448, 'n_estimators': 1233, 'min_child_samples': 30, 'subsample': 0.8, 'colsample_bytree': 0.8}. Best is trial 24 with value: 0.7386621350489511.\n",
      "[I 2025-02-21 06:56:30,357] Trial 33 finished with value: 0.7385773685407142 and parameters: {'num_iterations': 1606, 'objective': 'binary', 'metric': 'auc', 'verbose': -1, 'learning_rate': 0.005612544249460502, 'n_estimators': 733, 'min_child_samples': 25, 'subsample': 0.7, 'colsample_bytree': 0.7}. Best is trial 24 with value: 0.7386621350489511.\n",
      "[I 2025-02-21 06:56:39,559] Trial 34 finished with value: 0.7385861759663604 and parameters: {'num_iterations': 1653, 'objective': 'binary', 'metric': 'auc', 'verbose': -1, 'learning_rate': 0.00664422150212224, 'n_estimators': 1005, 'min_child_samples': 30, 'subsample': 0.8, 'colsample_bytree': 0.7}. Best is trial 24 with value: 0.7386621350489511.\n",
      "[I 2025-02-21 06:56:48,526] Trial 35 finished with value: 0.7383068201495728 and parameters: {'num_iterations': 1592, 'objective': 'binary', 'metric': 'auc', 'verbose': -1, 'learning_rate': 0.00548852823041606, 'n_estimators': 875, 'min_child_samples': 25, 'subsample': 0.6, 'colsample_bytree': 0.8}. Best is trial 24 with value: 0.7386621350489511.\n",
      "[I 2025-02-21 06:57:05,149] Trial 36 finished with value: 0.7382261436541474 and parameters: {'num_iterations': 2414, 'objective': 'binary', 'metric': 'auc', 'verbose': -1, 'learning_rate': 0.008654772760592188, 'n_estimators': 1209, 'min_child_samples': 35, 'subsample': 0.7, 'colsample_bytree': 0.5}. Best is trial 24 with value: 0.7386621350489511.\n",
      "[I 2025-02-21 06:57:13,828] Trial 37 finished with value: 0.7379390604927667 and parameters: {'num_iterations': 1552, 'objective': 'binary', 'metric': 'auc', 'verbose': -1, 'learning_rate': 0.006922474530402722, 'n_estimators': 739, 'min_child_samples': 30, 'subsample': 0.7, 'colsample_bytree': 1.0}. Best is trial 24 with value: 0.7386621350489511.\n",
      "[I 2025-02-21 06:57:25,674] Trial 38 finished with value: 0.7385716425227784 and parameters: {'num_iterations': 1806, 'objective': 'binary', 'metric': 'auc', 'verbose': -1, 'learning_rate': 0.005845251532937023, 'n_estimators': 1337, 'min_child_samples': 15, 'subsample': 0.8, 'colsample_bytree': 0.6}. Best is trial 24 with value: 0.7386621350489511.\n",
      "[I 2025-02-21 06:57:40,251] Trial 39 finished with value: 0.7383545700564238 and parameters: {'num_iterations': 2961, 'objective': 'binary', 'metric': 'auc', 'verbose': -1, 'learning_rate': 0.0050318137965760035, 'n_estimators': 939, 'min_child_samples': 35, 'subsample': 0.5, 'colsample_bytree': 0.9}. Best is trial 24 with value: 0.7386621350489511.\n"
     ]
    },
    {
     "name": "stdout",
     "output_type": "stream",
     "text": [
      "Cat val score : 0.7391290675892168\n",
      "LGBM val score : 0.7385059878899406\n",
      "Ensemble val score : 0.739200440298218\n"
     ]
    },
    {
     "name": "stderr",
     "output_type": "stream",
     "text": [
      "[I 2025-02-21 06:57:52,996] A new study created in memory with name: no-name-437807cb-ff5a-4c74-afff-ec11d2359790\n"
     ]
    },
    {
     "name": "stdout",
     "output_type": "stream",
     "text": [
      "==================================================\n"
     ]
    },
    {
     "name": "stderr",
     "output_type": "stream",
     "text": [
      "Default metric period is 5 because AUC is/are not implemented for GPU\n"
     ]
    },
    {
     "name": "stdout",
     "output_type": "stream",
     "text": [
      "0:\ttest: 0.7274442\tbest: 0.7274442 (0)\ttotal: 79.2ms\tremaining: 3m 7s\n",
      "300:\ttest: 0.7364494\tbest: 0.7364494 (300)\ttotal: 24.2s\tremaining: 2m 46s\n",
      "600:\ttest: 0.7373115\tbest: 0.7373117 (599)\ttotal: 48.5s\tremaining: 2m 22s\n",
      "900:\ttest: 0.7373363\tbest: 0.7374162 (760)\ttotal: 1m 12s\tremaining: 1m 58s\n",
      "bestTest = 0.737416178\n",
      "bestIteration = 760\n",
      "Shrink model to first 761 iterations.\n"
     ]
    },
    {
     "name": "stderr",
     "output_type": "stream",
     "text": [
      "[I 2025-02-21 06:59:20,565] Trial 0 finished with value: 0.7374161779880524 and parameters: {'iterations': 2366, 'depth': 10, 'learning_rate': 0.01181021951839225, 'l2_leaf_reg': 9.980783802743254}. Best is trial 0 with value: 0.7374161779880524.\n"
     ]
    },
    {
     "name": "stdout",
     "output_type": "stream",
     "text": [
      "저장 완료\n"
     ]
    },
    {
     "name": "stderr",
     "output_type": "stream",
     "text": [
      "Default metric period is 5 because AUC is/are not implemented for GPU\n"
     ]
    },
    {
     "name": "stdout",
     "output_type": "stream",
     "text": [
      "0:\ttest: 0.7001040\tbest: 0.7001040 (0)\ttotal: 16.7ms\tremaining: 36.6s\n",
      "300:\ttest: 0.7284709\tbest: 0.7284709 (300)\ttotal: 5.51s\tremaining: 34.7s\n",
      "600:\ttest: 0.7325871\tbest: 0.7325871 (600)\ttotal: 10s\tremaining: 26.6s\n",
      "900:\ttest: 0.7341712\tbest: 0.7341712 (900)\ttotal: 14s\tremaining: 20.1s\n",
      "1200:\ttest: 0.7351907\tbest: 0.7351907 (1200)\ttotal: 18s\tremaining: 14.9s\n",
      "1500:\ttest: 0.7358534\tbest: 0.7358534 (1500)\ttotal: 22s\tremaining: 10.2s\n",
      "1800:\ttest: 0.7363735\tbest: 0.7363735 (1800)\ttotal: 27.6s\tremaining: 6.01s\n",
      "2100:\ttest: 0.7367429\tbest: 0.7367434 (2098)\ttotal: 31.7s\tremaining: 1.39s\n"
     ]
    },
    {
     "name": "stderr",
     "output_type": "stream",
     "text": [
      "[I 2025-02-21 06:59:56,786] Trial 1 finished with value: 0.7368476092815399 and parameters: {'iterations': 2193, 'depth': 4, 'learning_rate': 0.005671430811678843, 'l2_leaf_reg': 0.00012325230809466137}. Best is trial 0 with value: 0.7374161779880524.\n"
     ]
    },
    {
     "name": "stdout",
     "output_type": "stream",
     "text": [
      "2192:\ttest: 0.7368459\tbest: 0.7368476 (2189)\ttotal: 32.9s\tremaining: 0us\n",
      "bestTest = 0.7368476093\n",
      "bestIteration = 2189\n",
      "Shrink model to first 2190 iterations.\n"
     ]
    },
    {
     "name": "stderr",
     "output_type": "stream",
     "text": [
      "Default metric period is 5 because AUC is/are not implemented for GPU\n"
     ]
    },
    {
     "name": "stdout",
     "output_type": "stream",
     "text": [
      "0:\ttest: 0.7001040\tbest: 0.7001040 (0)\ttotal: 14.4ms\tremaining: 36.4s\n",
      "300:\ttest: 0.7382661\tbest: 0.7382720 (299)\ttotal: 4.04s\tremaining: 30s\n",
      "600:\ttest: 0.7381850\tbest: 0.7384044 (506)\ttotal: 8.06s\tremaining: 25.9s\n"
     ]
    },
    {
     "name": "stderr",
     "output_type": "stream",
     "text": [
      "[I 2025-02-21 07:00:10,963] Trial 2 finished with value: 0.738404393196106 and parameters: {'iterations': 2535, 'depth': 4, 'learning_rate': 0.09275339199839054, 'l2_leaf_reg': 0.0008705394248343123}. Best is trial 2 with value: 0.738404393196106.\n"
     ]
    },
    {
     "name": "stdout",
     "output_type": "stream",
     "text": [
      "bestTest = 0.7384043932\n",
      "bestIteration = 506\n",
      "Shrink model to first 507 iterations.\n",
      "저장 완료\n"
     ]
    },
    {
     "name": "stderr",
     "output_type": "stream",
     "text": [
      "Default metric period is 5 because AUC is/are not implemented for GPU\n"
     ]
    },
    {
     "name": "stdout",
     "output_type": "stream",
     "text": [
      "0:\ttest: 0.7001040\tbest: 0.7001040 (0)\ttotal: 13.9ms\tremaining: 32.3s\n",
      "300:\ttest: 0.7370329\tbest: 0.7370329 (300)\ttotal: 4.05s\tremaining: 27.3s\n",
      "600:\ttest: 0.7381435\tbest: 0.7381435 (600)\ttotal: 8.04s\tremaining: 23.2s\n",
      "900:\ttest: 0.7382993\tbest: 0.7383232 (746)\ttotal: 12.1s\tremaining: 19.2s\n",
      "1200:\ttest: 0.7385290\tbest: 0.7385364 (1192)\ttotal: 16.1s\tremaining: 15.2s\n",
      "1500:\ttest: 0.7385380\tbest: 0.7385745 (1468)\ttotal: 20.2s\tremaining: 11.2s\n",
      "1800:\ttest: 0.7385140\tbest: 0.7386262 (1606)\ttotal: 24.2s\tremaining: 7.17s\n"
     ]
    },
    {
     "name": "stderr",
     "output_type": "stream",
     "text": [
      "[I 2025-02-21 07:00:40,024] Trial 3 finished with value: 0.73862624168396 and parameters: {'iterations': 2334, 'depth': 4, 'learning_rate': 0.04657568321363276, 'l2_leaf_reg': 0.0008640473331457248}. Best is trial 3 with value: 0.73862624168396.\n"
     ]
    },
    {
     "name": "stdout",
     "output_type": "stream",
     "text": [
      "bestTest = 0.7386262417\n",
      "bestIteration = 1606\n",
      "Shrink model to first 1607 iterations.\n",
      "저장 완료\n"
     ]
    },
    {
     "name": "stderr",
     "output_type": "stream",
     "text": [
      "Default metric period is 5 because AUC is/are not implemented for GPU\n"
     ]
    },
    {
     "name": "stdout",
     "output_type": "stream",
     "text": [
      "0:\ttest: 0.7273734\tbest: 0.7273734 (0)\ttotal: 88.8ms\tremaining: 2m 34s\n",
      "300:\ttest: 0.7358703\tbest: 0.7359107 (295)\ttotal: 24.4s\tremaining: 1m 56s\n",
      "600:\ttest: 0.7358420\tbest: 0.7361503 (475)\ttotal: 48.6s\tremaining: 1m 32s\n",
      "bestTest = 0.7361502945\n",
      "bestIteration = 475\n",
      "Shrink model to first 476 iterations.\n"
     ]
    },
    {
     "name": "stderr",
     "output_type": "stream",
     "text": [
      "[I 2025-02-21 07:01:46,246] Trial 4 finished with value: 0.7361502945423126 and parameters: {'iterations': 1742, 'depth': 10, 'learning_rate': 0.012622767482095846, 'l2_leaf_reg': 0.00021158816350109617}. Best is trial 3 with value: 0.73862624168396.\n",
      "Default metric period is 5 because AUC is/are not implemented for GPU\n"
     ]
    },
    {
     "name": "stdout",
     "output_type": "stream",
     "text": [
      "0:\ttest: 0.7001040\tbest: 0.7001040 (0)\ttotal: 23.2ms\tremaining: 48.3s\n",
      "300:\ttest: 0.7378486\tbest: 0.7378500 (296)\ttotal: 5.56s\tremaining: 32.9s\n",
      "600:\ttest: 0.7384867\tbest: 0.7385019 (587)\ttotal: 11.1s\tremaining: 27.4s\n",
      "900:\ttest: 0.7385852\tbest: 0.7386983 (873)\ttotal: 16.8s\tremaining: 22s\n",
      "1200:\ttest: 0.7388621\tbest: 0.7388722 (1195)\ttotal: 22.4s\tremaining: 16.5s\n",
      "1500:\ttest: 0.7388164\tbest: 0.7389536 (1431)\ttotal: 28s\tremaining: 10.9s\n",
      "bestTest = 0.7389535904\n",
      "bestIteration = 1431\n",
      "Shrink model to first 1432 iterations.\n"
     ]
    },
    {
     "name": "stderr",
     "output_type": "stream",
     "text": [
      "[I 2025-02-21 07:02:22,205] Trial 5 finished with value: 0.7389535903930664 and parameters: {'iterations': 2082, 'depth': 4, 'learning_rate': 0.06995196593094148, 'l2_leaf_reg': 0.0018080296485396804}. Best is trial 5 with value: 0.7389535903930664.\n",
      "Default metric period is 5 because AUC is/are not implemented for GPU\n"
     ]
    },
    {
     "name": "stdout",
     "output_type": "stream",
     "text": [
      "저장 완료\n",
      "0:\ttest: 0.7043894\tbest: 0.7043894 (0)\ttotal: 24.4ms\tremaining: 48.7s\n",
      "300:\ttest: 0.7381491\tbest: 0.7381662 (270)\ttotal: 7.14s\tremaining: 40.2s\n",
      "600:\ttest: 0.7384124\tbest: 0.7384403 (573)\ttotal: 14.3s\tremaining: 33.2s\n",
      "900:\ttest: 0.7382955\tbest: 0.7385063 (726)\ttotal: 21.5s\tremaining: 26.1s\n"
     ]
    },
    {
     "name": "stderr",
     "output_type": "stream",
     "text": [
      "[I 2025-02-21 07:02:50,215] Trial 6 finished with value: 0.7385062575340271 and parameters: {'iterations': 1997, 'depth': 5, 'learning_rate': 0.07985155992831598, 'l2_leaf_reg': 62.52181000710482}. Best is trial 5 with value: 0.7389535903930664.\n"
     ]
    },
    {
     "name": "stdout",
     "output_type": "stream",
     "text": [
      "bestTest = 0.7385062575\n",
      "bestIteration = 726\n",
      "Shrink model to first 727 iterations.\n"
     ]
    },
    {
     "name": "stderr",
     "output_type": "stream",
     "text": [
      "Default metric period is 5 because AUC is/are not implemented for GPU\n"
     ]
    },
    {
     "name": "stdout",
     "output_type": "stream",
     "text": [
      "0:\ttest: 0.7258013\tbest: 0.7258013 (0)\ttotal: 42.3ms\tremaining: 1m 21s\n",
      "300:\ttest: 0.7366418\tbest: 0.7373964 (207)\ttotal: 11.7s\tremaining: 1m 2s\n"
     ]
    },
    {
     "name": "stderr",
     "output_type": "stream",
     "text": [
      "[I 2025-02-21 07:03:12,937] Trial 7 finished with value: 0.7373964488506317 and parameters: {'iterations': 1927, 'depth': 7, 'learning_rate': 0.0941937211034094, 'l2_leaf_reg': 0.05654822767791934}. Best is trial 5 with value: 0.7389535903930664.\n"
     ]
    },
    {
     "name": "stdout",
     "output_type": "stream",
     "text": [
      "bestTest = 0.7373964489\n",
      "bestIteration = 207\n",
      "Shrink model to first 208 iterations.\n"
     ]
    },
    {
     "name": "stderr",
     "output_type": "stream",
     "text": [
      "Default metric period is 5 because AUC is/are not implemented for GPU\n"
     ]
    },
    {
     "name": "stdout",
     "output_type": "stream",
     "text": [
      "0:\ttest: 0.7258013\tbest: 0.7258013 (0)\ttotal: 34.5ms\tremaining: 1m 5s\n",
      "300:\ttest: 0.7376875\tbest: 0.7376944 (295)\ttotal: 9.91s\tremaining: 52.8s\n",
      "600:\ttest: 0.7373260\tbest: 0.7377249 (318)\ttotal: 20.9s\tremaining: 45.4s\n"
     ]
    },
    {
     "name": "stderr",
     "output_type": "stream",
     "text": [
      "[I 2025-02-21 07:03:37,795] Trial 8 finished with value: 0.7377249002456665 and parameters: {'iterations': 1904, 'depth': 7, 'learning_rate': 0.05155602859187331, 'l2_leaf_reg': 1.299974533316308}. Best is trial 5 with value: 0.7389535903930664.\n"
     ]
    },
    {
     "name": "stdout",
     "output_type": "stream",
     "text": [
      "bestTest = 0.7377249002\n",
      "bestIteration = 318\n",
      "Shrink model to first 319 iterations.\n"
     ]
    },
    {
     "name": "stderr",
     "output_type": "stream",
     "text": [
      "Default metric period is 5 because AUC is/are not implemented for GPU\n"
     ]
    },
    {
     "name": "stdout",
     "output_type": "stream",
     "text": [
      "0:\ttest: 0.7205163\tbest: 0.7205163 (0)\ttotal: 25.5ms\tremaining: 1m 7s\n",
      "300:\ttest: 0.7377405\tbest: 0.7377405 (300)\ttotal: 7.57s\tremaining: 58.8s\n",
      "600:\ttest: 0.7381546\tbest: 0.7381823 (577)\ttotal: 15.1s\tremaining: 51.3s\n",
      "900:\ttest: 0.7379255\tbest: 0.7382893 (735)\ttotal: 23.3s\tremaining: 45s\n",
      "bestTest = 0.7382892966\n",
      "bestIteration = 735\n",
      "Shrink model to first 736 iterations.\n"
     ]
    },
    {
     "name": "stderr",
     "output_type": "stream",
     "text": [
      "[I 2025-02-21 07:04:07,658] Trial 9 finished with value: 0.7382892966270447 and parameters: {'iterations': 2639, 'depth': 6, 'learning_rate': 0.03968704290444751, 'l2_leaf_reg': 0.30557194377967184}. Best is trial 5 with value: 0.7389535903930664.\n",
      "Default metric period is 5 because AUC is/are not implemented for GPU\n"
     ]
    },
    {
     "name": "stdout",
     "output_type": "stream",
     "text": [
      "0:\ttest: 0.7269486\tbest: 0.7269486 (0)\ttotal: 46.1ms\tremaining: 2m 15s\n",
      "300:\ttest: 0.7350958\tbest: 0.7370799 (163)\ttotal: 11.9s\tremaining: 1m 44s\n"
     ]
    },
    {
     "name": "stderr",
     "output_type": "stream",
     "text": [
      "[I 2025-02-21 07:04:29,580] Trial 10 finished with value: 0.737079918384552 and parameters: {'iterations': 2945, 'depth': 8, 'learning_rate': 0.07330091863871427, 'l2_leaf_reg': 0.013031354738997325}. Best is trial 5 with value: 0.7389535903930664.\n"
     ]
    },
    {
     "name": "stdout",
     "output_type": "stream",
     "text": [
      "bestTest = 0.7370799184\n",
      "bestIteration = 163\n",
      "Shrink model to first 164 iterations.\n"
     ]
    },
    {
     "name": "stderr",
     "output_type": "stream",
     "text": [
      "Default metric period is 5 because AUC is/are not implemented for GPU\n"
     ]
    },
    {
     "name": "stdout",
     "output_type": "stream",
     "text": [
      "0:\ttest: 0.7043999\tbest: 0.7043999 (0)\ttotal: 23.2ms\tremaining: 51.2s\n",
      "300:\ttest: 0.7379136\tbest: 0.7379260 (296)\ttotal: 7.05s\tremaining: 44.7s\n",
      "600:\ttest: 0.7379868\tbest: 0.7380322 (583)\ttotal: 14.2s\tremaining: 38.1s\n"
     ]
    },
    {
     "name": "stderr",
     "output_type": "stream",
     "text": [
      "[I 2025-02-21 07:04:53,792] Trial 11 finished with value: 0.7380321621894836 and parameters: {'iterations': 2211, 'depth': 5, 'learning_rate': 0.06189865590337132, 'l2_leaf_reg': 0.003018233894436618}. Best is trial 5 with value: 0.7389535903930664.\n"
     ]
    },
    {
     "name": "stdout",
     "output_type": "stream",
     "text": [
      "bestTest = 0.7380321622\n",
      "bestIteration = 583\n",
      "Shrink model to first 584 iterations.\n"
     ]
    },
    {
     "name": "stderr",
     "output_type": "stream",
     "text": [
      "Default metric period is 5 because AUC is/are not implemented for GPU\n"
     ]
    },
    {
     "name": "stdout",
     "output_type": "stream",
     "text": [
      "0:\ttest: 0.7001040\tbest: 0.7001040 (0)\ttotal: 19.9ms\tremaining: 32.6s\n",
      "300:\ttest: 0.7368117\tbest: 0.7368117 (300)\ttotal: 5.6s\tremaining: 25s\n",
      "600:\ttest: 0.7378473\tbest: 0.7378621 (594)\ttotal: 11.4s\tremaining: 19.8s\n",
      "900:\ttest: 0.7382107\tbest: 0.7382122 (899)\ttotal: 17s\tremaining: 14s\n",
      "1200:\ttest: 0.7384583\tbest: 0.7385095 (1187)\ttotal: 22.6s\tremaining: 8.32s\n",
      "1500:\ttest: 0.7385328\tbest: 0.7385397 (1497)\ttotal: 27.5s\tremaining: 2.62s\n"
     ]
    },
    {
     "name": "stderr",
     "output_type": "stream",
     "text": [
      "[I 2025-02-21 07:05:27,022] Trial 12 finished with value: 0.7385534048080444 and parameters: {'iterations': 1644, 'depth': 4, 'learning_rate': 0.03978991566576623, 'l2_leaf_reg': 0.003339730118875395}. Best is trial 5 with value: 0.7389535903930664.\n"
     ]
    },
    {
     "name": "stdout",
     "output_type": "stream",
     "text": [
      "1643:\ttest: 0.7384669\tbest: 0.7385534 (1506)\ttotal: 29.8s\tremaining: 0us\n",
      "bestTest = 0.7385534048\n",
      "bestIteration = 1506\n",
      "Shrink model to first 1507 iterations.\n"
     ]
    },
    {
     "name": "stderr",
     "output_type": "stream",
     "text": [
      "Default metric period is 5 because AUC is/are not implemented for GPU\n"
     ]
    },
    {
     "name": "stdout",
     "output_type": "stream",
     "text": [
      "0:\ttest: 0.7043999\tbest: 0.7043999 (0)\ttotal: 20.5ms\tremaining: 51.4s\n",
      "300:\ttest: 0.7378342\tbest: 0.7378342 (300)\ttotal: 6.01s\tremaining: 44s\n",
      "600:\ttest: 0.7383933\tbest: 0.7383933 (600)\ttotal: 12s\tremaining: 37.9s\n"
     ]
    },
    {
     "name": "stderr",
     "output_type": "stream",
     "text": [
      "[I 2025-02-21 07:05:48,978] Trial 13 finished with value: 0.7383933067321777 and parameters: {'iterations': 2506, 'depth': 5, 'learning_rate': 0.06125191144809531, 'l2_leaf_reg': 0.015206528978288768}. Best is trial 5 with value: 0.7389535903930664.\n"
     ]
    },
    {
     "name": "stdout",
     "output_type": "stream",
     "text": [
      "900:\ttest: 0.7381399\tbest: 0.7383933 (600)\ttotal: 18.7s\tremaining: 33.3s\n",
      "bestTest = 0.7383933067\n",
      "bestIteration = 600\n",
      "Shrink model to first 601 iterations.\n"
     ]
    },
    {
     "name": "stderr",
     "output_type": "stream",
     "text": [
      "Default metric period is 5 because AUC is/are not implemented for GPU\n"
     ]
    },
    {
     "name": "stdout",
     "output_type": "stream",
     "text": [
      "0:\ttest: 0.7205163\tbest: 0.7205163 (0)\ttotal: 29.1ms\tremaining: 1m 20s\n",
      "300:\ttest: 0.7379863\tbest: 0.7379863 (300)\ttotal: 8.76s\tremaining: 1m 11s\n",
      "600:\ttest: 0.7381128\tbest: 0.7383741 (496)\ttotal: 16.3s\tremaining: 58.3s\n",
      "bestTest = 0.7383740544\n",
      "bestIteration = 496\n",
      "Shrink model to first 497 iterations.\n"
     ]
    },
    {
     "name": "stderr",
     "output_type": "stream",
     "text": [
      "[I 2025-02-21 07:06:15,428] Trial 14 finished with value: 0.7383740544319153 and parameters: {'iterations': 2756, 'depth': 6, 'learning_rate': 0.044352969590181986, 'l2_leaf_reg': 0.0006182187093054876}. Best is trial 5 with value: 0.7389535903930664.\n",
      "Default metric period is 5 because AUC is/are not implemented for GPU\n"
     ]
    },
    {
     "name": "stdout",
     "output_type": "stream",
     "text": [
      "0:\ttest: 0.7269486\tbest: 0.7269486 (0)\ttotal: 47.1ms\tremaining: 1m 39s\n",
      "300:\ttest: 0.7372325\tbest: 0.7373629 (263)\ttotal: 14.4s\tremaining: 1m 26s\n"
     ]
    },
    {
     "name": "stderr",
     "output_type": "stream",
     "text": [
      "[I 2025-02-21 07:06:43,564] Trial 15 finished with value: 0.7373629212379456 and parameters: {'iterations': 2105, 'depth': 8, 'learning_rate': 0.032591146501246324, 'l2_leaf_reg': 0.0014863712149616702}. Best is trial 5 with value: 0.7389535903930664.\n"
     ]
    },
    {
     "name": "stdout",
     "output_type": "stream",
     "text": [
      "bestTest = 0.7373629212\n",
      "bestIteration = 263\n",
      "Shrink model to first 264 iterations.\n"
     ]
    },
    {
     "name": "stderr",
     "output_type": "stream",
     "text": [
      "Default metric period is 5 because AUC is/are not implemented for GPU\n"
     ]
    },
    {
     "name": "stdout",
     "output_type": "stream",
     "text": [
      "0:\ttest: 0.7205163\tbest: 0.7205163 (0)\ttotal: 26.8ms\tremaining: 1m 4s\n",
      "300:\ttest: 0.7368266\tbest: 0.7371916 (224)\ttotal: 7.45s\tremaining: 52.2s\n"
     ]
    },
    {
     "name": "stderr",
     "output_type": "stream",
     "text": [
      "[I 2025-02-21 07:06:59,453] Trial 16 finished with value: 0.7371916472911835 and parameters: {'iterations': 2409, 'depth': 6, 'learning_rate': 0.07292159010152478, 'l2_leaf_reg': 0.00023324126421526525}. Best is trial 5 with value: 0.7389535903930664.\n"
     ]
    },
    {
     "name": "stdout",
     "output_type": "stream",
     "text": [
      "bestTest = 0.7371916473\n",
      "bestIteration = 224\n",
      "Shrink model to first 225 iterations.\n"
     ]
    },
    {
     "name": "stderr",
     "output_type": "stream",
     "text": [
      "Default metric period is 5 because AUC is/are not implemented for GPU\n"
     ]
    },
    {
     "name": "stdout",
     "output_type": "stream",
     "text": [
      "0:\ttest: 0.7001040\tbest: 0.7001040 (0)\ttotal: 25.5ms\tremaining: 59s\n",
      "300:\ttest: 0.7358178\tbest: 0.7358178 (300)\ttotal: 5.07s\tremaining: 33.9s\n",
      "600:\ttest: 0.7374393\tbest: 0.7374393 (600)\ttotal: 9.18s\tremaining: 26.1s\n",
      "900:\ttest: 0.7380345\tbest: 0.7380443 (894)\ttotal: 13.8s\tremaining: 21.7s\n",
      "1200:\ttest: 0.7382327\tbest: 0.7382330 (1187)\ttotal: 18.8s\tremaining: 17.4s\n",
      "1500:\ttest: 0.7384073\tbest: 0.7384120 (1497)\ttotal: 22.9s\tremaining: 12.4s\n",
      "1800:\ttest: 0.7384683\tbest: 0.7384899 (1797)\ttotal: 27s\tremaining: 7.67s\n"
     ]
    },
    {
     "name": "stderr",
     "output_type": "stream",
     "text": [
      "[I 2025-02-21 07:07:34,100] Trial 17 finished with value: 0.7384898662567139 and parameters: {'iterations': 2313, 'depth': 4, 'learning_rate': 0.027720740649381025, 'l2_leaf_reg': 0.007954808409196443}. Best is trial 5 with value: 0.7389535903930664.\n"
     ]
    },
    {
     "name": "stdout",
     "output_type": "stream",
     "text": [
      "bestTest = 0.7384898663\n",
      "bestIteration = 1797\n",
      "Shrink model to first 1798 iterations.\n"
     ]
    },
    {
     "name": "stderr",
     "output_type": "stream",
     "text": [
      "Default metric period is 5 because AUC is/are not implemented for GPU\n"
     ]
    },
    {
     "name": "stdout",
     "output_type": "stream",
     "text": [
      "0:\ttest: 0.7043999\tbest: 0.7043999 (0)\ttotal: 24.1ms\tremaining: 50s\n",
      "300:\ttest: 0.7377245\tbest: 0.7377245 (300)\ttotal: 6.07s\tremaining: 35.8s\n",
      "600:\ttest: 0.7382396\tbest: 0.7382652 (595)\ttotal: 11.4s\tremaining: 27.9s\n"
     ]
    },
    {
     "name": "stderr",
     "output_type": "stream",
     "text": [
      "[I 2025-02-21 07:07:53,985] Trial 18 finished with value: 0.7382651567459106 and parameters: {'iterations': 2076, 'depth': 5, 'learning_rate': 0.05654138753483804, 'l2_leaf_reg': 0.048057719982985726}. Best is trial 5 with value: 0.7389535903930664.\n"
     ]
    },
    {
     "name": "stdout",
     "output_type": "stream",
     "text": [
      "bestTest = 0.7382651567\n",
      "bestIteration = 595\n",
      "Shrink model to first 596 iterations.\n"
     ]
    },
    {
     "name": "stderr",
     "output_type": "stream",
     "text": [
      "Default metric period is 5 because AUC is/are not implemented for GPU\n"
     ]
    },
    {
     "name": "stdout",
     "output_type": "stream",
     "text": [
      "0:\ttest: 0.7276175\tbest: 0.7276175 (0)\ttotal: 64.9ms\tremaining: 1m 57s\n",
      "300:\ttest: 0.7360011\tbest: 0.7369487 (169)\ttotal: 16.7s\tremaining: 1m 23s\n"
     ]
    },
    {
     "name": "stderr",
     "output_type": "stream",
     "text": [
      "[I 2025-02-21 07:08:23,107] Trial 19 finished with value: 0.7369486689567566 and parameters: {'iterations': 1813, 'depth': 9, 'learning_rate': 0.04990587242330812, 'l2_leaf_reg': 0.000613442415601495}. Best is trial 5 with value: 0.7389535903930664.\n"
     ]
    },
    {
     "name": "stdout",
     "output_type": "stream",
     "text": [
      "bestTest = 0.736948669\n",
      "bestIteration = 169\n",
      "Shrink model to first 170 iterations.\n"
     ]
    },
    {
     "name": "stderr",
     "output_type": "stream",
     "text": [
      "Default metric period is 5 because AUC is/are not implemented for GPU\n"
     ]
    },
    {
     "name": "stdout",
     "output_type": "stream",
     "text": [
      "0:\ttest: 0.7001040\tbest: 0.7001040 (0)\ttotal: 18.2ms\tremaining: 28.1s\n",
      "300:\ttest: 0.7380820\tbest: 0.7380835 (296)\ttotal: 4.97s\tremaining: 20.6s\n",
      "600:\ttest: 0.7385287\tbest: 0.7385611 (593)\ttotal: 9.23s\tremaining: 14.6s\n"
     ]
    },
    {
     "name": "stderr",
     "output_type": "stream",
     "text": [
      "[I 2025-02-21 07:08:39,822] Trial 20 finished with value: 0.7385611236095428 and parameters: {'iterations': 1551, 'depth': 4, 'learning_rate': 0.06739705544751556, 'l2_leaf_reg': 0.003702432922536908}. Best is trial 5 with value: 0.7389535903930664.\n"
     ]
    },
    {
     "name": "stdout",
     "output_type": "stream",
     "text": [
      "bestTest = 0.7385611236\n",
      "bestIteration = 593\n",
      "Shrink model to first 594 iterations.\n"
     ]
    },
    {
     "name": "stderr",
     "output_type": "stream",
     "text": [
      "Default metric period is 5 because AUC is/are not implemented for GPU\n"
     ]
    },
    {
     "name": "stdout",
     "output_type": "stream",
     "text": [
      "0:\ttest: 0.7001040\tbest: 0.7001040 (0)\ttotal: 21.9ms\tremaining: 33.1s\n",
      "300:\ttest: 0.7378417\tbest: 0.7378417 (300)\ttotal: 5.5s\tremaining: 22.1s\n",
      "600:\ttest: 0.7384448\tbest: 0.7384448 (600)\ttotal: 9.75s\tremaining: 14.8s\n",
      "900:\ttest: 0.7384607\tbest: 0.7385799 (873)\ttotal: 14s\tremaining: 9.5s\n",
      "1200:\ttest: 0.7386776\tbest: 0.7387045 (1167)\ttotal: 18.8s\tremaining: 4.87s\n",
      "1500:\ttest: 0.7387156\tbest: 0.7387349 (1491)\ttotal: 23.4s\tremaining: 172ms\n",
      "1511:\ttest: 0.7386938\tbest: 0.7387420 (1504)\ttotal: 23.6s\tremaining: 0us\n",
      "bestTest = 0.7387419939\n",
      "bestIteration = 1504\n",
      "Shrink model to first 1505 iterations.\n"
     ]
    },
    {
     "name": "stderr",
     "output_type": "stream",
     "text": [
      "[I 2025-02-21 07:09:07,071] Trial 21 finished with value: 0.7387419939041138 and parameters: {'iterations': 1512, 'depth': 4, 'learning_rate': 0.06575800106768093, 'l2_leaf_reg': 0.002502116172107738}. Best is trial 5 with value: 0.7389535903930664.\n",
      "Default metric period is 5 because AUC is/are not implemented for GPU\n"
     ]
    },
    {
     "name": "stdout",
     "output_type": "stream",
     "text": [
      "0:\ttest: 0.7043999\tbest: 0.7043999 (0)\ttotal: 27.3ms\tremaining: 43.3s\n",
      "300:\ttest: 0.7376181\tbest: 0.7377356 (189)\ttotal: 7.55s\tremaining: 32.2s\n"
     ]
    },
    {
     "name": "stderr",
     "output_type": "stream",
     "text": [
      "[I 2025-02-21 07:09:22,661] Trial 22 finished with value: 0.7377355694770813 and parameters: {'iterations': 1584, 'depth': 5, 'learning_rate': 0.08227129319516929, 'l2_leaf_reg': 0.0015297513871119217}. Best is trial 5 with value: 0.7389535903930664.\n"
     ]
    },
    {
     "name": "stdout",
     "output_type": "stream",
     "text": [
      "bestTest = 0.7377355695\n",
      "bestIteration = 189\n",
      "Shrink model to first 190 iterations.\n"
     ]
    },
    {
     "name": "stderr",
     "output_type": "stream",
     "text": [
      "Default metric period is 5 because AUC is/are not implemented for GPU\n"
     ]
    },
    {
     "name": "stdout",
     "output_type": "stream",
     "text": [
      "0:\ttest: 0.7001040\tbest: 0.7001040 (0)\ttotal: 18.5ms\tremaining: 32.3s\n",
      "300:\ttest: 0.7379405\tbest: 0.7379405 (300)\ttotal: 5.62s\tremaining: 26.9s\n",
      "600:\ttest: 0.7385220\tbest: 0.7385308 (593)\ttotal: 11.2s\tremaining: 21.2s\n",
      "900:\ttest: 0.7385030\tbest: 0.7387196 (748)\ttotal: 16.6s\tremaining: 15.5s\n"
     ]
    },
    {
     "name": "stderr",
     "output_type": "stream",
     "text": [
      "[I 2025-02-21 07:09:45,330] Trial 23 finished with value: 0.7387195825576782 and parameters: {'iterations': 1742, 'depth': 4, 'learning_rate': 0.05903122921181449, 'l2_leaf_reg': 0.0003553186670254237}. Best is trial 5 with value: 0.7389535903930664.\n"
     ]
    },
    {
     "name": "stdout",
     "output_type": "stream",
     "text": [
      "bestTest = 0.7387195826\n",
      "bestIteration = 748\n",
      "Shrink model to first 749 iterations.\n"
     ]
    },
    {
     "name": "stderr",
     "output_type": "stream",
     "text": [
      "Default metric period is 5 because AUC is/are not implemented for GPU\n"
     ]
    },
    {
     "name": "stdout",
     "output_type": "stream",
     "text": [
      "0:\ttest: 0.7205163\tbest: 0.7205163 (0)\ttotal: 29.6ms\tremaining: 50.6s\n",
      "300:\ttest: 0.7376776\tbest: 0.7377495 (221)\ttotal: 9.94s\tremaining: 46.5s\n",
      "600:\ttest: 0.7371200\tbest: 0.7378387 (394)\ttotal: 19s\tremaining: 35.1s\n"
     ]
    },
    {
     "name": "stderr",
     "output_type": "stream",
     "text": [
      "[I 2025-02-21 07:10:10,461] Trial 24 finished with value: 0.7378387451171875 and parameters: {'iterations': 1708, 'depth': 6, 'learning_rate': 0.058781473485703735, 'l2_leaf_reg': 0.0001057385018167438}. Best is trial 5 with value: 0.7389535903930664.\n"
     ]
    },
    {
     "name": "stdout",
     "output_type": "stream",
     "text": [
      "bestTest = 0.7378387451\n",
      "bestIteration = 394\n",
      "Shrink model to first 395 iterations.\n"
     ]
    },
    {
     "name": "stderr",
     "output_type": "stream",
     "text": [
      "Default metric period is 5 because AUC is/are not implemented for GPU\n"
     ]
    },
    {
     "name": "stdout",
     "output_type": "stream",
     "text": [
      "0:\ttest: 0.7043999\tbest: 0.7043999 (0)\ttotal: 23.3ms\tremaining: 35.1s\n",
      "300:\ttest: 0.7377636\tbest: 0.7377756 (295)\ttotal: 7s\tremaining: 28.1s\n",
      "600:\ttest: 0.7379777\tbest: 0.7380683 (486)\ttotal: 14.1s\tremaining: 21.2s\n"
     ]
    },
    {
     "name": "stderr",
     "output_type": "stream",
     "text": [
      "[I 2025-02-21 07:10:32,193] Trial 25 finished with value: 0.7380682528018951 and parameters: {'iterations': 1508, 'depth': 5, 'learning_rate': 0.06563311917600095, 'l2_leaf_reg': 0.02082057799187597}. Best is trial 5 with value: 0.7389535903930664.\n"
     ]
    },
    {
     "name": "stdout",
     "output_type": "stream",
     "text": [
      "bestTest = 0.7380682528\n",
      "bestIteration = 486\n",
      "Shrink model to first 487 iterations.\n"
     ]
    },
    {
     "name": "stderr",
     "output_type": "stream",
     "text": [
      "Default metric period is 5 because AUC is/are not implemented for GPU\n"
     ]
    },
    {
     "name": "stdout",
     "output_type": "stream",
     "text": [
      "0:\ttest: 0.7001040\tbest: 0.7001040 (0)\ttotal: 18.1ms\tremaining: 33.3s\n",
      "300:\ttest: 0.7372164\tbest: 0.7372164 (300)\ttotal: 5.64s\tremaining: 28.9s\n",
      "600:\ttest: 0.7378637\tbest: 0.7378938 (593)\ttotal: 11.5s\tremaining: 23.7s\n",
      "900:\ttest: 0.7379285\tbest: 0.7380742 (743)\ttotal: 17s\tremaining: 17.8s\n"
     ]
    },
    {
     "name": "stderr",
     "output_type": "stream",
     "text": [
      "[I 2025-02-21 07:10:55,147] Trial 26 finished with value: 0.7380742430686951 and parameters: {'iterations': 1845, 'depth': 4, 'learning_rate': 0.05416614391769811, 'l2_leaf_reg': 0.00035050862927260226}. Best is trial 5 with value: 0.7389535903930664.\n"
     ]
    },
    {
     "name": "stdout",
     "output_type": "stream",
     "text": [
      "bestTest = 0.7380742431\n",
      "bestIteration = 743\n",
      "Shrink model to first 744 iterations.\n"
     ]
    },
    {
     "name": "stderr",
     "output_type": "stream",
     "text": [
      "Default metric period is 5 because AUC is/are not implemented for GPU\n"
     ]
    },
    {
     "name": "stdout",
     "output_type": "stream",
     "text": [
      "0:\ttest: 0.7043999\tbest: 0.7043999 (0)\ttotal: 24.2ms\tremaining: 41.1s\n",
      "300:\ttest: 0.7378402\tbest: 0.7378402 (300)\ttotal: 7.11s\tremaining: 33.1s\n"
     ]
    },
    {
     "name": "stderr",
     "output_type": "stream",
     "text": [
      "[I 2025-02-21 07:11:12,732] Trial 27 finished with value: 0.7378402054309845 and parameters: {'iterations': 1703, 'depth': 5, 'learning_rate': 0.07033389826766662, 'l2_leaf_reg': 0.005116341254727002}. Best is trial 5 with value: 0.7389535903930664.\n"
     ]
    },
    {
     "name": "stdout",
     "output_type": "stream",
     "text": [
      "600:\ttest: 0.7373956\tbest: 0.7378402 (300)\ttotal: 14.1s\tremaining: 25.9s\n",
      "bestTest = 0.7378402054\n",
      "bestIteration = 300\n",
      "Shrink model to first 301 iterations.\n"
     ]
    },
    {
     "name": "stderr",
     "output_type": "stream",
     "text": [
      "Default metric period is 5 because AUC is/are not implemented for GPU\n"
     ]
    },
    {
     "name": "stdout",
     "output_type": "stream",
     "text": [
      "0:\ttest: 0.7001040\tbest: 0.7001040 (0)\ttotal: 18.2ms\tremaining: 36.6s\n",
      "300:\ttest: 0.7378261\tbest: 0.7378261 (300)\ttotal: 4.97s\tremaining: 28.3s\n",
      "600:\ttest: 0.7385893\tbest: 0.7385893 (600)\ttotal: 9.41s\tremaining: 22.1s\n",
      "900:\ttest: 0.7385696\tbest: 0.7386877 (721)\ttotal: 14.7s\tremaining: 18.2s\n"
     ]
    },
    {
     "name": "stderr",
     "output_type": "stream",
     "text": [
      "[I 2025-02-21 07:11:32,539] Trial 28 finished with value: 0.7386876940727234 and parameters: {'iterations': 2012, 'depth': 4, 'learning_rate': 0.0642292806992942, 'l2_leaf_reg': 0.0003208558956727222}. Best is trial 5 with value: 0.7389535903930664.\n"
     ]
    },
    {
     "name": "stdout",
     "output_type": "stream",
     "text": [
      "bestTest = 0.7386876941\n",
      "bestIteration = 721\n",
      "Shrink model to first 722 iterations.\n"
     ]
    },
    {
     "name": "stderr",
     "output_type": "stream",
     "text": [
      "Default metric period is 5 because AUC is/are not implemented for GPU\n"
     ]
    },
    {
     "name": "stdout",
     "output_type": "stream",
     "text": [
      "0:\ttest: 0.7205163\tbest: 0.7205163 (0)\ttotal: 32.1ms\tremaining: 56.9s\n",
      "300:\ttest: 0.7374844\tbest: 0.7375464 (270)\ttotal: 7.75s\tremaining: 37.9s\n",
      "600:\ttest: 0.7373273\tbest: 0.7376716 (396)\ttotal: 14.3s\tremaining: 27.9s\n"
     ]
    },
    {
     "name": "stderr",
     "output_type": "stream",
     "text": [
      "[I 2025-02-21 07:11:52,274] Trial 29 finished with value: 0.7376716434955597 and parameters: {'iterations': 1774, 'depth': 6, 'learning_rate': 0.07711242988239281, 'l2_leaf_reg': 0.0017168284526872934}. Best is trial 5 with value: 0.7389535903930664.\n"
     ]
    },
    {
     "name": "stdout",
     "output_type": "stream",
     "text": [
      "bestTest = 0.7376716435\n",
      "bestIteration = 396\n",
      "Shrink model to first 397 iterations.\n"
     ]
    },
    {
     "name": "stderr",
     "output_type": "stream",
     "text": [
      "Default metric period is 5 because AUC is/are not implemented for GPU\n"
     ]
    },
    {
     "name": "stdout",
     "output_type": "stream",
     "text": [
      "0:\ttest: 0.7269486\tbest: 0.7269486 (0)\ttotal: 50.5ms\tremaining: 1m 21s\n",
      "300:\ttest: 0.7346672\tbest: 0.7365860 (111)\ttotal: 12.3s\tremaining: 53.7s\n"
     ]
    },
    {
     "name": "stderr",
     "output_type": "stream",
     "text": [
      "[I 2025-02-21 07:12:12,166] Trial 30 finished with value: 0.7365860044956207 and parameters: {'iterations': 1614, 'depth': 8, 'learning_rate': 0.08840619295333227, 'l2_leaf_reg': 0.005191387774302833}. Best is trial 5 with value: 0.7389535903930664.\n"
     ]
    },
    {
     "name": "stdout",
     "output_type": "stream",
     "text": [
      "bestTest = 0.7365860045\n",
      "bestIteration = 111\n",
      "Shrink model to first 112 iterations.\n"
     ]
    },
    {
     "name": "stderr",
     "output_type": "stream",
     "text": [
      "Default metric period is 5 because AUC is/are not implemented for GPU\n"
     ]
    },
    {
     "name": "stdout",
     "output_type": "stream",
     "text": [
      "0:\ttest: 0.7001040\tbest: 0.7001040 (0)\ttotal: 17ms\tremaining: 34.3s\n",
      "300:\ttest: 0.7378057\tbest: 0.7378123 (295)\ttotal: 4.71s\tremaining: 26.9s\n",
      "600:\ttest: 0.7381766\tbest: 0.7381797 (594)\ttotal: 8.97s\tremaining: 21.2s\n",
      "900:\ttest: 0.7385519\tbest: 0.7385519 (900)\ttotal: 13.4s\tremaining: 16.7s\n",
      "1200:\ttest: 0.7386228\tbest: 0.7386975 (1167)\ttotal: 18.2s\tremaining: 12.4s\n"
     ]
    },
    {
     "name": "stderr",
     "output_type": "stream",
     "text": [
      "[I 2025-02-21 07:12:37,551] Trial 31 finished with value: 0.7386974692344666 and parameters: {'iterations': 2019, 'depth': 4, 'learning_rate': 0.06395104552973192, 'l2_leaf_reg': 0.00024720256905716995}. Best is trial 5 with value: 0.7389535903930664.\n"
     ]
    },
    {
     "name": "stdout",
     "output_type": "stream",
     "text": [
      "bestTest = 0.7386974692\n",
      "bestIteration = 1167\n",
      "Shrink model to first 1168 iterations.\n"
     ]
    },
    {
     "name": "stderr",
     "output_type": "stream",
     "text": [
      "Default metric period is 5 because AUC is/are not implemented for GPU\n"
     ]
    },
    {
     "name": "stdout",
     "output_type": "stream",
     "text": [
      "0:\ttest: 0.7001040\tbest: 0.7001040 (0)\ttotal: 17.2ms\tremaining: 36.1s\n",
      "300:\ttest: 0.7378939\tbest: 0.7378939 (300)\ttotal: 4.56s\tremaining: 27.2s\n",
      "600:\ttest: 0.7383783\tbest: 0.7383783 (600)\ttotal: 8.84s\tremaining: 22s\n",
      "900:\ttest: 0.7383266\tbest: 0.7385287 (755)\ttotal: 13.1s\tremaining: 17.5s\n"
     ]
    },
    {
     "name": "stderr",
     "output_type": "stream",
     "text": [
      "[I 2025-02-21 07:12:56,248] Trial 32 finished with value: 0.7385287284851074 and parameters: {'iterations': 2100, 'depth': 4, 'learning_rate': 0.0679586493567111, 'l2_leaf_reg': 0.00013327620016505165}. Best is trial 5 with value: 0.7389535903930664.\n"
     ]
    },
    {
     "name": "stdout",
     "output_type": "stream",
     "text": [
      "bestTest = 0.7385287285\n",
      "bestIteration = 755\n",
      "Shrink model to first 756 iterations.\n"
     ]
    },
    {
     "name": "stderr",
     "output_type": "stream",
     "text": [
      "Default metric period is 5 because AUC is/are not implemented for GPU\n"
     ]
    },
    {
     "name": "stdout",
     "output_type": "stream",
     "text": [
      "0:\ttest: 0.7001040\tbest: 0.7001040 (0)\ttotal: 14.6ms\tremaining: 27.5s\n",
      "300:\ttest: 0.7374197\tbest: 0.7374197 (300)\ttotal: 4.29s\tremaining: 22.6s\n",
      "600:\ttest: 0.7381741\tbest: 0.7381936 (593)\ttotal: 8.54s\tremaining: 18.2s\n",
      "900:\ttest: 0.7383365\tbest: 0.7383597 (883)\ttotal: 12.8s\tremaining: 14s\n",
      "1200:\ttest: 0.7385199\tbest: 0.7385865 (1174)\ttotal: 17.1s\tremaining: 9.71s\n"
     ]
    },
    {
     "name": "stderr",
     "output_type": "stream",
     "text": [
      "[I 2025-02-21 07:13:20,508] Trial 33 finished with value: 0.7385865449905396 and parameters: {'iterations': 1885, 'depth': 4, 'learning_rate': 0.05763892940068996, 'l2_leaf_reg': 0.0004522487309360907}. Best is trial 5 with value: 0.7389535903930664.\n"
     ]
    },
    {
     "name": "stdout",
     "output_type": "stream",
     "text": [
      "bestTest = 0.738586545\n",
      "bestIteration = 1174\n",
      "Shrink model to first 1175 iterations.\n"
     ]
    },
    {
     "name": "stderr",
     "output_type": "stream",
     "text": [
      "Default metric period is 5 because AUC is/are not implemented for GPU\n"
     ]
    },
    {
     "name": "stdout",
     "output_type": "stream",
     "text": [
      "0:\ttest: 0.7001040\tbest: 0.7001040 (0)\ttotal: 18.6ms\tremaining: 37s\n",
      "300:\ttest: 0.7378650\tbest: 0.7378832 (292)\ttotal: 4.69s\tremaining: 26.3s\n",
      "600:\ttest: 0.7384237\tbest: 0.7385024 (528)\ttotal: 8.72s\tremaining: 20.2s\n",
      "900:\ttest: 0.7384700\tbest: 0.7385394 (746)\ttotal: 12.8s\tremaining: 15.4s\n",
      "1200:\ttest: 0.7385157\tbest: 0.7386031 (1167)\ttotal: 16.9s\tremaining: 11.1s\n",
      "1500:\ttest: 0.7385409\tbest: 0.7386053 (1457)\ttotal: 20.9s\tremaining: 6.82s\n",
      "1800:\ttest: 0.7384630\tbest: 0.7386285 (1612)\ttotal: 25s\tremaining: 2.62s\n"
     ]
    },
    {
     "name": "stderr",
     "output_type": "stream",
     "text": [
      "[I 2025-02-21 07:13:50,456] Trial 34 finished with value: 0.7386285364627838 and parameters: {'iterations': 1990, 'depth': 4, 'learning_rate': 0.07302542098710128, 'l2_leaf_reg': 0.0010364125399243854}. Best is trial 5 with value: 0.7389535903930664.\n"
     ]
    },
    {
     "name": "stdout",
     "output_type": "stream",
     "text": [
      "bestTest = 0.7386285365\n",
      "bestIteration = 1612\n",
      "Shrink model to first 1613 iterations.\n"
     ]
    },
    {
     "name": "stderr",
     "output_type": "stream",
     "text": [
      "Default metric period is 5 because AUC is/are not implemented for GPU\n"
     ]
    },
    {
     "name": "stdout",
     "output_type": "stream",
     "text": [
      "0:\ttest: 0.7043999\tbest: 0.7043999 (0)\ttotal: 21.6ms\tremaining: 47.2s\n",
      "300:\ttest: 0.7379393\tbest: 0.7379393 (300)\ttotal: 6s\tremaining: 37.6s\n",
      "600:\ttest: 0.7371765\tbest: 0.7380381 (351)\ttotal: 11.2s\tremaining: 29.6s\n"
     ]
    },
    {
     "name": "stderr",
     "output_type": "stream",
     "text": [
      "[I 2025-02-21 07:14:05,908] Trial 35 finished with value: 0.7380380630493164 and parameters: {'iterations': 2184, 'depth': 5, 'learning_rate': 0.0853310712118788, 'l2_leaf_reg': 0.0001024123579560102}. Best is trial 5 with value: 0.7389535903930664.\n"
     ]
    },
    {
     "name": "stdout",
     "output_type": "stream",
     "text": [
      "bestTest = 0.738038063\n",
      "bestIteration = 351\n",
      "Shrink model to first 352 iterations.\n"
     ]
    },
    {
     "name": "stderr",
     "output_type": "stream",
     "text": [
      "Default metric period is 5 because AUC is/are not implemented for GPU\n"
     ]
    },
    {
     "name": "stdout",
     "output_type": "stream",
     "text": [
      "0:\ttest: 0.7001040\tbest: 0.7001040 (0)\ttotal: 17.2ms\tremaining: 28.8s\n",
      "300:\ttest: 0.7378874\tbest: 0.7379048 (296)\ttotal: 4.91s\tremaining: 22.4s\n",
      "600:\ttest: 0.7381452\tbest: 0.7381592 (484)\ttotal: 8.95s\tremaining: 16s\n",
      "900:\ttest: 0.7382743\tbest: 0.7382743 (900)\ttotal: 13s\tremaining: 11.2s\n",
      "1200:\ttest: 0.7384169\tbest: 0.7385063 (1146)\ttotal: 17s\tremaining: 6.73s\n",
      "1500:\ttest: 0.7383811\tbest: 0.7385482 (1307)\ttotal: 21.1s\tremaining: 2.45s\n"
     ]
    },
    {
     "name": "stderr",
     "output_type": "stream",
     "text": [
      "[I 2025-02-21 07:14:31,792] Trial 36 finished with value: 0.7385481595993042 and parameters: {'iterations': 1676, 'depth': 4, 'learning_rate': 0.07682514603226613, 'l2_leaf_reg': 0.00028300713875412234}. Best is trial 5 with value: 0.7389535903930664.\n"
     ]
    },
    {
     "name": "stdout",
     "output_type": "stream",
     "text": [
      "bestTest = 0.7385481596\n",
      "bestIteration = 1307\n",
      "Shrink model to first 1308 iterations.\n"
     ]
    },
    {
     "name": "stderr",
     "output_type": "stream",
     "text": [
      "Default metric period is 5 because AUC is/are not implemented for GPU\n"
     ]
    },
    {
     "name": "stdout",
     "output_type": "stream",
     "text": [
      "0:\ttest: 0.7043999\tbest: 0.7043999 (0)\ttotal: 23.1ms\tremaining: 40.7s\n",
      "300:\ttest: 0.7380641\tbest: 0.7380641 (300)\ttotal: 6.02s\tremaining: 29.3s\n",
      "600:\ttest: 0.7384110\tbest: 0.7384604 (522)\ttotal: 11.2s\tremaining: 21.8s\n"
     ]
    },
    {
     "name": "stderr",
     "output_type": "stream",
     "text": [
      "[I 2025-02-21 07:14:50,272] Trial 37 finished with value: 0.73846036195755 and parameters: {'iterations': 1766, 'depth': 5, 'learning_rate': 0.06260815172268022, 'l2_leaf_reg': 0.0008495014955634163}. Best is trial 5 with value: 0.7389535903930664.\n"
     ]
    },
    {
     "name": "stdout",
     "output_type": "stream",
     "text": [
      "bestTest = 0.738460362\n",
      "bestIteration = 522\n",
      "Shrink model to first 523 iterations.\n"
     ]
    },
    {
     "name": "stderr",
     "output_type": "stream",
     "text": [
      "Default metric period is 5 because AUC is/are not implemented for GPU\n"
     ]
    },
    {
     "name": "stdout",
     "output_type": "stream",
     "text": [
      "0:\ttest: 0.7001040\tbest: 0.7001040 (0)\ttotal: 19.9ms\tremaining: 29.9s\n",
      "300:\ttest: 0.7377622\tbest: 0.7377622 (300)\ttotal: 4.89s\tremaining: 19.5s\n",
      "600:\ttest: 0.7383073\tbest: 0.7383356 (587)\ttotal: 8.95s\tremaining: 13.5s\n",
      "900:\ttest: 0.7384753\tbest: 0.7384830 (710)\ttotal: 13s\tremaining: 8.73s\n"
     ]
    },
    {
     "name": "stderr",
     "output_type": "stream",
     "text": [
      "[I 2025-02-21 07:15:08,201] Trial 38 finished with value: 0.7384829521179199 and parameters: {'iterations': 1505, 'depth': 4, 'learning_rate': 0.06842453276838158, 'l2_leaf_reg': 0.0018961134019639353}. Best is trial 5 with value: 0.7389535903930664.\n"
     ]
    },
    {
     "name": "stdout",
     "output_type": "stream",
     "text": [
      "bestTest = 0.7384829521\n",
      "bestIteration = 710\n",
      "Shrink model to first 711 iterations.\n"
     ]
    },
    {
     "name": "stderr",
     "output_type": "stream",
     "text": [
      "Default metric period is 5 because AUC is/are not implemented for GPU\n"
     ]
    },
    {
     "name": "stdout",
     "output_type": "stream",
     "text": [
      "0:\ttest: 0.7001040\tbest: 0.7001040 (0)\ttotal: 14ms\tremaining: 30.4s\n",
      "300:\ttest: 0.7377020\tbest: 0.7377020 (300)\ttotal: 4.08s\tremaining: 25.4s\n",
      "600:\ttest: 0.7382154\tbest: 0.7382226 (471)\ttotal: 8.12s\tremaining: 21.3s\n",
      "900:\ttest: 0.7383665\tbest: 0.7384239 (753)\ttotal: 12.2s\tremaining: 17.2s\n",
      "1200:\ttest: 0.7387011\tbest: 0.7387043 (1195)\ttotal: 16.2s\tremaining: 13.2s\n",
      "1500:\ttest: 0.7387505\tbest: 0.7388651 (1347)\ttotal: 20.3s\tremaining: 9.13s\n",
      "1800:\ttest: 0.7386844\tbest: 0.7389655 (1611)\ttotal: 24.4s\tremaining: 5.06s\n"
     ]
    },
    {
     "name": "stderr",
     "output_type": "stream",
     "text": [
      "[I 2025-02-21 07:15:37,480] Trial 39 finished with value: 0.7389654517173767 and parameters: {'iterations': 2175, 'depth': 4, 'learning_rate': 0.08103129583237369, 'l2_leaf_reg': 0.0006263966931664231}. Best is trial 39 with value: 0.7389654517173767.\n",
      "[I 2025-02-21 07:15:37,484] A new study created in memory with name: no-name-7de7144a-31ad-4835-a781-0f9606e2575d\n"
     ]
    },
    {
     "name": "stdout",
     "output_type": "stream",
     "text": [
      "bestTest = 0.7389654517\n",
      "bestIteration = 1611\n",
      "Shrink model to first 1612 iterations.\n",
      "저장 완료\n"
     ]
    },
    {
     "name": "stderr",
     "output_type": "stream",
     "text": [
      "[I 2025-02-21 07:15:53,702] Trial 0 finished with value: 0.7289059534988892 and parameters: {'num_iterations': 2366, 'objective': 'binary', 'metric': 'auc', 'verbose': -1, 'learning_rate': 0.0652646236447618, 'n_estimators': 236, 'min_child_samples': 45, 'subsample': 0.7, 'colsample_bytree': 0.5}. Best is trial 0 with value: 0.7289059534988892.\n",
      "[I 2025-02-21 07:16:06,304] Trial 1 finished with value: 0.7373665817966507 and parameters: {'num_iterations': 1510, 'objective': 'binary', 'metric': 'auc', 'verbose': -1, 'learning_rate': 0.005231880959249543, 'n_estimators': 1411, 'min_child_samples': 10, 'subsample': 1.0, 'colsample_bytree': 0.5}. Best is trial 1 with value: 0.7373665817966507.\n",
      "[I 2025-02-21 07:16:17,599] Trial 2 finished with value: 0.7366186733180176 and parameters: {'num_iterations': 2334, 'objective': 'binary', 'metric': 'auc', 'verbose': -1, 'learning_rate': 0.006578527777128852, 'n_estimators': 931, 'min_child_samples': 15, 'subsample': 0.5, 'colsample_bytree': 1.0}. Best is trial 1 with value: 0.7373665817966507.\n",
      "[I 2025-02-21 07:16:28,760] Trial 3 finished with value: 0.7370427361706025 and parameters: {'num_iterations': 1620, 'objective': 'binary', 'metric': 'auc', 'verbose': -1, 'learning_rate': 0.0058823249237283685, 'n_estimators': 837, 'min_child_samples': 10, 'subsample': 0.9, 'colsample_bytree': 0.6}. Best is trial 1 with value: 0.7373665817966507.\n",
      "[I 2025-02-21 07:16:40,290] Trial 4 finished with value: 0.7365732185834044 and parameters: {'num_iterations': 1997, 'objective': 'binary', 'metric': 'auc', 'verbose': -1, 'learning_rate': 0.010907507425244923, 'n_estimators': 1597, 'min_child_samples': 50, 'subsample': 0.6, 'colsample_bytree': 0.8}. Best is trial 1 with value: 0.7373665817966507.\n",
      "[I 2025-02-21 07:16:51,898] Trial 5 finished with value: 0.7343449398949189 and parameters: {'num_iterations': 2909, 'objective': 'binary', 'metric': 'auc', 'verbose': -1, 'learning_rate': 0.019760591962733942, 'n_estimators': 612, 'min_child_samples': 30, 'subsample': 0.7, 'colsample_bytree': 0.9}. Best is trial 1 with value: 0.7373665817966507.\n",
      "[I 2025-02-21 07:17:02,714] Trial 6 finished with value: 0.7347674461601038 and parameters: {'num_iterations': 2639, 'objective': 'binary', 'metric': 'auc', 'verbose': -1, 'learning_rate': 0.017862094446750985, 'n_estimators': 794, 'min_child_samples': 35, 'subsample': 1.0, 'colsample_bytree': 0.8}. Best is trial 1 with value: 0.7373665817966507.\n",
      "[I 2025-02-21 07:17:13,646] Trial 7 finished with value: 0.7371426595515586 and parameters: {'num_iterations': 1580, 'objective': 'binary', 'metric': 'auc', 'verbose': -1, 'learning_rate': 0.01776722177611332, 'n_estimators': 529, 'min_child_samples': 25, 'subsample': 0.8, 'colsample_bytree': 0.5}. Best is trial 1 with value: 0.7373665817966507.\n",
      "[I 2025-02-21 07:17:23,591] Trial 8 finished with value: 0.7338632158034665 and parameters: {'num_iterations': 1911, 'objective': 'binary', 'metric': 'auc', 'verbose': -1, 'learning_rate': 0.0304747553332844, 'n_estimators': 1328, 'min_child_samples': 10, 'subsample': 0.7, 'colsample_bytree': 0.6}. Best is trial 1 with value: 0.7373665817966507.\n",
      "[I 2025-02-21 07:17:41,619] Trial 9 finished with value: 0.7341584472233801 and parameters: {'num_iterations': 2739, 'objective': 'binary', 'metric': 'auc', 'verbose': -1, 'learning_rate': 0.02691531614176271, 'n_estimators': 1438, 'min_child_samples': 20, 'subsample': 0.6, 'colsample_bytree': 0.5}. Best is trial 1 with value: 0.7373665817966507.\n",
      "[I 2025-02-21 07:17:52,706] Trial 10 finished with value: 0.7369679723247655 and parameters: {'num_iterations': 1933, 'objective': 'binary', 'metric': 'auc', 'verbose': -1, 'learning_rate': 0.005056518318073186, 'n_estimators': 1960, 'min_child_samples': 40, 'subsample': 1.0, 'colsample_bytree': 0.7}. Best is trial 1 with value: 0.7373665817966507.\n",
      "[I 2025-02-21 07:18:03,599] Trial 11 finished with value: 0.7374297784509154 and parameters: {'num_iterations': 1513, 'objective': 'binary', 'metric': 'auc', 'verbose': -1, 'learning_rate': 0.009791292266126204, 'n_estimators': 299, 'min_child_samples': 25, 'subsample': 0.9, 'colsample_bytree': 0.5}. Best is trial 11 with value: 0.7374297784509154.\n",
      "[I 2025-02-21 07:18:13,407] Trial 12 finished with value: 0.7371549970950585 and parameters: {'num_iterations': 1550, 'objective': 'binary', 'metric': 'auc', 'verbose': -1, 'learning_rate': 0.009303222125489577, 'n_estimators': 217, 'min_child_samples': 20, 'subsample': 0.9, 'colsample_bytree': 0.6}. Best is trial 11 with value: 0.7374297784509154.\n",
      "[I 2025-02-21 07:18:22,106] Trial 13 finished with value: 0.7366903914941203 and parameters: {'num_iterations': 1777, 'objective': 'binary', 'metric': 'auc', 'verbose': -1, 'learning_rate': 0.010074542479113706, 'n_estimators': 1108, 'min_child_samples': 30, 'subsample': 0.9, 'colsample_bytree': 0.7}. Best is trial 11 with value: 0.7374297784509154.\n",
      "[I 2025-02-21 07:18:38,283] Trial 14 finished with value: 0.7374980062180266 and parameters: {'num_iterations': 2165, 'objective': 'binary', 'metric': 'auc', 'verbose': -1, 'learning_rate': 0.007743291910576596, 'n_estimators': 1729, 'min_child_samples': 20, 'subsample': 1.0, 'colsample_bytree': 0.5}. Best is trial 14 with value: 0.7374980062180266.\n",
      "[I 2025-02-21 07:18:51,334] Trial 15 finished with value: 0.7372193095683522 and parameters: {'num_iterations': 2161, 'objective': 'binary', 'metric': 'auc', 'verbose': -1, 'learning_rate': 0.008374127743321325, 'n_estimators': 1989, 'min_child_samples': 25, 'subsample': 0.8, 'colsample_bytree': 0.6}. Best is trial 14 with value: 0.7374980062180266.\n",
      "[I 2025-02-21 07:19:02,347] Trial 16 finished with value: 0.7363149918522179 and parameters: {'num_iterations': 2495, 'objective': 'binary', 'metric': 'auc', 'verbose': -1, 'learning_rate': 0.013406794263591475, 'n_estimators': 1727, 'min_child_samples': 20, 'subsample': 0.9, 'colsample_bytree': 0.7}. Best is trial 14 with value: 0.7374980062180266.\n",
      "[I 2025-02-21 07:19:17,939] Trial 17 finished with value: 0.7374679624928512 and parameters: {'num_iterations': 2141, 'objective': 'binary', 'metric': 'auc', 'verbose': -1, 'learning_rate': 0.007478341402797926, 'n_estimators': 1147, 'min_child_samples': 30, 'subsample': 1.0, 'colsample_bytree': 0.5}. Best is trial 14 with value: 0.7374980062180266.\n",
      "[I 2025-02-21 07:19:31,410] Trial 18 finished with value: 0.7372364201170941 and parameters: {'num_iterations': 2177, 'objective': 'binary', 'metric': 'auc', 'verbose': -1, 'learning_rate': 0.007233500446117011, 'n_estimators': 1184, 'min_child_samples': 35, 'subsample': 1.0, 'colsample_bytree': 0.6}. Best is trial 14 with value: 0.7374980062180266.\n",
      "[I 2025-02-21 07:19:41,621] Trial 19 finished with value: 0.7364314579451858 and parameters: {'num_iterations': 2073, 'objective': 'binary', 'metric': 'auc', 'verbose': -1, 'learning_rate': 0.0071545425058209666, 'n_estimators': 1683, 'min_child_samples': 35, 'subsample': 0.8, 'colsample_bytree': 0.9}. Best is trial 14 with value: 0.7374980062180266.\n",
      "[I 2025-02-21 07:19:58,553] Trial 20 finished with value: 0.7367245331738795 and parameters: {'num_iterations': 2447, 'objective': 'binary', 'metric': 'auc', 'verbose': -1, 'learning_rate': 0.01351832368540918, 'n_estimators': 1786, 'min_child_samples': 15, 'subsample': 1.0, 'colsample_bytree': 0.5}. Best is trial 14 with value: 0.7374980062180266.\n",
      "[I 2025-02-21 07:20:12,845] Trial 21 finished with value: 0.7375034185359508 and parameters: {'num_iterations': 1778, 'objective': 'binary', 'metric': 'auc', 'verbose': -1, 'learning_rate': 0.008049539837734501, 'n_estimators': 469, 'min_child_samples': 25, 'subsample': 0.9, 'colsample_bytree': 0.5}. Best is trial 21 with value: 0.7375034185359508.\n",
      "[I 2025-02-21 07:20:24,586] Trial 22 finished with value: 0.7372323658422588 and parameters: {'num_iterations': 1841, 'objective': 'binary', 'metric': 'auc', 'verbose': -1, 'learning_rate': 0.006989713867657917, 'n_estimators': 572, 'min_child_samples': 30, 'subsample': 1.0, 'colsample_bytree': 0.6}. Best is trial 21 with value: 0.7375034185359508.\n",
      "[I 2025-02-21 07:20:37,319] Trial 23 finished with value: 0.737517459589641 and parameters: {'num_iterations': 1742, 'objective': 'binary', 'metric': 'auc', 'verbose': -1, 'learning_rate': 0.00805817232099875, 'n_estimators': 1257, 'min_child_samples': 25, 'subsample': 0.9, 'colsample_bytree': 0.5}. Best is trial 23 with value: 0.737517459589641.\n",
      "[I 2025-02-21 07:20:50,871] Trial 24 finished with value: 0.7374098525438403 and parameters: {'num_iterations': 1736, 'objective': 'binary', 'metric': 'auc', 'verbose': -1, 'learning_rate': 0.0050922360074195224, 'n_estimators': 1303, 'min_child_samples': 15, 'subsample': 0.9, 'colsample_bytree': 0.5}. Best is trial 23 with value: 0.737517459589641.\n",
      "[I 2025-02-21 07:21:00,601] Trial 25 finished with value: 0.7371603577914617 and parameters: {'num_iterations': 1682, 'objective': 'binary', 'metric': 'auc', 'verbose': -1, 'learning_rate': 0.012769575165147328, 'n_estimators': 1574, 'min_child_samples': 25, 'subsample': 0.8, 'colsample_bytree': 0.6}. Best is trial 23 with value: 0.737517459589641.\n",
      "[I 2025-02-21 07:21:09,608] Trial 26 finished with value: 0.7365926798967912 and parameters: {'num_iterations': 1838, 'objective': 'binary', 'metric': 'auc', 'verbose': -1, 'learning_rate': 0.01115392578945095, 'n_estimators': 921, 'min_child_samples': 20, 'subsample': 0.9, 'colsample_bytree': 0.7}. Best is trial 23 with value: 0.737517459589641.\n",
      "[I 2025-02-21 07:21:24,506] Trial 27 finished with value: 0.7374875588163696 and parameters: {'num_iterations': 2042, 'objective': 'binary', 'metric': 'auc', 'verbose': -1, 'learning_rate': 0.008445516626078514, 'n_estimators': 360, 'min_child_samples': 25, 'subsample': 0.8, 'colsample_bytree': 0.5}. Best is trial 23 with value: 0.737517459589641.\n",
      "[I 2025-02-21 07:21:38,584] Trial 28 finished with value: 0.7372762163388372 and parameters: {'num_iterations': 2253, 'objective': 'binary', 'metric': 'auc', 'verbose': -1, 'learning_rate': 0.0060629093858351095, 'n_estimators': 125, 'min_child_samples': 15, 'subsample': 0.9, 'colsample_bytree': 0.6}. Best is trial 23 with value: 0.737517459589641.\n",
      "[I 2025-02-21 07:21:49,193] Trial 29 finished with value: 0.7298536968267759 and parameters: {'num_iterations': 1685, 'objective': 'binary', 'metric': 'auc', 'verbose': -1, 'learning_rate': 0.07234407408474254, 'n_estimators': 1850, 'min_child_samples': 40, 'subsample': 1.0, 'colsample_bytree': 0.5}. Best is trial 23 with value: 0.737517459589641.\n",
      "[I 2025-02-21 07:22:03,030] Trial 30 finished with value: 0.7373620430736959 and parameters: {'num_iterations': 1930, 'objective': 'binary', 'metric': 'auc', 'verbose': -1, 'learning_rate': 0.00879777416004278, 'n_estimators': 680, 'min_child_samples': 20, 'subsample': 0.7, 'colsample_bytree': 0.5}. Best is trial 23 with value: 0.737517459589641.\n",
      "[I 2025-02-21 07:22:17,033] Trial 31 finished with value: 0.737443561397001 and parameters: {'num_iterations': 1991, 'objective': 'binary', 'metric': 'auc', 'verbose': -1, 'learning_rate': 0.008386437861731015, 'n_estimators': 420, 'min_child_samples': 25, 'subsample': 0.8, 'colsample_bytree': 0.5}. Best is trial 23 with value: 0.737517459589641.\n",
      "[I 2025-02-21 07:22:31,478] Trial 32 finished with value: 0.7374714886398187 and parameters: {'num_iterations': 2067, 'objective': 'binary', 'metric': 'auc', 'verbose': -1, 'learning_rate': 0.008337315962735415, 'n_estimators': 385, 'min_child_samples': 25, 'subsample': 0.8, 'colsample_bytree': 0.5}. Best is trial 23 with value: 0.737517459589641.\n",
      "[I 2025-02-21 07:22:47,842] Trial 33 finished with value: 0.7376642989913409 and parameters: {'num_iterations': 2276, 'objective': 'binary', 'metric': 'auc', 'verbose': -1, 'learning_rate': 0.005982331276127344, 'n_estimators': 440, 'min_child_samples': 20, 'subsample': 0.9, 'colsample_bytree': 0.5}. Best is trial 33 with value: 0.7376642989913409.\n",
      "[I 2025-02-21 07:23:01,912] Trial 34 finished with value: 0.737091875887632 and parameters: {'num_iterations': 2350, 'objective': 'binary', 'metric': 'auc', 'verbose': -1, 'learning_rate': 0.005847134956565248, 'n_estimators': 991, 'min_child_samples': 20, 'subsample': 0.9, 'colsample_bytree': 0.6}. Best is trial 33 with value: 0.7376642989913409.\n",
      "[I 2025-02-21 07:23:19,246] Trial 35 finished with value: 0.737495802376172 and parameters: {'num_iterations': 2277, 'objective': 'binary', 'metric': 'auc', 'verbose': -1, 'learning_rate': 0.006093572154073042, 'n_estimators': 1462, 'min_child_samples': 15, 'subsample': 1.0, 'colsample_bytree': 0.5}. Best is trial 33 with value: 0.7376642989913409.\n",
      "[I 2025-02-21 07:23:34,803] Trial 36 finished with value: 0.7371107693642888 and parameters: {'num_iterations': 2568, 'objective': 'binary', 'metric': 'auc', 'verbose': -1, 'learning_rate': 0.006282250402672122, 'n_estimators': 800, 'min_child_samples': 10, 'subsample': 0.5, 'colsample_bytree': 0.6}. Best is trial 33 with value: 0.7376642989913409.\n",
      "[I 2025-02-21 07:23:46,359] Trial 37 finished with value: 0.7366076660214029 and parameters: {'num_iterations': 2422, 'objective': 'binary', 'metric': 'auc', 'verbose': -1, 'learning_rate': 0.00535483620445728, 'n_estimators': 1254, 'min_child_samples': 15, 'subsample': 0.9, 'colsample_bytree': 1.0}. Best is trial 33 with value: 0.7376642989913409.\n",
      "[I 2025-02-21 07:23:59,213] Trial 38 finished with value: 0.7363525921738788 and parameters: {'num_iterations': 2941, 'objective': 'binary', 'metric': 'auc', 'verbose': -1, 'learning_rate': 0.0069374121812653105, 'n_estimators': 731, 'min_child_samples': 30, 'subsample': 1.0, 'colsample_bytree': 0.9}. Best is trial 33 with value: 0.7376642989913409.\n",
      "[I 2025-02-21 07:24:06,621] Trial 39 finished with value: 0.7369757751161968 and parameters: {'num_iterations': 1614, 'objective': 'binary', 'metric': 'auc', 'verbose': -1, 'learning_rate': 0.011156357169398888, 'n_estimators': 1579, 'min_child_samples': 20, 'subsample': 0.9, 'colsample_bytree': 0.8}. Best is trial 33 with value: 0.7376642989913409.\n"
     ]
    },
    {
     "name": "stdout",
     "output_type": "stream",
     "text": [
      "Cat val score : 0.7389655107565114\n",
      "LGBM val score : 0.73765427647451\n",
      "Ensemble val score : 0.7389758112353779\n"
     ]
    },
    {
     "name": "stderr",
     "output_type": "stream",
     "text": [
      "[I 2025-02-21 07:24:25,787] A new study created in memory with name: no-name-6e530d1d-17df-49dd-b4a7-c89b3627eae2\n"
     ]
    },
    {
     "name": "stdout",
     "output_type": "stream",
     "text": [
      "==================================================\n"
     ]
    },
    {
     "name": "stderr",
     "output_type": "stream",
     "text": [
      "Default metric period is 5 because AUC is/are not implemented for GPU\n"
     ]
    },
    {
     "name": "stdout",
     "output_type": "stream",
     "text": [
      "0:\ttest: 0.7293839\tbest: 0.7293839 (0)\ttotal: 78.5ms\tremaining: 3m 5s\n",
      "300:\ttest: 0.7403708\tbest: 0.7403783 (299)\ttotal: 24.2s\tremaining: 2m 46s\n",
      "600:\ttest: 0.7411214\tbest: 0.7411214 (600)\ttotal: 48.6s\tremaining: 2m 22s\n",
      "900:\ttest: 0.7412217\tbest: 0.7412586 (857)\ttotal: 1m 12s\tremaining: 1m 58s\n",
      "bestTest = 0.7412585616\n",
      "bestIteration = 857\n",
      "Shrink model to first 858 iterations.\n"
     ]
    },
    {
     "name": "stderr",
     "output_type": "stream",
     "text": [
      "[I 2025-02-21 07:26:01,587] Trial 0 finished with value: 0.7412585616111755 and parameters: {'iterations': 2366, 'depth': 10, 'learning_rate': 0.01181021951839225, 'l2_leaf_reg': 9.980783802743254}. Best is trial 0 with value: 0.7412585616111755.\n"
     ]
    },
    {
     "name": "stdout",
     "output_type": "stream",
     "text": [
      "저장 완료\n"
     ]
    },
    {
     "name": "stderr",
     "output_type": "stream",
     "text": [
      "Default metric period is 5 because AUC is/are not implemented for GPU\n"
     ]
    },
    {
     "name": "stdout",
     "output_type": "stream",
     "text": [
      "0:\ttest: 0.7012590\tbest: 0.7012590 (0)\ttotal: 14ms\tremaining: 30.7s\n",
      "300:\ttest: 0.7291472\tbest: 0.7291472 (300)\ttotal: 5.05s\tremaining: 31.7s\n",
      "600:\ttest: 0.7348005\tbest: 0.7348005 (600)\ttotal: 9.08s\tremaining: 24s\n",
      "900:\ttest: 0.7371523\tbest: 0.7371523 (900)\ttotal: 13.1s\tremaining: 18.7s\n",
      "1200:\ttest: 0.7385250\tbest: 0.7385250 (1200)\ttotal: 17s\tremaining: 14.1s\n",
      "1500:\ttest: 0.7393433\tbest: 0.7393433 (1500)\ttotal: 21s\tremaining: 9.7s\n",
      "1800:\ttest: 0.7399012\tbest: 0.7399012 (1800)\ttotal: 25s\tremaining: 5.45s\n",
      "2100:\ttest: 0.7403059\tbest: 0.7403059 (2100)\ttotal: 29s\tremaining: 1.27s\n"
     ]
    },
    {
     "name": "stderr",
     "output_type": "stream",
     "text": [
      "[I 2025-02-21 07:26:35,122] Trial 1 finished with value: 0.740452229976654 and parameters: {'iterations': 2193, 'depth': 4, 'learning_rate': 0.005671430811678843, 'l2_leaf_reg': 0.00012325230809466137}. Best is trial 0 with value: 0.7412585616111755.\n"
     ]
    },
    {
     "name": "stdout",
     "output_type": "stream",
     "text": [
      "2192:\ttest: 0.7404522\tbest: 0.7404522 (2192)\ttotal: 30.3s\tremaining: 0us\n",
      "bestTest = 0.74045223\n",
      "bestIteration = 2192\n"
     ]
    },
    {
     "name": "stderr",
     "output_type": "stream",
     "text": [
      "Default metric period is 5 because AUC is/are not implemented for GPU\n"
     ]
    },
    {
     "name": "stdout",
     "output_type": "stream",
     "text": [
      "0:\ttest: 0.7012590\tbest: 0.7012590 (0)\ttotal: 19.6ms\tremaining: 49.6s\n",
      "300:\ttest: 0.7410149\tbest: 0.7412351 (263)\ttotal: 4.92s\tremaining: 36.5s\n"
     ]
    },
    {
     "name": "stderr",
     "output_type": "stream",
     "text": [
      "[I 2025-02-21 07:26:46,860] Trial 2 finished with value: 0.7412351071834564 and parameters: {'iterations': 2535, 'depth': 4, 'learning_rate': 0.09275339199839054, 'l2_leaf_reg': 0.0008705394248343123}. Best is trial 0 with value: 0.7412585616111755.\n"
     ]
    },
    {
     "name": "stdout",
     "output_type": "stream",
     "text": [
      "bestTest = 0.7412351072\n",
      "bestIteration = 263\n",
      "Shrink model to first 264 iterations.\n"
     ]
    },
    {
     "name": "stderr",
     "output_type": "stream",
     "text": [
      "Default metric period is 5 because AUC is/are not implemented for GPU\n"
     ]
    },
    {
     "name": "stdout",
     "output_type": "stream",
     "text": [
      "0:\ttest: 0.7012590\tbest: 0.7012590 (0)\ttotal: 14.2ms\tremaining: 33.2s\n",
      "300:\ttest: 0.7406572\tbest: 0.7406572 (300)\ttotal: 4.01s\tremaining: 27.1s\n",
      "600:\ttest: 0.7415012\tbest: 0.7415522 (552)\ttotal: 7.99s\tremaining: 23s\n",
      "900:\ttest: 0.7415335\tbest: 0.7417529 (814)\ttotal: 12s\tremaining: 19.1s\n"
     ]
    },
    {
     "name": "stderr",
     "output_type": "stream",
     "text": [
      "[I 2025-02-21 07:27:05,133] Trial 3 finished with value: 0.7417528629302979 and parameters: {'iterations': 2334, 'depth': 4, 'learning_rate': 0.04657568321363276, 'l2_leaf_reg': 0.0008640473331457248}. Best is trial 3 with value: 0.7417528629302979.\n"
     ]
    },
    {
     "name": "stdout",
     "output_type": "stream",
     "text": [
      "bestTest = 0.7417528629\n",
      "bestIteration = 814\n",
      "Shrink model to first 815 iterations.\n",
      "저장 완료\n"
     ]
    },
    {
     "name": "stderr",
     "output_type": "stream",
     "text": [
      "Default metric period is 5 because AUC is/are not implemented for GPU\n"
     ]
    },
    {
     "name": "stdout",
     "output_type": "stream",
     "text": [
      "0:\ttest: 0.7292903\tbest: 0.7292903 (0)\ttotal: 90.8ms\tremaining: 2m 38s\n",
      "300:\ttest: 0.7393323\tbest: 0.7393323 (300)\ttotal: 24.5s\tremaining: 1m 57s\n",
      "600:\ttest: 0.7390010\tbest: 0.7395582 (341)\ttotal: 48.7s\tremaining: 1m 32s\n"
     ]
    },
    {
     "name": "stderr",
     "output_type": "stream",
     "text": [
      "[I 2025-02-21 07:28:00,577] Trial 4 finished with value: 0.7395582497119904 and parameters: {'iterations': 1742, 'depth': 10, 'learning_rate': 0.012622767482095846, 'l2_leaf_reg': 0.00021158816350109617}. Best is trial 3 with value: 0.7417528629302979.\n"
     ]
    },
    {
     "name": "stdout",
     "output_type": "stream",
     "text": [
      "bestTest = 0.7395582497\n",
      "bestIteration = 341\n",
      "Shrink model to first 342 iterations.\n"
     ]
    },
    {
     "name": "stderr",
     "output_type": "stream",
     "text": [
      "Default metric period is 5 because AUC is/are not implemented for GPU\n"
     ]
    },
    {
     "name": "stdout",
     "output_type": "stream",
     "text": [
      "0:\ttest: 0.7012590\tbest: 0.7012590 (0)\ttotal: 20.1ms\tremaining: 41.9s\n",
      "300:\ttest: 0.7411698\tbest: 0.7412317 (277)\ttotal: 4.68s\tremaining: 27.7s\n",
      "600:\ttest: 0.7412590\tbest: 0.7414772 (498)\ttotal: 8.67s\tremaining: 21.4s\n"
     ]
    },
    {
     "name": "stderr",
     "output_type": "stream",
     "text": [
      "[I 2025-02-21 07:28:15,180] Trial 5 finished with value: 0.7414771616458893 and parameters: {'iterations': 2082, 'depth': 4, 'learning_rate': 0.06995196593094148, 'l2_leaf_reg': 0.0018080296485396804}. Best is trial 3 with value: 0.7417528629302979.\n"
     ]
    },
    {
     "name": "stdout",
     "output_type": "stream",
     "text": [
      "bestTest = 0.7414771616\n",
      "bestIteration = 498\n",
      "Shrink model to first 499 iterations.\n"
     ]
    },
    {
     "name": "stderr",
     "output_type": "stream",
     "text": [
      "Default metric period is 5 because AUC is/are not implemented for GPU\n"
     ]
    },
    {
     "name": "stdout",
     "output_type": "stream",
     "text": [
      "0:\ttest: 0.7163407\tbest: 0.7163407 (0)\ttotal: 17.4ms\tremaining: 34.7s\n",
      "300:\ttest: 0.7413249\tbest: 0.7413528 (289)\ttotal: 5.17s\tremaining: 29.1s\n",
      "600:\ttest: 0.7409954\tbest: 0.7414568 (381)\ttotal: 10.8s\tremaining: 25.1s\n"
     ]
    },
    {
     "name": "stderr",
     "output_type": "stream",
     "text": [
      "[I 2025-02-21 07:28:31,247] Trial 6 finished with value: 0.7414568364620209 and parameters: {'iterations': 1997, 'depth': 5, 'learning_rate': 0.07985155992831598, 'l2_leaf_reg': 62.52181000710482}. Best is trial 3 with value: 0.7417528629302979.\n"
     ]
    },
    {
     "name": "stdout",
     "output_type": "stream",
     "text": [
      "bestTest = 0.7414568365\n",
      "bestIteration = 381\n",
      "Shrink model to first 382 iterations.\n"
     ]
    },
    {
     "name": "stderr",
     "output_type": "stream",
     "text": [
      "Default metric period is 5 because AUC is/are not implemented for GPU\n"
     ]
    },
    {
     "name": "stdout",
     "output_type": "stream",
     "text": [
      "0:\ttest: 0.7259308\tbest: 0.7259308 (0)\ttotal: 37.7ms\tremaining: 1m 12s\n",
      "300:\ttest: 0.7402367\tbest: 0.7412521 (159)\ttotal: 9.15s\tremaining: 49.5s\n"
     ]
    },
    {
     "name": "stderr",
     "output_type": "stream",
     "text": [
      "[I 2025-02-21 07:28:48,159] Trial 7 finished with value: 0.7412521243095398 and parameters: {'iterations': 1927, 'depth': 7, 'learning_rate': 0.0941937211034094, 'l2_leaf_reg': 0.05654822767791934}. Best is trial 3 with value: 0.7417528629302979.\n"
     ]
    },
    {
     "name": "stdout",
     "output_type": "stream",
     "text": [
      "bestTest = 0.7412521243\n",
      "bestIteration = 159\n",
      "Shrink model to first 160 iterations.\n"
     ]
    },
    {
     "name": "stderr",
     "output_type": "stream",
     "text": [
      "Default metric period is 5 because AUC is/are not implemented for GPU\n"
     ]
    },
    {
     "name": "stdout",
     "output_type": "stream",
     "text": [
      "0:\ttest: 0.7259303\tbest: 0.7259303 (0)\ttotal: 37.2ms\tremaining: 1m 10s\n",
      "300:\ttest: 0.7412968\tbest: 0.7413396 (289)\ttotal: 9.14s\tremaining: 48.7s\n"
     ]
    },
    {
     "name": "stderr",
     "output_type": "stream",
     "text": [
      "[I 2025-02-21 07:29:08,754] Trial 8 finished with value: 0.7413396239280701 and parameters: {'iterations': 1904, 'depth': 7, 'learning_rate': 0.05155602859187331, 'l2_leaf_reg': 1.299974533316308}. Best is trial 3 with value: 0.7417528629302979.\n"
     ]
    },
    {
     "name": "stdout",
     "output_type": "stream",
     "text": [
      "bestTest = 0.7413396239\n",
      "bestIteration = 289\n",
      "Shrink model to first 290 iterations.\n"
     ]
    },
    {
     "name": "stderr",
     "output_type": "stream",
     "text": [
      "Default metric period is 5 because AUC is/are not implemented for GPU\n"
     ]
    },
    {
     "name": "stdout",
     "output_type": "stream",
     "text": [
      "0:\ttest: 0.7212533\tbest: 0.7212533 (0)\ttotal: 27.3ms\tremaining: 1m 11s\n",
      "300:\ttest: 0.7412209\tbest: 0.7412210 (288)\ttotal: 7.29s\tremaining: 56.7s\n",
      "600:\ttest: 0.7415723\tbest: 0.7416712 (530)\ttotal: 13.8s\tremaining: 46.9s\n",
      "900:\ttest: 0.7416742\tbest: 0.7418095 (826)\ttotal: 20.4s\tremaining: 39.4s\n"
     ]
    },
    {
     "name": "stderr",
     "output_type": "stream",
     "text": [
      "[I 2025-02-21 07:29:37,562] Trial 9 finished with value: 0.7418094575405121 and parameters: {'iterations': 2639, 'depth': 6, 'learning_rate': 0.03968704290444751, 'l2_leaf_reg': 0.30557194377967184}. Best is trial 9 with value: 0.7418094575405121.\n"
     ]
    },
    {
     "name": "stdout",
     "output_type": "stream",
     "text": [
      "bestTest = 0.7418094575\n",
      "bestIteration = 826\n",
      "Shrink model to first 827 iterations.\n",
      "저장 완료\n"
     ]
    },
    {
     "name": "stderr",
     "output_type": "stream",
     "text": [
      "Default metric period is 5 because AUC is/are not implemented for GPU\n"
     ]
    },
    {
     "name": "stdout",
     "output_type": "stream",
     "text": [
      "0:\ttest: 0.7259308\tbest: 0.7259308 (0)\ttotal: 33.8ms\tremaining: 1m 39s\n",
      "300:\ttest: 0.7410748\tbest: 0.7410941 (292)\ttotal: 9.36s\tremaining: 1m 22s\n",
      "600:\ttest: 0.7413161\tbest: 0.7413923 (552)\ttotal: 17.9s\tremaining: 1m 9s\n",
      "bestTest = 0.7413922548\n",
      "bestIteration = 552\n",
      "Shrink model to first 553 iterations.\n"
     ]
    },
    {
     "name": "stderr",
     "output_type": "stream",
     "text": [
      "[I 2025-02-21 07:30:06,385] Trial 10 finished with value: 0.7413922548294067 and parameters: {'iterations': 2945, 'depth': 7, 'learning_rate': 0.03333404337164428, 'l2_leaf_reg': 0.09727344885454356}. Best is trial 9 with value: 0.7418094575405121.\n",
      "Default metric period is 5 because AUC is/are not implemented for GPU\n"
     ]
    },
    {
     "name": "stdout",
     "output_type": "stream",
     "text": [
      "0:\ttest: 0.7212533\tbest: 0.7212533 (0)\ttotal: 29.1ms\tremaining: 1m 18s\n",
      "300:\ttest: 0.7417546\tbest: 0.7417560 (297)\ttotal: 7.44s\tremaining: 59.1s\n",
      "600:\ttest: 0.7420194\tbest: 0.7421823 (516)\ttotal: 14.2s\tremaining: 49.3s\n"
     ]
    },
    {
     "name": "stderr",
     "output_type": "stream",
     "text": [
      "[I 2025-02-21 07:30:28,737] Trial 11 finished with value: 0.7421823143959045 and parameters: {'iterations': 2693, 'depth': 6, 'learning_rate': 0.044130390779725207, 'l2_leaf_reg': 0.03460824645896258}. Best is trial 11 with value: 0.7421823143959045.\n"
     ]
    },
    {
     "name": "stdout",
     "output_type": "stream",
     "text": [
      "bestTest = 0.7421823144\n",
      "bestIteration = 516\n",
      "Shrink model to first 517 iterations.\n",
      "저장 완료\n"
     ]
    },
    {
     "name": "stderr",
     "output_type": "stream",
     "text": [
      "Default metric period is 5 because AUC is/are not implemented for GPU\n"
     ]
    },
    {
     "name": "stdout",
     "output_type": "stream",
     "text": [
      "0:\ttest: 0.7212533\tbest: 0.7212533 (0)\ttotal: 31.2ms\tremaining: 1m 25s\n",
      "300:\ttest: 0.7411826\tbest: 0.7411826 (300)\ttotal: 9.35s\tremaining: 1m 15s\n",
      "600:\ttest: 0.7417131\tbest: 0.7418257 (562)\ttotal: 18.3s\tremaining: 1m 5s\n"
     ]
    },
    {
     "name": "stderr",
     "output_type": "stream",
     "text": [
      "[I 2025-02-21 07:30:58,466] Trial 12 finished with value: 0.7418257296085358 and parameters: {'iterations': 2746, 'depth': 6, 'learning_rate': 0.0343016420323022, 'l2_leaf_reg': 0.0238451711007553}. Best is trial 11 with value: 0.7421823143959045.\n"
     ]
    },
    {
     "name": "stdout",
     "output_type": "stream",
     "text": [
      "bestTest = 0.7418257296\n",
      "bestIteration = 562\n",
      "Shrink model to first 563 iterations.\n"
     ]
    },
    {
     "name": "stderr",
     "output_type": "stream",
     "text": [
      "Default metric period is 5 because AUC is/are not implemented for GPU\n"
     ]
    },
    {
     "name": "stdout",
     "output_type": "stream",
     "text": [
      "0:\ttest: 0.7283695\tbest: 0.7283695 (0)\ttotal: 67.7ms\tremaining: 3m 21s\n",
      "300:\ttest: 0.7407487\tbest: 0.7408065 (296)\ttotal: 14.6s\tremaining: 2m 9s\n",
      "600:\ttest: 0.7404535\tbest: 0.7410940 (369)\ttotal: 28.7s\tremaining: 1m 53s\n"
     ]
    },
    {
     "name": "stderr",
     "output_type": "stream",
     "text": [
      "[I 2025-02-21 07:31:34,263] Trial 13 finished with value: 0.7410939931869507 and parameters: {'iterations': 2975, 'depth': 8, 'learning_rate': 0.026381819548109812, 'l2_leaf_reg': 0.01792451560650729}. Best is trial 11 with value: 0.7421823143959045.\n"
     ]
    },
    {
     "name": "stdout",
     "output_type": "stream",
     "text": [
      "bestTest = 0.7410939932\n",
      "bestIteration = 369\n",
      "Shrink model to first 370 iterations.\n"
     ]
    },
    {
     "name": "stderr",
     "output_type": "stream",
     "text": [
      "Default metric period is 5 because AUC is/are not implemented for GPU\n"
     ]
    },
    {
     "name": "stdout",
     "output_type": "stream",
     "text": [
      "0:\ttest: 0.7212533\tbest: 0.7212533 (0)\ttotal: 29.2ms\tremaining: 1m 18s\n",
      "300:\ttest: 0.7418652\tbest: 0.7420147 (274)\ttotal: 7.4s\tremaining: 59s\n",
      "600:\ttest: 0.7415707\tbest: 0.7421731 (380)\ttotal: 14.2s\tremaining: 49.5s\n"
     ]
    },
    {
     "name": "stderr",
     "output_type": "stream",
     "text": [
      "[I 2025-02-21 07:31:53,545] Trial 14 finished with value: 0.7421730756759644 and parameters: {'iterations': 2702, 'depth': 6, 'learning_rate': 0.06049203531608699, 'l2_leaf_reg': 0.011831100202248347}. Best is trial 11 with value: 0.7421823143959045.\n"
     ]
    },
    {
     "name": "stdout",
     "output_type": "stream",
     "text": [
      "bestTest = 0.7421730757\n",
      "bestIteration = 380\n",
      "Shrink model to first 381 iterations.\n"
     ]
    },
    {
     "name": "stderr",
     "output_type": "stream",
     "text": [
      "Default metric period is 5 because AUC is/are not implemented for GPU\n"
     ]
    },
    {
     "name": "stdout",
     "output_type": "stream",
     "text": [
      "0:\ttest: 0.7212533\tbest: 0.7212533 (0)\ttotal: 26.6ms\tremaining: 40.2s\n",
      "300:\ttest: 0.7414086\tbest: 0.7414768 (292)\ttotal: 7.09s\tremaining: 28.5s\n",
      "600:\ttest: 0.7410837\tbest: 0.7415331 (473)\ttotal: 13.9s\tremaining: 21.1s\n"
     ]
    },
    {
     "name": "stderr",
     "output_type": "stream",
     "text": [
      "[I 2025-02-21 07:32:14,699] Trial 15 finished with value: 0.741533100605011 and parameters: {'iterations': 1513, 'depth': 6, 'learning_rate': 0.0624809523806636, 'l2_leaf_reg': 0.00790420028594879}. Best is trial 11 with value: 0.7421823143959045.\n"
     ]
    },
    {
     "name": "stdout",
     "output_type": "stream",
     "text": [
      "bestTest = 0.7415331006\n",
      "bestIteration = 473\n",
      "Shrink model to first 474 iterations.\n"
     ]
    },
    {
     "name": "stderr",
     "output_type": "stream",
     "text": [
      "Default metric period is 5 because AUC is/are not implemented for GPU\n"
     ]
    },
    {
     "name": "stdout",
     "output_type": "stream",
     "text": [
      "0:\ttest: 0.7283695\tbest: 0.7283695 (0)\ttotal: 38.7ms\tremaining: 1m 46s\n",
      "300:\ttest: 0.7410712\tbest: 0.7414722 (182)\ttotal: 12.2s\tremaining: 1m 39s\n",
      "bestTest = 0.7414721847\n",
      "bestIteration = 182\n",
      "Shrink model to first 183 iterations.\n"
     ]
    },
    {
     "name": "stderr",
     "output_type": "stream",
     "text": [
      "[I 2025-02-21 07:32:38,230] Trial 16 finished with value: 0.7414721846580505 and parameters: {'iterations': 2757, 'depth': 8, 'learning_rate': 0.06166299147572951, 'l2_leaf_reg': 0.17896923773705356}. Best is trial 11 with value: 0.7421823143959045.\n",
      "Default metric period is 5 because AUC is/are not implemented for GPU\n"
     ]
    },
    {
     "name": "stdout",
     "output_type": "stream",
     "text": [
      "0:\ttest: 0.7163416\tbest: 0.7163416 (0)\ttotal: 21.4ms\tremaining: 54s\n",
      "300:\ttest: 0.7415039\tbest: 0.7415055 (294)\ttotal: 6.01s\tremaining: 44.4s\n",
      "600:\ttest: 0.7417468\tbest: 0.7417506 (599)\ttotal: 11.3s\tremaining: 36.2s\n",
      "900:\ttest: 0.7416076\tbest: 0.7418171 (667)\ttotal: 17.9s\tremaining: 32.2s\n"
     ]
    },
    {
     "name": "stderr",
     "output_type": "stream",
     "text": [
      "[I 2025-02-21 07:33:00,675] Trial 17 finished with value: 0.741817057132721 and parameters: {'iterations': 2523, 'depth': 5, 'learning_rate': 0.0519538359705214, 'l2_leaf_reg': 0.005356384973948982}. Best is trial 11 with value: 0.7421823143959045.\n"
     ]
    },
    {
     "name": "stdout",
     "output_type": "stream",
     "text": [
      "bestTest = 0.7418170571\n",
      "bestIteration = 667\n",
      "Shrink model to first 668 iterations.\n"
     ]
    },
    {
     "name": "stderr",
     "output_type": "stream",
     "text": [
      "Default metric period is 5 because AUC is/are not implemented for GPU\n"
     ]
    },
    {
     "name": "stdout",
     "output_type": "stream",
     "text": [
      "0:\ttest: 0.7283695\tbest: 0.7283695 (0)\ttotal: 49ms\tremaining: 2m 18s\n",
      "300:\ttest: 0.7399694\tbest: 0.7406967 (208)\ttotal: 14.6s\tremaining: 2m 1s\n"
     ]
    },
    {
     "name": "stderr",
     "output_type": "stream",
     "text": [
      "[I 2025-02-21 07:33:28,500] Trial 18 finished with value: 0.7406967282295227 and parameters: {'iterations': 2820, 'depth': 8, 'learning_rate': 0.06148677635946885, 'l2_leaf_reg': 0.004934376003983211}. Best is trial 11 with value: 0.7421823143959045.\n"
     ]
    },
    {
     "name": "stdout",
     "output_type": "stream",
     "text": [
      "bestTest = 0.7406967282\n",
      "bestIteration = 208\n",
      "Shrink model to first 209 iterations.\n"
     ]
    },
    {
     "name": "stderr",
     "output_type": "stream",
     "text": [
      "Default metric period is 5 because AUC is/are not implemented for GPU\n"
     ]
    },
    {
     "name": "stdout",
     "output_type": "stream",
     "text": [
      "0:\ttest: 0.7163416\tbest: 0.7163416 (0)\ttotal: 28.9ms\tremaining: 1m 10s\n",
      "300:\ttest: 0.7406790\tbest: 0.7406811 (299)\ttotal: 7.32s\tremaining: 52.4s\n",
      "600:\ttest: 0.7415431\tbest: 0.7415431 (600)\ttotal: 13.6s\tremaining: 41.9s\n",
      "900:\ttest: 0.7414894\tbest: 0.7416219 (755)\ttotal: 20.7s\tremaining: 35.6s\n",
      "bestTest = 0.7416218519\n",
      "bestIteration = 755\n",
      "Shrink model to first 756 iterations.\n"
     ]
    },
    {
     "name": "stderr",
     "output_type": "stream",
     "text": [
      "[I 2025-02-21 07:33:55,401] Trial 19 finished with value: 0.7416218519210815 and parameters: {'iterations': 2454, 'depth': 5, 'learning_rate': 0.04187111291022701, 'l2_leaf_reg': 0.6923790945885515}. Best is trial 11 with value: 0.7421823143959045.\n",
      "Default metric period is 5 because AUC is/are not implemented for GPU\n"
     ]
    },
    {
     "name": "stdout",
     "output_type": "stream",
     "text": [
      "0:\ttest: 0.7212533\tbest: 0.7212533 (0)\ttotal: 30.8ms\tremaining: 1m 21s\n",
      "300:\ttest: 0.7404044\tbest: 0.7410921 (194)\ttotal: 7.33s\tremaining: 57.2s\n"
     ]
    },
    {
     "name": "stderr",
     "output_type": "stream",
     "text": [
      "[I 2025-02-21 07:34:10,446] Trial 20 finished with value: 0.7410921454429626 and parameters: {'iterations': 2651, 'depth': 6, 'learning_rate': 0.0767805512853846, 'l2_leaf_reg': 0.03806459581164166}. Best is trial 11 with value: 0.7421823143959045.\n"
     ]
    },
    {
     "name": "stdout",
     "output_type": "stream",
     "text": [
      "bestTest = 0.7410921454\n",
      "bestIteration = 194\n",
      "Shrink model to first 195 iterations.\n"
     ]
    },
    {
     "name": "stderr",
     "output_type": "stream",
     "text": [
      "Default metric period is 5 because AUC is/are not implemented for GPU\n"
     ]
    },
    {
     "name": "stdout",
     "output_type": "stream",
     "text": [
      "0:\ttest: 0.7212533\tbest: 0.7212533 (0)\ttotal: 29.2ms\tremaining: 1m 22s\n",
      "300:\ttest: 0.7411098\tbest: 0.7411098 (300)\ttotal: 7.27s\tremaining: 1m\n",
      "600:\ttest: 0.7417923\tbest: 0.7418240 (577)\ttotal: 13.8s\tremaining: 51s\n",
      "900:\ttest: 0.7413462\tbest: 0.7418486 (620)\ttotal: 20.5s\tremaining: 43.5s\n"
     ]
    },
    {
     "name": "stderr",
     "output_type": "stream",
     "text": [
      "[I 2025-02-21 07:34:34,674] Trial 21 finished with value: 0.7418485879898071 and parameters: {'iterations': 2817, 'depth': 6, 'learning_rate': 0.031229297615594752, 'l2_leaf_reg': 0.01695532333461613}. Best is trial 11 with value: 0.7421823143959045.\n"
     ]
    },
    {
     "name": "stdout",
     "output_type": "stream",
     "text": [
      "bestTest = 0.741848588\n",
      "bestIteration = 620\n",
      "Shrink model to first 621 iterations.\n"
     ]
    },
    {
     "name": "stderr",
     "output_type": "stream",
     "text": [
      "Default metric period is 5 because AUC is/are not implemented for GPU\n"
     ]
    },
    {
     "name": "stdout",
     "output_type": "stream",
     "text": [
      "0:\ttest: 0.7259308\tbest: 0.7259308 (0)\ttotal: 40.7ms\tremaining: 1m 55s\n",
      "300:\ttest: 0.7412796\tbest: 0.7412964 (291)\ttotal: 11.5s\tremaining: 1m 37s\n",
      "600:\ttest: 0.7415548\tbest: 0.7416120 (478)\ttotal: 22.2s\tremaining: 1m 23s\n",
      "bestTest = 0.741612047\n",
      "bestIteration = 478\n",
      "Shrink model to first 479 iterations.\n"
     ]
    },
    {
     "name": "stderr",
     "output_type": "stream",
     "text": [
      "[I 2025-02-21 07:35:07,157] Trial 22 finished with value: 0.741612046957016 and parameters: {'iterations': 2850, 'depth': 7, 'learning_rate': 0.026680410204934692, 'l2_leaf_reg': 0.023022966213230307}. Best is trial 11 with value: 0.7421823143959045.\n",
      "Default metric period is 5 because AUC is/are not implemented for GPU\n"
     ]
    },
    {
     "name": "stdout",
     "output_type": "stream",
     "text": [
      "0:\ttest: 0.7163416\tbest: 0.7163416 (0)\ttotal: 23.2ms\tremaining: 1m\n",
      "300:\ttest: 0.7412536\tbest: 0.7412536 (300)\ttotal: 5.97s\tremaining: 46.1s\n",
      "600:\ttest: 0.7416947\tbest: 0.7417429 (575)\ttotal: 11.3s\tremaining: 38.1s\n",
      "900:\ttest: 0.7417173\tbest: 0.7418365 (755)\ttotal: 16.6s\tremaining: 31.7s\n",
      "bestTest = 0.7418364882\n",
      "bestIteration = 755\n",
      "Shrink model to first 756 iterations.\n"
     ]
    },
    {
     "name": "stderr",
     "output_type": "stream",
     "text": [
      "[I 2025-02-21 07:35:30,043] Trial 23 finished with value: 0.7418364882469177 and parameters: {'iterations': 2625, 'depth': 5, 'learning_rate': 0.04944348258885028, 'l2_leaf_reg': 0.07808208406650527}. Best is trial 11 with value: 0.7421823143959045.\n",
      "Default metric period is 5 because AUC is/are not implemented for GPU\n"
     ]
    },
    {
     "name": "stdout",
     "output_type": "stream",
     "text": [
      "0:\ttest: 0.7212533\tbest: 0.7212533 (0)\ttotal: 24.6ms\tremaining: 1m 11s\n",
      "300:\ttest: 0.7416794\tbest: 0.7416794 (300)\ttotal: 7.03s\tremaining: 1m 1s\n",
      "600:\ttest: 0.7413983\tbest: 0.7418328 (334)\ttotal: 13.6s\tremaining: 52.7s\n"
     ]
    },
    {
     "name": "stderr",
     "output_type": "stream",
     "text": [
      "[I 2025-02-21 07:35:47,793] Trial 24 finished with value: 0.7418327629566193 and parameters: {'iterations': 2925, 'depth': 6, 'learning_rate': 0.0425410540263302, 'l2_leaf_reg': 0.01142443525176955}. Best is trial 11 with value: 0.7421823143959045.\n"
     ]
    },
    {
     "name": "stdout",
     "output_type": "stream",
     "text": [
      "bestTest = 0.741832763\n",
      "bestIteration = 334\n",
      "Shrink model to first 335 iterations.\n"
     ]
    },
    {
     "name": "stderr",
     "output_type": "stream",
     "text": [
      "Default metric period is 5 because AUC is/are not implemented for GPU\n"
     ]
    },
    {
     "name": "stdout",
     "output_type": "stream",
     "text": [
      "0:\ttest: 0.7259308\tbest: 0.7259308 (0)\ttotal: 37.5ms\tremaining: 1m 41s\n",
      "300:\ttest: 0.7412430\tbest: 0.7413514 (247)\ttotal: 9.55s\tremaining: 1m 16s\n"
     ]
    },
    {
     "name": "stderr",
     "output_type": "stream",
     "text": [
      "[I 2025-02-21 07:36:07,675] Trial 25 finished with value: 0.7413514256477356 and parameters: {'iterations': 2710, 'depth': 7, 'learning_rate': 0.054814998557292376, 'l2_leaf_reg': 0.002446293595589835}. Best is trial 11 with value: 0.7421823143959045.\n"
     ]
    },
    {
     "name": "stdout",
     "output_type": "stream",
     "text": [
      "bestTest = 0.7413514256\n",
      "bestIteration = 247\n",
      "Shrink model to first 248 iterations.\n"
     ]
    },
    {
     "name": "stderr",
     "output_type": "stream",
     "text": [
      "Default metric period is 5 because AUC is/are not implemented for GPU\n"
     ]
    },
    {
     "name": "stdout",
     "output_type": "stream",
     "text": [
      "0:\ttest: 0.7289338\tbest: 0.7289338 (0)\ttotal: 64.3ms\tremaining: 2m 36s\n",
      "300:\ttest: 0.7408575\tbest: 0.7408795 (298)\ttotal: 16.7s\tremaining: 1m 58s\n",
      "600:\ttest: 0.7408335\tbest: 0.7409343 (586)\ttotal: 32.7s\tremaining: 1m 40s\n",
      "bestTest = 0.7409342825\n",
      "bestIteration = 586\n",
      "Shrink model to first 587 iterations.\n"
     ]
    },
    {
     "name": "stderr",
     "output_type": "stream",
     "text": [
      "[I 2025-02-21 07:36:59,065] Trial 26 finished with value: 0.740934282541275 and parameters: {'iterations': 2442, 'depth': 9, 'learning_rate': 0.02329163458551871, 'l2_leaf_reg': 0.04483420821649688}. Best is trial 11 with value: 0.7421823143959045.\n",
      "Default metric period is 5 because AUC is/are not implemented for GPU\n"
     ]
    },
    {
     "name": "stdout",
     "output_type": "stream",
     "text": [
      "0:\ttest: 0.7163416\tbest: 0.7163416 (0)\ttotal: 24.6ms\tremaining: 55.9s\n",
      "300:\ttest: 0.7404554\tbest: 0.7404658 (296)\ttotal: 7.01s\tremaining: 45.9s\n",
      "600:\ttest: 0.7414653\tbest: 0.7414653 (600)\ttotal: 13.7s\tremaining: 38s\n",
      "900:\ttest: 0.7415180\tbest: 0.7415804 (855)\ttotal: 20.8s\tremaining: 31.7s\n"
     ]
    },
    {
     "name": "stderr",
     "output_type": "stream",
     "text": [
      "[I 2025-02-21 07:37:29,861] Trial 27 finished with value: 0.7415803968906403 and parameters: {'iterations': 2272, 'depth': 5, 'learning_rate': 0.03566688777442589, 'l2_leaf_reg': 0.011804898584824591}. Best is trial 11 with value: 0.7421823143959045.\n"
     ]
    },
    {
     "name": "stdout",
     "output_type": "stream",
     "text": [
      "bestTest = 0.7415803969\n",
      "bestIteration = 855\n",
      "Shrink model to first 856 iterations.\n"
     ]
    },
    {
     "name": "stderr",
     "output_type": "stream",
     "text": [
      "Default metric period is 5 because AUC is/are not implemented for GPU\n"
     ]
    },
    {
     "name": "stdout",
     "output_type": "stream",
     "text": [
      "0:\ttest: 0.7212533\tbest: 0.7212533 (0)\ttotal: 30.1ms\tremaining: 1m 25s\n",
      "300:\ttest: 0.7417657\tbest: 0.7417657 (300)\ttotal: 8.98s\tremaining: 1m 16s\n",
      "600:\ttest: 0.7418872\tbest: 0.7420102 (556)\ttotal: 18.1s\tremaining: 1m 7s\n",
      "900:\ttest: 0.7418685\tbest: 0.7420881 (820)\ttotal: 27s\tremaining: 58.5s\n",
      "bestTest = 0.7420880795\n",
      "bestIteration = 820\n",
      "Shrink model to first 821 iterations.\n"
     ]
    },
    {
     "name": "stderr",
     "output_type": "stream",
     "text": [
      "[I 2025-02-21 07:38:07,998] Trial 28 finished with value: 0.7420880794525146 and parameters: {'iterations': 2850, 'depth': 6, 'learning_rate': 0.044544301668792266, 'l2_leaf_reg': 0.1251683324807921}. Best is trial 11 with value: 0.7421823143959045.\n",
      "Default metric period is 5 because AUC is/are not implemented for GPU\n"
     ]
    },
    {
     "name": "stdout",
     "output_type": "stream",
     "text": [
      "0:\ttest: 0.7212528\tbest: 0.7212528 (0)\ttotal: 29.4ms\tremaining: 1m 15s\n",
      "300:\ttest: 0.7419375\tbest: 0.7419767 (294)\ttotal: 9.01s\tremaining: 1m 7s\n",
      "600:\ttest: 0.7416306\tbest: 0.7421440 (381)\ttotal: 18s\tremaining: 58.6s\n"
     ]
    },
    {
     "name": "stderr",
     "output_type": "stream",
     "text": [
      "[I 2025-02-21 07:38:31,839] Trial 29 finished with value: 0.7421439588069916 and parameters: {'iterations': 2558, 'depth': 6, 'learning_rate': 0.05625407899393702, 'l2_leaf_reg': 2.7290983851008566}. Best is trial 11 with value: 0.7421823143959045.\n"
     ]
    },
    {
     "name": "stdout",
     "output_type": "stream",
     "text": [
      "bestTest = 0.7421439588\n",
      "bestIteration = 381\n",
      "Shrink model to first 382 iterations.\n"
     ]
    },
    {
     "name": "stderr",
     "output_type": "stream",
     "text": [
      "Default metric period is 5 because AUC is/are not implemented for GPU\n"
     ]
    },
    {
     "name": "stdout",
     "output_type": "stream",
     "text": [
      "0:\ttest: 0.7283682\tbest: 0.7283682 (0)\ttotal: 47.3ms\tremaining: 1m 53s\n",
      "300:\ttest: 0.7413974\tbest: 0.7416427 (173)\ttotal: 14.2s\tremaining: 1m 38s\n"
     ]
    },
    {
     "name": "stderr",
     "output_type": "stream",
     "text": [
      "[I 2025-02-21 07:38:57,532] Trial 30 finished with value: 0.7416426539421082 and parameters: {'iterations': 2392, 'depth': 8, 'learning_rate': 0.056841423573874526, 'l2_leaf_reg': 6.411880141838847}. Best is trial 11 with value: 0.7421823143959045.\n"
     ]
    },
    {
     "name": "stdout",
     "output_type": "stream",
     "text": [
      "bestTest = 0.7416426539\n",
      "bestIteration = 173\n",
      "Shrink model to first 174 iterations.\n"
     ]
    },
    {
     "name": "stderr",
     "output_type": "stream",
     "text": [
      "Default metric period is 5 because AUC is/are not implemented for GPU\n"
     ]
    },
    {
     "name": "stdout",
     "output_type": "stream",
     "text": [
      "0:\ttest: 0.7212533\tbest: 0.7212533 (0)\ttotal: 29.8ms\tremaining: 1m 16s\n",
      "300:\ttest: 0.7416775\tbest: 0.7417145 (248)\ttotal: 8.89s\tremaining: 1m 6s\n",
      "600:\ttest: 0.7419018\tbest: 0.7420985 (550)\ttotal: 17.8s\tremaining: 58s\n"
     ]
    },
    {
     "name": "stderr",
     "output_type": "stream",
     "text": [
      "[I 2025-02-21 07:39:25,965] Trial 31 finished with value: 0.7420985102653503 and parameters: {'iterations': 2559, 'depth': 6, 'learning_rate': 0.046733483277000124, 'l2_leaf_reg': 0.17944753683995943}. Best is trial 11 with value: 0.7421823143959045.\n"
     ]
    },
    {
     "name": "stdout",
     "output_type": "stream",
     "text": [
      "bestTest = 0.7420985103\n",
      "bestIteration = 550\n",
      "Shrink model to first 551 iterations.\n"
     ]
    },
    {
     "name": "stderr",
     "output_type": "stream",
     "text": [
      "Default metric period is 5 because AUC is/are not implemented for GPU\n"
     ]
    },
    {
     "name": "stdout",
     "output_type": "stream",
     "text": [
      "0:\ttest: 0.7163416\tbest: 0.7163416 (0)\ttotal: 23.2ms\tremaining: 59.8s\n",
      "300:\ttest: 0.7411360\tbest: 0.7411389 (299)\ttotal: 7.09s\tremaining: 53.6s\n",
      "600:\ttest: 0.7415279\tbest: 0.7415385 (585)\ttotal: 14.4s\tremaining: 47.2s\n"
     ]
    },
    {
     "name": "stderr",
     "output_type": "stream",
     "text": [
      "[I 2025-02-21 07:39:50,269] Trial 32 finished with value: 0.7415385246276855 and parameters: {'iterations': 2577, 'depth': 5, 'learning_rate': 0.04678423675607967, 'l2_leaf_reg': 0.37749326823182877}. Best is trial 11 with value: 0.7421823143959045.\n"
     ]
    },
    {
     "name": "stdout",
     "output_type": "stream",
     "text": [
      "bestTest = 0.7415385246\n",
      "bestIteration = 585\n",
      "Shrink model to first 586 iterations.\n"
     ]
    },
    {
     "name": "stderr",
     "output_type": "stream",
     "text": [
      "Default metric period is 5 because AUC is/are not implemented for GPU\n"
     ]
    },
    {
     "name": "stdout",
     "output_type": "stream",
     "text": [
      "0:\ttest: 0.7259303\tbest: 0.7259303 (0)\ttotal: 36.4ms\tremaining: 1m 31s\n",
      "300:\ttest: 0.7413934\tbest: 0.7414999 (262)\ttotal: 11.1s\tremaining: 1m 21s\n"
     ]
    },
    {
     "name": "stderr",
     "output_type": "stream",
     "text": [
      "[I 2025-02-21 07:40:14,751] Trial 33 finished with value: 0.7414998710155487 and parameters: {'iterations': 2507, 'depth': 7, 'learning_rate': 0.05608518058723916, 'l2_leaf_reg': 1.722360914180846}. Best is trial 11 with value: 0.7421823143959045.\n"
     ]
    },
    {
     "name": "stdout",
     "output_type": "stream",
     "text": [
      "bestTest = 0.741499871\n",
      "bestIteration = 262\n",
      "Shrink model to first 263 iterations.\n"
     ]
    },
    {
     "name": "stderr",
     "output_type": "stream",
     "text": [
      "Default metric period is 5 because AUC is/are not implemented for GPU\n"
     ]
    },
    {
     "name": "stdout",
     "output_type": "stream",
     "text": [
      "0:\ttest: 0.7212533\tbest: 0.7212533 (0)\ttotal: 33.2ms\tremaining: 1m 13s\n",
      "300:\ttest: 0.7416939\tbest: 0.7417282 (293)\ttotal: 8.95s\tremaining: 56.9s\n",
      "600:\ttest: 0.7419703\tbest: 0.7421387 (563)\ttotal: 17.7s\tremaining: 47.6s\n",
      "bestTest = 0.7421386838\n",
      "bestIteration = 563\n",
      "Shrink model to first 564 iterations.\n"
     ]
    },
    {
     "name": "stderr",
     "output_type": "stream",
     "text": [
      "[I 2025-02-21 07:40:44,044] Trial 34 finished with value: 0.742138683795929 and parameters: {'iterations': 2214, 'depth': 6, 'learning_rate': 0.048006737908329086, 'l2_leaf_reg': 0.21035722837528598}. Best is trial 11 with value: 0.7421823143959045.\n",
      "Default metric period is 5 because AUC is/are not implemented for GPU\n"
     ]
    },
    {
     "name": "stdout",
     "output_type": "stream",
     "text": [
      "0:\ttest: 0.7212524\tbest: 0.7212524 (0)\ttotal: 29.8ms\tremaining: 1m 3s\n",
      "300:\ttest: 0.7415572\tbest: 0.7415874 (278)\ttotal: 8.92s\tremaining: 54.6s\n",
      "600:\ttest: 0.7411962\tbest: 0.7415997 (306)\ttotal: 17.7s\tremaining: 45.5s\n",
      "bestTest = 0.7415997386\n",
      "bestIteration = 306\n",
      "Shrink model to first 307 iterations.\n"
     ]
    },
    {
     "name": "stderr",
     "output_type": "stream",
     "text": [
      "[I 2025-02-21 07:41:05,216] Trial 35 finished with value: 0.7415997385978699 and parameters: {'iterations': 2143, 'depth': 6, 'learning_rate': 0.06754706205732723, 'l2_leaf_reg': 3.371276055844398}. Best is trial 11 with value: 0.7421823143959045.\n",
      "Default metric period is 5 because AUC is/are not implemented for GPU\n"
     ]
    },
    {
     "name": "stdout",
     "output_type": "stream",
     "text": [
      "0:\ttest: 0.7012590\tbest: 0.7012590 (0)\ttotal: 21.9ms\tremaining: 50.5s\n",
      "300:\ttest: 0.7407465\tbest: 0.7407470 (299)\ttotal: 6.28s\tremaining: 41.8s\n",
      "600:\ttest: 0.7414926\tbest: 0.7415122 (582)\ttotal: 10.9s\tremaining: 31s\n",
      "900:\ttest: 0.7414963\tbest: 0.7416187 (854)\ttotal: 15.1s\tremaining: 23.6s\n",
      "bestTest = 0.7416186631\n",
      "bestIteration = 854\n",
      "Shrink model to first 855 iterations.\n"
     ]
    },
    {
     "name": "stderr",
     "output_type": "stream",
     "text": [
      "[I 2025-02-21 07:41:27,784] Trial 36 finished with value: 0.7416186630725861 and parameters: {'iterations': 2305, 'depth': 4, 'learning_rate': 0.051335505037475776, 'l2_leaf_reg': 0.6661327550684301}. Best is trial 11 with value: 0.7421823143959045.\n",
      "Default metric period is 5 because AUC is/are not implemented for GPU\n"
     ]
    },
    {
     "name": "stdout",
     "output_type": "stream",
     "text": [
      "0:\ttest: 0.7163436\tbest: 0.7163436 (0)\ttotal: 23.2ms\tremaining: 50.6s\n",
      "300:\ttest: 0.7413468\tbest: 0.7414148 (271)\ttotal: 6.14s\tremaining: 38.4s\n",
      "600:\ttest: 0.7414660\tbest: 0.7415601 (496)\ttotal: 11.5s\tremaining: 30.1s\n"
     ]
    },
    {
     "name": "stderr",
     "output_type": "stream",
     "text": [
      "[I 2025-02-21 07:41:45,982] Trial 37 finished with value: 0.7415601313114166 and parameters: {'iterations': 2180, 'depth': 5, 'learning_rate': 0.05892461728689789, 'l2_leaf_reg': 21.58477244861609}. Best is trial 11 with value: 0.7421823143959045.\n"
     ]
    },
    {
     "name": "stdout",
     "output_type": "stream",
     "text": [
      "bestTest = 0.7415601313\n",
      "bestIteration = 496\n",
      "Shrink model to first 497 iterations.\n"
     ]
    },
    {
     "name": "stderr",
     "output_type": "stream",
     "text": [
      "Default metric period is 5 because AUC is/are not implemented for GPU\n"
     ]
    },
    {
     "name": "stdout",
     "output_type": "stream",
     "text": [
      "0:\ttest: 0.7259308\tbest: 0.7259308 (0)\ttotal: 42.5ms\tremaining: 1m 34s\n",
      "300:\ttest: 0.7409716\tbest: 0.7409922 (293)\ttotal: 9.48s\tremaining: 1m\n",
      "600:\ttest: 0.7403568\tbest: 0.7411163 (370)\ttotal: 18s\tremaining: 48.5s\n"
     ]
    },
    {
     "name": "stderr",
     "output_type": "stream",
     "text": [
      "[I 2025-02-21 07:42:09,382] Trial 38 finished with value: 0.7411162555217743 and parameters: {'iterations': 2216, 'depth': 7, 'learning_rate': 0.03939574674993987, 'l2_leaf_reg': 0.0387504108582788}. Best is trial 11 with value: 0.7421823143959045.\n"
     ]
    },
    {
     "name": "stdout",
     "output_type": "stream",
     "text": [
      "bestTest = 0.7411162555\n",
      "bestIteration = 370\n",
      "Shrink model to first 371 iterations.\n"
     ]
    },
    {
     "name": "stderr",
     "output_type": "stream",
     "text": [
      "Default metric period is 5 because AUC is/are not implemented for GPU\n"
     ]
    },
    {
     "name": "stdout",
     "output_type": "stream",
     "text": [
      "0:\ttest: 0.7012590\tbest: 0.7012590 (0)\ttotal: 14.4ms\tremaining: 34s\n",
      "300:\ttest: 0.7409185\tbest: 0.7409852 (284)\ttotal: 4.27s\tremaining: 29.2s\n",
      "600:\ttest: 0.7412465\tbest: 0.7412495 (594)\ttotal: 8.39s\tremaining: 24.5s\n",
      "900:\ttest: 0.7412816\tbest: 0.7414508 (766)\ttotal: 13.3s\tremaining: 21.5s\n"
     ]
    },
    {
     "name": "stderr",
     "output_type": "stream",
     "text": [
      "[I 2025-02-21 07:42:28,692] Trial 39 finished with value: 0.7414507865905762 and parameters: {'iterations': 2360, 'depth': 4, 'learning_rate': 0.06742983958401748, 'l2_leaf_reg': 0.07831941903439456}. Best is trial 11 with value: 0.7421823143959045.\n",
      "[I 2025-02-21 07:42:28,697] A new study created in memory with name: no-name-69b1d636-ab5e-4a7b-a72c-8f2e00d48523\n"
     ]
    },
    {
     "name": "stdout",
     "output_type": "stream",
     "text": [
      "bestTest = 0.7414507866\n",
      "bestIteration = 766\n",
      "Shrink model to first 767 iterations.\n"
     ]
    },
    {
     "name": "stderr",
     "output_type": "stream",
     "text": [
      "[I 2025-02-21 07:42:45,226] Trial 0 finished with value: 0.7300373344311193 and parameters: {'num_iterations': 2366, 'objective': 'binary', 'metric': 'auc', 'verbose': -1, 'learning_rate': 0.0652646236447618, 'n_estimators': 236, 'min_child_samples': 45, 'subsample': 0.7, 'colsample_bytree': 0.5}. Best is trial 0 with value: 0.7300373344311193.\n",
      "[I 2025-02-21 07:42:57,467] Trial 1 finished with value: 0.7417250265167841 and parameters: {'num_iterations': 1510, 'objective': 'binary', 'metric': 'auc', 'verbose': -1, 'learning_rate': 0.005231880959249543, 'n_estimators': 1411, 'min_child_samples': 10, 'subsample': 1.0, 'colsample_bytree': 0.5}. Best is trial 1 with value: 0.7417250265167841.\n",
      "[I 2025-02-21 07:43:08,824] Trial 2 finished with value: 0.7408956116275046 and parameters: {'num_iterations': 2334, 'objective': 'binary', 'metric': 'auc', 'verbose': -1, 'learning_rate': 0.006578527777128852, 'n_estimators': 931, 'min_child_samples': 15, 'subsample': 0.5, 'colsample_bytree': 1.0}. Best is trial 1 with value: 0.7417250265167841.\n",
      "[I 2025-02-21 07:43:19,824] Trial 3 finished with value: 0.7418175799329073 and parameters: {'num_iterations': 1620, 'objective': 'binary', 'metric': 'auc', 'verbose': -1, 'learning_rate': 0.0058823249237283685, 'n_estimators': 837, 'min_child_samples': 10, 'subsample': 0.9, 'colsample_bytree': 0.6}. Best is trial 3 with value: 0.7418175799329073.\n",
      "[I 2025-02-21 07:43:29,579] Trial 4 finished with value: 0.7410612650881366 and parameters: {'num_iterations': 1997, 'objective': 'binary', 'metric': 'auc', 'verbose': -1, 'learning_rate': 0.010907507425244923, 'n_estimators': 1597, 'min_child_samples': 50, 'subsample': 0.6, 'colsample_bytree': 0.8}. Best is trial 3 with value: 0.7418175799329073.\n",
      "[I 2025-02-21 07:43:41,377] Trial 5 finished with value: 0.73742650246978 and parameters: {'num_iterations': 2909, 'objective': 'binary', 'metric': 'auc', 'verbose': -1, 'learning_rate': 0.019760591962733942, 'n_estimators': 612, 'min_child_samples': 30, 'subsample': 0.7, 'colsample_bytree': 0.9}. Best is trial 3 with value: 0.7418175799329073.\n",
      "[I 2025-02-21 07:43:52,707] Trial 6 finished with value: 0.738380722313099 and parameters: {'num_iterations': 2639, 'objective': 'binary', 'metric': 'auc', 'verbose': -1, 'learning_rate': 0.017862094446750985, 'n_estimators': 794, 'min_child_samples': 35, 'subsample': 1.0, 'colsample_bytree': 0.8}. Best is trial 3 with value: 0.7418175799329073.\n",
      "[I 2025-02-21 07:44:03,499] Trial 7 finished with value: 0.7408144427421873 and parameters: {'num_iterations': 1580, 'objective': 'binary', 'metric': 'auc', 'verbose': -1, 'learning_rate': 0.01776722177611332, 'n_estimators': 529, 'min_child_samples': 25, 'subsample': 0.8, 'colsample_bytree': 0.5}. Best is trial 3 with value: 0.7418175799329073.\n",
      "[I 2025-02-21 07:44:13,685] Trial 8 finished with value: 0.7371573359470448 and parameters: {'num_iterations': 1911, 'objective': 'binary', 'metric': 'auc', 'verbose': -1, 'learning_rate': 0.0304747553332844, 'n_estimators': 1328, 'min_child_samples': 10, 'subsample': 0.7, 'colsample_bytree': 0.6}. Best is trial 3 with value: 0.7418175799329073.\n",
      "[I 2025-02-21 07:44:33,471] Trial 9 finished with value: 0.7374199385948508 and parameters: {'num_iterations': 2739, 'objective': 'binary', 'metric': 'auc', 'verbose': -1, 'learning_rate': 0.02691531614176271, 'n_estimators': 1438, 'min_child_samples': 20, 'subsample': 0.6, 'colsample_bytree': 0.5}. Best is trial 3 with value: 0.7418175799329073.\n",
      "[I 2025-02-21 07:44:43,181] Trial 10 finished with value: 0.7416033744464069 and parameters: {'num_iterations': 1883, 'objective': 'binary', 'metric': 'auc', 'verbose': -1, 'learning_rate': 0.007630609716045009, 'n_estimators': 1917, 'min_child_samples': 40, 'subsample': 0.9, 'colsample_bytree': 0.7}. Best is trial 3 with value: 0.7418175799329073.\n",
      "[I 2025-02-21 07:44:53,866] Trial 11 finished with value: 0.7418885356988548 and parameters: {'num_iterations': 1513, 'objective': 'binary', 'metric': 'auc', 'verbose': -1, 'learning_rate': 0.005340229419903739, 'n_estimators': 1206, 'min_child_samples': 10, 'subsample': 1.0, 'colsample_bytree': 0.6}. Best is trial 11 with value: 0.7418885356988548.\n",
      "[I 2025-02-21 07:45:04,386] Trial 12 finished with value: 0.7417742297679932 and parameters: {'num_iterations': 1717, 'objective': 'binary', 'metric': 'auc', 'verbose': -1, 'learning_rate': 0.005017837931138521, 'n_estimators': 1093, 'min_child_samples': 20, 'subsample': 0.9, 'colsample_bytree': 0.7}. Best is trial 11 with value: 0.7418885356988548.\n",
      "[I 2025-02-21 07:45:19,197] Trial 13 finished with value: 0.741293395155055 and parameters: {'num_iterations': 2084, 'objective': 'binary', 'metric': 'auc', 'verbose': -1, 'learning_rate': 0.008570518224393218, 'n_estimators': 1108, 'min_child_samples': 10, 'subsample': 0.9, 'colsample_bytree': 0.6}. Best is trial 11 with value: 0.7418885356988548.\n",
      "[I 2025-02-21 07:45:29,836] Trial 14 finished with value: 0.7410277110995387 and parameters: {'num_iterations': 1759, 'objective': 'binary', 'metric': 'auc', 'verbose': -1, 'learning_rate': 0.010925213585949684, 'n_estimators': 172, 'min_child_samples': 20, 'subsample': 1.0, 'colsample_bytree': 0.6}. Best is trial 11 with value: 0.7418885356988548.\n",
      "[I 2025-02-21 07:45:38,967] Trial 15 finished with value: 0.7416965314372362 and parameters: {'num_iterations': 1504, 'objective': 'binary', 'metric': 'auc', 'verbose': -1, 'learning_rate': 0.00518253235982016, 'n_estimators': 687, 'min_child_samples': 15, 'subsample': 0.8, 'colsample_bytree': 0.7}. Best is trial 11 with value: 0.7418885356988548.\n",
      "[I 2025-02-21 07:45:51,987] Trial 16 finished with value: 0.740779451292776 and parameters: {'num_iterations': 2199, 'objective': 'binary', 'metric': 'auc', 'verbose': -1, 'learning_rate': 0.0108473830871775, 'n_estimators': 1779, 'min_child_samples': 30, 'subsample': 0.9, 'colsample_bytree': 0.6}. Best is trial 11 with value: 0.7418885356988548.\n",
      "[I 2025-02-21 07:46:02,769] Trial 17 finished with value: 0.7419548852367819 and parameters: {'num_iterations': 1709, 'objective': 'binary', 'metric': 'auc', 'verbose': -1, 'learning_rate': 0.007238111112271453, 'n_estimators': 1159, 'min_child_samples': 15, 'subsample': 1.0, 'colsample_bytree': 0.6}. Best is trial 17 with value: 0.7419548852367819.\n",
      "[I 2025-02-21 07:46:15,943] Trial 18 finished with value: 0.7413045056947115 and parameters: {'num_iterations': 1775, 'objective': 'binary', 'metric': 'auc', 'verbose': -1, 'learning_rate': 0.008285940515159382, 'n_estimators': 1205, 'min_child_samples': 25, 'subsample': 1.0, 'colsample_bytree': 0.7}. Best is trial 17 with value: 0.7419548852367819.\n",
      "[I 2025-02-21 07:46:26,957] Trial 19 finished with value: 0.7397715212423829 and parameters: {'num_iterations': 2510, 'objective': 'binary', 'metric': 'auc', 'verbose': -1, 'learning_rate': 0.012733283519009226, 'n_estimators': 1638, 'min_child_samples': 15, 'subsample': 0.8, 'colsample_bytree': 0.8}. Best is trial 17 with value: 0.7419548852367819.\n",
      "[I 2025-02-21 07:46:36,146] Trial 20 finished with value: 0.7417323011803475 and parameters: {'num_iterations': 1694, 'objective': 'binary', 'metric': 'auc', 'verbose': -1, 'learning_rate': 0.00688976659636273, 'n_estimators': 378, 'min_child_samples': 25, 'subsample': 1.0, 'colsample_bytree': 0.9}. Best is trial 17 with value: 0.7419548852367819.\n",
      "[I 2025-02-21 07:46:47,539] Trial 21 finished with value: 0.7418948732332693 and parameters: {'num_iterations': 1635, 'objective': 'binary', 'metric': 'auc', 'verbose': -1, 'learning_rate': 0.006342173100139039, 'n_estimators': 922, 'min_child_samples': 10, 'subsample': 0.9, 'colsample_bytree': 0.6}. Best is trial 17 with value: 0.7419548852367819.\n",
      "[I 2025-02-21 07:46:58,963] Trial 22 finished with value: 0.7418226110457539 and parameters: {'num_iterations': 1841, 'objective': 'binary', 'metric': 'auc', 'verbose': -1, 'learning_rate': 0.007283122901399725, 'n_estimators': 966, 'min_child_samples': 15, 'subsample': 1.0, 'colsample_bytree': 0.6}. Best is trial 17 with value: 0.7419548852367819.\n",
      "[I 2025-02-21 07:47:16,165] Trial 23 finished with value: 0.7416988146968154 and parameters: {'num_iterations': 2077, 'objective': 'binary', 'metric': 'auc', 'verbose': -1, 'learning_rate': 0.006286254443572849, 'n_estimators': 1230, 'min_child_samples': 10, 'subsample': 0.9, 'colsample_bytree': 0.5}. Best is trial 17 with value: 0.7419548852367819.\n",
      "[I 2025-02-21 07:47:24,472] Trial 24 finished with value: 0.7416340296880608 and parameters: {'num_iterations': 1626, 'objective': 'binary', 'metric': 'auc', 'verbose': -1, 'learning_rate': 0.00910883836508479, 'n_estimators': 1007, 'min_child_samples': 15, 'subsample': 1.0, 'colsample_bytree': 0.7}. Best is trial 17 with value: 0.7419548852367819.\n",
      "[I 2025-02-21 07:47:35,151] Trial 25 finished with value: 0.7403538437654498 and parameters: {'num_iterations': 1956, 'objective': 'binary', 'metric': 'auc', 'verbose': -1, 'learning_rate': 0.0139772118119107, 'n_estimators': 1250, 'min_child_samples': 20, 'subsample': 0.9, 'colsample_bytree': 0.6}. Best is trial 17 with value: 0.7419548852367819.\n",
      "[I 2025-02-21 07:47:45,624] Trial 26 finished with value: 0.7419306350346082 and parameters: {'num_iterations': 1640, 'objective': 'binary', 'metric': 'auc', 'verbose': -1, 'learning_rate': 0.006359698588330985, 'n_estimators': 1561, 'min_child_samples': 10, 'subsample': 0.8, 'colsample_bytree': 0.6}. Best is trial 17 with value: 0.7419548852367819.\n",
      "[I 2025-02-21 07:47:54,578] Trial 27 finished with value: 0.7413119828734724 and parameters: {'num_iterations': 1797, 'objective': 'binary', 'metric': 'auc', 'verbose': -1, 'learning_rate': 0.00923790090938527, 'n_estimators': 1573, 'min_child_samples': 15, 'subsample': 0.8, 'colsample_bytree': 0.7}. Best is trial 17 with value: 0.7419548852367819.\n",
      "[I 2025-02-21 07:48:07,136] Trial 28 finished with value: 0.7419213947823635 and parameters: {'num_iterations': 1650, 'objective': 'binary', 'metric': 'auc', 'verbose': -1, 'learning_rate': 0.0069911136447969495, 'n_estimators': 1751, 'min_child_samples': 35, 'subsample': 0.8, 'colsample_bytree': 0.5}. Best is trial 17 with value: 0.7419548852367819.\n",
      "[I 2025-02-21 07:48:21,032] Trial 29 finished with value: 0.7291329372972605 and parameters: {'num_iterations': 2128, 'objective': 'binary', 'metric': 'auc', 'verbose': -1, 'learning_rate': 0.07234407408474254, 'n_estimators': 1940, 'min_child_samples': 40, 'subsample': 0.6, 'colsample_bytree': 0.5}. Best is trial 17 with value: 0.7419548852367819.\n",
      "[I 2025-02-21 07:48:38,166] Trial 30 finished with value: 0.7416391680148355 and parameters: {'num_iterations': 2391, 'objective': 'binary', 'metric': 'auc', 'verbose': -1, 'learning_rate': 0.007156536539413739, 'n_estimators': 1750, 'min_child_samples': 35, 'subsample': 0.7, 'colsample_bytree': 0.5}. Best is trial 17 with value: 0.7419548852367819.\n",
      "[I 2025-02-21 07:48:51,278] Trial 31 finished with value: 0.7418729579121957 and parameters: {'num_iterations': 1668, 'objective': 'binary', 'metric': 'auc', 'verbose': -1, 'learning_rate': 0.00624618759891988, 'n_estimators': 1496, 'min_child_samples': 35, 'subsample': 0.8, 'colsample_bytree': 0.5}. Best is trial 17 with value: 0.7419548852367819.\n",
      "[I 2025-02-21 07:49:03,202] Trial 32 finished with value: 0.7417713032248456 and parameters: {'num_iterations': 1573, 'objective': 'binary', 'metric': 'auc', 'verbose': -1, 'learning_rate': 0.008150676763290865, 'n_estimators': 1782, 'min_child_samples': 40, 'subsample': 0.8, 'colsample_bytree': 0.5}. Best is trial 17 with value: 0.7419548852367819.\n",
      "[I 2025-02-21 07:49:13,901] Trial 33 finished with value: 0.7419144219061531 and parameters: {'num_iterations': 1715, 'objective': 'binary', 'metric': 'auc', 'verbose': -1, 'learning_rate': 0.00621082915214311, 'n_estimators': 1369, 'min_child_samples': 45, 'subsample': 0.7, 'colsample_bytree': 0.6}. Best is trial 17 with value: 0.7419548852367819.\n",
      "[I 2025-02-21 07:49:30,441] Trial 34 finished with value: 0.7419920011103234 and parameters: {'num_iterations': 2014, 'objective': 'binary', 'metric': 'auc', 'verbose': -1, 'learning_rate': 0.005806475929670827, 'n_estimators': 1368, 'min_child_samples': 50, 'subsample': 0.7, 'colsample_bytree': 0.5}. Best is trial 34 with value: 0.7419920011103234.\n",
      "[I 2025-02-21 07:49:45,496] Trial 35 finished with value: 0.7419243808888044 and parameters: {'num_iterations': 1961, 'objective': 'binary', 'metric': 'auc', 'verbose': -1, 'learning_rate': 0.005226280857731052, 'n_estimators': 1680, 'min_child_samples': 50, 'subsample': 0.5, 'colsample_bytree': 0.5}. Best is trial 34 with value: 0.7419920011103234.\n",
      "[I 2025-02-21 07:50:01,079] Trial 36 finished with value: 0.7419588958318687 and parameters: {'num_iterations': 2033, 'objective': 'binary', 'metric': 'auc', 'verbose': -1, 'learning_rate': 0.005175129128073384, 'n_estimators': 1468, 'min_child_samples': 50, 'subsample': 0.5, 'colsample_bytree': 0.5}. Best is trial 34 with value: 0.7419920011103234.\n",
      "[I 2025-02-21 07:50:12,342] Trial 37 finished with value: 0.7416976988777862 and parameters: {'num_iterations': 2234, 'objective': 'binary', 'metric': 'auc', 'verbose': -1, 'learning_rate': 0.005586601225423263, 'n_estimators': 1524, 'min_child_samples': 45, 'subsample': 0.6, 'colsample_bytree': 1.0}. Best is trial 34 with value: 0.7419920011103234.\n",
      "[I 2025-02-21 07:50:29,649] Trial 38 finished with value: 0.741977765483208 and parameters: {'num_iterations': 2384, 'objective': 'binary', 'metric': 'auc', 'verbose': -1, 'learning_rate': 0.006021638235862144, 'n_estimators': 1336, 'min_child_samples': 45, 'subsample': 0.5, 'colsample_bytree': 0.5}. Best is trial 34 with value: 0.7419920011103234.\n",
      "[I 2025-02-21 07:50:47,817] Trial 39 finished with value: 0.7420139759946903 and parameters: {'num_iterations': 2358, 'objective': 'binary', 'metric': 'auc', 'verbose': -1, 'learning_rate': 0.005027062820406381, 'n_estimators': 1325, 'min_child_samples': 50, 'subsample': 0.5, 'colsample_bytree': 0.5}. Best is trial 39 with value: 0.7420139759946903.\n"
     ]
    },
    {
     "name": "stdout",
     "output_type": "stream",
     "text": [
      "Cat val score : 0.7421823693668174\n",
      "LGBM val score : 0.7419428216844315\n",
      "Ensemble val score : 0.7423986158888373\n"
     ]
    },
    {
     "name": "stderr",
     "output_type": "stream",
     "text": [
      "[I 2025-02-21 07:51:08,877] A new study created in memory with name: no-name-7503f910-0a82-447c-a035-b4515207758b\n"
     ]
    },
    {
     "name": "stdout",
     "output_type": "stream",
     "text": [
      "==================================================\n"
     ]
    },
    {
     "name": "stderr",
     "output_type": "stream",
     "text": [
      "Default metric period is 5 because AUC is/are not implemented for GPU\n"
     ]
    },
    {
     "name": "stdout",
     "output_type": "stream",
     "text": [
      "0:\ttest: 0.7295162\tbest: 0.7295162 (0)\ttotal: 88.3ms\tremaining: 3m 28s\n",
      "300:\ttest: 0.7412126\tbest: 0.7412180 (298)\ttotal: 24.1s\tremaining: 2m 45s\n",
      "600:\ttest: 0.7422539\tbest: 0.7422630 (599)\ttotal: 48.6s\tremaining: 2m 22s\n",
      "900:\ttest: 0.7422176\tbest: 0.7423106 (717)\ttotal: 1m 12s\tremaining: 1m 58s\n",
      "bestTest = 0.7423105836\n",
      "bestIteration = 717\n",
      "Shrink model to first 718 iterations.\n"
     ]
    },
    {
     "name": "stderr",
     "output_type": "stream",
     "text": [
      "[I 2025-02-21 07:52:33,205] Trial 0 finished with value: 0.7423105835914612 and parameters: {'iterations': 2366, 'depth': 10, 'learning_rate': 0.01181021951839225, 'l2_leaf_reg': 9.980783802743254}. Best is trial 0 with value: 0.7423105835914612.\n"
     ]
    },
    {
     "name": "stdout",
     "output_type": "stream",
     "text": [
      "저장 완료\n"
     ]
    },
    {
     "name": "stderr",
     "output_type": "stream",
     "text": [
      "Default metric period is 5 because AUC is/are not implemented for GPU\n"
     ]
    },
    {
     "name": "stdout",
     "output_type": "stream",
     "text": [
      "0:\ttest: 0.7036404\tbest: 0.7036404 (0)\ttotal: 26.4ms\tremaining: 57.9s\n",
      "300:\ttest: 0.7306402\tbest: 0.7306402 (300)\ttotal: 5.02s\tremaining: 31.6s\n",
      "600:\ttest: 0.7358958\tbest: 0.7358958 (600)\ttotal: 9.95s\tremaining: 26.4s\n",
      "900:\ttest: 0.7381558\tbest: 0.7381558 (900)\ttotal: 14.7s\tremaining: 21.1s\n",
      "1200:\ttest: 0.7394670\tbest: 0.7394670 (1200)\ttotal: 19.3s\tremaining: 15.9s\n",
      "1500:\ttest: 0.7403275\tbest: 0.7403275 (1500)\ttotal: 23.5s\tremaining: 10.8s\n",
      "1800:\ttest: 0.7409074\tbest: 0.7409074 (1800)\ttotal: 27.7s\tremaining: 6.02s\n",
      "2100:\ttest: 0.7413573\tbest: 0.7413573 (2100)\ttotal: 31.8s\tremaining: 1.39s\n"
     ]
    },
    {
     "name": "stderr",
     "output_type": "stream",
     "text": [
      "[I 2025-02-21 07:53:09,774] Trial 1 finished with value: 0.7414665520191193 and parameters: {'iterations': 2193, 'depth': 4, 'learning_rate': 0.005671430811678843, 'l2_leaf_reg': 0.00012325230809466137}. Best is trial 0 with value: 0.7423105835914612.\n"
     ]
    },
    {
     "name": "stdout",
     "output_type": "stream",
     "text": [
      "2192:\ttest: 0.7414666\tbest: 0.7414666 (2192)\ttotal: 33s\tremaining: 0us\n",
      "bestTest = 0.741466552\n",
      "bestIteration = 2192\n"
     ]
    },
    {
     "name": "stderr",
     "output_type": "stream",
     "text": [
      "Default metric period is 5 because AUC is/are not implemented for GPU\n"
     ]
    },
    {
     "name": "stdout",
     "output_type": "stream",
     "text": [
      "0:\ttest: 0.7036404\tbest: 0.7036404 (0)\ttotal: 14.7ms\tremaining: 37.1s\n",
      "300:\ttest: 0.7424843\tbest: 0.7424843 (300)\ttotal: 4.31s\tremaining: 32s\n",
      "600:\ttest: 0.7421965\tbest: 0.7425851 (354)\ttotal: 8.62s\tremaining: 27.7s\n"
     ]
    },
    {
     "name": "stderr",
     "output_type": "stream",
     "text": [
      "[I 2025-02-21 07:53:22,423] Trial 2 finished with value: 0.7425851225852966 and parameters: {'iterations': 2535, 'depth': 4, 'learning_rate': 0.09275339199839054, 'l2_leaf_reg': 0.0008705394248343123}. Best is trial 2 with value: 0.7425851225852966.\n"
     ]
    },
    {
     "name": "stdout",
     "output_type": "stream",
     "text": [
      "bestTest = 0.7425851226\n",
      "bestIteration = 354\n",
      "Shrink model to first 355 iterations.\n",
      "저장 완료\n"
     ]
    },
    {
     "name": "stderr",
     "output_type": "stream",
     "text": [
      "Default metric period is 5 because AUC is/are not implemented for GPU\n"
     ]
    },
    {
     "name": "stdout",
     "output_type": "stream",
     "text": [
      "0:\ttest: 0.7036404\tbest: 0.7036404 (0)\ttotal: 15.1ms\tremaining: 35.3s\n",
      "300:\ttest: 0.7418706\tbest: 0.7418865 (297)\ttotal: 4.62s\tremaining: 31.2s\n",
      "600:\ttest: 0.7428952\tbest: 0.7429679 (549)\ttotal: 9.15s\tremaining: 26.4s\n"
     ]
    },
    {
     "name": "stderr",
     "output_type": "stream",
     "text": [
      "[I 2025-02-21 07:53:38,458] Trial 3 finished with value: 0.7429679036140442 and parameters: {'iterations': 2334, 'depth': 4, 'learning_rate': 0.04657568321363276, 'l2_leaf_reg': 0.0008640473331457248}. Best is trial 3 with value: 0.7429679036140442.\n"
     ]
    },
    {
     "name": "stdout",
     "output_type": "stream",
     "text": [
      "bestTest = 0.7429679036\n",
      "bestIteration = 549\n",
      "Shrink model to first 550 iterations.\n",
      "저장 완료\n"
     ]
    },
    {
     "name": "stderr",
     "output_type": "stream",
     "text": [
      "Default metric period is 5 because AUC is/are not implemented for GPU\n"
     ]
    },
    {
     "name": "stdout",
     "output_type": "stream",
     "text": [
      "0:\ttest: 0.7294991\tbest: 0.7294991 (0)\ttotal: 79ms\tremaining: 2m 17s\n",
      "300:\ttest: 0.7403694\tbest: 0.7403694 (300)\ttotal: 24.3s\tremaining: 1m 56s\n",
      "600:\ttest: 0.7398273\tbest: 0.7404492 (309)\ttotal: 48.6s\tremaining: 1m 32s\n"
     ]
    },
    {
     "name": "stderr",
     "output_type": "stream",
     "text": [
      "[I 2025-02-21 07:54:31,175] Trial 4 finished with value: 0.7404492199420929 and parameters: {'iterations': 1742, 'depth': 10, 'learning_rate': 0.012622767482095846, 'l2_leaf_reg': 0.00021158816350109617}. Best is trial 3 with value: 0.7429679036140442.\n"
     ]
    },
    {
     "name": "stdout",
     "output_type": "stream",
     "text": [
      "bestTest = 0.7404492199\n",
      "bestIteration = 309\n",
      "Shrink model to first 310 iterations.\n"
     ]
    },
    {
     "name": "stderr",
     "output_type": "stream",
     "text": [
      "Default metric period is 5 because AUC is/are not implemented for GPU\n"
     ]
    },
    {
     "name": "stdout",
     "output_type": "stream",
     "text": [
      "0:\ttest: 0.7036404\tbest: 0.7036404 (0)\ttotal: 20.6ms\tremaining: 42.8s\n",
      "300:\ttest: 0.7423226\tbest: 0.7424023 (295)\ttotal: 4.8s\tremaining: 28.4s\n",
      "600:\ttest: 0.7427932\tbest: 0.7428918 (530)\ttotal: 8.76s\tremaining: 21.6s\n"
     ]
    },
    {
     "name": "stderr",
     "output_type": "stream",
     "text": [
      "[I 2025-02-21 07:54:46,369] Trial 5 finished with value: 0.742891788482666 and parameters: {'iterations': 2082, 'depth': 4, 'learning_rate': 0.06995196593094148, 'l2_leaf_reg': 0.0018080296485396804}. Best is trial 3 with value: 0.7429679036140442.\n"
     ]
    },
    {
     "name": "stdout",
     "output_type": "stream",
     "text": [
      "bestTest = 0.7428917885\n",
      "bestIteration = 530\n",
      "Shrink model to first 531 iterations.\n"
     ]
    },
    {
     "name": "stderr",
     "output_type": "stream",
     "text": [
      "Default metric period is 5 because AUC is/are not implemented for GPU\n"
     ]
    },
    {
     "name": "stdout",
     "output_type": "stream",
     "text": [
      "0:\ttest: 0.7184086\tbest: 0.7184086 (0)\ttotal: 23.8ms\tremaining: 47.6s\n",
      "300:\ttest: 0.7431256\tbest: 0.7431339 (299)\ttotal: 6.51s\tremaining: 36.7s\n",
      "600:\ttest: 0.7430713\tbest: 0.7432546 (510)\ttotal: 11.8s\tremaining: 27.4s\n"
     ]
    },
    {
     "name": "stderr",
     "output_type": "stream",
     "text": [
      "[I 2025-02-21 07:55:05,217] Trial 6 finished with value: 0.7432545721530914 and parameters: {'iterations': 1997, 'depth': 5, 'learning_rate': 0.07985155992831598, 'l2_leaf_reg': 62.52181000710482}. Best is trial 6 with value: 0.7432545721530914.\n"
     ]
    },
    {
     "name": "stdout",
     "output_type": "stream",
     "text": [
      "bestTest = 0.7432545722\n",
      "bestIteration = 510\n",
      "Shrink model to first 511 iterations.\n",
      "저장 완료\n"
     ]
    },
    {
     "name": "stderr",
     "output_type": "stream",
     "text": [
      "Default metric period is 5 because AUC is/are not implemented for GPU\n"
     ]
    },
    {
     "name": "stdout",
     "output_type": "stream",
     "text": [
      "0:\ttest: 0.7287498\tbest: 0.7287498 (0)\ttotal: 28.9ms\tremaining: 55.6s\n",
      "300:\ttest: 0.7408877\tbest: 0.7421975 (164)\ttotal: 8.64s\tremaining: 46.7s\n"
     ]
    },
    {
     "name": "stderr",
     "output_type": "stream",
     "text": [
      "[I 2025-02-21 07:55:21,863] Trial 7 finished with value: 0.7421974539756775 and parameters: {'iterations': 1927, 'depth': 7, 'learning_rate': 0.0941937211034094, 'l2_leaf_reg': 0.05654822767791934}. Best is trial 6 with value: 0.7432545721530914.\n"
     ]
    },
    {
     "name": "stdout",
     "output_type": "stream",
     "text": [
      "bestTest = 0.742197454\n",
      "bestIteration = 164\n",
      "Shrink model to first 165 iterations.\n"
     ]
    },
    {
     "name": "stderr",
     "output_type": "stream",
     "text": [
      "Default metric period is 5 because AUC is/are not implemented for GPU\n"
     ]
    },
    {
     "name": "stdout",
     "output_type": "stream",
     "text": [
      "0:\ttest: 0.7287498\tbest: 0.7287498 (0)\ttotal: 33.3ms\tremaining: 1m 3s\n",
      "300:\ttest: 0.7426819\tbest: 0.7426876 (295)\ttotal: 10.3s\tremaining: 55.1s\n",
      "600:\ttest: 0.7424139\tbest: 0.7429031 (424)\ttotal: 19.1s\tremaining: 41.4s\n"
     ]
    },
    {
     "name": "stderr",
     "output_type": "stream",
     "text": [
      "[I 2025-02-21 07:55:47,859] Trial 8 finished with value: 0.7429031133651733 and parameters: {'iterations': 1904, 'depth': 7, 'learning_rate': 0.05155602859187331, 'l2_leaf_reg': 1.299974533316308}. Best is trial 6 with value: 0.7432545721530914.\n"
     ]
    },
    {
     "name": "stdout",
     "output_type": "stream",
     "text": [
      "bestTest = 0.7429031134\n",
      "bestIteration = 424\n",
      "Shrink model to first 425 iterations.\n"
     ]
    },
    {
     "name": "stderr",
     "output_type": "stream",
     "text": [
      "Default metric period is 5 because AUC is/are not implemented for GPU\n"
     ]
    },
    {
     "name": "stdout",
     "output_type": "stream",
     "text": [
      "0:\ttest: 0.7225159\tbest: 0.7225159 (0)\ttotal: 26.3ms\tremaining: 1m 9s\n",
      "300:\ttest: 0.7424231\tbest: 0.7424284 (297)\ttotal: 7.12s\tremaining: 55.3s\n",
      "600:\ttest: 0.7427600\tbest: 0.7429017 (500)\ttotal: 13.9s\tremaining: 47.1s\n"
     ]
    },
    {
     "name": "stderr",
     "output_type": "stream",
     "text": [
      "[I 2025-02-21 07:56:09,640] Trial 9 finished with value: 0.7429016530513763 and parameters: {'iterations': 2639, 'depth': 6, 'learning_rate': 0.03968704290444751, 'l2_leaf_reg': 0.30557194377967184}. Best is trial 6 with value: 0.7432545721530914.\n"
     ]
    },
    {
     "name": "stdout",
     "output_type": "stream",
     "text": [
      "bestTest = 0.7429016531\n",
      "bestIteration = 500\n",
      "Shrink model to first 501 iterations.\n"
     ]
    },
    {
     "name": "stderr",
     "output_type": "stream",
     "text": [
      "Default metric period is 5 because AUC is/are not implemented for GPU\n"
     ]
    },
    {
     "name": "stdout",
     "output_type": "stream",
     "text": [
      "0:\ttest: 0.7226077\tbest: 0.7226077 (0)\ttotal: 29.7ms\tremaining: 1m 27s\n",
      "300:\ttest: 0.7431551\tbest: 0.7431942 (287)\ttotal: 7.53s\tremaining: 1m 6s\n",
      "600:\ttest: 0.7430457\tbest: 0.7432991 (427)\ttotal: 14.2s\tremaining: 55.3s\n",
      "bestTest = 0.743299067\n",
      "bestIteration = 427\n",
      "Shrink model to first 428 iterations.\n"
     ]
    },
    {
     "name": "stderr",
     "output_type": "stream",
     "text": [
      "[I 2025-02-21 07:56:30,036] Trial 10 finished with value: 0.7432990670204163 and parameters: {'iterations': 2945, 'depth': 6, 'learning_rate': 0.07265276039199581, 'l2_leaf_reg': 97.18545559492446}. Best is trial 10 with value: 0.7432990670204163.\n"
     ]
    },
    {
     "name": "stdout",
     "output_type": "stream",
     "text": [
      "저장 완료\n"
     ]
    },
    {
     "name": "stderr",
     "output_type": "stream",
     "text": [
      "Default metric period is 5 because AUC is/are not implemented for GPU\n"
     ]
    },
    {
     "name": "stdout",
     "output_type": "stream",
     "text": [
      "0:\ttest: 0.7226038\tbest: 0.7226038 (0)\ttotal: 28.7ms\tremaining: 1m 25s\n",
      "300:\ttest: 0.7426801\tbest: 0.7427052 (287)\ttotal: 7.48s\tremaining: 1m 6s\n",
      "600:\ttest: 0.7427986\tbest: 0.7430162 (499)\ttotal: 14.3s\tremaining: 56.7s\n"
     ]
    },
    {
     "name": "stderr",
     "output_type": "stream",
     "text": [
      "[I 2025-02-21 07:56:52,093] Trial 11 finished with value: 0.7430161833763123 and parameters: {'iterations': 2994, 'depth': 6, 'learning_rate': 0.07131044509072976, 'l2_leaf_reg': 73.12133513928158}. Best is trial 10 with value: 0.7432990670204163.\n"
     ]
    },
    {
     "name": "stdout",
     "output_type": "stream",
     "text": [
      "bestTest = 0.7430161834\n",
      "bestIteration = 499\n",
      "Shrink model to first 500 iterations.\n"
     ]
    },
    {
     "name": "stderr",
     "output_type": "stream",
     "text": [
      "Default metric period is 5 because AUC is/are not implemented for GPU\n"
     ]
    },
    {
     "name": "stdout",
     "output_type": "stream",
     "text": [
      "0:\ttest: 0.7226077\tbest: 0.7226077 (0)\ttotal: 28.4ms\tremaining: 45.1s\n",
      "300:\ttest: 0.7429824\tbest: 0.7430165 (288)\ttotal: 7.8s\tremaining: 33.4s\n",
      "600:\ttest: 0.7429828\tbest: 0.7432197 (517)\ttotal: 15.4s\tremaining: 25.2s\n"
     ]
    },
    {
     "name": "stderr",
     "output_type": "stream",
     "text": [
      "[I 2025-02-21 07:57:15,814] Trial 12 finished with value: 0.7432196736335754 and parameters: {'iterations': 1588, 'depth': 6, 'learning_rate': 0.07674945667870968, 'l2_leaf_reg': 87.13438924619733}. Best is trial 10 with value: 0.7432990670204163.\n"
     ]
    },
    {
     "name": "stdout",
     "output_type": "stream",
     "text": [
      "bestTest = 0.7432196736\n",
      "bestIteration = 517\n",
      "Shrink model to first 518 iterations.\n"
     ]
    },
    {
     "name": "stderr",
     "output_type": "stream",
     "text": [
      "Default metric period is 5 because AUC is/are not implemented for GPU\n"
     ]
    },
    {
     "name": "stdout",
     "output_type": "stream",
     "text": [
      "0:\ttest: 0.7184160\tbest: 0.7184160 (0)\ttotal: 21.3ms\tremaining: 1m 3s\n",
      "300:\ttest: 0.7426853\tbest: 0.7427801 (276)\ttotal: 5.69s\tremaining: 50.5s\n",
      "600:\ttest: 0.7426742\tbest: 0.7428564 (539)\ttotal: 11.1s\tremaining: 44s\n"
     ]
    },
    {
     "name": "stderr",
     "output_type": "stream",
     "text": [
      "[I 2025-02-21 07:57:34,577] Trial 13 finished with value: 0.7428564429283142 and parameters: {'iterations': 2975, 'depth': 5, 'learning_rate': 0.07888750974731618, 'l2_leaf_reg': 10.019996908534585}. Best is trial 10 with value: 0.7432990670204163.\n"
     ]
    },
    {
     "name": "stdout",
     "output_type": "stream",
     "text": [
      "bestTest = 0.7428564429\n",
      "bestIteration = 539\n",
      "Shrink model to first 540 iterations.\n"
     ]
    },
    {
     "name": "stderr",
     "output_type": "stream",
     "text": [
      "Default metric period is 5 because AUC is/are not implemented for GPU\n"
     ]
    },
    {
     "name": "stdout",
     "output_type": "stream",
     "text": [
      "0:\ttest: 0.7302508\tbest: 0.7302508 (0)\ttotal: 43.8ms\tremaining: 1m 58s\n",
      "300:\ttest: 0.7424133\tbest: 0.7426800 (233)\ttotal: 12.4s\tremaining: 1m 38s\n"
     ]
    },
    {
     "name": "stderr",
     "output_type": "stream",
     "text": [
      "[I 2025-02-21 07:57:59,277] Trial 14 finished with value: 0.742680013179779 and parameters: {'iterations': 2702, 'depth': 8, 'learning_rate': 0.06308101933412968, 'l2_leaf_reg': 92.74223128282532}. Best is trial 10 with value: 0.7432990670204163.\n"
     ]
    },
    {
     "name": "stdout",
     "output_type": "stream",
     "text": [
      "bestTest = 0.7426800132\n",
      "bestIteration = 233\n",
      "Shrink model to first 234 iterations.\n"
     ]
    },
    {
     "name": "stderr",
     "output_type": "stream",
     "text": [
      "Default metric period is 5 because AUC is/are not implemented for GPU\n"
     ]
    },
    {
     "name": "stdout",
     "output_type": "stream",
     "text": [
      "0:\ttest: 0.7301786\tbest: 0.7301786 (0)\ttotal: 47.9ms\tremaining: 1m 12s\n",
      "300:\ttest: 0.7413054\tbest: 0.7424306 (175)\ttotal: 12.3s\tremaining: 49.6s\n"
     ]
    },
    {
     "name": "stderr",
     "output_type": "stream",
     "text": [
      "[I 2025-02-21 07:58:21,627] Trial 15 finished with value: 0.7424305975437164 and parameters: {'iterations': 1513, 'depth': 8, 'learning_rate': 0.08625378621185843, 'l2_leaf_reg': 7.451035024616121}. Best is trial 10 with value: 0.7432990670204163.\n"
     ]
    },
    {
     "name": "stdout",
     "output_type": "stream",
     "text": [
      "bestTest = 0.7424305975\n",
      "bestIteration = 175\n",
      "Shrink model to first 176 iterations.\n"
     ]
    },
    {
     "name": "stderr",
     "output_type": "stream",
     "text": [
      "Default metric period is 5 because AUC is/are not implemented for GPU\n"
     ]
    },
    {
     "name": "stdout",
     "output_type": "stream",
     "text": [
      "0:\ttest: 0.7184160\tbest: 0.7184160 (0)\ttotal: 26.7ms\tremaining: 53.9s\n",
      "300:\ttest: 0.7422317\tbest: 0.7422798 (277)\ttotal: 7.34s\tremaining: 41.8s\n",
      "600:\ttest: 0.7425523\tbest: 0.7427024 (459)\ttotal: 14.8s\tremaining: 34.8s\n"
     ]
    },
    {
     "name": "stderr",
     "output_type": "stream",
     "text": [
      "[I 2025-02-21 07:58:43,560] Trial 16 finished with value: 0.7427023947238922 and parameters: {'iterations': 2016, 'depth': 5, 'learning_rate': 0.0615985697073551, 'l2_leaf_reg': 2.2154120601410607}. Best is trial 10 with value: 0.7432990670204163.\n"
     ]
    },
    {
     "name": "stdout",
     "output_type": "stream",
     "text": [
      "bestTest = 0.7427023947\n",
      "bestIteration = 459\n",
      "Shrink model to first 460 iterations.\n"
     ]
    },
    {
     "name": "stderr",
     "output_type": "stream",
     "text": [
      "Default metric period is 5 because AUC is/are not implemented for GPU\n"
     ]
    },
    {
     "name": "stdout",
     "output_type": "stream",
     "text": [
      "0:\ttest: 0.7184110\tbest: 0.7184110 (0)\ttotal: 25.3ms\tremaining: 1m 11s\n",
      "300:\ttest: 0.7428460\tbest: 0.7428586 (285)\ttotal: 5.82s\tremaining: 48.6s\n",
      "600:\ttest: 0.7426429\tbest: 0.7429096 (306)\ttotal: 11.1s\tremaining: 41s\n",
      "bestTest = 0.7429096401\n",
      "bestIteration = 306\n",
      "Shrink model to first 307 iterations.\n"
     ]
    },
    {
     "name": "stderr",
     "output_type": "stream",
     "text": [
      "[I 2025-02-21 07:58:58,540] Trial 17 finished with value: 0.7429096400737762 and parameters: {'iterations': 2816, 'depth': 5, 'learning_rate': 0.09773821456719883, 'l2_leaf_reg': 26.97241350154797}. Best is trial 10 with value: 0.7432990670204163.\n",
      "Default metric period is 5 because AUC is/are not implemented for GPU\n"
     ]
    },
    {
     "name": "stdout",
     "output_type": "stream",
     "text": [
      "0:\ttest: 0.7302098\tbest: 0.7302098 (0)\ttotal: 47.7ms\tremaining: 1m 59s\n",
      "300:\ttest: 0.7420929\tbest: 0.7424715 (200)\ttotal: 11.9s\tremaining: 1m 27s\n"
     ]
    },
    {
     "name": "stderr",
     "output_type": "stream",
     "text": [
      "[I 2025-02-21 07:59:21,224] Trial 18 finished with value: 0.7424715459346771 and parameters: {'iterations': 2516, 'depth': 8, 'learning_rate': 0.085092199736808, 'l2_leaf_reg': 27.221212898343293}. Best is trial 10 with value: 0.7432990670204163.\n"
     ]
    },
    {
     "name": "stdout",
     "output_type": "stream",
     "text": [
      "bestTest = 0.7424715459\n",
      "bestIteration = 200\n",
      "Shrink model to first 201 iterations.\n"
     ]
    },
    {
     "name": "stderr",
     "output_type": "stream",
     "text": [
      "Default metric period is 5 because AUC is/are not implemented for GPU\n"
     ]
    },
    {
     "name": "stdout",
     "output_type": "stream",
     "text": [
      "0:\ttest: 0.7225157\tbest: 0.7225157 (0)\ttotal: 27ms\tremaining: 47.6s\n",
      "300:\ttest: 0.7429870\tbest: 0.7430561 (247)\ttotal: 7.32s\tremaining: 35.5s\n"
     ]
    },
    {
     "name": "stderr",
     "output_type": "stream",
     "text": [
      "[I 2025-02-21 07:59:37,726] Trial 19 finished with value: 0.7430561184883118 and parameters: {'iterations': 1761, 'depth': 6, 'learning_rate': 0.08271858848963275, 'l2_leaf_reg': 2.2761750054483345}. Best is trial 10 with value: 0.7432990670204163.\n"
     ]
    },
    {
     "name": "stdout",
     "output_type": "stream",
     "text": [
      "bestTest = 0.7430561185\n",
      "bestIteration = 247\n",
      "Shrink model to first 248 iterations.\n"
     ]
    },
    {
     "name": "stderr",
     "output_type": "stream",
     "text": [
      "Default metric period is 5 because AUC is/are not implemented for GPU\n"
     ]
    },
    {
     "name": "stdout",
     "output_type": "stream",
     "text": [
      "0:\ttest: 0.7287498\tbest: 0.7287498 (0)\ttotal: 38.4ms\tremaining: 1m 24s\n",
      "300:\ttest: 0.7420728\tbest: 0.7422226 (199)\ttotal: 9.08s\tremaining: 57.7s\n"
     ]
    },
    {
     "name": "stderr",
     "output_type": "stream",
     "text": [
      "[I 2025-02-21 07:59:55,792] Trial 20 finished with value: 0.7422225773334503 and parameters: {'iterations': 2212, 'depth': 7, 'learning_rate': 0.06362418064736489, 'l2_leaf_reg': 0.09212745072618449}. Best is trial 10 with value: 0.7432990670204163.\n"
     ]
    },
    {
     "name": "stdout",
     "output_type": "stream",
     "text": [
      "bestTest = 0.7422225773\n",
      "bestIteration = 199\n",
      "Shrink model to first 200 iterations.\n"
     ]
    },
    {
     "name": "stderr",
     "output_type": "stream",
     "text": [
      "Default metric period is 5 because AUC is/are not implemented for GPU\n"
     ]
    },
    {
     "name": "stdout",
     "output_type": "stream",
     "text": [
      "0:\ttest: 0.7226077\tbest: 0.7226077 (0)\ttotal: 26.7ms\tremaining: 40.3s\n",
      "300:\ttest: 0.7427860\tbest: 0.7428337 (286)\ttotal: 7.19s\tremaining: 28.9s\n",
      "600:\ttest: 0.7429764\tbest: 0.7432152 (503)\ttotal: 13.7s\tremaining: 20.7s\n"
     ]
    },
    {
     "name": "stderr",
     "output_type": "stream",
     "text": [
      "[I 2025-02-21 08:00:17,326] Trial 21 finished with value: 0.7432152032852173 and parameters: {'iterations': 1510, 'depth': 6, 'learning_rate': 0.07989786607494813, 'l2_leaf_reg': 89.94798088783348}. Best is trial 10 with value: 0.7432990670204163.\n"
     ]
    },
    {
     "name": "stdout",
     "output_type": "stream",
     "text": [
      "bestTest = 0.7432152033\n",
      "bestIteration = 503\n",
      "Shrink model to first 504 iterations.\n"
     ]
    },
    {
     "name": "stderr",
     "output_type": "stream",
     "text": [
      "Default metric period is 5 because AUC is/are not implemented for GPU\n"
     ]
    },
    {
     "name": "stdout",
     "output_type": "stream",
     "text": [
      "0:\ttest: 0.7184110\tbest: 0.7184110 (0)\ttotal: 24.8ms\tremaining: 42.1s\n",
      "300:\ttest: 0.7428106\tbest: 0.7428479 (276)\ttotal: 5.93s\tremaining: 27.5s\n",
      "600:\ttest: 0.7428379\tbest: 0.7429733 (516)\ttotal: 11.1s\tremaining: 20.2s\n"
     ]
    },
    {
     "name": "stderr",
     "output_type": "stream",
     "text": [
      "[I 2025-02-21 08:00:35,483] Trial 22 finished with value: 0.7429733276367188 and parameters: {'iterations': 1696, 'depth': 5, 'learning_rate': 0.07400775627394578, 'l2_leaf_reg': 25.034538061079346}. Best is trial 10 with value: 0.7432990670204163.\n"
     ]
    },
    {
     "name": "stdout",
     "output_type": "stream",
     "text": [
      "bestTest = 0.7429733276\n",
      "bestIteration = 516\n",
      "Shrink model to first 517 iterations.\n"
     ]
    },
    {
     "name": "stderr",
     "output_type": "stream",
     "text": [
      "Default metric period is 5 because AUC is/are not implemented for GPU\n"
     ]
    },
    {
     "name": "stdout",
     "output_type": "stream",
     "text": [
      "0:\ttest: 0.7226077\tbest: 0.7226077 (0)\ttotal: 21.9ms\tremaining: 40.5s\n",
      "300:\ttest: 0.7429221\tbest: 0.7429700 (198)\ttotal: 6.46s\tremaining: 33.3s\n",
      "600:\ttest: 0.7425389\tbest: 0.7430943 (394)\ttotal: 12.9s\tremaining: 27s\n"
     ]
    },
    {
     "name": "stderr",
     "output_type": "stream",
     "text": [
      "[I 2025-02-21 08:00:53,774] Trial 23 finished with value: 0.7430943250656128 and parameters: {'iterations': 1853, 'depth': 6, 'learning_rate': 0.09982821779619634, 'l2_leaf_reg': 89.42219921015186}. Best is trial 10 with value: 0.7432990670204163.\n"
     ]
    },
    {
     "name": "stdout",
     "output_type": "stream",
     "text": [
      "bestTest = 0.7430943251\n",
      "bestIteration = 394\n",
      "Shrink model to first 395 iterations.\n"
     ]
    },
    {
     "name": "stderr",
     "output_type": "stream",
     "text": [
      "Default metric period is 5 because AUC is/are not implemented for GPU\n"
     ]
    },
    {
     "name": "stdout",
     "output_type": "stream",
     "text": [
      "0:\ttest: 0.7184110\tbest: 0.7184110 (0)\ttotal: 18ms\tremaining: 29.4s\n",
      "300:\ttest: 0.7427786\tbest: 0.7427943 (286)\ttotal: 5.23s\tremaining: 23.1s\n",
      "600:\ttest: 0.7426476\tbest: 0.7428318 (306)\ttotal: 10.4s\tremaining: 17.8s\n",
      "bestTest = 0.7428318262\n",
      "bestIteration = 306\n",
      "Shrink model to first 307 iterations.\n"
     ]
    },
    {
     "name": "stderr",
     "output_type": "stream",
     "text": [
      "[I 2025-02-21 08:01:07,567] Trial 24 finished with value: 0.742831826210022 and parameters: {'iterations': 1632, 'depth': 5, 'learning_rate': 0.08855797834475825, 'l2_leaf_reg': 20.442592185090366}. Best is trial 10 with value: 0.7432990670204163.\n",
      "Default metric period is 5 because AUC is/are not implemented for GPU\n"
     ]
    },
    {
     "name": "stdout",
     "output_type": "stream",
     "text": [
      "0:\ttest: 0.7287489\tbest: 0.7287489 (0)\ttotal: 37.2ms\tremaining: 1m 18s\n",
      "300:\ttest: 0.7424384\tbest: 0.7429428 (195)\ttotal: 8.89s\tremaining: 53.2s\n",
      "bestTest = 0.7429427803\n",
      "bestIteration = 195\n",
      "Shrink model to first 196 iterations.\n"
     ]
    },
    {
     "name": "stderr",
     "output_type": "stream",
     "text": [
      "[I 2025-02-21 08:01:25,321] Trial 25 finished with value: 0.7429427802562714 and parameters: {'iterations': 2103, 'depth': 7, 'learning_rate': 0.07803133569061724, 'l2_leaf_reg': 4.184838815226083}. Best is trial 10 with value: 0.7432990670204163.\n",
      "Default metric period is 5 because AUC is/are not implemented for GPU\n"
     ]
    },
    {
     "name": "stdout",
     "output_type": "stream",
     "text": [
      "0:\ttest: 0.7301940\tbest: 0.7301940 (0)\ttotal: 57.2ms\tremaining: 2m 19s\n",
      "300:\ttest: 0.7400272\tbest: 0.7417654 (154)\ttotal: 16.4s\tremaining: 1m 56s\n"
     ]
    },
    {
     "name": "stderr",
     "output_type": "stream",
     "text": [
      "[I 2025-02-21 08:01:53,273] Trial 26 finished with value: 0.7417653799057007 and parameters: {'iterations': 2442, 'depth': 9, 'learning_rate': 0.08720726842974445, 'l2_leaf_reg': 24.980929068703706}. Best is trial 10 with value: 0.7432990670204163.\n"
     ]
    },
    {
     "name": "stdout",
     "output_type": "stream",
     "text": [
      "bestTest = 0.7417653799\n",
      "bestIteration = 154\n",
      "Shrink model to first 155 iterations.\n"
     ]
    },
    {
     "name": "stderr",
     "output_type": "stream",
     "text": [
      "Default metric period is 5 because AUC is/are not implemented for GPU\n"
     ]
    },
    {
     "name": "stdout",
     "output_type": "stream",
     "text": [
      "0:\ttest: 0.7225159\tbest: 0.7225159 (0)\ttotal: 22.3ms\tremaining: 1m 2s\n",
      "300:\ttest: 0.7423515\tbest: 0.7425597 (219)\ttotal: 6.54s\tremaining: 54.1s\n"
     ]
    },
    {
     "name": "stderr",
     "output_type": "stream",
     "text": [
      "[I 2025-02-21 08:02:07,852] Trial 27 finished with value: 0.7425597012042999 and parameters: {'iterations': 2794, 'depth': 6, 'learning_rate': 0.07033389826766662, 'l2_leaf_reg': 0.8282997383335581}. Best is trial 10 with value: 0.7432990670204163.\n"
     ]
    },
    {
     "name": "stdout",
     "output_type": "stream",
     "text": [
      "bestTest = 0.7425597012\n",
      "bestIteration = 219\n",
      "Shrink model to first 220 iterations.\n"
     ]
    },
    {
     "name": "stderr",
     "output_type": "stream",
     "text": [
      "Default metric period is 5 because AUC is/are not implemented for GPU\n"
     ]
    },
    {
     "name": "stdout",
     "output_type": "stream",
     "text": [
      "0:\ttest: 0.7184160\tbest: 0.7184160 (0)\ttotal: 24.4ms\tremaining: 48.4s\n",
      "300:\ttest: 0.7424738\tbest: 0.7425325 (294)\ttotal: 5.95s\tremaining: 33.3s\n",
      "600:\ttest: 0.7426012\tbest: 0.7428017 (530)\ttotal: 11.1s\tremaining: 25.6s\n"
     ]
    },
    {
     "name": "stderr",
     "output_type": "stream",
     "text": [
      "[I 2025-02-21 08:02:26,369] Trial 28 finished with value: 0.7428017258644104 and parameters: {'iterations': 1987, 'depth': 5, 'learning_rate': 0.07981931117606446, 'l2_leaf_reg': 5.305706533602488}. Best is trial 10 with value: 0.7432990670204163.\n"
     ]
    },
    {
     "name": "stdout",
     "output_type": "stream",
     "text": [
      "bestTest = 0.7428017259\n",
      "bestIteration = 530\n",
      "Shrink model to first 531 iterations.\n"
     ]
    },
    {
     "name": "stderr",
     "output_type": "stream",
     "text": [
      "Default metric period is 5 because AUC is/are not implemented for GPU\n"
     ]
    },
    {
     "name": "stdout",
     "output_type": "stream",
     "text": [
      "0:\ttest: 0.7225122\tbest: 0.7225122 (0)\ttotal: 22.1ms\tremaining: 52.4s\n",
      "300:\ttest: 0.7425999\tbest: 0.7427433 (199)\ttotal: 6.57s\tremaining: 45.3s\n"
     ]
    },
    {
     "name": "stderr",
     "output_type": "stream",
     "text": [
      "[I 2025-02-21 08:02:40,609] Trial 29 finished with value: 0.7427433431148529 and parameters: {'iterations': 2376, 'depth': 6, 'learning_rate': 0.09022814553553674, 'l2_leaf_reg': 10.416537484462905}. Best is trial 10 with value: 0.7432990670204163.\n"
     ]
    },
    {
     "name": "stdout",
     "output_type": "stream",
     "text": [
      "bestTest = 0.7427433431\n",
      "bestIteration = 199\n",
      "Shrink model to first 200 iterations.\n"
     ]
    },
    {
     "name": "stderr",
     "output_type": "stream",
     "text": [
      "Default metric period is 5 because AUC is/are not implemented for GPU\n"
     ]
    },
    {
     "name": "stdout",
     "output_type": "stream",
     "text": [
      "0:\ttest: 0.7287742\tbest: 0.7287742 (0)\ttotal: 37.6ms\tremaining: 1m 8s\n",
      "300:\ttest: 0.7427114\tbest: 0.7428801 (238)\ttotal: 9.2s\tremaining: 46.5s\n"
     ]
    },
    {
     "name": "stderr",
     "output_type": "stream",
     "text": [
      "[I 2025-02-21 08:02:59,907] Trial 30 finished with value: 0.74288010597229 and parameters: {'iterations': 1823, 'depth': 7, 'learning_rate': 0.074123446658444, 'l2_leaf_reg': 40.03990269476562}. Best is trial 10 with value: 0.7432990670204163.\n"
     ]
    },
    {
     "name": "stdout",
     "output_type": "stream",
     "text": [
      "bestTest = 0.742880106\n",
      "bestIteration = 238\n",
      "Shrink model to first 239 iterations.\n"
     ]
    },
    {
     "name": "stderr",
     "output_type": "stream",
     "text": [
      "Default metric period is 5 because AUC is/are not implemented for GPU\n"
     ]
    },
    {
     "name": "stdout",
     "output_type": "stream",
     "text": [
      "0:\ttest: 0.7226077\tbest: 0.7226077 (0)\ttotal: 26.3ms\tremaining: 40.2s\n",
      "300:\ttest: 0.7427902\tbest: 0.7428183 (286)\ttotal: 7.52s\tremaining: 30.7s\n",
      "600:\ttest: 0.7427050\tbest: 0.7430344 (422)\ttotal: 14.3s\tremaining: 22.1s\n"
     ]
    },
    {
     "name": "stderr",
     "output_type": "stream",
     "text": [
      "[I 2025-02-21 08:03:20,323] Trial 31 finished with value: 0.7430343627929688 and parameters: {'iterations': 1529, 'depth': 6, 'learning_rate': 0.08140380560178329, 'l2_leaf_reg': 92.5143029644121}. Best is trial 10 with value: 0.7432990670204163.\n"
     ]
    },
    {
     "name": "stdout",
     "output_type": "stream",
     "text": [
      "bestTest = 0.7430343628\n",
      "bestIteration = 422\n",
      "Shrink model to first 423 iterations.\n"
     ]
    },
    {
     "name": "stderr",
     "output_type": "stream",
     "text": [
      "Default metric period is 5 because AUC is/are not implemented for GPU\n"
     ]
    },
    {
     "name": "stdout",
     "output_type": "stream",
     "text": [
      "0:\ttest: 0.7184094\tbest: 0.7184094 (0)\ttotal: 21.2ms\tremaining: 34s\n",
      "300:\ttest: 0.7428525\tbest: 0.7428873 (296)\ttotal: 6.2s\tremaining: 26.9s\n",
      "600:\ttest: 0.7430170\tbest: 0.7431857 (536)\ttotal: 11.9s\tremaining: 20s\n"
     ]
    },
    {
     "name": "stderr",
     "output_type": "stream",
     "text": [
      "[I 2025-02-21 08:03:39,874] Trial 32 finished with value: 0.7431857287883759 and parameters: {'iterations': 1608, 'depth': 5, 'learning_rate': 0.07707188306075764, 'l2_leaf_reg': 47.754365149502604}. Best is trial 10 with value: 0.7432990670204163.\n"
     ]
    },
    {
     "name": "stdout",
     "output_type": "stream",
     "text": [
      "bestTest = 0.7431857288\n",
      "bestIteration = 536\n",
      "Shrink model to first 537 iterations.\n"
     ]
    },
    {
     "name": "stderr",
     "output_type": "stream",
     "text": [
      "Default metric period is 5 because AUC is/are not implemented for GPU\n"
     ]
    },
    {
     "name": "stdout",
     "output_type": "stream",
     "text": [
      "0:\ttest: 0.7225118\tbest: 0.7225118 (0)\ttotal: 26.6ms\tremaining: 42.8s\n",
      "300:\ttest: 0.7424184\tbest: 0.7424902 (288)\ttotal: 7.06s\tremaining: 30.8s\n"
     ]
    },
    {
     "name": "stderr",
     "output_type": "stream",
     "text": [
      "[I 2025-02-21 08:03:56,777] Trial 33 finished with value: 0.7424902319908142 and parameters: {'iterations': 1613, 'depth': 6, 'learning_rate': 0.09174678747372855, 'l2_leaf_reg': 15.333554520418812}. Best is trial 10 with value: 0.7432990670204163.\n"
     ]
    },
    {
     "name": "stdout",
     "output_type": "stream",
     "text": [
      "bestTest = 0.742490232\n",
      "bestIteration = 288\n",
      "Shrink model to first 289 iterations.\n"
     ]
    },
    {
     "name": "stderr",
     "output_type": "stream",
     "text": [
      "Default metric period is 5 because AUC is/are not implemented for GPU\n"
     ]
    },
    {
     "name": "stdout",
     "output_type": "stream",
     "text": [
      "0:\ttest: 0.7036730\tbest: 0.7036730 (0)\ttotal: 17.5ms\tremaining: 37.2s\n",
      "300:\ttest: 0.7424991\tbest: 0.7425180 (297)\ttotal: 4.58s\tremaining: 27.7s\n",
      "600:\ttest: 0.7428889\tbest: 0.7428900 (595)\ttotal: 8.86s\tremaining: 22.4s\n",
      "900:\ttest: 0.7428520\tbest: 0.7429736 (686)\ttotal: 13.2s\tremaining: 17.8s\n"
     ]
    },
    {
     "name": "stderr",
     "output_type": "stream",
     "text": [
      "[I 2025-02-21 08:04:14,524] Trial 34 finished with value: 0.7429736256599426 and parameters: {'iterations': 2122, 'depth': 4, 'learning_rate': 0.06769264351418093, 'l2_leaf_reg': 43.376040043958994}. Best is trial 10 with value: 0.7432990670204163.\n"
     ]
    },
    {
     "name": "stdout",
     "output_type": "stream",
     "text": [
      "bestTest = 0.7429736257\n",
      "bestIteration = 686\n",
      "Shrink model to first 687 iterations.\n"
     ]
    },
    {
     "name": "stderr",
     "output_type": "stream",
     "text": [
      "Default metric period is 5 because AUC is/are not implemented for GPU\n"
     ]
    },
    {
     "name": "stdout",
     "output_type": "stream",
     "text": [
      "0:\ttest: 0.7287452\tbest: 0.7287452 (0)\ttotal: 29.2ms\tremaining: 49.3s\n",
      "300:\ttest: 0.7424060\tbest: 0.7426206 (253)\ttotal: 9.41s\tremaining: 43.3s\n"
     ]
    },
    {
     "name": "stderr",
     "output_type": "stream",
     "text": [
      "[I 2025-02-21 08:04:34,452] Trial 35 finished with value: 0.7426206469535828 and parameters: {'iterations': 1688, 'depth': 7, 'learning_rate': 0.08288379942218967, 'l2_leaf_reg': 12.56889363260475}. Best is trial 10 with value: 0.7432990670204163.\n"
     ]
    },
    {
     "name": "stdout",
     "output_type": "stream",
     "text": [
      "bestTest = 0.742620647\n",
      "bestIteration = 253\n",
      "Shrink model to first 254 iterations.\n"
     ]
    },
    {
     "name": "stderr",
     "output_type": "stream",
     "text": [
      "Default metric period is 5 because AUC is/are not implemented for GPU\n"
     ]
    },
    {
     "name": "stdout",
     "output_type": "stream",
     "text": [
      "0:\ttest: 0.7036963\tbest: 0.7036963 (0)\ttotal: 16.8ms\tremaining: 30.2s\n",
      "300:\ttest: 0.7425557\tbest: 0.7425688 (298)\ttotal: 4.5s\tremaining: 22.3s\n",
      "600:\ttest: 0.7429072\tbest: 0.7429210 (534)\ttotal: 8.74s\tremaining: 17.4s\n",
      "900:\ttest: 0.7428261\tbest: 0.7429229 (703)\ttotal: 13s\tremaining: 12.9s\n"
     ]
    },
    {
     "name": "stderr",
     "output_type": "stream",
     "text": [
      "[I 2025-02-21 08:04:52,156] Trial 36 finished with value: 0.7429229319095612 and parameters: {'iterations': 1796, 'depth': 4, 'learning_rate': 0.07572336140020339, 'l2_leaf_reg': 51.287737762322195}. Best is trial 10 with value: 0.7432990670204163.\n"
     ]
    },
    {
     "name": "stdout",
     "output_type": "stream",
     "text": [
      "bestTest = 0.7429229319\n",
      "bestIteration = 703\n",
      "Shrink model to first 704 iterations.\n"
     ]
    },
    {
     "name": "stderr",
     "output_type": "stream",
     "text": [
      "Default metric period is 5 because AUC is/are not implemented for GPU\n"
     ]
    },
    {
     "name": "stdout",
     "output_type": "stream",
     "text": [
      "0:\ttest: 0.7184086\tbest: 0.7184086 (0)\ttotal: 17.7ms\tremaining: 40.8s\n",
      "300:\ttest: 0.7426366\tbest: 0.7426989 (245)\ttotal: 5.31s\tremaining: 35.5s\n",
      "600:\ttest: 0.7427220\tbest: 0.7429054 (533)\ttotal: 10.6s\tremaining: 30.2s\n"
     ]
    },
    {
     "name": "stderr",
     "output_type": "stream",
     "text": [
      "[I 2025-02-21 08:05:10,240] Trial 37 finished with value: 0.7429053783416748 and parameters: {'iterations': 2310, 'depth': 5, 'learning_rate': 0.09310204878046173, 'l2_leaf_reg': 82.00694680702934}. Best is trial 10 with value: 0.7432990670204163.\n"
     ]
    },
    {
     "name": "stdout",
     "output_type": "stream",
     "text": [
      "bestTest = 0.7429053783\n",
      "bestIteration = 533\n",
      "Shrink model to first 534 iterations.\n"
     ]
    },
    {
     "name": "stderr",
     "output_type": "stream",
     "text": [
      "Default metric period is 5 because AUC is/are not implemented for GPU\n"
     ]
    },
    {
     "name": "stdout",
     "output_type": "stream",
     "text": [
      "0:\ttest: 0.7225118\tbest: 0.7225118 (0)\ttotal: 35.5ms\tremaining: 53.7s\n",
      "300:\ttest: 0.7427060\tbest: 0.7427758 (288)\ttotal: 7.55s\tremaining: 30.4s\n",
      "600:\ttest: 0.7424502\tbest: 0.7429274 (365)\ttotal: 14.2s\tremaining: 21.5s\n"
     ]
    },
    {
     "name": "stderr",
     "output_type": "stream",
     "text": [
      "[I 2025-02-21 08:05:29,112] Trial 38 finished with value: 0.7429273724555969 and parameters: {'iterations': 1513, 'depth': 6, 'learning_rate': 0.06623931349273583, 'l2_leaf_reg': 12.942761725290366}. Best is trial 10 with value: 0.7432990670204163.\n"
     ]
    },
    {
     "name": "stdout",
     "output_type": "stream",
     "text": [
      "bestTest = 0.7429273725\n",
      "bestIteration = 365\n",
      "Shrink model to first 366 iterations.\n"
     ]
    },
    {
     "name": "stderr",
     "output_type": "stream",
     "text": [
      "Default metric period is 5 because AUC is/are not implemented for GPU\n"
     ]
    },
    {
     "name": "stdout",
     "output_type": "stream",
     "text": [
      "0:\ttest: 0.7036730\tbest: 0.7036730 (0)\ttotal: 18.7ms\tremaining: 29.9s\n",
      "300:\ttest: 0.7424048\tbest: 0.7424375 (295)\ttotal: 4.86s\tremaining: 20.9s\n",
      "600:\ttest: 0.7430855\tbest: 0.7430855 (600)\ttotal: 8.95s\tremaining: 14.9s\n",
      "900:\ttest: 0.7430756\tbest: 0.7431555 (693)\ttotal: 13.1s\tremaining: 10.1s\n"
     ]
    },
    {
     "name": "stderr",
     "output_type": "stream",
     "text": [
      "[I 2025-02-21 08:05:46,799] Trial 39 finished with value: 0.7431554794311523 and parameters: {'iterations': 1599, 'depth': 4, 'learning_rate': 0.06046541634143283, 'l2_leaf_reg': 40.76990245295304}. Best is trial 10 with value: 0.7432990670204163.\n",
      "[I 2025-02-21 08:05:46,803] A new study created in memory with name: no-name-2a29f374-ecf2-44b2-9ff5-dfc5671d55c0\n"
     ]
    },
    {
     "name": "stdout",
     "output_type": "stream",
     "text": [
      "bestTest = 0.7431554794\n",
      "bestIteration = 693\n",
      "Shrink model to first 694 iterations.\n"
     ]
    },
    {
     "name": "stderr",
     "output_type": "stream",
     "text": [
      "[I 2025-02-21 08:06:03,260] Trial 0 finished with value: 0.7312957360719021 and parameters: {'num_iterations': 2366, 'objective': 'binary', 'metric': 'auc', 'verbose': -1, 'learning_rate': 0.0652646236447618, 'n_estimators': 236, 'min_child_samples': 45, 'subsample': 0.7, 'colsample_bytree': 0.5}. Best is trial 0 with value: 0.7312957360719021.\n",
      "[I 2025-02-21 08:06:15,670] Trial 1 finished with value: 0.7431332814619113 and parameters: {'num_iterations': 1510, 'objective': 'binary', 'metric': 'auc', 'verbose': -1, 'learning_rate': 0.005231880959249543, 'n_estimators': 1411, 'min_child_samples': 10, 'subsample': 1.0, 'colsample_bytree': 0.5}. Best is trial 1 with value: 0.7431332814619113.\n",
      "[I 2025-02-21 08:06:27,064] Trial 2 finished with value: 0.74215929057608 and parameters: {'num_iterations': 2334, 'objective': 'binary', 'metric': 'auc', 'verbose': -1, 'learning_rate': 0.006578527777128852, 'n_estimators': 931, 'min_child_samples': 15, 'subsample': 0.5, 'colsample_bytree': 1.0}. Best is trial 1 with value: 0.7431332814619113.\n",
      "[I 2025-02-21 08:06:38,004] Trial 3 finished with value: 0.7432142795991209 and parameters: {'num_iterations': 1620, 'objective': 'binary', 'metric': 'auc', 'verbose': -1, 'learning_rate': 0.0058823249237283685, 'n_estimators': 837, 'min_child_samples': 10, 'subsample': 0.9, 'colsample_bytree': 0.6}. Best is trial 3 with value: 0.7432142795991209.\n",
      "[I 2025-02-21 08:06:47,664] Trial 4 finished with value: 0.7426176777691904 and parameters: {'num_iterations': 1997, 'objective': 'binary', 'metric': 'auc', 'verbose': -1, 'learning_rate': 0.010907507425244923, 'n_estimators': 1597, 'min_child_samples': 50, 'subsample': 0.6, 'colsample_bytree': 0.8}. Best is trial 3 with value: 0.7432142795991209.\n",
      "[I 2025-02-21 08:06:59,787] Trial 5 finished with value: 0.7393460368125296 and parameters: {'num_iterations': 2909, 'objective': 'binary', 'metric': 'auc', 'verbose': -1, 'learning_rate': 0.019760591962733942, 'n_estimators': 612, 'min_child_samples': 30, 'subsample': 0.7, 'colsample_bytree': 0.9}. Best is trial 3 with value: 0.7432142795991209.\n",
      "[I 2025-02-21 08:07:11,223] Trial 6 finished with value: 0.7407801898776137 and parameters: {'num_iterations': 2639, 'objective': 'binary', 'metric': 'auc', 'verbose': -1, 'learning_rate': 0.017862094446750985, 'n_estimators': 794, 'min_child_samples': 35, 'subsample': 1.0, 'colsample_bytree': 0.8}. Best is trial 3 with value: 0.7432142795991209.\n",
      "[I 2025-02-21 08:07:22,258] Trial 7 finished with value: 0.7421555460303702 and parameters: {'num_iterations': 1580, 'objective': 'binary', 'metric': 'auc', 'verbose': -1, 'learning_rate': 0.01776722177611332, 'n_estimators': 529, 'min_child_samples': 25, 'subsample': 0.8, 'colsample_bytree': 0.5}. Best is trial 3 with value: 0.7432142795991209.\n",
      "[I 2025-02-21 08:07:32,862] Trial 8 finished with value: 0.7393531407279854 and parameters: {'num_iterations': 1911, 'objective': 'binary', 'metric': 'auc', 'verbose': -1, 'learning_rate': 0.0304747553332844, 'n_estimators': 1328, 'min_child_samples': 10, 'subsample': 0.7, 'colsample_bytree': 0.6}. Best is trial 3 with value: 0.7432142795991209.\n",
      "[I 2025-02-21 08:07:49,791] Trial 9 finished with value: 0.7383451630269576 and parameters: {'num_iterations': 2739, 'objective': 'binary', 'metric': 'auc', 'verbose': -1, 'learning_rate': 0.02691531614176271, 'n_estimators': 1438, 'min_child_samples': 20, 'subsample': 0.6, 'colsample_bytree': 0.5}. Best is trial 3 with value: 0.7432142795991209.\n",
      "[I 2025-02-21 08:07:59,672] Trial 10 finished with value: 0.7433206318448747 and parameters: {'num_iterations': 1883, 'objective': 'binary', 'metric': 'auc', 'verbose': -1, 'learning_rate': 0.007630609716045009, 'n_estimators': 1917, 'min_child_samples': 40, 'subsample': 0.9, 'colsample_bytree': 0.7}. Best is trial 10 with value: 0.7433206318448747.\n",
      "[I 2025-02-21 08:08:09,059] Trial 11 finished with value: 0.7432708369316181 and parameters: {'num_iterations': 1834, 'objective': 'binary', 'metric': 'auc', 'verbose': -1, 'learning_rate': 0.007972116511668377, 'n_estimators': 1756, 'min_child_samples': 40, 'subsample': 0.9, 'colsample_bytree': 0.7}. Best is trial 10 with value: 0.7433206318448747.\n",
      "[I 2025-02-21 08:08:19,416] Trial 12 finished with value: 0.743244458334428 and parameters: {'num_iterations': 1990, 'objective': 'binary', 'metric': 'auc', 'verbose': -1, 'learning_rate': 0.009303222125489577, 'n_estimators': 1958, 'min_child_samples': 40, 'subsample': 0.9, 'colsample_bytree': 0.7}. Best is trial 10 with value: 0.7433206318448747.\n",
      "[I 2025-02-21 08:08:29,493] Trial 13 finished with value: 0.7432174165992383 and parameters: {'num_iterations': 1832, 'objective': 'binary', 'metric': 'auc', 'verbose': -1, 'learning_rate': 0.008297713384171916, 'n_estimators': 2000, 'min_child_samples': 40, 'subsample': 0.9, 'colsample_bytree': 0.7}. Best is trial 10 with value: 0.7433206318448747.\n",
      "[I 2025-02-21 08:08:40,341] Trial 14 finished with value: 0.7429115273206979 and parameters: {'num_iterations': 2165, 'objective': 'binary', 'metric': 'auc', 'verbose': -1, 'learning_rate': 0.011369098027764696, 'n_estimators': 1729, 'min_child_samples': 50, 'subsample': 0.8, 'colsample_bytree': 0.7}. Best is trial 10 with value: 0.7433206318448747.\n",
      "[I 2025-02-21 08:08:50,145] Trial 15 finished with value: 0.7426799253816474 and parameters: {'num_iterations': 1757, 'objective': 'binary', 'metric': 'auc', 'verbose': -1, 'learning_rate': 0.005158006658641952, 'n_estimators': 1147, 'min_child_samples': 35, 'subsample': 0.9, 'colsample_bytree': 0.9}. Best is trial 10 with value: 0.7433206318448747.\n",
      "[I 2025-02-21 08:09:03,202] Trial 16 finished with value: 0.7426318617747847 and parameters: {'num_iterations': 2158, 'objective': 'binary', 'metric': 'auc', 'verbose': -1, 'learning_rate': 0.012815889726243021, 'n_estimators': 1728, 'min_child_samples': 40, 'subsample': 1.0, 'colsample_bytree': 0.6}. Best is trial 10 with value: 0.7433206318448747.\n",
      "[I 2025-02-21 08:09:12,370] Trial 17 finished with value: 0.7429168562500114 and parameters: {'num_iterations': 1714, 'objective': 'binary', 'metric': 'auc', 'verbose': -1, 'learning_rate': 0.008024460667023848, 'n_estimators': 1796, 'min_child_samples': 30, 'subsample': 0.8, 'colsample_bytree': 0.8}. Best is trial 10 with value: 0.7433206318448747.\n",
      "[I 2025-02-21 08:09:24,705] Trial 18 finished with value: 0.743304831688587 and parameters: {'num_iterations': 2492, 'objective': 'binary', 'metric': 'auc', 'verbose': -1, 'learning_rate': 0.007304908567591956, 'n_estimators': 1233, 'min_child_samples': 45, 'subsample': 0.9, 'colsample_bytree': 0.7}. Best is trial 10 with value: 0.7433206318448747.\n",
      "[I 2025-02-21 08:09:35,439] Trial 19 finished with value: 0.7413816639849419 and parameters: {'num_iterations': 2510, 'objective': 'binary', 'metric': 'auc', 'verbose': -1, 'learning_rate': 0.014033625947467506, 'n_estimators': 1189, 'min_child_samples': 45, 'subsample': 1.0, 'colsample_bytree': 0.9}. Best is trial 10 with value: 0.7433206318448747.\n",
      "[I 2025-02-21 08:09:50,207] Trial 20 finished with value: 0.7433019527960741 and parameters: {'num_iterations': 2487, 'objective': 'binary', 'metric': 'auc', 'verbose': -1, 'learning_rate': 0.00688976659636273, 'n_estimators': 339, 'min_child_samples': 45, 'subsample': 0.8, 'colsample_bytree': 0.6}. Best is trial 10 with value: 0.7433206318448747.\n",
      "[I 2025-02-21 08:10:06,295] Trial 21 finished with value: 0.7432940189653974 and parameters: {'num_iterations': 2507, 'objective': 'binary', 'metric': 'auc', 'verbose': -1, 'learning_rate': 0.00716348782707873, 'n_estimators': 250, 'min_child_samples': 45, 'subsample': 0.8, 'colsample_bytree': 0.6}. Best is trial 10 with value: 0.7433206318448747.\n",
      "[I 2025-02-21 08:10:22,680] Trial 22 finished with value: 0.7435034792428594 and parameters: {'num_iterations': 2530, 'objective': 'binary', 'metric': 'auc', 'verbose': -1, 'learning_rate': 0.005006204180820982, 'n_estimators': 114, 'min_child_samples': 50, 'subsample': 0.9, 'colsample_bytree': 0.6}. Best is trial 22 with value: 0.7435034792428594.\n",
      "[I 2025-02-21 08:10:37,237] Trial 23 finished with value: 0.7431969824187266 and parameters: {'num_iterations': 2798, 'objective': 'binary', 'metric': 'auc', 'verbose': -1, 'learning_rate': 0.005192501683732925, 'n_estimators': 119, 'min_child_samples': 50, 'subsample': 0.9, 'colsample_bytree': 0.7}. Best is trial 22 with value: 0.7435034792428594.\n",
      "[I 2025-02-21 08:10:50,706] Trial 24 finished with value: 0.7423653358913889 and parameters: {'num_iterations': 2993, 'objective': 'binary', 'metric': 'auc', 'verbose': -1, 'learning_rate': 0.00934738670624152, 'n_estimators': 489, 'min_child_samples': 35, 'subsample': 1.0, 'colsample_bytree': 0.8}. Best is trial 22 with value: 0.7435034792428594.\n",
      "[I 2025-02-21 08:11:08,152] Trial 25 finished with value: 0.7432905126728611 and parameters: {'num_iterations': 2636, 'objective': 'binary', 'metric': 'auc', 'verbose': -1, 'learning_rate': 0.00518371975301185, 'n_estimators': 1008, 'min_child_samples': 50, 'subsample': 0.9, 'colsample_bytree': 0.6}. Best is trial 22 with value: 0.7435034792428594.\n",
      "[I 2025-02-21 08:11:19,522] Trial 26 finished with value: 0.7434740827721386 and parameters: {'num_iterations': 2200, 'objective': 'binary', 'metric': 'auc', 'verbose': -1, 'learning_rate': 0.00661766962507612, 'n_estimators': 1556, 'min_child_samples': 45, 'subsample': 0.9, 'colsample_bytree': 0.7}. Best is trial 22 with value: 0.7435034792428594.\n",
      "[I 2025-02-21 08:11:32,839] Trial 27 finished with value: 0.7433858933599762 and parameters: {'num_iterations': 2098, 'objective': 'binary', 'metric': 'auc', 'verbose': -1, 'learning_rate': 0.0063904493285669205, 'n_estimators': 1532, 'min_child_samples': 50, 'subsample': 1.0, 'colsample_bytree': 0.6}. Best is trial 22 with value: 0.7435034792428594.\n",
      "[I 2025-02-21 08:11:46,463] Trial 28 finished with value: 0.7432963220794077 and parameters: {'num_iterations': 2158, 'objective': 'binary', 'metric': 'auc', 'verbose': -1, 'learning_rate': 0.006339389092130245, 'n_estimators': 1575, 'min_child_samples': 50, 'subsample': 1.0, 'colsample_bytree': 0.6}. Best is trial 22 with value: 0.7435034792428594.\n",
      "[I 2025-02-21 08:12:03,385] Trial 29 finished with value: 0.7427627104176582 and parameters: {'num_iterations': 2362, 'objective': 'binary', 'metric': 'auc', 'verbose': -1, 'learning_rate': 0.010037640974748028, 'n_estimators': 1553, 'min_child_samples': 45, 'subsample': 1.0, 'colsample_bytree': 0.5}. Best is trial 22 with value: 0.7435034792428594.\n",
      "[I 2025-02-21 08:12:19,881] Trial 30 finished with value: 0.7434285525906872 and parameters: {'num_iterations': 2231, 'objective': 'binary', 'metric': 'auc', 'verbose': -1, 'learning_rate': 0.0062054624421879635, 'n_estimators': 680, 'min_child_samples': 50, 'subsample': 1.0, 'colsample_bytree': 0.5}. Best is trial 22 with value: 0.7435034792428594.\n",
      "[I 2025-02-21 08:12:36,979] Trial 31 finished with value: 0.7434824057496654 and parameters: {'num_iterations': 2257, 'objective': 'binary', 'metric': 'auc', 'verbose': -1, 'learning_rate': 0.006161706366389181, 'n_estimators': 740, 'min_child_samples': 50, 'subsample': 1.0, 'colsample_bytree': 0.5}. Best is trial 22 with value: 0.7435034792428594.\n",
      "[I 2025-02-21 08:12:54,132] Trial 32 finished with value: 0.7434423792165212 and parameters: {'num_iterations': 2278, 'objective': 'binary', 'metric': 'auc', 'verbose': -1, 'learning_rate': 0.006043018503894895, 'n_estimators': 601, 'min_child_samples': 45, 'subsample': 1.0, 'colsample_bytree': 0.5}. Best is trial 22 with value: 0.7435034792428594.\n",
      "[I 2025-02-21 08:13:11,534] Trial 33 finished with value: 0.7434994130553654 and parameters: {'num_iterations': 2297, 'objective': 'binary', 'metric': 'auc', 'verbose': -1, 'learning_rate': 0.005042846174597114, 'n_estimators': 332, 'min_child_samples': 45, 'subsample': 1.0, 'colsample_bytree': 0.5}. Best is trial 22 with value: 0.7435034792428594.\n",
      "[I 2025-02-21 08:13:29,526] Trial 34 finished with value: 0.7432967628477786 and parameters: {'num_iterations': 2395, 'objective': 'binary', 'metric': 'auc', 'verbose': -1, 'learning_rate': 0.005567073626100022, 'n_estimators': 388, 'min_child_samples': 45, 'subsample': 1.0, 'colsample_bytree': 0.5}. Best is trial 22 with value: 0.7435034792428594.\n",
      "[I 2025-02-21 08:13:49,050] Trial 35 finished with value: 0.7434553004802962 and parameters: {'num_iterations': 2296, 'objective': 'binary', 'metric': 'auc', 'verbose': -1, 'learning_rate': 0.0051760451088754015, 'n_estimators': 135, 'min_child_samples': 50, 'subsample': 0.9, 'colsample_bytree': 0.5}. Best is trial 22 with value: 0.7435034792428594.\n",
      "[I 2025-02-21 08:14:04,249] Trial 36 finished with value: 0.7431600889148137 and parameters: {'num_iterations': 2051, 'objective': 'binary', 'metric': 'auc', 'verbose': -1, 'learning_rate': 0.0087719328309585, 'n_estimators': 280, 'min_child_samples': 45, 'subsample': 0.5, 'colsample_bytree': 0.5}. Best is trial 22 with value: 0.7435034792428594.\n",
      "[I 2025-02-21 08:14:19,091] Trial 37 finished with value: 0.7432277726705122 and parameters: {'num_iterations': 2401, 'objective': 'binary', 'metric': 'auc', 'verbose': -1, 'learning_rate': 0.006413171584163512, 'n_estimators': 803, 'min_child_samples': 25, 'subsample': 0.7, 'colsample_bytree': 0.6}. Best is trial 22 with value: 0.7435034792428594.\n",
      "[I 2025-02-21 08:14:38,560] Trial 38 finished with value: 0.743353625938515 and parameters: {'num_iterations': 2591, 'objective': 'binary', 'metric': 'auc', 'verbose': -1, 'learning_rate': 0.005841730725190119, 'n_estimators': 439, 'min_child_samples': 35, 'subsample': 1.0, 'colsample_bytree': 0.5}. Best is trial 22 with value: 0.7435034792428594.\n",
      "[I 2025-02-21 08:14:52,595] Trial 39 finished with value: 0.7426800365664618 and parameters: {'num_iterations': 2207, 'objective': 'binary', 'metric': 'auc', 'verbose': -1, 'learning_rate': 0.00501986179937076, 'n_estimators': 688, 'min_child_samples': 50, 'subsample': 0.9, 'colsample_bytree': 1.0}. Best is trial 22 with value: 0.7435034792428594.\n"
     ]
    },
    {
     "name": "stdout",
     "output_type": "stream",
     "text": [
      "Cat val score : 0.7432991136124235\n",
      "LGBM val score : 0.7435971802451016\n",
      "Ensemble val score : 0.7436736793682186\n"
     ]
    }
   ],
   "source": [
    "for col in X.columns:\n",
    "    if X[col].dtype == 'object':  # 문자형이면 category로 변환\n",
    "        X[col] = X[col].astype('category')\n",
    "        test[col] = test[col].astype('category')\n",
    "seed = 4972\n",
    "\n",
    "test_pred_total = []\n",
    "scores_total = []\n",
    "seed_everything(seed)\n",
    "print('Seed {} Start!'.format(seed))\n",
    "cv = StratifiedKFold(n_splits = 10, random_state = seed, shuffle=True)\n",
    "\n",
    "cat_param_list = []\n",
    "lgbm_param_list = []\n",
    "for idx, (train_idx, val_idx) in enumerate(cv.split(X, y)):\n",
    "    print('='*50)\n",
    "    X_train, X_val = X.iloc[train_idx],X.iloc[val_idx]\n",
    "    y_train, y_val = y.iloc[train_idx], y.iloc[val_idx]\n",
    "    \n",
    "    best_val_auc = 0\n",
    "\n",
    "    sampler = TPESampler(seed=seed)\n",
    "    optuna_cat = optuna.create_study(direction='maximize', sampler=sampler)\n",
    "    optuna_cat.optimize(objective_cat, n_trials = 40)\n",
    "    cat_trial = optuna_cat.best_trial\n",
    "    cat_trial_params = cat_trial.params\n",
    "    cat_param_list.append(cat_trial_params)\n",
    "    \n",
    "    model = CatBoostClassifier(**cat_trial_params, auto_class_weights='Balanced', eval_metric='AUC', random_state=seed, task_type=\"GPU\" ,devices='2')\n",
    "    model.load_model(\"/Pregnant/train/weight/cat_fold_gpu{}.cbm\".format(idx))\n",
    "    #model = CatBoostClassifier(auto_class_weights='Balanced', eval_metric='AUC', random_state=seed, task_type=\"CPU\" )\n",
    "    #model.fit(X_train,y_train,cat_features=categorical_columns,early_stopping_rounds = 300,eval_set=[(X_val,y_val)], verbose = 300)\n",
    "    \n",
    "    # model_gpu = CatBoostClassifier(auto_class_weights='Balanced',eval_metric='AUC', random_state = 501, task_type=\"GPU\" )\n",
    "    # model_gpu.fit(X_train,y_train,cat_features=categorical_columns, early_stopping_rounds = 300,eval_set=[(X_val,y_val)], verbose = 300)\n",
    "    # model_gpu.save_model(\"cat_fold_{}.cbm\".format(idx))\n",
    "\n",
    "\n",
    "    sampler = TPESampler(seed=seed)\n",
    "    optuna_lgbm = optuna.create_study(direction='maximize', sampler=sampler)\n",
    "    optuna_lgbm.optimize(objective_lgbm, n_trials = 40)\n",
    "    lgbm_trial = optuna_lgbm.best_trial\n",
    "    lgbm_trial_params = lgbm_trial.params\n",
    "    lgbm_param_list.append(lgbm_trial_params)\n",
    "    \n",
    "    # lgbm_trial_params =loaded_lgbm_params[idx]\n",
    "    #print(lgbm_trial_params)\n",
    "\n",
    "    class_weights = compute_class_weight(class_weight=\"balanced\", classes=np.unique(y), y=y_train)\n",
    "    class_weight_dict = {i: w for i, w in enumerate(class_weights)}\n",
    "    model_lgbm = lgb.LGBMClassifier(**lgbm_trial_params,class_weight=class_weight_dict)\n",
    "    # model_lgbm = lgb.LGBMClassifier(class_weight=class_weight_dict)\n",
    "    #model_lgbm= lgb.LGBMClassifier(objective = 'binary', metric = 'auc', random_state =  seed, class_weight=class_weight_dict)\n",
    "    model_lgbm.fit(X_train, y_train, eval_set=[(X_val, y_val)],categorical_feature=categorical_columns)\n",
    "\n",
    "    val_pred = model.predict_proba(X_val)[:, 1]\n",
    "    val_pred_lgbm = model_lgbm.predict_proba(X_val)[:, 1]\n",
    "    print('Cat val score : {}'.format(roc_auc_score(y_val,val_pred)))\n",
    "    print('LGBM val score : {}'.format(roc_auc_score(y_val,val_pred_lgbm)))\n",
    "\n",
    "    roc_val = roc_auc_score(y_val, (2*val_pred+val_pred_lgbm)/3)\n",
    "    scores_total.append(roc_val)\n",
    "    print('Ensemble val score : {}'.format(roc_val))\n",
    "\n",
    "    test_pred = model.predict_proba(test)[:, 1]\n",
    "    test_pred_lgbm = model_lgbm.predict_proba(test)[:, 1]\n",
    "    test_pred_total.append((2*test_pred+test_pred_lgbm)/3)"
   ]
  },
  {
   "cell_type": "code",
   "execution_count": 128,
   "metadata": {
    "colab": {
     "base_uri": "https://localhost:8080/"
    },
    "id": "LDLeh9IJD9pt",
    "outputId": "0534775f-2085-448a-d2aa-690a9e4e4ff4"
   },
   "outputs": [
    {
     "data": {
      "text/plain": [
       "(0.741201564719638,\n",
       " [0.7414238034278366,\n",
       "  0.736325829012412,\n",
       "  0.7433595364013841,\n",
       "  0.7422114481666402,\n",
       "  0.7451912528111095,\n",
       "  0.7392552305863451,\n",
       "  0.739200440298218,\n",
       "  0.7389758112353779,\n",
       "  0.7423986158888373,\n",
       "  0.7436736793682186])"
      ]
     },
     "execution_count": 128,
     "metadata": {},
     "output_type": "execute_result"
    }
   ],
   "source": [
    "np.mean(scores_total), scores_total"
   ]
  },
  {
   "cell_type": "code",
   "execution_count": 129,
   "metadata": {},
   "outputs": [],
   "source": [
    "test_pred_total_mean = np.mean(test_pred_total, axis=(0))"
   ]
  },
  {
   "cell_type": "code",
   "execution_count": 130,
   "metadata": {},
   "outputs": [
    {
     "data": {
      "text/plain": [
       "array([0.00424094, 0.0035059 , 0.32189225, ..., 0.68036313, 0.3850272 ,\n",
       "       0.00482632])"
      ]
     },
     "execution_count": 130,
     "metadata": {},
     "output_type": "execute_result"
    }
   ],
   "source": [
    "test_pred_total_mean"
   ]
  },
  {
   "cell_type": "code",
   "execution_count": null,
   "metadata": {},
   "outputs": [],
   "source": [
    "\n",
    "sample_submission = pd.read_csv('/data/sample_submission.csv')\n",
    "sample_submission['probability'] = test_pred_total_mean\n",
    "sample_submission.to_csv('data/Add_feature_reason2_lgbmcat2_Minsu_seed.csv', index=False)"
   ]
  },
  {
   "cell_type": "code",
   "execution_count": null,
   "metadata": {
    "colab": {
     "base_uri": "https://localhost:8080/"
    },
    "id": "E8D6DZP0pIm3",
    "outputId": "946ae60d-f2f2-405e-e757-ab31fe0d2375"
   },
   "outputs": [],
   "source": [
    "np.mean(scores_total), scores_total # 불임 원인 인코딩 + make feature 사용\n"
   ]
  },
  {
   "cell_type": "code",
   "execution_count": null,
   "metadata": {},
   "outputs": [],
   "source": [
    "import json\n",
    "with open(\"lgbm_params.json\", \"w\") as f:\n",
    "    json.dump(lgbm_param_list, f) \n",
    "\n",
    "with open(\"/Pregnant/train/recent_best_7412/lgbm_params.json\", \"r\") as f:\n",
    "    loaded_lgbm_params =  json.load(f)"
   ]
  },
  {
   "cell_type": "markdown",
   "metadata": {},
   "source": [
    "#### 재현성 확인"
   ]
  },
  {
   "cell_type": "code",
   "execution_count": 139,
   "metadata": {
    "scrolled": true,
    "tags": []
   },
   "outputs": [
    {
     "name": "stdout",
     "output_type": "stream",
     "text": [
      "Seed 4972 Start!\n",
      "==================================================\n",
      "Cat gpu val score : 0.7412651510427011\n",
      "LGBM val score : 0.7409247369301163\n",
      "Ensemble val score : 0.7414238034278366\n",
      "==================================================\n",
      "==================================================\n",
      "Cat gpu val score : 0.7431440787394302\n",
      "LGBM val score : 0.7429758435321949\n",
      "Ensemble val score : 0.7433595364013841\n",
      "==================================================\n",
      "Cat gpu val score : 0.7421248034292193\n",
      "LGBM val score : 0.7411499429193047\n",
      "Ensemble val score : 0.7422114481666402\n",
      "==================================================\n",
      "Cat gpu val score : 0.7451250581377452\n",
      "LGBM val score : 0.7442730965564824\n",
      "Ensemble val score : 0.7451912528111095\n",
      "==================================================\n",
      "Cat gpu val score : 0.7391588889447638\n",
      "LGBM val score : 0.738617831871343\n",
      "Ensemble val score : 0.7392552305863451\n",
      "==================================================\n",
      "Cat gpu val score : 0.7391290675892168\n",
      "LGBM val score : 0.7385059878899406\n",
      "Ensemble val score : 0.739200440298218\n",
      "==================================================\n",
      "Cat gpu val score : 0.7389655107565114\n",
      "LGBM val score : 0.73765427647451\n",
      "Ensemble val score : 0.7389758112353779\n",
      "==================================================\n",
      "Cat gpu val score : 0.7421823693668174\n",
      "LGBM val score : 0.7419428216844315\n",
      "Ensemble val score : 0.7423986158888373\n",
      "==================================================\n",
      "Cat gpu val score : 0.7432991136124235\n",
      "LGBM val score : 0.7435971802451016\n",
      "Ensemble val score : 0.7436736793682186\n"
     ]
    }
   ],
   "source": [
    "for col in X.columns:\n",
    "    if X[col].dtype == 'object':  # 문자형이면 category로 변환\n",
    "        X[col] = X[col].astype('category')\n",
    "        test[col] = test[col].astype('category')\n",
    "seed = 4972\n",
    "\n",
    "test_pred_total = []\n",
    "scores_total = []\n",
    "seed_everything(seed)\n",
    "print('Seed {} Start!'.format(seed))\n",
    "cv = StratifiedKFold(n_splits = 10, random_state = seed, shuffle=True)\n",
    "\n",
    "cat_param_list = []\n",
    "lgbm_param_list = []\n",
    "for idx, (train_idx, val_idx) in enumerate(cv.split(X, y)):\n",
    "    print('='*50)\n",
    "    X_train, X_val = X.iloc[train_idx],X.iloc[val_idx]\n",
    "    y_train, y_val = y.iloc[train_idx], y.iloc[val_idx]\n",
    "    if idx == 1:\n",
    "        continue\n",
    "    # cat_trial_params = loaded_cat_params[idx]\n",
    "    # model = CatBoostClassifier(**cat_trial_params ,auto_class_weights='Balanced', eval_metric='AUC', random_state=seed, task_type=\"CPU\")\n",
    "    # model.fit(X_train,y_train,cat_features=categorical_columns, early_stopping_rounds = 300, eval_set=[(X_val,y_val)], verbose = 300)\n",
    "    \n",
    "    model_gpu = CatBoostClassifier()\n",
    "    model_gpu.load_model(\"/data/home/brian1501/Minsu/Pregnant/train/recent_best_7412/cat_fold_gpu{}.cbm\".format(idx))\n",
    "\n",
    "    lgbm_trial_params = loaded_lgbm_params[idx]\n",
    "    class_weights = compute_class_weight(class_weight=\"balanced\", classes=np.unique(y), y=y_train)\n",
    "    class_weight_dict = {i: w for i, w in enumerate(class_weights)}\n",
    "\n",
    "    model_lgbm = lgb.LGBMClassifier(**lgbm_trial_params,class_weight=class_weight_dict)\n",
    "    model_lgbm.fit(X_train, y_train, eval_set=[(X_val, y_val)],categorical_feature=categorical_columns)\n",
    "\n",
    "    # val_pred = model.predict_proba(X_val)[:, 1]\n",
    "    val_pred_gpu = model_gpu.predict_proba(X_val)[:, 1]\n",
    "    val_pred_lgbm = model_lgbm.predict_proba(X_val)[:, 1]\n",
    "    # print('Cat val score : {}'.format(roc_auc_score(y_val,val_pred)))\n",
    "    print('Cat gpu val score : {}'.format(roc_auc_score(y_val,val_pred_gpu)))\n",
    "    print('LGBM val score : {}'.format(roc_auc_score(y_val,val_pred_lgbm)))\n",
    "\n",
    "    roc_val = roc_auc_score(y_val, (val_pred_gpu*2 + val_pred_lgbm)/3)\n",
    "    scores_total.append(roc_val)\n",
    "    print('Ensemble val score : {}'.format(roc_val))\n",
    "\n",
    "    # test_pred = model.predict_proba(test)[:, 1]\n",
    "    test_pred_gpu = model_gpu.predict_proba(test)[:, 1]\n",
    "    test_pred_lgbm = model_lgbm.predict_proba(test)[:, 1]\n",
    "    test_pred_total.append((test_pred_gpu*2+test_pred_lgbm)/3)\n",
    "    # test_pred_total.append((test_pred_gpu))"
   ]
  },
  {
   "cell_type": "markdown",
   "metadata": {},
   "source": [
    "(0.741201564719638,\n",
    " [0.7414238034278366,\n",
    "  0.736325829012412,\n",
    "  0.7433595364013841,\n",
    "  0.7422114481666402,\n",
    "  0.7451912528111095,\n",
    "  0.7392552305863451,\n",
    "  0.739200440298218,\n",
    "  0.7389758112353779,\n",
    "  0.7423986158888373,\n",
    "  0.7436736793682186])"
   ]
  },
  {
   "cell_type": "code",
   "execution_count": null,
   "metadata": {
    "id": "zdqhyNyumAyx"
   },
   "outputs": [],
   "source": [
    "test_pred_total_mean = np.mean(test_pred_total, axis=(0))"
   ]
  },
  {
   "cell_type": "code",
   "execution_count": null,
   "metadata": {
    "colab": {
     "base_uri": "https://localhost:8080/",
     "height": 540
    },
    "id": "HHVwzBg8NEZK",
    "outputId": "7c5d38e1-affe-45e7-b863-372c9a868b84"
   },
   "outputs": [],
   "source": [
    "plt.hist(test_pred_total_mean)"
   ]
  },
  {
   "cell_type": "code",
   "execution_count": null,
   "metadata": {
    "id": "KGlLsagWhQmz"
   },
   "outputs": [],
   "source": [
    "test_pred_total_mean = np.mean(test_pred_total, axis=(0))\n",
    "sample_submission = pd.read_csv('Pregnant/data/sample_submission.csv')\n",
    "sample_submission['probability'] = test_pred_total_mean\n",
    "sample_submission.to_csv('/Pregnant/data/Add_feature_Minsu_seed_fold9.csv', index=False)"
   ]
  }
 ],
 "metadata": {
  "accelerator": "GPU",
  "colab": {
   "gpuType": "T4",
   "provenance": []
  },
  "kernelspec": {
   "display_name": "base",
   "language": "python",
   "name": "python3"
  },
  "language_info": {
   "codemirror_mode": {
    "name": "ipython",
    "version": 3
   },
   "file_extension": ".py",
   "mimetype": "text/x-python",
   "name": "python",
   "nbconvert_exporter": "python",
   "pygments_lexer": "ipython3",
   "version": "3.9.12"
  }
 },
 "nbformat": 4,
 "nbformat_minor": 4
}
