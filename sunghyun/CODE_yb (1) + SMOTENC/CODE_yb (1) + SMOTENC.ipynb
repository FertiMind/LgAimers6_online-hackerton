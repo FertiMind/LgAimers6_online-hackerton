{
 "cells": [
  {
   "cell_type": "code",
   "execution_count": 1,
   "metadata": {
    "colab": {
     "base_uri": "https://localhost:8080/"
    },
    "id": "0_-E_OuZQXqu",
    "outputId": "8f5cbcbb-5086-4ead-c817-9fdb22e3533b"
   },
   "outputs": [
    {
     "name": "stderr",
     "output_type": "stream",
     "text": [
      "/Users/1233day/Library/Python/3.9/lib/python/site-packages/tqdm/auto.py:21: TqdmWarning: IProgress not found. Please update jupyter and ipywidgets. See https://ipywidgets.readthedocs.io/en/stable/user_install.html\n",
      "  from .autonotebook import tqdm as notebook_tqdm\n"
     ]
    }
   ],
   "source": [
    "import random\n",
    "import os\n",
    "import pandas as pd\n",
    "import numpy as np\n",
    "\n",
    "from matplotlib import pyplot as plt\n",
    "import seaborn as sns\n",
    "from catboost import CatBoostClassifier\n",
    "import lightgbm as lgb\n",
    "\n",
    "import optuna\n",
    "from optuna import Trial\n",
    "from optuna.samplers import TPESampler\n",
    "from sklearn.model_selection import StratifiedKFold\n",
    "from sklearn.metrics import roc_auc_score\n",
    "from sklearn.utils.class_weight import compute_class_weight\n",
    "\n",
    "import warnings\n",
    "\n",
    "warnings.filterwarnings('ignore')\n",
    "\n",
    "import json\n",
    "\n",
    "from imblearn.over_sampling import SMOTENC"
   ]
  },
  {
   "cell_type": "code",
   "execution_count": 2,
   "metadata": {},
   "outputs": [],
   "source": [
    "plt.rcParams['font.family'] ='AppleGothic'\n",
    "plt.rcParams['axes.unicode_minus'] =False"
   ]
  },
  {
   "cell_type": "code",
   "execution_count": 3,
   "metadata": {
    "id": "u2FSTwmUIkF5"
   },
   "outputs": [],
   "source": [
    "def seed_everything(seed: int = 42):\n",
    "    random.seed(seed)\n",
    "    np.random.seed(seed)\n",
    "    os.environ[\"PYTHONHASHSEED\"] = str(seed)"
   ]
  },
  {
   "cell_type": "code",
   "execution_count": 4,
   "metadata": {
    "colab": {
     "base_uri": "https://localhost:8080/"
    },
    "id": "bbtq1EWyQcwX",
    "outputId": "ad146067-7509-44f2-ee26-cc8bc615473f"
   },
   "outputs": [
    {
     "data": {
      "text/plain": [
       "((256351, 68), (90067, 67))"
      ]
     },
     "execution_count": 4,
     "metadata": {},
     "output_type": "execute_result"
    }
   ],
   "source": [
    "train = pd.read_csv('../train.csv').drop(columns=['ID'])\n",
    "test = pd.read_csv('../test.csv').drop(columns=['ID'])\n",
    "train.shape, test.shape"
   ]
  },
  {
   "cell_type": "code",
   "execution_count": 5,
   "metadata": {
    "colab": {
     "base_uri": "https://localhost:8080/",
     "height": 444
    },
    "id": "oMlMq9njWkNB",
    "outputId": "cf2dd2c1-732f-4d8a-e177-fc78f6254652"
   },
   "outputs": [
    {
     "data": {
      "text/html": [
       "<div>\n",
       "<style scoped>\n",
       "    .dataframe tbody tr th:only-of-type {\n",
       "        vertical-align: middle;\n",
       "    }\n",
       "\n",
       "    .dataframe tbody tr th {\n",
       "        vertical-align: top;\n",
       "    }\n",
       "\n",
       "    .dataframe thead th {\n",
       "        text-align: right;\n",
       "    }\n",
       "</style>\n",
       "<table border=\"1\" class=\"dataframe\">\n",
       "  <thead>\n",
       "    <tr style=\"text-align: right;\">\n",
       "      <th></th>\n",
       "      <th>시술 시기 코드</th>\n",
       "      <th>시술 당시 나이</th>\n",
       "      <th>임신 시도 또는 마지막 임신 경과 연수</th>\n",
       "      <th>시술 유형</th>\n",
       "      <th>특정 시술 유형</th>\n",
       "      <th>배란 자극 여부</th>\n",
       "      <th>배란 유도 유형</th>\n",
       "      <th>단일 배아 이식 여부</th>\n",
       "      <th>착상 전 유전 검사 사용 여부</th>\n",
       "      <th>착상 전 유전 진단 사용 여부</th>\n",
       "      <th>...</th>\n",
       "      <th>기증 배아 사용 여부</th>\n",
       "      <th>대리모 여부</th>\n",
       "      <th>PGD 시술 여부</th>\n",
       "      <th>PGS 시술 여부</th>\n",
       "      <th>난자 채취 경과일</th>\n",
       "      <th>난자 해동 경과일</th>\n",
       "      <th>난자 혼합 경과일</th>\n",
       "      <th>배아 이식 경과일</th>\n",
       "      <th>배아 해동 경과일</th>\n",
       "      <th>임신 성공 여부</th>\n",
       "    </tr>\n",
       "  </thead>\n",
       "  <tbody>\n",
       "    <tr>\n",
       "      <th>0</th>\n",
       "      <td>TRZKPL</td>\n",
       "      <td>만18-34세</td>\n",
       "      <td>NaN</td>\n",
       "      <td>IVF</td>\n",
       "      <td>ICSI</td>\n",
       "      <td>1</td>\n",
       "      <td>기록되지 않은 시행</td>\n",
       "      <td>0.0</td>\n",
       "      <td>NaN</td>\n",
       "      <td>0.0</td>\n",
       "      <td>...</td>\n",
       "      <td>0.0</td>\n",
       "      <td>0.0</td>\n",
       "      <td>NaN</td>\n",
       "      <td>NaN</td>\n",
       "      <td>0.0</td>\n",
       "      <td>NaN</td>\n",
       "      <td>0.0</td>\n",
       "      <td>3.0</td>\n",
       "      <td>NaN</td>\n",
       "      <td>0</td>\n",
       "    </tr>\n",
       "    <tr>\n",
       "      <th>1</th>\n",
       "      <td>TRYBLT</td>\n",
       "      <td>만45-50세</td>\n",
       "      <td>NaN</td>\n",
       "      <td>IVF</td>\n",
       "      <td>ICSI</td>\n",
       "      <td>0</td>\n",
       "      <td>알 수 없음</td>\n",
       "      <td>0.0</td>\n",
       "      <td>NaN</td>\n",
       "      <td>0.0</td>\n",
       "      <td>...</td>\n",
       "      <td>0.0</td>\n",
       "      <td>0.0</td>\n",
       "      <td>NaN</td>\n",
       "      <td>NaN</td>\n",
       "      <td>0.0</td>\n",
       "      <td>NaN</td>\n",
       "      <td>0.0</td>\n",
       "      <td>NaN</td>\n",
       "      <td>NaN</td>\n",
       "      <td>0</td>\n",
       "    </tr>\n",
       "    <tr>\n",
       "      <th>2</th>\n",
       "      <td>TRVNRY</td>\n",
       "      <td>만18-34세</td>\n",
       "      <td>NaN</td>\n",
       "      <td>IVF</td>\n",
       "      <td>IVF</td>\n",
       "      <td>1</td>\n",
       "      <td>기록되지 않은 시행</td>\n",
       "      <td>0.0</td>\n",
       "      <td>NaN</td>\n",
       "      <td>0.0</td>\n",
       "      <td>...</td>\n",
       "      <td>0.0</td>\n",
       "      <td>0.0</td>\n",
       "      <td>NaN</td>\n",
       "      <td>NaN</td>\n",
       "      <td>0.0</td>\n",
       "      <td>NaN</td>\n",
       "      <td>0.0</td>\n",
       "      <td>2.0</td>\n",
       "      <td>NaN</td>\n",
       "      <td>0</td>\n",
       "    </tr>\n",
       "    <tr>\n",
       "      <th>3</th>\n",
       "      <td>TRJXFG</td>\n",
       "      <td>만35-37세</td>\n",
       "      <td>NaN</td>\n",
       "      <td>IVF</td>\n",
       "      <td>ICSI</td>\n",
       "      <td>1</td>\n",
       "      <td>기록되지 않은 시행</td>\n",
       "      <td>0.0</td>\n",
       "      <td>NaN</td>\n",
       "      <td>0.0</td>\n",
       "      <td>...</td>\n",
       "      <td>0.0</td>\n",
       "      <td>0.0</td>\n",
       "      <td>NaN</td>\n",
       "      <td>NaN</td>\n",
       "      <td>0.0</td>\n",
       "      <td>NaN</td>\n",
       "      <td>0.0</td>\n",
       "      <td>NaN</td>\n",
       "      <td>NaN</td>\n",
       "      <td>0</td>\n",
       "    </tr>\n",
       "    <tr>\n",
       "      <th>4</th>\n",
       "      <td>TRVNRY</td>\n",
       "      <td>만18-34세</td>\n",
       "      <td>NaN</td>\n",
       "      <td>IVF</td>\n",
       "      <td>ICSI</td>\n",
       "      <td>1</td>\n",
       "      <td>기록되지 않은 시행</td>\n",
       "      <td>0.0</td>\n",
       "      <td>NaN</td>\n",
       "      <td>0.0</td>\n",
       "      <td>...</td>\n",
       "      <td>0.0</td>\n",
       "      <td>0.0</td>\n",
       "      <td>NaN</td>\n",
       "      <td>NaN</td>\n",
       "      <td>0.0</td>\n",
       "      <td>NaN</td>\n",
       "      <td>0.0</td>\n",
       "      <td>3.0</td>\n",
       "      <td>NaN</td>\n",
       "      <td>0</td>\n",
       "    </tr>\n",
       "  </tbody>\n",
       "</table>\n",
       "<p>5 rows × 68 columns</p>\n",
       "</div>"
      ],
      "text/plain": [
       "  시술 시기 코드 시술 당시 나이  임신 시도 또는 마지막 임신 경과 연수 시술 유형 특정 시술 유형  배란 자극 여부  \\\n",
       "0   TRZKPL  만18-34세                    NaN   IVF     ICSI         1   \n",
       "1   TRYBLT  만45-50세                    NaN   IVF     ICSI         0   \n",
       "2   TRVNRY  만18-34세                    NaN   IVF      IVF         1   \n",
       "3   TRJXFG  만35-37세                    NaN   IVF     ICSI         1   \n",
       "4   TRVNRY  만18-34세                    NaN   IVF     ICSI         1   \n",
       "\n",
       "     배란 유도 유형  단일 배아 이식 여부  착상 전 유전 검사 사용 여부  착상 전 유전 진단 사용 여부  ...  \\\n",
       "0  기록되지 않은 시행          0.0               NaN               0.0  ...   \n",
       "1      알 수 없음          0.0               NaN               0.0  ...   \n",
       "2  기록되지 않은 시행          0.0               NaN               0.0  ...   \n",
       "3  기록되지 않은 시행          0.0               NaN               0.0  ...   \n",
       "4  기록되지 않은 시행          0.0               NaN               0.0  ...   \n",
       "\n",
       "   기증 배아 사용 여부  대리모 여부  PGD 시술 여부  PGS 시술 여부  난자 채취 경과일  난자 해동 경과일  난자 혼합 경과일  \\\n",
       "0          0.0     0.0        NaN        NaN        0.0        NaN        0.0   \n",
       "1          0.0     0.0        NaN        NaN        0.0        NaN        0.0   \n",
       "2          0.0     0.0        NaN        NaN        0.0        NaN        0.0   \n",
       "3          0.0     0.0        NaN        NaN        0.0        NaN        0.0   \n",
       "4          0.0     0.0        NaN        NaN        0.0        NaN        0.0   \n",
       "\n",
       "   배아 이식 경과일  배아 해동 경과일  임신 성공 여부  \n",
       "0        3.0        NaN         0  \n",
       "1        NaN        NaN         0  \n",
       "2        2.0        NaN         0  \n",
       "3        NaN        NaN         0  \n",
       "4        3.0        NaN         0  \n",
       "\n",
       "[5 rows x 68 columns]"
      ]
     },
     "execution_count": 5,
     "metadata": {},
     "output_type": "execute_result"
    }
   ],
   "source": [
    "train.head()"
   ]
  },
  {
   "cell_type": "code",
   "execution_count": 6,
   "metadata": {
    "colab": {
     "base_uri": "https://localhost:8080/",
     "height": 178
    },
    "id": "x7kj8pMWSpd9",
    "outputId": "11cdbca0-3097-42aa-dd4e-52d7070ff5c9"
   },
   "outputs": [
    {
     "data": {
      "text/plain": [
       "임신 성공 여부\n",
       "0    190123\n",
       "1     66228\n",
       "Name: count, dtype: int64"
      ]
     },
     "execution_count": 6,
     "metadata": {},
     "output_type": "execute_result"
    }
   ],
   "source": [
    "train['임신 성공 여부'].value_counts()"
   ]
  },
  {
   "cell_type": "code",
   "execution_count": 7,
   "metadata": {
    "colab": {
     "base_uri": "https://localhost:8080/",
     "height": 335
    },
    "id": "EsL6VCeI_Q4D",
    "outputId": "32bd81c0-f1bf-4f45-8b2a-54bf8e66c1d1"
   },
   "outputs": [
    {
     "data": {
      "text/plain": [
       "시술 당시 나이\n",
       "만18-34세    102476\n",
       "만35-37세     57780\n",
       "만38-39세     39247\n",
       "만40-42세     37348\n",
       "만43-44세     12253\n",
       "만45-50세      6918\n",
       "알 수 없음        329\n",
       "Name: count, dtype: int64"
      ]
     },
     "execution_count": 7,
     "metadata": {},
     "output_type": "execute_result"
    }
   ],
   "source": [
    "# train['시술 당시 나이'] = train['시술 당시 나이'].replace('알 수 없음','만35-37세')\n",
    "# test['시술 당시 나이'] = test['시술 당시 나이'].replace('알 수 없음','만35-37세')\n",
    "\n",
    "train['시술 당시 나이'].value_counts()"
   ]
  },
  {
   "cell_type": "code",
   "execution_count": 8,
   "metadata": {
    "colab": {
     "base_uri": "https://localhost:8080/"
    },
    "id": "4xu4wqTwWgEO",
    "outputId": "8b21d1a6-d5ee-46ea-ab34-c6c2ec30bb19"
   },
   "outputs": [
    {
     "data": {
      "text/plain": [
       "((256351, 66), (90067, 65))"
      ]
     },
     "execution_count": 8,
     "metadata": {},
     "output_type": "execute_result"
    }
   ],
   "source": [
    "# drop_columns = ['착상 전 유전 검사 사용 여부',\n",
    "#                 'PGD 시술 여부', 'PGS 시술 여부', '난자 해동 경과일'] + ['배란 유도 유형', '불임 원인 - 자궁경부 문제', '불임 원인 - 정자 면역학적 요인','불임 원인 - 정자 운동성', '불임 원인 - 정자 형태']#\n",
    "drop_columns = ['난자 해동 경과일', '배란 유도 유형']\n",
    "train.drop(columns=drop_columns, inplace=True)\n",
    "test.drop(columns=drop_columns, inplace=True)\n",
    "\n",
    "train.shape, test.shape"
   ]
  },
  {
   "cell_type": "code",
   "execution_count": 9,
   "metadata": {
    "id": "q5k1E_a8a6LH"
   },
   "outputs": [],
   "source": [
    "nan_col_list = ['착상 전 유전 검사 사용 여부','PGD 시술 여부', 'PGS 시술 여부']\n",
    "for col in nan_col_list:\n",
    "    train[col] = train[col].fillna(0)\n",
    "    test[col] = test[col].fillna(0)"
   ]
  },
  {
   "cell_type": "code",
   "execution_count": 10,
   "metadata": {
    "colab": {
     "base_uri": "https://localhost:8080/"
    },
    "id": "_Q-1vJvMZVdO",
    "outputId": "c00dc096-9bb5-4d60-f38f-4908c4f8c858"
   },
   "outputs": [],
   "source": [
    "drop_columns2 = []\n",
    "for col in train.columns:\n",
    "    if len(train[col].value_counts()) == 1:\n",
    "        drop_columns2.append(col)"
   ]
  },
  {
   "cell_type": "code",
   "execution_count": 11,
   "metadata": {
    "colab": {
     "base_uri": "https://localhost:8080/"
    },
    "id": "Eb_P6B2RarRm",
    "outputId": "8648f15e-8a85-49bb-fb00-a83582492051"
   },
   "outputs": [
    {
     "name": "stdout",
     "output_type": "stream",
     "text": [
      "['불임 원인 - 여성 요인', '난자 채취 경과일']\n"
     ]
    },
    {
     "data": {
      "text/plain": [
       "((256351, 64), (90067, 63))"
      ]
     },
     "execution_count": 11,
     "metadata": {},
     "output_type": "execute_result"
    }
   ],
   "source": [
    "print(drop_columns2)\n",
    "train.drop(columns=drop_columns2, inplace=True)\n",
    "test.drop(columns=drop_columns2, inplace=True)\n",
    "\n",
    "train.shape, test.shape"
   ]
  },
  {
   "cell_type": "code",
   "execution_count": 12,
   "metadata": {
    "id": "YjAuM-pa6Ewz"
   },
   "outputs": [],
   "source": [
    "cat_to_int_dict = {'6회 이상' : 6, '5회' : 5, '4회' : 4, '3회' : 3, '2회' : 2, '1회' : 1, '0회' : 0}\n",
    "\n",
    "cat_to_int_columns = ['총 시술 횟수', '클리닉 내 총 시술 횟수', 'IVF 시술 횟수','DI 시술 횟수', 'DI 임신 횟수' ,'DI 출산 횟수',\n",
    "                      '총 임신 횟수', 'IVF 임신 횟수', '총 출산 횟수', 'IVF 출산 횟수'] #\n",
    "for col in cat_to_int_columns:\n",
    "    train[col] = train[col].map(cat_to_int_dict)\n",
    "    test[col] = test[col].map(cat_to_int_dict)"
   ]
  },
  {
   "cell_type": "code",
   "execution_count": 13,
   "metadata": {
    "id": "f-mBaoLO4ffA"
   },
   "outputs": [],
   "source": [
    "procedure_encoding_dict = {'ICSI' : 'ICSI', 'IVF' : 'IVF', 'Unknown' : 'Unknown','IUI' : 'IUI',\n",
    "                           'ICSI:ICSI' : 'ICSI', 'ICSI / BLASTOCYST ' : 'ICSI / BLASTOCYST',\n",
    "                           'IVF / BLASTOCYST' : 'IVF / BLASTOCYST','IVF:IVF' : 'IVF','ICSI:IVF' : 'ICSI:IVF',\n",
    "                           'ICSI / AH' : 'ICSI / AH','IVF:ICSI' : 'ICSI:IVF', 'IVF / AH' : 'IVF / AH',\n",
    "                           'ICSI:Unknown' : 'ICSI', 'IVF:Unknown' : 'IVF', 'ICI' : 'ICI','Generic DI' : 'Generic DI',\n",
    "                           'IVI' : 'IVI','ICSI / BLASTOCYST:IVF / BLASTOCYST' : 'ICSI / BLASTOCYST:IVF / BLASTOCYST',\n",
    "                           'ICSI / BLASTOCYST :IVF / BLASTOCYST': 'ICSI / BLASTOCYST:IVF / BLASTOCYST','FER' : 'FER',\n",
    "                           'IVF / AH:ICSI / AH' : 'IVF / AH:ICSI / AH','GIFT':'GIFT','ICSI / AH:Unknown' : 'ICSI / AH',\n",
    "                           'ICSI / BLASTOCYST :ICSI' : 'ICSI / BLASTOCYST', 'IUI:ICI' : 'IUI:ICI',\n",
    "                           'IVF:Unknown:Unknown:Unknown' : 'IVF'}\n",
    "\n",
    "train['특정 시술 유형'] = train['특정 시술 유형'].map(procedure_encoding_dict)\n",
    "test['특정 시술 유형'] = test['특정 시술 유형'].map(procedure_encoding_dict)"
   ]
  },
  {
   "cell_type": "code",
   "execution_count": 14,
   "metadata": {
    "id": "UEU77iWib0U_"
   },
   "outputs": [],
   "source": [
    "train['불임 원인 - 정자 요인'] = train['불임 원인 - 정자 면역학적 요인'] + train['불임 원인 - 정자 운동성'] + train['불임 원인 - 정자 농도']  + train['불임 원인 - 정자 형태']\n",
    "test['불임 원인 - 정자 요인'] = test['불임 원인 - 정자 면역학적 요인'] + test['불임 원인 - 정자 운동성'] + test['불임 원인 - 정자 농도'] + test['불임 원인 - 정자 형태']\n",
    "train['불임 원인 - 여성 요인'] = train['불임 원인 - 자궁경부 문제'] + train['불임 원인 - 자궁내막증'] + train['불임 원인 - 배란 장애'] + train['불임 원인 - 난관 질환']\n",
    "test['불임 원인 - 여성 요인'] = test['불임 원인 - 자궁경부 문제'] + test['불임 원인 - 자궁내막증'] + test['불임 원인 - 배란 장애'] + test['불임 원인 - 난관 질환']\n",
    "\n",
    "train['남성 불임 원인'] = train['남성 주 불임 원인'] + train['남성 부 불임 원인']\n",
    "test['남성 불임 원인'] = test['남성 주 불임 원인'] + test['남성 부 불임 원인']\n",
    "train['여성 불임 원인'] = train['여성 주 불임 원인'] + train['여성 부 불임 원인']\n",
    "test['여성 불임 원인'] = test['여성 주 불임 원인'] + test['여성 부 불임 원인']\n",
    "train['부부 불임 원인'] = train['부부 주 불임 원인'] + train['부부 부 불임 원인']\n",
    "test['부부 불임 원인'] = test['부부 주 불임 원인'] + test['부부 부 불임 원인']\n",
    "\n",
    "\n",
    "drop_columns3 = ['불임 원인 - 정자 면역학적 요인', '불임 원인 - 정자 운동성', '불임 원인 - 정자 형태', '불임 원인 - 자궁경부 문제',\n",
    "                 '남성 주 불임 원인', '남성 부 불임 원인', '여성 주 불임 원인', '여성 부 불임 원인',\n",
    "                 '부부 주 불임 원인', '부부 부 불임 원인']\n",
    "train.drop(columns=drop_columns3, inplace=True)\n",
    "test.drop(columns=drop_columns3, inplace=True)"
   ]
  },
  {
   "cell_type": "code",
   "execution_count": 15,
   "metadata": {
    "colab": {
     "base_uri": "https://localhost:8080/"
    },
    "id": "kjEBmjSkbL5j",
    "outputId": "b3db516d-031e-42fc-89bb-a3218d8bd879"
   },
   "outputs": [
    {
     "data": {
      "text/plain": [
       "Index(['시술 시기 코드', '시술 당시 나이', '임신 시도 또는 마지막 임신 경과 연수', '시술 유형', '특정 시술 유형',\n",
       "       '배란 자극 여부', '단일 배아 이식 여부', '착상 전 유전 검사 사용 여부', '착상 전 유전 진단 사용 여부',\n",
       "       '불명확 불임 원인', '불임 원인 - 난관 질환', '불임 원인 - 남성 요인', '불임 원인 - 배란 장애',\n",
       "       '불임 원인 - 자궁내막증', '불임 원인 - 정자 농도', '배아 생성 주요 이유', '총 시술 횟수',\n",
       "       '클리닉 내 총 시술 횟수', 'IVF 시술 횟수', 'DI 시술 횟수', '총 임신 횟수', 'IVF 임신 횟수',\n",
       "       'DI 임신 횟수', '총 출산 횟수', 'IVF 출산 횟수', 'DI 출산 횟수', '총 생성 배아 수',\n",
       "       '미세주입된 난자 수', '미세주입에서 생성된 배아 수', '이식된 배아 수', '미세주입 배아 이식 수', '저장된 배아 수',\n",
       "       '미세주입 후 저장된 배아 수', '해동된 배아 수', '해동 난자 수', '수집된 신선 난자 수', '저장된 신선 난자 수',\n",
       "       '혼합된 난자 수', '파트너 정자와 혼합된 난자 수', '기증자 정자와 혼합된 난자 수', '난자 출처', '정자 출처',\n",
       "       '난자 기증자 나이', '정자 기증자 나이', '동결 배아 사용 여부', '신선 배아 사용 여부', '기증 배아 사용 여부',\n",
       "       '대리모 여부', 'PGD 시술 여부', 'PGS 시술 여부', '난자 혼합 경과일', '배아 이식 경과일',\n",
       "       '배아 해동 경과일', '임신 성공 여부', '불임 원인 - 정자 요인', '불임 원인 - 여성 요인', '남성 불임 원인',\n",
       "       '여성 불임 원인', '부부 불임 원인'],\n",
       "      dtype='object')"
      ]
     },
     "execution_count": 15,
     "metadata": {},
     "output_type": "execute_result"
    }
   ],
   "source": [
    "train.columns"
   ]
  },
  {
   "cell_type": "code",
   "execution_count": 16,
   "metadata": {
    "id": "64dAkKrBayFA"
   },
   "outputs": [],
   "source": [
    "# categorical_columns = [\"시술 시기 코드\",\"시술 당시 나이\", \"시술 유형\", \"특정 시술 유형\",\"배란 자극 여부\",\n",
    "                      #  \"단일 배아 이식 여부\",\"착상 전 유전 진단 사용 여부\",\n",
    "                      #  \"남성 주 불임 원인\",\"남성 부 불임 원인\",\"여성 주 불임 원인\",\"여성 부 불임 원인\",\n",
    "                      #  \"부부 주 불임 원인\",\"부부 부 불임 원인\",\"불명확 불임 원인\",\"불임 원인 - 난관 질환\",\n",
    "                      #  \"불임 원인 - 남성 요인\",\"불임 원인 - 배란 장애\",\"불임 원인 - 자궁경부 문제\",\"불임 원인 - 자궁내막증\",\n",
    "                      #  \"불임 원인 - 정자 농도\",\"불임 원인 - 정자 면역학적 요인\",\"불임 원인 - 정자 운동성\",\"불임 원인 - 정자 형태\",\n",
    "                      #  \"배아 생성 주요 이유\",\"총 시술 횟수\",\"클리닉 내 총 시술 횟수\",\"IVF 시술 횟수\",\"DI 시술 횟수\",\n",
    "                      #  \"총 임신 횟수\",\"IVF 임신 횟수\",\"DI 임신 횟수\",\"총 출산 횟수\",\"IVF 출산 횟수\",\"DI 출산 횟수\",\n",
    "                      #  \"난자 출처\",\"정자 출처\",\"난자 기증자 나이\",\"정자 기증자 나이\",\n",
    "                      #  \"동결 배아 사용 여부\",\"신선 배아 사용 여부\",\"기증 배아 사용 여부\",\"대리모 여부\"]\n",
    "categorical_columns =  [\"시술 시기 코드\",\"시술 당시 나이\",\"시술 유형\", \"특정 시술 유형\",\n",
    "                        \"배란 자극 여부\", \"단일 배아 이식 여부\", '착상 전 유전 검사 사용 여부',\"착상 전 유전 진단 사용 여부\",\n",
    "                       \"불명확 불임 원인\",\"배아 생성 주요 이유\",\n",
    "                        \"불임 원인 - 난관 질환\",\"불임 원인 - 남성 요인\",\"불임 원인 - 배란 장애\",\n",
    "                        \"불임 원인 - 자궁내막증\",'불임 원인 - 정자 농도',\"난자 출처\",\"정자 출처\",\"난자 기증자 나이\",\"정자 기증자 나이\",\n",
    "                       \"동결 배아 사용 여부\",\"신선 배아 사용 여부\", '기증 배아 사용 여부',\"대리모 여부\",\n",
    "                        'PGD 시술 여부', 'PGS 시술 여부', '불임 원인 - 정자 요인', '불임 원인 - 여성 요인',  '남성 불임 원인', '여성 불임 원인', '부부 불임 원인'] #\n",
    "# \"남성 주 불임 원인\",\"남성 부 불임 원인\",\"여성 주 불임 원인\",\"여성 부 불임 원인\",\n",
    "#                       \"부부 주 불임 원인\",\"부부 부 불임 원인\",\n",
    "\n",
    "for col in categorical_columns:\n",
    "    if train[col].isna().sum() > 0 or test[col].isna().sum() > 0 :\n",
    "\n",
    "      mode_value = train[col].mode()[0]\n",
    "      train[col].fillna(mode_value, inplace=True)  # 최빈값으로 대체\n",
    "      test[col].fillna(mode_value, inplace = True)\n",
    "    train[col] = train[col].astype(str)\n",
    "    test[col] = test[col].astype(str)\n",
    "    #encoder = ce.OrdinalEncoder(handle_unknown='impute')\n",
    "    #encoder.fit(train[col])\n",
    "    #train[col] = encoder.transform(train[col])\n",
    "    #test[col] = encoder.transform(test[col])\n",
    "\n",
    "numeric_columns = [ '임신 시도 또는 마지막 임신 경과 연수',\"총 시술 횟수\",\"클리닉 내 총 시술 횟수\",\"IVF 시술 횟수\",\"DI 시술 횟수\",\n",
    "                   \"총 임신 횟수\",\"IVF 임신 횟수\",\"DI 임신 횟수\",\"총 출산 횟수\",\"IVF 출산 횟수\",\"DI 출산 횟수\",\n",
    "                    '총 생성 배아 수','미세주입된 난자 수', '미세주입에서 생성된 배아 수', '이식된 배아 수', '미세주입 배아 이식 수', '저장된 배아 수',\n",
    "       '미세주입 후 저장된 배아 수', '해동된 배아 수', '해동 난자 수', '수집된 신선 난자 수', '저장된 신선 난자 수',\n",
    "       '혼합된 난자 수', '파트너 정자와 혼합된 난자 수', '기증자 정자와 혼합된 난자 수', '난자 혼합 경과일', '배아 이식 경과일', '배아 해동 경과일'] #\n",
    "\n",
    "# numeric_columns = [\"총 생성 배아 수\",\"미세주입된 난자 수\",\"미세주입에서 생성된 배아 수\",\n",
    "#                    \"이식된 배아 수\",\"미세주입 배아 이식 수\",\"저장된 배아 수\",\"미세주입 후 저장된 배아 수\",\n",
    "#                    \"수집된 신선 난자 수\",\"혼합된 난자 수\",\"파트너 정자와 혼합된 난자 수\",\n",
    "#                    \"기증자 정자와 혼합된 난자 수\",\"배아 이식 경과일\"]\n",
    "\n",
    "for col in numeric_columns:\n",
    "  if train[col].isna().sum():\n",
    "    if train[col].isna().sum() >= len(train)*0.5: # 결측치가 절반이 넘어갈 경우\n",
    "      train[col].fillna(-1, inplace=True)  # -1로 대체\n",
    "      test[col].fillna(-1, inplace = True)\n",
    "    else:\n",
    "      mode_value = train[col].mode()[0]  # 최빈값 구하기\n",
    "      train[col].fillna(mode_value, inplace=True)  # 최빈값으로 대체\n",
    "      test[col].fillna(mode_value, inplace = True)\n"
   ]
  },
  {
   "cell_type": "code",
   "execution_count": 17,
   "metadata": {
    "colab": {
     "base_uri": "https://localhost:8080/"
    },
    "id": "rrQrzq0H_QfV",
    "outputId": "255208d3-85ca-4d21-d9d0-eb8dccc27e6d"
   },
   "outputs": [
    {
     "data": {
      "text/plain": [
       "58"
      ]
     },
     "execution_count": 17,
     "metadata": {},
     "output_type": "execute_result"
    }
   ],
   "source": [
    "len(categorical_columns) + len(numeric_columns)"
   ]
  },
  {
   "cell_type": "code",
   "execution_count": 18,
   "metadata": {
    "id": "CI8IOlCFVXGY"
   },
   "outputs": [],
   "source": [
    "def make_feature(df):\n",
    "  #df['연령 가중치'] = df['시술 당시 나이'].map(age_weight_dict)\n",
    "\n",
    "  #df['난자 활용률'] = df['미세주입된 난자 수'] / (df['수집된 신선 난자 수'] + df['해동 난자 수'] + 1)\n",
    "  df['미세주입 배아 생성률'] = (df['미세주입에서 생성된 배아 수']) / (df['미세주입된 난자 수'] + 1)\n",
    "  df['미세주입 배아 이식률'] = (df['미세주입 배아 이식 수']) / (df['미세주입에서 생성된 배아 수'] + 1)\n",
    "  df['배아 이식률'] = (df['이식된 배아 수']) / (df['총 생성 배아 수'] + 1)\n",
    "  df['저장 배아 비율'] = (df['저장된 배아 수'])/ (df['총 생성 배아 수'] + 1)\n",
    "  df['해동 배아 생존율'] = (df['해동된 배아 수'])/ (df['총 생성 배아 수'] + 1)\n",
    "  df['파트너 정자 혼합 비율'] = (df['파트너 정자와 혼합된 난자 수']) / (df['혼합된 난자 수'] + 1)\n",
    "\n",
    "  # df['저장 배아 비율2'] = (df['저장된 배아 수'])/ (df['이식된 배아 수'] + 1)\n",
    "  # df['해동 배아 생존율2'] = (df['해동된 배아 수'])/ (df['이식된 배아 수'] + 1)\n",
    "  # df['미세주입 배아 이식 비율'] = df['미세주입 배아 이식 수'] / (df['이식된 배아 수'] + 1)\n",
    "  #df['나이보정 배아 이식 수'] = df['이식된 배아 수']*df['연령 가중치']\n",
    "\n",
    "  df['임신 성공률'] = (df['총 임신 횟수']) / (df['총 시술 횟수'] + 1)\n",
    "  #df['IVF 시술 성공률'] = (df['IVF 임신 횟수'])/ (df['IVF 시술 횟수'] + 1)\n",
    "  #df['DI 시술 성공률'] = (df['DI 임신 횟수']) / (df['DI 시술 횟수'] + 1)\n",
    "  df['출산율'] = df['총 출산 횟수'] / (df['총 임신 횟수'] + 1)\n",
    "  #df['IVF 출산율'] = df['IVF 출산 횟수'] / (df['IVF 임신 횟수'] + 1)\n",
    "  #df['DI 출산율'] = df['DI 출산 횟수'] / (df['DI 임신 횟수'] + 1)\n",
    "  #df['시술 기준 출산 성공률'] = df['총 출산 횟수'] / (df['총 시술 횟수'] + 1)\n",
    "\n",
    "  #df = df.drop(columns = ['연령 가중치'])\n",
    "\n",
    "  return df"
   ]
  },
  {
   "cell_type": "code",
   "execution_count": 19,
   "metadata": {
    "colab": {
     "base_uri": "https://localhost:8080/"
    },
    "id": "_VNPbGSR4h_I",
    "outputId": "44e7b9c5-1948-417e-b02a-64267fb91fae"
   },
   "outputs": [
    {
     "data": {
      "text/plain": [
       "((256351, 66), (90067, 66))"
      ]
     },
     "execution_count": 19,
     "metadata": {},
     "output_type": "execute_result"
    }
   ],
   "source": [
    "X = train.drop('임신 성공 여부', axis=1)\n",
    "y = train['임신 성공 여부']\n",
    "\n",
    "X = make_feature(X)\n",
    "test = make_feature(test)\n",
    "\n",
    "X.shape, test.shape"
   ]
  },
  {
   "cell_type": "code",
   "execution_count": 20,
   "metadata": {
    "colab": {
     "base_uri": "https://localhost:8080/",
     "height": 178
    },
    "id": "1WNQj2e8ukWK",
    "outputId": "039cab20-93c0-4ab4-f8a6-8098c62dc87f"
   },
   "outputs": [
    {
     "data": {
      "text/plain": [
       "임신 성공 여부\n",
       "0    190123\n",
       "1     66228\n",
       "Name: count, dtype: int64"
      ]
     },
     "execution_count": 20,
     "metadata": {},
     "output_type": "execute_result"
    }
   ],
   "source": [
    "y.value_counts()"
   ]
  },
  {
   "cell_type": "code",
   "execution_count": 21,
   "metadata": {},
   "outputs": [],
   "source": [
    "if not os.path.exists('./weight'):\n",
    "    os.makedirs('./weight')"
   ]
  },
  {
   "cell_type": "code",
   "execution_count": 22,
   "metadata": {
    "id": "nsRZfmFixgqm"
   },
   "outputs": [],
   "source": [
    "from sklearn.utils.class_weight import compute_class_weight\n",
    "def objective_cat(trial):\n",
    "    global best_val_auc\n",
    "    cbrm_param = {\n",
    "        'iterations':trial.suggest_int(\"iterations\", 1000, 3000),\n",
    "        'depth':trial.suggest_int(\"depth\", 4, 10),\n",
    "        'learning_rate' : trial.suggest_float('learning_rate',0.005, 0.1),\n",
    "        'l2_leaf_reg': trial.suggest_float(\"l2_leaf_reg\", 1e-4, 100.0, log=True)\n",
    "    }\n",
    "\n",
    "    # Generate model\n",
    "    model_cat = CatBoostClassifier(**cbrm_param, auto_class_weights='Balanced', eval_metric='AUC', random_state=seed, task_type=\"CPU\")\n",
    "    model_cat.fit(X_train,\n",
    "          y_train,\n",
    "          cat_features=categorical_columns,\n",
    "          early_stopping_rounds= 300,\n",
    "          eval_set=[(X_val,y_val)],\n",
    "          verbose = 300)\n",
    "    \n",
    "    val_auc = model_cat.get_best_score()[\"validation\"][\"AUC\"]\n",
    "    best_model_path = \"./weight/cat_fold_cpu{}.cbm\".format(idx)\n",
    "    if val_auc > best_val_auc:\n",
    "        best_val_auc = val_auc\n",
    "        model_cat.save_model(best_model_path)\n",
    "        print('저장 완료')\n",
    "\n",
    "    return val_auc\n",
    "\n",
    "def objective_lgbm(trial):\n",
    "\n",
    "    lgbm_params = {\n",
    "         #'num_leaves': trial.suggest_int('num_leaves', 2, 1024, step=1),\n",
    "         #'max_depth': trial.suggest_int('max_depth', 3, 18, step=1),\n",
    "        \"objective\":  trial.suggest_categorical(\"objective\", [\"binary\"]),\n",
    "         \"metric\":  trial.suggest_categorical(\"metric\", [\"auc\"]),\n",
    "         \"random_state\":  trial.suggest_int('random_state', 42, 42),\n",
    "        \"verbose\":  trial.suggest_int('verbose', -1, -1),\n",
    "        'learning_rate': trial.suggest_float('learning_rate', 0.005, 0.1, log=True),\n",
    "        'n_estimators': trial.suggest_int('n_estimators', 100, 2000),\n",
    "        'min_child_samples': trial.suggest_int('min_child_samples', 10, 50, step=5, log=False),\n",
    "        'subsample': trial.suggest_float('subsample', 0.5, 1.0, step=0.1, log=False),\n",
    "        'colsample_bytree': trial.suggest_float('colsample_bytree', 0.5, 1.0, step=0.1, log=False),\n",
    "    }\n",
    "\n",
    "    # Generate model\n",
    "\n",
    "    class_weights = compute_class_weight(class_weight=\"balanced\", classes=np.unique(y), y=y_train)\n",
    "    class_weight_dict = {i: w for i, w in enumerate(class_weights)}\n",
    "\n",
    "    model_lgbm = lgb.LGBMClassifier(**lgbm_params, class_weight=class_weight_dict)\n",
    "\n",
    "    model_lgbm.fit(X_train, y_train,eval_set=[(X_val, y_val)],categorical_feature=categorical_columns)\n",
    "\n",
    "    return model_lgbm.best_score_['valid_0']['auc']"
   ]
  },
  {
   "cell_type": "code",
   "execution_count": 23,
   "metadata": {
    "colab": {
     "base_uri": "https://localhost:8080/"
    },
    "id": "NsuYwQX28LzT",
    "outputId": "392153b7-08f0-4feb-9a83-6016732f894c",
    "scrolled": true,
    "tags": []
   },
   "outputs": [
    {
     "name": "stdout",
     "output_type": "stream",
     "text": [
      "Seed 42 Start!\n",
      "==================================================\n"
     ]
    },
    {
     "name": "stderr",
     "output_type": "stream",
     "text": [
      "[I 2025-02-20 01:59:52,852] A new study created in memory with name: no-name-b8be1ce0-8452-4615-b4a7-1a83737e9915\n"
     ]
    },
    {
     "name": "stdout",
     "output_type": "stream",
     "text": [
      "After SMOTENC:\n",
      "[171110 171110]\n",
      "X_train shape: (342220, 66)\n",
      "y_train shape: (342220,)\n",
      "0:\ttest: 0.7248003\tbest: 0.7248003 (0)\ttotal: 242ms\tremaining: 7m 3s\n",
      "300:\ttest: 0.7208816\tbest: 0.7278207 (35)\ttotal: 58.9s\tremaining: 4m 43s\n"
     ]
    },
    {
     "name": "stderr",
     "output_type": "stream",
     "text": [
      "[I 2025-02-20 02:00:59,126] Trial 0 finished with value: 0.7278207233448091 and parameters: {'iterations': 1749, 'depth': 10, 'learning_rate': 0.07453942447208349, 'l2_leaf_reg': 0.39079671568228835}. Best is trial 0 with value: 0.7278207233448091.\n"
     ]
    },
    {
     "name": "stdout",
     "output_type": "stream",
     "text": [
      "Stopped by overfitting detector  (300 iterations wait)\n",
      "\n",
      "bestTest = 0.7278207233\n",
      "bestIteration = 35\n",
      "\n",
      "Shrink model to first 36 iterations.\n",
      "저장 완료\n",
      "0:\ttest: 0.7186940\tbest: 0.7186940 (0)\ttotal: 111ms\tremaining: 2m 25s\n",
      "300:\ttest: 0.7261905\tbest: 0.7262135 (298)\ttotal: 23.4s\tremaining: 1m 18s\n",
      "600:\ttest: 0.7273001\tbest: 0.7276040 (448)\ttotal: 47.4s\tremaining: 56.1s\n"
     ]
    },
    {
     "name": "stderr",
     "output_type": "stream",
     "text": [
      "[I 2025-02-20 02:01:59,592] Trial 1 finished with value: 0.7276040236271504 and parameters: {'iterations': 1312, 'depth': 5, 'learning_rate': 0.010517943155978949, 'l2_leaf_reg': 15.741890047456648}. Best is trial 0 with value: 0.7278207233448091.\n"
     ]
    },
    {
     "name": "stdout",
     "output_type": "stream",
     "text": [
      "Stopped by overfitting detector  (300 iterations wait)\n",
      "\n",
      "bestTest = 0.7276040236\n",
      "bestIteration = 448\n",
      "\n",
      "Shrink model to first 449 iterations.\n",
      "0:\ttest: 0.7247264\tbest: 0.7247264 (0)\ttotal: 149ms\tremaining: 5m 28s\n",
      "300:\ttest: 0.7271243\tbest: 0.7271497 (298)\ttotal: 36.4s\tremaining: 3m 49s\n",
      "600:\ttest: 0.7280106\tbest: 0.7282688 (440)\ttotal: 1m 15s\tremaining: 3m 20s\n"
     ]
    },
    {
     "name": "stderr",
     "output_type": "stream",
     "text": [
      "[I 2025-02-20 02:03:33,416] Trial 2 finished with value: 0.7282687944330214 and parameters: {'iterations': 2202, 'depth': 8, 'learning_rate': 0.006955526958101232, 'l2_leaf_reg': 65.98711072054076}. Best is trial 2 with value: 0.7282687944330214.\n"
     ]
    },
    {
     "name": "stdout",
     "output_type": "stream",
     "text": [
      "Stopped by overfitting detector  (300 iterations wait)\n",
      "\n",
      "bestTest = 0.7282687944\n",
      "bestIteration = 440\n",
      "\n",
      "Shrink model to first 441 iterations.\n",
      "저장 완료\n",
      "0:\ttest: 0.7186719\tbest: 0.7186719 (0)\ttotal: 83.8ms\tremaining: 3m 43s\n",
      "300:\ttest: 0.7274571\tbest: 0.7281184 (216)\ttotal: 23.3s\tremaining: 3m 3s\n"
     ]
    },
    {
     "name": "stderr",
     "output_type": "stream",
     "text": [
      "[I 2025-02-20 02:04:14,282] Trial 3 finished with value: 0.7281184169395323 and parameters: {'iterations': 2665, 'depth': 5, 'learning_rate': 0.02227337188467456, 'l2_leaf_reg': 0.0012601639723276807}. Best is trial 2 with value: 0.7282687944330214.\n"
     ]
    },
    {
     "name": "stdout",
     "output_type": "stream",
     "text": [
      "Stopped by overfitting detector  (300 iterations wait)\n",
      "\n",
      "bestTest = 0.7281184169\n",
      "bestIteration = 216\n",
      "\n",
      "Shrink model to first 217 iterations.\n",
      "0:\ttest: 0.7215187\tbest: 0.7215187 (0)\ttotal: 126ms\tremaining: 3m 21s\n",
      "300:\ttest: 0.7240005\tbest: 0.7280429 (69)\ttotal: 34s\tremaining: 2m 27s\n"
     ]
    },
    {
     "name": "stderr",
     "output_type": "stream",
     "text": [
      "[I 2025-02-20 02:04:56,304] Trial 4 finished with value: 0.7280429065679205 and parameters: {'iterations': 1608, 'depth': 7, 'learning_rate': 0.046034776771001, 'l2_leaf_reg': 0.005589524205217926}. Best is trial 2 with value: 0.7282687944330214.\n"
     ]
    },
    {
     "name": "stdout",
     "output_type": "stream",
     "text": [
      "Stopped by overfitting detector  (300 iterations wait)\n",
      "\n",
      "bestTest = 0.7280429066\n",
      "bestIteration = 69\n",
      "\n",
      "Shrink model to first 70 iterations.\n",
      "0:\ttest: 0.7160182\tbest: 0.7160182 (0)\ttotal: 69.2ms\tremaining: 2m 33s\n",
      "300:\ttest: 0.7271090\tbest: 0.7276872 (205)\ttotal: 18.9s\tremaining: 2m\n"
     ]
    },
    {
     "name": "stderr",
     "output_type": "stream",
     "text": [
      "[I 2025-02-20 02:05:28,631] Trial 5 finished with value: 0.7276872252008346 and parameters: {'iterations': 2224, 'depth': 4, 'learning_rate': 0.032753741610845724, 'l2_leaf_reg': 0.01578232781079559}. Best is trial 2 with value: 0.7282687944330214.\n"
     ]
    },
    {
     "name": "stdout",
     "output_type": "stream",
     "text": [
      "Stopped by overfitting detector  (300 iterations wait)\n",
      "\n",
      "bestTest = 0.7276872252\n",
      "bestIteration = 205\n",
      "\n",
      "Shrink model to first 206 iterations.\n",
      "0:\ttest: 0.7248001\tbest: 0.7248001 (0)\ttotal: 158ms\tremaining: 5m 2s\n",
      "300:\ttest: 0.7258027\tbest: 0.7284528 (94)\ttotal: 43.8s\tremaining: 3m 54s\n"
     ]
    },
    {
     "name": "stderr",
     "output_type": "stream",
     "text": [
      "[I 2025-02-20 02:06:26,686] Trial 6 finished with value: 0.7284528432706378 and parameters: {'iterations': 1912, 'depth': 9, 'learning_rate': 0.023969009305044177, 'l2_leaf_reg': 0.12173252504194051}. Best is trial 6 with value: 0.7284528432706378.\n"
     ]
    },
    {
     "name": "stdout",
     "output_type": "stream",
     "text": [
      "Stopped by overfitting detector  (300 iterations wait)\n",
      "\n",
      "bestTest = 0.7284528433\n",
      "bestIteration = 94\n",
      "\n",
      "Shrink model to first 95 iterations.\n",
      "저장 완료\n",
      "0:\ttest: 0.7160182\tbest: 0.7160182 (0)\ttotal: 68.8ms\tremaining: 2m 30s\n",
      "300:\ttest: 0.7245048\tbest: 0.7274932 (90)\ttotal: 20.2s\tremaining: 2m 6s\n"
     ]
    },
    {
     "name": "stderr",
     "output_type": "stream",
     "text": [
      "[I 2025-02-20 02:06:53,190] Trial 7 finished with value: 0.7274931821682693 and parameters: {'iterations': 2185, 'depth': 4, 'learning_rate': 0.06271676093063665, 'l2_leaf_reg': 0.0010547383621352044}. Best is trial 6 with value: 0.7284528432706378.\n"
     ]
    },
    {
     "name": "stdout",
     "output_type": "stream",
     "text": [
      "Stopped by overfitting detector  (300 iterations wait)\n",
      "\n",
      "bestTest = 0.7274931822\n",
      "bestIteration = 90\n",
      "\n",
      "Shrink model to first 91 iterations.\n",
      "0:\ttest: 0.7248205\tbest: 0.7248205 (0)\ttotal: 194ms\tremaining: 3m 39s\n",
      "300:\ttest: 0.7212760\tbest: 0.7277901 (27)\ttotal: 1m 2s\tremaining: 2m 50s\n"
     ]
    },
    {
     "name": "stderr",
     "output_type": "stream",
     "text": [
      "[I 2025-02-20 02:08:01,135] Trial 8 finished with value: 0.7277901491290331 and parameters: {'iterations': 1130, 'depth': 10, 'learning_rate': 0.09673504314208314, 'l2_leaf_reg': 7.085721663941605}. Best is trial 6 with value: 0.7284528432706378.\n"
     ]
    },
    {
     "name": "stdout",
     "output_type": "stream",
     "text": [
      "Stopped by overfitting detector  (300 iterations wait)\n",
      "\n",
      "bestTest = 0.7277901491\n",
      "bestIteration = 27\n",
      "\n",
      "Shrink model to first 28 iterations.\n",
      "0:\ttest: 0.7160182\tbest: 0.7160182 (0)\ttotal: 69.8ms\tremaining: 1m 52s\n",
      "300:\ttest: 0.7249293\tbest: 0.7284788 (121)\ttotal: 19.8s\tremaining: 1m 26s\n"
     ]
    },
    {
     "name": "stderr",
     "output_type": "stream",
     "text": [
      "[I 2025-02-20 02:08:29,145] Trial 9 finished with value: 0.7284787717938868 and parameters: {'iterations': 1609, 'depth': 4, 'learning_rate': 0.07000213751865492, 'l2_leaf_reg': 0.04374364439939081}. Best is trial 9 with value: 0.7284787717938868.\n"
     ]
    },
    {
     "name": "stdout",
     "output_type": "stream",
     "text": [
      "Stopped by overfitting detector  (300 iterations wait)\n",
      "\n",
      "bestTest = 0.7284787718\n",
      "bestIteration = 121\n",
      "\n",
      "Shrink model to first 122 iterations.\n",
      "저장 완료\n",
      "0:\ttest: 0.7190317\tbest: 0.7190317 (0)\ttotal: 92.5ms\tremaining: 4m 27s\n",
      "300:\ttest: 0.7228746\tbest: 0.7291078 (50)\ttotal: 29.3s\tremaining: 4m 12s\n"
     ]
    },
    {
     "name": "stderr",
     "output_type": "stream",
     "text": [
      "[I 2025-02-20 02:09:03,478] Trial 10 finished with value: 0.7291077985620414 and parameters: {'iterations': 2891, 'depth': 6, 'learning_rate': 0.08607984985807723, 'l2_leaf_reg': 0.00012816553469185968}. Best is trial 10 with value: 0.7291077985620414.\n"
     ]
    },
    {
     "name": "stdout",
     "output_type": "stream",
     "text": [
      "Stopped by overfitting detector  (300 iterations wait)\n",
      "\n",
      "bestTest = 0.7291077986\n",
      "bestIteration = 50\n",
      "\n",
      "Shrink model to first 51 iterations.\n",
      "저장 완료\n",
      "0:\ttest: 0.7190317\tbest: 0.7190317 (0)\ttotal: 107ms\tremaining: 5m 7s\n",
      "300:\ttest: 0.7228449\tbest: 0.7280673 (32)\ttotal: 29.6s\tremaining: 4m 13s\n"
     ]
    },
    {
     "name": "stderr",
     "output_type": "stream",
     "text": [
      "[I 2025-02-20 02:09:36,615] Trial 11 finished with value: 0.7280672547615747 and parameters: {'iterations': 2872, 'depth': 6, 'learning_rate': 0.08799775706891638, 'l2_leaf_reg': 0.00014021053893291646}. Best is trial 10 with value: 0.7291077985620414.\n"
     ]
    },
    {
     "name": "stdout",
     "output_type": "stream",
     "text": [
      "Stopped by overfitting detector  (300 iterations wait)\n",
      "\n",
      "bestTest = 0.7280672548\n",
      "bestIteration = 32\n",
      "\n",
      "Shrink model to first 33 iterations.\n",
      "0:\ttest: 0.7190317\tbest: 0.7190317 (0)\ttotal: 106ms\tremaining: 4m 31s\n",
      "300:\ttest: 0.7234613\tbest: 0.7277418 (53)\ttotal: 29.6s\tremaining: 3m 43s\n"
     ]
    },
    {
     "name": "stderr",
     "output_type": "stream",
     "text": [
      "[I 2025-02-20 02:10:11,714] Trial 12 finished with value: 0.7277418101026881 and parameters: {'iterations': 2568, 'depth': 6, 'learning_rate': 0.0761634637694371, 'l2_leaf_reg': 1.1922848379901636}. Best is trial 10 with value: 0.7291077985620414.\n"
     ]
    },
    {
     "name": "stdout",
     "output_type": "stream",
     "text": [
      "Stopped by overfitting detector  (300 iterations wait)\n",
      "\n",
      "bestTest = 0.7277418101\n",
      "bestIteration = 53\n",
      "\n",
      "Shrink model to first 54 iterations.\n",
      "0:\ttest: 0.7190317\tbest: 0.7190317 (0)\ttotal: 101ms\tremaining: 2m 33s\n",
      "300:\ttest: 0.7239898\tbest: 0.7284667 (67)\ttotal: 29.2s\tremaining: 1m 58s\n"
     ]
    },
    {
     "name": "stderr",
     "output_type": "stream",
     "text": [
      "[I 2025-02-20 02:10:48,068] Trial 13 finished with value: 0.728466665198575 and parameters: {'iterations': 1526, 'depth': 6, 'learning_rate': 0.058551450909013904, 'l2_leaf_reg': 0.00012822537872531778}. Best is trial 10 with value: 0.7291077985620414.\n"
     ]
    },
    {
     "name": "stdout",
     "output_type": "stream",
     "text": [
      "Stopped by overfitting detector  (300 iterations wait)\n",
      "\n",
      "bestTest = 0.7284666652\n",
      "bestIteration = 67\n",
      "\n",
      "Shrink model to first 68 iterations.\n",
      "0:\ttest: 0.7186719\tbest: 0.7186719 (0)\ttotal: 87.7ms\tremaining: 4m 21s\n",
      "300:\ttest: 0.7234057\tbest: 0.7280929 (53)\ttotal: 25.8s\tremaining: 3m 49s\n"
     ]
    },
    {
     "name": "stderr",
     "output_type": "stream",
     "text": [
      "[I 2025-02-20 02:11:18,883] Trial 14 finished with value: 0.7280928934253754 and parameters: {'iterations': 2982, 'depth': 5, 'learning_rate': 0.07905935604767556, 'l2_leaf_reg': 0.026761335821027646}. Best is trial 10 with value: 0.7291077985620414.\n"
     ]
    },
    {
     "name": "stdout",
     "output_type": "stream",
     "text": [
      "Stopped by overfitting detector  (300 iterations wait)\n",
      "\n",
      "bestTest = 0.7280928934\n",
      "bestIteration = 53\n",
      "\n",
      "Shrink model to first 54 iterations.\n",
      "0:\ttest: 0.7215187\tbest: 0.7215187 (0)\ttotal: 117ms\tremaining: 4m 52s\n",
      "300:\ttest: 0.7218191\tbest: 0.7281650 (26)\ttotal: 36.1s\tremaining: 4m 23s\n"
     ]
    },
    {
     "name": "stderr",
     "output_type": "stream",
     "text": [
      "[I 2025-02-20 02:11:58,304] Trial 15 finished with value: 0.7281650287212198 and parameters: {'iterations': 2501, 'depth': 7, 'learning_rate': 0.09955248709610441, 'l2_leaf_reg': 0.002664565684193682}. Best is trial 10 with value: 0.7291077985620414.\n"
     ]
    },
    {
     "name": "stdout",
     "output_type": "stream",
     "text": [
      "Stopped by overfitting detector  (300 iterations wait)\n",
      "\n",
      "bestTest = 0.7281650287\n",
      "bestIteration = 26\n",
      "\n",
      "Shrink model to first 27 iterations.\n",
      "0:\ttest: 0.7160182\tbest: 0.7160182 (0)\ttotal: 73.7ms\tremaining: 1m 38s\n",
      "300:\ttest: 0.7255135\tbest: 0.7272984 (149)\ttotal: 20.5s\tremaining: 1m 11s\n"
     ]
    },
    {
     "name": "stderr",
     "output_type": "stream",
     "text": [
      "[I 2025-02-20 02:12:28,944] Trial 16 finished with value: 0.7272983569122612 and parameters: {'iterations': 1344, 'depth': 4, 'learning_rate': 0.05072240683177215, 'l2_leaf_reg': 0.06091097820609017}. Best is trial 10 with value: 0.7291077985620414.\n"
     ]
    },
    {
     "name": "stdout",
     "output_type": "stream",
     "text": [
      "Stopped by overfitting detector  (300 iterations wait)\n",
      "\n",
      "bestTest = 0.7272983569\n",
      "bestIteration = 149\n",
      "\n",
      "Shrink model to first 150 iterations.\n",
      "0:\ttest: 0.7247004\tbest: 0.7247004 (0)\ttotal: 127ms\tremaining: 4m 6s\n",
      "300:\ttest: 0.7215414\tbest: 0.7281230 (34)\ttotal: 38.9s\tremaining: 3m 32s\n"
     ]
    },
    {
     "name": "stderr",
     "output_type": "stream",
     "text": [
      "[I 2025-02-20 02:13:12,464] Trial 17 finished with value: 0.728123007042576 and parameters: {'iterations': 1941, 'depth': 8, 'learning_rate': 0.06886489490982325, 'l2_leaf_reg': 0.0004420611755869484}. Best is trial 10 with value: 0.7291077985620414.\n"
     ]
    },
    {
     "name": "stdout",
     "output_type": "stream",
     "text": [
      "Stopped by overfitting detector  (300 iterations wait)\n",
      "\n",
      "bestTest = 0.728123007\n",
      "bestIteration = 34\n",
      "\n",
      "Shrink model to first 35 iterations.\n",
      "0:\ttest: 0.7186719\tbest: 0.7186719 (0)\ttotal: 82.5ms\tremaining: 1m 26s\n",
      "300:\ttest: 0.7237131\tbest: 0.7286115 (66)\ttotal: 25s\tremaining: 1m 2s\n"
     ]
    },
    {
     "name": "stderr",
     "output_type": "stream",
     "text": [
      "[I 2025-02-20 02:13:43,118] Trial 18 finished with value: 0.7286114599196769 and parameters: {'iterations': 1051, 'depth': 5, 'learning_rate': 0.0867919000139665, 'l2_leaf_reg': 1.2972618567849967}. Best is trial 10 with value: 0.7291077985620414.\n"
     ]
    },
    {
     "name": "stdout",
     "output_type": "stream",
     "text": [
      "Stopped by overfitting detector  (300 iterations wait)\n",
      "\n",
      "bestTest = 0.7286114599\n",
      "bestIteration = 66\n",
      "\n",
      "Shrink model to first 67 iterations.\n",
      "0:\ttest: 0.7190317\tbest: 0.7190317 (0)\ttotal: 95.8ms\tremaining: 1m 38s\n",
      "300:\ttest: 0.7237545\tbest: 0.7271980 (54)\ttotal: 30.3s\tremaining: 1m 13s\n"
     ]
    },
    {
     "name": "stderr",
     "output_type": "stream",
     "text": [
      "[I 2025-02-20 02:14:19,481] Trial 19 finished with value: 0.7271979821589365 and parameters: {'iterations': 1026, 'depth': 6, 'learning_rate': 0.08732644306235746, 'l2_leaf_reg': 1.3732267241391563}. Best is trial 10 with value: 0.7291077985620414.\n",
      "[I 2025-02-20 02:14:19,483] A new study created in memory with name: no-name-1e9bed05-7899-47b0-aad1-add7b065526d\n"
     ]
    },
    {
     "name": "stdout",
     "output_type": "stream",
     "text": [
      "Stopped by overfitting detector  (300 iterations wait)\n",
      "\n",
      "bestTest = 0.7271979822\n",
      "bestIteration = 54\n",
      "\n",
      "Shrink model to first 55 iterations.\n"
     ]
    },
    {
     "name": "stderr",
     "output_type": "stream",
     "text": [
      "[I 2025-02-20 02:14:43,582] Trial 0 finished with value: 0.7232546508405102 and parameters: {'objective': 'binary', 'metric': 'auc', 'random_state': 42, 'verbose': -1, 'learning_rate': 0.015355286838886862, 'n_estimators': 1907, 'min_child_samples': 40, 'subsample': 0.8, 'colsample_bytree': 0.5}. Best is trial 0 with value: 0.7232546508405102.\n",
      "[I 2025-02-20 02:14:45,994] Trial 1 finished with value: 0.7275997432369418 and parameters: {'objective': 'binary', 'metric': 'auc', 'random_state': 42, 'verbose': -1, 'learning_rate': 0.00797854234707418, 'n_estimators': 210, 'min_child_samples': 45, 'subsample': 0.8, 'colsample_bytree': 0.9}. Best is trial 1 with value: 0.7275997432369418.\n",
      "[I 2025-02-20 02:15:08,467] Trial 2 finished with value: 0.7249992394167492 and parameters: {'objective': 'binary', 'metric': 'auc', 'random_state': 42, 'verbose': -1, 'learning_rate': 0.005318033256270142, 'n_estimators': 1943, 'min_child_samples': 45, 'subsample': 0.6, 'colsample_bytree': 0.6}. Best is trial 1 with value: 0.7275997432369418.\n",
      "[I 2025-02-20 02:15:16,724] Trial 3 finished with value: 0.7279767987603291 and parameters: {'objective': 'binary', 'metric': 'auc', 'random_state': 42, 'verbose': -1, 'learning_rate': 0.008661333735273127, 'n_estimators': 678, 'min_child_samples': 30, 'subsample': 0.7, 'colsample_bytree': 0.6}. Best is trial 3 with value: 0.7279767987603291.\n",
      "[I 2025-02-20 02:15:20,758] Trial 4 finished with value: 0.7242057670451709 and parameters: {'objective': 'binary', 'metric': 'auc', 'random_state': 42, 'verbose': -1, 'learning_rate': 0.03126143958203108, 'n_estimators': 365, 'min_child_samples': 20, 'subsample': 0.7, 'colsample_bytree': 0.7}. Best is trial 3 with value: 0.7279767987603291.\n",
      "[I 2025-02-20 02:15:27,055] Trial 5 finished with value: 0.7228855803493209 and parameters: {'objective': 'binary', 'metric': 'auc', 'random_state': 42, 'verbose': -1, 'learning_rate': 0.05254210669345883, 'n_estimators': 479, 'min_child_samples': 30, 'subsample': 0.8, 'colsample_bytree': 0.5}. Best is trial 3 with value: 0.7279767987603291.\n",
      "[I 2025-02-20 02:15:31,612] Trial 6 finished with value: 0.7239301583579991 and parameters: {'objective': 'binary', 'metric': 'auc', 'random_state': 42, 'verbose': -1, 'learning_rate': 0.030860579740535368, 'n_estimators': 424, 'min_child_samples': 10, 'subsample': 1.0, 'colsample_bytree': 1.0}. Best is trial 3 with value: 0.7279767987603291.\n",
      "[I 2025-02-20 02:15:38,191] Trial 7 finished with value: 0.7218235869496826 and parameters: {'objective': 'binary', 'metric': 'auc', 'random_state': 42, 'verbose': -1, 'learning_rate': 0.05632733481673016, 'n_estimators': 679, 'min_child_samples': 10, 'subsample': 0.9, 'colsample_bytree': 0.7}. Best is trial 3 with value: 0.7279767987603291.\n",
      "[I 2025-02-20 02:15:50,476] Trial 8 finished with value: 0.7265922672376416 and parameters: {'objective': 'binary', 'metric': 'auc', 'random_state': 42, 'verbose': -1, 'learning_rate': 0.007206848764305203, 'n_estimators': 1041, 'min_child_samples': 10, 'subsample': 1.0, 'colsample_bytree': 0.6}. Best is trial 3 with value: 0.7279767987603291.\n",
      "[I 2025-02-20 02:15:58,196] Trial 9 finished with value: 0.7232482183431651 and parameters: {'objective': 'binary', 'metric': 'auc', 'random_state': 42, 'verbose': -1, 'learning_rate': 0.036385753170854684, 'n_estimators': 692, 'min_child_samples': 30, 'subsample': 0.8, 'colsample_bytree': 0.6}. Best is trial 3 with value: 0.7279767987603291.\n",
      "[I 2025-02-20 02:16:11,971] Trial 10 finished with value: 0.7239271049070989 and parameters: {'objective': 'binary', 'metric': 'auc', 'random_state': 42, 'verbose': -1, 'learning_rate': 0.01491283465543688, 'n_estimators': 1430, 'min_child_samples': 20, 'subsample': 0.5, 'colsample_bytree': 0.8}. Best is trial 3 with value: 0.7279767987603291.\n",
      "[I 2025-02-20 02:16:13,479] Trial 11 finished with value: 0.7279659826351637 and parameters: {'objective': 'binary', 'metric': 'auc', 'random_state': 42, 'verbose': -1, 'learning_rate': 0.009741409532914453, 'n_estimators': 118, 'min_child_samples': 50, 'subsample': 0.7, 'colsample_bytree': 0.9}. Best is trial 3 with value: 0.7279767987603291.\n",
      "[I 2025-02-20 02:16:14,972] Trial 12 finished with value: 0.7281118176737376 and parameters: {'objective': 'binary', 'metric': 'auc', 'random_state': 42, 'verbose': -1, 'learning_rate': 0.011594403956910011, 'n_estimators': 120, 'min_child_samples': 35, 'subsample': 0.6, 'colsample_bytree': 0.9}. Best is trial 12 with value: 0.7281118176737376.\n",
      "[I 2025-02-20 02:16:25,575] Trial 13 finished with value: 0.7241898168341616 and parameters: {'objective': 'binary', 'metric': 'auc', 'random_state': 42, 'verbose': -1, 'learning_rate': 0.013838292935079084, 'n_estimators': 1045, 'min_child_samples': 35, 'subsample': 0.5, 'colsample_bytree': 0.8}. Best is trial 12 with value: 0.7281118176737376.\n",
      "[I 2025-02-20 02:16:33,295] Trial 14 finished with value: 0.7237720658383733 and parameters: {'objective': 'binary', 'metric': 'auc', 'random_state': 42, 'verbose': -1, 'learning_rate': 0.0199544877716342, 'n_estimators': 757, 'min_child_samples': 25, 'subsample': 0.6, 'colsample_bytree': 1.0}. Best is trial 12 with value: 0.7281118176737376.\n",
      "[I 2025-02-20 02:16:46,712] Trial 15 finished with value: 0.715759119778334 and parameters: {'objective': 'binary', 'metric': 'auc', 'random_state': 42, 'verbose': -1, 'learning_rate': 0.0902334606102013, 'n_estimators': 1567, 'min_child_samples': 35, 'subsample': 0.6, 'colsample_bytree': 0.9}. Best is trial 12 with value: 0.7281118176737376.\n",
      "[I 2025-02-20 02:16:56,329] Trial 16 finished with value: 0.7253290359380371 and parameters: {'objective': 'binary', 'metric': 'auc', 'random_state': 42, 'verbose': -1, 'learning_rate': 0.010523790308088293, 'n_estimators': 892, 'min_child_samples': 25, 'subsample': 0.7, 'colsample_bytree': 0.7}. Best is trial 12 with value: 0.7281118176737376.\n",
      "[I 2025-02-20 02:17:09,914] Trial 17 finished with value: 0.7267528255479163 and parameters: {'objective': 'binary', 'metric': 'auc', 'random_state': 42, 'verbose': -1, 'learning_rate': 0.005551093637255132, 'n_estimators': 1281, 'min_child_samples': 35, 'subsample': 0.6, 'colsample_bytree': 0.8}. Best is trial 12 with value: 0.7281118176737376.\n",
      "[I 2025-02-20 02:17:15,443] Trial 18 finished with value: 0.7279088842945328 and parameters: {'objective': 'binary', 'metric': 'auc', 'random_state': 42, 'verbose': -1, 'learning_rate': 0.011078349020591462, 'n_estimators': 506, 'min_child_samples': 40, 'subsample': 0.5, 'colsample_bytree': 0.9}. Best is trial 12 with value: 0.7281118176737376.\n",
      "[I 2025-02-20 02:17:18,751] Trial 19 finished with value: 0.7273628049767105 and parameters: {'objective': 'binary', 'metric': 'auc', 'random_state': 42, 'verbose': -1, 'learning_rate': 0.021762196653561862, 'n_estimators': 264, 'min_child_samples': 20, 'subsample': 0.9, 'colsample_bytree': 0.6}. Best is trial 12 with value: 0.7281118176737376.\n"
     ]
    },
    {
     "name": "stdout",
     "output_type": "stream",
     "text": [
      "Cat val score : 0.7291077985620414\n",
      "LGBM val score : 0.7281118176737376\n",
      "Ensemble val score : 0.7301572088850831\n",
      "==================================================\n"
     ]
    },
    {
     "name": "stderr",
     "output_type": "stream",
     "text": [
      "[I 2025-02-20 02:19:55,110] A new study created in memory with name: no-name-9e1c1800-9a60-4cf5-b927-25571945d788\n"
     ]
    },
    {
     "name": "stdout",
     "output_type": "stream",
     "text": [
      "After SMOTENC:\n",
      "[171110 171110]\n",
      "X_train shape: (342220, 66)\n",
      "y_train shape: (342220,)\n",
      "0:\ttest: 0.7131915\tbest: 0.7131915 (0)\ttotal: 189ms\tremaining: 5m 30s\n",
      "300:\ttest: 0.7087181\tbest: 0.7148724 (23)\ttotal: 57.9s\tremaining: 4m 38s\n"
     ]
    },
    {
     "name": "stderr",
     "output_type": "stream",
     "text": [
      "[I 2025-02-20 02:20:57,775] Trial 0 finished with value: 0.71487238309327 and parameters: {'iterations': 1749, 'depth': 10, 'learning_rate': 0.07453942447208349, 'l2_leaf_reg': 0.39079671568228835}. Best is trial 0 with value: 0.71487238309327.\n"
     ]
    },
    {
     "name": "stdout",
     "output_type": "stream",
     "text": [
      "Stopped by overfitting detector  (300 iterations wait)\n",
      "\n",
      "bestTest = 0.7148723831\n",
      "bestIteration = 23\n",
      "\n",
      "Shrink model to first 24 iterations.\n",
      "저장 완료\n",
      "0:\ttest: 0.7062165\tbest: 0.7062165 (0)\ttotal: 81.9ms\tremaining: 1m 47s\n",
      "300:\ttest: 0.7132870\tbest: 0.7134627 (283)\ttotal: 24.4s\tremaining: 1m 21s\n",
      "600:\ttest: 0.7138687\tbest: 0.7145794 (395)\ttotal: 49.8s\tremaining: 58.9s\n"
     ]
    },
    {
     "name": "stderr",
     "output_type": "stream",
     "text": [
      "[I 2025-02-20 02:21:55,875] Trial 1 finished with value: 0.7145794021331444 and parameters: {'iterations': 1312, 'depth': 5, 'learning_rate': 0.010517943155978949, 'l2_leaf_reg': 15.741890047456648}. Best is trial 0 with value: 0.71487238309327.\n"
     ]
    },
    {
     "name": "stdout",
     "output_type": "stream",
     "text": [
      "Stopped by overfitting detector  (300 iterations wait)\n",
      "\n",
      "bestTest = 0.7145794021\n",
      "bestIteration = 395\n",
      "\n",
      "Shrink model to first 396 iterations.\n",
      "0:\ttest: 0.7124035\tbest: 0.7124035 (0)\ttotal: 137ms\tremaining: 5m 2s\n"
     ]
    },
    {
     "name": "stderr",
     "output_type": "stream",
     "text": [
      "[I 2025-02-20 02:22:34,383] Trial 2 finished with value: 0.715567582929755 and parameters: {'iterations': 2202, 'depth': 8, 'learning_rate': 0.006955526958101232, 'l2_leaf_reg': 65.98711072054076}. Best is trial 2 with value: 0.715567582929755.\n"
     ]
    },
    {
     "name": "stdout",
     "output_type": "stream",
     "text": [
      "300:\ttest: 0.7142556\tbest: 0.7155676 (1)\ttotal: 38.2s\tremaining: 4m 1s\n",
      "Stopped by overfitting detector  (300 iterations wait)\n",
      "\n",
      "bestTest = 0.7155675829\n",
      "bestIteration = 1\n",
      "\n",
      "Shrink model to first 2 iterations.\n",
      "저장 완료\n",
      "0:\ttest: 0.7061447\tbest: 0.7061447 (0)\ttotal: 83ms\tremaining: 3m 41s\n",
      "300:\ttest: 0.7143949\tbest: 0.7152280 (157)\ttotal: 24.5s\tremaining: 3m 12s\n"
     ]
    },
    {
     "name": "stderr",
     "output_type": "stream",
     "text": [
      "[I 2025-02-20 02:23:12,365] Trial 3 finished with value: 0.7152280387468919 and parameters: {'iterations': 2665, 'depth': 5, 'learning_rate': 0.02227337188467456, 'l2_leaf_reg': 0.0012601639723276807}. Best is trial 2 with value: 0.715567582929755.\n"
     ]
    },
    {
     "name": "stdout",
     "output_type": "stream",
     "text": [
      "Stopped by overfitting detector  (300 iterations wait)\n",
      "\n",
      "bestTest = 0.7152280387\n",
      "bestIteration = 157\n",
      "\n",
      "Shrink model to first 158 iterations.\n",
      "0:\ttest: 0.7131955\tbest: 0.7131955 (0)\ttotal: 111ms\tremaining: 2m 57s\n",
      "300:\ttest: 0.7121597\tbest: 0.7165884 (48)\ttotal: 33.7s\tremaining: 2m 26s\n"
     ]
    },
    {
     "name": "stderr",
     "output_type": "stream",
     "text": [
      "[I 2025-02-20 02:23:51,569] Trial 4 finished with value: 0.7165883917381363 and parameters: {'iterations': 1608, 'depth': 7, 'learning_rate': 0.046034776771001, 'l2_leaf_reg': 0.005589524205217926}. Best is trial 4 with value: 0.7165883917381363.\n"
     ]
    },
    {
     "name": "stdout",
     "output_type": "stream",
     "text": [
      "Stopped by overfitting detector  (300 iterations wait)\n",
      "\n",
      "bestTest = 0.7165883917\n",
      "bestIteration = 48\n",
      "\n",
      "Shrink model to first 49 iterations.\n",
      "저장 완료\n",
      "0:\ttest: 0.7013651\tbest: 0.7013651 (0)\ttotal: 67.8ms\tremaining: 2m 30s\n",
      "300:\ttest: 0.7137141\tbest: 0.7142622 (162)\ttotal: 19.1s\tremaining: 2m 1s\n"
     ]
    },
    {
     "name": "stderr",
     "output_type": "stream",
     "text": [
      "[I 2025-02-20 02:24:21,401] Trial 5 finished with value: 0.7142621804982564 and parameters: {'iterations': 2224, 'depth': 4, 'learning_rate': 0.032753741610845724, 'l2_leaf_reg': 0.01578232781079559}. Best is trial 4 with value: 0.7165883917381363.\n"
     ]
    },
    {
     "name": "stdout",
     "output_type": "stream",
     "text": [
      "Stopped by overfitting detector  (300 iterations wait)\n",
      "\n",
      "bestTest = 0.7142621805\n",
      "bestIteration = 162\n",
      "\n",
      "Shrink model to first 163 iterations.\n",
      "0:\ttest: 0.7096454\tbest: 0.7096454 (0)\ttotal: 136ms\tremaining: 4m 19s\n",
      "300:\ttest: 0.7124035\tbest: 0.7159586 (84)\ttotal: 44.1s\tremaining: 3m 56s\n"
     ]
    },
    {
     "name": "stderr",
     "output_type": "stream",
     "text": [
      "[I 2025-02-20 02:25:18,106] Trial 6 finished with value: 0.7159586028049956 and parameters: {'iterations': 1912, 'depth': 9, 'learning_rate': 0.023969009305044177, 'l2_leaf_reg': 0.12173252504194051}. Best is trial 4 with value: 0.7165883917381363.\n"
     ]
    },
    {
     "name": "stdout",
     "output_type": "stream",
     "text": [
      "Stopped by overfitting detector  (300 iterations wait)\n",
      "\n",
      "bestTest = 0.7159586028\n",
      "bestIteration = 84\n",
      "\n",
      "Shrink model to first 85 iterations.\n",
      "0:\ttest: 0.7013365\tbest: 0.7013365 (0)\ttotal: 71.2ms\tremaining: 2m 35s\n",
      "300:\ttest: 0.7120766\tbest: 0.7147004 (55)\ttotal: 20s\tremaining: 2m 5s\n"
     ]
    },
    {
     "name": "stderr",
     "output_type": "stream",
     "text": [
      "[I 2025-02-20 02:25:41,944] Trial 7 finished with value: 0.7147003751728915 and parameters: {'iterations': 2185, 'depth': 4, 'learning_rate': 0.06271676093063665, 'l2_leaf_reg': 0.0010547383621352044}. Best is trial 4 with value: 0.7165883917381363.\n"
     ]
    },
    {
     "name": "stdout",
     "output_type": "stream",
     "text": [
      "Stopped by overfitting detector  (300 iterations wait)\n",
      "\n",
      "bestTest = 0.7147003752\n",
      "bestIteration = 55\n",
      "\n",
      "Shrink model to first 56 iterations.\n",
      "0:\ttest: 0.7132621\tbest: 0.7132621 (0)\ttotal: 165ms\tremaining: 3m 5s\n",
      "300:\ttest: 0.7100055\tbest: 0.7164457 (20)\ttotal: 1m\tremaining: 2m 45s\n"
     ]
    },
    {
     "name": "stderr",
     "output_type": "stream",
     "text": [
      "[I 2025-02-20 02:26:46,285] Trial 8 finished with value: 0.7164456918419629 and parameters: {'iterations': 1130, 'depth': 10, 'learning_rate': 0.09673504314208314, 'l2_leaf_reg': 7.085721663941605}. Best is trial 4 with value: 0.7165883917381363.\n"
     ]
    },
    {
     "name": "stdout",
     "output_type": "stream",
     "text": [
      "Stopped by overfitting detector  (300 iterations wait)\n",
      "\n",
      "bestTest = 0.7164456918\n",
      "bestIteration = 20\n",
      "\n",
      "Shrink model to first 21 iterations.\n",
      "0:\ttest: 0.7013651\tbest: 0.7013651 (0)\ttotal: 70.5ms\tremaining: 1m 53s\n",
      "300:\ttest: 0.7121171\tbest: 0.7146682 (116)\ttotal: 19.6s\tremaining: 1m 25s\n"
     ]
    },
    {
     "name": "stderr",
     "output_type": "stream",
     "text": [
      "[I 2025-02-20 02:27:13,680] Trial 9 finished with value: 0.7146682078292519 and parameters: {'iterations': 1609, 'depth': 4, 'learning_rate': 0.07000213751865492, 'l2_leaf_reg': 0.04374364439939081}. Best is trial 4 with value: 0.7165883917381363.\n"
     ]
    },
    {
     "name": "stdout",
     "output_type": "stream",
     "text": [
      "Stopped by overfitting detector  (300 iterations wait)\n",
      "\n",
      "bestTest = 0.7146682078\n",
      "bestIteration = 116\n",
      "\n",
      "Shrink model to first 117 iterations.\n",
      "0:\ttest: 0.7131707\tbest: 0.7131707 (0)\ttotal: 110ms\tremaining: 5m 17s\n",
      "300:\ttest: 0.7120557\tbest: 0.7163480 (45)\ttotal: 32.9s\tremaining: 4m 42s\n"
     ]
    },
    {
     "name": "stderr",
     "output_type": "stream",
     "text": [
      "[I 2025-02-20 02:27:51,893] Trial 10 finished with value: 0.7163479944566692 and parameters: {'iterations': 2891, 'depth': 7, 'learning_rate': 0.04584783385796229, 'l2_leaf_reg': 0.00012816553469185968}. Best is trial 4 with value: 0.7165883917381363.\n"
     ]
    },
    {
     "name": "stdout",
     "output_type": "stream",
     "text": [
      "Stopped by overfitting detector  (300 iterations wait)\n",
      "\n",
      "bestTest = 0.7163479945\n",
      "bestIteration = 45\n",
      "\n",
      "Shrink model to first 46 iterations.\n",
      "0:\ttest: 0.7132010\tbest: 0.7132010 (0)\ttotal: 112ms\tremaining: 1m 58s\n",
      "300:\ttest: 0.7114114\tbest: 0.7159576 (20)\ttotal: 34.1s\tremaining: 1m 25s\n"
     ]
    },
    {
     "name": "stderr",
     "output_type": "stream",
     "text": [
      "[I 2025-02-20 02:28:28,346] Trial 11 finished with value: 0.7159575861580855 and parameters: {'iterations': 1053, 'depth': 7, 'learning_rate': 0.0978834300631911, 'l2_leaf_reg': 2.7595819275754354}. Best is trial 4 with value: 0.7165883917381363.\n"
     ]
    },
    {
     "name": "stdout",
     "output_type": "stream",
     "text": [
      "Stopped by overfitting detector  (300 iterations wait)\n",
      "\n",
      "bestTest = 0.7159575862\n",
      "bestIteration = 20\n",
      "\n",
      "Shrink model to first 21 iterations.\n",
      "0:\ttest: 0.7123135\tbest: 0.7123135 (0)\ttotal: 123ms\tremaining: 2m 46s\n",
      "300:\ttest: 0.7103702\tbest: 0.7160518 (20)\ttotal: 38.9s\tremaining: 2m 15s\n"
     ]
    },
    {
     "name": "stderr",
     "output_type": "stream",
     "text": [
      "[I 2025-02-20 02:29:10,172] Trial 12 finished with value: 0.7160517888196258 and parameters: {'iterations': 1347, 'depth': 8, 'learning_rate': 0.09927839108496424, 'l2_leaf_reg': 1.5238260374413366}. Best is trial 4 with value: 0.7165883917381363.\n"
     ]
    },
    {
     "name": "stdout",
     "output_type": "stream",
     "text": [
      "Stopped by overfitting detector  (300 iterations wait)\n",
      "\n",
      "bestTest = 0.7160517888\n",
      "bestIteration = 20\n",
      "\n",
      "Shrink model to first 21 iterations.\n",
      "0:\ttest: 0.7131742\tbest: 0.7131742 (0)\ttotal: 177ms\tremaining: 3m 11s\n",
      "300:\ttest: 0.7097146\tbest: 0.7148935 (51)\ttotal: 55.9s\tremaining: 2m 25s\n"
     ]
    },
    {
     "name": "stderr",
     "output_type": "stream",
     "text": [
      "[I 2025-02-20 02:30:15,986] Trial 13 finished with value: 0.7148934546889925 and parameters: {'iterations': 1082, 'depth': 10, 'learning_rate': 0.048784330760991625, 'l2_leaf_reg': 0.008123019592628818}. Best is trial 4 with value: 0.7165883917381363.\n"
     ]
    },
    {
     "name": "stdout",
     "output_type": "stream",
     "text": [
      "Stopped by overfitting detector  (300 iterations wait)\n",
      "\n",
      "bestTest = 0.7148934547\n",
      "bestIteration = 51\n",
      "\n",
      "Shrink model to first 52 iterations.\n",
      "0:\ttest: 0.7056383\tbest: 0.7056383 (0)\ttotal: 94.8ms\tremaining: 2m 20s\n",
      "300:\ttest: 0.7119358\tbest: 0.7160162 (38)\ttotal: 28.9s\tremaining: 1m 54s\n"
     ]
    },
    {
     "name": "stderr",
     "output_type": "stream",
     "text": [
      "[I 2025-02-20 02:30:48,740] Trial 14 finished with value: 0.7160161863213875 and parameters: {'iterations': 1488, 'depth': 6, 'learning_rate': 0.08313408480709152, 'l2_leaf_reg': 6.286925111326557}. Best is trial 4 with value: 0.7165883917381363.\n"
     ]
    },
    {
     "name": "stdout",
     "output_type": "stream",
     "text": [
      "Stopped by overfitting detector  (300 iterations wait)\n",
      "\n",
      "bestTest = 0.7160161863\n",
      "bestIteration = 38\n",
      "\n",
      "Shrink model to first 39 iterations.\n",
      "0:\ttest: 0.7123092\tbest: 0.7123092 (0)\ttotal: 130ms\tremaining: 2m 41s\n",
      "300:\ttest: 0.7112971\tbest: 0.7150912 (18)\ttotal: 37.7s\tremaining: 1m 57s\n"
     ]
    },
    {
     "name": "stderr",
     "output_type": "stream",
     "text": [
      "[I 2025-02-20 02:31:28,889] Trial 15 finished with value: 0.7150912044268365 and parameters: {'iterations': 1243, 'depth': 8, 'learning_rate': 0.05914791267533459, 'l2_leaf_reg': 0.2622695738832672}. Best is trial 4 with value: 0.7165883917381363.\n"
     ]
    },
    {
     "name": "stdout",
     "output_type": "stream",
     "text": [
      "Stopped by overfitting detector  (300 iterations wait)\n",
      "\n",
      "bestTest = 0.7150912044\n",
      "bestIteration = 18\n",
      "\n",
      "Shrink model to first 19 iterations.\n",
      "0:\ttest: 0.7097973\tbest: 0.7097973 (0)\ttotal: 135ms\tremaining: 3m 48s\n",
      "300:\ttest: 0.7120483\tbest: 0.7148728 (61)\ttotal: 43s\tremaining: 3m 19s\n"
     ]
    },
    {
     "name": "stderr",
     "output_type": "stream",
     "text": [
      "[I 2025-02-20 02:32:21,148] Trial 16 finished with value: 0.714872835818847 and parameters: {'iterations': 1695, 'depth': 9, 'learning_rate': 0.03694705348047124, 'l2_leaf_reg': 94.64533014403685}. Best is trial 4 with value: 0.7165883917381363.\n"
     ]
    },
    {
     "name": "stdout",
     "output_type": "stream",
     "text": [
      "Stopped by overfitting detector  (300 iterations wait)\n",
      "\n",
      "bestTest = 0.7148728358\n",
      "bestIteration = 61\n",
      "\n",
      "Shrink model to first 62 iterations.\n",
      "0:\ttest: 0.7055753\tbest: 0.7055753 (0)\ttotal: 105ms\tremaining: 2m 35s\n",
      "300:\ttest: 0.7110852\tbest: 0.7157223 (31)\ttotal: 29.1s\tremaining: 1m 54s\n"
     ]
    },
    {
     "name": "stderr",
     "output_type": "stream",
     "text": [
      "[I 2025-02-20 02:32:53,565] Trial 17 finished with value: 0.7157223316803236 and parameters: {'iterations': 1481, 'depth': 6, 'learning_rate': 0.08645283934224565, 'l2_leaf_reg': 0.001800899469518755}. Best is trial 4 with value: 0.7165883917381363.\n"
     ]
    },
    {
     "name": "stdout",
     "output_type": "stream",
     "text": [
      "Stopped by overfitting detector  (300 iterations wait)\n",
      "\n",
      "bestTest = 0.7157223317\n",
      "bestIteration = 31\n",
      "\n",
      "Shrink model to first 32 iterations.\n",
      "0:\ttest: 0.7096441\tbest: 0.7096441 (0)\ttotal: 139ms\tremaining: 4m 34s\n",
      "300:\ttest: 0.7118235\tbest: 0.7157139 (56)\ttotal: 43.2s\tremaining: 3m 59s\n"
     ]
    },
    {
     "name": "stderr",
     "output_type": "stream",
     "text": [
      "[I 2025-02-20 02:33:45,611] Trial 18 finished with value: 0.7157138808028836 and parameters: {'iterations': 1968, 'depth': 9, 'learning_rate': 0.04015627924463417, 'l2_leaf_reg': 0.737975784896599}. Best is trial 4 with value: 0.7165883917381363.\n"
     ]
    },
    {
     "name": "stdout",
     "output_type": "stream",
     "text": [
      "Stopped by overfitting detector  (300 iterations wait)\n",
      "\n",
      "bestTest = 0.7157138808\n",
      "bestIteration = 56\n",
      "\n",
      "Shrink model to first 57 iterations.\n",
      "0:\ttest: 0.7055753\tbest: 0.7055753 (0)\ttotal: 95.2ms\tremaining: 1m 37s\n",
      "300:\ttest: 0.7122014\tbest: 0.7157494 (60)\ttotal: 28.7s\tremaining: 1m 9s\n"
     ]
    },
    {
     "name": "stderr",
     "output_type": "stream",
     "text": [
      "[I 2025-02-20 02:34:20,307] Trial 19 finished with value: 0.7157494475596289 and parameters: {'iterations': 1026, 'depth': 6, 'learning_rate': 0.06052572572180504, 'l2_leaf_reg': 0.00025631809124133074}. Best is trial 4 with value: 0.7165883917381363.\n",
      "[I 2025-02-20 02:34:20,309] A new study created in memory with name: no-name-8f26ceed-6a32-46ed-8f48-a7c4e8933d21\n"
     ]
    },
    {
     "name": "stdout",
     "output_type": "stream",
     "text": [
      "Stopped by overfitting detector  (300 iterations wait)\n",
      "\n",
      "bestTest = 0.7157494476\n",
      "bestIteration = 60\n",
      "\n",
      "Shrink model to first 61 iterations.\n"
     ]
    },
    {
     "name": "stderr",
     "output_type": "stream",
     "text": [
      "[I 2025-02-20 02:34:43,797] Trial 0 finished with value: 0.7109471729138322 and parameters: {'objective': 'binary', 'metric': 'auc', 'random_state': 42, 'verbose': -1, 'learning_rate': 0.015355286838886862, 'n_estimators': 1907, 'min_child_samples': 40, 'subsample': 0.8, 'colsample_bytree': 0.5}. Best is trial 0 with value: 0.7109471729138322.\n",
      "[I 2025-02-20 02:34:46,199] Trial 1 finished with value: 0.7173255957713716 and parameters: {'objective': 'binary', 'metric': 'auc', 'random_state': 42, 'verbose': -1, 'learning_rate': 0.00797854234707418, 'n_estimators': 210, 'min_child_samples': 45, 'subsample': 0.8, 'colsample_bytree': 0.9}. Best is trial 1 with value: 0.7173255957713716.\n",
      "[I 2025-02-20 02:35:08,514] Trial 2 finished with value: 0.7123261591367257 and parameters: {'objective': 'binary', 'metric': 'auc', 'random_state': 42, 'verbose': -1, 'learning_rate': 0.005318033256270142, 'n_estimators': 1943, 'min_child_samples': 45, 'subsample': 0.6, 'colsample_bytree': 0.6}. Best is trial 1 with value: 0.7173255957713716.\n",
      "[I 2025-02-20 02:35:16,521] Trial 3 finished with value: 0.7148371062397451 and parameters: {'objective': 'binary', 'metric': 'auc', 'random_state': 42, 'verbose': -1, 'learning_rate': 0.008661333735273127, 'n_estimators': 678, 'min_child_samples': 30, 'subsample': 0.7, 'colsample_bytree': 0.6}. Best is trial 1 with value: 0.7173255957713716.\n",
      "[I 2025-02-20 02:35:20,481] Trial 4 finished with value: 0.7117191216494753 and parameters: {'objective': 'binary', 'metric': 'auc', 'random_state': 42, 'verbose': -1, 'learning_rate': 0.03126143958203108, 'n_estimators': 365, 'min_child_samples': 20, 'subsample': 0.7, 'colsample_bytree': 0.7}. Best is trial 1 with value: 0.7173255957713716.\n",
      "[I 2025-02-20 02:35:26,675] Trial 5 finished with value: 0.7108486693593089 and parameters: {'objective': 'binary', 'metric': 'auc', 'random_state': 42, 'verbose': -1, 'learning_rate': 0.05254210669345883, 'n_estimators': 479, 'min_child_samples': 30, 'subsample': 0.8, 'colsample_bytree': 0.5}. Best is trial 1 with value: 0.7173255957713716.\n",
      "[I 2025-02-20 02:35:31,178] Trial 6 finished with value: 0.7108785333622929 and parameters: {'objective': 'binary', 'metric': 'auc', 'random_state': 42, 'verbose': -1, 'learning_rate': 0.030860579740535368, 'n_estimators': 424, 'min_child_samples': 10, 'subsample': 1.0, 'colsample_bytree': 1.0}. Best is trial 1 with value: 0.7173255957713716.\n",
      "[I 2025-02-20 02:35:37,621] Trial 7 finished with value: 0.7101433427664929 and parameters: {'objective': 'binary', 'metric': 'auc', 'random_state': 42, 'verbose': -1, 'learning_rate': 0.05632733481673016, 'n_estimators': 679, 'min_child_samples': 10, 'subsample': 0.9, 'colsample_bytree': 0.7}. Best is trial 1 with value: 0.7173255957713716.\n",
      "[I 2025-02-20 02:35:50,029] Trial 8 finished with value: 0.7137987880711036 and parameters: {'objective': 'binary', 'metric': 'auc', 'random_state': 42, 'verbose': -1, 'learning_rate': 0.007206848764305203, 'n_estimators': 1041, 'min_child_samples': 10, 'subsample': 1.0, 'colsample_bytree': 0.6}. Best is trial 1 with value: 0.7173255957713716.\n",
      "[I 2025-02-20 02:35:57,774] Trial 9 finished with value: 0.7112822891228486 and parameters: {'objective': 'binary', 'metric': 'auc', 'random_state': 42, 'verbose': -1, 'learning_rate': 0.036385753170854684, 'n_estimators': 692, 'min_child_samples': 30, 'subsample': 0.8, 'colsample_bytree': 0.6}. Best is trial 1 with value: 0.7173255957713716.\n",
      "[I 2025-02-20 02:35:59,190] Trial 10 finished with value: 0.7170931331013356 and parameters: {'objective': 'binary', 'metric': 'auc', 'random_state': 42, 'verbose': -1, 'learning_rate': 0.014579928528334861, 'n_estimators': 111, 'min_child_samples': 50, 'subsample': 0.5, 'colsample_bytree': 1.0}. Best is trial 1 with value: 0.7173255957713716.\n",
      "[I 2025-02-20 02:36:00,750] Trial 11 finished with value: 0.7170882126891418 and parameters: {'objective': 'binary', 'metric': 'auc', 'random_state': 42, 'verbose': -1, 'learning_rate': 0.01426509269778552, 'n_estimators': 127, 'min_child_samples': 50, 'subsample': 0.5, 'colsample_bytree': 1.0}. Best is trial 1 with value: 0.7173255957713716.\n",
      "[I 2025-02-20 02:36:02,257] Trial 12 finished with value: 0.7177287637829324 and parameters: {'objective': 'binary', 'metric': 'auc', 'random_state': 42, 'verbose': -1, 'learning_rate': 0.012240096883321323, 'n_estimators': 116, 'min_child_samples': 40, 'subsample': 0.5, 'colsample_bytree': 0.9}. Best is trial 12 with value: 0.7177287637829324.\n",
      "[I 2025-02-20 02:36:16,343] Trial 13 finished with value: 0.7111891269358804 and parameters: {'objective': 'binary', 'metric': 'auc', 'random_state': 42, 'verbose': -1, 'learning_rate': 0.010263697175730098, 'n_estimators': 1411, 'min_child_samples': 40, 'subsample': 0.6, 'colsample_bytree': 0.9}. Best is trial 12 with value: 0.7177287637829324.\n",
      "[I 2025-02-20 02:36:26,957] Trial 14 finished with value: 0.7106017353559121 and parameters: {'objective': 'binary', 'metric': 'auc', 'random_state': 42, 'verbose': -1, 'learning_rate': 0.0199166143861953, 'n_estimators': 1103, 'min_child_samples': 40, 'subsample': 0.9, 'colsample_bytree': 0.9}. Best is trial 12 with value: 0.7177287637829324.\n",
      "[I 2025-02-20 02:36:28,292] Trial 15 finished with value: 0.7118022047354364 and parameters: {'objective': 'binary', 'metric': 'auc', 'random_state': 42, 'verbose': -1, 'learning_rate': 0.0902334606102013, 'n_estimators': 105, 'min_child_samples': 35, 'subsample': 0.6, 'colsample_bytree': 0.8}. Best is trial 12 with value: 0.7177287637829324.\n",
      "[I 2025-02-20 02:36:38,547] Trial 16 finished with value: 0.7144248718028102 and parameters: {'objective': 'binary', 'metric': 'auc', 'random_state': 42, 'verbose': -1, 'learning_rate': 0.005096808318118142, 'n_estimators': 985, 'min_child_samples': 45, 'subsample': 0.9, 'colsample_bytree': 0.9}. Best is trial 12 with value: 0.7177287637829324.\n",
      "[I 2025-02-20 02:36:53,132] Trial 17 finished with value: 0.7112937343431411 and parameters: {'objective': 'binary', 'metric': 'auc', 'random_state': 42, 'verbose': -1, 'learning_rate': 0.010433159641592873, 'n_estimators': 1487, 'min_child_samples': 20, 'subsample': 0.7, 'colsample_bytree': 0.8}. Best is trial 12 with value: 0.7177287637829324.\n",
      "[I 2025-02-20 02:36:57,212] Trial 18 finished with value: 0.7163210413997207 and parameters: {'objective': 'binary', 'metric': 'auc', 'random_state': 42, 'verbose': -1, 'learning_rate': 0.0073153406549506155, 'n_estimators': 378, 'min_child_samples': 45, 'subsample': 0.5, 'colsample_bytree': 0.9}. Best is trial 12 with value: 0.7177287637829324.\n",
      "[I 2025-02-20 02:37:05,428] Trial 19 finished with value: 0.7111763592803493 and parameters: {'objective': 'binary', 'metric': 'auc', 'random_state': 42, 'verbose': -1, 'learning_rate': 0.020464677431053676, 'n_estimators': 827, 'min_child_samples': 35, 'subsample': 0.6, 'colsample_bytree': 0.8}. Best is trial 12 with value: 0.7177287637829324.\n"
     ]
    },
    {
     "name": "stdout",
     "output_type": "stream",
     "text": [
      "Cat val score : 0.7165883917381363\n",
      "LGBM val score : 0.7177287637829323\n",
      "Ensemble val score : 0.7181694762471807\n",
      "==================================================\n"
     ]
    },
    {
     "name": "stderr",
     "output_type": "stream",
     "text": [
      "[I 2025-02-20 02:39:39,858] A new study created in memory with name: no-name-6c2847ee-a999-44ef-bbd3-c5964b637931\n"
     ]
    },
    {
     "name": "stdout",
     "output_type": "stream",
     "text": [
      "After SMOTENC:\n",
      "[171110 171110]\n",
      "X_train shape: (342220, 66)\n",
      "y_train shape: (342220,)\n",
      "0:\ttest: 0.7125889\tbest: 0.7125889 (0)\ttotal: 179ms\tremaining: 5m 12s\n",
      "300:\ttest: 0.7184679\tbest: 0.7235083 (31)\ttotal: 56.6s\tremaining: 4m 32s\n"
     ]
    },
    {
     "name": "stderr",
     "output_type": "stream",
     "text": [
      "[I 2025-02-20 02:40:43,339] Trial 0 finished with value: 0.7235083180699949 and parameters: {'iterations': 1749, 'depth': 10, 'learning_rate': 0.07453942447208349, 'l2_leaf_reg': 0.39079671568228835}. Best is trial 0 with value: 0.7235083180699949.\n"
     ]
    },
    {
     "name": "stdout",
     "output_type": "stream",
     "text": [
      "Stopped by overfitting detector  (300 iterations wait)\n",
      "\n",
      "bestTest = 0.7235083181\n",
      "bestIteration = 31\n",
      "\n",
      "Shrink model to first 32 iterations.\n",
      "저장 완료\n",
      "0:\ttest: 0.7084939\tbest: 0.7084939 (0)\ttotal: 101ms\tremaining: 2m 13s\n",
      "300:\ttest: 0.7215794\tbest: 0.7215794 (300)\ttotal: 23.4s\tremaining: 1m 18s\n",
      "600:\ttest: 0.7235168\tbest: 0.7237435 (517)\ttotal: 47.6s\tremaining: 56.3s\n"
     ]
    },
    {
     "name": "stderr",
     "output_type": "stream",
     "text": [
      "[I 2025-02-20 02:41:48,877] Trial 1 finished with value: 0.7237435209211558 and parameters: {'iterations': 1312, 'depth': 5, 'learning_rate': 0.010517943155978949, 'l2_leaf_reg': 15.741890047456648}. Best is trial 1 with value: 0.7237435209211558.\n"
     ]
    },
    {
     "name": "stdout",
     "output_type": "stream",
     "text": [
      "Stopped by overfitting detector  (300 iterations wait)\n",
      "\n",
      "bestTest = 0.7237435209\n",
      "bestIteration = 517\n",
      "\n",
      "Shrink model to first 518 iterations.\n",
      "저장 완료\n",
      "0:\ttest: 0.7136116\tbest: 0.7136116 (0)\ttotal: 125ms\tremaining: 4m 35s\n",
      "300:\ttest: 0.7212790\tbest: 0.7212790 (300)\ttotal: 35.8s\tremaining: 3m 46s\n",
      "600:\ttest: 0.7232456\tbest: 0.7234345 (503)\ttotal: 1m 13s\tremaining: 3m 15s\n"
     ]
    },
    {
     "name": "stderr",
     "output_type": "stream",
     "text": [
      "[I 2025-02-20 02:43:27,898] Trial 2 finished with value: 0.7234345039445345 and parameters: {'iterations': 2202, 'depth': 8, 'learning_rate': 0.006955526958101232, 'l2_leaf_reg': 65.98711072054076}. Best is trial 1 with value: 0.7237435209211558.\n"
     ]
    },
    {
     "name": "stdout",
     "output_type": "stream",
     "text": [
      "Stopped by overfitting detector  (300 iterations wait)\n",
      "\n",
      "bestTest = 0.7234345039\n",
      "bestIteration = 503\n",
      "\n",
      "Shrink model to first 504 iterations.\n",
      "0:\ttest: 0.7085102\tbest: 0.7085102 (0)\ttotal: 79.9ms\tremaining: 3m 32s\n",
      "300:\ttest: 0.7234320\tbest: 0.7237985 (254)\ttotal: 22.1s\tremaining: 2m 53s\n"
     ]
    },
    {
     "name": "stderr",
     "output_type": "stream",
     "text": [
      "[I 2025-02-20 02:44:09,548] Trial 3 finished with value: 0.7237985350213336 and parameters: {'iterations': 2665, 'depth': 5, 'learning_rate': 0.02227337188467456, 'l2_leaf_reg': 0.0012601639723276807}. Best is trial 3 with value: 0.7237985350213336.\n"
     ]
    },
    {
     "name": "stdout",
     "output_type": "stream",
     "text": [
      "Stopped by overfitting detector  (300 iterations wait)\n",
      "\n",
      "bestTest = 0.723798535\n",
      "bestIteration = 254\n",
      "\n",
      "Shrink model to first 255 iterations.\n",
      "저장 완료\n",
      "0:\ttest: 0.7062897\tbest: 0.7062897 (0)\ttotal: 108ms\tremaining: 2m 53s\n",
      "300:\ttest: 0.7209535\tbest: 0.7235313 (66)\ttotal: 32.3s\tremaining: 2m 20s\n"
     ]
    },
    {
     "name": "stderr",
     "output_type": "stream",
     "text": [
      "[I 2025-02-20 02:44:49,263] Trial 4 finished with value: 0.7235313197063358 and parameters: {'iterations': 1608, 'depth': 7, 'learning_rate': 0.046034776771001, 'l2_leaf_reg': 0.005589524205217926}. Best is trial 3 with value: 0.7237985350213336.\n"
     ]
    },
    {
     "name": "stdout",
     "output_type": "stream",
     "text": [
      "Stopped by overfitting detector  (300 iterations wait)\n",
      "\n",
      "bestTest = 0.7235313197\n",
      "bestIteration = 66\n",
      "\n",
      "Shrink model to first 67 iterations.\n",
      "0:\ttest: 0.7075873\tbest: 0.7075873 (0)\ttotal: 71.6ms\tremaining: 2m 39s\n",
      "300:\ttest: 0.7231896\tbest: 0.7233727 (271)\ttotal: 19s\tremaining: 2m 1s\n"
     ]
    },
    {
     "name": "stderr",
     "output_type": "stream",
     "text": [
      "[I 2025-02-20 02:45:26,373] Trial 5 finished with value: 0.7233727227883613 and parameters: {'iterations': 2224, 'depth': 4, 'learning_rate': 0.032753741610845724, 'l2_leaf_reg': 0.01578232781079559}. Best is trial 3 with value: 0.7237985350213336.\n"
     ]
    },
    {
     "name": "stdout",
     "output_type": "stream",
     "text": [
      "Stopped by overfitting detector  (300 iterations wait)\n",
      "\n",
      "bestTest = 0.7233727228\n",
      "bestIteration = 271\n",
      "\n",
      "Shrink model to first 272 iterations.\n",
      "0:\ttest: 0.7136927\tbest: 0.7136927 (0)\ttotal: 161ms\tremaining: 5m 7s\n",
      "300:\ttest: 0.7225591\tbest: 0.7236068 (118)\ttotal: 42.5s\tremaining: 3m 47s\n"
     ]
    },
    {
     "name": "stderr",
     "output_type": "stream",
     "text": [
      "[I 2025-02-20 02:46:25,365] Trial 6 finished with value: 0.7236068057394103 and parameters: {'iterations': 1912, 'depth': 9, 'learning_rate': 0.023969009305044177, 'l2_leaf_reg': 0.12173252504194051}. Best is trial 3 with value: 0.7237985350213336.\n"
     ]
    },
    {
     "name": "stdout",
     "output_type": "stream",
     "text": [
      "Stopped by overfitting detector  (300 iterations wait)\n",
      "\n",
      "bestTest = 0.7236068057\n",
      "bestIteration = 118\n",
      "\n",
      "Shrink model to first 119 iterations.\n",
      "0:\ttest: 0.7075873\tbest: 0.7075873 (0)\ttotal: 68.9ms\tremaining: 2m 30s\n",
      "300:\ttest: 0.7213206\tbest: 0.7235130 (99)\ttotal: 18.7s\tremaining: 1m 56s\n"
     ]
    },
    {
     "name": "stderr",
     "output_type": "stream",
     "text": [
      "[I 2025-02-20 02:46:50,475] Trial 7 finished with value: 0.7235130280045081 and parameters: {'iterations': 2185, 'depth': 4, 'learning_rate': 0.06271676093063665, 'l2_leaf_reg': 0.0010547383621352044}. Best is trial 3 with value: 0.7237985350213336.\n"
     ]
    },
    {
     "name": "stdout",
     "output_type": "stream",
     "text": [
      "Stopped by overfitting detector  (300 iterations wait)\n",
      "\n",
      "bestTest = 0.723513028\n",
      "bestIteration = 99\n",
      "\n",
      "Shrink model to first 100 iterations.\n",
      "0:\ttest: 0.7147439\tbest: 0.7147439 (0)\ttotal: 159ms\tremaining: 2m 59s\n",
      "300:\ttest: 0.7204187\tbest: 0.7236019 (33)\ttotal: 56.5s\tremaining: 2m 35s\n"
     ]
    },
    {
     "name": "stderr",
     "output_type": "stream",
     "text": [
      "[I 2025-02-20 02:47:53,544] Trial 8 finished with value: 0.7236018813559395 and parameters: {'iterations': 1130, 'depth': 10, 'learning_rate': 0.09673504314208314, 'l2_leaf_reg': 7.085721663941605}. Best is trial 3 with value: 0.7237985350213336.\n"
     ]
    },
    {
     "name": "stdout",
     "output_type": "stream",
     "text": [
      "Stopped by overfitting detector  (300 iterations wait)\n",
      "\n",
      "bestTest = 0.7236018814\n",
      "bestIteration = 33\n",
      "\n",
      "Shrink model to first 34 iterations.\n",
      "0:\ttest: 0.7075873\tbest: 0.7075873 (0)\ttotal: 67.4ms\tremaining: 1m 48s\n",
      "300:\ttest: 0.7212575\tbest: 0.7231228 (127)\ttotal: 18.7s\tremaining: 1m 21s\n"
     ]
    },
    {
     "name": "stderr",
     "output_type": "stream",
     "text": [
      "[I 2025-02-20 02:48:21,049] Trial 9 finished with value: 0.723122778557004 and parameters: {'iterations': 1609, 'depth': 4, 'learning_rate': 0.07000213751865492, 'l2_leaf_reg': 0.04374364439939081}. Best is trial 3 with value: 0.7237985350213336.\n"
     ]
    },
    {
     "name": "stdout",
     "output_type": "stream",
     "text": [
      "Stopped by overfitting detector  (300 iterations wait)\n",
      "\n",
      "bestTest = 0.7231227786\n",
      "bestIteration = 127\n",
      "\n",
      "Shrink model to first 128 iterations.\n",
      "0:\ttest: 0.7081623\tbest: 0.7081623 (0)\ttotal: 135ms\tremaining: 6m 30s\n",
      "300:\ttest: 0.7217955\tbest: 0.7245404 (113)\ttotal: 28.3s\tremaining: 4m 3s\n"
     ]
    },
    {
     "name": "stderr",
     "output_type": "stream",
     "text": [
      "[I 2025-02-20 02:49:00,534] Trial 10 finished with value: 0.7245403933912042 and parameters: {'iterations': 2891, 'depth': 6, 'learning_rate': 0.04002923340850424, 'l2_leaf_reg': 0.00012816553469185968}. Best is trial 10 with value: 0.7245403933912042.\n"
     ]
    },
    {
     "name": "stdout",
     "output_type": "stream",
     "text": [
      "Stopped by overfitting detector  (300 iterations wait)\n",
      "\n",
      "bestTest = 0.7245403934\n",
      "bestIteration = 113\n",
      "\n",
      "Shrink model to first 114 iterations.\n",
      "저장 완료\n",
      "0:\ttest: 0.7081623\tbest: 0.7081623 (0)\ttotal: 99.2ms\tremaining: 4m 49s\n",
      "300:\ttest: 0.7217464\tbest: 0.7237368 (134)\ttotal: 27.8s\tremaining: 4m 1s\n"
     ]
    },
    {
     "name": "stderr",
     "output_type": "stream",
     "text": [
      "[I 2025-02-20 02:49:41,346] Trial 11 finished with value: 0.7237367578364375 and parameters: {'iterations': 2920, 'depth': 6, 'learning_rate': 0.0395561372090833, 'l2_leaf_reg': 0.00011815814684318827}. Best is trial 10 with value: 0.7245403933912042.\n"
     ]
    },
    {
     "name": "stdout",
     "output_type": "stream",
     "text": [
      "Stopped by overfitting detector  (300 iterations wait)\n",
      "\n",
      "bestTest = 0.7237367578\n",
      "bestIteration = 134\n",
      "\n",
      "Shrink model to first 135 iterations.\n",
      "0:\ttest: 0.7081623\tbest: 0.7081623 (0)\ttotal: 94.8ms\tremaining: 4m 38s\n",
      "300:\ttest: 0.7229762\tbest: 0.7236617 (135)\ttotal: 27.1s\tremaining: 3m 57s\n"
     ]
    },
    {
     "name": "stderr",
     "output_type": "stream",
     "text": [
      "[I 2025-02-20 02:50:21,164] Trial 12 finished with value: 0.7236617285002171 and parameters: {'iterations': 2937, 'depth': 6, 'learning_rate': 0.023576108288886878, 'l2_leaf_reg': 0.00011410071589780009}. Best is trial 10 with value: 0.7245403933912042.\n"
     ]
    },
    {
     "name": "stdout",
     "output_type": "stream",
     "text": [
      "Stopped by overfitting detector  (300 iterations wait)\n",
      "\n",
      "bestTest = 0.7236617285\n",
      "bestIteration = 135\n",
      "\n",
      "Shrink model to first 136 iterations.\n",
      "0:\ttest: 0.7081623\tbest: 0.7081623 (0)\ttotal: 93.8ms\tremaining: 4m 3s\n",
      "300:\ttest: 0.7209985\tbest: 0.7238136 (57)\ttotal: 28.1s\tremaining: 3m 34s\n"
     ]
    },
    {
     "name": "stderr",
     "output_type": "stream",
     "text": [
      "[I 2025-02-20 02:50:54,774] Trial 13 finished with value: 0.7238135901324123 and parameters: {'iterations': 2597, 'depth': 6, 'learning_rate': 0.0557144757885545, 'l2_leaf_reg': 0.0013657161786983839}. Best is trial 10 with value: 0.7245403933912042.\n"
     ]
    },
    {
     "name": "stdout",
     "output_type": "stream",
     "text": [
      "Stopped by overfitting detector  (300 iterations wait)\n",
      "\n",
      "bestTest = 0.7238135901\n",
      "bestIteration = 57\n",
      "\n",
      "Shrink model to first 58 iterations.\n",
      "0:\ttest: 0.7062897\tbest: 0.7062897 (0)\ttotal: 109ms\tremaining: 4m 40s\n",
      "300:\ttest: 0.7210317\tbest: 0.7244090 (55)\ttotal: 32.1s\tremaining: 4m 2s\n"
     ]
    },
    {
     "name": "stderr",
     "output_type": "stream",
     "text": [
      "[I 2025-02-20 02:51:33,101] Trial 14 finished with value: 0.7244090195770136 and parameters: {'iterations': 2576, 'depth': 7, 'learning_rate': 0.05513072820383087, 'l2_leaf_reg': 0.000732061565651753}. Best is trial 10 with value: 0.7245403933912042.\n"
     ]
    },
    {
     "name": "stdout",
     "output_type": "stream",
     "text": [
      "Stopped by overfitting detector  (300 iterations wait)\n",
      "\n",
      "bestTest = 0.7244090196\n",
      "bestIteration = 55\n",
      "\n",
      "Shrink model to first 56 iterations.\n",
      "0:\ttest: 0.7136203\tbest: 0.7136203 (0)\ttotal: 132ms\tremaining: 5m 39s\n",
      "300:\ttest: 0.7191496\tbest: 0.7240798 (35)\ttotal: 38s\tremaining: 4m 46s\n"
     ]
    },
    {
     "name": "stderr",
     "output_type": "stream",
     "text": [
      "[I 2025-02-20 02:52:15,767] Trial 15 finished with value: 0.7240797689441152 and parameters: {'iterations': 2572, 'depth': 8, 'learning_rate': 0.08029745336413277, 'l2_leaf_reg': 0.00033230611437324757}. Best is trial 10 with value: 0.7245403933912042.\n"
     ]
    },
    {
     "name": "stdout",
     "output_type": "stream",
     "text": [
      "Stopped by overfitting detector  (300 iterations wait)\n",
      "\n",
      "bestTest = 0.7240797689\n",
      "bestIteration = 35\n",
      "\n",
      "Shrink model to first 36 iterations.\n",
      "0:\ttest: 0.7062897\tbest: 0.7062897 (0)\ttotal: 109ms\tremaining: 4m 23s\n",
      "300:\ttest: 0.7212310\tbest: 0.7237454 (66)\ttotal: 32.5s\tremaining: 3m 49s\n"
     ]
    },
    {
     "name": "stderr",
     "output_type": "stream",
     "text": [
      "[I 2025-02-20 02:52:55,665] Trial 16 finished with value: 0.7237453794787883 and parameters: {'iterations': 2427, 'depth': 7, 'learning_rate': 0.05298183786479314, 'l2_leaf_reg': 0.005009934114623413}. Best is trial 10 with value: 0.7245403933912042.\n"
     ]
    },
    {
     "name": "stdout",
     "output_type": "stream",
     "text": [
      "Stopped by overfitting detector  (300 iterations wait)\n",
      "\n",
      "bestTest = 0.7237453795\n",
      "bestIteration = 66\n",
      "\n",
      "Shrink model to first 67 iterations.\n",
      "0:\ttest: 0.7136203\tbest: 0.7136203 (0)\ttotal: 124ms\tremaining: 5m 50s\n",
      "300:\ttest: 0.7189944\tbest: 0.7242221 (38)\ttotal: 38.1s\tremaining: 5m 20s\n"
     ]
    },
    {
     "name": "stderr",
     "output_type": "stream",
     "text": [
      "[I 2025-02-20 02:53:38,992] Trial 17 finished with value: 0.7242221312817441 and parameters: {'iterations': 2830, 'depth': 8, 'learning_rate': 0.08781179458317345, 'l2_leaf_reg': 0.0004420611755869484}. Best is trial 10 with value: 0.7245403933912042.\n"
     ]
    },
    {
     "name": "stdout",
     "output_type": "stream",
     "text": [
      "Stopped by overfitting detector  (300 iterations wait)\n",
      "\n",
      "bestTest = 0.7242221313\n",
      "bestIteration = 38\n",
      "\n",
      "Shrink model to first 39 iterations.\n",
      "0:\ttest: 0.7062897\tbest: 0.7062897 (0)\ttotal: 112ms\tremaining: 4m 24s\n",
      "300:\ttest: 0.7220160\tbest: 0.7240095 (77)\ttotal: 31.9s\tremaining: 3m 37s\n"
     ]
    },
    {
     "name": "stderr",
     "output_type": "stream",
     "text": [
      "[I 2025-02-20 02:54:19,663] Trial 18 finished with value: 0.724009497197732 and parameters: {'iterations': 2353, 'depth': 7, 'learning_rate': 0.03903934038046118, 'l2_leaf_reg': 0.737975784896599}. Best is trial 10 with value: 0.7245403933912042.\n"
     ]
    },
    {
     "name": "stdout",
     "output_type": "stream",
     "text": [
      "Stopped by overfitting detector  (300 iterations wait)\n",
      "\n",
      "bestTest = 0.7240094972\n",
      "bestIteration = 77\n",
      "\n",
      "Shrink model to first 78 iterations.\n",
      "0:\ttest: 0.7085102\tbest: 0.7085102 (0)\ttotal: 79.4ms\tremaining: 3m 38s\n",
      "300:\ttest: 0.7210179\tbest: 0.7237224 (94)\ttotal: 24s\tremaining: 3m 15s\n"
     ]
    },
    {
     "name": "stderr",
     "output_type": "stream",
     "text": [
      "[I 2025-02-20 02:54:51,572] Trial 19 finished with value: 0.7237223778424475 and parameters: {'iterations': 2748, 'depth': 5, 'learning_rate': 0.06230251258361885, 'l2_leaf_reg': 0.006656769062777908}. Best is trial 10 with value: 0.7245403933912042.\n",
      "[I 2025-02-20 02:54:51,575] A new study created in memory with name: no-name-8a88f9c6-199c-43e7-9926-b856e07027e8\n"
     ]
    },
    {
     "name": "stdout",
     "output_type": "stream",
     "text": [
      "Stopped by overfitting detector  (300 iterations wait)\n",
      "\n",
      "bestTest = 0.7237223778\n",
      "bestIteration = 94\n",
      "\n",
      "Shrink model to first 95 iterations.\n"
     ]
    },
    {
     "name": "stderr",
     "output_type": "stream",
     "text": [
      "[I 2025-02-20 02:55:14,962] Trial 0 finished with value: 0.7192820811232449 and parameters: {'objective': 'binary', 'metric': 'auc', 'random_state': 42, 'verbose': -1, 'learning_rate': 0.015355286838886862, 'n_estimators': 1907, 'min_child_samples': 40, 'subsample': 0.8, 'colsample_bytree': 0.5}. Best is trial 0 with value: 0.7192820811232449.\n",
      "[I 2025-02-20 02:55:17,328] Trial 1 finished with value: 0.7231994639157303 and parameters: {'objective': 'binary', 'metric': 'auc', 'random_state': 42, 'verbose': -1, 'learning_rate': 0.00797854234707418, 'n_estimators': 210, 'min_child_samples': 45, 'subsample': 0.8, 'colsample_bytree': 0.9}. Best is trial 1 with value: 0.7231994639157303.\n",
      "[I 2025-02-20 02:55:39,393] Trial 2 finished with value: 0.7200958116641266 and parameters: {'objective': 'binary', 'metric': 'auc', 'random_state': 42, 'verbose': -1, 'learning_rate': 0.005318033256270142, 'n_estimators': 1943, 'min_child_samples': 45, 'subsample': 0.6, 'colsample_bytree': 0.6}. Best is trial 1 with value: 0.7231994639157303.\n",
      "[I 2025-02-20 02:55:47,302] Trial 3 finished with value: 0.7226951157089533 and parameters: {'objective': 'binary', 'metric': 'auc', 'random_state': 42, 'verbose': -1, 'learning_rate': 0.008661333735273127, 'n_estimators': 678, 'min_child_samples': 30, 'subsample': 0.7, 'colsample_bytree': 0.6}. Best is trial 1 with value: 0.7231994639157303.\n",
      "[I 2025-02-20 02:55:51,237] Trial 4 finished with value: 0.7196552858498969 and parameters: {'objective': 'binary', 'metric': 'auc', 'random_state': 42, 'verbose': -1, 'learning_rate': 0.03126143958203108, 'n_estimators': 365, 'min_child_samples': 20, 'subsample': 0.7, 'colsample_bytree': 0.7}. Best is trial 1 with value: 0.7231994639157303.\n",
      "[I 2025-02-20 02:55:57,469] Trial 5 finished with value: 0.7184967928681838 and parameters: {'objective': 'binary', 'metric': 'auc', 'random_state': 42, 'verbose': -1, 'learning_rate': 0.05254210669345883, 'n_estimators': 479, 'min_child_samples': 30, 'subsample': 0.8, 'colsample_bytree': 0.5}. Best is trial 1 with value: 0.7231994639157303.\n",
      "[I 2025-02-20 02:56:01,897] Trial 6 finished with value: 0.7189707131506439 and parameters: {'objective': 'binary', 'metric': 'auc', 'random_state': 42, 'verbose': -1, 'learning_rate': 0.030860579740535368, 'n_estimators': 424, 'min_child_samples': 10, 'subsample': 1.0, 'colsample_bytree': 1.0}. Best is trial 1 with value: 0.7231994639157303.\n",
      "[I 2025-02-20 02:56:08,256] Trial 7 finished with value: 0.7174378121453501 and parameters: {'objective': 'binary', 'metric': 'auc', 'random_state': 42, 'verbose': -1, 'learning_rate': 0.05632733481673016, 'n_estimators': 679, 'min_child_samples': 10, 'subsample': 0.9, 'colsample_bytree': 0.7}. Best is trial 1 with value: 0.7231994639157303.\n",
      "[I 2025-02-20 02:56:20,199] Trial 8 finished with value: 0.7217959947701776 and parameters: {'objective': 'binary', 'metric': 'auc', 'random_state': 42, 'verbose': -1, 'learning_rate': 0.007206848764305203, 'n_estimators': 1041, 'min_child_samples': 10, 'subsample': 1.0, 'colsample_bytree': 0.6}. Best is trial 1 with value: 0.7231994639157303.\n",
      "[I 2025-02-20 02:56:27,783] Trial 9 finished with value: 0.7187806438625034 and parameters: {'objective': 'binary', 'metric': 'auc', 'random_state': 42, 'verbose': -1, 'learning_rate': 0.036385753170854684, 'n_estimators': 692, 'min_child_samples': 30, 'subsample': 0.8, 'colsample_bytree': 0.6}. Best is trial 1 with value: 0.7231994639157303.\n",
      "[I 2025-02-20 02:56:29,174] Trial 10 finished with value: 0.7225373726155321 and parameters: {'objective': 'binary', 'metric': 'auc', 'random_state': 42, 'verbose': -1, 'learning_rate': 0.014579928528334861, 'n_estimators': 111, 'min_child_samples': 50, 'subsample': 0.5, 'colsample_bytree': 1.0}. Best is trial 1 with value: 0.7231994639157303.\n",
      "[I 2025-02-20 02:56:40,593] Trial 11 finished with value: 0.7196867304211239 and parameters: {'objective': 'binary', 'metric': 'auc', 'random_state': 42, 'verbose': -1, 'learning_rate': 0.009741409532914453, 'n_estimators': 1127, 'min_child_samples': 35, 'subsample': 0.7, 'colsample_bytree': 0.9}. Best is trial 1 with value: 0.7231994639157303.\n",
      "[I 2025-02-20 02:56:41,969] Trial 12 finished with value: 0.724341646862835 and parameters: {'objective': 'binary', 'metric': 'auc', 'random_state': 42, 'verbose': -1, 'learning_rate': 0.011451092279306341, 'n_estimators': 110, 'min_child_samples': 25, 'subsample': 0.6, 'colsample_bytree': 0.8}. Best is trial 12 with value: 0.724341646862835.\n",
      "[I 2025-02-20 02:56:43,441] Trial 13 finished with value: 0.7237304117358034 and parameters: {'objective': 'binary', 'metric': 'auc', 'random_state': 42, 'verbose': -1, 'learning_rate': 0.015916439272972455, 'n_estimators': 120, 'min_child_samples': 25, 'subsample': 0.5, 'colsample_bytree': 0.8}. Best is trial 12 with value: 0.724341646862835.\n",
      "[I 2025-02-20 02:56:56,935] Trial 14 finished with value: 0.7183127956625649 and parameters: {'objective': 'binary', 'metric': 'auc', 'random_state': 42, 'verbose': -1, 'learning_rate': 0.016612459704037654, 'n_estimators': 1410, 'min_child_samples': 20, 'subsample': 0.5, 'colsample_bytree': 0.8}. Best is trial 12 with value: 0.724341646862835.\n",
      "[I 2025-02-20 02:56:58,374] Trial 15 finished with value: 0.719174884443385 and parameters: {'objective': 'binary', 'metric': 'auc', 'random_state': 42, 'verbose': -1, 'learning_rate': 0.0902334606102013, 'n_estimators': 111, 'min_child_samples': 20, 'subsample': 0.6, 'colsample_bytree': 0.8}. Best is trial 12 with value: 0.724341646862835.\n",
      "[I 2025-02-20 02:57:08,518] Trial 16 finished with value: 0.7180995222029569 and parameters: {'objective': 'binary', 'metric': 'auc', 'random_state': 42, 'verbose': -1, 'learning_rate': 0.0221068186187714, 'n_estimators': 1045, 'min_child_samples': 25, 'subsample': 0.6, 'colsample_bytree': 0.9}. Best is trial 12 with value: 0.724341646862835.\n",
      "[I 2025-02-20 02:57:23,030] Trial 17 finished with value: 0.7186304104538752 and parameters: {'objective': 'binary', 'metric': 'auc', 'random_state': 42, 'verbose': -1, 'learning_rate': 0.012657202739769224, 'n_estimators': 1487, 'min_child_samples': 25, 'subsample': 0.5, 'colsample_bytree': 0.8}. Best is trial 12 with value: 0.724341646862835.\n",
      "[I 2025-02-20 02:57:27,039] Trial 18 finished with value: 0.7213255890678559 and parameters: {'objective': 'binary', 'metric': 'auc', 'random_state': 42, 'verbose': -1, 'learning_rate': 0.021670247428617003, 'n_estimators': 360, 'min_child_samples': 15, 'subsample': 0.6, 'colsample_bytree': 0.7}. Best is trial 12 with value: 0.724341646862835.\n",
      "[I 2025-02-20 02:57:36,123] Trial 19 finished with value: 0.7203013808463691 and parameters: {'objective': 'binary', 'metric': 'auc', 'random_state': 42, 'verbose': -1, 'learning_rate': 0.010830303143637763, 'n_estimators': 870, 'min_child_samples': 25, 'subsample': 0.5, 'colsample_bytree': 0.9}. Best is trial 12 with value: 0.724341646862835.\n"
     ]
    },
    {
     "name": "stdout",
     "output_type": "stream",
     "text": [
      "Cat val score : 0.7245403933912042\n",
      "LGBM val score : 0.7243416468628349\n",
      "Ensemble val score : 0.7258491634655924\n",
      "==================================================\n"
     ]
    },
    {
     "name": "stderr",
     "output_type": "stream",
     "text": [
      "[I 2025-02-20 03:00:13,354] A new study created in memory with name: no-name-a14744b5-0e75-4b39-90be-39348df9445b\n"
     ]
    },
    {
     "name": "stdout",
     "output_type": "stream",
     "text": [
      "After SMOTENC:\n",
      "[171111 171111]\n",
      "X_train shape: (342222, 66)\n",
      "y_train shape: (342222,)\n",
      "0:\ttest: 0.7130302\tbest: 0.7130302 (0)\ttotal: 180ms\tremaining: 5m 15s\n",
      "300:\ttest: 0.7259678\tbest: 0.7315494 (36)\ttotal: 54.8s\tremaining: 4m 23s\n"
     ]
    },
    {
     "name": "stderr",
     "output_type": "stream",
     "text": [
      "[I 2025-02-20 03:01:15,589] Trial 0 finished with value: 0.7315494121674753 and parameters: {'iterations': 1749, 'depth': 10, 'learning_rate': 0.07453942447208349, 'l2_leaf_reg': 0.39079671568228835}. Best is trial 0 with value: 0.7315494121674753.\n"
     ]
    },
    {
     "name": "stdout",
     "output_type": "stream",
     "text": [
      "Stopped by overfitting detector  (300 iterations wait)\n",
      "\n",
      "bestTest = 0.7315494122\n",
      "bestIteration = 36\n",
      "\n",
      "Shrink model to first 37 iterations.\n",
      "저장 완료\n",
      "0:\ttest: 0.6863578\tbest: 0.6863578 (0)\ttotal: 84.9ms\tremaining: 1m 51s\n",
      "300:\ttest: 0.7271996\tbest: 0.7272032 (299)\ttotal: 22.5s\tremaining: 1m 15s\n",
      "600:\ttest: 0.7301013\tbest: 0.7301046 (598)\ttotal: 46.4s\tremaining: 54.9s\n",
      "900:\ttest: 0.7299807\tbest: 0.7302720 (665)\ttotal: 1m 10s\tremaining: 32.1s\n"
     ]
    },
    {
     "name": "stderr",
     "output_type": "stream",
     "text": [
      "[I 2025-02-20 03:02:31,400] Trial 1 finished with value: 0.7302719979234489 and parameters: {'iterations': 1312, 'depth': 5, 'learning_rate': 0.010517943155978949, 'l2_leaf_reg': 15.741890047456648}. Best is trial 0 with value: 0.7315494121674753.\n"
     ]
    },
    {
     "name": "stdout",
     "output_type": "stream",
     "text": [
      "Stopped by overfitting detector  (300 iterations wait)\n",
      "\n",
      "bestTest = 0.7302719979\n",
      "bestIteration = 665\n",
      "\n",
      "Shrink model to first 666 iterations.\n",
      "0:\ttest: 0.7062211\tbest: 0.7062211 (0)\ttotal: 114ms\tremaining: 4m 10s\n",
      "300:\ttest: 0.7277527\tbest: 0.7277649 (299)\ttotal: 34.5s\tremaining: 3m 37s\n",
      "600:\ttest: 0.7306142\tbest: 0.7307280 (563)\ttotal: 1m 11s\tremaining: 3m 9s\n",
      "900:\ttest: 0.7305689\tbest: 0.7308105 (694)\ttotal: 1m 48s\tremaining: 2m 36s\n"
     ]
    },
    {
     "name": "stderr",
     "output_type": "stream",
     "text": [
      "[I 2025-02-20 03:04:32,450] Trial 2 finished with value: 0.7308104620081648 and parameters: {'iterations': 2202, 'depth': 8, 'learning_rate': 0.006955526958101232, 'l2_leaf_reg': 65.98711072054076}. Best is trial 0 with value: 0.7315494121674753.\n"
     ]
    },
    {
     "name": "stdout",
     "output_type": "stream",
     "text": [
      "Stopped by overfitting detector  (300 iterations wait)\n",
      "\n",
      "bestTest = 0.730810462\n",
      "bestIteration = 694\n",
      "\n",
      "Shrink model to first 695 iterations.\n",
      "0:\ttest: 0.6863631\tbest: 0.6863631 (0)\ttotal: 88.3ms\tremaining: 3m 55s\n",
      "300:\ttest: 0.7308963\tbest: 0.7310535 (284)\ttotal: 22.9s\tremaining: 2m 59s\n"
     ]
    },
    {
     "name": "stderr",
     "output_type": "stream",
     "text": [
      "[I 2025-02-20 03:05:18,367] Trial 3 finished with value: 0.7310534524489074 and parameters: {'iterations': 2665, 'depth': 5, 'learning_rate': 0.02227337188467456, 'l2_leaf_reg': 0.0012601639723276807}. Best is trial 0 with value: 0.7315494121674753.\n"
     ]
    },
    {
     "name": "stdout",
     "output_type": "stream",
     "text": [
      "Stopped by overfitting detector  (300 iterations wait)\n",
      "\n",
      "bestTest = 0.7310534524\n",
      "bestIteration = 284\n",
      "\n",
      "Shrink model to first 285 iterations.\n",
      "0:\ttest: 0.7038700\tbest: 0.7038700 (0)\ttotal: 97.5ms\tremaining: 2m 36s\n",
      "300:\ttest: 0.7284203\tbest: 0.7306336 (91)\ttotal: 32.3s\tremaining: 2m 20s\n"
     ]
    },
    {
     "name": "stderr",
     "output_type": "stream",
     "text": [
      "[I 2025-02-20 03:06:01,094] Trial 4 finished with value: 0.7306336066774931 and parameters: {'iterations': 1608, 'depth': 7, 'learning_rate': 0.046034776771001, 'l2_leaf_reg': 0.005589524205217926}. Best is trial 0 with value: 0.7315494121674753.\n"
     ]
    },
    {
     "name": "stdout",
     "output_type": "stream",
     "text": [
      "Stopped by overfitting detector  (300 iterations wait)\n",
      "\n",
      "bestTest = 0.7306336067\n",
      "bestIteration = 91\n",
      "\n",
      "Shrink model to first 92 iterations.\n",
      "0:\ttest: 0.6934943\tbest: 0.6934943 (0)\ttotal: 81.3ms\tremaining: 3m\n",
      "300:\ttest: 0.7301315\tbest: 0.7302209 (285)\ttotal: 19.2s\tremaining: 2m 2s\n",
      "600:\ttest: 0.7289736\tbest: 0.7302669 (327)\ttotal: 38.4s\tremaining: 1m 43s\n"
     ]
    },
    {
     "name": "stderr",
     "output_type": "stream",
     "text": [
      "[I 2025-02-20 03:06:41,403] Trial 5 finished with value: 0.7302668516549018 and parameters: {'iterations': 2224, 'depth': 4, 'learning_rate': 0.032753741610845724, 'l2_leaf_reg': 0.01578232781079559}. Best is trial 0 with value: 0.7315494121674753.\n"
     ]
    },
    {
     "name": "stdout",
     "output_type": "stream",
     "text": [
      "Stopped by overfitting detector  (300 iterations wait)\n",
      "\n",
      "bestTest = 0.7302668517\n",
      "bestIteration = 327\n",
      "\n",
      "Shrink model to first 328 iterations.\n",
      "0:\ttest: 0.7129410\tbest: 0.7129410 (0)\ttotal: 138ms\tremaining: 4m 24s\n",
      "300:\ttest: 0.7299217\tbest: 0.7310864 (122)\ttotal: 41.8s\tremaining: 3m 43s\n"
     ]
    },
    {
     "name": "stderr",
     "output_type": "stream",
     "text": [
      "[I 2025-02-20 03:07:40,393] Trial 6 finished with value: 0.7310864386007754 and parameters: {'iterations': 1912, 'depth': 9, 'learning_rate': 0.023969009305044177, 'l2_leaf_reg': 0.12173252504194051}. Best is trial 0 with value: 0.7315494121674753.\n"
     ]
    },
    {
     "name": "stdout",
     "output_type": "stream",
     "text": [
      "Stopped by overfitting detector  (300 iterations wait)\n",
      "\n",
      "bestTest = 0.7310864386\n",
      "bestIteration = 122\n",
      "\n",
      "Shrink model to first 123 iterations.\n",
      "0:\ttest: 0.6934943\tbest: 0.6934943 (0)\ttotal: 69.7ms\tremaining: 2m 32s\n",
      "300:\ttest: 0.7290467\tbest: 0.7306490 (160)\ttotal: 18.9s\tremaining: 1m 58s\n"
     ]
    },
    {
     "name": "stderr",
     "output_type": "stream",
     "text": [
      "[I 2025-02-20 03:08:09,769] Trial 7 finished with value: 0.7306490097451583 and parameters: {'iterations': 2185, 'depth': 4, 'learning_rate': 0.06271676093063665, 'l2_leaf_reg': 0.0010547383621352044}. Best is trial 0 with value: 0.7315494121674753.\n"
     ]
    },
    {
     "name": "stdout",
     "output_type": "stream",
     "text": [
      "Stopped by overfitting detector  (300 iterations wait)\n",
      "\n",
      "bestTest = 0.7306490097\n",
      "bestIteration = 160\n",
      "\n",
      "Shrink model to first 161 iterations.\n",
      "0:\ttest: 0.7130464\tbest: 0.7130464 (0)\ttotal: 167ms\tremaining: 3m 8s\n",
      "300:\ttest: 0.7283017\tbest: 0.7314162 (28)\ttotal: 57.1s\tremaining: 2m 37s\n"
     ]
    },
    {
     "name": "stderr",
     "output_type": "stream",
     "text": [
      "[I 2025-02-20 03:09:12,710] Trial 8 finished with value: 0.7314161968764119 and parameters: {'iterations': 1130, 'depth': 10, 'learning_rate': 0.09673504314208314, 'l2_leaf_reg': 7.085721663941605}. Best is trial 0 with value: 0.7315494121674753.\n"
     ]
    },
    {
     "name": "stdout",
     "output_type": "stream",
     "text": [
      "Stopped by overfitting detector  (300 iterations wait)\n",
      "\n",
      "bestTest = 0.7314161969\n",
      "bestIteration = 28\n",
      "\n",
      "Shrink model to first 29 iterations.\n",
      "0:\ttest: 0.6934943\tbest: 0.6934943 (0)\ttotal: 68.6ms\tremaining: 1m 50s\n",
      "300:\ttest: 0.7285640\tbest: 0.7302823 (170)\ttotal: 19.2s\tremaining: 1m 23s\n"
     ]
    },
    {
     "name": "stderr",
     "output_type": "stream",
     "text": [
      "[I 2025-02-20 03:09:43,186] Trial 9 finished with value: 0.7302823222276329 and parameters: {'iterations': 1609, 'depth': 4, 'learning_rate': 0.07000213751865492, 'l2_leaf_reg': 0.04374364439939081}. Best is trial 0 with value: 0.7315494121674753.\n"
     ]
    },
    {
     "name": "stdout",
     "output_type": "stream",
     "text": [
      "Stopped by overfitting detector  (300 iterations wait)\n",
      "\n",
      "bestTest = 0.7302823222\n",
      "bestIteration = 170\n",
      "\n",
      "Shrink model to first 171 iterations.\n",
      "0:\ttest: 0.7130309\tbest: 0.7130309 (0)\ttotal: 165ms\tremaining: 7m 57s\n",
      "300:\ttest: 0.7256161\tbest: 0.7312456 (43)\ttotal: 55.8s\tremaining: 7m 59s\n"
     ]
    },
    {
     "name": "stderr",
     "output_type": "stream",
     "text": [
      "[I 2025-02-20 03:10:47,625] Trial 10 finished with value: 0.7312456393712925 and parameters: {'iterations': 2891, 'depth': 10, 'learning_rate': 0.08658927477571329, 'l2_leaf_reg': 0.6899047876209637}. Best is trial 0 with value: 0.7315494121674753.\n"
     ]
    },
    {
     "name": "stdout",
     "output_type": "stream",
     "text": [
      "Stopped by overfitting detector  (300 iterations wait)\n",
      "\n",
      "bestTest = 0.7312456394\n",
      "bestIteration = 43\n",
      "\n",
      "Shrink model to first 44 iterations.\n",
      "0:\ttest: 0.7130276\tbest: 0.7130276 (0)\ttotal: 172ms\tremaining: 3m 2s\n",
      "300:\ttest: 0.7257066\tbest: 0.7304917 (51)\ttotal: 57.8s\tremaining: 2m 26s\n"
     ]
    },
    {
     "name": "stderr",
     "output_type": "stream",
     "text": [
      "[I 2025-02-20 03:11:56,347] Trial 11 finished with value: 0.7304917030873703 and parameters: {'iterations': 1063, 'depth': 10, 'learning_rate': 0.09875893346530441, 'l2_leaf_reg': 1.9979188066631453}. Best is trial 0 with value: 0.7315494121674753.\n"
     ]
    },
    {
     "name": "stdout",
     "output_type": "stream",
     "text": [
      "Stopped by overfitting detector  (300 iterations wait)\n",
      "\n",
      "bestTest = 0.7304917031\n",
      "bestIteration = 51\n",
      "\n",
      "Shrink model to first 52 iterations.\n",
      "0:\ttest: 0.7060905\tbest: 0.7060905 (0)\ttotal: 130ms\tremaining: 2m 26s\n",
      "300:\ttest: 0.7280801\tbest: 0.7310862 (45)\ttotal: 38.4s\tremaining: 1m 45s\n"
     ]
    },
    {
     "name": "stderr",
     "output_type": "stream",
     "text": [
      "[I 2025-02-20 03:12:40,668] Trial 12 finished with value: 0.7310861924058294 and parameters: {'iterations': 1130, 'depth': 8, 'learning_rate': 0.08145561579309935, 'l2_leaf_reg': 3.050458519858464}. Best is trial 0 with value: 0.7315494121674753.\n"
     ]
    },
    {
     "name": "stdout",
     "output_type": "stream",
     "text": [
      "Stopped by overfitting detector  (300 iterations wait)\n",
      "\n",
      "bestTest = 0.7310861924\n",
      "bestIteration = 45\n",
      "\n",
      "Shrink model to first 46 iterations.\n",
      "0:\ttest: 0.7129469\tbest: 0.7129469 (0)\ttotal: 137ms\tremaining: 3m 20s\n",
      "300:\ttest: 0.7266863\tbest: 0.7310285 (41)\ttotal: 43.5s\tremaining: 2m 49s\n"
     ]
    },
    {
     "name": "stderr",
     "output_type": "stream",
     "text": [
      "[I 2025-02-20 03:13:30,342] Trial 13 finished with value: 0.7310285073416445 and parameters: {'iterations': 1472, 'depth': 9, 'learning_rate': 0.09910861754801147, 'l2_leaf_reg': 0.3586860957534257}. Best is trial 0 with value: 0.7315494121674753.\n"
     ]
    },
    {
     "name": "stdout",
     "output_type": "stream",
     "text": [
      "Stopped by overfitting detector  (300 iterations wait)\n",
      "\n",
      "bestTest = 0.7310285073\n",
      "bestIteration = 41\n",
      "\n",
      "Shrink model to first 42 iterations.\n",
      "0:\ttest: 0.7130571\tbest: 0.7130571 (0)\ttotal: 164ms\tremaining: 5m 4s\n",
      "300:\ttest: 0.7279193\tbest: 0.7308108 (62)\ttotal: 57.1s\tremaining: 4m 54s\n"
     ]
    },
    {
     "name": "stderr",
     "output_type": "stream",
     "text": [
      "[I 2025-02-20 03:14:40,332] Trial 14 finished with value: 0.7308107637955179 and parameters: {'iterations': 1854, 'depth': 10, 'learning_rate': 0.08181230026221334, 'l2_leaf_reg': 8.266157547929417}. Best is trial 0 with value: 0.7315494121674753.\n"
     ]
    },
    {
     "name": "stdout",
     "output_type": "stream",
     "text": [
      "Stopped by overfitting detector  (300 iterations wait)\n",
      "\n",
      "bestTest = 0.7308107638\n",
      "bestIteration = 62\n",
      "\n",
      "Shrink model to first 63 iterations.\n",
      "0:\ttest: 0.7038947\tbest: 0.7038947 (0)\ttotal: 104ms\tremaining: 2m 17s\n",
      "300:\ttest: 0.7289921\tbest: 0.7309754 (89)\ttotal: 33.2s\tremaining: 1m 53s\n"
     ]
    },
    {
     "name": "stderr",
     "output_type": "stream",
     "text": [
      "[I 2025-02-20 03:15:23,637] Trial 15 finished with value: 0.7309753689421867 and parameters: {'iterations': 1330, 'depth': 7, 'learning_rate': 0.06528204856323924, 'l2_leaf_reg': 33.99150567801364}. Best is trial 0 with value: 0.7315494121674753.\n"
     ]
    },
    {
     "name": "stdout",
     "output_type": "stream",
     "text": [
      "Stopped by overfitting detector  (300 iterations wait)\n",
      "\n",
      "bestTest = 0.7309753689\n",
      "bestIteration = 89\n",
      "\n",
      "Shrink model to first 90 iterations.\n",
      "0:\ttest: 0.7129469\tbest: 0.7129469 (0)\ttotal: 136ms\tremaining: 5m 45s\n",
      "300:\ttest: 0.7287329\tbest: 0.7305681 (102)\ttotal: 42.4s\tremaining: 5m 16s\n"
     ]
    },
    {
     "name": "stderr",
     "output_type": "stream",
     "text": [
      "[I 2025-02-20 03:16:21,208] Trial 16 finished with value: 0.7305680910256732 and parameters: {'iterations': 2544, 'depth': 9, 'learning_rate': 0.05072240683177215, 'l2_leaf_reg': 0.3920346574945562}. Best is trial 0 with value: 0.7315494121674753.\n"
     ]
    },
    {
     "name": "stdout",
     "output_type": "stream",
     "text": [
      "Stopped by overfitting detector  (300 iterations wait)\n",
      "\n",
      "bestTest = 0.730568091\n",
      "bestIteration = 102\n",
      "\n",
      "Shrink model to first 103 iterations.\n",
      "0:\ttest: 0.7060905\tbest: 0.7060905 (0)\ttotal: 124ms\tremaining: 3m 38s\n",
      "300:\ttest: 0.7274372\tbest: 0.7302390 (40)\ttotal: 40.4s\tremaining: 3m 15s\n"
     ]
    },
    {
     "name": "stderr",
     "output_type": "stream",
     "text": [
      "[I 2025-02-20 03:17:07,236] Trial 17 finished with value: 0.7302389601500601 and parameters: {'iterations': 1758, 'depth': 8, 'learning_rate': 0.08887323703243039, 'l2_leaf_reg': 3.525078695570077}. Best is trial 0 with value: 0.7315494121674753.\n"
     ]
    },
    {
     "name": "stdout",
     "output_type": "stream",
     "text": [
      "Stopped by overfitting detector  (300 iterations wait)\n",
      "\n",
      "bestTest = 0.7302389602\n",
      "bestIteration = 40\n",
      "\n",
      "Shrink model to first 41 iterations.\n",
      "0:\ttest: 0.7141990\tbest: 0.7141990 (0)\ttotal: 169ms\tremaining: 3m 30s\n",
      "300:\ttest: 0.7282451\tbest: 0.7304620 (73)\ttotal: 56.5s\tremaining: 2m 58s\n"
     ]
    },
    {
     "name": "stderr",
     "output_type": "stream",
     "text": [
      "[I 2025-02-20 03:18:20,040] Trial 18 finished with value: 0.7304620008584103 and parameters: {'iterations': 1249, 'depth': 10, 'learning_rate': 0.07115574690126539, 'l2_leaf_reg': 97.07044241055839}. Best is trial 0 with value: 0.7315494121674753.\n"
     ]
    },
    {
     "name": "stdout",
     "output_type": "stream",
     "text": [
      "Stopped by overfitting detector  (300 iterations wait)\n",
      "\n",
      "bestTest = 0.7304620009\n",
      "bestIteration = 73\n",
      "\n",
      "Shrink model to first 74 iterations.\n",
      "0:\ttest: 0.7038700\tbest: 0.7038700 (0)\ttotal: 115ms\tremaining: 1m 58s\n",
      "300:\ttest: 0.7281975\tbest: 0.7304224 (63)\ttotal: 32.8s\tremaining: 1m 18s\n"
     ]
    },
    {
     "name": "stderr",
     "output_type": "stream",
     "text": [
      "[I 2025-02-20 03:18:59,910] Trial 19 finished with value: 0.7304224230354096 and parameters: {'iterations': 1026, 'depth': 7, 'learning_rate': 0.058262830236062796, 'l2_leaf_reg': 0.07388437340514975}. Best is trial 0 with value: 0.7315494121674753.\n",
      "[I 2025-02-20 03:18:59,912] A new study created in memory with name: no-name-0c8857b5-5c14-490e-a944-17d3317d64c3\n"
     ]
    },
    {
     "name": "stdout",
     "output_type": "stream",
     "text": [
      "Stopped by overfitting detector  (300 iterations wait)\n",
      "\n",
      "bestTest = 0.730422423\n",
      "bestIteration = 63\n",
      "\n",
      "Shrink model to first 64 iterations.\n"
     ]
    },
    {
     "name": "stderr",
     "output_type": "stream",
     "text": [
      "[I 2025-02-20 03:19:23,183] Trial 0 finished with value: 0.727031135305915 and parameters: {'objective': 'binary', 'metric': 'auc', 'random_state': 42, 'verbose': -1, 'learning_rate': 0.015355286838886862, 'n_estimators': 1907, 'min_child_samples': 40, 'subsample': 0.8, 'colsample_bytree': 0.5}. Best is trial 0 with value: 0.727031135305915.\n",
      "[I 2025-02-20 03:19:25,579] Trial 1 finished with value: 0.730850472657764 and parameters: {'objective': 'binary', 'metric': 'auc', 'random_state': 42, 'verbose': -1, 'learning_rate': 0.00797854234707418, 'n_estimators': 210, 'min_child_samples': 45, 'subsample': 0.8, 'colsample_bytree': 0.9}. Best is trial 1 with value: 0.730850472657764.\n",
      "[I 2025-02-20 03:19:47,571] Trial 2 finished with value: 0.7286409405231449 and parameters: {'objective': 'binary', 'metric': 'auc', 'random_state': 42, 'verbose': -1, 'learning_rate': 0.005318033256270142, 'n_estimators': 1943, 'min_child_samples': 45, 'subsample': 0.6, 'colsample_bytree': 0.6}. Best is trial 1 with value: 0.730850472657764.\n",
      "[I 2025-02-20 03:19:55,493] Trial 3 finished with value: 0.7311827762714707 and parameters: {'objective': 'binary', 'metric': 'auc', 'random_state': 42, 'verbose': -1, 'learning_rate': 0.008661333735273127, 'n_estimators': 678, 'min_child_samples': 30, 'subsample': 0.7, 'colsample_bytree': 0.6}. Best is trial 3 with value: 0.7311827762714707.\n",
      "[I 2025-02-20 03:19:59,453] Trial 4 finished with value: 0.7283735966371867 and parameters: {'objective': 'binary', 'metric': 'auc', 'random_state': 42, 'verbose': -1, 'learning_rate': 0.03126143958203108, 'n_estimators': 365, 'min_child_samples': 20, 'subsample': 0.7, 'colsample_bytree': 0.7}. Best is trial 3 with value: 0.7311827762714707.\n",
      "[I 2025-02-20 03:20:05,583] Trial 5 finished with value: 0.7265796812801527 and parameters: {'objective': 'binary', 'metric': 'auc', 'random_state': 42, 'verbose': -1, 'learning_rate': 0.05254210669345883, 'n_estimators': 479, 'min_child_samples': 30, 'subsample': 0.8, 'colsample_bytree': 0.5}. Best is trial 3 with value: 0.7311827762714707.\n",
      "[I 2025-02-20 03:20:09,990] Trial 6 finished with value: 0.728347400700763 and parameters: {'objective': 'binary', 'metric': 'auc', 'random_state': 42, 'verbose': -1, 'learning_rate': 0.030860579740535368, 'n_estimators': 424, 'min_child_samples': 10, 'subsample': 1.0, 'colsample_bytree': 1.0}. Best is trial 3 with value: 0.7311827762714707.\n",
      "[I 2025-02-20 03:20:16,378] Trial 7 finished with value: 0.7264068762534301 and parameters: {'objective': 'binary', 'metric': 'auc', 'random_state': 42, 'verbose': -1, 'learning_rate': 0.05632733481673016, 'n_estimators': 679, 'min_child_samples': 10, 'subsample': 0.9, 'colsample_bytree': 0.7}. Best is trial 3 with value: 0.7311827762714707.\n",
      "[I 2025-02-20 03:20:28,341] Trial 8 finished with value: 0.7302740389589684 and parameters: {'objective': 'binary', 'metric': 'auc', 'random_state': 42, 'verbose': -1, 'learning_rate': 0.007206848764305203, 'n_estimators': 1041, 'min_child_samples': 10, 'subsample': 1.0, 'colsample_bytree': 0.6}. Best is trial 3 with value: 0.7311827762714707.\n",
      "[I 2025-02-20 03:20:35,889] Trial 9 finished with value: 0.7275822943138911 and parameters: {'objective': 'binary', 'metric': 'auc', 'random_state': 42, 'verbose': -1, 'learning_rate': 0.036385753170854684, 'n_estimators': 692, 'min_child_samples': 30, 'subsample': 0.8, 'colsample_bytree': 0.6}. Best is trial 3 with value: 0.7311827762714707.\n",
      "[I 2025-02-20 03:20:49,572] Trial 10 finished with value: 0.727461297439741 and parameters: {'objective': 'binary', 'metric': 'auc', 'random_state': 42, 'verbose': -1, 'learning_rate': 0.01491283465543688, 'n_estimators': 1430, 'min_child_samples': 20, 'subsample': 0.5, 'colsample_bytree': 0.8}. Best is trial 3 with value: 0.7311827762714707.\n",
      "[I 2025-02-20 03:20:51,032] Trial 11 finished with value: 0.7309428950346418 and parameters: {'objective': 'binary', 'metric': 'auc', 'random_state': 42, 'verbose': -1, 'learning_rate': 0.009741409532914453, 'n_estimators': 118, 'min_child_samples': 50, 'subsample': 0.7, 'colsample_bytree': 0.9}. Best is trial 3 with value: 0.7311827762714707.\n",
      "[I 2025-02-20 03:20:52,502] Trial 12 finished with value: 0.7308782172398154 and parameters: {'objective': 'binary', 'metric': 'auc', 'random_state': 42, 'verbose': -1, 'learning_rate': 0.011594403956910011, 'n_estimators': 120, 'min_child_samples': 35, 'subsample': 0.6, 'colsample_bytree': 0.9}. Best is trial 3 with value: 0.7311827762714707.\n",
      "[I 2025-02-20 03:21:03,370] Trial 13 finished with value: 0.7285784268613108 and parameters: {'objective': 'binary', 'metric': 'auc', 'random_state': 42, 'verbose': -1, 'learning_rate': 0.010263697175730098, 'n_estimators': 1047, 'min_child_samples': 50, 'subsample': 0.7, 'colsample_bytree': 0.8}. Best is trial 3 with value: 0.7311827762714707.\n",
      "[I 2025-02-20 03:21:11,400] Trial 14 finished with value: 0.7278937587166909 and parameters: {'objective': 'binary', 'metric': 'auc', 'random_state': 42, 'verbose': -1, 'learning_rate': 0.01886928166770133, 'n_estimators': 757, 'min_child_samples': 25, 'subsample': 0.6, 'colsample_bytree': 1.0}. Best is trial 3 with value: 0.7311827762714707.\n",
      "[I 2025-02-20 03:21:24,723] Trial 15 finished with value: 0.7207568015165863 and parameters: {'objective': 'binary', 'metric': 'auc', 'random_state': 42, 'verbose': -1, 'learning_rate': 0.0902334606102013, 'n_estimators': 1567, 'min_child_samples': 35, 'subsample': 0.5, 'colsample_bytree': 0.9}. Best is trial 3 with value: 0.7311827762714707.\n",
      "[I 2025-02-20 03:21:34,358] Trial 16 finished with value: 0.7317074256430112 and parameters: {'objective': 'binary', 'metric': 'auc', 'random_state': 42, 'verbose': -1, 'learning_rate': 0.005065100968094641, 'n_estimators': 892, 'min_child_samples': 50, 'subsample': 0.7, 'colsample_bytree': 0.7}. Best is trial 16 with value: 0.7317074256430112.\n",
      "[I 2025-02-20 03:21:47,943] Trial 17 finished with value: 0.7304712808195172 and parameters: {'objective': 'binary', 'metric': 'auc', 'random_state': 42, 'verbose': -1, 'learning_rate': 0.005282714213884462, 'n_estimators': 1297, 'min_child_samples': 20, 'subsample': 0.9, 'colsample_bytree': 0.7}. Best is trial 16 with value: 0.7317074256430112.\n",
      "[I 2025-02-20 03:21:57,968] Trial 18 finished with value: 0.7313736647140602 and parameters: {'objective': 'binary', 'metric': 'auc', 'random_state': 42, 'verbose': -1, 'learning_rate': 0.006254016440522753, 'n_estimators': 858, 'min_child_samples': 40, 'subsample': 0.6, 'colsample_bytree': 0.6}. Best is trial 16 with value: 0.7317074256430112.\n",
      "[I 2025-02-20 03:22:09,915] Trial 19 finished with value: 0.7307648563798752 and parameters: {'objective': 'binary', 'metric': 'auc', 'random_state': 42, 'verbose': -1, 'learning_rate': 0.006559707928348444, 'n_estimators': 910, 'min_child_samples': 45, 'subsample': 0.6, 'colsample_bytree': 0.5}. Best is trial 16 with value: 0.7317074256430112.\n"
     ]
    },
    {
     "name": "stdout",
     "output_type": "stream",
     "text": [
      "Cat val score : 0.7315494121674752\n",
      "LGBM val score : 0.7317074256430112\n",
      "Ensemble val score : 0.7323334080601176\n",
      "==================================================\n"
     ]
    },
    {
     "name": "stderr",
     "output_type": "stream",
     "text": [
      "[I 2025-02-20 03:24:53,336] A new study created in memory with name: no-name-95eac958-450f-4a64-b739-ef2f142beb47\n"
     ]
    },
    {
     "name": "stdout",
     "output_type": "stream",
     "text": [
      "After SMOTENC:\n",
      "[171111 171111]\n",
      "X_train shape: (342222, 66)\n",
      "y_train shape: (342222,)\n",
      "0:\ttest: 0.7069103\tbest: 0.7069103 (0)\ttotal: 174ms\tremaining: 5m 4s\n",
      "300:\ttest: 0.7177508\tbest: 0.7255315 (29)\ttotal: 55.7s\tremaining: 4m 28s\n"
     ]
    },
    {
     "name": "stderr",
     "output_type": "stream",
     "text": [
      "[I 2025-02-20 03:25:54,941] Trial 0 finished with value: 0.725531538064963 and parameters: {'iterations': 1749, 'depth': 10, 'learning_rate': 0.07453942447208349, 'l2_leaf_reg': 0.39079671568228835}. Best is trial 0 with value: 0.725531538064963.\n"
     ]
    },
    {
     "name": "stdout",
     "output_type": "stream",
     "text": [
      "Stopped by overfitting detector  (300 iterations wait)\n",
      "\n",
      "bestTest = 0.7255315381\n",
      "bestIteration = 29\n",
      "\n",
      "Shrink model to first 30 iterations.\n",
      "저장 완료\n",
      "0:\ttest: 0.7156968\tbest: 0.7156968 (0)\ttotal: 82.8ms\tremaining: 1m 48s\n",
      "300:\ttest: 0.7228975\tbest: 0.7229798 (297)\ttotal: 22.5s\tremaining: 1m 15s\n",
      "600:\ttest: 0.7236226\tbest: 0.7239333 (461)\ttotal: 46.2s\tremaining: 54.7s\n"
     ]
    },
    {
     "name": "stderr",
     "output_type": "stream",
     "text": [
      "[I 2025-02-20 03:26:54,268] Trial 1 finished with value: 0.7239332801848744 and parameters: {'iterations': 1312, 'depth': 5, 'learning_rate': 0.010517943155978949, 'l2_leaf_reg': 15.741890047456648}. Best is trial 0 with value: 0.725531538064963.\n"
     ]
    },
    {
     "name": "stdout",
     "output_type": "stream",
     "text": [
      "Stopped by overfitting detector  (300 iterations wait)\n",
      "\n",
      "bestTest = 0.7239332802\n",
      "bestIteration = 461\n",
      "\n",
      "Shrink model to first 462 iterations.\n",
      "0:\ttest: 0.7067967\tbest: 0.7067967 (0)\ttotal: 137ms\tremaining: 5m\n",
      "300:\ttest: 0.7237859\tbest: 0.7237859 (300)\ttotal: 35.4s\tremaining: 3m 43s\n",
      "600:\ttest: 0.7238845\tbest: 0.7243515 (386)\ttotal: 1m 12s\tremaining: 3m 13s\n"
     ]
    },
    {
     "name": "stderr",
     "output_type": "stream",
     "text": [
      "[I 2025-02-20 03:28:18,181] Trial 2 finished with value: 0.7243515296600264 and parameters: {'iterations': 2202, 'depth': 8, 'learning_rate': 0.006955526958101232, 'l2_leaf_reg': 65.98711072054076}. Best is trial 0 with value: 0.725531538064963.\n"
     ]
    },
    {
     "name": "stdout",
     "output_type": "stream",
     "text": [
      "Stopped by overfitting detector  (300 iterations wait)\n",
      "\n",
      "bestTest = 0.7243515297\n",
      "bestIteration = 386\n",
      "\n",
      "Shrink model to first 387 iterations.\n",
      "0:\ttest: 0.7156968\tbest: 0.7156968 (0)\ttotal: 84.1ms\tremaining: 3m 44s\n",
      "300:\ttest: 0.7241081\tbest: 0.7244724 (209)\ttotal: 23.1s\tremaining: 3m 1s\n"
     ]
    },
    {
     "name": "stderr",
     "output_type": "stream",
     "text": [
      "[I 2025-02-20 03:28:57,818] Trial 3 finished with value: 0.7244724312329072 and parameters: {'iterations': 2665, 'depth': 5, 'learning_rate': 0.02227337188467456, 'l2_leaf_reg': 0.0012601639723276807}. Best is trial 0 with value: 0.725531538064963.\n"
     ]
    },
    {
     "name": "stdout",
     "output_type": "stream",
     "text": [
      "Stopped by overfitting detector  (300 iterations wait)\n",
      "\n",
      "bestTest = 0.7244724312\n",
      "bestIteration = 209\n",
      "\n",
      "Shrink model to first 210 iterations.\n",
      "0:\ttest: 0.7133935\tbest: 0.7133935 (0)\ttotal: 111ms\tremaining: 2m 59s\n",
      "300:\ttest: 0.7211653\tbest: 0.7258450 (47)\ttotal: 31.5s\tremaining: 2m 16s\n"
     ]
    },
    {
     "name": "stderr",
     "output_type": "stream",
     "text": [
      "[I 2025-02-20 03:29:34,644] Trial 4 finished with value: 0.7258449759982164 and parameters: {'iterations': 1608, 'depth': 7, 'learning_rate': 0.046034776771001, 'l2_leaf_reg': 0.005589524205217926}. Best is trial 4 with value: 0.7258449759982164.\n"
     ]
    },
    {
     "name": "stdout",
     "output_type": "stream",
     "text": [
      "Stopped by overfitting detector  (300 iterations wait)\n",
      "\n",
      "bestTest = 0.725844976\n",
      "bestIteration = 47\n",
      "\n",
      "Shrink model to first 48 iterations.\n",
      "저장 완료\n",
      "0:\ttest: 0.7119019\tbest: 0.7119019 (0)\ttotal: 71.3ms\tremaining: 2m 38s\n",
      "300:\ttest: 0.7229715\tbest: 0.7242789 (105)\ttotal: 18.6s\tremaining: 1m 58s\n"
     ]
    },
    {
     "name": "stderr",
     "output_type": "stream",
     "text": [
      "[I 2025-02-20 03:30:00,075] Trial 5 finished with value: 0.7242788664130022 and parameters: {'iterations': 2224, 'depth': 4, 'learning_rate': 0.032753741610845724, 'l2_leaf_reg': 0.01578232781079559}. Best is trial 4 with value: 0.7258449759982164.\n"
     ]
    },
    {
     "name": "stdout",
     "output_type": "stream",
     "text": [
      "Stopped by overfitting detector  (300 iterations wait)\n",
      "\n",
      "bestTest = 0.7242788664\n",
      "bestIteration = 105\n",
      "\n",
      "Shrink model to first 106 iterations.\n",
      "0:\ttest: 0.7069381\tbest: 0.7069381 (0)\ttotal: 148ms\tremaining: 4m 43s\n",
      "300:\ttest: 0.7220430\tbest: 0.7253903 (93)\ttotal: 41.9s\tremaining: 3m 44s\n"
     ]
    },
    {
     "name": "stderr",
     "output_type": "stream",
     "text": [
      "[I 2025-02-20 03:30:54,952] Trial 6 finished with value: 0.7253903214381572 and parameters: {'iterations': 1912, 'depth': 9, 'learning_rate': 0.023969009305044177, 'l2_leaf_reg': 0.12173252504194051}. Best is trial 4 with value: 0.7258449759982164.\n"
     ]
    },
    {
     "name": "stdout",
     "output_type": "stream",
     "text": [
      "Stopped by overfitting detector  (300 iterations wait)\n",
      "\n",
      "bestTest = 0.7253903214\n",
      "bestIteration = 93\n",
      "\n",
      "Shrink model to first 94 iterations.\n",
      "0:\ttest: 0.7119019\tbest: 0.7119019 (0)\ttotal: 69.4ms\tremaining: 2m 31s\n",
      "300:\ttest: 0.7207391\tbest: 0.7237460 (92)\ttotal: 18.7s\tremaining: 1m 57s\n"
     ]
    },
    {
     "name": "stderr",
     "output_type": "stream",
     "text": [
      "[I 2025-02-20 03:31:19,646] Trial 7 finished with value: 0.7237459933360906 and parameters: {'iterations': 2185, 'depth': 4, 'learning_rate': 0.06271676093063665, 'l2_leaf_reg': 0.0010547383621352044}. Best is trial 4 with value: 0.7258449759982164.\n"
     ]
    },
    {
     "name": "stdout",
     "output_type": "stream",
     "text": [
      "Stopped by overfitting detector  (300 iterations wait)\n",
      "\n",
      "bestTest = 0.7237459933\n",
      "bestIteration = 92\n",
      "\n",
      "Shrink model to first 93 iterations.\n",
      "0:\ttest: 0.7068967\tbest: 0.7068967 (0)\ttotal: 169ms\tremaining: 3m 10s\n",
      "300:\ttest: 0.7183203\tbest: 0.7244294 (25)\ttotal: 57s\tremaining: 2m 36s\n"
     ]
    },
    {
     "name": "stderr",
     "output_type": "stream",
     "text": [
      "[I 2025-02-20 03:32:21,631] Trial 8 finished with value: 0.7244293828553461 and parameters: {'iterations': 1130, 'depth': 10, 'learning_rate': 0.09673504314208314, 'l2_leaf_reg': 7.085721663941605}. Best is trial 4 with value: 0.7258449759982164.\n"
     ]
    },
    {
     "name": "stdout",
     "output_type": "stream",
     "text": [
      "Stopped by overfitting detector  (300 iterations wait)\n",
      "\n",
      "bestTest = 0.7244293829\n",
      "bestIteration = 25\n",
      "\n",
      "Shrink model to first 26 iterations.\n",
      "0:\ttest: 0.7119019\tbest: 0.7119019 (0)\ttotal: 67.8ms\tremaining: 1m 49s\n",
      "300:\ttest: 0.7219429\tbest: 0.7242783 (117)\ttotal: 18.6s\tremaining: 1m 21s\n"
     ]
    },
    {
     "name": "stderr",
     "output_type": "stream",
     "text": [
      "[I 2025-02-20 03:32:47,951] Trial 9 finished with value: 0.7242782707800686 and parameters: {'iterations': 1609, 'depth': 4, 'learning_rate': 0.07000213751865492, 'l2_leaf_reg': 0.04374364439939081}. Best is trial 4 with value: 0.7258449759982164.\n"
     ]
    },
    {
     "name": "stdout",
     "output_type": "stream",
     "text": [
      "Stopped by overfitting detector  (300 iterations wait)\n",
      "\n",
      "bestTest = 0.7242782708\n",
      "bestIteration = 117\n",
      "\n",
      "Shrink model to first 118 iterations.\n",
      "0:\ttest: 0.7133935\tbest: 0.7133935 (0)\ttotal: 111ms\tremaining: 5m 21s\n",
      "300:\ttest: 0.7198925\tbest: 0.7253434 (52)\ttotal: 31.2s\tremaining: 4m 28s\n"
     ]
    },
    {
     "name": "stderr",
     "output_type": "stream",
     "text": [
      "[I 2025-02-20 03:33:24,739] Trial 10 finished with value: 0.7253434252718445 and parameters: {'iterations': 2891, 'depth': 7, 'learning_rate': 0.04584783385796229, 'l2_leaf_reg': 0.00012816553469185968}. Best is trial 4 with value: 0.7258449759982164.\n"
     ]
    },
    {
     "name": "stdout",
     "output_type": "stream",
     "text": [
      "Stopped by overfitting detector  (300 iterations wait)\n",
      "\n",
      "bestTest = 0.7253434253\n",
      "bestIteration = 52\n",
      "\n",
      "Shrink model to first 53 iterations.\n",
      "0:\ttest: 0.7133935\tbest: 0.7133935 (0)\ttotal: 111ms\tremaining: 3m 5s\n",
      "300:\ttest: 0.7197627\tbest: 0.7252646 (28)\ttotal: 32.6s\tremaining: 2m 27s\n"
     ]
    },
    {
     "name": "stderr",
     "output_type": "stream",
     "text": [
      "[I 2025-02-20 03:34:00,603] Trial 11 finished with value: 0.7252645714131962 and parameters: {'iterations': 1663, 'depth': 7, 'learning_rate': 0.08373923189253431, 'l2_leaf_reg': 0.6727141011343774}. Best is trial 4 with value: 0.7258449759982164.\n"
     ]
    },
    {
     "name": "stdout",
     "output_type": "stream",
     "text": [
      "Stopped by overfitting detector  (300 iterations wait)\n",
      "\n",
      "bestTest = 0.7252645714\n",
      "bestIteration = 28\n",
      "\n",
      "Shrink model to first 29 iterations.\n",
      "0:\ttest: 0.7067973\tbest: 0.7067973 (0)\ttotal: 129ms\tremaining: 3m 23s\n",
      "300:\ttest: 0.7203126\tbest: 0.7253061 (50)\ttotal: 37.2s\tremaining: 2m 37s\n"
     ]
    },
    {
     "name": "stderr",
     "output_type": "stream",
     "text": [
      "[I 2025-02-20 03:34:44,386] Trial 12 finished with value: 0.7253061068831056 and parameters: {'iterations': 1574, 'depth': 8, 'learning_rate': 0.052318249406654055, 'l2_leaf_reg': 0.6223130621800085}. Best is trial 4 with value: 0.7258449759982164.\n"
     ]
    },
    {
     "name": "stdout",
     "output_type": "stream",
     "text": [
      "Stopped by overfitting detector  (300 iterations wait)\n",
      "\n",
      "bestTest = 0.7253061069\n",
      "bestIteration = 50\n",
      "\n",
      "Shrink model to first 51 iterations.\n",
      "0:\ttest: 0.7069103\tbest: 0.7069103 (0)\ttotal: 165ms\tremaining: 5m 17s\n",
      "300:\ttest: 0.7150737\tbest: 0.7238009 (39)\ttotal: 53.7s\tremaining: 4m 49s\n"
     ]
    },
    {
     "name": "stderr",
     "output_type": "stream",
     "text": [
      "[I 2025-02-20 03:35:45,738] Trial 13 finished with value: 0.7238009186343493 and parameters: {'iterations': 1925, 'depth': 10, 'learning_rate': 0.07202463989307298, 'l2_leaf_reg': 0.006511519184838103}. Best is trial 4 with value: 0.7258449759982164.\n"
     ]
    },
    {
     "name": "stdout",
     "output_type": "stream",
     "text": [
      "Stopped by overfitting detector  (300 iterations wait)\n",
      "\n",
      "bestTest = 0.7238009186\n",
      "bestIteration = 39\n",
      "\n",
      "Shrink model to first 40 iterations.\n",
      "0:\ttest: 0.7136407\tbest: 0.7136407 (0)\ttotal: 92.6ms\tremaining: 2m 2s\n",
      "300:\ttest: 0.7218027\tbest: 0.7256321 (57)\ttotal: 27.1s\tremaining: 1m 31s\n"
     ]
    },
    {
     "name": "stderr",
     "output_type": "stream",
     "text": [
      "[I 2025-02-20 03:36:18,372] Trial 14 finished with value: 0.7256320610497391 and parameters: {'iterations': 1320, 'depth': 6, 'learning_rate': 0.04310932818780806, 'l2_leaf_reg': 0.3678197518299617}. Best is trial 4 with value: 0.7258449759982164.\n"
     ]
    },
    {
     "name": "stdout",
     "output_type": "stream",
     "text": [
      "Stopped by overfitting detector  (300 iterations wait)\n",
      "\n",
      "bestTest = 0.725632061\n",
      "bestIteration = 57\n",
      "\n",
      "Shrink model to first 58 iterations.\n",
      "0:\ttest: 0.7136407\tbest: 0.7136407 (0)\ttotal: 96.8ms\tremaining: 2m 3s\n",
      "300:\ttest: 0.7218826\tbest: 0.7253184 (60)\ttotal: 26.9s\tremaining: 1m 26s\n"
     ]
    },
    {
     "name": "stderr",
     "output_type": "stream",
     "text": [
      "[I 2025-02-20 03:36:50,850] Trial 15 finished with value: 0.7253184364848331 and parameters: {'iterations': 1272, 'depth': 6, 'learning_rate': 0.039868727949200294, 'l2_leaf_reg': 0.0044351655954852475}. Best is trial 4 with value: 0.7258449759982164.\n"
     ]
    },
    {
     "name": "stdout",
     "output_type": "stream",
     "text": [
      "Stopped by overfitting detector  (300 iterations wait)\n",
      "\n",
      "bestTest = 0.7253184365\n",
      "bestIteration = 60\n",
      "\n",
      "Shrink model to first 61 iterations.\n",
      "0:\ttest: 0.7136407\tbest: 0.7136407 (0)\ttotal: 93.1ms\tremaining: 1m 37s\n",
      "300:\ttest: 0.7208211\tbest: 0.7245001 (71)\ttotal: 27.5s\tremaining: 1m 8s\n"
     ]
    },
    {
     "name": "stderr",
     "output_type": "stream",
     "text": [
      "[I 2025-02-20 03:37:25,237] Trial 16 finished with value: 0.7245000566883717 and parameters: {'iterations': 1050, 'depth': 6, 'learning_rate': 0.0564460253096518, 'l2_leaf_reg': 3.788345389907885}. Best is trial 4 with value: 0.7258449759982164.\n"
     ]
    },
    {
     "name": "stdout",
     "output_type": "stream",
     "text": [
      "Stopped by overfitting detector  (300 iterations wait)\n",
      "\n",
      "bestTest = 0.7245000567\n",
      "bestIteration = 71\n",
      "\n",
      "Shrink model to first 72 iterations.\n",
      "0:\ttest: 0.7136407\tbest: 0.7136407 (0)\ttotal: 92.2ms\tremaining: 2m 7s\n",
      "300:\ttest: 0.7226639\tbest: 0.7258093 (83)\ttotal: 26.7s\tremaining: 1m 36s\n"
     ]
    },
    {
     "name": "stderr",
     "output_type": "stream",
     "text": [
      "[I 2025-02-20 03:37:59,700] Trial 17 finished with value: 0.7258093333234643 and parameters: {'iterations': 1383, 'depth': 6, 'learning_rate': 0.03465013329895579, 'l2_leaf_reg': 0.08757630105651527}. Best is trial 4 with value: 0.7258449759982164.\n"
     ]
    },
    {
     "name": "stdout",
     "output_type": "stream",
     "text": [
      "Stopped by overfitting detector  (300 iterations wait)\n",
      "\n",
      "bestTest = 0.7258093333\n",
      "bestIteration = 83\n",
      "\n",
      "Shrink model to first 84 iterations.\n",
      "0:\ttest: 0.7133935\tbest: 0.7133935 (0)\ttotal: 111ms\tremaining: 2m 40s\n",
      "300:\ttest: 0.7227814\tbest: 0.7259548 (98)\ttotal: 30.5s\tremaining: 1m 56s\n"
     ]
    },
    {
     "name": "stderr",
     "output_type": "stream",
     "text": [
      "[I 2025-02-20 03:38:40,602] Trial 18 finished with value: 0.7259547987985305 and parameters: {'iterations': 1449, 'depth': 7, 'learning_rate': 0.026571271089528635, 'l2_leaf_reg': 0.00021556214692914282}. Best is trial 18 with value: 0.7259547987985305.\n"
     ]
    },
    {
     "name": "stdout",
     "output_type": "stream",
     "text": [
      "Stopped by overfitting detector  (300 iterations wait)\n",
      "\n",
      "bestTest = 0.7259547988\n",
      "bestIteration = 98\n",
      "\n",
      "Shrink model to first 99 iterations.\n",
      "저장 완료\n",
      "0:\ttest: 0.7067973\tbest: 0.7067973 (0)\ttotal: 134ms\tremaining: 5m 30s\n",
      "300:\ttest: 0.7224823\tbest: 0.7249625 (106)\ttotal: 35.9s\tremaining: 4m 18s\n"
     ]
    },
    {
     "name": "stderr",
     "output_type": "stream",
     "text": [
      "[I 2025-02-20 03:39:30,373] Trial 19 finished with value: 0.7249624743310001 and parameters: {'iterations': 2471, 'depth': 8, 'learning_rate': 0.022599675241488006, 'l2_leaf_reg': 0.00010276359403354237}. Best is trial 18 with value: 0.7259547987985305.\n",
      "[I 2025-02-20 03:39:30,375] A new study created in memory with name: no-name-f547f895-e089-4cee-bae2-cb0ce9fbe8eb\n"
     ]
    },
    {
     "name": "stdout",
     "output_type": "stream",
     "text": [
      "Stopped by overfitting detector  (300 iterations wait)\n",
      "\n",
      "bestTest = 0.7249624743\n",
      "bestIteration = 106\n",
      "\n",
      "Shrink model to first 107 iterations.\n"
     ]
    },
    {
     "name": "stderr",
     "output_type": "stream",
     "text": [
      "[I 2025-02-20 03:39:53,771] Trial 0 finished with value: 0.718737474832126 and parameters: {'objective': 'binary', 'metric': 'auc', 'random_state': 42, 'verbose': -1, 'learning_rate': 0.015355286838886862, 'n_estimators': 1907, 'min_child_samples': 40, 'subsample': 0.8, 'colsample_bytree': 0.5}. Best is trial 0 with value: 0.718737474832126.\n",
      "[I 2025-02-20 03:39:56,167] Trial 1 finished with value: 0.7255721244930647 and parameters: {'objective': 'binary', 'metric': 'auc', 'random_state': 42, 'verbose': -1, 'learning_rate': 0.00797854234707418, 'n_estimators': 210, 'min_child_samples': 45, 'subsample': 0.8, 'colsample_bytree': 0.9}. Best is trial 1 with value: 0.7255721244930647.\n",
      "[I 2025-02-20 03:40:18,130] Trial 2 finished with value: 0.7213678017799672 and parameters: {'objective': 'binary', 'metric': 'auc', 'random_state': 42, 'verbose': -1, 'learning_rate': 0.005318033256270142, 'n_estimators': 1943, 'min_child_samples': 45, 'subsample': 0.6, 'colsample_bytree': 0.6}. Best is trial 1 with value: 0.7255721244930647.\n",
      "[I 2025-02-20 03:40:26,040] Trial 3 finished with value: 0.7235705714953459 and parameters: {'objective': 'binary', 'metric': 'auc', 'random_state': 42, 'verbose': -1, 'learning_rate': 0.008661333735273127, 'n_estimators': 678, 'min_child_samples': 30, 'subsample': 0.7, 'colsample_bytree': 0.6}. Best is trial 1 with value: 0.7255721244930647.\n",
      "[I 2025-02-20 03:40:29,958] Trial 4 finished with value: 0.7210733843917296 and parameters: {'objective': 'binary', 'metric': 'auc', 'random_state': 42, 'verbose': -1, 'learning_rate': 0.03126143958203108, 'n_estimators': 365, 'min_child_samples': 20, 'subsample': 0.7, 'colsample_bytree': 0.7}. Best is trial 1 with value: 0.7255721244930647.\n",
      "[I 2025-02-20 03:40:36,067] Trial 5 finished with value: 0.7182754979578685 and parameters: {'objective': 'binary', 'metric': 'auc', 'random_state': 42, 'verbose': -1, 'learning_rate': 0.05254210669345883, 'n_estimators': 479, 'min_child_samples': 30, 'subsample': 0.8, 'colsample_bytree': 0.5}. Best is trial 1 with value: 0.7255721244930647.\n",
      "[I 2025-02-20 03:40:40,502] Trial 6 finished with value: 0.7201010096565917 and parameters: {'objective': 'binary', 'metric': 'auc', 'random_state': 42, 'verbose': -1, 'learning_rate': 0.030860579740535368, 'n_estimators': 424, 'min_child_samples': 10, 'subsample': 1.0, 'colsample_bytree': 1.0}. Best is trial 1 with value: 0.7255721244930647.\n",
      "[I 2025-02-20 03:40:47,010] Trial 7 finished with value: 0.718478672322437 and parameters: {'objective': 'binary', 'metric': 'auc', 'random_state': 42, 'verbose': -1, 'learning_rate': 0.05632733481673016, 'n_estimators': 679, 'min_child_samples': 10, 'subsample': 0.9, 'colsample_bytree': 0.7}. Best is trial 1 with value: 0.7255721244930647.\n",
      "[I 2025-02-20 03:40:58,980] Trial 8 finished with value: 0.7229489332277692 and parameters: {'objective': 'binary', 'metric': 'auc', 'random_state': 42, 'verbose': -1, 'learning_rate': 0.007206848764305203, 'n_estimators': 1041, 'min_child_samples': 10, 'subsample': 1.0, 'colsample_bytree': 0.6}. Best is trial 1 with value: 0.7255721244930647.\n",
      "[I 2025-02-20 03:41:06,558] Trial 9 finished with value: 0.719186979152752 and parameters: {'objective': 'binary', 'metric': 'auc', 'random_state': 42, 'verbose': -1, 'learning_rate': 0.036385753170854684, 'n_estimators': 692, 'min_child_samples': 30, 'subsample': 0.8, 'colsample_bytree': 0.6}. Best is trial 1 with value: 0.7255721244930647.\n",
      "[I 2025-02-20 03:41:07,950] Trial 10 finished with value: 0.7257374126321642 and parameters: {'objective': 'binary', 'metric': 'auc', 'random_state': 42, 'verbose': -1, 'learning_rate': 0.014579928528334861, 'n_estimators': 111, 'min_child_samples': 50, 'subsample': 0.5, 'colsample_bytree': 1.0}. Best is trial 10 with value: 0.7257374126321642.\n",
      "[I 2025-02-20 03:41:09,509] Trial 11 finished with value: 0.7256165428263732 and parameters: {'objective': 'binary', 'metric': 'auc', 'random_state': 42, 'verbose': -1, 'learning_rate': 0.01426509269778552, 'n_estimators': 127, 'min_child_samples': 50, 'subsample': 0.5, 'colsample_bytree': 1.0}. Best is trial 10 with value: 0.7257374126321642.\n",
      "[I 2025-02-20 03:41:10,862] Trial 12 finished with value: 0.7256275183558981 and parameters: {'objective': 'binary', 'metric': 'auc', 'random_state': 42, 'verbose': -1, 'learning_rate': 0.014519894097923208, 'n_estimators': 108, 'min_child_samples': 50, 'subsample': 0.5, 'colsample_bytree': 1.0}. Best is trial 10 with value: 0.7257374126321642.\n",
      "[I 2025-02-20 03:41:24,209] Trial 13 finished with value: 0.7190479266589386 and parameters: {'objective': 'binary', 'metric': 'auc', 'random_state': 42, 'verbose': -1, 'learning_rate': 0.016471548945163384, 'n_estimators': 1411, 'min_child_samples': 50, 'subsample': 0.5, 'colsample_bytree': 0.9}. Best is trial 10 with value: 0.7257374126321642.\n",
      "[I 2025-02-20 03:41:34,933] Trial 14 finished with value: 0.720240093917495 and parameters: {'objective': 'binary', 'metric': 'auc', 'random_state': 42, 'verbose': -1, 'learning_rate': 0.012211119392416786, 'n_estimators': 1064, 'min_child_samples': 40, 'subsample': 0.6, 'colsample_bytree': 0.9}. Best is trial 10 with value: 0.7257374126321642.\n",
      "[I 2025-02-20 03:41:36,258] Trial 15 finished with value: 0.7204087136301368 and parameters: {'objective': 'binary', 'metric': 'auc', 'random_state': 42, 'verbose': -1, 'learning_rate': 0.0902334606102013, 'n_estimators': 105, 'min_child_samples': 40, 'subsample': 0.6, 'colsample_bytree': 0.8}. Best is trial 10 with value: 0.7257374126321642.\n",
      "[I 2025-02-20 03:41:45,692] Trial 16 finished with value: 0.7189929497391588 and parameters: {'objective': 'binary', 'metric': 'auc', 'random_state': 42, 'verbose': -1, 'learning_rate': 0.022245469342702568, 'n_estimators': 980, 'min_child_samples': 50, 'subsample': 0.5, 'colsample_bytree': 1.0}. Best is trial 10 with value: 0.7257374126321642.\n",
      "[I 2025-02-20 03:41:59,387] Trial 17 finished with value: 0.7188676762205448 and parameters: {'objective': 'binary', 'metric': 'auc', 'random_state': 42, 'verbose': -1, 'learning_rate': 0.022303238965165326, 'n_estimators': 1487, 'min_child_samples': 20, 'subsample': 0.6, 'colsample_bytree': 0.8}. Best is trial 10 with value: 0.7257374126321642.\n",
      "[I 2025-02-20 03:42:03,496] Trial 18 finished with value: 0.7241299224416032 and parameters: {'objective': 'binary', 'metric': 'auc', 'random_state': 42, 'verbose': -1, 'learning_rate': 0.009378990642181477, 'n_estimators': 378, 'min_child_samples': 35, 'subsample': 0.5, 'colsample_bytree': 0.9}. Best is trial 10 with value: 0.7257374126321642.\n",
      "[I 2025-02-20 03:42:12,248] Trial 19 finished with value: 0.7215834050184187 and parameters: {'objective': 'binary', 'metric': 'auc', 'random_state': 42, 'verbose': -1, 'learning_rate': 0.010567805804016023, 'n_estimators': 850, 'min_child_samples': 45, 'subsample': 0.7, 'colsample_bytree': 1.0}. Best is trial 10 with value: 0.7257374126321642.\n"
     ]
    },
    {
     "name": "stdout",
     "output_type": "stream",
     "text": [
      "Cat val score : 0.7259547987985306\n",
      "LGBM val score : 0.7257374126321642\n",
      "Ensemble val score : 0.7269798592520966\n",
      "==================================================\n"
     ]
    },
    {
     "name": "stderr",
     "output_type": "stream",
     "text": [
      "[I 2025-02-20 03:44:43,702] A new study created in memory with name: no-name-54b2e53a-0c4f-48bd-bf5f-d9b735e0cabc\n"
     ]
    },
    {
     "name": "stdout",
     "output_type": "stream",
     "text": [
      "After SMOTENC:\n",
      "[171111 171111]\n",
      "X_train shape: (342222, 66)\n",
      "y_train shape: (342222,)\n",
      "0:\ttest: 0.7159381\tbest: 0.7159381 (0)\ttotal: 176ms\tremaining: 5m 8s\n",
      "300:\ttest: 0.7210702\tbest: 0.7241155 (44)\ttotal: 55s\tremaining: 4m 24s\n"
     ]
    },
    {
     "name": "stderr",
     "output_type": "stream",
     "text": [
      "[I 2025-02-20 03:45:47,341] Trial 0 finished with value: 0.7241155478334702 and parameters: {'iterations': 1749, 'depth': 10, 'learning_rate': 0.07453942447208349, 'l2_leaf_reg': 0.39079671568228835}. Best is trial 0 with value: 0.7241155478334702.\n"
     ]
    },
    {
     "name": "stdout",
     "output_type": "stream",
     "text": [
      "Stopped by overfitting detector  (300 iterations wait)\n",
      "\n",
      "bestTest = 0.7241155478\n",
      "bestIteration = 44\n",
      "\n",
      "Shrink model to first 45 iterations.\n",
      "저장 완료\n",
      "0:\ttest: 0.7072314\tbest: 0.7072314 (0)\ttotal: 77.8ms\tremaining: 1m 42s\n",
      "300:\ttest: 0.7217805\tbest: 0.7217805 (300)\ttotal: 22.2s\tremaining: 1m 14s\n",
      "600:\ttest: 0.7226362\tbest: 0.7227176 (581)\ttotal: 45.8s\tremaining: 54.2s\n",
      "900:\ttest: 0.7225666\tbest: 0.7227321 (766)\ttotal: 1m 9s\tremaining: 31.8s\n"
     ]
    },
    {
     "name": "stderr",
     "output_type": "stream",
     "text": [
      "[I 2025-02-20 03:47:10,247] Trial 1 finished with value: 0.7227320910728157 and parameters: {'iterations': 1312, 'depth': 5, 'learning_rate': 0.010517943155978949, 'l2_leaf_reg': 15.741890047456648}. Best is trial 0 with value: 0.7241155478334702.\n"
     ]
    },
    {
     "name": "stdout",
     "output_type": "stream",
     "text": [
      "Stopped by overfitting detector  (300 iterations wait)\n",
      "\n",
      "bestTest = 0.7227320911\n",
      "bestIteration = 766\n",
      "\n",
      "Shrink model to first 767 iterations.\n",
      "0:\ttest: 0.7157146\tbest: 0.7157146 (0)\ttotal: 129ms\tremaining: 4m 43s\n",
      "300:\ttest: 0.7224848\tbest: 0.7225389 (298)\ttotal: 35.3s\tremaining: 3m 42s\n",
      "600:\ttest: 0.7233514\tbest: 0.7235458 (510)\ttotal: 1m 11s\tremaining: 3m 9s\n"
     ]
    },
    {
     "name": "stderr",
     "output_type": "stream",
     "text": [
      "[I 2025-02-20 03:48:47,550] Trial 2 finished with value: 0.7235458368450527 and parameters: {'iterations': 2202, 'depth': 8, 'learning_rate': 0.006955526958101232, 'l2_leaf_reg': 65.98711072054076}. Best is trial 0 with value: 0.7241155478334702.\n"
     ]
    },
    {
     "name": "stdout",
     "output_type": "stream",
     "text": [
      "Stopped by overfitting detector  (300 iterations wait)\n",
      "\n",
      "bestTest = 0.7235458368\n",
      "bestIteration = 510\n",
      "\n",
      "Shrink model to first 511 iterations.\n",
      "0:\ttest: 0.7072376\tbest: 0.7072376 (0)\ttotal: 81.8ms\tremaining: 3m 37s\n",
      "300:\ttest: 0.7228126\tbest: 0.7232088 (203)\ttotal: 22.5s\tremaining: 2m 57s\n"
     ]
    },
    {
     "name": "stderr",
     "output_type": "stream",
     "text": [
      "[I 2025-02-20 03:49:26,098] Trial 3 finished with value: 0.7232087681678766 and parameters: {'iterations': 2665, 'depth': 5, 'learning_rate': 0.02227337188467456, 'l2_leaf_reg': 0.0012601639723276807}. Best is trial 0 with value: 0.7241155478334702.\n"
     ]
    },
    {
     "name": "stdout",
     "output_type": "stream",
     "text": [
      "Stopped by overfitting detector  (300 iterations wait)\n",
      "\n",
      "bestTest = 0.7232087682\n",
      "bestIteration = 203\n",
      "\n",
      "Shrink model to first 204 iterations.\n",
      "0:\ttest: 0.7135683\tbest: 0.7135683 (0)\ttotal: 106ms\tremaining: 2m 50s\n",
      "300:\ttest: 0.7213612\tbest: 0.7234815 (74)\ttotal: 31.5s\tremaining: 2m 16s\n"
     ]
    },
    {
     "name": "stderr",
     "output_type": "stream",
     "text": [
      "[I 2025-02-20 03:50:05,988] Trial 4 finished with value: 0.7234815283426452 and parameters: {'iterations': 1608, 'depth': 7, 'learning_rate': 0.046034776771001, 'l2_leaf_reg': 0.005589524205217926}. Best is trial 0 with value: 0.7241155478334702.\n"
     ]
    },
    {
     "name": "stdout",
     "output_type": "stream",
     "text": [
      "Stopped by overfitting detector  (300 iterations wait)\n",
      "\n",
      "bestTest = 0.7234815283\n",
      "bestIteration = 74\n",
      "\n",
      "Shrink model to first 75 iterations.\n",
      "0:\ttest: 0.7061141\tbest: 0.7061141 (0)\ttotal: 68.9ms\tremaining: 2m 33s\n",
      "300:\ttest: 0.7228830\tbest: 0.7231712 (217)\ttotal: 18.5s\tremaining: 1m 58s\n"
     ]
    },
    {
     "name": "stderr",
     "output_type": "stream",
     "text": [
      "[I 2025-02-20 03:50:38,264] Trial 5 finished with value: 0.7231712274095091 and parameters: {'iterations': 2224, 'depth': 4, 'learning_rate': 0.032753741610845724, 'l2_leaf_reg': 0.01578232781079559}. Best is trial 0 with value: 0.7241155478334702.\n"
     ]
    },
    {
     "name": "stdout",
     "output_type": "stream",
     "text": [
      "Stopped by overfitting detector  (300 iterations wait)\n",
      "\n",
      "bestTest = 0.7231712274\n",
      "bestIteration = 217\n",
      "\n",
      "Shrink model to first 218 iterations.\n",
      "0:\ttest: 0.7157909\tbest: 0.7157909 (0)\ttotal: 144ms\tremaining: 4m 34s\n",
      "300:\ttest: 0.7230237\tbest: 0.7240530 (108)\ttotal: 41s\tremaining: 3m 39s\n"
     ]
    },
    {
     "name": "stderr",
     "output_type": "stream",
     "text": [
      "[I 2025-02-20 03:51:34,648] Trial 6 finished with value: 0.7240530421134086 and parameters: {'iterations': 1912, 'depth': 9, 'learning_rate': 0.023969009305044177, 'l2_leaf_reg': 0.12173252504194051}. Best is trial 0 with value: 0.7241155478334702.\n"
     ]
    },
    {
     "name": "stdout",
     "output_type": "stream",
     "text": [
      "Stopped by overfitting detector  (300 iterations wait)\n",
      "\n",
      "bestTest = 0.7240530421\n",
      "bestIteration = 108\n",
      "\n",
      "Shrink model to first 109 iterations.\n",
      "0:\ttest: 0.7061141\tbest: 0.7061141 (0)\ttotal: 69.6ms\tremaining: 2m 32s\n",
      "300:\ttest: 0.7209749\tbest: 0.7226674 (102)\ttotal: 19s\tremaining: 1m 58s\n"
     ]
    },
    {
     "name": "stderr",
     "output_type": "stream",
     "text": [
      "[I 2025-02-20 03:52:00,384] Trial 7 finished with value: 0.7226674172488754 and parameters: {'iterations': 2185, 'depth': 4, 'learning_rate': 0.06271676093063665, 'l2_leaf_reg': 0.0010547383621352044}. Best is trial 0 with value: 0.7241155478334702.\n"
     ]
    },
    {
     "name": "stdout",
     "output_type": "stream",
     "text": [
      "Stopped by overfitting detector  (300 iterations wait)\n",
      "\n",
      "bestTest = 0.7226674172\n",
      "bestIteration = 102\n",
      "\n",
      "Shrink model to first 103 iterations.\n",
      "0:\ttest: 0.7159483\tbest: 0.7159483 (0)\ttotal: 187ms\tremaining: 3m 30s\n",
      "300:\ttest: 0.7210325\tbest: 0.7236982 (33)\ttotal: 57.5s\tremaining: 2m 38s\n"
     ]
    },
    {
     "name": "stderr",
     "output_type": "stream",
     "text": [
      "[I 2025-02-20 03:53:05,001] Trial 8 finished with value: 0.7236982076912635 and parameters: {'iterations': 1130, 'depth': 10, 'learning_rate': 0.09673504314208314, 'l2_leaf_reg': 7.085721663941605}. Best is trial 0 with value: 0.7241155478334702.\n"
     ]
    },
    {
     "name": "stdout",
     "output_type": "stream",
     "text": [
      "Stopped by overfitting detector  (300 iterations wait)\n",
      "\n",
      "bestTest = 0.7236982077\n",
      "bestIteration = 33\n",
      "\n",
      "Shrink model to first 34 iterations.\n",
      "0:\ttest: 0.7061141\tbest: 0.7061141 (0)\ttotal: 68.3ms\tremaining: 1m 49s\n",
      "300:\ttest: 0.7212153\tbest: 0.7230803 (112)\ttotal: 19s\tremaining: 1m 22s\n"
     ]
    },
    {
     "name": "stderr",
     "output_type": "stream",
     "text": [
      "[I 2025-02-20 03:53:31,335] Trial 9 finished with value: 0.7230802941149655 and parameters: {'iterations': 1609, 'depth': 4, 'learning_rate': 0.07000213751865492, 'l2_leaf_reg': 0.04374364439939081}. Best is trial 0 with value: 0.7241155478334702.\n"
     ]
    },
    {
     "name": "stdout",
     "output_type": "stream",
     "text": [
      "Stopped by overfitting detector  (300 iterations wait)\n",
      "\n",
      "bestTest = 0.7230802941\n",
      "bestIteration = 112\n",
      "\n",
      "Shrink model to first 113 iterations.\n",
      "0:\ttest: 0.7159405\tbest: 0.7159405 (0)\ttotal: 176ms\tremaining: 8m 27s\n",
      "300:\ttest: 0.7201859\tbest: 0.7243580 (27)\ttotal: 55.7s\tremaining: 7m 59s\n"
     ]
    },
    {
     "name": "stderr",
     "output_type": "stream",
     "text": [
      "[I 2025-02-20 03:54:32,433] Trial 10 finished with value: 0.7243580339716623 and parameters: {'iterations': 2891, 'depth': 10, 'learning_rate': 0.08658927477571329, 'l2_leaf_reg': 0.6899047876209637}. Best is trial 10 with value: 0.7243580339716623.\n"
     ]
    },
    {
     "name": "stdout",
     "output_type": "stream",
     "text": [
      "Stopped by overfitting detector  (300 iterations wait)\n",
      "\n",
      "bestTest = 0.724358034\n",
      "bestIteration = 27\n",
      "\n",
      "Shrink model to first 28 iterations.\n",
      "저장 완료\n",
      "0:\ttest: 0.7159405\tbest: 0.7159405 (0)\ttotal: 173ms\tremaining: 8m 16s\n",
      "300:\ttest: 0.7196131\tbest: 0.7242020 (30)\ttotal: 56.4s\tremaining: 8m 1s\n"
     ]
    },
    {
     "name": "stderr",
     "output_type": "stream",
     "text": [
      "[I 2025-02-20 03:55:35,204] Trial 11 finished with value: 0.7242019821139213 and parameters: {'iterations': 2872, 'depth': 10, 'learning_rate': 0.088218012414696, 'l2_leaf_reg': 0.6727141011343774}. Best is trial 10 with value: 0.7243580339716623.\n"
     ]
    },
    {
     "name": "stdout",
     "output_type": "stream",
     "text": [
      "Stopped by overfitting detector  (300 iterations wait)\n",
      "\n",
      "bestTest = 0.7242019821\n",
      "bestIteration = 30\n",
      "\n",
      "Shrink model to first 31 iterations.\n",
      "0:\ttest: 0.7156470\tbest: 0.7156470 (0)\ttotal: 137ms\tremaining: 6m 45s\n",
      "300:\ttest: 0.7210603\tbest: 0.7239358 (26)\ttotal: 38.7s\tremaining: 5m 42s\n"
     ]
    },
    {
     "name": "stderr",
     "output_type": "stream",
     "text": [
      "[I 2025-02-20 03:56:17,549] Trial 12 finished with value: 0.723935801697627 and parameters: {'iterations': 2963, 'depth': 8, 'learning_rate': 0.09941258306687578, 'l2_leaf_reg': 1.0255415329971462}. Best is trial 10 with value: 0.7243580339716623.\n"
     ]
    },
    {
     "name": "stdout",
     "output_type": "stream",
     "text": [
      "Stopped by overfitting detector  (300 iterations wait)\n",
      "\n",
      "bestTest = 0.7239358017\n",
      "bestIteration = 26\n",
      "\n",
      "Shrink model to first 27 iterations.\n",
      "0:\ttest: 0.7157930\tbest: 0.7157930 (0)\ttotal: 152ms\tremaining: 6m 50s\n",
      "300:\ttest: 0.7212572\tbest: 0.7242294 (33)\ttotal: 43.9s\tremaining: 5m 49s\n"
     ]
    },
    {
     "name": "stderr",
     "output_type": "stream",
     "text": [
      "[I 2025-02-20 03:57:06,475] Trial 13 finished with value: 0.7242293534326676 and parameters: {'iterations': 2700, 'depth': 9, 'learning_rate': 0.08227464878247709, 'l2_leaf_reg': 1.41900137216821}. Best is trial 10 with value: 0.7243580339716623.\n"
     ]
    },
    {
     "name": "stdout",
     "output_type": "stream",
     "text": [
      "Stopped by overfitting detector  (300 iterations wait)\n",
      "\n",
      "bestTest = 0.7242293534\n",
      "bestIteration = 33\n",
      "\n",
      "Shrink model to first 34 iterations.\n",
      "0:\ttest: 0.7157988\tbest: 0.7157988 (0)\ttotal: 149ms\tremaining: 6m 23s\n",
      "300:\ttest: 0.7209526\tbest: 0.7236367 (45)\ttotal: 43.3s\tremaining: 5m 27s\n"
     ]
    },
    {
     "name": "stderr",
     "output_type": "stream",
     "text": [
      "[I 2025-02-20 03:57:56,836] Trial 14 finished with value: 0.7236367304307341 and parameters: {'iterations': 2576, 'depth': 9, 'learning_rate': 0.08157089712043156, 'l2_leaf_reg': 3.6137209527331553}. Best is trial 10 with value: 0.7243580339716623.\n"
     ]
    },
    {
     "name": "stdout",
     "output_type": "stream",
     "text": [
      "Stopped by overfitting detector  (300 iterations wait)\n",
      "\n",
      "bestTest = 0.7236367304\n",
      "bestIteration = 45\n",
      "\n",
      "Shrink model to first 46 iterations.\n",
      "0:\ttest: 0.7135682\tbest: 0.7135682 (0)\ttotal: 111ms\tremaining: 4m 38s\n",
      "300:\ttest: 0.7218728\tbest: 0.7235985 (62)\ttotal: 32.1s\tremaining: 3m 56s\n"
     ]
    },
    {
     "name": "stderr",
     "output_type": "stream",
     "text": [
      "[I 2025-02-20 03:58:36,074] Trial 15 finished with value: 0.7235985106508223 and parameters: {'iterations': 2516, 'depth': 7, 'learning_rate': 0.05941309698138719, 'l2_leaf_reg': 0.09467773791611322}. Best is trial 10 with value: 0.7243580339716623.\n"
     ]
    },
    {
     "name": "stdout",
     "output_type": "stream",
     "text": [
      "Stopped by overfitting detector  (300 iterations wait)\n",
      "\n",
      "bestTest = 0.7235985107\n",
      "bestIteration = 62\n",
      "\n",
      "Shrink model to first 63 iterations.\n",
      "0:\ttest: 0.7159252\tbest: 0.7159252 (0)\ttotal: 143ms\tremaining: 6m 29s\n",
      "300:\ttest: 0.7219884\tbest: 0.7238055 (98)\ttotal: 42.4s\tremaining: 5m 41s\n"
     ]
    },
    {
     "name": "stderr",
     "output_type": "stream",
     "text": [
      "[I 2025-02-20 03:59:33,614] Trial 16 finished with value: 0.7238055288332561 and parameters: {'iterations': 2729, 'depth': 9, 'learning_rate': 0.04892096218037692, 'l2_leaf_reg': 94.64533014403685}. Best is trial 10 with value: 0.7243580339716623.\n"
     ]
    },
    {
     "name": "stdout",
     "output_type": "stream",
     "text": [
      "Stopped by overfitting detector  (300 iterations wait)\n",
      "\n",
      "bestTest = 0.7238055288\n",
      "bestIteration = 98\n",
      "\n",
      "Shrink model to first 99 iterations.\n",
      "0:\ttest: 0.7156444\tbest: 0.7156444 (0)\ttotal: 126ms\tremaining: 5m 9s\n",
      "300:\ttest: 0.7214826\tbest: 0.7242834 (29)\ttotal: 38s\tremaining: 4m 31s\n"
     ]
    },
    {
     "name": "stderr",
     "output_type": "stream",
     "text": [
      "[I 2025-02-20 04:00:15,564] Trial 17 finished with value: 0.7242834369030468 and parameters: {'iterations': 2453, 'depth': 8, 'learning_rate': 0.08625386065288478, 'l2_leaf_reg': 2.095317804928297}. Best is trial 10 with value: 0.7243580339716623.\n"
     ]
    },
    {
     "name": "stdout",
     "output_type": "stream",
     "text": [
      "Stopped by overfitting detector  (300 iterations wait)\n",
      "\n",
      "bestTest = 0.7242834369\n",
      "bestIteration = 29\n",
      "\n",
      "Shrink model to first 30 iterations.\n",
      "0:\ttest: 0.7073651\tbest: 0.7073651 (0)\ttotal: 92ms\tremaining: 3m 32s\n",
      "300:\ttest: 0.7210144\tbest: 0.7228952 (41)\ttotal: 28.3s\tremaining: 3m 9s\n"
     ]
    },
    {
     "name": "stderr",
     "output_type": "stream",
     "text": [
      "[I 2025-02-20 04:00:47,991] Trial 18 finished with value: 0.7228952150789226 and parameters: {'iterations': 2314, 'depth': 6, 'learning_rate': 0.09041728469549618, 'l2_leaf_reg': 10.387462021402937}. Best is trial 10 with value: 0.7243580339716623.\n"
     ]
    },
    {
     "name": "stdout",
     "output_type": "stream",
     "text": [
      "Stopped by overfitting detector  (300 iterations wait)\n",
      "\n",
      "bestTest = 0.7228952151\n",
      "bestIteration = 41\n",
      "\n",
      "Shrink model to first 42 iterations.\n",
      "0:\ttest: 0.7156447\tbest: 0.7156447 (0)\ttotal: 128ms\tremaining: 5m 13s\n",
      "300:\ttest: 0.7219386\tbest: 0.7248161 (51)\ttotal: 37.2s\tremaining: 4m 24s\n"
     ]
    },
    {
     "name": "stderr",
     "output_type": "stream",
     "text": [
      "[I 2025-02-20 04:01:32,009] Trial 19 finished with value: 0.7248160876103299 and parameters: {'iterations': 2443, 'depth': 8, 'learning_rate': 0.066963676911437, 'l2_leaf_reg': 0.3373129195544192}. Best is trial 19 with value: 0.7248160876103299.\n",
      "[I 2025-02-20 04:01:32,010] A new study created in memory with name: no-name-202cfa14-70c8-486c-8cf3-8475dbbefd89\n"
     ]
    },
    {
     "name": "stdout",
     "output_type": "stream",
     "text": [
      "Stopped by overfitting detector  (300 iterations wait)\n",
      "\n",
      "bestTest = 0.7248160876\n",
      "bestIteration = 51\n",
      "\n",
      "Shrink model to first 52 iterations.\n",
      "저장 완료\n"
     ]
    },
    {
     "name": "stderr",
     "output_type": "stream",
     "text": [
      "[I 2025-02-20 04:01:55,463] Trial 0 finished with value: 0.7198563673271796 and parameters: {'objective': 'binary', 'metric': 'auc', 'random_state': 42, 'verbose': -1, 'learning_rate': 0.015355286838886862, 'n_estimators': 1907, 'min_child_samples': 40, 'subsample': 0.8, 'colsample_bytree': 0.5}. Best is trial 0 with value: 0.7198563673271796.\n",
      "[I 2025-02-20 04:01:57,899] Trial 1 finished with value: 0.7220183679536902 and parameters: {'objective': 'binary', 'metric': 'auc', 'random_state': 42, 'verbose': -1, 'learning_rate': 0.00797854234707418, 'n_estimators': 210, 'min_child_samples': 45, 'subsample': 0.8, 'colsample_bytree': 0.9}. Best is trial 1 with value: 0.7220183679536902.\n",
      "[I 2025-02-20 04:02:20,245] Trial 2 finished with value: 0.7210108707298956 and parameters: {'objective': 'binary', 'metric': 'auc', 'random_state': 42, 'verbose': -1, 'learning_rate': 0.005318033256270142, 'n_estimators': 1943, 'min_child_samples': 45, 'subsample': 0.6, 'colsample_bytree': 0.6}. Best is trial 1 with value: 0.7220183679536902.\n",
      "[I 2025-02-20 04:02:28,175] Trial 3 finished with value: 0.7228678596437212 and parameters: {'objective': 'binary', 'metric': 'auc', 'random_state': 42, 'verbose': -1, 'learning_rate': 0.008661333735273127, 'n_estimators': 678, 'min_child_samples': 30, 'subsample': 0.7, 'colsample_bytree': 0.6}. Best is trial 3 with value: 0.7228678596437212.\n",
      "[I 2025-02-20 04:02:32,128] Trial 4 finished with value: 0.7207775851350859 and parameters: {'objective': 'binary', 'metric': 'auc', 'random_state': 42, 'verbose': -1, 'learning_rate': 0.03126143958203108, 'n_estimators': 365, 'min_child_samples': 20, 'subsample': 0.7, 'colsample_bytree': 0.7}. Best is trial 3 with value: 0.7228678596437212.\n",
      "[I 2025-02-20 04:02:38,252] Trial 5 finished with value: 0.7193007251886561 and parameters: {'objective': 'binary', 'metric': 'auc', 'random_state': 42, 'verbose': -1, 'learning_rate': 0.05254210669345883, 'n_estimators': 479, 'min_child_samples': 30, 'subsample': 0.8, 'colsample_bytree': 0.5}. Best is trial 3 with value: 0.7228678596437212.\n",
      "[I 2025-02-20 04:02:42,651] Trial 6 finished with value: 0.7197022532619163 and parameters: {'objective': 'binary', 'metric': 'auc', 'random_state': 42, 'verbose': -1, 'learning_rate': 0.030860579740535368, 'n_estimators': 424, 'min_child_samples': 10, 'subsample': 1.0, 'colsample_bytree': 1.0}. Best is trial 3 with value: 0.7228678596437212.\n",
      "[I 2025-02-20 04:02:49,084] Trial 7 finished with value: 0.7192482221309942 and parameters: {'objective': 'binary', 'metric': 'auc', 'random_state': 42, 'verbose': -1, 'learning_rate': 0.05632733481673016, 'n_estimators': 679, 'min_child_samples': 10, 'subsample': 0.9, 'colsample_bytree': 0.7}. Best is trial 3 with value: 0.7228678596437212.\n",
      "[I 2025-02-20 04:03:01,099] Trial 8 finished with value: 0.722147580591439 and parameters: {'objective': 'binary', 'metric': 'auc', 'random_state': 42, 'verbose': -1, 'learning_rate': 0.007206848764305203, 'n_estimators': 1041, 'min_child_samples': 10, 'subsample': 1.0, 'colsample_bytree': 0.6}. Best is trial 3 with value: 0.7228678596437212.\n",
      "[I 2025-02-20 04:03:08,706] Trial 9 finished with value: 0.7207390079754138 and parameters: {'objective': 'binary', 'metric': 'auc', 'random_state': 42, 'verbose': -1, 'learning_rate': 0.036385753170854684, 'n_estimators': 692, 'min_child_samples': 30, 'subsample': 0.8, 'colsample_bytree': 0.6}. Best is trial 3 with value: 0.7228678596437212.\n",
      "[I 2025-02-20 04:03:22,423] Trial 10 finished with value: 0.7206766253528252 and parameters: {'objective': 'binary', 'metric': 'auc', 'random_state': 42, 'verbose': -1, 'learning_rate': 0.01491283465543688, 'n_estimators': 1430, 'min_child_samples': 20, 'subsample': 0.5, 'colsample_bytree': 0.8}. Best is trial 3 with value: 0.7228678596437212.\n",
      "[I 2025-02-20 04:03:35,106] Trial 11 finished with value: 0.7208110199970971 and parameters: {'objective': 'binary', 'metric': 'auc', 'random_state': 42, 'verbose': -1, 'learning_rate': 0.0094774130099128, 'n_estimators': 1104, 'min_child_samples': 20, 'subsample': 1.0, 'colsample_bytree': 0.6}. Best is trial 3 with value: 0.7228678596437212.\n",
      "[I 2025-02-20 04:03:46,947] Trial 12 finished with value: 0.72226845039723 and parameters: {'objective': 'binary', 'metric': 'auc', 'random_state': 42, 'verbose': -1, 'learning_rate': 0.005192914099575244, 'n_estimators': 1145, 'min_child_samples': 35, 'subsample': 0.6, 'colsample_bytree': 0.8}. Best is trial 3 with value: 0.7228678596437212.\n",
      "[I 2025-02-20 04:03:58,673] Trial 13 finished with value: 0.7222842664370626 and parameters: {'objective': 'binary', 'metric': 'auc', 'random_state': 42, 'verbose': -1, 'learning_rate': 0.005166500584930204, 'n_estimators': 1139, 'min_child_samples': 35, 'subsample': 0.6, 'colsample_bytree': 0.8}. Best is trial 3 with value: 0.7228678596437212.\n",
      "[I 2025-02-20 04:04:12,902] Trial 14 finished with value: 0.7199661385059728 and parameters: {'objective': 'binary', 'metric': 'auc', 'random_state': 42, 'verbose': -1, 'learning_rate': 0.013078263429628966, 'n_estimators': 1484, 'min_child_samples': 35, 'subsample': 0.6, 'colsample_bytree': 0.9}. Best is trial 3 with value: 0.7228678596437212.\n",
      "[I 2025-02-20 04:04:20,235] Trial 15 finished with value: 0.7174792042305885 and parameters: {'objective': 'binary', 'metric': 'auc', 'random_state': 42, 'verbose': -1, 'learning_rate': 0.0902334606102013, 'n_estimators': 807, 'min_child_samples': 50, 'subsample': 0.5, 'colsample_bytree': 0.7}. Best is trial 3 with value: 0.7228678596437212.\n",
      "[I 2025-02-20 04:04:33,978] Trial 16 finished with value: 0.7202300078664845 and parameters: {'objective': 'binary', 'metric': 'auc', 'random_state': 42, 'verbose': -1, 'learning_rate': 0.010494220678162521, 'n_estimators': 1382, 'min_child_samples': 25, 'subsample': 0.7, 'colsample_bytree': 0.9}. Best is trial 3 with value: 0.7228678596437212.\n",
      "[I 2025-02-20 04:04:43,540] Trial 17 finished with value: 0.7202719563085612 and parameters: {'objective': 'binary', 'metric': 'auc', 'random_state': 42, 'verbose': -1, 'learning_rate': 0.019919183876440906, 'n_estimators': 983, 'min_child_samples': 35, 'subsample': 0.7, 'colsample_bytree': 0.8}. Best is trial 3 with value: 0.7228678596437212.\n",
      "[I 2025-02-20 04:05:05,267] Trial 18 finished with value: 0.7208150464757289 and parameters: {'objective': 'binary', 'metric': 'auc', 'random_state': 42, 'verbose': -1, 'learning_rate': 0.006254016440522753, 'n_estimators': 1688, 'min_child_samples': 30, 'subsample': 0.6, 'colsample_bytree': 0.5}. Best is trial 3 with value: 0.7228678596437212.\n",
      "[I 2025-02-20 04:05:14,067] Trial 19 finished with value: 0.7205586463522057 and parameters: {'objective': 'binary', 'metric': 'auc', 'random_state': 42, 'verbose': -1, 'learning_rate': 0.010269612593850728, 'n_estimators': 851, 'min_child_samples': 25, 'subsample': 0.5, 'colsample_bytree': 1.0}. Best is trial 3 with value: 0.7228678596437212.\n"
     ]
    },
    {
     "name": "stdout",
     "output_type": "stream",
     "text": [
      "Cat val score : 0.72481608761033\n",
      "LGBM val score : 0.7228678596437214\n",
      "Ensemble val score : 0.7245621136982898\n",
      "==================================================\n"
     ]
    },
    {
     "name": "stderr",
     "output_type": "stream",
     "text": [
      "[I 2025-02-20 04:07:55,721] A new study created in memory with name: no-name-b0a9e124-d0fa-4421-b1a4-2bdc34b11e00\n"
     ]
    },
    {
     "name": "stdout",
     "output_type": "stream",
     "text": [
      "After SMOTENC:\n",
      "[171111 171111]\n",
      "X_train shape: (342222, 66)\n",
      "y_train shape: (342222,)\n",
      "0:\ttest: 0.6991667\tbest: 0.6991667 (0)\ttotal: 171ms\tremaining: 4m 59s\n",
      "300:\ttest: 0.7161930\tbest: 0.7205079 (31)\ttotal: 55.8s\tremaining: 4m 28s\n"
     ]
    },
    {
     "name": "stderr",
     "output_type": "stream",
     "text": [
      "[I 2025-02-20 04:08:57,756] Trial 0 finished with value: 0.7205078626882792 and parameters: {'iterations': 1749, 'depth': 10, 'learning_rate': 0.07453942447208349, 'l2_leaf_reg': 0.39079671568228835}. Best is trial 0 with value: 0.7205078626882792.\n"
     ]
    },
    {
     "name": "stdout",
     "output_type": "stream",
     "text": [
      "Stopped by overfitting detector  (300 iterations wait)\n",
      "\n",
      "bestTest = 0.7205078627\n",
      "bestIteration = 31\n",
      "\n",
      "Shrink model to first 32 iterations.\n",
      "저장 완료\n",
      "0:\ttest: 0.6828066\tbest: 0.6828066 (0)\ttotal: 86.8ms\tremaining: 1m 53s\n",
      "300:\ttest: 0.7186053\tbest: 0.7186338 (299)\ttotal: 22.5s\tremaining: 1m 15s\n",
      "600:\ttest: 0.7185939\tbest: 0.7190214 (377)\ttotal: 46.2s\tremaining: 54.7s\n"
     ]
    },
    {
     "name": "stderr",
     "output_type": "stream",
     "text": [
      "[I 2025-02-20 04:09:50,345] Trial 1 finished with value: 0.7190214448187067 and parameters: {'iterations': 1312, 'depth': 5, 'learning_rate': 0.010517943155978949, 'l2_leaf_reg': 15.741890047456648}. Best is trial 0 with value: 0.7205078626882792.\n"
     ]
    },
    {
     "name": "stdout",
     "output_type": "stream",
     "text": [
      "Stopped by overfitting detector  (300 iterations wait)\n",
      "\n",
      "bestTest = 0.7190214448\n",
      "bestIteration = 377\n",
      "\n",
      "Shrink model to first 378 iterations.\n",
      "0:\ttest: 0.6927264\tbest: 0.6927264 (0)\ttotal: 129ms\tremaining: 4m 43s\n",
      "300:\ttest: 0.7194012\tbest: 0.7194012 (300)\ttotal: 35.3s\tremaining: 3m 43s\n",
      "600:\ttest: 0.7196692\tbest: 0.7200310 (428)\ttotal: 1m 12s\tremaining: 3m 12s\n"
     ]
    },
    {
     "name": "stderr",
     "output_type": "stream",
     "text": [
      "[I 2025-02-20 04:11:19,045] Trial 2 finished with value: 0.7200309552818172 and parameters: {'iterations': 2202, 'depth': 8, 'learning_rate': 0.006955526958101232, 'l2_leaf_reg': 65.98711072054076}. Best is trial 0 with value: 0.7205078626882792.\n"
     ]
    },
    {
     "name": "stdout",
     "output_type": "stream",
     "text": [
      "Stopped by overfitting detector  (300 iterations wait)\n",
      "\n",
      "bestTest = 0.7200309553\n",
      "bestIteration = 428\n",
      "\n",
      "Shrink model to first 429 iterations.\n",
      "0:\ttest: 0.6827958\tbest: 0.6827958 (0)\ttotal: 82.6ms\tremaining: 3m 40s\n",
      "300:\ttest: 0.7189233\tbest: 0.7203910 (157)\ttotal: 22.2s\tremaining: 2m 54s\n"
     ]
    },
    {
     "name": "stderr",
     "output_type": "stream",
     "text": [
      "[I 2025-02-20 04:11:53,663] Trial 3 finished with value: 0.7203909875940302 and parameters: {'iterations': 2665, 'depth': 5, 'learning_rate': 0.02227337188467456, 'l2_leaf_reg': 0.0012601639723276807}. Best is trial 0 with value: 0.7205078626882792.\n"
     ]
    },
    {
     "name": "stdout",
     "output_type": "stream",
     "text": [
      "Stopped by overfitting detector  (300 iterations wait)\n",
      "\n",
      "bestTest = 0.7203909876\n",
      "bestIteration = 157\n",
      "\n",
      "Shrink model to first 158 iterations.\n",
      "0:\ttest: 0.6811109\tbest: 0.6811109 (0)\ttotal: 138ms\tremaining: 3m 41s\n",
      "300:\ttest: 0.7166682\tbest: 0.7208306 (62)\ttotal: 33.8s\tremaining: 2m 26s\n"
     ]
    },
    {
     "name": "stderr",
     "output_type": "stream",
     "text": [
      "[I 2025-02-20 04:12:34,868] Trial 4 finished with value: 0.7208305805826396 and parameters: {'iterations': 1608, 'depth': 7, 'learning_rate': 0.046034776771001, 'l2_leaf_reg': 0.005589524205217926}. Best is trial 4 with value: 0.7208305805826396.\n"
     ]
    },
    {
     "name": "stdout",
     "output_type": "stream",
     "text": [
      "Stopped by overfitting detector  (300 iterations wait)\n",
      "\n",
      "bestTest = 0.7208305806\n",
      "bestIteration = 62\n",
      "\n",
      "Shrink model to first 63 iterations.\n",
      "저장 완료\n",
      "0:\ttest: 0.6881887\tbest: 0.6881887 (0)\ttotal: 74.9ms\tremaining: 2m 46s\n",
      "300:\ttest: 0.7179573\tbest: 0.7187498 (157)\ttotal: 18.7s\tremaining: 1m 59s\n"
     ]
    },
    {
     "name": "stderr",
     "output_type": "stream",
     "text": [
      "[I 2025-02-20 04:13:03,957] Trial 5 finished with value: 0.7187497686958775 and parameters: {'iterations': 2224, 'depth': 4, 'learning_rate': 0.032753741610845724, 'l2_leaf_reg': 0.01578232781079559}. Best is trial 4 with value: 0.7208305805826396.\n"
     ]
    },
    {
     "name": "stdout",
     "output_type": "stream",
     "text": [
      "Stopped by overfitting detector  (300 iterations wait)\n",
      "\n",
      "bestTest = 0.7187497687\n",
      "bestIteration = 157\n",
      "\n",
      "Shrink model to first 158 iterations.\n",
      "0:\ttest: 0.6972214\tbest: 0.6972214 (0)\ttotal: 139ms\tremaining: 4m 25s\n",
      "300:\ttest: 0.7175741\tbest: 0.7205069 (128)\ttotal: 41.5s\tremaining: 3m 42s\n"
     ]
    },
    {
     "name": "stderr",
     "output_type": "stream",
     "text": [
      "[I 2025-02-20 04:14:03,953] Trial 6 finished with value: 0.720506854083178 and parameters: {'iterations': 1912, 'depth': 9, 'learning_rate': 0.023969009305044177, 'l2_leaf_reg': 0.12173252504194051}. Best is trial 4 with value: 0.7208305805826396.\n"
     ]
    },
    {
     "name": "stdout",
     "output_type": "stream",
     "text": [
      "Stopped by overfitting detector  (300 iterations wait)\n",
      "\n",
      "bestTest = 0.7205068541\n",
      "bestIteration = 128\n",
      "\n",
      "Shrink model to first 129 iterations.\n",
      "0:\ttest: 0.6881887\tbest: 0.6881887 (0)\ttotal: 71.1ms\tremaining: 2m 35s\n",
      "300:\ttest: 0.7164662\tbest: 0.7192937 (100)\ttotal: 20.5s\tremaining: 2m 8s\n"
     ]
    },
    {
     "name": "stderr",
     "output_type": "stream",
     "text": [
      "[I 2025-02-20 04:14:31,226] Trial 7 finished with value: 0.7192937006909247 and parameters: {'iterations': 2185, 'depth': 4, 'learning_rate': 0.06271676093063665, 'l2_leaf_reg': 0.0010547383621352044}. Best is trial 4 with value: 0.7208305805826396.\n"
     ]
    },
    {
     "name": "stdout",
     "output_type": "stream",
     "text": [
      "Stopped by overfitting detector  (300 iterations wait)\n",
      "\n",
      "bestTest = 0.7192937007\n",
      "bestIteration = 100\n",
      "\n",
      "Shrink model to first 101 iterations.\n",
      "0:\ttest: 0.6991608\tbest: 0.6991608 (0)\ttotal: 179ms\tremaining: 3m 22s\n",
      "300:\ttest: 0.7152608\tbest: 0.7198484 (17)\ttotal: 59.4s\tremaining: 2m 43s\n"
     ]
    },
    {
     "name": "stderr",
     "output_type": "stream",
     "text": [
      "[I 2025-02-20 04:15:34,478] Trial 8 finished with value: 0.7198483739332096 and parameters: {'iterations': 1130, 'depth': 10, 'learning_rate': 0.09673504314208314, 'l2_leaf_reg': 7.085721663941605}. Best is trial 4 with value: 0.7208305805826396.\n"
     ]
    },
    {
     "name": "stdout",
     "output_type": "stream",
     "text": [
      "Stopped by overfitting detector  (300 iterations wait)\n",
      "\n",
      "bestTest = 0.7198483739\n",
      "bestIteration = 17\n",
      "\n",
      "Shrink model to first 18 iterations.\n",
      "0:\ttest: 0.6881887\tbest: 0.6881887 (0)\ttotal: 66.4ms\tremaining: 1m 46s\n",
      "300:\ttest: 0.7159025\tbest: 0.7189208 (80)\ttotal: 19.2s\tremaining: 1m 23s\n"
     ]
    },
    {
     "name": "stderr",
     "output_type": "stream",
     "text": [
      "[I 2025-02-20 04:15:58,886] Trial 9 finished with value: 0.718920786823799 and parameters: {'iterations': 1609, 'depth': 4, 'learning_rate': 0.07000213751865492, 'l2_leaf_reg': 0.04374364439939081}. Best is trial 4 with value: 0.7208305805826396.\n"
     ]
    },
    {
     "name": "stdout",
     "output_type": "stream",
     "text": [
      "Stopped by overfitting detector  (300 iterations wait)\n",
      "\n",
      "bestTest = 0.7189207868\n",
      "bestIteration = 80\n",
      "\n",
      "Shrink model to first 81 iterations.\n",
      "0:\ttest: 0.6811109\tbest: 0.6811109 (0)\ttotal: 102ms\tremaining: 4m 55s\n",
      "300:\ttest: 0.7168451\tbest: 0.7204436 (56)\ttotal: 31.8s\tremaining: 4m 33s\n"
     ]
    },
    {
     "name": "stderr",
     "output_type": "stream",
     "text": [
      "[I 2025-02-20 04:16:37,101] Trial 10 finished with value: 0.7204435541858716 and parameters: {'iterations': 2891, 'depth': 7, 'learning_rate': 0.04584783385796229, 'l2_leaf_reg': 0.00012816553469185968}. Best is trial 4 with value: 0.7208305805826396.\n"
     ]
    },
    {
     "name": "stdout",
     "output_type": "stream",
     "text": [
      "Stopped by overfitting detector  (300 iterations wait)\n",
      "\n",
      "bestTest = 0.7204435542\n",
      "bestIteration = 56\n",
      "\n",
      "Shrink model to first 57 iterations.\n",
      "0:\ttest: 0.6811108\tbest: 0.6811108 (0)\ttotal: 99.2ms\tremaining: 2m 44s\n",
      "300:\ttest: 0.7169887\tbest: 0.7202338 (26)\ttotal: 33s\tremaining: 2m 29s\n"
     ]
    },
    {
     "name": "stderr",
     "output_type": "stream",
     "text": [
      "[I 2025-02-20 04:17:13,179] Trial 11 finished with value: 0.7202338199172601 and parameters: {'iterations': 1663, 'depth': 7, 'learning_rate': 0.08373923189253431, 'l2_leaf_reg': 0.6727141011343774}. Best is trial 4 with value: 0.7208305805826396.\n"
     ]
    },
    {
     "name": "stdout",
     "output_type": "stream",
     "text": [
      "Stopped by overfitting detector  (300 iterations wait)\n",
      "\n",
      "bestTest = 0.7202338199\n",
      "bestIteration = 26\n",
      "\n",
      "Shrink model to first 27 iterations.\n",
      "0:\ttest: 0.6943273\tbest: 0.6943273 (0)\ttotal: 119ms\tremaining: 3m 6s\n",
      "300:\ttest: 0.7169835\tbest: 0.7204313 (60)\ttotal: 37s\tremaining: 2m 36s\n"
     ]
    },
    {
     "name": "stderr",
     "output_type": "stream",
     "text": [
      "[I 2025-02-20 04:17:58,178] Trial 12 finished with value: 0.7204312960600963 and parameters: {'iterations': 1574, 'depth': 8, 'learning_rate': 0.052318249406654055, 'l2_leaf_reg': 0.6223130621800085}. Best is trial 4 with value: 0.7208305805826396.\n"
     ]
    },
    {
     "name": "stdout",
     "output_type": "stream",
     "text": [
      "Stopped by overfitting detector  (300 iterations wait)\n",
      "\n",
      "bestTest = 0.7204312961\n",
      "bestIteration = 60\n",
      "\n",
      "Shrink model to first 61 iterations.\n",
      "0:\ttest: 0.6991672\tbest: 0.6991672 (0)\ttotal: 163ms\tremaining: 5m 14s\n",
      "300:\ttest: 0.7133736\tbest: 0.7201379 (24)\ttotal: 55.7s\tremaining: 5m\n"
     ]
    },
    {
     "name": "stderr",
     "output_type": "stream",
     "text": [
      "[I 2025-02-20 04:18:58,913] Trial 13 finished with value: 0.7201379230149357 and parameters: {'iterations': 1925, 'depth': 10, 'learning_rate': 0.07202463989307298, 'l2_leaf_reg': 0.006511519184838103}. Best is trial 4 with value: 0.7208305805826396.\n"
     ]
    },
    {
     "name": "stdout",
     "output_type": "stream",
     "text": [
      "Stopped by overfitting detector  (300 iterations wait)\n",
      "\n",
      "bestTest = 0.720137923\n",
      "bestIteration = 24\n",
      "\n",
      "Shrink model to first 25 iterations.\n",
      "0:\ttest: 0.6902255\tbest: 0.6902255 (0)\ttotal: 95.2ms\tremaining: 2m 5s\n",
      "300:\ttest: 0.7170529\tbest: 0.7208617 (59)\ttotal: 27.6s\tremaining: 1m 33s\n"
     ]
    },
    {
     "name": "stderr",
     "output_type": "stream",
     "text": [
      "[I 2025-02-20 04:19:32,216] Trial 14 finished with value: 0.7208617123306404 and parameters: {'iterations': 1320, 'depth': 6, 'learning_rate': 0.04310932818780806, 'l2_leaf_reg': 0.3678197518299617}. Best is trial 14 with value: 0.7208617123306404.\n"
     ]
    },
    {
     "name": "stdout",
     "output_type": "stream",
     "text": [
      "Stopped by overfitting detector  (300 iterations wait)\n",
      "\n",
      "bestTest = 0.7208617123\n",
      "bestIteration = 59\n",
      "\n",
      "Shrink model to first 60 iterations.\n",
      "저장 완료\n",
      "0:\ttest: 0.6902255\tbest: 0.6902255 (0)\ttotal: 96.1ms\tremaining: 2m 2s\n",
      "300:\ttest: 0.7170518\tbest: 0.7200779 (75)\ttotal: 28s\tremaining: 1m 30s\n"
     ]
    },
    {
     "name": "stderr",
     "output_type": "stream",
     "text": [
      "[I 2025-02-20 04:20:07,618] Trial 15 finished with value: 0.7200779308658543 and parameters: {'iterations': 1272, 'depth': 6, 'learning_rate': 0.039868727949200294, 'l2_leaf_reg': 0.0044351655954852475}. Best is trial 14 with value: 0.7208617123306404.\n"
     ]
    },
    {
     "name": "stdout",
     "output_type": "stream",
     "text": [
      "Stopped by overfitting detector  (300 iterations wait)\n",
      "\n",
      "bestTest = 0.7200779309\n",
      "bestIteration = 75\n",
      "\n",
      "Shrink model to first 76 iterations.\n",
      "0:\ttest: 0.6902308\tbest: 0.6902308 (0)\ttotal: 98.4ms\tremaining: 1m 43s\n",
      "300:\ttest: 0.7165135\tbest: 0.7210272 (46)\ttotal: 29s\tremaining: 1m 12s\n"
     ]
    },
    {
     "name": "stderr",
     "output_type": "stream",
     "text": [
      "[I 2025-02-20 04:20:41,357] Trial 16 finished with value: 0.7210271593051889 and parameters: {'iterations': 1050, 'depth': 6, 'learning_rate': 0.0564460253096518, 'l2_leaf_reg': 3.788345389907885}. Best is trial 16 with value: 0.7210271593051889.\n"
     ]
    },
    {
     "name": "stdout",
     "output_type": "stream",
     "text": [
      "Stopped by overfitting detector  (300 iterations wait)\n",
      "\n",
      "bestTest = 0.7210271593\n",
      "bestIteration = 46\n",
      "\n",
      "Shrink model to first 47 iterations.\n",
      "저장 완료\n",
      "0:\ttest: 0.6902308\tbest: 0.6902308 (0)\ttotal: 97.3ms\tremaining: 1m 45s\n",
      "300:\ttest: 0.7163661\tbest: 0.7197594 (44)\ttotal: 30.3s\tremaining: 1m 19s\n"
     ]
    },
    {
     "name": "stderr",
     "output_type": "stream",
     "text": [
      "[I 2025-02-20 04:21:16,129] Trial 17 finished with value: 0.7197593982855746 and parameters: {'iterations': 1088, 'depth': 6, 'learning_rate': 0.05861515120489101, 'l2_leaf_reg': 3.990960854895731}. Best is trial 16 with value: 0.7210271593051889.\n"
     ]
    },
    {
     "name": "stdout",
     "output_type": "stream",
     "text": [
      "Stopped by overfitting detector  (300 iterations wait)\n",
      "\n",
      "bestTest = 0.7197593983\n",
      "bestIteration = 44\n",
      "\n",
      "Shrink model to first 45 iterations.\n",
      "0:\ttest: 0.6902255\tbest: 0.6902255 (0)\ttotal: 97.8ms\tremaining: 2m 8s\n",
      "300:\ttest: 0.7176686\tbest: 0.7205026 (112)\ttotal: 27.6s\tremaining: 1m 33s\n"
     ]
    },
    {
     "name": "stderr",
     "output_type": "stream",
     "text": [
      "[I 2025-02-20 04:21:54,463] Trial 18 finished with value: 0.7205025893513729 and parameters: {'iterations': 1318, 'depth': 6, 'learning_rate': 0.03330680148465416, 'l2_leaf_reg': 1.5482122499293232}. Best is trial 16 with value: 0.7210271593051889.\n"
     ]
    },
    {
     "name": "stdout",
     "output_type": "stream",
     "text": [
      "Stopped by overfitting detector  (300 iterations wait)\n",
      "\n",
      "bestTest = 0.7205025894\n",
      "bestIteration = 112\n",
      "\n",
      "Shrink model to first 113 iterations.\n",
      "0:\ttest: 0.6828120\tbest: 0.6828120 (0)\ttotal: 87.3ms\tremaining: 1m 29s\n",
      "300:\ttest: 0.7158659\tbest: 0.7193842 (55)\ttotal: 24.4s\tremaining: 58.9s\n"
     ]
    },
    {
     "name": "stderr",
     "output_type": "stream",
     "text": [
      "[I 2025-02-20 04:22:23,556] Trial 19 finished with value: 0.7193842249841871 and parameters: {'iterations': 1026, 'depth': 5, 'learning_rate': 0.08614192101110421, 'l2_leaf_reg': 94.64592850960447}. Best is trial 16 with value: 0.7210271593051889.\n",
      "[I 2025-02-20 04:22:23,558] A new study created in memory with name: no-name-61ca51a4-fcf9-407f-84c7-329138ad87db\n"
     ]
    },
    {
     "name": "stdout",
     "output_type": "stream",
     "text": [
      "Stopped by overfitting detector  (300 iterations wait)\n",
      "\n",
      "bestTest = 0.719384225\n",
      "bestIteration = 55\n",
      "\n",
      "Shrink model to first 56 iterations.\n"
     ]
    },
    {
     "name": "stderr",
     "output_type": "stream",
     "text": [
      "[I 2025-02-20 04:22:47,082] Trial 0 finished with value: 0.7158318026625841 and parameters: {'objective': 'binary', 'metric': 'auc', 'random_state': 42, 'verbose': -1, 'learning_rate': 0.015355286838886862, 'n_estimators': 1907, 'min_child_samples': 40, 'subsample': 0.8, 'colsample_bytree': 0.5}. Best is trial 0 with value: 0.7158318026625841.\n",
      "[I 2025-02-20 04:22:49,457] Trial 1 finished with value: 0.7194672045936228 and parameters: {'objective': 'binary', 'metric': 'auc', 'random_state': 42, 'verbose': -1, 'learning_rate': 0.00797854234707418, 'n_estimators': 210, 'min_child_samples': 45, 'subsample': 0.8, 'colsample_bytree': 0.9}. Best is trial 1 with value: 0.7194672045936228.\n",
      "[I 2025-02-20 04:23:11,446] Trial 2 finished with value: 0.7168173686817602 and parameters: {'objective': 'binary', 'metric': 'auc', 'random_state': 42, 'verbose': -1, 'learning_rate': 0.005318033256270142, 'n_estimators': 1943, 'min_child_samples': 45, 'subsample': 0.6, 'colsample_bytree': 0.6}. Best is trial 1 with value: 0.7194672045936228.\n",
      "[I 2025-02-20 04:23:19,351] Trial 3 finished with value: 0.7189746598372083 and parameters: {'objective': 'binary', 'metric': 'auc', 'random_state': 42, 'verbose': -1, 'learning_rate': 0.008661333735273127, 'n_estimators': 678, 'min_child_samples': 30, 'subsample': 0.7, 'colsample_bytree': 0.6}. Best is trial 1 with value: 0.7194672045936228.\n",
      "[I 2025-02-20 04:23:23,304] Trial 4 finished with value: 0.7159548008633914 and parameters: {'objective': 'binary', 'metric': 'auc', 'random_state': 42, 'verbose': -1, 'learning_rate': 0.03126143958203108, 'n_estimators': 365, 'min_child_samples': 20, 'subsample': 0.7, 'colsample_bytree': 0.7}. Best is trial 1 with value: 0.7194672045936228.\n",
      "[I 2025-02-20 04:23:29,434] Trial 5 finished with value: 0.7151819830154713 and parameters: {'objective': 'binary', 'metric': 'auc', 'random_state': 42, 'verbose': -1, 'learning_rate': 0.05254210669345883, 'n_estimators': 479, 'min_child_samples': 30, 'subsample': 0.8, 'colsample_bytree': 0.5}. Best is trial 1 with value: 0.7194672045936228.\n",
      "[I 2025-02-20 04:23:33,861] Trial 6 finished with value: 0.716219059370753 and parameters: {'objective': 'binary', 'metric': 'auc', 'random_state': 42, 'verbose': -1, 'learning_rate': 0.030860579740535368, 'n_estimators': 424, 'min_child_samples': 10, 'subsample': 1.0, 'colsample_bytree': 1.0}. Best is trial 1 with value: 0.7194672045936228.\n",
      "[I 2025-02-20 04:23:40,288] Trial 7 finished with value: 0.7153149481407024 and parameters: {'objective': 'binary', 'metric': 'auc', 'random_state': 42, 'verbose': -1, 'learning_rate': 0.05632733481673016, 'n_estimators': 679, 'min_child_samples': 10, 'subsample': 0.9, 'colsample_bytree': 0.7}. Best is trial 1 with value: 0.7194672045936228.\n",
      "[I 2025-02-20 04:23:52,290] Trial 8 finished with value: 0.7180129945822181 and parameters: {'objective': 'binary', 'metric': 'auc', 'random_state': 42, 'verbose': -1, 'learning_rate': 0.007206848764305203, 'n_estimators': 1041, 'min_child_samples': 10, 'subsample': 1.0, 'colsample_bytree': 0.6}. Best is trial 1 with value: 0.7194672045936228.\n",
      "[I 2025-02-20 04:23:59,874] Trial 9 finished with value: 0.7156220882484037 and parameters: {'objective': 'binary', 'metric': 'auc', 'random_state': 42, 'verbose': -1, 'learning_rate': 0.036385753170854684, 'n_estimators': 692, 'min_child_samples': 30, 'subsample': 0.8, 'colsample_bytree': 0.6}. Best is trial 1 with value: 0.7194672045936228.\n",
      "[I 2025-02-20 04:24:01,264] Trial 10 finished with value: 0.719219596012201 and parameters: {'objective': 'binary', 'metric': 'auc', 'random_state': 42, 'verbose': -1, 'learning_rate': 0.014579928528334861, 'n_estimators': 111, 'min_child_samples': 50, 'subsample': 0.5, 'colsample_bytree': 1.0}. Best is trial 1 with value: 0.7194672045936228.\n",
      "[I 2025-02-20 04:24:02,825] Trial 11 finished with value: 0.7192008375456759 and parameters: {'objective': 'binary', 'metric': 'auc', 'random_state': 42, 'verbose': -1, 'learning_rate': 0.01426509269778552, 'n_estimators': 127, 'min_child_samples': 50, 'subsample': 0.5, 'colsample_bytree': 1.0}. Best is trial 1 with value: 0.7194672045936228.\n",
      "[I 2025-02-20 04:24:04,280] Trial 12 finished with value: 0.7198033321707638 and parameters: {'objective': 'binary', 'metric': 'auc', 'random_state': 42, 'verbose': -1, 'learning_rate': 0.012240096883321323, 'n_estimators': 116, 'min_child_samples': 40, 'subsample': 0.5, 'colsample_bytree': 0.9}. Best is trial 12 with value: 0.7198033321707638.\n",
      "[I 2025-02-20 04:24:18,284] Trial 13 finished with value: 0.7163663276281652 and parameters: {'objective': 'binary', 'metric': 'auc', 'random_state': 42, 'verbose': -1, 'learning_rate': 0.010263697175730098, 'n_estimators': 1411, 'min_child_samples': 40, 'subsample': 0.6, 'colsample_bytree': 0.9}. Best is trial 12 with value: 0.7198033321707638.\n",
      "[I 2025-02-20 04:24:28,828] Trial 14 finished with value: 0.7156190465495555 and parameters: {'objective': 'binary', 'metric': 'auc', 'random_state': 42, 'verbose': -1, 'learning_rate': 0.0199166143861953, 'n_estimators': 1103, 'min_child_samples': 40, 'subsample': 0.9, 'colsample_bytree': 0.9}. Best is trial 12 with value: 0.7198033321707638.\n",
      "[I 2025-02-20 04:24:30,174] Trial 15 finished with value: 0.717250977544829 and parameters: {'objective': 'binary', 'metric': 'auc', 'random_state': 42, 'verbose': -1, 'learning_rate': 0.0902334606102013, 'n_estimators': 105, 'min_child_samples': 35, 'subsample': 0.6, 'colsample_bytree': 0.8}. Best is trial 12 with value: 0.7198033321707638.\n",
      "[I 2025-02-20 04:24:40,356] Trial 16 finished with value: 0.7189523553692846 and parameters: {'objective': 'binary', 'metric': 'auc', 'random_state': 42, 'verbose': -1, 'learning_rate': 0.005096808318118142, 'n_estimators': 985, 'min_child_samples': 45, 'subsample': 0.9, 'colsample_bytree': 0.9}. Best is trial 12 with value: 0.7198033321707638.\n",
      "[I 2025-02-20 04:24:55,040] Trial 17 finished with value: 0.7160704290993658 and parameters: {'objective': 'binary', 'metric': 'auc', 'random_state': 42, 'verbose': -1, 'learning_rate': 0.010433159641592873, 'n_estimators': 1487, 'min_child_samples': 20, 'subsample': 0.7, 'colsample_bytree': 0.8}. Best is trial 12 with value: 0.7198033321707638.\n",
      "[I 2025-02-20 04:24:59,101] Trial 18 finished with value: 0.7196729044418302 and parameters: {'objective': 'binary', 'metric': 'auc', 'random_state': 42, 'verbose': -1, 'learning_rate': 0.0073153406549506155, 'n_estimators': 378, 'min_child_samples': 45, 'subsample': 0.5, 'colsample_bytree': 0.9}. Best is trial 12 with value: 0.7198033321707638.\n",
      "[I 2025-02-20 04:25:04,442] Trial 19 finished with value: 0.7162284902255365 and parameters: {'objective': 'binary', 'metric': 'auc', 'random_state': 42, 'verbose': -1, 'learning_rate': 0.021192328504364748, 'n_estimators': 506, 'min_child_samples': 35, 'subsample': 0.5, 'colsample_bytree': 0.8}. Best is trial 12 with value: 0.7198033321707638.\n"
     ]
    },
    {
     "name": "stdout",
     "output_type": "stream",
     "text": [
      "Cat val score : 0.7210271593051889\n",
      "LGBM val score : 0.7198033321707638\n",
      "Ensemble val score : 0.7216037836065233\n",
      "==================================================\n"
     ]
    },
    {
     "name": "stderr",
     "output_type": "stream",
     "text": [
      "[I 2025-02-20 04:27:38,066] A new study created in memory with name: no-name-9c3c06cf-ba92-4544-b010-11b419bf63d3\n"
     ]
    },
    {
     "name": "stdout",
     "output_type": "stream",
     "text": [
      "After SMOTENC:\n",
      "[171111 171111]\n",
      "X_train shape: (342222, 66)\n",
      "y_train shape: (342222,)\n",
      "0:\ttest: 0.7163554\tbest: 0.7163554 (0)\ttotal: 171ms\tremaining: 4m 58s\n",
      "300:\ttest: 0.7203386\tbest: 0.7283854 (24)\ttotal: 54.4s\tremaining: 4m 21s\n"
     ]
    },
    {
     "name": "stderr",
     "output_type": "stream",
     "text": [
      "[I 2025-02-20 04:28:37,100] Trial 0 finished with value: 0.7283854100237049 and parameters: {'iterations': 1749, 'depth': 10, 'learning_rate': 0.07453942447208349, 'l2_leaf_reg': 0.39079671568228835}. Best is trial 0 with value: 0.7283854100237049.\n"
     ]
    },
    {
     "name": "stdout",
     "output_type": "stream",
     "text": [
      "Stopped by overfitting detector  (300 iterations wait)\n",
      "\n",
      "bestTest = 0.72838541\n",
      "bestIteration = 24\n",
      "\n",
      "Shrink model to first 25 iterations.\n",
      "저장 완료\n",
      "0:\ttest: 0.7091315\tbest: 0.7091315 (0)\ttotal: 85ms\tremaining: 1m 51s\n",
      "300:\ttest: 0.7275748\tbest: 0.7275748 (300)\ttotal: 22.3s\tremaining: 1m 14s\n",
      "600:\ttest: 0.7272425\tbest: 0.7280162 (402)\ttotal: 45.8s\tremaining: 54.2s\n"
     ]
    },
    {
     "name": "stderr",
     "output_type": "stream",
     "text": [
      "[I 2025-02-20 04:29:31,118] Trial 1 finished with value: 0.7280161851098819 and parameters: {'iterations': 1312, 'depth': 5, 'learning_rate': 0.010517943155978949, 'l2_leaf_reg': 15.741890047456648}. Best is trial 0 with value: 0.7283854100237049.\n"
     ]
    },
    {
     "name": "stdout",
     "output_type": "stream",
     "text": [
      "Stopped by overfitting detector  (300 iterations wait)\n",
      "\n",
      "bestTest = 0.7280161851\n",
      "bestIteration = 402\n",
      "\n",
      "Shrink model to first 403 iterations.\n",
      "0:\ttest: 0.7188749\tbest: 0.7188749 (0)\ttotal: 132ms\tremaining: 4m 51s\n",
      "300:\ttest: 0.7277569\tbest: 0.7278224 (295)\ttotal: 35.3s\tremaining: 3m 42s\n",
      "600:\ttest: 0.7274882\tbest: 0.7283040 (379)\ttotal: 1m 11s\tremaining: 3m 10s\n"
     ]
    },
    {
     "name": "stderr",
     "output_type": "stream",
     "text": [
      "[I 2025-02-20 04:30:52,359] Trial 2 finished with value: 0.7283039592054656 and parameters: {'iterations': 2202, 'depth': 8, 'learning_rate': 0.006955526958101232, 'l2_leaf_reg': 65.98711072054076}. Best is trial 0 with value: 0.7283854100237049.\n"
     ]
    },
    {
     "name": "stdout",
     "output_type": "stream",
     "text": [
      "Stopped by overfitting detector  (300 iterations wait)\n",
      "\n",
      "bestTest = 0.7283039592\n",
      "bestIteration = 379\n",
      "\n",
      "Shrink model to first 380 iterations.\n",
      "0:\ttest: 0.7091397\tbest: 0.7091397 (0)\ttotal: 80.6ms\tremaining: 3m 34s\n",
      "300:\ttest: 0.7269022\tbest: 0.7278671 (163)\ttotal: 22.2s\tremaining: 2m 54s\n"
     ]
    },
    {
     "name": "stderr",
     "output_type": "stream",
     "text": [
      "[I 2025-02-20 04:31:27,165] Trial 3 finished with value: 0.7278671378954411 and parameters: {'iterations': 2665, 'depth': 5, 'learning_rate': 0.02227337188467456, 'l2_leaf_reg': 0.0012601639723276807}. Best is trial 0 with value: 0.7283854100237049.\n"
     ]
    },
    {
     "name": "stdout",
     "output_type": "stream",
     "text": [
      "Stopped by overfitting detector  (300 iterations wait)\n",
      "\n",
      "bestTest = 0.7278671379\n",
      "bestIteration = 163\n",
      "\n",
      "Shrink model to first 164 iterations.\n",
      "0:\ttest: 0.7191383\tbest: 0.7191383 (0)\ttotal: 109ms\tremaining: 2m 55s\n",
      "300:\ttest: 0.7231150\tbest: 0.7279920 (57)\ttotal: 31.4s\tremaining: 2m 16s\n"
     ]
    },
    {
     "name": "stderr",
     "output_type": "stream",
     "text": [
      "[I 2025-02-20 04:32:05,019] Trial 4 finished with value: 0.7279920222672052 and parameters: {'iterations': 1608, 'depth': 7, 'learning_rate': 0.046034776771001, 'l2_leaf_reg': 0.005589524205217926}. Best is trial 0 with value: 0.7283854100237049.\n"
     ]
    },
    {
     "name": "stdout",
     "output_type": "stream",
     "text": [
      "Stopped by overfitting detector  (300 iterations wait)\n",
      "\n",
      "bestTest = 0.7279920223\n",
      "bestIteration = 57\n",
      "\n",
      "Shrink model to first 58 iterations.\n",
      "0:\ttest: 0.6946477\tbest: 0.6946477 (0)\ttotal: 66.3ms\tremaining: 2m 27s\n",
      "300:\ttest: 0.7269154\tbest: 0.7278262 (169)\ttotal: 18.2s\tremaining: 1m 56s\n"
     ]
    },
    {
     "name": "stderr",
     "output_type": "stream",
     "text": [
      "[I 2025-02-20 04:32:34,018] Trial 5 finished with value: 0.7278262417382138 and parameters: {'iterations': 2224, 'depth': 4, 'learning_rate': 0.032753741610845724, 'l2_leaf_reg': 0.01578232781079559}. Best is trial 0 with value: 0.7283854100237049.\n"
     ]
    },
    {
     "name": "stdout",
     "output_type": "stream",
     "text": [
      "Stopped by overfitting detector  (300 iterations wait)\n",
      "\n",
      "bestTest = 0.7278262417\n",
      "bestIteration = 169\n",
      "\n",
      "Shrink model to first 170 iterations.\n",
      "0:\ttest: 0.7194576\tbest: 0.7194576 (0)\ttotal: 147ms\tremaining: 4m 40s\n",
      "300:\ttest: 0.7248343\tbest: 0.7283830 (113)\ttotal: 40.8s\tremaining: 3m 38s\n"
     ]
    },
    {
     "name": "stderr",
     "output_type": "stream",
     "text": [
      "[I 2025-02-20 04:33:31,078] Trial 6 finished with value: 0.7283830473464012 and parameters: {'iterations': 1912, 'depth': 9, 'learning_rate': 0.023969009305044177, 'l2_leaf_reg': 0.12173252504194051}. Best is trial 0 with value: 0.7283854100237049.\n"
     ]
    },
    {
     "name": "stdout",
     "output_type": "stream",
     "text": [
      "Stopped by overfitting detector  (300 iterations wait)\n",
      "\n",
      "bestTest = 0.7283830473\n",
      "bestIteration = 113\n",
      "\n",
      "Shrink model to first 114 iterations.\n",
      "0:\ttest: 0.6946477\tbest: 0.6946477 (0)\ttotal: 68.6ms\tremaining: 2m 29s\n",
      "300:\ttest: 0.7233209\tbest: 0.7278080 (87)\ttotal: 18.7s\tremaining: 1m 56s\n"
     ]
    },
    {
     "name": "stderr",
     "output_type": "stream",
     "text": [
      "[I 2025-02-20 04:33:55,505] Trial 7 finished with value: 0.7278079637489219 and parameters: {'iterations': 2185, 'depth': 4, 'learning_rate': 0.06271676093063665, 'l2_leaf_reg': 0.0010547383621352044}. Best is trial 0 with value: 0.7283854100237049.\n"
     ]
    },
    {
     "name": "stdout",
     "output_type": "stream",
     "text": [
      "Stopped by overfitting detector  (300 iterations wait)\n",
      "\n",
      "bestTest = 0.7278079637\n",
      "bestIteration = 87\n",
      "\n",
      "Shrink model to first 88 iterations.\n",
      "0:\ttest: 0.7163172\tbest: 0.7163172 (0)\ttotal: 166ms\tremaining: 3m 7s\n",
      "300:\ttest: 0.7209087\tbest: 0.7285312 (24)\ttotal: 58.2s\tremaining: 2m 40s\n"
     ]
    },
    {
     "name": "stderr",
     "output_type": "stream",
     "text": [
      "[I 2025-02-20 04:34:58,923] Trial 8 finished with value: 0.728531157431693 and parameters: {'iterations': 1130, 'depth': 10, 'learning_rate': 0.09673504314208314, 'l2_leaf_reg': 7.085721663941605}. Best is trial 8 with value: 0.728531157431693.\n"
     ]
    },
    {
     "name": "stdout",
     "output_type": "stream",
     "text": [
      "Stopped by overfitting detector  (300 iterations wait)\n",
      "\n",
      "bestTest = 0.7285311574\n",
      "bestIteration = 24\n",
      "\n",
      "Shrink model to first 25 iterations.\n",
      "저장 완료\n",
      "0:\ttest: 0.6946477\tbest: 0.6946477 (0)\ttotal: 66.6ms\tremaining: 1m 47s\n",
      "300:\ttest: 0.7237978\tbest: 0.7268199 (89)\ttotal: 19.2s\tremaining: 1m 23s\n"
     ]
    },
    {
     "name": "stderr",
     "output_type": "stream",
     "text": [
      "[I 2025-02-20 04:35:24,133] Trial 9 finished with value: 0.7268199397511728 and parameters: {'iterations': 1609, 'depth': 4, 'learning_rate': 0.07000213751865492, 'l2_leaf_reg': 0.04374364439939081}. Best is trial 8 with value: 0.728531157431693.\n"
     ]
    },
    {
     "name": "stdout",
     "output_type": "stream",
     "text": [
      "Stopped by overfitting detector  (300 iterations wait)\n",
      "\n",
      "bestTest = 0.7268199398\n",
      "bestIteration = 89\n",
      "\n",
      "Shrink model to first 90 iterations.\n",
      "0:\ttest: 0.7163548\tbest: 0.7163548 (0)\ttotal: 176ms\tremaining: 3m 2s\n",
      "300:\ttest: 0.7193468\tbest: 0.7287981 (20)\ttotal: 56.4s\tremaining: 2m 18s\n"
     ]
    },
    {
     "name": "stderr",
     "output_type": "stream",
     "text": [
      "[I 2025-02-20 04:36:24,663] Trial 10 finished with value: 0.7287981359961186 and parameters: {'iterations': 1041, 'depth': 10, 'learning_rate': 0.09710602552484723, 'l2_leaf_reg': 1.8106690503510394}. Best is trial 10 with value: 0.7287981359961186.\n"
     ]
    },
    {
     "name": "stdout",
     "output_type": "stream",
     "text": [
      "Stopped by overfitting detector  (300 iterations wait)\n",
      "\n",
      "bestTest = 0.728798136\n",
      "bestIteration = 20\n",
      "\n",
      "Shrink model to first 21 iterations.\n",
      "저장 완료\n",
      "0:\ttest: 0.7163566\tbest: 0.7163566 (0)\ttotal: 174ms\tremaining: 2m 59s\n",
      "300:\ttest: 0.7199265\tbest: 0.7286249 (19)\ttotal: 58.1s\tremaining: 2m 20s\n"
     ]
    },
    {
     "name": "stderr",
     "output_type": "stream",
     "text": [
      "[I 2025-02-20 04:37:26,868] Trial 11 finished with value: 0.7286248624048215 and parameters: {'iterations': 1029, 'depth': 10, 'learning_rate': 0.09877470050017445, 'l2_leaf_reg': 3.684766303880818}. Best is trial 10 with value: 0.7287981359961186.\n"
     ]
    },
    {
     "name": "stdout",
     "output_type": "stream",
     "text": [
      "Stopped by overfitting detector  (300 iterations wait)\n",
      "\n",
      "bestTest = 0.7286248624\n",
      "bestIteration = 19\n",
      "\n",
      "Shrink model to first 20 iterations.\n",
      "0:\ttest: 0.7188970\tbest: 0.7188970 (0)\ttotal: 129ms\tremaining: 2m 17s\n",
      "300:\ttest: 0.7216251\tbest: 0.7289091 (19)\ttotal: 38.8s\tremaining: 1m 38s\n"
     ]
    },
    {
     "name": "stderr",
     "output_type": "stream",
     "text": [
      "[I 2025-02-20 04:38:08,275] Trial 12 finished with value: 0.7289091262369827 and parameters: {'iterations': 1068, 'depth': 8, 'learning_rate': 0.09960533070015573, 'l2_leaf_reg': 1.1938639261121213}. Best is trial 12 with value: 0.7289091262369827.\n"
     ]
    },
    {
     "name": "stdout",
     "output_type": "stream",
     "text": [
      "Stopped by overfitting detector  (300 iterations wait)\n",
      "\n",
      "bestTest = 0.7289091262\n",
      "bestIteration = 19\n",
      "\n",
      "Shrink model to first 20 iterations.\n",
      "저장 완료\n",
      "0:\ttest: 0.7191382\tbest: 0.7191382 (0)\ttotal: 113ms\tremaining: 2m 31s\n",
      "300:\ttest: 0.7217320\tbest: 0.7290953 (26)\ttotal: 33.6s\tremaining: 1m 55s\n"
     ]
    },
    {
     "name": "stderr",
     "output_type": "stream",
     "text": [
      "[I 2025-02-20 04:38:44,892] Trial 13 finished with value: 0.7290953171211685 and parameters: {'iterations': 1340, 'depth': 7, 'learning_rate': 0.08677261256310714, 'l2_leaf_reg': 1.018810769781635}. Best is trial 13 with value: 0.7290953171211685.\n"
     ]
    },
    {
     "name": "stdout",
     "output_type": "stream",
     "text": [
      "Stopped by overfitting detector  (300 iterations wait)\n",
      "\n",
      "bestTest = 0.7290953171\n",
      "bestIteration = 26\n",
      "\n",
      "Shrink model to first 27 iterations.\n",
      "저장 완료\n",
      "0:\ttest: 0.7191382\tbest: 0.7191382 (0)\ttotal: 111ms\tremaining: 2m 27s\n",
      "300:\ttest: 0.7216784\tbest: 0.7290256 (27)\ttotal: 33.4s\tremaining: 1m 53s\n"
     ]
    },
    {
     "name": "stderr",
     "output_type": "stream",
     "text": [
      "[I 2025-02-20 04:39:21,553] Trial 14 finished with value: 0.7290256280679266 and parameters: {'iterations': 1324, 'depth': 7, 'learning_rate': 0.08313408480709152, 'l2_leaf_reg': 0.4112934508942891}. Best is trial 13 with value: 0.7290953171211685.\n"
     ]
    },
    {
     "name": "stdout",
     "output_type": "stream",
     "text": [
      "Stopped by overfitting detector  (300 iterations wait)\n",
      "\n",
      "bestTest = 0.7290256281\n",
      "bestIteration = 27\n",
      "\n",
      "Shrink model to first 28 iterations.\n",
      "0:\ttest: 0.7191382\tbest: 0.7191382 (0)\ttotal: 112ms\tremaining: 2m 39s\n",
      "300:\ttest: 0.7213861\tbest: 0.7282322 (27)\ttotal: 33.4s\tremaining: 2m 4s\n"
     ]
    },
    {
     "name": "stderr",
     "output_type": "stream",
     "text": [
      "[I 2025-02-20 04:39:58,129] Trial 15 finished with value: 0.7282322251458181 and parameters: {'iterations': 1426, 'depth': 7, 'learning_rate': 0.08451533881782018, 'l2_leaf_reg': 0.285455532902564}. Best is trial 13 with value: 0.7290953171211685.\n"
     ]
    },
    {
     "name": "stdout",
     "output_type": "stream",
     "text": [
      "Stopped by overfitting detector  (300 iterations wait)\n",
      "\n",
      "bestTest = 0.7282322251\n",
      "bestIteration = 27\n",
      "\n",
      "Shrink model to first 28 iterations.\n",
      "0:\ttest: 0.7126029\tbest: 0.7126029 (0)\ttotal: 97.7ms\tremaining: 2m 12s\n",
      "300:\ttest: 0.7229966\tbest: 0.7275199 (53)\ttotal: 28.9s\tremaining: 1m 41s\n"
     ]
    },
    {
     "name": "stderr",
     "output_type": "stream",
     "text": [
      "[I 2025-02-20 04:40:32,233] Trial 16 finished with value: 0.7275198838950989 and parameters: {'iterations': 1358, 'depth': 6, 'learning_rate': 0.08310878114602499, 'l2_leaf_reg': 94.64533014403685}. Best is trial 13 with value: 0.7290953171211685.\n"
     ]
    },
    {
     "name": "stdout",
     "output_type": "stream",
     "text": [
      "Stopped by overfitting detector  (300 iterations wait)\n",
      "\n",
      "bestTest = 0.7275198839\n",
      "bestIteration = 53\n",
      "\n",
      "Shrink model to first 54 iterations.\n",
      "0:\ttest: 0.7126227\tbest: 0.7126227 (0)\ttotal: 97.1ms\tremaining: 4m 44s\n",
      "300:\ttest: 0.7225857\tbest: 0.7282885 (43)\ttotal: 27.6s\tremaining: 4m 1s\n"
     ]
    },
    {
     "name": "stderr",
     "output_type": "stream",
     "text": [
      "[I 2025-02-20 04:41:03,970] Trial 17 finished with value: 0.7282884727491897 and parameters: {'iterations': 2935, 'depth': 6, 'learning_rate': 0.05861515120489101, 'l2_leaf_reg': 0.00023000167888722364}. Best is trial 13 with value: 0.7290953171211685.\n"
     ]
    },
    {
     "name": "stdout",
     "output_type": "stream",
     "text": [
      "Stopped by overfitting detector  (300 iterations wait)\n",
      "\n",
      "bestTest = 0.7282884727\n",
      "bestIteration = 43\n",
      "\n",
      "Shrink model to first 44 iterations.\n",
      "0:\ttest: 0.7188974\tbest: 0.7188974 (0)\ttotal: 134ms\tremaining: 4m 17s\n",
      "300:\ttest: 0.7230366\tbest: 0.7282075 (45)\ttotal: 36.8s\tremaining: 3m 18s\n"
     ]
    },
    {
     "name": "stderr",
     "output_type": "stream",
     "text": [
      "[I 2025-02-20 04:41:46,882] Trial 18 finished with value: 0.7282074626993214 and parameters: {'iterations': 1925, 'depth': 8, 'learning_rate': 0.04940484452425767, 'l2_leaf_reg': 0.737975784896599}. Best is trial 13 with value: 0.7290953171211685.\n"
     ]
    },
    {
     "name": "stdout",
     "output_type": "stream",
     "text": [
      "Stopped by overfitting detector  (300 iterations wait)\n",
      "\n",
      "bestTest = 0.7282074627\n",
      "bestIteration = 45\n",
      "\n",
      "Shrink model to first 46 iterations.\n",
      "0:\ttest: 0.7126227\tbest: 0.7126227 (0)\ttotal: 94ms\tremaining: 2m 24s\n",
      "300:\ttest: 0.7220924\tbest: 0.7280763 (39)\ttotal: 27.9s\tremaining: 1m 55s\n"
     ]
    },
    {
     "name": "stderr",
     "output_type": "stream",
     "text": [
      "[I 2025-02-20 04:42:18,657] Trial 19 finished with value: 0.7280762924146638 and parameters: {'iterations': 1542, 'depth': 6, 'learning_rate': 0.08426765728904428, 'l2_leaf_reg': 0.03134648158536098}. Best is trial 13 with value: 0.7290953171211685.\n",
      "[I 2025-02-20 04:42:18,658] A new study created in memory with name: no-name-de20db46-7fce-4b37-bef0-e342b96883e1\n"
     ]
    },
    {
     "name": "stdout",
     "output_type": "stream",
     "text": [
      "Stopped by overfitting detector  (300 iterations wait)\n",
      "\n",
      "bestTest = 0.7280762924\n",
      "bestIteration = 39\n",
      "\n",
      "Shrink model to first 40 iterations.\n"
     ]
    },
    {
     "name": "stderr",
     "output_type": "stream",
     "text": [
      "[I 2025-02-20 04:42:41,907] Trial 0 finished with value: 0.7209937323849501 and parameters: {'objective': 'binary', 'metric': 'auc', 'random_state': 42, 'verbose': -1, 'learning_rate': 0.015355286838886862, 'n_estimators': 1907, 'min_child_samples': 40, 'subsample': 0.8, 'colsample_bytree': 0.5}. Best is trial 0 with value: 0.7209937323849501.\n",
      "[I 2025-02-20 04:42:44,285] Trial 1 finished with value: 0.7280567040329178 and parameters: {'objective': 'binary', 'metric': 'auc', 'random_state': 42, 'verbose': -1, 'learning_rate': 0.00797854234707418, 'n_estimators': 210, 'min_child_samples': 45, 'subsample': 0.8, 'colsample_bytree': 0.9}. Best is trial 1 with value: 0.7280567040329178.\n",
      "[I 2025-02-20 04:43:06,253] Trial 2 finished with value: 0.7235023596117794 and parameters: {'objective': 'binary', 'metric': 'auc', 'random_state': 42, 'verbose': -1, 'learning_rate': 0.005318033256270142, 'n_estimators': 1943, 'min_child_samples': 45, 'subsample': 0.6, 'colsample_bytree': 0.6}. Best is trial 1 with value: 0.7280567040329178.\n",
      "[I 2025-02-20 04:43:14,157] Trial 3 finished with value: 0.7263312864632584 and parameters: {'objective': 'binary', 'metric': 'auc', 'random_state': 42, 'verbose': -1, 'learning_rate': 0.008661333735273127, 'n_estimators': 678, 'min_child_samples': 30, 'subsample': 0.7, 'colsample_bytree': 0.6}. Best is trial 1 with value: 0.7280567040329178.\n",
      "[I 2025-02-20 04:43:18,112] Trial 4 finished with value: 0.7225941305727139 and parameters: {'objective': 'binary', 'metric': 'auc', 'random_state': 42, 'verbose': -1, 'learning_rate': 0.03126143958203108, 'n_estimators': 365, 'min_child_samples': 20, 'subsample': 0.7, 'colsample_bytree': 0.7}. Best is trial 1 with value: 0.7280567040329178.\n",
      "[I 2025-02-20 04:43:24,203] Trial 5 finished with value: 0.7209726231537801 and parameters: {'objective': 'binary', 'metric': 'auc', 'random_state': 42, 'verbose': -1, 'learning_rate': 0.05254210669345883, 'n_estimators': 479, 'min_child_samples': 30, 'subsample': 0.8, 'colsample_bytree': 0.5}. Best is trial 1 with value: 0.7280567040329178.\n",
      "[I 2025-02-20 04:43:28,660] Trial 6 finished with value: 0.7224999649767835 and parameters: {'objective': 'binary', 'metric': 'auc', 'random_state': 42, 'verbose': -1, 'learning_rate': 0.030860579740535368, 'n_estimators': 424, 'min_child_samples': 10, 'subsample': 1.0, 'colsample_bytree': 1.0}. Best is trial 1 with value: 0.7280567040329178.\n",
      "[I 2025-02-20 04:43:35,091] Trial 7 finished with value: 0.7203693184679025 and parameters: {'objective': 'binary', 'metric': 'auc', 'random_state': 42, 'verbose': -1, 'learning_rate': 0.05632733481673016, 'n_estimators': 679, 'min_child_samples': 10, 'subsample': 0.9, 'colsample_bytree': 0.7}. Best is trial 1 with value: 0.7280567040329178.\n",
      "[I 2025-02-20 04:43:47,076] Trial 8 finished with value: 0.7253152558049671 and parameters: {'objective': 'binary', 'metric': 'auc', 'random_state': 42, 'verbose': -1, 'learning_rate': 0.007206848764305203, 'n_estimators': 1041, 'min_child_samples': 10, 'subsample': 1.0, 'colsample_bytree': 0.6}. Best is trial 1 with value: 0.7280567040329178.\n",
      "[I 2025-02-20 04:43:54,686] Trial 9 finished with value: 0.7219533526335347 and parameters: {'objective': 'binary', 'metric': 'auc', 'random_state': 42, 'verbose': -1, 'learning_rate': 0.036385753170854684, 'n_estimators': 692, 'min_child_samples': 30, 'subsample': 0.8, 'colsample_bytree': 0.6}. Best is trial 1 with value: 0.7280567040329178.\n",
      "[I 2025-02-20 04:43:56,085] Trial 10 finished with value: 0.7269607831146736 and parameters: {'objective': 'binary', 'metric': 'auc', 'random_state': 42, 'verbose': -1, 'learning_rate': 0.014579928528334861, 'n_estimators': 111, 'min_child_samples': 50, 'subsample': 0.5, 'colsample_bytree': 1.0}. Best is trial 1 with value: 0.7280567040329178.\n",
      "[I 2025-02-20 04:43:57,647] Trial 11 finished with value: 0.7269882537055754 and parameters: {'objective': 'binary', 'metric': 'auc', 'random_state': 42, 'verbose': -1, 'learning_rate': 0.01426509269778552, 'n_estimators': 127, 'min_child_samples': 50, 'subsample': 0.5, 'colsample_bytree': 1.0}. Best is trial 1 with value: 0.7280567040329178.\n",
      "[I 2025-02-20 04:43:59,103] Trial 12 finished with value: 0.7280745015449765 and parameters: {'objective': 'binary', 'metric': 'auc', 'random_state': 42, 'verbose': -1, 'learning_rate': 0.012240096883321323, 'n_estimators': 116, 'min_child_samples': 40, 'subsample': 0.5, 'colsample_bytree': 0.9}. Best is trial 12 with value: 0.7280745015449765.\n",
      "[I 2025-02-20 04:44:13,224] Trial 13 finished with value: 0.7224446267063573 and parameters: {'objective': 'binary', 'metric': 'auc', 'random_state': 42, 'verbose': -1, 'learning_rate': 0.010263697175730098, 'n_estimators': 1411, 'min_child_samples': 40, 'subsample': 0.6, 'colsample_bytree': 0.9}. Best is trial 12 with value: 0.7280745015449765.\n",
      "[I 2025-02-20 04:44:23,821] Trial 14 finished with value: 0.7215877134299724 and parameters: {'objective': 'binary', 'metric': 'auc', 'random_state': 42, 'verbose': -1, 'learning_rate': 0.0199166143861953, 'n_estimators': 1103, 'min_child_samples': 40, 'subsample': 0.9, 'colsample_bytree': 0.9}. Best is trial 12 with value: 0.7280745015449765.\n",
      "[I 2025-02-20 04:44:25,167] Trial 15 finished with value: 0.7219494254270585 and parameters: {'objective': 'binary', 'metric': 'auc', 'random_state': 42, 'verbose': -1, 'learning_rate': 0.0902334606102013, 'n_estimators': 105, 'min_child_samples': 35, 'subsample': 0.6, 'colsample_bytree': 0.8}. Best is trial 12 with value: 0.7280745015449765.\n",
      "[I 2025-02-20 04:44:35,363] Trial 16 finished with value: 0.72633085363666 and parameters: {'objective': 'binary', 'metric': 'auc', 'random_state': 42, 'verbose': -1, 'learning_rate': 0.005096808318118142, 'n_estimators': 985, 'min_child_samples': 45, 'subsample': 0.9, 'colsample_bytree': 0.9}. Best is trial 12 with value: 0.7280745015449765.\n",
      "[I 2025-02-20 04:44:50,161] Trial 17 finished with value: 0.7228435181111644 and parameters: {'objective': 'binary', 'metric': 'auc', 'random_state': 42, 'verbose': -1, 'learning_rate': 0.010433159641592873, 'n_estimators': 1487, 'min_child_samples': 20, 'subsample': 0.7, 'colsample_bytree': 0.8}. Best is trial 12 with value: 0.7280745015449765.\n",
      "[I 2025-02-20 04:44:54,285] Trial 18 finished with value: 0.7276959569611844 and parameters: {'objective': 'binary', 'metric': 'auc', 'random_state': 42, 'verbose': -1, 'learning_rate': 0.0073153406549506155, 'n_estimators': 378, 'min_child_samples': 45, 'subsample': 0.5, 'colsample_bytree': 0.9}. Best is trial 12 with value: 0.7280745015449765.\n",
      "[I 2025-02-20 04:45:02,601] Trial 19 finished with value: 0.7222866449979112 and parameters: {'objective': 'binary', 'metric': 'auc', 'random_state': 42, 'verbose': -1, 'learning_rate': 0.020464677431053676, 'n_estimators': 827, 'min_child_samples': 35, 'subsample': 0.6, 'colsample_bytree': 0.8}. Best is trial 12 with value: 0.7280745015449765.\n"
     ]
    },
    {
     "name": "stdout",
     "output_type": "stream",
     "text": [
      "Cat val score : 0.7290953171211685\n",
      "LGBM val score : 0.7280745015449765\n",
      "Ensemble val score : 0.7297514901862405\n",
      "==================================================\n"
     ]
    },
    {
     "name": "stderr",
     "output_type": "stream",
     "text": [
      "[I 2025-02-20 04:47:36,827] A new study created in memory with name: no-name-ffa9f852-a752-44e9-bcc7-1362ea998393\n"
     ]
    },
    {
     "name": "stdout",
     "output_type": "stream",
     "text": [
      "After SMOTENC:\n",
      "[171111 171111]\n",
      "X_train shape: (342222, 66)\n",
      "y_train shape: (342222,)\n",
      "0:\ttest: 0.7212916\tbest: 0.7212916 (0)\ttotal: 177ms\tremaining: 5m 9s\n",
      "300:\ttest: 0.7245626\tbest: 0.7274894 (90)\ttotal: 54.9s\tremaining: 4m 24s\n"
     ]
    },
    {
     "name": "stderr",
     "output_type": "stream",
     "text": [
      "[I 2025-02-20 04:48:50,180] Trial 0 finished with value: 0.7274893596926902 and parameters: {'iterations': 1749, 'depth': 10, 'learning_rate': 0.07453942447208349, 'l2_leaf_reg': 0.39079671568228835}. Best is trial 0 with value: 0.7274893596926902.\n"
     ]
    },
    {
     "name": "stdout",
     "output_type": "stream",
     "text": [
      "Stopped by overfitting detector  (300 iterations wait)\n",
      "\n",
      "bestTest = 0.7274893597\n",
      "bestIteration = 90\n",
      "\n",
      "Shrink model to first 91 iterations.\n",
      "저장 완료\n",
      "0:\ttest: 0.7106492\tbest: 0.7106492 (0)\ttotal: 81.4ms\tremaining: 1m 46s\n",
      "300:\ttest: 0.7252466\tbest: 0.7252466 (300)\ttotal: 22.1s\tremaining: 1m 14s\n",
      "600:\ttest: 0.7271656\tbest: 0.7271978 (596)\ttotal: 45.6s\tremaining: 54s\n",
      "900:\ttest: 0.7273211\tbest: 0.7273405 (722)\ttotal: 1m 9s\tremaining: 31.6s\n"
     ]
    },
    {
     "name": "stderr",
     "output_type": "stream",
     "text": [
      "[I 2025-02-20 04:50:09,357] Trial 1 finished with value: 0.727340499109902 and parameters: {'iterations': 1312, 'depth': 5, 'learning_rate': 0.010517943155978949, 'l2_leaf_reg': 15.741890047456648}. Best is trial 0 with value: 0.7274893596926902.\n"
     ]
    },
    {
     "name": "stdout",
     "output_type": "stream",
     "text": [
      "Stopped by overfitting detector  (300 iterations wait)\n",
      "\n",
      "bestTest = 0.7273404991\n",
      "bestIteration = 722\n",
      "\n",
      "Shrink model to first 723 iterations.\n",
      "0:\ttest: 0.7208681\tbest: 0.7208681 (0)\ttotal: 128ms\tremaining: 4m 41s\n",
      "300:\ttest: 0.7249348\tbest: 0.7249800 (299)\ttotal: 33.7s\tremaining: 3m 33s\n",
      "600:\ttest: 0.7270390\tbest: 0.7271097 (588)\ttotal: 1m 9s\tremaining: 3m 5s\n",
      "900:\ttest: 0.7272827\tbest: 0.7273099 (802)\ttotal: 1m 47s\tremaining: 2m 34s\n",
      "1200:\ttest: 0.7272327\tbest: 0.7273526 (1013)\ttotal: 2m 24s\tremaining: 2m\n"
     ]
    },
    {
     "name": "stderr",
     "output_type": "stream",
     "text": [
      "[I 2025-02-20 04:52:48,745] Trial 2 finished with value: 0.7273525904584559 and parameters: {'iterations': 2202, 'depth': 8, 'learning_rate': 0.006955526958101232, 'l2_leaf_reg': 65.98711072054076}. Best is trial 0 with value: 0.7274893596926902.\n"
     ]
    },
    {
     "name": "stdout",
     "output_type": "stream",
     "text": [
      "Stopped by overfitting detector  (300 iterations wait)\n",
      "\n",
      "bestTest = 0.7273525905\n",
      "bestIteration = 1013\n",
      "\n",
      "Shrink model to first 1014 iterations.\n",
      "0:\ttest: 0.7106799\tbest: 0.7106799 (0)\ttotal: 80ms\tremaining: 3m 33s\n",
      "300:\ttest: 0.7274401\tbest: 0.7274411 (299)\ttotal: 22.3s\tremaining: 2m 55s\n",
      "600:\ttest: 0.7272543\tbest: 0.7278688 (407)\ttotal: 45.5s\tremaining: 2m 36s\n"
     ]
    },
    {
     "name": "stderr",
     "output_type": "stream",
     "text": [
      "[I 2025-02-20 04:53:42,774] Trial 3 finished with value: 0.7278687739005656 and parameters: {'iterations': 2665, 'depth': 5, 'learning_rate': 0.02227337188467456, 'l2_leaf_reg': 0.0012601639723276807}. Best is trial 3 with value: 0.7278687739005656.\n"
     ]
    },
    {
     "name": "stdout",
     "output_type": "stream",
     "text": [
      "Stopped by overfitting detector  (300 iterations wait)\n",
      "\n",
      "bestTest = 0.7278687739\n",
      "bestIteration = 407\n",
      "\n",
      "Shrink model to first 408 iterations.\n",
      "저장 완료\n",
      "0:\ttest: 0.7161286\tbest: 0.7161286 (0)\ttotal: 111ms\tremaining: 2m 58s\n",
      "300:\ttest: 0.7267504\tbest: 0.7279824 (145)\ttotal: 31.9s\tremaining: 2m 18s\n"
     ]
    },
    {
     "name": "stderr",
     "output_type": "stream",
     "text": [
      "[I 2025-02-20 04:54:31,020] Trial 4 finished with value: 0.7279823611010207 and parameters: {'iterations': 1608, 'depth': 7, 'learning_rate': 0.046034776771001, 'l2_leaf_reg': 0.005589524205217926}. Best is trial 4 with value: 0.7279823611010207.\n"
     ]
    },
    {
     "name": "stdout",
     "output_type": "stream",
     "text": [
      "Stopped by overfitting detector  (300 iterations wait)\n",
      "\n",
      "bestTest = 0.7279823611\n",
      "bestIteration = 145\n",
      "\n",
      "Shrink model to first 146 iterations.\n",
      "저장 완료\n",
      "0:\ttest: 0.7068892\tbest: 0.7068892 (0)\ttotal: 68.5ms\tremaining: 2m 32s\n",
      "300:\ttest: 0.7270189\tbest: 0.7270189 (300)\ttotal: 18.7s\tremaining: 1m 59s\n",
      "600:\ttest: 0.7265576\tbest: 0.7272659 (378)\ttotal: 38s\tremaining: 1m 42s\n"
     ]
    },
    {
     "name": "stderr",
     "output_type": "stream",
     "text": [
      "[I 2025-02-20 04:55:14,360] Trial 5 finished with value: 0.7272659218957176 and parameters: {'iterations': 2224, 'depth': 4, 'learning_rate': 0.032753741610845724, 'l2_leaf_reg': 0.01578232781079559}. Best is trial 4 with value: 0.7279823611010207.\n"
     ]
    },
    {
     "name": "stdout",
     "output_type": "stream",
     "text": [
      "Stopped by overfitting detector  (300 iterations wait)\n",
      "\n",
      "bestTest = 0.7272659219\n",
      "bestIteration = 378\n",
      "\n",
      "Shrink model to first 379 iterations.\n",
      "0:\ttest: 0.7210495\tbest: 0.7210495 (0)\ttotal: 155ms\tremaining: 4m 56s\n",
      "300:\ttest: 0.7271823\tbest: 0.7276252 (215)\ttotal: 41.8s\tremaining: 3m 43s\n"
     ]
    },
    {
     "name": "stderr",
     "output_type": "stream",
     "text": [
      "[I 2025-02-20 04:56:27,374] Trial 6 finished with value: 0.7276252473901827 and parameters: {'iterations': 1912, 'depth': 9, 'learning_rate': 0.023969009305044177, 'l2_leaf_reg': 0.12173252504194051}. Best is trial 4 with value: 0.7279823611010207.\n"
     ]
    },
    {
     "name": "stdout",
     "output_type": "stream",
     "text": [
      "Stopped by overfitting detector  (300 iterations wait)\n",
      "\n",
      "bestTest = 0.7276252474\n",
      "bestIteration = 215\n",
      "\n",
      "Shrink model to first 216 iterations.\n",
      "0:\ttest: 0.7068892\tbest: 0.7068892 (0)\ttotal: 67.1ms\tremaining: 2m 26s\n",
      "300:\ttest: 0.7264996\tbest: 0.7277777 (185)\ttotal: 19.3s\tremaining: 2m\n"
     ]
    },
    {
     "name": "stderr",
     "output_type": "stream",
     "text": [
      "[I 2025-02-20 04:56:58,860] Trial 7 finished with value: 0.7277776777996868 and parameters: {'iterations': 2185, 'depth': 4, 'learning_rate': 0.06271676093063665, 'l2_leaf_reg': 0.0010547383621352044}. Best is trial 4 with value: 0.7279823611010207.\n"
     ]
    },
    {
     "name": "stdout",
     "output_type": "stream",
     "text": [
      "Stopped by overfitting detector  (300 iterations wait)\n",
      "\n",
      "bestTest = 0.7277776778\n",
      "bestIteration = 185\n",
      "\n",
      "Shrink model to first 186 iterations.\n",
      "0:\ttest: 0.7212752\tbest: 0.7212752 (0)\ttotal: 173ms\tremaining: 3m 15s\n",
      "300:\ttest: 0.7242920\tbest: 0.7278223 (32)\ttotal: 57.5s\tremaining: 2m 38s\n"
     ]
    },
    {
     "name": "stderr",
     "output_type": "stream",
     "text": [
      "[I 2025-02-20 04:58:02,889] Trial 8 finished with value: 0.7278222748228754 and parameters: {'iterations': 1130, 'depth': 10, 'learning_rate': 0.09673504314208314, 'l2_leaf_reg': 7.085721663941605}. Best is trial 4 with value: 0.7279823611010207.\n"
     ]
    },
    {
     "name": "stdout",
     "output_type": "stream",
     "text": [
      "Stopped by overfitting detector  (300 iterations wait)\n",
      "\n",
      "bestTest = 0.7278222748\n",
      "bestIteration = 32\n",
      "\n",
      "Shrink model to first 33 iterations.\n",
      "0:\ttest: 0.7068892\tbest: 0.7068892 (0)\ttotal: 67.1ms\tremaining: 1m 47s\n",
      "300:\ttest: 0.7264679\tbest: 0.7273555 (188)\ttotal: 19s\tremaining: 1m 22s\n"
     ]
    },
    {
     "name": "stderr",
     "output_type": "stream",
     "text": [
      "[I 2025-02-20 04:58:34,340] Trial 9 finished with value: 0.7273554892053999 and parameters: {'iterations': 1609, 'depth': 4, 'learning_rate': 0.07000213751865492, 'l2_leaf_reg': 0.04374364439939081}. Best is trial 4 with value: 0.7279823611010207.\n"
     ]
    },
    {
     "name": "stdout",
     "output_type": "stream",
     "text": [
      "Stopped by overfitting detector  (300 iterations wait)\n",
      "\n",
      "bestTest = 0.7273554892\n",
      "bestIteration = 188\n",
      "\n",
      "Shrink model to first 189 iterations.\n",
      "0:\ttest: 0.7161286\tbest: 0.7161286 (0)\ttotal: 114ms\tremaining: 5m 28s\n",
      "300:\ttest: 0.7265068\tbest: 0.7277716 (69)\ttotal: 31.6s\tremaining: 4m 32s\n"
     ]
    },
    {
     "name": "stderr",
     "output_type": "stream",
     "text": [
      "[I 2025-02-20 04:59:13,804] Trial 10 finished with value: 0.727771562634901 and parameters: {'iterations': 2891, 'depth': 7, 'learning_rate': 0.04584783385796229, 'l2_leaf_reg': 0.00012816553469185968}. Best is trial 4 with value: 0.7279823611010207.\n"
     ]
    },
    {
     "name": "stdout",
     "output_type": "stream",
     "text": [
      "Stopped by overfitting detector  (300 iterations wait)\n",
      "\n",
      "bestTest = 0.7277715626\n",
      "bestIteration = 69\n",
      "\n",
      "Shrink model to first 70 iterations.\n",
      "0:\ttest: 0.7103010\tbest: 0.7103010 (0)\ttotal: 92.9ms\tremaining: 4m 15s\n",
      "300:\ttest: 0.7270065\tbest: 0.7279242 (176)\ttotal: 27s\tremaining: 3m 40s\n"
     ]
    },
    {
     "name": "stderr",
     "output_type": "stream",
     "text": [
      "[I 2025-02-20 04:59:57,556] Trial 11 finished with value: 0.7279241955596025 and parameters: {'iterations': 2752, 'depth': 6, 'learning_rate': 0.040693400534173335, 'l2_leaf_reg': 0.0017578879572528634}. Best is trial 4 with value: 0.7279823611010207.\n"
     ]
    },
    {
     "name": "stdout",
     "output_type": "stream",
     "text": [
      "Stopped by overfitting detector  (300 iterations wait)\n",
      "\n",
      "bestTest = 0.7279241956\n",
      "bestIteration = 176\n",
      "\n",
      "Shrink model to first 177 iterations.\n",
      "0:\ttest: 0.7161286\tbest: 0.7161286 (0)\ttotal: 108ms\tremaining: 4m 37s\n",
      "300:\ttest: 0.7265811\tbest: 0.7284521 (75)\ttotal: 31.4s\tremaining: 3m 56s\n"
     ]
    },
    {
     "name": "stderr",
     "output_type": "stream",
     "text": [
      "[I 2025-02-20 05:00:37,633] Trial 12 finished with value: 0.7284520891451887 and parameters: {'iterations': 2568, 'depth': 7, 'learning_rate': 0.04778501465738716, 'l2_leaf_reg': 0.004144996361572496}. Best is trial 12 with value: 0.7284520891451887.\n"
     ]
    },
    {
     "name": "stdout",
     "output_type": "stream",
     "text": [
      "Stopped by overfitting detector  (300 iterations wait)\n",
      "\n",
      "bestTest = 0.7284520891\n",
      "bestIteration = 75\n",
      "\n",
      "Shrink model to first 76 iterations.\n",
      "저장 완료\n",
      "0:\ttest: 0.7161286\tbest: 0.7161286 (0)\ttotal: 113ms\tremaining: 4m 32s\n",
      "300:\ttest: 0.7266279\tbest: 0.7279327 (93)\ttotal: 32.6s\tremaining: 3m 48s\n"
     ]
    },
    {
     "name": "stderr",
     "output_type": "stream",
     "text": [
      "[I 2025-02-20 05:01:20,998] Trial 13 finished with value: 0.7279327369358717 and parameters: {'iterations': 2413, 'depth': 7, 'learning_rate': 0.053074666042096035, 'l2_leaf_reg': 0.008123019592628818}. Best is trial 12 with value: 0.7284520891451887.\n"
     ]
    },
    {
     "name": "stdout",
     "output_type": "stream",
     "text": [
      "Stopped by overfitting detector  (300 iterations wait)\n",
      "\n",
      "bestTest = 0.7279327369\n",
      "bestIteration = 93\n",
      "\n",
      "Shrink model to first 94 iterations.\n",
      "0:\ttest: 0.7209007\tbest: 0.7209007 (0)\ttotal: 142ms\tremaining: 3m 50s\n",
      "300:\ttest: 0.7256045\tbest: 0.7274803 (59)\ttotal: 37.2s\tremaining: 2m 43s\n"
     ]
    },
    {
     "name": "stderr",
     "output_type": "stream",
     "text": [
      "[I 2025-02-20 05:02:05,830] Trial 14 finished with value: 0.7274802584214635 and parameters: {'iterations': 1622, 'depth': 8, 'learning_rate': 0.05827550986856335, 'l2_leaf_reg': 0.00011535761683007649}. Best is trial 12 with value: 0.7284520891451887.\n"
     ]
    },
    {
     "name": "stdout",
     "output_type": "stream",
     "text": [
      "Stopped by overfitting detector  (300 iterations wait)\n",
      "\n",
      "bestTest = 0.7274802584\n",
      "bestIteration = 59\n",
      "\n",
      "Shrink model to first 60 iterations.\n",
      "0:\ttest: 0.7103004\tbest: 0.7103004 (0)\ttotal: 94.3ms\tremaining: 3m 56s\n",
      "300:\ttest: 0.7261401\tbest: 0.7275823 (57)\ttotal: 28.3s\tremaining: 3m 27s\n"
     ]
    },
    {
     "name": "stderr",
     "output_type": "stream",
     "text": [
      "[I 2025-02-20 05:02:39,781] Trial 15 finished with value: 0.7275823379936395 and parameters: {'iterations': 2510, 'depth': 6, 'learning_rate': 0.08185704652168993, 'l2_leaf_reg': 0.8243036091063646}. Best is trial 12 with value: 0.7284520891451887.\n"
     ]
    },
    {
     "name": "stdout",
     "output_type": "stream",
     "text": [
      "Stopped by overfitting detector  (300 iterations wait)\n",
      "\n",
      "bestTest = 0.727582338\n",
      "bestIteration = 57\n",
      "\n",
      "Shrink model to first 58 iterations.\n",
      "0:\ttest: 0.7209007\tbest: 0.7209007 (0)\ttotal: 128ms\tremaining: 3m 6s\n",
      "300:\ttest: 0.7260046\tbest: 0.7277829 (108)\ttotal: 36.2s\tremaining: 2m 18s\n"
     ]
    },
    {
     "name": "stderr",
     "output_type": "stream",
     "text": [
      "[I 2025-02-20 05:03:30,051] Trial 16 finished with value: 0.7277829114277309 and parameters: {'iterations': 1453, 'depth': 8, 'learning_rate': 0.039839959215498134, 'l2_leaf_reg': 0.01139713597201627}. Best is trial 12 with value: 0.7284520891451887.\n"
     ]
    },
    {
     "name": "stdout",
     "output_type": "stream",
     "text": [
      "Stopped by overfitting detector  (300 iterations wait)\n",
      "\n",
      "bestTest = 0.7277829114\n",
      "bestIteration = 108\n",
      "\n",
      "Shrink model to first 109 iterations.\n",
      "0:\ttest: 0.7103010\tbest: 0.7103010 (0)\ttotal: 96.9ms\tremaining: 3m 9s\n",
      "300:\ttest: 0.7264855\tbest: 0.7280705 (154)\ttotal: 28.1s\tremaining: 2m 35s\n"
     ]
    },
    {
     "name": "stderr",
     "output_type": "stream",
     "text": [
      "[I 2025-02-20 05:04:13,034] Trial 17 finished with value: 0.7280704671245724 and parameters: {'iterations': 1962, 'depth': 6, 'learning_rate': 0.04946052323896861, 'l2_leaf_reg': 0.002505715498731341}. Best is trial 12 with value: 0.7284520891451887.\n"
     ]
    },
    {
     "name": "stdout",
     "output_type": "stream",
     "text": [
      "Stopped by overfitting detector  (300 iterations wait)\n",
      "\n",
      "bestTest = 0.7280704671\n",
      "bestIteration = 154\n",
      "\n",
      "Shrink model to first 155 iterations.\n",
      "0:\ttest: 0.7103010\tbest: 0.7103010 (0)\ttotal: 99.9ms\tremaining: 3m 19s\n",
      "300:\ttest: 0.7271696\tbest: 0.7273825 (204)\ttotal: 27.6s\tremaining: 2m 35s\n"
     ]
    },
    {
     "name": "stderr",
     "output_type": "stream",
     "text": [
      "[I 2025-02-20 05:05:00,105] Trial 18 finished with value: 0.7273825269697033 and parameters: {'iterations': 1994, 'depth': 6, 'learning_rate': 0.02785602518935477, 'l2_leaf_reg': 0.000461179228954139}. Best is trial 12 with value: 0.7284520891451887.\n"
     ]
    },
    {
     "name": "stdout",
     "output_type": "stream",
     "text": [
      "Stopped by overfitting detector  (300 iterations wait)\n",
      "\n",
      "bestTest = 0.727382527\n",
      "bestIteration = 204\n",
      "\n",
      "Shrink model to first 205 iterations.\n",
      "0:\ttest: 0.7106799\tbest: 0.7106799 (0)\ttotal: 81.6ms\tremaining: 4m 1s\n",
      "300:\ttest: 0.7260967\tbest: 0.7281053 (102)\ttotal: 24.4s\tremaining: 3m 36s\n"
     ]
    },
    {
     "name": "stderr",
     "output_type": "stream",
     "text": [
      "[I 2025-02-20 05:05:33,131] Trial 19 finished with value: 0.7281053235638519 and parameters: {'iterations': 2966, 'depth': 5, 'learning_rate': 0.08614192101110421, 'l2_leaf_reg': 0.06983212198207472}. Best is trial 12 with value: 0.7284520891451887.\n",
      "[I 2025-02-20 05:05:33,132] A new study created in memory with name: no-name-fef15b1f-b9d9-4151-a7db-174ff4ca6a9c\n"
     ]
    },
    {
     "name": "stdout",
     "output_type": "stream",
     "text": [
      "Stopped by overfitting detector  (300 iterations wait)\n",
      "\n",
      "bestTest = 0.7281053236\n",
      "bestIteration = 102\n",
      "\n",
      "Shrink model to first 103 iterations.\n"
     ]
    },
    {
     "name": "stderr",
     "output_type": "stream",
     "text": [
      "[I 2025-02-20 05:05:56,715] Trial 0 finished with value: 0.724465692638984 and parameters: {'objective': 'binary', 'metric': 'auc', 'random_state': 42, 'verbose': -1, 'learning_rate': 0.015355286838886862, 'n_estimators': 1907, 'min_child_samples': 40, 'subsample': 0.8, 'colsample_bytree': 0.5}. Best is trial 0 with value: 0.724465692638984.\n",
      "[I 2025-02-20 05:05:59,116] Trial 1 finished with value: 0.7261075190827291 and parameters: {'objective': 'binary', 'metric': 'auc', 'random_state': 42, 'verbose': -1, 'learning_rate': 0.00797854234707418, 'n_estimators': 210, 'min_child_samples': 45, 'subsample': 0.8, 'colsample_bytree': 0.9}. Best is trial 1 with value: 0.7261075190827291.\n",
      "[I 2025-02-20 05:06:21,282] Trial 2 finished with value: 0.7262869832856504 and parameters: {'objective': 'binary', 'metric': 'auc', 'random_state': 42, 'verbose': -1, 'learning_rate': 0.005318033256270142, 'n_estimators': 1943, 'min_child_samples': 45, 'subsample': 0.6, 'colsample_bytree': 0.6}. Best is trial 2 with value: 0.7262869832856504.\n",
      "[I 2025-02-20 05:06:29,210] Trial 3 finished with value: 0.7276526981266535 and parameters: {'objective': 'binary', 'metric': 'auc', 'random_state': 42, 'verbose': -1, 'learning_rate': 0.008661333735273127, 'n_estimators': 678, 'min_child_samples': 30, 'subsample': 0.7, 'colsample_bytree': 0.6}. Best is trial 3 with value: 0.7276526981266535.\n",
      "[I 2025-02-20 05:06:33,163] Trial 4 finished with value: 0.72585536383658 and parameters: {'objective': 'binary', 'metric': 'auc', 'random_state': 42, 'verbose': -1, 'learning_rate': 0.03126143958203108, 'n_estimators': 365, 'min_child_samples': 20, 'subsample': 0.7, 'colsample_bytree': 0.7}. Best is trial 3 with value: 0.7276526981266535.\n",
      "[I 2025-02-20 05:06:39,346] Trial 5 finished with value: 0.7239103880257894 and parameters: {'objective': 'binary', 'metric': 'auc', 'random_state': 42, 'verbose': -1, 'learning_rate': 0.05254210669345883, 'n_estimators': 479, 'min_child_samples': 30, 'subsample': 0.8, 'colsample_bytree': 0.5}. Best is trial 3 with value: 0.7276526981266535.\n",
      "[I 2025-02-20 05:06:43,794] Trial 6 finished with value: 0.7251971378233298 and parameters: {'objective': 'binary', 'metric': 'auc', 'random_state': 42, 'verbose': -1, 'learning_rate': 0.030860579740535368, 'n_estimators': 424, 'min_child_samples': 10, 'subsample': 1.0, 'colsample_bytree': 1.0}. Best is trial 3 with value: 0.7276526981266535.\n",
      "[I 2025-02-20 05:06:50,162] Trial 7 finished with value: 0.7232783936869389 and parameters: {'objective': 'binary', 'metric': 'auc', 'random_state': 42, 'verbose': -1, 'learning_rate': 0.05632733481673016, 'n_estimators': 679, 'min_child_samples': 10, 'subsample': 0.9, 'colsample_bytree': 0.7}. Best is trial 3 with value: 0.7276526981266535.\n",
      "[I 2025-02-20 05:07:02,261] Trial 8 finished with value: 0.7270418368442904 and parameters: {'objective': 'binary', 'metric': 'auc', 'random_state': 42, 'verbose': -1, 'learning_rate': 0.007206848764305203, 'n_estimators': 1041, 'min_child_samples': 10, 'subsample': 1.0, 'colsample_bytree': 0.6}. Best is trial 3 with value: 0.7276526981266535.\n",
      "[I 2025-02-20 05:07:09,849] Trial 9 finished with value: 0.7247604952031853 and parameters: {'objective': 'binary', 'metric': 'auc', 'random_state': 42, 'verbose': -1, 'learning_rate': 0.036385753170854684, 'n_estimators': 692, 'min_child_samples': 30, 'subsample': 0.8, 'colsample_bytree': 0.6}. Best is trial 3 with value: 0.7276526981266535.\n",
      "[I 2025-02-20 05:07:23,520] Trial 10 finished with value: 0.7247011264832411 and parameters: {'objective': 'binary', 'metric': 'auc', 'random_state': 42, 'verbose': -1, 'learning_rate': 0.01491283465543688, 'n_estimators': 1430, 'min_child_samples': 20, 'subsample': 0.5, 'colsample_bytree': 0.8}. Best is trial 3 with value: 0.7276526981266535.\n",
      "[I 2025-02-20 05:07:36,437] Trial 11 finished with value: 0.7261540975781438 and parameters: {'objective': 'binary', 'metric': 'auc', 'random_state': 42, 'verbose': -1, 'learning_rate': 0.0094774130099128, 'n_estimators': 1104, 'min_child_samples': 20, 'subsample': 1.0, 'colsample_bytree': 0.6}. Best is trial 3 with value: 0.7276526981266535.\n",
      "[I 2025-02-20 05:07:48,265] Trial 12 finished with value: 0.727466300756384 and parameters: {'objective': 'binary', 'metric': 'auc', 'random_state': 42, 'verbose': -1, 'learning_rate': 0.005192914099575244, 'n_estimators': 1145, 'min_child_samples': 35, 'subsample': 0.6, 'colsample_bytree': 0.8}. Best is trial 3 with value: 0.7276526981266535.\n",
      "[I 2025-02-20 05:07:59,999] Trial 13 finished with value: 0.7275050804312535 and parameters: {'objective': 'binary', 'metric': 'auc', 'random_state': 42, 'verbose': -1, 'learning_rate': 0.005166500584930204, 'n_estimators': 1139, 'min_child_samples': 35, 'subsample': 0.6, 'colsample_bytree': 0.8}. Best is trial 3 with value: 0.7276526981266535.\n",
      "[I 2025-02-20 05:08:14,226] Trial 14 finished with value: 0.7246234162398255 and parameters: {'objective': 'binary', 'metric': 'auc', 'random_state': 42, 'verbose': -1, 'learning_rate': 0.013078263429628966, 'n_estimators': 1484, 'min_child_samples': 35, 'subsample': 0.6, 'colsample_bytree': 0.9}. Best is trial 3 with value: 0.7276526981266535.\n",
      "[I 2025-02-20 05:08:21,428] Trial 15 finished with value: 0.7208269035419955 and parameters: {'objective': 'binary', 'metric': 'auc', 'random_state': 42, 'verbose': -1, 'learning_rate': 0.0902334606102013, 'n_estimators': 807, 'min_child_samples': 50, 'subsample': 0.5, 'colsample_bytree': 0.7}. Best is trial 3 with value: 0.7276526981266535.\n",
      "[I 2025-02-20 05:08:35,146] Trial 16 finished with value: 0.725208208654124 and parameters: {'objective': 'binary', 'metric': 'auc', 'random_state': 42, 'verbose': -1, 'learning_rate': 0.010494220678162521, 'n_estimators': 1382, 'min_child_samples': 25, 'subsample': 0.7, 'colsample_bytree': 0.9}. Best is trial 3 with value: 0.7276526981266535.\n",
      "[I 2025-02-20 05:08:44,720] Trial 17 finished with value: 0.72496328439179 and parameters: {'objective': 'binary', 'metric': 'auc', 'random_state': 42, 'verbose': -1, 'learning_rate': 0.019919183876440906, 'n_estimators': 983, 'min_child_samples': 35, 'subsample': 0.7, 'colsample_bytree': 0.8}. Best is trial 3 with value: 0.7276526981266535.\n",
      "[I 2025-02-20 05:09:06,738] Trial 18 finished with value: 0.7262379229863454 and parameters: {'objective': 'binary', 'metric': 'auc', 'random_state': 42, 'verbose': -1, 'learning_rate': 0.006254016440522753, 'n_estimators': 1688, 'min_child_samples': 30, 'subsample': 0.6, 'colsample_bytree': 0.5}. Best is trial 3 with value: 0.7276526981266535.\n",
      "[I 2025-02-20 05:09:15,556] Trial 19 finished with value: 0.7261452544145216 and parameters: {'objective': 'binary', 'metric': 'auc', 'random_state': 42, 'verbose': -1, 'learning_rate': 0.010269612593850728, 'n_estimators': 851, 'min_child_samples': 25, 'subsample': 0.5, 'colsample_bytree': 1.0}. Best is trial 3 with value: 0.7276526981266535.\n"
     ]
    },
    {
     "name": "stdout",
     "output_type": "stream",
     "text": [
      "Cat val score : 0.7284520891451887\n",
      "LGBM val score : 0.7276526981266535\n",
      "Ensemble val score : 0.7288664272974095\n",
      "==================================================\n"
     ]
    },
    {
     "name": "stderr",
     "output_type": "stream",
     "text": [
      "[I 2025-02-20 05:11:54,909] A new study created in memory with name: no-name-12a738c5-c972-44af-b429-b10e6889b7e8\n"
     ]
    },
    {
     "name": "stdout",
     "output_type": "stream",
     "text": [
      "After SMOTENC:\n",
      "[171111 171111]\n",
      "X_train shape: (342222, 66)\n",
      "y_train shape: (342222,)\n",
      "0:\ttest: 0.7229823\tbest: 0.7229823 (0)\ttotal: 188ms\tremaining: 5m 29s\n",
      "300:\ttest: 0.7194440\tbest: 0.7245497 (33)\ttotal: 55.9s\tremaining: 4m 28s\n"
     ]
    },
    {
     "name": "stderr",
     "output_type": "stream",
     "text": [
      "[I 2025-02-20 05:12:57,574] Trial 0 finished with value: 0.7245497404168141 and parameters: {'iterations': 1749, 'depth': 10, 'learning_rate': 0.07453942447208349, 'l2_leaf_reg': 0.39079671568228835}. Best is trial 0 with value: 0.7245497404168141.\n"
     ]
    },
    {
     "name": "stdout",
     "output_type": "stream",
     "text": [
      "Stopped by overfitting detector  (300 iterations wait)\n",
      "\n",
      "bestTest = 0.7245497404\n",
      "bestIteration = 33\n",
      "\n",
      "Shrink model to first 34 iterations.\n",
      "저장 완료\n",
      "0:\ttest: 0.7142090\tbest: 0.7142090 (0)\ttotal: 82.4ms\tremaining: 1m 48s\n",
      "300:\ttest: 0.7228685\tbest: 0.7228685 (300)\ttotal: 22.6s\tremaining: 1m 15s\n",
      "600:\ttest: 0.7239008\tbest: 0.7239916 (516)\ttotal: 46.3s\tremaining: 54.8s\n"
     ]
    },
    {
     "name": "stderr",
     "output_type": "stream",
     "text": [
      "[I 2025-02-20 05:14:01,370] Trial 1 finished with value: 0.7239916005908551 and parameters: {'iterations': 1312, 'depth': 5, 'learning_rate': 0.010517943155978949, 'l2_leaf_reg': 15.741890047456648}. Best is trial 0 with value: 0.7245497404168141.\n"
     ]
    },
    {
     "name": "stdout",
     "output_type": "stream",
     "text": [
      "Stopped by overfitting detector  (300 iterations wait)\n",
      "\n",
      "bestTest = 0.7239916006\n",
      "bestIteration = 516\n",
      "\n",
      "Shrink model to first 517 iterations.\n",
      "0:\ttest: 0.7231500\tbest: 0.7231500 (0)\ttotal: 132ms\tremaining: 4m 50s\n",
      "300:\ttest: 0.7236453\tbest: 0.7246708 (6)\ttotal: 35.2s\tremaining: 3m 42s\n"
     ]
    },
    {
     "name": "stderr",
     "output_type": "stream",
     "text": [
      "[I 2025-02-20 05:14:37,481] Trial 2 finished with value: 0.7246707730289402 and parameters: {'iterations': 2202, 'depth': 8, 'learning_rate': 0.006955526958101232, 'l2_leaf_reg': 65.98711072054076}. Best is trial 2 with value: 0.7246707730289402.\n"
     ]
    },
    {
     "name": "stdout",
     "output_type": "stream",
     "text": [
      "Stopped by overfitting detector  (300 iterations wait)\n",
      "\n",
      "bestTest = 0.724670773\n",
      "bestIteration = 6\n",
      "\n",
      "Shrink model to first 7 iterations.\n",
      "저장 완료\n",
      "0:\ttest: 0.7141850\tbest: 0.7141850 (0)\ttotal: 92.1ms\tremaining: 4m 5s\n",
      "300:\ttest: 0.7242280\tbest: 0.7244160 (169)\ttotal: 23s\tremaining: 3m\n"
     ]
    },
    {
     "name": "stderr",
     "output_type": "stream",
     "text": [
      "[I 2025-02-20 05:15:14,018] Trial 3 finished with value: 0.7244159850852243 and parameters: {'iterations': 2665, 'depth': 5, 'learning_rate': 0.02227337188467456, 'l2_leaf_reg': 0.0012601639723276807}. Best is trial 2 with value: 0.7246707730289402.\n"
     ]
    },
    {
     "name": "stdout",
     "output_type": "stream",
     "text": [
      "Stopped by overfitting detector  (300 iterations wait)\n",
      "\n",
      "bestTest = 0.7244159851\n",
      "bestIteration = 169\n",
      "\n",
      "Shrink model to first 170 iterations.\n",
      "0:\ttest: 0.7188138\tbest: 0.7188138 (0)\ttotal: 110ms\tremaining: 2m 56s\n",
      "300:\ttest: 0.7220788\tbest: 0.7252216 (51)\ttotal: 33s\tremaining: 2m 23s\n"
     ]
    },
    {
     "name": "stderr",
     "output_type": "stream",
     "text": [
      "[I 2025-02-20 05:15:53,151] Trial 4 finished with value: 0.7252215945115872 and parameters: {'iterations': 1608, 'depth': 7, 'learning_rate': 0.046034776771001, 'l2_leaf_reg': 0.005589524205217926}. Best is trial 4 with value: 0.7252215945115872.\n"
     ]
    },
    {
     "name": "stdout",
     "output_type": "stream",
     "text": [
      "Stopped by overfitting detector  (300 iterations wait)\n",
      "\n",
      "bestTest = 0.7252215945\n",
      "bestIteration = 51\n",
      "\n",
      "Shrink model to first 52 iterations.\n",
      "저장 완료\n",
      "0:\ttest: 0.7110291\tbest: 0.7110291 (0)\ttotal: 68.4ms\tremaining: 2m 31s\n",
      "300:\ttest: 0.7234549\tbest: 0.7237573 (212)\ttotal: 18.7s\tremaining: 1m 59s\n"
     ]
    },
    {
     "name": "stderr",
     "output_type": "stream",
     "text": [
      "[I 2025-02-20 05:16:25,931] Trial 5 finished with value: 0.7237572666820822 and parameters: {'iterations': 2224, 'depth': 4, 'learning_rate': 0.032753741610845724, 'l2_leaf_reg': 0.01578232781079559}. Best is trial 4 with value: 0.7252215945115872.\n"
     ]
    },
    {
     "name": "stdout",
     "output_type": "stream",
     "text": [
      "Stopped by overfitting detector  (300 iterations wait)\n",
      "\n",
      "bestTest = 0.7237572667\n",
      "bestIteration = 212\n",
      "\n",
      "Shrink model to first 213 iterations.\n",
      "0:\ttest: 0.7229166\tbest: 0.7229166 (0)\ttotal: 155ms\tremaining: 4m 55s\n"
     ]
    },
    {
     "name": "stderr",
     "output_type": "stream",
     "text": [
      "[I 2025-02-20 05:17:08,736] Trial 6 finished with value: 0.7252472543783706 and parameters: {'iterations': 1912, 'depth': 9, 'learning_rate': 0.023969009305044177, 'l2_leaf_reg': 0.12173252504194051}. Best is trial 6 with value: 0.7252472543783706.\n"
     ]
    },
    {
     "name": "stdout",
     "output_type": "stream",
     "text": [
      "300:\ttest: 0.7227398\tbest: 0.7252473 (1)\ttotal: 42.5s\tremaining: 3m 47s\n",
      "Stopped by overfitting detector  (300 iterations wait)\n",
      "\n",
      "bestTest = 0.7252472544\n",
      "bestIteration = 1\n",
      "\n",
      "Shrink model to first 2 iterations.\n",
      "저장 완료\n",
      "0:\ttest: 0.7110291\tbest: 0.7110291 (0)\ttotal: 67.8ms\tremaining: 2m 28s\n",
      "300:\ttest: 0.7227968\tbest: 0.7238165 (183)\ttotal: 19.3s\tremaining: 2m\n"
     ]
    },
    {
     "name": "stderr",
     "output_type": "stream",
     "text": [
      "[I 2025-02-20 05:17:40,231] Trial 7 finished with value: 0.7238165361298707 and parameters: {'iterations': 2185, 'depth': 4, 'learning_rate': 0.06271676093063665, 'l2_leaf_reg': 0.0010547383621352044}. Best is trial 6 with value: 0.7252472543783706.\n"
     ]
    },
    {
     "name": "stdout",
     "output_type": "stream",
     "text": [
      "Stopped by overfitting detector  (300 iterations wait)\n",
      "\n",
      "bestTest = 0.7238165361\n",
      "bestIteration = 183\n",
      "\n",
      "Shrink model to first 184 iterations.\n",
      "0:\ttest: 0.7229815\tbest: 0.7229815 (0)\ttotal: 182ms\tremaining: 3m 25s\n",
      "300:\ttest: 0.7207619\tbest: 0.7243984 (19)\ttotal: 59.2s\tremaining: 2m 43s\n"
     ]
    },
    {
     "name": "stderr",
     "output_type": "stream",
     "text": [
      "[I 2025-02-20 05:18:43,692] Trial 8 finished with value: 0.7243983980301354 and parameters: {'iterations': 1130, 'depth': 10, 'learning_rate': 0.09673504314208314, 'l2_leaf_reg': 7.085721663941605}. Best is trial 6 with value: 0.7252472543783706.\n"
     ]
    },
    {
     "name": "stdout",
     "output_type": "stream",
     "text": [
      "Stopped by overfitting detector  (300 iterations wait)\n",
      "\n",
      "bestTest = 0.724398398\n",
      "bestIteration = 19\n",
      "\n",
      "Shrink model to first 20 iterations.\n",
      "0:\ttest: 0.7110291\tbest: 0.7110291 (0)\ttotal: 69ms\tremaining: 1m 50s\n",
      "300:\ttest: 0.7221107\tbest: 0.7235161 (59)\ttotal: 19.2s\tremaining: 1m 23s\n"
     ]
    },
    {
     "name": "stderr",
     "output_type": "stream",
     "text": [
      "[I 2025-02-20 05:19:06,857] Trial 9 finished with value: 0.7235160790236855 and parameters: {'iterations': 1609, 'depth': 4, 'learning_rate': 0.07000213751865492, 'l2_leaf_reg': 0.04374364439939081}. Best is trial 6 with value: 0.7252472543783706.\n"
     ]
    },
    {
     "name": "stdout",
     "output_type": "stream",
     "text": [
      "Stopped by overfitting detector  (300 iterations wait)\n",
      "\n",
      "bestTest = 0.723516079\n",
      "bestIteration = 59\n",
      "\n",
      "Shrink model to first 60 iterations.\n",
      "0:\ttest: 0.7231174\tbest: 0.7231174 (0)\ttotal: 130ms\tremaining: 6m 15s\n",
      "300:\ttest: 0.7220953\tbest: 0.7251295 (51)\ttotal: 36.7s\tremaining: 5m 15s\n"
     ]
    },
    {
     "name": "stderr",
     "output_type": "stream",
     "text": [
      "[I 2025-02-20 05:19:50,283] Trial 10 finished with value: 0.7251294699511762 and parameters: {'iterations': 2891, 'depth': 8, 'learning_rate': 0.04002923340850424, 'l2_leaf_reg': 0.6899047876209637}. Best is trial 6 with value: 0.7252472543783706.\n"
     ]
    },
    {
     "name": "stdout",
     "output_type": "stream",
     "text": [
      "Stopped by overfitting detector  (300 iterations wait)\n",
      "\n",
      "bestTest = 0.72512947\n",
      "bestIteration = 51\n",
      "\n",
      "Shrink model to first 52 iterations.\n",
      "0:\ttest: 0.7188138\tbest: 0.7188138 (0)\ttotal: 110ms\tremaining: 3m 11s\n",
      "300:\ttest: 0.7222223\tbest: 0.7251266 (65)\ttotal: 31.9s\tremaining: 2m 32s\n"
     ]
    },
    {
     "name": "stderr",
     "output_type": "stream",
     "text": [
      "[I 2025-02-20 05:20:29,715] Trial 11 finished with value: 0.7251266069422082 and parameters: {'iterations': 1745, 'depth': 7, 'learning_rate': 0.045161375876850055, 'l2_leaf_reg': 0.0001297881666589654}. Best is trial 6 with value: 0.7252472543783706.\n"
     ]
    },
    {
     "name": "stdout",
     "output_type": "stream",
     "text": [
      "Stopped by overfitting detector  (300 iterations wait)\n",
      "\n",
      "bestTest = 0.7251266069\n",
      "bestIteration = 65\n",
      "\n",
      "Shrink model to first 66 iterations.\n",
      "0:\ttest: 0.7188138\tbest: 0.7188138 (0)\ttotal: 110ms\tremaining: 2m 42s\n",
      "300:\ttest: 0.7231891\tbest: 0.7251128 (101)\ttotal: 31.4s\tremaining: 2m 2s\n"
     ]
    },
    {
     "name": "stderr",
     "output_type": "stream",
     "text": [
      "[I 2025-02-20 05:21:11,960] Trial 12 finished with value: 0.7251128359087813 and parameters: {'iterations': 1474, 'depth': 7, 'learning_rate': 0.02883288273796334, 'l2_leaf_reg': 0.010471988472070086}. Best is trial 6 with value: 0.7252472543783706.\n"
     ]
    },
    {
     "name": "stdout",
     "output_type": "stream",
     "text": [
      "Stopped by overfitting detector  (300 iterations wait)\n",
      "\n",
      "bestTest = 0.7251128359\n",
      "bestIteration = 101\n",
      "\n",
      "Shrink model to first 102 iterations.\n",
      "0:\ttest: 0.7229324\tbest: 0.7229324 (0)\ttotal: 151ms\tremaining: 4m 50s\n",
      "300:\ttest: 0.7218300\tbest: 0.7258304 (53)\ttotal: 42.9s\tremaining: 3m 51s\n"
     ]
    },
    {
     "name": "stderr",
     "output_type": "stream",
     "text": [
      "[I 2025-02-20 05:22:02,733] Trial 13 finished with value: 0.7258303591660237 and parameters: {'iterations': 1928, 'depth': 9, 'learning_rate': 0.052406287975782825, 'l2_leaf_reg': 0.3237477333828848}. Best is trial 13 with value: 0.7258303591660237.\n"
     ]
    },
    {
     "name": "stdout",
     "output_type": "stream",
     "text": [
      "Stopped by overfitting detector  (300 iterations wait)\n",
      "\n",
      "bestTest = 0.7258303592\n",
      "bestIteration = 53\n",
      "\n",
      "Shrink model to first 54 iterations.\n",
      "저장 완료\n",
      "0:\ttest: 0.7229291\tbest: 0.7229291 (0)\ttotal: 148ms\tremaining: 4m 49s\n",
      "300:\ttest: 0.7210209\tbest: 0.7251171 (35)\ttotal: 44.6s\tremaining: 4m 5s\n"
     ]
    },
    {
     "name": "stderr",
     "output_type": "stream",
     "text": [
      "[I 2025-02-20 05:22:52,663] Trial 14 finished with value: 0.7251171324076764 and parameters: {'iterations': 1960, 'depth': 9, 'learning_rate': 0.05829724010680851, 'l2_leaf_reg': 0.2739360164524654}. Best is trial 13 with value: 0.7258303591660237.\n"
     ]
    },
    {
     "name": "stdout",
     "output_type": "stream",
     "text": [
      "Stopped by overfitting detector  (300 iterations wait)\n",
      "\n",
      "bestTest = 0.7251171324\n",
      "bestIteration = 35\n",
      "\n",
      "Shrink model to first 36 iterations.\n",
      "0:\ttest: 0.7229316\tbest: 0.7229316 (0)\ttotal: 148ms\tremaining: 6m 7s\n",
      "300:\ttest: 0.7206553\tbest: 0.7242360 (40)\ttotal: 43.7s\tremaining: 5m 15s\n"
     ]
    },
    {
     "name": "stderr",
     "output_type": "stream",
     "text": [
      "[I 2025-02-20 05:23:42,690] Trial 15 finished with value: 0.7242360364341835 and parameters: {'iterations': 2475, 'depth': 9, 'learning_rate': 0.0810960377506745, 'l2_leaf_reg': 2.4220818077372535}. Best is trial 13 with value: 0.7258303591660237.\n"
     ]
    },
    {
     "name": "stdout",
     "output_type": "stream",
     "text": [
      "Stopped by overfitting detector  (300 iterations wait)\n",
      "\n",
      "bestTest = 0.7242360364\n",
      "bestIteration = 40\n",
      "\n",
      "Shrink model to first 41 iterations.\n",
      "0:\ttest: 0.7229118\tbest: 0.7229118 (0)\ttotal: 150ms\tremaining: 5m 5s\n",
      "300:\ttest: 0.7234607\tbest: 0.7261065 (3)\ttotal: 40.4s\tremaining: 3m 53s\n"
     ]
    },
    {
     "name": "stderr",
     "output_type": "stream",
     "text": [
      "[I 2025-02-20 05:24:23,662] Trial 16 finished with value: 0.7261064866523107 and parameters: {'iterations': 2037, 'depth': 9, 'learning_rate': 0.019233109072932478, 'l2_leaf_reg': 0.09763576663580985}. Best is trial 16 with value: 0.7261064866523107.\n"
     ]
    },
    {
     "name": "stdout",
     "output_type": "stream",
     "text": [
      "Stopped by overfitting detector  (300 iterations wait)\n",
      "\n",
      "bestTest = 0.7261064867\n",
      "bestIteration = 3\n",
      "\n",
      "Shrink model to first 4 iterations.\n",
      "저장 완료\n",
      "0:\ttest: 0.7231175\tbest: 0.7231175 (0)\ttotal: 124ms\tremaining: 4m 56s\n",
      "300:\ttest: 0.7217430\tbest: 0.7251010 (38)\ttotal: 38.9s\tremaining: 4m 28s\n"
     ]
    },
    {
     "name": "stderr",
     "output_type": "stream",
     "text": [
      "[I 2025-02-20 05:25:07,859] Trial 17 finished with value: 0.7251009550171973 and parameters: {'iterations': 2385, 'depth': 8, 'learning_rate': 0.08781179458317345, 'l2_leaf_reg': 1.574762894446438}. Best is trial 16 with value: 0.7261064866523107.\n"
     ]
    },
    {
     "name": "stdout",
     "output_type": "stream",
     "text": [
      "Stopped by overfitting detector  (300 iterations wait)\n",
      "\n",
      "bestTest = 0.725100955\n",
      "bestIteration = 38\n",
      "\n",
      "Shrink model to first 39 iterations.\n",
      "0:\ttest: 0.7229619\tbest: 0.7229619 (0)\ttotal: 181ms\tremaining: 6m 1s\n",
      "300:\ttest: 0.7234256\tbest: 0.7248271 (136)\ttotal: 51.9s\tremaining: 4m 52s\n"
     ]
    },
    {
     "name": "stderr",
     "output_type": "stream",
     "text": [
      "[I 2025-02-20 05:26:24,603] Trial 18 finished with value: 0.7248271465284655 and parameters: {'iterations': 1994, 'depth': 10, 'learning_rate': 0.01684189652178941, 'l2_leaf_reg': 0.05931759412978134}. Best is trial 16 with value: 0.7261064866523107.\n"
     ]
    },
    {
     "name": "stdout",
     "output_type": "stream",
     "text": [
      "Stopped by overfitting detector  (300 iterations wait)\n",
      "\n",
      "bestTest = 0.7248271465\n",
      "bestIteration = 136\n",
      "\n",
      "Shrink model to first 137 iterations.\n",
      "0:\ttest: 0.7143635\tbest: 0.7143635 (0)\ttotal: 94.9ms\tremaining: 1m 37s\n",
      "300:\ttest: 0.7223444\tbest: 0.7252822 (64)\ttotal: 27.9s\tremaining: 1m 7s\n"
     ]
    },
    {
     "name": "stderr",
     "output_type": "stream",
     "text": [
      "[I 2025-02-20 05:26:58,775] Trial 19 finished with value: 0.7252821703809436 and parameters: {'iterations': 1026, 'depth': 6, 'learning_rate': 0.05561925968346934, 'l2_leaf_reg': 0.1535278004080894}. Best is trial 16 with value: 0.7261064866523107.\n",
      "[I 2025-02-20 05:26:58,776] A new study created in memory with name: no-name-cce5aefe-408d-4395-9d64-fa99fb033597\n"
     ]
    },
    {
     "name": "stdout",
     "output_type": "stream",
     "text": [
      "Stopped by overfitting detector  (300 iterations wait)\n",
      "\n",
      "bestTest = 0.7252821704\n",
      "bestIteration = 64\n",
      "\n",
      "Shrink model to first 65 iterations.\n"
     ]
    },
    {
     "name": "stderr",
     "output_type": "stream",
     "text": [
      "[I 2025-02-20 05:27:21,931] Trial 0 finished with value: 0.7201140222507498 and parameters: {'objective': 'binary', 'metric': 'auc', 'random_state': 42, 'verbose': -1, 'learning_rate': 0.015355286838886862, 'n_estimators': 1907, 'min_child_samples': 40, 'subsample': 0.8, 'colsample_bytree': 0.5}. Best is trial 0 with value: 0.7201140222507498.\n",
      "[I 2025-02-20 05:27:24,320] Trial 1 finished with value: 0.7249806609899089 and parameters: {'objective': 'binary', 'metric': 'auc', 'random_state': 42, 'verbose': -1, 'learning_rate': 0.00797854234707418, 'n_estimators': 210, 'min_child_samples': 45, 'subsample': 0.8, 'colsample_bytree': 0.9}. Best is trial 1 with value: 0.7249806609899089.\n",
      "[I 2025-02-20 05:27:46,338] Trial 2 finished with value: 0.7220706089328611 and parameters: {'objective': 'binary', 'metric': 'auc', 'random_state': 42, 'verbose': -1, 'learning_rate': 0.005318033256270142, 'n_estimators': 1943, 'min_child_samples': 45, 'subsample': 0.6, 'colsample_bytree': 0.6}. Best is trial 1 with value: 0.7249806609899089.\n",
      "[I 2025-02-20 05:27:54,228] Trial 3 finished with value: 0.7236939866392068 and parameters: {'objective': 'binary', 'metric': 'auc', 'random_state': 42, 'verbose': -1, 'learning_rate': 0.008661333735273127, 'n_estimators': 678, 'min_child_samples': 30, 'subsample': 0.7, 'colsample_bytree': 0.6}. Best is trial 1 with value: 0.7249806609899089.\n",
      "[I 2025-02-20 05:27:58,179] Trial 4 finished with value: 0.7218591235034246 and parameters: {'objective': 'binary', 'metric': 'auc', 'random_state': 42, 'verbose': -1, 'learning_rate': 0.03126143958203108, 'n_estimators': 365, 'min_child_samples': 20, 'subsample': 0.7, 'colsample_bytree': 0.7}. Best is trial 1 with value: 0.7249806609899089.\n",
      "[I 2025-02-20 05:28:04,267] Trial 5 finished with value: 0.7201675061173091 and parameters: {'objective': 'binary', 'metric': 'auc', 'random_state': 42, 'verbose': -1, 'learning_rate': 0.05254210669345883, 'n_estimators': 479, 'min_child_samples': 30, 'subsample': 0.8, 'colsample_bytree': 0.5}. Best is trial 1 with value: 0.7249806609899089.\n",
      "[I 2025-02-20 05:28:08,690] Trial 6 finished with value: 0.7215478735284809 and parameters: {'objective': 'binary', 'metric': 'auc', 'random_state': 42, 'verbose': -1, 'learning_rate': 0.030860579740535368, 'n_estimators': 424, 'min_child_samples': 10, 'subsample': 1.0, 'colsample_bytree': 1.0}. Best is trial 1 with value: 0.7249806609899089.\n",
      "[I 2025-02-20 05:28:15,121] Trial 7 finished with value: 0.7192474398664079 and parameters: {'objective': 'binary', 'metric': 'auc', 'random_state': 42, 'verbose': -1, 'learning_rate': 0.05632733481673016, 'n_estimators': 679, 'min_child_samples': 10, 'subsample': 0.9, 'colsample_bytree': 0.7}. Best is trial 1 with value: 0.7249806609899089.\n",
      "[I 2025-02-20 05:28:27,104] Trial 8 finished with value: 0.7233932753963032 and parameters: {'objective': 'binary', 'metric': 'auc', 'random_state': 42, 'verbose': -1, 'learning_rate': 0.007206848764305203, 'n_estimators': 1041, 'min_child_samples': 10, 'subsample': 1.0, 'colsample_bytree': 0.6}. Best is trial 1 with value: 0.7249806609899089.\n",
      "[I 2025-02-20 05:28:34,635] Trial 9 finished with value: 0.7209712412853739 and parameters: {'objective': 'binary', 'metric': 'auc', 'random_state': 42, 'verbose': -1, 'learning_rate': 0.036385753170854684, 'n_estimators': 692, 'min_child_samples': 30, 'subsample': 0.8, 'colsample_bytree': 0.6}. Best is trial 1 with value: 0.7249806609899089.\n",
      "[I 2025-02-20 05:28:36,033] Trial 10 finished with value: 0.7242805183016716 and parameters: {'objective': 'binary', 'metric': 'auc', 'random_state': 42, 'verbose': -1, 'learning_rate': 0.014579928528334861, 'n_estimators': 111, 'min_child_samples': 50, 'subsample': 0.5, 'colsample_bytree': 1.0}. Best is trial 1 with value: 0.7249806609899089.\n",
      "[I 2025-02-20 05:28:37,607] Trial 11 finished with value: 0.7245075457797914 and parameters: {'objective': 'binary', 'metric': 'auc', 'random_state': 42, 'verbose': -1, 'learning_rate': 0.01426509269778552, 'n_estimators': 127, 'min_child_samples': 50, 'subsample': 0.5, 'colsample_bytree': 1.0}. Best is trial 1 with value: 0.7249806609899089.\n",
      "[I 2025-02-20 05:28:39,031] Trial 12 finished with value: 0.7252115481694389 and parameters: {'objective': 'binary', 'metric': 'auc', 'random_state': 42, 'verbose': -1, 'learning_rate': 0.012240096883321323, 'n_estimators': 116, 'min_child_samples': 40, 'subsample': 0.5, 'colsample_bytree': 0.9}. Best is trial 12 with value: 0.7252115481694389.\n",
      "[I 2025-02-20 05:28:52,980] Trial 13 finished with value: 0.7214997463874386 and parameters: {'objective': 'binary', 'metric': 'auc', 'random_state': 42, 'verbose': -1, 'learning_rate': 0.010263697175730098, 'n_estimators': 1411, 'min_child_samples': 40, 'subsample': 0.6, 'colsample_bytree': 0.9}. Best is trial 12 with value: 0.7252115481694389.\n",
      "[I 2025-02-20 05:29:03,531] Trial 14 finished with value: 0.7208008227612723 and parameters: {'objective': 'binary', 'metric': 'auc', 'random_state': 42, 'verbose': -1, 'learning_rate': 0.0199166143861953, 'n_estimators': 1103, 'min_child_samples': 40, 'subsample': 0.9, 'colsample_bytree': 0.9}. Best is trial 12 with value: 0.7252115481694389.\n",
      "[I 2025-02-20 05:29:04,866] Trial 15 finished with value: 0.7216988585353993 and parameters: {'objective': 'binary', 'metric': 'auc', 'random_state': 42, 'verbose': -1, 'learning_rate': 0.0902334606102013, 'n_estimators': 105, 'min_child_samples': 35, 'subsample': 0.6, 'colsample_bytree': 0.8}. Best is trial 12 with value: 0.7252115481694389.\n",
      "[I 2025-02-20 05:29:15,085] Trial 16 finished with value: 0.7240936881048037 and parameters: {'objective': 'binary', 'metric': 'auc', 'random_state': 42, 'verbose': -1, 'learning_rate': 0.005096808318118142, 'n_estimators': 985, 'min_child_samples': 45, 'subsample': 0.9, 'colsample_bytree': 0.9}. Best is trial 12 with value: 0.7252115481694389.\n",
      "[I 2025-02-20 05:29:29,747] Trial 17 finished with value: 0.7214139990703043 and parameters: {'objective': 'binary', 'metric': 'auc', 'random_state': 42, 'verbose': -1, 'learning_rate': 0.010433159641592873, 'n_estimators': 1487, 'min_child_samples': 20, 'subsample': 0.7, 'colsample_bytree': 0.8}. Best is trial 12 with value: 0.7252115481694389.\n",
      "[I 2025-02-20 05:29:33,821] Trial 18 finished with value: 0.7251385315135408 and parameters: {'objective': 'binary', 'metric': 'auc', 'random_state': 42, 'verbose': -1, 'learning_rate': 0.0073153406549506155, 'n_estimators': 378, 'min_child_samples': 45, 'subsample': 0.5, 'colsample_bytree': 0.9}. Best is trial 12 with value: 0.7252115481694389.\n",
      "[I 2025-02-20 05:29:39,139] Trial 19 finished with value: 0.7217308479948248 and parameters: {'objective': 'binary', 'metric': 'auc', 'random_state': 42, 'verbose': -1, 'learning_rate': 0.021192328504364748, 'n_estimators': 506, 'min_child_samples': 35, 'subsample': 0.5, 'colsample_bytree': 0.8}. Best is trial 12 with value: 0.7252115481694389.\n"
     ]
    },
    {
     "name": "stdout",
     "output_type": "stream",
     "text": [
      "Cat val score : 0.7261064866523106\n",
      "LGBM val score : 0.725211548169439\n",
      "Ensemble val score : 0.72628117784999\n"
     ]
    }
   ],
   "source": [
    "for col in X.columns:\n",
    "    if X[col].dtype == 'object':  # 문자형이면 category로 변환\n",
    "        X[col] = X[col].astype('category')\n",
    "        test[col] = test[col].astype('category')\n",
    "seed = 42\n",
    "\n",
    "test_pred_total = []\n",
    "scores_total = []\n",
    "seed_everything(seed)\n",
    "print('Seed {} Start!'.format(seed))\n",
    "cv = StratifiedKFold(n_splits = 10, random_state = seed, shuffle=True)\n",
    "\n",
    "cat_param_list = []\n",
    "lgbm_param_list = []\n",
    "for idx, (train_idx, val_idx) in enumerate(cv.split(X, y)):\n",
    "    print('='*50)\n",
    "    X_train, X_val = X.iloc[train_idx],X.iloc[val_idx]\n",
    "    y_train, y_val = y.iloc[train_idx], y.iloc[val_idx]\n",
    "\n",
    "    # SMOTENC 적용\n",
    "    cat_indices = [X.columns.get_loc(col) for col in categorical_columns]\n",
    "    \n",
    "    smote_nc = SMOTENC(categorical_features=cat_indices, random_state=42)\n",
    "    X_train_res, y_train_res = smote_nc.fit_resample(X_train, y_train)\n",
    "\n",
    "    # 모델 학습에 사용할 데이터를 SMOTENC 결과로 교체\n",
    "    X_train = X_train_res  \n",
    "    y_train = y_train_res  \n",
    "\n",
    "    print(\"After SMOTENC:\")\n",
    "    print(np.bincount(y_train))\n",
    "    print(\"X_train shape:\", X_train.shape)\n",
    "    print(\"y_train shape:\", y_train.shape)\n",
    "    \n",
    "    best_val_auc = 0\n",
    "\n",
    "    # ---------------- CatBoost Optuna 튜닝 ----------------\n",
    "    sampler = TPESampler(seed=seed)\n",
    "    optuna_cat = optuna.create_study(direction='maximize', sampler=sampler)\n",
    "    optuna_cat.optimize(objective_cat, n_trials = 20)\n",
    "    cat_trial = optuna_cat.best_trial\n",
    "    cat_trial_params = cat_trial.params\n",
    "    cat_param_list.append(cat_trial_params)\n",
    "    \n",
    "    cat_model_path = f\"./weight/cat_fold_cpu{idx}.cbm\"\n",
    "    model_cat = CatBoostClassifier(**cat_trial_params, auto_class_weights='Balanced', eval_metric='AUC', random_state=42, task_type=\"CPU\")\n",
    "    model_cat.load_model(cat_model_path)\n",
    "\n",
    "    # ---------------- LightGBM Optuna 튜닝 ----------------\n",
    "    sampler = TPESampler(seed=seed)\n",
    "    optuna_lgbm = optuna.create_study(direction='maximize', sampler=sampler)\n",
    "    optuna_lgbm.optimize(objective_lgbm, n_trials = 20)\n",
    "    lgbm_trial = optuna_lgbm.best_trial\n",
    "    lgbm_trial_params = lgbm_trial.params\n",
    "    lgbm_param_list.append(lgbm_trial_params)\n",
    "    # lgbm_trial_params =loaded_lgbm_params[idx]\n",
    "    #print(lgbm_trial_params)\n",
    "\n",
    "    class_weights = compute_class_weight(class_weight=\"balanced\", classes=np.unique(y), y=y_train)\n",
    "    class_weight_dict = {i: w for i, w in enumerate(class_weights)}\n",
    "\n",
    "    model_lgbm = lgb.LGBMClassifier(**lgbm_trial_params,class_weight=class_weight_dict)\n",
    "    #model_lgbm= lgb.LGBMClassifier(objective = 'binary', metric = 'auc', random_state =  seed, class_weight=class_weight_dict)\n",
    "    model_lgbm.fit(X_train, y_train, eval_set=[(X_val, y_val)],categorical_feature=categorical_columns)\n",
    "\n",
    "    val_pred_cat = model_cat.predict_proba(X_val)[:, 1]\n",
    "    val_pred_lgbm = model_lgbm.predict_proba(X_val)[:, 1]\n",
    "    print('Cat val score : {}'.format(roc_auc_score(y_val,val_pred_cat)))\n",
    "    print('LGBM val score : {}'.format(roc_auc_score(y_val,val_pred_lgbm)))\n",
    "\n",
    "    roc_val = roc_auc_score(y_val, (val_pred_cat+val_pred_lgbm)/2)\n",
    "    scores_total.append(roc_val)\n",
    "    print('Ensemble val score : {}'.format(roc_val))\n",
    "\n",
    "    test_pred_cat = model_cat.predict_proba(test)[:, 1]\n",
    "    test_pred_lgbm = model_lgbm.predict_proba(test)[:, 1]\n",
    "    test_pred_total.append((test_pred_cat+test_pred_lgbm)/2)"
   ]
  },
  {
   "cell_type": "code",
   "execution_count": 24,
   "metadata": {},
   "outputs": [],
   "source": [
    "with open(\"cat_cpu_params.json\", \"w\") as f:\n",
    "    json.dump(cat_param_list, f)\n",
    "with open(\"lgbm_params.json\", \"w\") as f:\n",
    "    json.dump(lgbm_param_list, f)  "
   ]
  },
  {
   "cell_type": "code",
   "execution_count": 25,
   "metadata": {},
   "outputs": [],
   "source": [
    "# with open(\"cat_params.json\", \"r\") as f:\n",
    "#     loaded_cat_params = json.load(f)\n",
    "with open(\"cat_cpu_params.json\", \"r\") as f:\n",
    "    loaded_cat_cpu_params = json.load(f)\n",
    "with open(\"lgbm_params.json\", \"r\") as f:\n",
    "    loaded_lgbm_params = json.load(f)"
   ]
  },
  {
   "cell_type": "code",
   "execution_count": 26,
   "metadata": {
    "colab": {
     "base_uri": "https://localhost:8080/"
    },
    "id": "LDLeh9IJD9pt",
    "outputId": "0534775f-2085-448a-d2aa-690a9e4e4ff4"
   },
   "outputs": [
    {
     "data": {
      "text/plain": [
       "(0.7264554108548524,\n",
       " [0.7301572088850831,\n",
       "  0.7181694762471807,\n",
       "  0.7258491634655924,\n",
       "  0.7323334080601176,\n",
       "  0.7269798592520966,\n",
       "  0.7245621136982898,\n",
       "  0.7216037836065233,\n",
       "  0.7297514901862405,\n",
       "  0.7288664272974095,\n",
       "  0.72628117784999])"
      ]
     },
     "execution_count": 26,
     "metadata": {},
     "output_type": "execute_result"
    }
   ],
   "source": [
    "np.mean(scores_total), scores_total"
   ]
  },
  {
   "cell_type": "markdown",
   "metadata": {},
   "source": [
    "#### 재현성 확인"
   ]
  },
  {
   "cell_type": "code",
   "execution_count": 27,
   "metadata": {
    "scrolled": true,
    "tags": []
   },
   "outputs": [
    {
     "name": "stdout",
     "output_type": "stream",
     "text": [
      "Seed 42 Start!\n",
      "==================================================\n",
      "0:\ttest: 0.7029733\tbest: 0.7029733 (0)\ttotal: 71.3ms\tremaining: 3m 26s\n",
      "300:\ttest: 0.7422321\tbest: 0.7427255 (182)\ttotal: 20.2s\tremaining: 2m 53s\n",
      "Stopped by overfitting detector  (300 iterations wait)\n",
      "\n",
      "bestTest = 0.742725459\n",
      "bestIteration = 182\n",
      "\n",
      "Shrink model to first 183 iterations.\n",
      "Cat val score : 0.7427254589723844\n",
      "Cat cpu val score : 0.7291077985620414\n",
      "LGBM val score : 0.7394648062147835\n",
      "Ensemble val score : 0.7412472829945203\n",
      "==================================================\n",
      "0:\ttest: 0.7109428\tbest: 0.7109428 (0)\ttotal: 69.8ms\tremaining: 1m 52s\n",
      "300:\ttest: 0.7315699\tbest: 0.7316028 (299)\ttotal: 22.2s\tremaining: 1m 36s\n",
      "600:\ttest: 0.7313225\tbest: 0.7317406 (356)\ttotal: 46.1s\tremaining: 1m 17s\n",
      "Stopped by overfitting detector  (300 iterations wait)\n",
      "\n",
      "bestTest = 0.7317406125\n",
      "bestIteration = 356\n",
      "\n",
      "Shrink model to first 357 iterations.\n",
      "Cat val score : 0.7317406124531971\n",
      "Cat cpu val score : 0.7165883917381363\n",
      "LGBM val score : 0.7269410541608634\n",
      "Ensemble val score : 0.729241265450273\n",
      "==================================================\n",
      "0:\ttest: 0.7182088\tbest: 0.7182088 (0)\ttotal: 56.8ms\tremaining: 2m 44s\n",
      "300:\ttest: 0.7380696\tbest: 0.7380696 (300)\ttotal: 18.2s\tremaining: 2m 36s\n",
      "600:\ttest: 0.7389566\tbest: 0.7389749 (599)\ttotal: 37.7s\tremaining: 2m 23s\n",
      "900:\ttest: 0.7386972\tbest: 0.7390924 (780)\ttotal: 57.8s\tremaining: 2m 7s\n",
      "Stopped by overfitting detector  (300 iterations wait)\n",
      "\n",
      "bestTest = 0.7390923794\n",
      "bestIteration = 780\n",
      "\n",
      "Shrink model to first 781 iterations.\n",
      "Cat val score : 0.7390923794165027\n",
      "Cat cpu val score : 0.7245403933912042\n",
      "LGBM val score : 0.7323648733687642\n",
      "Ensemble val score : 0.7364955693336275\n",
      "==================================================\n",
      "0:\ttest: 0.7297690\tbest: 0.7297690 (0)\ttotal: 96.2ms\tremaining: 2m 48s\n",
      "300:\ttest: 0.7444685\tbest: 0.7462746 (203)\ttotal: 37.7s\tremaining: 3m 1s\n",
      "Stopped by overfitting detector  (300 iterations wait)\n",
      "\n",
      "bestTest = 0.7462746416\n",
      "bestIteration = 203\n",
      "\n",
      "Shrink model to first 204 iterations.\n",
      "Cat val score : 0.7462746416124288\n",
      "Cat cpu val score : 0.7315494121674752\n",
      "LGBM val score : 0.7454019202379838\n",
      "Ensemble val score : 0.7452780007915722\n",
      "==================================================\n",
      "0:\ttest: 0.7232378\tbest: 0.7232378 (0)\ttotal: 65.2ms\tremaining: 1m 34s\n",
      "300:\ttest: 0.7423503\tbest: 0.7423522 (299)\ttotal: 20.4s\tremaining: 1m 17s\n",
      "600:\ttest: 0.7428818\tbest: 0.7429126 (598)\ttotal: 41.7s\tremaining: 58.8s\n",
      "900:\ttest: 0.7419530\tbest: 0.7429438 (616)\ttotal: 1m 4s\tremaining: 39.3s\n",
      "Stopped by overfitting detector  (300 iterations wait)\n",
      "\n",
      "bestTest = 0.7429437908\n",
      "bestIteration = 616\n",
      "\n",
      "Shrink model to first 617 iterations.\n",
      "Cat val score : 0.7429437907712728\n",
      "Cat cpu val score : 0.7259547987985306\n",
      "LGBM val score : 0.739542139028732\n",
      "Ensemble val score : 0.7402812917032399\n",
      "==================================================\n",
      "0:\ttest: 0.7165376\tbest: 0.7165376 (0)\ttotal: 74.5ms\tremaining: 3m 1s\n",
      "300:\ttest: 0.7375083\tbest: 0.7375400 (291)\ttotal: 24.9s\tremaining: 2m 57s\n",
      "Stopped by overfitting detector  (300 iterations wait)\n",
      "\n",
      "bestTest = 0.737540042\n",
      "bestIteration = 291\n",
      "\n",
      "Shrink model to first 292 iterations.\n",
      "Cat val score : 0.7375400420196003\n",
      "Cat cpu val score : 0.72481608761033\n",
      "LGBM val score : 0.7366104932923949\n",
      "Ensemble val score : 0.7363289217210938\n",
      "==================================================\n",
      "0:\ttest: 0.7088690\tbest: 0.7088690 (0)\ttotal: 54.6ms\tremaining: 57.3s\n",
      "300:\ttest: 0.7364827\tbest: 0.7364827 (300)\ttotal: 18.6s\tremaining: 46.2s\n",
      "600:\ttest: 0.7370768\tbest: 0.7370866 (591)\ttotal: 38.1s\tremaining: 28.5s\n",
      "900:\ttest: 0.7369924\tbest: 0.7371744 (669)\ttotal: 58s\tremaining: 9.6s\n",
      "Stopped by overfitting detector  (300 iterations wait)\n",
      "\n",
      "bestTest = 0.7371743869\n",
      "bestIteration = 669\n",
      "\n",
      "Shrink model to first 670 iterations.\n",
      "Cat val score : 0.7371743869324932\n",
      "Cat cpu val score : 0.7210271593051889\n",
      "LGBM val score : 0.7319243908954377\n",
      "Ensemble val score : 0.733963448913548\n",
      "==================================================\n",
      "0:\ttest: 0.7189583\tbest: 0.7189583 (0)\ttotal: 64.6ms\tremaining: 1m 26s\n",
      "300:\ttest: 0.7399143\tbest: 0.7399143 (300)\ttotal: 22s\tremaining: 1m 15s\n",
      "600:\ttest: 0.7391695\tbest: 0.7399582 (311)\ttotal: 45s\tremaining: 55.3s\n",
      "Stopped by overfitting detector  (300 iterations wait)\n",
      "\n",
      "bestTest = 0.7399582482\n",
      "bestIteration = 311\n",
      "\n",
      "Shrink model to first 312 iterations.\n",
      "Cat val score : 0.739958248196209\n",
      "Cat cpu val score : 0.7290953171211685\n",
      "LGBM val score : 0.7363062360480926\n",
      "Ensemble val score : 0.7393216277749068\n",
      "==================================================\n",
      "0:\ttest: 0.7188375\tbest: 0.7188375 (0)\ttotal: 62.5ms\tremaining: 2m 40s\n",
      "300:\ttest: 0.7401095\tbest: 0.7401325 (299)\ttotal: 21.1s\tremaining: 2m 38s\n",
      "600:\ttest: 0.7401851\tbest: 0.7404904 (506)\ttotal: 44s\tremaining: 2m 24s\n",
      "Stopped by overfitting detector  (300 iterations wait)\n",
      "\n",
      "bestTest = 0.7404903747\n",
      "bestIteration = 506\n",
      "\n",
      "Shrink model to first 507 iterations.\n",
      "Cat val score : 0.7404903747465106\n",
      "Cat cpu val score : 0.7284520891451887\n",
      "LGBM val score : 0.741068218109916\n",
      "Ensemble val score : 0.7400080907601004\n",
      "==================================================\n",
      "0:\ttest: 0.7218804\tbest: 0.7218804 (0)\ttotal: 81.3ms\tremaining: 2m 45s\n",
      "300:\ttest: 0.7395059\tbest: 0.7395160 (299)\ttotal: 26.4s\tremaining: 2m 32s\n",
      "600:\ttest: 0.7402336\tbest: 0.7402441 (597)\ttotal: 52.8s\tremaining: 2m 6s\n",
      "900:\ttest: 0.7398059\tbest: 0.7403112 (652)\ttotal: 1m 22s\tremaining: 1m 44s\n",
      "Stopped by overfitting detector  (300 iterations wait)\n",
      "\n",
      "bestTest = 0.7403111528\n",
      "bestIteration = 652\n",
      "\n",
      "Shrink model to first 653 iterations.\n",
      "Cat val score : 0.7403111527676489\n",
      "Cat cpu val score : 0.7261064866523106\n",
      "LGBM val score : 0.735652052397019\n",
      "Ensemble val score : 0.7395217485279687\n"
     ]
    }
   ],
   "source": [
    "for col in X.columns:\n",
    "    if X[col].dtype == 'object':  # 문자형이면 category로 변환\n",
    "        X[col] = X[col].astype('category')\n",
    "        test[col] = test[col].astype('category')\n",
    "seed = 42\n",
    "\n",
    "test_pred_total = []\n",
    "scores_total = []\n",
    "seed_everything(seed)\n",
    "print('Seed {} Start!'.format(seed))\n",
    "cv = StratifiedKFold(n_splits = 10, random_state = seed, shuffle=True)\n",
    "\n",
    "cat_param_list = []\n",
    "lgbm_param_list = []\n",
    "for idx, (train_idx, val_idx) in enumerate(cv.split(X, y)):\n",
    "    print('='*50)\n",
    "    X_train, X_val = X.iloc[train_idx],X.iloc[val_idx]\n",
    "    y_train, y_val = y.iloc[train_idx], y.iloc[val_idx]\n",
    "\n",
    "    cat_trial_params = loaded_cat_cpu_params[idx]\n",
    "    model_cat = CatBoostClassifier(**cat_trial_params ,auto_class_weights='Balanced', eval_metric='AUC', random_state=seed, task_type=\"CPU\")\n",
    "    model_cat.fit(X_train,y_train,cat_features=categorical_columns, early_stopping_rounds = 300, eval_set=[(X_val,y_val)], verbose = 300)\n",
    "    \n",
    "    model_cat_cpu = CatBoostClassifier()\n",
    "    model_cat_cpu.load_model(\"./weight/cat_fold_cpu{}.cbm\".format(idx))\n",
    "\n",
    "    lgbm_trial_params = loaded_lgbm_params[idx]\n",
    "    class_weights = compute_class_weight(class_weight=\"balanced\", classes=np.unique(y), y=y_train)\n",
    "    class_weight_dict = {i: w for i, w in enumerate(class_weights)}\n",
    "\n",
    "    model_lgbm = lgb.LGBMClassifier(**lgbm_trial_params,class_weight=class_weight_dict)\n",
    "    model_lgbm.fit(X_train, y_train, eval_set=[(X_val, y_val)],categorical_feature=categorical_columns)\n",
    "\n",
    "    val_pred = model_cat.predict_proba(X_val)[:, 1]\n",
    "    val_pred_cpu = model_cat_cpu.predict_proba(X_val)[:, 1]\n",
    "    val_pred_lgbm = model_lgbm.predict_proba(X_val)[:, 1]\n",
    "    print('Cat val score : {}'.format(roc_auc_score(y_val,val_pred)))\n",
    "    print('Cat cpu val score : {}'.format(roc_auc_score(y_val,val_pred_cpu)))\n",
    "    print('LGBM val score : {}'.format(roc_auc_score(y_val,val_pred_lgbm)))\n",
    "\n",
    "    roc_val = roc_auc_score(y_val, (val_pred+val_pred_cpu + val_pred_lgbm)/3)\n",
    "    scores_total.append(roc_val)\n",
    "    print('Ensemble val score : {}'.format(roc_val))\n",
    "\n",
    "    test_pred = model_cat.predict_proba(test)[:, 1]\n",
    "    test_pred_cpu = model_cat_cpu.predict_proba(test)[:, 1]\n",
    "    test_pred_lgbm = model_lgbm.predict_proba(test)[:, 1]\n",
    "    test_pred_total.append((test_pred+test_pred_cpu+test_pred_lgbm)/3)"
   ]
  },
  {
   "cell_type": "code",
   "execution_count": 28,
   "metadata": {},
   "outputs": [
    {
     "data": {
      "text/plain": [
       "(0.7381687247970851,\n",
       " [0.7412472829945203,\n",
       "  0.729241265450273,\n",
       "  0.7364955693336275,\n",
       "  0.7452780007915722,\n",
       "  0.7402812917032399,\n",
       "  0.7363289217210938,\n",
       "  0.733963448913548,\n",
       "  0.7393216277749068,\n",
       "  0.7400080907601004,\n",
       "  0.7395217485279687])"
      ]
     },
     "execution_count": 28,
     "metadata": {},
     "output_type": "execute_result"
    }
   ],
   "source": [
    "np.mean(scores_total), scores_total"
   ]
  },
  {
   "cell_type": "code",
   "execution_count": 29,
   "metadata": {
    "colab": {
     "base_uri": "https://localhost:8080/",
     "height": 1000
    },
    "id": "n3IfZ6xH9a35",
    "outputId": "9a1c106b-3242-4e3c-dbb4-ea136c7205aa"
   },
   "outputs": [
    {
     "data": {
      "text/plain": [
       "Text(0.5, 1.0, 'Feature Importance')"
      ]
     },
     "execution_count": 29,
     "metadata": {},
     "output_type": "execute_result"
    },
    {
     "data": {
      "image/png": "[encoded data removed]",
      "text/plain": [
       "<Figure size 1200x1200 with 1 Axes>"
      ]
     },
     "metadata": {},
     "output_type": "display_data"
    }
   ],
   "source": [
    "feature_importance = model_cat.feature_importances_\n",
    "sorted_idx = np.argsort(feature_importance)\n",
    "fig = plt.figure(figsize=(12, 12))\n",
    "plt.barh(range(len(sorted_idx)), feature_importance[sorted_idx], align='center')\n",
    "plt.yticks(range(len(sorted_idx)), np.array(X.columns)[sorted_idx])\n",
    "plt.title('Feature Importance')"
   ]
  },
  {
   "cell_type": "code",
   "execution_count": 30,
   "metadata": {},
   "outputs": [
    {
     "data": {
      "text/plain": [
       "array(['이식된 배아 수', '배아 이식률', '시술 당시 나이', '총 생성 배아 수', '난자 출처', '저장된 배아 수',\n",
       "       '저장 배아 비율', '시술 시기 코드', '수집된 신선 난자 수', '배아 이식 경과일', '임신 성공률',\n",
       "       '배아 생성 주요 이유', 'IVF 시술 횟수', '클리닉 내 총 시술 횟수', '혼합된 난자 수',\n",
       "       '불임 원인 - 여성 요인', '파트너 정자 혼합 비율', '해동 배아 생존율', '미세주입 배아 생성률',\n",
       "       '총 임신 횟수', '정자 출처', '총 시술 횟수', '총 출산 횟수', '특정 시술 유형', '배란 자극 여부',\n",
       "       'IVF 출산 횟수', '출산율', '신선 배아 사용 여부', '난자 기증자 나이', '미세주입 배아 이식률',\n",
       "       '파트너 정자와 혼합된 난자 수', '여성 불임 원인', '불임 원인 - 남성 요인', 'PGS 시술 여부',\n",
       "       '배아 해동 경과일', '미세주입된 난자 수', '정자 기증자 나이', '불임 원인 - 난관 질환',\n",
       "       'IVF 임신 횟수', '남성 불임 원인', '부부 불임 원인', '미세주입에서 생성된 배아 수',\n",
       "       '동결 배아 사용 여부', '해동된 배아 수', '미세주입 배아 이식 수', 'DI 시술 횟수',\n",
       "       '임신 시도 또는 마지막 임신 경과 연수', '미세주입 후 저장된 배아 수', '불임 원인 - 정자 요인',\n",
       "       '불임 원인 - 배란 장애', '단일 배아 이식 여부', '기증자 정자와 혼합된 난자 수',\n",
       "       '착상 전 유전 진단 사용 여부', '해동 난자 수', '불명확 불임 원인', '착상 전 유전 검사 사용 여부',\n",
       "       '난자 혼합 경과일', 'PGD 시술 여부', 'DI 임신 횟수', '불임 원인 - 자궁내막증', 'DI 출산 횟수',\n",
       "       '저장된 신선 난자 수', '대리모 여부', '시술 유형', '불임 원인 - 정자 농도', '기증 배아 사용 여부'],\n",
       "      dtype=object)"
      ]
     },
     "execution_count": 30,
     "metadata": {},
     "output_type": "execute_result"
    }
   ],
   "source": [
    "np.array(X.columns)[sorted_idx][::-1]"
   ]
  },
  {
   "cell_type": "code",
   "execution_count": 31,
   "metadata": {
    "id": "zdqhyNyumAyx"
   },
   "outputs": [],
   "source": [
    "test_pred_total_mean = np.mean(test_pred_total, axis=(0))"
   ]
  },
  {
   "cell_type": "code",
   "execution_count": 32,
   "metadata": {
    "colab": {
     "base_uri": "https://localhost:8080/",
     "height": 540
    },
    "id": "HHVwzBg8NEZK",
    "outputId": "7c5d38e1-affe-45e7-b863-372c9a868b84"
   },
   "outputs": [
    {
     "data": {
      "text/plain": [
       "(array([12919.,  2193.,  3130.,  4926.,  8665., 12401., 15736., 15480.,\n",
       "        12198.,  2419.]),\n",
       " array([0.04167562, 0.11613273, 0.19058983, 0.26504694, 0.33950405,\n",
       "        0.41396115, 0.48841826, 0.56287537, 0.63733248, 0.71178958,\n",
       "        0.78624669]),\n",
       " <BarContainer object of 10 artists>)"
      ]
     },
     "execution_count": 32,
     "metadata": {},
     "output_type": "execute_result"
    },
    {
     "data": {
      "image/png": "[encoded data removed]",
      "text/plain": [
       "<Figure size 640x480 with 1 Axes>"
      ]
     },
     "metadata": {},
     "output_type": "display_data"
    }
   ],
   "source": [
    "plt.hist(test_pred_total_mean)"
   ]
  },
  {
   "cell_type": "code",
   "execution_count": 33,
   "metadata": {
    "id": "KGlLsagWhQmz"
   },
   "outputs": [],
   "source": [
    "sample_submission = pd.read_csv('../sample_submission.csv')\n",
    "sample_submission['probability'] = test_pred_total_mean"
   ]
  },
  {
   "cell_type": "code",
   "execution_count": null,
   "metadata": {
    "id": "cRPfPmjigZCd"
   },
   "outputs": [],
   "source": [
    "sample_submission.to_csv('Add_feature_reason2_lgbmcat_cpu_mac_sunghyun+SMOTENC.csv', index=False)"
   ]
  }
 ],
 "metadata": {
  "accelerator": "GPU",
  "colab": {
   "gpuType": "T4",
   "provenance": []
  },
  "kernelspec": {
   "display_name": "Python 3",
   "language": "python",
   "name": "python3"
  },
  "language_info": {
   "codemirror_mode": {
    "name": "ipython",
    "version": 3
   },
   "file_extension": ".py",
   "mimetype": "text/x-python",
   "name": "python",
   "nbconvert_exporter": "python",
   "pygments_lexer": "ipython3",
   "version": "3.9.6"
  }
 },
 "nbformat": 4,
 "nbformat_minor": 4
}
