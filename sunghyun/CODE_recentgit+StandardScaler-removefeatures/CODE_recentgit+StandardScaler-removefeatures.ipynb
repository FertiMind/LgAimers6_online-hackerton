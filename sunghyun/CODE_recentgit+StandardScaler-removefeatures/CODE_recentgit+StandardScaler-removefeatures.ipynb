{
 "cells": [
  {
   "cell_type": "code",
   "execution_count": 1,
   "metadata": {
    "colab": {
     "base_uri": "https://localhost:8080/"
    },
    "id": "0_-E_OuZQXqu",
    "outputId": "8f5cbcbb-5086-4ead-c817-9fdb22e3533b"
   },
   "outputs": [
    {
     "name": "stderr",
     "output_type": "stream",
     "text": [
      "/Users/1233day/Library/Python/3.9/lib/python/site-packages/tqdm/auto.py:21: TqdmWarning: IProgress not found. Please update jupyter and ipywidgets. See https://ipywidgets.readthedocs.io/en/stable/user_install.html\n",
      "  from .autonotebook import tqdm as notebook_tqdm\n"
     ]
    }
   ],
   "source": [
    "import random\n",
    "import os\n",
    "import pandas as pd\n",
    "import numpy as np\n",
    "\n",
    "from matplotlib import pyplot as plt\n",
    "import seaborn as sns\n",
    "from catboost import CatBoostClassifier\n",
    "import lightgbm as lgb\n",
    "\n",
    "import optuna\n",
    "from optuna import Trial\n",
    "from optuna.samplers import TPESampler\n",
    "from sklearn.model_selection import StratifiedKFold\n",
    "from sklearn.metrics import roc_auc_score\n",
    "from sklearn.utils.class_weight import compute_class_weight\n",
    "\n",
    "import warnings\n",
    "\n",
    "warnings.filterwarnings('ignore')"
   ]
  },
  {
   "cell_type": "code",
   "execution_count": 2,
   "metadata": {
    "id": "u2FSTwmUIkF5"
   },
   "outputs": [],
   "source": [
    "import os\n",
    "import logging\n",
    "\n",
    "def seed_everything(seed: int = 42):\n",
    "    random.seed(seed)\n",
    "    np.random.seed(seed)\n",
    "    os.environ[\"PYTHONHASHSEED\"] = str(seed)"
   ]
  },
  {
   "cell_type": "code",
   "execution_count": 3,
   "metadata": {
    "colab": {
     "base_uri": "https://localhost:8080/"
    },
    "id": "bbtq1EWyQcwX",
    "outputId": "ad146067-7509-44f2-ee26-cc8bc615473f"
   },
   "outputs": [
    {
     "data": {
      "text/plain": [
       "((256351, 68), (90067, 67))"
      ]
     },
     "execution_count": 3,
     "metadata": {},
     "output_type": "execute_result"
    }
   ],
   "source": [
    "train = pd.read_csv('../train.csv').drop(columns=['ID'])\n",
    "test = pd.read_csv('../test.csv').drop(columns=['ID'])\n",
    "train.shape, test.shape\n",
    "# train.loc[train['시술 당시 나이'] == '알 수 없음', '시술 당시 나이'] = '만43-44세'"
   ]
  },
  {
   "cell_type": "code",
   "execution_count": 4,
   "metadata": {
    "colab": {
     "base_uri": "https://localhost:8080/",
     "height": 178
    },
    "id": "x7kj8pMWSpd9",
    "outputId": "11cdbca0-3097-42aa-dd4e-52d7070ff5c9"
   },
   "outputs": [
    {
     "data": {
      "text/plain": [
       "임신 성공 여부\n",
       "0    190123\n",
       "1     66228\n",
       "Name: count, dtype: int64"
      ]
     },
     "execution_count": 4,
     "metadata": {},
     "output_type": "execute_result"
    }
   ],
   "source": [
    "train['임신 성공 여부'].value_counts()"
   ]
  },
  {
   "cell_type": "code",
   "execution_count": 5,
   "metadata": {
    "colab": {
     "base_uri": "https://localhost:8080/",
     "height": 335
    },
    "id": "EsL6VCeI_Q4D",
    "outputId": "32bd81c0-f1bf-4f45-8b2a-54bf8e66c1d1"
   },
   "outputs": [
    {
     "data": {
      "text/plain": [
       "시술 당시 나이\n",
       "만18-34세    102476\n",
       "만35-37세     57780\n",
       "만38-39세     39247\n",
       "만40-42세     37348\n",
       "만43-44세     12253\n",
       "만45-50세      6918\n",
       "알 수 없음        329\n",
       "Name: count, dtype: int64"
      ]
     },
     "execution_count": 5,
     "metadata": {},
     "output_type": "execute_result"
    }
   ],
   "source": [
    "# train['시술 당시 나이'] = train['시술 당시 나이'].replace('알 수 없음','만35-37세')\n",
    "# test['시술 당시 나이'] = test['시술 당시 나이'].replace('알 수 없음','만35-37세')\n",
    "\n",
    "train['시술 당시 나이'].value_counts()\n",
    "# train['']\n"
   ]
  },
  {
   "cell_type": "code",
   "execution_count": 6,
   "metadata": {
    "colab": {
     "base_uri": "https://localhost:8080/"
    },
    "id": "4xu4wqTwWgEO",
    "outputId": "8b21d1a6-d5ee-46ea-ab34-c6c2ec30bb19"
   },
   "outputs": [
    {
     "data": {
      "text/plain": [
       "((256351, 66), (90067, 65))"
      ]
     },
     "execution_count": 6,
     "metadata": {},
     "output_type": "execute_result"
    }
   ],
   "source": [
    "# drop_columns = ['착상 전 유전 검사 사용 여부',\n",
    "#                 'PGD 시술 여부', 'PGS 시술 여부', '난자 해동 경과일'] + ['배란 유도 유형', '불임 원인 - 자궁경부 문제', '불임 원인 - 정자 면역학적 요인','불임 원인 - 정자 운동성', '불임 원인 - 정자 형태']#\n",
    "drop_columns = ['난자 해동 경과일', '배란 유도 유형']\n",
    "train.drop(columns=drop_columns, inplace=True)\n",
    "test.drop(columns=drop_columns, inplace=True)\n",
    "\n",
    "train.shape, test.shape"
   ]
  },
  {
   "cell_type": "code",
   "execution_count": 7,
   "metadata": {
    "id": "q5k1E_a8a6LH"
   },
   "outputs": [],
   "source": [
    "nan_col_list = ['착상 전 유전 검사 사용 여부','PGD 시술 여부', 'PGS 시술 여부']\n",
    "for col in nan_col_list:\n",
    "    train[col] = train[col].fillna(0)\n",
    "    test[col] = test[col].fillna(0)"
   ]
  },
  {
   "cell_type": "code",
   "execution_count": 8,
   "metadata": {
    "colab": {
     "base_uri": "https://localhost:8080/"
    },
    "id": "_Q-1vJvMZVdO",
    "outputId": "c00dc096-9bb5-4d60-f38f-4908c4f8c858"
   },
   "outputs": [],
   "source": [
    "drop_columns2 = []\n",
    "for col in train.columns:\n",
    "    if len(train[col].value_counts()) == 1:\n",
    "        drop_columns2.append(col)"
   ]
  },
  {
   "cell_type": "code",
   "execution_count": 9,
   "metadata": {
    "colab": {
     "base_uri": "https://localhost:8080/"
    },
    "id": "Eb_P6B2RarRm",
    "outputId": "8648f15e-8a85-49bb-fb00-a83582492051"
   },
   "outputs": [
    {
     "name": "stdout",
     "output_type": "stream",
     "text": [
      "['불임 원인 - 여성 요인', '난자 채취 경과일']\n"
     ]
    },
    {
     "data": {
      "text/plain": [
       "((256351, 64), (90067, 63))"
      ]
     },
     "execution_count": 9,
     "metadata": {},
     "output_type": "execute_result"
    }
   ],
   "source": [
    "print(drop_columns2)\n",
    "train.drop(columns=drop_columns2, inplace=True)\n",
    "test.drop(columns=drop_columns2, inplace=True)\n",
    "\n",
    "train.shape, test.shape"
   ]
  },
  {
   "cell_type": "code",
   "execution_count": 10,
   "metadata": {
    "id": "YjAuM-pa6Ewz"
   },
   "outputs": [],
   "source": [
    "cat_to_int_dict = {'6회 이상' : 6, '5회' : 5, '4회' : 4, '3회' : 3, '2회' : 2, '1회' : 1, '0회' : 0}\n",
    "\n",
    "cat_to_int_columns = ['총 시술 횟수', '클리닉 내 총 시술 횟수', 'IVF 시술 횟수','DI 시술 횟수', 'DI 임신 횟수' ,'DI 출산 횟수',\n",
    "                      '총 임신 횟수', 'IVF 임신 횟수', '총 출산 횟수', 'IVF 출산 횟수'] #\n",
    "for col in cat_to_int_columns:\n",
    "    train[col] = train[col].map(cat_to_int_dict)\n",
    "    test[col] = test[col].map(cat_to_int_dict)"
   ]
  },
  {
   "cell_type": "code",
   "execution_count": 11,
   "metadata": {},
   "outputs": [],
   "source": [
    "# 5. Binning(구간화) 예시\n",
    "# 예: 임신 시도 또는 마지막 임신 경과 연수\n",
    "if '임신 시도 또는 마지막 임신 경과 연수' in train.columns:\n",
    "    bins = [-0.1, 0.9, 3, 6, 10, 20]  # 0 이하, 1~3, 4~6, 7~10, 11~20\n",
    "    labels = ['0년 이하','1~3년','4~6년','7~10년','11~20년']\n",
    "    train['임신시도_bin'] = pd.cut(train['임신 시도 또는 마지막 임신 경과 연수'], bins=bins, labels=labels)\n",
    "    test['임신시도_bin']  = pd.cut(test['임신 시도 또는 마지막 임신 경과 연수'],  bins=bins, labels=labels)\n",
    "\n",
    "# 예: 총 생성 배아 수 (0~20, 21이상 구간)\n",
    "if '총 생성 배아 수' in train.columns:\n",
    "    bins = [-0.1, 0, 5, 10, 15, 20, 999]\n",
    "    labels = ['0','1~5','6~10','11~15','16~20','21이상']\n",
    "    train['총_생성_배아_bin'] = pd.cut(train['총 생성 배아 수'], bins=bins, labels=labels)\n",
    "    test['총_생성_배아_bin']  = pd.cut(test['총 생성 배아 수'],  bins=bins, labels=labels)\n",
    "\n",
    "# 6. 희소 범주(rare categories) 병합 예시\n",
    "def merge_rare_categories(series, min_count=100):\n",
    "    \"\"\"\n",
    "    시리즈 내에서 출현 횟수가 min_count 미만인 카테고리를\n",
    "    모두 '기타' 카테고리로 통합\n",
    "    \"\"\"\n",
    "    value_counts = series.value_counts(dropna=False)\n",
    "    rare_cats = value_counts[value_counts < min_count].index\n",
    "    return series.replace(rare_cats, '기타')\n",
    "\n",
    "\n",
    "rare_merge_cols = ['특정 시술 유형', '배아 생성 주요 이유']\n",
    "for col in rare_merge_cols:\n",
    "    if col in train.columns:\n",
    "        train[col] = merge_rare_categories(train[col], min_count=100)\n",
    "    if col in test.columns:\n",
    "        test[col] = merge_rare_categories(test[col], min_count=100)\n",
    "train.drop(columns =['임신 시도 또는 마지막 임신 경과 연수'],inplace = True )\n",
    "test.drop(columns =['임신 시도 또는 마지막 임신 경과 연수'],inplace = True )\n"
   ]
  },
  {
   "cell_type": "code",
   "execution_count": 12,
   "metadata": {
    "id": "f-mBaoLO4ffA"
   },
   "outputs": [],
   "source": [
    "procedure_encoding_dict = {'ICSI' : 'ICSI', 'IVF' : 'IVF', 'Unknown' : 'Unknown','IUI' : 'IUI',\n",
    "                           'ICSI:ICSI' : 'ICSI', 'ICSI / BLASTOCYST ' : 'ICSI / BLASTOCYST',\n",
    "                           'IVF / BLASTOCYST' : 'IVF / BLASTOCYST','IVF:IVF' : 'IVF','ICSI:IVF' : 'ICSI:IVF',\n",
    "                           'ICSI / AH' : 'ICSI / AH','IVF:ICSI' : 'ICSI:IVF', 'IVF / AH' : 'IVF / AH',\n",
    "                           'ICSI:Unknown' : 'ICSI', 'IVF:Unknown' : 'IVF', 'ICI' : 'ICI','Generic DI' : 'Generic DI',\n",
    "                           'IVI' : 'IVI','ICSI / BLASTOCYST:IVF / BLASTOCYST' : 'ICSI / BLASTOCYST:IVF / BLASTOCYST',\n",
    "                           'ICSI / BLASTOCYST :IVF / BLASTOCYST': 'ICSI / BLASTOCYST:IVF / BLASTOCYST','FER' : 'FER',\n",
    "                           'IVF / AH:ICSI / AH' : 'IVF / AH:ICSI / AH','GIFT':'GIFT','ICSI / AH:Unknown' : 'ICSI / AH',\n",
    "                           'ICSI / BLASTOCYST :ICSI' : 'ICSI / BLASTOCYST', 'IUI:ICI' : 'IUI:ICI',\n",
    "                           'IVF:Unknown:Unknown:Unknown' : 'IVF'}\n",
    "\n",
    "train['특정 시술 유형'] = train['특정 시술 유형'].map(procedure_encoding_dict)\n",
    "test['특정 시술 유형'] = test['특정 시술 유형'].map(procedure_encoding_dict)"
   ]
  },
  {
   "cell_type": "code",
   "execution_count": 13,
   "metadata": {
    "id": "UEU77iWib0U_"
   },
   "outputs": [],
   "source": [
    "train['불임 원인 - 정자 요인'] = train['불임 원인 - 정자 면역학적 요인'] + train['불임 원인 - 정자 운동성'] + train['불임 원인 - 정자 농도']  + train['불임 원인 - 정자 형태']\n",
    "test['불임 원인 - 정자 요인'] = test['불임 원인 - 정자 면역학적 요인'] + test['불임 원인 - 정자 운동성'] + test['불임 원인 - 정자 농도'] + test['불임 원인 - 정자 형태']\n",
    "train['불임 원인 - 여성 요인'] = train['불임 원인 - 자궁경부 문제'] + train['불임 원인 - 자궁내막증'] + train['불임 원인 - 배란 장애'] + train['불임 원인 - 난관 질환']\n",
    "test['불임 원인 - 여성 요인'] = test['불임 원인 - 자궁경부 문제'] + test['불임 원인 - 자궁내막증'] + test['불임 원인 - 배란 장애'] + test['불임 원인 - 난관 질환']\n",
    "\n",
    "train['남성 불임 원인'] = train['남성 주 불임 원인'] + train['남성 부 불임 원인']\n",
    "test['남성 불임 원인'] = test['남성 주 불임 원인'] + test['남성 부 불임 원인']\n",
    "train['여성 불임 원인'] = train['여성 주 불임 원인'] + train['여성 부 불임 원인']\n",
    "test['여성 불임 원인'] = test['여성 주 불임 원인'] + test['여성 부 불임 원인']\n",
    "train['부부 불임 원인'] = train['부부 주 불임 원인'] + train['부부 부 불임 원인']\n",
    "test['부부 불임 원인'] = test['부부 주 불임 원인'] + test['부부 부 불임 원인']\n",
    "\n",
    "\n",
    "drop_columns3 = ['불임 원인 - 정자 면역학적 요인', '불임 원인 - 정자 운동성', '불임 원인 - 정자 형태', '불임 원인 - 자궁경부 문제',\n",
    "                 '남성 주 불임 원인', '남성 부 불임 원인', '여성 주 불임 원인', '여성 부 불임 원인',\n",
    "                 '부부 주 불임 원인', '부부 부 불임 원인']\n",
    "train.drop(columns=drop_columns3, inplace=True)\n",
    "test.drop(columns=drop_columns3, inplace=True)"
   ]
  },
  {
   "cell_type": "code",
   "execution_count": 14,
   "metadata": {},
   "outputs": [
    {
     "ename": "KeyError",
     "evalue": "\"['임신 시도 또는 마지막 임신 경과 연수'] not found in axis\"",
     "output_type": "error",
     "traceback": [
      "\u001b[0;31m---------------------------------------------------------------------------\u001b[0m",
      "\u001b[0;31mKeyError\u001b[0m                                  Traceback (most recent call last)",
      "Cell \u001b[0;32mIn[14], line 1\u001b[0m\n\u001b[0;32m----> 1\u001b[0m \u001b[43mtrain\u001b[49m\u001b[38;5;241;43m.\u001b[39;49m\u001b[43mdrop\u001b[49m\u001b[43m(\u001b[49m\u001b[43mcolumns\u001b[49m\u001b[43m \u001b[49m\u001b[38;5;241;43m=\u001b[39;49m\u001b[43m[\u001b[49m\u001b[38;5;124;43m'\u001b[39;49m\u001b[38;5;124;43m임신 시도 또는 마지막 임신 경과 연수\u001b[39;49m\u001b[38;5;124;43m'\u001b[39;49m\u001b[43m]\u001b[49m\u001b[43m,\u001b[49m\u001b[43minplace\u001b[49m\u001b[43m \u001b[49m\u001b[38;5;241;43m=\u001b[39;49m\u001b[43m \u001b[49m\u001b[38;5;28;43;01mTrue\u001b[39;49;00m\u001b[43m \u001b[49m\u001b[43m)\u001b[49m\n\u001b[1;32m      2\u001b[0m test\u001b[38;5;241m.\u001b[39mdrop(columns \u001b[38;5;241m=\u001b[39m[\u001b[38;5;124m'\u001b[39m\u001b[38;5;124m임신 시도 또는 마지막 임신 경과 연수\u001b[39m\u001b[38;5;124m'\u001b[39m],inplace \u001b[38;5;241m=\u001b[39m \u001b[38;5;28;01mTrue\u001b[39;00m )\n",
      "File \u001b[0;32m~/Library/Python/3.9/lib/python/site-packages/pandas/core/frame.py:5581\u001b[0m, in \u001b[0;36mDataFrame.drop\u001b[0;34m(self, labels, axis, index, columns, level, inplace, errors)\u001b[0m\n\u001b[1;32m   5433\u001b[0m \u001b[38;5;28;01mdef\u001b[39;00m\u001b[38;5;250m \u001b[39m\u001b[38;5;21mdrop\u001b[39m(\n\u001b[1;32m   5434\u001b[0m     \u001b[38;5;28mself\u001b[39m,\n\u001b[1;32m   5435\u001b[0m     labels: IndexLabel \u001b[38;5;241m|\u001b[39m \u001b[38;5;28;01mNone\u001b[39;00m \u001b[38;5;241m=\u001b[39m \u001b[38;5;28;01mNone\u001b[39;00m,\n\u001b[0;32m   (...)\u001b[0m\n\u001b[1;32m   5442\u001b[0m     errors: IgnoreRaise \u001b[38;5;241m=\u001b[39m \u001b[38;5;124m\"\u001b[39m\u001b[38;5;124mraise\u001b[39m\u001b[38;5;124m\"\u001b[39m,\n\u001b[1;32m   5443\u001b[0m ) \u001b[38;5;241m-\u001b[39m\u001b[38;5;241m>\u001b[39m DataFrame \u001b[38;5;241m|\u001b[39m \u001b[38;5;28;01mNone\u001b[39;00m:\n\u001b[1;32m   5444\u001b[0m \u001b[38;5;250m    \u001b[39m\u001b[38;5;124;03m\"\"\"\u001b[39;00m\n\u001b[1;32m   5445\u001b[0m \u001b[38;5;124;03m    Drop specified labels from rows or columns.\u001b[39;00m\n\u001b[1;32m   5446\u001b[0m \n\u001b[0;32m   (...)\u001b[0m\n\u001b[1;32m   5579\u001b[0m \u001b[38;5;124;03m            weight  1.0     0.8\u001b[39;00m\n\u001b[1;32m   5580\u001b[0m \u001b[38;5;124;03m    \"\"\"\u001b[39;00m\n\u001b[0;32m-> 5581\u001b[0m     \u001b[38;5;28;01mreturn\u001b[39;00m \u001b[38;5;28;43msuper\u001b[39;49m\u001b[43m(\u001b[49m\u001b[43m)\u001b[49m\u001b[38;5;241;43m.\u001b[39;49m\u001b[43mdrop\u001b[49m\u001b[43m(\u001b[49m\n\u001b[1;32m   5582\u001b[0m \u001b[43m        \u001b[49m\u001b[43mlabels\u001b[49m\u001b[38;5;241;43m=\u001b[39;49m\u001b[43mlabels\u001b[49m\u001b[43m,\u001b[49m\n\u001b[1;32m   5583\u001b[0m \u001b[43m        \u001b[49m\u001b[43maxis\u001b[49m\u001b[38;5;241;43m=\u001b[39;49m\u001b[43maxis\u001b[49m\u001b[43m,\u001b[49m\n\u001b[1;32m   5584\u001b[0m \u001b[43m        \u001b[49m\u001b[43mindex\u001b[49m\u001b[38;5;241;43m=\u001b[39;49m\u001b[43mindex\u001b[49m\u001b[43m,\u001b[49m\n\u001b[1;32m   5585\u001b[0m \u001b[43m        \u001b[49m\u001b[43mcolumns\u001b[49m\u001b[38;5;241;43m=\u001b[39;49m\u001b[43mcolumns\u001b[49m\u001b[43m,\u001b[49m\n\u001b[1;32m   5586\u001b[0m \u001b[43m        \u001b[49m\u001b[43mlevel\u001b[49m\u001b[38;5;241;43m=\u001b[39;49m\u001b[43mlevel\u001b[49m\u001b[43m,\u001b[49m\n\u001b[1;32m   5587\u001b[0m \u001b[43m        \u001b[49m\u001b[43minplace\u001b[49m\u001b[38;5;241;43m=\u001b[39;49m\u001b[43minplace\u001b[49m\u001b[43m,\u001b[49m\n\u001b[1;32m   5588\u001b[0m \u001b[43m        \u001b[49m\u001b[43merrors\u001b[49m\u001b[38;5;241;43m=\u001b[39;49m\u001b[43merrors\u001b[49m\u001b[43m,\u001b[49m\n\u001b[1;32m   5589\u001b[0m \u001b[43m    \u001b[49m\u001b[43m)\u001b[49m\n",
      "File \u001b[0;32m~/Library/Python/3.9/lib/python/site-packages/pandas/core/generic.py:4788\u001b[0m, in \u001b[0;36mNDFrame.drop\u001b[0;34m(self, labels, axis, index, columns, level, inplace, errors)\u001b[0m\n\u001b[1;32m   4786\u001b[0m \u001b[38;5;28;01mfor\u001b[39;00m axis, labels \u001b[38;5;129;01min\u001b[39;00m axes\u001b[38;5;241m.\u001b[39mitems():\n\u001b[1;32m   4787\u001b[0m     \u001b[38;5;28;01mif\u001b[39;00m labels \u001b[38;5;129;01mis\u001b[39;00m \u001b[38;5;129;01mnot\u001b[39;00m \u001b[38;5;28;01mNone\u001b[39;00m:\n\u001b[0;32m-> 4788\u001b[0m         obj \u001b[38;5;241m=\u001b[39m \u001b[43mobj\u001b[49m\u001b[38;5;241;43m.\u001b[39;49m\u001b[43m_drop_axis\u001b[49m\u001b[43m(\u001b[49m\u001b[43mlabels\u001b[49m\u001b[43m,\u001b[49m\u001b[43m \u001b[49m\u001b[43maxis\u001b[49m\u001b[43m,\u001b[49m\u001b[43m \u001b[49m\u001b[43mlevel\u001b[49m\u001b[38;5;241;43m=\u001b[39;49m\u001b[43mlevel\u001b[49m\u001b[43m,\u001b[49m\u001b[43m \u001b[49m\u001b[43merrors\u001b[49m\u001b[38;5;241;43m=\u001b[39;49m\u001b[43merrors\u001b[49m\u001b[43m)\u001b[49m\n\u001b[1;32m   4790\u001b[0m \u001b[38;5;28;01mif\u001b[39;00m inplace:\n\u001b[1;32m   4791\u001b[0m     \u001b[38;5;28mself\u001b[39m\u001b[38;5;241m.\u001b[39m_update_inplace(obj)\n",
      "File \u001b[0;32m~/Library/Python/3.9/lib/python/site-packages/pandas/core/generic.py:4830\u001b[0m, in \u001b[0;36mNDFrame._drop_axis\u001b[0;34m(self, labels, axis, level, errors, only_slice)\u001b[0m\n\u001b[1;32m   4828\u001b[0m         new_axis \u001b[38;5;241m=\u001b[39m axis\u001b[38;5;241m.\u001b[39mdrop(labels, level\u001b[38;5;241m=\u001b[39mlevel, errors\u001b[38;5;241m=\u001b[39merrors)\n\u001b[1;32m   4829\u001b[0m     \u001b[38;5;28;01melse\u001b[39;00m:\n\u001b[0;32m-> 4830\u001b[0m         new_axis \u001b[38;5;241m=\u001b[39m \u001b[43maxis\u001b[49m\u001b[38;5;241;43m.\u001b[39;49m\u001b[43mdrop\u001b[49m\u001b[43m(\u001b[49m\u001b[43mlabels\u001b[49m\u001b[43m,\u001b[49m\u001b[43m \u001b[49m\u001b[43merrors\u001b[49m\u001b[38;5;241;43m=\u001b[39;49m\u001b[43merrors\u001b[49m\u001b[43m)\u001b[49m\n\u001b[1;32m   4831\u001b[0m     indexer \u001b[38;5;241m=\u001b[39m axis\u001b[38;5;241m.\u001b[39mget_indexer(new_axis)\n\u001b[1;32m   4833\u001b[0m \u001b[38;5;66;03m# Case for non-unique axis\u001b[39;00m\n\u001b[1;32m   4834\u001b[0m \u001b[38;5;28;01melse\u001b[39;00m:\n",
      "File \u001b[0;32m~/Library/Python/3.9/lib/python/site-packages/pandas/core/indexes/base.py:7070\u001b[0m, in \u001b[0;36mIndex.drop\u001b[0;34m(self, labels, errors)\u001b[0m\n\u001b[1;32m   7068\u001b[0m \u001b[38;5;28;01mif\u001b[39;00m mask\u001b[38;5;241m.\u001b[39many():\n\u001b[1;32m   7069\u001b[0m     \u001b[38;5;28;01mif\u001b[39;00m errors \u001b[38;5;241m!=\u001b[39m \u001b[38;5;124m\"\u001b[39m\u001b[38;5;124mignore\u001b[39m\u001b[38;5;124m\"\u001b[39m:\n\u001b[0;32m-> 7070\u001b[0m         \u001b[38;5;28;01mraise\u001b[39;00m \u001b[38;5;167;01mKeyError\u001b[39;00m(\u001b[38;5;124mf\u001b[39m\u001b[38;5;124m\"\u001b[39m\u001b[38;5;132;01m{\u001b[39;00mlabels[mask]\u001b[38;5;241m.\u001b[39mtolist()\u001b[38;5;132;01m}\u001b[39;00m\u001b[38;5;124m not found in axis\u001b[39m\u001b[38;5;124m\"\u001b[39m)\n\u001b[1;32m   7071\u001b[0m     indexer \u001b[38;5;241m=\u001b[39m indexer[\u001b[38;5;241m~\u001b[39mmask]\n\u001b[1;32m   7072\u001b[0m \u001b[38;5;28;01mreturn\u001b[39;00m \u001b[38;5;28mself\u001b[39m\u001b[38;5;241m.\u001b[39mdelete(indexer)\n",
      "\u001b[0;31mKeyError\u001b[0m: \"['임신 시도 또는 마지막 임신 경과 연수'] not found in axis\""
     ]
    }
   ],
   "source": [
    "train.drop(columns =['임신 시도 또는 마지막 임신 경과 연수'],inplace = True )\n",
    "test.drop(columns =['임신 시도 또는 마지막 임신 경과 연수'],inplace = True )"
   ]
  },
  {
   "cell_type": "code",
   "execution_count": 15,
   "metadata": {
    "colab": {
     "base_uri": "https://localhost:8080/"
    },
    "id": "kjEBmjSkbL5j",
    "outputId": "b3db516d-031e-42fc-89bb-a3218d8bd879"
   },
   "outputs": [
    {
     "data": {
      "text/plain": [
       "Index(['시술 시기 코드', '시술 당시 나이', '시술 유형', '특정 시술 유형', '배란 자극 여부', '단일 배아 이식 여부',\n",
       "       '착상 전 유전 검사 사용 여부', '착상 전 유전 진단 사용 여부', '불명확 불임 원인', '불임 원인 - 난관 질환',\n",
       "       '불임 원인 - 남성 요인', '불임 원인 - 배란 장애', '불임 원인 - 자궁내막증', '불임 원인 - 정자 농도',\n",
       "       '배아 생성 주요 이유', '총 시술 횟수', '클리닉 내 총 시술 횟수', 'IVF 시술 횟수', 'DI 시술 횟수',\n",
       "       '총 임신 횟수', 'IVF 임신 횟수', 'DI 임신 횟수', '총 출산 횟수', 'IVF 출산 횟수', 'DI 출산 횟수',\n",
       "       '총 생성 배아 수', '미세주입된 난자 수', '미세주입에서 생성된 배아 수', '이식된 배아 수',\n",
       "       '미세주입 배아 이식 수', '저장된 배아 수', '미세주입 후 저장된 배아 수', '해동된 배아 수', '해동 난자 수',\n",
       "       '수집된 신선 난자 수', '저장된 신선 난자 수', '혼합된 난자 수', '파트너 정자와 혼합된 난자 수',\n",
       "       '기증자 정자와 혼합된 난자 수', '난자 출처', '정자 출처', '난자 기증자 나이', '정자 기증자 나이',\n",
       "       '동결 배아 사용 여부', '신선 배아 사용 여부', '기증 배아 사용 여부', '대리모 여부', 'PGD 시술 여부',\n",
       "       'PGS 시술 여부', '난자 혼합 경과일', '배아 이식 경과일', '배아 해동 경과일', '임신 성공 여부',\n",
       "       '임신시도_bin', '총_생성_배아_bin', '불임 원인 - 정자 요인', '불임 원인 - 여성 요인', '남성 불임 원인',\n",
       "       '여성 불임 원인', '부부 불임 원인'],\n",
       "      dtype='object')"
      ]
     },
     "execution_count": 15,
     "metadata": {},
     "output_type": "execute_result"
    }
   ],
   "source": [
    "train.columns"
   ]
  },
  {
   "cell_type": "code",
   "execution_count": 16,
   "metadata": {
    "id": "64dAkKrBayFA"
   },
   "outputs": [],
   "source": [
    "# categorical_columns = [\"시술 시기 코드\",\"시술 당시 나이\", \"시술 유형\", \"특정 시술 유형\",\"배란 자극 여부\",\n",
    "                      #  \"단일 배아 이식 여부\",\"착상 전 유전 진단 사용 여부\",\n",
    "                      #  \"남성 주 불임 원인\",\"남성 부 불임 원인\",\"여성 주 불임 원인\",\"여성 부 불임 원인\",\n",
    "                      #  \"부부 주 불임 원인\",\"부부 부 불임 원인\",\"불명확 불임 원인\",\"불임 원인 - 난관 질환\",\n",
    "                      #  \"불임 원인 - 남성 요인\",\"불임 원인 - 배란 장애\",\"불임 원인 - 자궁경부 문제\",\"불임 원인 - 자궁내막증\",\n",
    "                      #  \"불임 원인 - 정자 농도\",\"불임 원인 - 정자 면역학적 요인\",\"불임 원인 - 정자 운동성\",\"불임 원인 - 정자 형태\",\n",
    "                      #  \"배아 생성 주요 이유\",\"총 시술 횟수\",\"클리닉 내 총 시술 횟수\",\"IVF 시술 횟수\",\"DI 시술 횟수\",\n",
    "                      #  \"총 임신 횟수\",\"IVF 임신 횟수\",\"DI 임신 횟수\",\"총 출산 횟수\",\"IVF 출산 횟수\",\"DI 출산 횟수\",\n",
    "                      #  \"난자 출처\",\"정자 출처\",\"난자 기증자 나이\",\"정자 기증자 나이\",\n",
    "                      #  \"동결 배아 사용 여부\",\"신선 배아 사용 여부\",\"기증 배아 사용 여부\",\"대리모 여부\"]\n",
    "categorical_columns =  [\"시술 시기 코드\",\"시술 당시 나이\",\"시술 유형\", \"특정 시술 유형\",\n",
    "                        \"배란 자극 여부\", \"단일 배아 이식 여부\", '착상 전 유전 검사 사용 여부',\"착상 전 유전 진단 사용 여부\",\n",
    "                       \"불명확 불임 원인\",\"배아 생성 주요 이유\",\n",
    "                        \"불임 원인 - 난관 질환\",\"불임 원인 - 남성 요인\",\"불임 원인 - 배란 장애\",\n",
    "                        \"불임 원인 - 자궁내막증\",'불임 원인 - 정자 농도',\"난자 출처\",\"정자 출처\",\"난자 기증자 나이\",\"정자 기증자 나이\",\n",
    "                       \"동결 배아 사용 여부\",\"신선 배아 사용 여부\", '기증 배아 사용 여부',\"대리모 여부\",\n",
    "                        'PGD 시술 여부', '총_생성_배아_bin','PGS 시술 여부', '불임 원인 - 정자 요인', '불임 원인 - 여성 요인',  '남성 불임 원인', '여성 불임 원인', '부부 불임 원인',\"임신시도_bin\"] #\n",
    "# \"남성 주 불임 원인\",\"남성 부 불임 원인\",\"여성 주 불임 원인\",\"여성 부 불임 원인\",\n",
    "#                       \"부부 주 불임 원인\",\"부부 부 불임 원인\",\n",
    "\n",
    "for col in categorical_columns:\n",
    "    if train[col].isna().sum() > 0 or test[col].isna().sum() > 0 :\n",
    "\n",
    "      mode_value = train[col].mode()[0]\n",
    "      train[col].fillna(mode_value, inplace=True)  # 최빈값으로 대체\n",
    "      test[col].fillna(mode_value, inplace = True)\n",
    "    train[col] = train[col].astype(str)\n",
    "    test[col] = test[col].astype(str)\n",
    "    #encoder = ce.OrdinalEncoder(handle_unknown='impute')\n",
    "    #encoder.fit(train[col])\n",
    "    #train[col] = encoder.transform(train[col])\n",
    "    #test[col] = encoder.transform(test[col])\n",
    "\n",
    "numeric_columns = [\"총 생성 배아 수\", \"총 시술 횟수\",\"클리닉 내 총 시술 횟수\",\"IVF 시술 횟수\",\"DI 시술 횟수\",\n",
    "                   \"총 임신 횟수\",\"IVF 임신 횟수\",\"DI 임신 횟수\",\"총 출산 횟수\",\"IVF 출산 횟수\",\"DI 출산 횟수\",\n",
    "                    '미세주입된 난자 수', '미세주입에서 생성된 배아 수', '이식된 배아 수', '미세주입 배아 이식 수', '저장된 배아 수',\n",
    "       '미세주입 후 저장된 배아 수', '해동된 배아 수', '해동 난자 수', '수집된 신선 난자 수', '저장된 신선 난자 수',\n",
    "       '혼합된 난자 수', '파트너 정자와 혼합된 난자 수', '기증자 정자와 혼합된 난자 수', '난자 혼합 경과일', '배아 이식 경과일', '배아 해동 경과일'] #\n",
    "\n",
    "# numeric_columns = [\"총 생성 배아 수\",\"미세주입된 난자 수\",\"미세주입에서 생성된 배아 수\",\n",
    "#                    \"이식된 배아 수\",\"미세주입 배아 이식 수\",\"저장된 배아 수\",\"미세주입 후 저장된 배아 수\",\n",
    "#                    \"수집된 신선 난자 수\",\"혼합된 난자 수\",\"파트너 정자와 혼합된 난자 수\",\n",
    "#                    \"기증자 정자와 혼합된 난자 수\",\"배아 이식 경과일\"]\n",
    "\n",
    "for col in numeric_columns:\n",
    "  if train[col].isna().sum():\n",
    "    if train[col].isna().sum() >= len(train)*0.5: # 결측치가 절반이 넘어갈 경우\n",
    "      train[col].fillna(-1, inplace=True)  # -1로 대체\n",
    "      test[col].fillna(-1, inplace = True)\n",
    "    else:\n",
    "      mode_value = train[col].mode()[0]  # 최빈값 구하기\n",
    "      train[col].fillna(mode_value, inplace=True)  # 최빈값으로 대체\n",
    "      test[col].fillna(mode_value, inplace = True)\n"
   ]
  },
  {
   "cell_type": "code",
   "execution_count": 17,
   "metadata": {
    "colab": {
     "base_uri": "https://localhost:8080/"
    },
    "id": "rrQrzq0H_QfV",
    "outputId": "255208d3-85ca-4d21-d9d0-eb8dccc27e6d"
   },
   "outputs": [
    {
     "data": {
      "text/plain": [
       "59"
      ]
     },
     "execution_count": 17,
     "metadata": {},
     "output_type": "execute_result"
    }
   ],
   "source": [
    "len(categorical_columns) + len(numeric_columns)"
   ]
  },
  {
   "cell_type": "code",
   "execution_count": 18,
   "metadata": {
    "id": "CI8IOlCFVXGY"
   },
   "outputs": [],
   "source": [
    "def make_feature(df):\n",
    "  \n",
    "  df['미세주입 배아 생성률'] = (df['미세주입에서 생성된 배아 수']) / (df['미세주입된 난자 수'] + 1)\n",
    "  # df['미세주입 배아 이식률'] = (df['미세주입 배아 이식 수']) / (df['미세주입에서 생성된 배아 수'] + 1)\n",
    "  df['배아 이식률'] = (df['이식된 배아 수']) / (df['총 생성 배아 수'] + 1)\n",
    "  df['저장 배아 비율'] = (df['저장된 배아 수'])/ (df['총 생성 배아 수'] + 1)\n",
    "  df['해동 배아 생존율'] = (df['해동된 배아 수'])/ (df['총 생성 배아 수'] + 1)\n",
    "  df['파트너 정자 혼합 비율'] = (df['파트너 정자와 혼합된 난자 수']) / (df['혼합된 난자 수'] + 1)\n",
    "\n",
    "\n",
    "  df['임신 성공률'] = (df['총 임신 횟수']) / (df['총 시술 횟수'] + 1)\n",
    "\n",
    "  df['출산율'] = df['총 출산 횟수'] / (df['총 임신 횟수'] + 1)\n",
    "\n",
    "  return df"
   ]
  },
  {
   "cell_type": "code",
   "execution_count": 19,
   "metadata": {
    "colab": {
     "base_uri": "https://localhost:8080/"
    },
    "id": "_VNPbGSR4h_I",
    "outputId": "44e7b9c5-1948-417e-b02a-64267fb91fae"
   },
   "outputs": [
    {
     "data": {
      "text/plain": [
       "((256351, 66), (90067, 66))"
      ]
     },
     "execution_count": 19,
     "metadata": {},
     "output_type": "execute_result"
    }
   ],
   "source": [
    "X = train.drop('임신 성공 여부', axis=1)\n",
    "y = train['임신 성공 여부']\n",
    "\n",
    "X = make_feature(X)\n",
    "test = make_feature(test)\n",
    "\n",
    "X.shape, test.shape"
   ]
  },
  {
   "cell_type": "code",
   "execution_count": 20,
   "metadata": {},
   "outputs": [
    {
     "data": {
      "text/plain": [
       "((256351, 66), (90067, 66))"
      ]
     },
     "execution_count": 20,
     "metadata": {},
     "output_type": "execute_result"
    }
   ],
   "source": [
    "from sklearn.preprocessing import StandardScaler\n",
    "scaler = StandardScaler()\n",
    "# 수치형 변수(정수, 실수)를 선택하여 스케일링\n",
    "numeric_cols = X.select_dtypes(include=['int64', 'float64']).columns\n",
    "X[numeric_cols] = scaler.fit_transform(X[numeric_cols])\n",
    "test[numeric_cols] = scaler.transform(test[numeric_cols])\n",
    "\n",
    "X.shape, test.shape"
   ]
  },
  {
   "cell_type": "code",
   "execution_count": 21,
   "metadata": {
    "colab": {
     "base_uri": "https://localhost:8080/",
     "height": 178
    },
    "id": "1WNQj2e8ukWK",
    "outputId": "039cab20-93c0-4ab4-f8a6-8098c62dc87f"
   },
   "outputs": [
    {
     "data": {
      "text/plain": [
       "임신 성공 여부\n",
       "0    190123\n",
       "1     66228\n",
       "Name: count, dtype: int64"
      ]
     },
     "execution_count": 21,
     "metadata": {},
     "output_type": "execute_result"
    }
   ],
   "source": [
    "y.value_counts()"
   ]
  },
  {
   "cell_type": "code",
   "execution_count": 22,
   "metadata": {},
   "outputs": [],
   "source": [
    "if not os.path.exists('./weight'):\n",
    "    os.makedirs('./weight')"
   ]
  },
  {
   "cell_type": "code",
   "execution_count": 23,
   "metadata": {
    "id": "nsRZfmFixgqm"
   },
   "outputs": [],
   "source": [
    "from sklearn.utils.class_weight import compute_class_weight\n",
    "def objective_cat(trial):\n",
    "    global best_val_auc\n",
    "    cbrm_param = {\n",
    "        'iterations':trial.suggest_int(\"iterations\", 1500, 3000),\n",
    "        'depth':trial.suggest_int(\"depth\", 4, 10),\n",
    "        'learning_rate' : trial.suggest_float('learning_rate',0.005, 0.1),\n",
    "        'l2_leaf_reg': trial.suggest_float(\"l2_leaf_reg\", 1e-4, 100.0, log=True),\n",
    "        'early_stopping_rounds': 300\n",
    "    }\n",
    "\n",
    "    # Generate model\n",
    "    model_cat = CatBoostClassifier(**cbrm_param, auto_class_weights='Balanced', eval_metric='AUC', random_state=seed)\n",
    "    model_cat.fit(X_train,\n",
    "          y_train,\n",
    "          cat_features=categorical_columns,\n",
    "          early_stopping_rounds= 300,\n",
    "          eval_set=[(X_val,y_val)],\n",
    "          verbose = 300)\n",
    "    \n",
    "    val_auc = model_cat.get_best_score()[\"validation\"][\"AUC\"]\n",
    "    best_model_path = \"./weight/cat_fold_cpu{}.cbm\".format(idx)\n",
    "    if val_auc > best_val_auc:\n",
    "        best_val_auc = val_auc\n",
    "        model_cat.save_model(best_model_path)\n",
    "        print('저장 완료')\n",
    "\n",
    "    return val_auc\n",
    "\n",
    "def objective_lgbm(trial):\n",
    "\n",
    "    lgbm_params = {\n",
    "         #'num_leaves': trial.suggest_int('num_leaves', 2, 1024, step=1),\n",
    "         #'max_depth': trial.suggest_int('max_depth', 3, 18, step=1),\n",
    "          \"num_iterations\": trial.suggest_int(\"num_iterations\", 1500, 3000),\n",
    "        \"objective\":  trial.suggest_categorical(\"objective\", [\"binary\"]),\n",
    "         \"metric\":  trial.suggest_categorical(\"metric\", [\"auc\"]),\n",
    "        #  \"random_state\":  trial.suggest_int('random_state', 42, 42),\n",
    "        \"random_state\": seed,\n",
    "        \"verbose\":  trial.suggest_int('verbose', -1, -1),\n",
    "        'learning_rate': trial.suggest_float('learning_rate', 0.005, 0.1, log=True),\n",
    "        'n_estimators': trial.suggest_int('n_estimators', 100, 2000),\n",
    "        'min_child_samples': trial.suggest_int('min_child_samples', 10, 50, step=5),\n",
    "        'subsample': trial.suggest_float('subsample', 0.5, 1.0, step=0.1),\n",
    "        'colsample_bytree': trial.suggest_float('colsample_bytree', 0.5, 1.0, step=0.1),\n",
    "    }\n",
    "\n",
    "    # Generate model\n",
    "\n",
    "    class_weights = compute_class_weight(class_weight=\"balanced\", classes=np.unique(y), y=y_train)\n",
    "    class_weight_dict = {i: w for i, w in enumerate(class_weights)}\n",
    "\n",
    "    model_lgbm = lgb.LGBMClassifier(**lgbm_params, class_weight=class_weight_dict)\n",
    "\n",
    "    model_lgbm.fit(X_train, y_train,eval_set=[(X_val, y_val)],categorical_feature=categorical_columns)\n",
    "\n",
    "    return model_lgbm.best_score_['valid_0']['auc']"
   ]
  },
  {
   "cell_type": "code",
   "execution_count": 24,
   "metadata": {
    "colab": {
     "base_uri": "https://localhost:8080/"
    },
    "id": "NsuYwQX28LzT",
    "outputId": "392153b7-08f0-4feb-9a83-6016732f894c",
    "scrolled": true,
    "tags": []
   },
   "outputs": [
    {
     "name": "stderr",
     "output_type": "stream",
     "text": [
      "[I 2025-02-25 00:41:13,285] A new study created in memory with name: no-name-7bf62ee0-d55c-4d38-9203-3d5cbda4e5a2\n"
     ]
    },
    {
     "name": "stdout",
     "output_type": "stream",
     "text": [
      "Seed 4972 Start!\n",
      "==================================================\n",
      "0:\ttest: 0.7272418\tbest: 0.7272418 (0)\ttotal: 182ms\tremaining: 7m 9s\n",
      "300:\ttest: 0.7387533\tbest: 0.7387533 (300)\ttotal: 38.6s\tremaining: 4m 24s\n",
      "600:\ttest: 0.7401273\tbest: 0.7401273 (599)\ttotal: 1m 17s\tremaining: 3m 47s\n",
      "900:\ttest: 0.7404869\tbest: 0.7404971 (892)\ttotal: 1m 57s\tremaining: 3m 10s\n",
      "1200:\ttest: 0.7406387\tbest: 0.7406398 (1151)\ttotal: 2m 39s\tremaining: 2m 34s\n",
      "1500:\ttest: 0.7407778\tbest: 0.7407807 (1498)\ttotal: 3m 26s\tremaining: 1m 59s\n",
      "1800:\ttest: 0.7407631\tbest: 0.7408599 (1661)\ttotal: 4m 16s\tremaining: 1m 20s\n"
     ]
    },
    {
     "name": "stderr",
     "output_type": "stream",
     "text": [
      "[I 2025-02-25 00:45:56,184] Trial 0 finished with value: 0.7408599275340262 and parameters: {'iterations': 2366, 'depth': 10, 'learning_rate': 0.01181021951839225, 'l2_leaf_reg': 9.980783802743254}. Best is trial 0 with value: 0.7408599275340262.\n"
     ]
    },
    {
     "name": "stdout",
     "output_type": "stream",
     "text": [
      "Stopped by overfitting detector  (300 iterations wait)\n",
      "\n",
      "bestTest = 0.7408599275\n",
      "bestIteration = 1661\n",
      "\n",
      "Shrink model to first 1662 iterations.\n",
      "저장 완료\n",
      "0:\ttest: 0.7020597\tbest: 0.7020597 (0)\ttotal: 46.6ms\tremaining: 1m 42s\n",
      "300:\ttest: 0.7304598\tbest: 0.7304598 (300)\ttotal: 12.6s\tremaining: 1m 19s\n",
      "600:\ttest: 0.7342465\tbest: 0.7342465 (600)\ttotal: 25.2s\tremaining: 1m 6s\n",
      "900:\ttest: 0.7362545\tbest: 0.7362545 (900)\ttotal: 38.3s\tremaining: 55s\n",
      "1200:\ttest: 0.7372890\tbest: 0.7372890 (1200)\ttotal: 51.7s\tremaining: 42.7s\n",
      "1500:\ttest: 0.7379821\tbest: 0.7379821 (1500)\ttotal: 1m 5s\tremaining: 30.1s\n",
      "1800:\ttest: 0.7385205\tbest: 0.7385205 (1800)\ttotal: 1m 19s\tremaining: 17.2s\n",
      "2100:\ttest: 0.7389667\tbest: 0.7389677 (2099)\ttotal: 1m 33s\tremaining: 4.07s\n"
     ]
    },
    {
     "name": "stderr",
     "output_type": "stream",
     "text": [
      "[I 2025-02-25 00:47:33,748] Trial 1 finished with value: 0.7390935399390067 and parameters: {'iterations': 2193, 'depth': 4, 'learning_rate': 0.005671430811678843, 'l2_leaf_reg': 0.00012325230809466137}. Best is trial 0 with value: 0.7408599275340262.\n"
     ]
    },
    {
     "name": "stdout",
     "output_type": "stream",
     "text": [
      "2192:\ttest: 0.7390935\tbest: 0.7390935 (2192)\ttotal: 1m 37s\tremaining: 0us\n",
      "\n",
      "bestTest = 0.7390935399\n",
      "bestIteration = 2192\n",
      "\n",
      "0:\ttest: 0.7020597\tbest: 0.7020597 (0)\ttotal: 48.7ms\tremaining: 2m 3s\n",
      "300:\ttest: 0.7406007\tbest: 0.7406007 (300)\ttotal: 14.1s\tremaining: 1m 44s\n",
      "600:\ttest: 0.7405460\tbest: 0.7409809 (435)\ttotal: 28.8s\tremaining: 1m 32s\n"
     ]
    },
    {
     "name": "stderr",
     "output_type": "stream",
     "text": [
      "[I 2025-02-25 00:48:09,290] Trial 2 finished with value: 0.7409808703961456 and parameters: {'iterations': 2535, 'depth': 4, 'learning_rate': 0.09275339199839054, 'l2_leaf_reg': 0.0008705394248343123}. Best is trial 2 with value: 0.7409808703961456.\n"
     ]
    },
    {
     "name": "stdout",
     "output_type": "stream",
     "text": [
      "Stopped by overfitting detector  (300 iterations wait)\n",
      "\n",
      "bestTest = 0.7409808704\n",
      "bestIteration = 435\n",
      "\n",
      "Shrink model to first 436 iterations.\n",
      "저장 완료\n",
      "0:\ttest: 0.7020597\tbest: 0.7020597 (0)\ttotal: 46.5ms\tremaining: 1m 48s\n",
      "300:\ttest: 0.7394758\tbest: 0.7394758 (300)\ttotal: 13.5s\tremaining: 1m 31s\n",
      "600:\ttest: 0.7406402\tbest: 0.7406402 (600)\ttotal: 28s\tremaining: 1m 20s\n",
      "900:\ttest: 0.7408909\tbest: 0.7409412 (824)\ttotal: 42.4s\tremaining: 1m 7s\n",
      "1200:\ttest: 0.7407996\tbest: 0.7409730 (1001)\ttotal: 57.1s\tremaining: 53.8s\n"
     ]
    },
    {
     "name": "stderr",
     "output_type": "stream",
     "text": [
      "[I 2025-02-25 00:49:11,486] Trial 3 finished with value: 0.7409729806602043 and parameters: {'iterations': 2334, 'depth': 4, 'learning_rate': 0.04657568321363276, 'l2_leaf_reg': 0.0008640473331457248}. Best is trial 2 with value: 0.7409808703961456.\n"
     ]
    },
    {
     "name": "stdout",
     "output_type": "stream",
     "text": [
      "Stopped by overfitting detector  (300 iterations wait)\n",
      "\n",
      "bestTest = 0.7409729807\n",
      "bestIteration = 1001\n",
      "\n",
      "Shrink model to first 1002 iterations.\n",
      "0:\ttest: 0.7272166\tbest: 0.7272166 (0)\ttotal: 108ms\tremaining: 3m 8s\n",
      "300:\ttest: 0.7374358\tbest: 0.7374390 (299)\ttotal: 36.3s\tremaining: 2m 53s\n",
      "600:\ttest: 0.7384627\tbest: 0.7385654 (541)\ttotal: 1m 14s\tremaining: 2m 20s\n",
      "900:\ttest: 0.7383661\tbest: 0.7386106 (722)\ttotal: 1m 52s\tremaining: 1m 45s\n"
     ]
    },
    {
     "name": "stderr",
     "output_type": "stream",
     "text": [
      "[I 2025-02-25 00:51:20,975] Trial 4 finished with value: 0.7386106023327776 and parameters: {'iterations': 1742, 'depth': 10, 'learning_rate': 0.012622767482095846, 'l2_leaf_reg': 0.00021158816350109617}. Best is trial 2 with value: 0.7409808703961456.\n"
     ]
    },
    {
     "name": "stdout",
     "output_type": "stream",
     "text": [
      "Stopped by overfitting detector  (300 iterations wait)\n",
      "\n",
      "bestTest = 0.7386106023\n",
      "bestIteration = 722\n",
      "\n",
      "Shrink model to first 723 iterations.\n",
      "0:\ttest: 0.7020597\tbest: 0.7020597 (0)\ttotal: 48.4ms\tremaining: 1m 40s\n",
      "300:\ttest: 0.7398059\tbest: 0.7398617 (282)\ttotal: 13.8s\tremaining: 1m 21s\n",
      "600:\ttest: 0.7400772\tbest: 0.7401756 (508)\ttotal: 28.2s\tremaining: 1m 9s\n",
      "900:\ttest: 0.7398277\tbest: 0.7401770 (669)\ttotal: 42.9s\tremaining: 56.3s\n"
     ]
    },
    {
     "name": "stderr",
     "output_type": "stream",
     "text": [
      "[I 2025-02-25 00:52:07,494] Trial 5 finished with value: 0.7401769948498488 and parameters: {'iterations': 2082, 'depth': 4, 'learning_rate': 0.06995196593094148, 'l2_leaf_reg': 0.0018080296485396804}. Best is trial 2 with value: 0.7409808703961456.\n"
     ]
    },
    {
     "name": "stdout",
     "output_type": "stream",
     "text": [
      "Stopped by overfitting detector  (300 iterations wait)\n",
      "\n",
      "bestTest = 0.7401769948\n",
      "bestIteration = 669\n",
      "\n",
      "Shrink model to first 670 iterations.\n",
      "0:\ttest: 0.7058331\tbest: 0.7058331 (0)\ttotal: 54.1ms\tremaining: 1m 48s\n",
      "300:\ttest: 0.7405333\tbest: 0.7405333 (300)\ttotal: 16.8s\tremaining: 1m 34s\n",
      "600:\ttest: 0.7409200\tbest: 0.7409621 (463)\ttotal: 34.6s\tremaining: 1m 20s\n",
      "900:\ttest: 0.7412129\tbest: 0.7412256 (892)\ttotal: 52.8s\tremaining: 1m 4s\n"
     ]
    },
    {
     "name": "stderr",
     "output_type": "stream",
     "text": [
      "[I 2025-02-25 00:53:18,118] Trial 6 finished with value: 0.7412255633892872 and parameters: {'iterations': 1997, 'depth': 5, 'learning_rate': 0.07985155992831598, 'l2_leaf_reg': 62.52181000710482}. Best is trial 6 with value: 0.7412255633892872.\n"
     ]
    },
    {
     "name": "stdout",
     "output_type": "stream",
     "text": [
      "Stopped by overfitting detector  (300 iterations wait)\n",
      "\n",
      "bestTest = 0.7412255634\n",
      "bestIteration = 892\n",
      "\n",
      "Shrink model to first 893 iterations.\n",
      "저장 완료\n",
      "0:\ttest: 0.7203908\tbest: 0.7203908 (0)\ttotal: 68.2ms\tremaining: 2m 11s\n",
      "300:\ttest: 0.7398430\tbest: 0.7405819 (172)\ttotal: 24s\tremaining: 2m 9s\n"
     ]
    },
    {
     "name": "stderr",
     "output_type": "stream",
     "text": [
      "[I 2025-02-25 00:53:56,471] Trial 7 finished with value: 0.7405819245283981 and parameters: {'iterations': 1927, 'depth': 7, 'learning_rate': 0.0941937211034094, 'l2_leaf_reg': 0.05654822767791934}. Best is trial 6 with value: 0.7412255633892872.\n"
     ]
    },
    {
     "name": "stdout",
     "output_type": "stream",
     "text": [
      "Stopped by overfitting detector  (300 iterations wait)\n",
      "\n",
      "bestTest = 0.7405819245\n",
      "bestIteration = 172\n",
      "\n",
      "Shrink model to first 173 iterations.\n",
      "0:\ttest: 0.7203906\tbest: 0.7203906 (0)\ttotal: 68.3ms\tremaining: 2m 9s\n",
      "300:\ttest: 0.7409182\tbest: 0.7409862 (291)\ttotal: 22.6s\tremaining: 2m\n",
      "600:\ttest: 0.7410555\tbest: 0.7412382 (424)\ttotal: 47.3s\tremaining: 1m 42s\n"
     ]
    },
    {
     "name": "stderr",
     "output_type": "stream",
     "text": [
      "[I 2025-02-25 00:54:54,337] Trial 8 finished with value: 0.7412381504365613 and parameters: {'iterations': 1904, 'depth': 7, 'learning_rate': 0.05155602859187331, 'l2_leaf_reg': 1.299974533316308}. Best is trial 8 with value: 0.7412381504365613.\n"
     ]
    },
    {
     "name": "stdout",
     "output_type": "stream",
     "text": [
      "Stopped by overfitting detector  (300 iterations wait)\n",
      "\n",
      "bestTest = 0.7412381504\n",
      "bestIteration = 424\n",
      "\n",
      "Shrink model to first 425 iterations.\n",
      "저장 완료\n",
      "0:\ttest: 0.7205421\tbest: 0.7205421 (0)\ttotal: 61.6ms\tremaining: 2m 42s\n",
      "300:\ttest: 0.7400631\tbest: 0.7400631 (300)\ttotal: 19.3s\tremaining: 2m 29s\n",
      "600:\ttest: 0.7412886\tbest: 0.7413561 (556)\ttotal: 40.4s\tremaining: 2m 16s\n"
     ]
    },
    {
     "name": "stderr",
     "output_type": "stream",
     "text": [
      "[I 2025-02-25 00:55:52,886] Trial 9 finished with value: 0.7413560597011672 and parameters: {'iterations': 2639, 'depth': 6, 'learning_rate': 0.03968704290444751, 'l2_leaf_reg': 0.30557194377967184}. Best is trial 9 with value: 0.7413560597011672.\n"
     ]
    },
    {
     "name": "stdout",
     "output_type": "stream",
     "text": [
      "Stopped by overfitting detector  (300 iterations wait)\n",
      "\n",
      "bestTest = 0.7413560597\n",
      "bestIteration = 556\n",
      "\n",
      "Shrink model to first 557 iterations.\n",
      "저장 완료\n",
      "0:\ttest: 0.7205421\tbest: 0.7205421 (0)\ttotal: 60.7ms\tremaining: 2m 58s\n",
      "300:\ttest: 0.7398618\tbest: 0.7398775 (293)\ttotal: 19.4s\tremaining: 2m 50s\n",
      "600:\ttest: 0.7408346\tbest: 0.7408415 (594)\ttotal: 40s\tremaining: 2m 35s\n",
      "900:\ttest: 0.7407958\tbest: 0.7409104 (674)\ttotal: 1m 1s\tremaining: 2m 19s\n"
     ]
    },
    {
     "name": "stderr",
     "output_type": "stream",
     "text": [
      "[I 2025-02-25 00:56:59,687] Trial 10 finished with value: 0.7409103591073469 and parameters: {'iterations': 2945, 'depth': 6, 'learning_rate': 0.032580115422505045, 'l2_leaf_reg': 0.05588195113566891}. Best is trial 9 with value: 0.7413560597011672.\n"
     ]
    },
    {
     "name": "stdout",
     "output_type": "stream",
     "text": [
      "Stopped by overfitting detector  (300 iterations wait)\n",
      "\n",
      "bestTest = 0.7409103591\n",
      "bestIteration = 674\n",
      "\n",
      "Shrink model to first 675 iterations.\n",
      "0:\ttest: 0.7229789\tbest: 0.7229789 (0)\ttotal: 78.2ms\tremaining: 3m 34s\n",
      "300:\ttest: 0.7409474\tbest: 0.7409562 (297)\ttotal: 25.8s\tremaining: 3m 29s\n",
      "600:\ttest: 0.7407474\tbest: 0.7411766 (357)\ttotal: 54.8s\tremaining: 3m 15s\n"
     ]
    },
    {
     "name": "stderr",
     "output_type": "stream",
     "text": [
      "[I 2025-02-25 00:58:00,097] Trial 11 finished with value: 0.7411765771425305 and parameters: {'iterations': 2742, 'depth': 8, 'learning_rate': 0.05038072346939034, 'l2_leaf_reg': 1.9458284937024315}. Best is trial 9 with value: 0.7413560597011672.\n"
     ]
    },
    {
     "name": "stdout",
     "output_type": "stream",
     "text": [
      "Stopped by overfitting detector  (300 iterations wait)\n",
      "\n",
      "bestTest = 0.7411765771\n",
      "bestIteration = 357\n",
      "\n",
      "Shrink model to first 358 iterations.\n",
      "0:\ttest: 0.7203907\tbest: 0.7203907 (0)\ttotal: 69.6ms\tremaining: 1m 48s\n",
      "300:\ttest: 0.7400528\tbest: 0.7400613 (298)\ttotal: 21.9s\tremaining: 1m 31s\n",
      "600:\ttest: 0.7410085\tbest: 0.7410181 (598)\ttotal: 45.9s\tremaining: 1m 13s\n",
      "900:\ttest: 0.7408899\tbest: 0.7410588 (613)\ttotal: 1m 11s\tremaining: 52.4s\n"
     ]
    },
    {
     "name": "stderr",
     "output_type": "stream",
     "text": [
      "[I 2025-02-25 00:59:12,515] Trial 12 finished with value: 0.741058790968923 and parameters: {'iterations': 1565, 'depth': 7, 'learning_rate': 0.03421727225236856, 'l2_leaf_reg': 0.5279524076347274}. Best is trial 9 with value: 0.7413560597011672.\n"
     ]
    },
    {
     "name": "stdout",
     "output_type": "stream",
     "text": [
      "Stopped by overfitting detector  (300 iterations wait)\n",
      "\n",
      "bestTest = 0.741058791\n",
      "bestIteration = 613\n",
      "\n",
      "Shrink model to first 614 iterations.\n",
      "0:\ttest: 0.7229799\tbest: 0.7229799 (0)\ttotal: 79.5ms\tremaining: 3m 28s\n",
      "300:\ttest: 0.7406651\tbest: 0.7408621 (255)\ttotal: 26.5s\tremaining: 3m 23s\n"
     ]
    },
    {
     "name": "stderr",
     "output_type": "stream",
     "text": [
      "[I 2025-02-25 01:00:03,333] Trial 13 finished with value: 0.7408621431720006 and parameters: {'iterations': 2621, 'depth': 8, 'learning_rate': 0.06513774410228096, 'l2_leaf_reg': 0.4450207665125896}. Best is trial 9 with value: 0.7413560597011672.\n"
     ]
    },
    {
     "name": "stdout",
     "output_type": "stream",
     "text": [
      "Stopped by overfitting detector  (300 iterations wait)\n",
      "\n",
      "bestTest = 0.7408621432\n",
      "bestIteration = 255\n",
      "\n",
      "Shrink model to first 256 iterations.\n",
      "0:\ttest: 0.7205421\tbest: 0.7205421 (0)\ttotal: 64.7ms\tremaining: 3m 8s\n",
      "300:\ttest: 0.7395747\tbest: 0.7395747 (300)\ttotal: 19.4s\tremaining: 2m 48s\n",
      "600:\ttest: 0.7406534\tbest: 0.7407275 (562)\ttotal: 40.2s\tremaining: 2m 35s\n",
      "900:\ttest: 0.7407041\tbest: 0.7408085 (710)\ttotal: 1m 1s\tremaining: 2m 17s\n"
     ]
    },
    {
     "name": "stderr",
     "output_type": "stream",
     "text": [
      "[I 2025-02-25 01:01:12,804] Trial 14 finished with value: 0.7408085429981357 and parameters: {'iterations': 2922, 'depth': 6, 'learning_rate': 0.032542601115978974, 'l2_leaf_reg': 0.0118311002022484}. Best is trial 9 with value: 0.7413560597011672.\n"
     ]
    },
    {
     "name": "stdout",
     "output_type": "stream",
     "text": [
      "Stopped by overfitting detector  (300 iterations wait)\n",
      "\n",
      "bestTest = 0.740808543\n",
      "bestIteration = 710\n",
      "\n",
      "Shrink model to first 711 iterations.\n",
      "0:\ttest: 0.7229742\tbest: 0.7229742 (0)\ttotal: 78.2ms\tremaining: 2m 16s\n",
      "300:\ttest: 0.7406276\tbest: 0.7407235 (290)\ttotal: 26s\tremaining: 2m 4s\n",
      "600:\ttest: 0.7407665\tbest: 0.7409539 (506)\ttotal: 54.4s\tremaining: 1m 43s\n"
     ]
    },
    {
     "name": "stderr",
     "output_type": "stream",
     "text": [
      "[I 2025-02-25 01:02:27,466] Trial 15 finished with value: 0.740953937291521 and parameters: {'iterations': 1748, 'depth': 8, 'learning_rate': 0.05947895129861792, 'l2_leaf_reg': 4.722389127363701}. Best is trial 9 with value: 0.7413560597011672.\n"
     ]
    },
    {
     "name": "stdout",
     "output_type": "stream",
     "text": [
      "Stopped by overfitting detector  (300 iterations wait)\n",
      "\n",
      "bestTest = 0.7409539373\n",
      "bestIteration = 506\n",
      "\n",
      "Shrink model to first 507 iterations.\n",
      "0:\ttest: 0.7205421\tbest: 0.7205421 (0)\ttotal: 60.7ms\tremaining: 2m 29s\n",
      "300:\ttest: 0.7404476\tbest: 0.7404476 (300)\ttotal: 19.4s\tremaining: 2m 20s\n",
      "600:\ttest: 0.7413007\tbest: 0.7413568 (510)\ttotal: 40.6s\tremaining: 2m 6s\n",
      "900:\ttest: 0.7409934\tbest: 0.7414391 (670)\ttotal: 1m 2s\tremaining: 1m 48s\n"
     ]
    },
    {
     "name": "stderr",
     "output_type": "stream",
     "text": [
      "[I 2025-02-25 01:03:35,099] Trial 16 finished with value: 0.7414391342131756 and parameters: {'iterations': 2470, 'depth': 6, 'learning_rate': 0.04499426597359756, 'l2_leaf_reg': 0.3606784305013277}. Best is trial 16 with value: 0.7414391342131756.\n"
     ]
    },
    {
     "name": "stdout",
     "output_type": "stream",
     "text": [
      "Stopped by overfitting detector  (300 iterations wait)\n",
      "\n",
      "bestTest = 0.7414391342\n",
      "bestIteration = 670\n",
      "\n",
      "Shrink model to first 671 iterations.\n",
      "저장 완료\n",
      "0:\ttest: 0.7205421\tbest: 0.7205421 (0)\ttotal: 61.7ms\tremaining: 2m 35s\n",
      "300:\ttest: 0.7387976\tbest: 0.7387980 (299)\ttotal: 18.9s\tremaining: 2m 19s\n",
      "600:\ttest: 0.7403603\tbest: 0.7403974 (589)\ttotal: 38.8s\tremaining: 2m 4s\n",
      "900:\ttest: 0.7407708\tbest: 0.7408056 (830)\ttotal: 1m\tremaining: 1m 48s\n",
      "1200:\ttest: 0.7407973\tbest: 0.7408484 (1180)\ttotal: 1m 21s\tremaining: 1m 30s\n"
     ]
    },
    {
     "name": "stderr",
     "output_type": "stream",
     "text": [
      "[I 2025-02-25 01:05:17,046] Trial 17 finished with value: 0.7408483966869335 and parameters: {'iterations': 2529, 'depth': 6, 'learning_rate': 0.022992108537592242, 'l2_leaf_reg': 0.01727718624367702}. Best is trial 16 with value: 0.7414391342131756.\n"
     ]
    },
    {
     "name": "stdout",
     "output_type": "stream",
     "text": [
      "Stopped by overfitting detector  (300 iterations wait)\n",
      "\n",
      "bestTest = 0.7408483967\n",
      "bestIteration = 1180\n",
      "\n",
      "Shrink model to first 1181 iterations.\n",
      "0:\ttest: 0.7058136\tbest: 0.7058136 (0)\ttotal: 56.1ms\tremaining: 2m 32s\n",
      "300:\ttest: 0.7394516\tbest: 0.7394516 (300)\ttotal: 16.4s\tremaining: 2m 11s\n",
      "600:\ttest: 0.7408067\tbest: 0.7408067 (600)\ttotal: 34.1s\tremaining: 1m 59s\n",
      "900:\ttest: 0.7408704\tbest: 0.7409378 (650)\ttotal: 52s\tremaining: 1m 44s\n"
     ]
    },
    {
     "name": "stderr",
     "output_type": "stream",
     "text": [
      "[I 2025-02-25 01:06:12,266] Trial 18 finished with value: 0.740937840165449 and parameters: {'iterations': 2714, 'depth': 5, 'learning_rate': 0.04013382538222858, 'l2_leaf_reg': 0.18325846027435616}. Best is trial 16 with value: 0.7414391342131756.\n"
     ]
    },
    {
     "name": "stdout",
     "output_type": "stream",
     "text": [
      "Stopped by overfitting detector  (300 iterations wait)\n",
      "\n",
      "bestTest = 0.7409378402\n",
      "bestIteration = 650\n",
      "\n",
      "Shrink model to first 651 iterations.\n",
      "0:\ttest: 0.7058334\tbest: 0.7058334 (0)\ttotal: 53.8ms\tremaining: 2m 9s\n",
      "300:\ttest: 0.7386729\tbest: 0.7386729 (300)\ttotal: 16.5s\tremaining: 1m 55s\n",
      "600:\ttest: 0.7402487\tbest: 0.7402487 (600)\ttotal: 33.5s\tremaining: 1m 40s\n",
      "900:\ttest: 0.7406601\tbest: 0.7406781 (889)\ttotal: 51.1s\tremaining: 1m 25s\n",
      "1200:\ttest: 0.7408796\tbest: 0.7408842 (1138)\ttotal: 1m 8s\tremaining: 1m 9s\n",
      "1500:\ttest: 0.7410614\tbest: 0.7410620 (1472)\ttotal: 1m 26s\tremaining: 52.6s\n",
      "1800:\ttest: 0.7411429\tbest: 0.7411436 (1799)\ttotal: 1m 44s\tremaining: 35.5s\n",
      "2100:\ttest: 0.7411671\tbest: 0.7411757 (2016)\ttotal: 2m 2s\tremaining: 18.2s\n",
      "2400:\ttest: 0.7412375\tbest: 0.7412375 (2400)\ttotal: 2m 21s\tremaining: 646ms\n"
     ]
    },
    {
     "name": "stderr",
     "output_type": "stream",
     "text": [
      "[I 2025-02-25 01:08:34,345] Trial 19 finished with value: 0.7412377493981466 and parameters: {'iterations': 2412, 'depth': 5, 'learning_rate': 0.02422108148323666, 'l2_leaf_reg': 26.173311383243348}. Best is trial 16 with value: 0.7414391342131756.\n"
     ]
    },
    {
     "name": "stdout",
     "output_type": "stream",
     "text": [
      "2411:\ttest: 0.7412314\tbest: 0.7412377 (2404)\ttotal: 2m 21s\tremaining: 0us\n",
      "\n",
      "bestTest = 0.7412377494\n",
      "bestIteration = 2404\n",
      "\n",
      "Shrink model to first 2405 iterations.\n",
      "0:\ttest: 0.7205421\tbest: 0.7205421 (0)\ttotal: 62.5ms\tremaining: 2m 18s\n",
      "300:\ttest: 0.7404192\tbest: 0.7406563 (246)\ttotal: 20.4s\tremaining: 2m 9s\n"
     ]
    },
    {
     "name": "stderr",
     "output_type": "stream",
     "text": [
      "[I 2025-02-25 01:09:12,520] Trial 20 finished with value: 0.7406562675208621 and parameters: {'iterations': 2212, 'depth': 6, 'learning_rate': 0.07678055128538461, 'l2_leaf_reg': 0.012990508780008181}. Best is trial 16 with value: 0.7414391342131756.\n"
     ]
    },
    {
     "name": "stdout",
     "output_type": "stream",
     "text": [
      "Stopped by overfitting detector  (300 iterations wait)\n",
      "\n",
      "bestTest = 0.7406562675\n",
      "bestIteration = 246\n",
      "\n",
      "Shrink model to first 247 iterations.\n",
      "0:\ttest: 0.7203905\tbest: 0.7203905 (0)\ttotal: 69.4ms\tremaining: 3m 13s\n",
      "300:\ttest: 0.7405330\tbest: 0.7405371 (299)\ttotal: 22.3s\tremaining: 3m 4s\n",
      "600:\ttest: 0.7406715\tbest: 0.7408030 (494)\ttotal: 47s\tremaining: 2m 50s\n"
     ]
    },
    {
     "name": "stderr",
     "output_type": "stream",
     "text": [
      "[I 2025-02-25 01:10:16,346] Trial 21 finished with value: 0.7408030316979413 and parameters: {'iterations': 2786, 'depth': 7, 'learning_rate': 0.0518710297206485, 'l2_leaf_reg': 1.4420330189886643}. Best is trial 16 with value: 0.7414391342131756.\n"
     ]
    },
    {
     "name": "stdout",
     "output_type": "stream",
     "text": [
      "Stopped by overfitting detector  (300 iterations wait)\n",
      "\n",
      "bestTest = 0.7408030317\n",
      "bestIteration = 494\n",
      "\n",
      "Shrink model to first 495 iterations.\n",
      "0:\ttest: 0.7268233\tbest: 0.7268233 (0)\ttotal: 89.6ms\tremaining: 3m 40s\n",
      "300:\ttest: 0.7404747\tbest: 0.7405059 (297)\ttotal: 28.8s\tremaining: 3m 26s\n",
      "600:\ttest: 0.7399164\tbest: 0.7405524 (358)\ttotal: 1m 1s\tremaining: 3m 11s\n"
     ]
    },
    {
     "name": "stderr",
     "output_type": "stream",
     "text": [
      "[I 2025-02-25 01:11:24,707] Trial 22 finished with value: 0.7405524263661903 and parameters: {'iterations': 2462, 'depth': 9, 'learning_rate': 0.04504888126578593, 'l2_leaf_reg': 0.4123065272019256}. Best is trial 16 with value: 0.7414391342131756.\n"
     ]
    },
    {
     "name": "stdout",
     "output_type": "stream",
     "text": [
      "Stopped by overfitting detector  (300 iterations wait)\n",
      "\n",
      "bestTest = 0.7405524264\n",
      "bestIteration = 358\n",
      "\n",
      "Shrink model to first 359 iterations.\n",
      "0:\ttest: 0.7203904\tbest: 0.7203904 (0)\ttotal: 67.6ms\tremaining: 2m\n",
      "300:\ttest: 0.7408063\tbest: 0.7408063 (300)\ttotal: 22.9s\tremaining: 1m 53s\n",
      "600:\ttest: 0.7410281\tbest: 0.7411352 (512)\ttotal: 47.6s\tremaining: 1m 34s\n"
     ]
    },
    {
     "name": "stderr",
     "output_type": "stream",
     "text": [
      "[I 2025-02-25 01:12:30,108] Trial 23 finished with value: 0.7411351947429439 and parameters: {'iterations': 1790, 'depth': 7, 'learning_rate': 0.05720809779669189, 'l2_leaf_reg': 2.1046968968560367}. Best is trial 16 with value: 0.7414391342131756.\n"
     ]
    },
    {
     "name": "stdout",
     "output_type": "stream",
     "text": [
      "Stopped by overfitting detector  (300 iterations wait)\n",
      "\n",
      "bestTest = 0.7411351947\n",
      "bestIteration = 512\n",
      "\n",
      "Shrink model to first 513 iterations.\n",
      "0:\ttest: 0.7205421\tbest: 0.7205421 (0)\ttotal: 61.4ms\tremaining: 2m 9s\n",
      "300:\ttest: 0.7403117\tbest: 0.7403117 (300)\ttotal: 19.5s\tremaining: 1m 57s\n",
      "600:\ttest: 0.7408934\tbest: 0.7409283 (547)\ttotal: 40.8s\tremaining: 1m 42s\n",
      "900:\ttest: 0.7407218\tbest: 0.7409467 (689)\ttotal: 1m 2s\tremaining: 1m 23s\n"
     ]
    },
    {
     "name": "stderr",
     "output_type": "stream",
     "text": [
      "[I 2025-02-25 01:13:39,683] Trial 24 finished with value: 0.7409467106587013 and parameters: {'iterations': 2112, 'depth': 6, 'learning_rate': 0.04149861656954927, 'l2_leaf_reg': 0.14286929338183368}. Best is trial 16 with value: 0.7414391342131756.\n"
     ]
    },
    {
     "name": "stdout",
     "output_type": "stream",
     "text": [
      "Stopped by overfitting detector  (300 iterations wait)\n",
      "\n",
      "bestTest = 0.7409467107\n",
      "bestIteration = 689\n",
      "\n",
      "Shrink model to first 690 iterations.\n",
      "0:\ttest: 0.7058128\tbest: 0.7058128 (0)\ttotal: 53.2ms\tremaining: 2m 19s\n",
      "300:\ttest: 0.7404273\tbest: 0.7404528 (298)\ttotal: 17s\tremaining: 2m 11s\n",
      "600:\ttest: 0.7411315\tbest: 0.7411791 (573)\ttotal: 34.9s\tremaining: 1m 57s\n"
     ]
    },
    {
     "name": "stderr",
     "output_type": "stream",
     "text": [
      "[I 2025-02-25 01:14:32,506] Trial 25 finished with value: 0.7411790667572437 and parameters: {'iterations': 2623, 'depth': 5, 'learning_rate': 0.0633290210296596, 'l2_leaf_reg': 8.754309211896855}. Best is trial 16 with value: 0.7414391342131756.\n"
     ]
    },
    {
     "name": "stdout",
     "output_type": "stream",
     "text": [
      "Stopped by overfitting detector  (300 iterations wait)\n",
      "\n",
      "bestTest = 0.7411790668\n",
      "bestIteration = 573\n",
      "\n",
      "Shrink model to first 574 iterations.\n",
      "0:\ttest: 0.7229798\tbest: 0.7229798 (0)\ttotal: 134ms\tremaining: 6m 17s\n",
      "300:\ttest: 0.7395917\tbest: 0.7395968 (294)\ttotal: 25.8s\tremaining: 3m 35s\n",
      "600:\ttest: 0.7407119\tbest: 0.7407119 (600)\ttotal: 51.6s\tremaining: 3m 10s\n",
      "900:\ttest: 0.7407953\tbest: 0.7408954 (727)\ttotal: 1m 20s\tremaining: 2m 51s\n"
     ]
    },
    {
     "name": "stderr",
     "output_type": "stream",
     "text": [
      "[I 2025-02-25 01:16:05,172] Trial 26 finished with value: 0.7408954174483905 and parameters: {'iterations': 2820, 'depth': 8, 'learning_rate': 0.02262957131029208, 'l2_leaf_reg': 0.8191130775375889}. Best is trial 16 with value: 0.7414391342131756.\n"
     ]
    },
    {
     "name": "stdout",
     "output_type": "stream",
     "text": [
      "Stopped by overfitting detector  (300 iterations wait)\n",
      "\n",
      "bestTest = 0.7408954174\n",
      "bestIteration = 727\n",
      "\n",
      "Shrink model to first 728 iterations.\n",
      "0:\ttest: 0.7203908\tbest: 0.7203908 (0)\ttotal: 70ms\tremaining: 1m 53s\n",
      "300:\ttest: 0.7397737\tbest: 0.7397807 (299)\ttotal: 21.9s\tremaining: 1m 35s\n",
      "600:\ttest: 0.7402914\tbest: 0.7404476 (451)\ttotal: 46.2s\tremaining: 1m 18s\n"
     ]
    },
    {
     "name": "stderr",
     "output_type": "stream",
     "text": [
      "[I 2025-02-25 01:17:04,258] Trial 27 finished with value: 0.7404476123955621 and parameters: {'iterations': 1617, 'depth': 7, 'learning_rate': 0.03579918379077985, 'l2_leaf_reg': 0.050524605467255276}. Best is trial 16 with value: 0.7414391342131756.\n"
     ]
    },
    {
     "name": "stdout",
     "output_type": "stream",
     "text": [
      "Stopped by overfitting detector  (300 iterations wait)\n",
      "\n",
      "bestTest = 0.7404476124\n",
      "bestIteration = 451\n",
      "\n",
      "Shrink model to first 452 iterations.\n",
      "0:\ttest: 0.7268233\tbest: 0.7268233 (0)\ttotal: 90.7ms\tremaining: 2m 51s\n",
      "300:\ttest: 0.7394081\tbest: 0.7397550 (250)\ttotal: 29s\tremaining: 2m 33s\n"
     ]
    },
    {
     "name": "stderr",
     "output_type": "stream",
     "text": [
      "[I 2025-02-25 01:18:00,713] Trial 28 finished with value: 0.739754975375884 and parameters: {'iterations': 1891, 'depth': 9, 'learning_rate': 0.054739269916572714, 'l2_leaf_reg': 0.15213939094456283}. Best is trial 16 with value: 0.7414391342131756.\n"
     ]
    },
    {
     "name": "stdout",
     "output_type": "stream",
     "text": [
      "Stopped by overfitting detector  (300 iterations wait)\n",
      "\n",
      "bestTest = 0.7397549754\n",
      "bestIteration = 250\n",
      "\n",
      "Shrink model to first 251 iterations.\n",
      "0:\ttest: 0.7205563\tbest: 0.7205563 (0)\ttotal: 61.7ms\tremaining: 2m 24s\n",
      "300:\ttest: 0.7392786\tbest: 0.7392809 (297)\ttotal: 18.8s\tremaining: 2m 6s\n",
      "600:\ttest: 0.7406618\tbest: 0.7406618 (600)\ttotal: 38.8s\tremaining: 1m 51s\n",
      "900:\ttest: 0.7411308\tbest: 0.7411314 (897)\ttotal: 59.8s\tremaining: 1m 35s\n",
      "1200:\ttest: 0.7411764\tbest: 0.7411849 (1045)\ttotal: 1m 21s\tremaining: 1m 16s\n",
      "1500:\ttest: 0.7412308\tbest: 0.7412390 (1326)\ttotal: 1m 42s\tremaining: 56.9s\n"
     ]
    },
    {
     "name": "stderr",
     "output_type": "stream",
     "text": [
      "[I 2025-02-25 01:19:52,179] Trial 29 finished with value: 0.7412390478096478 and parameters: {'iterations': 2336, 'depth': 6, 'learning_rate': 0.02641950626531359, 'l2_leaf_reg': 7.3194928918531454}. Best is trial 16 with value: 0.7414391342131756.\n"
     ]
    },
    {
     "name": "stdout",
     "output_type": "stream",
     "text": [
      "Stopped by overfitting detector  (300 iterations wait)\n",
      "\n",
      "bestTest = 0.7412390478\n",
      "bestIteration = 1326\n",
      "\n",
      "Shrink model to first 1327 iterations.\n",
      "0:\ttest: 0.7058334\tbest: 0.7058334 (0)\ttotal: 53.6ms\tremaining: 2m 3s\n",
      "300:\ttest: 0.7388335\tbest: 0.7388351 (299)\ttotal: 16.3s\tremaining: 1m 48s\n",
      "600:\ttest: 0.7403832\tbest: 0.7403832 (598)\ttotal: 33.1s\tremaining: 1m 34s\n",
      "900:\ttest: 0.7408237\tbest: 0.7408237 (899)\ttotal: 50.5s\tremaining: 1m 18s\n",
      "1200:\ttest: 0.7411226\tbest: 0.7411226 (1200)\ttotal: 1m 8s\tremaining: 1m 2s\n",
      "1500:\ttest: 0.7412928\tbest: 0.7412928 (1500)\ttotal: 1m 26s\tremaining: 46.4s\n",
      "1800:\ttest: 0.7413242\tbest: 0.7413276 (1551)\ttotal: 1m 44s\tremaining: 29.4s\n",
      "2100:\ttest: 0.7413303\tbest: 0.7413685 (2046)\ttotal: 2m 2s\tremaining: 12.1s\n"
     ]
    },
    {
     "name": "stderr",
     "output_type": "stream",
     "text": [
      "[I 2025-02-25 01:22:07,460] Trial 30 finished with value: 0.7413684839506689 and parameters: {'iterations': 2309, 'depth': 5, 'learning_rate': 0.026827869116241847, 'l2_leaf_reg': 24.46302903280327}. Best is trial 16 with value: 0.7414391342131756.\n"
     ]
    },
    {
     "name": "stdout",
     "output_type": "stream",
     "text": [
      "2308:\ttest: 0.7413480\tbest: 0.7413685 (2046)\ttotal: 2m 14s\tremaining: 0us\n",
      "\n",
      "bestTest = 0.741368484\n",
      "bestIteration = 2046\n",
      "\n",
      "Shrink model to first 2047 iterations.\n",
      "0:\ttest: 0.7058384\tbest: 0.7058384 (0)\ttotal: 52.8ms\tremaining: 2m 1s\n",
      "300:\ttest: 0.7372280\tbest: 0.7372280 (300)\ttotal: 16.2s\tremaining: 1m 47s\n",
      "600:\ttest: 0.7391861\tbest: 0.7391861 (599)\ttotal: 33.2s\tremaining: 1m 34s\n",
      "900:\ttest: 0.7399906\tbest: 0.7399906 (899)\ttotal: 50.2s\tremaining: 1m 18s\n",
      "1200:\ttest: 0.7403957\tbest: 0.7403957 (1198)\ttotal: 1m 7s\tremaining: 1m 2s\n",
      "1500:\ttest: 0.7406689\tbest: 0.7406703 (1495)\ttotal: 1m 25s\tremaining: 45.8s\n",
      "1800:\ttest: 0.7408503\tbest: 0.7408635 (1787)\ttotal: 1m 43s\tremaining: 28.9s\n",
      "2100:\ttest: 0.7409408\tbest: 0.7409415 (2082)\ttotal: 2m\tremaining: 11.8s\n"
     ]
    },
    {
     "name": "stderr",
     "output_type": "stream",
     "text": [
      "[I 2025-02-25 01:24:20,509] Trial 31 finished with value: 0.7409809220149514 and parameters: {'iterations': 2306, 'depth': 5, 'learning_rate': 0.01692675790264013, 'l2_leaf_reg': 23.882694427061526}. Best is trial 16 with value: 0.7414391342131756.\n"
     ]
    },
    {
     "name": "stdout",
     "output_type": "stream",
     "text": [
      "2305:\ttest: 0.7409699\tbest: 0.7409809 (2286)\ttotal: 2m 12s\tremaining: 0us\n",
      "\n",
      "bestTest = 0.740980922\n",
      "bestIteration = 2286\n",
      "\n",
      "Shrink model to first 2287 iterations.\n",
      "0:\ttest: 0.7205299\tbest: 0.7205299 (0)\ttotal: 61.5ms\tremaining: 2m 18s\n",
      "300:\ttest: 0.7396345\tbest: 0.7396345 (300)\ttotal: 19.1s\tremaining: 2m 4s\n",
      "600:\ttest: 0.7406105\tbest: 0.7406105 (599)\ttotal: 38.3s\tremaining: 1m 45s\n",
      "900:\ttest: 0.7410271\tbest: 0.7410282 (899)\ttotal: 58.7s\tremaining: 1m 28s\n",
      "1200:\ttest: 0.7412288\tbest: 0.7412403 (1160)\ttotal: 1m 18s\tremaining: 1m 9s\n",
      "1500:\ttest: 0.7413848\tbest: 0.7413848 (1500)\ttotal: 1m 39s\tremaining: 50.2s\n",
      "1800:\ttest: 0.7414372\tbest: 0.7414439 (1739)\ttotal: 2m\tremaining: 30.5s\n",
      "2100:\ttest: 0.7414729\tbest: 0.7414740 (2086)\ttotal: 2m 21s\tremaining: 10.6s\n"
     ]
    },
    {
     "name": "stderr",
     "output_type": "stream",
     "text": [
      "[I 2025-02-25 01:26:53,180] Trial 32 finished with value: 0.7415443253981543 and parameters: {'iterations': 2258, 'depth': 6, 'learning_rate': 0.027694777099947766, 'l2_leaf_reg': 87.0680682791675}. Best is trial 32 with value: 0.7415443253981543.\n"
     ]
    },
    {
     "name": "stdout",
     "output_type": "stream",
     "text": [
      "2257:\ttest: 0.7415443\tbest: 0.7415443 (2255)\ttotal: 2m 32s\tremaining: 0us\n",
      "\n",
      "bestTest = 0.7415443254\n",
      "bestIteration = 2255\n",
      "\n",
      "Shrink model to first 2256 iterations.\n",
      "저장 완료\n",
      "0:\ttest: 0.7058335\tbest: 0.7058335 (0)\ttotal: 55.5ms\tremaining: 2m 17s\n",
      "300:\ttest: 0.7324377\tbest: 0.7324377 (300)\ttotal: 15.8s\tremaining: 1m 54s\n",
      "600:\ttest: 0.7359398\tbest: 0.7359398 (600)\ttotal: 31.6s\tremaining: 1m 38s\n",
      "900:\ttest: 0.7376610\tbest: 0.7376610 (900)\ttotal: 47.8s\tremaining: 1m 23s\n",
      "1200:\ttest: 0.7385327\tbest: 0.7385327 (1200)\ttotal: 1m 4s\tremaining: 1m 8s\n",
      "1500:\ttest: 0.7391013\tbest: 0.7391013 (1500)\ttotal: 1m 20s\tremaining: 52.6s\n",
      "1800:\ttest: 0.7395271\tbest: 0.7395271 (1800)\ttotal: 1m 37s\tremaining: 36.7s\n",
      "2100:\ttest: 0.7399318\tbest: 0.7399318 (2100)\ttotal: 1m 54s\tremaining: 20.5s\n",
      "2400:\ttest: 0.7401672\tbest: 0.7401672 (2399)\ttotal: 2m 11s\tremaining: 4.22s\n"
     ]
    },
    {
     "name": "stderr",
     "output_type": "stream",
     "text": [
      "[I 2025-02-25 01:29:09,608] Trial 33 finished with value: 0.7402170947206437 and parameters: {'iterations': 2478, 'depth': 5, 'learning_rate': 0.006101886111858596, 'l2_leaf_reg': 42.764369076253296}. Best is trial 32 with value: 0.7415443253981543.\n"
     ]
    },
    {
     "name": "stdout",
     "output_type": "stream",
     "text": [
      "2477:\ttest: 0.7402171\tbest: 0.7402171 (2477)\ttotal: 2m 16s\tremaining: 0us\n",
      "\n",
      "bestTest = 0.7402170947\n",
      "bestIteration = 2477\n",
      "\n",
      "0:\ttest: 0.7205259\tbest: 0.7205259 (0)\ttotal: 64.3ms\tremaining: 2m 48s\n",
      "300:\ttest: 0.7395784\tbest: 0.7395784 (300)\ttotal: 18.9s\tremaining: 2m 25s\n",
      "600:\ttest: 0.7407236\tbest: 0.7407279 (597)\ttotal: 38.2s\tremaining: 2m 8s\n",
      "900:\ttest: 0.7411198\tbest: 0.7411198 (900)\ttotal: 58.5s\tremaining: 1m 51s\n",
      "1200:\ttest: 0.7413170\tbest: 0.7413447 (1157)\ttotal: 1m 18s\tremaining: 1m 32s\n",
      "1500:\ttest: 0.7415115\tbest: 0.7415126 (1460)\ttotal: 1m 39s\tremaining: 1m 14s\n",
      "1800:\ttest: 0.7415576\tbest: 0.7415661 (1711)\ttotal: 2m\tremaining: 54.7s\n",
      "2100:\ttest: 0.7416922\tbest: 0.7416954 (2077)\ttotal: 2m 22s\tremaining: 35s\n",
      "2400:\ttest: 0.7417164\tbest: 0.7417467 (2302)\ttotal: 2m 43s\tremaining: 14.7s\n"
     ]
    },
    {
     "name": "stderr",
     "output_type": "stream",
     "text": [
      "[I 2025-02-25 01:32:08,434] Trial 34 finished with value: 0.7417466750877851 and parameters: {'iterations': 2617, 'depth': 6, 'learning_rate': 0.028598458149083638, 'l2_leaf_reg': 79.84130011156066}. Best is trial 34 with value: 0.7417466750877851.\n"
     ]
    },
    {
     "name": "stdout",
     "output_type": "stream",
     "text": [
      "Stopped by overfitting detector  (300 iterations wait)\n",
      "\n",
      "bestTest = 0.7417466751\n",
      "bestIteration = 2302\n",
      "\n",
      "Shrink model to first 2303 iterations.\n",
      "저장 완료\n",
      "0:\ttest: 0.7020597\tbest: 0.7020597 (0)\ttotal: 49.7ms\tremaining: 1m 52s\n",
      "300:\ttest: 0.7360842\tbest: 0.7360842 (300)\ttotal: 13.1s\tremaining: 1m 25s\n",
      "600:\ttest: 0.7384484\tbest: 0.7384484 (600)\ttotal: 27.5s\tremaining: 1m 15s\n",
      "900:\ttest: 0.7394250\tbest: 0.7394250 (900)\ttotal: 41.7s\tremaining: 1m 2s\n",
      "1200:\ttest: 0.7399235\tbest: 0.7399241 (1192)\ttotal: 55.8s\tremaining: 49.1s\n",
      "1500:\ttest: 0.7402158\tbest: 0.7402169 (1499)\ttotal: 1m 10s\tremaining: 35.5s\n",
      "1800:\ttest: 0.7404032\tbest: 0.7404042 (1779)\ttotal: 1m 24s\tremaining: 21.3s\n",
      "2100:\ttest: 0.7405156\tbest: 0.7405156 (2100)\ttotal: 1m 38s\tremaining: 7.33s\n"
     ]
    },
    {
     "name": "stderr",
     "output_type": "stream",
     "text": [
      "[I 2025-02-25 01:33:54,224] Trial 35 finished with value: 0.7405650015014322 and parameters: {'iterations': 2258, 'depth': 4, 'learning_rate': 0.016700470355342622, 'l2_leaf_reg': 88.28002203659814}. Best is trial 34 with value: 0.7417466750877851.\n"
     ]
    },
    {
     "name": "stdout",
     "output_type": "stream",
     "text": [
      "2257:\ttest: 0.7405637\tbest: 0.7405650 (2253)\ttotal: 1m 45s\tremaining: 0us\n",
      "\n",
      "bestTest = 0.7405650015\n",
      "bestIteration = 2253\n",
      "\n",
      "Shrink model to first 2254 iterations.\n",
      "0:\ttest: 0.7058128\tbest: 0.7058128 (0)\ttotal: 53.9ms\tremaining: 1m 56s\n",
      "300:\ttest: 0.7388581\tbest: 0.7388612 (299)\ttotal: 16.5s\tremaining: 1m 42s\n",
      "600:\ttest: 0.7403723\tbest: 0.7403815 (599)\ttotal: 34.2s\tremaining: 1m 29s\n",
      "900:\ttest: 0.7409630\tbest: 0.7409630 (900)\ttotal: 52.1s\tremaining: 1m 13s\n",
      "1200:\ttest: 0.7410232\tbest: 0.7410803 (1047)\ttotal: 1m 9s\tremaining: 56.3s\n"
     ]
    },
    {
     "name": "stderr",
     "output_type": "stream",
     "text": [
      "[I 2025-02-25 01:35:13,147] Trial 36 finished with value: 0.741080276304191 and parameters: {'iterations': 2169, 'depth': 5, 'learning_rate': 0.029066492223718637, 'l2_leaf_reg': 18.61860253365674}. Best is trial 34 with value: 0.7417466750877851.\n"
     ]
    },
    {
     "name": "stdout",
     "output_type": "stream",
     "text": [
      "Stopped by overfitting detector  (300 iterations wait)\n",
      "\n",
      "bestTest = 0.7410802763\n",
      "bestIteration = 1047\n",
      "\n",
      "Shrink model to first 1048 iterations.\n",
      "0:\ttest: 0.7020597\tbest: 0.7020597 (0)\ttotal: 47.1ms\tremaining: 1m 52s\n",
      "300:\ttest: 0.7357816\tbest: 0.7357829 (299)\ttotal: 13.1s\tremaining: 1m 30s\n",
      "600:\ttest: 0.7383362\tbest: 0.7383362 (600)\ttotal: 26.8s\tremaining: 1m 19s\n",
      "900:\ttest: 0.7395271\tbest: 0.7395271 (900)\ttotal: 41s\tremaining: 1m 7s\n",
      "1200:\ttest: 0.7400596\tbest: 0.7400596 (1200)\ttotal: 55.4s\tremaining: 54.4s\n",
      "1500:\ttest: 0.7404353\tbest: 0.7404358 (1499)\ttotal: 1m 9s\tremaining: 40.9s\n",
      "1800:\ttest: 0.7406612\tbest: 0.7406612 (1800)\ttotal: 1m 24s\tremaining: 27.1s\n",
      "2100:\ttest: 0.7407899\tbest: 0.7407955 (2093)\ttotal: 1m 39s\tremaining: 13.1s\n"
     ]
    },
    {
     "name": "stderr",
     "output_type": "stream",
     "text": [
      "[I 2025-02-25 01:37:06,158] Trial 37 finished with value: 0.7408361153818173 and parameters: {'iterations': 2379, 'depth': 4, 'learning_rate': 0.01619145625145554, 'l2_leaf_reg': 4.377674014323893}. Best is trial 34 with value: 0.7417466750877851.\n"
     ]
    },
    {
     "name": "stdout",
     "output_type": "stream",
     "text": [
      "2378:\ttest: 0.7408333\tbest: 0.7408361 (2363)\ttotal: 1m 52s\tremaining: 0us\n",
      "\n",
      "bestTest = 0.7408361154\n",
      "bestIteration = 2363\n",
      "\n",
      "Shrink model to first 2364 iterations.\n",
      "0:\ttest: 0.7205299\tbest: 0.7205299 (0)\ttotal: 64.6ms\tremaining: 2m 45s\n",
      "300:\ttest: 0.7368286\tbest: 0.7368286 (300)\ttotal: 18.5s\tremaining: 2m 19s\n",
      "600:\ttest: 0.7391565\tbest: 0.7391565 (600)\ttotal: 37.7s\tremaining: 2m 3s\n",
      "900:\ttest: 0.7400132\tbest: 0.7400132 (899)\ttotal: 57s\tremaining: 1m 45s\n",
      "1200:\ttest: 0.7405167\tbest: 0.7405179 (1199)\ttotal: 1m 16s\tremaining: 1m 27s\n",
      "1500:\ttest: 0.7406945\tbest: 0.7406945 (1500)\ttotal: 1m 37s\tremaining: 1m 9s\n",
      "1800:\ttest: 0.7409132\tbest: 0.7409135 (1790)\ttotal: 1m 57s\tremaining: 50.3s\n",
      "2100:\ttest: 0.7410569\tbest: 0.7410621 (2097)\ttotal: 2m 18s\tremaining: 30.8s\n",
      "2400:\ttest: 0.7411559\tbest: 0.7411559 (2398)\ttotal: 2m 39s\tremaining: 11.1s\n"
     ]
    },
    {
     "name": "stderr",
     "output_type": "stream",
     "text": [
      "[I 2025-02-25 01:39:57,275] Trial 38 finished with value: 0.7412448172038714 and parameters: {'iterations': 2569, 'depth': 6, 'learning_rate': 0.011596950897018232, 'l2_leaf_reg': 84.97685955126057}. Best is trial 34 with value: 0.7417466750877851.\n"
     ]
    },
    {
     "name": "stdout",
     "output_type": "stream",
     "text": [
      "2568:\ttest: 0.7412448\tbest: 0.7412448 (2568)\ttotal: 2m 50s\tremaining: 0us\n",
      "\n",
      "bestTest = 0.7412448172\n",
      "bestIteration = 2568\n",
      "\n",
      "0:\ttest: 0.7058128\tbest: 0.7058128 (0)\ttotal: 56.5ms\tremaining: 1m 55s\n",
      "300:\ttest: 0.7400260\tbest: 0.7400260 (300)\ttotal: 16.8s\tremaining: 1m 37s\n",
      "600:\ttest: 0.7408482\tbest: 0.7408482 (600)\ttotal: 34.4s\tremaining: 1m 22s\n",
      "900:\ttest: 0.7410066\tbest: 0.7410201 (882)\ttotal: 52.3s\tremaining: 1m 6s\n",
      "1200:\ttest: 0.7410631\tbest: 0.7411030 (1015)\ttotal: 1m 10s\tremaining: 49.8s\n"
     ]
    },
    {
     "name": "stderr",
     "output_type": "stream",
     "text": [
      "[I 2025-02-25 01:41:15,240] Trial 39 finished with value: 0.7411029647547032 and parameters: {'iterations': 2046, 'depth': 5, 'learning_rate': 0.04586161155993301, 'l2_leaf_reg': 15.743703749705348}. Best is trial 34 with value: 0.7417466750877851.\n",
      "[I 2025-02-25 01:41:15,246] A new study created in memory with name: no-name-6c086780-5c18-4817-8b8b-2eb83ef14663\n"
     ]
    },
    {
     "name": "stdout",
     "output_type": "stream",
     "text": [
      "Stopped by overfitting detector  (300 iterations wait)\n",
      "\n",
      "bestTest = 0.7411029648\n",
      "bestIteration = 1015\n",
      "\n",
      "Shrink model to first 1016 iterations.\n"
     ]
    },
    {
     "name": "stderr",
     "output_type": "stream",
     "text": [
      "[I 2025-02-25 01:41:38,199] Trial 0 finished with value: 0.7312063730261277 and parameters: {'num_iterations': 2366, 'objective': 'binary', 'metric': 'auc', 'verbose': -1, 'learning_rate': 0.0652646236447618, 'n_estimators': 236, 'min_child_samples': 45, 'subsample': 0.7, 'colsample_bytree': 0.5}. Best is trial 0 with value: 0.7312063730261277.\n",
      "[I 2025-02-25 01:41:55,047] Trial 1 finished with value: 0.7407665451435562 and parameters: {'num_iterations': 1510, 'objective': 'binary', 'metric': 'auc', 'verbose': -1, 'learning_rate': 0.005231880959249543, 'n_estimators': 1411, 'min_child_samples': 10, 'subsample': 1.0, 'colsample_bytree': 0.5}. Best is trial 1 with value: 0.7407665451435562.\n",
      "[I 2025-02-25 01:42:14,499] Trial 2 finished with value: 0.7404826814181249 and parameters: {'num_iterations': 2334, 'objective': 'binary', 'metric': 'auc', 'verbose': -1, 'learning_rate': 0.006578527777128852, 'n_estimators': 931, 'min_child_samples': 15, 'subsample': 0.5, 'colsample_bytree': 1.0}. Best is trial 1 with value: 0.7407665451435562.\n",
      "[I 2025-02-25 01:42:30,738] Trial 3 finished with value: 0.7407150891354731 and parameters: {'num_iterations': 1620, 'objective': 'binary', 'metric': 'auc', 'verbose': -1, 'learning_rate': 0.0058823249237283685, 'n_estimators': 837, 'min_child_samples': 10, 'subsample': 0.9, 'colsample_bytree': 0.6}. Best is trial 1 with value: 0.7407665451435562.\n",
      "[I 2025-02-25 01:42:47,020] Trial 4 finished with value: 0.7406911737456525 and parameters: {'num_iterations': 1997, 'objective': 'binary', 'metric': 'auc', 'verbose': -1, 'learning_rate': 0.010907507425244923, 'n_estimators': 1597, 'min_child_samples': 50, 'subsample': 0.6, 'colsample_bytree': 0.8}. Best is trial 1 with value: 0.7407665451435562.\n",
      "[I 2025-02-25 01:43:09,337] Trial 5 finished with value: 0.737745959539957 and parameters: {'num_iterations': 2909, 'objective': 'binary', 'metric': 'auc', 'verbose': -1, 'learning_rate': 0.019760591962733942, 'n_estimators': 612, 'min_child_samples': 30, 'subsample': 0.7, 'colsample_bytree': 0.9}. Best is trial 1 with value: 0.7407665451435562.\n",
      "[I 2025-02-25 01:43:29,935] Trial 6 finished with value: 0.738280277711399 and parameters: {'num_iterations': 2639, 'objective': 'binary', 'metric': 'auc', 'verbose': -1, 'learning_rate': 0.017862094446750985, 'n_estimators': 794, 'min_child_samples': 35, 'subsample': 1.0, 'colsample_bytree': 0.8}. Best is trial 1 with value: 0.7407665451435562.\n",
      "[I 2025-02-25 01:43:46,264] Trial 7 finished with value: 0.7398835022317867 and parameters: {'num_iterations': 1580, 'objective': 'binary', 'metric': 'auc', 'verbose': -1, 'learning_rate': 0.01776722177611332, 'n_estimators': 529, 'min_child_samples': 25, 'subsample': 0.8, 'colsample_bytree': 0.5}. Best is trial 1 with value: 0.7407665451435562.\n",
      "[I 2025-02-25 01:44:03,457] Trial 8 finished with value: 0.7385383637993217 and parameters: {'num_iterations': 1911, 'objective': 'binary', 'metric': 'auc', 'verbose': -1, 'learning_rate': 0.0304747553332844, 'n_estimators': 1328, 'min_child_samples': 10, 'subsample': 0.7, 'colsample_bytree': 0.6}. Best is trial 1 with value: 0.7407665451435562.\n",
      "[I 2025-02-25 01:44:30,598] Trial 9 finished with value: 0.7371248542731624 and parameters: {'num_iterations': 2739, 'objective': 'binary', 'metric': 'auc', 'verbose': -1, 'learning_rate': 0.02691531614176271, 'n_estimators': 1438, 'min_child_samples': 20, 'subsample': 0.6, 'colsample_bytree': 0.5}. Best is trial 1 with value: 0.7407665451435562.\n",
      "[I 2025-02-25 01:44:45,434] Trial 10 finished with value: 0.7285395986005713 and parameters: {'num_iterations': 1933, 'objective': 'binary', 'metric': 'auc', 'verbose': -1, 'learning_rate': 0.08223556891145911, 'n_estimators': 1960, 'min_child_samples': 40, 'subsample': 1.0, 'colsample_bytree': 0.7}. Best is trial 1 with value: 0.7407665451435562.\n",
      "[I 2025-02-25 01:45:00,745] Trial 11 finished with value: 0.7406166798674483 and parameters: {'num_iterations': 1513, 'objective': 'binary', 'metric': 'auc', 'verbose': -1, 'learning_rate': 0.005340229419903739, 'n_estimators': 1206, 'min_child_samples': 10, 'subsample': 0.9, 'colsample_bytree': 0.6}. Best is trial 1 with value: 0.7407665451435562.\n",
      "[I 2025-02-25 01:45:17,211] Trial 12 finished with value: 0.7406020201265854 and parameters: {'num_iterations': 1698, 'objective': 'binary', 'metric': 'auc', 'verbose': -1, 'learning_rate': 0.008515343845233947, 'n_estimators': 1719, 'min_child_samples': 20, 'subsample': 0.9, 'colsample_bytree': 0.6}. Best is trial 1 with value: 0.7407665451435562.\n",
      "[I 2025-02-25 01:45:32,252] Trial 13 finished with value: 0.7403782406911698 and parameters: {'num_iterations': 1777, 'objective': 'binary', 'metric': 'auc', 'verbose': -1, 'learning_rate': 0.010074542479113706, 'n_estimators': 1082, 'min_child_samples': 10, 'subsample': 0.9, 'colsample_bytree': 0.7}. Best is trial 1 with value: 0.7407665451435562.\n",
      "[I 2025-02-25 01:45:53,459] Trial 14 finished with value: 0.7406995280508464 and parameters: {'num_iterations': 2165, 'objective': 'binary', 'metric': 'auc', 'verbose': -1, 'learning_rate': 0.005262187136940254, 'n_estimators': 251, 'min_child_samples': 20, 'subsample': 1.0, 'colsample_bytree': 0.6}. Best is trial 1 with value: 0.7407665451435562.\n",
      "[I 2025-02-25 01:46:09,434] Trial 15 finished with value: 0.7405409233138394 and parameters: {'num_iterations': 1507, 'objective': 'binary', 'metric': 'auc', 'verbose': -1, 'learning_rate': 0.012840412608821758, 'n_estimators': 758, 'min_child_samples': 15, 'subsample': 0.8, 'colsample_bytree': 0.5}. Best is trial 1 with value: 0.7407665451435562.\n",
      "[I 2025-02-25 01:46:23,314] Trial 16 finished with value: 0.7362721393951717 and parameters: {'num_iterations': 1766, 'objective': 'binary', 'metric': 'auc', 'verbose': -1, 'learning_rate': 0.041903889887690594, 'n_estimators': 1046, 'min_child_samples': 30, 'subsample': 0.9, 'colsample_bytree': 0.7}. Best is trial 1 with value: 0.7407665451435562.\n",
      "[I 2025-02-25 01:46:43,935] Trial 17 finished with value: 0.7409443123695677 and parameters: {'num_iterations': 2097, 'objective': 'binary', 'metric': 'auc', 'verbose': -1, 'learning_rate': 0.007247960274588795, 'n_estimators': 1569, 'min_child_samples': 15, 'subsample': 1.0, 'colsample_bytree': 0.6}. Best is trial 17 with value: 0.7409443123695677.\n",
      "[I 2025-02-25 01:47:07,882] Trial 18 finished with value: 0.7409342943505544 and parameters: {'num_iterations': 2177, 'objective': 'binary', 'metric': 'auc', 'verbose': -1, 'learning_rate': 0.00792951035580912, 'n_estimators': 1881, 'min_child_samples': 25, 'subsample': 1.0, 'colsample_bytree': 0.5}. Best is trial 17 with value: 0.7409443123695677.\n",
      "[I 2025-02-25 01:47:26,681] Trial 19 finished with value: 0.74086004268367 and parameters: {'num_iterations': 2202, 'objective': 'binary', 'metric': 'auc', 'verbose': -1, 'learning_rate': 0.007474485027621455, 'n_estimators': 1904, 'min_child_samples': 25, 'subsample': 0.8, 'colsample_bytree': 0.7}. Best is trial 17 with value: 0.7409443123695677.\n",
      "[I 2025-02-25 01:47:50,045] Trial 20 finished with value: 0.7400584105700893 and parameters: {'num_iterations': 2538, 'objective': 'binary', 'metric': 'auc', 'verbose': -1, 'learning_rate': 0.012357628664574712, 'n_estimators': 1764, 'min_child_samples': 30, 'subsample': 1.0, 'colsample_bytree': 0.6}. Best is trial 17 with value: 0.7409443123695677.\n",
      "[I 2025-02-25 01:48:08,525] Trial 21 finished with value: 0.7408138676764936 and parameters: {'num_iterations': 2163, 'objective': 'binary', 'metric': 'auc', 'verbose': -1, 'learning_rate': 0.008047398904665262, 'n_estimators': 1973, 'min_child_samples': 25, 'subsample': 0.8, 'colsample_bytree': 0.7}. Best is trial 17 with value: 0.7409443123695677.\n",
      "[I 2025-02-25 01:48:25,796] Trial 22 finished with value: 0.7406037314885333 and parameters: {'num_iterations': 2076, 'objective': 'binary', 'metric': 'auc', 'verbose': -1, 'learning_rate': 0.008344252786493733, 'n_estimators': 1820, 'min_child_samples': 25, 'subsample': 1.0, 'colsample_bytree': 0.8}. Best is trial 17 with value: 0.7409443123695677.\n",
      "[I 2025-02-25 01:48:45,833] Trial 23 finished with value: 0.7394638770762781 and parameters: {'num_iterations': 2462, 'objective': 'binary', 'metric': 'auc', 'verbose': -1, 'learning_rate': 0.014032489020653464, 'n_estimators': 1602, 'min_child_samples': 35, 'subsample': 0.8, 'colsample_bytree': 0.7}. Best is trial 17 with value: 0.7409443123695677.\n",
      "[I 2025-02-25 01:49:04,564] Trial 24 finished with value: 0.7401308873441877 and parameters: {'num_iterations': 2245, 'objective': 'binary', 'metric': 'auc', 'verbose': -1, 'learning_rate': 0.007547026765234219, 'n_estimators': 1584, 'min_child_samples': 15, 'subsample': 0.9, 'colsample_bytree': 0.9}. Best is trial 17 with value: 0.7409443123695677.\n",
      "[I 2025-02-25 01:49:24,187] Trial 25 finished with value: 0.7404813671239142 and parameters: {'num_iterations': 2059, 'objective': 'binary', 'metric': 'auc', 'verbose': -1, 'learning_rate': 0.009676126875056824, 'n_estimators': 1869, 'min_child_samples': 20, 'subsample': 0.6, 'colsample_bytree': 0.6}. Best is trial 17 with value: 0.7409443123695677.\n",
      "[I 2025-02-25 01:49:48,783] Trial 26 finished with value: 0.7407289706235708 and parameters: {'num_iterations': 2285, 'objective': 'binary', 'metric': 'auc', 'verbose': -1, 'learning_rate': 0.0070319925342010176, 'n_estimators': 1700, 'min_child_samples': 25, 'subsample': 0.5, 'colsample_bytree': 0.5}. Best is trial 17 with value: 0.7409443123695677.\n",
      "[I 2025-02-25 01:50:08,827] Trial 27 finished with value: 0.7395007487863684 and parameters: {'num_iterations': 2458, 'objective': 'binary', 'metric': 'auc', 'verbose': -1, 'learning_rate': 0.014667718208736068, 'n_estimators': 1490, 'min_child_samples': 35, 'subsample': 1.0, 'colsample_bytree': 0.7}. Best is trial 17 with value: 0.7409443123695677.\n",
      "[I 2025-02-25 01:50:25,936] Trial 28 finished with value: 0.7373151688396741 and parameters: {'num_iterations': 1895, 'objective': 'binary', 'metric': 'auc', 'verbose': -1, 'learning_rate': 0.03898130569041551, 'n_estimators': 1936, 'min_child_samples': 15, 'subsample': 0.9, 'colsample_bytree': 0.6}. Best is trial 17 with value: 0.7409443123695677.\n",
      "[I 2025-02-25 01:50:48,928] Trial 29 finished with value: 0.7404234627357765 and parameters: {'num_iterations': 2194, 'objective': 'binary', 'metric': 'auc', 'verbose': -1, 'learning_rate': 0.010081561907248137, 'n_estimators': 1285, 'min_child_samples': 40, 'subsample': 0.8, 'colsample_bytree': 0.5}. Best is trial 17 with value: 0.7409443123695677.\n",
      "[I 2025-02-25 01:51:14,807] Trial 30 finished with value: 0.7409677115713298 and parameters: {'num_iterations': 2414, 'objective': 'binary', 'metric': 'auc', 'verbose': -1, 'learning_rate': 0.006516834399220061, 'n_estimators': 1810, 'min_child_samples': 25, 'subsample': 0.7, 'colsample_bytree': 0.5}. Best is trial 30 with value: 0.7409677115713298.\n",
      "[I 2025-02-25 01:51:40,333] Trial 31 finished with value: 0.740854642562442 and parameters: {'num_iterations': 2379, 'objective': 'binary', 'metric': 'auc', 'verbose': -1, 'learning_rate': 0.006559909100405264, 'n_estimators': 1759, 'min_child_samples': 25, 'subsample': 0.7, 'colsample_bytree': 0.5}. Best is trial 30 with value: 0.7409677115713298.\n",
      "[I 2025-02-25 01:52:03,179] Trial 32 finished with value: 0.7410115716735974 and parameters: {'num_iterations': 2100, 'objective': 'binary', 'metric': 'auc', 'verbose': -1, 'learning_rate': 0.006146270584541942, 'n_estimators': 1852, 'min_child_samples': 20, 'subsample': 0.6, 'colsample_bytree': 0.5}. Best is trial 32 with value: 0.7410115716735974.\n",
      "[I 2025-02-25 01:52:25,774] Trial 33 finished with value: 0.741011269902117 and parameters: {'num_iterations': 2072, 'objective': 'binary', 'metric': 'auc', 'verbose': -1, 'learning_rate': 0.005974746094680685, 'n_estimators': 1641, 'min_child_samples': 20, 'subsample': 0.6, 'colsample_bytree': 0.5}. Best is trial 32 with value: 0.7410115716735974.\n",
      "[I 2025-02-25 01:52:48,316] Trial 34 finished with value: 0.740754486196373 and parameters: {'num_iterations': 2063, 'objective': 'binary', 'metric': 'auc', 'verbose': -1, 'learning_rate': 0.0058453542529373435, 'n_estimators': 1542, 'min_child_samples': 15, 'subsample': 0.6, 'colsample_bytree': 0.5}. Best is trial 32 with value: 0.7410115716735974.\n",
      "[I 2025-02-25 01:53:13,793] Trial 35 finished with value: 0.7408364409773619 and parameters: {'num_iterations': 2355, 'objective': 'binary', 'metric': 'auc', 'verbose': -1, 'learning_rate': 0.006091341108513573, 'n_estimators': 1679, 'min_child_samples': 20, 'subsample': 0.5, 'colsample_bytree': 0.5}. Best is trial 32 with value: 0.7410115716735974.\n",
      "[I 2025-02-25 01:53:32,223] Trial 36 finished with value: 0.7406946957364828 and parameters: {'num_iterations': 1830, 'objective': 'binary', 'metric': 'auc', 'verbose': -1, 'learning_rate': 0.005183706188884144, 'n_estimators': 1376, 'min_child_samples': 15, 'subsample': 0.6, 'colsample_bytree': 0.6}. Best is trial 32 with value: 0.7410115716735974.\n",
      "[I 2025-02-25 01:53:53,665] Trial 37 finished with value: 0.7408364489187167 and parameters: {'num_iterations': 1970, 'objective': 'binary', 'metric': 'auc', 'verbose': -1, 'learning_rate': 0.006508817825641359, 'n_estimators': 1626, 'min_child_samples': 20, 'subsample': 0.7, 'colsample_bytree': 0.5}. Best is trial 32 with value: 0.7410115716735974.\n",
      "[I 2025-02-25 01:54:13,628] Trial 38 finished with value: 0.740567912007947 and parameters: {'num_iterations': 2093, 'objective': 'binary', 'metric': 'auc', 'verbose': -1, 'learning_rate': 0.009261163799569842, 'n_estimators': 1814, 'min_child_samples': 20, 'subsample': 0.6, 'colsample_bytree': 0.6}. Best is trial 32 with value: 0.7410115716735974.\n",
      "[I 2025-02-25 01:54:35,680] Trial 39 finished with value: 0.7407980286444507 and parameters: {'num_iterations': 2590, 'objective': 'binary', 'metric': 'auc', 'verbose': -1, 'learning_rate': 0.005026666958307737, 'n_estimators': 1483, 'min_child_samples': 10, 'subsample': 0.5, 'colsample_bytree': 1.0}. Best is trial 32 with value: 0.7410115716735974.\n"
     ]
    },
    {
     "name": "stdout",
     "output_type": "stream",
     "text": [
      "Cat val score : 0.741746675087785\n",
      "LGBM val score : 0.7408268200260859\n",
      "Ensemble val score : 0.7416461613607523\n"
     ]
    },
    {
     "name": "stderr",
     "output_type": "stream",
     "text": [
      "[I 2025-02-25 01:55:00,169] A new study created in memory with name: no-name-1be95046-e83d-4376-a1ee-9b0b48bd0c97\n"
     ]
    },
    {
     "name": "stdout",
     "output_type": "stream",
     "text": [
      "==================================================\n",
      "0:\ttest: 0.7189181\tbest: 0.7189181 (0)\ttotal: 142ms\tremaining: 5m 35s\n",
      "300:\ttest: 0.7330032\tbest: 0.7330199 (297)\ttotal: 37.8s\tremaining: 4m 19s\n",
      "600:\ttest: 0.7343455\tbest: 0.7343466 (591)\ttotal: 1m 17s\tremaining: 3m 48s\n",
      "900:\ttest: 0.7347520\tbest: 0.7347520 (900)\ttotal: 1m 58s\tremaining: 3m 11s\n",
      "1200:\ttest: 0.7349292\tbest: 0.7349364 (1199)\ttotal: 2m 40s\tremaining: 2m 36s\n",
      "1500:\ttest: 0.7349034\tbest: 0.7350006 (1309)\ttotal: 3m 30s\tremaining: 2m 1s\n"
     ]
    },
    {
     "name": "stderr",
     "output_type": "stream",
     "text": [
      "[I 2025-02-25 01:58:48,601] Trial 0 finished with value: 0.7350006377076594 and parameters: {'iterations': 2366, 'depth': 10, 'learning_rate': 0.01181021951839225, 'l2_leaf_reg': 9.980783802743254}. Best is trial 0 with value: 0.7350006377076594.\n"
     ]
    },
    {
     "name": "stdout",
     "output_type": "stream",
     "text": [
      "Stopped by overfitting detector  (300 iterations wait)\n",
      "\n",
      "bestTest = 0.7350006377\n",
      "bestIteration = 1309\n",
      "\n",
      "Shrink model to first 1310 iterations.\n",
      "저장 완료\n",
      "0:\ttest: 0.6930725\tbest: 0.6930725 (0)\ttotal: 54.3ms\tremaining: 1m 58s\n",
      "300:\ttest: 0.7237127\tbest: 0.7237127 (300)\ttotal: 13s\tremaining: 1m 21s\n",
      "600:\ttest: 0.7281129\tbest: 0.7281129 (600)\ttotal: 26s\tremaining: 1m 8s\n",
      "900:\ttest: 0.7304756\tbest: 0.7304756 (900)\ttotal: 39.5s\tremaining: 56.6s\n",
      "1200:\ttest: 0.7316830\tbest: 0.7316830 (1200)\ttotal: 52.9s\tremaining: 43.7s\n",
      "1500:\ttest: 0.7324787\tbest: 0.7324788 (1499)\ttotal: 1m 6s\tremaining: 30.7s\n",
      "1800:\ttest: 0.7329783\tbest: 0.7329818 (1796)\ttotal: 1m 20s\tremaining: 17.5s\n",
      "2100:\ttest: 0.7333934\tbest: 0.7333934 (2100)\ttotal: 1m 34s\tremaining: 4.14s\n"
     ]
    },
    {
     "name": "stderr",
     "output_type": "stream",
     "text": [
      "[I 2025-02-25 02:00:27,887] Trial 1 finished with value: 0.7335159082922853 and parameters: {'iterations': 2193, 'depth': 4, 'learning_rate': 0.005671430811678843, 'l2_leaf_reg': 0.00012325230809466137}. Best is trial 0 with value: 0.7350006377076594.\n"
     ]
    },
    {
     "name": "stdout",
     "output_type": "stream",
     "text": [
      "2192:\ttest: 0.7335159\tbest: 0.7335159 (2192)\ttotal: 1m 38s\tremaining: 0us\n",
      "\n",
      "bestTest = 0.7335159083\n",
      "bestIteration = 2192\n",
      "\n",
      "0:\ttest: 0.6930725\tbest: 0.6930725 (0)\ttotal: 52.4ms\tremaining: 2m 12s\n",
      "300:\ttest: 0.7340671\tbest: 0.7343509 (241)\ttotal: 14.2s\tremaining: 1m 45s\n"
     ]
    },
    {
     "name": "stderr",
     "output_type": "stream",
     "text": [
      "[I 2025-02-25 02:00:54,011] Trial 2 finished with value: 0.7343508772225231 and parameters: {'iterations': 2535, 'depth': 4, 'learning_rate': 0.09275339199839054, 'l2_leaf_reg': 0.0008705394248343123}. Best is trial 0 with value: 0.7350006377076594.\n"
     ]
    },
    {
     "name": "stdout",
     "output_type": "stream",
     "text": [
      "Stopped by overfitting detector  (300 iterations wait)\n",
      "\n",
      "bestTest = 0.7343508772\n",
      "bestIteration = 241\n",
      "\n",
      "Shrink model to first 242 iterations.\n",
      "0:\ttest: 0.6930725\tbest: 0.6930725 (0)\ttotal: 51.7ms\tremaining: 2m\n",
      "300:\ttest: 0.7336689\tbest: 0.7336689 (300)\ttotal: 13.7s\tremaining: 1m 32s\n",
      "600:\ttest: 0.7346064\tbest: 0.7347052 (592)\ttotal: 28.3s\tremaining: 1m 21s\n"
     ]
    },
    {
     "name": "stderr",
     "output_type": "stream",
     "text": [
      "[I 2025-02-25 02:01:36,750] Trial 3 finished with value: 0.7347051667568596 and parameters: {'iterations': 2334, 'depth': 4, 'learning_rate': 0.04657568321363276, 'l2_leaf_reg': 0.0008640473331457248}. Best is trial 0 with value: 0.7350006377076594.\n"
     ]
    },
    {
     "name": "stdout",
     "output_type": "stream",
     "text": [
      "Stopped by overfitting detector  (300 iterations wait)\n",
      "\n",
      "bestTest = 0.7347051668\n",
      "bestIteration = 592\n",
      "\n",
      "Shrink model to first 593 iterations.\n",
      "0:\ttest: 0.7187536\tbest: 0.7187536 (0)\ttotal: 127ms\tremaining: 3m 40s\n",
      "300:\ttest: 0.7326442\tbest: 0.7326626 (297)\ttotal: 37s\tremaining: 2m 57s\n",
      "600:\ttest: 0.7332776\tbest: 0.7334848 (536)\ttotal: 1m 17s\tremaining: 2m 26s\n"
     ]
    },
    {
     "name": "stderr",
     "output_type": "stream",
     "text": [
      "[I 2025-02-25 02:03:26,598] Trial 4 finished with value: 0.7334847734806638 and parameters: {'iterations': 1742, 'depth': 10, 'learning_rate': 0.012622767482095846, 'l2_leaf_reg': 0.00021158816350109617}. Best is trial 0 with value: 0.7350006377076594.\n"
     ]
    },
    {
     "name": "stdout",
     "output_type": "stream",
     "text": [
      "Stopped by overfitting detector  (300 iterations wait)\n",
      "\n",
      "bestTest = 0.7334847735\n",
      "bestIteration = 536\n",
      "\n",
      "Shrink model to first 537 iterations.\n",
      "0:\ttest: 0.6930725\tbest: 0.6930725 (0)\ttotal: 53.3ms\tremaining: 1m 50s\n",
      "300:\ttest: 0.7342531\tbest: 0.7343239 (291)\ttotal: 14s\tremaining: 1m 22s\n",
      "600:\ttest: 0.7341822\tbest: 0.7344869 (347)\ttotal: 28.9s\tremaining: 1m 11s\n"
     ]
    },
    {
     "name": "stderr",
     "output_type": "stream",
     "text": [
      "[I 2025-02-25 02:03:57,918] Trial 5 finished with value: 0.734486929201011 and parameters: {'iterations': 2082, 'depth': 4, 'learning_rate': 0.06995196593094148, 'l2_leaf_reg': 0.0018080296485396804}. Best is trial 0 with value: 0.7350006377076594.\n"
     ]
    },
    {
     "name": "stdout",
     "output_type": "stream",
     "text": [
      "Stopped by overfitting detector  (300 iterations wait)\n",
      "\n",
      "bestTest = 0.7344869292\n",
      "bestIteration = 347\n",
      "\n",
      "Shrink model to first 348 iterations.\n",
      "0:\ttest: 0.6996703\tbest: 0.6996703 (0)\ttotal: 63.2ms\tremaining: 2m 6s\n",
      "300:\ttest: 0.7349102\tbest: 0.7349344 (285)\ttotal: 17.3s\tremaining: 1m 37s\n",
      "600:\ttest: 0.7352729\tbest: 0.7352838 (579)\ttotal: 35s\tremaining: 1m 21s\n",
      "900:\ttest: 0.7353181\tbest: 0.7353470 (718)\ttotal: 52.9s\tremaining: 1m 4s\n",
      "1200:\ttest: 0.7352295\tbest: 0.7353925 (934)\ttotal: 1m 10s\tremaining: 47s\n"
     ]
    },
    {
     "name": "stderr",
     "output_type": "stream",
     "text": [
      "[I 2025-02-25 02:05:11,116] Trial 6 finished with value: 0.7353924875797915 and parameters: {'iterations': 1997, 'depth': 5, 'learning_rate': 0.07985155992831598, 'l2_leaf_reg': 62.52181000710482}. Best is trial 6 with value: 0.7353924875797915.\n"
     ]
    },
    {
     "name": "stdout",
     "output_type": "stream",
     "text": [
      "Stopped by overfitting detector  (300 iterations wait)\n",
      "\n",
      "bestTest = 0.7353924876\n",
      "bestIteration = 934\n",
      "\n",
      "Shrink model to first 935 iterations.\n",
      "저장 완료\n",
      "0:\ttest: 0.7157714\tbest: 0.7157714 (0)\ttotal: 81.2ms\tremaining: 2m 36s\n",
      "300:\ttest: 0.7335551\tbest: 0.7344296 (186)\ttotal: 24s\tremaining: 2m 9s\n"
     ]
    },
    {
     "name": "stderr",
     "output_type": "stream",
     "text": [
      "[I 2025-02-25 02:05:50,915] Trial 7 finished with value: 0.7344296395591164 and parameters: {'iterations': 1927, 'depth': 7, 'learning_rate': 0.0941937211034094, 'l2_leaf_reg': 0.05654822767791934}. Best is trial 6 with value: 0.7353924875797915.\n"
     ]
    },
    {
     "name": "stdout",
     "output_type": "stream",
     "text": [
      "Stopped by overfitting detector  (300 iterations wait)\n",
      "\n",
      "bestTest = 0.7344296396\n",
      "bestIteration = 186\n",
      "\n",
      "Shrink model to first 187 iterations.\n",
      "0:\ttest: 0.7157707\tbest: 0.7157707 (0)\ttotal: 80.5ms\tremaining: 2m 33s\n",
      "300:\ttest: 0.7351431\tbest: 0.7351638 (298)\ttotal: 23.1s\tremaining: 2m 3s\n",
      "600:\ttest: 0.7350848\tbest: 0.7352602 (346)\ttotal: 48.3s\tremaining: 1m 44s\n"
     ]
    },
    {
     "name": "stderr",
     "output_type": "stream",
     "text": [
      "[I 2025-02-25 02:06:43,299] Trial 8 finished with value: 0.7352602281708316 and parameters: {'iterations': 1904, 'depth': 7, 'learning_rate': 0.05155602859187331, 'l2_leaf_reg': 1.299974533316308}. Best is trial 6 with value: 0.7353924875797915.\n"
     ]
    },
    {
     "name": "stdout",
     "output_type": "stream",
     "text": [
      "Stopped by overfitting detector  (300 iterations wait)\n",
      "\n",
      "bestTest = 0.7352602282\n",
      "bestIteration = 346\n",
      "\n",
      "Shrink model to first 347 iterations.\n",
      "0:\ttest: 0.7132866\tbest: 0.7132866 (0)\ttotal: 71.6ms\tremaining: 3m 8s\n",
      "300:\ttest: 0.7345390\tbest: 0.7345390 (300)\ttotal: 19.7s\tremaining: 2m 32s\n",
      "600:\ttest: 0.7351953\tbest: 0.7352199 (530)\ttotal: 41s\tremaining: 2m 19s\n",
      "900:\ttest: 0.7351407\tbest: 0.7352506 (691)\ttotal: 1m 2s\tremaining: 2m\n"
     ]
    },
    {
     "name": "stderr",
     "output_type": "stream",
     "text": [
      "[I 2025-02-25 02:07:52,915] Trial 9 finished with value: 0.7352506057666786 and parameters: {'iterations': 2639, 'depth': 6, 'learning_rate': 0.03968704290444751, 'l2_leaf_reg': 0.30557194377967184}. Best is trial 6 with value: 0.7353924875797915.\n"
     ]
    },
    {
     "name": "stdout",
     "output_type": "stream",
     "text": [
      "Stopped by overfitting detector  (300 iterations wait)\n",
      "\n",
      "bestTest = 0.7352506058\n",
      "bestIteration = 691\n",
      "\n",
      "Shrink model to first 692 iterations.\n",
      "0:\ttest: 0.7132583\tbest: 0.7132583 (0)\ttotal: 73.1ms\tremaining: 3m 35s\n",
      "300:\ttest: 0.7349215\tbest: 0.7349215 (300)\ttotal: 20.2s\tremaining: 2m 57s\n",
      "600:\ttest: 0.7352115\tbest: 0.7352439 (551)\ttotal: 41s\tremaining: 2m 39s\n"
     ]
    },
    {
     "name": "stderr",
     "output_type": "stream",
     "text": [
      "[I 2025-02-25 02:08:52,653] Trial 10 finished with value: 0.7352438704808992 and parameters: {'iterations': 2945, 'depth': 6, 'learning_rate': 0.07265276039199581, 'l2_leaf_reg': 97.18545559492516}. Best is trial 6 with value: 0.7353924875797915.\n"
     ]
    },
    {
     "name": "stdout",
     "output_type": "stream",
     "text": [
      "Stopped by overfitting detector  (300 iterations wait)\n",
      "\n",
      "bestTest = 0.7352438705\n",
      "bestIteration = 551\n",
      "\n",
      "Shrink model to first 552 iterations.\n",
      "0:\ttest: 0.7168352\tbest: 0.7168352 (0)\ttotal: 94.5ms\tremaining: 2m 35s\n",
      "300:\ttest: 0.7344774\tbest: 0.7347351 (244)\ttotal: 26.6s\tremaining: 1m 58s\n"
     ]
    },
    {
     "name": "stderr",
     "output_type": "stream",
     "text": [
      "[I 2025-02-25 02:09:43,106] Trial 11 finished with value: 0.7347350863577216 and parameters: {'iterations': 1645, 'depth': 8, 'learning_rate': 0.06346104813783957, 'l2_leaf_reg': 2.2353549998321114}. Best is trial 6 with value: 0.7353924875797915.\n"
     ]
    },
    {
     "name": "stdout",
     "output_type": "stream",
     "text": [
      "Stopped by overfitting detector  (300 iterations wait)\n",
      "\n",
      "bestTest = 0.7347350864\n",
      "bestIteration = 244\n",
      "\n",
      "Shrink model to first 245 iterations.\n",
      "0:\ttest: 0.7132583\tbest: 0.7132583 (0)\ttotal: 73ms\tremaining: 2m 18s\n",
      "300:\ttest: 0.7338222\tbest: 0.7338222 (300)\ttotal: 19.5s\tremaining: 1m 43s\n",
      "600:\ttest: 0.7347545\tbest: 0.7347545 (600)\ttotal: 39.7s\tremaining: 1m 25s\n",
      "900:\ttest: 0.7349694\tbest: 0.7349984 (844)\ttotal: 1m\tremaining: 1m 6s\n",
      "1200:\ttest: 0.7350392\tbest: 0.7350485 (1170)\ttotal: 1m 21s\tremaining: 47.4s\n",
      "1500:\ttest: 0.7351189\tbest: 0.7351192 (1498)\ttotal: 1m 42s\tremaining: 27.1s\n",
      "1800:\ttest: 0.7351002\tbest: 0.7351303 (1650)\ttotal: 2m 3s\tremaining: 6.65s\n"
     ]
    },
    {
     "name": "stderr",
     "output_type": "stream",
     "text": [
      "[I 2025-02-25 02:11:53,598] Trial 12 finished with value: 0.7351331949623938 and parameters: {'iterations': 1898, 'depth': 6, 'learning_rate': 0.02806616524326411, 'l2_leaf_reg': 87.13438924619796}. Best is trial 6 with value: 0.7353924875797915.\n"
     ]
    },
    {
     "name": "stdout",
     "output_type": "stream",
     "text": [
      "1897:\ttest: 0.7351294\tbest: 0.7351332 (1854)\ttotal: 2m 10s\tremaining: 0us\n",
      "\n",
      "bestTest = 0.735133195\n",
      "bestIteration = 1854\n",
      "\n",
      "Shrink model to first 1855 iterations.\n",
      "0:\ttest: 0.7168279\tbest: 0.7168279 (0)\ttotal: 97.5ms\tremaining: 3m 8s\n",
      "300:\ttest: 0.7344442\tbest: 0.7347408 (244)\ttotal: 27s\tremaining: 2m 26s\n"
     ]
    },
    {
     "name": "stderr",
     "output_type": "stream",
     "text": [
      "[I 2025-02-25 02:12:44,202] Trial 13 finished with value: 0.7347408327955298 and parameters: {'iterations': 1937, 'depth': 8, 'learning_rate': 0.07888750974731618, 'l2_leaf_reg': 4.806418665752243}. Best is trial 6 with value: 0.7353924875797915.\n"
     ]
    },
    {
     "name": "stdout",
     "output_type": "stream",
     "text": [
      "Stopped by overfitting detector  (300 iterations wait)\n",
      "\n",
      "bestTest = 0.7347408328\n",
      "bestIteration = 244\n",
      "\n",
      "Shrink model to first 245 iterations.\n",
      "0:\ttest: 0.6996157\tbest: 0.6996157 (0)\ttotal: 64.5ms\tremaining: 1m 38s\n",
      "300:\ttest: 0.7346261\tbest: 0.7346484 (297)\ttotal: 17.3s\tremaining: 1m 10s\n",
      "600:\ttest: 0.7346578\tbest: 0.7348386 (466)\ttotal: 35.5s\tremaining: 55s\n"
     ]
    },
    {
     "name": "stderr",
     "output_type": "stream",
     "text": [
      "[I 2025-02-25 02:13:29,968] Trial 14 finished with value: 0.7348385540084854 and parameters: {'iterations': 1533, 'depth': 5, 'learning_rate': 0.053066721913325426, 'l2_leaf_reg': 0.0983013136702041}. Best is trial 6 with value: 0.7353924875797915.\n"
     ]
    },
    {
     "name": "stdout",
     "output_type": "stream",
     "text": [
      "Stopped by overfitting detector  (300 iterations wait)\n",
      "\n",
      "bestTest = 0.734838554\n",
      "bestIteration = 466\n",
      "\n",
      "Shrink model to first 467 iterations.\n",
      "0:\ttest: 0.7168330\tbest: 0.7168330 (0)\ttotal: 95.8ms\tremaining: 3m 20s\n",
      "300:\ttest: 0.7348217\tbest: 0.7348697 (295)\ttotal: 26.2s\tremaining: 2m 36s\n"
     ]
    },
    {
     "name": "stderr",
     "output_type": "stream",
     "text": [
      "[I 2025-02-25 02:14:24,701] Trial 15 finished with value: 0.7348696530786141 and parameters: {'iterations': 2097, 'depth': 8, 'learning_rate': 0.05486381213782748, 'l2_leaf_reg': 1.1304247061212531}. Best is trial 6 with value: 0.7353924875797915.\n"
     ]
    },
    {
     "name": "stdout",
     "output_type": "stream",
     "text": [
      "Stopped by overfitting detector  (300 iterations wait)\n",
      "\n",
      "bestTest = 0.7348696531\n",
      "bestIteration = 295\n",
      "\n",
      "Shrink model to first 296 iterations.\n",
      "0:\ttest: 0.7157768\tbest: 0.7157768 (0)\ttotal: 82.8ms\tremaining: 2m 25s\n",
      "300:\ttest: 0.7353286\tbest: 0.7353454 (298)\ttotal: 23.5s\tremaining: 1m 53s\n",
      "600:\ttest: 0.7352875\tbest: 0.7356410 (417)\ttotal: 48.6s\tremaining: 1m 33s\n"
     ]
    },
    {
     "name": "stderr",
     "output_type": "stream",
     "text": [
      "[I 2025-02-25 02:15:23,411] Trial 16 finished with value: 0.7356409783237694 and parameters: {'iterations': 1755, 'depth': 7, 'learning_rate': 0.08232767483332624, 'l2_leaf_reg': 9.516367896892985}. Best is trial 16 with value: 0.7356409783237694.\n"
     ]
    },
    {
     "name": "stdout",
     "output_type": "stream",
     "text": [
      "Stopped by overfitting detector  (300 iterations wait)\n",
      "\n",
      "bestTest = 0.7356409783\n",
      "bestIteration = 417\n",
      "\n",
      "Shrink model to first 418 iterations.\n",
      "저장 완료\n",
      "0:\ttest: 0.7174738\tbest: 0.7174738 (0)\ttotal: 111ms\tremaining: 3m 2s\n",
      "300:\ttest: 0.7354192\tbest: 0.7354819 (229)\ttotal: 30.7s\tremaining: 2m 18s\n"
     ]
    },
    {
     "name": "stderr",
     "output_type": "stream",
     "text": [
      "[I 2025-02-25 02:16:19,281] Trial 17 finished with value: 0.7354819048525558 and parameters: {'iterations': 1654, 'depth': 9, 'learning_rate': 0.08463541811597368, 'l2_leaf_reg': 17.691266116809846}. Best is trial 16 with value: 0.7356409783237694.\n"
     ]
    },
    {
     "name": "stdout",
     "output_type": "stream",
     "text": [
      "Stopped by overfitting detector  (300 iterations wait)\n",
      "\n",
      "bestTest = 0.7354819049\n",
      "bestIteration = 229\n",
      "\n",
      "Shrink model to first 230 iterations.\n",
      "0:\ttest: 0.7174775\tbest: 0.7174775 (0)\ttotal: 110ms\tremaining: 3m 9s\n",
      "300:\ttest: 0.7350145\tbest: 0.7354052 (222)\ttotal: 30.3s\tremaining: 2m 23s\n"
     ]
    },
    {
     "name": "stderr",
     "output_type": "stream",
     "text": [
      "[I 2025-02-25 02:17:14,259] Trial 18 finished with value: 0.7354051559533977 and parameters: {'iterations': 1726, 'depth': 9, 'learning_rate': 0.08692110303007522, 'l2_leaf_reg': 16.207897295752858}. Best is trial 16 with value: 0.7356409783237694.\n"
     ]
    },
    {
     "name": "stdout",
     "output_type": "stream",
     "text": [
      "Stopped by overfitting detector  (300 iterations wait)\n",
      "\n",
      "bestTest = 0.735405156\n",
      "bestIteration = 222\n",
      "\n",
      "Shrink model to first 223 iterations.\n",
      "0:\ttest: 0.7173116\tbest: 0.7173116 (0)\ttotal: 107ms\tremaining: 2m 43s\n",
      "300:\ttest: 0.7300276\tbest: 0.7338399 (101)\ttotal: 31.6s\tremaining: 2m 8s\n"
     ]
    },
    {
     "name": "stderr",
     "output_type": "stream",
     "text": [
      "[I 2025-02-25 02:17:57,347] Trial 19 finished with value: 0.7338398612416757 and parameters: {'iterations': 1528, 'depth': 9, 'learning_rate': 0.09869311191425145, 'l2_leaf_reg': 0.012217019716912952}. Best is trial 16 with value: 0.7356409783237694.\n"
     ]
    },
    {
     "name": "stdout",
     "output_type": "stream",
     "text": [
      "Stopped by overfitting detector  (300 iterations wait)\n",
      "\n",
      "bestTest = 0.7338398612\n",
      "bestIteration = 101\n",
      "\n",
      "Shrink model to first 102 iterations.\n",
      "0:\ttest: 0.7173911\tbest: 0.7173911 (0)\ttotal: 111ms\tremaining: 3m 14s\n",
      "300:\ttest: 0.7334571\tbest: 0.7341580 (222)\ttotal: 30.9s\tremaining: 2m 28s\n"
     ]
    },
    {
     "name": "stderr",
     "output_type": "stream",
     "text": [
      "[I 2025-02-25 02:18:53,377] Trial 20 finished with value: 0.734158016126657 and parameters: {'iterations': 1751, 'depth': 9, 'learning_rate': 0.08210290495405295, 'l2_leaf_reg': 0.3755689603302559}. Best is trial 16 with value: 0.7356409783237694.\n"
     ]
    },
    {
     "name": "stdout",
     "output_type": "stream",
     "text": [
      "Stopped by overfitting detector  (300 iterations wait)\n",
      "\n",
      "bestTest = 0.7341580161\n",
      "bestIteration = 222\n",
      "\n",
      "Shrink model to first 223 iterations.\n",
      "0:\ttest: 0.7174797\tbest: 0.7174797 (0)\ttotal: 109ms\tremaining: 3m 7s\n",
      "300:\ttest: 0.7344360\tbest: 0.7349372 (177)\ttotal: 30.6s\tremaining: 2m 23s\n"
     ]
    },
    {
     "name": "stderr",
     "output_type": "stream",
     "text": [
      "[I 2025-02-25 02:19:43,634] Trial 21 finished with value: 0.7349372045002575 and parameters: {'iterations': 1712, 'depth': 9, 'learning_rate': 0.08777191969107231, 'l2_leaf_reg': 16.918841774388543}. Best is trial 16 with value: 0.7356409783237694.\n"
     ]
    },
    {
     "name": "stdout",
     "output_type": "stream",
     "text": [
      "Stopped by overfitting detector  (300 iterations wait)\n",
      "\n",
      "bestTest = 0.7349372045\n",
      "bestIteration = 177\n",
      "\n",
      "Shrink model to first 178 iterations.\n",
      "0:\ttest: 0.7168002\tbest: 0.7168002 (0)\ttotal: 94.9ms\tremaining: 2m 34s\n",
      "300:\ttest: 0.7351740\tbest: 0.7351965 (275)\ttotal: 26.2s\tremaining: 1m 55s\n",
      "600:\ttest: 0.7352995\tbest: 0.7354001 (394)\ttotal: 54.6s\tremaining: 1m 33s\n"
     ]
    },
    {
     "name": "stderr",
     "output_type": "stream",
     "text": [
      "[I 2025-02-25 02:20:47,230] Trial 22 finished with value: 0.7354001362592791 and parameters: {'iterations': 1628, 'depth': 8, 'learning_rate': 0.06779966332079775, 'l2_leaf_reg': 19.97721114559238}. Best is trial 16 with value: 0.7356409783237694.\n"
     ]
    },
    {
     "name": "stdout",
     "output_type": "stream",
     "text": [
      "Stopped by overfitting detector  (300 iterations wait)\n",
      "\n",
      "bestTest = 0.7354001363\n",
      "bestIteration = 394\n",
      "\n",
      "Shrink model to first 395 iterations.\n",
      "0:\ttest: 0.7174877\tbest: 0.7174877 (0)\ttotal: 108ms\tremaining: 3m 18s\n",
      "300:\ttest: 0.7347264\tbest: 0.7347269 (289)\ttotal: 29.7s\tremaining: 2m 31s\n",
      "600:\ttest: 0.7342061\tbest: 0.7348517 (349)\ttotal: 1m 2s\tremaining: 2m 8s\n"
     ]
    },
    {
     "name": "stderr",
     "output_type": "stream",
     "text": [
      "[I 2025-02-25 02:21:55,011] Trial 23 finished with value: 0.7348517187917158 and parameters: {'iterations': 1841, 'depth': 9, 'learning_rate': 0.08616197512268549, 'l2_leaf_reg': 27.08793823226336}. Best is trial 16 with value: 0.7356409783237694.\n"
     ]
    },
    {
     "name": "stdout",
     "output_type": "stream",
     "text": [
      "Stopped by overfitting detector  (300 iterations wait)\n",
      "\n",
      "bestTest = 0.7348517188\n",
      "bestIteration = 349\n",
      "\n",
      "Shrink model to first 350 iterations.\n",
      "0:\ttest: 0.7188714\tbest: 0.7188714 (0)\ttotal: 123ms\tremaining: 3m 6s\n",
      "300:\ttest: 0.7317509\tbest: 0.7339552 (107)\ttotal: 43.2s\tremaining: 2m 54s\n"
     ]
    },
    {
     "name": "stderr",
     "output_type": "stream",
     "text": [
      "[I 2025-02-25 02:22:55,510] Trial 24 finished with value: 0.7339551910968163 and parameters: {'iterations': 1516, 'depth': 10, 'learning_rate': 0.09784332378184771, 'l2_leaf_reg': 2.4830645602722483}. Best is trial 16 with value: 0.7356409783237694.\n"
     ]
    },
    {
     "name": "stdout",
     "output_type": "stream",
     "text": [
      "Stopped by overfitting detector  (300 iterations wait)\n",
      "\n",
      "bestTest = 0.7339551911\n",
      "bestIteration = 107\n",
      "\n",
      "Shrink model to first 108 iterations.\n",
      "0:\ttest: 0.7157691\tbest: 0.7157691 (0)\ttotal: 81.1ms\tremaining: 2m 25s\n",
      "300:\ttest: 0.7352736\tbest: 0.7353265 (259)\ttotal: 23.5s\tremaining: 1m 56s\n",
      "600:\ttest: 0.7350460\tbest: 0.7354055 (399)\ttotal: 48.7s\tremaining: 1m 36s\n"
     ]
    },
    {
     "name": "stderr",
     "output_type": "stream",
     "text": [
      "[I 2025-02-25 02:23:52,686] Trial 25 finished with value: 0.735405537195989 and parameters: {'iterations': 1794, 'depth': 7, 'learning_rate': 0.07560365867215878, 'l2_leaf_reg': 6.328153378618003}. Best is trial 16 with value: 0.7356409783237694.\n"
     ]
    },
    {
     "name": "stdout",
     "output_type": "stream",
     "text": [
      "Stopped by overfitting detector  (300 iterations wait)\n",
      "\n",
      "bestTest = 0.7354055372\n",
      "bestIteration = 399\n",
      "\n",
      "Shrink model to first 400 iterations.\n",
      "0:\ttest: 0.7157691\tbest: 0.7157691 (0)\ttotal: 80.9ms\tremaining: 2m 25s\n",
      "300:\ttest: 0.7350472\tbest: 0.7350472 (300)\ttotal: 23.3s\tremaining: 1m 56s\n",
      "600:\ttest: 0.7350639\tbest: 0.7352503 (360)\ttotal: 48.5s\tremaining: 1m 36s\n"
     ]
    },
    {
     "name": "stderr",
     "output_type": "stream",
     "text": [
      "[I 2025-02-25 02:24:46,393] Trial 26 finished with value: 0.7352503436623972 and parameters: {'iterations': 1798, 'depth': 7, 'learning_rate': 0.06205526564839561, 'l2_leaf_reg': 6.134949608431428}. Best is trial 16 with value: 0.7356409783237694.\n"
     ]
    },
    {
     "name": "stdout",
     "output_type": "stream",
     "text": [
      "Stopped by overfitting detector  (300 iterations wait)\n",
      "\n",
      "bestTest = 0.7352503437\n",
      "bestIteration = 360\n",
      "\n",
      "Shrink model to first 361 iterations.\n",
      "0:\ttest: 0.7157712\tbest: 0.7157712 (0)\ttotal: 81.9ms\tremaining: 2m 48s\n",
      "300:\ttest: 0.7350476\tbest: 0.7350735 (298)\ttotal: 23.6s\tremaining: 2m 17s\n",
      "600:\ttest: 0.7344608\tbest: 0.7350926 (314)\ttotal: 48.7s\tremaining: 1m 57s\n"
     ]
    },
    {
     "name": "stderr",
     "output_type": "stream",
     "text": [
      "[I 2025-02-25 02:25:36,449] Trial 27 finished with value: 0.7350926402817459 and parameters: {'iterations': 2055, 'depth': 7, 'learning_rate': 0.07530271728869951, 'l2_leaf_reg': 0.5946575063729446}. Best is trial 16 with value: 0.7356409783237694.\n"
     ]
    },
    {
     "name": "stdout",
     "output_type": "stream",
     "text": [
      "Stopped by overfitting detector  (300 iterations wait)\n",
      "\n",
      "bestTest = 0.7350926403\n",
      "bestIteration = 314\n",
      "\n",
      "Shrink model to first 315 iterations.\n",
      "0:\ttest: 0.7132867\tbest: 0.7132867 (0)\ttotal: 72.4ms\tremaining: 1m 57s\n",
      "300:\ttest: 0.7349047\tbest: 0.7349383 (297)\ttotal: 20.4s\tremaining: 1m 29s\n",
      "600:\ttest: 0.7346800\tbest: 0.7350521 (506)\ttotal: 41.9s\tremaining: 1m 11s\n"
     ]
    },
    {
     "name": "stderr",
     "output_type": "stream",
     "text": [
      "[I 2025-02-25 02:26:33,515] Trial 28 finished with value: 0.735052093543652 and parameters: {'iterations': 1627, 'depth': 6, 'learning_rate': 0.0631970928908385, 'l2_leaf_reg': 0.025696564465310767}. Best is trial 16 with value: 0.7356409783237694.\n"
     ]
    },
    {
     "name": "stdout",
     "output_type": "stream",
     "text": [
      "Stopped by overfitting detector  (300 iterations wait)\n",
      "\n",
      "bestTest = 0.7350520935\n",
      "bestIteration = 506\n",
      "\n",
      "Shrink model to first 507 iterations.\n",
      "0:\ttest: 0.7168340\tbest: 0.7168340 (0)\ttotal: 91.5ms\tremaining: 3m 19s\n",
      "300:\ttest: 0.7353250\tbest: 0.7353375 (283)\ttotal: 26.7s\tremaining: 2m 46s\n",
      "600:\ttest: 0.7348066\tbest: 0.7353877 (332)\ttotal: 55.5s\tremaining: 2m 25s\n"
     ]
    },
    {
     "name": "stderr",
     "output_type": "stream",
     "text": [
      "[I 2025-02-25 02:27:32,319] Trial 29 finished with value: 0.7353876982197385 and parameters: {'iterations': 2176, 'depth': 8, 'learning_rate': 0.07550393187154472, 'l2_leaf_reg': 7.051557132363142}. Best is trial 16 with value: 0.7356409783237694.\n"
     ]
    },
    {
     "name": "stdout",
     "output_type": "stream",
     "text": [
      "Stopped by overfitting detector  (300 iterations wait)\n",
      "\n",
      "bestTest = 0.7353876982\n",
      "bestIteration = 332\n",
      "\n",
      "Shrink model to first 333 iterations.\n",
      "0:\ttest: 0.6996392\tbest: 0.6996392 (0)\ttotal: 62.7ms\tremaining: 2m 25s\n",
      "300:\ttest: 0.7348522\tbest: 0.7348587 (299)\ttotal: 17.3s\tremaining: 1m 56s\n",
      "600:\ttest: 0.7350983\tbest: 0.7351395 (519)\ttotal: 35.2s\tremaining: 1m 41s\n"
     ]
    },
    {
     "name": "stderr",
     "output_type": "stream",
     "text": [
      "[I 2025-02-25 02:28:20,861] Trial 30 finished with value: 0.7351395212066429 and parameters: {'iterations': 2329, 'depth': 5, 'learning_rate': 0.09119634987281065, 'l2_leaf_reg': 34.17978544496477}. Best is trial 16 with value: 0.7356409783237694.\n"
     ]
    },
    {
     "name": "stdout",
     "output_type": "stream",
     "text": [
      "Stopped by overfitting detector  (300 iterations wait)\n",
      "\n",
      "bestTest = 0.7351395212\n",
      "bestIteration = 519\n",
      "\n",
      "Shrink model to first 520 iterations.\n",
      "0:\ttest: 0.7189228\tbest: 0.7189228 (0)\ttotal: 125ms\tremaining: 3m 27s\n",
      "300:\ttest: 0.7329544\tbest: 0.7342377 (170)\ttotal: 42.6s\tremaining: 3m 11s\n"
     ]
    },
    {
     "name": "stderr",
     "output_type": "stream",
     "text": [
      "[I 2025-02-25 02:29:30,929] Trial 31 finished with value: 0.7342376521441886 and parameters: {'iterations': 1656, 'depth': 10, 'learning_rate': 0.08550166523264299, 'l2_leaf_reg': 8.558205773638177}. Best is trial 16 with value: 0.7356409783237694.\n"
     ]
    },
    {
     "name": "stdout",
     "output_type": "stream",
     "text": [
      "Stopped by overfitting detector  (300 iterations wait)\n",
      "\n",
      "bestTest = 0.7342376521\n",
      "bestIteration = 170\n",
      "\n",
      "Shrink model to first 171 iterations.\n",
      "0:\ttest: 0.7157804\tbest: 0.7157804 (0)\ttotal: 80.3ms\tremaining: 2m 26s\n",
      "300:\ttest: 0.7350267\tbest: 0.7351708 (253)\ttotal: 23.7s\tremaining: 1m 59s\n"
     ]
    },
    {
     "name": "stderr",
     "output_type": "stream",
     "text": [
      "[I 2025-02-25 02:30:15,726] Trial 32 finished with value: 0.7351708108980672 and parameters: {'iterations': 1820, 'depth': 7, 'learning_rate': 0.08297321416301695, 'l2_leaf_reg': 12.590001846607212}. Best is trial 16 with value: 0.7356409783237694.\n"
     ]
    },
    {
     "name": "stdout",
     "output_type": "stream",
     "text": [
      "Stopped by overfitting detector  (300 iterations wait)\n",
      "\n",
      "bestTest = 0.7351708109\n",
      "bestIteration = 253\n",
      "\n",
      "Shrink model to first 254 iterations.\n",
      "0:\ttest: 0.7174879\tbest: 0.7174879 (0)\ttotal: 109ms\tremaining: 4m 31s\n",
      "300:\ttest: 0.7347915\tbest: 0.7351731 (237)\ttotal: 30.2s\tremaining: 3m 39s\n"
     ]
    },
    {
     "name": "stderr",
     "output_type": "stream",
     "text": [
      "[I 2025-02-25 02:31:11,856] Trial 33 finished with value: 0.7351731102674459 and parameters: {'iterations': 2481, 'depth': 9, 'learning_rate': 0.0901615557533208, 'l2_leaf_reg': 31.006466163492103}. Best is trial 16 with value: 0.7356409783237694.\n"
     ]
    },
    {
     "name": "stdout",
     "output_type": "stream",
     "text": [
      "Stopped by overfitting detector  (300 iterations wait)\n",
      "\n",
      "bestTest = 0.7351731103\n",
      "bestIteration = 237\n",
      "\n",
      "Shrink model to first 238 iterations.\n",
      "0:\ttest: 0.7168301\tbest: 0.7168301 (0)\ttotal: 94.8ms\tremaining: 2m 43s\n",
      "300:\ttest: 0.7346483\tbest: 0.7346895 (273)\ttotal: 26.8s\tremaining: 2m 6s\n"
     ]
    },
    {
     "name": "stderr",
     "output_type": "stream",
     "text": [
      "[I 2025-02-25 02:32:05,160] Trial 34 finished with value: 0.7346895358106169 and parameters: {'iterations': 1724, 'depth': 8, 'learning_rate': 0.07805197317124207, 'l2_leaf_reg': 3.3894425510698003}. Best is trial 16 with value: 0.7356409783237694.\n"
     ]
    },
    {
     "name": "stdout",
     "output_type": "stream",
     "text": [
      "Stopped by overfitting detector  (300 iterations wait)\n",
      "\n",
      "bestTest = 0.7346895358\n",
      "bestIteration = 273\n",
      "\n",
      "Shrink model to first 274 iterations.\n",
      "0:\ttest: 0.7157711\tbest: 0.7157711 (0)\ttotal: 80ms\tremaining: 2m 7s\n",
      "300:\ttest: 0.7343928\tbest: 0.7345942 (224)\ttotal: 23.8s\tremaining: 1m 42s\n"
     ]
    },
    {
     "name": "stderr",
     "output_type": "stream",
     "text": [
      "[I 2025-02-25 02:32:47,782] Trial 35 finished with value: 0.7345942489904578 and parameters: {'iterations': 1596, 'depth': 7, 'learning_rate': 0.09391294851417287, 'l2_leaf_reg': 0.6871150353691639}. Best is trial 16 with value: 0.7356409783237694.\n"
     ]
    },
    {
     "name": "stdout",
     "output_type": "stream",
     "text": [
      "Stopped by overfitting detector  (300 iterations wait)\n",
      "\n",
      "bestTest = 0.734594249\n",
      "bestIteration = 224\n",
      "\n",
      "Shrink model to first 225 iterations.\n",
      "0:\ttest: 0.7188600\tbest: 0.7188600 (0)\ttotal: 128ms\tremaining: 4m 39s\n",
      "300:\ttest: 0.7346116\tbest: 0.7347532 (236)\ttotal: 40.7s\tremaining: 4m 15s\n"
     ]
    },
    {
     "name": "stderr",
     "output_type": "stream",
     "text": [
      "[I 2025-02-25 02:34:08,946] Trial 36 finished with value: 0.7347532350935775 and parameters: {'iterations': 2187, 'depth': 10, 'learning_rate': 0.06684077914112431, 'l2_leaf_reg': 45.74917680336641}. Best is trial 16 with value: 0.7356409783237694.\n"
     ]
    },
    {
     "name": "stdout",
     "output_type": "stream",
     "text": [
      "Stopped by overfitting detector  (300 iterations wait)\n",
      "\n",
      "bestTest = 0.7347532351\n",
      "bestIteration = 236\n",
      "\n",
      "Shrink model to first 237 iterations.\n",
      "0:\ttest: 0.7174851\tbest: 0.7174851 (0)\ttotal: 111ms\tremaining: 3m 21s\n",
      "300:\ttest: 0.7351507\tbest: 0.7351980 (225)\ttotal: 30.4s\tremaining: 2m 33s\n"
     ]
    },
    {
     "name": "stderr",
     "output_type": "stream",
     "text": [
      "[I 2025-02-25 02:35:04,108] Trial 37 finished with value: 0.7351979704614193 and parameters: {'iterations': 1821, 'depth': 9, 'learning_rate': 0.07218611100493674, 'l2_leaf_reg': 15.049014170530382}. Best is trial 16 with value: 0.7356409783237694.\n"
     ]
    },
    {
     "name": "stdout",
     "output_type": "stream",
     "text": [
      "Stopped by overfitting detector  (300 iterations wait)\n",
      "\n",
      "bestTest = 0.7351979705\n",
      "bestIteration = 225\n",
      "\n",
      "Shrink model to first 226 iterations.\n",
      "0:\ttest: 0.7168153\tbest: 0.7168153 (0)\ttotal: 94.7ms\tremaining: 2m 41s\n",
      "300:\ttest: 0.7336917\tbest: 0.7336975 (297)\ttotal: 25.4s\tremaining: 1m 58s\n",
      "600:\ttest: 0.7331944\tbest: 0.7339101 (439)\ttotal: 53.8s\tremaining: 1m 38s\n"
     ]
    },
    {
     "name": "stderr",
     "output_type": "stream",
     "text": [
      "[I 2025-02-25 02:36:11,489] Trial 38 finished with value: 0.7339101051891199 and parameters: {'iterations': 1705, 'depth': 8, 'learning_rate': 0.03729328733066339, 'l2_leaf_reg': 0.004839354485791075}. Best is trial 16 with value: 0.7356409783237694.\n"
     ]
    },
    {
     "name": "stdout",
     "output_type": "stream",
     "text": [
      "Stopped by overfitting detector  (300 iterations wait)\n",
      "\n",
      "bestTest = 0.7339101052\n",
      "bestIteration = 439\n",
      "\n",
      "Shrink model to first 440 iterations.\n",
      "0:\ttest: 0.7157707\tbest: 0.7157707 (0)\ttotal: 82.1ms\tremaining: 2m 44s\n",
      "300:\ttest: 0.7350666\tbest: 0.7350730 (299)\ttotal: 23.6s\tremaining: 2m 13s\n",
      "600:\ttest: 0.7347530\tbest: 0.7352190 (351)\ttotal: 48.9s\tremaining: 1m 54s\n"
     ]
    },
    {
     "name": "stderr",
     "output_type": "stream",
     "text": [
      "[I 2025-02-25 02:37:04,809] Trial 39 finished with value: 0.735218970574156 and parameters: {'iterations': 2010, 'depth': 7, 'learning_rate': 0.057017742273827485, 'l2_leaf_reg': 1.4427036890633749}. Best is trial 16 with value: 0.7356409783237694.\n",
      "[I 2025-02-25 02:37:04,812] A new study created in memory with name: no-name-a30123ff-2e64-4680-b04f-d326f60419aa\n"
     ]
    },
    {
     "name": "stdout",
     "output_type": "stream",
     "text": [
      "Stopped by overfitting detector  (300 iterations wait)\n",
      "\n",
      "bestTest = 0.7352189706\n",
      "bestIteration = 351\n",
      "\n",
      "Shrink model to first 352 iterations.\n"
     ]
    },
    {
     "name": "stderr",
     "output_type": "stream",
     "text": [
      "[I 2025-02-25 02:37:27,976] Trial 0 finished with value: 0.7254408605928802 and parameters: {'num_iterations': 2366, 'objective': 'binary', 'metric': 'auc', 'verbose': -1, 'learning_rate': 0.0652646236447618, 'n_estimators': 236, 'min_child_samples': 45, 'subsample': 0.7, 'colsample_bytree': 0.5}. Best is trial 0 with value: 0.7254408605928802.\n",
      "[I 2025-02-25 02:37:44,955] Trial 1 finished with value: 0.7351023023986688 and parameters: {'num_iterations': 1510, 'objective': 'binary', 'metric': 'auc', 'verbose': -1, 'learning_rate': 0.005231880959249543, 'n_estimators': 1411, 'min_child_samples': 10, 'subsample': 1.0, 'colsample_bytree': 0.5}. Best is trial 1 with value: 0.7351023023986688.\n",
      "[I 2025-02-25 02:38:04,433] Trial 2 finished with value: 0.7346592587948257 and parameters: {'num_iterations': 2334, 'objective': 'binary', 'metric': 'auc', 'verbose': -1, 'learning_rate': 0.006578527777128852, 'n_estimators': 931, 'min_child_samples': 15, 'subsample': 0.5, 'colsample_bytree': 1.0}. Best is trial 1 with value: 0.7351023023986688.\n",
      "[I 2025-02-25 02:38:20,757] Trial 3 finished with value: 0.7349677396490532 and parameters: {'num_iterations': 1620, 'objective': 'binary', 'metric': 'auc', 'verbose': -1, 'learning_rate': 0.0058823249237283685, 'n_estimators': 837, 'min_child_samples': 10, 'subsample': 0.9, 'colsample_bytree': 0.6}. Best is trial 1 with value: 0.7351023023986688.\n",
      "[I 2025-02-25 02:38:37,120] Trial 4 finished with value: 0.7343750742132388 and parameters: {'num_iterations': 1997, 'objective': 'binary', 'metric': 'auc', 'verbose': -1, 'learning_rate': 0.010907507425244923, 'n_estimators': 1597, 'min_child_samples': 50, 'subsample': 0.6, 'colsample_bytree': 0.8}. Best is trial 1 with value: 0.7351023023986688.\n",
      "[I 2025-02-25 02:38:59,639] Trial 5 finished with value: 0.7313208921591313 and parameters: {'num_iterations': 2909, 'objective': 'binary', 'metric': 'auc', 'verbose': -1, 'learning_rate': 0.019760591962733942, 'n_estimators': 612, 'min_child_samples': 30, 'subsample': 0.7, 'colsample_bytree': 0.9}. Best is trial 1 with value: 0.7351023023986688.\n",
      "[I 2025-02-25 02:39:20,220] Trial 6 finished with value: 0.7325681749518439 and parameters: {'num_iterations': 2639, 'objective': 'binary', 'metric': 'auc', 'verbose': -1, 'learning_rate': 0.017862094446750985, 'n_estimators': 794, 'min_child_samples': 35, 'subsample': 1.0, 'colsample_bytree': 0.8}. Best is trial 1 with value: 0.7351023023986688.\n",
      "[I 2025-02-25 02:39:36,692] Trial 7 finished with value: 0.7349165935726661 and parameters: {'num_iterations': 1580, 'objective': 'binary', 'metric': 'auc', 'verbose': -1, 'learning_rate': 0.01776722177611332, 'n_estimators': 529, 'min_child_samples': 25, 'subsample': 0.8, 'colsample_bytree': 0.5}. Best is trial 1 with value: 0.7351023023986688.\n",
      "[I 2025-02-25 02:39:53,990] Trial 8 finished with value: 0.732199664274597 and parameters: {'num_iterations': 1911, 'objective': 'binary', 'metric': 'auc', 'verbose': -1, 'learning_rate': 0.0304747553332844, 'n_estimators': 1328, 'min_child_samples': 10, 'subsample': 0.7, 'colsample_bytree': 0.6}. Best is trial 1 with value: 0.7351023023986688.\n",
      "[I 2025-02-25 02:40:21,241] Trial 9 finished with value: 0.7315613490097533 and parameters: {'num_iterations': 2739, 'objective': 'binary', 'metric': 'auc', 'verbose': -1, 'learning_rate': 0.02691531614176271, 'n_estimators': 1438, 'min_child_samples': 20, 'subsample': 0.6, 'colsample_bytree': 0.5}. Best is trial 1 with value: 0.7351023023986688.\n",
      "[I 2025-02-25 02:40:36,085] Trial 10 finished with value: 0.7226685240382111 and parameters: {'num_iterations': 1933, 'objective': 'binary', 'metric': 'auc', 'verbose': -1, 'learning_rate': 0.08223556891145911, 'n_estimators': 1960, 'min_child_samples': 40, 'subsample': 1.0, 'colsample_bytree': 0.7}. Best is trial 1 with value: 0.7351023023986688.\n",
      "[I 2025-02-25 02:40:51,430] Trial 11 finished with value: 0.7348637597035572 and parameters: {'num_iterations': 1513, 'objective': 'binary', 'metric': 'auc', 'verbose': -1, 'learning_rate': 0.005340229419903739, 'n_estimators': 1206, 'min_child_samples': 10, 'subsample': 0.9, 'colsample_bytree': 0.6}. Best is trial 1 with value: 0.7351023023986688.\n",
      "[I 2025-02-25 02:41:07,893] Trial 12 finished with value: 0.7350903250272592 and parameters: {'num_iterations': 1698, 'objective': 'binary', 'metric': 'auc', 'verbose': -1, 'learning_rate': 0.008515343845233947, 'n_estimators': 1719, 'min_child_samples': 20, 'subsample': 0.9, 'colsample_bytree': 0.6}. Best is trial 1 with value: 0.7351023023986688.\n",
      "[I 2025-02-25 02:41:22,998] Trial 13 finished with value: 0.7347471828674409 and parameters: {'num_iterations': 1777, 'objective': 'binary', 'metric': 'auc', 'verbose': -1, 'learning_rate': 0.010074542479113706, 'n_estimators': 1797, 'min_child_samples': 20, 'subsample': 0.9, 'colsample_bytree': 0.7}. Best is trial 1 with value: 0.7351023023986688.\n",
      "[I 2025-02-25 02:41:43,477] Trial 14 finished with value: 0.7348368423881017 and parameters: {'num_iterations': 2165, 'objective': 'binary', 'metric': 'auc', 'verbose': -1, 'learning_rate': 0.00937245035506795, 'n_estimators': 1650, 'min_child_samples': 20, 'subsample': 1.0, 'colsample_bytree': 0.6}. Best is trial 1 with value: 0.7351023023986688.\n",
      "[I 2025-02-25 02:42:02,131] Trial 15 finished with value: 0.7352869866352074 and parameters: {'num_iterations': 1741, 'objective': 'binary', 'metric': 'auc', 'verbose': -1, 'learning_rate': 0.008303365162986591, 'n_estimators': 1991, 'min_child_samples': 25, 'subsample': 0.8, 'colsample_bytree': 0.5}. Best is trial 15 with value: 0.7352869866352074.\n",
      "[I 2025-02-25 02:42:20,867] Trial 16 finished with value: 0.7349846612603185 and parameters: {'num_iterations': 1787, 'objective': 'binary', 'metric': 'auc', 'verbose': -1, 'learning_rate': 0.012765396262269125, 'n_estimators': 1983, 'min_child_samples': 30, 'subsample': 0.8, 'colsample_bytree': 0.5}. Best is trial 15 with value: 0.7352869866352074.\n",
      "[I 2025-02-25 02:42:37,308] Trial 17 finished with value: 0.7274503426362191 and parameters: {'num_iterations': 2097, 'objective': 'binary', 'metric': 'auc', 'verbose': -1, 'learning_rate': 0.04805408751858705, 'n_estimators': 1253, 'min_child_samples': 35, 'subsample': 0.8, 'colsample_bytree': 0.7}. Best is trial 15 with value: 0.7352869866352074.\n",
      "[I 2025-02-25 02:42:56,783] Trial 18 finished with value: 0.7351628683440822 and parameters: {'num_iterations': 1795, 'objective': 'binary', 'metric': 'auc', 'verbose': -1, 'learning_rate': 0.007326624275259349, 'n_estimators': 1486, 'min_child_samples': 15, 'subsample': 1.0, 'colsample_bytree': 0.5}. Best is trial 15 with value: 0.7352869866352074.\n",
      "[I 2025-02-25 02:43:16,649] Trial 19 finished with value: 0.7338854713579351 and parameters: {'num_iterations': 2481, 'objective': 'binary', 'metric': 'auc', 'verbose': -1, 'learning_rate': 0.013860352718094554, 'n_estimators': 1065, 'min_child_samples': 25, 'subsample': 0.5, 'colsample_bytree': 0.9}. Best is trial 15 with value: 0.7352869866352074.\n",
      "[I 2025-02-25 02:43:36,223] Trial 20 finished with value: 0.7351841583600393 and parameters: {'num_iterations': 1812, 'objective': 'binary', 'metric': 'auc', 'verbose': -1, 'learning_rate': 0.007877155758725746, 'n_estimators': 1561, 'min_child_samples': 15, 'subsample': 0.6, 'colsample_bytree': 0.5}. Best is trial 15 with value: 0.7352869866352074.\n",
      "[I 2025-02-25 02:43:55,978] Trial 21 finished with value: 0.7352718560698658 and parameters: {'num_iterations': 1818, 'objective': 'binary', 'metric': 'auc', 'verbose': -1, 'learning_rate': 0.007506821601687593, 'n_estimators': 1501, 'min_child_samples': 15, 'subsample': 0.6, 'colsample_bytree': 0.5}. Best is trial 15 with value: 0.7352869866352074.\n",
      "[I 2025-02-25 02:44:15,833] Trial 22 finished with value: 0.7347980430118844 and parameters: {'num_iterations': 2060, 'objective': 'binary', 'metric': 'auc', 'verbose': -1, 'learning_rate': 0.007897151353153714, 'n_estimators': 1777, 'min_child_samples': 15, 'subsample': 0.6, 'colsample_bytree': 0.6}. Best is trial 15 with value: 0.7352869866352074.\n",
      "[I 2025-02-25 02:44:35,563] Trial 23 finished with value: 0.7348744543524981 and parameters: {'num_iterations': 1888, 'objective': 'binary', 'metric': 'auc', 'verbose': -1, 'learning_rate': 0.013470532644719377, 'n_estimators': 1849, 'min_child_samples': 25, 'subsample': 0.6, 'colsample_bytree': 0.5}. Best is trial 15 with value: 0.7352869866352074.\n",
      "[I 2025-02-25 02:44:54,220] Trial 24 finished with value: 0.7351783960371231 and parameters: {'num_iterations': 1712, 'objective': 'binary', 'metric': 'auc', 'verbose': -1, 'learning_rate': 0.007123329301124892, 'n_estimators': 1546, 'min_child_samples': 15, 'subsample': 0.5, 'colsample_bytree': 0.5}. Best is trial 15 with value: 0.7352869866352074.\n",
      "[I 2025-02-25 02:45:11,896] Trial 25 finished with value: 0.7347248960609587 and parameters: {'num_iterations': 1861, 'objective': 'binary', 'metric': 'auc', 'verbose': -1, 'learning_rate': 0.01032197096465597, 'n_estimators': 1087, 'min_child_samples': 25, 'subsample': 0.7, 'colsample_bytree': 0.6}. Best is trial 15 with value: 0.7352869866352074.\n",
      "[I 2025-02-25 02:45:29,331] Trial 26 finished with value: 0.7291592069537759 and parameters: {'num_iterations': 2190, 'objective': 'binary', 'metric': 'auc', 'verbose': -1, 'learning_rate': 0.04111431307724661, 'n_estimators': 1925, 'min_child_samples': 15, 'subsample': 0.6, 'colsample_bytree': 0.7}. Best is trial 15 with value: 0.7352869866352074.\n",
      "[I 2025-02-25 02:45:46,650] Trial 27 finished with value: 0.7348069585287328 and parameters: {'num_iterations': 1656, 'objective': 'binary', 'metric': 'auc', 'verbose': -1, 'learning_rate': 0.015119470275960821, 'n_estimators': 1645, 'min_child_samples': 20, 'subsample': 0.8, 'colsample_bytree': 0.5}. Best is trial 15 with value: 0.7352869866352074.\n",
      "[I 2025-02-25 02:46:04,824] Trial 28 finished with value: 0.7321627869964442 and parameters: {'num_iterations': 2010, 'objective': 'binary', 'metric': 'auc', 'verbose': -1, 'learning_rate': 0.025979172176002242, 'n_estimators': 1200, 'min_child_samples': 35, 'subsample': 0.7, 'colsample_bytree': 0.6}. Best is trial 15 with value: 0.7352869866352074.\n",
      "[I 2025-02-25 02:46:29,180] Trial 29 finished with value: 0.7346550095284438 and parameters: {'num_iterations': 2362, 'objective': 'binary', 'metric': 'auc', 'verbose': -1, 'learning_rate': 0.011799619728917184, 'n_estimators': 315, 'min_child_samples': 45, 'subsample': 0.5, 'colsample_bytree': 0.5}. Best is trial 15 with value: 0.7352869866352074.\n",
      "[I 2025-02-25 02:46:55,902] Trial 30 finished with value: 0.7351179254023574 and parameters: {'num_iterations': 2499, 'objective': 'binary', 'metric': 'auc', 'verbose': -1, 'learning_rate': 0.006300048275050027, 'n_estimators': 104, 'min_child_samples': 30, 'subsample': 0.6, 'colsample_bytree': 0.5}. Best is trial 15 with value: 0.7352869866352074.\n",
      "[I 2025-02-25 02:47:14,610] Trial 31 finished with value: 0.7354046992565436 and parameters: {'num_iterations': 1726, 'objective': 'binary', 'metric': 'auc', 'verbose': -1, 'learning_rate': 0.007826923827158203, 'n_estimators': 1558, 'min_child_samples': 15, 'subsample': 0.5, 'colsample_bytree': 0.5}. Best is trial 31 with value: 0.7354046992565436.\n",
      "[I 2025-02-25 02:47:33,587] Trial 32 finished with value: 0.7351984073018886 and parameters: {'num_iterations': 1756, 'objective': 'binary', 'metric': 'auc', 'verbose': -1, 'learning_rate': 0.008528270798209663, 'n_estimators': 1350, 'min_child_samples': 10, 'subsample': 0.5, 'colsample_bytree': 0.5}. Best is trial 31 with value: 0.7354046992565436.\n",
      "[I 2025-02-25 02:47:51,146] Trial 33 finished with value: 0.7351550369858528 and parameters: {'num_iterations': 1566, 'objective': 'binary', 'metric': 'auc', 'verbose': -1, 'learning_rate': 0.005119150789334666, 'n_estimators': 1358, 'min_child_samples': 10, 'subsample': 0.5, 'colsample_bytree': 0.5}. Best is trial 31 with value: 0.7354046992565436.\n",
      "[I 2025-02-25 02:48:07,461] Trial 34 finished with value: 0.7348412783045024 and parameters: {'num_iterations': 1685, 'objective': 'binary', 'metric': 'auc', 'verbose': -1, 'learning_rate': 0.00910220411704194, 'n_estimators': 1421, 'min_child_samples': 10, 'subsample': 0.5, 'colsample_bytree': 0.6}. Best is trial 31 with value: 0.7354046992565436.\n",
      "[I 2025-02-25 02:48:28,769] Trial 35 finished with value: 0.7350137270366269 and parameters: {'num_iterations': 1965, 'objective': 'binary', 'metric': 'auc', 'verbose': -1, 'learning_rate': 0.006669514031589232, 'n_estimators': 927, 'min_child_samples': 10, 'subsample': 0.5, 'colsample_bytree': 0.5}. Best is trial 31 with value: 0.7354046992565436.\n",
      "[I 2025-02-25 02:48:44,013] Trial 36 finished with value: 0.7349146516182168 and parameters: {'num_iterations': 1509, 'objective': 'binary', 'metric': 'auc', 'verbose': -1, 'learning_rate': 0.0059930111270769205, 'n_estimators': 1730, 'min_child_samples': 15, 'subsample': 0.5, 'colsample_bytree': 0.6}. Best is trial 31 with value: 0.7354046992565436.\n",
      "[I 2025-02-25 02:49:02,500] Trial 37 finished with value: 0.7341673525988665 and parameters: {'num_iterations': 2276, 'objective': 'binary', 'metric': 'auc', 'verbose': -1, 'learning_rate': 0.011162401944395918, 'n_estimators': 1326, 'min_child_samples': 20, 'subsample': 0.5, 'colsample_bytree': 1.0}. Best is trial 31 with value: 0.7354046992565436.\n",
      "[I 2025-02-25 02:49:17,196] Trial 38 finished with value: 0.7350127262748248 and parameters: {'num_iterations': 1745, 'objective': 'binary', 'metric': 'auc', 'verbose': -1, 'learning_rate': 0.009088114384295326, 'n_estimators': 1872, 'min_child_samples': 10, 'subsample': 0.7, 'colsample_bytree': 0.9}. Best is trial 31 with value: 0.7354046992565436.\n",
      "[I 2025-02-25 02:49:31,807] Trial 39 finished with value: 0.7351996820818031 and parameters: {'num_iterations': 1629, 'objective': 'binary', 'metric': 'auc', 'verbose': -1, 'learning_rate': 0.005062208044980748, 'n_estimators': 1533, 'min_child_samples': 15, 'subsample': 0.6, 'colsample_bytree': 0.8}. Best is trial 31 with value: 0.7354046992565436.\n"
     ]
    },
    {
     "name": "stdout",
     "output_type": "stream",
     "text": [
      "Cat val score : 0.7356409783237695\n",
      "LGBM val score : 0.735205150530222\n",
      "Ensemble val score : 0.7357847028094068\n"
     ]
    },
    {
     "name": "stderr",
     "output_type": "stream",
     "text": [
      "[I 2025-02-25 02:49:51,774] A new study created in memory with name: no-name-4db83229-97cb-4580-b830-5142c0cadce9\n"
     ]
    },
    {
     "name": "stdout",
     "output_type": "stream",
     "text": [
      "==================================================\n",
      "0:\ttest: 0.7269106\tbest: 0.7269106 (0)\ttotal: 130ms\tremaining: 5m 8s\n",
      "300:\ttest: 0.7398279\tbest: 0.7398279 (300)\ttotal: 39s\tremaining: 4m 27s\n",
      "600:\ttest: 0.7415753\tbest: 0.7415787 (594)\ttotal: 1m 19s\tremaining: 3m 54s\n",
      "900:\ttest: 0.7422925\tbest: 0.7422925 (900)\ttotal: 2m\tremaining: 3m 16s\n",
      "1200:\ttest: 0.7427375\tbest: 0.7427460 (1183)\ttotal: 2m 42s\tremaining: 2m 38s\n",
      "1500:\ttest: 0.7427814\tbest: 0.7428236 (1373)\ttotal: 3m 32s\tremaining: 2m 2s\n"
     ]
    },
    {
     "name": "stderr",
     "output_type": "stream",
     "text": [
      "[I 2025-02-25 02:53:52,041] Trial 0 finished with value: 0.7428236125712393 and parameters: {'iterations': 2366, 'depth': 10, 'learning_rate': 0.01181021951839225, 'l2_leaf_reg': 9.980783802743254}. Best is trial 0 with value: 0.7428236125712393.\n"
     ]
    },
    {
     "name": "stdout",
     "output_type": "stream",
     "text": [
      "Stopped by overfitting detector  (300 iterations wait)\n",
      "\n",
      "bestTest = 0.7428236126\n",
      "bestIteration = 1373\n",
      "\n",
      "Shrink model to first 1374 iterations.\n",
      "저장 완료\n",
      "0:\ttest: 0.6950652\tbest: 0.6950652 (0)\ttotal: 64.5ms\tremaining: 2m 21s\n",
      "300:\ttest: 0.7299093\tbest: 0.7299093 (300)\ttotal: 13.2s\tremaining: 1m 23s\n",
      "600:\ttest: 0.7345714\tbest: 0.7345714 (600)\ttotal: 26.4s\tremaining: 1m 10s\n",
      "900:\ttest: 0.7368578\tbest: 0.7368578 (900)\ttotal: 40.5s\tremaining: 58.1s\n",
      "1200:\ttest: 0.7381118\tbest: 0.7381118 (1200)\ttotal: 55.5s\tremaining: 45.9s\n",
      "1500:\ttest: 0.7389011\tbest: 0.7389011 (1500)\ttotal: 1m 9s\tremaining: 32.2s\n",
      "1800:\ttest: 0.7394129\tbest: 0.7394129 (1800)\ttotal: 1m 23s\tremaining: 18.2s\n",
      "2100:\ttest: 0.7398808\tbest: 0.7398808 (2100)\ttotal: 1m 37s\tremaining: 4.29s\n"
     ]
    },
    {
     "name": "stderr",
     "output_type": "stream",
     "text": [
      "[I 2025-02-25 02:55:34,913] Trial 1 finished with value: 0.7400001855380611 and parameters: {'iterations': 2193, 'depth': 4, 'learning_rate': 0.005671430811678843, 'l2_leaf_reg': 0.00012325230809466137}. Best is trial 0 with value: 0.7428236125712393.\n"
     ]
    },
    {
     "name": "stdout",
     "output_type": "stream",
     "text": [
      "2192:\ttest: 0.7400002\tbest: 0.7400002 (2192)\ttotal: 1m 42s\tremaining: 0us\n",
      "\n",
      "bestTest = 0.7400001855\n",
      "bestIteration = 2192\n",
      "\n",
      "0:\ttest: 0.6950652\tbest: 0.6950652 (0)\ttotal: 63.2ms\tremaining: 2m 40s\n",
      "300:\ttest: 0.7409786\tbest: 0.7410901 (294)\ttotal: 15.1s\tremaining: 1m 52s\n",
      "600:\ttest: 0.7409145\tbest: 0.7411323 (457)\ttotal: 30.5s\tremaining: 1m 38s\n"
     ]
    },
    {
     "name": "stderr",
     "output_type": "stream",
     "text": [
      "[I 2025-02-25 02:56:13,494] Trial 2 finished with value: 0.7411322576139427 and parameters: {'iterations': 2535, 'depth': 4, 'learning_rate': 0.09275339199839054, 'l2_leaf_reg': 0.0008705394248343123}. Best is trial 0 with value: 0.7428236125712393.\n"
     ]
    },
    {
     "name": "stdout",
     "output_type": "stream",
     "text": [
      "Stopped by overfitting detector  (300 iterations wait)\n",
      "\n",
      "bestTest = 0.7411322576\n",
      "bestIteration = 457\n",
      "\n",
      "Shrink model to first 458 iterations.\n",
      "0:\ttest: 0.6950652\tbest: 0.6950652 (0)\ttotal: 62.1ms\tremaining: 2m 24s\n",
      "300:\ttest: 0.7403909\tbest: 0.7403909 (300)\ttotal: 13.7s\tremaining: 1m 32s\n",
      "600:\ttest: 0.7414052\tbest: 0.7414324 (568)\ttotal: 28.5s\tremaining: 1m 22s\n",
      "900:\ttest: 0.7413963\tbest: 0.7415304 (823)\ttotal: 43.3s\tremaining: 1m 8s\n"
     ]
    },
    {
     "name": "stderr",
     "output_type": "stream",
     "text": [
      "[I 2025-02-25 02:57:08,254] Trial 3 finished with value: 0.741530386075 and parameters: {'iterations': 2334, 'depth': 4, 'learning_rate': 0.04657568321363276, 'l2_leaf_reg': 0.0008640473331457248}. Best is trial 0 with value: 0.7428236125712393.\n"
     ]
    },
    {
     "name": "stdout",
     "output_type": "stream",
     "text": [
      "Stopped by overfitting detector  (300 iterations wait)\n",
      "\n",
      "bestTest = 0.7415303861\n",
      "bestIteration = 823\n",
      "\n",
      "Shrink model to first 824 iterations.\n",
      "0:\ttest: 0.7267870\tbest: 0.7267870 (0)\ttotal: 126ms\tremaining: 3m 39s\n",
      "300:\ttest: 0.7392910\tbest: 0.7392910 (300)\ttotal: 37.8s\tremaining: 3m\n",
      "600:\ttest: 0.7402713\tbest: 0.7403621 (477)\ttotal: 1m 17s\tremaining: 2m 26s\n",
      "900:\ttest: 0.7404790\tbest: 0.7404966 (801)\ttotal: 1m 55s\tremaining: 1m 47s\n",
      "1200:\ttest: 0.7397995\tbest: 0.7407397 (1047)\ttotal: 2m 40s\tremaining: 1m 12s\n"
     ]
    },
    {
     "name": "stderr",
     "output_type": "stream",
     "text": [
      "[I 2025-02-25 03:00:12,187] Trial 4 finished with value: 0.7407396611417361 and parameters: {'iterations': 1742, 'depth': 10, 'learning_rate': 0.012622767482095846, 'l2_leaf_reg': 0.00021158816350109617}. Best is trial 0 with value: 0.7428236125712393.\n"
     ]
    },
    {
     "name": "stdout",
     "output_type": "stream",
     "text": [
      "Stopped by overfitting detector  (300 iterations wait)\n",
      "\n",
      "bestTest = 0.7407396611\n",
      "bestIteration = 1047\n",
      "\n",
      "Shrink model to first 1048 iterations.\n",
      "0:\ttest: 0.6950652\tbest: 0.6950652 (0)\ttotal: 56ms\tremaining: 1m 56s\n",
      "300:\ttest: 0.7414516\tbest: 0.7414516 (300)\ttotal: 14.6s\tremaining: 1m 26s\n",
      "600:\ttest: 0.7416245\tbest: 0.7417301 (354)\ttotal: 29.3s\tremaining: 1m 12s\n"
     ]
    },
    {
     "name": "stderr",
     "output_type": "stream",
     "text": [
      "[I 2025-02-25 03:00:44,293] Trial 5 finished with value: 0.7417301214513403 and parameters: {'iterations': 2082, 'depth': 4, 'learning_rate': 0.06995196593094148, 'l2_leaf_reg': 0.0018080296485396804}. Best is trial 0 with value: 0.7428236125712393.\n"
     ]
    },
    {
     "name": "stdout",
     "output_type": "stream",
     "text": [
      "Stopped by overfitting detector  (300 iterations wait)\n",
      "\n",
      "bestTest = 0.7417301215\n",
      "bestIteration = 354\n",
      "\n",
      "Shrink model to first 355 iterations.\n",
      "0:\ttest: 0.7035389\tbest: 0.7035389 (0)\ttotal: 62.2ms\tremaining: 2m 4s\n",
      "300:\ttest: 0.7420925\tbest: 0.7420935 (299)\ttotal: 17.2s\tremaining: 1m 36s\n",
      "600:\ttest: 0.7426062\tbest: 0.7426085 (596)\ttotal: 34.9s\tremaining: 1m 21s\n",
      "900:\ttest: 0.7427858\tbest: 0.7428176 (897)\ttotal: 52.9s\tremaining: 1m 4s\n"
     ]
    },
    {
     "name": "stderr",
     "output_type": "stream",
     "text": [
      "[I 2025-02-25 03:01:54,924] Trial 6 finished with value: 0.7428175643163797 and parameters: {'iterations': 1997, 'depth': 5, 'learning_rate': 0.07985155992831598, 'l2_leaf_reg': 62.52181000710482}. Best is trial 0 with value: 0.7428236125712393.\n"
     ]
    },
    {
     "name": "stdout",
     "output_type": "stream",
     "text": [
      "Stopped by overfitting detector  (300 iterations wait)\n",
      "\n",
      "bestTest = 0.7428175643\n",
      "bestIteration = 897\n",
      "\n",
      "Shrink model to first 898 iterations.\n",
      "0:\ttest: 0.7218415\tbest: 0.7218415 (0)\ttotal: 79.5ms\tremaining: 2m 33s\n",
      "300:\ttest: 0.7412379\tbest: 0.7419462 (205)\ttotal: 23.7s\tremaining: 2m 8s\n"
     ]
    },
    {
     "name": "stderr",
     "output_type": "stream",
     "text": [
      "[I 2025-02-25 03:02:35,888] Trial 7 finished with value: 0.7419461827473971 and parameters: {'iterations': 1927, 'depth': 7, 'learning_rate': 0.0941937211034094, 'l2_leaf_reg': 0.05654822767791934}. Best is trial 0 with value: 0.7428236125712393.\n"
     ]
    },
    {
     "name": "stdout",
     "output_type": "stream",
     "text": [
      "Stopped by overfitting detector  (300 iterations wait)\n",
      "\n",
      "bestTest = 0.7419461827\n",
      "bestIteration = 205\n",
      "\n",
      "Shrink model to first 206 iterations.\n",
      "0:\ttest: 0.7218424\tbest: 0.7218424 (0)\ttotal: 77.8ms\tremaining: 2m 27s\n",
      "300:\ttest: 0.7423496\tbest: 0.7423604 (286)\ttotal: 22.5s\tremaining: 1m 59s\n",
      "600:\ttest: 0.7422012\tbest: 0.7424506 (392)\ttotal: 47.2s\tremaining: 1m 42s\n"
     ]
    },
    {
     "name": "stderr",
     "output_type": "stream",
     "text": [
      "[I 2025-02-25 03:03:30,871] Trial 8 finished with value: 0.74245056272439 and parameters: {'iterations': 1904, 'depth': 7, 'learning_rate': 0.05155602859187331, 'l2_leaf_reg': 1.299974533316308}. Best is trial 0 with value: 0.7428236125712393.\n"
     ]
    },
    {
     "name": "stdout",
     "output_type": "stream",
     "text": [
      "Stopped by overfitting detector  (300 iterations wait)\n",
      "\n",
      "bestTest = 0.7424505627\n",
      "bestIteration = 392\n",
      "\n",
      "Shrink model to first 393 iterations.\n",
      "0:\ttest: 0.7197002\tbest: 0.7197002 (0)\ttotal: 71.1ms\tremaining: 3m 7s\n",
      "300:\ttest: 0.7412309\tbest: 0.7412575 (299)\ttotal: 19.2s\tremaining: 2m 29s\n",
      "600:\ttest: 0.7422577\tbest: 0.7422977 (590)\ttotal: 41.6s\tremaining: 2m 20s\n"
     ]
    },
    {
     "name": "stderr",
     "output_type": "stream",
     "text": [
      "[I 2025-02-25 03:04:33,993] Trial 9 finished with value: 0.7422976923878388 and parameters: {'iterations': 2639, 'depth': 6, 'learning_rate': 0.03968704290444751, 'l2_leaf_reg': 0.30557194377967184}. Best is trial 0 with value: 0.7428236125712393.\n"
     ]
    },
    {
     "name": "stdout",
     "output_type": "stream",
     "text": [
      "Stopped by overfitting detector  (300 iterations wait)\n",
      "\n",
      "bestTest = 0.7422976924\n",
      "bestIteration = 590\n",
      "\n",
      "Shrink model to first 591 iterations.\n",
      "0:\ttest: 0.7272643\tbest: 0.7272643 (0)\ttotal: 126ms\tremaining: 6m 9s\n",
      "300:\ttest: 0.7417121\tbest: 0.7417121 (300)\ttotal: 38s\tremaining: 5m 33s\n",
      "600:\ttest: 0.7426386\tbest: 0.7426386 (600)\ttotal: 1m 17s\tremaining: 5m 4s\n",
      "900:\ttest: 0.7429062\tbest: 0.7429062 (900)\ttotal: 2m 10s\tremaining: 4m 56s\n",
      "1200:\ttest: 0.7429950\tbest: 0.7429950 (1200)\ttotal: 3m 3s\tremaining: 4m 26s\n",
      "1500:\ttest: 0.7429733\tbest: 0.7430475 (1256)\ttotal: 3m 54s\tremaining: 3m 45s\n"
     ]
    },
    {
     "name": "stderr",
     "output_type": "stream",
     "text": [
      "[I 2025-02-25 03:08:38,090] Trial 10 finished with value: 0.7430475369957413 and parameters: {'iterations': 2945, 'depth': 10, 'learning_rate': 0.025911330134996406, 'l2_leaf_reg': 97.18545559492516}. Best is trial 10 with value: 0.7430475369957413.\n"
     ]
    },
    {
     "name": "stdout",
     "output_type": "stream",
     "text": [
      "Stopped by overfitting detector  (300 iterations wait)\n",
      "\n",
      "bestTest = 0.743047537\n",
      "bestIteration = 1256\n",
      "\n",
      "Shrink model to first 1257 iterations.\n",
      "저장 완료\n",
      "0:\ttest: 0.7272866\tbest: 0.7272866 (0)\ttotal: 120ms\tremaining: 5m 59s\n",
      "300:\ttest: 0.7419433\tbest: 0.7419463 (298)\ttotal: 36.2s\tremaining: 5m 24s\n",
      "600:\ttest: 0.7427295\tbest: 0.7427406 (595)\ttotal: 1m 20s\tremaining: 5m 19s\n",
      "900:\ttest: 0.7429282\tbest: 0.7429819 (857)\ttotal: 2m 14s\tremaining: 5m 11s\n",
      "1200:\ttest: 0.7430896\tbest: 0.7431038 (1190)\ttotal: 3m 8s\tremaining: 4m 41s\n",
      "1500:\ttest: 0.7430833\tbest: 0.7431267 (1434)\ttotal: 4m 3s\tremaining: 4m 1s\n"
     ]
    },
    {
     "name": "stderr",
     "output_type": "stream",
     "text": [
      "[I 2025-02-25 03:13:22,788] Trial 11 finished with value: 0.743126692488757 and parameters: {'iterations': 2995, 'depth': 10, 'learning_rate': 0.026163874004606635, 'l2_leaf_reg': 73.1213351392818}. Best is trial 11 with value: 0.743126692488757.\n"
     ]
    },
    {
     "name": "stdout",
     "output_type": "stream",
     "text": [
      "Stopped by overfitting detector  (300 iterations wait)\n",
      "\n",
      "bestTest = 0.7431266925\n",
      "bestIteration = 1434\n",
      "\n",
      "Shrink model to first 1435 iterations.\n",
      "저장 완료\n",
      "0:\ttest: 0.7251925\tbest: 0.7251925 (0)\ttotal: 124ms\tremaining: 5m 58s\n",
      "300:\ttest: 0.7417900\tbest: 0.7417900 (300)\ttotal: 28.3s\tremaining: 4m 4s\n",
      "600:\ttest: 0.7427625\tbest: 0.7427652 (587)\ttotal: 57.1s\tremaining: 3m 38s\n",
      "900:\ttest: 0.7429717\tbest: 0.7429719 (898)\ttotal: 1m 29s\tremaining: 3m 18s\n",
      "1200:\ttest: 0.7431647\tbest: 0.7431671 (1193)\ttotal: 2m 3s\tremaining: 2m 53s\n",
      "1500:\ttest: 0.7432084\tbest: 0.7432578 (1480)\ttotal: 2m 37s\tremaining: 2m 26s\n",
      "1800:\ttest: 0.7432796\tbest: 0.7432979 (1701)\ttotal: 3m 11s\tremaining: 1m 56s\n"
     ]
    },
    {
     "name": "stderr",
     "output_type": "stream",
     "text": [
      "[I 2025-02-25 03:16:57,377] Trial 12 finished with value: 0.7432979339526757 and parameters: {'iterations': 2897, 'depth': 9, 'learning_rate': 0.02806616524326411, 'l2_leaf_reg': 87.13438924619796}. Best is trial 12 with value: 0.7432979339526757.\n"
     ]
    },
    {
     "name": "stdout",
     "output_type": "stream",
     "text": [
      "Stopped by overfitting detector  (300 iterations wait)\n",
      "\n",
      "bestTest = 0.743297934\n",
      "bestIteration = 1701\n",
      "\n",
      "Shrink model to first 1702 iterations.\n",
      "저장 완료\n",
      "0:\ttest: 0.7252461\tbest: 0.7252461 (0)\ttotal: 118ms\tremaining: 5m 51s\n",
      "300:\ttest: 0.7419426\tbest: 0.7419426 (300)\ttotal: 29.4s\tremaining: 4m 21s\n",
      "600:\ttest: 0.7426317\tbest: 0.7426523 (465)\ttotal: 1m 2s\tremaining: 4m 6s\n"
     ]
    },
    {
     "name": "stderr",
     "output_type": "stream",
     "text": [
      "[I 2025-02-25 03:18:19,087] Trial 13 finished with value: 0.7426522916817807 and parameters: {'iterations': 2975, 'depth': 9, 'learning_rate': 0.02991325011301619, 'l2_leaf_reg': 6.51790052016232}. Best is trial 12 with value: 0.7432979339526757.\n"
     ]
    },
    {
     "name": "stdout",
     "output_type": "stream",
     "text": [
      "Stopped by overfitting detector  (300 iterations wait)\n",
      "\n",
      "bestTest = 0.7426522917\n",
      "bestIteration = 465\n",
      "\n",
      "Shrink model to first 466 iterations.\n",
      "0:\ttest: 0.7241356\tbest: 0.7241356 (0)\ttotal: 100ms\tremaining: 4m 36s\n",
      "300:\ttest: 0.7416743\tbest: 0.7416743 (300)\ttotal: 26.8s\tremaining: 3m 38s\n",
      "600:\ttest: 0.7427957\tbest: 0.7427993 (599)\ttotal: 55.5s\tremaining: 3m 18s\n",
      "900:\ttest: 0.7430482\tbest: 0.7430841 (813)\ttotal: 1m 25s\tremaining: 2m 56s\n",
      "1200:\ttest: 0.7430007\tbest: 0.7431276 (1053)\ttotal: 1m 55s\tremaining: 2m 29s\n"
     ]
    },
    {
     "name": "stderr",
     "output_type": "stream",
     "text": [
      "[I 2025-02-25 03:20:30,472] Trial 14 finished with value: 0.7431276138250191 and parameters: {'iterations': 2754, 'depth': 8, 'learning_rate': 0.028213940573808334, 'l2_leaf_reg': 11.34882823847059}. Best is trial 12 with value: 0.7432979339526757.\n"
     ]
    },
    {
     "name": "stdout",
     "output_type": "stream",
     "text": [
      "Stopped by overfitting detector  (300 iterations wait)\n",
      "\n",
      "bestTest = 0.7431276138\n",
      "bestIteration = 1053\n",
      "\n",
      "Shrink model to first 1054 iterations.\n",
      "0:\ttest: 0.7241061\tbest: 0.7241061 (0)\ttotal: 114ms\tremaining: 5m 10s\n",
      "300:\ttest: 0.7419854\tbest: 0.7420815 (221)\ttotal: 27.2s\tremaining: 3m 38s\n"
     ]
    },
    {
     "name": "stderr",
     "output_type": "stream",
     "text": [
      "[I 2025-02-25 03:21:19,488] Trial 15 finished with value: 0.7420815278385802 and parameters: {'iterations': 2718, 'depth': 8, 'learning_rate': 0.06211785996573631, 'l2_leaf_reg': 0.030020115275661678}. Best is trial 12 with value: 0.7432979339526757.\n"
     ]
    },
    {
     "name": "stdout",
     "output_type": "stream",
     "text": [
      "Stopped by overfitting detector  (300 iterations wait)\n",
      "\n",
      "bestTest = 0.7420815278\n",
      "bestIteration = 221\n",
      "\n",
      "Shrink model to first 222 iterations.\n",
      "0:\ttest: 0.7241332\tbest: 0.7241332 (0)\ttotal: 97.7ms\tremaining: 4m 27s\n",
      "300:\ttest: 0.7418492\tbest: 0.7418492 (300)\ttotal: 25.8s\tremaining: 3m 28s\n",
      "600:\ttest: 0.7423929\tbest: 0.7424199 (594)\ttotal: 55.3s\tremaining: 3m 16s\n",
      "900:\ttest: 0.7421893\tbest: 0.7424902 (683)\ttotal: 1m 25s\tremaining: 2m 55s\n"
     ]
    },
    {
     "name": "stderr",
     "output_type": "stream",
     "text": [
      "[I 2025-02-25 03:22:54,093] Trial 16 finished with value: 0.7424902238677147 and parameters: {'iterations': 2740, 'depth': 8, 'learning_rate': 0.035870893236084424, 'l2_leaf_reg': 7.271286562073501}. Best is trial 12 with value: 0.7432979339526757.\n"
     ]
    },
    {
     "name": "stdout",
     "output_type": "stream",
     "text": [
      "Stopped by overfitting detector  (300 iterations wait)\n",
      "\n",
      "bestTest = 0.7424902239\n",
      "bestIteration = 683\n",
      "\n",
      "Shrink model to first 684 iterations.\n",
      "0:\ttest: 0.7241071\tbest: 0.7241071 (0)\ttotal: 102ms\tremaining: 4m 46s\n",
      "300:\ttest: 0.7411602\tbest: 0.7411602 (300)\ttotal: 25.4s\tremaining: 3m 31s\n",
      "600:\ttest: 0.7423331\tbest: 0.7423380 (597)\ttotal: 51.6s\tremaining: 3m 9s\n",
      "900:\ttest: 0.7428721\tbest: 0.7428721 (900)\ttotal: 1m 21s\tremaining: 2m 52s\n",
      "1200:\ttest: 0.7429204\tbest: 0.7429225 (1199)\ttotal: 1m 51s\tremaining: 2m 29s\n",
      "1500:\ttest: 0.7426715\tbest: 0.7429356 (1209)\ttotal: 2m 22s\tremaining: 2m 4s\n"
     ]
    },
    {
     "name": "stderr",
     "output_type": "stream",
     "text": [
      "[I 2025-02-25 03:25:17,518] Trial 17 finished with value: 0.7429355906685984 and parameters: {'iterations': 2811, 'depth': 8, 'learning_rate': 0.021754312478655786, 'l2_leaf_reg': 1.1573000967262355}. Best is trial 12 with value: 0.7432979339526757.\n"
     ]
    },
    {
     "name": "stdout",
     "output_type": "stream",
     "text": [
      "Stopped by overfitting detector  (300 iterations wait)\n",
      "\n",
      "bestTest = 0.7429355907\n",
      "bestIteration = 1209\n",
      "\n",
      "Shrink model to first 1210 iterations.\n",
      "0:\ttest: 0.7252756\tbest: 0.7252756 (0)\ttotal: 110ms\tremaining: 4m 35s\n",
      "300:\ttest: 0.7419530\tbest: 0.7419600 (299)\ttotal: 28.3s\tremaining: 3m 27s\n",
      "600:\ttest: 0.7424357\tbest: 0.7424727 (570)\ttotal: 1m 2s\tremaining: 3m 17s\n"
     ]
    },
    {
     "name": "stderr",
     "output_type": "stream",
     "text": [
      "[I 2025-02-25 03:26:51,030] Trial 18 finished with value: 0.7424726668521306 and parameters: {'iterations': 2507, 'depth': 9, 'learning_rate': 0.0414161631329224, 'l2_leaf_reg': 18.777065184428203}. Best is trial 12 with value: 0.7432979339526757.\n"
     ]
    },
    {
     "name": "stdout",
     "output_type": "stream",
     "text": [
      "Stopped by overfitting detector  (300 iterations wait)\n",
      "\n",
      "bestTest = 0.7424726669\n",
      "bestIteration = 570\n",
      "\n",
      "Shrink model to first 571 iterations.\n",
      "0:\ttest: 0.7252114\tbest: 0.7252114 (0)\ttotal: 119ms\tremaining: 5m 37s\n",
      "300:\ttest: 0.7424647\tbest: 0.7426756 (280)\ttotal: 31.5s\tremaining: 4m 25s\n"
     ]
    },
    {
     "name": "stderr",
     "output_type": "stream",
     "text": [
      "[I 2025-02-25 03:27:55,017] Trial 19 finished with value: 0.74267555939368 and parameters: {'iterations': 2831, 'depth': 9, 'learning_rate': 0.06099268797854106, 'l2_leaf_reg': 1.4969676709690884}. Best is trial 12 with value: 0.7432979339526757.\n"
     ]
    },
    {
     "name": "stdout",
     "output_type": "stream",
     "text": [
      "Stopped by overfitting detector  (300 iterations wait)\n",
      "\n",
      "bestTest = 0.7426755594\n",
      "bestIteration = 280\n",
      "\n",
      "Shrink model to first 281 iterations.\n",
      "0:\ttest: 0.7218287\tbest: 0.7218287 (0)\ttotal: 119ms\tremaining: 3m 4s\n",
      "300:\ttest: 0.7397443\tbest: 0.7397453 (299)\ttotal: 22.2s\tremaining: 1m 32s\n",
      "600:\ttest: 0.7411561\tbest: 0.7411561 (600)\ttotal: 46.1s\tremaining: 1m 12s\n",
      "900:\ttest: 0.7418805\tbest: 0.7418901 (891)\ttotal: 1m 12s\tremaining: 52.3s\n",
      "1200:\ttest: 0.7418432\tbest: 0.7419746 (928)\ttotal: 1m 38s\tremaining: 28.6s\n"
     ]
    },
    {
     "name": "stderr",
     "output_type": "stream",
     "text": [
      "[I 2025-02-25 03:29:35,890] Trial 20 finished with value: 0.7419746329757717 and parameters: {'iterations': 1551, 'depth': 7, 'learning_rate': 0.019347020037057214, 'l2_leaf_reg': 0.012990508780008181}. Best is trial 12 with value: 0.7432979339526757.\n"
     ]
    },
    {
     "name": "stdout",
     "output_type": "stream",
     "text": [
      "Stopped by overfitting detector  (300 iterations wait)\n",
      "\n",
      "bestTest = 0.741974633\n",
      "bestIteration = 928\n",
      "\n",
      "Shrink model to first 929 iterations.\n",
      "0:\ttest: 0.7252753\tbest: 0.7252753 (0)\ttotal: 108ms\tremaining: 5m 21s\n",
      "300:\ttest: 0.7420013\tbest: 0.7420013 (300)\ttotal: 29s\tremaining: 4m 18s\n",
      "600:\ttest: 0.7430415\tbest: 0.7430503 (570)\ttotal: 1m\tremaining: 3m 59s\n",
      "900:\ttest: 0.7429786\tbest: 0.7431607 (687)\ttotal: 1m 35s\tremaining: 3m 39s\n"
     ]
    },
    {
     "name": "stderr",
     "output_type": "stream",
     "text": [
      "[I 2025-02-25 03:31:21,001] Trial 21 finished with value: 0.7431606588208741 and parameters: {'iterations': 2983, 'depth': 9, 'learning_rate': 0.029321454590493203, 'l2_leaf_reg': 31.45979022834493}. Best is trial 12 with value: 0.7432979339526757.\n"
     ]
    },
    {
     "name": "stdout",
     "output_type": "stream",
     "text": [
      "Stopped by overfitting detector  (300 iterations wait)\n",
      "\n",
      "bestTest = 0.7431606588\n",
      "bestIteration = 687\n",
      "\n",
      "Shrink model to first 688 iterations.\n",
      "0:\ttest: 0.7252742\tbest: 0.7252742 (0)\ttotal: 117ms\tremaining: 5m 1s\n",
      "300:\ttest: 0.7420183\tbest: 0.7420183 (300)\ttotal: 28.9s\tremaining: 3m 39s\n",
      "600:\ttest: 0.7426895\tbest: 0.7427104 (591)\ttotal: 1m 2s\tremaining: 3m 27s\n",
      "900:\ttest: 0.7425825\tbest: 0.7427964 (696)\ttotal: 1m 38s\tremaining: 3m 2s\n"
     ]
    },
    {
     "name": "stderr",
     "output_type": "stream",
     "text": [
      "[I 2025-02-25 03:33:10,413] Trial 22 finished with value: 0.7427964212376714 and parameters: {'iterations': 2582, 'depth': 9, 'learning_rate': 0.035148996235349866, 'l2_leaf_reg': 25.785803499022997}. Best is trial 12 with value: 0.7432979339526757.\n"
     ]
    },
    {
     "name": "stdout",
     "output_type": "stream",
     "text": [
      "Stopped by overfitting detector  (300 iterations wait)\n",
      "\n",
      "bestTest = 0.7427964212\n",
      "bestIteration = 696\n",
      "\n",
      "Shrink model to first 697 iterations.\n",
      "0:\ttest: 0.7241129\tbest: 0.7241129 (0)\ttotal: 97.7ms\tremaining: 4m 39s\n",
      "300:\ttest: 0.7402766\tbest: 0.7402766 (300)\ttotal: 26.5s\tremaining: 3m 45s\n",
      "600:\ttest: 0.7416924\tbest: 0.7416937 (599)\ttotal: 52.3s\tremaining: 3m 16s\n",
      "900:\ttest: 0.7422613\tbest: 0.7422733 (895)\ttotal: 1m 21s\tremaining: 2m 56s\n",
      "1200:\ttest: 0.7425706\tbest: 0.7425745 (1198)\ttotal: 1m 52s\tremaining: 2m 34s\n",
      "1500:\ttest: 0.7425122\tbest: 0.7425973 (1450)\ttotal: 2m 22s\tremaining: 2m 8s\n"
     ]
    },
    {
     "name": "stderr",
     "output_type": "stream",
     "text": [
      "[I 2025-02-25 03:35:58,850] Trial 23 finished with value: 0.7425972974379879 and parameters: {'iterations': 2859, 'depth': 8, 'learning_rate': 0.016614658100155666, 'l2_leaf_reg': 2.991415964642775}. Best is trial 12 with value: 0.7432979339526757.\n"
     ]
    },
    {
     "name": "stdout",
     "output_type": "stream",
     "text": [
      "Stopped by overfitting detector  (300 iterations wait)\n",
      "\n",
      "bestTest = 0.7425972974\n",
      "bestIteration = 1450\n",
      "\n",
      "Shrink model to first 1451 iterations.\n",
      "0:\ttest: 0.7252104\tbest: 0.7252104 (0)\ttotal: 121ms\tremaining: 5m 29s\n",
      "300:\ttest: 0.7414179\tbest: 0.7414249 (292)\ttotal: 30.4s\tremaining: 4m 4s\n",
      "600:\ttest: 0.7418989\tbest: 0.7420831 (472)\ttotal: 1m 4s\tremaining: 3m 46s\n"
     ]
    },
    {
     "name": "stderr",
     "output_type": "stream",
     "text": [
      "[I 2025-02-25 03:37:24,042] Trial 24 finished with value: 0.7420831004642693 and parameters: {'iterations': 2714, 'depth': 9, 'learning_rate': 0.033130985377124375, 'l2_leaf_reg': 0.379821007672553}. Best is trial 12 with value: 0.7432979339526757.\n"
     ]
    },
    {
     "name": "stdout",
     "output_type": "stream",
     "text": [
      "Stopped by overfitting detector  (300 iterations wait)\n",
      "\n",
      "bestTest = 0.7420831005\n",
      "bestIteration = 472\n",
      "\n",
      "Shrink model to first 473 iterations.\n",
      "0:\ttest: 0.7241485\tbest: 0.7241485 (0)\ttotal: 96.5ms\tremaining: 4m 38s\n",
      "300:\ttest: 0.7420829\tbest: 0.7421055 (292)\ttotal: 26s\tremaining: 3m 43s\n",
      "600:\ttest: 0.7424597\tbest: 0.7425972 (491)\ttotal: 56.2s\tremaining: 3m 34s\n"
     ]
    },
    {
     "name": "stderr",
     "output_type": "stream",
     "text": [
      "[I 2025-02-25 03:38:39,399] Trial 25 finished with value: 0.7425971703571241 and parameters: {'iterations': 2891, 'depth': 8, 'learning_rate': 0.04728273060844935, 'l2_leaf_reg': 24.8381812885726}. Best is trial 12 with value: 0.7432979339526757.\n"
     ]
    },
    {
     "name": "stdout",
     "output_type": "stream",
     "text": [
      "Stopped by overfitting detector  (300 iterations wait)\n",
      "\n",
      "bestTest = 0.7425971704\n",
      "bestIteration = 491\n",
      "\n",
      "Shrink model to first 492 iterations.\n",
      "0:\ttest: 0.7218877\tbest: 0.7218877 (0)\ttotal: 83.7ms\tremaining: 3m 23s\n",
      "300:\ttest: 0.7347977\tbest: 0.7347977 (300)\ttotal: 22.5s\tremaining: 2m 39s\n",
      "600:\ttest: 0.7382579\tbest: 0.7382579 (600)\ttotal: 45.5s\tremaining: 2m 19s\n",
      "900:\ttest: 0.7397431\tbest: 0.7397431 (900)\ttotal: 1m 8s\tremaining: 1m 57s\n",
      "1200:\ttest: 0.7405799\tbest: 0.7405799 (1200)\ttotal: 1m 31s\tremaining: 1m 34s\n",
      "1500:\ttest: 0.7410742\tbest: 0.7410742 (1500)\ttotal: 1m 54s\tremaining: 1m 11s\n",
      "1800:\ttest: 0.7414784\tbest: 0.7414784 (1800)\ttotal: 2m 17s\tremaining: 48.6s\n",
      "2100:\ttest: 0.7417584\tbest: 0.7417584 (2098)\ttotal: 2m 41s\tremaining: 25.8s\n",
      "2400:\ttest: 0.7419918\tbest: 0.7419923 (2395)\ttotal: 3m 6s\tremaining: 2.87s\n"
     ]
    },
    {
     "name": "stderr",
     "output_type": "stream",
     "text": [
      "[I 2025-02-25 03:41:49,575] Trial 26 finished with value: 0.742020358259064 and parameters: {'iterations': 2438, 'depth': 7, 'learning_rate': 0.006059939669800063, 'l2_leaf_reg': 33.508139690289084}. Best is trial 12 with value: 0.7432979339526757.\n"
     ]
    },
    {
     "name": "stdout",
     "output_type": "stream",
     "text": [
      "2437:\ttest: 0.7420203\tbest: 0.7420204 (2436)\ttotal: 3m 9s\tremaining: 0us\n",
      "\n",
      "bestTest = 0.7420203583\n",
      "bestIteration = 2436\n",
      "\n",
      "Shrink model to first 2437 iterations.\n",
      "0:\ttest: 0.7196997\tbest: 0.7196997 (0)\ttotal: 78.5ms\tremaining: 3m 28s\n",
      "300:\ttest: 0.7417853\tbest: 0.7417853 (300)\ttotal: 21s\tremaining: 2m 43s\n",
      "600:\ttest: 0.7424170\tbest: 0.7424354 (570)\ttotal: 43s\tremaining: 2m 26s\n"
     ]
    },
    {
     "name": "stderr",
     "output_type": "stream",
     "text": [
      "[I 2025-02-25 03:42:53,186] Trial 27 finished with value: 0.7424354281877714 and parameters: {'iterations': 2653, 'depth': 6, 'learning_rate': 0.05775762975480389, 'l2_leaf_reg': 4.7243353177772835}. Best is trial 12 with value: 0.7432979339526757.\n"
     ]
    },
    {
     "name": "stdout",
     "output_type": "stream",
     "text": [
      "Stopped by overfitting detector  (300 iterations wait)\n",
      "\n",
      "bestTest = 0.7424354282\n",
      "bestIteration = 570\n",
      "\n",
      "Shrink model to first 571 iterations.\n",
      "0:\ttest: 0.7252111\tbest: 0.7252111 (0)\ttotal: 116ms\tremaining: 5m 29s\n",
      "300:\ttest: 0.7414581\tbest: 0.7414581 (300)\ttotal: 30.1s\tremaining: 4m 12s\n",
      "600:\ttest: 0.7421267\tbest: 0.7421472 (549)\ttotal: 1m 2s\tremaining: 3m 52s\n",
      "900:\ttest: 0.7417732\tbest: 0.7422518 (653)\ttotal: 1m 38s\tremaining: 3m 30s\n"
     ]
    },
    {
     "name": "stderr",
     "output_type": "stream",
     "text": [
      "[I 2025-02-25 03:44:38,031] Trial 28 finished with value: 0.7422518003109129 and parameters: {'iterations': 2830, 'depth': 9, 'learning_rate': 0.026090180192834007, 'l2_leaf_reg': 0.6323343132123307}. Best is trial 12 with value: 0.7432979339526757.\n"
     ]
    },
    {
     "name": "stdout",
     "output_type": "stream",
     "text": [
      "Stopped by overfitting detector  (300 iterations wait)\n",
      "\n",
      "bestTest = 0.7422518003\n",
      "bestIteration = 653\n",
      "\n",
      "Shrink model to first 654 iterations.\n",
      "0:\ttest: 0.7269101\tbest: 0.7269101 (0)\ttotal: 125ms\tremaining: 5m 4s\n",
      "300:\ttest: 0.7402492\tbest: 0.7402511 (299)\ttotal: 39.5s\tremaining: 4m 41s\n",
      "600:\ttest: 0.7420459\tbest: 0.7420459 (600)\ttotal: 1m 21s\tremaining: 4m 10s\n",
      "900:\ttest: 0.7425764\tbest: 0.7425830 (898)\ttotal: 2m 4s\tremaining: 3m 33s\n",
      "1200:\ttest: 0.7427656\tbest: 0.7428236 (1099)\ttotal: 2m 52s\tremaining: 2m 58s\n"
     ]
    },
    {
     "name": "stderr",
     "output_type": "stream",
     "text": [
      "[I 2025-02-25 03:48:04,397] Trial 29 finished with value: 0.7428236443414553 and parameters: {'iterations': 2446, 'depth': 10, 'learning_rate': 0.013591331493697456, 'l2_leaf_reg': 13.633339401610208}. Best is trial 12 with value: 0.7432979339526757.\n"
     ]
    },
    {
     "name": "stdout",
     "output_type": "stream",
     "text": [
      "Stopped by overfitting detector  (300 iterations wait)\n",
      "\n",
      "bestTest = 0.7428236443\n",
      "bestIteration = 1099\n",
      "\n",
      "Shrink model to first 1100 iterations.\n",
      "0:\ttest: 0.7196957\tbest: 0.7196957 (0)\ttotal: 80.1ms\tremaining: 3m 4s\n",
      "300:\ttest: 0.7413417\tbest: 0.7413417 (300)\ttotal: 20.7s\tremaining: 2m 18s\n",
      "600:\ttest: 0.7423362\tbest: 0.7423826 (574)\ttotal: 43.1s\tremaining: 2m 2s\n",
      "900:\ttest: 0.7425516\tbest: 0.7425689 (764)\ttotal: 1m 5s\tremaining: 1m 42s\n"
     ]
    },
    {
     "name": "stderr",
     "output_type": "stream",
     "text": [
      "[I 2025-02-25 03:49:22,585] Trial 30 finished with value: 0.7425689067787681 and parameters: {'iterations': 2309, 'depth': 6, 'learning_rate': 0.043406038812507444, 'l2_leaf_reg': 11.953601611368297}. Best is trial 12 with value: 0.7432979339526757.\n"
     ]
    },
    {
     "name": "stdout",
     "output_type": "stream",
     "text": [
      "Stopped by overfitting detector  (300 iterations wait)\n",
      "\n",
      "bestTest = 0.7425689068\n",
      "bestIteration = 764\n",
      "\n",
      "Shrink model to first 765 iterations.\n",
      "0:\ttest: 0.7272770\tbest: 0.7272770 (0)\ttotal: 123ms\tremaining: 6m 8s\n",
      "300:\ttest: 0.7417066\tbest: 0.7417066 (300)\ttotal: 37.6s\tremaining: 5m 36s\n",
      "600:\ttest: 0.7426305\tbest: 0.7426307 (599)\ttotal: 1m 18s\tremaining: 5m 14s\n",
      "900:\ttest: 0.7429023\tbest: 0.7429118 (888)\ttotal: 2m 14s\tremaining: 5m 12s\n",
      "1200:\ttest: 0.7431217\tbest: 0.7431309 (1197)\ttotal: 3m 9s\tremaining: 4m 43s\n",
      "1500:\ttest: 0.7431731\tbest: 0.7432307 (1449)\ttotal: 4m 2s\tremaining: 4m 2s\n"
     ]
    },
    {
     "name": "stderr",
     "output_type": "stream",
     "text": [
      "[I 2025-02-25 03:54:10,240] Trial 31 finished with value: 0.7432307439172388 and parameters: {'iterations': 2999, 'depth': 10, 'learning_rate': 0.025341083875578062, 'l2_leaf_reg': 92.7480661481973}. Best is trial 12 with value: 0.7432979339526757.\n"
     ]
    },
    {
     "name": "stdout",
     "output_type": "stream",
     "text": [
      "Stopped by overfitting detector  (300 iterations wait)\n",
      "\n",
      "bestTest = 0.7432307439\n",
      "bestIteration = 1449\n",
      "\n",
      "Shrink model to first 1450 iterations.\n",
      "0:\ttest: 0.7272834\tbest: 0.7272834 (0)\ttotal: 149ms\tremaining: 7m 13s\n",
      "300:\ttest: 0.7414635\tbest: 0.7414635 (300)\ttotal: 39.8s\tremaining: 5m 44s\n",
      "600:\ttest: 0.7427037\tbest: 0.7427153 (597)\ttotal: 1m 19s\tremaining: 5m 5s\n",
      "900:\ttest: 0.7430279\tbest: 0.7430279 (899)\ttotal: 2m 11s\tremaining: 4m 53s\n",
      "1200:\ttest: 0.7431803\tbest: 0.7432157 (1186)\ttotal: 3m 5s\tremaining: 4m 24s\n",
      "1500:\ttest: 0.7432340\tbest: 0.7432764 (1443)\ttotal: 3m 58s\tremaining: 3m 44s\n"
     ]
    },
    {
     "name": "stderr",
     "output_type": "stream",
     "text": [
      "[I 2025-02-25 03:58:54,320] Trial 32 finished with value: 0.743276429487761 and parameters: {'iterations': 2911, 'depth': 10, 'learning_rate': 0.02058363084052614, 'l2_leaf_reg': 55.53220662784197}. Best is trial 12 with value: 0.7432979339526757.\n"
     ]
    },
    {
     "name": "stdout",
     "output_type": "stream",
     "text": [
      "Stopped by overfitting detector  (300 iterations wait)\n",
      "\n",
      "bestTest = 0.7432764295\n",
      "bestIteration = 1443\n",
      "\n",
      "Shrink model to first 1444 iterations.\n",
      "0:\ttest: 0.7272717\tbest: 0.7272717 (0)\ttotal: 142ms\tremaining: 7m 2s\n",
      "300:\ttest: 0.7370543\tbest: 0.7370543 (300)\ttotal: 39.3s\tremaining: 5m 48s\n",
      "600:\ttest: 0.7397792\tbest: 0.7397792 (600)\ttotal: 1m 19s\tremaining: 5m 14s\n",
      "900:\ttest: 0.7409314\tbest: 0.7409314 (900)\ttotal: 2m 1s\tremaining: 4m 38s\n",
      "1200:\ttest: 0.7416176\tbest: 0.7416179 (1199)\ttotal: 2m 41s\tremaining: 3m 58s\n",
      "1500:\ttest: 0.7419955\tbest: 0.7419955 (1500)\ttotal: 3m 24s\tremaining: 3m 20s\n",
      "1800:\ttest: 0.7422488\tbest: 0.7422497 (1798)\ttotal: 4m 6s\tremaining: 2m 40s\n",
      "2100:\ttest: 0.7424400\tbest: 0.7424401 (2099)\ttotal: 4m 45s\tremaining: 1m 58s\n",
      "2400:\ttest: 0.7426135\tbest: 0.7426153 (2399)\ttotal: 5m 33s\tremaining: 1m 19s\n",
      "2700:\ttest: 0.7426987\tbest: 0.7427035 (2698)\ttotal: 6m 30s\tremaining: 39.3s\n",
      "2972:\ttest: 0.7427669\tbest: 0.7427669 (2972)\ttotal: 7m 20s\tremaining: 0us\n",
      "\n",
      "bestTest = 0.7427669186\n",
      "bestIteration = 2972\n",
      "\n"
     ]
    },
    {
     "name": "stderr",
     "output_type": "stream",
     "text": [
      "[I 2025-02-25 04:06:16,010] Trial 33 finished with value: 0.7427669186208936 and parameters: {'iterations': 2973, 'depth': 10, 'learning_rate': 0.005964405741246542, 'l2_leaf_reg': 50.15916888288846}. Best is trial 12 with value: 0.7432979339526757.\n"
     ]
    },
    {
     "name": "stdout",
     "output_type": "stream",
     "text": [
      "0:\ttest: 0.7268067\tbest: 0.7268067 (0)\ttotal: 137ms\tremaining: 6m 39s\n",
      "300:\ttest: 0.7417106\tbest: 0.7417106 (300)\ttotal: 39.8s\tremaining: 5m 44s\n",
      "600:\ttest: 0.7428015\tbest: 0.7428020 (599)\ttotal: 1m 20s\tremaining: 5m 11s\n",
      "900:\ttest: 0.7431234\tbest: 0.7431363 (893)\ttotal: 2m 11s\tremaining: 4m 54s\n",
      "1200:\ttest: 0.7430170\tbest: 0.7431471 (940)\ttotal: 3m 6s\tremaining: 4m 25s\n"
     ]
    },
    {
     "name": "stderr",
     "output_type": "stream",
     "text": [
      "[I 2025-02-25 04:09:29,695] Trial 34 finished with value: 0.7431470691110056 and parameters: {'iterations': 2911, 'depth': 10, 'learning_rate': 0.022484171019342986, 'l2_leaf_reg': 38.602730643599145}. Best is trial 12 with value: 0.7432979339526757.\n"
     ]
    },
    {
     "name": "stdout",
     "output_type": "stream",
     "text": [
      "Stopped by overfitting detector  (300 iterations wait)\n",
      "\n",
      "bestTest = 0.7431470691\n",
      "bestIteration = 940\n",
      "\n",
      "Shrink model to first 941 iterations.\n",
      "0:\ttest: 0.7272756\tbest: 0.7272756 (0)\ttotal: 133ms\tremaining: 6m 23s\n",
      "300:\ttest: 0.7409568\tbest: 0.7409568 (300)\ttotal: 38.7s\tremaining: 5m 32s\n",
      "600:\ttest: 0.7421980\tbest: 0.7421998 (596)\ttotal: 1m 15s\tremaining: 4m 48s\n",
      "900:\ttest: 0.7427520\tbest: 0.7427528 (898)\ttotal: 2m\tremaining: 4m 25s\n",
      "1200:\ttest: 0.7428579\tbest: 0.7428818 (1159)\ttotal: 2m 53s\tremaining: 4m 4s\n",
      "1500:\ttest: 0.7429421\tbest: 0.7429440 (1484)\ttotal: 3m 48s\tremaining: 3m 30s\n",
      "1800:\ttest: 0.7429015\tbest: 0.7429810 (1632)\ttotal: 4m 39s\tremaining: 2m 49s\n"
     ]
    },
    {
     "name": "stderr",
     "output_type": "stream",
     "text": [
      "[I 2025-02-25 04:14:32,835] Trial 35 finished with value: 0.7429809783933462 and parameters: {'iterations': 2889, 'depth': 10, 'learning_rate': 0.01712481292238153, 'l2_leaf_reg': 88.51577928045378}. Best is trial 12 with value: 0.7432979339526757.\n"
     ]
    },
    {
     "name": "stdout",
     "output_type": "stream",
     "text": [
      "Stopped by overfitting detector  (300 iterations wait)\n",
      "\n",
      "bestTest = 0.7429809784\n",
      "bestIteration = 1632\n",
      "\n",
      "Shrink model to first 1633 iterations.\n",
      "0:\ttest: 0.7251791\tbest: 0.7251791 (0)\ttotal: 112ms\tremaining: 4m 4s\n",
      "300:\ttest: 0.7387439\tbest: 0.7387439 (300)\ttotal: 27.6s\tremaining: 2m 52s\n",
      "600:\ttest: 0.7409873\tbest: 0.7409874 (598)\ttotal: 56.1s\tremaining: 2m 27s\n",
      "900:\ttest: 0.7417998\tbest: 0.7417998 (900)\ttotal: 1m 23s\tremaining: 1m 58s\n",
      "1200:\ttest: 0.7423014\tbest: 0.7423014 (1199)\ttotal: 1m 50s\tremaining: 1m 30s\n",
      "1500:\ttest: 0.7425106\tbest: 0.7425107 (1498)\ttotal: 2m 20s\tremaining: 1m 3s\n",
      "1800:\ttest: 0.7426033\tbest: 0.7426035 (1797)\ttotal: 2m 52s\tremaining: 36.4s\n",
      "2100:\ttest: 0.7427766\tbest: 0.7427788 (2088)\ttotal: 3m 25s\tremaining: 7.81s\n"
     ]
    },
    {
     "name": "stderr",
     "output_type": "stream",
     "text": [
      "[I 2025-02-25 04:18:06,965] Trial 36 finished with value: 0.7428036767607367 and parameters: {'iterations': 2181, 'depth': 9, 'learning_rate': 0.010360181467047414, 'l2_leaf_reg': 95.56991941816968}. Best is trial 12 with value: 0.7432979339526757.\n"
     ]
    },
    {
     "name": "stdout",
     "output_type": "stream",
     "text": [
      "2180:\ttest: 0.7428010\tbest: 0.7428037 (2165)\ttotal: 3m 33s\tremaining: 0us\n",
      "\n",
      "bestTest = 0.7428036768\n",
      "bestIteration = 2165\n",
      "\n",
      "Shrink model to first 2166 iterations.\n",
      "0:\ttest: 0.7268735\tbest: 0.7268735 (0)\ttotal: 121ms\tremaining: 6m 3s\n",
      "300:\ttest: 0.7418805\tbest: 0.7419239 (293)\ttotal: 39.2s\tremaining: 5m 51s\n",
      "600:\ttest: 0.7418500\tbest: 0.7422142 (445)\ttotal: 1m 22s\tremaining: 5m 30s\n"
     ]
    },
    {
     "name": "stderr",
     "output_type": "stream",
     "text": [
      "[I 2025-02-25 04:19:52,237] Trial 37 finished with value: 0.7422142201167323 and parameters: {'iterations': 3000, 'depth': 10, 'learning_rate': 0.03210893116609709, 'l2_leaf_reg': 2.938953740416093}. Best is trial 12 with value: 0.7432979339526757.\n"
     ]
    },
    {
     "name": "stdout",
     "output_type": "stream",
     "text": [
      "Stopped by overfitting detector  (300 iterations wait)\n",
      "\n",
      "bestTest = 0.7422142201\n",
      "bestIteration = 445\n",
      "\n",
      "Shrink model to first 446 iterations.\n",
      "0:\ttest: 0.7252763\tbest: 0.7252763 (0)\ttotal: 109ms\tremaining: 5m 5s\n",
      "300:\ttest: 0.7421470\tbest: 0.7421506 (297)\ttotal: 27.8s\tremaining: 3m 50s\n",
      "600:\ttest: 0.7426991\tbest: 0.7427684 (515)\ttotal: 1m 1s\tremaining: 3m 45s\n",
      "900:\ttest: 0.7427205\tbest: 0.7428343 (788)\ttotal: 1m 34s\tremaining: 3m 20s\n"
     ]
    },
    {
     "name": "stderr",
     "output_type": "stream",
     "text": [
      "[I 2025-02-25 04:21:49,032] Trial 38 finished with value: 0.7428342516223023 and parameters: {'iterations': 2802, 'depth': 9, 'learning_rate': 0.03729328733066339, 'l2_leaf_reg': 36.80486429478774}. Best is trial 12 with value: 0.7432979339526757.\n"
     ]
    },
    {
     "name": "stdout",
     "output_type": "stream",
     "text": [
      "Stopped by overfitting detector  (300 iterations wait)\n",
      "\n",
      "bestTest = 0.7428342516\n",
      "bestIteration = 788\n",
      "\n",
      "Shrink model to first 789 iterations.\n",
      "0:\ttest: 0.7267905\tbest: 0.7267905 (0)\ttotal: 123ms\tremaining: 5m 17s\n",
      "300:\ttest: 0.7356032\tbest: 0.7391381 (95)\ttotal: 41.9s\tremaining: 5m 18s\n"
     ]
    },
    {
     "name": "stderr",
     "output_type": "stream",
     "text": [
      "[I 2025-02-25 04:22:45,924] Trial 39 finished with value: 0.739138140441288 and parameters: {'iterations': 2590, 'depth': 10, 'learning_rate': 0.08103129583237369, 'l2_leaf_reg': 0.006255778199270938}. Best is trial 12 with value: 0.7432979339526757.\n",
      "[I 2025-02-25 04:22:45,931] A new study created in memory with name: no-name-027bc781-946a-488e-8a91-a38dc434b507\n"
     ]
    },
    {
     "name": "stdout",
     "output_type": "stream",
     "text": [
      "Stopped by overfitting detector  (300 iterations wait)\n",
      "\n",
      "bestTest = 0.7391381404\n",
      "bestIteration = 95\n",
      "\n",
      "Shrink model to first 96 iterations.\n"
     ]
    },
    {
     "name": "stderr",
     "output_type": "stream",
     "text": [
      "[I 2025-02-25 04:23:09,464] Trial 0 finished with value: 0.7343031782145657 and parameters: {'num_iterations': 2366, 'objective': 'binary', 'metric': 'auc', 'verbose': -1, 'learning_rate': 0.0652646236447618, 'n_estimators': 236, 'min_child_samples': 45, 'subsample': 0.7, 'colsample_bytree': 0.5}. Best is trial 0 with value: 0.7343031782145657.\n",
      "[I 2025-02-25 04:23:26,575] Trial 1 finished with value: 0.7424347808696217 and parameters: {'num_iterations': 1510, 'objective': 'binary', 'metric': 'auc', 'verbose': -1, 'learning_rate': 0.005231880959249543, 'n_estimators': 1411, 'min_child_samples': 10, 'subsample': 1.0, 'colsample_bytree': 0.5}. Best is trial 1 with value: 0.7424347808696217.\n",
      "[I 2025-02-25 04:23:46,993] Trial 2 finished with value: 0.7420393925896893 and parameters: {'num_iterations': 2334, 'objective': 'binary', 'metric': 'auc', 'verbose': -1, 'learning_rate': 0.006578527777128852, 'n_estimators': 931, 'min_child_samples': 15, 'subsample': 0.5, 'colsample_bytree': 1.0}. Best is trial 1 with value: 0.7424347808696217.\n",
      "[I 2025-02-25 04:24:04,047] Trial 3 finished with value: 0.7426362715503927 and parameters: {'num_iterations': 1620, 'objective': 'binary', 'metric': 'auc', 'verbose': -1, 'learning_rate': 0.0058823249237283685, 'n_estimators': 837, 'min_child_samples': 10, 'subsample': 0.9, 'colsample_bytree': 0.6}. Best is trial 3 with value: 0.7426362715503927.\n",
      "[I 2025-02-25 04:24:20,575] Trial 4 finished with value: 0.7419909390391032 and parameters: {'num_iterations': 1997, 'objective': 'binary', 'metric': 'auc', 'verbose': -1, 'learning_rate': 0.010907507425244923, 'n_estimators': 1597, 'min_child_samples': 50, 'subsample': 0.6, 'colsample_bytree': 0.8}. Best is trial 3 with value: 0.7426362715503927.\n",
      "[I 2025-02-25 04:24:43,525] Trial 5 finished with value: 0.7394723432565962 and parameters: {'num_iterations': 2909, 'objective': 'binary', 'metric': 'auc', 'verbose': -1, 'learning_rate': 0.019760591962733942, 'n_estimators': 612, 'min_child_samples': 30, 'subsample': 0.7, 'colsample_bytree': 0.9}. Best is trial 3 with value: 0.7426362715503927.\n",
      "[I 2025-02-25 04:25:04,620] Trial 6 finished with value: 0.7403927978953757 and parameters: {'num_iterations': 2639, 'objective': 'binary', 'metric': 'auc', 'verbose': -1, 'learning_rate': 0.017862094446750985, 'n_estimators': 794, 'min_child_samples': 35, 'subsample': 1.0, 'colsample_bytree': 0.8}. Best is trial 3 with value: 0.7426362715503927.\n",
      "[I 2025-02-25 04:25:21,191] Trial 7 finished with value: 0.7423710696728302 and parameters: {'num_iterations': 1580, 'objective': 'binary', 'metric': 'auc', 'verbose': -1, 'learning_rate': 0.01776722177611332, 'n_estimators': 529, 'min_child_samples': 25, 'subsample': 0.8, 'colsample_bytree': 0.5}. Best is trial 3 with value: 0.7426362715503927.\n",
      "[I 2025-02-25 04:25:38,546] Trial 8 finished with value: 0.7394621489885562 and parameters: {'num_iterations': 1911, 'objective': 'binary', 'metric': 'auc', 'verbose': -1, 'learning_rate': 0.0304747553332844, 'n_estimators': 1328, 'min_child_samples': 10, 'subsample': 0.7, 'colsample_bytree': 0.6}. Best is trial 3 with value: 0.7426362715503927.\n",
      "[I 2025-02-25 04:26:06,693] Trial 9 finished with value: 0.7403021852682367 and parameters: {'num_iterations': 2739, 'objective': 'binary', 'metric': 'auc', 'verbose': -1, 'learning_rate': 0.02691531614176271, 'n_estimators': 1438, 'min_child_samples': 20, 'subsample': 0.6, 'colsample_bytree': 0.5}. Best is trial 3 with value: 0.7426362715503927.\n",
      "[I 2025-02-25 04:26:21,613] Trial 10 finished with value: 0.7323492900778454 and parameters: {'num_iterations': 1883, 'objective': 'binary', 'metric': 'auc', 'verbose': -1, 'learning_rate': 0.08223556891145911, 'n_estimators': 1917, 'min_child_samples': 40, 'subsample': 0.9, 'colsample_bytree': 0.7}. Best is trial 3 with value: 0.7426362715503927.\n",
      "[I 2025-02-25 04:26:37,246] Trial 11 finished with value: 0.7425461315052158 and parameters: {'num_iterations': 1513, 'objective': 'binary', 'metric': 'auc', 'verbose': -1, 'learning_rate': 0.005340229419903739, 'n_estimators': 1206, 'min_child_samples': 10, 'subsample': 1.0, 'colsample_bytree': 0.6}. Best is trial 3 with value: 0.7426362715503927.\n",
      "[I 2025-02-25 04:26:52,025] Trial 12 finished with value: 0.7426280232080792 and parameters: {'num_iterations': 1717, 'objective': 'binary', 'metric': 'auc', 'verbose': -1, 'learning_rate': 0.008807202863131344, 'n_estimators': 1093, 'min_child_samples': 20, 'subsample': 0.9, 'colsample_bytree': 0.7}. Best is trial 3 with value: 0.7426362715503927.\n",
      "[I 2025-02-25 04:27:07,159] Trial 13 finished with value: 0.7425585020330476 and parameters: {'num_iterations': 1785, 'objective': 'binary', 'metric': 'auc', 'verbose': -1, 'learning_rate': 0.010668787980411185, 'n_estimators': 1055, 'min_child_samples': 20, 'subsample': 0.9, 'colsample_bytree': 0.7}. Best is trial 3 with value: 0.7426362715503927.\n",
      "[I 2025-02-25 04:27:27,871] Trial 14 finished with value: 0.7428193633048573 and parameters: {'num_iterations': 2165, 'objective': 'binary', 'metric': 'auc', 'verbose': -1, 'learning_rate': 0.008676723130645643, 'n_estimators': 172, 'min_child_samples': 20, 'subsample': 0.9, 'colsample_bytree': 0.6}. Best is trial 14 with value: 0.7428193633048573.\n",
      "[I 2025-02-25 04:27:49,546] Trial 15 finished with value: 0.7426777396247489 and parameters: {'num_iterations': 2153, 'objective': 'binary', 'metric': 'auc', 'verbose': -1, 'learning_rate': 0.008303365162986591, 'n_estimators': 181, 'min_child_samples': 25, 'subsample': 0.8, 'colsample_bytree': 0.6}. Best is trial 14 with value: 0.7428193633048573.\n",
      "[I 2025-02-25 04:28:10,666] Trial 16 finished with value: 0.7422131161017285 and parameters: {'num_iterations': 2191, 'objective': 'binary', 'metric': 'auc', 'verbose': -1, 'learning_rate': 0.012344805966483833, 'n_estimators': 195, 'min_child_samples': 30, 'subsample': 0.8, 'colsample_bytree': 0.6}. Best is trial 14 with value: 0.7428193633048573.\n",
      "[I 2025-02-25 04:28:30,535] Trial 17 finished with value: 0.7426742329871645 and parameters: {'num_iterations': 2097, 'objective': 'binary', 'metric': 'auc', 'verbose': -1, 'learning_rate': 0.008166258047721095, 'n_estimators': 414, 'min_child_samples': 25, 'subsample': 0.8, 'colsample_bytree': 0.6}. Best is trial 14 with value: 0.7428193633048573.\n",
      "[I 2025-02-25 04:28:49,776] Trial 18 finished with value: 0.7368431990364475 and parameters: {'num_iterations': 2494, 'objective': 'binary', 'metric': 'auc', 'verbose': -1, 'learning_rate': 0.04175636655733555, 'n_estimators': 126, 'min_child_samples': 30, 'subsample': 0.8, 'colsample_bytree': 0.7}. Best is trial 14 with value: 0.7428193633048573.\n",
      "[I 2025-02-25 04:29:07,384] Trial 19 finished with value: 0.7415122214540361 and parameters: {'num_iterations': 2202, 'objective': 'binary', 'metric': 'auc', 'verbose': -1, 'learning_rate': 0.013790921320752703, 'n_estimators': 350, 'min_child_samples': 25, 'subsample': 0.9, 'colsample_bytree': 0.8}. Best is trial 14 with value: 0.7428193633048573.\n",
      "[I 2025-02-25 04:29:27,894] Trial 20 finished with value: 0.7417253837178882 and parameters: {'num_iterations': 2518, 'objective': 'binary', 'metric': 'auc', 'verbose': -1, 'learning_rate': 0.007877155758725746, 'n_estimators': 631, 'min_child_samples': 35, 'subsample': 0.5, 'colsample_bytree': 0.9}. Best is trial 14 with value: 0.7428193633048573.\n",
      "[I 2025-02-25 04:29:47,800] Trial 21 finished with value: 0.7429271000783882 and parameters: {'num_iterations': 2071, 'objective': 'binary', 'metric': 'auc', 'verbose': -1, 'learning_rate': 0.007994000704152805, 'n_estimators': 410, 'min_child_samples': 25, 'subsample': 0.8, 'colsample_bytree': 0.6}. Best is trial 21 with value: 0.7429271000783882.\n",
      "[I 2025-02-25 04:30:07,705] Trial 22 finished with value: 0.741754846621896 and parameters: {'num_iterations': 2076, 'objective': 'binary', 'metric': 'auc', 'verbose': -1, 'learning_rate': 0.013944970165771392, 'n_estimators': 101, 'min_child_samples': 15, 'subsample': 0.8, 'colsample_bytree': 0.6}. Best is trial 21 with value: 0.7429271000783882.\n",
      "[I 2025-02-25 04:30:32,090] Trial 23 finished with value: 0.7427735109407013 and parameters: {'num_iterations': 2312, 'objective': 'binary', 'metric': 'auc', 'verbose': -1, 'learning_rate': 0.007305732077404912, 'n_estimators': 355, 'min_child_samples': 25, 'subsample': 0.7, 'colsample_bytree': 0.5}. Best is trial 21 with value: 0.7429271000783882.\n",
      "[I 2025-02-25 04:30:56,910] Trial 24 finished with value: 0.7428722924846141 and parameters: {'num_iterations': 2347, 'objective': 'binary', 'metric': 'auc', 'verbose': -1, 'learning_rate': 0.00715503481639589, 'n_estimators': 405, 'min_child_samples': 20, 'subsample': 0.6, 'colsample_bytree': 0.5}. Best is trial 21 with value: 0.7429271000783882.\n",
      "[I 2025-02-25 04:31:22,100] Trial 25 finished with value: 0.7423371192258208 and parameters: {'num_iterations': 2448, 'objective': 'binary', 'metric': 'auc', 'verbose': -1, 'learning_rate': 0.010331463518494613, 'n_estimators': 507, 'min_child_samples': 15, 'subsample': 0.6, 'colsample_bytree': 0.5}. Best is trial 21 with value: 0.7429271000783882.\n",
      "[I 2025-02-25 04:31:39,543] Trial 26 finished with value: 0.7426948597998638 and parameters: {'num_iterations': 2026, 'objective': 'binary', 'metric': 'auc', 'verbose': -1, 'learning_rate': 0.006560862459482555, 'n_estimators': 673, 'min_child_samples': 20, 'subsample': 0.6, 'colsample_bytree': 0.7}. Best is trial 21 with value: 0.7429271000783882.\n",
      "[I 2025-02-25 04:32:03,931] Trial 27 finished with value: 0.7413150435800789 and parameters: {'num_iterations': 2654, 'objective': 'binary', 'metric': 'auc', 'verbose': -1, 'learning_rate': 0.015012548298828771, 'n_estimators': 329, 'min_child_samples': 15, 'subsample': 0.7, 'colsample_bytree': 0.6}. Best is trial 21 with value: 0.7429271000783882.\n",
      "[I 2025-02-25 04:32:28,218] Trial 28 finished with value: 0.7423005914200433 and parameters: {'num_iterations': 2253, 'objective': 'binary', 'metric': 'auc', 'verbose': -1, 'learning_rate': 0.009648233210868976, 'n_estimators': 482, 'min_child_samples': 35, 'subsample': 0.5, 'colsample_bytree': 0.5}. Best is trial 21 with value: 0.7429271000783882.\n",
      "[I 2025-02-25 04:32:51,746] Trial 29 finished with value: 0.7377380429099021 and parameters: {'num_iterations': 2394, 'objective': 'binary', 'metric': 'auc', 'verbose': -1, 'learning_rate': 0.04030098468148633, 'n_estimators': 242, 'min_child_samples': 20, 'subsample': 0.9, 'colsample_bytree': 0.5}. Best is trial 21 with value: 0.7429271000783882.\n",
      "[I 2025-02-25 04:33:12,765] Trial 30 finished with value: 0.7427607075436773 and parameters: {'num_iterations': 1959, 'objective': 'binary', 'metric': 'auc', 'verbose': -1, 'learning_rate': 0.006460983608738546, 'n_estimators': 680, 'min_child_samples': 40, 'subsample': 0.6, 'colsample_bytree': 0.5}. Best is trial 21 with value: 0.7429271000783882.\n",
      "[I 2025-02-25 04:33:37,033] Trial 31 finished with value: 0.7428915650918589 and parameters: {'num_iterations': 2285, 'objective': 'binary', 'metric': 'auc', 'verbose': -1, 'learning_rate': 0.006866424978209369, 'n_estimators': 317, 'min_child_samples': 25, 'subsample': 0.7, 'colsample_bytree': 0.5}. Best is trial 21 with value: 0.7429271000783882.\n",
      "[I 2025-02-25 04:34:01,870] Trial 32 finished with value: 0.7428551087690672 and parameters: {'num_iterations': 2311, 'objective': 'binary', 'metric': 'auc', 'verbose': -1, 'learning_rate': 0.005275517862593509, 'n_estimators': 291, 'min_child_samples': 25, 'subsample': 0.7, 'colsample_bytree': 0.5}. Best is trial 21 with value: 0.7429271000783882.\n",
      "[I 2025-02-25 04:34:26,593] Trial 33 finished with value: 0.7428650647604876 and parameters: {'num_iterations': 2301, 'objective': 'binary', 'metric': 'auc', 'verbose': -1, 'learning_rate': 0.005131167162587012, 'n_estimators': 289, 'min_child_samples': 30, 'subsample': 0.7, 'colsample_bytree': 0.5}. Best is trial 21 with value: 0.7429271000783882.\n",
      "[I 2025-02-25 04:34:54,055] Trial 34 finished with value: 0.742808362867588 and parameters: {'num_iterations': 2572, 'objective': 'binary', 'metric': 'auc', 'verbose': -1, 'learning_rate': 0.0061363802178915, 'n_estimators': 876, 'min_child_samples': 30, 'subsample': 0.6, 'colsample_bytree': 0.5}. Best is trial 21 with value: 0.7429271000783882.\n",
      "[I 2025-02-25 04:35:20,467] Trial 35 finished with value: 0.7428263487810872 and parameters: {'num_iterations': 2378, 'objective': 'binary', 'metric': 'auc', 'verbose': -1, 'learning_rate': 0.005217965518588707, 'n_estimators': 451, 'min_child_samples': 35, 'subsample': 0.7, 'colsample_bytree': 0.5}. Best is trial 21 with value: 0.7429271000783882.\n",
      "[I 2025-02-25 04:35:44,885] Trial 36 finished with value: 0.74288032637797 and parameters: {'num_iterations': 2270, 'objective': 'binary', 'metric': 'auc', 'verbose': -1, 'learning_rate': 0.0069517101334198705, 'n_estimators': 752, 'min_child_samples': 30, 'subsample': 0.6, 'colsample_bytree': 0.5}. Best is trial 21 with value: 0.7429271000783882.\n",
      "[I 2025-02-25 04:36:05,592] Trial 37 finished with value: 0.7419342093472645 and parameters: {'num_iterations': 2425, 'objective': 'binary', 'metric': 'auc', 'verbose': -1, 'learning_rate': 0.007164595533054539, 'n_estimators': 946, 'min_child_samples': 40, 'subsample': 0.5, 'colsample_bytree': 1.0}. Best is trial 21 with value: 0.7429271000783882.\n",
      "[I 2025-02-25 04:36:25,463] Trial 38 finished with value: 0.7422151335104407 and parameters: {'num_iterations': 2092, 'objective': 'binary', 'metric': 'auc', 'verbose': -1, 'learning_rate': 0.011883247615141966, 'n_estimators': 778, 'min_child_samples': 30, 'subsample': 0.6, 'colsample_bytree': 0.6}. Best is trial 21 with value: 0.7429271000783882.\n",
      "[I 2025-02-25 04:36:55,035] Trial 39 finished with value: 0.7422233739102002 and parameters: {'num_iterations': 2822, 'objective': 'binary', 'metric': 'auc', 'verbose': -1, 'learning_rate': 0.009432861791198245, 'n_estimators': 545, 'min_child_samples': 15, 'subsample': 0.5, 'colsample_bytree': 0.5}. Best is trial 21 with value: 0.7429271000783882.\n"
     ]
    },
    {
     "name": "stdout",
     "output_type": "stream",
     "text": [
      "Cat val score : 0.7432979339526757\n",
      "LGBM val score : 0.7426082700763182\n",
      "Ensemble val score : 0.7433811878035476\n"
     ]
    },
    {
     "name": "stderr",
     "output_type": "stream",
     "text": [
      "[I 2025-02-25 04:37:17,007] A new study created in memory with name: no-name-f23ea683-d19a-43ed-96e9-2be4daab23c1\n"
     ]
    },
    {
     "name": "stdout",
     "output_type": "stream",
     "text": [
      "==================================================\n",
      "0:\ttest: 0.7282260\tbest: 0.7282260 (0)\ttotal: 183ms\tremaining: 7m 12s\n",
      "300:\ttest: 0.7390882\tbest: 0.7390882 (300)\ttotal: 41.9s\tremaining: 4m 47s\n",
      "600:\ttest: 0.7405514\tbest: 0.7405535 (596)\ttotal: 1m 22s\tremaining: 4m 2s\n",
      "900:\ttest: 0.7410148\tbest: 0.7410148 (900)\ttotal: 2m 2s\tremaining: 3m 19s\n",
      "1200:\ttest: 0.7414092\tbest: 0.7414178 (1182)\ttotal: 2m 47s\tremaining: 2m 42s\n",
      "1500:\ttest: 0.7414454\tbest: 0.7414669 (1464)\ttotal: 3m 37s\tremaining: 2m 5s\n",
      "1800:\ttest: 0.7412876\tbest: 0.7414757 (1524)\ttotal: 4m 26s\tremaining: 1m 23s\n"
     ]
    },
    {
     "name": "stderr",
     "output_type": "stream",
     "text": [
      "[I 2025-02-25 04:41:47,611] Trial 0 finished with value: 0.7414756985416269 and parameters: {'iterations': 2366, 'depth': 10, 'learning_rate': 0.01181021951839225, 'l2_leaf_reg': 9.980783802743254}. Best is trial 0 with value: 0.7414756985416269.\n"
     ]
    },
    {
     "name": "stdout",
     "output_type": "stream",
     "text": [
      "Stopped by overfitting detector  (300 iterations wait)\n",
      "\n",
      "bestTest = 0.7414756985\n",
      "bestIteration = 1524\n",
      "\n",
      "Shrink model to first 1525 iterations.\n",
      "저장 완료\n",
      "0:\ttest: 0.6988814\tbest: 0.6988814 (0)\ttotal: 56.7ms\tremaining: 2m 4s\n",
      "300:\ttest: 0.7299273\tbest: 0.7299273 (300)\ttotal: 12.9s\tremaining: 1m 20s\n"
     ]
    },
    {
     "name": "stderr",
     "output_type": "stream",
     "text": [
      "Training has stopped (degenerate solution on iteration 390, probably too small l2-regularization, try to increase it)\n",
      "[I 2025-02-25 04:42:04,399] Trial 1 finished with value: 0.7318363682604967 and parameters: {'iterations': 2193, 'depth': 4, 'learning_rate': 0.005671430811678843, 'l2_leaf_reg': 0.00012325230809466137}. Best is trial 0 with value: 0.7414756985416269.\n"
     ]
    },
    {
     "name": "stdout",
     "output_type": "stream",
     "text": [
      "\n",
      "bestTest = 0.7318363683\n",
      "bestIteration = 389\n",
      "\n",
      "Shrink model to first 390 iterations.\n",
      "0:\ttest: 0.6988814\tbest: 0.6988814 (0)\ttotal: 53.7ms\tremaining: 2m 16s\n",
      "300:\ttest: 0.7403846\tbest: 0.7404690 (290)\ttotal: 14.2s\tremaining: 1m 45s\n",
      "600:\ttest: 0.7401635\tbest: 0.7405450 (502)\ttotal: 28.8s\tremaining: 1m 32s\n"
     ]
    },
    {
     "name": "stderr",
     "output_type": "stream",
     "text": [
      "[I 2025-02-25 04:42:43,312] Trial 2 finished with value: 0.7405450300245061 and parameters: {'iterations': 2535, 'depth': 4, 'learning_rate': 0.09275339199839054, 'l2_leaf_reg': 0.0008705394248343123}. Best is trial 0 with value: 0.7414756985416269.\n"
     ]
    },
    {
     "name": "stdout",
     "output_type": "stream",
     "text": [
      "Stopped by overfitting detector  (300 iterations wait)\n",
      "\n",
      "bestTest = 0.74054503\n",
      "bestIteration = 502\n",
      "\n",
      "Shrink model to first 503 iterations.\n",
      "0:\ttest: 0.6988814\tbest: 0.6988814 (0)\ttotal: 52.2ms\tremaining: 2m 1s\n",
      "300:\ttest: 0.7387885\tbest: 0.7387885 (300)\ttotal: 13.5s\tremaining: 1m 31s\n",
      "600:\ttest: 0.7398319\tbest: 0.7398319 (600)\ttotal: 28.1s\tremaining: 1m 21s\n",
      "900:\ttest: 0.7400483\tbest: 0.7400723 (804)\ttotal: 42.8s\tremaining: 1m 8s\n",
      "1200:\ttest: 0.7398395\tbest: 0.7400802 (921)\ttotal: 57.5s\tremaining: 54.2s\n"
     ]
    },
    {
     "name": "stderr",
     "output_type": "stream",
     "text": [
      "[I 2025-02-25 04:43:41,991] Trial 3 finished with value: 0.7400801941121669 and parameters: {'iterations': 2334, 'depth': 4, 'learning_rate': 0.04657568321363276, 'l2_leaf_reg': 0.0008640473331457248}. Best is trial 0 with value: 0.7414756985416269.\n"
     ]
    },
    {
     "name": "stdout",
     "output_type": "stream",
     "text": [
      "Stopped by overfitting detector  (300 iterations wait)\n",
      "\n",
      "bestTest = 0.7400801941\n",
      "bestIteration = 921\n",
      "\n",
      "Shrink model to first 922 iterations.\n",
      "0:\ttest: 0.7281149\tbest: 0.7281149 (0)\ttotal: 122ms\tremaining: 3m 32s\n",
      "300:\ttest: 0.7384660\tbest: 0.7385088 (299)\ttotal: 37s\tremaining: 2m 57s\n",
      "600:\ttest: 0.7394272\tbest: 0.7394272 (600)\ttotal: 1m 16s\tremaining: 2m 24s\n",
      "900:\ttest: 0.7397162\tbest: 0.7397901 (850)\ttotal: 1m 56s\tremaining: 1m 48s\n"
     ]
    },
    {
     "name": "stderr",
     "output_type": "stream",
     "text": [
      "[I 2025-02-25 04:46:16,922] Trial 4 finished with value: 0.7397900771937105 and parameters: {'iterations': 1742, 'depth': 10, 'learning_rate': 0.012622767482095846, 'l2_leaf_reg': 0.00021158816350109617}. Best is trial 0 with value: 0.7414756985416269.\n"
     ]
    },
    {
     "name": "stdout",
     "output_type": "stream",
     "text": [
      "Stopped by overfitting detector  (300 iterations wait)\n",
      "\n",
      "bestTest = 0.7397900772\n",
      "bestIteration = 850\n",
      "\n",
      "Shrink model to first 851 iterations.\n",
      "0:\ttest: 0.6988814\tbest: 0.6988814 (0)\ttotal: 51.6ms\tremaining: 1m 47s\n",
      "300:\ttest: 0.7405087\tbest: 0.7405087 (300)\ttotal: 14.1s\tremaining: 1m 23s\n",
      "600:\ttest: 0.7405061\tbest: 0.7406886 (362)\ttotal: 28.9s\tremaining: 1m 11s\n"
     ]
    },
    {
     "name": "stderr",
     "output_type": "stream",
     "text": [
      "[I 2025-02-25 04:46:49,094] Trial 5 finished with value: 0.7406885934450707 and parameters: {'iterations': 2082, 'depth': 4, 'learning_rate': 0.06995196593094148, 'l2_leaf_reg': 0.0018080296485396804}. Best is trial 0 with value: 0.7414756985416269.\n"
     ]
    },
    {
     "name": "stdout",
     "output_type": "stream",
     "text": [
      "Stopped by overfitting detector  (300 iterations wait)\n",
      "\n",
      "bestTest = 0.7406885934\n",
      "bestIteration = 362\n",
      "\n",
      "Shrink model to first 363 iterations.\n",
      "0:\ttest: 0.7071303\tbest: 0.7071303 (0)\ttotal: 61.8ms\tremaining: 2m 3s\n",
      "300:\ttest: 0.7408372\tbest: 0.7408642 (299)\ttotal: 17.7s\tremaining: 1m 39s\n",
      "600:\ttest: 0.7412903\tbest: 0.7413498 (585)\ttotal: 35.7s\tremaining: 1m 23s\n"
     ]
    },
    {
     "name": "stderr",
     "output_type": "stream",
     "text": [
      "[I 2025-02-25 04:47:42,036] Trial 6 finished with value: 0.7413498214483067 and parameters: {'iterations': 1997, 'depth': 5, 'learning_rate': 0.07985155992831598, 'l2_leaf_reg': 62.52181000710482}. Best is trial 0 with value: 0.7414756985416269.\n"
     ]
    },
    {
     "name": "stdout",
     "output_type": "stream",
     "text": [
      "Stopped by overfitting detector  (300 iterations wait)\n",
      "\n",
      "bestTest = 0.7413498214\n",
      "bestIteration = 585\n",
      "\n",
      "Shrink model to first 586 iterations.\n",
      "0:\ttest: 0.7236828\tbest: 0.7236828 (0)\ttotal: 85.5ms\tremaining: 2m 44s\n",
      "300:\ttest: 0.7392613\tbest: 0.7402550 (161)\ttotal: 24.3s\tremaining: 2m 11s\n"
     ]
    },
    {
     "name": "stderr",
     "output_type": "stream",
     "text": [
      "[I 2025-02-25 04:48:20,014] Trial 7 finished with value: 0.7402550242908641 and parameters: {'iterations': 1927, 'depth': 7, 'learning_rate': 0.0941937211034094, 'l2_leaf_reg': 0.05654822767791934}. Best is trial 0 with value: 0.7414756985416269.\n"
     ]
    },
    {
     "name": "stdout",
     "output_type": "stream",
     "text": [
      "Stopped by overfitting detector  (300 iterations wait)\n",
      "\n",
      "bestTest = 0.7402550243\n",
      "bestIteration = 161\n",
      "\n",
      "Shrink model to first 162 iterations.\n",
      "0:\ttest: 0.7237079\tbest: 0.7237079 (0)\ttotal: 81.4ms\tremaining: 2m 34s\n",
      "300:\ttest: 0.7403712\tbest: 0.7404518 (284)\ttotal: 23.2s\tremaining: 2m 3s\n",
      "600:\ttest: 0.7405785\tbest: 0.7406185 (567)\ttotal: 50.8s\tremaining: 1m 50s\n"
     ]
    },
    {
     "name": "stderr",
     "output_type": "stream",
     "text": [
      "[I 2025-02-25 04:49:34,872] Trial 8 finished with value: 0.7406184636234578 and parameters: {'iterations': 1904, 'depth': 7, 'learning_rate': 0.05155602859187331, 'l2_leaf_reg': 1.299974533316308}. Best is trial 0 with value: 0.7414756985416269.\n"
     ]
    },
    {
     "name": "stdout",
     "output_type": "stream",
     "text": [
      "Stopped by overfitting detector  (300 iterations wait)\n",
      "\n",
      "bestTest = 0.7406184636\n",
      "bestIteration = 567\n",
      "\n",
      "Shrink model to first 568 iterations.\n",
      "0:\ttest: 0.7210650\tbest: 0.7210650 (0)\ttotal: 82.1ms\tremaining: 3m 36s\n",
      "300:\ttest: 0.7402452\tbest: 0.7402465 (299)\ttotal: 21.6s\tremaining: 2m 48s\n",
      "600:\ttest: 0.7408639\tbest: 0.7409460 (469)\ttotal: 44s\tremaining: 2m 29s\n"
     ]
    },
    {
     "name": "stderr",
     "output_type": "stream",
     "text": [
      "[I 2025-02-25 04:50:31,634] Trial 9 finished with value: 0.7409459664357189 and parameters: {'iterations': 2639, 'depth': 6, 'learning_rate': 0.03968704290444751, 'l2_leaf_reg': 0.30557194377967184}. Best is trial 0 with value: 0.7414756985416269.\n"
     ]
    },
    {
     "name": "stdout",
     "output_type": "stream",
     "text": [
      "Stopped by overfitting detector  (300 iterations wait)\n",
      "\n",
      "bestTest = 0.7409459664\n",
      "bestIteration = 469\n",
      "\n",
      "Shrink model to first 470 iterations.\n",
      "0:\ttest: 0.7280440\tbest: 0.7280440 (0)\ttotal: 124ms\tremaining: 6m 4s\n",
      "300:\ttest: 0.7407458\tbest: 0.7407458 (300)\ttotal: 37.2s\tremaining: 5m 27s\n",
      "600:\ttest: 0.7414434\tbest: 0.7414580 (564)\ttotal: 1m 18s\tremaining: 5m 4s\n",
      "900:\ttest: 0.7415198\tbest: 0.7415720 (818)\ttotal: 2m 11s\tremaining: 4m 59s\n",
      "1200:\ttest: 0.7416689\tbest: 0.7416788 (1181)\ttotal: 3m 5s\tremaining: 4m 29s\n",
      "1500:\ttest: 0.7416950\tbest: 0.7416951 (1498)\ttotal: 4m\tremaining: 3m 50s\n",
      "1800:\ttest: 0.7415885\tbest: 0.7417116 (1534)\ttotal: 4m 55s\tremaining: 3m 7s\n"
     ]
    },
    {
     "name": "stderr",
     "output_type": "stream",
     "text": [
      "[I 2025-02-25 04:55:33,700] Trial 10 finished with value: 0.7417116327175484 and parameters: {'iterations': 2945, 'depth': 10, 'learning_rate': 0.025911330134996406, 'l2_leaf_reg': 97.18545559492516}. Best is trial 10 with value: 0.7417116327175484.\n"
     ]
    },
    {
     "name": "stdout",
     "output_type": "stream",
     "text": [
      "Stopped by overfitting detector  (300 iterations wait)\n",
      "\n",
      "bestTest = 0.7417116327\n",
      "bestIteration = 1534\n",
      "\n",
      "Shrink model to first 1535 iterations.\n",
      "저장 완료\n",
      "0:\ttest: 0.7281196\tbest: 0.7281196 (0)\ttotal: 149ms\tremaining: 7m 24s\n",
      "300:\ttest: 0.7407294\tbest: 0.7407294 (300)\ttotal: 40s\tremaining: 5m 58s\n",
      "600:\ttest: 0.7414293\tbest: 0.7414334 (598)\ttotal: 1m 23s\tremaining: 5m 32s\n",
      "900:\ttest: 0.7416230\tbest: 0.7416248 (899)\ttotal: 2m 16s\tremaining: 5m 17s\n",
      "1200:\ttest: 0.7415873\tbest: 0.7416937 (1054)\ttotal: 3m 8s\tremaining: 4m 41s\n"
     ]
    },
    {
     "name": "stderr",
     "output_type": "stream",
     "text": [
      "[I 2025-02-25 04:59:10,798] Trial 11 finished with value: 0.7416936565156096 and parameters: {'iterations': 2995, 'depth': 10, 'learning_rate': 0.026163874004606635, 'l2_leaf_reg': 73.1213351392818}. Best is trial 10 with value: 0.7417116327175484.\n"
     ]
    },
    {
     "name": "stdout",
     "output_type": "stream",
     "text": [
      "Stopped by overfitting detector  (300 iterations wait)\n",
      "\n",
      "bestTest = 0.7416936565\n",
      "bestIteration = 1054\n",
      "\n",
      "Shrink model to first 1055 iterations.\n",
      "0:\ttest: 0.7268090\tbest: 0.7268090 (0)\ttotal: 119ms\tremaining: 5m 45s\n",
      "300:\ttest: 0.7407392\tbest: 0.7407392 (300)\ttotal: 28.3s\tremaining: 4m 3s\n",
      "600:\ttest: 0.7413401\tbest: 0.7413401 (600)\ttotal: 57.5s\tremaining: 3m 39s\n",
      "900:\ttest: 0.7416592\tbest: 0.7416894 (829)\ttotal: 1m 30s\tremaining: 3m 20s\n",
      "1200:\ttest: 0.7417403\tbest: 0.7417458 (1191)\ttotal: 2m 3s\tremaining: 2m 54s\n",
      "1500:\ttest: 0.7417784\tbest: 0.7418367 (1363)\ttotal: 2m 36s\tremaining: 2m 26s\n"
     ]
    },
    {
     "name": "stderr",
     "output_type": "stream",
     "text": [
      "[I 2025-02-25 05:02:06,293] Trial 12 finished with value: 0.7418366759247614 and parameters: {'iterations': 2897, 'depth': 9, 'learning_rate': 0.02806616524326411, 'l2_leaf_reg': 87.13438924619796}. Best is trial 12 with value: 0.7418366759247614.\n"
     ]
    },
    {
     "name": "stdout",
     "output_type": "stream",
     "text": [
      "Stopped by overfitting detector  (300 iterations wait)\n",
      "\n",
      "bestTest = 0.7418366759\n",
      "bestIteration = 1363\n",
      "\n",
      "Shrink model to first 1364 iterations.\n",
      "저장 완료\n",
      "0:\ttest: 0.7268030\tbest: 0.7268030 (0)\ttotal: 122ms\tremaining: 6m 1s\n",
      "300:\ttest: 0.7407022\tbest: 0.7407022 (300)\ttotal: 28.7s\tremaining: 4m 14s\n",
      "600:\ttest: 0.7416188\tbest: 0.7416276 (599)\ttotal: 59.2s\tremaining: 3m 54s\n",
      "900:\ttest: 0.7415188\tbest: 0.7416668 (613)\ttotal: 1m 32s\tremaining: 3m 33s\n"
     ]
    },
    {
     "name": "stderr",
     "output_type": "stream",
     "text": [
      "[I 2025-02-25 05:03:40,743] Trial 13 finished with value: 0.7416668252373899 and parameters: {'iterations': 2975, 'depth': 9, 'learning_rate': 0.02975441117748237, 'l2_leaf_reg': 7.828901342687942}. Best is trial 12 with value: 0.7418366759247614.\n"
     ]
    },
    {
     "name": "stdout",
     "output_type": "stream",
     "text": [
      "Stopped by overfitting detector  (300 iterations wait)\n",
      "\n",
      "bestTest = 0.7416668252\n",
      "bestIteration = 613\n",
      "\n",
      "Shrink model to first 614 iterations.\n",
      "0:\ttest: 0.7256743\tbest: 0.7256743 (0)\ttotal: 92.9ms\tremaining: 4m 15s\n",
      "300:\ttest: 0.7399981\tbest: 0.7400061 (299)\ttotal: 25.4s\tremaining: 3m 26s\n",
      "600:\ttest: 0.7406339\tbest: 0.7407646 (503)\ttotal: 53.3s\tremaining: 3m 10s\n",
      "900:\ttest: 0.7403729\tbest: 0.7408381 (684)\ttotal: 1m 22s\tremaining: 2m 49s\n"
     ]
    },
    {
     "name": "stderr",
     "output_type": "stream",
     "text": [
      "[I 2025-02-25 05:05:11,477] Trial 14 finished with value: 0.7408381290785171 and parameters: {'iterations': 2754, 'depth': 8, 'learning_rate': 0.028213940573808334, 'l2_leaf_reg': 0.02939703823210393}. Best is trial 12 with value: 0.7418366759247614.\n"
     ]
    },
    {
     "name": "stdout",
     "output_type": "stream",
     "text": [
      "Stopped by overfitting detector  (300 iterations wait)\n",
      "\n",
      "bestTest = 0.7408381291\n",
      "bestIteration = 684\n",
      "\n",
      "Shrink model to first 685 iterations.\n",
      "0:\ttest: 0.7268085\tbest: 0.7268085 (0)\ttotal: 108ms\tremaining: 2m 43s\n",
      "300:\ttest: 0.7408737\tbest: 0.7409384 (273)\ttotal: 30.6s\tremaining: 2m 3s\n",
      "600:\ttest: 0.7404305\tbest: 0.7410218 (331)\ttotal: 1m 3s\tremaining: 1m 36s\n"
     ]
    },
    {
     "name": "stderr",
     "output_type": "stream",
     "text": [
      "[I 2025-02-25 05:06:19,007] Trial 15 finished with value: 0.7410217547702018 and parameters: {'iterations': 1513, 'depth': 9, 'learning_rate': 0.06221445398551971, 'l2_leaf_reg': 9.663069382488304}. Best is trial 12 with value: 0.7418366759247614.\n"
     ]
    },
    {
     "name": "stdout",
     "output_type": "stream",
     "text": [
      "Stopped by overfitting detector  (300 iterations wait)\n",
      "\n",
      "bestTest = 0.7410217548\n",
      "bestIteration = 331\n",
      "\n",
      "Shrink model to first 332 iterations.\n",
      "0:\ttest: 0.7267990\tbest: 0.7267990 (0)\ttotal: 113ms\tremaining: 5m 18s\n",
      "300:\ttest: 0.7407480\tbest: 0.7407480 (300)\ttotal: 28.7s\tremaining: 4m\n",
      "600:\ttest: 0.7405136\tbest: 0.7411230 (433)\ttotal: 1m 1s\tremaining: 3m 47s\n"
     ]
    },
    {
     "name": "stderr",
     "output_type": "stream",
     "text": [
      "[I 2025-02-25 05:07:35,714] Trial 16 finished with value: 0.7411229806018396 and parameters: {'iterations': 2824, 'depth': 9, 'learning_rate': 0.03780133673970677, 'l2_leaf_reg': 1.8341589839267998}. Best is trial 12 with value: 0.7418366759247614.\n"
     ]
    },
    {
     "name": "stdout",
     "output_type": "stream",
     "text": [
      "Stopped by overfitting detector  (300 iterations wait)\n",
      "\n",
      "bestTest = 0.7411229806\n",
      "bestIteration = 433\n",
      "\n",
      "Shrink model to first 434 iterations.\n",
      "0:\ttest: 0.7256935\tbest: 0.7256935 (0)\ttotal: 95.6ms\tremaining: 4m 3s\n",
      "300:\ttest: 0.7398844\tbest: 0.7398844 (300)\ttotal: 25s\tremaining: 3m 6s\n",
      "600:\ttest: 0.7409433\tbest: 0.7409433 (600)\ttotal: 48.7s\tremaining: 2m 37s\n",
      "900:\ttest: 0.7413189\tbest: 0.7413199 (898)\ttotal: 1m 16s\tremaining: 2m 19s\n",
      "1200:\ttest: 0.7415401\tbest: 0.7415427 (1198)\ttotal: 1m 45s\tremaining: 1m 57s\n",
      "1500:\ttest: 0.7415459\tbest: 0.7415601 (1232)\ttotal: 2m 13s\tremaining: 1m 33s\n"
     ]
    },
    {
     "name": "stderr",
     "output_type": "stream",
     "text": [
      "[I 2025-02-25 05:09:52,850] Trial 17 finished with value: 0.7415601275245346 and parameters: {'iterations': 2546, 'depth': 8, 'learning_rate': 0.020683376194142355, 'l2_leaf_reg': 80.62911323694684}. Best is trial 12 with value: 0.7418366759247614.\n"
     ]
    },
    {
     "name": "stdout",
     "output_type": "stream",
     "text": [
      "Stopped by overfitting detector  (300 iterations wait)\n",
      "\n",
      "bestTest = 0.7415601275\n",
      "bestIteration = 1232\n",
      "\n",
      "Shrink model to first 1233 iterations.\n",
      "0:\ttest: 0.7256743\tbest: 0.7256743 (0)\ttotal: 100ms\tremaining: 4m 42s\n",
      "300:\ttest: 0.7403554\tbest: 0.7403629 (299)\ttotal: 26.3s\tremaining: 3m 40s\n",
      "600:\ttest: 0.7398733\tbest: 0.7405140 (326)\ttotal: 54.9s\tremaining: 3m 22s\n"
     ]
    },
    {
     "name": "stderr",
     "output_type": "stream",
     "text": [
      "[I 2025-02-25 05:10:50,507] Trial 18 finished with value: 0.740514037257523 and parameters: {'iterations': 2815, 'depth': 8, 'learning_rate': 0.038994196866933575, 'l2_leaf_reg': 0.010016909578442512}. Best is trial 12 with value: 0.7418366759247614.\n"
     ]
    },
    {
     "name": "stdout",
     "output_type": "stream",
     "text": [
      "Stopped by overfitting detector  (300 iterations wait)\n",
      "\n",
      "bestTest = 0.7405140373\n",
      "bestIteration = 326\n",
      "\n",
      "Shrink model to first 327 iterations.\n",
      "0:\ttest: 0.7267953\tbest: 0.7267953 (0)\ttotal: 110ms\tremaining: 4m 30s\n",
      "300:\ttest: 0.7397967\tbest: 0.7401147 (262)\ttotal: 30s\tremaining: 3m 34s\n"
     ]
    },
    {
     "name": "stderr",
     "output_type": "stream",
     "text": [
      "[I 2025-02-25 05:11:49,905] Trial 19 finished with value: 0.7401147090552311 and parameters: {'iterations': 2460, 'depth': 9, 'learning_rate': 0.06108415238553991, 'l2_leaf_reg': 0.31055845032241847}. Best is trial 12 with value: 0.7418366759247614.\n"
     ]
    },
    {
     "name": "stdout",
     "output_type": "stream",
     "text": [
      "Stopped by overfitting detector  (300 iterations wait)\n",
      "\n",
      "bestTest = 0.7401147091\n",
      "bestIteration = 262\n",
      "\n",
      "Shrink model to first 263 iterations.\n",
      "0:\ttest: 0.7282077\tbest: 0.7282077 (0)\ttotal: 124ms\tremaining: 5m 38s\n",
      "300:\ttest: 0.7402537\tbest: 0.7402559 (298)\ttotal: 37.1s\tremaining: 4m 58s\n",
      "600:\ttest: 0.7411544\tbest: 0.7411544 (600)\ttotal: 1m 16s\tremaining: 4m 29s\n",
      "900:\ttest: 0.7413244\tbest: 0.7414173 (785)\ttotal: 2m 3s\tremaining: 4m 9s\n"
     ]
    },
    {
     "name": "stderr",
     "output_type": "stream",
     "text": [
      "[I 2025-02-25 05:14:24,152] Trial 20 finished with value: 0.7414173026888078 and parameters: {'iterations': 2723, 'depth': 10, 'learning_rate': 0.01929636238051948, 'l2_leaf_reg': 20.419787539717326}. Best is trial 12 with value: 0.7418366759247614.\n"
     ]
    },
    {
     "name": "stdout",
     "output_type": "stream",
     "text": [
      "Stopped by overfitting detector  (300 iterations wait)\n",
      "\n",
      "bestTest = 0.7414173027\n",
      "bestIteration = 785\n",
      "\n",
      "Shrink model to first 786 iterations.\n",
      "0:\ttest: 0.7280694\tbest: 0.7280694 (0)\ttotal: 162ms\tremaining: 8m 4s\n",
      "300:\ttest: 0.7408067\tbest: 0.7408067 (300)\ttotal: 38s\tremaining: 5m 39s\n",
      "600:\ttest: 0.7414772\tbest: 0.7414786 (597)\ttotal: 1m 19s\tremaining: 5m 15s\n",
      "900:\ttest: 0.7416138\tbest: 0.7416276 (758)\ttotal: 2m 11s\tremaining: 5m 4s\n",
      "1200:\ttest: 0.7417651\tbest: 0.7417791 (1138)\ttotal: 3m 3s\tremaining: 4m 33s\n",
      "1500:\ttest: 0.7418357\tbest: 0.7418979 (1454)\ttotal: 3m 55s\tremaining: 3m 53s\n"
     ]
    },
    {
     "name": "stderr",
     "output_type": "stream",
     "text": [
      "[I 2025-02-25 05:19:04,485] Trial 21 finished with value: 0.7418978871359139 and parameters: {'iterations': 2987, 'depth': 10, 'learning_rate': 0.026734118994056238, 'l2_leaf_reg': 89.15015196527139}. Best is trial 21 with value: 0.7418978871359139.\n"
     ]
    },
    {
     "name": "stdout",
     "output_type": "stream",
     "text": [
      "Stopped by overfitting detector  (300 iterations wait)\n",
      "\n",
      "bestTest = 0.7418978871\n",
      "bestIteration = 1454\n",
      "\n",
      "Shrink model to first 1455 iterations.\n",
      "저장 완료\n",
      "0:\ttest: 0.7281642\tbest: 0.7281642 (0)\ttotal: 127ms\tremaining: 6m 7s\n",
      "300:\ttest: 0.7408995\tbest: 0.7408995 (300)\ttotal: 37.7s\tremaining: 5m 25s\n",
      "600:\ttest: 0.7415465\tbest: 0.7415552 (597)\ttotal: 1m 24s\tremaining: 5m 22s\n",
      "900:\ttest: 0.7413892\tbest: 0.7415875 (677)\ttotal: 2m 14s\tremaining: 4m 57s\n"
     ]
    },
    {
     "name": "stderr",
     "output_type": "stream",
     "text": [
      "[I 2025-02-25 05:21:31,717] Trial 22 finished with value: 0.7415874750179635 and parameters: {'iterations': 2901, 'depth': 10, 'learning_rate': 0.03207041050153613, 'l2_leaf_reg': 26.79380819355506}. Best is trial 21 with value: 0.7418978871359139.\n"
     ]
    },
    {
     "name": "stdout",
     "output_type": "stream",
     "text": [
      "Stopped by overfitting detector  (300 iterations wait)\n",
      "\n",
      "bestTest = 0.741587475\n",
      "bestIteration = 677\n",
      "\n",
      "Shrink model to first 678 iterations.\n",
      "0:\ttest: 0.7267986\tbest: 0.7267986 (0)\ttotal: 112ms\tremaining: 4m 57s\n",
      "300:\ttest: 0.7399005\tbest: 0.7399005 (300)\ttotal: 28.1s\tremaining: 3m 39s\n",
      "600:\ttest: 0.7411448\tbest: 0.7411448 (600)\ttotal: 57.7s\tremaining: 3m 17s\n",
      "900:\ttest: 0.7413108\tbest: 0.7414191 (813)\ttotal: 1m 31s\tremaining: 2m 57s\n"
     ]
    },
    {
     "name": "stderr",
     "output_type": "stream",
     "text": [
      "[I 2025-02-25 05:23:26,922] Trial 23 finished with value: 0.7414191292964711 and parameters: {'iterations': 2655, 'depth': 9, 'learning_rate': 0.0196124913381426, 'l2_leaf_reg': 2.4534576369251293}. Best is trial 21 with value: 0.7418978871359139.\n"
     ]
    },
    {
     "name": "stdout",
     "output_type": "stream",
     "text": [
      "Stopped by overfitting detector  (300 iterations wait)\n",
      "\n",
      "bestTest = 0.7414191293\n",
      "bestIteration = 813\n",
      "\n",
      "Shrink model to first 814 iterations.\n",
      "0:\ttest: 0.7257595\tbest: 0.7257595 (0)\ttotal: 98.9ms\tremaining: 4m 42s\n",
      "300:\ttest: 0.7406566\tbest: 0.7406566 (300)\ttotal: 24.5s\tremaining: 3m 28s\n",
      "600:\ttest: 0.7412489\tbest: 0.7412819 (592)\ttotal: 53.2s\tremaining: 3m 20s\n"
     ]
    },
    {
     "name": "stderr",
     "output_type": "stream",
     "text": [
      "[I 2025-02-25 05:24:48,251] Trial 24 finished with value: 0.7412818716432312 and parameters: {'iterations': 2861, 'depth': 8, 'learning_rate': 0.044055598493985285, 'l2_leaf_reg': 23.907646817393502}. Best is trial 21 with value: 0.7418978871359139.\n"
     ]
    },
    {
     "name": "stdout",
     "output_type": "stream",
     "text": [
      "Stopped by overfitting detector  (300 iterations wait)\n",
      "\n",
      "bestTest = 0.7412818716\n",
      "bestIteration = 592\n",
      "\n",
      "Shrink model to first 593 iterations.\n",
      "0:\ttest: 0.7280440\tbest: 0.7280440 (0)\ttotal: 124ms\tremaining: 6m 10s\n",
      "300:\ttest: 0.7373887\tbest: 0.7373887 (300)\ttotal: 36.6s\tremaining: 5m 26s\n",
      "600:\ttest: 0.7397060\tbest: 0.7397060 (600)\ttotal: 1m 14s\tremaining: 4m 55s\n",
      "900:\ttest: 0.7405861\tbest: 0.7405861 (900)\ttotal: 1m 52s\tremaining: 4m 19s\n",
      "1200:\ttest: 0.7409126\tbest: 0.7409126 (1200)\ttotal: 2m 29s\tremaining: 3m 41s\n",
      "1500:\ttest: 0.7411665\tbest: 0.7411674 (1499)\ttotal: 3m 2s\tremaining: 3m\n",
      "1800:\ttest: 0.7413844\tbest: 0.7413857 (1795)\ttotal: 3m 39s\tremaining: 2m 23s\n",
      "2100:\ttest: 0.7414443\tbest: 0.7414477 (2087)\ttotal: 4m 30s\tremaining: 1m 53s\n",
      "2400:\ttest: 0.7414943\tbest: 0.7414943 (2400)\ttotal: 5m 22s\tremaining: 1m 17s\n",
      "2700:\ttest: 0.7415768\tbest: 0.7415792 (2683)\ttotal: 6m 15s\tremaining: 38.9s\n"
     ]
    },
    {
     "name": "stderr",
     "output_type": "stream",
     "text": [
      "[I 2025-02-25 05:31:53,334] Trial 25 finished with value: 0.7416225260306681 and parameters: {'iterations': 2981, 'depth': 10, 'learning_rate': 0.00746691849547795, 'l2_leaf_reg': 97.17161829204947}. Best is trial 21 with value: 0.7418978871359139.\n"
     ]
    },
    {
     "name": "stdout",
     "output_type": "stream",
     "text": [
      "2980:\ttest: 0.7416156\tbest: 0.7416225 (2950)\ttotal: 7m 4s\tremaining: 0us\n",
      "\n",
      "bestTest = 0.741622526\n",
      "bestIteration = 2950\n",
      "\n",
      "Shrink model to first 2951 iterations.\n",
      "0:\ttest: 0.7267985\tbest: 0.7267985 (0)\ttotal: 110ms\tremaining: 4m 53s\n",
      "300:\ttest: 0.7404566\tbest: 0.7404566 (300)\ttotal: 28.2s\tremaining: 3m 42s\n",
      "600:\ttest: 0.7413960\tbest: 0.7413960 (600)\ttotal: 57.4s\tremaining: 3m 17s\n",
      "900:\ttest: 0.7414653\tbest: 0.7415828 (782)\ttotal: 1m 31s\tremaining: 2m 59s\n"
     ]
    },
    {
     "name": "stderr",
     "output_type": "stream",
     "text": [
      "[I 2025-02-25 05:33:45,008] Trial 26 finished with value: 0.7415827973139909 and parameters: {'iterations': 2674, 'depth': 9, 'learning_rate': 0.02262957131029208, 'l2_leaf_reg': 4.342397790956773}. Best is trial 21 with value: 0.7418978871359139.\n"
     ]
    },
    {
     "name": "stdout",
     "output_type": "stream",
     "text": [
      "Stopped by overfitting detector  (300 iterations wait)\n",
      "\n",
      "bestTest = 0.7415827973\n",
      "bestIteration = 782\n",
      "\n",
      "Shrink model to first 783 iterations.\n",
      "0:\ttest: 0.7281670\tbest: 0.7281670 (0)\ttotal: 123ms\tremaining: 5m 54s\n",
      "300:\ttest: 0.7398189\tbest: 0.7398189 (300)\ttotal: 37.2s\tremaining: 5m 19s\n",
      "600:\ttest: 0.7408692\tbest: 0.7408748 (597)\ttotal: 1m 17s\tremaining: 4m 53s\n",
      "900:\ttest: 0.7412216\tbest: 0.7412411 (897)\ttotal: 1m 58s\tremaining: 4m 19s\n"
     ]
    },
    {
     "name": "stderr",
     "output_type": "stream",
     "text": [
      "[I 2025-02-25 05:36:28,005] Trial 27 finished with value: 0.7412411144670218 and parameters: {'iterations': 2884, 'depth': 10, 'learning_rate': 0.015031205029540619, 'l2_leaf_reg': 0.9029191790950363}. Best is trial 21 with value: 0.7418978871359139.\n"
     ]
    },
    {
     "name": "stdout",
     "output_type": "stream",
     "text": [
      "Stopped by overfitting detector  (300 iterations wait)\n",
      "\n",
      "bestTest = 0.7412411145\n",
      "bestIteration = 897\n",
      "\n",
      "Shrink model to first 898 iterations.\n",
      "0:\ttest: 0.7210521\tbest: 0.7210521 (0)\ttotal: 76.4ms\tremaining: 3m 15s\n",
      "300:\ttest: 0.7396055\tbest: 0.7396069 (299)\ttotal: 19.7s\tremaining: 2m 27s\n",
      "600:\ttest: 0.7410424\tbest: 0.7410428 (595)\ttotal: 40.3s\tremaining: 2m 11s\n",
      "900:\ttest: 0.7412491\tbest: 0.7412731 (882)\ttotal: 1m 1s\tremaining: 1m 54s\n"
     ]
    },
    {
     "name": "stderr",
     "output_type": "stream",
     "text": [
      "[I 2025-02-25 05:37:50,023] Trial 28 finished with value: 0.7412731476061958 and parameters: {'iterations': 2565, 'depth': 6, 'learning_rate': 0.0337943701088492, 'l2_leaf_reg': 26.30162555901931}. Best is trial 21 with value: 0.7418978871359139.\n"
     ]
    },
    {
     "name": "stdout",
     "output_type": "stream",
     "text": [
      "Stopped by overfitting detector  (300 iterations wait)\n",
      "\n",
      "bestTest = 0.7412731476\n",
      "bestIteration = 882\n",
      "\n",
      "Shrink model to first 883 iterations.\n",
      "0:\ttest: 0.7282258\tbest: 0.7282258 (0)\ttotal: 132ms\tremaining: 5m 22s\n",
      "300:\ttest: 0.7409557\tbest: 0.7410687 (263)\ttotal: 40.6s\tremaining: 4m 49s\n"
     ]
    },
    {
     "name": "stderr",
     "output_type": "stream",
     "text": [
      "[I 2025-02-25 05:39:13,274] Trial 29 finished with value: 0.7410687104998078 and parameters: {'iterations': 2449, 'depth': 10, 'learning_rate': 0.050464686896635226, 'l2_leaf_reg': 9.626994619429544}. Best is trial 21 with value: 0.7418978871359139.\n"
     ]
    },
    {
     "name": "stdout",
     "output_type": "stream",
     "text": [
      "Stopped by overfitting detector  (300 iterations wait)\n",
      "\n",
      "bestTest = 0.7410687105\n",
      "bestIteration = 263\n",
      "\n",
      "Shrink model to first 264 iterations.\n",
      "0:\ttest: 0.7267957\tbest: 0.7267957 (0)\ttotal: 115ms\tremaining: 5m 18s\n",
      "300:\ttest: 0.7409379\tbest: 0.7410697 (269)\ttotal: 30.6s\tremaining: 4m 11s\n"
     ]
    },
    {
     "name": "stderr",
     "output_type": "stream",
     "text": [
      "[I 2025-02-25 05:40:14,058] Trial 30 finished with value: 0.7410696793960466 and parameters: {'iterations': 2774, 'depth': 9, 'learning_rate': 0.058170590848351834, 'l2_leaf_reg': 0.4763386213455399}. Best is trial 21 with value: 0.7418978871359139.\n"
     ]
    },
    {
     "name": "stdout",
     "output_type": "stream",
     "text": [
      "Stopped by overfitting detector  (300 iterations wait)\n",
      "\n",
      "bestTest = 0.7410696794\n",
      "bestIteration = 269\n",
      "\n",
      "Shrink model to first 270 iterations.\n",
      "0:\ttest: 0.7280523\tbest: 0.7280523 (0)\ttotal: 128ms\tremaining: 6m 23s\n",
      "300:\ttest: 0.7406007\tbest: 0.7406017 (299)\ttotal: 37.5s\tremaining: 5m 36s\n",
      "600:\ttest: 0.7412177\tbest: 0.7412302 (566)\ttotal: 1m 20s\tremaining: 5m 20s\n",
      "900:\ttest: 0.7413793\tbest: 0.7414701 (729)\ttotal: 2m 11s\tremaining: 5m 5s\n"
     ]
    },
    {
     "name": "stderr",
     "output_type": "stream",
     "text": [
      "[I 2025-02-25 05:42:47,235] Trial 31 finished with value: 0.7414701154755952 and parameters: {'iterations': 2999, 'depth': 10, 'learning_rate': 0.026576916315223995, 'l2_leaf_reg': 37.64651340079741}. Best is trial 21 with value: 0.7418978871359139.\n"
     ]
    },
    {
     "name": "stdout",
     "output_type": "stream",
     "text": [
      "Stopped by overfitting detector  (300 iterations wait)\n",
      "\n",
      "bestTest = 0.7414701155\n",
      "bestIteration = 729\n",
      "\n",
      "Shrink model to first 730 iterations.\n",
      "0:\ttest: 0.7280431\tbest: 0.7280431 (0)\ttotal: 129ms\tremaining: 6m 17s\n",
      "300:\ttest: 0.7407463\tbest: 0.7407463 (300)\ttotal: 36s\tremaining: 5m 13s\n",
      "600:\ttest: 0.7413639\tbest: 0.7413714 (586)\ttotal: 1m 14s\tremaining: 4m 48s\n",
      "900:\ttest: 0.7415009\tbest: 0.7415012 (899)\ttotal: 2m 6s\tremaining: 4m 42s\n",
      "1200:\ttest: 0.7415977\tbest: 0.7416194 (1103)\ttotal: 2m 59s\tremaining: 4m 15s\n"
     ]
    },
    {
     "name": "stderr",
     "output_type": "stream",
     "text": [
      "[I 2025-02-25 05:46:22,313] Trial 32 finished with value: 0.7416193691761196 and parameters: {'iterations': 2916, 'depth': 10, 'learning_rate': 0.02544781311881664, 'l2_leaf_reg': 95.30112086900064}. Best is trial 21 with value: 0.7418978871359139.\n"
     ]
    },
    {
     "name": "stdout",
     "output_type": "stream",
     "text": [
      "Stopped by overfitting detector  (300 iterations wait)\n",
      "\n",
      "bestTest = 0.7416193692\n",
      "bestIteration = 1103\n",
      "\n",
      "Shrink model to first 1104 iterations.\n",
      "0:\ttest: 0.7280470\tbest: 0.7280470 (0)\ttotal: 123ms\tremaining: 5m 58s\n",
      "300:\ttest: 0.7366736\tbest: 0.7366759 (299)\ttotal: 36.6s\tremaining: 5m 17s\n",
      "600:\ttest: 0.7391107\tbest: 0.7391107 (600)\ttotal: 1m 13s\tremaining: 4m 42s\n",
      "900:\ttest: 0.7401848\tbest: 0.7401848 (900)\ttotal: 1m 51s\tremaining: 4m 7s\n",
      "1200:\ttest: 0.7407250\tbest: 0.7407259 (1198)\ttotal: 2m 28s\tremaining: 3m 31s\n",
      "1500:\ttest: 0.7409904\tbest: 0.7409907 (1499)\ttotal: 3m 4s\tremaining: 2m 52s\n",
      "1800:\ttest: 0.7411304\tbest: 0.7411304 (1800)\ttotal: 3m 41s\tremaining: 2m 16s\n",
      "2100:\ttest: 0.7412628\tbest: 0.7412646 (2094)\ttotal: 4m 19s\tremaining: 1m 39s\n",
      "2400:\ttest: 0.7413553\tbest: 0.7413576 (2376)\ttotal: 5m 3s\tremaining: 1m 4s\n",
      "2700:\ttest: 0.7414352\tbest: 0.7414397 (2664)\ttotal: 5m 56s\tremaining: 27.3s\n"
     ]
    },
    {
     "name": "stderr",
     "output_type": "stream",
     "text": [
      "[I 2025-02-25 05:52:56,751] Trial 33 finished with value: 0.7415042650971267 and parameters: {'iterations': 2908, 'depth': 10, 'learning_rate': 0.005953002013820357, 'l2_leaf_reg': 41.20006472619695}. Best is trial 21 with value: 0.7418978871359139.\n"
     ]
    },
    {
     "name": "stdout",
     "output_type": "stream",
     "text": [
      "2907:\ttest: 0.7415043\tbest: 0.7415043 (2907)\ttotal: 6m 34s\tremaining: 0us\n",
      "\n",
      "bestTest = 0.7415042651\n",
      "bestIteration = 2907\n",
      "\n",
      "0:\ttest: 0.7267980\tbest: 0.7267980 (0)\ttotal: 108ms\tremaining: 5m 25s\n",
      "300:\ttest: 0.7393279\tbest: 0.7393279 (300)\ttotal: 28.3s\tremaining: 4m 13s\n",
      "600:\ttest: 0.7404474\tbest: 0.7404474 (600)\ttotal: 57.4s\tremaining: 3m 49s\n",
      "900:\ttest: 0.7409621\tbest: 0.7409653 (882)\ttotal: 1m 26s\tremaining: 3m 22s\n",
      "1200:\ttest: 0.7411035\tbest: 0.7411242 (1185)\ttotal: 1m 59s\tremaining: 2m 59s\n"
     ]
    },
    {
     "name": "stderr",
     "output_type": "stream",
     "text": [
      "[I 2025-02-25 05:55:28,677] Trial 34 finished with value: 0.7411241956930243 and parameters: {'iterations': 3000, 'depth': 9, 'learning_rate': 0.014087123704740814, 'l2_leaf_reg': 4.555351413600973}. Best is trial 21 with value: 0.7418978871359139.\n"
     ]
    },
    {
     "name": "stdout",
     "output_type": "stream",
     "text": [
      "Stopped by overfitting detector  (300 iterations wait)\n",
      "\n",
      "bestTest = 0.7411241957\n",
      "bestIteration = 1185\n",
      "\n",
      "Shrink model to first 1186 iterations.\n",
      "0:\ttest: 0.7282265\tbest: 0.7282265 (0)\ttotal: 126ms\tremaining: 4m 51s\n",
      "300:\ttest: 0.7407134\tbest: 0.7407134 (300)\ttotal: 38.6s\tremaining: 4m 18s\n",
      "600:\ttest: 0.7412064\tbest: 0.7413649 (542)\ttotal: 1m 24s\tremaining: 4m 2s\n"
     ]
    },
    {
     "name": "stderr",
     "output_type": "stream",
     "text": [
      "[I 2025-02-25 05:57:33,435] Trial 35 finished with value: 0.7413649386121639 and parameters: {'iterations': 2318, 'depth': 10, 'learning_rate': 0.03472232594233672, 'l2_leaf_reg': 13.318830899154701}. Best is trial 21 with value: 0.7418978871359139.\n"
     ]
    },
    {
     "name": "stdout",
     "output_type": "stream",
     "text": [
      "Stopped by overfitting detector  (300 iterations wait)\n",
      "\n",
      "bestTest = 0.7413649386\n",
      "bestIteration = 542\n",
      "\n",
      "Shrink model to first 543 iterations.\n",
      "0:\ttest: 0.7257043\tbest: 0.7257043 (0)\ttotal: 94.7ms\tremaining: 3m 27s\n",
      "300:\ttest: 0.7410283\tbest: 0.7410580 (291)\ttotal: 24.7s\tremaining: 2m 35s\n",
      "600:\ttest: 0.7418554\tbest: 0.7418554 (600)\ttotal: 53.1s\tremaining: 2m 20s\n",
      "900:\ttest: 0.7419984\tbest: 0.7420131 (884)\ttotal: 1m 21s\tremaining: 1m 55s\n"
     ]
    },
    {
     "name": "stderr",
     "output_type": "stream",
     "text": [
      "[I 2025-02-25 05:59:21,846] Trial 36 finished with value: 0.7420130507782 and parameters: {'iterations': 2190, 'depth': 8, 'learning_rate': 0.043905023509071106, 'l2_leaf_reg': 51.28773776232231}. Best is trial 36 with value: 0.7420130507782.\n"
     ]
    },
    {
     "name": "stdout",
     "output_type": "stream",
     "text": [
      "Stopped by overfitting detector  (300 iterations wait)\n",
      "\n",
      "bestTest = 0.7420130508\n",
      "bestIteration = 884\n",
      "\n",
      "Shrink model to first 885 iterations.\n",
      "저장 완료\n",
      "0:\ttest: 0.7257222\tbest: 0.7257222 (0)\ttotal: 101ms\tremaining: 3m 47s\n",
      "300:\ttest: 0.7407482\tbest: 0.7407482 (300)\ttotal: 25.6s\tremaining: 2m 46s\n",
      "600:\ttest: 0.7412837\tbest: 0.7414193 (428)\ttotal: 54.4s\tremaining: 2m 29s\n"
     ]
    },
    {
     "name": "stderr",
     "output_type": "stream",
     "text": [
      "[I 2025-02-25 06:00:28,676] Trial 37 finished with value: 0.7414193079863511 and parameters: {'iterations': 2253, 'depth': 8, 'learning_rate': 0.04557883409079544, 'l2_leaf_reg': 4.85235117713955}. Best is trial 36 with value: 0.7420130507782.\n"
     ]
    },
    {
     "name": "stdout",
     "output_type": "stream",
     "text": [
      "Stopped by overfitting detector  (300 iterations wait)\n",
      "\n",
      "bestTest = 0.741419308\n",
      "bestIteration = 428\n",
      "\n",
      "Shrink model to first 429 iterations.\n",
      "0:\ttest: 0.7237975\tbest: 0.7237975 (0)\ttotal: 83.5ms\tremaining: 3m\n",
      "300:\ttest: 0.7406282\tbest: 0.7406306 (296)\ttotal: 22s\tremaining: 2m 15s\n",
      "600:\ttest: 0.7414250\tbest: 0.7414250 (600)\ttotal: 46.8s\tremaining: 2m 1s\n",
      "900:\ttest: 0.7414783\tbest: 0.7415630 (840)\ttotal: 1m 11s\tremaining: 1m 39s\n"
     ]
    },
    {
     "name": "stderr",
     "output_type": "stream",
     "text": [
      "[I 2025-02-25 06:02:00,054] Trial 38 finished with value: 0.7415629587664128 and parameters: {'iterations': 2161, 'depth': 7, 'learning_rate': 0.04404748654653708, 'l2_leaf_reg': 45.14591639770691}. Best is trial 36 with value: 0.7420130507782.\n"
     ]
    },
    {
     "name": "stdout",
     "output_type": "stream",
     "text": [
      "Stopped by overfitting detector  (300 iterations wait)\n",
      "\n",
      "bestTest = 0.7415629588\n",
      "bestIteration = 840\n",
      "\n",
      "Shrink model to first 841 iterations.\n",
      "0:\ttest: 0.7257573\tbest: 0.7257573 (0)\ttotal: 92.6ms\tremaining: 3m 15s\n",
      "300:\ttest: 0.7412975\tbest: 0.7413691 (236)\ttotal: 27.1s\tremaining: 2m 43s\n"
     ]
    },
    {
     "name": "stderr",
     "output_type": "stream",
     "text": [
      "[I 2025-02-25 06:02:49,856] Trial 39 finished with value: 0.7413691398097895 and parameters: {'iterations': 2111, 'depth': 8, 'learning_rate': 0.08103129583237369, 'l2_leaf_reg': 18.717843584428174}. Best is trial 36 with value: 0.7420130507782.\n",
      "[I 2025-02-25 06:02:49,861] A new study created in memory with name: no-name-6ce6658c-e56b-44c5-91cc-1bf5f85a996b\n"
     ]
    },
    {
     "name": "stdout",
     "output_type": "stream",
     "text": [
      "Stopped by overfitting detector  (300 iterations wait)\n",
      "\n",
      "bestTest = 0.7413691398\n",
      "bestIteration = 236\n",
      "\n",
      "Shrink model to first 237 iterations.\n"
     ]
    },
    {
     "name": "stderr",
     "output_type": "stream",
     "text": [
      "[I 2025-02-25 06:03:12,897] Trial 0 finished with value: 0.7308119510904991 and parameters: {'num_iterations': 2366, 'objective': 'binary', 'metric': 'auc', 'verbose': -1, 'learning_rate': 0.0652646236447618, 'n_estimators': 236, 'min_child_samples': 45, 'subsample': 0.7, 'colsample_bytree': 0.5}. Best is trial 0 with value: 0.7308119510904991.\n",
      "[I 2025-02-25 06:03:29,897] Trial 1 finished with value: 0.7406981076884649 and parameters: {'num_iterations': 1510, 'objective': 'binary', 'metric': 'auc', 'verbose': -1, 'learning_rate': 0.005231880959249543, 'n_estimators': 1411, 'min_child_samples': 10, 'subsample': 1.0, 'colsample_bytree': 0.5}. Best is trial 1 with value: 0.7406981076884649.\n",
      "[I 2025-02-25 06:03:49,451] Trial 2 finished with value: 0.7399004678307547 and parameters: {'num_iterations': 2334, 'objective': 'binary', 'metric': 'auc', 'verbose': -1, 'learning_rate': 0.006578527777128852, 'n_estimators': 931, 'min_child_samples': 15, 'subsample': 0.5, 'colsample_bytree': 1.0}. Best is trial 1 with value: 0.7406981076884649.\n",
      "[I 2025-02-25 06:04:05,634] Trial 3 finished with value: 0.7408404599887309 and parameters: {'num_iterations': 1620, 'objective': 'binary', 'metric': 'auc', 'verbose': -1, 'learning_rate': 0.0058823249237283685, 'n_estimators': 837, 'min_child_samples': 10, 'subsample': 0.9, 'colsample_bytree': 0.6}. Best is trial 3 with value: 0.7408404599887309.\n",
      "[I 2025-02-25 06:04:22,012] Trial 4 finished with value: 0.7400806110552205 and parameters: {'num_iterations': 1997, 'objective': 'binary', 'metric': 'auc', 'verbose': -1, 'learning_rate': 0.010907507425244923, 'n_estimators': 1597, 'min_child_samples': 50, 'subsample': 0.6, 'colsample_bytree': 0.8}. Best is trial 3 with value: 0.7408404599887309.\n",
      "[I 2025-02-25 06:04:44,512] Trial 5 finished with value: 0.7355787260119955 and parameters: {'num_iterations': 2909, 'objective': 'binary', 'metric': 'auc', 'verbose': -1, 'learning_rate': 0.019760591962733942, 'n_estimators': 612, 'min_child_samples': 30, 'subsample': 0.7, 'colsample_bytree': 0.9}. Best is trial 3 with value: 0.7408404599887309.\n",
      "[I 2025-02-25 06:05:05,186] Trial 6 finished with value: 0.737167664222115 and parameters: {'num_iterations': 2639, 'objective': 'binary', 'metric': 'auc', 'verbose': -1, 'learning_rate': 0.017862094446750985, 'n_estimators': 794, 'min_child_samples': 35, 'subsample': 1.0, 'colsample_bytree': 0.8}. Best is trial 3 with value: 0.7408404599887309.\n",
      "[I 2025-02-25 06:05:21,585] Trial 7 finished with value: 0.7398282771191913 and parameters: {'num_iterations': 1580, 'objective': 'binary', 'metric': 'auc', 'verbose': -1, 'learning_rate': 0.01776722177611332, 'n_estimators': 529, 'min_child_samples': 25, 'subsample': 0.8, 'colsample_bytree': 0.5}. Best is trial 3 with value: 0.7408404599887309.\n",
      "[I 2025-02-25 06:05:38,891] Trial 8 finished with value: 0.7363636074122659 and parameters: {'num_iterations': 1911, 'objective': 'binary', 'metric': 'auc', 'verbose': -1, 'learning_rate': 0.0304747553332844, 'n_estimators': 1328, 'min_child_samples': 10, 'subsample': 0.7, 'colsample_bytree': 0.6}. Best is trial 3 with value: 0.7408404599887309.\n",
      "[I 2025-02-25 06:06:06,137] Trial 9 finished with value: 0.736263334593322 and parameters: {'num_iterations': 2739, 'objective': 'binary', 'metric': 'auc', 'verbose': -1, 'learning_rate': 0.02691531614176271, 'n_estimators': 1438, 'min_child_samples': 20, 'subsample': 0.6, 'colsample_bytree': 0.5}. Best is trial 3 with value: 0.7408404599887309.\n",
      "[I 2025-02-25 06:06:20,620] Trial 10 finished with value: 0.7268612727058849 and parameters: {'num_iterations': 1883, 'objective': 'binary', 'metric': 'auc', 'verbose': -1, 'learning_rate': 0.08223556891145911, 'n_estimators': 1917, 'min_child_samples': 40, 'subsample': 0.9, 'colsample_bytree': 0.7}. Best is trial 3 with value: 0.7408404599887309.\n",
      "[I 2025-02-25 06:06:35,941] Trial 11 finished with value: 0.7407159607929307 and parameters: {'num_iterations': 1513, 'objective': 'binary', 'metric': 'auc', 'verbose': -1, 'learning_rate': 0.005340229419903739, 'n_estimators': 1206, 'min_child_samples': 10, 'subsample': 1.0, 'colsample_bytree': 0.6}. Best is trial 3 with value: 0.7408404599887309.\n",
      "[I 2025-02-25 06:06:50,827] Trial 12 finished with value: 0.7403749807928234 and parameters: {'num_iterations': 1717, 'objective': 'binary', 'metric': 'auc', 'verbose': -1, 'learning_rate': 0.008807202863131344, 'n_estimators': 1093, 'min_child_samples': 20, 'subsample': 0.9, 'colsample_bytree': 0.7}. Best is trial 3 with value: 0.7408404599887309.\n",
      "[I 2025-02-25 06:07:10,466] Trial 13 finished with value: 0.7398592579735157 and parameters: {'num_iterations': 2084, 'objective': 'binary', 'metric': 'auc', 'verbose': -1, 'learning_rate': 0.010947685715514379, 'n_estimators': 1108, 'min_child_samples': 10, 'subsample': 0.9, 'colsample_bytree': 0.6}. Best is trial 3 with value: 0.7408404599887309.\n",
      "[I 2025-02-25 06:07:28,122] Trial 14 finished with value: 0.7408437081736626 and parameters: {'num_iterations': 1759, 'objective': 'binary', 'metric': 'auc', 'verbose': -1, 'learning_rate': 0.00514593053258222, 'n_estimators': 172, 'min_child_samples': 20, 'subsample': 1.0, 'colsample_bytree': 0.6}. Best is trial 14 with value: 0.7408437081736626.\n",
      "[I 2025-02-25 06:07:43,282] Trial 15 finished with value: 0.7402149421653128 and parameters: {'num_iterations': 1756, 'objective': 'binary', 'metric': 'auc', 'verbose': -1, 'learning_rate': 0.008183724404516576, 'n_estimators': 181, 'min_child_samples': 20, 'subsample': 0.8, 'colsample_bytree': 0.7}. Best is trial 14 with value: 0.7408437081736626.\n",
      "[I 2025-02-25 06:08:02,705] Trial 16 finished with value: 0.7346031983931952 and parameters: {'num_iterations': 2176, 'objective': 'binary', 'metric': 'auc', 'verbose': -1, 'learning_rate': 0.03901437770924474, 'n_estimators': 437, 'min_child_samples': 25, 'subsample': 0.9, 'colsample_bytree': 0.6}. Best is trial 14 with value: 0.7408437081736626.\n",
      "[I 2025-02-25 06:08:18,840] Trial 17 finished with value: 0.7401460075804536 and parameters: {'num_iterations': 1709, 'objective': 'binary', 'metric': 'auc', 'verbose': -1, 'learning_rate': 0.01384769331008121, 'n_estimators': 115, 'min_child_samples': 15, 'subsample': 1.0, 'colsample_bytree': 0.6}. Best is trial 14 with value: 0.7408437081736626.\n",
      "[I 2025-02-25 06:08:34,728] Trial 18 finished with value: 0.7406528634108216 and parameters: {'num_iterations': 1822, 'objective': 'binary', 'metric': 'auc', 'verbose': -1, 'learning_rate': 0.007223259603234952, 'n_estimators': 775, 'min_child_samples': 30, 'subsample': 0.8, 'colsample_bytree': 0.7}. Best is trial 14 with value: 0.7408437081736626.\n",
      "[I 2025-02-25 06:08:53,751] Trial 19 finished with value: 0.7299725454514785 and parameters: {'num_iterations': 2481, 'objective': 'binary', 'metric': 'auc', 'verbose': -1, 'learning_rate': 0.04570242881302624, 'n_estimators': 405, 'min_child_samples': 15, 'subsample': 0.9, 'colsample_bytree': 0.8}. Best is trial 14 with value: 0.7408437081736626.\n",
      "[I 2025-02-25 06:09:07,317] Trial 20 finished with value: 0.7393931672611295 and parameters: {'num_iterations': 1649, 'objective': 'binary', 'metric': 'auc', 'verbose': -1, 'learning_rate': 0.012796480593590575, 'n_estimators': 725, 'min_child_samples': 25, 'subsample': 1.0, 'colsample_bytree': 0.9}. Best is trial 14 with value: 0.7408437081736626.\n",
      "[I 2025-02-25 06:09:22,698] Trial 21 finished with value: 0.7407208013032385 and parameters: {'num_iterations': 1512, 'objective': 'binary', 'metric': 'auc', 'verbose': -1, 'learning_rate': 0.005153550511409945, 'n_estimators': 1212, 'min_child_samples': 10, 'subsample': 1.0, 'colsample_bytree': 0.6}. Best is trial 14 with value: 0.7408437081736626.\n",
      "[I 2025-02-25 06:09:39,244] Trial 22 finished with value: 0.7407688410847838 and parameters: {'num_iterations': 1630, 'objective': 'binary', 'metric': 'auc', 'verbose': -1, 'learning_rate': 0.005003585055247969, 'n_estimators': 1725, 'min_child_samples': 15, 'subsample': 1.0, 'colsample_bytree': 0.6}. Best is trial 14 with value: 0.7408437081736626.\n",
      "[I 2025-02-25 06:10:01,505] Trial 23 finished with value: 0.7406265761440147 and parameters: {'num_iterations': 2053, 'objective': 'binary', 'metric': 'auc', 'verbose': -1, 'learning_rate': 0.006901349238248785, 'n_estimators': 1820, 'min_child_samples': 15, 'subsample': 0.9, 'colsample_bytree': 0.5}. Best is trial 14 with value: 0.7408437081736626.\n",
      "[I 2025-02-25 06:10:15,876] Trial 24 finished with value: 0.7404223018439621 and parameters: {'num_iterations': 1661, 'objective': 'binary', 'metric': 'auc', 'verbose': -1, 'learning_rate': 0.008991196778412532, 'n_estimators': 1740, 'min_child_samples': 20, 'subsample': 1.0, 'colsample_bytree': 0.7}. Best is trial 14 with value: 0.7408437081736626.\n",
      "[I 2025-02-25 06:10:34,214] Trial 25 finished with value: 0.7408194341461716 and parameters: {'num_iterations': 1833, 'objective': 'binary', 'metric': 'auc', 'verbose': -1, 'learning_rate': 0.005107231846651651, 'n_estimators': 940, 'min_child_samples': 15, 'subsample': 0.9, 'colsample_bytree': 0.6}. Best is trial 14 with value: 0.7408437081736626.\n",
      "[I 2025-02-25 06:10:52,247] Trial 26 finished with value: 0.7406765616598101 and parameters: {'num_iterations': 1838, 'objective': 'binary', 'metric': 'auc', 'verbose': -1, 'learning_rate': 0.006560862459482555, 'n_estimators': 972, 'min_child_samples': 20, 'subsample': 0.8, 'colsample_bytree': 0.6}. Best is trial 14 with value: 0.7408437081736626.\n",
      "[I 2025-02-25 06:11:08,760] Trial 27 finished with value: 0.7395024261955997 and parameters: {'num_iterations': 1954, 'objective': 'binary', 'metric': 'auc', 'verbose': -1, 'learning_rate': 0.010820883954688373, 'n_estimators': 301, 'min_child_samples': 15, 'subsample': 0.9, 'colsample_bytree': 0.7}. Best is trial 14 with value: 0.7408437081736626.\n",
      "[I 2025-02-25 06:11:31,427] Trial 28 finished with value: 0.7406340533227757 and parameters: {'num_iterations': 2104, 'objective': 'binary', 'metric': 'auc', 'verbose': -1, 'learning_rate': 0.006510343325567804, 'n_estimators': 642, 'min_child_samples': 25, 'subsample': 0.8, 'colsample_bytree': 0.5}. Best is trial 14 with value: 0.7408437081736626.\n",
      "[I 2025-02-25 06:11:50,801] Trial 29 finished with value: 0.7407040362215982 and parameters: {'num_iterations': 1807, 'objective': 'binary', 'metric': 'auc', 'verbose': -1, 'learning_rate': 0.008246341987582088, 'n_estimators': 874, 'min_child_samples': 35, 'subsample': 0.9, 'colsample_bytree': 0.5}. Best is trial 14 with value: 0.7408437081736626.\n",
      "[I 2025-02-25 06:12:13,560] Trial 30 finished with value: 0.7389167482736732 and parameters: {'num_iterations': 2462, 'objective': 'binary', 'metric': 'auc', 'verbose': -1, 'learning_rate': 0.013473179831780013, 'n_estimators': 391, 'min_child_samples': 10, 'subsample': 0.8, 'colsample_bytree': 0.6}. Best is trial 14 with value: 0.7408437081736626.\n",
      "[I 2025-02-25 06:12:30,537] Trial 31 finished with value: 0.7408191522132497 and parameters: {'num_iterations': 1669, 'objective': 'binary', 'metric': 'auc', 'verbose': -1, 'learning_rate': 0.005122087932282677, 'n_estimators': 1988, 'min_child_samples': 15, 'subsample': 1.0, 'colsample_bytree': 0.6}. Best is trial 14 with value: 0.7408437081736626.\n",
      "[I 2025-02-25 06:12:48,372] Trial 32 finished with value: 0.7408284520287877 and parameters: {'num_iterations': 1613, 'objective': 'binary', 'metric': 'auc', 'verbose': -1, 'learning_rate': 0.005780798080655586, 'n_estimators': 1528, 'min_child_samples': 15, 'subsample': 1.0, 'colsample_bytree': 0.5}. Best is trial 14 with value: 0.7408437081736626.\n",
      "[I 2025-02-25 06:13:05,759] Trial 33 finished with value: 0.7406432776914754 and parameters: {'num_iterations': 1578, 'objective': 'binary', 'metric': 'auc', 'verbose': -1, 'learning_rate': 0.006218574844111772, 'n_estimators': 1588, 'min_child_samples': 10, 'subsample': 1.0, 'colsample_bytree': 0.5}. Best is trial 14 with value: 0.7408437081736626.\n",
      "[I 2025-02-25 06:13:30,154] Trial 34 finished with value: 0.7405413410712034 and parameters: {'num_iterations': 2265, 'objective': 'binary', 'metric': 'auc', 'verbose': -1, 'learning_rate': 0.006085174781480256, 'n_estimators': 1456, 'min_child_samples': 20, 'subsample': 0.9, 'colsample_bytree': 0.5}. Best is trial 14 with value: 0.7408437081736626.\n",
      "[I 2025-02-25 06:13:49,397] Trial 35 finished with value: 0.740767800712593 and parameters: {'num_iterations': 1773, 'objective': 'binary', 'metric': 'auc', 'verbose': -1, 'learning_rate': 0.007342585434846718, 'n_estimators': 1013, 'min_child_samples': 15, 'subsample': 0.5, 'colsample_bytree': 0.5}. Best is trial 14 with value: 0.7408437081736626.\n",
      "[I 2025-02-25 06:14:08,368] Trial 36 finished with value: 0.7405270260263637 and parameters: {'num_iterations': 1997, 'objective': 'binary', 'metric': 'auc', 'verbose': -1, 'learning_rate': 0.00971788580076342, 'n_estimators': 867, 'min_child_samples': 30, 'subsample': 1.0, 'colsample_bytree': 0.6}. Best is trial 14 with value: 0.7408437081736626.\n",
      "[I 2025-02-25 06:14:22,165] Trial 37 finished with value: 0.740972134575939 and parameters: {'num_iterations': 1570, 'objective': 'binary', 'metric': 'auc', 'verbose': -1, 'learning_rate': 0.005893487403851002, 'n_estimators': 1297, 'min_child_samples': 45, 'subsample': 0.6, 'colsample_bytree': 1.0}. Best is trial 37 with value: 0.740972134575939.\n",
      "[I 2025-02-25 06:14:35,953] Trial 38 finished with value: 0.7408812965826649 and parameters: {'num_iterations': 1592, 'objective': 'binary', 'metric': 'auc', 'verbose': -1, 'learning_rate': 0.007641297443595452, 'n_estimators': 1574, 'min_child_samples': 50, 'subsample': 0.6, 'colsample_bytree': 1.0}. Best is trial 37 with value: 0.740972134575939.\n",
      "[I 2025-02-25 06:14:48,237] Trial 39 finished with value: 0.7394241362027952 and parameters: {'num_iterations': 1500, 'objective': 'binary', 'metric': 'auc', 'verbose': -1, 'learning_rate': 0.01602877483106217, 'n_estimators': 1192, 'min_child_samples': 50, 'subsample': 0.6, 'colsample_bytree': 1.0}. Best is trial 37 with value: 0.740972134575939.\n"
     ]
    },
    {
     "name": "stdout",
     "output_type": "stream",
     "text": [
      "Cat val score : 0.7420130507781999\n",
      "LGBM val score : 0.740971356282239\n",
      "Ensemble val score : 0.7420312096409051\n"
     ]
    },
    {
     "name": "stderr",
     "output_type": "stream",
     "text": [
      "[I 2025-02-25 06:15:03,151] A new study created in memory with name: no-name-f1b48d7b-0486-4ebd-8666-5e388318f669\n"
     ]
    },
    {
     "name": "stdout",
     "output_type": "stream",
     "text": [
      "==================================================\n",
      "0:\ttest: 0.7300954\tbest: 0.7300954 (0)\ttotal: 144ms\tremaining: 5m 41s\n",
      "300:\ttest: 0.7412666\tbest: 0.7412685 (299)\ttotal: 38.9s\tremaining: 4m 27s\n",
      "600:\ttest: 0.7432515\tbest: 0.7432515 (600)\ttotal: 1m 21s\tremaining: 3m 57s\n",
      "900:\ttest: 0.7437760\tbest: 0.7437815 (895)\ttotal: 2m 1s\tremaining: 3m 17s\n",
      "1200:\ttest: 0.7442014\tbest: 0.7442014 (1200)\ttotal: 2m 45s\tremaining: 2m 40s\n",
      "1500:\ttest: 0.7442860\tbest: 0.7442860 (1500)\ttotal: 3m 34s\tremaining: 2m 3s\n"
     ]
    },
    {
     "name": "stderr",
     "output_type": "stream",
     "text": [
      "[I 2025-02-25 06:19:28,450] Trial 0 finished with value: 0.7442860297329159 and parameters: {'iterations': 2366, 'depth': 10, 'learning_rate': 0.01181021951839225, 'l2_leaf_reg': 9.980783802743254}. Best is trial 0 with value: 0.7442860297329159.\n"
     ]
    },
    {
     "name": "stdout",
     "output_type": "stream",
     "text": [
      "1800:\ttest: 0.7441599\tbest: 0.7442860 (1500)\ttotal: 4m 24s\tremaining: 1m 23s\n",
      "Stopped by overfitting detector  (300 iterations wait)\n",
      "\n",
      "bestTest = 0.7442860297\n",
      "bestIteration = 1500\n",
      "\n",
      "Shrink model to first 1501 iterations.\n",
      "저장 완료\n",
      "0:\ttest: 0.7030483\tbest: 0.7030483 (0)\ttotal: 53.3ms\tremaining: 1m 56s\n",
      "300:\ttest: 0.7309659\tbest: 0.7309659 (300)\ttotal: 12.9s\tremaining: 1m 21s\n",
      "600:\ttest: 0.7356918\tbest: 0.7356918 (600)\ttotal: 26s\tremaining: 1m 8s\n",
      "900:\ttest: 0.7378862\tbest: 0.7378862 (900)\ttotal: 39.4s\tremaining: 56.4s\n",
      "1200:\ttest: 0.7391175\tbest: 0.7391175 (1200)\ttotal: 53s\tremaining: 43.8s\n"
     ]
    },
    {
     "name": "stderr",
     "output_type": "stream",
     "text": [
      "Training has stopped (degenerate solution on iteration 1228, probably too small l2-regularization, try to increase it)\n",
      "[I 2025-02-25 06:20:22,960] Trial 1 finished with value: 0.7392043079414008 and parameters: {'iterations': 2193, 'depth': 4, 'learning_rate': 0.005671430811678843, 'l2_leaf_reg': 0.00012325230809466137}. Best is trial 0 with value: 0.7442860297329159.\n"
     ]
    },
    {
     "name": "stdout",
     "output_type": "stream",
     "text": [
      "\n",
      "bestTest = 0.7392043079\n",
      "bestIteration = 1227\n",
      "\n",
      "Shrink model to first 1228 iterations.\n",
      "0:\ttest: 0.7030483\tbest: 0.7030483 (0)\ttotal: 58.8ms\tremaining: 2m 28s\n",
      "300:\ttest: 0.7431215\tbest: 0.7431657 (299)\ttotal: 14.2s\tremaining: 1m 45s\n",
      "600:\ttest: 0.7430950\tbest: 0.7435500 (421)\ttotal: 29s\tremaining: 1m 33s\n"
     ]
    },
    {
     "name": "stderr",
     "output_type": "stream",
     "text": [
      "[I 2025-02-25 06:20:58,125] Trial 2 finished with value: 0.7435500061167531 and parameters: {'iterations': 2535, 'depth': 4, 'learning_rate': 0.09275339199839054, 'l2_leaf_reg': 0.0008705394248343123}. Best is trial 0 with value: 0.7442860297329159.\n"
     ]
    },
    {
     "name": "stdout",
     "output_type": "stream",
     "text": [
      "Stopped by overfitting detector  (300 iterations wait)\n",
      "\n",
      "bestTest = 0.7435500061\n",
      "bestIteration = 421\n",
      "\n",
      "Shrink model to first 422 iterations.\n",
      "0:\ttest: 0.7030483\tbest: 0.7030483 (0)\ttotal: 51.8ms\tremaining: 2m\n",
      "300:\ttest: 0.7420659\tbest: 0.7420659 (300)\ttotal: 13.5s\tremaining: 1m 31s\n",
      "600:\ttest: 0.7430537\tbest: 0.7431131 (562)\ttotal: 27.9s\tremaining: 1m 20s\n",
      "900:\ttest: 0.7432201\tbest: 0.7432545 (853)\ttotal: 42.5s\tremaining: 1m 7s\n",
      "1200:\ttest: 0.7432574\tbest: 0.7432853 (957)\ttotal: 57.2s\tremaining: 54s\n",
      "1500:\ttest: 0.7431391\tbest: 0.7432904 (1211)\ttotal: 1m 12s\tremaining: 40s\n"
     ]
    },
    {
     "name": "stderr",
     "output_type": "stream",
     "text": [
      "[I 2025-02-25 06:22:11,089] Trial 3 finished with value: 0.7432903895753881 and parameters: {'iterations': 2334, 'depth': 4, 'learning_rate': 0.04657568321363276, 'l2_leaf_reg': 0.0008640473331457248}. Best is trial 0 with value: 0.7442860297329159.\n"
     ]
    },
    {
     "name": "stdout",
     "output_type": "stream",
     "text": [
      "Stopped by overfitting detector  (300 iterations wait)\n",
      "\n",
      "bestTest = 0.7432903896\n",
      "bestIteration = 1211\n",
      "\n",
      "Shrink model to first 1212 iterations.\n",
      "0:\ttest: 0.7299635\tbest: 0.7299635 (0)\ttotal: 121ms\tremaining: 3m 31s\n",
      "300:\ttest: 0.7409677\tbest: 0.7409731 (299)\ttotal: 36.1s\tremaining: 2m 52s\n",
      "600:\ttest: 0.7420878\tbest: 0.7420930 (599)\ttotal: 1m 14s\tremaining: 2m 21s\n",
      "900:\ttest: 0.7422826\tbest: 0.7423446 (824)\ttotal: 1m 54s\tremaining: 1m 47s\n"
     ]
    },
    {
     "name": "stderr",
     "output_type": "stream",
     "text": [
      "[I 2025-02-25 06:24:38,051] Trial 4 finished with value: 0.742344564185548 and parameters: {'iterations': 1742, 'depth': 10, 'learning_rate': 0.012622767482095846, 'l2_leaf_reg': 0.00021158816350109617}. Best is trial 0 with value: 0.7442860297329159.\n"
     ]
    },
    {
     "name": "stdout",
     "output_type": "stream",
     "text": [
      "Stopped by overfitting detector  (300 iterations wait)\n",
      "\n",
      "bestTest = 0.7423445642\n",
      "bestIteration = 824\n",
      "\n",
      "Shrink model to first 825 iterations.\n",
      "0:\ttest: 0.7030483\tbest: 0.7030483 (0)\ttotal: 53.1ms\tremaining: 1m 50s\n",
      "300:\ttest: 0.7428106\tbest: 0.7428122 (286)\ttotal: 14s\tremaining: 1m 22s\n",
      "600:\ttest: 0.7433089\tbest: 0.7433684 (586)\ttotal: 28.6s\tremaining: 1m 10s\n",
      "900:\ttest: 0.7434438\tbest: 0.7434841 (690)\ttotal: 43.4s\tremaining: 56.9s\n",
      "1200:\ttest: 0.7431568\tbest: 0.7434963 (952)\ttotal: 58.3s\tremaining: 42.8s\n"
     ]
    },
    {
     "name": "stderr",
     "output_type": "stream",
     "text": [
      "[I 2025-02-25 06:25:39,275] Trial 5 finished with value: 0.743496311793224 and parameters: {'iterations': 2082, 'depth': 4, 'learning_rate': 0.06995196593094148, 'l2_leaf_reg': 0.0018080296485396804}. Best is trial 0 with value: 0.7442860297329159.\n"
     ]
    },
    {
     "name": "stdout",
     "output_type": "stream",
     "text": [
      "Stopped by overfitting detector  (300 iterations wait)\n",
      "\n",
      "bestTest = 0.7434963118\n",
      "bestIteration = 952\n",
      "\n",
      "Shrink model to first 953 iterations.\n",
      "0:\ttest: 0.7047918\tbest: 0.7047918 (0)\ttotal: 63.2ms\tremaining: 2m 6s\n",
      "300:\ttest: 0.7432705\tbest: 0.7432887 (297)\ttotal: 17.2s\tremaining: 1m 36s\n",
      "600:\ttest: 0.7435905\tbest: 0.7436001 (494)\ttotal: 34.8s\tremaining: 1m 20s\n",
      "900:\ttest: 0.7435620\tbest: 0.7436881 (708)\ttotal: 52.8s\tremaining: 1m 4s\n"
     ]
    },
    {
     "name": "stderr",
     "output_type": "stream",
     "text": [
      "[I 2025-02-25 06:26:38,745] Trial 6 finished with value: 0.7436880857434416 and parameters: {'iterations': 1997, 'depth': 5, 'learning_rate': 0.07985155992831598, 'l2_leaf_reg': 62.52181000710482}. Best is trial 0 with value: 0.7442860297329159.\n"
     ]
    },
    {
     "name": "stdout",
     "output_type": "stream",
     "text": [
      "Stopped by overfitting detector  (300 iterations wait)\n",
      "\n",
      "bestTest = 0.7436880857\n",
      "bestIteration = 708\n",
      "\n",
      "Shrink model to first 709 iterations.\n",
      "0:\ttest: 0.7209747\tbest: 0.7209747 (0)\ttotal: 80.6ms\tremaining: 2m 35s\n",
      "300:\ttest: 0.7421042\tbest: 0.7425476 (186)\ttotal: 23.6s\tremaining: 2m 7s\n"
     ]
    },
    {
     "name": "stderr",
     "output_type": "stream",
     "text": [
      "[I 2025-02-25 06:27:18,050] Trial 7 finished with value: 0.7425476313361883 and parameters: {'iterations': 1927, 'depth': 7, 'learning_rate': 0.0941937211034094, 'l2_leaf_reg': 0.05654822767791934}. Best is trial 0 with value: 0.7442860297329159.\n"
     ]
    },
    {
     "name": "stdout",
     "output_type": "stream",
     "text": [
      "Stopped by overfitting detector  (300 iterations wait)\n",
      "\n",
      "bestTest = 0.7425476313\n",
      "bestIteration = 186\n",
      "\n",
      "Shrink model to first 187 iterations.\n",
      "0:\ttest: 0.7209747\tbest: 0.7209747 (0)\ttotal: 79.8ms\tremaining: 2m 31s\n",
      "300:\ttest: 0.7433896\tbest: 0.7433896 (300)\ttotal: 22.8s\tremaining: 2m 1s\n",
      "600:\ttest: 0.7436525\tbest: 0.7439180 (468)\ttotal: 47.9s\tremaining: 1m 43s\n"
     ]
    },
    {
     "name": "stderr",
     "output_type": "stream",
     "text": [
      "[I 2025-02-25 06:28:20,169] Trial 8 finished with value: 0.7439179643178705 and parameters: {'iterations': 1904, 'depth': 7, 'learning_rate': 0.05155602859187331, 'l2_leaf_reg': 1.299974533316308}. Best is trial 0 with value: 0.7442860297329159.\n"
     ]
    },
    {
     "name": "stdout",
     "output_type": "stream",
     "text": [
      "Stopped by overfitting detector  (300 iterations wait)\n",
      "\n",
      "bestTest = 0.7439179643\n",
      "bestIteration = 468\n",
      "\n",
      "Shrink model to first 469 iterations.\n",
      "0:\ttest: 0.7165235\tbest: 0.7165235 (0)\ttotal: 76.7ms\tremaining: 3m 22s\n",
      "300:\ttest: 0.7425792\tbest: 0.7425792 (300)\ttotal: 19.2s\tremaining: 2m 29s\n",
      "600:\ttest: 0.7438719\tbest: 0.7438757 (598)\ttotal: 40.7s\tremaining: 2m 18s\n",
      "900:\ttest: 0.7437101\tbest: 0.7439413 (774)\ttotal: 1m 2s\tremaining: 1m 59s\n"
     ]
    },
    {
     "name": "stderr",
     "output_type": "stream",
     "text": [
      "[I 2025-02-25 06:29:35,034] Trial 9 finished with value: 0.7439412654782365 and parameters: {'iterations': 2639, 'depth': 6, 'learning_rate': 0.03968704290444751, 'l2_leaf_reg': 0.30557194377967184}. Best is trial 0 with value: 0.7442860297329159.\n"
     ]
    },
    {
     "name": "stdout",
     "output_type": "stream",
     "text": [
      "Stopped by overfitting detector  (300 iterations wait)\n",
      "\n",
      "bestTest = 0.7439412655\n",
      "bestIteration = 774\n",
      "\n",
      "Shrink model to first 775 iterations.\n",
      "0:\ttest: 0.7247211\tbest: 0.7247211 (0)\ttotal: 102ms\tremaining: 5m 1s\n",
      "300:\ttest: 0.7431022\tbest: 0.7431074 (298)\ttotal: 37.1s\tremaining: 5m 25s\n",
      "600:\ttest: 0.7438920\tbest: 0.7438920 (600)\ttotal: 1m 16s\tremaining: 4m 56s\n",
      "900:\ttest: 0.7441278\tbest: 0.7441400 (899)\ttotal: 2m 9s\tremaining: 4m 54s\n",
      "1200:\ttest: 0.7441521\tbest: 0.7441754 (1128)\ttotal: 3m 2s\tremaining: 4m 24s\n"
     ]
    },
    {
     "name": "stderr",
     "output_type": "stream",
     "text": [
      "[I 2025-02-25 06:33:17,918] Trial 10 finished with value: 0.7441753690756086 and parameters: {'iterations': 2945, 'depth': 10, 'learning_rate': 0.025911330134996406, 'l2_leaf_reg': 97.18545559492516}. Best is trial 0 with value: 0.7442860297329159.\n"
     ]
    },
    {
     "name": "stdout",
     "output_type": "stream",
     "text": [
      "Stopped by overfitting detector  (300 iterations wait)\n",
      "\n",
      "bestTest = 0.7441753691\n",
      "bestIteration = 1128\n",
      "\n",
      "Shrink model to first 1129 iterations.\n",
      "0:\ttest: 0.7246915\tbest: 0.7246915 (0)\ttotal: 105ms\tremaining: 5m 13s\n",
      "300:\ttest: 0.7430630\tbest: 0.7430744 (299)\ttotal: 37.1s\tremaining: 5m 32s\n",
      "600:\ttest: 0.7439912\tbest: 0.7439967 (596)\ttotal: 1m 17s\tremaining: 5m 8s\n",
      "900:\ttest: 0.7443314\tbest: 0.7443314 (900)\ttotal: 2m 10s\tremaining: 5m 3s\n",
      "1200:\ttest: 0.7444611\tbest: 0.7444724 (1185)\ttotal: 3m 3s\tremaining: 4m 34s\n"
     ]
    },
    {
     "name": "stderr",
     "output_type": "stream",
     "text": [
      "[I 2025-02-25 06:37:12,013] Trial 11 finished with value: 0.7444723516563472 and parameters: {'iterations': 2995, 'depth': 10, 'learning_rate': 0.026163874004606635, 'l2_leaf_reg': 73.1213351392818}. Best is trial 11 with value: 0.7444723516563472.\n"
     ]
    },
    {
     "name": "stdout",
     "output_type": "stream",
     "text": [
      "Stopped by overfitting detector  (300 iterations wait)\n",
      "\n",
      "bestTest = 0.7444723517\n",
      "bestIteration = 1185\n",
      "\n",
      "Shrink model to first 1186 iterations.\n",
      "저장 완료\n",
      "0:\ttest: 0.7240401\tbest: 0.7240401 (0)\ttotal: 106ms\tremaining: 4m 59s\n",
      "300:\ttest: 0.7428348\tbest: 0.7428348 (300)\ttotal: 27.8s\tremaining: 3m 54s\n",
      "600:\ttest: 0.7438380\tbest: 0.7438713 (592)\ttotal: 57.4s\tremaining: 3m 32s\n",
      "900:\ttest: 0.7438704\tbest: 0.7439369 (775)\ttotal: 1m 30s\tremaining: 3m 14s\n"
     ]
    },
    {
     "name": "stderr",
     "output_type": "stream",
     "text": [
      "[I 2025-02-25 06:39:02,214] Trial 12 finished with value: 0.7439369054451619 and parameters: {'iterations': 2831, 'depth': 9, 'learning_rate': 0.02603853414531855, 'l2_leaf_reg': 9.386190522738517}. Best is trial 11 with value: 0.7444723516563472.\n"
     ]
    },
    {
     "name": "stdout",
     "output_type": "stream",
     "text": [
      "Stopped by overfitting detector  (300 iterations wait)\n",
      "\n",
      "bestTest = 0.7439369054\n",
      "bestIteration = 775\n",
      "\n",
      "Shrink model to first 776 iterations.\n",
      "0:\ttest: 0.7240349\tbest: 0.7240349 (0)\ttotal: 100ms\tremaining: 4m 1s\n",
      "300:\ttest: 0.7425625\tbest: 0.7425625 (300)\ttotal: 28s\tremaining: 3m 17s\n",
      "600:\ttest: 0.7436217\tbest: 0.7436272 (571)\ttotal: 57.1s\tremaining: 2m 52s\n",
      "900:\ttest: 0.7439018\tbest: 0.7439100 (830)\ttotal: 1m 30s\tremaining: 2m 32s\n"
     ]
    },
    {
     "name": "stderr",
     "output_type": "stream",
     "text": [
      "[I 2025-02-25 06:40:58,159] Trial 13 finished with value: 0.7439100026909902 and parameters: {'iterations': 2421, 'depth': 9, 'learning_rate': 0.022316119918197153, 'l2_leaf_reg': 6.676773824742184}. Best is trial 11 with value: 0.7444723516563472.\n"
     ]
    },
    {
     "name": "stdout",
     "output_type": "stream",
     "text": [
      "Stopped by overfitting detector  (300 iterations wait)\n",
      "\n",
      "bestTest = 0.7439100027\n",
      "bestIteration = 830\n",
      "\n",
      "Shrink model to first 831 iterations.\n",
      "0:\ttest: 0.7240508\tbest: 0.7240508 (0)\ttotal: 104ms\tremaining: 2m 39s\n",
      "300:\ttest: 0.7432861\tbest: 0.7432861 (300)\ttotal: 27.7s\tremaining: 1m 53s\n",
      "600:\ttest: 0.7439461\tbest: 0.7440581 (549)\ttotal: 59.8s\tremaining: 1m 32s\n"
     ]
    },
    {
     "name": "stderr",
     "output_type": "stream",
     "text": [
      "[I 2025-02-25 06:42:25,296] Trial 14 finished with value: 0.7440581167471682 and parameters: {'iterations': 1533, 'depth': 9, 'learning_rate': 0.03443594749665465, 'l2_leaf_reg': 11.564056006203653}. Best is trial 11 with value: 0.7444723516563472.\n"
     ]
    },
    {
     "name": "stdout",
     "output_type": "stream",
     "text": [
      "Stopped by overfitting detector  (300 iterations wait)\n",
      "\n",
      "bestTest = 0.7440581167\n",
      "bestIteration = 549\n",
      "\n",
      "Shrink model to first 550 iterations.\n",
      "0:\ttest: 0.7246502\tbest: 0.7246502 (0)\ttotal: 93.9ms\tremaining: 4m 14s\n",
      "300:\ttest: 0.7429632\tbest: 0.7435940 (261)\ttotal: 26.4s\tremaining: 3m 31s\n"
     ]
    },
    {
     "name": "stderr",
     "output_type": "stream",
     "text": [
      "[I 2025-02-25 06:43:16,975] Trial 15 finished with value: 0.7435939677981458 and parameters: {'iterations': 2717, 'depth': 8, 'learning_rate': 0.06347916602487957, 'l2_leaf_reg': 0.026986971696484528}. Best is trial 11 with value: 0.7444723516563472.\n"
     ]
    },
    {
     "name": "stdout",
     "output_type": "stream",
     "text": [
      "Stopped by overfitting detector  (300 iterations wait)\n",
      "\n",
      "bestTest = 0.7435939678\n",
      "bestIteration = 261\n",
      "\n",
      "Shrink model to first 262 iterations.\n",
      "0:\ttest: 0.7300282\tbest: 0.7300282 (0)\ttotal: 124ms\tremaining: 6m\n",
      "300:\ttest: 0.7420393\tbest: 0.7420393 (300)\ttotal: 37.2s\tremaining: 5m 23s\n",
      "600:\ttest: 0.7433295\tbest: 0.7433454 (591)\ttotal: 1m 18s\tremaining: 5m 1s\n",
      "900:\ttest: 0.7436734\tbest: 0.7437909 (812)\ttotal: 1m 59s\tremaining: 4m 28s\n",
      "1200:\ttest: 0.7436259\tbest: 0.7438145 (972)\ttotal: 2m 44s\tremaining: 3m 55s\n"
     ]
    },
    {
     "name": "stderr",
     "output_type": "stream",
     "text": [
      "[I 2025-02-25 06:46:13,430] Trial 16 finished with value: 0.7438144711101985 and parameters: {'iterations': 2918, 'depth': 10, 'learning_rate': 0.015627704142452237, 'l2_leaf_reg': 1.1564999623873626}. Best is trial 11 with value: 0.7444723516563472.\n"
     ]
    },
    {
     "name": "stdout",
     "output_type": "stream",
     "text": [
      "Stopped by overfitting detector  (300 iterations wait)\n",
      "\n",
      "bestTest = 0.7438144711\n",
      "bestIteration = 972\n",
      "\n",
      "Shrink model to first 973 iterations.\n",
      "0:\ttest: 0.7246743\tbest: 0.7246743 (0)\ttotal: 98ms\tremaining: 4m 4s\n",
      "300:\ttest: 0.7368622\tbest: 0.7368660 (299)\ttotal: 24.7s\tremaining: 3m\n",
      "600:\ttest: 0.7401073\tbest: 0.7401074 (599)\ttotal: 48.7s\tremaining: 2m 33s\n",
      "900:\ttest: 0.7416217\tbest: 0.7416217 (900)\ttotal: 1m 13s\tremaining: 2m 10s\n",
      "1200:\ttest: 0.7423701\tbest: 0.7423701 (1200)\ttotal: 1m 37s\tremaining: 1m 45s\n",
      "1500:\ttest: 0.7428106\tbest: 0.7428106 (1500)\ttotal: 2m 2s\tremaining: 1m 20s\n",
      "1800:\ttest: 0.7431246\tbest: 0.7431246 (1800)\ttotal: 2m 26s\tremaining: 56.4s\n",
      "2100:\ttest: 0.7433879\tbest: 0.7433884 (2097)\ttotal: 2m 50s\tremaining: 32s\n",
      "2400:\ttest: 0.7436212\tbest: 0.7436212 (2398)\ttotal: 3m 16s\tremaining: 7.71s\n"
     ]
    },
    {
     "name": "stderr",
     "output_type": "stream",
     "text": [
      "[I 2025-02-25 06:49:39,164] Trial 17 finished with value: 0.7436841625078516 and parameters: {'iterations': 2495, 'depth': 8, 'learning_rate': 0.005588768772785566, 'l2_leaf_reg': 27.028519492661054}. Best is trial 11 with value: 0.7444723516563472.\n"
     ]
    },
    {
     "name": "stdout",
     "output_type": "stream",
     "text": [
      "2494:\ttest: 0.7436841\tbest: 0.7436842 (2486)\ttotal: 3m 25s\tremaining: 0us\n",
      "\n",
      "bestTest = 0.7436841625\n",
      "bestIteration = 2486\n",
      "\n",
      "Shrink model to first 2487 iterations.\n",
      "0:\ttest: 0.7246501\tbest: 0.7246501 (0)\ttotal: 97.8ms\tremaining: 3m 40s\n",
      "300:\ttest: 0.7432551\tbest: 0.7432551 (300)\ttotal: 25.1s\tremaining: 2m 43s\n",
      "600:\ttest: 0.7442205\tbest: 0.7442270 (590)\ttotal: 53.5s\tremaining: 2m 27s\n",
      "900:\ttest: 0.7437755\tbest: 0.7442975 (629)\ttotal: 1m 22s\tremaining: 2m 3s\n"
     ]
    },
    {
     "name": "stderr",
     "output_type": "stream",
     "text": [
      "[I 2025-02-25 06:51:04,609] Trial 18 finished with value: 0.7442975214776499 and parameters: {'iterations': 2255, 'depth': 8, 'learning_rate': 0.03519084982617142, 'l2_leaf_reg': 1.4779556720626297}. Best is trial 11 with value: 0.7444723516563472.\n"
     ]
    },
    {
     "name": "stdout",
     "output_type": "stream",
     "text": [
      "Stopped by overfitting detector  (300 iterations wait)\n",
      "\n",
      "bestTest = 0.7442975215\n",
      "bestIteration = 629\n",
      "\n",
      "Shrink model to first 630 iterations.\n",
      "0:\ttest: 0.7246501\tbest: 0.7246501 (0)\ttotal: 95.5ms\tremaining: 2m 42s\n",
      "300:\ttest: 0.7432772\tbest: 0.7432789 (297)\ttotal: 25.1s\tremaining: 1m 56s\n",
      "600:\ttest: 0.7438758\tbest: 0.7439471 (429)\ttotal: 53.6s\tremaining: 1m 38s\n"
     ]
    },
    {
     "name": "stderr",
     "output_type": "stream",
     "text": [
      "[I 2025-02-25 06:52:10,733] Trial 19 finished with value: 0.7439470709138969 and parameters: {'iterations': 1701, 'depth': 8, 'learning_rate': 0.03689499993250822, 'l2_leaf_reg': 1.5131106852526994}. Best is trial 11 with value: 0.7444723516563472.\n"
     ]
    },
    {
     "name": "stdout",
     "output_type": "stream",
     "text": [
      "Stopped by overfitting detector  (300 iterations wait)\n",
      "\n",
      "bestTest = 0.7439470709\n",
      "bestIteration = 429\n",
      "\n",
      "Shrink model to first 430 iterations.\n",
      "0:\ttest: 0.7209747\tbest: 0.7209747 (0)\ttotal: 82.5ms\tremaining: 3m 2s\n",
      "300:\ttest: 0.7435370\tbest: 0.7436388 (240)\ttotal: 23.2s\tremaining: 2m 27s\n"
     ]
    },
    {
     "name": "stderr",
     "output_type": "stream",
     "text": [
      "[I 2025-02-25 06:52:54,324] Trial 20 finished with value: 0.7436388070453941 and parameters: {'iterations': 2212, 'depth': 7, 'learning_rate': 0.05895956217033331, 'l2_leaf_reg': 0.012990508780008181}. Best is trial 11 with value: 0.7444723516563472.\n"
     ]
    },
    {
     "name": "stdout",
     "output_type": "stream",
     "text": [
      "Stopped by overfitting detector  (300 iterations wait)\n",
      "\n",
      "bestTest = 0.743638807\n",
      "bestIteration = 240\n",
      "\n",
      "Shrink model to first 241 iterations.\n",
      "0:\ttest: 0.7240244\tbest: 0.7240244 (0)\ttotal: 104ms\tremaining: 4m 5s\n",
      "300:\ttest: 0.7430704\tbest: 0.7430739 (291)\ttotal: 28.4s\tremaining: 3m 13s\n",
      "600:\ttest: 0.7437553\tbest: 0.7438069 (484)\ttotal: 1m\tremaining: 2m 55s\n"
     ]
    },
    {
     "name": "stderr",
     "output_type": "stream",
     "text": [
      "[I 2025-02-25 06:54:15,046] Trial 21 finished with value: 0.7438069264263717 and parameters: {'iterations': 2349, 'depth': 9, 'learning_rate': 0.030526577015167446, 'l2_leaf_reg': 3.8785579980928975}. Best is trial 11 with value: 0.7444723516563472.\n"
     ]
    },
    {
     "name": "stdout",
     "output_type": "stream",
     "text": [
      "Stopped by overfitting detector  (300 iterations wait)\n",
      "\n",
      "bestTest = 0.7438069264\n",
      "bestIteration = 484\n",
      "\n",
      "Shrink model to first 485 iterations.\n",
      "0:\ttest: 0.7301495\tbest: 0.7301495 (0)\ttotal: 124ms\tremaining: 5m 35s\n",
      "300:\ttest: 0.7423916\tbest: 0.7423939 (299)\ttotal: 37s\tremaining: 4m 56s\n",
      "600:\ttest: 0.7435909\tbest: 0.7435969 (597)\ttotal: 1m 15s\tremaining: 4m 24s\n",
      "900:\ttest: 0.7442063\tbest: 0.7442166 (896)\ttotal: 2m\tremaining: 4m 2s\n",
      "1200:\ttest: 0.7441815\tbest: 0.7442800 (1040)\ttotal: 2m 51s\tremaining: 3m 36s\n"
     ]
    },
    {
     "name": "stderr",
     "output_type": "stream",
     "text": [
      "[I 2025-02-25 06:57:30,951] Trial 22 finished with value: 0.7442799820731959 and parameters: {'iterations': 2714, 'depth': 10, 'learning_rate': 0.018256419105796673, 'l2_leaf_reg': 23.577698322983274}. Best is trial 11 with value: 0.7444723516563472.\n"
     ]
    },
    {
     "name": "stdout",
     "output_type": "stream",
     "text": [
      "Stopped by overfitting detector  (300 iterations wait)\n",
      "\n",
      "bestTest = 0.7442799821\n",
      "bestIteration = 1040\n",
      "\n",
      "Shrink model to first 1041 iterations.\n",
      "0:\ttest: 0.7240195\tbest: 0.7240195 (0)\ttotal: 103ms\tremaining: 3m 39s\n",
      "300:\ttest: 0.7426806\tbest: 0.7426806 (300)\ttotal: 29.3s\tremaining: 2m 58s\n",
      "600:\ttest: 0.7417319\tbest: 0.7430070 (396)\ttotal: 1m 2s\tremaining: 2m 38s\n"
     ]
    },
    {
     "name": "stderr",
     "output_type": "stream",
     "text": [
      "[I 2025-02-25 06:58:44,034] Trial 23 finished with value: 0.7430069755128789 and parameters: {'iterations': 2131, 'depth': 9, 'learning_rate': 0.042951120911644214, 'l2_leaf_reg': 0.16692545318271604}. Best is trial 11 with value: 0.7444723516563472.\n"
     ]
    },
    {
     "name": "stdout",
     "output_type": "stream",
     "text": [
      "Stopped by overfitting detector  (300 iterations wait)\n",
      "\n",
      "bestTest = 0.7430069755\n",
      "bestIteration = 396\n",
      "\n",
      "Shrink model to first 397 iterations.\n",
      "0:\ttest: 0.7300238\tbest: 0.7300238 (0)\ttotal: 122ms\tremaining: 5m 14s\n",
      "300:\ttest: 0.7420361\tbest: 0.7420561 (298)\ttotal: 36.4s\tremaining: 4m 36s\n",
      "600:\ttest: 0.7435229\tbest: 0.7435229 (600)\ttotal: 1m 14s\tremaining: 4m 6s\n",
      "900:\ttest: 0.7438939\tbest: 0.7438955 (897)\ttotal: 1m 53s\tremaining: 3m 32s\n",
      "1200:\ttest: 0.7439424\tbest: 0.7440930 (1042)\ttotal: 2m 37s\tremaining: 3m 1s\n"
     ]
    },
    {
     "name": "stderr",
     "output_type": "stream",
     "text": [
      "[I 2025-02-25 07:01:43,702] Trial 24 finished with value: 0.744092977157334 and parameters: {'iterations': 2585, 'depth': 10, 'learning_rate': 0.01413567206669741, 'l2_leaf_reg': 0.6149774490857359}. Best is trial 11 with value: 0.7444723516563472.\n"
     ]
    },
    {
     "name": "stdout",
     "output_type": "stream",
     "text": [
      "Stopped by overfitting detector  (300 iterations wait)\n",
      "\n",
      "bestTest = 0.7440929772\n",
      "bestIteration = 1042\n",
      "\n",
      "Shrink model to first 1043 iterations.\n",
      "0:\ttest: 0.7246473\tbest: 0.7246473 (0)\ttotal: 97ms\tremaining: 3m 46s\n",
      "300:\ttest: 0.7430815\tbest: 0.7430867 (299)\ttotal: 24.7s\tremaining: 2m 46s\n",
      "600:\ttest: 0.7440590\tbest: 0.7440773 (558)\ttotal: 52.6s\tremaining: 2m 31s\n",
      "900:\ttest: 0.7442545\tbest: 0.7443183 (744)\ttotal: 1m 21s\tremaining: 2m 9s\n"
     ]
    },
    {
     "name": "stderr",
     "output_type": "stream",
     "text": [
      "[I 2025-02-25 07:03:19,816] Trial 25 finished with value: 0.7443183130379221 and parameters: {'iterations': 2332, 'depth': 8, 'learning_rate': 0.030868919617520245, 'l2_leaf_reg': 3.4892405147608914}. Best is trial 11 with value: 0.7444723516563472.\n"
     ]
    },
    {
     "name": "stdout",
     "output_type": "stream",
     "text": [
      "Stopped by overfitting detector  (300 iterations wait)\n",
      "\n",
      "bestTest = 0.744318313\n",
      "bestIteration = 744\n",
      "\n",
      "Shrink model to first 745 iterations.\n",
      "0:\ttest: 0.7165235\tbest: 0.7165235 (0)\ttotal: 76.6ms\tremaining: 3m 35s\n",
      "300:\ttest: 0.7421227\tbest: 0.7421227 (300)\ttotal: 19.4s\tremaining: 2m 42s\n",
      "600:\ttest: 0.7437348\tbest: 0.7437348 (600)\ttotal: 40.3s\tremaining: 2m 28s\n",
      "900:\ttest: 0.7438081\tbest: 0.7438580 (761)\ttotal: 1m 1s\tremaining: 2m 11s\n"
     ]
    },
    {
     "name": "stderr",
     "output_type": "stream",
     "text": [
      "[I 2025-02-25 07:04:33,330] Trial 26 finished with value: 0.7438579920232202 and parameters: {'iterations': 2820, 'depth': 6, 'learning_rate': 0.03131281707547397, 'l2_leaf_reg': 2.7270777807706263}. Best is trial 11 with value: 0.7444723516563472.\n"
     ]
    },
    {
     "name": "stdout",
     "output_type": "stream",
     "text": [
      "Stopped by overfitting detector  (300 iterations wait)\n",
      "\n",
      "bestTest = 0.743857992\n",
      "bestIteration = 761\n",
      "\n",
      "Shrink model to first 762 iterations.\n",
      "0:\ttest: 0.7246703\tbest: 0.7246703 (0)\ttotal: 97.6ms\tremaining: 3m 41s\n",
      "300:\ttest: 0.7433027\tbest: 0.7433027 (300)\ttotal: 25.1s\tremaining: 2m 44s\n",
      "600:\ttest: 0.7439020\tbest: 0.7439495 (591)\ttotal: 53.4s\tremaining: 2m 28s\n",
      "900:\ttest: 0.7440206\tbest: 0.7440541 (733)\ttotal: 1m 21s\tremaining: 2m 4s\n"
     ]
    },
    {
     "name": "stderr",
     "output_type": "stream",
     "text": [
      "[I 2025-02-25 07:06:08,048] Trial 27 finished with value: 0.744054102181195 and parameters: {'iterations': 2275, 'depth': 8, 'learning_rate': 0.04761299199179468, 'l2_leaf_reg': 32.31573164196382}. Best is trial 11 with value: 0.7444723516563472.\n"
     ]
    },
    {
     "name": "stdout",
     "output_type": "stream",
     "text": [
      "Stopped by overfitting detector  (300 iterations wait)\n",
      "\n",
      "bestTest = 0.7440541022\n",
      "bestIteration = 733\n",
      "\n",
      "Shrink model to first 734 iterations.\n",
      "0:\ttest: 0.7165235\tbest: 0.7165235 (0)\ttotal: 74.4ms\tremaining: 3m 3s\n",
      "300:\ttest: 0.7435986\tbest: 0.7435986 (300)\ttotal: 20s\tremaining: 2m 24s\n",
      "600:\ttest: 0.7437920\tbest: 0.7440399 (437)\ttotal: 41.6s\tremaining: 2m 9s\n"
     ]
    },
    {
     "name": "stderr",
     "output_type": "stream",
     "text": [
      "[I 2025-02-25 07:06:59,697] Trial 28 finished with value: 0.7440399499426906 and parameters: {'iterations': 2474, 'depth': 6, 'learning_rate': 0.055606322358082064, 'l2_leaf_reg': 0.4883084655613313}. Best is trial 11 with value: 0.7444723516563472.\n"
     ]
    },
    {
     "name": "stdout",
     "output_type": "stream",
     "text": [
      "Stopped by overfitting detector  (300 iterations wait)\n",
      "\n",
      "bestTest = 0.7440399499\n",
      "bestIteration = 437\n",
      "\n",
      "Shrink model to first 438 iterations.\n",
      "0:\ttest: 0.7246473\tbest: 0.7246473 (0)\ttotal: 93.3ms\tremaining: 3m 8s\n",
      "300:\ttest: 0.7420773\tbest: 0.7420773 (300)\ttotal: 26.4s\tremaining: 2m 31s\n",
      "600:\ttest: 0.7435674\tbest: 0.7435674 (600)\ttotal: 52.8s\tremaining: 2m 5s\n",
      "900:\ttest: 0.7441754\tbest: 0.7441834 (891)\ttotal: 1m 22s\tremaining: 1m 42s\n",
      "1200:\ttest: 0.7442162\tbest: 0.7442877 (1164)\ttotal: 1m 50s\tremaining: 1m 16s\n"
     ]
    },
    {
     "name": "stderr",
     "output_type": "stream",
     "text": [
      "[I 2025-02-25 07:09:16,513] Trial 29 finished with value: 0.744287709417789 and parameters: {'iterations': 2025, 'depth': 8, 'learning_rate': 0.022083779435091915, 'l2_leaf_reg': 3.5361927112034857}. Best is trial 11 with value: 0.7444723516563472.\n"
     ]
    },
    {
     "name": "stdout",
     "output_type": "stream",
     "text": [
      "Stopped by overfitting detector  (300 iterations wait)\n",
      "\n",
      "bestTest = 0.7442877094\n",
      "bestIteration = 1164\n",
      "\n",
      "Shrink model to first 1165 iterations.\n",
      "0:\ttest: 0.7209747\tbest: 0.7209747 (0)\ttotal: 85.7ms\tremaining: 2m 40s\n",
      "300:\ttest: 0.7429782\tbest: 0.7429782 (300)\ttotal: 22.5s\tremaining: 1m 57s\n",
      "600:\ttest: 0.7435984\tbest: 0.7436000 (593)\ttotal: 47.5s\tremaining: 1m 41s\n"
     ]
    },
    {
     "name": "stderr",
     "output_type": "stream",
     "text": [
      "[I 2025-02-25 07:10:29,507] Trial 30 finished with value: 0.7436077666277763 and parameters: {'iterations': 1880, 'depth': 7, 'learning_rate': 0.04182344711605876, 'l2_leaf_reg': 0.11148294406122569}. Best is trial 11 with value: 0.7444723516563472.\n"
     ]
    },
    {
     "name": "stdout",
     "output_type": "stream",
     "text": [
      "900:\ttest: 0.7432070\tbest: 0.7436078 (601)\ttotal: 1m 12s\tremaining: 1m 19s\n",
      "Stopped by overfitting detector  (300 iterations wait)\n",
      "\n",
      "bestTest = 0.7436077666\n",
      "bestIteration = 601\n",
      "\n",
      "Shrink model to first 602 iterations.\n",
      "0:\ttest: 0.7246468\tbest: 0.7246468 (0)\ttotal: 97.8ms\tremaining: 3m 21s\n",
      "300:\ttest: 0.7422292\tbest: 0.7422422 (298)\ttotal: 25.1s\tremaining: 2m 26s\n",
      "600:\ttest: 0.7432841\tbest: 0.7432841 (600)\ttotal: 50.7s\tremaining: 2m 3s\n",
      "900:\ttest: 0.7435968\tbest: 0.7436643 (877)\ttotal: 1m 19s\tremaining: 1m 42s\n"
     ]
    },
    {
     "name": "stderr",
     "output_type": "stream",
     "text": [
      "[I 2025-02-25 07:12:15,578] Trial 31 finished with value: 0.7436643279311597 and parameters: {'iterations': 2062, 'depth': 8, 'learning_rate': 0.022182321985851374, 'l2_leaf_reg': 3.908077122701118}. Best is trial 11 with value: 0.7444723516563472.\n"
     ]
    },
    {
     "name": "stdout",
     "output_type": "stream",
     "text": [
      "Stopped by overfitting detector  (300 iterations wait)\n",
      "\n",
      "bestTest = 0.7436643279\n",
      "bestIteration = 877\n",
      "\n",
      "Shrink model to first 878 iterations.\n",
      "0:\ttest: 0.7246373\tbest: 0.7246373 (0)\ttotal: 93.4ms\tremaining: 2m 43s\n",
      "300:\ttest: 0.7429054\tbest: 0.7429071 (299)\ttotal: 24.6s\tremaining: 1m 58s\n",
      "600:\ttest: 0.7440352\tbest: 0.7440509 (595)\ttotal: 51.4s\tremaining: 1m 38s\n",
      "900:\ttest: 0.7441764\tbest: 0.7441869 (735)\ttotal: 1m 20s\tremaining: 1m 15s\n"
     ]
    },
    {
     "name": "stderr",
     "output_type": "stream",
     "text": [
      "[I 2025-02-25 07:13:48,878] Trial 32 finished with value: 0.7441869005292048 and parameters: {'iterations': 1753, 'depth': 8, 'learning_rate': 0.029958315629498078, 'l2_leaf_reg': 14.99067302201233}. Best is trial 11 with value: 0.7444723516563472.\n"
     ]
    },
    {
     "name": "stdout",
     "output_type": "stream",
     "text": [
      "Stopped by overfitting detector  (300 iterations wait)\n",
      "\n",
      "bestTest = 0.7441869005\n",
      "bestIteration = 735\n",
      "\n",
      "Shrink model to first 736 iterations.\n",
      "0:\ttest: 0.7241412\tbest: 0.7241412 (0)\ttotal: 100ms\tremaining: 3m 42s\n",
      "300:\ttest: 0.7424777\tbest: 0.7424777 (300)\ttotal: 28s\tremaining: 2m 57s\n",
      "600:\ttest: 0.7435346\tbest: 0.7435346 (600)\ttotal: 54.1s\tremaining: 2m 25s\n",
      "900:\ttest: 0.7438862\tbest: 0.7438868 (897)\ttotal: 1m 25s\tremaining: 2m 5s\n",
      "1200:\ttest: 0.7440374\tbest: 0.7440502 (1183)\ttotal: 1m 58s\tremaining: 1m 39s\n"
     ]
    },
    {
     "name": "stderr",
     "output_type": "stream",
     "text": [
      "[I 2025-02-25 07:16:18,108] Trial 33 finished with value: 0.7440501710038327 and parameters: {'iterations': 2217, 'depth': 9, 'learning_rate': 0.02049606402393383, 'l2_leaf_reg': 48.07962928185955}. Best is trial 11 with value: 0.7444723516563472.\n"
     ]
    },
    {
     "name": "stdout",
     "output_type": "stream",
     "text": [
      "Stopped by overfitting detector  (300 iterations wait)\n",
      "\n",
      "bestTest = 0.744050171\n",
      "bestIteration = 1183\n",
      "\n",
      "Shrink model to first 1184 iterations.\n",
      "0:\ttest: 0.7246478\tbest: 0.7246478 (0)\ttotal: 98.9ms\tremaining: 3m 50s\n",
      "300:\ttest: 0.7425881\tbest: 0.7425890 (299)\ttotal: 25.1s\tremaining: 2m 48s\n",
      "600:\ttest: 0.7438854\tbest: 0.7439048 (561)\ttotal: 52.5s\tremaining: 2m 30s\n",
      "900:\ttest: 0.7441504\tbest: 0.7441583 (880)\ttotal: 1m 21s\tremaining: 2m 8s\n",
      "1200:\ttest: 0.7439991\tbest: 0.7442446 (985)\ttotal: 1m 50s\tremaining: 1m 43s\n"
     ]
    },
    {
     "name": "stderr",
     "output_type": "stream",
     "text": [
      "[I 2025-02-25 07:18:16,758] Trial 34 finished with value: 0.744244573680731 and parameters: {'iterations': 2328, 'depth': 8, 'learning_rate': 0.026765132925624976, 'l2_leaf_reg': 2.4036546407282184}. Best is trial 11 with value: 0.7444723516563472.\n"
     ]
    },
    {
     "name": "stdout",
     "output_type": "stream",
     "text": [
      "Stopped by overfitting detector  (300 iterations wait)\n",
      "\n",
      "bestTest = 0.7442445737\n",
      "bestIteration = 985\n",
      "\n",
      "Shrink model to first 986 iterations.\n",
      "0:\ttest: 0.7209733\tbest: 0.7209733 (0)\ttotal: 80ms\tremaining: 2m 26s\n",
      "300:\ttest: 0.7380718\tbest: 0.7380718 (300)\ttotal: 21.2s\tremaining: 1m 47s\n",
      "600:\ttest: 0.7411603\tbest: 0.7411603 (600)\ttotal: 43s\tremaining: 1m 28s\n",
      "900:\ttest: 0.7422550\tbest: 0.7422550 (900)\ttotal: 1m 5s\tremaining: 1m 7s\n",
      "1200:\ttest: 0.7428308\tbest: 0.7428322 (1197)\ttotal: 1m 28s\tremaining: 46.2s\n",
      "1500:\ttest: 0.7432570\tbest: 0.7432587 (1498)\ttotal: 1m 50s\tremaining: 24.4s\n",
      "1800:\ttest: 0.7437449\tbest: 0.7437449 (1800)\ttotal: 2m 15s\tremaining: 2.25s\n"
     ]
    },
    {
     "name": "stderr",
     "output_type": "stream",
     "text": [
      "[I 2025-02-25 07:20:34,875] Trial 35 finished with value: 0.7437634968437332 and parameters: {'iterations': 1831, 'depth': 7, 'learning_rate': 0.008445395209735352, 'l2_leaf_reg': 7.103020430189392}. Best is trial 11 with value: 0.7444723516563472.\n"
     ]
    },
    {
     "name": "stdout",
     "output_type": "stream",
     "text": [
      "1830:\ttest: 0.7437635\tbest: 0.7437635 (1829)\ttotal: 2m 17s\tremaining: 0us\n",
      "\n",
      "bestTest = 0.7437634968\n",
      "bestIteration = 1829\n",
      "\n",
      "Shrink model to first 1830 iterations.\n",
      "0:\ttest: 0.7165235\tbest: 0.7165235 (0)\ttotal: 74.1ms\tremaining: 2m 36s\n",
      "300:\ttest: 0.7423518\tbest: 0.7423518 (300)\ttotal: 19s\tremaining: 1m 54s\n",
      "600:\ttest: 0.7437414\tbest: 0.7437963 (543)\ttotal: 40.2s\tremaining: 1m 41s\n",
      "900:\ttest: 0.7440514\tbest: 0.7441040 (884)\ttotal: 1m 1s\tremaining: 1m 23s\n"
     ]
    },
    {
     "name": "stderr",
     "output_type": "stream",
     "text": [
      "[I 2025-02-25 07:21:57,642] Trial 36 finished with value: 0.744104024162811 and parameters: {'iterations': 2115, 'depth': 6, 'learning_rate': 0.034849229766374175, 'l2_leaf_reg': 0.5258223870954172}. Best is trial 11 with value: 0.7444723516563472.\n"
     ]
    },
    {
     "name": "stdout",
     "output_type": "stream",
     "text": [
      "Stopped by overfitting detector  (300 iterations wait)\n",
      "\n",
      "bestTest = 0.7441040242\n",
      "bestIteration = 884\n",
      "\n",
      "Shrink model to first 885 iterations.\n",
      "0:\ttest: 0.7047390\tbest: 0.7047390 (0)\ttotal: 63.1ms\tremaining: 2m 6s\n",
      "300:\ttest: 0.7427520\tbest: 0.7427520 (300)\ttotal: 16.8s\tremaining: 1m 35s\n",
      "600:\ttest: 0.7434486\tbest: 0.7434972 (429)\ttotal: 34.9s\tremaining: 1m 21s\n",
      "900:\ttest: 0.7434051\tbest: 0.7434981 (638)\ttotal: 53.3s\tremaining: 1m 5s\n"
     ]
    },
    {
     "name": "stderr",
     "output_type": "stream",
     "text": [
      "[I 2025-02-25 07:22:53,454] Trial 37 finished with value: 0.7434980788375939 and parameters: {'iterations': 2011, 'depth': 5, 'learning_rate': 0.04580470949786744, 'l2_leaf_reg': 0.009614363237955392}. Best is trial 11 with value: 0.7444723516563472.\n"
     ]
    },
    {
     "name": "stdout",
     "output_type": "stream",
     "text": [
      "Stopped by overfitting detector  (300 iterations wait)\n",
      "\n",
      "bestTest = 0.7434980788\n",
      "bestIteration = 638\n",
      "\n",
      "Shrink model to first 639 iterations.\n",
      "0:\ttest: 0.7240234\tbest: 0.7240234 (0)\ttotal: 104ms\tremaining: 2m 44s\n",
      "300:\ttest: 0.7403307\tbest: 0.7403307 (300)\ttotal: 27.7s\tremaining: 1m 58s\n",
      "600:\ttest: 0.7425421\tbest: 0.7425421 (600)\ttotal: 56.3s\tremaining: 1m 32s\n",
      "900:\ttest: 0.7432580\tbest: 0.7432585 (899)\ttotal: 1m 24s\tremaining: 1m 4s\n",
      "1200:\ttest: 0.7436819\tbest: 0.7436945 (1197)\ttotal: 1m 54s\tremaining: 36.9s\n",
      "1500:\ttest: 0.7439299\tbest: 0.7439913 (1461)\ttotal: 2m 27s\tremaining: 8.64s\n"
     ]
    },
    {
     "name": "stderr",
     "output_type": "stream",
     "text": [
      "[I 2025-02-25 07:25:31,115] Trial 38 finished with value: 0.7439947016941612 and parameters: {'iterations': 1589, 'depth': 9, 'learning_rate': 0.010793740340547706, 'l2_leaf_reg': 0.2641479530437085}. Best is trial 11 with value: 0.7444723516563472.\n"
     ]
    },
    {
     "name": "stdout",
     "output_type": "stream",
     "text": [
      "1588:\ttest: 0.7439562\tbest: 0.7439947 (1542)\ttotal: 2m 37s\tremaining: 0us\n",
      "\n",
      "bestTest = 0.7439947017\n",
      "bestIteration = 1542\n",
      "\n",
      "Shrink model to first 1543 iterations.\n",
      "0:\ttest: 0.7246501\tbest: 0.7246501 (0)\ttotal: 96.7ms\tremaining: 3m 55s\n",
      "300:\ttest: 0.7429729\tbest: 0.7430274 (154)\ttotal: 27.3s\tremaining: 3m 13s\n"
     ]
    },
    {
     "name": "stderr",
     "output_type": "stream",
     "text": [
      "[I 2025-02-25 07:26:13,316] Trial 39 finished with value: 0.7430273501300974 and parameters: {'iterations': 2436, 'depth': 8, 'learning_rate': 0.08103129583237369, 'l2_leaf_reg': 1.0754640093660797}. Best is trial 11 with value: 0.7444723516563472.\n",
      "[I 2025-02-25 07:26:13,323] A new study created in memory with name: no-name-bdbf7d64-1631-4062-b055-23214442d9b0\n"
     ]
    },
    {
     "name": "stdout",
     "output_type": "stream",
     "text": [
      "Stopped by overfitting detector  (300 iterations wait)\n",
      "\n",
      "bestTest = 0.7430273501\n",
      "bestIteration = 154\n",
      "\n",
      "Shrink model to first 155 iterations.\n"
     ]
    },
    {
     "name": "stderr",
     "output_type": "stream",
     "text": [
      "[I 2025-02-25 07:26:36,329] Trial 0 finished with value: 0.7347289126801801 and parameters: {'num_iterations': 2366, 'objective': 'binary', 'metric': 'auc', 'verbose': -1, 'learning_rate': 0.0652646236447618, 'n_estimators': 236, 'min_child_samples': 45, 'subsample': 0.7, 'colsample_bytree': 0.5}. Best is trial 0 with value: 0.7347289126801801.\n",
      "[I 2025-02-25 07:26:53,211] Trial 1 finished with value: 0.7436438461000131 and parameters: {'num_iterations': 1510, 'objective': 'binary', 'metric': 'auc', 'verbose': -1, 'learning_rate': 0.005231880959249543, 'n_estimators': 1411, 'min_child_samples': 10, 'subsample': 1.0, 'colsample_bytree': 0.5}. Best is trial 1 with value: 0.7436438461000131.\n",
      "[I 2025-02-25 07:27:12,590] Trial 2 finished with value: 0.743116834051169 and parameters: {'num_iterations': 2334, 'objective': 'binary', 'metric': 'auc', 'verbose': -1, 'learning_rate': 0.006578527777128852, 'n_estimators': 931, 'min_child_samples': 15, 'subsample': 0.5, 'colsample_bytree': 1.0}. Best is trial 1 with value: 0.7436438461000131.\n",
      "[I 2025-02-25 07:27:28,822] Trial 3 finished with value: 0.7437979363399592 and parameters: {'num_iterations': 1620, 'objective': 'binary', 'metric': 'auc', 'verbose': -1, 'learning_rate': 0.0058823249237283685, 'n_estimators': 837, 'min_child_samples': 10, 'subsample': 0.9, 'colsample_bytree': 0.6}. Best is trial 3 with value: 0.7437979363399592.\n",
      "[I 2025-02-25 07:27:45,198] Trial 4 finished with value: 0.7437371579554053 and parameters: {'num_iterations': 1997, 'objective': 'binary', 'metric': 'auc', 'verbose': -1, 'learning_rate': 0.010907507425244923, 'n_estimators': 1597, 'min_child_samples': 50, 'subsample': 0.6, 'colsample_bytree': 0.8}. Best is trial 3 with value: 0.7437979363399592.\n",
      "[I 2025-02-25 07:28:07,722] Trial 5 finished with value: 0.7397437091552658 and parameters: {'num_iterations': 2909, 'objective': 'binary', 'metric': 'auc', 'verbose': -1, 'learning_rate': 0.019760591962733942, 'n_estimators': 612, 'min_child_samples': 30, 'subsample': 0.7, 'colsample_bytree': 0.9}. Best is trial 3 with value: 0.7437979363399592.\n",
      "[I 2025-02-25 07:28:28,321] Trial 6 finished with value: 0.7413600504512213 and parameters: {'num_iterations': 2639, 'objective': 'binary', 'metric': 'auc', 'verbose': -1, 'learning_rate': 0.017862094446750985, 'n_estimators': 794, 'min_child_samples': 35, 'subsample': 1.0, 'colsample_bytree': 0.8}. Best is trial 3 with value: 0.7437979363399592.\n",
      "[I 2025-02-25 07:28:44,730] Trial 7 finished with value: 0.7435218882713966 and parameters: {'num_iterations': 1580, 'objective': 'binary', 'metric': 'auc', 'verbose': -1, 'learning_rate': 0.01776722177611332, 'n_estimators': 529, 'min_child_samples': 25, 'subsample': 0.8, 'colsample_bytree': 0.5}. Best is trial 3 with value: 0.7437979363399592.\n",
      "[I 2025-02-25 07:29:01,995] Trial 8 finished with value: 0.7412821932850153 and parameters: {'num_iterations': 1911, 'objective': 'binary', 'metric': 'auc', 'verbose': -1, 'learning_rate': 0.0304747553332844, 'n_estimators': 1328, 'min_child_samples': 10, 'subsample': 0.7, 'colsample_bytree': 0.6}. Best is trial 3 with value: 0.7437979363399592.\n",
      "[I 2025-02-25 07:29:29,230] Trial 9 finished with value: 0.740658581486985 and parameters: {'num_iterations': 2739, 'objective': 'binary', 'metric': 'auc', 'verbose': -1, 'learning_rate': 0.02691531614176271, 'n_estimators': 1438, 'min_child_samples': 20, 'subsample': 0.6, 'colsample_bytree': 0.5}. Best is trial 3 with value: 0.7437979363399592.\n",
      "[I 2025-02-25 07:29:43,647] Trial 10 finished with value: 0.7336820798574446 and parameters: {'num_iterations': 1883, 'objective': 'binary', 'metric': 'auc', 'verbose': -1, 'learning_rate': 0.08223556891145911, 'n_estimators': 1917, 'min_child_samples': 40, 'subsample': 0.9, 'colsample_bytree': 0.7}. Best is trial 3 with value: 0.7437979363399592.\n",
      "[I 2025-02-25 07:30:00,031] Trial 11 finished with value: 0.7439675011235225 and parameters: {'num_iterations': 1911, 'objective': 'binary', 'metric': 'auc', 'verbose': -1, 'learning_rate': 0.007972116511668384, 'n_estimators': 1742, 'min_child_samples': 50, 'subsample': 0.5, 'colsample_bytree': 0.7}. Best is trial 11 with value: 0.7439675011235225.\n",
      "[I 2025-02-25 07:30:15,003] Trial 12 finished with value: 0.7438705161983726 and parameters: {'num_iterations': 1744, 'objective': 'binary', 'metric': 'auc', 'verbose': -1, 'learning_rate': 0.00894016787022523, 'n_estimators': 1958, 'min_child_samples': 50, 'subsample': 0.9, 'colsample_bytree': 0.7}. Best is trial 11 with value: 0.7439675011235225.\n",
      "[I 2025-02-25 07:30:32,981] Trial 13 finished with value: 0.7438360965565777 and parameters: {'num_iterations': 2127, 'objective': 'binary', 'metric': 'auc', 'verbose': -1, 'learning_rate': 0.00837551578257693, 'n_estimators': 2000, 'min_child_samples': 50, 'subsample': 0.5, 'colsample_bytree': 0.7}. Best is trial 11 with value: 0.7439675011235225.\n",
      "[I 2025-02-25 07:30:48,378] Trial 14 finished with value: 0.743804031650314 and parameters: {'num_iterations': 1830, 'objective': 'binary', 'metric': 'auc', 'verbose': -1, 'learning_rate': 0.011224486692851735, 'n_estimators': 1729, 'min_child_samples': 40, 'subsample': 0.9, 'colsample_bytree': 0.7}. Best is trial 11 with value: 0.7439675011235225.\n",
      "[I 2025-02-25 07:31:02,459] Trial 15 finished with value: 0.74324336236983 and parameters: {'num_iterations': 1715, 'objective': 'binary', 'metric': 'auc', 'verbose': -1, 'learning_rate': 0.01223578515906346, 'n_estimators': 1745, 'min_child_samples': 45, 'subsample': 0.8, 'colsample_bytree': 0.9}. Best is trial 11 with value: 0.7439675011235225.\n",
      "[I 2025-02-25 07:31:21,241] Trial 16 finished with value: 0.7390237438029953 and parameters: {'num_iterations': 2121, 'objective': 'binary', 'metric': 'auc', 'verbose': -1, 'learning_rate': 0.03901437770924474, 'n_estimators': 1153, 'min_child_samples': 50, 'subsample': 0.6, 'colsample_bytree': 0.6}. Best is trial 11 with value: 0.7439675011235225.\n",
      "[I 2025-02-25 07:31:35,847] Trial 17 finished with value: 0.7438163612520414 and parameters: {'num_iterations': 1727, 'objective': 'binary', 'metric': 'auc', 'verbose': -1, 'learning_rate': 0.008314738194662058, 'n_estimators': 1708, 'min_child_samples': 40, 'subsample': 0.8, 'colsample_bytree': 0.8}. Best is trial 11 with value: 0.7439675011235225.\n",
      "[I 2025-02-25 07:31:53,339] Trial 18 finished with value: 0.7432308699617673 and parameters: {'num_iterations': 2129, 'objective': 'binary', 'metric': 'auc', 'verbose': -1, 'learning_rate': 0.01356820322695768, 'n_estimators': 1876, 'min_child_samples': 30, 'subsample': 0.9, 'colsample_bytree': 0.7}. Best is trial 11 with value: 0.7439675011235225.\n",
      "[I 2025-02-25 07:32:13,761] Trial 19 finished with value: 0.7433170262801827 and parameters: {'num_iterations': 2481, 'objective': 'binary', 'metric': 'auc', 'verbose': -1, 'learning_rate': 0.0075858631459193564, 'n_estimators': 1189, 'min_child_samples': 45, 'subsample': 0.5, 'colsample_bytree': 0.9}. Best is trial 11 with value: 0.7439675011235225.\n",
      "[I 2025-02-25 07:32:31,711] Trial 20 finished with value: 0.739544843202251 and parameters: {'num_iterations': 2026, 'objective': 'binary', 'metric': 'auc', 'verbose': -1, 'learning_rate': 0.03844621393609847, 'n_estimators': 1560, 'min_child_samples': 35, 'subsample': 1.0, 'colsample_bytree': 0.6}. Best is trial 11 with value: 0.7439675011235225.\n",
      "[I 2025-02-25 07:32:49,965] Trial 21 finished with value: 0.7436997482362833 and parameters: {'num_iterations': 2170, 'objective': 'binary', 'metric': 'auc', 'verbose': -1, 'learning_rate': 0.008968112619298947, 'n_estimators': 1978, 'min_child_samples': 50, 'subsample': 0.5, 'colsample_bytree': 0.7}. Best is trial 11 with value: 0.7439675011235225.\n",
      "[I 2025-02-25 07:33:05,907] Trial 22 finished with value: 0.7440397196312896 and parameters: {'num_iterations': 1771, 'objective': 'binary', 'metric': 'auc', 'verbose': -1, 'learning_rate': 0.0050094533559322816, 'n_estimators': 1988, 'min_child_samples': 50, 'subsample': 0.6, 'colsample_bytree': 0.7}. Best is trial 22 with value: 0.7440397196312896.\n",
      "[I 2025-02-25 07:33:21,399] Trial 23 finished with value: 0.7438898305889692 and parameters: {'num_iterations': 1762, 'objective': 'binary', 'metric': 'auc', 'verbose': -1, 'learning_rate': 0.005291871352748244, 'n_estimators': 1836, 'min_child_samples': 45, 'subsample': 0.6, 'colsample_bytree': 0.8}. Best is trial 22 with value: 0.7440397196312896.\n",
      "[I 2025-02-25 07:33:37,675] Trial 24 finished with value: 0.7439344037868404 and parameters: {'num_iterations': 1849, 'objective': 'binary', 'metric': 'auc', 'verbose': -1, 'learning_rate': 0.005038879498212386, 'n_estimators': 1755, 'min_child_samples': 45, 'subsample': 0.6, 'colsample_bytree': 0.8}. Best is trial 22 with value: 0.7440397196312896.\n",
      "[I 2025-02-25 07:33:54,824] Trial 25 finished with value: 0.7439705110552808 and parameters: {'num_iterations': 1964, 'objective': 'binary', 'metric': 'auc', 'verbose': -1, 'learning_rate': 0.005103460342896623, 'n_estimators': 1579, 'min_child_samples': 45, 'subsample': 0.6, 'colsample_bytree': 0.8}. Best is trial 22 with value: 0.7440397196312896.\n",
      "[I 2025-02-25 07:34:11,816] Trial 26 finished with value: 0.7433033306935941 and parameters: {'num_iterations': 1997, 'objective': 'binary', 'metric': 'auc', 'verbose': -1, 'learning_rate': 0.006560862459482555, 'n_estimators': 1561, 'min_child_samples': 35, 'subsample': 0.5, 'colsample_bytree': 1.0}. Best is trial 22 with value: 0.7440397196312896.\n",
      "[I 2025-02-25 07:34:30,909] Trial 27 finished with value: 0.7434687379592803 and parameters: {'num_iterations': 2286, 'objective': 'binary', 'metric': 'auc', 'verbose': -1, 'learning_rate': 0.006850343630727449, 'n_estimators': 1289, 'min_child_samples': 40, 'subsample': 0.6, 'colsample_bytree': 0.9}. Best is trial 22 with value: 0.7440397196312896.\n",
      "[I 2025-02-25 07:34:49,007] Trial 28 finished with value: 0.7430936440756173 and parameters: {'num_iterations': 1962, 'objective': 'binary', 'metric': 'auc', 'verbose': -1, 'learning_rate': 0.014932991863172415, 'n_estimators': 1600, 'min_child_samples': 50, 'subsample': 0.7, 'colsample_bytree': 0.6}. Best is trial 22 with value: 0.7440397196312896.\n",
      "[I 2025-02-25 07:35:02,899] Trial 29 finished with value: 0.7436546905902925 and parameters: {'num_iterations': 1667, 'objective': 'binary', 'metric': 'auc', 'verbose': -1, 'learning_rate': 0.010214014052021738, 'n_estimators': 315, 'min_child_samples': 45, 'subsample': 0.5, 'colsample_bytree': 0.8}. Best is trial 22 with value: 0.7440397196312896.\n",
      "[I 2025-02-25 07:35:24,163] Trial 30 finished with value: 0.743848017157024 and parameters: {'num_iterations': 2462, 'objective': 'binary', 'metric': 'auc', 'verbose': -1, 'learning_rate': 0.006300048275050027, 'n_estimators': 104, 'min_child_samples': 40, 'subsample': 0.6, 'colsample_bytree': 0.7}. Best is trial 22 with value: 0.7440397196312896.\n",
      "[I 2025-02-25 07:35:40,274] Trial 31 finished with value: 0.7439458478809398 and parameters: {'num_iterations': 1841, 'objective': 'binary', 'metric': 'auc', 'verbose': -1, 'learning_rate': 0.0051297038360573, 'n_estimators': 1803, 'min_child_samples': 45, 'subsample': 0.6, 'colsample_bytree': 0.8}. Best is trial 22 with value: 0.7440397196312896.\n",
      "[I 2025-02-25 07:35:53,819] Trial 32 finished with value: 0.7438131527759719 and parameters: {'num_iterations': 1505, 'objective': 'binary', 'metric': 'auc', 'verbose': -1, 'learning_rate': 0.005111147766629888, 'n_estimators': 1827, 'min_child_samples': 45, 'subsample': 0.7, 'colsample_bytree': 0.8}. Best is trial 22 with value: 0.7440397196312896.\n",
      "[I 2025-02-25 07:36:09,386] Trial 33 finished with value: 0.7436728732783151 and parameters: {'num_iterations': 1827, 'objective': 'binary', 'metric': 'auc', 'verbose': -1, 'learning_rate': 0.006964616495294459, 'n_estimators': 1664, 'min_child_samples': 50, 'subsample': 0.5, 'colsample_bytree': 0.9}. Best is trial 22 with value: 0.7440397196312896.\n",
      "[I 2025-02-25 07:36:27,429] Trial 34 finished with value: 0.7440415938895876 and parameters: {'num_iterations': 2065, 'objective': 'binary', 'metric': 'auc', 'verbose': -1, 'learning_rate': 0.006044477849395929, 'n_estimators': 1474, 'min_child_samples': 45, 'subsample': 0.6, 'colsample_bytree': 0.7}. Best is trial 34 with value: 0.7440415938895876.\n",
      "[I 2025-02-25 07:36:46,481] Trial 35 finished with value: 0.7440405733718278 and parameters: {'num_iterations': 2200, 'objective': 'binary', 'metric': 'auc', 'verbose': -1, 'learning_rate': 0.006111978337922881, 'n_estimators': 1456, 'min_child_samples': 50, 'subsample': 0.7, 'colsample_bytree': 0.7}. Best is trial 34 with value: 0.7440415938895876.\n",
      "[I 2025-02-25 07:37:08,273] Trial 36 finished with value: 0.7439699829274129 and parameters: {'num_iterations': 2238, 'objective': 'binary', 'metric': 'auc', 'verbose': -1, 'learning_rate': 0.005907253362256662, 'n_estimators': 1456, 'min_child_samples': 45, 'subsample': 0.7, 'colsample_bytree': 0.6}. Best is trial 34 with value: 0.7440415938895876.\n",
      "[I 2025-02-25 07:37:28,887] Trial 37 finished with value: 0.7440897448559473 and parameters: {'num_iterations': 2398, 'objective': 'binary', 'metric': 'auc', 'verbose': -1, 'learning_rate': 0.006156838351563978, 'n_estimators': 1043, 'min_child_samples': 25, 'subsample': 0.7, 'colsample_bytree': 0.7}. Best is trial 37 with value: 0.7440897448559473.\n",
      "[I 2025-02-25 07:37:51,329] Trial 38 finished with value: 0.7434537438928961 and parameters: {'num_iterations': 2413, 'objective': 'binary', 'metric': 'auc', 'verbose': -1, 'learning_rate': 0.010511410386716716, 'n_estimators': 1066, 'min_child_samples': 20, 'subsample': 0.7, 'colsample_bytree': 0.6}. Best is trial 37 with value: 0.7440897448559473.\n",
      "[I 2025-02-25 07:38:11,262] Trial 39 finished with value: 0.7338873548208258 and parameters: {'num_iterations': 2588, 'objective': 'binary', 'metric': 'auc', 'verbose': -1, 'learning_rate': 0.057814113163689736, 'n_estimators': 941, 'min_child_samples': 25, 'subsample': 0.8, 'colsample_bytree': 0.7}. Best is trial 37 with value: 0.7440897448559473.\n"
     ]
    },
    {
     "name": "stdout",
     "output_type": "stream",
     "text": [
      "Cat val score : 0.7444723516563472\n",
      "LGBM val score : 0.7438726882731376\n",
      "Ensemble val score : 0.7445674345269955\n"
     ]
    },
    {
     "name": "stderr",
     "output_type": "stream",
     "text": [
      "[I 2025-02-25 07:38:33,593] A new study created in memory with name: no-name-c154b9b9-a9fb-40ef-9c35-e73f4a971aaa\n"
     ]
    },
    {
     "name": "stdout",
     "output_type": "stream",
     "text": [
      "==================================================\n",
      "0:\ttest: 0.7205993\tbest: 0.7205993 (0)\ttotal: 140ms\tremaining: 5m 31s\n",
      "300:\ttest: 0.7360926\tbest: 0.7360939 (299)\ttotal: 39.6s\tremaining: 4m 31s\n",
      "600:\ttest: 0.7377538\tbest: 0.7377538 (600)\ttotal: 1m 20s\tremaining: 3m 56s\n",
      "900:\ttest: 0.7383049\tbest: 0.7383068 (897)\ttotal: 2m 1s\tremaining: 3m 18s\n",
      "1200:\ttest: 0.7386073\tbest: 0.7386073 (1200)\ttotal: 2m 46s\tremaining: 2m 41s\n",
      "1500:\ttest: 0.7386789\tbest: 0.7387204 (1367)\ttotal: 3m 36s\tremaining: 2m 4s\n",
      "1800:\ttest: 0.7387475\tbest: 0.7387488 (1779)\ttotal: 4m 25s\tremaining: 1m 23s\n",
      "2100:\ttest: 0.7387873\tbest: 0.7388077 (1906)\ttotal: 5m 15s\tremaining: 39.8s\n"
     ]
    },
    {
     "name": "stderr",
     "output_type": "stream",
     "text": [
      "[I 2025-02-25 07:44:07,750] Trial 0 finished with value: 0.7388077315632626 and parameters: {'iterations': 2366, 'depth': 10, 'learning_rate': 0.01181021951839225, 'l2_leaf_reg': 9.980783802743254}. Best is trial 0 with value: 0.7388077315632626.\n"
     ]
    },
    {
     "name": "stdout",
     "output_type": "stream",
     "text": [
      "Stopped by overfitting detector  (300 iterations wait)\n",
      "\n",
      "bestTest = 0.7388077316\n",
      "bestIteration = 1906\n",
      "\n",
      "Shrink model to first 1907 iterations.\n",
      "저장 완료\n",
      "0:\ttest: 0.6939829\tbest: 0.6939829 (0)\ttotal: 63.1ms\tremaining: 2m 18s\n",
      "300:\ttest: 0.7279715\tbest: 0.7279715 (300)\ttotal: 12.9s\tremaining: 1m 21s\n",
      "600:\ttest: 0.7319899\tbest: 0.7319899 (600)\ttotal: 25.8s\tremaining: 1m 8s\n",
      "900:\ttest: 0.7339802\tbest: 0.7339802 (900)\ttotal: 39.2s\tremaining: 56.2s\n",
      "1200:\ttest: 0.7352265\tbest: 0.7352265 (1200)\ttotal: 52.7s\tremaining: 43.5s\n",
      "1500:\ttest: 0.7360109\tbest: 0.7360161 (1499)\ttotal: 1m 6s\tremaining: 30.6s\n",
      "1800:\ttest: 0.7365885\tbest: 0.7365885 (1800)\ttotal: 1m 20s\tremaining: 17.5s\n",
      "2100:\ttest: 0.7369910\tbest: 0.7369910 (2100)\ttotal: 1m 34s\tremaining: 4.13s\n"
     ]
    },
    {
     "name": "stderr",
     "output_type": "stream",
     "text": [
      "[I 2025-02-25 07:45:46,697] Trial 1 finished with value: 0.7370897792597055 and parameters: {'iterations': 2193, 'depth': 4, 'learning_rate': 0.005671430811678843, 'l2_leaf_reg': 0.00012325230809466137}. Best is trial 0 with value: 0.7388077315632626.\n"
     ]
    },
    {
     "name": "stdout",
     "output_type": "stream",
     "text": [
      "2192:\ttest: 0.7370897\tbest: 0.7370898 (2191)\ttotal: 1m 38s\tremaining: 0us\n",
      "\n",
      "bestTest = 0.7370897793\n",
      "bestIteration = 2191\n",
      "\n",
      "Shrink model to first 2192 iterations.\n",
      "0:\ttest: 0.6939829\tbest: 0.6939829 (0)\ttotal: 53.7ms\tremaining: 2m 15s\n",
      "300:\ttest: 0.7377564\tbest: 0.7378260 (244)\ttotal: 14.2s\tremaining: 1m 45s\n",
      "600:\ttest: 0.7374552\tbest: 0.7379345 (354)\ttotal: 28.9s\tremaining: 1m 32s\n"
     ]
    },
    {
     "name": "stderr",
     "output_type": "stream",
     "text": [
      "[I 2025-02-25 07:46:18,427] Trial 2 finished with value: 0.7379345019153808 and parameters: {'iterations': 2535, 'depth': 4, 'learning_rate': 0.09275339199839054, 'l2_leaf_reg': 0.0008705394248343123}. Best is trial 0 with value: 0.7388077315632626.\n"
     ]
    },
    {
     "name": "stdout",
     "output_type": "stream",
     "text": [
      "Stopped by overfitting detector  (300 iterations wait)\n",
      "\n",
      "bestTest = 0.7379345019\n",
      "bestIteration = 354\n",
      "\n",
      "Shrink model to first 355 iterations.\n",
      "0:\ttest: 0.6939829\tbest: 0.6939829 (0)\ttotal: 53.2ms\tremaining: 2m 4s\n",
      "300:\ttest: 0.7377538\tbest: 0.7377561 (299)\ttotal: 13.8s\tremaining: 1m 32s\n",
      "600:\ttest: 0.7384616\tbest: 0.7384797 (508)\ttotal: 28.4s\tremaining: 1m 21s\n",
      "900:\ttest: 0.7385223\tbest: 0.7385735 (660)\ttotal: 43.1s\tremaining: 1m 8s\n"
     ]
    },
    {
     "name": "stderr",
     "output_type": "stream",
     "text": [
      "[I 2025-02-25 07:47:04,734] Trial 3 finished with value: 0.7385734651595555 and parameters: {'iterations': 2334, 'depth': 4, 'learning_rate': 0.04657568321363276, 'l2_leaf_reg': 0.0008640473331457248}. Best is trial 0 with value: 0.7388077315632626.\n"
     ]
    },
    {
     "name": "stdout",
     "output_type": "stream",
     "text": [
      "Stopped by overfitting detector  (300 iterations wait)\n",
      "\n",
      "bestTest = 0.7385734652\n",
      "bestIteration = 660\n",
      "\n",
      "Shrink model to first 661 iterations.\n",
      "0:\ttest: 0.7206156\tbest: 0.7206156 (0)\ttotal: 130ms\tremaining: 3m 46s\n",
      "300:\ttest: 0.7354307\tbest: 0.7354307 (300)\ttotal: 37.2s\tremaining: 2m 57s\n",
      "600:\ttest: 0.7360799\tbest: 0.7362293 (533)\ttotal: 1m 16s\tremaining: 2m 25s\n"
     ]
    },
    {
     "name": "stderr",
     "output_type": "stream",
     "text": [
      "[I 2025-02-25 07:48:52,517] Trial 4 finished with value: 0.7362293040983772 and parameters: {'iterations': 1742, 'depth': 10, 'learning_rate': 0.012622767482095846, 'l2_leaf_reg': 0.00021158816350109617}. Best is trial 0 with value: 0.7388077315632626.\n"
     ]
    },
    {
     "name": "stdout",
     "output_type": "stream",
     "text": [
      "Stopped by overfitting detector  (300 iterations wait)\n",
      "\n",
      "bestTest = 0.7362293041\n",
      "bestIteration = 533\n",
      "\n",
      "Shrink model to first 534 iterations.\n",
      "0:\ttest: 0.6939829\tbest: 0.6939829 (0)\ttotal: 54.6ms\tremaining: 1m 53s\n",
      "300:\ttest: 0.7382897\tbest: 0.7383124 (298)\ttotal: 14.3s\tremaining: 1m 24s\n",
      "600:\ttest: 0.7381476\tbest: 0.7386260 (447)\ttotal: 28.9s\tremaining: 1m 11s\n"
     ]
    },
    {
     "name": "stderr",
     "output_type": "stream",
     "text": [
      "[I 2025-02-25 07:49:28,819] Trial 5 finished with value: 0.738625980129876 and parameters: {'iterations': 2082, 'depth': 4, 'learning_rate': 0.06995196593094148, 'l2_leaf_reg': 0.0018080296485396804}. Best is trial 0 with value: 0.7388077315632626.\n"
     ]
    },
    {
     "name": "stdout",
     "output_type": "stream",
     "text": [
      "Stopped by overfitting detector  (300 iterations wait)\n",
      "\n",
      "bestTest = 0.7386259801\n",
      "bestIteration = 447\n",
      "\n",
      "Shrink model to first 448 iterations.\n",
      "0:\ttest: 0.6981220\tbest: 0.6981220 (0)\ttotal: 63.8ms\tremaining: 2m 7s\n",
      "300:\ttest: 0.7384433\tbest: 0.7384558 (288)\ttotal: 17.5s\tremaining: 1m 38s\n",
      "600:\ttest: 0.7388098\tbest: 0.7388098 (600)\ttotal: 35.3s\tremaining: 1m 21s\n",
      "900:\ttest: 0.7388325\tbest: 0.7389027 (705)\ttotal: 53.3s\tremaining: 1m 4s\n"
     ]
    },
    {
     "name": "stderr",
     "output_type": "stream",
     "text": [
      "[I 2025-02-25 07:50:28,726] Trial 6 finished with value: 0.7389027151617553 and parameters: {'iterations': 1997, 'depth': 5, 'learning_rate': 0.07985155992831598, 'l2_leaf_reg': 62.52181000710482}. Best is trial 6 with value: 0.7389027151617553.\n"
     ]
    },
    {
     "name": "stdout",
     "output_type": "stream",
     "text": [
      "Stopped by overfitting detector  (300 iterations wait)\n",
      "\n",
      "bestTest = 0.7389027152\n",
      "bestIteration = 705\n",
      "\n",
      "Shrink model to first 706 iterations.\n",
      "저장 완료\n",
      "0:\ttest: 0.7143320\tbest: 0.7143320 (0)\ttotal: 85.5ms\tremaining: 2m 44s\n",
      "300:\ttest: 0.7377079\tbest: 0.7381495 (228)\ttotal: 24.2s\tremaining: 2m 10s\n"
     ]
    },
    {
     "name": "stderr",
     "output_type": "stream",
     "text": [
      "[I 2025-02-25 07:51:12,286] Trial 7 finished with value: 0.7381494539284914 and parameters: {'iterations': 1927, 'depth': 7, 'learning_rate': 0.0941937211034094, 'l2_leaf_reg': 0.05654822767791934}. Best is trial 6 with value: 0.7389027151617553.\n"
     ]
    },
    {
     "name": "stdout",
     "output_type": "stream",
     "text": [
      "Stopped by overfitting detector  (300 iterations wait)\n",
      "\n",
      "bestTest = 0.7381494539\n",
      "bestIteration = 228\n",
      "\n",
      "Shrink model to first 229 iterations.\n",
      "0:\ttest: 0.7143350\tbest: 0.7143350 (0)\ttotal: 84.1ms\tremaining: 2m 40s\n",
      "300:\ttest: 0.7385077\tbest: 0.7385077 (300)\ttotal: 23.1s\tremaining: 2m 3s\n",
      "600:\ttest: 0.7386864\tbest: 0.7388586 (392)\ttotal: 48.3s\tremaining: 1m 44s\n"
     ]
    },
    {
     "name": "stderr",
     "output_type": "stream",
     "text": [
      "[I 2025-02-25 07:52:08,562] Trial 8 finished with value: 0.7388585668487101 and parameters: {'iterations': 1904, 'depth': 7, 'learning_rate': 0.05155602859187331, 'l2_leaf_reg': 1.299974533316308}. Best is trial 6 with value: 0.7389027151617553.\n"
     ]
    },
    {
     "name": "stdout",
     "output_type": "stream",
     "text": [
      "Stopped by overfitting detector  (300 iterations wait)\n",
      "\n",
      "bestTest = 0.7388585668\n",
      "bestIteration = 392\n",
      "\n",
      "Shrink model to first 393 iterations.\n",
      "0:\ttest: 0.7128043\tbest: 0.7128043 (0)\ttotal: 73.9ms\tremaining: 3m 14s\n",
      "300:\ttest: 0.7381814\tbest: 0.7381814 (300)\ttotal: 19.7s\tremaining: 2m 33s\n",
      "600:\ttest: 0.7388599\tbest: 0.7388958 (585)\ttotal: 41.2s\tremaining: 2m 19s\n",
      "900:\ttest: 0.7386945\tbest: 0.7389146 (817)\ttotal: 1m 3s\tremaining: 2m 1s\n"
     ]
    },
    {
     "name": "stderr",
     "output_type": "stream",
     "text": [
      "[I 2025-02-25 07:53:27,711] Trial 9 finished with value: 0.7389145920824531 and parameters: {'iterations': 2639, 'depth': 6, 'learning_rate': 0.03968704290444751, 'l2_leaf_reg': 0.30557194377967184}. Best is trial 9 with value: 0.7389145920824531.\n"
     ]
    },
    {
     "name": "stdout",
     "output_type": "stream",
     "text": [
      "Stopped by overfitting detector  (300 iterations wait)\n",
      "\n",
      "bestTest = 0.7389145921\n",
      "bestIteration = 817\n",
      "\n",
      "Shrink model to first 818 iterations.\n",
      "저장 완료\n",
      "0:\ttest: 0.7128045\tbest: 0.7128045 (0)\ttotal: 74.9ms\tremaining: 3m 40s\n",
      "300:\ttest: 0.7374932\tbest: 0.7374932 (300)\ttotal: 19.3s\tremaining: 2m 49s\n",
      "600:\ttest: 0.7385837\tbest: 0.7386114 (532)\ttotal: 40.5s\tremaining: 2m 37s\n",
      "900:\ttest: 0.7387384\tbest: 0.7387738 (850)\ttotal: 1m 1s\tremaining: 2m 20s\n",
      "1200:\ttest: 0.7387747\tbest: 0.7388393 (1036)\ttotal: 1m 23s\tremaining: 2m 1s\n"
     ]
    },
    {
     "name": "stderr",
     "output_type": "stream",
     "text": [
      "[I 2025-02-25 07:55:01,594] Trial 10 finished with value: 0.7388393358467242 and parameters: {'iterations': 2945, 'depth': 6, 'learning_rate': 0.032580115422505045, 'l2_leaf_reg': 0.05588195113566891}. Best is trial 9 with value: 0.7389145920824531.\n"
     ]
    },
    {
     "name": "stdout",
     "output_type": "stream",
     "text": [
      "Stopped by overfitting detector  (300 iterations wait)\n",
      "\n",
      "bestTest = 0.7388393358\n",
      "bestIteration = 1036\n",
      "\n",
      "Shrink model to first 1037 iterations.\n",
      "0:\ttest: 0.7133523\tbest: 0.7133523 (0)\ttotal: 77.5ms\tremaining: 3m 32s\n",
      "300:\ttest: 0.7381958\tbest: 0.7381958 (300)\ttotal: 20s\tremaining: 2m 42s\n",
      "600:\ttest: 0.7385390\tbest: 0.7385551 (583)\ttotal: 41.2s\tremaining: 2m 26s\n",
      "900:\ttest: 0.7386410\tbest: 0.7387234 (756)\ttotal: 1m 2s\tremaining: 2m 6s\n",
      "1200:\ttest: 0.7388075\tbest: 0.7388215 (1161)\ttotal: 1m 23s\tremaining: 1m 47s\n",
      "1500:\ttest: 0.7389623\tbest: 0.7389623 (1499)\ttotal: 1m 44s\tremaining: 1m 26s\n",
      "1800:\ttest: 0.7391230\tbest: 0.7391718 (1763)\ttotal: 2m 6s\tremaining: 1m 5s\n"
     ]
    },
    {
     "name": "stderr",
     "output_type": "stream",
     "text": [
      "[I 2025-02-25 07:57:27,120] Trial 11 finished with value: 0.7391718260920834 and parameters: {'iterations': 2742, 'depth': 6, 'learning_rate': 0.06823895055506055, 'l2_leaf_reg': 73.1213351392818}. Best is trial 11 with value: 0.7391718260920834.\n"
     ]
    },
    {
     "name": "stdout",
     "output_type": "stream",
     "text": [
      "Stopped by overfitting detector  (300 iterations wait)\n",
      "\n",
      "bestTest = 0.7391718261\n",
      "bestIteration = 1763\n",
      "\n",
      "Shrink model to first 1764 iterations.\n",
      "저장 완료\n",
      "0:\ttest: 0.7128043\tbest: 0.7128043 (0)\ttotal: 78.3ms\tremaining: 3m 40s\n",
      "300:\ttest: 0.7386975\tbest: 0.7386975 (300)\ttotal: 20.5s\tremaining: 2m 51s\n",
      "600:\ttest: 0.7386635\tbest: 0.7388280 (519)\ttotal: 42.4s\tremaining: 2m 36s\n"
     ]
    },
    {
     "name": "stderr",
     "output_type": "stream",
     "text": [
      "[I 2025-02-25 07:58:26,010] Trial 12 finished with value: 0.7388279870538943 and parameters: {'iterations': 2821, 'depth': 6, 'learning_rate': 0.06619969478088256, 'l2_leaf_reg': 0.5931813450769418}. Best is trial 11 with value: 0.7391718260920834.\n"
     ]
    },
    {
     "name": "stdout",
     "output_type": "stream",
     "text": [
      "Stopped by overfitting detector  (300 iterations wait)\n",
      "\n",
      "bestTest = 0.7388279871\n",
      "bestIteration = 519\n",
      "\n",
      "Shrink model to first 520 iterations.\n",
      "0:\ttest: 0.7174552\tbest: 0.7174552 (0)\ttotal: 95.7ms\tremaining: 4m 16s\n",
      "300:\ttest: 0.7379585\tbest: 0.7379585 (300)\ttotal: 24.9s\tremaining: 3m 17s\n",
      "600:\ttest: 0.7386716\tbest: 0.7386940 (517)\ttotal: 52.3s\tremaining: 3m 1s\n",
      "900:\ttest: 0.7388529\tbest: 0.7388551 (899)\ttotal: 1m 20s\tremaining: 2m 40s\n",
      "1200:\ttest: 0.7389352\tbest: 0.7389983 (1058)\ttotal: 1m 48s\tremaining: 2m 14s\n",
      "1500:\ttest: 0.7390712\tbest: 0.7390717 (1498)\ttotal: 2m 17s\tremaining: 1m 48s\n",
      "1800:\ttest: 0.7390775\tbest: 0.7391112 (1733)\ttotal: 2m 45s\tremaining: 1m 21s\n",
      "2100:\ttest: 0.7390290\tbest: 0.7391324 (1854)\ttotal: 3m 14s\tremaining: 54s\n"
     ]
    },
    {
     "name": "stderr",
     "output_type": "stream",
     "text": [
      "[I 2025-02-25 08:01:45,788] Trial 13 finished with value: 0.7391323673956696 and parameters: {'iterations': 2686, 'depth': 8, 'learning_rate': 0.033878358042689044, 'l2_leaf_reg': 55.074044317639256}. Best is trial 11 with value: 0.7391718260920834.\n"
     ]
    },
    {
     "name": "stdout",
     "output_type": "stream",
     "text": [
      "Stopped by overfitting detector  (300 iterations wait)\n",
      "\n",
      "bestTest = 0.7391323674\n",
      "bestIteration = 1854\n",
      "\n",
      "Shrink model to first 1855 iterations.\n",
      "0:\ttest: 0.7193456\tbest: 0.7193456 (0)\ttotal: 119ms\tremaining: 5m 22s\n",
      "300:\ttest: 0.7377288\tbest: 0.7377288 (299)\ttotal: 27.5s\tremaining: 3m 39s\n",
      "600:\ttest: 0.7385880\tbest: 0.7386095 (596)\ttotal: 56.3s\tremaining: 3m 16s\n",
      "900:\ttest: 0.7387397\tbest: 0.7387458 (890)\ttotal: 1m 28s\tremaining: 2m 57s\n",
      "1200:\ttest: 0.7388989\tbest: 0.7388999 (1197)\ttotal: 2m 1s\tremaining: 2m 31s\n",
      "1500:\ttest: 0.7389874\tbest: 0.7390073 (1484)\ttotal: 2m 34s\tremaining: 2m 3s\n"
     ]
    },
    {
     "name": "stderr",
     "output_type": "stream",
     "text": [
      "[I 2025-02-25 08:04:51,149] Trial 14 finished with value: 0.739007280508708 and parameters: {'iterations': 2702, 'depth': 9, 'learning_rate': 0.029128395358770272, 'l2_leaf_reg': 92.74223128282539}. Best is trial 11 with value: 0.7391718260920834.\n"
     ]
    },
    {
     "name": "stdout",
     "output_type": "stream",
     "text": [
      "Stopped by overfitting detector  (300 iterations wait)\n",
      "\n",
      "bestTest = 0.7390072805\n",
      "bestIteration = 1484\n",
      "\n",
      "Shrink model to first 1485 iterations.\n",
      "0:\ttest: 0.7164428\tbest: 0.7164428 (0)\ttotal: 101ms\tremaining: 5m 1s\n",
      "300:\ttest: 0.7388375\tbest: 0.7388747 (298)\ttotal: 26.7s\tremaining: 3m 59s\n",
      "600:\ttest: 0.7388425\tbest: 0.7389520 (372)\ttotal: 55.6s\tremaining: 3m 41s\n"
     ]
    },
    {
     "name": "stderr",
     "output_type": "stream",
     "text": [
      "[I 2025-02-25 08:05:53,915] Trial 15 finished with value: 0.7389519740053716 and parameters: {'iterations': 3000, 'depth': 8, 'learning_rate': 0.06602928257775251, 'l2_leaf_reg': 8.66034203066278}. Best is trial 11 with value: 0.7391718260920834.\n"
     ]
    },
    {
     "name": "stdout",
     "output_type": "stream",
     "text": [
      "Stopped by overfitting detector  (300 iterations wait)\n",
      "\n",
      "bestTest = 0.738951974\n",
      "bestIteration = 372\n",
      "\n",
      "Shrink model to first 373 iterations.\n",
      "0:\ttest: 0.7164323\tbest: 0.7164323 (0)\ttotal: 96ms\tremaining: 3m 58s\n",
      "300:\ttest: 0.7374966\tbest: 0.7374967 (299)\ttotal: 25.2s\tremaining: 3m 2s\n",
      "600:\ttest: 0.7385983\tbest: 0.7385983 (600)\ttotal: 52.3s\tremaining: 2m 43s\n",
      "900:\ttest: 0.7387754\tbest: 0.7388120 (768)\ttotal: 1m 20s\tremaining: 2m 21s\n",
      "1200:\ttest: 0.7388486\tbest: 0.7388682 (1082)\ttotal: 1m 49s\tremaining: 1m 56s\n",
      "1500:\ttest: 0.7388433\tbest: 0.7388826 (1314)\ttotal: 2m 18s\tremaining: 1m 30s\n"
     ]
    },
    {
     "name": "stderr",
     "output_type": "stream",
     "text": [
      "[I 2025-02-25 08:08:24,026] Trial 16 finished with value: 0.7388826224774587 and parameters: {'iterations': 2482, 'depth': 8, 'learning_rate': 0.027198320505425724, 'l2_leaf_reg': 11.643346569488575}. Best is trial 11 with value: 0.7391718260920834.\n"
     ]
    },
    {
     "name": "stdout",
     "output_type": "stream",
     "text": [
      "Stopped by overfitting detector  (300 iterations wait)\n",
      "\n",
      "bestTest = 0.7388826225\n",
      "bestIteration = 1314\n",
      "\n",
      "Shrink model to first 1315 iterations.\n",
      "0:\ttest: 0.7164543\tbest: 0.7164543 (0)\ttotal: 98.7ms\tremaining: 4m 34s\n",
      "300:\ttest: 0.7382505\tbest: 0.7382656 (292)\ttotal: 26.2s\tremaining: 3m 36s\n",
      "600:\ttest: 0.7381588\tbest: 0.7384807 (361)\ttotal: 54.9s\tremaining: 3m 19s\n"
     ]
    },
    {
     "name": "stderr",
     "output_type": "stream",
     "text": [
      "[I 2025-02-25 08:09:25,106] Trial 17 finished with value: 0.7384807330535521 and parameters: {'iterations': 2782, 'depth': 8, 'learning_rate': 0.05742508707118142, 'l2_leaf_reg': 2.8352347119950223}. Best is trial 11 with value: 0.7391718260920834.\n"
     ]
    },
    {
     "name": "stdout",
     "output_type": "stream",
     "text": [
      "Stopped by overfitting detector  (300 iterations wait)\n",
      "\n",
      "bestTest = 0.7384807331\n",
      "bestIteration = 361\n",
      "\n",
      "Shrink model to first 362 iterations.\n",
      "0:\ttest: 0.7143130\tbest: 0.7143130 (0)\ttotal: 81.5ms\tremaining: 2m 9s\n",
      "300:\ttest: 0.7377805\tbest: 0.7381263 (170)\ttotal: 23.7s\tremaining: 1m 41s\n"
     ]
    },
    {
     "name": "stderr",
     "output_type": "stream",
     "text": [
      "[I 2025-02-25 08:10:03,192] Trial 18 finished with value: 0.7381263274871193 and parameters: {'iterations': 1585, 'depth': 7, 'learning_rate': 0.07848342533859005, 'l2_leaf_reg': 0.010016909578442512}. Best is trial 11 with value: 0.7391718260920834.\n"
     ]
    },
    {
     "name": "stdout",
     "output_type": "stream",
     "text": [
      "Stopped by overfitting detector  (300 iterations wait)\n",
      "\n",
      "bestTest = 0.7381263275\n",
      "bestIteration = 170\n",
      "\n",
      "Shrink model to first 171 iterations.\n",
      "0:\ttest: 0.7178186\tbest: 0.7178186 (0)\ttotal: 113ms\tremaining: 4m 52s\n",
      "300:\ttest: 0.7375767\tbest: 0.7375972 (297)\ttotal: 30.4s\tremaining: 3m 50s\n",
      "600:\ttest: 0.7383306\tbest: 0.7383423 (598)\ttotal: 57.9s\tremaining: 3m 11s\n",
      "900:\ttest: 0.7386183\tbest: 0.7386254 (879)\ttotal: 1m 31s\tremaining: 2m 51s\n",
      "1200:\ttest: 0.7387877\tbest: 0.7387877 (1200)\ttotal: 2m 4s\tremaining: 2m 23s\n",
      "1500:\ttest: 0.7388300\tbest: 0.7388642 (1330)\ttotal: 2m 37s\tremaining: 1m 54s\n"
     ]
    },
    {
     "name": "stderr",
     "output_type": "stream",
     "text": [
      "[I 2025-02-25 08:12:55,203] Trial 19 finished with value: 0.7388641816818318 and parameters: {'iterations': 2590, 'depth': 9, 'learning_rate': 0.021852505525409197, 'l2_leaf_reg': 29.625587138556135}. Best is trial 11 with value: 0.7391718260920834.\n"
     ]
    },
    {
     "name": "stdout",
     "output_type": "stream",
     "text": [
      "Stopped by overfitting detector  (300 iterations wait)\n",
      "\n",
      "bestTest = 0.7388641817\n",
      "bestIteration = 1330\n",
      "\n",
      "Shrink model to first 1331 iterations.\n",
      "0:\ttest: 0.6985925\tbest: 0.6985925 (0)\ttotal: 67.2ms\tremaining: 3m 7s\n",
      "300:\ttest: 0.7375550\tbest: 0.7375550 (300)\ttotal: 16.6s\tremaining: 2m 18s\n",
      "600:\ttest: 0.7384926\tbest: 0.7385025 (594)\ttotal: 34.7s\tremaining: 2m 7s\n",
      "900:\ttest: 0.7386948\tbest: 0.7387320 (812)\ttotal: 52.9s\tremaining: 1m 51s\n",
      "1200:\ttest: 0.7388569\tbest: 0.7388828 (1188)\ttotal: 1m 11s\tremaining: 1m 34s\n",
      "1500:\ttest: 0.7388502\tbest: 0.7388867 (1233)\ttotal: 1m 29s\tremaining: 1m 17s\n"
     ]
    },
    {
     "name": "stderr",
     "output_type": "stream",
     "text": [
      "[I 2025-02-25 08:14:27,067] Trial 20 finished with value: 0.738886728373815 and parameters: {'iterations': 2799, 'depth': 5, 'learning_rate': 0.04121053603900637, 'l2_leaf_reg': 3.1296986228428847}. Best is trial 11 with value: 0.7391718260920834.\n"
     ]
    },
    {
     "name": "stdout",
     "output_type": "stream",
     "text": [
      "Stopped by overfitting detector  (300 iterations wait)\n",
      "\n",
      "bestTest = 0.7388867284\n",
      "bestIteration = 1233\n",
      "\n",
      "Shrink model to first 1234 iterations.\n",
      "0:\ttest: 0.7193659\tbest: 0.7193659 (0)\ttotal: 120ms\tremaining: 5m 19s\n",
      "300:\ttest: 0.7379561\tbest: 0.7379561 (300)\ttotal: 27.9s\tremaining: 3m 39s\n",
      "600:\ttest: 0.7385505\tbest: 0.7385628 (594)\ttotal: 58.1s\tremaining: 3m 18s\n",
      "900:\ttest: 0.7386992\tbest: 0.7387060 (846)\ttotal: 1m 30s\tremaining: 2m 56s\n",
      "1200:\ttest: 0.7387024\tbest: 0.7387705 (1132)\ttotal: 2m 3s\tremaining: 2m 29s\n"
     ]
    },
    {
     "name": "stderr",
     "output_type": "stream",
     "text": [
      "[I 2025-02-25 08:16:56,329] Trial 21 finished with value: 0.7387704846504758 and parameters: {'iterations': 2660, 'depth': 9, 'learning_rate': 0.032610597727027534, 'l2_leaf_reg': 89.33159431521219}. Best is trial 11 with value: 0.7391718260920834.\n"
     ]
    },
    {
     "name": "stdout",
     "output_type": "stream",
     "text": [
      "Stopped by overfitting detector  (300 iterations wait)\n",
      "\n",
      "bestTest = 0.7387704847\n",
      "bestIteration = 1132\n",
      "\n",
      "Shrink model to first 1133 iterations.\n",
      "0:\ttest: 0.7178919\tbest: 0.7178919 (0)\ttotal: 122ms\tremaining: 4m 56s\n",
      "300:\ttest: 0.7370848\tbest: 0.7370854 (299)\ttotal: 28.1s\tremaining: 3m 19s\n",
      "600:\ttest: 0.7379964\tbest: 0.7379964 (600)\ttotal: 55.4s\tremaining: 2m 48s\n",
      "900:\ttest: 0.7383984\tbest: 0.7384065 (890)\ttotal: 1m 28s\tremaining: 2m 30s\n",
      "1200:\ttest: 0.7384696\tbest: 0.7384995 (1123)\ttotal: 2m 1s\tremaining: 2m 4s\n",
      "1500:\ttest: 0.7385935\tbest: 0.7386570 (1413)\ttotal: 2m 33s\tremaining: 1m 35s\n"
     ]
    },
    {
     "name": "stderr",
     "output_type": "stream",
     "text": [
      "[I 2025-02-25 08:19:53,745] Trial 22 finished with value: 0.7386570443728111 and parameters: {'iterations': 2434, 'depth': 9, 'learning_rate': 0.02200244952495766, 'l2_leaf_reg': 24.57357890684698}. Best is trial 11 with value: 0.7391718260920834.\n"
     ]
    },
    {
     "name": "stdout",
     "output_type": "stream",
     "text": [
      "Stopped by overfitting detector  (300 iterations wait)\n",
      "\n",
      "bestTest = 0.7386570444\n",
      "bestIteration = 1413\n",
      "\n",
      "Shrink model to first 1414 iterations.\n",
      "0:\ttest: 0.7174245\tbest: 0.7174245 (0)\ttotal: 99.5ms\tremaining: 4m 32s\n",
      "300:\ttest: 0.7386414\tbest: 0.7386642 (294)\ttotal: 25.6s\tremaining: 3m 26s\n",
      "600:\ttest: 0.7388639\tbest: 0.7389261 (572)\ttotal: 53.8s\tremaining: 3m 11s\n",
      "900:\ttest: 0.7389810\tbest: 0.7390447 (845)\ttotal: 1m 22s\tremaining: 2m 47s\n",
      "1200:\ttest: 0.7390351\tbest: 0.7390583 (1070)\ttotal: 1m 50s\tremaining: 2m 20s\n",
      "1500:\ttest: 0.7390191\tbest: 0.7390654 (1363)\ttotal: 2m 18s\tremaining: 1m 54s\n",
      "1800:\ttest: 0.7390468\tbest: 0.7391250 (1589)\ttotal: 2m 46s\tremaining: 1m 26s\n"
     ]
    },
    {
     "name": "stderr",
     "output_type": "stream",
     "text": [
      "[I 2025-02-25 08:22:49,543] Trial 23 finished with value: 0.7391250411105851 and parameters: {'iterations': 2737, 'depth': 8, 'learning_rate': 0.057166259058392, 'l2_leaf_reg': 86.56655279433653}. Best is trial 11 with value: 0.7391718260920834.\n"
     ]
    },
    {
     "name": "stdout",
     "output_type": "stream",
     "text": [
      "Stopped by overfitting detector  (300 iterations wait)\n",
      "\n",
      "bestTest = 0.7391250411\n",
      "bestIteration = 1589\n",
      "\n",
      "Shrink model to first 1590 iterations.\n",
      "0:\ttest: 0.7143393\tbest: 0.7143393 (0)\ttotal: 87.4ms\tremaining: 4m 15s\n",
      "300:\ttest: 0.7384820\tbest: 0.7384820 (300)\ttotal: 23.1s\tremaining: 3m 21s\n",
      "600:\ttest: 0.7387320\tbest: 0.7389361 (455)\ttotal: 47.8s\tremaining: 3m 4s\n"
     ]
    },
    {
     "name": "stderr",
     "output_type": "stream",
     "text": [
      "[I 2025-02-25 08:23:50,493] Trial 24 finished with value: 0.7389361142857905 and parameters: {'iterations': 2925, 'depth': 7, 'learning_rate': 0.05728737360431076, 'l2_leaf_reg': 24.16662696973255}. Best is trial 11 with value: 0.7391718260920834.\n"
     ]
    },
    {
     "name": "stdout",
     "output_type": "stream",
     "text": [
      "Stopped by overfitting detector  (300 iterations wait)\n",
      "\n",
      "bestTest = 0.7389361143\n",
      "bestIteration = 455\n",
      "\n",
      "Shrink model to first 456 iterations.\n",
      "0:\ttest: 0.7164519\tbest: 0.7164519 (0)\ttotal: 97.7ms\tremaining: 3m 36s\n",
      "300:\ttest: 0.7383728\tbest: 0.7384516 (226)\ttotal: 27.2s\tremaining: 2m 53s\n",
      "600:\ttest: 0.7381081\tbest: 0.7385010 (384)\ttotal: 55.9s\tremaining: 2m 30s\n"
     ]
    },
    {
     "name": "stderr",
     "output_type": "stream",
     "text": [
      "[I 2025-02-25 08:24:54,902] Trial 25 finished with value: 0.7385009607479802 and parameters: {'iterations': 2221, 'depth': 8, 'learning_rate': 0.07803133569061724, 'l2_leaf_reg': 4.260486737728516}. Best is trial 11 with value: 0.7391718260920834.\n"
     ]
    },
    {
     "name": "stdout",
     "output_type": "stream",
     "text": [
      "Stopped by overfitting detector  (300 iterations wait)\n",
      "\n",
      "bestTest = 0.7385009607\n",
      "bestIteration = 384\n",
      "\n",
      "Shrink model to first 385 iterations.\n",
      "0:\ttest: 0.7128211\tbest: 0.7128211 (0)\ttotal: 75.5ms\tremaining: 3m 36s\n",
      "300:\ttest: 0.7386066\tbest: 0.7386066 (300)\ttotal: 20.1s\tremaining: 2m 51s\n",
      "600:\ttest: 0.7389544\tbest: 0.7389561 (597)\ttotal: 41.5s\tremaining: 2m 36s\n",
      "900:\ttest: 0.7389617\tbest: 0.7390018 (874)\ttotal: 1m 2s\tremaining: 2m 16s\n",
      "1200:\ttest: 0.7390727\tbest: 0.7390959 (1150)\ttotal: 1m 24s\tremaining: 1m 56s\n",
      "1500:\ttest: 0.7390871\tbest: 0.7391202 (1461)\ttotal: 1m 46s\tremaining: 1m 36s\n"
     ]
    },
    {
     "name": "stderr",
     "output_type": "stream",
     "text": [
      "[I 2025-02-25 08:27:00,268] Trial 26 finished with value: 0.7391202125129359 and parameters: {'iterations': 2863, 'depth': 6, 'learning_rate': 0.05859188815676132, 'l2_leaf_reg': 31.995217576802414}. Best is trial 11 with value: 0.7391718260920834.\n"
     ]
    },
    {
     "name": "stdout",
     "output_type": "stream",
     "text": [
      "Stopped by overfitting detector  (300 iterations wait)\n",
      "\n",
      "bestTest = 0.7391202125\n",
      "bestIteration = 1461\n",
      "\n",
      "Shrink model to first 1462 iterations.\n",
      "0:\ttest: 0.6985935\tbest: 0.6985935 (0)\ttotal: 66.5ms\tremaining: 3m\n",
      "300:\ttest: 0.7381613\tbest: 0.7381812 (296)\ttotal: 16.9s\tremaining: 2m 15s\n",
      "600:\ttest: 0.7386966\tbest: 0.7388155 (510)\ttotal: 35.1s\tremaining: 2m 3s\n",
      "900:\ttest: 0.7387796\tbest: 0.7388450 (759)\ttotal: 53.4s\tremaining: 1m 47s\n"
     ]
    },
    {
     "name": "stderr",
     "output_type": "stream",
     "text": [
      "[I 2025-02-25 08:28:03,589] Trial 27 finished with value: 0.738845006272253 and parameters: {'iterations': 2716, 'depth': 5, 'learning_rate': 0.04725316522950117, 'l2_leaf_reg': 0.148810713372448}. Best is trial 11 with value: 0.7391718260920834.\n"
     ]
    },
    {
     "name": "stdout",
     "output_type": "stream",
     "text": [
      "Stopped by overfitting detector  (300 iterations wait)\n",
      "\n",
      "bestTest = 0.7388450063\n",
      "bestIteration = 759\n",
      "\n",
      "Shrink model to first 760 iterations.\n",
      "0:\ttest: 0.7164565\tbest: 0.7164565 (0)\ttotal: 97.2ms\tremaining: 4m 9s\n",
      "300:\ttest: 0.7373345\tbest: 0.7377741 (168)\ttotal: 27.3s\tremaining: 3m 25s\n"
     ]
    },
    {
     "name": "stderr",
     "output_type": "stream",
     "text": [
      "[I 2025-02-25 08:28:47,190] Trial 28 finished with value: 0.737774086053679 and parameters: {'iterations': 2565, 'depth': 8, 'learning_rate': 0.08621081976046277, 'l2_leaf_reg': 1.2311578855160445}. Best is trial 11 with value: 0.7391718260920834.\n"
     ]
    },
    {
     "name": "stdout",
     "output_type": "stream",
     "text": [
      "Stopped by overfitting detector  (300 iterations wait)\n",
      "\n",
      "bestTest = 0.7377740861\n",
      "bestIteration = 168\n",
      "\n",
      "Shrink model to first 169 iterations.\n",
      "0:\ttest: 0.7206020\tbest: 0.7206020 (0)\ttotal: 131ms\tremaining: 5m 21s\n",
      "300:\ttest: 0.7379080\tbest: 0.7380301 (255)\ttotal: 42.9s\tremaining: 5m 7s\n"
     ]
    },
    {
     "name": "stderr",
     "output_type": "stream",
     "text": [
      "[I 2025-02-25 08:30:11,284] Trial 29 finished with value: 0.7380301168847831 and parameters: {'iterations': 2459, 'depth': 10, 'learning_rate': 0.071910800877116, 'l2_leaf_reg': 8.476139446916601}. Best is trial 11 with value: 0.7391718260920834.\n"
     ]
    },
    {
     "name": "stdout",
     "output_type": "stream",
     "text": [
      "Stopped by overfitting detector  (300 iterations wait)\n",
      "\n",
      "bestTest = 0.7380301169\n",
      "bestIteration = 255\n",
      "\n",
      "Shrink model to first 256 iterations.\n",
      "0:\ttest: 0.7143514\tbest: 0.7143514 (0)\ttotal: 83.9ms\tremaining: 3m 17s\n",
      "300:\ttest: 0.7380396\tbest: 0.7380458 (298)\ttotal: 22.7s\tremaining: 2m 34s\n",
      "600:\ttest: 0.7387510\tbest: 0.7387645 (593)\ttotal: 47.3s\tremaining: 2m 18s\n",
      "900:\ttest: 0.7388239\tbest: 0.7389182 (772)\ttotal: 1m 12s\tremaining: 1m 57s\n"
     ]
    },
    {
     "name": "stderr",
     "output_type": "stream",
     "text": [
      "[I 2025-02-25 08:31:38,531] Trial 30 finished with value: 0.7389181936762589 and parameters: {'iterations': 2356, 'depth': 7, 'learning_rate': 0.04113320760722928, 'l2_leaf_reg': 13.852723006555737}. Best is trial 11 with value: 0.7391718260920834.\n"
     ]
    },
    {
     "name": "stdout",
     "output_type": "stream",
     "text": [
      "Stopped by overfitting detector  (300 iterations wait)\n",
      "\n",
      "bestTest = 0.7389181937\n",
      "bestIteration = 772\n",
      "\n",
      "Shrink model to first 773 iterations.\n",
      "0:\ttest: 0.7133523\tbest: 0.7133523 (0)\ttotal: 77.2ms\tremaining: 3m 41s\n",
      "300:\ttest: 0.7386337\tbest: 0.7386337 (300)\ttotal: 19.8s\tremaining: 2m 49s\n",
      "600:\ttest: 0.7389868\tbest: 0.7390245 (531)\ttotal: 41s\tremaining: 2m 34s\n",
      "900:\ttest: 0.7392643\tbest: 0.7392662 (890)\ttotal: 1m 2s\tremaining: 2m 16s\n",
      "1200:\ttest: 0.7392838\tbest: 0.7393422 (1059)\ttotal: 1m 23s\tremaining: 1m 56s\n"
     ]
    },
    {
     "name": "stderr",
     "output_type": "stream",
     "text": [
      "[I 2025-02-25 08:33:14,187] Trial 31 finished with value: 0.7393422485870713 and parameters: {'iterations': 2871, 'depth': 6, 'learning_rate': 0.0599702771422291, 'l2_leaf_reg': 37.57967206806921}. Best is trial 31 with value: 0.7393422485870713.\n"
     ]
    },
    {
     "name": "stdout",
     "output_type": "stream",
     "text": [
      "Stopped by overfitting detector  (300 iterations wait)\n",
      "\n",
      "bestTest = 0.7393422486\n",
      "bestIteration = 1059\n",
      "\n",
      "Shrink model to first 1060 iterations.\n",
      "저장 완료\n",
      "0:\ttest: 0.7133523\tbest: 0.7133523 (0)\ttotal: 79.9ms\tremaining: 3m 49s\n",
      "300:\ttest: 0.7385179\tbest: 0.7385327 (297)\ttotal: 20.3s\tremaining: 2m 53s\n",
      "600:\ttest: 0.7389181\tbest: 0.7389181 (599)\ttotal: 41.4s\tremaining: 2m 36s\n",
      "900:\ttest: 0.7390517\tbest: 0.7390545 (733)\ttotal: 1m 3s\tremaining: 2m 18s\n",
      "1200:\ttest: 0.7391523\tbest: 0.7391876 (1010)\ttotal: 1m 24s\tremaining: 1m 58s\n"
     ]
    },
    {
     "name": "stderr",
     "output_type": "stream",
     "text": [
      "[I 2025-02-25 08:34:47,348] Trial 32 finished with value: 0.7391875627141916 and parameters: {'iterations': 2874, 'depth': 6, 'learning_rate': 0.06454448473986402, 'l2_leaf_reg': 45.96986372865586}. Best is trial 31 with value: 0.7393422485870713.\n"
     ]
    },
    {
     "name": "stdout",
     "output_type": "stream",
     "text": [
      "Stopped by overfitting detector  (300 iterations wait)\n",
      "\n",
      "bestTest = 0.7391875627\n",
      "bestIteration = 1010\n",
      "\n",
      "Shrink model to first 1011 iterations.\n",
      "0:\ttest: 0.7133523\tbest: 0.7133523 (0)\ttotal: 75.1ms\tremaining: 3m 32s\n",
      "300:\ttest: 0.7385079\tbest: 0.7385079 (299)\ttotal: 20.1s\tremaining: 2m 49s\n",
      "600:\ttest: 0.7390801\tbest: 0.7390875 (597)\ttotal: 41.4s\tremaining: 2m 33s\n",
      "900:\ttest: 0.7391418\tbest: 0.7392133 (734)\ttotal: 1m 2s\tremaining: 2m 14s\n"
     ]
    },
    {
     "name": "stderr",
     "output_type": "stream",
     "text": [
      "[I 2025-02-25 08:35:59,748] Trial 33 finished with value: 0.7392132702316097 and parameters: {'iterations': 2831, 'depth': 6, 'learning_rate': 0.0660027299017088, 'l2_leaf_reg': 38.248746953928034}. Best is trial 31 with value: 0.7393422485870713.\n"
     ]
    },
    {
     "name": "stdout",
     "output_type": "stream",
     "text": [
      "Stopped by overfitting detector  (300 iterations wait)\n",
      "\n",
      "bestTest = 0.7392132702\n",
      "bestIteration = 734\n",
      "\n",
      "Shrink model to first 735 iterations.\n",
      "0:\ttest: 0.7128022\tbest: 0.7128022 (0)\ttotal: 76.3ms\tremaining: 3m 40s\n",
      "300:\ttest: 0.7385325\tbest: 0.7385538 (270)\ttotal: 20.5s\tremaining: 2m 56s\n",
      "600:\ttest: 0.7385613\tbest: 0.7386389 (415)\ttotal: 42s\tremaining: 2m 39s\n"
     ]
    },
    {
     "name": "stderr",
     "output_type": "stream",
     "text": [
      "[I 2025-02-25 08:36:50,192] Trial 34 finished with value: 0.7386388855101059 and parameters: {'iterations': 2887, 'depth': 6, 'learning_rate': 0.06462151951368991, 'l2_leaf_reg': 5.637886638365946}. Best is trial 31 with value: 0.7393422485870713.\n"
     ]
    },
    {
     "name": "stdout",
     "output_type": "stream",
     "text": [
      "Stopped by overfitting detector  (300 iterations wait)\n",
      "\n",
      "bestTest = 0.7386388855\n",
      "bestIteration = 415\n",
      "\n",
      "Shrink model to first 416 iterations.\n",
      "0:\ttest: 0.6985901\tbest: 0.6985901 (0)\ttotal: 63.2ms\tremaining: 3m 1s\n",
      "300:\ttest: 0.7386765\tbest: 0.7386765 (300)\ttotal: 17.5s\tremaining: 2m 28s\n",
      "600:\ttest: 0.7388824\tbest: 0.7388824 (600)\ttotal: 35.6s\tremaining: 2m 14s\n",
      "900:\ttest: 0.7389759\tbest: 0.7390226 (786)\ttotal: 53.8s\tremaining: 1m 57s\n",
      "1200:\ttest: 0.7390033\tbest: 0.7390343 (1176)\ttotal: 1m 12s\tremaining: 1m 40s\n"
     ]
    },
    {
     "name": "stderr",
     "output_type": "stream",
     "text": [
      "[I 2025-02-25 08:38:19,659] Trial 35 finished with value: 0.7390342666514904 and parameters: {'iterations': 2865, 'depth': 5, 'learning_rate': 0.08569912743502742, 'l2_leaf_reg': 18.302956972743697}. Best is trial 31 with value: 0.7393422485870713.\n"
     ]
    },
    {
     "name": "stdout",
     "output_type": "stream",
     "text": [
      "Stopped by overfitting detector  (300 iterations wait)\n",
      "\n",
      "bestTest = 0.7390342667\n",
      "bestIteration = 1176\n",
      "\n",
      "Shrink model to first 1177 iterations.\n",
      "0:\ttest: 0.7133523\tbest: 0.7133523 (0)\ttotal: 76.5ms\tremaining: 3m 46s\n",
      "300:\ttest: 0.7384087\tbest: 0.7384296 (295)\ttotal: 20.4s\tremaining: 3m\n",
      "600:\ttest: 0.7389163\tbest: 0.7389290 (595)\ttotal: 41.8s\tremaining: 2m 43s\n",
      "900:\ttest: 0.7390887\tbest: 0.7390887 (900)\ttotal: 1m 3s\tremaining: 2m 24s\n",
      "1200:\ttest: 0.7390076\tbest: 0.7391047 (908)\ttotal: 1m 24s\tremaining: 2m 4s\n"
     ]
    },
    {
     "name": "stderr",
     "output_type": "stream",
     "text": [
      "[I 2025-02-25 08:39:45,193] Trial 36 finished with value: 0.739104654580708 and parameters: {'iterations': 2959, 'depth': 6, 'learning_rate': 0.07293116737451495, 'l2_leaf_reg': 44.28333489237589}. Best is trial 31 with value: 0.7393422485870713.\n"
     ]
    },
    {
     "name": "stdout",
     "output_type": "stream",
     "text": [
      "Stopped by overfitting detector  (300 iterations wait)\n",
      "\n",
      "bestTest = 0.7391046546\n",
      "bestIteration = 908\n",
      "\n",
      "Shrink model to first 909 iterations.\n",
      "0:\ttest: 0.6985927\tbest: 0.6985927 (0)\ttotal: 61.8ms\tremaining: 3m 5s\n",
      "300:\ttest: 0.7382164\tbest: 0.7382437 (284)\ttotal: 17.3s\tremaining: 2m 34s\n",
      "600:\ttest: 0.7387266\tbest: 0.7388268 (497)\ttotal: 35.3s\tremaining: 2m 20s\n"
     ]
    },
    {
     "name": "stderr",
     "output_type": "stream",
     "text": [
      "[I 2025-02-25 08:40:32,800] Trial 37 finished with value: 0.7388267600500509 and parameters: {'iterations': 3000, 'depth': 5, 'learning_rate': 0.05091331056863608, 'l2_leaf_reg': 1.8782169786578924}. Best is trial 31 with value: 0.7393422485870713.\n"
     ]
    },
    {
     "name": "stdout",
     "output_type": "stream",
     "text": [
      "Stopped by overfitting detector  (300 iterations wait)\n",
      "\n",
      "bestTest = 0.7388267601\n",
      "bestIteration = 497\n",
      "\n",
      "Shrink model to first 498 iterations.\n",
      "0:\ttest: 0.7128083\tbest: 0.7128083 (0)\ttotal: 75.4ms\tremaining: 3m 29s\n",
      "300:\ttest: 0.7388231\tbest: 0.7388231 (300)\ttotal: 20s\tremaining: 2m 45s\n",
      "600:\ttest: 0.7392930\tbest: 0.7392930 (600)\ttotal: 41.6s\tremaining: 2m 30s\n"
     ]
    },
    {
     "name": "stderr",
     "output_type": "stream",
     "text": [
      "[I 2025-02-25 08:41:36,434] Trial 38 finished with value: 0.7392929818016826 and parameters: {'iterations': 2781, 'depth': 6, 'learning_rate': 0.062314752965038064, 'l2_leaf_reg': 7.576417220794538}. Best is trial 31 with value: 0.7393422485870713.\n"
     ]
    },
    {
     "name": "stdout",
     "output_type": "stream",
     "text": [
      "900:\ttest: 0.7391921\tbest: 0.7392930 (600)\ttotal: 1m 3s\tremaining: 2m 12s\n",
      "Stopped by overfitting detector  (300 iterations wait)\n",
      "\n",
      "bestTest = 0.7392929818\n",
      "bestIteration = 600\n",
      "\n",
      "Shrink model to first 601 iterations.\n",
      "0:\ttest: 0.6939821\tbest: 0.6939821 (0)\ttotal: 53ms\tremaining: 1m 52s\n",
      "300:\ttest: 0.7378778\tbest: 0.7378778 (299)\ttotal: 14.3s\tremaining: 1m 26s\n",
      "600:\ttest: 0.7383810\tbest: 0.7384264 (525)\ttotal: 29s\tremaining: 1m 13s\n",
      "900:\ttest: 0.7386250\tbest: 0.7386255 (899)\ttotal: 43.8s\tremaining: 59.7s\n",
      "1200:\ttest: 0.7387674\tbest: 0.7387731 (1144)\ttotal: 58.8s\tremaining: 45.5s\n",
      "1500:\ttest: 0.7386544\tbest: 0.7387738 (1224)\ttotal: 1m 13s\tremaining: 30.9s\n"
     ]
    },
    {
     "name": "stderr",
     "output_type": "stream",
     "text": [
      "[I 2025-02-25 08:42:51,708] Trial 39 finished with value: 0.7387738003404734 and parameters: {'iterations': 2130, 'depth': 4, 'learning_rate': 0.061471849472475686, 'l2_leaf_reg': 7.985648388499039}. Best is trial 31 with value: 0.7393422485870713.\n",
      "[I 2025-02-25 08:42:51,712] A new study created in memory with name: no-name-bfa1cf27-18e2-42ab-8231-a05bae7d364c\n"
     ]
    },
    {
     "name": "stdout",
     "output_type": "stream",
     "text": [
      "Stopped by overfitting detector  (300 iterations wait)\n",
      "\n",
      "bestTest = 0.7387738003\n",
      "bestIteration = 1224\n",
      "\n",
      "Shrink model to first 1225 iterations.\n"
     ]
    },
    {
     "name": "stderr",
     "output_type": "stream",
     "text": [
      "[I 2025-02-25 08:43:14,744] Trial 0 finished with value: 0.7271936517664297 and parameters: {'num_iterations': 2366, 'objective': 'binary', 'metric': 'auc', 'verbose': -1, 'learning_rate': 0.0652646236447618, 'n_estimators': 236, 'min_child_samples': 45, 'subsample': 0.7, 'colsample_bytree': 0.5}. Best is trial 0 with value: 0.7271936517664297.\n",
      "[I 2025-02-25 08:43:31,656] Trial 1 finished with value: 0.7382144414524434 and parameters: {'num_iterations': 1510, 'objective': 'binary', 'metric': 'auc', 'verbose': -1, 'learning_rate': 0.005231880959249543, 'n_estimators': 1411, 'min_child_samples': 10, 'subsample': 1.0, 'colsample_bytree': 0.5}. Best is trial 1 with value: 0.7382144414524434.\n",
      "[I 2025-02-25 08:43:51,154] Trial 2 finished with value: 0.7376225570353477 and parameters: {'num_iterations': 2334, 'objective': 'binary', 'metric': 'auc', 'verbose': -1, 'learning_rate': 0.006578527777128852, 'n_estimators': 931, 'min_child_samples': 15, 'subsample': 0.5, 'colsample_bytree': 1.0}. Best is trial 1 with value: 0.7382144414524434.\n",
      "[I 2025-02-25 08:44:07,330] Trial 3 finished with value: 0.73807146572304 and parameters: {'num_iterations': 1620, 'objective': 'binary', 'metric': 'auc', 'verbose': -1, 'learning_rate': 0.0058823249237283685, 'n_estimators': 837, 'min_child_samples': 10, 'subsample': 0.9, 'colsample_bytree': 0.6}. Best is trial 1 with value: 0.7382144414524434.\n",
      "[I 2025-02-25 08:44:23,713] Trial 4 finished with value: 0.738178226970075 and parameters: {'num_iterations': 1997, 'objective': 'binary', 'metric': 'auc', 'verbose': -1, 'learning_rate': 0.010907507425244923, 'n_estimators': 1597, 'min_child_samples': 50, 'subsample': 0.6, 'colsample_bytree': 0.8}. Best is trial 1 with value: 0.7382144414524434.\n",
      "[I 2025-02-25 08:44:46,286] Trial 5 finished with value: 0.7358199573501406 and parameters: {'num_iterations': 2909, 'objective': 'binary', 'metric': 'auc', 'verbose': -1, 'learning_rate': 0.019760591962733942, 'n_estimators': 612, 'min_child_samples': 30, 'subsample': 0.7, 'colsample_bytree': 0.9}. Best is trial 1 with value: 0.7382144414524434.\n",
      "[I 2025-02-25 08:45:06,888] Trial 6 finished with value: 0.73648417940159 and parameters: {'num_iterations': 2639, 'objective': 'binary', 'metric': 'auc', 'verbose': -1, 'learning_rate': 0.017862094446750985, 'n_estimators': 794, 'min_child_samples': 35, 'subsample': 1.0, 'colsample_bytree': 0.8}. Best is trial 1 with value: 0.7382144414524434.\n",
      "[I 2025-02-25 08:45:23,371] Trial 7 finished with value: 0.7379360704154395 and parameters: {'num_iterations': 1580, 'objective': 'binary', 'metric': 'auc', 'verbose': -1, 'learning_rate': 0.01776722177611332, 'n_estimators': 529, 'min_child_samples': 25, 'subsample': 0.8, 'colsample_bytree': 0.5}. Best is trial 1 with value: 0.7382144414524434.\n",
      "[I 2025-02-25 08:45:40,670] Trial 8 finished with value: 0.7346850939506916 and parameters: {'num_iterations': 1911, 'objective': 'binary', 'metric': 'auc', 'verbose': -1, 'learning_rate': 0.0304747553332844, 'n_estimators': 1328, 'min_child_samples': 10, 'subsample': 0.7, 'colsample_bytree': 0.6}. Best is trial 1 with value: 0.7382144414524434.\n",
      "[I 2025-02-25 08:46:07,969] Trial 9 finished with value: 0.7345414908212647 and parameters: {'num_iterations': 2739, 'objective': 'binary', 'metric': 'auc', 'verbose': -1, 'learning_rate': 0.02691531614176271, 'n_estimators': 1438, 'min_child_samples': 20, 'subsample': 0.6, 'colsample_bytree': 0.5}. Best is trial 1 with value: 0.7382144414524434.\n",
      "[I 2025-02-25 08:46:22,853] Trial 10 finished with value: 0.726538193460878 and parameters: {'num_iterations': 1933, 'objective': 'binary', 'metric': 'auc', 'verbose': -1, 'learning_rate': 0.08223556891145911, 'n_estimators': 1960, 'min_child_samples': 40, 'subsample': 1.0, 'colsample_bytree': 0.7}. Best is trial 1 with value: 0.7382144414524434.\n",
      "[I 2025-02-25 08:46:38,570] Trial 11 finished with value: 0.7384773141205128 and parameters: {'num_iterations': 1911, 'objective': 'binary', 'metric': 'auc', 'verbose': -1, 'learning_rate': 0.010924708293832209, 'n_estimators': 1743, 'min_child_samples': 50, 'subsample': 0.5, 'colsample_bytree': 0.8}. Best is trial 11 with value: 0.7384773141205128.\n",
      "[I 2025-02-25 08:46:53,532] Trial 12 finished with value: 0.7381175557994492 and parameters: {'num_iterations': 1746, 'objective': 'binary', 'metric': 'auc', 'verbose': -1, 'learning_rate': 0.009303222125489579, 'n_estimators': 1865, 'min_child_samples': 50, 'subsample': 0.5, 'colsample_bytree': 0.7}. Best is trial 11 with value: 0.7384773141205128.\n",
      "[I 2025-02-25 08:47:12,136] Trial 13 finished with value: 0.7379241299605621 and parameters: {'num_iterations': 2128, 'objective': 'binary', 'metric': 'auc', 'verbose': -1, 'learning_rate': 0.005144110939690685, 'n_estimators': 1238, 'min_child_samples': 30, 'subsample': 0.9, 'colsample_bytree': 0.9}. Best is trial 11 with value: 0.7384773141205128.\n",
      "[I 2025-02-25 08:47:26,864] Trial 14 finished with value: 0.7380963433252373 and parameters: {'num_iterations': 1533, 'objective': 'binary', 'metric': 'auc', 'verbose': -1, 'learning_rate': 0.011224486692851735, 'n_estimators': 1661, 'min_child_samples': 20, 'subsample': 0.8, 'colsample_bytree': 0.6}. Best is trial 11 with value: 0.7384773141205128.\n",
      "[I 2025-02-25 08:47:41,944] Trial 15 finished with value: 0.7381853586817344 and parameters: {'num_iterations': 1791, 'objective': 'binary', 'metric': 'auc', 'verbose': -1, 'learning_rate': 0.008303365162986591, 'n_estimators': 1679, 'min_child_samples': 40, 'subsample': 0.9, 'colsample_bytree': 0.9}. Best is trial 11 with value: 0.7384773141205128.\n",
      "[I 2025-02-25 08:47:59,642] Trial 16 finished with value: 0.7377993051520915 and parameters: {'num_iterations': 2146, 'objective': 'binary', 'metric': 'auc', 'verbose': -1, 'learning_rate': 0.01311798887817239, 'n_estimators': 1261, 'min_child_samples': 35, 'subsample': 0.6, 'colsample_bytree': 0.7}. Best is trial 11 with value: 0.7384773141205128.\n",
      "[I 2025-02-25 08:48:13,190] Trial 17 finished with value: 0.734188006500436 and parameters: {'num_iterations': 1750, 'objective': 'binary', 'metric': 'auc', 'verbose': -1, 'learning_rate': 0.04011464624485054, 'n_estimators': 1130, 'min_child_samples': 20, 'subsample': 1.0, 'colsample_bytree': 0.8}. Best is trial 11 with value: 0.7384773141205128.\n",
      "[I 2025-02-25 08:48:33,195] Trial 18 finished with value: 0.7379666382975966 and parameters: {'num_iterations': 2434, 'objective': 'binary', 'metric': 'auc', 'verbose': -1, 'learning_rate': 0.007441765873961153, 'n_estimators': 1486, 'min_child_samples': 45, 'subsample': 0.5, 'colsample_bytree': 1.0}. Best is trial 11 with value: 0.7384773141205128.\n",
      "[I 2025-02-25 08:48:53,763] Trial 19 finished with value: 0.7381353175735318 and parameters: {'num_iterations': 2072, 'objective': 'binary', 'metric': 'auc', 'verbose': -1, 'learning_rate': 0.005127969307903406, 'n_estimators': 1763, 'min_child_samples': 15, 'subsample': 0.8, 'colsample_bytree': 0.6}. Best is trial 11 with value: 0.7384773141205128.\n",
      "[I 2025-02-25 08:49:08,782] Trial 20 finished with value: 0.7379014879673094 and parameters: {'num_iterations': 1819, 'objective': 'binary', 'metric': 'auc', 'verbose': -1, 'learning_rate': 0.015494885923564483, 'n_estimators': 1988, 'min_child_samples': 25, 'subsample': 0.9, 'colsample_bytree': 0.7}. Best is trial 11 with value: 0.7384773141205128.\n",
      "[I 2025-02-25 08:49:22,984] Trial 21 finished with value: 0.7381221620274697 and parameters: {'num_iterations': 1676, 'objective': 'binary', 'metric': 'auc', 'verbose': -1, 'learning_rate': 0.008523899055797842, 'n_estimators': 1683, 'min_child_samples': 40, 'subsample': 0.9, 'colsample_bytree': 0.9}. Best is trial 11 with value: 0.7384773141205128.\n",
      "[I 2025-02-25 08:49:38,635] Trial 22 finished with value: 0.7382898128438727 and parameters: {'num_iterations': 1841, 'objective': 'binary', 'metric': 'auc', 'verbose': -1, 'learning_rate': 0.007229065421873521, 'n_estimators': 1479, 'min_child_samples': 45, 'subsample': 1.0, 'colsample_bytree': 0.9}. Best is trial 11 with value: 0.7384773141205128.\n",
      "[I 2025-02-25 08:49:54,668] Trial 23 finished with value: 0.7383410888976912 and parameters: {'num_iterations': 1882, 'objective': 'binary', 'metric': 'auc', 'verbose': -1, 'learning_rate': 0.006942662755656896, 'n_estimators': 1447, 'min_child_samples': 50, 'subsample': 1.0, 'colsample_bytree': 0.8}. Best is trial 11 with value: 0.7384773141205128.\n",
      "[I 2025-02-25 08:50:12,544] Trial 24 finished with value: 0.738129273884698 and parameters: {'num_iterations': 2201, 'objective': 'binary', 'metric': 'auc', 'verbose': -1, 'learning_rate': 0.010879846171088897, 'n_estimators': 1095, 'min_child_samples': 50, 'subsample': 1.0, 'colsample_bytree': 0.8}. Best is trial 11 with value: 0.7384773141205128.\n",
      "[I 2025-02-25 08:50:27,804] Trial 25 finished with value: 0.7381643169556302 and parameters: {'num_iterations': 1889, 'objective': 'binary', 'metric': 'auc', 'verbose': -1, 'learning_rate': 0.013821366197618905, 'n_estimators': 1520, 'min_child_samples': 45, 'subsample': 0.8, 'colsample_bytree': 0.9}. Best is trial 11 with value: 0.7384773141205128.\n",
      "[I 2025-02-25 08:50:44,820] Trial 26 finished with value: 0.7380638853012373 and parameters: {'num_iterations': 2018, 'objective': 'binary', 'metric': 'auc', 'verbose': -1, 'learning_rate': 0.0070319925342010176, 'n_estimators': 1352, 'min_child_samples': 50, 'subsample': 1.0, 'colsample_bytree': 1.0}. Best is trial 11 with value: 0.7384773141205128.\n",
      "[I 2025-02-25 08:50:58,879] Trial 27 finished with value: 0.7382907460021356 and parameters: {'num_iterations': 1680, 'objective': 'binary', 'metric': 'auc', 'verbose': -1, 'learning_rate': 0.009964315294878033, 'n_estimators': 1860, 'min_child_samples': 45, 'subsample': 0.6, 'colsample_bytree': 0.8}. Best is trial 11 with value: 0.7384773141205128.\n",
      "[I 2025-02-25 08:51:12,144] Trial 28 finished with value: 0.7370484304214486 and parameters: {'num_iterations': 1678, 'objective': 'binary', 'metric': 'auc', 'verbose': -1, 'learning_rate': 0.023431708640499413, 'n_estimators': 1808, 'min_child_samples': 50, 'subsample': 0.6, 'colsample_bytree': 0.8}. Best is trial 11 with value: 0.7384773141205128.\n",
      "[I 2025-02-25 08:51:30,014] Trial 29 finished with value: 0.7322625078865771 and parameters: {'num_iterations': 2355, 'objective': 'binary', 'metric': 'auc', 'verbose': -1, 'learning_rate': 0.04030098468148633, 'n_estimators': 1868, 'min_child_samples': 45, 'subsample': 0.5, 'colsample_bytree': 0.8}. Best is trial 11 with value: 0.7384773141205128.\n",
      "[I 2025-02-25 08:51:50,380] Trial 30 finished with value: 0.7377943653696281 and parameters: {'num_iterations': 2462, 'objective': 'binary', 'metric': 'auc', 'verbose': -1, 'learning_rate': 0.010230562462358084, 'n_estimators': 104, 'min_child_samples': 40, 'subsample': 0.6, 'colsample_bytree': 0.7}. Best is trial 11 with value: 0.7384773141205128.\n",
      "[I 2025-02-25 08:52:06,953] Trial 31 finished with value: 0.738171579706535 and parameters: {'num_iterations': 1923, 'objective': 'binary', 'metric': 'auc', 'verbose': -1, 'learning_rate': 0.00663651386115461, 'n_estimators': 1570, 'min_child_samples': 45, 'subsample': 0.5, 'colsample_bytree': 0.9}. Best is trial 11 with value: 0.7384773141205128.\n",
      "[I 2025-02-25 08:52:22,681] Trial 32 finished with value: 0.7384631023187148 and parameters: {'num_iterations': 1841, 'objective': 'binary', 'metric': 'auc', 'verbose': -1, 'learning_rate': 0.008090927312376288, 'n_estimators': 1720, 'min_child_samples': 45, 'subsample': 0.7, 'colsample_bytree': 0.8}. Best is trial 11 with value: 0.7384773141205128.\n",
      "[I 2025-02-25 08:52:36,395] Trial 33 finished with value: 0.7383702749114421 and parameters: {'num_iterations': 1668, 'objective': 'binary', 'metric': 'auc', 'verbose': -1, 'learning_rate': 0.012961356509928084, 'n_estimators': 1753, 'min_child_samples': 50, 'subsample': 0.7, 'colsample_bytree': 0.8}. Best is trial 11 with value: 0.7384773141205128.\n",
      "[I 2025-02-25 08:52:48,869] Trial 34 finished with value: 0.7383222113045794 and parameters: {'num_iterations': 1504, 'objective': 'binary', 'metric': 'auc', 'verbose': -1, 'learning_rate': 0.013047296402271917, 'n_estimators': 1747, 'min_child_samples': 50, 'subsample': 0.7, 'colsample_bytree': 0.8}. Best is trial 11 with value: 0.7384773141205128.\n",
      "[I 2025-02-25 08:53:05,887] Trial 35 finished with value: 0.7382338829113991 and parameters: {'num_iterations': 1996, 'objective': 'binary', 'metric': 'auc', 'verbose': -1, 'learning_rate': 0.008166404961175098, 'n_estimators': 1652, 'min_child_samples': 50, 'subsample': 0.7, 'colsample_bytree': 0.7}. Best is trial 11 with value: 0.7384773141205128.\n",
      "[I 2025-02-25 08:53:24,861] Trial 36 finished with value: 0.7382804455232689 and parameters: {'num_iterations': 2238, 'objective': 'binary', 'metric': 'auc', 'verbose': -1, 'learning_rate': 0.006062333089047852, 'n_estimators': 985, 'min_child_samples': 50, 'subsample': 0.7, 'colsample_bytree': 0.8}. Best is trial 11 with value: 0.7384773141205128.\n",
      "[I 2025-02-25 08:53:38,577] Trial 37 finished with value: 0.7383170213562839 and parameters: {'num_iterations': 1668, 'objective': 'binary', 'metric': 'auc', 'verbose': -1, 'learning_rate': 0.012459483486223758, 'n_estimators': 1573, 'min_child_samples': 45, 'subsample': 0.8, 'colsample_bytree': 0.8}. Best is trial 11 with value: 0.7384773141205128.\n",
      "[I 2025-02-25 08:53:51,948] Trial 38 finished with value: 0.7377993011812052 and parameters: {'num_iterations': 1616, 'objective': 'binary', 'metric': 'auc', 'verbose': -1, 'learning_rate': 0.017457462062198666, 'n_estimators': 1993, 'min_child_samples': 35, 'subsample': 0.7, 'colsample_bytree': 0.7}. Best is trial 11 with value: 0.7384773141205128.\n",
      "[I 2025-02-25 08:54:07,926] Trial 39 finished with value: 0.7377262845253071 and parameters: {'num_iterations': 1989, 'objective': 'binary', 'metric': 'auc', 'verbose': -1, 'learning_rate': 0.014833427164480831, 'n_estimators': 1386, 'min_child_samples': 40, 'subsample': 0.7, 'colsample_bytree': 0.9}. Best is trial 11 with value: 0.7384773141205128.\n"
     ]
    },
    {
     "name": "stdout",
     "output_type": "stream",
     "text": [
      "Cat val score : 0.7393422485870713\n",
      "LGBM val score : 0.7378982755203536\n",
      "Ensemble val score : 0.7392489486443379\n"
     ]
    },
    {
     "name": "stderr",
     "output_type": "stream",
     "text": [
      "[I 2025-02-25 08:54:24,802] A new study created in memory with name: no-name-1db2c319-0847-4e22-b933-d844262f9255\n"
     ]
    },
    {
     "name": "stdout",
     "output_type": "stream",
     "text": [
      "==================================================\n",
      "0:\ttest: 0.7238433\tbest: 0.7238433 (0)\ttotal: 130ms\tremaining: 5m 7s\n",
      "300:\ttest: 0.7360497\tbest: 0.7360497 (300)\ttotal: 39.3s\tremaining: 4m 29s\n",
      "600:\ttest: 0.7375349\tbest: 0.7375349 (600)\ttotal: 1m 20s\tremaining: 3m 57s\n",
      "900:\ttest: 0.7380577\tbest: 0.7380713 (895)\ttotal: 1m 59s\tremaining: 3m 13s\n",
      "1200:\ttest: 0.7383575\tbest: 0.7383663 (1170)\ttotal: 2m 44s\tremaining: 2m 39s\n",
      "1500:\ttest: 0.7385225\tbest: 0.7385225 (1500)\ttotal: 3m 34s\tremaining: 2m 3s\n",
      "1800:\ttest: 0.7384579\tbest: 0.7385288 (1540)\ttotal: 4m 23s\tremaining: 1m 22s\n"
     ]
    },
    {
     "name": "stderr",
     "output_type": "stream",
     "text": [
      "[I 2025-02-25 08:58:55,601] Trial 0 finished with value: 0.7385288482819357 and parameters: {'iterations': 2366, 'depth': 10, 'learning_rate': 0.01181021951839225, 'l2_leaf_reg': 9.980783802743254}. Best is trial 0 with value: 0.7385288482819357.\n"
     ]
    },
    {
     "name": "stdout",
     "output_type": "stream",
     "text": [
      "Stopped by overfitting detector  (300 iterations wait)\n",
      "\n",
      "bestTest = 0.7385288483\n",
      "bestIteration = 1540\n",
      "\n",
      "Shrink model to first 1541 iterations.\n",
      "저장 완료\n",
      "0:\ttest: 0.6912624\tbest: 0.6912624 (0)\ttotal: 58.8ms\tremaining: 2m 8s\n",
      "300:\ttest: 0.7269149\tbest: 0.7269149 (300)\ttotal: 12.9s\tremaining: 1m 21s\n",
      "600:\ttest: 0.7319329\tbest: 0.7319329 (600)\ttotal: 25.8s\tremaining: 1m 8s\n",
      "900:\ttest: 0.7340099\tbest: 0.7340099 (900)\ttotal: 39.3s\tremaining: 56.4s\n",
      "1200:\ttest: 0.7351317\tbest: 0.7351317 (1200)\ttotal: 53s\tremaining: 43.7s\n",
      "1500:\ttest: 0.7358681\tbest: 0.7358681 (1500)\ttotal: 1m 6s\tremaining: 30.7s\n",
      "1800:\ttest: 0.7363712\tbest: 0.7363712 (1800)\ttotal: 1m 20s\tremaining: 17.5s\n",
      "2100:\ttest: 0.7367861\tbest: 0.7367861 (2100)\ttotal: 1m 34s\tremaining: 4.14s\n"
     ]
    },
    {
     "name": "stderr",
     "output_type": "stream",
     "text": [
      "[I 2025-02-25 09:00:34,913] Trial 1 finished with value: 0.7369035724919748 and parameters: {'iterations': 2193, 'depth': 4, 'learning_rate': 0.005671430811678843, 'l2_leaf_reg': 0.00012325230809466137}. Best is trial 0 with value: 0.7385288482819357.\n"
     ]
    },
    {
     "name": "stdout",
     "output_type": "stream",
     "text": [
      "2192:\ttest: 0.7369036\tbest: 0.7369036 (2192)\ttotal: 1m 39s\tremaining: 0us\n",
      "\n",
      "bestTest = 0.7369035725\n",
      "bestIteration = 2192\n",
      "\n",
      "0:\ttest: 0.6912624\tbest: 0.6912624 (0)\ttotal: 49.4ms\tremaining: 2m 5s\n",
      "300:\ttest: 0.7383365\tbest: 0.7383365 (300)\ttotal: 14.1s\tremaining: 1m 44s\n",
      "600:\ttest: 0.7387010\tbest: 0.7387582 (495)\ttotal: 29s\tremaining: 1m 33s\n",
      "900:\ttest: 0.7384084\tbest: 0.7387909 (653)\ttotal: 43.9s\tremaining: 1m 19s\n"
     ]
    },
    {
     "name": "stderr",
     "output_type": "stream",
     "text": [
      "[I 2025-02-25 09:01:21,665] Trial 2 finished with value: 0.738790942656305 and parameters: {'iterations': 2535, 'depth': 4, 'learning_rate': 0.09275339199839054, 'l2_leaf_reg': 0.0008705394248343123}. Best is trial 2 with value: 0.738790942656305.\n"
     ]
    },
    {
     "name": "stdout",
     "output_type": "stream",
     "text": [
      "Stopped by overfitting detector  (300 iterations wait)\n",
      "\n",
      "bestTest = 0.7387909427\n",
      "bestIteration = 653\n",
      "\n",
      "Shrink model to first 654 iterations.\n",
      "저장 완료\n",
      "0:\ttest: 0.6912624\tbest: 0.6912624 (0)\ttotal: 51.6ms\tremaining: 2m\n",
      "300:\ttest: 0.7372545\tbest: 0.7372545 (300)\ttotal: 13.8s\tremaining: 1m 33s\n",
      "600:\ttest: 0.7382480\tbest: 0.7382745 (513)\ttotal: 28.4s\tremaining: 1m 22s\n",
      "900:\ttest: 0.7383257\tbest: 0.7383610 (809)\ttotal: 43.2s\tremaining: 1m 8s\n",
      "1200:\ttest: 0.7382992\tbest: 0.7384720 (1007)\ttotal: 58s\tremaining: 54.7s\n"
     ]
    },
    {
     "name": "stderr",
     "output_type": "stream",
     "text": [
      "[I 2025-02-25 09:02:25,172] Trial 3 finished with value: 0.7384720209291753 and parameters: {'iterations': 2334, 'depth': 4, 'learning_rate': 0.04657568321363276, 'l2_leaf_reg': 0.0008640473331457248}. Best is trial 2 with value: 0.738790942656305.\n"
     ]
    },
    {
     "name": "stdout",
     "output_type": "stream",
     "text": [
      "Stopped by overfitting detector  (300 iterations wait)\n",
      "\n",
      "bestTest = 0.7384720209\n",
      "bestIteration = 1007\n",
      "\n",
      "Shrink model to first 1008 iterations.\n",
      "0:\ttest: 0.7235407\tbest: 0.7235407 (0)\ttotal: 124ms\tremaining: 3m 35s\n",
      "300:\ttest: 0.7358690\tbest: 0.7358847 (298)\ttotal: 36.7s\tremaining: 2m 55s\n",
      "600:\ttest: 0.7369392\tbest: 0.7369434 (599)\ttotal: 1m 14s\tremaining: 2m 20s\n",
      "900:\ttest: 0.7369785\tbest: 0.7370039 (897)\ttotal: 1m 53s\tremaining: 1m 45s\n",
      "1200:\ttest: 0.7360305\tbest: 0.7370444 (935)\ttotal: 2m 36s\tremaining: 1m 10s\n"
     ]
    },
    {
     "name": "stderr",
     "output_type": "stream",
     "text": [
      "[I 2025-02-25 09:05:06,299] Trial 4 finished with value: 0.7370443880592719 and parameters: {'iterations': 1742, 'depth': 10, 'learning_rate': 0.012622767482095846, 'l2_leaf_reg': 0.00021158816350109617}. Best is trial 2 with value: 0.738790942656305.\n"
     ]
    },
    {
     "name": "stdout",
     "output_type": "stream",
     "text": [
      "Stopped by overfitting detector  (300 iterations wait)\n",
      "\n",
      "bestTest = 0.7370443881\n",
      "bestIteration = 935\n",
      "\n",
      "Shrink model to first 936 iterations.\n",
      "0:\ttest: 0.6912624\tbest: 0.6912624 (0)\ttotal: 54.3ms\tremaining: 1m 52s\n",
      "300:\ttest: 0.7380882\tbest: 0.7381012 (299)\ttotal: 14.1s\tremaining: 1m 23s\n",
      "600:\ttest: 0.7383755\tbest: 0.7384864 (478)\ttotal: 28.9s\tremaining: 1m 11s\n",
      "900:\ttest: 0.7387610\tbest: 0.7387611 (899)\ttotal: 43.9s\tremaining: 57.5s\n",
      "1200:\ttest: 0.7387726\tbest: 0.7388430 (1139)\ttotal: 59s\tremaining: 43.3s\n",
      "1500:\ttest: 0.7386685\tbest: 0.7388439 (1410)\ttotal: 1m 14s\tremaining: 28.7s\n"
     ]
    },
    {
     "name": "stderr",
     "output_type": "stream",
     "text": [
      "[I 2025-02-25 09:06:31,198] Trial 5 finished with value: 0.7388439023658826 and parameters: {'iterations': 2082, 'depth': 4, 'learning_rate': 0.06995196593094148, 'l2_leaf_reg': 0.0018080296485396804}. Best is trial 5 with value: 0.7388439023658826.\n"
     ]
    },
    {
     "name": "stdout",
     "output_type": "stream",
     "text": [
      "Stopped by overfitting detector  (300 iterations wait)\n",
      "\n",
      "bestTest = 0.7388439024\n",
      "bestIteration = 1410\n",
      "\n",
      "Shrink model to first 1411 iterations.\n",
      "저장 완료\n",
      "0:\ttest: 0.6988758\tbest: 0.6988758 (0)\ttotal: 63.1ms\tremaining: 2m 5s\n",
      "300:\ttest: 0.7381606\tbest: 0.7381646 (297)\ttotal: 17.6s\tremaining: 1m 39s\n",
      "600:\ttest: 0.7388216\tbest: 0.7388332 (591)\ttotal: 35.7s\tremaining: 1m 22s\n"
     ]
    },
    {
     "name": "stderr",
     "output_type": "stream",
     "text": [
      "[I 2025-02-25 09:07:25,579] Trial 6 finished with value: 0.7388332047983934 and parameters: {'iterations': 1997, 'depth': 5, 'learning_rate': 0.07985155992831598, 'l2_leaf_reg': 62.52181000710482}. Best is trial 5 with value: 0.7388439023658826.\n"
     ]
    },
    {
     "name": "stdout",
     "output_type": "stream",
     "text": [
      "Stopped by overfitting detector  (300 iterations wait)\n",
      "\n",
      "bestTest = 0.7388332048\n",
      "bestIteration = 591\n",
      "\n",
      "Shrink model to first 592 iterations.\n",
      "0:\ttest: 0.7199876\tbest: 0.7199876 (0)\ttotal: 84.8ms\tremaining: 2m 43s\n",
      "300:\ttest: 0.7379249\tbest: 0.7380104 (292)\ttotal: 23.9s\tremaining: 2m 9s\n"
     ]
    },
    {
     "name": "stderr",
     "output_type": "stream",
     "text": [
      "[I 2025-02-25 09:08:14,542] Trial 7 finished with value: 0.738010365696702 and parameters: {'iterations': 1927, 'depth': 7, 'learning_rate': 0.0941937211034094, 'l2_leaf_reg': 0.05654822767791934}. Best is trial 5 with value: 0.7388439023658826.\n"
     ]
    },
    {
     "name": "stdout",
     "output_type": "stream",
     "text": [
      "Stopped by overfitting detector  (300 iterations wait)\n",
      "\n",
      "bestTest = 0.7380103657\n",
      "bestIteration = 292\n",
      "\n",
      "Shrink model to first 293 iterations.\n",
      "0:\ttest: 0.7199872\tbest: 0.7199872 (0)\ttotal: 84.5ms\tremaining: 2m 40s\n",
      "300:\ttest: 0.7384906\tbest: 0.7384906 (300)\ttotal: 23.1s\tremaining: 2m 3s\n",
      "600:\ttest: 0.7387217\tbest: 0.7388250 (503)\ttotal: 48.4s\tremaining: 1m 44s\n",
      "900:\ttest: 0.7387371\tbest: 0.7388913 (763)\ttotal: 1m 13s\tremaining: 1m 22s\n"
     ]
    },
    {
     "name": "stderr",
     "output_type": "stream",
     "text": [
      "[I 2025-02-25 09:09:42,351] Trial 8 finished with value: 0.7388913425436081 and parameters: {'iterations': 1904, 'depth': 7, 'learning_rate': 0.05155602859187331, 'l2_leaf_reg': 1.299974533316308}. Best is trial 8 with value: 0.7388913425436081.\n"
     ]
    },
    {
     "name": "stdout",
     "output_type": "stream",
     "text": [
      "Stopped by overfitting detector  (300 iterations wait)\n",
      "\n",
      "bestTest = 0.7388913425\n",
      "bestIteration = 763\n",
      "\n",
      "Shrink model to first 764 iterations.\n",
      "저장 완료\n",
      "0:\ttest: 0.7130562\tbest: 0.7130562 (0)\ttotal: 73.5ms\tremaining: 3m 13s\n",
      "300:\ttest: 0.7374427\tbest: 0.7374518 (296)\ttotal: 19.9s\tremaining: 2m 34s\n",
      "600:\ttest: 0.7388597\tbest: 0.7388597 (600)\ttotal: 41.3s\tremaining: 2m 20s\n",
      "900:\ttest: 0.7390826\tbest: 0.7391216 (721)\ttotal: 1m 2s\tremaining: 2m 1s\n"
     ]
    },
    {
     "name": "stderr",
     "output_type": "stream",
     "text": [
      "[I 2025-02-25 09:10:54,332] Trial 9 finished with value: 0.7391215665851385 and parameters: {'iterations': 2639, 'depth': 6, 'learning_rate': 0.03968704290444751, 'l2_leaf_reg': 0.30557194377967184}. Best is trial 9 with value: 0.7391215665851385.\n"
     ]
    },
    {
     "name": "stdout",
     "output_type": "stream",
     "text": [
      "Stopped by overfitting detector  (300 iterations wait)\n",
      "\n",
      "bestTest = 0.7391215666\n",
      "bestIteration = 721\n",
      "\n",
      "Shrink model to first 722 iterations.\n",
      "저장 완료\n",
      "0:\ttest: 0.7130562\tbest: 0.7130562 (0)\ttotal: 75.1ms\tremaining: 3m 41s\n",
      "300:\ttest: 0.7374263\tbest: 0.7374263 (300)\ttotal: 19.7s\tremaining: 2m 52s\n",
      "600:\ttest: 0.7383713\tbest: 0.7383713 (600)\ttotal: 40.7s\tremaining: 2m 38s\n",
      "900:\ttest: 0.7384575\tbest: 0.7384788 (834)\ttotal: 1m 2s\tremaining: 2m 21s\n",
      "1200:\ttest: 0.7385475\tbest: 0.7385861 (992)\ttotal: 1m 24s\tremaining: 2m 2s\n"
     ]
    },
    {
     "name": "stderr",
     "output_type": "stream",
     "text": [
      "[I 2025-02-25 09:12:25,736] Trial 10 finished with value: 0.7385861044904084 and parameters: {'iterations': 2945, 'depth': 6, 'learning_rate': 0.032580115422505045, 'l2_leaf_reg': 0.05588195113566891}. Best is trial 9 with value: 0.7391215665851385.\n"
     ]
    },
    {
     "name": "stdout",
     "output_type": "stream",
     "text": [
      "Stopped by overfitting detector  (300 iterations wait)\n",
      "\n",
      "bestTest = 0.7385861045\n",
      "bestIteration = 992\n",
      "\n",
      "Shrink model to first 993 iterations.\n",
      "0:\ttest: 0.7202603\tbest: 0.7202603 (0)\ttotal: 92.1ms\tremaining: 4m 12s\n",
      "300:\ttest: 0.7382862\tbest: 0.7382927 (299)\ttotal: 26.1s\tremaining: 3m 31s\n",
      "600:\ttest: 0.7383019\tbest: 0.7384074 (538)\ttotal: 55.1s\tremaining: 3m 16s\n"
     ]
    },
    {
     "name": "stderr",
     "output_type": "stream",
     "text": [
      "[I 2025-02-25 09:13:43,985] Trial 11 finished with value: 0.7384073590178937 and parameters: {'iterations': 2742, 'depth': 8, 'learning_rate': 0.05038072346939034, 'l2_leaf_reg': 1.9458284937024315}. Best is trial 9 with value: 0.7391215665851385.\n"
     ]
    },
    {
     "name": "stdout",
     "output_type": "stream",
     "text": [
      "Stopped by overfitting detector  (300 iterations wait)\n",
      "\n",
      "bestTest = 0.738407359\n",
      "bestIteration = 538\n",
      "\n",
      "Shrink model to first 539 iterations.\n",
      "0:\ttest: 0.7199876\tbest: 0.7199876 (0)\ttotal: 82.1ms\tremaining: 2m 8s\n",
      "300:\ttest: 0.7374941\tbest: 0.7375045 (294)\ttotal: 22.2s\tremaining: 1m 33s\n",
      "600:\ttest: 0.7385378\tbest: 0.7385645 (592)\ttotal: 46.9s\tremaining: 1m 15s\n",
      "900:\ttest: 0.7387214\tbest: 0.7387214 (900)\ttotal: 1m 12s\tremaining: 53.1s\n",
      "1200:\ttest: 0.7385269\tbest: 0.7387623 (1031)\ttotal: 1m 37s\tremaining: 29.4s\n"
     ]
    },
    {
     "name": "stderr",
     "output_type": "stream",
     "text": [
      "[I 2025-02-25 09:15:32,556] Trial 12 finished with value: 0.7387623483046015 and parameters: {'iterations': 1565, 'depth': 7, 'learning_rate': 0.03421727225236856, 'l2_leaf_reg': 0.5279524076347274}. Best is trial 9 with value: 0.7391215665851385.\n"
     ]
    },
    {
     "name": "stdout",
     "output_type": "stream",
     "text": [
      "Stopped by overfitting detector  (300 iterations wait)\n",
      "\n",
      "bestTest = 0.7387623483\n",
      "bestIteration = 1031\n",
      "\n",
      "Shrink model to first 1032 iterations.\n",
      "0:\ttest: 0.7202605\tbest: 0.7202605 (0)\ttotal: 96.2ms\tremaining: 4m 12s\n",
      "300:\ttest: 0.7384792\tbest: 0.7386288 (242)\ttotal: 26.9s\tremaining: 3m 26s\n",
      "600:\ttest: 0.7382810\tbest: 0.7388356 (345)\ttotal: 56s\tremaining: 3m 8s\n"
     ]
    },
    {
     "name": "stderr",
     "output_type": "stream",
     "text": [
      "[I 2025-02-25 09:16:33,255] Trial 13 finished with value: 0.7388356389516492 and parameters: {'iterations': 2621, 'depth': 8, 'learning_rate': 0.06513774410228096, 'l2_leaf_reg': 0.4450207665125896}. Best is trial 9 with value: 0.7391215665851385.\n"
     ]
    },
    {
     "name": "stdout",
     "output_type": "stream",
     "text": [
      "Stopped by overfitting detector  (300 iterations wait)\n",
      "\n",
      "bestTest = 0.738835639\n",
      "bestIteration = 345\n",
      "\n",
      "Shrink model to first 346 iterations.\n",
      "0:\ttest: 0.7130562\tbest: 0.7130562 (0)\ttotal: 74.1ms\tremaining: 3m 36s\n",
      "300:\ttest: 0.7373253\tbest: 0.7373253 (300)\ttotal: 19.6s\tremaining: 2m 50s\n",
      "600:\ttest: 0.7385112\tbest: 0.7385142 (581)\ttotal: 41.2s\tremaining: 2m 38s\n",
      "900:\ttest: 0.7384994\tbest: 0.7385985 (825)\ttotal: 1m 2s\tremaining: 2m 20s\n",
      "1200:\ttest: 0.7385816\tbest: 0.7386845 (1051)\ttotal: 1m 24s\tremaining: 2m\n"
     ]
    },
    {
     "name": "stderr",
     "output_type": "stream",
     "text": [
      "[I 2025-02-25 09:18:08,907] Trial 14 finished with value: 0.738684479225737 and parameters: {'iterations': 2922, 'depth': 6, 'learning_rate': 0.032542601115978974, 'l2_leaf_reg': 0.0118311002022484}. Best is trial 9 with value: 0.7391215665851385.\n"
     ]
    },
    {
     "name": "stdout",
     "output_type": "stream",
     "text": [
      "Stopped by overfitting detector  (300 iterations wait)\n",
      "\n",
      "bestTest = 0.7386844792\n",
      "bestIteration = 1051\n",
      "\n",
      "Shrink model to first 1052 iterations.\n",
      "0:\ttest: 0.7202603\tbest: 0.7202603 (0)\ttotal: 95.5ms\tremaining: 2m 46s\n",
      "300:\ttest: 0.7384903\tbest: 0.7384903 (300)\ttotal: 27.2s\tremaining: 2m 10s\n",
      "600:\ttest: 0.7387137\tbest: 0.7388573 (474)\ttotal: 56.3s\tremaining: 1m 47s\n"
     ]
    },
    {
     "name": "stderr",
     "output_type": "stream",
     "text": [
      "[I 2025-02-25 09:19:22,311] Trial 15 finished with value: 0.738857327932208 and parameters: {'iterations': 1748, 'depth': 8, 'learning_rate': 0.05947895129861792, 'l2_leaf_reg': 4.722389127363701}. Best is trial 9 with value: 0.7391215665851385.\n"
     ]
    },
    {
     "name": "stdout",
     "output_type": "stream",
     "text": [
      "Stopped by overfitting detector  (300 iterations wait)\n",
      "\n",
      "bestTest = 0.7388573279\n",
      "bestIteration = 474\n",
      "\n",
      "Shrink model to first 475 iterations.\n",
      "0:\ttest: 0.7130562\tbest: 0.7130562 (0)\ttotal: 75.1ms\tremaining: 3m 5s\n",
      "300:\ttest: 0.7378254\tbest: 0.7378254 (300)\ttotal: 20s\tremaining: 2m 23s\n",
      "600:\ttest: 0.7384076\tbest: 0.7384582 (543)\ttotal: 41.6s\tremaining: 2m 9s\n",
      "900:\ttest: 0.7383686\tbest: 0.7385246 (734)\ttotal: 1m 3s\tremaining: 1m 50s\n"
     ]
    },
    {
     "name": "stderr",
     "output_type": "stream",
     "text": [
      "[I 2025-02-25 09:20:35,779] Trial 16 finished with value: 0.7385245716374718 and parameters: {'iterations': 2470, 'depth': 6, 'learning_rate': 0.04499426597359756, 'l2_leaf_reg': 0.3606784305013277}. Best is trial 9 with value: 0.7391215665851385.\n"
     ]
    },
    {
     "name": "stdout",
     "output_type": "stream",
     "text": [
      "Stopped by overfitting detector  (300 iterations wait)\n",
      "\n",
      "bestTest = 0.7385245716\n",
      "bestIteration = 734\n",
      "\n",
      "Shrink model to first 735 iterations.\n",
      "0:\ttest: 0.7214146\tbest: 0.7214146 (0)\ttotal: 111ms\tremaining: 5m 11s\n",
      "300:\ttest: 0.7374999\tbest: 0.7375015 (299)\ttotal: 28.1s\tremaining: 3m 53s\n",
      "600:\ttest: 0.7385953\tbest: 0.7385983 (577)\ttotal: 55.2s\tremaining: 3m 21s\n",
      "900:\ttest: 0.7388978\tbest: 0.7389018 (897)\ttotal: 1m 28s\tremaining: 3m 6s\n",
      "1200:\ttest: 0.7391079\tbest: 0.7391249 (1156)\ttotal: 2m\tremaining: 2m 40s\n",
      "1500:\ttest: 0.7390992\tbest: 0.7391428 (1238)\ttotal: 2m 33s\tremaining: 2m 13s\n"
     ]
    },
    {
     "name": "stderr",
     "output_type": "stream",
     "text": [
      "[I 2025-02-25 09:23:14,190] Trial 17 finished with value: 0.7391428028846678 and parameters: {'iterations': 2799, 'depth': 9, 'learning_rate': 0.023114008107260484, 'l2_leaf_reg': 47.74274222130142}. Best is trial 17 with value: 0.7391428028846678.\n"
     ]
    },
    {
     "name": "stdout",
     "output_type": "stream",
     "text": [
      "Stopped by overfitting detector  (300 iterations wait)\n",
      "\n",
      "bestTest = 0.7391428029\n",
      "bestIteration = 1238\n",
      "\n",
      "Shrink model to first 1239 iterations.\n",
      "저장 완료\n",
      "0:\ttest: 0.7214512\tbest: 0.7214512 (0)\ttotal: 110ms\tremaining: 5m 2s\n",
      "300:\ttest: 0.7376166\tbest: 0.7376166 (300)\ttotal: 28.7s\tremaining: 3m 53s\n",
      "600:\ttest: 0.7384604\tbest: 0.7384720 (595)\ttotal: 56s\tremaining: 3m 19s\n",
      "900:\ttest: 0.7386408\tbest: 0.7386408 (900)\ttotal: 1m 28s\tremaining: 3m 1s\n",
      "1200:\ttest: 0.7387344\tbest: 0.7387535 (1156)\ttotal: 2m\tremaining: 2m 35s\n",
      "1500:\ttest: 0.7387825\tbest: 0.7388020 (1487)\ttotal: 2m 33s\tremaining: 2m 7s\n"
     ]
    },
    {
     "name": "stderr",
     "output_type": "stream",
     "text": [
      "[I 2025-02-25 09:26:19,639] Trial 18 finished with value: 0.7388020412833027 and parameters: {'iterations': 2747, 'depth': 9, 'learning_rate': 0.023816234008989124, 'l2_leaf_reg': 70.64174190249958}. Best is trial 17 with value: 0.7391428028846678.\n"
     ]
    },
    {
     "name": "stdout",
     "output_type": "stream",
     "text": [
      "Stopped by overfitting detector  (300 iterations wait)\n",
      "\n",
      "bestTest = 0.7388020413\n",
      "bestIteration = 1487\n",
      "\n",
      "Shrink model to first 1488 iterations.\n",
      "0:\ttest: 0.7214471\tbest: 0.7214471 (0)\ttotal: 107ms\tremaining: 4m 53s\n",
      "300:\ttest: 0.7374691\tbest: 0.7374691 (300)\ttotal: 28s\tremaining: 3m 46s\n",
      "600:\ttest: 0.7384172\tbest: 0.7384172 (600)\ttotal: 56.3s\tremaining: 3m 20s\n",
      "900:\ttest: 0.7387857\tbest: 0.7387980 (898)\ttotal: 1m 28s\tremaining: 3m\n",
      "1200:\ttest: 0.7388918\tbest: 0.7389138 (1156)\ttotal: 2m 1s\tremaining: 2m 35s\n",
      "1500:\ttest: 0.7389430\tbest: 0.7389735 (1364)\ttotal: 2m 34s\tremaining: 2m 7s\n",
      "1800:\ttest: 0.7389021\tbest: 0.7389933 (1669)\ttotal: 3m 8s\tremaining: 1m 37s\n"
     ]
    },
    {
     "name": "stderr",
     "output_type": "stream",
     "text": [
      "[I 2025-02-25 09:29:47,025] Trial 19 finished with value: 0.738993314901856 and parameters: {'iterations': 2737, 'depth': 9, 'learning_rate': 0.021256821648897212, 'l2_leaf_reg': 21.65912588757876}. Best is trial 17 with value: 0.7391428028846678.\n"
     ]
    },
    {
     "name": "stdout",
     "output_type": "stream",
     "text": [
      "Stopped by overfitting detector  (300 iterations wait)\n",
      "\n",
      "bestTest = 0.7389933149\n",
      "bestIteration = 1669\n",
      "\n",
      "Shrink model to first 1670 iterations.\n",
      "0:\ttest: 0.7213958\tbest: 0.7213958 (0)\ttotal: 113ms\tremaining: 5m 22s\n",
      "300:\ttest: 0.7367631\tbest: 0.7367676 (298)\ttotal: 28.1s\tremaining: 3m 57s\n",
      "600:\ttest: 0.7368935\tbest: 0.7372700 (486)\ttotal: 57.8s\tremaining: 3m 36s\n"
     ]
    },
    {
     "name": "stderr",
     "output_type": "stream",
     "text": [
      "[I 2025-02-25 09:31:05,621] Trial 20 finished with value: 0.7372700416107579 and parameters: {'iterations': 2850, 'depth': 9, 'learning_rate': 0.0251348135029643, 'l2_leaf_reg': 0.011575085125604704}. Best is trial 17 with value: 0.7391428028846678.\n"
     ]
    },
    {
     "name": "stdout",
     "output_type": "stream",
     "text": [
      "Stopped by overfitting detector  (300 iterations wait)\n",
      "\n",
      "bestTest = 0.7372700416\n",
      "bestIteration = 486\n",
      "\n",
      "Shrink model to first 487 iterations.\n",
      "0:\ttest: 0.7214476\tbest: 0.7214476 (0)\ttotal: 110ms\tremaining: 4m 55s\n",
      "300:\ttest: 0.7373169\tbest: 0.7373169 (300)\ttotal: 28.1s\tremaining: 3m 43s\n",
      "600:\ttest: 0.7382691\tbest: 0.7382787 (598)\ttotal: 55.9s\tremaining: 3m 14s\n",
      "900:\ttest: 0.7386347\tbest: 0.7386395 (899)\ttotal: 1m 28s\tremaining: 2m 55s\n",
      "1200:\ttest: 0.7386530\tbest: 0.7387216 (998)\ttotal: 2m 1s\tremaining: 2m 30s\n",
      "1500:\ttest: 0.7385778\tbest: 0.7387335 (1291)\ttotal: 2m 34s\tremaining: 2m 2s\n"
     ]
    },
    {
     "name": "stderr",
     "output_type": "stream",
     "text": [
      "[I 2025-02-25 09:33:50,701] Trial 21 finished with value: 0.7387334521655451 and parameters: {'iterations': 2693, 'depth': 9, 'learning_rate': 0.021252075644464227, 'l2_leaf_reg': 20.704429400626612}. Best is trial 17 with value: 0.7391428028846678.\n"
     ]
    },
    {
     "name": "stdout",
     "output_type": "stream",
     "text": [
      "Stopped by overfitting detector  (300 iterations wait)\n",
      "\n",
      "bestTest = 0.7387334522\n",
      "bestIteration = 1291\n",
      "\n",
      "Shrink model to first 1292 iterations.\n",
      "0:\ttest: 0.7238821\tbest: 0.7238821 (0)\ttotal: 122ms\tremaining: 5m 13s\n",
      "300:\ttest: 0.7380605\tbest: 0.7380605 (300)\ttotal: 36.7s\tremaining: 4m 36s\n",
      "600:\ttest: 0.7382111\tbest: 0.7383649 (361)\ttotal: 1m 25s\tremaining: 4m 40s\n"
     ]
    },
    {
     "name": "stderr",
     "output_type": "stream",
     "text": [
      "[I 2025-02-25 09:35:26,997] Trial 22 finished with value: 0.7383648784770629 and parameters: {'iterations': 2565, 'depth': 10, 'learning_rate': 0.039934162916854254, 'l2_leaf_reg': 19.713646879009275}. Best is trial 17 with value: 0.7391428028846678.\n"
     ]
    },
    {
     "name": "stdout",
     "output_type": "stream",
     "text": [
      "Stopped by overfitting detector  (300 iterations wait)\n",
      "\n",
      "bestTest = 0.7383648785\n",
      "bestIteration = 361\n",
      "\n",
      "Shrink model to first 362 iterations.\n",
      "0:\ttest: 0.7214690\tbest: 0.7214690 (0)\ttotal: 110ms\tremaining: 5m 30s\n",
      "300:\ttest: 0.7369478\tbest: 0.7369478 (300)\ttotal: 28.3s\tremaining: 4m 13s\n",
      "600:\ttest: 0.7381279\tbest: 0.7381279 (592)\ttotal: 55.3s\tremaining: 3m 40s\n",
      "900:\ttest: 0.7385401\tbest: 0.7385468 (888)\ttotal: 1m 24s\tremaining: 3m 17s\n",
      "1200:\ttest: 0.7386758\tbest: 0.7386795 (1194)\ttotal: 1m 57s\tremaining: 2m 55s\n",
      "1500:\ttest: 0.7388029\tbest: 0.7388030 (1499)\ttotal: 2m 29s\tremaining: 2m 28s\n",
      "1800:\ttest: 0.7388653\tbest: 0.7388815 (1730)\ttotal: 3m 2s\tremaining: 2m 1s\n",
      "2100:\ttest: 0.7389012\tbest: 0.7389151 (2089)\ttotal: 3m 35s\tremaining: 1m 31s\n",
      "2400:\ttest: 0.7389461\tbest: 0.7389461 (2400)\ttotal: 4m 8s\tremaining: 1m 1s\n",
      "2700:\ttest: 0.7389880\tbest: 0.7389929 (2669)\ttotal: 4m 40s\tremaining: 30.5s\n"
     ]
    },
    {
     "name": "stderr",
     "output_type": "stream",
     "text": [
      "[I 2025-02-25 09:40:40,359] Trial 23 finished with value: 0.7389942520310051 and parameters: {'iterations': 2994, 'depth': 9, 'learning_rate': 0.0186327588411202, 'l2_leaf_reg': 87.08483537286484}. Best is trial 17 with value: 0.7391428028846678.\n"
     ]
    },
    {
     "name": "stdout",
     "output_type": "stream",
     "text": [
      "2993:\ttest: 0.7389624\tbest: 0.7389943 (2734)\ttotal: 5m 12s\tremaining: 0us\n",
      "\n",
      "bestTest = 0.738994252\n",
      "bestIteration = 2734\n",
      "\n",
      "Shrink model to first 2735 iterations.\n",
      "0:\ttest: 0.6988758\tbest: 0.6988758 (0)\ttotal: 63.6ms\tremaining: 3m\n",
      "300:\ttest: 0.7348728\tbest: 0.7348728 (300)\ttotal: 16.2s\tremaining: 2m 16s\n",
      "600:\ttest: 0.7369302\tbest: 0.7369302 (600)\ttotal: 33.2s\tremaining: 2m 3s\n",
      "900:\ttest: 0.7379499\tbest: 0.7379499 (900)\ttotal: 50.7s\tremaining: 1m 48s\n",
      "1200:\ttest: 0.7384733\tbest: 0.7384741 (1198)\ttotal: 1m 9s\tremaining: 1m 34s\n",
      "1500:\ttest: 0.7387444\tbest: 0.7387541 (1497)\ttotal: 1m 27s\tremaining: 1m 17s\n",
      "1800:\ttest: 0.7389310\tbest: 0.7389312 (1799)\ttotal: 1m 45s\tremaining: 1m\n",
      "2100:\ttest: 0.7391174\tbest: 0.7391177 (2098)\ttotal: 2m 4s\tremaining: 43.3s\n",
      "2400:\ttest: 0.7391834\tbest: 0.7391859 (2394)\ttotal: 2m 22s\tremaining: 25.8s\n",
      "2700:\ttest: 0.7392512\tbest: 0.7392577 (2681)\ttotal: 2m 40s\tremaining: 7.98s\n"
     ]
    },
    {
     "name": "stderr",
     "output_type": "stream",
     "text": [
      "[I 2025-02-25 09:43:29,973] Trial 24 finished with value: 0.7392676316640246 and parameters: {'iterations': 2835, 'depth': 5, 'learning_rate': 0.015538974502257122, 'l2_leaf_reg': 3.436670685232209}. Best is trial 24 with value: 0.7392676316640246.\n"
     ]
    },
    {
     "name": "stdout",
     "output_type": "stream",
     "text": [
      "2834:\ttest: 0.7392595\tbest: 0.7392676 (2817)\ttotal: 2m 49s\tremaining: 0us\n",
      "\n",
      "bestTest = 0.7392676317\n",
      "bestIteration = 2817\n",
      "\n",
      "Shrink model to first 2818 iterations.\n",
      "저장 완료\n",
      "0:\ttest: 0.6988758\tbest: 0.6988758 (0)\ttotal: 64.6ms\tremaining: 3m 1s\n",
      "300:\ttest: 0.7369148\tbest: 0.7369247 (295)\ttotal: 16.6s\tremaining: 2m 18s\n",
      "600:\ttest: 0.7384592\tbest: 0.7384795 (595)\ttotal: 34.8s\tremaining: 2m 7s\n",
      "900:\ttest: 0.7387496\tbest: 0.7387706 (886)\ttotal: 52.8s\tremaining: 1m 51s\n",
      "1200:\ttest: 0.7388044\tbest: 0.7388528 (1070)\ttotal: 1m 11s\tremaining: 1m 35s\n",
      "1500:\ttest: 0.7389425\tbest: 0.7389425 (1500)\ttotal: 1m 29s\tremaining: 1m 18s\n",
      "1800:\ttest: 0.7389173\tbest: 0.7389741 (1531)\ttotal: 1m 47s\tremaining: 1m\n"
     ]
    },
    {
     "name": "stderr",
     "output_type": "stream",
     "text": [
      "[I 2025-02-25 09:45:20,173] Trial 25 finished with value: 0.7389740997834151 and parameters: {'iterations': 2810, 'depth': 5, 'learning_rate': 0.037467769932323286, 'l2_leaf_reg': 2.8265001643810677}. Best is trial 24 with value: 0.7392676316640246.\n"
     ]
    },
    {
     "name": "stdout",
     "output_type": "stream",
     "text": [
      "Stopped by overfitting detector  (300 iterations wait)\n",
      "\n",
      "bestTest = 0.7389740998\n",
      "bestIteration = 1531\n",
      "\n",
      "Shrink model to first 1532 iterations.\n",
      "0:\ttest: 0.6988761\tbest: 0.6988761 (0)\ttotal: 65ms\tremaining: 2m 38s\n",
      "300:\ttest: 0.7288528\tbest: 0.7288528 (300)\ttotal: 15.8s\tremaining: 1m 52s\n",
      "600:\ttest: 0.7330083\tbest: 0.7330083 (600)\ttotal: 31.6s\tremaining: 1m 36s\n",
      "900:\ttest: 0.7348434\tbest: 0.7348434 (900)\ttotal: 48s\tremaining: 1m 22s\n",
      "1200:\ttest: 0.7358116\tbest: 0.7358116 (1200)\ttotal: 1m 4s\tremaining: 1m 7s\n",
      "1500:\ttest: 0.7364227\tbest: 0.7364244 (1499)\ttotal: 1m 21s\tremaining: 51.3s\n",
      "1800:\ttest: 0.7368430\tbest: 0.7368430 (1800)\ttotal: 1m 39s\tremaining: 35.3s\n",
      "2100:\ttest: 0.7372138\tbest: 0.7372138 (2100)\ttotal: 1m 56s\tremaining: 18.9s\n",
      "2400:\ttest: 0.7375504\tbest: 0.7375504 (2400)\ttotal: 2m 14s\tremaining: 2.29s\n"
     ]
    },
    {
     "name": "stderr",
     "output_type": "stream",
     "text": [
      "[I 2025-02-25 09:47:37,322] Trial 26 finished with value: 0.737606701286653 and parameters: {'iterations': 2442, 'depth': 5, 'learning_rate': 0.005495511100365703, 'l2_leaf_reg': 0.18614918524269514}. Best is trial 24 with value: 0.7392676316640246.\n"
     ]
    },
    {
     "name": "stdout",
     "output_type": "stream",
     "text": [
      "2441:\ttest: 0.7376067\tbest: 0.7376067 (2441)\ttotal: 2m 16s\tremaining: 0us\n",
      "\n",
      "bestTest = 0.7376067013\n",
      "bestIteration = 2441\n",
      "\n",
      "0:\ttest: 0.7130559\tbest: 0.7130559 (0)\ttotal: 75.3ms\tremaining: 3m 18s\n",
      "300:\ttest: 0.7351444\tbest: 0.7351444 (300)\ttotal: 18.9s\tremaining: 2m 26s\n",
      "600:\ttest: 0.7372224\tbest: 0.7372243 (595)\ttotal: 38.8s\tremaining: 2m 11s\n",
      "900:\ttest: 0.7380181\tbest: 0.7380181 (900)\ttotal: 59.5s\tremaining: 1m 54s\n",
      "1200:\ttest: 0.7384435\tbest: 0.7384435 (1200)\ttotal: 1m 21s\tremaining: 1m 37s\n",
      "1500:\ttest: 0.7387034\tbest: 0.7387034 (1500)\ttotal: 1m 42s\tremaining: 1m 17s\n",
      "1800:\ttest: 0.7388204\tbest: 0.7388332 (1774)\ttotal: 2m 4s\tremaining: 57.9s\n",
      "2100:\ttest: 0.7388346\tbest: 0.7388528 (1824)\ttotal: 2m 26s\tremaining: 37.4s\n"
     ]
    },
    {
     "name": "stderr",
     "output_type": "stream",
     "text": [
      "[I 2025-02-25 09:50:05,875] Trial 27 finished with value: 0.7388527892092533 and parameters: {'iterations': 2637, 'depth': 6, 'learning_rate': 0.015031205029540619, 'l2_leaf_reg': 1.061664951918972}. Best is trial 24 with value: 0.7392676316640246.\n"
     ]
    },
    {
     "name": "stdout",
     "output_type": "stream",
     "text": [
      "Stopped by overfitting detector  (300 iterations wait)\n",
      "\n",
      "bestTest = 0.7388527892\n",
      "bestIteration = 1824\n",
      "\n",
      "Shrink model to first 1825 iterations.\n",
      "0:\ttest: 0.6988758\tbest: 0.6988758 (0)\ttotal: 62.2ms\tremaining: 2m 56s\n",
      "300:\ttest: 0.7365504\tbest: 0.7365504 (300)\ttotal: 16.7s\tremaining: 2m 21s\n",
      "600:\ttest: 0.7381252\tbest: 0.7381259 (596)\ttotal: 34.6s\tremaining: 2m 9s\n",
      "900:\ttest: 0.7385827\tbest: 0.7385827 (900)\ttotal: 52.7s\tremaining: 1m 53s\n",
      "1200:\ttest: 0.7387265\tbest: 0.7387276 (1190)\ttotal: 1m 10s\tremaining: 1m 36s\n",
      "1500:\ttest: 0.7388778\tbest: 0.7388816 (1427)\ttotal: 1m 29s\tremaining: 1m 19s\n",
      "1800:\ttest: 0.7388847\tbest: 0.7389504 (1695)\ttotal: 1m 47s\tremaining: 1m 2s\n"
     ]
    },
    {
     "name": "stderr",
     "output_type": "stream",
     "text": [
      "[I 2025-02-25 09:52:05,794] Trial 28 finished with value: 0.7389504412432889 and parameters: {'iterations': 2843, 'depth': 5, 'learning_rate': 0.03028014643683141, 'l2_leaf_reg': 7.485819479391704}. Best is trial 24 with value: 0.7392676316640246.\n"
     ]
    },
    {
     "name": "stdout",
     "output_type": "stream",
     "text": [
      "Stopped by overfitting detector  (300 iterations wait)\n",
      "\n",
      "bestTest = 0.7389504412\n",
      "bestIteration = 1695\n",
      "\n",
      "Shrink model to first 1696 iterations.\n",
      "0:\ttest: 0.7130559\tbest: 0.7130559 (0)\ttotal: 72ms\tremaining: 2m 44s\n",
      "300:\ttest: 0.7370328\tbest: 0.7370328 (300)\ttotal: 19.2s\tremaining: 2m 6s\n",
      "600:\ttest: 0.7383354\tbest: 0.7383364 (598)\ttotal: 39.7s\tremaining: 1m 50s\n",
      "900:\ttest: 0.7386521\tbest: 0.7386696 (882)\ttotal: 1m 1s\tremaining: 1m 34s\n",
      "1200:\ttest: 0.7388250\tbest: 0.7388264 (1198)\ttotal: 1m 23s\tremaining: 1m 15s\n",
      "1500:\ttest: 0.7389029\tbest: 0.7389385 (1425)\ttotal: 1m 45s\tremaining: 54.7s\n"
     ]
    },
    {
     "name": "stderr",
     "output_type": "stream",
     "text": [
      "[I 2025-02-25 09:54:07,484] Trial 29 finished with value: 0.7389385007884115 and parameters: {'iterations': 2281, 'depth': 6, 'learning_rate': 0.026697866282258762, 'l2_leaf_reg': 9.327962137820585}. Best is trial 24 with value: 0.7392676316640246.\n"
     ]
    },
    {
     "name": "stdout",
     "output_type": "stream",
     "text": [
      "Stopped by overfitting detector  (300 iterations wait)\n",
      "\n",
      "bestTest = 0.7389385008\n",
      "bestIteration = 1425\n",
      "\n",
      "Shrink model to first 1426 iterations.\n",
      "0:\ttest: 0.6988761\tbest: 0.6988761 (0)\ttotal: 63.8ms\tremaining: 2m 37s\n",
      "300:\ttest: 0.7373250\tbest: 0.7373250 (300)\ttotal: 16.9s\tremaining: 2m 2s\n",
      "600:\ttest: 0.7385019\tbest: 0.7385151 (599)\ttotal: 35.2s\tremaining: 1m 49s\n",
      "900:\ttest: 0.7385596\tbest: 0.7386552 (749)\ttotal: 53.6s\tremaining: 1m 33s\n",
      "1200:\ttest: 0.7387731\tbest: 0.7387731 (1200)\ttotal: 1m 11s\tremaining: 1m 15s\n",
      "1500:\ttest: 0.7388605\tbest: 0.7389271 (1347)\ttotal: 1m 30s\tremaining: 58.3s\n"
     ]
    },
    {
     "name": "stderr",
     "output_type": "stream",
     "text": [
      "[I 2025-02-25 09:55:47,356] Trial 30 finished with value: 0.7389271003740607 and parameters: {'iterations': 2468, 'depth': 5, 'learning_rate': 0.04172271583802731, 'l2_leaf_reg': 0.1398337874202976}. Best is trial 24 with value: 0.7392676316640246.\n"
     ]
    },
    {
     "name": "stdout",
     "output_type": "stream",
     "text": [
      "Stopped by overfitting detector  (300 iterations wait)\n",
      "\n",
      "bestTest = 0.7389271004\n",
      "bestIteration = 1347\n",
      "\n",
      "Shrink model to first 1348 iterations.\n",
      "0:\ttest: 0.7238813\tbest: 0.7238813 (0)\ttotal: 123ms\tremaining: 6m 8s\n",
      "300:\ttest: 0.7370081\tbest: 0.7370081 (300)\ttotal: 36.7s\tremaining: 5m 28s\n",
      "600:\ttest: 0.7382037\tbest: 0.7382139 (593)\ttotal: 1m 11s\tremaining: 4m 46s\n",
      "900:\ttest: 0.7386144\tbest: 0.7386247 (885)\ttotal: 1m 54s\tremaining: 4m 26s\n",
      "1200:\ttest: 0.7387006\tbest: 0.7387153 (1191)\ttotal: 2m 49s\tremaining: 4m 13s\n",
      "1500:\ttest: 0.7387874\tbest: 0.7388052 (1497)\ttotal: 3m 42s\tremaining: 3m 42s\n",
      "1800:\ttest: 0.7387647\tbest: 0.7388140 (1581)\ttotal: 4m 36s\tremaining: 3m 3s\n"
     ]
    },
    {
     "name": "stderr",
     "output_type": "stream",
     "text": [
      "[I 2025-02-25 10:00:38,922] Trial 31 finished with value: 0.7388140293888148 and parameters: {'iterations': 2999, 'depth': 10, 'learning_rate': 0.017195763213237663, 'l2_leaf_reg': 92.5128754218005}. Best is trial 24 with value: 0.7392676316640246.\n"
     ]
    },
    {
     "name": "stdout",
     "output_type": "stream",
     "text": [
      "Stopped by overfitting detector  (300 iterations wait)\n",
      "\n",
      "bestTest = 0.7388140294\n",
      "bestIteration = 1581\n",
      "\n",
      "Shrink model to first 1582 iterations.\n",
      "0:\ttest: 0.7202482\tbest: 0.7202482 (0)\ttotal: 96.8ms\tremaining: 4m 39s\n",
      "300:\ttest: 0.7352621\tbest: 0.7352621 (300)\ttotal: 24.4s\tremaining: 3m 29s\n",
      "600:\ttest: 0.7372019\tbest: 0.7372019 (600)\ttotal: 49.4s\tremaining: 3m 8s\n",
      "900:\ttest: 0.7378315\tbest: 0.7378418 (888)\ttotal: 1m 13s\tremaining: 2m 41s\n",
      "1200:\ttest: 0.7382819\tbest: 0.7382819 (1200)\ttotal: 1m 37s\tremaining: 2m 17s\n",
      "1500:\ttest: 0.7384604\tbest: 0.7384604 (1500)\ttotal: 2m 6s\tremaining: 1m 56s\n",
      "1800:\ttest: 0.7386908\tbest: 0.7386924 (1794)\ttotal: 2m 34s\tremaining: 1m 33s\n",
      "2100:\ttest: 0.7388484\tbest: 0.7388497 (2096)\ttotal: 3m 3s\tremaining: 1m 8s\n",
      "2400:\ttest: 0.7389859\tbest: 0.7389866 (2394)\ttotal: 3m 31s\tremaining: 42.8s\n",
      "2700:\ttest: 0.7390477\tbest: 0.7390477 (2699)\ttotal: 3m 59s\tremaining: 16.5s\n"
     ]
    },
    {
     "name": "stderr",
     "output_type": "stream",
     "text": [
      "[I 2025-02-25 10:04:57,399] Trial 32 finished with value: 0.7390834976989031 and parameters: {'iterations': 2887, 'depth': 8, 'learning_rate': 0.011209133666103328, 'l2_leaf_reg': 36.19803449460895}. Best is trial 24 with value: 0.7392676316640246.\n"
     ]
    },
    {
     "name": "stdout",
     "output_type": "stream",
     "text": [
      "2886:\ttest: 0.7390819\tbest: 0.7390835 (2876)\ttotal: 4m 17s\tremaining: 0us\n",
      "\n",
      "bestTest = 0.7390834977\n",
      "bestIteration = 2876\n",
      "\n",
      "Shrink model to first 2877 iterations.\n",
      "0:\ttest: 0.7202441\tbest: 0.7202441 (0)\ttotal: 99.3ms\tremaining: 4m 41s\n",
      "300:\ttest: 0.7351121\tbest: 0.7351121 (300)\ttotal: 24.4s\tremaining: 3m 25s\n",
      "600:\ttest: 0.7371089\tbest: 0.7371102 (599)\ttotal: 49.8s\tremaining: 3m 5s\n",
      "900:\ttest: 0.7378800\tbest: 0.7378800 (900)\ttotal: 1m 14s\tremaining: 2m 40s\n",
      "1200:\ttest: 0.7383016\tbest: 0.7383030 (1197)\ttotal: 1m 38s\tremaining: 2m 14s\n",
      "1500:\ttest: 0.7385222\tbest: 0.7385222 (1500)\ttotal: 2m 5s\tremaining: 1m 51s\n",
      "1800:\ttest: 0.7387362\tbest: 0.7387370 (1798)\ttotal: 2m 34s\tremaining: 1m 28s\n",
      "2100:\ttest: 0.7389039\tbest: 0.7389072 (2080)\ttotal: 3m 2s\tremaining: 1m 4s\n",
      "2400:\ttest: 0.7389804\tbest: 0.7389846 (2394)\ttotal: 3m 31s\tremaining: 38.4s\n",
      "2700:\ttest: 0.7390382\tbest: 0.7390644 (2619)\ttotal: 4m 1s\tremaining: 12.1s\n"
     ]
    },
    {
     "name": "stderr",
     "output_type": "stream",
     "text": [
      "[I 2025-02-25 10:09:11,866] Trial 33 finished with value: 0.7390713944376905 and parameters: {'iterations': 2837, 'depth': 8, 'learning_rate': 0.010211077755443604, 'l2_leaf_reg': 30.495746152786616}. Best is trial 24 with value: 0.7392676316640246.\n"
     ]
    },
    {
     "name": "stdout",
     "output_type": "stream",
     "text": [
      "2836:\ttest: 0.7390667\tbest: 0.7390714 (2784)\ttotal: 4m 13s\tremaining: 0us\n",
      "\n",
      "bestTest = 0.7390713944\n",
      "bestIteration = 2784\n",
      "\n",
      "Shrink model to first 2785 iterations.\n",
      "0:\ttest: 0.7202603\tbest: 0.7202603 (0)\ttotal: 95.4ms\tremaining: 4m 9s\n",
      "300:\ttest: 0.7353394\tbest: 0.7353394 (300)\ttotal: 24.4s\tremaining: 3m 7s\n",
      "600:\ttest: 0.7373123\tbest: 0.7373123 (600)\ttotal: 49.8s\tremaining: 2m 46s\n",
      "900:\ttest: 0.7380334\tbest: 0.7380334 (900)\ttotal: 1m 15s\tremaining: 2m 22s\n",
      "1200:\ttest: 0.7385131\tbest: 0.7385205 (1199)\ttotal: 1m 41s\tremaining: 1m 58s\n",
      "1500:\ttest: 0.7389234\tbest: 0.7389241 (1489)\ttotal: 2m 9s\tremaining: 1m 36s\n",
      "1800:\ttest: 0.7391970\tbest: 0.7392004 (1798)\ttotal: 2m 38s\tremaining: 1m 11s\n",
      "2100:\ttest: 0.7393445\tbest: 0.7393547 (2095)\ttotal: 3m 8s\tremaining: 46s\n",
      "2400:\ttest: 0.7393345\tbest: 0.7393700 (2149)\ttotal: 3m 37s\tremaining: 19.4s\n"
     ]
    },
    {
     "name": "stderr",
     "output_type": "stream",
     "text": [
      "[I 2025-02-25 10:12:54,299] Trial 34 finished with value: 0.7393699931691227 and parameters: {'iterations': 2615, 'depth': 8, 'learning_rate': 0.010302665440193905, 'l2_leaf_reg': 3.9127526633552017}. Best is trial 34 with value: 0.7393699931691227.\n"
     ]
    },
    {
     "name": "stdout",
     "output_type": "stream",
     "text": [
      "Stopped by overfitting detector  (300 iterations wait)\n",
      "\n",
      "bestTest = 0.7393699932\n",
      "bestIteration = 2149\n",
      "\n",
      "Shrink model to first 2150 iterations.\n",
      "저장 완료\n",
      "0:\ttest: 0.7199872\tbest: 0.7199872 (0)\ttotal: 82.3ms\tremaining: 3m 15s\n",
      "300:\ttest: 0.7318811\tbest: 0.7318811 (300)\ttotal: 21.2s\tremaining: 2m 26s\n",
      "600:\ttest: 0.7349547\tbest: 0.7349547 (600)\ttotal: 42.9s\tremaining: 2m 6s\n",
      "900:\ttest: 0.7363558\tbest: 0.7363558 (900)\ttotal: 1m 5s\tremaining: 1m 46s\n",
      "1200:\ttest: 0.7371320\tbest: 0.7371320 (1200)\ttotal: 1m 27s\tremaining: 1m 26s\n",
      "1500:\ttest: 0.7375582\tbest: 0.7375600 (1499)\ttotal: 1m 50s\tremaining: 1m 4s\n",
      "1800:\ttest: 0.7378790\tbest: 0.7378790 (1800)\ttotal: 2m 13s\tremaining: 42.8s\n",
      "2100:\ttest: 0.7381472\tbest: 0.7381472 (2100)\ttotal: 2m 36s\tremaining: 20.7s\n"
     ]
    },
    {
     "name": "stderr",
     "output_type": "stream",
     "text": [
      "[I 2025-02-25 10:15:54,464] Trial 35 finished with value: 0.7383717203140279 and parameters: {'iterations': 2379, 'depth': 7, 'learning_rate': 0.006038915198077272, 'l2_leaf_reg': 4.279154834882652}. Best is trial 34 with value: 0.7393699931691227.\n"
     ]
    },
    {
     "name": "stdout",
     "output_type": "stream",
     "text": [
      "2378:\ttest: 0.7383717\tbest: 0.7383717 (2378)\ttotal: 2m 59s\tremaining: 0us\n",
      "\n",
      "bestTest = 0.7383717203\n",
      "bestIteration = 2378\n",
      "\n",
      "0:\ttest: 0.6912624\tbest: 0.6912624 (0)\ttotal: 54.9ms\tremaining: 1m 59s\n",
      "300:\ttest: 0.7356738\tbest: 0.7356738 (300)\ttotal: 13.6s\tremaining: 1m 24s\n",
      "600:\ttest: 0.7376661\tbest: 0.7376661 (600)\ttotal: 27.9s\tremaining: 1m 13s\n",
      "900:\ttest: 0.7383215\tbest: 0.7383215 (900)\ttotal: 42.6s\tremaining: 1m\n",
      "1200:\ttest: 0.7386259\tbest: 0.7386380 (1179)\ttotal: 57.5s\tremaining: 47s\n",
      "1500:\ttest: 0.7387915\tbest: 0.7388014 (1495)\ttotal: 1m 12s\tremaining: 32.8s\n",
      "1800:\ttest: 0.7389155\tbest: 0.7389226 (1792)\ttotal: 1m 27s\tremaining: 18.4s\n",
      "2100:\ttest: 0.7390319\tbest: 0.7390348 (2079)\ttotal: 1m 42s\tremaining: 3.9s\n"
     ]
    },
    {
     "name": "stderr",
     "output_type": "stream",
     "text": [
      "[I 2025-02-25 10:17:41,231] Trial 36 finished with value: 0.7390387021314033 and parameters: {'iterations': 2181, 'depth': 4, 'learning_rate': 0.026967336395123907, 'l2_leaf_reg': 0.8504199380630656}. Best is trial 34 with value: 0.7393699931691227.\n"
     ]
    },
    {
     "name": "stdout",
     "output_type": "stream",
     "text": [
      "2180:\ttest: 0.7389846\tbest: 0.7390387 (2103)\ttotal: 1m 46s\tremaining: 0us\n",
      "\n",
      "bestTest = 0.7390387021\n",
      "bestIteration = 2103\n",
      "\n",
      "Shrink model to first 2104 iterations.\n",
      "0:\ttest: 0.7130559\tbest: 0.7130559 (0)\ttotal: 71.1ms\tremaining: 3m 2s\n",
      "300:\ttest: 0.7350761\tbest: 0.7350761 (300)\ttotal: 18.7s\tremaining: 2m 21s\n",
      "600:\ttest: 0.7370894\tbest: 0.7370894 (600)\ttotal: 38.3s\tremaining: 2m 5s\n",
      "900:\ttest: 0.7379636\tbest: 0.7379636 (900)\ttotal: 58.8s\tremaining: 1m 48s\n",
      "1200:\ttest: 0.7385685\tbest: 0.7385687 (1199)\ttotal: 1m 20s\tremaining: 1m 31s\n",
      "1500:\ttest: 0.7387850\tbest: 0.7387946 (1481)\ttotal: 1m 42s\tremaining: 1m 12s\n",
      "1800:\ttest: 0.7389054\tbest: 0.7389056 (1791)\ttotal: 2m 3s\tremaining: 52.8s\n",
      "2100:\ttest: 0.7390145\tbest: 0.7390145 (2100)\ttotal: 2m 25s\tremaining: 32.5s\n",
      "2400:\ttest: 0.7390755\tbest: 0.7390755 (2400)\ttotal: 2m 47s\tremaining: 11.8s\n"
     ]
    },
    {
     "name": "stderr",
     "output_type": "stream",
     "text": [
      "[I 2025-02-25 10:20:41,257] Trial 37 finished with value: 0.7391153958279455 and parameters: {'iterations': 2570, 'depth': 6, 'learning_rate': 0.014153438034995938, 'l2_leaf_reg': 2.723054336333761}. Best is trial 34 with value: 0.7393699931691227.\n"
     ]
    },
    {
     "name": "stdout",
     "output_type": "stream",
     "text": [
      "2569:\ttest: 0.7391032\tbest: 0.7391154 (2431)\ttotal: 2m 59s\tremaining: 0us\n",
      "\n",
      "bestTest = 0.7391153958\n",
      "bestIteration = 2431\n",
      "\n",
      "Shrink model to first 2432 iterations.\n",
      "0:\ttest: 0.7199872\tbest: 0.7199872 (0)\ttotal: 111ms\tremaining: 4m 56s\n",
      "300:\ttest: 0.7386121\tbest: 0.7387071 (278)\ttotal: 23.6s\tremaining: 3m 5s\n"
     ]
    },
    {
     "name": "stderr",
     "output_type": "stream",
     "text": [
      "[I 2025-02-25 10:21:28,259] Trial 38 finished with value: 0.73870705768481 and parameters: {'iterations': 2667, 'depth': 7, 'learning_rate': 0.08029122983652683, 'l2_leaf_reg': 10.50313238023136}. Best is trial 34 with value: 0.7393699931691227.\n"
     ]
    },
    {
     "name": "stdout",
     "output_type": "stream",
     "text": [
      "Stopped by overfitting detector  (300 iterations wait)\n",
      "\n",
      "bestTest = 0.7387070577\n",
      "bestIteration = 278\n",
      "\n",
      "Shrink model to first 279 iterations.\n",
      "0:\ttest: 0.6912624\tbest: 0.6912624 (0)\ttotal: 52.7ms\tremaining: 2m 5s\n",
      "300:\ttest: 0.7301768\tbest: 0.7301768 (300)\ttotal: 12.7s\tremaining: 1m 27s\n",
      "600:\ttest: 0.7341355\tbest: 0.7341355 (600)\ttotal: 26.1s\tremaining: 1m 17s\n",
      "900:\ttest: 0.7357102\tbest: 0.7357102 (900)\ttotal: 39.7s\tremaining: 1m 5s\n",
      "1200:\ttest: 0.7365499\tbest: 0.7365499 (1200)\ttotal: 53.7s\tremaining: 52.6s\n",
      "1500:\ttest: 0.7371837\tbest: 0.7371837 (1500)\ttotal: 1m 7s\tremaining: 39.6s\n",
      "1800:\ttest: 0.7376534\tbest: 0.7376539 (1793)\ttotal: 1m 22s\tremaining: 26.4s\n",
      "2100:\ttest: 0.7379603\tbest: 0.7379603 (2100)\ttotal: 1m 36s\tremaining: 12.8s\n"
     ]
    },
    {
     "name": "stderr",
     "output_type": "stream",
     "text": [
      "[I 2025-02-25 10:23:19,137] Trial 39 finished with value: 0.7381372394824646 and parameters: {'iterations': 2378, 'depth': 4, 'learning_rate': 0.00871662626507212, 'l2_leaf_reg': 0.03872668540501704}. Best is trial 34 with value: 0.7393699931691227.\n",
      "[I 2025-02-25 10:23:19,143] A new study created in memory with name: no-name-b06ca39c-5507-48c4-832d-853009d179f9\n"
     ]
    },
    {
     "name": "stdout",
     "output_type": "stream",
     "text": [
      "2377:\ttest: 0.7381372\tbest: 0.7381372 (2377)\ttotal: 1m 50s\tremaining: 0us\n",
      "\n",
      "bestTest = 0.7381372395\n",
      "bestIteration = 2377\n",
      "\n"
     ]
    },
    {
     "name": "stderr",
     "output_type": "stream",
     "text": [
      "[I 2025-02-25 10:23:42,196] Trial 0 finished with value: 0.7277101687629822 and parameters: {'num_iterations': 2366, 'objective': 'binary', 'metric': 'auc', 'verbose': -1, 'learning_rate': 0.0652646236447618, 'n_estimators': 236, 'min_child_samples': 45, 'subsample': 0.7, 'colsample_bytree': 0.5}. Best is trial 0 with value: 0.7277101687629822.\n",
      "[I 2025-02-25 10:23:59,066] Trial 1 finished with value: 0.7382859729968936 and parameters: {'num_iterations': 1510, 'objective': 'binary', 'metric': 'auc', 'verbose': -1, 'learning_rate': 0.005231880959249543, 'n_estimators': 1411, 'min_child_samples': 10, 'subsample': 1.0, 'colsample_bytree': 0.5}. Best is trial 1 with value: 0.7382859729968936.\n",
      "[I 2025-02-25 10:24:18,595] Trial 2 finished with value: 0.7376886564074426 and parameters: {'num_iterations': 2334, 'objective': 'binary', 'metric': 'auc', 'verbose': -1, 'learning_rate': 0.006578527777128852, 'n_estimators': 931, 'min_child_samples': 15, 'subsample': 0.5, 'colsample_bytree': 1.0}. Best is trial 1 with value: 0.7382859729968936.\n",
      "[I 2025-02-25 10:24:34,785] Trial 3 finished with value: 0.7382907023223871 and parameters: {'num_iterations': 1620, 'objective': 'binary', 'metric': 'auc', 'verbose': -1, 'learning_rate': 0.0058823249237283685, 'n_estimators': 837, 'min_child_samples': 10, 'subsample': 0.9, 'colsample_bytree': 0.6}. Best is trial 3 with value: 0.7382907023223871.\n",
      "[I 2025-02-25 10:24:51,082] Trial 4 finished with value: 0.7379760929776974 and parameters: {'num_iterations': 1997, 'objective': 'binary', 'metric': 'auc', 'verbose': -1, 'learning_rate': 0.010907507425244923, 'n_estimators': 1597, 'min_child_samples': 50, 'subsample': 0.6, 'colsample_bytree': 0.8}. Best is trial 3 with value: 0.7382907023223871.\n",
      "[I 2025-02-25 10:25:13,531] Trial 5 finished with value: 0.7347560536875254 and parameters: {'num_iterations': 2909, 'objective': 'binary', 'metric': 'auc', 'verbose': -1, 'learning_rate': 0.019760591962733942, 'n_estimators': 612, 'min_child_samples': 30, 'subsample': 0.7, 'colsample_bytree': 0.9}. Best is trial 3 with value: 0.7382907023223871.\n",
      "[I 2025-02-25 10:25:34,117] Trial 6 finished with value: 0.735811284934626 and parameters: {'num_iterations': 2639, 'objective': 'binary', 'metric': 'auc', 'verbose': -1, 'learning_rate': 0.017862094446750985, 'n_estimators': 794, 'min_child_samples': 35, 'subsample': 1.0, 'colsample_bytree': 0.8}. Best is trial 3 with value: 0.7382907023223871.\n",
      "[I 2025-02-25 10:25:50,496] Trial 7 finished with value: 0.7374796766072138 and parameters: {'num_iterations': 1580, 'objective': 'binary', 'metric': 'auc', 'verbose': -1, 'learning_rate': 0.01776722177611332, 'n_estimators': 529, 'min_child_samples': 25, 'subsample': 0.8, 'colsample_bytree': 0.5}. Best is trial 3 with value: 0.7382907023223871.\n",
      "[I 2025-02-25 10:26:07,814] Trial 8 finished with value: 0.7341503267610507 and parameters: {'num_iterations': 1911, 'objective': 'binary', 'metric': 'auc', 'verbose': -1, 'learning_rate': 0.0304747553332844, 'n_estimators': 1328, 'min_child_samples': 10, 'subsample': 0.7, 'colsample_bytree': 0.6}. Best is trial 3 with value: 0.7382907023223871.\n",
      "[I 2025-02-25 10:26:35,113] Trial 9 finished with value: 0.7340279281640633 and parameters: {'num_iterations': 2739, 'objective': 'binary', 'metric': 'auc', 'verbose': -1, 'learning_rate': 0.02691531614176271, 'n_estimators': 1438, 'min_child_samples': 20, 'subsample': 0.6, 'colsample_bytree': 0.5}. Best is trial 3 with value: 0.7382907023223871.\n",
      "[I 2025-02-25 10:26:49,610] Trial 10 finished with value: 0.7287127579714032 and parameters: {'num_iterations': 1883, 'objective': 'binary', 'metric': 'auc', 'verbose': -1, 'learning_rate': 0.08223556891145911, 'n_estimators': 1917, 'min_child_samples': 40, 'subsample': 0.9, 'colsample_bytree': 0.7}. Best is trial 3 with value: 0.7382907023223871.\n",
      "[I 2025-02-25 10:27:04,989] Trial 11 finished with value: 0.7384200420284951 and parameters: {'num_iterations': 1513, 'objective': 'binary', 'metric': 'auc', 'verbose': -1, 'learning_rate': 0.005340229419903739, 'n_estimators': 1206, 'min_child_samples': 10, 'subsample': 1.0, 'colsample_bytree': 0.6}. Best is trial 11 with value: 0.7384200420284951.\n",
      "[I 2025-02-25 10:27:19,772] Trial 12 finished with value: 0.7384021770113706 and parameters: {'num_iterations': 1717, 'objective': 'binary', 'metric': 'auc', 'verbose': -1, 'learning_rate': 0.008807202863131344, 'n_estimators': 1093, 'min_child_samples': 20, 'subsample': 0.9, 'colsample_bytree': 0.7}. Best is trial 11 with value: 0.7384200420284951.\n",
      "[I 2025-02-25 10:27:34,858] Trial 13 finished with value: 0.7383439955864076 and parameters: {'num_iterations': 1779, 'objective': 'binary', 'metric': 'auc', 'verbose': -1, 'learning_rate': 0.010172210826878539, 'n_estimators': 1108, 'min_child_samples': 20, 'subsample': 0.9, 'colsample_bytree': 0.7}. Best is trial 11 with value: 0.7384200420284951.\n",
      "[I 2025-02-25 10:27:55,258] Trial 14 finished with value: 0.7379899315161902 and parameters: {'num_iterations': 2165, 'objective': 'binary', 'metric': 'auc', 'verbose': -1, 'learning_rate': 0.009457571486660106, 'n_estimators': 1215, 'min_child_samples': 20, 'subsample': 1.0, 'colsample_bytree': 0.6}. Best is trial 11 with value: 0.7384200420284951.\n",
      "[I 2025-02-25 10:28:10,281] Trial 15 finished with value: 0.7384612995363689 and parameters: {'num_iterations': 1742, 'objective': 'binary', 'metric': 'auc', 'verbose': -1, 'learning_rate': 0.008303365162986591, 'n_estimators': 1741, 'min_child_samples': 25, 'subsample': 0.8, 'colsample_bytree': 0.7}. Best is trial 15 with value: 0.7384612995363689.\n",
      "[I 2025-02-25 10:28:27,319] Trial 16 finished with value: 0.7373250820647173 and parameters: {'num_iterations': 2107, 'objective': 'binary', 'metric': 'auc', 'verbose': -1, 'learning_rate': 0.012765396262269125, 'n_estimators': 1975, 'min_child_samples': 30, 'subsample': 0.8, 'colsample_bytree': 0.8}. Best is trial 15 with value: 0.7384612995363689.\n",
      "[I 2025-02-25 10:28:43,058] Trial 17 finished with value: 0.7327653848889482 and parameters: {'num_iterations': 1769, 'objective': 'binary', 'metric': 'auc', 'verbose': -1, 'learning_rate': 0.04805408751858705, 'n_estimators': 1696, 'min_child_samples': 35, 'subsample': 0.8, 'colsample_bytree': 0.6}. Best is trial 15 with value: 0.7384612995363689.\n",
      "[I 2025-02-25 10:28:57,680] Trial 18 finished with value: 0.7384697376695961 and parameters: {'num_iterations': 1663, 'objective': 'binary', 'metric': 'auc', 'verbose': -1, 'learning_rate': 0.007326624275259349, 'n_estimators': 1648, 'min_child_samples': 15, 'subsample': 1.0, 'colsample_bytree': 0.7}. Best is trial 18 with value: 0.7384697376695961.\n",
      "[I 2025-02-25 10:29:18,130] Trial 19 finished with value: 0.7378804859500674 and parameters: {'num_iterations': 2481, 'objective': 'binary', 'metric': 'auc', 'verbose': -1, 'learning_rate': 0.007593708030559482, 'n_estimators': 1725, 'min_child_samples': 25, 'subsample': 0.5, 'colsample_bytree': 0.9}. Best is trial 18 with value: 0.7384697376695961.\n",
      "[I 2025-02-25 10:29:34,310] Trial 20 finished with value: 0.7360699325797523 and parameters: {'num_iterations': 2004, 'objective': 'binary', 'metric': 'auc', 'verbose': -1, 'learning_rate': 0.01411888494398949, 'n_estimators': 1561, 'min_child_samples': 15, 'subsample': 0.6, 'colsample_bytree': 0.9}. Best is trial 18 with value: 0.7384697376695961.\n",
      "[I 2025-02-25 10:29:48,020] Trial 21 finished with value: 0.7383273893402162 and parameters: {'num_iterations': 1507, 'objective': 'binary', 'metric': 'auc', 'verbose': -1, 'learning_rate': 0.005328518996316781, 'n_estimators': 1842, 'min_child_samples': 15, 'subsample': 1.0, 'colsample_bytree': 0.7}. Best is trial 18 with value: 0.7384697376695961.\n",
      "[I 2025-02-25 10:30:04,380] Trial 22 finished with value: 0.7385635736819699 and parameters: {'num_iterations': 1668, 'objective': 'binary', 'metric': 'auc', 'verbose': -1, 'learning_rate': 0.007283122901399725, 'n_estimators': 1532, 'min_child_samples': 15, 'subsample': 0.9, 'colsample_bytree': 0.6}. Best is trial 22 with value: 0.7385635736819699.\n",
      "[I 2025-02-25 10:30:18,901] Trial 23 finished with value: 0.7383112159206234 and parameters: {'num_iterations': 1673, 'objective': 'binary', 'metric': 'auc', 'verbose': -1, 'learning_rate': 0.007974300312526716, 'n_estimators': 1784, 'min_child_samples': 25, 'subsample': 0.9, 'colsample_bytree': 0.7}. Best is trial 22 with value: 0.7385635736819699.\n",
      "[I 2025-02-25 10:30:33,680] Trial 24 finished with value: 0.7371133861783108 and parameters: {'num_iterations': 1808, 'objective': 'binary', 'metric': 'auc', 'verbose': -1, 'learning_rate': 0.013763055533112498, 'n_estimators': 1551, 'min_child_samples': 15, 'subsample': 0.8, 'colsample_bytree': 0.8}. Best is trial 22 with value: 0.7385635736819699.\n",
      "[I 2025-02-25 10:30:51,588] Trial 25 finished with value: 0.7376944062506959 and parameters: {'num_iterations': 1916, 'objective': 'binary', 'metric': 'auc', 'verbose': -1, 'learning_rate': 0.01241812169267787, 'n_estimators': 1662, 'min_child_samples': 25, 'subsample': 0.9, 'colsample_bytree': 0.6}. Best is trial 22 with value: 0.7385635736819699.\n",
      "[I 2025-02-25 10:31:06,344] Trial 26 finished with value: 0.7384975060769648 and parameters: {'num_iterations': 1682, 'objective': 'binary', 'metric': 'auc', 'verbose': -1, 'learning_rate': 0.0070319925342010176, 'n_estimators': 1461, 'min_child_samples': 15, 'subsample': 0.8, 'colsample_bytree': 0.7}. Best is trial 22 with value: 0.7385635736819699.\n",
      "[I 2025-02-25 10:31:26,503] Trial 27 finished with value: 0.7384890639728513 and parameters: {'num_iterations': 2082, 'objective': 'binary', 'metric': 'auc', 'verbose': -1, 'learning_rate': 0.00690770775491016, 'n_estimators': 1392, 'min_child_samples': 15, 'subsample': 0.9, 'colsample_bytree': 0.6}. Best is trial 22 with value: 0.7385635736819699.\n",
      "[I 2025-02-25 10:31:45,517] Trial 28 finished with value: 0.7323954134485149 and parameters: {'num_iterations': 2140, 'objective': 'binary', 'metric': 'auc', 'verbose': -1, 'learning_rate': 0.03898130569041551, 'n_estimators': 1391, 'min_child_samples': 20, 'subsample': 0.9, 'colsample_bytree': 0.6}. Best is trial 22 with value: 0.7385635736819699.\n",
      "[I 2025-02-25 10:32:09,678] Trial 29 finished with value: 0.7385527728714391 and parameters: {'num_iterations': 2260, 'objective': 'binary', 'metric': 'auc', 'verbose': -1, 'learning_rate': 0.007025497027428075, 'n_estimators': 1285, 'min_child_samples': 10, 'subsample': 0.7, 'colsample_bytree': 0.5}. Best is trial 22 with value: 0.7385635736819699.\n",
      "[I 2025-02-25 10:32:33,461] Trial 30 finished with value: 0.7378509346147839 and parameters: {'num_iterations': 2275, 'objective': 'binary', 'metric': 'auc', 'verbose': -1, 'learning_rate': 0.010311381490653223, 'n_estimators': 104, 'min_child_samples': 10, 'subsample': 0.7, 'colsample_bytree': 0.5}. Best is trial 22 with value: 0.7385635736819699.\n",
      "[I 2025-02-25 10:33:00,386] Trial 31 finished with value: 0.738455307469056 and parameters: {'num_iterations': 2539, 'objective': 'binary', 'metric': 'auc', 'verbose': -1, 'learning_rate': 0.006622597302252465, 'n_estimators': 1270, 'min_child_samples': 15, 'subsample': 0.8, 'colsample_bytree': 0.5}. Best is trial 22 with value: 0.7385635736819699.\n",
      "[I 2025-02-25 10:33:22,909] Trial 32 finished with value: 0.738544958167349 and parameters: {'num_iterations': 2081, 'objective': 'binary', 'metric': 'auc', 'verbose': -1, 'learning_rate': 0.006306817834759676, 'n_estimators': 1464, 'min_child_samples': 10, 'subsample': 0.7, 'colsample_bytree': 0.5}. Best is trial 22 with value: 0.7385635736819699.\n",
      "[I 2025-02-25 10:33:47,660] Trial 33 finished with value: 0.7385384379721681 and parameters: {'num_iterations': 2276, 'objective': 'binary', 'metric': 'auc', 'verbose': -1, 'learning_rate': 0.005126911112733473, 'n_estimators': 1499, 'min_child_samples': 10, 'subsample': 0.7, 'colsample_bytree': 0.5}. Best is trial 22 with value: 0.7385635736819699.\n",
      "[I 2025-02-25 10:34:13,215] Trial 34 finished with value: 0.7384207687006743 and parameters: {'num_iterations': 2374, 'objective': 'binary', 'metric': 'auc', 'verbose': -1, 'learning_rate': 0.005965499994416373, 'n_estimators': 1483, 'min_child_samples': 10, 'subsample': 0.6, 'colsample_bytree': 0.5}. Best is trial 22 with value: 0.7385635736819699.\n",
      "[I 2025-02-25 10:34:37,476] Trial 35 finished with value: 0.7385236503918677 and parameters: {'num_iterations': 2231, 'objective': 'binary', 'metric': 'auc', 'verbose': -1, 'learning_rate': 0.0051840107636124955, 'n_estimators': 959, 'min_child_samples': 10, 'subsample': 0.7, 'colsample_bytree': 0.5}. Best is trial 22 with value: 0.7385635736819699.\n",
      "[I 2025-02-25 10:35:03,623] Trial 36 finished with value: 0.7383930955945749 and parameters: {'num_iterations': 2440, 'objective': 'binary', 'metric': 'auc', 'verbose': -1, 'learning_rate': 0.005974463303421329, 'n_estimators': 1160, 'min_child_samples': 10, 'subsample': 0.7, 'colsample_bytree': 0.5}. Best is trial 22 with value: 0.7385635736819699.\n",
      "[I 2025-02-25 10:35:28,819] Trial 37 finished with value: 0.7384639640010255 and parameters: {'num_iterations': 2315, 'objective': 'binary', 'metric': 'auc', 'verbose': -1, 'learning_rate': 0.006214228893666976, 'n_estimators': 994, 'min_child_samples': 10, 'subsample': 0.6, 'colsample_bytree': 0.5}. Best is trial 22 with value: 0.7385635736819699.\n",
      "[I 2025-02-25 10:35:50,212] Trial 38 finished with value: 0.7379828951058002 and parameters: {'num_iterations': 2046, 'objective': 'binary', 'metric': 'auc', 'verbose': -1, 'learning_rate': 0.011194659473637049, 'n_estimators': 1329, 'min_child_samples': 45, 'subsample': 0.7, 'colsample_bytree': 0.5}. Best is trial 22 with value: 0.7385635736819699.\n",
      "[I 2025-02-25 10:36:14,079] Trial 39 finished with value: 0.7385438899989546 and parameters: {'num_iterations': 2187, 'objective': 'binary', 'metric': 'auc', 'verbose': -1, 'learning_rate': 0.005020400204113423, 'n_estimators': 831, 'min_child_samples': 15, 'subsample': 0.5, 'colsample_bytree': 0.5}. Best is trial 22 with value: 0.7385635736819699.\n"
     ]
    },
    {
     "name": "stdout",
     "output_type": "stream",
     "text": [
      "Cat val score : 0.7393699931691227\n",
      "LGBM val score : 0.7383549671450462\n",
      "Ensemble val score : 0.7392793815163633\n"
     ]
    },
    {
     "name": "stderr",
     "output_type": "stream",
     "text": [
      "[I 2025-02-25 10:36:31,651] A new study created in memory with name: no-name-0a0c1222-4f79-4f79-bd2e-a6c89378b05b\n"
     ]
    },
    {
     "name": "stdout",
     "output_type": "stream",
     "text": [
      "==================================================\n",
      "0:\ttest: 0.7259220\tbest: 0.7259220 (0)\ttotal: 140ms\tremaining: 5m 30s\n",
      "300:\ttest: 0.7360189\tbest: 0.7360189 (300)\ttotal: 38.6s\tremaining: 4m 25s\n",
      "600:\ttest: 0.7370262\tbest: 0.7370348 (596)\ttotal: 1m 19s\tremaining: 3m 53s\n",
      "900:\ttest: 0.7373646\tbest: 0.7373646 (900)\ttotal: 2m\tremaining: 3m 16s\n",
      "1200:\ttest: 0.7374358\tbest: 0.7374750 (1107)\ttotal: 2m 43s\tremaining: 2m 38s\n",
      "1500:\ttest: 0.7375222\tbest: 0.7375597 (1422)\ttotal: 3m 33s\tremaining: 2m 3s\n"
     ]
    },
    {
     "name": "stderr",
     "output_type": "stream",
     "text": [
      "[I 2025-02-25 10:40:42,038] Trial 0 finished with value: 0.7375597098190709 and parameters: {'iterations': 2366, 'depth': 10, 'learning_rate': 0.01181021951839225, 'l2_leaf_reg': 9.980783802743254}. Best is trial 0 with value: 0.7375597098190709.\n"
     ]
    },
    {
     "name": "stdout",
     "output_type": "stream",
     "text": [
      "Stopped by overfitting detector  (300 iterations wait)\n",
      "\n",
      "bestTest = 0.7375597098\n",
      "bestIteration = 1422\n",
      "\n",
      "Shrink model to first 1423 iterations.\n",
      "저장 완료\n",
      "0:\ttest: 0.6966609\tbest: 0.6966609 (0)\ttotal: 54.5ms\tremaining: 1m 59s\n",
      "300:\ttest: 0.7291382\tbest: 0.7291382 (300)\ttotal: 13s\tremaining: 1m 22s\n"
     ]
    },
    {
     "name": "stderr",
     "output_type": "stream",
     "text": [
      "Training has stopped (degenerate solution on iteration 468, probably too small l2-regularization, try to increase it)\n",
      "[I 2025-02-25 10:41:02,558] Trial 1 finished with value: 0.7317470312622154 and parameters: {'iterations': 2193, 'depth': 4, 'learning_rate': 0.005671430811678843, 'l2_leaf_reg': 0.00012325230809466137}. Best is trial 0 with value: 0.7375597098190709.\n"
     ]
    },
    {
     "name": "stdout",
     "output_type": "stream",
     "text": [
      "\n",
      "bestTest = 0.7317470313\n",
      "bestIteration = 466\n",
      "\n",
      "Shrink model to first 467 iterations.\n",
      "0:\ttest: 0.6966609\tbest: 0.6966609 (0)\ttotal: 58.1ms\tremaining: 2m 27s\n",
      "300:\ttest: 0.7376359\tbest: 0.7376384 (299)\ttotal: 14.3s\tremaining: 1m 46s\n"
     ]
    },
    {
     "name": "stderr",
     "output_type": "stream",
     "text": [
      "[I 2025-02-25 10:41:31,894] Trial 2 finished with value: 0.7376868933339589 and parameters: {'iterations': 2535, 'depth': 4, 'learning_rate': 0.09275339199839054, 'l2_leaf_reg': 0.0008705394248343123}. Best is trial 2 with value: 0.7376868933339589.\n"
     ]
    },
    {
     "name": "stdout",
     "output_type": "stream",
     "text": [
      "600:\ttest: 0.7372967\tbest: 0.7376869 (302)\ttotal: 29.1s\tremaining: 1m 33s\n",
      "Stopped by overfitting detector  (300 iterations wait)\n",
      "\n",
      "bestTest = 0.7376868933\n",
      "bestIteration = 302\n",
      "\n",
      "Shrink model to first 303 iterations.\n",
      "저장 완료\n",
      "0:\ttest: 0.6966609\tbest: 0.6966609 (0)\ttotal: 55.3ms\tremaining: 2m 9s\n",
      "300:\ttest: 0.7367447\tbest: 0.7367501 (299)\ttotal: 13.8s\tremaining: 1m 33s\n",
      "600:\ttest: 0.7379038\tbest: 0.7379068 (598)\ttotal: 28.4s\tremaining: 1m 21s\n",
      "900:\ttest: 0.7379369\tbest: 0.7379751 (889)\ttotal: 43.1s\tremaining: 1m 8s\n",
      "1200:\ttest: 0.7378270\tbest: 0.7379801 (939)\ttotal: 58s\tremaining: 54.7s\n"
     ]
    },
    {
     "name": "stderr",
     "output_type": "stream",
     "text": [
      "[I 2025-02-25 10:42:32,054] Trial 3 finished with value: 0.7379800678348082 and parameters: {'iterations': 2334, 'depth': 4, 'learning_rate': 0.04657568321363276, 'l2_leaf_reg': 0.0008640473331457248}. Best is trial 3 with value: 0.7379800678348082.\n"
     ]
    },
    {
     "name": "stdout",
     "output_type": "stream",
     "text": [
      "Stopped by overfitting detector  (300 iterations wait)\n",
      "\n",
      "bestTest = 0.7379800678\n",
      "bestIteration = 939\n",
      "\n",
      "Shrink model to first 940 iterations.\n",
      "저장 완료\n",
      "0:\ttest: 0.7259456\tbest: 0.7259456 (0)\ttotal: 123ms\tremaining: 3m 33s\n",
      "300:\ttest: 0.7359294\tbest: 0.7359572 (284)\ttotal: 37.8s\tremaining: 3m\n",
      "600:\ttest: 0.7361170\tbest: 0.7363098 (541)\ttotal: 1m 17s\tremaining: 2m 26s\n"
     ]
    },
    {
     "name": "stderr",
     "output_type": "stream",
     "text": [
      "[I 2025-02-25 10:44:22,025] Trial 4 finished with value: 0.7363098058748087 and parameters: {'iterations': 1742, 'depth': 10, 'learning_rate': 0.012622767482095846, 'l2_leaf_reg': 0.00021158816350109617}. Best is trial 3 with value: 0.7379800678348082.\n"
     ]
    },
    {
     "name": "stdout",
     "output_type": "stream",
     "text": [
      "Stopped by overfitting detector  (300 iterations wait)\n",
      "\n",
      "bestTest = 0.7363098059\n",
      "bestIteration = 541\n",
      "\n",
      "Shrink model to first 542 iterations.\n",
      "0:\ttest: 0.6966609\tbest: 0.6966609 (0)\ttotal: 53ms\tremaining: 1m 50s\n",
      "300:\ttest: 0.7380329\tbest: 0.7380329 (300)\ttotal: 14.2s\tremaining: 1m 23s\n",
      "600:\ttest: 0.7383953\tbest: 0.7384571 (574)\ttotal: 28.9s\tremaining: 1m 11s\n",
      "900:\ttest: 0.7386514\tbest: 0.7386750 (879)\ttotal: 43.7s\tremaining: 57.3s\n"
     ]
    },
    {
     "name": "stderr",
     "output_type": "stream",
     "text": [
      "[I 2025-02-25 10:45:19,883] Trial 5 finished with value: 0.7386749768950014 and parameters: {'iterations': 2082, 'depth': 4, 'learning_rate': 0.06995196593094148, 'l2_leaf_reg': 0.0018080296485396804}. Best is trial 5 with value: 0.7386749768950014.\n"
     ]
    },
    {
     "name": "stdout",
     "output_type": "stream",
     "text": [
      "Stopped by overfitting detector  (300 iterations wait)\n",
      "\n",
      "bestTest = 0.7386749769\n",
      "bestIteration = 879\n",
      "\n",
      "Shrink model to first 880 iterations.\n",
      "저장 완료\n",
      "0:\ttest: 0.7045171\tbest: 0.7045171 (0)\ttotal: 62.4ms\tremaining: 2m 4s\n",
      "300:\ttest: 0.7376106\tbest: 0.7376141 (294)\ttotal: 17.3s\tremaining: 1m 37s\n",
      "600:\ttest: 0.7379060\tbest: 0.7379141 (596)\ttotal: 35.4s\tremaining: 1m 22s\n",
      "900:\ttest: 0.7380555\tbest: 0.7380556 (896)\ttotal: 53.5s\tremaining: 1m 5s\n",
      "1200:\ttest: 0.7380258\tbest: 0.7380775 (970)\ttotal: 1m 11s\tremaining: 47.7s\n"
     ]
    },
    {
     "name": "stderr",
     "output_type": "stream",
     "text": [
      "[I 2025-02-25 10:46:36,216] Trial 6 finished with value: 0.7380774617612392 and parameters: {'iterations': 1997, 'depth': 5, 'learning_rate': 0.07985155992831598, 'l2_leaf_reg': 62.52181000710482}. Best is trial 5 with value: 0.7386749768950014.\n"
     ]
    },
    {
     "name": "stdout",
     "output_type": "stream",
     "text": [
      "Stopped by overfitting detector  (300 iterations wait)\n",
      "\n",
      "bestTest = 0.7380774618\n",
      "bestIteration = 970\n",
      "\n",
      "Shrink model to first 971 iterations.\n",
      "0:\ttest: 0.7218117\tbest: 0.7218117 (0)\ttotal: 82.1ms\tremaining: 2m 38s\n",
      "300:\ttest: 0.7369660\tbest: 0.7372828 (197)\ttotal: 24s\tremaining: 2m 9s\n"
     ]
    },
    {
     "name": "stderr",
     "output_type": "stream",
     "text": [
      "[I 2025-02-25 10:47:16,945] Trial 7 finished with value: 0.737282772271994 and parameters: {'iterations': 1927, 'depth': 7, 'learning_rate': 0.0941937211034094, 'l2_leaf_reg': 0.05654822767791934}. Best is trial 5 with value: 0.7386749768950014.\n"
     ]
    },
    {
     "name": "stdout",
     "output_type": "stream",
     "text": [
      "Stopped by overfitting detector  (300 iterations wait)\n",
      "\n",
      "bestTest = 0.7372827723\n",
      "bestIteration = 197\n",
      "\n",
      "Shrink model to first 198 iterations.\n",
      "0:\ttest: 0.7218106\tbest: 0.7218106 (0)\ttotal: 81.2ms\tremaining: 2m 34s\n",
      "300:\ttest: 0.7379732\tbest: 0.7379753 (299)\ttotal: 22.8s\tremaining: 2m 1s\n",
      "600:\ttest: 0.7378260\tbest: 0.7381159 (455)\ttotal: 48s\tremaining: 1m 43s\n"
     ]
    },
    {
     "name": "stderr",
     "output_type": "stream",
     "text": [
      "[I 2025-02-25 10:48:18,034] Trial 8 finished with value: 0.7381158562601451 and parameters: {'iterations': 1904, 'depth': 7, 'learning_rate': 0.05155602859187331, 'l2_leaf_reg': 1.299974533316308}. Best is trial 5 with value: 0.7386749768950014.\n"
     ]
    },
    {
     "name": "stdout",
     "output_type": "stream",
     "text": [
      "Stopped by overfitting detector  (300 iterations wait)\n",
      "\n",
      "bestTest = 0.7381158563\n",
      "bestIteration = 455\n",
      "\n",
      "Shrink model to first 456 iterations.\n",
      "0:\ttest: 0.7192671\tbest: 0.7192671 (0)\ttotal: 72.9ms\tremaining: 3m 12s\n",
      "300:\ttest: 0.7368885\tbest: 0.7368944 (290)\ttotal: 19.6s\tremaining: 2m 32s\n",
      "600:\ttest: 0.7375584\tbest: 0.7375584 (600)\ttotal: 41.2s\tremaining: 2m 19s\n",
      "900:\ttest: 0.7377476\tbest: 0.7377476 (900)\ttotal: 1m 2s\tremaining: 2m\n",
      "1200:\ttest: 0.7376128\tbest: 0.7378189 (917)\ttotal: 1m 24s\tremaining: 1m 41s\n"
     ]
    },
    {
     "name": "stderr",
     "output_type": "stream",
     "text": [
      "[I 2025-02-25 10:49:44,062] Trial 9 finished with value: 0.7378189372135859 and parameters: {'iterations': 2639, 'depth': 6, 'learning_rate': 0.03968704290444751, 'l2_leaf_reg': 0.30557194377967184}. Best is trial 5 with value: 0.7386749768950014.\n"
     ]
    },
    {
     "name": "stdout",
     "output_type": "stream",
     "text": [
      "Stopped by overfitting detector  (300 iterations wait)\n",
      "\n",
      "bestTest = 0.7378189372\n",
      "bestIteration = 917\n",
      "\n",
      "Shrink model to first 918 iterations.\n",
      "0:\ttest: 0.7249590\tbest: 0.7249590 (0)\ttotal: 111ms\tremaining: 5m 27s\n",
      "300:\ttest: 0.7333987\tbest: 0.7359246 (130)\ttotal: 31s\tremaining: 4m 32s\n"
     ]
    },
    {
     "name": "stderr",
     "output_type": "stream",
     "text": [
      "[I 2025-02-25 10:50:29,626] Trial 10 finished with value: 0.7359245504932969 and parameters: {'iterations': 2945, 'depth': 9, 'learning_rate': 0.07330091863871427, 'l2_leaf_reg': 0.013031354738997315}. Best is trial 5 with value: 0.7386749768950014.\n"
     ]
    },
    {
     "name": "stdout",
     "output_type": "stream",
     "text": [
      "Stopped by overfitting detector  (300 iterations wait)\n",
      "\n",
      "bestTest = 0.7359245505\n",
      "bestIteration = 130\n",
      "\n",
      "Shrink model to first 131 iterations.\n",
      "0:\ttest: 0.7242122\tbest: 0.7242122 (0)\ttotal: 92.1ms\tremaining: 2m 31s\n",
      "300:\ttest: 0.7380125\tbest: 0.7380663 (288)\ttotal: 26.6s\tremaining: 1m 58s\n"
     ]
    },
    {
     "name": "stderr",
     "output_type": "stream",
     "text": [
      "[I 2025-02-25 10:51:24,161] Trial 11 finished with value: 0.7380663154836068 and parameters: {'iterations': 1645, 'depth': 8, 'learning_rate': 0.06346104813783957, 'l2_leaf_reg': 1.9458284937024315}. Best is trial 5 with value: 0.7386749768950014.\n"
     ]
    },
    {
     "name": "stdout",
     "output_type": "stream",
     "text": [
      "Stopped by overfitting detector  (300 iterations wait)\n",
      "\n",
      "bestTest = 0.7380663155\n",
      "bestIteration = 288\n",
      "\n",
      "Shrink model to first 289 iterations.\n",
      "0:\ttest: 0.7192671\tbest: 0.7192671 (0)\ttotal: 75.4ms\tremaining: 2m 32s\n",
      "300:\ttest: 0.7366695\tbest: 0.7366695 (300)\ttotal: 19.7s\tremaining: 1m 52s\n",
      "600:\ttest: 0.7373867\tbest: 0.7375757 (530)\ttotal: 41.4s\tremaining: 1m 37s\n"
     ]
    },
    {
     "name": "stderr",
     "output_type": "stream",
     "text": [
      "[I 2025-02-25 10:52:22,370] Trial 12 finished with value: 0.7375757323449872 and parameters: {'iterations': 2018, 'depth': 6, 'learning_rate': 0.03815393924793672, 'l2_leaf_reg': 0.010819134293949716}. Best is trial 5 with value: 0.7386749768950014.\n"
     ]
    },
    {
     "name": "stdout",
     "output_type": "stream",
     "text": [
      "Stopped by overfitting detector  (300 iterations wait)\n",
      "\n",
      "bestTest = 0.7375757323\n",
      "bestIteration = 530\n",
      "\n",
      "Shrink model to first 531 iterations.\n",
      "0:\ttest: 0.7218115\tbest: 0.7218115 (0)\ttotal: 79.6ms\tremaining: 2m 24s\n",
      "300:\ttest: 0.7378009\tbest: 0.7378011 (299)\ttotal: 23.1s\tremaining: 1m 55s\n",
      "600:\ttest: 0.7375708\tbest: 0.7378662 (303)\ttotal: 48.5s\tremaining: 1m 37s\n"
     ]
    },
    {
     "name": "stderr",
     "output_type": "stream",
     "text": [
      "[I 2025-02-25 10:53:11,238] Trial 13 finished with value: 0.7378661788470001 and parameters: {'iterations': 1810, 'depth': 7, 'learning_rate': 0.05912474509850669, 'l2_leaf_reg': 0.5899912352248006}. Best is trial 5 with value: 0.7386749768950014.\n"
     ]
    },
    {
     "name": "stdout",
     "output_type": "stream",
     "text": [
      "Stopped by overfitting detector  (300 iterations wait)\n",
      "\n",
      "bestTest = 0.7378661788\n",
      "bestIteration = 303\n",
      "\n",
      "Shrink model to first 304 iterations.\n",
      "0:\ttest: 0.7242150\tbest: 0.7242150 (0)\ttotal: 91.2ms\tremaining: 2m 19s\n",
      "300:\ttest: 0.7370459\tbest: 0.7370826 (294)\ttotal: 25s\tremaining: 1m 42s\n",
      "600:\ttest: 0.7370737\tbest: 0.7372629 (452)\ttotal: 52.4s\tremaining: 1m 21s\n"
     ]
    },
    {
     "name": "stderr",
     "output_type": "stream",
     "text": [
      "[I 2025-02-25 10:54:18,223] Trial 14 finished with value: 0.7372629376953022 and parameters: {'iterations': 1533, 'depth': 8, 'learning_rate': 0.029052724712343176, 'l2_leaf_reg': 0.01865777534081883}. Best is trial 5 with value: 0.7386749768950014.\n"
     ]
    },
    {
     "name": "stdout",
     "output_type": "stream",
     "text": [
      "Stopped by overfitting detector  (300 iterations wait)\n",
      "\n",
      "bestTest = 0.7372629377\n",
      "bestIteration = 452\n",
      "\n",
      "Shrink model to first 453 iterations.\n",
      "0:\ttest: 0.7045169\tbest: 0.7045169 (0)\ttotal: 62.4ms\tremaining: 2m 13s\n",
      "300:\ttest: 0.7377733\tbest: 0.7377733 (300)\ttotal: 17.5s\tremaining: 1m 47s\n",
      "600:\ttest: 0.7379474\tbest: 0.7380165 (448)\ttotal: 35.8s\tremaining: 1m 32s\n",
      "900:\ttest: 0.7379984\tbest: 0.7380616 (661)\ttotal: 54.3s\tremaining: 1m 15s\n"
     ]
    },
    {
     "name": "stderr",
     "output_type": "stream",
     "text": [
      "[I 2025-02-25 10:55:16,387] Trial 15 finished with value: 0.7380615742454546 and parameters: {'iterations': 2147, 'depth': 5, 'learning_rate': 0.07380701613789553, 'l2_leaf_reg': 4.722389127363701}. Best is trial 5 with value: 0.7386749768950014.\n"
     ]
    },
    {
     "name": "stdout",
     "output_type": "stream",
     "text": [
      "Stopped by overfitting detector  (300 iterations wait)\n",
      "\n",
      "bestTest = 0.7380615742\n",
      "bestIteration = 661\n",
      "\n",
      "Shrink model to first 662 iterations.\n",
      "0:\ttest: 0.7192671\tbest: 0.7192671 (0)\ttotal: 77.7ms\tremaining: 2m 20s\n",
      "300:\ttest: 0.7374759\tbest: 0.7375213 (298)\ttotal: 20.2s\tremaining: 1m 41s\n"
     ]
    },
    {
     "name": "stderr",
     "output_type": "stream",
     "text": [
      "[I 2025-02-25 10:55:58,189] Trial 16 finished with value: 0.7375213034075064 and parameters: {'iterations': 1808, 'depth': 6, 'learning_rate': 0.05473945123377309, 'l2_leaf_reg': 0.002531826859172005}. Best is trial 5 with value: 0.7386749768950014.\n"
     ]
    },
    {
     "name": "stdout",
     "output_type": "stream",
     "text": [
      "Stopped by overfitting detector  (300 iterations wait)\n",
      "\n",
      "bestTest = 0.7375213034\n",
      "bestIteration = 298\n",
      "\n",
      "Shrink model to first 299 iterations.\n",
      "0:\ttest: 0.7242147\tbest: 0.7242147 (0)\ttotal: 97.6ms\tremaining: 3m 24s\n",
      "300:\ttest: 0.7367279\tbest: 0.7374397 (187)\ttotal: 27.4s\tremaining: 2m 43s\n"
     ]
    },
    {
     "name": "stderr",
     "output_type": "stream",
     "text": [
      "[I 2025-02-25 10:56:43,891] Trial 17 finished with value: 0.7374397136082493 and parameters: {'iterations': 2098, 'depth': 8, 'learning_rate': 0.08474298688315363, 'l2_leaf_reg': 0.1856340376081002}. Best is trial 5 with value: 0.7386749768950014.\n"
     ]
    },
    {
     "name": "stdout",
     "output_type": "stream",
     "text": [
      "Stopped by overfitting detector  (300 iterations wait)\n",
      "\n",
      "bestTest = 0.7374397136\n",
      "bestIteration = 187\n",
      "\n",
      "Shrink model to first 188 iterations.\n",
      "0:\ttest: 0.7045180\tbest: 0.7045180 (0)\ttotal: 65.8ms\tremaining: 2m 41s\n",
      "300:\ttest: 0.7375753\tbest: 0.7375945 (294)\ttotal: 17.1s\tremaining: 2m 2s\n",
      "600:\ttest: 0.7379263\tbest: 0.7379265 (596)\ttotal: 34.6s\tremaining: 1m 46s\n",
      "900:\ttest: 0.7381224\tbest: 0.7381587 (879)\ttotal: 52.7s\tremaining: 1m 30s\n"
     ]
    },
    {
     "name": "stderr",
     "output_type": "stream",
     "text": [
      "[I 2025-02-25 10:57:53,537] Trial 18 finished with value: 0.7381586782971912 and parameters: {'iterations': 2454, 'depth': 5, 'learning_rate': 0.06314754403663386, 'l2_leaf_reg': 70.64174190249958}. Best is trial 5 with value: 0.7386749768950014.\n"
     ]
    },
    {
     "name": "stdout",
     "output_type": "stream",
     "text": [
      "Stopped by overfitting detector  (300 iterations wait)\n",
      "\n",
      "bestTest = 0.7381586783\n",
      "bestIteration = 879\n",
      "\n",
      "Shrink model to first 880 iterations.\n",
      "0:\ttest: 0.7045489\tbest: 0.7045489 (0)\ttotal: 62ms\tremaining: 2m 46s\n",
      "300:\ttest: 0.7373368\tbest: 0.7373391 (298)\ttotal: 17s\tremaining: 2m 14s\n",
      "600:\ttest: 0.7377871\tbest: 0.7377958 (585)\ttotal: 34.8s\tremaining: 2m\n",
      "900:\ttest: 0.7379731\tbest: 0.7380327 (868)\ttotal: 52.7s\tremaining: 1m 44s\n",
      "1200:\ttest: 0.7380029\tbest: 0.7380411 (953)\ttotal: 1m 10s\tremaining: 1m 27s\n",
      "1500:\ttest: 0.7380351\tbest: 0.7380555 (1250)\ttotal: 1m 28s\tremaining: 1m 10s\n"
     ]
    },
    {
     "name": "stderr",
     "output_type": "stream",
     "text": [
      "[I 2025-02-25 10:59:25,801] Trial 19 finished with value: 0.7380554749642136 and parameters: {'iterations': 2686, 'depth': 5, 'learning_rate': 0.06306860646624848, 'l2_leaf_reg': 82.64355742461473}. Best is trial 5 with value: 0.7386749768950014.\n"
     ]
    },
    {
     "name": "stdout",
     "output_type": "stream",
     "text": [
      "Stopped by overfitting detector  (300 iterations wait)\n",
      "\n",
      "bestTest = 0.738055475\n",
      "bestIteration = 1250\n",
      "\n",
      "Shrink model to first 1251 iterations.\n",
      "0:\ttest: 0.7045147\tbest: 0.7045147 (0)\ttotal: 63.1ms\tremaining: 2m 36s\n",
      "300:\ttest: 0.7377245\tbest: 0.7377245 (300)\ttotal: 17.3s\tremaining: 2m 5s\n",
      "600:\ttest: 0.7382916\tbest: 0.7382942 (592)\ttotal: 35.3s\tremaining: 1m 50s\n",
      "900:\ttest: 0.7381966\tbest: 0.7383434 (674)\ttotal: 53.5s\tremaining: 1m 33s\n"
     ]
    },
    {
     "name": "stderr",
     "output_type": "stream",
     "text": [
      "[I 2025-02-25 11:00:23,978] Trial 20 finished with value: 0.7383433959825877 and parameters: {'iterations': 2480, 'depth': 5, 'learning_rate': 0.07138695748009576, 'l2_leaf_reg': 25.12198635120129}. Best is trial 5 with value: 0.7386749768950014.\n"
     ]
    },
    {
     "name": "stdout",
     "output_type": "stream",
     "text": [
      "Stopped by overfitting detector  (300 iterations wait)\n",
      "\n",
      "bestTest = 0.738343396\n",
      "bestIteration = 674\n",
      "\n",
      "Shrink model to first 675 iterations.\n",
      "0:\ttest: 0.7045169\tbest: 0.7045169 (0)\ttotal: 63.5ms\tremaining: 2m 34s\n",
      "300:\ttest: 0.7378586\tbest: 0.7378601 (296)\ttotal: 17.3s\tremaining: 2m 2s\n",
      "600:\ttest: 0.7380323\tbest: 0.7381474 (563)\ttotal: 35.4s\tremaining: 1m 47s\n"
     ]
    },
    {
     "name": "stderr",
     "output_type": "stream",
     "text": [
      "[I 2025-02-25 11:01:15,545] Trial 21 finished with value: 0.7381474248056307 and parameters: {'iterations': 2435, 'depth': 5, 'learning_rate': 0.07294061665351742, 'l2_leaf_reg': 20.704429400626612}. Best is trial 5 with value: 0.7386749768950014.\n"
     ]
    },
    {
     "name": "stdout",
     "output_type": "stream",
     "text": [
      "Stopped by overfitting detector  (300 iterations wait)\n",
      "\n",
      "bestTest = 0.7381474248\n",
      "bestIteration = 563\n",
      "\n",
      "Shrink model to first 564 iterations.\n",
      "0:\ttest: 0.6966515\tbest: 0.6966515 (0)\ttotal: 53.3ms\tremaining: 2m 32s\n",
      "300:\ttest: 0.7375749\tbest: 0.7375982 (290)\ttotal: 14.2s\tremaining: 2m\n",
      "600:\ttest: 0.7380427\tbest: 0.7380805 (536)\ttotal: 28.9s\tremaining: 1m 49s\n",
      "900:\ttest: 0.7381502\tbest: 0.7382216 (720)\ttotal: 43.7s\tremaining: 1m 35s\n",
      "1200:\ttest: 0.7382323\tbest: 0.7382624 (1025)\ttotal: 58.6s\tremaining: 1m 21s\n",
      "1500:\ttest: 0.7382836\tbest: 0.7383139 (1447)\ttotal: 1m 13s\tremaining: 1m 7s\n"
     ]
    },
    {
     "name": "stderr",
     "output_type": "stream",
     "text": [
      "[I 2025-02-25 11:02:41,904] Trial 22 finished with value: 0.7383139161232561 and parameters: {'iterations': 2871, 'depth': 4, 'learning_rate': 0.0671135512219698, 'l2_leaf_reg': 22.626301956385863}. Best is trial 5 with value: 0.7386749768950014.\n"
     ]
    },
    {
     "name": "stdout",
     "output_type": "stream",
     "text": [
      "Stopped by overfitting detector  (300 iterations wait)\n",
      "\n",
      "bestTest = 0.7383139161\n",
      "bestIteration = 1447\n",
      "\n",
      "Shrink model to first 1448 iterations.\n",
      "0:\ttest: 0.6966581\tbest: 0.6966581 (0)\ttotal: 53.5ms\tremaining: 2m 40s\n",
      "300:\ttest: 0.7372841\tbest: 0.7372841 (300)\ttotal: 14.3s\tremaining: 2m 8s\n",
      "600:\ttest: 0.7376438\tbest: 0.7376931 (493)\ttotal: 29.2s\tremaining: 1m 56s\n",
      "900:\ttest: 0.7378411\tbest: 0.7378669 (853)\ttotal: 44.2s\tremaining: 1m 42s\n",
      "1200:\ttest: 0.7378918\tbest: 0.7379273 (1082)\ttotal: 59.1s\tremaining: 1m 28s\n",
      "1500:\ttest: 0.7377573\tbest: 0.7379359 (1244)\ttotal: 1m 14s\tremaining: 1m 13s\n"
     ]
    },
    {
     "name": "stderr",
     "output_type": "stream",
     "text": [
      "[I 2025-02-25 11:03:58,561] Trial 23 finished with value: 0.7379359234926492 and parameters: {'iterations': 2991, 'depth': 4, 'learning_rate': 0.08362401179362228, 'l2_leaf_reg': 15.232801231731072}. Best is trial 5 with value: 0.7386749768950014.\n"
     ]
    },
    {
     "name": "stdout",
     "output_type": "stream",
     "text": [
      "Stopped by overfitting detector  (300 iterations wait)\n",
      "\n",
      "bestTest = 0.7379359235\n",
      "bestIteration = 1244\n",
      "\n",
      "Shrink model to first 1245 iterations.\n",
      "0:\ttest: 0.6966609\tbest: 0.6966609 (0)\ttotal: 53.8ms\tremaining: 2m 27s\n",
      "300:\ttest: 0.7376667\tbest: 0.7376667 (300)\ttotal: 14.1s\tremaining: 1m 54s\n",
      "600:\ttest: 0.7377437\tbest: 0.7380207 (362)\ttotal: 29s\tremaining: 1m 43s\n"
     ]
    },
    {
     "name": "stderr",
     "output_type": "stream",
     "text": [
      "[I 2025-02-25 11:04:30,768] Trial 24 finished with value: 0.7380207058844308 and parameters: {'iterations': 2739, 'depth': 4, 'learning_rate': 0.06896498191774932, 'l2_leaf_reg': 0.0709960409608148}. Best is trial 5 with value: 0.7386749768950014.\n"
     ]
    },
    {
     "name": "stdout",
     "output_type": "stream",
     "text": [
      "Stopped by overfitting detector  (300 iterations wait)\n",
      "\n",
      "bestTest = 0.7380207059\n",
      "bestIteration = 362\n",
      "\n",
      "Shrink model to first 363 iterations.\n",
      "0:\ttest: 0.6966602\tbest: 0.6966602 (0)\ttotal: 53.1ms\tremaining: 2m 26s\n",
      "300:\ttest: 0.7378291\tbest: 0.7378393 (297)\ttotal: 14.4s\tremaining: 1m 57s\n",
      "600:\ttest: 0.7380508\tbest: 0.7381057 (454)\ttotal: 29.3s\tremaining: 1m 45s\n",
      "900:\ttest: 0.7381306\tbest: 0.7382145 (844)\ttotal: 44.5s\tremaining: 1m 31s\n",
      "1200:\ttest: 0.7382969\tbest: 0.7383084 (1195)\ttotal: 59.6s\tremaining: 1m 17s\n",
      "1500:\ttest: 0.7381998\tbest: 0.7383187 (1253)\ttotal: 1m 14s\tremaining: 1m 2s\n"
     ]
    },
    {
     "name": "stderr",
     "output_type": "stream",
     "text": [
      "[I 2025-02-25 11:05:48,501] Trial 25 finished with value: 0.7383186970702706 and parameters: {'iterations': 2759, 'depth': 4, 'learning_rate': 0.08817417809740101, 'l2_leaf_reg': 3.980051730571682}. Best is trial 5 with value: 0.7386749768950014.\n"
     ]
    },
    {
     "name": "stdout",
     "output_type": "stream",
     "text": [
      "Stopped by overfitting detector  (300 iterations wait)\n",
      "\n",
      "bestTest = 0.7383186971\n",
      "bestIteration = 1253\n",
      "\n",
      "Shrink model to first 1254 iterations.\n",
      "0:\ttest: 0.7192664\tbest: 0.7192664 (0)\ttotal: 74ms\tremaining: 3m 28s\n",
      "300:\ttest: 0.7381830\tbest: 0.7381855 (299)\ttotal: 20.9s\tremaining: 2m 55s\n",
      "600:\ttest: 0.7382443\tbest: 0.7383671 (585)\ttotal: 42.6s\tremaining: 2m 37s\n"
     ]
    },
    {
     "name": "stderr",
     "output_type": "stream",
     "text": [
      "[I 2025-02-25 11:06:52,065] Trial 26 finished with value: 0.738367110115121 and parameters: {'iterations': 2820, 'depth': 6, 'learning_rate': 0.09965072668332985, 'l2_leaf_reg': 3.513259172480771}. Best is trial 5 with value: 0.7386749768950014.\n"
     ]
    },
    {
     "name": "stdout",
     "output_type": "stream",
     "text": [
      "Stopped by overfitting detector  (300 iterations wait)\n",
      "\n",
      "bestTest = 0.7383671101\n",
      "bestIteration = 585\n",
      "\n",
      "Shrink model to first 586 iterations.\n",
      "0:\ttest: 0.7192669\tbest: 0.7192669 (0)\ttotal: 74.7ms\tremaining: 2m 49s\n",
      "300:\ttest: 0.7376273\tbest: 0.7376321 (298)\ttotal: 20.8s\tremaining: 2m 16s\n",
      "600:\ttest: 0.7375675\tbest: 0.7377432 (315)\ttotal: 42.5s\tremaining: 1m 58s\n"
     ]
    },
    {
     "name": "stderr",
     "output_type": "stream",
     "text": [
      "[I 2025-02-25 11:07:35,825] Trial 27 finished with value: 0.7377432322677138 and parameters: {'iterations': 2274, 'depth': 6, 'learning_rate': 0.0798752929482629, 'l2_leaf_reg': 0.9122565492649123}. Best is trial 5 with value: 0.7386749768950014.\n"
     ]
    },
    {
     "name": "stdout",
     "output_type": "stream",
     "text": [
      "Stopped by overfitting detector  (300 iterations wait)\n",
      "\n",
      "bestTest = 0.7377432323\n",
      "bestIteration = 315\n",
      "\n",
      "Shrink model to first 316 iterations.\n",
      "0:\ttest: 0.7045176\tbest: 0.7045176 (0)\ttotal: 66.3ms\tremaining: 2m 50s\n",
      "300:\ttest: 0.7380401\tbest: 0.7380705 (297)\ttotal: 17.6s\tremaining: 2m 12s\n",
      "600:\ttest: 0.7375646\tbest: 0.7383102 (408)\ttotal: 36s\tremaining: 1m 57s\n"
     ]
    },
    {
     "name": "stderr",
     "output_type": "stream",
     "text": [
      "[I 2025-02-25 11:08:18,645] Trial 28 finished with value: 0.7383101715775464 and parameters: {'iterations': 2565, 'depth': 5, 'learning_rate': 0.097789117770763, 'l2_leaf_reg': 0.0028629293265545735}. Best is trial 5 with value: 0.7386749768950014.\n"
     ]
    },
    {
     "name": "stdout",
     "output_type": "stream",
     "text": [
      "Stopped by overfitting detector  (300 iterations wait)\n",
      "\n",
      "bestTest = 0.7383101716\n",
      "bestIteration = 408\n",
      "\n",
      "Shrink model to first 409 iterations.\n",
      "0:\ttest: 0.7192664\tbest: 0.7192664 (0)\ttotal: 72.1ms\tremaining: 3m 24s\n",
      "300:\ttest: 0.7379339\tbest: 0.7379398 (269)\ttotal: 22.2s\tremaining: 3m 7s\n",
      "600:\ttest: 0.7377171\tbest: 0.7380959 (326)\ttotal: 44s\tremaining: 2m 43s\n"
     ]
    },
    {
     "name": "stderr",
     "output_type": "stream",
     "text": [
      "[I 2025-02-25 11:09:04,717] Trial 29 finished with value: 0.7380958509353455 and parameters: {'iterations': 2832, 'depth': 6, 'learning_rate': 0.09974643313693829, 'l2_leaf_reg': 5.328141550519761}. Best is trial 5 with value: 0.7386749768950014.\n"
     ]
    },
    {
     "name": "stdout",
     "output_type": "stream",
     "text": [
      "Stopped by overfitting detector  (300 iterations wait)\n",
      "\n",
      "bestTest = 0.7380958509\n",
      "bestIteration = 326\n",
      "\n",
      "Shrink model to first 327 iterations.\n",
      "0:\ttest: 0.7045169\tbest: 0.7045169 (0)\ttotal: 59.9ms\tremaining: 2m 18s\n",
      "300:\ttest: 0.7360814\tbest: 0.7360814 (300)\ttotal: 16.7s\tremaining: 1m 51s\n",
      "600:\ttest: 0.7373882\tbest: 0.7373882 (600)\ttotal: 34.2s\tremaining: 1m 37s\n",
      "900:\ttest: 0.7379361\tbest: 0.7379361 (900)\ttotal: 52.3s\tremaining: 1m 21s\n",
      "1200:\ttest: 0.7381233\tbest: 0.7381254 (1195)\ttotal: 1m 10s\tremaining: 1m 5s\n",
      "1500:\ttest: 0.7380684\tbest: 0.7381307 (1206)\ttotal: 1m 28s\tremaining: 47.9s\n"
     ]
    },
    {
     "name": "stderr",
     "output_type": "stream",
     "text": [
      "[I 2025-02-25 11:10:34,298] Trial 30 finished with value: 0.7381307311999424 and parameters: {'iterations': 2309, 'depth': 5, 'learning_rate': 0.025793422522118456, 'l2_leaf_reg': 7.554754126932041}. Best is trial 5 with value: 0.7386749768950014.\n"
     ]
    },
    {
     "name": "stdout",
     "output_type": "stream",
     "text": [
      "Stopped by overfitting detector  (300 iterations wait)\n",
      "\n",
      "bestTest = 0.7381307312\n",
      "bestIteration = 1206\n",
      "\n",
      "Shrink model to first 1207 iterations.\n",
      "0:\ttest: 0.6966602\tbest: 0.6966602 (0)\ttotal: 52.4ms\tremaining: 2m 25s\n",
      "300:\ttest: 0.7377553\tbest: 0.7378063 (294)\ttotal: 14.3s\tremaining: 1m 57s\n",
      "600:\ttest: 0.7380151\tbest: 0.7380827 (504)\ttotal: 29.3s\tremaining: 1m 45s\n",
      "900:\ttest: 0.7380852\tbest: 0.7381431 (829)\ttotal: 44.5s\tremaining: 1m 32s\n"
     ]
    },
    {
     "name": "stderr",
     "output_type": "stream",
     "text": [
      "[I 2025-02-25 11:11:30,467] Trial 31 finished with value: 0.7381430727143286 and parameters: {'iterations': 2770, 'depth': 4, 'learning_rate': 0.08695919049283063, 'l2_leaf_reg': 3.111144971428186}. Best is trial 5 with value: 0.7386749768950014.\n"
     ]
    },
    {
     "name": "stdout",
     "output_type": "stream",
     "text": [
      "Stopped by overfitting detector  (300 iterations wait)\n",
      "\n",
      "bestTest = 0.7381430727\n",
      "bestIteration = 829\n",
      "\n",
      "Shrink model to first 830 iterations.\n",
      "0:\ttest: 0.6966515\tbest: 0.6966515 (0)\ttotal: 54.1ms\tremaining: 2m 22s\n",
      "300:\ttest: 0.7376736\tbest: 0.7376834 (292)\ttotal: 14.2s\tremaining: 1m 50s\n",
      "600:\ttest: 0.7379316\tbest: 0.7379697 (556)\ttotal: 29s\tremaining: 1m 38s\n",
      "900:\ttest: 0.7379283\tbest: 0.7380148 (774)\ttotal: 43.9s\tremaining: 1m 24s\n",
      "1200:\ttest: 0.7381167\tbest: 0.7381167 (1200)\ttotal: 58.9s\tremaining: 1m 10s\n",
      "1500:\ttest: 0.7381382\tbest: 0.7381780 (1268)\ttotal: 1m 13s\tremaining: 56s\n"
     ]
    },
    {
     "name": "stderr",
     "output_type": "stream",
     "text": [
      "[I 2025-02-25 11:12:47,960] Trial 32 finished with value: 0.7381780006295602 and parameters: {'iterations': 2639, 'depth': 4, 'learning_rate': 0.09004906813911859, 'l2_leaf_reg': 32.486946880835866}. Best is trial 5 with value: 0.7386749768950014.\n"
     ]
    },
    {
     "name": "stdout",
     "output_type": "stream",
     "text": [
      "Stopped by overfitting detector  (300 iterations wait)\n",
      "\n",
      "bestTest = 0.7381780006\n",
      "bestIteration = 1268\n",
      "\n",
      "Shrink model to first 1269 iterations.\n",
      "0:\ttest: 0.7045176\tbest: 0.7045176 (0)\ttotal: 63.1ms\tremaining: 2m 38s\n",
      "300:\ttest: 0.7382100\tbest: 0.7382330 (299)\ttotal: 17.6s\tremaining: 2m 9s\n"
     ]
    },
    {
     "name": "stderr",
     "output_type": "stream",
     "text": [
      "[I 2025-02-25 11:13:24,014] Trial 33 finished with value: 0.7382329934328848 and parameters: {'iterations': 2521, 'depth': 5, 'learning_rate': 0.07929949217946246, 'l2_leaf_reg': 0.44319238705244796}. Best is trial 5 with value: 0.7386749768950014.\n"
     ]
    },
    {
     "name": "stdout",
     "output_type": "stream",
     "text": [
      "Stopped by overfitting detector  (300 iterations wait)\n",
      "\n",
      "bestTest = 0.7382329934\n",
      "bestIteration = 299\n",
      "\n",
      "Shrink model to first 300 iterations.\n",
      "0:\ttest: 0.6966602\tbest: 0.6966602 (0)\ttotal: 52.2ms\tremaining: 2m 5s\n",
      "300:\ttest: 0.7380751\tbest: 0.7380751 (300)\ttotal: 14.4s\tremaining: 1m 40s\n",
      "600:\ttest: 0.7383188\tbest: 0.7383355 (572)\ttotal: 29.2s\tremaining: 1m 28s\n",
      "900:\ttest: 0.7383105\tbest: 0.7384440 (684)\ttotal: 44.3s\tremaining: 1m 14s\n"
     ]
    },
    {
     "name": "stderr",
     "output_type": "stream",
     "text": [
      "[I 2025-02-25 11:14:12,763] Trial 34 finished with value: 0.7384439547053397 and parameters: {'iterations': 2414, 'depth': 4, 'learning_rate': 0.09301406971928892, 'l2_leaf_reg': 10.626251263896703}. Best is trial 5 with value: 0.7386749768950014.\n"
     ]
    },
    {
     "name": "stdout",
     "output_type": "stream",
     "text": [
      "Stopped by overfitting detector  (300 iterations wait)\n",
      "\n",
      "bestTest = 0.7384439547\n",
      "bestIteration = 684\n",
      "\n",
      "Shrink model to first 685 iterations.\n",
      "0:\ttest: 0.7192654\tbest: 0.7192654 (0)\ttotal: 73.9ms\tremaining: 2m 41s\n",
      "300:\ttest: 0.7381664\tbest: 0.7382226 (258)\ttotal: 20.8s\tremaining: 2m 10s\n",
      "600:\ttest: 0.7379779\tbest: 0.7382411 (335)\ttotal: 42.4s\tremaining: 1m 51s\n"
     ]
    },
    {
     "name": "stderr",
     "output_type": "stream",
     "text": [
      "[I 2025-02-25 11:14:57,841] Trial 35 finished with value: 0.7382410503610346 and parameters: {'iterations': 2184, 'depth': 6, 'learning_rate': 0.09382333259056305, 'l2_leaf_reg': 9.815818521294018}. Best is trial 5 with value: 0.7386749768950014.\n"
     ]
    },
    {
     "name": "stdout",
     "output_type": "stream",
     "text": [
      "Stopped by overfitting detector  (300 iterations wait)\n",
      "\n",
      "bestTest = 0.7382410504\n",
      "bestIteration = 335\n",
      "\n",
      "Shrink model to first 336 iterations.\n",
      "0:\ttest: 0.6966515\tbest: 0.6966515 (0)\ttotal: 53.7ms\tremaining: 2m 8s\n",
      "300:\ttest: 0.7377114\tbest: 0.7377302 (295)\ttotal: 14.1s\tremaining: 1m 38s\n",
      "600:\ttest: 0.7382785\tbest: 0.7382790 (599)\ttotal: 28.8s\tremaining: 1m 25s\n",
      "900:\ttest: 0.7383119\tbest: 0.7383951 (789)\ttotal: 43.7s\tremaining: 1m 12s\n",
      "1200:\ttest: 0.7383334\tbest: 0.7384784 (1038)\ttotal: 58.6s\tremaining: 58.2s\n"
     ]
    },
    {
     "name": "stderr",
     "output_type": "stream",
     "text": [
      "[I 2025-02-25 11:16:03,585] Trial 36 finished with value: 0.7384783902306795 and parameters: {'iterations': 2393, 'depth': 4, 'learning_rate': 0.09471923481227572, 'l2_leaf_reg': 35.02451946094054}. Best is trial 5 with value: 0.7386749768950014.\n"
     ]
    },
    {
     "name": "stdout",
     "output_type": "stream",
     "text": [
      "Stopped by overfitting detector  (300 iterations wait)\n",
      "\n",
      "bestTest = 0.7384783902\n",
      "bestIteration = 1038\n",
      "\n",
      "Shrink model to first 1039 iterations.\n",
      "0:\ttest: 0.6966609\tbest: 0.6966609 (0)\ttotal: 51.5ms\tremaining: 2m 2s\n",
      "300:\ttest: 0.7379087\tbest: 0.7380399 (287)\ttotal: 14.3s\tremaining: 1m 38s\n",
      "600:\ttest: 0.7382673\tbest: 0.7382703 (599)\ttotal: 29.3s\tremaining: 1m 26s\n",
      "900:\ttest: 0.7380689\tbest: 0.7383669 (708)\ttotal: 44.2s\tremaining: 1m 12s\n"
     ]
    },
    {
     "name": "stderr",
     "output_type": "stream",
     "text": [
      "[I 2025-02-25 11:16:53,373] Trial 37 finished with value: 0.7383668877454925 and parameters: {'iterations': 2379, 'depth': 4, 'learning_rate': 0.09617884121574245, 'l2_leaf_reg': 0.00010294160657720188}. Best is trial 5 with value: 0.7386749768950014.\n"
     ]
    },
    {
     "name": "stdout",
     "output_type": "stream",
     "text": [
      "Stopped by overfitting detector  (300 iterations wait)\n",
      "\n",
      "bestTest = 0.7383668877\n",
      "bestIteration = 708\n",
      "\n",
      "Shrink model to first 709 iterations.\n",
      "0:\ttest: 0.6966609\tbest: 0.6966609 (0)\ttotal: 51.2ms\tremaining: 1m 53s\n",
      "300:\ttest: 0.7379195\tbest: 0.7380240 (289)\ttotal: 14.2s\tremaining: 1m 30s\n"
     ]
    },
    {
     "name": "stderr",
     "output_type": "stream",
     "text": [
      "[I 2025-02-25 11:17:22,073] Trial 38 finished with value: 0.7380240414288596 and parameters: {'iterations': 2216, 'depth': 4, 'learning_rate': 0.09120837490456161, 'l2_leaf_reg': 0.0005334697430345711}. Best is trial 5 with value: 0.7386749768950014.\n"
     ]
    },
    {
     "name": "stdout",
     "output_type": "stream",
     "text": [
      "Stopped by overfitting detector  (300 iterations wait)\n",
      "\n",
      "bestTest = 0.7380240414\n",
      "bestIteration = 289\n",
      "\n",
      "Shrink model to first 290 iterations.\n",
      "0:\ttest: 0.7249548\tbest: 0.7249548 (0)\ttotal: 113ms\tremaining: 3m 58s\n",
      "300:\ttest: 0.7357399\tbest: 0.7365675 (162)\ttotal: 31.5s\tremaining: 3m 9s\n"
     ]
    },
    {
     "name": "stderr",
     "output_type": "stream",
     "text": [
      "[I 2025-02-25 11:18:11,699] Trial 39 finished with value: 0.7365675402161033 and parameters: {'iterations': 2111, 'depth': 9, 'learning_rate': 0.08103129583237369, 'l2_leaf_reg': 1.7487336645797642}. Best is trial 5 with value: 0.7386749768950014.\n",
      "[I 2025-02-25 11:18:11,703] A new study created in memory with name: no-name-fa93a328-6250-4572-a204-0fee4264ecec\n"
     ]
    },
    {
     "name": "stdout",
     "output_type": "stream",
     "text": [
      "Stopped by overfitting detector  (300 iterations wait)\n",
      "\n",
      "bestTest = 0.7365675402\n",
      "bestIteration = 162\n",
      "\n",
      "Shrink model to first 163 iterations.\n"
     ]
    },
    {
     "name": "stderr",
     "output_type": "stream",
     "text": [
      "[I 2025-02-25 11:18:34,722] Trial 0 finished with value: 0.7287429446484827 and parameters: {'num_iterations': 2366, 'objective': 'binary', 'metric': 'auc', 'verbose': -1, 'learning_rate': 0.0652646236447618, 'n_estimators': 236, 'min_child_samples': 45, 'subsample': 0.7, 'colsample_bytree': 0.5}. Best is trial 0 with value: 0.7287429446484827.\n",
      "[I 2025-02-25 11:18:51,670] Trial 1 finished with value: 0.737236753671537 and parameters: {'num_iterations': 1510, 'objective': 'binary', 'metric': 'auc', 'verbose': -1, 'learning_rate': 0.005231880959249543, 'n_estimators': 1411, 'min_child_samples': 10, 'subsample': 1.0, 'colsample_bytree': 0.5}. Best is trial 1 with value: 0.737236753671537.\n",
      "[I 2025-02-25 11:19:11,116] Trial 2 finished with value: 0.7363813493319175 and parameters: {'num_iterations': 2334, 'objective': 'binary', 'metric': 'auc', 'verbose': -1, 'learning_rate': 0.006578527777128852, 'n_estimators': 931, 'min_child_samples': 15, 'subsample': 0.5, 'colsample_bytree': 1.0}. Best is trial 1 with value: 0.737236753671537.\n",
      "[I 2025-02-25 11:19:27,277] Trial 3 finished with value: 0.7371911043634989 and parameters: {'num_iterations': 1620, 'objective': 'binary', 'metric': 'auc', 'verbose': -1, 'learning_rate': 0.0058823249237283685, 'n_estimators': 837, 'min_child_samples': 10, 'subsample': 0.9, 'colsample_bytree': 0.6}. Best is trial 1 with value: 0.737236753671537.\n",
      "[I 2025-02-25 11:19:43,513] Trial 4 finished with value: 0.7364572091423525 and parameters: {'num_iterations': 1997, 'objective': 'binary', 'metric': 'auc', 'verbose': -1, 'learning_rate': 0.010907507425244923, 'n_estimators': 1597, 'min_child_samples': 50, 'subsample': 0.6, 'colsample_bytree': 0.8}. Best is trial 1 with value: 0.737236753671537.\n",
      "[I 2025-02-25 11:20:05,929] Trial 5 finished with value: 0.7345138534531415 and parameters: {'num_iterations': 2909, 'objective': 'binary', 'metric': 'auc', 'verbose': -1, 'learning_rate': 0.019760591962733942, 'n_estimators': 612, 'min_child_samples': 30, 'subsample': 0.7, 'colsample_bytree': 0.9}. Best is trial 1 with value: 0.737236753671537.\n",
      "[I 2025-02-25 11:20:26,507] Trial 6 finished with value: 0.7350611408470484 and parameters: {'num_iterations': 2639, 'objective': 'binary', 'metric': 'auc', 'verbose': -1, 'learning_rate': 0.017862094446750985, 'n_estimators': 794, 'min_child_samples': 35, 'subsample': 1.0, 'colsample_bytree': 0.8}. Best is trial 1 with value: 0.737236753671537.\n",
      "[I 2025-02-25 11:20:42,906] Trial 7 finished with value: 0.7372304757004159 and parameters: {'num_iterations': 1580, 'objective': 'binary', 'metric': 'auc', 'verbose': -1, 'learning_rate': 0.01776722177611332, 'n_estimators': 529, 'min_child_samples': 25, 'subsample': 0.8, 'colsample_bytree': 0.5}. Best is trial 1 with value: 0.737236753671537.\n",
      "[I 2025-02-25 11:21:00,191] Trial 8 finished with value: 0.7351821933136058 and parameters: {'num_iterations': 1911, 'objective': 'binary', 'metric': 'auc', 'verbose': -1, 'learning_rate': 0.0304747553332844, 'n_estimators': 1328, 'min_child_samples': 10, 'subsample': 0.7, 'colsample_bytree': 0.6}. Best is trial 1 with value: 0.737236753671537.\n",
      "[I 2025-02-25 11:21:27,466] Trial 9 finished with value: 0.7345335609614742 and parameters: {'num_iterations': 2739, 'objective': 'binary', 'metric': 'auc', 'verbose': -1, 'learning_rate': 0.02691531614176271, 'n_estimators': 1438, 'min_child_samples': 20, 'subsample': 0.6, 'colsample_bytree': 0.5}. Best is trial 1 with value: 0.737236753671537.\n",
      "[I 2025-02-25 11:21:42,295] Trial 10 finished with value: 0.7261905423719133 and parameters: {'num_iterations': 1933, 'objective': 'binary', 'metric': 'auc', 'verbose': -1, 'learning_rate': 0.08223556891145911, 'n_estimators': 1960, 'min_child_samples': 40, 'subsample': 1.0, 'colsample_bytree': 0.7}. Best is trial 1 with value: 0.737236753671537.\n",
      "[I 2025-02-25 11:21:58,572] Trial 11 finished with value: 0.7376764697576194 and parameters: {'num_iterations': 1513, 'objective': 'binary', 'metric': 'auc', 'verbose': -1, 'learning_rate': 0.009791292266126196, 'n_estimators': 299, 'min_child_samples': 25, 'subsample': 0.9, 'colsample_bytree': 0.5}. Best is trial 11 with value: 0.7376764697576194.\n",
      "[I 2025-02-25 11:22:13,591] Trial 12 finished with value: 0.737048100837892 and parameters: {'num_iterations': 1550, 'objective': 'binary', 'metric': 'auc', 'verbose': -1, 'learning_rate': 0.009303222125489579, 'n_estimators': 217, 'min_child_samples': 20, 'subsample': 0.9, 'colsample_bytree': 0.6}. Best is trial 11 with value: 0.7376764697576194.\n",
      "[I 2025-02-25 11:22:29,558] Trial 13 finished with value: 0.7370306567347072 and parameters: {'num_iterations': 1777, 'objective': 'binary', 'metric': 'auc', 'verbose': -1, 'learning_rate': 0.005144110939690685, 'n_estimators': 1108, 'min_child_samples': 30, 'subsample': 0.9, 'colsample_bytree': 0.7}. Best is trial 11 with value: 0.7376764697576194.\n",
      "[I 2025-02-25 11:22:52,341] Trial 14 finished with value: 0.7376221480340667 and parameters: {'num_iterations': 2165, 'objective': 'binary', 'metric': 'auc', 'verbose': -1, 'learning_rate': 0.00937245035506795, 'n_estimators': 1729, 'min_child_samples': 20, 'subsample': 1.0, 'colsample_bytree': 0.5}. Best is trial 11 with value: 0.7376764697576194.\n",
      "[I 2025-02-25 11:23:12,438] Trial 15 finished with value: 0.7368653527120629 and parameters: {'num_iterations': 2161, 'objective': 'binary', 'metric': 'auc', 'verbose': -1, 'learning_rate': 0.011438890052458907, 'n_estimators': 1989, 'min_child_samples': 25, 'subsample': 0.8, 'colsample_bytree': 0.6}. Best is trial 11 with value: 0.7376764697576194.\n",
      "[I 2025-02-25 11:23:33,189] Trial 16 finished with value: 0.7369629015030567 and parameters: {'num_iterations': 2495, 'objective': 'binary', 'metric': 'auc', 'verbose': -1, 'learning_rate': 0.008784281301465434, 'n_estimators': 1727, 'min_child_samples': 20, 'subsample': 0.9, 'colsample_bytree': 0.7}. Best is trial 11 with value: 0.7376764697576194.\n",
      "[I 2025-02-25 11:23:55,160] Trial 17 finished with value: 0.7368435565175759 and parameters: {'num_iterations': 2141, 'objective': 'binary', 'metric': 'auc', 'verbose': -1, 'learning_rate': 0.014364323482076244, 'n_estimators': 1147, 'min_child_samples': 35, 'subsample': 1.0, 'colsample_bytree': 0.5}. Best is trial 11 with value: 0.7376764697576194.\n",
      "[I 2025-02-25 11:24:10,877] Trial 18 finished with value: 0.7339132767661001 and parameters: {'num_iterations': 1762, 'objective': 'binary', 'metric': 'auc', 'verbose': -1, 'learning_rate': 0.03790922005126202, 'n_estimators': 386, 'min_child_samples': 25, 'subsample': 0.8, 'colsample_bytree': 0.6}. Best is trial 11 with value: 0.7376764697576194.\n",
      "[I 2025-02-25 11:24:35,096] Trial 19 finished with value: 0.7363881991106549 and parameters: {'num_iterations': 2997, 'objective': 'binary', 'metric': 'auc', 'verbose': -1, 'learning_rate': 0.007847021542522292, 'n_estimators': 1698, 'min_child_samples': 15, 'subsample': 0.9, 'colsample_bytree': 0.9}. Best is trial 11 with value: 0.7376764697576194.\n",
      "[I 2025-02-25 11:24:57,011] Trial 20 finished with value: 0.7371327363068833 and parameters: {'num_iterations': 2113, 'objective': 'binary', 'metric': 'auc', 'verbose': -1, 'learning_rate': 0.01328947870502586, 'n_estimators': 665, 'min_child_samples': 30, 'subsample': 1.0, 'colsample_bytree': 0.5}. Best is trial 11 with value: 0.7376764697576194.\n",
      "[I 2025-02-25 11:25:15,974] Trial 21 finished with value: 0.7375586575342213 and parameters: {'num_iterations': 1745, 'objective': 'binary', 'metric': 'auc', 'verbose': -1, 'learning_rate': 0.007337462574134009, 'n_estimators': 1349, 'min_child_samples': 15, 'subsample': 1.0, 'colsample_bytree': 0.5}. Best is trial 11 with value: 0.7376764697576194.\n",
      "[I 2025-02-25 11:25:32,580] Trial 22 finished with value: 0.7372518073012145 and parameters: {'num_iterations': 1714, 'objective': 'binary', 'metric': 'auc', 'verbose': -1, 'learning_rate': 0.008093441425043977, 'n_estimators': 1254, 'min_child_samples': 15, 'subsample': 1.0, 'colsample_bytree': 0.6}. Best is trial 11 with value: 0.7376764697576194.\n",
      "[I 2025-02-25 11:25:52,488] Trial 23 finished with value: 0.7374947262660051 and parameters: {'num_iterations': 1835, 'objective': 'binary', 'metric': 'auc', 'verbose': -1, 'learning_rate': 0.006587661518732988, 'n_estimators': 1645, 'min_child_samples': 20, 'subsample': 0.9, 'colsample_bytree': 0.5}. Best is trial 11 with value: 0.7376764697576194.\n",
      "[I 2025-02-25 11:26:13,644] Trial 24 finished with value: 0.7369836215873767 and parameters: {'num_iterations': 2039, 'objective': 'binary', 'metric': 'auc', 'verbose': -1, 'learning_rate': 0.013763055533112498, 'n_estimators': 1839, 'min_child_samples': 15, 'subsample': 1.0, 'colsample_bytree': 0.5}. Best is trial 11 with value: 0.7376764697576194.\n",
      "[I 2025-02-25 11:26:29,660] Trial 25 finished with value: 0.7372568384140611 and parameters: {'num_iterations': 1677, 'objective': 'binary', 'metric': 'auc', 'verbose': -1, 'learning_rate': 0.010451032216221377, 'n_estimators': 1442, 'min_child_samples': 25, 'subsample': 0.9, 'colsample_bytree': 0.6}. Best is trial 11 with value: 0.7376764697576194.\n",
      "[I 2025-02-25 11:26:45,547] Trial 26 finished with value: 0.7370569201761968 and parameters: {'num_iterations': 1838, 'objective': 'binary', 'metric': 'auc', 'verbose': -1, 'learning_rate': 0.00738278678777128, 'n_estimators': 1561, 'min_child_samples': 20, 'subsample': 0.8, 'colsample_bytree': 0.7}. Best is trial 11 with value: 0.7376764697576194.\n",
      "[I 2025-02-25 11:27:07,829] Trial 27 finished with value: 0.732047123046868 and parameters: {'num_iterations': 2244, 'objective': 'binary', 'metric': 'auc', 'verbose': -1, 'learning_rate': 0.047947876079429776, 'n_estimators': 969, 'min_child_samples': 15, 'subsample': 1.0, 'colsample_bytree': 0.5}. Best is trial 11 with value: 0.7376764697576194.\n",
      "[I 2025-02-25 11:27:30,758] Trial 28 finished with value: 0.7360876665576315 and parameters: {'num_iterations': 2530, 'objective': 'binary', 'metric': 'auc', 'verbose': -1, 'learning_rate': 0.01550758380674876, 'n_estimators': 1144, 'min_child_samples': 35, 'subsample': 0.9, 'colsample_bytree': 0.6}. Best is trial 11 with value: 0.7376764697576194.\n",
      "[I 2025-02-25 11:27:54,359] Trial 29 finished with value: 0.7348942524408005 and parameters: {'num_iterations': 2362, 'objective': 'binary', 'metric': 'auc', 'verbose': -1, 'learning_rate': 0.025733527934427708, 'n_estimators': 359, 'min_child_samples': 25, 'subsample': 1.0, 'colsample_bytree': 0.5}. Best is trial 11 with value: 0.7376764697576194.\n",
      "[I 2025-02-25 11:28:11,744] Trial 30 finished with value: 0.7376529819656008 and parameters: {'num_iterations': 1640, 'objective': 'binary', 'metric': 'auc', 'verbose': -1, 'learning_rate': 0.01166114870169159, 'n_estimators': 104, 'min_child_samples': 45, 'subsample': 0.8, 'colsample_bytree': 0.5}. Best is trial 11 with value: 0.7376764697576194.\n",
      "[I 2025-02-25 11:28:29,118] Trial 31 finished with value: 0.7373312567927965 and parameters: {'num_iterations': 1639, 'objective': 'binary', 'metric': 'auc', 'verbose': -1, 'learning_rate': 0.011573988358566928, 'n_estimators': 209, 'min_child_samples': 50, 'subsample': 0.8, 'colsample_bytree': 0.5}. Best is trial 11 with value: 0.7376764697576194.\n",
      "[I 2025-02-25 11:28:45,320] Trial 32 finished with value: 0.7375282167204235 and parameters: {'num_iterations': 1500, 'objective': 'binary', 'metric': 'auc', 'verbose': -1, 'learning_rate': 0.009360324295872144, 'n_estimators': 109, 'min_child_samples': 45, 'subsample': 0.9, 'colsample_bytree': 0.5}. Best is trial 11 with value: 0.7376764697576194.\n",
      "[I 2025-02-25 11:29:03,828] Trial 33 finished with value: 0.7375890109885223 and parameters: {'num_iterations': 1685, 'objective': 'binary', 'metric': 'auc', 'verbose': -1, 'learning_rate': 0.006465229703031509, 'n_estimators': 408, 'min_child_samples': 45, 'subsample': 0.8, 'colsample_bytree': 0.5}. Best is trial 11 with value: 0.7376764697576194.\n",
      "[I 2025-02-25 11:29:18,931] Trial 34 finished with value: 0.7371857873468441 and parameters: {'num_iterations': 1500, 'objective': 'binary', 'metric': 'auc', 'verbose': -1, 'learning_rate': 0.00596760700116471, 'n_estimators': 389, 'min_child_samples': 45, 'subsample': 0.8, 'colsample_bytree': 0.6}. Best is trial 11 with value: 0.7376764697576194.\n",
      "[I 2025-02-25 11:29:36,547] Trial 35 finished with value: 0.7374757096918755 and parameters: {'num_iterations': 1600, 'objective': 'binary', 'metric': 'auc', 'verbose': -1, 'learning_rate': 0.006242599287175489, 'n_estimators': 112, 'min_child_samples': 40, 'subsample': 0.6, 'colsample_bytree': 0.5}. Best is trial 11 with value: 0.7376764697576194.\n",
      "[I 2025-02-25 11:29:52,730] Trial 36 finished with value: 0.7366015190895272 and parameters: {'num_iterations': 1859, 'objective': 'binary', 'metric': 'auc', 'verbose': -1, 'learning_rate': 0.005269263663857556, 'n_estimators': 301, 'min_child_samples': 40, 'subsample': 0.7, 'colsample_bytree': 0.9}. Best is trial 11 with value: 0.7376764697576194.\n",
      "[I 2025-02-25 11:30:08,924] Trial 37 finished with value: 0.7359698265380299 and parameters: {'num_iterations': 1986, 'objective': 'binary', 'metric': 'auc', 'verbose': -1, 'learning_rate': 0.010108154541881962, 'n_estimators': 503, 'min_child_samples': 45, 'subsample': 0.8, 'colsample_bytree': 1.0}. Best is trial 11 with value: 0.7376764697576194.\n",
      "[I 2025-02-25 11:30:29,188] Trial 38 finished with value: 0.7356787645486521 and parameters: {'num_iterations': 2256, 'objective': 'binary', 'metric': 'auc', 'verbose': -1, 'learning_rate': 0.02123969109713096, 'n_estimators': 737, 'min_child_samples': 50, 'subsample': 0.7, 'colsample_bytree': 0.6}. Best is trial 11 with value: 0.7376764697576194.\n",
      "[I 2025-02-25 11:30:42,944] Trial 39 finished with value: 0.7365832013913731 and parameters: {'num_iterations': 1671, 'objective': 'binary', 'metric': 'auc', 'verbose': -1, 'learning_rate': 0.012084878317988958, 'n_estimators': 535, 'min_child_samples': 35, 'subsample': 0.5, 'colsample_bytree': 0.8}. Best is trial 11 with value: 0.7376764697576194.\n"
     ]
    },
    {
     "name": "stdout",
     "output_type": "stream",
     "text": [
      "Cat val score : 0.7386749768950014\n",
      "LGBM val score : 0.7374723542930157\n",
      "Ensemble val score : 0.7386887002777938\n"
     ]
    },
    {
     "name": "stderr",
     "output_type": "stream",
     "text": [
      "[I 2025-02-25 11:31:00,242] A new study created in memory with name: no-name-b291f33a-6d12-4955-b897-97021c2da87b\n"
     ]
    },
    {
     "name": "stdout",
     "output_type": "stream",
     "text": [
      "==================================================\n",
      "0:\ttest: 0.7234180\tbest: 0.7234180 (0)\ttotal: 136ms\tremaining: 5m 22s\n",
      "300:\ttest: 0.7396624\tbest: 0.7396624 (300)\ttotal: 40.5s\tremaining: 4m 37s\n",
      "600:\ttest: 0.7407382\tbest: 0.7407448 (598)\ttotal: 1m 23s\tremaining: 4m 3s\n",
      "900:\ttest: 0.7409925\tbest: 0.7410049 (881)\ttotal: 2m 5s\tremaining: 3m 24s\n",
      "1200:\ttest: 0.7409385\tbest: 0.7410247 (958)\ttotal: 2m 50s\tremaining: 2m 45s\n"
     ]
    },
    {
     "name": "stderr",
     "output_type": "stream",
     "text": [
      "[I 2025-02-25 11:34:00,176] Trial 0 finished with value: 0.7410246932260081 and parameters: {'iterations': 2366, 'depth': 10, 'learning_rate': 0.01181021951839225, 'l2_leaf_reg': 9.980783802743254}. Best is trial 0 with value: 0.7410246932260081.\n"
     ]
    },
    {
     "name": "stdout",
     "output_type": "stream",
     "text": [
      "Stopped by overfitting detector  (300 iterations wait)\n",
      "\n",
      "bestTest = 0.7410246932\n",
      "bestIteration = 958\n",
      "\n",
      "Shrink model to first 959 iterations.\n",
      "저장 완료\n",
      "0:\ttest: 0.6953976\tbest: 0.6953976 (0)\ttotal: 55.7ms\tremaining: 2m 2s\n",
      "300:\ttest: 0.7298407\tbest: 0.7298407 (300)\ttotal: 13.1s\tremaining: 1m 22s\n"
     ]
    },
    {
     "name": "stderr",
     "output_type": "stream",
     "text": [
      "Training has stopped (degenerate solution on iteration 327, probably too small l2-regularization, try to increase it)\n",
      "[I 2025-02-25 11:34:14,552] Trial 1 finished with value: 0.7305266548279195 and parameters: {'iterations': 2193, 'depth': 4, 'learning_rate': 0.005671430811678843, 'l2_leaf_reg': 0.00012325230809466137}. Best is trial 0 with value: 0.7410246932260081.\n"
     ]
    },
    {
     "name": "stdout",
     "output_type": "stream",
     "text": [
      "\n",
      "bestTest = 0.7305266548\n",
      "bestIteration = 326\n",
      "\n",
      "Shrink model to first 327 iterations.\n",
      "0:\ttest: 0.6953976\tbest: 0.6953976 (0)\ttotal: 53.7ms\tremaining: 2m 16s\n",
      "300:\ttest: 0.7411348\tbest: 0.7412523 (272)\ttotal: 14.4s\tremaining: 1m 47s\n",
      "600:\ttest: 0.7414699\tbest: 0.7414939 (511)\ttotal: 29.3s\tremaining: 1m 34s\n",
      "900:\ttest: 0.7408809\tbest: 0.7415125 (637)\ttotal: 44.5s\tremaining: 1m 20s\n"
     ]
    },
    {
     "name": "stderr",
     "output_type": "stream",
     "text": [
      "[I 2025-02-25 11:35:01,061] Trial 2 finished with value: 0.7415125165987015 and parameters: {'iterations': 2535, 'depth': 4, 'learning_rate': 0.09275339199839054, 'l2_leaf_reg': 0.0008705394248343123}. Best is trial 2 with value: 0.7415125165987015.\n"
     ]
    },
    {
     "name": "stdout",
     "output_type": "stream",
     "text": [
      "Stopped by overfitting detector  (300 iterations wait)\n",
      "\n",
      "bestTest = 0.7415125166\n",
      "bestIteration = 637\n",
      "\n",
      "Shrink model to first 638 iterations.\n",
      "저장 완료\n",
      "0:\ttest: 0.6953976\tbest: 0.6953976 (0)\ttotal: 54.4ms\tremaining: 2m 6s\n",
      "300:\ttest: 0.7404018\tbest: 0.7404018 (300)\ttotal: 13.6s\tremaining: 1m 31s\n",
      "600:\ttest: 0.7410930\tbest: 0.7411128 (528)\ttotal: 28.4s\tremaining: 1m 22s\n",
      "900:\ttest: 0.7412174\tbest: 0.7412416 (769)\ttotal: 43.3s\tremaining: 1m 8s\n"
     ]
    },
    {
     "name": "stderr",
     "output_type": "stream",
     "text": [
      "[I 2025-02-25 11:35:52,996] Trial 3 finished with value: 0.7412415909733687 and parameters: {'iterations': 2334, 'depth': 4, 'learning_rate': 0.04657568321363276, 'l2_leaf_reg': 0.0008640473331457248}. Best is trial 2 with value: 0.7415125165987015.\n"
     ]
    },
    {
     "name": "stdout",
     "output_type": "stream",
     "text": [
      "Stopped by overfitting detector  (300 iterations wait)\n",
      "\n",
      "bestTest = 0.741241591\n",
      "bestIteration = 769\n",
      "\n",
      "Shrink model to first 770 iterations.\n",
      "0:\ttest: 0.7233609\tbest: 0.7233609 (0)\ttotal: 127ms\tremaining: 3m 40s\n",
      "300:\ttest: 0.7386465\tbest: 0.7387059 (294)\ttotal: 38.5s\tremaining: 3m 4s\n",
      "600:\ttest: 0.7390521\tbest: 0.7391183 (527)\ttotal: 1m 19s\tremaining: 2m 30s\n",
      "900:\ttest: 0.7389305\tbest: 0.7392259 (843)\ttotal: 2m\tremaining: 1m 52s\n"
     ]
    },
    {
     "name": "stderr",
     "output_type": "stream",
     "text": [
      "[I 2025-02-25 11:38:28,774] Trial 4 finished with value: 0.7392258777953729 and parameters: {'iterations': 1742, 'depth': 10, 'learning_rate': 0.012622767482095846, 'l2_leaf_reg': 0.00021158816350109617}. Best is trial 2 with value: 0.7415125165987015.\n"
     ]
    },
    {
     "name": "stdout",
     "output_type": "stream",
     "text": [
      "Stopped by overfitting detector  (300 iterations wait)\n",
      "\n",
      "bestTest = 0.7392258778\n",
      "bestIteration = 843\n",
      "\n",
      "Shrink model to first 844 iterations.\n",
      "0:\ttest: 0.6953976\tbest: 0.6953976 (0)\ttotal: 53.4ms\tremaining: 1m 51s\n",
      "300:\ttest: 0.7410281\tbest: 0.7411084 (291)\ttotal: 14.2s\tremaining: 1m 24s\n",
      "600:\ttest: 0.7410087\tbest: 0.7411787 (368)\ttotal: 29s\tremaining: 1m 11s\n"
     ]
    },
    {
     "name": "stderr",
     "output_type": "stream",
     "text": [
      "[I 2025-02-25 11:39:01,426] Trial 5 finished with value: 0.7411787040482296 and parameters: {'iterations': 2082, 'depth': 4, 'learning_rate': 0.06995196593094148, 'l2_leaf_reg': 0.0018080296485396804}. Best is trial 2 with value: 0.7415125165987015.\n"
     ]
    },
    {
     "name": "stdout",
     "output_type": "stream",
     "text": [
      "Stopped by overfitting detector  (300 iterations wait)\n",
      "\n",
      "bestTest = 0.741178704\n",
      "bestIteration = 368\n",
      "\n",
      "Shrink model to first 369 iterations.\n",
      "0:\ttest: 0.7008980\tbest: 0.7008980 (0)\ttotal: 64.7ms\tremaining: 2m 9s\n",
      "300:\ttest: 0.7414306\tbest: 0.7414306 (300)\ttotal: 17.7s\tremaining: 1m 39s\n",
      "600:\ttest: 0.7415689\tbest: 0.7415706 (598)\ttotal: 35.6s\tremaining: 1m 22s\n",
      "900:\ttest: 0.7415409\tbest: 0.7415722 (881)\ttotal: 53.9s\tremaining: 1m 5s\n"
     ]
    },
    {
     "name": "stderr",
     "output_type": "stream",
     "text": [
      "[I 2025-02-25 11:40:12,822] Trial 6 finished with value: 0.7415721791642262 and parameters: {'iterations': 1997, 'depth': 5, 'learning_rate': 0.07985155992831598, 'l2_leaf_reg': 62.52181000710482}. Best is trial 6 with value: 0.7415721791642262.\n"
     ]
    },
    {
     "name": "stdout",
     "output_type": "stream",
     "text": [
      "Stopped by overfitting detector  (300 iterations wait)\n",
      "\n",
      "bestTest = 0.7415721792\n",
      "bestIteration = 881\n",
      "\n",
      "Shrink model to first 882 iterations.\n",
      "저장 완료\n",
      "0:\ttest: 0.7150150\tbest: 0.7150150 (0)\ttotal: 83.4ms\tremaining: 2m 40s\n",
      "300:\ttest: 0.7405762\tbest: 0.7412927 (152)\ttotal: 24.4s\tremaining: 2m 11s\n"
     ]
    },
    {
     "name": "stderr",
     "output_type": "stream",
     "text": [
      "[I 2025-02-25 11:40:50,219] Trial 7 finished with value: 0.7412926843664208 and parameters: {'iterations': 1927, 'depth': 7, 'learning_rate': 0.0941937211034094, 'l2_leaf_reg': 0.05654822767791934}. Best is trial 6 with value: 0.7415721791642262.\n"
     ]
    },
    {
     "name": "stdout",
     "output_type": "stream",
     "text": [
      "Stopped by overfitting detector  (300 iterations wait)\n",
      "\n",
      "bestTest = 0.7412926844\n",
      "bestIteration = 152\n",
      "\n",
      "Shrink model to first 153 iterations.\n",
      "0:\ttest: 0.7150135\tbest: 0.7150135 (0)\ttotal: 81.5ms\tremaining: 2m 35s\n",
      "300:\ttest: 0.7410895\tbest: 0.7410964 (298)\ttotal: 23.3s\tremaining: 2m 3s\n",
      "600:\ttest: 0.7409554\tbest: 0.7412279 (409)\ttotal: 48.6s\tremaining: 1m 45s\n"
     ]
    },
    {
     "name": "stderr",
     "output_type": "stream",
     "text": [
      "[I 2025-02-25 11:41:48,335] Trial 8 finished with value: 0.741227931124756 and parameters: {'iterations': 1904, 'depth': 7, 'learning_rate': 0.05155602859187331, 'l2_leaf_reg': 1.299974533316308}. Best is trial 6 with value: 0.7415721791642262.\n"
     ]
    },
    {
     "name": "stdout",
     "output_type": "stream",
     "text": [
      "Stopped by overfitting detector  (300 iterations wait)\n",
      "\n",
      "bestTest = 0.7412279311\n",
      "bestIteration = 409\n",
      "\n",
      "Shrink model to first 410 iterations.\n",
      "0:\ttest: 0.7128023\tbest: 0.7128023 (0)\ttotal: 76.8ms\tremaining: 3m 22s\n",
      "300:\ttest: 0.7409335\tbest: 0.7409335 (300)\ttotal: 19.9s\tremaining: 2m 34s\n",
      "600:\ttest: 0.7416314\tbest: 0.7416570 (570)\ttotal: 41.5s\tremaining: 2m 20s\n"
     ]
    },
    {
     "name": "stderr",
     "output_type": "stream",
     "text": [
      "[I 2025-02-25 11:42:49,560] Trial 9 finished with value: 0.7416569655268942 and parameters: {'iterations': 2639, 'depth': 6, 'learning_rate': 0.03968704290444751, 'l2_leaf_reg': 0.30557194377967184}. Best is trial 9 with value: 0.7416569655268942.\n"
     ]
    },
    {
     "name": "stdout",
     "output_type": "stream",
     "text": [
      "Stopped by overfitting detector  (300 iterations wait)\n",
      "\n",
      "bestTest = 0.7416569655\n",
      "bestIteration = 570\n",
      "\n",
      "Shrink model to first 571 iterations.\n",
      "저장 완료\n",
      "0:\ttest: 0.7128023\tbest: 0.7128023 (0)\ttotal: 75.6ms\tremaining: 3m 42s\n",
      "300:\ttest: 0.7406292\tbest: 0.7406292 (300)\ttotal: 19.9s\tremaining: 2m 54s\n",
      "600:\ttest: 0.7416446\tbest: 0.7416868 (566)\ttotal: 41s\tremaining: 2m 39s\n",
      "900:\ttest: 0.7414774\tbest: 0.7417071 (648)\ttotal: 1m 2s\tremaining: 2m 22s\n"
     ]
    },
    {
     "name": "stderr",
     "output_type": "stream",
     "text": [
      "[I 2025-02-25 11:43:56,097] Trial 10 finished with value: 0.7417071297325697 and parameters: {'iterations': 2945, 'depth': 6, 'learning_rate': 0.032580115422505045, 'l2_leaf_reg': 0.05588195113566891}. Best is trial 10 with value: 0.7417071297325697.\n"
     ]
    },
    {
     "name": "stdout",
     "output_type": "stream",
     "text": [
      "Stopped by overfitting detector  (300 iterations wait)\n",
      "\n",
      "bestTest = 0.7417071297\n",
      "bestIteration = 648\n",
      "\n",
      "Shrink model to first 649 iterations.\n",
      "저장 완료\n",
      "0:\ttest: 0.7128023\tbest: 0.7128023 (0)\ttotal: 80.4ms\tremaining: 4m\n",
      "300:\ttest: 0.7402728\tbest: 0.7402740 (298)\ttotal: 19.4s\tremaining: 2m 54s\n",
      "600:\ttest: 0.7414146\tbest: 0.7414358 (585)\ttotal: 40.7s\tremaining: 2m 42s\n",
      "900:\ttest: 0.7414116\tbest: 0.7415186 (782)\ttotal: 1m 2s\tremaining: 2m 25s\n"
     ]
    },
    {
     "name": "stderr",
     "output_type": "stream",
     "text": [
      "[I 2025-02-25 11:45:12,336] Trial 11 finished with value: 0.7415185761710803 and parameters: {'iterations': 2996, 'depth': 6, 'learning_rate': 0.03250520130108762, 'l2_leaf_reg': 0.07022360666999101}. Best is trial 10 with value: 0.7417071297325697.\n"
     ]
    },
    {
     "name": "stdout",
     "output_type": "stream",
     "text": [
      "Stopped by overfitting detector  (300 iterations wait)\n",
      "\n",
      "bestTest = 0.7415185762\n",
      "bestIteration = 782\n",
      "\n",
      "Shrink model to first 783 iterations.\n",
      "0:\ttest: 0.7128022\tbest: 0.7128022 (0)\ttotal: 75.1ms\tremaining: 3m 36s\n",
      "300:\ttest: 0.7405287\tbest: 0.7405287 (300)\ttotal: 19.7s\tremaining: 2m 49s\n",
      "600:\ttest: 0.7414225\tbest: 0.7414365 (594)\ttotal: 41s\tremaining: 2m 36s\n",
      "900:\ttest: 0.7416257\tbest: 0.7416507 (815)\ttotal: 1m 2s\tremaining: 2m 18s\n"
     ]
    },
    {
     "name": "stderr",
     "output_type": "stream",
     "text": [
      "[I 2025-02-25 11:46:31,093] Trial 12 finished with value: 0.7416507193228629 and parameters: {'iterations': 2887, 'depth': 6, 'learning_rate': 0.03326204917552099, 'l2_leaf_reg': 0.5279524076347274}. Best is trial 10 with value: 0.7417071297325697.\n"
     ]
    },
    {
     "name": "stdout",
     "output_type": "stream",
     "text": [
      "Stopped by overfitting detector  (300 iterations wait)\n",
      "\n",
      "bestTest = 0.7416507193\n",
      "bestIteration = 815\n",
      "\n",
      "Shrink model to first 816 iterations.\n",
      "0:\ttest: 0.7174024\tbest: 0.7174024 (0)\ttotal: 97ms\tremaining: 4m 19s\n",
      "300:\ttest: 0.7405698\tbest: 0.7406816 (212)\ttotal: 25.7s\tremaining: 3m 22s\n",
      "600:\ttest: 0.7405062\tbest: 0.7409581 (434)\ttotal: 53.5s\tremaining: 3m 5s\n"
     ]
    },
    {
     "name": "stderr",
     "output_type": "stream",
     "text": [
      "[I 2025-02-25 11:47:37,733] Trial 13 finished with value: 0.7409581252893387 and parameters: {'iterations': 2680, 'depth': 8, 'learning_rate': 0.03202375503200278, 'l2_leaf_reg': 0.008626221466990533}. Best is trial 10 with value: 0.7417071297325697.\n"
     ]
    },
    {
     "name": "stdout",
     "output_type": "stream",
     "text": [
      "Stopped by overfitting detector  (300 iterations wait)\n",
      "\n",
      "bestTest = 0.7409581253\n",
      "bestIteration = 434\n",
      "\n",
      "Shrink model to first 435 iterations.\n",
      "0:\ttest: 0.7174191\tbest: 0.7174191 (0)\ttotal: 97.1ms\tremaining: 4m 27s\n",
      "300:\ttest: 0.7411936\tbest: 0.7412686 (295)\ttotal: 27s\tremaining: 3m 40s\n",
      "600:\ttest: 0.7403908\tbest: 0.7412971 (389)\ttotal: 56.3s\tremaining: 3m 21s\n"
     ]
    },
    {
     "name": "stderr",
     "output_type": "stream",
     "text": [
      "[I 2025-02-25 11:48:42,809] Trial 14 finished with value: 0.7412970920501301 and parameters: {'iterations': 2754, 'depth': 8, 'learning_rate': 0.06308101933412968, 'l2_leaf_reg': 0.8010512238758325}. Best is trial 10 with value: 0.7417071297325697.\n"
     ]
    },
    {
     "name": "stdout",
     "output_type": "stream",
     "text": [
      "Stopped by overfitting detector  (300 iterations wait)\n",
      "\n",
      "bestTest = 0.7412970921\n",
      "bestIteration = 389\n",
      "\n",
      "Shrink model to first 390 iterations.\n",
      "0:\ttest: 0.7128023\tbest: 0.7128023 (0)\ttotal: 76ms\tremaining: 3m 16s\n",
      "300:\ttest: 0.7411261\tbest: 0.7411383 (294)\ttotal: 19.8s\tremaining: 2m 30s\n",
      "600:\ttest: 0.7418369\tbest: 0.7419322 (581)\ttotal: 41.4s\tremaining: 2m 16s\n",
      "900:\ttest: 0.7418395\tbest: 0.7420033 (723)\ttotal: 1m 3s\tremaining: 1m 58s\n"
     ]
    },
    {
     "name": "stderr",
     "output_type": "stream",
     "text": [
      "[I 2025-02-25 11:49:55,118] Trial 15 finished with value: 0.7420032665145426 and parameters: {'iterations': 2590, 'depth': 6, 'learning_rate': 0.042092255830209285, 'l2_leaf_reg': 0.01343217921291673}. Best is trial 15 with value: 0.7420032665145426.\n"
     ]
    },
    {
     "name": "stdout",
     "output_type": "stream",
     "text": [
      "Stopped by overfitting detector  (300 iterations wait)\n",
      "\n",
      "bestTest = 0.7420032665\n",
      "bestIteration = 723\n",
      "\n",
      "Shrink model to first 724 iterations.\n",
      "저장 완료\n",
      "0:\ttest: 0.7174092\tbest: 0.7174092 (0)\ttotal: 97.1ms\tremaining: 3m 59s\n",
      "300:\ttest: 0.7407665\tbest: 0.7407715 (295)\ttotal: 25.2s\tremaining: 3m 1s\n",
      "600:\ttest: 0.7411990\tbest: 0.7412441 (597)\ttotal: 52.2s\tremaining: 2m 42s\n"
     ]
    },
    {
     "name": "stderr",
     "output_type": "stream",
     "text": [
      "[I 2025-02-25 11:51:16,419] Trial 16 finished with value: 0.7412440648354867 and parameters: {'iterations': 2471, 'depth': 8, 'learning_rate': 0.025017425056443762, 'l2_leaf_reg': 0.025362678278863026}. Best is trial 15 with value: 0.7420032665145426.\n"
     ]
    },
    {
     "name": "stdout",
     "output_type": "stream",
     "text": [
      "Stopped by overfitting detector  (300 iterations wait)\n",
      "\n",
      "bestTest = 0.7412440648\n",
      "bestIteration = 597\n",
      "\n",
      "Shrink model to first 598 iterations.\n",
      "0:\ttest: 0.7004777\tbest: 0.7004777 (0)\ttotal: 63.8ms\tremaining: 3m\n",
      "300:\ttest: 0.7413360\tbest: 0.7413740 (299)\ttotal: 17.3s\tremaining: 2m 25s\n",
      "600:\ttest: 0.7414555\tbest: 0.7415649 (386)\ttotal: 35.5s\tremaining: 2m 12s\n"
     ]
    },
    {
     "name": "stderr",
     "output_type": "stream",
     "text": [
      "[I 2025-02-25 11:51:57,354] Trial 17 finished with value: 0.7415648528791419 and parameters: {'iterations': 2836, 'depth': 5, 'learning_rate': 0.06288826143527473, 'l2_leaf_reg': 0.00795480840919648}. Best is trial 15 with value: 0.7420032665145426.\n"
     ]
    },
    {
     "name": "stdout",
     "output_type": "stream",
     "text": [
      "Stopped by overfitting detector  (300 iterations wait)\n",
      "\n",
      "bestTest = 0.7415648529\n",
      "bestIteration = 386\n",
      "\n",
      "Shrink model to first 387 iterations.\n",
      "0:\ttest: 0.7150151\tbest: 0.7150151 (0)\ttotal: 82.8ms\tremaining: 4m 7s\n",
      "300:\ttest: 0.7400064\tbest: 0.7400064 (300)\ttotal: 22.1s\tremaining: 3m 17s\n",
      "600:\ttest: 0.7410424\tbest: 0.7410424 (600)\ttotal: 45.1s\tremaining: 2m 59s\n",
      "900:\ttest: 0.7414602\tbest: 0.7414743 (899)\ttotal: 1m 9s\tremaining: 2m 41s\n",
      "1200:\ttest: 0.7414336\tbest: 0.7416061 (988)\ttotal: 1m 35s\tremaining: 2m 21s\n"
     ]
    },
    {
     "name": "stderr",
     "output_type": "stream",
     "text": [
      "[I 2025-02-25 11:53:40,362] Trial 18 finished with value: 0.7416061381832192 and parameters: {'iterations': 2990, 'depth': 7, 'learning_rate': 0.01958373252715346, 'l2_leaf_reg': 0.0071998614598464345}. Best is trial 15 with value: 0.7420032665145426.\n"
     ]
    },
    {
     "name": "stdout",
     "output_type": "stream",
     "text": [
      "Stopped by overfitting detector  (300 iterations wait)\n",
      "\n",
      "bestTest = 0.7416061382\n",
      "bestIteration = 988\n",
      "\n",
      "Shrink model to first 989 iterations.\n",
      "0:\ttest: 0.7004749\tbest: 0.7004749 (0)\ttotal: 66.7ms\tremaining: 2m 50s\n",
      "300:\ttest: 0.7410298\tbest: 0.7410298 (300)\ttotal: 17.3s\tremaining: 2m 9s\n",
      "600:\ttest: 0.7416543\tbest: 0.7416575 (597)\ttotal: 35.4s\tremaining: 1m 55s\n",
      "900:\ttest: 0.7417602\tbest: 0.7417673 (883)\ttotal: 53.9s\tremaining: 1m 39s\n"
     ]
    },
    {
     "name": "stderr",
     "output_type": "stream",
     "text": [
      "[I 2025-02-25 11:54:51,719] Trial 19 finished with value: 0.741767296600645 and parameters: {'iterations': 2556, 'depth': 5, 'learning_rate': 0.046139543828447024, 'l2_leaf_reg': 6.800291749062329}. Best is trial 15 with value: 0.7420032665145426.\n"
     ]
    },
    {
     "name": "stdout",
     "output_type": "stream",
     "text": [
      "Stopped by overfitting detector  (300 iterations wait)\n",
      "\n",
      "bestTest = 0.7417672966\n",
      "bestIteration = 883\n",
      "\n",
      "Shrink model to first 884 iterations.\n",
      "0:\ttest: 0.7004756\tbest: 0.7004756 (0)\ttotal: 66.2ms\tremaining: 1m 42s\n",
      "300:\ttest: 0.7410596\tbest: 0.7410596 (300)\ttotal: 17.3s\tremaining: 1m 11s\n",
      "600:\ttest: 0.7416516\tbest: 0.7417111 (531)\ttotal: 35.6s\tremaining: 56.2s\n",
      "900:\ttest: 0.7417384\tbest: 0.7418238 (850)\ttotal: 53.9s\tremaining: 38.9s\n"
     ]
    },
    {
     "name": "stderr",
     "output_type": "stream",
     "text": [
      "[I 2025-02-25 11:56:01,085] Trial 20 finished with value: 0.7418237586318728 and parameters: {'iterations': 1551, 'depth': 5, 'learning_rate': 0.04830264956766963, 'l2_leaf_reg': 6.211119165892711}. Best is trial 15 with value: 0.7420032665145426.\n"
     ]
    },
    {
     "name": "stdout",
     "output_type": "stream",
     "text": [
      "Stopped by overfitting detector  (300 iterations wait)\n",
      "\n",
      "bestTest = 0.7418237586\n",
      "bestIteration = 850\n",
      "\n",
      "Shrink model to first 851 iterations.\n",
      "0:\ttest: 0.7004756\tbest: 0.7004756 (0)\ttotal: 62.4ms\tremaining: 1m 34s\n",
      "300:\ttest: 0.7406102\tbest: 0.7406102 (300)\ttotal: 17.1s\tremaining: 1m 8s\n",
      "600:\ttest: 0.7415166\tbest: 0.7415300 (582)\ttotal: 35.3s\tremaining: 53.7s\n",
      "900:\ttest: 0.7415243\tbest: 0.7415961 (658)\ttotal: 53.7s\tremaining: 36.6s\n"
     ]
    },
    {
     "name": "stderr",
     "output_type": "stream",
     "text": [
      "[I 2025-02-25 11:56:58,542] Trial 21 finished with value: 0.7415960640448673 and parameters: {'iterations': 1515, 'depth': 5, 'learning_rate': 0.044747517918674054, 'l2_leaf_reg': 5.3560197078899225}. Best is trial 15 with value: 0.7420032665145426.\n"
     ]
    },
    {
     "name": "stdout",
     "output_type": "stream",
     "text": [
      "Stopped by overfitting detector  (300 iterations wait)\n",
      "\n",
      "bestTest = 0.741596064\n",
      "bestIteration = 658\n",
      "\n",
      "Shrink model to first 659 iterations.\n",
      "0:\ttest: 0.7008980\tbest: 0.7008980 (0)\ttotal: 64.7ms\tremaining: 2m 44s\n",
      "300:\ttest: 0.7409483\tbest: 0.7409538 (298)\ttotal: 17.1s\tremaining: 2m 7s\n",
      "600:\ttest: 0.7414605\tbest: 0.7414606 (598)\ttotal: 35s\tremaining: 1m 53s\n",
      "900:\ttest: 0.7415175\tbest: 0.7415499 (858)\ttotal: 53s\tremaining: 1m 36s\n",
      "1200:\ttest: 0.7415246\tbest: 0.7415786 (1123)\ttotal: 1m 11s\tremaining: 1m 19s\n"
     ]
    },
    {
     "name": "stderr",
     "output_type": "stream",
     "text": [
      "[I 2025-02-25 11:58:23,455] Trial 22 finished with value: 0.7415786159707964 and parameters: {'iterations': 2548, 'depth': 5, 'learning_rate': 0.05528849296199731, 'l2_leaf_reg': 68.58558645988492}. Best is trial 15 with value: 0.7420032665145426.\n"
     ]
    },
    {
     "name": "stdout",
     "output_type": "stream",
     "text": [
      "Stopped by overfitting detector  (300 iterations wait)\n",
      "\n",
      "bestTest = 0.741578616\n",
      "bestIteration = 1123\n",
      "\n",
      "Shrink model to first 1124 iterations.\n",
      "0:\ttest: 0.7004756\tbest: 0.7004756 (0)\ttotal: 67.5ms\tremaining: 2m 30s\n",
      "300:\ttest: 0.7409271\tbest: 0.7409271 (300)\ttotal: 17.3s\tremaining: 1m 51s\n",
      "600:\ttest: 0.7412788\tbest: 0.7413136 (567)\ttotal: 35.7s\tremaining: 1m 36s\n"
     ]
    },
    {
     "name": "stderr",
     "output_type": "stream",
     "text": [
      "[I 2025-02-25 11:59:15,592] Trial 23 finished with value: 0.7413136466748005 and parameters: {'iterations': 2229, 'depth': 5, 'learning_rate': 0.05513830666096457, 'l2_leaf_reg': 5.752721676589278}. Best is trial 15 with value: 0.7420032665145426.\n"
     ]
    },
    {
     "name": "stdout",
     "output_type": "stream",
     "text": [
      "Stopped by overfitting detector  (300 iterations wait)\n",
      "\n",
      "bestTest = 0.7413136467\n",
      "bestIteration = 567\n",
      "\n",
      "Shrink model to first 568 iterations.\n",
      "0:\ttest: 0.7128328\tbest: 0.7128328 (0)\ttotal: 73.1ms\tremaining: 1m 50s\n",
      "300:\ttest: 0.7418163\tbest: 0.7418419 (289)\ttotal: 20.5s\tremaining: 1m 22s\n",
      "600:\ttest: 0.7417947\tbest: 0.7420363 (325)\ttotal: 42s\tremaining: 1m 4s\n"
     ]
    },
    {
     "name": "stderr",
     "output_type": "stream",
     "text": [
      "[I 2025-02-25 11:59:59,516] Trial 24 finished with value: 0.7420362884043864 and parameters: {'iterations': 1519, 'depth': 6, 'learning_rate': 0.07642507992730378, 'l2_leaf_reg': 19.19199754948675}. Best is trial 24 with value: 0.7420362884043864.\n"
     ]
    },
    {
     "name": "stdout",
     "output_type": "stream",
     "text": [
      "Stopped by overfitting detector  (300 iterations wait)\n",
      "\n",
      "bestTest = 0.7420362884\n",
      "bestIteration = 325\n",
      "\n",
      "Shrink model to first 326 iterations.\n",
      "저장 완료\n",
      "0:\ttest: 0.7150046\tbest: 0.7150046 (0)\ttotal: 81.9ms\tremaining: 2m 4s\n",
      "300:\ttest: 0.7413805\tbest: 0.7414599 (266)\ttotal: 23.3s\tremaining: 1m 34s\n",
      "600:\ttest: 0.7412850\tbest: 0.7415828 (361)\ttotal: 48.2s\tremaining: 1m 13s\n"
     ]
    },
    {
     "name": "stderr",
     "output_type": "stream",
     "text": [
      "[I 2025-02-25 12:00:52,989] Trial 25 finished with value: 0.7415828449646256 and parameters: {'iterations': 1519, 'depth': 7, 'learning_rate': 0.07803133569061724, 'l2_leaf_reg': 23.27840130284566}. Best is trial 24 with value: 0.7420362884043864.\n"
     ]
    },
    {
     "name": "stdout",
     "output_type": "stream",
     "text": [
      "Stopped by overfitting detector  (300 iterations wait)\n",
      "\n",
      "bestTest = 0.741582845\n",
      "bestIteration = 361\n",
      "\n",
      "Shrink model to first 362 iterations.\n",
      "0:\ttest: 0.7128017\tbest: 0.7128017 (0)\ttotal: 74ms\tremaining: 2m 3s\n",
      "300:\ttest: 0.7416565\tbest: 0.7416565 (300)\ttotal: 20.7s\tremaining: 1m 33s\n",
      "600:\ttest: 0.7413544\tbest: 0.7417458 (405)\ttotal: 42.4s\tremaining: 1m 15s\n"
     ]
    },
    {
     "name": "stderr",
     "output_type": "stream",
     "text": [
      "[I 2025-02-25 12:01:43,299] Trial 26 finished with value: 0.7417458458732596 and parameters: {'iterations': 1665, 'depth': 6, 'learning_rate': 0.07628804970187145, 'l2_leaf_reg': 1.7258362218141217}. Best is trial 24 with value: 0.7420362884043864.\n"
     ]
    },
    {
     "name": "stdout",
     "output_type": "stream",
     "text": [
      "Stopped by overfitting detector  (300 iterations wait)\n",
      "\n",
      "bestTest = 0.7417458459\n",
      "bestIteration = 405\n",
      "\n",
      "Shrink model to first 406 iterations.\n",
      "0:\ttest: 0.7191340\tbest: 0.7191340 (0)\ttotal: 117ms\tremaining: 3m 19s\n",
      "300:\ttest: 0.7395058\tbest: 0.7411926 (161)\ttotal: 31.4s\tremaining: 2m 26s\n"
     ]
    },
    {
     "name": "stderr",
     "output_type": "stream",
     "text": [
      "[I 2025-02-25 12:02:33,007] Trial 27 finished with value: 0.7411925783246984 and parameters: {'iterations': 1704, 'depth': 9, 'learning_rate': 0.08660260604720199, 'l2_leaf_reg': 0.22154305743654273}. Best is trial 24 with value: 0.7420362884043864.\n"
     ]
    },
    {
     "name": "stdout",
     "output_type": "stream",
     "text": [
      "Stopped by overfitting detector  (300 iterations wait)\n",
      "\n",
      "bestTest = 0.7411925783\n",
      "bestIteration = 161\n",
      "\n",
      "Shrink model to first 162 iterations.\n",
      "0:\ttest: 0.7128325\tbest: 0.7128325 (0)\ttotal: 76.7ms\tremaining: 2m 19s\n",
      "300:\ttest: 0.7415168\tbest: 0.7415168 (300)\ttotal: 20.3s\tremaining: 1m 42s\n",
      "600:\ttest: 0.7415958\tbest: 0.7417513 (508)\ttotal: 41.7s\tremaining: 1m 24s\n"
     ]
    },
    {
     "name": "stderr",
     "output_type": "stream",
     "text": [
      "[I 2025-02-25 12:03:29,823] Trial 28 finished with value: 0.7417513415797945 and parameters: {'iterations': 1824, 'depth': 6, 'learning_rate': 0.06735118072959509, 'l2_leaf_reg': 27.099106437545284}. Best is trial 24 with value: 0.7420362884043864.\n"
     ]
    },
    {
     "name": "stdout",
     "output_type": "stream",
     "text": [
      "Stopped by overfitting detector  (300 iterations wait)\n",
      "\n",
      "bestTest = 0.7417513416\n",
      "bestIteration = 508\n",
      "\n",
      "Shrink model to first 509 iterations.\n",
      "0:\ttest: 0.7128002\tbest: 0.7128002 (0)\ttotal: 76ms\tremaining: 2m 4s\n",
      "300:\ttest: 0.7415595\tbest: 0.7416351 (273)\ttotal: 20.6s\tremaining: 1m 31s\n",
      "600:\ttest: 0.7418590\tbest: 0.7418816 (596)\ttotal: 42.3s\tremaining: 1m 12s\n",
      "900:\ttest: 0.7416319\tbest: 0.7418871 (609)\ttotal: 1m 4s\tremaining: 52.5s\n"
     ]
    },
    {
     "name": "stderr",
     "output_type": "stream",
     "text": [
      "[I 2025-02-25 12:04:34,981] Trial 29 finished with value: 0.7418870505874069 and parameters: {'iterations': 1637, 'depth': 6, 'learning_rate': 0.06089871550203712, 'l2_leaf_reg': 2.7290983851008663}. Best is trial 24 with value: 0.7420362884043864.\n"
     ]
    },
    {
     "name": "stdout",
     "output_type": "stream",
     "text": [
      "Stopped by overfitting detector  (300 iterations wait)\n",
      "\n",
      "bestTest = 0.7418870506\n",
      "bestIteration = 609\n",
      "\n",
      "Shrink model to first 610 iterations.\n",
      "0:\ttest: 0.7174228\tbest: 0.7174228 (0)\ttotal: 95.3ms\tremaining: 2m 33s\n",
      "300:\ttest: 0.7412070\tbest: 0.7412251 (295)\ttotal: 27.1s\tremaining: 1m 58s\n",
      "600:\ttest: 0.7402054\tbest: 0.7412513 (337)\ttotal: 56.1s\tremaining: 1m 34s\n"
     ]
    },
    {
     "name": "stderr",
     "output_type": "stream",
     "text": [
      "[I 2025-02-25 12:05:34,886] Trial 30 finished with value: 0.7412513156737328 and parameters: {'iterations': 1616, 'depth': 8, 'learning_rate': 0.06225177468831753, 'l2_leaf_reg': 2.85037775882997}. Best is trial 24 with value: 0.7420362884043864.\n"
     ]
    },
    {
     "name": "stdout",
     "output_type": "stream",
     "text": [
      "Stopped by overfitting detector  (300 iterations wait)\n",
      "\n",
      "bestTest = 0.7412513157\n",
      "bestIteration = 337\n",
      "\n",
      "Shrink model to first 338 iterations.\n",
      "0:\ttest: 0.7128328\tbest: 0.7128328 (0)\ttotal: 74.9ms\tremaining: 2m 1s\n",
      "300:\ttest: 0.7408818\tbest: 0.7408818 (300)\ttotal: 19.8s\tremaining: 1m 26s\n",
      "600:\ttest: 0.7418154\tbest: 0.7418387 (593)\ttotal: 41.1s\tremaining: 1m 9s\n",
      "900:\ttest: 0.7417312\tbest: 0.7419287 (725)\ttotal: 1m 2s\tremaining: 49.9s\n"
     ]
    },
    {
     "name": "stderr",
     "output_type": "stream",
     "text": [
      "[I 2025-02-25 12:06:46,658] Trial 31 finished with value: 0.7419286575332683 and parameters: {'iterations': 1618, 'depth': 6, 'learning_rate': 0.04060010518130375, 'l2_leaf_reg': 19.638876949408772}. Best is trial 24 with value: 0.7420362884043864.\n"
     ]
    },
    {
     "name": "stdout",
     "output_type": "stream",
     "text": [
      "Stopped by overfitting detector  (300 iterations wait)\n",
      "\n",
      "bestTest = 0.7419286575\n",
      "bestIteration = 725\n",
      "\n",
      "Shrink model to first 726 iterations.\n",
      "0:\ttest: 0.7128325\tbest: 0.7128325 (0)\ttotal: 74.7ms\tremaining: 2m 13s\n",
      "300:\ttest: 0.7406863\tbest: 0.7406910 (298)\ttotal: 19.8s\tremaining: 1m 38s\n",
      "600:\ttest: 0.7416736\tbest: 0.7416736 (600)\ttotal: 41.3s\tremaining: 1m 21s\n",
      "900:\ttest: 0.7418438\tbest: 0.7418615 (892)\ttotal: 1m 2s\tremaining: 1m 1s\n",
      "1200:\ttest: 0.7418791\tbest: 0.7419641 (1109)\ttotal: 1m 24s\tremaining: 41.4s\n"
     ]
    },
    {
     "name": "stderr",
     "output_type": "stream",
     "text": [
      "[I 2025-02-25 12:08:26,576] Trial 32 finished with value: 0.7419641254890266 and parameters: {'iterations': 1790, 'depth': 6, 'learning_rate': 0.03974283109679982, 'l2_leaf_reg': 25.538808957027513}. Best is trial 24 with value: 0.7420362884043864.\n"
     ]
    },
    {
     "name": "stdout",
     "output_type": "stream",
     "text": [
      "Stopped by overfitting detector  (300 iterations wait)\n",
      "\n",
      "bestTest = 0.7419641255\n",
      "bestIteration = 1109\n",
      "\n",
      "Shrink model to first 1110 iterations.\n",
      "0:\ttest: 0.7150050\tbest: 0.7150050 (0)\ttotal: 82.4ms\tremaining: 2m 26s\n",
      "300:\ttest: 0.7410712\tbest: 0.7410712 (300)\ttotal: 22.6s\tremaining: 1m 51s\n",
      "600:\ttest: 0.7419116\tbest: 0.7419495 (586)\ttotal: 47.7s\tremaining: 1m 33s\n",
      "900:\ttest: 0.7417529\tbest: 0.7419837 (628)\ttotal: 1m 12s\tremaining: 1m 11s\n"
     ]
    },
    {
     "name": "stderr",
     "output_type": "stream",
     "text": [
      "[I 2025-02-25 12:09:41,840] Trial 33 finished with value: 0.7419836940163415 and parameters: {'iterations': 1783, 'depth': 7, 'learning_rate': 0.04046922083077214, 'l2_leaf_reg': 23.84564508422111}. Best is trial 24 with value: 0.7420362884043864.\n"
     ]
    },
    {
     "name": "stdout",
     "output_type": "stream",
     "text": [
      "Stopped by overfitting detector  (300 iterations wait)\n",
      "\n",
      "bestTest = 0.741983694\n",
      "bestIteration = 628\n",
      "\n",
      "Shrink model to first 629 iterations.\n",
      "0:\ttest: 0.7150185\tbest: 0.7150185 (0)\ttotal: 83.6ms\tremaining: 2m 58s\n",
      "300:\ttest: 0.7412019\tbest: 0.7412019 (300)\ttotal: 22.7s\tremaining: 2m 17s\n",
      "600:\ttest: 0.7415605\tbest: 0.7415875 (594)\ttotal: 48.7s\tremaining: 2m 4s\n",
      "900:\ttest: 0.7415015\tbest: 0.7416330 (620)\ttotal: 1m 14s\tremaining: 1m 41s\n"
     ]
    },
    {
     "name": "stderr",
     "output_type": "stream",
     "text": [
      "[I 2025-02-25 12:10:57,778] Trial 34 finished with value: 0.7416330329956184 and parameters: {'iterations': 2132, 'depth': 7, 'learning_rate': 0.04034578461744187, 'l2_leaf_reg': 15.190686361613517}. Best is trial 24 with value: 0.7420362884043864.\n"
     ]
    },
    {
     "name": "stdout",
     "output_type": "stream",
     "text": [
      "Stopped by overfitting detector  (300 iterations wait)\n",
      "\n",
      "bestTest = 0.741633033\n",
      "bestIteration = 620\n",
      "\n",
      "Shrink model to first 621 iterations.\n",
      "0:\ttest: 0.7169394\tbest: 0.7169394 (0)\ttotal: 86.5ms\tremaining: 2m 35s\n",
      "300:\ttest: 0.7405061\tbest: 0.7405061 (300)\ttotal: 21.7s\tremaining: 1m 47s\n",
      "600:\ttest: 0.7414417\tbest: 0.7414433 (599)\ttotal: 44.3s\tremaining: 1m 27s\n",
      "900:\ttest: 0.7417469\tbest: 0.7417563 (877)\ttotal: 1m 9s\tremaining: 1m 8s\n",
      "1200:\ttest: 0.7419326\tbest: 0.7419345 (1189)\ttotal: 1m 34s\tremaining: 46.3s\n",
      "1500:\ttest: 0.7419299\tbest: 0.7419508 (1344)\ttotal: 1m 58s\tremaining: 23.1s\n"
     ]
    },
    {
     "name": "stderr",
     "output_type": "stream",
     "text": [
      "[I 2025-02-25 12:13:21,248] Trial 35 finished with value: 0.7419876053392727 and parameters: {'iterations': 1792, 'depth': 7, 'learning_rate': 0.02429764316222246, 'l2_leaf_reg': 81.87099907174115}. Best is trial 24 with value: 0.7420362884043864.\n"
     ]
    },
    {
     "name": "stdout",
     "output_type": "stream",
     "text": [
      "1791:\ttest: 0.7419850\tbest: 0.7419876 (1781)\ttotal: 2m 23s\tremaining: 0us\n",
      "\n",
      "bestTest = 0.7419876053\n",
      "bestIteration = 1781\n",
      "\n",
      "Shrink model to first 1782 iterations.\n",
      "0:\ttest: 0.7169447\tbest: 0.7169447 (0)\ttotal: 84.3ms\tremaining: 3m 21s\n",
      "300:\ttest: 0.7404718\tbest: 0.7404790 (299)\ttotal: 22s\tremaining: 2m 33s\n",
      "600:\ttest: 0.7412518\tbest: 0.7412534 (598)\ttotal: 44.9s\tremaining: 2m 13s\n",
      "900:\ttest: 0.7414516\tbest: 0.7414675 (891)\ttotal: 1m 9s\tremaining: 1m 55s\n",
      "1200:\ttest: 0.7416593\tbest: 0.7416596 (1198)\ttotal: 1m 34s\tremaining: 1m 34s\n",
      "1500:\ttest: 0.7417110\tbest: 0.7417565 (1425)\ttotal: 1m 59s\tremaining: 1m 11s\n"
     ]
    },
    {
     "name": "stderr",
     "output_type": "stream",
     "text": [
      "[I 2025-02-25 12:15:40,281] Trial 36 finished with value: 0.7417565315280901 and parameters: {'iterations': 2393, 'depth': 7, 'learning_rate': 0.023483872051444067, 'l2_leaf_reg': 52.57097735711832}. Best is trial 24 with value: 0.7420362884043864.\n"
     ]
    },
    {
     "name": "stdout",
     "output_type": "stream",
     "text": [
      "Stopped by overfitting detector  (300 iterations wait)\n",
      "\n",
      "bestTest = 0.7417565315\n",
      "bestIteration = 1425\n",
      "\n",
      "Shrink model to first 1426 iterations.\n",
      "0:\ttest: 0.7150151\tbest: 0.7150151 (0)\ttotal: 88.4ms\tremaining: 3m 24s\n",
      "300:\ttest: 0.7367998\tbest: 0.7367998 (300)\ttotal: 21.4s\tremaining: 2m 23s\n",
      "600:\ttest: 0.7394715\tbest: 0.7394716 (599)\ttotal: 43.8s\tremaining: 2m 4s\n",
      "900:\ttest: 0.7404079\tbest: 0.7404079 (900)\ttotal: 1m 6s\tremaining: 1m 44s\n",
      "1200:\ttest: 0.7408227\tbest: 0.7408319 (1194)\ttotal: 1m 29s\tremaining: 1m 23s\n",
      "1500:\ttest: 0.7410920\tbest: 0.7411105 (1468)\ttotal: 1m 52s\tremaining: 1m 1s\n",
      "1800:\ttest: 0.7413052\tbest: 0.7413052 (1800)\ttotal: 2m 17s\tremaining: 39.4s\n",
      "2100:\ttest: 0.7414225\tbest: 0.7414367 (2035)\ttotal: 2m 43s\tremaining: 16.8s\n"
     ]
    },
    {
     "name": "stderr",
     "output_type": "stream",
     "text": [
      "[I 2025-02-25 12:18:41,881] Trial 37 finished with value: 0.7414867654015349 and parameters: {'iterations': 2317, 'depth': 7, 'learning_rate': 0.007854056834208062, 'l2_leaf_reg': 0.0014947790517223006}. Best is trial 24 with value: 0.7420362884043864.\n"
     ]
    },
    {
     "name": "stdout",
     "output_type": "stream",
     "text": [
      "2316:\ttest: 0.7414868\tbest: 0.7414868 (2316)\ttotal: 3m 1s\tremaining: 0us\n",
      "\n",
      "bestTest = 0.7414867654\n",
      "bestIteration = 2316\n",
      "\n",
      "0:\ttest: 0.7215358\tbest: 0.7215358 (0)\ttotal: 115ms\tremaining: 3m 58s\n",
      "300:\ttest: 0.7409558\tbest: 0.7409674 (290)\ttotal: 29.3s\tremaining: 2m 52s\n",
      "600:\ttest: 0.7412973\tbest: 0.7412984 (599)\ttotal: 58.7s\tremaining: 2m 23s\n",
      "900:\ttest: 0.7414455\tbest: 0.7414654 (873)\ttotal: 1m 31s\tremaining: 1m 58s\n",
      "1200:\ttest: 0.7415297\tbest: 0.7415671 (1184)\ttotal: 2m 4s\tremaining: 1m 30s\n"
     ]
    },
    {
     "name": "stderr",
     "output_type": "stream",
     "text": [
      "[I 2025-02-25 12:21:17,494] Trial 38 finished with value: 0.7415671242260624 and parameters: {'iterations': 2072, 'depth': 9, 'learning_rate': 0.026671233161220588, 'l2_leaf_reg': 84.44531813103153}. Best is trial 24 with value: 0.7420362884043864.\n"
     ]
    },
    {
     "name": "stdout",
     "output_type": "stream",
     "text": [
      "Stopped by overfitting detector  (300 iterations wait)\n",
      "\n",
      "bestTest = 0.7415671242\n",
      "bestIteration = 1184\n",
      "\n",
      "Shrink model to first 1185 iterations.\n",
      "0:\ttest: 0.7191235\tbest: 0.7191235 (0)\ttotal: 123ms\tremaining: 3m 37s\n",
      "300:\ttest: 0.7407077\tbest: 0.7407159 (299)\ttotal: 28.1s\tremaining: 2m 17s\n",
      "600:\ttest: 0.7408693\tbest: 0.7409515 (573)\ttotal: 57.1s\tremaining: 1m 51s\n",
      "900:\ttest: 0.7407422\tbest: 0.7409696 (673)\ttotal: 1m 29s\tremaining: 1m 26s\n"
     ]
    },
    {
     "name": "stderr",
     "output_type": "stream",
     "text": [
      "[I 2025-02-25 12:22:55,744] Trial 39 finished with value: 0.7409696170340727 and parameters: {'iterations': 1772, 'depth': 9, 'learning_rate': 0.018805686203690934, 'l2_leaf_reg': 0.025109119874903156}. Best is trial 24 with value: 0.7420362884043864.\n",
      "[I 2025-02-25 12:22:55,747] A new study created in memory with name: no-name-529b53c6-4ee0-4146-b776-6c41736ac0bb\n"
     ]
    },
    {
     "name": "stdout",
     "output_type": "stream",
     "text": [
      "Stopped by overfitting detector  (300 iterations wait)\n",
      "\n",
      "bestTest = 0.740969617\n",
      "bestIteration = 673\n",
      "\n",
      "Shrink model to first 674 iterations.\n"
     ]
    },
    {
     "name": "stderr",
     "output_type": "stream",
     "text": [
      "[I 2025-02-25 12:23:18,769] Trial 0 finished with value: 0.728629079485992 and parameters: {'num_iterations': 2366, 'objective': 'binary', 'metric': 'auc', 'verbose': -1, 'learning_rate': 0.0652646236447618, 'n_estimators': 236, 'min_child_samples': 45, 'subsample': 0.7, 'colsample_bytree': 0.5}. Best is trial 0 with value: 0.728629079485992.\n",
      "[I 2025-02-25 12:23:35,629] Trial 1 finished with value: 0.7418504231328711 and parameters: {'num_iterations': 1510, 'objective': 'binary', 'metric': 'auc', 'verbose': -1, 'learning_rate': 0.005231880959249543, 'n_estimators': 1411, 'min_child_samples': 10, 'subsample': 1.0, 'colsample_bytree': 0.5}. Best is trial 1 with value: 0.7418504231328711.\n",
      "[I 2025-02-25 12:23:55,101] Trial 2 finished with value: 0.7408200297791053 and parameters: {'num_iterations': 2334, 'objective': 'binary', 'metric': 'auc', 'verbose': -1, 'learning_rate': 0.006578527777128852, 'n_estimators': 931, 'min_child_samples': 15, 'subsample': 0.5, 'colsample_bytree': 1.0}. Best is trial 1 with value: 0.7418504231328711.\n",
      "[I 2025-02-25 12:24:11,251] Trial 3 finished with value: 0.7416610436270469 and parameters: {'num_iterations': 1620, 'objective': 'binary', 'metric': 'auc', 'verbose': -1, 'learning_rate': 0.0058823249237283685, 'n_estimators': 837, 'min_child_samples': 10, 'subsample': 0.9, 'colsample_bytree': 0.6}. Best is trial 1 with value: 0.7418504231328711.\n",
      "[I 2025-02-25 12:24:27,555] Trial 4 finished with value: 0.740709337354708 and parameters: {'num_iterations': 1997, 'objective': 'binary', 'metric': 'auc', 'verbose': -1, 'learning_rate': 0.010907507425244923, 'n_estimators': 1597, 'min_child_samples': 50, 'subsample': 0.6, 'colsample_bytree': 0.8}. Best is trial 1 with value: 0.7418504231328711.\n",
      "[I 2025-02-25 12:24:50,091] Trial 5 finished with value: 0.737187236720316 and parameters: {'num_iterations': 2909, 'objective': 'binary', 'metric': 'auc', 'verbose': -1, 'learning_rate': 0.019760591962733942, 'n_estimators': 612, 'min_child_samples': 30, 'subsample': 0.7, 'colsample_bytree': 0.9}. Best is trial 1 with value: 0.7418504231328711.\n",
      "[I 2025-02-25 12:25:10,631] Trial 6 finished with value: 0.7382612899681215 and parameters: {'num_iterations': 2639, 'objective': 'binary', 'metric': 'auc', 'verbose': -1, 'learning_rate': 0.017862094446750985, 'n_estimators': 794, 'min_child_samples': 35, 'subsample': 1.0, 'colsample_bytree': 0.8}. Best is trial 1 with value: 0.7418504231328711.\n",
      "[I 2025-02-25 12:25:27,037] Trial 7 finished with value: 0.7404726288559728 and parameters: {'num_iterations': 1580, 'objective': 'binary', 'metric': 'auc', 'verbose': -1, 'learning_rate': 0.01776722177611332, 'n_estimators': 529, 'min_child_samples': 25, 'subsample': 0.8, 'colsample_bytree': 0.5}. Best is trial 1 with value: 0.7418504231328711.\n",
      "[I 2025-02-25 12:25:44,375] Trial 8 finished with value: 0.7375940381304826 and parameters: {'num_iterations': 1911, 'objective': 'binary', 'metric': 'auc', 'verbose': -1, 'learning_rate': 0.0304747553332844, 'n_estimators': 1328, 'min_child_samples': 10, 'subsample': 0.7, 'colsample_bytree': 0.6}. Best is trial 1 with value: 0.7418504231328711.\n",
      "[I 2025-02-25 12:26:11,555] Trial 9 finished with value: 0.736415213049641 and parameters: {'num_iterations': 2739, 'objective': 'binary', 'metric': 'auc', 'verbose': -1, 'learning_rate': 0.02691531614176271, 'n_estimators': 1438, 'min_child_samples': 20, 'subsample': 0.6, 'colsample_bytree': 0.5}. Best is trial 1 with value: 0.7418504231328711.\n",
      "[I 2025-02-25 12:26:26,618] Trial 10 finished with value: 0.7281383097157198 and parameters: {'num_iterations': 1933, 'objective': 'binary', 'metric': 'auc', 'verbose': -1, 'learning_rate': 0.08223556891145911, 'n_estimators': 1960, 'min_child_samples': 40, 'subsample': 1.0, 'colsample_bytree': 0.7}. Best is trial 1 with value: 0.7418504231328711.\n",
      "[I 2025-02-25 12:26:41,933] Trial 11 finished with value: 0.7418317321714117 and parameters: {'num_iterations': 1513, 'objective': 'binary', 'metric': 'auc', 'verbose': -1, 'learning_rate': 0.005340229419903739, 'n_estimators': 1206, 'min_child_samples': 10, 'subsample': 0.9, 'colsample_bytree': 0.6}. Best is trial 1 with value: 0.7418504231328711.\n",
      "[I 2025-02-25 12:26:57,667] Trial 12 finished with value: 0.7419373180361242 and parameters: {'num_iterations': 1550, 'objective': 'binary', 'metric': 'auc', 'verbose': -1, 'learning_rate': 0.005009803090245928, 'n_estimators': 1192, 'min_child_samples': 20, 'subsample': 0.9, 'colsample_bytree': 0.6}. Best is trial 12 with value: 0.7419373180361242.\n",
      "[I 2025-02-25 12:27:12,711] Trial 13 finished with value: 0.7407443605712091 and parameters: {'num_iterations': 1777, 'objective': 'binary', 'metric': 'auc', 'verbose': -1, 'learning_rate': 0.01061042275547689, 'n_estimators': 1698, 'min_child_samples': 20, 'subsample': 0.9, 'colsample_bytree': 0.7}. Best is trial 12 with value: 0.7419373180361242.\n",
      "[I 2025-02-25 12:27:33,093] Trial 14 finished with value: 0.7407321739213858 and parameters: {'num_iterations': 2165, 'objective': 'binary', 'metric': 'auc', 'verbose': -1, 'learning_rate': 0.011084406731310557, 'n_estimators': 1104, 'min_child_samples': 20, 'subsample': 1.0, 'colsample_bytree': 0.6}. Best is trial 12 with value: 0.7419373180361242.\n",
      "[I 2025-02-25 12:27:51,859] Trial 15 finished with value: 0.7418861928759823 and parameters: {'num_iterations': 1745, 'objective': 'binary', 'metric': 'auc', 'verbose': -1, 'learning_rate': 0.008235043203871414, 'n_estimators': 1836, 'min_child_samples': 25, 'subsample': 0.8, 'colsample_bytree': 0.5}. Best is trial 12 with value: 0.7419373180361242.\n",
      "[I 2025-02-25 12:28:07,182] Trial 16 finished with value: 0.741240145570783 and parameters: {'num_iterations': 1782, 'objective': 'binary', 'metric': 'auc', 'verbose': -1, 'learning_rate': 0.008396844438395043, 'n_estimators': 1976, 'min_child_samples': 30, 'subsample': 0.8, 'colsample_bytree': 0.7}. Best is trial 12 with value: 0.7419373180361242.\n",
      "[I 2025-02-25 12:28:25,881] Trial 17 finished with value: 0.7330256089759056 and parameters: {'num_iterations': 2111, 'objective': 'binary', 'metric': 'auc', 'verbose': -1, 'learning_rate': 0.048360984848873835, 'n_estimators': 1715, 'min_child_samples': 25, 'subsample': 0.8, 'colsample_bytree': 0.6}. Best is trial 12 with value: 0.7419373180361242.\n",
      "[I 2025-02-25 12:28:44,550] Trial 18 finished with value: 0.7418910691242662 and parameters: {'num_iterations': 1732, 'objective': 'binary', 'metric': 'auc', 'verbose': -1, 'learning_rate': 0.00796628888975239, 'n_estimators': 1819, 'min_child_samples': 30, 'subsample': 0.9, 'colsample_bytree': 0.5}. Best is trial 12 with value: 0.7419373180361242.\n",
      "[I 2025-02-25 12:29:04,856] Trial 19 finished with value: 0.7401598381771739 and parameters: {'num_iterations': 2481, 'objective': 'binary', 'metric': 'auc', 'verbose': -1, 'learning_rate': 0.012302309575100983, 'n_estimators': 144, 'min_child_samples': 35, 'subsample': 0.9, 'colsample_bytree': 0.7}. Best is trial 12 with value: 0.7419373180361242.\n",
      "[I 2025-02-25 12:29:21,348] Trial 20 finished with value: 0.741652383124191 and parameters: {'num_iterations': 1695, 'objective': 'binary', 'metric': 'auc', 'verbose': -1, 'learning_rate': 0.007877155758725746, 'n_estimators': 1561, 'min_child_samples': 35, 'subsample': 0.9, 'colsample_bytree': 0.6}. Best is trial 12 with value: 0.7419373180361242.\n",
      "[I 2025-02-25 12:29:40,359] Trial 21 finished with value: 0.7418654608790036 and parameters: {'num_iterations': 1778, 'objective': 'binary', 'metric': 'auc', 'verbose': -1, 'learning_rate': 0.008326229916667597, 'n_estimators': 1888, 'min_child_samples': 25, 'subsample': 0.8, 'colsample_bytree': 0.5}. Best is trial 12 with value: 0.7419373180361242.\n",
      "[I 2025-02-25 12:29:58,652] Trial 22 finished with value: 0.7417756553161479 and parameters: {'num_iterations': 1681, 'objective': 'binary', 'metric': 'auc', 'verbose': -1, 'learning_rate': 0.007120410188317926, 'n_estimators': 1805, 'min_child_samples': 30, 'subsample': 0.9, 'colsample_bytree': 0.5}. Best is trial 12 with value: 0.7419373180361242.\n",
      "[I 2025-02-25 12:30:18,151] Trial 23 finished with value: 0.7410470334319077 and parameters: {'num_iterations': 1870, 'objective': 'binary', 'metric': 'auc', 'verbose': -1, 'learning_rate': 0.012859720729845994, 'n_estimators': 1268, 'min_child_samples': 15, 'subsample': 0.8, 'colsample_bytree': 0.5}. Best is trial 12 with value: 0.7419373180361242.\n",
      "[I 2025-02-25 12:30:36,956] Trial 24 finished with value: 0.7400565593973579 and parameters: {'num_iterations': 2039, 'objective': 'binary', 'metric': 'auc', 'verbose': -1, 'learning_rate': 0.014859854998745987, 'n_estimators': 1526, 'min_child_samples': 25, 'subsample': 0.9, 'colsample_bytree': 0.6}. Best is trial 12 with value: 0.7419373180361242.\n",
      "[I 2025-02-25 12:30:55,179] Trial 25 finished with value: 0.7417737254654426 and parameters: {'num_iterations': 1691, 'objective': 'binary', 'metric': 'auc', 'verbose': -1, 'learning_rate': 0.008883021712741569, 'n_estimators': 1769, 'min_child_samples': 20, 'subsample': 0.8, 'colsample_bytree': 0.5}. Best is trial 12 with value: 0.7419373180361242.\n",
      "[I 2025-02-25 12:31:13,539] Trial 26 finished with value: 0.741969013649969 and parameters: {'num_iterations': 1838, 'objective': 'binary', 'metric': 'auc', 'verbose': -1, 'learning_rate': 0.0050697837388651275, 'n_estimators': 1096, 'min_child_samples': 15, 'subsample': 1.0, 'colsample_bytree': 0.6}. Best is trial 26 with value: 0.741969013649969.\n",
      "[I 2025-02-25 12:31:29,812] Trial 27 finished with value: 0.7417913681129387 and parameters: {'num_iterations': 1855, 'objective': 'binary', 'metric': 'auc', 'verbose': -1, 'learning_rate': 0.005019235048861134, 'n_estimators': 1073, 'min_child_samples': 15, 'subsample': 1.0, 'colsample_bytree': 0.8}. Best is trial 26 with value: 0.741969013649969.\n",
      "[I 2025-02-25 12:31:44,069] Trial 28 finished with value: 0.7416583553370728 and parameters: {'num_iterations': 1599, 'objective': 'binary', 'metric': 'auc', 'verbose': -1, 'learning_rate': 0.006497159643896838, 'n_estimators': 634, 'min_child_samples': 15, 'subsample': 1.0, 'colsample_bytree': 0.7}. Best is trial 26 with value: 0.741969013649969.\n",
      "[I 2025-02-25 12:32:03,020] Trial 29 finished with value: 0.7350739985766438 and parameters: {'num_iterations': 2128, 'objective': 'binary', 'metric': 'auc', 'verbose': -1, 'learning_rate': 0.04030098468148633, 'n_estimators': 359, 'min_child_samples': 45, 'subsample': 1.0, 'colsample_bytree': 0.6}. Best is trial 26 with value: 0.741969013649969.\n",
      "[I 2025-02-25 12:32:20,349] Trial 30 finished with value: 0.7414614946816015 and parameters: {'num_iterations': 2007, 'objective': 'binary', 'metric': 'auc', 'verbose': -1, 'learning_rate': 0.006300048275050027, 'n_estimators': 972, 'min_child_samples': 40, 'subsample': 0.9, 'colsample_bytree': 0.9}. Best is trial 26 with value: 0.741969013649969.\n",
      "[I 2025-02-25 12:32:39,217] Trial 31 finished with value: 0.7414699328148288 and parameters: {'num_iterations': 1776, 'objective': 'binary', 'metric': 'auc', 'verbose': -1, 'learning_rate': 0.009949985355493064, 'n_estimators': 1140, 'min_child_samples': 30, 'subsample': 0.9, 'colsample_bytree': 0.5}. Best is trial 26 with value: 0.741969013649969.\n",
      "[I 2025-02-25 12:32:55,664] Trial 32 finished with value: 0.7418867051203053 and parameters: {'num_iterations': 1500, 'objective': 'binary', 'metric': 'auc', 'verbose': -1, 'learning_rate': 0.0070031666084039695, 'n_estimators': 1339, 'min_child_samples': 20, 'subsample': 1.0, 'colsample_bytree': 0.5}. Best is trial 26 with value: 0.741969013649969.\n",
      "[I 2025-02-25 12:33:12,729] Trial 33 finished with value: 0.7418931657521928 and parameters: {'num_iterations': 1533, 'objective': 'binary', 'metric': 'auc', 'verbose': -1, 'learning_rate': 0.00504289516372652, 'n_estimators': 1370, 'min_child_samples': 20, 'subsample': 1.0, 'colsample_bytree': 0.5}. Best is trial 26 with value: 0.741969013649969.\n",
      "[I 2025-02-25 12:33:34,823] Trial 34 finished with value: 0.7417280324776561 and parameters: {'num_iterations': 2263, 'objective': 'binary', 'metric': 'auc', 'verbose': -1, 'learning_rate': 0.005567081846818401, 'n_estimators': 928, 'min_child_samples': 15, 'subsample': 1.0, 'colsample_bytree': 0.6}. Best is trial 26 with value: 0.741969013649969.\n",
      "[I 2025-02-25 12:33:50,998] Trial 35 finished with value: 0.7418817375416383 and parameters: {'num_iterations': 1600, 'objective': 'binary', 'metric': 'auc', 'verbose': -1, 'learning_rate': 0.0051255979317599305, 'n_estimators': 1462, 'min_child_samples': 15, 'subsample': 1.0, 'colsample_bytree': 0.6}. Best is trial 26 with value: 0.741969013649969.\n",
      "[I 2025-02-25 12:34:09,018] Trial 36 finished with value: 0.7419170426910613 and parameters: {'num_iterations': 1640, 'objective': 'binary', 'metric': 'auc', 'verbose': -1, 'learning_rate': 0.006116374007736674, 'n_estimators': 795, 'min_child_samples': 10, 'subsample': 0.5, 'colsample_bytree': 0.5}. Best is trial 26 with value: 0.741969013649969.\n",
      "[I 2025-02-25 12:34:22,646] Trial 37 finished with value: 0.7412343202806915 and parameters: {'num_iterations': 1556, 'objective': 'binary', 'metric': 'auc', 'verbose': -1, 'learning_rate': 0.006123516475098269, 'n_estimators': 808, 'min_child_samples': 10, 'subsample': 0.6, 'colsample_bytree': 1.0}. Best is trial 26 with value: 0.741969013649969.\n",
      "[I 2025-02-25 12:34:39,012] Trial 38 finished with value: 0.7418704959627365 and parameters: {'num_iterations': 1652, 'objective': 'binary', 'metric': 'auc', 'verbose': -1, 'learning_rate': 0.006412869763677206, 'n_estimators': 694, 'min_child_samples': 10, 'subsample': 0.5, 'colsample_bytree': 0.6}. Best is trial 26 with value: 0.741969013649969.\n",
      "[I 2025-02-25 12:34:52,551] Trial 39 finished with value: 0.7417008160234726 and parameters: {'num_iterations': 1500, 'objective': 'binary', 'metric': 'auc', 'verbose': -1, 'learning_rate': 0.005056414583469064, 'n_estimators': 981, 'min_child_samples': 10, 'subsample': 0.5, 'colsample_bytree': 0.9}. Best is trial 26 with value: 0.741969013649969.\n"
     ]
    },
    {
     "name": "stdout",
     "output_type": "stream",
     "text": [
      "Cat val score : 0.7420362884043865\n",
      "LGBM val score : 0.741842608428781\n",
      "Ensemble val score : 0.7422556481012064\n"
     ]
    },
    {
     "name": "stderr",
     "output_type": "stream",
     "text": [
      "[I 2025-02-25 12:35:12,357] A new study created in memory with name: no-name-37cf51b2-1a9b-4d95-b082-68502f77861f\n"
     ]
    },
    {
     "name": "stdout",
     "output_type": "stream",
     "text": [
      "==================================================\n",
      "0:\ttest: 0.7230574\tbest: 0.7230574 (0)\ttotal: 136ms\tremaining: 5m 22s\n",
      "300:\ttest: 0.7409535\tbest: 0.7409535 (300)\ttotal: 40s\tremaining: 4m 34s\n",
      "600:\ttest: 0.7421907\tbest: 0.7421936 (596)\ttotal: 1m 20s\tremaining: 3m 56s\n",
      "900:\ttest: 0.7425141\tbest: 0.7425153 (897)\ttotal: 2m\tremaining: 3m 16s\n",
      "1200:\ttest: 0.7425796\tbest: 0.7426244 (1068)\ttotal: 2m 45s\tremaining: 2m 40s\n"
     ]
    },
    {
     "name": "stderr",
     "output_type": "stream",
     "text": [
      "[I 2025-02-25 12:38:26,452] Trial 0 finished with value: 0.7426244203339998 and parameters: {'iterations': 2366, 'depth': 10, 'learning_rate': 0.01181021951839225, 'l2_leaf_reg': 9.980783802743254}. Best is trial 0 with value: 0.7426244203339998.\n"
     ]
    },
    {
     "name": "stdout",
     "output_type": "stream",
     "text": [
      "Stopped by overfitting detector  (300 iterations wait)\n",
      "\n",
      "bestTest = 0.7426244203\n",
      "bestIteration = 1068\n",
      "\n",
      "Shrink model to first 1069 iterations.\n",
      "저장 완료\n",
      "0:\ttest: 0.7036841\tbest: 0.7036841 (0)\ttotal: 58.3ms\tremaining: 2m 7s\n",
      "300:\ttest: 0.7315698\tbest: 0.7315698 (300)\ttotal: 13.2s\tremaining: 1m 23s\n",
      "600:\ttest: 0.7362080\tbest: 0.7362080 (600)\ttotal: 26.2s\tremaining: 1m 9s\n",
      "900:\ttest: 0.7383255\tbest: 0.7383255 (900)\ttotal: 39.8s\tremaining: 57s\n",
      "1200:\ttest: 0.7394659\tbest: 0.7394659 (1200)\ttotal: 53.5s\tremaining: 44.2s\n",
      "1500:\ttest: 0.7401594\tbest: 0.7401594 (1500)\ttotal: 1m 7s\tremaining: 31.1s\n",
      "1800:\ttest: 0.7406377\tbest: 0.7406377 (1800)\ttotal: 1m 21s\tremaining: 17.7s\n",
      "2100:\ttest: 0.7410549\tbest: 0.7410549 (2100)\ttotal: 1m 35s\tremaining: 4.17s\n"
     ]
    },
    {
     "name": "stderr",
     "output_type": "stream",
     "text": [
      "[I 2025-02-25 12:40:06,378] Trial 1 finished with value: 0.7412136200508026 and parameters: {'iterations': 2193, 'depth': 4, 'learning_rate': 0.005671430811678843, 'l2_leaf_reg': 0.00012325230809466137}. Best is trial 0 with value: 0.7426244203339998.\n"
     ]
    },
    {
     "name": "stdout",
     "output_type": "stream",
     "text": [
      "2192:\ttest: 0.7412136\tbest: 0.7412136 (2192)\ttotal: 1m 39s\tremaining: 0us\n",
      "\n",
      "bestTest = 0.7412136201\n",
      "bestIteration = 2192\n",
      "\n",
      "0:\ttest: 0.7036841\tbest: 0.7036841 (0)\ttotal: 53.2ms\tremaining: 2m 14s\n",
      "300:\ttest: 0.7423073\tbest: 0.7425097 (288)\ttotal: 14.1s\tremaining: 1m 44s\n",
      "600:\ttest: 0.7417021\tbest: 0.7426321 (360)\ttotal: 28.9s\tremaining: 1m 33s\n"
     ]
    },
    {
     "name": "stderr",
     "output_type": "stream",
     "text": [
      "[I 2025-02-25 12:40:38,440] Trial 2 finished with value: 0.7426320881152995 and parameters: {'iterations': 2535, 'depth': 4, 'learning_rate': 0.09275339199839054, 'l2_leaf_reg': 0.0008705394248343123}. Best is trial 2 with value: 0.7426320881152995.\n"
     ]
    },
    {
     "name": "stdout",
     "output_type": "stream",
     "text": [
      "Stopped by overfitting detector  (300 iterations wait)\n",
      "\n",
      "bestTest = 0.7426320881\n",
      "bestIteration = 360\n",
      "\n",
      "Shrink model to first 361 iterations.\n",
      "저장 완료\n",
      "0:\ttest: 0.7036841\tbest: 0.7036841 (0)\ttotal: 52.8ms\tremaining: 2m 3s\n",
      "300:\ttest: 0.7418926\tbest: 0.7418926 (300)\ttotal: 13.7s\tremaining: 1m 32s\n",
      "600:\ttest: 0.7429189\tbest: 0.7429189 (600)\ttotal: 28.1s\tremaining: 1m 21s\n",
      "900:\ttest: 0.7428221\tbest: 0.7430281 (742)\ttotal: 42.8s\tremaining: 1m 8s\n"
     ]
    },
    {
     "name": "stderr",
     "output_type": "stream",
     "text": [
      "[I 2025-02-25 12:41:28,444] Trial 3 finished with value: 0.7430281085693662 and parameters: {'iterations': 2334, 'depth': 4, 'learning_rate': 0.04657568321363276, 'l2_leaf_reg': 0.0008640473331457248}. Best is trial 3 with value: 0.7430281085693662.\n"
     ]
    },
    {
     "name": "stdout",
     "output_type": "stream",
     "text": [
      "Stopped by overfitting detector  (300 iterations wait)\n",
      "\n",
      "bestTest = 0.7430281086\n",
      "bestIteration = 742\n",
      "\n",
      "Shrink model to first 743 iterations.\n",
      "저장 완료\n",
      "0:\ttest: 0.7230695\tbest: 0.7230695 (0)\ttotal: 133ms\tremaining: 3m 52s\n",
      "300:\ttest: 0.7402288\tbest: 0.7402885 (298)\ttotal: 37.1s\tremaining: 2m 57s\n",
      "600:\ttest: 0.7407139\tbest: 0.7408626 (565)\ttotal: 1m 17s\tremaining: 2m 26s\n",
      "900:\ttest: 0.7405078\tbest: 0.7408811 (796)\ttotal: 1m 56s\tremaining: 1m 49s\n"
     ]
    },
    {
     "name": "stderr",
     "output_type": "stream",
     "text": [
      "[I 2025-02-25 12:43:53,203] Trial 4 finished with value: 0.74088107024215 and parameters: {'iterations': 1742, 'depth': 10, 'learning_rate': 0.012622767482095846, 'l2_leaf_reg': 0.00021158816350109617}. Best is trial 3 with value: 0.7430281085693662.\n"
     ]
    },
    {
     "name": "stdout",
     "output_type": "stream",
     "text": [
      "Stopped by overfitting detector  (300 iterations wait)\n",
      "\n",
      "bestTest = 0.7408810702\n",
      "bestIteration = 796\n",
      "\n",
      "Shrink model to first 797 iterations.\n",
      "0:\ttest: 0.7036841\tbest: 0.7036841 (0)\ttotal: 52.8ms\tremaining: 1m 49s\n",
      "300:\ttest: 0.7424040\tbest: 0.7424040 (300)\ttotal: 14.1s\tremaining: 1m 23s\n",
      "600:\ttest: 0.7428042\tbest: 0.7429201 (491)\ttotal: 28.8s\tremaining: 1m 11s\n",
      "900:\ttest: 0.7428064\tbest: 0.7430390 (720)\ttotal: 43.7s\tremaining: 57.3s\n"
     ]
    },
    {
     "name": "stderr",
     "output_type": "stream",
     "text": [
      "[I 2025-02-25 12:44:43,115] Trial 5 finished with value: 0.7430389649723044 and parameters: {'iterations': 2082, 'depth': 4, 'learning_rate': 0.06995196593094148, 'l2_leaf_reg': 0.0018080296485396804}. Best is trial 5 with value: 0.7430389649723044.\n"
     ]
    },
    {
     "name": "stdout",
     "output_type": "stream",
     "text": [
      "Stopped by overfitting detector  (300 iterations wait)\n",
      "\n",
      "bestTest = 0.743038965\n",
      "bestIteration = 720\n",
      "\n",
      "Shrink model to first 721 iterations.\n",
      "저장 완료\n",
      "0:\ttest: 0.7076569\tbest: 0.7076569 (0)\ttotal: 62.5ms\tremaining: 2m 4s\n",
      "300:\ttest: 0.7426671\tbest: 0.7426693 (294)\ttotal: 17.2s\tremaining: 1m 36s\n",
      "600:\ttest: 0.7431228\tbest: 0.7431534 (547)\ttotal: 35s\tremaining: 1m 21s\n",
      "900:\ttest: 0.7433256\tbest: 0.7433496 (882)\ttotal: 52.8s\tremaining: 1m 4s\n",
      "1200:\ttest: 0.7432634\tbest: 0.7433665 (968)\ttotal: 1m 10s\tremaining: 47s\n"
     ]
    },
    {
     "name": "stderr",
     "output_type": "stream",
     "text": [
      "[I 2025-02-25 12:45:58,278] Trial 6 finished with value: 0.7433665432314036 and parameters: {'iterations': 1997, 'depth': 5, 'learning_rate': 0.07985155992831598, 'l2_leaf_reg': 62.52181000710482}. Best is trial 6 with value: 0.7433665432314036.\n"
     ]
    },
    {
     "name": "stdout",
     "output_type": "stream",
     "text": [
      "Stopped by overfitting detector  (300 iterations wait)\n",
      "\n",
      "bestTest = 0.7433665432\n",
      "bestIteration = 968\n",
      "\n",
      "Shrink model to first 969 iterations.\n",
      "저장 완료\n",
      "0:\ttest: 0.7222128\tbest: 0.7222128 (0)\ttotal: 85ms\tremaining: 2m 43s\n",
      "300:\ttest: 0.7418596\tbest: 0.7422235 (188)\ttotal: 23.9s\tremaining: 2m 8s\n"
     ]
    },
    {
     "name": "stderr",
     "output_type": "stream",
     "text": [
      "[I 2025-02-25 12:46:38,173] Trial 7 finished with value: 0.742223499806332 and parameters: {'iterations': 1927, 'depth': 7, 'learning_rate': 0.0941937211034094, 'l2_leaf_reg': 0.05654822767791934}. Best is trial 6 with value: 0.7433665432314036.\n"
     ]
    },
    {
     "name": "stdout",
     "output_type": "stream",
     "text": [
      "Stopped by overfitting detector  (300 iterations wait)\n",
      "\n",
      "bestTest = 0.7422234998\n",
      "bestIteration = 188\n",
      "\n",
      "Shrink model to first 189 iterations.\n",
      "0:\ttest: 0.7222121\tbest: 0.7222121 (0)\ttotal: 86.8ms\tremaining: 2m 45s\n",
      "300:\ttest: 0.7430838\tbest: 0.7430838 (300)\ttotal: 22.9s\tremaining: 2m 1s\n",
      "600:\ttest: 0.7431759\tbest: 0.7432794 (579)\ttotal: 48.3s\tremaining: 1m 44s\n"
     ]
    },
    {
     "name": "stderr",
     "output_type": "stream",
     "text": [
      "[I 2025-02-25 12:47:50,015] Trial 8 finished with value: 0.7432793822787734 and parameters: {'iterations': 1904, 'depth': 7, 'learning_rate': 0.05155602859187331, 'l2_leaf_reg': 1.299974533316308}. Best is trial 6 with value: 0.7433665432314036.\n"
     ]
    },
    {
     "name": "stdout",
     "output_type": "stream",
     "text": [
      "Stopped by overfitting detector  (300 iterations wait)\n",
      "\n",
      "bestTest = 0.7432793823\n",
      "bestIteration = 579\n",
      "\n",
      "Shrink model to first 580 iterations.\n",
      "0:\ttest: 0.7130386\tbest: 0.7130386 (0)\ttotal: 74.3ms\tremaining: 3m 15s\n",
      "300:\ttest: 0.7419797\tbest: 0.7419797 (300)\ttotal: 19.5s\tremaining: 2m 31s\n",
      "600:\ttest: 0.7428684\tbest: 0.7429010 (596)\ttotal: 41.6s\tremaining: 2m 21s\n",
      "900:\ttest: 0.7431504\tbest: 0.7431504 (900)\ttotal: 1m 3s\tremaining: 2m 2s\n",
      "1200:\ttest: 0.7429199\tbest: 0.7432405 (973)\ttotal: 1m 25s\tremaining: 1m 42s\n"
     ]
    },
    {
     "name": "stderr",
     "output_type": "stream",
     "text": [
      "[I 2025-02-25 12:49:20,905] Trial 9 finished with value: 0.7432404715646584 and parameters: {'iterations': 2639, 'depth': 6, 'learning_rate': 0.03968704290444751, 'l2_leaf_reg': 0.30557194377967184}. Best is trial 6 with value: 0.7433665432314036.\n"
     ]
    },
    {
     "name": "stdout",
     "output_type": "stream",
     "text": [
      "Stopped by overfitting detector  (300 iterations wait)\n",
      "\n",
      "bestTest = 0.7432404716\n",
      "bestIteration = 973\n",
      "\n",
      "Shrink model to first 974 iterations.\n",
      "0:\ttest: 0.7131027\tbest: 0.7131027 (0)\ttotal: 72.5ms\tremaining: 3m 33s\n",
      "300:\ttest: 0.7427486\tbest: 0.7427519 (290)\ttotal: 20s\tremaining: 2m 55s\n",
      "600:\ttest: 0.7436017\tbest: 0.7436017 (600)\ttotal: 40.5s\tremaining: 2m 37s\n",
      "900:\ttest: 0.7434770\tbest: 0.7436289 (670)\ttotal: 1m 1s\tremaining: 2m 19s\n"
     ]
    },
    {
     "name": "stderr",
     "output_type": "stream",
     "text": [
      "[I 2025-02-25 12:50:27,623] Trial 10 finished with value: 0.7436289314513536 and parameters: {'iterations': 2945, 'depth': 6, 'learning_rate': 0.07265276039199581, 'l2_leaf_reg': 97.18545559492516}. Best is trial 10 with value: 0.7436289314513536.\n"
     ]
    },
    {
     "name": "stdout",
     "output_type": "stream",
     "text": [
      "Stopped by overfitting detector  (300 iterations wait)\n",
      "\n",
      "bestTest = 0.7436289315\n",
      "bestIteration = 670\n",
      "\n",
      "Shrink model to first 671 iterations.\n",
      "저장 완료\n",
      "0:\ttest: 0.7130982\tbest: 0.7130982 (0)\ttotal: 71ms\tremaining: 3m 32s\n",
      "300:\ttest: 0.7426576\tbest: 0.7426579 (299)\ttotal: 19.6s\tremaining: 2m 55s\n",
      "600:\ttest: 0.7432353\tbest: 0.7432599 (560)\ttotal: 40.4s\tremaining: 2m 40s\n",
      "900:\ttest: 0.7431409\tbest: 0.7432879 (668)\ttotal: 1m 1s\tremaining: 2m 22s\n"
     ]
    },
    {
     "name": "stderr",
     "output_type": "stream",
     "text": [
      "[I 2025-02-25 12:51:34,053] Trial 11 finished with value: 0.7432879355677012 and parameters: {'iterations': 2994, 'depth': 6, 'learning_rate': 0.07131044509072976, 'l2_leaf_reg': 73.1213351392818}. Best is trial 10 with value: 0.7436289314513536.\n"
     ]
    },
    {
     "name": "stdout",
     "output_type": "stream",
     "text": [
      "Stopped by overfitting detector  (300 iterations wait)\n",
      "\n",
      "bestTest = 0.7432879356\n",
      "bestIteration = 668\n",
      "\n",
      "Shrink model to first 669 iterations.\n",
      "0:\ttest: 0.7130988\tbest: 0.7130988 (0)\ttotal: 73.8ms\tremaining: 1m 57s\n",
      "300:\ttest: 0.7428358\tbest: 0.7428358 (300)\ttotal: 19.5s\tremaining: 1m 23s\n",
      "600:\ttest: 0.7434419\tbest: 0.7434419 (600)\ttotal: 40.3s\tremaining: 1m 6s\n",
      "900:\ttest: 0.7433728\tbest: 0.7434813 (630)\ttotal: 1m 1s\tremaining: 46.9s\n"
     ]
    },
    {
     "name": "stderr",
     "output_type": "stream",
     "text": [
      "[I 2025-02-25 12:52:37,992] Trial 12 finished with value: 0.7434813336103847 and parameters: {'iterations': 1588, 'depth': 6, 'learning_rate': 0.07382783813729096, 'l2_leaf_reg': 87.13438924619796}. Best is trial 10 with value: 0.7436289314513536.\n"
     ]
    },
    {
     "name": "stdout",
     "output_type": "stream",
     "text": [
      "Stopped by overfitting detector  (300 iterations wait)\n",
      "\n",
      "bestTest = 0.7434813336\n",
      "bestIteration = 630\n",
      "\n",
      "Shrink model to first 631 iterations.\n",
      "0:\ttest: 0.7222086\tbest: 0.7222086 (0)\ttotal: 101ms\tremaining: 4m 59s\n",
      "300:\ttest: 0.7430138\tbest: 0.7430998 (264)\ttotal: 26.9s\tremaining: 3m 59s\n"
     ]
    },
    {
     "name": "stderr",
     "output_type": "stream",
     "text": [
      "[I 2025-02-25 12:53:30,771] Trial 13 finished with value: 0.7430997512986307 and parameters: {'iterations': 2975, 'depth': 8, 'learning_rate': 0.06561133999410083, 'l2_leaf_reg': 7.828901342687942}. Best is trial 10 with value: 0.7436289314513536.\n"
     ]
    },
    {
     "name": "stdout",
     "output_type": "stream",
     "text": [
      "Stopped by overfitting detector  (300 iterations wait)\n",
      "\n",
      "bestTest = 0.7430997513\n",
      "bestIteration = 264\n",
      "\n",
      "Shrink model to first 265 iterations.\n",
      "0:\ttest: 0.7222128\tbest: 0.7222128 (0)\ttotal: 98.5ms\tremaining: 2m 30s\n",
      "300:\ttest: 0.7418517\tbest: 0.7418675 (299)\ttotal: 24.9s\tremaining: 1m 41s\n",
      "600:\ttest: 0.7422016\tbest: 0.7424703 (515)\ttotal: 52.5s\tremaining: 1m 21s\n"
     ]
    },
    {
     "name": "stderr",
     "output_type": "stream",
     "text": [
      "[I 2025-02-25 12:54:44,217] Trial 14 finished with value: 0.7424703142105089 and parameters: {'iterations': 1533, 'depth': 8, 'learning_rate': 0.030866060002221384, 'l2_leaf_reg': 0.02939703823210393}. Best is trial 10 with value: 0.7436289314513536.\n"
     ]
    },
    {
     "name": "stdout",
     "output_type": "stream",
     "text": [
      "Stopped by overfitting detector  (300 iterations wait)\n",
      "\n",
      "bestTest = 0.7424703142\n",
      "bestIteration = 515\n",
      "\n",
      "Shrink model to first 516 iterations.\n",
      "0:\ttest: 0.7130567\tbest: 0.7130567 (0)\ttotal: 74.9ms\tremaining: 3m 26s\n",
      "300:\ttest: 0.7430816\tbest: 0.7430816 (300)\ttotal: 20.3s\tremaining: 2m 46s\n",
      "600:\ttest: 0.7428660\tbest: 0.7432124 (324)\ttotal: 41.9s\tremaining: 2m 30s\n"
     ]
    },
    {
     "name": "stderr",
     "output_type": "stream",
     "text": [
      "[I 2025-02-25 12:55:28,005] Trial 15 finished with value: 0.7432124371079127 and parameters: {'iterations': 2762, 'depth': 6, 'learning_rate': 0.08004341175663349, 'l2_leaf_reg': 9.663069382488304}. Best is trial 10 with value: 0.7436289314513536.\n"
     ]
    },
    {
     "name": "stdout",
     "output_type": "stream",
     "text": [
      "Stopped by overfitting detector  (300 iterations wait)\n",
      "\n",
      "bestTest = 0.7432124371\n",
      "bestIteration = 324\n",
      "\n",
      "Shrink model to first 325 iterations.\n",
      "0:\ttest: 0.7222120\tbest: 0.7222120 (0)\ttotal: 94.4ms\tremaining: 2m 23s\n",
      "300:\ttest: 0.7425918\tbest: 0.7429152 (247)\ttotal: 26.7s\tremaining: 1m 48s\n"
     ]
    },
    {
     "name": "stderr",
     "output_type": "stream",
     "text": [
      "[I 2025-02-25 12:56:18,821] Trial 16 finished with value: 0.7429151646524796 and parameters: {'iterations': 1522, 'depth': 8, 'learning_rate': 0.061662991475729484, 'l2_leaf_reg': 1.8341589839267998}. Best is trial 10 with value: 0.7436289314513536.\n"
     ]
    },
    {
     "name": "stdout",
     "output_type": "stream",
     "text": [
      "Stopped by overfitting detector  (300 iterations wait)\n",
      "\n",
      "bestTest = 0.7429151647\n",
      "bestIteration = 247\n",
      "\n",
      "Shrink model to first 248 iterations.\n",
      "0:\ttest: 0.7076569\tbest: 0.7076569 (0)\ttotal: 61.8ms\tremaining: 1m 43s\n",
      "300:\ttest: 0.7425885\tbest: 0.7425928 (299)\ttotal: 17s\tremaining: 1m 17s\n",
      "600:\ttest: 0.7430927\tbest: 0.7431199 (584)\ttotal: 34.8s\tremaining: 1m 2s\n",
      "900:\ttest: 0.7430981\tbest: 0.7431713 (802)\ttotal: 52.6s\tremaining: 45.1s\n"
     ]
    },
    {
     "name": "stderr",
     "output_type": "stream",
     "text": [
      "[I 2025-02-25 12:57:23,876] Trial 17 finished with value: 0.743171266959536 and parameters: {'iterations': 1673, 'depth': 5, 'learning_rate': 0.0808397101382616, 'l2_leaf_reg': 80.62911323694684}. Best is trial 10 with value: 0.7436289314513536.\n"
     ]
    },
    {
     "name": "stdout",
     "output_type": "stream",
     "text": [
      "Stopped by overfitting detector  (300 iterations wait)\n",
      "\n",
      "bestTest = 0.743171267\n",
      "bestIteration = 802\n",
      "\n",
      "Shrink model to first 803 iterations.\n",
      "0:\ttest: 0.7222128\tbest: 0.7222128 (0)\ttotal: 84.6ms\tremaining: 3m 29s\n",
      "300:\ttest: 0.7419168\tbest: 0.7419168 (300)\ttotal: 23.3s\tremaining: 2m 49s\n",
      "600:\ttest: 0.7411976\tbest: 0.7421898 (383)\ttotal: 48.5s\tremaining: 2m 31s\n"
     ]
    },
    {
     "name": "stderr",
     "output_type": "stream",
     "text": [
      "[I 2025-02-25 12:58:19,608] Trial 18 finished with value: 0.7421897750696262 and parameters: {'iterations': 2482, 'depth': 7, 'learning_rate': 0.0578596313489189, 'l2_leaf_reg': 0.010016909578442512}. Best is trial 10 with value: 0.7436289314513536.\n"
     ]
    },
    {
     "name": "stdout",
     "output_type": "stream",
     "text": [
      "Stopped by overfitting detector  (300 iterations wait)\n",
      "\n",
      "bestTest = 0.7421897751\n",
      "bestIteration = 383\n",
      "\n",
      "Shrink model to first 384 iterations.\n",
      "0:\ttest: 0.7075995\tbest: 0.7075995 (0)\ttotal: 61.7ms\tremaining: 2m 50s\n",
      "300:\ttest: 0.7428580\tbest: 0.7429030 (279)\ttotal: 17.5s\tremaining: 2m 22s\n",
      "600:\ttest: 0.7425286\tbest: 0.7430835 (386)\ttotal: 35.8s\tremaining: 2m 8s\n"
     ]
    },
    {
     "name": "stderr",
     "output_type": "stream",
     "text": [
      "[I 2025-02-25 12:59:00,885] Trial 19 finished with value: 0.743083526257517 and parameters: {'iterations': 2755, 'depth': 5, 'learning_rate': 0.09780615690776343, 'l2_leaf_reg': 0.31055845032241847}. Best is trial 10 with value: 0.7436289314513536.\n"
     ]
    },
    {
     "name": "stdout",
     "output_type": "stream",
     "text": [
      "Stopped by overfitting detector  (300 iterations wait)\n",
      "\n",
      "bestTest = 0.7430835263\n",
      "bestIteration = 386\n",
      "\n",
      "Shrink model to first 387 iterations.\n",
      "0:\ttest: 0.7130646\tbest: 0.7130646 (0)\ttotal: 72.9ms\tremaining: 2m 10s\n",
      "300:\ttest: 0.7426430\tbest: 0.7426875 (291)\ttotal: 20.3s\tremaining: 1m 40s\n",
      "600:\ttest: 0.7427732\tbest: 0.7428471 (511)\ttotal: 41.7s\tremaining: 1m 22s\n",
      "900:\ttest: 0.7425898\tbest: 0.7428611 (684)\ttotal: 1m 3s\tremaining: 1m 2s\n"
     ]
    },
    {
     "name": "stderr",
     "output_type": "stream",
     "text": [
      "[I 2025-02-25 13:00:10,422] Trial 20 finished with value: 0.7428611288327351 and parameters: {'iterations': 1787, 'depth': 6, 'learning_rate': 0.08587776765159605, 'l2_leaf_reg': 20.419787539717326}. Best is trial 10 with value: 0.7436289314513536.\n"
     ]
    },
    {
     "name": "stdout",
     "output_type": "stream",
     "text": [
      "Stopped by overfitting detector  (300 iterations wait)\n",
      "\n",
      "bestTest = 0.7428611288\n",
      "bestIteration = 684\n",
      "\n",
      "Shrink model to first 685 iterations.\n",
      "0:\ttest: 0.7076569\tbest: 0.7076569 (0)\ttotal: 59.5ms\tremaining: 2m 4s\n",
      "300:\ttest: 0.7424590\tbest: 0.7424590 (299)\ttotal: 17s\tremaining: 1m 41s\n",
      "600:\ttest: 0.7429108\tbest: 0.7429226 (589)\ttotal: 34.5s\tremaining: 1m 25s\n",
      "900:\ttest: 0.7429115\tbest: 0.7430481 (686)\ttotal: 52.4s\tremaining: 1m 9s\n"
     ]
    },
    {
     "name": "stderr",
     "output_type": "stream",
     "text": [
      "[I 2025-02-25 13:01:08,184] Trial 21 finished with value: 0.7430480900688485 and parameters: {'iterations': 2092, 'depth': 5, 'learning_rate': 0.07778978172224671, 'l2_leaf_reg': 89.94798088783348}. Best is trial 10 with value: 0.7436289314513536.\n"
     ]
    },
    {
     "name": "stdout",
     "output_type": "stream",
     "text": [
      "Stopped by overfitting detector  (300 iterations wait)\n",
      "\n",
      "bestTest = 0.7430480901\n",
      "bestIteration = 686\n",
      "\n",
      "Shrink model to first 687 iterations.\n",
      "0:\ttest: 0.7076174\tbest: 0.7076174 (0)\ttotal: 60.7ms\tremaining: 1m 57s\n",
      "300:\ttest: 0.7424210\tbest: 0.7424421 (295)\ttotal: 17.1s\tremaining: 1m 33s\n",
      "600:\ttest: 0.7428896\tbest: 0.7429004 (569)\ttotal: 35.1s\tremaining: 1m 18s\n",
      "900:\ttest: 0.7429572\tbest: 0.7429612 (897)\ttotal: 53.2s\tremaining: 1m 1s\n",
      "1200:\ttest: 0.7428721\tbest: 0.7430448 (1028)\ttotal: 1m 11s\tremaining: 44.1s\n"
     ]
    },
    {
     "name": "stderr",
     "output_type": "stream",
     "text": [
      "[I 2025-02-25 13:02:27,743] Trial 22 finished with value: 0.7430448021750545 and parameters: {'iterations': 1942, 'depth': 5, 'learning_rate': 0.07400775627394578, 'l2_leaf_reg': 25.03453806107939}. Best is trial 10 with value: 0.7436289314513536.\n"
     ]
    },
    {
     "name": "stdout",
     "output_type": "stream",
     "text": [
      "Stopped by overfitting detector  (300 iterations wait)\n",
      "\n",
      "bestTest = 0.7430448022\n",
      "bestIteration = 1028\n",
      "\n",
      "Shrink model to first 1029 iterations.\n",
      "0:\ttest: 0.7130385\tbest: 0.7130385 (0)\ttotal: 74.6ms\tremaining: 2m 39s\n",
      "300:\ttest: 0.7433552\tbest: 0.7434465 (277)\ttotal: 20.7s\tremaining: 2m 6s\n",
      "600:\ttest: 0.7432925\tbest: 0.7434527 (414)\ttotal: 42.3s\tremaining: 1m 48s\n"
     ]
    },
    {
     "name": "stderr",
     "output_type": "stream",
     "text": [
      "[I 2025-02-25 13:03:18,439] Trial 23 finished with value: 0.743452699549819 and parameters: {'iterations': 2137, 'depth': 6, 'learning_rate': 0.08797512036088623, 'l2_leaf_reg': 1.8557984338583142}. Best is trial 10 with value: 0.7436289314513536.\n"
     ]
    },
    {
     "name": "stdout",
     "output_type": "stream",
     "text": [
      "Stopped by overfitting detector  (300 iterations wait)\n",
      "\n",
      "bestTest = 0.7434526995\n",
      "bestIteration = 414\n",
      "\n",
      "Shrink model to first 415 iterations.\n",
      "0:\ttest: 0.7222121\tbest: 0.7222121 (0)\ttotal: 87ms\tremaining: 3m 17s\n",
      "300:\ttest: 0.7428533\tbest: 0.7431748 (257)\ttotal: 24s\tremaining: 2m 36s\n"
     ]
    },
    {
     "name": "stderr",
     "output_type": "stream",
     "text": [
      "[I 2025-02-25 13:04:04,115] Trial 24 finished with value: 0.7431747772229584 and parameters: {'iterations': 2269, 'depth': 7, 'learning_rate': 0.08787958749188744, 'l2_leaf_reg': 1.6951625535387}. Best is trial 10 with value: 0.7436289314513536.\n"
     ]
    },
    {
     "name": "stdout",
     "output_type": "stream",
     "text": [
      "Stopped by overfitting detector  (300 iterations wait)\n",
      "\n",
      "bestTest = 0.7431747772\n",
      "bestIteration = 257\n",
      "\n",
      "Shrink model to first 258 iterations.\n",
      "0:\ttest: 0.7130452\tbest: 0.7130452 (0)\ttotal: 74ms\tremaining: 3m 27s\n",
      "300:\ttest: 0.7432122\tbest: 0.7432122 (300)\ttotal: 20.7s\tremaining: 2m 52s\n",
      "600:\ttest: 0.7428731\tbest: 0.7432328 (307)\ttotal: 42.4s\tremaining: 2m 35s\n"
     ]
    },
    {
     "name": "stderr",
     "output_type": "stream",
     "text": [
      "[I 2025-02-25 13:04:47,248] Trial 25 finished with value: 0.7432327720162689 and parameters: {'iterations': 2799, 'depth': 6, 'learning_rate': 0.09943756570675606, 'l2_leaf_reg': 2.8810054494853423}. Best is trial 10 with value: 0.7436289314513536.\n"
     ]
    },
    {
     "name": "stdout",
     "output_type": "stream",
     "text": [
      "Stopped by overfitting detector  (300 iterations wait)\n",
      "\n",
      "bestTest = 0.743232772\n",
      "bestIteration = 307\n",
      "\n",
      "Shrink model to first 308 iterations.\n",
      "0:\ttest: 0.7222128\tbest: 0.7222128 (0)\ttotal: 107ms\tremaining: 4m 22s\n",
      "300:\ttest: 0.7404942\tbest: 0.7417092 (143)\ttotal: 31.6s\tremaining: 3m 45s\n"
     ]
    },
    {
     "name": "stderr",
     "output_type": "stream",
     "text": [
      "[I 2025-02-25 13:05:35,159] Trial 26 finished with value: 0.7417092462149274 and parameters: {'iterations': 2442, 'depth': 9, 'learning_rate': 0.08771411827864868, 'l2_leaf_reg': 0.38468440099993867}. Best is trial 10 with value: 0.7436289314513536.\n"
     ]
    },
    {
     "name": "stdout",
     "output_type": "stream",
     "text": [
      "Stopped by overfitting detector  (300 iterations wait)\n",
      "\n",
      "bestTest = 0.7417092462\n",
      "bestIteration = 143\n",
      "\n",
      "Shrink model to first 144 iterations.\n",
      "0:\ttest: 0.7130698\tbest: 0.7130698 (0)\ttotal: 73.5ms\tremaining: 2m 39s\n",
      "300:\ttest: 0.7425536\tbest: 0.7425536 (300)\ttotal: 20s\tremaining: 2m 4s\n",
      "600:\ttest: 0.7427607\tbest: 0.7428655 (471)\ttotal: 41s\tremaining: 1m 47s\n"
     ]
    },
    {
     "name": "stderr",
     "output_type": "stream",
     "text": [
      "[I 2025-02-25 13:06:28,571] Trial 27 finished with value: 0.7428655325455582 and parameters: {'iterations': 2172, 'depth': 6, 'learning_rate': 0.0670710187044037, 'l2_leaf_reg': 26.436181943823172}. Best is trial 10 with value: 0.7436289314513536.\n"
     ]
    },
    {
     "name": "stdout",
     "output_type": "stream",
     "text": [
      "Stopped by overfitting detector  (300 iterations wait)\n",
      "\n",
      "bestTest = 0.7428655325\n",
      "bestIteration = 471\n",
      "\n",
      "Shrink model to first 472 iterations.\n",
      "0:\ttest: 0.7222083\tbest: 0.7222083 (0)\ttotal: 83.8ms\tremaining: 2m 19s\n",
      "300:\ttest: 0.7429676\tbest: 0.7429897 (270)\ttotal: 23.2s\tremaining: 1m 45s\n",
      "600:\ttest: 0.7427894\tbest: 0.7431134 (408)\ttotal: 48.1s\tremaining: 1m 25s\n"
     ]
    },
    {
     "name": "stderr",
     "output_type": "stream",
     "text": [
      "[I 2025-02-25 13:07:25,878] Trial 28 finished with value: 0.7431133754092674 and parameters: {'iterations': 1664, 'depth': 7, 'learning_rate': 0.05714858046983044, 'l2_leaf_reg': 4.275924995806834}. Best is trial 10 with value: 0.7436289314513536.\n"
     ]
    },
    {
     "name": "stdout",
     "output_type": "stream",
     "text": [
      "Stopped by overfitting detector  (300 iterations wait)\n",
      "\n",
      "bestTest = 0.7431133754\n",
      "bestIteration = 408\n",
      "\n",
      "Shrink model to first 409 iterations.\n",
      "0:\ttest: 0.7130817\tbest: 0.7130817 (0)\ttotal: 73.2ms\tremaining: 3m 12s\n",
      "300:\ttest: 0.7413433\tbest: 0.7413438 (299)\ttotal: 19.5s\tremaining: 2m 30s\n",
      "600:\ttest: 0.7425028\tbest: 0.7425028 (599)\ttotal: 40.5s\tremaining: 2m 16s\n",
      "900:\ttest: 0.7429785\tbest: 0.7429924 (880)\ttotal: 1m 1s\tremaining: 1m 57s\n",
      "1200:\ttest: 0.7431209\tbest: 0.7431329 (1185)\ttotal: 1m 22s\tremaining: 1m 37s\n",
      "1500:\ttest: 0.7431850\tbest: 0.7432148 (1327)\ttotal: 1m 43s\tremaining: 1m 17s\n",
      "1800:\ttest: 0.7431919\tbest: 0.7432192 (1582)\ttotal: 2m 5s\tremaining: 57.3s\n"
     ]
    },
    {
     "name": "stderr",
     "output_type": "stream",
     "text": [
      "[I 2025-02-25 13:09:37,344] Trial 29 finished with value: 0.7432191876144946 and parameters: {'iterations': 2626, 'depth': 6, 'learning_rate': 0.026261361112435506, 'l2_leaf_reg': 30.197655067134974}. Best is trial 10 with value: 0.7436289314513536.\n"
     ]
    },
    {
     "name": "stdout",
     "output_type": "stream",
     "text": [
      "Stopped by overfitting detector  (300 iterations wait)\n",
      "\n",
      "bestTest = 0.7432191876\n",
      "bestIteration = 1582\n",
      "\n",
      "Shrink model to first 1583 iterations.\n",
      "0:\ttest: 0.7075995\tbest: 0.7075995 (0)\ttotal: 62.9ms\tremaining: 2m 29s\n",
      "300:\ttest: 0.7429847\tbest: 0.7430672 (280)\ttotal: 17.5s\tremaining: 2m\n"
     ]
    },
    {
     "name": "stderr",
     "output_type": "stream",
     "text": [
      "[I 2025-02-25 13:10:12,022] Trial 30 finished with value: 0.7430672495948822 and parameters: {'iterations': 2382, 'depth': 5, 'learning_rate': 0.08625734992597225, 'l2_leaf_reg': 0.625022210787573}. Best is trial 10 with value: 0.7436289314513536.\n"
     ]
    },
    {
     "name": "stdout",
     "output_type": "stream",
     "text": [
      "Stopped by overfitting detector  (300 iterations wait)\n",
      "\n",
      "bestTest = 0.7430672496\n",
      "bestIteration = 280\n",
      "\n",
      "Shrink model to first 281 iterations.\n",
      "0:\ttest: 0.7076566\tbest: 0.7076566 (0)\ttotal: 61.4ms\tremaining: 2m 5s\n",
      "300:\ttest: 0.7425597\tbest: 0.7425841 (295)\ttotal: 17.1s\tremaining: 1m 39s\n",
      "600:\ttest: 0.7428928\tbest: 0.7429933 (525)\ttotal: 34.9s\tremaining: 1m 23s\n",
      "900:\ttest: 0.7429482\tbest: 0.7430149 (748)\ttotal: 52.8s\tremaining: 1m 7s\n"
     ]
    },
    {
     "name": "stderr",
     "output_type": "stream",
     "text": [
      "[I 2025-02-25 13:11:14,077] Trial 31 finished with value: 0.7430149291979868 and parameters: {'iterations': 2046, 'depth': 5, 'learning_rate': 0.07601238032971448, 'l2_leaf_reg': 42.88393876871743}. Best is trial 10 with value: 0.7436289314513536.\n"
     ]
    },
    {
     "name": "stdout",
     "output_type": "stream",
     "text": [
      "Stopped by overfitting detector  (300 iterations wait)\n",
      "\n",
      "bestTest = 0.7430149292\n",
      "bestIteration = 748\n",
      "\n",
      "Shrink model to first 749 iterations.\n",
      "0:\ttest: 0.7076174\tbest: 0.7076174 (0)\ttotal: 61.9ms\tremaining: 1m 54s\n",
      "300:\ttest: 0.7425756\tbest: 0.7426092 (279)\ttotal: 17.4s\tremaining: 1m 29s\n",
      "600:\ttest: 0.7428392\tbest: 0.7429392 (537)\ttotal: 35.5s\tremaining: 1m 14s\n"
     ]
    },
    {
     "name": "stderr",
     "output_type": "stream",
     "text": [
      "[I 2025-02-25 13:12:04,189] Trial 32 finished with value: 0.7429392163103421 and parameters: {'iterations': 1859, 'depth': 5, 'learning_rate': 0.08197353981680265, 'l2_leaf_reg': 10.617855676998289}. Best is trial 10 with value: 0.7436289314513536.\n"
     ]
    },
    {
     "name": "stdout",
     "output_type": "stream",
     "text": [
      "Stopped by overfitting detector  (300 iterations wait)\n",
      "\n",
      "bestTest = 0.7429392163\n",
      "bestIteration = 537\n",
      "\n",
      "Shrink model to first 538 iterations.\n",
      "0:\ttest: 0.7130483\tbest: 0.7130483 (0)\ttotal: 72.3ms\tremaining: 2m 39s\n",
      "300:\ttest: 0.7432329\tbest: 0.7432906 (267)\ttotal: 20.7s\tremaining: 2m 11s\n",
      "600:\ttest: 0.7429563\tbest: 0.7434207 (372)\ttotal: 42.3s\tremaining: 1m 52s\n"
     ]
    },
    {
     "name": "stderr",
     "output_type": "stream",
     "text": [
      "[I 2025-02-25 13:12:51,937] Trial 33 finished with value: 0.7434207100903936 and parameters: {'iterations': 2207, 'depth': 6, 'learning_rate': 0.09126321544984337, 'l2_leaf_reg': 5.999804111395076}. Best is trial 10 with value: 0.7436289314513536.\n"
     ]
    },
    {
     "name": "stdout",
     "output_type": "stream",
     "text": [
      "Stopped by overfitting detector  (300 iterations wait)\n",
      "\n",
      "bestTest = 0.7434207101\n",
      "bestIteration = 372\n",
      "\n",
      "Shrink model to first 373 iterations.\n",
      "0:\ttest: 0.7222068\tbest: 0.7222068 (0)\ttotal: 84.8ms\tremaining: 3m 7s\n",
      "300:\ttest: 0.7423656\tbest: 0.7427873 (207)\ttotal: 23.9s\tremaining: 2m 32s\n"
     ]
    },
    {
     "name": "stderr",
     "output_type": "stream",
     "text": [
      "[I 2025-02-25 13:13:33,314] Trial 34 finished with value: 0.7427872504945262 and parameters: {'iterations': 2218, 'depth': 7, 'learning_rate': 0.09482488464422034, 'l2_leaf_reg': 5.249395545428615}. Best is trial 10 with value: 0.7436289314513536.\n"
     ]
    },
    {
     "name": "stdout",
     "output_type": "stream",
     "text": [
      "Stopped by overfitting detector  (300 iterations wait)\n",
      "\n",
      "bestTest = 0.7427872505\n",
      "bestIteration = 207\n",
      "\n",
      "Shrink model to first 208 iterations.\n",
      "0:\ttest: 0.7130595\tbest: 0.7130595 (0)\ttotal: 72.9ms\tremaining: 2m 48s\n",
      "300:\ttest: 0.7435643\tbest: 0.7435643 (300)\ttotal: 20.6s\tremaining: 2m 17s\n",
      "600:\ttest: 0.7432423\tbest: 0.7436509 (323)\ttotal: 42s\tremaining: 1m 59s\n"
     ]
    },
    {
     "name": "stderr",
     "output_type": "stream",
     "text": [
      "[I 2025-02-25 13:14:17,170] Trial 35 finished with value: 0.7436509341319241 and parameters: {'iterations': 2312, 'depth': 6, 'learning_rate': 0.09044118770623268, 'l2_leaf_reg': 13.741266639265618}. Best is trial 35 with value: 0.7436509341319241.\n"
     ]
    },
    {
     "name": "stdout",
     "output_type": "stream",
     "text": [
      "Stopped by overfitting detector  (300 iterations wait)\n",
      "\n",
      "bestTest = 0.7436509341\n",
      "bestIteration = 323\n",
      "\n",
      "Shrink model to first 324 iterations.\n",
      "저장 완료\n",
      "0:\ttest: 0.7037130\tbest: 0.7037130 (0)\ttotal: 51.5ms\tremaining: 2m 29s\n",
      "300:\ttest: 0.7422573\tbest: 0.7422756 (297)\ttotal: 14.2s\tremaining: 2m 2s\n",
      "600:\ttest: 0.7425944\tbest: 0.7426073 (592)\ttotal: 28.6s\tremaining: 1m 49s\n",
      "900:\ttest: 0.7426881\tbest: 0.7427790 (802)\ttotal: 43.4s\tremaining: 1m 36s\n"
     ]
    },
    {
     "name": "stderr",
     "output_type": "stream",
     "text": [
      "[I 2025-02-25 13:15:10,801] Trial 36 finished with value: 0.7427789592840892 and parameters: {'iterations': 2898, 'depth': 4, 'learning_rate': 0.07297021907799471, 'l2_leaf_reg': 14.421938149457361}. Best is trial 35 with value: 0.7436509341319241.\n"
     ]
    },
    {
     "name": "stdout",
     "output_type": "stream",
     "text": [
      "Stopped by overfitting detector  (300 iterations wait)\n",
      "\n",
      "bestTest = 0.7427789593\n",
      "bestIteration = 802\n",
      "\n",
      "Shrink model to first 803 iterations.\n",
      "0:\ttest: 0.7130817\tbest: 0.7130817 (0)\ttotal: 72.3ms\tremaining: 3m 7s\n",
      "300:\ttest: 0.7428109\tbest: 0.7428109 (299)\ttotal: 20.4s\tremaining: 2m 35s\n",
      "600:\ttest: 0.7431463\tbest: 0.7431618 (595)\ttotal: 41.7s\tremaining: 2m 17s\n",
      "900:\ttest: 0.7430769\tbest: 0.7431888 (605)\ttotal: 1m 3s\tremaining: 1m 58s\n"
     ]
    },
    {
     "name": "stderr",
     "output_type": "stream",
     "text": [
      "[I 2025-02-25 13:16:14,449] Trial 37 finished with value: 0.7431888381310798 and parameters: {'iterations': 2590, 'depth': 6, 'learning_rate': 0.09055714521044299, 'l2_leaf_reg': 32.309485854217286}. Best is trial 35 with value: 0.7436509341319241.\n"
     ]
    },
    {
     "name": "stdout",
     "output_type": "stream",
     "text": [
      "Stopped by overfitting detector  (300 iterations wait)\n",
      "\n",
      "bestTest = 0.7431888381\n",
      "bestIteration = 605\n",
      "\n",
      "Shrink model to first 606 iterations.\n",
      "0:\ttest: 0.7222182\tbest: 0.7222182 (0)\ttotal: 84.6ms\tremaining: 2m 15s\n",
      "300:\ttest: 0.7432213\tbest: 0.7432776 (282)\ttotal: 23.1s\tremaining: 1m 39s\n",
      "600:\ttest: 0.7428404\tbest: 0.7432939 (350)\ttotal: 47.8s\tremaining: 1m 19s\n"
     ]
    },
    {
     "name": "stderr",
     "output_type": "stream",
     "text": [
      "[I 2025-02-25 13:17:06,642] Trial 38 finished with value: 0.7432939038096968 and parameters: {'iterations': 1601, 'depth': 7, 'learning_rate': 0.06592827986625908, 'l2_leaf_reg': 11.791796846754108}. Best is trial 35 with value: 0.7436509341319241.\n"
     ]
    },
    {
     "name": "stdout",
     "output_type": "stream",
     "text": [
      "Stopped by overfitting detector  (300 iterations wait)\n",
      "\n",
      "bestTest = 0.7432939038\n",
      "bestIteration = 350\n",
      "\n",
      "Shrink model to first 351 iterations.\n",
      "0:\ttest: 0.7037130\tbest: 0.7037130 (0)\ttotal: 52.5ms\tremaining: 1m 34s\n",
      "300:\ttest: 0.7415859\tbest: 0.7415859 (300)\ttotal: 13.8s\tremaining: 1m 8s\n",
      "600:\ttest: 0.7428412\tbest: 0.7428412 (600)\ttotal: 28.4s\tremaining: 56.6s\n",
      "900:\ttest: 0.7428252\tbest: 0.7429833 (719)\ttotal: 43.4s\tremaining: 43.2s\n"
     ]
    },
    {
     "name": "stderr",
     "output_type": "stream",
     "text": [
      "[I 2025-02-25 13:17:56,118] Trial 39 finished with value: 0.7429833487398425 and parameters: {'iterations': 1799, 'depth': 4, 'learning_rate': 0.047188764913951214, 'l2_leaf_reg': 0.8426911159262782}. Best is trial 35 with value: 0.7436509341319241.\n",
      "[I 2025-02-25 13:17:56,121] A new study created in memory with name: no-name-e6164a10-980c-466e-9c41-6eec716ea233\n"
     ]
    },
    {
     "name": "stdout",
     "output_type": "stream",
     "text": [
      "Stopped by overfitting detector  (300 iterations wait)\n",
      "\n",
      "bestTest = 0.7429833487\n",
      "bestIteration = 719\n",
      "\n",
      "Shrink model to first 720 iterations.\n"
     ]
    },
    {
     "name": "stderr",
     "output_type": "stream",
     "text": [
      "[I 2025-02-25 13:18:19,151] Trial 0 finished with value: 0.7315346206162885 and parameters: {'num_iterations': 2366, 'objective': 'binary', 'metric': 'auc', 'verbose': -1, 'learning_rate': 0.0652646236447618, 'n_estimators': 236, 'min_child_samples': 45, 'subsample': 0.7, 'colsample_bytree': 0.5}. Best is trial 0 with value: 0.7315346206162885.\n",
      "[I 2025-02-25 13:18:35,968] Trial 1 finished with value: 0.7431278334060112 and parameters: {'num_iterations': 1510, 'objective': 'binary', 'metric': 'auc', 'verbose': -1, 'learning_rate': 0.005231880959249543, 'n_estimators': 1411, 'min_child_samples': 10, 'subsample': 1.0, 'colsample_bytree': 0.5}. Best is trial 1 with value: 0.7431278334060112.\n",
      "[I 2025-02-25 13:18:55,420] Trial 2 finished with value: 0.7423049784207747 and parameters: {'num_iterations': 2334, 'objective': 'binary', 'metric': 'auc', 'verbose': -1, 'learning_rate': 0.006578527777128852, 'n_estimators': 931, 'min_child_samples': 15, 'subsample': 0.5, 'colsample_bytree': 1.0}. Best is trial 1 with value: 0.7431278334060112.\n",
      "[I 2025-02-25 13:19:11,754] Trial 3 finished with value: 0.7431782636610637 and parameters: {'num_iterations': 1620, 'objective': 'binary', 'metric': 'auc', 'verbose': -1, 'learning_rate': 0.0058823249237283685, 'n_estimators': 837, 'min_child_samples': 10, 'subsample': 0.9, 'colsample_bytree': 0.6}. Best is trial 3 with value: 0.7431782636610637.\n",
      "[I 2025-02-25 13:19:28,007] Trial 4 finished with value: 0.7428657747696179 and parameters: {'num_iterations': 1997, 'objective': 'binary', 'metric': 'auc', 'verbose': -1, 'learning_rate': 0.010907507425244923, 'n_estimators': 1597, 'min_child_samples': 50, 'subsample': 0.6, 'colsample_bytree': 0.8}. Best is trial 3 with value: 0.7431782636610637.\n",
      "[I 2025-02-25 13:19:51,246] Trial 5 finished with value: 0.7394056715818508 and parameters: {'num_iterations': 2909, 'objective': 'binary', 'metric': 'auc', 'verbose': -1, 'learning_rate': 0.019760591962733942, 'n_estimators': 612, 'min_child_samples': 30, 'subsample': 0.7, 'colsample_bytree': 0.9}. Best is trial 3 with value: 0.7431782636610637.\n",
      "[I 2025-02-25 13:20:12,776] Trial 6 finished with value: 0.7407117476826464 and parameters: {'num_iterations': 2639, 'objective': 'binary', 'metric': 'auc', 'verbose': -1, 'learning_rate': 0.017862094446750985, 'n_estimators': 794, 'min_child_samples': 35, 'subsample': 1.0, 'colsample_bytree': 0.8}. Best is trial 3 with value: 0.7431782636610637.\n",
      "[I 2025-02-25 13:20:29,939] Trial 7 finished with value: 0.7426188332970818 and parameters: {'num_iterations': 1580, 'objective': 'binary', 'metric': 'auc', 'verbose': -1, 'learning_rate': 0.01776722177611332, 'n_estimators': 529, 'min_child_samples': 25, 'subsample': 0.8, 'colsample_bytree': 0.5}. Best is trial 3 with value: 0.7431782636610637.\n",
      "[I 2025-02-25 13:20:47,803] Trial 8 finished with value: 0.7392510055634022 and parameters: {'num_iterations': 1911, 'objective': 'binary', 'metric': 'auc', 'verbose': -1, 'learning_rate': 0.0304747553332844, 'n_estimators': 1328, 'min_child_samples': 10, 'subsample': 0.7, 'colsample_bytree': 0.6}. Best is trial 3 with value: 0.7431782636610637.\n",
      "[I 2025-02-25 13:21:15,307] Trial 9 finished with value: 0.7384520870803277 and parameters: {'num_iterations': 2739, 'objective': 'binary', 'metric': 'auc', 'verbose': -1, 'learning_rate': 0.02691531614176271, 'n_estimators': 1438, 'min_child_samples': 20, 'subsample': 0.6, 'colsample_bytree': 0.5}. Best is trial 3 with value: 0.7431782636610637.\n",
      "[I 2025-02-25 13:21:29,864] Trial 10 finished with value: 0.7293373704327621 and parameters: {'num_iterations': 1883, 'objective': 'binary', 'metric': 'auc', 'verbose': -1, 'learning_rate': 0.08223556891145911, 'n_estimators': 1917, 'min_child_samples': 40, 'subsample': 0.9, 'colsample_bytree': 0.7}. Best is trial 3 with value: 0.7431782636610637.\n",
      "[I 2025-02-25 13:21:45,506] Trial 11 finished with value: 0.7430485506916505 and parameters: {'num_iterations': 1513, 'objective': 'binary', 'metric': 'auc', 'verbose': -1, 'learning_rate': 0.005340229419903739, 'n_estimators': 1206, 'min_child_samples': 10, 'subsample': 1.0, 'colsample_bytree': 0.6}. Best is trial 3 with value: 0.7431782636610637.\n",
      "[I 2025-02-25 13:22:02,047] Trial 12 finished with value: 0.7431268565679999 and parameters: {'num_iterations': 1698, 'objective': 'binary', 'metric': 'auc', 'verbose': -1, 'learning_rate': 0.008515343845233947, 'n_estimators': 1719, 'min_child_samples': 20, 'subsample': 0.9, 'colsample_bytree': 0.6}. Best is trial 3 with value: 0.7431782636610637.\n",
      "[I 2025-02-25 13:22:17,123] Trial 13 finished with value: 0.7427664946722302 and parameters: {'num_iterations': 1740, 'objective': 'binary', 'metric': 'auc', 'verbose': -1, 'learning_rate': 0.010074542479113706, 'n_estimators': 1082, 'min_child_samples': 10, 'subsample': 0.9, 'colsample_bytree': 0.7}. Best is trial 3 with value: 0.7431782636610637.\n",
      "[I 2025-02-25 13:22:38,297] Trial 14 finished with value: 0.7432772300584397 and parameters: {'num_iterations': 2165, 'objective': 'binary', 'metric': 'auc', 'verbose': -1, 'learning_rate': 0.005262187136940254, 'n_estimators': 251, 'min_child_samples': 20, 'subsample': 1.0, 'colsample_bytree': 0.6}. Best is trial 14 with value: 0.7432772300584397.\n",
      "[I 2025-02-25 13:22:55,978] Trial 15 finished with value: 0.7425834527008205 and parameters: {'num_iterations': 2153, 'objective': 'binary', 'metric': 'auc', 'verbose': -1, 'learning_rate': 0.012915147920823086, 'n_estimators': 188, 'min_child_samples': 20, 'subsample': 0.8, 'colsample_bytree': 0.7}. Best is trial 14 with value: 0.7432772300584397.\n",
      "[I 2025-02-25 13:23:17,865] Trial 16 finished with value: 0.7366304191994699 and parameters: {'num_iterations': 2503, 'objective': 'binary', 'metric': 'auc', 'verbose': -1, 'learning_rate': 0.03901437770924474, 'n_estimators': 444, 'min_child_samples': 25, 'subsample': 0.9, 'colsample_bytree': 0.6}. Best is trial 14 with value: 0.7432772300584397.\n",
      "[I 2025-02-25 13:23:38,042] Trial 17 finished with value: 0.7431612206173877 and parameters: {'num_iterations': 2103, 'objective': 'binary', 'metric': 'auc', 'verbose': -1, 'learning_rate': 0.007238111112271453, 'n_estimators': 116, 'min_child_samples': 15, 'subsample': 1.0, 'colsample_bytree': 0.6}. Best is trial 14 with value: 0.7432772300584397.\n",
      "[I 2025-02-25 13:23:53,379] Trial 18 finished with value: 0.7428149752221465 and parameters: {'num_iterations': 1753, 'objective': 'binary', 'metric': 'auc', 'verbose': -1, 'learning_rate': 0.013508700117868075, 'n_estimators': 756, 'min_child_samples': 30, 'subsample': 0.8, 'colsample_bytree': 0.7}. Best is trial 14 with value: 0.7432772300584397.\n",
      "[I 2025-02-25 13:24:10,185] Trial 19 finished with value: 0.7352884423163177 and parameters: {'num_iterations': 2202, 'objective': 'binary', 'metric': 'auc', 'verbose': -1, 'learning_rate': 0.04570242881302624, 'n_estimators': 414, 'min_child_samples': 15, 'subsample': 0.9, 'colsample_bytree': 0.8}. Best is trial 14 with value: 0.7432772300584397.\n",
      "[I 2025-02-25 13:24:26,875] Trial 20 finished with value: 0.7426782973182954 and parameters: {'num_iterations': 1973, 'objective': 'binary', 'metric': 'auc', 'verbose': -1, 'learning_rate': 0.00688976659636273, 'n_estimators': 946, 'min_child_samples': 25, 'subsample': 1.0, 'colsample_bytree': 0.9}. Best is trial 14 with value: 0.7432772300584397.\n",
      "[I 2025-02-25 13:24:46,933] Trial 21 finished with value: 0.743056762484363 and parameters: {'num_iterations': 2083, 'objective': 'binary', 'metric': 'auc', 'verbose': -1, 'learning_rate': 0.007540467244869114, 'n_estimators': 141, 'min_child_samples': 15, 'subsample': 1.0, 'colsample_bytree': 0.6}. Best is trial 14 with value: 0.7432772300584397.\n",
      "[I 2025-02-25 13:25:09,861] Trial 22 finished with value: 0.7432951864059474 and parameters: {'num_iterations': 2350, 'objective': 'binary', 'metric': 'auc', 'verbose': -1, 'learning_rate': 0.005003696675578548, 'n_estimators': 315, 'min_child_samples': 15, 'subsample': 1.0, 'colsample_bytree': 0.6}. Best is trial 22 with value: 0.7432951864059474.\n",
      "[I 2025-02-25 13:25:36,423] Trial 23 finished with value: 0.7432933995071463 and parameters: {'num_iterations': 2472, 'objective': 'binary', 'metric': 'auc', 'verbose': -1, 'learning_rate': 0.0051158678500405974, 'n_estimators': 303, 'min_child_samples': 20, 'subsample': 0.9, 'colsample_bytree': 0.5}. Best is trial 22 with value: 0.7432951864059474.\n",
      "[I 2025-02-25 13:26:03,258] Trial 24 finished with value: 0.743298521950376 and parameters: {'num_iterations': 2494, 'objective': 'binary', 'metric': 'auc', 'verbose': -1, 'learning_rate': 0.005037122713163456, 'n_estimators': 333, 'min_child_samples': 20, 'subsample': 1.0, 'colsample_bytree': 0.5}. Best is trial 24 with value: 0.743298521950376.\n",
      "[I 2025-02-25 13:26:29,357] Trial 25 finished with value: 0.7428467423119434 and parameters: {'num_iterations': 2483, 'objective': 'binary', 'metric': 'auc', 'verbose': -1, 'learning_rate': 0.008883021712741569, 'n_estimators': 325, 'min_child_samples': 30, 'subsample': 0.9, 'colsample_bytree': 0.5}. Best is trial 24 with value: 0.743298521950376.\n",
      "[I 2025-02-25 13:26:57,817] Trial 26 finished with value: 0.7432234166083238 and parameters: {'num_iterations': 2642, 'objective': 'binary', 'metric': 'auc', 'verbose': -1, 'learning_rate': 0.005069671220026259, 'n_estimators': 631, 'min_child_samples': 25, 'subsample': 0.8, 'colsample_bytree': 0.5}. Best is trial 24 with value: 0.743298521950376.\n",
      "[I 2025-02-25 13:27:23,029] Trial 27 finished with value: 0.742457198373309 and parameters: {'num_iterations': 2423, 'objective': 'binary', 'metric': 'auc', 'verbose': -1, 'learning_rate': 0.0125922174685724, 'n_estimators': 377, 'min_child_samples': 20, 'subsample': 1.0, 'colsample_bytree': 0.5}. Best is trial 24 with value: 0.743298521950376.\n",
      "[I 2025-02-25 13:27:50,209] Trial 28 finished with value: 0.742680802947503 and parameters: {'num_iterations': 2591, 'objective': 'binary', 'metric': 'auc', 'verbose': -1, 'learning_rate': 0.008852667065915495, 'n_estimators': 562, 'min_child_samples': 15, 'subsample': 0.9, 'colsample_bytree': 0.5}. Best is trial 24 with value: 0.743298521950376.\n",
      "[I 2025-02-25 13:28:12,866] Trial 29 finished with value: 0.7332400010940586 and parameters: {'num_iterations': 2327, 'objective': 'binary', 'metric': 'auc', 'verbose': -1, 'learning_rate': 0.05960988822297185, 'n_estimators': 278, 'min_child_samples': 35, 'subsample': 1.0, 'colsample_bytree': 0.5}. Best is trial 24 with value: 0.743298521950376.\n",
      "[I 2025-02-25 13:28:42,934] Trial 30 finished with value: 0.7430721893773456 and parameters: {'num_iterations': 2819, 'objective': 'binary', 'metric': 'auc', 'verbose': -1, 'learning_rate': 0.006300048275050027, 'n_estimators': 680, 'min_child_samples': 25, 'subsample': 0.8, 'colsample_bytree': 0.5}. Best is trial 24 with value: 0.743298521950376.\n",
      "[I 2025-02-25 13:29:05,573] Trial 31 finished with value: 0.7432525787967573 and parameters: {'num_iterations': 2263, 'objective': 'binary', 'metric': 'auc', 'verbose': -1, 'learning_rate': 0.005122003598610231, 'n_estimators': 233, 'min_child_samples': 20, 'subsample': 1.0, 'colsample_bytree': 0.6}. Best is trial 24 with value: 0.743298521950376.\n",
      "[I 2025-02-25 13:29:28,693] Trial 32 finished with value: 0.7431446858471484 and parameters: {'num_iterations': 2426, 'objective': 'binary', 'metric': 'auc', 'verbose': -1, 'learning_rate': 0.006238384572569378, 'n_estimators': 475, 'min_child_samples': 20, 'subsample': 1.0, 'colsample_bytree': 0.6}. Best is trial 24 with value: 0.743298521950376.\n",
      "[I 2025-02-25 13:29:52,613] Trial 33 finished with value: 0.7430474309017352 and parameters: {'num_iterations': 2276, 'objective': 'binary', 'metric': 'auc', 'verbose': -1, 'learning_rate': 0.007606534605331476, 'n_estimators': 302, 'min_child_samples': 15, 'subsample': 1.0, 'colsample_bytree': 0.5}. Best is trial 24 with value: 0.743298521950376.\n",
      "[I 2025-02-25 13:30:14,401] Trial 34 finished with value: 0.7428609580846275 and parameters: {'num_iterations': 2562, 'objective': 'binary', 'metric': 'auc', 'verbose': -1, 'learning_rate': 0.006042786229530913, 'n_estimators': 241, 'min_child_samples': 15, 'subsample': 0.9, 'colsample_bytree': 0.7}. Best is trial 24 with value: 0.743298521950376.\n",
      "[I 2025-02-25 13:30:40,072] Trial 35 finished with value: 0.7433522917207436 and parameters: {'num_iterations': 2380, 'objective': 'binary', 'metric': 'auc', 'verbose': -1, 'learning_rate': 0.005127423419381529, 'n_estimators': 390, 'min_child_samples': 20, 'subsample': 1.0, 'colsample_bytree': 0.5}. Best is trial 35 with value: 0.7433522917207436.\n",
      "[I 2025-02-25 13:31:04,683] Trial 36 finished with value: 0.7427226243212207 and parameters: {'num_iterations': 2347, 'objective': 'binary', 'metric': 'auc', 'verbose': -1, 'learning_rate': 0.009685893759540867, 'n_estimators': 380, 'min_child_samples': 25, 'subsample': 0.5, 'colsample_bytree': 0.5}. Best is trial 35 with value: 0.7433522917207436.\n",
      "[I 2025-02-25 13:31:28,548] Trial 37 finished with value: 0.7420443056236738 and parameters: {'num_iterations': 2737, 'objective': 'binary', 'metric': 'auc', 'verbose': -1, 'learning_rate': 0.006121708470606466, 'n_estimators': 508, 'min_child_samples': 10, 'subsample': 1.0, 'colsample_bytree': 1.0}. Best is trial 35 with value: 0.7433522917207436.\n",
      "[I 2025-02-25 13:31:54,637] Trial 38 finished with value: 0.7425075095017748 and parameters: {'num_iterations': 2441, 'objective': 'binary', 'metric': 'auc', 'verbose': -1, 'learning_rate': 0.011807260576752108, 'n_estimators': 698, 'min_child_samples': 35, 'subsample': 0.9, 'colsample_bytree': 0.5}. Best is trial 35 with value: 0.7433522917207436.\n",
      "[I 2025-02-25 13:32:25,921] Trial 39 finished with value: 0.741306602322638 and parameters: {'num_iterations': 2961, 'objective': 'binary', 'metric': 'auc', 'verbose': -1, 'learning_rate': 0.014837244833443933, 'n_estimators': 109, 'min_child_samples': 20, 'subsample': 0.6, 'colsample_bytree': 0.5}. Best is trial 35 with value: 0.7433522917207436.\n"
     ]
    },
    {
     "name": "stdout",
     "output_type": "stream",
     "text": [
      "Cat val score : 0.743650934131924\n",
      "LGBM val score : 0.7433251507133982\n",
      "Ensemble val score : 0.7438297232841872\n"
     ]
    }
   ],
   "source": [
    "for col in X.columns:\n",
    "    if X[col].dtype == 'object':  # 문자형이면 category로 변환\n",
    "        X[col] = X[col].astype('category')\n",
    "        test[col] = test[col].astype('category')\n",
    "seed = 4972\n",
    "\n",
    "test_pred_total = []\n",
    "scores_total = []\n",
    "seed_everything(seed)\n",
    "print('Seed {} Start!'.format(seed))\n",
    "cv = StratifiedKFold(n_splits = 10, random_state = seed, shuffle=True)\n",
    "\n",
    "cat_param_list = []\n",
    "lgbm_param_list = []\n",
    "for idx, (train_idx, val_idx) in enumerate(cv.split(X, y)):\n",
    "    print('='*50)\n",
    "    X_train, X_val = X.iloc[train_idx],X.iloc[val_idx]\n",
    "    y_train, y_val = y.iloc[train_idx], y.iloc[val_idx]\n",
    "    \n",
    "    best_val_auc = 0\n",
    "\n",
    "    sampler = TPESampler(seed=seed)\n",
    "    optuna_cat = optuna.create_study(direction='maximize', sampler=sampler)\n",
    "    optuna_cat.optimize(objective_cat, n_trials = 40)\n",
    "    cat_trial = optuna_cat.best_trial\n",
    "    cat_trial_params = cat_trial.params\n",
    "    cat_param_list.append(cat_trial_params)\n",
    "    \n",
    "    model = CatBoostClassifier(**cat_trial_params, auto_class_weights='Balanced', eval_metric='AUC', random_state=seed)\n",
    "    model.load_model(\"./weight/cat_fold_cpu{}.cbm\".format(idx))\n",
    "    #model = CatBoostClassifier(auto_class_weights='Balanced', eval_metric='AUC', random_state=seed, task_type=\"CPU\" )\n",
    "    #model.fit(X_train,y_train,cat_features=categorical_columns,early_stopping_rounds = 300,eval_set=[(X_val,y_val)], verbose = 300)\n",
    "    \n",
    "    # model_cpu = CatBoostClassifier(auto_class_weights='Balanced',eval_metric='AUC', random_state = 501, task_type=\"cpu\" )\n",
    "    # model_cpu.fit(X_train,y_train,cat_features=categorical_columns, early_stopping_rounds = 300,eval_set=[(X_val,y_val)], verbose = 300)\n",
    "    # model_cpu.save_model(\"cat_fold_{}.cbm\".format(idx))\n",
    "\n",
    "\n",
    "    sampler = TPESampler(seed=seed)\n",
    "    optuna_lgbm = optuna.create_study(direction='maximize', sampler=sampler)\n",
    "    optuna_lgbm.optimize(objective_lgbm, n_trials = 40)\n",
    "    lgbm_trial = optuna_lgbm.best_trial\n",
    "    lgbm_trial_params = lgbm_trial.params\n",
    "    lgbm_param_list.append(lgbm_trial_params)\n",
    "    \n",
    "    # lgbm_trial_params =loaded_lgbm_params[idx]\n",
    "    #print(lgbm_trial_params)\n",
    "\n",
    "    class_weights = compute_class_weight(class_weight=\"balanced\", classes=np.unique(y), y=y_train)\n",
    "    class_weight_dict = {i: w for i, w in enumerate(class_weights)}\n",
    "    model_lgbm = lgb.LGBMClassifier(**lgbm_trial_params,class_weight=class_weight_dict)\n",
    "    # model_lgbm = lgb.LGBMClassifier(class_weight=class_weight_dict)\n",
    "    #model_lgbm= lgb.LGBMClassifier(objective = 'binary', metric = 'auc', random_state =  seed, class_weight=class_weight_dict)\n",
    "    model_lgbm.fit(X_train, y_train, eval_set=[(X_val, y_val)],categorical_feature=categorical_columns)\n",
    "\n",
    "    val_pred = model.predict_proba(X_val)[:, 1]\n",
    "    val_pred_lgbm = model_lgbm.predict_proba(X_val)[:, 1]\n",
    "    print('Cat val score : {}'.format(roc_auc_score(y_val,val_pred)))\n",
    "    print('LGBM val score : {}'.format(roc_auc_score(y_val,val_pred_lgbm)))\n",
    "\n",
    "    roc_val = roc_auc_score(y_val, (2*val_pred+val_pred_lgbm)/3)\n",
    "    scores_total.append(roc_val)\n",
    "    print('Ensemble val score : {}'.format(roc_val))\n",
    "\n",
    "    test_pred = model.predict_proba(test)[:, 1]\n",
    "    test_pred_lgbm = model_lgbm.predict_proba(test)[:, 1]\n",
    "    test_pred_total.append((2*test_pred+test_pred_lgbm)/3)"
   ]
  },
  {
   "cell_type": "code",
   "execution_count": 25,
   "metadata": {
    "colab": {
     "base_uri": "https://localhost:8080/"
    },
    "id": "LDLeh9IJD9pt",
    "outputId": "0534775f-2085-448a-d2aa-690a9e4e4ff4"
   },
   "outputs": [
    {
     "data": {
      "text/plain": [
       "(0.7410713097965496,\n",
       " [0.7416461613607523,\n",
       "  0.7357847028094068,\n",
       "  0.7433811878035476,\n",
       "  0.7420312096409051,\n",
       "  0.7445674345269955,\n",
       "  0.7392489486443379,\n",
       "  0.7392793815163633,\n",
       "  0.7386887002777938,\n",
       "  0.7422556481012064,\n",
       "  0.7438297232841872])"
      ]
     },
     "execution_count": 25,
     "metadata": {},
     "output_type": "execute_result"
    }
   ],
   "source": [
    "np.mean(scores_total), scores_total"
   ]
  },
  {
   "cell_type": "code",
   "execution_count": 26,
   "metadata": {},
   "outputs": [],
   "source": [
    "test_pred_total_mean = np.mean(test_pred_total, axis=(0))"
   ]
  },
  {
   "cell_type": "code",
   "execution_count": 27,
   "metadata": {},
   "outputs": [
    {
     "data": {
      "text/plain": [
       "array([0.00439488, 0.00372115, 0.32744736, ..., 0.67412645, 0.38264391,\n",
       "       0.00528571])"
      ]
     },
     "execution_count": 27,
     "metadata": {},
     "output_type": "execute_result"
    }
   ],
   "source": [
    "test_pred_total_mean"
   ]
  },
  {
   "cell_type": "code",
   "execution_count": 28,
   "metadata": {
    "colab": {
     "base_uri": "https://localhost:8080/"
    },
    "id": "E8D6DZP0pIm3",
    "outputId": "946ae60d-f2f2-405e-e757-ab31fe0d2375"
   },
   "outputs": [
    {
     "data": {
      "text/plain": [
       "(0.7410713097965496,\n",
       " [0.7416461613607523,\n",
       "  0.7357847028094068,\n",
       "  0.7433811878035476,\n",
       "  0.7420312096409051,\n",
       "  0.7445674345269955,\n",
       "  0.7392489486443379,\n",
       "  0.7392793815163633,\n",
       "  0.7386887002777938,\n",
       "  0.7422556481012064,\n",
       "  0.7438297232841872])"
      ]
     },
     "execution_count": 28,
     "metadata": {},
     "output_type": "execute_result"
    }
   ],
   "source": [
    "np.mean(scores_total), scores_total # 불임 원인 인코딩 + make feature 사용\n"
   ]
  },
  {
   "cell_type": "code",
   "execution_count": 29,
   "metadata": {},
   "outputs": [],
   "source": [
    "import json\n",
    "with open(\"lgbm_params.json\", \"w\") as f:\n",
    "    json.dump(lgbm_param_list, f) \n",
    "\n",
    "with open(\"lgbm_params.json\", \"r\") as f:\n",
    "    loaded_lgbm_params =  json.load(f)"
   ]
  },
  {
   "cell_type": "markdown",
   "metadata": {},
   "source": [
    "#### 재현성 확인"
   ]
  },
  {
   "cell_type": "code",
   "execution_count": 30,
   "metadata": {
    "scrolled": true,
    "tags": []
   },
   "outputs": [
    {
     "name": "stdout",
     "output_type": "stream",
     "text": [
      "Seed 4972 Start!\n",
      "==================================================\n",
      "Cat cpu val score : 0.741746675087785\n",
      "LGBM val score : 0.7408268200260859\n",
      "Ensemble val score : 0.7416461613607523\n",
      "==================================================\n",
      "==================================================\n",
      "Cat cpu val score : 0.7432979339526757\n",
      "LGBM val score : 0.7426082700763182\n",
      "Ensemble val score : 0.7433811878035476\n",
      "==================================================\n",
      "Cat cpu val score : 0.7420130507781999\n",
      "LGBM val score : 0.740971356282239\n",
      "Ensemble val score : 0.7420312096409051\n",
      "==================================================\n",
      "Cat cpu val score : 0.7444723516563472\n",
      "LGBM val score : 0.7438726882731376\n",
      "Ensemble val score : 0.7445674345269955\n",
      "==================================================\n",
      "Cat cpu val score : 0.7393422485870713\n",
      "LGBM val score : 0.7378982755203536\n",
      "Ensemble val score : 0.7392489486443379\n",
      "==================================================\n",
      "Cat cpu val score : 0.7393699931691227\n",
      "LGBM val score : 0.7383549671450462\n",
      "Ensemble val score : 0.7392793815163633\n",
      "==================================================\n",
      "Cat cpu val score : 0.7386749768950014\n",
      "LGBM val score : 0.7374723542930157\n",
      "Ensemble val score : 0.7386887002777938\n",
      "==================================================\n",
      "Cat cpu val score : 0.7420362884043865\n",
      "LGBM val score : 0.741842608428781\n",
      "Ensemble val score : 0.7422556481012064\n",
      "==================================================\n",
      "Cat cpu val score : 0.743650934131924\n",
      "LGBM val score : 0.7433251507133982\n",
      "Ensemble val score : 0.7438297232841872\n"
     ]
    }
   ],
   "source": [
    "for col in X.columns:\n",
    "    if X[col].dtype == 'object':  # 문자형이면 category로 변환\n",
    "        X[col] = X[col].astype('category')\n",
    "        test[col] = test[col].astype('category')\n",
    "seed = 4972\n",
    "\n",
    "test_pred_total = []\n",
    "scores_total = []\n",
    "seed_everything(seed)\n",
    "print('Seed {} Start!'.format(seed))\n",
    "cv = StratifiedKFold(n_splits = 10, random_state = seed, shuffle=True)\n",
    "\n",
    "cat_param_list = []\n",
    "lgbm_param_list = []\n",
    "for idx, (train_idx, val_idx) in enumerate(cv.split(X, y)):\n",
    "    print('='*50)\n",
    "    X_train, X_val = X.iloc[train_idx],X.iloc[val_idx]\n",
    "    y_train, y_val = y.iloc[train_idx], y.iloc[val_idx]\n",
    "    if idx == 1:\n",
    "        continue\n",
    "    # cat_trial_params = loaded_cat_params[idx]\n",
    "    # model = CatBoostClassifier(**cat_trial_params ,auto_class_weights='Balanced', eval_metric='AUC', random_state=seed, task_type=\"CPU\")\n",
    "    # model.fit(X_train,y_train,cat_features=categorical_columns, early_stopping_rounds = 300, eval_set=[(X_val,y_val)], verbose = 300)\n",
    "    \n",
    "    model_cpu = CatBoostClassifier()\n",
    "    model_cpu.load_model(\"./weight/cat_fold_cpu{}.cbm\".format(idx))\n",
    "\n",
    "    lgbm_trial_params = loaded_lgbm_params[idx]\n",
    "    class_weights = compute_class_weight(class_weight=\"balanced\", classes=np.unique(y), y=y_train)\n",
    "    class_weight_dict = {i: w for i, w in enumerate(class_weights)}\n",
    "\n",
    "    model_lgbm = lgb.LGBMClassifier(**lgbm_trial_params,class_weight=class_weight_dict)\n",
    "    model_lgbm.fit(X_train, y_train, eval_set=[(X_val, y_val)],categorical_feature=categorical_columns)\n",
    "\n",
    "    # val_pred = model.predict_proba(X_val)[:, 1]\n",
    "    val_pred_cpu = model_cpu.predict_proba(X_val)[:, 1]\n",
    "    val_pred_lgbm = model_lgbm.predict_proba(X_val)[:, 1]\n",
    "    # print('Cat val score : {}'.format(roc_auc_score(y_val,val_pred)))\n",
    "    print('Cat cpu val score : {}'.format(roc_auc_score(y_val,val_pred_cpu)))\n",
    "    print('LGBM val score : {}'.format(roc_auc_score(y_val,val_pred_lgbm)))\n",
    "\n",
    "    roc_val = roc_auc_score(y_val, (val_pred_cpu*2 + val_pred_lgbm)/3)\n",
    "    scores_total.append(roc_val)\n",
    "    print('Ensemble val score : {}'.format(roc_val))\n",
    "\n",
    "    # test_pred = model.predict_proba(test)[:, 1]\n",
    "    test_pred_cpu = model_cpu.predict_proba(test)[:, 1]\n",
    "    test_pred_lgbm = model_lgbm.predict_proba(test)[:, 1]\n",
    "    test_pred_total.append((test_pred_cpu*2+test_pred_lgbm)/3)\n",
    "    # test_pred_total.append((test_pred_cpu))"
   ]
  },
  {
   "cell_type": "code",
   "execution_count": 31,
   "metadata": {},
   "outputs": [
    {
     "data": {
      "text/plain": [
       "(0.7416587105728989,\n",
       " [0.7416461613607523,\n",
       "  0.7433811878035476,\n",
       "  0.7420312096409051,\n",
       "  0.7445674345269955,\n",
       "  0.7392489486443379,\n",
       "  0.7392793815163633,\n",
       "  0.7386887002777938,\n",
       "  0.7422556481012064,\n",
       "  0.7438297232841872])"
      ]
     },
     "execution_count": 31,
     "metadata": {},
     "output_type": "execute_result"
    }
   ],
   "source": [
    "np.mean(scores_total), scores_total"
   ]
  },
  {
   "cell_type": "code",
   "execution_count": 32,
   "metadata": {
    "id": "zdqhyNyumAyx"
   },
   "outputs": [],
   "source": [
    "test_pred_total_mean = np.mean(test_pred_total, axis=(0))"
   ]
  },
  {
   "cell_type": "code",
   "execution_count": 33,
   "metadata": {
    "colab": {
     "base_uri": "https://localhost:8080/",
     "height": 540
    },
    "id": "HHVwzBg8NEZK",
    "outputId": "7c5d38e1-affe-45e7-b863-372c9a868b84"
   },
   "outputs": [
    {
     "data": {
      "text/plain": [
       "(array([13576.,  2371.,  3283.,  6018.,  9249., 13175., 16804., 15209.,\n",
       "         9766.,   616.]),\n",
       " array([5.82874553e-04, 8.87128707e-02, 1.76842867e-01, 2.64972863e-01,\n",
       "        3.53102859e-01, 4.41232855e-01, 5.29362851e-01, 6.17492847e-01,\n",
       "        7.05622843e-01, 7.93752840e-01, 8.81882836e-01]),\n",
       " <BarContainer object of 10 artists>)"
      ]
     },
     "execution_count": 33,
     "metadata": {},
     "output_type": "execute_result"
    },
    {
     "data": {
      "image/png": "[encoded data removed]",
      "text/plain": [
       "<Figure size 640x480 with 1 Axes>"
      ]
     },
     "metadata": {},
     "output_type": "display_data"
    }
   ],
   "source": [
    "plt.hist(test_pred_total_mean)"
   ]
  },
  {
   "cell_type": "code",
   "execution_count": 34,
   "metadata": {
    "id": "KGlLsagWhQmz"
   },
   "outputs": [],
   "source": [
    "test_pred_total_mean = np.mean(test_pred_total, axis=(0))\n",
    "sample_submission = pd.read_csv('../sample_submission.csv')\n",
    "sample_submission['probability'] = test_pred_total_mean\n",
    "sample_submission.to_csv('CODE_recentgit_lgbmcat_cpu_mac_sunghyun+StandardScaler-removefeatures.csv', index=False)"
   ]
  }
 ],
 "metadata": {
  "accelerator": "GPU",
  "colab": {
   "gpuType": "T4",
   "provenance": []
  },
  "kernelspec": {
   "display_name": "Python 3",
   "language": "python",
   "name": "python3"
  },
  "language_info": {
   "codemirror_mode": {
    "name": "ipython",
    "version": 3
   },
   "file_extension": ".py",
   "mimetype": "text/x-python",
   "name": "python",
   "nbconvert_exporter": "python",
   "pygments_lexer": "ipython3",
   "version": "3.9.6"
  }
 },
 "nbformat": 4,
 "nbformat_minor": 4
}
