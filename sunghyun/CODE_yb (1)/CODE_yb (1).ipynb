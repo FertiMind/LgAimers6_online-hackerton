{
 "cells": [
  {
   "cell_type": "code",
   "execution_count": 53,
   "metadata": {
    "colab": {
     "base_uri": "https://localhost:8080/"
    },
    "id": "0_-E_OuZQXqu",
    "outputId": "8f5cbcbb-5086-4ead-c817-9fdb22e3533b"
   },
   "outputs": [],
   "source": [
    "import random\n",
    "import os\n",
    "import pandas as pd\n",
    "import numpy as np\n",
    "\n",
    "from matplotlib import pyplot as plt\n",
    "import seaborn as sns\n",
    "from catboost import CatBoostClassifier\n",
    "import lightgbm as lgb\n",
    "\n",
    "import optuna\n",
    "from optuna import Trial\n",
    "from optuna.samplers import TPESampler\n",
    "from sklearn.model_selection import StratifiedKFold\n",
    "from sklearn.metrics import roc_auc_score\n",
    "from sklearn.utils.class_weight import compute_class_weight\n",
    "\n",
    "import warnings\n",
    "\n",
    "warnings.filterwarnings('ignore')\n",
    "\n",
    "import json"
   ]
  },
  {
   "cell_type": "code",
   "execution_count": 54,
   "metadata": {},
   "outputs": [],
   "source": [
    "plt.rcParams['font.family'] ='AppleGothic'\n",
    "plt.rcParams['axes.unicode_minus'] =False"
   ]
  },
  {
   "cell_type": "code",
   "execution_count": 55,
   "metadata": {
    "id": "u2FSTwmUIkF5"
   },
   "outputs": [],
   "source": [
    "def seed_everything(seed: int = 42):\n",
    "    random.seed(seed)\n",
    "    np.random.seed(seed)\n",
    "    os.environ[\"PYTHONHASHSEED\"] = str(seed)"
   ]
  },
  {
   "cell_type": "code",
   "execution_count": 56,
   "metadata": {
    "colab": {
     "base_uri": "https://localhost:8080/"
    },
    "id": "bbtq1EWyQcwX",
    "outputId": "ad146067-7509-44f2-ee26-cc8bc615473f"
   },
   "outputs": [
    {
     "data": {
      "text/plain": [
       "((256351, 68), (90067, 67))"
      ]
     },
     "execution_count": 56,
     "metadata": {},
     "output_type": "execute_result"
    }
   ],
   "source": [
    "train = pd.read_csv('../train.csv').drop(columns=['ID'])\n",
    "test = pd.read_csv('../test.csv').drop(columns=['ID'])\n",
    "train.shape, test.shape"
   ]
  },
  {
   "cell_type": "code",
   "execution_count": 57,
   "metadata": {
    "colab": {
     "base_uri": "https://localhost:8080/",
     "height": 444
    },
    "id": "oMlMq9njWkNB",
    "outputId": "cf2dd2c1-732f-4d8a-e177-fc78f6254652"
   },
   "outputs": [
    {
     "data": {
      "text/html": [
       "<div>\n",
       "<style scoped>\n",
       "    .dataframe tbody tr th:only-of-type {\n",
       "        vertical-align: middle;\n",
       "    }\n",
       "\n",
       "    .dataframe tbody tr th {\n",
       "        vertical-align: top;\n",
       "    }\n",
       "\n",
       "    .dataframe thead th {\n",
       "        text-align: right;\n",
       "    }\n",
       "</style>\n",
       "<table border=\"1\" class=\"dataframe\">\n",
       "  <thead>\n",
       "    <tr style=\"text-align: right;\">\n",
       "      <th></th>\n",
       "      <th>시술 시기 코드</th>\n",
       "      <th>시술 당시 나이</th>\n",
       "      <th>임신 시도 또는 마지막 임신 경과 연수</th>\n",
       "      <th>시술 유형</th>\n",
       "      <th>특정 시술 유형</th>\n",
       "      <th>배란 자극 여부</th>\n",
       "      <th>배란 유도 유형</th>\n",
       "      <th>단일 배아 이식 여부</th>\n",
       "      <th>착상 전 유전 검사 사용 여부</th>\n",
       "      <th>착상 전 유전 진단 사용 여부</th>\n",
       "      <th>...</th>\n",
       "      <th>기증 배아 사용 여부</th>\n",
       "      <th>대리모 여부</th>\n",
       "      <th>PGD 시술 여부</th>\n",
       "      <th>PGS 시술 여부</th>\n",
       "      <th>난자 채취 경과일</th>\n",
       "      <th>난자 해동 경과일</th>\n",
       "      <th>난자 혼합 경과일</th>\n",
       "      <th>배아 이식 경과일</th>\n",
       "      <th>배아 해동 경과일</th>\n",
       "      <th>임신 성공 여부</th>\n",
       "    </tr>\n",
       "  </thead>\n",
       "  <tbody>\n",
       "    <tr>\n",
       "      <th>0</th>\n",
       "      <td>TRZKPL</td>\n",
       "      <td>만18-34세</td>\n",
       "      <td>NaN</td>\n",
       "      <td>IVF</td>\n",
       "      <td>ICSI</td>\n",
       "      <td>1</td>\n",
       "      <td>기록되지 않은 시행</td>\n",
       "      <td>0.0</td>\n",
       "      <td>NaN</td>\n",
       "      <td>0.0</td>\n",
       "      <td>...</td>\n",
       "      <td>0.0</td>\n",
       "      <td>0.0</td>\n",
       "      <td>NaN</td>\n",
       "      <td>NaN</td>\n",
       "      <td>0.0</td>\n",
       "      <td>NaN</td>\n",
       "      <td>0.0</td>\n",
       "      <td>3.0</td>\n",
       "      <td>NaN</td>\n",
       "      <td>0</td>\n",
       "    </tr>\n",
       "    <tr>\n",
       "      <th>1</th>\n",
       "      <td>TRYBLT</td>\n",
       "      <td>만45-50세</td>\n",
       "      <td>NaN</td>\n",
       "      <td>IVF</td>\n",
       "      <td>ICSI</td>\n",
       "      <td>0</td>\n",
       "      <td>알 수 없음</td>\n",
       "      <td>0.0</td>\n",
       "      <td>NaN</td>\n",
       "      <td>0.0</td>\n",
       "      <td>...</td>\n",
       "      <td>0.0</td>\n",
       "      <td>0.0</td>\n",
       "      <td>NaN</td>\n",
       "      <td>NaN</td>\n",
       "      <td>0.0</td>\n",
       "      <td>NaN</td>\n",
       "      <td>0.0</td>\n",
       "      <td>NaN</td>\n",
       "      <td>NaN</td>\n",
       "      <td>0</td>\n",
       "    </tr>\n",
       "    <tr>\n",
       "      <th>2</th>\n",
       "      <td>TRVNRY</td>\n",
       "      <td>만18-34세</td>\n",
       "      <td>NaN</td>\n",
       "      <td>IVF</td>\n",
       "      <td>IVF</td>\n",
       "      <td>1</td>\n",
       "      <td>기록되지 않은 시행</td>\n",
       "      <td>0.0</td>\n",
       "      <td>NaN</td>\n",
       "      <td>0.0</td>\n",
       "      <td>...</td>\n",
       "      <td>0.0</td>\n",
       "      <td>0.0</td>\n",
       "      <td>NaN</td>\n",
       "      <td>NaN</td>\n",
       "      <td>0.0</td>\n",
       "      <td>NaN</td>\n",
       "      <td>0.0</td>\n",
       "      <td>2.0</td>\n",
       "      <td>NaN</td>\n",
       "      <td>0</td>\n",
       "    </tr>\n",
       "    <tr>\n",
       "      <th>3</th>\n",
       "      <td>TRJXFG</td>\n",
       "      <td>만35-37세</td>\n",
       "      <td>NaN</td>\n",
       "      <td>IVF</td>\n",
       "      <td>ICSI</td>\n",
       "      <td>1</td>\n",
       "      <td>기록되지 않은 시행</td>\n",
       "      <td>0.0</td>\n",
       "      <td>NaN</td>\n",
       "      <td>0.0</td>\n",
       "      <td>...</td>\n",
       "      <td>0.0</td>\n",
       "      <td>0.0</td>\n",
       "      <td>NaN</td>\n",
       "      <td>NaN</td>\n",
       "      <td>0.0</td>\n",
       "      <td>NaN</td>\n",
       "      <td>0.0</td>\n",
       "      <td>NaN</td>\n",
       "      <td>NaN</td>\n",
       "      <td>0</td>\n",
       "    </tr>\n",
       "    <tr>\n",
       "      <th>4</th>\n",
       "      <td>TRVNRY</td>\n",
       "      <td>만18-34세</td>\n",
       "      <td>NaN</td>\n",
       "      <td>IVF</td>\n",
       "      <td>ICSI</td>\n",
       "      <td>1</td>\n",
       "      <td>기록되지 않은 시행</td>\n",
       "      <td>0.0</td>\n",
       "      <td>NaN</td>\n",
       "      <td>0.0</td>\n",
       "      <td>...</td>\n",
       "      <td>0.0</td>\n",
       "      <td>0.0</td>\n",
       "      <td>NaN</td>\n",
       "      <td>NaN</td>\n",
       "      <td>0.0</td>\n",
       "      <td>NaN</td>\n",
       "      <td>0.0</td>\n",
       "      <td>3.0</td>\n",
       "      <td>NaN</td>\n",
       "      <td>0</td>\n",
       "    </tr>\n",
       "  </tbody>\n",
       "</table>\n",
       "<p>5 rows × 68 columns</p>\n",
       "</div>"
      ],
      "text/plain": [
       "  시술 시기 코드 시술 당시 나이  임신 시도 또는 마지막 임신 경과 연수 시술 유형 특정 시술 유형  배란 자극 여부  \\\n",
       "0   TRZKPL  만18-34세                    NaN   IVF     ICSI         1   \n",
       "1   TRYBLT  만45-50세                    NaN   IVF     ICSI         0   \n",
       "2   TRVNRY  만18-34세                    NaN   IVF      IVF         1   \n",
       "3   TRJXFG  만35-37세                    NaN   IVF     ICSI         1   \n",
       "4   TRVNRY  만18-34세                    NaN   IVF     ICSI         1   \n",
       "\n",
       "     배란 유도 유형  단일 배아 이식 여부  착상 전 유전 검사 사용 여부  착상 전 유전 진단 사용 여부  ...  \\\n",
       "0  기록되지 않은 시행          0.0               NaN               0.0  ...   \n",
       "1      알 수 없음          0.0               NaN               0.0  ...   \n",
       "2  기록되지 않은 시행          0.0               NaN               0.0  ...   \n",
       "3  기록되지 않은 시행          0.0               NaN               0.0  ...   \n",
       "4  기록되지 않은 시행          0.0               NaN               0.0  ...   \n",
       "\n",
       "   기증 배아 사용 여부  대리모 여부  PGD 시술 여부  PGS 시술 여부  난자 채취 경과일  난자 해동 경과일  난자 혼합 경과일  \\\n",
       "0          0.0     0.0        NaN        NaN        0.0        NaN        0.0   \n",
       "1          0.0     0.0        NaN        NaN        0.0        NaN        0.0   \n",
       "2          0.0     0.0        NaN        NaN        0.0        NaN        0.0   \n",
       "3          0.0     0.0        NaN        NaN        0.0        NaN        0.0   \n",
       "4          0.0     0.0        NaN        NaN        0.0        NaN        0.0   \n",
       "\n",
       "   배아 이식 경과일  배아 해동 경과일  임신 성공 여부  \n",
       "0        3.0        NaN         0  \n",
       "1        NaN        NaN         0  \n",
       "2        2.0        NaN         0  \n",
       "3        NaN        NaN         0  \n",
       "4        3.0        NaN         0  \n",
       "\n",
       "[5 rows x 68 columns]"
      ]
     },
     "execution_count": 57,
     "metadata": {},
     "output_type": "execute_result"
    }
   ],
   "source": [
    "train.head()"
   ]
  },
  {
   "cell_type": "code",
   "execution_count": 58,
   "metadata": {
    "colab": {
     "base_uri": "https://localhost:8080/",
     "height": 178
    },
    "id": "x7kj8pMWSpd9",
    "outputId": "11cdbca0-3097-42aa-dd4e-52d7070ff5c9"
   },
   "outputs": [
    {
     "data": {
      "text/plain": [
       "임신 성공 여부\n",
       "0    190123\n",
       "1     66228\n",
       "Name: count, dtype: int64"
      ]
     },
     "execution_count": 58,
     "metadata": {},
     "output_type": "execute_result"
    }
   ],
   "source": [
    "train['임신 성공 여부'].value_counts()"
   ]
  },
  {
   "cell_type": "code",
   "execution_count": 59,
   "metadata": {
    "colab": {
     "base_uri": "https://localhost:8080/",
     "height": 335
    },
    "id": "EsL6VCeI_Q4D",
    "outputId": "32bd81c0-f1bf-4f45-8b2a-54bf8e66c1d1"
   },
   "outputs": [
    {
     "data": {
      "text/plain": [
       "시술 당시 나이\n",
       "만18-34세    102476\n",
       "만35-37세     57780\n",
       "만38-39세     39247\n",
       "만40-42세     37348\n",
       "만43-44세     12253\n",
       "만45-50세      6918\n",
       "알 수 없음        329\n",
       "Name: count, dtype: int64"
      ]
     },
     "execution_count": 59,
     "metadata": {},
     "output_type": "execute_result"
    }
   ],
   "source": [
    "# train['시술 당시 나이'] = train['시술 당시 나이'].replace('알 수 없음','만35-37세')\n",
    "# test['시술 당시 나이'] = test['시술 당시 나이'].replace('알 수 없음','만35-37세')\n",
    "\n",
    "train['시술 당시 나이'].value_counts()"
   ]
  },
  {
   "cell_type": "code",
   "execution_count": 60,
   "metadata": {
    "colab": {
     "base_uri": "https://localhost:8080/"
    },
    "id": "4xu4wqTwWgEO",
    "outputId": "8b21d1a6-d5ee-46ea-ab34-c6c2ec30bb19"
   },
   "outputs": [
    {
     "data": {
      "text/plain": [
       "((256351, 66), (90067, 65))"
      ]
     },
     "execution_count": 60,
     "metadata": {},
     "output_type": "execute_result"
    }
   ],
   "source": [
    "# drop_columns = ['착상 전 유전 검사 사용 여부',\n",
    "#                 'PGD 시술 여부', 'PGS 시술 여부', '난자 해동 경과일'] + ['배란 유도 유형', '불임 원인 - 자궁경부 문제', '불임 원인 - 정자 면역학적 요인','불임 원인 - 정자 운동성', '불임 원인 - 정자 형태']#\n",
    "drop_columns = ['난자 해동 경과일', '배란 유도 유형']\n",
    "train.drop(columns=drop_columns, inplace=True)\n",
    "test.drop(columns=drop_columns, inplace=True)\n",
    "\n",
    "train.shape, test.shape"
   ]
  },
  {
   "cell_type": "code",
   "execution_count": 61,
   "metadata": {
    "id": "q5k1E_a8a6LH"
   },
   "outputs": [],
   "source": [
    "nan_col_list = ['착상 전 유전 검사 사용 여부','PGD 시술 여부', 'PGS 시술 여부']\n",
    "for col in nan_col_list:\n",
    "    train[col] = train[col].fillna(0)\n",
    "    test[col] = test[col].fillna(0)"
   ]
  },
  {
   "cell_type": "code",
   "execution_count": 62,
   "metadata": {
    "colab": {
     "base_uri": "https://localhost:8080/"
    },
    "id": "_Q-1vJvMZVdO",
    "outputId": "c00dc096-9bb5-4d60-f38f-4908c4f8c858"
   },
   "outputs": [],
   "source": [
    "drop_columns2 = []\n",
    "for col in train.columns:\n",
    "    if len(train[col].value_counts()) == 1:\n",
    "        drop_columns2.append(col)"
   ]
  },
  {
   "cell_type": "code",
   "execution_count": 63,
   "metadata": {
    "colab": {
     "base_uri": "https://localhost:8080/"
    },
    "id": "Eb_P6B2RarRm",
    "outputId": "8648f15e-8a85-49bb-fb00-a83582492051"
   },
   "outputs": [
    {
     "name": "stdout",
     "output_type": "stream",
     "text": [
      "['불임 원인 - 여성 요인', '난자 채취 경과일']\n"
     ]
    },
    {
     "data": {
      "text/plain": [
       "((256351, 64), (90067, 63))"
      ]
     },
     "execution_count": 63,
     "metadata": {},
     "output_type": "execute_result"
    }
   ],
   "source": [
    "print(drop_columns2)\n",
    "train.drop(columns=drop_columns2, inplace=True)\n",
    "test.drop(columns=drop_columns2, inplace=True)\n",
    "\n",
    "train.shape, test.shape"
   ]
  },
  {
   "cell_type": "code",
   "execution_count": 64,
   "metadata": {
    "id": "YjAuM-pa6Ewz"
   },
   "outputs": [],
   "source": [
    "cat_to_int_dict = {'6회 이상' : 6, '5회' : 5, '4회' : 4, '3회' : 3, '2회' : 2, '1회' : 1, '0회' : 0}\n",
    "\n",
    "cat_to_int_columns = ['총 시술 횟수', '클리닉 내 총 시술 횟수', 'IVF 시술 횟수','DI 시술 횟수', 'DI 임신 횟수' ,'DI 출산 횟수',\n",
    "                      '총 임신 횟수', 'IVF 임신 횟수', '총 출산 횟수', 'IVF 출산 횟수'] #\n",
    "for col in cat_to_int_columns:\n",
    "    train[col] = train[col].map(cat_to_int_dict)\n",
    "    test[col] = test[col].map(cat_to_int_dict)"
   ]
  },
  {
   "cell_type": "code",
   "execution_count": 65,
   "metadata": {
    "id": "f-mBaoLO4ffA"
   },
   "outputs": [],
   "source": [
    "procedure_encoding_dict = {'ICSI' : 'ICSI', 'IVF' : 'IVF', 'Unknown' : 'Unknown','IUI' : 'IUI',\n",
    "                           'ICSI:ICSI' : 'ICSI', 'ICSI / BLASTOCYST ' : 'ICSI / BLASTOCYST',\n",
    "                           'IVF / BLASTOCYST' : 'IVF / BLASTOCYST','IVF:IVF' : 'IVF','ICSI:IVF' : 'ICSI:IVF',\n",
    "                           'ICSI / AH' : 'ICSI / AH','IVF:ICSI' : 'ICSI:IVF', 'IVF / AH' : 'IVF / AH',\n",
    "                           'ICSI:Unknown' : 'ICSI', 'IVF:Unknown' : 'IVF', 'ICI' : 'ICI','Generic DI' : 'Generic DI',\n",
    "                           'IVI' : 'IVI','ICSI / BLASTOCYST:IVF / BLASTOCYST' : 'ICSI / BLASTOCYST:IVF / BLASTOCYST',\n",
    "                           'ICSI / BLASTOCYST :IVF / BLASTOCYST': 'ICSI / BLASTOCYST:IVF / BLASTOCYST','FER' : 'FER',\n",
    "                           'IVF / AH:ICSI / AH' : 'IVF / AH:ICSI / AH','GIFT':'GIFT','ICSI / AH:Unknown' : 'ICSI / AH',\n",
    "                           'ICSI / BLASTOCYST :ICSI' : 'ICSI / BLASTOCYST', 'IUI:ICI' : 'IUI:ICI',\n",
    "                           'IVF:Unknown:Unknown:Unknown' : 'IVF'}\n",
    "\n",
    "train['특정 시술 유형'] = train['특정 시술 유형'].map(procedure_encoding_dict)\n",
    "test['특정 시술 유형'] = test['특정 시술 유형'].map(procedure_encoding_dict)"
   ]
  },
  {
   "cell_type": "code",
   "execution_count": 66,
   "metadata": {
    "id": "UEU77iWib0U_"
   },
   "outputs": [],
   "source": [
    "train['불임 원인 - 정자 요인'] = train['불임 원인 - 정자 면역학적 요인'] + train['불임 원인 - 정자 운동성'] + train['불임 원인 - 정자 농도']  + train['불임 원인 - 정자 형태']\n",
    "test['불임 원인 - 정자 요인'] = test['불임 원인 - 정자 면역학적 요인'] + test['불임 원인 - 정자 운동성'] + test['불임 원인 - 정자 농도'] + test['불임 원인 - 정자 형태']\n",
    "train['불임 원인 - 여성 요인'] = train['불임 원인 - 자궁경부 문제'] + train['불임 원인 - 자궁내막증'] + train['불임 원인 - 배란 장애'] + train['불임 원인 - 난관 질환']\n",
    "test['불임 원인 - 여성 요인'] = test['불임 원인 - 자궁경부 문제'] + test['불임 원인 - 자궁내막증'] + test['불임 원인 - 배란 장애'] + test['불임 원인 - 난관 질환']\n",
    "\n",
    "train['남성 불임 원인'] = train['남성 주 불임 원인'] + train['남성 부 불임 원인']\n",
    "test['남성 불임 원인'] = test['남성 주 불임 원인'] + test['남성 부 불임 원인']\n",
    "train['여성 불임 원인'] = train['여성 주 불임 원인'] + train['여성 부 불임 원인']\n",
    "test['여성 불임 원인'] = test['여성 주 불임 원인'] + test['여성 부 불임 원인']\n",
    "train['부부 불임 원인'] = train['부부 주 불임 원인'] + train['부부 부 불임 원인']\n",
    "test['부부 불임 원인'] = test['부부 주 불임 원인'] + test['부부 부 불임 원인']\n",
    "\n",
    "\n",
    "drop_columns3 = ['불임 원인 - 정자 면역학적 요인', '불임 원인 - 정자 운동성', '불임 원인 - 정자 형태', '불임 원인 - 자궁경부 문제',\n",
    "                 '남성 주 불임 원인', '남성 부 불임 원인', '여성 주 불임 원인', '여성 부 불임 원인',\n",
    "                 '부부 주 불임 원인', '부부 부 불임 원인']\n",
    "train.drop(columns=drop_columns3, inplace=True)\n",
    "test.drop(columns=drop_columns3, inplace=True)"
   ]
  },
  {
   "cell_type": "code",
   "execution_count": 67,
   "metadata": {
    "colab": {
     "base_uri": "https://localhost:8080/"
    },
    "id": "kjEBmjSkbL5j",
    "outputId": "b3db516d-031e-42fc-89bb-a3218d8bd879"
   },
   "outputs": [
    {
     "data": {
      "text/plain": [
       "Index(['시술 시기 코드', '시술 당시 나이', '임신 시도 또는 마지막 임신 경과 연수', '시술 유형', '특정 시술 유형',\n",
       "       '배란 자극 여부', '단일 배아 이식 여부', '착상 전 유전 검사 사용 여부', '착상 전 유전 진단 사용 여부',\n",
       "       '불명확 불임 원인', '불임 원인 - 난관 질환', '불임 원인 - 남성 요인', '불임 원인 - 배란 장애',\n",
       "       '불임 원인 - 자궁내막증', '불임 원인 - 정자 농도', '배아 생성 주요 이유', '총 시술 횟수',\n",
       "       '클리닉 내 총 시술 횟수', 'IVF 시술 횟수', 'DI 시술 횟수', '총 임신 횟수', 'IVF 임신 횟수',\n",
       "       'DI 임신 횟수', '총 출산 횟수', 'IVF 출산 횟수', 'DI 출산 횟수', '총 생성 배아 수',\n",
       "       '미세주입된 난자 수', '미세주입에서 생성된 배아 수', '이식된 배아 수', '미세주입 배아 이식 수', '저장된 배아 수',\n",
       "       '미세주입 후 저장된 배아 수', '해동된 배아 수', '해동 난자 수', '수집된 신선 난자 수', '저장된 신선 난자 수',\n",
       "       '혼합된 난자 수', '파트너 정자와 혼합된 난자 수', '기증자 정자와 혼합된 난자 수', '난자 출처', '정자 출처',\n",
       "       '난자 기증자 나이', '정자 기증자 나이', '동결 배아 사용 여부', '신선 배아 사용 여부', '기증 배아 사용 여부',\n",
       "       '대리모 여부', 'PGD 시술 여부', 'PGS 시술 여부', '난자 혼합 경과일', '배아 이식 경과일',\n",
       "       '배아 해동 경과일', '임신 성공 여부', '불임 원인 - 정자 요인', '불임 원인 - 여성 요인', '남성 불임 원인',\n",
       "       '여성 불임 원인', '부부 불임 원인'],\n",
       "      dtype='object')"
      ]
     },
     "execution_count": 67,
     "metadata": {},
     "output_type": "execute_result"
    }
   ],
   "source": [
    "train.columns"
   ]
  },
  {
   "cell_type": "code",
   "execution_count": 68,
   "metadata": {
    "id": "64dAkKrBayFA"
   },
   "outputs": [],
   "source": [
    "# categorical_columns = [\"시술 시기 코드\",\"시술 당시 나이\", \"시술 유형\", \"특정 시술 유형\",\"배란 자극 여부\",\n",
    "                      #  \"단일 배아 이식 여부\",\"착상 전 유전 진단 사용 여부\",\n",
    "                      #  \"남성 주 불임 원인\",\"남성 부 불임 원인\",\"여성 주 불임 원인\",\"여성 부 불임 원인\",\n",
    "                      #  \"부부 주 불임 원인\",\"부부 부 불임 원인\",\"불명확 불임 원인\",\"불임 원인 - 난관 질환\",\n",
    "                      #  \"불임 원인 - 남성 요인\",\"불임 원인 - 배란 장애\",\"불임 원인 - 자궁경부 문제\",\"불임 원인 - 자궁내막증\",\n",
    "                      #  \"불임 원인 - 정자 농도\",\"불임 원인 - 정자 면역학적 요인\",\"불임 원인 - 정자 운동성\",\"불임 원인 - 정자 형태\",\n",
    "                      #  \"배아 생성 주요 이유\",\"총 시술 횟수\",\"클리닉 내 총 시술 횟수\",\"IVF 시술 횟수\",\"DI 시술 횟수\",\n",
    "                      #  \"총 임신 횟수\",\"IVF 임신 횟수\",\"DI 임신 횟수\",\"총 출산 횟수\",\"IVF 출산 횟수\",\"DI 출산 횟수\",\n",
    "                      #  \"난자 출처\",\"정자 출처\",\"난자 기증자 나이\",\"정자 기증자 나이\",\n",
    "                      #  \"동결 배아 사용 여부\",\"신선 배아 사용 여부\",\"기증 배아 사용 여부\",\"대리모 여부\"]\n",
    "categorical_columns =  [\"시술 시기 코드\",\"시술 당시 나이\",\"시술 유형\", \"특정 시술 유형\",\n",
    "                        \"배란 자극 여부\", \"단일 배아 이식 여부\", '착상 전 유전 검사 사용 여부',\"착상 전 유전 진단 사용 여부\",\n",
    "                       \"불명확 불임 원인\",\"배아 생성 주요 이유\",\n",
    "                        \"불임 원인 - 난관 질환\",\"불임 원인 - 남성 요인\",\"불임 원인 - 배란 장애\",\n",
    "                        \"불임 원인 - 자궁내막증\",'불임 원인 - 정자 농도',\"난자 출처\",\"정자 출처\",\"난자 기증자 나이\",\"정자 기증자 나이\",\n",
    "                       \"동결 배아 사용 여부\",\"신선 배아 사용 여부\", '기증 배아 사용 여부',\"대리모 여부\",\n",
    "                        'PGD 시술 여부', 'PGS 시술 여부', '불임 원인 - 정자 요인', '불임 원인 - 여성 요인',  '남성 불임 원인', '여성 불임 원인', '부부 불임 원인'] #\n",
    "# \"남성 주 불임 원인\",\"남성 부 불임 원인\",\"여성 주 불임 원인\",\"여성 부 불임 원인\",\n",
    "#                       \"부부 주 불임 원인\",\"부부 부 불임 원인\",\n",
    "\n",
    "for col in categorical_columns:\n",
    "    if train[col].isna().sum() > 0 or test[col].isna().sum() > 0 :\n",
    "\n",
    "      mode_value = train[col].mode()[0]\n",
    "      train[col].fillna(mode_value, inplace=True)  # 최빈값으로 대체\n",
    "      test[col].fillna(mode_value, inplace = True)\n",
    "    train[col] = train[col].astype(str)\n",
    "    test[col] = test[col].astype(str)\n",
    "    #encoder = ce.OrdinalEncoder(handle_unknown='impute')\n",
    "    #encoder.fit(train[col])\n",
    "    #train[col] = encoder.transform(train[col])\n",
    "    #test[col] = encoder.transform(test[col])\n",
    "\n",
    "numeric_columns = [ '임신 시도 또는 마지막 임신 경과 연수',\"총 시술 횟수\",\"클리닉 내 총 시술 횟수\",\"IVF 시술 횟수\",\"DI 시술 횟수\",\n",
    "                   \"총 임신 횟수\",\"IVF 임신 횟수\",\"DI 임신 횟수\",\"총 출산 횟수\",\"IVF 출산 횟수\",\"DI 출산 횟수\",\n",
    "                    '총 생성 배아 수','미세주입된 난자 수', '미세주입에서 생성된 배아 수', '이식된 배아 수', '미세주입 배아 이식 수', '저장된 배아 수',\n",
    "       '미세주입 후 저장된 배아 수', '해동된 배아 수', '해동 난자 수', '수집된 신선 난자 수', '저장된 신선 난자 수',\n",
    "       '혼합된 난자 수', '파트너 정자와 혼합된 난자 수', '기증자 정자와 혼합된 난자 수', '난자 혼합 경과일', '배아 이식 경과일', '배아 해동 경과일'] #\n",
    "\n",
    "# numeric_columns = [\"총 생성 배아 수\",\"미세주입된 난자 수\",\"미세주입에서 생성된 배아 수\",\n",
    "#                    \"이식된 배아 수\",\"미세주입 배아 이식 수\",\"저장된 배아 수\",\"미세주입 후 저장된 배아 수\",\n",
    "#                    \"수집된 신선 난자 수\",\"혼합된 난자 수\",\"파트너 정자와 혼합된 난자 수\",\n",
    "#                    \"기증자 정자와 혼합된 난자 수\",\"배아 이식 경과일\"]\n",
    "\n",
    "for col in numeric_columns:\n",
    "  if train[col].isna().sum():\n",
    "    if train[col].isna().sum() >= len(train)*0.5: # 결측치가 절반이 넘어갈 경우\n",
    "      train[col].fillna(-1, inplace=True)  # -1로 대체\n",
    "      test[col].fillna(-1, inplace = True)\n",
    "    else:\n",
    "      mode_value = train[col].mode()[0]  # 최빈값 구하기\n",
    "      train[col].fillna(mode_value, inplace=True)  # 최빈값으로 대체\n",
    "      test[col].fillna(mode_value, inplace = True)\n"
   ]
  },
  {
   "cell_type": "code",
   "execution_count": 69,
   "metadata": {
    "colab": {
     "base_uri": "https://localhost:8080/"
    },
    "id": "rrQrzq0H_QfV",
    "outputId": "255208d3-85ca-4d21-d9d0-eb8dccc27e6d"
   },
   "outputs": [
    {
     "data": {
      "text/plain": [
       "58"
      ]
     },
     "execution_count": 69,
     "metadata": {},
     "output_type": "execute_result"
    }
   ],
   "source": [
    "len(categorical_columns) + len(numeric_columns)"
   ]
  },
  {
   "cell_type": "code",
   "execution_count": null,
   "metadata": {
    "id": "CI8IOlCFVXGY"
   },
   "outputs": [],
   "source": [
    "def make_feature(df):\n",
    "  #df['연령 가중치'] = df['시술 당시 나이'].map(age_weight_dict)\n",
    "\n",
    "  #df['난자 활용률'] = df['미세주입된 난자 수'] / (df['수집된 신선 난자 수'] + df['해동 난자 수'] + 1)\n",
    "  df['미세주입 배아 생성률'] = (df['미세주입에서 생성된 배아 수']) / (df['미세주입된 난자 수'] + 1)\n",
    "  df['미세주입 배아 이식률'] = (df['미세주입 배아 이식 수']) / (df['미세주입에서 생성된 배아 수'] + 1)\n",
    "  df['배아 이식률'] = (df['이식된 배아 수']) / (df['총 생성 배아 수'] + 1)\n",
    "  df['저장 배아 비율'] = (df['저장된 배아 수'])/ (df['총 생성 배아 수'] + 1)\n",
    "  df['해동 배아 생존율'] = (df['해동된 배아 수'])/ (df['총 생성 배아 수'] + 1)\n",
    "  df['파트너 정자 혼합 비율'] = (df['파트너 정자와 혼합된 난자 수']) / (df['혼합된 난자 수'] + 1)\n",
    "\n",
    "  # df['저장 배아 비율2'] = (df['저장된 배아 수'])/ (df['이식된 배아 수'] + 1)\n",
    "  # df['해동 배아 생존율2'] = (df['해동된 배아 수'])/ (df['이식된 배아 수'] + 1)\n",
    "  # df['미세주입 배아 이식 비율'] = df['미세주입 배아 이식 수'] / (df['이식된 배아 수'] + 1)\n",
    "  #df['나이보정 배아 이식 수'] = df['이식된 배아 수']*df['연령 가중치']\n",
    "\n",
    "  df['임신 성공률'] = (df['총 임신 횟수']) / (df['총 시술 횟수'] + 1)\n",
    "  #df['IVF 시술 성공률'] = (df['IVF 임신 횟수'])/ (df['IVF 시술 횟수'] + 1)\n",
    "  #df['DI 시술 성공률'] = (df['DI 임신 횟수']) / (df['DI 시술 횟수'] + 1)\n",
    "  df['출산율'] = df['총 출산 횟수'] / (df['총 임신 횟수'] + 1)\n",
    "  #df['IVF 출산율'] = df['IVF 출산 횟수'] / (df['IVF 임신 횟수'] + 1)\n",
    "  #df['DI 출산율'] = df['DI 출산 횟수'] / (df['DI 임신 횟수'] + 1)\n",
    "  #df['시술 기준 출산 성공률'] = df['총 출산 횟수'] / (df['총 시술 횟수'] + 1)\n",
    "\n",
    "  #df = df.drop(columns = ['연령 가중치'])\n",
    "\n",
    "  return df"
   ]
  },
  {
   "cell_type": "code",
   "execution_count": 71,
   "metadata": {
    "colab": {
     "base_uri": "https://localhost:8080/"
    },
    "id": "_VNPbGSR4h_I",
    "outputId": "44e7b9c5-1948-417e-b02a-64267fb91fae"
   },
   "outputs": [
    {
     "data": {
      "text/plain": [
       "((256351, 66), (90067, 66))"
      ]
     },
     "execution_count": 71,
     "metadata": {},
     "output_type": "execute_result"
    }
   ],
   "source": [
    "X = train.drop('임신 성공 여부', axis=1)\n",
    "y = train['임신 성공 여부']\n",
    "\n",
    "X = make_feature(X)\n",
    "test = make_feature(test)\n",
    "\n",
    "X.shape, test.shape"
   ]
  },
  {
   "cell_type": "code",
   "execution_count": 72,
   "metadata": {
    "colab": {
     "base_uri": "https://localhost:8080/",
     "height": 178
    },
    "id": "1WNQj2e8ukWK",
    "outputId": "039cab20-93c0-4ab4-f8a6-8098c62dc87f"
   },
   "outputs": [
    {
     "data": {
      "text/plain": [
       "임신 성공 여부\n",
       "0    190123\n",
       "1     66228\n",
       "Name: count, dtype: int64"
      ]
     },
     "execution_count": 72,
     "metadata": {},
     "output_type": "execute_result"
    }
   ],
   "source": [
    "y.value_counts()"
   ]
  },
  {
   "cell_type": "code",
   "execution_count": 73,
   "metadata": {},
   "outputs": [],
   "source": [
    "if not os.path.exists('./weight'):\n",
    "    os.makedirs('./weight')"
   ]
  },
  {
   "cell_type": "code",
   "execution_count": 74,
   "metadata": {
    "id": "nsRZfmFixgqm"
   },
   "outputs": [],
   "source": [
    "from sklearn.utils.class_weight import compute_class_weight\n",
    "def objective_cat(trial):\n",
    "    global best_val_auc\n",
    "    cbrm_param = {\n",
    "        'iterations':trial.suggest_int(\"iterations\", 1000, 3000),\n",
    "        'depth':trial.suggest_int(\"depth\", 4, 10),\n",
    "        'learning_rate' : trial.suggest_float('learning_rate',0.005, 0.1),\n",
    "        'l2_leaf_reg': trial.suggest_float(\"l2_leaf_reg\", 1e-4, 100.0, log=True)\n",
    "    }\n",
    "\n",
    "    # Generate model\n",
    "    model_cat = CatBoostClassifier(**cbrm_param, auto_class_weights='Balanced', eval_metric='AUC', random_state=seed, task_type=\"CPU\")\n",
    "    model_cat.fit(X_train,\n",
    "          y_train,\n",
    "          cat_features=categorical_columns,\n",
    "          early_stopping_rounds= 300,\n",
    "          eval_set=[(X_val,y_val)],\n",
    "          verbose = 300)\n",
    "    \n",
    "    val_auc = model_cat.get_best_score()[\"validation\"][\"AUC\"]\n",
    "    best_model_path = \"./weight/cat_fold_cpu{}.cbm\".format(idx)\n",
    "    if val_auc > best_val_auc:\n",
    "        best_val_auc = val_auc\n",
    "        model_cat.save_model(best_model_path)\n",
    "        print('저장 완료')\n",
    "\n",
    "    return val_auc\n",
    "\n",
    "def objective_lgbm(trial):\n",
    "\n",
    "    lgbm_params = {\n",
    "         #'num_leaves': trial.suggest_int('num_leaves', 2, 1024, step=1),\n",
    "         #'max_depth': trial.suggest_int('max_depth', 3, 18, step=1),\n",
    "        \"objective\":  trial.suggest_categorical(\"objective\", [\"binary\"]),\n",
    "         \"metric\":  trial.suggest_categorical(\"metric\", [\"auc\"]),\n",
    "         \"random_state\":  trial.suggest_int('random_state', 42, 42),\n",
    "        \"verbose\":  trial.suggest_int('verbose', -1, -1),\n",
    "        'learning_rate': trial.suggest_float('learning_rate', 0.005, 0.1, log=True),\n",
    "        'n_estimators': trial.suggest_int('n_estimators', 100, 2000),\n",
    "        'min_child_samples': trial.suggest_int('min_child_samples', 10, 50, step=5, log=False),\n",
    "        'subsample': trial.suggest_float('subsample', 0.5, 1.0, step=0.1, log=False),\n",
    "        'colsample_bytree': trial.suggest_float('colsample_bytree', 0.5, 1.0, step=0.1, log=False),\n",
    "    }\n",
    "\n",
    "    # Generate model\n",
    "\n",
    "    class_weights = compute_class_weight(class_weight=\"balanced\", classes=np.unique(y), y=y_train)\n",
    "    class_weight_dict = {i: w for i, w in enumerate(class_weights)}\n",
    "\n",
    "    model_lgbm = lgb.LGBMClassifier(**lgbm_params, class_weight=class_weight_dict)\n",
    "\n",
    "    model_lgbm.fit(X_train, y_train,eval_set=[(X_val, y_val)],categorical_feature=categorical_columns)\n",
    "\n",
    "    return model_lgbm.best_score_['valid_0']['auc']"
   ]
  },
  {
   "cell_type": "code",
   "execution_count": 75,
   "metadata": {
    "colab": {
     "base_uri": "https://localhost:8080/"
    },
    "id": "NsuYwQX28LzT",
    "outputId": "392153b7-08f0-4feb-9a83-6016732f894c",
    "scrolled": true,
    "tags": []
   },
   "outputs": [
    {
     "name": "stderr",
     "output_type": "stream",
     "text": [
      "[I 2025-02-19 02:59:21,990] A new study created in memory with name: no-name-9b46f25a-d4ac-49c6-90e1-72ae5b6b2508\n"
     ]
    },
    {
     "name": "stdout",
     "output_type": "stream",
     "text": [
      "Seed 42 Start!\n",
      "==================================================\n",
      "0:\ttest: 0.7260206\tbest: 0.7260206 (0)\ttotal: 129ms\tremaining: 3m 44s\n",
      "300:\ttest: 0.7401021\tbest: 0.7427849 (122)\ttotal: 41.1s\tremaining: 3m 17s\n"
     ]
    },
    {
     "name": "stderr",
     "output_type": "stream",
     "text": [
      "[I 2025-02-19 03:00:21,280] Trial 0 finished with value: 0.7427848881006336 and parameters: {'iterations': 1749, 'depth': 10, 'learning_rate': 0.07453942447208349, 'l2_leaf_reg': 0.39079671568228835}. Best is trial 0 with value: 0.7427848881006336.\n"
     ]
    },
    {
     "name": "stdout",
     "output_type": "stream",
     "text": [
      "Stopped by overfitting detector  (300 iterations wait)\n",
      "\n",
      "bestTest = 0.7427848881\n",
      "bestIteration = 122\n",
      "\n",
      "Shrink model to first 123 iterations.\n",
      "저장 완료\n",
      "0:\ttest: 0.7029065\tbest: 0.7029065 (0)\ttotal: 65.4ms\tremaining: 1m 25s\n",
      "300:\ttest: 0.7385324\tbest: 0.7385324 (300)\ttotal: 15.7s\tremaining: 52.6s\n",
      "600:\ttest: 0.7414356\tbest: 0.7414356 (600)\ttotal: 32.6s\tremaining: 38.5s\n",
      "900:\ttest: 0.7423499\tbest: 0.7423499 (900)\ttotal: 49.5s\tremaining: 22.6s\n",
      "1200:\ttest: 0.7428009\tbest: 0.7428009 (1200)\ttotal: 1m 6s\tremaining: 6.19s\n"
     ]
    },
    {
     "name": "stderr",
     "output_type": "stream",
     "text": [
      "[I 2025-02-19 03:01:35,170] Trial 1 finished with value: 0.743019372482248 and parameters: {'iterations': 1312, 'depth': 5, 'learning_rate': 0.010517943155978949, 'l2_leaf_reg': 15.741890047456648}. Best is trial 1 with value: 0.743019372482248.\n"
     ]
    },
    {
     "name": "stdout",
     "output_type": "stream",
     "text": [
      "1311:\ttest: 0.7430194\tbest: 0.7430194 (1311)\ttotal: 1m 13s\tremaining: 0us\n",
      "\n",
      "bestTest = 0.7430193725\n",
      "bestIteration = 1311\n",
      "\n",
      "저장 완료\n",
      "0:\ttest: 0.7213054\tbest: 0.7213054 (0)\ttotal: 101ms\tremaining: 3m 41s\n",
      "300:\ttest: 0.7395788\tbest: 0.7395788 (300)\ttotal: 25.3s\tremaining: 2m 39s\n",
      "600:\ttest: 0.7420182\tbest: 0.7420182 (600)\ttotal: 50s\tremaining: 2m 13s\n",
      "900:\ttest: 0.7428479\tbest: 0.7428479 (900)\ttotal: 1m 13s\tremaining: 1m 46s\n",
      "1200:\ttest: 0.7432594\tbest: 0.7432594 (1199)\ttotal: 1m 37s\tremaining: 1m 21s\n",
      "1500:\ttest: 0.7435515\tbest: 0.7435569 (1491)\ttotal: 2m 2s\tremaining: 57.1s\n",
      "1800:\ttest: 0.7437613\tbest: 0.7437613 (1800)\ttotal: 2m 25s\tremaining: 32.5s\n",
      "2100:\ttest: 0.7438928\tbest: 0.7438942 (2085)\ttotal: 2m 50s\tremaining: 8.21s\n"
     ]
    },
    {
     "name": "stderr",
     "output_type": "stream",
     "text": [
      "[I 2025-02-19 03:04:35,561] Trial 2 finished with value: 0.743920450210648 and parameters: {'iterations': 2202, 'depth': 8, 'learning_rate': 0.006955526958101232, 'l2_leaf_reg': 65.98711072054076}. Best is trial 2 with value: 0.743920450210648.\n"
     ]
    },
    {
     "name": "stdout",
     "output_type": "stream",
     "text": [
      "2201:\ttest: 0.7439203\tbest: 0.7439205 (2200)\ttotal: 3m\tremaining: 0us\n",
      "\n",
      "bestTest = 0.7439204502\n",
      "bestIteration = 2200\n",
      "\n",
      "Shrink model to first 2201 iterations.\n",
      "저장 완료\n",
      "0:\ttest: 0.7029065\tbest: 0.7029065 (0)\ttotal: 58.4ms\tremaining: 2m 35s\n",
      "300:\ttest: 0.7415936\tbest: 0.7415936 (300)\ttotal: 14.9s\tremaining: 1m 56s\n",
      "600:\ttest: 0.7428906\tbest: 0.7428906 (600)\ttotal: 30.8s\tremaining: 1m 45s\n",
      "900:\ttest: 0.7433228\tbest: 0.7433661 (816)\ttotal: 47.5s\tremaining: 1m 33s\n"
     ]
    },
    {
     "name": "stderr",
     "output_type": "stream",
     "text": [
      "[I 2025-02-19 03:05:35,461] Trial 3 finished with value: 0.743366103942534 and parameters: {'iterations': 2665, 'depth': 5, 'learning_rate': 0.02227337188467456, 'l2_leaf_reg': 0.0012601639723276807}. Best is trial 2 with value: 0.743920450210648.\n"
     ]
    },
    {
     "name": "stdout",
     "output_type": "stream",
     "text": [
      "Stopped by overfitting detector  (300 iterations wait)\n",
      "\n",
      "bestTest = 0.7433661039\n",
      "bestIteration = 816\n",
      "\n",
      "Shrink model to first 817 iterations.\n",
      "0:\ttest: 0.7077049\tbest: 0.7077049 (0)\ttotal: 77.2ms\tremaining: 2m 3s\n",
      "300:\ttest: 0.7428068\tbest: 0.7429811 (293)\ttotal: 21s\tremaining: 1m 31s\n"
     ]
    },
    {
     "name": "stderr",
     "output_type": "stream",
     "text": [
      "[I 2025-02-19 03:06:18,959] Trial 4 finished with value: 0.742981111035077 and parameters: {'iterations': 1608, 'depth': 7, 'learning_rate': 0.046034776771001, 'l2_leaf_reg': 0.005589524205217926}. Best is trial 2 with value: 0.743920450210648.\n"
     ]
    },
    {
     "name": "stdout",
     "output_type": "stream",
     "text": [
      "Stopped by overfitting detector  (300 iterations wait)\n",
      "\n",
      "bestTest = 0.742981111\n",
      "bestIteration = 293\n",
      "\n",
      "Shrink model to first 294 iterations.\n",
      "0:\ttest: 0.7007101\tbest: 0.7007101 (0)\ttotal: 49.2ms\tremaining: 1m 49s\n",
      "300:\ttest: 0.7419336\tbest: 0.7419336 (300)\ttotal: 12.5s\tremaining: 1m 19s\n",
      "600:\ttest: 0.7430233\tbest: 0.7431298 (579)\ttotal: 25.9s\tremaining: 1m 9s\n",
      "900:\ttest: 0.7429784\tbest: 0.7431352 (808)\ttotal: 39.5s\tremaining: 58s\n"
     ]
    },
    {
     "name": "stderr",
     "output_type": "stream",
     "text": [
      "[I 2025-02-19 03:07:08,457] Trial 5 finished with value: 0.7431352408186841 and parameters: {'iterations': 2224, 'depth': 4, 'learning_rate': 0.032753741610845724, 'l2_leaf_reg': 0.01578232781079559}. Best is trial 2 with value: 0.743920450210648.\n"
     ]
    },
    {
     "name": "stdout",
     "output_type": "stream",
     "text": [
      "Stopped by overfitting detector  (300 iterations wait)\n",
      "\n",
      "bestTest = 0.7431352408\n",
      "bestIteration = 808\n",
      "\n",
      "Shrink model to first 809 iterations.\n",
      "0:\ttest: 0.7235987\tbest: 0.7235987 (0)\ttotal: 102ms\tremaining: 3m 15s\n",
      "300:\ttest: 0.7431181\tbest: 0.7431543 (293)\ttotal: 28.4s\tremaining: 2m 31s\n",
      "600:\ttest: 0.7433270\tbest: 0.7433270 (600)\ttotal: 56.9s\tremaining: 2m 4s\n",
      "900:\ttest: 0.7429051\tbest: 0.7433515 (602)\ttotal: 1m 27s\tremaining: 1m 38s\n"
     ]
    },
    {
     "name": "stderr",
     "output_type": "stream",
     "text": [
      "[I 2025-02-19 03:08:36,455] Trial 6 finished with value: 0.7433514839084447 and parameters: {'iterations': 1912, 'depth': 9, 'learning_rate': 0.023969009305044177, 'l2_leaf_reg': 0.12173252504194051}. Best is trial 2 with value: 0.743920450210648.\n"
     ]
    },
    {
     "name": "stdout",
     "output_type": "stream",
     "text": [
      "Stopped by overfitting detector  (300 iterations wait)\n",
      "\n",
      "bestTest = 0.7433514839\n",
      "bestIteration = 602\n",
      "\n",
      "Shrink model to first 603 iterations.\n",
      "0:\ttest: 0.7007101\tbest: 0.7007101 (0)\ttotal: 47.2ms\tremaining: 1m 43s\n",
      "300:\ttest: 0.7432101\tbest: 0.7432184 (299)\ttotal: 13.2s\tremaining: 1m 22s\n",
      "600:\ttest: 0.7436421\tbest: 0.7436960 (559)\ttotal: 26.9s\tremaining: 1m 10s\n"
     ]
    },
    {
     "name": "stderr",
     "output_type": "stream",
     "text": [
      "[I 2025-02-19 03:09:15,374] Trial 7 finished with value: 0.7436960314961754 and parameters: {'iterations': 2185, 'depth': 4, 'learning_rate': 0.06271676093063665, 'l2_leaf_reg': 0.0010547383621352044}. Best is trial 2 with value: 0.743920450210648.\n"
     ]
    },
    {
     "name": "stdout",
     "output_type": "stream",
     "text": [
      "Stopped by overfitting detector  (300 iterations wait)\n",
      "\n",
      "bestTest = 0.7436960315\n",
      "bestIteration = 559\n",
      "\n",
      "Shrink model to first 560 iterations.\n",
      "0:\ttest: 0.7254150\tbest: 0.7254150 (0)\ttotal: 125ms\tremaining: 2m 20s\n",
      "300:\ttest: 0.7408965\tbest: 0.7428681 (71)\ttotal: 40.7s\tremaining: 1m 52s\n"
     ]
    },
    {
     "name": "stderr",
     "output_type": "stream",
     "text": [
      "[I 2025-02-19 03:10:06,697] Trial 8 finished with value: 0.7428681134983821 and parameters: {'iterations': 1130, 'depth': 10, 'learning_rate': 0.09673504314208314, 'l2_leaf_reg': 7.085721663941605}. Best is trial 2 with value: 0.743920450210648.\n"
     ]
    },
    {
     "name": "stdout",
     "output_type": "stream",
     "text": [
      "Stopped by overfitting detector  (300 iterations wait)\n",
      "\n",
      "bestTest = 0.7428681135\n",
      "bestIteration = 71\n",
      "\n",
      "Shrink model to first 72 iterations.\n",
      "0:\ttest: 0.7007101\tbest: 0.7007101 (0)\ttotal: 51ms\tremaining: 1m 21s\n",
      "300:\ttest: 0.7434893\tbest: 0.7434954 (298)\ttotal: 13.4s\tremaining: 58.2s\n",
      "600:\ttest: 0.7434263\tbest: 0.7435985 (342)\ttotal: 27.4s\tremaining: 46s\n"
     ]
    },
    {
     "name": "stderr",
     "output_type": "stream",
     "text": [
      "[I 2025-02-19 03:10:36,298] Trial 9 finished with value: 0.7435984759237858 and parameters: {'iterations': 1609, 'depth': 4, 'learning_rate': 0.07000213751865492, 'l2_leaf_reg': 0.04374364439939081}. Best is trial 2 with value: 0.743920450210648.\n"
     ]
    },
    {
     "name": "stdout",
     "output_type": "stream",
     "text": [
      "Stopped by overfitting detector  (300 iterations wait)\n",
      "\n",
      "bestTest = 0.7435984759\n",
      "bestIteration = 342\n",
      "\n",
      "Shrink model to first 343 iterations.\n",
      "0:\ttest: 0.7213478\tbest: 0.7213478 (0)\ttotal: 93.9ms\tremaining: 4m 32s\n",
      "300:\ttest: 0.7388227\tbest: 0.7388227 (300)\ttotal: 22.9s\tremaining: 3m 18s\n",
      "600:\ttest: 0.7415140\tbest: 0.7415140 (600)\ttotal: 46.2s\tremaining: 2m 57s\n",
      "900:\ttest: 0.7425758\tbest: 0.7425771 (899)\ttotal: 1m 9s\tremaining: 2m 34s\n",
      "1200:\ttest: 0.7430765\tbest: 0.7430765 (1200)\ttotal: 1m 32s\tremaining: 2m 12s\n",
      "1500:\ttest: 0.7434111\tbest: 0.7434112 (1499)\ttotal: 1m 56s\tremaining: 1m 48s\n",
      "1800:\ttest: 0.7436267\tbest: 0.7436272 (1797)\ttotal: 2m 18s\tremaining: 1m 25s\n",
      "2100:\ttest: 0.7437909\tbest: 0.7437918 (2099)\ttotal: 2m 42s\tremaining: 1m 2s\n",
      "2400:\ttest: 0.7438821\tbest: 0.7438834 (2394)\ttotal: 3m 6s\tremaining: 39.3s\n",
      "2700:\ttest: 0.7439983\tbest: 0.7439983 (2700)\ttotal: 3m 32s\tremaining: 16.3s\n"
     ]
    },
    {
     "name": "stderr",
     "output_type": "stream",
     "text": [
      "[I 2025-02-19 03:14:27,635] Trial 10 finished with value: 0.7440425326571736 and parameters: {'iterations': 2908, 'depth': 8, 'learning_rate': 0.005716995335047832, 'l2_leaf_reg': 53.77119408946009}. Best is trial 10 with value: 0.7440425326571736.\n"
     ]
    },
    {
     "name": "stdout",
     "output_type": "stream",
     "text": [
      "2907:\ttest: 0.7440397\tbest: 0.7440425 (2893)\ttotal: 3m 50s\tremaining: 0us\n",
      "\n",
      "bestTest = 0.7440425327\n",
      "bestIteration = 2893\n",
      "\n",
      "Shrink model to first 2894 iterations.\n",
      "저장 완료\n",
      "0:\ttest: 0.7212877\tbest: 0.7212877 (0)\ttotal: 101ms\tremaining: 4m 55s\n",
      "300:\ttest: 0.7390725\tbest: 0.7390725 (300)\ttotal: 23.9s\tremaining: 3m 29s\n",
      "600:\ttest: 0.7417411\tbest: 0.7417412 (599)\ttotal: 47.7s\tremaining: 3m 4s\n",
      "900:\ttest: 0.7426824\tbest: 0.7426824 (900)\ttotal: 1m 13s\tremaining: 2m 45s\n",
      "1200:\ttest: 0.7431266\tbest: 0.7431274 (1198)\ttotal: 1m 38s\tremaining: 2m 21s\n",
      "1500:\ttest: 0.7434055\tbest: 0.7434055 (1500)\ttotal: 2m\tremaining: 1m 55s\n",
      "1800:\ttest: 0.7436111\tbest: 0.7436111 (1798)\ttotal: 2m 24s\tremaining: 1m 30s\n",
      "2100:\ttest: 0.7437734\tbest: 0.7437737 (2095)\ttotal: 2m 47s\tremaining: 1m 6s\n",
      "2400:\ttest: 0.7438748\tbest: 0.7438755 (2375)\ttotal: 3m 13s\tremaining: 42.7s\n",
      "2700:\ttest: 0.7439095\tbest: 0.7439095 (2700)\ttotal: 3m 39s\tremaining: 18.6s\n"
     ]
    },
    {
     "name": "stderr",
     "output_type": "stream",
     "text": [
      "[I 2025-02-19 03:18:27,742] Trial 11 finished with value: 0.743961804815493 and parameters: {'iterations': 2930, 'depth': 8, 'learning_rate': 0.006402408540446873, 'l2_leaf_reg': 83.11832707510945}. Best is trial 10 with value: 0.7440425326571736.\n"
     ]
    },
    {
     "name": "stdout",
     "output_type": "stream",
     "text": [
      "2929:\ttest: 0.7439612\tbest: 0.7439618 (2921)\ttotal: 3m 59s\tremaining: 0us\n",
      "\n",
      "bestTest = 0.7439618048\n",
      "bestIteration = 2921\n",
      "\n",
      "Shrink model to first 2922 iterations.\n",
      "0:\ttest: 0.7077047\tbest: 0.7077047 (0)\ttotal: 77ms\tremaining: 3m 46s\n",
      "300:\ttest: 0.7431377\tbest: 0.7431377 (300)\ttotal: 21.1s\tremaining: 3m 5s\n",
      "600:\ttest: 0.7437783\tbest: 0.7438105 (510)\ttotal: 44.1s\tremaining: 2m 51s\n"
     ]
    },
    {
     "name": "stderr",
     "output_type": "stream",
     "text": [
      "[I 2025-02-19 03:19:28,042] Trial 12 finished with value: 0.7438105498023043 and parameters: {'iterations': 2941, 'depth': 7, 'learning_rate': 0.04193178467290182, 'l2_leaf_reg': 1.5372567535251194}. Best is trial 10 with value: 0.7440425326571736.\n"
     ]
    },
    {
     "name": "stdout",
     "output_type": "stream",
     "text": [
      "Stopped by overfitting detector  (300 iterations wait)\n",
      "\n",
      "bestTest = 0.7438105498\n",
      "bestIteration = 510\n",
      "\n",
      "Shrink model to first 511 iterations.\n",
      "0:\ttest: 0.7213056\tbest: 0.7213056 (0)\ttotal: 88ms\tremaining: 3m 52s\n",
      "300:\ttest: 0.7401021\tbest: 0.7401021 (300)\ttotal: 22.5s\tremaining: 2m 54s\n",
      "600:\ttest: 0.7423563\tbest: 0.7423563 (600)\ttotal: 45.2s\tremaining: 2m 33s\n",
      "900:\ttest: 0.7430269\tbest: 0.7430269 (900)\ttotal: 1m 9s\tremaining: 2m 13s\n",
      "1200:\ttest: 0.7434065\tbest: 0.7434065 (1200)\ttotal: 1m 34s\tremaining: 1m 53s\n",
      "1500:\ttest: 0.7436386\tbest: 0.7436386 (1500)\ttotal: 1m 59s\tremaining: 1m 30s\n",
      "1800:\ttest: 0.7438612\tbest: 0.7438612 (1797)\ttotal: 2m 23s\tremaining: 1m 6s\n",
      "2100:\ttest: 0.7439732\tbest: 0.7439739 (2094)\ttotal: 2m 49s\tremaining: 43.4s\n",
      "2400:\ttest: 0.7440470\tbest: 0.7440476 (2395)\ttotal: 3m 15s\tremaining: 19.3s\n"
     ]
    },
    {
     "name": "stderr",
     "output_type": "stream",
     "text": [
      "[I 2025-02-19 03:23:04,509] Trial 13 finished with value: 0.7440620326537548 and parameters: {'iterations': 2638, 'depth': 8, 'learning_rate': 0.007940569964231549, 'l2_leaf_reg': 65.5477287928456}. Best is trial 13 with value: 0.7440620326537548.\n"
     ]
    },
    {
     "name": "stdout",
     "output_type": "stream",
     "text": [
      "2637:\ttest: 0.7440563\tbest: 0.7440620 (2547)\ttotal: 3m 36s\tremaining: 0us\n",
      "\n",
      "bestTest = 0.7440620327\n",
      "bestIteration = 2547\n",
      "\n",
      "Shrink model to first 2548 iterations.\n",
      "저장 완료\n",
      "0:\ttest: 0.7215048\tbest: 0.7215048 (0)\ttotal: 86.3ms\tremaining: 3m 42s\n",
      "300:\ttest: 0.7430457\tbest: 0.7430457 (300)\ttotal: 22.8s\tremaining: 2m 53s\n",
      "600:\ttest: 0.7437367\tbest: 0.7437388 (599)\ttotal: 46.9s\tremaining: 2m 34s\n",
      "900:\ttest: 0.7439590\tbest: 0.7439728 (891)\ttotal: 1m 13s\tremaining: 2m 16s\n",
      "1200:\ttest: 0.7438819\tbest: 0.7439898 (963)\ttotal: 1m 39s\tremaining: 1m 54s\n"
     ]
    },
    {
     "name": "stderr",
     "output_type": "stream",
     "text": [
      "[I 2025-02-19 03:24:50,079] Trial 14 finished with value: 0.7439897623548798 and parameters: {'iterations': 2584, 'depth': 8, 'learning_rate': 0.021820476043467027, 'l2_leaf_reg': 3.4437900071734124}. Best is trial 13 with value: 0.7440620326537548.\n"
     ]
    },
    {
     "name": "stdout",
     "output_type": "stream",
     "text": [
      "Stopped by overfitting detector  (300 iterations wait)\n",
      "\n",
      "bestTest = 0.7439897624\n",
      "bestIteration = 963\n",
      "\n",
      "Shrink model to first 964 iterations.\n",
      "0:\ttest: 0.7029389\tbest: 0.7029389 (0)\ttotal: 68.5ms\tremaining: 2m 56s\n",
      "300:\ttest: 0.7425499\tbest: 0.7425499 (300)\ttotal: 18.4s\tremaining: 2m 19s\n",
      "600:\ttest: 0.7433687\tbest: 0.7433857 (590)\ttotal: 37.3s\tremaining: 2m 2s\n",
      "900:\ttest: 0.7436268\tbest: 0.7436268 (900)\ttotal: 56.9s\tremaining: 1m 46s\n",
      "1200:\ttest: 0.7436623\tbest: 0.7436955 (1077)\ttotal: 1m 16s\tremaining: 1m 28s\n",
      "1500:\ttest: 0.7437280\tbest: 0.7437341 (1493)\ttotal: 1m 36s\tremaining: 1m 9s\n",
      "1800:\ttest: 0.7437075\tbest: 0.7437373 (1739)\ttotal: 1m 57s\tremaining: 51s\n",
      "2100:\ttest: 0.7437351\tbest: 0.7437440 (2095)\ttotal: 2m 19s\tremaining: 31.9s\n",
      "2400:\ttest: 0.7437611\tbest: 0.7437806 (2360)\ttotal: 2m 40s\tremaining: 11.9s\n"
     ]
    },
    {
     "name": "stderr",
     "output_type": "stream",
     "text": [
      "[I 2025-02-19 03:27:42,848] Trial 15 finished with value: 0.7437805672174571 and parameters: {'iterations': 2580, 'depth': 6, 'learning_rate': 0.02945133331652104, 'l2_leaf_reg': 23.599533103540818}. Best is trial 13 with value: 0.7440620326537548.\n"
     ]
    },
    {
     "name": "stdout",
     "output_type": "stream",
     "text": [
      "2579:\ttest: 0.7436857\tbest: 0.7437806 (2360)\ttotal: 2m 52s\tremaining: 0us\n",
      "\n",
      "bestTest = 0.7437805672\n",
      "bestIteration = 2360\n",
      "\n",
      "Shrink model to first 2361 iterations.\n",
      "0:\ttest: 0.7235986\tbest: 0.7235986 (0)\ttotal: 106ms\tremaining: 4m 48s\n",
      "300:\ttest: 0.7424218\tbest: 0.7424218 (300)\ttotal: 26.4s\tremaining: 3m 32s\n",
      "600:\ttest: 0.7431937\tbest: 0.7432150 (581)\ttotal: 53.4s\tremaining: 3m 9s\n",
      "900:\ttest: 0.7433472\tbest: 0.7433544 (863)\ttotal: 1m 22s\tremaining: 2m 47s\n"
     ]
    },
    {
     "name": "stderr",
     "output_type": "stream",
     "text": [
      "[I 2025-02-19 03:29:32,456] Trial 16 finished with value: 0.743354430151056 and parameters: {'iterations': 2729, 'depth': 9, 'learning_rate': 0.015196777855232777, 'l2_leaf_reg': 0.8271390033231544}. Best is trial 13 with value: 0.7440620326537548.\n"
     ]
    },
    {
     "name": "stdout",
     "output_type": "stream",
     "text": [
      "Stopped by overfitting detector  (300 iterations wait)\n",
      "\n",
      "bestTest = 0.7433544302\n",
      "bestIteration = 863\n",
      "\n",
      "Shrink model to first 864 iterations.\n",
      "0:\ttest: 0.7230093\tbest: 0.7230093 (0)\ttotal: 98.2ms\tremaining: 4m 1s\n",
      "300:\ttest: 0.7435253\tbest: 0.7435258 (299)\ttotal: 27.1s\tremaining: 3m 14s\n",
      "600:\ttest: 0.7436610\tbest: 0.7437058 (569)\ttotal: 58.7s\tremaining: 3m 1s\n",
      "900:\ttest: 0.7436090\tbest: 0.7437783 (667)\ttotal: 1m 28s\tremaining: 2m 33s\n"
     ]
    },
    {
     "name": "stderr",
     "output_type": "stream",
     "text": [
      "[I 2025-02-19 03:31:08,358] Trial 17 finished with value: 0.7437783277554184 and parameters: {'iterations': 2462, 'depth': 9, 'learning_rate': 0.03567864846396537, 'l2_leaf_reg': 15.02746182464784}. Best is trial 13 with value: 0.7440620326537548.\n"
     ]
    },
    {
     "name": "stdout",
     "output_type": "stream",
     "text": [
      "Stopped by overfitting detector  (300 iterations wait)\n",
      "\n",
      "bestTest = 0.7437783278\n",
      "bestIteration = 667\n",
      "\n",
      "Shrink model to first 668 iterations.\n",
      "0:\ttest: 0.7029006\tbest: 0.7029006 (0)\ttotal: 65.5ms\tremaining: 2m 33s\n",
      "300:\ttest: 0.7432865\tbest: 0.7432910 (298)\ttotal: 18.1s\tremaining: 2m 3s\n",
      "600:\ttest: 0.7436509\tbest: 0.7436651 (568)\ttotal: 37.3s\tremaining: 1m 48s\n",
      "900:\ttest: 0.7438257\tbest: 0.7438337 (837)\ttotal: 56.7s\tremaining: 1m 31s\n",
      "1200:\ttest: 0.7438851\tbest: 0.7438901 (990)\ttotal: 1m 16s\tremaining: 1m 12s\n",
      "1500:\ttest: 0.7439259\tbest: 0.7439346 (1468)\ttotal: 1m 35s\tremaining: 54.3s\n",
      "1800:\ttest: 0.7438749\tbest: 0.7439384 (1545)\ttotal: 1m 56s\tremaining: 35.6s\n"
     ]
    },
    {
     "name": "stderr",
     "output_type": "stream",
     "text": [
      "[I 2025-02-19 03:33:08,582] Trial 18 finished with value: 0.7439383659069572 and parameters: {'iterations': 2350, 'depth': 6, 'learning_rate': 0.05222311239303098, 'l2_leaf_reg': 98.43219242781147}. Best is trial 13 with value: 0.7440620326537548.\n"
     ]
    },
    {
     "name": "stdout",
     "output_type": "stream",
     "text": [
      "Stopped by overfitting detector  (300 iterations wait)\n",
      "\n",
      "bestTest = 0.7439383659\n",
      "bestIteration = 1545\n",
      "\n",
      "Shrink model to first 1546 iterations.\n",
      "0:\ttest: 0.7215062\tbest: 0.7215062 (0)\ttotal: 97.4ms\tremaining: 4m 50s\n",
      "300:\ttest: 0.7416545\tbest: 0.7429487 (188)\ttotal: 26.9s\tremaining: 3m 59s\n"
     ]
    },
    {
     "name": "stderr",
     "output_type": "stream",
     "text": [
      "[I 2025-02-19 03:33:53,556] Trial 19 finished with value: 0.7429486626595808 and parameters: {'iterations': 2983, 'depth': 8, 'learning_rate': 0.09179224566434406, 'l2_leaf_reg': 0.20751615353789304}. Best is trial 13 with value: 0.7440620326537548.\n",
      "[I 2025-02-19 03:33:53,563] A new study created in memory with name: no-name-d84a11c6-fb8b-435e-9161-de5e8b9b501b\n"
     ]
    },
    {
     "name": "stdout",
     "output_type": "stream",
     "text": [
      "Stopped by overfitting detector  (300 iterations wait)\n",
      "\n",
      "bestTest = 0.7429486627\n",
      "bestIteration = 188\n",
      "\n",
      "Shrink model to first 189 iterations.\n"
     ]
    },
    {
     "name": "stderr",
     "output_type": "stream",
     "text": [
      "[I 2025-02-19 03:34:13,629] Trial 0 finished with value: 0.7429013718920625 and parameters: {'objective': 'binary', 'metric': 'auc', 'random_state': 42, 'verbose': -1, 'learning_rate': 0.015355286838886862, 'n_estimators': 1907, 'min_child_samples': 40, 'subsample': 0.8, 'colsample_bytree': 0.5}. Best is trial 0 with value: 0.7429013718920625.\n",
      "[I 2025-02-19 03:34:15,720] Trial 1 finished with value: 0.7399748595767962 and parameters: {'objective': 'binary', 'metric': 'auc', 'random_state': 42, 'verbose': -1, 'learning_rate': 0.00797854234707418, 'n_estimators': 210, 'min_child_samples': 45, 'subsample': 0.8, 'colsample_bytree': 0.9}. Best is trial 0 with value: 0.7429013718920625.\n",
      "[I 2025-02-19 03:34:34,783] Trial 2 finished with value: 0.7439483759846158 and parameters: {'objective': 'binary', 'metric': 'auc', 'random_state': 42, 'verbose': -1, 'learning_rate': 0.005318033256270142, 'n_estimators': 1943, 'min_child_samples': 45, 'subsample': 0.6, 'colsample_bytree': 0.6}. Best is trial 2 with value: 0.7439483759846158.\n",
      "[I 2025-02-19 03:34:41,752] Trial 3 finished with value: 0.743863054069214 and parameters: {'objective': 'binary', 'metric': 'auc', 'random_state': 42, 'verbose': -1, 'learning_rate': 0.008661333735273127, 'n_estimators': 678, 'min_child_samples': 30, 'subsample': 0.7, 'colsample_bytree': 0.6}. Best is trial 2 with value: 0.7439483759846158.\n",
      "[I 2025-02-19 03:34:45,054] Trial 4 finished with value: 0.7439235949871278 and parameters: {'objective': 'binary', 'metric': 'auc', 'random_state': 42, 'verbose': -1, 'learning_rate': 0.03126143958203108, 'n_estimators': 365, 'min_child_samples': 20, 'subsample': 0.7, 'colsample_bytree': 0.7}. Best is trial 2 with value: 0.7439483759846158.\n",
      "[I 2025-02-19 03:34:50,269] Trial 5 finished with value: 0.7429780972909505 and parameters: {'objective': 'binary', 'metric': 'auc', 'random_state': 42, 'verbose': -1, 'learning_rate': 0.05254210669345883, 'n_estimators': 479, 'min_child_samples': 30, 'subsample': 0.8, 'colsample_bytree': 0.5}. Best is trial 2 with value: 0.7439483759846158.\n",
      "[I 2025-02-19 03:34:53,992] Trial 6 finished with value: 0.7435659004866136 and parameters: {'objective': 'binary', 'metric': 'auc', 'random_state': 42, 'verbose': -1, 'learning_rate': 0.030860579740535368, 'n_estimators': 424, 'min_child_samples': 10, 'subsample': 1.0, 'colsample_bytree': 1.0}. Best is trial 2 with value: 0.7439483759846158.\n",
      "[I 2025-02-19 03:34:59,557] Trial 7 finished with value: 0.7422668933838739 and parameters: {'objective': 'binary', 'metric': 'auc', 'random_state': 42, 'verbose': -1, 'learning_rate': 0.05632733481673016, 'n_estimators': 679, 'min_child_samples': 10, 'subsample': 0.9, 'colsample_bytree': 0.7}. Best is trial 2 with value: 0.7439483759846158.\n",
      "[I 2025-02-19 03:35:09,873] Trial 8 finished with value: 0.743910753816502 and parameters: {'objective': 'binary', 'metric': 'auc', 'random_state': 42, 'verbose': -1, 'learning_rate': 0.007206848764305203, 'n_estimators': 1041, 'min_child_samples': 10, 'subsample': 1.0, 'colsample_bytree': 0.6}. Best is trial 2 with value: 0.7439483759846158.\n",
      "[I 2025-02-19 03:35:16,310] Trial 9 finished with value: 0.7436646512328925 and parameters: {'objective': 'binary', 'metric': 'auc', 'random_state': 42, 'verbose': -1, 'learning_rate': 0.036385753170854684, 'n_estimators': 692, 'min_child_samples': 30, 'subsample': 0.8, 'colsample_bytree': 0.6}. Best is trial 2 with value: 0.7439483759846158.\n",
      "[I 2025-02-19 03:35:31,092] Trial 10 finished with value: 0.742820092126227 and parameters: {'objective': 'binary', 'metric': 'auc', 'random_state': 42, 'verbose': -1, 'learning_rate': 0.015894131971030474, 'n_estimators': 1873, 'min_child_samples': 50, 'subsample': 0.5, 'colsample_bytree': 0.8}. Best is trial 2 with value: 0.7439483759846158.\n",
      "[I 2025-02-19 03:35:44,168] Trial 11 finished with value: 0.7424430842509682 and parameters: {'objective': 'binary', 'metric': 'auc', 'random_state': 42, 'verbose': -1, 'learning_rate': 0.021111895577706766, 'n_estimators': 1629, 'min_child_samples': 20, 'subsample': 0.6, 'colsample_bytree': 0.7}. Best is trial 2 with value: 0.7439483759846158.\n",
      "[I 2025-02-19 03:35:54,631] Trial 12 finished with value: 0.7320346880916583 and parameters: {'objective': 'binary', 'metric': 'auc', 'random_state': 42, 'verbose': -1, 'learning_rate': 0.0933102191367511, 'n_estimators': 1376, 'min_child_samples': 20, 'subsample': 0.6, 'colsample_bytree': 0.8}. Best is trial 2 with value: 0.7439483759846158.\n",
      "[I 2025-02-19 03:36:04,719] Trial 13 finished with value: 0.7438700543734236 and parameters: {'objective': 'binary', 'metric': 'auc', 'random_state': 42, 'verbose': -1, 'learning_rate': 0.012973882577665569, 'n_estimators': 1189, 'min_child_samples': 40, 'subsample': 0.6, 'colsample_bytree': 0.7}. Best is trial 2 with value: 0.7439483759846158.\n",
      "[I 2025-02-19 03:36:06,163] Trial 14 finished with value: 0.7423077953314983 and parameters: {'objective': 'binary', 'metric': 'auc', 'random_state': 42, 'verbose': -1, 'learning_rate': 0.02650009799560713, 'n_estimators': 125, 'min_child_samples': 20, 'subsample': 0.5, 'colsample_bytree': 0.6}. Best is trial 2 with value: 0.7439483759846158.\n",
      "[I 2025-02-19 03:36:15,041] Trial 15 finished with value: 0.7437855146814645 and parameters: {'objective': 'binary', 'metric': 'auc', 'random_state': 42, 'verbose': -1, 'learning_rate': 0.0055292502731531116, 'n_estimators': 986, 'min_child_samples': 40, 'subsample': 0.7, 'colsample_bytree': 0.8}. Best is trial 2 with value: 0.7439483759846158.\n",
      "[I 2025-02-19 03:36:29,974] Trial 16 finished with value: 0.7394623285121025 and parameters: {'objective': 'binary', 'metric': 'auc', 'random_state': 42, 'verbose': -1, 'learning_rate': 0.044658849726746185, 'n_estimators': 1488, 'min_child_samples': 25, 'subsample': 0.7, 'colsample_bytree': 0.5}. Best is trial 2 with value: 0.7439483759846158.\n",
      "[I 2025-02-19 03:36:42,943] Trial 17 finished with value: 0.7325169864188301 and parameters: {'objective': 'binary', 'metric': 'auc', 'random_state': 42, 'verbose': -1, 'learning_rate': 0.09164845067673508, 'n_estimators': 1756, 'min_child_samples': 50, 'subsample': 0.6, 'colsample_bytree': 0.9}. Best is trial 2 with value: 0.7439483759846158.\n",
      "[I 2025-02-19 03:36:53,808] Trial 18 finished with value: 0.7439351456876073 and parameters: {'objective': 'binary', 'metric': 'auc', 'random_state': 42, 'verbose': -1, 'learning_rate': 0.01121978176524566, 'n_estimators': 1276, 'min_child_samples': 35, 'subsample': 0.5, 'colsample_bytree': 0.7}. Best is trial 2 with value: 0.7439483759846158.\n",
      "[I 2025-02-19 03:37:12,924] Trial 19 finished with value: 0.7439849578352579 and parameters: {'objective': 'binary', 'metric': 'auc', 'random_state': 42, 'verbose': -1, 'learning_rate': 0.005593066320046345, 'n_estimators': 1996, 'min_child_samples': 35, 'subsample': 0.5, 'colsample_bytree': 0.6}. Best is trial 19 with value: 0.7439849578352579.\n"
     ]
    },
    {
     "name": "stdout",
     "output_type": "stream",
     "text": [
      "Cat val score : 0.7440620326537548\n",
      "LGBM val score : 0.7439849578352579\n",
      "Ensemble val score : 0.7442756312723847\n"
     ]
    },
    {
     "name": "stderr",
     "output_type": "stream",
     "text": [
      "[I 2025-02-19 03:37:33,885] A new study created in memory with name: no-name-3f9efd52-6a51-4cdb-b00e-5c27b301b58d\n"
     ]
    },
    {
     "name": "stdout",
     "output_type": "stream",
     "text": [
      "==================================================\n",
      "0:\ttest: 0.7124965\tbest: 0.7124965 (0)\ttotal: 125ms\tremaining: 3m 38s\n",
      "300:\ttest: 0.7281013\tbest: 0.7306657 (146)\ttotal: 44.1s\tremaining: 3m 32s\n"
     ]
    },
    {
     "name": "stderr",
     "output_type": "stream",
     "text": [
      "[I 2025-02-19 03:38:40,603] Trial 0 finished with value: 0.7306657347085622 and parameters: {'iterations': 1749, 'depth': 10, 'learning_rate': 0.07453942447208349, 'l2_leaf_reg': 0.39079671568228835}. Best is trial 0 with value: 0.7306657347085622.\n"
     ]
    },
    {
     "name": "stdout",
     "output_type": "stream",
     "text": [
      "Stopped by overfitting detector  (300 iterations wait)\n",
      "\n",
      "bestTest = 0.7306657347\n",
      "bestIteration = 146\n",
      "\n",
      "Shrink model to first 147 iterations.\n",
      "저장 완료\n",
      "0:\ttest: 0.6959434\tbest: 0.6959434 (0)\ttotal: 56.3ms\tremaining: 1m 13s\n",
      "300:\ttest: 0.7270817\tbest: 0.7270817 (300)\ttotal: 16.7s\tremaining: 56s\n",
      "600:\ttest: 0.7298739\tbest: 0.7298739 (600)\ttotal: 32.9s\tremaining: 38.9s\n",
      "900:\ttest: 0.7309587\tbest: 0.7309587 (900)\ttotal: 49.1s\tremaining: 22.4s\n",
      "1200:\ttest: 0.7316179\tbest: 0.7316179 (1200)\ttotal: 1m 6s\tremaining: 6.1s\n"
     ]
    },
    {
     "name": "stderr",
     "output_type": "stream",
     "text": [
      "[I 2025-02-19 03:39:53,246] Trial 1 finished with value: 0.7319087483785077 and parameters: {'iterations': 1312, 'depth': 5, 'learning_rate': 0.010517943155978949, 'l2_leaf_reg': 15.741890047456648}. Best is trial 1 with value: 0.7319087483785077.\n"
     ]
    },
    {
     "name": "stdout",
     "output_type": "stream",
     "text": [
      "1311:\ttest: 0.7319087\tbest: 0.7319087 (1311)\ttotal: 1m 12s\tremaining: 0us\n",
      "\n",
      "bestTest = 0.7319087484\n",
      "bestIteration = 1311\n",
      "\n",
      "저장 완료\n",
      "0:\ttest: 0.7122043\tbest: 0.7122043 (0)\ttotal: 79.8ms\tremaining: 2m 55s\n",
      "300:\ttest: 0.7277428\tbest: 0.7277428 (300)\ttotal: 24.8s\tremaining: 2m 36s\n",
      "600:\ttest: 0.7302203\tbest: 0.7302203 (600)\ttotal: 49.7s\tremaining: 2m 12s\n",
      "900:\ttest: 0.7312620\tbest: 0.7312644 (899)\ttotal: 1m 14s\tremaining: 1m 46s\n",
      "1200:\ttest: 0.7317642\tbest: 0.7317652 (1197)\ttotal: 1m 37s\tremaining: 1m 21s\n",
      "1500:\ttest: 0.7320632\tbest: 0.7320658 (1495)\ttotal: 2m\tremaining: 56.4s\n",
      "1800:\ttest: 0.7322934\tbest: 0.7322937 (1799)\ttotal: 2m 23s\tremaining: 32.1s\n",
      "2100:\ttest: 0.7324368\tbest: 0.7324371 (2097)\ttotal: 2m 48s\tremaining: 8.12s\n"
     ]
    },
    {
     "name": "stderr",
     "output_type": "stream",
     "text": [
      "[I 2025-02-19 03:42:51,694] Trial 2 finished with value: 0.7324655333266944 and parameters: {'iterations': 2202, 'depth': 8, 'learning_rate': 0.006955526958101232, 'l2_leaf_reg': 65.98711072054076}. Best is trial 2 with value: 0.7324655333266944.\n"
     ]
    },
    {
     "name": "stdout",
     "output_type": "stream",
     "text": [
      "2201:\ttest: 0.7324655\tbest: 0.7324655 (2201)\ttotal: 2m 58s\tremaining: 0us\n",
      "\n",
      "bestTest = 0.7324655333\n",
      "bestIteration = 2201\n",
      "\n",
      "저장 완료\n",
      "0:\ttest: 0.6959154\tbest: 0.6959154 (0)\ttotal: 51.7ms\tremaining: 2m 17s\n",
      "300:\ttest: 0.7300602\tbest: 0.7300602 (300)\ttotal: 15.7s\tremaining: 2m 3s\n",
      "600:\ttest: 0.7316990\tbest: 0.7316990 (600)\ttotal: 32.1s\tremaining: 1m 50s\n",
      "900:\ttest: 0.7322716\tbest: 0.7323353 (833)\ttotal: 49.3s\tremaining: 1m 36s\n",
      "1200:\ttest: 0.7323773\tbest: 0.7323957 (999)\ttotal: 1m 6s\tremaining: 1m 21s\n",
      "1500:\ttest: 0.7323415\tbest: 0.7324351 (1334)\ttotal: 1m 24s\tremaining: 1m 5s\n",
      "1800:\ttest: 0.7322809\tbest: 0.7324641 (1581)\ttotal: 1m 41s\tremaining: 48.8s\n"
     ]
    },
    {
     "name": "stderr",
     "output_type": "stream",
     "text": [
      "[I 2025-02-19 03:44:38,327] Trial 3 finished with value: 0.7324641076382541 and parameters: {'iterations': 2665, 'depth': 5, 'learning_rate': 0.02227337188467456, 'l2_leaf_reg': 0.0012601639723276807}. Best is trial 2 with value: 0.7324655333266944.\n"
     ]
    },
    {
     "name": "stdout",
     "output_type": "stream",
     "text": [
      "Stopped by overfitting detector  (300 iterations wait)\n",
      "\n",
      "bestTest = 0.7324641076\n",
      "bestIteration = 1581\n",
      "\n",
      "Shrink model to first 1582 iterations.\n",
      "0:\ttest: 0.7109428\tbest: 0.7109428 (0)\ttotal: 64.6ms\tremaining: 1m 43s\n",
      "300:\ttest: 0.7315699\tbest: 0.7316028 (299)\ttotal: 22.4s\tremaining: 1m 37s\n",
      "600:\ttest: 0.7313225\tbest: 0.7317406 (356)\ttotal: 46.9s\tremaining: 1m 18s\n"
     ]
    },
    {
     "name": "stderr",
     "output_type": "stream",
     "text": [
      "[I 2025-02-19 03:45:29,762] Trial 4 finished with value: 0.7317406124531971 and parameters: {'iterations': 1608, 'depth': 7, 'learning_rate': 0.046034776771001, 'l2_leaf_reg': 0.005589524205217926}. Best is trial 2 with value: 0.7324655333266944.\n"
     ]
    },
    {
     "name": "stdout",
     "output_type": "stream",
     "text": [
      "Stopped by overfitting detector  (300 iterations wait)\n",
      "\n",
      "bestTest = 0.7317406125\n",
      "bestIteration = 356\n",
      "\n",
      "Shrink model to first 357 iterations.\n",
      "0:\ttest: 0.6901027\tbest: 0.6901027 (0)\ttotal: 44.7ms\tremaining: 1m 39s\n",
      "300:\ttest: 0.7304645\tbest: 0.7304645 (300)\ttotal: 12.8s\tremaining: 1m 21s\n",
      "600:\ttest: 0.7322525\tbest: 0.7322525 (600)\ttotal: 26.6s\tremaining: 1m 11s\n",
      "900:\ttest: 0.7327171\tbest: 0.7327243 (878)\ttotal: 40.8s\tremaining: 60s\n",
      "1200:\ttest: 0.7327210\tbest: 0.7328027 (1066)\ttotal: 55.1s\tremaining: 47s\n"
     ]
    },
    {
     "name": "stderr",
     "output_type": "stream",
     "text": [
      "[I 2025-02-19 03:46:33,020] Trial 5 finished with value: 0.7328026629731461 and parameters: {'iterations': 2224, 'depth': 4, 'learning_rate': 0.032753741610845724, 'l2_leaf_reg': 0.01578232781079559}. Best is trial 5 with value: 0.7328026629731461.\n"
     ]
    },
    {
     "name": "stdout",
     "output_type": "stream",
     "text": [
      "Stopped by overfitting detector  (300 iterations wait)\n",
      "\n",
      "bestTest = 0.732802663\n",
      "bestIteration = 1066\n",
      "\n",
      "Shrink model to first 1067 iterations.\n",
      "저장 완료\n",
      "0:\ttest: 0.7120312\tbest: 0.7120312 (0)\ttotal: 83.5ms\tremaining: 2m 39s\n",
      "300:\ttest: 0.7312977\tbest: 0.7312992 (299)\ttotal: 27.6s\tremaining: 2m 27s\n",
      "600:\ttest: 0.7318020\tbest: 0.7318289 (574)\ttotal: 56.8s\tremaining: 2m 3s\n"
     ]
    },
    {
     "name": "stderr",
     "output_type": "stream",
     "text": [
      "[I 2025-02-19 03:47:59,331] Trial 6 finished with value: 0.7318288701130795 and parameters: {'iterations': 1912, 'depth': 9, 'learning_rate': 0.023969009305044177, 'l2_leaf_reg': 0.12173252504194051}. Best is trial 5 with value: 0.7328026629731461.\n"
     ]
    },
    {
     "name": "stdout",
     "output_type": "stream",
     "text": [
      "Stopped by overfitting detector  (300 iterations wait)\n",
      "\n",
      "bestTest = 0.7318288701\n",
      "bestIteration = 574\n",
      "\n",
      "Shrink model to first 575 iterations.\n",
      "0:\ttest: 0.6901027\tbest: 0.6901027 (0)\ttotal: 46.8ms\tremaining: 1m 42s\n",
      "300:\ttest: 0.7321192\tbest: 0.7321249 (299)\ttotal: 13.9s\tremaining: 1m 27s\n",
      "600:\ttest: 0.7323570\tbest: 0.7324593 (482)\ttotal: 28.1s\tremaining: 1m 13s\n",
      "900:\ttest: 0.7324796\tbest: 0.7326498 (781)\ttotal: 42.8s\tremaining: 1m 1s\n"
     ]
    },
    {
     "name": "stderr",
     "output_type": "stream",
     "text": [
      "[I 2025-02-19 03:48:51,057] Trial 7 finished with value: 0.732649752923825 and parameters: {'iterations': 2185, 'depth': 4, 'learning_rate': 0.06271676093063665, 'l2_leaf_reg': 0.0010547383621352044}. Best is trial 5 with value: 0.7328026629731461.\n"
     ]
    },
    {
     "name": "stdout",
     "output_type": "stream",
     "text": [
      "Stopped by overfitting detector  (300 iterations wait)\n",
      "\n",
      "bestTest = 0.7326497529\n",
      "bestIteration = 781\n",
      "\n",
      "Shrink model to first 782 iterations.\n",
      "0:\ttest: 0.7125439\tbest: 0.7125439 (0)\ttotal: 104ms\tremaining: 1m 57s\n",
      "300:\ttest: 0.7293349\tbest: 0.7311461 (102)\ttotal: 42.3s\tremaining: 1m 56s\n"
     ]
    },
    {
     "name": "stderr",
     "output_type": "stream",
     "text": [
      "[I 2025-02-19 03:49:49,253] Trial 8 finished with value: 0.7311460686033653 and parameters: {'iterations': 1130, 'depth': 10, 'learning_rate': 0.09673504314208314, 'l2_leaf_reg': 7.085721663941605}. Best is trial 5 with value: 0.7328026629731461.\n"
     ]
    },
    {
     "name": "stdout",
     "output_type": "stream",
     "text": [
      "Stopped by overfitting detector  (300 iterations wait)\n",
      "\n",
      "bestTest = 0.7311460686\n",
      "bestIteration = 102\n",
      "\n",
      "Shrink model to first 103 iterations.\n",
      "0:\ttest: 0.6901171\tbest: 0.6901171 (0)\ttotal: 54.4ms\tremaining: 1m 27s\n",
      "300:\ttest: 0.7322867\tbest: 0.7322975 (296)\ttotal: 13.4s\tremaining: 58.1s\n",
      "600:\ttest: 0.7325797\tbest: 0.7327407 (484)\ttotal: 27.2s\tremaining: 45.6s\n"
     ]
    },
    {
     "name": "stderr",
     "output_type": "stream",
     "text": [
      "[I 2025-02-19 03:50:25,100] Trial 9 finished with value: 0.7327406753105694 and parameters: {'iterations': 1609, 'depth': 4, 'learning_rate': 0.07000213751865492, 'l2_leaf_reg': 0.04374364439939081}. Best is trial 5 with value: 0.7328026629731461.\n"
     ]
    },
    {
     "name": "stdout",
     "output_type": "stream",
     "text": [
      "Stopped by overfitting detector  (300 iterations wait)\n",
      "\n",
      "bestTest = 0.7327406753\n",
      "bestIteration = 484\n",
      "\n",
      "Shrink model to first 485 iterations.\n",
      "0:\ttest: 0.7109551\tbest: 0.7109551 (0)\ttotal: 57.1ms\tremaining: 2m 46s\n",
      "300:\ttest: 0.7315626\tbest: 0.7315641 (297)\ttotal: 18.4s\tremaining: 2m 39s\n",
      "600:\ttest: 0.7321578\tbest: 0.7323490 (437)\ttotal: 38.5s\tremaining: 2m 27s\n"
     ]
    },
    {
     "name": "stderr",
     "output_type": "stream",
     "text": [
      "[I 2025-02-19 03:51:13,371] Trial 10 finished with value: 0.732348976346963 and parameters: {'iterations': 2912, 'depth': 6, 'learning_rate': 0.04039108028802378, 'l2_leaf_reg': 0.00012816553469185968}. Best is trial 5 with value: 0.7328026629731461.\n"
     ]
    },
    {
     "name": "stdout",
     "output_type": "stream",
     "text": [
      "Stopped by overfitting detector  (300 iterations wait)\n",
      "\n",
      "bestTest = 0.7323489763\n",
      "bestIteration = 437\n",
      "\n",
      "Shrink model to first 438 iterations.\n",
      "0:\ttest: 0.6901171\tbest: 0.6901171 (0)\ttotal: 41.6ms\tremaining: 1m 41s\n",
      "300:\ttest: 0.7322596\tbest: 0.7322634 (298)\ttotal: 13.7s\tremaining: 1m 36s\n",
      "600:\ttest: 0.7323503\tbest: 0.7326404 (551)\ttotal: 28s\tremaining: 1m 25s\n"
     ]
    },
    {
     "name": "stderr",
     "output_type": "stream",
     "text": [
      "[I 2025-02-19 03:51:53,410] Trial 11 finished with value: 0.7326403886526764 and parameters: {'iterations': 2431, 'depth': 4, 'learning_rate': 0.07996027362065464, 'l2_leaf_reg': 0.01911547094560437}. Best is trial 5 with value: 0.7328026629731461.\n"
     ]
    },
    {
     "name": "stdout",
     "output_type": "stream",
     "text": [
      "Stopped by overfitting detector  (300 iterations wait)\n",
      "\n",
      "bestTest = 0.7326403887\n",
      "bestIteration = 551\n",
      "\n",
      "Shrink model to first 552 iterations.\n",
      "0:\ttest: 0.7109770\tbest: 0.7109770 (0)\ttotal: 57.6ms\tremaining: 1m 23s\n",
      "300:\ttest: 0.7323393\tbest: 0.7323695 (299)\ttotal: 18.8s\tremaining: 1m 11s\n",
      "600:\ttest: 0.7324456\tbest: 0.7324995 (435)\ttotal: 38.8s\tremaining: 54.8s\n"
     ]
    },
    {
     "name": "stderr",
     "output_type": "stream",
     "text": [
      "[I 2025-02-19 03:52:41,526] Trial 12 finished with value: 0.7324994520034878 and parameters: {'iterations': 1450, 'depth': 6, 'learning_rate': 0.055570753389735106, 'l2_leaf_reg': 0.5066719221096763}. Best is trial 5 with value: 0.7328026629731461.\n"
     ]
    },
    {
     "name": "stdout",
     "output_type": "stream",
     "text": [
      "Stopped by overfitting detector  (300 iterations wait)\n",
      "\n",
      "bestTest = 0.732499452\n",
      "bestIteration = 435\n",
      "\n",
      "Shrink model to first 436 iterations.\n",
      "0:\ttest: 0.6901171\tbest: 0.6901171 (0)\ttotal: 43.6ms\tremaining: 1m 28s\n",
      "300:\ttest: 0.7304333\tbest: 0.7304333 (300)\ttotal: 12.7s\tremaining: 1m 12s\n",
      "600:\ttest: 0.7322987\tbest: 0.7323221 (596)\ttotal: 26.1s\tremaining: 1m 1s\n",
      "900:\ttest: 0.7326554\tbest: 0.7326554 (900)\ttotal: 39.9s\tremaining: 49.9s\n",
      "1200:\ttest: 0.7327838\tbest: 0.7328479 (1144)\ttotal: 53.8s\tremaining: 37s\n"
     ]
    },
    {
     "name": "stderr",
     "output_type": "stream",
     "text": [
      "[I 2025-02-19 03:53:46,961] Trial 13 finished with value: 0.7328478958180913 and parameters: {'iterations': 2027, 'depth': 4, 'learning_rate': 0.03169505566545232, 'l2_leaf_reg': 0.03698887108117822}. Best is trial 13 with value: 0.7328478958180913.\n"
     ]
    },
    {
     "name": "stdout",
     "output_type": "stream",
     "text": [
      "Stopped by overfitting detector  (300 iterations wait)\n",
      "\n",
      "bestTest = 0.7328478958\n",
      "bestIteration = 1144\n",
      "\n",
      "Shrink model to first 1145 iterations.\n",
      "저장 완료\n",
      "0:\ttest: 0.6959411\tbest: 0.6959411 (0)\ttotal: 48.9ms\tremaining: 1m 42s\n",
      "300:\ttest: 0.7308468\tbest: 0.7308468 (300)\ttotal: 15.6s\tremaining: 1m 33s\n",
      "600:\ttest: 0.7323855\tbest: 0.7323855 (600)\ttotal: 32.7s\tremaining: 1m 21s\n",
      "900:\ttest: 0.7325871\tbest: 0.7326558 (836)\ttotal: 49.9s\tremaining: 1m 6s\n"
     ]
    },
    {
     "name": "stderr",
     "output_type": "stream",
     "text": [
      "[I 2025-02-19 03:54:50,775] Trial 14 finished with value: 0.7326557892648535 and parameters: {'iterations': 2102, 'depth': 5, 'learning_rate': 0.03219537126313048, 'l2_leaf_reg': 1.8009215363370865}. Best is trial 13 with value: 0.7328478958180913.\n"
     ]
    },
    {
     "name": "stdout",
     "output_type": "stream",
     "text": [
      "Stopped by overfitting detector  (300 iterations wait)\n",
      "\n",
      "bestTest = 0.7326557893\n",
      "bestIteration = 836\n",
      "\n",
      "Shrink model to first 837 iterations.\n",
      "0:\ttest: 0.7109551\tbest: 0.7109551 (0)\ttotal: 62.1ms\tremaining: 2m 33s\n",
      "300:\ttest: 0.7312345\tbest: 0.7312345 (300)\ttotal: 18.6s\tremaining: 2m 14s\n",
      "600:\ttest: 0.7323431\tbest: 0.7323782 (508)\ttotal: 38.3s\tremaining: 1m 58s\n"
     ]
    },
    {
     "name": "stderr",
     "output_type": "stream",
     "text": [
      "[I 2025-02-19 03:55:43,219] Trial 15 finished with value: 0.7323781692041353 and parameters: {'iterations': 2467, 'depth': 6, 'learning_rate': 0.03697921388729446, 'l2_leaf_reg': 0.0044351655954852475}. Best is trial 13 with value: 0.7328478958180913.\n"
     ]
    },
    {
     "name": "stdout",
     "output_type": "stream",
     "text": [
      "Stopped by overfitting detector  (300 iterations wait)\n",
      "\n",
      "bestTest = 0.7323781692\n",
      "bestIteration = 508\n",
      "\n",
      "Shrink model to first 509 iterations.\n",
      "0:\ttest: 0.7109459\tbest: 0.7109459 (0)\ttotal: 62.8ms\tremaining: 2m 1s\n",
      "300:\ttest: 0.7308454\tbest: 0.7308539 (295)\ttotal: 20.7s\tremaining: 1m 52s\n",
      "600:\ttest: 0.7319611\tbest: 0.7319784 (598)\ttotal: 42s\tremaining: 1m 33s\n",
      "900:\ttest: 0.7325731\tbest: 0.7326231 (816)\ttotal: 1m 5s\tremaining: 1m 15s\n",
      "1200:\ttest: 0.7321105\tbest: 0.7326253 (974)\ttotal: 1m 28s\tremaining: 54.7s\n"
     ]
    },
    {
     "name": "stderr",
     "output_type": "stream",
     "text": [
      "[I 2025-02-19 03:57:17,667] Trial 16 finished with value: 0.7326253454554287 and parameters: {'iterations': 1944, 'depth': 7, 'learning_rate': 0.02252924087608541, 'l2_leaf_reg': 0.01139713597201627}. Best is trial 13 with value: 0.7328478958180913.\n"
     ]
    },
    {
     "name": "stdout",
     "output_type": "stream",
     "text": [
      "Stopped by overfitting detector  (300 iterations wait)\n",
      "\n",
      "bestTest = 0.7326253455\n",
      "bestIteration = 974\n",
      "\n",
      "Shrink model to first 975 iterations.\n",
      "0:\ttest: 0.6901273\tbest: 0.6901273 (0)\ttotal: 45ms\tremaining: 1m 46s\n",
      "300:\ttest: 0.7316265\tbest: 0.7316265 (300)\ttotal: 13.2s\tremaining: 1m 30s\n",
      "600:\ttest: 0.7325915\tbest: 0.7326142 (596)\ttotal: 26.9s\tremaining: 1m 19s\n",
      "900:\ttest: 0.7326709\tbest: 0.7327357 (805)\ttotal: 40.7s\tremaining: 1m 6s\n"
     ]
    },
    {
     "name": "stderr",
     "output_type": "stream",
     "text": [
      "[I 2025-02-19 03:58:08,104] Trial 17 finished with value: 0.7327357032717747 and parameters: {'iterations': 2377, 'depth': 4, 'learning_rate': 0.050994057910544455, 'l2_leaf_reg': 0.10672984281821848}. Best is trial 13 with value: 0.7328478958180913.\n"
     ]
    },
    {
     "name": "stdout",
     "output_type": "stream",
     "text": [
      "Stopped by overfitting detector  (300 iterations wait)\n",
      "\n",
      "bestTest = 0.7327357033\n",
      "bestIteration = 805\n",
      "\n",
      "Shrink model to first 806 iterations.\n",
      "0:\ttest: 0.6959154\tbest: 0.6959154 (0)\ttotal: 51.4ms\tremaining: 2m 15s\n",
      "300:\ttest: 0.7306596\tbest: 0.7306618 (299)\ttotal: 15.6s\tremaining: 2m\n",
      "600:\ttest: 0.7322282\tbest: 0.7322448 (585)\ttotal: 32s\tremaining: 1m 48s\n",
      "900:\ttest: 0.7325134\tbest: 0.7325160 (898)\ttotal: 49s\tremaining: 1m 33s\n",
      "1200:\ttest: 0.7326194\tbest: 0.7327008 (1130)\ttotal: 1m 6s\tremaining: 1m 18s\n"
     ]
    },
    {
     "name": "stderr",
     "output_type": "stream",
     "text": [
      "[I 2025-02-19 03:59:27,559] Trial 18 finished with value: 0.7327007639767942 and parameters: {'iterations': 2630, 'depth': 5, 'learning_rate': 0.0300608998195083, 'l2_leaf_reg': 0.0002973385780079621}. Best is trial 13 with value: 0.7328478958180913.\n"
     ]
    },
    {
     "name": "stdout",
     "output_type": "stream",
     "text": [
      "Stopped by overfitting detector  (300 iterations wait)\n",
      "\n",
      "bestTest = 0.732700764\n",
      "bestIteration = 1130\n",
      "\n",
      "Shrink model to first 1131 iterations.\n",
      "0:\ttest: 0.7109353\tbest: 0.7109353 (0)\ttotal: 63.7ms\tremaining: 3m 5s\n",
      "300:\ttest: 0.7304040\tbest: 0.7304040 (300)\ttotal: 20.2s\tremaining: 2m 55s\n",
      "600:\ttest: 0.7316966\tbest: 0.7316966 (600)\ttotal: 41.3s\tremaining: 2m 39s\n",
      "900:\ttest: 0.7322249\tbest: 0.7322266 (883)\ttotal: 1m 3s\tremaining: 2m 22s\n",
      "1200:\ttest: 0.7321706\tbest: 0.7322698 (929)\ttotal: 1m 26s\tremaining: 2m 4s\n"
     ]
    },
    {
     "name": "stderr",
     "output_type": "stream",
     "text": [
      "[I 2025-02-19 04:00:56,812] Trial 19 finished with value: 0.7322697771699006 and parameters: {'iterations': 2918, 'depth': 7, 'learning_rate': 0.01738988667338674, 'l2_leaf_reg': 0.0016555673278698913}. Best is trial 13 with value: 0.7328478958180913.\n",
      "[I 2025-02-19 04:00:56,815] A new study created in memory with name: no-name-2b4a89b8-f697-4508-a20e-d6b17ac41658\n"
     ]
    },
    {
     "name": "stdout",
     "output_type": "stream",
     "text": [
      "Stopped by overfitting detector  (300 iterations wait)\n",
      "\n",
      "bestTest = 0.7322697772\n",
      "bestIteration = 929\n",
      "\n",
      "Shrink model to first 930 iterations.\n"
     ]
    },
    {
     "name": "stderr",
     "output_type": "stream",
     "text": [
      "[I 2025-02-19 04:01:16,709] Trial 0 finished with value: 0.7324738769796557 and parameters: {'objective': 'binary', 'metric': 'auc', 'random_state': 42, 'verbose': -1, 'learning_rate': 0.015355286838886862, 'n_estimators': 1907, 'min_child_samples': 40, 'subsample': 0.8, 'colsample_bytree': 0.5}. Best is trial 0 with value: 0.7324738769796557.\n",
      "[I 2025-02-19 04:01:18,796] Trial 1 finished with value: 0.7275188670207257 and parameters: {'objective': 'binary', 'metric': 'auc', 'random_state': 42, 'verbose': -1, 'learning_rate': 0.00797854234707418, 'n_estimators': 210, 'min_child_samples': 45, 'subsample': 0.8, 'colsample_bytree': 0.9}. Best is trial 0 with value: 0.7324738769796557.\n",
      "[I 2025-02-19 04:01:37,648] Trial 2 finished with value: 0.732356501916864 and parameters: {'objective': 'binary', 'metric': 'auc', 'random_state': 42, 'verbose': -1, 'learning_rate': 0.005318033256270142, 'n_estimators': 1943, 'min_child_samples': 45, 'subsample': 0.6, 'colsample_bytree': 0.6}. Best is trial 0 with value: 0.7324738769796557.\n",
      "[I 2025-02-19 04:01:44,632] Trial 3 finished with value: 0.7318564982871167 and parameters: {'objective': 'binary', 'metric': 'auc', 'random_state': 42, 'verbose': -1, 'learning_rate': 0.008661333735273127, 'n_estimators': 678, 'min_child_samples': 30, 'subsample': 0.7, 'colsample_bytree': 0.6}. Best is trial 0 with value: 0.7324738769796557.\n",
      "[I 2025-02-19 04:01:47,965] Trial 4 finished with value: 0.7317703851168103 and parameters: {'objective': 'binary', 'metric': 'auc', 'random_state': 42, 'verbose': -1, 'learning_rate': 0.03126143958203108, 'n_estimators': 365, 'min_child_samples': 20, 'subsample': 0.7, 'colsample_bytree': 0.7}. Best is trial 0 with value: 0.7324738769796557.\n",
      "[I 2025-02-19 04:01:53,237] Trial 5 finished with value: 0.7313179573854338 and parameters: {'objective': 'binary', 'metric': 'auc', 'random_state': 42, 'verbose': -1, 'learning_rate': 0.05254210669345883, 'n_estimators': 479, 'min_child_samples': 30, 'subsample': 0.8, 'colsample_bytree': 0.5}. Best is trial 0 with value: 0.7324738769796557.\n",
      "[I 2025-02-19 04:01:56,961] Trial 6 finished with value: 0.7316987035670948 and parameters: {'objective': 'binary', 'metric': 'auc', 'random_state': 42, 'verbose': -1, 'learning_rate': 0.030860579740535368, 'n_estimators': 424, 'min_child_samples': 10, 'subsample': 1.0, 'colsample_bytree': 1.0}. Best is trial 0 with value: 0.7324738769796557.\n",
      "[I 2025-02-19 04:02:02,547] Trial 7 finished with value: 0.7296661166342131 and parameters: {'objective': 'binary', 'metric': 'auc', 'random_state': 42, 'verbose': -1, 'learning_rate': 0.05632733481673016, 'n_estimators': 679, 'min_child_samples': 10, 'subsample': 0.9, 'colsample_bytree': 0.7}. Best is trial 0 with value: 0.7324738769796557.\n",
      "[I 2025-02-19 04:02:12,917] Trial 8 finished with value: 0.7320489622552837 and parameters: {'objective': 'binary', 'metric': 'auc', 'random_state': 42, 'verbose': -1, 'learning_rate': 0.007206848764305203, 'n_estimators': 1041, 'min_child_samples': 10, 'subsample': 1.0, 'colsample_bytree': 0.6}. Best is trial 0 with value: 0.7324738769796557.\n",
      "[I 2025-02-19 04:02:19,339] Trial 9 finished with value: 0.7318097960696843 and parameters: {'objective': 'binary', 'metric': 'auc', 'random_state': 42, 'verbose': -1, 'learning_rate': 0.036385753170854684, 'n_estimators': 692, 'min_child_samples': 30, 'subsample': 0.8, 'colsample_bytree': 0.6}. Best is trial 0 with value: 0.7324738769796557.\n",
      "[I 2025-02-19 04:02:34,175] Trial 10 finished with value: 0.7319206066116075 and parameters: {'objective': 'binary', 'metric': 'auc', 'random_state': 42, 'verbose': -1, 'learning_rate': 0.015352366611984603, 'n_estimators': 1873, 'min_child_samples': 50, 'subsample': 0.5, 'colsample_bytree': 0.8}. Best is trial 0 with value: 0.7324738769796557.\n",
      "[I 2025-02-19 04:02:54,638] Trial 11 finished with value: 0.732384701954788 and parameters: {'objective': 'binary', 'metric': 'auc', 'random_state': 42, 'verbose': -1, 'learning_rate': 0.015423665558445133, 'n_estimators': 1976, 'min_child_samples': 40, 'subsample': 0.5, 'colsample_bytree': 0.5}. Best is trial 0 with value: 0.7324738769796557.\n",
      "[I 2025-02-19 04:03:11,135] Trial 12 finished with value: 0.7326602847504091 and parameters: {'objective': 'binary', 'metric': 'auc', 'random_state': 42, 'verbose': -1, 'learning_rate': 0.015451581545204445, 'n_estimators': 1574, 'min_child_samples': 40, 'subsample': 0.5, 'colsample_bytree': 0.5}. Best is trial 12 with value: 0.7326602847504091.\n",
      "[I 2025-02-19 04:03:27,302] Trial 13 finished with value: 0.7323742336686356 and parameters: {'objective': 'binary', 'metric': 'auc', 'random_state': 42, 'verbose': -1, 'learning_rate': 0.017329634243394284, 'n_estimators': 1550, 'min_child_samples': 40, 'subsample': 0.6, 'colsample_bytree': 0.5}. Best is trial 12 with value: 0.7326602847504091.\n",
      "[I 2025-02-19 04:03:42,467] Trial 14 finished with value: 0.7324583651717229 and parameters: {'objective': 'binary', 'metric': 'auc', 'random_state': 42, 'verbose': -1, 'learning_rate': 0.010849993952303332, 'n_estimators': 1410, 'min_child_samples': 35, 'subsample': 0.9, 'colsample_bytree': 0.5}. Best is trial 12 with value: 0.7326602847504091.\n",
      "[I 2025-02-19 04:03:54,184] Trial 15 finished with value: 0.7239453650455793 and parameters: {'objective': 'binary', 'metric': 'auc', 'random_state': 42, 'verbose': -1, 'learning_rate': 0.0902334606102013, 'n_estimators': 1567, 'min_child_samples': 20, 'subsample': 0.6, 'colsample_bytree': 0.8}. Best is trial 12 with value: 0.7326602847504091.\n",
      "[I 2025-02-19 04:04:04,157] Trial 16 finished with value: 0.7317605403211457 and parameters: {'objective': 'binary', 'metric': 'auc', 'random_state': 42, 'verbose': -1, 'learning_rate': 0.022178512812229493, 'n_estimators': 1218, 'min_child_samples': 50, 'subsample': 0.9, 'colsample_bytree': 0.7}. Best is trial 12 with value: 0.7326602847504091.\n",
      "[I 2025-02-19 04:04:22,548] Trial 17 finished with value: 0.7325486720105335 and parameters: {'objective': 'binary', 'metric': 'auc', 'random_state': 42, 'verbose': -1, 'learning_rate': 0.012657202739769224, 'n_estimators': 1739, 'min_child_samples': 40, 'subsample': 0.7, 'colsample_bytree': 0.5}. Best is trial 12 with value: 0.7326602847504091.\n",
      "[I 2025-02-19 04:04:37,802] Trial 18 finished with value: 0.7324299506848412 and parameters: {'objective': 'binary', 'metric': 'auc', 'random_state': 42, 'verbose': -1, 'learning_rate': 0.012241629310260922, 'n_estimators': 1658, 'min_child_samples': 35, 'subsample': 0.5, 'colsample_bytree': 0.6}. Best is trial 12 with value: 0.7326602847504091.\n",
      "[I 2025-02-19 04:04:46,736] Trial 19 finished with value: 0.731952845438233 and parameters: {'objective': 'binary', 'metric': 'auc', 'random_state': 42, 'verbose': -1, 'learning_rate': 0.02435372000020712, 'n_estimators': 1117, 'min_child_samples': 45, 'subsample': 0.7, 'colsample_bytree': 0.9}. Best is trial 12 with value: 0.7326602847504091.\n"
     ]
    },
    {
     "name": "stdout",
     "output_type": "stream",
     "text": [
      "Cat val score : 0.7328478958180913\n",
      "LGBM val score : 0.7326602847504091\n",
      "Ensemble val score : 0.7333542296633645\n"
     ]
    },
    {
     "name": "stderr",
     "output_type": "stream",
     "text": [
      "[I 2025-02-19 04:05:04,564] A new study created in memory with name: no-name-f35fd509-4fd3-4b00-9c5f-f89bdc14a3f9\n"
     ]
    },
    {
     "name": "stdout",
     "output_type": "stream",
     "text": [
      "==================================================\n",
      "0:\ttest: 0.7205392\tbest: 0.7205392 (0)\ttotal: 115ms\tremaining: 3m 20s\n",
      "300:\ttest: 0.7375421\tbest: 0.7389777 (206)\ttotal: 42s\tremaining: 3m 21s\n"
     ]
    },
    {
     "name": "stderr",
     "output_type": "stream",
     "text": [
      "[I 2025-02-19 04:06:18,646] Trial 0 finished with value: 0.738977684965681 and parameters: {'iterations': 1749, 'depth': 10, 'learning_rate': 0.07453942447208349, 'l2_leaf_reg': 0.39079671568228835}. Best is trial 0 with value: 0.738977684965681.\n"
     ]
    },
    {
     "name": "stdout",
     "output_type": "stream",
     "text": [
      "Stopped by overfitting detector  (300 iterations wait)\n",
      "\n",
      "bestTest = 0.738977685\n",
      "bestIteration = 206\n",
      "\n",
      "Shrink model to first 207 iterations.\n",
      "저장 완료\n",
      "0:\ttest: 0.7022268\tbest: 0.7022268 (0)\ttotal: 51.1ms\tremaining: 1m 7s\n",
      "300:\ttest: 0.7321881\tbest: 0.7321881 (300)\ttotal: 15.3s\tremaining: 51.5s\n",
      "600:\ttest: 0.7356347\tbest: 0.7356347 (600)\ttotal: 31.4s\tremaining: 37.1s\n",
      "900:\ttest: 0.7369795\tbest: 0.7369795 (900)\ttotal: 47.4s\tremaining: 21.6s\n",
      "1200:\ttest: 0.7377621\tbest: 0.7377621 (1200)\ttotal: 1m 4s\tremaining: 5.96s\n"
     ]
    },
    {
     "name": "stderr",
     "output_type": "stream",
     "text": [
      "[I 2025-02-19 04:07:29,457] Trial 1 finished with value: 0.7380295386124323 and parameters: {'iterations': 1312, 'depth': 5, 'learning_rate': 0.010517943155978949, 'l2_leaf_reg': 15.741890047456648}. Best is trial 0 with value: 0.738977684965681.\n"
     ]
    },
    {
     "name": "stdout",
     "output_type": "stream",
     "text": [
      "1311:\ttest: 0.7380295\tbest: 0.7380295 (1311)\ttotal: 1m 10s\tremaining: 0us\n",
      "\n",
      "bestTest = 0.7380295386\n",
      "bestIteration = 1311\n",
      "\n",
      "0:\ttest: 0.7184679\tbest: 0.7184679 (0)\ttotal: 69.4ms\tremaining: 2m 32s\n",
      "300:\ttest: 0.7326310\tbest: 0.7326310 (300)\ttotal: 23.3s\tremaining: 2m 27s\n",
      "600:\ttest: 0.7360377\tbest: 0.7360377 (600)\ttotal: 46.9s\tremaining: 2m 4s\n",
      "900:\ttest: 0.7375594\tbest: 0.7375594 (900)\ttotal: 1m 10s\tremaining: 1m 41s\n",
      "1200:\ttest: 0.7381712\tbest: 0.7381712 (1200)\ttotal: 1m 32s\tremaining: 1m 17s\n",
      "1500:\ttest: 0.7385797\tbest: 0.7385797 (1500)\ttotal: 1m 54s\tremaining: 53.3s\n",
      "1800:\ttest: 0.7388393\tbest: 0.7388393 (1800)\ttotal: 2m 15s\tremaining: 30.2s\n",
      "2100:\ttest: 0.7390296\tbest: 0.7390324 (2077)\ttotal: 2m 39s\tremaining: 7.68s\n"
     ]
    },
    {
     "name": "stderr",
     "output_type": "stream",
     "text": [
      "[I 2025-02-19 04:10:18,350] Trial 2 finished with value: 0.739068817830106 and parameters: {'iterations': 2202, 'depth': 8, 'learning_rate': 0.006955526958101232, 'l2_leaf_reg': 65.98711072054076}. Best is trial 2 with value: 0.739068817830106.\n"
     ]
    },
    {
     "name": "stdout",
     "output_type": "stream",
     "text": [
      "2201:\ttest: 0.7390672\tbest: 0.7390688 (2190)\ttotal: 2m 48s\tremaining: 0us\n",
      "\n",
      "bestTest = 0.7390688178\n",
      "bestIteration = 2190\n",
      "\n",
      "Shrink model to first 2191 iterations.\n",
      "저장 완료\n",
      "0:\ttest: 0.7022274\tbest: 0.7022274 (0)\ttotal: 56.4ms\tremaining: 2m 30s\n",
      "300:\ttest: 0.7357881\tbest: 0.7357881 (300)\ttotal: 15.3s\tremaining: 2m\n",
      "600:\ttest: 0.7378270\tbest: 0.7378270 (600)\ttotal: 31.5s\tremaining: 1m 48s\n",
      "900:\ttest: 0.7385755\tbest: 0.7385999 (891)\ttotal: 48.6s\tremaining: 1m 35s\n",
      "1200:\ttest: 0.7389663\tbest: 0.7389868 (1186)\ttotal: 1m 5s\tremaining: 1m 20s\n",
      "1500:\ttest: 0.7390126\tbest: 0.7390444 (1434)\ttotal: 1m 23s\tremaining: 1m 4s\n",
      "1800:\ttest: 0.7391518\tbest: 0.7391658 (1685)\ttotal: 1m 40s\tremaining: 48s\n"
     ]
    },
    {
     "name": "stderr",
     "output_type": "stream",
     "text": [
      "[I 2025-02-19 04:12:09,409] Trial 3 finished with value: 0.7391657765578792 and parameters: {'iterations': 2665, 'depth': 5, 'learning_rate': 0.02227337188467456, 'l2_leaf_reg': 0.0012601639723276807}. Best is trial 3 with value: 0.7391657765578792.\n"
     ]
    },
    {
     "name": "stdout",
     "output_type": "stream",
     "text": [
      "Stopped by overfitting detector  (300 iterations wait)\n",
      "\n",
      "bestTest = 0.7391657766\n",
      "bestIteration = 1685\n",
      "\n",
      "Shrink model to first 1686 iterations.\n",
      "저장 완료\n",
      "0:\ttest: 0.7181967\tbest: 0.7181967 (0)\ttotal: 60.6ms\tremaining: 1m 37s\n",
      "300:\ttest: 0.7384633\tbest: 0.7384700 (297)\ttotal: 20.8s\tremaining: 1m 30s\n",
      "600:\ttest: 0.7386999\tbest: 0.7388268 (383)\ttotal: 43.7s\tremaining: 1m 13s\n",
      "900:\ttest: 0.7384145\tbest: 0.7389288 (647)\ttotal: 1m 6s\tremaining: 52.5s\n"
     ]
    },
    {
     "name": "stderr",
     "output_type": "stream",
     "text": [
      "[I 2025-02-19 04:13:20,091] Trial 4 finished with value: 0.7389287508905787 and parameters: {'iterations': 1608, 'depth': 7, 'learning_rate': 0.046034776771001, 'l2_leaf_reg': 0.005589524205217926}. Best is trial 3 with value: 0.7391657765578792.\n"
     ]
    },
    {
     "name": "stdout",
     "output_type": "stream",
     "text": [
      "Stopped by overfitting detector  (300 iterations wait)\n",
      "\n",
      "bestTest = 0.7389287509\n",
      "bestIteration = 647\n",
      "\n",
      "Shrink model to first 648 iterations.\n",
      "0:\ttest: 0.6954896\tbest: 0.6954896 (0)\ttotal: 43.4ms\tremaining: 1m 36s\n",
      "300:\ttest: 0.7361984\tbest: 0.7361984 (300)\ttotal: 12.7s\tremaining: 1m 21s\n",
      "600:\ttest: 0.7382407\tbest: 0.7382407 (600)\ttotal: 26.2s\tremaining: 1m 10s\n",
      "900:\ttest: 0.7387349\tbest: 0.7387517 (894)\ttotal: 40.2s\tremaining: 59.1s\n",
      "1200:\ttest: 0.7389458\tbest: 0.7389504 (1199)\ttotal: 54.4s\tremaining: 46.4s\n",
      "1500:\ttest: 0.7389476\tbest: 0.7389885 (1425)\ttotal: 1m 8s\tremaining: 33.1s\n"
     ]
    },
    {
     "name": "stderr",
     "output_type": "stream",
     "text": [
      "[I 2025-02-19 04:14:39,651] Trial 5 finished with value: 0.7389884828678237 and parameters: {'iterations': 2224, 'depth': 4, 'learning_rate': 0.032753741610845724, 'l2_leaf_reg': 0.01578232781079559}. Best is trial 3 with value: 0.7391657765578792.\n"
     ]
    },
    {
     "name": "stdout",
     "output_type": "stream",
     "text": [
      "Stopped by overfitting detector  (300 iterations wait)\n",
      "\n",
      "bestTest = 0.7389884829\n",
      "bestIteration = 1425\n",
      "\n",
      "Shrink model to first 1426 iterations.\n",
      "0:\ttest: 0.7186091\tbest: 0.7186091 (0)\ttotal: 81.9ms\tremaining: 2m 36s\n",
      "300:\ttest: 0.7381343\tbest: 0.7381373 (299)\ttotal: 26.4s\tremaining: 2m 21s\n",
      "600:\ttest: 0.7391991\tbest: 0.7392549 (551)\ttotal: 53.6s\tremaining: 1m 56s\n",
      "900:\ttest: 0.7392394\tbest: 0.7393838 (750)\ttotal: 1m 24s\tremaining: 1m 34s\n",
      "1200:\ttest: 0.7392635\tbest: 0.7395341 (1038)\ttotal: 1m 55s\tremaining: 1m 8s\n"
     ]
    },
    {
     "name": "stderr",
     "output_type": "stream",
     "text": [
      "[I 2025-02-19 04:16:49,488] Trial 6 finished with value: 0.7395341482404312 and parameters: {'iterations': 1912, 'depth': 9, 'learning_rate': 0.023969009305044177, 'l2_leaf_reg': 0.12173252504194051}. Best is trial 6 with value: 0.7395341482404312.\n"
     ]
    },
    {
     "name": "stdout",
     "output_type": "stream",
     "text": [
      "Stopped by overfitting detector  (300 iterations wait)\n",
      "\n",
      "bestTest = 0.7395341482\n",
      "bestIteration = 1038\n",
      "\n",
      "Shrink model to first 1039 iterations.\n",
      "저장 완료\n",
      "0:\ttest: 0.6954896\tbest: 0.6954896 (0)\ttotal: 47.2ms\tremaining: 1m 43s\n",
      "300:\ttest: 0.7379912\tbest: 0.7379912 (300)\ttotal: 13.4s\tremaining: 1m 23s\n",
      "600:\ttest: 0.7387081\tbest: 0.7387380 (595)\ttotal: 27.3s\tremaining: 1m 12s\n",
      "900:\ttest: 0.7387865\tbest: 0.7388071 (827)\ttotal: 41.6s\tremaining: 59.2s\n",
      "1200:\ttest: 0.7384714\tbest: 0.7388117 (909)\ttotal: 55.7s\tremaining: 45.6s\n"
     ]
    },
    {
     "name": "stderr",
     "output_type": "stream",
     "text": [
      "[I 2025-02-19 04:17:45,781] Trial 7 finished with value: 0.7388117173576083 and parameters: {'iterations': 2185, 'depth': 4, 'learning_rate': 0.06271676093063665, 'l2_leaf_reg': 0.0010547383621352044}. Best is trial 6 with value: 0.7395341482404312.\n"
     ]
    },
    {
     "name": "stdout",
     "output_type": "stream",
     "text": [
      "Stopped by overfitting detector  (300 iterations wait)\n",
      "\n",
      "bestTest = 0.7388117174\n",
      "bestIteration = 909\n",
      "\n",
      "Shrink model to first 910 iterations.\n",
      "0:\ttest: 0.7205513\tbest: 0.7205513 (0)\ttotal: 96.7ms\tremaining: 1m 49s\n",
      "300:\ttest: 0.7375304\tbest: 0.7384510 (130)\ttotal: 39.4s\tremaining: 1m 48s\n"
     ]
    },
    {
     "name": "stderr",
     "output_type": "stream",
     "text": [
      "[I 2025-02-19 04:18:44,070] Trial 8 finished with value: 0.7384510420098678 and parameters: {'iterations': 1130, 'depth': 10, 'learning_rate': 0.09673504314208314, 'l2_leaf_reg': 7.085721663941605}. Best is trial 6 with value: 0.7395341482404312.\n"
     ]
    },
    {
     "name": "stdout",
     "output_type": "stream",
     "text": [
      "Stopped by overfitting detector  (300 iterations wait)\n",
      "\n",
      "bestTest = 0.738451042\n",
      "bestIteration = 130\n",
      "\n",
      "Shrink model to first 131 iterations.\n",
      "0:\ttest: 0.6954896\tbest: 0.6954896 (0)\ttotal: 43.5ms\tremaining: 1m 9s\n",
      "300:\ttest: 0.7384644\tbest: 0.7384718 (298)\ttotal: 13s\tremaining: 56.7s\n",
      "600:\ttest: 0.7389154\tbest: 0.7389393 (594)\ttotal: 26.8s\tremaining: 45s\n",
      "900:\ttest: 0.7390833\tbest: 0.7390833 (900)\ttotal: 40.7s\tremaining: 32s\n",
      "1200:\ttest: 0.7388665\tbest: 0.7391056 (918)\ttotal: 54.8s\tremaining: 18.6s\n"
     ]
    },
    {
     "name": "stderr",
     "output_type": "stream",
     "text": [
      "[I 2025-02-19 04:19:39,886] Trial 9 finished with value: 0.739105607740165 and parameters: {'iterations': 1609, 'depth': 4, 'learning_rate': 0.07000213751865492, 'l2_leaf_reg': 0.04374364439939081}. Best is trial 6 with value: 0.7395341482404312.\n"
     ]
    },
    {
     "name": "stdout",
     "output_type": "stream",
     "text": [
      "Stopped by overfitting detector  (300 iterations wait)\n",
      "\n",
      "bestTest = 0.7391056077\n",
      "bestIteration = 918\n",
      "\n",
      "Shrink model to first 919 iterations.\n",
      "0:\ttest: 0.7183270\tbest: 0.7183270 (0)\ttotal: 73.4ms\tremaining: 3m 32s\n",
      "300:\ttest: 0.7390651\tbest: 0.7390940 (296)\ttotal: 23.6s\tremaining: 3m 23s\n",
      "600:\ttest: 0.7392807\tbest: 0.7394068 (407)\ttotal: 50s\tremaining: 3m 10s\n",
      "900:\ttest: 0.7391850\tbest: 0.7394295 (688)\ttotal: 1m 16s\tremaining: 2m 49s\n"
     ]
    },
    {
     "name": "stderr",
     "output_type": "stream",
     "text": [
      "[I 2025-02-19 04:21:04,820] Trial 10 finished with value: 0.7394295328906164 and parameters: {'iterations': 2891, 'depth': 8, 'learning_rate': 0.04002923340850424, 'l2_leaf_reg': 0.6899047876209637}. Best is trial 6 with value: 0.7395341482404312.\n"
     ]
    },
    {
     "name": "stdout",
     "output_type": "stream",
     "text": [
      "Stopped by overfitting detector  (300 iterations wait)\n",
      "\n",
      "bestTest = 0.7394295329\n",
      "bestIteration = 688\n",
      "\n",
      "Shrink model to first 689 iterations.\n",
      "0:\ttest: 0.7183270\tbest: 0.7183270 (0)\ttotal: 71.6ms\tremaining: 3m 25s\n",
      "300:\ttest: 0.7385826\tbest: 0.7385842 (299)\ttotal: 23.5s\tremaining: 3m 20s\n",
      "600:\ttest: 0.7391394\tbest: 0.7392235 (514)\ttotal: 50s\tremaining: 3m 9s\n"
     ]
    },
    {
     "name": "stderr",
     "output_type": "stream",
     "text": [
      "[I 2025-02-19 04:22:14,174] Trial 11 finished with value: 0.7392235387817359 and parameters: {'iterations': 2872, 'depth': 8, 'learning_rate': 0.04074542386789816, 'l2_leaf_reg': 0.5552661041119791}. Best is trial 6 with value: 0.7395341482404312.\n"
     ]
    },
    {
     "name": "stdout",
     "output_type": "stream",
     "text": [
      "Stopped by overfitting detector  (300 iterations wait)\n",
      "\n",
      "bestTest = 0.7392235388\n",
      "bestIteration = 514\n",
      "\n",
      "Shrink model to first 515 iterations.\n",
      "0:\ttest: 0.7183270\tbest: 0.7183270 (0)\ttotal: 73.6ms\tremaining: 3m 8s\n",
      "300:\ttest: 0.7381793\tbest: 0.7381793 (300)\ttotal: 23.3s\tremaining: 2m 55s\n",
      "600:\ttest: 0.7393559\tbest: 0.7393939 (594)\ttotal: 48.9s\tremaining: 2m 40s\n",
      "900:\ttest: 0.7393601\tbest: 0.7394988 (670)\ttotal: 1m 16s\tremaining: 2m 21s\n"
     ]
    },
    {
     "name": "stderr",
     "output_type": "stream",
     "text": [
      "[I 2025-02-19 04:23:37,010] Trial 12 finished with value: 0.7394987562198736 and parameters: {'iterations': 2568, 'depth': 8, 'learning_rate': 0.026439607654038348, 'l2_leaf_reg': 1.045790308564582}. Best is trial 6 with value: 0.7395341482404312.\n"
     ]
    },
    {
     "name": "stdout",
     "output_type": "stream",
     "text": [
      "Stopped by overfitting detector  (300 iterations wait)\n",
      "\n",
      "bestTest = 0.7394987562\n",
      "bestIteration = 670\n",
      "\n",
      "Shrink model to first 671 iterations.\n",
      "0:\ttest: 0.7186207\tbest: 0.7186207 (0)\ttotal: 81ms\tremaining: 3m 19s\n",
      "300:\ttest: 0.7381510\tbest: 0.7381573 (295)\ttotal: 26.4s\tremaining: 3m 9s\n",
      "600:\ttest: 0.7391562\tbest: 0.7391562 (600)\ttotal: 53.9s\tremaining: 2m 47s\n",
      "900:\ttest: 0.7394280\tbest: 0.7394952 (890)\ttotal: 1m 24s\tremaining: 2m 26s\n",
      "1200:\ttest: 0.7392956\tbest: 0.7395272 (997)\ttotal: 1m 55s\tremaining: 2m 1s\n"
     ]
    },
    {
     "name": "stderr",
     "output_type": "stream",
     "text": [
      "[I 2025-02-19 04:25:42,582] Trial 13 finished with value: 0.7395271508503704 and parameters: {'iterations': 2464, 'depth': 9, 'learning_rate': 0.023184328362643364, 'l2_leaf_reg': 3.371938605635963}. Best is trial 6 with value: 0.7395341482404312.\n"
     ]
    },
    {
     "name": "stdout",
     "output_type": "stream",
     "text": [
      "Stopped by overfitting detector  (300 iterations wait)\n",
      "\n",
      "bestTest = 0.7395271509\n",
      "bestIteration = 997\n",
      "\n",
      "Shrink model to first 998 iterations.\n",
      "0:\ttest: 0.7186253\tbest: 0.7186253 (0)\ttotal: 87.2ms\tremaining: 2m 42s\n",
      "300:\ttest: 0.7373559\tbest: 0.7373559 (300)\ttotal: 26.5s\tremaining: 2m 17s\n",
      "600:\ttest: 0.7387990\tbest: 0.7387990 (600)\ttotal: 53.4s\tremaining: 1m 52s\n",
      "900:\ttest: 0.7394329\tbest: 0.7394329 (900)\ttotal: 1m 22s\tremaining: 1m 28s\n",
      "1200:\ttest: 0.7396916\tbest: 0.7396951 (1199)\ttotal: 1m 53s\tremaining: 1m 2s\n",
      "1500:\ttest: 0.7396877\tbest: 0.7397650 (1274)\ttotal: 2m 24s\tremaining: 35s\n"
     ]
    },
    {
     "name": "stderr",
     "output_type": "stream",
     "text": [
      "[I 2025-02-19 04:28:14,795] Trial 14 finished with value: 0.7397649946007312 and parameters: {'iterations': 1865, 'depth': 9, 'learning_rate': 0.017840888315114944, 'l2_leaf_reg': 5.529316831692637}. Best is trial 14 with value: 0.7397649946007312.\n"
     ]
    },
    {
     "name": "stdout",
     "output_type": "stream",
     "text": [
      "Stopped by overfitting detector  (300 iterations wait)\n",
      "\n",
      "bestTest = 0.7397649946\n",
      "bestIteration = 1274\n",
      "\n",
      "Shrink model to first 1275 iterations.\n",
      "저장 완료\n",
      "0:\ttest: 0.7186088\tbest: 0.7186088 (0)\ttotal: 85.8ms\tremaining: 2m 41s\n",
      "300:\ttest: 0.7369435\tbest: 0.7369435 (300)\ttotal: 26.2s\tremaining: 2m 17s\n",
      "600:\ttest: 0.7384937\tbest: 0.7384937 (600)\ttotal: 53.1s\tremaining: 1m 52s\n",
      "900:\ttest: 0.7391951\tbest: 0.7392005 (894)\ttotal: 1m 21s\tremaining: 1m 28s\n",
      "1200:\ttest: 0.7391199\tbest: 0.7392682 (976)\ttotal: 1m 53s\tremaining: 1m 3s\n"
     ]
    },
    {
     "name": "stderr",
     "output_type": "stream",
     "text": [
      "[I 2025-02-19 04:30:16,014] Trial 15 finished with value: 0.7392681719638551 and parameters: {'iterations': 1879, 'depth': 9, 'learning_rate': 0.015570913393377375, 'l2_leaf_reg': 0.09467773791611322}. Best is trial 14 with value: 0.7397649946007312.\n"
     ]
    },
    {
     "name": "stdout",
     "output_type": "stream",
     "text": [
      "Stopped by overfitting detector  (300 iterations wait)\n",
      "\n",
      "bestTest = 0.739268172\n",
      "bestIteration = 976\n",
      "\n",
      "Shrink model to first 977 iterations.\n",
      "0:\ttest: 0.7182663\tbest: 0.7182663 (0)\ttotal: 64.7ms\tremaining: 1m 29s\n",
      "300:\ttest: 0.7388986\tbest: 0.7388986 (300)\ttotal: 20.8s\tremaining: 1m 14s\n",
      "600:\ttest: 0.7394718\tbest: 0.7395032 (582)\ttotal: 43.1s\tremaining: 55.8s\n",
      "900:\ttest: 0.7398110\tbest: 0.7398177 (891)\ttotal: 1m 5s\tremaining: 34.8s\n",
      "1200:\ttest: 0.7399103\tbest: 0.7399435 (1141)\ttotal: 1m 29s\tremaining: 13.1s\n"
     ]
    },
    {
     "name": "stderr",
     "output_type": "stream",
     "text": [
      "[I 2025-02-19 04:31:59,444] Trial 16 finished with value: 0.7399727916693665 and parameters: {'iterations': 1378, 'depth': 7, 'learning_rate': 0.05411512802690858, 'l2_leaf_reg': 94.64533014403685}. Best is trial 16 with value: 0.7399727916693665.\n"
     ]
    },
    {
     "name": "stdout",
     "output_type": "stream",
     "text": [
      "1377:\ttest: 0.7399510\tbest: 0.7399728 (1273)\ttotal: 1m 43s\tremaining: 0us\n",
      "\n",
      "bestTest = 0.7399727917\n",
      "bestIteration = 1273\n",
      "\n",
      "Shrink model to first 1274 iterations.\n",
      "저장 완료\n",
      "0:\ttest: 0.7181884\tbest: 0.7181884 (0)\ttotal: 60.2ms\tremaining: 1m 22s\n",
      "300:\ttest: 0.7384891\tbest: 0.7384909 (297)\ttotal: 19.1s\tremaining: 1m 8s\n",
      "600:\ttest: 0.7391752\tbest: 0.7391826 (596)\ttotal: 39.1s\tremaining: 50.3s\n",
      "900:\ttest: 0.7394983\tbest: 0.7395008 (871)\ttotal: 59s\tremaining: 31.1s\n",
      "1200:\ttest: 0.7396833\tbest: 0.7396863 (1154)\ttotal: 1m 19s\tremaining: 11.5s\n"
     ]
    },
    {
     "name": "stderr",
     "output_type": "stream",
     "text": [
      "[I 2025-02-19 04:33:30,587] Trial 17 finished with value: 0.7397138723520061 and parameters: {'iterations': 1375, 'depth': 6, 'learning_rate': 0.05569222845771202, 'l2_leaf_reg': 82.28314308299458}. Best is trial 16 with value: 0.7399727916693665.\n"
     ]
    },
    {
     "name": "stdout",
     "output_type": "stream",
     "text": [
      "1374:\ttest: 0.7396965\tbest: 0.7397139 (1369)\ttotal: 1m 30s\tremaining: 0us\n",
      "\n",
      "bestTest = 0.7397138724\n",
      "bestIteration = 1369\n",
      "\n",
      "Shrink model to first 1370 iterations.\n",
      "0:\ttest: 0.7182630\tbest: 0.7182630 (0)\ttotal: 64.5ms\tremaining: 1m 7s\n",
      "300:\ttest: 0.7390786\tbest: 0.7391147 (286)\ttotal: 21.8s\tremaining: 54.3s\n",
      "600:\ttest: 0.7390431\tbest: 0.7392765 (446)\ttotal: 45.1s\tremaining: 33.8s\n"
     ]
    },
    {
     "name": "stderr",
     "output_type": "stream",
     "text": [
      "[I 2025-02-19 04:34:27,164] Trial 18 finished with value: 0.7392764878178775 and parameters: {'iterations': 1051, 'depth': 7, 'learning_rate': 0.0851781096625635, 'l2_leaf_reg': 19.650153750871564}. Best is trial 16 with value: 0.7399727916693665.\n"
     ]
    },
    {
     "name": "stdout",
     "output_type": "stream",
     "text": [
      "Stopped by overfitting detector  (300 iterations wait)\n",
      "\n",
      "bestTest = 0.7392764878\n",
      "bestIteration = 446\n",
      "\n",
      "Shrink model to first 447 iterations.\n",
      "0:\ttest: 0.7182081\tbest: 0.7182081 (0)\ttotal: 56.7ms\tremaining: 1m 20s\n",
      "300:\ttest: 0.7387795\tbest: 0.7387830 (296)\ttotal: 18.8s\tremaining: 1m 9s\n",
      "600:\ttest: 0.7393077\tbest: 0.7393087 (566)\ttotal: 39.2s\tremaining: 53.2s\n",
      "900:\ttest: 0.7391458\tbest: 0.7393184 (604)\ttotal: 59.7s\tremaining: 34.1s\n"
     ]
    },
    {
     "name": "stderr",
     "output_type": "stream",
     "text": [
      "[I 2025-02-19 04:35:27,349] Trial 19 finished with value: 0.7393184165603648 and parameters: {'iterations': 1416, 'depth': 6, 'learning_rate': 0.053618224441212545, 'l2_leaf_reg': 3.506704610357116}. Best is trial 16 with value: 0.7399727916693665.\n",
      "[I 2025-02-19 04:35:27,353] A new study created in memory with name: no-name-849abe70-33b7-4b83-9597-0a2de8edfbd7\n"
     ]
    },
    {
     "name": "stdout",
     "output_type": "stream",
     "text": [
      "Stopped by overfitting detector  (300 iterations wait)\n",
      "\n",
      "bestTest = 0.7393184166\n",
      "bestIteration = 604\n",
      "\n",
      "Shrink model to first 605 iterations.\n"
     ]
    },
    {
     "name": "stderr",
     "output_type": "stream",
     "text": [
      "[I 2025-02-19 04:35:47,146] Trial 0 finished with value: 0.7390596997781311 and parameters: {'objective': 'binary', 'metric': 'auc', 'random_state': 42, 'verbose': -1, 'learning_rate': 0.015355286838886862, 'n_estimators': 1907, 'min_child_samples': 40, 'subsample': 0.8, 'colsample_bytree': 0.5}. Best is trial 0 with value: 0.7390596997781311.\n",
      "[I 2025-02-19 04:35:49,233] Trial 1 finished with value: 0.7332467788217771 and parameters: {'objective': 'binary', 'metric': 'auc', 'random_state': 42, 'verbose': -1, 'learning_rate': 0.00797854234707418, 'n_estimators': 210, 'min_child_samples': 45, 'subsample': 0.8, 'colsample_bytree': 0.9}. Best is trial 0 with value: 0.7390596997781311.\n",
      "[I 2025-02-19 04:36:07,958] Trial 2 finished with value: 0.7391447327610956 and parameters: {'objective': 'binary', 'metric': 'auc', 'random_state': 42, 'verbose': -1, 'learning_rate': 0.005318033256270142, 'n_estimators': 1943, 'min_child_samples': 45, 'subsample': 0.6, 'colsample_bytree': 0.6}. Best is trial 2 with value: 0.7391447327610956.\n",
      "[I 2025-02-19 04:36:14,797] Trial 3 finished with value: 0.7383826407349481 and parameters: {'objective': 'binary', 'metric': 'auc', 'random_state': 42, 'verbose': -1, 'learning_rate': 0.008661333735273127, 'n_estimators': 678, 'min_child_samples': 30, 'subsample': 0.7, 'colsample_bytree': 0.6}. Best is trial 2 with value: 0.7391447327610956.\n",
      "[I 2025-02-19 04:36:18,089] Trial 4 finished with value: 0.7386565833931712 and parameters: {'objective': 'binary', 'metric': 'auc', 'random_state': 42, 'verbose': -1, 'learning_rate': 0.03126143958203108, 'n_estimators': 365, 'min_child_samples': 20, 'subsample': 0.7, 'colsample_bytree': 0.7}. Best is trial 2 with value: 0.7391447327610956.\n",
      "[I 2025-02-19 04:36:23,265] Trial 5 finished with value: 0.7386302855969266 and parameters: {'objective': 'binary', 'metric': 'auc', 'random_state': 42, 'verbose': -1, 'learning_rate': 0.05254210669345883, 'n_estimators': 479, 'min_child_samples': 30, 'subsample': 0.8, 'colsample_bytree': 0.5}. Best is trial 2 with value: 0.7391447327610956.\n",
      "[I 2025-02-19 04:36:26,950] Trial 6 finished with value: 0.7382102078879315 and parameters: {'objective': 'binary', 'metric': 'auc', 'random_state': 42, 'verbose': -1, 'learning_rate': 0.030860579740535368, 'n_estimators': 424, 'min_child_samples': 10, 'subsample': 1.0, 'colsample_bytree': 1.0}. Best is trial 2 with value: 0.7391447327610956.\n",
      "[I 2025-02-19 04:36:32,492] Trial 7 finished with value: 0.7371161568179765 and parameters: {'objective': 'binary', 'metric': 'auc', 'random_state': 42, 'verbose': -1, 'learning_rate': 0.05632733481673016, 'n_estimators': 679, 'min_child_samples': 10, 'subsample': 0.9, 'colsample_bytree': 0.7}. Best is trial 2 with value: 0.7391447327610956.\n",
      "[I 2025-02-19 04:36:42,829] Trial 8 finished with value: 0.7388588405304019 and parameters: {'objective': 'binary', 'metric': 'auc', 'random_state': 42, 'verbose': -1, 'learning_rate': 0.007206848764305203, 'n_estimators': 1041, 'min_child_samples': 10, 'subsample': 1.0, 'colsample_bytree': 0.6}. Best is trial 2 with value: 0.7391447327610956.\n",
      "[I 2025-02-19 04:36:49,250] Trial 9 finished with value: 0.7381748118960968 and parameters: {'objective': 'binary', 'metric': 'auc', 'random_state': 42, 'verbose': -1, 'learning_rate': 0.036385753170854684, 'n_estimators': 692, 'min_child_samples': 30, 'subsample': 0.8, 'colsample_bytree': 0.6}. Best is trial 2 with value: 0.7391447327610956.\n",
      "[I 2025-02-19 04:37:04,099] Trial 10 finished with value: 0.7381183721074787 and parameters: {'objective': 'binary', 'metric': 'auc', 'random_state': 42, 'verbose': -1, 'learning_rate': 0.015894131971030474, 'n_estimators': 1873, 'min_child_samples': 50, 'subsample': 0.5, 'colsample_bytree': 0.8}. Best is trial 2 with value: 0.7391447327610956.\n",
      "[I 2025-02-19 04:37:24,543] Trial 11 finished with value: 0.7390488621632184 and parameters: {'objective': 'binary', 'metric': 'auc', 'random_state': 42, 'verbose': -1, 'learning_rate': 0.015423665558445133, 'n_estimators': 1976, 'min_child_samples': 40, 'subsample': 0.5, 'colsample_bytree': 0.5}. Best is trial 2 with value: 0.7391447327610956.\n",
      "[I 2025-02-19 04:37:42,158] Trial 12 finished with value: 0.7391668329175591 and parameters: {'objective': 'binary', 'metric': 'auc', 'random_state': 42, 'verbose': -1, 'learning_rate': 0.005185870664499657, 'n_estimators': 1574, 'min_child_samples': 40, 'subsample': 0.6, 'colsample_bytree': 0.5}. Best is trial 12 with value: 0.7391668329175591.\n",
      "[I 2025-02-19 04:37:57,463] Trial 13 finished with value: 0.738959536229825 and parameters: {'objective': 'binary', 'metric': 'auc', 'random_state': 42, 'verbose': -1, 'learning_rate': 0.0051662573186964005, 'n_estimators': 1550, 'min_child_samples': 40, 'subsample': 0.6, 'colsample_bytree': 0.6}. Best is trial 12 with value: 0.7391668329175591.\n",
      "[I 2025-02-19 04:38:09,830] Trial 14 finished with value: 0.738742565511337 and parameters: {'objective': 'binary', 'metric': 'auc', 'random_state': 42, 'verbose': -1, 'learning_rate': 0.005994651912381298, 'n_estimators': 1410, 'min_child_samples': 50, 'subsample': 0.6, 'colsample_bytree': 0.8}. Best is trial 12 with value: 0.7391668329175591.\n",
      "[I 2025-02-19 04:38:25,577] Trial 15 finished with value: 0.7305052990893401 and parameters: {'objective': 'binary', 'metric': 'auc', 'random_state': 42, 'verbose': -1, 'learning_rate': 0.0902334606102013, 'n_estimators': 1567, 'min_child_samples': 35, 'subsample': 0.6, 'colsample_bytree': 0.5}. Best is trial 12 with value: 0.7391668329175591.\n",
      "[I 2025-02-19 04:38:36,038] Trial 16 finished with value: 0.7389707908288219 and parameters: {'objective': 'binary', 'metric': 'auc', 'random_state': 42, 'verbose': -1, 'learning_rate': 0.010981849541328218, 'n_estimators': 1218, 'min_child_samples': 45, 'subsample': 0.6, 'colsample_bytree': 0.7}. Best is trial 12 with value: 0.7391668329175591.\n",
      "[I 2025-02-19 04:38:52,176] Trial 17 finished with value: 0.7392003425528223 and parameters: {'objective': 'binary', 'metric': 'auc', 'random_state': 42, 'verbose': -1, 'learning_rate': 0.010103486434085585, 'n_estimators': 1739, 'min_child_samples': 20, 'subsample': 0.5, 'colsample_bytree': 0.6}. Best is trial 17 with value: 0.7392003425528223.\n",
      "[I 2025-02-19 04:39:09,831] Trial 18 finished with value: 0.7394204902929044 and parameters: {'objective': 'binary', 'metric': 'auc', 'random_state': 42, 'verbose': -1, 'learning_rate': 0.011042882942242765, 'n_estimators': 1658, 'min_child_samples': 20, 'subsample': 0.5, 'colsample_bytree': 0.5}. Best is trial 18 with value: 0.7394204902929044.\n",
      "[I 2025-02-19 04:39:18,762] Trial 19 finished with value: 0.7390193118911169 and parameters: {'objective': 'binary', 'metric': 'auc', 'random_state': 42, 'verbose': -1, 'learning_rate': 0.011177271515266114, 'n_estimators': 1026, 'min_child_samples': 20, 'subsample': 0.5, 'colsample_bytree': 0.7}. Best is trial 18 with value: 0.7394204902929044.\n"
     ]
    },
    {
     "name": "stdout",
     "output_type": "stream",
     "text": [
      "Cat val score : 0.7399727916693665\n",
      "LGBM val score : 0.7394204902929044\n",
      "Ensemble val score : 0.7400389690291704\n"
     ]
    },
    {
     "name": "stderr",
     "output_type": "stream",
     "text": [
      "[I 2025-02-19 04:39:37,445] A new study created in memory with name: no-name-08f1c82d-a253-47b6-a71a-321d5dbb0783\n"
     ]
    },
    {
     "name": "stdout",
     "output_type": "stream",
     "text": [
      "==================================================\n",
      "0:\ttest: 0.7297690\tbest: 0.7297690 (0)\ttotal: 97ms\tremaining: 2m 49s\n",
      "300:\ttest: 0.7444685\tbest: 0.7462746 (203)\ttotal: 39.3s\tremaining: 3m 9s\n"
     ]
    },
    {
     "name": "stderr",
     "output_type": "stream",
     "text": [
      "[I 2025-02-19 04:40:46,301] Trial 0 finished with value: 0.7462746416124288 and parameters: {'iterations': 1749, 'depth': 10, 'learning_rate': 0.07453942447208349, 'l2_leaf_reg': 0.39079671568228835}. Best is trial 0 with value: 0.7462746416124288.\n"
     ]
    },
    {
     "name": "stdout",
     "output_type": "stream",
     "text": [
      "Stopped by overfitting detector  (300 iterations wait)\n",
      "\n",
      "bestTest = 0.7462746416\n",
      "bestIteration = 203\n",
      "\n",
      "Shrink model to first 204 iterations.\n",
      "저장 완료\n",
      "0:\ttest: 0.6985797\tbest: 0.6985797 (0)\ttotal: 54.1ms\tremaining: 1m 10s\n",
      "300:\ttest: 0.7403623\tbest: 0.7403623 (300)\ttotal: 15.7s\tremaining: 52.9s\n",
      "600:\ttest: 0.7437262\tbest: 0.7437262 (600)\ttotal: 31.8s\tremaining: 37.6s\n",
      "900:\ttest: 0.7449615\tbest: 0.7449615 (900)\ttotal: 48s\tremaining: 21.9s\n",
      "1200:\ttest: 0.7456848\tbest: 0.7456848 (1199)\ttotal: 1m 4s\tremaining: 5.93s\n"
     ]
    },
    {
     "name": "stderr",
     "output_type": "stream",
     "text": [
      "[I 2025-02-19 04:41:56,685] Trial 1 finished with value: 0.7459018031921414 and parameters: {'iterations': 1312, 'depth': 5, 'learning_rate': 0.010517943155978949, 'l2_leaf_reg': 15.741890047456648}. Best is trial 0 with value: 0.7462746416124288.\n"
     ]
    },
    {
     "name": "stdout",
     "output_type": "stream",
     "text": [
      "1311:\ttest: 0.7459013\tbest: 0.7459018 (1299)\ttotal: 1m 10s\tremaining: 0us\n",
      "\n",
      "bestTest = 0.7459018032\n",
      "bestIteration = 1299\n",
      "\n",
      "Shrink model to first 1300 iterations.\n",
      "0:\ttest: 0.7217727\tbest: 0.7217727 (0)\ttotal: 72ms\tremaining: 2m 38s\n",
      "300:\ttest: 0.7408610\tbest: 0.7408610 (300)\ttotal: 23.4s\tremaining: 2m 27s\n",
      "600:\ttest: 0.7441012\tbest: 0.7441012 (600)\ttotal: 47.5s\tremaining: 2m 6s\n",
      "900:\ttest: 0.7453220\tbest: 0.7453233 (899)\ttotal: 1m 11s\tremaining: 1m 42s\n",
      "1200:\ttest: 0.7458331\tbest: 0.7458335 (1199)\ttotal: 1m 34s\tremaining: 1m 18s\n",
      "1500:\ttest: 0.7462160\tbest: 0.7462194 (1497)\ttotal: 1m 57s\tremaining: 54.8s\n",
      "1800:\ttest: 0.7464598\tbest: 0.7464627 (1790)\ttotal: 2m 21s\tremaining: 31.4s\n",
      "2100:\ttest: 0.7465586\tbest: 0.7465586 (2100)\ttotal: 2m 45s\tremaining: 7.97s\n"
     ]
    },
    {
     "name": "stderr",
     "output_type": "stream",
     "text": [
      "[I 2025-02-19 04:44:52,033] Trial 2 finished with value: 0.7465658028739622 and parameters: {'iterations': 2202, 'depth': 8, 'learning_rate': 0.006955526958101232, 'l2_leaf_reg': 65.98711072054076}. Best is trial 2 with value: 0.7465658028739622.\n"
     ]
    },
    {
     "name": "stdout",
     "output_type": "stream",
     "text": [
      "2201:\ttest: 0.7465652\tbest: 0.7465658 (2187)\ttotal: 2m 54s\tremaining: 0us\n",
      "\n",
      "bestTest = 0.7465658029\n",
      "bestIteration = 2187\n",
      "\n",
      "Shrink model to first 2188 iterations.\n",
      "저장 완료\n",
      "0:\ttest: 0.6986038\tbest: 0.6986038 (0)\ttotal: 52.3ms\tremaining: 2m 19s\n",
      "300:\ttest: 0.7440508\tbest: 0.7440508 (300)\ttotal: 15.1s\tremaining: 1m 58s\n",
      "600:\ttest: 0.7459191\tbest: 0.7459191 (600)\ttotal: 31.1s\tremaining: 1m 46s\n",
      "900:\ttest: 0.7466772\tbest: 0.7466784 (898)\ttotal: 48s\tremaining: 1m 33s\n",
      "1200:\ttest: 0.7468531\tbest: 0.7468531 (1200)\ttotal: 1m 4s\tremaining: 1m 18s\n",
      "1500:\ttest: 0.7467692\tbest: 0.7468756 (1208)\ttotal: 1m 21s\tremaining: 1m 3s\n"
     ]
    },
    {
     "name": "stderr",
     "output_type": "stream",
     "text": [
      "[I 2025-02-19 04:46:14,767] Trial 3 finished with value: 0.7468755796501166 and parameters: {'iterations': 2665, 'depth': 5, 'learning_rate': 0.02227337188467456, 'l2_leaf_reg': 0.0012601639723276807}. Best is trial 3 with value: 0.7468755796501166.\n"
     ]
    },
    {
     "name": "stdout",
     "output_type": "stream",
     "text": [
      "Stopped by overfitting detector  (300 iterations wait)\n",
      "\n",
      "bestTest = 0.7468755797\n",
      "bestIteration = 1208\n",
      "\n",
      "Shrink model to first 1209 iterations.\n",
      "저장 완료\n",
      "0:\ttest: 0.7201496\tbest: 0.7201496 (0)\ttotal: 64.3ms\tremaining: 1m 43s\n",
      "300:\ttest: 0.7459333\tbest: 0.7459333 (300)\ttotal: 21.3s\tremaining: 1m 32s\n",
      "600:\ttest: 0.7459618\tbest: 0.7460567 (368)\ttotal: 44.6s\tremaining: 1m 14s\n"
     ]
    },
    {
     "name": "stderr",
     "output_type": "stream",
     "text": [
      "[I 2025-02-19 04:47:04,929] Trial 4 finished with value: 0.7460567432017395 and parameters: {'iterations': 1608, 'depth': 7, 'learning_rate': 0.046034776771001, 'l2_leaf_reg': 0.005589524205217926}. Best is trial 3 with value: 0.7468755796501166.\n"
     ]
    },
    {
     "name": "stdout",
     "output_type": "stream",
     "text": [
      "Stopped by overfitting detector  (300 iterations wait)\n",
      "\n",
      "bestTest = 0.7460567432\n",
      "bestIteration = 368\n",
      "\n",
      "Shrink model to first 369 iterations.\n",
      "0:\ttest: 0.6939678\tbest: 0.6939678 (0)\ttotal: 44.7ms\tremaining: 1m 39s\n",
      "300:\ttest: 0.7443097\tbest: 0.7443097 (300)\ttotal: 13.1s\tremaining: 1m 23s\n",
      "600:\ttest: 0.7462734\tbest: 0.7462859 (595)\ttotal: 26.8s\tremaining: 1m 12s\n",
      "900:\ttest: 0.7467068\tbest: 0.7467115 (881)\ttotal: 41s\tremaining: 1m\n"
     ]
    },
    {
     "name": "stderr",
     "output_type": "stream",
     "text": [
      "[I 2025-02-19 04:47:58,854] Trial 5 finished with value: 0.7467115463110642 and parameters: {'iterations': 2224, 'depth': 4, 'learning_rate': 0.032753741610845724, 'l2_leaf_reg': 0.01578232781079559}. Best is trial 3 with value: 0.7468755796501166.\n"
     ]
    },
    {
     "name": "stdout",
     "output_type": "stream",
     "text": [
      "Stopped by overfitting detector  (300 iterations wait)\n",
      "\n",
      "bestTest = 0.7467115463\n",
      "bestIteration = 881\n",
      "\n",
      "Shrink model to first 882 iterations.\n",
      "0:\ttest: 0.7279451\tbest: 0.7279451 (0)\ttotal: 81.5ms\tremaining: 2m 35s\n",
      "300:\ttest: 0.7453979\tbest: 0.7454042 (299)\ttotal: 26.1s\tremaining: 2m 19s\n",
      "600:\ttest: 0.7457509\tbest: 0.7457521 (590)\ttotal: 54.1s\tremaining: 1m 58s\n",
      "900:\ttest: 0.7454636\tbest: 0.7459336 (649)\ttotal: 1m 24s\tremaining: 1m 35s\n"
     ]
    },
    {
     "name": "stderr",
     "output_type": "stream",
     "text": [
      "[I 2025-02-19 04:49:28,793] Trial 6 finished with value: 0.7459335782237108 and parameters: {'iterations': 1912, 'depth': 9, 'learning_rate': 0.023969009305044177, 'l2_leaf_reg': 0.12173252504194051}. Best is trial 3 with value: 0.7468755796501166.\n"
     ]
    },
    {
     "name": "stdout",
     "output_type": "stream",
     "text": [
      "Stopped by overfitting detector  (300 iterations wait)\n",
      "\n",
      "bestTest = 0.7459335782\n",
      "bestIteration = 649\n",
      "\n",
      "Shrink model to first 650 iterations.\n",
      "0:\ttest: 0.6939679\tbest: 0.6939679 (0)\ttotal: 43.5ms\tremaining: 1m 34s\n",
      "300:\ttest: 0.7457103\tbest: 0.7457110 (299)\ttotal: 13.1s\tremaining: 1m 22s\n",
      "600:\ttest: 0.7463572\tbest: 0.7464193 (548)\ttotal: 26.9s\tremaining: 1m 10s\n"
     ]
    },
    {
     "name": "stderr",
     "output_type": "stream",
     "text": [
      "[I 2025-02-19 04:50:07,306] Trial 7 finished with value: 0.7464193208520226 and parameters: {'iterations': 2185, 'depth': 4, 'learning_rate': 0.06271676093063665, 'l2_leaf_reg': 0.0010547383621352044}. Best is trial 3 with value: 0.7468755796501166.\n"
     ]
    },
    {
     "name": "stdout",
     "output_type": "stream",
     "text": [
      "Stopped by overfitting detector  (300 iterations wait)\n",
      "\n",
      "bestTest = 0.7464193209\n",
      "bestIteration = 548\n",
      "\n",
      "Shrink model to first 549 iterations.\n",
      "0:\ttest: 0.7297657\tbest: 0.7297657 (0)\ttotal: 95.6ms\tremaining: 1m 47s\n",
      "300:\ttest: 0.7443702\tbest: 0.7460396 (169)\ttotal: 39.7s\tremaining: 1m 49s\n"
     ]
    },
    {
     "name": "stderr",
     "output_type": "stream",
     "text": [
      "[I 2025-02-19 04:51:11,517] Trial 8 finished with value: 0.746039620740339 and parameters: {'iterations': 1130, 'depth': 10, 'learning_rate': 0.09673504314208314, 'l2_leaf_reg': 7.085721663941605}. Best is trial 3 with value: 0.7468755796501166.\n"
     ]
    },
    {
     "name": "stdout",
     "output_type": "stream",
     "text": [
      "Stopped by overfitting detector  (300 iterations wait)\n",
      "\n",
      "bestTest = 0.7460396207\n",
      "bestIteration = 169\n",
      "\n",
      "Shrink model to first 170 iterations.\n",
      "0:\ttest: 0.6939678\tbest: 0.6939678 (0)\ttotal: 45.2ms\tremaining: 1m 12s\n",
      "300:\ttest: 0.7463319\tbest: 0.7463319 (300)\ttotal: 13.4s\tremaining: 58.2s\n",
      "600:\ttest: 0.7465027\tbest: 0.7465780 (462)\ttotal: 27.1s\tremaining: 45.4s\n"
     ]
    },
    {
     "name": "stderr",
     "output_type": "stream",
     "text": [
      "[I 2025-02-19 04:51:46,321] Trial 9 finished with value: 0.7465779895237856 and parameters: {'iterations': 1609, 'depth': 4, 'learning_rate': 0.07000213751865492, 'l2_leaf_reg': 0.04374364439939081}. Best is trial 3 with value: 0.7468755796501166.\n"
     ]
    },
    {
     "name": "stdout",
     "output_type": "stream",
     "text": [
      "Stopped by overfitting detector  (300 iterations wait)\n",
      "\n",
      "bestTest = 0.7465779895\n",
      "bestIteration = 462\n",
      "\n",
      "Shrink model to first 463 iterations.\n",
      "0:\ttest: 0.7161176\tbest: 0.7161176 (0)\ttotal: 59.8ms\tremaining: 2m 52s\n",
      "300:\ttest: 0.7459791\tbest: 0.7459887 (297)\ttotal: 18.5s\tremaining: 2m 39s\n",
      "600:\ttest: 0.7464684\tbest: 0.7465554 (518)\ttotal: 38.2s\tremaining: 2m 25s\n"
     ]
    },
    {
     "name": "stderr",
     "output_type": "stream",
     "text": [
      "[I 2025-02-19 04:52:39,308] Trial 10 finished with value: 0.7465554428318022 and parameters: {'iterations': 2891, 'depth': 6, 'learning_rate': 0.04002923340850424, 'l2_leaf_reg': 0.00012816553469185968}. Best is trial 3 with value: 0.7468755796501166.\n"
     ]
    },
    {
     "name": "stdout",
     "output_type": "stream",
     "text": [
      "Stopped by overfitting detector  (300 iterations wait)\n",
      "\n",
      "bestTest = 0.7465554428\n",
      "bestIteration = 518\n",
      "\n",
      "Shrink model to first 519 iterations.\n",
      "0:\ttest: 0.6986038\tbest: 0.6986038 (0)\ttotal: 50ms\tremaining: 2m 11s\n",
      "300:\ttest: 0.7447431\tbest: 0.7447431 (300)\ttotal: 15.5s\tremaining: 2m\n",
      "600:\ttest: 0.7461865\tbest: 0.7462020 (599)\ttotal: 32.4s\tremaining: 1m 49s\n",
      "900:\ttest: 0.7464944\tbest: 0.7465087 (893)\ttotal: 49.4s\tremaining: 1m 35s\n",
      "1200:\ttest: 0.7464302\tbest: 0.7465410 (967)\ttotal: 1m 6s\tremaining: 1m 20s\n"
     ]
    },
    {
     "name": "stderr",
     "output_type": "stream",
     "text": [
      "[I 2025-02-19 04:53:50,155] Trial 11 finished with value: 0.746540992776831 and parameters: {'iterations': 2643, 'depth': 5, 'learning_rate': 0.02926712858269389, 'l2_leaf_reg': 0.00479333817463658}. Best is trial 3 with value: 0.7468755796501166.\n"
     ]
    },
    {
     "name": "stdout",
     "output_type": "stream",
     "text": [
      "Stopped by overfitting detector  (300 iterations wait)\n",
      "\n",
      "bestTest = 0.7465409928\n",
      "bestIteration = 967\n",
      "\n",
      "Shrink model to first 968 iterations.\n",
      "0:\ttest: 0.7161176\tbest: 0.7161176 (0)\ttotal: 58.8ms\tremaining: 2m 26s\n",
      "300:\ttest: 0.7447063\tbest: 0.7447063 (300)\ttotal: 18.3s\tremaining: 2m 12s\n",
      "600:\ttest: 0.7461702\tbest: 0.7461702 (600)\ttotal: 37.4s\tremaining: 1m 57s\n",
      "900:\ttest: 0.7461854\tbest: 0.7463304 (746)\ttotal: 57.3s\tremaining: 1m 41s\n"
     ]
    },
    {
     "name": "stderr",
     "output_type": "stream",
     "text": [
      "[I 2025-02-19 04:54:57,354] Trial 12 finished with value: 0.7463303928550225 and parameters: {'iterations': 2490, 'depth': 6, 'learning_rate': 0.02549036133390126, 'l2_leaf_reg': 0.00011330390824985123}. Best is trial 3 with value: 0.7468755796501166.\n"
     ]
    },
    {
     "name": "stdout",
     "output_type": "stream",
     "text": [
      "Stopped by overfitting detector  (300 iterations wait)\n",
      "\n",
      "bestTest = 0.7463303929\n",
      "bestIteration = 746\n",
      "\n",
      "Shrink model to first 747 iterations.\n",
      "0:\ttest: 0.6939678\tbest: 0.6939678 (0)\ttotal: 42.9ms\tremaining: 1m 46s\n",
      "300:\ttest: 0.7446534\tbest: 0.7446534 (300)\ttotal: 12.9s\tremaining: 1m 33s\n",
      "600:\ttest: 0.7463462\tbest: 0.7463462 (600)\ttotal: 26.4s\tremaining: 1m 22s\n",
      "900:\ttest: 0.7464453\tbest: 0.7465240 (822)\ttotal: 40.1s\tremaining: 1m 10s\n"
     ]
    },
    {
     "name": "stderr",
     "output_type": "stream",
     "text": [
      "[I 2025-02-19 04:55:47,827] Trial 13 finished with value: 0.7465240251799932 and parameters: {'iterations': 2490, 'depth': 4, 'learning_rate': 0.03753901940508687, 'l2_leaf_reg': 0.008836133639122057}. Best is trial 3 with value: 0.7468755796501166.\n"
     ]
    },
    {
     "name": "stdout",
     "output_type": "stream",
     "text": [
      "Stopped by overfitting detector  (300 iterations wait)\n",
      "\n",
      "bestTest = 0.7465240252\n",
      "bestIteration = 822\n",
      "\n",
      "Shrink model to first 823 iterations.\n",
      "0:\ttest: 0.6986038\tbest: 0.6986038 (0)\ttotal: 51.5ms\tremaining: 2m 31s\n",
      "300:\ttest: 0.7432124\tbest: 0.7432124 (300)\ttotal: 15.2s\tremaining: 2m 13s\n",
      "600:\ttest: 0.7453224\tbest: 0.7453224 (600)\ttotal: 31.4s\tremaining: 2m 2s\n",
      "900:\ttest: 0.7464221\tbest: 0.7464221 (900)\ttotal: 48.2s\tremaining: 1m 49s\n",
      "1200:\ttest: 0.7465790\tbest: 0.7465901 (1139)\ttotal: 1m 5s\tremaining: 1m 34s\n",
      "1500:\ttest: 0.7465507\tbest: 0.7466391 (1283)\ttotal: 1m 22s\tremaining: 1m 18s\n"
     ]
    },
    {
     "name": "stderr",
     "output_type": "stream",
     "text": [
      "[I 2025-02-19 04:57:14,726] Trial 14 finished with value: 0.746639057783034 and parameters: {'iterations': 2946, 'depth': 5, 'learning_rate': 0.018618197681913723, 'l2_leaf_reg': 0.0007615231559767447}. Best is trial 3 with value: 0.7468755796501166.\n"
     ]
    },
    {
     "name": "stdout",
     "output_type": "stream",
     "text": [
      "Stopped by overfitting detector  (300 iterations wait)\n",
      "\n",
      "bestTest = 0.7466390578\n",
      "bestIteration = 1283\n",
      "\n",
      "Shrink model to first 1284 iterations.\n",
      "0:\ttest: 0.7161176\tbest: 0.7161176 (0)\ttotal: 58ms\tremaining: 2m 8s\n",
      "300:\ttest: 0.7466197\tbest: 0.7467066 (282)\ttotal: 18.8s\tremaining: 1m 59s\n",
      "600:\ttest: 0.7465616\tbest: 0.7467776 (389)\ttotal: 38.8s\tremaining: 1m 44s\n"
     ]
    },
    {
     "name": "stderr",
     "output_type": "stream",
     "text": [
      "[I 2025-02-19 04:57:59,667] Trial 15 finished with value: 0.7467775821489795 and parameters: {'iterations': 2216, 'depth': 6, 'learning_rate': 0.054182769936289676, 'l2_leaf_reg': 0.7965345598945988}. Best is trial 3 with value: 0.7468755796501166.\n"
     ]
    },
    {
     "name": "stdout",
     "output_type": "stream",
     "text": [
      "Stopped by overfitting detector  (300 iterations wait)\n",
      "\n",
      "bestTest = 0.7467775821\n",
      "bestIteration = 389\n",
      "\n",
      "Shrink model to first 390 iterations.\n",
      "0:\ttest: 0.7201495\tbest: 0.7201495 (0)\ttotal: 63.1ms\tremaining: 2m 45s\n",
      "300:\ttest: 0.7466417\tbest: 0.7466417 (299)\ttotal: 21.6s\tremaining: 2m 46s\n",
      "600:\ttest: 0.7469654\tbest: 0.7470915 (583)\ttotal: 44.7s\tremaining: 2m 30s\n"
     ]
    },
    {
     "name": "stderr",
     "output_type": "stream",
     "text": [
      "[I 2025-02-19 04:59:06,940] Trial 16 finished with value: 0.747091500559466 and parameters: {'iterations': 2621, 'depth': 7, 'learning_rate': 0.05411512802690858, 'l2_leaf_reg': 0.8271390033231544}. Best is trial 16 with value: 0.747091500559466.\n"
     ]
    },
    {
     "name": "stdout",
     "output_type": "stream",
     "text": [
      "Stopped by overfitting detector  (300 iterations wait)\n",
      "\n",
      "bestTest = 0.7470915006\n",
      "bestIteration = 583\n",
      "\n",
      "Shrink model to first 584 iterations.\n",
      "저장 완료\n",
      "0:\ttest: 0.7217891\tbest: 0.7217891 (0)\ttotal: 74.3ms\tremaining: 3m 20s\n",
      "300:\ttest: 0.7467650\tbest: 0.7469601 (222)\ttotal: 25.8s\tremaining: 3m 24s\n"
     ]
    },
    {
     "name": "stderr",
     "output_type": "stream",
     "text": [
      "[I 2025-02-19 04:59:52,901] Trial 17 finished with value: 0.7469601237887249 and parameters: {'iterations': 2694, 'depth': 8, 'learning_rate': 0.087054491373927, 'l2_leaf_reg': 1.4144205905074143}. Best is trial 16 with value: 0.747091500559466.\n"
     ]
    },
    {
     "name": "stdout",
     "output_type": "stream",
     "text": [
      "Stopped by overfitting detector  (300 iterations wait)\n",
      "\n",
      "bestTest = 0.7469601238\n",
      "bestIteration = 222\n",
      "\n",
      "Shrink model to first 223 iterations.\n",
      "0:\ttest: 0.7217894\tbest: 0.7217894 (0)\ttotal: 71.6ms\tremaining: 3m 15s\n",
      "300:\ttest: 0.7461365\tbest: 0.7465259 (219)\ttotal: 25.5s\tremaining: 3m 25s\n"
     ]
    },
    {
     "name": "stderr",
     "output_type": "stream",
     "text": [
      "[I 2025-02-19 05:00:38,346] Trial 18 finished with value: 0.746525895467405 and parameters: {'iterations': 2731, 'depth': 8, 'learning_rate': 0.09183848173899832, 'l2_leaf_reg': 2.650003635115149}. Best is trial 16 with value: 0.747091500559466.\n"
     ]
    },
    {
     "name": "stdout",
     "output_type": "stream",
     "text": [
      "Stopped by overfitting detector  (300 iterations wait)\n",
      "\n",
      "bestTest = 0.7465258955\n",
      "bestIteration = 219\n",
      "\n",
      "Shrink model to first 220 iterations.\n",
      "0:\ttest: 0.7217891\tbest: 0.7217891 (0)\ttotal: 74.6ms\tremaining: 3m 3s\n",
      "300:\ttest: 0.7460883\tbest: 0.7465669 (190)\ttotal: 25.9s\tremaining: 3m 6s\n"
     ]
    },
    {
     "name": "stderr",
     "output_type": "stream",
     "text": [
      "[I 2025-02-19 05:01:22,025] Trial 19 finished with value: 0.746566894867674 and parameters: {'iterations': 2460, 'depth': 8, 'learning_rate': 0.08426765728904428, 'l2_leaf_reg': 1.2321927899474612}. Best is trial 16 with value: 0.747091500559466.\n",
      "[I 2025-02-19 05:01:22,028] A new study created in memory with name: no-name-f3e8f4b8-73cf-4608-b8cd-04e2a67fd2c4\n"
     ]
    },
    {
     "name": "stdout",
     "output_type": "stream",
     "text": [
      "Stopped by overfitting detector  (300 iterations wait)\n",
      "\n",
      "bestTest = 0.7465668949\n",
      "bestIteration = 190\n",
      "\n",
      "Shrink model to first 191 iterations.\n"
     ]
    },
    {
     "name": "stderr",
     "output_type": "stream",
     "text": [
      "[I 2025-02-19 05:01:41,990] Trial 0 finished with value: 0.7460864216053823 and parameters: {'objective': 'binary', 'metric': 'auc', 'random_state': 42, 'verbose': -1, 'learning_rate': 0.015355286838886862, 'n_estimators': 1907, 'min_child_samples': 40, 'subsample': 0.8, 'colsample_bytree': 0.5}. Best is trial 0 with value: 0.7460864216053823.\n",
      "[I 2025-02-19 05:01:44,076] Trial 1 finished with value: 0.7411255021145922 and parameters: {'objective': 'binary', 'metric': 'auc', 'random_state': 42, 'verbose': -1, 'learning_rate': 0.00797854234707418, 'n_estimators': 210, 'min_child_samples': 45, 'subsample': 0.8, 'colsample_bytree': 0.9}. Best is trial 0 with value: 0.7460864216053823.\n",
      "[I 2025-02-19 05:02:02,969] Trial 2 finished with value: 0.7467081710577732 and parameters: {'objective': 'binary', 'metric': 'auc', 'random_state': 42, 'verbose': -1, 'learning_rate': 0.005318033256270142, 'n_estimators': 1943, 'min_child_samples': 45, 'subsample': 0.6, 'colsample_bytree': 0.6}. Best is trial 2 with value: 0.7467081710577732.\n",
      "[I 2025-02-19 05:02:10,022] Trial 3 finished with value: 0.7459376920618395 and parameters: {'objective': 'binary', 'metric': 'auc', 'random_state': 42, 'verbose': -1, 'learning_rate': 0.008661333735273127, 'n_estimators': 678, 'min_child_samples': 30, 'subsample': 0.7, 'colsample_bytree': 0.6}. Best is trial 2 with value: 0.7467081710577732.\n",
      "[I 2025-02-19 05:02:13,373] Trial 4 finished with value: 0.7460184360623308 and parameters: {'objective': 'binary', 'metric': 'auc', 'random_state': 42, 'verbose': -1, 'learning_rate': 0.03126143958203108, 'n_estimators': 365, 'min_child_samples': 20, 'subsample': 0.7, 'colsample_bytree': 0.7}. Best is trial 2 with value: 0.7467081710577732.\n",
      "[I 2025-02-19 05:02:18,671] Trial 5 finished with value: 0.7450895147351487 and parameters: {'objective': 'binary', 'metric': 'auc', 'random_state': 42, 'verbose': -1, 'learning_rate': 0.05254210669345883, 'n_estimators': 479, 'min_child_samples': 30, 'subsample': 0.8, 'colsample_bytree': 0.5}. Best is trial 2 with value: 0.7467081710577732.\n",
      "[I 2025-02-19 05:02:22,407] Trial 6 finished with value: 0.7461019001198859 and parameters: {'objective': 'binary', 'metric': 'auc', 'random_state': 42, 'verbose': -1, 'learning_rate': 0.030860579740535368, 'n_estimators': 424, 'min_child_samples': 10, 'subsample': 1.0, 'colsample_bytree': 1.0}. Best is trial 2 with value: 0.7467081710577732.\n",
      "[I 2025-02-19 05:02:28,076] Trial 7 finished with value: 0.7435947024120974 and parameters: {'objective': 'binary', 'metric': 'auc', 'random_state': 42, 'verbose': -1, 'learning_rate': 0.05632733481673016, 'n_estimators': 679, 'min_child_samples': 10, 'subsample': 0.9, 'colsample_bytree': 0.7}. Best is trial 2 with value: 0.7467081710577732.\n",
      "[I 2025-02-19 05:02:38,493] Trial 8 finished with value: 0.7464870602001282 and parameters: {'objective': 'binary', 'metric': 'auc', 'random_state': 42, 'verbose': -1, 'learning_rate': 0.007206848764305203, 'n_estimators': 1041, 'min_child_samples': 10, 'subsample': 1.0, 'colsample_bytree': 0.6}. Best is trial 2 with value: 0.7467081710577732.\n",
      "[I 2025-02-19 05:02:44,908] Trial 9 finished with value: 0.745654750534791 and parameters: {'objective': 'binary', 'metric': 'auc', 'random_state': 42, 'verbose': -1, 'learning_rate': 0.036385753170854684, 'n_estimators': 692, 'min_child_samples': 30, 'subsample': 0.8, 'colsample_bytree': 0.6}. Best is trial 2 with value: 0.7467081710577732.\n",
      "[I 2025-02-19 05:02:59,568] Trial 10 finished with value: 0.745454149304496 and parameters: {'objective': 'binary', 'metric': 'auc', 'random_state': 42, 'verbose': -1, 'learning_rate': 0.015894131971030474, 'n_estimators': 1873, 'min_child_samples': 50, 'subsample': 0.5, 'colsample_bytree': 0.8}. Best is trial 2 with value: 0.7467081710577732.\n",
      "[I 2025-02-19 05:03:12,802] Trial 11 finished with value: 0.7464232480584987 and parameters: {'objective': 'binary', 'metric': 'auc', 'random_state': 42, 'verbose': -1, 'learning_rate': 0.0054932202901173555, 'n_estimators': 1329, 'min_child_samples': 20, 'subsample': 0.5, 'colsample_bytree': 0.6}. Best is trial 2 with value: 0.7467081710577732.\n",
      "[I 2025-02-19 05:03:23,958] Trial 12 finished with value: 0.7463464312644836 and parameters: {'objective': 'binary', 'metric': 'auc', 'random_state': 42, 'verbose': -1, 'learning_rate': 0.005247354763459572, 'n_estimators': 1273, 'min_child_samples': 40, 'subsample': 0.6, 'colsample_bytree': 0.8}. Best is trial 2 with value: 0.7467081710577732.\n",
      "[I 2025-02-19 05:03:37,991] Trial 13 finished with value: 0.7463438621010963 and parameters: {'objective': 'binary', 'metric': 'auc', 'random_state': 42, 'verbose': -1, 'learning_rate': 0.010031606831238936, 'n_estimators': 1484, 'min_child_samples': 20, 'subsample': 1.0, 'colsample_bytree': 0.6}. Best is trial 2 with value: 0.7467081710577732.\n",
      "[I 2025-02-19 05:03:48,541] Trial 14 finished with value: 0.7467345178878736 and parameters: {'objective': 'binary', 'metric': 'auc', 'random_state': 42, 'verbose': -1, 'learning_rate': 0.014790680152586035, 'n_estimators': 962, 'min_child_samples': 40, 'subsample': 0.6, 'colsample_bytree': 0.5}. Best is trial 14 with value: 0.7467345178878736.\n",
      "[I 2025-02-19 05:03:58,565] Trial 15 finished with value: 0.7409997957693797 and parameters: {'objective': 'binary', 'metric': 'auc', 'random_state': 42, 'verbose': -1, 'learning_rate': 0.0902334606102013, 'n_estimators': 986, 'min_child_samples': 40, 'subsample': 0.6, 'colsample_bytree': 0.5}. Best is trial 14 with value: 0.7467345178878736.\n",
      "[I 2025-02-19 05:04:15,923] Trial 16 finished with value: 0.7465256413306866 and parameters: {'objective': 'binary', 'metric': 'auc', 'random_state': 42, 'verbose': -1, 'learning_rate': 0.014053180012269552, 'n_estimators': 1640, 'min_child_samples': 50, 'subsample': 0.6, 'colsample_bytree': 0.5}. Best is trial 14 with value: 0.7467345178878736.\n",
      "[I 2025-02-19 05:04:23,636] Trial 17 finished with value: 0.7462831631342669 and parameters: {'objective': 'binary', 'metric': 'auc', 'random_state': 42, 'verbose': -1, 'learning_rate': 0.019919183876440906, 'n_estimators': 922, 'min_child_samples': 35, 'subsample': 0.6, 'colsample_bytree': 0.7}. Best is trial 14 with value: 0.7467345178878736.\n",
      "[I 2025-02-19 05:04:41,962] Trial 18 finished with value: 0.7466067625653692 and parameters: {'objective': 'binary', 'metric': 'auc', 'random_state': 42, 'verbose': -1, 'learning_rate': 0.011495929397172403, 'n_estimators': 1716, 'min_child_samples': 45, 'subsample': 0.5, 'colsample_bytree': 0.5}. Best is trial 14 with value: 0.7467345178878736.\n",
      "[I 2025-02-19 05:04:51,874] Trial 19 finished with value: 0.7455428866989575 and parameters: {'objective': 'binary', 'metric': 'auc', 'random_state': 42, 'verbose': -1, 'learning_rate': 0.023020119511241898, 'n_estimators': 1220, 'min_child_samples': 45, 'subsample': 0.7, 'colsample_bytree': 0.7}. Best is trial 14 with value: 0.7467345178878736.\n"
     ]
    },
    {
     "name": "stdout",
     "output_type": "stream",
     "text": [
      "Cat val score : 0.747091500559466\n",
      "LGBM val score : 0.7467345178878735\n",
      "Ensemble val score : 0.7472725213497875\n"
     ]
    },
    {
     "name": "stderr",
     "output_type": "stream",
     "text": [
      "[I 2025-02-19 05:05:03,258] A new study created in memory with name: no-name-758ad3c9-f82c-4961-9258-6a74e225cc0f\n"
     ]
    },
    {
     "name": "stdout",
     "output_type": "stream",
     "text": [
      "==================================================\n",
      "0:\ttest: 0.7260086\tbest: 0.7260086 (0)\ttotal: 108ms\tremaining: 3m 9s\n",
      "300:\ttest: 0.7381757\tbest: 0.7415295 (146)\ttotal: 41.9s\tremaining: 3m 21s\n"
     ]
    },
    {
     "name": "stderr",
     "output_type": "stream",
     "text": [
      "[I 2025-02-19 05:06:07,532] Trial 0 finished with value: 0.7415294603702219 and parameters: {'iterations': 1749, 'depth': 10, 'learning_rate': 0.07453942447208349, 'l2_leaf_reg': 0.39079671568228835}. Best is trial 0 with value: 0.7415294603702219.\n"
     ]
    },
    {
     "name": "stdout",
     "output_type": "stream",
     "text": [
      "Stopped by overfitting detector  (300 iterations wait)\n",
      "\n",
      "bestTest = 0.7415294604\n",
      "bestIteration = 146\n",
      "\n",
      "Shrink model to first 147 iterations.\n",
      "저장 완료\n",
      "0:\ttest: 0.7076346\tbest: 0.7076346 (0)\ttotal: 57.8ms\tremaining: 1m 15s\n",
      "300:\ttest: 0.7384420\tbest: 0.7384420 (300)\ttotal: 16.5s\tremaining: 55.4s\n",
      "600:\ttest: 0.7407366\tbest: 0.7407366 (600)\ttotal: 33.2s\tremaining: 39.3s\n",
      "900:\ttest: 0.7415938\tbest: 0.7415938 (900)\ttotal: 50.4s\tremaining: 23s\n",
      "1200:\ttest: 0.7421477\tbest: 0.7421477 (1200)\ttotal: 1m 7s\tremaining: 6.21s\n"
     ]
    },
    {
     "name": "stderr",
     "output_type": "stream",
     "text": [
      "[I 2025-02-19 05:07:21,206] Trial 1 finished with value: 0.7423174747997237 and parameters: {'iterations': 1312, 'depth': 5, 'learning_rate': 0.010517943155978949, 'l2_leaf_reg': 15.741890047456648}. Best is trial 1 with value: 0.7423174747997237.\n"
     ]
    },
    {
     "name": "stdout",
     "output_type": "stream",
     "text": [
      "1311:\ttest: 0.7423109\tbest: 0.7423175 (1300)\ttotal: 1m 13s\tremaining: 0us\n",
      "\n",
      "bestTest = 0.7423174748\n",
      "bestIteration = 1300\n",
      "\n",
      "Shrink model to first 1301 iterations.\n",
      "저장 완료\n",
      "0:\ttest: 0.7234872\tbest: 0.7234872 (0)\ttotal: 74.5ms\tremaining: 2m 43s\n",
      "300:\ttest: 0.7392587\tbest: 0.7392587 (300)\ttotal: 24.7s\tremaining: 2m 35s\n",
      "600:\ttest: 0.7415441\tbest: 0.7415441 (600)\ttotal: 50s\tremaining: 2m 13s\n",
      "900:\ttest: 0.7423582\tbest: 0.7423586 (899)\ttotal: 1m 15s\tremaining: 1m 48s\n",
      "1200:\ttest: 0.7427680\tbest: 0.7427701 (1198)\ttotal: 1m 40s\tremaining: 1m 23s\n",
      "1500:\ttest: 0.7429570\tbest: 0.7429601 (1495)\ttotal: 2m 3s\tremaining: 57.9s\n",
      "1800:\ttest: 0.7431262\tbest: 0.7431331 (1787)\ttotal: 2m 27s\tremaining: 32.9s\n",
      "2100:\ttest: 0.7432416\tbest: 0.7432416 (2099)\ttotal: 2m 53s\tremaining: 8.34s\n"
     ]
    },
    {
     "name": "stderr",
     "output_type": "stream",
     "text": [
      "[I 2025-02-19 05:10:24,242] Trial 2 finished with value: 0.7432660877516934 and parameters: {'iterations': 2202, 'depth': 8, 'learning_rate': 0.006955526958101232, 'l2_leaf_reg': 65.98711072054076}. Best is trial 2 with value: 0.7432660877516934.\n"
     ]
    },
    {
     "name": "stdout",
     "output_type": "stream",
     "text": [
      "2201:\ttest: 0.7432655\tbest: 0.7432661 (2188)\ttotal: 3m 2s\tremaining: 0us\n",
      "\n",
      "bestTest = 0.7432660878\n",
      "bestIteration = 2188\n",
      "\n",
      "Shrink model to first 2189 iterations.\n",
      "저장 완료\n",
      "0:\ttest: 0.7076340\tbest: 0.7076340 (0)\ttotal: 56.7ms\tremaining: 2m 30s\n",
      "300:\ttest: 0.7409259\tbest: 0.7409259 (300)\ttotal: 16.3s\tremaining: 2m 8s\n",
      "600:\ttest: 0.7422579\tbest: 0.7422579 (600)\ttotal: 33.2s\tremaining: 1m 54s\n",
      "900:\ttest: 0.7427349\tbest: 0.7427354 (873)\ttotal: 51s\tremaining: 1m 39s\n",
      "1200:\ttest: 0.7427870\tbest: 0.7428408 (973)\ttotal: 1m 8s\tremaining: 1m 23s\n"
     ]
    },
    {
     "name": "stderr",
     "output_type": "stream",
     "text": [
      "[I 2025-02-19 05:11:36,941] Trial 3 finished with value: 0.7428407621572891 and parameters: {'iterations': 2665, 'depth': 5, 'learning_rate': 0.02227337188467456, 'l2_leaf_reg': 0.0012601639723276807}. Best is trial 2 with value: 0.7432660877516934.\n"
     ]
    },
    {
     "name": "stdout",
     "output_type": "stream",
     "text": [
      "Stopped by overfitting detector  (300 iterations wait)\n",
      "\n",
      "bestTest = 0.7428407622\n",
      "bestIteration = 973\n",
      "\n",
      "Shrink model to first 974 iterations.\n",
      "0:\ttest: 0.7232378\tbest: 0.7232378 (0)\ttotal: 65.2ms\tremaining: 1m 44s\n",
      "300:\ttest: 0.7422366\tbest: 0.7422508 (294)\ttotal: 21.8s\tremaining: 1m 34s\n",
      "600:\ttest: 0.7415009\tbest: 0.7424577 (393)\ttotal: 44.7s\tremaining: 1m 14s\n"
     ]
    },
    {
     "name": "stderr",
     "output_type": "stream",
     "text": [
      "[I 2025-02-19 05:12:29,459] Trial 4 finished with value: 0.7424577384138356 and parameters: {'iterations': 1608, 'depth': 7, 'learning_rate': 0.046034776771001, 'l2_leaf_reg': 0.005589524205217926}. Best is trial 2 with value: 0.7432660877516934.\n"
     ]
    },
    {
     "name": "stdout",
     "output_type": "stream",
     "text": [
      "Stopped by overfitting detector  (300 iterations wait)\n",
      "\n",
      "bestTest = 0.7424577384\n",
      "bestIteration = 393\n",
      "\n",
      "Shrink model to first 394 iterations.\n",
      "0:\ttest: 0.7010852\tbest: 0.7010852 (0)\ttotal: 66.5ms\tremaining: 2m 27s\n",
      "300:\ttest: 0.7408151\tbest: 0.7408151 (300)\ttotal: 13.9s\tremaining: 1m 28s\n",
      "600:\ttest: 0.7422327\tbest: 0.7422392 (599)\ttotal: 27.2s\tremaining: 1m 13s\n",
      "900:\ttest: 0.7425091\tbest: 0.7425720 (861)\ttotal: 40.8s\tremaining: 59.9s\n",
      "1200:\ttest: 0.7426046\tbest: 0.7426147 (1169)\ttotal: 54.5s\tremaining: 46.5s\n",
      "1500:\ttest: 0.7426954\tbest: 0.7427627 (1392)\ttotal: 1m 8s\tremaining: 33s\n"
     ]
    },
    {
     "name": "stderr",
     "output_type": "stream",
     "text": [
      "[I 2025-02-19 05:13:47,020] Trial 5 finished with value: 0.7427627461556341 and parameters: {'iterations': 2224, 'depth': 4, 'learning_rate': 0.032753741610845724, 'l2_leaf_reg': 0.01578232781079559}. Best is trial 2 with value: 0.7432660877516934.\n"
     ]
    },
    {
     "name": "stdout",
     "output_type": "stream",
     "text": [
      "Stopped by overfitting detector  (300 iterations wait)\n",
      "\n",
      "bestTest = 0.7427627462\n",
      "bestIteration = 1392\n",
      "\n",
      "Shrink model to first 1393 iterations.\n",
      "0:\ttest: 0.7252973\tbest: 0.7252973 (0)\ttotal: 84.3ms\tremaining: 2m 41s\n",
      "300:\ttest: 0.7423506\tbest: 0.7423698 (299)\ttotal: 26.6s\tremaining: 2m 22s\n",
      "600:\ttest: 0.7425063\tbest: 0.7427283 (514)\ttotal: 54.4s\tremaining: 1m 58s\n"
     ]
    },
    {
     "name": "stderr",
     "output_type": "stream",
     "text": [
      "[I 2025-02-19 05:15:03,295] Trial 6 finished with value: 0.7427283106302943 and parameters: {'iterations': 1912, 'depth': 9, 'learning_rate': 0.023969009305044177, 'l2_leaf_reg': 0.12173252504194051}. Best is trial 2 with value: 0.7432660877516934.\n"
     ]
    },
    {
     "name": "stdout",
     "output_type": "stream",
     "text": [
      "Stopped by overfitting detector  (300 iterations wait)\n",
      "\n",
      "bestTest = 0.7427283106\n",
      "bestIteration = 514\n",
      "\n",
      "Shrink model to first 515 iterations.\n",
      "0:\ttest: 0.7010852\tbest: 0.7010852 (0)\ttotal: 43.3ms\tremaining: 1m 34s\n",
      "300:\ttest: 0.7423892\tbest: 0.7423917 (299)\ttotal: 13.1s\tremaining: 1m 21s\n",
      "600:\ttest: 0.7429079\tbest: 0.7430053 (587)\ttotal: 26.8s\tremaining: 1m 10s\n",
      "900:\ttest: 0.7429713\tbest: 0.7430803 (805)\ttotal: 40.5s\tremaining: 57.7s\n"
     ]
    },
    {
     "name": "stderr",
     "output_type": "stream",
     "text": [
      "[I 2025-02-19 05:15:53,546] Trial 7 finished with value: 0.7430803376358786 and parameters: {'iterations': 2185, 'depth': 4, 'learning_rate': 0.06271676093063665, 'l2_leaf_reg': 0.0010547383621352044}. Best is trial 2 with value: 0.7432660877516934.\n"
     ]
    },
    {
     "name": "stdout",
     "output_type": "stream",
     "text": [
      "Stopped by overfitting detector  (300 iterations wait)\n",
      "\n",
      "bestTest = 0.7430803376\n",
      "bestIteration = 805\n",
      "\n",
      "Shrink model to first 806 iterations.\n",
      "0:\ttest: 0.7260317\tbest: 0.7260317 (0)\ttotal: 97.7ms\tremaining: 1m 50s\n",
      "300:\ttest: 0.7403989\tbest: 0.7421650 (139)\ttotal: 40.4s\tremaining: 1m 51s\n"
     ]
    },
    {
     "name": "stderr",
     "output_type": "stream",
     "text": [
      "[I 2025-02-19 05:16:54,079] Trial 8 finished with value: 0.742165036448447 and parameters: {'iterations': 1130, 'depth': 10, 'learning_rate': 0.09673504314208314, 'l2_leaf_reg': 7.085721663941605}. Best is trial 2 with value: 0.7432660877516934.\n"
     ]
    },
    {
     "name": "stdout",
     "output_type": "stream",
     "text": [
      "Stopped by overfitting detector  (300 iterations wait)\n",
      "\n",
      "bestTest = 0.7421650364\n",
      "bestIteration = 139\n",
      "\n",
      "Shrink model to first 140 iterations.\n",
      "0:\ttest: 0.7010852\tbest: 0.7010852 (0)\ttotal: 42.9ms\tremaining: 1m 9s\n",
      "300:\ttest: 0.7422286\tbest: 0.7422461 (299)\ttotal: 13.5s\tremaining: 58.6s\n",
      "600:\ttest: 0.7426394\tbest: 0.7427174 (542)\ttotal: 27.5s\tremaining: 46.1s\n",
      "900:\ttest: 0.7427039\tbest: 0.7427935 (649)\ttotal: 41.8s\tremaining: 32.8s\n"
     ]
    },
    {
     "name": "stderr",
     "output_type": "stream",
     "text": [
      "[I 2025-02-19 05:17:38,351] Trial 9 finished with value: 0.7427935165529886 and parameters: {'iterations': 1609, 'depth': 4, 'learning_rate': 0.07000213751865492, 'l2_leaf_reg': 0.04374364439939081}. Best is trial 2 with value: 0.7432660877516934.\n"
     ]
    },
    {
     "name": "stdout",
     "output_type": "stream",
     "text": [
      "Stopped by overfitting detector  (300 iterations wait)\n",
      "\n",
      "bestTest = 0.7427935166\n",
      "bestIteration = 649\n",
      "\n",
      "Shrink model to first 650 iterations.\n",
      "0:\ttest: 0.7248944\tbest: 0.7248944 (0)\ttotal: 72.9ms\tremaining: 3m 31s\n",
      "300:\ttest: 0.7384454\tbest: 0.7384454 (300)\ttotal: 23s\tremaining: 3m 19s\n",
      "600:\ttest: 0.7409708\tbest: 0.7409708 (600)\ttotal: 46.8s\tremaining: 2m 59s\n",
      "900:\ttest: 0.7419768\tbest: 0.7419768 (900)\ttotal: 1m 10s\tremaining: 2m 36s\n",
      "1200:\ttest: 0.7424574\tbest: 0.7424574 (1200)\ttotal: 1m 33s\tremaining: 2m 12s\n",
      "1500:\ttest: 0.7427976\tbest: 0.7428004 (1496)\ttotal: 1m 56s\tremaining: 1m 49s\n",
      "1800:\ttest: 0.7429965\tbest: 0.7429965 (1799)\ttotal: 2m 19s\tremaining: 1m 25s\n",
      "2100:\ttest: 0.7431398\tbest: 0.7431412 (2096)\ttotal: 2m 42s\tremaining: 1m 2s\n",
      "2400:\ttest: 0.7432606\tbest: 0.7432623 (2390)\ttotal: 3m 5s\tremaining: 39.3s\n",
      "2700:\ttest: 0.7433148\tbest: 0.7433150 (2686)\ttotal: 3m 32s\tremaining: 16.3s\n"
     ]
    },
    {
     "name": "stderr",
     "output_type": "stream",
     "text": [
      "[I 2025-02-19 05:21:29,210] Trial 10 finished with value: 0.7433348952681935 and parameters: {'iterations': 2908, 'depth': 8, 'learning_rate': 0.005716995335047832, 'l2_leaf_reg': 53.77119408946009}. Best is trial 10 with value: 0.7433348952681935.\n"
     ]
    },
    {
     "name": "stdout",
     "output_type": "stream",
     "text": [
      "2907:\ttest: 0.7433300\tbest: 0.7433349 (2819)\ttotal: 3m 50s\tremaining: 0us\n",
      "\n",
      "bestTest = 0.7433348953\n",
      "bestIteration = 2819\n",
      "\n",
      "Shrink model to first 2820 iterations.\n",
      "저장 완료\n",
      "0:\ttest: 0.7235119\tbest: 0.7235119 (0)\ttotal: 74.2ms\tremaining: 3m 37s\n",
      "300:\ttest: 0.7388345\tbest: 0.7388345 (300)\ttotal: 22.2s\tremaining: 3m 14s\n",
      "600:\ttest: 0.7411378\tbest: 0.7411378 (600)\ttotal: 45.2s\tremaining: 2m 55s\n",
      "900:\ttest: 0.7421352\tbest: 0.7421352 (900)\ttotal: 1m 8s\tremaining: 2m 34s\n",
      "1200:\ttest: 0.7425570\tbest: 0.7425582 (1195)\ttotal: 1m 32s\tremaining: 2m 12s\n",
      "1500:\ttest: 0.7428230\tbest: 0.7428231 (1497)\ttotal: 1m 55s\tremaining: 1m 49s\n",
      "1800:\ttest: 0.7430370\tbest: 0.7430370 (1799)\ttotal: 2m 17s\tremaining: 1m 26s\n",
      "2100:\ttest: 0.7431610\tbest: 0.7431675 (2076)\ttotal: 2m 39s\tremaining: 1m 3s\n",
      "2400:\ttest: 0.7432247\tbest: 0.7432279 (2369)\ttotal: 3m 5s\tremaining: 40.8s\n",
      "2700:\ttest: 0.7432791\tbest: 0.7432799 (2697)\ttotal: 3m 31s\tremaining: 18s\n"
     ]
    },
    {
     "name": "stderr",
     "output_type": "stream",
     "text": [
      "[I 2025-02-19 05:25:21,345] Trial 11 finished with value: 0.7433436073925703 and parameters: {'iterations': 2930, 'depth': 8, 'learning_rate': 0.006402408540446873, 'l2_leaf_reg': 83.11832707510945}. Best is trial 11 with value: 0.7433436073925703.\n"
     ]
    },
    {
     "name": "stdout",
     "output_type": "stream",
     "text": [
      "2929:\ttest: 0.7433436\tbest: 0.7433436 (2928)\ttotal: 3m 51s\tremaining: 0us\n",
      "\n",
      "bestTest = 0.7433436074\n",
      "bestIteration = 2928\n",
      "\n",
      "Shrink model to first 2929 iterations.\n",
      "저장 완료\n",
      "0:\ttest: 0.7232376\tbest: 0.7232376 (0)\ttotal: 70ms\tremaining: 3m 25s\n",
      "300:\ttest: 0.7429674\tbest: 0.7429692 (294)\ttotal: 21s\tremaining: 3m 4s\n",
      "600:\ttest: 0.7432352\tbest: 0.7433406 (439)\ttotal: 43.9s\tremaining: 2m 51s\n"
     ]
    },
    {
     "name": "stderr",
     "output_type": "stream",
     "text": [
      "[I 2025-02-19 05:26:16,390] Trial 12 finished with value: 0.7433405815772671 and parameters: {'iterations': 2941, 'depth': 7, 'learning_rate': 0.04193178467290182, 'l2_leaf_reg': 1.5372567535251194}. Best is trial 11 with value: 0.7433436073925703.\n"
     ]
    },
    {
     "name": "stdout",
     "output_type": "stream",
     "text": [
      "Stopped by overfitting detector  (300 iterations wait)\n",
      "\n",
      "bestTest = 0.7433405816\n",
      "bestIteration = 439\n",
      "\n",
      "Shrink model to first 440 iterations.\n",
      "0:\ttest: 0.7232374\tbest: 0.7232374 (0)\ttotal: 63.9ms\tremaining: 3m 8s\n",
      "300:\ttest: 0.7431054\tbest: 0.7431601 (295)\ttotal: 21.7s\tremaining: 3m 10s\n",
      "600:\ttest: 0.7431044\tbest: 0.7434874 (410)\ttotal: 45.3s\tremaining: 2m 56s\n"
     ]
    },
    {
     "name": "stderr",
     "output_type": "stream",
     "text": [
      "[I 2025-02-19 05:27:10,293] Trial 13 finished with value: 0.743487385240991 and parameters: {'iterations': 2946, 'depth': 7, 'learning_rate': 0.04990783063250513, 'l2_leaf_reg': 1.960533580970319}. Best is trial 13 with value: 0.743487385240991.\n"
     ]
    },
    {
     "name": "stdout",
     "output_type": "stream",
     "text": [
      "Stopped by overfitting detector  (300 iterations wait)\n",
      "\n",
      "bestTest = 0.7434873852\n",
      "bestIteration = 410\n",
      "\n",
      "Shrink model to first 411 iterations.\n",
      "저장 완료\n",
      "0:\ttest: 0.7218364\tbest: 0.7218364 (0)\ttotal: 56.8ms\tremaining: 2m 30s\n",
      "300:\ttest: 0.7421655\tbest: 0.7424024 (214)\ttotal: 19.2s\tremaining: 2m 29s\n",
      "600:\ttest: 0.7422348\tbest: 0.7424274 (395)\ttotal: 39.4s\tremaining: 2m 14s\n"
     ]
    },
    {
     "name": "stderr",
     "output_type": "stream",
     "text": [
      "[I 2025-02-19 05:27:56,213] Trial 14 finished with value: 0.7424274246683968 and parameters: {'iterations': 2647, 'depth': 6, 'learning_rate': 0.08919876550690475, 'l2_leaf_reg': 1.844948141229625}. Best is trial 13 with value: 0.743487385240991.\n"
     ]
    },
    {
     "name": "stdout",
     "output_type": "stream",
     "text": [
      "Stopped by overfitting detector  (300 iterations wait)\n",
      "\n",
      "bestTest = 0.7424274247\n",
      "bestIteration = 395\n",
      "\n",
      "Shrink model to first 396 iterations.\n",
      "0:\ttest: 0.7250550\tbest: 0.7250550 (0)\ttotal: 71.2ms\tremaining: 3m 3s\n",
      "300:\ttest: 0.7431000\tbest: 0.7431000 (300)\ttotal: 24.4s\tremaining: 3m 5s\n",
      "600:\ttest: 0.7424294\tbest: 0.7432191 (326)\ttotal: 50.7s\tremaining: 2m 47s\n"
     ]
    },
    {
     "name": "stderr",
     "output_type": "stream",
     "text": [
      "[I 2025-02-19 05:28:49,352] Trial 15 finished with value: 0.7432190605461353 and parameters: {'iterations': 2583, 'depth': 8, 'learning_rate': 0.05993325883047469, 'l2_leaf_reg': 6.052143106376798}. Best is trial 13 with value: 0.743487385240991.\n"
     ]
    },
    {
     "name": "stdout",
     "output_type": "stream",
     "text": [
      "Stopped by overfitting detector  (300 iterations wait)\n",
      "\n",
      "bestTest = 0.7432190605\n",
      "bestIteration = 326\n",
      "\n",
      "Shrink model to first 327 iterations.\n",
      "0:\ttest: 0.7218364\tbest: 0.7218364 (0)\ttotal: 56ms\tremaining: 2m 14s\n",
      "300:\ttest: 0.7426953\tbest: 0.7428467 (265)\ttotal: 19.4s\tremaining: 2m 15s\n"
     ]
    },
    {
     "name": "stderr",
     "output_type": "stream",
     "text": [
      "[I 2025-02-19 05:29:26,800] Trial 16 finished with value: 0.7428466867195362 and parameters: {'iterations': 2403, 'depth': 6, 'learning_rate': 0.08030100044124366, 'l2_leaf_reg': 0.6089805165379185}. Best is trial 13 with value: 0.743487385240991.\n"
     ]
    },
    {
     "name": "stdout",
     "output_type": "stream",
     "text": [
      "Stopped by overfitting detector  (300 iterations wait)\n",
      "\n",
      "bestTest = 0.7428466867\n",
      "bestIteration = 265\n",
      "\n",
      "Shrink model to first 266 iterations.\n",
      "0:\ttest: 0.7252607\tbest: 0.7252607 (0)\ttotal: 83.2ms\tremaining: 4m 7s\n",
      "300:\ttest: 0.7430402\tbest: 0.7430654 (271)\ttotal: 27.1s\tremaining: 4m 1s\n",
      "600:\ttest: 0.7430324\tbest: 0.7432628 (400)\ttotal: 56.1s\tremaining: 3m 42s\n"
     ]
    },
    {
     "name": "stderr",
     "output_type": "stream",
     "text": [
      "[I 2025-02-19 05:30:33,105] Trial 17 finished with value: 0.7432628316249892 and parameters: {'iterations': 2981, 'depth': 9, 'learning_rate': 0.0368270528508292, 'l2_leaf_reg': 17.101422755179236}. Best is trial 13 with value: 0.743487385240991.\n"
     ]
    },
    {
     "name": "stdout",
     "output_type": "stream",
     "text": [
      "Stopped by overfitting detector  (300 iterations wait)\n",
      "\n",
      "bestTest = 0.7432628316\n",
      "bestIteration = 400\n",
      "\n",
      "Shrink model to first 401 iterations.\n",
      "0:\ttest: 0.7218054\tbest: 0.7218054 (0)\ttotal: 58.7ms\tremaining: 2m 40s\n",
      "300:\ttest: 0.7427818\tbest: 0.7427827 (299)\ttotal: 18.6s\tremaining: 2m 30s\n",
      "600:\ttest: 0.7431914\tbest: 0.7432207 (542)\ttotal: 37.7s\tremaining: 2m 13s\n",
      "900:\ttest: 0.7432416\tbest: 0.7432774 (853)\ttotal: 56.9s\tremaining: 1m 55s\n",
      "1200:\ttest: 0.7433618\tbest: 0.7433903 (1170)\ttotal: 1m 16s\tremaining: 1m 38s\n"
     ]
    },
    {
     "name": "stderr",
     "output_type": "stream",
     "text": [
      "[I 2025-02-19 05:32:07,611] Trial 18 finished with value: 0.7433902970727992 and parameters: {'iterations': 2737, 'depth': 6, 'learning_rate': 0.05222311239303098, 'l2_leaf_reg': 95.56330944462651}. Best is trial 13 with value: 0.743487385240991.\n"
     ]
    },
    {
     "name": "stdout",
     "output_type": "stream",
     "text": [
      "Stopped by overfitting detector  (300 iterations wait)\n",
      "\n",
      "bestTest = 0.7433902971\n",
      "bestIteration = 1170\n",
      "\n",
      "Shrink model to first 1171 iterations.\n",
      "0:\ttest: 0.7218364\tbest: 0.7218364 (0)\ttotal: 57.7ms\tremaining: 2m 22s\n",
      "300:\ttest: 0.7428428\tbest: 0.7428585 (297)\ttotal: 19.1s\tremaining: 2m 17s\n",
      "600:\ttest: 0.7430662\tbest: 0.7431021 (590)\ttotal: 39.4s\tremaining: 2m 2s\n",
      "900:\ttest: 0.7428276\tbest: 0.7431289 (695)\ttotal: 59.9s\tremaining: 1m 44s\n"
     ]
    },
    {
     "name": "stderr",
     "output_type": "stream",
     "text": [
      "[I 2025-02-19 05:33:14,100] Trial 19 finished with value: 0.7431288658364296 and parameters: {'iterations': 2471, 'depth': 6, 'learning_rate': 0.05282317867464301, 'l2_leaf_reg': 0.1643513848889381}. Best is trial 13 with value: 0.743487385240991.\n",
      "[I 2025-02-19 05:33:14,102] A new study created in memory with name: no-name-ce327963-97d8-4da8-b80f-0306ba3d138e\n"
     ]
    },
    {
     "name": "stdout",
     "output_type": "stream",
     "text": [
      "Stopped by overfitting detector  (300 iterations wait)\n",
      "\n",
      "bestTest = 0.7431288658\n",
      "bestIteration = 695\n",
      "\n",
      "Shrink model to first 696 iterations.\n"
     ]
    },
    {
     "name": "stderr",
     "output_type": "stream",
     "text": [
      "[I 2025-02-19 05:33:33,995] Trial 0 finished with value: 0.7414821750570593 and parameters: {'objective': 'binary', 'metric': 'auc', 'random_state': 42, 'verbose': -1, 'learning_rate': 0.015355286838886862, 'n_estimators': 1907, 'min_child_samples': 40, 'subsample': 0.8, 'colsample_bytree': 0.5}. Best is trial 0 with value: 0.7414821750570593.\n",
      "[I 2025-02-19 05:33:36,066] Trial 1 finished with value: 0.7399125194704465 and parameters: {'objective': 'binary', 'metric': 'auc', 'random_state': 42, 'verbose': -1, 'learning_rate': 0.00797854234707418, 'n_estimators': 210, 'min_child_samples': 45, 'subsample': 0.8, 'colsample_bytree': 0.9}. Best is trial 0 with value: 0.7414821750570593.\n",
      "[I 2025-02-19 05:33:54,788] Trial 2 finished with value: 0.7433325246491174 and parameters: {'objective': 'binary', 'metric': 'auc', 'random_state': 42, 'verbose': -1, 'learning_rate': 0.005318033256270142, 'n_estimators': 1943, 'min_child_samples': 45, 'subsample': 0.6, 'colsample_bytree': 0.6}. Best is trial 2 with value: 0.7433325246491174.\n",
      "[I 2025-02-19 05:34:01,685] Trial 3 finished with value: 0.7434959305881463 and parameters: {'objective': 'binary', 'metric': 'auc', 'random_state': 42, 'verbose': -1, 'learning_rate': 0.008661333735273127, 'n_estimators': 678, 'min_child_samples': 30, 'subsample': 0.7, 'colsample_bytree': 0.6}. Best is trial 3 with value: 0.7434959305881463.\n",
      "[I 2025-02-19 05:34:04,993] Trial 4 finished with value: 0.7428584246592161 and parameters: {'objective': 'binary', 'metric': 'auc', 'random_state': 42, 'verbose': -1, 'learning_rate': 0.03126143958203108, 'n_estimators': 365, 'min_child_samples': 20, 'subsample': 0.7, 'colsample_bytree': 0.7}. Best is trial 3 with value: 0.7434959305881463.\n",
      "[I 2025-02-19 05:34:10,170] Trial 5 finished with value: 0.7419832333935393 and parameters: {'objective': 'binary', 'metric': 'auc', 'random_state': 42, 'verbose': -1, 'learning_rate': 0.05254210669345883, 'n_estimators': 479, 'min_child_samples': 30, 'subsample': 0.8, 'colsample_bytree': 0.5}. Best is trial 3 with value: 0.7434959305881463.\n",
      "[I 2025-02-19 05:34:13,887] Trial 6 finished with value: 0.742468654380067 and parameters: {'objective': 'binary', 'metric': 'auc', 'random_state': 42, 'verbose': -1, 'learning_rate': 0.030860579740535368, 'n_estimators': 424, 'min_child_samples': 10, 'subsample': 1.0, 'colsample_bytree': 1.0}. Best is trial 3 with value: 0.7434959305881463.\n",
      "[I 2025-02-19 05:34:19,417] Trial 7 finished with value: 0.7399928346152254 and parameters: {'objective': 'binary', 'metric': 'auc', 'random_state': 42, 'verbose': -1, 'learning_rate': 0.05632733481673016, 'n_estimators': 679, 'min_child_samples': 10, 'subsample': 0.9, 'colsample_bytree': 0.7}. Best is trial 3 with value: 0.7434959305881463.\n",
      "[I 2025-02-19 05:34:29,746] Trial 8 finished with value: 0.7433342122757629 and parameters: {'objective': 'binary', 'metric': 'auc', 'random_state': 42, 'verbose': -1, 'learning_rate': 0.007206848764305203, 'n_estimators': 1041, 'min_child_samples': 10, 'subsample': 1.0, 'colsample_bytree': 0.6}. Best is trial 3 with value: 0.7434959305881463.\n",
      "[I 2025-02-19 05:34:36,137] Trial 9 finished with value: 0.7415074775440825 and parameters: {'objective': 'binary', 'metric': 'auc', 'random_state': 42, 'verbose': -1, 'learning_rate': 0.036385753170854684, 'n_estimators': 692, 'min_child_samples': 30, 'subsample': 0.8, 'colsample_bytree': 0.6}. Best is trial 3 with value: 0.7434959305881463.\n",
      "[I 2025-02-19 05:34:47,779] Trial 10 finished with value: 0.7419142948377939 and parameters: {'objective': 'binary', 'metric': 'auc', 'random_state': 42, 'verbose': -1, 'learning_rate': 0.01491283465543688, 'n_estimators': 1430, 'min_child_samples': 20, 'subsample': 0.5, 'colsample_bytree': 0.8}. Best is trial 3 with value: 0.7434959305881463.\n",
      "[I 2025-02-19 05:34:58,500] Trial 11 finished with value: 0.7430523111209053 and parameters: {'objective': 'binary', 'metric': 'auc', 'random_state': 42, 'verbose': -1, 'learning_rate': 0.0094774130099128, 'n_estimators': 1104, 'min_child_samples': 20, 'subsample': 1.0, 'colsample_bytree': 0.6}. Best is trial 3 with value: 0.7434959305881463.\n",
      "[I 2025-02-19 05:35:08,703] Trial 12 finished with value: 0.7434814487660852 and parameters: {'objective': 'binary', 'metric': 'auc', 'random_state': 42, 'verbose': -1, 'learning_rate': 0.005192914099575244, 'n_estimators': 1145, 'min_child_samples': 35, 'subsample': 0.6, 'colsample_bytree': 0.8}. Best is trial 3 with value: 0.7434959305881463.\n",
      "[I 2025-02-19 05:35:19,082] Trial 13 finished with value: 0.7434625155805663 and parameters: {'objective': 'binary', 'metric': 'auc', 'random_state': 42, 'verbose': -1, 'learning_rate': 0.005166500584930204, 'n_estimators': 1139, 'min_child_samples': 35, 'subsample': 0.6, 'colsample_bytree': 0.8}. Best is trial 3 with value: 0.7434959305881463.\n",
      "[I 2025-02-19 05:35:31,300] Trial 14 finished with value: 0.7417436142352014 and parameters: {'objective': 'binary', 'metric': 'auc', 'random_state': 42, 'verbose': -1, 'learning_rate': 0.013078263429628966, 'n_estimators': 1489, 'min_child_samples': 35, 'subsample': 0.6, 'colsample_bytree': 0.9}. Best is trial 3 with value: 0.7434959305881463.\n",
      "[I 2025-02-19 05:35:37,743] Trial 15 finished with value: 0.7366566627865284 and parameters: {'objective': 'binary', 'metric': 'auc', 'random_state': 42, 'verbose': -1, 'learning_rate': 0.0902334606102013, 'n_estimators': 807, 'min_child_samples': 50, 'subsample': 0.5, 'colsample_bytree': 0.7}. Best is trial 3 with value: 0.7434959305881463.\n",
      "[I 2025-02-19 05:35:49,274] Trial 16 finished with value: 0.7423704623055049 and parameters: {'objective': 'binary', 'metric': 'auc', 'random_state': 42, 'verbose': -1, 'learning_rate': 0.010519989510436362, 'n_estimators': 1387, 'min_child_samples': 25, 'subsample': 0.7, 'colsample_bytree': 0.9}. Best is trial 3 with value: 0.7434959305881463.\n",
      "[I 2025-02-19 05:35:56,091] Trial 17 finished with value: 0.7421940120052279 and parameters: {'objective': 'binary', 'metric': 'auc', 'random_state': 42, 'verbose': -1, 'learning_rate': 0.019919183876440906, 'n_estimators': 814, 'min_child_samples': 35, 'subsample': 0.7, 'colsample_bytree': 0.8}. Best is trial 3 with value: 0.7434959305881463.\n",
      "[I 2025-02-19 05:36:14,720] Trial 18 finished with value: 0.743312805228126 and parameters: {'objective': 'binary', 'metric': 'auc', 'random_state': 42, 'verbose': -1, 'learning_rate': 0.006254016440522753, 'n_estimators': 1692, 'min_child_samples': 30, 'subsample': 0.6, 'colsample_bytree': 0.5}. Best is trial 3 with value: 0.7434959305881463.\n",
      "[I 2025-02-19 05:36:22,797] Trial 19 finished with value: 0.7427828308981582 and parameters: {'objective': 'binary', 'metric': 'auc', 'random_state': 42, 'verbose': -1, 'learning_rate': 0.010294402716835998, 'n_estimators': 933, 'min_child_samples': 25, 'subsample': 0.5, 'colsample_bytree': 1.0}. Best is trial 3 with value: 0.7434959305881463.\n"
     ]
    },
    {
     "name": "stdout",
     "output_type": "stream",
     "text": [
      "Cat val score : 0.7434873852409909\n",
      "LGBM val score : 0.7434959305881463\n",
      "Ensemble val score : 0.7438515194786741\n"
     ]
    },
    {
     "name": "stderr",
     "output_type": "stream",
     "text": [
      "[I 2025-02-19 05:36:30,204] A new study created in memory with name: no-name-40f4e213-a743-427e-bd69-7da7b9be7433\n"
     ]
    },
    {
     "name": "stdout",
     "output_type": "stream",
     "text": [
      "==================================================\n",
      "0:\ttest: 0.7192571\tbest: 0.7192571 (0)\ttotal: 103ms\tremaining: 2m 59s\n",
      "300:\ttest: 0.7356363\tbest: 0.7363545 (179)\ttotal: 39.5s\tremaining: 3m 10s\n"
     ]
    },
    {
     "name": "stderr",
     "output_type": "stream",
     "text": [
      "[I 2025-02-19 05:37:35,715] Trial 0 finished with value: 0.7363544823157218 and parameters: {'iterations': 1749, 'depth': 10, 'learning_rate': 0.07453942447208349, 'l2_leaf_reg': 0.39079671568228835}. Best is trial 0 with value: 0.7363544823157218.\n"
     ]
    },
    {
     "name": "stdout",
     "output_type": "stream",
     "text": [
      "Stopped by overfitting detector  (300 iterations wait)\n",
      "\n",
      "bestTest = 0.7363544823\n",
      "bestIteration = 179\n",
      "\n",
      "Shrink model to first 180 iterations.\n",
      "저장 완료\n",
      "0:\ttest: 0.7023434\tbest: 0.7023434 (0)\ttotal: 52.2ms\tremaining: 1m 8s\n",
      "300:\ttest: 0.7309896\tbest: 0.7309896 (300)\ttotal: 15.5s\tremaining: 51.9s\n",
      "600:\ttest: 0.7340638\tbest: 0.7340638 (600)\ttotal: 31.3s\tremaining: 37.1s\n",
      "900:\ttest: 0.7351602\tbest: 0.7351604 (898)\ttotal: 47.7s\tremaining: 21.7s\n",
      "1200:\ttest: 0.7357976\tbest: 0.7357976 (1200)\ttotal: 1m 4s\tremaining: 5.95s\n"
     ]
    },
    {
     "name": "stderr",
     "output_type": "stream",
     "text": [
      "[I 2025-02-19 05:38:46,575] Trial 1 finished with value: 0.7360465003801409 and parameters: {'iterations': 1312, 'depth': 5, 'learning_rate': 0.010517943155978949, 'l2_leaf_reg': 15.741890047456648}. Best is trial 0 with value: 0.7363544823157218.\n"
     ]
    },
    {
     "name": "stdout",
     "output_type": "stream",
     "text": [
      "1311:\ttest: 0.7360465\tbest: 0.7360465 (1311)\ttotal: 1m 10s\tremaining: 0us\n",
      "\n",
      "bestTest = 0.7360465004\n",
      "bestIteration = 1311\n",
      "\n",
      "0:\ttest: 0.7159571\tbest: 0.7159571 (0)\ttotal: 71.4ms\tremaining: 2m 37s\n",
      "300:\ttest: 0.7313574\tbest: 0.7313574 (300)\ttotal: 23.9s\tremaining: 2m 30s\n",
      "600:\ttest: 0.7342273\tbest: 0.7342273 (600)\ttotal: 47.6s\tremaining: 2m 6s\n",
      "900:\ttest: 0.7353615\tbest: 0.7353615 (900)\ttotal: 1m 10s\tremaining: 1m 42s\n",
      "1200:\ttest: 0.7359481\tbest: 0.7359481 (1200)\ttotal: 1m 33s\tremaining: 1m 17s\n",
      "1500:\ttest: 0.7363201\tbest: 0.7363201 (1500)\ttotal: 1m 55s\tremaining: 54.1s\n",
      "1800:\ttest: 0.7365889\tbest: 0.7365898 (1798)\ttotal: 2m 18s\tremaining: 30.8s\n",
      "2100:\ttest: 0.7367139\tbest: 0.7367139 (2099)\ttotal: 2m 42s\tremaining: 7.83s\n"
     ]
    },
    {
     "name": "stderr",
     "output_type": "stream",
     "text": [
      "[I 2025-02-19 05:41:38,833] Trial 2 finished with value: 0.7367743201453636 and parameters: {'iterations': 2202, 'depth': 8, 'learning_rate': 0.006955526958101232, 'l2_leaf_reg': 65.98711072054076}. Best is trial 2 with value: 0.7367743201453636.\n"
     ]
    },
    {
     "name": "stdout",
     "output_type": "stream",
     "text": [
      "2201:\ttest: 0.7367743\tbest: 0.7367743 (2201)\ttotal: 2m 51s\tremaining: 0us\n",
      "\n",
      "bestTest = 0.7367743201\n",
      "bestIteration = 2201\n",
      "\n",
      "저장 완료\n",
      "0:\ttest: 0.7023468\tbest: 0.7023468 (0)\ttotal: 53.2ms\tremaining: 2m 21s\n",
      "300:\ttest: 0.7341615\tbest: 0.7341615 (300)\ttotal: 15.6s\tremaining: 2m 2s\n",
      "600:\ttest: 0.7359425\tbest: 0.7359425 (600)\ttotal: 31.8s\tremaining: 1m 49s\n",
      "900:\ttest: 0.7365263\tbest: 0.7366501 (795)\ttotal: 48.6s\tremaining: 1m 35s\n",
      "1200:\ttest: 0.7367946\tbest: 0.7368099 (1168)\ttotal: 1m 5s\tremaining: 1m 19s\n",
      "1500:\ttest: 0.7368745\tbest: 0.7368755 (1499)\ttotal: 1m 22s\tremaining: 1m 3s\n",
      "1800:\ttest: 0.7370169\tbest: 0.7370169 (1800)\ttotal: 1m 39s\tremaining: 47.6s\n",
      "2100:\ttest: 0.7370215\tbest: 0.7371418 (1916)\ttotal: 1m 56s\tremaining: 31.2s\n"
     ]
    },
    {
     "name": "stderr",
     "output_type": "stream",
     "text": [
      "[I 2025-02-19 05:43:41,981] Trial 3 finished with value: 0.7371417700730443 and parameters: {'iterations': 2665, 'depth': 5, 'learning_rate': 0.02227337188467456, 'l2_leaf_reg': 0.0012601639723276807}. Best is trial 3 with value: 0.7371417700730443.\n"
     ]
    },
    {
     "name": "stdout",
     "output_type": "stream",
     "text": [
      "Stopped by overfitting detector  (300 iterations wait)\n",
      "\n",
      "bestTest = 0.7371417701\n",
      "bestIteration = 1916\n",
      "\n",
      "Shrink model to first 1917 iterations.\n",
      "저장 완료\n",
      "0:\ttest: 0.7158585\tbest: 0.7158585 (0)\ttotal: 62.8ms\tremaining: 1m 40s\n",
      "300:\ttest: 0.7364597\tbest: 0.7365133 (298)\ttotal: 21.4s\tremaining: 1m 32s\n",
      "600:\ttest: 0.7367796\tbest: 0.7368936 (547)\ttotal: 44.7s\tremaining: 1m 14s\n"
     ]
    },
    {
     "name": "stderr",
     "output_type": "stream",
     "text": [
      "[I 2025-02-19 05:44:46,389] Trial 4 finished with value: 0.7368935896840061 and parameters: {'iterations': 1608, 'depth': 7, 'learning_rate': 0.046034776771001, 'l2_leaf_reg': 0.005589524205217926}. Best is trial 3 with value: 0.7371417700730443.\n"
     ]
    },
    {
     "name": "stdout",
     "output_type": "stream",
     "text": [
      "Stopped by overfitting detector  (300 iterations wait)\n",
      "\n",
      "bestTest = 0.7368935897\n",
      "bestIteration = 547\n",
      "\n",
      "Shrink model to first 548 iterations.\n",
      "0:\ttest: 0.6983462\tbest: 0.6983462 (0)\ttotal: 43.8ms\tremaining: 1m 37s\n",
      "300:\ttest: 0.7341036\tbest: 0.7341036 (300)\ttotal: 13.1s\tremaining: 1m 23s\n",
      "600:\ttest: 0.7358990\tbest: 0.7358990 (600)\ttotal: 26.6s\tremaining: 1m 11s\n",
      "900:\ttest: 0.7361836\tbest: 0.7361988 (888)\ttotal: 40.4s\tremaining: 59.3s\n",
      "1200:\ttest: 0.7364310\tbest: 0.7364333 (1199)\ttotal: 54.4s\tremaining: 46.3s\n",
      "1500:\ttest: 0.7365510\tbest: 0.7366070 (1449)\ttotal: 1m 8s\tremaining: 32.9s\n",
      "1800:\ttest: 0.7366642\tbest: 0.7367089 (1765)\ttotal: 1m 22s\tremaining: 19.4s\n",
      "2100:\ttest: 0.7367577\tbest: 0.7367652 (2064)\ttotal: 1m 36s\tremaining: 5.64s\n"
     ]
    },
    {
     "name": "stderr",
     "output_type": "stream",
     "text": [
      "[I 2025-02-19 05:46:28,869] Trial 5 finished with value: 0.736819620015414 and parameters: {'iterations': 2224, 'depth': 4, 'learning_rate': 0.032753741610845724, 'l2_leaf_reg': 0.01578232781079559}. Best is trial 3 with value: 0.7371417700730443.\n"
     ]
    },
    {
     "name": "stdout",
     "output_type": "stream",
     "text": [
      "2223:\ttest: 0.7367897\tbest: 0.7368196 (2178)\ttotal: 1m 42s\tremaining: 0us\n",
      "\n",
      "bestTest = 0.73681962\n",
      "bestIteration = 2178\n",
      "\n",
      "Shrink model to first 2179 iterations.\n",
      "0:\ttest: 0.7192012\tbest: 0.7192012 (0)\ttotal: 85.6ms\tremaining: 2m 43s\n",
      "300:\ttest: 0.7357186\tbest: 0.7357267 (297)\ttotal: 26.2s\tremaining: 2m 20s\n",
      "600:\ttest: 0.7366670\tbest: 0.7368175 (574)\ttotal: 54.8s\tremaining: 1m 59s\n",
      "900:\ttest: 0.7367986\tbest: 0.7369655 (689)\ttotal: 1m 26s\tremaining: 1m 36s\n"
     ]
    },
    {
     "name": "stderr",
     "output_type": "stream",
     "text": [
      "[I 2025-02-19 05:48:04,581] Trial 6 finished with value: 0.736965522287965 and parameters: {'iterations': 1912, 'depth': 9, 'learning_rate': 0.023969009305044177, 'l2_leaf_reg': 0.12173252504194051}. Best is trial 3 with value: 0.7371417700730443.\n"
     ]
    },
    {
     "name": "stdout",
     "output_type": "stream",
     "text": [
      "Stopped by overfitting detector  (300 iterations wait)\n",
      "\n",
      "bestTest = 0.7369655223\n",
      "bestIteration = 689\n",
      "\n",
      "Shrink model to first 690 iterations.\n",
      "0:\ttest: 0.6983462\tbest: 0.6983462 (0)\ttotal: 43.8ms\tremaining: 1m 35s\n",
      "300:\ttest: 0.7355733\tbest: 0.7355733 (300)\ttotal: 13.1s\tremaining: 1m 22s\n",
      "600:\ttest: 0.7362012\tbest: 0.7362012 (600)\ttotal: 26.9s\tremaining: 1m 10s\n",
      "900:\ttest: 0.7360848\tbest: 0.7362443 (627)\ttotal: 40.9s\tremaining: 58.2s\n"
     ]
    },
    {
     "name": "stderr",
     "output_type": "stream",
     "text": [
      "[I 2025-02-19 05:48:46,879] Trial 7 finished with value: 0.7362443021356475 and parameters: {'iterations': 2185, 'depth': 4, 'learning_rate': 0.06271676093063665, 'l2_leaf_reg': 0.0010547383621352044}. Best is trial 3 with value: 0.7371417700730443.\n"
     ]
    },
    {
     "name": "stdout",
     "output_type": "stream",
     "text": [
      "Stopped by overfitting detector  (300 iterations wait)\n",
      "\n",
      "bestTest = 0.7362443021\n",
      "bestIteration = 627\n",
      "\n",
      "Shrink model to first 628 iterations.\n",
      "0:\ttest: 0.7193093\tbest: 0.7193093 (0)\ttotal: 97.3ms\tremaining: 1m 49s\n",
      "300:\ttest: 0.7368357\tbest: 0.7375956 (197)\ttotal: 39.9s\tremaining: 1m 49s\n"
     ]
    },
    {
     "name": "stderr",
     "output_type": "stream",
     "text": [
      "[I 2025-02-19 05:49:55,668] Trial 8 finished with value: 0.7375955708925653 and parameters: {'iterations': 1130, 'depth': 10, 'learning_rate': 0.09673504314208314, 'l2_leaf_reg': 7.085721663941605}. Best is trial 8 with value: 0.7375955708925653.\n"
     ]
    },
    {
     "name": "stdout",
     "output_type": "stream",
     "text": [
      "Stopped by overfitting detector  (300 iterations wait)\n",
      "\n",
      "bestTest = 0.7375955709\n",
      "bestIteration = 197\n",
      "\n",
      "Shrink model to first 198 iterations.\n",
      "저장 완료\n",
      "0:\ttest: 0.6983462\tbest: 0.6983462 (0)\ttotal: 44.3ms\tremaining: 1m 11s\n",
      "300:\ttest: 0.7362093\tbest: 0.7362134 (299)\ttotal: 13.5s\tremaining: 58.7s\n",
      "600:\ttest: 0.7364023\tbest: 0.7364675 (498)\ttotal: 27.4s\tremaining: 46s\n",
      "900:\ttest: 0.7365877\tbest: 0.7365930 (888)\ttotal: 41.4s\tremaining: 32.5s\n",
      "1200:\ttest: 0.7365826\tbest: 0.7366278 (930)\ttotal: 55.4s\tremaining: 18.8s\n"
     ]
    },
    {
     "name": "stderr",
     "output_type": "stream",
     "text": [
      "[I 2025-02-19 05:50:52,676] Trial 9 finished with value: 0.7366277785601306 and parameters: {'iterations': 1609, 'depth': 4, 'learning_rate': 0.07000213751865492, 'l2_leaf_reg': 0.04374364439939081}. Best is trial 8 with value: 0.7375955708925653.\n"
     ]
    },
    {
     "name": "stdout",
     "output_type": "stream",
     "text": [
      "Stopped by overfitting detector  (300 iterations wait)\n",
      "\n",
      "bestTest = 0.7366277786\n",
      "bestIteration = 930\n",
      "\n",
      "Shrink model to first 931 iterations.\n",
      "0:\ttest: 0.7192731\tbest: 0.7192731 (0)\ttotal: 98.3ms\tremaining: 1m 42s\n",
      "300:\ttest: 0.7358671\tbest: 0.7370664 (175)\ttotal: 39.3s\tremaining: 1m 36s\n"
     ]
    },
    {
     "name": "stderr",
     "output_type": "stream",
     "text": [
      "[I 2025-02-19 05:51:56,828] Trial 10 finished with value: 0.7370663986816149 and parameters: {'iterations': 1041, 'depth': 10, 'learning_rate': 0.09710602552484723, 'l2_leaf_reg': 1.8106690503510394}. Best is trial 8 with value: 0.7375955708925653.\n"
     ]
    },
    {
     "name": "stdout",
     "output_type": "stream",
     "text": [
      "Stopped by overfitting detector  (300 iterations wait)\n",
      "\n",
      "bestTest = 0.7370663987\n",
      "bestIteration = 175\n",
      "\n",
      "Shrink model to first 176 iterations.\n",
      "0:\ttest: 0.7152307\tbest: 0.7152307 (0)\ttotal: 59.5ms\tremaining: 2m 56s\n",
      "300:\ttest: 0.7364191\tbest: 0.7370948 (224)\ttotal: 19.6s\tremaining: 2m 53s\n"
     ]
    },
    {
     "name": "stderr",
     "output_type": "stream",
     "text": [
      "[I 2025-02-19 05:52:31,554] Trial 11 finished with value: 0.737094826256097 and parameters: {'iterations': 2966, 'depth': 6, 'learning_rate': 0.0978834300631911, 'l2_leaf_reg': 0.00011815814684318827}. Best is trial 8 with value: 0.7375955708925653.\n"
     ]
    },
    {
     "name": "stdout",
     "output_type": "stream",
     "text": [
      "Stopped by overfitting detector  (300 iterations wait)\n",
      "\n",
      "bestTest = 0.7370948263\n",
      "bestIteration = 224\n",
      "\n",
      "Shrink model to first 225 iterations.\n",
      "0:\ttest: 0.7152302\tbest: 0.7152302 (0)\ttotal: 61.9ms\tremaining: 2m 50s\n",
      "300:\ttest: 0.7356984\tbest: 0.7356984 (300)\ttotal: 18.4s\tremaining: 2m 30s\n",
      "600:\ttest: 0.7369269\tbest: 0.7369423 (595)\ttotal: 38.3s\tremaining: 2m 17s\n",
      "900:\ttest: 0.7371488\tbest: 0.7371527 (892)\ttotal: 58.6s\tremaining: 2m 1s\n",
      "1200:\ttest: 0.7372170\tbest: 0.7372483 (1025)\ttotal: 1m 19s\tremaining: 1m 43s\n",
      "1500:\ttest: 0.7373233\tbest: 0.7373722 (1472)\ttotal: 1m 39s\tremaining: 1m 23s\n"
     ]
    },
    {
     "name": "stderr",
     "output_type": "stream",
     "text": [
      "[I 2025-02-19 05:54:30,084] Trial 12 finished with value: 0.7373721529500238 and parameters: {'iterations': 2763, 'depth': 6, 'learning_rate': 0.03989417542659192, 'l2_leaf_reg': 3.050458519858464}. Best is trial 8 with value: 0.7375955708925653.\n"
     ]
    },
    {
     "name": "stdout",
     "output_type": "stream",
     "text": [
      "Stopped by overfitting detector  (300 iterations wait)\n",
      "\n",
      "bestTest = 0.737372153\n",
      "bestIteration = 1472\n",
      "\n",
      "Shrink model to first 1473 iterations.\n",
      "0:\ttest: 0.7158559\tbest: 0.7158559 (0)\ttotal: 65.8ms\tremaining: 2m 50s\n",
      "300:\ttest: 0.7368639\tbest: 0.7368639 (300)\ttotal: 21.1s\tremaining: 2m 40s\n",
      "600:\ttest: 0.7376705\tbest: 0.7376850 (595)\ttotal: 44.6s\tremaining: 2m 28s\n",
      "900:\ttest: 0.7376589\tbest: 0.7377653 (790)\ttotal: 1m 7s\tremaining: 2m 7s\n",
      "1200:\ttest: 0.7376402\tbest: 0.7377691 (1003)\ttotal: 1m 30s\tremaining: 1m 45s\n"
     ]
    },
    {
     "name": "stderr",
     "output_type": "stream",
     "text": [
      "[I 2025-02-19 05:56:07,100] Trial 13 finished with value: 0.7377690589117185 and parameters: {'iterations': 2597, 'depth': 7, 'learning_rate': 0.046380480033296395, 'l2_leaf_reg': 3.371938605635963}. Best is trial 13 with value: 0.7377690589117185.\n"
     ]
    },
    {
     "name": "stdout",
     "output_type": "stream",
     "text": [
      "Stopped by overfitting detector  (300 iterations wait)\n",
      "\n",
      "bestTest = 0.7377690589\n",
      "bestIteration = 1003\n",
      "\n",
      "Shrink model to first 1004 iterations.\n",
      "저장 완료\n",
      "0:\ttest: 0.7165578\tbest: 0.7165578 (0)\ttotal: 74.9ms\tremaining: 3m 7s\n",
      "300:\ttest: 0.7374763\tbest: 0.7375364 (294)\ttotal: 26s\tremaining: 3m 9s\n",
      "600:\ttest: 0.7377169\tbest: 0.7377176 (593)\ttotal: 53s\tremaining: 2m 47s\n",
      "900:\ttest: 0.7367632\tbest: 0.7378040 (656)\ttotal: 1m 20s\tremaining: 2m 21s\n"
     ]
    },
    {
     "name": "stderr",
     "output_type": "stream",
     "text": [
      "[I 2025-02-19 05:57:32,381] Trial 14 finished with value: 0.7378040225649263 and parameters: {'iterations': 2498, 'depth': 8, 'learning_rate': 0.08313408480709152, 'l2_leaf_reg': 5.3516933370684745}. Best is trial 14 with value: 0.7378040225649263.\n"
     ]
    },
    {
     "name": "stdout",
     "output_type": "stream",
     "text": [
      "Stopped by overfitting detector  (300 iterations wait)\n",
      "\n",
      "bestTest = 0.7378040226\n",
      "bestIteration = 656\n",
      "\n",
      "Shrink model to first 657 iterations.\n",
      "저장 완료\n",
      "0:\ttest: 0.7165381\tbest: 0.7165381 (0)\ttotal: 75.7ms\tremaining: 3m 9s\n",
      "300:\ttest: 0.7373287\tbest: 0.7373302 (299)\ttotal: 24.8s\tremaining: 3m 1s\n",
      "600:\ttest: 0.7371042\tbest: 0.7376248 (348)\ttotal: 51.5s\tremaining: 2m 43s\n"
     ]
    },
    {
     "name": "stderr",
     "output_type": "stream",
     "text": [
      "[I 2025-02-19 05:58:28,238] Trial 15 finished with value: 0.7376248442658131 and parameters: {'iterations': 2507, 'depth': 8, 'learning_rate': 0.05592616179717372, 'l2_leaf_reg': 0.8243036091063646}. Best is trial 14 with value: 0.7378040225649263.\n"
     ]
    },
    {
     "name": "stdout",
     "output_type": "stream",
     "text": [
      "Stopped by overfitting detector  (300 iterations wait)\n",
      "\n",
      "bestTest = 0.7376248443\n",
      "bestIteration = 348\n",
      "\n",
      "Shrink model to first 349 iterations.\n",
      "0:\ttest: 0.7159558\tbest: 0.7159558 (0)\ttotal: 70.1ms\tremaining: 2m 54s\n",
      "300:\ttest: 0.7370042\tbest: 0.7370405 (292)\ttotal: 23.9s\tremaining: 2m 53s\n",
      "600:\ttest: 0.7372632\tbest: 0.7372724 (594)\ttotal: 49.9s\tremaining: 2m 36s\n",
      "900:\ttest: 0.7372420\tbest: 0.7373244 (796)\ttotal: 1m 16s\tremaining: 2m 14s\n",
      "1200:\ttest: 0.7372375\tbest: 0.7374536 (1086)\ttotal: 1m 43s\tremaining: 1m 50s\n"
     ]
    },
    {
     "name": "stderr",
     "output_type": "stream",
     "text": [
      "[I 2025-02-19 06:00:28,283] Trial 16 finished with value: 0.7374535561176283 and parameters: {'iterations': 2487, 'depth': 8, 'learning_rate': 0.08030100044124366, 'l2_leaf_reg': 94.64533014403685}. Best is trial 14 with value: 0.7378040225649263.\n"
     ]
    },
    {
     "name": "stdout",
     "output_type": "stream",
     "text": [
      "Stopped by overfitting detector  (300 iterations wait)\n",
      "\n",
      "bestTest = 0.7374535561\n",
      "bestIteration = 1086\n",
      "\n",
      "Shrink model to first 1087 iterations.\n",
      "0:\ttest: 0.7158506\tbest: 0.7158506 (0)\ttotal: 66.6ms\tremaining: 3m 17s\n",
      "300:\ttest: 0.7370954\tbest: 0.7371097 (294)\ttotal: 21.6s\tremaining: 3m 10s\n",
      "600:\ttest: 0.7375161\tbest: 0.7376128 (530)\ttotal: 44.6s\tremaining: 2m 55s\n",
      "900:\ttest: 0.7372897\tbest: 0.7376188 (675)\ttotal: 1m 7s\tremaining: 2m 34s\n"
     ]
    },
    {
     "name": "stderr",
     "output_type": "stream",
     "text": [
      "[I 2025-02-19 06:01:41,828] Trial 17 finished with value: 0.7376187886643206 and parameters: {'iterations': 2960, 'depth': 7, 'learning_rate': 0.08273066320187068, 'l2_leaf_reg': 19.142361708596034}. Best is trial 14 with value: 0.7378040225649263.\n"
     ]
    },
    {
     "name": "stdout",
     "output_type": "stream",
     "text": [
      "Stopped by overfitting detector  (300 iterations wait)\n",
      "\n",
      "bestTest = 0.7376187887\n",
      "bestIteration = 675\n",
      "\n",
      "Shrink model to first 676 iterations.\n",
      "0:\ttest: 0.7192085\tbest: 0.7192085 (0)\ttotal: 84.5ms\tremaining: 3m 21s\n",
      "300:\ttest: 0.7365231\tbest: 0.7367446 (269)\ttotal: 27.1s\tremaining: 3m 7s\n",
      "600:\ttest: 0.7360941\tbest: 0.7369257 (386)\ttotal: 58.5s\tremaining: 2m 53s\n"
     ]
    },
    {
     "name": "stderr",
     "output_type": "stream",
     "text": [
      "[I 2025-02-19 06:02:49,547] Trial 18 finished with value: 0.7369257101826769 and parameters: {'iterations': 2384, 'depth': 9, 'learning_rate': 0.05222311239303098, 'l2_leaf_reg': 0.17510128765692132}. Best is trial 14 with value: 0.7378040225649263.\n"
     ]
    },
    {
     "name": "stdout",
     "output_type": "stream",
     "text": [
      "Stopped by overfitting detector  (300 iterations wait)\n",
      "\n",
      "bestTest = 0.7369257102\n",
      "bestIteration = 386\n",
      "\n",
      "Shrink model to first 387 iterations.\n",
      "0:\ttest: 0.7152302\tbest: 0.7152302 (0)\ttotal: 62.9ms\tremaining: 2m 50s\n",
      "300:\ttest: 0.7367822\tbest: 0.7368026 (283)\ttotal: 19.6s\tremaining: 2m 36s\n",
      "600:\ttest: 0.7372734\tbest: 0.7373399 (578)\ttotal: 39.7s\tremaining: 2m 19s\n",
      "900:\ttest: 0.7373895\tbest: 0.7374729 (762)\ttotal: 1m\tremaining: 2m 1s\n"
     ]
    },
    {
     "name": "stderr",
     "output_type": "stream",
     "text": [
      "[I 2025-02-19 06:04:01,065] Trial 19 finished with value: 0.7374729062462009 and parameters: {'iterations': 2709, 'depth': 6, 'learning_rate': 0.06442050640680241, 'l2_leaf_reg': 3.3099042156530847}. Best is trial 14 with value: 0.7378040225649263.\n",
      "[I 2025-02-19 06:04:01,068] A new study created in memory with name: no-name-40db61e2-b05d-4e10-a422-282c3382cccb\n"
     ]
    },
    {
     "name": "stdout",
     "output_type": "stream",
     "text": [
      "Stopped by overfitting detector  (300 iterations wait)\n",
      "\n",
      "bestTest = 0.7374729062\n",
      "bestIteration = 762\n",
      "\n",
      "Shrink model to first 763 iterations.\n"
     ]
    },
    {
     "name": "stderr",
     "output_type": "stream",
     "text": [
      "[I 2025-02-19 06:04:20,863] Trial 0 finished with value: 0.7372307457206791 and parameters: {'objective': 'binary', 'metric': 'auc', 'random_state': 42, 'verbose': -1, 'learning_rate': 0.015355286838886862, 'n_estimators': 1907, 'min_child_samples': 40, 'subsample': 0.8, 'colsample_bytree': 0.5}. Best is trial 0 with value: 0.7372307457206791.\n",
      "[I 2025-02-19 06:04:22,921] Trial 1 finished with value: 0.7309940559327598 and parameters: {'objective': 'binary', 'metric': 'auc', 'random_state': 42, 'verbose': -1, 'learning_rate': 0.00797854234707418, 'n_estimators': 210, 'min_child_samples': 45, 'subsample': 0.8, 'colsample_bytree': 0.9}. Best is trial 0 with value: 0.7372307457206791.\n",
      "[I 2025-02-19 06:04:41,635] Trial 2 finished with value: 0.7373473428528924 and parameters: {'objective': 'binary', 'metric': 'auc', 'random_state': 42, 'verbose': -1, 'learning_rate': 0.005318033256270142, 'n_estimators': 1943, 'min_child_samples': 45, 'subsample': 0.6, 'colsample_bytree': 0.6}. Best is trial 2 with value: 0.7373473428528924.\n",
      "[I 2025-02-19 06:04:48,471] Trial 3 finished with value: 0.7366104932923949 and parameters: {'objective': 'binary', 'metric': 'auc', 'random_state': 42, 'verbose': -1, 'learning_rate': 0.008661333735273127, 'n_estimators': 678, 'min_child_samples': 30, 'subsample': 0.7, 'colsample_bytree': 0.6}. Best is trial 2 with value: 0.7373473428528924.\n",
      "[I 2025-02-19 06:04:51,787] Trial 4 finished with value: 0.7372166609872405 and parameters: {'objective': 'binary', 'metric': 'auc', 'random_state': 42, 'verbose': -1, 'learning_rate': 0.03126143958203108, 'n_estimators': 365, 'min_child_samples': 20, 'subsample': 0.7, 'colsample_bytree': 0.7}. Best is trial 2 with value: 0.7373473428528924.\n",
      "[I 2025-02-19 06:04:56,951] Trial 5 finished with value: 0.736248554954794 and parameters: {'objective': 'binary', 'metric': 'auc', 'random_state': 42, 'verbose': -1, 'learning_rate': 0.05254210669345883, 'n_estimators': 479, 'min_child_samples': 30, 'subsample': 0.8, 'colsample_bytree': 0.5}. Best is trial 2 with value: 0.7373473428528924.\n",
      "[I 2025-02-19 06:05:00,646] Trial 6 finished with value: 0.7364233136575391 and parameters: {'objective': 'binary', 'metric': 'auc', 'random_state': 42, 'verbose': -1, 'learning_rate': 0.030860579740535368, 'n_estimators': 424, 'min_child_samples': 10, 'subsample': 1.0, 'colsample_bytree': 1.0}. Best is trial 2 with value: 0.7373473428528924.\n",
      "[I 2025-02-19 06:05:06,186] Trial 7 finished with value: 0.7367087846391127 and parameters: {'objective': 'binary', 'metric': 'auc', 'random_state': 42, 'verbose': -1, 'learning_rate': 0.05632733481673016, 'n_estimators': 679, 'min_child_samples': 10, 'subsample': 0.9, 'colsample_bytree': 0.7}. Best is trial 2 with value: 0.7373473428528924.\n",
      "[I 2025-02-19 06:05:16,489] Trial 8 finished with value: 0.7370059578223901 and parameters: {'objective': 'binary', 'metric': 'auc', 'random_state': 42, 'verbose': -1, 'learning_rate': 0.007206848764305203, 'n_estimators': 1041, 'min_child_samples': 10, 'subsample': 1.0, 'colsample_bytree': 0.6}. Best is trial 2 with value: 0.7373473428528924.\n",
      "[I 2025-02-19 06:05:23,005] Trial 9 finished with value: 0.7373176684201359 and parameters: {'objective': 'binary', 'metric': 'auc', 'random_state': 42, 'verbose': -1, 'learning_rate': 0.036385753170854684, 'n_estimators': 692, 'min_child_samples': 30, 'subsample': 0.8, 'colsample_bytree': 0.6}. Best is trial 2 with value: 0.7373473428528924.\n",
      "[I 2025-02-19 06:05:37,908] Trial 10 finished with value: 0.7364645235147782 and parameters: {'objective': 'binary', 'metric': 'auc', 'random_state': 42, 'verbose': -1, 'learning_rate': 0.015894131971030474, 'n_estimators': 1873, 'min_child_samples': 50, 'subsample': 0.5, 'colsample_bytree': 0.8}. Best is trial 2 with value: 0.7373473428528924.\n",
      "[I 2025-02-19 06:05:51,330] Trial 11 finished with value: 0.7307979854836472 and parameters: {'objective': 'binary', 'metric': 'auc', 'random_state': 42, 'verbose': -1, 'learning_rate': 0.07583490184889749, 'n_estimators': 1546, 'min_child_samples': 35, 'subsample': 0.5, 'colsample_bytree': 0.6}. Best is trial 2 with value: 0.7373473428528924.\n",
      "[I 2025-02-19 06:06:01,399] Trial 12 finished with value: 0.7372030329057176 and parameters: {'objective': 'binary', 'metric': 'auc', 'random_state': 42, 'verbose': -1, 'learning_rate': 0.016724000884430774, 'n_estimators': 1237, 'min_child_samples': 25, 'subsample': 0.6, 'colsample_bytree': 0.8}. Best is trial 2 with value: 0.7373473428528924.\n",
      "[I 2025-02-19 06:06:10,704] Trial 13 finished with value: 0.7373262693596984 and parameters: {'objective': 'binary', 'metric': 'auc', 'random_state': 42, 'verbose': -1, 'learning_rate': 0.031989116655696495, 'n_estimators': 1031, 'min_child_samples': 40, 'subsample': 0.6, 'colsample_bytree': 0.6}. Best is trial 2 with value: 0.7373473428528924.\n",
      "[I 2025-02-19 06:06:22,826] Trial 14 finished with value: 0.7376769144968764 and parameters: {'objective': 'binary', 'metric': 'auc', 'random_state': 42, 'verbose': -1, 'learning_rate': 0.011499664157958238, 'n_estimators': 1103, 'min_child_samples': 50, 'subsample': 0.6, 'colsample_bytree': 0.5}. Best is trial 14 with value: 0.7376769144968764.\n",
      "[I 2025-02-19 06:06:39,573] Trial 15 finished with value: 0.7374221622911366 and parameters: {'objective': 'binary', 'metric': 'auc', 'random_state': 42, 'verbose': -1, 'learning_rate': 0.0055292502731531116, 'n_estimators': 1506, 'min_child_samples': 50, 'subsample': 0.6, 'colsample_bytree': 0.5}. Best is trial 14 with value: 0.7376769144968764.\n",
      "[I 2025-02-19 06:06:54,664] Trial 16 finished with value: 0.7378922278606336 and parameters: {'objective': 'binary', 'metric': 'auc', 'random_state': 42, 'verbose': -1, 'learning_rate': 0.010987448035742274, 'n_estimators': 1403, 'min_child_samples': 50, 'subsample': 0.6, 'colsample_bytree': 0.5}. Best is trial 16 with value: 0.7378922278606336.\n",
      "[I 2025-02-19 06:07:09,114] Trial 17 finished with value: 0.7376777245576663 and parameters: {'objective': 'binary', 'metric': 'auc', 'random_state': 42, 'verbose': -1, 'learning_rate': 0.011428661030906005, 'n_estimators': 1329, 'min_child_samples': 50, 'subsample': 0.5, 'colsample_bytree': 0.5}. Best is trial 16 with value: 0.7378922278606336.\n",
      "[I 2025-02-19 06:07:21,855] Trial 18 finished with value: 0.7371254735559785 and parameters: {'objective': 'binary', 'metric': 'auc', 'random_state': 42, 'verbose': -1, 'learning_rate': 0.011328613406224599, 'n_estimators': 1528, 'min_child_samples': 40, 'subsample': 0.5, 'colsample_bytree': 0.7}. Best is trial 16 with value: 0.7378922278606336.\n",
      "[I 2025-02-19 06:07:35,486] Trial 19 finished with value: 0.7372523354290824 and parameters: {'objective': 'binary', 'metric': 'auc', 'random_state': 42, 'verbose': -1, 'learning_rate': 0.02239593475902738, 'n_estimators': 1308, 'min_child_samples': 45, 'subsample': 0.5, 'colsample_bytree': 0.5}. Best is trial 16 with value: 0.7378922278606336.\n"
     ]
    },
    {
     "name": "stdout",
     "output_type": "stream",
     "text": [
      "Cat val score : 0.7378040225649263\n",
      "LGBM val score : 0.7378922278606337\n",
      "Ensemble val score : 0.7383677335442583\n"
     ]
    },
    {
     "name": "stderr",
     "output_type": "stream",
     "text": [
      "[I 2025-02-19 06:07:51,569] A new study created in memory with name: no-name-21f222dd-5576-4faa-a07f-cb8a6838bf96\n"
     ]
    },
    {
     "name": "stdout",
     "output_type": "stream",
     "text": [
      "==================================================\n",
      "0:\ttest: 0.7222984\tbest: 0.7222984 (0)\ttotal: 92.1ms\tremaining: 2m 40s\n",
      "300:\ttest: 0.7337962\tbest: 0.7353869 (126)\ttotal: 38.7s\tremaining: 3m 6s\n"
     ]
    },
    {
     "name": "stderr",
     "output_type": "stream",
     "text": [
      "[I 2025-02-19 06:08:48,812] Trial 0 finished with value: 0.7353869202946881 and parameters: {'iterations': 1749, 'depth': 10, 'learning_rate': 0.07453942447208349, 'l2_leaf_reg': 0.39079671568228835}. Best is trial 0 with value: 0.7353869202946881.\n"
     ]
    },
    {
     "name": "stdout",
     "output_type": "stream",
     "text": [
      "Stopped by overfitting detector  (300 iterations wait)\n",
      "\n",
      "bestTest = 0.7353869203\n",
      "bestIteration = 126\n",
      "\n",
      "Shrink model to first 127 iterations.\n",
      "저장 완료\n",
      "0:\ttest: 0.6975719\tbest: 0.6975719 (0)\ttotal: 51.1ms\tremaining: 1m 7s\n",
      "300:\ttest: 0.7313235\tbest: 0.7313235 (300)\ttotal: 15.8s\tremaining: 53s\n",
      "600:\ttest: 0.7337777\tbest: 0.7337777 (600)\ttotal: 32s\tremaining: 37.9s\n",
      "900:\ttest: 0.7345666\tbest: 0.7345666 (900)\ttotal: 47.9s\tremaining: 21.8s\n",
      "1200:\ttest: 0.7351315\tbest: 0.7351326 (1199)\ttotal: 1m 4s\tremaining: 5.92s\n"
     ]
    },
    {
     "name": "stderr",
     "output_type": "stream",
     "text": [
      "[I 2025-02-19 06:09:59,229] Trial 1 finished with value: 0.7353475727830884 and parameters: {'iterations': 1312, 'depth': 5, 'learning_rate': 0.010517943155978949, 'l2_leaf_reg': 15.741890047456648}. Best is trial 0 with value: 0.7353869202946881.\n"
     ]
    },
    {
     "name": "stdout",
     "output_type": "stream",
     "text": [
      "1311:\ttest: 0.7353476\tbest: 0.7353476 (1311)\ttotal: 1m 10s\tremaining: 0us\n",
      "\n",
      "bestTest = 0.7353475728\n",
      "bestIteration = 1311\n",
      "\n",
      "0:\ttest: 0.7118334\tbest: 0.7118334 (0)\ttotal: 67.8ms\tremaining: 2m 29s\n",
      "300:\ttest: 0.7319806\tbest: 0.7319806 (300)\ttotal: 22.8s\tremaining: 2m 24s\n",
      "600:\ttest: 0.7343408\tbest: 0.7343408 (600)\ttotal: 46.2s\tremaining: 2m 3s\n",
      "900:\ttest: 0.7351423\tbest: 0.7351423 (900)\ttotal: 1m 9s\tremaining: 1m 39s\n",
      "1200:\ttest: 0.7355567\tbest: 0.7355575 (1199)\ttotal: 1m 32s\tremaining: 1m 16s\n",
      "1500:\ttest: 0.7358155\tbest: 0.7358155 (1500)\ttotal: 1m 54s\tremaining: 53.7s\n",
      "1800:\ttest: 0.7360545\tbest: 0.7360545 (1800)\ttotal: 2m 17s\tremaining: 30.7s\n",
      "2100:\ttest: 0.7363338\tbest: 0.7363382 (2096)\ttotal: 2m 42s\tremaining: 7.8s\n"
     ]
    },
    {
     "name": "stderr",
     "output_type": "stream",
     "text": [
      "[I 2025-02-19 06:12:50,619] Trial 2 finished with value: 0.7364059608847375 and parameters: {'iterations': 2202, 'depth': 8, 'learning_rate': 0.006955526958101232, 'l2_leaf_reg': 65.98711072054076}. Best is trial 2 with value: 0.7364059608847375.\n"
     ]
    },
    {
     "name": "stdout",
     "output_type": "stream",
     "text": [
      "2201:\ttest: 0.7364052\tbest: 0.7364060 (2198)\ttotal: 2m 51s\tremaining: 0us\n",
      "\n",
      "bestTest = 0.7364059609\n",
      "bestIteration = 2198\n",
      "\n",
      "Shrink model to first 2199 iterations.\n",
      "저장 완료\n",
      "0:\ttest: 0.6975413\tbest: 0.6975413 (0)\ttotal: 51.2ms\tremaining: 2m 16s\n",
      "300:\ttest: 0.7341005\tbest: 0.7341005 (300)\ttotal: 15s\tremaining: 1m 57s\n",
      "600:\ttest: 0.7354994\tbest: 0.7354994 (600)\ttotal: 30.9s\tremaining: 1m 46s\n",
      "900:\ttest: 0.7360661\tbest: 0.7360661 (900)\ttotal: 47.4s\tremaining: 1m 32s\n",
      "1200:\ttest: 0.7361909\tbest: 0.7362131 (1136)\ttotal: 1m 4s\tremaining: 1m 18s\n",
      "1500:\ttest: 0.7361240\tbest: 0.7362288 (1221)\ttotal: 1m 21s\tremaining: 1m 2s\n"
     ]
    },
    {
     "name": "stderr",
     "output_type": "stream",
     "text": [
      "[I 2025-02-19 06:14:13,106] Trial 3 finished with value: 0.7362287958249403 and parameters: {'iterations': 2665, 'depth': 5, 'learning_rate': 0.02227337188467456, 'l2_leaf_reg': 0.0012601639723276807}. Best is trial 2 with value: 0.7364059608847375.\n"
     ]
    },
    {
     "name": "stdout",
     "output_type": "stream",
     "text": [
      "Stopped by overfitting detector  (300 iterations wait)\n",
      "\n",
      "bestTest = 0.7362287958\n",
      "bestIteration = 1221\n",
      "\n",
      "Shrink model to first 1222 iterations.\n",
      "0:\ttest: 0.7118365\tbest: 0.7118365 (0)\ttotal: 61.8ms\tremaining: 1m 39s\n",
      "300:\ttest: 0.7353391\tbest: 0.7354315 (290)\ttotal: 21.4s\tremaining: 1m 32s\n",
      "600:\ttest: 0.7357259\tbest: 0.7360073 (488)\ttotal: 44.5s\tremaining: 1m 14s\n"
     ]
    },
    {
     "name": "stderr",
     "output_type": "stream",
     "text": [
      "[I 2025-02-19 06:15:12,681] Trial 4 finished with value: 0.7360072719951279 and parameters: {'iterations': 1608, 'depth': 7, 'learning_rate': 0.046034776771001, 'l2_leaf_reg': 0.005589524205217926}. Best is trial 2 with value: 0.7364059608847375.\n"
     ]
    },
    {
     "name": "stdout",
     "output_type": "stream",
     "text": [
      "Stopped by overfitting detector  (300 iterations wait)\n",
      "\n",
      "bestTest = 0.736007272\n",
      "bestIteration = 488\n",
      "\n",
      "Shrink model to first 489 iterations.\n",
      "0:\ttest: 0.6965201\tbest: 0.6965201 (0)\ttotal: 43ms\tremaining: 1m 35s\n",
      "300:\ttest: 0.7337681\tbest: 0.7337681 (300)\ttotal: 12.5s\tremaining: 1m 19s\n",
      "600:\ttest: 0.7356999\tbest: 0.7356999 (600)\ttotal: 25.8s\tremaining: 1m 9s\n",
      "900:\ttest: 0.7361335\tbest: 0.7361352 (899)\ttotal: 39.4s\tremaining: 57.9s\n",
      "1200:\ttest: 0.7363048\tbest: 0.7363428 (1164)\ttotal: 53.2s\tremaining: 45.3s\n"
     ]
    },
    {
     "name": "stderr",
     "output_type": "stream",
     "text": [
      "[I 2025-02-19 06:16:18,295] Trial 5 finished with value: 0.7363427682013591 and parameters: {'iterations': 2224, 'depth': 4, 'learning_rate': 0.032753741610845724, 'l2_leaf_reg': 0.01578232781079559}. Best is trial 2 with value: 0.7364059608847375.\n"
     ]
    },
    {
     "name": "stdout",
     "output_type": "stream",
     "text": [
      "Stopped by overfitting detector  (300 iterations wait)\n",
      "\n",
      "bestTest = 0.7363427682\n",
      "bestIteration = 1164\n",
      "\n",
      "Shrink model to first 1165 iterations.\n",
      "0:\ttest: 0.7156643\tbest: 0.7156643 (0)\ttotal: 74.4ms\tremaining: 2m 22s\n",
      "300:\ttest: 0.7355089\tbest: 0.7355089 (300)\ttotal: 26.6s\tremaining: 2m 22s\n",
      "600:\ttest: 0.7361707\tbest: 0.7361707 (600)\ttotal: 54.1s\tremaining: 1m 58s\n",
      "900:\ttest: 0.7359742\tbest: 0.7364049 (657)\ttotal: 1m 25s\tremaining: 1m 35s\n"
     ]
    },
    {
     "name": "stderr",
     "output_type": "stream",
     "text": [
      "[I 2025-02-19 06:17:49,535] Trial 6 finished with value: 0.7364049165416605 and parameters: {'iterations': 1912, 'depth': 9, 'learning_rate': 0.023969009305044177, 'l2_leaf_reg': 0.12173252504194051}. Best is trial 2 with value: 0.7364059608847375.\n"
     ]
    },
    {
     "name": "stdout",
     "output_type": "stream",
     "text": [
      "Stopped by overfitting detector  (300 iterations wait)\n",
      "\n",
      "bestTest = 0.7364049165\n",
      "bestIteration = 657\n",
      "\n",
      "Shrink model to first 658 iterations.\n",
      "0:\ttest: 0.6965201\tbest: 0.6965201 (0)\ttotal: 44.6ms\tremaining: 1m 37s\n",
      "300:\ttest: 0.7357301\tbest: 0.7357301 (300)\ttotal: 13.3s\tremaining: 1m 23s\n",
      "600:\ttest: 0.7361534\tbest: 0.7362202 (567)\ttotal: 27.1s\tremaining: 1m 11s\n"
     ]
    },
    {
     "name": "stderr",
     "output_type": "stream",
     "text": [
      "[I 2025-02-19 06:18:29,047] Trial 7 finished with value: 0.7362202107689227 and parameters: {'iterations': 2185, 'depth': 4, 'learning_rate': 0.06271676093063665, 'l2_leaf_reg': 0.0010547383621352044}. Best is trial 2 with value: 0.7364059608847375.\n"
     ]
    },
    {
     "name": "stdout",
     "output_type": "stream",
     "text": [
      "Stopped by overfitting detector  (300 iterations wait)\n",
      "\n",
      "bestTest = 0.7362202108\n",
      "bestIteration = 567\n",
      "\n",
      "Shrink model to first 568 iterations.\n",
      "0:\ttest: 0.7222880\tbest: 0.7222880 (0)\ttotal: 90.2ms\tremaining: 1m 41s\n",
      "300:\ttest: 0.7351138\tbest: 0.7363495 (162)\ttotal: 40.1s\tremaining: 1m 50s\n"
     ]
    },
    {
     "name": "stderr",
     "output_type": "stream",
     "text": [
      "[I 2025-02-19 06:19:32,407] Trial 8 finished with value: 0.7363494750281925 and parameters: {'iterations': 1130, 'depth': 10, 'learning_rate': 0.09673504314208314, 'l2_leaf_reg': 7.085721663941605}. Best is trial 2 with value: 0.7364059608847375.\n"
     ]
    },
    {
     "name": "stdout",
     "output_type": "stream",
     "text": [
      "Stopped by overfitting detector  (300 iterations wait)\n",
      "\n",
      "bestTest = 0.736349475\n",
      "bestIteration = 162\n",
      "\n",
      "Shrink model to first 163 iterations.\n",
      "0:\ttest: 0.6965201\tbest: 0.6965201 (0)\ttotal: 42.3ms\tremaining: 1m 8s\n",
      "300:\ttest: 0.7360409\tbest: 0.7360409 (300)\ttotal: 13s\tremaining: 56.6s\n",
      "600:\ttest: 0.7363590\tbest: 0.7365227 (456)\ttotal: 26.7s\tremaining: 44.7s\n",
      "900:\ttest: 0.7365312\tbest: 0.7366176 (807)\ttotal: 40.4s\tremaining: 31.7s\n"
     ]
    },
    {
     "name": "stderr",
     "output_type": "stream",
     "text": [
      "[I 2025-02-19 06:20:22,831] Trial 9 finished with value: 0.7366175694116471 and parameters: {'iterations': 1609, 'depth': 4, 'learning_rate': 0.07000213751865492, 'l2_leaf_reg': 0.04374364439939081}. Best is trial 9 with value: 0.7366175694116471.\n"
     ]
    },
    {
     "name": "stdout",
     "output_type": "stream",
     "text": [
      "Stopped by overfitting detector  (300 iterations wait)\n",
      "\n",
      "bestTest = 0.7366175694\n",
      "bestIteration = 807\n",
      "\n",
      "Shrink model to first 808 iterations.\n",
      "저장 완료\n",
      "0:\ttest: 0.7088766\tbest: 0.7088766 (0)\ttotal: 58.4ms\tremaining: 2m 48s\n",
      "300:\ttest: 0.7358840\tbest: 0.7363039 (220)\ttotal: 19.3s\tremaining: 2m 46s\n"
     ]
    },
    {
     "name": "stderr",
     "output_type": "stream",
     "text": [
      "[I 2025-02-19 06:20:57,062] Trial 10 finished with value: 0.7363039488176273 and parameters: {'iterations': 2891, 'depth': 6, 'learning_rate': 0.08607984985807723, 'l2_leaf_reg': 0.00012816553469185968}. Best is trial 9 with value: 0.7366175694116471.\n"
     ]
    },
    {
     "name": "stdout",
     "output_type": "stream",
     "text": [
      "Stopped by overfitting detector  (300 iterations wait)\n",
      "\n",
      "bestTest = 0.7363039488\n",
      "bestIteration = 220\n",
      "\n",
      "Shrink model to first 221 iterations.\n",
      "0:\ttest: 0.7121774\tbest: 0.7121774 (0)\ttotal: 70.6ms\tremaining: 2m 51s\n",
      "300:\ttest: 0.7362649\tbest: 0.7362649 (300)\ttotal: 24.3s\tremaining: 2m 52s\n",
      "600:\ttest: 0.7360601\tbest: 0.7363268 (353)\ttotal: 50.7s\tremaining: 2m 34s\n"
     ]
    },
    {
     "name": "stderr",
     "output_type": "stream",
     "text": [
      "[I 2025-02-19 06:21:52,671] Trial 11 finished with value: 0.7363268052387362 and parameters: {'iterations': 2431, 'depth': 8, 'learning_rate': 0.05219710333666011, 'l2_leaf_reg': 1.3634971461539778}. Best is trial 9 with value: 0.7366175694116471.\n"
     ]
    },
    {
     "name": "stdout",
     "output_type": "stream",
     "text": [
      "Stopped by overfitting detector  (300 iterations wait)\n",
      "\n",
      "bestTest = 0.7363268052\n",
      "bestIteration = 353\n",
      "\n",
      "Shrink model to first 354 iterations.\n",
      "0:\ttest: 0.7118439\tbest: 0.7118439 (0)\ttotal: 62.2ms\tremaining: 1m 29s\n",
      "300:\ttest: 0.7363884\tbest: 0.7364047 (299)\ttotal: 21s\tremaining: 1m 19s\n",
      "600:\ttest: 0.7366668\tbest: 0.7367734 (547)\ttotal: 43.4s\tremaining: 1m\n",
      "900:\ttest: 0.7366221\tbest: 0.7368338 (675)\ttotal: 1m 6s\tremaining: 39.9s\n"
     ]
    },
    {
     "name": "stderr",
     "output_type": "stream",
     "text": [
      "[I 2025-02-19 06:23:04,712] Trial 12 finished with value: 0.7368337762248047 and parameters: {'iterations': 1445, 'depth': 7, 'learning_rate': 0.07203024844408856, 'l2_leaf_reg': 47.29969277084818}. Best is trial 12 with value: 0.7368337762248047.\n"
     ]
    },
    {
     "name": "stdout",
     "output_type": "stream",
     "text": [
      "Stopped by overfitting detector  (300 iterations wait)\n",
      "\n",
      "bestTest = 0.7368337762\n",
      "bestIteration = 675\n",
      "\n",
      "Shrink model to first 676 iterations.\n",
      "저장 완료\n",
      "0:\ttest: 0.7088765\tbest: 0.7088765 (0)\ttotal: 56.2ms\tremaining: 1m 25s\n",
      "300:\ttest: 0.7362259\tbest: 0.7362799 (290)\ttotal: 18.8s\tremaining: 1m 16s\n"
     ]
    },
    {
     "name": "stderr",
     "output_type": "stream",
     "text": [
      "[I 2025-02-19 06:23:42,879] Trial 13 finished with value: 0.7362799130433098 and parameters: {'iterations': 1526, 'depth': 6, 'learning_rate': 0.06875326546070666, 'l2_leaf_reg': 0.01876139581303938}. Best is trial 12 with value: 0.7368337762248047.\n"
     ]
    },
    {
     "name": "stdout",
     "output_type": "stream",
     "text": [
      "Stopped by overfitting detector  (300 iterations wait)\n",
      "\n",
      "bestTest = 0.736279913\n",
      "bestIteration = 290\n",
      "\n",
      "Shrink model to first 291 iterations.\n",
      "0:\ttest: 0.7118611\tbest: 0.7118611 (0)\ttotal: 61.3ms\tremaining: 1m 3s\n",
      "300:\ttest: 0.7362048\tbest: 0.7363566 (266)\ttotal: 21.9s\tremaining: 53.7s\n"
     ]
    },
    {
     "name": "stderr",
     "output_type": "stream",
     "text": [
      "[I 2025-02-19 06:24:25,177] Trial 14 finished with value: 0.7363566424778278 and parameters: {'iterations': 1040, 'depth': 7, 'learning_rate': 0.08313408480709152, 'l2_leaf_reg': 1.1182078814055025}. Best is trial 12 with value: 0.7368337762248047.\n"
     ]
    },
    {
     "name": "stdout",
     "output_type": "stream",
     "text": [
      "Stopped by overfitting detector  (300 iterations wait)\n",
      "\n",
      "bestTest = 0.7363566425\n",
      "bestIteration = 266\n",
      "\n",
      "Shrink model to first 267 iterations.\n",
      "0:\ttest: 0.6975413\tbest: 0.6975413 (0)\ttotal: 50.7ms\tremaining: 1m 10s\n",
      "300:\ttest: 0.7363540\tbest: 0.7363647 (291)\ttotal: 15.9s\tremaining: 57.3s\n",
      "600:\ttest: 0.7368949\tbest: 0.7369223 (583)\ttotal: 32.5s\tremaining: 42.6s\n",
      "900:\ttest: 0.7366196\tbest: 0.7369553 (620)\ttotal: 49.4s\tremaining: 26.8s\n"
     ]
    },
    {
     "name": "stderr",
     "output_type": "stream",
     "text": [
      "[I 2025-02-19 06:25:15,918] Trial 15 finished with value: 0.7369553131394815 and parameters: {'iterations': 1389, 'depth': 5, 'learning_rate': 0.06024352292983749, 'l2_leaf_reg': 0.08452573264884432}. Best is trial 15 with value: 0.7369553131394815.\n"
     ]
    },
    {
     "name": "stdout",
     "output_type": "stream",
     "text": [
      "Stopped by overfitting detector  (300 iterations wait)\n",
      "\n",
      "bestTest = 0.7369553131\n",
      "bestIteration = 620\n",
      "\n",
      "Shrink model to first 621 iterations.\n",
      "저장 완료\n",
      "0:\ttest: 0.7088398\tbest: 0.7088398 (0)\ttotal: 57.3ms\tremaining: 1m 18s\n",
      "300:\ttest: 0.7357971\tbest: 0.7358132 (289)\ttotal: 18.5s\tremaining: 1m 5s\n",
      "600:\ttest: 0.7361706\tbest: 0.7361708 (594)\ttotal: 37.8s\tremaining: 48.5s\n",
      "900:\ttest: 0.7364310\tbest: 0.7364341 (890)\ttotal: 57.2s\tremaining: 29.9s\n",
      "1200:\ttest: 0.7363969\tbest: 0.7364848 (1045)\ttotal: 1m 16s\tremaining: 11s\n"
     ]
    },
    {
     "name": "stderr",
     "output_type": "stream",
     "text": [
      "[I 2025-02-19 06:26:42,648] Trial 16 finished with value: 0.7364847988598411 and parameters: {'iterations': 1372, 'depth': 6, 'learning_rate': 0.05882256097333108, 'l2_leaf_reg': 94.64533014403685}. Best is trial 15 with value: 0.7369553131394815.\n"
     ]
    },
    {
     "name": "stdout",
     "output_type": "stream",
     "text": [
      "Stopped by overfitting detector  (300 iterations wait)\n",
      "\n",
      "bestTest = 0.7364847989\n",
      "bestIteration = 1045\n",
      "\n",
      "Shrink model to first 1046 iterations.\n",
      "0:\ttest: 0.7121809\tbest: 0.7121809 (0)\ttotal: 68.4ms\tremaining: 1m 28s\n",
      "300:\ttest: 0.7356080\tbest: 0.7357618 (272)\ttotal: 24.3s\tremaining: 1m 19s\n",
      "600:\ttest: 0.7353858\tbest: 0.7360046 (466)\ttotal: 50.8s\tremaining: 58s\n"
     ]
    },
    {
     "name": "stderr",
     "output_type": "stream",
     "text": [
      "[I 2025-02-19 06:27:48,307] Trial 17 finished with value: 0.7360045837051539 and parameters: {'iterations': 1288, 'depth': 8, 'learning_rate': 0.043746589035720686, 'l2_leaf_reg': 0.21768464000477078}. Best is trial 15 with value: 0.7369553131394815.\n"
     ]
    },
    {
     "name": "stdout",
     "output_type": "stream",
     "text": [
      "Stopped by overfitting detector  (300 iterations wait)\n",
      "\n",
      "bestTest = 0.7360045837\n",
      "bestIteration = 466\n",
      "\n",
      "Shrink model to first 467 iterations.\n",
      "0:\ttest: 0.6975825\tbest: 0.6975825 (0)\ttotal: 49.2ms\tremaining: 1m 33s\n",
      "300:\ttest: 0.7367003\tbest: 0.7368096 (268)\ttotal: 16.4s\tremaining: 1m 26s\n",
      "600:\ttest: 0.7368768\tbest: 0.7369180 (429)\ttotal: 33.2s\tremaining: 1m 11s\n"
     ]
    },
    {
     "name": "stderr",
     "output_type": "stream",
     "text": [
      "[I 2025-02-19 06:28:28,976] Trial 18 finished with value: 0.7369180185760599 and parameters: {'iterations': 1894, 'depth': 5, 'learning_rate': 0.09831550699035785, 'l2_leaf_reg': 4.137625632380905}. Best is trial 15 with value: 0.7369553131394815.\n"
     ]
    },
    {
     "name": "stdout",
     "output_type": "stream",
     "text": [
      "Stopped by overfitting detector  (300 iterations wait)\n",
      "\n",
      "bestTest = 0.7369180186\n",
      "bestIteration = 429\n",
      "\n",
      "Shrink model to first 430 iterations.\n",
      "0:\ttest: 0.6975405\tbest: 0.6975405 (0)\ttotal: 50.6ms\tremaining: 1m 35s\n",
      "300:\ttest: 0.7364168\tbest: 0.7364790 (290)\ttotal: 16.4s\tremaining: 1m 26s\n"
     ]
    },
    {
     "name": "stderr",
     "output_type": "stream",
     "text": [
      "[I 2025-02-19 06:29:01,637] Trial 19 finished with value: 0.7364789656279771 and parameters: {'iterations': 1895, 'depth': 5, 'learning_rate': 0.09925264894262951, 'l2_leaf_reg': 3.6419792894127436}. Best is trial 15 with value: 0.7369553131394815.\n",
      "[I 2025-02-19 06:29:01,640] A new study created in memory with name: no-name-76e07e7c-28f6-47fd-9c2d-3460969db83f\n"
     ]
    },
    {
     "name": "stdout",
     "output_type": "stream",
     "text": [
      "Stopped by overfitting detector  (300 iterations wait)\n",
      "\n",
      "bestTest = 0.7364789656\n",
      "bestIteration = 290\n",
      "\n",
      "Shrink model to first 291 iterations.\n"
     ]
    },
    {
     "name": "stderr",
     "output_type": "stream",
     "text": [
      "[I 2025-02-19 06:29:21,432] Trial 0 finished with value: 0.7359030044646421 and parameters: {'objective': 'binary', 'metric': 'auc', 'random_state': 42, 'verbose': -1, 'learning_rate': 0.015355286838886862, 'n_estimators': 1907, 'min_child_samples': 40, 'subsample': 0.8, 'colsample_bytree': 0.5}. Best is trial 0 with value: 0.7359030044646421.\n",
      "[I 2025-02-19 06:29:23,493] Trial 1 finished with value: 0.7329414738385785 and parameters: {'objective': 'binary', 'metric': 'auc', 'random_state': 42, 'verbose': -1, 'learning_rate': 0.00797854234707418, 'n_estimators': 210, 'min_child_samples': 45, 'subsample': 0.8, 'colsample_bytree': 0.9}. Best is trial 0 with value: 0.7359030044646421.\n",
      "[I 2025-02-19 06:29:42,413] Trial 2 finished with value: 0.7368988789044573 and parameters: {'objective': 'binary', 'metric': 'auc', 'random_state': 42, 'verbose': -1, 'learning_rate': 0.005318033256270142, 'n_estimators': 1943, 'min_child_samples': 45, 'subsample': 0.6, 'colsample_bytree': 0.6}. Best is trial 2 with value: 0.7368988789044573.\n",
      "[I 2025-02-19 06:29:49,413] Trial 3 finished with value: 0.736754120247139 and parameters: {'objective': 'binary', 'metric': 'auc', 'random_state': 42, 'verbose': -1, 'learning_rate': 0.008661333735273127, 'n_estimators': 678, 'min_child_samples': 30, 'subsample': 0.7, 'colsample_bytree': 0.6}. Best is trial 2 with value: 0.7368988789044573.\n",
      "[I 2025-02-19 06:29:52,730] Trial 4 finished with value: 0.7366068440479544 and parameters: {'objective': 'binary', 'metric': 'auc', 'random_state': 42, 'verbose': -1, 'learning_rate': 0.03126143958203108, 'n_estimators': 365, 'min_child_samples': 20, 'subsample': 0.7, 'colsample_bytree': 0.7}. Best is trial 2 with value: 0.7368988789044573.\n",
      "[I 2025-02-19 06:29:57,908] Trial 5 finished with value: 0.735215556699665 and parameters: {'objective': 'binary', 'metric': 'auc', 'random_state': 42, 'verbose': -1, 'learning_rate': 0.05254210669345883, 'n_estimators': 479, 'min_child_samples': 30, 'subsample': 0.8, 'colsample_bytree': 0.5}. Best is trial 2 with value: 0.7368988789044573.\n",
      "[I 2025-02-19 06:30:01,591] Trial 6 finished with value: 0.7366403146479417 and parameters: {'objective': 'binary', 'metric': 'auc', 'random_state': 42, 'verbose': -1, 'learning_rate': 0.030860579740535368, 'n_estimators': 424, 'min_child_samples': 10, 'subsample': 1.0, 'colsample_bytree': 1.0}. Best is trial 2 with value: 0.7368988789044573.\n",
      "[I 2025-02-19 06:30:07,143] Trial 7 finished with value: 0.7335275567909 and parameters: {'objective': 'binary', 'metric': 'auc', 'random_state': 42, 'verbose': -1, 'learning_rate': 0.05632733481673016, 'n_estimators': 679, 'min_child_samples': 10, 'subsample': 0.9, 'colsample_bytree': 0.7}. Best is trial 2 with value: 0.7368988789044573.\n",
      "[I 2025-02-19 06:30:17,447] Trial 8 finished with value: 0.7366966416690378 and parameters: {'objective': 'binary', 'metric': 'auc', 'random_state': 42, 'verbose': -1, 'learning_rate': 0.007206848764305203, 'n_estimators': 1041, 'min_child_samples': 10, 'subsample': 1.0, 'colsample_bytree': 0.6}. Best is trial 2 with value: 0.7368988789044573.\n",
      "[I 2025-02-19 06:30:23,859] Trial 9 finished with value: 0.7353541048909279 and parameters: {'objective': 'binary', 'metric': 'auc', 'random_state': 42, 'verbose': -1, 'learning_rate': 0.036385753170854684, 'n_estimators': 692, 'min_child_samples': 30, 'subsample': 0.8, 'colsample_bytree': 0.6}. Best is trial 2 with value: 0.7368988789044573.\n",
      "[I 2025-02-19 06:30:38,600] Trial 10 finished with value: 0.7356170688893803 and parameters: {'objective': 'binary', 'metric': 'auc', 'random_state': 42, 'verbose': -1, 'learning_rate': 0.015894131971030474, 'n_estimators': 1873, 'min_child_samples': 50, 'subsample': 0.5, 'colsample_bytree': 0.8}. Best is trial 2 with value: 0.7368988789044573.\n",
      "[I 2025-02-19 06:30:53,662] Trial 11 finished with value: 0.7368553381370044 and parameters: {'objective': 'binary', 'metric': 'auc', 'random_state': 42, 'verbose': -1, 'learning_rate': 0.0054932202901173555, 'n_estimators': 1534, 'min_child_samples': 35, 'subsample': 0.6, 'colsample_bytree': 0.6}. Best is trial 2 with value: 0.7368988789044573.\n",
      "[I 2025-02-19 06:31:07,062] Trial 12 finished with value: 0.7367419693352918 and parameters: {'objective': 'binary', 'metric': 'auc', 'random_state': 42, 'verbose': -1, 'learning_rate': 0.0052413084441113025, 'n_estimators': 1524, 'min_child_samples': 40, 'subsample': 0.5, 'colsample_bytree': 0.8}. Best is trial 2 with value: 0.7368988789044573.\n",
      "[I 2025-02-19 06:31:21,827] Trial 13 finished with value: 0.7369728446021631 and parameters: {'objective': 'binary', 'metric': 'auc', 'random_state': 42, 'verbose': -1, 'learning_rate': 0.005308815215030416, 'n_estimators': 1499, 'min_child_samples': 40, 'subsample': 0.6, 'colsample_bytree': 0.6}. Best is trial 13 with value: 0.7369728446021631.\n",
      "[I 2025-02-19 06:31:38,843] Trial 14 finished with value: 0.7366350651363528 and parameters: {'objective': 'binary', 'metric': 'auc', 'random_state': 42, 'verbose': -1, 'learning_rate': 0.01182515731457877, 'n_estimators': 1603, 'min_child_samples': 50, 'subsample': 0.6, 'colsample_bytree': 0.5}. Best is trial 13 with value: 0.7369728446021631.\n",
      "[I 2025-02-19 06:31:48,473] Trial 15 finished with value: 0.7279354331676182 and parameters: {'objective': 'binary', 'metric': 'auc', 'random_state': 42, 'verbose': -1, 'learning_rate': 0.0902334606102013, 'n_estimators': 1251, 'min_child_samples': 40, 'subsample': 0.6, 'colsample_bytree': 0.7}. Best is trial 13 with value: 0.7369728446021631.\n",
      "[I 2025-02-19 06:32:00,330] Trial 16 finished with value: 0.7368240157864647 and parameters: {'objective': 'binary', 'metric': 'auc', 'random_state': 42, 'verbose': -1, 'learning_rate': 0.011111640434185787, 'n_estimators': 1252, 'min_child_samples': 45, 'subsample': 0.6, 'colsample_bytree': 0.6}. Best is trial 13 with value: 0.7369728446021631.\n",
      "[I 2025-02-19 06:32:16,083] Trial 17 finished with value: 0.7340808997862996 and parameters: {'objective': 'binary', 'metric': 'auc', 'random_state': 42, 'verbose': -1, 'learning_rate': 0.019919183876440906, 'n_estimators': 1985, 'min_child_samples': 20, 'subsample': 0.5, 'colsample_bytree': 0.7}. Best is trial 13 with value: 0.7369728446021631.\n",
      "[I 2025-02-19 06:32:34,938] Trial 18 finished with value: 0.7371349163234207 and parameters: {'objective': 'binary', 'metric': 'auc', 'random_state': 42, 'verbose': -1, 'learning_rate': 0.0062402121860392935, 'n_estimators': 1700, 'min_child_samples': 45, 'subsample': 0.7, 'colsample_bytree': 0.5}. Best is trial 18 with value: 0.7371349163234207.\n",
      "[I 2025-02-19 06:32:53,513] Trial 19 finished with value: 0.7367813962646159 and parameters: {'objective': 'binary', 'metric': 'auc', 'random_state': 42, 'verbose': -1, 'learning_rate': 0.009146140794990303, 'n_estimators': 1706, 'min_child_samples': 35, 'subsample': 0.7, 'colsample_bytree': 0.5}. Best is trial 18 with value: 0.7371349163234207.\n"
     ]
    },
    {
     "name": "stdout",
     "output_type": "stream",
     "text": [
      "Cat val score : 0.7369553131394815\n",
      "LGBM val score : 0.7371349163234207\n",
      "Ensemble val score : 0.7373801145769041\n"
     ]
    },
    {
     "name": "stderr",
     "output_type": "stream",
     "text": [
      "[I 2025-02-19 06:33:13,529] A new study created in memory with name: no-name-9d6e5e28-0a25-48c1-8d03-069e2c495b9f\n"
     ]
    },
    {
     "name": "stdout",
     "output_type": "stream",
     "text": [
      "==================================================\n",
      "0:\ttest: 0.7261807\tbest: 0.7261807 (0)\ttotal: 95.9ms\tremaining: 2m 47s\n",
      "300:\ttest: 0.7373499\tbest: 0.7392700 (78)\ttotal: 39.5s\tremaining: 3m 10s\n"
     ]
    },
    {
     "name": "stderr",
     "output_type": "stream",
     "text": [
      "[I 2025-02-19 06:34:04,762] Trial 0 finished with value: 0.7392700141957594 and parameters: {'iterations': 1749, 'depth': 10, 'learning_rate': 0.07453942447208349, 'l2_leaf_reg': 0.39079671568228835}. Best is trial 0 with value: 0.7392700141957594.\n"
     ]
    },
    {
     "name": "stdout",
     "output_type": "stream",
     "text": [
      "Stopped by overfitting detector  (300 iterations wait)\n",
      "\n",
      "bestTest = 0.7392700142\n",
      "bestIteration = 78\n",
      "\n",
      "Shrink model to first 79 iterations.\n",
      "저장 완료\n",
      "0:\ttest: 0.7025442\tbest: 0.7025442 (0)\ttotal: 52.5ms\tremaining: 1m 8s\n",
      "300:\ttest: 0.7364494\tbest: 0.7364494 (300)\ttotal: 15.4s\tremaining: 51.8s\n",
      "600:\ttest: 0.7385224\tbest: 0.7385224 (600)\ttotal: 31.4s\tremaining: 37.1s\n",
      "900:\ttest: 0.7391400\tbest: 0.7391400 (900)\ttotal: 47.4s\tremaining: 21.6s\n",
      "1200:\ttest: 0.7395808\tbest: 0.7395863 (1196)\ttotal: 1m 3s\tremaining: 5.86s\n"
     ]
    },
    {
     "name": "stderr",
     "output_type": "stream",
     "text": [
      "[I 2025-02-19 06:35:14,520] Trial 1 finished with value: 0.7397382531575931 and parameters: {'iterations': 1312, 'depth': 5, 'learning_rate': 0.010517943155978949, 'l2_leaf_reg': 15.741890047456648}. Best is trial 1 with value: 0.7397382531575931.\n"
     ]
    },
    {
     "name": "stdout",
     "output_type": "stream",
     "text": [
      "1311:\ttest: 0.7397349\tbest: 0.7397383 (1308)\ttotal: 1m 9s\tremaining: 0us\n",
      "\n",
      "bestTest = 0.7397382532\n",
      "bestIteration = 1308\n",
      "\n",
      "Shrink model to first 1309 iterations.\n",
      "저장 완료\n",
      "0:\ttest: 0.7183884\tbest: 0.7183884 (0)\ttotal: 72.1ms\tremaining: 2m 38s\n",
      "300:\ttest: 0.7371966\tbest: 0.7371966 (300)\ttotal: 23.8s\tremaining: 2m 30s\n",
      "600:\ttest: 0.7390514\tbest: 0.7390514 (600)\ttotal: 47.9s\tremaining: 2m 7s\n",
      "900:\ttest: 0.7397681\tbest: 0.7397719 (891)\ttotal: 1m 11s\tremaining: 1m 43s\n",
      "1200:\ttest: 0.7400404\tbest: 0.7400405 (1182)\ttotal: 1m 35s\tremaining: 1m 19s\n",
      "1500:\ttest: 0.7402239\tbest: 0.7402279 (1497)\ttotal: 1m 57s\tremaining: 55s\n",
      "1800:\ttest: 0.7403249\tbest: 0.7403249 (1800)\ttotal: 2m 20s\tremaining: 31.3s\n",
      "2100:\ttest: 0.7404189\tbest: 0.7404189 (2100)\ttotal: 2m 45s\tremaining: 7.94s\n"
     ]
    },
    {
     "name": "stderr",
     "output_type": "stream",
     "text": [
      "[I 2025-02-19 06:38:08,996] Trial 2 finished with value: 0.7404395791699253 and parameters: {'iterations': 2202, 'depth': 8, 'learning_rate': 0.006955526958101232, 'l2_leaf_reg': 65.98711072054076}. Best is trial 2 with value: 0.7404395791699253.\n"
     ]
    },
    {
     "name": "stdout",
     "output_type": "stream",
     "text": [
      "2201:\ttest: 0.7404381\tbest: 0.7404396 (2193)\ttotal: 2m 54s\tremaining: 0us\n",
      "\n",
      "bestTest = 0.7404395792\n",
      "bestIteration = 2193\n",
      "\n",
      "Shrink model to first 2194 iterations.\n",
      "저장 완료\n",
      "0:\ttest: 0.7025562\tbest: 0.7025562 (0)\ttotal: 49.8ms\tremaining: 2m 12s\n",
      "300:\ttest: 0.7385665\tbest: 0.7385665 (300)\ttotal: 15.3s\tremaining: 1m 59s\n",
      "600:\ttest: 0.7394276\tbest: 0.7394476 (595)\ttotal: 31.4s\tremaining: 1m 47s\n",
      "900:\ttest: 0.7398293\tbest: 0.7398363 (897)\ttotal: 48.1s\tremaining: 1m 34s\n",
      "1200:\ttest: 0.7398756\tbest: 0.7398843 (1196)\ttotal: 1m 4s\tremaining: 1m 19s\n",
      "1500:\ttest: 0.7398995\tbest: 0.7398995 (1500)\ttotal: 1m 21s\tremaining: 1m 3s\n",
      "1800:\ttest: 0.7396491\tbest: 0.7399039 (1551)\ttotal: 1m 38s\tremaining: 47.3s\n"
     ]
    },
    {
     "name": "stderr",
     "output_type": "stream",
     "text": [
      "[I 2025-02-19 06:39:50,838] Trial 3 finished with value: 0.739903851025818 and parameters: {'iterations': 2665, 'depth': 5, 'learning_rate': 0.02227337188467456, 'l2_leaf_reg': 0.0012601639723276807}. Best is trial 2 with value: 0.7404395791699253.\n"
     ]
    },
    {
     "name": "stdout",
     "output_type": "stream",
     "text": [
      "Stopped by overfitting detector  (300 iterations wait)\n",
      "\n",
      "bestTest = 0.739903851\n",
      "bestIteration = 1551\n",
      "\n",
      "Shrink model to first 1552 iterations.\n",
      "0:\ttest: 0.7189588\tbest: 0.7189588 (0)\ttotal: 63ms\tremaining: 1m 41s\n",
      "300:\ttest: 0.7392908\tbest: 0.7393653 (297)\ttotal: 21.1s\tremaining: 1m 31s\n",
      "600:\ttest: 0.7388110\tbest: 0.7394255 (394)\ttotal: 44.1s\tremaining: 1m 13s\n"
     ]
    },
    {
     "name": "stderr",
     "output_type": "stream",
     "text": [
      "[I 2025-02-19 06:40:42,189] Trial 4 finished with value: 0.7394254783623392 and parameters: {'iterations': 1608, 'depth': 7, 'learning_rate': 0.046034776771001, 'l2_leaf_reg': 0.005589524205217926}. Best is trial 2 with value: 0.7404395791699253.\n"
     ]
    },
    {
     "name": "stdout",
     "output_type": "stream",
     "text": [
      "Stopped by overfitting detector  (300 iterations wait)\n",
      "\n",
      "bestTest = 0.7394254784\n",
      "bestIteration = 394\n",
      "\n",
      "Shrink model to first 395 iterations.\n",
      "0:\ttest: 0.7012207\tbest: 0.7012207 (0)\ttotal: 41.8ms\tremaining: 1m 32s\n",
      "300:\ttest: 0.7386267\tbest: 0.7386267 (300)\ttotal: 12.7s\tremaining: 1m 21s\n",
      "600:\ttest: 0.7397753\tbest: 0.7397793 (598)\ttotal: 26s\tremaining: 1m 10s\n",
      "900:\ttest: 0.7399220\tbest: 0.7399503 (864)\ttotal: 39.6s\tremaining: 58.2s\n"
     ]
    },
    {
     "name": "stderr",
     "output_type": "stream",
     "text": [
      "[I 2025-02-19 06:41:34,468] Trial 5 finished with value: 0.7399502667148976 and parameters: {'iterations': 2224, 'depth': 4, 'learning_rate': 0.032753741610845724, 'l2_leaf_reg': 0.01578232781079559}. Best is trial 2 with value: 0.7404395791699253.\n"
     ]
    },
    {
     "name": "stdout",
     "output_type": "stream",
     "text": [
      "Stopped by overfitting detector  (300 iterations wait)\n",
      "\n",
      "bestTest = 0.7399502667\n",
      "bestIteration = 864\n",
      "\n",
      "Shrink model to first 865 iterations.\n",
      "0:\ttest: 0.7219997\tbest: 0.7219997 (0)\ttotal: 77.4ms\tremaining: 2m 27s\n",
      "300:\ttest: 0.7394111\tbest: 0.7394111 (300)\ttotal: 27s\tremaining: 2m 24s\n",
      "600:\ttest: 0.7395835\tbest: 0.7398000 (526)\ttotal: 55.4s\tremaining: 2m\n"
     ]
    },
    {
     "name": "stderr",
     "output_type": "stream",
     "text": [
      "[I 2025-02-19 06:42:53,313] Trial 6 finished with value: 0.7398000322054756 and parameters: {'iterations': 1912, 'depth': 9, 'learning_rate': 0.023969009305044177, 'l2_leaf_reg': 0.12173252504194051}. Best is trial 2 with value: 0.7404395791699253.\n"
     ]
    },
    {
     "name": "stdout",
     "output_type": "stream",
     "text": [
      "Stopped by overfitting detector  (300 iterations wait)\n",
      "\n",
      "bestTest = 0.7398000322\n",
      "bestIteration = 526\n",
      "\n",
      "Shrink model to first 527 iterations.\n",
      "0:\ttest: 0.7012207\tbest: 0.7012207 (0)\ttotal: 42.6ms\tremaining: 1m 33s\n",
      "300:\ttest: 0.7398350\tbest: 0.7398432 (283)\ttotal: 13s\tremaining: 1m 21s\n",
      "600:\ttest: 0.7398297\tbest: 0.7400453 (456)\ttotal: 26.7s\tremaining: 1m 10s\n"
     ]
    },
    {
     "name": "stderr",
     "output_type": "stream",
     "text": [
      "[I 2025-02-19 06:43:27,300] Trial 7 finished with value: 0.7400453138475699 and parameters: {'iterations': 2185, 'depth': 4, 'learning_rate': 0.06271676093063665, 'l2_leaf_reg': 0.0010547383621352044}. Best is trial 2 with value: 0.7404395791699253.\n"
     ]
    },
    {
     "name": "stdout",
     "output_type": "stream",
     "text": [
      "Stopped by overfitting detector  (300 iterations wait)\n",
      "\n",
      "bestTest = 0.7400453138\n",
      "bestIteration = 456\n",
      "\n",
      "Shrink model to first 457 iterations.\n",
      "0:\ttest: 0.7261739\tbest: 0.7261739 (0)\ttotal: 89.5ms\tremaining: 1m 40s\n",
      "300:\ttest: 0.7380216\tbest: 0.7396784 (128)\ttotal: 39.9s\tremaining: 1m 49s\n"
     ]
    },
    {
     "name": "stderr",
     "output_type": "stream",
     "text": [
      "[I 2025-02-19 06:44:26,062] Trial 8 finished with value: 0.7396784039604158 and parameters: {'iterations': 1130, 'depth': 10, 'learning_rate': 0.09673504314208314, 'l2_leaf_reg': 7.085721663941605}. Best is trial 2 with value: 0.7404395791699253.\n"
     ]
    },
    {
     "name": "stdout",
     "output_type": "stream",
     "text": [
      "Stopped by overfitting detector  (300 iterations wait)\n",
      "\n",
      "bestTest = 0.739678404\n",
      "bestIteration = 128\n",
      "\n",
      "Shrink model to first 129 iterations.\n",
      "0:\ttest: 0.7012207\tbest: 0.7012207 (0)\ttotal: 45.4ms\tremaining: 1m 12s\n",
      "300:\ttest: 0.7400259\tbest: 0.7400259 (300)\ttotal: 13.3s\tremaining: 57.9s\n",
      "600:\ttest: 0.7400878\tbest: 0.7402257 (433)\ttotal: 27.4s\tremaining: 45.9s\n"
     ]
    },
    {
     "name": "stderr",
     "output_type": "stream",
     "text": [
      "[I 2025-02-19 06:44:59,960] Trial 9 finished with value: 0.7402257390049576 and parameters: {'iterations': 1609, 'depth': 4, 'learning_rate': 0.07000213751865492, 'l2_leaf_reg': 0.04374364439939081}. Best is trial 2 with value: 0.7404395791699253.\n"
     ]
    },
    {
     "name": "stdout",
     "output_type": "stream",
     "text": [
      "Stopped by overfitting detector  (300 iterations wait)\n",
      "\n",
      "bestTest = 0.740225739\n",
      "bestIteration = 433\n",
      "\n",
      "Shrink model to first 434 iterations.\n",
      "0:\ttest: 0.7182984\tbest: 0.7182984 (0)\ttotal: 72.7ms\tremaining: 3m 31s\n",
      "300:\ttest: 0.7365049\tbest: 0.7365049 (300)\ttotal: 23.2s\tremaining: 3m 21s\n",
      "600:\ttest: 0.7385624\tbest: 0.7385624 (600)\ttotal: 46s\tremaining: 2m 56s\n",
      "900:\ttest: 0.7393799\tbest: 0.7393799 (900)\ttotal: 1m 9s\tremaining: 2m 34s\n",
      "1200:\ttest: 0.7398024\tbest: 0.7398024 (1200)\ttotal: 1m 32s\tremaining: 2m 11s\n",
      "1500:\ttest: 0.7399788\tbest: 0.7399812 (1497)\ttotal: 1m 55s\tremaining: 1m 47s\n",
      "1800:\ttest: 0.7400997\tbest: 0.7400997 (1800)\ttotal: 2m 17s\tremaining: 1m 24s\n",
      "2100:\ttest: 0.7402038\tbest: 0.7402038 (2099)\ttotal: 2m 41s\tremaining: 1m 2s\n",
      "2400:\ttest: 0.7402734\tbest: 0.7402775 (2349)\ttotal: 3m 6s\tremaining: 39.3s\n",
      "2700:\ttest: 0.7402992\tbest: 0.7403029 (2682)\ttotal: 3m 32s\tremaining: 16.3s\n"
     ]
    },
    {
     "name": "stderr",
     "output_type": "stream",
     "text": [
      "[I 2025-02-19 06:48:51,482] Trial 10 finished with value: 0.7403308205671194 and parameters: {'iterations': 2908, 'depth': 8, 'learning_rate': 0.005716995335047832, 'l2_leaf_reg': 53.77119408946009}. Best is trial 2 with value: 0.7404395791699253.\n"
     ]
    },
    {
     "name": "stdout",
     "output_type": "stream",
     "text": [
      "2907:\ttest: 0.7403271\tbest: 0.7403308 (2903)\ttotal: 3m 51s\tremaining: 0us\n",
      "\n",
      "bestTest = 0.7403308206\n",
      "bestIteration = 2903\n",
      "\n",
      "Shrink model to first 2904 iterations.\n",
      "0:\ttest: 0.7183826\tbest: 0.7183826 (0)\ttotal: 73.9ms\tremaining: 3m 36s\n",
      "300:\ttest: 0.7367804\tbest: 0.7367804 (300)\ttotal: 22.7s\tremaining: 3m 18s\n",
      "600:\ttest: 0.7387789\tbest: 0.7387789 (600)\ttotal: 45.6s\tremaining: 2m 56s\n",
      "900:\ttest: 0.7395102\tbest: 0.7395102 (900)\ttotal: 1m 8s\tremaining: 2m 35s\n",
      "1200:\ttest: 0.7398956\tbest: 0.7398956 (1200)\ttotal: 1m 31s\tremaining: 2m 12s\n",
      "1500:\ttest: 0.7401058\tbest: 0.7401058 (1500)\ttotal: 1m 54s\tremaining: 1m 49s\n",
      "1800:\ttest: 0.7402285\tbest: 0.7402300 (1797)\ttotal: 2m 17s\tremaining: 1m 26s\n",
      "2100:\ttest: 0.7403548\tbest: 0.7403566 (2096)\ttotal: 2m 41s\tremaining: 1m 3s\n",
      "2400:\ttest: 0.7404682\tbest: 0.7404682 (2396)\ttotal: 3m 7s\tremaining: 41.2s\n",
      "2700:\ttest: 0.7405113\tbest: 0.7405117 (2695)\ttotal: 3m 33s\tremaining: 18.1s\n"
     ]
    },
    {
     "name": "stderr",
     "output_type": "stream",
     "text": [
      "[I 2025-02-19 06:52:45,060] Trial 11 finished with value: 0.7405332126671016 and parameters: {'iterations': 2930, 'depth': 8, 'learning_rate': 0.006402408540446873, 'l2_leaf_reg': 83.11832707510945}. Best is trial 11 with value: 0.7405332126671016.\n"
     ]
    },
    {
     "name": "stdout",
     "output_type": "stream",
     "text": [
      "2929:\ttest: 0.7405282\tbest: 0.7405332 (2903)\ttotal: 3m 53s\tremaining: 0us\n",
      "\n",
      "bestTest = 0.7405332127\n",
      "bestIteration = 2903\n",
      "\n",
      "Shrink model to first 2904 iterations.\n",
      "저장 완료\n",
      "0:\ttest: 0.7189575\tbest: 0.7189575 (0)\ttotal: 65.4ms\tremaining: 2m 44s\n",
      "300:\ttest: 0.7398761\tbest: 0.7398761 (300)\ttotal: 21.1s\tremaining: 2m 35s\n",
      "600:\ttest: 0.7399812\tbest: 0.7400585 (412)\ttotal: 44s\tremaining: 2m 20s\n"
     ]
    },
    {
     "name": "stderr",
     "output_type": "stream",
     "text": [
      "[I 2025-02-19 06:53:38,162] Trial 12 finished with value: 0.7400585488113565 and parameters: {'iterations': 2521, 'depth': 7, 'learning_rate': 0.03782006809201869, 'l2_leaf_reg': 1.5238260374413366}. Best is trial 11 with value: 0.7405332126671016.\n"
     ]
    },
    {
     "name": "stdout",
     "output_type": "stream",
     "text": [
      "Stopped by overfitting detector  (300 iterations wait)\n",
      "\n",
      "bestTest = 0.7400585488\n",
      "bestIteration = 412\n",
      "\n",
      "Shrink model to first 413 iterations.\n",
      "0:\ttest: 0.7183884\tbest: 0.7183884 (0)\ttotal: 75.3ms\tremaining: 3m 40s\n",
      "300:\ttest: 0.7394722\tbest: 0.7394722 (300)\ttotal: 23.9s\tremaining: 3m 28s\n",
      "600:\ttest: 0.7401499\tbest: 0.7401532 (598)\ttotal: 47.2s\tremaining: 3m 2s\n",
      "900:\ttest: 0.7403649\tbest: 0.7403654 (899)\ttotal: 1m 11s\tremaining: 2m 40s\n",
      "1200:\ttest: 0.7403894\tbest: 0.7404109 (1151)\ttotal: 1m 38s\tremaining: 2m 20s\n",
      "1500:\ttest: 0.7404614\tbest: 0.7404754 (1491)\ttotal: 2m 4s\tremaining: 1m 57s\n",
      "1800:\ttest: 0.7405010\tbest: 0.7405103 (1778)\ttotal: 2m 30s\tremaining: 1m 33s\n",
      "2100:\ttest: 0.7404430\tbest: 0.7405265 (1808)\ttotal: 2m 57s\tremaining: 1m 9s\n"
     ]
    },
    {
     "name": "stderr",
     "output_type": "stream",
     "text": [
      "[I 2025-02-19 06:56:36,581] Trial 13 finished with value: 0.7405265018693821 and parameters: {'iterations': 2923, 'depth': 8, 'learning_rate': 0.018448514255086916, 'l2_leaf_reg': 65.5477287928456}. Best is trial 11 with value: 0.7405332126671016.\n"
     ]
    },
    {
     "name": "stdout",
     "output_type": "stream",
     "text": [
      "Stopped by overfitting detector  (300 iterations wait)\n",
      "\n",
      "bestTest = 0.7405265019\n",
      "bestIteration = 1808\n",
      "\n",
      "Shrink model to first 1809 iterations.\n",
      "0:\ttest: 0.7200108\tbest: 0.7200108 (0)\ttotal: 76.3ms\tremaining: 3m 47s\n",
      "300:\ttest: 0.7394727\tbest: 0.7394727 (300)\ttotal: 23.9s\tremaining: 3m 32s\n",
      "600:\ttest: 0.7399134\tbest: 0.7399339 (590)\ttotal: 48.9s\tremaining: 3m 13s\n",
      "900:\ttest: 0.7400205\tbest: 0.7400653 (809)\ttotal: 1m 15s\tremaining: 2m 54s\n"
     ]
    },
    {
     "name": "stderr",
     "output_type": "stream",
     "text": [
      "[I 2025-02-19 06:58:10,883] Trial 14 finished with value: 0.7400653429976869 and parameters: {'iterations': 2982, 'depth': 8, 'learning_rate': 0.02149066211739338, 'l2_leaf_reg': 2.701850893373032}. Best is trial 11 with value: 0.7405332126671016.\n"
     ]
    },
    {
     "name": "stdout",
     "output_type": "stream",
     "text": [
      "Stopped by overfitting detector  (300 iterations wait)\n",
      "\n",
      "bestTest = 0.740065343\n",
      "bestIteration = 809\n",
      "\n",
      "Shrink model to first 810 iterations.\n",
      "0:\ttest: 0.7128108\tbest: 0.7128108 (0)\ttotal: 56.4ms\tremaining: 2m 25s\n",
      "300:\ttest: 0.7399430\tbest: 0.7399451 (299)\ttotal: 18.4s\tremaining: 2m 19s\n",
      "600:\ttest: 0.7402095\tbest: 0.7402472 (577)\ttotal: 38.1s\tremaining: 2m 6s\n"
     ]
    },
    {
     "name": "stderr",
     "output_type": "stream",
     "text": [
      "[I 2025-02-19 06:59:07,538] Trial 15 finished with value: 0.7402472056158877 and parameters: {'iterations': 2589, 'depth': 6, 'learning_rate': 0.051064048909472845, 'l2_leaf_reg': 17.018635601186592}. Best is trial 11 with value: 0.7405332126671016.\n"
     ]
    },
    {
     "name": "stdout",
     "output_type": "stream",
     "text": [
      "Stopped by overfitting detector  (300 iterations wait)\n",
      "\n",
      "bestTest = 0.7402472056\n",
      "bestIteration = 577\n",
      "\n",
      "Shrink model to first 578 iterations.\n",
      "0:\ttest: 0.7254219\tbest: 0.7254219 (0)\ttotal: 75.9ms\tremaining: 3m 27s\n",
      "300:\ttest: 0.7394852\tbest: 0.7394852 (300)\ttotal: 26.2s\tremaining: 3m 31s\n",
      "600:\ttest: 0.7401893\tbest: 0.7401893 (599)\ttotal: 51.8s\tremaining: 3m 3s\n",
      "900:\ttest: 0.7404090\tbest: 0.7404096 (894)\ttotal: 1m 17s\tremaining: 2m 36s\n",
      "1200:\ttest: 0.7404534\tbest: 0.7404788 (1031)\ttotal: 1m 47s\tremaining: 2m 16s\n",
      "1500:\ttest: 0.7404448\tbest: 0.7404795 (1249)\ttotal: 2m 17s\tremaining: 1m 52s\n"
     ]
    },
    {
     "name": "stderr",
     "output_type": "stream",
     "text": [
      "[I 2025-02-19 07:01:29,987] Trial 16 finished with value: 0.7404794587802791 and parameters: {'iterations': 2731, 'depth': 9, 'learning_rate': 0.015384725474213838, 'l2_leaf_reg': 94.64533014403685}. Best is trial 11 with value: 0.7405332126671016.\n"
     ]
    },
    {
     "name": "stdout",
     "output_type": "stream",
     "text": [
      "Stopped by overfitting detector  (300 iterations wait)\n",
      "\n",
      "bestTest = 0.7404794588\n",
      "bestIteration = 1249\n",
      "\n",
      "Shrink model to first 1250 iterations.\n",
      "0:\ttest: 0.7220008\tbest: 0.7220008 (0)\ttotal: 84.8ms\tremaining: 3m 29s\n",
      "300:\ttest: 0.7387345\tbest: 0.7388295 (227)\ttotal: 26.4s\tremaining: 3m 10s\n",
      "600:\ttest: 0.7361573\tbest: 0.7388417 (315)\ttotal: 56.7s\tremaining: 2m 56s\n"
     ]
    },
    {
     "name": "stderr",
     "output_type": "stream",
     "text": [
      "[I 2025-02-19 07:02:30,749] Trial 17 finished with value: 0.738841734262004 and parameters: {'iterations': 2474, 'depth': 9, 'learning_rate': 0.03503830150553558, 'l2_leaf_reg': 0.00016260154106128303}. Best is trial 11 with value: 0.7405332126671016.\n"
     ]
    },
    {
     "name": "stdout",
     "output_type": "stream",
     "text": [
      "Stopped by overfitting detector  (300 iterations wait)\n",
      "\n",
      "bestTest = 0.7388417343\n",
      "bestIteration = 315\n",
      "\n",
      "Shrink model to first 316 iterations.\n",
      "0:\ttest: 0.7147505\tbest: 0.7147505 (0)\ttotal: 55.2ms\tremaining: 2m 36s\n",
      "300:\ttest: 0.7402438\tbest: 0.7403024 (293)\ttotal: 19.9s\tremaining: 2m 47s\n"
     ]
    },
    {
     "name": "stderr",
     "output_type": "stream",
     "text": [
      "[I 2025-02-19 07:03:10,920] Trial 18 finished with value: 0.740302385050865 and parameters: {'iterations': 2837, 'depth': 6, 'learning_rate': 0.09183848173899832, 'l2_leaf_reg': 0.7013678302835362}. Best is trial 11 with value: 0.7405332126671016.\n"
     ]
    },
    {
     "name": "stdout",
     "output_type": "stream",
     "text": [
      "Stopped by overfitting detector  (300 iterations wait)\n",
      "\n",
      "bestTest = 0.7403023851\n",
      "bestIteration = 293\n",
      "\n",
      "Shrink model to first 294 iterations.\n",
      "0:\ttest: 0.7200026\tbest: 0.7200026 (0)\ttotal: 71.3ms\tremaining: 2m 47s\n",
      "300:\ttest: 0.7394601\tbest: 0.7394626 (299)\ttotal: 23.4s\tremaining: 2m 39s\n",
      "600:\ttest: 0.7401101\tbest: 0.7401101 (599)\ttotal: 47.5s\tremaining: 2m 18s\n",
      "900:\ttest: 0.7403066\tbest: 0.7403357 (899)\ttotal: 1m 13s\tremaining: 1m 58s\n",
      "1200:\ttest: 0.7402314\tbest: 0.7403552 (926)\ttotal: 1m 39s\tremaining: 1m 35s\n"
     ]
    },
    {
     "name": "stderr",
     "output_type": "stream",
     "text": [
      "[I 2025-02-19 07:04:53,124] Trial 19 finished with value: 0.7403551938667661 and parameters: {'iterations': 2357, 'depth': 8, 'learning_rate': 0.018187219567495812, 'l2_leaf_reg': 6.770499390711928}. Best is trial 11 with value: 0.7405332126671016.\n",
      "[I 2025-02-19 07:04:53,131] A new study created in memory with name: no-name-b8425bc1-13ad-4a5d-bb98-4cc7ca2784a8\n"
     ]
    },
    {
     "name": "stdout",
     "output_type": "stream",
     "text": [
      "Stopped by overfitting detector  (300 iterations wait)\n",
      "\n",
      "bestTest = 0.7403551939\n",
      "bestIteration = 926\n",
      "\n",
      "Shrink model to first 927 iterations.\n"
     ]
    },
    {
     "name": "stderr",
     "output_type": "stream",
     "text": [
      "[I 2025-02-19 07:05:12,931] Trial 0 finished with value: 0.7388541710776595 and parameters: {'objective': 'binary', 'metric': 'auc', 'random_state': 42, 'verbose': -1, 'learning_rate': 0.015355286838886862, 'n_estimators': 1907, 'min_child_samples': 40, 'subsample': 0.8, 'colsample_bytree': 0.5}. Best is trial 0 with value: 0.7388541710776595.\n",
      "[I 2025-02-19 07:05:15,007] Trial 1 finished with value: 0.7366805079583072 and parameters: {'objective': 'binary', 'metric': 'auc', 'random_state': 42, 'verbose': -1, 'learning_rate': 0.00797854234707418, 'n_estimators': 210, 'min_child_samples': 45, 'subsample': 0.8, 'colsample_bytree': 0.9}. Best is trial 0 with value: 0.7388541710776595.\n",
      "[I 2025-02-19 07:05:33,790] Trial 2 finished with value: 0.7400779942411985 and parameters: {'objective': 'binary', 'metric': 'auc', 'random_state': 42, 'verbose': -1, 'learning_rate': 0.005318033256270142, 'n_estimators': 1943, 'min_child_samples': 45, 'subsample': 0.6, 'colsample_bytree': 0.6}. Best is trial 2 with value: 0.7400779942411985.\n",
      "[I 2025-02-19 07:05:40,717] Trial 3 finished with value: 0.7398772103501372 and parameters: {'objective': 'binary', 'metric': 'auc', 'random_state': 42, 'verbose': -1, 'learning_rate': 0.008661333735273127, 'n_estimators': 678, 'min_child_samples': 30, 'subsample': 0.7, 'colsample_bytree': 0.6}. Best is trial 2 with value: 0.7400779942411985.\n",
      "[I 2025-02-19 07:05:44,039] Trial 4 finished with value: 0.7399171336402395 and parameters: {'objective': 'binary', 'metric': 'auc', 'random_state': 42, 'verbose': -1, 'learning_rate': 0.03126143958203108, 'n_estimators': 365, 'min_child_samples': 20, 'subsample': 0.7, 'colsample_bytree': 0.7}. Best is trial 2 with value: 0.7400779942411985.\n",
      "[I 2025-02-19 07:05:49,288] Trial 5 finished with value: 0.7383361927949762 and parameters: {'objective': 'binary', 'metric': 'auc', 'random_state': 42, 'verbose': -1, 'learning_rate': 0.05254210669345883, 'n_estimators': 479, 'min_child_samples': 30, 'subsample': 0.8, 'colsample_bytree': 0.5}. Best is trial 2 with value: 0.7400779942411985.\n",
      "[I 2025-02-19 07:05:53,020] Trial 6 finished with value: 0.7397811506414776 and parameters: {'objective': 'binary', 'metric': 'auc', 'random_state': 42, 'verbose': -1, 'learning_rate': 0.030860579740535368, 'n_estimators': 424, 'min_child_samples': 10, 'subsample': 1.0, 'colsample_bytree': 1.0}. Best is trial 2 with value: 0.7400779942411985.\n",
      "[I 2025-02-19 07:05:58,631] Trial 7 finished with value: 0.7386949861906872 and parameters: {'objective': 'binary', 'metric': 'auc', 'random_state': 42, 'verbose': -1, 'learning_rate': 0.05632733481673016, 'n_estimators': 679, 'min_child_samples': 10, 'subsample': 0.9, 'colsample_bytree': 0.7}. Best is trial 2 with value: 0.7400779942411985.\n",
      "[I 2025-02-19 07:06:09,114] Trial 8 finished with value: 0.7400325434774715 and parameters: {'objective': 'binary', 'metric': 'auc', 'random_state': 42, 'verbose': -1, 'learning_rate': 0.007206848764305203, 'n_estimators': 1041, 'min_child_samples': 10, 'subsample': 1.0, 'colsample_bytree': 0.6}. Best is trial 2 with value: 0.7400779942411985.\n",
      "[I 2025-02-19 07:06:15,526] Trial 9 finished with value: 0.739133983546363 and parameters: {'objective': 'binary', 'metric': 'auc', 'random_state': 42, 'verbose': -1, 'learning_rate': 0.036385753170854684, 'n_estimators': 692, 'min_child_samples': 30, 'subsample': 0.8, 'colsample_bytree': 0.6}. Best is trial 2 with value: 0.7400779942411985.\n",
      "[I 2025-02-19 07:06:30,262] Trial 10 finished with value: 0.7387926699918127 and parameters: {'objective': 'binary', 'metric': 'auc', 'random_state': 42, 'verbose': -1, 'learning_rate': 0.015894131971030474, 'n_estimators': 1873, 'min_child_samples': 50, 'subsample': 0.5, 'colsample_bytree': 0.8}. Best is trial 2 with value: 0.7400779942411985.\n",
      "[I 2025-02-19 07:06:43,489] Trial 11 finished with value: 0.7399820099793771 and parameters: {'objective': 'binary', 'metric': 'auc', 'random_state': 42, 'verbose': -1, 'learning_rate': 0.0054932202901173555, 'n_estimators': 1329, 'min_child_samples': 20, 'subsample': 0.5, 'colsample_bytree': 0.6}. Best is trial 2 with value: 0.7400779942411985.\n",
      "[I 2025-02-19 07:06:54,782] Trial 12 finished with value: 0.7398599846456948 and parameters: {'objective': 'binary', 'metric': 'auc', 'random_state': 42, 'verbose': -1, 'learning_rate': 0.005247354763459572, 'n_estimators': 1273, 'min_child_samples': 40, 'subsample': 0.6, 'colsample_bytree': 0.8}. Best is trial 2 with value: 0.7400779942411985.\n",
      "[I 2025-02-19 07:07:08,776] Trial 13 finished with value: 0.7399512276693639 and parameters: {'objective': 'binary', 'metric': 'auc', 'random_state': 42, 'verbose': -1, 'learning_rate': 0.010031606831238936, 'n_estimators': 1484, 'min_child_samples': 20, 'subsample': 1.0, 'colsample_bytree': 0.6}. Best is trial 2 with value: 0.7400779942411985.\n",
      "[I 2025-02-19 07:07:19,376] Trial 14 finished with value: 0.7399850794744287 and parameters: {'objective': 'binary', 'metric': 'auc', 'random_state': 42, 'verbose': -1, 'learning_rate': 0.014790680152586035, 'n_estimators': 962, 'min_child_samples': 40, 'subsample': 0.6, 'colsample_bytree': 0.5}. Best is trial 2 with value: 0.7400779942411985.\n",
      "[I 2025-02-19 07:07:31,726] Trial 15 finished with value: 0.7282129584058563 and parameters: {'objective': 'binary', 'metric': 'auc', 'random_state': 42, 'verbose': -1, 'learning_rate': 0.0902334606102013, 'n_estimators': 1643, 'min_child_samples': 50, 'subsample': 0.6, 'colsample_bytree': 0.7}. Best is trial 2 with value: 0.7400779942411985.\n",
      "[I 2025-02-19 07:07:41,899] Trial 16 finished with value: 0.7400547208770359 and parameters: {'objective': 'binary', 'metric': 'auc', 'random_state': 42, 'verbose': -1, 'learning_rate': 0.007314440229254275, 'n_estimators': 1026, 'min_child_samples': 15, 'subsample': 0.9, 'colsample_bytree': 0.6}. Best is trial 2 with value: 0.7400779942411985.\n",
      "[I 2025-02-19 07:07:49,897] Trial 17 finished with value: 0.7400960617735204 and parameters: {'objective': 'binary', 'metric': 'auc', 'random_state': 42, 'verbose': -1, 'learning_rate': 0.01111360174188732, 'n_estimators': 908, 'min_child_samples': 25, 'subsample': 0.9, 'colsample_bytree': 0.7}. Best is trial 17 with value: 0.7400960617735204.\n",
      "[I 2025-02-19 07:08:03,733] Trial 18 finished with value: 0.7398875227416625 and parameters: {'objective': 'binary', 'metric': 'auc', 'random_state': 42, 'verbose': -1, 'learning_rate': 0.011529644158518614, 'n_estimators': 1716, 'min_child_samples': 35, 'subsample': 0.9, 'colsample_bytree': 0.8}. Best is trial 17 with value: 0.7400960617735204.\n",
      "[I 2025-02-19 07:08:13,479] Trial 19 finished with value: 0.7390945764714698 and parameters: {'objective': 'binary', 'metric': 'auc', 'random_state': 42, 'verbose': -1, 'learning_rate': 0.021896517458305013, 'n_estimators': 1220, 'min_child_samples': 25, 'subsample': 0.7, 'colsample_bytree': 0.9}. Best is trial 17 with value: 0.7400960617735204.\n"
     ]
    },
    {
     "name": "stdout",
     "output_type": "stream",
     "text": [
      "Cat val score : 0.7405332126671016\n",
      "LGBM val score : 0.7400960617735204\n",
      "Ensemble val score : 0.7405783259054994\n"
     ]
    },
    {
     "name": "stderr",
     "output_type": "stream",
     "text": [
      "[I 2025-02-19 07:08:22,207] A new study created in memory with name: no-name-0ed603e4-70ff-40ea-bbb7-fd697459a3e0\n"
     ]
    },
    {
     "name": "stdout",
     "output_type": "stream",
     "text": [
      "==================================================\n",
      "0:\ttest: 0.7236670\tbest: 0.7236670 (0)\ttotal: 99.1ms\tremaining: 2m 53s\n",
      "300:\ttest: 0.7384635\tbest: 0.7401046 (182)\ttotal: 39.7s\tremaining: 3m 11s\n"
     ]
    },
    {
     "name": "stderr",
     "output_type": "stream",
     "text": [
      "[I 2025-02-19 07:09:29,116] Trial 0 finished with value: 0.7401045554991548 and parameters: {'iterations': 1749, 'depth': 10, 'learning_rate': 0.07453942447208349, 'l2_leaf_reg': 0.39079671568228835}. Best is trial 0 with value: 0.7401045554991548.\n"
     ]
    },
    {
     "name": "stdout",
     "output_type": "stream",
     "text": [
      "Stopped by overfitting detector  (300 iterations wait)\n",
      "\n",
      "bestTest = 0.7401045555\n",
      "bestIteration = 182\n",
      "\n",
      "Shrink model to first 183 iterations.\n",
      "저장 완료\n",
      "0:\ttest: 0.7047206\tbest: 0.7047206 (0)\ttotal: 53.6ms\tremaining: 1m 10s\n",
      "300:\ttest: 0.7343178\tbest: 0.7343178 (300)\ttotal: 15.9s\tremaining: 53.3s\n",
      "600:\ttest: 0.7377905\tbest: 0.7377905 (600)\ttotal: 32.3s\tremaining: 38.2s\n",
      "900:\ttest: 0.7390847\tbest: 0.7390847 (900)\ttotal: 48.6s\tremaining: 22.2s\n",
      "1200:\ttest: 0.7398996\tbest: 0.7399002 (1199)\ttotal: 1m 4s\tremaining: 6s\n"
     ]
    },
    {
     "name": "stderr",
     "output_type": "stream",
     "text": [
      "[I 2025-02-19 07:10:40,447] Trial 1 finished with value: 0.7401333285407383 and parameters: {'iterations': 1312, 'depth': 5, 'learning_rate': 0.010517943155978949, 'l2_leaf_reg': 15.741890047456648}. Best is trial 1 with value: 0.7401333285407383.\n"
     ]
    },
    {
     "name": "stdout",
     "output_type": "stream",
     "text": [
      "1311:\ttest: 0.7401312\tbest: 0.7401333 (1310)\ttotal: 1m 11s\tremaining: 0us\n",
      "\n",
      "bestTest = 0.7401333285\n",
      "bestIteration = 1310\n",
      "\n",
      "Shrink model to first 1311 iterations.\n",
      "저장 완료\n",
      "0:\ttest: 0.7193412\tbest: 0.7193412 (0)\ttotal: 72.8ms\tremaining: 2m 40s\n",
      "300:\ttest: 0.7348367\tbest: 0.7348367 (300)\ttotal: 23.4s\tremaining: 2m 27s\n",
      "600:\ttest: 0.7381202\tbest: 0.7381202 (600)\ttotal: 46.7s\tremaining: 2m 4s\n",
      "900:\ttest: 0.7394345\tbest: 0.7394357 (898)\ttotal: 1m 10s\tremaining: 1m 42s\n",
      "1200:\ttest: 0.7401674\tbest: 0.7401691 (1199)\ttotal: 1m 35s\tremaining: 1m 19s\n",
      "1500:\ttest: 0.7405408\tbest: 0.7405408 (1500)\ttotal: 1m 57s\tremaining: 54.9s\n",
      "1800:\ttest: 0.7408503\tbest: 0.7408503 (1800)\ttotal: 2m 19s\tremaining: 31.1s\n",
      "2100:\ttest: 0.7410883\tbest: 0.7410883 (2098)\ttotal: 2m 44s\tremaining: 7.91s\n"
     ]
    },
    {
     "name": "stderr",
     "output_type": "stream",
     "text": [
      "[I 2025-02-19 07:13:34,380] Trial 2 finished with value: 0.741143355219058 and parameters: {'iterations': 2202, 'depth': 8, 'learning_rate': 0.006955526958101232, 'l2_leaf_reg': 65.98711072054076}. Best is trial 2 with value: 0.741143355219058.\n"
     ]
    },
    {
     "name": "stdout",
     "output_type": "stream",
     "text": [
      "2201:\ttest: 0.7411434\tbest: 0.7411434 (2201)\ttotal: 2m 53s\tremaining: 0us\n",
      "\n",
      "bestTest = 0.7411433552\n",
      "bestIteration = 2201\n",
      "\n",
      "저장 완료\n",
      "0:\ttest: 0.7047244\tbest: 0.7047244 (0)\ttotal: 51.3ms\tremaining: 2m 16s\n",
      "300:\ttest: 0.7379455\tbest: 0.7379455 (300)\ttotal: 15.2s\tremaining: 1m 59s\n",
      "600:\ttest: 0.7397611\tbest: 0.7397611 (600)\ttotal: 31.2s\tremaining: 1m 47s\n",
      "900:\ttest: 0.7406777\tbest: 0.7407185 (872)\ttotal: 48s\tremaining: 1m 33s\n",
      "1200:\ttest: 0.7408281\tbest: 0.7408339 (1187)\ttotal: 1m 5s\tremaining: 1m 19s\n",
      "1500:\ttest: 0.7407993\tbest: 0.7408800 (1241)\ttotal: 1m 22s\tremaining: 1m 4s\n"
     ]
    },
    {
     "name": "stderr",
     "output_type": "stream",
     "text": [
      "[I 2025-02-19 07:14:59,494] Trial 3 finished with value: 0.740880025899073 and parameters: {'iterations': 2665, 'depth': 5, 'learning_rate': 0.02227337188467456, 'l2_leaf_reg': 0.0012601639723276807}. Best is trial 2 with value: 0.741143355219058.\n"
     ]
    },
    {
     "name": "stdout",
     "output_type": "stream",
     "text": [
      "Stopped by overfitting detector  (300 iterations wait)\n",
      "\n",
      "bestTest = 0.7408800259\n",
      "bestIteration = 1241\n",
      "\n",
      "Shrink model to first 1242 iterations.\n",
      "0:\ttest: 0.7188375\tbest: 0.7188375 (0)\ttotal: 66.1ms\tremaining: 1m 46s\n",
      "300:\ttest: 0.7404365\tbest: 0.7404919 (297)\ttotal: 21.4s\tremaining: 1m 33s\n",
      "600:\ttest: 0.7400789\tbest: 0.7408810 (403)\ttotal: 45s\tremaining: 1m 15s\n"
     ]
    },
    {
     "name": "stderr",
     "output_type": "stream",
     "text": [
      "[I 2025-02-19 07:15:52,521] Trial 4 finished with value: 0.7408809669991082 and parameters: {'iterations': 1608, 'depth': 7, 'learning_rate': 0.046034776771001, 'l2_leaf_reg': 0.005589524205217926}. Best is trial 2 with value: 0.741143355219058.\n"
     ]
    },
    {
     "name": "stdout",
     "output_type": "stream",
     "text": [
      "Stopped by overfitting detector  (300 iterations wait)\n",
      "\n",
      "bestTest = 0.740880967\n",
      "bestIteration = 403\n",
      "\n",
      "Shrink model to first 404 iterations.\n",
      "0:\ttest: 0.6986379\tbest: 0.6986379 (0)\ttotal: 44.7ms\tremaining: 1m 39s\n",
      "300:\ttest: 0.7384018\tbest: 0.7384018 (300)\ttotal: 12.7s\tremaining: 1m 20s\n",
      "600:\ttest: 0.7404876\tbest: 0.7404876 (600)\ttotal: 26s\tremaining: 1m 10s\n",
      "900:\ttest: 0.7407979\tbest: 0.7408162 (881)\ttotal: 39.6s\tremaining: 58.2s\n",
      "1200:\ttest: 0.7408488\tbest: 0.7409268 (1089)\ttotal: 53.7s\tremaining: 45.7s\n"
     ]
    },
    {
     "name": "stderr",
     "output_type": "stream",
     "text": [
      "[I 2025-02-19 07:16:55,179] Trial 5 finished with value: 0.7409268267641163 and parameters: {'iterations': 2224, 'depth': 4, 'learning_rate': 0.032753741610845724, 'l2_leaf_reg': 0.01578232781079559}. Best is trial 2 with value: 0.741143355219058.\n"
     ]
    },
    {
     "name": "stdout",
     "output_type": "stream",
     "text": [
      "Stopped by overfitting detector  (300 iterations wait)\n",
      "\n",
      "bestTest = 0.7409268268\n",
      "bestIteration = 1089\n",
      "\n",
      "Shrink model to first 1090 iterations.\n",
      "0:\ttest: 0.7193525\tbest: 0.7193525 (0)\ttotal: 81.7ms\tremaining: 2m 36s\n",
      "300:\ttest: 0.7399838\tbest: 0.7399838 (300)\ttotal: 26.3s\tremaining: 2m 20s\n",
      "600:\ttest: 0.7406519\tbest: 0.7407458 (569)\ttotal: 54.5s\tremaining: 1m 58s\n"
     ]
    },
    {
     "name": "stderr",
     "output_type": "stream",
     "text": [
      "[I 2025-02-19 07:18:17,944] Trial 6 finished with value: 0.740745825828226 and parameters: {'iterations': 1912, 'depth': 9, 'learning_rate': 0.023969009305044177, 'l2_leaf_reg': 0.12173252504194051}. Best is trial 2 with value: 0.741143355219058.\n"
     ]
    },
    {
     "name": "stdout",
     "output_type": "stream",
     "text": [
      "Stopped by overfitting detector  (300 iterations wait)\n",
      "\n",
      "bestTest = 0.7407458258\n",
      "bestIteration = 569\n",
      "\n",
      "Shrink model to first 570 iterations.\n",
      "0:\ttest: 0.6986379\tbest: 0.6986379 (0)\ttotal: 43.6ms\tremaining: 1m 35s\n",
      "300:\ttest: 0.7400456\tbest: 0.7400456 (300)\ttotal: 13.5s\tremaining: 1m 24s\n",
      "600:\ttest: 0.7405256\tbest: 0.7406747 (445)\ttotal: 27.2s\tremaining: 1m 11s\n"
     ]
    },
    {
     "name": "stderr",
     "output_type": "stream",
     "text": [
      "[I 2025-02-19 07:18:51,975] Trial 7 finished with value: 0.7406746874015121 and parameters: {'iterations': 2185, 'depth': 4, 'learning_rate': 0.06271676093063665, 'l2_leaf_reg': 0.0010547383621352044}. Best is trial 2 with value: 0.741143355219058.\n"
     ]
    },
    {
     "name": "stdout",
     "output_type": "stream",
     "text": [
      "Stopped by overfitting detector  (300 iterations wait)\n",
      "\n",
      "bestTest = 0.7406746874\n",
      "bestIteration = 445\n",
      "\n",
      "Shrink model to first 446 iterations.\n",
      "0:\ttest: 0.7236645\tbest: 0.7236645 (0)\ttotal: 95.8ms\tremaining: 1m 48s\n",
      "300:\ttest: 0.7395043\tbest: 0.7404821 (157)\ttotal: 40.7s\tremaining: 1m 51s\n"
     ]
    },
    {
     "name": "stderr",
     "output_type": "stream",
     "text": [
      "[I 2025-02-19 07:19:55,623] Trial 8 finished with value: 0.7404820954487322 and parameters: {'iterations': 1130, 'depth': 10, 'learning_rate': 0.09673504314208314, 'l2_leaf_reg': 7.085721663941605}. Best is trial 2 with value: 0.741143355219058.\n"
     ]
    },
    {
     "name": "stdout",
     "output_type": "stream",
     "text": [
      "Stopped by overfitting detector  (300 iterations wait)\n",
      "\n",
      "bestTest = 0.7404820954\n",
      "bestIteration = 157\n",
      "\n",
      "Shrink model to first 158 iterations.\n",
      "0:\ttest: 0.6986379\tbest: 0.6986379 (0)\ttotal: 45.2ms\tremaining: 1m 12s\n",
      "300:\ttest: 0.7408579\tbest: 0.7408579 (300)\ttotal: 13.2s\tremaining: 57.2s\n",
      "600:\ttest: 0.7410451\tbest: 0.7411299 (431)\ttotal: 27s\tremaining: 45.3s\n"
     ]
    },
    {
     "name": "stderr",
     "output_type": "stream",
     "text": [
      "[I 2025-02-19 07:20:28,825] Trial 9 finished with value: 0.7411299495071637 and parameters: {'iterations': 1609, 'depth': 4, 'learning_rate': 0.07000213751865492, 'l2_leaf_reg': 0.04374364439939081}. Best is trial 2 with value: 0.741143355219058.\n"
     ]
    },
    {
     "name": "stdout",
     "output_type": "stream",
     "text": [
      "Stopped by overfitting detector  (300 iterations wait)\n",
      "\n",
      "bestTest = 0.7411299495\n",
      "bestIteration = 431\n",
      "\n",
      "Shrink model to first 432 iterations.\n",
      "0:\ttest: 0.7193734\tbest: 0.7193734 (0)\ttotal: 70.7ms\tremaining: 3m 25s\n",
      "300:\ttest: 0.7340127\tbest: 0.7340127 (300)\ttotal: 22.8s\tremaining: 3m 17s\n",
      "600:\ttest: 0.7373174\tbest: 0.7373174 (600)\ttotal: 45.5s\tremaining: 2m 54s\n",
      "900:\ttest: 0.7388218\tbest: 0.7388218 (900)\ttotal: 1m 8s\tremaining: 2m 32s\n",
      "1200:\ttest: 0.7396675\tbest: 0.7396677 (1199)\ttotal: 1m 31s\tremaining: 2m 10s\n",
      "1500:\ttest: 0.7401500\tbest: 0.7401500 (1500)\ttotal: 1m 54s\tremaining: 1m 47s\n",
      "1800:\ttest: 0.7404261\tbest: 0.7404277 (1798)\ttotal: 2m 16s\tremaining: 1m 23s\n",
      "2100:\ttest: 0.7407156\tbest: 0.7407156 (2100)\ttotal: 2m 38s\tremaining: 1m\n",
      "2400:\ttest: 0.7409366\tbest: 0.7409368 (2399)\ttotal: 3m 1s\tremaining: 38.4s\n",
      "2700:\ttest: 0.7410686\tbest: 0.7410686 (2700)\ttotal: 3m 28s\tremaining: 16s\n"
     ]
    },
    {
     "name": "stderr",
     "output_type": "stream",
     "text": [
      "[I 2025-02-19 07:24:15,827] Trial 10 finished with value: 0.7411434108114652 and parameters: {'iterations': 2908, 'depth': 8, 'learning_rate': 0.005716995335047832, 'l2_leaf_reg': 53.77119408946009}. Best is trial 10 with value: 0.7411434108114652.\n"
     ]
    },
    {
     "name": "stdout",
     "output_type": "stream",
     "text": [
      "2907:\ttest: 0.7411432\tbest: 0.7411434 (2904)\ttotal: 3m 46s\tremaining: 0us\n",
      "\n",
      "bestTest = 0.7411434108\n",
      "bestIteration = 2904\n",
      "\n",
      "Shrink model to first 2905 iterations.\n",
      "저장 완료\n",
      "0:\ttest: 0.7193372\tbest: 0.7193372 (0)\ttotal: 71.7ms\tremaining: 3m 29s\n",
      "300:\ttest: 0.7344458\tbest: 0.7344458 (300)\ttotal: 22.9s\tremaining: 3m 19s\n",
      "600:\ttest: 0.7375715\tbest: 0.7375715 (600)\ttotal: 45.4s\tremaining: 2m 55s\n",
      "900:\ttest: 0.7390722\tbest: 0.7390722 (900)\ttotal: 1m 8s\tremaining: 2m 34s\n",
      "1200:\ttest: 0.7398173\tbest: 0.7398174 (1199)\ttotal: 1m 31s\tremaining: 2m 11s\n",
      "1500:\ttest: 0.7403030\tbest: 0.7403030 (1500)\ttotal: 1m 53s\tremaining: 1m 47s\n",
      "1800:\ttest: 0.7406108\tbest: 0.7406108 (1800)\ttotal: 2m 14s\tremaining: 1m 24s\n",
      "2100:\ttest: 0.7408803\tbest: 0.7408807 (2089)\ttotal: 2m 38s\tremaining: 1m 2s\n",
      "2400:\ttest: 0.7409908\tbest: 0.7409908 (2399)\ttotal: 3m 4s\tremaining: 40.6s\n",
      "2700:\ttest: 0.7411004\tbest: 0.7411005 (2699)\ttotal: 3m 30s\tremaining: 17.9s\n"
     ]
    },
    {
     "name": "stderr",
     "output_type": "stream",
     "text": [
      "[I 2025-02-19 07:28:07,092] Trial 11 finished with value: 0.7411667278553762 and parameters: {'iterations': 2930, 'depth': 8, 'learning_rate': 0.006402408540446873, 'l2_leaf_reg': 83.11832707510945}. Best is trial 11 with value: 0.7411667278553762.\n"
     ]
    },
    {
     "name": "stdout",
     "output_type": "stream",
     "text": [
      "2929:\ttest: 0.7411667\tbest: 0.7411667 (2929)\ttotal: 3m 50s\tremaining: 0us\n",
      "\n",
      "bestTest = 0.7411667279\n",
      "bestIteration = 2929\n",
      "\n",
      "저장 완료\n",
      "0:\ttest: 0.7188367\tbest: 0.7188367 (0)\ttotal: 65.1ms\tremaining: 3m 11s\n",
      "300:\ttest: 0.7405006\tbest: 0.7405006 (300)\ttotal: 21.2s\tremaining: 3m 5s\n",
      "600:\ttest: 0.7413631\tbest: 0.7414613 (547)\ttotal: 44.3s\tremaining: 2m 52s\n",
      "900:\ttest: 0.7410567\tbest: 0.7414775 (659)\ttotal: 1m 7s\tremaining: 2m 32s\n"
     ]
    },
    {
     "name": "stderr",
     "output_type": "stream",
     "text": [
      "[I 2025-02-19 07:29:19,267] Trial 12 finished with value: 0.741477485440428 and parameters: {'iterations': 2941, 'depth': 7, 'learning_rate': 0.04193178467290182, 'l2_leaf_reg': 1.5372567535251194}. Best is trial 12 with value: 0.741477485440428.\n"
     ]
    },
    {
     "name": "stdout",
     "output_type": "stream",
     "text": [
      "Stopped by overfitting detector  (300 iterations wait)\n",
      "\n",
      "bestTest = 0.7414774854\n",
      "bestIteration = 659\n",
      "\n",
      "Shrink model to first 660 iterations.\n",
      "저장 완료\n",
      "0:\ttest: 0.7188365\tbest: 0.7188365 (0)\ttotal: 60.6ms\tremaining: 2m 58s\n",
      "300:\ttest: 0.7409605\tbest: 0.7409605 (300)\ttotal: 21.4s\tremaining: 3m 8s\n",
      "600:\ttest: 0.7412195\tbest: 0.7414111 (456)\ttotal: 45.2s\tremaining: 2m 56s\n"
     ]
    },
    {
     "name": "stderr",
     "output_type": "stream",
     "text": [
      "[I 2025-02-19 07:30:17,058] Trial 13 finished with value: 0.7414110723683214 and parameters: {'iterations': 2946, 'depth': 7, 'learning_rate': 0.04990783063250513, 'l2_leaf_reg': 1.960533580970319}. Best is trial 12 with value: 0.741477485440428.\n"
     ]
    },
    {
     "name": "stdout",
     "output_type": "stream",
     "text": [
      "Stopped by overfitting detector  (300 iterations wait)\n",
      "\n",
      "bestTest = 0.7414110724\n",
      "bestIteration = 456\n",
      "\n",
      "Shrink model to first 457 iterations.\n",
      "0:\ttest: 0.7188885\tbest: 0.7188885 (0)\ttotal: 58.3ms\tremaining: 2m 34s\n",
      "300:\ttest: 0.7404741\tbest: 0.7404741 (300)\ttotal: 19.3s\tremaining: 2m 30s\n",
      "600:\ttest: 0.7411744\tbest: 0.7413047 (518)\ttotal: 39.3s\tremaining: 2m 13s\n"
     ]
    },
    {
     "name": "stderr",
     "output_type": "stream",
     "text": [
      "[I 2025-02-19 07:31:11,158] Trial 14 finished with value: 0.7413046962972503 and parameters: {'iterations': 2647, 'depth': 6, 'learning_rate': 0.04818413543905716, 'l2_leaf_reg': 2.006611515738952}. Best is trial 12 with value: 0.741477485440428.\n"
     ]
    },
    {
     "name": "stdout",
     "output_type": "stream",
     "text": [
      "Stopped by overfitting detector  (300 iterations wait)\n",
      "\n",
      "bestTest = 0.7413046963\n",
      "bestIteration = 518\n",
      "\n",
      "Shrink model to first 519 iterations.\n",
      "0:\ttest: 0.7188371\tbest: 0.7188371 (0)\ttotal: 62.9ms\tremaining: 2m 42s\n",
      "300:\ttest: 0.7405342\tbest: 0.7405342 (300)\ttotal: 21.1s\tremaining: 2m 39s\n",
      "600:\ttest: 0.7413230\tbest: 0.7413603 (509)\ttotal: 44.2s\tremaining: 2m 25s\n",
      "900:\ttest: 0.7411911\tbest: 0.7414955 (766)\ttotal: 1m 7s\tremaining: 2m 6s\n"
     ]
    },
    {
     "name": "stderr",
     "output_type": "stream",
     "text": [
      "[I 2025-02-19 07:32:31,878] Trial 15 finished with value: 0.741495481496798 and parameters: {'iterations': 2583, 'depth': 7, 'learning_rate': 0.041588753010187184, 'l2_leaf_reg': 0.9798134321828942}. Best is trial 15 with value: 0.741495481496798.\n"
     ]
    },
    {
     "name": "stdout",
     "output_type": "stream",
     "text": [
      "Stopped by overfitting detector  (300 iterations wait)\n",
      "\n",
      "bestTest = 0.7414954815\n",
      "bestIteration = 766\n",
      "\n",
      "Shrink model to first 767 iterations.\n",
      "저장 완료\n",
      "0:\ttest: 0.7188892\tbest: 0.7188892 (0)\ttotal: 57.6ms\tremaining: 2m 26s\n",
      "300:\ttest: 0.7400608\tbest: 0.7400631 (297)\ttotal: 18.7s\tremaining: 2m 19s\n",
      "600:\ttest: 0.7414192\tbest: 0.7414218 (592)\ttotal: 38.6s\tremaining: 2m 4s\n",
      "900:\ttest: 0.7414092\tbest: 0.7415602 (794)\ttotal: 58.8s\tremaining: 1m 47s\n"
     ]
    },
    {
     "name": "stderr",
     "output_type": "stream",
     "text": [
      "[I 2025-02-19 07:33:44,170] Trial 16 finished with value: 0.741560238709349 and parameters: {'iterations': 2544, 'depth': 6, 'learning_rate': 0.03748310824083289, 'l2_leaf_reg': 0.7392089492536412}. Best is trial 16 with value: 0.741560238709349.\n"
     ]
    },
    {
     "name": "stdout",
     "output_type": "stream",
     "text": [
      "Stopped by overfitting detector  (300 iterations wait)\n",
      "\n",
      "bestTest = 0.7415602387\n",
      "bestIteration = 794\n",
      "\n",
      "Shrink model to first 795 iterations.\n",
      "저장 완료\n",
      "0:\ttest: 0.7188892\tbest: 0.7188892 (0)\ttotal: 58.1ms\tremaining: 2m 22s\n",
      "300:\ttest: 0.7398671\tbest: 0.7398765 (299)\ttotal: 18.4s\tremaining: 2m 11s\n",
      "600:\ttest: 0.7410999\tbest: 0.7411105 (599)\ttotal: 38.2s\tremaining: 1m 57s\n",
      "900:\ttest: 0.7410693\tbest: 0.7412640 (680)\ttotal: 58.2s\tremaining: 1m 39s\n"
     ]
    },
    {
     "name": "stderr",
     "output_type": "stream",
     "text": [
      "[I 2025-02-19 07:34:47,981] Trial 17 finished with value: 0.7412640225096516 and parameters: {'iterations': 2447, 'depth': 6, 'learning_rate': 0.034859024900207126, 'l2_leaf_reg': 0.15797943087522776}. Best is trial 16 with value: 0.741560238709349.\n"
     ]
    },
    {
     "name": "stdout",
     "output_type": "stream",
     "text": [
      "Stopped by overfitting detector  (300 iterations wait)\n",
      "\n",
      "bestTest = 0.7412640225\n",
      "bestIteration = 680\n",
      "\n",
      "Shrink model to first 681 iterations.\n",
      "0:\ttest: 0.7188892\tbest: 0.7188892 (0)\ttotal: 58.1ms\tremaining: 2m 25s\n",
      "300:\ttest: 0.7409672\tbest: 0.7409779 (297)\ttotal: 18.9s\tremaining: 2m 18s\n",
      "600:\ttest: 0.7411817\tbest: 0.7412529 (572)\ttotal: 39s\tremaining: 2m 3s\n"
     ]
    },
    {
     "name": "stderr",
     "output_type": "stream",
     "text": [
      "[I 2025-02-19 07:35:45,731] Trial 18 finished with value: 0.7412529000573365 and parameters: {'iterations': 2503, 'depth': 6, 'learning_rate': 0.06136516481125444, 'l2_leaf_reg': 0.7256682768424003}. Best is trial 16 with value: 0.741560238709349.\n"
     ]
    },
    {
     "name": "stdout",
     "output_type": "stream",
     "text": [
      "Stopped by overfitting detector  (300 iterations wait)\n",
      "\n",
      "bestTest = 0.7412529001\n",
      "bestIteration = 572\n",
      "\n",
      "Shrink model to first 573 iterations.\n",
      "0:\ttest: 0.7047244\tbest: 0.7047244 (0)\ttotal: 50.5ms\tremaining: 2m 1s\n",
      "300:\ttest: 0.7405685\tbest: 0.7406983 (245)\ttotal: 16.8s\tremaining: 1m 57s\n"
     ]
    },
    {
     "name": "stderr",
     "output_type": "stream",
     "text": [
      "[I 2025-02-19 07:36:16,745] Trial 19 finished with value: 0.7406983499125246 and parameters: {'iterations': 2413, 'depth': 5, 'learning_rate': 0.08614192101110421, 'l2_leaf_reg': 0.00023172651552512137}. Best is trial 16 with value: 0.741560238709349.\n",
      "[I 2025-02-19 07:36:16,747] A new study created in memory with name: no-name-a3b4900a-e5fb-4a8a-86a1-931c4cafd441\n"
     ]
    },
    {
     "name": "stdout",
     "output_type": "stream",
     "text": [
      "Stopped by overfitting detector  (300 iterations wait)\n",
      "\n",
      "bestTest = 0.7406983499\n",
      "bestIteration = 245\n",
      "\n",
      "Shrink model to first 246 iterations.\n"
     ]
    },
    {
     "name": "stderr",
     "output_type": "stream",
     "text": [
      "[I 2025-02-19 07:36:36,737] Trial 0 finished with value: 0.7410092345659356 and parameters: {'objective': 'binary', 'metric': 'auc', 'random_state': 42, 'verbose': -1, 'learning_rate': 0.015355286838886862, 'n_estimators': 1907, 'min_child_samples': 40, 'subsample': 0.8, 'colsample_bytree': 0.5}. Best is trial 0 with value: 0.7410092345659356.\n",
      "[I 2025-02-19 07:36:38,806] Trial 1 finished with value: 0.7350506338820981 and parameters: {'objective': 'binary', 'metric': 'auc', 'random_state': 42, 'verbose': -1, 'learning_rate': 0.00797854234707418, 'n_estimators': 210, 'min_child_samples': 45, 'subsample': 0.8, 'colsample_bytree': 0.9}. Best is trial 0 with value: 0.7410092345659356.\n",
      "[I 2025-02-19 07:36:57,655] Trial 2 finished with value: 0.7417731218907365 and parameters: {'objective': 'binary', 'metric': 'auc', 'random_state': 42, 'verbose': -1, 'learning_rate': 0.005318033256270142, 'n_estimators': 1943, 'min_child_samples': 45, 'subsample': 0.6, 'colsample_bytree': 0.6}. Best is trial 2 with value: 0.7417731218907365.\n",
      "[I 2025-02-19 07:37:04,515] Trial 3 finished with value: 0.741068218109916 and parameters: {'objective': 'binary', 'metric': 'auc', 'random_state': 42, 'verbose': -1, 'learning_rate': 0.008661333735273127, 'n_estimators': 678, 'min_child_samples': 30, 'subsample': 0.7, 'colsample_bytree': 0.6}. Best is trial 2 with value: 0.7417731218907365.\n",
      "[I 2025-02-19 07:37:07,803] Trial 4 finished with value: 0.7414547719712232 and parameters: {'objective': 'binary', 'metric': 'auc', 'random_state': 42, 'verbose': -1, 'learning_rate': 0.03126143958203108, 'n_estimators': 365, 'min_child_samples': 20, 'subsample': 0.7, 'colsample_bytree': 0.7}. Best is trial 2 with value: 0.7417731218907365.\n",
      "[I 2025-02-19 07:37:13,002] Trial 5 finished with value: 0.7401754278764917 and parameters: {'objective': 'binary', 'metric': 'auc', 'random_state': 42, 'verbose': -1, 'learning_rate': 0.05254210669345883, 'n_estimators': 479, 'min_child_samples': 30, 'subsample': 0.8, 'colsample_bytree': 0.5}. Best is trial 2 with value: 0.7417731218907365.\n",
      "[I 2025-02-19 07:37:16,680] Trial 6 finished with value: 0.7403682501406726 and parameters: {'objective': 'binary', 'metric': 'auc', 'random_state': 42, 'verbose': -1, 'learning_rate': 0.030860579740535368, 'n_estimators': 424, 'min_child_samples': 10, 'subsample': 1.0, 'colsample_bytree': 1.0}. Best is trial 2 with value: 0.7417731218907365.\n",
      "[I 2025-02-19 07:37:22,225] Trial 7 finished with value: 0.7388476826495685 and parameters: {'objective': 'binary', 'metric': 'auc', 'random_state': 42, 'verbose': -1, 'learning_rate': 0.05632733481673016, 'n_estimators': 679, 'min_child_samples': 10, 'subsample': 0.9, 'colsample_bytree': 0.7}. Best is trial 2 with value: 0.7417731218907365.\n",
      "[I 2025-02-19 07:37:32,562] Trial 8 finished with value: 0.7414335555261251 and parameters: {'objective': 'binary', 'metric': 'auc', 'random_state': 42, 'verbose': -1, 'learning_rate': 0.007206848764305203, 'n_estimators': 1041, 'min_child_samples': 10, 'subsample': 1.0, 'colsample_bytree': 0.6}. Best is trial 2 with value: 0.7417731218907365.\n",
      "[I 2025-02-19 07:37:38,971] Trial 9 finished with value: 0.7408614937730628 and parameters: {'objective': 'binary', 'metric': 'auc', 'random_state': 42, 'verbose': -1, 'learning_rate': 0.036385753170854684, 'n_estimators': 692, 'min_child_samples': 30, 'subsample': 0.8, 'colsample_bytree': 0.6}. Best is trial 2 with value: 0.7417731218907365.\n",
      "[I 2025-02-19 07:37:53,793] Trial 10 finished with value: 0.7401046031497895 and parameters: {'objective': 'binary', 'metric': 'auc', 'random_state': 42, 'verbose': -1, 'learning_rate': 0.015894131971030474, 'n_estimators': 1873, 'min_child_samples': 50, 'subsample': 0.5, 'colsample_bytree': 0.8}. Best is trial 2 with value: 0.7417731218907365.\n",
      "[I 2025-02-19 07:38:06,876] Trial 11 finished with value: 0.7393801189289955 and parameters: {'objective': 'binary', 'metric': 'auc', 'random_state': 42, 'verbose': -1, 'learning_rate': 0.021111895577706766, 'n_estimators': 1629, 'min_child_samples': 20, 'subsample': 0.6, 'colsample_bytree': 0.7}. Best is trial 2 with value: 0.7417731218907365.\n",
      "[I 2025-02-19 07:38:17,215] Trial 12 finished with value: 0.7299807413606461 and parameters: {'objective': 'binary', 'metric': 'auc', 'random_state': 42, 'verbose': -1, 'learning_rate': 0.0933102191367511, 'n_estimators': 1376, 'min_child_samples': 20, 'subsample': 0.6, 'colsample_bytree': 0.8}. Best is trial 2 with value: 0.7417731218907365.\n",
      "[I 2025-02-19 07:38:27,286] Trial 13 finished with value: 0.7416508066823598 and parameters: {'objective': 'binary', 'metric': 'auc', 'random_state': 42, 'verbose': -1, 'learning_rate': 0.012973882577665569, 'n_estimators': 1189, 'min_child_samples': 40, 'subsample': 0.6, 'colsample_bytree': 0.7}. Best is trial 2 with value: 0.7417731218907365.\n",
      "[I 2025-02-19 07:38:38,305] Trial 14 finished with value: 0.741268183998415 and parameters: {'objective': 'binary', 'metric': 'auc', 'random_state': 42, 'verbose': -1, 'learning_rate': 0.0058761444009386545, 'n_estimators': 1103, 'min_child_samples': 40, 'subsample': 0.5, 'colsample_bytree': 0.6}. Best is trial 2 with value: 0.7417731218907365.\n",
      "[I 2025-02-19 07:38:50,085] Trial 15 finished with value: 0.7412739894340753 and parameters: {'objective': 'binary', 'metric': 'auc', 'random_state': 42, 'verbose': -1, 'learning_rate': 0.011596398970138158, 'n_estimators': 1430, 'min_child_samples': 40, 'subsample': 0.6, 'colsample_bytree': 0.8}. Best is trial 2 with value: 0.7417731218907365.\n",
      "[I 2025-02-19 07:39:02,813] Trial 16 finished with value: 0.7407101990370188 and parameters: {'objective': 'binary', 'metric': 'auc', 'random_state': 42, 'verbose': -1, 'learning_rate': 0.005096317736246614, 'n_estimators': 1105, 'min_child_samples': 50, 'subsample': 0.6, 'colsample_bytree': 0.5}. Best is trial 2 with value: 0.7417731218907365.\n",
      "[I 2025-02-19 07:39:15,984] Trial 17 finished with value: 0.7408129179218771 and parameters: {'objective': 'binary', 'metric': 'auc', 'random_state': 42, 'verbose': -1, 'learning_rate': 0.011229053120929576, 'n_estimators': 1592, 'min_child_samples': 35, 'subsample': 0.5, 'colsample_bytree': 0.9}. Best is trial 2 with value: 0.7417731218907365.\n",
      "[I 2025-02-19 07:39:32,054] Trial 18 finished with value: 0.7411154001800369 and parameters: {'objective': 'binary', 'metric': 'auc', 'random_state': 42, 'verbose': -1, 'learning_rate': 0.010395694999691129, 'n_estimators': 1958, 'min_child_samples': 45, 'subsample': 0.7, 'colsample_bytree': 0.7}. Best is trial 2 with value: 0.7417731218907365.\n",
      "[I 2025-02-19 07:39:47,448] Trial 19 finished with value: 0.7408430291521183 and parameters: {'objective': 'binary', 'metric': 'auc', 'random_state': 42, 'verbose': -1, 'learning_rate': 0.015841647035191458, 'n_estimators': 1706, 'min_child_samples': 45, 'subsample': 0.6, 'colsample_bytree': 0.6}. Best is trial 2 with value: 0.7417731218907365.\n"
     ]
    },
    {
     "name": "stdout",
     "output_type": "stream",
     "text": [
      "Cat val score : 0.741560238709349\n",
      "LGBM val score : 0.7417731218907365\n",
      "Ensemble val score : 0.741960420652179\n"
     ]
    },
    {
     "name": "stderr",
     "output_type": "stream",
     "text": [
      "[I 2025-02-19 07:40:07,633] A new study created in memory with name: no-name-f7c2c136-fbfb-4904-9ab3-b221c346f3a2\n"
     ]
    },
    {
     "name": "stdout",
     "output_type": "stream",
     "text": [
      "==================================================\n",
      "0:\ttest: 0.7260126\tbest: 0.7260126 (0)\ttotal: 98.8ms\tremaining: 2m 52s\n",
      "300:\ttest: 0.7375474\tbest: 0.7397627 (182)\ttotal: 38.5s\tremaining: 3m 4s\n"
     ]
    },
    {
     "name": "stderr",
     "output_type": "stream",
     "text": [
      "[I 2025-02-19 07:41:12,226] Trial 0 finished with value: 0.7397626780787607 and parameters: {'iterations': 1749, 'depth': 10, 'learning_rate': 0.07453942447208349, 'l2_leaf_reg': 0.39079671568228835}. Best is trial 0 with value: 0.7397626780787607.\n"
     ]
    },
    {
     "name": "stdout",
     "output_type": "stream",
     "text": [
      "Stopped by overfitting detector  (300 iterations wait)\n",
      "\n",
      "bestTest = 0.7397626781\n",
      "bestIteration = 182\n",
      "\n",
      "Shrink model to first 183 iterations.\n",
      "저장 완료\n",
      "0:\ttest: 0.7040103\tbest: 0.7040103 (0)\ttotal: 50.1ms\tremaining: 1m 5s\n",
      "300:\ttest: 0.7350560\tbest: 0.7350560 (300)\ttotal: 15.5s\tremaining: 52.1s\n",
      "600:\ttest: 0.7378006\tbest: 0.7378006 (597)\ttotal: 31.4s\tremaining: 37.2s\n",
      "900:\ttest: 0.7389029\tbest: 0.7389029 (900)\ttotal: 47.9s\tremaining: 21.8s\n",
      "1200:\ttest: 0.7396732\tbest: 0.7396732 (1200)\ttotal: 1m 4s\tremaining: 5.97s\n"
     ]
    },
    {
     "name": "stderr",
     "output_type": "stream",
     "text": [
      "[I 2025-02-19 07:42:23,379] Trial 1 finished with value: 0.7399118007400398 and parameters: {'iterations': 1312, 'depth': 5, 'learning_rate': 0.010517943155978949, 'l2_leaf_reg': 15.741890047456648}. Best is trial 1 with value: 0.7399118007400398.\n"
     ]
    },
    {
     "name": "stdout",
     "output_type": "stream",
     "text": [
      "1311:\ttest: 0.7399118\tbest: 0.7399118 (1311)\ttotal: 1m 10s\tremaining: 0us\n",
      "\n",
      "bestTest = 0.7399118007\n",
      "bestIteration = 1311\n",
      "\n",
      "저장 완료\n",
      "0:\ttest: 0.7212635\tbest: 0.7212635 (0)\ttotal: 74.1ms\tremaining: 2m 43s\n",
      "300:\ttest: 0.7359774\tbest: 0.7359774 (300)\ttotal: 24.2s\tremaining: 2m 32s\n",
      "600:\ttest: 0.7384565\tbest: 0.7384565 (600)\ttotal: 47.5s\tremaining: 2m 6s\n",
      "900:\ttest: 0.7395566\tbest: 0.7395566 (900)\ttotal: 1m 11s\tremaining: 1m 43s\n",
      "1200:\ttest: 0.7401343\tbest: 0.7401343 (1200)\ttotal: 1m 35s\tremaining: 1m 19s\n",
      "1500:\ttest: 0.7404953\tbest: 0.7404968 (1498)\ttotal: 1m 57s\tremaining: 54.9s\n",
      "1800:\ttest: 0.7408043\tbest: 0.7408043 (1800)\ttotal: 2m 20s\tremaining: 31.3s\n",
      "2100:\ttest: 0.7410249\tbest: 0.7410261 (2091)\ttotal: 2m 46s\tremaining: 8s\n"
     ]
    },
    {
     "name": "stderr",
     "output_type": "stream",
     "text": [
      "[I 2025-02-19 07:45:19,678] Trial 2 finished with value: 0.741066788590875 and parameters: {'iterations': 2202, 'depth': 8, 'learning_rate': 0.006955526958101232, 'l2_leaf_reg': 65.98711072054076}. Best is trial 2 with value: 0.741066788590875.\n"
     ]
    },
    {
     "name": "stdout",
     "output_type": "stream",
     "text": [
      "2201:\ttest: 0.7410645\tbest: 0.7410668 (2194)\ttotal: 2m 55s\tremaining: 0us\n",
      "\n",
      "bestTest = 0.7410667886\n",
      "bestIteration = 2194\n",
      "\n",
      "Shrink model to first 2195 iterations.\n",
      "저장 완료\n",
      "0:\ttest: 0.7040106\tbest: 0.7040106 (0)\ttotal: 59.3ms\tremaining: 2m 38s\n",
      "300:\ttest: 0.7378056\tbest: 0.7378056 (300)\ttotal: 15.6s\tremaining: 2m 2s\n",
      "600:\ttest: 0.7396486\tbest: 0.7396522 (598)\ttotal: 31.6s\tremaining: 1m 48s\n",
      "900:\ttest: 0.7402289\tbest: 0.7402704 (845)\ttotal: 48.3s\tremaining: 1m 34s\n",
      "1200:\ttest: 0.7403323\tbest: 0.7403975 (1131)\ttotal: 1m 5s\tremaining: 1m 19s\n",
      "1500:\ttest: 0.7404741\tbest: 0.7404890 (1448)\ttotal: 1m 22s\tremaining: 1m 3s\n",
      "1800:\ttest: 0.7404374\tbest: 0.7404920 (1694)\ttotal: 1m 39s\tremaining: 47.5s\n"
     ]
    },
    {
     "name": "stderr",
     "output_type": "stream",
     "text": [
      "[I 2025-02-19 07:47:09,993] Trial 3 finished with value: 0.740491975013659 and parameters: {'iterations': 2665, 'depth': 5, 'learning_rate': 0.02227337188467456, 'l2_leaf_reg': 0.0012601639723276807}. Best is trial 2 with value: 0.741066788590875.\n"
     ]
    },
    {
     "name": "stdout",
     "output_type": "stream",
     "text": [
      "Stopped by overfitting detector  (300 iterations wait)\n",
      "\n",
      "bestTest = 0.740491975\n",
      "bestIteration = 1694\n",
      "\n",
      "Shrink model to first 1695 iterations.\n",
      "0:\ttest: 0.7206385\tbest: 0.7206385 (0)\ttotal: 63.6ms\tremaining: 1m 42s\n",
      "300:\ttest: 0.7399161\tbest: 0.7399276 (292)\ttotal: 21.2s\tremaining: 1m 32s\n",
      "600:\ttest: 0.7390935\tbest: 0.7400314 (387)\ttotal: 44.3s\tremaining: 1m 14s\n"
     ]
    },
    {
     "name": "stderr",
     "output_type": "stream",
     "text": [
      "[I 2025-02-19 07:48:01,335] Trial 4 finished with value: 0.7400313522116042 and parameters: {'iterations': 1608, 'depth': 7, 'learning_rate': 0.046034776771001, 'l2_leaf_reg': 0.005589524205217926}. Best is trial 2 with value: 0.741066788590875.\n"
     ]
    },
    {
     "name": "stdout",
     "output_type": "stream",
     "text": [
      "Stopped by overfitting detector  (300 iterations wait)\n",
      "\n",
      "bestTest = 0.7400313522\n",
      "bestIteration = 387\n",
      "\n",
      "Shrink model to first 388 iterations.\n",
      "0:\ttest: 0.6969823\tbest: 0.6969823 (0)\ttotal: 46.1ms\tremaining: 1m 42s\n",
      "300:\ttest: 0.7381926\tbest: 0.7381926 (300)\ttotal: 12.9s\tremaining: 1m 22s\n",
      "600:\ttest: 0.7399819\tbest: 0.7399819 (600)\ttotal: 26.8s\tremaining: 1m 12s\n",
      "900:\ttest: 0.7401877\tbest: 0.7402158 (892)\ttotal: 40.9s\tremaining: 60s\n",
      "1200:\ttest: 0.7402416\tbest: 0.7402606 (1194)\ttotal: 54.6s\tremaining: 46.5s\n",
      "1500:\ttest: 0.7403768\tbest: 0.7403806 (1499)\ttotal: 1m 8s\tremaining: 33s\n",
      "1800:\ttest: 0.7403606\tbest: 0.7403880 (1511)\ttotal: 1m 22s\tremaining: 19.4s\n"
     ]
    },
    {
     "name": "stderr",
     "output_type": "stream",
     "text": [
      "[I 2025-02-19 07:49:24,810] Trial 5 finished with value: 0.7403879775034365 and parameters: {'iterations': 2224, 'depth': 4, 'learning_rate': 0.032753741610845724, 'l2_leaf_reg': 0.01578232781079559}. Best is trial 2 with value: 0.741066788590875.\n"
     ]
    },
    {
     "name": "stdout",
     "output_type": "stream",
     "text": [
      "Stopped by overfitting detector  (300 iterations wait)\n",
      "\n",
      "bestTest = 0.7403879775\n",
      "bestIteration = 1511\n",
      "\n",
      "Shrink model to first 1512 iterations.\n",
      "0:\ttest: 0.7218812\tbest: 0.7218812 (0)\ttotal: 80.7ms\tremaining: 2m 34s\n",
      "300:\ttest: 0.7400350\tbest: 0.7400525 (297)\ttotal: 26.4s\tremaining: 2m 21s\n",
      "600:\ttest: 0.7406250\tbest: 0.7407298 (576)\ttotal: 54.4s\tremaining: 1m 58s\n",
      "900:\ttest: 0.7401112\tbest: 0.7407516 (638)\ttotal: 1m 25s\tremaining: 1m 35s\n"
     ]
    },
    {
     "name": "stderr",
     "output_type": "stream",
     "text": [
      "[I 2025-02-19 07:50:54,040] Trial 6 finished with value: 0.7407515915550241 and parameters: {'iterations': 1912, 'depth': 9, 'learning_rate': 0.023969009305044177, 'l2_leaf_reg': 0.12173252504194051}. Best is trial 2 with value: 0.741066788590875.\n"
     ]
    },
    {
     "name": "stdout",
     "output_type": "stream",
     "text": [
      "Stopped by overfitting detector  (300 iterations wait)\n",
      "\n",
      "bestTest = 0.7407515916\n",
      "bestIteration = 638\n",
      "\n",
      "Shrink model to first 639 iterations.\n",
      "0:\ttest: 0.6969823\tbest: 0.6969823 (0)\ttotal: 44.1ms\tremaining: 1m 36s\n",
      "300:\ttest: 0.7397961\tbest: 0.7397961 (300)\ttotal: 13.4s\tremaining: 1m 24s\n",
      "600:\ttest: 0.7402745\tbest: 0.7402781 (598)\ttotal: 27.4s\tremaining: 1m 12s\n",
      "900:\ttest: 0.7400484\tbest: 0.7403494 (622)\ttotal: 41.6s\tremaining: 59.3s\n"
     ]
    },
    {
     "name": "stderr",
     "output_type": "stream",
     "text": [
      "[I 2025-02-19 07:51:36,910] Trial 7 finished with value: 0.7403493884311056 and parameters: {'iterations': 2185, 'depth': 4, 'learning_rate': 0.06271676093063665, 'l2_leaf_reg': 0.0010547383621352044}. Best is trial 2 with value: 0.741066788590875.\n"
     ]
    },
    {
     "name": "stdout",
     "output_type": "stream",
     "text": [
      "Stopped by overfitting detector  (300 iterations wait)\n",
      "\n",
      "bestTest = 0.7403493884\n",
      "bestIteration = 622\n",
      "\n",
      "Shrink model to first 623 iterations.\n",
      "0:\ttest: 0.7269705\tbest: 0.7269705 (0)\ttotal: 97.6ms\tremaining: 1m 50s\n",
      "300:\ttest: 0.7393557\tbest: 0.7406643 (189)\ttotal: 40.7s\tremaining: 1m 51s\n"
     ]
    },
    {
     "name": "stderr",
     "output_type": "stream",
     "text": [
      "[I 2025-02-19 07:52:44,927] Trial 8 finished with value: 0.7406643233884659 and parameters: {'iterations': 1130, 'depth': 10, 'learning_rate': 0.09673504314208314, 'l2_leaf_reg': 7.085721663941605}. Best is trial 2 with value: 0.741066788590875.\n"
     ]
    },
    {
     "name": "stdout",
     "output_type": "stream",
     "text": [
      "Stopped by overfitting detector  (300 iterations wait)\n",
      "\n",
      "bestTest = 0.7406643234\n",
      "bestIteration = 189\n",
      "\n",
      "Shrink model to first 190 iterations.\n",
      "0:\ttest: 0.6969823\tbest: 0.6969823 (0)\ttotal: 44.4ms\tremaining: 1m 11s\n",
      "300:\ttest: 0.7400438\tbest: 0.7400757 (290)\ttotal: 13.3s\tremaining: 57.7s\n",
      "600:\ttest: 0.7404540\tbest: 0.7404815 (558)\ttotal: 26.9s\tremaining: 45.2s\n",
      "900:\ttest: 0.7405105\tbest: 0.7406042 (816)\ttotal: 40.8s\tremaining: 32.1s\n"
     ]
    },
    {
     "name": "stderr",
     "output_type": "stream",
     "text": [
      "[I 2025-02-19 07:53:36,037] Trial 9 finished with value: 0.7406041922583666 and parameters: {'iterations': 1609, 'depth': 4, 'learning_rate': 0.07000213751865492, 'l2_leaf_reg': 0.04374364439939081}. Best is trial 2 with value: 0.741066788590875.\n"
     ]
    },
    {
     "name": "stdout",
     "output_type": "stream",
     "text": [
      "Stopped by overfitting detector  (300 iterations wait)\n",
      "\n",
      "bestTest = 0.7406041923\n",
      "bestIteration = 816\n",
      "\n",
      "Shrink model to first 817 iterations.\n",
      "0:\ttest: 0.7212445\tbest: 0.7212445 (0)\ttotal: 73.3ms\tremaining: 3m 33s\n",
      "300:\ttest: 0.7350293\tbest: 0.7350293 (300)\ttotal: 23.1s\tremaining: 3m 19s\n",
      "600:\ttest: 0.7378253\tbest: 0.7378253 (600)\ttotal: 46.6s\tremaining: 2m 59s\n",
      "900:\ttest: 0.7390634\tbest: 0.7390634 (900)\ttotal: 1m 10s\tremaining: 2m 37s\n",
      "1200:\ttest: 0.7397551\tbest: 0.7397551 (1200)\ttotal: 1m 34s\tremaining: 2m 13s\n",
      "1500:\ttest: 0.7402000\tbest: 0.7402000 (1500)\ttotal: 1m 57s\tremaining: 1m 50s\n",
      "1800:\ttest: 0.7404973\tbest: 0.7404973 (1800)\ttotal: 2m 20s\tremaining: 1m 26s\n",
      "2100:\ttest: 0.7407360\tbest: 0.7407361 (2099)\ttotal: 2m 43s\tremaining: 1m 2s\n",
      "2400:\ttest: 0.7409441\tbest: 0.7409441 (2400)\ttotal: 3m 7s\tremaining: 39.6s\n",
      "2700:\ttest: 0.7410527\tbest: 0.7410540 (2694)\ttotal: 3m 34s\tremaining: 16.5s\n"
     ]
    },
    {
     "name": "stderr",
     "output_type": "stream",
     "text": [
      "[I 2025-02-19 07:57:30,207] Trial 10 finished with value: 0.7411055166442237 and parameters: {'iterations': 2908, 'depth': 8, 'learning_rate': 0.005716995335047832, 'l2_leaf_reg': 53.77119408946009}. Best is trial 10 with value: 0.7411055166442237.\n"
     ]
    },
    {
     "name": "stdout",
     "output_type": "stream",
     "text": [
      "2907:\ttest: 0.7411004\tbest: 0.7411055 (2864)\ttotal: 3m 53s\tremaining: 0us\n",
      "\n",
      "bestTest = 0.7411055166\n",
      "bestIteration = 2864\n",
      "\n",
      "Shrink model to first 2865 iterations.\n",
      "저장 완료\n",
      "0:\ttest: 0.7212493\tbest: 0.7212493 (0)\ttotal: 96.8ms\tremaining: 4m 43s\n",
      "300:\ttest: 0.7353883\tbest: 0.7353883 (300)\ttotal: 23.3s\tremaining: 3m 23s\n",
      "600:\ttest: 0.7381185\tbest: 0.7381185 (600)\ttotal: 46.6s\tremaining: 3m\n",
      "900:\ttest: 0.7393970\tbest: 0.7393970 (900)\ttotal: 1m 10s\tremaining: 2m 38s\n",
      "1200:\ttest: 0.7400356\tbest: 0.7400356 (1199)\ttotal: 1m 34s\tremaining: 2m 15s\n",
      "1500:\ttest: 0.7404268\tbest: 0.7404268 (1500)\ttotal: 1m 57s\tremaining: 1m 51s\n",
      "1800:\ttest: 0.7406672\tbest: 0.7406682 (1798)\ttotal: 2m 20s\tremaining: 1m 28s\n",
      "2100:\ttest: 0.7409184\tbest: 0.7409188 (2096)\ttotal: 2m 44s\tremaining: 1m 4s\n",
      "2400:\ttest: 0.7410424\tbest: 0.7410430 (2385)\ttotal: 3m 10s\tremaining: 42s\n",
      "2700:\ttest: 0.7411016\tbest: 0.7411025 (2692)\ttotal: 3m 38s\tremaining: 18.5s\n"
     ]
    },
    {
     "name": "stderr",
     "output_type": "stream",
     "text": [
      "[I 2025-02-19 08:01:29,872] Trial 11 finished with value: 0.7411757100000163 and parameters: {'iterations': 2930, 'depth': 8, 'learning_rate': 0.006402408540446873, 'l2_leaf_reg': 83.11832707510945}. Best is trial 11 with value: 0.7411757100000163.\n"
     ]
    },
    {
     "name": "stdout",
     "output_type": "stream",
     "text": [
      "2929:\ttest: 0.7411746\tbest: 0.7411757 (2913)\ttotal: 3m 59s\tremaining: 0us\n",
      "\n",
      "bestTest = 0.74117571\n",
      "bestIteration = 2913\n",
      "\n",
      "Shrink model to first 2914 iterations.\n",
      "저장 완료\n",
      "0:\ttest: 0.7213677\tbest: 0.7213677 (0)\ttotal: 67.8ms\tremaining: 3m 19s\n",
      "300:\ttest: 0.7402205\tbest: 0.7402342 (297)\ttotal: 21s\tremaining: 3m 3s\n",
      "600:\ttest: 0.7405712\tbest: 0.7407115 (482)\ttotal: 44.1s\tremaining: 2m 51s\n"
     ]
    },
    {
     "name": "stderr",
     "output_type": "stream",
     "text": [
      "[I 2025-02-19 08:02:28,031] Trial 12 finished with value: 0.7407115491383351 and parameters: {'iterations': 2941, 'depth': 7, 'learning_rate': 0.04193178467290182, 'l2_leaf_reg': 1.5372567535251194}. Best is trial 11 with value: 0.7411757100000163.\n"
     ]
    },
    {
     "name": "stdout",
     "output_type": "stream",
     "text": [
      "Stopped by overfitting detector  (300 iterations wait)\n",
      "\n",
      "bestTest = 0.7407115491\n",
      "bestIteration = 482\n",
      "\n",
      "Shrink model to first 483 iterations.\n",
      "0:\ttest: 0.7212635\tbest: 0.7212635 (0)\ttotal: 83.6ms\tremaining: 3m 40s\n",
      "300:\ttest: 0.7365585\tbest: 0.7365585 (300)\ttotal: 22.7s\tremaining: 2m 56s\n",
      "600:\ttest: 0.7388046\tbest: 0.7388047 (599)\ttotal: 46s\tremaining: 2m 35s\n",
      "900:\ttest: 0.7399112\tbest: 0.7399112 (900)\ttotal: 1m 10s\tremaining: 2m 15s\n",
      "1200:\ttest: 0.7404015\tbest: 0.7404015 (1200)\ttotal: 1m 33s\tremaining: 1m 51s\n",
      "1500:\ttest: 0.7407574\tbest: 0.7407600 (1499)\ttotal: 1m 56s\tremaining: 1m 28s\n",
      "1800:\ttest: 0.7409875\tbest: 0.7409875 (1800)\ttotal: 2m 20s\tremaining: 1m 5s\n",
      "2100:\ttest: 0.7411437\tbest: 0.7411457 (2094)\ttotal: 2m 47s\tremaining: 42.9s\n",
      "2400:\ttest: 0.7412679\tbest: 0.7412701 (2395)\ttotal: 3m 14s\tremaining: 19.2s\n"
     ]
    },
    {
     "name": "stderr",
     "output_type": "stream",
     "text": [
      "[I 2025-02-19 08:06:04,763] Trial 13 finished with value: 0.741327957748754 and parameters: {'iterations': 2638, 'depth': 8, 'learning_rate': 0.007940569964231549, 'l2_leaf_reg': 65.5477287928456}. Best is trial 13 with value: 0.741327957748754.\n"
     ]
    },
    {
     "name": "stdout",
     "output_type": "stream",
     "text": [
      "2637:\ttest: 0.7413266\tbest: 0.7413280 (2630)\ttotal: 3m 36s\tremaining: 0us\n",
      "\n",
      "bestTest = 0.7413279577\n",
      "bestIteration = 2630\n",
      "\n",
      "Shrink model to first 2631 iterations.\n",
      "저장 완료\n",
      "0:\ttest: 0.7221371\tbest: 0.7221371 (0)\ttotal: 82.3ms\tremaining: 3m 33s\n",
      "300:\ttest: 0.7396614\tbest: 0.7396677 (299)\ttotal: 24s\tremaining: 3m 2s\n",
      "600:\ttest: 0.7406881\tbest: 0.7407087 (591)\ttotal: 48.7s\tremaining: 2m 41s\n",
      "900:\ttest: 0.7407899\tbest: 0.7408129 (881)\ttotal: 1m 16s\tremaining: 2m 23s\n"
     ]
    },
    {
     "name": "stderr",
     "output_type": "stream",
     "text": [
      "[I 2025-02-19 08:07:48,224] Trial 14 finished with value: 0.7408129298345357 and parameters: {'iterations': 2594, 'depth': 8, 'learning_rate': 0.021820476043467027, 'l2_leaf_reg': 2.701850893373032}. Best is trial 13 with value: 0.741327957748754.\n"
     ]
    },
    {
     "name": "stdout",
     "output_type": "stream",
     "text": [
      "Stopped by overfitting detector  (300 iterations wait)\n",
      "\n",
      "bestTest = 0.7408129298\n",
      "bestIteration = 881\n",
      "\n",
      "Shrink model to first 882 iterations.\n",
      "0:\ttest: 0.7204766\tbest: 0.7204766 (0)\ttotal: 56.8ms\tremaining: 2m 26s\n",
      "300:\ttest: 0.7394559\tbest: 0.7394584 (297)\ttotal: 19.4s\tremaining: 2m 26s\n",
      "600:\ttest: 0.7405448\tbest: 0.7405480 (599)\ttotal: 38.8s\tremaining: 2m 8s\n",
      "900:\ttest: 0.7407478\tbest: 0.7407703 (884)\ttotal: 58.5s\tremaining: 1m 49s\n",
      "1200:\ttest: 0.7407720\tbest: 0.7407920 (1112)\ttotal: 1m 19s\tremaining: 1m 30s\n"
     ]
    },
    {
     "name": "stderr",
     "output_type": "stream",
     "text": [
      "[I 2025-02-19 08:09:22,009] Trial 15 finished with value: 0.7407920350312218 and parameters: {'iterations': 2583, 'depth': 6, 'learning_rate': 0.02945133331652104, 'l2_leaf_reg': 17.018635601186592}. Best is trial 13 with value: 0.741327957748754.\n"
     ]
    },
    {
     "name": "stdout",
     "output_type": "stream",
     "text": [
      "Stopped by overfitting detector  (300 iterations wait)\n",
      "\n",
      "bestTest = 0.740792035\n",
      "bestIteration = 1112\n",
      "\n",
      "Shrink model to first 1113 iterations.\n",
      "0:\ttest: 0.7213486\tbest: 0.7213486 (0)\ttotal: 84.1ms\tremaining: 3m 25s\n",
      "300:\ttest: 0.7390361\tbest: 0.7390361 (300)\ttotal: 27s\tremaining: 3m 12s\n",
      "600:\ttest: 0.7404200\tbest: 0.7404200 (600)\ttotal: 53.2s\tremaining: 2m 43s\n",
      "900:\ttest: 0.7408979\tbest: 0.7408990 (883)\ttotal: 1m 19s\tremaining: 2m 15s\n",
      "1200:\ttest: 0.7410947\tbest: 0.7411051 (1171)\ttotal: 1m 49s\tremaining: 1m 53s\n",
      "1500:\ttest: 0.7411637\tbest: 0.7411787 (1420)\ttotal: 2m 19s\tremaining: 1m 28s\n",
      "1800:\ttest: 0.7412534\tbest: 0.7412814 (1722)\ttotal: 2m 50s\tremaining: 1m 1s\n",
      "2100:\ttest: 0.7412935\tbest: 0.7413186 (2069)\ttotal: 3m 21s\tremaining: 33.2s\n"
     ]
    },
    {
     "name": "stderr",
     "output_type": "stream",
     "text": [
      "[I 2025-02-19 08:13:11,045] Trial 16 finished with value: 0.7413185586610604 and parameters: {'iterations': 2447, 'depth': 9, 'learning_rate': 0.015384725474213838, 'l2_leaf_reg': 94.64533014403685}. Best is trial 13 with value: 0.741327957748754.\n"
     ]
    },
    {
     "name": "stdout",
     "output_type": "stream",
     "text": [
      "Stopped by overfitting detector  (300 iterations wait)\n",
      "\n",
      "bestTest = 0.7413185587\n",
      "bestIteration = 2069\n",
      "\n",
      "Shrink model to first 2070 iterations.\n",
      "0:\ttest: 0.7226162\tbest: 0.7226162 (0)\ttotal: 102ms\tremaining: 4m 8s\n",
      "300:\ttest: 0.7404882\tbest: 0.7404882 (300)\ttotal: 26.9s\tremaining: 3m 11s\n",
      "600:\ttest: 0.7405219\tbest: 0.7408658 (481)\ttotal: 57.4s\tremaining: 2m 55s\n"
     ]
    },
    {
     "name": "stderr",
     "output_type": "stream",
     "text": [
      "[I 2025-02-19 08:14:27,271] Trial 17 finished with value: 0.7408658101263889 and parameters: {'iterations': 2442, 'depth': 9, 'learning_rate': 0.0369325573915711, 'l2_leaf_reg': 1.730751131246534}. Best is trial 13 with value: 0.741327957748754.\n"
     ]
    },
    {
     "name": "stdout",
     "output_type": "stream",
     "text": [
      "Stopped by overfitting detector  (300 iterations wait)\n",
      "\n",
      "bestTest = 0.7408658101\n",
      "bestIteration = 481\n",
      "\n",
      "Shrink model to first 482 iterations.\n",
      "0:\ttest: 0.7218893\tbest: 0.7218893 (0)\ttotal: 80.1ms\tremaining: 3m 12s\n",
      "300:\ttest: 0.7403711\tbest: 0.7406625 (249)\ttotal: 28s\tremaining: 3m 16s\n"
     ]
    },
    {
     "name": "stderr",
     "output_type": "stream",
     "text": [
      "[I 2025-02-19 08:15:21,575] Trial 18 finished with value: 0.7406625206061199 and parameters: {'iterations': 2411, 'depth': 9, 'learning_rate': 0.05222311239303098, 'l2_leaf_reg': 0.33577227205525956}. Best is trial 13 with value: 0.741327957748754.\n"
     ]
    },
    {
     "name": "stdout",
     "output_type": "stream",
     "text": [
      "Stopped by overfitting detector  (300 iterations wait)\n",
      "\n",
      "bestTest = 0.7406625206\n",
      "bestIteration = 249\n",
      "\n",
      "Shrink model to first 250 iterations.\n",
      "0:\ttest: 0.7269902\tbest: 0.7269902 (0)\ttotal: 101ms\tremaining: 4m 40s\n",
      "300:\ttest: 0.7400156\tbest: 0.7400156 (300)\ttotal: 35.3s\tremaining: 4m 48s\n",
      "600:\ttest: 0.7410205\tbest: 0.7410251 (597)\ttotal: 1m 11s\tremaining: 4m 19s\n",
      "900:\ttest: 0.7413314\tbest: 0.7413508 (810)\ttotal: 1m 52s\tremaining: 3m 52s\n",
      "1200:\ttest: 0.7411307\tbest: 0.7413915 (971)\ttotal: 2m 36s\tremaining: 3m 23s\n"
     ]
    },
    {
     "name": "stderr",
     "output_type": "stream",
     "text": [
      "[I 2025-02-19 08:18:08,479] Trial 19 finished with value: 0.7413915435498688 and parameters: {'iterations': 2766, 'depth': 10, 'learning_rate': 0.018187219567495812, 'l2_leaf_reg': 12.727330143109668}. Best is trial 19 with value: 0.7413915435498688.\n",
      "[I 2025-02-19 08:18:08,482] A new study created in memory with name: no-name-2db9e47b-59e2-4af7-868d-88640f846e56\n"
     ]
    },
    {
     "name": "stdout",
     "output_type": "stream",
     "text": [
      "Stopped by overfitting detector  (300 iterations wait)\n",
      "\n",
      "bestTest = 0.7413915435\n",
      "bestIteration = 971\n",
      "\n",
      "Shrink model to first 972 iterations.\n",
      "저장 완료\n"
     ]
    },
    {
     "name": "stderr",
     "output_type": "stream",
     "text": [
      "[I 2025-02-19 08:18:28,531] Trial 0 finished with value: 0.7398104438691566 and parameters: {'objective': 'binary', 'metric': 'auc', 'random_state': 42, 'verbose': -1, 'learning_rate': 0.015355286838886862, 'n_estimators': 1907, 'min_child_samples': 40, 'subsample': 0.8, 'colsample_bytree': 0.5}. Best is trial 0 with value: 0.7398104438691566.\n",
      "[I 2025-02-19 08:18:30,624] Trial 1 finished with value: 0.7362233557108127 and parameters: {'objective': 'binary', 'metric': 'auc', 'random_state': 42, 'verbose': -1, 'learning_rate': 0.00797854234707418, 'n_estimators': 210, 'min_child_samples': 45, 'subsample': 0.8, 'colsample_bytree': 0.9}. Best is trial 0 with value: 0.7398104438691566.\n",
      "[I 2025-02-19 08:18:49,370] Trial 2 finished with value: 0.7406069917331549 and parameters: {'objective': 'binary', 'metric': 'auc', 'random_state': 42, 'verbose': -1, 'learning_rate': 0.005318033256270142, 'n_estimators': 1943, 'min_child_samples': 45, 'subsample': 0.6, 'colsample_bytree': 0.6}. Best is trial 2 with value: 0.7406069917331549.\n",
      "[I 2025-02-19 08:18:56,248] Trial 3 finished with value: 0.7401499705249057 and parameters: {'objective': 'binary', 'metric': 'auc', 'random_state': 42, 'verbose': -1, 'learning_rate': 0.008661333735273127, 'n_estimators': 678, 'min_child_samples': 30, 'subsample': 0.7, 'colsample_bytree': 0.6}. Best is trial 2 with value: 0.7406069917331549.\n",
      "[I 2025-02-19 08:18:59,567] Trial 4 finished with value: 0.7405849453728359 and parameters: {'objective': 'binary', 'metric': 'auc', 'random_state': 42, 'verbose': -1, 'learning_rate': 0.03126143958203108, 'n_estimators': 365, 'min_child_samples': 20, 'subsample': 0.7, 'colsample_bytree': 0.7}. Best is trial 2 with value: 0.7406069917331549.\n",
      "[I 2025-02-19 08:19:04,780] Trial 5 finished with value: 0.739888396336632 and parameters: {'objective': 'binary', 'metric': 'auc', 'random_state': 42, 'verbose': -1, 'learning_rate': 0.05254210669345883, 'n_estimators': 479, 'min_child_samples': 30, 'subsample': 0.8, 'colsample_bytree': 0.5}. Best is trial 2 with value: 0.7406069917331549.\n",
      "[I 2025-02-19 08:19:08,469] Trial 6 finished with value: 0.7398629945774531 and parameters: {'objective': 'binary', 'metric': 'auc', 'random_state': 42, 'verbose': -1, 'learning_rate': 0.030860579740535368, 'n_estimators': 424, 'min_child_samples': 10, 'subsample': 1.0, 'colsample_bytree': 1.0}. Best is trial 2 with value: 0.7406069917331549.\n",
      "[I 2025-02-19 08:19:14,026] Trial 7 finished with value: 0.738117500207042 and parameters: {'objective': 'binary', 'metric': 'auc', 'random_state': 42, 'verbose': -1, 'learning_rate': 0.05632733481673016, 'n_estimators': 679, 'min_child_samples': 10, 'subsample': 0.9, 'colsample_bytree': 0.7}. Best is trial 2 with value: 0.7406069917331549.\n",
      "[I 2025-02-19 08:19:24,362] Trial 8 finished with value: 0.7403563017440228 and parameters: {'objective': 'binary', 'metric': 'auc', 'random_state': 42, 'verbose': -1, 'learning_rate': 0.007206848764305203, 'n_estimators': 1041, 'min_child_samples': 10, 'subsample': 1.0, 'colsample_bytree': 0.6}. Best is trial 2 with value: 0.7406069917331549.\n",
      "[I 2025-02-19 08:19:30,781] Trial 9 finished with value: 0.7396804608794801 and parameters: {'objective': 'binary', 'metric': 'auc', 'random_state': 42, 'verbose': -1, 'learning_rate': 0.036385753170854684, 'n_estimators': 692, 'min_child_samples': 30, 'subsample': 0.8, 'colsample_bytree': 0.6}. Best is trial 2 with value: 0.7406069917331549.\n",
      "[I 2025-02-19 08:19:45,520] Trial 10 finished with value: 0.7392165144456553 and parameters: {'objective': 'binary', 'metric': 'auc', 'random_state': 42, 'verbose': -1, 'learning_rate': 0.015894131971030474, 'n_estimators': 1873, 'min_child_samples': 50, 'subsample': 0.5, 'colsample_bytree': 0.8}. Best is trial 2 with value: 0.7406069917331549.\n",
      "[I 2025-02-19 08:19:58,590] Trial 11 finished with value: 0.7386500039915348 and parameters: {'objective': 'binary', 'metric': 'auc', 'random_state': 42, 'verbose': -1, 'learning_rate': 0.021111895577706766, 'n_estimators': 1629, 'min_child_samples': 20, 'subsample': 0.6, 'colsample_bytree': 0.7}. Best is trial 2 with value: 0.7406069917331549.\n",
      "[I 2025-02-19 08:20:08,963] Trial 12 finished with value: 0.7303193110328151 and parameters: {'objective': 'binary', 'metric': 'auc', 'random_state': 42, 'verbose': -1, 'learning_rate': 0.0933102191367511, 'n_estimators': 1376, 'min_child_samples': 20, 'subsample': 0.6, 'colsample_bytree': 0.8}. Best is trial 2 with value: 0.7406069917331549.\n",
      "[I 2025-02-19 08:20:19,035] Trial 13 finished with value: 0.7405407057294074 and parameters: {'objective': 'binary', 'metric': 'auc', 'random_state': 42, 'verbose': -1, 'learning_rate': 0.012973882577665569, 'n_estimators': 1189, 'min_child_samples': 40, 'subsample': 0.6, 'colsample_bytree': 0.7}. Best is trial 2 with value: 0.7406069917331549.\n",
      "[I 2025-02-19 08:20:20,488] Trial 14 finished with value: 0.7385719204848141 and parameters: {'objective': 'binary', 'metric': 'auc', 'random_state': 42, 'verbose': -1, 'learning_rate': 0.02650009799560713, 'n_estimators': 125, 'min_child_samples': 20, 'subsample': 0.5, 'colsample_bytree': 0.6}. Best is trial 2 with value: 0.7406069917331549.\n",
      "[I 2025-02-19 08:20:29,374] Trial 15 finished with value: 0.7401661836533608 and parameters: {'objective': 'binary', 'metric': 'auc', 'random_state': 42, 'verbose': -1, 'learning_rate': 0.0055292502731531116, 'n_estimators': 986, 'min_child_samples': 40, 'subsample': 0.7, 'colsample_bytree': 0.8}. Best is trial 2 with value: 0.7406069917331549.\n",
      "[I 2025-02-19 08:20:44,503] Trial 16 finished with value: 0.7364172262889568 and parameters: {'objective': 'binary', 'metric': 'auc', 'random_state': 42, 'verbose': -1, 'learning_rate': 0.044658849726746185, 'n_estimators': 1488, 'min_child_samples': 25, 'subsample': 0.7, 'colsample_bytree': 0.5}. Best is trial 2 with value: 0.7406069917331549.\n",
      "[I 2025-02-19 08:20:57,512] Trial 17 finished with value: 0.7284458707373609 and parameters: {'objective': 'binary', 'metric': 'auc', 'random_state': 42, 'verbose': -1, 'learning_rate': 0.09164845067673508, 'n_estimators': 1756, 'min_child_samples': 50, 'subsample': 0.6, 'colsample_bytree': 0.9}. Best is trial 2 with value: 0.7406069917331549.\n",
      "[I 2025-02-19 08:21:08,424] Trial 18 finished with value: 0.7403578503896504 and parameters: {'objective': 'binary', 'metric': 'auc', 'random_state': 42, 'verbose': -1, 'learning_rate': 0.01121978176524566, 'n_estimators': 1276, 'min_child_samples': 35, 'subsample': 0.5, 'colsample_bytree': 0.7}. Best is trial 2 with value: 0.7406069917331549.\n",
      "[I 2025-02-19 08:21:26,459] Trial 19 finished with value: 0.7387418863278861 and parameters: {'objective': 'binary', 'metric': 'auc', 'random_state': 42, 'verbose': -1, 'learning_rate': 0.01886026663441775, 'n_estimators': 1995, 'min_child_samples': 15, 'subsample': 0.7, 'colsample_bytree': 0.6}. Best is trial 2 with value: 0.7406069917331549.\n"
     ]
    },
    {
     "name": "stdout",
     "output_type": "stream",
     "text": [
      "Cat val score : 0.7413915435498687\n",
      "LGBM val score : 0.7406069917331549\n",
      "Ensemble val score : 0.7413246380878702\n"
     ]
    }
   ],
   "source": [
    "for col in X.columns:\n",
    "    if X[col].dtype == 'object':  # 문자형이면 category로 변환\n",
    "        X[col] = X[col].astype('category')\n",
    "        test[col] = test[col].astype('category')\n",
    "seed = 42\n",
    "\n",
    "test_pred_total = []\n",
    "scores_total = []\n",
    "seed_everything(seed)\n",
    "print('Seed {} Start!'.format(seed))\n",
    "cv = StratifiedKFold(n_splits = 10, random_state = seed, shuffle=True)\n",
    "\n",
    "cat_param_list = []\n",
    "lgbm_param_list = []\n",
    "for idx, (train_idx, val_idx) in enumerate(cv.split(X, y)):\n",
    "    print('='*50)\n",
    "    X_train, X_val = X.iloc[train_idx],X.iloc[val_idx]\n",
    "    y_train, y_val = y.iloc[train_idx], y.iloc[val_idx]\n",
    "    \n",
    "    best_val_auc = 0\n",
    "\n",
    "    # ---------------- CatBoost Optuna 튜닝 ----------------\n",
    "    sampler = TPESampler(seed=seed)\n",
    "    optuna_cat = optuna.create_study(direction='maximize', sampler=sampler)\n",
    "    optuna_cat.optimize(objective_cat, n_trials = 20)\n",
    "    cat_trial = optuna_cat.best_trial\n",
    "    cat_trial_params = cat_trial.params\n",
    "    cat_param_list.append(cat_trial_params)\n",
    "    \n",
    "    cat_model_path = f\"./weight/cat_fold_cpu{idx}.cbm\"\n",
    "    model_cat = CatBoostClassifier(**cat_trial_params, auto_class_weights='Balanced', eval_metric='AUC', random_state=42, task_type=\"CPU\")\n",
    "    model_cat.load_model(cat_model_path)\n",
    "\n",
    "    # ---------------- LightGBM Optuna 튜닝 ----------------\n",
    "    sampler = TPESampler(seed=seed)\n",
    "    optuna_lgbm = optuna.create_study(direction='maximize', sampler=sampler)\n",
    "    optuna_lgbm.optimize(objective_lgbm, n_trials = 20)\n",
    "    lgbm_trial = optuna_lgbm.best_trial\n",
    "    lgbm_trial_params = lgbm_trial.params\n",
    "    lgbm_param_list.append(lgbm_trial_params)\n",
    "    # lgbm_trial_params =loaded_lgbm_params[idx]\n",
    "    #print(lgbm_trial_params)\n",
    "\n",
    "    class_weights = compute_class_weight(class_weight=\"balanced\", classes=np.unique(y), y=y_train)\n",
    "    class_weight_dict = {i: w for i, w in enumerate(class_weights)}\n",
    "\n",
    "    model_lgbm = lgb.LGBMClassifier(**lgbm_trial_params,class_weight=class_weight_dict)\n",
    "    #model_lgbm= lgb.LGBMClassifier(objective = 'binary', metric = 'auc', random_state =  seed, class_weight=class_weight_dict)\n",
    "    model_lgbm.fit(X_train, y_train, eval_set=[(X_val, y_val)],categorical_feature=categorical_columns)\n",
    "\n",
    "    val_pred_cat = model_cat.predict_proba(X_val)[:, 1]\n",
    "    val_pred_lgbm = model_lgbm.predict_proba(X_val)[:, 1]\n",
    "    print('Cat val score : {}'.format(roc_auc_score(y_val,val_pred_cat)))\n",
    "    print('LGBM val score : {}'.format(roc_auc_score(y_val,val_pred_lgbm)))\n",
    "\n",
    "    roc_val = roc_auc_score(y_val, (val_pred_cat+val_pred_lgbm)/2)\n",
    "    scores_total.append(roc_val)\n",
    "    print('Ensemble val score : {}'.format(roc_val))\n",
    "\n",
    "    test_pred_cat = model_cat.predict_proba(test)[:, 1]\n",
    "    test_pred_lgbm = model_lgbm.predict_proba(test)[:, 1]\n",
    "    test_pred_total.append((test_pred_cat+test_pred_lgbm)/2)"
   ]
  },
  {
   "cell_type": "code",
   "execution_count": 76,
   "metadata": {},
   "outputs": [],
   "source": [
    "with open(\"cat_cpu_params.json\", \"w\") as f:\n",
    "    json.dump(cat_param_list, f)\n",
    "with open(\"lgbm_params.json\", \"w\") as f:\n",
    "    json.dump(lgbm_param_list, f)  "
   ]
  },
  {
   "cell_type": "code",
   "execution_count": 77,
   "metadata": {},
   "outputs": [],
   "source": [
    "# with open(\"cat_params.json\", \"r\") as f:\n",
    "#     loaded_cat_params = json.load(f)\n",
    "with open(\"cat_cpu_params.json\", \"r\") as f:\n",
    "    loaded_cat_cpu_params = json.load(f)\n",
    "with open(\"lgbm_params.json\", \"r\") as f:\n",
    "    loaded_lgbm_params = json.load(f)"
   ]
  },
  {
   "cell_type": "code",
   "execution_count": 78,
   "metadata": {
    "colab": {
     "base_uri": "https://localhost:8080/"
    },
    "id": "LDLeh9IJD9pt",
    "outputId": "0534775f-2085-448a-d2aa-690a9e4e4ff4"
   },
   "outputs": [
    {
     "data": {
      "text/plain": [
       "(0.7408404103560092,\n",
       " [0.7442756312723847,\n",
       "  0.7333542296633645,\n",
       "  0.7400389690291704,\n",
       "  0.7472725213497875,\n",
       "  0.7438515194786741,\n",
       "  0.7383677335442583,\n",
       "  0.7373801145769041,\n",
       "  0.7405783259054994,\n",
       "  0.741960420652179,\n",
       "  0.7413246380878702])"
      ]
     },
     "execution_count": 78,
     "metadata": {},
     "output_type": "execute_result"
    }
   ],
   "source": [
    "np.mean(scores_total), scores_total"
   ]
  },
  {
   "cell_type": "markdown",
   "metadata": {},
   "source": [
    "#### 재현성 확인"
   ]
  },
  {
   "cell_type": "code",
   "execution_count": 90,
   "metadata": {
    "scrolled": true,
    "tags": []
   },
   "outputs": [
    {
     "name": "stdout",
     "output_type": "stream",
     "text": [
      "Seed 42 Start!\n",
      "==================================================\n",
      "0:\ttest: 0.7213056\tbest: 0.7213056 (0)\ttotal: 122ms\tremaining: 5m 22s\n",
      "300:\ttest: 0.7401021\tbest: 0.7401021 (300)\ttotal: 23.7s\tremaining: 3m 4s\n",
      "600:\ttest: 0.7423563\tbest: 0.7423563 (600)\ttotal: 47.5s\tremaining: 2m 40s\n",
      "900:\ttest: 0.7430269\tbest: 0.7430269 (900)\ttotal: 1m 10s\tremaining: 2m 16s\n",
      "1200:\ttest: 0.7434065\tbest: 0.7434065 (1200)\ttotal: 1m 34s\tremaining: 1m 52s\n",
      "1500:\ttest: 0.7436386\tbest: 0.7436386 (1500)\ttotal: 1m 57s\tremaining: 1m 29s\n",
      "1800:\ttest: 0.7438612\tbest: 0.7438612 (1797)\ttotal: 2m 22s\tremaining: 1m 6s\n",
      "2100:\ttest: 0.7439732\tbest: 0.7439739 (2094)\ttotal: 2m 49s\tremaining: 43.3s\n",
      "2400:\ttest: 0.7440470\tbest: 0.7440476 (2395)\ttotal: 3m 15s\tremaining: 19.3s\n",
      "2637:\ttest: 0.7440563\tbest: 0.7440620 (2547)\ttotal: 3m 36s\tremaining: 0us\n",
      "\n",
      "bestTest = 0.7440620327\n",
      "bestIteration = 2547\n",
      "\n",
      "Shrink model to first 2548 iterations.\n",
      "Cat val score : 0.7440620326537548\n",
      "Cat cpu val score : 0.7440620326537548\n",
      "LGBM val score : 0.7439849578352579\n",
      "Ensemble val score : 0.7442556984719697\n",
      "==================================================\n",
      "0:\ttest: 0.6901171\tbest: 0.6901171 (0)\ttotal: 44.7ms\tremaining: 1m 30s\n",
      "300:\ttest: 0.7304333\tbest: 0.7304333 (300)\ttotal: 12.6s\tremaining: 1m 12s\n",
      "600:\ttest: 0.7322987\tbest: 0.7323221 (596)\ttotal: 26s\tremaining: 1m 1s\n",
      "900:\ttest: 0.7326554\tbest: 0.7326554 (900)\ttotal: 39.8s\tremaining: 49.7s\n",
      "1200:\ttest: 0.7327838\tbest: 0.7328479 (1144)\ttotal: 53.7s\tremaining: 37s\n",
      "Stopped by overfitting detector  (300 iterations wait)\n",
      "\n",
      "bestTest = 0.7328478958\n",
      "bestIteration = 1144\n",
      "\n",
      "Shrink model to first 1145 iterations.\n",
      "Cat val score : 0.7328478958180913\n",
      "Cat cpu val score : 0.7328478958180913\n",
      "LGBM val score : 0.7326602847504091\n",
      "Ensemble val score : 0.7333216493069177\n",
      "==================================================\n",
      "0:\ttest: 0.7182663\tbest: 0.7182663 (0)\ttotal: 63.6ms\tremaining: 1m 27s\n",
      "300:\ttest: 0.7388986\tbest: 0.7388986 (300)\ttotal: 21.5s\tremaining: 1m 17s\n",
      "600:\ttest: 0.7394718\tbest: 0.7395032 (582)\ttotal: 45.2s\tremaining: 58.5s\n",
      "900:\ttest: 0.7398110\tbest: 0.7398177 (891)\ttotal: 1m 9s\tremaining: 36.7s\n",
      "1200:\ttest: 0.7399103\tbest: 0.7399435 (1141)\ttotal: 1m 33s\tremaining: 13.8s\n",
      "1377:\ttest: 0.7399510\tbest: 0.7399728 (1273)\ttotal: 1m 48s\tremaining: 0us\n",
      "\n",
      "bestTest = 0.7399727917\n",
      "bestIteration = 1273\n",
      "\n",
      "Shrink model to first 1274 iterations.\n",
      "Cat val score : 0.7399727916693665\n",
      "Cat cpu val score : 0.7399727916693665\n",
      "LGBM val score : 0.7394204902929044\n",
      "Ensemble val score : 0.7400806197822682\n",
      "==================================================\n",
      "0:\ttest: 0.7201495\tbest: 0.7201495 (0)\ttotal: 67ms\tremaining: 2m 55s\n",
      "300:\ttest: 0.7466417\tbest: 0.7466417 (299)\ttotal: 22.2s\tremaining: 2m 50s\n",
      "600:\ttest: 0.7469654\tbest: 0.7470915 (583)\ttotal: 45.8s\tremaining: 2m 34s\n",
      "Stopped by overfitting detector  (300 iterations wait)\n",
      "\n",
      "bestTest = 0.7470915006\n",
      "bestIteration = 583\n",
      "\n",
      "Shrink model to first 584 iterations.\n",
      "Cat val score : 0.747091500559466\n",
      "Cat cpu val score : 0.747091500559466\n",
      "LGBM val score : 0.7467345178878735\n",
      "Ensemble val score : 0.7472829171299233\n",
      "==================================================\n",
      "0:\ttest: 0.7232374\tbest: 0.7232374 (0)\ttotal: 64.5ms\tremaining: 3m 9s\n",
      "300:\ttest: 0.7431054\tbest: 0.7431601 (295)\ttotal: 22.1s\tremaining: 3m 14s\n",
      "600:\ttest: 0.7431044\tbest: 0.7434874 (410)\ttotal: 45.7s\tremaining: 2m 58s\n",
      "Stopped by overfitting detector  (300 iterations wait)\n",
      "\n",
      "bestTest = 0.7434873852\n",
      "bestIteration = 410\n",
      "\n",
      "Shrink model to first 411 iterations.\n",
      "Cat val score : 0.7434873852409909\n",
      "Cat cpu val score : 0.7434873852409909\n",
      "LGBM val score : 0.7434959305881463\n",
      "Ensemble val score : 0.7438107940695545\n",
      "==================================================\n",
      "0:\ttest: 0.7165578\tbest: 0.7165578 (0)\ttotal: 72.4ms\tremaining: 3m\n",
      "300:\ttest: 0.7374763\tbest: 0.7375364 (294)\ttotal: 25.6s\tremaining: 3m 6s\n",
      "600:\ttest: 0.7377169\tbest: 0.7377176 (593)\ttotal: 52s\tremaining: 2m 44s\n",
      "900:\ttest: 0.7367632\tbest: 0.7378040 (656)\ttotal: 1m 19s\tremaining: 2m 20s\n",
      "Stopped by overfitting detector  (300 iterations wait)\n",
      "\n",
      "bestTest = 0.7378040226\n",
      "bestIteration = 656\n",
      "\n",
      "Shrink model to first 657 iterations.\n",
      "Cat val score : 0.7378040225649263\n",
      "Cat cpu val score : 0.7378040225649263\n",
      "LGBM val score : 0.7378922278606337\n",
      "Ensemble val score : 0.7382821927132077\n",
      "==================================================\n",
      "0:\ttest: 0.6975413\tbest: 0.6975413 (0)\ttotal: 53.1ms\tremaining: 1m 13s\n",
      "300:\ttest: 0.7363540\tbest: 0.7363647 (291)\ttotal: 15.9s\tremaining: 57.5s\n",
      "600:\ttest: 0.7368949\tbest: 0.7369223 (583)\ttotal: 32.5s\tremaining: 42.7s\n",
      "900:\ttest: 0.7366196\tbest: 0.7369553 (620)\ttotal: 49.6s\tremaining: 26.9s\n",
      "Stopped by overfitting detector  (300 iterations wait)\n",
      "\n",
      "bestTest = 0.7369553131\n",
      "bestIteration = 620\n",
      "\n",
      "Shrink model to first 621 iterations.\n",
      "Cat val score : 0.7369553131394815\n",
      "Cat cpu val score : 0.7369553131394815\n",
      "LGBM val score : 0.7371349163234207\n",
      "Ensemble val score : 0.7373031905689609\n",
      "==================================================\n",
      "0:\ttest: 0.7183826\tbest: 0.7183826 (0)\ttotal: 73.1ms\tremaining: 3m 34s\n",
      "300:\ttest: 0.7367804\tbest: 0.7367804 (300)\ttotal: 22.8s\tremaining: 3m 18s\n",
      "600:\ttest: 0.7387789\tbest: 0.7387789 (600)\ttotal: 45.9s\tremaining: 2m 57s\n",
      "900:\ttest: 0.7395102\tbest: 0.7395102 (900)\ttotal: 1m 9s\tremaining: 2m 36s\n",
      "1200:\ttest: 0.7398956\tbest: 0.7398956 (1200)\ttotal: 1m 32s\tremaining: 2m 13s\n",
      "1500:\ttest: 0.7401058\tbest: 0.7401058 (1500)\ttotal: 1m 55s\tremaining: 1m 50s\n",
      "1800:\ttest: 0.7402285\tbest: 0.7402300 (1797)\ttotal: 2m 19s\tremaining: 1m 27s\n",
      "2100:\ttest: 0.7403548\tbest: 0.7403566 (2096)\ttotal: 2m 42s\tremaining: 1m 4s\n",
      "2400:\ttest: 0.7404682\tbest: 0.7404682 (2396)\ttotal: 3m 8s\tremaining: 41.4s\n",
      "2700:\ttest: 0.7405113\tbest: 0.7405117 (2695)\ttotal: 3m 34s\tremaining: 18.2s\n",
      "2929:\ttest: 0.7405282\tbest: 0.7405332 (2903)\ttotal: 3m 54s\tremaining: 0us\n",
      "\n",
      "bestTest = 0.7405332127\n",
      "bestIteration = 2903\n",
      "\n",
      "Shrink model to first 2904 iterations.\n",
      "Cat val score : 0.7405332126671016\n",
      "Cat cpu val score : 0.7405332126671016\n",
      "LGBM val score : 0.7400960617735204\n",
      "Ensemble val score : 0.7406282161200255\n",
      "==================================================\n",
      "0:\ttest: 0.7188892\tbest: 0.7188892 (0)\ttotal: 57.6ms\tremaining: 2m 26s\n",
      "300:\ttest: 0.7400608\tbest: 0.7400631 (297)\ttotal: 18.6s\tremaining: 2m 18s\n",
      "600:\ttest: 0.7414192\tbest: 0.7414218 (592)\ttotal: 39.1s\tremaining: 2m 6s\n",
      "900:\ttest: 0.7414092\tbest: 0.7415602 (794)\ttotal: 59.7s\tremaining: 1m 48s\n",
      "Stopped by overfitting detector  (300 iterations wait)\n",
      "\n",
      "bestTest = 0.7415602387\n",
      "bestIteration = 794\n",
      "\n",
      "Shrink model to first 795 iterations.\n",
      "Cat val score : 0.741560238709349\n",
      "Cat cpu val score : 0.741560238709349\n",
      "LGBM val score : 0.7417731218907365\n",
      "Ensemble val score : 0.741881519142896\n",
      "==================================================\n",
      "0:\ttest: 0.7269902\tbest: 0.7269902 (0)\ttotal: 100ms\tremaining: 4m 37s\n",
      "300:\ttest: 0.7400156\tbest: 0.7400156 (300)\ttotal: 35.5s\tremaining: 4m 51s\n",
      "600:\ttest: 0.7410205\tbest: 0.7410251 (597)\ttotal: 1m 12s\tremaining: 4m 21s\n",
      "900:\ttest: 0.7413314\tbest: 0.7413508 (810)\ttotal: 1m 54s\tremaining: 3m 57s\n",
      "1200:\ttest: 0.7411307\tbest: 0.7413915 (971)\ttotal: 2m 39s\tremaining: 3m 27s\n",
      "Stopped by overfitting detector  (300 iterations wait)\n",
      "\n",
      "bestTest = 0.7413915435\n",
      "bestIteration = 971\n",
      "\n",
      "Shrink model to first 972 iterations.\n",
      "Cat val score : 0.7413915435498687\n",
      "Cat cpu val score : 0.7413915435498687\n",
      "LGBM val score : 0.7406069917331549\n",
      "Ensemble val score : 0.7414180571571904\n"
     ]
    }
   ],
   "source": [
    "for col in X.columns:\n",
    "    if X[col].dtype == 'object':  # 문자형이면 category로 변환\n",
    "        X[col] = X[col].astype('category')\n",
    "        test[col] = test[col].astype('category')\n",
    "seed = 42\n",
    "\n",
    "test_pred_total = []\n",
    "scores_total = []\n",
    "seed_everything(seed)\n",
    "print('Seed {} Start!'.format(seed))\n",
    "cv = StratifiedKFold(n_splits = 10, random_state = seed, shuffle=True)\n",
    "\n",
    "cat_param_list = []\n",
    "lgbm_param_list = []\n",
    "for idx, (train_idx, val_idx) in enumerate(cv.split(X, y)):\n",
    "    print('='*50)\n",
    "    X_train, X_val = X.iloc[train_idx],X.iloc[val_idx]\n",
    "    y_train, y_val = y.iloc[train_idx], y.iloc[val_idx]\n",
    "\n",
    "    cat_trial_params = loaded_cat_cpu_params[idx]\n",
    "    model_cat = CatBoostClassifier(**cat_trial_params ,auto_class_weights='Balanced', eval_metric='AUC', random_state=seed, task_type=\"CPU\")\n",
    "    model_cat.fit(X_train,y_train,cat_features=categorical_columns, early_stopping_rounds = 300, eval_set=[(X_val,y_val)], verbose = 300)\n",
    "    \n",
    "    model_cat_cpu = CatBoostClassifier()\n",
    "    model_cat_cpu.load_model(\"./weight/cat_fold_cpu{}.cbm\".format(idx))\n",
    "\n",
    "    lgbm_trial_params = loaded_lgbm_params[idx]\n",
    "    class_weights = compute_class_weight(class_weight=\"balanced\", classes=np.unique(y), y=y_train)\n",
    "    class_weight_dict = {i: w for i, w in enumerate(class_weights)}\n",
    "\n",
    "    model_lgbm = lgb.LGBMClassifier(**lgbm_trial_params,class_weight=class_weight_dict)\n",
    "    model_lgbm.fit(X_train, y_train, eval_set=[(X_val, y_val)],categorical_feature=categorical_columns)\n",
    "\n",
    "    val_pred = model_cat.predict_proba(X_val)[:, 1]\n",
    "    val_pred_cpu = model_cat_cpu.predict_proba(X_val)[:, 1]\n",
    "    val_pred_lgbm = model_lgbm.predict_proba(X_val)[:, 1]\n",
    "    print('Cat val score : {}'.format(roc_auc_score(y_val,val_pred)))\n",
    "    print('Cat cpu val score : {}'.format(roc_auc_score(y_val,val_pred_cpu)))\n",
    "    print('LGBM val score : {}'.format(roc_auc_score(y_val,val_pred_lgbm)))\n",
    "\n",
    "    roc_val = roc_auc_score(y_val, (val_pred+val_pred_cpu + val_pred_lgbm)/3)\n",
    "    scores_total.append(roc_val)\n",
    "    print('Ensemble val score : {}'.format(roc_val))\n",
    "\n",
    "    test_pred = model_cat.predict_proba(test)[:, 1]\n",
    "    test_pred_cpu = model_cat_cpu.predict_proba(test)[:, 1]\n",
    "    test_pred_lgbm = model_lgbm.predict_proba(test)[:, 1]\n",
    "    test_pred_total.append((test_pred+test_pred_cpu+test_pred_lgbm)/3)"
   ]
  },
  {
   "cell_type": "code",
   "execution_count": 91,
   "metadata": {},
   "outputs": [
    {
     "data": {
      "text/plain": [
       "(0.7408264854462915,\n",
       " [0.7442556984719697,\n",
       "  0.7333216493069177,\n",
       "  0.7400806197822682,\n",
       "  0.7472829171299233,\n",
       "  0.7438107940695545,\n",
       "  0.7382821927132077,\n",
       "  0.7373031905689609,\n",
       "  0.7406282161200255,\n",
       "  0.741881519142896,\n",
       "  0.7414180571571904])"
      ]
     },
     "execution_count": 91,
     "metadata": {},
     "output_type": "execute_result"
    }
   ],
   "source": [
    "np.mean(scores_total), scores_total"
   ]
  },
  {
   "cell_type": "code",
   "execution_count": 92,
   "metadata": {
    "colab": {
     "base_uri": "https://localhost:8080/",
     "height": 1000
    },
    "id": "n3IfZ6xH9a35",
    "outputId": "9a1c106b-3242-4e3c-dbb4-ea136c7205aa"
   },
   "outputs": [
    {
     "data": {
      "text/plain": [
       "Text(0.5, 1.0, 'Feature Importance')"
      ]
     },
     "execution_count": 92,
     "metadata": {},
     "output_type": "execute_result"
    },
    {
     "data": {
      "image/png": "[encoded data removed]",
      "text/plain": [
       "<Figure size 1200x1200 with 1 Axes>"
      ]
     },
     "metadata": {},
     "output_type": "display_data"
    }
   ],
   "source": [
    "feature_importance = model_cat.feature_importances_\n",
    "sorted_idx = np.argsort(feature_importance)\n",
    "fig = plt.figure(figsize=(12, 12))\n",
    "plt.barh(range(len(sorted_idx)), feature_importance[sorted_idx], align='center')\n",
    "plt.yticks(range(len(sorted_idx)), np.array(X.columns)[sorted_idx])\n",
    "plt.title('Feature Importance')"
   ]
  },
  {
   "cell_type": "code",
   "execution_count": 93,
   "metadata": {},
   "outputs": [
    {
     "data": {
      "text/plain": [
       "array(['이식된 배아 수', '배아 이식률', '시술 당시 나이', '총 생성 배아 수', '배아 이식 경과일',\n",
       "       '난자 출처', '저장 배아 비율', '시술 시기 코드', '저장된 배아 수', '배아 생성 주요 이유',\n",
       "       'IVF 시술 횟수', '클리닉 내 총 시술 횟수', '수집된 신선 난자 수', '임신 성공률',\n",
       "       '불임 원인 - 여성 요인', '특정 시술 유형', '총 시술 횟수', '미세주입 배아 생성률', '난자 기증자 나이',\n",
       "       '파트너 정자 혼합 비율', '혼합된 난자 수', '미세주입 배아 이식률', '출산율', '해동 배아 생존율',\n",
       "       '총 출산 횟수', '정자 기증자 나이', '불임 원인 - 남성 요인', '총 임신 횟수', '여성 불임 원인',\n",
       "       '배란 자극 여부', '파트너 정자와 혼합된 난자 수', '미세주입된 난자 수', '미세주입 배아 이식 수',\n",
       "       'IVF 임신 횟수', '남성 불임 원인', '정자 출처', '해동된 배아 수', '신선 배아 사용 여부',\n",
       "       '불임 원인 - 난관 질환', 'IVF 출산 횟수', '단일 배아 이식 여부', '부부 불임 원인',\n",
       "       '불임 원인 - 배란 장애', 'DI 시술 횟수', '미세주입에서 생성된 배아 수', '동결 배아 사용 여부',\n",
       "       '임신 시도 또는 마지막 임신 경과 연수', '미세주입 후 저장된 배아 수', 'PGS 시술 여부',\n",
       "       '불명확 불임 원인', '배아 해동 경과일', '착상 전 유전 진단 사용 여부', '기증자 정자와 혼합된 난자 수',\n",
       "       '해동 난자 수', '불임 원인 - 정자 요인', '불임 원인 - 자궁내막증', '착상 전 유전 검사 사용 여부',\n",
       "       '난자 혼합 경과일', '저장된 신선 난자 수', 'PGD 시술 여부', 'DI 출산 횟수', 'DI 임신 횟수',\n",
       "       '기증 배아 사용 여부', '불임 원인 - 정자 농도', '대리모 여부', '시술 유형'], dtype=object)"
      ]
     },
     "execution_count": 93,
     "metadata": {},
     "output_type": "execute_result"
    }
   ],
   "source": [
    "np.array(X.columns)[sorted_idx][::-1]"
   ]
  },
  {
   "cell_type": "code",
   "execution_count": 94,
   "metadata": {
    "id": "zdqhyNyumAyx"
   },
   "outputs": [],
   "source": [
    "test_pred_total_mean = np.mean(test_pred_total, axis=(0))"
   ]
  },
  {
   "cell_type": "code",
   "execution_count": 95,
   "metadata": {
    "colab": {
     "base_uri": "https://localhost:8080/",
     "height": 540
    },
    "id": "HHVwzBg8NEZK",
    "outputId": "7c5d38e1-affe-45e7-b863-372c9a868b84"
   },
   "outputs": [
    {
     "data": {
      "text/plain": [
       "(array([13553.,  2405.,  3311.,  6035.,  9323., 13347., 16801., 15206.,\n",
       "         9554.,   532.]),\n",
       " array([5.80953783e-04, 8.89236476e-02, 1.77266341e-01, 2.65609035e-01,\n",
       "        3.53951729e-01, 4.42294423e-01, 5.30637116e-01, 6.18979810e-01,\n",
       "        7.07322504e-01, 7.95665198e-01, 8.84007892e-01]),\n",
       " <BarContainer object of 10 artists>)"
      ]
     },
     "execution_count": 95,
     "metadata": {},
     "output_type": "execute_result"
    },
    {
     "data": {
      "image/png": "[encoded data removed]",
      "text/plain": [
       "<Figure size 640x480 with 1 Axes>"
      ]
     },
     "metadata": {},
     "output_type": "display_data"
    }
   ],
   "source": [
    "plt.hist(test_pred_total_mean)"
   ]
  },
  {
   "cell_type": "code",
   "execution_count": 96,
   "metadata": {
    "id": "KGlLsagWhQmz"
   },
   "outputs": [],
   "source": [
    "sample_submission = pd.read_csv('../sample_submission.csv')\n",
    "sample_submission['probability'] = test_pred_total_mean"
   ]
  },
  {
   "cell_type": "code",
   "execution_count": 97,
   "metadata": {
    "id": "cRPfPmjigZCd"
   },
   "outputs": [],
   "source": [
    "sample_submission.to_csv('Add_feature_reason2_lgbmcat_cpu_mac_sunghyun.csv', index=False)"
   ]
  }
 ],
 "metadata": {
  "accelerator": "GPU",
  "colab": {
   "gpuType": "T4",
   "provenance": []
  },
  "kernelspec": {
   "display_name": "Python 3",
   "language": "python",
   "name": "python3"
  },
  "language_info": {
   "codemirror_mode": {
    "name": "ipython",
    "version": 3
   },
   "file_extension": ".py",
   "mimetype": "text/x-python",
   "name": "python",
   "nbconvert_exporter": "python",
   "pygments_lexer": "ipython3",
   "version": "3.9.6"
  }
 },
 "nbformat": 4,
 "nbformat_minor": 4
}
