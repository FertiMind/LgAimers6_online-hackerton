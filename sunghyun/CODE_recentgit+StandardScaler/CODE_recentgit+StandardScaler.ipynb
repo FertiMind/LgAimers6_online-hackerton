{
 "cells": [
  {
   "cell_type": "code",
   "execution_count": 1,
   "metadata": {
    "colab": {
     "base_uri": "https://localhost:8080/"
    },
    "id": "0_-E_OuZQXqu",
    "outputId": "8f5cbcbb-5086-4ead-c817-9fdb22e3533b"
   },
   "outputs": [
    {
     "name": "stderr",
     "output_type": "stream",
     "text": [
      "/Users/1233day/Library/Python/3.9/lib/python/site-packages/tqdm/auto.py:21: TqdmWarning: IProgress not found. Please update jupyter and ipywidgets. See https://ipywidgets.readthedocs.io/en/stable/user_install.html\n",
      "  from .autonotebook import tqdm as notebook_tqdm\n"
     ]
    }
   ],
   "source": [
    "import random\n",
    "import os\n",
    "import pandas as pd\n",
    "import numpy as np\n",
    "\n",
    "from matplotlib import pyplot as plt\n",
    "import seaborn as sns\n",
    "from catboost import CatBoostClassifier\n",
    "import lightgbm as lgb\n",
    "\n",
    "import optuna\n",
    "from optuna import Trial\n",
    "from optuna.samplers import TPESampler\n",
    "from sklearn.model_selection import StratifiedKFold\n",
    "from sklearn.metrics import roc_auc_score\n",
    "from sklearn.utils.class_weight import compute_class_weight\n",
    "\n",
    "import warnings\n",
    "\n",
    "warnings.filterwarnings('ignore')"
   ]
  },
  {
   "cell_type": "code",
   "execution_count": 2,
   "metadata": {
    "id": "u2FSTwmUIkF5"
   },
   "outputs": [],
   "source": [
    "import os\n",
    "import logging\n",
    "\n",
    "def seed_everything(seed: int = 42):\n",
    "    random.seed(seed)\n",
    "    np.random.seed(seed)\n",
    "    os.environ[\"PYTHONHASHSEED\"] = str(seed)"
   ]
  },
  {
   "cell_type": "code",
   "execution_count": 3,
   "metadata": {
    "colab": {
     "base_uri": "https://localhost:8080/"
    },
    "id": "bbtq1EWyQcwX",
    "outputId": "ad146067-7509-44f2-ee26-cc8bc615473f"
   },
   "outputs": [
    {
     "data": {
      "text/plain": [
       "((256351, 68), (90067, 67))"
      ]
     },
     "execution_count": 3,
     "metadata": {},
     "output_type": "execute_result"
    }
   ],
   "source": [
    "train = pd.read_csv('../train.csv').drop(columns=['ID'])\n",
    "test = pd.read_csv('../test.csv').drop(columns=['ID'])\n",
    "train.shape, test.shape\n",
    "# train.loc[train['시술 당시 나이'] == '알 수 없음', '시술 당시 나이'] = '만43-44세'"
   ]
  },
  {
   "cell_type": "code",
   "execution_count": 4,
   "metadata": {
    "colab": {
     "base_uri": "https://localhost:8080/",
     "height": 178
    },
    "id": "x7kj8pMWSpd9",
    "outputId": "11cdbca0-3097-42aa-dd4e-52d7070ff5c9"
   },
   "outputs": [
    {
     "data": {
      "text/plain": [
       "임신 성공 여부\n",
       "0    190123\n",
       "1     66228\n",
       "Name: count, dtype: int64"
      ]
     },
     "execution_count": 4,
     "metadata": {},
     "output_type": "execute_result"
    }
   ],
   "source": [
    "train['임신 성공 여부'].value_counts()"
   ]
  },
  {
   "cell_type": "code",
   "execution_count": 5,
   "metadata": {
    "colab": {
     "base_uri": "https://localhost:8080/",
     "height": 335
    },
    "id": "EsL6VCeI_Q4D",
    "outputId": "32bd81c0-f1bf-4f45-8b2a-54bf8e66c1d1"
   },
   "outputs": [
    {
     "data": {
      "text/plain": [
       "시술 당시 나이\n",
       "만18-34세    102476\n",
       "만35-37세     57780\n",
       "만38-39세     39247\n",
       "만40-42세     37348\n",
       "만43-44세     12253\n",
       "만45-50세      6918\n",
       "알 수 없음        329\n",
       "Name: count, dtype: int64"
      ]
     },
     "execution_count": 5,
     "metadata": {},
     "output_type": "execute_result"
    }
   ],
   "source": [
    "# train['시술 당시 나이'] = train['시술 당시 나이'].replace('알 수 없음','만35-37세')\n",
    "# test['시술 당시 나이'] = test['시술 당시 나이'].replace('알 수 없음','만35-37세')\n",
    "\n",
    "train['시술 당시 나이'].value_counts()\n",
    "# train['']\n"
   ]
  },
  {
   "cell_type": "code",
   "execution_count": 6,
   "metadata": {
    "colab": {
     "base_uri": "https://localhost:8080/"
    },
    "id": "4xu4wqTwWgEO",
    "outputId": "8b21d1a6-d5ee-46ea-ab34-c6c2ec30bb19"
   },
   "outputs": [
    {
     "data": {
      "text/plain": [
       "((256351, 66), (90067, 65))"
      ]
     },
     "execution_count": 6,
     "metadata": {},
     "output_type": "execute_result"
    }
   ],
   "source": [
    "# drop_columns = ['착상 전 유전 검사 사용 여부',\n",
    "#                 'PGD 시술 여부', 'PGS 시술 여부', '난자 해동 경과일'] + ['배란 유도 유형', '불임 원인 - 자궁경부 문제', '불임 원인 - 정자 면역학적 요인','불임 원인 - 정자 운동성', '불임 원인 - 정자 형태']#\n",
    "drop_columns = ['난자 해동 경과일', '배란 유도 유형']\n",
    "train.drop(columns=drop_columns, inplace=True)\n",
    "test.drop(columns=drop_columns, inplace=True)\n",
    "\n",
    "train.shape, test.shape"
   ]
  },
  {
   "cell_type": "code",
   "execution_count": 7,
   "metadata": {
    "id": "q5k1E_a8a6LH"
   },
   "outputs": [],
   "source": [
    "nan_col_list = ['착상 전 유전 검사 사용 여부','PGD 시술 여부', 'PGS 시술 여부']\n",
    "for col in nan_col_list:\n",
    "    train[col] = train[col].fillna(0)\n",
    "    test[col] = test[col].fillna(0)"
   ]
  },
  {
   "cell_type": "code",
   "execution_count": 8,
   "metadata": {
    "colab": {
     "base_uri": "https://localhost:8080/"
    },
    "id": "_Q-1vJvMZVdO",
    "outputId": "c00dc096-9bb5-4d60-f38f-4908c4f8c858"
   },
   "outputs": [],
   "source": [
    "drop_columns2 = []\n",
    "for col in train.columns:\n",
    "    if len(train[col].value_counts()) == 1:\n",
    "        drop_columns2.append(col)"
   ]
  },
  {
   "cell_type": "code",
   "execution_count": 9,
   "metadata": {
    "colab": {
     "base_uri": "https://localhost:8080/"
    },
    "id": "Eb_P6B2RarRm",
    "outputId": "8648f15e-8a85-49bb-fb00-a83582492051"
   },
   "outputs": [
    {
     "name": "stdout",
     "output_type": "stream",
     "text": [
      "['불임 원인 - 여성 요인', '난자 채취 경과일']\n"
     ]
    },
    {
     "data": {
      "text/plain": [
       "((256351, 64), (90067, 63))"
      ]
     },
     "execution_count": 9,
     "metadata": {},
     "output_type": "execute_result"
    }
   ],
   "source": [
    "print(drop_columns2)\n",
    "train.drop(columns=drop_columns2, inplace=True)\n",
    "test.drop(columns=drop_columns2, inplace=True)\n",
    "\n",
    "train.shape, test.shape"
   ]
  },
  {
   "cell_type": "code",
   "execution_count": 10,
   "metadata": {
    "id": "YjAuM-pa6Ewz"
   },
   "outputs": [],
   "source": [
    "cat_to_int_dict = {'6회 이상' : 6, '5회' : 5, '4회' : 4, '3회' : 3, '2회' : 2, '1회' : 1, '0회' : 0}\n",
    "\n",
    "cat_to_int_columns = ['총 시술 횟수', '클리닉 내 총 시술 횟수', 'IVF 시술 횟수','DI 시술 횟수', 'DI 임신 횟수' ,'DI 출산 횟수',\n",
    "                      '총 임신 횟수', 'IVF 임신 횟수', '총 출산 횟수', 'IVF 출산 횟수'] #\n",
    "for col in cat_to_int_columns:\n",
    "    train[col] = train[col].map(cat_to_int_dict)\n",
    "    test[col] = test[col].map(cat_to_int_dict)"
   ]
  },
  {
   "cell_type": "code",
   "execution_count": 11,
   "metadata": {},
   "outputs": [],
   "source": [
    "# 5. Binning(구간화) 예시\n",
    "# 예: 임신 시도 또는 마지막 임신 경과 연수\n",
    "if '임신 시도 또는 마지막 임신 경과 연수' in train.columns:\n",
    "    bins = [-0.1, 0.9, 3, 6, 10, 20]  # 0 이하, 1~3, 4~6, 7~10, 11~20\n",
    "    labels = ['0년 이하','1~3년','4~6년','7~10년','11~20년']\n",
    "    train['임신시도_bin'] = pd.cut(train['임신 시도 또는 마지막 임신 경과 연수'], bins=bins, labels=labels)\n",
    "    test['임신시도_bin']  = pd.cut(test['임신 시도 또는 마지막 임신 경과 연수'],  bins=bins, labels=labels)\n",
    "\n",
    "# 예: 총 생성 배아 수 (0~20, 21이상 구간)\n",
    "if '총 생성 배아 수' in train.columns:\n",
    "    bins = [-0.1, 0, 5, 10, 15, 20, 999]\n",
    "    labels = ['0','1~5','6~10','11~15','16~20','21이상']\n",
    "    train['총_생성_배아_bin'] = pd.cut(train['총 생성 배아 수'], bins=bins, labels=labels)\n",
    "    test['총_생성_배아_bin']  = pd.cut(test['총 생성 배아 수'],  bins=bins, labels=labels)\n",
    "\n",
    "# 6. 희소 범주(rare categories) 병합 예시\n",
    "def merge_rare_categories(series, min_count=100):\n",
    "    \"\"\"\n",
    "    시리즈 내에서 출현 횟수가 min_count 미만인 카테고리를\n",
    "    모두 '기타' 카테고리로 통합\n",
    "    \"\"\"\n",
    "    value_counts = series.value_counts(dropna=False)\n",
    "    rare_cats = value_counts[value_counts < min_count].index\n",
    "    return series.replace(rare_cats, '기타')\n",
    "\n",
    "\n",
    "rare_merge_cols = ['특정 시술 유형', '배아 생성 주요 이유']\n",
    "for col in rare_merge_cols:\n",
    "    if col in train.columns:\n",
    "        train[col] = merge_rare_categories(train[col], min_count=100)\n",
    "    if col in test.columns:\n",
    "        test[col] = merge_rare_categories(test[col], min_count=100)\n",
    "train.drop(columns =['임신 시도 또는 마지막 임신 경과 연수'],inplace = True )\n",
    "test.drop(columns =['임신 시도 또는 마지막 임신 경과 연수'],inplace = True )\n"
   ]
  },
  {
   "cell_type": "code",
   "execution_count": 12,
   "metadata": {
    "id": "f-mBaoLO4ffA"
   },
   "outputs": [],
   "source": [
    "procedure_encoding_dict = {'ICSI' : 'ICSI', 'IVF' : 'IVF', 'Unknown' : 'Unknown','IUI' : 'IUI',\n",
    "                           'ICSI:ICSI' : 'ICSI', 'ICSI / BLASTOCYST ' : 'ICSI / BLASTOCYST',\n",
    "                           'IVF / BLASTOCYST' : 'IVF / BLASTOCYST','IVF:IVF' : 'IVF','ICSI:IVF' : 'ICSI:IVF',\n",
    "                           'ICSI / AH' : 'ICSI / AH','IVF:ICSI' : 'ICSI:IVF', 'IVF / AH' : 'IVF / AH',\n",
    "                           'ICSI:Unknown' : 'ICSI', 'IVF:Unknown' : 'IVF', 'ICI' : 'ICI','Generic DI' : 'Generic DI',\n",
    "                           'IVI' : 'IVI','ICSI / BLASTOCYST:IVF / BLASTOCYST' : 'ICSI / BLASTOCYST:IVF / BLASTOCYST',\n",
    "                           'ICSI / BLASTOCYST :IVF / BLASTOCYST': 'ICSI / BLASTOCYST:IVF / BLASTOCYST','FER' : 'FER',\n",
    "                           'IVF / AH:ICSI / AH' : 'IVF / AH:ICSI / AH','GIFT':'GIFT','ICSI / AH:Unknown' : 'ICSI / AH',\n",
    "                           'ICSI / BLASTOCYST :ICSI' : 'ICSI / BLASTOCYST', 'IUI:ICI' : 'IUI:ICI',\n",
    "                           'IVF:Unknown:Unknown:Unknown' : 'IVF'}\n",
    "\n",
    "train['특정 시술 유형'] = train['특정 시술 유형'].map(procedure_encoding_dict)\n",
    "test['특정 시술 유형'] = test['특정 시술 유형'].map(procedure_encoding_dict)"
   ]
  },
  {
   "cell_type": "code",
   "execution_count": 13,
   "metadata": {
    "id": "UEU77iWib0U_"
   },
   "outputs": [],
   "source": [
    "train['불임 원인 - 정자 요인'] = train['불임 원인 - 정자 면역학적 요인'] + train['불임 원인 - 정자 운동성'] + train['불임 원인 - 정자 농도']  + train['불임 원인 - 정자 형태']\n",
    "test['불임 원인 - 정자 요인'] = test['불임 원인 - 정자 면역학적 요인'] + test['불임 원인 - 정자 운동성'] + test['불임 원인 - 정자 농도'] + test['불임 원인 - 정자 형태']\n",
    "train['불임 원인 - 여성 요인'] = train['불임 원인 - 자궁경부 문제'] + train['불임 원인 - 자궁내막증'] + train['불임 원인 - 배란 장애'] + train['불임 원인 - 난관 질환']\n",
    "test['불임 원인 - 여성 요인'] = test['불임 원인 - 자궁경부 문제'] + test['불임 원인 - 자궁내막증'] + test['불임 원인 - 배란 장애'] + test['불임 원인 - 난관 질환']\n",
    "\n",
    "train['남성 불임 원인'] = train['남성 주 불임 원인'] + train['남성 부 불임 원인']\n",
    "test['남성 불임 원인'] = test['남성 주 불임 원인'] + test['남성 부 불임 원인']\n",
    "train['여성 불임 원인'] = train['여성 주 불임 원인'] + train['여성 부 불임 원인']\n",
    "test['여성 불임 원인'] = test['여성 주 불임 원인'] + test['여성 부 불임 원인']\n",
    "train['부부 불임 원인'] = train['부부 주 불임 원인'] + train['부부 부 불임 원인']\n",
    "test['부부 불임 원인'] = test['부부 주 불임 원인'] + test['부부 부 불임 원인']\n",
    "\n",
    "\n",
    "drop_columns3 = ['불임 원인 - 정자 면역학적 요인', '불임 원인 - 정자 운동성', '불임 원인 - 정자 형태', '불임 원인 - 자궁경부 문제',\n",
    "                 '남성 주 불임 원인', '남성 부 불임 원인', '여성 주 불임 원인', '여성 부 불임 원인',\n",
    "                 '부부 주 불임 원인', '부부 부 불임 원인']\n",
    "train.drop(columns=drop_columns3, inplace=True)\n",
    "test.drop(columns=drop_columns3, inplace=True)"
   ]
  },
  {
   "cell_type": "code",
   "execution_count": 14,
   "metadata": {},
   "outputs": [
    {
     "ename": "KeyError",
     "evalue": "\"['임신 시도 또는 마지막 임신 경과 연수'] not found in axis\"",
     "output_type": "error",
     "traceback": [
      "\u001b[0;31m---------------------------------------------------------------------------\u001b[0m",
      "\u001b[0;31mKeyError\u001b[0m                                  Traceback (most recent call last)",
      "Cell \u001b[0;32mIn[14], line 1\u001b[0m\n\u001b[0;32m----> 1\u001b[0m \u001b[43mtrain\u001b[49m\u001b[38;5;241;43m.\u001b[39;49m\u001b[43mdrop\u001b[49m\u001b[43m(\u001b[49m\u001b[43mcolumns\u001b[49m\u001b[43m \u001b[49m\u001b[38;5;241;43m=\u001b[39;49m\u001b[43m[\u001b[49m\u001b[38;5;124;43m'\u001b[39;49m\u001b[38;5;124;43m임신 시도 또는 마지막 임신 경과 연수\u001b[39;49m\u001b[38;5;124;43m'\u001b[39;49m\u001b[43m]\u001b[49m\u001b[43m,\u001b[49m\u001b[43minplace\u001b[49m\u001b[43m \u001b[49m\u001b[38;5;241;43m=\u001b[39;49m\u001b[43m \u001b[49m\u001b[38;5;28;43;01mTrue\u001b[39;49;00m\u001b[43m \u001b[49m\u001b[43m)\u001b[49m\n\u001b[1;32m      2\u001b[0m test\u001b[38;5;241m.\u001b[39mdrop(columns \u001b[38;5;241m=\u001b[39m[\u001b[38;5;124m'\u001b[39m\u001b[38;5;124m임신 시도 또는 마지막 임신 경과 연수\u001b[39m\u001b[38;5;124m'\u001b[39m],inplace \u001b[38;5;241m=\u001b[39m \u001b[38;5;28;01mTrue\u001b[39;00m )\n",
      "File \u001b[0;32m~/Library/Python/3.9/lib/python/site-packages/pandas/core/frame.py:5581\u001b[0m, in \u001b[0;36mDataFrame.drop\u001b[0;34m(self, labels, axis, index, columns, level, inplace, errors)\u001b[0m\n\u001b[1;32m   5433\u001b[0m \u001b[38;5;28;01mdef\u001b[39;00m\u001b[38;5;250m \u001b[39m\u001b[38;5;21mdrop\u001b[39m(\n\u001b[1;32m   5434\u001b[0m     \u001b[38;5;28mself\u001b[39m,\n\u001b[1;32m   5435\u001b[0m     labels: IndexLabel \u001b[38;5;241m|\u001b[39m \u001b[38;5;28;01mNone\u001b[39;00m \u001b[38;5;241m=\u001b[39m \u001b[38;5;28;01mNone\u001b[39;00m,\n\u001b[0;32m   (...)\u001b[0m\n\u001b[1;32m   5442\u001b[0m     errors: IgnoreRaise \u001b[38;5;241m=\u001b[39m \u001b[38;5;124m\"\u001b[39m\u001b[38;5;124mraise\u001b[39m\u001b[38;5;124m\"\u001b[39m,\n\u001b[1;32m   5443\u001b[0m ) \u001b[38;5;241m-\u001b[39m\u001b[38;5;241m>\u001b[39m DataFrame \u001b[38;5;241m|\u001b[39m \u001b[38;5;28;01mNone\u001b[39;00m:\n\u001b[1;32m   5444\u001b[0m \u001b[38;5;250m    \u001b[39m\u001b[38;5;124;03m\"\"\"\u001b[39;00m\n\u001b[1;32m   5445\u001b[0m \u001b[38;5;124;03m    Drop specified labels from rows or columns.\u001b[39;00m\n\u001b[1;32m   5446\u001b[0m \n\u001b[0;32m   (...)\u001b[0m\n\u001b[1;32m   5579\u001b[0m \u001b[38;5;124;03m            weight  1.0     0.8\u001b[39;00m\n\u001b[1;32m   5580\u001b[0m \u001b[38;5;124;03m    \"\"\"\u001b[39;00m\n\u001b[0;32m-> 5581\u001b[0m     \u001b[38;5;28;01mreturn\u001b[39;00m \u001b[38;5;28;43msuper\u001b[39;49m\u001b[43m(\u001b[49m\u001b[43m)\u001b[49m\u001b[38;5;241;43m.\u001b[39;49m\u001b[43mdrop\u001b[49m\u001b[43m(\u001b[49m\n\u001b[1;32m   5582\u001b[0m \u001b[43m        \u001b[49m\u001b[43mlabels\u001b[49m\u001b[38;5;241;43m=\u001b[39;49m\u001b[43mlabels\u001b[49m\u001b[43m,\u001b[49m\n\u001b[1;32m   5583\u001b[0m \u001b[43m        \u001b[49m\u001b[43maxis\u001b[49m\u001b[38;5;241;43m=\u001b[39;49m\u001b[43maxis\u001b[49m\u001b[43m,\u001b[49m\n\u001b[1;32m   5584\u001b[0m \u001b[43m        \u001b[49m\u001b[43mindex\u001b[49m\u001b[38;5;241;43m=\u001b[39;49m\u001b[43mindex\u001b[49m\u001b[43m,\u001b[49m\n\u001b[1;32m   5585\u001b[0m \u001b[43m        \u001b[49m\u001b[43mcolumns\u001b[49m\u001b[38;5;241;43m=\u001b[39;49m\u001b[43mcolumns\u001b[49m\u001b[43m,\u001b[49m\n\u001b[1;32m   5586\u001b[0m \u001b[43m        \u001b[49m\u001b[43mlevel\u001b[49m\u001b[38;5;241;43m=\u001b[39;49m\u001b[43mlevel\u001b[49m\u001b[43m,\u001b[49m\n\u001b[1;32m   5587\u001b[0m \u001b[43m        \u001b[49m\u001b[43minplace\u001b[49m\u001b[38;5;241;43m=\u001b[39;49m\u001b[43minplace\u001b[49m\u001b[43m,\u001b[49m\n\u001b[1;32m   5588\u001b[0m \u001b[43m        \u001b[49m\u001b[43merrors\u001b[49m\u001b[38;5;241;43m=\u001b[39;49m\u001b[43merrors\u001b[49m\u001b[43m,\u001b[49m\n\u001b[1;32m   5589\u001b[0m \u001b[43m    \u001b[49m\u001b[43m)\u001b[49m\n",
      "File \u001b[0;32m~/Library/Python/3.9/lib/python/site-packages/pandas/core/generic.py:4788\u001b[0m, in \u001b[0;36mNDFrame.drop\u001b[0;34m(self, labels, axis, index, columns, level, inplace, errors)\u001b[0m\n\u001b[1;32m   4786\u001b[0m \u001b[38;5;28;01mfor\u001b[39;00m axis, labels \u001b[38;5;129;01min\u001b[39;00m axes\u001b[38;5;241m.\u001b[39mitems():\n\u001b[1;32m   4787\u001b[0m     \u001b[38;5;28;01mif\u001b[39;00m labels \u001b[38;5;129;01mis\u001b[39;00m \u001b[38;5;129;01mnot\u001b[39;00m \u001b[38;5;28;01mNone\u001b[39;00m:\n\u001b[0;32m-> 4788\u001b[0m         obj \u001b[38;5;241m=\u001b[39m \u001b[43mobj\u001b[49m\u001b[38;5;241;43m.\u001b[39;49m\u001b[43m_drop_axis\u001b[49m\u001b[43m(\u001b[49m\u001b[43mlabels\u001b[49m\u001b[43m,\u001b[49m\u001b[43m \u001b[49m\u001b[43maxis\u001b[49m\u001b[43m,\u001b[49m\u001b[43m \u001b[49m\u001b[43mlevel\u001b[49m\u001b[38;5;241;43m=\u001b[39;49m\u001b[43mlevel\u001b[49m\u001b[43m,\u001b[49m\u001b[43m \u001b[49m\u001b[43merrors\u001b[49m\u001b[38;5;241;43m=\u001b[39;49m\u001b[43merrors\u001b[49m\u001b[43m)\u001b[49m\n\u001b[1;32m   4790\u001b[0m \u001b[38;5;28;01mif\u001b[39;00m inplace:\n\u001b[1;32m   4791\u001b[0m     \u001b[38;5;28mself\u001b[39m\u001b[38;5;241m.\u001b[39m_update_inplace(obj)\n",
      "File \u001b[0;32m~/Library/Python/3.9/lib/python/site-packages/pandas/core/generic.py:4830\u001b[0m, in \u001b[0;36mNDFrame._drop_axis\u001b[0;34m(self, labels, axis, level, errors, only_slice)\u001b[0m\n\u001b[1;32m   4828\u001b[0m         new_axis \u001b[38;5;241m=\u001b[39m axis\u001b[38;5;241m.\u001b[39mdrop(labels, level\u001b[38;5;241m=\u001b[39mlevel, errors\u001b[38;5;241m=\u001b[39merrors)\n\u001b[1;32m   4829\u001b[0m     \u001b[38;5;28;01melse\u001b[39;00m:\n\u001b[0;32m-> 4830\u001b[0m         new_axis \u001b[38;5;241m=\u001b[39m \u001b[43maxis\u001b[49m\u001b[38;5;241;43m.\u001b[39;49m\u001b[43mdrop\u001b[49m\u001b[43m(\u001b[49m\u001b[43mlabels\u001b[49m\u001b[43m,\u001b[49m\u001b[43m \u001b[49m\u001b[43merrors\u001b[49m\u001b[38;5;241;43m=\u001b[39;49m\u001b[43merrors\u001b[49m\u001b[43m)\u001b[49m\n\u001b[1;32m   4831\u001b[0m     indexer \u001b[38;5;241m=\u001b[39m axis\u001b[38;5;241m.\u001b[39mget_indexer(new_axis)\n\u001b[1;32m   4833\u001b[0m \u001b[38;5;66;03m# Case for non-unique axis\u001b[39;00m\n\u001b[1;32m   4834\u001b[0m \u001b[38;5;28;01melse\u001b[39;00m:\n",
      "File \u001b[0;32m~/Library/Python/3.9/lib/python/site-packages/pandas/core/indexes/base.py:7070\u001b[0m, in \u001b[0;36mIndex.drop\u001b[0;34m(self, labels, errors)\u001b[0m\n\u001b[1;32m   7068\u001b[0m \u001b[38;5;28;01mif\u001b[39;00m mask\u001b[38;5;241m.\u001b[39many():\n\u001b[1;32m   7069\u001b[0m     \u001b[38;5;28;01mif\u001b[39;00m errors \u001b[38;5;241m!=\u001b[39m \u001b[38;5;124m\"\u001b[39m\u001b[38;5;124mignore\u001b[39m\u001b[38;5;124m\"\u001b[39m:\n\u001b[0;32m-> 7070\u001b[0m         \u001b[38;5;28;01mraise\u001b[39;00m \u001b[38;5;167;01mKeyError\u001b[39;00m(\u001b[38;5;124mf\u001b[39m\u001b[38;5;124m\"\u001b[39m\u001b[38;5;132;01m{\u001b[39;00mlabels[mask]\u001b[38;5;241m.\u001b[39mtolist()\u001b[38;5;132;01m}\u001b[39;00m\u001b[38;5;124m not found in axis\u001b[39m\u001b[38;5;124m\"\u001b[39m)\n\u001b[1;32m   7071\u001b[0m     indexer \u001b[38;5;241m=\u001b[39m indexer[\u001b[38;5;241m~\u001b[39mmask]\n\u001b[1;32m   7072\u001b[0m \u001b[38;5;28;01mreturn\u001b[39;00m \u001b[38;5;28mself\u001b[39m\u001b[38;5;241m.\u001b[39mdelete(indexer)\n",
      "\u001b[0;31mKeyError\u001b[0m: \"['임신 시도 또는 마지막 임신 경과 연수'] not found in axis\""
     ]
    }
   ],
   "source": [
    "train.drop(columns =['임신 시도 또는 마지막 임신 경과 연수'],inplace = True )\n",
    "test.drop(columns =['임신 시도 또는 마지막 임신 경과 연수'],inplace = True )"
   ]
  },
  {
   "cell_type": "code",
   "execution_count": null,
   "metadata": {
    "colab": {
     "base_uri": "https://localhost:8080/"
    },
    "id": "kjEBmjSkbL5j",
    "outputId": "b3db516d-031e-42fc-89bb-a3218d8bd879"
   },
   "outputs": [
    {
     "data": {
      "text/plain": [
       "Index(['시술 시기 코드', '시술 당시 나이', '시술 유형', '특정 시술 유형', '배란 자극 여부', '단일 배아 이식 여부',\n",
       "       '착상 전 유전 검사 사용 여부', '착상 전 유전 진단 사용 여부', '불명확 불임 원인', '불임 원인 - 난관 질환',\n",
       "       '불임 원인 - 남성 요인', '불임 원인 - 배란 장애', '불임 원인 - 자궁내막증', '불임 원인 - 정자 농도',\n",
       "       '배아 생성 주요 이유', '총 시술 횟수', '클리닉 내 총 시술 횟수', 'IVF 시술 횟수', 'DI 시술 횟수',\n",
       "       '총 임신 횟수', 'IVF 임신 횟수', 'DI 임신 횟수', '총 출산 횟수', 'IVF 출산 횟수', 'DI 출산 횟수',\n",
       "       '총 생성 배아 수', '미세주입된 난자 수', '미세주입에서 생성된 배아 수', '이식된 배아 수',\n",
       "       '미세주입 배아 이식 수', '저장된 배아 수', '미세주입 후 저장된 배아 수', '해동된 배아 수', '해동 난자 수',\n",
       "       '수집된 신선 난자 수', '저장된 신선 난자 수', '혼합된 난자 수', '파트너 정자와 혼합된 난자 수',\n",
       "       '기증자 정자와 혼합된 난자 수', '난자 출처', '정자 출처', '난자 기증자 나이', '정자 기증자 나이',\n",
       "       '동결 배아 사용 여부', '신선 배아 사용 여부', '기증 배아 사용 여부', '대리모 여부', 'PGD 시술 여부',\n",
       "       'PGS 시술 여부', '난자 혼합 경과일', '배아 이식 경과일', '배아 해동 경과일', '임신 성공 여부',\n",
       "       '임신시도_bin', '총_생성_배아_bin', '불임 원인 - 정자 요인', '불임 원인 - 여성 요인', '남성 불임 원인',\n",
       "       '여성 불임 원인', '부부 불임 원인'],\n",
       "      dtype='object')"
      ]
     },
     "execution_count": 15,
     "metadata": {},
     "output_type": "execute_result"
    }
   ],
   "source": [
    "train.columns"
   ]
  },
  {
   "cell_type": "code",
   "execution_count": 15,
   "metadata": {
    "id": "64dAkKrBayFA"
   },
   "outputs": [],
   "source": [
    "# categorical_columns = [\"시술 시기 코드\",\"시술 당시 나이\", \"시술 유형\", \"특정 시술 유형\",\"배란 자극 여부\",\n",
    "                      #  \"단일 배아 이식 여부\",\"착상 전 유전 진단 사용 여부\",\n",
    "                      #  \"남성 주 불임 원인\",\"남성 부 불임 원인\",\"여성 주 불임 원인\",\"여성 부 불임 원인\",\n",
    "                      #  \"부부 주 불임 원인\",\"부부 부 불임 원인\",\"불명확 불임 원인\",\"불임 원인 - 난관 질환\",\n",
    "                      #  \"불임 원인 - 남성 요인\",\"불임 원인 - 배란 장애\",\"불임 원인 - 자궁경부 문제\",\"불임 원인 - 자궁내막증\",\n",
    "                      #  \"불임 원인 - 정자 농도\",\"불임 원인 - 정자 면역학적 요인\",\"불임 원인 - 정자 운동성\",\"불임 원인 - 정자 형태\",\n",
    "                      #  \"배아 생성 주요 이유\",\"총 시술 횟수\",\"클리닉 내 총 시술 횟수\",\"IVF 시술 횟수\",\"DI 시술 횟수\",\n",
    "                      #  \"총 임신 횟수\",\"IVF 임신 횟수\",\"DI 임신 횟수\",\"총 출산 횟수\",\"IVF 출산 횟수\",\"DI 출산 횟수\",\n",
    "                      #  \"난자 출처\",\"정자 출처\",\"난자 기증자 나이\",\"정자 기증자 나이\",\n",
    "                      #  \"동결 배아 사용 여부\",\"신선 배아 사용 여부\",\"기증 배아 사용 여부\",\"대리모 여부\"]\n",
    "categorical_columns =  [\"시술 시기 코드\",\"시술 당시 나이\",\"시술 유형\", \"특정 시술 유형\",\n",
    "                        \"배란 자극 여부\", \"단일 배아 이식 여부\", '착상 전 유전 검사 사용 여부',\"착상 전 유전 진단 사용 여부\",\n",
    "                       \"불명확 불임 원인\",\"배아 생성 주요 이유\",\n",
    "                        \"불임 원인 - 난관 질환\",\"불임 원인 - 남성 요인\",\"불임 원인 - 배란 장애\",\n",
    "                        \"불임 원인 - 자궁내막증\",'불임 원인 - 정자 농도',\"난자 출처\",\"정자 출처\",\"난자 기증자 나이\",\"정자 기증자 나이\",\n",
    "                       \"동결 배아 사용 여부\",\"신선 배아 사용 여부\", '기증 배아 사용 여부',\"대리모 여부\",\n",
    "                        'PGD 시술 여부', '총_생성_배아_bin','PGS 시술 여부', '불임 원인 - 정자 요인', '불임 원인 - 여성 요인',  '남성 불임 원인', '여성 불임 원인', '부부 불임 원인',\"임신시도_bin\"] #\n",
    "# \"남성 주 불임 원인\",\"남성 부 불임 원인\",\"여성 주 불임 원인\",\"여성 부 불임 원인\",\n",
    "#                       \"부부 주 불임 원인\",\"부부 부 불임 원인\",\n",
    "\n",
    "for col in categorical_columns:\n",
    "    if train[col].isna().sum() > 0 or test[col].isna().sum() > 0 :\n",
    "\n",
    "      mode_value = train[col].mode()[0]\n",
    "      train[col].fillna(mode_value, inplace=True)  # 최빈값으로 대체\n",
    "      test[col].fillna(mode_value, inplace = True)\n",
    "    train[col] = train[col].astype(str)\n",
    "    test[col] = test[col].astype(str)\n",
    "    #encoder = ce.OrdinalEncoder(handle_unknown='impute')\n",
    "    #encoder.fit(train[col])\n",
    "    #train[col] = encoder.transform(train[col])\n",
    "    #test[col] = encoder.transform(test[col])\n",
    "\n",
    "numeric_columns = [\"총 생성 배아 수\", \"총 시술 횟수\",\"클리닉 내 총 시술 횟수\",\"IVF 시술 횟수\",\"DI 시술 횟수\",\n",
    "                   \"총 임신 횟수\",\"IVF 임신 횟수\",\"DI 임신 횟수\",\"총 출산 횟수\",\"IVF 출산 횟수\",\"DI 출산 횟수\",\n",
    "                    '미세주입된 난자 수', '미세주입에서 생성된 배아 수', '이식된 배아 수', '미세주입 배아 이식 수', '저장된 배아 수',\n",
    "       '미세주입 후 저장된 배아 수', '해동된 배아 수', '해동 난자 수', '수집된 신선 난자 수', '저장된 신선 난자 수',\n",
    "       '혼합된 난자 수', '파트너 정자와 혼합된 난자 수', '기증자 정자와 혼합된 난자 수', '난자 혼합 경과일', '배아 이식 경과일', '배아 해동 경과일'] #\n",
    "\n",
    "# numeric_columns = [\"총 생성 배아 수\",\"미세주입된 난자 수\",\"미세주입에서 생성된 배아 수\",\n",
    "#                    \"이식된 배아 수\",\"미세주입 배아 이식 수\",\"저장된 배아 수\",\"미세주입 후 저장된 배아 수\",\n",
    "#                    \"수집된 신선 난자 수\",\"혼합된 난자 수\",\"파트너 정자와 혼합된 난자 수\",\n",
    "#                    \"기증자 정자와 혼합된 난자 수\",\"배아 이식 경과일\"]\n",
    "\n",
    "for col in numeric_columns:\n",
    "  if train[col].isna().sum():\n",
    "    if train[col].isna().sum() >= len(train)*0.5: # 결측치가 절반이 넘어갈 경우\n",
    "      train[col].fillna(-1, inplace=True)  # -1로 대체\n",
    "      test[col].fillna(-1, inplace = True)\n",
    "    else:\n",
    "      mode_value = train[col].mode()[0]  # 최빈값 구하기\n",
    "      train[col].fillna(mode_value, inplace=True)  # 최빈값으로 대체\n",
    "      test[col].fillna(mode_value, inplace = True)\n"
   ]
  },
  {
   "cell_type": "code",
   "execution_count": 16,
   "metadata": {
    "colab": {
     "base_uri": "https://localhost:8080/"
    },
    "id": "rrQrzq0H_QfV",
    "outputId": "255208d3-85ca-4d21-d9d0-eb8dccc27e6d"
   },
   "outputs": [
    {
     "data": {
      "text/plain": [
       "59"
      ]
     },
     "execution_count": 16,
     "metadata": {},
     "output_type": "execute_result"
    }
   ],
   "source": [
    "len(categorical_columns) + len(numeric_columns)"
   ]
  },
  {
   "cell_type": "code",
   "execution_count": 17,
   "metadata": {
    "id": "CI8IOlCFVXGY"
   },
   "outputs": [],
   "source": [
    "def make_feature(df):\n",
    "  #df['연령 가중치'] = df['시술 당시 나이'].map(age_weight_dict)\n",
    "\n",
    "  #df['난자 활용률'] = df['미세주입된 난자 수'] / (df['수집된 신선 난자 수'] + df['해동 난자 수'] + 1)\n",
    "  df['미세주입 배아 생성률'] = (df['미세주입에서 생성된 배아 수']) / (df['미세주입된 난자 수'] + 1)\n",
    "  df['미세주입 배아 이식률'] = (df['미세주입 배아 이식 수']) / (df['미세주입에서 생성된 배아 수'] + 1)\n",
    "  df['배아 이식률'] = (df['이식된 배아 수']) / (df['총 생성 배아 수'] + 1)\n",
    "  df['저장 배아 비율'] = (df['저장된 배아 수'])/ (df['총 생성 배아 수'] + 1)\n",
    "  df['해동 배아 생존율'] = (df['해동된 배아 수'])/ (df['총 생성 배아 수'] + 1)\n",
    "  df['파트너 정자 혼합 비율'] = (df['파트너 정자와 혼합된 난자 수']) / (df['혼합된 난자 수'] + 1)\n",
    "\n",
    "  # df['저장 배아 비율2'] = (df['저장된 배아 수'])/ (df['이식된 배아 수'] + 1)\n",
    "  # df['해동 배아 생존율2'] = (df['해동된 배아 수'])/ (df['이식된 배아 수'] + 1)\n",
    "  # df['미세주입 배아 이식 비율'] = df['미세주입 배아 이식 수'] / (df['이식된 배아 수'] + 1)\n",
    "  #df['나이보정 배아 이식 수'] = df['이식된 배아 수']*df['연령 가중치']\n",
    "\n",
    "  df['임신 성공률'] = (df['총 임신 횟수']) / (df['총 시술 횟수'] + 1)\n",
    "  #df['IVF 시술 성공률'] = (df['IVF 임신 횟수'])/ (df['IVF 시술 횟수'] + 1)\n",
    "  #df['DI 시술 성공률'] = (df['DI 임신 횟수']) / (df['DI 시술 횟수'] + 1)\n",
    "  df['출산율'] = df['총 출산 횟수'] / (df['총 임신 횟수'] + 1)\n",
    "  #df['IVF 출산율'] = df['IVF 출산 횟수'] / (df['IVF 임신 횟수'] + 1)\n",
    "  #df['DI 출산율'] = df['DI 출산 횟수'] / (df['DI 임신 횟수'] + 1)\n",
    "  #df['시술 기준 출산 성공률'] = df['총 출산 횟수'] / (df['총 시술 횟수'] + 1)\n",
    "\n",
    "  #df = df.drop(columns = ['연령 가중치'])\n",
    "\n",
    "  return df"
   ]
  },
  {
   "cell_type": "code",
   "execution_count": 18,
   "metadata": {
    "colab": {
     "base_uri": "https://localhost:8080/"
    },
    "id": "_VNPbGSR4h_I",
    "outputId": "44e7b9c5-1948-417e-b02a-64267fb91fae"
   },
   "outputs": [
    {
     "data": {
      "text/plain": [
       "((256351, 67), (90067, 67))"
      ]
     },
     "execution_count": 18,
     "metadata": {},
     "output_type": "execute_result"
    }
   ],
   "source": [
    "X = train.drop('임신 성공 여부', axis=1)\n",
    "y = train['임신 성공 여부']\n",
    "\n",
    "X = make_feature(X)\n",
    "test = make_feature(test)\n",
    "\n",
    "X.shape, test.shape"
   ]
  },
  {
   "cell_type": "code",
   "execution_count": 19,
   "metadata": {},
   "outputs": [
    {
     "data": {
      "text/plain": [
       "((256351, 67), (90067, 67))"
      ]
     },
     "execution_count": 19,
     "metadata": {},
     "output_type": "execute_result"
    }
   ],
   "source": [
    "from sklearn.preprocessing import StandardScaler\n",
    "scaler = StandardScaler()\n",
    "# 수치형 변수(정수, 실수)를 선택하여 스케일링\n",
    "numeric_cols = X.select_dtypes(include=['int64', 'float64']).columns\n",
    "X[numeric_cols] = scaler.fit_transform(X[numeric_cols])\n",
    "test[numeric_cols] = scaler.transform(test[numeric_cols])\n",
    "\n",
    "X.shape, test.shape"
   ]
  },
  {
   "cell_type": "code",
   "execution_count": 20,
   "metadata": {
    "colab": {
     "base_uri": "https://localhost:8080/",
     "height": 178
    },
    "id": "1WNQj2e8ukWK",
    "outputId": "039cab20-93c0-4ab4-f8a6-8098c62dc87f"
   },
   "outputs": [
    {
     "data": {
      "text/plain": [
       "임신 성공 여부\n",
       "0    190123\n",
       "1     66228\n",
       "Name: count, dtype: int64"
      ]
     },
     "execution_count": 20,
     "metadata": {},
     "output_type": "execute_result"
    }
   ],
   "source": [
    "y.value_counts()"
   ]
  },
  {
   "cell_type": "code",
   "execution_count": 21,
   "metadata": {},
   "outputs": [],
   "source": [
    "if not os.path.exists('./weight'):\n",
    "    os.makedirs('./weight')"
   ]
  },
  {
   "cell_type": "code",
   "execution_count": 22,
   "metadata": {
    "id": "nsRZfmFixgqm"
   },
   "outputs": [],
   "source": [
    "from sklearn.utils.class_weight import compute_class_weight\n",
    "def objective_cat(trial):\n",
    "    global best_val_auc\n",
    "    cbrm_param = {\n",
    "        'iterations':trial.suggest_int(\"iterations\", 1500, 3000),\n",
    "        'depth':trial.suggest_int(\"depth\", 4, 10),\n",
    "        'learning_rate' : trial.suggest_float('learning_rate',0.005, 0.1),\n",
    "        'l2_leaf_reg': trial.suggest_float(\"l2_leaf_reg\", 1e-4, 100.0, log=True),\n",
    "        'early_stopping_rounds': 300\n",
    "    }\n",
    "\n",
    "    # Generate model\n",
    "    model_cat = CatBoostClassifier(**cbrm_param, auto_class_weights='Balanced', eval_metric='AUC', random_state=seed)\n",
    "    model_cat.fit(X_train,\n",
    "          y_train,\n",
    "          cat_features=categorical_columns,\n",
    "          early_stopping_rounds= 300,\n",
    "          eval_set=[(X_val,y_val)],\n",
    "          verbose = 300)\n",
    "    \n",
    "    val_auc = model_cat.get_best_score()[\"validation\"][\"AUC\"]\n",
    "    best_model_path = \"./weight/cat_fold_cpu{}.cbm\".format(idx)\n",
    "    if val_auc > best_val_auc:\n",
    "        best_val_auc = val_auc\n",
    "        model_cat.save_model(best_model_path)\n",
    "        print('저장 완료')\n",
    "\n",
    "    return val_auc\n",
    "\n",
    "def objective_lgbm(trial):\n",
    "\n",
    "    lgbm_params = {\n",
    "         #'num_leaves': trial.suggest_int('num_leaves', 2, 1024, step=1),\n",
    "         #'max_depth': trial.suggest_int('max_depth', 3, 18, step=1),\n",
    "          \"num_iterations\": trial.suggest_int(\"num_iterations\", 1500, 3000),\n",
    "        \"objective\":  trial.suggest_categorical(\"objective\", [\"binary\"]),\n",
    "         \"metric\":  trial.suggest_categorical(\"metric\", [\"auc\"]),\n",
    "        #  \"random_state\":  trial.suggest_int('random_state', 42, 42),\n",
    "        \"random_state\": seed,\n",
    "        \"verbose\":  trial.suggest_int('verbose', -1, -1),\n",
    "        'learning_rate': trial.suggest_float('learning_rate', 0.005, 0.1, log=True),\n",
    "        'n_estimators': trial.suggest_int('n_estimators', 100, 2000),\n",
    "        'min_child_samples': trial.suggest_int('min_child_samples', 10, 50, step=5),\n",
    "        'subsample': trial.suggest_float('subsample', 0.5, 1.0, step=0.1),\n",
    "        'colsample_bytree': trial.suggest_float('colsample_bytree', 0.5, 1.0, step=0.1),\n",
    "    }\n",
    "\n",
    "    # Generate model\n",
    "\n",
    "    class_weights = compute_class_weight(class_weight=\"balanced\", classes=np.unique(y), y=y_train)\n",
    "    class_weight_dict = {i: w for i, w in enumerate(class_weights)}\n",
    "\n",
    "    model_lgbm = lgb.LGBMClassifier(**lgbm_params, class_weight=class_weight_dict)\n",
    "\n",
    "    model_lgbm.fit(X_train, y_train,eval_set=[(X_val, y_val)],categorical_feature=categorical_columns)\n",
    "\n",
    "    return model_lgbm.best_score_['valid_0']['auc']"
   ]
  },
  {
   "cell_type": "code",
   "execution_count": 23,
   "metadata": {
    "colab": {
     "base_uri": "https://localhost:8080/"
    },
    "id": "NsuYwQX28LzT",
    "outputId": "392153b7-08f0-4feb-9a83-6016732f894c",
    "scrolled": true,
    "tags": []
   },
   "outputs": [
    {
     "name": "stderr",
     "output_type": "stream",
     "text": [
      "[I 2025-02-23 06:28:30,990] A new study created in memory with name: no-name-d52b7d42-a62b-49ff-acce-2e42e36f6068\n"
     ]
    },
    {
     "name": "stdout",
     "output_type": "stream",
     "text": [
      "Seed 4972 Start!\n",
      "==================================================\n",
      "0:\ttest: 0.7161758\tbest: 0.7161758 (0)\ttotal: 179ms\tremaining: 7m 2s\n",
      "300:\ttest: 0.7387540\tbest: 0.7387540 (300)\ttotal: 37.3s\tremaining: 4m 15s\n",
      "600:\ttest: 0.7400686\tbest: 0.7400728 (589)\ttotal: 1m 16s\tremaining: 3m 43s\n",
      "900:\ttest: 0.7406008\tbest: 0.7406119 (892)\ttotal: 1m 55s\tremaining: 3m 7s\n",
      "1200:\ttest: 0.7407464\tbest: 0.7407542 (1190)\ttotal: 2m 37s\tremaining: 2m 33s\n",
      "1500:\ttest: 0.7408787\tbest: 0.7408936 (1467)\ttotal: 3m 27s\tremaining: 1m 59s\n",
      "1800:\ttest: 0.7409551\tbest: 0.7410085 (1708)\ttotal: 4m 16s\tremaining: 1m 20s\n"
     ]
    },
    {
     "name": "stderr",
     "output_type": "stream",
     "text": [
      "[I 2025-02-23 06:33:21,766] Trial 0 finished with value: 0.7410084705745688 and parameters: {'iterations': 2366, 'depth': 10, 'learning_rate': 0.01181021951839225, 'l2_leaf_reg': 9.980783802743254}. Best is trial 0 with value: 0.7410084705745688.\n"
     ]
    },
    {
     "name": "stdout",
     "output_type": "stream",
     "text": [
      "Stopped by overfitting detector  (300 iterations wait)\n",
      "\n",
      "bestTest = 0.7410084706\n",
      "bestIteration = 1708\n",
      "\n",
      "Shrink model to first 1709 iterations.\n",
      "저장 완료\n",
      "0:\ttest: 0.6946616\tbest: 0.6946616 (0)\ttotal: 51.8ms\tremaining: 1m 53s\n"
     ]
    },
    {
     "name": "stderr",
     "output_type": "stream",
     "text": [
      "Training has stopped (degenerate solution on iteration 232, probably too small l2-regularization, try to increase it)\n",
      "[I 2025-02-23 06:33:31,712] Trial 1 finished with value: 0.7282318075732872 and parameters: {'iterations': 2193, 'depth': 4, 'learning_rate': 0.005671430811678843, 'l2_leaf_reg': 0.00012325230809466137}. Best is trial 0 with value: 0.7410084705745688.\n"
     ]
    },
    {
     "name": "stdout",
     "output_type": "stream",
     "text": [
      "\n",
      "bestTest = 0.7282318076\n",
      "bestIteration = 231\n",
      "\n",
      "Shrink model to first 232 iterations.\n",
      "0:\ttest: 0.6946616\tbest: 0.6946616 (0)\ttotal: 46.6ms\tremaining: 1m 58s\n",
      "300:\ttest: 0.7408920\tbest: 0.7408920 (300)\ttotal: 14.2s\tremaining: 1m 45s\n",
      "600:\ttest: 0.7400776\tbest: 0.7409930 (315)\ttotal: 29s\tremaining: 1m 33s\n"
     ]
    },
    {
     "name": "stderr",
     "output_type": "stream",
     "text": [
      "[I 2025-02-23 06:34:01,581] Trial 2 finished with value: 0.7409929968448441 and parameters: {'iterations': 2535, 'depth': 4, 'learning_rate': 0.09275339199839054, 'l2_leaf_reg': 0.0008705394248343123}. Best is trial 0 with value: 0.7410084705745688.\n"
     ]
    },
    {
     "name": "stdout",
     "output_type": "stream",
     "text": [
      "Stopped by overfitting detector  (300 iterations wait)\n",
      "\n",
      "bestTest = 0.7409929968\n",
      "bestIteration = 315\n",
      "\n",
      "Shrink model to first 316 iterations.\n",
      "0:\ttest: 0.6946616\tbest: 0.6946616 (0)\ttotal: 47.5ms\tremaining: 1m 50s\n",
      "300:\ttest: 0.7391779\tbest: 0.7391779 (300)\ttotal: 13.6s\tremaining: 1m 32s\n",
      "600:\ttest: 0.7402539\tbest: 0.7402637 (597)\ttotal: 28.3s\tremaining: 1m 21s\n",
      "900:\ttest: 0.7402192\tbest: 0.7404415 (803)\ttotal: 43.1s\tremaining: 1m 8s\n"
     ]
    },
    {
     "name": "stderr",
     "output_type": "stream",
     "text": [
      "[I 2025-02-23 06:34:54,882] Trial 3 finished with value: 0.7404415412298581 and parameters: {'iterations': 2334, 'depth': 4, 'learning_rate': 0.04657568321363276, 'l2_leaf_reg': 0.0008640473331457248}. Best is trial 0 with value: 0.7410084705745688.\n"
     ]
    },
    {
     "name": "stdout",
     "output_type": "stream",
     "text": [
      "Stopped by overfitting detector  (300 iterations wait)\n",
      "\n",
      "bestTest = 0.7404415412\n",
      "bestIteration = 803\n",
      "\n",
      "Shrink model to first 804 iterations.\n",
      "0:\ttest: 0.7228048\tbest: 0.7228048 (0)\ttotal: 106ms\tremaining: 3m 5s\n",
      "300:\ttest: 0.7381428\tbest: 0.7381428 (300)\ttotal: 37.5s\tremaining: 2m 59s\n",
      "600:\ttest: 0.7389412\tbest: 0.7389631 (597)\ttotal: 1m 16s\tremaining: 2m 25s\n",
      "900:\ttest: 0.7388022\tbest: 0.7390259 (786)\ttotal: 1m 55s\tremaining: 1m 47s\n"
     ]
    },
    {
     "name": "stderr",
     "output_type": "stream",
     "text": [
      "[I 2025-02-23 06:37:17,065] Trial 4 finished with value: 0.7390258795965623 and parameters: {'iterations': 1742, 'depth': 10, 'learning_rate': 0.012622767482095846, 'l2_leaf_reg': 0.00021158816350109617}. Best is trial 0 with value: 0.7410084705745688.\n"
     ]
    },
    {
     "name": "stdout",
     "output_type": "stream",
     "text": [
      "Stopped by overfitting detector  (300 iterations wait)\n",
      "\n",
      "bestTest = 0.7390258796\n",
      "bestIteration = 786\n",
      "\n",
      "Shrink model to first 787 iterations.\n",
      "0:\ttest: 0.6946616\tbest: 0.6946616 (0)\ttotal: 47.8ms\tremaining: 1m 39s\n",
      "300:\ttest: 0.7404055\tbest: 0.7404070 (299)\ttotal: 13.9s\tremaining: 1m 22s\n",
      "600:\ttest: 0.7406651\tbest: 0.7408965 (394)\ttotal: 28.7s\tremaining: 1m 10s\n"
     ]
    },
    {
     "name": "stderr",
     "output_type": "stream",
     "text": [
      "[I 2025-02-23 06:37:50,653] Trial 5 finished with value: 0.7408965371794098 and parameters: {'iterations': 2082, 'depth': 4, 'learning_rate': 0.06995196593094148, 'l2_leaf_reg': 0.0018080296485396804}. Best is trial 0 with value: 0.7410084705745688.\n"
     ]
    },
    {
     "name": "stdout",
     "output_type": "stream",
     "text": [
      "Stopped by overfitting detector  (300 iterations wait)\n",
      "\n",
      "bestTest = 0.7408965372\n",
      "bestIteration = 394\n",
      "\n",
      "Shrink model to first 395 iterations.\n",
      "0:\ttest: 0.6962144\tbest: 0.6962144 (0)\ttotal: 55.8ms\tremaining: 1m 51s\n",
      "300:\ttest: 0.7405063\tbest: 0.7405161 (298)\ttotal: 17.2s\tremaining: 1m 36s\n",
      "600:\ttest: 0.7412080\tbest: 0.7412148 (592)\ttotal: 34.8s\tremaining: 1m 20s\n"
     ]
    },
    {
     "name": "stderr",
     "output_type": "stream",
     "text": [
      "[I 2025-02-23 06:38:43,485] Trial 6 finished with value: 0.7412148425603788 and parameters: {'iterations': 1997, 'depth': 5, 'learning_rate': 0.07985155992831598, 'l2_leaf_reg': 62.52181000710482}. Best is trial 6 with value: 0.7412148425603788.\n"
     ]
    },
    {
     "name": "stdout",
     "output_type": "stream",
     "text": [
      "Stopped by overfitting detector  (300 iterations wait)\n",
      "\n",
      "bestTest = 0.7412148426\n",
      "bestIteration = 592\n",
      "\n",
      "Shrink model to first 593 iterations.\n",
      "저장 완료\n",
      "0:\ttest: 0.7126516\tbest: 0.7126516 (0)\ttotal: 67.9ms\tremaining: 2m 10s\n",
      "300:\ttest: 0.7402127\tbest: 0.7406367 (155)\ttotal: 24.2s\tremaining: 2m 10s\n"
     ]
    },
    {
     "name": "stderr",
     "output_type": "stream",
     "text": [
      "[I 2025-02-23 06:39:20,992] Trial 7 finished with value: 0.7406367000227655 and parameters: {'iterations': 1927, 'depth': 7, 'learning_rate': 0.0941937211034094, 'l2_leaf_reg': 0.05654822767791934}. Best is trial 6 with value: 0.7412148425603788.\n"
     ]
    },
    {
     "name": "stdout",
     "output_type": "stream",
     "text": [
      "Stopped by overfitting detector  (300 iterations wait)\n",
      "\n",
      "bestTest = 0.7406367\n",
      "bestIteration = 155\n",
      "\n",
      "Shrink model to first 156 iterations.\n",
      "0:\ttest: 0.7126608\tbest: 0.7126608 (0)\ttotal: 68.7ms\tremaining: 2m 10s\n",
      "300:\ttest: 0.7406911\tbest: 0.7406963 (299)\ttotal: 22.9s\tremaining: 2m 2s\n",
      "600:\ttest: 0.7405032\tbest: 0.7408918 (452)\ttotal: 48s\tremaining: 1m 44s\n"
     ]
    },
    {
     "name": "stderr",
     "output_type": "stream",
     "text": [
      "[I 2025-02-23 06:40:21,944] Trial 8 finished with value: 0.7408918398680769 and parameters: {'iterations': 1904, 'depth': 7, 'learning_rate': 0.05155602859187331, 'l2_leaf_reg': 1.299974533316308}. Best is trial 6 with value: 0.7412148425603788.\n"
     ]
    },
    {
     "name": "stdout",
     "output_type": "stream",
     "text": [
      "Stopped by overfitting detector  (300 iterations wait)\n",
      "\n",
      "bestTest = 0.7408918399\n",
      "bestIteration = 452\n",
      "\n",
      "Shrink model to first 453 iterations.\n",
      "0:\ttest: 0.7096826\tbest: 0.7096826 (0)\ttotal: 61.4ms\tremaining: 2m 41s\n",
      "300:\ttest: 0.7401592\tbest: 0.7401601 (299)\ttotal: 19.7s\tremaining: 2m 32s\n",
      "600:\ttest: 0.7410061\tbest: 0.7411606 (470)\ttotal: 41s\tremaining: 2m 19s\n"
     ]
    },
    {
     "name": "stderr",
     "output_type": "stream",
     "text": [
      "[I 2025-02-23 06:41:15,950] Trial 9 finished with value: 0.7411605554593284 and parameters: {'iterations': 2639, 'depth': 6, 'learning_rate': 0.03968704290444751, 'l2_leaf_reg': 0.30557194377967184}. Best is trial 6 with value: 0.7412148425603788.\n"
     ]
    },
    {
     "name": "stdout",
     "output_type": "stream",
     "text": [
      "Stopped by overfitting detector  (300 iterations wait)\n",
      "\n",
      "bestTest = 0.7411605555\n",
      "bestIteration = 470\n",
      "\n",
      "Shrink model to first 471 iterations.\n",
      "0:\ttest: 0.7096801\tbest: 0.7096801 (0)\ttotal: 64.2ms\tremaining: 3m 8s\n",
      "300:\ttest: 0.7409185\tbest: 0.7409185 (300)\ttotal: 21s\tremaining: 3m 4s\n",
      "600:\ttest: 0.7414339\tbest: 0.7415364 (498)\ttotal: 42.7s\tremaining: 2m 46s\n"
     ]
    },
    {
     "name": "stderr",
     "output_type": "stream",
     "text": [
      "[I 2025-02-23 06:42:13,074] Trial 10 finished with value: 0.7415363840434073 and parameters: {'iterations': 2945, 'depth': 6, 'learning_rate': 0.07265276039199581, 'l2_leaf_reg': 97.18545559492516}. Best is trial 10 with value: 0.7415363840434073.\n"
     ]
    },
    {
     "name": "stdout",
     "output_type": "stream",
     "text": [
      "Stopped by overfitting detector  (300 iterations wait)\n",
      "\n",
      "bestTest = 0.741536384\n",
      "bestIteration = 498\n",
      "\n",
      "Shrink model to first 499 iterations.\n",
      "저장 완료\n",
      "0:\ttest: 0.7097053\tbest: 0.7097053 (0)\ttotal: 62.6ms\tremaining: 3m 7s\n",
      "300:\ttest: 0.7405844\tbest: 0.7406033 (290)\ttotal: 20.3s\tremaining: 3m 1s\n",
      "600:\ttest: 0.7411199\tbest: 0.7411331 (593)\ttotal: 41.3s\tremaining: 2m 44s\n",
      "900:\ttest: 0.7412395\tbest: 0.7413265 (821)\ttotal: 1m 2s\tremaining: 2m 25s\n"
     ]
    },
    {
     "name": "stderr",
     "output_type": "stream",
     "text": [
      "[I 2025-02-23 06:43:31,480] Trial 11 finished with value: 0.7413264662427026 and parameters: {'iterations': 2994, 'depth': 6, 'learning_rate': 0.07131044509072976, 'l2_leaf_reg': 73.1213351392818}. Best is trial 10 with value: 0.7415363840434073.\n"
     ]
    },
    {
     "name": "stdout",
     "output_type": "stream",
     "text": [
      "Stopped by overfitting detector  (300 iterations wait)\n",
      "\n",
      "bestTest = 0.7413264662\n",
      "bestIteration = 821\n",
      "\n",
      "Shrink model to first 822 iterations.\n",
      "0:\ttest: 0.7097047\tbest: 0.7097047 (0)\ttotal: 60.9ms\tremaining: 2m 56s\n",
      "300:\ttest: 0.7411432\tbest: 0.7411452 (297)\ttotal: 19.6s\tremaining: 2m 48s\n",
      "600:\ttest: 0.7417803\tbest: 0.7418075 (572)\ttotal: 40.3s\tremaining: 2m 33s\n",
      "900:\ttest: 0.7418311\tbest: 0.7418644 (704)\ttotal: 1m 1s\tremaining: 2m 15s\n",
      "1200:\ttest: 0.7419140\tbest: 0.7419473 (1169)\ttotal: 1m 22s\tremaining: 1m 56s\n"
     ]
    },
    {
     "name": "stderr",
     "output_type": "stream",
     "text": [
      "[I 2025-02-23 06:45:13,561] Trial 12 finished with value: 0.7419473292981775 and parameters: {'iterations': 2897, 'depth': 6, 'learning_rate': 0.06853332055535903, 'l2_leaf_reg': 87.13438924619796}. Best is trial 12 with value: 0.7419473292981775.\n"
     ]
    },
    {
     "name": "stdout",
     "output_type": "stream",
     "text": [
      "Stopped by overfitting detector  (300 iterations wait)\n",
      "\n",
      "bestTest = 0.7419473293\n",
      "bestIteration = 1169\n",
      "\n",
      "Shrink model to first 1170 iterations.\n",
      "저장 완료\n",
      "0:\ttest: 0.7126708\tbest: 0.7126708 (0)\ttotal: 77.6ms\tremaining: 3m 50s\n",
      "300:\ttest: 0.7405791\tbest: 0.7405791 (300)\ttotal: 26.4s\tremaining: 3m 54s\n",
      "600:\ttest: 0.7405330\tbest: 0.7408797 (443)\ttotal: 54.9s\tremaining: 3m 36s\n"
     ]
    },
    {
     "name": "stderr",
     "output_type": "stream",
     "text": [
      "[I 2025-02-23 06:46:22,410] Trial 13 finished with value: 0.7408796816539593 and parameters: {'iterations': 2975, 'depth': 8, 'learning_rate': 0.0628933885949758, 'l2_leaf_reg': 7.828901342687942}. Best is trial 12 with value: 0.7419473292981775.\n"
     ]
    },
    {
     "name": "stdout",
     "output_type": "stream",
     "text": [
      "Stopped by overfitting detector  (300 iterations wait)\n",
      "\n",
      "bestTest = 0.7408796817\n",
      "bestIteration = 443\n",
      "\n",
      "Shrink model to first 444 iterations.\n",
      "0:\ttest: 0.7181905\tbest: 0.7181905 (0)\ttotal: 78.5ms\tremaining: 3m 36s\n",
      "300:\ttest: 0.7396999\tbest: 0.7396999 (300)\ttotal: 24.9s\tremaining: 3m 22s\n",
      "600:\ttest: 0.7402756\tbest: 0.7404333 (518)\ttotal: 52.5s\tremaining: 3m 8s\n"
     ]
    },
    {
     "name": "stderr",
     "output_type": "stream",
     "text": [
      "[I 2025-02-23 06:47:36,058] Trial 14 finished with value: 0.7404332901622759 and parameters: {'iterations': 2754, 'depth': 8, 'learning_rate': 0.030866060002221384, 'l2_leaf_reg': 0.02939703823210393}. Best is trial 12 with value: 0.7419473292981775.\n"
     ]
    },
    {
     "name": "stdout",
     "output_type": "stream",
     "text": [
      "Stopped by overfitting detector  (300 iterations wait)\n",
      "\n",
      "bestTest = 0.7404332902\n",
      "bestIteration = 518\n",
      "\n",
      "Shrink model to first 519 iterations.\n",
      "0:\ttest: 0.7097050\tbest: 0.7097050 (0)\ttotal: 62.9ms\tremaining: 1m 35s\n",
      "300:\ttest: 0.7407421\tbest: 0.7407514 (296)\ttotal: 20.6s\tremaining: 1m 22s\n",
      "600:\ttest: 0.7406826\tbest: 0.7408506 (437)\ttotal: 41.8s\tremaining: 1m 3s\n"
     ]
    },
    {
     "name": "stderr",
     "output_type": "stream",
     "text": [
      "[I 2025-02-23 06:48:27,912] Trial 15 finished with value: 0.7408506043835532 and parameters: {'iterations': 1513, 'depth': 6, 'learning_rate': 0.08625378621185843, 'l2_leaf_reg': 9.663069382488304}. Best is trial 12 with value: 0.7419473292981775.\n"
     ]
    },
    {
     "name": "stdout",
     "output_type": "stream",
     "text": [
      "Stopped by overfitting detector  (300 iterations wait)\n",
      "\n",
      "bestTest = 0.7408506044\n",
      "bestIteration = 437\n",
      "\n",
      "Shrink model to first 438 iterations.\n",
      "0:\ttest: 0.7181964\tbest: 0.7181964 (0)\ttotal: 76.3ms\tremaining: 3m 35s\n",
      "300:\ttest: 0.7408305\tbest: 0.7408389 (297)\ttotal: 26.5s\tremaining: 3m 42s\n",
      "600:\ttest: 0.7403778\tbest: 0.7408479 (318)\ttotal: 55.7s\tremaining: 3m 25s\n"
     ]
    },
    {
     "name": "stderr",
     "output_type": "stream",
     "text": [
      "[I 2025-02-23 06:49:25,489] Trial 16 finished with value: 0.7408478527041333 and parameters: {'iterations': 2824, 'depth': 8, 'learning_rate': 0.061662991475729484, 'l2_leaf_reg': 1.8341589839267998}. Best is trial 12 with value: 0.7419473292981775.\n"
     ]
    },
    {
     "name": "stdout",
     "output_type": "stream",
     "text": [
      "Stopped by overfitting detector  (300 iterations wait)\n",
      "\n",
      "bestTest = 0.7408478527\n",
      "bestIteration = 318\n",
      "\n",
      "Shrink model to first 319 iterations.\n",
      "0:\ttest: 0.6962144\tbest: 0.6962144 (0)\ttotal: 58.7ms\tremaining: 2m 29s\n",
      "300:\ttest: 0.7405460\tbest: 0.7405460 (300)\ttotal: 17.2s\tremaining: 2m 8s\n",
      "600:\ttest: 0.7411116\tbest: 0.7411116 (600)\ttotal: 34.8s\tremaining: 1m 52s\n",
      "900:\ttest: 0.7412044\tbest: 0.7412244 (881)\ttotal: 52.7s\tremaining: 1m 36s\n",
      "1200:\ttest: 0.7412922\tbest: 0.7413022 (1184)\ttotal: 1m 10s\tremaining: 1m 19s\n",
      "1500:\ttest: 0.7412923\tbest: 0.7413411 (1346)\ttotal: 1m 29s\tremaining: 1m 2s\n"
     ]
    },
    {
     "name": "stderr",
     "output_type": "stream",
     "text": [
      "[I 2025-02-23 06:51:03,694] Trial 17 finished with value: 0.7413410545113728 and parameters: {'iterations': 2546, 'depth': 5, 'learning_rate': 0.0774911016692127, 'l2_leaf_reg': 80.62911323694684}. Best is trial 12 with value: 0.7419473292981775.\n"
     ]
    },
    {
     "name": "stdout",
     "output_type": "stream",
     "text": [
      "Stopped by overfitting detector  (300 iterations wait)\n",
      "\n",
      "bestTest = 0.7413410545\n",
      "bestIteration = 1346\n",
      "\n",
      "Shrink model to first 1347 iterations.\n",
      "0:\ttest: 0.7126516\tbest: 0.7126516 (0)\ttotal: 67.5ms\tremaining: 3m 9s\n",
      "300:\ttest: 0.7403266\tbest: 0.7404758 (280)\ttotal: 23.1s\tremaining: 3m 13s\n"
     ]
    },
    {
     "name": "stderr",
     "output_type": "stream",
     "text": [
      "[I 2025-02-23 06:51:50,208] Trial 18 finished with value: 0.7404758399410103 and parameters: {'iterations': 2815, 'depth': 7, 'learning_rate': 0.05970016430294879, 'l2_leaf_reg': 0.010016909578442512}. Best is trial 12 with value: 0.7419473292981775.\n"
     ]
    },
    {
     "name": "stdout",
     "output_type": "stream",
     "text": [
      "Stopped by overfitting detector  (300 iterations wait)\n",
      "\n",
      "bestTest = 0.7404758399\n",
      "bestIteration = 280\n",
      "\n",
      "Shrink model to first 281 iterations.\n",
      "0:\ttest: 0.6962156\tbest: 0.6962156 (0)\ttotal: 54.4ms\tremaining: 2m 13s\n",
      "300:\ttest: 0.7390692\tbest: 0.7390715 (298)\ttotal: 16.4s\tremaining: 1m 57s\n",
      "600:\ttest: 0.7407096\tbest: 0.7407156 (599)\ttotal: 34.1s\tremaining: 1m 45s\n",
      "900:\ttest: 0.7410902\tbest: 0.7411116 (878)\ttotal: 52.1s\tremaining: 1m 30s\n",
      "1200:\ttest: 0.7409903\tbest: 0.7411384 (1030)\ttotal: 1m 10s\tremaining: 1m 13s\n"
     ]
    },
    {
     "name": "stderr",
     "output_type": "stream",
     "text": [
      "[I 2025-02-23 06:53:08,653] Trial 19 finished with value: 0.7411383633434879 and parameters: {'iterations': 2460, 'depth': 5, 'learning_rate': 0.032760769261710856, 'l2_leaf_reg': 0.31055845032241847}. Best is trial 12 with value: 0.7419473292981775.\n",
      "[I 2025-02-23 06:53:08,656] A new study created in memory with name: no-name-e7059ea7-b33e-4863-9f8e-df8a5bbd4d77\n"
     ]
    },
    {
     "name": "stdout",
     "output_type": "stream",
     "text": [
      "Stopped by overfitting detector  (300 iterations wait)\n",
      "\n",
      "bestTest = 0.7411383633\n",
      "bestIteration = 1030\n",
      "\n",
      "Shrink model to first 1031 iterations.\n"
     ]
    },
    {
     "name": "stderr",
     "output_type": "stream",
     "text": [
      "[I 2025-02-23 06:53:31,556] Trial 0 finished with value: 0.7312648213970655 and parameters: {'num_iterations': 2366, 'objective': 'binary', 'metric': 'auc', 'verbose': -1, 'learning_rate': 0.0652646236447618, 'n_estimators': 236, 'min_child_samples': 45, 'subsample': 0.7, 'colsample_bytree': 0.5}. Best is trial 0 with value: 0.7312648213970655.\n",
      "[I 2025-02-23 06:53:48,346] Trial 1 finished with value: 0.740679198182694 and parameters: {'num_iterations': 1510, 'objective': 'binary', 'metric': 'auc', 'verbose': -1, 'learning_rate': 0.005231880959249543, 'n_estimators': 1411, 'min_child_samples': 10, 'subsample': 1.0, 'colsample_bytree': 0.5}. Best is trial 1 with value: 0.740679198182694.\n",
      "[I 2025-02-23 06:54:07,898] Trial 2 finished with value: 0.7407712424548891 and parameters: {'num_iterations': 2334, 'objective': 'binary', 'metric': 'auc', 'verbose': -1, 'learning_rate': 0.006578527777128852, 'n_estimators': 931, 'min_child_samples': 15, 'subsample': 0.5, 'colsample_bytree': 1.0}. Best is trial 2 with value: 0.7407712424548891.\n",
      "[I 2025-02-23 06:54:24,353] Trial 3 finished with value: 0.7407118212679947 and parameters: {'num_iterations': 1620, 'objective': 'binary', 'metric': 'auc', 'verbose': -1, 'learning_rate': 0.0058823249237283685, 'n_estimators': 837, 'min_child_samples': 10, 'subsample': 0.9, 'colsample_bytree': 0.6}. Best is trial 2 with value: 0.7407712424548891.\n",
      "[I 2025-02-23 06:54:40,682] Trial 4 finished with value: 0.740649600753552 and parameters: {'num_iterations': 1997, 'objective': 'binary', 'metric': 'auc', 'verbose': -1, 'learning_rate': 0.010907507425244923, 'n_estimators': 1597, 'min_child_samples': 50, 'subsample': 0.6, 'colsample_bytree': 0.8}. Best is trial 2 with value: 0.7407712424548891.\n",
      "[I 2025-02-23 06:55:03,083] Trial 5 finished with value: 0.7368041942805108 and parameters: {'num_iterations': 2909, 'objective': 'binary', 'metric': 'auc', 'verbose': -1, 'learning_rate': 0.019760591962733942, 'n_estimators': 612, 'min_child_samples': 30, 'subsample': 0.7, 'colsample_bytree': 0.9}. Best is trial 2 with value: 0.7407712424548891.\n",
      "[I 2025-02-23 06:55:23,717] Trial 6 finished with value: 0.7381372221469867 and parameters: {'num_iterations': 2639, 'objective': 'binary', 'metric': 'auc', 'verbose': -1, 'learning_rate': 0.017862094446750985, 'n_estimators': 794, 'min_child_samples': 35, 'subsample': 1.0, 'colsample_bytree': 0.8}. Best is trial 2 with value: 0.7407712424548891.\n",
      "[I 2025-02-23 06:55:40,076] Trial 7 finished with value: 0.7400319023279438 and parameters: {'num_iterations': 1580, 'objective': 'binary', 'metric': 'auc', 'verbose': -1, 'learning_rate': 0.01776722177611332, 'n_estimators': 529, 'min_child_samples': 25, 'subsample': 0.8, 'colsample_bytree': 0.5}. Best is trial 2 with value: 0.7407712424548891.\n",
      "[I 2025-02-23 06:55:57,534] Trial 8 finished with value: 0.7376401568706628 and parameters: {'num_iterations': 1911, 'objective': 'binary', 'metric': 'auc', 'verbose': -1, 'learning_rate': 0.0304747553332844, 'n_estimators': 1328, 'min_child_samples': 10, 'subsample': 0.7, 'colsample_bytree': 0.6}. Best is trial 2 with value: 0.7407712424548891.\n",
      "[I 2025-02-23 06:56:24,655] Trial 9 finished with value: 0.7366058708577368 and parameters: {'num_iterations': 2739, 'objective': 'binary', 'metric': 'auc', 'verbose': -1, 'learning_rate': 0.02691531614176271, 'n_estimators': 1438, 'min_child_samples': 20, 'subsample': 0.6, 'colsample_bytree': 0.5}. Best is trial 2 with value: 0.7407712424548891.\n",
      "[I 2025-02-23 06:56:42,182] Trial 10 finished with value: 0.7260512545041478 and parameters: {'num_iterations': 2334, 'objective': 'binary', 'metric': 'auc', 'verbose': -1, 'learning_rate': 0.08223556891145911, 'n_estimators': 1917, 'min_child_samples': 20, 'subsample': 0.5, 'colsample_bytree': 1.0}. Best is trial 2 with value: 0.7407712424548891.\n",
      "[I 2025-02-23 06:56:59,957] Trial 11 finished with value: 0.7407438011035609 and parameters: {'num_iterations': 2009, 'objective': 'binary', 'metric': 'auc', 'verbose': -1, 'learning_rate': 0.005637168073461897, 'n_estimators': 1002, 'min_child_samples': 10, 'subsample': 0.9, 'colsample_bytree': 0.7}. Best is trial 2 with value: 0.7407712424548891.\n",
      "[I 2025-02-23 06:57:17,511] Trial 12 finished with value: 0.7404775036548299 and parameters: {'num_iterations': 2082, 'objective': 'binary', 'metric': 'auc', 'verbose': -1, 'learning_rate': 0.009011302975108652, 'n_estimators': 1042, 'min_child_samples': 15, 'subsample': 0.9, 'colsample_bytree': 0.7}. Best is trial 2 with value: 0.7407712424548891.\n",
      "[I 2025-02-23 06:57:37,778] Trial 13 finished with value: 0.7402362175028745 and parameters: {'num_iterations': 2482, 'objective': 'binary', 'metric': 'auc', 'verbose': -1, 'learning_rate': 0.008762950699786708, 'n_estimators': 1090, 'min_child_samples': 20, 'subsample': 0.5, 'colsample_bytree': 1.0}. Best is trial 2 with value: 0.7407712424548891.\n",
      "[I 2025-02-23 06:57:56,328] Trial 14 finished with value: 0.7407239199219517 and parameters: {'num_iterations': 2158, 'objective': 'binary', 'metric': 'auc', 'verbose': -1, 'learning_rate': 0.006937488043229892, 'n_estimators': 1086, 'min_child_samples': 35, 'subsample': 0.9, 'colsample_bytree': 0.7}. Best is trial 2 with value: 0.7407712424548891.\n",
      "[I 2025-02-23 06:58:11,619] Trial 15 finished with value: 0.7396065951331138 and parameters: {'num_iterations': 1849, 'objective': 'binary', 'metric': 'auc', 'verbose': -1, 'learning_rate': 0.012915147920823086, 'n_estimators': 208, 'min_child_samples': 15, 'subsample': 0.8, 'colsample_bytree': 0.9}. Best is trial 2 with value: 0.7407712424548891.\n",
      "[I 2025-02-23 06:58:25,745] Trial 16 finished with value: 0.7355093444769811 and parameters: {'num_iterations': 1813, 'objective': 'binary', 'metric': 'auc', 'verbose': -1, 'learning_rate': 0.03901437770924474, 'n_estimators': 502, 'min_child_samples': 15, 'subsample': 0.6, 'colsample_bytree': 0.9}. Best is trial 2 with value: 0.7407712424548891.\n",
      "[I 2025-02-23 06:58:46,793] Trial 17 finished with value: 0.7407148231000891 and parameters: {'num_iterations': 2492, 'objective': 'binary', 'metric': 'auc', 'verbose': -1, 'learning_rate': 0.007238111112271453, 'n_estimators': 883, 'min_child_samples': 25, 'subsample': 0.8, 'colsample_bytree': 0.7}. Best is trial 2 with value: 0.7407712424548891.\n",
      "[I 2025-02-23 06:59:04,371] Trial 18 finished with value: 0.7399424866441701 and parameters: {'num_iterations': 2177, 'objective': 'binary', 'metric': 'auc', 'verbose': -1, 'learning_rate': 0.01356820322695768, 'n_estimators': 1781, 'min_child_samples': 10, 'subsample': 0.9, 'colsample_bytree': 0.8}. Best is trial 2 with value: 0.7407712424548891.\n",
      "[I 2025-02-23 06:59:22,305] Trial 19 finished with value: 0.7407433325636308 and parameters: {'num_iterations': 1766, 'objective': 'binary', 'metric': 'auc', 'verbose': -1, 'learning_rate': 0.005236783691416719, 'n_estimators': 1235, 'min_child_samples': 25, 'subsample': 0.5, 'colsample_bytree': 0.6}. Best is trial 2 with value: 0.7407712424548891.\n",
      "[I 2025-02-23 06:59:41,363] Trial 20 finished with value: 0.740815519478281 and parameters: {'num_iterations': 2332, 'objective': 'binary', 'metric': 'auc', 'verbose': -1, 'learning_rate': 0.009171108341310656, 'n_estimators': 705, 'min_child_samples': 40, 'subsample': 1.0, 'colsample_bytree': 1.0}. Best is trial 20 with value: 0.740815519478281.\n",
      "[I 2025-02-23 07:00:00,132] Trial 21 finished with value: 0.7406934767385291 and parameters: {'num_iterations': 2268, 'objective': 'binary', 'metric': 'auc', 'verbose': -1, 'learning_rate': 0.008086986782249594, 'n_estimators': 674, 'min_child_samples': 40, 'subsample': 1.0, 'colsample_bytree': 1.0}. Best is trial 20 with value: 0.740815519478281.\n",
      "[I 2025-02-23 07:00:20,160] Trial 22 finished with value: 0.7401124951665937 and parameters: {'num_iterations': 2487, 'objective': 'binary', 'metric': 'auc', 'verbose': -1, 'learning_rate': 0.010896321473008364, 'n_estimators': 388, 'min_child_samples': 40, 'subsample': 1.0, 'colsample_bytree': 0.9}. Best is trial 20 with value: 0.740815519478281.\n",
      "[I 2025-02-23 07:00:37,356] Trial 23 finished with value: 0.7409759824922987 and parameters: {'num_iterations': 2021, 'objective': 'binary', 'metric': 'auc', 'verbose': -1, 'learning_rate': 0.006336688580705219, 'n_estimators': 968, 'min_child_samples': 50, 'subsample': 0.9, 'colsample_bytree': 1.0}. Best is trial 23 with value: 0.7409759824922987.\n",
      "[I 2025-02-23 07:00:58,438] Trial 24 finished with value: 0.7394903654650368 and parameters: {'num_iterations': 2653, 'objective': 'binary', 'metric': 'auc', 'verbose': -1, 'learning_rate': 0.013763055533112498, 'n_estimators': 746, 'min_child_samples': 50, 'subsample': 1.0, 'colsample_bytree': 1.0}. Best is trial 23 with value: 0.7409759824922987.\n",
      "[I 2025-02-23 07:01:18,120] Trial 25 finished with value: 0.7410600933511016 and parameters: {'num_iterations': 2377, 'objective': 'binary', 'metric': 'auc', 'verbose': -1, 'learning_rate': 0.007052563769954466, 'n_estimators': 910, 'min_child_samples': 45, 'subsample': 0.8, 'colsample_bytree': 1.0}. Best is trial 25 with value: 0.7410600933511016.\n",
      "[I 2025-02-23 07:01:36,163] Trial 26 finished with value: 0.7404394963310107 and parameters: {'num_iterations': 2215, 'objective': 'binary', 'metric': 'auc', 'verbose': -1, 'learning_rate': 0.010420390353483272, 'n_estimators': 1206, 'min_child_samples': 45, 'subsample': 0.8, 'colsample_bytree': 0.9}. Best is trial 25 with value: 0.7410600933511016.\n",
      "[I 2025-02-23 07:01:51,926] Trial 27 finished with value: 0.7331160186901055 and parameters: {'num_iterations': 2082, 'objective': 'binary', 'metric': 'auc', 'verbose': -1, 'learning_rate': 0.047947876079429776, 'n_estimators': 649, 'min_child_samples': 45, 'subsample': 0.9, 'colsample_bytree': 1.0}. Best is trial 25 with value: 0.7410600933511016.\n",
      "[I 2025-02-23 07:02:12,032] Trial 28 finished with value: 0.7405916129811894 and parameters: {'num_iterations': 2422, 'objective': 'binary', 'metric': 'auc', 'verbose': -1, 'learning_rate': 0.007948019285506872, 'n_estimators': 406, 'min_child_samples': 40, 'subsample': 0.8, 'colsample_bytree': 0.9}. Best is trial 25 with value: 0.7410600933511016.\n",
      "[I 2025-02-23 07:02:35,055] Trial 29 finished with value: 0.7384361188569541 and parameters: {'num_iterations': 2939, 'objective': 'binary', 'metric': 'auc', 'verbose': -1, 'learning_rate': 0.015761202642442556, 'n_estimators': 315, 'min_child_samples': 50, 'subsample': 0.7, 'colsample_bytree': 1.0}. Best is trial 25 with value: 0.7410600933511016.\n",
      "[I 2025-02-23 07:02:56,301] Trial 30 finished with value: 0.7403369774119044 and parameters: {'num_iterations': 2632, 'objective': 'binary', 'metric': 'auc', 'verbose': -1, 'learning_rate': 0.009695097631198139, 'n_estimators': 104, 'min_child_samples': 45, 'subsample': 0.9, 'colsample_bytree': 0.9}. Best is trial 25 with value: 0.7410600933511016.\n",
      "[I 2025-02-23 07:03:15,610] Trial 31 finished with value: 0.7410802882162232 and parameters: {'num_iterations': 2317, 'objective': 'binary', 'metric': 'auc', 'verbose': -1, 'learning_rate': 0.0066920405174033136, 'n_estimators': 912, 'min_child_samples': 35, 'subsample': 1.0, 'colsample_bytree': 1.0}. Best is trial 31 with value: 0.7410802882162232.\n",
      "[I 2025-02-23 07:03:34,876] Trial 32 finished with value: 0.7409869653859138 and parameters: {'num_iterations': 2286, 'objective': 'binary', 'metric': 'auc', 'verbose': -1, 'learning_rate': 0.006199875655307607, 'n_estimators': 1176, 'min_child_samples': 35, 'subsample': 1.0, 'colsample_bytree': 1.0}. Best is trial 31 with value: 0.7410802882162232.\n",
      "[I 2025-02-23 07:03:54,234] Trial 33 finished with value: 0.740900047258208 and parameters: {'num_iterations': 2255, 'objective': 'binary', 'metric': 'auc', 'verbose': -1, 'learning_rate': 0.005065066289305407, 'n_estimators': 1180, 'min_child_samples': 35, 'subsample': 1.0, 'colsample_bytree': 1.0}. Best is trial 31 with value: 0.7410802882162232.\n",
      "[I 2025-02-23 07:04:14,156] Trial 34 finished with value: 0.7408935750540891 and parameters: {'num_iterations': 2390, 'objective': 'binary', 'metric': 'auc', 'verbose': -1, 'learning_rate': 0.006510332113447528, 'n_estimators': 946, 'min_child_samples': 30, 'subsample': 1.0, 'colsample_bytree': 1.0}. Best is trial 31 with value: 0.7410802882162232.\n",
      "[I 2025-02-23 07:04:32,065] Trial 35 finished with value: 0.740840598276572 and parameters: {'num_iterations': 2093, 'objective': 'binary', 'metric': 'auc', 'verbose': -1, 'learning_rate': 0.006158997519218611, 'n_estimators': 1500, 'min_child_samples': 50, 'subsample': 0.9, 'colsample_bytree': 0.9}. Best is trial 31 with value: 0.7410802882162232.\n",
      "[I 2025-02-23 07:04:48,510] Trial 36 finished with value: 0.7409993340459323 and parameters: {'num_iterations': 1945, 'objective': 'binary', 'metric': 'auc', 'verbose': -1, 'learning_rate': 0.0070724371910410476, 'n_estimators': 848, 'min_child_samples': 45, 'subsample': 1.0, 'colsample_bytree': 1.0}. Best is trial 31 with value: 0.7410802882162232.\n",
      "[I 2025-02-23 07:05:09,597] Trial 37 finished with value: 0.7404605488624451 and parameters: {'num_iterations': 2561, 'objective': 'binary', 'metric': 'auc', 'verbose': -1, 'learning_rate': 0.007569268702445934, 'n_estimators': 1343, 'min_child_samples': 30, 'subsample': 1.0, 'colsample_bytree': 0.9}. Best is trial 31 with value: 0.7410802882162232.\n",
      "[I 2025-02-23 07:05:27,929] Trial 38 finished with value: 0.7404442333491174 and parameters: {'num_iterations': 2252, 'objective': 'binary', 'metric': 'auc', 'verbose': -1, 'learning_rate': 0.011329187122517707, 'n_estimators': 825, 'min_child_samples': 35, 'subsample': 1.0, 'colsample_bytree': 0.8}. Best is trial 31 with value: 0.7410802882162232.\n",
      "[I 2025-02-23 07:05:51,798] Trial 39 finished with value: 0.7410500276839597 and parameters: {'num_iterations': 2797, 'objective': 'binary', 'metric': 'auc', 'verbose': -1, 'learning_rate': 0.0050575795094025796, 'n_estimators': 1617, 'min_child_samples': 45, 'subsample': 1.0, 'colsample_bytree': 1.0}. Best is trial 31 with value: 0.7410802882162232.\n"
     ]
    },
    {
     "name": "stdout",
     "output_type": "stream",
     "text": [
      "Cat val score : 0.7419473292981775\n",
      "LGBM val score : 0.7409660081507365\n",
      "Ensemble val score : 0.7420357721659947\n"
     ]
    },
    {
     "name": "stderr",
     "output_type": "stream",
     "text": [
      "[I 2025-02-23 07:06:12,455] A new study created in memory with name: no-name-2d7c2355-2cbb-4235-8f42-401861618258\n"
     ]
    },
    {
     "name": "stdout",
     "output_type": "stream",
     "text": [
      "==================================================\n",
      "0:\ttest: 0.7227589\tbest: 0.7227589 (0)\ttotal: 135ms\tremaining: 5m 18s\n",
      "300:\ttest: 0.7330597\tbest: 0.7330597 (300)\ttotal: 39.3s\tremaining: 4m 29s\n",
      "600:\ttest: 0.7344199\tbest: 0.7344225 (596)\ttotal: 1m 20s\tremaining: 3m 56s\n",
      "900:\ttest: 0.7348073\tbest: 0.7348178 (897)\ttotal: 2m 2s\tremaining: 3m 18s\n",
      "1200:\ttest: 0.7350766\tbest: 0.7350805 (1198)\ttotal: 2m 46s\tremaining: 2m 41s\n",
      "1500:\ttest: 0.7351321\tbest: 0.7351767 (1430)\ttotal: 3m 34s\tremaining: 2m 3s\n"
     ]
    },
    {
     "name": "stderr",
     "output_type": "stream",
     "text": [
      "[I 2025-02-23 07:10:25,665] Trial 0 finished with value: 0.7351766526465233 and parameters: {'iterations': 2366, 'depth': 10, 'learning_rate': 0.01181021951839225, 'l2_leaf_reg': 9.980783802743254}. Best is trial 0 with value: 0.7351766526465233.\n"
     ]
    },
    {
     "name": "stdout",
     "output_type": "stream",
     "text": [
      "Stopped by overfitting detector  (300 iterations wait)\n",
      "\n",
      "bestTest = 0.7351766526\n",
      "bestIteration = 1430\n",
      "\n",
      "Shrink model to first 1431 iterations.\n",
      "저장 완료\n",
      "0:\ttest: 0.6888096\tbest: 0.6888096 (0)\ttotal: 53.5ms\tremaining: 1m 57s\n",
      "300:\ttest: 0.7236600\tbest: 0.7236600 (300)\ttotal: 12.9s\tremaining: 1m 21s\n"
     ]
    },
    {
     "name": "stderr",
     "output_type": "stream",
     "text": [
      "Training has stopped (degenerate solution on iteration 346, probably too small l2-regularization, try to increase it)\n",
      "[I 2025-02-23 07:10:40,656] Trial 1 finished with value: 0.7247429245465473 and parameters: {'iterations': 2193, 'depth': 4, 'learning_rate': 0.005671430811678843, 'l2_leaf_reg': 0.00012325230809466137}. Best is trial 0 with value: 0.7351766526465233.\n"
     ]
    },
    {
     "name": "stdout",
     "output_type": "stream",
     "text": [
      "\n",
      "bestTest = 0.7247429245\n",
      "bestIteration = 345\n",
      "\n",
      "Shrink model to first 346 iterations.\n",
      "0:\ttest: 0.6888096\tbest: 0.6888096 (0)\ttotal: 53.8ms\tremaining: 2m 16s\n",
      "300:\ttest: 0.7343409\tbest: 0.7343409 (300)\ttotal: 14.1s\tremaining: 1m 44s\n",
      "600:\ttest: 0.7340241\tbest: 0.7344169 (352)\ttotal: 28.9s\tremaining: 1m 33s\n"
     ]
    },
    {
     "name": "stderr",
     "output_type": "stream",
     "text": [
      "[I 2025-02-23 07:11:12,290] Trial 2 finished with value: 0.7344168798461395 and parameters: {'iterations': 2535, 'depth': 4, 'learning_rate': 0.09275339199839054, 'l2_leaf_reg': 0.0008705394248343123}. Best is trial 0 with value: 0.7351766526465233.\n"
     ]
    },
    {
     "name": "stdout",
     "output_type": "stream",
     "text": [
      "Stopped by overfitting detector  (300 iterations wait)\n",
      "\n",
      "bestTest = 0.7344168798\n",
      "bestIteration = 352\n",
      "\n",
      "Shrink model to first 353 iterations.\n",
      "0:\ttest: 0.6888096\tbest: 0.6888096 (0)\ttotal: 54.2ms\tremaining: 2m 6s\n",
      "300:\ttest: 0.7337850\tbest: 0.7337850 (300)\ttotal: 13.6s\tremaining: 1m 31s\n",
      "600:\ttest: 0.7344127\tbest: 0.7346932 (516)\ttotal: 28.1s\tremaining: 1m 20s\n"
     ]
    },
    {
     "name": "stderr",
     "output_type": "stream",
     "text": [
      "[I 2025-02-23 07:11:50,996] Trial 3 finished with value: 0.7346932330694971 and parameters: {'iterations': 2334, 'depth': 4, 'learning_rate': 0.04657568321363276, 'l2_leaf_reg': 0.0008640473331457248}. Best is trial 0 with value: 0.7351766526465233.\n"
     ]
    },
    {
     "name": "stdout",
     "output_type": "stream",
     "text": [
      "Stopped by overfitting detector  (300 iterations wait)\n",
      "\n",
      "bestTest = 0.7346932331\n",
      "bestIteration = 516\n",
      "\n",
      "Shrink model to first 517 iterations.\n",
      "0:\ttest: 0.7227306\tbest: 0.7227306 (0)\ttotal: 131ms\tremaining: 3m 48s\n",
      "300:\ttest: 0.7326636\tbest: 0.7326759 (298)\ttotal: 36.5s\tremaining: 2m 54s\n",
      "600:\ttest: 0.7334423\tbest: 0.7334554 (590)\ttotal: 1m 16s\tremaining: 2m 24s\n"
     ]
    },
    {
     "name": "stderr",
     "output_type": "stream",
     "text": [
      "[I 2025-02-23 07:13:47,072] Trial 4 finished with value: 0.7334553622032569 and parameters: {'iterations': 1742, 'depth': 10, 'learning_rate': 0.012622767482095846, 'l2_leaf_reg': 0.00021158816350109617}. Best is trial 0 with value: 0.7351766526465233.\n"
     ]
    },
    {
     "name": "stdout",
     "output_type": "stream",
     "text": [
      "Stopped by overfitting detector  (300 iterations wait)\n",
      "\n",
      "bestTest = 0.7334553622\n",
      "bestIteration = 590\n",
      "\n",
      "Shrink model to first 591 iterations.\n",
      "0:\ttest: 0.6888096\tbest: 0.6888096 (0)\ttotal: 53.2ms\tremaining: 1m 50s\n",
      "300:\ttest: 0.7344814\tbest: 0.7344814 (300)\ttotal: 14s\tremaining: 1m 22s\n",
      "600:\ttest: 0.7345071\tbest: 0.7346733 (566)\ttotal: 28.7s\tremaining: 1m 10s\n",
      "900:\ttest: 0.7345130\tbest: 0.7346927 (821)\ttotal: 43.5s\tremaining: 57.1s\n"
     ]
    },
    {
     "name": "stderr",
     "output_type": "stream",
     "text": [
      "[I 2025-02-23 07:14:41,645] Trial 5 finished with value: 0.734692748573704 and parameters: {'iterations': 2082, 'depth': 4, 'learning_rate': 0.06995196593094148, 'l2_leaf_reg': 0.0018080296485396804}. Best is trial 0 with value: 0.7351766526465233.\n"
     ]
    },
    {
     "name": "stdout",
     "output_type": "stream",
     "text": [
      "Stopped by overfitting detector  (300 iterations wait)\n",
      "\n",
      "bestTest = 0.7346927486\n",
      "bestIteration = 821\n",
      "\n",
      "Shrink model to first 822 iterations.\n",
      "0:\ttest: 0.6975347\tbest: 0.6975347 (0)\ttotal: 62.8ms\tremaining: 2m 5s\n",
      "300:\ttest: 0.7349218\tbest: 0.7349218 (298)\ttotal: 17.3s\tremaining: 1m 37s\n",
      "600:\ttest: 0.7350271\tbest: 0.7351283 (475)\ttotal: 35s\tremaining: 1m 21s\n",
      "900:\ttest: 0.7351566\tbest: 0.7351754 (747)\ttotal: 52.8s\tremaining: 1m 4s\n"
     ]
    },
    {
     "name": "stderr",
     "output_type": "stream",
     "text": [
      "[I 2025-02-23 07:15:43,431] Trial 6 finished with value: 0.7351754175793787 and parameters: {'iterations': 1997, 'depth': 5, 'learning_rate': 0.07985155992831598, 'l2_leaf_reg': 62.52181000710482}. Best is trial 0 with value: 0.7351766526465233.\n"
     ]
    },
    {
     "name": "stdout",
     "output_type": "stream",
     "text": [
      "Stopped by overfitting detector  (300 iterations wait)\n",
      "\n",
      "bestTest = 0.7351754176\n",
      "bestIteration = 747\n",
      "\n",
      "Shrink model to first 748 iterations.\n",
      "0:\ttest: 0.7121280\tbest: 0.7121280 (0)\ttotal: 82.7ms\tremaining: 2m 39s\n",
      "300:\ttest: 0.7342498\tbest: 0.7347529 (166)\ttotal: 23.8s\tremaining: 2m 8s\n"
     ]
    },
    {
     "name": "stderr",
     "output_type": "stream",
     "text": [
      "[I 2025-02-23 07:16:21,401] Trial 7 finished with value: 0.7347529015063101 and parameters: {'iterations': 1927, 'depth': 7, 'learning_rate': 0.0941937211034094, 'l2_leaf_reg': 0.05654822767791934}. Best is trial 0 with value: 0.7351766526465233.\n"
     ]
    },
    {
     "name": "stdout",
     "output_type": "stream",
     "text": [
      "Stopped by overfitting detector  (300 iterations wait)\n",
      "\n",
      "bestTest = 0.7347529015\n",
      "bestIteration = 166\n",
      "\n",
      "Shrink model to first 167 iterations.\n",
      "0:\ttest: 0.7121274\tbest: 0.7121274 (0)\ttotal: 82.3ms\tremaining: 2m 36s\n",
      "300:\ttest: 0.7352481\tbest: 0.7353171 (297)\ttotal: 22.9s\tremaining: 2m 1s\n",
      "600:\ttest: 0.7351487\tbest: 0.7354021 (413)\ttotal: 47.7s\tremaining: 1m 43s\n"
     ]
    },
    {
     "name": "stderr",
     "output_type": "stream",
     "text": [
      "[I 2025-02-23 07:17:18,650] Trial 8 finished with value: 0.7354020662998975 and parameters: {'iterations': 1904, 'depth': 7, 'learning_rate': 0.05155602859187331, 'l2_leaf_reg': 1.299974533316308}. Best is trial 8 with value: 0.7354020662998975.\n"
     ]
    },
    {
     "name": "stdout",
     "output_type": "stream",
     "text": [
      "Stopped by overfitting detector  (300 iterations wait)\n",
      "\n",
      "bestTest = 0.7354020663\n",
      "bestIteration = 413\n",
      "\n",
      "Shrink model to first 414 iterations.\n",
      "저장 완료\n",
      "0:\ttest: 0.7118659\tbest: 0.7118659 (0)\ttotal: 76.4ms\tremaining: 3m 21s\n",
      "300:\ttest: 0.7343442\tbest: 0.7343819 (297)\ttotal: 19.5s\tremaining: 2m 31s\n",
      "600:\ttest: 0.7349371\tbest: 0.7350599 (487)\ttotal: 40.9s\tremaining: 2m 18s\n"
     ]
    },
    {
     "name": "stderr",
     "output_type": "stream",
     "text": [
      "[I 2025-02-23 07:18:13,333] Trial 9 finished with value: 0.7350599487295433 and parameters: {'iterations': 2639, 'depth': 6, 'learning_rate': 0.03968704290444751, 'l2_leaf_reg': 0.30557194377967184}. Best is trial 8 with value: 0.7354020662998975.\n"
     ]
    },
    {
     "name": "stdout",
     "output_type": "stream",
     "text": [
      "Stopped by overfitting detector  (300 iterations wait)\n",
      "\n",
      "bestTest = 0.7350599487\n",
      "bestIteration = 487\n",
      "\n",
      "Shrink model to first 488 iterations.\n",
      "0:\ttest: 0.7154641\tbest: 0.7154641 (0)\ttotal: 97.3ms\tremaining: 4m 46s\n",
      "300:\ttest: 0.7343450\tbest: 0.7343450 (300)\ttotal: 25.4s\tremaining: 3m 43s\n",
      "600:\ttest: 0.7351176\tbest: 0.7352153 (505)\ttotal: 53.5s\tremaining: 3m 28s\n"
     ]
    },
    {
     "name": "stderr",
     "output_type": "stream",
     "text": [
      "[I 2025-02-23 07:19:26,947] Trial 10 finished with value: 0.7352152812578299 and parameters: {'iterations': 2945, 'depth': 8, 'learning_rate': 0.032580115422505045, 'l2_leaf_reg': 0.87526046512315}. Best is trial 8 with value: 0.7354020662998975.\n"
     ]
    },
    {
     "name": "stdout",
     "output_type": "stream",
     "text": [
      "Stopped by overfitting detector  (300 iterations wait)\n",
      "\n",
      "bestTest = 0.7352152813\n",
      "bestIteration = 505\n",
      "\n",
      "Shrink model to first 506 iterations.\n",
      "0:\ttest: 0.7154648\tbest: 0.7154648 (0)\ttotal: 95.9ms\tremaining: 4m 47s\n",
      "300:\ttest: 0.7345951\tbest: 0.7345980 (298)\ttotal: 25.4s\tremaining: 3m 47s\n",
      "600:\ttest: 0.7353313\tbest: 0.7353494 (593)\ttotal: 53.3s\tremaining: 3m 32s\n",
      "900:\ttest: 0.7349323\tbest: 0.7353888 (629)\ttotal: 1m 22s\tremaining: 3m 11s\n"
     ]
    },
    {
     "name": "stderr",
     "output_type": "stream",
     "text": [
      "[I 2025-02-23 07:20:52,126] Trial 11 finished with value: 0.7353887506081416 and parameters: {'iterations': 2994, 'depth': 8, 'learning_rate': 0.031221552622542375, 'l2_leaf_reg': 0.4673950385408126}. Best is trial 8 with value: 0.7354020662998975.\n"
     ]
    },
    {
     "name": "stdout",
     "output_type": "stream",
     "text": [
      "Stopped by overfitting detector  (300 iterations wait)\n",
      "\n",
      "bestTest = 0.7353887506\n",
      "bestIteration = 629\n",
      "\n",
      "Shrink model to first 630 iterations.\n",
      "0:\ttest: 0.7154648\tbest: 0.7154648 (0)\ttotal: 94.7ms\tremaining: 2m 28s\n",
      "300:\ttest: 0.7337962\tbest: 0.7344370 (216)\ttotal: 26.4s\tremaining: 1m 50s\n"
     ]
    },
    {
     "name": "stderr",
     "output_type": "stream",
     "text": [
      "[I 2025-02-23 07:21:39,631] Trial 12 finished with value: 0.7344369903928296 and parameters: {'iterations': 1565, 'depth': 8, 'learning_rate': 0.061287874640168535, 'l2_leaf_reg': 0.028450890806958902}. Best is trial 8 with value: 0.7354020662998975.\n"
     ]
    },
    {
     "name": "stdout",
     "output_type": "stream",
     "text": [
      "Stopped by overfitting detector  (300 iterations wait)\n",
      "\n",
      "bestTest = 0.7344369904\n",
      "bestIteration = 216\n",
      "\n",
      "Shrink model to first 217 iterations.\n",
      "0:\ttest: 0.7154746\tbest: 0.7154746 (0)\ttotal: 97ms\tremaining: 4m 48s\n",
      "300:\ttest: 0.7343632\tbest: 0.7343650 (299)\ttotal: 25.1s\tremaining: 3m 43s\n",
      "600:\ttest: 0.7350954\tbest: 0.7350954 (600)\ttotal: 51.9s\tremaining: 3m 25s\n",
      "900:\ttest: 0.7348994\tbest: 0.7351569 (676)\ttotal: 1m 20s\tremaining: 3m 5s\n"
     ]
    },
    {
     "name": "stderr",
     "output_type": "stream",
     "text": [
      "[I 2025-02-23 07:23:07,745] Trial 13 finished with value: 0.7351569273137013 and parameters: {'iterations': 2975, 'depth': 8, 'learning_rate': 0.026319078501895434, 'l2_leaf_reg': 2.079573379652083}. Best is trial 8 with value: 0.7354020662998975.\n"
     ]
    },
    {
     "name": "stdout",
     "output_type": "stream",
     "text": [
      "Stopped by overfitting detector  (300 iterations wait)\n",
      "\n",
      "bestTest = 0.7351569273\n",
      "bestIteration = 676\n",
      "\n",
      "Shrink model to first 677 iterations.\n",
      "0:\ttest: 0.7121233\tbest: 0.7121233 (0)\ttotal: 82.7ms\tremaining: 3m 43s\n",
      "300:\ttest: 0.7352129\tbest: 0.7352129 (300)\ttotal: 23s\tremaining: 3m 3s\n",
      "600:\ttest: 0.7352602\tbest: 0.7354736 (441)\ttotal: 47.8s\tremaining: 2m 47s\n"
     ]
    },
    {
     "name": "stderr",
     "output_type": "stream",
     "text": [
      "[I 2025-02-23 07:24:07,464] Trial 14 finished with value: 0.7354736207687493 and parameters: {'iterations': 2702, 'depth': 7, 'learning_rate': 0.0536289472022267, 'l2_leaf_reg': 5.542114755250782}. Best is trial 14 with value: 0.7354736207687493.\n"
     ]
    },
    {
     "name": "stdout",
     "output_type": "stream",
     "text": [
      "Stopped by overfitting detector  (300 iterations wait)\n",
      "\n",
      "bestTest = 0.7354736208\n",
      "bestIteration = 441\n",
      "\n",
      "Shrink model to first 442 iterations.\n",
      "저장 완료\n",
      "0:\ttest: 0.7118659\tbest: 0.7118659 (0)\ttotal: 75.8ms\tremaining: 3m 23s\n",
      "300:\ttest: 0.7348053\tbest: 0.7348190 (296)\ttotal: 19.7s\tremaining: 2m 35s\n",
      "600:\ttest: 0.7351223\tbest: 0.7351451 (586)\ttotal: 40.9s\tremaining: 2m 21s\n",
      "900:\ttest: 0.7350383\tbest: 0.7352107 (725)\ttotal: 1m 2s\tremaining: 2m 3s\n"
     ]
    },
    {
     "name": "stderr",
     "output_type": "stream",
     "text": [
      "[I 2025-02-23 07:25:18,720] Trial 15 finished with value: 0.7352107420882275 and parameters: {'iterations': 2684, 'depth': 6, 'learning_rate': 0.05665316438649348, 'l2_leaf_reg': 16.81902590307642}. Best is trial 14 with value: 0.7354736207687493.\n"
     ]
    },
    {
     "name": "stdout",
     "output_type": "stream",
     "text": [
      "Stopped by overfitting detector  (300 iterations wait)\n",
      "\n",
      "bestTest = 0.7352107421\n",
      "bestIteration = 725\n",
      "\n",
      "Shrink model to first 726 iterations.\n",
      "0:\ttest: 0.7121241\tbest: 0.7121241 (0)\ttotal: 83ms\tremaining: 2m 28s\n",
      "300:\ttest: 0.7350853\tbest: 0.7351682 (250)\ttotal: 23.4s\tremaining: 1m 56s\n",
      "600:\ttest: 0.7349781\tbest: 0.7352024 (320)\ttotal: 48.6s\tremaining: 1m 36s\n"
     ]
    },
    {
     "name": "stderr",
     "output_type": "stream",
     "text": [
      "[I 2025-02-23 07:26:09,094] Trial 16 finished with value: 0.7352023587224961 and parameters: {'iterations': 1793, 'depth': 7, 'learning_rate': 0.07180185194389979, 'l2_leaf_reg': 3.055459031171782}. Best is trial 14 with value: 0.7354736207687493.\n"
     ]
    },
    {
     "name": "stdout",
     "output_type": "stream",
     "text": [
      "Stopped by overfitting detector  (300 iterations wait)\n",
      "\n",
      "bestTest = 0.7352023587\n",
      "bestIteration = 320\n",
      "\n",
      "Shrink model to first 321 iterations.\n",
      "0:\ttest: 0.7200459\tbest: 0.7200459 (0)\ttotal: 112ms\tremaining: 3m 1s\n",
      "300:\ttest: 0.7338165\tbest: 0.7338989 (276)\ttotal: 29.8s\tremaining: 2m 10s\n"
     ]
    },
    {
     "name": "stderr",
     "output_type": "stream",
     "text": [
      "[I 2025-02-23 07:27:09,648] Trial 17 finished with value: 0.7338989181018318 and parameters: {'iterations': 1618, 'depth': 9, 'learning_rate': 0.05122368438861319, 'l2_leaf_reg': 0.016368401574579163}. Best is trial 14 with value: 0.7354736207687493.\n"
     ]
    },
    {
     "name": "stdout",
     "output_type": "stream",
     "text": [
      "Stopped by overfitting detector  (300 iterations wait)\n",
      "\n",
      "bestTest = 0.7338989181\n",
      "bestIteration = 276\n",
      "\n",
      "Shrink model to first 277 iterations.\n",
      "0:\ttest: 0.7118585\tbest: 0.7118585 (0)\ttotal: 76.2ms\tremaining: 3m 33s\n",
      "300:\ttest: 0.7344773\tbest: 0.7345113 (296)\ttotal: 20.1s\tremaining: 2m 47s\n",
      "600:\ttest: 0.7349343\tbest: 0.7349535 (544)\ttotal: 41.2s\tremaining: 2m 31s\n",
      "900:\ttest: 0.7349823\tbest: 0.7350306 (810)\ttotal: 1m 1s\tremaining: 2m 11s\n"
     ]
    },
    {
     "name": "stderr",
     "output_type": "stream",
     "text": [
      "[I 2025-02-23 07:28:26,630] Trial 18 finished with value: 0.7350306208489532 and parameters: {'iterations': 2806, 'depth': 6, 'learning_rate': 0.06566065400200083, 'l2_leaf_reg': 70.64174190249958}. Best is trial 14 with value: 0.7354736207687493.\n"
     ]
    },
    {
     "name": "stdout",
     "output_type": "stream",
     "text": [
      "Stopped by overfitting detector  (300 iterations wait)\n",
      "\n",
      "bestTest = 0.7350306208\n",
      "bestIteration = 810\n",
      "\n",
      "Shrink model to first 811 iterations.\n",
      "0:\ttest: 0.7121280\tbest: 0.7121280 (0)\ttotal: 80.1ms\tremaining: 3m 16s\n",
      "300:\ttest: 0.7345898\tbest: 0.7347519 (241)\ttotal: 23.8s\tremaining: 2m 50s\n"
     ]
    },
    {
     "name": "stderr",
     "output_type": "stream",
     "text": [
      "[I 2025-02-23 07:29:10,835] Trial 19 finished with value: 0.7347518769168461 and parameters: {'iterations': 2455, 'depth': 7, 'learning_rate': 0.08088060835396044, 'l2_leaf_reg': 0.15888451859639016}. Best is trial 14 with value: 0.7354736207687493.\n",
      "[I 2025-02-23 07:29:10,838] A new study created in memory with name: no-name-fdecc907-b0e9-4e74-a861-7787b9a8970e\n"
     ]
    },
    {
     "name": "stdout",
     "output_type": "stream",
     "text": [
      "Stopped by overfitting detector  (300 iterations wait)\n",
      "\n",
      "bestTest = 0.7347518769\n",
      "bestIteration = 241\n",
      "\n",
      "Shrink model to first 242 iterations.\n"
     ]
    },
    {
     "name": "stderr",
     "output_type": "stream",
     "text": [
      "[I 2025-02-23 07:29:33,694] Trial 0 finished with value: 0.726921535334445 and parameters: {'num_iterations': 2366, 'objective': 'binary', 'metric': 'auc', 'verbose': -1, 'learning_rate': 0.0652646236447618, 'n_estimators': 236, 'min_child_samples': 45, 'subsample': 0.7, 'colsample_bytree': 0.5}. Best is trial 0 with value: 0.726921535334445.\n",
      "[I 2025-02-23 07:29:50,458] Trial 1 finished with value: 0.734983255428263 and parameters: {'num_iterations': 1510, 'objective': 'binary', 'metric': 'auc', 'verbose': -1, 'learning_rate': 0.005231880959249543, 'n_estimators': 1411, 'min_child_samples': 10, 'subsample': 1.0, 'colsample_bytree': 0.5}. Best is trial 1 with value: 0.734983255428263.\n",
      "[I 2025-02-23 07:30:09,944] Trial 2 finished with value: 0.7344062884504002 and parameters: {'num_iterations': 2334, 'objective': 'binary', 'metric': 'auc', 'verbose': -1, 'learning_rate': 0.006578527777128852, 'n_estimators': 931, 'min_child_samples': 15, 'subsample': 0.5, 'colsample_bytree': 1.0}. Best is trial 1 with value: 0.734983255428263.\n",
      "[I 2025-02-23 07:30:26,246] Trial 3 finished with value: 0.7350841695479208 and parameters: {'num_iterations': 1620, 'objective': 'binary', 'metric': 'auc', 'verbose': -1, 'learning_rate': 0.0058823249237283685, 'n_estimators': 837, 'min_child_samples': 10, 'subsample': 0.9, 'colsample_bytree': 0.6}. Best is trial 3 with value: 0.7350841695479208.\n",
      "[I 2025-02-23 07:30:42,626] Trial 4 finished with value: 0.7345028341653662 and parameters: {'num_iterations': 1997, 'objective': 'binary', 'metric': 'auc', 'verbose': -1, 'learning_rate': 0.010907507425244923, 'n_estimators': 1597, 'min_child_samples': 50, 'subsample': 0.6, 'colsample_bytree': 0.8}. Best is trial 3 with value: 0.7350841695479208.\n",
      "[I 2025-02-23 07:31:05,307] Trial 5 finished with value: 0.7315110567579197 and parameters: {'num_iterations': 2909, 'objective': 'binary', 'metric': 'auc', 'verbose': -1, 'learning_rate': 0.019760591962733942, 'n_estimators': 612, 'min_child_samples': 30, 'subsample': 0.7, 'colsample_bytree': 0.9}. Best is trial 3 with value: 0.7350841695479208.\n",
      "[I 2025-02-23 07:31:25,941] Trial 6 finished with value: 0.7324508554869299 and parameters: {'num_iterations': 2639, 'objective': 'binary', 'metric': 'auc', 'verbose': -1, 'learning_rate': 0.017862094446750985, 'n_estimators': 794, 'min_child_samples': 35, 'subsample': 1.0, 'colsample_bytree': 0.8}. Best is trial 3 with value: 0.7350841695479208.\n",
      "[I 2025-02-23 07:31:42,265] Trial 7 finished with value: 0.7342261116132482 and parameters: {'num_iterations': 1580, 'objective': 'binary', 'metric': 'auc', 'verbose': -1, 'learning_rate': 0.01776722177611332, 'n_estimators': 529, 'min_child_samples': 25, 'subsample': 0.8, 'colsample_bytree': 0.5}. Best is trial 3 with value: 0.7350841695479208.\n",
      "[I 2025-02-23 07:31:59,682] Trial 8 finished with value: 0.7322659726865417 and parameters: {'num_iterations': 1911, 'objective': 'binary', 'metric': 'auc', 'verbose': -1, 'learning_rate': 0.0304747553332844, 'n_estimators': 1328, 'min_child_samples': 10, 'subsample': 0.7, 'colsample_bytree': 0.6}. Best is trial 3 with value: 0.7350841695479208.\n",
      "[I 2025-02-23 07:32:26,878] Trial 9 finished with value: 0.7317307398585936 and parameters: {'num_iterations': 2739, 'objective': 'binary', 'metric': 'auc', 'verbose': -1, 'learning_rate': 0.02691531614176271, 'n_estimators': 1438, 'min_child_samples': 20, 'subsample': 0.6, 'colsample_bytree': 0.5}. Best is trial 3 with value: 0.7350841695479208.\n",
      "[I 2025-02-23 07:32:41,621] Trial 10 finished with value: 0.7236380398329566 and parameters: {'num_iterations': 1883, 'objective': 'binary', 'metric': 'auc', 'verbose': -1, 'learning_rate': 0.08223556891145911, 'n_estimators': 1917, 'min_child_samples': 40, 'subsample': 0.9, 'colsample_bytree': 0.7}. Best is trial 3 with value: 0.7350841695479208.\n",
      "[I 2025-02-23 07:32:57,069] Trial 11 finished with value: 0.7348897715678584 and parameters: {'num_iterations': 1513, 'objective': 'binary', 'metric': 'auc', 'verbose': -1, 'learning_rate': 0.005340229419903739, 'n_estimators': 1206, 'min_child_samples': 10, 'subsample': 1.0, 'colsample_bytree': 0.6}. Best is trial 3 with value: 0.7350841695479208.\n",
      "[I 2025-02-23 07:33:13,635] Trial 12 finished with value: 0.7350986686802206 and parameters: {'num_iterations': 1698, 'objective': 'binary', 'metric': 'auc', 'verbose': -1, 'learning_rate': 0.008515343845233947, 'n_estimators': 1719, 'min_child_samples': 20, 'subsample': 0.9, 'colsample_bytree': 0.6}. Best is trial 12 with value: 0.7350986686802206.\n",
      "[I 2025-02-23 07:33:28,697] Trial 13 finished with value: 0.7347479135824074 and parameters: {'num_iterations': 1785, 'objective': 'binary', 'metric': 'auc', 'verbose': -1, 'learning_rate': 0.010668787980411185, 'n_estimators': 2000, 'min_child_samples': 20, 'subsample': 0.9, 'colsample_bytree': 0.7}. Best is trial 12 with value: 0.7350986686802206.\n",
      "[I 2025-02-23 07:33:49,442] Trial 14 finished with value: 0.7346966205687717 and parameters: {'num_iterations': 2165, 'objective': 'binary', 'metric': 'auc', 'verbose': -1, 'learning_rate': 0.00865004642514095, 'n_estimators': 1729, 'min_child_samples': 20, 'subsample': 0.9, 'colsample_bytree': 0.6}. Best is trial 12 with value: 0.7350986686802206.\n",
      "[I 2025-02-23 07:34:04,456] Trial 15 finished with value: 0.7348908835254163 and parameters: {'num_iterations': 1739, 'objective': 'binary', 'metric': 'auc', 'verbose': -1, 'learning_rate': 0.008303365162986591, 'n_estimators': 1062, 'min_child_samples': 25, 'subsample': 0.8, 'colsample_bytree': 0.7}. Best is trial 12 with value: 0.7350986686802206.\n",
      "[I 2025-02-23 07:34:23,855] Trial 16 finished with value: 0.7343007517643232 and parameters: {'num_iterations': 2069, 'objective': 'binary', 'metric': 'auc', 'verbose': -1, 'learning_rate': 0.012740247908029537, 'n_estimators': 259, 'min_child_samples': 15, 'subsample': 0.9, 'colsample_bytree': 0.6}. Best is trial 12 with value: 0.7350986686802206.\n",
      "[I 2025-02-23 07:34:39,235] Trial 17 finished with value: 0.7298488787726873 and parameters: {'num_iterations': 1702, 'objective': 'binary', 'metric': 'auc', 'verbose': -1, 'learning_rate': 0.04711197790610658, 'n_estimators': 651, 'min_child_samples': 15, 'subsample': 0.8, 'colsample_bytree': 0.6}. Best is trial 12 with value: 0.7350986686802206.\n",
      "[I 2025-02-23 07:34:53,989] Trial 18 finished with value: 0.7349604523557718 and parameters: {'num_iterations': 1688, 'objective': 'binary', 'metric': 'auc', 'verbose': -1, 'learning_rate': 0.0073438836454159315, 'n_estimators': 1082, 'min_child_samples': 30, 'subsample': 0.9, 'colsample_bytree': 0.7}. Best is trial 12 with value: 0.7350986686802206.\n",
      "[I 2025-02-23 07:35:13,786] Trial 19 finished with value: 0.7340909134593138 and parameters: {'num_iterations': 2481, 'objective': 'binary', 'metric': 'auc', 'verbose': -1, 'learning_rate': 0.013452330775004216, 'n_estimators': 1697, 'min_child_samples': 25, 'subsample': 1.0, 'colsample_bytree': 0.8}. Best is trial 12 with value: 0.7350986686802206.\n",
      "[I 2025-02-23 07:35:29,597] Trial 20 finished with value: 0.729579812842611 and parameters: {'num_iterations': 2051, 'objective': 'binary', 'metric': 'auc', 'verbose': -1, 'learning_rate': 0.03844621393609847, 'n_estimators': 443, 'min_child_samples': 15, 'subsample': 0.8, 'colsample_bytree': 0.9}. Best is trial 12 with value: 0.7350986686802206.\n",
      "[I 2025-02-23 07:35:46,432] Trial 21 finished with value: 0.7350053238145107 and parameters: {'num_iterations': 1511, 'objective': 'binary', 'metric': 'auc', 'verbose': -1, 'learning_rate': 0.005176253721621948, 'n_estimators': 1452, 'min_child_samples': 10, 'subsample': 1.0, 'colsample_bytree': 0.5}. Best is trial 12 with value: 0.7350986686802206.\n",
      "[I 2025-02-23 07:36:04,686] Trial 22 finished with value: 0.7350236433152774 and parameters: {'num_iterations': 1630, 'objective': 'binary', 'metric': 'auc', 'verbose': -1, 'learning_rate': 0.005009110270923981, 'n_estimators': 1551, 'min_child_samples': 10, 'subsample': 1.0, 'colsample_bytree': 0.5}. Best is trial 12 with value: 0.7350986686802206.\n",
      "[I 2025-02-23 07:36:22,879] Trial 23 finished with value: 0.7350477807368381 and parameters: {'num_iterations': 1854, 'objective': 'binary', 'metric': 'auc', 'verbose': -1, 'learning_rate': 0.007239546355113976, 'n_estimators': 1795, 'min_child_samples': 15, 'subsample': 0.9, 'colsample_bytree': 0.6}. Best is trial 12 with value: 0.7350986686802206.\n",
      "[I 2025-02-23 07:36:40,616] Trial 24 finished with value: 0.7347509476380298 and parameters: {'num_iterations': 1845, 'objective': 'binary', 'metric': 'auc', 'verbose': -1, 'learning_rate': 0.009575186891312287, 'n_estimators': 1778, 'min_child_samples': 20, 'subsample': 0.9, 'colsample_bytree': 0.6}. Best is trial 12 with value: 0.7350986686802206.\n",
      "[I 2025-02-23 07:36:57,458] Trial 25 finished with value: 0.7350497941742733 and parameters: {'num_iterations': 1943, 'objective': 'binary', 'metric': 'auc', 'verbose': -1, 'learning_rate': 0.006771895086100297, 'n_estimators': 866, 'min_child_samples': 15, 'subsample': 0.8, 'colsample_bytree': 0.7}. Best is trial 12 with value: 0.7350986686802206.\n",
      "[I 2025-02-23 07:37:15,393] Trial 26 finished with value: 0.734242731407462 and parameters: {'num_iterations': 2168, 'objective': 'binary', 'metric': 'auc', 'verbose': -1, 'learning_rate': 0.013575035024023, 'n_estimators': 888, 'min_child_samples': 20, 'subsample': 0.8, 'colsample_bytree': 0.7}. Best is trial 12 with value: 0.7350986686802206.\n",
      "[I 2025-02-23 07:37:32,531] Trial 27 finished with value: 0.7349057758141384 and parameters: {'num_iterations': 1970, 'objective': 'binary', 'metric': 'auc', 'verbose': -1, 'learning_rate': 0.00643697630241025, 'n_estimators': 764, 'min_child_samples': 15, 'subsample': 0.8, 'colsample_bytree': 0.7}. Best is trial 12 with value: 0.7350986686802206.\n",
      "[I 2025-02-23 07:37:47,842] Trial 28 finished with value: 0.7350805993699044 and parameters: {'num_iterations': 1769, 'objective': 'binary', 'metric': 'auc', 'verbose': -1, 'learning_rate': 0.006410825281484129, 'n_estimators': 1199, 'min_child_samples': 25, 'subsample': 0.7, 'colsample_bytree': 0.8}. Best is trial 12 with value: 0.7350986686802206.\n",
      "[I 2025-02-23 07:38:01,234] Trial 29 finished with value: 0.7344497977611306 and parameters: {'num_iterations': 1637, 'objective': 'binary', 'metric': 'auc', 'verbose': -1, 'learning_rate': 0.014716174571191286, 'n_estimators': 1217, 'min_child_samples': 35, 'subsample': 0.6, 'colsample_bytree': 0.9}. Best is trial 12 with value: 0.7350986686802206.\n",
      "[I 2025-02-23 07:38:16,099] Trial 30 finished with value: 0.7353604751159545 and parameters: {'num_iterations': 1780, 'objective': 'binary', 'metric': 'auc', 'verbose': -1, 'learning_rate': 0.009810680371255053, 'n_estimators': 104, 'min_child_samples': 25, 'subsample': 0.7, 'colsample_bytree': 0.8}. Best is trial 30 with value: 0.7353604751159545.\n",
      "[I 2025-02-23 07:38:31,022] Trial 31 finished with value: 0.7351792220627376 and parameters: {'num_iterations': 1767, 'objective': 'binary', 'metric': 'auc', 'verbose': -1, 'learning_rate': 0.009114646116669619, 'n_estimators': 243, 'min_child_samples': 25, 'subsample': 0.7, 'colsample_bytree': 0.8}. Best is trial 30 with value: 0.7353604751159545.\n",
      "[I 2025-02-23 07:38:44,364] Trial 32 finished with value: 0.7350643925884979 and parameters: {'num_iterations': 1591, 'objective': 'binary', 'metric': 'auc', 'verbose': -1, 'learning_rate': 0.010715970234016605, 'n_estimators': 109, 'min_child_samples': 35, 'subsample': 0.7, 'colsample_bytree': 0.8}. Best is trial 30 with value: 0.7353604751159545.\n",
      "[I 2025-02-23 07:38:59,514] Trial 33 finished with value: 0.7350659890418488 and parameters: {'num_iterations': 1787, 'objective': 'binary', 'metric': 'auc', 'verbose': -1, 'learning_rate': 0.008477300028616535, 'n_estimators': 332, 'min_child_samples': 30, 'subsample': 0.6, 'colsample_bytree': 0.9}. Best is trial 30 with value: 0.7353604751159545.\n",
      "[I 2025-02-23 07:39:18,810] Trial 34 finished with value: 0.7345481226081892 and parameters: {'num_iterations': 2344, 'objective': 'binary', 'metric': 'auc', 'verbose': -1, 'learning_rate': 0.011462757020826149, 'n_estimators': 158, 'min_child_samples': 25, 'subsample': 0.5, 'colsample_bytree': 0.8}. Best is trial 30 with value: 0.7353604751159545.\n",
      "[I 2025-02-23 07:39:33,040] Trial 35 finished with value: 0.7349474861363912 and parameters: {'num_iterations': 1684, 'objective': 'binary', 'metric': 'auc', 'verbose': -1, 'learning_rate': 0.009314177811692212, 'n_estimators': 362, 'min_child_samples': 30, 'subsample': 0.7, 'colsample_bytree': 1.0}. Best is trial 30 with value: 0.7353604751159545.\n",
      "[I 2025-02-23 07:39:50,827] Trial 36 finished with value: 0.7336694775735872 and parameters: {'num_iterations': 2238, 'objective': 'binary', 'metric': 'auc', 'verbose': -1, 'learning_rate': 0.015983293528165726, 'n_estimators': 234, 'min_child_samples': 30, 'subsample': 0.6, 'colsample_bytree': 0.9}. Best is trial 30 with value: 0.7353604751159545.\n",
      "[I 2025-02-23 07:40:04,708] Trial 37 finished with value: 0.7351911835490391 and parameters: {'num_iterations': 1570, 'objective': 'binary', 'metric': 'auc', 'verbose': -1, 'learning_rate': 0.005848978413501868, 'n_estimators': 521, 'min_child_samples': 45, 'subsample': 0.7, 'colsample_bytree': 0.8}. Best is trial 30 with value: 0.7353604751159545.\n",
      "[I 2025-02-23 07:40:16,947] Trial 38 finished with value: 0.7336826701557565 and parameters: {'num_iterations': 1506, 'objective': 'binary', 'metric': 'auc', 'verbose': -1, 'learning_rate': 0.021821913690808496, 'n_estimators': 468, 'min_child_samples': 50, 'subsample': 0.7, 'colsample_bytree': 0.8}. Best is trial 30 with value: 0.7353604751159545.\n",
      "[I 2025-02-23 07:40:33,960] Trial 39 finished with value: 0.734771653876269 and parameters: {'num_iterations': 2035, 'objective': 'binary', 'metric': 'auc', 'verbose': -1, 'learning_rate': 0.007834120833629589, 'n_estimators': 200, 'min_child_samples': 40, 'subsample': 0.5, 'colsample_bytree': 1.0}. Best is trial 30 with value: 0.7353604751159545.\n"
     ]
    },
    {
     "name": "stdout",
     "output_type": "stream",
     "text": [
      "Cat val score : 0.7354736207687493\n",
      "LGBM val score : 0.7349416364453811\n",
      "Ensemble val score : 0.7356523361759681\n"
     ]
    },
    {
     "name": "stderr",
     "output_type": "stream",
     "text": [
      "[I 2025-02-23 07:40:49,799] A new study created in memory with name: no-name-07e9d031-207b-49eb-bfdb-0063db2016bb\n"
     ]
    },
    {
     "name": "stdout",
     "output_type": "stream",
     "text": [
      "==================================================\n",
      "0:\ttest: 0.7276999\tbest: 0.7276999 (0)\ttotal: 130ms\tremaining: 5m 7s\n",
      "300:\ttest: 0.7398668\tbest: 0.7398668 (300)\ttotal: 39s\tremaining: 4m 27s\n",
      "600:\ttest: 0.7415244\tbest: 0.7415244 (600)\ttotal: 1m 19s\tremaining: 3m 53s\n",
      "900:\ttest: 0.7421781\tbest: 0.7421802 (899)\ttotal: 2m\tremaining: 3m 15s\n",
      "1200:\ttest: 0.7424817\tbest: 0.7424817 (1200)\ttotal: 2m 42s\tremaining: 2m 37s\n",
      "1500:\ttest: 0.7426042\tbest: 0.7426087 (1497)\ttotal: 3m 30s\tremaining: 2m 1s\n"
     ]
    },
    {
     "name": "stderr",
     "output_type": "stream",
     "text": [
      "[I 2025-02-23 07:45:08,702] Trial 0 finished with value: 0.7426087347157264 and parameters: {'iterations': 2366, 'depth': 10, 'learning_rate': 0.01181021951839225, 'l2_leaf_reg': 9.980783802743254}. Best is trial 0 with value: 0.7426087347157264.\n"
     ]
    },
    {
     "name": "stdout",
     "output_type": "stream",
     "text": [
      "Stopped by overfitting detector  (300 iterations wait)\n",
      "\n",
      "bestTest = 0.7426087347\n",
      "bestIteration = 1497\n",
      "\n",
      "Shrink model to first 1498 iterations.\n",
      "저장 완료\n",
      "0:\ttest: 0.6943640\tbest: 0.6943640 (0)\ttotal: 54.9ms\tremaining: 2m\n",
      "300:\ttest: 0.7293559\tbest: 0.7293559 (300)\ttotal: 12.9s\tremaining: 1m 21s\n",
      "600:\ttest: 0.7343203\tbest: 0.7343203 (600)\ttotal: 25.8s\tremaining: 1m 8s\n",
      "900:\ttest: 0.7366064\tbest: 0.7366064 (900)\ttotal: 39.1s\tremaining: 56.1s\n",
      "1200:\ttest: 0.7379071\tbest: 0.7379071 (1200)\ttotal: 52.6s\tremaining: 43.5s\n",
      "1500:\ttest: 0.7387880\tbest: 0.7387880 (1500)\ttotal: 1m 6s\tremaining: 30.6s\n",
      "1800:\ttest: 0.7393767\tbest: 0.7393771 (1799)\ttotal: 1m 20s\tremaining: 17.5s\n",
      "2100:\ttest: 0.7398518\tbest: 0.7398518 (2100)\ttotal: 1m 34s\tremaining: 4.12s\n"
     ]
    },
    {
     "name": "stderr",
     "output_type": "stream",
     "text": [
      "[I 2025-02-23 07:46:47,470] Trial 1 finished with value: 0.740013040561686 and parameters: {'iterations': 2193, 'depth': 4, 'learning_rate': 0.005671430811678843, 'l2_leaf_reg': 0.00012325230809466137}. Best is trial 0 with value: 0.7426087347157264.\n"
     ]
    },
    {
     "name": "stdout",
     "output_type": "stream",
     "text": [
      "2192:\ttest: 0.7400130\tbest: 0.7400130 (2192)\ttotal: 1m 38s\tremaining: 0us\n",
      "\n",
      "bestTest = 0.7400130406\n",
      "bestIteration = 2192\n",
      "\n",
      "0:\ttest: 0.6943640\tbest: 0.6943640 (0)\ttotal: 57ms\tremaining: 2m 24s\n",
      "300:\ttest: 0.7417021\tbest: 0.7417255 (297)\ttotal: 14.1s\tremaining: 1m 44s\n",
      "600:\ttest: 0.7419565\tbest: 0.7420987 (559)\ttotal: 28.7s\tremaining: 1m 32s\n"
     ]
    },
    {
     "name": "stderr",
     "output_type": "stream",
     "text": [
      "[I 2025-02-23 07:47:29,216] Trial 2 finished with value: 0.742098703611573 and parameters: {'iterations': 2535, 'depth': 4, 'learning_rate': 0.09275339199839054, 'l2_leaf_reg': 0.0008705394248343123}. Best is trial 0 with value: 0.7426087347157264.\n"
     ]
    },
    {
     "name": "stdout",
     "output_type": "stream",
     "text": [
      "Stopped by overfitting detector  (300 iterations wait)\n",
      "\n",
      "bestTest = 0.7420987036\n",
      "bestIteration = 559\n",
      "\n",
      "Shrink model to first 560 iterations.\n",
      "0:\ttest: 0.6943640\tbest: 0.6943640 (0)\ttotal: 51.6ms\tremaining: 2m\n",
      "300:\ttest: 0.7403322\tbest: 0.7403322 (300)\ttotal: 13.6s\tremaining: 1m 32s\n",
      "600:\ttest: 0.7413935\tbest: 0.7414061 (598)\ttotal: 28.1s\tremaining: 1m 20s\n",
      "900:\ttest: 0.7416791\tbest: 0.7416791 (900)\ttotal: 42.7s\tremaining: 1m 7s\n",
      "1200:\ttest: 0.7415712\tbest: 0.7417196 (1030)\ttotal: 57.4s\tremaining: 54.2s\n"
     ]
    },
    {
     "name": "stderr",
     "output_type": "stream",
     "text": [
      "[I 2025-02-23 07:48:33,316] Trial 3 finished with value: 0.7417195737396481 and parameters: {'iterations': 2334, 'depth': 4, 'learning_rate': 0.04657568321363276, 'l2_leaf_reg': 0.0008640473331457248}. Best is trial 0 with value: 0.7426087347157264.\n"
     ]
    },
    {
     "name": "stdout",
     "output_type": "stream",
     "text": [
      "Stopped by overfitting detector  (300 iterations wait)\n",
      "\n",
      "bestTest = 0.7417195737\n",
      "bestIteration = 1030\n",
      "\n",
      "Shrink model to first 1031 iterations.\n",
      "0:\ttest: 0.7276673\tbest: 0.7276673 (0)\ttotal: 133ms\tremaining: 3m 52s\n",
      "300:\ttest: 0.7395024\tbest: 0.7395024 (300)\ttotal: 37.3s\tremaining: 2m 58s\n",
      "600:\ttest: 0.7403629\tbest: 0.7404228 (516)\ttotal: 1m 15s\tremaining: 2m 24s\n",
      "900:\ttest: 0.7403105\tbest: 0.7404553 (616)\ttotal: 1m 55s\tremaining: 1m 47s\n"
     ]
    },
    {
     "name": "stderr",
     "output_type": "stream",
     "text": [
      "[I 2025-02-23 07:50:31,201] Trial 4 finished with value: 0.7404552700537455 and parameters: {'iterations': 1742, 'depth': 10, 'learning_rate': 0.012622767482095846, 'l2_leaf_reg': 0.00021158816350109617}. Best is trial 0 with value: 0.7426087347157264.\n"
     ]
    },
    {
     "name": "stdout",
     "output_type": "stream",
     "text": [
      "Stopped by overfitting detector  (300 iterations wait)\n",
      "\n",
      "bestTest = 0.7404552701\n",
      "bestIteration = 616\n",
      "\n",
      "Shrink model to first 617 iterations.\n",
      "0:\ttest: 0.6943640\tbest: 0.6943640 (0)\ttotal: 55.6ms\tremaining: 1m 55s\n",
      "300:\ttest: 0.7412453\tbest: 0.7412484 (299)\ttotal: 14s\tremaining: 1m 22s\n",
      "600:\ttest: 0.7415411\tbest: 0.7416729 (470)\ttotal: 28.7s\tremaining: 1m 10s\n"
     ]
    },
    {
     "name": "stderr",
     "output_type": "stream",
     "text": [
      "[I 2025-02-23 07:51:08,414] Trial 5 finished with value: 0.7416729032924316 and parameters: {'iterations': 2082, 'depth': 4, 'learning_rate': 0.06995196593094148, 'l2_leaf_reg': 0.0018080296485396804}. Best is trial 0 with value: 0.7426087347157264.\n"
     ]
    },
    {
     "name": "stdout",
     "output_type": "stream",
     "text": [
      "Stopped by overfitting detector  (300 iterations wait)\n",
      "\n",
      "bestTest = 0.7416729033\n",
      "bestIteration = 470\n",
      "\n",
      "Shrink model to first 471 iterations.\n",
      "0:\ttest: 0.7028774\tbest: 0.7028774 (0)\ttotal: 65.1ms\tremaining: 2m 9s\n",
      "300:\ttest: 0.7420459\tbest: 0.7420459 (300)\ttotal: 17.1s\tremaining: 1m 36s\n",
      "600:\ttest: 0.7426518\tbest: 0.7426518 (600)\ttotal: 35.3s\tremaining: 1m 22s\n",
      "900:\ttest: 0.7427593\tbest: 0.7427853 (784)\ttotal: 53.3s\tremaining: 1m 4s\n"
     ]
    },
    {
     "name": "stderr",
     "output_type": "stream",
     "text": [
      "[I 2025-02-23 07:52:13,062] Trial 6 finished with value: 0.7427853413748622 and parameters: {'iterations': 1997, 'depth': 5, 'learning_rate': 0.07985155992831598, 'l2_leaf_reg': 62.52181000710482}. Best is trial 6 with value: 0.7427853413748622.\n"
     ]
    },
    {
     "name": "stdout",
     "output_type": "stream",
     "text": [
      "Stopped by overfitting detector  (300 iterations wait)\n",
      "\n",
      "bestTest = 0.7427853414\n",
      "bestIteration = 784\n",
      "\n",
      "Shrink model to first 785 iterations.\n",
      "저장 완료\n",
      "0:\ttest: 0.7176315\tbest: 0.7176315 (0)\ttotal: 81.5ms\tremaining: 2m 37s\n",
      "300:\ttest: 0.7414624\tbest: 0.7423255 (197)\ttotal: 24s\tremaining: 2m 9s\n"
     ]
    },
    {
     "name": "stderr",
     "output_type": "stream",
     "text": [
      "[I 2025-02-23 07:52:53,637] Trial 7 finished with value: 0.7423254635278477 and parameters: {'iterations': 1927, 'depth': 7, 'learning_rate': 0.0941937211034094, 'l2_leaf_reg': 0.05654822767791934}. Best is trial 6 with value: 0.7427853413748622.\n"
     ]
    },
    {
     "name": "stdout",
     "output_type": "stream",
     "text": [
      "Stopped by overfitting detector  (300 iterations wait)\n",
      "\n",
      "bestTest = 0.7423254635\n",
      "bestIteration = 197\n",
      "\n",
      "Shrink model to first 198 iterations.\n",
      "0:\ttest: 0.7176310\tbest: 0.7176310 (0)\ttotal: 80.8ms\tremaining: 2m 33s\n",
      "300:\ttest: 0.7418203\tbest: 0.7418550 (293)\ttotal: 22.7s\tremaining: 2m 1s\n",
      "600:\ttest: 0.7417616\tbest: 0.7420941 (452)\ttotal: 47.8s\tremaining: 1m 43s\n"
     ]
    },
    {
     "name": "stderr",
     "output_type": "stream",
     "text": [
      "[I 2025-02-23 07:53:54,458] Trial 8 finished with value: 0.7420940850164307 and parameters: {'iterations': 1904, 'depth': 7, 'learning_rate': 0.05155602859187331, 'l2_leaf_reg': 1.299974533316308}. Best is trial 6 with value: 0.7427853413748622.\n"
     ]
    },
    {
     "name": "stdout",
     "output_type": "stream",
     "text": [
      "Stopped by overfitting detector  (300 iterations wait)\n",
      "\n",
      "bestTest = 0.742094085\n",
      "bestIteration = 452\n",
      "\n",
      "Shrink model to first 453 iterations.\n",
      "0:\ttest: 0.7175361\tbest: 0.7175361 (0)\ttotal: 72.7ms\tremaining: 3m 11s\n",
      "300:\ttest: 0.7414517\tbest: 0.7414517 (300)\ttotal: 19.4s\tremaining: 2m 30s\n",
      "600:\ttest: 0.7424594\tbest: 0.7424951 (594)\ttotal: 40.9s\tremaining: 2m 18s\n",
      "900:\ttest: 0.7424805\tbest: 0.7425823 (748)\ttotal: 1m 2s\tremaining: 2m\n"
     ]
    },
    {
     "name": "stderr",
     "output_type": "stream",
     "text": [
      "[I 2025-02-23 07:55:08,232] Trial 9 finished with value: 0.742582305867341 and parameters: {'iterations': 2639, 'depth': 6, 'learning_rate': 0.03968704290444751, 'l2_leaf_reg': 0.30557194377967184}. Best is trial 6 with value: 0.7427853413748622.\n"
     ]
    },
    {
     "name": "stdout",
     "output_type": "stream",
     "text": [
      "Stopped by overfitting detector  (300 iterations wait)\n",
      "\n",
      "bestTest = 0.7425823059\n",
      "bestIteration = 748\n",
      "\n",
      "Shrink model to first 749 iterations.\n",
      "0:\ttest: 0.7175361\tbest: 0.7175361 (0)\ttotal: 72.7ms\tremaining: 3m 33s\n",
      "300:\ttest: 0.7421740\tbest: 0.7421740 (300)\ttotal: 20.3s\tremaining: 2m 58s\n",
      "600:\ttest: 0.7427999\tbest: 0.7427999 (600)\ttotal: 41.6s\tremaining: 2m 42s\n",
      "900:\ttest: 0.7428935\tbest: 0.7429361 (815)\ttotal: 1m 3s\tremaining: 2m 23s\n",
      "1200:\ttest: 0.7428247\tbest: 0.7429930 (1001)\ttotal: 1m 24s\tremaining: 2m 2s\n"
     ]
    },
    {
     "name": "stderr",
     "output_type": "stream",
     "text": [
      "[I 2025-02-23 07:56:40,110] Trial 10 finished with value: 0.7429930391615726 and parameters: {'iterations': 2945, 'depth': 6, 'learning_rate': 0.07265276039199581, 'l2_leaf_reg': 97.18545559492516}. Best is trial 10 with value: 0.7429930391615726.\n"
     ]
    },
    {
     "name": "stdout",
     "output_type": "stream",
     "text": [
      "Stopped by overfitting detector  (300 iterations wait)\n",
      "\n",
      "bestTest = 0.7429930392\n",
      "bestIteration = 1001\n",
      "\n",
      "Shrink model to first 1002 iterations.\n",
      "저장 완료\n",
      "0:\ttest: 0.7175361\tbest: 0.7175361 (0)\ttotal: 73.9ms\tremaining: 3m 41s\n",
      "300:\ttest: 0.7422888\tbest: 0.7423082 (290)\ttotal: 19.8s\tremaining: 2m 57s\n",
      "600:\ttest: 0.7426348\tbest: 0.7426367 (596)\ttotal: 41.2s\tremaining: 2m 43s\n",
      "900:\ttest: 0.7427150\tbest: 0.7427343 (883)\ttotal: 1m 2s\tremaining: 2m 24s\n",
      "1200:\ttest: 0.7425930\tbest: 0.7427547 (923)\ttotal: 1m 23s\tremaining: 2m 4s\n"
     ]
    },
    {
     "name": "stderr",
     "output_type": "stream",
     "text": [
      "[I 2025-02-23 07:58:05,632] Trial 11 finished with value: 0.7427547188579726 and parameters: {'iterations': 2994, 'depth': 6, 'learning_rate': 0.07131044509072976, 'l2_leaf_reg': 73.1213351392818}. Best is trial 10 with value: 0.7429930391615726.\n"
     ]
    },
    {
     "name": "stdout",
     "output_type": "stream",
     "text": [
      "Stopped by overfitting detector  (300 iterations wait)\n",
      "\n",
      "bestTest = 0.7427547189\n",
      "bestIteration = 923\n",
      "\n",
      "Shrink model to first 924 iterations.\n",
      "0:\ttest: 0.7175361\tbest: 0.7175361 (0)\ttotal: 75.1ms\tremaining: 1m 59s\n",
      "300:\ttest: 0.7422580\tbest: 0.7422858 (263)\ttotal: 19.9s\tremaining: 1m 25s\n",
      "600:\ttest: 0.7425953\tbest: 0.7426511 (542)\ttotal: 41.1s\tremaining: 1m 7s\n",
      "900:\ttest: 0.7427282\tbest: 0.7427504 (893)\ttotal: 1m 2s\tremaining: 47.7s\n",
      "1200:\ttest: 0.7426707\tbest: 0.7427580 (992)\ttotal: 1m 23s\tremaining: 27s\n"
     ]
    },
    {
     "name": "stderr",
     "output_type": "stream",
     "text": [
      "[I 2025-02-23 07:59:36,422] Trial 12 finished with value: 0.7427580070753224 and parameters: {'iterations': 1588, 'depth': 6, 'learning_rate': 0.07382783813729096, 'l2_leaf_reg': 87.13438924619796}. Best is trial 10 with value: 0.7429930391615726.\n"
     ]
    },
    {
     "name": "stdout",
     "output_type": "stream",
     "text": [
      "Stopped by overfitting detector  (300 iterations wait)\n",
      "\n",
      "bestTest = 0.7427580071\n",
      "bestIteration = 992\n",
      "\n",
      "Shrink model to first 993 iterations.\n",
      "0:\ttest: 0.7028774\tbest: 0.7028774 (0)\ttotal: 62.7ms\tremaining: 3m 6s\n",
      "300:\ttest: 0.7422585\tbest: 0.7423140 (280)\ttotal: 17.6s\tremaining: 2m 35s\n",
      "600:\ttest: 0.7425258\tbest: 0.7425567 (532)\ttotal: 35.7s\tremaining: 2m 20s\n"
     ]
    },
    {
     "name": "stderr",
     "output_type": "stream",
     "text": [
      "[I 2025-02-23 08:00:26,347] Trial 13 finished with value: 0.742556707015847 and parameters: {'iterations': 2975, 'depth': 5, 'learning_rate': 0.07888750974731618, 'l2_leaf_reg': 6.819372056732044}. Best is trial 10 with value: 0.7429930391615726.\n"
     ]
    },
    {
     "name": "stdout",
     "output_type": "stream",
     "text": [
      "Stopped by overfitting detector  (300 iterations wait)\n",
      "\n",
      "bestTest = 0.742556707\n",
      "bestIteration = 532\n",
      "\n",
      "Shrink model to first 533 iterations.\n",
      "0:\ttest: 0.7201628\tbest: 0.7201628 (0)\ttotal: 94.4ms\tremaining: 4m 15s\n",
      "300:\ttest: 0.7425150\tbest: 0.7425439 (283)\ttotal: 26.3s\tremaining: 3m 29s\n",
      "600:\ttest: 0.7423875\tbest: 0.7428031 (459)\ttotal: 55.4s\tremaining: 3m 13s\n"
     ]
    },
    {
     "name": "stderr",
     "output_type": "stream",
     "text": [
      "[I 2025-02-23 08:01:37,286] Trial 14 finished with value: 0.742803053270249 and parameters: {'iterations': 2702, 'depth': 8, 'learning_rate': 0.06308101933412968, 'l2_leaf_reg': 11.438982664164415}. Best is trial 10 with value: 0.7429930391615726.\n"
     ]
    },
    {
     "name": "stdout",
     "output_type": "stream",
     "text": [
      "Stopped by overfitting detector  (300 iterations wait)\n",
      "\n",
      "bestTest = 0.7428030533\n",
      "bestIteration = 459\n",
      "\n",
      "Shrink model to first 460 iterations.\n",
      "0:\ttest: 0.7243393\tbest: 0.7243393 (0)\ttotal: 107ms\tremaining: 4m 53s\n",
      "300:\ttest: 0.7418302\tbest: 0.7418302 (300)\ttotal: 28s\tremaining: 3m 47s\n",
      "600:\ttest: 0.7425456\tbest: 0.7425850 (588)\ttotal: 1m\tremaining: 3m 37s\n"
     ]
    },
    {
     "name": "stderr",
     "output_type": "stream",
     "text": [
      "[I 2025-02-23 08:03:10,510] Trial 15 finished with value: 0.7425849507378179 and parameters: {'iterations': 2753, 'depth': 9, 'learning_rate': 0.03259885190735587, 'l2_leaf_reg': 4.722389127363701}. Best is trial 10 with value: 0.7429930391615726.\n"
     ]
    },
    {
     "name": "stdout",
     "output_type": "stream",
     "text": [
      "Stopped by overfitting detector  (300 iterations wait)\n",
      "\n",
      "bestTest = 0.7425849507\n",
      "bestIteration = 588\n",
      "\n",
      "Shrink model to first 589 iterations.\n",
      "0:\ttest: 0.7201725\tbest: 0.7201725 (0)\ttotal: 92.4ms\tremaining: 4m 19s\n",
      "300:\ttest: 0.7414156\tbest: 0.7414949 (210)\ttotal: 26.1s\tremaining: 3m 37s\n",
      "600:\ttest: 0.7399978\tbest: 0.7415978 (374)\ttotal: 55s\tremaining: 3m 22s\n"
     ]
    },
    {
     "name": "stderr",
     "output_type": "stream",
     "text": [
      "[I 2025-02-23 08:04:12,864] Trial 16 finished with value: 0.7415977548179016 and parameters: {'iterations': 2815, 'depth': 8, 'learning_rate': 0.061662991475729484, 'l2_leaf_reg': 0.03562900678874207}. Best is trial 10 with value: 0.7429930391615726.\n"
     ]
    },
    {
     "name": "stdout",
     "output_type": "stream",
     "text": [
      "Stopped by overfitting detector  (300 iterations wait)\n",
      "\n",
      "bestTest = 0.7415977548\n",
      "bestIteration = 374\n",
      "\n",
      "Shrink model to first 375 iterations.\n",
      "0:\ttest: 0.7201714\tbest: 0.7201714 (0)\ttotal: 95.7ms\tremaining: 4m 5s\n",
      "300:\ttest: 0.7424920\tbest: 0.7425204 (279)\ttotal: 26.3s\tremaining: 3m 17s\n",
      "600:\ttest: 0.7418196\tbest: 0.7425790 (311)\ttotal: 55.4s\tremaining: 3m 1s\n"
     ]
    },
    {
     "name": "stderr",
     "output_type": "stream",
     "text": [
      "[I 2025-02-23 08:05:09,465] Trial 17 finished with value: 0.7425789501382822 and parameters: {'iterations': 2565, 'depth': 8, 'learning_rate': 0.06074791161960117, 'l2_leaf_reg': 0.5610725433980096}. Best is trial 10 with value: 0.7429930391615726.\n"
     ]
    },
    {
     "name": "stdout",
     "output_type": "stream",
     "text": [
      "Stopped by overfitting detector  (300 iterations wait)\n",
      "\n",
      "bestTest = 0.7425789501\n",
      "bestIteration = 311\n",
      "\n",
      "Shrink model to first 312 iterations.\n",
      "0:\ttest: 0.7201599\tbest: 0.7201599 (0)\ttotal: 93.2ms\tremaining: 4m 22s\n",
      "300:\ttest: 0.7415299\tbest: 0.7415299 (300)\ttotal: 25s\tremaining: 3m 28s\n",
      "600:\ttest: 0.7424543\tbest: 0.7424759 (573)\ttotal: 52.3s\tremaining: 3m 13s\n",
      "900:\ttest: 0.7425048\tbest: 0.7425999 (718)\ttotal: 1m 20s\tremaining: 2m 52s\n"
     ]
    },
    {
     "name": "stderr",
     "output_type": "stream",
     "text": [
      "[I 2025-02-23 08:06:41,828] Trial 18 finished with value: 0.742599886710587 and parameters: {'iterations': 2818, 'depth': 8, 'learning_rate': 0.031028793579317128, 'l2_leaf_reg': 18.78674759977375}. Best is trial 10 with value: 0.7429930391615726.\n"
     ]
    },
    {
     "name": "stdout",
     "output_type": "stream",
     "text": [
      "Stopped by overfitting detector  (300 iterations wait)\n",
      "\n",
      "bestTest = 0.7425998867\n",
      "bestIteration = 718\n",
      "\n",
      "Shrink model to first 719 iterations.\n",
      "0:\ttest: 0.7176315\tbest: 0.7176315 (0)\ttotal: 80ms\tremaining: 3m 16s\n",
      "300:\ttest: 0.7420142\tbest: 0.7420142 (300)\ttotal: 23.6s\tremaining: 2m 49s\n"
     ]
    },
    {
     "name": "stderr",
     "output_type": "stream",
     "text": [
      "[I 2025-02-23 08:07:33,066] Trial 19 finished with value: 0.7420142424924954 and parameters: {'iterations': 2460, 'depth': 7, 'learning_rate': 0.0869018854727605, 'l2_leaf_reg': 0.011209249875988852}. Best is trial 10 with value: 0.7429930391615726.\n",
      "[I 2025-02-23 08:07:33,069] A new study created in memory with name: no-name-1a95a059-ca6f-436d-8104-4ad55f262ed2\n"
     ]
    },
    {
     "name": "stdout",
     "output_type": "stream",
     "text": [
      "600:\ttest: 0.7404285\tbest: 0.7420142 (300)\ttotal: 51.1s\tremaining: 2m 38s\n",
      "Stopped by overfitting detector  (300 iterations wait)\n",
      "\n",
      "bestTest = 0.7420142425\n",
      "bestIteration = 300\n",
      "\n",
      "Shrink model to first 301 iterations.\n"
     ]
    },
    {
     "name": "stderr",
     "output_type": "stream",
     "text": [
      "[I 2025-02-23 08:07:56,097] Trial 0 finished with value: 0.7334550008170505 and parameters: {'num_iterations': 2366, 'objective': 'binary', 'metric': 'auc', 'verbose': -1, 'learning_rate': 0.0652646236447618, 'n_estimators': 236, 'min_child_samples': 45, 'subsample': 0.7, 'colsample_bytree': 0.5}. Best is trial 0 with value: 0.7334550008170505.\n",
      "[I 2025-02-23 08:08:12,902] Trial 1 finished with value: 0.7426047793238418 and parameters: {'num_iterations': 1510, 'objective': 'binary', 'metric': 'auc', 'verbose': -1, 'learning_rate': 0.005231880959249543, 'n_estimators': 1411, 'min_child_samples': 10, 'subsample': 1.0, 'colsample_bytree': 0.5}. Best is trial 1 with value: 0.7426047793238418.\n",
      "[I 2025-02-23 08:08:32,423] Trial 2 finished with value: 0.7420182177407649 and parameters: {'num_iterations': 2334, 'objective': 'binary', 'metric': 'auc', 'verbose': -1, 'learning_rate': 0.006578527777128852, 'n_estimators': 931, 'min_child_samples': 15, 'subsample': 0.5, 'colsample_bytree': 1.0}. Best is trial 1 with value: 0.7426047793238418.\n",
      "[I 2025-02-23 08:08:48,775] Trial 3 finished with value: 0.7426126384810101 and parameters: {'num_iterations': 1620, 'objective': 'binary', 'metric': 'auc', 'verbose': -1, 'learning_rate': 0.0058823249237283685, 'n_estimators': 837, 'min_child_samples': 10, 'subsample': 0.9, 'colsample_bytree': 0.6}. Best is trial 3 with value: 0.7426126384810101.\n",
      "[I 2025-02-23 08:09:05,124] Trial 4 finished with value: 0.7421658062789162 and parameters: {'num_iterations': 1997, 'objective': 'binary', 'metric': 'auc', 'verbose': -1, 'learning_rate': 0.010907507425244923, 'n_estimators': 1597, 'min_child_samples': 50, 'subsample': 0.6, 'colsample_bytree': 0.8}. Best is trial 3 with value: 0.7426126384810101.\n",
      "[I 2025-02-23 08:09:27,645] Trial 5 finished with value: 0.7399679189124966 and parameters: {'num_iterations': 2909, 'objective': 'binary', 'metric': 'auc', 'verbose': -1, 'learning_rate': 0.019760591962733942, 'n_estimators': 612, 'min_child_samples': 30, 'subsample': 0.7, 'colsample_bytree': 0.9}. Best is trial 3 with value: 0.7426126384810101.\n",
      "[I 2025-02-23 08:09:48,512] Trial 6 finished with value: 0.7404793757050903 and parameters: {'num_iterations': 2639, 'objective': 'binary', 'metric': 'auc', 'verbose': -1, 'learning_rate': 0.017862094446750985, 'n_estimators': 794, 'min_child_samples': 35, 'subsample': 1.0, 'colsample_bytree': 0.8}. Best is trial 3 with value: 0.7426126384810101.\n",
      "[I 2025-02-23 08:10:04,825] Trial 7 finished with value: 0.7422809455127612 and parameters: {'num_iterations': 1580, 'objective': 'binary', 'metric': 'auc', 'verbose': -1, 'learning_rate': 0.01776722177611332, 'n_estimators': 529, 'min_child_samples': 25, 'subsample': 0.8, 'colsample_bytree': 0.5}. Best is trial 3 with value: 0.7426126384810101.\n",
      "[I 2025-02-23 08:10:22,238] Trial 8 finished with value: 0.7403903674738562 and parameters: {'num_iterations': 1911, 'objective': 'binary', 'metric': 'auc', 'verbose': -1, 'learning_rate': 0.0304747553332844, 'n_estimators': 1328, 'min_child_samples': 10, 'subsample': 0.7, 'colsample_bytree': 0.6}. Best is trial 3 with value: 0.7426126384810101.\n",
      "[I 2025-02-23 08:10:49,411] Trial 9 finished with value: 0.7396672297037286 and parameters: {'num_iterations': 2739, 'objective': 'binary', 'metric': 'auc', 'verbose': -1, 'learning_rate': 0.02691531614176271, 'n_estimators': 1438, 'min_child_samples': 20, 'subsample': 0.6, 'colsample_bytree': 0.5}. Best is trial 3 with value: 0.7426126384810101.\n",
      "[I 2025-02-23 08:11:03,896] Trial 10 finished with value: 0.7330751878854829 and parameters: {'num_iterations': 1883, 'objective': 'binary', 'metric': 'auc', 'verbose': -1, 'learning_rate': 0.08223556891145911, 'n_estimators': 1917, 'min_child_samples': 40, 'subsample': 0.9, 'colsample_bytree': 0.7}. Best is trial 3 with value: 0.7426126384810101.\n",
      "[I 2025-02-23 08:11:19,508] Trial 11 finished with value: 0.7424674247665004 and parameters: {'num_iterations': 1513, 'objective': 'binary', 'metric': 'auc', 'verbose': -1, 'learning_rate': 0.005340229419903739, 'n_estimators': 1206, 'min_child_samples': 10, 'subsample': 1.0, 'colsample_bytree': 0.6}. Best is trial 3 with value: 0.7426126384810101.\n",
      "[I 2025-02-23 08:11:36,058] Trial 12 finished with value: 0.7427952695673435 and parameters: {'num_iterations': 1698, 'objective': 'binary', 'metric': 'auc', 'verbose': -1, 'learning_rate': 0.008515343845233947, 'n_estimators': 1719, 'min_child_samples': 20, 'subsample': 0.9, 'colsample_bytree': 0.6}. Best is trial 12 with value: 0.7427952695673435.\n",
      "[I 2025-02-23 08:11:51,194] Trial 13 finished with value: 0.7421692493760687 and parameters: {'num_iterations': 1785, 'objective': 'binary', 'metric': 'auc', 'verbose': -1, 'learning_rate': 0.010668787980411185, 'n_estimators': 2000, 'min_child_samples': 20, 'subsample': 0.9, 'colsample_bytree': 0.7}. Best is trial 12 with value: 0.7427952695673435.\n",
      "[I 2025-02-23 08:12:11,972] Trial 14 finished with value: 0.7429210835937445 and parameters: {'num_iterations': 2165, 'objective': 'binary', 'metric': 'auc', 'verbose': -1, 'learning_rate': 0.00865004642514095, 'n_estimators': 1729, 'min_child_samples': 20, 'subsample': 0.9, 'colsample_bytree': 0.6}. Best is trial 14 with value: 0.7429210835937445.\n",
      "[I 2025-02-23 08:12:29,997] Trial 15 finished with value: 0.742282665075699 and parameters: {'num_iterations': 2148, 'objective': 'binary', 'metric': 'auc', 'verbose': -1, 'learning_rate': 0.009840002207772997, 'n_estimators': 1672, 'min_child_samples': 25, 'subsample': 0.8, 'colsample_bytree': 0.7}. Best is trial 14 with value: 0.7429210835937445.\n",
      "[I 2025-02-23 08:12:50,333] Trial 16 finished with value: 0.7425402937280368 and parameters: {'num_iterations': 2120, 'objective': 'binary', 'metric': 'auc', 'verbose': -1, 'learning_rate': 0.008167453404878535, 'n_estimators': 1738, 'min_child_samples': 20, 'subsample': 0.9, 'colsample_bytree': 0.6}. Best is trial 14 with value: 0.7429210835937445.\n",
      "[I 2025-02-23 08:13:13,366] Trial 17 finished with value: 0.7417863587048319 and parameters: {'num_iterations': 2486, 'objective': 'binary', 'metric': 'auc', 'verbose': -1, 'learning_rate': 0.013506554227740967, 'n_estimators': 1178, 'min_child_samples': 25, 'subsample': 0.8, 'colsample_bytree': 0.6}. Best is trial 14 with value: 0.7429210835937445.\n",
      "[I 2025-02-23 08:13:27,250] Trial 18 finished with value: 0.7395621060304588 and parameters: {'num_iterations': 1739, 'objective': 'binary', 'metric': 'auc', 'verbose': -1, 'learning_rate': 0.034837136148039315, 'n_estimators': 1793, 'min_child_samples': 30, 'subsample': 0.9, 'colsample_bytree': 0.7}. Best is trial 14 with value: 0.7429210835937445.\n",
      "[I 2025-02-23 08:13:44,470] Trial 19 finished with value: 0.7422649770079741 and parameters: {'num_iterations': 2058, 'objective': 'binary', 'metric': 'auc', 'verbose': -1, 'learning_rate': 0.007799796217186023, 'n_estimators': 1528, 'min_child_samples': 15, 'subsample': 1.0, 'colsample_bytree': 0.8}. Best is trial 14 with value: 0.7429210835937445.\n",
      "[I 2025-02-23 08:14:02,328] Trial 20 finished with value: 0.7418223662733233 and parameters: {'num_iterations': 2230, 'objective': 'binary', 'metric': 'auc', 'verbose': -1, 'learning_rate': 0.01369383737508208, 'n_estimators': 1871, 'min_child_samples': 30, 'subsample': 0.8, 'colsample_bytree': 0.9}. Best is trial 14 with value: 0.7429210835937445.\n",
      "[I 2025-02-23 08:14:19,752] Trial 21 finished with value: 0.7426305886530163 and parameters: {'num_iterations': 1751, 'objective': 'binary', 'metric': 'auc', 'verbose': -1, 'learning_rate': 0.006562685092841078, 'n_estimators': 922, 'min_child_samples': 15, 'subsample': 0.9, 'colsample_bytree': 0.6}. Best is trial 14 with value: 0.7429210835937445.\n",
      "[I 2025-02-23 08:14:36,563] Trial 22 finished with value: 0.7428091293240475 and parameters: {'num_iterations': 1714, 'objective': 'binary', 'metric': 'auc', 'verbose': -1, 'learning_rate': 0.007898355076273417, 'n_estimators': 1036, 'min_child_samples': 15, 'subsample': 0.9, 'colsample_bytree': 0.6}. Best is trial 14 with value: 0.7429210835937445.\n",
      "[I 2025-02-23 08:14:53,544] Trial 23 finished with value: 0.7392200122877665 and parameters: {'num_iterations': 1695, 'objective': 'binary', 'metric': 'auc', 'verbose': -1, 'learning_rate': 0.04580037242263275, 'n_estimators': 1124, 'min_child_samples': 20, 'subsample': 1.0, 'colsample_bytree': 0.5}. Best is trial 14 with value: 0.7429210835937445.\n",
      "[I 2025-02-23 08:15:09,247] Trial 24 finished with value: 0.7418327313062739 and parameters: {'num_iterations': 1893, 'objective': 'binary', 'metric': 'auc', 'verbose': -1, 'learning_rate': 0.013763055533112498, 'n_estimators': 1359, 'min_child_samples': 15, 'subsample': 0.8, 'colsample_bytree': 0.7}. Best is trial 14 with value: 0.7429210835937445.\n",
      "[I 2025-02-23 08:15:28,124] Trial 25 finished with value: 0.7428355700862639 and parameters: {'num_iterations': 1956, 'objective': 'binary', 'metric': 'auc', 'verbose': -1, 'learning_rate': 0.00837405051737997, 'n_estimators': 1037, 'min_child_samples': 25, 'subsample': 0.9, 'colsample_bytree': 0.6}. Best is trial 14 with value: 0.7429210835937445.\n",
      "[I 2025-02-23 08:15:49,065] Trial 26 finished with value: 0.741873695028452 and parameters: {'num_iterations': 2226, 'objective': 'binary', 'metric': 'auc', 'verbose': -1, 'learning_rate': 0.011686004970307124, 'n_estimators': 631, 'min_child_samples': 25, 'subsample': 0.9, 'colsample_bytree': 0.6}. Best is trial 14 with value: 0.7429210835937445.\n",
      "[I 2025-02-23 08:16:06,163] Trial 27 finished with value: 0.7425794227202444 and parameters: {'num_iterations': 1978, 'objective': 'binary', 'metric': 'auc', 'verbose': -1, 'learning_rate': 0.007149120469466491, 'n_estimators': 1017, 'min_child_samples': 35, 'subsample': 1.0, 'colsample_bytree': 0.7}. Best is trial 14 with value: 0.7429210835937445.\n",
      "[I 2025-02-23 08:16:31,205] Trial 28 finished with value: 0.7423773522330324 and parameters: {'num_iterations': 2400, 'objective': 'binary', 'metric': 'auc', 'verbose': -1, 'learning_rate': 0.008852667065915495, 'n_estimators': 343, 'min_child_samples': 15, 'subsample': 0.8, 'colsample_bytree': 0.5}. Best is trial 14 with value: 0.7429210835937445.\n",
      "[I 2025-02-23 08:16:49,868] Trial 29 finished with value: 0.7411782569153474 and parameters: {'num_iterations': 1843, 'objective': 'binary', 'metric': 'auc', 'verbose': -1, 'learning_rate': 0.023262120366950273, 'n_estimators': 1257, 'min_child_samples': 35, 'subsample': 0.7, 'colsample_bytree': 0.5}. Best is trial 14 with value: 0.7429210835937445.\n",
      "[I 2025-02-23 08:17:09,441] Trial 30 finished with value: 0.7419338161908423 and parameters: {'num_iterations': 2101, 'objective': 'binary', 'metric': 'auc', 'verbose': -1, 'learning_rate': 0.0154238605324874, 'n_estimators': 104, 'min_child_samples': 25, 'subsample': 0.9, 'colsample_bytree': 0.6}. Best is trial 14 with value: 0.7429210835937445.\n",
      "[I 2025-02-23 08:17:25,184] Trial 31 finished with value: 0.7428003170604011 and parameters: {'num_iterations': 1609, 'objective': 'binary', 'metric': 'auc', 'verbose': -1, 'learning_rate': 0.00895008379921194, 'n_estimators': 1045, 'min_child_samples': 20, 'subsample': 0.9, 'colsample_bytree': 0.6}. Best is trial 14 with value: 0.7429210835937445.\n",
      "[I 2025-02-23 08:17:42,661] Trial 32 finished with value: 0.7427595201318565 and parameters: {'num_iterations': 1635, 'objective': 'binary', 'metric': 'auc', 'verbose': -1, 'learning_rate': 0.009593127729745925, 'n_estimators': 1110, 'min_child_samples': 20, 'subsample': 0.9, 'colsample_bytree': 0.5}. Best is trial 14 with value: 0.7429210835937445.\n",
      "[I 2025-02-23 08:18:02,517] Trial 33 finished with value: 0.7426700075484445 and parameters: {'num_iterations': 1991, 'objective': 'binary', 'metric': 'auc', 'verbose': -1, 'learning_rate': 0.005132347340449223, 'n_estimators': 990, 'min_child_samples': 25, 'subsample': 1.0, 'colsample_bytree': 0.6}. Best is trial 14 with value: 0.7429210835937445.\n",
      "[I 2025-02-23 08:18:16,310] Trial 34 finished with value: 0.7424435216502823 and parameters: {'num_iterations': 1535, 'objective': 'binary', 'metric': 'auc', 'verbose': -1, 'learning_rate': 0.006208315849077188, 'n_estimators': 815, 'min_child_samples': 15, 'subsample': 0.8, 'colsample_bytree': 0.7}. Best is trial 14 with value: 0.7429210835937445.\n",
      "[I 2025-02-23 08:18:38,912] Trial 35 finished with value: 0.7427663864697767 and parameters: {'num_iterations': 2341, 'objective': 'binary', 'metric': 'auc', 'verbose': -1, 'learning_rate': 0.007127181652472422, 'n_estimators': 713, 'min_child_samples': 10, 'subsample': 0.5, 'colsample_bytree': 0.6}. Best is trial 14 with value: 0.7429210835937445.\n",
      "[I 2025-02-23 08:18:57,792] Trial 36 finished with value: 0.7426895025472009 and parameters: {'num_iterations': 1802, 'objective': 'binary', 'metric': 'auc', 'verbose': -1, 'learning_rate': 0.011651357065787222, 'n_estimators': 910, 'min_child_samples': 20, 'subsample': 0.9, 'colsample_bytree': 0.5}. Best is trial 14 with value: 0.7429210835937445.\n",
      "[I 2025-02-23 08:19:12,294] Trial 37 finished with value: 0.7421699006654955 and parameters: {'num_iterations': 1643, 'objective': 'binary', 'metric': 'auc', 'verbose': -1, 'learning_rate': 0.005893583941189448, 'n_estimators': 1503, 'min_child_samples': 15, 'subsample': 0.6, 'colsample_bytree': 1.0}. Best is trial 14 with value: 0.7429210835937445.\n",
      "[I 2025-02-23 08:19:28,854] Trial 38 finished with value: 0.7421881169130603 and parameters: {'num_iterations': 1963, 'objective': 'binary', 'metric': 'auc', 'verbose': -1, 'learning_rate': 0.007825373435861883, 'n_estimators': 1066, 'min_child_samples': 30, 'subsample': 1.0, 'colsample_bytree': 0.8}. Best is trial 14 with value: 0.7429210835937445.\n",
      "[I 2025-02-23 08:19:41,239] Trial 39 finished with value: 0.7360148502249562 and parameters: {'num_iterations': 1584, 'objective': 'binary', 'metric': 'auc', 'verbose': -1, 'learning_rate': 0.053422832108602374, 'n_estimators': 1262, 'min_child_samples': 10, 'subsample': 0.8, 'colsample_bytree': 0.9}. Best is trial 14 with value: 0.7429210835937445.\n"
     ]
    },
    {
     "name": "stdout",
     "output_type": "stream",
     "text": [
      "Cat val score : 0.7429930391615726\n",
      "LGBM val score : 0.7426731964838695\n",
      "Ensemble val score : 0.7432124720717959\n"
     ]
    },
    {
     "name": "stderr",
     "output_type": "stream",
     "text": [
      "[I 2025-02-23 08:20:03,417] A new study created in memory with name: no-name-f1e22bd6-6a21-41bc-b67b-04fe58d3137f\n"
     ]
    },
    {
     "name": "stdout",
     "output_type": "stream",
     "text": [
      "==================================================\n",
      "0:\ttest: 0.7276354\tbest: 0.7276354 (0)\ttotal: 131ms\tremaining: 5m 9s\n",
      "300:\ttest: 0.7393553\tbest: 0.7393553 (300)\ttotal: 39s\tremaining: 4m 27s\n",
      "600:\ttest: 0.7408718\tbest: 0.7408718 (600)\ttotal: 1m 20s\tremaining: 3m 57s\n",
      "900:\ttest: 0.7412751\tbest: 0.7412751 (900)\ttotal: 2m 1s\tremaining: 3m 16s\n",
      "1200:\ttest: 0.7416185\tbest: 0.7416207 (1197)\ttotal: 2m 46s\tremaining: 2m 41s\n",
      "1500:\ttest: 0.7417440\tbest: 0.7417550 (1496)\ttotal: 3m 36s\tremaining: 2m 4s\n",
      "1800:\ttest: 0.7416225\tbest: 0.7417667 (1545)\ttotal: 4m 26s\tremaining: 1m 23s\n"
     ]
    },
    {
     "name": "stderr",
     "output_type": "stream",
     "text": [
      "[I 2025-02-23 08:24:38,584] Trial 0 finished with value: 0.7417667327348012 and parameters: {'iterations': 2366, 'depth': 10, 'learning_rate': 0.01181021951839225, 'l2_leaf_reg': 9.980783802743254}. Best is trial 0 with value: 0.7417667327348012.\n"
     ]
    },
    {
     "name": "stdout",
     "output_type": "stream",
     "text": [
      "Stopped by overfitting detector  (300 iterations wait)\n",
      "\n",
      "bestTest = 0.7417667327\n",
      "bestIteration = 1545\n",
      "\n",
      "Shrink model to first 1546 iterations.\n",
      "저장 완료\n",
      "0:\ttest: 0.6977785\tbest: 0.6977785 (0)\ttotal: 53.7ms\tremaining: 1m 57s\n",
      "300:\ttest: 0.7302361\tbest: 0.7302361 (300)\ttotal: 12.9s\tremaining: 1m 21s\n",
      "600:\ttest: 0.7345481\tbest: 0.7345481 (600)\ttotal: 25.8s\tremaining: 1m 8s\n",
      "900:\ttest: 0.7364696\tbest: 0.7364696 (900)\ttotal: 39.2s\tremaining: 56.2s\n",
      "1200:\ttest: 0.7373969\tbest: 0.7373969 (1200)\ttotal: 52.8s\tremaining: 43.6s\n",
      "1500:\ttest: 0.7379846\tbest: 0.7379846 (1500)\ttotal: 1m 6s\tremaining: 30.7s\n",
      "1800:\ttest: 0.7383823\tbest: 0.7383823 (1800)\ttotal: 1m 20s\tremaining: 17.5s\n",
      "2100:\ttest: 0.7387894\tbest: 0.7387905 (2099)\ttotal: 1m 34s\tremaining: 4.13s\n"
     ]
    },
    {
     "name": "stderr",
     "output_type": "stream",
     "text": [
      "[I 2025-02-23 08:26:17,414] Trial 1 finished with value: 0.7389434485126474 and parameters: {'iterations': 2193, 'depth': 4, 'learning_rate': 0.005671430811678843, 'l2_leaf_reg': 0.00012325230809466137}. Best is trial 0 with value: 0.7417667327348012.\n"
     ]
    },
    {
     "name": "stdout",
     "output_type": "stream",
     "text": [
      "2192:\ttest: 0.7389427\tbest: 0.7389434 (2191)\ttotal: 1m 38s\tremaining: 0us\n",
      "\n",
      "bestTest = 0.7389434485\n",
      "bestIteration = 2191\n",
      "\n",
      "Shrink model to first 2192 iterations.\n",
      "0:\ttest: 0.6977785\tbest: 0.6977785 (0)\ttotal: 51.8ms\tremaining: 2m 11s\n",
      "300:\ttest: 0.7400714\tbest: 0.7400783 (295)\ttotal: 14.2s\tremaining: 1m 45s\n",
      "600:\ttest: 0.7396923\tbest: 0.7401265 (362)\ttotal: 28.9s\tremaining: 1m 32s\n"
     ]
    },
    {
     "name": "stderr",
     "output_type": "stream",
     "text": [
      "[I 2025-02-23 08:26:49,524] Trial 2 finished with value: 0.740126498616432 and parameters: {'iterations': 2535, 'depth': 4, 'learning_rate': 0.09275339199839054, 'l2_leaf_reg': 0.0008705394248343123}. Best is trial 0 with value: 0.7417667327348012.\n"
     ]
    },
    {
     "name": "stdout",
     "output_type": "stream",
     "text": [
      "Stopped by overfitting detector  (300 iterations wait)\n",
      "\n",
      "bestTest = 0.7401264986\n",
      "bestIteration = 362\n",
      "\n",
      "Shrink model to first 363 iterations.\n",
      "0:\ttest: 0.6977785\tbest: 0.6977785 (0)\ttotal: 52.4ms\tremaining: 2m 2s\n",
      "300:\ttest: 0.7392826\tbest: 0.7392826 (300)\ttotal: 13.7s\tremaining: 1m 32s\n",
      "600:\ttest: 0.7401348\tbest: 0.7401357 (593)\ttotal: 28.2s\tremaining: 1m 21s\n",
      "900:\ttest: 0.7402464\tbest: 0.7404161 (686)\ttotal: 42.9s\tremaining: 1m 8s\n"
     ]
    },
    {
     "name": "stderr",
     "output_type": "stream",
     "text": [
      "[I 2025-02-23 08:27:36,856] Trial 3 finished with value: 0.7404160874070205 and parameters: {'iterations': 2334, 'depth': 4, 'learning_rate': 0.04657568321363276, 'l2_leaf_reg': 0.0008640473331457248}. Best is trial 0 with value: 0.7417667327348012.\n"
     ]
    },
    {
     "name": "stdout",
     "output_type": "stream",
     "text": [
      "Stopped by overfitting detector  (300 iterations wait)\n",
      "\n",
      "bestTest = 0.7404160874\n",
      "bestIteration = 686\n",
      "\n",
      "Shrink model to first 687 iterations.\n",
      "0:\ttest: 0.7276728\tbest: 0.7276728 (0)\ttotal: 132ms\tremaining: 3m 49s\n",
      "300:\ttest: 0.7389076\tbest: 0.7389096 (299)\ttotal: 37.3s\tremaining: 2m 58s\n",
      "600:\ttest: 0.7397227\tbest: 0.7397236 (598)\ttotal: 1m 16s\tremaining: 2m 25s\n",
      "900:\ttest: 0.7398770\tbest: 0.7398932 (896)\ttotal: 1m 55s\tremaining: 1m 48s\n",
      "1200:\ttest: 0.7394819\tbest: 0.7400718 (1031)\ttotal: 2m 39s\tremaining: 1m 11s\n"
     ]
    },
    {
     "name": "stderr",
     "output_type": "stream",
     "text": [
      "[I 2025-02-23 08:30:36,079] Trial 4 finished with value: 0.7400718115713467 and parameters: {'iterations': 1742, 'depth': 10, 'learning_rate': 0.012622767482095846, 'l2_leaf_reg': 0.00021158816350109617}. Best is trial 0 with value: 0.7417667327348012.\n"
     ]
    },
    {
     "name": "stdout",
     "output_type": "stream",
     "text": [
      "Stopped by overfitting detector  (300 iterations wait)\n",
      "\n",
      "bestTest = 0.7400718116\n",
      "bestIteration = 1031\n",
      "\n",
      "Shrink model to first 1032 iterations.\n",
      "0:\ttest: 0.6977785\tbest: 0.6977785 (0)\ttotal: 54.7ms\tremaining: 1m 53s\n",
      "300:\ttest: 0.7400256\tbest: 0.7400256 (300)\ttotal: 14.1s\tremaining: 1m 23s\n",
      "600:\ttest: 0.7401818\tbest: 0.7403486 (427)\ttotal: 28.8s\tremaining: 1m 10s\n"
     ]
    },
    {
     "name": "stderr",
     "output_type": "stream",
     "text": [
      "[I 2025-02-23 08:31:11,180] Trial 5 finished with value: 0.7403486180791781 and parameters: {'iterations': 2082, 'depth': 4, 'learning_rate': 0.06995196593094148, 'l2_leaf_reg': 0.0018080296485396804}. Best is trial 0 with value: 0.7417667327348012.\n"
     ]
    },
    {
     "name": "stdout",
     "output_type": "stream",
     "text": [
      "Stopped by overfitting detector  (300 iterations wait)\n",
      "\n",
      "bestTest = 0.7403486181\n",
      "bestIteration = 427\n",
      "\n",
      "Shrink model to first 428 iterations.\n",
      "0:\ttest: 0.7049946\tbest: 0.7049946 (0)\ttotal: 67.8ms\tremaining: 2m 15s\n",
      "300:\ttest: 0.7406340\tbest: 0.7406340 (300)\ttotal: 17.3s\tremaining: 1m 37s\n",
      "600:\ttest: 0.7412274\tbest: 0.7412299 (592)\ttotal: 35.3s\tremaining: 1m 22s\n"
     ]
    },
    {
     "name": "stderr",
     "output_type": "stream",
     "text": [
      "[I 2025-02-23 08:32:04,244] Trial 6 finished with value: 0.7412298689172336 and parameters: {'iterations': 1997, 'depth': 5, 'learning_rate': 0.07985155992831598, 'l2_leaf_reg': 62.52181000710482}. Best is trial 0 with value: 0.7417667327348012.\n"
     ]
    },
    {
     "name": "stdout",
     "output_type": "stream",
     "text": [
      "Stopped by overfitting detector  (300 iterations wait)\n",
      "\n",
      "bestTest = 0.7412298689\n",
      "bestIteration = 592\n",
      "\n",
      "Shrink model to first 593 iterations.\n",
      "0:\ttest: 0.7191655\tbest: 0.7191655 (0)\ttotal: 82.8ms\tremaining: 2m 39s\n",
      "300:\ttest: 0.7391793\tbest: 0.7404642 (171)\ttotal: 24s\tremaining: 2m 9s\n"
     ]
    },
    {
     "name": "stderr",
     "output_type": "stream",
     "text": [
      "[I 2025-02-23 08:32:42,663] Trial 7 finished with value: 0.7404641589556556 and parameters: {'iterations': 1927, 'depth': 7, 'learning_rate': 0.0941937211034094, 'l2_leaf_reg': 0.05654822767791934}. Best is trial 0 with value: 0.7417667327348012.\n"
     ]
    },
    {
     "name": "stdout",
     "output_type": "stream",
     "text": [
      "Stopped by overfitting detector  (300 iterations wait)\n",
      "\n",
      "bestTest = 0.740464159\n",
      "bestIteration = 171\n",
      "\n",
      "Shrink model to first 172 iterations.\n",
      "0:\ttest: 0.7191653\tbest: 0.7191653 (0)\ttotal: 83.1ms\tremaining: 2m 38s\n",
      "300:\ttest: 0.7410563\tbest: 0.7410563 (300)\ttotal: 22.9s\tremaining: 2m 1s\n",
      "600:\ttest: 0.7407291\tbest: 0.7412816 (371)\ttotal: 47.7s\tremaining: 1m 43s\n"
     ]
    },
    {
     "name": "stderr",
     "output_type": "stream",
     "text": [
      "[I 2025-02-23 08:33:36,459] Trial 8 finished with value: 0.7412815936811954 and parameters: {'iterations': 1904, 'depth': 7, 'learning_rate': 0.05155602859187331, 'l2_leaf_reg': 1.299974533316308}. Best is trial 0 with value: 0.7417667327348012.\n"
     ]
    },
    {
     "name": "stdout",
     "output_type": "stream",
     "text": [
      "Stopped by overfitting detector  (300 iterations wait)\n",
      "\n",
      "bestTest = 0.7412815937\n",
      "bestIteration = 371\n",
      "\n",
      "Shrink model to first 372 iterations.\n",
      "0:\ttest: 0.7196370\tbest: 0.7196370 (0)\ttotal: 73.5ms\tremaining: 3m 13s\n",
      "300:\ttest: 0.7402143\tbest: 0.7402143 (300)\ttotal: 19.7s\tremaining: 2m 32s\n",
      "600:\ttest: 0.7406507\tbest: 0.7408860 (433)\ttotal: 41s\tremaining: 2m 18s\n"
     ]
    },
    {
     "name": "stderr",
     "output_type": "stream",
     "text": [
      "[I 2025-02-23 08:34:27,311] Trial 9 finished with value: 0.7408860457625894 and parameters: {'iterations': 2639, 'depth': 6, 'learning_rate': 0.03968704290444751, 'l2_leaf_reg': 0.30557194377967184}. Best is trial 0 with value: 0.7417667327348012.\n"
     ]
    },
    {
     "name": "stdout",
     "output_type": "stream",
     "text": [
      "Stopped by overfitting detector  (300 iterations wait)\n",
      "\n",
      "bestTest = 0.7408860458\n",
      "bestIteration = 433\n",
      "\n",
      "Shrink model to first 434 iterations.\n",
      "0:\ttest: 0.7285333\tbest: 0.7285333 (0)\ttotal: 134ms\tremaining: 6m 34s\n",
      "300:\ttest: 0.7407516\tbest: 0.7407516 (300)\ttotal: 37.6s\tremaining: 5m 29s\n",
      "600:\ttest: 0.7414247\tbest: 0.7414395 (593)\ttotal: 1m 18s\tremaining: 5m 5s\n",
      "900:\ttest: 0.7415585\tbest: 0.7415897 (883)\ttotal: 2m 11s\tremaining: 4m 58s\n",
      "1200:\ttest: 0.7416339\tbest: 0.7416704 (1090)\ttotal: 3m 2s\tremaining: 4m 25s\n"
     ]
    },
    {
     "name": "stderr",
     "output_type": "stream",
     "text": [
      "[I 2025-02-23 08:38:03,369] Trial 10 finished with value: 0.7416704149185369 and parameters: {'iterations': 2945, 'depth': 10, 'learning_rate': 0.025911330134996406, 'l2_leaf_reg': 97.18545559492516}. Best is trial 0 with value: 0.7417667327348012.\n"
     ]
    },
    {
     "name": "stdout",
     "output_type": "stream",
     "text": [
      "Stopped by overfitting detector  (300 iterations wait)\n",
      "\n",
      "bestTest = 0.7416704149\n",
      "bestIteration = 1090\n",
      "\n",
      "Shrink model to first 1091 iterations.\n",
      "0:\ttest: 0.7285168\tbest: 0.7285168 (0)\ttotal: 127ms\tremaining: 6m 20s\n",
      "300:\ttest: 0.7407714\tbest: 0.7407714 (300)\ttotal: 37.7s\tremaining: 5m 37s\n",
      "600:\ttest: 0.7413494\tbest: 0.7413668 (590)\ttotal: 1m 18s\tremaining: 5m 11s\n",
      "900:\ttest: 0.7416473\tbest: 0.7416667 (886)\ttotal: 2m 10s\tremaining: 5m 2s\n",
      "1200:\ttest: 0.7417720\tbest: 0.7418164 (1081)\ttotal: 3m 1s\tremaining: 4m 31s\n"
     ]
    },
    {
     "name": "stderr",
     "output_type": "stream",
     "text": [
      "[I 2025-02-23 08:41:36,439] Trial 11 finished with value: 0.7418163807252675 and parameters: {'iterations': 2995, 'depth': 10, 'learning_rate': 0.026163874004606635, 'l2_leaf_reg': 73.1213351392818}. Best is trial 11 with value: 0.7418163807252675.\n"
     ]
    },
    {
     "name": "stdout",
     "output_type": "stream",
     "text": [
      "Stopped by overfitting detector  (300 iterations wait)\n",
      "\n",
      "bestTest = 0.7418163807\n",
      "bestIteration = 1081\n",
      "\n",
      "Shrink model to first 1082 iterations.\n",
      "저장 완료\n",
      "0:\ttest: 0.7244070\tbest: 0.7244070 (0)\ttotal: 106ms\tremaining: 5m\n",
      "300:\ttest: 0.7405211\tbest: 0.7405211 (300)\ttotal: 28.2s\tremaining: 3m 57s\n",
      "600:\ttest: 0.7413852\tbest: 0.7413865 (599)\ttotal: 58.4s\tremaining: 3m 36s\n",
      "900:\ttest: 0.7414427\tbest: 0.7414601 (839)\ttotal: 1m 31s\tremaining: 3m 16s\n"
     ]
    },
    {
     "name": "stderr",
     "output_type": "stream",
     "text": [
      "[I 2025-02-23 08:43:34,923] Trial 12 finished with value: 0.7414600850169917 and parameters: {'iterations': 2831, 'depth': 9, 'learning_rate': 0.02603853414531855, 'l2_leaf_reg': 9.386190522738517}. Best is trial 11 with value: 0.7418163807252675.\n"
     ]
    },
    {
     "name": "stdout",
     "output_type": "stream",
     "text": [
      "Stopped by overfitting detector  (300 iterations wait)\n",
      "\n",
      "bestTest = 0.741460085\n",
      "bestIteration = 839\n",
      "\n",
      "Shrink model to first 840 iterations.\n",
      "0:\ttest: 0.7244039\tbest: 0.7244039 (0)\ttotal: 111ms\tremaining: 4m 27s\n",
      "300:\ttest: 0.7402006\tbest: 0.7402064 (297)\ttotal: 28.1s\tremaining: 3m 18s\n",
      "600:\ttest: 0.7413617\tbest: 0.7413617 (600)\ttotal: 57.1s\tremaining: 2m 52s\n",
      "900:\ttest: 0.7412765\tbest: 0.7414598 (671)\ttotal: 1m 30s\tremaining: 2m 32s\n"
     ]
    },
    {
     "name": "stderr",
     "output_type": "stream",
     "text": [
      "[I 2025-02-23 08:45:13,384] Trial 13 finished with value: 0.7414597554334351 and parameters: {'iterations': 2421, 'depth': 9, 'learning_rate': 0.022316119918197153, 'l2_leaf_reg': 6.676773824742184}. Best is trial 11 with value: 0.7418163807252675.\n"
     ]
    },
    {
     "name": "stdout",
     "output_type": "stream",
     "text": [
      "Stopped by overfitting detector  (300 iterations wait)\n",
      "\n",
      "bestTest = 0.7414597554\n",
      "bestIteration = 671\n",
      "\n",
      "Shrink model to first 672 iterations.\n",
      "0:\ttest: 0.7244133\tbest: 0.7244133 (0)\ttotal: 106ms\tremaining: 2m 43s\n",
      "300:\ttest: 0.7409946\tbest: 0.7410046 (298)\ttotal: 28.3s\tremaining: 1m 55s\n",
      "600:\ttest: 0.7414798\tbest: 0.7415859 (557)\ttotal: 1m\tremaining: 1m 33s\n"
     ]
    },
    {
     "name": "stderr",
     "output_type": "stream",
     "text": [
      "[I 2025-02-23 08:46:42,303] Trial 14 finished with value: 0.7415858906343599 and parameters: {'iterations': 1533, 'depth': 9, 'learning_rate': 0.03443594749665465, 'l2_leaf_reg': 11.564056006203653}. Best is trial 11 with value: 0.7418163807252675.\n"
     ]
    },
    {
     "name": "stdout",
     "output_type": "stream",
     "text": [
      "Stopped by overfitting detector  (300 iterations wait)\n",
      "\n",
      "bestTest = 0.7415858906\n",
      "bestIteration = 557\n",
      "\n",
      "Shrink model to first 558 iterations.\n",
      "0:\ttest: 0.7210596\tbest: 0.7210596 (0)\ttotal: 93ms\tremaining: 4m 12s\n",
      "300:\ttest: 0.7402588\tbest: 0.7404914 (271)\ttotal: 26.5s\tremaining: 3m 32s\n"
     ]
    },
    {
     "name": "stderr",
     "output_type": "stream",
     "text": [
      "[I 2025-02-23 08:47:35,372] Trial 15 finished with value: 0.7404913714389529 and parameters: {'iterations': 2717, 'depth': 8, 'learning_rate': 0.06347916602487957, 'l2_leaf_reg': 0.026986971696484528}. Best is trial 11 with value: 0.7418163807252675.\n"
     ]
    },
    {
     "name": "stdout",
     "output_type": "stream",
     "text": [
      "Stopped by overfitting detector  (300 iterations wait)\n",
      "\n",
      "bestTest = 0.7404913714\n",
      "bestIteration = 271\n",
      "\n",
      "Shrink model to first 272 iterations.\n",
      "0:\ttest: 0.7276688\tbest: 0.7276688 (0)\ttotal: 129ms\tremaining: 6m 15s\n",
      "300:\ttest: 0.7394860\tbest: 0.7394860 (300)\ttotal: 37.3s\tremaining: 5m 24s\n",
      "600:\ttest: 0.7403866\tbest: 0.7404008 (595)\ttotal: 1m 17s\tremaining: 4m 57s\n",
      "900:\ttest: 0.7407806\tbest: 0.7408404 (869)\ttotal: 1m 58s\tremaining: 4m 25s\n"
     ]
    },
    {
     "name": "stderr",
     "output_type": "stream",
     "text": [
      "[I 2025-02-23 08:50:14,449] Trial 16 finished with value: 0.7408403527748029 and parameters: {'iterations': 2918, 'depth': 10, 'learning_rate': 0.015627704142452237, 'l2_leaf_reg': 1.1564999623873626}. Best is trial 11 with value: 0.7418163807252675.\n"
     ]
    },
    {
     "name": "stdout",
     "output_type": "stream",
     "text": [
      "Stopped by overfitting detector  (300 iterations wait)\n",
      "\n",
      "bestTest = 0.7408403528\n",
      "bestIteration = 869\n",
      "\n",
      "Shrink model to first 870 iterations.\n",
      "0:\ttest: 0.7210939\tbest: 0.7210939 (0)\ttotal: 99.3ms\tremaining: 4m 7s\n",
      "300:\ttest: 0.7352725\tbest: 0.7352725 (300)\ttotal: 24.5s\tremaining: 2m 58s\n",
      "600:\ttest: 0.7381163\tbest: 0.7381181 (596)\ttotal: 49s\tremaining: 2m 34s\n",
      "900:\ttest: 0.7393673\tbest: 0.7393675 (899)\ttotal: 1m 14s\tremaining: 2m 11s\n",
      "1200:\ttest: 0.7399724\tbest: 0.7399741 (1197)\ttotal: 1m 39s\tremaining: 1m 47s\n",
      "1500:\ttest: 0.7403839\tbest: 0.7403839 (1500)\ttotal: 2m 3s\tremaining: 1m 21s\n",
      "1800:\ttest: 0.7406144\tbest: 0.7406144 (1800)\ttotal: 2m 27s\tremaining: 57s\n",
      "2100:\ttest: 0.7408937\tbest: 0.7408939 (2098)\ttotal: 2m 52s\tremaining: 32.4s\n",
      "2400:\ttest: 0.7410777\tbest: 0.7410777 (2400)\ttotal: 3m 18s\tremaining: 7.76s\n"
     ]
    },
    {
     "name": "stderr",
     "output_type": "stream",
     "text": [
      "[I 2025-02-23 08:53:41,412] Trial 17 finished with value: 0.7411188032295313 and parameters: {'iterations': 2495, 'depth': 8, 'learning_rate': 0.005588768772785566, 'l2_leaf_reg': 27.028519492661054}. Best is trial 11 with value: 0.7418163807252675.\n"
     ]
    },
    {
     "name": "stdout",
     "output_type": "stream",
     "text": [
      "2494:\ttest: 0.7411182\tbest: 0.7411188 (2471)\ttotal: 3m 26s\tremaining: 0us\n",
      "\n",
      "bestTest = 0.7411188032\n",
      "bestIteration = 2471\n",
      "\n",
      "Shrink model to first 2472 iterations.\n",
      "0:\ttest: 0.7210591\tbest: 0.7210591 (0)\ttotal: 96.1ms\tremaining: 3m 36s\n",
      "300:\ttest: 0.7408469\tbest: 0.7408469 (300)\ttotal: 25.4s\tremaining: 2m 45s\n",
      "600:\ttest: 0.7415967\tbest: 0.7416428 (594)\ttotal: 53.8s\tremaining: 2m 27s\n"
     ]
    },
    {
     "name": "stderr",
     "output_type": "stream",
     "text": [
      "[I 2025-02-23 08:55:03,847] Trial 18 finished with value: 0.7416428410845932 and parameters: {'iterations': 2255, 'depth': 8, 'learning_rate': 0.03519084982617142, 'l2_leaf_reg': 1.4779556720626297}. Best is trial 11 with value: 0.7418163807252675.\n"
     ]
    },
    {
     "name": "stdout",
     "output_type": "stream",
     "text": [
      "Stopped by overfitting detector  (300 iterations wait)\n",
      "\n",
      "bestTest = 0.7416428411\n",
      "bestIteration = 594\n",
      "\n",
      "Shrink model to first 595 iterations.\n",
      "0:\ttest: 0.7243897\tbest: 0.7243897 (0)\ttotal: 110ms\tremaining: 4m 56s\n",
      "300:\ttest: 0.7397585\tbest: 0.7397585 (300)\ttotal: 27.9s\tremaining: 3m 42s\n",
      "600:\ttest: 0.7405395\tbest: 0.7405775 (584)\ttotal: 56.1s\tremaining: 3m 16s\n",
      "900:\ttest: 0.7407132\tbest: 0.7408197 (877)\ttotal: 1m 27s\tremaining: 2m 55s\n"
     ]
    },
    {
     "name": "stderr",
     "output_type": "stream",
     "text": [
      "[I 2025-02-23 08:57:02,436] Trial 19 finished with value: 0.7408196723993451 and parameters: {'iterations': 2701, 'depth': 9, 'learning_rate': 0.018357749662516517, 'l2_leaf_reg': 0.01183860899423477}. Best is trial 11 with value: 0.7418163807252675.\n",
      "[I 2025-02-23 08:57:02,443] A new study created in memory with name: no-name-97c78e50-72c3-4240-8385-3e97f245a02e\n"
     ]
    },
    {
     "name": "stdout",
     "output_type": "stream",
     "text": [
      "Stopped by overfitting detector  (300 iterations wait)\n",
      "\n",
      "bestTest = 0.7408196724\n",
      "bestIteration = 877\n",
      "\n",
      "Shrink model to first 878 iterations.\n"
     ]
    },
    {
     "name": "stderr",
     "output_type": "stream",
     "text": [
      "[I 2025-02-23 08:57:25,381] Trial 0 finished with value: 0.7302683725043259 and parameters: {'num_iterations': 2366, 'objective': 'binary', 'metric': 'auc', 'verbose': -1, 'learning_rate': 0.0652646236447618, 'n_estimators': 236, 'min_child_samples': 45, 'subsample': 0.7, 'colsample_bytree': 0.5}. Best is trial 0 with value: 0.7302683725043259.\n",
      "[I 2025-02-23 08:57:42,308] Trial 1 finished with value: 0.7407350925227609 and parameters: {'num_iterations': 1510, 'objective': 'binary', 'metric': 'auc', 'verbose': -1, 'learning_rate': 0.005231880959249543, 'n_estimators': 1411, 'min_child_samples': 10, 'subsample': 1.0, 'colsample_bytree': 0.5}. Best is trial 1 with value: 0.7407350925227609.\n",
      "[I 2025-02-23 08:58:01,991] Trial 2 finished with value: 0.7402131592373979 and parameters: {'num_iterations': 2334, 'objective': 'binary', 'metric': 'auc', 'verbose': -1, 'learning_rate': 0.006578527777128852, 'n_estimators': 931, 'min_child_samples': 15, 'subsample': 0.5, 'colsample_bytree': 1.0}. Best is trial 1 with value: 0.7407350925227609.\n",
      "[I 2025-02-23 08:58:18,348] Trial 3 finished with value: 0.7407180177119951 and parameters: {'num_iterations': 1620, 'objective': 'binary', 'metric': 'auc', 'verbose': -1, 'learning_rate': 0.0058823249237283685, 'n_estimators': 837, 'min_child_samples': 10, 'subsample': 0.9, 'colsample_bytree': 0.6}. Best is trial 1 with value: 0.7407350925227609.\n",
      "[I 2025-02-23 08:58:34,780] Trial 4 finished with value: 0.7401417706448519 and parameters: {'num_iterations': 1997, 'objective': 'binary', 'metric': 'auc', 'verbose': -1, 'learning_rate': 0.010907507425244923, 'n_estimators': 1597, 'min_child_samples': 50, 'subsample': 0.6, 'colsample_bytree': 0.8}. Best is trial 1 with value: 0.7407350925227609.\n",
      "[I 2025-02-23 08:58:57,252] Trial 5 finished with value: 0.7355125670766072 and parameters: {'num_iterations': 2909, 'objective': 'binary', 'metric': 'auc', 'verbose': -1, 'learning_rate': 0.019760591962733942, 'n_estimators': 612, 'min_child_samples': 30, 'subsample': 0.7, 'colsample_bytree': 0.9}. Best is trial 1 with value: 0.7407350925227609.\n",
      "[I 2025-02-23 08:59:18,115] Trial 6 finished with value: 0.7370283933295592 and parameters: {'num_iterations': 2639, 'objective': 'binary', 'metric': 'auc', 'verbose': -1, 'learning_rate': 0.017862094446750985, 'n_estimators': 794, 'min_child_samples': 35, 'subsample': 1.0, 'colsample_bytree': 0.8}. Best is trial 1 with value: 0.7407350925227609.\n",
      "[I 2025-02-23 08:59:34,487] Trial 7 finished with value: 0.7394533976633845 and parameters: {'num_iterations': 1580, 'objective': 'binary', 'metric': 'auc', 'verbose': -1, 'learning_rate': 0.01776722177611332, 'n_estimators': 529, 'min_child_samples': 25, 'subsample': 0.8, 'colsample_bytree': 0.5}. Best is trial 1 with value: 0.7407350925227609.\n",
      "[I 2025-02-23 08:59:51,934] Trial 8 finished with value: 0.735946616708047 and parameters: {'num_iterations': 1911, 'objective': 'binary', 'metric': 'auc', 'verbose': -1, 'learning_rate': 0.0304747553332844, 'n_estimators': 1328, 'min_child_samples': 10, 'subsample': 0.7, 'colsample_bytree': 0.6}. Best is trial 1 with value: 0.7407350925227609.\n",
      "[I 2025-02-23 09:00:19,394] Trial 9 finished with value: 0.7358571049907718 and parameters: {'num_iterations': 2739, 'objective': 'binary', 'metric': 'auc', 'verbose': -1, 'learning_rate': 0.02691531614176271, 'n_estimators': 1438, 'min_child_samples': 20, 'subsample': 0.6, 'colsample_bytree': 0.5}. Best is trial 1 with value: 0.7407350925227609.\n",
      "[I 2025-02-23 09:00:34,233] Trial 10 finished with value: 0.7286851086906212 and parameters: {'num_iterations': 1933, 'objective': 'binary', 'metric': 'auc', 'verbose': -1, 'learning_rate': 0.08223556891145911, 'n_estimators': 1960, 'min_child_samples': 40, 'subsample': 1.0, 'colsample_bytree': 0.7}. Best is trial 1 with value: 0.7407350925227609.\n",
      "[I 2025-02-23 09:00:49,700] Trial 11 finished with value: 0.7408545248677385 and parameters: {'num_iterations': 1513, 'objective': 'binary', 'metric': 'auc', 'verbose': -1, 'learning_rate': 0.005340229419903739, 'n_estimators': 1206, 'min_child_samples': 10, 'subsample': 0.9, 'colsample_bytree': 0.6}. Best is trial 11 with value: 0.7408545248677385.\n",
      "[I 2025-02-23 09:01:05,725] Trial 12 finished with value: 0.7408234804792345 and parameters: {'num_iterations': 1550, 'objective': 'binary', 'metric': 'auc', 'verbose': -1, 'learning_rate': 0.005009803090245928, 'n_estimators': 1192, 'min_child_samples': 20, 'subsample': 0.9, 'colsample_bytree': 0.6}. Best is trial 11 with value: 0.7408545248677385.\n",
      "[I 2025-02-23 09:01:20,810] Trial 13 finished with value: 0.7400650054723578 and parameters: {'num_iterations': 1779, 'objective': 'binary', 'metric': 'auc', 'verbose': -1, 'learning_rate': 0.01061042275547689, 'n_estimators': 1140, 'min_child_samples': 20, 'subsample': 0.9, 'colsample_bytree': 0.7}. Best is trial 11 with value: 0.7408545248677385.\n",
      "[I 2025-02-23 09:01:41,666] Trial 14 finished with value: 0.7401321690419608 and parameters: {'num_iterations': 2165, 'objective': 'binary', 'metric': 'auc', 'verbose': -1, 'learning_rate': 0.007989830797980662, 'n_estimators': 1729, 'min_child_samples': 20, 'subsample': 0.9, 'colsample_bytree': 0.6}. Best is trial 11 with value: 0.7408545248677385.\n",
      "[I 2025-02-23 09:01:56,528] Trial 15 finished with value: 0.7403352957558945 and parameters: {'num_iterations': 1745, 'objective': 'binary', 'metric': 'auc', 'verbose': -1, 'learning_rate': 0.010011580020829516, 'n_estimators': 1134, 'min_child_samples': 25, 'subsample': 0.8, 'colsample_bytree': 0.7}. Best is trial 11 with value: 0.7408545248677385.\n",
      "[I 2025-02-23 09:02:15,966] Trial 16 finished with value: 0.7341200884624502 and parameters: {'num_iterations': 2156, 'objective': 'binary', 'metric': 'auc', 'verbose': -1, 'learning_rate': 0.03901437770924474, 'n_estimators': 1261, 'min_child_samples': 15, 'subsample': 0.9, 'colsample_bytree': 0.6}. Best is trial 11 with value: 0.7408545248677385.\n",
      "[I 2025-02-23 09:02:32,191] Trial 17 finished with value: 0.7395843177822099 and parameters: {'num_iterations': 1708, 'objective': 'binary', 'metric': 'auc', 'verbose': -1, 'learning_rate': 0.014107419975913894, 'n_estimators': 1684, 'min_child_samples': 15, 'subsample': 0.8, 'colsample_bytree': 0.6}. Best is trial 11 with value: 0.7408545248677385.\n",
      "[I 2025-02-23 09:02:47,966] Trial 18 finished with value: 0.740787194520914 and parameters: {'num_iterations': 1819, 'objective': 'binary', 'metric': 'auc', 'verbose': -1, 'learning_rate': 0.007796078492345457, 'n_estimators': 999, 'min_child_samples': 30, 'subsample': 0.9, 'colsample_bytree': 0.7}. Best is trial 11 with value: 0.7408545248677385.\n",
      "[I 2025-02-23 09:03:09,536] Trial 19 finished with value: 0.7406778601396056 and parameters: {'num_iterations': 2510, 'objective': 'binary', 'metric': 'auc', 'verbose': -1, 'learning_rate': 0.005234790012397332, 'n_estimators': 144, 'min_child_samples': 25, 'subsample': 1.0, 'colsample_bytree': 0.8}. Best is trial 11 with value: 0.7408545248677385.\n",
      "[I 2025-02-23 09:03:26,616] Trial 20 finished with value: 0.7386772601545806 and parameters: {'num_iterations': 2084, 'objective': 'binary', 'metric': 'auc', 'verbose': -1, 'learning_rate': 0.01344119163875971, 'n_estimators': 665, 'min_child_samples': 15, 'subsample': 0.8, 'colsample_bytree': 0.9}. Best is trial 11 with value: 0.7408545248677385.\n",
      "[I 2025-02-23 09:03:40,016] Trial 21 finished with value: 0.7408465989788342 and parameters: {'num_iterations': 1513, 'objective': 'binary', 'metric': 'auc', 'verbose': -1, 'learning_rate': 0.0074022869335637525, 'n_estimators': 1031, 'min_child_samples': 35, 'subsample': 0.9, 'colsample_bytree': 0.7}. Best is trial 11 with value: 0.7408545248677385.\n",
      "[I 2025-02-23 09:03:55,312] Trial 22 finished with value: 0.740783374528366 and parameters: {'num_iterations': 1534, 'objective': 'binary', 'metric': 'auc', 'verbose': -1, 'learning_rate': 0.007324497574553235, 'n_estimators': 1116, 'min_child_samples': 35, 'subsample': 0.9, 'colsample_bytree': 0.6}. Best is trial 11 with value: 0.7408545248677385.\n",
      "[I 2025-02-23 09:04:10,626] Trial 23 finished with value: 0.7409568109259983 and parameters: {'num_iterations': 1687, 'objective': 'binary', 'metric': 'auc', 'verbose': -1, 'learning_rate': 0.005108469687225206, 'n_estimators': 1247, 'min_child_samples': 35, 'subsample': 1.0, 'colsample_bytree': 0.7}. Best is trial 23 with value: 0.7409568109259983.\n",
      "[I 2025-02-23 09:04:25,173] Trial 24 finished with value: 0.7408917320716631 and parameters: {'num_iterations': 1657, 'objective': 'binary', 'metric': 'auc', 'verbose': -1, 'learning_rate': 0.008457720366747338, 'n_estimators': 1515, 'min_child_samples': 40, 'subsample': 1.0, 'colsample_bytree': 0.7}. Best is trial 23 with value: 0.7409568109259983.\n",
      "[I 2025-02-23 09:04:39,388] Trial 25 finished with value: 0.7406176575335542 and parameters: {'num_iterations': 1678, 'objective': 'binary', 'metric': 'auc', 'verbose': -1, 'learning_rate': 0.008883021712741569, 'n_estimators': 1525, 'min_child_samples': 40, 'subsample': 1.0, 'colsample_bytree': 0.8}. Best is trial 23 with value: 0.7409568109259983.\n",
      "[I 2025-02-23 09:04:55,540] Trial 26 finished with value: 0.7409131430901862 and parameters: {'num_iterations': 1838, 'objective': 'binary', 'metric': 'auc', 'verbose': -1, 'learning_rate': 0.006560862459482555, 'n_estimators': 1925, 'min_child_samples': 45, 'subsample': 1.0, 'colsample_bytree': 0.7}. Best is trial 23 with value: 0.7409568109259983.\n",
      "[I 2025-02-23 09:05:10,660] Trial 27 finished with value: 0.7395140330960343 and parameters: {'num_iterations': 1853, 'objective': 'binary', 'metric': 'auc', 'verbose': -1, 'learning_rate': 0.01294610261150363, 'n_estimators': 1957, 'min_child_samples': 50, 'subsample': 1.0, 'colsample_bytree': 0.9}. Best is trial 23 with value: 0.7409568109259983.\n",
      "[I 2025-02-23 09:05:28,154] Trial 28 finished with value: 0.7409808943509505 and parameters: {'num_iterations': 2005, 'objective': 'binary', 'metric': 'auc', 'verbose': -1, 'learning_rate': 0.006406730440393009, 'n_estimators': 1817, 'min_child_samples': 45, 'subsample': 1.0, 'colsample_bytree': 0.7}. Best is trial 28 with value: 0.7409808943509505.\n",
      "[I 2025-02-23 09:05:43,568] Trial 29 finished with value: 0.7322716409248937 and parameters: {'num_iterations': 2022, 'objective': 'binary', 'metric': 'auc', 'verbose': -1, 'learning_rate': 0.05309995064140689, 'n_estimators': 1858, 'min_child_samples': 45, 'subsample': 1.0, 'colsample_bytree': 0.8}. Best is trial 28 with value: 0.7409808943509505.\n",
      "[I 2025-02-23 09:06:02,310] Trial 30 finished with value: 0.7409059676987784 and parameters: {'num_iterations': 2145, 'objective': 'binary', 'metric': 'auc', 'verbose': -1, 'learning_rate': 0.006522604073385485, 'n_estimators': 391, 'min_child_samples': 45, 'subsample': 1.0, 'colsample_bytree': 0.7}. Best is trial 28 with value: 0.7409808943509505.\n",
      "[I 2025-02-23 09:06:21,816] Trial 31 finished with value: 0.740706172558387 and parameters: {'num_iterations': 2263, 'objective': 'binary', 'metric': 'auc', 'verbose': -1, 'learning_rate': 0.006439260487109445, 'n_estimators': 353, 'min_child_samples': 45, 'subsample': 1.0, 'colsample_bytree': 0.7}. Best is trial 28 with value: 0.7409808943509505.\n",
      "[I 2025-02-23 09:06:40,182] Trial 32 finished with value: 0.7408782628255892 and parameters: {'num_iterations': 2109, 'objective': 'binary', 'metric': 'auc', 'verbose': -1, 'learning_rate': 0.006148007644221363, 'n_estimators': 1804, 'min_child_samples': 45, 'subsample': 1.0, 'colsample_bytree': 0.7}. Best is trial 28 with value: 0.7409808943509505.\n",
      "[I 2025-02-23 09:06:59,524] Trial 33 finished with value: 0.7406833955550026 and parameters: {'num_iterations': 2276, 'objective': 'binary', 'metric': 'auc', 'verbose': -1, 'learning_rate': 0.006711851761155749, 'n_estimators': 332, 'min_child_samples': 50, 'subsample': 1.0, 'colsample_bytree': 0.8}. Best is trial 28 with value: 0.7409808943509505.\n",
      "[I 2025-02-23 09:07:19,636] Trial 34 finished with value: 0.7402042763649135 and parameters: {'num_iterations': 2420, 'objective': 'binary', 'metric': 'auc', 'verbose': -1, 'learning_rate': 0.008960927708351753, 'n_estimators': 1824, 'min_child_samples': 40, 'subsample': 0.5, 'colsample_bytree': 0.7}. Best is trial 28 with value: 0.7409808943509505.\n",
      "[I 2025-02-23 09:07:36,694] Trial 35 finished with value: 0.7408218682994273 and parameters: {'num_iterations': 1961, 'objective': 'binary', 'metric': 'auc', 'verbose': -1, 'learning_rate': 0.005953677824243527, 'n_estimators': 1627, 'min_child_samples': 45, 'subsample': 1.0, 'colsample_bytree': 0.8}. Best is trial 28 with value: 0.7409808943509505.\n",
      "[I 2025-02-23 09:07:52,236] Trial 36 finished with value: 0.7402217562060742 and parameters: {'num_iterations': 1844, 'objective': 'binary', 'metric': 'auc', 'verbose': -1, 'learning_rate': 0.01115137246934137, 'n_estimators': 825, 'min_child_samples': 50, 'subsample': 1.0, 'colsample_bytree': 0.7}. Best is trial 28 with value: 0.7409808943509505.\n",
      "[I 2025-02-23 09:08:09,650] Trial 37 finished with value: 0.7408346188150945 and parameters: {'num_iterations': 2040, 'objective': 'binary', 'metric': 'auc', 'verbose': -1, 'learning_rate': 0.006611536934949855, 'n_estimators': 1376, 'min_child_samples': 45, 'subsample': 0.6, 'colsample_bytree': 1.0}. Best is trial 28 with value: 0.7409808943509505.\n",
      "[I 2025-02-23 09:08:29,025] Trial 38 finished with value: 0.7399048080093983 and parameters: {'num_iterations': 2378, 'objective': 'binary', 'metric': 'auc', 'verbose': -1, 'learning_rate': 0.009499241684384064, 'n_estimators': 526, 'min_child_samples': 40, 'subsample': 0.9, 'colsample_bytree': 0.9}. Best is trial 28 with value: 0.7409808943509505.\n",
      "[I 2025-02-23 09:08:50,133] Trial 39 finished with value: 0.7408894368994253 and parameters: {'num_iterations': 1923, 'objective': 'binary', 'metric': 'auc', 'verbose': -1, 'learning_rate': 0.005031664136851365, 'n_estimators': 1908, 'min_child_samples': 35, 'subsample': 0.8, 'colsample_bytree': 0.5}. Best is trial 28 with value: 0.7409808943509505.\n"
     ]
    },
    {
     "name": "stdout",
     "output_type": "stream",
     "text": [
      "Cat val score : 0.7418163807252675\n",
      "LGBM val score : 0.7408497717169277\n",
      "Ensemble val score : 0.7418005885107521\n"
     ]
    },
    {
     "name": "stderr",
     "output_type": "stream",
     "text": [
      "[I 2025-02-23 09:09:09,051] A new study created in memory with name: no-name-fdcf96d8-15fd-4423-90ca-683cb56f8592\n"
     ]
    },
    {
     "name": "stdout",
     "output_type": "stream",
     "text": [
      "==================================================\n",
      "0:\ttest: 0.7094093\tbest: 0.7094093 (0)\ttotal: 93.8ms\tremaining: 3m 41s\n",
      "300:\ttest: 0.7411434\tbest: 0.7411434 (300)\ttotal: 37.2s\tremaining: 4m 15s\n",
      "600:\ttest: 0.7430200\tbest: 0.7430200 (600)\ttotal: 1m 16s\tremaining: 3m 45s\n",
      "900:\ttest: 0.7435986\tbest: 0.7435991 (899)\ttotal: 1m 55s\tremaining: 3m 7s\n",
      "1200:\ttest: 0.7439908\tbest: 0.7439908 (1200)\ttotal: 2m 39s\tremaining: 2m 34s\n",
      "1500:\ttest: 0.7442091\tbest: 0.7442295 (1451)\ttotal: 3m 27s\tremaining: 1m 59s\n"
     ]
    },
    {
     "name": "stderr",
     "output_type": "stream",
     "text": [
      "[I 2025-02-23 09:13:17,796] Trial 0 finished with value: 0.7442294843130774 and parameters: {'iterations': 2366, 'depth': 10, 'learning_rate': 0.01181021951839225, 'l2_leaf_reg': 9.980783802743254}. Best is trial 0 with value: 0.7442294843130774.\n"
     ]
    },
    {
     "name": "stdout",
     "output_type": "stream",
     "text": [
      "Stopped by overfitting detector  (300 iterations wait)\n",
      "\n",
      "bestTest = 0.7442294843\n",
      "bestIteration = 1451\n",
      "\n",
      "Shrink model to first 1452 iterations.\n",
      "저장 완료\n",
      "0:\ttest: 0.6908910\tbest: 0.6908910 (0)\ttotal: 52ms\tremaining: 1m 53s\n",
      "300:\ttest: 0.7307479\tbest: 0.7307479 (300)\ttotal: 12.8s\tremaining: 1m 20s\n",
      "600:\ttest: 0.7356841\tbest: 0.7356841 (600)\ttotal: 25.6s\tremaining: 1m 7s\n",
      "900:\ttest: 0.7381136\tbest: 0.7381136 (900)\ttotal: 38.9s\tremaining: 55.8s\n",
      "1200:\ttest: 0.7393996\tbest: 0.7393996 (1200)\ttotal: 52.3s\tremaining: 43.2s\n",
      "1500:\ttest: 0.7401512\tbest: 0.7401512 (1500)\ttotal: 1m 5s\tremaining: 30.4s\n",
      "1800:\ttest: 0.7407515\tbest: 0.7407515 (1800)\ttotal: 1m 19s\tremaining: 17.3s\n",
      "2100:\ttest: 0.7412422\tbest: 0.7412422 (2100)\ttotal: 1m 33s\tremaining: 4.1s\n"
     ]
    },
    {
     "name": "stderr",
     "output_type": "stream",
     "text": [
      "[I 2025-02-23 09:14:56,124] Trial 1 finished with value: 0.7414113781265607 and parameters: {'iterations': 2193, 'depth': 4, 'learning_rate': 0.005671430811678843, 'l2_leaf_reg': 0.00012325230809466137}. Best is trial 0 with value: 0.7442294843130774.\n"
     ]
    },
    {
     "name": "stdout",
     "output_type": "stream",
     "text": [
      "2192:\ttest: 0.7414114\tbest: 0.7414114 (2192)\ttotal: 1m 38s\tremaining: 0us\n",
      "\n",
      "bestTest = 0.7414113781\n",
      "bestIteration = 2192\n",
      "\n",
      "0:\ttest: 0.6908910\tbest: 0.6908910 (0)\ttotal: 53.8ms\tremaining: 2m 16s\n",
      "300:\ttest: 0.7432519\tbest: 0.7432519 (300)\ttotal: 14.1s\tremaining: 1m 44s\n",
      "600:\ttest: 0.7434330\tbest: 0.7438538 (443)\ttotal: 28.8s\tremaining: 1m 32s\n"
     ]
    },
    {
     "name": "stderr",
     "output_type": "stream",
     "text": [
      "[I 2025-02-23 09:15:32,152] Trial 2 finished with value: 0.743853763029391 and parameters: {'iterations': 2535, 'depth': 4, 'learning_rate': 0.09275339199839054, 'l2_leaf_reg': 0.0008705394248343123}. Best is trial 0 with value: 0.7442294843130774.\n"
     ]
    },
    {
     "name": "stdout",
     "output_type": "stream",
     "text": [
      "Stopped by overfitting detector  (300 iterations wait)\n",
      "\n",
      "bestTest = 0.743853763\n",
      "bestIteration = 443\n",
      "\n",
      "Shrink model to first 444 iterations.\n",
      "0:\ttest: 0.6908910\tbest: 0.6908910 (0)\ttotal: 49.6ms\tremaining: 1m 55s\n",
      "300:\ttest: 0.7420684\tbest: 0.7420718 (299)\ttotal: 13.5s\tremaining: 1m 31s\n",
      "600:\ttest: 0.7433505\tbest: 0.7434102 (594)\ttotal: 28s\tremaining: 1m 20s\n",
      "900:\ttest: 0.7434070\tbest: 0.7434623 (653)\ttotal: 42.5s\tremaining: 1m 7s\n"
     ]
    },
    {
     "name": "stderr",
     "output_type": "stream",
     "text": [
      "[I 2025-02-23 09:16:17,424] Trial 3 finished with value: 0.7434622932109377 and parameters: {'iterations': 2334, 'depth': 4, 'learning_rate': 0.04657568321363276, 'l2_leaf_reg': 0.0008640473331457248}. Best is trial 0 with value: 0.7442294843130774.\n"
     ]
    },
    {
     "name": "stdout",
     "output_type": "stream",
     "text": [
      "Stopped by overfitting detector  (300 iterations wait)\n",
      "\n",
      "bestTest = 0.7434622932\n",
      "bestIteration = 653\n",
      "\n",
      "Shrink model to first 654 iterations.\n",
      "0:\ttest: 0.7092638\tbest: 0.7092638 (0)\ttotal: 98.8ms\tremaining: 2m 51s\n",
      "300:\ttest: 0.7412935\tbest: 0.7412935 (300)\ttotal: 36.7s\tremaining: 2m 55s\n",
      "600:\ttest: 0.7427172\tbest: 0.7427305 (597)\ttotal: 1m 15s\tremaining: 2m 23s\n",
      "900:\ttest: 0.7425673\tbest: 0.7427339 (601)\ttotal: 1m 54s\tremaining: 1m 46s\n",
      "Stopped by overfitting detector  (300 iterations wait)\n",
      "\n",
      "bestTest = 0.7427339136\n",
      "bestIteration = 601\n",
      "\n",
      "Shrink model to first 602 iterations.\n"
     ]
    },
    {
     "name": "stderr",
     "output_type": "stream",
     "text": [
      "[I 2025-02-23 09:18:12,329] Trial 4 finished with value: 0.7427339135507572 and parameters: {'iterations': 1742, 'depth': 10, 'learning_rate': 0.012622767482095846, 'l2_leaf_reg': 0.00021158816350109617}. Best is trial 0 with value: 0.7442294843130774.\n"
     ]
    },
    {
     "name": "stdout",
     "output_type": "stream",
     "text": [
      "0:\ttest: 0.6908910\tbest: 0.6908910 (0)\ttotal: 50ms\tremaining: 1m 43s\n",
      "300:\ttest: 0.7425958\tbest: 0.7425958 (300)\ttotal: 14s\tremaining: 1m 23s\n",
      "600:\ttest: 0.7429640\tbest: 0.7430578 (534)\ttotal: 28.6s\tremaining: 1m 10s\n"
     ]
    },
    {
     "name": "stderr",
     "output_type": "stream",
     "text": [
      "[I 2025-02-23 09:18:52,650] Trial 5 finished with value: 0.7430578385945299 and parameters: {'iterations': 2082, 'depth': 4, 'learning_rate': 0.06995196593094148, 'l2_leaf_reg': 0.0018080296485396804}. Best is trial 0 with value: 0.7442294843130774.\n"
     ]
    },
    {
     "name": "stdout",
     "output_type": "stream",
     "text": [
      "Stopped by overfitting detector  (300 iterations wait)\n",
      "\n",
      "bestTest = 0.7430578386\n",
      "bestIteration = 534\n",
      "\n",
      "Shrink model to first 535 iterations.\n",
      "0:\ttest: 0.6928633\tbest: 0.6928633 (0)\ttotal: 61.5ms\tremaining: 2m 2s\n",
      "300:\ttest: 0.7432811\tbest: 0.7432811 (300)\ttotal: 17.3s\tremaining: 1m 37s\n",
      "600:\ttest: 0.7437303\tbest: 0.7437794 (550)\ttotal: 34.8s\tremaining: 1m 20s\n",
      "900:\ttest: 0.7439195\tbest: 0.7439968 (847)\ttotal: 52.6s\tremaining: 1m 3s\n",
      "1200:\ttest: 0.7439815\tbest: 0.7440460 (997)\ttotal: 1m 10s\tremaining: 46.9s\n"
     ]
    },
    {
     "name": "stderr",
     "output_type": "stream",
     "text": [
      "[I 2025-02-23 09:20:09,554] Trial 6 finished with value: 0.7440460134859556 and parameters: {'iterations': 1997, 'depth': 5, 'learning_rate': 0.07985155992831598, 'l2_leaf_reg': 62.52181000710482}. Best is trial 0 with value: 0.7442294843130774.\n"
     ]
    },
    {
     "name": "stdout",
     "output_type": "stream",
     "text": [
      "Stopped by overfitting detector  (300 iterations wait)\n",
      "\n",
      "bestTest = 0.7440460135\n",
      "bestIteration = 997\n",
      "\n",
      "Shrink model to first 998 iterations.\n",
      "0:\ttest: 0.7092638\tbest: 0.7092638 (0)\ttotal: 86.4ms\tremaining: 2m 46s\n",
      "300:\ttest: 0.7423089\tbest: 0.7432835 (148)\ttotal: 23.8s\tremaining: 2m 8s\n"
     ]
    },
    {
     "name": "stderr",
     "output_type": "stream",
     "text": [
      "[I 2025-02-23 09:20:45,935] Trial 7 finished with value: 0.7432835080295608 and parameters: {'iterations': 1927, 'depth': 7, 'learning_rate': 0.0941937211034094, 'l2_leaf_reg': 0.05654822767791934}. Best is trial 0 with value: 0.7442294843130774.\n"
     ]
    },
    {
     "name": "stdout",
     "output_type": "stream",
     "text": [
      "Stopped by overfitting detector  (300 iterations wait)\n",
      "\n",
      "bestTest = 0.743283508\n",
      "bestIteration = 148\n",
      "\n",
      "Shrink model to first 149 iterations.\n",
      "0:\ttest: 0.7092637\tbest: 0.7092637 (0)\ttotal: 86.5ms\tremaining: 2m 44s\n",
      "300:\ttest: 0.7436716\tbest: 0.7436716 (300)\ttotal: 22.7s\tremaining: 2m\n",
      "600:\ttest: 0.7440263\tbest: 0.7441198 (558)\ttotal: 47.6s\tremaining: 1m 43s\n"
     ]
    },
    {
     "name": "stderr",
     "output_type": "stream",
     "text": [
      "[I 2025-02-23 09:21:55,129] Trial 8 finished with value: 0.7441198441735297 and parameters: {'iterations': 1904, 'depth': 7, 'learning_rate': 0.05155602859187331, 'l2_leaf_reg': 1.299974533316308}. Best is trial 0 with value: 0.7442294843130774.\n"
     ]
    },
    {
     "name": "stdout",
     "output_type": "stream",
     "text": [
      "Stopped by overfitting detector  (300 iterations wait)\n",
      "\n",
      "bestTest = 0.7441198442\n",
      "bestIteration = 558\n",
      "\n",
      "Shrink model to first 559 iterations.\n",
      "0:\ttest: 0.6951126\tbest: 0.6951126 (0)\ttotal: 71.9ms\tremaining: 3m 9s\n",
      "300:\ttest: 0.7426888\tbest: 0.7427012 (299)\ttotal: 19.6s\tremaining: 2m 32s\n",
      "600:\ttest: 0.7435336\tbest: 0.7436660 (531)\ttotal: 40.8s\tremaining: 2m 18s\n",
      "900:\ttest: 0.7436499\tbest: 0.7437850 (835)\ttotal: 1m 2s\tremaining: 2m\n"
     ]
    },
    {
     "name": "stderr",
     "output_type": "stream",
     "text": [
      "[I 2025-02-23 09:23:14,606] Trial 9 finished with value: 0.7437849872799807 and parameters: {'iterations': 2639, 'depth': 6, 'learning_rate': 0.03968704290444751, 'l2_leaf_reg': 0.30557194377967184}. Best is trial 0 with value: 0.7442294843130774.\n"
     ]
    },
    {
     "name": "stdout",
     "output_type": "stream",
     "text": [
      "Stopped by overfitting detector  (300 iterations wait)\n",
      "\n",
      "bestTest = 0.7437849873\n",
      "bestIteration = 835\n",
      "\n",
      "Shrink model to first 836 iterations.\n",
      "0:\ttest: 0.7093449\tbest: 0.7093449 (0)\ttotal: 95.8ms\tremaining: 4m 41s\n",
      "300:\ttest: 0.7431125\tbest: 0.7431139 (299)\ttotal: 37.7s\tremaining: 5m 30s\n",
      "600:\ttest: 0.7439177\tbest: 0.7439206 (597)\ttotal: 1m 17s\tremaining: 5m\n",
      "900:\ttest: 0.7441784\tbest: 0.7441898 (884)\ttotal: 2m 10s\tremaining: 4m 56s\n",
      "1200:\ttest: 0.7442076\tbest: 0.7442686 (1063)\ttotal: 3m 4s\tremaining: 4m 27s\n"
     ]
    },
    {
     "name": "stderr",
     "output_type": "stream",
     "text": [
      "[I 2025-02-23 09:26:47,811] Trial 10 finished with value: 0.7442685578335277 and parameters: {'iterations': 2945, 'depth': 10, 'learning_rate': 0.025911330134996406, 'l2_leaf_reg': 97.18545559492516}. Best is trial 10 with value: 0.7442685578335277.\n"
     ]
    },
    {
     "name": "stdout",
     "output_type": "stream",
     "text": [
      "Stopped by overfitting detector  (300 iterations wait)\n",
      "\n",
      "bestTest = 0.7442685578\n",
      "bestIteration = 1063\n",
      "\n",
      "Shrink model to first 1064 iterations.\n",
      "저장 완료\n",
      "0:\ttest: 0.7093913\tbest: 0.7093913 (0)\ttotal: 93.2ms\tremaining: 4m 39s\n",
      "300:\ttest: 0.7433932\tbest: 0.7433939 (299)\ttotal: 36.3s\tremaining: 5m 25s\n",
      "600:\ttest: 0.7441291\tbest: 0.7441291 (600)\ttotal: 1m 17s\tremaining: 5m 9s\n",
      "900:\ttest: 0.7442391\tbest: 0.7442438 (899)\ttotal: 2m 9s\tremaining: 5m 1s\n",
      "1200:\ttest: 0.7442456\tbest: 0.7442561 (1119)\ttotal: 3m 2s\tremaining: 4m 31s\n",
      "1500:\ttest: 0.7441264\tbest: 0.7442921 (1310)\ttotal: 3m 55s\tremaining: 3m 54s\n"
     ]
    },
    {
     "name": "stderr",
     "output_type": "stream",
     "text": [
      "[I 2025-02-23 09:31:03,539] Trial 11 finished with value: 0.7442921488685881 and parameters: {'iterations': 2995, 'depth': 10, 'learning_rate': 0.026163874004606635, 'l2_leaf_reg': 73.1213351392818}. Best is trial 11 with value: 0.7442921488685881.\n"
     ]
    },
    {
     "name": "stdout",
     "output_type": "stream",
     "text": [
      "Stopped by overfitting detector  (300 iterations wait)\n",
      "\n",
      "bestTest = 0.7442921489\n",
      "bestIteration = 1310\n",
      "\n",
      "Shrink model to first 1311 iterations.\n",
      "저장 완료\n",
      "0:\ttest: 0.7093816\tbest: 0.7093816 (0)\ttotal: 92.7ms\tremaining: 4m 28s\n",
      "300:\ttest: 0.7432372\tbest: 0.7432374 (299)\ttotal: 27.6s\tremaining: 3m 58s\n",
      "600:\ttest: 0.7441720\tbest: 0.7441720 (600)\ttotal: 55.9s\tremaining: 3m 33s\n",
      "900:\ttest: 0.7444469\tbest: 0.7444549 (887)\ttotal: 1m 27s\tremaining: 3m 13s\n",
      "1200:\ttest: 0.7445038\tbest: 0.7445156 (1192)\ttotal: 1m 59s\tremaining: 2m 48s\n"
     ]
    },
    {
     "name": "stderr",
     "output_type": "stream",
     "text": [
      "[I 2025-02-23 09:33:34,092] Trial 12 finished with value: 0.7445156065199918 and parameters: {'iterations': 2897, 'depth': 9, 'learning_rate': 0.02806616524326411, 'l2_leaf_reg': 87.13438924619796}. Best is trial 12 with value: 0.7445156065199918.\n"
     ]
    },
    {
     "name": "stdout",
     "output_type": "stream",
     "text": [
      "Stopped by overfitting detector  (300 iterations wait)\n",
      "\n",
      "bestTest = 0.7445156065\n",
      "bestIteration = 1192\n",
      "\n",
      "Shrink model to first 1193 iterations.\n",
      "저장 완료\n",
      "0:\ttest: 0.7093438\tbest: 0.7093438 (0)\ttotal: 95.4ms\tremaining: 4m 43s\n",
      "300:\ttest: 0.7432032\tbest: 0.7432196 (290)\ttotal: 28.2s\tremaining: 4m 10s\n",
      "600:\ttest: 0.7440171\tbest: 0.7440425 (595)\ttotal: 59.3s\tremaining: 3m 54s\n",
      "900:\ttest: 0.7438022\tbest: 0.7440685 (630)\ttotal: 1m 32s\tremaining: 3m 32s\n"
     ]
    },
    {
     "name": "stderr",
     "output_type": "stream",
     "text": [
      "[I 2025-02-23 09:35:09,702] Trial 13 finished with value: 0.7440684688475557 and parameters: {'iterations': 2975, 'depth': 9, 'learning_rate': 0.02991325011301619, 'l2_leaf_reg': 6.51790052016232}. Best is trial 12 with value: 0.7445156065199918.\n"
     ]
    },
    {
     "name": "stdout",
     "output_type": "stream",
     "text": [
      "Stopped by overfitting detector  (300 iterations wait)\n",
      "\n",
      "bestTest = 0.7440684688\n",
      "bestIteration = 630\n",
      "\n",
      "Shrink model to first 631 iterations.\n",
      "0:\ttest: 0.7094094\tbest: 0.7094094 (0)\ttotal: 95.1ms\tremaining: 4m 21s\n",
      "300:\ttest: 0.7428751\tbest: 0.7428799 (298)\ttotal: 24.9s\tremaining: 3m 22s\n",
      "600:\ttest: 0.7441108\tbest: 0.7441216 (592)\ttotal: 51.2s\tremaining: 3m 3s\n",
      "900:\ttest: 0.7442131\tbest: 0.7442982 (698)\ttotal: 1m 19s\tremaining: 2m 43s\n"
     ]
    },
    {
     "name": "stderr",
     "output_type": "stream",
     "text": [
      "[I 2025-02-23 09:36:38,661] Trial 14 finished with value: 0.7442981885865357 and parameters: {'iterations': 2754, 'depth': 8, 'learning_rate': 0.028213940573808334, 'l2_leaf_reg': 11.34882823847059}. Best is trial 12 with value: 0.7445156065199918.\n"
     ]
    },
    {
     "name": "stdout",
     "output_type": "stream",
     "text": [
      "Stopped by overfitting detector  (300 iterations wait)\n",
      "\n",
      "bestTest = 0.7442981886\n",
      "bestIteration = 698\n",
      "\n",
      "Shrink model to first 699 iterations.\n",
      "0:\ttest: 0.7092638\tbest: 0.7092638 (0)\ttotal: 96.9ms\tremaining: 4m 23s\n",
      "300:\ttest: 0.7427564\tbest: 0.7428543 (248)\ttotal: 26.3s\tremaining: 3m 31s\n"
     ]
    },
    {
     "name": "stderr",
     "output_type": "stream",
     "text": [
      "[I 2025-02-23 09:37:29,068] Trial 15 finished with value: 0.7428542591995666 and parameters: {'iterations': 2718, 'depth': 8, 'learning_rate': 0.06211785996573631, 'l2_leaf_reg': 0.030020115275661678}. Best is trial 12 with value: 0.7445156065199918.\n"
     ]
    },
    {
     "name": "stdout",
     "output_type": "stream",
     "text": [
      "Stopped by overfitting detector  (300 iterations wait)\n",
      "\n",
      "bestTest = 0.7428542592\n",
      "bestIteration = 248\n",
      "\n",
      "Shrink model to first 249 iterations.\n",
      "0:\ttest: 0.7093483\tbest: 0.7093483 (0)\ttotal: 92.7ms\tremaining: 4m 13s\n",
      "300:\ttest: 0.7431256\tbest: 0.7431256 (300)\ttotal: 25.1s\tremaining: 3m 23s\n",
      "600:\ttest: 0.7440239\tbest: 0.7441265 (514)\ttotal: 53.1s\tremaining: 3m 8s\n"
     ]
    },
    {
     "name": "stderr",
     "output_type": "stream",
     "text": [
      "[I 2025-02-23 09:38:42,712] Trial 16 finished with value: 0.7441265470294769 and parameters: {'iterations': 2740, 'depth': 8, 'learning_rate': 0.035870893236084424, 'l2_leaf_reg': 7.271286562073501}. Best is trial 12 with value: 0.7445156065199918.\n"
     ]
    },
    {
     "name": "stdout",
     "output_type": "stream",
     "text": [
      "Stopped by overfitting detector  (300 iterations wait)\n",
      "\n",
      "bestTest = 0.744126547\n",
      "bestIteration = 514\n",
      "\n",
      "Shrink model to first 515 iterations.\n",
      "0:\ttest: 0.7092637\tbest: 0.7092637 (0)\ttotal: 94.9ms\tremaining: 4m 26s\n",
      "300:\ttest: 0.7423898\tbest: 0.7423900 (299)\ttotal: 24.7s\tremaining: 3m 25s\n",
      "600:\ttest: 0.7435235\tbest: 0.7435298 (599)\ttotal: 50s\tremaining: 3m 3s\n",
      "900:\ttest: 0.7439206\tbest: 0.7439379 (888)\ttotal: 1m 18s\tremaining: 2m 46s\n",
      "1200:\ttest: 0.7437848\tbest: 0.7439555 (915)\ttotal: 1m 47s\tremaining: 2m 24s\n"
     ]
    },
    {
     "name": "stderr",
     "output_type": "stream",
     "text": [
      "[I 2025-02-23 09:40:31,814] Trial 17 finished with value: 0.7439555447851003 and parameters: {'iterations': 2811, 'depth': 8, 'learning_rate': 0.021754312478655786, 'l2_leaf_reg': 1.1573000967262355}. Best is trial 12 with value: 0.7445156065199918.\n"
     ]
    },
    {
     "name": "stdout",
     "output_type": "stream",
     "text": [
      "Stopped by overfitting detector  (300 iterations wait)\n",
      "\n",
      "bestTest = 0.7439555448\n",
      "bestIteration = 915\n",
      "\n",
      "Shrink model to first 916 iterations.\n",
      "0:\ttest: 0.7094129\tbest: 0.7094129 (0)\ttotal: 94.3ms\tremaining: 3m 56s\n",
      "300:\ttest: 0.7436141\tbest: 0.7436192 (298)\ttotal: 27.4s\tremaining: 3m 21s\n",
      "600:\ttest: 0.7440046\tbest: 0.7442308 (420)\ttotal: 59.6s\tremaining: 3m 9s\n"
     ]
    },
    {
     "name": "stderr",
     "output_type": "stream",
     "text": [
      "[I 2025-02-23 09:41:44,732] Trial 18 finished with value: 0.744230766909328 and parameters: {'iterations': 2507, 'depth': 9, 'learning_rate': 0.0414161631329224, 'l2_leaf_reg': 18.777065184428203}. Best is trial 12 with value: 0.7445156065199918.\n"
     ]
    },
    {
     "name": "stdout",
     "output_type": "stream",
     "text": [
      "Stopped by overfitting detector  (300 iterations wait)\n",
      "\n",
      "bestTest = 0.7442307669\n",
      "bestIteration = 420\n",
      "\n",
      "Shrink model to first 421 iterations.\n",
      "0:\ttest: 0.7092637\tbest: 0.7092637 (0)\ttotal: 93.7ms\tremaining: 4m 25s\n",
      "300:\ttest: 0.7432354\tbest: 0.7434586 (225)\ttotal: 30.1s\tremaining: 4m 12s\n"
     ]
    },
    {
     "name": "stderr",
     "output_type": "stream",
     "text": [
      "[I 2025-02-23 09:42:40,016] Trial 19 finished with value: 0.7434585645487728 and parameters: {'iterations': 2831, 'depth': 9, 'learning_rate': 0.06099268797854106, 'l2_leaf_reg': 1.4969676709690884}. Best is trial 12 with value: 0.7445156065199918.\n",
      "[I 2025-02-23 09:42:40,019] A new study created in memory with name: no-name-68b9013b-d153-4b55-ad63-a941ca45ffd2\n"
     ]
    },
    {
     "name": "stdout",
     "output_type": "stream",
     "text": [
      "Stopped by overfitting detector  (300 iterations wait)\n",
      "\n",
      "bestTest = 0.7434585645\n",
      "bestIteration = 225\n",
      "\n",
      "Shrink model to first 226 iterations.\n"
     ]
    },
    {
     "name": "stderr",
     "output_type": "stream",
     "text": [
      "[I 2025-02-23 09:43:03,117] Trial 0 finished with value: 0.7360093527395096 and parameters: {'num_iterations': 2366, 'objective': 'binary', 'metric': 'auc', 'verbose': -1, 'learning_rate': 0.0652646236447618, 'n_estimators': 236, 'min_child_samples': 45, 'subsample': 0.7, 'colsample_bytree': 0.5}. Best is trial 0 with value: 0.7360093527395096.\n",
      "[I 2025-02-23 09:43:19,937] Trial 1 finished with value: 0.7436975205691112 and parameters: {'num_iterations': 1510, 'objective': 'binary', 'metric': 'auc', 'verbose': -1, 'learning_rate': 0.005231880959249543, 'n_estimators': 1411, 'min_child_samples': 10, 'subsample': 1.0, 'colsample_bytree': 0.5}. Best is trial 1 with value: 0.7436975205691112.\n",
      "[I 2025-02-23 09:43:39,436] Trial 2 finished with value: 0.7434001329579777 and parameters: {'num_iterations': 2334, 'objective': 'binary', 'metric': 'auc', 'verbose': -1, 'learning_rate': 0.006578527777128852, 'n_estimators': 931, 'min_child_samples': 15, 'subsample': 0.5, 'colsample_bytree': 1.0}. Best is trial 1 with value: 0.7436975205691112.\n",
      "[I 2025-02-23 09:43:55,903] Trial 3 finished with value: 0.7440062291768712 and parameters: {'num_iterations': 1620, 'objective': 'binary', 'metric': 'auc', 'verbose': -1, 'learning_rate': 0.0058823249237283685, 'n_estimators': 837, 'min_child_samples': 10, 'subsample': 0.9, 'colsample_bytree': 0.6}. Best is trial 3 with value: 0.7440062291768712.\n",
      "[I 2025-02-23 09:44:12,212] Trial 4 finished with value: 0.7430967215124413 and parameters: {'num_iterations': 1997, 'objective': 'binary', 'metric': 'auc', 'verbose': -1, 'learning_rate': 0.010907507425244923, 'n_estimators': 1597, 'min_child_samples': 50, 'subsample': 0.6, 'colsample_bytree': 0.8}. Best is trial 3 with value: 0.7440062291768712.\n",
      "[I 2025-02-23 09:44:34,743] Trial 5 finished with value: 0.7400750637271647 and parameters: {'num_iterations': 2909, 'objective': 'binary', 'metric': 'auc', 'verbose': -1, 'learning_rate': 0.019760591962733942, 'n_estimators': 612, 'min_child_samples': 30, 'subsample': 0.7, 'colsample_bytree': 0.9}. Best is trial 3 with value: 0.7440062291768712.\n",
      "[I 2025-02-23 09:44:55,461] Trial 6 finished with value: 0.7410259400842826 and parameters: {'num_iterations': 2639, 'objective': 'binary', 'metric': 'auc', 'verbose': -1, 'learning_rate': 0.017862094446750985, 'n_estimators': 794, 'min_child_samples': 35, 'subsample': 1.0, 'colsample_bytree': 0.8}. Best is trial 3 with value: 0.7440062291768712.\n",
      "[I 2025-02-23 09:45:11,849] Trial 7 finished with value: 0.7435563714473712 and parameters: {'num_iterations': 1580, 'objective': 'binary', 'metric': 'auc', 'verbose': -1, 'learning_rate': 0.01776722177611332, 'n_estimators': 529, 'min_child_samples': 25, 'subsample': 0.8, 'colsample_bytree': 0.5}. Best is trial 3 with value: 0.7440062291768712.\n",
      "[I 2025-02-23 09:45:29,217] Trial 8 finished with value: 0.7413036519541731 and parameters: {'num_iterations': 1911, 'objective': 'binary', 'metric': 'auc', 'verbose': -1, 'learning_rate': 0.0304747553332844, 'n_estimators': 1328, 'min_child_samples': 10, 'subsample': 0.7, 'colsample_bytree': 0.6}. Best is trial 3 with value: 0.7440062291768712.\n",
      "[I 2025-02-23 09:45:56,292] Trial 9 finished with value: 0.7406358600760078 and parameters: {'num_iterations': 2739, 'objective': 'binary', 'metric': 'auc', 'verbose': -1, 'learning_rate': 0.02691531614176271, 'n_estimators': 1438, 'min_child_samples': 20, 'subsample': 0.6, 'colsample_bytree': 0.5}. Best is trial 3 with value: 0.7440062291768712.\n",
      "[I 2025-02-23 09:46:10,734] Trial 10 finished with value: 0.7351773448615255 and parameters: {'num_iterations': 1883, 'objective': 'binary', 'metric': 'auc', 'verbose': -1, 'learning_rate': 0.08223556891145911, 'n_estimators': 1917, 'min_child_samples': 40, 'subsample': 0.9, 'colsample_bytree': 0.7}. Best is trial 3 with value: 0.7440062291768712.\n",
      "[I 2025-02-23 09:46:26,251] Trial 11 finished with value: 0.7438638173133117 and parameters: {'num_iterations': 1513, 'objective': 'binary', 'metric': 'auc', 'verbose': -1, 'learning_rate': 0.005340229419903739, 'n_estimators': 1206, 'min_child_samples': 10, 'subsample': 1.0, 'colsample_bytree': 0.6}. Best is trial 3 with value: 0.7440062291768712.\n",
      "[I 2025-02-23 09:46:41,035] Trial 12 finished with value: 0.7440358678716517 and parameters: {'num_iterations': 1717, 'objective': 'binary', 'metric': 'auc', 'verbose': -1, 'learning_rate': 0.008807202863131344, 'n_estimators': 1093, 'min_child_samples': 20, 'subsample': 0.9, 'colsample_bytree': 0.7}. Best is trial 12 with value: 0.7440358678716517.\n",
      "[I 2025-02-23 09:46:56,109] Trial 13 finished with value: 0.7441533028608583 and parameters: {'num_iterations': 1785, 'objective': 'binary', 'metric': 'auc', 'verbose': -1, 'learning_rate': 0.010668787980411185, 'n_estimators': 1055, 'min_child_samples': 20, 'subsample': 0.9, 'colsample_bytree': 0.7}. Best is trial 13 with value: 0.7441533028608583.\n",
      "[I 2025-02-23 09:47:13,842] Trial 14 finished with value: 0.7435761027810213 and parameters: {'num_iterations': 2116, 'objective': 'binary', 'metric': 'auc', 'verbose': -1, 'learning_rate': 0.010011974566213179, 'n_estimators': 1126, 'min_child_samples': 20, 'subsample': 0.9, 'colsample_bytree': 0.7}. Best is trial 13 with value: 0.7441533028608583.\n",
      "[I 2025-02-23 09:47:28,715] Trial 15 finished with value: 0.7439143706658372 and parameters: {'num_iterations': 1758, 'objective': 'binary', 'metric': 'auc', 'verbose': -1, 'learning_rate': 0.010223866226689225, 'n_estimators': 1671, 'min_child_samples': 25, 'subsample': 0.8, 'colsample_bytree': 0.7}. Best is trial 13 with value: 0.7441533028608583.\n",
      "[I 2025-02-23 09:47:45,917] Trial 16 finished with value: 0.7427076779054712 and parameters: {'num_iterations': 2134, 'objective': 'binary', 'metric': 'auc', 'verbose': -1, 'learning_rate': 0.012900328276877392, 'n_estimators': 295, 'min_child_samples': 20, 'subsample': 0.9, 'colsample_bytree': 0.9}. Best is trial 13 with value: 0.7441533028608583.\n",
      "[I 2025-02-23 09:47:59,719] Trial 17 finished with value: 0.7387703099314819 and parameters: {'num_iterations': 1772, 'objective': 'binary', 'metric': 'auc', 'verbose': -1, 'learning_rate': 0.03933979848900536, 'n_estimators': 1042, 'min_child_samples': 25, 'subsample': 0.8, 'colsample_bytree': 0.8}. Best is trial 13 with value: 0.7441533028608583.\n",
      "[I 2025-02-23 09:48:14,870] Trial 18 finished with value: 0.7440068168680324 and parameters: {'num_iterations': 1736, 'objective': 'binary', 'metric': 'auc', 'verbose': -1, 'learning_rate': 0.007729528796408071, 'n_estimators': 646, 'min_child_samples': 30, 'subsample': 0.9, 'colsample_bytree': 0.7}. Best is trial 13 with value: 0.7441533028608583.\n",
      "[I 2025-02-23 09:48:34,740] Trial 19 finished with value: 0.7425293334924653 and parameters: {'num_iterations': 2481, 'objective': 'binary', 'metric': 'auc', 'verbose': -1, 'learning_rate': 0.012975832119287956, 'n_estimators': 1904, 'min_child_samples': 15, 'subsample': 1.0, 'colsample_bytree': 0.9}. Best is trial 13 with value: 0.7441533028608583.\n",
      "[I 2025-02-23 09:48:54,983] Trial 20 finished with value: 0.744135068551315 and parameters: {'num_iterations': 2088, 'objective': 'binary', 'metric': 'auc', 'verbose': -1, 'learning_rate': 0.007877155758725746, 'n_estimators': 1000, 'min_child_samples': 30, 'subsample': 0.8, 'colsample_bytree': 0.6}. Best is trial 13 with value: 0.7441533028608583.\n",
      "[I 2025-02-23 09:49:15,315] Trial 21 finished with value: 0.7438572335839513 and parameters: {'num_iterations': 2121, 'objective': 'binary', 'metric': 'auc', 'verbose': -1, 'learning_rate': 0.008274839710944892, 'n_estimators': 992, 'min_child_samples': 30, 'subsample': 0.8, 'colsample_bytree': 0.6}. Best is trial 13 with value: 0.7441533028608583.\n",
      "[I 2025-02-23 09:49:34,148] Trial 22 finished with value: 0.7433955743805918 and parameters: {'num_iterations': 2015, 'objective': 'binary', 'metric': 'auc', 'verbose': -1, 'learning_rate': 0.013921044750592087, 'n_estimators': 1239, 'min_child_samples': 35, 'subsample': 0.9, 'colsample_bytree': 0.6}. Best is trial 13 with value: 0.7441533028608583.\n",
      "[I 2025-02-23 09:49:50,188] Trial 23 finished with value: 0.7440002569639894 and parameters: {'num_iterations': 1872, 'objective': 'binary', 'metric': 'auc', 'verbose': -1, 'learning_rate': 0.00853861090278903, 'n_estimators': 842, 'min_child_samples': 15, 'subsample': 0.8, 'colsample_bytree': 0.7}. Best is trial 13 with value: 0.7441533028608583.\n",
      "[I 2025-02-23 09:50:04,960] Trial 24 finished with value: 0.7439462251151311 and parameters: {'num_iterations': 1712, 'objective': 'binary', 'metric': 'auc', 'verbose': -1, 'learning_rate': 0.006804581581826419, 'n_estimators': 405, 'min_child_samples': 20, 'subsample': 0.9, 'colsample_bytree': 0.8}. Best is trial 13 with value: 0.7441533028608583.\n",
      "[I 2025-02-23 09:50:25,472] Trial 25 finished with value: 0.7422510220187547 and parameters: {'num_iterations': 2229, 'objective': 'binary', 'metric': 'auc', 'verbose': -1, 'learning_rate': 0.016372359563674662, 'n_estimators': 1108, 'min_child_samples': 35, 'subsample': 0.8, 'colsample_bytree': 0.6}. Best is trial 13 with value: 0.7441533028608583.\n",
      "[I 2025-02-23 09:50:40,356] Trial 26 finished with value: 0.7417297240751878 and parameters: {'num_iterations': 1854, 'objective': 'binary', 'metric': 'auc', 'verbose': -1, 'learning_rate': 0.023566726925219234, 'n_estimators': 747, 'min_child_samples': 25, 'subsample': 1.0, 'colsample_bytree': 0.7}. Best is trial 13 with value: 0.7441533028608583.\n",
      "[I 2025-02-23 09:50:59,442] Trial 27 finished with value: 0.7438764645859371 and parameters: {'num_iterations': 2000, 'objective': 'binary', 'metric': 'auc', 'verbose': -1, 'learning_rate': 0.00947796712272006, 'n_estimators': 1543, 'min_child_samples': 40, 'subsample': 0.7, 'colsample_bytree': 0.6}. Best is trial 13 with value: 0.7441533028608583.\n",
      "[I 2025-02-23 09:51:13,233] Trial 28 finished with value: 0.7437720223364573 and parameters: {'num_iterations': 1634, 'objective': 'binary', 'metric': 'auc', 'verbose': -1, 'learning_rate': 0.011830542510817875, 'n_estimators': 1225, 'min_child_samples': 15, 'subsample': 0.9, 'colsample_bytree': 0.7}. Best is trial 13 with value: 0.7441533028608583.\n",
      "[I 2025-02-23 09:51:36,568] Trial 29 finished with value: 0.7391561530041549 and parameters: {'num_iterations': 2362, 'objective': 'binary', 'metric': 'auc', 'verbose': -1, 'learning_rate': 0.04030098468148633, 'n_estimators': 967, 'min_child_samples': 30, 'subsample': 0.6, 'colsample_bytree': 0.5}. Best is trial 13 with value: 0.7441533028608583.\n",
      "[I 2025-02-23 09:51:55,200] Trial 30 finished with value: 0.7438990073070342 and parameters: {'num_iterations': 2223, 'objective': 'binary', 'metric': 'auc', 'verbose': -1, 'learning_rate': 0.007156536539413739, 'n_estimators': 104, 'min_child_samples': 45, 'subsample': 0.8, 'colsample_bytree': 0.8}. Best is trial 13 with value: 0.7441533028608583.\n",
      "[I 2025-02-23 09:52:09,915] Trial 31 finished with value: 0.7439766619580427 and parameters: {'num_iterations': 1694, 'objective': 'binary', 'metric': 'auc', 'verbose': -1, 'learning_rate': 0.007779567691206357, 'n_estimators': 614, 'min_child_samples': 30, 'subsample': 0.9, 'colsample_bytree': 0.7}. Best is trial 13 with value: 0.7441533028608583.\n",
      "[I 2025-02-23 09:52:24,577] Trial 32 finished with value: 0.7434417518164977 and parameters: {'num_iterations': 1772, 'objective': 'binary', 'metric': 'auc', 'verbose': -1, 'learning_rate': 0.014772190406616103, 'n_estimators': 526, 'min_child_samples': 25, 'subsample': 0.9, 'colsample_bytree': 0.7}. Best is trial 13 with value: 0.7441533028608583.\n",
      "[I 2025-02-23 09:52:42,756] Trial 33 finished with value: 0.7440003721196898 and parameters: {'num_iterations': 1804, 'objective': 'binary', 'metric': 'auc', 'verbose': -1, 'learning_rate': 0.005138774713120036, 'n_estimators': 886, 'min_child_samples': 40, 'subsample': 1.0, 'colsample_bytree': 0.6}. Best is trial 13 with value: 0.7441533028608583.\n",
      "[I 2025-02-23 09:52:59,854] Trial 34 finished with value: 0.7441944333003728 and parameters: {'num_iterations': 1956, 'objective': 'binary', 'metric': 'auc', 'verbose': -1, 'learning_rate': 0.0062292809396260005, 'n_estimators': 1343, 'min_child_samples': 20, 'subsample': 0.9, 'colsample_bytree': 0.7}. Best is trial 34 with value: 0.7441944333003728.\n",
      "[I 2025-02-23 09:53:16,664] Trial 35 finished with value: 0.7439801960467827 and parameters: {'num_iterations': 1961, 'objective': 'binary', 'metric': 'auc', 'verbose': -1, 'learning_rate': 0.006168055379713024, 'n_estimators': 1462, 'min_child_samples': 20, 'subsample': 0.8, 'colsample_bytree': 0.8}. Best is trial 34 with value: 0.7441944333003728.\n",
      "[I 2025-02-23 09:53:36,775] Trial 36 finished with value: 0.7440887799305946 and parameters: {'num_iterations': 2045, 'objective': 'binary', 'metric': 'auc', 'verbose': -1, 'learning_rate': 0.006215793464296697, 'n_estimators': 1349, 'min_child_samples': 15, 'subsample': 0.5, 'colsample_bytree': 0.6}. Best is trial 34 with value: 0.7441944333003728.\n",
      "[I 2025-02-23 09:53:59,375] Trial 37 finished with value: 0.7439372548831497 and parameters: {'num_iterations': 2089, 'objective': 'binary', 'metric': 'auc', 'verbose': -1, 'learning_rate': 0.0062148611492427635, 'n_estimators': 1773, 'min_child_samples': 15, 'subsample': 0.6, 'colsample_bytree': 0.5}. Best is trial 34 with value: 0.7441944333003728.\n",
      "[I 2025-02-23 09:54:21,841] Trial 38 finished with value: 0.7439571649066798 and parameters: {'num_iterations': 2280, 'objective': 'binary', 'metric': 'auc', 'verbose': -1, 'learning_rate': 0.005833103341844522, 'n_estimators': 1337, 'min_child_samples': 10, 'subsample': 0.5, 'colsample_bytree': 0.6}. Best is trial 34 with value: 0.7441944333003728.\n",
      "[I 2025-02-23 09:54:39,615] Trial 39 finished with value: 0.7433025087201456 and parameters: {'num_iterations': 2067, 'objective': 'binary', 'metric': 'auc', 'verbose': -1, 'learning_rate': 0.005028763322453145, 'n_estimators': 1532, 'min_child_samples': 15, 'subsample': 0.5, 'colsample_bytree': 1.0}. Best is trial 34 with value: 0.7441944333003728.\n"
     ]
    },
    {
     "name": "stdout",
     "output_type": "stream",
     "text": [
      "Cat val score : 0.7445156065199918\n",
      "LGBM val score : 0.7440029492248497\n",
      "Ensemble val score : 0.744608795277911\n"
     ]
    },
    {
     "name": "stderr",
     "output_type": "stream",
     "text": [
      "[I 2025-02-23 09:54:57,955] A new study created in memory with name: no-name-8c257c5c-2b80-4892-8d70-b52d968b778c\n"
     ]
    },
    {
     "name": "stdout",
     "output_type": "stream",
     "text": [
      "==================================================\n",
      "0:\ttest: 0.7208588\tbest: 0.7208588 (0)\ttotal: 131ms\tremaining: 5m 8s\n",
      "300:\ttest: 0.7359928\tbest: 0.7359928 (300)\ttotal: 38.7s\tremaining: 4m 25s\n",
      "600:\ttest: 0.7375359\tbest: 0.7375359 (600)\ttotal: 1m 19s\tremaining: 3m 52s\n",
      "900:\ttest: 0.7380788\tbest: 0.7380863 (897)\ttotal: 1m 59s\tremaining: 3m 14s\n",
      "1200:\ttest: 0.7383713\tbest: 0.7383738 (1198)\ttotal: 2m 44s\tremaining: 2m 39s\n",
      "1500:\ttest: 0.7385280\tbest: 0.7385323 (1488)\ttotal: 3m 32s\tremaining: 2m 2s\n",
      "1800:\ttest: 0.7385156\tbest: 0.7385575 (1525)\ttotal: 4m 21s\tremaining: 1m 22s\n"
     ]
    },
    {
     "name": "stderr",
     "output_type": "stream",
     "text": [
      "[I 2025-02-23 09:59:23,931] Trial 0 finished with value: 0.7385574704298428 and parameters: {'iterations': 2366, 'depth': 10, 'learning_rate': 0.01181021951839225, 'l2_leaf_reg': 9.980783802743254}. Best is trial 0 with value: 0.7385574704298428.\n"
     ]
    },
    {
     "name": "stdout",
     "output_type": "stream",
     "text": [
      "Stopped by overfitting detector  (300 iterations wait)\n",
      "\n",
      "bestTest = 0.7385574704\n",
      "bestIteration = 1525\n",
      "\n",
      "Shrink model to first 1526 iterations.\n",
      "저장 완료\n",
      "0:\ttest: 0.6976802\tbest: 0.6976802 (0)\ttotal: 51.4ms\tremaining: 1m 52s\n",
      "300:\ttest: 0.7282151\tbest: 0.7282151 (300)\ttotal: 12.9s\tremaining: 1m 21s\n",
      "600:\ttest: 0.7319163\tbest: 0.7319163 (600)\ttotal: 25.9s\tremaining: 1m 8s\n",
      "900:\ttest: 0.7341131\tbest: 0.7341131 (900)\ttotal: 39.3s\tremaining: 56.4s\n",
      "1200:\ttest: 0.7353158\tbest: 0.7353158 (1200)\ttotal: 53s\tremaining: 43.7s\n",
      "1500:\ttest: 0.7360635\tbest: 0.7360635 (1500)\ttotal: 1m 6s\tremaining: 30.7s\n",
      "1800:\ttest: 0.7365992\tbest: 0.7365992 (1800)\ttotal: 1m 20s\tremaining: 17.5s\n",
      "2100:\ttest: 0.7370394\tbest: 0.7370401 (2099)\ttotal: 1m 34s\tremaining: 4.13s\n"
     ]
    },
    {
     "name": "stderr",
     "output_type": "stream",
     "text": [
      "[I 2025-02-23 10:01:02,987] Trial 1 finished with value: 0.7371549375317651 and parameters: {'iterations': 2193, 'depth': 4, 'learning_rate': 0.005671430811678843, 'l2_leaf_reg': 0.00012325230809466137}. Best is trial 0 with value: 0.7385574704298428.\n"
     ]
    },
    {
     "name": "stdout",
     "output_type": "stream",
     "text": [
      "2192:\ttest: 0.7371549\tbest: 0.7371549 (2192)\ttotal: 1m 38s\tremaining: 0us\n",
      "\n",
      "bestTest = 0.7371549375\n",
      "bestIteration = 2192\n",
      "\n",
      "0:\ttest: 0.6976802\tbest: 0.6976802 (0)\ttotal: 53.2ms\tremaining: 2m 14s\n",
      "300:\ttest: 0.7379913\tbest: 0.7380121 (254)\ttotal: 14.3s\tremaining: 1m 45s\n",
      "600:\ttest: 0.7377207\tbest: 0.7381740 (413)\ttotal: 28.8s\tremaining: 1m 32s\n"
     ]
    },
    {
     "name": "stderr",
     "output_type": "stream",
     "text": [
      "[I 2025-02-23 10:01:37,586] Trial 2 finished with value: 0.7381740098889045 and parameters: {'iterations': 2535, 'depth': 4, 'learning_rate': 0.09275339199839054, 'l2_leaf_reg': 0.0008705394248343123}. Best is trial 0 with value: 0.7385574704298428.\n"
     ]
    },
    {
     "name": "stdout",
     "output_type": "stream",
     "text": [
      "Stopped by overfitting detector  (300 iterations wait)\n",
      "\n",
      "bestTest = 0.7381740099\n",
      "bestIteration = 413\n",
      "\n",
      "Shrink model to first 414 iterations.\n",
      "0:\ttest: 0.6976802\tbest: 0.6976802 (0)\ttotal: 51.9ms\tremaining: 2m 1s\n",
      "300:\ttest: 0.7373149\tbest: 0.7373497 (293)\ttotal: 13.7s\tremaining: 1m 32s\n",
      "600:\ttest: 0.7383327\tbest: 0.7383327 (600)\ttotal: 28.2s\tremaining: 1m 21s\n",
      "900:\ttest: 0.7380976\tbest: 0.7383327 (604)\ttotal: 42.7s\tremaining: 1m 7s\n",
      "Stopped by overfitting detector  (300 iterations wait)\n",
      "\n",
      "bestTest = 0.7383327302\n",
      "bestIteration = 604\n",
      "\n",
      "Shrink model to first 605 iterations.\n"
     ]
    },
    {
     "name": "stderr",
     "output_type": "stream",
     "text": [
      "[I 2025-02-23 10:02:20,692] Trial 3 finished with value: 0.7383327301821884 and parameters: {'iterations': 2334, 'depth': 4, 'learning_rate': 0.04657568321363276, 'l2_leaf_reg': 0.0008640473331457248}. Best is trial 0 with value: 0.7385574704298428.\n"
     ]
    },
    {
     "name": "stdout",
     "output_type": "stream",
     "text": [
      "0:\ttest: 0.7208055\tbest: 0.7208055 (0)\ttotal: 126ms\tremaining: 3m 38s\n",
      "300:\ttest: 0.7352726\tbest: 0.7352726 (300)\ttotal: 36.7s\tremaining: 2m 55s\n",
      "600:\ttest: 0.7365286\tbest: 0.7365534 (570)\ttotal: 1m 16s\tremaining: 2m 25s\n",
      "900:\ttest: 0.7329105\tbest: 0.7366104 (627)\ttotal: 1m 55s\tremaining: 1m 47s\n"
     ]
    },
    {
     "name": "stderr",
     "output_type": "stream",
     "text": [
      "[I 2025-02-23 10:04:20,076] Trial 4 finished with value: 0.736610441670874 and parameters: {'iterations': 1742, 'depth': 10, 'learning_rate': 0.012622767482095846, 'l2_leaf_reg': 0.00021158816350109617}. Best is trial 0 with value: 0.7385574704298428.\n"
     ]
    },
    {
     "name": "stdout",
     "output_type": "stream",
     "text": [
      "Stopped by overfitting detector  (300 iterations wait)\n",
      "\n",
      "bestTest = 0.7366104417\n",
      "bestIteration = 627\n",
      "\n",
      "Shrink model to first 628 iterations.\n",
      "0:\ttest: 0.6976802\tbest: 0.6976802 (0)\ttotal: 53ms\tremaining: 1m 50s\n",
      "300:\ttest: 0.7377589\tbest: 0.7377589 (300)\ttotal: 14s\tremaining: 1m 22s\n",
      "600:\ttest: 0.7380365\tbest: 0.7381548 (395)\ttotal: 28.5s\tremaining: 1m 10s\n"
     ]
    },
    {
     "name": "stderr",
     "output_type": "stream",
     "text": [
      "[I 2025-02-23 10:04:53,474] Trial 5 finished with value: 0.7381548146248946 and parameters: {'iterations': 2082, 'depth': 4, 'learning_rate': 0.06995196593094148, 'l2_leaf_reg': 0.0018080296485396804}. Best is trial 0 with value: 0.7385574704298428.\n"
     ]
    },
    {
     "name": "stdout",
     "output_type": "stream",
     "text": [
      "Stopped by overfitting detector  (300 iterations wait)\n",
      "\n",
      "bestTest = 0.7381548146\n",
      "bestIteration = 395\n",
      "\n",
      "Shrink model to first 396 iterations.\n",
      "0:\ttest: 0.7021244\tbest: 0.7021244 (0)\ttotal: 64.7ms\tremaining: 2m 9s\n",
      "300:\ttest: 0.7383801\tbest: 0.7383801 (300)\ttotal: 17.3s\tremaining: 1m 37s\n",
      "600:\ttest: 0.7388418\tbest: 0.7388425 (597)\ttotal: 35.1s\tremaining: 1m 21s\n",
      "900:\ttest: 0.7389526\tbest: 0.7389843 (830)\ttotal: 53s\tremaining: 1m 4s\n",
      "1200:\ttest: 0.7392333\tbest: 0.7392335 (1195)\ttotal: 1m 10s\tremaining: 47s\n",
      "1500:\ttest: 0.7392416\tbest: 0.7392765 (1446)\ttotal: 1m 28s\tremaining: 29.4s\n",
      "1800:\ttest: 0.7392024\tbest: 0.7393248 (1597)\ttotal: 1m 47s\tremaining: 11.7s\n"
     ]
    },
    {
     "name": "stderr",
     "output_type": "stream",
     "text": [
      "[I 2025-02-23 10:06:46,842] Trial 6 finished with value: 0.739324776687683 and parameters: {'iterations': 1997, 'depth': 5, 'learning_rate': 0.07985155992831598, 'l2_leaf_reg': 62.52181000710482}. Best is trial 6 with value: 0.739324776687683.\n"
     ]
    },
    {
     "name": "stdout",
     "output_type": "stream",
     "text": [
      "Stopped by overfitting detector  (300 iterations wait)\n",
      "\n",
      "bestTest = 0.7393247767\n",
      "bestIteration = 1597\n",
      "\n",
      "Shrink model to first 1598 iterations.\n",
      "저장 완료\n",
      "0:\ttest: 0.7178156\tbest: 0.7178156 (0)\ttotal: 85.3ms\tremaining: 2m 44s\n",
      "300:\ttest: 0.7373915\tbest: 0.7381713 (165)\ttotal: 23.8s\tremaining: 2m 8s\n"
     ]
    },
    {
     "name": "stderr",
     "output_type": "stream",
     "text": [
      "[I 2025-02-23 10:07:25,560] Trial 7 finished with value: 0.7381712898318407 and parameters: {'iterations': 1927, 'depth': 7, 'learning_rate': 0.0941937211034094, 'l2_leaf_reg': 0.05654822767791934}. Best is trial 6 with value: 0.739324776687683.\n"
     ]
    },
    {
     "name": "stdout",
     "output_type": "stream",
     "text": [
      "Stopped by overfitting detector  (300 iterations wait)\n",
      "\n",
      "bestTest = 0.7381712898\n",
      "bestIteration = 165\n",
      "\n",
      "Shrink model to first 166 iterations.\n",
      "0:\ttest: 0.7178156\tbest: 0.7178156 (0)\ttotal: 83.1ms\tremaining: 2m 38s\n",
      "300:\ttest: 0.7385613\tbest: 0.7385824 (297)\ttotal: 22.9s\tremaining: 2m 2s\n",
      "600:\ttest: 0.7384613\tbest: 0.7386243 (343)\ttotal: 47.8s\tremaining: 1m 43s\n"
     ]
    },
    {
     "name": "stderr",
     "output_type": "stream",
     "text": [
      "[I 2025-02-23 10:08:17,134] Trial 8 finished with value: 0.7386243322120927 and parameters: {'iterations': 1904, 'depth': 7, 'learning_rate': 0.05155602859187331, 'l2_leaf_reg': 1.299974533316308}. Best is trial 6 with value: 0.739324776687683.\n"
     ]
    },
    {
     "name": "stdout",
     "output_type": "stream",
     "text": [
      "Stopped by overfitting detector  (300 iterations wait)\n",
      "\n",
      "bestTest = 0.7386243322\n",
      "bestIteration = 343\n",
      "\n",
      "Shrink model to first 344 iterations.\n",
      "0:\ttest: 0.7045365\tbest: 0.7045365 (0)\ttotal: 71.5ms\tremaining: 3m 8s\n",
      "300:\ttest: 0.7377768\tbest: 0.7377870 (298)\ttotal: 19.4s\tremaining: 2m 30s\n",
      "600:\ttest: 0.7385985\tbest: 0.7385998 (588)\ttotal: 40.7s\tremaining: 2m 17s\n",
      "900:\ttest: 0.7383640\tbest: 0.7386166 (747)\ttotal: 1m 2s\tremaining: 1m 59s\n"
     ]
    },
    {
     "name": "stderr",
     "output_type": "stream",
     "text": [
      "[I 2025-02-23 10:09:30,139] Trial 9 finished with value: 0.7386166485472481 and parameters: {'iterations': 2639, 'depth': 6, 'learning_rate': 0.03968704290444751, 'l2_leaf_reg': 0.30557194377967184}. Best is trial 6 with value: 0.739324776687683.\n"
     ]
    },
    {
     "name": "stdout",
     "output_type": "stream",
     "text": [
      "Stopped by overfitting detector  (300 iterations wait)\n",
      "\n",
      "bestTest = 0.7386166485\n",
      "bestIteration = 747\n",
      "\n",
      "Shrink model to first 748 iterations.\n",
      "0:\ttest: 0.7044666\tbest: 0.7044666 (0)\ttotal: 70.9ms\tremaining: 3m 28s\n",
      "300:\ttest: 0.7384862\tbest: 0.7385035 (295)\ttotal: 20.1s\tremaining: 2m 56s\n",
      "600:\ttest: 0.7391082\tbest: 0.7391082 (600)\ttotal: 41.3s\tremaining: 2m 40s\n",
      "900:\ttest: 0.7391622\tbest: 0.7391951 (891)\ttotal: 1m 2s\tremaining: 2m 21s\n"
     ]
    },
    {
     "name": "stderr",
     "output_type": "stream",
     "text": [
      "[I 2025-02-23 10:10:53,200] Trial 10 finished with value: 0.7391950756309286 and parameters: {'iterations': 2945, 'depth': 6, 'learning_rate': 0.07265276039199581, 'l2_leaf_reg': 97.18545559492516}. Best is trial 6 with value: 0.739324776687683.\n"
     ]
    },
    {
     "name": "stdout",
     "output_type": "stream",
     "text": [
      "Stopped by overfitting detector  (300 iterations wait)\n",
      "\n",
      "bestTest = 0.7391950756\n",
      "bestIteration = 891\n",
      "\n",
      "Shrink model to first 892 iterations.\n",
      "0:\ttest: 0.7044666\tbest: 0.7044666 (0)\ttotal: 72.3ms\tremaining: 3m 36s\n",
      "300:\ttest: 0.7384860\tbest: 0.7385028 (299)\ttotal: 20.1s\tremaining: 3m\n",
      "600:\ttest: 0.7386925\tbest: 0.7387610 (448)\ttotal: 41.4s\tremaining: 2m 44s\n"
     ]
    },
    {
     "name": "stderr",
     "output_type": "stream",
     "text": [
      "[I 2025-02-23 10:11:45,275] Trial 11 finished with value: 0.7387609545235367 and parameters: {'iterations': 2994, 'depth': 6, 'learning_rate': 0.07131044509072976, 'l2_leaf_reg': 73.1213351392818}. Best is trial 6 with value: 0.739324776687683.\n"
     ]
    },
    {
     "name": "stdout",
     "output_type": "stream",
     "text": [
      "Stopped by overfitting detector  (300 iterations wait)\n",
      "\n",
      "bestTest = 0.7387609545\n",
      "bestIteration = 448\n",
      "\n",
      "Shrink model to first 449 iterations.\n",
      "0:\ttest: 0.7044666\tbest: 0.7044666 (0)\ttotal: 74.9ms\tremaining: 1m 58s\n",
      "300:\ttest: 0.7387336\tbest: 0.7387479 (287)\ttotal: 20.3s\tremaining: 1m 26s\n",
      "600:\ttest: 0.7391693\tbest: 0.7391717 (593)\ttotal: 41.4s\tremaining: 1m 8s\n",
      "900:\ttest: 0.7392484\tbest: 0.7392598 (881)\ttotal: 1m 2s\tremaining: 48s\n",
      "1200:\ttest: 0.7391990\tbest: 0.7392736 (924)\ttotal: 1m 24s\tremaining: 27.1s\n",
      "1500:\ttest: 0.7392222\tbest: 0.7393180 (1256)\ttotal: 1m 45s\tremaining: 6.11s\n"
     ]
    },
    {
     "name": "stderr",
     "output_type": "stream",
     "text": [
      "[I 2025-02-23 10:13:34,822] Trial 12 finished with value: 0.7393179944140114 and parameters: {'iterations': 1588, 'depth': 6, 'learning_rate': 0.07382783813729096, 'l2_leaf_reg': 87.13438924619796}. Best is trial 6 with value: 0.739324776687683.\n"
     ]
    },
    {
     "name": "stdout",
     "output_type": "stream",
     "text": [
      "Stopped by overfitting detector  (300 iterations wait)\n",
      "\n",
      "bestTest = 0.7393179944\n",
      "bestIteration = 1256\n",
      "\n",
      "Shrink model to first 1257 iterations.\n",
      "0:\ttest: 0.7021244\tbest: 0.7021244 (0)\ttotal: 64.1ms\tremaining: 1m 43s\n",
      "300:\ttest: 0.7385163\tbest: 0.7385163 (300)\ttotal: 17.4s\tremaining: 1m 15s\n",
      "600:\ttest: 0.7385904\tbest: 0.7386909 (433)\ttotal: 35.5s\tremaining: 59.5s\n"
     ]
    },
    {
     "name": "stderr",
     "output_type": "stream",
     "text": [
      "[I 2025-02-23 10:14:18,542] Trial 13 finished with value: 0.7386908683816723 and parameters: {'iterations': 1609, 'depth': 5, 'learning_rate': 0.07888750974731618, 'l2_leaf_reg': 7.181938049755379}. Best is trial 6 with value: 0.739324776687683.\n"
     ]
    },
    {
     "name": "stdout",
     "output_type": "stream",
     "text": [
      "Stopped by overfitting detector  (300 iterations wait)\n",
      "\n",
      "bestTest = 0.7386908684\n",
      "bestIteration = 433\n",
      "\n",
      "Shrink model to first 434 iterations.\n",
      "0:\ttest: 0.7179558\tbest: 0.7179558 (0)\ttotal: 98.3ms\tremaining: 2m 30s\n",
      "300:\ttest: 0.7386780\tbest: 0.7386780 (300)\ttotal: 26.6s\tremaining: 1m 48s\n",
      "600:\ttest: 0.7384237\tbest: 0.7387235 (328)\ttotal: 55.1s\tremaining: 1m 25s\n"
     ]
    },
    {
     "name": "stderr",
     "output_type": "stream",
     "text": [
      "[I 2025-02-23 10:15:16,443] Trial 14 finished with value: 0.7387234614158039 and parameters: {'iterations': 1533, 'depth': 8, 'learning_rate': 0.08440970345452611, 'l2_leaf_reg': 11.438982664164415}. Best is trial 6 with value: 0.739324776687683.\n"
     ]
    },
    {
     "name": "stdout",
     "output_type": "stream",
     "text": [
      "Stopped by overfitting detector  (300 iterations wait)\n",
      "\n",
      "bestTest = 0.7387234614\n",
      "bestIteration = 328\n",
      "\n",
      "Shrink model to first 329 iterations.\n",
      "0:\ttest: 0.7179683\tbest: 0.7179683 (0)\ttotal: 92.8ms\tremaining: 2m 46s\n",
      "300:\ttest: 0.7369864\tbest: 0.7374323 (213)\ttotal: 26.4s\tremaining: 2m 10s\n"
     ]
    },
    {
     "name": "stderr",
     "output_type": "stream",
     "text": [
      "[I 2025-02-23 10:16:03,415] Trial 15 finished with value: 0.7374322880510094 and parameters: {'iterations': 1791, 'depth': 8, 'learning_rate': 0.061699055612357404, 'l2_leaf_reg': 0.026986971696484528}. Best is trial 6 with value: 0.739324776687683.\n"
     ]
    },
    {
     "name": "stdout",
     "output_type": "stream",
     "text": [
      "Stopped by overfitting detector  (300 iterations wait)\n",
      "\n",
      "bestTest = 0.7374322881\n",
      "bestIteration = 213\n",
      "\n",
      "Shrink model to first 214 iterations.\n",
      "0:\ttest: 0.7021244\tbest: 0.7021244 (0)\ttotal: 60.9ms\tremaining: 2m 6s\n",
      "300:\ttest: 0.7373221\tbest: 0.7373221 (300)\ttotal: 16.7s\tremaining: 1m 38s\n",
      "600:\ttest: 0.7385385\tbest: 0.7385385 (600)\ttotal: 34.7s\tremaining: 1m 25s\n",
      "900:\ttest: 0.7387984\tbest: 0.7387984 (900)\ttotal: 52.8s\tremaining: 1m 8s\n",
      "1200:\ttest: 0.7387431\tbest: 0.7388092 (1048)\ttotal: 1m 10s\tremaining: 51.7s\n"
     ]
    },
    {
     "name": "stderr",
     "output_type": "stream",
     "text": [
      "[I 2025-02-23 10:17:23,502] Trial 16 finished with value: 0.7388091650531897 and parameters: {'iterations': 2077, 'depth': 5, 'learning_rate': 0.03364783552115578, 'l2_leaf_reg': 1.715511331143154}. Best is trial 6 with value: 0.739324776687683.\n"
     ]
    },
    {
     "name": "stdout",
     "output_type": "stream",
     "text": [
      "Stopped by overfitting detector  (300 iterations wait)\n",
      "\n",
      "bestTest = 0.7388091651\n",
      "bestIteration = 1048\n",
      "\n",
      "Shrink model to first 1049 iterations.\n",
      "0:\ttest: 0.7021244\tbest: 0.7021244 (0)\ttotal: 62.3ms\tremaining: 1m 42s\n",
      "300:\ttest: 0.7383385\tbest: 0.7383394 (299)\ttotal: 17s\tremaining: 1m 16s\n",
      "600:\ttest: 0.7387790\tbest: 0.7387942 (594)\ttotal: 35s\tremaining: 1m\n",
      "900:\ttest: 0.7390158\tbest: 0.7390315 (893)\ttotal: 52.9s\tremaining: 43.9s\n"
     ]
    },
    {
     "name": "stderr",
     "output_type": "stream",
     "text": [
      "[I 2025-02-23 10:18:34,338] Trial 17 finished with value: 0.7390314632058159 and parameters: {'iterations': 1648, 'depth': 5, 'learning_rate': 0.06167112187391388, 'l2_leaf_reg': 30.65193510830995}. Best is trial 6 with value: 0.739324776687683.\n"
     ]
    },
    {
     "name": "stdout",
     "output_type": "stream",
     "text": [
      "Stopped by overfitting detector  (300 iterations wait)\n",
      "\n",
      "bestTest = 0.7390314632\n",
      "bestIteration = 893\n",
      "\n",
      "Shrink model to first 894 iterations.\n",
      "0:\ttest: 0.7179683\tbest: 0.7179683 (0)\ttotal: 91.5ms\tremaining: 2m 54s\n",
      "300:\ttest: 0.7383105\tbest: 0.7383955 (276)\ttotal: 27s\tremaining: 2m 24s\n",
      "600:\ttest: 0.7380186\tbest: 0.7385273 (384)\ttotal: 55.7s\tremaining: 2m 1s\n"
     ]
    },
    {
     "name": "stderr",
     "output_type": "stream",
     "text": [
      "[I 2025-02-23 10:19:38,615] Trial 18 finished with value: 0.738527259927446 and parameters: {'iterations': 1910, 'depth': 8, 'learning_rate': 0.085092199736808, 'l2_leaf_reg': 1.6241109247683418}. Best is trial 6 with value: 0.739324776687683.\n"
     ]
    },
    {
     "name": "stdout",
     "output_type": "stream",
     "text": [
      "Stopped by overfitting detector  (300 iterations wait)\n",
      "\n",
      "bestTest = 0.7385272599\n",
      "bestIteration = 384\n",
      "\n",
      "Shrink model to first 385 iterations.\n",
      "0:\ttest: 0.7045365\tbest: 0.7045365 (0)\ttotal: 72.4ms\tremaining: 2m 7s\n",
      "300:\ttest: 0.7383926\tbest: 0.7385685 (230)\ttotal: 20.6s\tremaining: 1m 39s\n",
      "600:\ttest: 0.7380331\tbest: 0.7385883 (380)\ttotal: 42.3s\tremaining: 1m 21s\n"
     ]
    },
    {
     "name": "stderr",
     "output_type": "stream",
     "text": [
      "[I 2025-02-23 10:20:26,871] Trial 19 finished with value: 0.738588344070239 and parameters: {'iterations': 1759, 'depth': 6, 'learning_rate': 0.09780615690776343, 'l2_leaf_reg': 0.297757337111882}. Best is trial 6 with value: 0.739324776687683.\n",
      "[I 2025-02-23 10:20:26,875] A new study created in memory with name: no-name-58d21ec8-8634-4fc4-adb1-4755ee1a6041\n"
     ]
    },
    {
     "name": "stdout",
     "output_type": "stream",
     "text": [
      "Stopped by overfitting detector  (300 iterations wait)\n",
      "\n",
      "bestTest = 0.7385883441\n",
      "bestIteration = 380\n",
      "\n",
      "Shrink model to first 381 iterations.\n"
     ]
    },
    {
     "name": "stderr",
     "output_type": "stream",
     "text": [
      "[I 2025-02-23 10:20:50,015] Trial 0 finished with value: 0.7279367038512101 and parameters: {'num_iterations': 2366, 'objective': 'binary', 'metric': 'auc', 'verbose': -1, 'learning_rate': 0.0652646236447618, 'n_estimators': 236, 'min_child_samples': 45, 'subsample': 0.7, 'colsample_bytree': 0.5}. Best is trial 0 with value: 0.7279367038512101.\n",
      "[I 2025-02-23 10:21:06,960] Trial 1 finished with value: 0.7381791760118827 and parameters: {'num_iterations': 1510, 'objective': 'binary', 'metric': 'auc', 'verbose': -1, 'learning_rate': 0.005231880959249543, 'n_estimators': 1411, 'min_child_samples': 10, 'subsample': 1.0, 'colsample_bytree': 0.5}. Best is trial 1 with value: 0.7381791760118827.\n",
      "[I 2025-02-23 10:21:26,673] Trial 2 finished with value: 0.7378619379405122 and parameters: {'num_iterations': 2334, 'objective': 'binary', 'metric': 'auc', 'verbose': -1, 'learning_rate': 0.006578527777128852, 'n_estimators': 931, 'min_child_samples': 15, 'subsample': 0.5, 'colsample_bytree': 1.0}. Best is trial 1 with value: 0.7381791760118827.\n",
      "[I 2025-02-23 10:21:43,059] Trial 3 finished with value: 0.7380623366556097 and parameters: {'num_iterations': 1620, 'objective': 'binary', 'metric': 'auc', 'verbose': -1, 'learning_rate': 0.0058823249237283685, 'n_estimators': 837, 'min_child_samples': 10, 'subsample': 0.9, 'colsample_bytree': 0.6}. Best is trial 1 with value: 0.7381791760118827.\n",
      "[I 2025-02-23 10:21:59,435] Trial 4 finished with value: 0.7380443922207607 and parameters: {'num_iterations': 1997, 'objective': 'binary', 'metric': 'auc', 'verbose': -1, 'learning_rate': 0.010907507425244923, 'n_estimators': 1597, 'min_child_samples': 50, 'subsample': 0.6, 'colsample_bytree': 0.8}. Best is trial 1 with value: 0.7381791760118827.\n",
      "[I 2025-02-23 10:22:22,042] Trial 5 finished with value: 0.7353637462026812 and parameters: {'num_iterations': 2909, 'objective': 'binary', 'metric': 'auc', 'verbose': -1, 'learning_rate': 0.019760591962733942, 'n_estimators': 612, 'min_child_samples': 30, 'subsample': 0.7, 'colsample_bytree': 0.9}. Best is trial 1 with value: 0.7381791760118827.\n",
      "[I 2025-02-23 10:22:42,782] Trial 6 finished with value: 0.7360200225107951 and parameters: {'num_iterations': 2639, 'objective': 'binary', 'metric': 'auc', 'verbose': -1, 'learning_rate': 0.017862094446750985, 'n_estimators': 794, 'min_child_samples': 35, 'subsample': 1.0, 'colsample_bytree': 0.8}. Best is trial 1 with value: 0.7381791760118827.\n",
      "[I 2025-02-23 10:22:59,154] Trial 7 finished with value: 0.7379286051493372 and parameters: {'num_iterations': 1580, 'objective': 'binary', 'metric': 'auc', 'verbose': -1, 'learning_rate': 0.01776722177611332, 'n_estimators': 529, 'min_child_samples': 25, 'subsample': 0.8, 'colsample_bytree': 0.5}. Best is trial 1 with value: 0.7381791760118827.\n",
      "[I 2025-02-23 10:23:16,601] Trial 8 finished with value: 0.734911374902201 and parameters: {'num_iterations': 1911, 'objective': 'binary', 'metric': 'auc', 'verbose': -1, 'learning_rate': 0.0304747553332844, 'n_estimators': 1328, 'min_child_samples': 10, 'subsample': 0.7, 'colsample_bytree': 0.6}. Best is trial 1 with value: 0.7381791760118827.\n",
      "[I 2025-02-23 10:23:43,785] Trial 9 finished with value: 0.7346385631059116 and parameters: {'num_iterations': 2739, 'objective': 'binary', 'metric': 'auc', 'verbose': -1, 'learning_rate': 0.02691531614176271, 'n_estimators': 1438, 'min_child_samples': 20, 'subsample': 0.6, 'colsample_bytree': 0.5}. Best is trial 1 with value: 0.7381791760118827.\n",
      "[I 2025-02-23 10:23:58,669] Trial 10 finished with value: 0.7263255405908914 and parameters: {'num_iterations': 1933, 'objective': 'binary', 'metric': 'auc', 'verbose': -1, 'learning_rate': 0.08223556891145911, 'n_estimators': 1960, 'min_child_samples': 40, 'subsample': 1.0, 'colsample_bytree': 0.7}. Best is trial 1 with value: 0.7381791760118827.\n",
      "[I 2025-02-23 10:24:14,117] Trial 11 finished with value: 0.737921247097163 and parameters: {'num_iterations': 1513, 'objective': 'binary', 'metric': 'auc', 'verbose': -1, 'learning_rate': 0.005340229419903739, 'n_estimators': 1206, 'min_child_samples': 10, 'subsample': 0.9, 'colsample_bytree': 0.6}. Best is trial 1 with value: 0.7381791760118827.\n",
      "[I 2025-02-23 10:24:30,951] Trial 12 finished with value: 0.7383269326883004 and parameters: {'num_iterations': 1698, 'objective': 'binary', 'metric': 'auc', 'verbose': -1, 'learning_rate': 0.008515343845233947, 'n_estimators': 1719, 'min_child_samples': 20, 'subsample': 0.9, 'colsample_bytree': 0.6}. Best is trial 12 with value: 0.7383269326883004.\n",
      "[I 2025-02-23 10:24:46,085] Trial 13 finished with value: 0.7383722047621473 and parameters: {'num_iterations': 1777, 'objective': 'binary', 'metric': 'auc', 'verbose': -1, 'learning_rate': 0.010074542479113706, 'n_estimators': 1797, 'min_child_samples': 20, 'subsample': 0.9, 'colsample_bytree': 0.7}. Best is trial 13 with value: 0.7383722047621473.\n",
      "[I 2025-02-23 10:25:01,462] Trial 14 finished with value: 0.7380143206993817 and parameters: {'num_iterations': 1770, 'objective': 'binary', 'metric': 'auc', 'verbose': -1, 'learning_rate': 0.00982309544293683, 'n_estimators': 1831, 'min_child_samples': 20, 'subsample': 0.9, 'colsample_bytree': 0.7}. Best is trial 13 with value: 0.7383722047621473.\n",
      "[I 2025-02-23 10:25:19,419] Trial 15 finished with value: 0.738195746520098 and parameters: {'num_iterations': 2140, 'objective': 'binary', 'metric': 'auc', 'verbose': -1, 'learning_rate': 0.010036887125785866, 'n_estimators': 1702, 'min_child_samples': 25, 'subsample': 0.8, 'colsample_bytree': 0.7}. Best is trial 13 with value: 0.7383722047621473.\n",
      "[I 2025-02-23 10:25:34,208] Trial 16 finished with value: 0.7378810220197077 and parameters: {'num_iterations': 1789, 'objective': 'binary', 'metric': 'auc', 'verbose': -1, 'learning_rate': 0.012742223727829575, 'n_estimators': 1979, 'min_child_samples': 20, 'subsample': 0.9, 'colsample_bytree': 0.8}. Best is trial 13 with value: 0.7383722047621473.\n",
      "[I 2025-02-23 10:25:53,200] Trial 17 finished with value: 0.7324602818458801 and parameters: {'num_iterations': 2117, 'objective': 'binary', 'metric': 'auc', 'verbose': -1, 'learning_rate': 0.04079638057444939, 'n_estimators': 1633, 'min_child_samples': 25, 'subsample': 0.8, 'colsample_bytree': 0.6}. Best is trial 13 with value: 0.7383722047621473.\n",
      "[I 2025-02-23 10:26:08,295] Trial 18 finished with value: 0.7383481689878297 and parameters: {'num_iterations': 1735, 'objective': 'binary', 'metric': 'auc', 'verbose': -1, 'learning_rate': 0.008229020353141337, 'n_estimators': 1151, 'min_child_samples': 30, 'subsample': 0.9, 'colsample_bytree': 0.7}. Best is trial 13 with value: 0.7383722047621473.\n",
      "[I 2025-02-23 10:26:28,078] Trial 19 finished with value: 0.7372724598804687 and parameters: {'num_iterations': 2481, 'objective': 'binary', 'metric': 'auc', 'verbose': -1, 'learning_rate': 0.013713540512455621, 'n_estimators': 1063, 'min_child_samples': 35, 'subsample': 1.0, 'colsample_bytree': 0.9}. Best is trial 13 with value: 0.7383722047621473.\n",
      "[I 2025-02-23 10:26:45,820] Trial 20 finished with value: 0.7384106270572566 and parameters: {'num_iterations': 2128, 'objective': 'binary', 'metric': 'auc', 'verbose': -1, 'learning_rate': 0.007877155758725746, 'n_estimators': 1219, 'min_child_samples': 30, 'subsample': 0.8, 'colsample_bytree': 0.9}. Best is trial 20 with value: 0.7384106270572566.\n",
      "[I 2025-02-23 10:27:03,254] Trial 21 finished with value: 0.738129150787225 and parameters: {'num_iterations': 2078, 'objective': 'binary', 'metric': 'auc', 'verbose': -1, 'learning_rate': 0.00744400358104377, 'n_estimators': 1160, 'min_child_samples': 30, 'subsample': 0.8, 'colsample_bytree': 1.0}. Best is trial 20 with value: 0.7384106270572566.\n",
      "[I 2025-02-23 10:27:18,471] Trial 22 finished with value: 0.7380121287701857 and parameters: {'num_iterations': 1841, 'objective': 'binary', 'metric': 'auc', 'verbose': -1, 'learning_rate': 0.013850898580987417, 'n_estimators': 1487, 'min_child_samples': 35, 'subsample': 0.9, 'colsample_bytree': 0.9}. Best is trial 20 with value: 0.7384106270572566.\n",
      "[I 2025-02-23 10:27:37,704] Trial 23 finished with value: 0.7385679337150446 and parameters: {'num_iterations': 2249, 'objective': 'binary', 'metric': 'auc', 'verbose': -1, 'learning_rate': 0.007274552544909476, 'n_estimators': 1229, 'min_child_samples': 40, 'subsample': 0.8, 'colsample_bytree': 0.7}. Best is trial 23 with value: 0.7385679337150446.\n",
      "[I 2025-02-23 10:27:56,692] Trial 24 finished with value: 0.7386319523427578 and parameters: {'num_iterations': 2245, 'objective': 'binary', 'metric': 'auc', 'verbose': -1, 'learning_rate': 0.00714636083222857, 'n_estimators': 1289, 'min_child_samples': 40, 'subsample': 0.8, 'colsample_bytree': 0.8}. Best is trial 24 with value: 0.7386319523427578.\n",
      "[I 2025-02-23 10:28:16,139] Trial 25 finished with value: 0.7383823583182236 and parameters: {'num_iterations': 2242, 'objective': 'binary', 'metric': 'auc', 'verbose': -1, 'learning_rate': 0.005182390995737927, 'n_estimators': 1275, 'min_child_samples': 45, 'subsample': 0.7, 'colsample_bytree': 0.9}. Best is trial 24 with value: 0.7386319523427578.\n",
      "[I 2025-02-23 10:28:37,324] Trial 26 finished with value: 0.7383646839036379 and parameters: {'num_iterations': 2522, 'objective': 'binary', 'metric': 'auc', 'verbose': -1, 'learning_rate': 0.0070319925342010176, 'n_estimators': 960, 'min_child_samples': 40, 'subsample': 0.8, 'colsample_bytree': 0.8}. Best is trial 24 with value: 0.7386319523427578.\n",
      "[I 2025-02-23 10:28:56,201] Trial 27 finished with value: 0.7382927314452479 and parameters: {'num_iterations': 2243, 'objective': 'binary', 'metric': 'auc', 'verbose': -1, 'learning_rate': 0.006904460738306298, 'n_estimators': 712, 'min_child_samples': 40, 'subsample': 0.6, 'colsample_bytree': 0.8}. Best is trial 24 with value: 0.7386319523427578.\n",
      "[I 2025-02-23 10:29:15,166] Trial 28 finished with value: 0.7365269776133189 and parameters: {'num_iterations': 2388, 'objective': 'binary', 'metric': 'auc', 'verbose': -1, 'learning_rate': 0.014965891026339589, 'n_estimators': 1046, 'min_child_samples': 50, 'subsample': 0.8, 'colsample_bytree': 1.0}. Best is trial 24 with value: 0.7386319523427578.\n",
      "[I 2025-02-23 10:29:33,283] Trial 29 finished with value: 0.7310500891082752 and parameters: {'num_iterations': 2359, 'objective': 'binary', 'metric': 'auc', 'verbose': -1, 'learning_rate': 0.04030098468148633, 'n_estimators': 315, 'min_child_samples': 45, 'subsample': 0.7, 'colsample_bytree': 0.9}. Best is trial 24 with value: 0.7386319523427578.\n",
      "[I 2025-02-23 10:29:51,419] Trial 30 finished with value: 0.7384538858917875 and parameters: {'num_iterations': 2186, 'objective': 'binary', 'metric': 'auc', 'verbose': -1, 'learning_rate': 0.008552037026203767, 'n_estimators': 104, 'min_child_samples': 40, 'subsample': 0.8, 'colsample_bytree': 0.8}. Best is trial 24 with value: 0.7386319523427578.\n",
      "[I 2025-02-23 10:30:09,629] Trial 31 finished with value: 0.7386560675347998 and parameters: {'num_iterations': 2175, 'objective': 'binary', 'metric': 'auc', 'verbose': -1, 'learning_rate': 0.008496397961775806, 'n_estimators': 353, 'min_child_samples': 40, 'subsample': 0.8, 'colsample_bytree': 0.8}. Best is trial 31 with value: 0.7386560675347998.\n",
      "[I 2025-02-23 10:30:27,561] Trial 32 finished with value: 0.7378764515296632 and parameters: {'num_iterations': 2204, 'objective': 'binary', 'metric': 'auc', 'verbose': -1, 'learning_rate': 0.012015991969759577, 'n_estimators': 109, 'min_child_samples': 40, 'subsample': 0.8, 'colsample_bytree': 0.8}. Best is trial 31 with value: 0.7386560675347998.\n",
      "[I 2025-02-23 10:30:44,365] Trial 33 finished with value: 0.7383788162877112 and parameters: {'num_iterations': 2024, 'objective': 'binary', 'metric': 'auc', 'verbose': -1, 'learning_rate': 0.008995627197783053, 'n_estimators': 332, 'min_child_samples': 45, 'subsample': 0.7, 'colsample_bytree': 0.8}. Best is trial 31 with value: 0.7386560675347998.\n",
      "[I 2025-02-23 10:31:05,522] Trial 34 finished with value: 0.7383525647588803 and parameters: {'num_iterations': 2449, 'objective': 'binary', 'metric': 'auc', 'verbose': -1, 'learning_rate': 0.005996765129337065, 'n_estimators': 158, 'min_child_samples': 35, 'subsample': 0.8, 'colsample_bytree': 0.7}. Best is trial 31 with value: 0.7386560675347998.\n",
      "[I 2025-02-23 10:31:25,088] Trial 35 finished with value: 0.7384607237578663 and parameters: {'num_iterations': 2316, 'objective': 'binary', 'metric': 'auc', 'verbose': -1, 'learning_rate': 0.006303187671507195, 'n_estimators': 487, 'min_child_samples': 40, 'subsample': 0.5, 'colsample_bytree': 0.8}. Best is trial 31 with value: 0.7386560675347998.\n",
      "[I 2025-02-23 10:31:44,934] Trial 36 finished with value: 0.7386383970911002 and parameters: {'num_iterations': 2285, 'objective': 'binary', 'metric': 'auc', 'verbose': -1, 'learning_rate': 0.006239590487582764, 'n_estimators': 508, 'min_child_samples': 50, 'subsample': 0.5, 'colsample_bytree': 0.7}. Best is trial 31 with value: 0.7386560675347998.\n",
      "[I 2025-02-23 10:32:07,789] Trial 37 finished with value: 0.7384805662763306 and parameters: {'num_iterations': 2643, 'objective': 'binary', 'metric': 'auc', 'verbose': -1, 'learning_rate': 0.005730675300594622, 'n_estimators': 438, 'min_child_samples': 50, 'subsample': 0.6, 'colsample_bytree': 0.7}. Best is trial 31 with value: 0.7386560675347998.\n",
      "[I 2025-02-23 10:32:26,847] Trial 38 finished with value: 0.7381503394361195 and parameters: {'num_iterations': 2302, 'objective': 'binary', 'metric': 'auc', 'verbose': -1, 'learning_rate': 0.011169395841921831, 'n_estimators': 608, 'min_child_samples': 45, 'subsample': 0.5, 'colsample_bytree': 0.7}. Best is trial 31 with value: 0.7386560675347998.\n",
      "[I 2025-02-23 10:32:52,164] Trial 39 finished with value: 0.7383203052791916 and parameters: {'num_iterations': 2590, 'objective': 'binary', 'metric': 'auc', 'verbose': -1, 'learning_rate': 0.0050289787468921245, 'n_estimators': 841, 'min_child_samples': 50, 'subsample': 0.7, 'colsample_bytree': 0.6}. Best is trial 31 with value: 0.7386560675347998.\n"
     ]
    },
    {
     "name": "stdout",
     "output_type": "stream",
     "text": [
      "Cat val score : 0.7393247766876829\n",
      "LGBM val score : 0.7384086773521203\n",
      "Ensemble val score : 0.7393815166809465\n"
     ]
    },
    {
     "name": "stderr",
     "output_type": "stream",
     "text": [
      "[I 2025-02-23 10:33:11,529] A new study created in memory with name: no-name-c2e81b51-436c-4510-ba5c-144516a40e2e\n"
     ]
    },
    {
     "name": "stdout",
     "output_type": "stream",
     "text": [
      "==================================================\n",
      "0:\ttest: 0.7229403\tbest: 0.7229403 (0)\ttotal: 132ms\tremaining: 5m 13s\n",
      "300:\ttest: 0.7361889\tbest: 0.7361889 (300)\ttotal: 38.3s\tremaining: 4m 22s\n",
      "600:\ttest: 0.7378598\tbest: 0.7378598 (600)\ttotal: 1m 18s\tremaining: 3m 50s\n",
      "900:\ttest: 0.7383825\tbest: 0.7383837 (888)\ttotal: 1m 58s\tremaining: 3m 13s\n",
      "1200:\ttest: 0.7386644\tbest: 0.7386823 (1189)\ttotal: 2m 42s\tremaining: 2m 37s\n",
      "1500:\ttest: 0.7388129\tbest: 0.7388304 (1491)\ttotal: 3m 31s\tremaining: 2m 1s\n"
     ]
    },
    {
     "name": "stderr",
     "output_type": "stream",
     "text": [
      "[I 2025-02-23 10:37:30,924] Trial 0 finished with value: 0.738830385469174 and parameters: {'iterations': 2366, 'depth': 10, 'learning_rate': 0.01181021951839225, 'l2_leaf_reg': 9.980783802743254}. Best is trial 0 with value: 0.738830385469174.\n"
     ]
    },
    {
     "name": "stdout",
     "output_type": "stream",
     "text": [
      "Stopped by overfitting detector  (300 iterations wait)\n",
      "\n",
      "bestTest = 0.7388303855\n",
      "bestIteration = 1491\n",
      "\n",
      "Shrink model to first 1492 iterations.\n",
      "저장 완료\n",
      "0:\ttest: 0.6948811\tbest: 0.6948811 (0)\ttotal: 54.4ms\tremaining: 1m 59s\n",
      "300:\ttest: 0.7267726\tbest: 0.7267726 (300)\ttotal: 13s\tremaining: 1m 21s\n"
     ]
    },
    {
     "name": "stderr",
     "output_type": "stream",
     "text": [
      "Training has stopped (degenerate solution on iteration 312, probably too small l2-regularization, try to increase it)\n",
      "[I 2025-02-23 10:37:44,519] Trial 1 finished with value: 0.727160403536071 and parameters: {'iterations': 2193, 'depth': 4, 'learning_rate': 0.005671430811678843, 'l2_leaf_reg': 0.00012325230809466137}. Best is trial 0 with value: 0.738830385469174.\n"
     ]
    },
    {
     "name": "stdout",
     "output_type": "stream",
     "text": [
      "\n",
      "bestTest = 0.7271604035\n",
      "bestIteration = 311\n",
      "\n",
      "Shrink model to first 312 iterations.\n",
      "0:\ttest: 0.6948811\tbest: 0.6948811 (0)\ttotal: 52.9ms\tremaining: 2m 14s\n",
      "300:\ttest: 0.7381259\tbest: 0.7381259 (300)\ttotal: 14.2s\tremaining: 1m 45s\n",
      "600:\ttest: 0.7378947\tbest: 0.7385006 (396)\ttotal: 28.9s\tremaining: 1m 32s\n"
     ]
    },
    {
     "name": "stderr",
     "output_type": "stream",
     "text": [
      "[I 2025-02-23 10:38:18,304] Trial 2 finished with value: 0.7385006470479685 and parameters: {'iterations': 2535, 'depth': 4, 'learning_rate': 0.09275339199839054, 'l2_leaf_reg': 0.0008705394248343123}. Best is trial 0 with value: 0.738830385469174.\n"
     ]
    },
    {
     "name": "stdout",
     "output_type": "stream",
     "text": [
      "Stopped by overfitting detector  (300 iterations wait)\n",
      "\n",
      "bestTest = 0.738500647\n",
      "bestIteration = 396\n",
      "\n",
      "Shrink model to first 397 iterations.\n",
      "0:\ttest: 0.6948811\tbest: 0.6948811 (0)\ttotal: 51.7ms\tremaining: 2m\n",
      "300:\ttest: 0.7368505\tbest: 0.7368614 (298)\ttotal: 13.7s\tremaining: 1m 32s\n",
      "600:\ttest: 0.7381444\tbest: 0.7381444 (600)\ttotal: 28.1s\tremaining: 1m 20s\n",
      "900:\ttest: 0.7383724\tbest: 0.7384316 (781)\ttotal: 42.7s\tremaining: 1m 7s\n"
     ]
    },
    {
     "name": "stderr",
     "output_type": "stream",
     "text": [
      "[I 2025-02-23 10:39:10,111] Trial 3 finished with value: 0.7384315933365225 and parameters: {'iterations': 2334, 'depth': 4, 'learning_rate': 0.04657568321363276, 'l2_leaf_reg': 0.0008640473331457248}. Best is trial 0 with value: 0.738830385469174.\n"
     ]
    },
    {
     "name": "stdout",
     "output_type": "stream",
     "text": [
      "Stopped by overfitting detector  (300 iterations wait)\n",
      "\n",
      "bestTest = 0.7384315933\n",
      "bestIteration = 781\n",
      "\n",
      "Shrink model to first 782 iterations.\n",
      "0:\ttest: 0.7228466\tbest: 0.7228466 (0)\ttotal: 132ms\tremaining: 3m 49s\n",
      "300:\ttest: 0.7354001\tbest: 0.7354001 (300)\ttotal: 38.2s\tremaining: 3m 2s\n",
      "600:\ttest: 0.7364288\tbest: 0.7364439 (594)\ttotal: 1m 16s\tremaining: 2m 24s\n",
      "900:\ttest: 0.7365051\tbest: 0.7365153 (898)\ttotal: 1m 56s\tremaining: 1m 48s\n"
     ]
    },
    {
     "name": "stderr",
     "output_type": "stream",
     "text": [
      "[I 2025-02-23 10:41:49,769] Trial 4 finished with value: 0.7365152952660461 and parameters: {'iterations': 1742, 'depth': 10, 'learning_rate': 0.012622767482095846, 'l2_leaf_reg': 0.00021158816350109617}. Best is trial 0 with value: 0.738830385469174.\n"
     ]
    },
    {
     "name": "stdout",
     "output_type": "stream",
     "text": [
      "Stopped by overfitting detector  (300 iterations wait)\n",
      "\n",
      "bestTest = 0.7365152953\n",
      "bestIteration = 898\n",
      "\n",
      "Shrink model to first 899 iterations.\n",
      "0:\ttest: 0.6948811\tbest: 0.6948811 (0)\ttotal: 57.1ms\tremaining: 1m 58s\n",
      "300:\ttest: 0.7379054\tbest: 0.7379054 (300)\ttotal: 14s\tremaining: 1m 22s\n",
      "600:\ttest: 0.7385746\tbest: 0.7387123 (588)\ttotal: 28.7s\tremaining: 1m 10s\n"
     ]
    },
    {
     "name": "stderr",
     "output_type": "stream",
     "text": [
      "[I 2025-02-23 10:42:32,829] Trial 5 finished with value: 0.7387122754293092 and parameters: {'iterations': 2082, 'depth': 4, 'learning_rate': 0.06995196593094148, 'l2_leaf_reg': 0.0018080296485396804}. Best is trial 0 with value: 0.738830385469174.\n"
     ]
    },
    {
     "name": "stdout",
     "output_type": "stream",
     "text": [
      "Stopped by overfitting detector  (300 iterations wait)\n",
      "\n",
      "bestTest = 0.7387122754\n",
      "bestIteration = 588\n",
      "\n",
      "Shrink model to first 589 iterations.\n",
      "0:\ttest: 0.6979852\tbest: 0.6979852 (0)\ttotal: 62ms\tremaining: 2m 3s\n",
      "300:\ttest: 0.7381322\tbest: 0.7381332 (299)\ttotal: 17.3s\tremaining: 1m 37s\n",
      "600:\ttest: 0.7388140\tbest: 0.7388140 (600)\ttotal: 35.2s\tremaining: 1m 21s\n",
      "900:\ttest: 0.7388923\tbest: 0.7389218 (848)\ttotal: 53.3s\tremaining: 1m 4s\n",
      "1200:\ttest: 0.7388877\tbest: 0.7389366 (1127)\ttotal: 1m 11s\tremaining: 47.4s\n"
     ]
    },
    {
     "name": "stderr",
     "output_type": "stream",
     "text": [
      "[I 2025-02-23 10:43:58,324] Trial 6 finished with value: 0.7389365629959339 and parameters: {'iterations': 1997, 'depth': 5, 'learning_rate': 0.07985155992831598, 'l2_leaf_reg': 62.52181000710482}. Best is trial 6 with value: 0.7389365629959339.\n"
     ]
    },
    {
     "name": "stdout",
     "output_type": "stream",
     "text": [
      "Stopped by overfitting detector  (300 iterations wait)\n",
      "\n",
      "bestTest = 0.738936563\n",
      "bestIteration = 1127\n",
      "\n",
      "Shrink model to first 1128 iterations.\n",
      "저장 완료\n",
      "0:\ttest: 0.7169161\tbest: 0.7169161 (0)\ttotal: 84.7ms\tremaining: 2m 43s\n",
      "300:\ttest: 0.7375938\tbest: 0.7378516 (240)\ttotal: 24s\tremaining: 2m 9s\n"
     ]
    },
    {
     "name": "stderr",
     "output_type": "stream",
     "text": [
      "[I 2025-02-23 10:44:42,587] Trial 7 finished with value: 0.7378516136363282 and parameters: {'iterations': 1927, 'depth': 7, 'learning_rate': 0.0941937211034094, 'l2_leaf_reg': 0.05654822767791934}. Best is trial 6 with value: 0.7389365629959339.\n"
     ]
    },
    {
     "name": "stdout",
     "output_type": "stream",
     "text": [
      "Stopped by overfitting detector  (300 iterations wait)\n",
      "\n",
      "bestTest = 0.7378516136\n",
      "bestIteration = 240\n",
      "\n",
      "Shrink model to first 241 iterations.\n",
      "0:\ttest: 0.7169300\tbest: 0.7169300 (0)\ttotal: 84.7ms\tremaining: 2m 41s\n",
      "300:\ttest: 0.7380227\tbest: 0.7380483 (297)\ttotal: 22.9s\tremaining: 2m 1s\n",
      "600:\ttest: 0.7384953\tbest: 0.7385795 (509)\ttotal: 47.6s\tremaining: 1m 43s\n",
      "900:\ttest: 0.7384678\tbest: 0.7386459 (801)\ttotal: 1m 12s\tremaining: 1m 20s\n"
     ]
    },
    {
     "name": "stderr",
     "output_type": "stream",
     "text": [
      "[I 2025-02-23 10:46:12,467] Trial 8 finished with value: 0.7386459497166995 and parameters: {'iterations': 1904, 'depth': 7, 'learning_rate': 0.05155602859187331, 'l2_leaf_reg': 1.299974533316308}. Best is trial 6 with value: 0.7389365629959339.\n"
     ]
    },
    {
     "name": "stdout",
     "output_type": "stream",
     "text": [
      "Stopped by overfitting detector  (300 iterations wait)\n",
      "\n",
      "bestTest = 0.7386459497\n",
      "bestIteration = 801\n",
      "\n",
      "Shrink model to first 802 iterations.\n",
      "0:\ttest: 0.7053663\tbest: 0.7053663 (0)\ttotal: 73.6ms\tremaining: 3m 14s\n",
      "300:\ttest: 0.7377516\tbest: 0.7377516 (300)\ttotal: 19.5s\tremaining: 2m 31s\n",
      "600:\ttest: 0.7387105\tbest: 0.7387213 (583)\ttotal: 40.7s\tremaining: 2m 18s\n",
      "900:\ttest: 0.7387825\tbest: 0.7388481 (831)\ttotal: 1m 2s\tremaining: 2m\n",
      "1200:\ttest: 0.7388100\tbest: 0.7388842 (961)\ttotal: 1m 23s\tremaining: 1m 40s\n"
     ]
    },
    {
     "name": "stderr",
     "output_type": "stream",
     "text": [
      "[I 2025-02-23 10:47:40,862] Trial 9 finished with value: 0.7388841750939725 and parameters: {'iterations': 2639, 'depth': 6, 'learning_rate': 0.03968704290444751, 'l2_leaf_reg': 0.30557194377967184}. Best is trial 6 with value: 0.7389365629959339.\n"
     ]
    },
    {
     "name": "stdout",
     "output_type": "stream",
     "text": [
      "Stopped by overfitting detector  (300 iterations wait)\n",
      "\n",
      "bestTest = 0.7388841751\n",
      "bestIteration = 961\n",
      "\n",
      "Shrink model to first 962 iterations.\n",
      "0:\ttest: 0.7054160\tbest: 0.7054160 (0)\ttotal: 72.9ms\tremaining: 3m 34s\n",
      "300:\ttest: 0.7383706\tbest: 0.7383839 (297)\ttotal: 20s\tremaining: 2m 55s\n",
      "600:\ttest: 0.7386718\tbest: 0.7386718 (600)\ttotal: 41s\tremaining: 2m 39s\n",
      "900:\ttest: 0.7388594\tbest: 0.7388815 (880)\ttotal: 1m 2s\tremaining: 2m 21s\n",
      "1200:\ttest: 0.7389550\tbest: 0.7390471 (1145)\ttotal: 1m 23s\tremaining: 2m 1s\n"
     ]
    },
    {
     "name": "stderr",
     "output_type": "stream",
     "text": [
      "[I 2025-02-23 10:49:21,981] Trial 10 finished with value: 0.7390470648177924 and parameters: {'iterations': 2945, 'depth': 6, 'learning_rate': 0.07265276039199581, 'l2_leaf_reg': 97.18545559492516}. Best is trial 10 with value: 0.7390470648177924.\n"
     ]
    },
    {
     "name": "stdout",
     "output_type": "stream",
     "text": [
      "Stopped by overfitting detector  (300 iterations wait)\n",
      "\n",
      "bestTest = 0.7390470648\n",
      "bestIteration = 1145\n",
      "\n",
      "Shrink model to first 1146 iterations.\n",
      "저장 완료\n",
      "0:\ttest: 0.7054488\tbest: 0.7054488 (0)\ttotal: 70.9ms\tremaining: 3m 32s\n",
      "300:\ttest: 0.7386451\tbest: 0.7386451 (300)\ttotal: 20.1s\tremaining: 3m\n",
      "600:\ttest: 0.7390108\tbest: 0.7390386 (493)\ttotal: 41.2s\tremaining: 2m 43s\n",
      "900:\ttest: 0.7391526\tbest: 0.7391821 (781)\ttotal: 1m 2s\tremaining: 2m 25s\n",
      "1200:\ttest: 0.7391904\tbest: 0.7392193 (1195)\ttotal: 1m 24s\tremaining: 2m 5s\n",
      "1500:\ttest: 0.7392165\tbest: 0.7392750 (1279)\ttotal: 1m 45s\tremaining: 1m 45s\n"
     ]
    },
    {
     "name": "stderr",
     "output_type": "stream",
     "text": [
      "[I 2025-02-23 10:51:13,540] Trial 11 finished with value: 0.7392749579491091 and parameters: {'iterations': 2994, 'depth': 6, 'learning_rate': 0.07131044509072976, 'l2_leaf_reg': 73.1213351392818}. Best is trial 11 with value: 0.7392749579491091.\n"
     ]
    },
    {
     "name": "stdout",
     "output_type": "stream",
     "text": [
      "Stopped by overfitting detector  (300 iterations wait)\n",
      "\n",
      "bestTest = 0.7392749579\n",
      "bestIteration = 1279\n",
      "\n",
      "Shrink model to first 1280 iterations.\n",
      "저장 완료\n",
      "0:\ttest: 0.7054476\tbest: 0.7054476 (0)\ttotal: 72.8ms\tremaining: 3m 30s\n",
      "300:\ttest: 0.7381084\tbest: 0.7381089 (299)\ttotal: 20s\tremaining: 2m 52s\n",
      "600:\ttest: 0.7386693\tbest: 0.7386693 (599)\ttotal: 41s\tremaining: 2m 36s\n",
      "900:\ttest: 0.7386378\tbest: 0.7387173 (673)\ttotal: 1m 2s\tremaining: 2m 18s\n"
     ]
    },
    {
     "name": "stderr",
     "output_type": "stream",
     "text": [
      "[I 2025-02-23 10:52:21,417] Trial 12 finished with value: 0.7387173343383593 and parameters: {'iterations': 2897, 'depth': 6, 'learning_rate': 0.06853332055535903, 'l2_leaf_reg': 87.13438924619796}. Best is trial 11 with value: 0.7392749579491091.\n"
     ]
    },
    {
     "name": "stdout",
     "output_type": "stream",
     "text": [
      "Stopped by overfitting detector  (300 iterations wait)\n",
      "\n",
      "bestTest = 0.7387173343\n",
      "bestIteration = 673\n",
      "\n",
      "Shrink model to first 674 iterations.\n",
      "0:\ttest: 0.7171157\tbest: 0.7171157 (0)\ttotal: 93.8ms\tremaining: 4m 38s\n",
      "300:\ttest: 0.7385443\tbest: 0.7385443 (300)\ttotal: 26.6s\tremaining: 3m 56s\n",
      "600:\ttest: 0.7381801\tbest: 0.7385585 (334)\ttotal: 55.2s\tremaining: 3m 37s\n"
     ]
    },
    {
     "name": "stderr",
     "output_type": "stream",
     "text": [
      "[I 2025-02-23 10:53:20,020] Trial 13 finished with value: 0.7385584909476024 and parameters: {'iterations': 2975, 'depth': 8, 'learning_rate': 0.06703158786644411, 'l2_leaf_reg': 7.828901342687942}. Best is trial 11 with value: 0.7392749579491091.\n"
     ]
    },
    {
     "name": "stdout",
     "output_type": "stream",
     "text": [
      "Stopped by overfitting detector  (300 iterations wait)\n",
      "\n",
      "bestTest = 0.7385584909\n",
      "bestIteration = 334\n",
      "\n",
      "Shrink model to first 335 iterations.\n",
      "0:\ttest: 0.7171152\tbest: 0.7171152 (0)\ttotal: 93.9ms\tremaining: 4m 18s\n",
      "300:\ttest: 0.7376480\tbest: 0.7376483 (297)\ttotal: 25.1s\tremaining: 3m 24s\n",
      "600:\ttest: 0.7384041\tbest: 0.7384342 (559)\ttotal: 52.6s\tremaining: 3m 8s\n",
      "900:\ttest: 0.7384751\tbest: 0.7385776 (789)\ttotal: 1m 21s\tremaining: 2m 47s\n"
     ]
    },
    {
     "name": "stderr",
     "output_type": "stream",
     "text": [
      "[I 2025-02-23 10:55:00,158] Trial 14 finished with value: 0.7385775631141392 and parameters: {'iterations': 2754, 'depth': 8, 'learning_rate': 0.03173133903351067, 'l2_leaf_reg': 7.067045463613257}. Best is trial 11 with value: 0.7392749579491091.\n"
     ]
    },
    {
     "name": "stdout",
     "output_type": "stream",
     "text": [
      "Stopped by overfitting detector  (300 iterations wait)\n",
      "\n",
      "bestTest = 0.7385775631\n",
      "bestIteration = 789\n",
      "\n",
      "Shrink model to first 790 iterations.\n",
      "0:\ttest: 0.7053663\tbest: 0.7053663 (0)\ttotal: 73.4ms\tremaining: 1m 51s\n",
      "300:\ttest: 0.7379481\tbest: 0.7379481 (300)\ttotal: 20.4s\tremaining: 1m 22s\n",
      "600:\ttest: 0.7380070\tbest: 0.7381431 (515)\ttotal: 42.1s\tremaining: 1m 3s\n"
     ]
    },
    {
     "name": "stderr",
     "output_type": "stream",
     "text": [
      "[I 2025-02-23 10:55:58,322] Trial 15 finished with value: 0.7381430925687597 and parameters: {'iterations': 1513, 'depth': 6, 'learning_rate': 0.07847702826450467, 'l2_leaf_reg': 0.026986971696484528}. Best is trial 11 with value: 0.7392749579491091.\n"
     ]
    },
    {
     "name": "stdout",
     "output_type": "stream",
     "text": [
      "Stopped by overfitting detector  (300 iterations wait)\n",
      "\n",
      "bestTest = 0.7381430926\n",
      "bestIteration = 515\n",
      "\n",
      "Shrink model to first 516 iterations.\n",
      "0:\ttest: 0.7171381\tbest: 0.7171381 (0)\ttotal: 95.8ms\tremaining: 4m 26s\n",
      "300:\ttest: 0.7382944\tbest: 0.7383381 (288)\ttotal: 26.3s\tremaining: 3m 36s\n",
      "600:\ttest: 0.7381533\tbest: 0.7383888 (524)\ttotal: 55.2s\tremaining: 3m 20s\n"
     ]
    },
    {
     "name": "stderr",
     "output_type": "stream",
     "text": [
      "[I 2025-02-23 10:57:15,348] Trial 16 finished with value: 0.738388783212135 and parameters: {'iterations': 2788, 'depth': 8, 'learning_rate': 0.06054549172243656, 'l2_leaf_reg': 0.8358313275560093}. Best is trial 11 with value: 0.7392749579491091.\n"
     ]
    },
    {
     "name": "stdout",
     "output_type": "stream",
     "text": [
      "Stopped by overfitting detector  (300 iterations wait)\n",
      "\n",
      "bestTest = 0.7383887832\n",
      "bestIteration = 524\n",
      "\n",
      "Shrink model to first 525 iterations.\n",
      "0:\ttest: 0.6979766\tbest: 0.6979766 (0)\ttotal: 62.6ms\tremaining: 3m 7s\n",
      "300:\ttest: 0.7382614\tbest: 0.7382709 (297)\ttotal: 17.6s\tremaining: 2m 37s\n",
      "600:\ttest: 0.7387709\tbest: 0.7387826 (590)\ttotal: 35.6s\tremaining: 2m 22s\n",
      "900:\ttest: 0.7386153\tbest: 0.7387881 (684)\ttotal: 53.8s\tremaining: 2m 5s\n"
     ]
    },
    {
     "name": "stderr",
     "output_type": "stream",
     "text": [
      "[I 2025-02-23 10:58:14,549] Trial 17 finished with value: 0.7387881431815166 and parameters: {'iterations': 2999, 'depth': 5, 'learning_rate': 0.0793026456501316, 'l2_leaf_reg': 17.971321588436567}. Best is trial 11 with value: 0.7392749579491091.\n"
     ]
    },
    {
     "name": "stdout",
     "output_type": "stream",
     "text": [
      "Stopped by overfitting detector  (300 iterations wait)\n",
      "\n",
      "bestTest = 0.7387881432\n",
      "bestIteration = 684\n",
      "\n",
      "Shrink model to first 685 iterations.\n",
      "0:\ttest: 0.7169046\tbest: 0.7169046 (0)\ttotal: 84.7ms\tremaining: 3m 30s\n",
      "300:\ttest: 0.7374682\tbest: 0.7383353 (195)\ttotal: 24.1s\tremaining: 2m 54s\n"
     ]
    },
    {
     "name": "stderr",
     "output_type": "stream",
     "text": [
      "[I 2025-02-23 10:58:54,980] Trial 18 finished with value: 0.7383353033164619 and parameters: {'iterations': 2482, 'depth': 7, 'learning_rate': 0.08692110303007522, 'l2_leaf_reg': 0.010016909578442512}. Best is trial 11 with value: 0.7392749579491091.\n"
     ]
    },
    {
     "name": "stdout",
     "output_type": "stream",
     "text": [
      "Stopped by overfitting detector  (300 iterations wait)\n",
      "\n",
      "bestTest = 0.7383353033\n",
      "bestIteration = 195\n",
      "\n",
      "Shrink model to first 196 iterations.\n",
      "0:\ttest: 0.6979556\tbest: 0.6979556 (0)\ttotal: 61ms\tremaining: 2m 49s\n",
      "300:\ttest: 0.7378047\tbest: 0.7378047 (300)\ttotal: 17.3s\tremaining: 2m 22s\n",
      "600:\ttest: 0.7386472\tbest: 0.7386472 (600)\ttotal: 35.4s\tremaining: 2m 7s\n",
      "900:\ttest: 0.7387159\tbest: 0.7387871 (694)\ttotal: 53.4s\tremaining: 1m 51s\n"
     ]
    },
    {
     "name": "stderr",
     "output_type": "stream",
     "text": [
      "[I 2025-02-23 10:59:54,392] Trial 19 finished with value: 0.7387870591295773 and parameters: {'iterations': 2774, 'depth': 5, 'learning_rate': 0.057652207127723315, 'l2_leaf_reg': 2.276175005448344}. Best is trial 11 with value: 0.7392749579491091.\n",
      "[I 2025-02-23 10:59:54,396] A new study created in memory with name: no-name-4221de8b-7712-443a-ad0a-98f8758fdf7c\n"
     ]
    },
    {
     "name": "stdout",
     "output_type": "stream",
     "text": [
      "Stopped by overfitting detector  (300 iterations wait)\n",
      "\n",
      "bestTest = 0.7387870591\n",
      "bestIteration = 694\n",
      "\n",
      "Shrink model to first 695 iterations.\n"
     ]
    },
    {
     "name": "stderr",
     "output_type": "stream",
     "text": [
      "[I 2025-02-23 11:00:17,234] Trial 0 finished with value: 0.7281304036812466 and parameters: {'num_iterations': 2366, 'objective': 'binary', 'metric': 'auc', 'verbose': -1, 'learning_rate': 0.0652646236447618, 'n_estimators': 236, 'min_child_samples': 45, 'subsample': 0.7, 'colsample_bytree': 0.5}. Best is trial 0 with value: 0.7281304036812466.\n",
      "[I 2025-02-23 11:00:34,149] Trial 1 finished with value: 0.7382813151473521 and parameters: {'num_iterations': 1510, 'objective': 'binary', 'metric': 'auc', 'verbose': -1, 'learning_rate': 0.005231880959249543, 'n_estimators': 1411, 'min_child_samples': 10, 'subsample': 1.0, 'colsample_bytree': 0.5}. Best is trial 1 with value: 0.7382813151473521.\n",
      "[I 2025-02-23 11:00:53,769] Trial 2 finished with value: 0.7376169977946333 and parameters: {'num_iterations': 2334, 'objective': 'binary', 'metric': 'auc', 'verbose': -1, 'learning_rate': 0.006578527777128852, 'n_estimators': 931, 'min_child_samples': 15, 'subsample': 0.5, 'colsample_bytree': 1.0}. Best is trial 1 with value: 0.7382813151473521.\n",
      "[I 2025-02-23 11:01:10,108] Trial 3 finished with value: 0.7384757257660228 and parameters: {'num_iterations': 1620, 'objective': 'binary', 'metric': 'auc', 'verbose': -1, 'learning_rate': 0.0058823249237283685, 'n_estimators': 837, 'min_child_samples': 10, 'subsample': 0.9, 'colsample_bytree': 0.6}. Best is trial 3 with value: 0.7384757257660228.\n",
      "[I 2025-02-23 11:01:26,511] Trial 4 finished with value: 0.7378601748670285 and parameters: {'num_iterations': 1997, 'objective': 'binary', 'metric': 'auc', 'verbose': -1, 'learning_rate': 0.010907507425244923, 'n_estimators': 1597, 'min_child_samples': 50, 'subsample': 0.6, 'colsample_bytree': 0.8}. Best is trial 3 with value: 0.7384757257660228.\n",
      "[I 2025-02-23 11:01:49,031] Trial 5 finished with value: 0.7339805753458348 and parameters: {'num_iterations': 2909, 'objective': 'binary', 'metric': 'auc', 'verbose': -1, 'learning_rate': 0.019760591962733942, 'n_estimators': 612, 'min_child_samples': 30, 'subsample': 0.7, 'colsample_bytree': 0.9}. Best is trial 3 with value: 0.7384757257660228.\n",
      "[I 2025-02-23 11:02:09,817] Trial 6 finished with value: 0.7351484765186725 and parameters: {'num_iterations': 2639, 'objective': 'binary', 'metric': 'auc', 'verbose': -1, 'learning_rate': 0.017862094446750985, 'n_estimators': 794, 'min_child_samples': 35, 'subsample': 1.0, 'colsample_bytree': 0.8}. Best is trial 3 with value: 0.7384757257660228.\n",
      "[I 2025-02-23 11:02:26,130] Trial 7 finished with value: 0.7376642394280475 and parameters: {'num_iterations': 1580, 'objective': 'binary', 'metric': 'auc', 'verbose': -1, 'learning_rate': 0.01776722177611332, 'n_estimators': 529, 'min_child_samples': 25, 'subsample': 0.8, 'colsample_bytree': 0.5}. Best is trial 3 with value: 0.7384757257660228.\n",
      "[I 2025-02-23 11:02:43,565] Trial 8 finished with value: 0.7341803625444536 and parameters: {'num_iterations': 1911, 'objective': 'binary', 'metric': 'auc', 'verbose': -1, 'learning_rate': 0.0304747553332844, 'n_estimators': 1328, 'min_child_samples': 10, 'subsample': 0.7, 'colsample_bytree': 0.6}. Best is trial 3 with value: 0.7384757257660228.\n",
      "[I 2025-02-23 11:03:10,701] Trial 9 finished with value: 0.7329656724192313 and parameters: {'num_iterations': 2739, 'objective': 'binary', 'metric': 'auc', 'verbose': -1, 'learning_rate': 0.02691531614176271, 'n_estimators': 1438, 'min_child_samples': 20, 'subsample': 0.6, 'colsample_bytree': 0.5}. Best is trial 3 with value: 0.7384757257660228.\n",
      "[I 2025-02-23 11:03:25,159] Trial 10 finished with value: 0.7276589443306847 and parameters: {'num_iterations': 1883, 'objective': 'binary', 'metric': 'auc', 'verbose': -1, 'learning_rate': 0.08223556891145911, 'n_estimators': 1917, 'min_child_samples': 40, 'subsample': 0.9, 'colsample_bytree': 0.7}. Best is trial 3 with value: 0.7384757257660228.\n",
      "[I 2025-02-23 11:03:40,733] Trial 11 finished with value: 0.7384994121023527 and parameters: {'num_iterations': 1513, 'objective': 'binary', 'metric': 'auc', 'verbose': -1, 'learning_rate': 0.005340229419903739, 'n_estimators': 1206, 'min_child_samples': 10, 'subsample': 1.0, 'colsample_bytree': 0.6}. Best is trial 11 with value: 0.7384994121023527.\n",
      "[I 2025-02-23 11:03:55,520] Trial 12 finished with value: 0.7383909076362651 and parameters: {'num_iterations': 1717, 'objective': 'binary', 'metric': 'auc', 'verbose': -1, 'learning_rate': 0.008807202863131344, 'n_estimators': 1093, 'min_child_samples': 20, 'subsample': 0.9, 'colsample_bytree': 0.7}. Best is trial 11 with value: 0.7384994121023527.\n",
      "[I 2025-02-23 11:04:15,237] Trial 13 finished with value: 0.7374475997882914 and parameters: {'num_iterations': 2084, 'objective': 'binary', 'metric': 'auc', 'verbose': -1, 'learning_rate': 0.010947685715514379, 'n_estimators': 1108, 'min_child_samples': 10, 'subsample': 0.9, 'colsample_bytree': 0.6}. Best is trial 11 with value: 0.7384994121023527.\n",
      "[I 2025-02-23 11:04:32,979] Trial 14 finished with value: 0.7384931976654111 and parameters: {'num_iterations': 1759, 'objective': 'binary', 'metric': 'auc', 'verbose': -1, 'learning_rate': 0.00514593053258222, 'n_estimators': 172, 'min_child_samples': 20, 'subsample': 1.0, 'colsample_bytree': 0.6}. Best is trial 11 with value: 0.7384994121023527.\n",
      "[I 2025-02-23 11:04:48,103] Trial 15 finished with value: 0.738365942674571 and parameters: {'num_iterations': 1756, 'objective': 'binary', 'metric': 'auc', 'verbose': -1, 'learning_rate': 0.008303365162986591, 'n_estimators': 208, 'min_child_samples': 20, 'subsample': 1.0, 'colsample_bytree': 0.7}. Best is trial 11 with value: 0.7384994121023527.\n",
      "[I 2025-02-23 11:05:07,502] Trial 16 finished with value: 0.7325054784728886 and parameters: {'num_iterations': 2163, 'objective': 'binary', 'metric': 'auc', 'verbose': -1, 'learning_rate': 0.03901437770924474, 'n_estimators': 463, 'min_child_samples': 25, 'subsample': 0.8, 'colsample_bytree': 0.6}. Best is trial 11 with value: 0.7384994121023527.\n",
      "[I 2025-02-23 11:05:24,210] Trial 17 finished with value: 0.7374960406293455 and parameters: {'num_iterations': 1770, 'objective': 'binary', 'metric': 'auc', 'verbose': -1, 'learning_rate': 0.014107419975913894, 'n_estimators': 1873, 'min_child_samples': 15, 'subsample': 1.0, 'colsample_bytree': 0.6}. Best is trial 11 with value: 0.7384994121023527.\n",
      "[I 2025-02-23 11:05:44,738] Trial 18 finished with value: 0.7382205169083671 and parameters: {'num_iterations': 2434, 'objective': 'binary', 'metric': 'auc', 'verbose': -1, 'learning_rate': 0.007395766065557996, 'n_estimators': 126, 'min_child_samples': 30, 'subsample': 0.8, 'colsample_bytree': 0.7}. Best is trial 11 with value: 0.7384994121023527.\n",
      "[I 2025-02-23 11:05:58,452] Trial 19 finished with value: 0.7381869549779967 and parameters: {'num_iterations': 1527, 'objective': 'binary', 'metric': 'auc', 'verbose': -1, 'learning_rate': 0.005234790012397332, 'n_estimators': 1670, 'min_child_samples': 15, 'subsample': 1.0, 'colsample_bytree': 0.8}. Best is trial 11 with value: 0.7384994121023527.\n",
      "[I 2025-02-23 11:06:13,692] Trial 20 finished with value: 0.7374292185559577 and parameters: {'num_iterations': 1873, 'objective': 'binary', 'metric': 'auc', 'verbose': -1, 'learning_rate': 0.012796480593590575, 'n_estimators': 1257, 'min_child_samples': 25, 'subsample': 0.9, 'colsample_bytree': 0.9}. Best is trial 11 with value: 0.7384994121023527.\n",
      "[I 2025-02-23 11:06:30,513] Trial 21 finished with value: 0.7384866854120028 and parameters: {'num_iterations': 1655, 'objective': 'binary', 'metric': 'auc', 'verbose': -1, 'learning_rate': 0.005153550511409945, 'n_estimators': 864, 'min_child_samples': 10, 'subsample': 0.9, 'colsample_bytree': 0.6}. Best is trial 11 with value: 0.7384994121023527.\n",
      "[I 2025-02-23 11:06:47,488] Trial 22 finished with value: 0.7383981862707149 and parameters: {'num_iterations': 1668, 'objective': 'binary', 'metric': 'auc', 'verbose': -1, 'learning_rate': 0.005003585055247969, 'n_estimators': 369, 'min_child_samples': 15, 'subsample': 1.0, 'colsample_bytree': 0.6}. Best is trial 11 with value: 0.7384994121023527.\n",
      "[I 2025-02-23 11:07:06,702] Trial 23 finished with value: 0.7385525941815589 and parameters: {'num_iterations': 1787, 'objective': 'binary', 'metric': 'auc', 'verbose': -1, 'learning_rate': 0.007594680866521767, 'n_estimators': 667, 'min_child_samples': 20, 'subsample': 0.9, 'colsample_bytree': 0.5}. Best is trial 23 with value: 0.7385525941815589.\n",
      "[I 2025-02-23 11:07:28,204] Trial 24 finished with value: 0.7381746968522213 and parameters: {'num_iterations': 2025, 'objective': 'binary', 'metric': 'auc', 'verbose': -1, 'learning_rate': 0.00889838076045006, 'n_estimators': 685, 'min_child_samples': 20, 'subsample': 1.0, 'colsample_bytree': 0.5}. Best is trial 23 with value: 0.7385525941815589.\n",
      "[I 2025-02-23 11:07:47,908] Trial 25 finished with value: 0.738488015658888 and parameters: {'num_iterations': 1833, 'objective': 'binary', 'metric': 'auc', 'verbose': -1, 'learning_rate': 0.007056371050335334, 'n_estimators': 406, 'min_child_samples': 35, 'subsample': 0.9, 'colsample_bytree': 0.5}. Best is trial 23 with value: 0.7385525941815589.\n",
      "[I 2025-02-23 11:08:06,214] Trial 26 finished with value: 0.7379559089630177 and parameters: {'num_iterations': 2200, 'objective': 'binary', 'metric': 'auc', 'verbose': -1, 'learning_rate': 0.010459045798601177, 'n_estimators': 1194, 'min_child_samples': 25, 'subsample': 0.8, 'colsample_bytree': 0.7}. Best is trial 23 with value: 0.7385525941815589.\n",
      "[I 2025-02-23 11:08:25,482] Trial 27 finished with value: 0.7385700025467676 and parameters: {'num_iterations': 1970, 'objective': 'binary', 'metric': 'auc', 'verbose': -1, 'learning_rate': 0.006939010340495377, 'n_estimators': 963, 'min_child_samples': 15, 'subsample': 1.0, 'colsample_bytree': 0.6}. Best is trial 27 with value: 0.7385700025467676.\n",
      "[I 2025-02-23 11:08:45,820] Trial 28 finished with value: 0.73721926985949 and parameters: {'num_iterations': 1975, 'objective': 'binary', 'metric': 'auc', 'verbose': -1, 'learning_rate': 0.014320942887614386, 'n_estimators': 1016, 'min_child_samples': 15, 'subsample': 0.9, 'colsample_bytree': 0.5}. Best is trial 27 with value: 0.7385700025467676.\n",
      "[I 2025-02-23 11:09:06,691] Trial 29 finished with value: 0.7306878489833213 and parameters: {'num_iterations': 2105, 'objective': 'binary', 'metric': 'auc', 'verbose': -1, 'learning_rate': 0.04847094987314435, 'n_estimators': 713, 'min_child_samples': 15, 'subsample': 1.0, 'colsample_bytree': 0.5}. Best is trial 27 with value: 0.7385700025467676.\n",
      "[I 2025-02-23 11:09:32,792] Trial 30 finished with value: 0.7382496592423695 and parameters: {'num_iterations': 2462, 'objective': 'binary', 'metric': 'auc', 'verbose': -1, 'learning_rate': 0.006702909019601912, 'n_estimators': 934, 'min_child_samples': 10, 'subsample': 0.8, 'colsample_bytree': 0.5}. Best is trial 27 with value: 0.7385700025467676.\n",
      "[I 2025-02-23 11:09:50,114] Trial 31 finished with value: 0.7385976716819806 and parameters: {'num_iterations': 1739, 'objective': 'binary', 'metric': 'auc', 'verbose': -1, 'learning_rate': 0.00640353756159615, 'n_estimators': 353, 'min_child_samples': 20, 'subsample': 1.0, 'colsample_bytree': 0.6}. Best is trial 31 with value: 0.7385976716819806.\n",
      "[I 2025-02-23 11:10:04,944] Trial 32 finished with value: 0.7386075750722249 and parameters: {'num_iterations': 1500, 'objective': 'binary', 'metric': 'auc', 'verbose': -1, 'learning_rate': 0.008388289257630596, 'n_estimators': 321, 'min_child_samples': 20, 'subsample': 1.0, 'colsample_bytree': 0.6}. Best is trial 32 with value: 0.7386075750722249.\n",
      "[I 2025-02-23 11:10:24,237] Trial 33 finished with value: 0.7384997734529991 and parameters: {'num_iterations': 1806, 'objective': 'binary', 'metric': 'auc', 'verbose': -1, 'learning_rate': 0.008132714534146334, 'n_estimators': 332, 'min_child_samples': 25, 'subsample': 1.0, 'colsample_bytree': 0.5}. Best is trial 32 with value: 0.7386075750722249.\n",
      "[I 2025-02-23 11:10:40,026] Trial 34 finished with value: 0.7383264283857499 and parameters: {'num_iterations': 1629, 'objective': 'binary', 'metric': 'auc', 'verbose': -1, 'learning_rate': 0.010053001879805082, 'n_estimators': 556, 'min_child_samples': 20, 'subsample': 0.9, 'colsample_bytree': 0.6}. Best is trial 32 with value: 0.7386075750722249.\n",
      "[I 2025-02-23 11:10:59,677] Trial 35 finished with value: 0.7386121336496108 and parameters: {'num_iterations': 2290, 'objective': 'binary', 'metric': 'auc', 'verbose': -1, 'learning_rate': 0.0064107476276153, 'n_estimators': 329, 'min_child_samples': 30, 'subsample': 1.0, 'colsample_bytree': 0.7}. Best is trial 35 with value: 0.7386121336496108.\n",
      "[I 2025-02-23 11:11:19,149] Trial 36 finished with value: 0.7386200952764911 and parameters: {'num_iterations': 2259, 'objective': 'binary', 'metric': 'auc', 'verbose': -1, 'learning_rate': 0.006274815484202349, 'n_estimators': 239, 'min_child_samples': 35, 'subsample': 0.5, 'colsample_bytree': 0.7}. Best is trial 36 with value: 0.7386200952764911.\n",
      "[I 2025-02-23 11:11:38,922] Trial 37 finished with value: 0.7387067678101157 and parameters: {'num_iterations': 2298, 'objective': 'binary', 'metric': 'auc', 'verbose': -1, 'learning_rate': 0.006260726810718238, 'n_estimators': 287, 'min_child_samples': 35, 'subsample': 0.6, 'colsample_bytree': 0.7}. Best is trial 37 with value: 0.7387067678101157.\n",
      "[I 2025-02-23 11:11:58,528] Trial 38 finished with value: 0.7381470396296669 and parameters: {'num_iterations': 2313, 'objective': 'binary', 'metric': 'auc', 'verbose': -1, 'learning_rate': 0.006035689007088896, 'n_estimators': 296, 'min_child_samples': 40, 'subsample': 0.5, 'colsample_bytree': 0.8}. Best is trial 37 with value: 0.7387067678101157.\n",
      "[I 2025-02-23 11:12:19,627] Trial 39 finished with value: 0.737202703322161 and parameters: {'num_iterations': 2590, 'objective': 'binary', 'metric': 'auc', 'verbose': -1, 'learning_rate': 0.012084878317988958, 'n_estimators': 263, 'min_child_samples': 35, 'subsample': 0.6, 'colsample_bytree': 0.7}. Best is trial 37 with value: 0.7387067678101157.\n"
     ]
    },
    {
     "name": "stdout",
     "output_type": "stream",
     "text": [
      "Cat val score : 0.739274957949109\n",
      "LGBM val score : 0.7383497057207986\n",
      "Ensemble val score : 0.739282240554445\n"
     ]
    },
    {
     "name": "stderr",
     "output_type": "stream",
     "text": [
      "[I 2025-02-23 11:12:40,958] A new study created in memory with name: no-name-39987753-b042-4e6f-8e0e-53c69e9699db\n"
     ]
    },
    {
     "name": "stdout",
     "output_type": "stream",
     "text": [
      "==================================================\n",
      "0:\ttest: 0.7229034\tbest: 0.7229034 (0)\ttotal: 131ms\tremaining: 5m 10s\n",
      "300:\ttest: 0.7361017\tbest: 0.7361017 (300)\ttotal: 39.6s\tremaining: 4m 31s\n",
      "600:\ttest: 0.7370752\tbest: 0.7370800 (593)\ttotal: 1m 19s\tremaining: 3m 52s\n",
      "900:\ttest: 0.7373109\tbest: 0.7373181 (898)\ttotal: 1m 58s\tremaining: 3m 12s\n",
      "1200:\ttest: 0.7374988\tbest: 0.7375087 (1118)\ttotal: 2m 42s\tremaining: 2m 37s\n",
      "1500:\ttest: 0.7373949\tbest: 0.7375150 (1376)\ttotal: 3m 32s\tremaining: 2m 2s\n"
     ]
    },
    {
     "name": "stderr",
     "output_type": "stream",
     "text": [
      "[I 2025-02-23 11:16:44,008] Trial 0 finished with value: 0.737515001611068 and parameters: {'iterations': 2366, 'depth': 10, 'learning_rate': 0.01181021951839225, 'l2_leaf_reg': 9.980783802743254}. Best is trial 0 with value: 0.737515001611068.\n"
     ]
    },
    {
     "name": "stdout",
     "output_type": "stream",
     "text": [
      "Stopped by overfitting detector  (300 iterations wait)\n",
      "\n",
      "bestTest = 0.7375150016\n",
      "bestIteration = 1376\n",
      "\n",
      "Shrink model to first 1377 iterations.\n",
      "저장 완료\n",
      "0:\ttest: 0.6968205\tbest: 0.6968205 (0)\ttotal: 54.6ms\tremaining: 1m 59s\n",
      "300:\ttest: 0.7293040\tbest: 0.7293040 (300)\ttotal: 13s\tremaining: 1m 21s\n",
      "600:\ttest: 0.7330265\tbest: 0.7330265 (600)\ttotal: 26.1s\tremaining: 1m 9s\n",
      "900:\ttest: 0.7343388\tbest: 0.7343388 (900)\ttotal: 39.6s\tremaining: 56.7s\n",
      "1200:\ttest: 0.7351302\tbest: 0.7351302 (1200)\ttotal: 53.1s\tremaining: 43.8s\n",
      "1500:\ttest: 0.7356687\tbest: 0.7356687 (1500)\ttotal: 1m 6s\tremaining: 30.8s\n",
      "1800:\ttest: 0.7360077\tbest: 0.7360077 (1800)\ttotal: 1m 20s\tremaining: 17.6s\n",
      "2100:\ttest: 0.7363560\tbest: 0.7363569 (2099)\ttotal: 1m 34s\tremaining: 4.14s\n"
     ]
    },
    {
     "name": "stderr",
     "output_type": "stream",
     "text": [
      "[I 2025-02-23 11:18:23,265] Trial 1 finished with value: 0.7364647816223828 and parameters: {'iterations': 2193, 'depth': 4, 'learning_rate': 0.005671430811678843, 'l2_leaf_reg': 0.00012325230809466137}. Best is trial 0 with value: 0.737515001611068.\n"
     ]
    },
    {
     "name": "stdout",
     "output_type": "stream",
     "text": [
      "2192:\ttest: 0.7364648\tbest: 0.7364648 (2192)\ttotal: 1m 38s\tremaining: 0us\n",
      "\n",
      "bestTest = 0.7364647816\n",
      "bestIteration = 2192\n",
      "\n",
      "0:\ttest: 0.6968205\tbest: 0.6968205 (0)\ttotal: 52.4ms\tremaining: 2m 12s\n",
      "300:\ttest: 0.7380266\tbest: 0.7381880 (276)\ttotal: 14.2s\tremaining: 1m 45s\n"
     ]
    },
    {
     "name": "stderr",
     "output_type": "stream",
     "text": [
      "[I 2025-02-23 11:18:51,210] Trial 2 finished with value: 0.7381880191755048 and parameters: {'iterations': 2535, 'depth': 4, 'learning_rate': 0.09275339199839054, 'l2_leaf_reg': 0.0008705394248343123}. Best is trial 2 with value: 0.7381880191755048.\n"
     ]
    },
    {
     "name": "stdout",
     "output_type": "stream",
     "text": [
      "Stopped by overfitting detector  (300 iterations wait)\n",
      "\n",
      "bestTest = 0.7381880192\n",
      "bestIteration = 276\n",
      "\n",
      "Shrink model to first 277 iterations.\n",
      "저장 완료\n",
      "0:\ttest: 0.6968205\tbest: 0.6968205 (0)\ttotal: 54.9ms\tremaining: 2m 8s\n",
      "300:\ttest: 0.7370249\tbest: 0.7370264 (299)\ttotal: 13.8s\tremaining: 1m 32s\n",
      "600:\ttest: 0.7380545\tbest: 0.7380677 (594)\ttotal: 28.2s\tremaining: 1m 21s\n",
      "900:\ttest: 0.7380051\tbest: 0.7382473 (751)\ttotal: 42.9s\tremaining: 1m 8s\n"
     ]
    },
    {
     "name": "stderr",
     "output_type": "stream",
     "text": [
      "[I 2025-02-23 11:19:41,687] Trial 3 finished with value: 0.7382473481865868 and parameters: {'iterations': 2334, 'depth': 4, 'learning_rate': 0.04657568321363276, 'l2_leaf_reg': 0.0008640473331457248}. Best is trial 3 with value: 0.7382473481865868.\n"
     ]
    },
    {
     "name": "stdout",
     "output_type": "stream",
     "text": [
      "Stopped by overfitting detector  (300 iterations wait)\n",
      "\n",
      "bestTest = 0.7382473482\n",
      "bestIteration = 751\n",
      "\n",
      "Shrink model to first 752 iterations.\n",
      "저장 완료\n",
      "0:\ttest: 0.7228640\tbest: 0.7228640 (0)\ttotal: 127ms\tremaining: 3m 41s\n",
      "300:\ttest: 0.7355607\tbest: 0.7355792 (298)\ttotal: 36.7s\tremaining: 2m 55s\n"
     ]
    },
    {
     "name": "stderr",
     "output_type": "stream",
     "text": [
      "[I 2025-02-23 11:20:58,572] Trial 4 finished with value: 0.7355791707512527 and parameters: {'iterations': 1742, 'depth': 10, 'learning_rate': 0.012622767482095846, 'l2_leaf_reg': 0.00021158816350109617}. Best is trial 3 with value: 0.7382473481865868.\n"
     ]
    },
    {
     "name": "stdout",
     "output_type": "stream",
     "text": [
      "Stopped by overfitting detector  (300 iterations wait)\n",
      "\n",
      "bestTest = 0.7355791708\n",
      "bestIteration = 298\n",
      "\n",
      "Shrink model to first 299 iterations.\n",
      "0:\ttest: 0.6968205\tbest: 0.6968205 (0)\ttotal: 53.2ms\tremaining: 1m 50s\n",
      "300:\ttest: 0.7374905\tbest: 0.7375008 (299)\ttotal: 13.9s\tremaining: 1m 22s\n",
      "600:\ttest: 0.7378925\tbest: 0.7379534 (549)\ttotal: 28.6s\tremaining: 1m 10s\n"
     ]
    },
    {
     "name": "stderr",
     "output_type": "stream",
     "text": [
      "[I 2025-02-23 11:21:39,581] Trial 5 finished with value: 0.7379533636249477 and parameters: {'iterations': 2082, 'depth': 4, 'learning_rate': 0.06995196593094148, 'l2_leaf_reg': 0.0018080296485396804}. Best is trial 3 with value: 0.7382473481865868.\n"
     ]
    },
    {
     "name": "stdout",
     "output_type": "stream",
     "text": [
      "Stopped by overfitting detector  (300 iterations wait)\n",
      "\n",
      "bestTest = 0.7379533636\n",
      "bestIteration = 549\n",
      "\n",
      "Shrink model to first 550 iterations.\n",
      "0:\ttest: 0.7019941\tbest: 0.7019941 (0)\ttotal: 62.7ms\tremaining: 2m 5s\n",
      "300:\ttest: 0.7378740\tbest: 0.7378768 (297)\ttotal: 17.3s\tremaining: 1m 37s\n",
      "600:\ttest: 0.7379870\tbest: 0.7379949 (591)\ttotal: 35.3s\tremaining: 1m 21s\n",
      "900:\ttest: 0.7380508\tbest: 0.7380821 (831)\ttotal: 53.3s\tremaining: 1m 4s\n",
      "1200:\ttest: 0.7381346\tbest: 0.7382004 (1082)\ttotal: 1m 11s\tremaining: 47.4s\n"
     ]
    },
    {
     "name": "stderr",
     "output_type": "stream",
     "text": [
      "[I 2025-02-23 11:23:02,481] Trial 6 finished with value: 0.7382004480493879 and parameters: {'iterations': 1997, 'depth': 5, 'learning_rate': 0.07985155992831598, 'l2_leaf_reg': 62.52181000710482}. Best is trial 3 with value: 0.7382473481865868.\n"
     ]
    },
    {
     "name": "stdout",
     "output_type": "stream",
     "text": [
      "Stopped by overfitting detector  (300 iterations wait)\n",
      "\n",
      "bestTest = 0.738200448\n",
      "bestIteration = 1082\n",
      "\n",
      "Shrink model to first 1083 iterations.\n",
      "0:\ttest: 0.7198577\tbest: 0.7198577 (0)\ttotal: 85.3ms\tremaining: 2m 44s\n",
      "300:\ttest: 0.7372500\tbest: 0.7377282 (163)\ttotal: 23.7s\tremaining: 2m 7s\n"
     ]
    },
    {
     "name": "stderr",
     "output_type": "stream",
     "text": [
      "[I 2025-02-23 11:23:39,923] Trial 7 finished with value: 0.7377282342304434 and parameters: {'iterations': 1927, 'depth': 7, 'learning_rate': 0.0941937211034094, 'l2_leaf_reg': 0.05654822767791934}. Best is trial 3 with value: 0.7382473481865868.\n"
     ]
    },
    {
     "name": "stdout",
     "output_type": "stream",
     "text": [
      "Stopped by overfitting detector  (300 iterations wait)\n",
      "\n",
      "bestTest = 0.7377282342\n",
      "bestIteration = 163\n",
      "\n",
      "Shrink model to first 164 iterations.\n",
      "0:\ttest: 0.7198577\tbest: 0.7198577 (0)\ttotal: 84ms\tremaining: 2m 39s\n",
      "300:\ttest: 0.7378206\tbest: 0.7379001 (279)\ttotal: 23s\tremaining: 2m 2s\n",
      "600:\ttest: 0.7375819\tbest: 0.7380094 (378)\ttotal: 48.2s\tremaining: 1m 44s\n"
     ]
    },
    {
     "name": "stderr",
     "output_type": "stream",
     "text": [
      "[I 2025-02-23 11:24:34,954] Trial 8 finished with value: 0.7380093531207147 and parameters: {'iterations': 1904, 'depth': 7, 'learning_rate': 0.05155602859187331, 'l2_leaf_reg': 1.299974533316308}. Best is trial 3 with value: 0.7382473481865868.\n"
     ]
    },
    {
     "name": "stdout",
     "output_type": "stream",
     "text": [
      "Stopped by overfitting detector  (300 iterations wait)\n",
      "\n",
      "bestTest = 0.7380093531\n",
      "bestIteration = 378\n",
      "\n",
      "Shrink model to first 379 iterations.\n",
      "0:\ttest: 0.7041607\tbest: 0.7041607 (0)\ttotal: 75.1ms\tremaining: 3m 18s\n",
      "300:\ttest: 0.7371626\tbest: 0.7371626 (300)\ttotal: 19.7s\tremaining: 2m 32s\n",
      "600:\ttest: 0.7378658\tbest: 0.7379003 (530)\ttotal: 41.1s\tremaining: 2m 19s\n"
     ]
    },
    {
     "name": "stderr",
     "output_type": "stream",
     "text": [
      "[I 2025-02-23 11:25:32,746] Trial 9 finished with value: 0.7379003086141007 and parameters: {'iterations': 2639, 'depth': 6, 'learning_rate': 0.03968704290444751, 'l2_leaf_reg': 0.30557194377967184}. Best is trial 3 with value: 0.7382473481865868.\n"
     ]
    },
    {
     "name": "stdout",
     "output_type": "stream",
     "text": [
      "Stopped by overfitting detector  (300 iterations wait)\n",
      "\n",
      "bestTest = 0.7379003086\n",
      "bestIteration = 530\n",
      "\n",
      "Shrink model to first 531 iterations.\n",
      "0:\ttest: 0.7211869\tbest: 0.7211869 (0)\ttotal: 107ms\tremaining: 5m 14s\n",
      "300:\ttest: 0.7367800\tbest: 0.7367881 (296)\ttotal: 28.7s\tremaining: 4m 12s\n",
      "600:\ttest: 0.7363574\tbest: 0.7370000 (393)\ttotal: 1m\tremaining: 3m 57s\n"
     ]
    },
    {
     "name": "stderr",
     "output_type": "stream",
     "text": [
      "[I 2025-02-23 11:26:44,283] Trial 10 finished with value: 0.7369999697259635 and parameters: {'iterations': 2945, 'depth': 9, 'learning_rate': 0.03382272640596765, 'l2_leaf_reg': 0.017110106201165813}. Best is trial 3 with value: 0.7382473481865868.\n"
     ]
    },
    {
     "name": "stdout",
     "output_type": "stream",
     "text": [
      "Stopped by overfitting detector  (300 iterations wait)\n",
      "\n",
      "bestTest = 0.7369999697\n",
      "bestIteration = 393\n",
      "\n",
      "Shrink model to first 394 iterations.\n",
      "0:\ttest: 0.7019941\tbest: 0.7019941 (0)\ttotal: 65.1ms\tremaining: 1m 49s\n",
      "300:\ttest: 0.7376655\tbest: 0.7376655 (300)\ttotal: 17.3s\tremaining: 1m 19s\n",
      "600:\ttest: 0.7381869\tbest: 0.7381882 (592)\ttotal: 35s\tremaining: 1m 3s\n",
      "900:\ttest: 0.7383014\tbest: 0.7383598 (798)\ttotal: 52.9s\tremaining: 46s\n",
      "1200:\ttest: 0.7382676\tbest: 0.7383796 (941)\ttotal: 1m 10s\tremaining: 28.6s\n"
     ]
    },
    {
     "name": "stderr",
     "output_type": "stream",
     "text": [
      "[I 2025-02-23 11:27:57,884] Trial 11 finished with value: 0.7383795707560938 and parameters: {'iterations': 1685, 'depth': 5, 'learning_rate': 0.07434544215868405, 'l2_leaf_reg': 73.1213351392818}. Best is trial 11 with value: 0.7383795707560938.\n"
     ]
    },
    {
     "name": "stdout",
     "output_type": "stream",
     "text": [
      "Stopped by overfitting detector  (300 iterations wait)\n",
      "\n",
      "bestTest = 0.7383795708\n",
      "bestIteration = 941\n",
      "\n",
      "Shrink model to first 942 iterations.\n",
      "저장 완료\n",
      "0:\ttest: 0.7019941\tbest: 0.7019941 (0)\ttotal: 64.3ms\tremaining: 1m 41s\n",
      "300:\ttest: 0.7377113\tbest: 0.7377312 (297)\ttotal: 17.1s\tremaining: 1m 12s\n",
      "600:\ttest: 0.7377846\tbest: 0.7380401 (492)\ttotal: 35.3s\tremaining: 57.2s\n"
     ]
    },
    {
     "name": "stderr",
     "output_type": "stream",
     "text": [
      "[I 2025-02-23 11:28:45,113] Trial 12 finished with value: 0.7380401076345243 and parameters: {'iterations': 1575, 'depth': 5, 'learning_rate': 0.06291605319952949, 'l2_leaf_reg': 0.007618883283589744}. Best is trial 11 with value: 0.7383795707560938.\n"
     ]
    },
    {
     "name": "stdout",
     "output_type": "stream",
     "text": [
      "Stopped by overfitting detector  (300 iterations wait)\n",
      "\n",
      "bestTest = 0.7380401076\n",
      "bestIteration = 492\n",
      "\n",
      "Shrink model to first 493 iterations.\n",
      "0:\ttest: 0.7041607\tbest: 0.7041607 (0)\ttotal: 72.2ms\tremaining: 2m 51s\n",
      "300:\ttest: 0.7377573\tbest: 0.7377637 (298)\ttotal: 19.9s\tremaining: 2m 17s\n",
      "600:\ttest: 0.7380624\tbest: 0.7380678 (598)\ttotal: 41.5s\tremaining: 2m 2s\n",
      "900:\ttest: 0.7380366\tbest: 0.7381487 (776)\ttotal: 1m 3s\tremaining: 1m 43s\n"
     ]
    },
    {
     "name": "stderr",
     "output_type": "stream",
     "text": [
      "[I 2025-02-23 11:30:01,349] Trial 13 finished with value: 0.7381487351980849 and parameters: {'iterations': 2375, 'depth': 6, 'learning_rate': 0.04770713186844759, 'l2_leaf_reg': 2.4019678747564157}. Best is trial 11 with value: 0.7383795707560938.\n"
     ]
    },
    {
     "name": "stdout",
     "output_type": "stream",
     "text": [
      "Stopped by overfitting detector  (300 iterations wait)\n",
      "\n",
      "bestTest = 0.7381487352\n",
      "bestIteration = 776\n",
      "\n",
      "Shrink model to first 777 iterations.\n",
      "0:\ttest: 0.7019941\tbest: 0.7019941 (0)\ttotal: 63.3ms\tremaining: 1m 36s\n",
      "300:\ttest: 0.7360705\tbest: 0.7360705 (300)\ttotal: 16.5s\tremaining: 1m 7s\n",
      "600:\ttest: 0.7371970\tbest: 0.7371970 (600)\ttotal: 33.6s\tremaining: 52.1s\n",
      "900:\ttest: 0.7375813\tbest: 0.7375904 (894)\ttotal: 50.9s\tremaining: 35.7s\n",
      "1200:\ttest: 0.7378677\tbest: 0.7378731 (1190)\ttotal: 1m 8s\tremaining: 19s\n",
      "1500:\ttest: 0.7379742\tbest: 0.7379799 (1476)\ttotal: 1m 26s\tremaining: 1.84s\n"
     ]
    },
    {
     "name": "stderr",
     "output_type": "stream",
     "text": [
      "[I 2025-02-23 11:31:29,957] Trial 14 finished with value: 0.7379799089993593 and parameters: {'iterations': 1533, 'depth': 5, 'learning_rate': 0.028668771596853302, 'l2_leaf_reg': 92.74223128282539}. Best is trial 11 with value: 0.7383795707560938.\n"
     ]
    },
    {
     "name": "stdout",
     "output_type": "stream",
     "text": [
      "1532:\ttest: 0.7379662\tbest: 0.7379799 (1476)\ttotal: 1m 28s\tremaining: 0us\n",
      "\n",
      "bestTest = 0.737979909\n",
      "bestIteration = 1476\n",
      "\n",
      "Shrink model to first 1477 iterations.\n",
      "0:\ttest: 0.7200681\tbest: 0.7200681 (0)\ttotal: 91.9ms\tremaining: 4m 13s\n",
      "300:\ttest: 0.7368380\tbest: 0.7369733 (270)\ttotal: 26.9s\tremaining: 3m 39s\n",
      "600:\ttest: 0.7354552\tbest: 0.7369834 (325)\ttotal: 55.7s\tremaining: 3m 20s\n"
     ]
    },
    {
     "name": "stderr",
     "output_type": "stream",
     "text": [
      "[I 2025-02-23 11:32:28,322] Trial 15 finished with value: 0.7369834071595205 and parameters: {'iterations': 2762, 'depth': 8, 'learning_rate': 0.06696600009766787, 'l2_leaf_reg': 0.17862337730522848}. Best is trial 11 with value: 0.7383795707560938.\n"
     ]
    },
    {
     "name": "stdout",
     "output_type": "stream",
     "text": [
      "Stopped by overfitting detector  (300 iterations wait)\n",
      "\n",
      "bestTest = 0.7369834072\n",
      "bestIteration = 325\n",
      "\n",
      "Shrink model to first 326 iterations.\n",
      "0:\ttest: 0.7041607\tbest: 0.7041607 (0)\ttotal: 74.3ms\tremaining: 2m 47s\n",
      "300:\ttest: 0.7373282\tbest: 0.7375081 (286)\ttotal: 20.5s\tremaining: 2m 13s\n"
     ]
    },
    {
     "name": "stderr",
     "output_type": "stream",
     "text": [
      "[I 2025-02-23 11:33:09,464] Trial 16 finished with value: 0.7375080922690371 and parameters: {'iterations': 2255, 'depth': 6, 'learning_rate': 0.0808891958156232, 'l2_leaf_reg': 0.0037379997864706973}. Best is trial 11 with value: 0.7383795707560938.\n"
     ]
    },
    {
     "name": "stdout",
     "output_type": "stream",
     "text": [
      "Stopped by overfitting detector  (300 iterations wait)\n",
      "\n",
      "bestTest = 0.7375080923\n",
      "bestIteration = 286\n",
      "\n",
      "Shrink model to first 287 iterations.\n",
      "0:\ttest: 0.7019941\tbest: 0.7019941 (0)\ttotal: 64.3ms\tremaining: 1m 57s\n",
      "300:\ttest: 0.7377344\tbest: 0.7377378 (299)\ttotal: 17.2s\tremaining: 1m 26s\n",
      "600:\ttest: 0.7382783\tbest: 0.7382851 (594)\ttotal: 35.3s\tremaining: 1m 11s\n",
      "900:\ttest: 0.7383550\tbest: 0.7384081 (874)\ttotal: 53.4s\tremaining: 54.5s\n",
      "1200:\ttest: 0.7383443\tbest: 0.7384354 (1075)\ttotal: 1m 11s\tremaining: 37s\n"
     ]
    },
    {
     "name": "stderr",
     "output_type": "stream",
     "text": [
      "[I 2025-02-23 11:34:31,953] Trial 17 finished with value: 0.7384354093581844 and parameters: {'iterations': 1821, 'depth': 5, 'learning_rate': 0.05809051245242751, 'l2_leaf_reg': 16.872267184948097}. Best is trial 17 with value: 0.7384354093581844.\n"
     ]
    },
    {
     "name": "stdout",
     "output_type": "stream",
     "text": [
      "Stopped by overfitting detector  (300 iterations wait)\n",
      "\n",
      "bestTest = 0.7384354094\n",
      "bestIteration = 1075\n",
      "\n",
      "Shrink model to first 1076 iterations.\n",
      "저장 완료\n",
      "0:\ttest: 0.7198513\tbest: 0.7198513 (0)\ttotal: 88.2ms\tremaining: 2m 38s\n",
      "300:\ttest: 0.7377563\tbest: 0.7378045 (269)\ttotal: 22.7s\tremaining: 1m 53s\n",
      "600:\ttest: 0.7378551\tbest: 0.7379057 (464)\ttotal: 47.4s\tremaining: 1m 34s\n",
      "900:\ttest: 0.7376455\tbest: 0.7379641 (702)\ttotal: 1m 12s\tremaining: 1m 12s\n"
     ]
    },
    {
     "name": "stderr",
     "output_type": "stream",
     "text": [
      "[I 2025-02-23 11:35:53,222] Trial 18 finished with value: 0.7379640969304129 and parameters: {'iterations': 1804, 'depth': 7, 'learning_rate': 0.05970016430294879, 'l2_leaf_reg': 14.990019474805333}. Best is trial 17 with value: 0.7384354093581844.\n"
     ]
    },
    {
     "name": "stdout",
     "output_type": "stream",
     "text": [
      "Stopped by overfitting detector  (300 iterations wait)\n",
      "\n",
      "bestTest = 0.7379640969\n",
      "bestIteration = 702\n",
      "\n",
      "Shrink model to first 703 iterations.\n",
      "0:\ttest: 0.7019941\tbest: 0.7019941 (0)\ttotal: 61.1ms\tremaining: 1m 42s\n",
      "300:\ttest: 0.7378158\tbest: 0.7378286 (295)\ttotal: 17.3s\tremaining: 1m 19s\n",
      "600:\ttest: 0.7380503\tbest: 0.7381152 (575)\ttotal: 35.2s\tremaining: 1m 3s\n",
      "900:\ttest: 0.7380701\tbest: 0.7381189 (702)\ttotal: 53.4s\tremaining: 46.2s\n"
     ]
    },
    {
     "name": "stderr",
     "output_type": "stream",
     "text": [
      "[I 2025-02-23 11:36:53,016] Trial 19 finished with value: 0.7381188820754482 and parameters: {'iterations': 1681, 'depth': 5, 'learning_rate': 0.07935958534905817, 'l2_leaf_reg': 21.65912588757876}. Best is trial 17 with value: 0.7384354093581844.\n",
      "[I 2025-02-23 11:36:53,019] A new study created in memory with name: no-name-8bcbe0aa-80d2-46ce-9953-83a5a00ac7f7\n"
     ]
    },
    {
     "name": "stdout",
     "output_type": "stream",
     "text": [
      "Stopped by overfitting detector  (300 iterations wait)\n",
      "\n",
      "bestTest = 0.7381188821\n",
      "bestIteration = 702\n",
      "\n",
      "Shrink model to first 703 iterations.\n"
     ]
    },
    {
     "name": "stderr",
     "output_type": "stream",
     "text": [
      "[I 2025-02-23 11:37:15,984] Trial 0 finished with value: 0.7277424679515332 and parameters: {'num_iterations': 2366, 'objective': 'binary', 'metric': 'auc', 'verbose': -1, 'learning_rate': 0.0652646236447618, 'n_estimators': 236, 'min_child_samples': 45, 'subsample': 0.7, 'colsample_bytree': 0.5}. Best is trial 0 with value: 0.7277424679515332.\n",
      "[I 2025-02-23 11:37:32,791] Trial 1 finished with value: 0.7373350847271171 and parameters: {'num_iterations': 1510, 'objective': 'binary', 'metric': 'auc', 'verbose': -1, 'learning_rate': 0.005231880959249543, 'n_estimators': 1411, 'min_child_samples': 10, 'subsample': 1.0, 'colsample_bytree': 0.5}. Best is trial 1 with value: 0.7373350847271171.\n",
      "[I 2025-02-23 11:37:52,305] Trial 2 finished with value: 0.7364619424387322 and parameters: {'num_iterations': 2334, 'objective': 'binary', 'metric': 'auc', 'verbose': -1, 'learning_rate': 0.006578527777128852, 'n_estimators': 931, 'min_child_samples': 15, 'subsample': 0.5, 'colsample_bytree': 1.0}. Best is trial 1 with value: 0.7373350847271171.\n",
      "[I 2025-02-23 11:38:08,609] Trial 3 finished with value: 0.737031272222072 and parameters: {'num_iterations': 1620, 'objective': 'binary', 'metric': 'auc', 'verbose': -1, 'learning_rate': 0.0058823249237283685, 'n_estimators': 837, 'min_child_samples': 10, 'subsample': 0.9, 'colsample_bytree': 0.6}. Best is trial 1 with value: 0.7373350847271171.\n",
      "[I 2025-02-23 11:38:24,959] Trial 4 finished with value: 0.7364582177474535 and parameters: {'num_iterations': 1997, 'objective': 'binary', 'metric': 'auc', 'verbose': -1, 'learning_rate': 0.010907507425244923, 'n_estimators': 1597, 'min_child_samples': 50, 'subsample': 0.6, 'colsample_bytree': 0.8}. Best is trial 1 with value: 0.7373350847271171.\n",
      "[I 2025-02-23 11:38:47,415] Trial 5 finished with value: 0.7339051721873157 and parameters: {'num_iterations': 2909, 'objective': 'binary', 'metric': 'auc', 'verbose': -1, 'learning_rate': 0.019760591962733942, 'n_estimators': 612, 'min_child_samples': 30, 'subsample': 0.7, 'colsample_bytree': 0.9}. Best is trial 1 with value: 0.7373350847271171.\n",
      "[I 2025-02-23 11:39:07,982] Trial 6 finished with value: 0.7346471838999052 and parameters: {'num_iterations': 2639, 'objective': 'binary', 'metric': 'auc', 'verbose': -1, 'learning_rate': 0.017862094446750985, 'n_estimators': 794, 'min_child_samples': 35, 'subsample': 1.0, 'colsample_bytree': 0.8}. Best is trial 1 with value: 0.7373350847271171.\n",
      "[I 2025-02-23 11:39:24,299] Trial 7 finished with value: 0.7373257650571479 and parameters: {'num_iterations': 1580, 'objective': 'binary', 'metric': 'auc', 'verbose': -1, 'learning_rate': 0.01776722177611332, 'n_estimators': 529, 'min_child_samples': 25, 'subsample': 0.8, 'colsample_bytree': 0.5}. Best is trial 1 with value: 0.7373350847271171.\n",
      "[I 2025-02-23 11:39:41,717] Trial 8 finished with value: 0.7349672015916329 and parameters: {'num_iterations': 1911, 'objective': 'binary', 'metric': 'auc', 'verbose': -1, 'learning_rate': 0.0304747553332844, 'n_estimators': 1328, 'min_child_samples': 10, 'subsample': 0.7, 'colsample_bytree': 0.6}. Best is trial 1 with value: 0.7373350847271171.\n",
      "[I 2025-02-23 11:40:09,012] Trial 9 finished with value: 0.7342873541028896 and parameters: {'num_iterations': 2739, 'objective': 'binary', 'metric': 'auc', 'verbose': -1, 'learning_rate': 0.02691531614176271, 'n_estimators': 1438, 'min_child_samples': 20, 'subsample': 0.6, 'colsample_bytree': 0.5}. Best is trial 1 with value: 0.7373350847271171.\n",
      "[I 2025-02-23 11:40:24,079] Trial 10 finished with value: 0.7263095339485199 and parameters: {'num_iterations': 1933, 'objective': 'binary', 'metric': 'auc', 'verbose': -1, 'learning_rate': 0.08223556891145911, 'n_estimators': 1960, 'min_child_samples': 40, 'subsample': 1.0, 'colsample_bytree': 0.7}. Best is trial 1 with value: 0.7373350847271171.\n",
      "[I 2025-02-23 11:40:40,345] Trial 11 finished with value: 0.7372595942091009 and parameters: {'num_iterations': 1513, 'objective': 'binary', 'metric': 'auc', 'verbose': -1, 'learning_rate': 0.009791292266126196, 'n_estimators': 299, 'min_child_samples': 25, 'subsample': 0.9, 'colsample_bytree': 0.5}. Best is trial 1 with value: 0.7373350847271171.\n",
      "[I 2025-02-23 11:40:55,725] Trial 12 finished with value: 0.7323208680014203 and parameters: {'num_iterations': 1698, 'objective': 'binary', 'metric': 'auc', 'verbose': -1, 'learning_rate': 0.051091219045787076, 'n_estimators': 1192, 'min_child_samples': 20, 'subsample': 0.9, 'colsample_bytree': 0.6}. Best is trial 1 with value: 0.7373350847271171.\n",
      "[I 2025-02-23 11:41:10,673] Trial 13 finished with value: 0.7368502831988405 and parameters: {'num_iterations': 1777, 'objective': 'binary', 'metric': 'auc', 'verbose': -1, 'learning_rate': 0.011819138696717921, 'n_estimators': 1698, 'min_child_samples': 30, 'subsample': 0.8, 'colsample_bytree': 0.7}. Best is trial 1 with value: 0.7373350847271171.\n",
      "[I 2025-02-23 11:41:32,093] Trial 14 finished with value: 0.7332854320033544 and parameters: {'num_iterations': 2165, 'objective': 'binary', 'metric': 'auc', 'verbose': -1, 'learning_rate': 0.0416859307364196, 'n_estimators': 521, 'min_child_samples': 20, 'subsample': 0.8, 'colsample_bytree': 0.5}. Best is trial 1 with value: 0.7373350847271171.\n",
      "[I 2025-02-23 11:41:47,498] Trial 15 finished with value: 0.7369491701784919 and parameters: {'num_iterations': 1507, 'objective': 'binary', 'metric': 'auc', 'verbose': -1, 'learning_rate': 0.005158116797477942, 'n_estimators': 1062, 'min_child_samples': 15, 'subsample': 1.0, 'colsample_bytree': 0.6}. Best is trial 1 with value: 0.7373350847271171.\n",
      "[I 2025-02-23 11:42:02,337] Trial 16 finished with value: 0.7365789406304541 and parameters: {'num_iterations': 1791, 'objective': 'binary', 'metric': 'auc', 'verbose': -1, 'learning_rate': 0.014818149044855074, 'n_estimators': 524, 'min_child_samples': 25, 'subsample': 0.8, 'colsample_bytree': 0.7}. Best is trial 1 with value: 0.7373350847271171.\n",
      "[I 2025-02-23 11:42:24,473] Trial 17 finished with value: 0.737398674499118 and parameters: {'num_iterations': 2097, 'objective': 'binary', 'metric': 'auc', 'verbose': -1, 'learning_rate': 0.00855151434296108, 'n_estimators': 125, 'min_child_samples': 35, 'subsample': 0.9, 'colsample_bytree': 0.5}. Best is trial 17 with value: 0.737398674499118.\n",
      "[I 2025-02-23 11:42:45,436] Trial 18 finished with value: 0.7372981673978868 and parameters: {'num_iterations': 2177, 'objective': 'binary', 'metric': 'auc', 'verbose': -1, 'learning_rate': 0.007991256373109518, 'n_estimators': 126, 'min_child_samples': 40, 'subsample': 0.9, 'colsample_bytree': 0.6}. Best is trial 17 with value: 0.737398674499118.\n",
      "[I 2025-02-23 11:43:06,097] Trial 19 finished with value: 0.7366380155048177 and parameters: {'num_iterations': 2510, 'objective': 'binary', 'metric': 'auc', 'verbose': -1, 'learning_rate': 0.00751901192905462, 'n_estimators': 1904, 'min_child_samples': 35, 'subsample': 1.0, 'colsample_bytree': 0.9}. Best is trial 17 with value: 0.737398674499118.\n",
      "[I 2025-02-23 11:43:28,624] Trial 20 finished with value: 0.7375687674105492 and parameters: {'num_iterations': 2074, 'objective': 'binary', 'metric': 'auc', 'verbose': -1, 'learning_rate': 0.005195671921324601, 'n_estimators': 1226, 'min_child_samples': 35, 'subsample': 0.9, 'colsample_bytree': 0.5}. Best is trial 20 with value: 0.7375687674105492.\n",
      "[I 2025-02-23 11:43:50,789] Trial 21 finished with value: 0.7374659849915114 and parameters: {'num_iterations': 2039, 'objective': 'binary', 'metric': 'auc', 'verbose': -1, 'learning_rate': 0.0053196069822991025, 'n_estimators': 1220, 'min_child_samples': 35, 'subsample': 0.9, 'colsample_bytree': 0.5}. Best is trial 20 with value: 0.7375687674105492.\n",
      "[I 2025-02-23 11:44:10,626] Trial 22 finished with value: 0.736926452738401 and parameters: {'num_iterations': 2076, 'objective': 'binary', 'metric': 'auc', 'verbose': -1, 'learning_rate': 0.008925053016902208, 'n_estimators': 1148, 'min_child_samples': 35, 'subsample': 0.9, 'colsample_bytree': 0.6}. Best is trial 20 with value: 0.7375687674105492.\n",
      "[I 2025-02-23 11:44:34,474] Trial 23 finished with value: 0.7375296065306021 and parameters: {'num_iterations': 2248, 'objective': 'binary', 'metric': 'auc', 'verbose': -1, 'learning_rate': 0.006922960249009544, 'n_estimators': 1255, 'min_child_samples': 40, 'subsample': 0.9, 'colsample_bytree': 0.5}. Best is trial 20 with value: 0.7375687674105492.\n",
      "[I 2025-02-23 11:44:58,867] Trial 24 finished with value: 0.7374498353972359 and parameters: {'num_iterations': 2286, 'objective': 'binary', 'metric': 'auc', 'verbose': -1, 'learning_rate': 0.006622340463314009, 'n_estimators': 1322, 'min_child_samples': 45, 'subsample': 0.8, 'colsample_bytree': 0.5}. Best is trial 20 with value: 0.7375687674105492.\n",
      "[I 2025-02-23 11:45:21,596] Trial 25 finished with value: 0.7365595944727678 and parameters: {'num_iterations': 2456, 'objective': 'binary', 'metric': 'auc', 'verbose': -1, 'learning_rate': 0.013027067384802521, 'n_estimators': 997, 'min_child_samples': 40, 'subsample': 0.9, 'colsample_bytree': 0.6}. Best is trial 20 with value: 0.7375687674105492.\n",
      "[I 2025-02-23 11:45:38,269] Trial 26 finished with value: 0.7368757445213127 and parameters: {'num_iterations': 1846, 'objective': 'binary', 'metric': 'auc', 'verbose': -1, 'learning_rate': 0.005073279565256976, 'n_estimators': 1561, 'min_child_samples': 45, 'subsample': 0.9, 'colsample_bytree': 0.7}. Best is trial 20 with value: 0.7375687674105492.\n",
      "[I 2025-02-23 11:46:01,808] Trial 27 finished with value: 0.7374716633588125 and parameters: {'num_iterations': 2214, 'objective': 'binary', 'metric': 'auc', 'verbose': -1, 'learning_rate': 0.007016398340375602, 'n_estimators': 1223, 'min_child_samples': 30, 'subsample': 1.0, 'colsample_bytree': 0.5}. Best is trial 20 with value: 0.7375687674105492.\n",
      "[I 2025-02-23 11:46:24,319] Trial 28 finished with value: 0.7364721912960779 and parameters: {'num_iterations': 2439, 'objective': 'binary', 'metric': 'auc', 'verbose': -1, 'learning_rate': 0.014227373377418738, 'n_estimators': 1751, 'min_child_samples': 30, 'subsample': 1.0, 'colsample_bytree': 0.6}. Best is trial 20 with value: 0.7375687674105492.\n",
      "[I 2025-02-23 11:46:47,898] Trial 29 finished with value: 0.7373682733941823 and parameters: {'num_iterations': 2225, 'objective': 'binary', 'metric': 'auc', 'verbose': -1, 'learning_rate': 0.007306224348917703, 'n_estimators': 732, 'min_child_samples': 50, 'subsample': 1.0, 'colsample_bytree': 0.5}. Best is trial 20 with value: 0.7375687674105492.\n",
      "[I 2025-02-23 11:47:12,584] Trial 30 finished with value: 0.7372509654733349 and parameters: {'num_iterations': 2392, 'objective': 'binary', 'metric': 'auc', 'verbose': -1, 'learning_rate': 0.010212800560767349, 'n_estimators': 1093, 'min_child_samples': 40, 'subsample': 1.0, 'colsample_bytree': 0.5}. Best is trial 20 with value: 0.7375687674105492.\n",
      "[I 2025-02-23 11:47:34,754] Trial 31 finished with value: 0.737621111632762 and parameters: {'num_iterations': 2061, 'objective': 'binary', 'metric': 'auc', 'verbose': -1, 'learning_rate': 0.006179673839943398, 'n_estimators': 1250, 'min_child_samples': 30, 'subsample': 0.9, 'colsample_bytree': 0.5}. Best is trial 31 with value: 0.737621111632762.\n",
      "[I 2025-02-23 11:47:58,746] Trial 32 finished with value: 0.7375700857447758 and parameters: {'num_iterations': 2240, 'objective': 'binary', 'metric': 'auc', 'verbose': -1, 'learning_rate': 0.006048070357769381, 'n_estimators': 1324, 'min_child_samples': 30, 'subsample': 0.8, 'colsample_bytree': 0.5}. Best is trial 31 with value: 0.737621111632762.\n",
      "[I 2025-02-23 11:48:23,630] Trial 33 finished with value: 0.7372544280861227 and parameters: {'num_iterations': 2567, 'objective': 'binary', 'metric': 'auc', 'verbose': -1, 'learning_rate': 0.005964619027544129, 'n_estimators': 1451, 'min_child_samples': 30, 'subsample': 0.8, 'colsample_bytree': 0.6}. Best is trial 31 with value: 0.737621111632762.\n",
      "[I 2025-02-23 11:48:48,257] Trial 34 finished with value: 0.7376214332745462 and parameters: {'num_iterations': 2316, 'objective': 'binary', 'metric': 'auc', 'verbose': -1, 'learning_rate': 0.006406438331807831, 'n_estimators': 912, 'min_child_samples': 25, 'subsample': 0.8, 'colsample_bytree': 0.5}. Best is trial 34 with value: 0.7376214332745462.\n",
      "[I 2025-02-23 11:49:13,293] Trial 35 finished with value: 0.7376640766217123 and parameters: {'num_iterations': 2334, 'objective': 'binary', 'metric': 'auc', 'verbose': -1, 'learning_rate': 0.005743596628953522, 'n_estimators': 924, 'min_child_samples': 25, 'subsample': 0.8, 'colsample_bytree': 0.5}. Best is trial 35 with value: 0.7376640766217123.\n",
      "[I 2025-02-23 11:49:33,050] Trial 36 finished with value: 0.736716178429263 and parameters: {'num_iterations': 2328, 'objective': 'binary', 'metric': 'auc', 'verbose': -1, 'learning_rate': 0.006067567425160869, 'n_estimators': 910, 'min_child_samples': 25, 'subsample': 0.7, 'colsample_bytree': 0.9}. Best is trial 35 with value: 0.7376640766217123.\n",
      "[I 2025-02-23 11:49:54,484] Trial 37 finished with value: 0.7360256571983479 and parameters: {'num_iterations': 2660, 'objective': 'binary', 'metric': 'auc', 'verbose': -1, 'learning_rate': 0.009149945996323594, 'n_estimators': 942, 'min_child_samples': 25, 'subsample': 0.6, 'colsample_bytree': 1.0}. Best is trial 35 with value: 0.7376640766217123.\n",
      "[I 2025-02-23 11:50:16,495] Trial 38 finished with value: 0.7366887038674749 and parameters: {'num_iterations': 2351, 'objective': 'binary', 'metric': 'auc', 'verbose': -1, 'learning_rate': 0.011864863237049833, 'n_estimators': 801, 'min_child_samples': 20, 'subsample': 0.7, 'colsample_bytree': 0.6}. Best is trial 35 with value: 0.7376640766217123.\n",
      "[I 2025-02-23 11:50:33,387] Trial 39 finished with value: 0.7369823072240363 and parameters: {'num_iterations': 1961, 'objective': 'binary', 'metric': 'auc', 'verbose': -1, 'learning_rate': 0.00607721194228999, 'n_estimators': 627, 'min_child_samples': 15, 'subsample': 0.8, 'colsample_bytree': 0.8}. Best is trial 35 with value: 0.7376640766217123.\n"
     ]
    },
    {
     "name": "stdout",
     "output_type": "stream",
     "text": [
      "Cat val score : 0.7384354093581844\n",
      "LGBM val score : 0.7376730269992626\n",
      "Ensemble val score : 0.7384800302066904\n"
     ]
    },
    {
     "name": "stderr",
     "output_type": "stream",
     "text": [
      "[I 2025-02-23 11:51:00,043] A new study created in memory with name: no-name-714a1398-a31a-49ee-825e-da4d20bb715e\n"
     ]
    },
    {
     "name": "stdout",
     "output_type": "stream",
     "text": [
      "==================================================\n",
      "0:\ttest: 0.7274183\tbest: 0.7274183 (0)\ttotal: 130ms\tremaining: 5m 7s\n",
      "300:\ttest: 0.7397796\tbest: 0.7397796 (300)\ttotal: 39.6s\tremaining: 4m 31s\n",
      "600:\ttest: 0.7409328\tbest: 0.7409328 (600)\ttotal: 1m 20s\tremaining: 3m 57s\n",
      "900:\ttest: 0.7411617\tbest: 0.7411617 (900)\ttotal: 2m 3s\tremaining: 3m 20s\n",
      "1200:\ttest: 0.7413102\tbest: 0.7413238 (1187)\ttotal: 2m 47s\tremaining: 2m 42s\n",
      "1500:\ttest: 0.7414083\tbest: 0.7414564 (1333)\ttotal: 3m 36s\tremaining: 2m 4s\n"
     ]
    },
    {
     "name": "stderr",
     "output_type": "stream",
     "text": [
      "[I 2025-02-23 11:54:58,731] Trial 0 finished with value: 0.7414563523839406 and parameters: {'iterations': 2366, 'depth': 10, 'learning_rate': 0.01181021951839225, 'l2_leaf_reg': 9.980783802743254}. Best is trial 0 with value: 0.7414563523839406.\n"
     ]
    },
    {
     "name": "stdout",
     "output_type": "stream",
     "text": [
      "Stopped by overfitting detector  (300 iterations wait)\n",
      "\n",
      "bestTest = 0.7414563524\n",
      "bestIteration = 1333\n",
      "\n",
      "Shrink model to first 1334 iterations.\n",
      "저장 완료\n",
      "0:\ttest: 0.7001763\tbest: 0.7001763 (0)\ttotal: 54.7ms\tremaining: 1m 59s\n"
     ]
    },
    {
     "name": "stderr",
     "output_type": "stream",
     "text": [
      "Training has stopped (degenerate solution on iteration 261, probably too small l2-regularization, try to increase it)\n",
      "[I 2025-02-23 11:55:10,254] Trial 1 finished with value: 0.7286355599723106 and parameters: {'iterations': 2193, 'depth': 4, 'learning_rate': 0.005671430811678843, 'l2_leaf_reg': 0.00012325230809466137}. Best is trial 0 with value: 0.7414563523839406.\n"
     ]
    },
    {
     "name": "stdout",
     "output_type": "stream",
     "text": [
      "\n",
      "bestTest = 0.72863556\n",
      "bestIteration = 260\n",
      "\n",
      "Shrink model to first 261 iterations.\n",
      "0:\ttest: 0.7001763\tbest: 0.7001763 (0)\ttotal: 53.3ms\tremaining: 2m 15s\n",
      "300:\ttest: 0.7408292\tbest: 0.7408343 (298)\ttotal: 14.2s\tremaining: 1m 45s\n",
      "600:\ttest: 0.7407892\tbest: 0.7410260 (476)\ttotal: 28.9s\tremaining: 1m 32s\n"
     ]
    },
    {
     "name": "stderr",
     "output_type": "stream",
     "text": [
      "[I 2025-02-23 11:55:48,042] Trial 2 finished with value: 0.741025983764031 and parameters: {'iterations': 2535, 'depth': 4, 'learning_rate': 0.09275339199839054, 'l2_leaf_reg': 0.0008705394248343123}. Best is trial 0 with value: 0.7414563523839406.\n"
     ]
    },
    {
     "name": "stdout",
     "output_type": "stream",
     "text": [
      "Stopped by overfitting detector  (300 iterations wait)\n",
      "\n",
      "bestTest = 0.7410259838\n",
      "bestIteration = 476\n",
      "\n",
      "Shrink model to first 477 iterations.\n",
      "0:\ttest: 0.7001763\tbest: 0.7001763 (0)\ttotal: 50.2ms\tremaining: 1m 57s\n",
      "300:\ttest: 0.7403259\tbest: 0.7403313 (299)\ttotal: 13.6s\tremaining: 1m 32s\n",
      "600:\ttest: 0.7413408\tbest: 0.7413408 (600)\ttotal: 28.1s\tremaining: 1m 21s\n",
      "900:\ttest: 0.7412666\tbest: 0.7414195 (631)\ttotal: 42.9s\tremaining: 1m 8s\n"
     ]
    },
    {
     "name": "stderr",
     "output_type": "stream",
     "text": [
      "[I 2025-02-23 11:56:32,716] Trial 3 finished with value: 0.7414195462395247 and parameters: {'iterations': 2334, 'depth': 4, 'learning_rate': 0.04657568321363276, 'l2_leaf_reg': 0.0008640473331457248}. Best is trial 0 with value: 0.7414563523839406.\n"
     ]
    },
    {
     "name": "stdout",
     "output_type": "stream",
     "text": [
      "Stopped by overfitting detector  (300 iterations wait)\n",
      "\n",
      "bestTest = 0.7414195462\n",
      "bestIteration = 631\n",
      "\n",
      "Shrink model to first 632 iterations.\n",
      "0:\ttest: 0.7273381\tbest: 0.7273381 (0)\ttotal: 128ms\tremaining: 3m 42s\n",
      "300:\ttest: 0.7388547\tbest: 0.7388586 (299)\ttotal: 37.6s\tremaining: 3m\n",
      "600:\ttest: 0.7392380\tbest: 0.7393542 (375)\ttotal: 1m 18s\tremaining: 2m 29s\n"
     ]
    },
    {
     "name": "stderr",
     "output_type": "stream",
     "text": [
      "[I 2025-02-23 11:58:01,750] Trial 4 finished with value: 0.7393542049254936 and parameters: {'iterations': 1742, 'depth': 10, 'learning_rate': 0.012622767482095846, 'l2_leaf_reg': 0.00021158816350109617}. Best is trial 0 with value: 0.7414563523839406.\n"
     ]
    },
    {
     "name": "stdout",
     "output_type": "stream",
     "text": [
      "Stopped by overfitting detector  (300 iterations wait)\n",
      "\n",
      "bestTest = 0.7393542049\n",
      "bestIteration = 375\n",
      "\n",
      "Shrink model to first 376 iterations.\n",
      "0:\ttest: 0.7001763\tbest: 0.7001763 (0)\ttotal: 51.8ms\tremaining: 1m 47s\n",
      "300:\ttest: 0.7409543\tbest: 0.7409543 (300)\ttotal: 14s\tremaining: 1m 22s\n",
      "600:\ttest: 0.7410590\tbest: 0.7412444 (457)\ttotal: 28.7s\tremaining: 1m 10s\n"
     ]
    },
    {
     "name": "stderr",
     "output_type": "stream",
     "text": [
      "[I 2025-02-23 11:58:38,359] Trial 5 finished with value: 0.741244354710181 and parameters: {'iterations': 2082, 'depth': 4, 'learning_rate': 0.06995196593094148, 'l2_leaf_reg': 0.0018080296485396804}. Best is trial 0 with value: 0.7414563523839406.\n"
     ]
    },
    {
     "name": "stdout",
     "output_type": "stream",
     "text": [
      "Stopped by overfitting detector  (300 iterations wait)\n",
      "\n",
      "bestTest = 0.7412443547\n",
      "bestIteration = 457\n",
      "\n",
      "Shrink model to first 458 iterations.\n",
      "0:\ttest: 0.7061041\tbest: 0.7061041 (0)\ttotal: 62.9ms\tremaining: 2m 5s\n",
      "300:\ttest: 0.7415436\tbest: 0.7415592 (298)\ttotal: 17.6s\tremaining: 1m 39s\n",
      "600:\ttest: 0.7417266\tbest: 0.7417748 (590)\ttotal: 35.5s\tremaining: 1m 22s\n",
      "900:\ttest: 0.7417238\tbest: 0.7417987 (787)\ttotal: 53.6s\tremaining: 1m 5s\n"
     ]
    },
    {
     "name": "stderr",
     "output_type": "stream",
     "text": [
      "[I 2025-02-23 11:59:43,262] Trial 6 finished with value: 0.741798694398023 and parameters: {'iterations': 1997, 'depth': 5, 'learning_rate': 0.07985155992831598, 'l2_leaf_reg': 62.52181000710482}. Best is trial 6 with value: 0.741798694398023.\n"
     ]
    },
    {
     "name": "stdout",
     "output_type": "stream",
     "text": [
      "Stopped by overfitting detector  (300 iterations wait)\n",
      "\n",
      "bestTest = 0.7417986944\n",
      "bestIteration = 787\n",
      "\n",
      "Shrink model to first 788 iterations.\n",
      "저장 완료\n",
      "0:\ttest: 0.7168509\tbest: 0.7168509 (0)\ttotal: 79.2ms\tremaining: 2m 32s\n",
      "300:\ttest: 0.7407406\tbest: 0.7414064 (206)\ttotal: 24s\tremaining: 2m 9s\n"
     ]
    },
    {
     "name": "stderr",
     "output_type": "stream",
     "text": [
      "[I 2025-02-23 12:00:24,849] Trial 7 finished with value: 0.741406398635235 and parameters: {'iterations': 1927, 'depth': 7, 'learning_rate': 0.0941937211034094, 'l2_leaf_reg': 0.05654822767791934}. Best is trial 6 with value: 0.741798694398023.\n"
     ]
    },
    {
     "name": "stdout",
     "output_type": "stream",
     "text": [
      "Stopped by overfitting detector  (300 iterations wait)\n",
      "\n",
      "bestTest = 0.7414063986\n",
      "bestIteration = 206\n",
      "\n",
      "Shrink model to first 207 iterations.\n",
      "0:\ttest: 0.7168488\tbest: 0.7168488 (0)\ttotal: 81.8ms\tremaining: 2m 35s\n",
      "300:\ttest: 0.7415587\tbest: 0.7415806 (289)\ttotal: 23.1s\tremaining: 2m 2s\n",
      "600:\ttest: 0.7414557\tbest: 0.7418465 (366)\ttotal: 48.3s\tremaining: 1m 44s\n"
     ]
    },
    {
     "name": "stderr",
     "output_type": "stream",
     "text": [
      "[I 2025-02-23 12:01:18,925] Trial 8 finished with value: 0.7418464681301913 and parameters: {'iterations': 1904, 'depth': 7, 'learning_rate': 0.05155602859187331, 'l2_leaf_reg': 1.299974533316308}. Best is trial 8 with value: 0.7418464681301913.\n"
     ]
    },
    {
     "name": "stdout",
     "output_type": "stream",
     "text": [
      "Stopped by overfitting detector  (300 iterations wait)\n",
      "\n",
      "bestTest = 0.7418464681\n",
      "bestIteration = 366\n",
      "\n",
      "Shrink model to first 367 iterations.\n",
      "저장 완료\n",
      "0:\ttest: 0.7167891\tbest: 0.7167891 (0)\ttotal: 74.6ms\tremaining: 3m 16s\n",
      "300:\ttest: 0.7407883\tbest: 0.7407988 (297)\ttotal: 19.5s\tremaining: 2m 31s\n",
      "600:\ttest: 0.7413633\tbest: 0.7414034 (584)\ttotal: 41s\tremaining: 2m 18s\n"
     ]
    },
    {
     "name": "stderr",
     "output_type": "stream",
     "text": [
      "[I 2025-02-23 12:02:20,488] Trial 9 finished with value: 0.7414033767908181 and parameters: {'iterations': 2639, 'depth': 6, 'learning_rate': 0.03968704290444751, 'l2_leaf_reg': 0.30557194377967184}. Best is trial 8 with value: 0.7418464681301913.\n"
     ]
    },
    {
     "name": "stdout",
     "output_type": "stream",
     "text": [
      "Stopped by overfitting detector  (300 iterations wait)\n",
      "\n",
      "bestTest = 0.7414033768\n",
      "bestIteration = 584\n",
      "\n",
      "Shrink model to first 585 iterations.\n",
      "0:\ttest: 0.7198680\tbest: 0.7198680 (0)\ttotal: 93ms\tremaining: 4m 33s\n",
      "300:\ttest: 0.7410428\tbest: 0.7410428 (300)\ttotal: 25.8s\tremaining: 3m 46s\n",
      "600:\ttest: 0.7415365\tbest: 0.7416152 (581)\ttotal: 54.1s\tremaining: 3m 30s\n",
      "900:\ttest: 0.7411238\tbest: 0.7416283 (648)\ttotal: 1m 23s\tremaining: 3m 8s\n"
     ]
    },
    {
     "name": "stderr",
     "output_type": "stream",
     "text": [
      "[I 2025-02-23 12:03:48,518] Trial 10 finished with value: 0.741628303670125 and parameters: {'iterations': 2945, 'depth': 8, 'learning_rate': 0.032580115422505045, 'l2_leaf_reg': 0.87526046512315}. Best is trial 8 with value: 0.7418464681301913.\n"
     ]
    },
    {
     "name": "stdout",
     "output_type": "stream",
     "text": [
      "Stopped by overfitting detector  (300 iterations wait)\n",
      "\n",
      "bestTest = 0.7416283037\n",
      "bestIteration = 648\n",
      "\n",
      "Shrink model to first 649 iterations.\n",
      "0:\ttest: 0.7167953\tbest: 0.7167953 (0)\ttotal: 72.2ms\tremaining: 1m 58s\n",
      "300:\ttest: 0.7412149\tbest: 0.7412336 (298)\ttotal: 20.5s\tremaining: 1m 31s\n",
      "600:\ttest: 0.7413794\tbest: 0.7415038 (494)\ttotal: 41.6s\tremaining: 1m 12s\n"
     ]
    },
    {
     "name": "stderr",
     "output_type": "stream",
     "text": [
      "[I 2025-02-23 12:04:44,024] Trial 11 finished with value: 0.7415037528528038 and parameters: {'iterations': 1645, 'depth': 6, 'learning_rate': 0.06980778172048213, 'l2_leaf_reg': 73.1213351392818}. Best is trial 8 with value: 0.7418464681301913.\n"
     ]
    },
    {
     "name": "stdout",
     "output_type": "stream",
     "text": [
      "Stopped by overfitting detector  (300 iterations wait)\n",
      "\n",
      "bestTest = 0.7415037529\n",
      "bestIteration = 494\n",
      "\n",
      "Shrink model to first 495 iterations.\n",
      "0:\ttest: 0.7167809\tbest: 0.7167809 (0)\ttotal: 72.4ms\tremaining: 2m 17s\n",
      "300:\ttest: 0.7413662\tbest: 0.7414092 (274)\ttotal: 20.5s\tremaining: 1m 48s\n"
     ]
    },
    {
     "name": "stderr",
     "output_type": "stream",
     "text": [
      "[I 2025-02-23 12:05:24,288] Trial 12 finished with value: 0.741409245760658 and parameters: {'iterations': 1898, 'depth': 6, 'learning_rate': 0.06850833108780335, 'l2_leaf_reg': 6.112234112518604}. Best is trial 8 with value: 0.7418464681301913.\n"
     ]
    },
    {
     "name": "stdout",
     "output_type": "stream",
     "text": [
      "Stopped by overfitting detector  (300 iterations wait)\n",
      "\n",
      "bestTest = 0.7414092458\n",
      "bestIteration = 274\n",
      "\n",
      "Shrink model to first 275 iterations.\n",
      "0:\ttest: 0.7198931\tbest: 0.7198931 (0)\ttotal: 92.3ms\tremaining: 2m 58s\n",
      "300:\ttest: 0.7415164\tbest: 0.7415164 (300)\ttotal: 26s\tremaining: 2m 21s\n",
      "600:\ttest: 0.7416009\tbest: 0.7418151 (492)\ttotal: 54.5s\tremaining: 2m 1s\n"
     ]
    },
    {
     "name": "stderr",
     "output_type": "stream",
     "text": [
      "[I 2025-02-23 12:06:37,047] Trial 13 finished with value: 0.7418150703328132 and parameters: {'iterations': 1937, 'depth': 8, 'learning_rate': 0.05956351603701897, 'l2_leaf_reg': 55.074044317639256}. Best is trial 8 with value: 0.7418464681301913.\n"
     ]
    },
    {
     "name": "stdout",
     "output_type": "stream",
     "text": [
      "Stopped by overfitting detector  (300 iterations wait)\n",
      "\n",
      "bestTest = 0.7418150703\n",
      "bestIteration = 492\n",
      "\n",
      "Shrink model to first 493 iterations.\n",
      "0:\ttest: 0.7198698\tbest: 0.7198698 (0)\ttotal: 95.6ms\tremaining: 2m 26s\n",
      "300:\ttest: 0.7409352\tbest: 0.7410104 (294)\ttotal: 26.6s\tremaining: 1m 48s\n",
      "600:\ttest: 0.7393302\tbest: 0.7410152 (308)\ttotal: 56.5s\tremaining: 1m 27s\n"
     ]
    },
    {
     "name": "stderr",
     "output_type": "stream",
     "text": [
      "[I 2025-02-23 12:07:34,539] Trial 14 finished with value: 0.7410151750117275 and parameters: {'iterations': 1533, 'depth': 8, 'learning_rate': 0.05737459522516041, 'l2_leaf_reg': 0.037504318502340525}. Best is trial 8 with value: 0.7418464681301913.\n"
     ]
    },
    {
     "name": "stdout",
     "output_type": "stream",
     "text": [
      "Stopped by overfitting detector  (300 iterations wait)\n",
      "\n",
      "bestTest = 0.741015175\n",
      "bestIteration = 308\n",
      "\n",
      "Shrink model to first 309 iterations.\n",
      "0:\ttest: 0.7198448\tbest: 0.7198448 (0)\ttotal: 94ms\tremaining: 2m 44s\n",
      "300:\ttest: 0.7412687\tbest: 0.7412689 (297)\ttotal: 24.8s\tremaining: 1m 59s\n",
      "600:\ttest: 0.7420410\tbest: 0.7420935 (580)\ttotal: 53.3s\tremaining: 1m 42s\n",
      "900:\ttest: 0.7420031\tbest: 0.7422120 (774)\ttotal: 1m 22s\tremaining: 1m 17s\n"
     ]
    },
    {
     "name": "stderr",
     "output_type": "stream",
     "text": [
      "[I 2025-02-23 12:09:13,866] Trial 15 finished with value: 0.7422119524691908 and parameters: {'iterations': 1753, 'depth': 8, 'learning_rate': 0.031684876809801796, 'l2_leaf_reg': 3.400203453407683}. Best is trial 15 with value: 0.7422119524691908.\n"
     ]
    },
    {
     "name": "stdout",
     "output_type": "stream",
     "text": [
      "Stopped by overfitting detector  (300 iterations wait)\n",
      "\n",
      "bestTest = 0.7422119525\n",
      "bestIteration = 774\n",
      "\n",
      "Shrink model to first 775 iterations.\n",
      "저장 완료\n",
      "0:\ttest: 0.7239197\tbest: 0.7239197 (0)\ttotal: 118ms\tremaining: 3m 20s\n",
      "300:\ttest: 0.7409357\tbest: 0.7409357 (300)\ttotal: 28.3s\tremaining: 2m 11s\n",
      "600:\ttest: 0.7414083\tbest: 0.7414748 (522)\ttotal: 59.8s\tremaining: 1m 49s\n"
     ]
    },
    {
     "name": "stderr",
     "output_type": "stream",
     "text": [
      "[I 2025-02-23 12:10:38,583] Trial 16 finished with value: 0.7414748408302023 and parameters: {'iterations': 1706, 'depth': 9, 'learning_rate': 0.027198320505425724, 'l2_leaf_reg': 2.2406425579941533}. Best is trial 15 with value: 0.7422119524691908.\n"
     ]
    },
    {
     "name": "stdout",
     "output_type": "stream",
     "text": [
      "Stopped by overfitting detector  (300 iterations wait)\n",
      "\n",
      "bestTest = 0.7414748408\n",
      "bestIteration = 522\n",
      "\n",
      "Shrink model to first 523 iterations.\n",
      "0:\ttest: 0.7168510\tbest: 0.7168510 (0)\ttotal: 79.3ms\tremaining: 2m\n",
      "300:\ttest: 0.7404118\tbest: 0.7404118 (300)\ttotal: 22s\tremaining: 1m 29s\n",
      "600:\ttest: 0.7413018\tbest: 0.7413127 (599)\ttotal: 45.3s\tremaining: 1m 9s\n",
      "900:\ttest: 0.7413256\tbest: 0.7414449 (681)\ttotal: 1m 10s\tremaining: 48.5s\n",
      "1200:\ttest: 0.7410334\tbest: 0.7415032 (984)\ttotal: 1m 35s\tremaining: 25.5s\n"
     ]
    },
    {
     "name": "stderr",
     "output_type": "stream",
     "text": [
      "[I 2025-02-23 12:12:21,456] Trial 17 finished with value: 0.7415032207540497 and parameters: {'iterations': 1522, 'depth': 7, 'learning_rate': 0.02432488838207133, 'l2_leaf_reg': 0.010986858818421364}. Best is trial 15 with value: 0.7422119524691908.\n"
     ]
    },
    {
     "name": "stdout",
     "output_type": "stream",
     "text": [
      "Stopped by overfitting detector  (300 iterations wait)\n",
      "\n",
      "bestTest = 0.7415032208\n",
      "bestIteration = 984\n",
      "\n",
      "Shrink model to first 985 iterations.\n",
      "0:\ttest: 0.7239252\tbest: 0.7239252 (0)\ttotal: 107ms\tremaining: 3m 9s\n",
      "300:\ttest: 0.7407174\tbest: 0.7409304 (279)\ttotal: 29.1s\tremaining: 2m 22s\n"
     ]
    },
    {
     "name": "stderr",
     "output_type": "stream",
     "text": [
      "[I 2025-02-23 12:13:22,064] Trial 18 finished with value: 0.7409304323288082 and parameters: {'iterations': 1770, 'depth': 9, 'learning_rate': 0.04656812687583585, 'l2_leaf_reg': 0.2628444134576081}. Best is trial 15 with value: 0.7422119524691908.\n"
     ]
    },
    {
     "name": "stdout",
     "output_type": "stream",
     "text": [
      "Stopped by overfitting detector  (300 iterations wait)\n",
      "\n",
      "bestTest = 0.7409304323\n",
      "bestIteration = 279\n",
      "\n",
      "Shrink model to first 280 iterations.\n",
      "0:\ttest: 0.7168353\tbest: 0.7168353 (0)\ttotal: 81ms\tremaining: 2m 54s\n",
      "300:\ttest: 0.7411890\tbest: 0.7411917 (298)\ttotal: 22.7s\tremaining: 2m 19s\n",
      "600:\ttest: 0.7420688\tbest: 0.7421001 (595)\ttotal: 47.4s\tremaining: 2m 2s\n",
      "900:\ttest: 0.7418802\tbest: 0.7421101 (619)\ttotal: 1m 12s\tremaining: 1m 40s\n"
     ]
    },
    {
     "name": "stderr",
     "output_type": "stream",
     "text": [
      "[I 2025-02-23 12:14:36,402] Trial 19 finished with value: 0.7421100833539847 and parameters: {'iterations': 2153, 'depth': 7, 'learning_rate': 0.036214518104510374, 'l2_leaf_reg': 5.597754063560477}. Best is trial 15 with value: 0.7422119524691908.\n",
      "[I 2025-02-23 12:14:36,405] A new study created in memory with name: no-name-9529e784-4cb3-468c-98ea-aa6fb0ac858f\n"
     ]
    },
    {
     "name": "stdout",
     "output_type": "stream",
     "text": [
      "Stopped by overfitting detector  (300 iterations wait)\n",
      "\n",
      "bestTest = 0.7421100834\n",
      "bestIteration = 619\n",
      "\n",
      "Shrink model to first 620 iterations.\n"
     ]
    },
    {
     "name": "stderr",
     "output_type": "stream",
     "text": [
      "[I 2025-02-23 12:14:59,285] Trial 0 finished with value: 0.7296206455142534 and parameters: {'num_iterations': 2366, 'objective': 'binary', 'metric': 'auc', 'verbose': -1, 'learning_rate': 0.0652646236447618, 'n_estimators': 236, 'min_child_samples': 45, 'subsample': 0.7, 'colsample_bytree': 0.5}. Best is trial 0 with value: 0.7296206455142534.\n",
      "[I 2025-02-23 12:15:16,101] Trial 1 finished with value: 0.7417487565328623 and parameters: {'num_iterations': 1510, 'objective': 'binary', 'metric': 'auc', 'verbose': -1, 'learning_rate': 0.005231880959249543, 'n_estimators': 1411, 'min_child_samples': 10, 'subsample': 1.0, 'colsample_bytree': 0.5}. Best is trial 1 with value: 0.7417487565328623.\n",
      "[I 2025-02-23 12:15:35,649] Trial 2 finished with value: 0.7408884838867313 and parameters: {'num_iterations': 2334, 'objective': 'binary', 'metric': 'auc', 'verbose': -1, 'learning_rate': 0.006578527777128852, 'n_estimators': 931, 'min_child_samples': 15, 'subsample': 0.5, 'colsample_bytree': 1.0}. Best is trial 1 with value: 0.7417487565328623.\n",
      "[I 2025-02-23 12:15:51,964] Trial 3 finished with value: 0.7417913601711662 and parameters: {'num_iterations': 1620, 'objective': 'binary', 'metric': 'auc', 'verbose': -1, 'learning_rate': 0.0058823249237283685, 'n_estimators': 837, 'min_child_samples': 10, 'subsample': 0.9, 'colsample_bytree': 0.6}. Best is trial 3 with value: 0.7417913601711662.\n",
      "[I 2025-02-23 12:16:08,323] Trial 4 finished with value: 0.7410766999228917 and parameters: {'num_iterations': 1997, 'objective': 'binary', 'metric': 'auc', 'verbose': -1, 'learning_rate': 0.010907507425244923, 'n_estimators': 1597, 'min_child_samples': 50, 'subsample': 0.6, 'colsample_bytree': 0.8}. Best is trial 3 with value: 0.7417913601711662.\n",
      "[I 2025-02-23 12:16:30,859] Trial 5 finished with value: 0.7374007195055237 and parameters: {'num_iterations': 2909, 'objective': 'binary', 'metric': 'auc', 'verbose': -1, 'learning_rate': 0.019760591962733942, 'n_estimators': 612, 'min_child_samples': 30, 'subsample': 0.7, 'colsample_bytree': 0.9}. Best is trial 3 with value: 0.7417913601711662.\n",
      "[I 2025-02-23 12:16:51,521] Trial 6 finished with value: 0.7384961599465347 and parameters: {'num_iterations': 2639, 'objective': 'binary', 'metric': 'auc', 'verbose': -1, 'learning_rate': 0.017862094446750985, 'n_estimators': 794, 'min_child_samples': 35, 'subsample': 1.0, 'colsample_bytree': 0.8}. Best is trial 3 with value: 0.7417913601711662.\n",
      "[I 2025-02-23 12:17:07,905] Trial 7 finished with value: 0.7408413891761075 and parameters: {'num_iterations': 1580, 'objective': 'binary', 'metric': 'auc', 'verbose': -1, 'learning_rate': 0.01776722177611332, 'n_estimators': 529, 'min_child_samples': 25, 'subsample': 0.8, 'colsample_bytree': 0.5}. Best is trial 3 with value: 0.7417913601711662.\n",
      "[I 2025-02-23 12:17:25,310] Trial 8 finished with value: 0.7375739255917549 and parameters: {'num_iterations': 1911, 'objective': 'binary', 'metric': 'auc', 'verbose': -1, 'learning_rate': 0.0304747553332844, 'n_estimators': 1328, 'min_child_samples': 10, 'subsample': 0.7, 'colsample_bytree': 0.6}. Best is trial 3 with value: 0.7417913601711662.\n",
      "[I 2025-02-23 12:17:52,468] Trial 9 finished with value: 0.7367989833197047 and parameters: {'num_iterations': 2739, 'objective': 'binary', 'metric': 'auc', 'verbose': -1, 'learning_rate': 0.02691531614176271, 'n_estimators': 1438, 'min_child_samples': 20, 'subsample': 0.6, 'colsample_bytree': 0.5}. Best is trial 3 with value: 0.7417913601711662.\n",
      "[I 2025-02-23 12:18:07,002] Trial 10 finished with value: 0.7278520564695601 and parameters: {'num_iterations': 1883, 'objective': 'binary', 'metric': 'auc', 'verbose': -1, 'learning_rate': 0.08223556891145911, 'n_estimators': 1917, 'min_child_samples': 40, 'subsample': 0.9, 'colsample_bytree': 0.7}. Best is trial 3 with value: 0.7417913601711662.\n",
      "[I 2025-02-23 12:18:22,448] Trial 11 finished with value: 0.7419054238779681 and parameters: {'num_iterations': 1513, 'objective': 'binary', 'metric': 'auc', 'verbose': -1, 'learning_rate': 0.005340229419903739, 'n_estimators': 1206, 'min_child_samples': 10, 'subsample': 1.0, 'colsample_bytree': 0.6}. Best is trial 11 with value: 0.7419054238779681.\n",
      "[I 2025-02-23 12:18:37,310] Trial 12 finished with value: 0.7413668962590726 and parameters: {'num_iterations': 1717, 'objective': 'binary', 'metric': 'auc', 'verbose': -1, 'learning_rate': 0.008807202863131344, 'n_estimators': 1093, 'min_child_samples': 20, 'subsample': 0.9, 'colsample_bytree': 0.7}. Best is trial 11 with value: 0.7419054238779681.\n",
      "[I 2025-02-23 12:18:57,148] Trial 13 finished with value: 0.7410298156692378 and parameters: {'num_iterations': 2084, 'objective': 'binary', 'metric': 'auc', 'verbose': -1, 'learning_rate': 0.010947685715514379, 'n_estimators': 1108, 'min_child_samples': 10, 'subsample': 0.9, 'colsample_bytree': 0.6}. Best is trial 11 with value: 0.7419054238779681.\n",
      "[I 2025-02-23 12:19:14,935] Trial 14 finished with value: 0.7419003173182833 and parameters: {'num_iterations': 1759, 'objective': 'binary', 'metric': 'auc', 'verbose': -1, 'learning_rate': 0.00514593053258222, 'n_estimators': 172, 'min_child_samples': 20, 'subsample': 1.0, 'colsample_bytree': 0.6}. Best is trial 11 with value: 0.7419054238779681.\n",
      "[I 2025-02-23 12:19:30,284] Trial 15 finished with value: 0.7413666103552644 and parameters: {'num_iterations': 1756, 'objective': 'binary', 'metric': 'auc', 'verbose': -1, 'learning_rate': 0.008303365162986591, 'n_estimators': 208, 'min_child_samples': 20, 'subsample': 1.0, 'colsample_bytree': 0.7}. Best is trial 11 with value: 0.7419054238779681.\n",
      "[I 2025-02-23 12:19:49,685] Trial 16 finished with value: 0.7351088907538994 and parameters: {'num_iterations': 2163, 'objective': 'binary', 'metric': 'auc', 'verbose': -1, 'learning_rate': 0.03901437770924474, 'n_estimators': 463, 'min_child_samples': 25, 'subsample': 0.8, 'colsample_bytree': 0.6}. Best is trial 11 with value: 0.7419054238779681.\n",
      "[I 2025-02-23 12:20:06,415] Trial 17 finished with value: 0.7408151654434801 and parameters: {'num_iterations': 1770, 'objective': 'binary', 'metric': 'auc', 'verbose': -1, 'learning_rate': 0.014107419975913894, 'n_estimators': 1873, 'min_child_samples': 15, 'subsample': 1.0, 'colsample_bytree': 0.6}. Best is trial 11 with value: 0.7419054238779681.\n",
      "[I 2025-02-23 12:20:27,009] Trial 18 finished with value: 0.741124596752533 and parameters: {'num_iterations': 2434, 'objective': 'binary', 'metric': 'auc', 'verbose': -1, 'learning_rate': 0.007395766065557996, 'n_estimators': 126, 'min_child_samples': 30, 'subsample': 0.8, 'colsample_bytree': 0.7}. Best is trial 11 with value: 0.7419054238779681.\n",
      "[I 2025-02-23 12:20:40,833] Trial 19 finished with value: 0.7418862008177548 and parameters: {'num_iterations': 1527, 'objective': 'binary', 'metric': 'auc', 'verbose': -1, 'learning_rate': 0.005234790012397332, 'n_estimators': 1670, 'min_child_samples': 15, 'subsample': 1.0, 'colsample_bytree': 0.8}. Best is trial 11 with value: 0.7419054238779681.\n",
      "[I 2025-02-23 12:20:56,273] Trial 20 finished with value: 0.7407591044717611 and parameters: {'num_iterations': 1873, 'objective': 'binary', 'metric': 'auc', 'verbose': -1, 'learning_rate': 0.012796480593590575, 'n_estimators': 1257, 'min_child_samples': 25, 'subsample': 0.9, 'colsample_bytree': 0.9}. Best is trial 11 with value: 0.7419054238779681.\n",
      "[I 2025-02-23 12:21:09,822] Trial 21 finished with value: 0.7418182152747033 and parameters: {'num_iterations': 1505, 'objective': 'binary', 'metric': 'auc', 'verbose': -1, 'learning_rate': 0.0051460135866461, 'n_estimators': 1639, 'min_child_samples': 15, 'subsample': 1.0, 'colsample_bytree': 0.8}. Best is trial 11 with value: 0.7419054238779681.\n",
      "[I 2025-02-23 12:21:24,668] Trial 22 finished with value: 0.7417686268475303 and parameters: {'num_iterations': 1668, 'objective': 'binary', 'metric': 'auc', 'verbose': -1, 'learning_rate': 0.005003585055247969, 'n_estimators': 1702, 'min_child_samples': 15, 'subsample': 1.0, 'colsample_bytree': 0.9}. Best is trial 11 with value: 0.7419054238779681.\n",
      "[I 2025-02-23 12:21:38,758] Trial 23 finished with value: 0.7414211226813558 and parameters: {'num_iterations': 1629, 'objective': 'binary', 'metric': 'auc', 'verbose': -1, 'learning_rate': 0.007594680866521767, 'n_estimators': 1223, 'min_child_samples': 20, 'subsample': 0.9, 'colsample_bytree': 0.8}. Best is trial 11 with value: 0.7419054238779681.\n",
      "[I 2025-02-23 12:21:54,101] Trial 24 finished with value: 0.7412359245187262 and parameters: {'num_iterations': 1789, 'objective': 'binary', 'metric': 'auc', 'verbose': -1, 'learning_rate': 0.008991196778412532, 'n_estimators': 2000, 'min_child_samples': 15, 'subsample': 1.0, 'colsample_bytree': 0.7}. Best is trial 11 with value: 0.7419054238779681.\n",
      "[I 2025-02-23 12:22:08,752] Trial 25 finished with value: 0.7415574352636743 and parameters: {'num_iterations': 1501, 'objective': 'binary', 'metric': 'auc', 'verbose': -1, 'learning_rate': 0.01014625508640145, 'n_estimators': 1530, 'min_child_samples': 25, 'subsample': 1.0, 'colsample_bytree': 0.6}. Best is trial 11 with value: 0.7419054238779681.\n",
      "[I 2025-02-23 12:22:25,817] Trial 26 finished with value: 0.7412309172311969 and parameters: {'num_iterations': 2009, 'objective': 'binary', 'metric': 'auc', 'verbose': -1, 'learning_rate': 0.006560862459482555, 'n_estimators': 374, 'min_child_samples': 10, 'subsample': 0.9, 'colsample_bytree': 1.0}. Best is trial 11 with value: 0.7419054238779681.\n",
      "[I 2025-02-23 12:22:38,888] Trial 27 finished with value: 0.734728698252324 and parameters: {'num_iterations': 1651, 'objective': 'binary', 'metric': 'auc', 'verbose': -1, 'learning_rate': 0.047947876079429776, 'n_estimators': 712, 'min_child_samples': 20, 'subsample': 1.0, 'colsample_bytree': 0.7}. Best is trial 11 with value: 0.7419054238779681.\n",
      "[I 2025-02-23 12:22:53,992] Trial 28 finished with value: 0.7406121578561331 and parameters: {'num_iterations': 1852, 'objective': 'binary', 'metric': 'auc', 'verbose': -1, 'learning_rate': 0.013981759659711353, 'n_estimators': 1751, 'min_child_samples': 15, 'subsample': 0.8, 'colsample_bytree': 0.8}. Best is trial 11 with value: 0.7419054238779681.\n",
      "[I 2025-02-23 12:23:11,412] Trial 29 finished with value: 0.7419032160652272 and parameters: {'num_iterations': 1586, 'objective': 'binary', 'metric': 'auc', 'verbose': -1, 'learning_rate': 0.006576802700232973, 'n_estimators': 315, 'min_child_samples': 35, 'subsample': 0.9, 'colsample_bytree': 0.5}. Best is trial 11 with value: 0.7419054238779681.\n",
      "[I 2025-02-23 12:23:35,036] Trial 30 finished with value: 0.7418456024769944 and parameters: {'num_iterations': 2206, 'objective': 'binary', 'metric': 'auc', 'verbose': -1, 'learning_rate': 0.006300048275050027, 'n_estimators': 391, 'min_child_samples': 40, 'subsample': 0.9, 'colsample_bytree': 0.5}. Best is trial 11 with value: 0.7419054238779681.\n",
      "[I 2025-02-23 12:23:52,295] Trial 31 finished with value: 0.7419246945888162 and parameters: {'num_iterations': 1561, 'objective': 'binary', 'metric': 'auc', 'verbose': -1, 'learning_rate': 0.006227323890280515, 'n_estimators': 130, 'min_child_samples': 35, 'subsample': 1.0, 'colsample_bytree': 0.5}. Best is trial 31 with value: 0.7419246945888162.\n",
      "[I 2025-02-23 12:24:10,676] Trial 32 finished with value: 0.7419707330437043 and parameters: {'num_iterations': 1689, 'objective': 'binary', 'metric': 'auc', 'verbose': -1, 'learning_rate': 0.006893973736364755, 'n_estimators': 275, 'min_child_samples': 35, 'subsample': 1.0, 'colsample_bytree': 0.5}. Best is trial 32 with value: 0.7419707330437043.\n",
      "[I 2025-02-23 12:24:28,092] Trial 33 finished with value: 0.7419525940354302 and parameters: {'num_iterations': 1594, 'objective': 'binary', 'metric': 'auc', 'verbose': -1, 'learning_rate': 0.007112902604159326, 'n_estimators': 318, 'min_child_samples': 35, 'subsample': 0.9, 'colsample_bytree': 0.5}. Best is trial 32 with value: 0.7419707330437043.\n",
      "[I 2025-02-23 12:24:46,398] Trial 34 finished with value: 0.7419681757929757 and parameters: {'num_iterations': 1687, 'objective': 'binary', 'metric': 'auc', 'verbose': -1, 'learning_rate': 0.007097010799689733, 'n_estimators': 276, 'min_child_samples': 35, 'subsample': 1.0, 'colsample_bytree': 0.5}. Best is trial 32 with value: 0.7419707330437043.\n",
      "[I 2025-02-23 12:25:07,089] Trial 35 finished with value: 0.7414785416961638 and parameters: {'num_iterations': 1975, 'objective': 'binary', 'metric': 'auc', 'verbose': -1, 'learning_rate': 0.009900637737216892, 'n_estimators': 247, 'min_child_samples': 35, 'subsample': 0.5, 'colsample_bytree': 0.5}. Best is trial 32 with value: 0.7419707330437043.\n",
      "[I 2025-02-23 12:25:25,217] Trial 36 finished with value: 0.7419374967260043 and parameters: {'num_iterations': 1676, 'objective': 'binary', 'metric': 'auc', 'verbose': -1, 'learning_rate': 0.007519659889929843, 'n_estimators': 561, 'min_child_samples': 40, 'subsample': 1.0, 'colsample_bytree': 0.5}. Best is trial 32 with value: 0.7419707330437043.\n",
      "[I 2025-02-23 12:25:42,690] Trial 37 finished with value: 0.7414426131176034 and parameters: {'num_iterations': 1672, 'objective': 'binary', 'metric': 'auc', 'verbose': -1, 'learning_rate': 0.012826398125494506, 'n_estimators': 605, 'min_child_samples': 45, 'subsample': 0.9, 'colsample_bytree': 0.5}. Best is trial 32 with value: 0.7419707330437043.\n",
      "[I 2025-02-23 12:26:07,831] Trial 38 finished with value: 0.7417709021653369 and parameters: {'num_iterations': 2384, 'objective': 'binary', 'metric': 'auc', 'verbose': -1, 'learning_rate': 0.007383772058866759, 'n_estimators': 501, 'min_child_samples': 40, 'subsample': 0.8, 'colsample_bytree': 0.5}. Best is trial 32 with value: 0.7419707330437043.\n",
      "[I 2025-02-23 12:26:28,121] Trial 39 finished with value: 0.7414516071749022 and parameters: {'num_iterations': 1944, 'objective': 'binary', 'metric': 'auc', 'verbose': -1, 'learning_rate': 0.010851740902835298, 'n_estimators': 934, 'min_child_samples': 50, 'subsample': 0.6, 'colsample_bytree': 0.5}. Best is trial 32 with value: 0.7419707330437043.\n"
     ]
    },
    {
     "name": "stdout",
     "output_type": "stream",
     "text": [
      "Cat val score : 0.7422119524691908\n",
      "LGBM val score : 0.7419458157326448\n",
      "Ensemble val score : 0.7424211546390482\n"
     ]
    },
    {
     "name": "stderr",
     "output_type": "stream",
     "text": [
      "[I 2025-02-23 12:26:47,803] A new study created in memory with name: no-name-8868d88c-378a-41c3-bfe0-511eea97cb40\n"
     ]
    },
    {
     "name": "stdout",
     "output_type": "stream",
     "text": [
      "==================================================\n",
      "0:\ttest: 0.7119342\tbest: 0.7119342 (0)\ttotal: 92.6ms\tremaining: 3m 39s\n",
      "300:\ttest: 0.7406721\tbest: 0.7406721 (300)\ttotal: 39s\tremaining: 4m 27s\n",
      "600:\ttest: 0.7418994\tbest: 0.7418994 (600)\ttotal: 1m 19s\tremaining: 3m 53s\n",
      "900:\ttest: 0.7422402\tbest: 0.7422559 (824)\ttotal: 2m\tremaining: 3m 15s\n",
      "1200:\ttest: 0.7424186\tbest: 0.7424363 (1198)\ttotal: 2m 44s\tremaining: 2m 39s\n",
      "1500:\ttest: 0.7424268\tbest: 0.7424693 (1300)\ttotal: 3m 34s\tremaining: 2m 3s\n"
     ]
    },
    {
     "name": "stderr",
     "output_type": "stream",
     "text": [
      "[I 2025-02-23 12:30:39,306] Trial 0 finished with value: 0.7424693056054078 and parameters: {'iterations': 2366, 'depth': 10, 'learning_rate': 0.01181021951839225, 'l2_leaf_reg': 9.980783802743254}. Best is trial 0 with value: 0.7424693056054078.\n"
     ]
    },
    {
     "name": "stdout",
     "output_type": "stream",
     "text": [
      "Stopped by overfitting detector  (300 iterations wait)\n",
      "\n",
      "bestTest = 0.7424693056\n",
      "bestIteration = 1300\n",
      "\n",
      "Shrink model to first 1301 iterations.\n",
      "저장 완료\n",
      "0:\ttest: 0.6931364\tbest: 0.6931364 (0)\ttotal: 51.4ms\tremaining: 1m 52s\n",
      "300:\ttest: 0.7312220\tbest: 0.7312221 (299)\ttotal: 12.9s\tremaining: 1m 21s\n",
      "600:\ttest: 0.7360872\tbest: 0.7360872 (600)\ttotal: 26s\tremaining: 1m 8s\n",
      "900:\ttest: 0.7382919\tbest: 0.7382919 (900)\ttotal: 39.3s\tremaining: 56.3s\n",
      "1200:\ttest: 0.7393866\tbest: 0.7393866 (1200)\ttotal: 52.9s\tremaining: 43.7s\n",
      "1500:\ttest: 0.7401037\tbest: 0.7401037 (1500)\ttotal: 1m 6s\tremaining: 30.7s\n",
      "1800:\ttest: 0.7406076\tbest: 0.7406078 (1798)\ttotal: 1m 20s\tremaining: 17.5s\n",
      "2100:\ttest: 0.7410120\tbest: 0.7410120 (2100)\ttotal: 1m 34s\tremaining: 4.13s\n"
     ]
    },
    {
     "name": "stderr",
     "output_type": "stream",
     "text": [
      "[I 2025-02-23 12:32:18,285] Trial 1 finished with value: 0.7411480488065756 and parameters: {'iterations': 2193, 'depth': 4, 'learning_rate': 0.005671430811678843, 'l2_leaf_reg': 0.00012325230809466137}. Best is trial 0 with value: 0.7424693056054078.\n"
     ]
    },
    {
     "name": "stdout",
     "output_type": "stream",
     "text": [
      "2192:\ttest: 0.7411471\tbest: 0.7411480 (2191)\ttotal: 1m 38s\tremaining: 0us\n",
      "\n",
      "bestTest = 0.7411480488\n",
      "bestIteration = 2191\n",
      "\n",
      "Shrink model to first 2192 iterations.\n",
      "0:\ttest: 0.6931364\tbest: 0.6931364 (0)\ttotal: 52.1ms\tremaining: 2m 12s\n",
      "300:\ttest: 0.7425131\tbest: 0.7425131 (300)\ttotal: 14.2s\tremaining: 1m 45s\n",
      "600:\ttest: 0.7423712\tbest: 0.7427603 (481)\ttotal: 28.9s\tremaining: 1m 33s\n"
     ]
    },
    {
     "name": "stderr",
     "output_type": "stream",
     "text": [
      "[I 2025-02-23 12:32:56,383] Trial 2 finished with value: 0.7427603159732648 and parameters: {'iterations': 2535, 'depth': 4, 'learning_rate': 0.09275339199839054, 'l2_leaf_reg': 0.0008705394248343123}. Best is trial 2 with value: 0.7427603159732648.\n"
     ]
    },
    {
     "name": "stdout",
     "output_type": "stream",
     "text": [
      "Stopped by overfitting detector  (300 iterations wait)\n",
      "\n",
      "bestTest = 0.742760316\n",
      "bestIteration = 481\n",
      "\n",
      "Shrink model to first 482 iterations.\n",
      "저장 완료\n",
      "0:\ttest: 0.6931364\tbest: 0.6931364 (0)\ttotal: 52.5ms\tremaining: 2m 2s\n",
      "300:\ttest: 0.7413907\tbest: 0.7413907 (300)\ttotal: 13.6s\tremaining: 1m 31s\n",
      "600:\ttest: 0.7425941\tbest: 0.7425941 (600)\ttotal: 28.1s\tremaining: 1m 21s\n",
      "900:\ttest: 0.7425706\tbest: 0.7426772 (686)\ttotal: 42.9s\tremaining: 1m 8s\n"
     ]
    },
    {
     "name": "stderr",
     "output_type": "stream",
     "text": [
      "[I 2025-02-23 12:33:43,563] Trial 3 finished with value: 0.7426772013536973 and parameters: {'iterations': 2334, 'depth': 4, 'learning_rate': 0.04657568321363276, 'l2_leaf_reg': 0.0008640473331457248}. Best is trial 2 with value: 0.7427603159732648.\n"
     ]
    },
    {
     "name": "stdout",
     "output_type": "stream",
     "text": [
      "Stopped by overfitting detector  (300 iterations wait)\n",
      "\n",
      "bestTest = 0.7426772014\n",
      "bestIteration = 686\n",
      "\n",
      "Shrink model to first 687 iterations.\n",
      "0:\ttest: 0.7119378\tbest: 0.7119378 (0)\ttotal: 95.7ms\tremaining: 2m 46s\n",
      "300:\ttest: 0.7400989\tbest: 0.7400989 (300)\ttotal: 36.8s\tremaining: 2m 56s\n",
      "600:\ttest: 0.7406002\tbest: 0.7406448 (576)\ttotal: 1m 15s\tremaining: 2m 23s\n",
      "900:\ttest: 0.7403613\tbest: 0.7407016 (630)\ttotal: 1m 54s\tremaining: 1m 47s\n"
     ]
    },
    {
     "name": "stderr",
     "output_type": "stream",
     "text": [
      "[I 2025-02-23 12:35:42,885] Trial 4 finished with value: 0.7407015861847976 and parameters: {'iterations': 1742, 'depth': 10, 'learning_rate': 0.012622767482095846, 'l2_leaf_reg': 0.00021158816350109617}. Best is trial 2 with value: 0.7427603159732648.\n"
     ]
    },
    {
     "name": "stdout",
     "output_type": "stream",
     "text": [
      "Stopped by overfitting detector  (300 iterations wait)\n",
      "\n",
      "bestTest = 0.7407015862\n",
      "bestIteration = 630\n",
      "\n",
      "Shrink model to first 631 iterations.\n",
      "0:\ttest: 0.6931364\tbest: 0.6931364 (0)\ttotal: 51.1ms\tremaining: 1m 46s\n",
      "300:\ttest: 0.7420895\tbest: 0.7420895 (300)\ttotal: 14.2s\tremaining: 1m 23s\n",
      "600:\ttest: 0.7423678\tbest: 0.7426024 (477)\ttotal: 28.9s\tremaining: 1m 11s\n"
     ]
    },
    {
     "name": "stderr",
     "output_type": "stream",
     "text": [
      "[I 2025-02-23 12:36:20,627] Trial 5 finished with value: 0.742602362061022 and parameters: {'iterations': 2082, 'depth': 4, 'learning_rate': 0.06995196593094148, 'l2_leaf_reg': 0.0018080296485396804}. Best is trial 2 with value: 0.7427603159732648.\n"
     ]
    },
    {
     "name": "stdout",
     "output_type": "stream",
     "text": [
      "Stopped by overfitting detector  (300 iterations wait)\n",
      "\n",
      "bestTest = 0.7426023621\n",
      "bestIteration = 477\n",
      "\n",
      "Shrink model to first 478 iterations.\n",
      "0:\ttest: 0.6948075\tbest: 0.6948075 (0)\ttotal: 62.5ms\tremaining: 2m 4s\n",
      "300:\ttest: 0.7422112\tbest: 0.7422336 (267)\ttotal: 17.1s\tremaining: 1m 36s\n",
      "600:\ttest: 0.7428106\tbest: 0.7428117 (512)\ttotal: 34.6s\tremaining: 1m 20s\n",
      "900:\ttest: 0.7428128\tbest: 0.7428576 (779)\ttotal: 52.6s\tremaining: 1m 3s\n",
      "1200:\ttest: 0.7428069\tbest: 0.7428835 (1022)\ttotal: 1m 10s\tremaining: 46.7s\n"
     ]
    },
    {
     "name": "stderr",
     "output_type": "stream",
     "text": [
      "[I 2025-02-23 12:37:38,604] Trial 6 finished with value: 0.742883492863952 and parameters: {'iterations': 1997, 'depth': 5, 'learning_rate': 0.07985155992831598, 'l2_leaf_reg': 62.52181000710482}. Best is trial 6 with value: 0.742883492863952.\n"
     ]
    },
    {
     "name": "stdout",
     "output_type": "stream",
     "text": [
      "Stopped by overfitting detector  (300 iterations wait)\n",
      "\n",
      "bestTest = 0.7428834929\n",
      "bestIteration = 1022\n",
      "\n",
      "Shrink model to first 1023 iterations.\n",
      "저장 완료\n",
      "0:\ttest: 0.7119378\tbest: 0.7119378 (0)\ttotal: 86.3ms\tremaining: 2m 46s\n",
      "300:\ttest: 0.7412199\tbest: 0.7420234 (180)\ttotal: 23.8s\tremaining: 2m 8s\n"
     ]
    },
    {
     "name": "stderr",
     "output_type": "stream",
     "text": [
      "[I 2025-02-23 12:38:17,703] Trial 7 finished with value: 0.7420234227330187 and parameters: {'iterations': 1927, 'depth': 7, 'learning_rate': 0.0941937211034094, 'l2_leaf_reg': 0.05654822767791934}. Best is trial 6 with value: 0.742883492863952.\n"
     ]
    },
    {
     "name": "stdout",
     "output_type": "stream",
     "text": [
      "Stopped by overfitting detector  (300 iterations wait)\n",
      "\n",
      "bestTest = 0.7420234227\n",
      "bestIteration = 180\n",
      "\n",
      "Shrink model to first 181 iterations.\n",
      "0:\ttest: 0.7119371\tbest: 0.7119371 (0)\ttotal: 83.3ms\tremaining: 2m 38s\n",
      "300:\ttest: 0.7426524\tbest: 0.7426729 (296)\ttotal: 22.8s\tremaining: 2m 1s\n",
      "600:\ttest: 0.7429652\tbest: 0.7431408 (527)\ttotal: 47.8s\tremaining: 1m 43s\n"
     ]
    },
    {
     "name": "stderr",
     "output_type": "stream",
     "text": [
      "[I 2025-02-23 12:39:24,670] Trial 8 finished with value: 0.7431408301166242 and parameters: {'iterations': 1904, 'depth': 7, 'learning_rate': 0.05155602859187331, 'l2_leaf_reg': 1.299974533316308}. Best is trial 8 with value: 0.7431408301166242.\n"
     ]
    },
    {
     "name": "stdout",
     "output_type": "stream",
     "text": [
      "Stopped by overfitting detector  (300 iterations wait)\n",
      "\n",
      "bestTest = 0.7431408301\n",
      "bestIteration = 527\n",
      "\n",
      "Shrink model to first 528 iterations.\n",
      "저장 완료\n",
      "0:\ttest: 0.6977158\tbest: 0.6977158 (0)\ttotal: 71.1ms\tremaining: 3m 7s\n",
      "300:\ttest: 0.7420185\tbest: 0.7420185 (300)\ttotal: 19.3s\tremaining: 2m 29s\n",
      "600:\ttest: 0.7426466\tbest: 0.7427609 (495)\ttotal: 40.5s\tremaining: 2m 17s\n",
      "900:\ttest: 0.7426074\tbest: 0.7427807 (656)\ttotal: 1m 1s\tremaining: 1m 59s\n"
     ]
    },
    {
     "name": "stderr",
     "output_type": "stream",
     "text": [
      "[I 2025-02-23 12:40:30,728] Trial 9 finished with value: 0.7427806667651657 and parameters: {'iterations': 2639, 'depth': 6, 'learning_rate': 0.03968704290444751, 'l2_leaf_reg': 0.30557194377967184}. Best is trial 8 with value: 0.7431408301166242.\n"
     ]
    },
    {
     "name": "stdout",
     "output_type": "stream",
     "text": [
      "Stopped by overfitting detector  (300 iterations wait)\n",
      "\n",
      "bestTest = 0.7427806668\n",
      "bestIteration = 656\n",
      "\n",
      "Shrink model to first 657 iterations.\n",
      "0:\ttest: 0.7119376\tbest: 0.7119376 (0)\ttotal: 89.9ms\tremaining: 4m 24s\n",
      "300:\ttest: 0.7419204\tbest: 0.7419220 (299)\ttotal: 24.7s\tremaining: 3m 37s\n",
      "600:\ttest: 0.7425135\tbest: 0.7426407 (545)\ttotal: 52.4s\tremaining: 3m 24s\n"
     ]
    },
    {
     "name": "stderr",
     "output_type": "stream",
     "text": [
      "[I 2025-02-23 12:41:46,449] Trial 10 finished with value: 0.7426406692004309 and parameters: {'iterations': 2945, 'depth': 8, 'learning_rate': 0.032580115422505045, 'l2_leaf_reg': 0.87526046512315}. Best is trial 8 with value: 0.7431408301166242.\n"
     ]
    },
    {
     "name": "stdout",
     "output_type": "stream",
     "text": [
      "Stopped by overfitting detector  (300 iterations wait)\n",
      "\n",
      "bestTest = 0.7426406692\n",
      "bestIteration = 545\n",
      "\n",
      "Shrink model to first 546 iterations.\n",
      "0:\ttest: 0.6977491\tbest: 0.6977491 (0)\ttotal: 73.2ms\tremaining: 2m\n",
      "300:\ttest: 0.7422903\tbest: 0.7422917 (299)\ttotal: 19.6s\tremaining: 1m 27s\n",
      "600:\ttest: 0.7426578\tbest: 0.7426726 (597)\ttotal: 40.1s\tremaining: 1m 9s\n",
      "900:\ttest: 0.7427409\tbest: 0.7428689 (732)\ttotal: 1m 1s\tremaining: 50.5s\n"
     ]
    },
    {
     "name": "stderr",
     "output_type": "stream",
     "text": [
      "[I 2025-02-23 12:42:57,179] Trial 11 finished with value: 0.7428689355950526 and parameters: {'iterations': 1645, 'depth': 6, 'learning_rate': 0.06980778172048213, 'l2_leaf_reg': 73.1213351392818}. Best is trial 8 with value: 0.7431408301166242.\n"
     ]
    },
    {
     "name": "stdout",
     "output_type": "stream",
     "text": [
      "Stopped by overfitting detector  (300 iterations wait)\n",
      "\n",
      "bestTest = 0.7428689356\n",
      "bestIteration = 732\n",
      "\n",
      "Shrink model to first 733 iterations.\n",
      "0:\ttest: 0.6977150\tbest: 0.6977150 (0)\ttotal: 73.4ms\tremaining: 2m 19s\n",
      "300:\ttest: 0.7422894\tbest: 0.7423628 (292)\ttotal: 20.1s\tremaining: 1m 46s\n",
      "600:\ttest: 0.7424863\tbest: 0.7425483 (498)\ttotal: 41.6s\tremaining: 1m 29s\n"
     ]
    },
    {
     "name": "stderr",
     "output_type": "stream",
     "text": [
      "[I 2025-02-23 12:43:53,153] Trial 12 finished with value: 0.7425482785906429 and parameters: {'iterations': 1898, 'depth': 6, 'learning_rate': 0.06850833108780335, 'l2_leaf_reg': 6.112234112518604}. Best is trial 8 with value: 0.7431408301166242.\n"
     ]
    },
    {
     "name": "stdout",
     "output_type": "stream",
     "text": [
      "Stopped by overfitting detector  (300 iterations wait)\n",
      "\n",
      "bestTest = 0.7425482786\n",
      "bestIteration = 498\n",
      "\n",
      "Shrink model to first 499 iterations.\n",
      "0:\ttest: 0.7119054\tbest: 0.7119054 (0)\ttotal: 92.7ms\tremaining: 2m 59s\n",
      "300:\ttest: 0.7425206\tbest: 0.7425207 (299)\ttotal: 24.9s\tremaining: 2m 15s\n",
      "600:\ttest: 0.7427682\tbest: 0.7429133 (522)\ttotal: 52.4s\tremaining: 1m 56s\n"
     ]
    },
    {
     "name": "stderr",
     "output_type": "stream",
     "text": [
      "[I 2025-02-23 12:45:06,543] Trial 13 finished with value: 0.7429132705397505 and parameters: {'iterations': 1937, 'depth': 8, 'learning_rate': 0.05956351603701897, 'l2_leaf_reg': 55.074044317639256}. Best is trial 8 with value: 0.7431408301166242.\n"
     ]
    },
    {
     "name": "stdout",
     "output_type": "stream",
     "text": [
      "Stopped by overfitting detector  (300 iterations wait)\n",
      "\n",
      "bestTest = 0.7429132705\n",
      "bestIteration = 522\n",
      "\n",
      "Shrink model to first 523 iterations.\n",
      "0:\ttest: 0.7119378\tbest: 0.7119378 (0)\ttotal: 96ms\tremaining: 2m 27s\n",
      "300:\ttest: 0.7415893\tbest: 0.7418901 (241)\ttotal: 26.1s\tremaining: 1m 47s\n"
     ]
    },
    {
     "name": "stderr",
     "output_type": "stream",
     "text": [
      "[I 2025-02-23 12:45:56,022] Trial 14 finished with value: 0.7418901319951172 and parameters: {'iterations': 1533, 'depth': 8, 'learning_rate': 0.05737459522516041, 'l2_leaf_reg': 0.037504318502340525}. Best is trial 8 with value: 0.7431408301166242.\n"
     ]
    },
    {
     "name": "stdout",
     "output_type": "stream",
     "text": [
      "Stopped by overfitting detector  (300 iterations wait)\n",
      "\n",
      "bestTest = 0.741890132\n",
      "bestIteration = 241\n",
      "\n",
      "Shrink model to first 242 iterations.\n",
      "0:\ttest: 0.7119370\tbest: 0.7119370 (0)\ttotal: 91.4ms\tremaining: 2m 40s\n",
      "300:\ttest: 0.7422838\tbest: 0.7422853 (299)\ttotal: 24.7s\tremaining: 1m 59s\n",
      "600:\ttest: 0.7429809\tbest: 0.7430071 (589)\ttotal: 53s\tremaining: 1m 41s\n"
     ]
    },
    {
     "name": "stderr",
     "output_type": "stream",
     "text": [
      "[I 2025-02-23 12:47:17,103] Trial 15 finished with value: 0.7430070628723758 and parameters: {'iterations': 1753, 'depth': 8, 'learning_rate': 0.031684876809801796, 'l2_leaf_reg': 3.400203453407683}. Best is trial 8 with value: 0.7431408301166242.\n"
     ]
    },
    {
     "name": "stdout",
     "output_type": "stream",
     "text": [
      "Stopped by overfitting detector  (300 iterations wait)\n",
      "\n",
      "bestTest = 0.7430070629\n",
      "bestIteration = 589\n",
      "\n",
      "Shrink model to first 590 iterations.\n",
      "0:\ttest: 0.7119370\tbest: 0.7119370 (0)\ttotal: 92.2ms\tremaining: 2m 37s\n",
      "300:\ttest: 0.7419598\tbest: 0.7420411 (283)\ttotal: 28.5s\tremaining: 2m 12s\n",
      "600:\ttest: 0.7427570\tbest: 0.7427916 (595)\ttotal: 59.4s\tremaining: 1m 49s\n"
     ]
    },
    {
     "name": "stderr",
     "output_type": "stream",
     "text": [
      "[I 2025-02-23 12:48:49,345] Trial 16 finished with value: 0.7427915906731697 and parameters: {'iterations': 1706, 'depth': 9, 'learning_rate': 0.027198320505425724, 'l2_leaf_reg': 2.2406425579941533}. Best is trial 8 with value: 0.7431408301166242.\n"
     ]
    },
    {
     "name": "stdout",
     "output_type": "stream",
     "text": [
      "Stopped by overfitting detector  (300 iterations wait)\n",
      "\n",
      "bestTest = 0.7427915907\n",
      "bestIteration = 595\n",
      "\n",
      "Shrink model to first 596 iterations.\n",
      "0:\ttest: 0.7119378\tbest: 0.7119378 (0)\ttotal: 82.2ms\tremaining: 2m 5s\n",
      "300:\ttest: 0.7414291\tbest: 0.7414291 (300)\ttotal: 21.9s\tremaining: 1m 28s\n",
      "600:\ttest: 0.7422430\tbest: 0.7422694 (594)\ttotal: 45.2s\tremaining: 1m 9s\n",
      "900:\ttest: 0.7422091\tbest: 0.7423733 (674)\ttotal: 1m 10s\tremaining: 48.3s\n"
     ]
    },
    {
     "name": "stderr",
     "output_type": "stream",
     "text": [
      "[I 2025-02-23 12:50:05,858] Trial 17 finished with value: 0.7423732538385207 and parameters: {'iterations': 1522, 'depth': 7, 'learning_rate': 0.02432488838207133, 'l2_leaf_reg': 0.010986858818421364}. Best is trial 8 with value: 0.7431408301166242.\n"
     ]
    },
    {
     "name": "stdout",
     "output_type": "stream",
     "text": [
      "Stopped by overfitting detector  (300 iterations wait)\n",
      "\n",
      "bestTest = 0.7423732538\n",
      "bestIteration = 674\n",
      "\n",
      "Shrink model to first 675 iterations.\n",
      "0:\ttest: 0.7119377\tbest: 0.7119377 (0)\ttotal: 91.5ms\tremaining: 2m 41s\n",
      "300:\ttest: 0.7419629\tbest: 0.7420041 (278)\ttotal: 28.8s\tremaining: 2m 20s\n",
      "600:\ttest: 0.7402717\tbest: 0.7420128 (313)\ttotal: 1m 1s\tremaining: 2m\n"
     ]
    },
    {
     "name": "stderr",
     "output_type": "stream",
     "text": [
      "[I 2025-02-23 12:51:09,385] Trial 18 finished with value: 0.742012768845278 and parameters: {'iterations': 1770, 'depth': 9, 'learning_rate': 0.04656812687583585, 'l2_leaf_reg': 0.2628444134576081}. Best is trial 8 with value: 0.7431408301166242.\n"
     ]
    },
    {
     "name": "stdout",
     "output_type": "stream",
     "text": [
      "Stopped by overfitting detector  (300 iterations wait)\n",
      "\n",
      "bestTest = 0.7420127688\n",
      "bestIteration = 313\n",
      "\n",
      "Shrink model to first 314 iterations.\n",
      "0:\ttest: 0.7119368\tbest: 0.7119368 (0)\ttotal: 82.8ms\tremaining: 2m 58s\n",
      "300:\ttest: 0.7423670\tbest: 0.7423670 (300)\ttotal: 21.9s\tremaining: 2m 14s\n",
      "600:\ttest: 0.7429643\tbest: 0.7429940 (533)\ttotal: 46.4s\tremaining: 1m 59s\n"
     ]
    },
    {
     "name": "stderr",
     "output_type": "stream",
     "text": [
      "[I 2025-02-23 12:52:15,300] Trial 19 finished with value: 0.7429940264529005 and parameters: {'iterations': 2153, 'depth': 7, 'learning_rate': 0.036214518104510374, 'l2_leaf_reg': 5.597754063560477}. Best is trial 8 with value: 0.7431408301166242.\n",
      "[I 2025-02-23 12:52:15,303] A new study created in memory with name: no-name-daddeffb-27be-4bb1-a7af-8d9fef19cb3b\n"
     ]
    },
    {
     "name": "stdout",
     "output_type": "stream",
     "text": [
      "Stopped by overfitting detector  (300 iterations wait)\n",
      "\n",
      "bestTest = 0.7429940265\n",
      "bestIteration = 533\n",
      "\n",
      "Shrink model to first 534 iterations.\n"
     ]
    },
    {
     "name": "stderr",
     "output_type": "stream",
     "text": [
      "[I 2025-02-23 12:52:38,478] Trial 0 finished with value: 0.7310936219339557 and parameters: {'num_iterations': 2366, 'objective': 'binary', 'metric': 'auc', 'verbose': -1, 'learning_rate': 0.0652646236447618, 'n_estimators': 236, 'min_child_samples': 45, 'subsample': 0.7, 'colsample_bytree': 0.5}. Best is trial 0 with value: 0.7310936219339557.\n",
      "[I 2025-02-23 12:52:55,296] Trial 1 finished with value: 0.7431614390161301 and parameters: {'num_iterations': 1510, 'objective': 'binary', 'metric': 'auc', 'verbose': -1, 'learning_rate': 0.005231880959249543, 'n_estimators': 1411, 'min_child_samples': 10, 'subsample': 1.0, 'colsample_bytree': 0.5}. Best is trial 1 with value: 0.7431614390161301.\n",
      "[I 2025-02-23 12:53:14,770] Trial 2 finished with value: 0.742143168778008 and parameters: {'num_iterations': 2334, 'objective': 'binary', 'metric': 'auc', 'verbose': -1, 'learning_rate': 0.006578527777128852, 'n_estimators': 931, 'min_child_samples': 15, 'subsample': 0.5, 'colsample_bytree': 1.0}. Best is trial 1 with value: 0.7431614390161301.\n",
      "[I 2025-02-23 12:53:31,090] Trial 3 finished with value: 0.7432955993781147 and parameters: {'num_iterations': 1620, 'objective': 'binary', 'metric': 'auc', 'verbose': -1, 'learning_rate': 0.0058823249237283685, 'n_estimators': 837, 'min_child_samples': 10, 'subsample': 0.9, 'colsample_bytree': 0.6}. Best is trial 3 with value: 0.7432955993781147.\n",
      "[I 2025-02-23 12:53:47,618] Trial 4 finished with value: 0.7428070890421044 and parameters: {'num_iterations': 1997, 'objective': 'binary', 'metric': 'auc', 'verbose': -1, 'learning_rate': 0.010907507425244923, 'n_estimators': 1597, 'min_child_samples': 50, 'subsample': 0.6, 'colsample_bytree': 0.8}. Best is trial 3 with value: 0.7432955993781147.\n",
      "[I 2025-02-23 12:54:10,158] Trial 5 finished with value: 0.7391874952091257 and parameters: {'num_iterations': 2909, 'objective': 'binary', 'metric': 'auc', 'verbose': -1, 'learning_rate': 0.019760591962733942, 'n_estimators': 612, 'min_child_samples': 30, 'subsample': 0.7, 'colsample_bytree': 0.9}. Best is trial 3 with value: 0.7432955993781147.\n",
      "[I 2025-02-23 12:54:30,772] Trial 6 finished with value: 0.7404727559243319 and parameters: {'num_iterations': 2639, 'objective': 'binary', 'metric': 'auc', 'verbose': -1, 'learning_rate': 0.017862094446750985, 'n_estimators': 794, 'min_child_samples': 35, 'subsample': 1.0, 'colsample_bytree': 0.8}. Best is trial 3 with value: 0.7432955993781147.\n",
      "[I 2025-02-23 12:54:47,173] Trial 7 finished with value: 0.7422616957609265 and parameters: {'num_iterations': 1580, 'objective': 'binary', 'metric': 'auc', 'verbose': -1, 'learning_rate': 0.01776722177611332, 'n_estimators': 529, 'min_child_samples': 25, 'subsample': 0.8, 'colsample_bytree': 0.5}. Best is trial 3 with value: 0.7432955993781147.\n",
      "[I 2025-02-23 12:55:04,650] Trial 8 finished with value: 0.7392218235205376 and parameters: {'num_iterations': 1911, 'objective': 'binary', 'metric': 'auc', 'verbose': -1, 'learning_rate': 0.0304747553332844, 'n_estimators': 1328, 'min_child_samples': 10, 'subsample': 0.7, 'colsample_bytree': 0.6}. Best is trial 3 with value: 0.7432955993781147.\n",
      "[I 2025-02-23 12:55:31,912] Trial 9 finished with value: 0.7384269275452087 and parameters: {'num_iterations': 2739, 'objective': 'binary', 'metric': 'auc', 'verbose': -1, 'learning_rate': 0.02691531614176271, 'n_estimators': 1438, 'min_child_samples': 20, 'subsample': 0.6, 'colsample_bytree': 0.5}. Best is trial 3 with value: 0.7432955993781147.\n",
      "[I 2025-02-23 12:55:46,463] Trial 10 finished with value: 0.7288462234282986 and parameters: {'num_iterations': 1883, 'objective': 'binary', 'metric': 'auc', 'verbose': -1, 'learning_rate': 0.08223556891145911, 'n_estimators': 1917, 'min_child_samples': 40, 'subsample': 0.9, 'colsample_bytree': 0.7}. Best is trial 3 with value: 0.7432955993781147.\n",
      "[I 2025-02-23 12:56:01,906] Trial 11 finished with value: 0.7431214164538722 and parameters: {'num_iterations': 1513, 'objective': 'binary', 'metric': 'auc', 'verbose': -1, 'learning_rate': 0.005340229419903739, 'n_estimators': 1206, 'min_child_samples': 10, 'subsample': 1.0, 'colsample_bytree': 0.6}. Best is trial 3 with value: 0.7432955993781147.\n",
      "[I 2025-02-23 12:56:18,523] Trial 12 finished with value: 0.7430551264792385 and parameters: {'num_iterations': 1698, 'objective': 'binary', 'metric': 'auc', 'verbose': -1, 'learning_rate': 0.008515343845233947, 'n_estimators': 1719, 'min_child_samples': 20, 'subsample': 0.9, 'colsample_bytree': 0.6}. Best is trial 3 with value: 0.7432955993781147.\n",
      "[I 2025-02-23 12:56:33,353] Trial 13 finished with value: 0.7428190215552093 and parameters: {'num_iterations': 1740, 'objective': 'binary', 'metric': 'auc', 'verbose': -1, 'learning_rate': 0.010074542479113706, 'n_estimators': 1082, 'min_child_samples': 10, 'subsample': 0.9, 'colsample_bytree': 0.7}. Best is trial 3 with value: 0.7432955993781147.\n",
      "[I 2025-02-23 12:56:54,796] Trial 14 finished with value: 0.7432733187355085 and parameters: {'num_iterations': 2165, 'objective': 'binary', 'metric': 'auc', 'verbose': -1, 'learning_rate': 0.005262187136940254, 'n_estimators': 251, 'min_child_samples': 20, 'subsample': 1.0, 'colsample_bytree': 0.6}. Best is trial 3 with value: 0.7432955993781147.\n",
      "[I 2025-02-23 12:57:12,510] Trial 15 finished with value: 0.7423439884070453 and parameters: {'num_iterations': 2153, 'objective': 'binary', 'metric': 'auc', 'verbose': -1, 'learning_rate': 0.012915147920823086, 'n_estimators': 188, 'min_child_samples': 20, 'subsample': 0.8, 'colsample_bytree': 0.7}. Best is trial 3 with value: 0.7432955993781147.\n",
      "[I 2025-02-23 12:57:34,926] Trial 16 finished with value: 0.7362233676234713 and parameters: {'num_iterations': 2503, 'objective': 'binary', 'metric': 'auc', 'verbose': -1, 'learning_rate': 0.03901437770924474, 'n_estimators': 444, 'min_child_samples': 25, 'subsample': 0.9, 'colsample_bytree': 0.6}. Best is trial 3 with value: 0.7432955993781147.\n",
      "[I 2025-02-23 12:57:55,349] Trial 17 finished with value: 0.7431955092199372 and parameters: {'num_iterations': 2103, 'objective': 'binary', 'metric': 'auc', 'verbose': -1, 'learning_rate': 0.007238111112271453, 'n_estimators': 116, 'min_child_samples': 15, 'subsample': 1.0, 'colsample_bytree': 0.6}. Best is trial 3 with value: 0.7432955993781147.\n",
      "[I 2025-02-23 12:58:09,922] Trial 18 finished with value: 0.7430548127792268 and parameters: {'num_iterations': 1753, 'objective': 'binary', 'metric': 'auc', 'verbose': -1, 'learning_rate': 0.013508700117868075, 'n_estimators': 756, 'min_child_samples': 30, 'subsample': 0.8, 'colsample_bytree': 0.7}. Best is trial 3 with value: 0.7432955993781147.\n",
      "[I 2025-02-23 12:58:26,822] Trial 19 finished with value: 0.7337334353289875 and parameters: {'num_iterations': 2202, 'objective': 'binary', 'metric': 'auc', 'verbose': -1, 'learning_rate': 0.04570242881302624, 'n_estimators': 414, 'min_child_samples': 15, 'subsample': 0.9, 'colsample_bytree': 0.8}. Best is trial 3 with value: 0.7432955993781147.\n",
      "[I 2025-02-23 12:58:43,540] Trial 20 finished with value: 0.7427898196579136 and parameters: {'num_iterations': 1973, 'objective': 'binary', 'metric': 'auc', 'verbose': -1, 'learning_rate': 0.00688976659636273, 'n_estimators': 946, 'min_child_samples': 25, 'subsample': 1.0, 'colsample_bytree': 0.9}. Best is trial 3 with value: 0.7432955993781147.\n",
      "[I 2025-02-23 12:59:03,750] Trial 21 finished with value: 0.7430430470433432 and parameters: {'num_iterations': 2083, 'objective': 'binary', 'metric': 'auc', 'verbose': -1, 'learning_rate': 0.007540467244869114, 'n_estimators': 141, 'min_child_samples': 15, 'subsample': 1.0, 'colsample_bytree': 0.6}. Best is trial 3 with value: 0.7432955993781147.\n",
      "[I 2025-02-23 12:59:26,956] Trial 22 finished with value: 0.743281494790245 and parameters: {'num_iterations': 2350, 'objective': 'binary', 'metric': 'auc', 'verbose': -1, 'learning_rate': 0.005003696675578548, 'n_estimators': 315, 'min_child_samples': 15, 'subsample': 1.0, 'colsample_bytree': 0.6}. Best is trial 3 with value: 0.7432955993781147.\n",
      "[I 2025-02-23 12:59:53,553] Trial 23 finished with value: 0.7434196935435201 and parameters: {'num_iterations': 2472, 'objective': 'binary', 'metric': 'auc', 'verbose': -1, 'learning_rate': 0.0051158678500405974, 'n_estimators': 303, 'min_child_samples': 20, 'subsample': 0.9, 'colsample_bytree': 0.5}. Best is trial 23 with value: 0.7434196935435201.\n",
      "[I 2025-02-23 13:00:20,408] Trial 24 finished with value: 0.7433210249626109 and parameters: {'num_iterations': 2494, 'objective': 'binary', 'metric': 'auc', 'verbose': -1, 'learning_rate': 0.005037122713163456, 'n_estimators': 374, 'min_child_samples': 15, 'subsample': 0.9, 'colsample_bytree': 0.5}. Best is trial 23 with value: 0.7434196935435201.\n",
      "[I 2025-02-23 13:00:47,156] Trial 25 finished with value: 0.7425513520565807 and parameters: {'num_iterations': 2579, 'objective': 'binary', 'metric': 'auc', 'verbose': -1, 'learning_rate': 0.009051543872784437, 'n_estimators': 654, 'min_child_samples': 20, 'subsample': 0.8, 'colsample_bytree': 0.5}. Best is trial 23 with value: 0.7434196935435201.\n",
      "[I 2025-02-23 13:01:16,715] Trial 26 finished with value: 0.7429950152035704 and parameters: {'num_iterations': 2806, 'objective': 'binary', 'metric': 'auc', 'verbose': -1, 'learning_rate': 0.006560862459482555, 'n_estimators': 399, 'min_child_samples': 10, 'subsample': 0.9, 'colsample_bytree': 0.5}. Best is trial 23 with value: 0.7434196935435201.\n",
      "[I 2025-02-23 13:01:42,090] Trial 27 finished with value: 0.7421909107430865 and parameters: {'num_iterations': 2475, 'objective': 'binary', 'metric': 'auc', 'verbose': -1, 'learning_rate': 0.01311869971970553, 'n_estimators': 766, 'min_child_samples': 15, 'subsample': 0.9, 'colsample_bytree': 0.5}. Best is trial 23 with value: 0.7434196935435201.\n",
      "[I 2025-02-23 13:02:13,390] Trial 28 finished with value: 0.7430973409706924 and parameters: {'num_iterations': 2997, 'objective': 'binary', 'metric': 'auc', 'verbose': -1, 'learning_rate': 0.006485717220356874, 'n_estimators': 517, 'min_child_samples': 25, 'subsample': 0.8, 'colsample_bytree': 0.5}. Best is trial 23 with value: 0.7434196935435201.\n",
      "[I 2025-02-23 13:02:38,540] Trial 29 finished with value: 0.7428100314687969 and parameters: {'num_iterations': 2435, 'objective': 'binary', 'metric': 'auc', 'verbose': -1, 'learning_rate': 0.010328568523546872, 'n_estimators': 315, 'min_child_samples': 35, 'subsample': 0.8, 'colsample_bytree': 0.5}. Best is trial 23 with value: 0.7434196935435201.\n",
      "[I 2025-02-23 13:03:02,526] Trial 30 finished with value: 0.7429846472196379 and parameters: {'num_iterations': 2273, 'objective': 'binary', 'metric': 'auc', 'verbose': -1, 'learning_rate': 0.008022168911769469, 'n_estimators': 926, 'min_child_samples': 10, 'subsample': 0.9, 'colsample_bytree': 0.5}. Best is trial 23 with value: 0.7434196935435201.\n",
      "[I 2025-02-23 13:03:25,738] Trial 31 finished with value: 0.7431348936417185 and parameters: {'num_iterations': 2356, 'objective': 'binary', 'metric': 'auc', 'verbose': -1, 'learning_rate': 0.005122087932282677, 'n_estimators': 324, 'min_child_samples': 15, 'subsample': 0.9, 'colsample_bytree': 0.6}. Best is trial 23 with value: 0.7434196935435201.\n",
      "[I 2025-02-23 13:03:51,347] Trial 32 finished with value: 0.7431845257486399 and parameters: {'num_iterations': 2617, 'objective': 'binary', 'metric': 'auc', 'verbose': -1, 'learning_rate': 0.005761877994514873, 'n_estimators': 656, 'min_child_samples': 15, 'subsample': 1.0, 'colsample_bytree': 0.6}. Best is trial 23 with value: 0.7434196935435201.\n",
      "[I 2025-02-23 13:04:15,759] Trial 33 finished with value: 0.7432282332933142 and parameters: {'num_iterations': 2276, 'objective': 'binary', 'metric': 'auc', 'verbose': -1, 'learning_rate': 0.006221477713474773, 'n_estimators': 276, 'min_child_samples': 10, 'subsample': 1.0, 'colsample_bytree': 0.5}. Best is trial 23 with value: 0.7434196935435201.\n",
      "[I 2025-02-23 13:04:36,872] Trial 34 finished with value: 0.743230989088354 and parameters: {'num_iterations': 2428, 'objective': 'binary', 'metric': 'auc', 'verbose': -1, 'learning_rate': 0.005284009079831121, 'n_estimators': 513, 'min_child_samples': 20, 'subsample': 0.9, 'colsample_bytree': 0.7}. Best is trial 23 with value: 0.7434196935435201.\n",
      "[I 2025-02-23 13:05:03,542] Trial 35 finished with value: 0.7426776619764994 and parameters: {'num_iterations': 2559, 'objective': 'binary', 'metric': 'auc', 'verbose': -1, 'learning_rate': 0.009016745224291741, 'n_estimators': 375, 'min_child_samples': 15, 'subsample': 0.5, 'colsample_bytree': 0.5}. Best is trial 23 with value: 0.7434196935435201.\n",
      "[I 2025-02-23 13:05:29,303] Trial 36 finished with value: 0.743172700449463 and parameters: {'num_iterations': 2672, 'objective': 'binary', 'metric': 'auc', 'verbose': -1, 'learning_rate': 0.006130783226702048, 'n_estimators': 583, 'min_child_samples': 10, 'subsample': 1.0, 'colsample_bytree': 0.6}. Best is trial 23 with value: 0.7434196935435201.\n",
      "[I 2025-02-23 13:05:48,925] Trial 37 finished with value: 0.7423606264203264 and parameters: {'num_iterations': 2369, 'objective': 'binary', 'metric': 'auc', 'verbose': -1, 'learning_rate': 0.007192531881385918, 'n_estimators': 222, 'min_child_samples': 45, 'subsample': 0.6, 'colsample_bytree': 1.0}. Best is trial 23 with value: 0.7434196935435201.\n",
      "[I 2025-02-23 13:06:15,200] Trial 38 finished with value: 0.7431219644361712 and parameters: {'num_iterations': 2710, 'objective': 'binary', 'metric': 'auc', 'verbose': -1, 'learning_rate': 0.005761692517338731, 'n_estimators': 854, 'min_child_samples': 15, 'subsample': 0.7, 'colsample_bytree': 0.6}. Best is trial 23 with value: 0.7434196935435201.\n",
      "[I 2025-02-23 13:06:38,945] Trial 39 finished with value: 0.7425101779373178 and parameters: {'num_iterations': 2824, 'objective': 'binary', 'metric': 'auc', 'verbose': -1, 'learning_rate': 0.0050198256340380195, 'n_estimators': 1083, 'min_child_samples': 25, 'subsample': 0.8, 'colsample_bytree': 0.9}. Best is trial 23 with value: 0.7434196935435201.\n"
     ]
    },
    {
     "name": "stdout",
     "output_type": "stream",
     "text": [
      "Cat val score : 0.7431408301166242\n",
      "LGBM val score : 0.7433470382382683\n",
      "Ensemble val score : 0.7434754606696585\n"
     ]
    }
   ],
   "source": [
    "for col in X.columns:\n",
    "    if X[col].dtype == 'object':  # 문자형이면 category로 변환\n",
    "        X[col] = X[col].astype('category')\n",
    "        test[col] = test[col].astype('category')\n",
    "seed = 4972\n",
    "\n",
    "test_pred_total = []\n",
    "scores_total = []\n",
    "seed_everything(seed)\n",
    "print('Seed {} Start!'.format(seed))\n",
    "cv = StratifiedKFold(n_splits = 10, random_state = seed, shuffle=True)\n",
    "\n",
    "cat_param_list = []\n",
    "lgbm_param_list = []\n",
    "for idx, (train_idx, val_idx) in enumerate(cv.split(X, y)):\n",
    "    print('='*50)\n",
    "    X_train, X_val = X.iloc[train_idx],X.iloc[val_idx]\n",
    "    y_train, y_val = y.iloc[train_idx], y.iloc[val_idx]\n",
    "    \n",
    "    best_val_auc = 0\n",
    "\n",
    "    sampler = TPESampler(seed=seed)\n",
    "    optuna_cat = optuna.create_study(direction='maximize', sampler=sampler)\n",
    "    optuna_cat.optimize(objective_cat, n_trials = 20)\n",
    "    cat_trial = optuna_cat.best_trial\n",
    "    cat_trial_params = cat_trial.params\n",
    "    cat_param_list.append(cat_trial_params)\n",
    "    \n",
    "    model = CatBoostClassifier(**cat_trial_params, auto_class_weights='Balanced', eval_metric='AUC', random_state=seed)\n",
    "    model.load_model(\"./weight/cat_fold_cpu{}.cbm\".format(idx))\n",
    "    #model = CatBoostClassifier(auto_class_weights='Balanced', eval_metric='AUC', random_state=seed, task_type=\"CPU\" )\n",
    "    #model.fit(X_train,y_train,cat_features=categorical_columns,early_stopping_rounds = 300,eval_set=[(X_val,y_val)], verbose = 300)\n",
    "    \n",
    "    # model_cpu = CatBoostClassifier(auto_class_weights='Balanced',eval_metric='AUC', random_state = 501, task_type=\"cpu\" )\n",
    "    # model_cpu.fit(X_train,y_train,cat_features=categorical_columns, early_stopping_rounds = 300,eval_set=[(X_val,y_val)], verbose = 300)\n",
    "    # model_cpu.save_model(\"cat_fold_{}.cbm\".format(idx))\n",
    "\n",
    "\n",
    "    sampler = TPESampler(seed=seed)\n",
    "    optuna_lgbm = optuna.create_study(direction='maximize', sampler=sampler)\n",
    "    optuna_lgbm.optimize(objective_lgbm, n_trials = 40)\n",
    "    lgbm_trial = optuna_lgbm.best_trial\n",
    "    lgbm_trial_params = lgbm_trial.params\n",
    "    lgbm_param_list.append(lgbm_trial_params)\n",
    "    \n",
    "    # lgbm_trial_params =loaded_lgbm_params[idx]\n",
    "    #print(lgbm_trial_params)\n",
    "\n",
    "    class_weights = compute_class_weight(class_weight=\"balanced\", classes=np.unique(y), y=y_train)\n",
    "    class_weight_dict = {i: w for i, w in enumerate(class_weights)}\n",
    "    model_lgbm = lgb.LGBMClassifier(**lgbm_trial_params,class_weight=class_weight_dict)\n",
    "    # model_lgbm = lgb.LGBMClassifier(class_weight=class_weight_dict)\n",
    "    #model_lgbm= lgb.LGBMClassifier(objective = 'binary', metric = 'auc', random_state =  seed, class_weight=class_weight_dict)\n",
    "    model_lgbm.fit(X_train, y_train, eval_set=[(X_val, y_val)],categorical_feature=categorical_columns)\n",
    "\n",
    "    val_pred = model.predict_proba(X_val)[:, 1]\n",
    "    val_pred_lgbm = model_lgbm.predict_proba(X_val)[:, 1]\n",
    "    print('Cat val score : {}'.format(roc_auc_score(y_val,val_pred)))\n",
    "    print('LGBM val score : {}'.format(roc_auc_score(y_val,val_pred_lgbm)))\n",
    "\n",
    "    roc_val = roc_auc_score(y_val, (2*val_pred+val_pred_lgbm)/3)\n",
    "    scores_total.append(roc_val)\n",
    "    print('Ensemble val score : {}'.format(roc_val))\n",
    "\n",
    "    test_pred = model.predict_proba(test)[:, 1]\n",
    "    test_pred_lgbm = model_lgbm.predict_proba(test)[:, 1]\n",
    "    test_pred_total.append((2*test_pred+test_pred_lgbm)/3)"
   ]
  },
  {
   "cell_type": "code",
   "execution_count": 24,
   "metadata": {
    "colab": {
     "base_uri": "https://localhost:8080/"
    },
    "id": "LDLeh9IJD9pt",
    "outputId": "0534775f-2085-448a-d2aa-690a9e4e4ff4"
   },
   "outputs": [
    {
     "data": {
      "text/plain": [
       "(0.741035036695321,\n",
       " [0.7420357721659947,\n",
       "  0.7356523361759681,\n",
       "  0.7432124720717959,\n",
       "  0.7418005885107521,\n",
       "  0.744608795277911,\n",
       "  0.7393815166809465,\n",
       "  0.739282240554445,\n",
       "  0.7384800302066904,\n",
       "  0.7424211546390482,\n",
       "  0.7434754606696585])"
      ]
     },
     "execution_count": 24,
     "metadata": {},
     "output_type": "execute_result"
    }
   ],
   "source": [
    "np.mean(scores_total), scores_total"
   ]
  },
  {
   "cell_type": "code",
   "execution_count": 25,
   "metadata": {},
   "outputs": [],
   "source": [
    "test_pred_total_mean = np.mean(test_pred_total, axis=(0))"
   ]
  },
  {
   "cell_type": "code",
   "execution_count": 26,
   "metadata": {},
   "outputs": [
    {
     "data": {
      "text/plain": [
       "array([0.00380803, 0.00316476, 0.3246668 , ..., 0.65886707, 0.38690873,\n",
       "       0.00466837])"
      ]
     },
     "execution_count": 26,
     "metadata": {},
     "output_type": "execute_result"
    }
   ],
   "source": [
    "test_pred_total_mean"
   ]
  },
  {
   "cell_type": "code",
   "execution_count": 27,
   "metadata": {
    "colab": {
     "base_uri": "https://localhost:8080/"
    },
    "id": "E8D6DZP0pIm3",
    "outputId": "946ae60d-f2f2-405e-e757-ab31fe0d2375"
   },
   "outputs": [
    {
     "data": {
      "text/plain": [
       "(0.741035036695321,\n",
       " [0.7420357721659947,\n",
       "  0.7356523361759681,\n",
       "  0.7432124720717959,\n",
       "  0.7418005885107521,\n",
       "  0.744608795277911,\n",
       "  0.7393815166809465,\n",
       "  0.739282240554445,\n",
       "  0.7384800302066904,\n",
       "  0.7424211546390482,\n",
       "  0.7434754606696585])"
      ]
     },
     "execution_count": 27,
     "metadata": {},
     "output_type": "execute_result"
    }
   ],
   "source": [
    "np.mean(scores_total), scores_total # 불임 원인 인코딩 + make feature 사용\n"
   ]
  },
  {
   "cell_type": "code",
   "execution_count": 28,
   "metadata": {},
   "outputs": [],
   "source": [
    "import json\n",
    "with open(\"lgbm_params.json\", \"w\") as f:\n",
    "    json.dump(lgbm_param_list, f) \n",
    "\n",
    "with open(\"lgbm_params.json\", \"r\") as f:\n",
    "    loaded_lgbm_params =  json.load(f)"
   ]
  },
  {
   "cell_type": "markdown",
   "metadata": {},
   "source": [
    "#### 재현성 확인"
   ]
  },
  {
   "cell_type": "code",
   "execution_count": 29,
   "metadata": {
    "scrolled": true,
    "tags": []
   },
   "outputs": [
    {
     "name": "stdout",
     "output_type": "stream",
     "text": [
      "Seed 4972 Start!\n",
      "==================================================\n",
      "Cat cpu val score : 0.7419473292981775\n",
      "LGBM val score : 0.7409660081507365\n",
      "Ensemble val score : 0.7420357721659947\n",
      "==================================================\n",
      "==================================================\n",
      "Cat cpu val score : 0.7429930391615726\n",
      "LGBM val score : 0.7426731964838695\n",
      "Ensemble val score : 0.7432124720717959\n",
      "==================================================\n",
      "Cat cpu val score : 0.7418163807252675\n",
      "LGBM val score : 0.7408497717169277\n",
      "Ensemble val score : 0.7418005885107521\n",
      "==================================================\n",
      "Cat cpu val score : 0.7445156065199918\n",
      "LGBM val score : 0.7440029492248497\n",
      "Ensemble val score : 0.744608795277911\n",
      "==================================================\n",
      "Cat cpu val score : 0.7393247766876829\n",
      "LGBM val score : 0.7384086773521203\n",
      "Ensemble val score : 0.7393815166809465\n",
      "==================================================\n",
      "Cat cpu val score : 0.739274957949109\n",
      "LGBM val score : 0.7383497057207986\n",
      "Ensemble val score : 0.739282240554445\n",
      "==================================================\n",
      "Cat cpu val score : 0.7384354093581844\n",
      "LGBM val score : 0.7376730269992626\n",
      "Ensemble val score : 0.7384800302066904\n",
      "==================================================\n",
      "Cat cpu val score : 0.7422119524691908\n",
      "LGBM val score : 0.7419458157326448\n",
      "Ensemble val score : 0.7424211546390482\n",
      "==================================================\n",
      "Cat cpu val score : 0.7431408301166242\n",
      "LGBM val score : 0.7433470382382683\n",
      "Ensemble val score : 0.7434754606696585\n"
     ]
    }
   ],
   "source": [
    "for col in X.columns:\n",
    "    if X[col].dtype == 'object':  # 문자형이면 category로 변환\n",
    "        X[col] = X[col].astype('category')\n",
    "        test[col] = test[col].astype('category')\n",
    "seed = 4972\n",
    "\n",
    "test_pred_total = []\n",
    "scores_total = []\n",
    "seed_everything(seed)\n",
    "print('Seed {} Start!'.format(seed))\n",
    "cv = StratifiedKFold(n_splits = 10, random_state = seed, shuffle=True)\n",
    "\n",
    "cat_param_list = []\n",
    "lgbm_param_list = []\n",
    "for idx, (train_idx, val_idx) in enumerate(cv.split(X, y)):\n",
    "    print('='*50)\n",
    "    X_train, X_val = X.iloc[train_idx],X.iloc[val_idx]\n",
    "    y_train, y_val = y.iloc[train_idx], y.iloc[val_idx]\n",
    "    if idx == 1:\n",
    "        continue\n",
    "    # cat_trial_params = loaded_cat_params[idx]\n",
    "    # model = CatBoostClassifier(**cat_trial_params ,auto_class_weights='Balanced', eval_metric='AUC', random_state=seed, task_type=\"CPU\")\n",
    "    # model.fit(X_train,y_train,cat_features=categorical_columns, early_stopping_rounds = 300, eval_set=[(X_val,y_val)], verbose = 300)\n",
    "    \n",
    "    model_cpu = CatBoostClassifier()\n",
    "    model_cpu.load_model(\"./weight/cat_fold_cpu{}.cbm\".format(idx))\n",
    "\n",
    "    lgbm_trial_params = loaded_lgbm_params[idx]\n",
    "    class_weights = compute_class_weight(class_weight=\"balanced\", classes=np.unique(y), y=y_train)\n",
    "    class_weight_dict = {i: w for i, w in enumerate(class_weights)}\n",
    "\n",
    "    model_lgbm = lgb.LGBMClassifier(**lgbm_trial_params,class_weight=class_weight_dict)\n",
    "    model_lgbm.fit(X_train, y_train, eval_set=[(X_val, y_val)],categorical_feature=categorical_columns)\n",
    "\n",
    "    # val_pred = model.predict_proba(X_val)[:, 1]\n",
    "    val_pred_cpu = model_cpu.predict_proba(X_val)[:, 1]\n",
    "    val_pred_lgbm = model_lgbm.predict_proba(X_val)[:, 1]\n",
    "    # print('Cat val score : {}'.format(roc_auc_score(y_val,val_pred)))\n",
    "    print('Cat cpu val score : {}'.format(roc_auc_score(y_val,val_pred_cpu)))\n",
    "    print('LGBM val score : {}'.format(roc_auc_score(y_val,val_pred_lgbm)))\n",
    "\n",
    "    roc_val = roc_auc_score(y_val, (val_pred_cpu*2 + val_pred_lgbm)/3)\n",
    "    scores_total.append(roc_val)\n",
    "    print('Ensemble val score : {}'.format(roc_val))\n",
    "\n",
    "    # test_pred = model.predict_proba(test)[:, 1]\n",
    "    test_pred_cpu = model_cpu.predict_proba(test)[:, 1]\n",
    "    test_pred_lgbm = model_lgbm.predict_proba(test)[:, 1]\n",
    "    test_pred_total.append((test_pred_cpu*2+test_pred_lgbm)/3)\n",
    "    # test_pred_total.append((test_pred_cpu))"
   ]
  },
  {
   "cell_type": "code",
   "execution_count": 30,
   "metadata": {},
   "outputs": [
    {
     "data": {
      "text/plain": [
       "(0.7416331145308046,\n",
       " [0.7420357721659947,\n",
       "  0.7432124720717959,\n",
       "  0.7418005885107521,\n",
       "  0.744608795277911,\n",
       "  0.7393815166809465,\n",
       "  0.739282240554445,\n",
       "  0.7384800302066904,\n",
       "  0.7424211546390482,\n",
       "  0.7434754606696585])"
      ]
     },
     "execution_count": 30,
     "metadata": {},
     "output_type": "execute_result"
    }
   ],
   "source": [
    "np.mean(scores_total), scores_total"
   ]
  },
  {
   "cell_type": "code",
   "execution_count": 31,
   "metadata": {
    "id": "zdqhyNyumAyx"
   },
   "outputs": [],
   "source": [
    "test_pred_total_mean = np.mean(test_pred_total, axis=(0))"
   ]
  },
  {
   "cell_type": "code",
   "execution_count": 32,
   "metadata": {
    "colab": {
     "base_uri": "https://localhost:8080/",
     "height": 540
    },
    "id": "HHVwzBg8NEZK",
    "outputId": "7c5d38e1-affe-45e7-b863-372c9a868b84"
   },
   "outputs": [
    {
     "data": {
      "text/plain": [
       "(array([13616.,  2424.,  3394.,  6236.,  9487., 13619., 17043., 15252.,\n",
       "         8602.,   394.]),\n",
       " array([5.19877308e-04, 8.97089040e-02, 1.78897931e-01, 2.68086957e-01,\n",
       "        3.57275984e-01, 4.46465011e-01, 5.35654037e-01, 6.24843064e-01,\n",
       "        7.14032091e-01, 8.03221117e-01, 8.92410144e-01]),\n",
       " <BarContainer object of 10 artists>)"
      ]
     },
     "execution_count": 32,
     "metadata": {},
     "output_type": "execute_result"
    },
    {
     "data": {
      "image/png": "[encoded data removed]",
      "text/plain": [
       "<Figure size 640x480 with 1 Axes>"
      ]
     },
     "metadata": {},
     "output_type": "display_data"
    }
   ],
   "source": [
    "plt.hist(test_pred_total_mean)"
   ]
  },
  {
   "cell_type": "code",
   "execution_count": 34,
   "metadata": {
    "id": "KGlLsagWhQmz"
   },
   "outputs": [],
   "source": [
    "test_pred_total_mean = np.mean(test_pred_total, axis=(0))\n",
    "sample_submission = pd.read_csv('../sample_submission.csv')\n",
    "sample_submission['probability'] = test_pred_total_mean\n",
    "sample_submission.to_csv('CODE_recentgit_lgbmcat_cpu_mac_sunghyun+StandardScaler.csv', index=False)"
   ]
  }
 ],
 "metadata": {
  "accelerator": "GPU",
  "colab": {
   "gpuType": "T4",
   "provenance": []
  },
  "kernelspec": {
   "display_name": "Python 3",
   "language": "python",
   "name": "python3"
  },
  "language_info": {
   "codemirror_mode": {
    "name": "ipython",
    "version": 3
   },
   "file_extension": ".py",
   "mimetype": "text/x-python",
   "name": "python",
   "nbconvert_exporter": "python",
   "pygments_lexer": "ipython3",
   "version": "3.9.6"
  }
 },
 "nbformat": 4,
 "nbformat_minor": 4
}
