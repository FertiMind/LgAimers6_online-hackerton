{
 "cells": [
  {
   "cell_type": "code",
   "execution_count": 1,
   "metadata": {
    "colab": {
     "base_uri": "https://localhost:8080/"
    },
    "id": "0_-E_OuZQXqu",
    "outputId": "8f5cbcbb-5086-4ead-c817-9fdb22e3533b"
   },
   "outputs": [
    {
     "name": "stderr",
     "output_type": "stream",
     "text": [
      "/Users/1233day/Library/Python/3.9/lib/python/site-packages/tqdm/auto.py:21: TqdmWarning: IProgress not found. Please update jupyter and ipywidgets. See https://ipywidgets.readthedocs.io/en/stable/user_install.html\n",
      "  from .autonotebook import tqdm as notebook_tqdm\n"
     ]
    }
   ],
   "source": [
    "import random\n",
    "import os\n",
    "import pandas as pd\n",
    "import numpy as np\n",
    "\n",
    "from matplotlib import pyplot as plt\n",
    "import seaborn as sns\n",
    "from catboost import CatBoostClassifier\n",
    "import lightgbm as lgb\n",
    "\n",
    "import optuna\n",
    "from optuna import Trial\n",
    "from optuna.samplers import TPESampler\n",
    "from sklearn.model_selection import StratifiedKFold\n",
    "from sklearn.metrics import roc_auc_score\n",
    "from sklearn.utils.class_weight import compute_class_weight\n",
    "\n",
    "import warnings\n",
    "\n",
    "warnings.filterwarnings('ignore')"
   ]
  },
  {
   "cell_type": "code",
   "execution_count": 2,
   "metadata": {
    "id": "u2FSTwmUIkF5"
   },
   "outputs": [],
   "source": [
    "import os\n",
    "import logging\n",
    "\n",
    "def seed_everything(seed: int = 42):\n",
    "    random.seed(seed)\n",
    "    np.random.seed(seed)\n",
    "    os.environ[\"PYTHONHASHSEED\"] = str(seed)"
   ]
  },
  {
   "cell_type": "code",
   "execution_count": 3,
   "metadata": {
    "colab": {
     "base_uri": "https://localhost:8080/"
    },
    "id": "bbtq1EWyQcwX",
    "outputId": "ad146067-7509-44f2-ee26-cc8bc615473f"
   },
   "outputs": [
    {
     "data": {
      "text/plain": [
       "((256351, 68), (90067, 67))"
      ]
     },
     "execution_count": 3,
     "metadata": {},
     "output_type": "execute_result"
    }
   ],
   "source": [
    "train = pd.read_csv('../train.csv').drop(columns=['ID'])\n",
    "test = pd.read_csv('../test.csv').drop(columns=['ID'])\n",
    "train.shape, test.shape\n",
    "# train.loc[train['시술 당시 나이'] == '알 수 없음', '시술 당시 나이'] = '만43-44세'"
   ]
  },
  {
   "cell_type": "code",
   "execution_count": 4,
   "metadata": {
    "colab": {
     "base_uri": "https://localhost:8080/",
     "height": 178
    },
    "id": "x7kj8pMWSpd9",
    "outputId": "11cdbca0-3097-42aa-dd4e-52d7070ff5c9"
   },
   "outputs": [
    {
     "data": {
      "text/plain": [
       "임신 성공 여부\n",
       "0    190123\n",
       "1     66228\n",
       "Name: count, dtype: int64"
      ]
     },
     "execution_count": 4,
     "metadata": {},
     "output_type": "execute_result"
    }
   ],
   "source": [
    "train['임신 성공 여부'].value_counts()"
   ]
  },
  {
   "cell_type": "code",
   "execution_count": 5,
   "metadata": {
    "colab": {
     "base_uri": "https://localhost:8080/",
     "height": 335
    },
    "id": "EsL6VCeI_Q4D",
    "outputId": "32bd81c0-f1bf-4f45-8b2a-54bf8e66c1d1"
   },
   "outputs": [
    {
     "data": {
      "text/plain": [
       "시술 당시 나이\n",
       "만18-34세    102476\n",
       "만35-37세     57780\n",
       "만38-39세     39247\n",
       "만40-42세     37348\n",
       "만43-44세     12253\n",
       "만45-50세      6918\n",
       "알 수 없음        329\n",
       "Name: count, dtype: int64"
      ]
     },
     "execution_count": 5,
     "metadata": {},
     "output_type": "execute_result"
    }
   ],
   "source": [
    "# train['시술 당시 나이'] = train['시술 당시 나이'].replace('알 수 없음','만35-37세')\n",
    "# test['시술 당시 나이'] = test['시술 당시 나이'].replace('알 수 없음','만35-37세')\n",
    "\n",
    "train['시술 당시 나이'].value_counts()\n",
    "# train['']\n"
   ]
  },
  {
   "cell_type": "code",
   "execution_count": 6,
   "metadata": {
    "colab": {
     "base_uri": "https://localhost:8080/"
    },
    "id": "4xu4wqTwWgEO",
    "outputId": "8b21d1a6-d5ee-46ea-ab34-c6c2ec30bb19"
   },
   "outputs": [
    {
     "data": {
      "text/plain": [
       "((256351, 66), (90067, 65))"
      ]
     },
     "execution_count": 6,
     "metadata": {},
     "output_type": "execute_result"
    }
   ],
   "source": [
    "# drop_columns = ['착상 전 유전 검사 사용 여부',\n",
    "#                 'PGD 시술 여부', 'PGS 시술 여부', '난자 해동 경과일'] + ['배란 유도 유형', '불임 원인 - 자궁경부 문제', '불임 원인 - 정자 면역학적 요인','불임 원인 - 정자 운동성', '불임 원인 - 정자 형태']#\n",
    "drop_columns = ['난자 해동 경과일', '배란 유도 유형']\n",
    "train.drop(columns=drop_columns, inplace=True)\n",
    "test.drop(columns=drop_columns, inplace=True)\n",
    "\n",
    "train.shape, test.shape"
   ]
  },
  {
   "cell_type": "code",
   "execution_count": 7,
   "metadata": {
    "id": "q5k1E_a8a6LH"
   },
   "outputs": [],
   "source": [
    "nan_col_list = ['착상 전 유전 검사 사용 여부','PGD 시술 여부', 'PGS 시술 여부']\n",
    "for col in nan_col_list:\n",
    "    train[col] = train[col].fillna(0)\n",
    "    test[col] = test[col].fillna(0)"
   ]
  },
  {
   "cell_type": "code",
   "execution_count": 8,
   "metadata": {
    "colab": {
     "base_uri": "https://localhost:8080/"
    },
    "id": "_Q-1vJvMZVdO",
    "outputId": "c00dc096-9bb5-4d60-f38f-4908c4f8c858"
   },
   "outputs": [],
   "source": [
    "drop_columns2 = []\n",
    "for col in train.columns:\n",
    "    if len(train[col].value_counts()) == 1:\n",
    "        drop_columns2.append(col)"
   ]
  },
  {
   "cell_type": "code",
   "execution_count": 9,
   "metadata": {
    "colab": {
     "base_uri": "https://localhost:8080/"
    },
    "id": "Eb_P6B2RarRm",
    "outputId": "8648f15e-8a85-49bb-fb00-a83582492051"
   },
   "outputs": [
    {
     "name": "stdout",
     "output_type": "stream",
     "text": [
      "['불임 원인 - 여성 요인', '난자 채취 경과일']\n"
     ]
    },
    {
     "data": {
      "text/plain": [
       "((256351, 64), (90067, 63))"
      ]
     },
     "execution_count": 9,
     "metadata": {},
     "output_type": "execute_result"
    }
   ],
   "source": [
    "print(drop_columns2)\n",
    "train.drop(columns=drop_columns2, inplace=True)\n",
    "test.drop(columns=drop_columns2, inplace=True)\n",
    "\n",
    "train.shape, test.shape"
   ]
  },
  {
   "cell_type": "code",
   "execution_count": 10,
   "metadata": {
    "id": "YjAuM-pa6Ewz"
   },
   "outputs": [],
   "source": [
    "cat_to_int_dict = {'6회 이상' : 6, '5회' : 5, '4회' : 4, '3회' : 3, '2회' : 2, '1회' : 1, '0회' : 0}\n",
    "\n",
    "cat_to_int_columns = ['총 시술 횟수', '클리닉 내 총 시술 횟수', 'IVF 시술 횟수','DI 시술 횟수', 'DI 임신 횟수' ,'DI 출산 횟수',\n",
    "                      '총 임신 횟수', 'IVF 임신 횟수', '총 출산 횟수', 'IVF 출산 횟수'] #\n",
    "for col in cat_to_int_columns:\n",
    "    train[col] = train[col].map(cat_to_int_dict)\n",
    "    test[col] = test[col].map(cat_to_int_dict)"
   ]
  },
  {
   "cell_type": "code",
   "execution_count": 11,
   "metadata": {},
   "outputs": [],
   "source": [
    "# 5. Binning(구간화) 예시\n",
    "# 예: 임신 시도 또는 마지막 임신 경과 연수\n",
    "if '임신 시도 또는 마지막 임신 경과 연수' in train.columns:\n",
    "    bins = [-0.1, 0.9, 3, 6, 10, 20]  # 0 이하, 1~3, 4~6, 7~10, 11~20\n",
    "    labels = ['0년 이하','1~3년','4~6년','7~10년','11~20년']\n",
    "    train['임신시도_bin'] = pd.cut(train['임신 시도 또는 마지막 임신 경과 연수'], bins=bins, labels=labels)\n",
    "    test['임신시도_bin']  = pd.cut(test['임신 시도 또는 마지막 임신 경과 연수'],  bins=bins, labels=labels)\n",
    "\n",
    "# 예: 총 생성 배아 수 (0~20, 21이상 구간)\n",
    "if '총 생성 배아 수' in train.columns:\n",
    "    bins = [-0.1, 0, 5, 10, 15, 20, 999]\n",
    "    labels = ['0','1~5','6~10','11~15','16~20','21이상']\n",
    "    train['총_생성_배아_bin'] = pd.cut(train['총 생성 배아 수'], bins=bins, labels=labels)\n",
    "    test['총_생성_배아_bin']  = pd.cut(test['총 생성 배아 수'],  bins=bins, labels=labels)\n",
    "\n",
    "# 6. 희소 범주(rare categories) 병합 예시\n",
    "def merge_rare_categories(series, min_count=100):\n",
    "    \"\"\"\n",
    "    시리즈 내에서 출현 횟수가 min_count 미만인 카테고리를\n",
    "    모두 '기타' 카테고리로 통합\n",
    "    \"\"\"\n",
    "    value_counts = series.value_counts(dropna=False)\n",
    "    rare_cats = value_counts[value_counts < min_count].index\n",
    "    return series.replace(rare_cats, '기타')\n",
    "\n",
    "\n",
    "rare_merge_cols = ['특정 시술 유형', '배아 생성 주요 이유']\n",
    "for col in rare_merge_cols:\n",
    "    if col in train.columns:\n",
    "        train[col] = merge_rare_categories(train[col], min_count=100)\n",
    "    if col in test.columns:\n",
    "        test[col] = merge_rare_categories(test[col], min_count=100)\n",
    "train.drop(columns =['임신 시도 또는 마지막 임신 경과 연수'],inplace = True )\n",
    "test.drop(columns =['임신 시도 또는 마지막 임신 경과 연수'],inplace = True )\n"
   ]
  },
  {
   "cell_type": "code",
   "execution_count": 12,
   "metadata": {
    "id": "f-mBaoLO4ffA"
   },
   "outputs": [],
   "source": [
    "procedure_encoding_dict = {'ICSI' : 'ICSI', 'IVF' : 'IVF', 'Unknown' : 'Unknown','IUI' : 'IUI',\n",
    "                           'ICSI:ICSI' : 'ICSI', 'ICSI / BLASTOCYST ' : 'ICSI / BLASTOCYST',\n",
    "                           'IVF / BLASTOCYST' : 'IVF / BLASTOCYST','IVF:IVF' : 'IVF','ICSI:IVF' : 'ICSI:IVF',\n",
    "                           'ICSI / AH' : 'ICSI / AH','IVF:ICSI' : 'ICSI:IVF', 'IVF / AH' : 'IVF / AH',\n",
    "                           'ICSI:Unknown' : 'ICSI', 'IVF:Unknown' : 'IVF', 'ICI' : 'ICI','Generic DI' : 'Generic DI',\n",
    "                           'IVI' : 'IVI','ICSI / BLASTOCYST:IVF / BLASTOCYST' : 'ICSI / BLASTOCYST:IVF / BLASTOCYST',\n",
    "                           'ICSI / BLASTOCYST :IVF / BLASTOCYST': 'ICSI / BLASTOCYST:IVF / BLASTOCYST','FER' : 'FER',\n",
    "                           'IVF / AH:ICSI / AH' : 'IVF / AH:ICSI / AH','GIFT':'GIFT','ICSI / AH:Unknown' : 'ICSI / AH',\n",
    "                           'ICSI / BLASTOCYST :ICSI' : 'ICSI / BLASTOCYST', 'IUI:ICI' : 'IUI:ICI',\n",
    "                           'IVF:Unknown:Unknown:Unknown' : 'IVF'}\n",
    "\n",
    "train['특정 시술 유형'] = train['특정 시술 유형'].map(procedure_encoding_dict)\n",
    "test['특정 시술 유형'] = test['특정 시술 유형'].map(procedure_encoding_dict)"
   ]
  },
  {
   "cell_type": "code",
   "execution_count": 13,
   "metadata": {
    "id": "UEU77iWib0U_"
   },
   "outputs": [],
   "source": [
    "train['불임 원인 - 정자 요인'] = train['불임 원인 - 정자 면역학적 요인'] + train['불임 원인 - 정자 운동성'] + train['불임 원인 - 정자 농도']  + train['불임 원인 - 정자 형태']\n",
    "test['불임 원인 - 정자 요인'] = test['불임 원인 - 정자 면역학적 요인'] + test['불임 원인 - 정자 운동성'] + test['불임 원인 - 정자 농도'] + test['불임 원인 - 정자 형태']\n",
    "train['불임 원인 - 여성 요인'] = train['불임 원인 - 자궁경부 문제'] + train['불임 원인 - 자궁내막증'] + train['불임 원인 - 배란 장애'] + train['불임 원인 - 난관 질환']\n",
    "test['불임 원인 - 여성 요인'] = test['불임 원인 - 자궁경부 문제'] + test['불임 원인 - 자궁내막증'] + test['불임 원인 - 배란 장애'] + test['불임 원인 - 난관 질환']\n",
    "\n",
    "train['남성 불임 원인'] = train['남성 주 불임 원인'] + train['남성 부 불임 원인']\n",
    "test['남성 불임 원인'] = test['남성 주 불임 원인'] + test['남성 부 불임 원인']\n",
    "train['여성 불임 원인'] = train['여성 주 불임 원인'] + train['여성 부 불임 원인']\n",
    "test['여성 불임 원인'] = test['여성 주 불임 원인'] + test['여성 부 불임 원인']\n",
    "train['부부 불임 원인'] = train['부부 주 불임 원인'] + train['부부 부 불임 원인']\n",
    "test['부부 불임 원인'] = test['부부 주 불임 원인'] + test['부부 부 불임 원인']\n",
    "\n",
    "\n",
    "drop_columns3 = ['불임 원인 - 정자 면역학적 요인', '불임 원인 - 정자 운동성', '불임 원인 - 정자 형태', '불임 원인 - 자궁경부 문제',\n",
    "                 '남성 주 불임 원인', '남성 부 불임 원인', '여성 주 불임 원인', '여성 부 불임 원인',\n",
    "                 '부부 주 불임 원인', '부부 부 불임 원인']\n",
    "train.drop(columns=drop_columns3, inplace=True)\n",
    "test.drop(columns=drop_columns3, inplace=True)"
   ]
  },
  {
   "cell_type": "code",
   "execution_count": 14,
   "metadata": {},
   "outputs": [
    {
     "ename": "KeyError",
     "evalue": "\"['임신 시도 또는 마지막 임신 경과 연수'] not found in axis\"",
     "output_type": "error",
     "traceback": [
      "\u001b[0;31m---------------------------------------------------------------------------\u001b[0m",
      "\u001b[0;31mKeyError\u001b[0m                                  Traceback (most recent call last)",
      "Cell \u001b[0;32mIn[14], line 1\u001b[0m\n\u001b[0;32m----> 1\u001b[0m \u001b[43mtrain\u001b[49m\u001b[38;5;241;43m.\u001b[39;49m\u001b[43mdrop\u001b[49m\u001b[43m(\u001b[49m\u001b[43mcolumns\u001b[49m\u001b[43m \u001b[49m\u001b[38;5;241;43m=\u001b[39;49m\u001b[43m[\u001b[49m\u001b[38;5;124;43m'\u001b[39;49m\u001b[38;5;124;43m임신 시도 또는 마지막 임신 경과 연수\u001b[39;49m\u001b[38;5;124;43m'\u001b[39;49m\u001b[43m]\u001b[49m\u001b[43m,\u001b[49m\u001b[43minplace\u001b[49m\u001b[43m \u001b[49m\u001b[38;5;241;43m=\u001b[39;49m\u001b[43m \u001b[49m\u001b[38;5;28;43;01mTrue\u001b[39;49;00m\u001b[43m \u001b[49m\u001b[43m)\u001b[49m\n\u001b[1;32m      2\u001b[0m test\u001b[38;5;241m.\u001b[39mdrop(columns \u001b[38;5;241m=\u001b[39m[\u001b[38;5;124m'\u001b[39m\u001b[38;5;124m임신 시도 또는 마지막 임신 경과 연수\u001b[39m\u001b[38;5;124m'\u001b[39m],inplace \u001b[38;5;241m=\u001b[39m \u001b[38;5;28;01mTrue\u001b[39;00m )\n",
      "File \u001b[0;32m~/Library/Python/3.9/lib/python/site-packages/pandas/core/frame.py:5581\u001b[0m, in \u001b[0;36mDataFrame.drop\u001b[0;34m(self, labels, axis, index, columns, level, inplace, errors)\u001b[0m\n\u001b[1;32m   5433\u001b[0m \u001b[38;5;28;01mdef\u001b[39;00m\u001b[38;5;250m \u001b[39m\u001b[38;5;21mdrop\u001b[39m(\n\u001b[1;32m   5434\u001b[0m     \u001b[38;5;28mself\u001b[39m,\n\u001b[1;32m   5435\u001b[0m     labels: IndexLabel \u001b[38;5;241m|\u001b[39m \u001b[38;5;28;01mNone\u001b[39;00m \u001b[38;5;241m=\u001b[39m \u001b[38;5;28;01mNone\u001b[39;00m,\n\u001b[0;32m   (...)\u001b[0m\n\u001b[1;32m   5442\u001b[0m     errors: IgnoreRaise \u001b[38;5;241m=\u001b[39m \u001b[38;5;124m\"\u001b[39m\u001b[38;5;124mraise\u001b[39m\u001b[38;5;124m\"\u001b[39m,\n\u001b[1;32m   5443\u001b[0m ) \u001b[38;5;241m-\u001b[39m\u001b[38;5;241m>\u001b[39m DataFrame \u001b[38;5;241m|\u001b[39m \u001b[38;5;28;01mNone\u001b[39;00m:\n\u001b[1;32m   5444\u001b[0m \u001b[38;5;250m    \u001b[39m\u001b[38;5;124;03m\"\"\"\u001b[39;00m\n\u001b[1;32m   5445\u001b[0m \u001b[38;5;124;03m    Drop specified labels from rows or columns.\u001b[39;00m\n\u001b[1;32m   5446\u001b[0m \n\u001b[0;32m   (...)\u001b[0m\n\u001b[1;32m   5579\u001b[0m \u001b[38;5;124;03m            weight  1.0     0.8\u001b[39;00m\n\u001b[1;32m   5580\u001b[0m \u001b[38;5;124;03m    \"\"\"\u001b[39;00m\n\u001b[0;32m-> 5581\u001b[0m     \u001b[38;5;28;01mreturn\u001b[39;00m \u001b[38;5;28;43msuper\u001b[39;49m\u001b[43m(\u001b[49m\u001b[43m)\u001b[49m\u001b[38;5;241;43m.\u001b[39;49m\u001b[43mdrop\u001b[49m\u001b[43m(\u001b[49m\n\u001b[1;32m   5582\u001b[0m \u001b[43m        \u001b[49m\u001b[43mlabels\u001b[49m\u001b[38;5;241;43m=\u001b[39;49m\u001b[43mlabels\u001b[49m\u001b[43m,\u001b[49m\n\u001b[1;32m   5583\u001b[0m \u001b[43m        \u001b[49m\u001b[43maxis\u001b[49m\u001b[38;5;241;43m=\u001b[39;49m\u001b[43maxis\u001b[49m\u001b[43m,\u001b[49m\n\u001b[1;32m   5584\u001b[0m \u001b[43m        \u001b[49m\u001b[43mindex\u001b[49m\u001b[38;5;241;43m=\u001b[39;49m\u001b[43mindex\u001b[49m\u001b[43m,\u001b[49m\n\u001b[1;32m   5585\u001b[0m \u001b[43m        \u001b[49m\u001b[43mcolumns\u001b[49m\u001b[38;5;241;43m=\u001b[39;49m\u001b[43mcolumns\u001b[49m\u001b[43m,\u001b[49m\n\u001b[1;32m   5586\u001b[0m \u001b[43m        \u001b[49m\u001b[43mlevel\u001b[49m\u001b[38;5;241;43m=\u001b[39;49m\u001b[43mlevel\u001b[49m\u001b[43m,\u001b[49m\n\u001b[1;32m   5587\u001b[0m \u001b[43m        \u001b[49m\u001b[43minplace\u001b[49m\u001b[38;5;241;43m=\u001b[39;49m\u001b[43minplace\u001b[49m\u001b[43m,\u001b[49m\n\u001b[1;32m   5588\u001b[0m \u001b[43m        \u001b[49m\u001b[43merrors\u001b[49m\u001b[38;5;241;43m=\u001b[39;49m\u001b[43merrors\u001b[49m\u001b[43m,\u001b[49m\n\u001b[1;32m   5589\u001b[0m \u001b[43m    \u001b[49m\u001b[43m)\u001b[49m\n",
      "File \u001b[0;32m~/Library/Python/3.9/lib/python/site-packages/pandas/core/generic.py:4788\u001b[0m, in \u001b[0;36mNDFrame.drop\u001b[0;34m(self, labels, axis, index, columns, level, inplace, errors)\u001b[0m\n\u001b[1;32m   4786\u001b[0m \u001b[38;5;28;01mfor\u001b[39;00m axis, labels \u001b[38;5;129;01min\u001b[39;00m axes\u001b[38;5;241m.\u001b[39mitems():\n\u001b[1;32m   4787\u001b[0m     \u001b[38;5;28;01mif\u001b[39;00m labels \u001b[38;5;129;01mis\u001b[39;00m \u001b[38;5;129;01mnot\u001b[39;00m \u001b[38;5;28;01mNone\u001b[39;00m:\n\u001b[0;32m-> 4788\u001b[0m         obj \u001b[38;5;241m=\u001b[39m \u001b[43mobj\u001b[49m\u001b[38;5;241;43m.\u001b[39;49m\u001b[43m_drop_axis\u001b[49m\u001b[43m(\u001b[49m\u001b[43mlabels\u001b[49m\u001b[43m,\u001b[49m\u001b[43m \u001b[49m\u001b[43maxis\u001b[49m\u001b[43m,\u001b[49m\u001b[43m \u001b[49m\u001b[43mlevel\u001b[49m\u001b[38;5;241;43m=\u001b[39;49m\u001b[43mlevel\u001b[49m\u001b[43m,\u001b[49m\u001b[43m \u001b[49m\u001b[43merrors\u001b[49m\u001b[38;5;241;43m=\u001b[39;49m\u001b[43merrors\u001b[49m\u001b[43m)\u001b[49m\n\u001b[1;32m   4790\u001b[0m \u001b[38;5;28;01mif\u001b[39;00m inplace:\n\u001b[1;32m   4791\u001b[0m     \u001b[38;5;28mself\u001b[39m\u001b[38;5;241m.\u001b[39m_update_inplace(obj)\n",
      "File \u001b[0;32m~/Library/Python/3.9/lib/python/site-packages/pandas/core/generic.py:4830\u001b[0m, in \u001b[0;36mNDFrame._drop_axis\u001b[0;34m(self, labels, axis, level, errors, only_slice)\u001b[0m\n\u001b[1;32m   4828\u001b[0m         new_axis \u001b[38;5;241m=\u001b[39m axis\u001b[38;5;241m.\u001b[39mdrop(labels, level\u001b[38;5;241m=\u001b[39mlevel, errors\u001b[38;5;241m=\u001b[39merrors)\n\u001b[1;32m   4829\u001b[0m     \u001b[38;5;28;01melse\u001b[39;00m:\n\u001b[0;32m-> 4830\u001b[0m         new_axis \u001b[38;5;241m=\u001b[39m \u001b[43maxis\u001b[49m\u001b[38;5;241;43m.\u001b[39;49m\u001b[43mdrop\u001b[49m\u001b[43m(\u001b[49m\u001b[43mlabels\u001b[49m\u001b[43m,\u001b[49m\u001b[43m \u001b[49m\u001b[43merrors\u001b[49m\u001b[38;5;241;43m=\u001b[39;49m\u001b[43merrors\u001b[49m\u001b[43m)\u001b[49m\n\u001b[1;32m   4831\u001b[0m     indexer \u001b[38;5;241m=\u001b[39m axis\u001b[38;5;241m.\u001b[39mget_indexer(new_axis)\n\u001b[1;32m   4833\u001b[0m \u001b[38;5;66;03m# Case for non-unique axis\u001b[39;00m\n\u001b[1;32m   4834\u001b[0m \u001b[38;5;28;01melse\u001b[39;00m:\n",
      "File \u001b[0;32m~/Library/Python/3.9/lib/python/site-packages/pandas/core/indexes/base.py:7070\u001b[0m, in \u001b[0;36mIndex.drop\u001b[0;34m(self, labels, errors)\u001b[0m\n\u001b[1;32m   7068\u001b[0m \u001b[38;5;28;01mif\u001b[39;00m mask\u001b[38;5;241m.\u001b[39many():\n\u001b[1;32m   7069\u001b[0m     \u001b[38;5;28;01mif\u001b[39;00m errors \u001b[38;5;241m!=\u001b[39m \u001b[38;5;124m\"\u001b[39m\u001b[38;5;124mignore\u001b[39m\u001b[38;5;124m\"\u001b[39m:\n\u001b[0;32m-> 7070\u001b[0m         \u001b[38;5;28;01mraise\u001b[39;00m \u001b[38;5;167;01mKeyError\u001b[39;00m(\u001b[38;5;124mf\u001b[39m\u001b[38;5;124m\"\u001b[39m\u001b[38;5;132;01m{\u001b[39;00mlabels[mask]\u001b[38;5;241m.\u001b[39mtolist()\u001b[38;5;132;01m}\u001b[39;00m\u001b[38;5;124m not found in axis\u001b[39m\u001b[38;5;124m\"\u001b[39m)\n\u001b[1;32m   7071\u001b[0m     indexer \u001b[38;5;241m=\u001b[39m indexer[\u001b[38;5;241m~\u001b[39mmask]\n\u001b[1;32m   7072\u001b[0m \u001b[38;5;28;01mreturn\u001b[39;00m \u001b[38;5;28mself\u001b[39m\u001b[38;5;241m.\u001b[39mdelete(indexer)\n",
      "\u001b[0;31mKeyError\u001b[0m: \"['임신 시도 또는 마지막 임신 경과 연수'] not found in axis\""
     ]
    }
   ],
   "source": [
    "train.drop(columns =['임신 시도 또는 마지막 임신 경과 연수'],inplace = True )\n",
    "test.drop(columns =['임신 시도 또는 마지막 임신 경과 연수'],inplace = True )"
   ]
  },
  {
   "cell_type": "code",
   "execution_count": 15,
   "metadata": {
    "colab": {
     "base_uri": "https://localhost:8080/"
    },
    "id": "kjEBmjSkbL5j",
    "outputId": "b3db516d-031e-42fc-89bb-a3218d8bd879"
   },
   "outputs": [
    {
     "data": {
      "text/plain": [
       "Index(['시술 시기 코드', '시술 당시 나이', '시술 유형', '특정 시술 유형', '배란 자극 여부', '단일 배아 이식 여부',\n",
       "       '착상 전 유전 검사 사용 여부', '착상 전 유전 진단 사용 여부', '불명확 불임 원인', '불임 원인 - 난관 질환',\n",
       "       '불임 원인 - 남성 요인', '불임 원인 - 배란 장애', '불임 원인 - 자궁내막증', '불임 원인 - 정자 농도',\n",
       "       '배아 생성 주요 이유', '총 시술 횟수', '클리닉 내 총 시술 횟수', 'IVF 시술 횟수', 'DI 시술 횟수',\n",
       "       '총 임신 횟수', 'IVF 임신 횟수', 'DI 임신 횟수', '총 출산 횟수', 'IVF 출산 횟수', 'DI 출산 횟수',\n",
       "       '총 생성 배아 수', '미세주입된 난자 수', '미세주입에서 생성된 배아 수', '이식된 배아 수',\n",
       "       '미세주입 배아 이식 수', '저장된 배아 수', '미세주입 후 저장된 배아 수', '해동된 배아 수', '해동 난자 수',\n",
       "       '수집된 신선 난자 수', '저장된 신선 난자 수', '혼합된 난자 수', '파트너 정자와 혼합된 난자 수',\n",
       "       '기증자 정자와 혼합된 난자 수', '난자 출처', '정자 출처', '난자 기증자 나이', '정자 기증자 나이',\n",
       "       '동결 배아 사용 여부', '신선 배아 사용 여부', '기증 배아 사용 여부', '대리모 여부', 'PGD 시술 여부',\n",
       "       'PGS 시술 여부', '난자 혼합 경과일', '배아 이식 경과일', '배아 해동 경과일', '임신 성공 여부',\n",
       "       '임신시도_bin', '총_생성_배아_bin', '불임 원인 - 정자 요인', '불임 원인 - 여성 요인', '남성 불임 원인',\n",
       "       '여성 불임 원인', '부부 불임 원인'],\n",
       "      dtype='object')"
      ]
     },
     "execution_count": 15,
     "metadata": {},
     "output_type": "execute_result"
    }
   ],
   "source": [
    "train.columns"
   ]
  },
  {
   "cell_type": "code",
   "execution_count": 16,
   "metadata": {
    "id": "64dAkKrBayFA"
   },
   "outputs": [],
   "source": [
    "# categorical_columns = [\"시술 시기 코드\",\"시술 당시 나이\", \"시술 유형\", \"특정 시술 유형\",\"배란 자극 여부\",\n",
    "                      #  \"단일 배아 이식 여부\",\"착상 전 유전 진단 사용 여부\",\n",
    "                      #  \"남성 주 불임 원인\",\"남성 부 불임 원인\",\"여성 주 불임 원인\",\"여성 부 불임 원인\",\n",
    "                      #  \"부부 주 불임 원인\",\"부부 부 불임 원인\",\"불명확 불임 원인\",\"불임 원인 - 난관 질환\",\n",
    "                      #  \"불임 원인 - 남성 요인\",\"불임 원인 - 배란 장애\",\"불임 원인 - 자궁경부 문제\",\"불임 원인 - 자궁내막증\",\n",
    "                      #  \"불임 원인 - 정자 농도\",\"불임 원인 - 정자 면역학적 요인\",\"불임 원인 - 정자 운동성\",\"불임 원인 - 정자 형태\",\n",
    "                      #  \"배아 생성 주요 이유\",\"총 시술 횟수\",\"클리닉 내 총 시술 횟수\",\"IVF 시술 횟수\",\"DI 시술 횟수\",\n",
    "                      #  \"총 임신 횟수\",\"IVF 임신 횟수\",\"DI 임신 횟수\",\"총 출산 횟수\",\"IVF 출산 횟수\",\"DI 출산 횟수\",\n",
    "                      #  \"난자 출처\",\"정자 출처\",\"난자 기증자 나이\",\"정자 기증자 나이\",\n",
    "                      #  \"동결 배아 사용 여부\",\"신선 배아 사용 여부\",\"기증 배아 사용 여부\",\"대리모 여부\"]\n",
    "categorical_columns =  [\"시술 시기 코드\",\"시술 당시 나이\",\"시술 유형\", \"특정 시술 유형\",\n",
    "                        \"배란 자극 여부\", \"단일 배아 이식 여부\", '착상 전 유전 검사 사용 여부',\"착상 전 유전 진단 사용 여부\",\n",
    "                       \"불명확 불임 원인\",\"배아 생성 주요 이유\",\n",
    "                        \"불임 원인 - 난관 질환\",\"불임 원인 - 남성 요인\",\"불임 원인 - 배란 장애\",\n",
    "                        \"불임 원인 - 자궁내막증\",'불임 원인 - 정자 농도',\"난자 출처\",\"정자 출처\",\"난자 기증자 나이\",\"정자 기증자 나이\",\n",
    "                       \"동결 배아 사용 여부\",\"신선 배아 사용 여부\", '기증 배아 사용 여부',\"대리모 여부\",\n",
    "                        'PGD 시술 여부', '총_생성_배아_bin','PGS 시술 여부', '불임 원인 - 정자 요인', '불임 원인 - 여성 요인',  '남성 불임 원인', '여성 불임 원인', '부부 불임 원인',\"임신시도_bin\"] #\n",
    "# \"남성 주 불임 원인\",\"남성 부 불임 원인\",\"여성 주 불임 원인\",\"여성 부 불임 원인\",\n",
    "#                       \"부부 주 불임 원인\",\"부부 부 불임 원인\",\n",
    "\n",
    "for col in categorical_columns:\n",
    "    if train[col].isna().sum() > 0 or test[col].isna().sum() > 0 :\n",
    "\n",
    "      mode_value = train[col].mode()[0]\n",
    "      train[col].fillna(mode_value, inplace=True)  # 최빈값으로 대체\n",
    "      test[col].fillna(mode_value, inplace = True)\n",
    "    train[col] = train[col].astype(str)\n",
    "    test[col] = test[col].astype(str)\n",
    "    #encoder = ce.OrdinalEncoder(handle_unknown='impute')\n",
    "    #encoder.fit(train[col])\n",
    "    #train[col] = encoder.transform(train[col])\n",
    "    #test[col] = encoder.transform(test[col])\n",
    "\n",
    "numeric_columns = [\"총 생성 배아 수\", \"총 시술 횟수\",\"클리닉 내 총 시술 횟수\",\"IVF 시술 횟수\",\"DI 시술 횟수\",\n",
    "                   \"총 임신 횟수\",\"IVF 임신 횟수\",\"DI 임신 횟수\",\"총 출산 횟수\",\"IVF 출산 횟수\",\"DI 출산 횟수\",\n",
    "                    '미세주입된 난자 수', '미세주입에서 생성된 배아 수', '이식된 배아 수', '미세주입 배아 이식 수', '저장된 배아 수',\n",
    "       '미세주입 후 저장된 배아 수', '해동된 배아 수', '해동 난자 수', '수집된 신선 난자 수', '저장된 신선 난자 수',\n",
    "       '혼합된 난자 수', '파트너 정자와 혼합된 난자 수', '기증자 정자와 혼합된 난자 수', '난자 혼합 경과일', '배아 이식 경과일', '배아 해동 경과일'] #\n",
    "\n",
    "# numeric_columns = [\"총 생성 배아 수\",\"미세주입된 난자 수\",\"미세주입에서 생성된 배아 수\",\n",
    "#                    \"이식된 배아 수\",\"미세주입 배아 이식 수\",\"저장된 배아 수\",\"미세주입 후 저장된 배아 수\",\n",
    "#                    \"수집된 신선 난자 수\",\"혼합된 난자 수\",\"파트너 정자와 혼합된 난자 수\",\n",
    "#                    \"기증자 정자와 혼합된 난자 수\",\"배아 이식 경과일\"]\n",
    "\n",
    "for col in numeric_columns:\n",
    "  if train[col].isna().sum():\n",
    "    if train[col].isna().sum() >= len(train)*0.5: # 결측치가 절반이 넘어갈 경우\n",
    "      train[col].fillna(-1, inplace=True)  # -1로 대체\n",
    "      test[col].fillna(-1, inplace = True)\n",
    "    else:\n",
    "      mode_value = train[col].mode()[0]  # 최빈값 구하기\n",
    "      train[col].fillna(mode_value, inplace=True)  # 최빈값으로 대체\n",
    "      test[col].fillna(mode_value, inplace = True)\n"
   ]
  },
  {
   "cell_type": "code",
   "execution_count": 17,
   "metadata": {
    "colab": {
     "base_uri": "https://localhost:8080/"
    },
    "id": "rrQrzq0H_QfV",
    "outputId": "255208d3-85ca-4d21-d9d0-eb8dccc27e6d"
   },
   "outputs": [
    {
     "data": {
      "text/plain": [
       "59"
      ]
     },
     "execution_count": 17,
     "metadata": {},
     "output_type": "execute_result"
    }
   ],
   "source": [
    "len(categorical_columns) + len(numeric_columns)"
   ]
  },
  {
   "cell_type": "code",
   "execution_count": 18,
   "metadata": {
    "id": "CI8IOlCFVXGY"
   },
   "outputs": [],
   "source": [
    "def make_feature(df):\n",
    "  #df['연령 가중치'] = df['시술 당시 나이'].map(age_weight_dict)\n",
    "\n",
    "  #df['난자 활용률'] = df['미세주입된 난자 수'] / (df['수집된 신선 난자 수'] + df['해동 난자 수'] + 1)\n",
    "  df['미세주입 배아 생성률'] = (df['미세주입에서 생성된 배아 수']) / (df['미세주입된 난자 수'] + 1)\n",
    "  df['미세주입 배아 이식률'] = (df['미세주입 배아 이식 수']) / (df['미세주입에서 생성된 배아 수'] + 1)\n",
    "  df['배아 이식률'] = (df['이식된 배아 수']) / (df['총 생성 배아 수'] + 1)\n",
    "  df['저장 배아 비율'] = (df['저장된 배아 수'])/ (df['총 생성 배아 수'] + 1)\n",
    "  df['해동 배아 생존율'] = (df['해동된 배아 수'])/ (df['총 생성 배아 수'] + 1)\n",
    "  df['파트너 정자 혼합 비율'] = (df['파트너 정자와 혼합된 난자 수']) / (df['혼합된 난자 수'] + 1)\n",
    "\n",
    "  # df['저장 배아 비율2'] = (df['저장된 배아 수'])/ (df['이식된 배아 수'] + 1)\n",
    "  # df['해동 배아 생존율2'] = (df['해동된 배아 수'])/ (df['이식된 배아 수'] + 1)\n",
    "  # df['미세주입 배아 이식 비율'] = df['미세주입 배아 이식 수'] / (df['이식된 배아 수'] + 1)\n",
    "  #df['나이보정 배아 이식 수'] = df['이식된 배아 수']*df['연령 가중치']\n",
    "\n",
    "  df['임신 성공률'] = (df['총 임신 횟수']) / (df['총 시술 횟수'] + 1)\n",
    "  #df['IVF 시술 성공률'] = (df['IVF 임신 횟수'])/ (df['IVF 시술 횟수'] + 1)\n",
    "  #df['DI 시술 성공률'] = (df['DI 임신 횟수']) / (df['DI 시술 횟수'] + 1)\n",
    "  df['출산율'] = df['총 출산 횟수'] / (df['총 임신 횟수'] + 1)\n",
    "  #df['IVF 출산율'] = df['IVF 출산 횟수'] / (df['IVF 임신 횟수'] + 1)\n",
    "  #df['DI 출산율'] = df['DI 출산 횟수'] / (df['DI 임신 횟수'] + 1)\n",
    "  #df['시술 기준 출산 성공률'] = df['총 출산 횟수'] / (df['총 시술 횟수'] + 1)\n",
    "\n",
    "  #df = df.drop(columns = ['연령 가중치'])\n",
    "\n",
    "  return df"
   ]
  },
  {
   "cell_type": "code",
   "execution_count": 19,
   "metadata": {
    "colab": {
     "base_uri": "https://localhost:8080/"
    },
    "id": "_VNPbGSR4h_I",
    "outputId": "44e7b9c5-1948-417e-b02a-64267fb91fae"
   },
   "outputs": [
    {
     "data": {
      "text/plain": [
       "((256351, 67), (90067, 67))"
      ]
     },
     "execution_count": 19,
     "metadata": {},
     "output_type": "execute_result"
    }
   ],
   "source": [
    "X = train.drop('임신 성공 여부', axis=1)\n",
    "y = train['임신 성공 여부']\n",
    "\n",
    "X = make_feature(X)\n",
    "test = make_feature(test)\n",
    "\n",
    "X.shape, test.shape"
   ]
  },
  {
   "cell_type": "code",
   "execution_count": 20,
   "metadata": {},
   "outputs": [
    {
     "data": {
      "text/plain": [
       "((256351, 67), (90067, 67))"
      ]
     },
     "execution_count": 20,
     "metadata": {},
     "output_type": "execute_result"
    }
   ],
   "source": [
    "from sklearn.preprocessing import StandardScaler\n",
    "scaler = StandardScaler()\n",
    "# 수치형 변수(정수, 실수)를 선택하여 스케일링\n",
    "numeric_cols = X.select_dtypes(include=['int64', 'float64']).columns\n",
    "X[numeric_cols] = scaler.fit_transform(X[numeric_cols])\n",
    "test[numeric_cols] = scaler.transform(test[numeric_cols])\n",
    "\n",
    "X.shape, test.shape"
   ]
  },
  {
   "cell_type": "code",
   "execution_count": 21,
   "metadata": {
    "colab": {
     "base_uri": "https://localhost:8080/",
     "height": 178
    },
    "id": "1WNQj2e8ukWK",
    "outputId": "039cab20-93c0-4ab4-f8a6-8098c62dc87f"
   },
   "outputs": [
    {
     "data": {
      "text/plain": [
       "임신 성공 여부\n",
       "0    190123\n",
       "1     66228\n",
       "Name: count, dtype: int64"
      ]
     },
     "execution_count": 21,
     "metadata": {},
     "output_type": "execute_result"
    }
   ],
   "source": [
    "y.value_counts()"
   ]
  },
  {
   "cell_type": "code",
   "execution_count": 22,
   "metadata": {},
   "outputs": [],
   "source": [
    "if not os.path.exists('./weight'):\n",
    "    os.makedirs('./weight')"
   ]
  },
  {
   "cell_type": "code",
   "execution_count": 23,
   "metadata": {
    "id": "nsRZfmFixgqm"
   },
   "outputs": [],
   "source": [
    "from sklearn.utils.class_weight import compute_class_weight\n",
    "def objective_cat(trial):\n",
    "    global best_val_auc\n",
    "    cbrm_param = {\n",
    "        'iterations':trial.suggest_int(\"iterations\", 1500, 3000),\n",
    "        'depth':trial.suggest_int(\"depth\", 4, 10),\n",
    "        'learning_rate' : trial.suggest_float('learning_rate',0.005, 0.1),\n",
    "        'l2_leaf_reg': trial.suggest_float(\"l2_leaf_reg\", 1e-4, 100.0, log=True),\n",
    "        'early_stopping_rounds': 300\n",
    "    }\n",
    "\n",
    "    # Generate model\n",
    "    model_cat = CatBoostClassifier(**cbrm_param, auto_class_weights='Balanced', eval_metric='AUC', random_state=seed)\n",
    "    model_cat.fit(X_train,\n",
    "          y_train,\n",
    "          cat_features=categorical_columns,\n",
    "          early_stopping_rounds= 300,\n",
    "          eval_set=[(X_val,y_val)],\n",
    "          verbose = 300)\n",
    "    \n",
    "    val_auc = model_cat.get_best_score()[\"validation\"][\"AUC\"]\n",
    "    best_model_path = \"./weight/cat_fold_cpu{}.cbm\".format(idx)\n",
    "    if val_auc > best_val_auc:\n",
    "        best_val_auc = val_auc\n",
    "        model_cat.save_model(best_model_path)\n",
    "        print('저장 완료')\n",
    "\n",
    "    return val_auc\n",
    "\n",
    "def objective_lgbm(trial):\n",
    "\n",
    "    lgbm_params = {\n",
    "         #'num_leaves': trial.suggest_int('num_leaves', 2, 1024, step=1),\n",
    "         #'max_depth': trial.suggest_int('max_depth', 3, 18, step=1),\n",
    "          \"num_iterations\": trial.suggest_int(\"num_iterations\", 1500, 3000),\n",
    "        \"objective\":  trial.suggest_categorical(\"objective\", [\"binary\"]),\n",
    "         \"metric\":  trial.suggest_categorical(\"metric\", [\"auc\"]),\n",
    "        #  \"random_state\":  trial.suggest_int('random_state', 42, 42),\n",
    "        \"random_state\": seed,\n",
    "        \"verbose\":  trial.suggest_int('verbose', -1, -1),\n",
    "        'learning_rate': trial.suggest_float('learning_rate', 0.005, 0.1, log=True),\n",
    "        'n_estimators': trial.suggest_int('n_estimators', 100, 2000),\n",
    "        'min_child_samples': trial.suggest_int('min_child_samples', 10, 50, step=5),\n",
    "        'subsample': trial.suggest_float('subsample', 0.5, 1.0, step=0.1),\n",
    "        'colsample_bytree': trial.suggest_float('colsample_bytree', 0.5, 1.0, step=0.1),\n",
    "    }\n",
    "\n",
    "    # Generate model\n",
    "\n",
    "    class_weights = compute_class_weight(class_weight=\"balanced\", classes=np.unique(y), y=y_train)\n",
    "    class_weight_dict = {i: w for i, w in enumerate(class_weights)}\n",
    "\n",
    "    model_lgbm = lgb.LGBMClassifier(**lgbm_params, class_weight=class_weight_dict)\n",
    "\n",
    "    model_lgbm.fit(X_train, y_train,eval_set=[(X_val, y_val)],categorical_feature=categorical_columns)\n",
    "\n",
    "    return model_lgbm.best_score_['valid_0']['auc']"
   ]
  },
  {
   "cell_type": "code",
   "execution_count": 24,
   "metadata": {
    "colab": {
     "base_uri": "https://localhost:8080/"
    },
    "id": "NsuYwQX28LzT",
    "outputId": "392153b7-08f0-4feb-9a83-6016732f894c",
    "scrolled": true,
    "tags": []
   },
   "outputs": [
    {
     "name": "stderr",
     "output_type": "stream",
     "text": [
      "[I 2025-02-25 15:10:25,527] A new study created in memory with name: no-name-946eb145-d076-4f03-b83d-368d597aeca9\n"
     ]
    },
    {
     "name": "stdout",
     "output_type": "stream",
     "text": [
      "Seed 4972 Start!\n",
      "==================================================\n",
      "0:\ttest: 0.7161758\tbest: 0.7161758 (0)\ttotal: 168ms\tremaining: 6m 37s\n",
      "300:\ttest: 0.7387540\tbest: 0.7387540 (300)\ttotal: 37.2s\tremaining: 4m 15s\n",
      "600:\ttest: 0.7400686\tbest: 0.7400728 (589)\ttotal: 1m 16s\tremaining: 3m 43s\n",
      "900:\ttest: 0.7406008\tbest: 0.7406119 (892)\ttotal: 1m 55s\tremaining: 3m 7s\n",
      "1200:\ttest: 0.7407464\tbest: 0.7407542 (1190)\ttotal: 2m 39s\tremaining: 2m 34s\n",
      "1500:\ttest: 0.7408787\tbest: 0.7408936 (1467)\ttotal: 3m 29s\tremaining: 2m\n",
      "1800:\ttest: 0.7409551\tbest: 0.7410085 (1708)\ttotal: 4m 17s\tremaining: 1m 20s\n"
     ]
    },
    {
     "name": "stderr",
     "output_type": "stream",
     "text": [
      "[I 2025-02-25 15:15:17,651] Trial 0 finished with value: 0.7410084705745688 and parameters: {'iterations': 2366, 'depth': 10, 'learning_rate': 0.01181021951839225, 'l2_leaf_reg': 9.980783802743254}. Best is trial 0 with value: 0.7410084705745688.\n"
     ]
    },
    {
     "name": "stdout",
     "output_type": "stream",
     "text": [
      "Stopped by overfitting detector  (300 iterations wait)\n",
      "\n",
      "bestTest = 0.7410084706\n",
      "bestIteration = 1708\n",
      "\n",
      "Shrink model to first 1709 iterations.\n",
      "저장 완료\n",
      "0:\ttest: 0.6946616\tbest: 0.6946616 (0)\ttotal: 54.3ms\tremaining: 1m 58s\n"
     ]
    },
    {
     "name": "stderr",
     "output_type": "stream",
     "text": [
      "Training has stopped (degenerate solution on iteration 232, probably too small l2-regularization, try to increase it)\n",
      "[I 2025-02-25 15:15:27,704] Trial 1 finished with value: 0.7282318075732872 and parameters: {'iterations': 2193, 'depth': 4, 'learning_rate': 0.005671430811678843, 'l2_leaf_reg': 0.00012325230809466137}. Best is trial 0 with value: 0.7410084705745688.\n"
     ]
    },
    {
     "name": "stdout",
     "output_type": "stream",
     "text": [
      "\n",
      "bestTest = 0.7282318076\n",
      "bestIteration = 231\n",
      "\n",
      "Shrink model to first 232 iterations.\n",
      "0:\ttest: 0.6946616\tbest: 0.6946616 (0)\ttotal: 49.2ms\tremaining: 2m 4s\n",
      "300:\ttest: 0.7408920\tbest: 0.7408920 (300)\ttotal: 14.4s\tremaining: 1m 46s\n",
      "600:\ttest: 0.7400776\tbest: 0.7409930 (315)\ttotal: 29.4s\tremaining: 1m 34s\n"
     ]
    },
    {
     "name": "stderr",
     "output_type": "stream",
     "text": [
      "[I 2025-02-25 15:15:58,019] Trial 2 finished with value: 0.7409929968448441 and parameters: {'iterations': 2535, 'depth': 4, 'learning_rate': 0.09275339199839054, 'l2_leaf_reg': 0.0008705394248343123}. Best is trial 0 with value: 0.7410084705745688.\n"
     ]
    },
    {
     "name": "stdout",
     "output_type": "stream",
     "text": [
      "Stopped by overfitting detector  (300 iterations wait)\n",
      "\n",
      "bestTest = 0.7409929968\n",
      "bestIteration = 315\n",
      "\n",
      "Shrink model to first 316 iterations.\n",
      "0:\ttest: 0.6946616\tbest: 0.6946616 (0)\ttotal: 51.2ms\tremaining: 1m 59s\n",
      "300:\ttest: 0.7391779\tbest: 0.7391779 (300)\ttotal: 13.7s\tremaining: 1m 32s\n",
      "600:\ttest: 0.7402539\tbest: 0.7402637 (597)\ttotal: 28.5s\tremaining: 1m 22s\n",
      "900:\ttest: 0.7402192\tbest: 0.7404415 (803)\ttotal: 43.4s\tremaining: 1m 9s\n"
     ]
    },
    {
     "name": "stderr",
     "output_type": "stream",
     "text": [
      "[I 2025-02-25 15:16:51,686] Trial 3 finished with value: 0.7404415412298581 and parameters: {'iterations': 2334, 'depth': 4, 'learning_rate': 0.04657568321363276, 'l2_leaf_reg': 0.0008640473331457248}. Best is trial 0 with value: 0.7410084705745688.\n"
     ]
    },
    {
     "name": "stdout",
     "output_type": "stream",
     "text": [
      "Stopped by overfitting detector  (300 iterations wait)\n",
      "\n",
      "bestTest = 0.7404415412\n",
      "bestIteration = 803\n",
      "\n",
      "Shrink model to first 804 iterations.\n",
      "0:\ttest: 0.7228048\tbest: 0.7228048 (0)\ttotal: 105ms\tremaining: 3m 3s\n",
      "300:\ttest: 0.7381428\tbest: 0.7381428 (300)\ttotal: 37.1s\tremaining: 2m 57s\n",
      "600:\ttest: 0.7389412\tbest: 0.7389631 (597)\ttotal: 1m 16s\tremaining: 2m 24s\n",
      "900:\ttest: 0.7388022\tbest: 0.7390259 (786)\ttotal: 1m 54s\tremaining: 1m 46s\n"
     ]
    },
    {
     "name": "stderr",
     "output_type": "stream",
     "text": [
      "[I 2025-02-25 15:19:13,207] Trial 4 finished with value: 0.7390258795965623 and parameters: {'iterations': 1742, 'depth': 10, 'learning_rate': 0.012622767482095846, 'l2_leaf_reg': 0.00021158816350109617}. Best is trial 0 with value: 0.7410084705745688.\n"
     ]
    },
    {
     "name": "stdout",
     "output_type": "stream",
     "text": [
      "Stopped by overfitting detector  (300 iterations wait)\n",
      "\n",
      "bestTest = 0.7390258796\n",
      "bestIteration = 786\n",
      "\n",
      "Shrink model to first 787 iterations.\n",
      "0:\ttest: 0.6946616\tbest: 0.6946616 (0)\ttotal: 47.9ms\tremaining: 1m 39s\n",
      "300:\ttest: 0.7404055\tbest: 0.7404070 (299)\ttotal: 14s\tremaining: 1m 22s\n",
      "600:\ttest: 0.7406651\tbest: 0.7408965 (394)\ttotal: 29s\tremaining: 1m 11s\n"
     ]
    },
    {
     "name": "stderr",
     "output_type": "stream",
     "text": [
      "[I 2025-02-25 15:19:47,051] Trial 5 finished with value: 0.7408965371794098 and parameters: {'iterations': 2082, 'depth': 4, 'learning_rate': 0.06995196593094148, 'l2_leaf_reg': 0.0018080296485396804}. Best is trial 0 with value: 0.7410084705745688.\n"
     ]
    },
    {
     "name": "stdout",
     "output_type": "stream",
     "text": [
      "Stopped by overfitting detector  (300 iterations wait)\n",
      "\n",
      "bestTest = 0.7408965372\n",
      "bestIteration = 394\n",
      "\n",
      "Shrink model to first 395 iterations.\n",
      "0:\ttest: 0.6962144\tbest: 0.6962144 (0)\ttotal: 53.4ms\tremaining: 1m 46s\n",
      "300:\ttest: 0.7405063\tbest: 0.7405161 (298)\ttotal: 17.2s\tremaining: 1m 37s\n",
      "600:\ttest: 0.7412080\tbest: 0.7412148 (592)\ttotal: 35.1s\tremaining: 1m 21s\n"
     ]
    },
    {
     "name": "stderr",
     "output_type": "stream",
     "text": [
      "[I 2025-02-25 15:20:40,300] Trial 6 finished with value: 0.7412148425603788 and parameters: {'iterations': 1997, 'depth': 5, 'learning_rate': 0.07985155992831598, 'l2_leaf_reg': 62.52181000710482}. Best is trial 6 with value: 0.7412148425603788.\n"
     ]
    },
    {
     "name": "stdout",
     "output_type": "stream",
     "text": [
      "Stopped by overfitting detector  (300 iterations wait)\n",
      "\n",
      "bestTest = 0.7412148426\n",
      "bestIteration = 592\n",
      "\n",
      "Shrink model to first 593 iterations.\n",
      "저장 완료\n",
      "0:\ttest: 0.7126516\tbest: 0.7126516 (0)\ttotal: 68.3ms\tremaining: 2m 11s\n",
      "300:\ttest: 0.7402127\tbest: 0.7406367 (155)\ttotal: 24.5s\tremaining: 2m 12s\n"
     ]
    },
    {
     "name": "stderr",
     "output_type": "stream",
     "text": [
      "[I 2025-02-25 15:21:18,225] Trial 7 finished with value: 0.7406367000227655 and parameters: {'iterations': 1927, 'depth': 7, 'learning_rate': 0.0941937211034094, 'l2_leaf_reg': 0.05654822767791934}. Best is trial 6 with value: 0.7412148425603788.\n"
     ]
    },
    {
     "name": "stdout",
     "output_type": "stream",
     "text": [
      "Stopped by overfitting detector  (300 iterations wait)\n",
      "\n",
      "bestTest = 0.7406367\n",
      "bestIteration = 155\n",
      "\n",
      "Shrink model to first 156 iterations.\n",
      "0:\ttest: 0.7126608\tbest: 0.7126608 (0)\ttotal: 68.7ms\tremaining: 2m 10s\n",
      "300:\ttest: 0.7406911\tbest: 0.7406963 (299)\ttotal: 23.2s\tremaining: 2m 3s\n",
      "600:\ttest: 0.7405032\tbest: 0.7408918 (452)\ttotal: 48.5s\tremaining: 1m 45s\n"
     ]
    },
    {
     "name": "stderr",
     "output_type": "stream",
     "text": [
      "[I 2025-02-25 15:22:19,926] Trial 8 finished with value: 0.7408918398680769 and parameters: {'iterations': 1904, 'depth': 7, 'learning_rate': 0.05155602859187331, 'l2_leaf_reg': 1.299974533316308}. Best is trial 6 with value: 0.7412148425603788.\n"
     ]
    },
    {
     "name": "stdout",
     "output_type": "stream",
     "text": [
      "Stopped by overfitting detector  (300 iterations wait)\n",
      "\n",
      "bestTest = 0.7408918399\n",
      "bestIteration = 452\n",
      "\n",
      "Shrink model to first 453 iterations.\n",
      "0:\ttest: 0.7096826\tbest: 0.7096826 (0)\ttotal: 62.8ms\tremaining: 2m 45s\n",
      "300:\ttest: 0.7401592\tbest: 0.7401601 (299)\ttotal: 19.9s\tremaining: 2m 34s\n",
      "600:\ttest: 0.7410061\tbest: 0.7411606 (470)\ttotal: 41.3s\tremaining: 2m 19s\n"
     ]
    },
    {
     "name": "stderr",
     "output_type": "stream",
     "text": [
      "[I 2025-02-25 15:23:13,893] Trial 9 finished with value: 0.7411605554593284 and parameters: {'iterations': 2639, 'depth': 6, 'learning_rate': 0.03968704290444751, 'l2_leaf_reg': 0.30557194377967184}. Best is trial 6 with value: 0.7412148425603788.\n"
     ]
    },
    {
     "name": "stdout",
     "output_type": "stream",
     "text": [
      "Stopped by overfitting detector  (300 iterations wait)\n",
      "\n",
      "bestTest = 0.7411605555\n",
      "bestIteration = 470\n",
      "\n",
      "Shrink model to first 471 iterations.\n",
      "0:\ttest: 0.7096801\tbest: 0.7096801 (0)\ttotal: 61.2ms\tremaining: 3m\n",
      "300:\ttest: 0.7409185\tbest: 0.7409185 (300)\ttotal: 20.2s\tremaining: 2m 57s\n",
      "600:\ttest: 0.7414339\tbest: 0.7415364 (498)\ttotal: 41.1s\tremaining: 2m 40s\n"
     ]
    },
    {
     "name": "stderr",
     "output_type": "stream",
     "text": [
      "[I 2025-02-25 15:24:09,165] Trial 10 finished with value: 0.7415363840434073 and parameters: {'iterations': 2945, 'depth': 6, 'learning_rate': 0.07265276039199581, 'l2_leaf_reg': 97.18545559492516}. Best is trial 10 with value: 0.7415363840434073.\n"
     ]
    },
    {
     "name": "stdout",
     "output_type": "stream",
     "text": [
      "Stopped by overfitting detector  (300 iterations wait)\n",
      "\n",
      "bestTest = 0.741536384\n",
      "bestIteration = 498\n",
      "\n",
      "Shrink model to first 499 iterations.\n",
      "저장 완료\n",
      "0:\ttest: 0.7097053\tbest: 0.7097053 (0)\ttotal: 61.5ms\tremaining: 3m 4s\n",
      "300:\ttest: 0.7405844\tbest: 0.7406033 (290)\ttotal: 20.2s\tremaining: 3m\n",
      "600:\ttest: 0.7411199\tbest: 0.7411331 (593)\ttotal: 41.2s\tremaining: 2m 44s\n",
      "900:\ttest: 0.7412395\tbest: 0.7413265 (821)\ttotal: 1m 2s\tremaining: 2m 25s\n"
     ]
    },
    {
     "name": "stderr",
     "output_type": "stream",
     "text": [
      "[I 2025-02-25 15:25:28,076] Trial 11 finished with value: 0.7413264662427026 and parameters: {'iterations': 2994, 'depth': 6, 'learning_rate': 0.07131044509072976, 'l2_leaf_reg': 73.1213351392818}. Best is trial 10 with value: 0.7415363840434073.\n"
     ]
    },
    {
     "name": "stdout",
     "output_type": "stream",
     "text": [
      "Stopped by overfitting detector  (300 iterations wait)\n",
      "\n",
      "bestTest = 0.7413264662\n",
      "bestIteration = 821\n",
      "\n",
      "Shrink model to first 822 iterations.\n",
      "0:\ttest: 0.7097047\tbest: 0.7097047 (0)\ttotal: 64.8ms\tremaining: 3m 7s\n",
      "300:\ttest: 0.7411432\tbest: 0.7411452 (297)\ttotal: 19.8s\tremaining: 2m 50s\n",
      "600:\ttest: 0.7417803\tbest: 0.7418075 (572)\ttotal: 40.9s\tremaining: 2m 36s\n",
      "900:\ttest: 0.7418311\tbest: 0.7418644 (704)\ttotal: 1m 2s\tremaining: 2m 17s\n",
      "1200:\ttest: 0.7419140\tbest: 0.7419473 (1169)\ttotal: 1m 23s\tremaining: 1m 58s\n"
     ]
    },
    {
     "name": "stderr",
     "output_type": "stream",
     "text": [
      "[I 2025-02-25 15:27:11,870] Trial 12 finished with value: 0.7419473292981775 and parameters: {'iterations': 2897, 'depth': 6, 'learning_rate': 0.06853332055535903, 'l2_leaf_reg': 87.13438924619796}. Best is trial 12 with value: 0.7419473292981775.\n"
     ]
    },
    {
     "name": "stdout",
     "output_type": "stream",
     "text": [
      "Stopped by overfitting detector  (300 iterations wait)\n",
      "\n",
      "bestTest = 0.7419473293\n",
      "bestIteration = 1169\n",
      "\n",
      "Shrink model to first 1170 iterations.\n",
      "저장 완료\n",
      "0:\ttest: 0.7126708\tbest: 0.7126708 (0)\ttotal: 79.2ms\tremaining: 3m 55s\n",
      "300:\ttest: 0.7405791\tbest: 0.7405791 (300)\ttotal: 26.9s\tremaining: 3m 58s\n",
      "600:\ttest: 0.7405330\tbest: 0.7408797 (443)\ttotal: 55.8s\tremaining: 3m 40s\n"
     ]
    },
    {
     "name": "stderr",
     "output_type": "stream",
     "text": [
      "[I 2025-02-25 15:28:21,868] Trial 13 finished with value: 0.7408796816539593 and parameters: {'iterations': 2975, 'depth': 8, 'learning_rate': 0.0628933885949758, 'l2_leaf_reg': 7.828901342687942}. Best is trial 12 with value: 0.7419473292981775.\n"
     ]
    },
    {
     "name": "stdout",
     "output_type": "stream",
     "text": [
      "Stopped by overfitting detector  (300 iterations wait)\n",
      "\n",
      "bestTest = 0.7408796817\n",
      "bestIteration = 443\n",
      "\n",
      "Shrink model to first 444 iterations.\n",
      "0:\ttest: 0.7181905\tbest: 0.7181905 (0)\ttotal: 76.6ms\tremaining: 3m 31s\n",
      "300:\ttest: 0.7396999\tbest: 0.7396999 (300)\ttotal: 25.2s\tremaining: 3m 25s\n",
      "600:\ttest: 0.7402756\tbest: 0.7404333 (518)\ttotal: 53.2s\tremaining: 3m 10s\n"
     ]
    },
    {
     "name": "stderr",
     "output_type": "stream",
     "text": [
      "[I 2025-02-25 15:29:36,528] Trial 14 finished with value: 0.7404332901622759 and parameters: {'iterations': 2754, 'depth': 8, 'learning_rate': 0.030866060002221384, 'l2_leaf_reg': 0.02939703823210393}. Best is trial 12 with value: 0.7419473292981775.\n"
     ]
    },
    {
     "name": "stdout",
     "output_type": "stream",
     "text": [
      "Stopped by overfitting detector  (300 iterations wait)\n",
      "\n",
      "bestTest = 0.7404332902\n",
      "bestIteration = 518\n",
      "\n",
      "Shrink model to first 519 iterations.\n",
      "0:\ttest: 0.7097050\tbest: 0.7097050 (0)\ttotal: 60.7ms\tremaining: 1m 31s\n",
      "300:\ttest: 0.7407421\tbest: 0.7407514 (296)\ttotal: 20.9s\tremaining: 1m 24s\n",
      "600:\ttest: 0.7406826\tbest: 0.7408506 (437)\ttotal: 42.4s\tremaining: 1m 4s\n"
     ]
    },
    {
     "name": "stderr",
     "output_type": "stream",
     "text": [
      "[I 2025-02-25 15:30:29,173] Trial 15 finished with value: 0.7408506043835532 and parameters: {'iterations': 1513, 'depth': 6, 'learning_rate': 0.08625378621185843, 'l2_leaf_reg': 9.663069382488304}. Best is trial 12 with value: 0.7419473292981775.\n"
     ]
    },
    {
     "name": "stdout",
     "output_type": "stream",
     "text": [
      "Stopped by overfitting detector  (300 iterations wait)\n",
      "\n",
      "bestTest = 0.7408506044\n",
      "bestIteration = 437\n",
      "\n",
      "Shrink model to first 438 iterations.\n",
      "0:\ttest: 0.7181964\tbest: 0.7181964 (0)\ttotal: 79.4ms\tremaining: 3m 44s\n",
      "300:\ttest: 0.7408305\tbest: 0.7408389 (297)\ttotal: 27s\tremaining: 3m 46s\n",
      "600:\ttest: 0.7403778\tbest: 0.7408479 (318)\ttotal: 56.7s\tremaining: 3m 29s\n"
     ]
    },
    {
     "name": "stderr",
     "output_type": "stream",
     "text": [
      "[I 2025-02-25 15:31:27,809] Trial 16 finished with value: 0.7408478527041333 and parameters: {'iterations': 2824, 'depth': 8, 'learning_rate': 0.061662991475729484, 'l2_leaf_reg': 1.8341589839267998}. Best is trial 12 with value: 0.7419473292981775.\n"
     ]
    },
    {
     "name": "stdout",
     "output_type": "stream",
     "text": [
      "Stopped by overfitting detector  (300 iterations wait)\n",
      "\n",
      "bestTest = 0.7408478527\n",
      "bestIteration = 318\n",
      "\n",
      "Shrink model to first 319 iterations.\n",
      "0:\ttest: 0.6962144\tbest: 0.6962144 (0)\ttotal: 53ms\tremaining: 2m 14s\n",
      "300:\ttest: 0.7405460\tbest: 0.7405460 (300)\ttotal: 17.5s\tremaining: 2m 10s\n",
      "600:\ttest: 0.7411116\tbest: 0.7411116 (600)\ttotal: 35.5s\tremaining: 1m 54s\n",
      "900:\ttest: 0.7412044\tbest: 0.7412244 (881)\ttotal: 53.7s\tremaining: 1m 38s\n",
      "1200:\ttest: 0.7412922\tbest: 0.7413022 (1184)\ttotal: 1m 12s\tremaining: 1m 20s\n",
      "1500:\ttest: 0.7412923\tbest: 0.7413411 (1346)\ttotal: 1m 30s\tremaining: 1m 3s\n"
     ]
    },
    {
     "name": "stderr",
     "output_type": "stream",
     "text": [
      "[I 2025-02-25 15:33:07,895] Trial 17 finished with value: 0.7413410545113728 and parameters: {'iterations': 2546, 'depth': 5, 'learning_rate': 0.0774911016692127, 'l2_leaf_reg': 80.62911323694684}. Best is trial 12 with value: 0.7419473292981775.\n"
     ]
    },
    {
     "name": "stdout",
     "output_type": "stream",
     "text": [
      "Stopped by overfitting detector  (300 iterations wait)\n",
      "\n",
      "bestTest = 0.7413410545\n",
      "bestIteration = 1346\n",
      "\n",
      "Shrink model to first 1347 iterations.\n",
      "0:\ttest: 0.7126516\tbest: 0.7126516 (0)\ttotal: 68.3ms\tremaining: 3m 12s\n",
      "300:\ttest: 0.7403266\tbest: 0.7404758 (280)\ttotal: 23.6s\tremaining: 3m 16s\n"
     ]
    },
    {
     "name": "stderr",
     "output_type": "stream",
     "text": [
      "[I 2025-02-25 15:33:55,258] Trial 18 finished with value: 0.7404758399410103 and parameters: {'iterations': 2815, 'depth': 7, 'learning_rate': 0.05970016430294879, 'l2_leaf_reg': 0.010016909578442512}. Best is trial 12 with value: 0.7419473292981775.\n"
     ]
    },
    {
     "name": "stdout",
     "output_type": "stream",
     "text": [
      "Stopped by overfitting detector  (300 iterations wait)\n",
      "\n",
      "bestTest = 0.7404758399\n",
      "bestIteration = 280\n",
      "\n",
      "Shrink model to first 281 iterations.\n",
      "0:\ttest: 0.6962156\tbest: 0.6962156 (0)\ttotal: 56ms\tremaining: 2m 17s\n",
      "300:\ttest: 0.7390692\tbest: 0.7390715 (298)\ttotal: 16.7s\tremaining: 1m 59s\n",
      "600:\ttest: 0.7407096\tbest: 0.7407156 (599)\ttotal: 34.7s\tremaining: 1m 47s\n",
      "900:\ttest: 0.7410902\tbest: 0.7411116 (878)\ttotal: 53.1s\tremaining: 1m 31s\n",
      "1200:\ttest: 0.7409903\tbest: 0.7411384 (1030)\ttotal: 1m 11s\tremaining: 1m 15s\n"
     ]
    },
    {
     "name": "stderr",
     "output_type": "stream",
     "text": [
      "[I 2025-02-25 15:35:15,122] Trial 19 finished with value: 0.7411383633434879 and parameters: {'iterations': 2460, 'depth': 5, 'learning_rate': 0.032760769261710856, 'l2_leaf_reg': 0.31055845032241847}. Best is trial 12 with value: 0.7419473292981775.\n"
     ]
    },
    {
     "name": "stdout",
     "output_type": "stream",
     "text": [
      "Stopped by overfitting detector  (300 iterations wait)\n",
      "\n",
      "bestTest = 0.7411383633\n",
      "bestIteration = 1030\n",
      "\n",
      "Shrink model to first 1031 iterations.\n",
      "0:\ttest: 0.7097050\tbest: 0.7097050 (0)\ttotal: 61.9ms\tremaining: 2m 48s\n",
      "300:\ttest: 0.7408404\tbest: 0.7408575 (295)\ttotal: 20.5s\tremaining: 2m 45s\n",
      "600:\ttest: 0.7408149\tbest: 0.7409364 (355)\ttotal: 42.4s\tremaining: 2m 29s\n"
     ]
    },
    {
     "name": "stderr",
     "output_type": "stream",
     "text": [
      "[I 2025-02-25 15:36:01,731] Trial 20 finished with value: 0.7409364385163361 and parameters: {'iterations': 2723, 'depth': 6, 'learning_rate': 0.08459797786417986, 'l2_leaf_reg': 20.419787539717326}. Best is trial 12 with value: 0.7419473292981775.\n"
     ]
    },
    {
     "name": "stdout",
     "output_type": "stream",
     "text": [
      "Stopped by overfitting detector  (300 iterations wait)\n",
      "\n",
      "bestTest = 0.7409364385\n",
      "bestIteration = 355\n",
      "\n",
      "Shrink model to first 356 iterations.\n",
      "0:\ttest: 0.6962144\tbest: 0.6962144 (0)\ttotal: 54.3ms\tremaining: 2m 20s\n",
      "300:\ttest: 0.7406370\tbest: 0.7406392 (299)\ttotal: 18.1s\tremaining: 2m 18s\n",
      "600:\ttest: 0.7410517\tbest: 0.7410517 (600)\ttotal: 36s\tremaining: 1m 59s\n",
      "900:\ttest: 0.7412321\tbest: 0.7412321 (900)\ttotal: 54.2s\tremaining: 1m 41s\n",
      "1200:\ttest: 0.7412549\tbest: 0.7412927 (1078)\ttotal: 1m 12s\tremaining: 1m 24s\n",
      "1500:\ttest: 0.7411726\tbest: 0.7413012 (1316)\ttotal: 1m 31s\tremaining: 1m 6s\n"
     ]
    },
    {
     "name": "stderr",
     "output_type": "stream",
     "text": [
      "[I 2025-02-25 15:37:40,415] Trial 21 finished with value: 0.741301188910543 and parameters: {'iterations': 2596, 'depth': 5, 'learning_rate': 0.07744540398025425, 'l2_leaf_reg': 89.64660875312273}. Best is trial 12 with value: 0.7419473292981775.\n"
     ]
    },
    {
     "name": "stdout",
     "output_type": "stream",
     "text": [
      "Stopped by overfitting detector  (300 iterations wait)\n",
      "\n",
      "bestTest = 0.7413011889\n",
      "bestIteration = 1316\n",
      "\n",
      "Shrink model to first 1317 iterations.\n",
      "0:\ttest: 0.6962153\tbest: 0.6962153 (0)\ttotal: 55.7ms\tremaining: 2m 41s\n",
      "300:\ttest: 0.7406852\tbest: 0.7406894 (296)\ttotal: 17.6s\tremaining: 2m 31s\n",
      "600:\ttest: 0.7407936\tbest: 0.7409956 (482)\ttotal: 35.9s\tremaining: 2m 17s\n"
     ]
    },
    {
     "name": "stderr",
     "output_type": "stream",
     "text": [
      "[I 2025-02-25 15:38:27,808] Trial 22 finished with value: 0.7409956413159748 and parameters: {'iterations': 2901, 'depth': 5, 'learning_rate': 0.07182943923727259, 'l2_leaf_reg': 2.2815014894024164}. Best is trial 12 with value: 0.7419473292981775.\n"
     ]
    },
    {
     "name": "stdout",
     "output_type": "stream",
     "text": [
      "Stopped by overfitting detector  (300 iterations wait)\n",
      "\n",
      "bestTest = 0.7409956413\n",
      "bestIteration = 482\n",
      "\n",
      "Shrink model to first 483 iterations.\n",
      "0:\ttest: 0.7097050\tbest: 0.7097050 (0)\ttotal: 61.8ms\tremaining: 2m 45s\n",
      "300:\ttest: 0.7407147\tbest: 0.7408213 (270)\ttotal: 20.8s\tremaining: 2m 44s\n"
     ]
    },
    {
     "name": "stderr",
     "output_type": "stream",
     "text": [
      "[I 2025-02-25 15:39:08,427] Trial 23 finished with value: 0.7408212650484405 and parameters: {'iterations': 2684, 'depth': 6, 'learning_rate': 0.09983741797136365, 'l2_leaf_reg': 24.246184155884688}. Best is trial 12 with value: 0.7419473292981775.\n"
     ]
    },
    {
     "name": "stdout",
     "output_type": "stream",
     "text": [
      "Stopped by overfitting detector  (300 iterations wait)\n",
      "\n",
      "bestTest = 0.740821265\n",
      "bestIteration = 270\n",
      "\n",
      "Shrink model to first 271 iterations.\n",
      "0:\ttest: 0.7126267\tbest: 0.7126267 (0)\ttotal: 69.4ms\tremaining: 3m 18s\n",
      "300:\ttest: 0.7407499\tbest: 0.7407603 (296)\ttotal: 23.3s\tremaining: 3m 17s\n",
      "600:\ttest: 0.7411031\tbest: 0.7411125 (559)\ttotal: 48.3s\tremaining: 3m 1s\n",
      "900:\ttest: 0.7413171\tbest: 0.7413594 (892)\ttotal: 1m 13s\tremaining: 2m 40s\n"
     ]
    },
    {
     "name": "stderr",
     "output_type": "stream",
     "text": [
      "[I 2025-02-25 15:40:47,094] Trial 24 finished with value: 0.7413593712460969 and parameters: {'iterations': 2861, 'depth': 7, 'learning_rate': 0.0634339002537276, 'l2_leaf_reg': 36.88308849820684}. Best is trial 12 with value: 0.7419473292981775.\n"
     ]
    },
    {
     "name": "stdout",
     "output_type": "stream",
     "text": [
      "Stopped by overfitting detector  (300 iterations wait)\n",
      "\n",
      "bestTest = 0.7413593712\n",
      "bestIteration = 892\n",
      "\n",
      "Shrink model to first 893 iterations.\n",
      "0:\ttest: 0.7126294\tbest: 0.7126294 (0)\ttotal: 76.6ms\tremaining: 3m 42s\n",
      "300:\ttest: 0.7408396\tbest: 0.7408396 (300)\ttotal: 25.2s\tremaining: 3m 37s\n",
      "600:\ttest: 0.7413352\tbest: 0.7414315 (544)\ttotal: 54.2s\tremaining: 3m 27s\n"
     ]
    },
    {
     "name": "stderr",
     "output_type": "stream",
     "text": [
      "[I 2025-02-25 15:42:05,387] Trial 25 finished with value: 0.7414314668351674 and parameters: {'iterations': 2903, 'depth': 8, 'learning_rate': 0.05439067859873772, 'l2_leaf_reg': 24.803606523449552}. Best is trial 12 with value: 0.7419473292981775.\n"
     ]
    },
    {
     "name": "stdout",
     "output_type": "stream",
     "text": [
      "Stopped by overfitting detector  (300 iterations wait)\n",
      "\n",
      "bestTest = 0.7414314668\n",
      "bestIteration = 544\n",
      "\n",
      "Shrink model to first 545 iterations.\n",
      "0:\ttest: 0.7182085\tbest: 0.7182085 (0)\ttotal: 81.1ms\tremaining: 4m 2s\n",
      "300:\ttest: 0.7409072\tbest: 0.7409126 (291)\ttotal: 26.7s\tremaining: 3m 58s\n",
      "600:\ttest: 0.7409495\tbest: 0.7412784 (505)\ttotal: 56.2s\tremaining: 3m 43s\n"
     ]
    },
    {
     "name": "stderr",
     "output_type": "stream",
     "text": [
      "[I 2025-02-25 15:43:22,135] Trial 26 finished with value: 0.741278448841225 and parameters: {'iterations': 2991, 'depth': 8, 'learning_rate': 0.05361821486127472, 'l2_leaf_reg': 4.342397790956773}. Best is trial 12 with value: 0.7419473292981775.\n"
     ]
    },
    {
     "name": "stdout",
     "output_type": "stream",
     "text": [
      "Stopped by overfitting detector  (300 iterations wait)\n",
      "\n",
      "bestTest = 0.7412784488\n",
      "bestIteration = 505\n",
      "\n",
      "Shrink model to first 506 iterations.\n",
      "0:\ttest: 0.7179652\tbest: 0.7179652 (0)\ttotal: 88.1ms\tremaining: 4m 13s\n",
      "300:\ttest: 0.7399095\tbest: 0.7399423 (255)\ttotal: 30.4s\tremaining: 4m 20s\n",
      "600:\ttest: 0.7392041\tbest: 0.7400509 (348)\ttotal: 1m 4s\tremaining: 4m 4s\n"
     ]
    },
    {
     "name": "stderr",
     "output_type": "stream",
     "text": [
      "[I 2025-02-25 15:44:32,243] Trial 27 finished with value: 0.7400509298139176 and parameters: {'iterations': 2884, 'depth': 9, 'learning_rate': 0.044604437558391635, 'l2_leaf_reg': 0.45255823702076187}. Best is trial 12 with value: 0.7419473292981775.\n"
     ]
    },
    {
     "name": "stdout",
     "output_type": "stream",
     "text": [
      "Stopped by overfitting detector  (300 iterations wait)\n",
      "\n",
      "bestTest = 0.7400509298\n",
      "bestIteration = 348\n",
      "\n",
      "Shrink model to first 349 iterations.\n",
      "0:\ttest: 0.7124200\tbest: 0.7124200 (0)\ttotal: 89ms\tremaining: 4m 5s\n",
      "300:\ttest: 0.7409200\tbest: 0.7409231 (279)\ttotal: 30.5s\tremaining: 4m 8s\n",
      "600:\ttest: 0.7409041\tbest: 0.7410345 (359)\ttotal: 1m 4s\tremaining: 3m 49s\n"
     ]
    },
    {
     "name": "stderr",
     "output_type": "stream",
     "text": [
      "[I 2025-02-25 15:45:43,019] Trial 28 finished with value: 0.7410344705700104 and parameters: {'iterations': 2758, 'depth': 9, 'learning_rate': 0.054998305185314914, 'l2_leaf_reg': 20.474793951514382}. Best is trial 12 with value: 0.7419473292981775.\n"
     ]
    },
    {
     "name": "stdout",
     "output_type": "stream",
     "text": [
      "Stopped by overfitting detector  (300 iterations wait)\n",
      "\n",
      "bestTest = 0.7410344706\n",
      "bestIteration = 359\n",
      "\n",
      "Shrink model to first 360 iterations.\n",
      "0:\ttest: 0.7179852\tbest: 0.7179852 (0)\ttotal: 90.4ms\tremaining: 3m 36s\n",
      "300:\ttest: 0.7399097\tbest: 0.7399097 (300)\ttotal: 29.8s\tremaining: 3m 27s\n",
      "600:\ttest: 0.7405723\tbest: 0.7406129 (579)\ttotal: 1m\tremaining: 2m 59s\n",
      "900:\ttest: 0.7409121\tbest: 0.7409339 (862)\ttotal: 1m 34s\tremaining: 2m 36s\n",
      "1200:\ttest: 0.7407890\tbest: 0.7409907 (1069)\ttotal: 2m 8s\tremaining: 2m 7s\n"
     ]
    },
    {
     "name": "stderr",
     "output_type": "stream",
     "text": [
      "[I 2025-02-25 15:48:11,212] Trial 29 finished with value: 0.7409906938519675 and parameters: {'iterations': 2392, 'depth': 9, 'learning_rate': 0.023174536645179013, 'l2_leaf_reg': 4.438928364247818}. Best is trial 12 with value: 0.7419473292981775.\n"
     ]
    },
    {
     "name": "stdout",
     "output_type": "stream",
     "text": [
      "Stopped by overfitting detector  (300 iterations wait)\n",
      "\n",
      "bestTest = 0.7409906939\n",
      "bestIteration = 1069\n",
      "\n",
      "Shrink model to first 1070 iterations.\n",
      "0:\ttest: 0.7126685\tbest: 0.7126685 (0)\ttotal: 72.4ms\tremaining: 2m 45s\n",
      "300:\ttest: 0.7410246\tbest: 0.7410461 (292)\ttotal: 23.9s\tremaining: 2m 37s\n",
      "600:\ttest: 0.7412868\tbest: 0.7413864 (594)\ttotal: 49.5s\tremaining: 2m 19s\n"
     ]
    },
    {
     "name": "stderr",
     "output_type": "stream",
     "text": [
      "[I 2025-02-25 15:49:26,153] Trial 30 finished with value: 0.7413863519988497 and parameters: {'iterations': 2291, 'depth': 7, 'learning_rate': 0.06845494143715, 'l2_leaf_reg': 13.45496577396606}. Best is trial 12 with value: 0.7419473292981775.\n"
     ]
    },
    {
     "name": "stdout",
     "output_type": "stream",
     "text": [
      "Stopped by overfitting detector  (300 iterations wait)\n",
      "\n",
      "bestTest = 0.741386352\n",
      "bestIteration = 594\n",
      "\n",
      "Shrink model to first 595 iterations.\n",
      "0:\ttest: 0.7126294\tbest: 0.7126294 (0)\ttotal: 74.2ms\tremaining: 2m 48s\n",
      "300:\ttest: 0.7412379\tbest: 0.7412379 (300)\ttotal: 23.4s\tremaining: 2m 33s\n",
      "600:\ttest: 0.7416348\tbest: 0.7416916 (540)\ttotal: 48.6s\tremaining: 2m 14s\n"
     ]
    },
    {
     "name": "stderr",
     "output_type": "stream",
     "text": [
      "[I 2025-02-25 15:50:35,771] Trial 31 finished with value: 0.7416915541444862 and parameters: {'iterations': 2268, 'depth': 7, 'learning_rate': 0.06792247328915654, 'l2_leaf_reg': 24.36196292994454}. Best is trial 12 with value: 0.7419473292981775.\n"
     ]
    },
    {
     "name": "stdout",
     "output_type": "stream",
     "text": [
      "Stopped by overfitting detector  (300 iterations wait)\n",
      "\n",
      "bestTest = 0.7416915541\n",
      "bestIteration = 540\n",
      "\n",
      "Shrink model to first 541 iterations.\n",
      "0:\ttest: 0.7097053\tbest: 0.7097053 (0)\ttotal: 62.5ms\tremaining: 2m 15s\n",
      "300:\ttest: 0.7409886\tbest: 0.7409976 (298)\ttotal: 21.3s\tremaining: 2m 12s\n",
      "600:\ttest: 0.7416441\tbest: 0.7416682 (583)\ttotal: 43.6s\tremaining: 1m 53s\n",
      "900:\ttest: 0.7417734\tbest: 0.7417832 (896)\ttotal: 1m 5s\tremaining: 1m 32s\n"
     ]
    },
    {
     "name": "stderr",
     "output_type": "stream",
     "text": [
      "[I 2025-02-25 15:52:03,526] Trial 32 finished with value: 0.7417832013489439 and parameters: {'iterations': 2171, 'depth': 6, 'learning_rate': 0.06664214223634575, 'l2_leaf_reg': 31.781786477153968}. Best is trial 12 with value: 0.7419473292981775.\n"
     ]
    },
    {
     "name": "stdout",
     "output_type": "stream",
     "text": [
      "Stopped by overfitting detector  (300 iterations wait)\n",
      "\n",
      "bestTest = 0.7417832013\n",
      "bestIteration = 896\n",
      "\n",
      "Shrink model to first 897 iterations.\n",
      "0:\ttest: 0.7097053\tbest: 0.7097053 (0)\ttotal: 64.2ms\tremaining: 2m 19s\n",
      "300:\ttest: 0.7412324\tbest: 0.7412324 (300)\ttotal: 22.1s\tremaining: 2m 17s\n",
      "600:\ttest: 0.7415967\tbest: 0.7415995 (595)\ttotal: 43.7s\tremaining: 1m 54s\n",
      "900:\ttest: 0.7415394\tbest: 0.7416687 (847)\ttotal: 1m 6s\tremaining: 1m 33s\n",
      "1200:\ttest: 0.7416842\tbest: 0.7417499 (1158)\ttotal: 1m 28s\tremaining: 1m 11s\n"
     ]
    },
    {
     "name": "stderr",
     "output_type": "stream",
     "text": [
      "[I 2025-02-25 15:53:51,639] Trial 33 finished with value: 0.7417499389845861 and parameters: {'iterations': 2172, 'depth': 6, 'learning_rate': 0.08276021446119664, 'l2_leaf_reg': 41.20006472619695}. Best is trial 12 with value: 0.7419473292981775.\n"
     ]
    },
    {
     "name": "stdout",
     "output_type": "stream",
     "text": [
      "Stopped by overfitting detector  (300 iterations wait)\n",
      "\n",
      "bestTest = 0.741749939\n",
      "bestIteration = 1158\n",
      "\n",
      "Shrink model to first 1159 iterations.\n",
      "0:\ttest: 0.7097034\tbest: 0.7097034 (0)\ttotal: 66ms\tremaining: 2m 24s\n",
      "300:\ttest: 0.7407758\tbest: 0.7407996 (268)\ttotal: 21.3s\tremaining: 2m 14s\n",
      "600:\ttest: 0.7406367\tbest: 0.7410676 (404)\ttotal: 43.4s\tremaining: 1m 54s\n"
     ]
    },
    {
     "name": "stderr",
     "output_type": "stream",
     "text": [
      "[I 2025-02-25 15:54:42,962] Trial 34 finished with value: 0.7410675661659185 and parameters: {'iterations': 2192, 'depth': 6, 'learning_rate': 0.08099395505829877, 'l2_leaf_reg': 5.355032994485218}. Best is trial 12 with value: 0.7419473292981775.\n"
     ]
    },
    {
     "name": "stdout",
     "output_type": "stream",
     "text": [
      "Stopped by overfitting detector  (300 iterations wait)\n",
      "\n",
      "bestTest = 0.7410675662\n",
      "bestIteration = 404\n",
      "\n",
      "Shrink model to first 405 iterations.\n",
      "0:\ttest: 0.7126320\tbest: 0.7126320 (0)\ttotal: 74.2ms\tremaining: 2m 39s\n",
      "300:\ttest: 0.7412218\tbest: 0.7413200 (279)\ttotal: 24.2s\tremaining: 2m 28s\n"
     ]
    },
    {
     "name": "stderr",
     "output_type": "stream",
     "text": [
      "[I 2025-02-25 15:55:31,064] Trial 35 finished with value: 0.7413199821265517 and parameters: {'iterations': 2145, 'depth': 7, 'learning_rate': 0.08971532944062331, 'l2_leaf_reg': 41.09509812202617}. Best is trial 12 with value: 0.7419473292981775.\n"
     ]
    },
    {
     "name": "stdout",
     "output_type": "stream",
     "text": [
      "Stopped by overfitting detector  (300 iterations wait)\n",
      "\n",
      "bestTest = 0.7413199821\n",
      "bestIteration = 279\n",
      "\n",
      "Shrink model to first 280 iterations.\n",
      "0:\ttest: 0.7096947\tbest: 0.7096947 (0)\ttotal: 62.5ms\tremaining: 1m 52s\n",
      "300:\ttest: 0.7406804\tbest: 0.7406804 (300)\ttotal: 21.1s\tremaining: 1m 44s\n",
      "600:\ttest: 0.7405744\tbest: 0.7408030 (403)\ttotal: 43.3s\tremaining: 1m 26s\n"
     ]
    },
    {
     "name": "stderr",
     "output_type": "stream",
     "text": [
      "[I 2025-02-25 15:56:22,243] Trial 36 finished with value: 0.7408029800791354 and parameters: {'iterations': 1798, 'depth': 6, 'learning_rate': 0.06669985198732055, 'l2_leaf_reg': 1.1449658944976202}. Best is trial 12 with value: 0.7419473292981775.\n"
     ]
    },
    {
     "name": "stdout",
     "output_type": "stream",
     "text": [
      "Stopped by overfitting detector  (300 iterations wait)\n",
      "\n",
      "bestTest = 0.7408029801\n",
      "bestIteration = 403\n",
      "\n",
      "Shrink model to first 404 iterations.\n",
      "0:\ttest: 0.6962147\tbest: 0.6962147 (0)\ttotal: 55.5ms\tremaining: 2m 5s\n",
      "300:\ttest: 0.7408395\tbest: 0.7408395 (300)\ttotal: 17.9s\tremaining: 1m 56s\n",
      "600:\ttest: 0.7410690\tbest: 0.7411694 (452)\ttotal: 36.5s\tremaining: 1m 40s\n"
     ]
    },
    {
     "name": "stderr",
     "output_type": "stream",
     "text": [
      "[I 2025-02-25 15:57:08,467] Trial 37 finished with value: 0.7411693663924201 and parameters: {'iterations': 2253, 'depth': 5, 'learning_rate': 0.07417884959553789, 'l2_leaf_reg': 12.447848838228719}. Best is trial 12 with value: 0.7419473292981775.\n"
     ]
    },
    {
     "name": "stdout",
     "output_type": "stream",
     "text": [
      "Stopped by overfitting detector  (300 iterations wait)\n",
      "\n",
      "bestTest = 0.7411693664\n",
      "bestIteration = 452\n",
      "\n",
      "Shrink model to first 453 iterations.\n",
      "0:\ttest: 0.7126322\tbest: 0.7126322 (0)\ttotal: 69.6ms\tremaining: 2m 46s\n",
      "300:\ttest: 0.7409875\tbest: 0.7410542 (259)\ttotal: 24.1s\tremaining: 2m 47s\n",
      "600:\ttest: 0.7413183\tbest: 0.7414059 (571)\ttotal: 51.7s\tremaining: 2m 34s\n",
      "900:\ttest: 0.7412959\tbest: 0.7414953 (694)\ttotal: 1m 17s\tremaining: 2m 8s\n"
     ]
    },
    {
     "name": "stderr",
     "output_type": "stream",
     "text": [
      "[I 2025-02-25 15:58:34,706] Trial 38 finished with value: 0.7414953034153011 and parameters: {'iterations': 2395, 'depth': 7, 'learning_rate': 0.08268523317959117, 'l2_leaf_reg': 37.621055271832695}. Best is trial 12 with value: 0.7419473292981775.\n"
     ]
    },
    {
     "name": "stdout",
     "output_type": "stream",
     "text": [
      "Stopped by overfitting detector  (300 iterations wait)\n",
      "\n",
      "bestTest = 0.7414953034\n",
      "bestIteration = 694\n",
      "\n",
      "Shrink model to first 695 iterations.\n",
      "0:\ttest: 0.6946616\tbest: 0.6946616 (0)\ttotal: 58.9ms\tremaining: 2m\n",
      "300:\ttest: 0.7400013\tbest: 0.7400013 (300)\ttotal: 14.4s\tremaining: 1m 23s\n",
      "600:\ttest: 0.7407767\tbest: 0.7408100 (583)\ttotal: 29.2s\tremaining: 1m 10s\n",
      "900:\ttest: 0.7408857\tbest: 0.7409472 (832)\ttotal: 44.3s\tremaining: 56.1s\n"
     ]
    },
    {
     "name": "stderr",
     "output_type": "stream",
     "text": [
      "[I 2025-02-25 15:59:30,927] Trial 39 finished with value: 0.7409471911106635 and parameters: {'iterations': 2043, 'depth': 4, 'learning_rate': 0.058334609809085614, 'l2_leaf_reg': 3.3852956662506277}. Best is trial 12 with value: 0.7419473292981775.\n",
      "[I 2025-02-25 15:59:30,930] A new study created in memory with name: no-name-d36bd2b4-a441-4587-92cd-a00cfae7a5b0\n"
     ]
    },
    {
     "name": "stdout",
     "output_type": "stream",
     "text": [
      "Stopped by overfitting detector  (300 iterations wait)\n",
      "\n",
      "bestTest = 0.7409471911\n",
      "bestIteration = 832\n",
      "\n",
      "Shrink model to first 833 iterations.\n"
     ]
    },
    {
     "name": "stderr",
     "output_type": "stream",
     "text": [
      "[I 2025-02-25 15:59:54,011] Trial 0 finished with value: 0.7312648213970655 and parameters: {'num_iterations': 2366, 'objective': 'binary', 'metric': 'auc', 'verbose': -1, 'learning_rate': 0.0652646236447618, 'n_estimators': 236, 'min_child_samples': 45, 'subsample': 0.7, 'colsample_bytree': 0.5}. Best is trial 0 with value: 0.7312648213970655.\n",
      "[I 2025-02-25 16:00:10,846] Trial 1 finished with value: 0.740679198182694 and parameters: {'num_iterations': 1510, 'objective': 'binary', 'metric': 'auc', 'verbose': -1, 'learning_rate': 0.005231880959249543, 'n_estimators': 1411, 'min_child_samples': 10, 'subsample': 1.0, 'colsample_bytree': 0.5}. Best is trial 1 with value: 0.740679198182694.\n",
      "[I 2025-02-25 16:00:30,452] Trial 2 finished with value: 0.7407712424548891 and parameters: {'num_iterations': 2334, 'objective': 'binary', 'metric': 'auc', 'verbose': -1, 'learning_rate': 0.006578527777128852, 'n_estimators': 931, 'min_child_samples': 15, 'subsample': 0.5, 'colsample_bytree': 1.0}. Best is trial 2 with value: 0.7407712424548891.\n",
      "[I 2025-02-25 16:00:46,821] Trial 3 finished with value: 0.7407118212679947 and parameters: {'num_iterations': 1620, 'objective': 'binary', 'metric': 'auc', 'verbose': -1, 'learning_rate': 0.0058823249237283685, 'n_estimators': 837, 'min_child_samples': 10, 'subsample': 0.9, 'colsample_bytree': 0.6}. Best is trial 2 with value: 0.7407712424548891.\n",
      "[I 2025-02-25 16:01:03,145] Trial 4 finished with value: 0.740649600753552 and parameters: {'num_iterations': 1997, 'objective': 'binary', 'metric': 'auc', 'verbose': -1, 'learning_rate': 0.010907507425244923, 'n_estimators': 1597, 'min_child_samples': 50, 'subsample': 0.6, 'colsample_bytree': 0.8}. Best is trial 2 with value: 0.7407712424548891.\n",
      "[I 2025-02-25 16:01:25,659] Trial 5 finished with value: 0.7368041942805108 and parameters: {'num_iterations': 2909, 'objective': 'binary', 'metric': 'auc', 'verbose': -1, 'learning_rate': 0.019760591962733942, 'n_estimators': 612, 'min_child_samples': 30, 'subsample': 0.7, 'colsample_bytree': 0.9}. Best is trial 2 with value: 0.7407712424548891.\n",
      "[I 2025-02-25 16:01:46,255] Trial 6 finished with value: 0.7381372221469867 and parameters: {'num_iterations': 2639, 'objective': 'binary', 'metric': 'auc', 'verbose': -1, 'learning_rate': 0.017862094446750985, 'n_estimators': 794, 'min_child_samples': 35, 'subsample': 1.0, 'colsample_bytree': 0.8}. Best is trial 2 with value: 0.7407712424548891.\n",
      "[I 2025-02-25 16:02:02,669] Trial 7 finished with value: 0.7400319023279438 and parameters: {'num_iterations': 1580, 'objective': 'binary', 'metric': 'auc', 'verbose': -1, 'learning_rate': 0.01776722177611332, 'n_estimators': 529, 'min_child_samples': 25, 'subsample': 0.8, 'colsample_bytree': 0.5}. Best is trial 2 with value: 0.7407712424548891.\n",
      "[I 2025-02-25 16:02:20,117] Trial 8 finished with value: 0.7376401568706628 and parameters: {'num_iterations': 1911, 'objective': 'binary', 'metric': 'auc', 'verbose': -1, 'learning_rate': 0.0304747553332844, 'n_estimators': 1328, 'min_child_samples': 10, 'subsample': 0.7, 'colsample_bytree': 0.6}. Best is trial 2 with value: 0.7407712424548891.\n",
      "[I 2025-02-25 16:02:47,539] Trial 9 finished with value: 0.7366058708577368 and parameters: {'num_iterations': 2739, 'objective': 'binary', 'metric': 'auc', 'verbose': -1, 'learning_rate': 0.02691531614176271, 'n_estimators': 1438, 'min_child_samples': 20, 'subsample': 0.6, 'colsample_bytree': 0.5}. Best is trial 2 with value: 0.7407712424548891.\n",
      "[I 2025-02-25 16:03:05,020] Trial 10 finished with value: 0.7260512545041478 and parameters: {'num_iterations': 2334, 'objective': 'binary', 'metric': 'auc', 'verbose': -1, 'learning_rate': 0.08223556891145911, 'n_estimators': 1917, 'min_child_samples': 20, 'subsample': 0.5, 'colsample_bytree': 1.0}. Best is trial 2 with value: 0.7407712424548891.\n",
      "[I 2025-02-25 16:03:22,782] Trial 11 finished with value: 0.7407438011035609 and parameters: {'num_iterations': 2009, 'objective': 'binary', 'metric': 'auc', 'verbose': -1, 'learning_rate': 0.005637168073461897, 'n_estimators': 1002, 'min_child_samples': 10, 'subsample': 0.9, 'colsample_bytree': 0.7}. Best is trial 2 with value: 0.7407712424548891.\n",
      "[I 2025-02-25 16:03:40,355] Trial 12 finished with value: 0.7404775036548299 and parameters: {'num_iterations': 2082, 'objective': 'binary', 'metric': 'auc', 'verbose': -1, 'learning_rate': 0.009011302975108652, 'n_estimators': 1042, 'min_child_samples': 15, 'subsample': 0.9, 'colsample_bytree': 0.7}. Best is trial 2 with value: 0.7407712424548891.\n",
      "[I 2025-02-25 16:04:00,808] Trial 13 finished with value: 0.7402362175028745 and parameters: {'num_iterations': 2482, 'objective': 'binary', 'metric': 'auc', 'verbose': -1, 'learning_rate': 0.008762950699786708, 'n_estimators': 1090, 'min_child_samples': 20, 'subsample': 0.5, 'colsample_bytree': 1.0}. Best is trial 2 with value: 0.7407712424548891.\n",
      "[I 2025-02-25 16:04:19,425] Trial 14 finished with value: 0.7407239199219517 and parameters: {'num_iterations': 2158, 'objective': 'binary', 'metric': 'auc', 'verbose': -1, 'learning_rate': 0.006937488043229892, 'n_estimators': 1086, 'min_child_samples': 35, 'subsample': 0.9, 'colsample_bytree': 0.7}. Best is trial 2 with value: 0.7407712424548891.\n",
      "[I 2025-02-25 16:04:34,766] Trial 15 finished with value: 0.7396065951331138 and parameters: {'num_iterations': 1849, 'objective': 'binary', 'metric': 'auc', 'verbose': -1, 'learning_rate': 0.012915147920823086, 'n_estimators': 208, 'min_child_samples': 15, 'subsample': 0.8, 'colsample_bytree': 0.9}. Best is trial 2 with value: 0.7407712424548891.\n",
      "[I 2025-02-25 16:04:48,921] Trial 16 finished with value: 0.7355093444769811 and parameters: {'num_iterations': 1813, 'objective': 'binary', 'metric': 'auc', 'verbose': -1, 'learning_rate': 0.03901437770924474, 'n_estimators': 502, 'min_child_samples': 15, 'subsample': 0.6, 'colsample_bytree': 0.9}. Best is trial 2 with value: 0.7407712424548891.\n",
      "[I 2025-02-25 16:05:10,009] Trial 17 finished with value: 0.7407148231000891 and parameters: {'num_iterations': 2492, 'objective': 'binary', 'metric': 'auc', 'verbose': -1, 'learning_rate': 0.007238111112271453, 'n_estimators': 883, 'min_child_samples': 25, 'subsample': 0.8, 'colsample_bytree': 0.7}. Best is trial 2 with value: 0.7407712424548891.\n",
      "[I 2025-02-25 16:05:27,656] Trial 18 finished with value: 0.7399424866441701 and parameters: {'num_iterations': 2177, 'objective': 'binary', 'metric': 'auc', 'verbose': -1, 'learning_rate': 0.01356820322695768, 'n_estimators': 1781, 'min_child_samples': 10, 'subsample': 0.9, 'colsample_bytree': 0.8}. Best is trial 2 with value: 0.7407712424548891.\n",
      "[I 2025-02-25 16:05:45,594] Trial 19 finished with value: 0.7407433325636308 and parameters: {'num_iterations': 1766, 'objective': 'binary', 'metric': 'auc', 'verbose': -1, 'learning_rate': 0.005236783691416719, 'n_estimators': 1235, 'min_child_samples': 25, 'subsample': 0.5, 'colsample_bytree': 0.6}. Best is trial 2 with value: 0.7407712424548891.\n",
      "[I 2025-02-25 16:06:04,601] Trial 20 finished with value: 0.740815519478281 and parameters: {'num_iterations': 2332, 'objective': 'binary', 'metric': 'auc', 'verbose': -1, 'learning_rate': 0.009171108341310656, 'n_estimators': 705, 'min_child_samples': 40, 'subsample': 1.0, 'colsample_bytree': 1.0}. Best is trial 20 with value: 0.740815519478281.\n",
      "[I 2025-02-25 16:06:23,319] Trial 21 finished with value: 0.7406934767385291 and parameters: {'num_iterations': 2268, 'objective': 'binary', 'metric': 'auc', 'verbose': -1, 'learning_rate': 0.008086986782249594, 'n_estimators': 674, 'min_child_samples': 40, 'subsample': 1.0, 'colsample_bytree': 1.0}. Best is trial 20 with value: 0.740815519478281.\n",
      "[I 2025-02-25 16:06:43,364] Trial 22 finished with value: 0.7401124951665937 and parameters: {'num_iterations': 2487, 'objective': 'binary', 'metric': 'auc', 'verbose': -1, 'learning_rate': 0.010896321473008364, 'n_estimators': 388, 'min_child_samples': 40, 'subsample': 1.0, 'colsample_bytree': 0.9}. Best is trial 20 with value: 0.740815519478281.\n",
      "[I 2025-02-25 16:07:00,879] Trial 23 finished with value: 0.7409759824922987 and parameters: {'num_iterations': 2021, 'objective': 'binary', 'metric': 'auc', 'verbose': -1, 'learning_rate': 0.006336688580705219, 'n_estimators': 968, 'min_child_samples': 50, 'subsample': 0.9, 'colsample_bytree': 1.0}. Best is trial 23 with value: 0.7409759824922987.\n",
      "[I 2025-02-25 16:07:21,843] Trial 24 finished with value: 0.7394903654650368 and parameters: {'num_iterations': 2653, 'objective': 'binary', 'metric': 'auc', 'verbose': -1, 'learning_rate': 0.013763055533112498, 'n_estimators': 746, 'min_child_samples': 50, 'subsample': 1.0, 'colsample_bytree': 1.0}. Best is trial 23 with value: 0.7409759824922987.\n",
      "[I 2025-02-25 16:07:41,581] Trial 25 finished with value: 0.7410600933511016 and parameters: {'num_iterations': 2377, 'objective': 'binary', 'metric': 'auc', 'verbose': -1, 'learning_rate': 0.007052563769954466, 'n_estimators': 910, 'min_child_samples': 45, 'subsample': 0.8, 'colsample_bytree': 1.0}. Best is trial 25 with value: 0.7410600933511016.\n",
      "[I 2025-02-25 16:07:59,645] Trial 26 finished with value: 0.7404394963310107 and parameters: {'num_iterations': 2215, 'objective': 'binary', 'metric': 'auc', 'verbose': -1, 'learning_rate': 0.010420390353483272, 'n_estimators': 1206, 'min_child_samples': 45, 'subsample': 0.8, 'colsample_bytree': 0.9}. Best is trial 25 with value: 0.7410600933511016.\n",
      "[I 2025-02-25 16:08:15,431] Trial 27 finished with value: 0.7331160186901055 and parameters: {'num_iterations': 2082, 'objective': 'binary', 'metric': 'auc', 'verbose': -1, 'learning_rate': 0.047947876079429776, 'n_estimators': 649, 'min_child_samples': 45, 'subsample': 0.9, 'colsample_bytree': 1.0}. Best is trial 25 with value: 0.7410600933511016.\n",
      "[I 2025-02-25 16:08:35,396] Trial 28 finished with value: 0.7405916129811894 and parameters: {'num_iterations': 2422, 'objective': 'binary', 'metric': 'auc', 'verbose': -1, 'learning_rate': 0.007948019285506872, 'n_estimators': 406, 'min_child_samples': 40, 'subsample': 0.8, 'colsample_bytree': 0.9}. Best is trial 25 with value: 0.7410600933511016.\n",
      "[I 2025-02-25 16:08:58,257] Trial 29 finished with value: 0.7384361188569541 and parameters: {'num_iterations': 2939, 'objective': 'binary', 'metric': 'auc', 'verbose': -1, 'learning_rate': 0.015761202642442556, 'n_estimators': 315, 'min_child_samples': 50, 'subsample': 0.7, 'colsample_bytree': 1.0}. Best is trial 25 with value: 0.7410600933511016.\n",
      "[I 2025-02-25 16:09:19,520] Trial 30 finished with value: 0.7403369774119044 and parameters: {'num_iterations': 2632, 'objective': 'binary', 'metric': 'auc', 'verbose': -1, 'learning_rate': 0.009695097631198139, 'n_estimators': 104, 'min_child_samples': 45, 'subsample': 0.9, 'colsample_bytree': 0.9}. Best is trial 25 with value: 0.7410600933511016.\n",
      "[I 2025-02-25 16:09:38,901] Trial 31 finished with value: 0.7410802882162232 and parameters: {'num_iterations': 2317, 'objective': 'binary', 'metric': 'auc', 'verbose': -1, 'learning_rate': 0.0066920405174033136, 'n_estimators': 912, 'min_child_samples': 35, 'subsample': 1.0, 'colsample_bytree': 1.0}. Best is trial 31 with value: 0.7410802882162232.\n",
      "[I 2025-02-25 16:09:58,146] Trial 32 finished with value: 0.7409869653859138 and parameters: {'num_iterations': 2286, 'objective': 'binary', 'metric': 'auc', 'verbose': -1, 'learning_rate': 0.006199875655307607, 'n_estimators': 1176, 'min_child_samples': 35, 'subsample': 1.0, 'colsample_bytree': 1.0}. Best is trial 31 with value: 0.7410802882162232.\n",
      "[I 2025-02-25 16:10:17,595] Trial 33 finished with value: 0.740900047258208 and parameters: {'num_iterations': 2255, 'objective': 'binary', 'metric': 'auc', 'verbose': -1, 'learning_rate': 0.005065066289305407, 'n_estimators': 1180, 'min_child_samples': 35, 'subsample': 1.0, 'colsample_bytree': 1.0}. Best is trial 31 with value: 0.7410802882162232.\n",
      "[I 2025-02-25 16:10:37,854] Trial 34 finished with value: 0.7408935750540891 and parameters: {'num_iterations': 2390, 'objective': 'binary', 'metric': 'auc', 'verbose': -1, 'learning_rate': 0.006510332113447528, 'n_estimators': 946, 'min_child_samples': 30, 'subsample': 1.0, 'colsample_bytree': 1.0}. Best is trial 31 with value: 0.7410802882162232.\n",
      "[I 2025-02-25 16:10:55,822] Trial 35 finished with value: 0.740840598276572 and parameters: {'num_iterations': 2093, 'objective': 'binary', 'metric': 'auc', 'verbose': -1, 'learning_rate': 0.006158997519218611, 'n_estimators': 1500, 'min_child_samples': 50, 'subsample': 0.9, 'colsample_bytree': 0.9}. Best is trial 31 with value: 0.7410802882162232.\n",
      "[I 2025-02-25 16:11:12,373] Trial 36 finished with value: 0.7409993340459323 and parameters: {'num_iterations': 1945, 'objective': 'binary', 'metric': 'auc', 'verbose': -1, 'learning_rate': 0.0070724371910410476, 'n_estimators': 848, 'min_child_samples': 45, 'subsample': 1.0, 'colsample_bytree': 1.0}. Best is trial 31 with value: 0.7410802882162232.\n",
      "[I 2025-02-25 16:11:33,487] Trial 37 finished with value: 0.7404605488624451 and parameters: {'num_iterations': 2561, 'objective': 'binary', 'metric': 'auc', 'verbose': -1, 'learning_rate': 0.007569268702445934, 'n_estimators': 1343, 'min_child_samples': 30, 'subsample': 1.0, 'colsample_bytree': 0.9}. Best is trial 31 with value: 0.7410802882162232.\n",
      "[I 2025-02-25 16:11:51,776] Trial 38 finished with value: 0.7404442333491174 and parameters: {'num_iterations': 2252, 'objective': 'binary', 'metric': 'auc', 'verbose': -1, 'learning_rate': 0.011329187122517707, 'n_estimators': 825, 'min_child_samples': 35, 'subsample': 1.0, 'colsample_bytree': 0.8}. Best is trial 31 with value: 0.7410802882162232.\n",
      "[I 2025-02-25 16:12:15,290] Trial 39 finished with value: 0.7410500276839597 and parameters: {'num_iterations': 2797, 'objective': 'binary', 'metric': 'auc', 'verbose': -1, 'learning_rate': 0.0050575795094025796, 'n_estimators': 1617, 'min_child_samples': 45, 'subsample': 1.0, 'colsample_bytree': 1.0}. Best is trial 31 with value: 0.7410802882162232.\n"
     ]
    },
    {
     "name": "stdout",
     "output_type": "stream",
     "text": [
      "Cat val score : 0.7419473292981775\n",
      "LGBM val score : 0.7409660081507365\n",
      "Ensemble val score : 0.7420357721659947\n"
     ]
    },
    {
     "name": "stderr",
     "output_type": "stream",
     "text": [
      "[I 2025-02-25 16:12:36,010] A new study created in memory with name: no-name-f45ca1a4-4ec4-48f6-85b1-6ad1fb00fddb\n"
     ]
    },
    {
     "name": "stdout",
     "output_type": "stream",
     "text": [
      "==================================================\n",
      "0:\ttest: 0.7227589\tbest: 0.7227589 (0)\ttotal: 151ms\tremaining: 5m 57s\n",
      "300:\ttest: 0.7330597\tbest: 0.7330597 (300)\ttotal: 41.5s\tremaining: 4m 44s\n",
      "600:\ttest: 0.7344199\tbest: 0.7344225 (596)\ttotal: 1m 22s\tremaining: 4m 3s\n",
      "900:\ttest: 0.7348073\tbest: 0.7348178 (897)\ttotal: 2m 4s\tremaining: 3m 23s\n",
      "1200:\ttest: 0.7350766\tbest: 0.7350805 (1198)\ttotal: 2m 51s\tremaining: 2m 46s\n",
      "1500:\ttest: 0.7351321\tbest: 0.7351767 (1430)\ttotal: 3m 42s\tremaining: 2m 8s\n"
     ]
    },
    {
     "name": "stderr",
     "output_type": "stream",
     "text": [
      "[I 2025-02-25 16:16:58,459] Trial 0 finished with value: 0.7351766526465233 and parameters: {'iterations': 2366, 'depth': 10, 'learning_rate': 0.01181021951839225, 'l2_leaf_reg': 9.980783802743254}. Best is trial 0 with value: 0.7351766526465233.\n"
     ]
    },
    {
     "name": "stdout",
     "output_type": "stream",
     "text": [
      "Stopped by overfitting detector  (300 iterations wait)\n",
      "\n",
      "bestTest = 0.7351766526\n",
      "bestIteration = 1430\n",
      "\n",
      "Shrink model to first 1431 iterations.\n",
      "저장 완료\n",
      "0:\ttest: 0.6888096\tbest: 0.6888096 (0)\ttotal: 63.6ms\tremaining: 2m 19s\n",
      "300:\ttest: 0.7236600\tbest: 0.7236600 (300)\ttotal: 14.6s\tremaining: 1m 31s\n"
     ]
    },
    {
     "name": "stderr",
     "output_type": "stream",
     "text": [
      "Training has stopped (degenerate solution on iteration 346, probably too small l2-regularization, try to increase it)\n",
      "[I 2025-02-25 16:17:15,297] Trial 1 finished with value: 0.7247429245465473 and parameters: {'iterations': 2193, 'depth': 4, 'learning_rate': 0.005671430811678843, 'l2_leaf_reg': 0.00012325230809466137}. Best is trial 0 with value: 0.7351766526465233.\n"
     ]
    },
    {
     "name": "stdout",
     "output_type": "stream",
     "text": [
      "\n",
      "bestTest = 0.7247429245\n",
      "bestIteration = 345\n",
      "\n",
      "Shrink model to first 346 iterations.\n",
      "0:\ttest: 0.6888096\tbest: 0.6888096 (0)\ttotal: 57.9ms\tremaining: 2m 26s\n",
      "300:\ttest: 0.7343409\tbest: 0.7343409 (300)\ttotal: 14.8s\tremaining: 1m 49s\n",
      "600:\ttest: 0.7340241\tbest: 0.7344169 (352)\ttotal: 30.3s\tremaining: 1m 37s\n"
     ]
    },
    {
     "name": "stderr",
     "output_type": "stream",
     "text": [
      "[I 2025-02-25 16:17:48,423] Trial 2 finished with value: 0.7344168798461395 and parameters: {'iterations': 2535, 'depth': 4, 'learning_rate': 0.09275339199839054, 'l2_leaf_reg': 0.0008705394248343123}. Best is trial 0 with value: 0.7351766526465233.\n"
     ]
    },
    {
     "name": "stdout",
     "output_type": "stream",
     "text": [
      "Stopped by overfitting detector  (300 iterations wait)\n",
      "\n",
      "bestTest = 0.7344168798\n",
      "bestIteration = 352\n",
      "\n",
      "Shrink model to first 353 iterations.\n",
      "0:\ttest: 0.6888096\tbest: 0.6888096 (0)\ttotal: 54.5ms\tremaining: 2m 7s\n",
      "300:\ttest: 0.7337850\tbest: 0.7337850 (300)\ttotal: 14.3s\tremaining: 1m 36s\n",
      "600:\ttest: 0.7344127\tbest: 0.7346932 (516)\ttotal: 29.5s\tremaining: 1m 25s\n"
     ]
    },
    {
     "name": "stderr",
     "output_type": "stream",
     "text": [
      "[I 2025-02-25 16:18:29,004] Trial 3 finished with value: 0.7346932330694971 and parameters: {'iterations': 2334, 'depth': 4, 'learning_rate': 0.04657568321363276, 'l2_leaf_reg': 0.0008640473331457248}. Best is trial 0 with value: 0.7351766526465233.\n"
     ]
    },
    {
     "name": "stdout",
     "output_type": "stream",
     "text": [
      "Stopped by overfitting detector  (300 iterations wait)\n",
      "\n",
      "bestTest = 0.7346932331\n",
      "bestIteration = 516\n",
      "\n",
      "Shrink model to first 517 iterations.\n",
      "0:\ttest: 0.7227306\tbest: 0.7227306 (0)\ttotal: 138ms\tremaining: 4m 1s\n",
      "300:\ttest: 0.7326636\tbest: 0.7326759 (298)\ttotal: 38.4s\tremaining: 3m 4s\n",
      "600:\ttest: 0.7334423\tbest: 0.7334554 (590)\ttotal: 1m 21s\tremaining: 2m 34s\n"
     ]
    },
    {
     "name": "stderr",
     "output_type": "stream",
     "text": [
      "[I 2025-02-25 16:20:34,052] Trial 4 finished with value: 0.7334553622032569 and parameters: {'iterations': 1742, 'depth': 10, 'learning_rate': 0.012622767482095846, 'l2_leaf_reg': 0.00021158816350109617}. Best is trial 0 with value: 0.7351766526465233.\n"
     ]
    },
    {
     "name": "stdout",
     "output_type": "stream",
     "text": [
      "Stopped by overfitting detector  (300 iterations wait)\n",
      "\n",
      "bestTest = 0.7334553622\n",
      "bestIteration = 590\n",
      "\n",
      "Shrink model to first 591 iterations.\n",
      "0:\ttest: 0.6888096\tbest: 0.6888096 (0)\ttotal: 65.3ms\tremaining: 2m 15s\n",
      "300:\ttest: 0.7344814\tbest: 0.7344814 (300)\ttotal: 15.9s\tremaining: 1m 34s\n",
      "600:\ttest: 0.7345071\tbest: 0.7346733 (566)\ttotal: 32.6s\tremaining: 1m 20s\n",
      "900:\ttest: 0.7345130\tbest: 0.7346927 (821)\ttotal: 48s\tremaining: 1m 2s\n"
     ]
    },
    {
     "name": "stderr",
     "output_type": "stream",
     "text": [
      "[I 2025-02-25 16:21:33,701] Trial 5 finished with value: 0.734692748573704 and parameters: {'iterations': 2082, 'depth': 4, 'learning_rate': 0.06995196593094148, 'l2_leaf_reg': 0.0018080296485396804}. Best is trial 0 with value: 0.7351766526465233.\n"
     ]
    },
    {
     "name": "stdout",
     "output_type": "stream",
     "text": [
      "Stopped by overfitting detector  (300 iterations wait)\n",
      "\n",
      "bestTest = 0.7346927486\n",
      "bestIteration = 821\n",
      "\n",
      "Shrink model to first 822 iterations.\n",
      "0:\ttest: 0.6975347\tbest: 0.6975347 (0)\ttotal: 72.2ms\tremaining: 2m 24s\n",
      "300:\ttest: 0.7349218\tbest: 0.7349218 (298)\ttotal: 18.7s\tremaining: 1m 45s\n",
      "600:\ttest: 0.7350271\tbest: 0.7351283 (475)\ttotal: 38s\tremaining: 1m 28s\n",
      "900:\ttest: 0.7351566\tbest: 0.7351754 (747)\ttotal: 56.2s\tremaining: 1m 8s\n"
     ]
    },
    {
     "name": "stderr",
     "output_type": "stream",
     "text": [
      "[I 2025-02-25 16:22:39,108] Trial 6 finished with value: 0.7351754175793787 and parameters: {'iterations': 1997, 'depth': 5, 'learning_rate': 0.07985155992831598, 'l2_leaf_reg': 62.52181000710482}. Best is trial 0 with value: 0.7351766526465233.\n"
     ]
    },
    {
     "name": "stdout",
     "output_type": "stream",
     "text": [
      "Stopped by overfitting detector  (300 iterations wait)\n",
      "\n",
      "bestTest = 0.7351754176\n",
      "bestIteration = 747\n",
      "\n",
      "Shrink model to first 748 iterations.\n",
      "0:\ttest: 0.7121280\tbest: 0.7121280 (0)\ttotal: 85.2ms\tremaining: 2m 44s\n",
      "300:\ttest: 0.7342498\tbest: 0.7347529 (166)\ttotal: 26.2s\tremaining: 2m 21s\n"
     ]
    },
    {
     "name": "stderr",
     "output_type": "stream",
     "text": [
      "[I 2025-02-25 16:23:20,728] Trial 7 finished with value: 0.7347529015063101 and parameters: {'iterations': 1927, 'depth': 7, 'learning_rate': 0.0941937211034094, 'l2_leaf_reg': 0.05654822767791934}. Best is trial 0 with value: 0.7351766526465233.\n"
     ]
    },
    {
     "name": "stdout",
     "output_type": "stream",
     "text": [
      "Stopped by overfitting detector  (300 iterations wait)\n",
      "\n",
      "bestTest = 0.7347529015\n",
      "bestIteration = 166\n",
      "\n",
      "Shrink model to first 167 iterations.\n",
      "0:\ttest: 0.7121274\tbest: 0.7121274 (0)\ttotal: 87.5ms\tremaining: 2m 46s\n",
      "300:\ttest: 0.7352481\tbest: 0.7353171 (297)\ttotal: 25.5s\tremaining: 2m 15s\n",
      "600:\ttest: 0.7351487\tbest: 0.7354021 (413)\ttotal: 51.7s\tremaining: 1m 52s\n"
     ]
    },
    {
     "name": "stderr",
     "output_type": "stream",
     "text": [
      "[I 2025-02-25 16:24:22,472] Trial 8 finished with value: 0.7354020662998975 and parameters: {'iterations': 1904, 'depth': 7, 'learning_rate': 0.05155602859187331, 'l2_leaf_reg': 1.299974533316308}. Best is trial 8 with value: 0.7354020662998975.\n"
     ]
    },
    {
     "name": "stdout",
     "output_type": "stream",
     "text": [
      "Stopped by overfitting detector  (300 iterations wait)\n",
      "\n",
      "bestTest = 0.7354020663\n",
      "bestIteration = 413\n",
      "\n",
      "Shrink model to first 414 iterations.\n",
      "저장 완료\n",
      "0:\ttest: 0.7118659\tbest: 0.7118659 (0)\ttotal: 77ms\tremaining: 3m 23s\n",
      "300:\ttest: 0.7343442\tbest: 0.7343819 (297)\ttotal: 20.8s\tremaining: 2m 41s\n",
      "600:\ttest: 0.7349371\tbest: 0.7350599 (487)\ttotal: 43.2s\tremaining: 2m 26s\n"
     ]
    },
    {
     "name": "stderr",
     "output_type": "stream",
     "text": [
      "[I 2025-02-25 16:25:19,912] Trial 9 finished with value: 0.7350599487295433 and parameters: {'iterations': 2639, 'depth': 6, 'learning_rate': 0.03968704290444751, 'l2_leaf_reg': 0.30557194377967184}. Best is trial 8 with value: 0.7354020662998975.\n"
     ]
    },
    {
     "name": "stdout",
     "output_type": "stream",
     "text": [
      "Stopped by overfitting detector  (300 iterations wait)\n",
      "\n",
      "bestTest = 0.7350599487\n",
      "bestIteration = 487\n",
      "\n",
      "Shrink model to first 488 iterations.\n",
      "0:\ttest: 0.7154641\tbest: 0.7154641 (0)\ttotal: 96.8ms\tremaining: 4m 44s\n",
      "300:\ttest: 0.7343450\tbest: 0.7343450 (300)\ttotal: 26.7s\tremaining: 3m 54s\n",
      "600:\ttest: 0.7351176\tbest: 0.7352153 (505)\ttotal: 56.3s\tremaining: 3m 39s\n"
     ]
    },
    {
     "name": "stderr",
     "output_type": "stream",
     "text": [
      "[I 2025-02-25 16:26:37,080] Trial 10 finished with value: 0.7352152812578299 and parameters: {'iterations': 2945, 'depth': 8, 'learning_rate': 0.032580115422505045, 'l2_leaf_reg': 0.87526046512315}. Best is trial 8 with value: 0.7354020662998975.\n"
     ]
    },
    {
     "name": "stdout",
     "output_type": "stream",
     "text": [
      "Stopped by overfitting detector  (300 iterations wait)\n",
      "\n",
      "bestTest = 0.7352152813\n",
      "bestIteration = 505\n",
      "\n",
      "Shrink model to first 506 iterations.\n",
      "0:\ttest: 0.7154648\tbest: 0.7154648 (0)\ttotal: 97.1ms\tremaining: 4m 50s\n",
      "300:\ttest: 0.7345951\tbest: 0.7345980 (298)\ttotal: 27s\tremaining: 4m 1s\n",
      "600:\ttest: 0.7353313\tbest: 0.7353494 (593)\ttotal: 56.2s\tremaining: 3m 43s\n",
      "900:\ttest: 0.7349323\tbest: 0.7353888 (629)\ttotal: 1m 26s\tremaining: 3m 20s\n"
     ]
    },
    {
     "name": "stderr",
     "output_type": "stream",
     "text": [
      "[I 2025-02-25 16:28:06,490] Trial 11 finished with value: 0.7353887506081416 and parameters: {'iterations': 2994, 'depth': 8, 'learning_rate': 0.031221552622542375, 'l2_leaf_reg': 0.4673950385408126}. Best is trial 8 with value: 0.7354020662998975.\n"
     ]
    },
    {
     "name": "stdout",
     "output_type": "stream",
     "text": [
      "Stopped by overfitting detector  (300 iterations wait)\n",
      "\n",
      "bestTest = 0.7353887506\n",
      "bestIteration = 629\n",
      "\n",
      "Shrink model to first 630 iterations.\n",
      "0:\ttest: 0.7154648\tbest: 0.7154648 (0)\ttotal: 95.7ms\tremaining: 2m 29s\n",
      "300:\ttest: 0.7337962\tbest: 0.7344370 (216)\ttotal: 27.4s\tremaining: 1m 55s\n"
     ]
    },
    {
     "name": "stderr",
     "output_type": "stream",
     "text": [
      "[I 2025-02-25 16:28:55,750] Trial 12 finished with value: 0.7344369903928296 and parameters: {'iterations': 1565, 'depth': 8, 'learning_rate': 0.061287874640168535, 'l2_leaf_reg': 0.028450890806958902}. Best is trial 8 with value: 0.7354020662998975.\n"
     ]
    },
    {
     "name": "stdout",
     "output_type": "stream",
     "text": [
      "Stopped by overfitting detector  (300 iterations wait)\n",
      "\n",
      "bestTest = 0.7344369904\n",
      "bestIteration = 216\n",
      "\n",
      "Shrink model to first 217 iterations.\n",
      "0:\ttest: 0.7154746\tbest: 0.7154746 (0)\ttotal: 96.5ms\tremaining: 4m 46s\n",
      "300:\ttest: 0.7343632\tbest: 0.7343650 (299)\ttotal: 25.9s\tremaining: 3m 50s\n",
      "600:\ttest: 0.7350954\tbest: 0.7350954 (600)\ttotal: 53.4s\tremaining: 3m 30s\n",
      "900:\ttest: 0.7348994\tbest: 0.7351569 (676)\ttotal: 1m 22s\tremaining: 3m 10s\n"
     ]
    },
    {
     "name": "stderr",
     "output_type": "stream",
     "text": [
      "[I 2025-02-25 16:30:26,058] Trial 13 finished with value: 0.7351569273137013 and parameters: {'iterations': 2975, 'depth': 8, 'learning_rate': 0.026319078501895434, 'l2_leaf_reg': 2.079573379652083}. Best is trial 8 with value: 0.7354020662998975.\n"
     ]
    },
    {
     "name": "stdout",
     "output_type": "stream",
     "text": [
      "Stopped by overfitting detector  (300 iterations wait)\n",
      "\n",
      "bestTest = 0.7351569273\n",
      "bestIteration = 676\n",
      "\n",
      "Shrink model to first 677 iterations.\n",
      "0:\ttest: 0.7121233\tbest: 0.7121233 (0)\ttotal: 80.1ms\tremaining: 3m 36s\n",
      "300:\ttest: 0.7352129\tbest: 0.7352129 (300)\ttotal: 23.8s\tremaining: 3m 9s\n",
      "600:\ttest: 0.7352602\tbest: 0.7354736 (441)\ttotal: 49.1s\tremaining: 2m 51s\n"
     ]
    },
    {
     "name": "stderr",
     "output_type": "stream",
     "text": [
      "[I 2025-02-25 16:31:27,273] Trial 14 finished with value: 0.7354736207687493 and parameters: {'iterations': 2702, 'depth': 7, 'learning_rate': 0.0536289472022267, 'l2_leaf_reg': 5.542114755250782}. Best is trial 14 with value: 0.7354736207687493.\n"
     ]
    },
    {
     "name": "stdout",
     "output_type": "stream",
     "text": [
      "Stopped by overfitting detector  (300 iterations wait)\n",
      "\n",
      "bestTest = 0.7354736208\n",
      "bestIteration = 441\n",
      "\n",
      "Shrink model to first 442 iterations.\n",
      "저장 완료\n",
      "0:\ttest: 0.7118659\tbest: 0.7118659 (0)\ttotal: 75.1ms\tremaining: 3m 21s\n",
      "300:\ttest: 0.7348053\tbest: 0.7348190 (296)\ttotal: 20.3s\tremaining: 2m 40s\n",
      "600:\ttest: 0.7351223\tbest: 0.7351451 (586)\ttotal: 41.8s\tremaining: 2m 24s\n",
      "900:\ttest: 0.7350383\tbest: 0.7352107 (725)\ttotal: 1m 3s\tremaining: 2m 5s\n"
     ]
    },
    {
     "name": "stderr",
     "output_type": "stream",
     "text": [
      "[I 2025-02-25 16:32:39,918] Trial 15 finished with value: 0.7352107420882275 and parameters: {'iterations': 2684, 'depth': 6, 'learning_rate': 0.05665316438649348, 'l2_leaf_reg': 16.81902590307642}. Best is trial 14 with value: 0.7354736207687493.\n"
     ]
    },
    {
     "name": "stdout",
     "output_type": "stream",
     "text": [
      "Stopped by overfitting detector  (300 iterations wait)\n",
      "\n",
      "bestTest = 0.7352107421\n",
      "bestIteration = 725\n",
      "\n",
      "Shrink model to first 726 iterations.\n",
      "0:\ttest: 0.7121241\tbest: 0.7121241 (0)\ttotal: 84.1ms\tremaining: 2m 30s\n",
      "300:\ttest: 0.7350853\tbest: 0.7351682 (250)\ttotal: 24.2s\tremaining: 2m\n",
      "600:\ttest: 0.7349781\tbest: 0.7352024 (320)\ttotal: 49.9s\tremaining: 1m 38s\n"
     ]
    },
    {
     "name": "stderr",
     "output_type": "stream",
     "text": [
      "[I 2025-02-25 16:33:31,638] Trial 16 finished with value: 0.7352023587224961 and parameters: {'iterations': 1793, 'depth': 7, 'learning_rate': 0.07180185194389979, 'l2_leaf_reg': 3.055459031171782}. Best is trial 14 with value: 0.7354736207687493.\n"
     ]
    },
    {
     "name": "stdout",
     "output_type": "stream",
     "text": [
      "Stopped by overfitting detector  (300 iterations wait)\n",
      "\n",
      "bestTest = 0.7352023587\n",
      "bestIteration = 320\n",
      "\n",
      "Shrink model to first 321 iterations.\n",
      "0:\ttest: 0.7200459\tbest: 0.7200459 (0)\ttotal: 109ms\tremaining: 2m 56s\n",
      "300:\ttest: 0.7338165\tbest: 0.7338989 (276)\ttotal: 30.6s\tremaining: 2m 13s\n"
     ]
    },
    {
     "name": "stderr",
     "output_type": "stream",
     "text": [
      "[I 2025-02-25 16:34:33,919] Trial 17 finished with value: 0.7338989181018318 and parameters: {'iterations': 1618, 'depth': 9, 'learning_rate': 0.05122368438861319, 'l2_leaf_reg': 0.016368401574579163}. Best is trial 14 with value: 0.7354736207687493.\n"
     ]
    },
    {
     "name": "stdout",
     "output_type": "stream",
     "text": [
      "Stopped by overfitting detector  (300 iterations wait)\n",
      "\n",
      "bestTest = 0.7338989181\n",
      "bestIteration = 276\n",
      "\n",
      "Shrink model to first 277 iterations.\n",
      "0:\ttest: 0.7118585\tbest: 0.7118585 (0)\ttotal: 74.2ms\tremaining: 3m 28s\n",
      "300:\ttest: 0.7344773\tbest: 0.7345113 (296)\ttotal: 20.9s\tremaining: 2m 53s\n",
      "600:\ttest: 0.7349343\tbest: 0.7349535 (544)\ttotal: 42.3s\tremaining: 2m 35s\n",
      "900:\ttest: 0.7349823\tbest: 0.7350306 (810)\ttotal: 1m 3s\tremaining: 2m 14s\n"
     ]
    },
    {
     "name": "stderr",
     "output_type": "stream",
     "text": [
      "[I 2025-02-25 16:35:52,860] Trial 18 finished with value: 0.7350306208489532 and parameters: {'iterations': 2806, 'depth': 6, 'learning_rate': 0.06566065400200083, 'l2_leaf_reg': 70.64174190249958}. Best is trial 14 with value: 0.7354736207687493.\n"
     ]
    },
    {
     "name": "stdout",
     "output_type": "stream",
     "text": [
      "Stopped by overfitting detector  (300 iterations wait)\n",
      "\n",
      "bestTest = 0.7350306208\n",
      "bestIteration = 810\n",
      "\n",
      "Shrink model to first 811 iterations.\n",
      "0:\ttest: 0.7121280\tbest: 0.7121280 (0)\ttotal: 82ms\tremaining: 3m 21s\n",
      "300:\ttest: 0.7345898\tbest: 0.7347519 (241)\ttotal: 25.3s\tremaining: 3m 1s\n"
     ]
    },
    {
     "name": "stderr",
     "output_type": "stream",
     "text": [
      "[I 2025-02-25 16:36:39,037] Trial 19 finished with value: 0.7347518769168461 and parameters: {'iterations': 2455, 'depth': 7, 'learning_rate': 0.08088060835396044, 'l2_leaf_reg': 0.15888451859639016}. Best is trial 14 with value: 0.7354736207687493.\n"
     ]
    },
    {
     "name": "stdout",
     "output_type": "stream",
     "text": [
      "Stopped by overfitting detector  (300 iterations wait)\n",
      "\n",
      "bestTest = 0.7347518769\n",
      "bestIteration = 241\n",
      "\n",
      "Shrink model to first 242 iterations.\n",
      "0:\ttest: 0.7200655\tbest: 0.7200655 (0)\ttotal: 110ms\tremaining: 4m 2s\n",
      "300:\ttest: 0.7349505\tbest: 0.7349509 (298)\ttotal: 29.7s\tremaining: 3m 8s\n",
      "600:\ttest: 0.7351704\tbest: 0.7353849 (518)\ttotal: 1m 2s\tremaining: 2m 48s\n"
     ]
    },
    {
     "name": "stderr",
     "output_type": "stream",
     "text": [
      "[I 2025-02-25 16:38:06,453] Trial 20 finished with value: 0.7353848627279658 and parameters: {'iterations': 2212, 'depth': 9, 'learning_rate': 0.04279597597675146, 'l2_leaf_reg': 10.195742626338639}. Best is trial 14 with value: 0.7354736207687493.\n"
     ]
    },
    {
     "name": "stdout",
     "output_type": "stream",
     "text": [
      "Stopped by overfitting detector  (300 iterations wait)\n",
      "\n",
      "bestTest = 0.7353848627\n",
      "bestIteration = 518\n",
      "\n",
      "Shrink model to first 519 iterations.\n",
      "0:\ttest: 0.7154645\tbest: 0.7154645 (0)\ttotal: 94ms\tremaining: 4m 25s\n",
      "300:\ttest: 0.7343555\tbest: 0.7343555 (300)\ttotal: 26.1s\tremaining: 3m 38s\n",
      "600:\ttest: 0.7350963\tbest: 0.7351444 (565)\ttotal: 54s\tremaining: 3m 19s\n",
      "900:\ttest: 0.7348822\tbest: 0.7351662 (676)\ttotal: 1m 23s\tremaining: 2m 58s\n"
     ]
    },
    {
     "name": "stderr",
     "output_type": "stream",
     "text": [
      "[I 2025-02-25 16:39:37,496] Trial 21 finished with value: 0.735166184360371 and parameters: {'iterations': 2826, 'depth': 8, 'learning_rate': 0.026821593185006206, 'l2_leaf_reg': 0.6301851649810912}. Best is trial 14 with value: 0.7354736207687493.\n"
     ]
    },
    {
     "name": "stdout",
     "output_type": "stream",
     "text": [
      "Stopped by overfitting detector  (300 iterations wait)\n",
      "\n",
      "bestTest = 0.7351661844\n",
      "bestIteration = 676\n",
      "\n",
      "Shrink model to first 677 iterations.\n",
      "0:\ttest: 0.7200537\tbest: 0.7200537 (0)\ttotal: 109ms\tremaining: 5m 4s\n",
      "300:\ttest: 0.7350967\tbest: 0.7351053 (288)\ttotal: 29.8s\tremaining: 4m 8s\n",
      "600:\ttest: 0.7350653\tbest: 0.7352864 (357)\ttotal: 1m 3s\tremaining: 3m 52s\n"
     ]
    },
    {
     "name": "stderr",
     "output_type": "stream",
     "text": [
      "[I 2025-02-25 16:40:47,539] Trial 22 finished with value: 0.7352863830011045 and parameters: {'iterations': 2809, 'depth': 9, 'learning_rate': 0.037794990249860175, 'l2_leaf_reg': 2.599005419010019}. Best is trial 14 with value: 0.7354736207687493.\n"
     ]
    },
    {
     "name": "stdout",
     "output_type": "stream",
     "text": [
      "Stopped by overfitting detector  (300 iterations wait)\n",
      "\n",
      "bestTest = 0.735286383\n",
      "bestIteration = 357\n",
      "\n",
      "Shrink model to first 358 iterations.\n",
      "0:\ttest: 0.7118659\tbest: 0.7118659 (0)\ttotal: 74.8ms\tremaining: 3m 44s\n",
      "300:\ttest: 0.7346530\tbest: 0.7346625 (299)\ttotal: 20.7s\tremaining: 3m 5s\n",
      "600:\ttest: 0.7348869\tbest: 0.7350157 (451)\ttotal: 42.5s\tremaining: 2m 49s\n"
     ]
    },
    {
     "name": "stderr",
     "output_type": "stream",
     "text": [
      "[I 2025-02-25 16:41:41,281] Trial 23 finished with value: 0.7350156570772453 and parameters: {'iterations': 2997, 'depth': 6, 'learning_rate': 0.04944348258885028, 'l2_leaf_reg': 0.6882988302351228}. Best is trial 14 with value: 0.7354736207687493.\n"
     ]
    },
    {
     "name": "stdout",
     "output_type": "stream",
     "text": [
      "Stopped by overfitting detector  (300 iterations wait)\n",
      "\n",
      "bestTest = 0.7350156571\n",
      "bestIteration = 451\n",
      "\n",
      "Shrink model to first 452 iterations.\n",
      "0:\ttest: 0.7121282\tbest: 0.7121282 (0)\ttotal: 80.1ms\tremaining: 3m 33s\n",
      "300:\ttest: 0.7337236\tbest: 0.7337236 (300)\ttotal: 22.9s\tremaining: 3m\n",
      "600:\ttest: 0.7347018\tbest: 0.7347018 (600)\ttotal: 46.7s\tremaining: 2m 40s\n",
      "900:\ttest: 0.7352204\tbest: 0.7352414 (856)\ttotal: 1m 12s\tremaining: 2m 21s\n",
      "1200:\ttest: 0.7352075\tbest: 0.7353091 (1038)\ttotal: 1m 37s\tremaining: 1m 59s\n"
     ]
    },
    {
     "name": "stderr",
     "output_type": "stream",
     "text": [
      "[I 2025-02-25 16:43:31,301] Trial 24 finished with value: 0.735309078849117 and parameters: {'iterations': 2663, 'depth': 7, 'learning_rate': 0.020074307522457792, 'l2_leaf_reg': 0.008900028072033614}. Best is trial 14 with value: 0.7354736207687493.\n"
     ]
    },
    {
     "name": "stdout",
     "output_type": "stream",
     "text": [
      "Stopped by overfitting detector  (300 iterations wait)\n",
      "\n",
      "bestTest = 0.7353090788\n",
      "bestIteration = 1038\n",
      "\n",
      "Shrink model to first 1039 iterations.\n",
      "0:\ttest: 0.6975347\tbest: 0.6975347 (0)\ttotal: 67.5ms\tremaining: 2m 6s\n",
      "300:\ttest: 0.7346407\tbest: 0.7346407 (300)\ttotal: 17.6s\tremaining: 1m 31s\n",
      "600:\ttest: 0.7348601\tbest: 0.7349069 (581)\ttotal: 36.1s\tremaining: 1m 16s\n",
      "900:\ttest: 0.7347837\tbest: 0.7349928 (734)\ttotal: 54.5s\tremaining: 58.6s\n"
     ]
    },
    {
     "name": "stderr",
     "output_type": "stream",
     "text": [
      "[I 2025-02-25 16:44:34,244] Trial 25 finished with value: 0.7349928420909231 and parameters: {'iterations': 1870, 'depth': 5, 'learning_rate': 0.0548892563351544, 'l2_leaf_reg': 0.12415444093463615}. Best is trial 14 with value: 0.7354736207687493.\n"
     ]
    },
    {
     "name": "stdout",
     "output_type": "stream",
     "text": [
      "Stopped by overfitting detector  (300 iterations wait)\n",
      "\n",
      "bestTest = 0.7349928421\n",
      "bestIteration = 734\n",
      "\n",
      "Shrink model to first 735 iterations.\n",
      "0:\ttest: 0.7154851\tbest: 0.7154851 (0)\ttotal: 95.7ms\tremaining: 3m 19s\n",
      "300:\ttest: 0.7343439\tbest: 0.7343439 (300)\ttotal: 25.8s\tremaining: 2m 32s\n",
      "600:\ttest: 0.7351522\tbest: 0.7351530 (599)\ttotal: 52.5s\tremaining: 2m 9s\n",
      "900:\ttest: 0.7352910\tbest: 0.7353500 (863)\ttotal: 1m 21s\tremaining: 1m 46s\n"
     ]
    },
    {
     "name": "stderr",
     "output_type": "stream",
     "text": [
      "[I 2025-02-25 16:46:21,217] Trial 26 finished with value: 0.7353500386000181 and parameters: {'iterations': 2081, 'depth': 8, 'learning_rate': 0.02844629502655595, 'l2_leaf_reg': 24.010123939175305}. Best is trial 14 with value: 0.7354736207687493.\n"
     ]
    },
    {
     "name": "stdout",
     "output_type": "stream",
     "text": [
      "Stopped by overfitting detector  (300 iterations wait)\n",
      "\n",
      "bestTest = 0.7353500386\n",
      "bestIteration = 863\n",
      "\n",
      "Shrink model to first 864 iterations.\n",
      "0:\ttest: 0.7121240\tbest: 0.7121240 (0)\ttotal: 84ms\tremaining: 3m 34s\n",
      "300:\ttest: 0.7351035\tbest: 0.7351316 (293)\ttotal: 23.9s\tremaining: 2m 58s\n",
      "600:\ttest: 0.7348616\tbest: 0.7352023 (352)\ttotal: 49.3s\tremaining: 2m 39s\n"
     ]
    },
    {
     "name": "stderr",
     "output_type": "stream",
     "text": [
      "[I 2025-02-25 16:47:15,110] Trial 27 finished with value: 0.7352023428373882 and parameters: {'iterations': 2548, 'depth': 7, 'learning_rate': 0.05928575151601714, 'l2_leaf_reg': 3.44766394077007}. Best is trial 14 with value: 0.7354736207687493.\n"
     ]
    },
    {
     "name": "stdout",
     "output_type": "stream",
     "text": [
      "Stopped by overfitting detector  (300 iterations wait)\n",
      "\n",
      "bestTest = 0.7352023428\n",
      "bestIteration = 352\n",
      "\n",
      "Shrink model to first 353 iterations.\n",
      "0:\ttest: 0.7200459\tbest: 0.7200459 (0)\ttotal: 110ms\tremaining: 5m 18s\n",
      "300:\ttest: 0.7345514\tbest: 0.7345776 (288)\ttotal: 29.4s\tremaining: 4m 12s\n",
      "600:\ttest: 0.7344094\tbest: 0.7349485 (406)\ttotal: 1m 2s\tremaining: 3m 59s\n"
     ]
    },
    {
     "name": "stderr",
     "output_type": "stream",
     "text": [
      "[I 2025-02-25 16:48:30,216] Trial 28 finished with value: 0.7349484630705313 and parameters: {'iterations': 2887, 'depth': 9, 'learning_rate': 0.03428391155105825, 'l2_leaf_reg': 0.2740556395881831}. Best is trial 14 with value: 0.7354736207687493.\n"
     ]
    },
    {
     "name": "stdout",
     "output_type": "stream",
     "text": [
      "Stopped by overfitting detector  (300 iterations wait)\n",
      "\n",
      "bestTest = 0.7349484631\n",
      "bestIteration = 406\n",
      "\n",
      "Shrink model to first 407 iterations.\n",
      "0:\ttest: 0.7227609\tbest: 0.7227609 (0)\ttotal: 132ms\tremaining: 5m 9s\n",
      "300:\ttest: 0.7345864\tbest: 0.7346014 (294)\ttotal: 41s\tremaining: 4m 38s\n",
      "600:\ttest: 0.7342204\tbest: 0.7346772 (356)\ttotal: 1m 30s\tremaining: 4m 23s\n"
     ]
    },
    {
     "name": "stderr",
     "output_type": "stream",
     "text": [
      "[I 2025-02-25 16:50:10,044] Trial 29 finished with value: 0.734677248679602 and parameters: {'iterations': 2351, 'depth': 10, 'learning_rate': 0.04412079762167402, 'l2_leaf_reg': 5.330543741283486}. Best is trial 14 with value: 0.7354736207687493.\n"
     ]
    },
    {
     "name": "stdout",
     "output_type": "stream",
     "text": [
      "Stopped by overfitting detector  (300 iterations wait)\n",
      "\n",
      "bestTest = 0.7346772487\n",
      "bestIteration = 356\n",
      "\n",
      "Shrink model to first 357 iterations.\n",
      "0:\ttest: 0.6975347\tbest: 0.6975347 (0)\ttotal: 63.6ms\tremaining: 2m 51s\n",
      "300:\ttest: 0.7314818\tbest: 0.7314818 (300)\ttotal: 16.8s\tremaining: 2m 14s\n",
      "600:\ttest: 0.7334989\tbest: 0.7334989 (600)\ttotal: 34.3s\tremaining: 1m 59s\n",
      "900:\ttest: 0.7343993\tbest: 0.7343993 (900)\ttotal: 52.2s\tremaining: 1m 44s\n",
      "1200:\ttest: 0.7347400\tbest: 0.7347424 (1198)\ttotal: 1m 10s\tremaining: 1m 28s\n",
      "1500:\ttest: 0.7348628\tbest: 0.7348688 (1480)\ttotal: 1m 28s\tremaining: 1m 11s\n",
      "1800:\ttest: 0.7348386\tbest: 0.7348729 (1524)\ttotal: 1m 47s\tremaining: 53.9s\n"
     ]
    },
    {
     "name": "stderr",
     "output_type": "stream",
     "text": [
      "[I 2025-02-25 16:51:59,286] Trial 30 finished with value: 0.7348728618704241 and parameters: {'iterations': 2704, 'depth': 5, 'learning_rate': 0.016738986030114342, 'l2_leaf_reg': 1.0772370240705724}. Best is trial 14 with value: 0.7354736207687493.\n"
     ]
    },
    {
     "name": "stdout",
     "output_type": "stream",
     "text": [
      "Stopped by overfitting detector  (300 iterations wait)\n",
      "\n",
      "bestTest = 0.7348728619\n",
      "bestIteration = 1524\n",
      "\n",
      "Shrink model to first 1525 iterations.\n",
      "0:\ttest: 0.7200654\tbest: 0.7200654 (0)\ttotal: 110ms\tremaining: 4m 2s\n",
      "300:\ttest: 0.7348012\tbest: 0.7348176 (297)\ttotal: 29.2s\tremaining: 3m 5s\n",
      "600:\ttest: 0.7348721\tbest: 0.7352139 (508)\ttotal: 1m 2s\tremaining: 2m 47s\n"
     ]
    },
    {
     "name": "stderr",
     "output_type": "stream",
     "text": [
      "[I 2025-02-25 16:53:25,223] Trial 31 finished with value: 0.7352139071959904 and parameters: {'iterations': 2211, 'depth': 9, 'learning_rate': 0.041647461292846875, 'l2_leaf_reg': 9.198668546620805}. Best is trial 14 with value: 0.7354736207687493.\n"
     ]
    },
    {
     "name": "stdout",
     "output_type": "stream",
     "text": [
      "Stopped by overfitting detector  (300 iterations wait)\n",
      "\n",
      "bestTest = 0.7352139072\n",
      "bestIteration = 508\n",
      "\n",
      "Shrink model to first 509 iterations.\n",
      "0:\ttest: 0.7154617\tbest: 0.7154617 (0)\ttotal: 93.9ms\tremaining: 3m 18s\n",
      "300:\ttest: 0.7352912\tbest: 0.7352915 (299)\ttotal: 25.4s\tremaining: 2m 33s\n",
      "600:\ttest: 0.7355456\tbest: 0.7355583 (564)\ttotal: 53.9s\tremaining: 2m 16s\n"
     ]
    },
    {
     "name": "stderr",
     "output_type": "stream",
     "text": [
      "[I 2025-02-25 16:54:44,658] Trial 32 finished with value: 0.7355582804516765 and parameters: {'iterations': 2121, 'depth': 8, 'learning_rate': 0.04859787292000259, 'l2_leaf_reg': 32.712754099119834}. Best is trial 32 with value: 0.7355582804516765.\n"
     ]
    },
    {
     "name": "stdout",
     "output_type": "stream",
     "text": [
      "Stopped by overfitting detector  (300 iterations wait)\n",
      "\n",
      "bestTest = 0.7355582805\n",
      "bestIteration = 564\n",
      "\n",
      "Shrink model to first 565 iterations.\n",
      "저장 완료\n",
      "0:\ttest: 0.7154619\tbest: 0.7154619 (0)\ttotal: 98.2ms\tremaining: 3m 24s\n",
      "300:\ttest: 0.7349744\tbest: 0.7349774 (293)\ttotal: 26s\tremaining: 2m 33s\n",
      "600:\ttest: 0.7354288\tbest: 0.7354405 (594)\ttotal: 54.5s\tremaining: 2m 14s\n",
      "900:\ttest: 0.7353368\tbest: 0.7355094 (682)\ttotal: 1m 23s\tremaining: 1m 49s\n"
     ]
    },
    {
     "name": "stderr",
     "output_type": "stream",
     "text": [
      "[I 2025-02-25 16:56:16,077] Trial 33 finished with value: 0.7355094297733912 and parameters: {'iterations': 2083, 'depth': 8, 'learning_rate': 0.049742273381682446, 'l2_leaf_reg': 31.975149329628053}. Best is trial 32 with value: 0.7355582804516765.\n"
     ]
    },
    {
     "name": "stdout",
     "output_type": "stream",
     "text": [
      "Stopped by overfitting detector  (300 iterations wait)\n",
      "\n",
      "bestTest = 0.7355094298\n",
      "bestIteration = 682\n",
      "\n",
      "Shrink model to first 683 iterations.\n",
      "0:\ttest: 0.7120958\tbest: 0.7120958 (0)\ttotal: 88.4ms\tremaining: 3m 9s\n",
      "300:\ttest: 0.7347334\tbest: 0.7347513 (293)\ttotal: 23.1s\tremaining: 2m 21s\n",
      "600:\ttest: 0.7350264\tbest: 0.7351500 (422)\ttotal: 47.7s\tremaining: 2m 2s\n"
     ]
    },
    {
     "name": "stderr",
     "output_type": "stream",
     "text": [
      "[I 2025-02-25 16:57:14,087] Trial 34 finished with value: 0.7351499736076874 and parameters: {'iterations': 2143, 'depth': 7, 'learning_rate': 0.05090657887934604, 'l2_leaf_reg': 31.96969516450463}. Best is trial 32 with value: 0.7355582804516765.\n"
     ]
    },
    {
     "name": "stdout",
     "output_type": "stream",
     "text": [
      "Stopped by overfitting detector  (300 iterations wait)\n",
      "\n",
      "bestTest = 0.7351499736\n",
      "bestIteration = 422\n",
      "\n",
      "Shrink model to first 423 iterations.\n",
      "0:\ttest: 0.7154600\tbest: 0.7154600 (0)\ttotal: 93ms\tremaining: 3m 4s\n",
      "300:\ttest: 0.7350752\tbest: 0.7350932 (264)\ttotal: 26.8s\tremaining: 2m 30s\n",
      "600:\ttest: 0.7353592\tbest: 0.7354702 (511)\ttotal: 55s\tremaining: 2m 6s\n"
     ]
    },
    {
     "name": "stderr",
     "output_type": "stream",
     "text": [
      "[I 2025-02-25 16:58:29,245] Trial 35 finished with value: 0.7354702412120286 and parameters: {'iterations': 1988, 'depth': 8, 'learning_rate': 0.06346004682217586, 'l2_leaf_reg': 83.50492379655651}. Best is trial 32 with value: 0.7355582804516765.\n"
     ]
    },
    {
     "name": "stdout",
     "output_type": "stream",
     "text": [
      "Stopped by overfitting detector  (300 iterations wait)\n",
      "\n",
      "bestTest = 0.7354702412\n",
      "bestIteration = 511\n",
      "\n",
      "Shrink model to first 512 iterations.\n",
      "0:\ttest: 0.7154542\tbest: 0.7154542 (0)\ttotal: 90.9ms\tremaining: 3m 1s\n",
      "300:\ttest: 0.7347883\tbest: 0.7348159 (285)\ttotal: 26.4s\tremaining: 2m 29s\n",
      "600:\ttest: 0.7351210\tbest: 0.7351488 (572)\ttotal: 54.6s\tremaining: 2m 6s\n",
      "900:\ttest: 0.7350839\tbest: 0.7351918 (839)\ttotal: 1m 23s\tremaining: 1m 41s\n"
     ]
    },
    {
     "name": "stderr",
     "output_type": "stream",
     "text": [
      "[I 2025-02-25 17:00:15,474] Trial 36 finished with value: 0.735191767326757 and parameters: {'iterations': 1998, 'depth': 8, 'learning_rate': 0.06645361536030593, 'l2_leaf_reg': 86.35381648887166}. Best is trial 32 with value: 0.7355582804516765.\n"
     ]
    },
    {
     "name": "stdout",
     "output_type": "stream",
     "text": [
      "Stopped by overfitting detector  (300 iterations wait)\n",
      "\n",
      "bestTest = 0.7351917673\n",
      "bestIteration = 839\n",
      "\n",
      "Shrink model to first 840 iterations.\n",
      "0:\ttest: 0.7227346\tbest: 0.7227346 (0)\ttotal: 132ms\tremaining: 4m 56s\n",
      "300:\ttest: 0.7346529\tbest: 0.7346802 (244)\ttotal: 44.8s\tremaining: 4m 50s\n",
      "600:\ttest: 0.7334414\tbest: 0.7347000 (313)\ttotal: 1m 36s\tremaining: 4m 25s\n"
     ]
    },
    {
     "name": "stderr",
     "output_type": "stream",
     "text": [
      "[I 2025-02-25 17:01:54,553] Trial 37 finished with value: 0.7346999921829384 and parameters: {'iterations': 2254, 'depth': 10, 'learning_rate': 0.07999083692874183, 'l2_leaf_reg': 28.917569147361824}. Best is trial 32 with value: 0.7355582804516765.\n"
     ]
    },
    {
     "name": "stdout",
     "output_type": "stream",
     "text": [
      "Stopped by overfitting detector  (300 iterations wait)\n",
      "\n",
      "bestTest = 0.7346999922\n",
      "bestIteration = 313\n",
      "\n",
      "Shrink model to first 314 iterations.\n",
      "0:\ttest: 0.7154771\tbest: 0.7154771 (0)\ttotal: 94.7ms\tremaining: 3m 49s\n",
      "300:\ttest: 0.7356051\tbest: 0.7356217 (270)\ttotal: 26.8s\tremaining: 3m 9s\n",
      "600:\ttest: 0.7355838\tbest: 0.7358506 (395)\ttotal: 54.8s\tremaining: 2m 46s\n"
     ]
    },
    {
     "name": "stderr",
     "output_type": "stream",
     "text": [
      "[I 2025-02-25 17:02:58,678] Trial 38 finished with value: 0.7358505862947133 and parameters: {'iterations': 2427, 'depth': 8, 'learning_rate': 0.07321769294292448, 'l2_leaf_reg': 37.69435319203417}. Best is trial 38 with value: 0.7358505862947133.\n"
     ]
    },
    {
     "name": "stdout",
     "output_type": "stream",
     "text": [
      "Stopped by overfitting detector  (300 iterations wait)\n",
      "\n",
      "bestTest = 0.7358505863\n",
      "bestIteration = 395\n",
      "\n",
      "Shrink model to first 396 iterations.\n",
      "저장 완료\n",
      "0:\ttest: 0.7200596\tbest: 0.7200596 (0)\ttotal: 106ms\tremaining: 4m 18s\n",
      "300:\ttest: 0.7346860\tbest: 0.7349367 (221)\ttotal: 31.4s\tremaining: 3m 42s\n"
     ]
    },
    {
     "name": "stderr",
     "output_type": "stream",
     "text": [
      "[I 2025-02-25 17:03:54,943] Trial 39 finished with value: 0.7349366763204175 and parameters: {'iterations': 2436, 'depth': 9, 'learning_rate': 0.07368726918707895, 'l2_leaf_reg': 7.155477229835642}. Best is trial 38 with value: 0.7358505862947133.\n",
      "[I 2025-02-25 17:03:54,946] A new study created in memory with name: no-name-6d759970-aea4-456d-8920-bd55ccfd33dd\n"
     ]
    },
    {
     "name": "stdout",
     "output_type": "stream",
     "text": [
      "Stopped by overfitting detector  (300 iterations wait)\n",
      "\n",
      "bestTest = 0.7349366763\n",
      "bestIteration = 221\n",
      "\n",
      "Shrink model to first 222 iterations.\n"
     ]
    },
    {
     "name": "stderr",
     "output_type": "stream",
     "text": [
      "[I 2025-02-25 17:04:17,986] Trial 0 finished with value: 0.726921535334445 and parameters: {'num_iterations': 2366, 'objective': 'binary', 'metric': 'auc', 'verbose': -1, 'learning_rate': 0.0652646236447618, 'n_estimators': 236, 'min_child_samples': 45, 'subsample': 0.7, 'colsample_bytree': 0.5}. Best is trial 0 with value: 0.726921535334445.\n",
      "[I 2025-02-25 17:04:34,832] Trial 1 finished with value: 0.734983255428263 and parameters: {'num_iterations': 1510, 'objective': 'binary', 'metric': 'auc', 'verbose': -1, 'learning_rate': 0.005231880959249543, 'n_estimators': 1411, 'min_child_samples': 10, 'subsample': 1.0, 'colsample_bytree': 0.5}. Best is trial 1 with value: 0.734983255428263.\n",
      "[I 2025-02-25 17:04:54,453] Trial 2 finished with value: 0.7344062884504002 and parameters: {'num_iterations': 2334, 'objective': 'binary', 'metric': 'auc', 'verbose': -1, 'learning_rate': 0.006578527777128852, 'n_estimators': 931, 'min_child_samples': 15, 'subsample': 0.5, 'colsample_bytree': 1.0}. Best is trial 1 with value: 0.734983255428263.\n",
      "[I 2025-02-25 17:05:10,842] Trial 3 finished with value: 0.7350841695479208 and parameters: {'num_iterations': 1620, 'objective': 'binary', 'metric': 'auc', 'verbose': -1, 'learning_rate': 0.0058823249237283685, 'n_estimators': 837, 'min_child_samples': 10, 'subsample': 0.9, 'colsample_bytree': 0.6}. Best is trial 3 with value: 0.7350841695479208.\n",
      "[I 2025-02-25 17:05:27,189] Trial 4 finished with value: 0.7345028341653662 and parameters: {'num_iterations': 1997, 'objective': 'binary', 'metric': 'auc', 'verbose': -1, 'learning_rate': 0.010907507425244923, 'n_estimators': 1597, 'min_child_samples': 50, 'subsample': 0.6, 'colsample_bytree': 0.8}. Best is trial 3 with value: 0.7350841695479208.\n",
      "[I 2025-02-25 17:05:49,996] Trial 5 finished with value: 0.7315110567579197 and parameters: {'num_iterations': 2909, 'objective': 'binary', 'metric': 'auc', 'verbose': -1, 'learning_rate': 0.019760591962733942, 'n_estimators': 612, 'min_child_samples': 30, 'subsample': 0.7, 'colsample_bytree': 0.9}. Best is trial 3 with value: 0.7350841695479208.\n",
      "[I 2025-02-25 17:06:10,767] Trial 6 finished with value: 0.7324508554869299 and parameters: {'num_iterations': 2639, 'objective': 'binary', 'metric': 'auc', 'verbose': -1, 'learning_rate': 0.017862094446750985, 'n_estimators': 794, 'min_child_samples': 35, 'subsample': 1.0, 'colsample_bytree': 0.8}. Best is trial 3 with value: 0.7350841695479208.\n",
      "[I 2025-02-25 17:06:27,089] Trial 7 finished with value: 0.7342261116132482 and parameters: {'num_iterations': 1580, 'objective': 'binary', 'metric': 'auc', 'verbose': -1, 'learning_rate': 0.01776722177611332, 'n_estimators': 529, 'min_child_samples': 25, 'subsample': 0.8, 'colsample_bytree': 0.5}. Best is trial 3 with value: 0.7350841695479208.\n",
      "[I 2025-02-25 17:06:44,514] Trial 8 finished with value: 0.7322659726865417 and parameters: {'num_iterations': 1911, 'objective': 'binary', 'metric': 'auc', 'verbose': -1, 'learning_rate': 0.0304747553332844, 'n_estimators': 1328, 'min_child_samples': 10, 'subsample': 0.7, 'colsample_bytree': 0.6}. Best is trial 3 with value: 0.7350841695479208.\n",
      "[I 2025-02-25 17:07:11,695] Trial 9 finished with value: 0.7317307398585936 and parameters: {'num_iterations': 2739, 'objective': 'binary', 'metric': 'auc', 'verbose': -1, 'learning_rate': 0.02691531614176271, 'n_estimators': 1438, 'min_child_samples': 20, 'subsample': 0.6, 'colsample_bytree': 0.5}. Best is trial 3 with value: 0.7350841695479208.\n",
      "[I 2025-02-25 17:07:26,178] Trial 10 finished with value: 0.7236380398329566 and parameters: {'num_iterations': 1883, 'objective': 'binary', 'metric': 'auc', 'verbose': -1, 'learning_rate': 0.08223556891145911, 'n_estimators': 1917, 'min_child_samples': 40, 'subsample': 0.9, 'colsample_bytree': 0.7}. Best is trial 3 with value: 0.7350841695479208.\n",
      "[I 2025-02-25 17:07:41,611] Trial 11 finished with value: 0.7348897715678584 and parameters: {'num_iterations': 1513, 'objective': 'binary', 'metric': 'auc', 'verbose': -1, 'learning_rate': 0.005340229419903739, 'n_estimators': 1206, 'min_child_samples': 10, 'subsample': 1.0, 'colsample_bytree': 0.6}. Best is trial 3 with value: 0.7350841695479208.\n",
      "[I 2025-02-25 17:07:58,243] Trial 12 finished with value: 0.7350986686802206 and parameters: {'num_iterations': 1698, 'objective': 'binary', 'metric': 'auc', 'verbose': -1, 'learning_rate': 0.008515343845233947, 'n_estimators': 1719, 'min_child_samples': 20, 'subsample': 0.9, 'colsample_bytree': 0.6}. Best is trial 12 with value: 0.7350986686802206.\n",
      "[I 2025-02-25 17:08:13,286] Trial 13 finished with value: 0.7347479135824074 and parameters: {'num_iterations': 1785, 'objective': 'binary', 'metric': 'auc', 'verbose': -1, 'learning_rate': 0.010668787980411185, 'n_estimators': 2000, 'min_child_samples': 20, 'subsample': 0.9, 'colsample_bytree': 0.7}. Best is trial 12 with value: 0.7350986686802206.\n",
      "[I 2025-02-25 17:08:34,005] Trial 14 finished with value: 0.7346966205687717 and parameters: {'num_iterations': 2165, 'objective': 'binary', 'metric': 'auc', 'verbose': -1, 'learning_rate': 0.00865004642514095, 'n_estimators': 1729, 'min_child_samples': 20, 'subsample': 0.9, 'colsample_bytree': 0.6}. Best is trial 12 with value: 0.7350986686802206.\n",
      "[I 2025-02-25 17:08:48,964] Trial 15 finished with value: 0.7348908835254163 and parameters: {'num_iterations': 1739, 'objective': 'binary', 'metric': 'auc', 'verbose': -1, 'learning_rate': 0.008303365162986591, 'n_estimators': 1062, 'min_child_samples': 25, 'subsample': 0.8, 'colsample_bytree': 0.7}. Best is trial 12 with value: 0.7350986686802206.\n",
      "[I 2025-02-25 17:09:08,355] Trial 16 finished with value: 0.7343007517643232 and parameters: {'num_iterations': 2069, 'objective': 'binary', 'metric': 'auc', 'verbose': -1, 'learning_rate': 0.012740247908029537, 'n_estimators': 259, 'min_child_samples': 15, 'subsample': 0.9, 'colsample_bytree': 0.6}. Best is trial 12 with value: 0.7350986686802206.\n",
      "[I 2025-02-25 17:09:23,737] Trial 17 finished with value: 0.7298488787726873 and parameters: {'num_iterations': 1702, 'objective': 'binary', 'metric': 'auc', 'verbose': -1, 'learning_rate': 0.04711197790610658, 'n_estimators': 651, 'min_child_samples': 15, 'subsample': 0.8, 'colsample_bytree': 0.6}. Best is trial 12 with value: 0.7350986686802206.\n",
      "[I 2025-02-25 17:09:38,457] Trial 18 finished with value: 0.7349604523557718 and parameters: {'num_iterations': 1688, 'objective': 'binary', 'metric': 'auc', 'verbose': -1, 'learning_rate': 0.0073438836454159315, 'n_estimators': 1082, 'min_child_samples': 30, 'subsample': 0.9, 'colsample_bytree': 0.7}. Best is trial 12 with value: 0.7350986686802206.\n",
      "[I 2025-02-25 17:09:58,235] Trial 19 finished with value: 0.7340909134593138 and parameters: {'num_iterations': 2481, 'objective': 'binary', 'metric': 'auc', 'verbose': -1, 'learning_rate': 0.013452330775004216, 'n_estimators': 1697, 'min_child_samples': 25, 'subsample': 1.0, 'colsample_bytree': 0.8}. Best is trial 12 with value: 0.7350986686802206.\n",
      "[I 2025-02-25 17:10:14,240] Trial 20 finished with value: 0.729579812842611 and parameters: {'num_iterations': 2051, 'objective': 'binary', 'metric': 'auc', 'verbose': -1, 'learning_rate': 0.03844621393609847, 'n_estimators': 443, 'min_child_samples': 15, 'subsample': 0.8, 'colsample_bytree': 0.9}. Best is trial 12 with value: 0.7350986686802206.\n",
      "[I 2025-02-25 17:10:31,064] Trial 21 finished with value: 0.7350053238145107 and parameters: {'num_iterations': 1511, 'objective': 'binary', 'metric': 'auc', 'verbose': -1, 'learning_rate': 0.005176253721621948, 'n_estimators': 1452, 'min_child_samples': 10, 'subsample': 1.0, 'colsample_bytree': 0.5}. Best is trial 12 with value: 0.7350986686802206.\n",
      "[I 2025-02-25 17:10:49,187] Trial 22 finished with value: 0.7350236433152774 and parameters: {'num_iterations': 1630, 'objective': 'binary', 'metric': 'auc', 'verbose': -1, 'learning_rate': 0.005009110270923981, 'n_estimators': 1551, 'min_child_samples': 10, 'subsample': 1.0, 'colsample_bytree': 0.5}. Best is trial 12 with value: 0.7350986686802206.\n",
      "[I 2025-02-25 17:11:07,373] Trial 23 finished with value: 0.7350477807368381 and parameters: {'num_iterations': 1854, 'objective': 'binary', 'metric': 'auc', 'verbose': -1, 'learning_rate': 0.007239546355113976, 'n_estimators': 1795, 'min_child_samples': 15, 'subsample': 0.9, 'colsample_bytree': 0.6}. Best is trial 12 with value: 0.7350986686802206.\n",
      "[I 2025-02-25 17:11:25,120] Trial 24 finished with value: 0.7347509476380298 and parameters: {'num_iterations': 1845, 'objective': 'binary', 'metric': 'auc', 'verbose': -1, 'learning_rate': 0.009575186891312287, 'n_estimators': 1778, 'min_child_samples': 20, 'subsample': 0.9, 'colsample_bytree': 0.6}. Best is trial 12 with value: 0.7350986686802206.\n",
      "[I 2025-02-25 17:11:41,953] Trial 25 finished with value: 0.7350497941742733 and parameters: {'num_iterations': 1943, 'objective': 'binary', 'metric': 'auc', 'verbose': -1, 'learning_rate': 0.006771895086100297, 'n_estimators': 866, 'min_child_samples': 15, 'subsample': 0.8, 'colsample_bytree': 0.7}. Best is trial 12 with value: 0.7350986686802206.\n",
      "[I 2025-02-25 17:11:59,726] Trial 26 finished with value: 0.734242731407462 and parameters: {'num_iterations': 2168, 'objective': 'binary', 'metric': 'auc', 'verbose': -1, 'learning_rate': 0.013575035024023, 'n_estimators': 888, 'min_child_samples': 20, 'subsample': 0.8, 'colsample_bytree': 0.7}. Best is trial 12 with value: 0.7350986686802206.\n",
      "[I 2025-02-25 17:12:16,878] Trial 27 finished with value: 0.7349057758141384 and parameters: {'num_iterations': 1970, 'objective': 'binary', 'metric': 'auc', 'verbose': -1, 'learning_rate': 0.00643697630241025, 'n_estimators': 764, 'min_child_samples': 15, 'subsample': 0.8, 'colsample_bytree': 0.7}. Best is trial 12 with value: 0.7350986686802206.\n",
      "[I 2025-02-25 17:12:32,164] Trial 28 finished with value: 0.7350805993699044 and parameters: {'num_iterations': 1769, 'objective': 'binary', 'metric': 'auc', 'verbose': -1, 'learning_rate': 0.006410825281484129, 'n_estimators': 1199, 'min_child_samples': 25, 'subsample': 0.7, 'colsample_bytree': 0.8}. Best is trial 12 with value: 0.7350986686802206.\n",
      "[I 2025-02-25 17:12:45,519] Trial 29 finished with value: 0.7344497977611306 and parameters: {'num_iterations': 1637, 'objective': 'binary', 'metric': 'auc', 'verbose': -1, 'learning_rate': 0.014716174571191286, 'n_estimators': 1217, 'min_child_samples': 35, 'subsample': 0.6, 'colsample_bytree': 0.9}. Best is trial 12 with value: 0.7350986686802206.\n",
      "[I 2025-02-25 17:13:00,302] Trial 30 finished with value: 0.7353604751159545 and parameters: {'num_iterations': 1780, 'objective': 'binary', 'metric': 'auc', 'verbose': -1, 'learning_rate': 0.009810680371255053, 'n_estimators': 104, 'min_child_samples': 25, 'subsample': 0.7, 'colsample_bytree': 0.8}. Best is trial 30 with value: 0.7353604751159545.\n",
      "[I 2025-02-25 17:13:15,126] Trial 31 finished with value: 0.7351792220627376 and parameters: {'num_iterations': 1767, 'objective': 'binary', 'metric': 'auc', 'verbose': -1, 'learning_rate': 0.009114646116669619, 'n_estimators': 243, 'min_child_samples': 25, 'subsample': 0.7, 'colsample_bytree': 0.8}. Best is trial 30 with value: 0.7353604751159545.\n",
      "[I 2025-02-25 17:13:28,572] Trial 32 finished with value: 0.7350643925884979 and parameters: {'num_iterations': 1591, 'objective': 'binary', 'metric': 'auc', 'verbose': -1, 'learning_rate': 0.010715970234016605, 'n_estimators': 109, 'min_child_samples': 35, 'subsample': 0.7, 'colsample_bytree': 0.8}. Best is trial 30 with value: 0.7353604751159545.\n",
      "[I 2025-02-25 17:13:43,634] Trial 33 finished with value: 0.7350659890418488 and parameters: {'num_iterations': 1787, 'objective': 'binary', 'metric': 'auc', 'verbose': -1, 'learning_rate': 0.008477300028616535, 'n_estimators': 332, 'min_child_samples': 30, 'subsample': 0.6, 'colsample_bytree': 0.9}. Best is trial 30 with value: 0.7353604751159545.\n",
      "[I 2025-02-25 17:14:02,561] Trial 34 finished with value: 0.7345481226081892 and parameters: {'num_iterations': 2344, 'objective': 'binary', 'metric': 'auc', 'verbose': -1, 'learning_rate': 0.011462757020826149, 'n_estimators': 158, 'min_child_samples': 25, 'subsample': 0.5, 'colsample_bytree': 0.8}. Best is trial 30 with value: 0.7353604751159545.\n",
      "[I 2025-02-25 17:14:16,843] Trial 35 finished with value: 0.7349474861363912 and parameters: {'num_iterations': 1684, 'objective': 'binary', 'metric': 'auc', 'verbose': -1, 'learning_rate': 0.009314177811692212, 'n_estimators': 362, 'min_child_samples': 30, 'subsample': 0.7, 'colsample_bytree': 1.0}. Best is trial 30 with value: 0.7353604751159545.\n",
      "[I 2025-02-25 17:14:34,615] Trial 36 finished with value: 0.7336694775735872 and parameters: {'num_iterations': 2238, 'objective': 'binary', 'metric': 'auc', 'verbose': -1, 'learning_rate': 0.015983293528165726, 'n_estimators': 234, 'min_child_samples': 30, 'subsample': 0.6, 'colsample_bytree': 0.9}. Best is trial 30 with value: 0.7353604751159545.\n",
      "[I 2025-02-25 17:14:48,477] Trial 37 finished with value: 0.7351911835490391 and parameters: {'num_iterations': 1570, 'objective': 'binary', 'metric': 'auc', 'verbose': -1, 'learning_rate': 0.005848978413501868, 'n_estimators': 521, 'min_child_samples': 45, 'subsample': 0.7, 'colsample_bytree': 0.8}. Best is trial 30 with value: 0.7353604751159545.\n",
      "[I 2025-02-25 17:15:00,534] Trial 38 finished with value: 0.7336826701557565 and parameters: {'num_iterations': 1506, 'objective': 'binary', 'metric': 'auc', 'verbose': -1, 'learning_rate': 0.021821913690808496, 'n_estimators': 468, 'min_child_samples': 50, 'subsample': 0.7, 'colsample_bytree': 0.8}. Best is trial 30 with value: 0.7353604751159545.\n",
      "[I 2025-02-25 17:15:17,554] Trial 39 finished with value: 0.734771653876269 and parameters: {'num_iterations': 2035, 'objective': 'binary', 'metric': 'auc', 'verbose': -1, 'learning_rate': 0.007834120833629589, 'n_estimators': 200, 'min_child_samples': 40, 'subsample': 0.5, 'colsample_bytree': 1.0}. Best is trial 30 with value: 0.7353604751159545.\n"
     ]
    },
    {
     "name": "stdout",
     "output_type": "stream",
     "text": [
      "Cat val score : 0.7358505862947133\n",
      "LGBM val score : 0.7349416364453811\n",
      "Ensemble val score : 0.7359064502481675\n"
     ]
    },
    {
     "name": "stderr",
     "output_type": "stream",
     "text": [
      "[I 2025-02-25 17:15:33,413] A new study created in memory with name: no-name-973e881c-a87c-43f6-955a-e69748ba67a1\n"
     ]
    },
    {
     "name": "stdout",
     "output_type": "stream",
     "text": [
      "==================================================\n",
      "0:\ttest: 0.7276999\tbest: 0.7276999 (0)\ttotal: 134ms\tremaining: 5m 15s\n",
      "300:\ttest: 0.7398668\tbest: 0.7398668 (300)\ttotal: 37.5s\tremaining: 4m 17s\n",
      "600:\ttest: 0.7415244\tbest: 0.7415244 (600)\ttotal: 1m 17s\tremaining: 3m 47s\n",
      "900:\ttest: 0.7421781\tbest: 0.7421802 (899)\ttotal: 1m 58s\tremaining: 3m 12s\n",
      "1200:\ttest: 0.7424817\tbest: 0.7424817 (1200)\ttotal: 2m 41s\tremaining: 2m 36s\n",
      "1500:\ttest: 0.7426042\tbest: 0.7426087 (1497)\ttotal: 3m 29s\tremaining: 2m\n"
     ]
    },
    {
     "name": "stderr",
     "output_type": "stream",
     "text": [
      "[I 2025-02-25 17:19:51,729] Trial 0 finished with value: 0.7426087347157264 and parameters: {'iterations': 2366, 'depth': 10, 'learning_rate': 0.01181021951839225, 'l2_leaf_reg': 9.980783802743254}. Best is trial 0 with value: 0.7426087347157264.\n"
     ]
    },
    {
     "name": "stdout",
     "output_type": "stream",
     "text": [
      "Stopped by overfitting detector  (300 iterations wait)\n",
      "\n",
      "bestTest = 0.7426087347\n",
      "bestIteration = 1497\n",
      "\n",
      "Shrink model to first 1498 iterations.\n",
      "저장 완료\n",
      "0:\ttest: 0.6943640\tbest: 0.6943640 (0)\ttotal: 57.9ms\tremaining: 2m 6s\n",
      "300:\ttest: 0.7293559\tbest: 0.7293559 (300)\ttotal: 13.1s\tremaining: 1m 22s\n",
      "600:\ttest: 0.7343203\tbest: 0.7343203 (600)\ttotal: 26.4s\tremaining: 1m 10s\n",
      "900:\ttest: 0.7366064\tbest: 0.7366064 (900)\ttotal: 40.1s\tremaining: 57.5s\n",
      "1200:\ttest: 0.7379071\tbest: 0.7379071 (1200)\ttotal: 53.9s\tremaining: 44.5s\n",
      "1500:\ttest: 0.7387880\tbest: 0.7387880 (1500)\ttotal: 1m 8s\tremaining: 31.4s\n",
      "1800:\ttest: 0.7393767\tbest: 0.7393771 (1799)\ttotal: 1m 22s\tremaining: 17.9s\n",
      "2100:\ttest: 0.7398518\tbest: 0.7398518 (2100)\ttotal: 1m 36s\tremaining: 4.23s\n"
     ]
    },
    {
     "name": "stderr",
     "output_type": "stream",
     "text": [
      "[I 2025-02-25 17:21:33,118] Trial 1 finished with value: 0.740013040561686 and parameters: {'iterations': 2193, 'depth': 4, 'learning_rate': 0.005671430811678843, 'l2_leaf_reg': 0.00012325230809466137}. Best is trial 0 with value: 0.7426087347157264.\n"
     ]
    },
    {
     "name": "stdout",
     "output_type": "stream",
     "text": [
      "2192:\ttest: 0.7400130\tbest: 0.7400130 (2192)\ttotal: 1m 41s\tremaining: 0us\n",
      "\n",
      "bestTest = 0.7400130406\n",
      "bestIteration = 2192\n",
      "\n",
      "0:\ttest: 0.6943640\tbest: 0.6943640 (0)\ttotal: 54.8ms\tremaining: 2m 18s\n",
      "300:\ttest: 0.7417021\tbest: 0.7417255 (297)\ttotal: 14.5s\tremaining: 1m 47s\n",
      "600:\ttest: 0.7419565\tbest: 0.7420987 (559)\ttotal: 29.4s\tremaining: 1m 34s\n"
     ]
    },
    {
     "name": "stderr",
     "output_type": "stream",
     "text": [
      "[I 2025-02-25 17:22:15,722] Trial 2 finished with value: 0.742098703611573 and parameters: {'iterations': 2535, 'depth': 4, 'learning_rate': 0.09275339199839054, 'l2_leaf_reg': 0.0008705394248343123}. Best is trial 0 with value: 0.7426087347157264.\n"
     ]
    },
    {
     "name": "stdout",
     "output_type": "stream",
     "text": [
      "Stopped by overfitting detector  (300 iterations wait)\n",
      "\n",
      "bestTest = 0.7420987036\n",
      "bestIteration = 559\n",
      "\n",
      "Shrink model to first 560 iterations.\n",
      "0:\ttest: 0.6943640\tbest: 0.6943640 (0)\ttotal: 54.4ms\tremaining: 2m 6s\n",
      "300:\ttest: 0.7403322\tbest: 0.7403322 (300)\ttotal: 14.1s\tremaining: 1m 35s\n",
      "600:\ttest: 0.7413935\tbest: 0.7414061 (598)\ttotal: 28.8s\tremaining: 1m 23s\n",
      "900:\ttest: 0.7416791\tbest: 0.7416791 (900)\ttotal: 43.7s\tremaining: 1m 9s\n",
      "1200:\ttest: 0.7415712\tbest: 0.7417196 (1030)\ttotal: 58.7s\tremaining: 55.4s\n"
     ]
    },
    {
     "name": "stderr",
     "output_type": "stream",
     "text": [
      "[I 2025-02-25 17:23:21,418] Trial 3 finished with value: 0.7417195737396481 and parameters: {'iterations': 2334, 'depth': 4, 'learning_rate': 0.04657568321363276, 'l2_leaf_reg': 0.0008640473331457248}. Best is trial 0 with value: 0.7426087347157264.\n"
     ]
    },
    {
     "name": "stdout",
     "output_type": "stream",
     "text": [
      "Stopped by overfitting detector  (300 iterations wait)\n",
      "\n",
      "bestTest = 0.7417195737\n",
      "bestIteration = 1030\n",
      "\n",
      "Shrink model to first 1031 iterations.\n",
      "0:\ttest: 0.7276673\tbest: 0.7276673 (0)\ttotal: 133ms\tremaining: 3m 51s\n",
      "300:\ttest: 0.7395024\tbest: 0.7395024 (300)\ttotal: 37.9s\tremaining: 3m 1s\n",
      "600:\ttest: 0.7403629\tbest: 0.7404228 (516)\ttotal: 1m 17s\tremaining: 2m 26s\n",
      "900:\ttest: 0.7403105\tbest: 0.7404553 (616)\ttotal: 1m 57s\tremaining: 1m 49s\n"
     ]
    },
    {
     "name": "stderr",
     "output_type": "stream",
     "text": [
      "[I 2025-02-25 17:25:21,068] Trial 4 finished with value: 0.7404552700537455 and parameters: {'iterations': 1742, 'depth': 10, 'learning_rate': 0.012622767482095846, 'l2_leaf_reg': 0.00021158816350109617}. Best is trial 0 with value: 0.7426087347157264.\n"
     ]
    },
    {
     "name": "stdout",
     "output_type": "stream",
     "text": [
      "Stopped by overfitting detector  (300 iterations wait)\n",
      "\n",
      "bestTest = 0.7404552701\n",
      "bestIteration = 616\n",
      "\n",
      "Shrink model to first 617 iterations.\n",
      "0:\ttest: 0.6943640\tbest: 0.6943640 (0)\ttotal: 55.5ms\tremaining: 1m 55s\n",
      "300:\ttest: 0.7412453\tbest: 0.7412484 (299)\ttotal: 14.4s\tremaining: 1m 25s\n",
      "600:\ttest: 0.7415411\tbest: 0.7416729 (470)\ttotal: 29.4s\tremaining: 1m 12s\n"
     ]
    },
    {
     "name": "stderr",
     "output_type": "stream",
     "text": [
      "[I 2025-02-25 17:25:59,152] Trial 5 finished with value: 0.7416729032924316 and parameters: {'iterations': 2082, 'depth': 4, 'learning_rate': 0.06995196593094148, 'l2_leaf_reg': 0.0018080296485396804}. Best is trial 0 with value: 0.7426087347157264.\n"
     ]
    },
    {
     "name": "stdout",
     "output_type": "stream",
     "text": [
      "Stopped by overfitting detector  (300 iterations wait)\n",
      "\n",
      "bestTest = 0.7416729033\n",
      "bestIteration = 470\n",
      "\n",
      "Shrink model to first 471 iterations.\n",
      "0:\ttest: 0.7028774\tbest: 0.7028774 (0)\ttotal: 66.1ms\tremaining: 2m 11s\n",
      "300:\ttest: 0.7420459\tbest: 0.7420459 (300)\ttotal: 17.5s\tremaining: 1m 38s\n",
      "600:\ttest: 0.7426518\tbest: 0.7426518 (600)\ttotal: 36s\tremaining: 1m 23s\n",
      "900:\ttest: 0.7427593\tbest: 0.7427853 (784)\ttotal: 54.2s\tremaining: 1m 5s\n"
     ]
    },
    {
     "name": "stderr",
     "output_type": "stream",
     "text": [
      "[I 2025-02-25 17:27:04,957] Trial 6 finished with value: 0.7427853413748622 and parameters: {'iterations': 1997, 'depth': 5, 'learning_rate': 0.07985155992831598, 'l2_leaf_reg': 62.52181000710482}. Best is trial 6 with value: 0.7427853413748622.\n"
     ]
    },
    {
     "name": "stdout",
     "output_type": "stream",
     "text": [
      "Stopped by overfitting detector  (300 iterations wait)\n",
      "\n",
      "bestTest = 0.7427853414\n",
      "bestIteration = 784\n",
      "\n",
      "Shrink model to first 785 iterations.\n",
      "저장 완료\n",
      "0:\ttest: 0.7176315\tbest: 0.7176315 (0)\ttotal: 79.2ms\tremaining: 2m 32s\n",
      "300:\ttest: 0.7414624\tbest: 0.7423255 (197)\ttotal: 24.7s\tremaining: 2m 13s\n"
     ]
    },
    {
     "name": "stderr",
     "output_type": "stream",
     "text": [
      "[I 2025-02-25 17:27:46,644] Trial 7 finished with value: 0.7423254635278477 and parameters: {'iterations': 1927, 'depth': 7, 'learning_rate': 0.0941937211034094, 'l2_leaf_reg': 0.05654822767791934}. Best is trial 6 with value: 0.7427853413748622.\n"
     ]
    },
    {
     "name": "stdout",
     "output_type": "stream",
     "text": [
      "Stopped by overfitting detector  (300 iterations wait)\n",
      "\n",
      "bestTest = 0.7423254635\n",
      "bestIteration = 197\n",
      "\n",
      "Shrink model to first 198 iterations.\n",
      "0:\ttest: 0.7176310\tbest: 0.7176310 (0)\ttotal: 87.1ms\tremaining: 2m 45s\n",
      "300:\ttest: 0.7418203\tbest: 0.7418550 (293)\ttotal: 23.8s\tremaining: 2m 6s\n",
      "600:\ttest: 0.7417616\tbest: 0.7420941 (452)\ttotal: 49.7s\tremaining: 1m 47s\n"
     ]
    },
    {
     "name": "stderr",
     "output_type": "stream",
     "text": [
      "[I 2025-02-25 17:28:49,807] Trial 8 finished with value: 0.7420940850164307 and parameters: {'iterations': 1904, 'depth': 7, 'learning_rate': 0.05155602859187331, 'l2_leaf_reg': 1.299974533316308}. Best is trial 6 with value: 0.7427853413748622.\n"
     ]
    },
    {
     "name": "stdout",
     "output_type": "stream",
     "text": [
      "Stopped by overfitting detector  (300 iterations wait)\n",
      "\n",
      "bestTest = 0.742094085\n",
      "bestIteration = 452\n",
      "\n",
      "Shrink model to first 453 iterations.\n",
      "0:\ttest: 0.7175361\tbest: 0.7175361 (0)\ttotal: 74.1ms\tremaining: 3m 15s\n",
      "300:\ttest: 0.7414517\tbest: 0.7414517 (300)\ttotal: 20.2s\tremaining: 2m 37s\n",
      "600:\ttest: 0.7424594\tbest: 0.7424951 (594)\ttotal: 42.1s\tremaining: 2m 22s\n",
      "900:\ttest: 0.7424805\tbest: 0.7425823 (748)\ttotal: 1m 4s\tremaining: 2m 3s\n"
     ]
    },
    {
     "name": "stderr",
     "output_type": "stream",
     "text": [
      "[I 2025-02-25 17:30:05,263] Trial 9 finished with value: 0.742582305867341 and parameters: {'iterations': 2639, 'depth': 6, 'learning_rate': 0.03968704290444751, 'l2_leaf_reg': 0.30557194377967184}. Best is trial 6 with value: 0.7427853413748622.\n"
     ]
    },
    {
     "name": "stdout",
     "output_type": "stream",
     "text": [
      "Stopped by overfitting detector  (300 iterations wait)\n",
      "\n",
      "bestTest = 0.7425823059\n",
      "bestIteration = 748\n",
      "\n",
      "Shrink model to first 749 iterations.\n",
      "0:\ttest: 0.7175361\tbest: 0.7175361 (0)\ttotal: 75ms\tremaining: 3m 40s\n",
      "300:\ttest: 0.7421740\tbest: 0.7421740 (300)\ttotal: 21.1s\tremaining: 3m 5s\n",
      "600:\ttest: 0.7427999\tbest: 0.7427999 (600)\ttotal: 42.9s\tremaining: 2m 47s\n",
      "900:\ttest: 0.7428935\tbest: 0.7429361 (815)\ttotal: 1m 4s\tremaining: 2m 27s\n",
      "1200:\ttest: 0.7428247\tbest: 0.7429930 (1001)\ttotal: 1m 26s\tremaining: 2m 6s\n"
     ]
    },
    {
     "name": "stderr",
     "output_type": "stream",
     "text": [
      "[I 2025-02-25 17:31:39,566] Trial 10 finished with value: 0.7429930391615726 and parameters: {'iterations': 2945, 'depth': 6, 'learning_rate': 0.07265276039199581, 'l2_leaf_reg': 97.18545559492516}. Best is trial 10 with value: 0.7429930391615726.\n"
     ]
    },
    {
     "name": "stdout",
     "output_type": "stream",
     "text": [
      "Stopped by overfitting detector  (300 iterations wait)\n",
      "\n",
      "bestTest = 0.7429930392\n",
      "bestIteration = 1001\n",
      "\n",
      "Shrink model to first 1002 iterations.\n",
      "저장 완료\n",
      "0:\ttest: 0.7175361\tbest: 0.7175361 (0)\ttotal: 76.1ms\tremaining: 3m 47s\n",
      "300:\ttest: 0.7422888\tbest: 0.7423082 (290)\ttotal: 20.4s\tremaining: 3m 2s\n",
      "600:\ttest: 0.7426348\tbest: 0.7426367 (596)\ttotal: 42.3s\tremaining: 2m 48s\n",
      "900:\ttest: 0.7427150\tbest: 0.7427343 (883)\ttotal: 1m 3s\tremaining: 2m 28s\n",
      "1200:\ttest: 0.7425930\tbest: 0.7427547 (923)\ttotal: 1m 25s\tremaining: 2m 7s\n"
     ]
    },
    {
     "name": "stderr",
     "output_type": "stream",
     "text": [
      "[I 2025-02-25 17:33:06,820] Trial 11 finished with value: 0.7427547188579726 and parameters: {'iterations': 2994, 'depth': 6, 'learning_rate': 0.07131044509072976, 'l2_leaf_reg': 73.1213351392818}. Best is trial 10 with value: 0.7429930391615726.\n"
     ]
    },
    {
     "name": "stdout",
     "output_type": "stream",
     "text": [
      "Stopped by overfitting detector  (300 iterations wait)\n",
      "\n",
      "bestTest = 0.7427547189\n",
      "bestIteration = 923\n",
      "\n",
      "Shrink model to first 924 iterations.\n",
      "0:\ttest: 0.7175361\tbest: 0.7175361 (0)\ttotal: 74.3ms\tremaining: 1m 57s\n",
      "300:\ttest: 0.7422580\tbest: 0.7422858 (263)\ttotal: 20.6s\tremaining: 1m 28s\n",
      "600:\ttest: 0.7425953\tbest: 0.7426511 (542)\ttotal: 42.4s\tremaining: 1m 9s\n",
      "900:\ttest: 0.7427282\tbest: 0.7427504 (893)\ttotal: 1m 4s\tremaining: 49s\n",
      "1200:\ttest: 0.7426707\tbest: 0.7427580 (992)\ttotal: 1m 26s\tremaining: 27.8s\n"
     ]
    },
    {
     "name": "stderr",
     "output_type": "stream",
     "text": [
      "[I 2025-02-25 17:34:40,130] Trial 12 finished with value: 0.7427580070753224 and parameters: {'iterations': 1588, 'depth': 6, 'learning_rate': 0.07382783813729096, 'l2_leaf_reg': 87.13438924619796}. Best is trial 10 with value: 0.7429930391615726.\n"
     ]
    },
    {
     "name": "stdout",
     "output_type": "stream",
     "text": [
      "Stopped by overfitting detector  (300 iterations wait)\n",
      "\n",
      "bestTest = 0.7427580071\n",
      "bestIteration = 992\n",
      "\n",
      "Shrink model to first 993 iterations.\n",
      "0:\ttest: 0.7028774\tbest: 0.7028774 (0)\ttotal: 62.8ms\tremaining: 3m 6s\n",
      "300:\ttest: 0.7422585\tbest: 0.7423140 (280)\ttotal: 18s\tremaining: 2m 39s\n",
      "600:\ttest: 0.7425258\tbest: 0.7425567 (532)\ttotal: 36.4s\tremaining: 2m 23s\n"
     ]
    },
    {
     "name": "stderr",
     "output_type": "stream",
     "text": [
      "[I 2025-02-25 17:35:31,011] Trial 13 finished with value: 0.742556707015847 and parameters: {'iterations': 2975, 'depth': 5, 'learning_rate': 0.07888750974731618, 'l2_leaf_reg': 6.819372056732044}. Best is trial 10 with value: 0.7429930391615726.\n"
     ]
    },
    {
     "name": "stdout",
     "output_type": "stream",
     "text": [
      "Stopped by overfitting detector  (300 iterations wait)\n",
      "\n",
      "bestTest = 0.742556707\n",
      "bestIteration = 532\n",
      "\n",
      "Shrink model to first 533 iterations.\n",
      "0:\ttest: 0.7201628\tbest: 0.7201628 (0)\ttotal: 94.7ms\tremaining: 4m 15s\n",
      "300:\ttest: 0.7425150\tbest: 0.7425439 (283)\ttotal: 27.1s\tremaining: 3m 35s\n",
      "600:\ttest: 0.7423875\tbest: 0.7428031 (459)\ttotal: 57.7s\tremaining: 3m 21s\n"
     ]
    },
    {
     "name": "stderr",
     "output_type": "stream",
     "text": [
      "[I 2025-02-25 17:36:44,605] Trial 14 finished with value: 0.742803053270249 and parameters: {'iterations': 2702, 'depth': 8, 'learning_rate': 0.06308101933412968, 'l2_leaf_reg': 11.438982664164415}. Best is trial 10 with value: 0.7429930391615726.\n"
     ]
    },
    {
     "name": "stdout",
     "output_type": "stream",
     "text": [
      "Stopped by overfitting detector  (300 iterations wait)\n",
      "\n",
      "bestTest = 0.7428030533\n",
      "bestIteration = 459\n",
      "\n",
      "Shrink model to first 460 iterations.\n",
      "0:\ttest: 0.7243393\tbest: 0.7243393 (0)\ttotal: 111ms\tremaining: 5m 6s\n",
      "300:\ttest: 0.7418302\tbest: 0.7418302 (300)\ttotal: 29.2s\tremaining: 3m 57s\n",
      "600:\ttest: 0.7425456\tbest: 0.7425850 (588)\ttotal: 1m 3s\tremaining: 3m 45s\n"
     ]
    },
    {
     "name": "stderr",
     "output_type": "stream",
     "text": [
      "[I 2025-02-25 17:38:21,518] Trial 15 finished with value: 0.7425849507378179 and parameters: {'iterations': 2753, 'depth': 9, 'learning_rate': 0.03259885190735587, 'l2_leaf_reg': 4.722389127363701}. Best is trial 10 with value: 0.7429930391615726.\n"
     ]
    },
    {
     "name": "stdout",
     "output_type": "stream",
     "text": [
      "Stopped by overfitting detector  (300 iterations wait)\n",
      "\n",
      "bestTest = 0.7425849507\n",
      "bestIteration = 588\n",
      "\n",
      "Shrink model to first 589 iterations.\n",
      "0:\ttest: 0.7201725\tbest: 0.7201725 (0)\ttotal: 102ms\tremaining: 4m 45s\n",
      "300:\ttest: 0.7414156\tbest: 0.7414949 (210)\ttotal: 27.3s\tremaining: 3m 47s\n",
      "600:\ttest: 0.7399978\tbest: 0.7415978 (374)\ttotal: 57s\tremaining: 3m 30s\n"
     ]
    },
    {
     "name": "stderr",
     "output_type": "stream",
     "text": [
      "[I 2025-02-25 17:39:26,111] Trial 16 finished with value: 0.7415977548179016 and parameters: {'iterations': 2815, 'depth': 8, 'learning_rate': 0.061662991475729484, 'l2_leaf_reg': 0.03562900678874207}. Best is trial 10 with value: 0.7429930391615726.\n"
     ]
    },
    {
     "name": "stdout",
     "output_type": "stream",
     "text": [
      "Stopped by overfitting detector  (300 iterations wait)\n",
      "\n",
      "bestTest = 0.7415977548\n",
      "bestIteration = 374\n",
      "\n",
      "Shrink model to first 375 iterations.\n",
      "0:\ttest: 0.7201714\tbest: 0.7201714 (0)\ttotal: 104ms\tremaining: 4m 27s\n",
      "300:\ttest: 0.7424920\tbest: 0.7425204 (279)\ttotal: 27.5s\tremaining: 3m 27s\n",
      "600:\ttest: 0.7418196\tbest: 0.7425790 (311)\ttotal: 57.5s\tremaining: 3m 7s\n"
     ]
    },
    {
     "name": "stderr",
     "output_type": "stream",
     "text": [
      "[I 2025-02-25 17:40:24,898] Trial 17 finished with value: 0.7425789501382822 and parameters: {'iterations': 2565, 'depth': 8, 'learning_rate': 0.06074791161960117, 'l2_leaf_reg': 0.5610725433980096}. Best is trial 10 with value: 0.7429930391615726.\n"
     ]
    },
    {
     "name": "stdout",
     "output_type": "stream",
     "text": [
      "Stopped by overfitting detector  (300 iterations wait)\n",
      "\n",
      "bestTest = 0.7425789501\n",
      "bestIteration = 311\n",
      "\n",
      "Shrink model to first 312 iterations.\n",
      "0:\ttest: 0.7201599\tbest: 0.7201599 (0)\ttotal: 99.1ms\tremaining: 4m 39s\n",
      "300:\ttest: 0.7415299\tbest: 0.7415299 (300)\ttotal: 26.1s\tremaining: 3m 38s\n",
      "600:\ttest: 0.7424543\tbest: 0.7424759 (573)\ttotal: 54.3s\tremaining: 3m 20s\n",
      "900:\ttest: 0.7425048\tbest: 0.7425999 (718)\ttotal: 1m 23s\tremaining: 2m 58s\n"
     ]
    },
    {
     "name": "stderr",
     "output_type": "stream",
     "text": [
      "[I 2025-02-25 17:42:00,626] Trial 18 finished with value: 0.742599886710587 and parameters: {'iterations': 2818, 'depth': 8, 'learning_rate': 0.031028793579317128, 'l2_leaf_reg': 18.78674759977375}. Best is trial 10 with value: 0.7429930391615726.\n"
     ]
    },
    {
     "name": "stdout",
     "output_type": "stream",
     "text": [
      "Stopped by overfitting detector  (300 iterations wait)\n",
      "\n",
      "bestTest = 0.7425998867\n",
      "bestIteration = 718\n",
      "\n",
      "Shrink model to first 719 iterations.\n",
      "0:\ttest: 0.7176315\tbest: 0.7176315 (0)\ttotal: 83.9ms\tremaining: 3m 26s\n",
      "300:\ttest: 0.7420142\tbest: 0.7420142 (300)\ttotal: 24.6s\tremaining: 2m 56s\n"
     ]
    },
    {
     "name": "stderr",
     "output_type": "stream",
     "text": [
      "[I 2025-02-25 17:42:51,252] Trial 19 finished with value: 0.7420142424924954 and parameters: {'iterations': 2460, 'depth': 7, 'learning_rate': 0.0869018854727605, 'l2_leaf_reg': 0.011209249875988852}. Best is trial 10 with value: 0.7429930391615726.\n"
     ]
    },
    {
     "name": "stdout",
     "output_type": "stream",
     "text": [
      "600:\ttest: 0.7404285\tbest: 0.7420142 (300)\ttotal: 50.5s\tremaining: 2m 36s\n",
      "Stopped by overfitting detector  (300 iterations wait)\n",
      "\n",
      "bestTest = 0.7420142425\n",
      "bestIteration = 300\n",
      "\n",
      "Shrink model to first 301 iterations.\n",
      "0:\ttest: 0.7201690\tbest: 0.7201690 (0)\ttotal: 94.3ms\tremaining: 4m 16s\n",
      "300:\ttest: 0.7421277\tbest: 0.7421609 (287)\ttotal: 27.7s\tremaining: 3m 42s\n",
      "600:\ttest: 0.7418348\tbest: 0.7421733 (331)\ttotal: 57.7s\tremaining: 3m 23s\n"
     ]
    },
    {
     "name": "stderr",
     "output_type": "stream",
     "text": [
      "[I 2025-02-25 17:43:52,193] Trial 20 finished with value: 0.7421732881647701 and parameters: {'iterations': 2723, 'depth': 8, 'learning_rate': 0.06354510744730268, 'l2_leaf_reg': 3.5865469747817222}. Best is trial 10 with value: 0.7429930391615726.\n"
     ]
    },
    {
     "name": "stdout",
     "output_type": "stream",
     "text": [
      "Stopped by overfitting detector  (300 iterations wait)\n",
      "\n",
      "bestTest = 0.7421732882\n",
      "bestIteration = 331\n",
      "\n",
      "Shrink model to first 332 iterations.\n",
      "0:\ttest: 0.7028774\tbest: 0.7028774 (0)\ttotal: 65.5ms\tremaining: 2m 18s\n",
      "300:\ttest: 0.7420559\tbest: 0.7420587 (299)\ttotal: 18.2s\tremaining: 1m 49s\n",
      "600:\ttest: 0.7424132\tbest: 0.7424706 (515)\ttotal: 36.7s\tremaining: 1m 32s\n",
      "900:\ttest: 0.7425352\tbest: 0.7425836 (830)\ttotal: 55.4s\tremaining: 1m 14s\n",
      "1200:\ttest: 0.7425616\tbest: 0.7426435 (1142)\ttotal: 1m 14s\tremaining: 56.6s\n"
     ]
    },
    {
     "name": "stderr",
     "output_type": "stream",
     "text": [
      "[I 2025-02-25 17:45:21,619] Trial 21 finished with value: 0.7426435072170732 and parameters: {'iterations': 2118, 'depth': 5, 'learning_rate': 0.08380763788030844, 'l2_leaf_reg': 30.78589606030415}. Best is trial 10 with value: 0.7429930391615726.\n"
     ]
    },
    {
     "name": "stdout",
     "output_type": "stream",
     "text": [
      "Stopped by overfitting detector  (300 iterations wait)\n",
      "\n",
      "bestTest = 0.7426435072\n",
      "bestIteration = 1142\n",
      "\n",
      "Shrink model to first 1143 iterations.\n",
      "0:\ttest: 0.7028774\tbest: 0.7028774 (0)\ttotal: 68ms\tremaining: 3m 18s\n",
      "300:\ttest: 0.7417962\tbest: 0.7418203 (292)\ttotal: 18s\tremaining: 2m 36s\n",
      "600:\ttest: 0.7423053\tbest: 0.7423923 (564)\ttotal: 37.2s\tremaining: 2m 23s\n"
     ]
    },
    {
     "name": "stderr",
     "output_type": "stream",
     "text": [
      "[I 2025-02-25 17:46:15,564] Trial 22 finished with value: 0.7423923120334633 and parameters: {'iterations': 2923, 'depth': 5, 'learning_rate': 0.07959785181297444, 'l2_leaf_reg': 27.66870336275302}. Best is trial 10 with value: 0.7429930391615726.\n"
     ]
    },
    {
     "name": "stdout",
     "output_type": "stream",
     "text": [
      "Stopped by overfitting detector  (300 iterations wait)\n",
      "\n",
      "bestTest = 0.742392312\n",
      "bestIteration = 564\n",
      "\n",
      "Shrink model to first 565 iterations.\n",
      "0:\ttest: 0.7175361\tbest: 0.7175361 (0)\ttotal: 75.7ms\tremaining: 2m 30s\n",
      "300:\ttest: 0.7421908\tbest: 0.7422138 (297)\ttotal: 21s\tremaining: 1m 57s\n",
      "600:\ttest: 0.7423848\tbest: 0.7423951 (588)\ttotal: 43.1s\tremaining: 1m 39s\n",
      "900:\ttest: 0.7424017\tbest: 0.7425418 (754)\ttotal: 1m 5s\tremaining: 1m 18s\n"
     ]
    },
    {
     "name": "stderr",
     "output_type": "stream",
     "text": [
      "[I 2025-02-25 17:47:32,283] Trial 23 finished with value: 0.7425418425260639 and parameters: {'iterations': 1990, 'depth': 6, 'learning_rate': 0.09942678222327378, 'l2_leaf_reg': 89.42219921015187}. Best is trial 10 with value: 0.7429930391615726.\n"
     ]
    },
    {
     "name": "stdout",
     "output_type": "stream",
     "text": [
      "Stopped by overfitting detector  (300 iterations wait)\n",
      "\n",
      "bestTest = 0.7425418425\n",
      "bestIteration = 754\n",
      "\n",
      "Shrink model to first 755 iterations.\n",
      "0:\ttest: 0.7243459\tbest: 0.7243459 (0)\ttotal: 131ms\tremaining: 3m 51s\n",
      "300:\ttest: 0.7418842\tbest: 0.7423907 (232)\ttotal: 32s\tremaining: 2m 36s\n"
     ]
    },
    {
     "name": "stderr",
     "output_type": "stream",
     "text": [
      "[I 2025-02-25 17:48:31,116] Trial 24 finished with value: 0.7423907433790513 and parameters: {'iterations': 1773, 'depth': 9, 'learning_rate': 0.06536832485797302, 'l2_leaf_reg': 1.6951625535387}. Best is trial 10 with value: 0.7429930391615726.\n"
     ]
    },
    {
     "name": "stdout",
     "output_type": "stream",
     "text": [
      "Stopped by overfitting detector  (300 iterations wait)\n",
      "\n",
      "bestTest = 0.7423907434\n",
      "bestIteration = 232\n",
      "\n",
      "Shrink model to first 233 iterations.\n",
      "0:\ttest: 0.7028774\tbest: 0.7028774 (0)\ttotal: 64.3ms\tremaining: 2m 26s\n",
      "300:\ttest: 0.7414590\tbest: 0.7414590 (300)\ttotal: 17.7s\tremaining: 1m 55s\n",
      "600:\ttest: 0.7423887\tbest: 0.7423978 (599)\ttotal: 36.4s\tremaining: 1m 41s\n",
      "900:\ttest: 0.7424967\tbest: 0.7425021 (893)\ttotal: 55.9s\tremaining: 1m 25s\n",
      "1200:\ttest: 0.7423583\tbest: 0.7425155 (913)\ttotal: 1m 15s\tremaining: 1m 7s\n"
     ]
    },
    {
     "name": "stderr",
     "output_type": "stream",
     "text": [
      "[I 2025-02-25 17:49:47,581] Trial 25 finished with value: 0.7425155407585422 and parameters: {'iterations': 2272, 'depth': 5, 'learning_rate': 0.053921501340878766, 'l2_leaf_reg': 21.74221684680112}. Best is trial 10 with value: 0.7429930391615726.\n"
     ]
    },
    {
     "name": "stdout",
     "output_type": "stream",
     "text": [
      "Stopped by overfitting detector  (300 iterations wait)\n",
      "\n",
      "bestTest = 0.7425155408\n",
      "bestIteration = 913\n",
      "\n",
      "Shrink model to first 914 iterations.\n",
      "0:\ttest: 0.7176315\tbest: 0.7176315 (0)\ttotal: 106ms\tremaining: 5m 2s\n",
      "300:\ttest: 0.7424540\tbest: 0.7425535 (265)\ttotal: 24.7s\tremaining: 3m 30s\n",
      "600:\ttest: 0.7425962\tbest: 0.7426505 (580)\ttotal: 51.3s\tremaining: 3m 13s\n"
     ]
    },
    {
     "name": "stderr",
     "output_type": "stream",
     "text": [
      "[I 2025-02-25 17:51:04,566] Trial 26 finished with value: 0.7426504728369181 and parameters: {'iterations': 2867, 'depth': 7, 'learning_rate': 0.055717933695004454, 'l2_leaf_reg': 0.30721818089726916}. Best is trial 10 with value: 0.7429930391615726.\n"
     ]
    },
    {
     "name": "stdout",
     "output_type": "stream",
     "text": [
      "Stopped by overfitting detector  (300 iterations wait)\n",
      "\n",
      "bestTest = 0.7426504728\n",
      "bestIteration = 580\n",
      "\n",
      "Shrink model to first 581 iterations.\n",
      "0:\ttest: 0.7242685\tbest: 0.7242685 (0)\ttotal: 134ms\tremaining: 5m 56s\n",
      "300:\ttest: 0.7427518\tbest: 0.7427518 (300)\ttotal: 32.8s\tremaining: 4m 17s\n",
      "600:\ttest: 0.7423584\tbest: 0.7428113 (351)\ttotal: 1m 7s\tremaining: 3m 51s\n"
     ]
    },
    {
     "name": "stderr",
     "output_type": "stream",
     "text": [
      "[I 2025-02-25 17:52:17,921] Trial 27 finished with value: 0.7428112817561775 and parameters: {'iterations': 2662, 'depth': 9, 'learning_rate': 0.07702966604555435, 'l2_leaf_reg': 38.52950245731381}. Best is trial 10 with value: 0.7429930391615726.\n"
     ]
    },
    {
     "name": "stdout",
     "output_type": "stream",
     "text": [
      "Stopped by overfitting detector  (300 iterations wait)\n",
      "\n",
      "bestTest = 0.7428112818\n",
      "bestIteration = 351\n",
      "\n",
      "Shrink model to first 352 iterations.\n",
      "0:\ttest: 0.7243453\tbest: 0.7243453 (0)\ttotal: 129ms\tremaining: 5m 39s\n",
      "300:\ttest: 0.7415956\tbest: 0.7418729 (247)\ttotal: 31.5s\tremaining: 4m 5s\n"
     ]
    },
    {
     "name": "stderr",
     "output_type": "stream",
     "text": [
      "[I 2025-02-25 17:53:18,793] Trial 28 finished with value: 0.7418728928304996 and parameters: {'iterations': 2645, 'depth': 9, 'learning_rate': 0.07229529190818629, 'l2_leaf_reg': 2.0304075207350003}. Best is trial 10 with value: 0.7429930391615726.\n"
     ]
    },
    {
     "name": "stdout",
     "output_type": "stream",
     "text": [
      "Stopped by overfitting detector  (300 iterations wait)\n",
      "\n",
      "bestTest = 0.7418728928\n",
      "bestIteration = 247\n",
      "\n",
      "Shrink model to first 248 iterations.\n",
      "0:\ttest: 0.7277014\tbest: 0.7277014 (0)\ttotal: 137ms\tremaining: 5m 29s\n",
      "300:\ttest: 0.7419714\tbest: 0.7426981 (217)\ttotal: 46.3s\tremaining: 5m 24s\n"
     ]
    },
    {
     "name": "stderr",
     "output_type": "stream",
     "text": [
      "[I 2025-02-25 17:54:44,157] Trial 29 finished with value: 0.7426980963906128 and parameters: {'iterations': 2411, 'depth': 10, 'learning_rate': 0.08761825195142714, 'l2_leaf_reg': 9.626994619429544}. Best is trial 10 with value: 0.7429930391615726.\n"
     ]
    },
    {
     "name": "stdout",
     "output_type": "stream",
     "text": [
      "Stopped by overfitting detector  (300 iterations wait)\n",
      "\n",
      "bestTest = 0.7426980964\n",
      "bestIteration = 217\n",
      "\n",
      "Shrink model to first 218 iterations.\n",
      "0:\ttest: 0.7243211\tbest: 0.7243211 (0)\ttotal: 137ms\tremaining: 6m 9s\n",
      "300:\ttest: 0.7419832\tbest: 0.7419832 (300)\ttotal: 30.7s\tremaining: 4m 4s\n",
      "600:\ttest: 0.7420391\tbest: 0.7422846 (465)\ttotal: 1m 6s\tremaining: 3m 50s\n"
     ]
    },
    {
     "name": "stderr",
     "output_type": "stream",
     "text": [
      "[I 2025-02-25 17:56:10,460] Trial 30 finished with value: 0.7422845871737633 and parameters: {'iterations': 2697, 'depth': 9, 'learning_rate': 0.04353500972201759, 'l2_leaf_reg': 11.958707278104946}. Best is trial 10 with value: 0.7429930391615726.\n"
     ]
    },
    {
     "name": "stdout",
     "output_type": "stream",
     "text": [
      "Stopped by overfitting detector  (300 iterations wait)\n",
      "\n",
      "bestTest = 0.7422845872\n",
      "bestIteration = 465\n",
      "\n",
      "Shrink model to first 466 iterations.\n",
      "0:\ttest: 0.7201475\tbest: 0.7201475 (0)\ttotal: 128ms\tremaining: 5m 25s\n",
      "300:\ttest: 0.7425271\tbest: 0.7425271 (300)\ttotal: 28.8s\tremaining: 3m 35s\n",
      "600:\ttest: 0.7426190\tbest: 0.7427497 (427)\ttotal: 59.3s\tremaining: 3m 12s\n"
     ]
    },
    {
     "name": "stderr",
     "output_type": "stream",
     "text": [
      "[I 2025-02-25 17:57:22,560] Trial 31 finished with value: 0.742749719020239 and parameters: {'iterations': 2553, 'depth': 8, 'learning_rate': 0.08011007589541393, 'l2_leaf_reg': 38.51349387716031}. Best is trial 10 with value: 0.7429930391615726.\n"
     ]
    },
    {
     "name": "stdout",
     "output_type": "stream",
     "text": [
      "Stopped by overfitting detector  (300 iterations wait)\n",
      "\n",
      "bestTest = 0.742749719\n",
      "bestIteration = 427\n",
      "\n",
      "Shrink model to first 428 iterations.\n",
      "0:\ttest: 0.7175361\tbest: 0.7175361 (0)\ttotal: 76.7ms\tremaining: 3m 38s\n",
      "300:\ttest: 0.7421278\tbest: 0.7421426 (290)\ttotal: 21s\tremaining: 2m 58s\n",
      "600:\ttest: 0.7422552\tbest: 0.7423204 (430)\ttotal: 43.9s\tremaining: 2m 44s\n"
     ]
    },
    {
     "name": "stderr",
     "output_type": "stream",
     "text": [
      "[I 2025-02-25 17:58:16,172] Trial 32 finished with value: 0.7423204120635132 and parameters: {'iterations': 2857, 'depth': 6, 'learning_rate': 0.07555663819749076, 'l2_leaf_reg': 47.75436514950268}. Best is trial 10 with value: 0.7429930391615726.\n"
     ]
    },
    {
     "name": "stdout",
     "output_type": "stream",
     "text": [
      "Stopped by overfitting detector  (300 iterations wait)\n",
      "\n",
      "bestTest = 0.7423204121\n",
      "bestIteration = 430\n",
      "\n",
      "Shrink model to first 431 iterations.\n",
      "0:\ttest: 0.7276926\tbest: 0.7276926 (0)\ttotal: 141ms\tremaining: 5m 11s\n",
      "300:\ttest: 0.7417622\tbest: 0.7419909 (237)\ttotal: 44.6s\tremaining: 4m 43s\n"
     ]
    },
    {
     "name": "stderr",
     "output_type": "stream",
     "text": [
      "[I 2025-02-25 17:59:41,896] Trial 33 finished with value: 0.7419909350678262 and parameters: {'iterations': 2217, 'depth': 10, 'learning_rate': 0.06694840942705059, 'l2_leaf_reg': 10.690828615673574}. Best is trial 10 with value: 0.7429930391615726.\n"
     ]
    },
    {
     "name": "stdout",
     "output_type": "stream",
     "text": [
      "Stopped by overfitting detector  (300 iterations wait)\n",
      "\n",
      "bestTest = 0.7419909351\n",
      "bestIteration = 237\n",
      "\n",
      "Shrink model to first 238 iterations.\n",
      "0:\ttest: 0.7028774\tbest: 0.7028774 (0)\ttotal: 69.6ms\tremaining: 2m 50s\n",
      "300:\ttest: 0.7417166\tbest: 0.7417353 (268)\ttotal: 19.3s\tremaining: 2m 17s\n",
      "600:\ttest: 0.7422224\tbest: 0.7422457 (566)\ttotal: 38.1s\tremaining: 1m 57s\n",
      "900:\ttest: 0.7421464\tbest: 0.7422712 (631)\ttotal: 56.7s\tremaining: 1m 37s\n"
     ]
    },
    {
     "name": "stderr",
     "output_type": "stream",
     "text": [
      "[I 2025-02-25 18:00:40,898] Trial 34 finished with value: 0.7422712277979604 and parameters: {'iterations': 2452, 'depth': 5, 'learning_rate': 0.09253348873603784, 'l2_leaf_reg': 51.15075349376558}. Best is trial 10 with value: 0.7429930391615726.\n"
     ]
    },
    {
     "name": "stdout",
     "output_type": "stream",
     "text": [
      "Stopped by overfitting detector  (300 iterations wait)\n",
      "\n",
      "bestTest = 0.7422712278\n",
      "bestIteration = 631\n",
      "\n",
      "Shrink model to first 632 iterations.\n",
      "0:\ttest: 0.7243451\tbest: 0.7243451 (0)\ttotal: 122ms\tremaining: 4m 44s\n",
      "300:\ttest: 0.7425299\tbest: 0.7426610 (282)\ttotal: 31.8s\tremaining: 3m 34s\n"
     ]
    },
    {
     "name": "stderr",
     "output_type": "stream",
     "text": [
      "[I 2025-02-25 18:01:46,148] Trial 35 finished with value: 0.7426609689220094 and parameters: {'iterations': 2328, 'depth': 9, 'learning_rate': 0.05847765248355065, 'l2_leaf_reg': 3.6247674169894712}. Best is trial 10 with value: 0.7429930391615726.\n"
     ]
    },
    {
     "name": "stdout",
     "output_type": "stream",
     "text": [
      "Stopped by overfitting detector  (300 iterations wait)\n",
      "\n",
      "bestTest = 0.7426609689\n",
      "bestIteration = 282\n",
      "\n",
      "Shrink model to first 283 iterations.\n",
      "0:\ttest: 0.6943640\tbest: 0.6943640 (0)\ttotal: 64.5ms\tremaining: 2m 58s\n",
      "300:\ttest: 0.7412876\tbest: 0.7412876 (300)\ttotal: 14.9s\tremaining: 2m 1s\n",
      "600:\ttest: 0.7420191\tbest: 0.7420193 (598)\ttotal: 29.5s\tremaining: 1m 46s\n",
      "900:\ttest: 0.7421441\tbest: 0.7421872 (726)\ttotal: 45.2s\tremaining: 1m 33s\n",
      "1200:\ttest: 0.7422416\tbest: 0.7422572 (1163)\ttotal: 1m\tremaining: 1m 18s\n"
     ]
    },
    {
     "name": "stderr",
     "output_type": "stream",
     "text": [
      "[I 2025-02-25 18:03:00,007] Trial 36 finished with value: 0.7422571813912378 and parameters: {'iterations': 2767, 'depth': 4, 'learning_rate': 0.08462824959815503, 'l2_leaf_reg': 95.01657150245457}. Best is trial 10 with value: 0.7429930391615726.\n"
     ]
    },
    {
     "name": "stdout",
     "output_type": "stream",
     "text": [
      "Stopped by overfitting detector  (300 iterations wait)\n",
      "\n",
      "bestTest = 0.7422571814\n",
      "bestIteration = 1163\n",
      "\n",
      "Shrink model to first 1164 iterations.\n",
      "0:\ttest: 0.7176294\tbest: 0.7176294 (0)\ttotal: 83ms\tremaining: 4m 2s\n",
      "300:\ttest: 0.7421560\tbest: 0.7422537 (294)\ttotal: 24.5s\tremaining: 3m 33s\n",
      "600:\ttest: 0.7421696\tbest: 0.7422755 (530)\ttotal: 50.7s\tremaining: 3m 15s\n"
     ]
    },
    {
     "name": "stderr",
     "output_type": "stream",
     "text": [
      "[I 2025-02-25 18:04:10,907] Trial 37 finished with value: 0.7422755048632814 and parameters: {'iterations': 2922, 'depth': 7, 'learning_rate': 0.06653362574412824, 'l2_leaf_reg': 12.028469638652902}. Best is trial 10 with value: 0.7429930391615726.\n"
     ]
    },
    {
     "name": "stdout",
     "output_type": "stream",
     "text": [
      "Stopped by overfitting detector  (300 iterations wait)\n",
      "\n",
      "bestTest = 0.7422755049\n",
      "bestIteration = 530\n",
      "\n",
      "Shrink model to first 531 iterations.\n",
      "0:\ttest: 0.7175361\tbest: 0.7175361 (0)\ttotal: 76.6ms\tremaining: 3m 24s\n",
      "300:\ttest: 0.7415024\tbest: 0.7415024 (300)\ttotal: 21s\tremaining: 2m 44s\n",
      "600:\ttest: 0.7424113\tbest: 0.7424396 (591)\ttotal: 43.2s\tremaining: 2m 28s\n",
      "900:\ttest: 0.7424641\tbest: 0.7425007 (820)\ttotal: 1m 5s\tremaining: 2m 9s\n",
      "1200:\ttest: 0.7424443\tbest: 0.7425290 (1060)\ttotal: 1m 28s\tremaining: 1m 48s\n"
     ]
    },
    {
     "name": "stderr",
     "output_type": "stream",
     "text": [
      "[I 2025-02-25 18:05:52,159] Trial 38 finished with value: 0.742528975588608 and parameters: {'iterations': 2667, 'depth': 6, 'learning_rate': 0.04794659715058358, 'l2_leaf_reg': 20.04454017906448}. Best is trial 10 with value: 0.7429930391615726.\n"
     ]
    },
    {
     "name": "stdout",
     "output_type": "stream",
     "text": [
      "Stopped by overfitting detector  (300 iterations wait)\n",
      "\n",
      "bestTest = 0.7425289756\n",
      "bestIteration = 1060\n",
      "\n",
      "Shrink model to first 1061 iterations.\n",
      "0:\ttest: 0.6943640\tbest: 0.6943640 (0)\ttotal: 57.8ms\tremaining: 2m 2s\n",
      "300:\ttest: 0.7357119\tbest: 0.7357119 (300)\ttotal: 14.1s\tremaining: 1m 25s\n",
      "600:\ttest: 0.7387391\tbest: 0.7387391 (600)\ttotal: 28.8s\tremaining: 1m 12s\n",
      "900:\ttest: 0.7400050\tbest: 0.7400050 (900)\ttotal: 43.7s\tremaining: 59.1s\n",
      "1200:\ttest: 0.7407190\tbest: 0.7407190 (1200)\ttotal: 58.7s\tremaining: 44.9s\n",
      "1500:\ttest: 0.7411169\tbest: 0.7411169 (1499)\ttotal: 1m 14s\tremaining: 30.7s\n",
      "1800:\ttest: 0.7413656\tbest: 0.7413656 (1800)\ttotal: 1m 29s\tremaining: 15.8s\n",
      "2100:\ttest: 0.7415287\tbest: 0.7415318 (2094)\ttotal: 1m 44s\tremaining: 899ms\n"
     ]
    },
    {
     "name": "stderr",
     "output_type": "stream",
     "text": [
      "[I 2025-02-25 18:07:38,305] Trial 39 finished with value: 0.7415474744798989 and parameters: {'iterations': 2119, 'depth': 4, 'learning_rate': 0.014273560543182656, 'l2_leaf_reg': 40.76990245295313}. Best is trial 10 with value: 0.7429930391615726.\n",
      "[I 2025-02-25 18:07:38,309] A new study created in memory with name: no-name-a2a205f6-dc12-48db-abd5-102d720bb502\n"
     ]
    },
    {
     "name": "stdout",
     "output_type": "stream",
     "text": [
      "2118:\ttest: 0.7415466\tbest: 0.7415475 (2117)\ttotal: 1m 45s\tremaining: 0us\n",
      "\n",
      "bestTest = 0.7415474745\n",
      "bestIteration = 2117\n",
      "\n",
      "Shrink model to first 2118 iterations.\n"
     ]
    },
    {
     "name": "stderr",
     "output_type": "stream",
     "text": [
      "[I 2025-02-25 18:08:01,644] Trial 0 finished with value: 0.7334550008170505 and parameters: {'num_iterations': 2366, 'objective': 'binary', 'metric': 'auc', 'verbose': -1, 'learning_rate': 0.0652646236447618, 'n_estimators': 236, 'min_child_samples': 45, 'subsample': 0.7, 'colsample_bytree': 0.5}. Best is trial 0 with value: 0.7334550008170505.\n",
      "[I 2025-02-25 18:08:18,596] Trial 1 finished with value: 0.7426047793238418 and parameters: {'num_iterations': 1510, 'objective': 'binary', 'metric': 'auc', 'verbose': -1, 'learning_rate': 0.005231880959249543, 'n_estimators': 1411, 'min_child_samples': 10, 'subsample': 1.0, 'colsample_bytree': 0.5}. Best is trial 1 with value: 0.7426047793238418.\n",
      "[I 2025-02-25 18:08:38,450] Trial 2 finished with value: 0.7420182177407649 and parameters: {'num_iterations': 2334, 'objective': 'binary', 'metric': 'auc', 'verbose': -1, 'learning_rate': 0.006578527777128852, 'n_estimators': 931, 'min_child_samples': 15, 'subsample': 0.5, 'colsample_bytree': 1.0}. Best is trial 1 with value: 0.7426047793238418.\n",
      "[I 2025-02-25 18:08:54,957] Trial 3 finished with value: 0.7426126384810101 and parameters: {'num_iterations': 1620, 'objective': 'binary', 'metric': 'auc', 'verbose': -1, 'learning_rate': 0.0058823249237283685, 'n_estimators': 837, 'min_child_samples': 10, 'subsample': 0.9, 'colsample_bytree': 0.6}. Best is trial 3 with value: 0.7426126384810101.\n",
      "[I 2025-02-25 18:09:11,649] Trial 4 finished with value: 0.7421658062789162 and parameters: {'num_iterations': 1997, 'objective': 'binary', 'metric': 'auc', 'verbose': -1, 'learning_rate': 0.010907507425244923, 'n_estimators': 1597, 'min_child_samples': 50, 'subsample': 0.6, 'colsample_bytree': 0.8}. Best is trial 3 with value: 0.7426126384810101.\n",
      "[I 2025-02-25 18:09:34,426] Trial 5 finished with value: 0.7399679189124966 and parameters: {'num_iterations': 2909, 'objective': 'binary', 'metric': 'auc', 'verbose': -1, 'learning_rate': 0.019760591962733942, 'n_estimators': 612, 'min_child_samples': 30, 'subsample': 0.7, 'colsample_bytree': 0.9}. Best is trial 3 with value: 0.7426126384810101.\n",
      "[I 2025-02-25 18:09:55,184] Trial 6 finished with value: 0.7404793757050903 and parameters: {'num_iterations': 2639, 'objective': 'binary', 'metric': 'auc', 'verbose': -1, 'learning_rate': 0.017862094446750985, 'n_estimators': 794, 'min_child_samples': 35, 'subsample': 1.0, 'colsample_bytree': 0.8}. Best is trial 3 with value: 0.7426126384810101.\n",
      "[I 2025-02-25 18:10:11,976] Trial 7 finished with value: 0.7422809455127612 and parameters: {'num_iterations': 1580, 'objective': 'binary', 'metric': 'auc', 'verbose': -1, 'learning_rate': 0.01776722177611332, 'n_estimators': 529, 'min_child_samples': 25, 'subsample': 0.8, 'colsample_bytree': 0.5}. Best is trial 3 with value: 0.7426126384810101.\n",
      "[I 2025-02-25 18:10:29,805] Trial 8 finished with value: 0.7403903674738562 and parameters: {'num_iterations': 1911, 'objective': 'binary', 'metric': 'auc', 'verbose': -1, 'learning_rate': 0.0304747553332844, 'n_estimators': 1328, 'min_child_samples': 10, 'subsample': 0.7, 'colsample_bytree': 0.6}. Best is trial 3 with value: 0.7426126384810101.\n",
      "[I 2025-02-25 18:10:57,095] Trial 9 finished with value: 0.7396672297037286 and parameters: {'num_iterations': 2739, 'objective': 'binary', 'metric': 'auc', 'verbose': -1, 'learning_rate': 0.02691531614176271, 'n_estimators': 1438, 'min_child_samples': 20, 'subsample': 0.6, 'colsample_bytree': 0.5}. Best is trial 3 with value: 0.7426126384810101.\n",
      "[I 2025-02-25 18:11:11,727] Trial 10 finished with value: 0.7330751878854829 and parameters: {'num_iterations': 1883, 'objective': 'binary', 'metric': 'auc', 'verbose': -1, 'learning_rate': 0.08223556891145911, 'n_estimators': 1917, 'min_child_samples': 40, 'subsample': 0.9, 'colsample_bytree': 0.7}. Best is trial 3 with value: 0.7426126384810101.\n",
      "[I 2025-02-25 18:11:27,407] Trial 11 finished with value: 0.7424674247665004 and parameters: {'num_iterations': 1513, 'objective': 'binary', 'metric': 'auc', 'verbose': -1, 'learning_rate': 0.005340229419903739, 'n_estimators': 1206, 'min_child_samples': 10, 'subsample': 1.0, 'colsample_bytree': 0.6}. Best is trial 3 with value: 0.7426126384810101.\n",
      "[I 2025-02-25 18:11:44,027] Trial 12 finished with value: 0.7427952695673435 and parameters: {'num_iterations': 1698, 'objective': 'binary', 'metric': 'auc', 'verbose': -1, 'learning_rate': 0.008515343845233947, 'n_estimators': 1719, 'min_child_samples': 20, 'subsample': 0.9, 'colsample_bytree': 0.6}. Best is trial 12 with value: 0.7427952695673435.\n",
      "[I 2025-02-25 18:11:59,209] Trial 13 finished with value: 0.7421692493760687 and parameters: {'num_iterations': 1785, 'objective': 'binary', 'metric': 'auc', 'verbose': -1, 'learning_rate': 0.010668787980411185, 'n_estimators': 2000, 'min_child_samples': 20, 'subsample': 0.9, 'colsample_bytree': 0.7}. Best is trial 12 with value: 0.7427952695673435.\n",
      "[I 2025-02-25 18:12:20,064] Trial 14 finished with value: 0.7429210835937445 and parameters: {'num_iterations': 2165, 'objective': 'binary', 'metric': 'auc', 'verbose': -1, 'learning_rate': 0.00865004642514095, 'n_estimators': 1729, 'min_child_samples': 20, 'subsample': 0.9, 'colsample_bytree': 0.6}. Best is trial 14 with value: 0.7429210835937445.\n",
      "[I 2025-02-25 18:12:38,156] Trial 15 finished with value: 0.742282665075699 and parameters: {'num_iterations': 2148, 'objective': 'binary', 'metric': 'auc', 'verbose': -1, 'learning_rate': 0.009840002207772997, 'n_estimators': 1672, 'min_child_samples': 25, 'subsample': 0.8, 'colsample_bytree': 0.7}. Best is trial 14 with value: 0.7429210835937445.\n",
      "[I 2025-02-25 18:12:58,768] Trial 16 finished with value: 0.7425402937280368 and parameters: {'num_iterations': 2120, 'objective': 'binary', 'metric': 'auc', 'verbose': -1, 'learning_rate': 0.008167453404878535, 'n_estimators': 1738, 'min_child_samples': 20, 'subsample': 0.9, 'colsample_bytree': 0.6}. Best is trial 14 with value: 0.7429210835937445.\n",
      "[I 2025-02-25 18:13:22,392] Trial 17 finished with value: 0.7417863587048319 and parameters: {'num_iterations': 2486, 'objective': 'binary', 'metric': 'auc', 'verbose': -1, 'learning_rate': 0.013506554227740967, 'n_estimators': 1178, 'min_child_samples': 25, 'subsample': 0.8, 'colsample_bytree': 0.6}. Best is trial 14 with value: 0.7429210835937445.\n",
      "[I 2025-02-25 18:13:36,507] Trial 18 finished with value: 0.7395621060304588 and parameters: {'num_iterations': 1739, 'objective': 'binary', 'metric': 'auc', 'verbose': -1, 'learning_rate': 0.034837136148039315, 'n_estimators': 1793, 'min_child_samples': 30, 'subsample': 0.9, 'colsample_bytree': 0.7}. Best is trial 14 with value: 0.7429210835937445.\n",
      "[I 2025-02-25 18:13:53,921] Trial 19 finished with value: 0.7422649770079741 and parameters: {'num_iterations': 2058, 'objective': 'binary', 'metric': 'auc', 'verbose': -1, 'learning_rate': 0.007799796217186023, 'n_estimators': 1528, 'min_child_samples': 15, 'subsample': 1.0, 'colsample_bytree': 0.8}. Best is trial 14 with value: 0.7429210835937445.\n",
      "[I 2025-02-25 18:14:13,253] Trial 20 finished with value: 0.7418223662733233 and parameters: {'num_iterations': 2230, 'objective': 'binary', 'metric': 'auc', 'verbose': -1, 'learning_rate': 0.01369383737508208, 'n_estimators': 1871, 'min_child_samples': 30, 'subsample': 0.8, 'colsample_bytree': 0.9}. Best is trial 14 with value: 0.7429210835937445.\n",
      "[I 2025-02-25 18:14:32,755] Trial 21 finished with value: 0.7426305886530163 and parameters: {'num_iterations': 1751, 'objective': 'binary', 'metric': 'auc', 'verbose': -1, 'learning_rate': 0.006562685092841078, 'n_estimators': 922, 'min_child_samples': 15, 'subsample': 0.9, 'colsample_bytree': 0.6}. Best is trial 14 with value: 0.7429210835937445.\n",
      "[I 2025-02-25 18:14:55,206] Trial 22 finished with value: 0.7428091293240475 and parameters: {'num_iterations': 1714, 'objective': 'binary', 'metric': 'auc', 'verbose': -1, 'learning_rate': 0.007898355076273417, 'n_estimators': 1036, 'min_child_samples': 15, 'subsample': 0.9, 'colsample_bytree': 0.6}. Best is trial 14 with value: 0.7429210835937445.\n",
      "[I 2025-02-25 18:15:13,180] Trial 23 finished with value: 0.7392200122877665 and parameters: {'num_iterations': 1695, 'objective': 'binary', 'metric': 'auc', 'verbose': -1, 'learning_rate': 0.04580037242263275, 'n_estimators': 1124, 'min_child_samples': 20, 'subsample': 1.0, 'colsample_bytree': 0.5}. Best is trial 14 with value: 0.7429210835937445.\n",
      "[I 2025-02-25 18:15:29,545] Trial 24 finished with value: 0.7418327313062739 and parameters: {'num_iterations': 1893, 'objective': 'binary', 'metric': 'auc', 'verbose': -1, 'learning_rate': 0.013763055533112498, 'n_estimators': 1359, 'min_child_samples': 15, 'subsample': 0.8, 'colsample_bytree': 0.7}. Best is trial 14 with value: 0.7429210835937445.\n",
      "[I 2025-02-25 18:15:48,926] Trial 25 finished with value: 0.7428355700862639 and parameters: {'num_iterations': 1956, 'objective': 'binary', 'metric': 'auc', 'verbose': -1, 'learning_rate': 0.00837405051737997, 'n_estimators': 1037, 'min_child_samples': 25, 'subsample': 0.9, 'colsample_bytree': 0.6}. Best is trial 14 with value: 0.7429210835937445.\n",
      "[I 2025-02-25 18:16:10,203] Trial 26 finished with value: 0.741873695028452 and parameters: {'num_iterations': 2226, 'objective': 'binary', 'metric': 'auc', 'verbose': -1, 'learning_rate': 0.011686004970307124, 'n_estimators': 631, 'min_child_samples': 25, 'subsample': 0.9, 'colsample_bytree': 0.6}. Best is trial 14 with value: 0.7429210835937445.\n",
      "[I 2025-02-25 18:16:27,374] Trial 27 finished with value: 0.7425794227202444 and parameters: {'num_iterations': 1978, 'objective': 'binary', 'metric': 'auc', 'verbose': -1, 'learning_rate': 0.007149120469466491, 'n_estimators': 1017, 'min_child_samples': 35, 'subsample': 1.0, 'colsample_bytree': 0.7}. Best is trial 14 with value: 0.7429210835937445.\n",
      "[I 2025-02-25 18:16:52,990] Trial 28 finished with value: 0.7423773522330324 and parameters: {'num_iterations': 2400, 'objective': 'binary', 'metric': 'auc', 'verbose': -1, 'learning_rate': 0.008852667065915495, 'n_estimators': 343, 'min_child_samples': 15, 'subsample': 0.8, 'colsample_bytree': 0.5}. Best is trial 14 with value: 0.7429210835937445.\n",
      "[I 2025-02-25 18:17:12,081] Trial 29 finished with value: 0.7411782569153474 and parameters: {'num_iterations': 1843, 'objective': 'binary', 'metric': 'auc', 'verbose': -1, 'learning_rate': 0.023262120366950273, 'n_estimators': 1257, 'min_child_samples': 35, 'subsample': 0.7, 'colsample_bytree': 0.5}. Best is trial 14 with value: 0.7429210835937445.\n",
      "[I 2025-02-25 18:17:31,940] Trial 30 finished with value: 0.7419338161908423 and parameters: {'num_iterations': 2101, 'objective': 'binary', 'metric': 'auc', 'verbose': -1, 'learning_rate': 0.0154238605324874, 'n_estimators': 104, 'min_child_samples': 25, 'subsample': 0.9, 'colsample_bytree': 0.6}. Best is trial 14 with value: 0.7429210835937445.\n",
      "[I 2025-02-25 18:17:48,517] Trial 31 finished with value: 0.7428003170604011 and parameters: {'num_iterations': 1609, 'objective': 'binary', 'metric': 'auc', 'verbose': -1, 'learning_rate': 0.00895008379921194, 'n_estimators': 1045, 'min_child_samples': 20, 'subsample': 0.9, 'colsample_bytree': 0.6}. Best is trial 14 with value: 0.7429210835937445.\n",
      "[I 2025-02-25 18:18:06,658] Trial 32 finished with value: 0.7427595201318565 and parameters: {'num_iterations': 1635, 'objective': 'binary', 'metric': 'auc', 'verbose': -1, 'learning_rate': 0.009593127729745925, 'n_estimators': 1110, 'min_child_samples': 20, 'subsample': 0.9, 'colsample_bytree': 0.5}. Best is trial 14 with value: 0.7429210835937445.\n",
      "[I 2025-02-25 18:18:26,827] Trial 33 finished with value: 0.7426700075484445 and parameters: {'num_iterations': 1991, 'objective': 'binary', 'metric': 'auc', 'verbose': -1, 'learning_rate': 0.005132347340449223, 'n_estimators': 990, 'min_child_samples': 25, 'subsample': 1.0, 'colsample_bytree': 0.6}. Best is trial 14 with value: 0.7429210835937445.\n",
      "[I 2025-02-25 18:18:40,734] Trial 34 finished with value: 0.7424435216502823 and parameters: {'num_iterations': 1535, 'objective': 'binary', 'metric': 'auc', 'verbose': -1, 'learning_rate': 0.006208315849077188, 'n_estimators': 815, 'min_child_samples': 15, 'subsample': 0.8, 'colsample_bytree': 0.7}. Best is trial 14 with value: 0.7429210835937445.\n",
      "[I 2025-02-25 18:19:03,611] Trial 35 finished with value: 0.7427663864697767 and parameters: {'num_iterations': 2341, 'objective': 'binary', 'metric': 'auc', 'verbose': -1, 'learning_rate': 0.007127181652472422, 'n_estimators': 713, 'min_child_samples': 10, 'subsample': 0.5, 'colsample_bytree': 0.6}. Best is trial 14 with value: 0.7429210835937445.\n",
      "[I 2025-02-25 18:19:22,850] Trial 36 finished with value: 0.7426895025472009 and parameters: {'num_iterations': 1802, 'objective': 'binary', 'metric': 'auc', 'verbose': -1, 'learning_rate': 0.011651357065787222, 'n_estimators': 910, 'min_child_samples': 20, 'subsample': 0.9, 'colsample_bytree': 0.5}. Best is trial 14 with value: 0.7429210835937445.\n",
      "[I 2025-02-25 18:19:37,580] Trial 37 finished with value: 0.7421699006654955 and parameters: {'num_iterations': 1643, 'objective': 'binary', 'metric': 'auc', 'verbose': -1, 'learning_rate': 0.005893583941189448, 'n_estimators': 1503, 'min_child_samples': 15, 'subsample': 0.6, 'colsample_bytree': 1.0}. Best is trial 14 with value: 0.7429210835937445.\n",
      "[I 2025-02-25 18:19:54,319] Trial 38 finished with value: 0.7421881169130603 and parameters: {'num_iterations': 1963, 'objective': 'binary', 'metric': 'auc', 'verbose': -1, 'learning_rate': 0.007825373435861883, 'n_estimators': 1066, 'min_child_samples': 30, 'subsample': 1.0, 'colsample_bytree': 0.8}. Best is trial 14 with value: 0.7429210835937445.\n",
      "[I 2025-02-25 18:20:06,817] Trial 39 finished with value: 0.7360148502249562 and parameters: {'num_iterations': 1584, 'objective': 'binary', 'metric': 'auc', 'verbose': -1, 'learning_rate': 0.053422832108602374, 'n_estimators': 1262, 'min_child_samples': 10, 'subsample': 0.8, 'colsample_bytree': 0.9}. Best is trial 14 with value: 0.7429210835937445.\n"
     ]
    },
    {
     "name": "stdout",
     "output_type": "stream",
     "text": [
      "Cat val score : 0.7429930391615726\n",
      "LGBM val score : 0.7426731964838695\n",
      "Ensemble val score : 0.7432124720717959\n"
     ]
    },
    {
     "name": "stderr",
     "output_type": "stream",
     "text": [
      "[I 2025-02-25 18:20:29,575] A new study created in memory with name: no-name-833ed29d-737f-4281-a797-200560a0073e\n"
     ]
    },
    {
     "name": "stdout",
     "output_type": "stream",
     "text": [
      "==================================================\n",
      "0:\ttest: 0.7276354\tbest: 0.7276354 (0)\ttotal: 166ms\tremaining: 6m 32s\n",
      "300:\ttest: 0.7393553\tbest: 0.7393553 (300)\ttotal: 39.2s\tremaining: 4m 29s\n",
      "600:\ttest: 0.7408718\tbest: 0.7408718 (600)\ttotal: 1m 22s\tremaining: 4m 1s\n",
      "900:\ttest: 0.7412751\tbest: 0.7412751 (900)\ttotal: 2m 3s\tremaining: 3m 21s\n",
      "1200:\ttest: 0.7416185\tbest: 0.7416207 (1197)\ttotal: 2m 51s\tremaining: 2m 46s\n",
      "1500:\ttest: 0.7417440\tbest: 0.7417550 (1496)\ttotal: 3m 43s\tremaining: 2m 8s\n",
      "1800:\ttest: 0.7416225\tbest: 0.7417667 (1545)\ttotal: 4m 36s\tremaining: 1m 26s\n"
     ]
    },
    {
     "name": "stderr",
     "output_type": "stream",
     "text": [
      "[I 2025-02-25 18:25:14,888] Trial 0 finished with value: 0.7417667327348012 and parameters: {'iterations': 2366, 'depth': 10, 'learning_rate': 0.01181021951839225, 'l2_leaf_reg': 9.980783802743254}. Best is trial 0 with value: 0.7417667327348012.\n"
     ]
    },
    {
     "name": "stdout",
     "output_type": "stream",
     "text": [
      "Stopped by overfitting detector  (300 iterations wait)\n",
      "\n",
      "bestTest = 0.7417667327\n",
      "bestIteration = 1545\n",
      "\n",
      "Shrink model to first 1546 iterations.\n",
      "저장 완료\n",
      "0:\ttest: 0.6977785\tbest: 0.6977785 (0)\ttotal: 67.5ms\tremaining: 2m 28s\n",
      "300:\ttest: 0.7302361\tbest: 0.7302361 (300)\ttotal: 14s\tremaining: 1m 28s\n",
      "600:\ttest: 0.7345481\tbest: 0.7345481 (600)\ttotal: 28.2s\tremaining: 1m 14s\n",
      "900:\ttest: 0.7364696\tbest: 0.7364696 (900)\ttotal: 43.1s\tremaining: 1m 1s\n",
      "1200:\ttest: 0.7373969\tbest: 0.7373969 (1200)\ttotal: 57.7s\tremaining: 47.7s\n",
      "1500:\ttest: 0.7379846\tbest: 0.7379846 (1500)\ttotal: 1m 12s\tremaining: 33.3s\n",
      "1800:\ttest: 0.7383823\tbest: 0.7383823 (1800)\ttotal: 1m 26s\tremaining: 18.9s\n",
      "2100:\ttest: 0.7387894\tbest: 0.7387905 (2099)\ttotal: 1m 41s\tremaining: 4.46s\n"
     ]
    },
    {
     "name": "stderr",
     "output_type": "stream",
     "text": [
      "[I 2025-02-25 18:27:01,545] Trial 1 finished with value: 0.7389434485126474 and parameters: {'iterations': 2193, 'depth': 4, 'learning_rate': 0.005671430811678843, 'l2_leaf_reg': 0.00012325230809466137}. Best is trial 0 with value: 0.7417667327348012.\n"
     ]
    },
    {
     "name": "stdout",
     "output_type": "stream",
     "text": [
      "2192:\ttest: 0.7389427\tbest: 0.7389434 (2191)\ttotal: 1m 46s\tremaining: 0us\n",
      "\n",
      "bestTest = 0.7389434485\n",
      "bestIteration = 2191\n",
      "\n",
      "Shrink model to first 2192 iterations.\n",
      "0:\ttest: 0.6977785\tbest: 0.6977785 (0)\ttotal: 57.5ms\tremaining: 2m 25s\n",
      "300:\ttest: 0.7400714\tbest: 0.7400783 (295)\ttotal: 15.1s\tremaining: 1m 52s\n",
      "600:\ttest: 0.7396923\tbest: 0.7401265 (362)\ttotal: 30.6s\tremaining: 1m 38s\n"
     ]
    },
    {
     "name": "stderr",
     "output_type": "stream",
     "text": [
      "[I 2025-02-25 18:27:35,473] Trial 2 finished with value: 0.740126498616432 and parameters: {'iterations': 2535, 'depth': 4, 'learning_rate': 0.09275339199839054, 'l2_leaf_reg': 0.0008705394248343123}. Best is trial 0 with value: 0.7417667327348012.\n"
     ]
    },
    {
     "name": "stdout",
     "output_type": "stream",
     "text": [
      "Stopped by overfitting detector  (300 iterations wait)\n",
      "\n",
      "bestTest = 0.7401264986\n",
      "bestIteration = 362\n",
      "\n",
      "Shrink model to first 363 iterations.\n",
      "0:\ttest: 0.6977785\tbest: 0.6977785 (0)\ttotal: 53.2ms\tremaining: 2m 4s\n",
      "300:\ttest: 0.7392826\tbest: 0.7392826 (300)\ttotal: 14.1s\tremaining: 1m 35s\n",
      "600:\ttest: 0.7401348\tbest: 0.7401357 (593)\ttotal: 29.1s\tremaining: 1m 23s\n",
      "900:\ttest: 0.7402464\tbest: 0.7404161 (686)\ttotal: 44.7s\tremaining: 1m 11s\n"
     ]
    },
    {
     "name": "stderr",
     "output_type": "stream",
     "text": [
      "[I 2025-02-25 18:28:24,918] Trial 3 finished with value: 0.7404160874070205 and parameters: {'iterations': 2334, 'depth': 4, 'learning_rate': 0.04657568321363276, 'l2_leaf_reg': 0.0008640473331457248}. Best is trial 0 with value: 0.7417667327348012.\n"
     ]
    },
    {
     "name": "stdout",
     "output_type": "stream",
     "text": [
      "Stopped by overfitting detector  (300 iterations wait)\n",
      "\n",
      "bestTest = 0.7404160874\n",
      "bestIteration = 686\n",
      "\n",
      "Shrink model to first 687 iterations.\n",
      "0:\ttest: 0.7276728\tbest: 0.7276728 (0)\ttotal: 181ms\tremaining: 5m 14s\n",
      "300:\ttest: 0.7389076\tbest: 0.7389096 (299)\ttotal: 40.2s\tremaining: 3m 12s\n",
      "600:\ttest: 0.7397227\tbest: 0.7397236 (598)\ttotal: 1m 21s\tremaining: 2m 35s\n",
      "900:\ttest: 0.7398770\tbest: 0.7398932 (896)\ttotal: 2m 3s\tremaining: 1m 55s\n",
      "1200:\ttest: 0.7394819\tbest: 0.7400718 (1031)\ttotal: 2m 49s\tremaining: 1m 16s\n"
     ]
    },
    {
     "name": "stderr",
     "output_type": "stream",
     "text": [
      "[I 2025-02-25 18:31:34,838] Trial 4 finished with value: 0.7400718115713467 and parameters: {'iterations': 1742, 'depth': 10, 'learning_rate': 0.012622767482095846, 'l2_leaf_reg': 0.00021158816350109617}. Best is trial 0 with value: 0.7417667327348012.\n"
     ]
    },
    {
     "name": "stdout",
     "output_type": "stream",
     "text": [
      "Stopped by overfitting detector  (300 iterations wait)\n",
      "\n",
      "bestTest = 0.7400718116\n",
      "bestIteration = 1031\n",
      "\n",
      "Shrink model to first 1032 iterations.\n",
      "0:\ttest: 0.6977785\tbest: 0.6977785 (0)\ttotal: 54.2ms\tremaining: 1m 52s\n",
      "300:\ttest: 0.7400256\tbest: 0.7400256 (300)\ttotal: 14.6s\tremaining: 1m 26s\n",
      "600:\ttest: 0.7401818\tbest: 0.7403486 (427)\ttotal: 29.9s\tremaining: 1m 13s\n"
     ]
    },
    {
     "name": "stderr",
     "output_type": "stream",
     "text": [
      "[I 2025-02-25 18:32:11,250] Trial 5 finished with value: 0.7403486180791781 and parameters: {'iterations': 2082, 'depth': 4, 'learning_rate': 0.06995196593094148, 'l2_leaf_reg': 0.0018080296485396804}. Best is trial 0 with value: 0.7417667327348012.\n"
     ]
    },
    {
     "name": "stdout",
     "output_type": "stream",
     "text": [
      "Stopped by overfitting detector  (300 iterations wait)\n",
      "\n",
      "bestTest = 0.7403486181\n",
      "bestIteration = 427\n",
      "\n",
      "Shrink model to first 428 iterations.\n",
      "0:\ttest: 0.7049946\tbest: 0.7049946 (0)\ttotal: 70.6ms\tremaining: 2m 21s\n",
      "300:\ttest: 0.7406340\tbest: 0.7406340 (300)\ttotal: 18.3s\tremaining: 1m 42s\n",
      "600:\ttest: 0.7412274\tbest: 0.7412299 (592)\ttotal: 37s\tremaining: 1m 25s\n"
     ]
    },
    {
     "name": "stderr",
     "output_type": "stream",
     "text": [
      "[I 2025-02-25 18:33:06,548] Trial 6 finished with value: 0.7412298689172336 and parameters: {'iterations': 1997, 'depth': 5, 'learning_rate': 0.07985155992831598, 'l2_leaf_reg': 62.52181000710482}. Best is trial 0 with value: 0.7417667327348012.\n"
     ]
    },
    {
     "name": "stdout",
     "output_type": "stream",
     "text": [
      "Stopped by overfitting detector  (300 iterations wait)\n",
      "\n",
      "bestTest = 0.7412298689\n",
      "bestIteration = 592\n",
      "\n",
      "Shrink model to first 593 iterations.\n",
      "0:\ttest: 0.7191655\tbest: 0.7191655 (0)\ttotal: 83ms\tremaining: 2m 39s\n",
      "300:\ttest: 0.7391793\tbest: 0.7404642 (171)\ttotal: 25.3s\tremaining: 2m 16s\n"
     ]
    },
    {
     "name": "stderr",
     "output_type": "stream",
     "text": [
      "[I 2025-02-25 18:33:46,844] Trial 7 finished with value: 0.7404641589556556 and parameters: {'iterations': 1927, 'depth': 7, 'learning_rate': 0.0941937211034094, 'l2_leaf_reg': 0.05654822767791934}. Best is trial 0 with value: 0.7417667327348012.\n"
     ]
    },
    {
     "name": "stdout",
     "output_type": "stream",
     "text": [
      "Stopped by overfitting detector  (300 iterations wait)\n",
      "\n",
      "bestTest = 0.740464159\n",
      "bestIteration = 171\n",
      "\n",
      "Shrink model to first 172 iterations.\n",
      "0:\ttest: 0.7191653\tbest: 0.7191653 (0)\ttotal: 86.2ms\tremaining: 2m 44s\n",
      "300:\ttest: 0.7410563\tbest: 0.7410563 (300)\ttotal: 23.6s\tremaining: 2m 5s\n",
      "600:\ttest: 0.7407291\tbest: 0.7412816 (371)\ttotal: 49.7s\tremaining: 1m 47s\n"
     ]
    },
    {
     "name": "stderr",
     "output_type": "stream",
     "text": [
      "[I 2025-02-25 18:34:42,826] Trial 8 finished with value: 0.7412815936811954 and parameters: {'iterations': 1904, 'depth': 7, 'learning_rate': 0.05155602859187331, 'l2_leaf_reg': 1.299974533316308}. Best is trial 0 with value: 0.7417667327348012.\n"
     ]
    },
    {
     "name": "stdout",
     "output_type": "stream",
     "text": [
      "Stopped by overfitting detector  (300 iterations wait)\n",
      "\n",
      "bestTest = 0.7412815937\n",
      "bestIteration = 371\n",
      "\n",
      "Shrink model to first 372 iterations.\n",
      "0:\ttest: 0.7196370\tbest: 0.7196370 (0)\ttotal: 75.9ms\tremaining: 3m 20s\n",
      "300:\ttest: 0.7402143\tbest: 0.7402143 (300)\ttotal: 21.3s\tremaining: 2m 45s\n",
      "600:\ttest: 0.7406507\tbest: 0.7408860 (433)\ttotal: 43.2s\tremaining: 2m 26s\n"
     ]
    },
    {
     "name": "stderr",
     "output_type": "stream",
     "text": [
      "[I 2025-02-25 18:35:35,975] Trial 9 finished with value: 0.7408860457625894 and parameters: {'iterations': 2639, 'depth': 6, 'learning_rate': 0.03968704290444751, 'l2_leaf_reg': 0.30557194377967184}. Best is trial 0 with value: 0.7417667327348012.\n"
     ]
    },
    {
     "name": "stdout",
     "output_type": "stream",
     "text": [
      "Stopped by overfitting detector  (300 iterations wait)\n",
      "\n",
      "bestTest = 0.7408860458\n",
      "bestIteration = 433\n",
      "\n",
      "Shrink model to first 434 iterations.\n",
      "0:\ttest: 0.7285333\tbest: 0.7285333 (0)\ttotal: 132ms\tremaining: 6m 28s\n",
      "300:\ttest: 0.7407516\tbest: 0.7407516 (300)\ttotal: 38.7s\tremaining: 5m 39s\n",
      "600:\ttest: 0.7414247\tbest: 0.7414395 (593)\ttotal: 1m 20s\tremaining: 5m 13s\n",
      "900:\ttest: 0.7415585\tbest: 0.7415897 (883)\ttotal: 2m 14s\tremaining: 5m 5s\n",
      "1200:\ttest: 0.7416339\tbest: 0.7416704 (1090)\ttotal: 3m 6s\tremaining: 4m 30s\n"
     ]
    },
    {
     "name": "stderr",
     "output_type": "stream",
     "text": [
      "[I 2025-02-25 18:39:15,781] Trial 10 finished with value: 0.7416704149185369 and parameters: {'iterations': 2945, 'depth': 10, 'learning_rate': 0.025911330134996406, 'l2_leaf_reg': 97.18545559492516}. Best is trial 0 with value: 0.7417667327348012.\n"
     ]
    },
    {
     "name": "stdout",
     "output_type": "stream",
     "text": [
      "Stopped by overfitting detector  (300 iterations wait)\n",
      "\n",
      "bestTest = 0.7416704149\n",
      "bestIteration = 1090\n",
      "\n",
      "Shrink model to first 1091 iterations.\n",
      "0:\ttest: 0.7285168\tbest: 0.7285168 (0)\ttotal: 133ms\tremaining: 6m 37s\n",
      "300:\ttest: 0.7407714\tbest: 0.7407714 (300)\ttotal: 39.5s\tremaining: 5m 53s\n",
      "600:\ttest: 0.7413494\tbest: 0.7413668 (590)\ttotal: 1m 20s\tremaining: 5m 21s\n",
      "900:\ttest: 0.7416473\tbest: 0.7416667 (886)\ttotal: 2m 14s\tremaining: 5m 12s\n",
      "1200:\ttest: 0.7417720\tbest: 0.7418164 (1081)\ttotal: 3m 7s\tremaining: 4m 39s\n"
     ]
    },
    {
     "name": "stderr",
     "output_type": "stream",
     "text": [
      "[I 2025-02-25 18:42:55,125] Trial 11 finished with value: 0.7418163807252675 and parameters: {'iterations': 2995, 'depth': 10, 'learning_rate': 0.026163874004606635, 'l2_leaf_reg': 73.1213351392818}. Best is trial 11 with value: 0.7418163807252675.\n"
     ]
    },
    {
     "name": "stdout",
     "output_type": "stream",
     "text": [
      "Stopped by overfitting detector  (300 iterations wait)\n",
      "\n",
      "bestTest = 0.7418163807\n",
      "bestIteration = 1081\n",
      "\n",
      "Shrink model to first 1082 iterations.\n",
      "저장 완료\n",
      "0:\ttest: 0.7244070\tbest: 0.7244070 (0)\ttotal: 110ms\tremaining: 5m 12s\n",
      "300:\ttest: 0.7405211\tbest: 0.7405211 (300)\ttotal: 28.7s\tremaining: 4m 1s\n",
      "600:\ttest: 0.7413852\tbest: 0.7413865 (599)\ttotal: 58.7s\tremaining: 3m 37s\n",
      "900:\ttest: 0.7414427\tbest: 0.7414601 (839)\ttotal: 1m 32s\tremaining: 3m 17s\n"
     ]
    },
    {
     "name": "stderr",
     "output_type": "stream",
     "text": [
      "[I 2025-02-25 18:44:54,167] Trial 12 finished with value: 0.7414600850169917 and parameters: {'iterations': 2831, 'depth': 9, 'learning_rate': 0.02603853414531855, 'l2_leaf_reg': 9.386190522738517}. Best is trial 11 with value: 0.7418163807252675.\n"
     ]
    },
    {
     "name": "stdout",
     "output_type": "stream",
     "text": [
      "Stopped by overfitting detector  (300 iterations wait)\n",
      "\n",
      "bestTest = 0.741460085\n",
      "bestIteration = 839\n",
      "\n",
      "Shrink model to first 840 iterations.\n",
      "0:\ttest: 0.7244039\tbest: 0.7244039 (0)\ttotal: 110ms\tremaining: 4m 26s\n",
      "300:\ttest: 0.7402006\tbest: 0.7402064 (297)\ttotal: 28.8s\tremaining: 3m 22s\n",
      "600:\ttest: 0.7413617\tbest: 0.7413617 (600)\ttotal: 57.9s\tremaining: 2m 55s\n",
      "900:\ttest: 0.7412765\tbest: 0.7414598 (671)\ttotal: 1m 32s\tremaining: 2m 36s\n"
     ]
    },
    {
     "name": "stderr",
     "output_type": "stream",
     "text": [
      "[I 2025-02-25 18:46:35,599] Trial 13 finished with value: 0.7414597554334351 and parameters: {'iterations': 2421, 'depth': 9, 'learning_rate': 0.022316119918197153, 'l2_leaf_reg': 6.676773824742184}. Best is trial 11 with value: 0.7418163807252675.\n"
     ]
    },
    {
     "name": "stdout",
     "output_type": "stream",
     "text": [
      "Stopped by overfitting detector  (300 iterations wait)\n",
      "\n",
      "bestTest = 0.7414597554\n",
      "bestIteration = 671\n",
      "\n",
      "Shrink model to first 672 iterations.\n",
      "0:\ttest: 0.7244133\tbest: 0.7244133 (0)\ttotal: 113ms\tremaining: 2m 52s\n",
      "300:\ttest: 0.7409946\tbest: 0.7410046 (298)\ttotal: 29.1s\tremaining: 1m 59s\n",
      "600:\ttest: 0.7414798\tbest: 0.7415859 (557)\ttotal: 1m 1s\tremaining: 1m 35s\n"
     ]
    },
    {
     "name": "stderr",
     "output_type": "stream",
     "text": [
      "[I 2025-02-25 18:48:06,069] Trial 14 finished with value: 0.7415858906343599 and parameters: {'iterations': 1533, 'depth': 9, 'learning_rate': 0.03443594749665465, 'l2_leaf_reg': 11.564056006203653}. Best is trial 11 with value: 0.7418163807252675.\n"
     ]
    },
    {
     "name": "stdout",
     "output_type": "stream",
     "text": [
      "Stopped by overfitting detector  (300 iterations wait)\n",
      "\n",
      "bestTest = 0.7415858906\n",
      "bestIteration = 557\n",
      "\n",
      "Shrink model to first 558 iterations.\n",
      "0:\ttest: 0.7210596\tbest: 0.7210596 (0)\ttotal: 96ms\tremaining: 4m 20s\n",
      "300:\ttest: 0.7402588\tbest: 0.7404914 (271)\ttotal: 27.3s\tremaining: 3m 39s\n"
     ]
    },
    {
     "name": "stderr",
     "output_type": "stream",
     "text": [
      "[I 2025-02-25 18:49:00,833] Trial 15 finished with value: 0.7404913714389529 and parameters: {'iterations': 2717, 'depth': 8, 'learning_rate': 0.06347916602487957, 'l2_leaf_reg': 0.026986971696484528}. Best is trial 11 with value: 0.7418163807252675.\n"
     ]
    },
    {
     "name": "stdout",
     "output_type": "stream",
     "text": [
      "Stopped by overfitting detector  (300 iterations wait)\n",
      "\n",
      "bestTest = 0.7404913714\n",
      "bestIteration = 271\n",
      "\n",
      "Shrink model to first 272 iterations.\n",
      "0:\ttest: 0.7276688\tbest: 0.7276688 (0)\ttotal: 137ms\tremaining: 6m 39s\n",
      "300:\ttest: 0.7394860\tbest: 0.7394860 (300)\ttotal: 38.9s\tremaining: 5m 37s\n",
      "600:\ttest: 0.7403866\tbest: 0.7404008 (595)\ttotal: 1m 21s\tremaining: 5m 14s\n",
      "900:\ttest: 0.7407806\tbest: 0.7408404 (869)\ttotal: 2m 5s\tremaining: 4m 41s\n"
     ]
    },
    {
     "name": "stderr",
     "output_type": "stream",
     "text": [
      "[I 2025-02-25 18:51:49,177] Trial 16 finished with value: 0.7408403527748029 and parameters: {'iterations': 2918, 'depth': 10, 'learning_rate': 0.015627704142452237, 'l2_leaf_reg': 1.1564999623873626}. Best is trial 11 with value: 0.7418163807252675.\n"
     ]
    },
    {
     "name": "stdout",
     "output_type": "stream",
     "text": [
      "Stopped by overfitting detector  (300 iterations wait)\n",
      "\n",
      "bestTest = 0.7408403528\n",
      "bestIteration = 869\n",
      "\n",
      "Shrink model to first 870 iterations.\n",
      "0:\ttest: 0.7210939\tbest: 0.7210939 (0)\ttotal: 103ms\tremaining: 4m 16s\n",
      "300:\ttest: 0.7352725\tbest: 0.7352725 (300)\ttotal: 26.6s\tremaining: 3m 13s\n",
      "600:\ttest: 0.7381163\tbest: 0.7381181 (596)\ttotal: 53.2s\tremaining: 2m 47s\n",
      "900:\ttest: 0.7393673\tbest: 0.7393675 (899)\ttotal: 1m 20s\tremaining: 2m 21s\n",
      "1200:\ttest: 0.7399724\tbest: 0.7399741 (1197)\ttotal: 1m 48s\tremaining: 1m 56s\n",
      "1500:\ttest: 0.7403839\tbest: 0.7403839 (1500)\ttotal: 2m 14s\tremaining: 1m 29s\n",
      "1800:\ttest: 0.7406144\tbest: 0.7406144 (1800)\ttotal: 2m 39s\tremaining: 1m 1s\n",
      "2100:\ttest: 0.7408937\tbest: 0.7408939 (2098)\ttotal: 3m 5s\tremaining: 34.7s\n",
      "2400:\ttest: 0.7410777\tbest: 0.7410777 (2400)\ttotal: 3m 30s\tremaining: 8.25s\n"
     ]
    },
    {
     "name": "stderr",
     "output_type": "stream",
     "text": [
      "[I 2025-02-25 18:55:28,908] Trial 17 finished with value: 0.7411188032295313 and parameters: {'iterations': 2495, 'depth': 8, 'learning_rate': 0.005588768772785566, 'l2_leaf_reg': 27.028519492661054}. Best is trial 11 with value: 0.7418163807252675.\n"
     ]
    },
    {
     "name": "stdout",
     "output_type": "stream",
     "text": [
      "2494:\ttest: 0.7411182\tbest: 0.7411188 (2471)\ttotal: 3m 39s\tremaining: 0us\n",
      "\n",
      "bestTest = 0.7411188032\n",
      "bestIteration = 2471\n",
      "\n",
      "Shrink model to first 2472 iterations.\n",
      "0:\ttest: 0.7210591\tbest: 0.7210591 (0)\ttotal: 94.4ms\tremaining: 3m 32s\n",
      "300:\ttest: 0.7408469\tbest: 0.7408469 (300)\ttotal: 26s\tremaining: 2m 49s\n",
      "600:\ttest: 0.7415967\tbest: 0.7416428 (594)\ttotal: 55s\tremaining: 2m 31s\n"
     ]
    },
    {
     "name": "stderr",
     "output_type": "stream",
     "text": [
      "[I 2025-02-25 18:56:54,311] Trial 18 finished with value: 0.7416428410845932 and parameters: {'iterations': 2255, 'depth': 8, 'learning_rate': 0.03519084982617142, 'l2_leaf_reg': 1.4779556720626297}. Best is trial 11 with value: 0.7418163807252675.\n"
     ]
    },
    {
     "name": "stdout",
     "output_type": "stream",
     "text": [
      "Stopped by overfitting detector  (300 iterations wait)\n",
      "\n",
      "bestTest = 0.7416428411\n",
      "bestIteration = 594\n",
      "\n",
      "Shrink model to first 595 iterations.\n",
      "0:\ttest: 0.7243897\tbest: 0.7243897 (0)\ttotal: 122ms\tremaining: 5m 28s\n",
      "300:\ttest: 0.7397585\tbest: 0.7397585 (300)\ttotal: 29.9s\tremaining: 3m 58s\n",
      "600:\ttest: 0.7405395\tbest: 0.7405775 (584)\ttotal: 59.9s\tremaining: 3m 29s\n",
      "900:\ttest: 0.7407132\tbest: 0.7408197 (877)\ttotal: 1m 33s\tremaining: 3m 6s\n"
     ]
    },
    {
     "name": "stderr",
     "output_type": "stream",
     "text": [
      "[I 2025-02-25 18:58:59,494] Trial 19 finished with value: 0.7408196723993451 and parameters: {'iterations': 2701, 'depth': 9, 'learning_rate': 0.018357749662516517, 'l2_leaf_reg': 0.01183860899423477}. Best is trial 11 with value: 0.7418163807252675.\n"
     ]
    },
    {
     "name": "stdout",
     "output_type": "stream",
     "text": [
      "Stopped by overfitting detector  (300 iterations wait)\n",
      "\n",
      "bestTest = 0.7408196724\n",
      "bestIteration = 877\n",
      "\n",
      "Shrink model to first 878 iterations.\n",
      "0:\ttest: 0.7276703\tbest: 0.7276703 (0)\ttotal: 139ms\tremaining: 3m 59s\n",
      "300:\ttest: 0.7389651\tbest: 0.7405021 (207)\ttotal: 41.4s\tremaining: 3m 16s\n"
     ]
    },
    {
     "name": "stderr",
     "output_type": "stream",
     "text": [
      "[I 2025-02-25 19:00:14,257] Trial 20 finished with value: 0.7405020650355558 and parameters: {'iterations': 1726, 'depth': 10, 'learning_rate': 0.06188102046855032, 'l2_leaf_reg': 0.1981116111851234}. Best is trial 11 with value: 0.7418163807252675.\n"
     ]
    },
    {
     "name": "stdout",
     "output_type": "stream",
     "text": [
      "Stopped by overfitting detector  (300 iterations wait)\n",
      "\n",
      "bestTest = 0.740502065\n",
      "bestIteration = 207\n",
      "\n",
      "Shrink model to first 208 iterations.\n",
      "0:\ttest: 0.7285457\tbest: 0.7285457 (0)\ttotal: 137ms\tremaining: 6m 48s\n",
      "300:\ttest: 0.7405035\tbest: 0.7405035 (300)\ttotal: 38.9s\tremaining: 5m 44s\n",
      "600:\ttest: 0.7413328\tbest: 0.7413485 (574)\ttotal: 1m 21s\tremaining: 5m 20s\n",
      "900:\ttest: 0.7416669\tbest: 0.7416677 (894)\ttotal: 2m 14s\tremaining: 5m 8s\n",
      "1200:\ttest: 0.7415864\tbest: 0.7416680 (901)\ttotal: 3m 11s\tremaining: 4m 42s\n"
     ]
    },
    {
     "name": "stderr",
     "output_type": "stream",
     "text": [
      "[I 2025-02-25 19:03:26,031] Trial 21 finished with value: 0.7416680165032573 and parameters: {'iterations': 2973, 'depth': 10, 'learning_rate': 0.02759145971902276, 'l2_leaf_reg': 89.94798088783348}. Best is trial 11 with value: 0.7418163807252675.\n"
     ]
    },
    {
     "name": "stdout",
     "output_type": "stream",
     "text": [
      "Stopped by overfitting detector  (300 iterations wait)\n",
      "\n",
      "bestTest = 0.7416680165\n",
      "bestIteration = 901\n",
      "\n",
      "Shrink model to first 902 iterations.\n",
      "0:\ttest: 0.7277048\tbest: 0.7277048 (0)\ttotal: 143ms\tremaining: 6m 48s\n",
      "300:\ttest: 0.7412912\tbest: 0.7412923 (299)\ttotal: 40s\tremaining: 5m 40s\n",
      "600:\ttest: 0.7415483\tbest: 0.7417218 (511)\ttotal: 1m 32s\tremaining: 5m 48s\n"
     ]
    },
    {
     "name": "stderr",
     "output_type": "stream",
     "text": [
      "[I 2025-02-25 19:05:36,916] Trial 22 finished with value: 0.7417218180407146 and parameters: {'iterations': 2862, 'depth': 10, 'learning_rate': 0.04218380389992917, 'l2_leaf_reg': 25.03453806107939}. Best is trial 11 with value: 0.7418163807252675.\n"
     ]
    },
    {
     "name": "stdout",
     "output_type": "stream",
     "text": [
      "Stopped by overfitting detector  (300 iterations wait)\n",
      "\n",
      "bestTest = 0.741721818\n",
      "bestIteration = 511\n",
      "\n",
      "Shrink model to first 512 iterations.\n",
      "0:\ttest: 0.7243988\tbest: 0.7243988 (0)\ttotal: 132ms\tremaining: 6m 9s\n",
      "300:\ttest: 0.7412960\tbest: 0.7413014 (299)\ttotal: 30.9s\tremaining: 4m 16s\n",
      "600:\ttest: 0.7409325\tbest: 0.7413716 (309)\ttotal: 1m 6s\tremaining: 4m 1s\n"
     ]
    },
    {
     "name": "stderr",
     "output_type": "stream",
     "text": [
      "[I 2025-02-25 19:06:44,316] Trial 23 finished with value: 0.7413715541086141 and parameters: {'iterations': 2798, 'depth': 9, 'learning_rate': 0.047298021911019686, 'l2_leaf_reg': 3.9556904634485073}. Best is trial 11 with value: 0.7418163807252675.\n"
     ]
    },
    {
     "name": "stdout",
     "output_type": "stream",
     "text": [
      "Stopped by overfitting detector  (300 iterations wait)\n",
      "\n",
      "bestTest = 0.7413715541\n",
      "bestIteration = 309\n",
      "\n",
      "Shrink model to first 310 iterations.\n",
      "0:\ttest: 0.7276809\tbest: 0.7276809 (0)\ttotal: 157ms\tremaining: 6m 46s\n",
      "300:\ttest: 0.7411864\tbest: 0.7411872 (298)\ttotal: 42.4s\tremaining: 5m 22s\n",
      "600:\ttest: 0.7413430\tbest: 0.7414675 (540)\ttotal: 1m 35s\tremaining: 5m 15s\n"
     ]
    },
    {
     "name": "stderr",
     "output_type": "stream",
     "text": [
      "[I 2025-02-25 19:09:04,370] Trial 24 finished with value: 0.7414675383704353 and parameters: {'iterations': 2591, 'depth': 10, 'learning_rate': 0.038657187348447655, 'l2_leaf_reg': 19.9876353039472}. Best is trial 11 with value: 0.7418163807252675.\n"
     ]
    },
    {
     "name": "stdout",
     "output_type": "stream",
     "text": [
      "Stopped by overfitting detector  (300 iterations wait)\n",
      "\n",
      "bestTest = 0.7414675384\n",
      "bestIteration = 540\n",
      "\n",
      "Shrink model to first 541 iterations.\n",
      "0:\ttest: 0.7210699\tbest: 0.7210699 (0)\ttotal: 106ms\tremaining: 4m 57s\n",
      "300:\ttest: 0.7385450\tbest: 0.7385450 (300)\ttotal: 27.2s\tremaining: 3m 47s\n",
      "600:\ttest: 0.7401204\tbest: 0.7401226 (598)\ttotal: 54.2s\tremaining: 3m 19s\n",
      "900:\ttest: 0.7408053\tbest: 0.7408086 (897)\ttotal: 1m 21s\tremaining: 2m 53s\n",
      "1200:\ttest: 0.7411533\tbest: 0.7411684 (1157)\ttotal: 1m 52s\tremaining: 2m 30s\n",
      "1500:\ttest: 0.7412734\tbest: 0.7412806 (1470)\ttotal: 2m 23s\tremaining: 2m 5s\n"
     ]
    },
    {
     "name": "stderr",
     "output_type": "stream",
     "text": [
      "[I 2025-02-25 19:11:54,570] Trial 25 finished with value: 0.7412806366976153 and parameters: {'iterations': 2815, 'depth': 8, 'learning_rate': 0.012829861275356536, 'l2_leaf_reg': 3.4892405147608914}. Best is trial 11 with value: 0.7418163807252675.\n"
     ]
    },
    {
     "name": "stdout",
     "output_type": "stream",
     "text": [
      "Stopped by overfitting detector  (300 iterations wait)\n",
      "\n",
      "bestTest = 0.7412806367\n",
      "bestIteration = 1470\n",
      "\n",
      "Shrink model to first 1471 iterations.\n",
      "0:\ttest: 0.7244002\tbest: 0.7244002 (0)\ttotal: 123ms\tremaining: 5m 1s\n",
      "300:\ttest: 0.7408814\tbest: 0.7408814 (300)\ttotal: 28.4s\tremaining: 3m 22s\n",
      "600:\ttest: 0.7415468\tbest: 0.7415660 (598)\ttotal: 59.6s\tremaining: 3m 2s\n",
      "900:\ttest: 0.7416307\tbest: 0.7417003 (860)\ttotal: 1m 32s\tremaining: 2m 37s\n"
     ]
    },
    {
     "name": "stderr",
     "output_type": "stream",
     "text": [
      "[I 2025-02-25 19:13:55,570] Trial 26 finished with value: 0.741700311720922 and parameters: {'iterations': 2442, 'depth': 9, 'learning_rate': 0.03481372185899784, 'l2_leaf_reg': 45.92734552929962}. Best is trial 11 with value: 0.7418163807252675.\n"
     ]
    },
    {
     "name": "stdout",
     "output_type": "stream",
     "text": [
      "Stopped by overfitting detector  (300 iterations wait)\n",
      "\n",
      "bestTest = 0.7417003117\n",
      "bestIteration = 860\n",
      "\n",
      "Shrink model to first 861 iterations.\n",
      "0:\ttest: 0.7191721\tbest: 0.7191721 (0)\ttotal: 90.8ms\tremaining: 4m 17s\n",
      "300:\ttest: 0.7412089\tbest: 0.7412089 (300)\ttotal: 23.3s\tremaining: 3m 16s\n",
      "600:\ttest: 0.7413621\tbest: 0.7414287 (423)\ttotal: 48.3s\tremaining: 2m 59s\n"
     ]
    },
    {
     "name": "stderr",
     "output_type": "stream",
     "text": [
      "[I 2025-02-25 19:14:54,743] Trial 27 finished with value: 0.7414286991322725 and parameters: {'iterations': 2834, 'depth': 7, 'learning_rate': 0.05799664233548174, 'l2_leaf_reg': 22.28408833031154}. Best is trial 11 with value: 0.7418163807252675.\n"
     ]
    },
    {
     "name": "stdout",
     "output_type": "stream",
     "text": [
      "Stopped by overfitting detector  (300 iterations wait)\n",
      "\n",
      "bestTest = 0.7414286991\n",
      "bestIteration = 423\n",
      "\n",
      "Shrink model to first 424 iterations.\n",
      "0:\ttest: 0.7276719\tbest: 0.7276719 (0)\ttotal: 134ms\tremaining: 6m\n",
      "300:\ttest: 0.7404519\tbest: 0.7405027 (272)\ttotal: 40.8s\tremaining: 5m 25s\n",
      "600:\ttest: 0.7404650\tbest: 0.7407359 (474)\ttotal: 1m 25s\tremaining: 4m 57s\n"
     ]
    },
    {
     "name": "stderr",
     "output_type": "stream",
     "text": [
      "[I 2025-02-25 19:16:48,957] Trial 28 finished with value: 0.7407358708164609 and parameters: {'iterations': 2700, 'depth': 10, 'learning_rate': 0.027394808652976624, 'l2_leaf_reg': 0.5371243279683481}. Best is trial 11 with value: 0.7418163807252675.\n"
     ]
    },
    {
     "name": "stdout",
     "output_type": "stream",
     "text": [
      "Stopped by overfitting detector  (300 iterations wait)\n",
      "\n",
      "bestTest = 0.7407358708\n",
      "bestIteration = 474\n",
      "\n",
      "Shrink model to first 475 iterations.\n",
      "0:\ttest: 0.7243987\tbest: 0.7243987 (0)\ttotal: 119ms\tremaining: 4m 16s\n",
      "300:\ttest: 0.7384888\tbest: 0.7384888 (300)\ttotal: 29.7s\tremaining: 3m 3s\n",
      "600:\ttest: 0.7402536\tbest: 0.7402576 (599)\ttotal: 1m\tremaining: 2m 37s\n",
      "900:\ttest: 0.7407780\tbest: 0.7407811 (894)\ttotal: 1m 30s\tremaining: 2m 6s\n",
      "1200:\ttest: 0.7411639\tbest: 0.7411639 (1200)\ttotal: 1m 59s\tremaining: 1m 36s\n",
      "1500:\ttest: 0.7413783\tbest: 0.7413952 (1469)\ttotal: 2m 33s\tremaining: 1m 7s\n",
      "1800:\ttest: 0.7413961\tbest: 0.7414503 (1631)\ttotal: 3m 7s\tremaining: 37.8s\n"
     ]
    },
    {
     "name": "stderr",
     "output_type": "stream",
     "text": [
      "[I 2025-02-25 19:20:11,957] Trial 29 finished with value: 0.741450312665993 and parameters: {'iterations': 2164, 'depth': 9, 'learning_rate': 0.00996264353251737, 'l2_leaf_reg': 2.7290983851008663}. Best is trial 11 with value: 0.7418163807252675.\n"
     ]
    },
    {
     "name": "stdout",
     "output_type": "stream",
     "text": [
      "Stopped by overfitting detector  (300 iterations wait)\n",
      "\n",
      "bestTest = 0.7414503127\n",
      "bestIteration = 1631\n",
      "\n",
      "Shrink model to first 1632 iterations.\n",
      "0:\ttest: 0.7196427\tbest: 0.7196427 (0)\ttotal: 80.5ms\tremaining: 3m 6s\n",
      "300:\ttest: 0.7401635\tbest: 0.7401635 (300)\ttotal: 19.8s\tremaining: 2m 12s\n",
      "600:\ttest: 0.7411199\tbest: 0.7411231 (560)\ttotal: 41.6s\tremaining: 1m 59s\n",
      "900:\ttest: 0.7411587\tbest: 0.7412248 (785)\ttotal: 1m 3s\tremaining: 1m 40s\n"
     ]
    },
    {
     "name": "stderr",
     "output_type": "stream",
     "text": [
      "[I 2025-02-25 19:21:29,233] Trial 30 finished with value: 0.741224817949956 and parameters: {'iterations': 2322, 'depth': 6, 'learning_rate': 0.04439035082394222, 'l2_leaf_reg': 29.508756308739617}. Best is trial 11 with value: 0.7418163807252675.\n"
     ]
    },
    {
     "name": "stdout",
     "output_type": "stream",
     "text": [
      "Stopped by overfitting detector  (300 iterations wait)\n",
      "\n",
      "bestTest = 0.7412248179\n",
      "bestIteration = 785\n",
      "\n",
      "Shrink model to first 786 iterations.\n",
      "0:\ttest: 0.7286925\tbest: 0.7286925 (0)\ttotal: 135ms\tremaining: 5m 31s\n",
      "300:\ttest: 0.7410379\tbest: 0.7410379 (299)\ttotal: 39.1s\tremaining: 4m 38s\n",
      "600:\ttest: 0.7415230\tbest: 0.7415256 (593)\ttotal: 1m 25s\tremaining: 4m 23s\n",
      "900:\ttest: 0.7415530\tbest: 0.7415700 (880)\ttotal: 2m 16s\tremaining: 3m 54s\n"
     ]
    },
    {
     "name": "stderr",
     "output_type": "stream",
     "text": [
      "[I 2025-02-25 19:24:33,655] Trial 31 finished with value: 0.7415699673805991 and parameters: {'iterations': 2448, 'depth': 10, 'learning_rate': 0.030190694057920853, 'l2_leaf_reg': 43.273608783296396}. Best is trial 11 with value: 0.7418163807252675.\n"
     ]
    },
    {
     "name": "stdout",
     "output_type": "stream",
     "text": [
      "Stopped by overfitting detector  (300 iterations wait)\n",
      "\n",
      "bestTest = 0.7415699674\n",
      "bestIteration = 880\n",
      "\n",
      "Shrink model to first 881 iterations.\n",
      "0:\ttest: 0.7244133\tbest: 0.7244133 (0)\ttotal: 108ms\tremaining: 5m 23s\n",
      "300:\ttest: 0.7400986\tbest: 0.7401005 (299)\ttotal: 29s\tremaining: 4m 18s\n",
      "600:\ttest: 0.7410915\tbest: 0.7411000 (599)\ttotal: 56.7s\tremaining: 3m 45s\n",
      "900:\ttest: 0.7414089\tbest: 0.7414267 (876)\ttotal: 1m 29s\tremaining: 3m 27s\n",
      "1200:\ttest: 0.7413029\tbest: 0.7414318 (1039)\ttotal: 2m 3s\tremaining: 3m 3s\n"
     ]
    },
    {
     "name": "stderr",
     "output_type": "stream",
     "text": [
      "[I 2025-02-25 19:26:52,835] Trial 32 finished with value: 0.7414317964235276 and parameters: {'iterations': 2986, 'depth': 9, 'learning_rate': 0.02053769423580474, 'l2_leaf_reg': 11.540304414932017}. Best is trial 11 with value: 0.7418163807252675.\n"
     ]
    },
    {
     "name": "stdout",
     "output_type": "stream",
     "text": [
      "Stopped by overfitting detector  (300 iterations wait)\n",
      "\n",
      "bestTest = 0.7414317964\n",
      "bestIteration = 1039\n",
      "\n",
      "Shrink model to first 1040 iterations.\n",
      "0:\ttest: 0.7276509\tbest: 0.7276509 (0)\ttotal: 133ms\tremaining: 5m 15s\n",
      "300:\ttest: 0.7408431\tbest: 0.7408431 (300)\ttotal: 38.5s\tremaining: 4m 25s\n",
      "600:\ttest: 0.7410459\tbest: 0.7410947 (539)\ttotal: 1m 29s\tremaining: 4m 24s\n"
     ]
    },
    {
     "name": "stderr",
     "output_type": "stream",
     "text": [
      "[I 2025-02-25 19:29:04,391] Trial 33 finished with value: 0.7410946880374892 and parameters: {'iterations': 2375, 'depth': 10, 'learning_rate': 0.040659538218382446, 'l2_leaf_reg': 39.71439761712648}. Best is trial 11 with value: 0.7418163807252675.\n"
     ]
    },
    {
     "name": "stdout",
     "output_type": "stream",
     "text": [
      "Stopped by overfitting detector  (300 iterations wait)\n",
      "\n",
      "bestTest = 0.741094688\n",
      "bestIteration = 539\n",
      "\n",
      "Shrink model to first 540 iterations.\n",
      "0:\ttest: 0.7244038\tbest: 0.7244038 (0)\ttotal: 113ms\tremaining: 4m 46s\n",
      "300:\ttest: 0.7407367\tbest: 0.7407367 (300)\ttotal: 30.4s\tremaining: 3m 46s\n",
      "600:\ttest: 0.7412504\tbest: 0.7413909 (511)\ttotal: 1m 7s\tremaining: 3m 38s\n"
     ]
    },
    {
     "name": "stderr",
     "output_type": "stream",
     "text": [
      "[I 2025-02-25 19:30:38,242] Trial 34 finished with value: 0.7413908526156656 and parameters: {'iterations': 2544, 'depth': 9, 'learning_rate': 0.0317214250784226, 'l2_leaf_reg': 6.536244876084377}. Best is trial 11 with value: 0.7418163807252675.\n"
     ]
    },
    {
     "name": "stdout",
     "output_type": "stream",
     "text": [
      "Stopped by overfitting detector  (300 iterations wait)\n",
      "\n",
      "bestTest = 0.7413908526\n",
      "bestIteration = 511\n",
      "\n",
      "Shrink model to first 512 iterations.\n",
      "0:\ttest: 0.7276780\tbest: 0.7276780 (0)\ttotal: 146ms\tremaining: 5m 20s\n",
      "300:\ttest: 0.7416577\tbest: 0.7417272 (274)\ttotal: 41.8s\tremaining: 4m 23s\n",
      "600:\ttest: 0.7414967\tbest: 0.7419417 (481)\ttotal: 1m 32s\tremaining: 4m 7s\n"
     ]
    },
    {
     "name": "stderr",
     "output_type": "stream",
     "text": [
      "[I 2025-02-25 19:32:42,162] Trial 35 finished with value: 0.7419416701274264 and parameters: {'iterations': 2201, 'depth': 10, 'learning_rate': 0.050634814098513316, 'l2_leaf_reg': 16.018720582622652}. Best is trial 35 with value: 0.7419416701274264.\n"
     ]
    },
    {
     "name": "stdout",
     "output_type": "stream",
     "text": [
      "Stopped by overfitting detector  (300 iterations wait)\n",
      "\n",
      "bestTest = 0.7419416701\n",
      "bestIteration = 481\n",
      "\n",
      "Shrink model to first 482 iterations.\n",
      "저장 완료\n",
      "0:\ttest: 0.7276878\tbest: 0.7276878 (0)\ttotal: 144ms\tremaining: 5m 14s\n",
      "300:\ttest: 0.7411214\tbest: 0.7412278 (294)\ttotal: 41.8s\tremaining: 4m 21s\n",
      "600:\ttest: 0.7414323\tbest: 0.7415192 (527)\ttotal: 1m 34s\tremaining: 4m 7s\n"
     ]
    },
    {
     "name": "stderr",
     "output_type": "stream",
     "text": [
      "[I 2025-02-25 19:34:55,139] Trial 36 finished with value: 0.7415191757749002 and parameters: {'iterations': 2181, 'depth': 10, 'learning_rate': 0.05004951851851157, 'l2_leaf_reg': 14.421938149457361}. Best is trial 35 with value: 0.7419416701274264.\n"
     ]
    },
    {
     "name": "stdout",
     "output_type": "stream",
     "text": [
      "Stopped by overfitting detector  (300 iterations wait)\n",
      "\n",
      "bestTest = 0.7415191758\n",
      "bestIteration = 527\n",
      "\n",
      "Shrink model to first 528 iterations.\n",
      "0:\ttest: 0.7276726\tbest: 0.7276726 (0)\ttotal: 131ms\tremaining: 4m 30s\n",
      "300:\ttest: 0.7341517\tbest: 0.7381654 (83)\ttotal: 43.3s\tremaining: 4m 12s\n"
     ]
    },
    {
     "name": "stderr",
     "output_type": "stream",
     "text": [
      "[I 2025-02-25 19:35:51,852] Trial 37 finished with value: 0.7381653533569348 and parameters: {'iterations': 2060, 'depth': 10, 'learning_rate': 0.07417884959553789, 'l2_leaf_reg': 0.00011207505346582873}. Best is trial 35 with value: 0.7419416701274264.\n"
     ]
    },
    {
     "name": "stdout",
     "output_type": "stream",
     "text": [
      "Stopped by overfitting detector  (300 iterations wait)\n",
      "\n",
      "bestTest = 0.7381653534\n",
      "bestIteration = 83\n",
      "\n",
      "Shrink model to first 84 iterations.\n",
      "0:\ttest: 0.7276745\tbest: 0.7276745 (0)\ttotal: 137ms\tremaining: 4m 2s\n",
      "300:\ttest: 0.7375877\tbest: 0.7391943 (121)\ttotal: 43.3s\tremaining: 3m 31s\n"
     ]
    },
    {
     "name": "stderr",
     "output_type": "stream",
     "text": [
      "[I 2025-02-25 19:36:55,815] Trial 38 finished with value: 0.7391942854245699 and parameters: {'iterations': 1772, 'depth': 10, 'learning_rate': 0.056899063594922195, 'l2_leaf_reg': 0.007732432465843723}. Best is trial 35 with value: 0.7419416701274264.\n"
     ]
    },
    {
     "name": "stdout",
     "output_type": "stream",
     "text": [
      "Stopped by overfitting detector  (300 iterations wait)\n",
      "\n",
      "bestTest = 0.7391942854\n",
      "bestIteration = 121\n",
      "\n",
      "Shrink model to first 122 iterations.\n",
      "0:\ttest: 0.7049946\tbest: 0.7049946 (0)\ttotal: 66.8ms\tremaining: 2m 32s\n",
      "300:\ttest: 0.7409035\tbest: 0.7409567 (277)\ttotal: 18.3s\tremaining: 1m 59s\n",
      "600:\ttest: 0.7408038\tbest: 0.7410422 (463)\ttotal: 37.1s\tremaining: 1m 43s\n",
      "900:\ttest: 0.7410292\tbest: 0.7411658 (816)\ttotal: 56s\tremaining: 1m 25s\n"
     ]
    },
    {
     "name": "stderr",
     "output_type": "stream",
     "text": [
      "[I 2025-02-25 19:38:05,764] Trial 39 finished with value: 0.7411657907262271 and parameters: {'iterations': 2277, 'depth': 5, 'learning_rate': 0.08103129583237369, 'l2_leaf_reg': 1.8932255568425416}. Best is trial 35 with value: 0.7419416701274264.\n",
      "[I 2025-02-25 19:38:05,769] A new study created in memory with name: no-name-f36a00c7-0833-4ab6-8d6a-e31deedc5437\n"
     ]
    },
    {
     "name": "stdout",
     "output_type": "stream",
     "text": [
      "Stopped by overfitting detector  (300 iterations wait)\n",
      "\n",
      "bestTest = 0.7411657907\n",
      "bestIteration = 816\n",
      "\n",
      "Shrink model to first 817 iterations.\n"
     ]
    },
    {
     "name": "stderr",
     "output_type": "stream",
     "text": [
      "[I 2025-02-25 19:38:29,426] Trial 0 finished with value: 0.7302683725043259 and parameters: {'num_iterations': 2366, 'objective': 'binary', 'metric': 'auc', 'verbose': -1, 'learning_rate': 0.0652646236447618, 'n_estimators': 236, 'min_child_samples': 45, 'subsample': 0.7, 'colsample_bytree': 0.5}. Best is trial 0 with value: 0.7302683725043259.\n",
      "[I 2025-02-25 19:38:46,274] Trial 1 finished with value: 0.7407350925227609 and parameters: {'num_iterations': 1510, 'objective': 'binary', 'metric': 'auc', 'verbose': -1, 'learning_rate': 0.005231880959249543, 'n_estimators': 1411, 'min_child_samples': 10, 'subsample': 1.0, 'colsample_bytree': 0.5}. Best is trial 1 with value: 0.7407350925227609.\n",
      "[I 2025-02-25 19:39:05,822] Trial 2 finished with value: 0.7402131592373979 and parameters: {'num_iterations': 2334, 'objective': 'binary', 'metric': 'auc', 'verbose': -1, 'learning_rate': 0.006578527777128852, 'n_estimators': 931, 'min_child_samples': 15, 'subsample': 0.5, 'colsample_bytree': 1.0}. Best is trial 1 with value: 0.7407350925227609.\n",
      "[I 2025-02-25 19:39:22,325] Trial 3 finished with value: 0.7407180177119951 and parameters: {'num_iterations': 1620, 'objective': 'binary', 'metric': 'auc', 'verbose': -1, 'learning_rate': 0.0058823249237283685, 'n_estimators': 837, 'min_child_samples': 10, 'subsample': 0.9, 'colsample_bytree': 0.6}. Best is trial 1 with value: 0.7407350925227609.\n",
      "[I 2025-02-25 19:39:38,661] Trial 4 finished with value: 0.7401417706448519 and parameters: {'num_iterations': 1997, 'objective': 'binary', 'metric': 'auc', 'verbose': -1, 'learning_rate': 0.010907507425244923, 'n_estimators': 1597, 'min_child_samples': 50, 'subsample': 0.6, 'colsample_bytree': 0.8}. Best is trial 1 with value: 0.7407350925227609.\n",
      "[I 2025-02-25 19:40:01,129] Trial 5 finished with value: 0.7355125670766072 and parameters: {'num_iterations': 2909, 'objective': 'binary', 'metric': 'auc', 'verbose': -1, 'learning_rate': 0.019760591962733942, 'n_estimators': 612, 'min_child_samples': 30, 'subsample': 0.7, 'colsample_bytree': 0.9}. Best is trial 1 with value: 0.7407350925227609.\n",
      "[I 2025-02-25 19:40:21,831] Trial 6 finished with value: 0.7370283933295592 and parameters: {'num_iterations': 2639, 'objective': 'binary', 'metric': 'auc', 'verbose': -1, 'learning_rate': 0.017862094446750985, 'n_estimators': 794, 'min_child_samples': 35, 'subsample': 1.0, 'colsample_bytree': 0.8}. Best is trial 1 with value: 0.7407350925227609.\n",
      "[I 2025-02-25 19:40:38,288] Trial 7 finished with value: 0.7394533976633845 and parameters: {'num_iterations': 1580, 'objective': 'binary', 'metric': 'auc', 'verbose': -1, 'learning_rate': 0.01776722177611332, 'n_estimators': 529, 'min_child_samples': 25, 'subsample': 0.8, 'colsample_bytree': 0.5}. Best is trial 1 with value: 0.7407350925227609.\n",
      "[I 2025-02-25 19:40:55,763] Trial 8 finished with value: 0.735946616708047 and parameters: {'num_iterations': 1911, 'objective': 'binary', 'metric': 'auc', 'verbose': -1, 'learning_rate': 0.0304747553332844, 'n_estimators': 1328, 'min_child_samples': 10, 'subsample': 0.7, 'colsample_bytree': 0.6}. Best is trial 1 with value: 0.7407350925227609.\n",
      "[I 2025-02-25 19:41:23,263] Trial 9 finished with value: 0.7358571049907718 and parameters: {'num_iterations': 2739, 'objective': 'binary', 'metric': 'auc', 'verbose': -1, 'learning_rate': 0.02691531614176271, 'n_estimators': 1438, 'min_child_samples': 20, 'subsample': 0.6, 'colsample_bytree': 0.5}. Best is trial 1 with value: 0.7407350925227609.\n",
      "[I 2025-02-25 19:41:38,088] Trial 10 finished with value: 0.7286851086906212 and parameters: {'num_iterations': 1933, 'objective': 'binary', 'metric': 'auc', 'verbose': -1, 'learning_rate': 0.08223556891145911, 'n_estimators': 1960, 'min_child_samples': 40, 'subsample': 1.0, 'colsample_bytree': 0.7}. Best is trial 1 with value: 0.7407350925227609.\n",
      "[I 2025-02-25 19:41:53,577] Trial 11 finished with value: 0.7408545248677385 and parameters: {'num_iterations': 1513, 'objective': 'binary', 'metric': 'auc', 'verbose': -1, 'learning_rate': 0.005340229419903739, 'n_estimators': 1206, 'min_child_samples': 10, 'subsample': 0.9, 'colsample_bytree': 0.6}. Best is trial 11 with value: 0.7408545248677385.\n",
      "[I 2025-02-25 19:42:09,511] Trial 12 finished with value: 0.7408234804792345 and parameters: {'num_iterations': 1550, 'objective': 'binary', 'metric': 'auc', 'verbose': -1, 'learning_rate': 0.005009803090245928, 'n_estimators': 1192, 'min_child_samples': 20, 'subsample': 0.9, 'colsample_bytree': 0.6}. Best is trial 11 with value: 0.7408545248677385.\n",
      "[I 2025-02-25 19:42:24,659] Trial 13 finished with value: 0.7400650054723578 and parameters: {'num_iterations': 1779, 'objective': 'binary', 'metric': 'auc', 'verbose': -1, 'learning_rate': 0.01061042275547689, 'n_estimators': 1140, 'min_child_samples': 20, 'subsample': 0.9, 'colsample_bytree': 0.7}. Best is trial 11 with value: 0.7408545248677385.\n",
      "[I 2025-02-25 19:42:45,541] Trial 14 finished with value: 0.7401321690419608 and parameters: {'num_iterations': 2165, 'objective': 'binary', 'metric': 'auc', 'verbose': -1, 'learning_rate': 0.007989830797980662, 'n_estimators': 1729, 'min_child_samples': 20, 'subsample': 0.9, 'colsample_bytree': 0.6}. Best is trial 11 with value: 0.7408545248677385.\n",
      "[I 2025-02-25 19:43:00,484] Trial 15 finished with value: 0.7403352957558945 and parameters: {'num_iterations': 1745, 'objective': 'binary', 'metric': 'auc', 'verbose': -1, 'learning_rate': 0.010011580020829516, 'n_estimators': 1134, 'min_child_samples': 25, 'subsample': 0.8, 'colsample_bytree': 0.7}. Best is trial 11 with value: 0.7408545248677385.\n",
      "[I 2025-02-25 19:43:20,645] Trial 16 finished with value: 0.7341200884624502 and parameters: {'num_iterations': 2156, 'objective': 'binary', 'metric': 'auc', 'verbose': -1, 'learning_rate': 0.03901437770924474, 'n_estimators': 1261, 'min_child_samples': 15, 'subsample': 0.9, 'colsample_bytree': 0.6}. Best is trial 11 with value: 0.7408545248677385.\n",
      "[I 2025-02-25 19:43:37,079] Trial 17 finished with value: 0.7395843177822099 and parameters: {'num_iterations': 1708, 'objective': 'binary', 'metric': 'auc', 'verbose': -1, 'learning_rate': 0.014107419975913894, 'n_estimators': 1684, 'min_child_samples': 15, 'subsample': 0.8, 'colsample_bytree': 0.6}. Best is trial 11 with value: 0.7408545248677385.\n",
      "[I 2025-02-25 19:43:53,078] Trial 18 finished with value: 0.740787194520914 and parameters: {'num_iterations': 1819, 'objective': 'binary', 'metric': 'auc', 'verbose': -1, 'learning_rate': 0.007796078492345457, 'n_estimators': 999, 'min_child_samples': 30, 'subsample': 0.9, 'colsample_bytree': 0.7}. Best is trial 11 with value: 0.7408545248677385.\n",
      "[I 2025-02-25 19:44:14,817] Trial 19 finished with value: 0.7406778601396056 and parameters: {'num_iterations': 2510, 'objective': 'binary', 'metric': 'auc', 'verbose': -1, 'learning_rate': 0.005234790012397332, 'n_estimators': 144, 'min_child_samples': 25, 'subsample': 1.0, 'colsample_bytree': 0.8}. Best is trial 11 with value: 0.7408545248677385.\n",
      "[I 2025-02-25 19:44:32,116] Trial 20 finished with value: 0.7386772601545806 and parameters: {'num_iterations': 2084, 'objective': 'binary', 'metric': 'auc', 'verbose': -1, 'learning_rate': 0.01344119163875971, 'n_estimators': 665, 'min_child_samples': 15, 'subsample': 0.8, 'colsample_bytree': 0.9}. Best is trial 11 with value: 0.7408545248677385.\n",
      "[I 2025-02-25 19:44:45,920] Trial 21 finished with value: 0.7408465989788342 and parameters: {'num_iterations': 1513, 'objective': 'binary', 'metric': 'auc', 'verbose': -1, 'learning_rate': 0.0074022869335637525, 'n_estimators': 1031, 'min_child_samples': 35, 'subsample': 0.9, 'colsample_bytree': 0.7}. Best is trial 11 with value: 0.7408545248677385.\n",
      "[I 2025-02-25 19:45:01,923] Trial 22 finished with value: 0.740783374528366 and parameters: {'num_iterations': 1534, 'objective': 'binary', 'metric': 'auc', 'verbose': -1, 'learning_rate': 0.007324497574553235, 'n_estimators': 1116, 'min_child_samples': 35, 'subsample': 0.9, 'colsample_bytree': 0.6}. Best is trial 11 with value: 0.7408545248677385.\n",
      "[I 2025-02-25 19:45:17,222] Trial 23 finished with value: 0.7409568109259983 and parameters: {'num_iterations': 1687, 'objective': 'binary', 'metric': 'auc', 'verbose': -1, 'learning_rate': 0.005108469687225206, 'n_estimators': 1247, 'min_child_samples': 35, 'subsample': 1.0, 'colsample_bytree': 0.7}. Best is trial 23 with value: 0.7409568109259983.\n",
      "[I 2025-02-25 19:45:31,660] Trial 24 finished with value: 0.7408917320716631 and parameters: {'num_iterations': 1657, 'objective': 'binary', 'metric': 'auc', 'verbose': -1, 'learning_rate': 0.008457720366747338, 'n_estimators': 1515, 'min_child_samples': 40, 'subsample': 1.0, 'colsample_bytree': 0.7}. Best is trial 23 with value: 0.7409568109259983.\n",
      "[I 2025-02-25 19:45:46,386] Trial 25 finished with value: 0.7406176575335542 and parameters: {'num_iterations': 1678, 'objective': 'binary', 'metric': 'auc', 'verbose': -1, 'learning_rate': 0.008883021712741569, 'n_estimators': 1525, 'min_child_samples': 40, 'subsample': 1.0, 'colsample_bytree': 0.8}. Best is trial 23 with value: 0.7409568109259983.\n",
      "[I 2025-02-25 19:46:03,426] Trial 26 finished with value: 0.7409131430901862 and parameters: {'num_iterations': 1838, 'objective': 'binary', 'metric': 'auc', 'verbose': -1, 'learning_rate': 0.006560862459482555, 'n_estimators': 1925, 'min_child_samples': 45, 'subsample': 1.0, 'colsample_bytree': 0.7}. Best is trial 23 with value: 0.7409568109259983.\n",
      "[I 2025-02-25 19:46:18,630] Trial 27 finished with value: 0.7395140330960343 and parameters: {'num_iterations': 1853, 'objective': 'binary', 'metric': 'auc', 'verbose': -1, 'learning_rate': 0.01294610261150363, 'n_estimators': 1957, 'min_child_samples': 50, 'subsample': 1.0, 'colsample_bytree': 0.9}. Best is trial 23 with value: 0.7409568109259983.\n",
      "[I 2025-02-25 19:46:36,010] Trial 28 finished with value: 0.7409808943509505 and parameters: {'num_iterations': 2005, 'objective': 'binary', 'metric': 'auc', 'verbose': -1, 'learning_rate': 0.006406730440393009, 'n_estimators': 1817, 'min_child_samples': 45, 'subsample': 1.0, 'colsample_bytree': 0.7}. Best is trial 28 with value: 0.7409808943509505.\n",
      "[I 2025-02-25 19:46:51,614] Trial 29 finished with value: 0.7322716409248937 and parameters: {'num_iterations': 2022, 'objective': 'binary', 'metric': 'auc', 'verbose': -1, 'learning_rate': 0.05309995064140689, 'n_estimators': 1858, 'min_child_samples': 45, 'subsample': 1.0, 'colsample_bytree': 0.8}. Best is trial 28 with value: 0.7409808943509505.\n",
      "[I 2025-02-25 19:47:10,844] Trial 30 finished with value: 0.7409059676987784 and parameters: {'num_iterations': 2145, 'objective': 'binary', 'metric': 'auc', 'verbose': -1, 'learning_rate': 0.006522604073385485, 'n_estimators': 391, 'min_child_samples': 45, 'subsample': 1.0, 'colsample_bytree': 0.7}. Best is trial 28 with value: 0.7409808943509505.\n",
      "[I 2025-02-25 19:47:30,277] Trial 31 finished with value: 0.740706172558387 and parameters: {'num_iterations': 2263, 'objective': 'binary', 'metric': 'auc', 'verbose': -1, 'learning_rate': 0.006439260487109445, 'n_estimators': 353, 'min_child_samples': 45, 'subsample': 1.0, 'colsample_bytree': 0.7}. Best is trial 28 with value: 0.7409808943509505.\n",
      "[I 2025-02-25 19:47:48,603] Trial 32 finished with value: 0.7408782628255892 and parameters: {'num_iterations': 2109, 'objective': 'binary', 'metric': 'auc', 'verbose': -1, 'learning_rate': 0.006148007644221363, 'n_estimators': 1804, 'min_child_samples': 45, 'subsample': 1.0, 'colsample_bytree': 0.7}. Best is trial 28 with value: 0.7409808943509505.\n",
      "[I 2025-02-25 19:48:07,631] Trial 33 finished with value: 0.7406833955550026 and parameters: {'num_iterations': 2276, 'objective': 'binary', 'metric': 'auc', 'verbose': -1, 'learning_rate': 0.006711851761155749, 'n_estimators': 332, 'min_child_samples': 50, 'subsample': 1.0, 'colsample_bytree': 0.8}. Best is trial 28 with value: 0.7409808943509505.\n",
      "[I 2025-02-25 19:48:27,955] Trial 34 finished with value: 0.7402042763649135 and parameters: {'num_iterations': 2420, 'objective': 'binary', 'metric': 'auc', 'verbose': -1, 'learning_rate': 0.008960927708351753, 'n_estimators': 1824, 'min_child_samples': 40, 'subsample': 0.5, 'colsample_bytree': 0.7}. Best is trial 28 with value: 0.7409808943509505.\n",
      "[I 2025-02-25 19:48:45,288] Trial 35 finished with value: 0.7408218682994273 and parameters: {'num_iterations': 1961, 'objective': 'binary', 'metric': 'auc', 'verbose': -1, 'learning_rate': 0.005953677824243527, 'n_estimators': 1627, 'min_child_samples': 45, 'subsample': 1.0, 'colsample_bytree': 0.8}. Best is trial 28 with value: 0.7409808943509505.\n",
      "[I 2025-02-25 19:49:00,907] Trial 36 finished with value: 0.7402217562060742 and parameters: {'num_iterations': 1844, 'objective': 'binary', 'metric': 'auc', 'verbose': -1, 'learning_rate': 0.01115137246934137, 'n_estimators': 825, 'min_child_samples': 50, 'subsample': 1.0, 'colsample_bytree': 0.7}. Best is trial 28 with value: 0.7409808943509505.\n",
      "[I 2025-02-25 19:49:18,388] Trial 37 finished with value: 0.7408346188150945 and parameters: {'num_iterations': 2040, 'objective': 'binary', 'metric': 'auc', 'verbose': -1, 'learning_rate': 0.006611536934949855, 'n_estimators': 1376, 'min_child_samples': 45, 'subsample': 0.6, 'colsample_bytree': 1.0}. Best is trial 28 with value: 0.7409808943509505.\n",
      "[I 2025-02-25 19:49:38,044] Trial 38 finished with value: 0.7399048080093983 and parameters: {'num_iterations': 2378, 'objective': 'binary', 'metric': 'auc', 'verbose': -1, 'learning_rate': 0.009499241684384064, 'n_estimators': 526, 'min_child_samples': 40, 'subsample': 0.9, 'colsample_bytree': 0.9}. Best is trial 28 with value: 0.7409808943509505.\n",
      "[I 2025-02-25 19:49:59,448] Trial 39 finished with value: 0.7408894368994253 and parameters: {'num_iterations': 1923, 'objective': 'binary', 'metric': 'auc', 'verbose': -1, 'learning_rate': 0.005031664136851365, 'n_estimators': 1908, 'min_child_samples': 35, 'subsample': 0.8, 'colsample_bytree': 0.5}. Best is trial 28 with value: 0.7409808943509505.\n"
     ]
    },
    {
     "name": "stdout",
     "output_type": "stream",
     "text": [
      "Cat val score : 0.7419416701274264\n",
      "LGBM val score : 0.7408497717169277\n",
      "Ensemble val score : 0.7419887370418468\n"
     ]
    },
    {
     "name": "stderr",
     "output_type": "stream",
     "text": [
      "[I 2025-02-25 19:50:18,405] A new study created in memory with name: no-name-c3ae5d11-0b30-4cc9-b721-d9f4b3d9df09\n"
     ]
    },
    {
     "name": "stdout",
     "output_type": "stream",
     "text": [
      "==================================================\n",
      "0:\ttest: 0.7094093\tbest: 0.7094093 (0)\ttotal: 121ms\tremaining: 4m 45s\n",
      "300:\ttest: 0.7411434\tbest: 0.7411434 (300)\ttotal: 37.3s\tremaining: 4m 15s\n",
      "600:\ttest: 0.7430200\tbest: 0.7430200 (600)\ttotal: 1m 17s\tremaining: 3m 48s\n",
      "900:\ttest: 0.7435986\tbest: 0.7435991 (899)\ttotal: 1m 57s\tremaining: 3m 11s\n",
      "1200:\ttest: 0.7439908\tbest: 0.7439908 (1200)\ttotal: 2m 44s\tremaining: 2m 39s\n",
      "1500:\ttest: 0.7442091\tbest: 0.7442295 (1451)\ttotal: 3m 34s\tremaining: 2m 3s\n"
     ]
    },
    {
     "name": "stderr",
     "output_type": "stream",
     "text": [
      "[I 2025-02-25 19:54:36,403] Trial 0 finished with value: 0.7442294843130774 and parameters: {'iterations': 2366, 'depth': 10, 'learning_rate': 0.01181021951839225, 'l2_leaf_reg': 9.980783802743254}. Best is trial 0 with value: 0.7442294843130774.\n"
     ]
    },
    {
     "name": "stdout",
     "output_type": "stream",
     "text": [
      "Stopped by overfitting detector  (300 iterations wait)\n",
      "\n",
      "bestTest = 0.7442294843\n",
      "bestIteration = 1451\n",
      "\n",
      "Shrink model to first 1452 iterations.\n",
      "저장 완료\n",
      "0:\ttest: 0.6908910\tbest: 0.6908910 (0)\ttotal: 61.6ms\tremaining: 2m 15s\n",
      "300:\ttest: 0.7307479\tbest: 0.7307479 (300)\ttotal: 13.8s\tremaining: 1m 27s\n",
      "600:\ttest: 0.7356841\tbest: 0.7356841 (600)\ttotal: 27.7s\tremaining: 1m 13s\n",
      "900:\ttest: 0.7381136\tbest: 0.7381136 (900)\ttotal: 42.1s\tremaining: 1m\n",
      "1200:\ttest: 0.7393996\tbest: 0.7393996 (1200)\ttotal: 56.5s\tremaining: 46.7s\n",
      "1500:\ttest: 0.7401512\tbest: 0.7401512 (1500)\ttotal: 1m 10s\tremaining: 32.7s\n",
      "1800:\ttest: 0.7407515\tbest: 0.7407515 (1800)\ttotal: 1m 25s\tremaining: 18.6s\n",
      "2100:\ttest: 0.7412422\tbest: 0.7412422 (2100)\ttotal: 1m 40s\tremaining: 4.41s\n"
     ]
    },
    {
     "name": "stderr",
     "output_type": "stream",
     "text": [
      "[I 2025-02-25 19:56:22,258] Trial 1 finished with value: 0.7414113781265607 and parameters: {'iterations': 2193, 'depth': 4, 'learning_rate': 0.005671430811678843, 'l2_leaf_reg': 0.00012325230809466137}. Best is trial 0 with value: 0.7442294843130774.\n"
     ]
    },
    {
     "name": "stdout",
     "output_type": "stream",
     "text": [
      "2192:\ttest: 0.7414114\tbest: 0.7414114 (2192)\ttotal: 1m 45s\tremaining: 0us\n",
      "\n",
      "bestTest = 0.7414113781\n",
      "bestIteration = 2192\n",
      "\n",
      "0:\ttest: 0.6908910\tbest: 0.6908910 (0)\ttotal: 58.3ms\tremaining: 2m 27s\n",
      "300:\ttest: 0.7432519\tbest: 0.7432519 (300)\ttotal: 15.3s\tremaining: 1m 53s\n",
      "600:\ttest: 0.7434330\tbest: 0.7438538 (443)\ttotal: 30.8s\tremaining: 1m 39s\n"
     ]
    },
    {
     "name": "stderr",
     "output_type": "stream",
     "text": [
      "[I 2025-02-25 19:57:00,884] Trial 2 finished with value: 0.743853763029391 and parameters: {'iterations': 2535, 'depth': 4, 'learning_rate': 0.09275339199839054, 'l2_leaf_reg': 0.0008705394248343123}. Best is trial 0 with value: 0.7442294843130774.\n"
     ]
    },
    {
     "name": "stdout",
     "output_type": "stream",
     "text": [
      "Stopped by overfitting detector  (300 iterations wait)\n",
      "\n",
      "bestTest = 0.743853763\n",
      "bestIteration = 443\n",
      "\n",
      "Shrink model to first 444 iterations.\n",
      "0:\ttest: 0.6908910\tbest: 0.6908910 (0)\ttotal: 54.9ms\tremaining: 2m 8s\n",
      "300:\ttest: 0.7420684\tbest: 0.7420718 (299)\ttotal: 15s\tremaining: 1m 41s\n",
      "600:\ttest: 0.7433505\tbest: 0.7434102 (594)\ttotal: 30.3s\tremaining: 1m 27s\n",
      "900:\ttest: 0.7434070\tbest: 0.7434623 (653)\ttotal: 45.8s\tremaining: 1m 12s\n"
     ]
    },
    {
     "name": "stderr",
     "output_type": "stream",
     "text": [
      "[I 2025-02-25 19:57:49,567] Trial 3 finished with value: 0.7434622932109377 and parameters: {'iterations': 2334, 'depth': 4, 'learning_rate': 0.04657568321363276, 'l2_leaf_reg': 0.0008640473331457248}. Best is trial 0 with value: 0.7442294843130774.\n"
     ]
    },
    {
     "name": "stdout",
     "output_type": "stream",
     "text": [
      "Stopped by overfitting detector  (300 iterations wait)\n",
      "\n",
      "bestTest = 0.7434622932\n",
      "bestIteration = 653\n",
      "\n",
      "Shrink model to first 654 iterations.\n",
      "0:\ttest: 0.7092638\tbest: 0.7092638 (0)\ttotal: 99.7ms\tremaining: 2m 53s\n",
      "300:\ttest: 0.7412935\tbest: 0.7412935 (300)\ttotal: 39.5s\tremaining: 3m 9s\n",
      "600:\ttest: 0.7427172\tbest: 0.7427305 (597)\ttotal: 1m 21s\tremaining: 2m 34s\n",
      "900:\ttest: 0.7425673\tbest: 0.7427339 (601)\ttotal: 2m 3s\tremaining: 1m 55s\n",
      "Stopped by overfitting detector  (300 iterations wait)\n",
      "\n",
      "bestTest = 0.7427339136\n",
      "bestIteration = 601\n",
      "\n",
      "Shrink model to first 602 iterations.\n"
     ]
    },
    {
     "name": "stderr",
     "output_type": "stream",
     "text": [
      "[I 2025-02-25 19:59:53,589] Trial 4 finished with value: 0.7427339135507572 and parameters: {'iterations': 1742, 'depth': 10, 'learning_rate': 0.012622767482095846, 'l2_leaf_reg': 0.00021158816350109617}. Best is trial 0 with value: 0.7442294843130774.\n"
     ]
    },
    {
     "name": "stdout",
     "output_type": "stream",
     "text": [
      "0:\ttest: 0.6908910\tbest: 0.6908910 (0)\ttotal: 54.9ms\tremaining: 1m 54s\n",
      "300:\ttest: 0.7425958\tbest: 0.7425958 (300)\ttotal: 15.1s\tremaining: 1m 29s\n",
      "600:\ttest: 0.7429640\tbest: 0.7430578 (534)\ttotal: 30.8s\tremaining: 1m 15s\n"
     ]
    },
    {
     "name": "stderr",
     "output_type": "stream",
     "text": [
      "[I 2025-02-25 20:00:36,938] Trial 5 finished with value: 0.7430578385945299 and parameters: {'iterations': 2082, 'depth': 4, 'learning_rate': 0.06995196593094148, 'l2_leaf_reg': 0.0018080296485396804}. Best is trial 0 with value: 0.7442294843130774.\n"
     ]
    },
    {
     "name": "stdout",
     "output_type": "stream",
     "text": [
      "Stopped by overfitting detector  (300 iterations wait)\n",
      "\n",
      "bestTest = 0.7430578386\n",
      "bestIteration = 534\n",
      "\n",
      "Shrink model to first 535 iterations.\n",
      "0:\ttest: 0.6928633\tbest: 0.6928633 (0)\ttotal: 65.7ms\tremaining: 2m 11s\n",
      "300:\ttest: 0.7432811\tbest: 0.7432811 (300)\ttotal: 18.2s\tremaining: 1m 42s\n",
      "600:\ttest: 0.7437303\tbest: 0.7437794 (550)\ttotal: 36.5s\tremaining: 1m 24s\n",
      "900:\ttest: 0.7439195\tbest: 0.7439968 (847)\ttotal: 55s\tremaining: 1m 6s\n",
      "1200:\ttest: 0.7439815\tbest: 0.7440460 (997)\ttotal: 1m 13s\tremaining: 48.9s\n"
     ]
    },
    {
     "name": "stderr",
     "output_type": "stream",
     "text": [
      "[I 2025-02-25 20:01:57,128] Trial 6 finished with value: 0.7440460134859556 and parameters: {'iterations': 1997, 'depth': 5, 'learning_rate': 0.07985155992831598, 'l2_leaf_reg': 62.52181000710482}. Best is trial 0 with value: 0.7442294843130774.\n"
     ]
    },
    {
     "name": "stdout",
     "output_type": "stream",
     "text": [
      "Stopped by overfitting detector  (300 iterations wait)\n",
      "\n",
      "bestTest = 0.7440460135\n",
      "bestIteration = 997\n",
      "\n",
      "Shrink model to first 998 iterations.\n",
      "0:\ttest: 0.7092638\tbest: 0.7092638 (0)\ttotal: 87.1ms\tremaining: 2m 47s\n",
      "300:\ttest: 0.7423089\tbest: 0.7432835 (148)\ttotal: 25.1s\tremaining: 2m 15s\n"
     ]
    },
    {
     "name": "stderr",
     "output_type": "stream",
     "text": [
      "[I 2025-02-25 20:02:35,343] Trial 7 finished with value: 0.7432835080295608 and parameters: {'iterations': 1927, 'depth': 7, 'learning_rate': 0.0941937211034094, 'l2_leaf_reg': 0.05654822767791934}. Best is trial 0 with value: 0.7442294843130774.\n"
     ]
    },
    {
     "name": "stdout",
     "output_type": "stream",
     "text": [
      "Stopped by overfitting detector  (300 iterations wait)\n",
      "\n",
      "bestTest = 0.743283508\n",
      "bestIteration = 148\n",
      "\n",
      "Shrink model to first 149 iterations.\n",
      "0:\ttest: 0.7092637\tbest: 0.7092637 (0)\ttotal: 89.6ms\tremaining: 2m 50s\n",
      "300:\ttest: 0.7436716\tbest: 0.7436716 (300)\ttotal: 24s\tremaining: 2m 7s\n",
      "600:\ttest: 0.7440263\tbest: 0.7441198 (558)\ttotal: 49.9s\tremaining: 1m 48s\n"
     ]
    },
    {
     "name": "stderr",
     "output_type": "stream",
     "text": [
      "[I 2025-02-25 20:03:47,845] Trial 8 finished with value: 0.7441198441735297 and parameters: {'iterations': 1904, 'depth': 7, 'learning_rate': 0.05155602859187331, 'l2_leaf_reg': 1.299974533316308}. Best is trial 0 with value: 0.7442294843130774.\n"
     ]
    },
    {
     "name": "stdout",
     "output_type": "stream",
     "text": [
      "Stopped by overfitting detector  (300 iterations wait)\n",
      "\n",
      "bestTest = 0.7441198442\n",
      "bestIteration = 558\n",
      "\n",
      "Shrink model to first 559 iterations.\n",
      "0:\ttest: 0.6951126\tbest: 0.6951126 (0)\ttotal: 77.8ms\tremaining: 3m 25s\n",
      "300:\ttest: 0.7426888\tbest: 0.7427012 (299)\ttotal: 20.9s\tremaining: 2m 42s\n",
      "600:\ttest: 0.7435336\tbest: 0.7436660 (531)\ttotal: 43.3s\tremaining: 2m 26s\n",
      "900:\ttest: 0.7436499\tbest: 0.7437850 (835)\ttotal: 1m 5s\tremaining: 2m 6s\n"
     ]
    },
    {
     "name": "stderr",
     "output_type": "stream",
     "text": [
      "[I 2025-02-25 20:05:11,643] Trial 9 finished with value: 0.7437849872799807 and parameters: {'iterations': 2639, 'depth': 6, 'learning_rate': 0.03968704290444751, 'l2_leaf_reg': 0.30557194377967184}. Best is trial 0 with value: 0.7442294843130774.\n"
     ]
    },
    {
     "name": "stdout",
     "output_type": "stream",
     "text": [
      "Stopped by overfitting detector  (300 iterations wait)\n",
      "\n",
      "bestTest = 0.7437849873\n",
      "bestIteration = 835\n",
      "\n",
      "Shrink model to first 836 iterations.\n",
      "0:\ttest: 0.7093449\tbest: 0.7093449 (0)\ttotal: 98.4ms\tremaining: 4m 49s\n",
      "300:\ttest: 0.7431125\tbest: 0.7431139 (299)\ttotal: 39.7s\tremaining: 5m 48s\n",
      "600:\ttest: 0.7439177\tbest: 0.7439206 (597)\ttotal: 1m 21s\tremaining: 5m 17s\n",
      "900:\ttest: 0.7441784\tbest: 0.7441898 (884)\ttotal: 2m 17s\tremaining: 5m 11s\n",
      "1200:\ttest: 0.7442076\tbest: 0.7442686 (1063)\ttotal: 3m 13s\tremaining: 4m 40s\n"
     ]
    },
    {
     "name": "stderr",
     "output_type": "stream",
     "text": [
      "[I 2025-02-25 20:08:55,513] Trial 10 finished with value: 0.7442685578335277 and parameters: {'iterations': 2945, 'depth': 10, 'learning_rate': 0.025911330134996406, 'l2_leaf_reg': 97.18545559492516}. Best is trial 10 with value: 0.7442685578335277.\n"
     ]
    },
    {
     "name": "stdout",
     "output_type": "stream",
     "text": [
      "Stopped by overfitting detector  (300 iterations wait)\n",
      "\n",
      "bestTest = 0.7442685578\n",
      "bestIteration = 1063\n",
      "\n",
      "Shrink model to first 1064 iterations.\n",
      "저장 완료\n",
      "0:\ttest: 0.7093913\tbest: 0.7093913 (0)\ttotal: 97.4ms\tremaining: 4m 51s\n",
      "300:\ttest: 0.7433932\tbest: 0.7433939 (299)\ttotal: 38.7s\tremaining: 5m 45s\n",
      "600:\ttest: 0.7441291\tbest: 0.7441291 (600)\ttotal: 1m 22s\tremaining: 5m 27s\n",
      "900:\ttest: 0.7442391\tbest: 0.7442438 (899)\ttotal: 2m 16s\tremaining: 5m 17s\n",
      "1200:\ttest: 0.7442456\tbest: 0.7442561 (1119)\ttotal: 3m 10s\tremaining: 4m 45s\n",
      "1500:\ttest: 0.7441264\tbest: 0.7442921 (1310)\ttotal: 4m 6s\tremaining: 4m 5s\n"
     ]
    },
    {
     "name": "stderr",
     "output_type": "stream",
     "text": [
      "[I 2025-02-25 20:13:23,670] Trial 11 finished with value: 0.7442921488685881 and parameters: {'iterations': 2995, 'depth': 10, 'learning_rate': 0.026163874004606635, 'l2_leaf_reg': 73.1213351392818}. Best is trial 11 with value: 0.7442921488685881.\n"
     ]
    },
    {
     "name": "stdout",
     "output_type": "stream",
     "text": [
      "Stopped by overfitting detector  (300 iterations wait)\n",
      "\n",
      "bestTest = 0.7442921489\n",
      "bestIteration = 1310\n",
      "\n",
      "Shrink model to first 1311 iterations.\n",
      "저장 완료\n",
      "0:\ttest: 0.7093816\tbest: 0.7093816 (0)\ttotal: 94.7ms\tremaining: 4m 34s\n",
      "300:\ttest: 0.7432372\tbest: 0.7432374 (299)\ttotal: 29.8s\tremaining: 4m 16s\n",
      "600:\ttest: 0.7441720\tbest: 0.7441720 (600)\ttotal: 59.3s\tremaining: 3m 46s\n",
      "900:\ttest: 0.7444469\tbest: 0.7444549 (887)\ttotal: 1m 31s\tremaining: 3m 23s\n",
      "1200:\ttest: 0.7445038\tbest: 0.7445156 (1192)\ttotal: 2m 4s\tremaining: 2m 56s\n"
     ]
    },
    {
     "name": "stderr",
     "output_type": "stream",
     "text": [
      "[I 2025-02-25 20:16:02,155] Trial 12 finished with value: 0.7445156065199918 and parameters: {'iterations': 2897, 'depth': 9, 'learning_rate': 0.02806616524326411, 'l2_leaf_reg': 87.13438924619796}. Best is trial 12 with value: 0.7445156065199918.\n"
     ]
    },
    {
     "name": "stdout",
     "output_type": "stream",
     "text": [
      "Stopped by overfitting detector  (300 iterations wait)\n",
      "\n",
      "bestTest = 0.7445156065\n",
      "bestIteration = 1192\n",
      "\n",
      "Shrink model to first 1193 iterations.\n",
      "저장 완료\n",
      "0:\ttest: 0.7093438\tbest: 0.7093438 (0)\ttotal: 116ms\tremaining: 5m 45s\n",
      "300:\ttest: 0.7432032\tbest: 0.7432196 (290)\ttotal: 29.8s\tremaining: 4m 25s\n",
      "600:\ttest: 0.7440171\tbest: 0.7440425 (595)\ttotal: 1m 2s\tremaining: 4m 6s\n",
      "900:\ttest: 0.7438022\tbest: 0.7440685 (630)\ttotal: 1m 36s\tremaining: 3m 42s\n"
     ]
    },
    {
     "name": "stderr",
     "output_type": "stream",
     "text": [
      "[I 2025-02-25 20:17:42,446] Trial 13 finished with value: 0.7440684688475557 and parameters: {'iterations': 2975, 'depth': 9, 'learning_rate': 0.02991325011301619, 'l2_leaf_reg': 6.51790052016232}. Best is trial 12 with value: 0.7445156065199918.\n"
     ]
    },
    {
     "name": "stdout",
     "output_type": "stream",
     "text": [
      "Stopped by overfitting detector  (300 iterations wait)\n",
      "\n",
      "bestTest = 0.7440684688\n",
      "bestIteration = 630\n",
      "\n",
      "Shrink model to first 631 iterations.\n",
      "0:\ttest: 0.7094094\tbest: 0.7094094 (0)\ttotal: 97.5ms\tremaining: 4m 28s\n",
      "300:\ttest: 0.7428751\tbest: 0.7428799 (298)\ttotal: 26.7s\tremaining: 3m 37s\n",
      "600:\ttest: 0.7441108\tbest: 0.7441216 (592)\ttotal: 54.4s\tremaining: 3m 14s\n",
      "900:\ttest: 0.7442131\tbest: 0.7442982 (698)\ttotal: 1m 24s\tremaining: 2m 52s\n"
     ]
    },
    {
     "name": "stderr",
     "output_type": "stream",
     "text": [
      "[I 2025-02-25 20:19:16,309] Trial 14 finished with value: 0.7442981885865357 and parameters: {'iterations': 2754, 'depth': 8, 'learning_rate': 0.028213940573808334, 'l2_leaf_reg': 11.34882823847059}. Best is trial 12 with value: 0.7445156065199918.\n"
     ]
    },
    {
     "name": "stdout",
     "output_type": "stream",
     "text": [
      "Stopped by overfitting detector  (300 iterations wait)\n",
      "\n",
      "bestTest = 0.7442981886\n",
      "bestIteration = 698\n",
      "\n",
      "Shrink model to first 699 iterations.\n",
      "0:\ttest: 0.7092638\tbest: 0.7092638 (0)\ttotal: 104ms\tremaining: 4m 43s\n",
      "300:\ttest: 0.7427564\tbest: 0.7428543 (248)\ttotal: 27.6s\tremaining: 3m 41s\n"
     ]
    },
    {
     "name": "stderr",
     "output_type": "stream",
     "text": [
      "[I 2025-02-25 20:20:09,245] Trial 15 finished with value: 0.7428542591995666 and parameters: {'iterations': 2718, 'depth': 8, 'learning_rate': 0.06211785996573631, 'l2_leaf_reg': 0.030020115275661678}. Best is trial 12 with value: 0.7445156065199918.\n"
     ]
    },
    {
     "name": "stdout",
     "output_type": "stream",
     "text": [
      "Stopped by overfitting detector  (300 iterations wait)\n",
      "\n",
      "bestTest = 0.7428542592\n",
      "bestIteration = 248\n",
      "\n",
      "Shrink model to first 249 iterations.\n",
      "0:\ttest: 0.7093483\tbest: 0.7093483 (0)\ttotal: 92.7ms\tremaining: 4m 13s\n",
      "300:\ttest: 0.7431256\tbest: 0.7431256 (300)\ttotal: 26.4s\tremaining: 3m 34s\n",
      "600:\ttest: 0.7440239\tbest: 0.7441265 (514)\ttotal: 55.7s\tremaining: 3m 18s\n"
     ]
    },
    {
     "name": "stderr",
     "output_type": "stream",
     "text": [
      "[I 2025-02-25 20:21:26,375] Trial 16 finished with value: 0.7441265470294769 and parameters: {'iterations': 2740, 'depth': 8, 'learning_rate': 0.035870893236084424, 'l2_leaf_reg': 7.271286562073501}. Best is trial 12 with value: 0.7445156065199918.\n"
     ]
    },
    {
     "name": "stdout",
     "output_type": "stream",
     "text": [
      "Stopped by overfitting detector  (300 iterations wait)\n",
      "\n",
      "bestTest = 0.744126547\n",
      "bestIteration = 514\n",
      "\n",
      "Shrink model to first 515 iterations.\n",
      "0:\ttest: 0.7092637\tbest: 0.7092637 (0)\ttotal: 98.3ms\tremaining: 4m 36s\n",
      "300:\ttest: 0.7423898\tbest: 0.7423900 (299)\ttotal: 26.4s\tremaining: 3m 39s\n",
      "600:\ttest: 0.7435235\tbest: 0.7435298 (599)\ttotal: 53s\tremaining: 3m 14s\n",
      "900:\ttest: 0.7439206\tbest: 0.7439379 (888)\ttotal: 1m 22s\tremaining: 2m 55s\n",
      "1200:\ttest: 0.7437848\tbest: 0.7439555 (915)\ttotal: 1m 53s\tremaining: 2m 31s\n"
     ]
    },
    {
     "name": "stderr",
     "output_type": "stream",
     "text": [
      "[I 2025-02-25 20:23:21,391] Trial 17 finished with value: 0.7439555447851003 and parameters: {'iterations': 2811, 'depth': 8, 'learning_rate': 0.021754312478655786, 'l2_leaf_reg': 1.1573000967262355}. Best is trial 12 with value: 0.7445156065199918.\n"
     ]
    },
    {
     "name": "stdout",
     "output_type": "stream",
     "text": [
      "Stopped by overfitting detector  (300 iterations wait)\n",
      "\n",
      "bestTest = 0.7439555448\n",
      "bestIteration = 915\n",
      "\n",
      "Shrink model to first 916 iterations.\n",
      "0:\ttest: 0.7094129\tbest: 0.7094129 (0)\ttotal: 95.3ms\tremaining: 3m 58s\n",
      "300:\ttest: 0.7436141\tbest: 0.7436192 (298)\ttotal: 29.3s\tremaining: 3m 34s\n",
      "600:\ttest: 0.7440046\tbest: 0.7442308 (420)\ttotal: 1m 3s\tremaining: 3m 20s\n"
     ]
    },
    {
     "name": "stderr",
     "output_type": "stream",
     "text": [
      "[I 2025-02-25 20:24:38,560] Trial 18 finished with value: 0.744230766909328 and parameters: {'iterations': 2507, 'depth': 9, 'learning_rate': 0.0414161631329224, 'l2_leaf_reg': 18.777065184428203}. Best is trial 12 with value: 0.7445156065199918.\n"
     ]
    },
    {
     "name": "stdout",
     "output_type": "stream",
     "text": [
      "Stopped by overfitting detector  (300 iterations wait)\n",
      "\n",
      "bestTest = 0.7442307669\n",
      "bestIteration = 420\n",
      "\n",
      "Shrink model to first 421 iterations.\n",
      "0:\ttest: 0.7092637\tbest: 0.7092637 (0)\ttotal: 95.8ms\tremaining: 4m 30s\n",
      "300:\ttest: 0.7432354\tbest: 0.7434586 (225)\ttotal: 32.2s\tremaining: 4m 30s\n"
     ]
    },
    {
     "name": "stderr",
     "output_type": "stream",
     "text": [
      "[I 2025-02-25 20:25:37,305] Trial 19 finished with value: 0.7434585645487728 and parameters: {'iterations': 2831, 'depth': 9, 'learning_rate': 0.06099268797854106, 'l2_leaf_reg': 1.4969676709690884}. Best is trial 12 with value: 0.7445156065199918.\n"
     ]
    },
    {
     "name": "stdout",
     "output_type": "stream",
     "text": [
      "Stopped by overfitting detector  (300 iterations wait)\n",
      "\n",
      "bestTest = 0.7434585645\n",
      "bestIteration = 225\n",
      "\n",
      "Shrink model to first 226 iterations.\n",
      "0:\ttest: 0.7092638\tbest: 0.7092638 (0)\ttotal: 89.2ms\tremaining: 2m 18s\n",
      "300:\ttest: 0.7411252\tbest: 0.7411252 (300)\ttotal: 23.1s\tremaining: 1m 35s\n",
      "600:\ttest: 0.7429389\tbest: 0.7429441 (598)\ttotal: 47.7s\tremaining: 1m 15s\n",
      "900:\ttest: 0.7434924\tbest: 0.7435169 (895)\ttotal: 1m 14s\tremaining: 53.5s\n",
      "1200:\ttest: 0.7435597\tbest: 0.7436731 (1134)\ttotal: 1m 43s\tremaining: 30s\n"
     ]
    },
    {
     "name": "stderr",
     "output_type": "stream",
     "text": [
      "[I 2025-02-25 20:27:42,607] Trial 20 finished with value: 0.7436731035897162 and parameters: {'iterations': 1551, 'depth': 7, 'learning_rate': 0.019347020037057214, 'l2_leaf_reg': 0.012990508780008181}. Best is trial 12 with value: 0.7445156065199918.\n"
     ]
    },
    {
     "name": "stdout",
     "output_type": "stream",
     "text": [
      "Stopped by overfitting detector  (300 iterations wait)\n",
      "\n",
      "bestTest = 0.7436731036\n",
      "bestIteration = 1134\n",
      "\n",
      "Shrink model to first 1135 iterations.\n",
      "0:\ttest: 0.7094226\tbest: 0.7094226 (0)\ttotal: 114ms\tremaining: 5m 39s\n",
      "300:\ttest: 0.7431696\tbest: 0.7431696 (300)\ttotal: 30.8s\tremaining: 4m 34s\n",
      "600:\ttest: 0.7439990\tbest: 0.7440312 (591)\ttotal: 1m 4s\tremaining: 4m 13s\n",
      "900:\ttest: 0.7440868\tbest: 0.7441531 (745)\ttotal: 1m 39s\tremaining: 3m 49s\n"
     ]
    },
    {
     "name": "stderr",
     "output_type": "stream",
     "text": [
      "[I 2025-02-25 20:29:39,266] Trial 21 finished with value: 0.7441531202000919 and parameters: {'iterations': 2983, 'depth': 9, 'learning_rate': 0.029321454590493203, 'l2_leaf_reg': 31.45979022834493}. Best is trial 12 with value: 0.7445156065199918.\n"
     ]
    },
    {
     "name": "stdout",
     "output_type": "stream",
     "text": [
      "Stopped by overfitting detector  (300 iterations wait)\n",
      "\n",
      "bestTest = 0.7441531202\n",
      "bestIteration = 745\n",
      "\n",
      "Shrink model to first 746 iterations.\n",
      "0:\ttest: 0.7093835\tbest: 0.7093835 (0)\ttotal: 106ms\tremaining: 5m 2s\n",
      "300:\ttest: 0.7433777\tbest: 0.7433786 (299)\ttotal: 38.6s\tremaining: 5m 27s\n",
      "600:\ttest: 0.7439621\tbest: 0.7439917 (544)\ttotal: 1m 28s\tremaining: 5m 33s\n",
      "900:\ttest: 0.7439882\tbest: 0.7440372 (774)\ttotal: 2m 22s\tremaining: 5m 9s\n"
     ]
    },
    {
     "name": "stderr",
     "output_type": "stream",
     "text": [
      "[I 2025-02-25 20:32:33,475] Trial 22 finished with value: 0.7440372219438542 and parameters: {'iterations': 2856, 'depth': 10, 'learning_rate': 0.035031557180612315, 'l2_leaf_reg': 83.89712726394282}. Best is trial 12 with value: 0.7445156065199918.\n"
     ]
    },
    {
     "name": "stdout",
     "output_type": "stream",
     "text": [
      "Stopped by overfitting detector  (300 iterations wait)\n",
      "\n",
      "bestTest = 0.7440372219\n",
      "bestIteration = 774\n",
      "\n",
      "Shrink model to first 775 iterations.\n",
      "0:\ttest: 0.7093301\tbest: 0.7093301 (0)\ttotal: 100ms\tremaining: 4m 21s\n",
      "300:\ttest: 0.7416569\tbest: 0.7416569 (300)\ttotal: 25.5s\tremaining: 3m 16s\n",
      "600:\ttest: 0.7431777\tbest: 0.7431852 (587)\ttotal: 51.8s\tremaining: 2m 53s\n",
      "900:\ttest: 0.7439715\tbest: 0.7439715 (900)\ttotal: 1m 19s\tremaining: 2m 31s\n",
      "1200:\ttest: 0.7443120\tbest: 0.7443200 (1153)\ttotal: 1m 49s\tremaining: 2m 9s\n"
     ]
    },
    {
     "name": "stderr",
     "output_type": "stream",
     "text": [
      "[I 2025-02-25 20:34:48,659] Trial 23 finished with value: 0.7443199530139328 and parameters: {'iterations': 2616, 'depth': 8, 'learning_rate': 0.016200910754911722, 'l2_leaf_reg': 3.2331186231461966}. Best is trial 12 with value: 0.7445156065199918.\n"
     ]
    },
    {
     "name": "stdout",
     "output_type": "stream",
     "text": [
      "Stopped by overfitting detector  (300 iterations wait)\n",
      "\n",
      "bestTest = 0.744319953\n",
      "bestIteration = 1153\n",
      "\n",
      "Shrink model to first 1154 iterations.\n",
      "0:\ttest: 0.7093301\tbest: 0.7093301 (0)\ttotal: 99.6ms\tremaining: 4m 17s\n",
      "300:\ttest: 0.7412831\tbest: 0.7412831 (300)\ttotal: 25.8s\tremaining: 3m 15s\n",
      "600:\ttest: 0.7429909\tbest: 0.7429909 (600)\ttotal: 52.3s\tremaining: 2m 52s\n",
      "900:\ttest: 0.7437076\tbest: 0.7437076 (899)\ttotal: 1m 18s\tremaining: 2m 27s\n",
      "1200:\ttest: 0.7442545\tbest: 0.7442545 (1200)\ttotal: 1m 48s\tremaining: 2m 5s\n",
      "1500:\ttest: 0.7443349\tbest: 0.7443458 (1435)\ttotal: 2m 18s\tremaining: 1m 40s\n",
      "1800:\ttest: 0.7443251\tbest: 0.7443517 (1561)\ttotal: 2m 48s\tremaining: 1m 13s\n"
     ]
    },
    {
     "name": "stderr",
     "output_type": "stream",
     "text": [
      "[I 2025-02-25 20:37:43,063] Trial 24 finished with value: 0.7443516684822088 and parameters: {'iterations': 2588, 'depth': 8, 'learning_rate': 0.014571007666602959, 'l2_leaf_reg': 3.2478036349542916}. Best is trial 12 with value: 0.7445156065199918.\n"
     ]
    },
    {
     "name": "stdout",
     "output_type": "stream",
     "text": [
      "Stopped by overfitting detector  (300 iterations wait)\n",
      "\n",
      "bestTest = 0.7443516685\n",
      "bestIteration = 1561\n",
      "\n",
      "Shrink model to first 1562 iterations.\n",
      "0:\ttest: 0.6951126\tbest: 0.6951126 (0)\ttotal: 76.9ms\tremaining: 3m 13s\n",
      "300:\ttest: 0.7400713\tbest: 0.7400713 (300)\ttotal: 19.7s\tremaining: 2m 25s\n",
      "600:\ttest: 0.7423016\tbest: 0.7423016 (600)\ttotal: 40.1s\tremaining: 2m 8s\n",
      "900:\ttest: 0.7434443\tbest: 0.7434446 (899)\ttotal: 1m 1s\tremaining: 1m 50s\n",
      "1200:\ttest: 0.7439880\tbest: 0.7439967 (1199)\ttotal: 1m 23s\tremaining: 1m 32s\n",
      "1500:\ttest: 0.7441213\tbest: 0.7441407 (1490)\ttotal: 1m 46s\tremaining: 1m 12s\n",
      "1800:\ttest: 0.7442018\tbest: 0.7442463 (1760)\ttotal: 2m 8s\tremaining: 51.6s\n"
     ]
    },
    {
     "name": "stderr",
     "output_type": "stream",
     "text": [
      "[I 2025-02-25 20:40:11,740] Trial 25 finished with value: 0.7442463446959873 and parameters: {'iterations': 2524, 'depth': 6, 'learning_rate': 0.015198395384985052, 'l2_leaf_reg': 0.20332923076999443}. Best is trial 12 with value: 0.7445156065199918.\n"
     ]
    },
    {
     "name": "stdout",
     "output_type": "stream",
     "text": [
      "Stopped by overfitting detector  (300 iterations wait)\n",
      "\n",
      "bestTest = 0.7442463447\n",
      "bestIteration = 1760\n",
      "\n",
      "Shrink model to first 1761 iterations.\n",
      "0:\ttest: 0.7093301\tbest: 0.7093301 (0)\ttotal: 96.9ms\tremaining: 4m 13s\n",
      "300:\ttest: 0.7368246\tbest: 0.7368246 (300)\ttotal: 25.4s\tremaining: 3m 15s\n",
      "600:\ttest: 0.7401138\tbest: 0.7401138 (600)\ttotal: 52s\tremaining: 2m 54s\n",
      "900:\ttest: 0.7416776\tbest: 0.7416776 (900)\ttotal: 1m 18s\tremaining: 2m 29s\n",
      "1200:\ttest: 0.7424268\tbest: 0.7424268 (1200)\ttotal: 1m 45s\tremaining: 2m 4s\n",
      "1500:\ttest: 0.7428974\tbest: 0.7428976 (1497)\ttotal: 2m 12s\tremaining: 1m 38s\n",
      "1800:\ttest: 0.7432941\tbest: 0.7432985 (1799)\ttotal: 2m 39s\tremaining: 1m 11s\n",
      "2100:\ttest: 0.7435111\tbest: 0.7435111 (2100)\ttotal: 3m 5s\tremaining: 45.3s\n",
      "2400:\ttest: 0.7438154\tbest: 0.7438160 (2399)\ttotal: 3m 36s\tremaining: 19.2s\n"
     ]
    },
    {
     "name": "stderr",
     "output_type": "stream",
     "text": [
      "[I 2025-02-25 20:44:10,126] Trial 26 finished with value: 0.7440578427560187 and parameters: {'iterations': 2614, 'depth': 8, 'learning_rate': 0.005470798765879862, 'l2_leaf_reg': 3.2028118814456628}. Best is trial 12 with value: 0.7445156065199918.\n"
     ]
    },
    {
     "name": "stdout",
     "output_type": "stream",
     "text": [
      "2613:\ttest: 0.7440578\tbest: 0.7440578 (2613)\ttotal: 3m 57s\tremaining: 0us\n",
      "\n",
      "bestTest = 0.7440578428\n",
      "bestIteration = 2613\n",
      "\n",
      "0:\ttest: 0.6951126\tbest: 0.6951126 (0)\ttotal: 79.7ms\tremaining: 3m 13s\n",
      "300:\ttest: 0.7407731\tbest: 0.7407731 (300)\ttotal: 20.6s\tremaining: 2m 25s\n",
      "600:\ttest: 0.7425429\tbest: 0.7425429 (600)\ttotal: 41.3s\tremaining: 2m 5s\n",
      "900:\ttest: 0.7435940\tbest: 0.7435940 (900)\ttotal: 1m 3s\tremaining: 1m 47s\n",
      "1200:\ttest: 0.7437695\tbest: 0.7437778 (1199)\ttotal: 1m 25s\tremaining: 1m 27s\n",
      "1500:\ttest: 0.7438707\tbest: 0.7439138 (1378)\ttotal: 1m 47s\tremaining: 1m 6s\n"
     ]
    },
    {
     "name": "stderr",
     "output_type": "stream",
     "text": [
      "[I 2025-02-25 20:46:11,068] Trial 27 finished with value: 0.7439137512075862 and parameters: {'iterations': 2429, 'depth': 6, 'learning_rate': 0.019186395442138175, 'l2_leaf_reg': 0.3452450470308163}. Best is trial 12 with value: 0.7445156065199918.\n"
     ]
    },
    {
     "name": "stdout",
     "output_type": "stream",
     "text": [
      "Stopped by overfitting detector  (300 iterations wait)\n",
      "\n",
      "bestTest = 0.7439137512\n",
      "bestIteration = 1378\n",
      "\n",
      "Shrink model to first 1379 iterations.\n",
      "0:\ttest: 0.7093301\tbest: 0.7093301 (0)\ttotal: 96.3ms\tremaining: 3m 37s\n",
      "300:\ttest: 0.7404688\tbest: 0.7404688 (300)\ttotal: 28.4s\tremaining: 3m 4s\n",
      "600:\ttest: 0.7425953\tbest: 0.7426042 (599)\ttotal: 58.5s\tremaining: 2m 41s\n",
      "900:\ttest: 0.7432848\tbest: 0.7432848 (899)\ttotal: 1m 27s\tremaining: 2m 11s\n",
      "1200:\ttest: 0.7437919\tbest: 0.7437919 (1200)\ttotal: 1m 58s\tremaining: 1m 44s\n",
      "1500:\ttest: 0.7440908\tbest: 0.7440980 (1495)\ttotal: 2m 33s\tremaining: 1m 16s\n",
      "1800:\ttest: 0.7442136\tbest: 0.7442166 (1729)\ttotal: 3m 7s\tremaining: 47.3s\n",
      "2100:\ttest: 0.7442034\tbest: 0.7442504 (1841)\ttotal: 3m 42s\tremaining: 16.3s\n"
     ]
    },
    {
     "name": "stderr",
     "output_type": "stream",
     "text": [
      "[I 2025-02-25 20:49:58,573] Trial 28 finished with value: 0.7442504466214572 and parameters: {'iterations': 2255, 'depth': 9, 'learning_rate': 0.010309086338461974, 'l2_leaf_reg': 3.1734446402372085}. Best is trial 12 with value: 0.7445156065199918.\n"
     ]
    },
    {
     "name": "stdout",
     "output_type": "stream",
     "text": [
      "Stopped by overfitting detector  (300 iterations wait)\n",
      "\n",
      "bestTest = 0.7442504466\n",
      "bestIteration = 1841\n",
      "\n",
      "Shrink model to first 1842 iterations.\n",
      "0:\ttest: 0.7092638\tbest: 0.7092638 (0)\ttotal: 93.9ms\tremaining: 4m 6s\n",
      "300:\ttest: 0.7412856\tbest: 0.7412856 (300)\ttotal: 25.5s\tremaining: 3m 16s\n",
      "600:\ttest: 0.7427754\tbest: 0.7427754 (600)\ttotal: 51.7s\tremaining: 2m 54s\n",
      "900:\ttest: 0.7434809\tbest: 0.7434809 (900)\ttotal: 1m 18s\tremaining: 2m 31s\n",
      "1200:\ttest: 0.7437073\tbest: 0.7437808 (1115)\ttotal: 1m 48s\tremaining: 2m 9s\n"
     ]
    },
    {
     "name": "stderr",
     "output_type": "stream",
     "text": [
      "[I 2025-02-25 20:52:08,880] Trial 29 finished with value: 0.7437808019659 and parameters: {'iterations': 2628, 'depth': 8, 'learning_rate': 0.015519519966341898, 'l2_leaf_reg': 0.7360131115740657}. Best is trial 12 with value: 0.7445156065199918.\n"
     ]
    },
    {
     "name": "stdout",
     "output_type": "stream",
     "text": [
      "Stopped by overfitting detector  (300 iterations wait)\n",
      "\n",
      "bestTest = 0.743780802\n",
      "bestIteration = 1115\n",
      "\n",
      "Shrink model to first 1116 iterations.\n",
      "0:\ttest: 0.7094108\tbest: 0.7094108 (0)\ttotal: 127ms\tremaining: 5m 8s\n",
      "300:\ttest: 0.7392103\tbest: 0.7392103 (300)\ttotal: 22.3s\tremaining: 2m 36s\n",
      "600:\ttest: 0.7418711\tbest: 0.7418711 (600)\ttotal: 45.8s\tremaining: 2m 19s\n",
      "900:\ttest: 0.7427717\tbest: 0.7427725 (899)\ttotal: 1m 9s\tremaining: 1m 56s\n",
      "1200:\ttest: 0.7432873\tbest: 0.7432873 (1200)\ttotal: 1m 31s\tremaining: 1m 33s\n",
      "1500:\ttest: 0.7437345\tbest: 0.7437345 (1499)\ttotal: 1m 56s\tremaining: 1m 11s\n",
      "1800:\ttest: 0.7439321\tbest: 0.7439419 (1792)\ttotal: 2m 21s\tremaining: 49s\n",
      "2100:\ttest: 0.7440782\tbest: 0.7440814 (2090)\ttotal: 2m 46s\tremaining: 25.6s\n",
      "2400:\ttest: 0.7441524\tbest: 0.7441548 (2381)\ttotal: 3m 11s\tremaining: 1.84s\n"
     ]
    },
    {
     "name": "stderr",
     "output_type": "stream",
     "text": [
      "[I 2025-02-25 20:55:23,134] Trial 30 finished with value: 0.7441616576054749 and parameters: {'iterations': 2424, 'depth': 7, 'learning_rate': 0.010408502929191554, 'l2_leaf_reg': 27.008329047491006}. Best is trial 12 with value: 0.7445156065199918.\n"
     ]
    },
    {
     "name": "stdout",
     "output_type": "stream",
     "text": [
      "2423:\ttest: 0.7441609\tbest: 0.7441617 (2419)\ttotal: 3m 13s\tremaining: 0us\n",
      "\n",
      "bestTest = 0.7441616576\n",
      "bestIteration = 2419\n",
      "\n",
      "Shrink model to first 2420 iterations.\n",
      "0:\ttest: 0.7094099\tbest: 0.7094099 (0)\ttotal: 96ms\tremaining: 4m 21s\n",
      "300:\ttest: 0.7424059\tbest: 0.7424059 (300)\ttotal: 26.3s\tremaining: 3m 32s\n",
      "600:\ttest: 0.7436914\tbest: 0.7437070 (597)\ttotal: 53.4s\tremaining: 3m 9s\n",
      "900:\ttest: 0.7440766\tbest: 0.7440842 (895)\ttotal: 1m 23s\tremaining: 2m 49s\n",
      "1200:\ttest: 0.7441654\tbest: 0.7441783 (1197)\ttotal: 1m 52s\tremaining: 2m 23s\n"
     ]
    },
    {
     "name": "stderr",
     "output_type": "stream",
     "text": [
      "[I 2025-02-25 20:57:45,871] Trial 31 finished with value: 0.74417825988078 and parameters: {'iterations': 2729, 'depth': 8, 'learning_rate': 0.02375516484162759, 'l2_leaf_reg': 12.31813747120809}. Best is trial 12 with value: 0.7445156065199918.\n"
     ]
    },
    {
     "name": "stdout",
     "output_type": "stream",
     "text": [
      "Stopped by overfitting detector  (300 iterations wait)\n",
      "\n",
      "bestTest = 0.7441782599\n",
      "bestIteration = 1197\n",
      "\n",
      "Shrink model to first 1198 iterations.\n",
      "0:\ttest: 0.7092893\tbest: 0.7092893 (0)\ttotal: 96.4ms\tremaining: 4m 36s\n",
      "300:\ttest: 0.7434191\tbest: 0.7434212 (299)\ttotal: 29.2s\tremaining: 4m 9s\n",
      "600:\ttest: 0.7440140\tbest: 0.7442467 (522)\ttotal: 1m 2s\tremaining: 3m 55s\n"
     ]
    },
    {
     "name": "stderr",
     "output_type": "stream",
     "text": [
      "[I 2025-02-25 20:59:13,843] Trial 32 finished with value: 0.7442466504542264 and parameters: {'iterations': 2872, 'depth': 9, 'learning_rate': 0.031889323726669264, 'l2_leaf_reg': 2.816388825905687}. Best is trial 12 with value: 0.7445156065199918.\n"
     ]
    },
    {
     "name": "stdout",
     "output_type": "stream",
     "text": [
      "Stopped by overfitting detector  (300 iterations wait)\n",
      "\n",
      "bestTest = 0.7442466505\n",
      "bestIteration = 522\n",
      "\n",
      "Shrink model to first 523 iterations.\n",
      "0:\ttest: 0.7093509\tbest: 0.7093509 (0)\ttotal: 92.9ms\tremaining: 4m 8s\n",
      "300:\ttest: 0.7436403\tbest: 0.7436403 (300)\ttotal: 26s\tremaining: 3m 24s\n",
      "600:\ttest: 0.7441454\tbest: 0.7442004 (549)\ttotal: 55.6s\tremaining: 3m 11s\n"
     ]
    },
    {
     "name": "stderr",
     "output_type": "stream",
     "text": [
      "[I 2025-02-25 21:00:34,465] Trial 33 finished with value: 0.7442004134550271 and parameters: {'iterations': 2673, 'depth': 8, 'learning_rate': 0.04447258205200968, 'l2_leaf_reg': 8.312121230443442}. Best is trial 12 with value: 0.7445156065199918.\n"
     ]
    },
    {
     "name": "stdout",
     "output_type": "stream",
     "text": [
      "Stopped by overfitting detector  (300 iterations wait)\n",
      "\n",
      "bestTest = 0.7442004135\n",
      "bestIteration = 549\n",
      "\n",
      "Shrink model to first 550 iterations.\n",
      "0:\ttest: 0.7094091\tbest: 0.7094091 (0)\ttotal: 98.2ms\tremaining: 3m 48s\n",
      "300:\ttest: 0.7422178\tbest: 0.7422202 (298)\ttotal: 29.5s\tremaining: 3m 18s\n",
      "600:\ttest: 0.7436475\tbest: 0.7436475 (600)\ttotal: 58.2s\tremaining: 2m 47s\n",
      "900:\ttest: 0.7443008\tbest: 0.7443053 (896)\ttotal: 1m 30s\tremaining: 2m 23s\n",
      "1200:\ttest: 0.7443906\tbest: 0.7444341 (1018)\ttotal: 2m 4s\tremaining: 1m 56s\n",
      "1500:\ttest: 0.7444513\tbest: 0.7444790 (1450)\ttotal: 2m 37s\tremaining: 1m 27s\n",
      "1800:\ttest: 0.7444962\tbest: 0.7445130 (1605)\ttotal: 3m 12s\tremaining: 56.6s\n",
      "2100:\ttest: 0.7445024\tbest: 0.7445514 (1941)\ttotal: 3m 46s\tremaining: 24.9s\n"
     ]
    },
    {
     "name": "stderr",
     "output_type": "stream",
     "text": [
      "[I 2025-02-25 21:04:37,372] Trial 34 finished with value: 0.7445513643504444 and parameters: {'iterations': 2332, 'depth': 9, 'learning_rate': 0.017892094569218992, 'l2_leaf_reg': 25.847208754576794}. Best is trial 34 with value: 0.7445513643504444.\n"
     ]
    },
    {
     "name": "stdout",
     "output_type": "stream",
     "text": [
      "Stopped by overfitting detector  (300 iterations wait)\n",
      "\n",
      "bestTest = 0.7445513644\n",
      "bestIteration = 1941\n",
      "\n",
      "Shrink model to first 1942 iterations.\n",
      "저장 완료\n",
      "0:\ttest: 0.7094151\tbest: 0.7094151 (0)\ttotal: 97.2ms\tremaining: 3m 39s\n",
      "300:\ttest: 0.7379245\tbest: 0.7379245 (300)\ttotal: 29.1s\tremaining: 3m 9s\n",
      "600:\ttest: 0.7409556\tbest: 0.7409556 (600)\ttotal: 58.5s\tremaining: 2m 41s\n",
      "900:\ttest: 0.7422314\tbest: 0.7422314 (900)\ttotal: 1m 27s\tremaining: 2m 11s\n",
      "1200:\ttest: 0.7428424\tbest: 0.7428469 (1193)\ttotal: 1m 55s\tremaining: 1m 41s\n",
      "1500:\ttest: 0.7432142\tbest: 0.7432142 (1499)\ttotal: 2m 22s\tremaining: 1m 12s\n",
      "1800:\ttest: 0.7434686\tbest: 0.7434703 (1798)\ttotal: 2m 50s\tremaining: 43.3s\n",
      "2100:\ttest: 0.7437221\tbest: 0.7437221 (2100)\ttotal: 3m 19s\tremaining: 14.9s\n"
     ]
    },
    {
     "name": "stderr",
     "output_type": "stream",
     "text": [
      "[I 2025-02-25 21:08:12,497] Trial 35 finished with value: 0.7438644208880179 and parameters: {'iterations': 2258, 'depth': 9, 'learning_rate': 0.005975757579929757, 'l2_leaf_reg': 38.78141012875935}. Best is trial 34 with value: 0.7445513643504444.\n"
     ]
    },
    {
     "name": "stdout",
     "output_type": "stream",
     "text": [
      "2257:\ttest: 0.7438644\tbest: 0.7438644 (2256)\ttotal: 3m 34s\tremaining: 0us\n",
      "\n",
      "bestTest = 0.7438644209\n",
      "bestIteration = 2256\n",
      "\n",
      "Shrink model to first 2257 iterations.\n",
      "0:\ttest: 0.7094098\tbest: 0.7094098 (0)\ttotal: 101ms\tremaining: 3m 36s\n",
      "300:\ttest: 0.7424247\tbest: 0.7424247 (300)\ttotal: 40.1s\tremaining: 4m 5s\n",
      "600:\ttest: 0.7435287\tbest: 0.7435287 (600)\ttotal: 1m 18s\tremaining: 3m 22s\n",
      "900:\ttest: 0.7440859\tbest: 0.7440859 (900)\ttotal: 2m 5s\tremaining: 2m 52s\n",
      "1200:\ttest: 0.7441868\tbest: 0.7441881 (1198)\ttotal: 2m 59s\tremaining: 2m 20s\n",
      "1500:\ttest: 0.7440907\tbest: 0.7441939 (1221)\ttotal: 3m 51s\tremaining: 1m 39s\n"
     ]
    },
    {
     "name": "stderr",
     "output_type": "stream",
     "text": [
      "[I 2025-02-25 21:12:08,537] Trial 36 finished with value: 0.7441939289978223 and parameters: {'iterations': 2143, 'depth': 10, 'learning_rate': 0.017597126918475633, 'l2_leaf_reg': 23.291337636744505}. Best is trial 34 with value: 0.7445513643504444.\n"
     ]
    },
    {
     "name": "stdout",
     "output_type": "stream",
     "text": [
      "Stopped by overfitting detector  (300 iterations wait)\n",
      "\n",
      "bestTest = 0.744193929\n",
      "bestIteration = 1221\n",
      "\n",
      "Shrink model to first 1222 iterations.\n",
      "0:\ttest: 0.7093396\tbest: 0.7093396 (0)\ttotal: 97.3ms\tremaining: 3m 46s\n",
      "300:\ttest: 0.7409612\tbest: 0.7409612 (300)\ttotal: 28.9s\tremaining: 3m 14s\n",
      "600:\ttest: 0.7428908\tbest: 0.7428908 (600)\ttotal: 58.7s\tremaining: 2m 48s\n",
      "900:\ttest: 0.7434791\tbest: 0.7434791 (900)\ttotal: 1m 27s\tremaining: 2m 19s\n",
      "1200:\ttest: 0.7439798\tbest: 0.7439823 (1198)\ttotal: 1m 58s\tremaining: 1m 51s\n",
      "1500:\ttest: 0.7442585\tbest: 0.7442851 (1433)\ttotal: 2m 36s\tremaining: 1m 26s\n",
      "1800:\ttest: 0.7443984\tbest: 0.7444032 (1788)\ttotal: 3m 10s\tremaining: 55.5s\n",
      "2100:\ttest: 0.7442849\tbest: 0.7444052 (1812)\ttotal: 3m 44s\tremaining: 24s\n"
     ]
    },
    {
     "name": "stderr",
     "output_type": "stream",
     "text": [
      "[I 2025-02-25 21:15:55,229] Trial 37 finished with value: 0.7444052476500375 and parameters: {'iterations': 2325, 'depth': 9, 'learning_rate': 0.011287350101743643, 'l2_leaf_reg': 5.107652188233132}. Best is trial 34 with value: 0.7445513643504444.\n"
     ]
    },
    {
     "name": "stdout",
     "output_type": "stream",
     "text": [
      "Stopped by overfitting detector  (300 iterations wait)\n",
      "\n",
      "bestTest = 0.7444052477\n",
      "bestIteration = 1812\n",
      "\n",
      "Shrink model to first 1813 iterations.\n",
      "0:\ttest: 0.7094280\tbest: 0.7094280 (0)\ttotal: 97ms\tremaining: 3m 46s\n",
      "300:\ttest: 0.7408176\tbest: 0.7408176 (300)\ttotal: 28.7s\tremaining: 3m 14s\n",
      "600:\ttest: 0.7429348\tbest: 0.7429363 (599)\ttotal: 58.1s\tremaining: 2m 47s\n",
      "900:\ttest: 0.7435584\tbest: 0.7435584 (900)\ttotal: 1m 26s\tremaining: 2m 18s\n",
      "1200:\ttest: 0.7439505\tbest: 0.7439505 (1200)\ttotal: 1m 55s\tremaining: 1m 49s\n",
      "1500:\ttest: 0.7441415\tbest: 0.7441432 (1496)\ttotal: 2m 28s\tremaining: 1m 23s\n",
      "1800:\ttest: 0.7442447\tbest: 0.7442493 (1641)\ttotal: 3m 2s\tremaining: 54.4s\n",
      "2100:\ttest: 0.7442817\tbest: 0.7442824 (2072)\ttotal: 3m 35s\tremaining: 24.4s\n"
     ]
    },
    {
     "name": "stderr",
     "output_type": "stream",
     "text": [
      "[I 2025-02-25 21:19:57,612] Trial 38 finished with value: 0.7443122216984535 and parameters: {'iterations': 2339, 'depth': 9, 'learning_rate': 0.011506070483114337, 'l2_leaf_reg': 35.102286587217954}. Best is trial 34 with value: 0.7445513643504444.\n"
     ]
    },
    {
     "name": "stdout",
     "output_type": "stream",
     "text": [
      "2338:\ttest: 0.7443101\tbest: 0.7443122 (2330)\ttotal: 4m 1s\tremaining: 0us\n",
      "\n",
      "bestTest = 0.7443122217\n",
      "bestIteration = 2330\n",
      "\n",
      "Shrink model to first 2331 iterations.\n",
      "0:\ttest: 0.7092638\tbest: 0.7092638 (0)\ttotal: 102ms\tremaining: 4m 6s\n",
      "300:\ttest: 0.7413533\tbest: 0.7431134 (182)\ttotal: 42.5s\tremaining: 4m 59s\n"
     ]
    },
    {
     "name": "stderr",
     "output_type": "stream",
     "text": [
      "[I 2025-02-25 21:21:10,011] Trial 39 finished with value: 0.7431133595257224 and parameters: {'iterations': 2421, 'depth': 10, 'learning_rate': 0.08103129583237369, 'l2_leaf_reg': 0.5876215431135136}. Best is trial 34 with value: 0.7445513643504444.\n",
      "[I 2025-02-25 21:21:10,018] A new study created in memory with name: no-name-f6f0a739-fced-4f6c-93ad-9ee36e1ef143\n"
     ]
    },
    {
     "name": "stdout",
     "output_type": "stream",
     "text": [
      "Stopped by overfitting detector  (300 iterations wait)\n",
      "\n",
      "bestTest = 0.7431133595\n",
      "bestIteration = 182\n",
      "\n",
      "Shrink model to first 183 iterations.\n"
     ]
    },
    {
     "name": "stderr",
     "output_type": "stream",
     "text": [
      "[I 2025-02-25 21:21:33,007] Trial 0 finished with value: 0.7360093527395096 and parameters: {'num_iterations': 2366, 'objective': 'binary', 'metric': 'auc', 'verbose': -1, 'learning_rate': 0.0652646236447618, 'n_estimators': 236, 'min_child_samples': 45, 'subsample': 0.7, 'colsample_bytree': 0.5}. Best is trial 0 with value: 0.7360093527395096.\n",
      "[I 2025-02-25 21:21:49,877] Trial 1 finished with value: 0.7436975205691112 and parameters: {'num_iterations': 1510, 'objective': 'binary', 'metric': 'auc', 'verbose': -1, 'learning_rate': 0.005231880959249543, 'n_estimators': 1411, 'min_child_samples': 10, 'subsample': 1.0, 'colsample_bytree': 0.5}. Best is trial 1 with value: 0.7436975205691112.\n",
      "[I 2025-02-25 21:22:09,279] Trial 2 finished with value: 0.7434001329579777 and parameters: {'num_iterations': 2334, 'objective': 'binary', 'metric': 'auc', 'verbose': -1, 'learning_rate': 0.006578527777128852, 'n_estimators': 931, 'min_child_samples': 15, 'subsample': 0.5, 'colsample_bytree': 1.0}. Best is trial 1 with value: 0.7436975205691112.\n",
      "[I 2025-02-25 21:22:25,743] Trial 3 finished with value: 0.7440062291768712 and parameters: {'num_iterations': 1620, 'objective': 'binary', 'metric': 'auc', 'verbose': -1, 'learning_rate': 0.0058823249237283685, 'n_estimators': 837, 'min_child_samples': 10, 'subsample': 0.9, 'colsample_bytree': 0.6}. Best is trial 3 with value: 0.7440062291768712.\n",
      "[I 2025-02-25 21:22:42,006] Trial 4 finished with value: 0.7430967215124413 and parameters: {'num_iterations': 1997, 'objective': 'binary', 'metric': 'auc', 'verbose': -1, 'learning_rate': 0.010907507425244923, 'n_estimators': 1597, 'min_child_samples': 50, 'subsample': 0.6, 'colsample_bytree': 0.8}. Best is trial 3 with value: 0.7440062291768712.\n",
      "[I 2025-02-25 21:23:04,411] Trial 5 finished with value: 0.7400750637271647 and parameters: {'num_iterations': 2909, 'objective': 'binary', 'metric': 'auc', 'verbose': -1, 'learning_rate': 0.019760591962733942, 'n_estimators': 612, 'min_child_samples': 30, 'subsample': 0.7, 'colsample_bytree': 0.9}. Best is trial 3 with value: 0.7440062291768712.\n",
      "[I 2025-02-25 21:23:24,918] Trial 6 finished with value: 0.7410259400842826 and parameters: {'num_iterations': 2639, 'objective': 'binary', 'metric': 'auc', 'verbose': -1, 'learning_rate': 0.017862094446750985, 'n_estimators': 794, 'min_child_samples': 35, 'subsample': 1.0, 'colsample_bytree': 0.8}. Best is trial 3 with value: 0.7440062291768712.\n",
      "[I 2025-02-25 21:23:41,415] Trial 7 finished with value: 0.7435563714473712 and parameters: {'num_iterations': 1580, 'objective': 'binary', 'metric': 'auc', 'verbose': -1, 'learning_rate': 0.01776722177611332, 'n_estimators': 529, 'min_child_samples': 25, 'subsample': 0.8, 'colsample_bytree': 0.5}. Best is trial 3 with value: 0.7440062291768712.\n",
      "[I 2025-02-25 21:23:58,933] Trial 8 finished with value: 0.7413036519541731 and parameters: {'num_iterations': 1911, 'objective': 'binary', 'metric': 'auc', 'verbose': -1, 'learning_rate': 0.0304747553332844, 'n_estimators': 1328, 'min_child_samples': 10, 'subsample': 0.7, 'colsample_bytree': 0.6}. Best is trial 3 with value: 0.7440062291768712.\n",
      "[I 2025-02-25 21:24:26,337] Trial 9 finished with value: 0.7406358600760078 and parameters: {'num_iterations': 2739, 'objective': 'binary', 'metric': 'auc', 'verbose': -1, 'learning_rate': 0.02691531614176271, 'n_estimators': 1438, 'min_child_samples': 20, 'subsample': 0.6, 'colsample_bytree': 0.5}. Best is trial 3 with value: 0.7440062291768712.\n",
      "[I 2025-02-25 21:24:40,722] Trial 10 finished with value: 0.7351773448615255 and parameters: {'num_iterations': 1883, 'objective': 'binary', 'metric': 'auc', 'verbose': -1, 'learning_rate': 0.08223556891145911, 'n_estimators': 1917, 'min_child_samples': 40, 'subsample': 0.9, 'colsample_bytree': 0.7}. Best is trial 3 with value: 0.7440062291768712.\n",
      "[I 2025-02-25 21:24:56,171] Trial 11 finished with value: 0.7438638173133117 and parameters: {'num_iterations': 1513, 'objective': 'binary', 'metric': 'auc', 'verbose': -1, 'learning_rate': 0.005340229419903739, 'n_estimators': 1206, 'min_child_samples': 10, 'subsample': 1.0, 'colsample_bytree': 0.6}. Best is trial 3 with value: 0.7440062291768712.\n",
      "[I 2025-02-25 21:25:10,910] Trial 12 finished with value: 0.7440358678716517 and parameters: {'num_iterations': 1717, 'objective': 'binary', 'metric': 'auc', 'verbose': -1, 'learning_rate': 0.008807202863131344, 'n_estimators': 1093, 'min_child_samples': 20, 'subsample': 0.9, 'colsample_bytree': 0.7}. Best is trial 12 with value: 0.7440358678716517.\n",
      "[I 2025-02-25 21:25:25,935] Trial 13 finished with value: 0.7441533028608583 and parameters: {'num_iterations': 1785, 'objective': 'binary', 'metric': 'auc', 'verbose': -1, 'learning_rate': 0.010668787980411185, 'n_estimators': 1055, 'min_child_samples': 20, 'subsample': 0.9, 'colsample_bytree': 0.7}. Best is trial 13 with value: 0.7441533028608583.\n",
      "[I 2025-02-25 21:25:43,547] Trial 14 finished with value: 0.7435761027810213 and parameters: {'num_iterations': 2116, 'objective': 'binary', 'metric': 'auc', 'verbose': -1, 'learning_rate': 0.010011974566213179, 'n_estimators': 1126, 'min_child_samples': 20, 'subsample': 0.9, 'colsample_bytree': 0.7}. Best is trial 13 with value: 0.7441533028608583.\n",
      "[I 2025-02-25 21:25:58,368] Trial 15 finished with value: 0.7439143706658372 and parameters: {'num_iterations': 1758, 'objective': 'binary', 'metric': 'auc', 'verbose': -1, 'learning_rate': 0.010223866226689225, 'n_estimators': 1671, 'min_child_samples': 25, 'subsample': 0.8, 'colsample_bytree': 0.7}. Best is trial 13 with value: 0.7441533028608583.\n",
      "[I 2025-02-25 21:26:15,468] Trial 16 finished with value: 0.7427076779054712 and parameters: {'num_iterations': 2134, 'objective': 'binary', 'metric': 'auc', 'verbose': -1, 'learning_rate': 0.012900328276877392, 'n_estimators': 295, 'min_child_samples': 20, 'subsample': 0.9, 'colsample_bytree': 0.9}. Best is trial 13 with value: 0.7441533028608583.\n",
      "[I 2025-02-25 21:26:29,182] Trial 17 finished with value: 0.7387703099314819 and parameters: {'num_iterations': 1772, 'objective': 'binary', 'metric': 'auc', 'verbose': -1, 'learning_rate': 0.03933979848900536, 'n_estimators': 1042, 'min_child_samples': 25, 'subsample': 0.8, 'colsample_bytree': 0.8}. Best is trial 13 with value: 0.7441533028608583.\n",
      "[I 2025-02-25 21:26:44,280] Trial 18 finished with value: 0.7440068168680324 and parameters: {'num_iterations': 1736, 'objective': 'binary', 'metric': 'auc', 'verbose': -1, 'learning_rate': 0.007729528796408071, 'n_estimators': 646, 'min_child_samples': 30, 'subsample': 0.9, 'colsample_bytree': 0.7}. Best is trial 13 with value: 0.7441533028608583.\n",
      "[I 2025-02-25 21:27:03,967] Trial 19 finished with value: 0.7425293334924653 and parameters: {'num_iterations': 2481, 'objective': 'binary', 'metric': 'auc', 'verbose': -1, 'learning_rate': 0.012975832119287956, 'n_estimators': 1904, 'min_child_samples': 15, 'subsample': 1.0, 'colsample_bytree': 0.9}. Best is trial 13 with value: 0.7441533028608583.\n",
      "[I 2025-02-25 21:27:24,155] Trial 20 finished with value: 0.744135068551315 and parameters: {'num_iterations': 2088, 'objective': 'binary', 'metric': 'auc', 'verbose': -1, 'learning_rate': 0.007877155758725746, 'n_estimators': 1000, 'min_child_samples': 30, 'subsample': 0.8, 'colsample_bytree': 0.6}. Best is trial 13 with value: 0.7441533028608583.\n",
      "[I 2025-02-25 21:27:44,552] Trial 21 finished with value: 0.7438572335839513 and parameters: {'num_iterations': 2121, 'objective': 'binary', 'metric': 'auc', 'verbose': -1, 'learning_rate': 0.008274839710944892, 'n_estimators': 992, 'min_child_samples': 30, 'subsample': 0.8, 'colsample_bytree': 0.6}. Best is trial 13 with value: 0.7441533028608583.\n",
      "[I 2025-02-25 21:28:03,373] Trial 22 finished with value: 0.7433955743805918 and parameters: {'num_iterations': 2015, 'objective': 'binary', 'metric': 'auc', 'verbose': -1, 'learning_rate': 0.013921044750592087, 'n_estimators': 1239, 'min_child_samples': 35, 'subsample': 0.9, 'colsample_bytree': 0.6}. Best is trial 13 with value: 0.7441533028608583.\n",
      "[I 2025-02-25 21:28:19,335] Trial 23 finished with value: 0.7440002569639894 and parameters: {'num_iterations': 1872, 'objective': 'binary', 'metric': 'auc', 'verbose': -1, 'learning_rate': 0.00853861090278903, 'n_estimators': 842, 'min_child_samples': 15, 'subsample': 0.8, 'colsample_bytree': 0.7}. Best is trial 13 with value: 0.7441533028608583.\n",
      "[I 2025-02-25 21:28:34,067] Trial 24 finished with value: 0.7439462251151311 and parameters: {'num_iterations': 1712, 'objective': 'binary', 'metric': 'auc', 'verbose': -1, 'learning_rate': 0.006804581581826419, 'n_estimators': 405, 'min_child_samples': 20, 'subsample': 0.9, 'colsample_bytree': 0.8}. Best is trial 13 with value: 0.7441533028608583.\n",
      "[I 2025-02-25 21:28:54,624] Trial 25 finished with value: 0.7422510220187547 and parameters: {'num_iterations': 2229, 'objective': 'binary', 'metric': 'auc', 'verbose': -1, 'learning_rate': 0.016372359563674662, 'n_estimators': 1108, 'min_child_samples': 35, 'subsample': 0.8, 'colsample_bytree': 0.6}. Best is trial 13 with value: 0.7441533028608583.\n",
      "[I 2025-02-25 21:29:09,478] Trial 26 finished with value: 0.7417297240751878 and parameters: {'num_iterations': 1854, 'objective': 'binary', 'metric': 'auc', 'verbose': -1, 'learning_rate': 0.023566726925219234, 'n_estimators': 747, 'min_child_samples': 25, 'subsample': 1.0, 'colsample_bytree': 0.7}. Best is trial 13 with value: 0.7441533028608583.\n",
      "[I 2025-02-25 21:29:28,581] Trial 27 finished with value: 0.7438764645859371 and parameters: {'num_iterations': 2000, 'objective': 'binary', 'metric': 'auc', 'verbose': -1, 'learning_rate': 0.00947796712272006, 'n_estimators': 1543, 'min_child_samples': 40, 'subsample': 0.7, 'colsample_bytree': 0.6}. Best is trial 13 with value: 0.7441533028608583.\n",
      "[I 2025-02-25 21:29:42,408] Trial 28 finished with value: 0.7437720223364573 and parameters: {'num_iterations': 1634, 'objective': 'binary', 'metric': 'auc', 'verbose': -1, 'learning_rate': 0.011830542510817875, 'n_estimators': 1225, 'min_child_samples': 15, 'subsample': 0.9, 'colsample_bytree': 0.7}. Best is trial 13 with value: 0.7441533028608583.\n",
      "[I 2025-02-25 21:30:05,765] Trial 29 finished with value: 0.7391561530041549 and parameters: {'num_iterations': 2362, 'objective': 'binary', 'metric': 'auc', 'verbose': -1, 'learning_rate': 0.04030098468148633, 'n_estimators': 967, 'min_child_samples': 30, 'subsample': 0.6, 'colsample_bytree': 0.5}. Best is trial 13 with value: 0.7441533028608583.\n",
      "[I 2025-02-25 21:30:24,349] Trial 30 finished with value: 0.7438990073070342 and parameters: {'num_iterations': 2223, 'objective': 'binary', 'metric': 'auc', 'verbose': -1, 'learning_rate': 0.007156536539413739, 'n_estimators': 104, 'min_child_samples': 45, 'subsample': 0.8, 'colsample_bytree': 0.8}. Best is trial 13 with value: 0.7441533028608583.\n",
      "[I 2025-02-25 21:30:39,184] Trial 31 finished with value: 0.7439766619580427 and parameters: {'num_iterations': 1694, 'objective': 'binary', 'metric': 'auc', 'verbose': -1, 'learning_rate': 0.007779567691206357, 'n_estimators': 614, 'min_child_samples': 30, 'subsample': 0.9, 'colsample_bytree': 0.7}. Best is trial 13 with value: 0.7441533028608583.\n",
      "[I 2025-02-25 21:30:53,870] Trial 32 finished with value: 0.7434417518164977 and parameters: {'num_iterations': 1772, 'objective': 'binary', 'metric': 'auc', 'verbose': -1, 'learning_rate': 0.014772190406616103, 'n_estimators': 526, 'min_child_samples': 25, 'subsample': 0.9, 'colsample_bytree': 0.7}. Best is trial 13 with value: 0.7441533028608583.\n",
      "[I 2025-02-25 21:31:12,074] Trial 33 finished with value: 0.7440003721196898 and parameters: {'num_iterations': 1804, 'objective': 'binary', 'metric': 'auc', 'verbose': -1, 'learning_rate': 0.005138774713120036, 'n_estimators': 886, 'min_child_samples': 40, 'subsample': 1.0, 'colsample_bytree': 0.6}. Best is trial 13 with value: 0.7441533028608583.\n",
      "[I 2025-02-25 21:31:29,095] Trial 34 finished with value: 0.7441944333003728 and parameters: {'num_iterations': 1956, 'objective': 'binary', 'metric': 'auc', 'verbose': -1, 'learning_rate': 0.0062292809396260005, 'n_estimators': 1343, 'min_child_samples': 20, 'subsample': 0.9, 'colsample_bytree': 0.7}. Best is trial 34 with value: 0.7441944333003728.\n",
      "[I 2025-02-25 21:31:45,901] Trial 35 finished with value: 0.7439801960467827 and parameters: {'num_iterations': 1961, 'objective': 'binary', 'metric': 'auc', 'verbose': -1, 'learning_rate': 0.006168055379713024, 'n_estimators': 1462, 'min_child_samples': 20, 'subsample': 0.8, 'colsample_bytree': 0.8}. Best is trial 34 with value: 0.7441944333003728.\n",
      "[I 2025-02-25 21:32:06,009] Trial 36 finished with value: 0.7440887799305946 and parameters: {'num_iterations': 2045, 'objective': 'binary', 'metric': 'auc', 'verbose': -1, 'learning_rate': 0.006215793464296697, 'n_estimators': 1349, 'min_child_samples': 15, 'subsample': 0.5, 'colsample_bytree': 0.6}. Best is trial 34 with value: 0.7441944333003728.\n",
      "[I 2025-02-25 21:32:28,554] Trial 37 finished with value: 0.7439372548831497 and parameters: {'num_iterations': 2089, 'objective': 'binary', 'metric': 'auc', 'verbose': -1, 'learning_rate': 0.0062148611492427635, 'n_estimators': 1773, 'min_child_samples': 15, 'subsample': 0.6, 'colsample_bytree': 0.5}. Best is trial 34 with value: 0.7441944333003728.\n",
      "[I 2025-02-25 21:32:50,921] Trial 38 finished with value: 0.7439571649066798 and parameters: {'num_iterations': 2280, 'objective': 'binary', 'metric': 'auc', 'verbose': -1, 'learning_rate': 0.005833103341844522, 'n_estimators': 1337, 'min_child_samples': 10, 'subsample': 0.5, 'colsample_bytree': 0.6}. Best is trial 34 with value: 0.7441944333003728.\n",
      "[I 2025-02-25 21:33:08,750] Trial 39 finished with value: 0.7433025087201456 and parameters: {'num_iterations': 2067, 'objective': 'binary', 'metric': 'auc', 'verbose': -1, 'learning_rate': 0.005028763322453145, 'n_estimators': 1532, 'min_child_samples': 15, 'subsample': 0.5, 'colsample_bytree': 1.0}. Best is trial 34 with value: 0.7441944333003728.\n"
     ]
    },
    {
     "name": "stdout",
     "output_type": "stream",
     "text": [
      "Cat val score : 0.7445513643504444\n",
      "LGBM val score : 0.7440029492248497\n",
      "Ensemble val score : 0.7446654518825638\n"
     ]
    },
    {
     "name": "stderr",
     "output_type": "stream",
     "text": [
      "[I 2025-02-25 21:33:27,191] A new study created in memory with name: no-name-7e5cdb20-8cb7-41b6-b3e1-2b74ce6eb742\n"
     ]
    },
    {
     "name": "stdout",
     "output_type": "stream",
     "text": [
      "==================================================\n",
      "0:\ttest: 0.7208588\tbest: 0.7208588 (0)\ttotal: 143ms\tremaining: 5m 39s\n",
      "300:\ttest: 0.7359928\tbest: 0.7359928 (300)\ttotal: 40.2s\tremaining: 4m 35s\n",
      "600:\ttest: 0.7375359\tbest: 0.7375359 (600)\ttotal: 1m 22s\tremaining: 4m 1s\n",
      "900:\ttest: 0.7380788\tbest: 0.7380863 (897)\ttotal: 2m 4s\tremaining: 3m 22s\n",
      "1200:\ttest: 0.7383713\tbest: 0.7383738 (1198)\ttotal: 2m 51s\tremaining: 2m 46s\n",
      "1500:\ttest: 0.7385280\tbest: 0.7385323 (1488)\ttotal: 3m 41s\tremaining: 2m 7s\n",
      "1800:\ttest: 0.7385156\tbest: 0.7385575 (1525)\ttotal: 4m 33s\tremaining: 1m 25s\n"
     ]
    },
    {
     "name": "stderr",
     "output_type": "stream",
     "text": [
      "[I 2025-02-25 21:38:05,752] Trial 0 finished with value: 0.7385574704298428 and parameters: {'iterations': 2366, 'depth': 10, 'learning_rate': 0.01181021951839225, 'l2_leaf_reg': 9.980783802743254}. Best is trial 0 with value: 0.7385574704298428.\n"
     ]
    },
    {
     "name": "stdout",
     "output_type": "stream",
     "text": [
      "Stopped by overfitting detector  (300 iterations wait)\n",
      "\n",
      "bestTest = 0.7385574704\n",
      "bestIteration = 1525\n",
      "\n",
      "Shrink model to first 1526 iterations.\n",
      "저장 완료\n",
      "0:\ttest: 0.6976802\tbest: 0.6976802 (0)\ttotal: 63.3ms\tremaining: 2m 18s\n",
      "300:\ttest: 0.7282151\tbest: 0.7282151 (300)\ttotal: 13.4s\tremaining: 1m 24s\n",
      "600:\ttest: 0.7319163\tbest: 0.7319163 (600)\ttotal: 27s\tremaining: 1m 11s\n",
      "900:\ttest: 0.7341131\tbest: 0.7341131 (900)\ttotal: 40.9s\tremaining: 58.6s\n",
      "1200:\ttest: 0.7353158\tbest: 0.7353158 (1200)\ttotal: 55s\tremaining: 45.5s\n",
      "1500:\ttest: 0.7360635\tbest: 0.7360635 (1500)\ttotal: 1m 9s\tremaining: 31.9s\n",
      "1800:\ttest: 0.7365992\tbest: 0.7365992 (1800)\ttotal: 1m 23s\tremaining: 18.2s\n",
      "2100:\ttest: 0.7370394\tbest: 0.7370401 (2099)\ttotal: 1m 37s\tremaining: 4.28s\n"
     ]
    },
    {
     "name": "stderr",
     "output_type": "stream",
     "text": [
      "[I 2025-02-25 21:39:48,382] Trial 1 finished with value: 0.7371549375317651 and parameters: {'iterations': 2193, 'depth': 4, 'learning_rate': 0.005671430811678843, 'l2_leaf_reg': 0.00012325230809466137}. Best is trial 0 with value: 0.7385574704298428.\n"
     ]
    },
    {
     "name": "stdout",
     "output_type": "stream",
     "text": [
      "2192:\ttest: 0.7371549\tbest: 0.7371549 (2192)\ttotal: 1m 42s\tremaining: 0us\n",
      "\n",
      "bestTest = 0.7371549375\n",
      "bestIteration = 2192\n",
      "\n",
      "0:\ttest: 0.6976802\tbest: 0.6976802 (0)\ttotal: 54.7ms\tremaining: 2m 18s\n",
      "300:\ttest: 0.7379913\tbest: 0.7380121 (254)\ttotal: 14.7s\tremaining: 1m 49s\n",
      "600:\ttest: 0.7377207\tbest: 0.7381740 (413)\ttotal: 29.7s\tremaining: 1m 35s\n"
     ]
    },
    {
     "name": "stderr",
     "output_type": "stream",
     "text": [
      "[I 2025-02-25 21:40:23,948] Trial 2 finished with value: 0.7381740098889045 and parameters: {'iterations': 2535, 'depth': 4, 'learning_rate': 0.09275339199839054, 'l2_leaf_reg': 0.0008705394248343123}. Best is trial 0 with value: 0.7385574704298428.\n"
     ]
    },
    {
     "name": "stdout",
     "output_type": "stream",
     "text": [
      "Stopped by overfitting detector  (300 iterations wait)\n",
      "\n",
      "bestTest = 0.7381740099\n",
      "bestIteration = 413\n",
      "\n",
      "Shrink model to first 414 iterations.\n",
      "0:\ttest: 0.6976802\tbest: 0.6976802 (0)\ttotal: 52.7ms\tremaining: 2m 2s\n",
      "300:\ttest: 0.7373149\tbest: 0.7373497 (293)\ttotal: 14.3s\tremaining: 1m 36s\n",
      "600:\ttest: 0.7383327\tbest: 0.7383327 (600)\ttotal: 29.2s\tremaining: 1m 24s\n",
      "900:\ttest: 0.7380976\tbest: 0.7383327 (604)\ttotal: 44.3s\tremaining: 1m 10s\n",
      "Stopped by overfitting detector  (300 iterations wait)\n",
      "\n",
      "bestTest = 0.7383327302\n",
      "bestIteration = 604\n",
      "\n",
      "Shrink model to first 605 iterations.\n"
     ]
    },
    {
     "name": "stderr",
     "output_type": "stream",
     "text": [
      "[I 2025-02-25 21:41:08,608] Trial 3 finished with value: 0.7383327301821884 and parameters: {'iterations': 2334, 'depth': 4, 'learning_rate': 0.04657568321363276, 'l2_leaf_reg': 0.0008640473331457248}. Best is trial 0 with value: 0.7385574704298428.\n"
     ]
    },
    {
     "name": "stdout",
     "output_type": "stream",
     "text": [
      "0:\ttest: 0.7208055\tbest: 0.7208055 (0)\ttotal: 132ms\tremaining: 3m 49s\n",
      "300:\ttest: 0.7352726\tbest: 0.7352726 (300)\ttotal: 39.4s\tremaining: 3m 8s\n",
      "600:\ttest: 0.7365286\tbest: 0.7365534 (570)\ttotal: 1m 21s\tremaining: 2m 34s\n",
      "900:\ttest: 0.7329105\tbest: 0.7366104 (627)\ttotal: 2m 2s\tremaining: 1m 54s\n"
     ]
    },
    {
     "name": "stderr",
     "output_type": "stream",
     "text": [
      "[I 2025-02-25 21:43:15,090] Trial 4 finished with value: 0.736610441670874 and parameters: {'iterations': 1742, 'depth': 10, 'learning_rate': 0.012622767482095846, 'l2_leaf_reg': 0.00021158816350109617}. Best is trial 0 with value: 0.7385574704298428.\n"
     ]
    },
    {
     "name": "stdout",
     "output_type": "stream",
     "text": [
      "Stopped by overfitting detector  (300 iterations wait)\n",
      "\n",
      "bestTest = 0.7366104417\n",
      "bestIteration = 627\n",
      "\n",
      "Shrink model to first 628 iterations.\n",
      "0:\ttest: 0.6976802\tbest: 0.6976802 (0)\ttotal: 51.9ms\tremaining: 1m 47s\n",
      "300:\ttest: 0.7377589\tbest: 0.7377589 (300)\ttotal: 14.6s\tremaining: 1m 26s\n",
      "600:\ttest: 0.7380365\tbest: 0.7381548 (395)\ttotal: 29.6s\tremaining: 1m 12s\n"
     ]
    },
    {
     "name": "stderr",
     "output_type": "stream",
     "text": [
      "[I 2025-02-25 21:43:49,646] Trial 5 finished with value: 0.7381548146248946 and parameters: {'iterations': 2082, 'depth': 4, 'learning_rate': 0.06995196593094148, 'l2_leaf_reg': 0.0018080296485396804}. Best is trial 0 with value: 0.7385574704298428.\n"
     ]
    },
    {
     "name": "stdout",
     "output_type": "stream",
     "text": [
      "Stopped by overfitting detector  (300 iterations wait)\n",
      "\n",
      "bestTest = 0.7381548146\n",
      "bestIteration = 395\n",
      "\n",
      "Shrink model to first 396 iterations.\n",
      "0:\ttest: 0.7021244\tbest: 0.7021244 (0)\ttotal: 65.7ms\tremaining: 2m 11s\n",
      "300:\ttest: 0.7383801\tbest: 0.7383801 (300)\ttotal: 18.7s\tremaining: 1m 45s\n",
      "600:\ttest: 0.7388418\tbest: 0.7388425 (597)\ttotal: 37.1s\tremaining: 1m 26s\n",
      "900:\ttest: 0.7389526\tbest: 0.7389843 (830)\ttotal: 55.5s\tremaining: 1m 7s\n",
      "1200:\ttest: 0.7392333\tbest: 0.7392335 (1195)\ttotal: 1m 14s\tremaining: 49.1s\n",
      "1500:\ttest: 0.7392416\tbest: 0.7392765 (1446)\ttotal: 1m 32s\tremaining: 30.6s\n",
      "1800:\ttest: 0.7392024\tbest: 0.7393248 (1597)\ttotal: 1m 51s\tremaining: 12.1s\n"
     ]
    },
    {
     "name": "stderr",
     "output_type": "stream",
     "text": [
      "[I 2025-02-25 21:45:47,402] Trial 6 finished with value: 0.739324776687683 and parameters: {'iterations': 1997, 'depth': 5, 'learning_rate': 0.07985155992831598, 'l2_leaf_reg': 62.52181000710482}. Best is trial 6 with value: 0.739324776687683.\n"
     ]
    },
    {
     "name": "stdout",
     "output_type": "stream",
     "text": [
      "Stopped by overfitting detector  (300 iterations wait)\n",
      "\n",
      "bestTest = 0.7393247767\n",
      "bestIteration = 1597\n",
      "\n",
      "Shrink model to first 1598 iterations.\n",
      "저장 완료\n",
      "0:\ttest: 0.7178156\tbest: 0.7178156 (0)\ttotal: 90ms\tremaining: 2m 53s\n",
      "300:\ttest: 0.7373915\tbest: 0.7381713 (165)\ttotal: 24.5s\tremaining: 2m 12s\n"
     ]
    },
    {
     "name": "stderr",
     "output_type": "stream",
     "text": [
      "[I 2025-02-25 21:46:26,112] Trial 7 finished with value: 0.7381712898318407 and parameters: {'iterations': 1927, 'depth': 7, 'learning_rate': 0.0941937211034094, 'l2_leaf_reg': 0.05654822767791934}. Best is trial 6 with value: 0.739324776687683.\n"
     ]
    },
    {
     "name": "stdout",
     "output_type": "stream",
     "text": [
      "Stopped by overfitting detector  (300 iterations wait)\n",
      "\n",
      "bestTest = 0.7381712898\n",
      "bestIteration = 165\n",
      "\n",
      "Shrink model to first 166 iterations.\n",
      "0:\ttest: 0.7178156\tbest: 0.7178156 (0)\ttotal: 90.7ms\tremaining: 2m 52s\n",
      "300:\ttest: 0.7385613\tbest: 0.7385824 (297)\ttotal: 23.6s\tremaining: 2m 5s\n",
      "600:\ttest: 0.7384613\tbest: 0.7386243 (343)\ttotal: 49.1s\tremaining: 1m 46s\n"
     ]
    },
    {
     "name": "stderr",
     "output_type": "stream",
     "text": [
      "[I 2025-02-25 21:47:19,124] Trial 8 finished with value: 0.7386243322120927 and parameters: {'iterations': 1904, 'depth': 7, 'learning_rate': 0.05155602859187331, 'l2_leaf_reg': 1.299974533316308}. Best is trial 6 with value: 0.739324776687683.\n"
     ]
    },
    {
     "name": "stdout",
     "output_type": "stream",
     "text": [
      "Stopped by overfitting detector  (300 iterations wait)\n",
      "\n",
      "bestTest = 0.7386243322\n",
      "bestIteration = 343\n",
      "\n",
      "Shrink model to first 344 iterations.\n",
      "0:\ttest: 0.7045365\tbest: 0.7045365 (0)\ttotal: 72.9ms\tremaining: 3m 12s\n",
      "300:\ttest: 0.7377768\tbest: 0.7377870 (298)\ttotal: 20.6s\tremaining: 2m 39s\n",
      "600:\ttest: 0.7385985\tbest: 0.7385998 (588)\ttotal: 42.6s\tremaining: 2m 24s\n",
      "900:\ttest: 0.7383640\tbest: 0.7386166 (747)\ttotal: 1m 4s\tremaining: 2m 4s\n"
     ]
    },
    {
     "name": "stderr",
     "output_type": "stream",
     "text": [
      "[I 2025-02-25 21:48:35,106] Trial 9 finished with value: 0.7386166485472481 and parameters: {'iterations': 2639, 'depth': 6, 'learning_rate': 0.03968704290444751, 'l2_leaf_reg': 0.30557194377967184}. Best is trial 6 with value: 0.739324776687683.\n"
     ]
    },
    {
     "name": "stdout",
     "output_type": "stream",
     "text": [
      "Stopped by overfitting detector  (300 iterations wait)\n",
      "\n",
      "bestTest = 0.7386166485\n",
      "bestIteration = 747\n",
      "\n",
      "Shrink model to first 748 iterations.\n",
      "0:\ttest: 0.7044666\tbest: 0.7044666 (0)\ttotal: 74.6ms\tremaining: 3m 39s\n",
      "300:\ttest: 0.7384862\tbest: 0.7385035 (295)\ttotal: 20.9s\tremaining: 3m 3s\n",
      "600:\ttest: 0.7391082\tbest: 0.7391082 (600)\ttotal: 42.6s\tremaining: 2m 46s\n",
      "900:\ttest: 0.7391622\tbest: 0.7391951 (891)\ttotal: 1m 4s\tremaining: 2m 25s\n"
     ]
    },
    {
     "name": "stderr",
     "output_type": "stream",
     "text": [
      "[I 2025-02-25 21:50:00,568] Trial 10 finished with value: 0.7391950756309286 and parameters: {'iterations': 2945, 'depth': 6, 'learning_rate': 0.07265276039199581, 'l2_leaf_reg': 97.18545559492516}. Best is trial 6 with value: 0.739324776687683.\n"
     ]
    },
    {
     "name": "stdout",
     "output_type": "stream",
     "text": [
      "Stopped by overfitting detector  (300 iterations wait)\n",
      "\n",
      "bestTest = 0.7391950756\n",
      "bestIteration = 891\n",
      "\n",
      "Shrink model to first 892 iterations.\n",
      "0:\ttest: 0.7044666\tbest: 0.7044666 (0)\ttotal: 79ms\tremaining: 3m 56s\n",
      "300:\ttest: 0.7384860\tbest: 0.7385028 (299)\ttotal: 20.7s\tremaining: 3m 4s\n",
      "600:\ttest: 0.7386925\tbest: 0.7387610 (448)\ttotal: 42.4s\tremaining: 2m 48s\n"
     ]
    },
    {
     "name": "stderr",
     "output_type": "stream",
     "text": [
      "[I 2025-02-25 21:50:53,991] Trial 11 finished with value: 0.7387609545235367 and parameters: {'iterations': 2994, 'depth': 6, 'learning_rate': 0.07131044509072976, 'l2_leaf_reg': 73.1213351392818}. Best is trial 6 with value: 0.739324776687683.\n"
     ]
    },
    {
     "name": "stdout",
     "output_type": "stream",
     "text": [
      "Stopped by overfitting detector  (300 iterations wait)\n",
      "\n",
      "bestTest = 0.7387609545\n",
      "bestIteration = 448\n",
      "\n",
      "Shrink model to first 449 iterations.\n",
      "0:\ttest: 0.7044666\tbest: 0.7044666 (0)\ttotal: 74.5ms\tremaining: 1m 58s\n",
      "300:\ttest: 0.7387336\tbest: 0.7387479 (287)\ttotal: 20.8s\tremaining: 1m 28s\n",
      "600:\ttest: 0.7391693\tbest: 0.7391717 (593)\ttotal: 42.4s\tremaining: 1m 9s\n",
      "900:\ttest: 0.7392484\tbest: 0.7392598 (881)\ttotal: 1m 4s\tremaining: 49s\n",
      "1200:\ttest: 0.7391990\tbest: 0.7392736 (924)\ttotal: 1m 25s\tremaining: 27.7s\n",
      "1500:\ttest: 0.7392222\tbest: 0.7393180 (1256)\ttotal: 1m 47s\tremaining: 6.24s\n"
     ]
    },
    {
     "name": "stderr",
     "output_type": "stream",
     "text": [
      "[I 2025-02-25 21:52:46,020] Trial 12 finished with value: 0.7393179944140114 and parameters: {'iterations': 1588, 'depth': 6, 'learning_rate': 0.07382783813729096, 'l2_leaf_reg': 87.13438924619796}. Best is trial 6 with value: 0.739324776687683.\n"
     ]
    },
    {
     "name": "stdout",
     "output_type": "stream",
     "text": [
      "Stopped by overfitting detector  (300 iterations wait)\n",
      "\n",
      "bestTest = 0.7393179944\n",
      "bestIteration = 1256\n",
      "\n",
      "Shrink model to first 1257 iterations.\n",
      "0:\ttest: 0.7021244\tbest: 0.7021244 (0)\ttotal: 64.6ms\tremaining: 1m 43s\n",
      "300:\ttest: 0.7385163\tbest: 0.7385163 (300)\ttotal: 17.8s\tremaining: 1m 17s\n",
      "600:\ttest: 0.7385904\tbest: 0.7386909 (433)\ttotal: 36.4s\tremaining: 1m 1s\n"
     ]
    },
    {
     "name": "stderr",
     "output_type": "stream",
     "text": [
      "[I 2025-02-25 21:53:30,822] Trial 13 finished with value: 0.7386908683816723 and parameters: {'iterations': 1609, 'depth': 5, 'learning_rate': 0.07888750974731618, 'l2_leaf_reg': 7.181938049755379}. Best is trial 6 with value: 0.739324776687683.\n"
     ]
    },
    {
     "name": "stdout",
     "output_type": "stream",
     "text": [
      "Stopped by overfitting detector  (300 iterations wait)\n",
      "\n",
      "bestTest = 0.7386908684\n",
      "bestIteration = 433\n",
      "\n",
      "Shrink model to first 434 iterations.\n",
      "0:\ttest: 0.7179558\tbest: 0.7179558 (0)\ttotal: 93.8ms\tremaining: 2m 23s\n",
      "300:\ttest: 0.7386780\tbest: 0.7386780 (300)\ttotal: 27.2s\tremaining: 1m 51s\n",
      "600:\ttest: 0.7384237\tbest: 0.7387235 (328)\ttotal: 56.5s\tremaining: 1m 27s\n"
     ]
    },
    {
     "name": "stderr",
     "output_type": "stream",
     "text": [
      "[I 2025-02-25 21:54:30,129] Trial 14 finished with value: 0.7387234614158039 and parameters: {'iterations': 1533, 'depth': 8, 'learning_rate': 0.08440970345452611, 'l2_leaf_reg': 11.438982664164415}. Best is trial 6 with value: 0.739324776687683.\n"
     ]
    },
    {
     "name": "stdout",
     "output_type": "stream",
     "text": [
      "Stopped by overfitting detector  (300 iterations wait)\n",
      "\n",
      "bestTest = 0.7387234614\n",
      "bestIteration = 328\n",
      "\n",
      "Shrink model to first 329 iterations.\n",
      "0:\ttest: 0.7179683\tbest: 0.7179683 (0)\ttotal: 95.3ms\tremaining: 2m 50s\n",
      "300:\ttest: 0.7369864\tbest: 0.7374323 (213)\ttotal: 27.3s\tremaining: 2m 15s\n"
     ]
    },
    {
     "name": "stderr",
     "output_type": "stream",
     "text": [
      "[I 2025-02-25 21:55:18,668] Trial 15 finished with value: 0.7374322880510094 and parameters: {'iterations': 1791, 'depth': 8, 'learning_rate': 0.061699055612357404, 'l2_leaf_reg': 0.026986971696484528}. Best is trial 6 with value: 0.739324776687683.\n"
     ]
    },
    {
     "name": "stdout",
     "output_type": "stream",
     "text": [
      "Stopped by overfitting detector  (300 iterations wait)\n",
      "\n",
      "bestTest = 0.7374322881\n",
      "bestIteration = 213\n",
      "\n",
      "Shrink model to first 214 iterations.\n",
      "0:\ttest: 0.7021244\tbest: 0.7021244 (0)\ttotal: 61.1ms\tremaining: 2m 6s\n",
      "300:\ttest: 0.7373221\tbest: 0.7373221 (300)\ttotal: 17.3s\tremaining: 1m 42s\n",
      "600:\ttest: 0.7385385\tbest: 0.7385385 (600)\ttotal: 35.8s\tremaining: 1m 27s\n",
      "900:\ttest: 0.7387984\tbest: 0.7387984 (900)\ttotal: 54.5s\tremaining: 1m 11s\n",
      "1200:\ttest: 0.7387431\tbest: 0.7388092 (1048)\ttotal: 1m 13s\tremaining: 53.4s\n"
     ]
    },
    {
     "name": "stderr",
     "output_type": "stream",
     "text": [
      "[I 2025-02-25 21:56:41,238] Trial 16 finished with value: 0.7388091650531897 and parameters: {'iterations': 2077, 'depth': 5, 'learning_rate': 0.03364783552115578, 'l2_leaf_reg': 1.715511331143154}. Best is trial 6 with value: 0.739324776687683.\n"
     ]
    },
    {
     "name": "stdout",
     "output_type": "stream",
     "text": [
      "Stopped by overfitting detector  (300 iterations wait)\n",
      "\n",
      "bestTest = 0.7388091651\n",
      "bestIteration = 1048\n",
      "\n",
      "Shrink model to first 1049 iterations.\n",
      "0:\ttest: 0.7021244\tbest: 0.7021244 (0)\ttotal: 63.8ms\tremaining: 1m 45s\n",
      "300:\ttest: 0.7383385\tbest: 0.7383394 (299)\ttotal: 17.5s\tremaining: 1m 18s\n",
      "600:\ttest: 0.7387790\tbest: 0.7387942 (594)\ttotal: 36s\tremaining: 1m 2s\n",
      "900:\ttest: 0.7390158\tbest: 0.7390315 (893)\ttotal: 54.4s\tremaining: 45.1s\n"
     ]
    },
    {
     "name": "stderr",
     "output_type": "stream",
     "text": [
      "[I 2025-02-25 21:57:53,968] Trial 17 finished with value: 0.7390314632058159 and parameters: {'iterations': 1648, 'depth': 5, 'learning_rate': 0.06167112187391388, 'l2_leaf_reg': 30.65193510830995}. Best is trial 6 with value: 0.739324776687683.\n"
     ]
    },
    {
     "name": "stdout",
     "output_type": "stream",
     "text": [
      "Stopped by overfitting detector  (300 iterations wait)\n",
      "\n",
      "bestTest = 0.7390314632\n",
      "bestIteration = 893\n",
      "\n",
      "Shrink model to first 894 iterations.\n",
      "0:\ttest: 0.7179683\tbest: 0.7179683 (0)\ttotal: 92.9ms\tremaining: 2m 57s\n",
      "300:\ttest: 0.7383105\tbest: 0.7383955 (276)\ttotal: 27.7s\tremaining: 2m 28s\n",
      "600:\ttest: 0.7380186\tbest: 0.7385273 (384)\ttotal: 57.1s\tremaining: 2m 4s\n"
     ]
    },
    {
     "name": "stderr",
     "output_type": "stream",
     "text": [
      "[I 2025-02-25 21:58:59,850] Trial 18 finished with value: 0.738527259927446 and parameters: {'iterations': 1910, 'depth': 8, 'learning_rate': 0.085092199736808, 'l2_leaf_reg': 1.6241109247683418}. Best is trial 6 with value: 0.739324776687683.\n"
     ]
    },
    {
     "name": "stdout",
     "output_type": "stream",
     "text": [
      "Stopped by overfitting detector  (300 iterations wait)\n",
      "\n",
      "bestTest = 0.7385272599\n",
      "bestIteration = 384\n",
      "\n",
      "Shrink model to first 385 iterations.\n",
      "0:\ttest: 0.7045365\tbest: 0.7045365 (0)\ttotal: 72.8ms\tremaining: 2m 7s\n",
      "300:\ttest: 0.7383926\tbest: 0.7385685 (230)\ttotal: 21.8s\tremaining: 1m 45s\n",
      "600:\ttest: 0.7380331\tbest: 0.7385883 (380)\ttotal: 44.1s\tremaining: 1m 25s\n"
     ]
    },
    {
     "name": "stderr",
     "output_type": "stream",
     "text": [
      "[I 2025-02-25 21:59:50,096] Trial 19 finished with value: 0.738588344070239 and parameters: {'iterations': 1759, 'depth': 6, 'learning_rate': 0.09780615690776343, 'l2_leaf_reg': 0.297757337111882}. Best is trial 6 with value: 0.739324776687683.\n"
     ]
    },
    {
     "name": "stdout",
     "output_type": "stream",
     "text": [
      "Stopped by overfitting detector  (300 iterations wait)\n",
      "\n",
      "bestTest = 0.7385883441\n",
      "bestIteration = 380\n",
      "\n",
      "Shrink model to first 381 iterations.\n",
      "0:\ttest: 0.7021244\tbest: 0.7021244 (0)\ttotal: 63.4ms\tremaining: 2m 10s\n",
      "300:\ttest: 0.7378995\tbest: 0.7379785 (278)\ttotal: 17.6s\tremaining: 1m 43s\n",
      "600:\ttest: 0.7381794\tbest: 0.7382501 (580)\ttotal: 36.3s\tremaining: 1m 28s\n"
     ]
    },
    {
     "name": "stderr",
     "output_type": "stream",
     "text": [
      "[I 2025-02-25 22:00:44,068] Trial 20 finished with value: 0.7382500722145369 and parameters: {'iterations': 2066, 'depth': 5, 'learning_rate': 0.05872101875677211, 'l2_leaf_reg': 0.012990508780008181}. Best is trial 6 with value: 0.739324776687683.\n"
     ]
    },
    {
     "name": "stdout",
     "output_type": "stream",
     "text": [
      "Stopped by overfitting detector  (300 iterations wait)\n",
      "\n",
      "bestTest = 0.7382500722\n",
      "bestIteration = 580\n",
      "\n",
      "Shrink model to first 581 iterations.\n",
      "0:\ttest: 0.7044666\tbest: 0.7044666 (0)\ttotal: 74.3ms\tremaining: 3m 40s\n",
      "300:\ttest: 0.7382942\tbest: 0.7383001 (276)\ttotal: 20.5s\tremaining: 3m 1s\n",
      "600:\ttest: 0.7386279\tbest: 0.7386633 (558)\ttotal: 42.3s\tremaining: 2m 46s\n",
      "900:\ttest: 0.7386714\tbest: 0.7386839 (888)\ttotal: 1m 3s\tremaining: 2m 26s\n",
      "1200:\ttest: 0.7387112\tbest: 0.7387246 (1165)\ttotal: 1m 25s\tremaining: 2m 6s\n",
      "1500:\ttest: 0.7387643\tbest: 0.7388017 (1469)\ttotal: 1m 47s\tremaining: 1m 45s\n",
      "1800:\ttest: 0.7388137\tbest: 0.7388598 (1773)\ttotal: 2m 9s\tremaining: 1m 24s\n",
      "2100:\ttest: 0.7388496\tbest: 0.7389127 (2016)\ttotal: 2m 31s\tremaining: 1m 2s\n",
      "2400:\ttest: 0.7389111\tbest: 0.7389528 (2269)\ttotal: 2m 53s\tremaining: 41.1s\n"
     ]
    },
    {
     "name": "stderr",
     "output_type": "stream",
     "text": [
      "[I 2025-02-25 22:03:50,392] Trial 21 finished with value: 0.7389528039205926 and parameters: {'iterations': 2969, 'depth': 6, 'learning_rate': 0.07105586576499134, 'l2_leaf_reg': 89.94798088783348}. Best is trial 6 with value: 0.739324776687683.\n"
     ]
    },
    {
     "name": "stdout",
     "output_type": "stream",
     "text": [
      "Stopped by overfitting detector  (300 iterations wait)\n",
      "\n",
      "bestTest = 0.7389528039\n",
      "bestIteration = 2269\n",
      "\n",
      "Shrink model to first 2270 iterations.\n",
      "0:\ttest: 0.7178168\tbest: 0.7178168 (0)\ttotal: 93.3ms\tremaining: 4m 14s\n",
      "300:\ttest: 0.7387248\tbest: 0.7387871 (264)\ttotal: 24s\tremaining: 3m 13s\n",
      "600:\ttest: 0.7388221\tbest: 0.7388785 (555)\ttotal: 49s\tremaining: 2m 53s\n"
     ]
    },
    {
     "name": "stderr",
     "output_type": "stream",
     "text": [
      "[I 2025-02-25 22:05:01,189] Trial 22 finished with value: 0.7388785006975576 and parameters: {'iterations': 2731, 'depth': 7, 'learning_rate': 0.07959785181297444, 'l2_leaf_reg': 25.03453806107939}. Best is trial 6 with value: 0.739324776687683.\n"
     ]
    },
    {
     "name": "stdout",
     "output_type": "stream",
     "text": [
      "Stopped by overfitting detector  (300 iterations wait)\n",
      "\n",
      "bestTest = 0.7388785007\n",
      "bestIteration = 555\n",
      "\n",
      "Shrink model to first 556 iterations.\n",
      "0:\ttest: 0.7044666\tbest: 0.7044666 (0)\ttotal: 76.2ms\tremaining: 3m 11s\n",
      "300:\ttest: 0.7383630\tbest: 0.7383630 (299)\ttotal: 20.7s\tremaining: 2m 32s\n",
      "600:\ttest: 0.7387918\tbest: 0.7388079 (593)\ttotal: 42.4s\tremaining: 2m 15s\n",
      "900:\ttest: 0.7387674\tbest: 0.7388439 (663)\ttotal: 1m 4s\tremaining: 1m 55s\n"
     ]
    },
    {
     "name": "stderr",
     "output_type": "stream",
     "text": [
      "[I 2025-02-25 22:06:09,991] Trial 23 finished with value: 0.738843890453224 and parameters: {'iterations': 2519, 'depth': 6, 'learning_rate': 0.07604645047811122, 'l2_leaf_reg': 89.42219921015187}. Best is trial 6 with value: 0.739324776687683.\n"
     ]
    },
    {
     "name": "stdout",
     "output_type": "stream",
     "text": [
      "Stopped by overfitting detector  (300 iterations wait)\n",
      "\n",
      "bestTest = 0.7388438905\n",
      "bestIteration = 663\n",
      "\n",
      "Shrink model to first 664 iterations.\n",
      "0:\ttest: 0.7178168\tbest: 0.7178168 (0)\ttotal: 85.9ms\tremaining: 3m 56s\n",
      "300:\ttest: 0.7387523\tbest: 0.7387523 (300)\ttotal: 23.9s\tremaining: 3m 15s\n",
      "600:\ttest: 0.7386303\tbest: 0.7389440 (335)\ttotal: 49.2s\tremaining: 2m 56s\n"
     ]
    },
    {
     "name": "stderr",
     "output_type": "stream",
     "text": [
      "[I 2025-02-25 22:07:02,319] Trial 24 finished with value: 0.7389439686987428 and parameters: {'iterations': 2758, 'depth': 7, 'learning_rate': 0.08738100704541421, 'l2_leaf_reg': 20.442592185090394}. Best is trial 6 with value: 0.739324776687683.\n"
     ]
    },
    {
     "name": "stdout",
     "output_type": "stream",
     "text": [
      "Stopped by overfitting detector  (300 iterations wait)\n",
      "\n",
      "bestTest = 0.7389439687\n",
      "bestIteration = 335\n",
      "\n",
      "Shrink model to first 336 iterations.\n",
      "0:\ttest: 0.7021244\tbest: 0.7021244 (0)\ttotal: 63.8ms\tremaining: 3m 2s\n",
      "300:\ttest: 0.7385227\tbest: 0.7385227 (299)\ttotal: 17.7s\tremaining: 2m 30s\n",
      "600:\ttest: 0.7388036\tbest: 0.7388619 (507)\ttotal: 36.2s\tremaining: 2m 15s\n",
      "900:\ttest: 0.7388945\tbest: 0.7389742 (819)\ttotal: 54.9s\tremaining: 1m 59s\n"
     ]
    },
    {
     "name": "stderr",
     "output_type": "stream",
     "text": [
      "[I 2025-02-25 22:08:11,157] Trial 25 finished with value: 0.7389742228808881 and parameters: {'iterations': 2855, 'depth': 5, 'learning_rate': 0.06617993573708425, 'l2_leaf_reg': 4.0608493607930525}. Best is trial 6 with value: 0.739324776687683.\n"
     ]
    },
    {
     "name": "stdout",
     "output_type": "stream",
     "text": [
      "Stopped by overfitting detector  (300 iterations wait)\n",
      "\n",
      "bestTest = 0.7389742229\n",
      "bestIteration = 819\n",
      "\n",
      "Shrink model to first 820 iterations.\n",
      "0:\ttest: 0.7196028\tbest: 0.7196028 (0)\ttotal: 111ms\tremaining: 4m 3s\n",
      "300:\ttest: 0.7382878\tbest: 0.7382894 (299)\ttotal: 28.7s\tremaining: 3m\n",
      "600:\ttest: 0.7387970\tbest: 0.7388195 (566)\ttotal: 1m 2s\tremaining: 2m 45s\n",
      "900:\ttest: 0.7384525\tbest: 0.7388379 (657)\ttotal: 1m 35s\tremaining: 2m 17s\n"
     ]
    },
    {
     "name": "stderr",
     "output_type": "stream",
     "text": [
      "[I 2025-02-25 22:09:53,270] Trial 26 finished with value: 0.7388379182403422 and parameters: {'iterations': 2197, 'depth': 9, 'learning_rate': 0.05402291381864038, 'l2_leaf_reg': 47.603174472514176}. Best is trial 6 with value: 0.739324776687683.\n"
     ]
    },
    {
     "name": "stdout",
     "output_type": "stream",
     "text": [
      "Stopped by overfitting detector  (300 iterations wait)\n",
      "\n",
      "bestTest = 0.7388379182\n",
      "bestIteration = 657\n",
      "\n",
      "Shrink model to first 658 iterations.\n",
      "0:\ttest: 0.7045365\tbest: 0.7045365 (0)\ttotal: 74.6ms\tremaining: 2m 59s\n",
      "300:\ttest: 0.7382540\tbest: 0.7382540 (300)\ttotal: 21.1s\tremaining: 2m 27s\n",
      "600:\ttest: 0.7381856\tbest: 0.7383406 (522)\ttotal: 43.1s\tremaining: 2m 9s\n",
      "900:\ttest: 0.7381419\tbest: 0.7383434 (768)\ttotal: 1m 5s\tremaining: 1m 49s\n"
     ]
    },
    {
     "name": "stderr",
     "output_type": "stream",
     "text": [
      "[I 2025-02-25 22:11:11,292] Trial 27 finished with value: 0.7383433800990429 and parameters: {'iterations': 2410, 'depth': 6, 'learning_rate': 0.08920838367446865, 'l2_leaf_reg': 4.407099690672046}. Best is trial 6 with value: 0.739324776687683.\n"
     ]
    },
    {
     "name": "stdout",
     "output_type": "stream",
     "text": [
      "Stopped by overfitting detector  (300 iterations wait)\n",
      "\n",
      "bestTest = 0.7383433801\n",
      "bestIteration = 768\n",
      "\n",
      "Shrink model to first 769 iterations.\n",
      "0:\ttest: 0.7021244\tbest: 0.7021244 (0)\ttotal: 65.5ms\tremaining: 2m 10s\n",
      "300:\ttest: 0.7380916\tbest: 0.7380988 (299)\ttotal: 17.9s\tremaining: 1m 40s\n",
      "600:\ttest: 0.7383165\tbest: 0.7383863 (447)\ttotal: 36.3s\tremaining: 1m 23s\n",
      "900:\ttest: 0.7386229\tbest: 0.7386268 (896)\ttotal: 54.8s\tremaining: 1m 6s\n",
      "1200:\ttest: 0.7387343\tbest: 0.7388292 (1097)\ttotal: 1m 13s\tremaining: 48.4s\n"
     ]
    },
    {
     "name": "stderr",
     "output_type": "stream",
     "text": [
      "[I 2025-02-25 22:12:38,183] Trial 28 finished with value: 0.7388292259703965 and parameters: {'iterations': 1987, 'depth': 5, 'learning_rate': 0.07981931117606446, 'l2_leaf_reg': 21.23387831352059}. Best is trial 6 with value: 0.739324776687683.\n"
     ]
    },
    {
     "name": "stdout",
     "output_type": "stream",
     "text": [
      "Stopped by overfitting detector  (300 iterations wait)\n",
      "\n",
      "bestTest = 0.738829226\n",
      "bestIteration = 1097\n",
      "\n",
      "Shrink model to first 1098 iterations.\n",
      "0:\ttest: 0.7178156\tbest: 0.7178156 (0)\ttotal: 87.9ms\tremaining: 3m 28s\n",
      "300:\ttest: 0.7382747\tbest: 0.7385686 (197)\ttotal: 24.9s\tremaining: 2m 51s\n"
     ]
    },
    {
     "name": "stderr",
     "output_type": "stream",
     "text": [
      "[I 2025-02-25 22:13:20,760] Trial 29 finished with value: 0.7385686405327925 and parameters: {'iterations': 2376, 'depth': 7, 'learning_rate': 0.09988354792996892, 'l2_leaf_reg': 0.4605310011338355}. Best is trial 6 with value: 0.739324776687683.\n"
     ]
    },
    {
     "name": "stdout",
     "output_type": "stream",
     "text": [
      "Stopped by overfitting detector  (300 iterations wait)\n",
      "\n",
      "bestTest = 0.7385686405\n",
      "bestIteration = 197\n",
      "\n",
      "Shrink model to first 198 iterations.\n",
      "0:\ttest: 0.7045365\tbest: 0.7045365 (0)\ttotal: 75.5ms\tremaining: 1m 54s\n",
      "300:\ttest: 0.7371156\tbest: 0.7371156 (300)\ttotal: 20s\tremaining: 1m 20s\n",
      "600:\ttest: 0.7384681\tbest: 0.7384716 (597)\ttotal: 41.2s\tremaining: 1m 2s\n",
      "900:\ttest: 0.7387347\tbest: 0.7387622 (810)\ttotal: 1m 3s\tremaining: 43s\n",
      "1200:\ttest: 0.7388976\tbest: 0.7389195 (1074)\ttotal: 1m 26s\tremaining: 22.6s\n",
      "1500:\ttest: 0.7389878\tbest: 0.7389878 (1500)\ttotal: 1m 50s\tremaining: 1.03s\n"
     ]
    },
    {
     "name": "stderr",
     "output_type": "stream",
     "text": [
      "[I 2025-02-25 22:15:12,883] Trial 30 finished with value: 0.7389947523626694 and parameters: {'iterations': 1515, 'depth': 6, 'learning_rate': 0.025793422522118456, 'l2_leaf_reg': 8.725628147533598}. Best is trial 6 with value: 0.739324776687683.\n"
     ]
    },
    {
     "name": "stdout",
     "output_type": "stream",
     "text": [
      "1514:\ttest: 0.7389918\tbest: 0.7389948 (1507)\ttotal: 1m 51s\tremaining: 0us\n",
      "\n",
      "bestTest = 0.7389947524\n",
      "bestIteration = 1507\n",
      "\n",
      "Shrink model to first 1508 iterations.\n",
      "0:\ttest: 0.7021244\tbest: 0.7021244 (0)\ttotal: 63.5ms\tremaining: 1m 45s\n",
      "300:\ttest: 0.7382812\tbest: 0.7382812 (300)\ttotal: 17.6s\tremaining: 1m 19s\n",
      "600:\ttest: 0.7386390\tbest: 0.7387227 (540)\ttotal: 36s\tremaining: 1m 3s\n"
     ]
    },
    {
     "name": "stderr",
     "output_type": "stream",
     "text": [
      "[I 2025-02-25 22:16:03,778] Trial 31 finished with value: 0.7387227188600799 and parameters: {'iterations': 1658, 'depth': 5, 'learning_rate': 0.06426978529907086, 'l2_leaf_reg': 31.783631690271346}. Best is trial 6 with value: 0.739324776687683.\n"
     ]
    },
    {
     "name": "stdout",
     "output_type": "stream",
     "text": [
      "Stopped by overfitting detector  (300 iterations wait)\n",
      "\n",
      "bestTest = 0.7387227189\n",
      "bestIteration = 540\n",
      "\n",
      "Shrink model to first 541 iterations.\n",
      "0:\ttest: 0.7021244\tbest: 0.7021244 (0)\ttotal: 64.9ms\tremaining: 1m 49s\n",
      "300:\ttest: 0.7379822\tbest: 0.7379861 (299)\ttotal: 17.5s\tremaining: 1m 20s\n",
      "600:\ttest: 0.7386384\tbest: 0.7386508 (596)\ttotal: 36s\tremaining: 1m 5s\n",
      "900:\ttest: 0.7386782\tbest: 0.7387208 (669)\ttotal: 54.2s\tremaining: 47.7s\n"
     ]
    },
    {
     "name": "stderr",
     "output_type": "stream",
     "text": [
      "[I 2025-02-25 22:17:02,581] Trial 32 finished with value: 0.7387207890093748 and parameters: {'iterations': 1693, 'depth': 5, 'learning_rate': 0.057249990120068095, 'l2_leaf_reg': 45.741233025931095}. Best is trial 6 with value: 0.739324776687683.\n"
     ]
    },
    {
     "name": "stdout",
     "output_type": "stream",
     "text": [
      "Stopped by overfitting detector  (300 iterations wait)\n",
      "\n",
      "bestTest = 0.738720789\n",
      "bestIteration = 669\n",
      "\n",
      "Shrink model to first 670 iterations.\n",
      "0:\ttest: 0.7021244\tbest: 0.7021244 (0)\ttotal: 63.4ms\tremaining: 1m 57s\n",
      "300:\ttest: 0.7383225\tbest: 0.7383228 (299)\ttotal: 17.8s\tremaining: 1m 31s\n",
      "600:\ttest: 0.7386073\tbest: 0.7386184 (583)\ttotal: 36.3s\tremaining: 1m 15s\n",
      "900:\ttest: 0.7386186\tbest: 0.7387220 (751)\ttotal: 54.9s\tremaining: 57.7s\n"
     ]
    },
    {
     "name": "stderr",
     "output_type": "stream",
     "text": [
      "[I 2025-02-25 22:18:07,034] Trial 33 finished with value: 0.7387219604208111 and parameters: {'iterations': 1849, 'depth': 5, 'learning_rate': 0.0761625688016566, 'l2_leaf_reg': 18.430528376549255}. Best is trial 6 with value: 0.739324776687683.\n"
     ]
    },
    {
     "name": "stdout",
     "output_type": "stream",
     "text": [
      "Stopped by overfitting detector  (300 iterations wait)\n",
      "\n",
      "bestTest = 0.7387219604\n",
      "bestIteration = 751\n",
      "\n",
      "Shrink model to first 752 iterations.\n",
      "0:\ttest: 0.6976802\tbest: 0.6976802 (0)\ttotal: 51.7ms\tremaining: 1m 22s\n",
      "300:\ttest: 0.7373267\tbest: 0.7373267 (300)\ttotal: 14.1s\tremaining: 1m\n",
      "600:\ttest: 0.7381081\tbest: 0.7381320 (565)\ttotal: 29.1s\tremaining: 48.1s\n",
      "900:\ttest: 0.7381892\tbest: 0.7382188 (864)\ttotal: 44.1s\tremaining: 33.9s\n",
      "1200:\ttest: 0.7382778\tbest: 0.7382856 (1175)\ttotal: 59.4s\tremaining: 19.4s\n",
      "1500:\ttest: 0.7383290\tbest: 0.7383482 (1479)\ttotal: 1m 14s\tremaining: 4.58s\n"
     ]
    },
    {
     "name": "stderr",
     "output_type": "stream",
     "text": [
      "[I 2025-02-25 22:19:26,783] Trial 34 finished with value: 0.7383638698719618 and parameters: {'iterations': 1593, 'depth': 4, 'learning_rate': 0.04819589092453752, 'l2_leaf_reg': 4.555351413600973}. Best is trial 6 with value: 0.739324776687683.\n"
     ]
    },
    {
     "name": "stdout",
     "output_type": "stream",
     "text": [
      "1592:\ttest: 0.7383131\tbest: 0.7383639 (1551)\ttotal: 1m 19s\tremaining: 0us\n",
      "\n",
      "bestTest = 0.7383638699\n",
      "bestIteration = 1551\n",
      "\n",
      "Shrink model to first 1552 iterations.\n",
      "0:\ttest: 0.6976802\tbest: 0.6976802 (0)\ttotal: 58.6ms\tremaining: 1m 45s\n",
      "300:\ttest: 0.7377525\tbest: 0.7377525 (299)\ttotal: 14.2s\tremaining: 1m 10s\n",
      "600:\ttest: 0.7384520\tbest: 0.7384604 (598)\ttotal: 28.8s\tremaining: 57.9s\n",
      "900:\ttest: 0.7386309\tbest: 0.7386310 (899)\ttotal: 43.7s\tremaining: 43.9s\n",
      "1200:\ttest: 0.7387567\tbest: 0.7387689 (1187)\ttotal: 58.7s\tremaining: 29.6s\n",
      "1500:\ttest: 0.7388110\tbest: 0.7388111 (1498)\ttotal: 1m 13s\tremaining: 15s\n",
      "1800:\ttest: 0.7388850\tbest: 0.7389313 (1706)\ttotal: 1m 28s\tremaining: 296ms\n"
     ]
    },
    {
     "name": "stderr",
     "output_type": "stream",
     "text": [
      "[I 2025-02-25 22:20:56,154] Trial 35 finished with value: 0.7389313134843449 and parameters: {'iterations': 1807, 'depth': 4, 'learning_rate': 0.06865426316905118, 'l2_leaf_reg': 88.28290561140568}. Best is trial 6 with value: 0.739324776687683.\n"
     ]
    },
    {
     "name": "stdout",
     "output_type": "stream",
     "text": [
      "1806:\ttest: 0.7388868\tbest: 0.7389313 (1706)\ttotal: 1m 29s\tremaining: 0us\n",
      "\n",
      "bestTest = 0.7389313135\n",
      "bestIteration = 1706\n",
      "\n",
      "Shrink model to first 1707 iterations.\n",
      "0:\ttest: 0.6976802\tbest: 0.6976802 (0)\ttotal: 56.5ms\tremaining: 2m 5s\n",
      "300:\ttest: 0.7379966\tbest: 0.7380158 (286)\ttotal: 14.4s\tremaining: 1m 32s\n",
      "600:\ttest: 0.7385298\tbest: 0.7385298 (600)\ttotal: 29.4s\tremaining: 1m 19s\n",
      "900:\ttest: 0.7386346\tbest: 0.7386769 (750)\ttotal: 44.3s\tremaining: 1m 5s\n",
      "1200:\ttest: 0.7387258\tbest: 0.7387258 (1200)\ttotal: 59.5s\tremaining: 50.8s\n",
      "1500:\ttest: 0.7387321\tbest: 0.7387337 (1238)\ttotal: 1m 14s\tremaining: 36.1s\n",
      "1800:\ttest: 0.7387548\tbest: 0.7387865 (1639)\ttotal: 1m 30s\tremaining: 21.3s\n"
     ]
    },
    {
     "name": "stderr",
     "output_type": "stream",
     "text": [
      "[I 2025-02-25 22:22:34,843] Trial 36 finished with value: 0.7387865151181645 and parameters: {'iterations': 2226, 'depth': 4, 'learning_rate': 0.07324446218229402, 'l2_leaf_reg': 38.05591617113966}. Best is trial 6 with value: 0.739324776687683.\n"
     ]
    },
    {
     "name": "stdout",
     "output_type": "stream",
     "text": [
      "Stopped by overfitting detector  (300 iterations wait)\n",
      "\n",
      "bestTest = 0.7387865151\n",
      "bestIteration = 1639\n",
      "\n",
      "Shrink model to first 1640 iterations.\n",
      "0:\ttest: 0.7045365\tbest: 0.7045365 (0)\ttotal: 96.7ms\tremaining: 2m 41s\n",
      "300:\ttest: 0.7380235\tbest: 0.7380235 (300)\ttotal: 19.9s\tremaining: 1m 30s\n",
      "600:\ttest: 0.7386246\tbest: 0.7387261 (512)\ttotal: 41.8s\tremaining: 1m 14s\n",
      "900:\ttest: 0.7386605\tbest: 0.7387528 (749)\ttotal: 1m 3s\tremaining: 54.5s\n"
     ]
    },
    {
     "name": "stderr",
     "output_type": "stream",
     "text": [
      "[I 2025-02-25 22:23:49,826] Trial 37 finished with value: 0.738752774497914 and parameters: {'iterations': 1670, 'depth': 6, 'learning_rate': 0.042253640335554704, 'l2_leaf_reg': 11.194515308666915}. Best is trial 6 with value: 0.739324776687683.\n"
     ]
    },
    {
     "name": "stdout",
     "output_type": "stream",
     "text": [
      "Stopped by overfitting detector  (300 iterations wait)\n",
      "\n",
      "bestTest = 0.7387527745\n",
      "bestIteration = 749\n",
      "\n",
      "Shrink model to first 750 iterations.\n",
      "0:\ttest: 0.6976802\tbest: 0.6976802 (0)\ttotal: 54.2ms\tremaining: 2m 14s\n",
      "300:\ttest: 0.7377744\tbest: 0.7377744 (300)\ttotal: 14.4s\tremaining: 1m 44s\n",
      "600:\ttest: 0.7383133\tbest: 0.7383377 (579)\ttotal: 29.2s\tremaining: 1m 31s\n",
      "900:\ttest: 0.7384537\tbest: 0.7384861 (866)\ttotal: 44.1s\tremaining: 1m 17s\n",
      "1200:\ttest: 0.7386600\tbest: 0.7386600 (1199)\ttotal: 59.2s\tremaining: 1m 2s\n",
      "1500:\ttest: 0.7386272\tbest: 0.7386877 (1224)\ttotal: 1m 14s\tremaining: 48.5s\n"
     ]
    },
    {
     "name": "stderr",
     "output_type": "stream",
     "text": [
      "[I 2025-02-25 22:25:05,767] Trial 38 finished with value: 0.7386877393233273 and parameters: {'iterations': 2479, 'depth': 4, 'learning_rate': 0.0615279412833666, 'l2_leaf_reg': 44.908205637414255}. Best is trial 6 with value: 0.739324776687683.\n"
     ]
    },
    {
     "name": "stdout",
     "output_type": "stream",
     "text": [
      "Stopped by overfitting detector  (300 iterations wait)\n",
      "\n",
      "bestTest = 0.7386877393\n",
      "bestIteration = 1224\n",
      "\n",
      "Shrink model to first 1225 iterations.\n",
      "0:\ttest: 0.7021244\tbest: 0.7021244 (0)\ttotal: 63.3ms\tremaining: 2m 7s\n",
      "300:\ttest: 0.7384679\tbest: 0.7385357 (264)\ttotal: 18.1s\tremaining: 1m 42s\n",
      "600:\ttest: 0.7386094\tbest: 0.7386471 (487)\ttotal: 36.8s\tremaining: 1m 26s\n",
      "900:\ttest: 0.7388468\tbest: 0.7388540 (887)\ttotal: 55.5s\tremaining: 1m 8s\n",
      "1200:\ttest: 0.7386820\tbest: 0.7388904 (937)\ttotal: 1m 14s\tremaining: 50.1s\n"
     ]
    },
    {
     "name": "stderr",
     "output_type": "stream",
     "text": [
      "[I 2025-02-25 22:26:22,915] Trial 39 finished with value: 0.7388903736473692 and parameters: {'iterations': 2008, 'depth': 5, 'learning_rate': 0.09288897495755882, 'l2_leaf_reg': 2.73626174078341}. Best is trial 6 with value: 0.739324776687683.\n",
      "[I 2025-02-25 22:26:22,919] A new study created in memory with name: no-name-f7ec76cc-92d0-42a5-a835-72ff4d27a0c1\n"
     ]
    },
    {
     "name": "stdout",
     "output_type": "stream",
     "text": [
      "Stopped by overfitting detector  (300 iterations wait)\n",
      "\n",
      "bestTest = 0.7388903736\n",
      "bestIteration = 937\n",
      "\n",
      "Shrink model to first 938 iterations.\n"
     ]
    },
    {
     "name": "stderr",
     "output_type": "stream",
     "text": [
      "[I 2025-02-25 22:26:45,999] Trial 0 finished with value: 0.7279367038512101 and parameters: {'num_iterations': 2366, 'objective': 'binary', 'metric': 'auc', 'verbose': -1, 'learning_rate': 0.0652646236447618, 'n_estimators': 236, 'min_child_samples': 45, 'subsample': 0.7, 'colsample_bytree': 0.5}. Best is trial 0 with value: 0.7279367038512101.\n",
      "[I 2025-02-25 22:27:02,855] Trial 1 finished with value: 0.7381791760118827 and parameters: {'num_iterations': 1510, 'objective': 'binary', 'metric': 'auc', 'verbose': -1, 'learning_rate': 0.005231880959249543, 'n_estimators': 1411, 'min_child_samples': 10, 'subsample': 1.0, 'colsample_bytree': 0.5}. Best is trial 1 with value: 0.7381791760118827.\n",
      "[I 2025-02-25 22:27:22,303] Trial 2 finished with value: 0.7378619379405122 and parameters: {'num_iterations': 2334, 'objective': 'binary', 'metric': 'auc', 'verbose': -1, 'learning_rate': 0.006578527777128852, 'n_estimators': 931, 'min_child_samples': 15, 'subsample': 0.5, 'colsample_bytree': 1.0}. Best is trial 1 with value: 0.7381791760118827.\n",
      "[I 2025-02-25 22:27:38,636] Trial 3 finished with value: 0.7380623366556097 and parameters: {'num_iterations': 1620, 'objective': 'binary', 'metric': 'auc', 'verbose': -1, 'learning_rate': 0.0058823249237283685, 'n_estimators': 837, 'min_child_samples': 10, 'subsample': 0.9, 'colsample_bytree': 0.6}. Best is trial 1 with value: 0.7381791760118827.\n",
      "[I 2025-02-25 22:27:55,063] Trial 4 finished with value: 0.7380443922207607 and parameters: {'num_iterations': 1997, 'objective': 'binary', 'metric': 'auc', 'verbose': -1, 'learning_rate': 0.010907507425244923, 'n_estimators': 1597, 'min_child_samples': 50, 'subsample': 0.6, 'colsample_bytree': 0.8}. Best is trial 1 with value: 0.7381791760118827.\n",
      "[I 2025-02-25 22:28:17,503] Trial 5 finished with value: 0.7353637462026812 and parameters: {'num_iterations': 2909, 'objective': 'binary', 'metric': 'auc', 'verbose': -1, 'learning_rate': 0.019760591962733942, 'n_estimators': 612, 'min_child_samples': 30, 'subsample': 0.7, 'colsample_bytree': 0.9}. Best is trial 1 with value: 0.7381791760118827.\n",
      "[I 2025-02-25 22:28:38,142] Trial 6 finished with value: 0.7360200225107951 and parameters: {'num_iterations': 2639, 'objective': 'binary', 'metric': 'auc', 'verbose': -1, 'learning_rate': 0.017862094446750985, 'n_estimators': 794, 'min_child_samples': 35, 'subsample': 1.0, 'colsample_bytree': 0.8}. Best is trial 1 with value: 0.7381791760118827.\n",
      "[I 2025-02-25 22:28:54,599] Trial 7 finished with value: 0.7379286051493372 and parameters: {'num_iterations': 1580, 'objective': 'binary', 'metric': 'auc', 'verbose': -1, 'learning_rate': 0.01776722177611332, 'n_estimators': 529, 'min_child_samples': 25, 'subsample': 0.8, 'colsample_bytree': 0.5}. Best is trial 1 with value: 0.7381791760118827.\n",
      "[I 2025-02-25 22:29:12,093] Trial 8 finished with value: 0.734911374902201 and parameters: {'num_iterations': 1911, 'objective': 'binary', 'metric': 'auc', 'verbose': -1, 'learning_rate': 0.0304747553332844, 'n_estimators': 1328, 'min_child_samples': 10, 'subsample': 0.7, 'colsample_bytree': 0.6}. Best is trial 1 with value: 0.7381791760118827.\n",
      "[I 2025-02-25 22:29:39,520] Trial 9 finished with value: 0.7346385631059116 and parameters: {'num_iterations': 2739, 'objective': 'binary', 'metric': 'auc', 'verbose': -1, 'learning_rate': 0.02691531614176271, 'n_estimators': 1438, 'min_child_samples': 20, 'subsample': 0.6, 'colsample_bytree': 0.5}. Best is trial 1 with value: 0.7381791760118827.\n",
      "[I 2025-02-25 22:29:54,359] Trial 10 finished with value: 0.7263255405908914 and parameters: {'num_iterations': 1933, 'objective': 'binary', 'metric': 'auc', 'verbose': -1, 'learning_rate': 0.08223556891145911, 'n_estimators': 1960, 'min_child_samples': 40, 'subsample': 1.0, 'colsample_bytree': 0.7}. Best is trial 1 with value: 0.7381791760118827.\n",
      "[I 2025-02-25 22:30:09,823] Trial 11 finished with value: 0.737921247097163 and parameters: {'num_iterations': 1513, 'objective': 'binary', 'metric': 'auc', 'verbose': -1, 'learning_rate': 0.005340229419903739, 'n_estimators': 1206, 'min_child_samples': 10, 'subsample': 0.9, 'colsample_bytree': 0.6}. Best is trial 1 with value: 0.7381791760118827.\n",
      "[I 2025-02-25 22:30:26,545] Trial 12 finished with value: 0.7383269326883004 and parameters: {'num_iterations': 1698, 'objective': 'binary', 'metric': 'auc', 'verbose': -1, 'learning_rate': 0.008515343845233947, 'n_estimators': 1719, 'min_child_samples': 20, 'subsample': 0.9, 'colsample_bytree': 0.6}. Best is trial 12 with value: 0.7383269326883004.\n",
      "[I 2025-02-25 22:30:41,585] Trial 13 finished with value: 0.7383722047621473 and parameters: {'num_iterations': 1777, 'objective': 'binary', 'metric': 'auc', 'verbose': -1, 'learning_rate': 0.010074542479113706, 'n_estimators': 1797, 'min_child_samples': 20, 'subsample': 0.9, 'colsample_bytree': 0.7}. Best is trial 13 with value: 0.7383722047621473.\n",
      "[I 2025-02-25 22:30:56,668] Trial 14 finished with value: 0.7380143206993817 and parameters: {'num_iterations': 1770, 'objective': 'binary', 'metric': 'auc', 'verbose': -1, 'learning_rate': 0.00982309544293683, 'n_estimators': 1831, 'min_child_samples': 20, 'subsample': 0.9, 'colsample_bytree': 0.7}. Best is trial 13 with value: 0.7383722047621473.\n",
      "[I 2025-02-25 22:31:14,643] Trial 15 finished with value: 0.738195746520098 and parameters: {'num_iterations': 2140, 'objective': 'binary', 'metric': 'auc', 'verbose': -1, 'learning_rate': 0.010036887125785866, 'n_estimators': 1702, 'min_child_samples': 25, 'subsample': 0.8, 'colsample_bytree': 0.7}. Best is trial 13 with value: 0.7383722047621473.\n",
      "[I 2025-02-25 22:31:29,316] Trial 16 finished with value: 0.7378810220197077 and parameters: {'num_iterations': 1789, 'objective': 'binary', 'metric': 'auc', 'verbose': -1, 'learning_rate': 0.012742223727829575, 'n_estimators': 1979, 'min_child_samples': 20, 'subsample': 0.9, 'colsample_bytree': 0.8}. Best is trial 13 with value: 0.7383722047621473.\n",
      "[I 2025-02-25 22:31:48,443] Trial 17 finished with value: 0.7324602818458801 and parameters: {'num_iterations': 2117, 'objective': 'binary', 'metric': 'auc', 'verbose': -1, 'learning_rate': 0.04079638057444939, 'n_estimators': 1633, 'min_child_samples': 25, 'subsample': 0.8, 'colsample_bytree': 0.6}. Best is trial 13 with value: 0.7383722047621473.\n",
      "[I 2025-02-25 22:32:03,367] Trial 18 finished with value: 0.7383481689878297 and parameters: {'num_iterations': 1735, 'objective': 'binary', 'metric': 'auc', 'verbose': -1, 'learning_rate': 0.008229020353141337, 'n_estimators': 1151, 'min_child_samples': 30, 'subsample': 0.9, 'colsample_bytree': 0.7}. Best is trial 13 with value: 0.7383722047621473.\n",
      "[I 2025-02-25 22:32:23,063] Trial 19 finished with value: 0.7372724598804687 and parameters: {'num_iterations': 2481, 'objective': 'binary', 'metric': 'auc', 'verbose': -1, 'learning_rate': 0.013713540512455621, 'n_estimators': 1063, 'min_child_samples': 35, 'subsample': 1.0, 'colsample_bytree': 0.9}. Best is trial 13 with value: 0.7383722047621473.\n",
      "[I 2025-02-25 22:32:40,747] Trial 20 finished with value: 0.7384106270572566 and parameters: {'num_iterations': 2128, 'objective': 'binary', 'metric': 'auc', 'verbose': -1, 'learning_rate': 0.007877155758725746, 'n_estimators': 1219, 'min_child_samples': 30, 'subsample': 0.8, 'colsample_bytree': 0.9}. Best is trial 20 with value: 0.7384106270572566.\n",
      "[I 2025-02-25 22:32:58,326] Trial 21 finished with value: 0.738129150787225 and parameters: {'num_iterations': 2078, 'objective': 'binary', 'metric': 'auc', 'verbose': -1, 'learning_rate': 0.00744400358104377, 'n_estimators': 1160, 'min_child_samples': 30, 'subsample': 0.8, 'colsample_bytree': 1.0}. Best is trial 20 with value: 0.7384106270572566.\n",
      "[I 2025-02-25 22:33:13,232] Trial 22 finished with value: 0.7380121287701857 and parameters: {'num_iterations': 1841, 'objective': 'binary', 'metric': 'auc', 'verbose': -1, 'learning_rate': 0.013850898580987417, 'n_estimators': 1487, 'min_child_samples': 35, 'subsample': 0.9, 'colsample_bytree': 0.9}. Best is trial 20 with value: 0.7384106270572566.\n",
      "[I 2025-02-25 22:33:32,339] Trial 23 finished with value: 0.7385679337150446 and parameters: {'num_iterations': 2249, 'objective': 'binary', 'metric': 'auc', 'verbose': -1, 'learning_rate': 0.007274552544909476, 'n_estimators': 1229, 'min_child_samples': 40, 'subsample': 0.8, 'colsample_bytree': 0.7}. Best is trial 23 with value: 0.7385679337150446.\n",
      "[I 2025-02-25 22:33:51,113] Trial 24 finished with value: 0.7386319523427578 and parameters: {'num_iterations': 2245, 'objective': 'binary', 'metric': 'auc', 'verbose': -1, 'learning_rate': 0.00714636083222857, 'n_estimators': 1289, 'min_child_samples': 40, 'subsample': 0.8, 'colsample_bytree': 0.8}. Best is trial 24 with value: 0.7386319523427578.\n",
      "[I 2025-02-25 22:34:10,283] Trial 25 finished with value: 0.7383823583182236 and parameters: {'num_iterations': 2242, 'objective': 'binary', 'metric': 'auc', 'verbose': -1, 'learning_rate': 0.005182390995737927, 'n_estimators': 1275, 'min_child_samples': 45, 'subsample': 0.7, 'colsample_bytree': 0.9}. Best is trial 24 with value: 0.7386319523427578.\n",
      "[I 2025-02-25 22:34:31,186] Trial 26 finished with value: 0.7383646839036379 and parameters: {'num_iterations': 2522, 'objective': 'binary', 'metric': 'auc', 'verbose': -1, 'learning_rate': 0.0070319925342010176, 'n_estimators': 960, 'min_child_samples': 40, 'subsample': 0.8, 'colsample_bytree': 0.8}. Best is trial 24 with value: 0.7386319523427578.\n",
      "[I 2025-02-25 22:34:49,926] Trial 27 finished with value: 0.7382927314452479 and parameters: {'num_iterations': 2243, 'objective': 'binary', 'metric': 'auc', 'verbose': -1, 'learning_rate': 0.006904460738306298, 'n_estimators': 712, 'min_child_samples': 40, 'subsample': 0.6, 'colsample_bytree': 0.8}. Best is trial 24 with value: 0.7386319523427578.\n",
      "[I 2025-02-25 22:35:08,735] Trial 28 finished with value: 0.7365269776133189 and parameters: {'num_iterations': 2388, 'objective': 'binary', 'metric': 'auc', 'verbose': -1, 'learning_rate': 0.014965891026339589, 'n_estimators': 1046, 'min_child_samples': 50, 'subsample': 0.8, 'colsample_bytree': 1.0}. Best is trial 24 with value: 0.7386319523427578.\n",
      "[I 2025-02-25 22:35:26,573] Trial 29 finished with value: 0.7310500891082752 and parameters: {'num_iterations': 2359, 'objective': 'binary', 'metric': 'auc', 'verbose': -1, 'learning_rate': 0.04030098468148633, 'n_estimators': 315, 'min_child_samples': 45, 'subsample': 0.7, 'colsample_bytree': 0.9}. Best is trial 24 with value: 0.7386319523427578.\n",
      "[I 2025-02-25 22:35:44,602] Trial 30 finished with value: 0.7384538858917875 and parameters: {'num_iterations': 2186, 'objective': 'binary', 'metric': 'auc', 'verbose': -1, 'learning_rate': 0.008552037026203767, 'n_estimators': 104, 'min_child_samples': 40, 'subsample': 0.8, 'colsample_bytree': 0.8}. Best is trial 24 with value: 0.7386319523427578.\n",
      "[I 2025-02-25 22:36:02,564] Trial 31 finished with value: 0.7386560675347998 and parameters: {'num_iterations': 2175, 'objective': 'binary', 'metric': 'auc', 'verbose': -1, 'learning_rate': 0.008496397961775806, 'n_estimators': 353, 'min_child_samples': 40, 'subsample': 0.8, 'colsample_bytree': 0.8}. Best is trial 31 with value: 0.7386560675347998.\n",
      "[I 2025-02-25 22:36:20,577] Trial 32 finished with value: 0.7378764515296632 and parameters: {'num_iterations': 2204, 'objective': 'binary', 'metric': 'auc', 'verbose': -1, 'learning_rate': 0.012015991969759577, 'n_estimators': 109, 'min_child_samples': 40, 'subsample': 0.8, 'colsample_bytree': 0.8}. Best is trial 31 with value: 0.7386560675347998.\n",
      "[I 2025-02-25 22:36:37,341] Trial 33 finished with value: 0.7383788162877112 and parameters: {'num_iterations': 2024, 'objective': 'binary', 'metric': 'auc', 'verbose': -1, 'learning_rate': 0.008995627197783053, 'n_estimators': 332, 'min_child_samples': 45, 'subsample': 0.7, 'colsample_bytree': 0.8}. Best is trial 31 with value: 0.7386560675347998.\n",
      "[I 2025-02-25 22:36:58,392] Trial 34 finished with value: 0.7383525647588803 and parameters: {'num_iterations': 2449, 'objective': 'binary', 'metric': 'auc', 'verbose': -1, 'learning_rate': 0.005996765129337065, 'n_estimators': 158, 'min_child_samples': 35, 'subsample': 0.8, 'colsample_bytree': 0.7}. Best is trial 31 with value: 0.7386560675347998.\n",
      "[I 2025-02-25 22:37:17,927] Trial 35 finished with value: 0.7384607237578663 and parameters: {'num_iterations': 2316, 'objective': 'binary', 'metric': 'auc', 'verbose': -1, 'learning_rate': 0.006303187671507195, 'n_estimators': 487, 'min_child_samples': 40, 'subsample': 0.5, 'colsample_bytree': 0.8}. Best is trial 31 with value: 0.7386560675347998.\n",
      "[I 2025-02-25 22:37:37,561] Trial 36 finished with value: 0.7386383970911002 and parameters: {'num_iterations': 2285, 'objective': 'binary', 'metric': 'auc', 'verbose': -1, 'learning_rate': 0.006239590487582764, 'n_estimators': 508, 'min_child_samples': 50, 'subsample': 0.5, 'colsample_bytree': 0.7}. Best is trial 31 with value: 0.7386560675347998.\n",
      "[I 2025-02-25 22:38:00,109] Trial 37 finished with value: 0.7384805662763306 and parameters: {'num_iterations': 2643, 'objective': 'binary', 'metric': 'auc', 'verbose': -1, 'learning_rate': 0.005730675300594622, 'n_estimators': 438, 'min_child_samples': 50, 'subsample': 0.6, 'colsample_bytree': 0.7}. Best is trial 31 with value: 0.7386560675347998.\n",
      "[I 2025-02-25 22:38:19,047] Trial 38 finished with value: 0.7381503394361195 and parameters: {'num_iterations': 2302, 'objective': 'binary', 'metric': 'auc', 'verbose': -1, 'learning_rate': 0.011169395841921831, 'n_estimators': 608, 'min_child_samples': 45, 'subsample': 0.5, 'colsample_bytree': 0.7}. Best is trial 31 with value: 0.7386560675347998.\n",
      "[I 2025-02-25 22:38:44,426] Trial 39 finished with value: 0.7383203052791916 and parameters: {'num_iterations': 2590, 'objective': 'binary', 'metric': 'auc', 'verbose': -1, 'learning_rate': 0.0050289787468921245, 'n_estimators': 841, 'min_child_samples': 50, 'subsample': 0.7, 'colsample_bytree': 0.6}. Best is trial 31 with value: 0.7386560675347998.\n"
     ]
    },
    {
     "name": "stdout",
     "output_type": "stream",
     "text": [
      "Cat val score : 0.7393247766876829\n",
      "LGBM val score : 0.7384086773521203\n",
      "Ensemble val score : 0.7393815166809465\n"
     ]
    },
    {
     "name": "stderr",
     "output_type": "stream",
     "text": [
      "[I 2025-02-25 22:39:03,784] A new study created in memory with name: no-name-4c59baa7-d20c-4c6e-bf71-88509596170a\n"
     ]
    },
    {
     "name": "stdout",
     "output_type": "stream",
     "text": [
      "==================================================\n",
      "0:\ttest: 0.7229403\tbest: 0.7229403 (0)\ttotal: 139ms\tremaining: 5m 29s\n",
      "300:\ttest: 0.7361889\tbest: 0.7361889 (300)\ttotal: 39.9s\tremaining: 4m 33s\n",
      "600:\ttest: 0.7378598\tbest: 0.7378598 (600)\ttotal: 1m 21s\tremaining: 3m 59s\n",
      "900:\ttest: 0.7383825\tbest: 0.7383837 (888)\ttotal: 2m 3s\tremaining: 3m 21s\n",
      "1200:\ttest: 0.7386644\tbest: 0.7386823 (1189)\ttotal: 2m 49s\tremaining: 2m 44s\n",
      "1500:\ttest: 0.7388129\tbest: 0.7388304 (1491)\ttotal: 3m 41s\tremaining: 2m 7s\n"
     ]
    },
    {
     "name": "stderr",
     "output_type": "stream",
     "text": [
      "[I 2025-02-25 22:43:35,539] Trial 0 finished with value: 0.738830385469174 and parameters: {'iterations': 2366, 'depth': 10, 'learning_rate': 0.01181021951839225, 'l2_leaf_reg': 9.980783802743254}. Best is trial 0 with value: 0.738830385469174.\n"
     ]
    },
    {
     "name": "stdout",
     "output_type": "stream",
     "text": [
      "Stopped by overfitting detector  (300 iterations wait)\n",
      "\n",
      "bestTest = 0.7388303855\n",
      "bestIteration = 1491\n",
      "\n",
      "Shrink model to first 1492 iterations.\n",
      "저장 완료\n",
      "0:\ttest: 0.6948811\tbest: 0.6948811 (0)\ttotal: 54.5ms\tremaining: 1m 59s\n",
      "300:\ttest: 0.7267726\tbest: 0.7267726 (300)\ttotal: 13.5s\tremaining: 1m 25s\n"
     ]
    },
    {
     "name": "stderr",
     "output_type": "stream",
     "text": [
      "Training has stopped (degenerate solution on iteration 312, probably too small l2-regularization, try to increase it)\n",
      "[I 2025-02-25 22:43:49,715] Trial 1 finished with value: 0.727160403536071 and parameters: {'iterations': 2193, 'depth': 4, 'learning_rate': 0.005671430811678843, 'l2_leaf_reg': 0.00012325230809466137}. Best is trial 0 with value: 0.738830385469174.\n"
     ]
    },
    {
     "name": "stdout",
     "output_type": "stream",
     "text": [
      "\n",
      "bestTest = 0.7271604035\n",
      "bestIteration = 311\n",
      "\n",
      "Shrink model to first 312 iterations.\n",
      "0:\ttest: 0.6948811\tbest: 0.6948811 (0)\ttotal: 54.4ms\tremaining: 2m 17s\n",
      "300:\ttest: 0.7381259\tbest: 0.7381259 (300)\ttotal: 14.8s\tremaining: 1m 49s\n",
      "600:\ttest: 0.7378947\tbest: 0.7385006 (396)\ttotal: 29.9s\tremaining: 1m 36s\n"
     ]
    },
    {
     "name": "stderr",
     "output_type": "stream",
     "text": [
      "[I 2025-02-25 22:44:24,602] Trial 2 finished with value: 0.7385006470479685 and parameters: {'iterations': 2535, 'depth': 4, 'learning_rate': 0.09275339199839054, 'l2_leaf_reg': 0.0008705394248343123}. Best is trial 0 with value: 0.738830385469174.\n"
     ]
    },
    {
     "name": "stdout",
     "output_type": "stream",
     "text": [
      "Stopped by overfitting detector  (300 iterations wait)\n",
      "\n",
      "bestTest = 0.738500647\n",
      "bestIteration = 396\n",
      "\n",
      "Shrink model to first 397 iterations.\n",
      "0:\ttest: 0.6948811\tbest: 0.6948811 (0)\ttotal: 54.6ms\tremaining: 2m 7s\n",
      "300:\ttest: 0.7368505\tbest: 0.7368614 (298)\ttotal: 14.3s\tremaining: 1m 36s\n",
      "600:\ttest: 0.7381444\tbest: 0.7381444 (600)\ttotal: 29.2s\tremaining: 1m 24s\n",
      "900:\ttest: 0.7383724\tbest: 0.7384316 (781)\ttotal: 44.3s\tremaining: 1m 10s\n"
     ]
    },
    {
     "name": "stderr",
     "output_type": "stream",
     "text": [
      "[I 2025-02-25 22:45:18,254] Trial 3 finished with value: 0.7384315933365225 and parameters: {'iterations': 2334, 'depth': 4, 'learning_rate': 0.04657568321363276, 'l2_leaf_reg': 0.0008640473331457248}. Best is trial 0 with value: 0.738830385469174.\n"
     ]
    },
    {
     "name": "stdout",
     "output_type": "stream",
     "text": [
      "Stopped by overfitting detector  (300 iterations wait)\n",
      "\n",
      "bestTest = 0.7384315933\n",
      "bestIteration = 781\n",
      "\n",
      "Shrink model to first 782 iterations.\n",
      "0:\ttest: 0.7228466\tbest: 0.7228466 (0)\ttotal: 136ms\tremaining: 3m 56s\n",
      "300:\ttest: 0.7354001\tbest: 0.7354001 (300)\ttotal: 38.8s\tremaining: 3m 5s\n",
      "600:\ttest: 0.7364288\tbest: 0.7364439 (594)\ttotal: 1m 17s\tremaining: 2m 27s\n",
      "900:\ttest: 0.7365051\tbest: 0.7365153 (898)\ttotal: 1m 58s\tremaining: 1m 50s\n"
     ]
    },
    {
     "name": "stderr",
     "output_type": "stream",
     "text": [
      "[I 2025-02-25 22:48:01,378] Trial 4 finished with value: 0.7365152952660461 and parameters: {'iterations': 1742, 'depth': 10, 'learning_rate': 0.012622767482095846, 'l2_leaf_reg': 0.00021158816350109617}. Best is trial 0 with value: 0.738830385469174.\n"
     ]
    },
    {
     "name": "stdout",
     "output_type": "stream",
     "text": [
      "Stopped by overfitting detector  (300 iterations wait)\n",
      "\n",
      "bestTest = 0.7365152953\n",
      "bestIteration = 898\n",
      "\n",
      "Shrink model to first 899 iterations.\n",
      "0:\ttest: 0.6948811\tbest: 0.6948811 (0)\ttotal: 55.4ms\tremaining: 1m 55s\n",
      "300:\ttest: 0.7379054\tbest: 0.7379054 (300)\ttotal: 14.5s\tremaining: 1m 25s\n",
      "600:\ttest: 0.7385746\tbest: 0.7387123 (588)\ttotal: 29.6s\tremaining: 1m 12s\n"
     ]
    },
    {
     "name": "stderr",
     "output_type": "stream",
     "text": [
      "[I 2025-02-25 22:48:46,093] Trial 5 finished with value: 0.7387122754293092 and parameters: {'iterations': 2082, 'depth': 4, 'learning_rate': 0.06995196593094148, 'l2_leaf_reg': 0.0018080296485396804}. Best is trial 0 with value: 0.738830385469174.\n"
     ]
    },
    {
     "name": "stdout",
     "output_type": "stream",
     "text": [
      "Stopped by overfitting detector  (300 iterations wait)\n",
      "\n",
      "bestTest = 0.7387122754\n",
      "bestIteration = 588\n",
      "\n",
      "Shrink model to first 589 iterations.\n",
      "0:\ttest: 0.6979852\tbest: 0.6979852 (0)\ttotal: 66.1ms\tremaining: 2m 11s\n",
      "300:\ttest: 0.7381322\tbest: 0.7381332 (299)\ttotal: 18.5s\tremaining: 1m 44s\n",
      "600:\ttest: 0.7388140\tbest: 0.7388140 (600)\ttotal: 37.5s\tremaining: 1m 27s\n",
      "900:\ttest: 0.7388923\tbest: 0.7389218 (848)\ttotal: 56.7s\tremaining: 1m 8s\n",
      "1200:\ttest: 0.7388877\tbest: 0.7389366 (1127)\ttotal: 1m 16s\tremaining: 50.5s\n"
     ]
    },
    {
     "name": "stderr",
     "output_type": "stream",
     "text": [
      "[I 2025-02-25 22:50:17,144] Trial 6 finished with value: 0.7389365629959339 and parameters: {'iterations': 1997, 'depth': 5, 'learning_rate': 0.07985155992831598, 'l2_leaf_reg': 62.52181000710482}. Best is trial 6 with value: 0.7389365629959339.\n"
     ]
    },
    {
     "name": "stdout",
     "output_type": "stream",
     "text": [
      "Stopped by overfitting detector  (300 iterations wait)\n",
      "\n",
      "bestTest = 0.738936563\n",
      "bestIteration = 1127\n",
      "\n",
      "Shrink model to first 1128 iterations.\n",
      "저장 완료\n",
      "0:\ttest: 0.7169161\tbest: 0.7169161 (0)\ttotal: 90.1ms\tremaining: 2m 53s\n",
      "300:\ttest: 0.7375938\tbest: 0.7378516 (240)\ttotal: 25.8s\tremaining: 2m 19s\n"
     ]
    },
    {
     "name": "stderr",
     "output_type": "stream",
     "text": [
      "[I 2025-02-25 22:51:04,618] Trial 7 finished with value: 0.7378516136363282 and parameters: {'iterations': 1927, 'depth': 7, 'learning_rate': 0.0941937211034094, 'l2_leaf_reg': 0.05654822767791934}. Best is trial 6 with value: 0.7389365629959339.\n"
     ]
    },
    {
     "name": "stdout",
     "output_type": "stream",
     "text": [
      "Stopped by overfitting detector  (300 iterations wait)\n",
      "\n",
      "bestTest = 0.7378516136\n",
      "bestIteration = 240\n",
      "\n",
      "Shrink model to first 241 iterations.\n",
      "0:\ttest: 0.7169300\tbest: 0.7169300 (0)\ttotal: 87ms\tremaining: 2m 45s\n",
      "300:\ttest: 0.7380227\tbest: 0.7380483 (297)\ttotal: 24.4s\tremaining: 2m 9s\n",
      "600:\ttest: 0.7384953\tbest: 0.7385795 (509)\ttotal: 50.3s\tremaining: 1m 49s\n",
      "900:\ttest: 0.7384678\tbest: 0.7386459 (801)\ttotal: 1m 16s\tremaining: 1m 25s\n"
     ]
    },
    {
     "name": "stderr",
     "output_type": "stream",
     "text": [
      "[I 2025-02-25 22:52:39,337] Trial 8 finished with value: 0.7386459497166995 and parameters: {'iterations': 1904, 'depth': 7, 'learning_rate': 0.05155602859187331, 'l2_leaf_reg': 1.299974533316308}. Best is trial 6 with value: 0.7389365629959339.\n"
     ]
    },
    {
     "name": "stdout",
     "output_type": "stream",
     "text": [
      "Stopped by overfitting detector  (300 iterations wait)\n",
      "\n",
      "bestTest = 0.7386459497\n",
      "bestIteration = 801\n",
      "\n",
      "Shrink model to first 802 iterations.\n",
      "0:\ttest: 0.7053663\tbest: 0.7053663 (0)\ttotal: 77.3ms\tremaining: 3m 23s\n",
      "300:\ttest: 0.7377516\tbest: 0.7377516 (300)\ttotal: 20.7s\tremaining: 2m 41s\n",
      "600:\ttest: 0.7387105\tbest: 0.7387213 (583)\ttotal: 43.1s\tremaining: 2m 26s\n",
      "900:\ttest: 0.7387825\tbest: 0.7388481 (831)\ttotal: 1m 5s\tremaining: 2m 6s\n",
      "1200:\ttest: 0.7388100\tbest: 0.7388842 (961)\ttotal: 1m 28s\tremaining: 1m 45s\n"
     ]
    },
    {
     "name": "stderr",
     "output_type": "stream",
     "text": [
      "[I 2025-02-25 22:54:12,640] Trial 9 finished with value: 0.7388841750939725 and parameters: {'iterations': 2639, 'depth': 6, 'learning_rate': 0.03968704290444751, 'l2_leaf_reg': 0.30557194377967184}. Best is trial 6 with value: 0.7389365629959339.\n"
     ]
    },
    {
     "name": "stdout",
     "output_type": "stream",
     "text": [
      "Stopped by overfitting detector  (300 iterations wait)\n",
      "\n",
      "bestTest = 0.7388841751\n",
      "bestIteration = 961\n",
      "\n",
      "Shrink model to first 962 iterations.\n",
      "0:\ttest: 0.7054160\tbest: 0.7054160 (0)\ttotal: 78.8ms\tremaining: 3m 51s\n",
      "300:\ttest: 0.7383706\tbest: 0.7383839 (297)\ttotal: 21.2s\tremaining: 3m 6s\n",
      "600:\ttest: 0.7386718\tbest: 0.7386718 (600)\ttotal: 43.2s\tremaining: 2m 48s\n",
      "900:\ttest: 0.7388594\tbest: 0.7388815 (880)\ttotal: 1m 5s\tremaining: 2m 28s\n",
      "1200:\ttest: 0.7389550\tbest: 0.7390471 (1145)\ttotal: 1m 27s\tremaining: 2m 7s\n"
     ]
    },
    {
     "name": "stderr",
     "output_type": "stream",
     "text": [
      "[I 2025-02-25 22:55:58,914] Trial 10 finished with value: 0.7390470648177924 and parameters: {'iterations': 2945, 'depth': 6, 'learning_rate': 0.07265276039199581, 'l2_leaf_reg': 97.18545559492516}. Best is trial 10 with value: 0.7390470648177924.\n"
     ]
    },
    {
     "name": "stdout",
     "output_type": "stream",
     "text": [
      "Stopped by overfitting detector  (300 iterations wait)\n",
      "\n",
      "bestTest = 0.7390470648\n",
      "bestIteration = 1145\n",
      "\n",
      "Shrink model to first 1146 iterations.\n",
      "저장 완료\n",
      "0:\ttest: 0.7054488\tbest: 0.7054488 (0)\ttotal: 79.8ms\tremaining: 3m 58s\n",
      "300:\ttest: 0.7386451\tbest: 0.7386451 (300)\ttotal: 21.2s\tremaining: 3m 9s\n",
      "600:\ttest: 0.7390108\tbest: 0.7390386 (493)\ttotal: 43.4s\tremaining: 2m 52s\n",
      "900:\ttest: 0.7391526\tbest: 0.7391821 (781)\ttotal: 1m 5s\tremaining: 2m 33s\n",
      "1200:\ttest: 0.7391904\tbest: 0.7392193 (1195)\ttotal: 1m 28s\tremaining: 2m 12s\n",
      "1500:\ttest: 0.7392165\tbest: 0.7392750 (1279)\ttotal: 1m 51s\tremaining: 1m 50s\n"
     ]
    },
    {
     "name": "stderr",
     "output_type": "stream",
     "text": [
      "[I 2025-02-25 22:57:56,223] Trial 11 finished with value: 0.7392749579491091 and parameters: {'iterations': 2994, 'depth': 6, 'learning_rate': 0.07131044509072976, 'l2_leaf_reg': 73.1213351392818}. Best is trial 11 with value: 0.7392749579491091.\n"
     ]
    },
    {
     "name": "stdout",
     "output_type": "stream",
     "text": [
      "Stopped by overfitting detector  (300 iterations wait)\n",
      "\n",
      "bestTest = 0.7392749579\n",
      "bestIteration = 1279\n",
      "\n",
      "Shrink model to first 1280 iterations.\n",
      "저장 완료\n",
      "0:\ttest: 0.7054476\tbest: 0.7054476 (0)\ttotal: 78.1ms\tremaining: 3m 46s\n",
      "300:\ttest: 0.7381084\tbest: 0.7381089 (299)\ttotal: 21s\tremaining: 3m 1s\n",
      "600:\ttest: 0.7386693\tbest: 0.7386693 (599)\ttotal: 43.1s\tremaining: 2m 44s\n",
      "900:\ttest: 0.7386378\tbest: 0.7387173 (673)\ttotal: 1m 5s\tremaining: 2m 25s\n"
     ]
    },
    {
     "name": "stderr",
     "output_type": "stream",
     "text": [
      "[I 2025-02-25 22:59:07,546] Trial 12 finished with value: 0.7387173343383593 and parameters: {'iterations': 2897, 'depth': 6, 'learning_rate': 0.06853332055535903, 'l2_leaf_reg': 87.13438924619796}. Best is trial 11 with value: 0.7392749579491091.\n"
     ]
    },
    {
     "name": "stdout",
     "output_type": "stream",
     "text": [
      "Stopped by overfitting detector  (300 iterations wait)\n",
      "\n",
      "bestTest = 0.7387173343\n",
      "bestIteration = 673\n",
      "\n",
      "Shrink model to first 674 iterations.\n",
      "0:\ttest: 0.7171157\tbest: 0.7171157 (0)\ttotal: 97.5ms\tremaining: 4m 49s\n",
      "300:\ttest: 0.7385443\tbest: 0.7385443 (300)\ttotal: 28.4s\tremaining: 4m 12s\n",
      "600:\ttest: 0.7381801\tbest: 0.7385585 (334)\ttotal: 58.8s\tremaining: 3m 52s\n"
     ]
    },
    {
     "name": "stderr",
     "output_type": "stream",
     "text": [
      "[I 2025-02-25 23:00:09,906] Trial 13 finished with value: 0.7385584909476024 and parameters: {'iterations': 2975, 'depth': 8, 'learning_rate': 0.06703158786644411, 'l2_leaf_reg': 7.828901342687942}. Best is trial 11 with value: 0.7392749579491091.\n"
     ]
    },
    {
     "name": "stdout",
     "output_type": "stream",
     "text": [
      "Stopped by overfitting detector  (300 iterations wait)\n",
      "\n",
      "bestTest = 0.7385584909\n",
      "bestIteration = 334\n",
      "\n",
      "Shrink model to first 335 iterations.\n",
      "0:\ttest: 0.7171152\tbest: 0.7171152 (0)\ttotal: 104ms\tremaining: 4m 45s\n",
      "300:\ttest: 0.7376480\tbest: 0.7376483 (297)\ttotal: 26.8s\tremaining: 3m 38s\n",
      "600:\ttest: 0.7384041\tbest: 0.7384342 (559)\ttotal: 56.2s\tremaining: 3m 21s\n",
      "900:\ttest: 0.7384751\tbest: 0.7385776 (789)\ttotal: 1m 26s\tremaining: 2m 58s\n"
     ]
    },
    {
     "name": "stderr",
     "output_type": "stream",
     "text": [
      "[I 2025-02-25 23:01:56,026] Trial 14 finished with value: 0.7385775631141392 and parameters: {'iterations': 2754, 'depth': 8, 'learning_rate': 0.03173133903351067, 'l2_leaf_reg': 7.067045463613257}. Best is trial 11 with value: 0.7392749579491091.\n"
     ]
    },
    {
     "name": "stdout",
     "output_type": "stream",
     "text": [
      "Stopped by overfitting detector  (300 iterations wait)\n",
      "\n",
      "bestTest = 0.7385775631\n",
      "bestIteration = 789\n",
      "\n",
      "Shrink model to first 790 iterations.\n",
      "0:\ttest: 0.7053663\tbest: 0.7053663 (0)\ttotal: 78.2ms\tremaining: 1m 58s\n",
      "300:\ttest: 0.7379481\tbest: 0.7379481 (300)\ttotal: 21.8s\tremaining: 1m 27s\n",
      "600:\ttest: 0.7380070\tbest: 0.7381431 (515)\ttotal: 44.7s\tremaining: 1m 7s\n"
     ]
    },
    {
     "name": "stderr",
     "output_type": "stream",
     "text": [
      "[I 2025-02-25 23:02:57,593] Trial 15 finished with value: 0.7381430925687597 and parameters: {'iterations': 1513, 'depth': 6, 'learning_rate': 0.07847702826450467, 'l2_leaf_reg': 0.026986971696484528}. Best is trial 11 with value: 0.7392749579491091.\n"
     ]
    },
    {
     "name": "stdout",
     "output_type": "stream",
     "text": [
      "Stopped by overfitting detector  (300 iterations wait)\n",
      "\n",
      "bestTest = 0.7381430926\n",
      "bestIteration = 515\n",
      "\n",
      "Shrink model to first 516 iterations.\n",
      "0:\ttest: 0.7171381\tbest: 0.7171381 (0)\ttotal: 97.1ms\tremaining: 4m 30s\n",
      "300:\ttest: 0.7382944\tbest: 0.7383381 (288)\ttotal: 28.1s\tremaining: 3m 51s\n",
      "600:\ttest: 0.7381533\tbest: 0.7383888 (524)\ttotal: 58.6s\tremaining: 3m 33s\n"
     ]
    },
    {
     "name": "stderr",
     "output_type": "stream",
     "text": [
      "[I 2025-02-25 23:04:19,362] Trial 16 finished with value: 0.738388783212135 and parameters: {'iterations': 2788, 'depth': 8, 'learning_rate': 0.06054549172243656, 'l2_leaf_reg': 0.8358313275560093}. Best is trial 11 with value: 0.7392749579491091.\n"
     ]
    },
    {
     "name": "stdout",
     "output_type": "stream",
     "text": [
      "Stopped by overfitting detector  (300 iterations wait)\n",
      "\n",
      "bestTest = 0.7383887832\n",
      "bestIteration = 524\n",
      "\n",
      "Shrink model to first 525 iterations.\n",
      "0:\ttest: 0.6979766\tbest: 0.6979766 (0)\ttotal: 64.5ms\tremaining: 3m 13s\n",
      "300:\ttest: 0.7382614\tbest: 0.7382709 (297)\ttotal: 18.6s\tremaining: 2m 46s\n",
      "600:\ttest: 0.7387709\tbest: 0.7387826 (590)\ttotal: 37.5s\tremaining: 2m 29s\n",
      "900:\ttest: 0.7386153\tbest: 0.7387881 (684)\ttotal: 56.6s\tremaining: 2m 11s\n"
     ]
    },
    {
     "name": "stderr",
     "output_type": "stream",
     "text": [
      "[I 2025-02-25 23:05:21,661] Trial 17 finished with value: 0.7387881431815166 and parameters: {'iterations': 2999, 'depth': 5, 'learning_rate': 0.0793026456501316, 'l2_leaf_reg': 17.971321588436567}. Best is trial 11 with value: 0.7392749579491091.\n"
     ]
    },
    {
     "name": "stdout",
     "output_type": "stream",
     "text": [
      "Stopped by overfitting detector  (300 iterations wait)\n",
      "\n",
      "bestTest = 0.7387881432\n",
      "bestIteration = 684\n",
      "\n",
      "Shrink model to first 685 iterations.\n",
      "0:\ttest: 0.7169046\tbest: 0.7169046 (0)\ttotal: 89.4ms\tremaining: 3m 41s\n",
      "300:\ttest: 0.7374682\tbest: 0.7383353 (195)\ttotal: 25.5s\tremaining: 3m 4s\n"
     ]
    },
    {
     "name": "stderr",
     "output_type": "stream",
     "text": [
      "[I 2025-02-25 23:06:04,349] Trial 18 finished with value: 0.7383353033164619 and parameters: {'iterations': 2482, 'depth': 7, 'learning_rate': 0.08692110303007522, 'l2_leaf_reg': 0.010016909578442512}. Best is trial 11 with value: 0.7392749579491091.\n"
     ]
    },
    {
     "name": "stdout",
     "output_type": "stream",
     "text": [
      "Stopped by overfitting detector  (300 iterations wait)\n",
      "\n",
      "bestTest = 0.7383353033\n",
      "bestIteration = 195\n",
      "\n",
      "Shrink model to first 196 iterations.\n",
      "0:\ttest: 0.6979556\tbest: 0.6979556 (0)\ttotal: 65.3ms\tremaining: 3m 1s\n",
      "300:\ttest: 0.7378047\tbest: 0.7378047 (300)\ttotal: 18.5s\tremaining: 2m 31s\n",
      "600:\ttest: 0.7386472\tbest: 0.7386472 (600)\ttotal: 37.4s\tremaining: 2m 15s\n",
      "900:\ttest: 0.7387159\tbest: 0.7387871 (694)\ttotal: 56.4s\tremaining: 1m 57s\n"
     ]
    },
    {
     "name": "stderr",
     "output_type": "stream",
     "text": [
      "[I 2025-02-25 23:07:07,038] Trial 19 finished with value: 0.7387870591295773 and parameters: {'iterations': 2774, 'depth': 5, 'learning_rate': 0.057652207127723315, 'l2_leaf_reg': 2.276175005448344}. Best is trial 11 with value: 0.7392749579491091.\n"
     ]
    },
    {
     "name": "stdout",
     "output_type": "stream",
     "text": [
      "Stopped by overfitting detector  (300 iterations wait)\n",
      "\n",
      "bestTest = 0.7387870591\n",
      "bestIteration = 694\n",
      "\n",
      "Shrink model to first 695 iterations.\n",
      "0:\ttest: 0.7054348\tbest: 0.7054348 (0)\ttotal: 75.5ms\tremaining: 3m 22s\n",
      "300:\ttest: 0.7369580\tbest: 0.7369580 (300)\ttotal: 20.8s\tremaining: 2m 44s\n",
      "600:\ttest: 0.7382218\tbest: 0.7382296 (596)\ttotal: 42s\tremaining: 2m 25s\n",
      "900:\ttest: 0.7386405\tbest: 0.7386405 (900)\ttotal: 1m 4s\tremaining: 2m 6s\n",
      "1200:\ttest: 0.7389387\tbest: 0.7389486 (1190)\ttotal: 1m 26s\tremaining: 1m 46s\n",
      "1500:\ttest: 0.7390059\tbest: 0.7390227 (1486)\ttotal: 1m 49s\tremaining: 1m 25s\n",
      "1800:\ttest: 0.7391091\tbest: 0.7391134 (1781)\ttotal: 2m 11s\tremaining: 1m 4s\n",
      "2100:\ttest: 0.7391221\tbest: 0.7391244 (2093)\ttotal: 2m 34s\tremaining: 42.5s\n"
     ]
    },
    {
     "name": "stderr",
     "output_type": "stream",
     "text": [
      "[I 2025-02-25 23:10:04,651] Trial 20 finished with value: 0.7391271258258529 and parameters: {'iterations': 2680, 'depth': 6, 'learning_rate': 0.02650893197855826, 'l2_leaf_reg': 35.32323178547584}. Best is trial 11 with value: 0.7392749579491091.\n"
     ]
    },
    {
     "name": "stdout",
     "output_type": "stream",
     "text": [
      "2400:\ttest: 0.7391008\tbest: 0.7391271 (2101)\ttotal: 2m 57s\tremaining: 20.6s\n",
      "Stopped by overfitting detector  (300 iterations wait)\n",
      "\n",
      "bestTest = 0.7391271258\n",
      "bestIteration = 2101\n",
      "\n",
      "Shrink model to first 2102 iterations.\n",
      "0:\ttest: 0.7054348\tbest: 0.7054348 (0)\ttotal: 76.4ms\tremaining: 3m 23s\n",
      "300:\ttest: 0.7371944\tbest: 0.7371960 (299)\ttotal: 20.5s\tremaining: 2m 40s\n",
      "600:\ttest: 0.7383284\tbest: 0.7383284 (600)\ttotal: 42.1s\tremaining: 2m 24s\n",
      "900:\ttest: 0.7388338\tbest: 0.7388338 (900)\ttotal: 1m 4s\tremaining: 2m 6s\n",
      "1200:\ttest: 0.7390245\tbest: 0.7390265 (1198)\ttotal: 1m 27s\tremaining: 1m 45s\n",
      "1500:\ttest: 0.7389857\tbest: 0.7390541 (1284)\ttotal: 1m 49s\tremaining: 1m 24s\n"
     ]
    },
    {
     "name": "stderr",
     "output_type": "stream",
     "text": [
      "[I 2025-02-25 23:12:01,167] Trial 21 finished with value: 0.7390541369661584 and parameters: {'iterations': 2660, 'depth': 6, 'learning_rate': 0.028974090854760496, 'l2_leaf_reg': 33.894253733241094}. Best is trial 11 with value: 0.7392749579491091.\n"
     ]
    },
    {
     "name": "stdout",
     "output_type": "stream",
     "text": [
      "Stopped by overfitting detector  (300 iterations wait)\n",
      "\n",
      "bestTest = 0.739054137\n",
      "bestIteration = 1284\n",
      "\n",
      "Shrink model to first 1285 iterations.\n",
      "0:\ttest: 0.7169511\tbest: 0.7169511 (0)\ttotal: 91ms\tremaining: 3m 59s\n",
      "300:\ttest: 0.7372773\tbest: 0.7372808 (294)\ttotal: 24.5s\tremaining: 3m 9s\n",
      "600:\ttest: 0.7383620\tbest: 0.7383635 (598)\ttotal: 48.7s\tremaining: 2m 45s\n",
      "900:\ttest: 0.7388694\tbest: 0.7388694 (900)\ttotal: 1m 15s\tremaining: 2m 25s\n",
      "1200:\ttest: 0.7390257\tbest: 0.7390333 (1171)\ttotal: 1m 41s\tremaining: 2m 1s\n",
      "1500:\ttest: 0.7390610\tbest: 0.7391199 (1343)\ttotal: 2m 8s\tremaining: 1m 37s\n"
     ]
    },
    {
     "name": "stderr",
     "output_type": "stream",
     "text": [
      "[I 2025-02-25 23:14:22,105] Trial 22 finished with value: 0.7391199186673554 and parameters: {'iterations': 2638, 'depth': 7, 'learning_rate': 0.026057083102591225, 'l2_leaf_reg': 24.57357890684698}. Best is trial 11 with value: 0.7392749579491091.\n"
     ]
    },
    {
     "name": "stdout",
     "output_type": "stream",
     "text": [
      "Stopped by overfitting detector  (300 iterations wait)\n",
      "\n",
      "bestTest = 0.7391199187\n",
      "bestIteration = 1343\n",
      "\n",
      "Shrink model to first 1344 iterations.\n",
      "0:\ttest: 0.7208508\tbest: 0.7208508 (0)\ttotal: 115ms\tremaining: 4m 50s\n",
      "300:\ttest: 0.7371713\tbest: 0.7371713 (300)\ttotal: 30.5s\tremaining: 3m 45s\n",
      "600:\ttest: 0.7380710\tbest: 0.7381131 (578)\ttotal: 1m 3s\tremaining: 3m 22s\n",
      "900:\ttest: 0.7383384\tbest: 0.7383869 (822)\ttotal: 1m 38s\tremaining: 2m 58s\n"
     ]
    },
    {
     "name": "stderr",
     "output_type": "stream",
     "text": [
      "[I 2025-02-25 23:16:27,368] Trial 23 finished with value: 0.738386857332316 and parameters: {'iterations': 2525, 'depth': 9, 'learning_rate': 0.024068384627610958, 'l2_leaf_reg': 3.4285883150965986}. Best is trial 11 with value: 0.7392749579491091.\n"
     ]
    },
    {
     "name": "stdout",
     "output_type": "stream",
     "text": [
      "Stopped by overfitting detector  (300 iterations wait)\n",
      "\n",
      "bestTest = 0.7383868573\n",
      "bestIteration = 822\n",
      "\n",
      "Shrink model to first 823 iterations.\n",
      "0:\ttest: 0.7169284\tbest: 0.7169284 (0)\ttotal: 93.9ms\tremaining: 4m 9s\n",
      "300:\ttest: 0.7365933\tbest: 0.7365933 (300)\ttotal: 23.5s\tremaining: 3m 4s\n",
      "600:\ttest: 0.7378477\tbest: 0.7378477 (600)\ttotal: 47.6s\tremaining: 2m 43s\n",
      "900:\ttest: 0.7383523\tbest: 0.7383755 (808)\ttotal: 1m 14s\tremaining: 2m 25s\n",
      "1200:\ttest: 0.7385703\tbest: 0.7385961 (1052)\ttotal: 1m 40s\tremaining: 2m 2s\n"
     ]
    },
    {
     "name": "stderr",
     "output_type": "stream",
     "text": [
      "[I 2025-02-25 23:18:21,849] Trial 24 finished with value: 0.7385960714148322 and parameters: {'iterations': 2663, 'depth': 7, 'learning_rate': 0.020074307522457792, 'l2_leaf_reg': 0.37204013368740174}. Best is trial 11 with value: 0.7392749579491091.\n"
     ]
    },
    {
     "name": "stdout",
     "output_type": "stream",
     "text": [
      "Stopped by overfitting detector  (300 iterations wait)\n",
      "\n",
      "bestTest = 0.7385960714\n",
      "bestIteration = 1052\n",
      "\n",
      "Shrink model to first 1053 iterations.\n",
      "0:\ttest: 0.6979766\tbest: 0.6979766 (0)\ttotal: 68ms\tremaining: 3m 13s\n",
      "300:\ttest: 0.7368463\tbest: 0.7368463 (300)\ttotal: 18s\tremaining: 2m 32s\n",
      "600:\ttest: 0.7382380\tbest: 0.7382380 (600)\ttotal: 36.5s\tremaining: 2m 16s\n",
      "900:\ttest: 0.7386841\tbest: 0.7387018 (891)\ttotal: 55.3s\tremaining: 1m 59s\n",
      "1200:\ttest: 0.7388928\tbest: 0.7388962 (1182)\ttotal: 1m 14s\tremaining: 1m 42s\n",
      "1500:\ttest: 0.7390247\tbest: 0.7390247 (1499)\ttotal: 1m 33s\tremaining: 1m 24s\n",
      "1800:\ttest: 0.7389862\tbest: 0.7390394 (1612)\ttotal: 1m 52s\tremaining: 1m 5s\n"
     ]
    },
    {
     "name": "stderr",
     "output_type": "stream",
     "text": [
      "[I 2025-02-25 23:20:21,826] Trial 25 finished with value: 0.7390393930656065 and parameters: {'iterations': 2853, 'depth': 5, 'learning_rate': 0.03326960029531885, 'l2_leaf_reg': 21.902960777265868}. Best is trial 11 with value: 0.7392749579491091.\n"
     ]
    },
    {
     "name": "stdout",
     "output_type": "stream",
     "text": [
      "Stopped by overfitting detector  (300 iterations wait)\n",
      "\n",
      "bestTest = 0.7390393931\n",
      "bestIteration = 1612\n",
      "\n",
      "Shrink model to first 1613 iterations.\n",
      "0:\ttest: 0.7169441\tbest: 0.7169441 (0)\ttotal: 87.1ms\tremaining: 3m 32s\n",
      "300:\ttest: 0.7378829\tbest: 0.7378861 (297)\ttotal: 23.5s\tremaining: 2m 47s\n",
      "600:\ttest: 0.7386298\tbest: 0.7386298 (600)\ttotal: 49.5s\tremaining: 2m 31s\n",
      "900:\ttest: 0.7387873\tbest: 0.7388767 (826)\ttotal: 1m 15s\tremaining: 2m 8s\n",
      "1200:\ttest: 0.7388242\tbest: 0.7389025 (1040)\ttotal: 1m 41s\tremaining: 1m 44s\n"
     ]
    },
    {
     "name": "stderr",
     "output_type": "stream",
     "text": [
      "[I 2025-02-25 23:22:15,558] Trial 26 finished with value: 0.7389025126465578 and parameters: {'iterations': 2442, 'depth': 7, 'learning_rate': 0.04286594603846035, 'l2_leaf_reg': 31.995217576802414}. Best is trial 11 with value: 0.7392749579491091.\n"
     ]
    },
    {
     "name": "stdout",
     "output_type": "stream",
     "text": [
      "Stopped by overfitting detector  (300 iterations wait)\n",
      "\n",
      "bestTest = 0.7389025126\n",
      "bestIteration = 1040\n",
      "\n",
      "Shrink model to first 1041 iterations.\n",
      "0:\ttest: 0.7171161\tbest: 0.7171161 (0)\ttotal: 97.6ms\tremaining: 4m 14s\n",
      "300:\ttest: 0.7369041\tbest: 0.7369041 (300)\ttotal: 26.2s\tremaining: 3m 21s\n",
      "600:\ttest: 0.7379903\tbest: 0.7379903 (600)\ttotal: 53.8s\tremaining: 3m\n",
      "900:\ttest: 0.7385825\tbest: 0.7385848 (896)\ttotal: 1m 25s\tremaining: 2m 42s\n",
      "1200:\ttest: 0.7385156\tbest: 0.7385899 (1127)\ttotal: 1m 57s\tremaining: 2m 17s\n"
     ]
    },
    {
     "name": "stderr",
     "output_type": "stream",
     "text": [
      "[I 2025-02-25 23:24:35,919] Trial 27 finished with value: 0.738589916541184 and parameters: {'iterations': 2614, 'depth': 8, 'learning_rate': 0.021038565601864876, 'l2_leaf_reg': 3.2696655861000057}. Best is trial 11 with value: 0.7392749579491091.\n"
     ]
    },
    {
     "name": "stdout",
     "output_type": "stream",
     "text": [
      "Stopped by overfitting detector  (300 iterations wait)\n",
      "\n",
      "bestTest = 0.7385899165\n",
      "bestIteration = 1127\n",
      "\n",
      "Shrink model to first 1128 iterations.\n",
      "0:\ttest: 0.7208369\tbest: 0.7208369 (0)\ttotal: 112ms\tremaining: 4m 12s\n",
      "300:\ttest: 0.7378641\tbest: 0.7378880 (297)\ttotal: 30s\tremaining: 3m 14s\n",
      "600:\ttest: 0.7376532\tbest: 0.7381494 (351)\ttotal: 1m 5s\tremaining: 2m 59s\n"
     ]
    },
    {
     "name": "stderr",
     "output_type": "stream",
     "text": [
      "[I 2025-02-25 23:25:47,404] Trial 28 finished with value: 0.7381494062778567 and parameters: {'iterations': 2255, 'depth': 9, 'learning_rate': 0.03787792885826816, 'l2_leaf_reg': 0.1887190167186313}. Best is trial 11 with value: 0.7392749579491091.\n"
     ]
    },
    {
     "name": "stdout",
     "output_type": "stream",
     "text": [
      "Stopped by overfitting detector  (300 iterations wait)\n",
      "\n",
      "bestTest = 0.7381494063\n",
      "bestIteration = 351\n",
      "\n",
      "Shrink model to first 352 iterations.\n",
      "0:\ttest: 0.7053812\tbest: 0.7053812 (0)\ttotal: 76.7ms\tremaining: 3m 1s\n",
      "300:\ttest: 0.7351434\tbest: 0.7351434 (300)\ttotal: 20.3s\tremaining: 2m 18s\n",
      "600:\ttest: 0.7369567\tbest: 0.7369573 (598)\ttotal: 41s\tremaining: 1m 59s\n",
      "900:\ttest: 0.7378005\tbest: 0.7378005 (900)\ttotal: 1m 2s\tremaining: 1m 41s\n",
      "1200:\ttest: 0.7382493\tbest: 0.7382493 (1200)\ttotal: 1m 25s\tremaining: 1m 22s\n",
      "1500:\ttest: 0.7385784\tbest: 0.7385784 (1499)\ttotal: 1m 47s\tremaining: 1m 1s\n",
      "1800:\ttest: 0.7387471\tbest: 0.7387479 (1796)\ttotal: 2m 10s\tremaining: 40.4s\n",
      "2100:\ttest: 0.7388538\tbest: 0.7388597 (2090)\ttotal: 2m 33s\tremaining: 18.9s\n"
     ]
    },
    {
     "name": "stderr",
     "output_type": "stream",
     "text": [
      "[I 2025-02-25 23:28:40,314] Trial 29 finished with value: 0.7389712963377406 and parameters: {'iterations': 2360, 'depth': 6, 'learning_rate': 0.014024355926696899, 'l2_leaf_reg': 10.209875448574312}. Best is trial 11 with value: 0.7392749579491091.\n"
     ]
    },
    {
     "name": "stdout",
     "output_type": "stream",
     "text": [
      "2359:\ttest: 0.7389713\tbest: 0.7389713 (2359)\ttotal: 2m 52s\tremaining: 0us\n",
      "\n",
      "bestTest = 0.7389712963\n",
      "bestIteration = 2359\n",
      "\n",
      "0:\ttest: 0.6979756\tbest: 0.6979756 (0)\ttotal: 66.7ms\tremaining: 3m 9s\n",
      "300:\ttest: 0.7377857\tbest: 0.7377955 (299)\ttotal: 18.2s\tremaining: 2m 33s\n",
      "600:\ttest: 0.7385875\tbest: 0.7386011 (564)\ttotal: 37.2s\tremaining: 2m 18s\n",
      "900:\ttest: 0.7387427\tbest: 0.7388020 (750)\ttotal: 56.2s\tremaining: 2m\n",
      "1200:\ttest: 0.7387751\tbest: 0.7388337 (978)\ttotal: 1m 15s\tremaining: 1m 42s\n"
     ]
    },
    {
     "name": "stderr",
     "output_type": "stream",
     "text": [
      "[I 2025-02-25 23:30:01,134] Trial 30 finished with value: 0.7388337130718303 and parameters: {'iterations': 2836, 'depth': 5, 'learning_rate': 0.049773151023426956, 'l2_leaf_reg': 13.852723006555737}. Best is trial 11 with value: 0.7392749579491091.\n"
     ]
    },
    {
     "name": "stdout",
     "output_type": "stream",
     "text": [
      "Stopped by overfitting detector  (300 iterations wait)\n",
      "\n",
      "bestTest = 0.7388337131\n",
      "bestIteration = 978\n",
      "\n",
      "Shrink model to first 979 iterations.\n",
      "0:\ttest: 0.7054636\tbest: 0.7054636 (0)\ttotal: 76.3ms\tremaining: 3m 26s\n",
      "300:\ttest: 0.7368511\tbest: 0.7368511 (300)\ttotal: 20.4s\tremaining: 2m 42s\n",
      "600:\ttest: 0.7381533\tbest: 0.7381533 (600)\ttotal: 41.9s\tremaining: 2m 26s\n",
      "900:\ttest: 0.7386268\tbest: 0.7386268 (900)\ttotal: 1m 4s\tremaining: 2m 8s\n",
      "1200:\ttest: 0.7389188\tbest: 0.7389364 (1186)\ttotal: 1m 26s\tremaining: 1m 48s\n",
      "1500:\ttest: 0.7390657\tbest: 0.7390711 (1497)\ttotal: 1m 48s\tremaining: 1m 27s\n",
      "1800:\ttest: 0.7390608\tbest: 0.7390865 (1557)\ttotal: 2m 11s\tremaining: 1m 6s\n"
     ]
    },
    {
     "name": "stderr",
     "output_type": "stream",
     "text": [
      "[I 2025-02-25 23:32:17,206] Trial 31 finished with value: 0.7390864599800268 and parameters: {'iterations': 2709, 'depth': 6, 'learning_rate': 0.026847014364250712, 'l2_leaf_reg': 43.30780518444778}. Best is trial 11 with value: 0.7392749579491091.\n"
     ]
    },
    {
     "name": "stdout",
     "output_type": "stream",
     "text": [
      "Stopped by overfitting detector  (300 iterations wait)\n",
      "\n",
      "bestTest = 0.73908646\n",
      "bestIteration = 1557\n",
      "\n",
      "Shrink model to first 1558 iterations.\n",
      "0:\ttest: 0.7169128\tbest: 0.7169128 (0)\ttotal: 89ms\tremaining: 4m 3s\n",
      "300:\ttest: 0.7318604\tbest: 0.7318604 (300)\ttotal: 22.8s\tremaining: 3m 4s\n",
      "600:\ttest: 0.7346796\tbest: 0.7346796 (600)\ttotal: 46.1s\tremaining: 2m 44s\n",
      "900:\ttest: 0.7361257\tbest: 0.7361257 (900)\ttotal: 1m 10s\tremaining: 2m 23s\n",
      "1200:\ttest: 0.7369140\tbest: 0.7369140 (1200)\ttotal: 1m 33s\tremaining: 1m 59s\n",
      "1500:\ttest: 0.7374425\tbest: 0.7374425 (1500)\ttotal: 1m 56s\tremaining: 1m 36s\n",
      "1800:\ttest: 0.7377710\tbest: 0.7377710 (1800)\ttotal: 2m 20s\tremaining: 1m 13s\n",
      "2100:\ttest: 0.7380353\tbest: 0.7380353 (2100)\ttotal: 2m 43s\tremaining: 49.8s\n",
      "2400:\ttest: 0.7382886\tbest: 0.7382886 (2400)\ttotal: 3m 7s\tremaining: 26.6s\n",
      "2700:\ttest: 0.7384169\tbest: 0.7384169 (2699)\ttotal: 3m 32s\tremaining: 3.22s\n"
     ]
    },
    {
     "name": "stderr",
     "output_type": "stream",
     "text": [
      "[I 2025-02-25 23:35:53,424] Trial 32 finished with value: 0.7384373908304105 and parameters: {'iterations': 2742, 'depth': 7, 'learning_rate': 0.00531307632259162, 'l2_leaf_reg': 36.547210165138424}. Best is trial 11 with value: 0.7392749579491091.\n"
     ]
    },
    {
     "name": "stdout",
     "output_type": "stream",
     "text": [
      "2741:\ttest: 0.7384374\tbest: 0.7384374 (2741)\ttotal: 3m 35s\tremaining: 0us\n",
      "\n",
      "bestTest = 0.7384373908\n",
      "bestIteration = 2741\n",
      "\n",
      "0:\ttest: 0.7054650\tbest: 0.7054650 (0)\ttotal: 78.5ms\tremaining: 3m 22s\n",
      "300:\ttest: 0.7366519\tbest: 0.7366519 (300)\ttotal: 20.6s\tremaining: 2m 35s\n",
      "600:\ttest: 0.7379941\tbest: 0.7379946 (592)\ttotal: 41.3s\tremaining: 2m 16s\n",
      "900:\ttest: 0.7384053\tbest: 0.7384053 (900)\ttotal: 1m 3s\tremaining: 1m 58s\n",
      "1200:\ttest: 0.7386841\tbest: 0.7386857 (1198)\ttotal: 1m 25s\tremaining: 1m 38s\n",
      "1500:\ttest: 0.7387971\tbest: 0.7388236 (1473)\ttotal: 1m 48s\tremaining: 1m 18s\n",
      "1800:\ttest: 0.7388866\tbest: 0.7388931 (1792)\ttotal: 2m 10s\tremaining: 56.8s\n",
      "2100:\ttest: 0.7388786\tbest: 0.7389072 (1844)\ttotal: 2m 32s\tremaining: 35.1s\n"
     ]
    },
    {
     "name": "stderr",
     "output_type": "stream",
     "text": [
      "[I 2025-02-25 23:38:29,969] Trial 33 finished with value: 0.7389071863796443 and parameters: {'iterations': 2584, 'depth': 6, 'learning_rate': 0.02651195490553083, 'l2_leaf_reg': 48.319919492026514}. Best is trial 11 with value: 0.7392749579491091.\n"
     ]
    },
    {
     "name": "stdout",
     "output_type": "stream",
     "text": [
      "Stopped by overfitting detector  (300 iterations wait)\n",
      "\n",
      "bestTest = 0.7389071864\n",
      "bestIteration = 1844\n",
      "\n",
      "Shrink model to first 1845 iterations.\n",
      "0:\ttest: 0.7053658\tbest: 0.7053658 (0)\ttotal: 75.8ms\tremaining: 3m 3s\n",
      "300:\ttest: 0.7356163\tbest: 0.7356172 (299)\ttotal: 20.4s\tremaining: 2m 23s\n",
      "600:\ttest: 0.7373374\tbest: 0.7373374 (600)\ttotal: 41.3s\tremaining: 2m 5s\n",
      "900:\ttest: 0.7382912\tbest: 0.7382912 (900)\ttotal: 1m 3s\tremaining: 1m 47s\n",
      "1200:\ttest: 0.7386681\tbest: 0.7386714 (1189)\ttotal: 1m 26s\tremaining: 1m 27s\n",
      "1500:\ttest: 0.7387622\tbest: 0.7387843 (1403)\ttotal: 1m 48s\tremaining: 1m 6s\n",
      "1800:\ttest: 0.7389274\tbest: 0.7389347 (1780)\ttotal: 2m 11s\tremaining: 45.5s\n",
      "2100:\ttest: 0.7389888\tbest: 0.7389998 (2052)\ttotal: 2m 34s\tremaining: 23.7s\n"
     ]
    },
    {
     "name": "stderr",
     "output_type": "stream",
     "text": [
      "[I 2025-02-25 23:41:24,283] Trial 34 finished with value: 0.7389997715628573 and parameters: {'iterations': 2423, 'depth': 6, 'learning_rate': 0.017400371021704095, 'l2_leaf_reg': 5.517643817261224}. Best is trial 11 with value: 0.7392749579491091.\n"
     ]
    },
    {
     "name": "stdout",
     "output_type": "stream",
     "text": [
      "Stopped by overfitting detector  (300 iterations wait)\n",
      "\n",
      "bestTest = 0.7389997716\n",
      "bestIteration = 2052\n",
      "\n",
      "Shrink model to first 2053 iterations.\n",
      "0:\ttest: 0.7169595\tbest: 0.7169595 (0)\ttotal: 89.9ms\tremaining: 4m 4s\n",
      "300:\ttest: 0.7375215\tbest: 0.7375261 (298)\ttotal: 24s\tremaining: 3m 12s\n",
      "600:\ttest: 0.7384753\tbest: 0.7384753 (600)\ttotal: 49.6s\tremaining: 2m 54s\n",
      "900:\ttest: 0.7387746\tbest: 0.7387902 (885)\ttotal: 1m 15s\tremaining: 2m 31s\n",
      "1200:\ttest: 0.7389180\tbest: 0.7389226 (1198)\ttotal: 1m 41s\tremaining: 2m 8s\n",
      "1500:\ttest: 0.7388368\tbest: 0.7389749 (1331)\ttotal: 2m 8s\tremaining: 1m 44s\n"
     ]
    },
    {
     "name": "stderr",
     "output_type": "stream",
     "text": [
      "[I 2025-02-25 23:43:44,981] Trial 35 finished with value: 0.7389749058733188 and parameters: {'iterations': 2715, 'depth': 7, 'learning_rate': 0.035664081066882465, 'l2_leaf_reg': 15.585198084428526}. Best is trial 11 with value: 0.7392749579491091.\n"
     ]
    },
    {
     "name": "stdout",
     "output_type": "stream",
     "text": [
      "Stopped by overfitting detector  (300 iterations wait)\n",
      "\n",
      "bestTest = 0.7389749059\n",
      "bestIteration = 1331\n",
      "\n",
      "Shrink model to first 1332 iterations.\n",
      "0:\ttest: 0.6979852\tbest: 0.6979852 (0)\ttotal: 64.4ms\tremaining: 3m 6s\n",
      "300:\ttest: 0.7375794\tbest: 0.7375868 (298)\ttotal: 17.6s\tremaining: 2m 32s\n",
      "600:\ttest: 0.7384312\tbest: 0.7384350 (589)\ttotal: 36.4s\tremaining: 2m 19s\n",
      "900:\ttest: 0.7387016\tbest: 0.7387194 (858)\ttotal: 55.1s\tremaining: 2m 2s\n",
      "1200:\ttest: 0.7389277\tbest: 0.7389286 (1149)\ttotal: 1m 14s\tremaining: 1m 44s\n",
      "1500:\ttest: 0.7389889\tbest: 0.7390232 (1444)\ttotal: 1m 33s\tremaining: 1m 26s\n"
     ]
    },
    {
     "name": "stderr",
     "output_type": "stream",
     "text": [
      "[I 2025-02-25 23:45:33,891] Trial 36 finished with value: 0.7390231521409478 and parameters: {'iterations': 2898, 'depth': 5, 'learning_rate': 0.04524838528104541, 'l2_leaf_reg': 95.2900181607703}. Best is trial 11 with value: 0.7392749579491091.\n"
     ]
    },
    {
     "name": "stdout",
     "output_type": "stream",
     "text": [
      "Stopped by overfitting detector  (300 iterations wait)\n",
      "\n",
      "bestTest = 0.7390231521\n",
      "bestIteration = 1444\n",
      "\n",
      "Shrink model to first 1445 iterations.\n",
      "0:\ttest: 0.6948811\tbest: 0.6948811 (0)\ttotal: 55.8ms\tremaining: 2m 5s\n",
      "300:\ttest: 0.7322580\tbest: 0.7322580 (300)\ttotal: 13.6s\tremaining: 1m 28s\n",
      "600:\ttest: 0.7353275\tbest: 0.7353275 (600)\ttotal: 27.9s\tremaining: 1m 16s\n",
      "900:\ttest: 0.7364639\tbest: 0.7364639 (900)\ttotal: 42.7s\tremaining: 1m 4s\n",
      "1200:\ttest: 0.7372882\tbest: 0.7372893 (1199)\ttotal: 58s\tremaining: 50.8s\n",
      "1500:\ttest: 0.7377007\tbest: 0.7377012 (1499)\ttotal: 1m 13s\tremaining: 36.8s\n",
      "1800:\ttest: 0.7380055\tbest: 0.7380055 (1800)\ttotal: 1m 28s\tremaining: 22.3s\n",
      "2100:\ttest: 0.7382429\tbest: 0.7382448 (2092)\ttotal: 1m 44s\tremaining: 7.57s\n"
     ]
    },
    {
     "name": "stderr",
     "output_type": "stream",
     "text": [
      "[I 2025-02-25 23:47:26,704] Trial 37 finished with value: 0.7383448175598561 and parameters: {'iterations': 2253, 'depth': 4, 'learning_rate': 0.012340032522724554, 'l2_leaf_reg': 1.5549888003879757}. Best is trial 11 with value: 0.7392749579491091.\n"
     ]
    },
    {
     "name": "stdout",
     "output_type": "stream",
     "text": [
      "2252:\ttest: 0.7383448\tbest: 0.7383448 (2251)\ttotal: 1m 52s\tremaining: 0us\n",
      "\n",
      "bestTest = 0.7383448176\n",
      "bestIteration = 2251\n",
      "\n",
      "Shrink model to first 2252 iterations.\n",
      "0:\ttest: 0.7053663\tbest: 0.7053663 (0)\ttotal: 78.6ms\tremaining: 2m 47s\n",
      "300:\ttest: 0.7366007\tbest: 0.7366007 (300)\ttotal: 21s\tremaining: 2m 8s\n",
      "600:\ttest: 0.7380254\tbest: 0.7380333 (599)\ttotal: 43.7s\tremaining: 1m 51s\n",
      "900:\ttest: 0.7386731\tbest: 0.7386731 (900)\ttotal: 1m 6s\tremaining: 1m 31s\n",
      "1200:\ttest: 0.7387506\tbest: 0.7388257 (1086)\ttotal: 1m 29s\tremaining: 1m 9s\n",
      "1500:\ttest: 0.7388819\tbest: 0.7389262 (1461)\ttotal: 1m 52s\tremaining: 47.4s\n"
     ]
    },
    {
     "name": "stderr",
     "output_type": "stream",
     "text": [
      "[I 2025-02-25 23:49:39,150] Trial 38 finished with value: 0.7389262426626362 and parameters: {'iterations': 2136, 'depth': 6, 'learning_rate': 0.02661048983392809, 'l2_leaf_reg': 0.623902015222415}. Best is trial 11 with value: 0.7392749579491091.\n"
     ]
    },
    {
     "name": "stdout",
     "output_type": "stream",
     "text": [
      "Stopped by overfitting detector  (300 iterations wait)\n",
      "\n",
      "bestTest = 0.7389262427\n",
      "bestIteration = 1461\n",
      "\n",
      "Shrink model to first 1462 iterations.\n",
      "0:\ttest: 0.7169222\tbest: 0.7169222 (0)\ttotal: 89.5ms\tremaining: 3m 45s\n",
      "300:\ttest: 0.7337534\tbest: 0.7337534 (300)\ttotal: 23.4s\tremaining: 2m 52s\n",
      "600:\ttest: 0.7362576\tbest: 0.7362576 (600)\ttotal: 47.4s\tremaining: 2m 31s\n",
      "900:\ttest: 0.7372157\tbest: 0.7372157 (900)\ttotal: 1m 10s\tremaining: 2m 7s\n",
      "1200:\ttest: 0.7377353\tbest: 0.7377353 (1199)\ttotal: 1m 33s\tremaining: 1m 43s\n",
      "1500:\ttest: 0.7381848\tbest: 0.7381848 (1500)\ttotal: 1m 57s\tremaining: 1m 19s\n",
      "1800:\ttest: 0.7384216\tbest: 0.7384228 (1796)\ttotal: 2m 23s\tremaining: 57.6s\n",
      "2100:\ttest: 0.7385971\tbest: 0.7385971 (2100)\ttotal: 2m 49s\tremaining: 34.1s\n",
      "2400:\ttest: 0.7387767\tbest: 0.7387767 (2400)\ttotal: 3m 15s\tremaining: 10s\n"
     ]
    },
    {
     "name": "stderr",
     "output_type": "stream",
     "text": [
      "[I 2025-02-25 23:53:05,848] Trial 39 finished with value: 0.7388528765687502 and parameters: {'iterations': 2524, 'depth': 7, 'learning_rate': 0.008789514020188564, 'l2_leaf_reg': 33.472265518098204}. Best is trial 11 with value: 0.7392749579491091.\n",
      "[I 2025-02-25 23:53:05,853] A new study created in memory with name: no-name-704fbe77-cf9e-41f8-af65-a6610c56b501\n"
     ]
    },
    {
     "name": "stdout",
     "output_type": "stream",
     "text": [
      "2523:\ttest: 0.7388529\tbest: 0.7388529 (2523)\ttotal: 3m 26s\tremaining: 0us\n",
      "\n",
      "bestTest = 0.7388528766\n",
      "bestIteration = 2523\n",
      "\n"
     ]
    },
    {
     "name": "stderr",
     "output_type": "stream",
     "text": [
      "[I 2025-02-25 23:53:29,007] Trial 0 finished with value: 0.7281304036812466 and parameters: {'num_iterations': 2366, 'objective': 'binary', 'metric': 'auc', 'verbose': -1, 'learning_rate': 0.0652646236447618, 'n_estimators': 236, 'min_child_samples': 45, 'subsample': 0.7, 'colsample_bytree': 0.5}. Best is trial 0 with value: 0.7281304036812466.\n",
      "[I 2025-02-25 23:53:46,003] Trial 1 finished with value: 0.7382813151473521 and parameters: {'num_iterations': 1510, 'objective': 'binary', 'metric': 'auc', 'verbose': -1, 'learning_rate': 0.005231880959249543, 'n_estimators': 1411, 'min_child_samples': 10, 'subsample': 1.0, 'colsample_bytree': 0.5}. Best is trial 1 with value: 0.7382813151473521.\n",
      "[I 2025-02-25 23:54:05,331] Trial 2 finished with value: 0.7376169977946333 and parameters: {'num_iterations': 2334, 'objective': 'binary', 'metric': 'auc', 'verbose': -1, 'learning_rate': 0.006578527777128852, 'n_estimators': 931, 'min_child_samples': 15, 'subsample': 0.5, 'colsample_bytree': 1.0}. Best is trial 1 with value: 0.7382813151473521.\n",
      "[I 2025-02-25 23:54:21,703] Trial 3 finished with value: 0.7384757257660228 and parameters: {'num_iterations': 1620, 'objective': 'binary', 'metric': 'auc', 'verbose': -1, 'learning_rate': 0.0058823249237283685, 'n_estimators': 837, 'min_child_samples': 10, 'subsample': 0.9, 'colsample_bytree': 0.6}. Best is trial 3 with value: 0.7384757257660228.\n",
      "[I 2025-02-25 23:54:37,852] Trial 4 finished with value: 0.7378601748670285 and parameters: {'num_iterations': 1997, 'objective': 'binary', 'metric': 'auc', 'verbose': -1, 'learning_rate': 0.010907507425244923, 'n_estimators': 1597, 'min_child_samples': 50, 'subsample': 0.6, 'colsample_bytree': 0.8}. Best is trial 3 with value: 0.7384757257660228.\n",
      "[I 2025-02-25 23:55:00,060] Trial 5 finished with value: 0.7339805753458348 and parameters: {'num_iterations': 2909, 'objective': 'binary', 'metric': 'auc', 'verbose': -1, 'learning_rate': 0.019760591962733942, 'n_estimators': 612, 'min_child_samples': 30, 'subsample': 0.7, 'colsample_bytree': 0.9}. Best is trial 3 with value: 0.7384757257660228.\n",
      "[I 2025-02-25 23:55:20,316] Trial 6 finished with value: 0.7351484765186725 and parameters: {'num_iterations': 2639, 'objective': 'binary', 'metric': 'auc', 'verbose': -1, 'learning_rate': 0.017862094446750985, 'n_estimators': 794, 'min_child_samples': 35, 'subsample': 1.0, 'colsample_bytree': 0.8}. Best is trial 3 with value: 0.7384757257660228.\n",
      "[I 2025-02-25 23:55:36,692] Trial 7 finished with value: 0.7376642394280475 and parameters: {'num_iterations': 1580, 'objective': 'binary', 'metric': 'auc', 'verbose': -1, 'learning_rate': 0.01776722177611332, 'n_estimators': 529, 'min_child_samples': 25, 'subsample': 0.8, 'colsample_bytree': 0.5}. Best is trial 3 with value: 0.7384757257660228.\n",
      "[I 2025-02-25 23:55:54,040] Trial 8 finished with value: 0.7341803625444536 and parameters: {'num_iterations': 1911, 'objective': 'binary', 'metric': 'auc', 'verbose': -1, 'learning_rate': 0.0304747553332844, 'n_estimators': 1328, 'min_child_samples': 10, 'subsample': 0.7, 'colsample_bytree': 0.6}. Best is trial 3 with value: 0.7384757257660228.\n",
      "[I 2025-02-25 23:56:21,224] Trial 9 finished with value: 0.7329656724192313 and parameters: {'num_iterations': 2739, 'objective': 'binary', 'metric': 'auc', 'verbose': -1, 'learning_rate': 0.02691531614176271, 'n_estimators': 1438, 'min_child_samples': 20, 'subsample': 0.6, 'colsample_bytree': 0.5}. Best is trial 3 with value: 0.7384757257660228.\n",
      "[I 2025-02-25 23:56:35,513] Trial 10 finished with value: 0.7276589443306847 and parameters: {'num_iterations': 1883, 'objective': 'binary', 'metric': 'auc', 'verbose': -1, 'learning_rate': 0.08223556891145911, 'n_estimators': 1917, 'min_child_samples': 40, 'subsample': 0.9, 'colsample_bytree': 0.7}. Best is trial 3 with value: 0.7384757257660228.\n",
      "[I 2025-02-25 23:56:50,923] Trial 11 finished with value: 0.7384994121023527 and parameters: {'num_iterations': 1513, 'objective': 'binary', 'metric': 'auc', 'verbose': -1, 'learning_rate': 0.005340229419903739, 'n_estimators': 1206, 'min_child_samples': 10, 'subsample': 1.0, 'colsample_bytree': 0.6}. Best is trial 11 with value: 0.7384994121023527.\n",
      "[I 2025-02-25 23:57:05,609] Trial 12 finished with value: 0.7383909076362651 and parameters: {'num_iterations': 1717, 'objective': 'binary', 'metric': 'auc', 'verbose': -1, 'learning_rate': 0.008807202863131344, 'n_estimators': 1093, 'min_child_samples': 20, 'subsample': 0.9, 'colsample_bytree': 0.7}. Best is trial 11 with value: 0.7384994121023527.\n",
      "[I 2025-02-25 23:57:25,333] Trial 13 finished with value: 0.7374475997882914 and parameters: {'num_iterations': 2084, 'objective': 'binary', 'metric': 'auc', 'verbose': -1, 'learning_rate': 0.010947685715514379, 'n_estimators': 1108, 'min_child_samples': 10, 'subsample': 0.9, 'colsample_bytree': 0.6}. Best is trial 11 with value: 0.7384994121023527.\n",
      "[I 2025-02-25 23:57:43,066] Trial 14 finished with value: 0.7384931976654111 and parameters: {'num_iterations': 1759, 'objective': 'binary', 'metric': 'auc', 'verbose': -1, 'learning_rate': 0.00514593053258222, 'n_estimators': 172, 'min_child_samples': 20, 'subsample': 1.0, 'colsample_bytree': 0.6}. Best is trial 11 with value: 0.7384994121023527.\n",
      "[I 2025-02-25 23:57:58,051] Trial 15 finished with value: 0.738365942674571 and parameters: {'num_iterations': 1756, 'objective': 'binary', 'metric': 'auc', 'verbose': -1, 'learning_rate': 0.008303365162986591, 'n_estimators': 208, 'min_child_samples': 20, 'subsample': 1.0, 'colsample_bytree': 0.7}. Best is trial 11 with value: 0.7384994121023527.\n",
      "[I 2025-02-25 23:58:17,366] Trial 16 finished with value: 0.7325054784728886 and parameters: {'num_iterations': 2163, 'objective': 'binary', 'metric': 'auc', 'verbose': -1, 'learning_rate': 0.03901437770924474, 'n_estimators': 463, 'min_child_samples': 25, 'subsample': 0.8, 'colsample_bytree': 0.6}. Best is trial 11 with value: 0.7384994121023527.\n",
      "[I 2025-02-25 23:58:34,075] Trial 17 finished with value: 0.7374960406293455 and parameters: {'num_iterations': 1770, 'objective': 'binary', 'metric': 'auc', 'verbose': -1, 'learning_rate': 0.014107419975913894, 'n_estimators': 1873, 'min_child_samples': 15, 'subsample': 1.0, 'colsample_bytree': 0.6}. Best is trial 11 with value: 0.7384994121023527.\n",
      "[I 2025-02-25 23:58:54,374] Trial 18 finished with value: 0.7382205169083671 and parameters: {'num_iterations': 2434, 'objective': 'binary', 'metric': 'auc', 'verbose': -1, 'learning_rate': 0.007395766065557996, 'n_estimators': 126, 'min_child_samples': 30, 'subsample': 0.8, 'colsample_bytree': 0.7}. Best is trial 11 with value: 0.7384994121023527.\n",
      "[I 2025-02-25 23:59:07,938] Trial 19 finished with value: 0.7381869549779967 and parameters: {'num_iterations': 1527, 'objective': 'binary', 'metric': 'auc', 'verbose': -1, 'learning_rate': 0.005234790012397332, 'n_estimators': 1670, 'min_child_samples': 15, 'subsample': 1.0, 'colsample_bytree': 0.8}. Best is trial 11 with value: 0.7384994121023527.\n",
      "[I 2025-02-25 23:59:22,940] Trial 20 finished with value: 0.7374292185559577 and parameters: {'num_iterations': 1873, 'objective': 'binary', 'metric': 'auc', 'verbose': -1, 'learning_rate': 0.012796480593590575, 'n_estimators': 1257, 'min_child_samples': 25, 'subsample': 0.9, 'colsample_bytree': 0.9}. Best is trial 11 with value: 0.7384994121023527.\n",
      "[I 2025-02-25 23:59:39,704] Trial 21 finished with value: 0.7384866854120028 and parameters: {'num_iterations': 1655, 'objective': 'binary', 'metric': 'auc', 'verbose': -1, 'learning_rate': 0.005153550511409945, 'n_estimators': 864, 'min_child_samples': 10, 'subsample': 0.9, 'colsample_bytree': 0.6}. Best is trial 11 with value: 0.7384994121023527.\n",
      "[I 2025-02-25 23:59:56,683] Trial 22 finished with value: 0.7383981862707149 and parameters: {'num_iterations': 1668, 'objective': 'binary', 'metric': 'auc', 'verbose': -1, 'learning_rate': 0.005003585055247969, 'n_estimators': 369, 'min_child_samples': 15, 'subsample': 1.0, 'colsample_bytree': 0.6}. Best is trial 11 with value: 0.7384994121023527.\n",
      "[I 2025-02-26 00:00:15,981] Trial 23 finished with value: 0.7385525941815589 and parameters: {'num_iterations': 1787, 'objective': 'binary', 'metric': 'auc', 'verbose': -1, 'learning_rate': 0.007594680866521767, 'n_estimators': 667, 'min_child_samples': 20, 'subsample': 0.9, 'colsample_bytree': 0.5}. Best is trial 23 with value: 0.7385525941815589.\n",
      "[I 2025-02-26 00:00:37,343] Trial 24 finished with value: 0.7381746968522213 and parameters: {'num_iterations': 2025, 'objective': 'binary', 'metric': 'auc', 'verbose': -1, 'learning_rate': 0.00889838076045006, 'n_estimators': 685, 'min_child_samples': 20, 'subsample': 1.0, 'colsample_bytree': 0.5}. Best is trial 23 with value: 0.7385525941815589.\n",
      "[I 2025-02-26 00:00:57,162] Trial 25 finished with value: 0.738488015658888 and parameters: {'num_iterations': 1833, 'objective': 'binary', 'metric': 'auc', 'verbose': -1, 'learning_rate': 0.007056371050335334, 'n_estimators': 406, 'min_child_samples': 35, 'subsample': 0.9, 'colsample_bytree': 0.5}. Best is trial 23 with value: 0.7385525941815589.\n",
      "[I 2025-02-26 00:01:15,265] Trial 26 finished with value: 0.7379559089630177 and parameters: {'num_iterations': 2200, 'objective': 'binary', 'metric': 'auc', 'verbose': -1, 'learning_rate': 0.010459045798601177, 'n_estimators': 1194, 'min_child_samples': 25, 'subsample': 0.8, 'colsample_bytree': 0.7}. Best is trial 23 with value: 0.7385525941815589.\n",
      "[I 2025-02-26 00:01:34,539] Trial 27 finished with value: 0.7385700025467676 and parameters: {'num_iterations': 1970, 'objective': 'binary', 'metric': 'auc', 'verbose': -1, 'learning_rate': 0.006939010340495377, 'n_estimators': 963, 'min_child_samples': 15, 'subsample': 1.0, 'colsample_bytree': 0.6}. Best is trial 27 with value: 0.7385700025467676.\n",
      "[I 2025-02-26 00:01:54,956] Trial 28 finished with value: 0.73721926985949 and parameters: {'num_iterations': 1975, 'objective': 'binary', 'metric': 'auc', 'verbose': -1, 'learning_rate': 0.014320942887614386, 'n_estimators': 1016, 'min_child_samples': 15, 'subsample': 0.9, 'colsample_bytree': 0.5}. Best is trial 27 with value: 0.7385700025467676.\n",
      "[I 2025-02-26 00:02:15,742] Trial 29 finished with value: 0.7306878489833213 and parameters: {'num_iterations': 2105, 'objective': 'binary', 'metric': 'auc', 'verbose': -1, 'learning_rate': 0.04847094987314435, 'n_estimators': 713, 'min_child_samples': 15, 'subsample': 1.0, 'colsample_bytree': 0.5}. Best is trial 27 with value: 0.7385700025467676.\n",
      "[I 2025-02-26 00:02:41,906] Trial 30 finished with value: 0.7382496592423695 and parameters: {'num_iterations': 2462, 'objective': 'binary', 'metric': 'auc', 'verbose': -1, 'learning_rate': 0.006702909019601912, 'n_estimators': 934, 'min_child_samples': 10, 'subsample': 0.8, 'colsample_bytree': 0.5}. Best is trial 27 with value: 0.7385700025467676.\n",
      "[I 2025-02-26 00:02:59,162] Trial 31 finished with value: 0.7385976716819806 and parameters: {'num_iterations': 1739, 'objective': 'binary', 'metric': 'auc', 'verbose': -1, 'learning_rate': 0.00640353756159615, 'n_estimators': 353, 'min_child_samples': 20, 'subsample': 1.0, 'colsample_bytree': 0.6}. Best is trial 31 with value: 0.7385976716819806.\n",
      "[I 2025-02-26 00:03:13,934] Trial 32 finished with value: 0.7386075750722249 and parameters: {'num_iterations': 1500, 'objective': 'binary', 'metric': 'auc', 'verbose': -1, 'learning_rate': 0.008388289257630596, 'n_estimators': 321, 'min_child_samples': 20, 'subsample': 1.0, 'colsample_bytree': 0.6}. Best is trial 32 with value: 0.7386075750722249.\n",
      "[I 2025-02-26 00:03:33,301] Trial 33 finished with value: 0.7384997734529991 and parameters: {'num_iterations': 1806, 'objective': 'binary', 'metric': 'auc', 'verbose': -1, 'learning_rate': 0.008132714534146334, 'n_estimators': 332, 'min_child_samples': 25, 'subsample': 1.0, 'colsample_bytree': 0.5}. Best is trial 32 with value: 0.7386075750722249.\n",
      "[I 2025-02-26 00:03:49,035] Trial 34 finished with value: 0.7383264283857499 and parameters: {'num_iterations': 1629, 'objective': 'binary', 'metric': 'auc', 'verbose': -1, 'learning_rate': 0.010053001879805082, 'n_estimators': 556, 'min_child_samples': 20, 'subsample': 0.9, 'colsample_bytree': 0.6}. Best is trial 32 with value: 0.7386075750722249.\n",
      "[I 2025-02-26 00:04:08,490] Trial 35 finished with value: 0.7386121336496108 and parameters: {'num_iterations': 2290, 'objective': 'binary', 'metric': 'auc', 'verbose': -1, 'learning_rate': 0.0064107476276153, 'n_estimators': 329, 'min_child_samples': 30, 'subsample': 1.0, 'colsample_bytree': 0.7}. Best is trial 35 with value: 0.7386121336496108.\n",
      "[I 2025-02-26 00:04:27,719] Trial 36 finished with value: 0.7386200952764911 and parameters: {'num_iterations': 2259, 'objective': 'binary', 'metric': 'auc', 'verbose': -1, 'learning_rate': 0.006274815484202349, 'n_estimators': 239, 'min_child_samples': 35, 'subsample': 0.5, 'colsample_bytree': 0.7}. Best is trial 36 with value: 0.7386200952764911.\n",
      "[I 2025-02-26 00:04:47,521] Trial 37 finished with value: 0.7387067678101157 and parameters: {'num_iterations': 2298, 'objective': 'binary', 'metric': 'auc', 'verbose': -1, 'learning_rate': 0.006260726810718238, 'n_estimators': 287, 'min_child_samples': 35, 'subsample': 0.6, 'colsample_bytree': 0.7}. Best is trial 37 with value: 0.7387067678101157.\n",
      "[I 2025-02-26 00:05:06,878] Trial 38 finished with value: 0.7381470396296669 and parameters: {'num_iterations': 2313, 'objective': 'binary', 'metric': 'auc', 'verbose': -1, 'learning_rate': 0.006035689007088896, 'n_estimators': 296, 'min_child_samples': 40, 'subsample': 0.5, 'colsample_bytree': 0.8}. Best is trial 37 with value: 0.7387067678101157.\n",
      "[I 2025-02-26 00:05:27,705] Trial 39 finished with value: 0.737202703322161 and parameters: {'num_iterations': 2590, 'objective': 'binary', 'metric': 'auc', 'verbose': -1, 'learning_rate': 0.012084878317988958, 'n_estimators': 263, 'min_child_samples': 35, 'subsample': 0.6, 'colsample_bytree': 0.7}. Best is trial 37 with value: 0.7387067678101157.\n"
     ]
    },
    {
     "name": "stdout",
     "output_type": "stream",
     "text": [
      "Cat val score : 0.739274957949109\n",
      "LGBM val score : 0.7383497057207986\n",
      "Ensemble val score : 0.739282240554445\n"
     ]
    },
    {
     "name": "stderr",
     "output_type": "stream",
     "text": [
      "[I 2025-02-26 00:05:48,882] A new study created in memory with name: no-name-a52537ac-5955-4a70-bdee-2f15e2a1d3e3\n"
     ]
    },
    {
     "name": "stdout",
     "output_type": "stream",
     "text": [
      "==================================================\n",
      "0:\ttest: 0.7229034\tbest: 0.7229034 (0)\ttotal: 140ms\tremaining: 5m 30s\n",
      "300:\ttest: 0.7361017\tbest: 0.7361017 (300)\ttotal: 40.1s\tremaining: 4m 35s\n",
      "600:\ttest: 0.7370752\tbest: 0.7370800 (593)\ttotal: 1m 20s\tremaining: 3m 57s\n",
      "900:\ttest: 0.7373109\tbest: 0.7373181 (898)\ttotal: 2m 1s\tremaining: 3m 17s\n",
      "1200:\ttest: 0.7374988\tbest: 0.7375087 (1118)\ttotal: 2m 47s\tremaining: 2m 42s\n",
      "1500:\ttest: 0.7373949\tbest: 0.7375150 (1376)\ttotal: 3m 39s\tremaining: 2m 6s\n"
     ]
    },
    {
     "name": "stderr",
     "output_type": "stream",
     "text": [
      "[I 2025-02-26 00:10:00,114] Trial 0 finished with value: 0.737515001611068 and parameters: {'iterations': 2366, 'depth': 10, 'learning_rate': 0.01181021951839225, 'l2_leaf_reg': 9.980783802743254}. Best is trial 0 with value: 0.737515001611068.\n"
     ]
    },
    {
     "name": "stdout",
     "output_type": "stream",
     "text": [
      "Stopped by overfitting detector  (300 iterations wait)\n",
      "\n",
      "bestTest = 0.7375150016\n",
      "bestIteration = 1376\n",
      "\n",
      "Shrink model to first 1377 iterations.\n",
      "저장 완료\n",
      "0:\ttest: 0.6968205\tbest: 0.6968205 (0)\ttotal: 62ms\tremaining: 2m 15s\n",
      "300:\ttest: 0.7293040\tbest: 0.7293040 (300)\ttotal: 13.8s\tremaining: 1m 26s\n",
      "600:\ttest: 0.7330265\tbest: 0.7330265 (600)\ttotal: 27.9s\tremaining: 1m 13s\n",
      "900:\ttest: 0.7343388\tbest: 0.7343388 (900)\ttotal: 42.1s\tremaining: 1m\n",
      "1200:\ttest: 0.7351302\tbest: 0.7351302 (1200)\ttotal: 56.4s\tremaining: 46.6s\n",
      "1500:\ttest: 0.7356687\tbest: 0.7356687 (1500)\ttotal: 1m 10s\tremaining: 32.7s\n",
      "1800:\ttest: 0.7360077\tbest: 0.7360077 (1800)\ttotal: 1m 25s\tremaining: 18.6s\n",
      "2100:\ttest: 0.7363560\tbest: 0.7363569 (2099)\ttotal: 1m 40s\tremaining: 4.39s\n"
     ]
    },
    {
     "name": "stderr",
     "output_type": "stream",
     "text": [
      "[I 2025-02-26 00:11:45,373] Trial 1 finished with value: 0.7364647816223828 and parameters: {'iterations': 2193, 'depth': 4, 'learning_rate': 0.005671430811678843, 'l2_leaf_reg': 0.00012325230809466137}. Best is trial 0 with value: 0.737515001611068.\n"
     ]
    },
    {
     "name": "stdout",
     "output_type": "stream",
     "text": [
      "2192:\ttest: 0.7364648\tbest: 0.7364648 (2192)\ttotal: 1m 44s\tremaining: 0us\n",
      "\n",
      "bestTest = 0.7364647816\n",
      "bestIteration = 2192\n",
      "\n",
      "0:\ttest: 0.6968205\tbest: 0.6968205 (0)\ttotal: 55.9ms\tremaining: 2m 21s\n",
      "300:\ttest: 0.7380266\tbest: 0.7381880 (276)\ttotal: 15.2s\tremaining: 1m 52s\n"
     ]
    },
    {
     "name": "stderr",
     "output_type": "stream",
     "text": [
      "[I 2025-02-26 00:12:15,250] Trial 2 finished with value: 0.7381880191755048 and parameters: {'iterations': 2535, 'depth': 4, 'learning_rate': 0.09275339199839054, 'l2_leaf_reg': 0.0008705394248343123}. Best is trial 2 with value: 0.7381880191755048.\n"
     ]
    },
    {
     "name": "stdout",
     "output_type": "stream",
     "text": [
      "Stopped by overfitting detector  (300 iterations wait)\n",
      "\n",
      "bestTest = 0.7381880192\n",
      "bestIteration = 276\n",
      "\n",
      "Shrink model to first 277 iterations.\n",
      "저장 완료\n",
      "0:\ttest: 0.6968205\tbest: 0.6968205 (0)\ttotal: 53.4ms\tremaining: 2m 4s\n",
      "300:\ttest: 0.7370249\tbest: 0.7370264 (299)\ttotal: 14.9s\tremaining: 1m 40s\n",
      "600:\ttest: 0.7380545\tbest: 0.7380677 (594)\ttotal: 30.2s\tremaining: 1m 27s\n",
      "900:\ttest: 0.7380051\tbest: 0.7382473 (751)\ttotal: 45.9s\tremaining: 1m 13s\n"
     ]
    },
    {
     "name": "stderr",
     "output_type": "stream",
     "text": [
      "[I 2025-02-26 00:13:09,210] Trial 3 finished with value: 0.7382473481865868 and parameters: {'iterations': 2334, 'depth': 4, 'learning_rate': 0.04657568321363276, 'l2_leaf_reg': 0.0008640473331457248}. Best is trial 3 with value: 0.7382473481865868.\n"
     ]
    },
    {
     "name": "stdout",
     "output_type": "stream",
     "text": [
      "Stopped by overfitting detector  (300 iterations wait)\n",
      "\n",
      "bestTest = 0.7382473482\n",
      "bestIteration = 751\n",
      "\n",
      "Shrink model to first 752 iterations.\n",
      "저장 완료\n",
      "0:\ttest: 0.7228640\tbest: 0.7228640 (0)\ttotal: 131ms\tremaining: 3m 48s\n",
      "300:\ttest: 0.7355607\tbest: 0.7355792 (298)\ttotal: 39.3s\tremaining: 3m 8s\n"
     ]
    },
    {
     "name": "stderr",
     "output_type": "stream",
     "text": [
      "[I 2025-02-26 00:14:31,115] Trial 4 finished with value: 0.7355791707512527 and parameters: {'iterations': 1742, 'depth': 10, 'learning_rate': 0.012622767482095846, 'l2_leaf_reg': 0.00021158816350109617}. Best is trial 3 with value: 0.7382473481865868.\n"
     ]
    },
    {
     "name": "stdout",
     "output_type": "stream",
     "text": [
      "Stopped by overfitting detector  (300 iterations wait)\n",
      "\n",
      "bestTest = 0.7355791708\n",
      "bestIteration = 298\n",
      "\n",
      "Shrink model to first 299 iterations.\n",
      "0:\ttest: 0.6968205\tbest: 0.6968205 (0)\ttotal: 56.1ms\tremaining: 1m 56s\n",
      "300:\ttest: 0.7374905\tbest: 0.7375008 (299)\ttotal: 14.8s\tremaining: 1m 27s\n",
      "600:\ttest: 0.7378925\tbest: 0.7379534 (549)\ttotal: 30.4s\tremaining: 1m 14s\n"
     ]
    },
    {
     "name": "stderr",
     "output_type": "stream",
     "text": [
      "[I 2025-02-26 00:15:15,399] Trial 5 finished with value: 0.7379533636249477 and parameters: {'iterations': 2082, 'depth': 4, 'learning_rate': 0.06995196593094148, 'l2_leaf_reg': 0.0018080296485396804}. Best is trial 3 with value: 0.7382473481865868.\n"
     ]
    },
    {
     "name": "stdout",
     "output_type": "stream",
     "text": [
      "Stopped by overfitting detector  (300 iterations wait)\n",
      "\n",
      "bestTest = 0.7379533636\n",
      "bestIteration = 549\n",
      "\n",
      "Shrink model to first 550 iterations.\n",
      "0:\ttest: 0.7019941\tbest: 0.7019941 (0)\ttotal: 66.8ms\tremaining: 2m 13s\n",
      "300:\ttest: 0.7378740\tbest: 0.7378768 (297)\ttotal: 18.6s\tremaining: 1m 44s\n",
      "600:\ttest: 0.7379870\tbest: 0.7379949 (591)\ttotal: 39.5s\tremaining: 1m 31s\n",
      "900:\ttest: 0.7380508\tbest: 0.7380821 (831)\ttotal: 58.4s\tremaining: 1m 11s\n",
      "1200:\ttest: 0.7381346\tbest: 0.7382004 (1082)\ttotal: 1m 17s\tremaining: 51.5s\n"
     ]
    },
    {
     "name": "stderr",
     "output_type": "stream",
     "text": [
      "[I 2025-02-26 00:16:44,987] Trial 6 finished with value: 0.7382004480493879 and parameters: {'iterations': 1997, 'depth': 5, 'learning_rate': 0.07985155992831598, 'l2_leaf_reg': 62.52181000710482}. Best is trial 3 with value: 0.7382473481865868.\n"
     ]
    },
    {
     "name": "stdout",
     "output_type": "stream",
     "text": [
      "Stopped by overfitting detector  (300 iterations wait)\n",
      "\n",
      "bestTest = 0.738200448\n",
      "bestIteration = 1082\n",
      "\n",
      "Shrink model to first 1083 iterations.\n",
      "0:\ttest: 0.7198577\tbest: 0.7198577 (0)\ttotal: 94.5ms\tremaining: 3m 1s\n",
      "300:\ttest: 0.7372500\tbest: 0.7377282 (163)\ttotal: 24.9s\tremaining: 2m 14s\n"
     ]
    },
    {
     "name": "stderr",
     "output_type": "stream",
     "text": [
      "[I 2025-02-26 00:17:24,433] Trial 7 finished with value: 0.7377282342304434 and parameters: {'iterations': 1927, 'depth': 7, 'learning_rate': 0.0941937211034094, 'l2_leaf_reg': 0.05654822767791934}. Best is trial 3 with value: 0.7382473481865868.\n"
     ]
    },
    {
     "name": "stdout",
     "output_type": "stream",
     "text": [
      "Stopped by overfitting detector  (300 iterations wait)\n",
      "\n",
      "bestTest = 0.7377282342\n",
      "bestIteration = 163\n",
      "\n",
      "Shrink model to first 164 iterations.\n",
      "0:\ttest: 0.7198577\tbest: 0.7198577 (0)\ttotal: 92.9ms\tremaining: 2m 56s\n",
      "300:\ttest: 0.7378206\tbest: 0.7379001 (279)\ttotal: 24.9s\tremaining: 2m 12s\n",
      "600:\ttest: 0.7375819\tbest: 0.7380094 (378)\ttotal: 51.6s\tremaining: 1m 51s\n"
     ]
    },
    {
     "name": "stderr",
     "output_type": "stream",
     "text": [
      "[I 2025-02-26 00:18:23,229] Trial 8 finished with value: 0.7380093531207147 and parameters: {'iterations': 1904, 'depth': 7, 'learning_rate': 0.05155602859187331, 'l2_leaf_reg': 1.299974533316308}. Best is trial 3 with value: 0.7382473481865868.\n"
     ]
    },
    {
     "name": "stdout",
     "output_type": "stream",
     "text": [
      "Stopped by overfitting detector  (300 iterations wait)\n",
      "\n",
      "bestTest = 0.7380093531\n",
      "bestIteration = 378\n",
      "\n",
      "Shrink model to first 379 iterations.\n",
      "0:\ttest: 0.7041607\tbest: 0.7041607 (0)\ttotal: 79ms\tremaining: 3m 28s\n",
      "300:\ttest: 0.7371626\tbest: 0.7371626 (300)\ttotal: 21.3s\tremaining: 2m 45s\n",
      "600:\ttest: 0.7378658\tbest: 0.7379003 (530)\ttotal: 44s\tremaining: 2m 29s\n"
     ]
    },
    {
     "name": "stderr",
     "output_type": "stream",
     "text": [
      "[I 2025-02-26 00:19:25,155] Trial 9 finished with value: 0.7379003086141007 and parameters: {'iterations': 2639, 'depth': 6, 'learning_rate': 0.03968704290444751, 'l2_leaf_reg': 0.30557194377967184}. Best is trial 3 with value: 0.7382473481865868.\n"
     ]
    },
    {
     "name": "stdout",
     "output_type": "stream",
     "text": [
      "Stopped by overfitting detector  (300 iterations wait)\n",
      "\n",
      "bestTest = 0.7379003086\n",
      "bestIteration = 530\n",
      "\n",
      "Shrink model to first 531 iterations.\n",
      "0:\ttest: 0.7211869\tbest: 0.7211869 (0)\ttotal: 116ms\tremaining: 5m 40s\n",
      "300:\ttest: 0.7367800\tbest: 0.7367881 (296)\ttotal: 31s\tremaining: 4m 31s\n",
      "600:\ttest: 0.7363574\tbest: 0.7370000 (393)\ttotal: 1m 5s\tremaining: 4m 14s\n"
     ]
    },
    {
     "name": "stderr",
     "output_type": "stream",
     "text": [
      "[I 2025-02-26 00:20:42,022] Trial 10 finished with value: 0.7369999697259635 and parameters: {'iterations': 2945, 'depth': 9, 'learning_rate': 0.03382272640596765, 'l2_leaf_reg': 0.017110106201165813}. Best is trial 3 with value: 0.7382473481865868.\n"
     ]
    },
    {
     "name": "stdout",
     "output_type": "stream",
     "text": [
      "Stopped by overfitting detector  (300 iterations wait)\n",
      "\n",
      "bestTest = 0.7369999697\n",
      "bestIteration = 393\n",
      "\n",
      "Shrink model to first 394 iterations.\n",
      "0:\ttest: 0.7019941\tbest: 0.7019941 (0)\ttotal: 84.2ms\tremaining: 2m 21s\n",
      "300:\ttest: 0.7376655\tbest: 0.7376655 (300)\ttotal: 18.3s\tremaining: 1m 24s\n",
      "600:\ttest: 0.7381869\tbest: 0.7381882 (592)\ttotal: 37s\tremaining: 1m 6s\n",
      "900:\ttest: 0.7383014\tbest: 0.7383598 (798)\ttotal: 55.8s\tremaining: 48.5s\n",
      "1200:\ttest: 0.7382676\tbest: 0.7383796 (941)\ttotal: 1m 14s\tremaining: 30.1s\n"
     ]
    },
    {
     "name": "stderr",
     "output_type": "stream",
     "text": [
      "[I 2025-02-26 00:21:59,536] Trial 11 finished with value: 0.7383795707560938 and parameters: {'iterations': 1685, 'depth': 5, 'learning_rate': 0.07434544215868405, 'l2_leaf_reg': 73.1213351392818}. Best is trial 11 with value: 0.7383795707560938.\n"
     ]
    },
    {
     "name": "stdout",
     "output_type": "stream",
     "text": [
      "Stopped by overfitting detector  (300 iterations wait)\n",
      "\n",
      "bestTest = 0.7383795708\n",
      "bestIteration = 941\n",
      "\n",
      "Shrink model to first 942 iterations.\n",
      "저장 완료\n",
      "0:\ttest: 0.7019941\tbest: 0.7019941 (0)\ttotal: 65.1ms\tremaining: 1m 42s\n",
      "300:\ttest: 0.7377113\tbest: 0.7377312 (297)\ttotal: 18s\tremaining: 1m 16s\n",
      "600:\ttest: 0.7377846\tbest: 0.7380401 (492)\ttotal: 37.1s\tremaining: 1m\n"
     ]
    },
    {
     "name": "stderr",
     "output_type": "stream",
     "text": [
      "[I 2025-02-26 00:22:49,257] Trial 12 finished with value: 0.7380401076345243 and parameters: {'iterations': 1575, 'depth': 5, 'learning_rate': 0.06291605319952949, 'l2_leaf_reg': 0.007618883283589744}. Best is trial 11 with value: 0.7383795707560938.\n"
     ]
    },
    {
     "name": "stdout",
     "output_type": "stream",
     "text": [
      "Stopped by overfitting detector  (300 iterations wait)\n",
      "\n",
      "bestTest = 0.7380401076\n",
      "bestIteration = 492\n",
      "\n",
      "Shrink model to first 493 iterations.\n",
      "0:\ttest: 0.7041607\tbest: 0.7041607 (0)\ttotal: 78ms\tremaining: 3m 5s\n",
      "300:\ttest: 0.7377573\tbest: 0.7377637 (298)\ttotal: 21.3s\tremaining: 2m 27s\n",
      "600:\ttest: 0.7380624\tbest: 0.7380678 (598)\ttotal: 44.3s\tremaining: 2m 10s\n",
      "900:\ttest: 0.7380366\tbest: 0.7381487 (776)\ttotal: 1m 7s\tremaining: 1m 49s\n"
     ]
    },
    {
     "name": "stderr",
     "output_type": "stream",
     "text": [
      "[I 2025-02-26 00:24:10,234] Trial 13 finished with value: 0.7381487351980849 and parameters: {'iterations': 2375, 'depth': 6, 'learning_rate': 0.04770713186844759, 'l2_leaf_reg': 2.4019678747564157}. Best is trial 11 with value: 0.7383795707560938.\n"
     ]
    },
    {
     "name": "stdout",
     "output_type": "stream",
     "text": [
      "Stopped by overfitting detector  (300 iterations wait)\n",
      "\n",
      "bestTest = 0.7381487352\n",
      "bestIteration = 776\n",
      "\n",
      "Shrink model to first 777 iterations.\n",
      "0:\ttest: 0.7019941\tbest: 0.7019941 (0)\ttotal: 81.1ms\tremaining: 2m 4s\n",
      "300:\ttest: 0.7360705\tbest: 0.7360705 (300)\ttotal: 17.8s\tremaining: 1m 12s\n",
      "600:\ttest: 0.7371970\tbest: 0.7371970 (600)\ttotal: 35.8s\tremaining: 55.5s\n",
      "900:\ttest: 0.7375813\tbest: 0.7375904 (894)\ttotal: 54s\tremaining: 37.9s\n",
      "1200:\ttest: 0.7378677\tbest: 0.7378731 (1190)\ttotal: 1m 12s\tremaining: 20.1s\n",
      "1500:\ttest: 0.7379742\tbest: 0.7379799 (1476)\ttotal: 1m 31s\tremaining: 1.95s\n"
     ]
    },
    {
     "name": "stderr",
     "output_type": "stream",
     "text": [
      "[I 2025-02-26 00:25:43,815] Trial 14 finished with value: 0.7379799089993593 and parameters: {'iterations': 1533, 'depth': 5, 'learning_rate': 0.028668771596853302, 'l2_leaf_reg': 92.74223128282539}. Best is trial 11 with value: 0.7383795707560938.\n"
     ]
    },
    {
     "name": "stdout",
     "output_type": "stream",
     "text": [
      "1532:\ttest: 0.7379662\tbest: 0.7379799 (1476)\ttotal: 1m 33s\tremaining: 0us\n",
      "\n",
      "bestTest = 0.737979909\n",
      "bestIteration = 1476\n",
      "\n",
      "Shrink model to first 1477 iterations.\n",
      "0:\ttest: 0.7200681\tbest: 0.7200681 (0)\ttotal: 97.3ms\tremaining: 4m 28s\n",
      "300:\ttest: 0.7368380\tbest: 0.7369733 (270)\ttotal: 28.3s\tremaining: 3m 51s\n",
      "600:\ttest: 0.7354552\tbest: 0.7369834 (325)\ttotal: 59s\tremaining: 3m 32s\n"
     ]
    },
    {
     "name": "stderr",
     "output_type": "stream",
     "text": [
      "[I 2025-02-26 00:26:45,602] Trial 15 finished with value: 0.7369834071595205 and parameters: {'iterations': 2762, 'depth': 8, 'learning_rate': 0.06696600009766787, 'l2_leaf_reg': 0.17862337730522848}. Best is trial 11 with value: 0.7383795707560938.\n"
     ]
    },
    {
     "name": "stdout",
     "output_type": "stream",
     "text": [
      "Stopped by overfitting detector  (300 iterations wait)\n",
      "\n",
      "bestTest = 0.7369834072\n",
      "bestIteration = 325\n",
      "\n",
      "Shrink model to first 326 iterations.\n",
      "0:\ttest: 0.7041607\tbest: 0.7041607 (0)\ttotal: 75.8ms\tremaining: 2m 50s\n",
      "300:\ttest: 0.7373282\tbest: 0.7375081 (286)\ttotal: 21.9s\tremaining: 2m 21s\n"
     ]
    },
    {
     "name": "stderr",
     "output_type": "stream",
     "text": [
      "[I 2025-02-26 00:27:29,331] Trial 16 finished with value: 0.7375080922690371 and parameters: {'iterations': 2255, 'depth': 6, 'learning_rate': 0.0808891958156232, 'l2_leaf_reg': 0.0037379997864706973}. Best is trial 11 with value: 0.7383795707560938.\n"
     ]
    },
    {
     "name": "stdout",
     "output_type": "stream",
     "text": [
      "Stopped by overfitting detector  (300 iterations wait)\n",
      "\n",
      "bestTest = 0.7375080923\n",
      "bestIteration = 286\n",
      "\n",
      "Shrink model to first 287 iterations.\n",
      "0:\ttest: 0.7019941\tbest: 0.7019941 (0)\ttotal: 65.6ms\tremaining: 1m 59s\n",
      "300:\ttest: 0.7377344\tbest: 0.7377378 (299)\ttotal: 18.3s\tremaining: 1m 32s\n",
      "600:\ttest: 0.7382783\tbest: 0.7382851 (594)\ttotal: 37.5s\tremaining: 1m 16s\n",
      "900:\ttest: 0.7383550\tbest: 0.7384081 (874)\ttotal: 56.5s\tremaining: 57.7s\n",
      "1200:\ttest: 0.7383443\tbest: 0.7384354 (1075)\ttotal: 1m 15s\tremaining: 39.1s\n"
     ]
    },
    {
     "name": "stderr",
     "output_type": "stream",
     "text": [
      "[I 2025-02-26 00:28:56,382] Trial 17 finished with value: 0.7384354093581844 and parameters: {'iterations': 1821, 'depth': 5, 'learning_rate': 0.05809051245242751, 'l2_leaf_reg': 16.872267184948097}. Best is trial 17 with value: 0.7384354093581844.\n"
     ]
    },
    {
     "name": "stdout",
     "output_type": "stream",
     "text": [
      "Stopped by overfitting detector  (300 iterations wait)\n",
      "\n",
      "bestTest = 0.7384354094\n",
      "bestIteration = 1075\n",
      "\n",
      "Shrink model to first 1076 iterations.\n",
      "저장 완료\n",
      "0:\ttest: 0.7198513\tbest: 0.7198513 (0)\ttotal: 89.7ms\tremaining: 2m 41s\n",
      "300:\ttest: 0.7377563\tbest: 0.7378045 (269)\ttotal: 23.9s\tremaining: 1m 59s\n",
      "600:\ttest: 0.7378551\tbest: 0.7379057 (464)\ttotal: 50.1s\tremaining: 1m 40s\n",
      "900:\ttest: 0.7376455\tbest: 0.7379641 (702)\ttotal: 1m 16s\tremaining: 1m 16s\n"
     ]
    },
    {
     "name": "stderr",
     "output_type": "stream",
     "text": [
      "[I 2025-02-26 00:30:22,169] Trial 18 finished with value: 0.7379640969304129 and parameters: {'iterations': 1804, 'depth': 7, 'learning_rate': 0.05970016430294879, 'l2_leaf_reg': 14.990019474805333}. Best is trial 17 with value: 0.7384354093581844.\n"
     ]
    },
    {
     "name": "stdout",
     "output_type": "stream",
     "text": [
      "Stopped by overfitting detector  (300 iterations wait)\n",
      "\n",
      "bestTest = 0.7379640969\n",
      "bestIteration = 702\n",
      "\n",
      "Shrink model to first 703 iterations.\n",
      "0:\ttest: 0.7019941\tbest: 0.7019941 (0)\ttotal: 66.3ms\tremaining: 1m 51s\n",
      "300:\ttest: 0.7378158\tbest: 0.7378286 (295)\ttotal: 18.4s\tremaining: 1m 24s\n",
      "600:\ttest: 0.7380503\tbest: 0.7381152 (575)\ttotal: 37.2s\tremaining: 1m 6s\n",
      "900:\ttest: 0.7380701\tbest: 0.7381189 (702)\ttotal: 56.3s\tremaining: 48.8s\n"
     ]
    },
    {
     "name": "stderr",
     "output_type": "stream",
     "text": [
      "[I 2025-02-26 00:31:25,285] Trial 19 finished with value: 0.7381188820754482 and parameters: {'iterations': 1681, 'depth': 5, 'learning_rate': 0.07935958534905817, 'l2_leaf_reg': 21.65912588757876}. Best is trial 17 with value: 0.7384354093581844.\n"
     ]
    },
    {
     "name": "stdout",
     "output_type": "stream",
     "text": [
      "Stopped by overfitting detector  (300 iterations wait)\n",
      "\n",
      "bestTest = 0.7381188821\n",
      "bestIteration = 702\n",
      "\n",
      "Shrink model to first 703 iterations.\n",
      "0:\ttest: 0.7041607\tbest: 0.7041607 (0)\ttotal: 78.1ms\tremaining: 2m 12s\n",
      "300:\ttest: 0.7378638\tbest: 0.7378737 (293)\ttotal: 21.6s\tremaining: 1m 39s\n",
      "600:\ttest: 0.7377832\tbest: 0.7379430 (339)\ttotal: 44.6s\tremaining: 1m 21s\n"
     ]
    },
    {
     "name": "stderr",
     "output_type": "stream",
     "text": [
      "[I 2025-02-26 00:32:13,031] Trial 20 finished with value: 0.7379430154954464 and parameters: {'iterations': 1695, 'depth': 6, 'learning_rate': 0.0744575720455659, 'l2_leaf_reg': 3.1296986228428847}. Best is trial 17 with value: 0.7384354093581844.\n"
     ]
    },
    {
     "name": "stdout",
     "output_type": "stream",
     "text": [
      "Stopped by overfitting detector  (300 iterations wait)\n",
      "\n",
      "bestTest = 0.7379430155\n",
      "bestIteration = 339\n",
      "\n",
      "Shrink model to first 340 iterations.\n",
      "0:\ttest: 0.6968205\tbest: 0.6968205 (0)\ttotal: 55.3ms\tremaining: 1m 57s\n",
      "300:\ttest: 0.7372721\tbest: 0.7372721 (300)\ttotal: 14.8s\tremaining: 1m 29s\n",
      "600:\ttest: 0.7378535\tbest: 0.7378587 (596)\ttotal: 30.4s\tremaining: 1m 16s\n",
      "900:\ttest: 0.7377448\tbest: 0.7378988 (650)\ttotal: 46s\tremaining: 1m 2s\n"
     ]
    },
    {
     "name": "stderr",
     "output_type": "stream",
     "text": [
      "[I 2025-02-26 00:33:01,860] Trial 21 finished with value: 0.7378987718811317 and parameters: {'iterations': 2118, 'depth': 4, 'learning_rate': 0.05575605922870533, 'l2_leaf_reg': 0.6301851649810912}. Best is trial 17 with value: 0.7384354093581844.\n"
     ]
    },
    {
     "name": "stdout",
     "output_type": "stream",
     "text": [
      "Stopped by overfitting detector  (300 iterations wait)\n",
      "\n",
      "bestTest = 0.7378987719\n",
      "bestIteration = 650\n",
      "\n",
      "Shrink model to first 651 iterations.\n",
      "0:\ttest: 0.7019941\tbest: 0.7019941 (0)\ttotal: 67.9ms\tremaining: 2m 5s\n",
      "300:\ttest: 0.7373031\tbest: 0.7373031 (300)\ttotal: 17.9s\tremaining: 1m 32s\n",
      "600:\ttest: 0.7379750\tbest: 0.7380236 (496)\ttotal: 36.9s\tremaining: 1m 16s\n",
      "900:\ttest: 0.7379732\tbest: 0.7380315 (671)\ttotal: 56s\tremaining: 58.8s\n"
     ]
    },
    {
     "name": "stderr",
     "output_type": "stream",
     "text": [
      "[I 2025-02-26 00:34:02,593] Trial 22 finished with value: 0.7380315305202791 and parameters: {'iterations': 1848, 'depth': 5, 'learning_rate': 0.04419292115839152, 'l2_leaf_reg': 5.176860904375392}. Best is trial 17 with value: 0.7384354093581844.\n"
     ]
    },
    {
     "name": "stdout",
     "output_type": "stream",
     "text": [
      "Stopped by overfitting detector  (300 iterations wait)\n",
      "\n",
      "bestTest = 0.7380315305\n",
      "bestIteration = 671\n",
      "\n",
      "Shrink model to first 672 iterations.\n",
      "0:\ttest: 0.6968205\tbest: 0.6968205 (0)\ttotal: 56.3ms\tremaining: 2m 16s\n",
      "300:\ttest: 0.7356563\tbest: 0.7356608 (298)\ttotal: 14.7s\tremaining: 1m 43s\n",
      "600:\ttest: 0.7369614\tbest: 0.7369614 (598)\ttotal: 30s\tremaining: 1m 30s\n",
      "900:\ttest: 0.7373704\tbest: 0.7373854 (894)\ttotal: 45.2s\tremaining: 1m 16s\n",
      "1200:\ttest: 0.7375919\tbest: 0.7375988 (1188)\ttotal: 1m\tremaining: 1m 1s\n",
      "1500:\ttest: 0.7377046\tbest: 0.7377123 (1489)\ttotal: 1m 15s\tremaining: 46.6s\n",
      "1800:\ttest: 0.7377699\tbest: 0.7377740 (1773)\ttotal: 1m 31s\tremaining: 31.4s\n",
      "2100:\ttest: 0.7378055\tbest: 0.7378086 (1932)\ttotal: 1m 46s\tremaining: 16.3s\n",
      "2400:\ttest: 0.7378311\tbest: 0.7378435 (2337)\ttotal: 2m 2s\tremaining: 1.02s\n"
     ]
    },
    {
     "name": "stderr",
     "output_type": "stream",
     "text": [
      "[I 2025-02-26 00:36:06,345] Trial 23 finished with value: 0.7378434971448852 and parameters: {'iterations': 2421, 'depth': 4, 'learning_rate': 0.028736265630500225, 'l2_leaf_reg': 44.226083625411704}. Best is trial 17 with value: 0.7384354093581844.\n"
     ]
    },
    {
     "name": "stdout",
     "output_type": "stream",
     "text": [
      "2420:\ttest: 0.7378313\tbest: 0.7378435 (2337)\ttotal: 2m 3s\tremaining: 0us\n",
      "\n",
      "bestTest = 0.7378434971\n",
      "bestIteration = 2337\n",
      "\n",
      "Shrink model to first 2338 iterations.\n",
      "0:\ttest: 0.7019941\tbest: 0.7019941 (0)\ttotal: 65.4ms\tremaining: 2m 12s\n",
      "300:\ttest: 0.7376380\tbest: 0.7379449 (264)\ttotal: 18.5s\tremaining: 1m 45s\n"
     ]
    },
    {
     "name": "stderr",
     "output_type": "stream",
     "text": [
      "[I 2025-02-26 00:36:41,791] Trial 24 finished with value: 0.7379448897537444 and parameters: {'iterations': 2024, 'depth': 5, 'learning_rate': 0.08730759842886443, 'l2_leaf_reg': 0.052081086757023456}. Best is trial 17 with value: 0.7384354093581844.\n"
     ]
    },
    {
     "name": "stdout",
     "output_type": "stream",
     "text": [
      "Stopped by overfitting detector  (300 iterations wait)\n",
      "\n",
      "bestTest = 0.7379448898\n",
      "bestIteration = 264\n",
      "\n",
      "Shrink model to first 265 iterations.\n",
      "0:\ttest: 0.7200510\tbest: 0.7200510 (0)\ttotal: 96ms\tremaining: 2m 35s\n",
      "300:\ttest: 0.7380303\tbest: 0.7381284 (263)\ttotal: 26.8s\tremaining: 1m 57s\n"
     ]
    },
    {
     "name": "stderr",
     "output_type": "stream",
     "text": [
      "[I 2025-02-26 00:37:34,961] Trial 25 finished with value: 0.7381284399985908 and parameters: {'iterations': 1622, 'depth': 8, 'learning_rate': 0.05558777384667663, 'l2_leaf_reg': 23.464769876564265}. Best is trial 17 with value: 0.7384354093581844.\n"
     ]
    },
    {
     "name": "stdout",
     "output_type": "stream",
     "text": [
      "Stopped by overfitting detector  (300 iterations wait)\n",
      "\n",
      "bestTest = 0.73812844\n",
      "bestIteration = 263\n",
      "\n",
      "Shrink model to first 264 iterations.\n",
      "0:\ttest: 0.7041607\tbest: 0.7041607 (0)\ttotal: 116ms\tremaining: 4m 24s\n",
      "300:\ttest: 0.7374141\tbest: 0.7375837 (255)\ttotal: 21.6s\tremaining: 2m 22s\n"
     ]
    },
    {
     "name": "stderr",
     "output_type": "stream",
     "text": [
      "[I 2025-02-26 00:38:16,127] Trial 26 finished with value: 0.7375837297098435 and parameters: {'iterations': 2278, 'depth': 6, 'learning_rate': 0.0670667665259233, 'l2_leaf_reg': 0.000530723220223561}. Best is trial 17 with value: 0.7384354093581844.\n"
     ]
    },
    {
     "name": "stdout",
     "output_type": "stream",
     "text": [
      "Stopped by overfitting detector  (300 iterations wait)\n",
      "\n",
      "bestTest = 0.7375837297\n",
      "bestIteration = 255\n",
      "\n",
      "Shrink model to first 256 iterations.\n",
      "0:\ttest: 0.6968205\tbest: 0.6968205 (0)\ttotal: 63.8ms\tremaining: 2m 40s\n",
      "300:\ttest: 0.7364008\tbest: 0.7364008 (300)\ttotal: 14.4s\tremaining: 1m 46s\n",
      "600:\ttest: 0.7376349\tbest: 0.7376349 (600)\ttotal: 29.6s\tremaining: 1m 34s\n",
      "900:\ttest: 0.7376631\tbest: 0.7376815 (676)\ttotal: 45.1s\tremaining: 1m 20s\n",
      "1200:\ttest: 0.7378787\tbest: 0.7378802 (1199)\ttotal: 1m\tremaining: 1m 6s\n",
      "1500:\ttest: 0.7377643\tbest: 0.7378832 (1239)\ttotal: 1m 16s\tremaining: 51.5s\n"
     ]
    },
    {
     "name": "stderr",
     "output_type": "stream",
     "text": [
      "[I 2025-02-26 00:39:34,791] Trial 27 finished with value: 0.7378831940944726 and parameters: {'iterations': 2512, 'depth': 4, 'learning_rate': 0.04057430912366394, 'l2_leaf_reg': 0.018627904337830115}. Best is trial 17 with value: 0.7384354093581844.\n"
     ]
    },
    {
     "name": "stdout",
     "output_type": "stream",
     "text": [
      "Stopped by overfitting detector  (300 iterations wait)\n",
      "\n",
      "bestTest = 0.7378831941\n",
      "bestIteration = 1239\n",
      "\n",
      "Shrink model to first 1240 iterations.\n",
      "0:\ttest: 0.7019941\tbest: 0.7019941 (0)\ttotal: 66.2ms\tremaining: 2m 22s\n",
      "300:\ttest: 0.7372783\tbest: 0.7372783 (300)\ttotal: 18.1s\tremaining: 1m 51s\n",
      "600:\ttest: 0.7379395\tbest: 0.7379519 (597)\ttotal: 36.9s\tremaining: 1m 35s\n",
      "900:\ttest: 0.7379611\tbest: 0.7380692 (735)\ttotal: 55.9s\tremaining: 1m 17s\n"
     ]
    },
    {
     "name": "stderr",
     "output_type": "stream",
     "text": [
      "[I 2025-02-26 00:40:39,591] Trial 28 finished with value: 0.7380692459976406 and parameters: {'iterations': 2155, 'depth': 5, 'learning_rate': 0.04829723292556207, 'l2_leaf_reg': 7.77218890013027}. Best is trial 17 with value: 0.7384354093581844.\n"
     ]
    },
    {
     "name": "stdout",
     "output_type": "stream",
     "text": [
      "Stopped by overfitting detector  (300 iterations wait)\n",
      "\n",
      "bestTest = 0.738069246\n",
      "bestIteration = 735\n",
      "\n",
      "Shrink model to first 736 iterations.\n",
      "0:\ttest: 0.6968205\tbest: 0.6968205 (0)\ttotal: 56.2ms\tremaining: 1m 41s\n",
      "300:\ttest: 0.7351099\tbest: 0.7351099 (300)\ttotal: 14.2s\tremaining: 1m 11s\n",
      "600:\ttest: 0.7367920\tbest: 0.7367920 (600)\ttotal: 29.3s\tremaining: 58.8s\n",
      "900:\ttest: 0.7374383\tbest: 0.7374432 (897)\ttotal: 44.4s\tremaining: 44.8s\n",
      "1200:\ttest: 0.7378071\tbest: 0.7378071 (1200)\ttotal: 59.8s\tremaining: 30.3s\n",
      "1500:\ttest: 0.7379939\tbest: 0.7380070 (1449)\ttotal: 1m 15s\tremaining: 15.4s\n",
      "1800:\ttest: 0.7380512\tbest: 0.7380733 (1753)\ttotal: 1m 31s\tremaining: 405ms\n"
     ]
    },
    {
     "name": "stderr",
     "output_type": "stream",
     "text": [
      "[I 2025-02-26 00:42:11,353] Trial 29 finished with value: 0.7380732923307034 and parameters: {'iterations': 1809, 'depth': 4, 'learning_rate': 0.023174536645179013, 'l2_leaf_reg': 9.26118683775852}. Best is trial 17 with value: 0.7384354093581844.\n"
     ]
    },
    {
     "name": "stdout",
     "output_type": "stream",
     "text": [
      "1808:\ttest: 0.7380416\tbest: 0.7380733 (1753)\ttotal: 1m 31s\tremaining: 0us\n",
      "\n",
      "bestTest = 0.7380732923\n",
      "bestIteration = 1753\n",
      "\n",
      "Shrink model to first 1754 iterations.\n",
      "0:\ttest: 0.7041607\tbest: 0.7041607 (0)\ttotal: 76.6ms\tremaining: 1m 55s\n",
      "300:\ttest: 0.7379814\tbest: 0.7379959 (296)\ttotal: 21.7s\tremaining: 1m 27s\n",
      "600:\ttest: 0.7380146\tbest: 0.7382125 (509)\ttotal: 44.5s\tremaining: 1m 7s\n"
     ]
    },
    {
     "name": "stderr",
     "output_type": "stream",
     "text": [
      "[I 2025-02-26 00:43:12,003] Trial 30 finished with value: 0.7382124838055347 and parameters: {'iterations': 1515, 'depth': 6, 'learning_rate': 0.0603206309154842, 'l2_leaf_reg': 0.625022210787573}. Best is trial 17 with value: 0.7384354093581844.\n"
     ]
    },
    {
     "name": "stdout",
     "output_type": "stream",
     "text": [
      "Stopped by overfitting detector  (300 iterations wait)\n",
      "\n",
      "bestTest = 0.7382124838\n",
      "bestIteration = 509\n",
      "\n",
      "Shrink model to first 510 iterations.\n",
      "0:\ttest: 0.7041607\tbest: 0.7041607 (0)\ttotal: 76.3ms\tremaining: 1m 57s\n",
      "300:\ttest: 0.7379837\tbest: 0.7379869 (297)\ttotal: 21.9s\tremaining: 1m 30s\n",
      "600:\ttest: 0.7380105\tbest: 0.7380673 (520)\ttotal: 44.8s\tremaining: 1m 10s\n"
     ]
    },
    {
     "name": "stderr",
     "output_type": "stream",
     "text": [
      "[I 2025-02-26 00:44:13,863] Trial 31 finished with value: 0.7380673161469353 and parameters: {'iterations': 1544, 'depth': 6, 'learning_rate': 0.06005007815369082, 'l2_leaf_reg': 0.8436405214713565}. Best is trial 17 with value: 0.7384354093581844.\n"
     ]
    },
    {
     "name": "stdout",
     "output_type": "stream",
     "text": [
      "Stopped by overfitting detector  (300 iterations wait)\n",
      "\n",
      "bestTest = 0.7380673161\n",
      "bestIteration = 520\n",
      "\n",
      "Shrink model to first 521 iterations.\n",
      "0:\ttest: 0.7019941\tbest: 0.7019941 (0)\ttotal: 69.1ms\tremaining: 1m 43s\n",
      "300:\ttest: 0.7375845\tbest: 0.7375845 (300)\ttotal: 18.5s\tremaining: 1m 13s\n",
      "600:\ttest: 0.7379372\tbest: 0.7379627 (591)\ttotal: 37.8s\tremaining: 56.6s\n",
      "900:\ttest: 0.7380443\tbest: 0.7380443 (900)\ttotal: 56.7s\tremaining: 37.7s\n",
      "1200:\ttest: 0.7381281\tbest: 0.7381281 (1200)\ttotal: 1m 15s\tremaining: 19s\n"
     ]
    },
    {
     "name": "stderr",
     "output_type": "stream",
     "text": [
      "[I 2025-02-26 00:45:49,370] Trial 32 finished with value: 0.7381323354379772 and parameters: {'iterations': 1501, 'depth': 5, 'learning_rate': 0.070633158262401, 'l2_leaf_reg': 43.90126773564352}. Best is trial 17 with value: 0.7384354093581844.\n"
     ]
    },
    {
     "name": "stdout",
     "output_type": "stream",
     "text": [
      "1500:\ttest: 0.7380479\tbest: 0.7381323 (1214)\ttotal: 1m 35s\tremaining: 0us\n",
      "\n",
      "bestTest = 0.7381323354\n",
      "bestIteration = 1214\n",
      "\n",
      "Shrink model to first 1215 iterations.\n",
      "0:\ttest: 0.6968205\tbest: 0.6968205 (0)\ttotal: 53.2ms\tremaining: 1m 27s\n",
      "300:\ttest: 0.7374609\tbest: 0.7374656 (299)\ttotal: 14.8s\tremaining: 1m 6s\n",
      "600:\ttest: 0.7381257\tbest: 0.7381408 (587)\ttotal: 30.4s\tremaining: 53s\n",
      "900:\ttest: 0.7381473\tbest: 0.7381903 (846)\ttotal: 46.3s\tremaining: 38.5s\n"
     ]
    },
    {
     "name": "stderr",
     "output_type": "stream",
     "text": [
      "[I 2025-02-26 00:46:48,802] Trial 33 finished with value: 0.7381903183186289 and parameters: {'iterations': 1649, 'depth': 4, 'learning_rate': 0.062229883750605945, 'l2_leaf_reg': 0.30145510357691474}. Best is trial 17 with value: 0.7384354093581844.\n"
     ]
    },
    {
     "name": "stdout",
     "output_type": "stream",
     "text": [
      "Stopped by overfitting detector  (300 iterations wait)\n",
      "\n",
      "bestTest = 0.7381903183\n",
      "bestIteration = 846\n",
      "\n",
      "Shrink model to first 847 iterations.\n",
      "0:\ttest: 0.7198577\tbest: 0.7198577 (0)\ttotal: 89.1ms\tremaining: 2m 55s\n",
      "300:\ttest: 0.7377640\tbest: 0.7377640 (300)\ttotal: 24.1s\tremaining: 2m 13s\n",
      "600:\ttest: 0.7378061\tbest: 0.7380431 (369)\ttotal: 50.7s\tremaining: 1m 55s\n"
     ]
    },
    {
     "name": "stderr",
     "output_type": "stream",
     "text": [
      "[I 2025-02-26 00:47:45,781] Trial 34 finished with value: 0.7380430580029892 and parameters: {'iterations': 1971, 'depth': 7, 'learning_rate': 0.05280138425452851, 'l2_leaf_reg': 2.9507624193279227}. Best is trial 17 with value: 0.7384354093581844.\n"
     ]
    },
    {
     "name": "stdout",
     "output_type": "stream",
     "text": [
      "Stopped by overfitting detector  (300 iterations wait)\n",
      "\n",
      "bestTest = 0.738043058\n",
      "bestIteration = 369\n",
      "\n",
      "Shrink model to first 370 iterations.\n",
      "0:\ttest: 0.7019941\tbest: 0.7019941 (0)\ttotal: 67.4ms\tremaining: 2m\n",
      "300:\ttest: 0.7380537\tbest: 0.7380537 (300)\ttotal: 18.4s\tremaining: 1m 30s\n",
      "600:\ttest: 0.7382632\tbest: 0.7382900 (419)\ttotal: 37.2s\tremaining: 1m 13s\n"
     ]
    },
    {
     "name": "stderr",
     "output_type": "stream",
     "text": [
      "[I 2025-02-26 00:48:30,674] Trial 35 finished with value: 0.7382899796210942 and parameters: {'iterations': 1786, 'depth': 5, 'learning_rate': 0.08533107121187883, 'l2_leaf_reg': 26.482404898515654}. Best is trial 17 with value: 0.7384354093581844.\n"
     ]
    },
    {
     "name": "stdout",
     "output_type": "stream",
     "text": [
      "Stopped by overfitting detector  (300 iterations wait)\n",
      "\n",
      "bestTest = 0.7382899796\n",
      "bestIteration = 419\n",
      "\n",
      "Shrink model to first 420 iterations.\n",
      "0:\ttest: 0.6968205\tbest: 0.6968205 (0)\ttotal: 56.8ms\tremaining: 1m 39s\n",
      "300:\ttest: 0.7375958\tbest: 0.7375958 (300)\ttotal: 15s\tremaining: 1m 12s\n",
      "600:\ttest: 0.7379115\tbest: 0.7379351 (582)\ttotal: 30.5s\tremaining: 58.2s\n",
      "900:\ttest: 0.7379428\tbest: 0.7380143 (845)\ttotal: 46.1s\tremaining: 43.3s\n",
      "1200:\ttest: 0.7380496\tbest: 0.7380787 (1169)\ttotal: 1m 1s\tremaining: 28.1s\n"
     ]
    },
    {
     "name": "stderr",
     "output_type": "stream",
     "text": [
      "[I 2025-02-26 00:49:47,177] Trial 36 finished with value: 0.7380787165612862 and parameters: {'iterations': 1748, 'depth': 4, 'learning_rate': 0.0892604730407759, 'l2_leaf_reg': 32.6594281560326}. Best is trial 17 with value: 0.7384354093581844.\n"
     ]
    },
    {
     "name": "stdout",
     "output_type": "stream",
     "text": [
      "Stopped by overfitting detector  (300 iterations wait)\n",
      "\n",
      "bestTest = 0.7380787166\n",
      "bestIteration = 1169\n",
      "\n",
      "Shrink model to first 1170 iterations.\n",
      "0:\ttest: 0.7019941\tbest: 0.7019941 (0)\ttotal: 66.9ms\tremaining: 2m 17s\n",
      "300:\ttest: 0.7377356\tbest: 0.7378923 (284)\ttotal: 18.8s\tremaining: 1m 49s\n",
      "600:\ttest: 0.7374899\tbest: 0.7379471 (362)\ttotal: 38s\tremaining: 1m 31s\n"
     ]
    },
    {
     "name": "stderr",
     "output_type": "stream",
     "text": [
      "[I 2025-02-26 00:50:29,314] Trial 37 finished with value: 0.7379471174209165 and parameters: {'iterations': 2051, 'depth': 5, 'learning_rate': 0.0875094905019923, 'l2_leaf_reg': 0.00010261035519328548}. Best is trial 17 with value: 0.7384354093581844.\n"
     ]
    },
    {
     "name": "stdout",
     "output_type": "stream",
     "text": [
      "Stopped by overfitting detector  (300 iterations wait)\n",
      "\n",
      "bestTest = 0.7379471174\n",
      "bestIteration = 362\n",
      "\n",
      "Shrink model to first 363 iterations.\n",
      "0:\ttest: 0.6968205\tbest: 0.6968205 (0)\ttotal: 55.8ms\tremaining: 2m 3s\n",
      "300:\ttest: 0.7374811\tbest: 0.7374945 (294)\ttotal: 15s\tremaining: 1m 35s\n",
      "600:\ttest: 0.7374242\tbest: 0.7375490 (314)\ttotal: 30.7s\tremaining: 1m 22s\n"
     ]
    },
    {
     "name": "stderr",
     "output_type": "stream",
     "text": [
      "[I 2025-02-26 00:51:00,955] Trial 38 finished with value: 0.7375489606300608 and parameters: {'iterations': 2216, 'depth': 4, 'learning_rate': 0.09607895015050746, 'l2_leaf_reg': 0.0004889652464907014}. Best is trial 17 with value: 0.7384354093581844.\n"
     ]
    },
    {
     "name": "stdout",
     "output_type": "stream",
     "text": [
      "Stopped by overfitting detector  (300 iterations wait)\n",
      "\n",
      "bestTest = 0.7375489606\n",
      "bestIteration = 314\n",
      "\n",
      "Shrink model to first 315 iterations.\n",
      "0:\ttest: 0.7019941\tbest: 0.7019941 (0)\ttotal: 66.6ms\tremaining: 2m 6s\n",
      "300:\ttest: 0.7377206\tbest: 0.7377305 (299)\ttotal: 18.4s\tremaining: 1m 37s\n",
      "600:\ttest: 0.7380246\tbest: 0.7380765 (562)\ttotal: 37.5s\tremaining: 1m 20s\n"
     ]
    },
    {
     "name": "stderr",
     "output_type": "stream",
     "text": [
      "[I 2025-02-26 00:51:55,461] Trial 39 finished with value: 0.7380764769814556 and parameters: {'iterations': 1894, 'depth': 5, 'learning_rate': 0.0756408056480826, 'l2_leaf_reg': 15.499243566906339}. Best is trial 17 with value: 0.7384354093581844.\n",
      "[I 2025-02-26 00:51:55,464] A new study created in memory with name: no-name-ec873d2c-8ed7-48a8-883b-cd4bbbb4d5d9\n"
     ]
    },
    {
     "name": "stdout",
     "output_type": "stream",
     "text": [
      "Stopped by overfitting detector  (300 iterations wait)\n",
      "\n",
      "bestTest = 0.738076477\n",
      "bestIteration = 562\n",
      "\n",
      "Shrink model to first 563 iterations.\n"
     ]
    },
    {
     "name": "stderr",
     "output_type": "stream",
     "text": [
      "[I 2025-02-26 00:52:18,499] Trial 0 finished with value: 0.7277424679515332 and parameters: {'num_iterations': 2366, 'objective': 'binary', 'metric': 'auc', 'verbose': -1, 'learning_rate': 0.0652646236447618, 'n_estimators': 236, 'min_child_samples': 45, 'subsample': 0.7, 'colsample_bytree': 0.5}. Best is trial 0 with value: 0.7277424679515332.\n",
      "[I 2025-02-26 00:52:35,342] Trial 1 finished with value: 0.7373350847271171 and parameters: {'num_iterations': 1510, 'objective': 'binary', 'metric': 'auc', 'verbose': -1, 'learning_rate': 0.005231880959249543, 'n_estimators': 1411, 'min_child_samples': 10, 'subsample': 1.0, 'colsample_bytree': 0.5}. Best is trial 1 with value: 0.7373350847271171.\n",
      "[I 2025-02-26 00:52:54,687] Trial 2 finished with value: 0.7364619424387322 and parameters: {'num_iterations': 2334, 'objective': 'binary', 'metric': 'auc', 'verbose': -1, 'learning_rate': 0.006578527777128852, 'n_estimators': 931, 'min_child_samples': 15, 'subsample': 0.5, 'colsample_bytree': 1.0}. Best is trial 1 with value: 0.7373350847271171.\n",
      "[I 2025-02-26 00:53:10,961] Trial 3 finished with value: 0.737031272222072 and parameters: {'num_iterations': 1620, 'objective': 'binary', 'metric': 'auc', 'verbose': -1, 'learning_rate': 0.0058823249237283685, 'n_estimators': 837, 'min_child_samples': 10, 'subsample': 0.9, 'colsample_bytree': 0.6}. Best is trial 1 with value: 0.7373350847271171.\n",
      "[I 2025-02-26 00:53:27,037] Trial 4 finished with value: 0.7364582177474535 and parameters: {'num_iterations': 1997, 'objective': 'binary', 'metric': 'auc', 'verbose': -1, 'learning_rate': 0.010907507425244923, 'n_estimators': 1597, 'min_child_samples': 50, 'subsample': 0.6, 'colsample_bytree': 0.8}. Best is trial 1 with value: 0.7373350847271171.\n",
      "[I 2025-02-26 00:53:49,123] Trial 5 finished with value: 0.7339051721873157 and parameters: {'num_iterations': 2909, 'objective': 'binary', 'metric': 'auc', 'verbose': -1, 'learning_rate': 0.019760591962733942, 'n_estimators': 612, 'min_child_samples': 30, 'subsample': 0.7, 'colsample_bytree': 0.9}. Best is trial 1 with value: 0.7373350847271171.\n",
      "[I 2025-02-26 00:54:09,371] Trial 6 finished with value: 0.7346471838999052 and parameters: {'num_iterations': 2639, 'objective': 'binary', 'metric': 'auc', 'verbose': -1, 'learning_rate': 0.017862094446750985, 'n_estimators': 794, 'min_child_samples': 35, 'subsample': 1.0, 'colsample_bytree': 0.8}. Best is trial 1 with value: 0.7373350847271171.\n",
      "[I 2025-02-26 00:54:25,757] Trial 7 finished with value: 0.7373257650571479 and parameters: {'num_iterations': 1580, 'objective': 'binary', 'metric': 'auc', 'verbose': -1, 'learning_rate': 0.01776722177611332, 'n_estimators': 529, 'min_child_samples': 25, 'subsample': 0.8, 'colsample_bytree': 0.5}. Best is trial 1 with value: 0.7373350847271171.\n",
      "[I 2025-02-26 00:54:43,107] Trial 8 finished with value: 0.7349672015916329 and parameters: {'num_iterations': 1911, 'objective': 'binary', 'metric': 'auc', 'verbose': -1, 'learning_rate': 0.0304747553332844, 'n_estimators': 1328, 'min_child_samples': 10, 'subsample': 0.7, 'colsample_bytree': 0.6}. Best is trial 1 with value: 0.7373350847271171.\n",
      "[I 2025-02-26 00:55:10,380] Trial 9 finished with value: 0.7342873541028896 and parameters: {'num_iterations': 2739, 'objective': 'binary', 'metric': 'auc', 'verbose': -1, 'learning_rate': 0.02691531614176271, 'n_estimators': 1438, 'min_child_samples': 20, 'subsample': 0.6, 'colsample_bytree': 0.5}. Best is trial 1 with value: 0.7373350847271171.\n",
      "[I 2025-02-26 00:55:25,010] Trial 10 finished with value: 0.7263095339485199 and parameters: {'num_iterations': 1933, 'objective': 'binary', 'metric': 'auc', 'verbose': -1, 'learning_rate': 0.08223556891145911, 'n_estimators': 1960, 'min_child_samples': 40, 'subsample': 1.0, 'colsample_bytree': 0.7}. Best is trial 1 with value: 0.7373350847271171.\n",
      "[I 2025-02-26 00:55:41,318] Trial 11 finished with value: 0.7372595942091009 and parameters: {'num_iterations': 1513, 'objective': 'binary', 'metric': 'auc', 'verbose': -1, 'learning_rate': 0.009791292266126196, 'n_estimators': 299, 'min_child_samples': 25, 'subsample': 0.9, 'colsample_bytree': 0.5}. Best is trial 1 with value: 0.7373350847271171.\n",
      "[I 2025-02-26 00:55:56,525] Trial 12 finished with value: 0.7323208680014203 and parameters: {'num_iterations': 1698, 'objective': 'binary', 'metric': 'auc', 'verbose': -1, 'learning_rate': 0.051091219045787076, 'n_estimators': 1192, 'min_child_samples': 20, 'subsample': 0.9, 'colsample_bytree': 0.6}. Best is trial 1 with value: 0.7373350847271171.\n",
      "[I 2025-02-26 00:56:11,257] Trial 13 finished with value: 0.7368502831988405 and parameters: {'num_iterations': 1777, 'objective': 'binary', 'metric': 'auc', 'verbose': -1, 'learning_rate': 0.011819138696717921, 'n_estimators': 1698, 'min_child_samples': 30, 'subsample': 0.8, 'colsample_bytree': 0.7}. Best is trial 1 with value: 0.7373350847271171.\n",
      "[I 2025-02-26 00:56:32,725] Trial 14 finished with value: 0.7332854320033544 and parameters: {'num_iterations': 2165, 'objective': 'binary', 'metric': 'auc', 'verbose': -1, 'learning_rate': 0.0416859307364196, 'n_estimators': 521, 'min_child_samples': 20, 'subsample': 0.8, 'colsample_bytree': 0.5}. Best is trial 1 with value: 0.7373350847271171.\n",
      "[I 2025-02-26 00:56:48,125] Trial 15 finished with value: 0.7369491701784919 and parameters: {'num_iterations': 1507, 'objective': 'binary', 'metric': 'auc', 'verbose': -1, 'learning_rate': 0.005158116797477942, 'n_estimators': 1062, 'min_child_samples': 15, 'subsample': 1.0, 'colsample_bytree': 0.6}. Best is trial 1 with value: 0.7373350847271171.\n",
      "[I 2025-02-26 00:57:02,783] Trial 16 finished with value: 0.7365789406304541 and parameters: {'num_iterations': 1791, 'objective': 'binary', 'metric': 'auc', 'verbose': -1, 'learning_rate': 0.014818149044855074, 'n_estimators': 524, 'min_child_samples': 25, 'subsample': 0.8, 'colsample_bytree': 0.7}. Best is trial 1 with value: 0.7373350847271171.\n",
      "[I 2025-02-26 00:57:24,928] Trial 17 finished with value: 0.737398674499118 and parameters: {'num_iterations': 2097, 'objective': 'binary', 'metric': 'auc', 'verbose': -1, 'learning_rate': 0.00855151434296108, 'n_estimators': 125, 'min_child_samples': 35, 'subsample': 0.9, 'colsample_bytree': 0.5}. Best is trial 17 with value: 0.737398674499118.\n",
      "[I 2025-02-26 00:57:45,771] Trial 18 finished with value: 0.7372981673978868 and parameters: {'num_iterations': 2177, 'objective': 'binary', 'metric': 'auc', 'verbose': -1, 'learning_rate': 0.007991256373109518, 'n_estimators': 126, 'min_child_samples': 40, 'subsample': 0.9, 'colsample_bytree': 0.6}. Best is trial 17 with value: 0.737398674499118.\n",
      "[I 2025-02-26 00:58:06,107] Trial 19 finished with value: 0.7366380155048177 and parameters: {'num_iterations': 2510, 'objective': 'binary', 'metric': 'auc', 'verbose': -1, 'learning_rate': 0.00751901192905462, 'n_estimators': 1904, 'min_child_samples': 35, 'subsample': 1.0, 'colsample_bytree': 0.9}. Best is trial 17 with value: 0.737398674499118.\n",
      "[I 2025-02-26 00:58:28,712] Trial 20 finished with value: 0.7375687674105492 and parameters: {'num_iterations': 2074, 'objective': 'binary', 'metric': 'auc', 'verbose': -1, 'learning_rate': 0.005195671921324601, 'n_estimators': 1226, 'min_child_samples': 35, 'subsample': 0.9, 'colsample_bytree': 0.5}. Best is trial 20 with value: 0.7375687674105492.\n",
      "[I 2025-02-26 00:58:50,959] Trial 21 finished with value: 0.7374659849915114 and parameters: {'num_iterations': 2039, 'objective': 'binary', 'metric': 'auc', 'verbose': -1, 'learning_rate': 0.0053196069822991025, 'n_estimators': 1220, 'min_child_samples': 35, 'subsample': 0.9, 'colsample_bytree': 0.5}. Best is trial 20 with value: 0.7375687674105492.\n",
      "[I 2025-02-26 00:59:10,783] Trial 22 finished with value: 0.736926452738401 and parameters: {'num_iterations': 2076, 'objective': 'binary', 'metric': 'auc', 'verbose': -1, 'learning_rate': 0.008925053016902208, 'n_estimators': 1148, 'min_child_samples': 35, 'subsample': 0.9, 'colsample_bytree': 0.6}. Best is trial 20 with value: 0.7375687674105492.\n",
      "[I 2025-02-26 00:59:34,686] Trial 23 finished with value: 0.7375296065306021 and parameters: {'num_iterations': 2248, 'objective': 'binary', 'metric': 'auc', 'verbose': -1, 'learning_rate': 0.006922960249009544, 'n_estimators': 1255, 'min_child_samples': 40, 'subsample': 0.9, 'colsample_bytree': 0.5}. Best is trial 20 with value: 0.7375687674105492.\n",
      "[I 2025-02-26 00:59:59,061] Trial 24 finished with value: 0.7374498353972359 and parameters: {'num_iterations': 2286, 'objective': 'binary', 'metric': 'auc', 'verbose': -1, 'learning_rate': 0.006622340463314009, 'n_estimators': 1322, 'min_child_samples': 45, 'subsample': 0.8, 'colsample_bytree': 0.5}. Best is trial 20 with value: 0.7375687674105492.\n",
      "[I 2025-02-26 01:00:21,685] Trial 25 finished with value: 0.7365595944727678 and parameters: {'num_iterations': 2456, 'objective': 'binary', 'metric': 'auc', 'verbose': -1, 'learning_rate': 0.013027067384802521, 'n_estimators': 997, 'min_child_samples': 40, 'subsample': 0.9, 'colsample_bytree': 0.6}. Best is trial 20 with value: 0.7375687674105492.\n",
      "[I 2025-02-26 01:00:38,154] Trial 26 finished with value: 0.7368757445213127 and parameters: {'num_iterations': 1846, 'objective': 'binary', 'metric': 'auc', 'verbose': -1, 'learning_rate': 0.005073279565256976, 'n_estimators': 1561, 'min_child_samples': 45, 'subsample': 0.9, 'colsample_bytree': 0.7}. Best is trial 20 with value: 0.7375687674105492.\n",
      "[I 2025-02-26 01:01:01,755] Trial 27 finished with value: 0.7374716633588125 and parameters: {'num_iterations': 2214, 'objective': 'binary', 'metric': 'auc', 'verbose': -1, 'learning_rate': 0.007016398340375602, 'n_estimators': 1223, 'min_child_samples': 30, 'subsample': 1.0, 'colsample_bytree': 0.5}. Best is trial 20 with value: 0.7375687674105492.\n",
      "[I 2025-02-26 01:01:24,137] Trial 28 finished with value: 0.7364721912960779 and parameters: {'num_iterations': 2439, 'objective': 'binary', 'metric': 'auc', 'verbose': -1, 'learning_rate': 0.014227373377418738, 'n_estimators': 1751, 'min_child_samples': 30, 'subsample': 1.0, 'colsample_bytree': 0.6}. Best is trial 20 with value: 0.7375687674105492.\n",
      "[I 2025-02-26 01:01:47,756] Trial 29 finished with value: 0.7373682733941823 and parameters: {'num_iterations': 2225, 'objective': 'binary', 'metric': 'auc', 'verbose': -1, 'learning_rate': 0.007306224348917703, 'n_estimators': 732, 'min_child_samples': 50, 'subsample': 1.0, 'colsample_bytree': 0.5}. Best is trial 20 with value: 0.7375687674105492.\n",
      "[I 2025-02-26 01:02:12,538] Trial 30 finished with value: 0.7372509654733349 and parameters: {'num_iterations': 2392, 'objective': 'binary', 'metric': 'auc', 'verbose': -1, 'learning_rate': 0.010212800560767349, 'n_estimators': 1093, 'min_child_samples': 40, 'subsample': 1.0, 'colsample_bytree': 0.5}. Best is trial 20 with value: 0.7375687674105492.\n",
      "[I 2025-02-26 01:02:35,089] Trial 31 finished with value: 0.737621111632762 and parameters: {'num_iterations': 2061, 'objective': 'binary', 'metric': 'auc', 'verbose': -1, 'learning_rate': 0.006179673839943398, 'n_estimators': 1250, 'min_child_samples': 30, 'subsample': 0.9, 'colsample_bytree': 0.5}. Best is trial 31 with value: 0.737621111632762.\n",
      "[I 2025-02-26 01:02:59,164] Trial 32 finished with value: 0.7375700857447758 and parameters: {'num_iterations': 2240, 'objective': 'binary', 'metric': 'auc', 'verbose': -1, 'learning_rate': 0.006048070357769381, 'n_estimators': 1324, 'min_child_samples': 30, 'subsample': 0.8, 'colsample_bytree': 0.5}. Best is trial 31 with value: 0.737621111632762.\n",
      "[I 2025-02-26 01:03:23,942] Trial 33 finished with value: 0.7372544280861227 and parameters: {'num_iterations': 2567, 'objective': 'binary', 'metric': 'auc', 'verbose': -1, 'learning_rate': 0.005964619027544129, 'n_estimators': 1451, 'min_child_samples': 30, 'subsample': 0.8, 'colsample_bytree': 0.6}. Best is trial 31 with value: 0.737621111632762.\n",
      "[I 2025-02-26 01:03:48,611] Trial 34 finished with value: 0.7376214332745462 and parameters: {'num_iterations': 2316, 'objective': 'binary', 'metric': 'auc', 'verbose': -1, 'learning_rate': 0.006406438331807831, 'n_estimators': 912, 'min_child_samples': 25, 'subsample': 0.8, 'colsample_bytree': 0.5}. Best is trial 34 with value: 0.7376214332745462.\n",
      "[I 2025-02-26 01:04:13,751] Trial 35 finished with value: 0.7376640766217123 and parameters: {'num_iterations': 2334, 'objective': 'binary', 'metric': 'auc', 'verbose': -1, 'learning_rate': 0.005743596628953522, 'n_estimators': 924, 'min_child_samples': 25, 'subsample': 0.8, 'colsample_bytree': 0.5}. Best is trial 35 with value: 0.7376640766217123.\n",
      "[I 2025-02-26 01:04:33,033] Trial 36 finished with value: 0.736716178429263 and parameters: {'num_iterations': 2328, 'objective': 'binary', 'metric': 'auc', 'verbose': -1, 'learning_rate': 0.006067567425160869, 'n_estimators': 910, 'min_child_samples': 25, 'subsample': 0.7, 'colsample_bytree': 0.9}. Best is trial 35 with value: 0.7376640766217123.\n",
      "[I 2025-02-26 01:04:54,191] Trial 37 finished with value: 0.7360256571983479 and parameters: {'num_iterations': 2660, 'objective': 'binary', 'metric': 'auc', 'verbose': -1, 'learning_rate': 0.009149945996323594, 'n_estimators': 942, 'min_child_samples': 25, 'subsample': 0.6, 'colsample_bytree': 1.0}. Best is trial 35 with value: 0.7376640766217123.\n",
      "[I 2025-02-26 01:05:16,485] Trial 38 finished with value: 0.7366887038674749 and parameters: {'num_iterations': 2351, 'objective': 'binary', 'metric': 'auc', 'verbose': -1, 'learning_rate': 0.011864863237049833, 'n_estimators': 801, 'min_child_samples': 20, 'subsample': 0.7, 'colsample_bytree': 0.6}. Best is trial 35 with value: 0.7376640766217123.\n",
      "[I 2025-02-26 01:05:33,257] Trial 39 finished with value: 0.7369823072240363 and parameters: {'num_iterations': 1961, 'objective': 'binary', 'metric': 'auc', 'verbose': -1, 'learning_rate': 0.00607721194228999, 'n_estimators': 627, 'min_child_samples': 15, 'subsample': 0.8, 'colsample_bytree': 0.8}. Best is trial 35 with value: 0.7376640766217123.\n"
     ]
    },
    {
     "name": "stdout",
     "output_type": "stream",
     "text": [
      "Cat val score : 0.7384354093581844\n",
      "LGBM val score : 0.7376730269992626\n",
      "Ensemble val score : 0.7384800302066904\n"
     ]
    },
    {
     "name": "stderr",
     "output_type": "stream",
     "text": [
      "[I 2025-02-26 01:06:00,492] A new study created in memory with name: no-name-bbda96f0-5d51-4f76-a5b2-3c709720d590\n"
     ]
    },
    {
     "name": "stdout",
     "output_type": "stream",
     "text": [
      "==================================================\n",
      "0:\ttest: 0.7274183\tbest: 0.7274183 (0)\ttotal: 149ms\tremaining: 5m 53s\n",
      "300:\ttest: 0.7397796\tbest: 0.7397796 (300)\ttotal: 41.3s\tremaining: 4m 43s\n",
      "600:\ttest: 0.7409328\tbest: 0.7409328 (600)\ttotal: 1m 24s\tremaining: 4m 7s\n",
      "900:\ttest: 0.7411617\tbest: 0.7411617 (900)\ttotal: 2m 8s\tremaining: 3m 28s\n",
      "1200:\ttest: 0.7413102\tbest: 0.7413238 (1187)\ttotal: 2m 54s\tremaining: 2m 49s\n",
      "1500:\ttest: 0.7414083\tbest: 0.7414564 (1333)\ttotal: 3m 46s\tremaining: 2m 10s\n"
     ]
    },
    {
     "name": "stderr",
     "output_type": "stream",
     "text": [
      "[I 2025-02-26 01:10:10,205] Trial 0 finished with value: 0.7414563523839406 and parameters: {'iterations': 2366, 'depth': 10, 'learning_rate': 0.01181021951839225, 'l2_leaf_reg': 9.980783802743254}. Best is trial 0 with value: 0.7414563523839406.\n"
     ]
    },
    {
     "name": "stdout",
     "output_type": "stream",
     "text": [
      "Stopped by overfitting detector  (300 iterations wait)\n",
      "\n",
      "bestTest = 0.7414563524\n",
      "bestIteration = 1333\n",
      "\n",
      "Shrink model to first 1334 iterations.\n",
      "저장 완료\n",
      "0:\ttest: 0.7001763\tbest: 0.7001763 (0)\ttotal: 58.9ms\tremaining: 2m 9s\n"
     ]
    },
    {
     "name": "stderr",
     "output_type": "stream",
     "text": [
      "Training has stopped (degenerate solution on iteration 261, probably too small l2-regularization, try to increase it)\n",
      "[I 2025-02-26 01:10:22,334] Trial 1 finished with value: 0.7286355599723106 and parameters: {'iterations': 2193, 'depth': 4, 'learning_rate': 0.005671430811678843, 'l2_leaf_reg': 0.00012325230809466137}. Best is trial 0 with value: 0.7414563523839406.\n"
     ]
    },
    {
     "name": "stdout",
     "output_type": "stream",
     "text": [
      "\n",
      "bestTest = 0.72863556\n",
      "bestIteration = 260\n",
      "\n",
      "Shrink model to first 261 iterations.\n",
      "0:\ttest: 0.7001763\tbest: 0.7001763 (0)\ttotal: 57.4ms\tremaining: 2m 25s\n",
      "300:\ttest: 0.7408292\tbest: 0.7408343 (298)\ttotal: 15.1s\tremaining: 1m 51s\n",
      "600:\ttest: 0.7407892\tbest: 0.7410260 (476)\ttotal: 30.6s\tremaining: 1m 38s\n"
     ]
    },
    {
     "name": "stderr",
     "output_type": "stream",
     "text": [
      "[I 2025-02-26 01:11:02,394] Trial 2 finished with value: 0.741025983764031 and parameters: {'iterations': 2535, 'depth': 4, 'learning_rate': 0.09275339199839054, 'l2_leaf_reg': 0.0008705394248343123}. Best is trial 0 with value: 0.7414563523839406.\n"
     ]
    },
    {
     "name": "stdout",
     "output_type": "stream",
     "text": [
      "Stopped by overfitting detector  (300 iterations wait)\n",
      "\n",
      "bestTest = 0.7410259838\n",
      "bestIteration = 476\n",
      "\n",
      "Shrink model to first 477 iterations.\n",
      "0:\ttest: 0.7001763\tbest: 0.7001763 (0)\ttotal: 56.8ms\tremaining: 2m 12s\n",
      "300:\ttest: 0.7403259\tbest: 0.7403313 (299)\ttotal: 14.5s\tremaining: 1m 37s\n",
      "600:\ttest: 0.7413408\tbest: 0.7413408 (600)\ttotal: 29.9s\tremaining: 1m 26s\n",
      "900:\ttest: 0.7412666\tbest: 0.7414195 (631)\ttotal: 45.5s\tremaining: 1m 12s\n"
     ]
    },
    {
     "name": "stderr",
     "output_type": "stream",
     "text": [
      "[I 2025-02-26 01:11:49,740] Trial 3 finished with value: 0.7414195462395247 and parameters: {'iterations': 2334, 'depth': 4, 'learning_rate': 0.04657568321363276, 'l2_leaf_reg': 0.0008640473331457248}. Best is trial 0 with value: 0.7414563523839406.\n"
     ]
    },
    {
     "name": "stdout",
     "output_type": "stream",
     "text": [
      "Stopped by overfitting detector  (300 iterations wait)\n",
      "\n",
      "bestTest = 0.7414195462\n",
      "bestIteration = 631\n",
      "\n",
      "Shrink model to first 632 iterations.\n",
      "0:\ttest: 0.7273381\tbest: 0.7273381 (0)\ttotal: 131ms\tremaining: 3m 48s\n",
      "300:\ttest: 0.7388547\tbest: 0.7388586 (299)\ttotal: 39.4s\tremaining: 3m 8s\n",
      "600:\ttest: 0.7392380\tbest: 0.7393542 (375)\ttotal: 1m 22s\tremaining: 2m 36s\n"
     ]
    },
    {
     "name": "stderr",
     "output_type": "stream",
     "text": [
      "[I 2025-02-26 01:13:22,872] Trial 4 finished with value: 0.7393542049254936 and parameters: {'iterations': 1742, 'depth': 10, 'learning_rate': 0.012622767482095846, 'l2_leaf_reg': 0.00021158816350109617}. Best is trial 0 with value: 0.7414563523839406.\n"
     ]
    },
    {
     "name": "stdout",
     "output_type": "stream",
     "text": [
      "Stopped by overfitting detector  (300 iterations wait)\n",
      "\n",
      "bestTest = 0.7393542049\n",
      "bestIteration = 375\n",
      "\n",
      "Shrink model to first 376 iterations.\n",
      "0:\ttest: 0.7001763\tbest: 0.7001763 (0)\ttotal: 54.3ms\tremaining: 1m 53s\n",
      "300:\ttest: 0.7409543\tbest: 0.7409543 (300)\ttotal: 15.5s\tremaining: 1m 31s\n",
      "600:\ttest: 0.7410590\tbest: 0.7412444 (457)\ttotal: 31.1s\tremaining: 1m 16s\n"
     ]
    },
    {
     "name": "stderr",
     "output_type": "stream",
     "text": [
      "[I 2025-02-26 01:14:02,359] Trial 5 finished with value: 0.741244354710181 and parameters: {'iterations': 2082, 'depth': 4, 'learning_rate': 0.06995196593094148, 'l2_leaf_reg': 0.0018080296485396804}. Best is trial 0 with value: 0.7414563523839406.\n"
     ]
    },
    {
     "name": "stdout",
     "output_type": "stream",
     "text": [
      "Stopped by overfitting detector  (300 iterations wait)\n",
      "\n",
      "bestTest = 0.7412443547\n",
      "bestIteration = 457\n",
      "\n",
      "Shrink model to first 458 iterations.\n",
      "0:\ttest: 0.7061041\tbest: 0.7061041 (0)\ttotal: 64.8ms\tremaining: 2m 9s\n",
      "300:\ttest: 0.7415436\tbest: 0.7415592 (298)\ttotal: 18.8s\tremaining: 1m 45s\n",
      "600:\ttest: 0.7417266\tbest: 0.7417748 (590)\ttotal: 37.7s\tremaining: 1m 27s\n",
      "900:\ttest: 0.7417238\tbest: 0.7417987 (787)\ttotal: 56.7s\tremaining: 1m 9s\n"
     ]
    },
    {
     "name": "stderr",
     "output_type": "stream",
     "text": [
      "[I 2025-02-26 01:15:10,983] Trial 6 finished with value: 0.741798694398023 and parameters: {'iterations': 1997, 'depth': 5, 'learning_rate': 0.07985155992831598, 'l2_leaf_reg': 62.52181000710482}. Best is trial 6 with value: 0.741798694398023.\n"
     ]
    },
    {
     "name": "stdout",
     "output_type": "stream",
     "text": [
      "Stopped by overfitting detector  (300 iterations wait)\n",
      "\n",
      "bestTest = 0.7417986944\n",
      "bestIteration = 787\n",
      "\n",
      "Shrink model to first 788 iterations.\n",
      "저장 완료\n",
      "0:\ttest: 0.7168509\tbest: 0.7168509 (0)\ttotal: 97.5ms\tremaining: 3m 7s\n",
      "300:\ttest: 0.7407406\tbest: 0.7414064 (206)\ttotal: 26.2s\tremaining: 2m 21s\n"
     ]
    },
    {
     "name": "stderr",
     "output_type": "stream",
     "text": [
      "[I 2025-02-26 01:15:55,760] Trial 7 finished with value: 0.741406398635235 and parameters: {'iterations': 1927, 'depth': 7, 'learning_rate': 0.0941937211034094, 'l2_leaf_reg': 0.05654822767791934}. Best is trial 6 with value: 0.741798694398023.\n"
     ]
    },
    {
     "name": "stdout",
     "output_type": "stream",
     "text": [
      "Stopped by overfitting detector  (300 iterations wait)\n",
      "\n",
      "bestTest = 0.7414063986\n",
      "bestIteration = 206\n",
      "\n",
      "Shrink model to first 207 iterations.\n",
      "0:\ttest: 0.7168488\tbest: 0.7168488 (0)\ttotal: 86ms\tremaining: 2m 43s\n",
      "300:\ttest: 0.7415587\tbest: 0.7415806 (289)\ttotal: 24.7s\tremaining: 2m 11s\n",
      "600:\ttest: 0.7414557\tbest: 0.7418465 (366)\ttotal: 51.4s\tremaining: 1m 51s\n"
     ]
    },
    {
     "name": "stderr",
     "output_type": "stream",
     "text": [
      "[I 2025-02-26 01:16:53,267] Trial 8 finished with value: 0.7418464681301913 and parameters: {'iterations': 1904, 'depth': 7, 'learning_rate': 0.05155602859187331, 'l2_leaf_reg': 1.299974533316308}. Best is trial 8 with value: 0.7418464681301913.\n"
     ]
    },
    {
     "name": "stdout",
     "output_type": "stream",
     "text": [
      "Stopped by overfitting detector  (300 iterations wait)\n",
      "\n",
      "bestTest = 0.7418464681\n",
      "bestIteration = 366\n",
      "\n",
      "Shrink model to first 367 iterations.\n",
      "저장 완료\n",
      "0:\ttest: 0.7167891\tbest: 0.7167891 (0)\ttotal: 74.9ms\tremaining: 3m 17s\n",
      "300:\ttest: 0.7407883\tbest: 0.7407988 (297)\ttotal: 21.1s\tremaining: 2m 43s\n",
      "600:\ttest: 0.7413633\tbest: 0.7414034 (584)\ttotal: 43.9s\tremaining: 2m 29s\n"
     ]
    },
    {
     "name": "stderr",
     "output_type": "stream",
     "text": [
      "[I 2025-02-26 01:17:59,124] Trial 9 finished with value: 0.7414033767908181 and parameters: {'iterations': 2639, 'depth': 6, 'learning_rate': 0.03968704290444751, 'l2_leaf_reg': 0.30557194377967184}. Best is trial 8 with value: 0.7418464681301913.\n"
     ]
    },
    {
     "name": "stdout",
     "output_type": "stream",
     "text": [
      "Stopped by overfitting detector  (300 iterations wait)\n",
      "\n",
      "bestTest = 0.7414033768\n",
      "bestIteration = 584\n",
      "\n",
      "Shrink model to first 585 iterations.\n",
      "0:\ttest: 0.7198680\tbest: 0.7198680 (0)\ttotal: 97.2ms\tremaining: 4m 46s\n",
      "300:\ttest: 0.7410428\tbest: 0.7410428 (300)\ttotal: 27.5s\tremaining: 4m 1s\n",
      "600:\ttest: 0.7415365\tbest: 0.7416152 (581)\ttotal: 1m\tremaining: 3m 57s\n",
      "900:\ttest: 0.7411238\tbest: 0.7416283 (648)\ttotal: 1m 31s\tremaining: 3m 26s\n"
     ]
    },
    {
     "name": "stderr",
     "output_type": "stream",
     "text": [
      "[I 2025-02-26 01:19:33,392] Trial 10 finished with value: 0.741628303670125 and parameters: {'iterations': 2945, 'depth': 8, 'learning_rate': 0.032580115422505045, 'l2_leaf_reg': 0.87526046512315}. Best is trial 8 with value: 0.7418464681301913.\n"
     ]
    },
    {
     "name": "stdout",
     "output_type": "stream",
     "text": [
      "Stopped by overfitting detector  (300 iterations wait)\n",
      "\n",
      "bestTest = 0.7416283037\n",
      "bestIteration = 648\n",
      "\n",
      "Shrink model to first 649 iterations.\n",
      "0:\ttest: 0.7167953\tbest: 0.7167953 (0)\ttotal: 80.5ms\tremaining: 2m 12s\n",
      "300:\ttest: 0.7412149\tbest: 0.7412336 (298)\ttotal: 22s\tremaining: 1m 38s\n",
      "600:\ttest: 0.7413794\tbest: 0.7415038 (494)\ttotal: 44.3s\tremaining: 1m 16s\n"
     ]
    },
    {
     "name": "stderr",
     "output_type": "stream",
     "text": [
      "[I 2025-02-26 01:20:32,248] Trial 11 finished with value: 0.7415037528528038 and parameters: {'iterations': 1645, 'depth': 6, 'learning_rate': 0.06980778172048213, 'l2_leaf_reg': 73.1213351392818}. Best is trial 8 with value: 0.7418464681301913.\n"
     ]
    },
    {
     "name": "stdout",
     "output_type": "stream",
     "text": [
      "Stopped by overfitting detector  (300 iterations wait)\n",
      "\n",
      "bestTest = 0.7415037529\n",
      "bestIteration = 494\n",
      "\n",
      "Shrink model to first 495 iterations.\n",
      "0:\ttest: 0.7167809\tbest: 0.7167809 (0)\ttotal: 77.3ms\tremaining: 2m 26s\n",
      "300:\ttest: 0.7413662\tbest: 0.7414092 (274)\ttotal: 21.8s\tremaining: 1m 55s\n"
     ]
    },
    {
     "name": "stderr",
     "output_type": "stream",
     "text": [
      "[I 2025-02-26 01:21:14,924] Trial 12 finished with value: 0.741409245760658 and parameters: {'iterations': 1898, 'depth': 6, 'learning_rate': 0.06850833108780335, 'l2_leaf_reg': 6.112234112518604}. Best is trial 8 with value: 0.7418464681301913.\n"
     ]
    },
    {
     "name": "stdout",
     "output_type": "stream",
     "text": [
      "Stopped by overfitting detector  (300 iterations wait)\n",
      "\n",
      "bestTest = 0.7414092458\n",
      "bestIteration = 274\n",
      "\n",
      "Shrink model to first 275 iterations.\n",
      "0:\ttest: 0.7198931\tbest: 0.7198931 (0)\ttotal: 97ms\tremaining: 3m 7s\n",
      "300:\ttest: 0.7415164\tbest: 0.7415164 (300)\ttotal: 28s\tremaining: 2m 32s\n",
      "600:\ttest: 0.7416009\tbest: 0.7418151 (492)\ttotal: 58.4s\tremaining: 2m 9s\n"
     ]
    },
    {
     "name": "stderr",
     "output_type": "stream",
     "text": [
      "[I 2025-02-26 01:22:32,756] Trial 13 finished with value: 0.7418150703328132 and parameters: {'iterations': 1937, 'depth': 8, 'learning_rate': 0.05956351603701897, 'l2_leaf_reg': 55.074044317639256}. Best is trial 8 with value: 0.7418464681301913.\n"
     ]
    },
    {
     "name": "stdout",
     "output_type": "stream",
     "text": [
      "Stopped by overfitting detector  (300 iterations wait)\n",
      "\n",
      "bestTest = 0.7418150703\n",
      "bestIteration = 492\n",
      "\n",
      "Shrink model to first 493 iterations.\n",
      "0:\ttest: 0.7198698\tbest: 0.7198698 (0)\ttotal: 100ms\tremaining: 2m 33s\n",
      "300:\ttest: 0.7409352\tbest: 0.7410104 (294)\ttotal: 28.5s\tremaining: 1m 56s\n",
      "600:\ttest: 0.7393302\tbest: 0.7410152 (308)\ttotal: 59.2s\tremaining: 1m 31s\n"
     ]
    },
    {
     "name": "stderr",
     "output_type": "stream",
     "text": [
      "[I 2025-02-26 01:23:32,978] Trial 14 finished with value: 0.7410151750117275 and parameters: {'iterations': 1533, 'depth': 8, 'learning_rate': 0.05737459522516041, 'l2_leaf_reg': 0.037504318502340525}. Best is trial 8 with value: 0.7418464681301913.\n"
     ]
    },
    {
     "name": "stdout",
     "output_type": "stream",
     "text": [
      "Stopped by overfitting detector  (300 iterations wait)\n",
      "\n",
      "bestTest = 0.741015175\n",
      "bestIteration = 308\n",
      "\n",
      "Shrink model to first 309 iterations.\n",
      "0:\ttest: 0.7198448\tbest: 0.7198448 (0)\ttotal: 97.3ms\tremaining: 2m 50s\n",
      "300:\ttest: 0.7412687\tbest: 0.7412689 (297)\ttotal: 26.8s\tremaining: 2m 9s\n",
      "600:\ttest: 0.7420410\tbest: 0.7420935 (580)\ttotal: 57.8s\tremaining: 1m 50s\n",
      "900:\ttest: 0.7420031\tbest: 0.7422120 (774)\ttotal: 1m 29s\tremaining: 1m 24s\n"
     ]
    },
    {
     "name": "stderr",
     "output_type": "stream",
     "text": [
      "[I 2025-02-26 01:25:20,351] Trial 15 finished with value: 0.7422119524691908 and parameters: {'iterations': 1753, 'depth': 8, 'learning_rate': 0.031684876809801796, 'l2_leaf_reg': 3.400203453407683}. Best is trial 15 with value: 0.7422119524691908.\n"
     ]
    },
    {
     "name": "stdout",
     "output_type": "stream",
     "text": [
      "Stopped by overfitting detector  (300 iterations wait)\n",
      "\n",
      "bestTest = 0.7422119525\n",
      "bestIteration = 774\n",
      "\n",
      "Shrink model to first 775 iterations.\n",
      "저장 완료\n",
      "0:\ttest: 0.7239197\tbest: 0.7239197 (0)\ttotal: 117ms\tremaining: 3m 19s\n",
      "300:\ttest: 0.7409357\tbest: 0.7409357 (300)\ttotal: 30.3s\tremaining: 2m 21s\n",
      "600:\ttest: 0.7414083\tbest: 0.7414748 (522)\ttotal: 1m 3s\tremaining: 1m 57s\n"
     ]
    },
    {
     "name": "stderr",
     "output_type": "stream",
     "text": [
      "[I 2025-02-26 01:26:50,487] Trial 16 finished with value: 0.7414748408302023 and parameters: {'iterations': 1706, 'depth': 9, 'learning_rate': 0.027198320505425724, 'l2_leaf_reg': 2.2406425579941533}. Best is trial 15 with value: 0.7422119524691908.\n"
     ]
    },
    {
     "name": "stdout",
     "output_type": "stream",
     "text": [
      "Stopped by overfitting detector  (300 iterations wait)\n",
      "\n",
      "bestTest = 0.7414748408\n",
      "bestIteration = 522\n",
      "\n",
      "Shrink model to first 523 iterations.\n",
      "0:\ttest: 0.7168510\tbest: 0.7168510 (0)\ttotal: 85ms\tremaining: 2m 9s\n",
      "300:\ttest: 0.7404118\tbest: 0.7404118 (300)\ttotal: 23.8s\tremaining: 1m 36s\n",
      "600:\ttest: 0.7413018\tbest: 0.7413127 (599)\ttotal: 48.6s\tremaining: 1m 14s\n",
      "900:\ttest: 0.7413256\tbest: 0.7414449 (681)\ttotal: 1m 15s\tremaining: 51.8s\n",
      "1200:\ttest: 0.7410334\tbest: 0.7415032 (984)\ttotal: 1m 41s\tremaining: 27.2s\n"
     ]
    },
    {
     "name": "stderr",
     "output_type": "stream",
     "text": [
      "[I 2025-02-26 01:28:40,097] Trial 17 finished with value: 0.7415032207540497 and parameters: {'iterations': 1522, 'depth': 7, 'learning_rate': 0.02432488838207133, 'l2_leaf_reg': 0.010986858818421364}. Best is trial 15 with value: 0.7422119524691908.\n"
     ]
    },
    {
     "name": "stdout",
     "output_type": "stream",
     "text": [
      "Stopped by overfitting detector  (300 iterations wait)\n",
      "\n",
      "bestTest = 0.7415032208\n",
      "bestIteration = 984\n",
      "\n",
      "Shrink model to first 985 iterations.\n",
      "0:\ttest: 0.7239252\tbest: 0.7239252 (0)\ttotal: 115ms\tremaining: 3m 24s\n",
      "300:\ttest: 0.7407174\tbest: 0.7409304 (279)\ttotal: 31.4s\tremaining: 2m 33s\n"
     ]
    },
    {
     "name": "stderr",
     "output_type": "stream",
     "text": [
      "[I 2025-02-26 01:29:44,828] Trial 18 finished with value: 0.7409304323288082 and parameters: {'iterations': 1770, 'depth': 9, 'learning_rate': 0.04656812687583585, 'l2_leaf_reg': 0.2628444134576081}. Best is trial 15 with value: 0.7422119524691908.\n"
     ]
    },
    {
     "name": "stdout",
     "output_type": "stream",
     "text": [
      "Stopped by overfitting detector  (300 iterations wait)\n",
      "\n",
      "bestTest = 0.7409304323\n",
      "bestIteration = 279\n",
      "\n",
      "Shrink model to first 280 iterations.\n",
      "0:\ttest: 0.7168353\tbest: 0.7168353 (0)\ttotal: 84.8ms\tremaining: 3m 2s\n",
      "300:\ttest: 0.7411890\tbest: 0.7411917 (298)\ttotal: 24.3s\tremaining: 2m 29s\n",
      "600:\ttest: 0.7420688\tbest: 0.7421001 (595)\ttotal: 50.5s\tremaining: 2m 10s\n",
      "900:\ttest: 0.7418802\tbest: 0.7421101 (619)\ttotal: 1m 16s\tremaining: 1m 46s\n"
     ]
    },
    {
     "name": "stderr",
     "output_type": "stream",
     "text": [
      "[I 2025-02-26 01:31:03,650] Trial 19 finished with value: 0.7421100833539847 and parameters: {'iterations': 2153, 'depth': 7, 'learning_rate': 0.036214518104510374, 'l2_leaf_reg': 5.597754063560477}. Best is trial 15 with value: 0.7422119524691908.\n"
     ]
    },
    {
     "name": "stdout",
     "output_type": "stream",
     "text": [
      "Stopped by overfitting detector  (300 iterations wait)\n",
      "\n",
      "bestTest = 0.7421100834\n",
      "bestIteration = 619\n",
      "\n",
      "Shrink model to first 620 iterations.\n",
      "0:\ttest: 0.7239424\tbest: 0.7239424 (0)\ttotal: 128ms\tremaining: 4m 44s\n",
      "300:\ttest: 0.7410042\tbest: 0.7410177 (297)\ttotal: 30.9s\tremaining: 3m 16s\n",
      "600:\ttest: 0.7418930\tbest: 0.7419522 (571)\ttotal: 1m 5s\tremaining: 2m 54s\n"
     ]
    },
    {
     "name": "stderr",
     "output_type": "stream",
     "text": [
      "[I 2025-02-26 01:32:40,815] Trial 20 finished with value: 0.7419521731214904 and parameters: {'iterations': 2212, 'depth': 9, 'learning_rate': 0.03438358659717504, 'l2_leaf_reg': 11.565287013717036}. Best is trial 15 with value: 0.7422119524691908.\n"
     ]
    },
    {
     "name": "stdout",
     "output_type": "stream",
     "text": [
      "Stopped by overfitting detector  (300 iterations wait)\n",
      "\n",
      "bestTest = 0.7419521731\n",
      "bestIteration = 571\n",
      "\n",
      "Shrink model to first 572 iterations.\n",
      "0:\ttest: 0.7239380\tbest: 0.7239380 (0)\ttotal: 116ms\tremaining: 4m 12s\n",
      "300:\ttest: 0.7406885\tbest: 0.7407000 (286)\ttotal: 30.3s\tremaining: 3m 9s\n",
      "600:\ttest: 0.7409813\tbest: 0.7410187 (508)\ttotal: 1m 4s\tremaining: 2m 51s\n"
     ]
    },
    {
     "name": "stderr",
     "output_type": "stream",
     "text": [
      "[I 2025-02-26 01:34:10,553] Trial 21 finished with value: 0.7410186535080604 and parameters: {'iterations': 2185, 'depth': 9, 'learning_rate': 0.03456585136939929, 'l2_leaf_reg': 12.029236298007566}. Best is trial 15 with value: 0.7422119524691908.\n"
     ]
    },
    {
     "name": "stdout",
     "output_type": "stream",
     "text": [
      "Stopped by overfitting detector  (300 iterations wait)\n",
      "\n",
      "bestTest = 0.7410186535\n",
      "bestIteration = 508\n",
      "\n",
      "Shrink model to first 509 iterations.\n",
      "0:\ttest: 0.7198596\tbest: 0.7198596 (0)\ttotal: 119ms\tremaining: 4m 58s\n",
      "300:\ttest: 0.7402962\tbest: 0.7402968 (299)\ttotal: 27s\tremaining: 3m 18s\n",
      "600:\ttest: 0.7412144\tbest: 0.7412144 (600)\ttotal: 53.7s\tremaining: 2m 50s\n",
      "900:\ttest: 0.7416569\tbest: 0.7416662 (888)\ttotal: 1m 22s\tremaining: 2m 28s\n",
      "1200:\ttest: 0.7418291\tbest: 0.7418471 (1181)\ttotal: 1m 53s\tremaining: 2m 3s\n"
     ]
    },
    {
     "name": "stderr",
     "output_type": "stream",
     "text": [
      "[I 2025-02-26 01:36:32,255] Trial 22 finished with value: 0.7418470875884424 and parameters: {'iterations': 2513, 'depth': 8, 'learning_rate': 0.018388357535398615, 'l2_leaf_reg': 17.17756146389429}. Best is trial 15 with value: 0.7422119524691908.\n"
     ]
    },
    {
     "name": "stdout",
     "output_type": "stream",
     "text": [
      "Stopped by overfitting detector  (300 iterations wait)\n",
      "\n",
      "bestTest = 0.7418470876\n",
      "bestIteration = 1181\n",
      "\n",
      "Shrink model to first 1182 iterations.\n",
      "0:\ttest: 0.7239067\tbest: 0.7239067 (0)\ttotal: 113ms\tremaining: 3m 57s\n",
      "300:\ttest: 0.7409889\tbest: 0.7409951 (295)\ttotal: 31.1s\tremaining: 3m 5s\n",
      "600:\ttest: 0.7412051\tbest: 0.7412884 (558)\ttotal: 1m 6s\tremaining: 2m 45s\n"
     ]
    },
    {
     "name": "stderr",
     "output_type": "stream",
     "text": [
      "[I 2025-02-26 01:38:09,998] Trial 23 finished with value: 0.7412883997801845 and parameters: {'iterations': 2092, 'depth': 9, 'learning_rate': 0.04024175236120411, 'l2_leaf_reg': 3.4842930450696823}. Best is trial 15 with value: 0.7422119524691908.\n"
     ]
    },
    {
     "name": "stdout",
     "output_type": "stream",
     "text": [
      "Stopped by overfitting detector  (300 iterations wait)\n",
      "\n",
      "bestTest = 0.7412883998\n",
      "bestIteration = 558\n",
      "\n",
      "Shrink model to first 559 iterations.\n",
      "0:\ttest: 0.7198690\tbest: 0.7198690 (0)\ttotal: 99.7ms\tremaining: 4m 32s\n",
      "300:\ttest: 0.7407448\tbest: 0.7407448 (300)\ttotal: 27.1s\tremaining: 3m 39s\n",
      "600:\ttest: 0.7416119\tbest: 0.7416165 (598)\ttotal: 55.6s\tremaining: 3m 17s\n",
      "900:\ttest: 0.7416337\tbest: 0.7417622 (635)\ttotal: 1m 26s\tremaining: 2m 55s\n"
     ]
    },
    {
     "name": "stderr",
     "output_type": "stream",
     "text": [
      "[I 2025-02-26 01:39:39,931] Trial 24 finished with value: 0.7417622257789362 and parameters: {'iterations': 2739, 'depth': 8, 'learning_rate': 0.024715342844759243, 'l2_leaf_reg': 0.42690029968107973}. Best is trial 15 with value: 0.7422119524691908.\n"
     ]
    },
    {
     "name": "stdout",
     "output_type": "stream",
     "text": [
      "Stopped by overfitting detector  (300 iterations wait)\n",
      "\n",
      "bestTest = 0.7417622258\n",
      "bestIteration = 635\n",
      "\n",
      "Shrink model to first 636 iterations.\n",
      "0:\ttest: 0.7168273\tbest: 0.7168273 (0)\ttotal: 86.1ms\tremaining: 3m 20s\n",
      "300:\ttest: 0.7408472\tbest: 0.7408545 (298)\ttotal: 24.2s\tremaining: 2m 43s\n",
      "600:\ttest: 0.7418233\tbest: 0.7418478 (583)\ttotal: 49.9s\tremaining: 2m 23s\n",
      "900:\ttest: 0.7419165\tbest: 0.7419529 (799)\ttotal: 1m 15s\tremaining: 2m\n",
      "1200:\ttest: 0.7418745\tbest: 0.7419617 (1041)\ttotal: 1m 42s\tremaining: 1m 36s\n"
     ]
    },
    {
     "name": "stderr",
     "output_type": "stream",
     "text": [
      "[I 2025-02-26 01:41:34,720] Trial 25 finished with value: 0.7419617151610882 and parameters: {'iterations': 2332, 'depth': 7, 'learning_rate': 0.033700014203530325, 'l2_leaf_reg': 21.902960777265868}. Best is trial 15 with value: 0.7422119524691908.\n"
     ]
    },
    {
     "name": "stdout",
     "output_type": "stream",
     "text": [
      "Stopped by overfitting detector  (300 iterations wait)\n",
      "\n",
      "bestTest = 0.7419617152\n",
      "bestIteration = 1041\n",
      "\n",
      "Shrink model to first 1042 iterations.\n",
      "0:\ttest: 0.7168426\tbest: 0.7168426 (0)\ttotal: 84.8ms\tremaining: 3m 21s\n",
      "300:\ttest: 0.7412290\tbest: 0.7412290 (300)\ttotal: 24s\tremaining: 2m 45s\n",
      "600:\ttest: 0.7416678\tbest: 0.7416800 (595)\ttotal: 49.7s\tremaining: 2m 26s\n",
      "900:\ttest: 0.7416895\tbest: 0.7416895 (900)\ttotal: 1m 15s\tremaining: 2m 4s\n"
     ]
    },
    {
     "name": "stderr",
     "output_type": "stream",
     "text": [
      "[I 2025-02-26 01:43:16,904] Trial 26 finished with value: 0.7416894791433013 and parameters: {'iterations': 2376, 'depth': 7, 'learning_rate': 0.043253178256445056, 'l2_leaf_reg': 39.40918881727929}. Best is trial 15 with value: 0.7422119524691908.\n"
     ]
    },
    {
     "name": "stdout",
     "output_type": "stream",
     "text": [
      "1200:\ttest: 0.7414018\tbest: 0.7416895 (900)\ttotal: 1m 41s\tremaining: 1m 39s\n",
      "Stopped by overfitting detector  (300 iterations wait)\n",
      "\n",
      "bestTest = 0.7416894791\n",
      "bestIteration = 900\n",
      "\n",
      "Shrink model to first 901 iterations.\n",
      "0:\ttest: 0.7167883\tbest: 0.7167883 (0)\ttotal: 76.9ms\tremaining: 3m 12s\n",
      "300:\ttest: 0.7396829\tbest: 0.7396829 (300)\ttotal: 20.9s\tremaining: 2m 32s\n",
      "600:\ttest: 0.7410004\tbest: 0.7410013 (597)\ttotal: 42.5s\tremaining: 2m 14s\n",
      "900:\ttest: 0.7416527\tbest: 0.7416563 (892)\ttotal: 1m 4s\tremaining: 1m 55s\n",
      "1200:\ttest: 0.7418602\tbest: 0.7418744 (1164)\ttotal: 1m 27s\tremaining: 1m 34s\n",
      "1500:\ttest: 0.7418996\tbest: 0.7418996 (1500)\ttotal: 1m 50s\tremaining: 1m 13s\n",
      "1800:\ttest: 0.7418355\tbest: 0.7419072 (1507)\ttotal: 2m 13s\tremaining: 51.7s\n"
     ]
    },
    {
     "name": "stderr",
     "output_type": "stream",
     "text": [
      "[I 2025-02-26 01:45:30,970] Trial 27 finished with value: 0.7419071710679069 and parameters: {'iterations': 2500, 'depth': 6, 'learning_rate': 0.020033927979552422, 'l2_leaf_reg': 2.923677795674017}. Best is trial 15 with value: 0.7422119524691908.\n"
     ]
    },
    {
     "name": "stdout",
     "output_type": "stream",
     "text": [
      "Stopped by overfitting detector  (300 iterations wait)\n",
      "\n",
      "bestTest = 0.7419071711\n",
      "bestIteration = 1507\n",
      "\n",
      "Shrink model to first 1508 iterations.\n",
      "0:\ttest: 0.7061173\tbest: 0.7061173 (0)\ttotal: 64.8ms\tremaining: 2m 14s\n",
      "300:\ttest: 0.7402646\tbest: 0.7402646 (300)\ttotal: 17.9s\tremaining: 1m 45s\n",
      "600:\ttest: 0.7415257\tbest: 0.7415271 (598)\ttotal: 36.6s\tremaining: 1m 29s\n",
      "900:\ttest: 0.7418290\tbest: 0.7418314 (895)\ttotal: 55.3s\tremaining: 1m 12s\n",
      "1200:\ttest: 0.7418902\tbest: 0.7418961 (1084)\ttotal: 1m 14s\tremaining: 54.1s\n",
      "1500:\ttest: 0.7418512\tbest: 0.7418969 (1278)\ttotal: 1m 33s\tremaining: 35.8s\n"
     ]
    },
    {
     "name": "stderr",
     "output_type": "stream",
     "text": [
      "[I 2025-02-26 01:47:09,560] Trial 28 finished with value: 0.7418968983852439 and parameters: {'iterations': 2076, 'depth': 5, 'learning_rate': 0.03166577393185828, 'l2_leaf_reg': 28.392310517933037}. Best is trial 15 with value: 0.7422119524691908.\n"
     ]
    },
    {
     "name": "stdout",
     "output_type": "stream",
     "text": [
      "Stopped by overfitting detector  (300 iterations wait)\n",
      "\n",
      "bestTest = 0.7418968984\n",
      "bestIteration = 1278\n",
      "\n",
      "Shrink model to first 1279 iterations.\n",
      "0:\ttest: 0.7273580\tbest: 0.7273580 (0)\ttotal: 135ms\tremaining: 5m 11s\n",
      "300:\ttest: 0.7400504\tbest: 0.7400504 (300)\ttotal: 40s\tremaining: 4m 26s\n",
      "600:\ttest: 0.7408142\tbest: 0.7408330 (596)\ttotal: 1m 23s\tremaining: 3m 58s\n",
      "900:\ttest: 0.7411225\tbest: 0.7411661 (875)\ttotal: 2m 9s\tremaining: 3m 22s\n",
      "1200:\ttest: 0.7409165\tbest: 0.7411831 (963)\ttotal: 2m 57s\tremaining: 2m 43s\n"
     ]
    },
    {
     "name": "stderr",
     "output_type": "stream",
     "text": [
      "[I 2025-02-26 01:50:19,846] Trial 29 finished with value: 0.741183095848394 and parameters: {'iterations': 2308, 'depth': 10, 'learning_rate': 0.01509504373808999, 'l2_leaf_reg': 0.8707625577918204}. Best is trial 15 with value: 0.7422119524691908.\n"
     ]
    },
    {
     "name": "stdout",
     "output_type": "stream",
     "text": [
      "Stopped by overfitting detector  (300 iterations wait)\n",
      "\n",
      "bestTest = 0.7411830958\n",
      "bestIteration = 963\n",
      "\n",
      "Shrink model to first 964 iterations.\n",
      "0:\ttest: 0.7168322\tbest: 0.7168322 (0)\ttotal: 83.4ms\tremaining: 3m 53s\n",
      "300:\ttest: 0.7360862\tbest: 0.7360862 (300)\ttotal: 22.9s\tremaining: 3m 9s\n",
      "600:\ttest: 0.7391727\tbest: 0.7391727 (600)\ttotal: 46.5s\tremaining: 2m 49s\n",
      "900:\ttest: 0.7402755\tbest: 0.7402755 (900)\ttotal: 1m 10s\tremaining: 2m 28s\n",
      "1200:\ttest: 0.7408146\tbest: 0.7408180 (1199)\ttotal: 1m 34s\tremaining: 2m 5s\n",
      "1500:\ttest: 0.7410398\tbest: 0.7410398 (1500)\ttotal: 1m 58s\tremaining: 1m 42s\n",
      "1800:\ttest: 0.7412679\tbest: 0.7412679 (1800)\ttotal: 2m 23s\tremaining: 1m 19s\n",
      "2100:\ttest: 0.7415077\tbest: 0.7415077 (2100)\ttotal: 2m 49s\tremaining: 56.3s\n",
      "2400:\ttest: 0.7416844\tbest: 0.7416845 (2399)\ttotal: 3m 16s\tremaining: 32.5s\n",
      "2700:\ttest: 0.7417565\tbest: 0.7417595 (2687)\ttotal: 3m 43s\tremaining: 7.93s\n"
     ]
    },
    {
     "name": "stderr",
     "output_type": "stream",
     "text": [
      "[I 2025-02-26 01:54:11,793] Trial 30 finished with value: 0.7417791457251393 and parameters: {'iterations': 2797, 'depth': 7, 'learning_rate': 0.0069604957526607815, 'l2_leaf_reg': 7.705055428708639}. Best is trial 15 with value: 0.7422119524691908.\n"
     ]
    },
    {
     "name": "stdout",
     "output_type": "stream",
     "text": [
      "2796:\ttest: 0.7417771\tbest: 0.7417791 (2795)\ttotal: 3m 51s\tremaining: 0us\n",
      "\n",
      "bestTest = 0.7417791457\n",
      "bestIteration = 2795\n",
      "\n",
      "Shrink model to first 2796 iterations.\n",
      "0:\ttest: 0.7198595\tbest: 0.7198595 (0)\ttotal: 96.4ms\tremaining: 3m 51s\n",
      "300:\ttest: 0.7409652\tbest: 0.7409652 (299)\ttotal: 27.1s\tremaining: 3m 8s\n",
      "600:\ttest: 0.7416641\tbest: 0.7416792 (596)\ttotal: 57.5s\tremaining: 2m 52s\n",
      "900:\ttest: 0.7416436\tbest: 0.7416806 (722)\ttotal: 1m 27s\tremaining: 2m 26s\n"
     ]
    },
    {
     "name": "stderr",
     "output_type": "stream",
     "text": [
      "[I 2025-02-26 01:55:52,140] Trial 31 finished with value: 0.7416805565619546 and parameters: {'iterations': 2401, 'depth': 8, 'learning_rate': 0.03525264833560508, 'l2_leaf_reg': 16.742544826399158}. Best is trial 15 with value: 0.7422119524691908.\n"
     ]
    },
    {
     "name": "stdout",
     "output_type": "stream",
     "text": [
      "Stopped by overfitting detector  (300 iterations wait)\n",
      "\n",
      "bestTest = 0.7416805566\n",
      "bestIteration = 722\n",
      "\n",
      "Shrink model to first 723 iterations.\n",
      "0:\ttest: 0.7239129\tbest: 0.7239129 (0)\ttotal: 116ms\tremaining: 4m 17s\n",
      "300:\ttest: 0.7407761\tbest: 0.7407962 (293)\ttotal: 31.2s\tremaining: 3m 18s\n",
      "600:\ttest: 0.7413572\tbest: 0.7414738 (580)\ttotal: 1m 4s\tremaining: 2m 53s\n"
     ]
    },
    {
     "name": "stderr",
     "output_type": "stream",
     "text": [
      "[I 2025-02-26 01:57:29,813] Trial 32 finished with value: 0.7414737766326942 and parameters: {'iterations': 2220, 'depth': 9, 'learning_rate': 0.026853500363735638, 'l2_leaf_reg': 5.932690584085092}. Best is trial 15 with value: 0.7422119524691908.\n"
     ]
    },
    {
     "name": "stdout",
     "output_type": "stream",
     "text": [
      "Stopped by overfitting detector  (300 iterations wait)\n",
      "\n",
      "bestTest = 0.7414737766\n",
      "bestIteration = 580\n",
      "\n",
      "Shrink model to first 581 iterations.\n",
      "0:\ttest: 0.7168273\tbest: 0.7168273 (0)\ttotal: 90.5ms\tremaining: 3m 23s\n",
      "300:\ttest: 0.7415347\tbest: 0.7415415 (292)\ttotal: 23.9s\tremaining: 2m 35s\n",
      "600:\ttest: 0.7419778\tbest: 0.7419852 (574)\ttotal: 50.1s\tremaining: 2m 17s\n",
      "900:\ttest: 0.7416939\tbest: 0.7420339 (668)\ttotal: 1m 16s\tremaining: 1m 54s\n"
     ]
    },
    {
     "name": "stderr",
     "output_type": "stream",
     "text": [
      "[I 2025-02-26 01:58:52,291] Trial 33 finished with value: 0.7420338820473342 and parameters: {'iterations': 2255, 'depth': 7, 'learning_rate': 0.05121078015525653, 'l2_leaf_reg': 22.26935811572153}. Best is trial 15 with value: 0.7422119524691908.\n"
     ]
    },
    {
     "name": "stdout",
     "output_type": "stream",
     "text": [
      "Stopped by overfitting detector  (300 iterations wait)\n",
      "\n",
      "bestTest = 0.742033882\n",
      "bestIteration = 668\n",
      "\n",
      "Shrink model to first 669 iterations.\n",
      "0:\ttest: 0.7167793\tbest: 0.7167793 (0)\ttotal: 79.5ms\tremaining: 3m 14s\n",
      "300:\ttest: 0.7412663\tbest: 0.7412663 (298)\ttotal: 21.4s\tremaining: 2m 32s\n",
      "600:\ttest: 0.7416776\tbest: 0.7416960 (584)\ttotal: 43.7s\tremaining: 2m 14s\n",
      "900:\ttest: 0.7418046\tbest: 0.7418855 (743)\ttotal: 1m 5s\tremaining: 1m 53s\n"
     ]
    },
    {
     "name": "stderr",
     "output_type": "stream",
     "text": [
      "[I 2025-02-26 02:00:09,378] Trial 34 finished with value: 0.7418854701746895 and parameters: {'iterations': 2452, 'depth': 6, 'learning_rate': 0.052357971388332154, 'l2_leaf_reg': 27.817079322325924}. Best is trial 15 with value: 0.7422119524691908.\n"
     ]
    },
    {
     "name": "stdout",
     "output_type": "stream",
     "text": [
      "Stopped by overfitting detector  (300 iterations wait)\n",
      "\n",
      "bestTest = 0.7418854702\n",
      "bestIteration = 743\n",
      "\n",
      "Shrink model to first 744 iterations.\n",
      "0:\ttest: 0.7168483\tbest: 0.7168483 (0)\ttotal: 84.4ms\tremaining: 3m 12s\n",
      "300:\ttest: 0.7411837\tbest: 0.7411965 (296)\ttotal: 25.4s\tremaining: 2m 47s\n",
      "600:\ttest: 0.7410870\tbest: 0.7414634 (426)\ttotal: 52.2s\tremaining: 2m 25s\n"
     ]
    },
    {
     "name": "stderr",
     "output_type": "stream",
     "text": [
      "[I 2025-02-26 02:01:12,964] Trial 35 finished with value: 0.7414634443867378 and parameters: {'iterations': 2282, 'depth': 7, 'learning_rate': 0.058415517347867346, 'l2_leaf_reg': 1.823260585082854}. Best is trial 15 with value: 0.7422119524691908.\n"
     ]
    },
    {
     "name": "stdout",
     "output_type": "stream",
     "text": [
      "Stopped by overfitting detector  (300 iterations wait)\n",
      "\n",
      "bestTest = 0.7414634444\n",
      "bestIteration = 426\n",
      "\n",
      "Shrink model to first 427 iterations.\n",
      "0:\ttest: 0.7168979\tbest: 0.7168979 (0)\ttotal: 84.6ms\tremaining: 3m 41s\n",
      "300:\ttest: 0.7413842\tbest: 0.7413842 (300)\ttotal: 23.9s\tremaining: 3m 3s\n",
      "600:\ttest: 0.7418961\tbest: 0.7419002 (599)\ttotal: 50s\tremaining: 2m 47s\n",
      "900:\ttest: 0.7419764\tbest: 0.7420361 (668)\ttotal: 1m 15s\tremaining: 2m 24s\n"
     ]
    },
    {
     "name": "stderr",
     "output_type": "stream",
     "text": [
      "[I 2025-02-26 02:02:34,817] Trial 36 finished with value: 0.7420361375107098 and parameters: {'iterations': 2616, 'depth': 7, 'learning_rate': 0.047691484959856846, 'l2_leaf_reg': 84.374201062341}. Best is trial 15 with value: 0.7422119524691908.\n"
     ]
    },
    {
     "name": "stdout",
     "output_type": "stream",
     "text": [
      "Stopped by overfitting detector  (300 iterations wait)\n",
      "\n",
      "bestTest = 0.7420361375\n",
      "bestIteration = 668\n",
      "\n",
      "Shrink model to first 669 iterations.\n",
      "0:\ttest: 0.7061101\tbest: 0.7061101 (0)\ttotal: 64.2ms\tremaining: 3m 12s\n",
      "300:\ttest: 0.7408544\tbest: 0.7408562 (298)\ttotal: 17.7s\tremaining: 2m 38s\n",
      "600:\ttest: 0.7416245\tbest: 0.7416539 (493)\ttotal: 36.5s\tremaining: 2m 25s\n",
      "900:\ttest: 0.7417781\tbest: 0.7418307 (806)\ttotal: 55.7s\tremaining: 2m 9s\n"
     ]
    },
    {
     "name": "stderr",
     "output_type": "stream",
     "text": [
      "[I 2025-02-26 02:03:43,935] Trial 37 finished with value: 0.7418306759156761 and parameters: {'iterations': 2999, 'depth': 5, 'learning_rate': 0.04390408131569546, 'l2_leaf_reg': 4.51837754335575}. Best is trial 15 with value: 0.7422119524691908.\n"
     ]
    },
    {
     "name": "stdout",
     "output_type": "stream",
     "text": [
      "Stopped by overfitting detector  (300 iterations wait)\n",
      "\n",
      "bestTest = 0.7418306759\n",
      "bestIteration = 806\n",
      "\n",
      "Shrink model to first 807 iterations.\n",
      "0:\ttest: 0.7168979\tbest: 0.7168979 (0)\ttotal: 85.6ms\tremaining: 3m 48s\n",
      "300:\ttest: 0.7412100\tbest: 0.7412110 (299)\ttotal: 23.7s\tremaining: 3m 6s\n",
      "600:\ttest: 0.7416989\tbest: 0.7417222 (599)\ttotal: 49.6s\tremaining: 2m 50s\n",
      "900:\ttest: 0.7417274\tbest: 0.7417487 (683)\ttotal: 1m 16s\tremaining: 2m 29s\n"
     ]
    },
    {
     "name": "stderr",
     "output_type": "stream",
     "text": [
      "[I 2025-02-26 02:05:07,871] Trial 38 finished with value: 0.741748696969569 and parameters: {'iterations': 2667, 'depth': 7, 'learning_rate': 0.0508531152426503, 'l2_leaf_reg': 84.59226862378267}. Best is trial 15 with value: 0.7422119524691908.\n"
     ]
    },
    {
     "name": "stdout",
     "output_type": "stream",
     "text": [
      "Stopped by overfitting detector  (300 iterations wait)\n",
      "\n",
      "bestTest = 0.741748697\n",
      "bestIteration = 683\n",
      "\n",
      "Shrink model to first 684 iterations.\n",
      "0:\ttest: 0.7198697\tbest: 0.7198697 (0)\ttotal: 100ms\tremaining: 4m 20s\n",
      "300:\ttest: 0.7411871\tbest: 0.7414538 (173)\ttotal: 28.6s\tremaining: 3m 38s\n"
     ]
    },
    {
     "name": "stderr",
     "output_type": "stream",
     "text": [
      "[I 2025-02-26 02:05:54,613] Trial 39 finished with value: 0.7414537871914395 and parameters: {'iterations': 2599, 'depth': 8, 'learning_rate': 0.062471860202261635, 'l2_leaf_reg': 0.11078371618386643}. Best is trial 15 with value: 0.7422119524691908.\n",
      "[I 2025-02-26 02:05:54,615] A new study created in memory with name: no-name-7c9612c9-80da-4eca-a558-0faa2e19aa8f\n"
     ]
    },
    {
     "name": "stdout",
     "output_type": "stream",
     "text": [
      "Stopped by overfitting detector  (300 iterations wait)\n",
      "\n",
      "bestTest = 0.7414537872\n",
      "bestIteration = 173\n",
      "\n",
      "Shrink model to first 174 iterations.\n"
     ]
    },
    {
     "name": "stderr",
     "output_type": "stream",
     "text": [
      "[I 2025-02-26 02:06:17,566] Trial 0 finished with value: 0.7296206455142534 and parameters: {'num_iterations': 2366, 'objective': 'binary', 'metric': 'auc', 'verbose': -1, 'learning_rate': 0.0652646236447618, 'n_estimators': 236, 'min_child_samples': 45, 'subsample': 0.7, 'colsample_bytree': 0.5}. Best is trial 0 with value: 0.7296206455142534.\n",
      "[I 2025-02-26 02:06:34,419] Trial 1 finished with value: 0.7417487565328623 and parameters: {'num_iterations': 1510, 'objective': 'binary', 'metric': 'auc', 'verbose': -1, 'learning_rate': 0.005231880959249543, 'n_estimators': 1411, 'min_child_samples': 10, 'subsample': 1.0, 'colsample_bytree': 0.5}. Best is trial 1 with value: 0.7417487565328623.\n",
      "[I 2025-02-26 02:06:53,707] Trial 2 finished with value: 0.7408884838867313 and parameters: {'num_iterations': 2334, 'objective': 'binary', 'metric': 'auc', 'verbose': -1, 'learning_rate': 0.006578527777128852, 'n_estimators': 931, 'min_child_samples': 15, 'subsample': 0.5, 'colsample_bytree': 1.0}. Best is trial 1 with value: 0.7417487565328623.\n",
      "[I 2025-02-26 02:07:10,814] Trial 3 finished with value: 0.7417913601711662 and parameters: {'num_iterations': 1620, 'objective': 'binary', 'metric': 'auc', 'verbose': -1, 'learning_rate': 0.0058823249237283685, 'n_estimators': 837, 'min_child_samples': 10, 'subsample': 0.9, 'colsample_bytree': 0.6}. Best is trial 3 with value: 0.7417913601711662.\n",
      "[I 2025-02-26 02:07:27,256] Trial 4 finished with value: 0.7410766999228917 and parameters: {'num_iterations': 1997, 'objective': 'binary', 'metric': 'auc', 'verbose': -1, 'learning_rate': 0.010907507425244923, 'n_estimators': 1597, 'min_child_samples': 50, 'subsample': 0.6, 'colsample_bytree': 0.8}. Best is trial 3 with value: 0.7417913601711662.\n",
      "[I 2025-02-26 02:07:49,406] Trial 5 finished with value: 0.7374007195055237 and parameters: {'num_iterations': 2909, 'objective': 'binary', 'metric': 'auc', 'verbose': -1, 'learning_rate': 0.019760591962733942, 'n_estimators': 612, 'min_child_samples': 30, 'subsample': 0.7, 'colsample_bytree': 0.9}. Best is trial 3 with value: 0.7417913601711662.\n",
      "[I 2025-02-26 02:08:09,785] Trial 6 finished with value: 0.7384961599465347 and parameters: {'num_iterations': 2639, 'objective': 'binary', 'metric': 'auc', 'verbose': -1, 'learning_rate': 0.017862094446750985, 'n_estimators': 794, 'min_child_samples': 35, 'subsample': 1.0, 'colsample_bytree': 0.8}. Best is trial 3 with value: 0.7417913601711662.\n",
      "[I 2025-02-26 02:08:26,260] Trial 7 finished with value: 0.7408413891761075 and parameters: {'num_iterations': 1580, 'objective': 'binary', 'metric': 'auc', 'verbose': -1, 'learning_rate': 0.01776722177611332, 'n_estimators': 529, 'min_child_samples': 25, 'subsample': 0.8, 'colsample_bytree': 0.5}. Best is trial 3 with value: 0.7417913601711662.\n",
      "[I 2025-02-26 02:08:43,772] Trial 8 finished with value: 0.7375739255917549 and parameters: {'num_iterations': 1911, 'objective': 'binary', 'metric': 'auc', 'verbose': -1, 'learning_rate': 0.0304747553332844, 'n_estimators': 1328, 'min_child_samples': 10, 'subsample': 0.7, 'colsample_bytree': 0.6}. Best is trial 3 with value: 0.7417913601711662.\n",
      "[I 2025-02-26 02:09:11,156] Trial 9 finished with value: 0.7367989833197047 and parameters: {'num_iterations': 2739, 'objective': 'binary', 'metric': 'auc', 'verbose': -1, 'learning_rate': 0.02691531614176271, 'n_estimators': 1438, 'min_child_samples': 20, 'subsample': 0.6, 'colsample_bytree': 0.5}. Best is trial 3 with value: 0.7417913601711662.\n",
      "[I 2025-02-26 02:09:25,445] Trial 10 finished with value: 0.7278520564695601 and parameters: {'num_iterations': 1883, 'objective': 'binary', 'metric': 'auc', 'verbose': -1, 'learning_rate': 0.08223556891145911, 'n_estimators': 1917, 'min_child_samples': 40, 'subsample': 0.9, 'colsample_bytree': 0.7}. Best is trial 3 with value: 0.7417913601711662.\n",
      "[I 2025-02-26 02:09:40,896] Trial 11 finished with value: 0.7419054238779681 and parameters: {'num_iterations': 1513, 'objective': 'binary', 'metric': 'auc', 'verbose': -1, 'learning_rate': 0.005340229419903739, 'n_estimators': 1206, 'min_child_samples': 10, 'subsample': 1.0, 'colsample_bytree': 0.6}. Best is trial 11 with value: 0.7419054238779681.\n",
      "[I 2025-02-26 02:09:55,599] Trial 12 finished with value: 0.7413668962590726 and parameters: {'num_iterations': 1717, 'objective': 'binary', 'metric': 'auc', 'verbose': -1, 'learning_rate': 0.008807202863131344, 'n_estimators': 1093, 'min_child_samples': 20, 'subsample': 0.9, 'colsample_bytree': 0.7}. Best is trial 11 with value: 0.7419054238779681.\n",
      "[I 2025-02-26 02:10:15,348] Trial 13 finished with value: 0.7410298156692378 and parameters: {'num_iterations': 2084, 'objective': 'binary', 'metric': 'auc', 'verbose': -1, 'learning_rate': 0.010947685715514379, 'n_estimators': 1108, 'min_child_samples': 10, 'subsample': 0.9, 'colsample_bytree': 0.6}. Best is trial 11 with value: 0.7419054238779681.\n",
      "[I 2025-02-26 02:10:33,206] Trial 14 finished with value: 0.7419003173182833 and parameters: {'num_iterations': 1759, 'objective': 'binary', 'metric': 'auc', 'verbose': -1, 'learning_rate': 0.00514593053258222, 'n_estimators': 172, 'min_child_samples': 20, 'subsample': 1.0, 'colsample_bytree': 0.6}. Best is trial 11 with value: 0.7419054238779681.\n",
      "[I 2025-02-26 02:10:48,235] Trial 15 finished with value: 0.7413666103552644 and parameters: {'num_iterations': 1756, 'objective': 'binary', 'metric': 'auc', 'verbose': -1, 'learning_rate': 0.008303365162986591, 'n_estimators': 208, 'min_child_samples': 20, 'subsample': 1.0, 'colsample_bytree': 0.7}. Best is trial 11 with value: 0.7419054238779681.\n",
      "[I 2025-02-26 02:11:07,623] Trial 16 finished with value: 0.7351088907538994 and parameters: {'num_iterations': 2163, 'objective': 'binary', 'metric': 'auc', 'verbose': -1, 'learning_rate': 0.03901437770924474, 'n_estimators': 463, 'min_child_samples': 25, 'subsample': 0.8, 'colsample_bytree': 0.6}. Best is trial 11 with value: 0.7419054238779681.\n",
      "[I 2025-02-26 02:11:24,340] Trial 17 finished with value: 0.7408151654434801 and parameters: {'num_iterations': 1770, 'objective': 'binary', 'metric': 'auc', 'verbose': -1, 'learning_rate': 0.014107419975913894, 'n_estimators': 1873, 'min_child_samples': 15, 'subsample': 1.0, 'colsample_bytree': 0.6}. Best is trial 11 with value: 0.7419054238779681.\n",
      "[I 2025-02-26 02:11:44,783] Trial 18 finished with value: 0.741124596752533 and parameters: {'num_iterations': 2434, 'objective': 'binary', 'metric': 'auc', 'verbose': -1, 'learning_rate': 0.007395766065557996, 'n_estimators': 126, 'min_child_samples': 30, 'subsample': 0.8, 'colsample_bytree': 0.7}. Best is trial 11 with value: 0.7419054238779681.\n",
      "[I 2025-02-26 02:11:58,674] Trial 19 finished with value: 0.7418862008177548 and parameters: {'num_iterations': 1527, 'objective': 'binary', 'metric': 'auc', 'verbose': -1, 'learning_rate': 0.005234790012397332, 'n_estimators': 1670, 'min_child_samples': 15, 'subsample': 1.0, 'colsample_bytree': 0.8}. Best is trial 11 with value: 0.7419054238779681.\n",
      "[I 2025-02-26 02:12:14,145] Trial 20 finished with value: 0.7407591044717611 and parameters: {'num_iterations': 1873, 'objective': 'binary', 'metric': 'auc', 'verbose': -1, 'learning_rate': 0.012796480593590575, 'n_estimators': 1257, 'min_child_samples': 25, 'subsample': 0.9, 'colsample_bytree': 0.9}. Best is trial 11 with value: 0.7419054238779681.\n",
      "[I 2025-02-26 02:12:28,665] Trial 21 finished with value: 0.7418182152747033 and parameters: {'num_iterations': 1505, 'objective': 'binary', 'metric': 'auc', 'verbose': -1, 'learning_rate': 0.0051460135866461, 'n_estimators': 1639, 'min_child_samples': 15, 'subsample': 1.0, 'colsample_bytree': 0.8}. Best is trial 11 with value: 0.7419054238779681.\n",
      "[I 2025-02-26 02:12:44,556] Trial 22 finished with value: 0.7417686268475303 and parameters: {'num_iterations': 1668, 'objective': 'binary', 'metric': 'auc', 'verbose': -1, 'learning_rate': 0.005003585055247969, 'n_estimators': 1702, 'min_child_samples': 15, 'subsample': 1.0, 'colsample_bytree': 0.9}. Best is trial 11 with value: 0.7419054238779681.\n",
      "[I 2025-02-26 02:12:58,889] Trial 23 finished with value: 0.7414211226813558 and parameters: {'num_iterations': 1629, 'objective': 'binary', 'metric': 'auc', 'verbose': -1, 'learning_rate': 0.007594680866521767, 'n_estimators': 1223, 'min_child_samples': 20, 'subsample': 0.9, 'colsample_bytree': 0.8}. Best is trial 11 with value: 0.7419054238779681.\n",
      "[I 2025-02-26 02:13:14,463] Trial 24 finished with value: 0.7412359245187262 and parameters: {'num_iterations': 1789, 'objective': 'binary', 'metric': 'auc', 'verbose': -1, 'learning_rate': 0.008991196778412532, 'n_estimators': 2000, 'min_child_samples': 15, 'subsample': 1.0, 'colsample_bytree': 0.7}. Best is trial 11 with value: 0.7419054238779681.\n",
      "[I 2025-02-26 02:13:29,293] Trial 25 finished with value: 0.7415574352636743 and parameters: {'num_iterations': 1501, 'objective': 'binary', 'metric': 'auc', 'verbose': -1, 'learning_rate': 0.01014625508640145, 'n_estimators': 1530, 'min_child_samples': 25, 'subsample': 1.0, 'colsample_bytree': 0.6}. Best is trial 11 with value: 0.7419054238779681.\n",
      "[I 2025-02-26 02:13:46,535] Trial 26 finished with value: 0.7412309172311969 and parameters: {'num_iterations': 2009, 'objective': 'binary', 'metric': 'auc', 'verbose': -1, 'learning_rate': 0.006560862459482555, 'n_estimators': 374, 'min_child_samples': 10, 'subsample': 0.9, 'colsample_bytree': 1.0}. Best is trial 11 with value: 0.7419054238779681.\n",
      "[I 2025-02-26 02:13:59,631] Trial 27 finished with value: 0.734728698252324 and parameters: {'num_iterations': 1651, 'objective': 'binary', 'metric': 'auc', 'verbose': -1, 'learning_rate': 0.047947876079429776, 'n_estimators': 712, 'min_child_samples': 20, 'subsample': 1.0, 'colsample_bytree': 0.7}. Best is trial 11 with value: 0.7419054238779681.\n",
      "[I 2025-02-26 02:14:14,778] Trial 28 finished with value: 0.7406121578561331 and parameters: {'num_iterations': 1852, 'objective': 'binary', 'metric': 'auc', 'verbose': -1, 'learning_rate': 0.013981759659711353, 'n_estimators': 1751, 'min_child_samples': 15, 'subsample': 0.8, 'colsample_bytree': 0.8}. Best is trial 11 with value: 0.7419054238779681.\n",
      "[I 2025-02-26 02:14:32,488] Trial 29 finished with value: 0.7419032160652272 and parameters: {'num_iterations': 1586, 'objective': 'binary', 'metric': 'auc', 'verbose': -1, 'learning_rate': 0.006576802700232973, 'n_estimators': 315, 'min_child_samples': 35, 'subsample': 0.9, 'colsample_bytree': 0.5}. Best is trial 11 with value: 0.7419054238779681.\n",
      "[I 2025-02-26 02:14:56,454] Trial 30 finished with value: 0.7418456024769944 and parameters: {'num_iterations': 2206, 'objective': 'binary', 'metric': 'auc', 'verbose': -1, 'learning_rate': 0.006300048275050027, 'n_estimators': 391, 'min_child_samples': 40, 'subsample': 0.9, 'colsample_bytree': 0.5}. Best is trial 11 with value: 0.7419054238779681.\n",
      "[I 2025-02-26 02:15:13,827] Trial 31 finished with value: 0.7419246945888162 and parameters: {'num_iterations': 1561, 'objective': 'binary', 'metric': 'auc', 'verbose': -1, 'learning_rate': 0.006227323890280515, 'n_estimators': 130, 'min_child_samples': 35, 'subsample': 1.0, 'colsample_bytree': 0.5}. Best is trial 31 with value: 0.7419246945888162.\n",
      "[I 2025-02-26 02:15:32,586] Trial 32 finished with value: 0.7419707330437043 and parameters: {'num_iterations': 1689, 'objective': 'binary', 'metric': 'auc', 'verbose': -1, 'learning_rate': 0.006893973736364755, 'n_estimators': 275, 'min_child_samples': 35, 'subsample': 1.0, 'colsample_bytree': 0.5}. Best is trial 32 with value: 0.7419707330437043.\n",
      "[I 2025-02-26 02:15:50,162] Trial 33 finished with value: 0.7419525940354302 and parameters: {'num_iterations': 1594, 'objective': 'binary', 'metric': 'auc', 'verbose': -1, 'learning_rate': 0.007112902604159326, 'n_estimators': 318, 'min_child_samples': 35, 'subsample': 0.9, 'colsample_bytree': 0.5}. Best is trial 32 with value: 0.7419707330437043.\n",
      "[I 2025-02-26 02:16:08,617] Trial 34 finished with value: 0.7419681757929757 and parameters: {'num_iterations': 1687, 'objective': 'binary', 'metric': 'auc', 'verbose': -1, 'learning_rate': 0.007097010799689733, 'n_estimators': 276, 'min_child_samples': 35, 'subsample': 1.0, 'colsample_bytree': 0.5}. Best is trial 32 with value: 0.7419707330437043.\n",
      "[I 2025-02-26 02:16:29,537] Trial 35 finished with value: 0.7414785416961638 and parameters: {'num_iterations': 1975, 'objective': 'binary', 'metric': 'auc', 'verbose': -1, 'learning_rate': 0.009900637737216892, 'n_estimators': 247, 'min_child_samples': 35, 'subsample': 0.5, 'colsample_bytree': 0.5}. Best is trial 32 with value: 0.7419707330437043.\n",
      "[I 2025-02-26 02:16:47,800] Trial 36 finished with value: 0.7419374967260043 and parameters: {'num_iterations': 1676, 'objective': 'binary', 'metric': 'auc', 'verbose': -1, 'learning_rate': 0.007519659889929843, 'n_estimators': 561, 'min_child_samples': 40, 'subsample': 1.0, 'colsample_bytree': 0.5}. Best is trial 32 with value: 0.7419707330437043.\n",
      "[I 2025-02-26 02:17:05,624] Trial 37 finished with value: 0.7414426131176034 and parameters: {'num_iterations': 1672, 'objective': 'binary', 'metric': 'auc', 'verbose': -1, 'learning_rate': 0.012826398125494506, 'n_estimators': 605, 'min_child_samples': 45, 'subsample': 0.9, 'colsample_bytree': 0.5}. Best is trial 32 with value: 0.7419707330437043.\n",
      "[I 2025-02-26 02:17:31,217] Trial 38 finished with value: 0.7417709021653369 and parameters: {'num_iterations': 2384, 'objective': 'binary', 'metric': 'auc', 'verbose': -1, 'learning_rate': 0.007383772058866759, 'n_estimators': 501, 'min_child_samples': 40, 'subsample': 0.8, 'colsample_bytree': 0.5}. Best is trial 32 with value: 0.7419707330437043.\n",
      "[I 2025-02-26 02:17:51,686] Trial 39 finished with value: 0.7414516071749022 and parameters: {'num_iterations': 1944, 'objective': 'binary', 'metric': 'auc', 'verbose': -1, 'learning_rate': 0.010851740902835298, 'n_estimators': 934, 'min_child_samples': 50, 'subsample': 0.6, 'colsample_bytree': 0.5}. Best is trial 32 with value: 0.7419707330437043.\n"
     ]
    },
    {
     "name": "stdout",
     "output_type": "stream",
     "text": [
      "Cat val score : 0.7422119524691908\n",
      "LGBM val score : 0.7419458157326448\n",
      "Ensemble val score : 0.7424211546390482\n"
     ]
    },
    {
     "name": "stderr",
     "output_type": "stream",
     "text": [
      "[I 2025-02-26 02:18:11,606] A new study created in memory with name: no-name-bc054346-7559-4ae6-a4cf-077a575910dd\n"
     ]
    },
    {
     "name": "stdout",
     "output_type": "stream",
     "text": [
      "==================================================\n",
      "0:\ttest: 0.7119342\tbest: 0.7119342 (0)\ttotal: 110ms\tremaining: 4m 19s\n",
      "300:\ttest: 0.7406721\tbest: 0.7406721 (300)\ttotal: 40.2s\tremaining: 4m 36s\n",
      "600:\ttest: 0.7418994\tbest: 0.7418994 (600)\ttotal: 1m 22s\tremaining: 4m 2s\n",
      "900:\ttest: 0.7422402\tbest: 0.7422559 (824)\ttotal: 2m 5s\tremaining: 3m 24s\n",
      "1200:\ttest: 0.7424186\tbest: 0.7424363 (1198)\ttotal: 2m 51s\tremaining: 2m 46s\n",
      "1500:\ttest: 0.7424268\tbest: 0.7424693 (1300)\ttotal: 3m 44s\tremaining: 2m 9s\n"
     ]
    },
    {
     "name": "stderr",
     "output_type": "stream",
     "text": [
      "[I 2025-02-26 02:22:14,710] Trial 0 finished with value: 0.7424693056054078 and parameters: {'iterations': 2366, 'depth': 10, 'learning_rate': 0.01181021951839225, 'l2_leaf_reg': 9.980783802743254}. Best is trial 0 with value: 0.7424693056054078.\n"
     ]
    },
    {
     "name": "stdout",
     "output_type": "stream",
     "text": [
      "Stopped by overfitting detector  (300 iterations wait)\n",
      "\n",
      "bestTest = 0.7424693056\n",
      "bestIteration = 1300\n",
      "\n",
      "Shrink model to first 1301 iterations.\n",
      "저장 완료\n",
      "0:\ttest: 0.6931364\tbest: 0.6931364 (0)\ttotal: 60.1ms\tremaining: 2m 11s\n",
      "300:\ttest: 0.7312220\tbest: 0.7312221 (299)\ttotal: 13.9s\tremaining: 1m 27s\n",
      "600:\ttest: 0.7360872\tbest: 0.7360872 (600)\ttotal: 28.3s\tremaining: 1m 14s\n",
      "900:\ttest: 0.7382919\tbest: 0.7382919 (900)\ttotal: 42.8s\tremaining: 1m 1s\n",
      "1200:\ttest: 0.7393866\tbest: 0.7393866 (1200)\ttotal: 57.6s\tremaining: 47.6s\n",
      "1500:\ttest: 0.7401037\tbest: 0.7401037 (1500)\ttotal: 1m 12s\tremaining: 33.5s\n",
      "1800:\ttest: 0.7406076\tbest: 0.7406078 (1798)\ttotal: 1m 27s\tremaining: 19.1s\n",
      "2100:\ttest: 0.7410120\tbest: 0.7410120 (2100)\ttotal: 1m 42s\tremaining: 4.5s\n"
     ]
    },
    {
     "name": "stderr",
     "output_type": "stream",
     "text": [
      "[I 2025-02-26 02:24:02,642] Trial 1 finished with value: 0.7411480488065756 and parameters: {'iterations': 2193, 'depth': 4, 'learning_rate': 0.005671430811678843, 'l2_leaf_reg': 0.00012325230809466137}. Best is trial 0 with value: 0.7424693056054078.\n"
     ]
    },
    {
     "name": "stdout",
     "output_type": "stream",
     "text": [
      "2192:\ttest: 0.7411471\tbest: 0.7411480 (2191)\ttotal: 1m 47s\tremaining: 0us\n",
      "\n",
      "bestTest = 0.7411480488\n",
      "bestIteration = 2191\n",
      "\n",
      "Shrink model to first 2192 iterations.\n",
      "0:\ttest: 0.6931364\tbest: 0.6931364 (0)\ttotal: 59.3ms\tremaining: 2m 30s\n",
      "300:\ttest: 0.7425131\tbest: 0.7425131 (300)\ttotal: 15.3s\tremaining: 1m 53s\n",
      "600:\ttest: 0.7423712\tbest: 0.7427603 (481)\ttotal: 31.2s\tremaining: 1m 40s\n"
     ]
    },
    {
     "name": "stderr",
     "output_type": "stream",
     "text": [
      "[I 2025-02-26 02:24:43,677] Trial 2 finished with value: 0.7427603159732648 and parameters: {'iterations': 2535, 'depth': 4, 'learning_rate': 0.09275339199839054, 'l2_leaf_reg': 0.0008705394248343123}. Best is trial 2 with value: 0.7427603159732648.\n"
     ]
    },
    {
     "name": "stdout",
     "output_type": "stream",
     "text": [
      "Stopped by overfitting detector  (300 iterations wait)\n",
      "\n",
      "bestTest = 0.742760316\n",
      "bestIteration = 481\n",
      "\n",
      "Shrink model to first 482 iterations.\n",
      "저장 완료\n",
      "0:\ttest: 0.6931364\tbest: 0.6931364 (0)\ttotal: 54.9ms\tremaining: 2m 8s\n",
      "300:\ttest: 0.7413907\tbest: 0.7413907 (300)\ttotal: 14.8s\tremaining: 1m 39s\n",
      "600:\ttest: 0.7425941\tbest: 0.7425941 (600)\ttotal: 30.3s\tremaining: 1m 27s\n",
      "900:\ttest: 0.7425706\tbest: 0.7426772 (686)\ttotal: 46.1s\tremaining: 1m 13s\n"
     ]
    },
    {
     "name": "stderr",
     "output_type": "stream",
     "text": [
      "[I 2025-02-26 02:25:34,369] Trial 3 finished with value: 0.7426772013536973 and parameters: {'iterations': 2334, 'depth': 4, 'learning_rate': 0.04657568321363276, 'l2_leaf_reg': 0.0008640473331457248}. Best is trial 2 with value: 0.7427603159732648.\n"
     ]
    },
    {
     "name": "stdout",
     "output_type": "stream",
     "text": [
      "Stopped by overfitting detector  (300 iterations wait)\n",
      "\n",
      "bestTest = 0.7426772014\n",
      "bestIteration = 686\n",
      "\n",
      "Shrink model to first 687 iterations.\n",
      "0:\ttest: 0.7119378\tbest: 0.7119378 (0)\ttotal: 98.8ms\tremaining: 2m 51s\n",
      "300:\ttest: 0.7400989\tbest: 0.7400989 (300)\ttotal: 39.6s\tremaining: 3m 9s\n",
      "600:\ttest: 0.7406002\tbest: 0.7406448 (576)\ttotal: 1m 21s\tremaining: 2m 34s\n",
      "900:\ttest: 0.7403613\tbest: 0.7407016 (630)\ttotal: 2m 3s\tremaining: 1m 55s\n"
     ]
    },
    {
     "name": "stderr",
     "output_type": "stream",
     "text": [
      "[I 2025-02-26 02:27:42,392] Trial 4 finished with value: 0.7407015861847976 and parameters: {'iterations': 1742, 'depth': 10, 'learning_rate': 0.012622767482095846, 'l2_leaf_reg': 0.00021158816350109617}. Best is trial 2 with value: 0.7427603159732648.\n"
     ]
    },
    {
     "name": "stdout",
     "output_type": "stream",
     "text": [
      "Stopped by overfitting detector  (300 iterations wait)\n",
      "\n",
      "bestTest = 0.7407015862\n",
      "bestIteration = 630\n",
      "\n",
      "Shrink model to first 631 iterations.\n",
      "0:\ttest: 0.6931364\tbest: 0.6931364 (0)\ttotal: 53.8ms\tremaining: 1m 51s\n",
      "300:\ttest: 0.7420895\tbest: 0.7420895 (300)\ttotal: 15.2s\tremaining: 1m 29s\n",
      "600:\ttest: 0.7423678\tbest: 0.7426024 (477)\ttotal: 30.9s\tremaining: 1m 16s\n"
     ]
    },
    {
     "name": "stderr",
     "output_type": "stream",
     "text": [
      "[I 2025-02-26 02:28:22,688] Trial 5 finished with value: 0.742602362061022 and parameters: {'iterations': 2082, 'depth': 4, 'learning_rate': 0.06995196593094148, 'l2_leaf_reg': 0.0018080296485396804}. Best is trial 2 with value: 0.7427603159732648.\n"
     ]
    },
    {
     "name": "stdout",
     "output_type": "stream",
     "text": [
      "Stopped by overfitting detector  (300 iterations wait)\n",
      "\n",
      "bestTest = 0.7426023621\n",
      "bestIteration = 477\n",
      "\n",
      "Shrink model to first 478 iterations.\n",
      "0:\ttest: 0.6948075\tbest: 0.6948075 (0)\ttotal: 66.3ms\tremaining: 2m 12s\n",
      "300:\ttest: 0.7422112\tbest: 0.7422336 (267)\ttotal: 18.3s\tremaining: 1m 43s\n",
      "600:\ttest: 0.7428106\tbest: 0.7428117 (512)\ttotal: 37.1s\tremaining: 1m 26s\n",
      "900:\ttest: 0.7428128\tbest: 0.7428576 (779)\ttotal: 56s\tremaining: 1m 8s\n",
      "1200:\ttest: 0.7428069\tbest: 0.7428835 (1022)\ttotal: 1m 15s\tremaining: 49.7s\n"
     ]
    },
    {
     "name": "stderr",
     "output_type": "stream",
     "text": [
      "[I 2025-02-26 02:29:45,771] Trial 6 finished with value: 0.742883492863952 and parameters: {'iterations': 1997, 'depth': 5, 'learning_rate': 0.07985155992831598, 'l2_leaf_reg': 62.52181000710482}. Best is trial 6 with value: 0.742883492863952.\n"
     ]
    },
    {
     "name": "stdout",
     "output_type": "stream",
     "text": [
      "Stopped by overfitting detector  (300 iterations wait)\n",
      "\n",
      "bestTest = 0.7428834929\n",
      "bestIteration = 1022\n",
      "\n",
      "Shrink model to first 1023 iterations.\n",
      "저장 완료\n",
      "0:\ttest: 0.7119378\tbest: 0.7119378 (0)\ttotal: 91.9ms\tremaining: 2m 57s\n",
      "300:\ttest: 0.7412199\tbest: 0.7420234 (180)\ttotal: 25.7s\tremaining: 2m 18s\n"
     ]
    },
    {
     "name": "stderr",
     "output_type": "stream",
     "text": [
      "[I 2025-02-26 02:30:27,853] Trial 7 finished with value: 0.7420234227330187 and parameters: {'iterations': 1927, 'depth': 7, 'learning_rate': 0.0941937211034094, 'l2_leaf_reg': 0.05654822767791934}. Best is trial 6 with value: 0.742883492863952.\n"
     ]
    },
    {
     "name": "stdout",
     "output_type": "stream",
     "text": [
      "Stopped by overfitting detector  (300 iterations wait)\n",
      "\n",
      "bestTest = 0.7420234227\n",
      "bestIteration = 180\n",
      "\n",
      "Shrink model to first 181 iterations.\n",
      "0:\ttest: 0.7119371\tbest: 0.7119371 (0)\ttotal: 87.8ms\tremaining: 2m 47s\n",
      "300:\ttest: 0.7426524\tbest: 0.7426729 (296)\ttotal: 24.8s\tremaining: 2m 12s\n",
      "600:\ttest: 0.7429652\tbest: 0.7431408 (527)\ttotal: 51.9s\tremaining: 1m 52s\n"
     ]
    },
    {
     "name": "stderr",
     "output_type": "stream",
     "text": [
      "[I 2025-02-26 02:31:40,294] Trial 8 finished with value: 0.7431408301166242 and parameters: {'iterations': 1904, 'depth': 7, 'learning_rate': 0.05155602859187331, 'l2_leaf_reg': 1.299974533316308}. Best is trial 8 with value: 0.7431408301166242.\n"
     ]
    },
    {
     "name": "stdout",
     "output_type": "stream",
     "text": [
      "Stopped by overfitting detector  (300 iterations wait)\n",
      "\n",
      "bestTest = 0.7431408301\n",
      "bestIteration = 527\n",
      "\n",
      "Shrink model to first 528 iterations.\n",
      "저장 완료\n",
      "0:\ttest: 0.6977158\tbest: 0.6977158 (0)\ttotal: 76.5ms\tremaining: 3m 21s\n",
      "300:\ttest: 0.7420185\tbest: 0.7420185 (300)\ttotal: 21s\tremaining: 2m 43s\n",
      "600:\ttest: 0.7426466\tbest: 0.7427609 (495)\ttotal: 43.9s\tremaining: 2m 28s\n",
      "900:\ttest: 0.7426074\tbest: 0.7427807 (656)\ttotal: 1m 6s\tremaining: 2m 8s\n"
     ]
    },
    {
     "name": "stderr",
     "output_type": "stream",
     "text": [
      "[I 2025-02-26 02:32:51,535] Trial 9 finished with value: 0.7427806667651657 and parameters: {'iterations': 2639, 'depth': 6, 'learning_rate': 0.03968704290444751, 'l2_leaf_reg': 0.30557194377967184}. Best is trial 8 with value: 0.7431408301166242.\n"
     ]
    },
    {
     "name": "stdout",
     "output_type": "stream",
     "text": [
      "Stopped by overfitting detector  (300 iterations wait)\n",
      "\n",
      "bestTest = 0.7427806668\n",
      "bestIteration = 656\n",
      "\n",
      "Shrink model to first 657 iterations.\n",
      "0:\ttest: 0.7119376\tbest: 0.7119376 (0)\ttotal: 101ms\tremaining: 4m 55s\n",
      "300:\ttest: 0.7419204\tbest: 0.7419220 (299)\ttotal: 27.4s\tremaining: 4m\n",
      "600:\ttest: 0.7425135\tbest: 0.7426407 (545)\ttotal: 57.5s\tremaining: 3m 44s\n"
     ]
    },
    {
     "name": "stderr",
     "output_type": "stream",
     "text": [
      "[I 2025-02-26 02:34:14,502] Trial 10 finished with value: 0.7426406692004309 and parameters: {'iterations': 2945, 'depth': 8, 'learning_rate': 0.032580115422505045, 'l2_leaf_reg': 0.87526046512315}. Best is trial 8 with value: 0.7431408301166242.\n"
     ]
    },
    {
     "name": "stdout",
     "output_type": "stream",
     "text": [
      "Stopped by overfitting detector  (300 iterations wait)\n",
      "\n",
      "bestTest = 0.7426406692\n",
      "bestIteration = 545\n",
      "\n",
      "Shrink model to first 546 iterations.\n",
      "0:\ttest: 0.6977491\tbest: 0.6977491 (0)\ttotal: 76.3ms\tremaining: 2m 5s\n",
      "300:\ttest: 0.7422903\tbest: 0.7422917 (299)\ttotal: 21.1s\tremaining: 1m 34s\n",
      "600:\ttest: 0.7426578\tbest: 0.7426726 (597)\ttotal: 43s\tremaining: 1m 14s\n",
      "900:\ttest: 0.7427409\tbest: 0.7428689 (732)\ttotal: 1m 5s\tremaining: 54s\n"
     ]
    },
    {
     "name": "stderr",
     "output_type": "stream",
     "text": [
      "[I 2025-02-26 02:35:30,004] Trial 11 finished with value: 0.7428689355950526 and parameters: {'iterations': 1645, 'depth': 6, 'learning_rate': 0.06980778172048213, 'l2_leaf_reg': 73.1213351392818}. Best is trial 8 with value: 0.7431408301166242.\n"
     ]
    },
    {
     "name": "stdout",
     "output_type": "stream",
     "text": [
      "Stopped by overfitting detector  (300 iterations wait)\n",
      "\n",
      "bestTest = 0.7428689356\n",
      "bestIteration = 732\n",
      "\n",
      "Shrink model to first 733 iterations.\n",
      "0:\ttest: 0.6977150\tbest: 0.6977150 (0)\ttotal: 75.9ms\tremaining: 2m 23s\n",
      "300:\ttest: 0.7422894\tbest: 0.7423628 (292)\ttotal: 21.6s\tremaining: 1m 54s\n",
      "600:\ttest: 0.7424863\tbest: 0.7425483 (498)\ttotal: 44.6s\tremaining: 1m 36s\n"
     ]
    },
    {
     "name": "stderr",
     "output_type": "stream",
     "text": [
      "[I 2025-02-26 02:36:30,259] Trial 12 finished with value: 0.7425482785906429 and parameters: {'iterations': 1898, 'depth': 6, 'learning_rate': 0.06850833108780335, 'l2_leaf_reg': 6.112234112518604}. Best is trial 8 with value: 0.7431408301166242.\n"
     ]
    },
    {
     "name": "stdout",
     "output_type": "stream",
     "text": [
      "Stopped by overfitting detector  (300 iterations wait)\n",
      "\n",
      "bestTest = 0.7425482786\n",
      "bestIteration = 498\n",
      "\n",
      "Shrink model to first 499 iterations.\n",
      "0:\ttest: 0.7119054\tbest: 0.7119054 (0)\ttotal: 100ms\tremaining: 3m 13s\n",
      "300:\ttest: 0.7425206\tbest: 0.7425207 (299)\ttotal: 26.9s\tremaining: 2m 25s\n",
      "600:\ttest: 0.7427682\tbest: 0.7429133 (522)\ttotal: 56.7s\tremaining: 2m 6s\n"
     ]
    },
    {
     "name": "stderr",
     "output_type": "stream",
     "text": [
      "[I 2025-02-26 02:37:50,305] Trial 13 finished with value: 0.7429132705397505 and parameters: {'iterations': 1937, 'depth': 8, 'learning_rate': 0.05956351603701897, 'l2_leaf_reg': 55.074044317639256}. Best is trial 8 with value: 0.7431408301166242.\n"
     ]
    },
    {
     "name": "stdout",
     "output_type": "stream",
     "text": [
      "Stopped by overfitting detector  (300 iterations wait)\n",
      "\n",
      "bestTest = 0.7429132705\n",
      "bestIteration = 522\n",
      "\n",
      "Shrink model to first 523 iterations.\n",
      "0:\ttest: 0.7119378\tbest: 0.7119378 (0)\ttotal: 97.1ms\tremaining: 2m 28s\n",
      "300:\ttest: 0.7415893\tbest: 0.7418901 (241)\ttotal: 28.6s\tremaining: 1m 56s\n"
     ]
    },
    {
     "name": "stderr",
     "output_type": "stream",
     "text": [
      "[I 2025-02-26 02:38:43,934] Trial 14 finished with value: 0.7418901319951172 and parameters: {'iterations': 1533, 'depth': 8, 'learning_rate': 0.05737459522516041, 'l2_leaf_reg': 0.037504318502340525}. Best is trial 8 with value: 0.7431408301166242.\n"
     ]
    },
    {
     "name": "stdout",
     "output_type": "stream",
     "text": [
      "Stopped by overfitting detector  (300 iterations wait)\n",
      "\n",
      "bestTest = 0.741890132\n",
      "bestIteration = 241\n",
      "\n",
      "Shrink model to first 242 iterations.\n",
      "0:\ttest: 0.7119370\tbest: 0.7119370 (0)\ttotal: 99.1ms\tremaining: 2m 53s\n",
      "300:\ttest: 0.7422838\tbest: 0.7422853 (299)\ttotal: 27.3s\tremaining: 2m 11s\n",
      "600:\ttest: 0.7429809\tbest: 0.7430071 (589)\ttotal: 58.6s\tremaining: 1m 52s\n"
     ]
    },
    {
     "name": "stderr",
     "output_type": "stream",
     "text": [
      "[I 2025-02-26 02:40:12,123] Trial 15 finished with value: 0.7430070628723758 and parameters: {'iterations': 1753, 'depth': 8, 'learning_rate': 0.031684876809801796, 'l2_leaf_reg': 3.400203453407683}. Best is trial 8 with value: 0.7431408301166242.\n"
     ]
    },
    {
     "name": "stdout",
     "output_type": "stream",
     "text": [
      "Stopped by overfitting detector  (300 iterations wait)\n",
      "\n",
      "bestTest = 0.7430070629\n",
      "bestIteration = 589\n",
      "\n",
      "Shrink model to first 590 iterations.\n",
      "0:\ttest: 0.7119370\tbest: 0.7119370 (0)\ttotal: 153ms\tremaining: 4m 20s\n",
      "300:\ttest: 0.7419598\tbest: 0.7420411 (283)\ttotal: 30.6s\tremaining: 2m 22s\n",
      "600:\ttest: 0.7427570\tbest: 0.7427916 (595)\ttotal: 1m 3s\tremaining: 1m 56s\n"
     ]
    },
    {
     "name": "stderr",
     "output_type": "stream",
     "text": [
      "[I 2025-02-26 02:41:53,975] Trial 16 finished with value: 0.7427915906731697 and parameters: {'iterations': 1706, 'depth': 9, 'learning_rate': 0.027198320505425724, 'l2_leaf_reg': 2.2406425579941533}. Best is trial 8 with value: 0.7431408301166242.\n"
     ]
    },
    {
     "name": "stdout",
     "output_type": "stream",
     "text": [
      "Stopped by overfitting detector  (300 iterations wait)\n",
      "\n",
      "bestTest = 0.7427915907\n",
      "bestIteration = 595\n",
      "\n",
      "Shrink model to first 596 iterations.\n",
      "0:\ttest: 0.7119378\tbest: 0.7119378 (0)\ttotal: 108ms\tremaining: 2m 44s\n",
      "300:\ttest: 0.7414291\tbest: 0.7414291 (300)\ttotal: 28.2s\tremaining: 1m 54s\n",
      "600:\ttest: 0.7422430\tbest: 0.7422694 (594)\ttotal: 54.6s\tremaining: 1m 23s\n",
      "900:\ttest: 0.7422091\tbest: 0.7423733 (674)\ttotal: 1m 23s\tremaining: 57.6s\n"
     ]
    },
    {
     "name": "stderr",
     "output_type": "stream",
     "text": [
      "[I 2025-02-26 02:43:24,973] Trial 17 finished with value: 0.7423732538385207 and parameters: {'iterations': 1522, 'depth': 7, 'learning_rate': 0.02432488838207133, 'l2_leaf_reg': 0.010986858818421364}. Best is trial 8 with value: 0.7431408301166242.\n"
     ]
    },
    {
     "name": "stdout",
     "output_type": "stream",
     "text": [
      "Stopped by overfitting detector  (300 iterations wait)\n",
      "\n",
      "bestTest = 0.7423732538\n",
      "bestIteration = 674\n",
      "\n",
      "Shrink model to first 675 iterations.\n",
      "0:\ttest: 0.7119377\tbest: 0.7119377 (0)\ttotal: 117ms\tremaining: 3m 27s\n",
      "300:\ttest: 0.7419629\tbest: 0.7420041 (278)\ttotal: 32.4s\tremaining: 2m 38s\n",
      "600:\ttest: 0.7402717\tbest: 0.7420128 (313)\ttotal: 1m 8s\tremaining: 2m 14s\n"
     ]
    },
    {
     "name": "stderr",
     "output_type": "stream",
     "text": [
      "[I 2025-02-26 02:44:35,626] Trial 18 finished with value: 0.742012768845278 and parameters: {'iterations': 1770, 'depth': 9, 'learning_rate': 0.04656812687583585, 'l2_leaf_reg': 0.2628444134576081}. Best is trial 8 with value: 0.7431408301166242.\n"
     ]
    },
    {
     "name": "stdout",
     "output_type": "stream",
     "text": [
      "Stopped by overfitting detector  (300 iterations wait)\n",
      "\n",
      "bestTest = 0.7420127688\n",
      "bestIteration = 313\n",
      "\n",
      "Shrink model to first 314 iterations.\n",
      "0:\ttest: 0.7119368\tbest: 0.7119368 (0)\ttotal: 101ms\tremaining: 3m 37s\n",
      "300:\ttest: 0.7423670\tbest: 0.7423670 (300)\ttotal: 23.7s\tremaining: 2m 25s\n",
      "600:\ttest: 0.7429643\tbest: 0.7429940 (533)\ttotal: 48.8s\tremaining: 2m 6s\n"
     ]
    },
    {
     "name": "stderr",
     "output_type": "stream",
     "text": [
      "[I 2025-02-26 02:45:44,282] Trial 19 finished with value: 0.7429940264529005 and parameters: {'iterations': 2153, 'depth': 7, 'learning_rate': 0.036214518104510374, 'l2_leaf_reg': 5.597754063560477}. Best is trial 8 with value: 0.7431408301166242.\n"
     ]
    },
    {
     "name": "stdout",
     "output_type": "stream",
     "text": [
      "Stopped by overfitting detector  (300 iterations wait)\n",
      "\n",
      "bestTest = 0.7429940265\n",
      "bestIteration = 533\n",
      "\n",
      "Shrink model to first 534 iterations.\n",
      "0:\ttest: 0.7119374\tbest: 0.7119374 (0)\ttotal: 96.7ms\tremaining: 2m 57s\n",
      "300:\ttest: 0.7420647\tbest: 0.7420691 (299)\ttotal: 29.5s\tremaining: 2m 30s\n",
      "600:\ttest: 0.7426107\tbest: 0.7426107 (600)\ttotal: 58.9s\tremaining: 2m\n",
      "900:\ttest: 0.7426828\tbest: 0.7428230 (802)\ttotal: 1m 34s\tremaining: 1m 37s\n"
     ]
    },
    {
     "name": "stderr",
     "output_type": "stream",
     "text": [
      "[I 2025-02-26 02:47:43,653] Trial 20 finished with value: 0.7428230361211825 and parameters: {'iterations': 1833, 'depth': 9, 'learning_rate': 0.021310211184392004, 'l2_leaf_reg': 1.154237738288872}. Best is trial 8 with value: 0.7431408301166242.\n"
     ]
    },
    {
     "name": "stdout",
     "output_type": "stream",
     "text": [
      "Stopped by overfitting detector  (300 iterations wait)\n",
      "\n",
      "bestTest = 0.7428230361\n",
      "bestIteration = 802\n",
      "\n",
      "Shrink model to first 803 iterations.\n",
      "0:\ttest: 0.7119342\tbest: 0.7119342 (0)\ttotal: 101ms\tremaining: 3m 34s\n",
      "300:\ttest: 0.7423719\tbest: 0.7423781 (296)\ttotal: 23.7s\tremaining: 2m 22s\n",
      "600:\ttest: 0.7430605\tbest: 0.7430680 (571)\ttotal: 49.2s\tremaining: 2m 4s\n",
      "900:\ttest: 0.7429118\tbest: 0.7430920 (630)\ttotal: 1m 15s\tremaining: 1m 41s\n"
     ]
    },
    {
     "name": "stderr",
     "output_type": "stream",
     "text": [
      "[I 2025-02-26 02:49:01,567] Trial 21 finished with value: 0.7430920080704927 and parameters: {'iterations': 2118, 'depth': 7, 'learning_rate': 0.038016602931111323, 'l2_leaf_reg': 9.697065348189927}. Best is trial 8 with value: 0.7431408301166242.\n"
     ]
    },
    {
     "name": "stdout",
     "output_type": "stream",
     "text": [
      "Stopped by overfitting detector  (300 iterations wait)\n",
      "\n",
      "bestTest = 0.7430920081\n",
      "bestIteration = 630\n",
      "\n",
      "Shrink model to first 631 iterations.\n",
      "0:\ttest: 0.7119341\tbest: 0.7119341 (0)\ttotal: 96.5ms\tremaining: 3m 19s\n",
      "300:\ttest: 0.7426468\tbest: 0.7426490 (299)\ttotal: 26.8s\tremaining: 2m 37s\n",
      "600:\ttest: 0.7428242\tbest: 0.7429290 (543)\ttotal: 56.6s\tremaining: 2m 18s\n"
     ]
    },
    {
     "name": "stderr",
     "output_type": "stream",
     "text": [
      "[I 2025-02-26 02:50:23,341] Trial 22 finished with value: 0.7429289873074275 and parameters: {'iterations': 2073, 'depth': 8, 'learning_rate': 0.04710435981111153, 'l2_leaf_reg': 15.779578932657632}. Best is trial 8 with value: 0.7431408301166242.\n"
     ]
    },
    {
     "name": "stdout",
     "output_type": "stream",
     "text": [
      "Stopped by overfitting detector  (300 iterations wait)\n",
      "\n",
      "bestTest = 0.7429289873\n",
      "bestIteration = 543\n",
      "\n",
      "Shrink model to first 544 iterations.\n",
      "0:\ttest: 0.7119377\tbest: 0.7119377 (0)\ttotal: 110ms\tremaining: 4m 12s\n",
      "300:\ttest: 0.7420274\tbest: 0.7420489 (282)\ttotal: 25.4s\tremaining: 2m 48s\n",
      "600:\ttest: 0.7421295\tbest: 0.7426208 (375)\ttotal: 52.9s\tremaining: 2m 29s\n"
     ]
    },
    {
     "name": "stderr",
     "output_type": "stream",
     "text": [
      "[I 2025-02-26 02:51:23,155] Trial 23 finished with value: 0.7426207552060144 and parameters: {'iterations': 2294, 'depth': 7, 'learning_rate': 0.04020558619192312, 'l2_leaf_reg': 0.3308885157827314}. Best is trial 8 with value: 0.7431408301166242.\n"
     ]
    },
    {
     "name": "stdout",
     "output_type": "stream",
     "text": [
      "Stopped by overfitting detector  (300 iterations wait)\n",
      "\n",
      "bestTest = 0.7426207552\n",
      "bestIteration = 375\n",
      "\n",
      "Shrink model to first 376 iterations.\n",
      "0:\ttest: 0.6977146\tbest: 0.6977146 (0)\ttotal: 82.8ms\tremaining: 2m 14s\n",
      "300:\ttest: 0.7425573\tbest: 0.7425691 (299)\ttotal: 21s\tremaining: 1m 32s\n",
      "600:\ttest: 0.7430818\tbest: 0.7430818 (600)\ttotal: 43.1s\tremaining: 1m 13s\n",
      "900:\ttest: 0.7429865\tbest: 0.7430875 (604)\ttotal: 1m 5s\tremaining: 53s\n"
     ]
    },
    {
     "name": "stderr",
     "output_type": "stream",
     "text": [
      "[I 2025-02-26 02:52:29,280] Trial 24 finished with value: 0.7430875328817176 and parameters: {'iterations': 1629, 'depth': 6, 'learning_rate': 0.05529019583591664, 'l2_leaf_reg': 19.467446038786967}. Best is trial 8 with value: 0.7431408301166242.\n"
     ]
    },
    {
     "name": "stdout",
     "output_type": "stream",
     "text": [
      "Stopped by overfitting detector  (300 iterations wait)\n",
      "\n",
      "bestTest = 0.7430875329\n",
      "bestIteration = 604\n",
      "\n",
      "Shrink model to first 605 iterations.\n",
      "0:\ttest: 0.6948077\tbest: 0.6948077 (0)\ttotal: 67.8ms\tremaining: 1m 49s\n",
      "300:\ttest: 0.7421736\tbest: 0.7421797 (293)\ttotal: 18.1s\tremaining: 1m 19s\n",
      "600:\ttest: 0.7426920\tbest: 0.7427552 (534)\ttotal: 36.7s\tremaining: 1m 2s\n",
      "900:\ttest: 0.7428744\tbest: 0.7428896 (897)\ttotal: 55.3s\tremaining: 44.3s\n",
      "1200:\ttest: 0.7428446\tbest: 0.7429021 (960)\ttotal: 1m 14s\tremaining: 26.1s\n"
     ]
    },
    {
     "name": "stderr",
     "output_type": "stream",
     "text": [
      "[I 2025-02-26 02:53:47,788] Trial 25 finished with value: 0.7429020845532557 and parameters: {'iterations': 1622, 'depth': 5, 'learning_rate': 0.05467647002062728, 'l2_leaf_reg': 21.74221684680112}. Best is trial 8 with value: 0.7431408301166242.\n"
     ]
    },
    {
     "name": "stdout",
     "output_type": "stream",
     "text": [
      "Stopped by overfitting detector  (300 iterations wait)\n",
      "\n",
      "bestTest = 0.7429020846\n",
      "bestIteration = 960\n",
      "\n",
      "Shrink model to first 961 iterations.\n",
      "0:\ttest: 0.6977181\tbest: 0.6977181 (0)\ttotal: 75.5ms\tremaining: 3m 4s\n",
      "300:\ttest: 0.7427538\tbest: 0.7427538 (300)\ttotal: 20.8s\tremaining: 2m 27s\n",
      "600:\ttest: 0.7430082\tbest: 0.7430410 (551)\ttotal: 42.9s\tremaining: 2m 11s\n",
      "900:\ttest: 0.7429479\tbest: 0.7431188 (671)\ttotal: 1m 5s\tremaining: 1m 51s\n"
     ]
    },
    {
     "name": "stderr",
     "output_type": "stream",
     "text": [
      "[I 2025-02-26 02:54:58,629] Trial 26 finished with value: 0.7431188115525088 and parameters: {'iterations': 2442, 'depth': 6, 'learning_rate': 0.060456231550004506, 'l2_leaf_reg': 24.825242837525987}. Best is trial 8 with value: 0.7431408301166242.\n"
     ]
    },
    {
     "name": "stdout",
     "output_type": "stream",
     "text": [
      "Stopped by overfitting detector  (300 iterations wait)\n",
      "\n",
      "bestTest = 0.7431188116\n",
      "bestIteration = 671\n",
      "\n",
      "Shrink model to first 672 iterations.\n",
      "0:\ttest: 0.6948077\tbest: 0.6948077 (0)\ttotal: 62.7ms\tremaining: 2m 35s\n",
      "300:\ttest: 0.7427279\tbest: 0.7427377 (295)\ttotal: 18.9s\tremaining: 2m 17s\n",
      "600:\ttest: 0.7425696\tbest: 0.7428434 (424)\ttotal: 38.7s\tremaining: 2m 1s\n"
     ]
    },
    {
     "name": "stderr",
     "output_type": "stream",
     "text": [
      "[I 2025-02-26 02:55:45,470] Trial 27 finished with value: 0.7428434345637183 and parameters: {'iterations': 2490, 'depth': 5, 'learning_rate': 0.07945314648202005, 'l2_leaf_reg': 1.3178019485012564}. Best is trial 8 with value: 0.7431408301166242.\n"
     ]
    },
    {
     "name": "stdout",
     "output_type": "stream",
     "text": [
      "Stopped by overfitting detector  (300 iterations wait)\n",
      "\n",
      "bestTest = 0.7428434346\n",
      "bestIteration = 424\n",
      "\n",
      "Shrink model to first 425 iterations.\n",
      "0:\ttest: 0.7119309\tbest: 0.7119309 (0)\ttotal: 92.8ms\tremaining: 4m 16s\n",
      "300:\ttest: 0.7422880\tbest: 0.7422988 (294)\ttotal: 24.4s\tremaining: 3m 19s\n",
      "600:\ttest: 0.7428242\tbest: 0.7428261 (597)\ttotal: 50.6s\tremaining: 3m 1s\n",
      "900:\ttest: 0.7427645\tbest: 0.7429001 (683)\ttotal: 1m 17s\tremaining: 2m 40s\n"
     ]
    },
    {
     "name": "stderr",
     "output_type": "stream",
     "text": [
      "[I 2025-02-26 02:57:10,827] Trial 28 finished with value: 0.7429000673430537 and parameters: {'iterations': 2760, 'depth': 7, 'learning_rate': 0.04886033862605801, 'l2_leaf_reg': 29.619714717154174}. Best is trial 8 with value: 0.7431408301166242.\n"
     ]
    },
    {
     "name": "stdout",
     "output_type": "stream",
     "text": [
      "Stopped by overfitting detector  (300 iterations wait)\n",
      "\n",
      "bestTest = 0.7429000673\n",
      "bestIteration = 683\n",
      "\n",
      "Shrink model to first 684 iterations.\n",
      "0:\ttest: 0.6977146\tbest: 0.6977146 (0)\ttotal: 89.3ms\tremaining: 3m 42s\n",
      "300:\ttest: 0.7427311\tbest: 0.7427481 (283)\ttotal: 22.3s\tremaining: 2m 42s\n",
      "600:\ttest: 0.7429104\tbest: 0.7430120 (548)\ttotal: 45.3s\tremaining: 2m 22s\n"
     ]
    },
    {
     "name": "stderr",
     "output_type": "stream",
     "text": [
      "[I 2025-02-26 02:58:15,613] Trial 29 finished with value: 0.7430119947130668 and parameters: {'iterations': 2496, 'depth': 6, 'learning_rate': 0.06132048161254573, 'l2_leaf_reg': 9.041457351549182}. Best is trial 8 with value: 0.7431408301166242.\n"
     ]
    },
    {
     "name": "stdout",
     "output_type": "stream",
     "text": [
      "Stopped by overfitting detector  (300 iterations wait)\n",
      "\n",
      "bestTest = 0.7430119947\n",
      "bestIteration = 548\n",
      "\n",
      "Shrink model to first 549 iterations.\n",
      "0:\ttest: 0.6948077\tbest: 0.6948077 (0)\ttotal: 83.2ms\tremaining: 3m 18s\n",
      "300:\ttest: 0.7426324\tbest: 0.7426508 (292)\ttotal: 19.1s\tremaining: 2m 11s\n",
      "600:\ttest: 0.7429628\tbest: 0.7429887 (581)\ttotal: 37.8s\tremaining: 1m 52s\n",
      "900:\ttest: 0.7431860\tbest: 0.7432145 (886)\ttotal: 56.5s\tremaining: 1m 32s\n",
      "1200:\ttest: 0.7427777\tbest: 0.7432636 (945)\ttotal: 1m 15s\tremaining: 1m 14s\n"
     ]
    },
    {
     "name": "stderr",
     "output_type": "stream",
     "text": [
      "[I 2025-02-26 02:59:34,605] Trial 30 finished with value: 0.7432635622680546 and parameters: {'iterations': 2383, 'depth': 5, 'learning_rate': 0.06505863583765802, 'l2_leaf_reg': 0.625022210787573}. Best is trial 30 with value: 0.7432635622680546.\n"
     ]
    },
    {
     "name": "stdout",
     "output_type": "stream",
     "text": [
      "Stopped by overfitting detector  (300 iterations wait)\n",
      "\n",
      "bestTest = 0.7432635623\n",
      "bestIteration = 945\n",
      "\n",
      "Shrink model to first 946 iterations.\n",
      "저장 완료\n",
      "0:\ttest: 0.6948077\tbest: 0.6948077 (0)\ttotal: 69.2ms\tremaining: 2m 46s\n",
      "300:\ttest: 0.7423022\tbest: 0.7423314 (299)\ttotal: 18.1s\tremaining: 2m 6s\n",
      "600:\ttest: 0.7427215\tbest: 0.7427745 (577)\ttotal: 37s\tremaining: 1m 50s\n",
      "900:\ttest: 0.7428937\tbest: 0.7429026 (898)\ttotal: 56s\tremaining: 1m 33s\n",
      "1200:\ttest: 0.7429051\tbest: 0.7430541 (1087)\ttotal: 1m 15s\tremaining: 1m 15s\n"
     ]
    },
    {
     "name": "stderr",
     "output_type": "stream",
     "text": [
      "[I 2025-02-26 03:01:02,165] Trial 31 finished with value: 0.7430541178741374 and parameters: {'iterations': 2401, 'depth': 5, 'learning_rate': 0.06365305075957692, 'l2_leaf_reg': 3.0658032536516684}. Best is trial 30 with value: 0.7432635622680546.\n"
     ]
    },
    {
     "name": "stdout",
     "output_type": "stream",
     "text": [
      "Stopped by overfitting detector  (300 iterations wait)\n",
      "\n",
      "bestTest = 0.7430541179\n",
      "bestIteration = 1087\n",
      "\n",
      "Shrink model to first 1088 iterations.\n",
      "0:\ttest: 0.6977158\tbest: 0.6977158 (0)\ttotal: 90.5ms\tremaining: 3m 18s\n",
      "300:\ttest: 0.7430382\tbest: 0.7432005 (270)\ttotal: 21.2s\tremaining: 2m 13s\n"
     ]
    },
    {
     "name": "stderr",
     "output_type": "stream",
     "text": [
      "[I 2025-02-26 03:01:44,076] Trial 32 finished with value: 0.7432005125365801 and parameters: {'iterations': 2191, 'depth': 6, 'learning_rate': 0.07728774626485119, 'l2_leaf_reg': 0.5703013130985475}. Best is trial 30 with value: 0.7432635622680546.\n"
     ]
    },
    {
     "name": "stdout",
     "output_type": "stream",
     "text": [
      "Stopped by overfitting detector  (300 iterations wait)\n",
      "\n",
      "bestTest = 0.7432005125\n",
      "bestIteration = 270\n",
      "\n",
      "Shrink model to first 271 iterations.\n",
      "0:\ttest: 0.6948077\tbest: 0.6948077 (0)\ttotal: 70.9ms\tremaining: 2m 38s\n",
      "300:\ttest: 0.7428914\tbest: 0.7428914 (300)\ttotal: 18.4s\tremaining: 1m 58s\n",
      "600:\ttest: 0.7428311\tbest: 0.7431077 (467)\ttotal: 38s\tremaining: 1m 43s\n"
     ]
    },
    {
     "name": "stderr",
     "output_type": "stream",
     "text": [
      "[I 2025-02-26 03:02:33,218] Trial 33 finished with value: 0.7431076970419661 and parameters: {'iterations': 2238, 'depth': 5, 'learning_rate': 0.08412547378236178, 'l2_leaf_reg': 0.13458815842659283}. Best is trial 30 with value: 0.7432635622680546.\n"
     ]
    },
    {
     "name": "stdout",
     "output_type": "stream",
     "text": [
      "Stopped by overfitting detector  (300 iterations wait)\n",
      "\n",
      "bestTest = 0.743107697\n",
      "bestIteration = 467\n",
      "\n",
      "Shrink model to first 468 iterations.\n",
      "0:\ttest: 0.6977158\tbest: 0.6977158 (0)\ttotal: 96.4ms\tremaining: 3m 51s\n",
      "300:\ttest: 0.7422955\tbest: 0.7424451 (250)\ttotal: 21.6s\tremaining: 2m 30s\n"
     ]
    },
    {
     "name": "stderr",
     "output_type": "stream",
     "text": [
      "[I 2025-02-26 03:03:13,825] Trial 34 finished with value: 0.742445142762731 and parameters: {'iterations': 2401, 'depth': 6, 'learning_rate': 0.07683408508264479, 'l2_leaf_reg': 0.024416027442529808}. Best is trial 30 with value: 0.7432635622680546.\n"
     ]
    },
    {
     "name": "stdout",
     "output_type": "stream",
     "text": [
      "Stopped by overfitting detector  (300 iterations wait)\n",
      "\n",
      "bestTest = 0.7424451428\n",
      "bestIteration = 250\n",
      "\n",
      "Shrink model to first 251 iterations.\n",
      "0:\ttest: 0.6931364\tbest: 0.6931364 (0)\ttotal: 57.4ms\tremaining: 2m 33s\n",
      "300:\ttest: 0.7427473\tbest: 0.7427752 (295)\ttotal: 14.8s\tremaining: 1m 56s\n",
      "600:\ttest: 0.7428671\tbest: 0.7428710 (592)\ttotal: 30.2s\tremaining: 1m 44s\n",
      "900:\ttest: 0.7425429\tbest: 0.7428831 (669)\ttotal: 45.8s\tremaining: 1m 29s\n"
     ]
    },
    {
     "name": "stderr",
     "output_type": "stream",
     "text": [
      "[I 2025-02-26 03:04:03,679] Trial 35 finished with value: 0.742883083862671 and parameters: {'iterations': 2672, 'depth': 4, 'learning_rate': 0.0864340558786108, 'l2_leaf_reg': 0.5890160552476359}. Best is trial 30 with value: 0.7432635622680546.\n"
     ]
    },
    {
     "name": "stdout",
     "output_type": "stream",
     "text": [
      "Stopped by overfitting detector  (300 iterations wait)\n",
      "\n",
      "bestTest = 0.7428830839\n",
      "bestIteration = 669\n",
      "\n",
      "Shrink model to first 670 iterations.\n",
      "0:\ttest: 0.6948077\tbest: 0.6948077 (0)\ttotal: 78ms\tremaining: 2m 53s\n",
      "300:\ttest: 0.7427028\tbest: 0.7427028 (300)\ttotal: 18.9s\tremaining: 2m\n",
      "600:\ttest: 0.7427573\tbest: 0.7428143 (534)\ttotal: 38.1s\tremaining: 1m 42s\n",
      "900:\ttest: 0.7422674\tbest: 0.7428167 (612)\ttotal: 57.4s\tremaining: 1m 24s\n"
     ]
    },
    {
     "name": "stderr",
     "output_type": "stream",
     "text": [
      "[I 2025-02-26 03:05:02,048] Trial 36 finished with value: 0.7428166588779057 and parameters: {'iterations': 2226, 'depth': 5, 'learning_rate': 0.07402700159237605, 'l2_leaf_reg': 0.13594238745791712}. Best is trial 30 with value: 0.7432635622680546.\n"
     ]
    },
    {
     "name": "stdout",
     "output_type": "stream",
     "text": [
      "Stopped by overfitting detector  (300 iterations wait)\n",
      "\n",
      "bestTest = 0.7428166589\n",
      "bestIteration = 612\n",
      "\n",
      "Shrink model to first 613 iterations.\n",
      "0:\ttest: 0.6977158\tbest: 0.6977158 (0)\ttotal: 76.6ms\tremaining: 3m 16s\n",
      "300:\ttest: 0.7426107\tbest: 0.7426107 (300)\ttotal: 21.6s\tremaining: 2m 42s\n",
      "600:\ttest: 0.7417321\tbest: 0.7426932 (341)\ttotal: 44.3s\tremaining: 2m 25s\n"
     ]
    },
    {
     "name": "stderr",
     "output_type": "stream",
     "text": [
      "[I 2025-02-26 03:05:49,606] Trial 37 finished with value: 0.7426932397631585 and parameters: {'iterations': 2570, 'depth': 6, 'learning_rate': 0.0875094905019923, 'l2_leaf_reg': 0.01617917950785166}. Best is trial 30 with value: 0.7432635622680546.\n"
     ]
    },
    {
     "name": "stdout",
     "output_type": "stream",
     "text": [
      "Stopped by overfitting detector  (300 iterations wait)\n",
      "\n",
      "bestTest = 0.7426932398\n",
      "bestIteration = 341\n",
      "\n",
      "Shrink model to first 342 iterations.\n",
      "0:\ttest: 0.6948077\tbest: 0.6948077 (0)\ttotal: 65.3ms\tremaining: 2m 35s\n",
      "300:\ttest: 0.7427258\tbest: 0.7427258 (300)\ttotal: 18.7s\tremaining: 2m 9s\n",
      "600:\ttest: 0.7426073\tbest: 0.7428193 (481)\ttotal: 38.3s\tremaining: 1m 53s\n"
     ]
    },
    {
     "name": "stderr",
     "output_type": "stream",
     "text": [
      "[I 2025-02-26 03:06:41,577] Trial 38 finished with value: 0.7428192876045864 and parameters: {'iterations': 2389, 'depth': 5, 'learning_rate': 0.06643242935437867, 'l2_leaf_reg': 0.5502894329275481}. Best is trial 30 with value: 0.7432635622680546.\n"
     ]
    },
    {
     "name": "stdout",
     "output_type": "stream",
     "text": [
      "Stopped by overfitting detector  (300 iterations wait)\n",
      "\n",
      "bestTest = 0.7428192876\n",
      "bestIteration = 481\n",
      "\n",
      "Shrink model to first 482 iterations.\n",
      "0:\ttest: 0.6931364\tbest: 0.6931364 (0)\ttotal: 71.8ms\tremaining: 2m 25s\n",
      "300:\ttest: 0.7424702\tbest: 0.7424702 (295)\ttotal: 15.1s\tremaining: 1m 25s\n",
      "600:\ttest: 0.7426417\tbest: 0.7428763 (482)\ttotal: 30.8s\tremaining: 1m 12s\n"
     ]
    },
    {
     "name": "stderr",
     "output_type": "stream",
     "text": [
      "[I 2025-02-26 03:07:21,981] Trial 39 finished with value: 0.742876277763682 and parameters: {'iterations': 2020, 'depth': 4, 'learning_rate': 0.07366802058076631, 'l2_leaf_reg': 0.07466361897902585}. Best is trial 30 with value: 0.7432635622680546.\n",
      "[I 2025-02-26 03:07:21,985] A new study created in memory with name: no-name-8db837a0-6475-41df-a776-7e51a5736c1b\n"
     ]
    },
    {
     "name": "stdout",
     "output_type": "stream",
     "text": [
      "Stopped by overfitting detector  (300 iterations wait)\n",
      "\n",
      "bestTest = 0.7428762778\n",
      "bestIteration = 482\n",
      "\n",
      "Shrink model to first 483 iterations.\n"
     ]
    },
    {
     "name": "stderr",
     "output_type": "stream",
     "text": [
      "[I 2025-02-26 03:07:44,864] Trial 0 finished with value: 0.7310936219339557 and parameters: {'num_iterations': 2366, 'objective': 'binary', 'metric': 'auc', 'verbose': -1, 'learning_rate': 0.0652646236447618, 'n_estimators': 236, 'min_child_samples': 45, 'subsample': 0.7, 'colsample_bytree': 0.5}. Best is trial 0 with value: 0.7310936219339557.\n",
      "[I 2025-02-26 03:08:01,820] Trial 1 finished with value: 0.7431614390161301 and parameters: {'num_iterations': 1510, 'objective': 'binary', 'metric': 'auc', 'verbose': -1, 'learning_rate': 0.005231880959249543, 'n_estimators': 1411, 'min_child_samples': 10, 'subsample': 1.0, 'colsample_bytree': 0.5}. Best is trial 1 with value: 0.7431614390161301.\n",
      "[I 2025-02-26 03:08:21,086] Trial 2 finished with value: 0.742143168778008 and parameters: {'num_iterations': 2334, 'objective': 'binary', 'metric': 'auc', 'verbose': -1, 'learning_rate': 0.006578527777128852, 'n_estimators': 931, 'min_child_samples': 15, 'subsample': 0.5, 'colsample_bytree': 1.0}. Best is trial 1 with value: 0.7431614390161301.\n",
      "[I 2025-02-26 03:08:37,375] Trial 3 finished with value: 0.7432955993781147 and parameters: {'num_iterations': 1620, 'objective': 'binary', 'metric': 'auc', 'verbose': -1, 'learning_rate': 0.0058823249237283685, 'n_estimators': 837, 'min_child_samples': 10, 'subsample': 0.9, 'colsample_bytree': 0.6}. Best is trial 3 with value: 0.7432955993781147.\n",
      "[I 2025-02-26 03:08:53,826] Trial 4 finished with value: 0.7428070890421044 and parameters: {'num_iterations': 1997, 'objective': 'binary', 'metric': 'auc', 'verbose': -1, 'learning_rate': 0.010907507425244923, 'n_estimators': 1597, 'min_child_samples': 50, 'subsample': 0.6, 'colsample_bytree': 0.8}. Best is trial 3 with value: 0.7432955993781147.\n",
      "[I 2025-02-26 03:09:16,153] Trial 5 finished with value: 0.7391874952091257 and parameters: {'num_iterations': 2909, 'objective': 'binary', 'metric': 'auc', 'verbose': -1, 'learning_rate': 0.019760591962733942, 'n_estimators': 612, 'min_child_samples': 30, 'subsample': 0.7, 'colsample_bytree': 0.9}. Best is trial 3 with value: 0.7432955993781147.\n",
      "[I 2025-02-26 03:09:36,688] Trial 6 finished with value: 0.7404727559243319 and parameters: {'num_iterations': 2639, 'objective': 'binary', 'metric': 'auc', 'verbose': -1, 'learning_rate': 0.017862094446750985, 'n_estimators': 794, 'min_child_samples': 35, 'subsample': 1.0, 'colsample_bytree': 0.8}. Best is trial 3 with value: 0.7432955993781147.\n",
      "[I 2025-02-26 03:09:53,280] Trial 7 finished with value: 0.7422616957609265 and parameters: {'num_iterations': 1580, 'objective': 'binary', 'metric': 'auc', 'verbose': -1, 'learning_rate': 0.01776722177611332, 'n_estimators': 529, 'min_child_samples': 25, 'subsample': 0.8, 'colsample_bytree': 0.5}. Best is trial 3 with value: 0.7432955993781147.\n",
      "[I 2025-02-26 03:10:10,841] Trial 8 finished with value: 0.7392218235205376 and parameters: {'num_iterations': 1911, 'objective': 'binary', 'metric': 'auc', 'verbose': -1, 'learning_rate': 0.0304747553332844, 'n_estimators': 1328, 'min_child_samples': 10, 'subsample': 0.7, 'colsample_bytree': 0.6}. Best is trial 3 with value: 0.7432955993781147.\n",
      "[I 2025-02-26 03:10:38,222] Trial 9 finished with value: 0.7384269275452087 and parameters: {'num_iterations': 2739, 'objective': 'binary', 'metric': 'auc', 'verbose': -1, 'learning_rate': 0.02691531614176271, 'n_estimators': 1438, 'min_child_samples': 20, 'subsample': 0.6, 'colsample_bytree': 0.5}. Best is trial 3 with value: 0.7432955993781147.\n",
      "[I 2025-02-26 03:10:52,564] Trial 10 finished with value: 0.7288462234282986 and parameters: {'num_iterations': 1883, 'objective': 'binary', 'metric': 'auc', 'verbose': -1, 'learning_rate': 0.08223556891145911, 'n_estimators': 1917, 'min_child_samples': 40, 'subsample': 0.9, 'colsample_bytree': 0.7}. Best is trial 3 with value: 0.7432955993781147.\n",
      "[I 2025-02-26 03:11:08,021] Trial 11 finished with value: 0.7431214164538722 and parameters: {'num_iterations': 1513, 'objective': 'binary', 'metric': 'auc', 'verbose': -1, 'learning_rate': 0.005340229419903739, 'n_estimators': 1206, 'min_child_samples': 10, 'subsample': 1.0, 'colsample_bytree': 0.6}. Best is trial 3 with value: 0.7432955993781147.\n",
      "[I 2025-02-26 03:11:24,649] Trial 12 finished with value: 0.7430551264792385 and parameters: {'num_iterations': 1698, 'objective': 'binary', 'metric': 'auc', 'verbose': -1, 'learning_rate': 0.008515343845233947, 'n_estimators': 1719, 'min_child_samples': 20, 'subsample': 0.9, 'colsample_bytree': 0.6}. Best is trial 3 with value: 0.7432955993781147.\n",
      "[I 2025-02-26 03:11:39,705] Trial 13 finished with value: 0.7428190215552093 and parameters: {'num_iterations': 1740, 'objective': 'binary', 'metric': 'auc', 'verbose': -1, 'learning_rate': 0.010074542479113706, 'n_estimators': 1082, 'min_child_samples': 10, 'subsample': 0.9, 'colsample_bytree': 0.7}. Best is trial 3 with value: 0.7432955993781147.\n",
      "[I 2025-02-26 03:12:01,243] Trial 14 finished with value: 0.7432733187355085 and parameters: {'num_iterations': 2165, 'objective': 'binary', 'metric': 'auc', 'verbose': -1, 'learning_rate': 0.005262187136940254, 'n_estimators': 251, 'min_child_samples': 20, 'subsample': 1.0, 'colsample_bytree': 0.6}. Best is trial 3 with value: 0.7432955993781147.\n",
      "[I 2025-02-26 03:12:19,076] Trial 15 finished with value: 0.7423439884070453 and parameters: {'num_iterations': 2153, 'objective': 'binary', 'metric': 'auc', 'verbose': -1, 'learning_rate': 0.012915147920823086, 'n_estimators': 188, 'min_child_samples': 20, 'subsample': 0.8, 'colsample_bytree': 0.7}. Best is trial 3 with value: 0.7432955993781147.\n",
      "[I 2025-02-26 03:12:41,723] Trial 16 finished with value: 0.7362233676234713 and parameters: {'num_iterations': 2503, 'objective': 'binary', 'metric': 'auc', 'verbose': -1, 'learning_rate': 0.03901437770924474, 'n_estimators': 444, 'min_child_samples': 25, 'subsample': 0.9, 'colsample_bytree': 0.6}. Best is trial 3 with value: 0.7432955993781147.\n",
      "[I 2025-02-26 03:13:02,393] Trial 17 finished with value: 0.7431955092199372 and parameters: {'num_iterations': 2103, 'objective': 'binary', 'metric': 'auc', 'verbose': -1, 'learning_rate': 0.007238111112271453, 'n_estimators': 116, 'min_child_samples': 15, 'subsample': 1.0, 'colsample_bytree': 0.6}. Best is trial 3 with value: 0.7432955993781147.\n",
      "[I 2025-02-26 03:13:16,990] Trial 18 finished with value: 0.7430548127792268 and parameters: {'num_iterations': 1753, 'objective': 'binary', 'metric': 'auc', 'verbose': -1, 'learning_rate': 0.013508700117868075, 'n_estimators': 756, 'min_child_samples': 30, 'subsample': 0.8, 'colsample_bytree': 0.7}. Best is trial 3 with value: 0.7432955993781147.\n",
      "[I 2025-02-26 03:13:33,759] Trial 19 finished with value: 0.7337334353289875 and parameters: {'num_iterations': 2202, 'objective': 'binary', 'metric': 'auc', 'verbose': -1, 'learning_rate': 0.04570242881302624, 'n_estimators': 414, 'min_child_samples': 15, 'subsample': 0.9, 'colsample_bytree': 0.8}. Best is trial 3 with value: 0.7432955993781147.\n",
      "[I 2025-02-26 03:13:50,640] Trial 20 finished with value: 0.7427898196579136 and parameters: {'num_iterations': 1973, 'objective': 'binary', 'metric': 'auc', 'verbose': -1, 'learning_rate': 0.00688976659636273, 'n_estimators': 946, 'min_child_samples': 25, 'subsample': 1.0, 'colsample_bytree': 0.9}. Best is trial 3 with value: 0.7432955993781147.\n",
      "[I 2025-02-26 03:14:11,211] Trial 21 finished with value: 0.7430430470433432 and parameters: {'num_iterations': 2083, 'objective': 'binary', 'metric': 'auc', 'verbose': -1, 'learning_rate': 0.007540467244869114, 'n_estimators': 141, 'min_child_samples': 15, 'subsample': 1.0, 'colsample_bytree': 0.6}. Best is trial 3 with value: 0.7432955993781147.\n",
      "[I 2025-02-26 03:14:34,935] Trial 22 finished with value: 0.743281494790245 and parameters: {'num_iterations': 2350, 'objective': 'binary', 'metric': 'auc', 'verbose': -1, 'learning_rate': 0.005003696675578548, 'n_estimators': 315, 'min_child_samples': 15, 'subsample': 1.0, 'colsample_bytree': 0.6}. Best is trial 3 with value: 0.7432955993781147.\n",
      "[I 2025-02-26 03:15:02,175] Trial 23 finished with value: 0.7434196935435201 and parameters: {'num_iterations': 2472, 'objective': 'binary', 'metric': 'auc', 'verbose': -1, 'learning_rate': 0.0051158678500405974, 'n_estimators': 303, 'min_child_samples': 20, 'subsample': 0.9, 'colsample_bytree': 0.5}. Best is trial 23 with value: 0.7434196935435201.\n",
      "[I 2025-02-26 03:15:29,331] Trial 24 finished with value: 0.7433210249626109 and parameters: {'num_iterations': 2494, 'objective': 'binary', 'metric': 'auc', 'verbose': -1, 'learning_rate': 0.005037122713163456, 'n_estimators': 374, 'min_child_samples': 15, 'subsample': 0.9, 'colsample_bytree': 0.5}. Best is trial 23 with value: 0.7434196935435201.\n",
      "[I 2025-02-26 03:15:57,302] Trial 25 finished with value: 0.7425513520565807 and parameters: {'num_iterations': 2579, 'objective': 'binary', 'metric': 'auc', 'verbose': -1, 'learning_rate': 0.009051543872784437, 'n_estimators': 654, 'min_child_samples': 20, 'subsample': 0.8, 'colsample_bytree': 0.5}. Best is trial 23 with value: 0.7434196935435201.\n",
      "[I 2025-02-26 03:16:27,074] Trial 26 finished with value: 0.7429950152035704 and parameters: {'num_iterations': 2806, 'objective': 'binary', 'metric': 'auc', 'verbose': -1, 'learning_rate': 0.006560862459482555, 'n_estimators': 399, 'min_child_samples': 10, 'subsample': 0.9, 'colsample_bytree': 0.5}. Best is trial 23 with value: 0.7434196935435201.\n",
      "[I 2025-02-26 03:16:52,543] Trial 27 finished with value: 0.7421909107430865 and parameters: {'num_iterations': 2475, 'objective': 'binary', 'metric': 'auc', 'verbose': -1, 'learning_rate': 0.01311869971970553, 'n_estimators': 766, 'min_child_samples': 15, 'subsample': 0.9, 'colsample_bytree': 0.5}. Best is trial 23 with value: 0.7434196935435201.\n",
      "[I 2025-02-26 03:17:24,479] Trial 28 finished with value: 0.7430973409706924 and parameters: {'num_iterations': 2997, 'objective': 'binary', 'metric': 'auc', 'verbose': -1, 'learning_rate': 0.006485717220356874, 'n_estimators': 517, 'min_child_samples': 25, 'subsample': 0.8, 'colsample_bytree': 0.5}. Best is trial 23 with value: 0.7434196935435201.\n",
      "[I 2025-02-26 03:17:49,833] Trial 29 finished with value: 0.7428100314687969 and parameters: {'num_iterations': 2435, 'objective': 'binary', 'metric': 'auc', 'verbose': -1, 'learning_rate': 0.010328568523546872, 'n_estimators': 315, 'min_child_samples': 35, 'subsample': 0.8, 'colsample_bytree': 0.5}. Best is trial 23 with value: 0.7434196935435201.\n",
      "[I 2025-02-26 03:18:14,039] Trial 30 finished with value: 0.7429846472196379 and parameters: {'num_iterations': 2273, 'objective': 'binary', 'metric': 'auc', 'verbose': -1, 'learning_rate': 0.008022168911769469, 'n_estimators': 926, 'min_child_samples': 10, 'subsample': 0.9, 'colsample_bytree': 0.5}. Best is trial 23 with value: 0.7434196935435201.\n",
      "[I 2025-02-26 03:18:37,715] Trial 31 finished with value: 0.7431348936417185 and parameters: {'num_iterations': 2356, 'objective': 'binary', 'metric': 'auc', 'verbose': -1, 'learning_rate': 0.005122087932282677, 'n_estimators': 324, 'min_child_samples': 15, 'subsample': 0.9, 'colsample_bytree': 0.6}. Best is trial 23 with value: 0.7434196935435201.\n",
      "[I 2025-02-26 03:19:03,508] Trial 32 finished with value: 0.7431845257486399 and parameters: {'num_iterations': 2617, 'objective': 'binary', 'metric': 'auc', 'verbose': -1, 'learning_rate': 0.005761877994514873, 'n_estimators': 656, 'min_child_samples': 15, 'subsample': 1.0, 'colsample_bytree': 0.6}. Best is trial 23 with value: 0.7434196935435201.\n",
      "[I 2025-02-26 03:19:28,472] Trial 33 finished with value: 0.7432282332933142 and parameters: {'num_iterations': 2276, 'objective': 'binary', 'metric': 'auc', 'verbose': -1, 'learning_rate': 0.006221477713474773, 'n_estimators': 276, 'min_child_samples': 10, 'subsample': 1.0, 'colsample_bytree': 0.5}. Best is trial 23 with value: 0.7434196935435201.\n",
      "[I 2025-02-26 03:19:49,563] Trial 34 finished with value: 0.743230989088354 and parameters: {'num_iterations': 2428, 'objective': 'binary', 'metric': 'auc', 'verbose': -1, 'learning_rate': 0.005284009079831121, 'n_estimators': 513, 'min_child_samples': 20, 'subsample': 0.9, 'colsample_bytree': 0.7}. Best is trial 23 with value: 0.7434196935435201.\n",
      "[I 2025-02-26 03:20:16,519] Trial 35 finished with value: 0.7426776619764994 and parameters: {'num_iterations': 2559, 'objective': 'binary', 'metric': 'auc', 'verbose': -1, 'learning_rate': 0.009016745224291741, 'n_estimators': 375, 'min_child_samples': 15, 'subsample': 0.5, 'colsample_bytree': 0.5}. Best is trial 23 with value: 0.7434196935435201.\n",
      "[I 2025-02-26 03:20:42,525] Trial 36 finished with value: 0.743172700449463 and parameters: {'num_iterations': 2672, 'objective': 'binary', 'metric': 'auc', 'verbose': -1, 'learning_rate': 0.006130783226702048, 'n_estimators': 583, 'min_child_samples': 10, 'subsample': 1.0, 'colsample_bytree': 0.6}. Best is trial 23 with value: 0.7434196935435201.\n",
      "[I 2025-02-26 03:21:02,012] Trial 37 finished with value: 0.7423606264203264 and parameters: {'num_iterations': 2369, 'objective': 'binary', 'metric': 'auc', 'verbose': -1, 'learning_rate': 0.007192531881385918, 'n_estimators': 222, 'min_child_samples': 45, 'subsample': 0.6, 'colsample_bytree': 1.0}. Best is trial 23 with value: 0.7434196935435201.\n",
      "[I 2025-02-26 03:21:28,517] Trial 38 finished with value: 0.7431219644361712 and parameters: {'num_iterations': 2710, 'objective': 'binary', 'metric': 'auc', 'verbose': -1, 'learning_rate': 0.005761692517338731, 'n_estimators': 854, 'min_child_samples': 15, 'subsample': 0.7, 'colsample_bytree': 0.6}. Best is trial 23 with value: 0.7434196935435201.\n",
      "[I 2025-02-26 03:21:52,243] Trial 39 finished with value: 0.7425101779373178 and parameters: {'num_iterations': 2824, 'objective': 'binary', 'metric': 'auc', 'verbose': -1, 'learning_rate': 0.0050198256340380195, 'n_estimators': 1083, 'min_child_samples': 25, 'subsample': 0.8, 'colsample_bytree': 0.9}. Best is trial 23 with value: 0.7434196935435201.\n"
     ]
    },
    {
     "name": "stdout",
     "output_type": "stream",
     "text": [
      "Cat val score : 0.7432635622680546\n",
      "LGBM val score : 0.7433470382382683\n",
      "Ensemble val score : 0.74360482817197\n"
     ]
    }
   ],
   "source": [
    "for col in X.columns:\n",
    "    if X[col].dtype == 'object':  # 문자형이면 category로 변환\n",
    "        X[col] = X[col].astype('category')\n",
    "        test[col] = test[col].astype('category')\n",
    "seed = 4972\n",
    "\n",
    "test_pred_total = []\n",
    "scores_total = []\n",
    "seed_everything(seed)\n",
    "print('Seed {} Start!'.format(seed))\n",
    "cv = StratifiedKFold(n_splits = 10, random_state = seed, shuffle=True)\n",
    "\n",
    "cat_param_list = []\n",
    "lgbm_param_list = []\n",
    "for idx, (train_idx, val_idx) in enumerate(cv.split(X, y)):\n",
    "    print('='*50)\n",
    "    X_train, X_val = X.iloc[train_idx],X.iloc[val_idx]\n",
    "    y_train, y_val = y.iloc[train_idx], y.iloc[val_idx]\n",
    "    \n",
    "    best_val_auc = 0\n",
    "\n",
    "    sampler = TPESampler(seed=seed)\n",
    "    optuna_cat = optuna.create_study(direction='maximize', sampler=sampler)\n",
    "    optuna_cat.optimize(objective_cat, n_trials = 40)\n",
    "    cat_trial = optuna_cat.best_trial\n",
    "    cat_trial_params = cat_trial.params\n",
    "    cat_param_list.append(cat_trial_params)\n",
    "    \n",
    "    model = CatBoostClassifier(**cat_trial_params, auto_class_weights='Balanced', eval_metric='AUC', random_state=seed)\n",
    "    model.load_model(\"./weight/cat_fold_cpu{}.cbm\".format(idx))\n",
    "    #model = CatBoostClassifier(auto_class_weights='Balanced', eval_metric='AUC', random_state=seed, task_type=\"CPU\" )\n",
    "    #model.fit(X_train,y_train,cat_features=categorical_columns,early_stopping_rounds = 300,eval_set=[(X_val,y_val)], verbose = 300)\n",
    "    \n",
    "    # model_cpu = CatBoostClassifier(auto_class_weights='Balanced',eval_metric='AUC', random_state = 501, task_type=\"cpu\" )\n",
    "    # model_cpu.fit(X_train,y_train,cat_features=categorical_columns, early_stopping_rounds = 300,eval_set=[(X_val,y_val)], verbose = 300)\n",
    "    # model_cpu.save_model(\"cat_fold_{}.cbm\".format(idx))\n",
    "\n",
    "\n",
    "    sampler = TPESampler(seed=seed)\n",
    "    optuna_lgbm = optuna.create_study(direction='maximize', sampler=sampler)\n",
    "    optuna_lgbm.optimize(objective_lgbm, n_trials = 40)\n",
    "    lgbm_trial = optuna_lgbm.best_trial\n",
    "    lgbm_trial_params = lgbm_trial.params\n",
    "    lgbm_param_list.append(lgbm_trial_params)\n",
    "    \n",
    "    # lgbm_trial_params =loaded_lgbm_params[idx]\n",
    "    #print(lgbm_trial_params)\n",
    "\n",
    "    class_weights = compute_class_weight(class_weight=\"balanced\", classes=np.unique(y), y=y_train)\n",
    "    class_weight_dict = {i: w for i, w in enumerate(class_weights)}\n",
    "    model_lgbm = lgb.LGBMClassifier(**lgbm_trial_params,class_weight=class_weight_dict)\n",
    "    # model_lgbm = lgb.LGBMClassifier(class_weight=class_weight_dict)\n",
    "    #model_lgbm= lgb.LGBMClassifier(objective = 'binary', metric = 'auc', random_state =  seed, class_weight=class_weight_dict)\n",
    "    model_lgbm.fit(X_train, y_train, eval_set=[(X_val, y_val)],categorical_feature=categorical_columns)\n",
    "\n",
    "    val_pred = model.predict_proba(X_val)[:, 1]\n",
    "    val_pred_lgbm = model_lgbm.predict_proba(X_val)[:, 1]\n",
    "    print('Cat val score : {}'.format(roc_auc_score(y_val,val_pred)))\n",
    "    print('LGBM val score : {}'.format(roc_auc_score(y_val,val_pred_lgbm)))\n",
    "\n",
    "    roc_val = roc_auc_score(y_val, (2*val_pred+val_pred_lgbm)/3)\n",
    "    scores_total.append(roc_val)\n",
    "    print('Ensemble val score : {}'.format(roc_val))\n",
    "\n",
    "    test_pred = model.predict_proba(test)[:, 1]\n",
    "    test_pred_lgbm = model_lgbm.predict_proba(test)[:, 1]\n",
    "    test_pred_total.append((2*test_pred+test_pred_lgbm)/3)"
   ]
  },
  {
   "cell_type": "code",
   "execution_count": 25,
   "metadata": {
    "colab": {
     "base_uri": "https://localhost:8080/"
    },
    "id": "LDLeh9IJD9pt",
    "outputId": "0534775f-2085-448a-d2aa-690a9e4e4ff4"
   },
   "outputs": [
    {
     "data": {
      "text/plain": [
       "(0.741097865366347,\n",
       " [0.7420357721659947,\n",
       "  0.7359064502481675,\n",
       "  0.7432124720717959,\n",
       "  0.7419887370418468,\n",
       "  0.7446654518825638,\n",
       "  0.7393815166809465,\n",
       "  0.739282240554445,\n",
       "  0.7384800302066904,\n",
       "  0.7424211546390482,\n",
       "  0.74360482817197])"
      ]
     },
     "execution_count": 25,
     "metadata": {},
     "output_type": "execute_result"
    }
   ],
   "source": [
    "np.mean(scores_total), scores_total"
   ]
  },
  {
   "cell_type": "code",
   "execution_count": 26,
   "metadata": {},
   "outputs": [],
   "source": [
    "test_pred_total_mean = np.mean(test_pred_total, axis=(0))"
   ]
  },
  {
   "cell_type": "code",
   "execution_count": 27,
   "metadata": {},
   "outputs": [
    {
     "data": {
      "text/plain": [
       "array([0.00397112, 0.00334397, 0.32421235, ..., 0.66293823, 0.38081727,\n",
       "       0.00487874])"
      ]
     },
     "execution_count": 27,
     "metadata": {},
     "output_type": "execute_result"
    }
   ],
   "source": [
    "test_pred_total_mean"
   ]
  },
  {
   "cell_type": "code",
   "execution_count": 28,
   "metadata": {
    "colab": {
     "base_uri": "https://localhost:8080/"
    },
    "id": "E8D6DZP0pIm3",
    "outputId": "946ae60d-f2f2-405e-e757-ab31fe0d2375"
   },
   "outputs": [
    {
     "data": {
      "text/plain": [
       "(0.741097865366347,\n",
       " [0.7420357721659947,\n",
       "  0.7359064502481675,\n",
       "  0.7432124720717959,\n",
       "  0.7419887370418468,\n",
       "  0.7446654518825638,\n",
       "  0.7393815166809465,\n",
       "  0.739282240554445,\n",
       "  0.7384800302066904,\n",
       "  0.7424211546390482,\n",
       "  0.74360482817197])"
      ]
     },
     "execution_count": 28,
     "metadata": {},
     "output_type": "execute_result"
    }
   ],
   "source": [
    "np.mean(scores_total), scores_total # 불임 원인 인코딩 + make feature 사용\n"
   ]
  },
  {
   "cell_type": "code",
   "execution_count": 29,
   "metadata": {},
   "outputs": [],
   "source": [
    "import json\n",
    "with open(\"lgbm_params.json\", \"w\") as f:\n",
    "    json.dump(lgbm_param_list, f) \n",
    "\n",
    "with open(\"lgbm_params.json\", \"r\") as f:\n",
    "    loaded_lgbm_params =  json.load(f)"
   ]
  },
  {
   "cell_type": "markdown",
   "metadata": {},
   "source": [
    "#### 재현성 확인"
   ]
  },
  {
   "cell_type": "code",
   "execution_count": 30,
   "metadata": {
    "scrolled": true,
    "tags": []
   },
   "outputs": [
    {
     "name": "stdout",
     "output_type": "stream",
     "text": [
      "Seed 4972 Start!\n",
      "==================================================\n",
      "Cat cpu val score : 0.7419473292981775\n",
      "LGBM val score : 0.7409660081507365\n",
      "Ensemble val score : 0.7420357721659947\n",
      "==================================================\n",
      "==================================================\n",
      "Cat cpu val score : 0.7429930391615726\n",
      "LGBM val score : 0.7426731964838695\n",
      "Ensemble val score : 0.7432124720717959\n",
      "==================================================\n",
      "Cat cpu val score : 0.7419416701274264\n",
      "LGBM val score : 0.7408497717169277\n",
      "Ensemble val score : 0.7419887370418468\n",
      "==================================================\n",
      "Cat cpu val score : 0.7445513643504444\n",
      "LGBM val score : 0.7440029492248497\n",
      "Ensemble val score : 0.7446654518825638\n",
      "==================================================\n",
      "Cat cpu val score : 0.7393247766876829\n",
      "LGBM val score : 0.7384086773521203\n",
      "Ensemble val score : 0.7393815166809465\n",
      "==================================================\n",
      "Cat cpu val score : 0.739274957949109\n",
      "LGBM val score : 0.7383497057207986\n",
      "Ensemble val score : 0.739282240554445\n",
      "==================================================\n",
      "Cat cpu val score : 0.7384354093581844\n",
      "LGBM val score : 0.7376730269992626\n",
      "Ensemble val score : 0.7384800302066904\n",
      "==================================================\n",
      "Cat cpu val score : 0.7422119524691908\n",
      "LGBM val score : 0.7419458157326448\n",
      "Ensemble val score : 0.7424211546390482\n",
      "==================================================\n",
      "Cat cpu val score : 0.7432635622680546\n",
      "LGBM val score : 0.7433470382382683\n",
      "Ensemble val score : 0.74360482817197\n"
     ]
    }
   ],
   "source": [
    "for col in X.columns:\n",
    "    if X[col].dtype == 'object':  # 문자형이면 category로 변환\n",
    "        X[col] = X[col].astype('category')\n",
    "        test[col] = test[col].astype('category')\n",
    "seed = 4972\n",
    "\n",
    "test_pred_total = []\n",
    "scores_total = []\n",
    "seed_everything(seed)\n",
    "print('Seed {} Start!'.format(seed))\n",
    "cv = StratifiedKFold(n_splits = 10, random_state = seed, shuffle=True)\n",
    "\n",
    "cat_param_list = []\n",
    "lgbm_param_list = []\n",
    "for idx, (train_idx, val_idx) in enumerate(cv.split(X, y)):\n",
    "    print('='*50)\n",
    "    X_train, X_val = X.iloc[train_idx],X.iloc[val_idx]\n",
    "    y_train, y_val = y.iloc[train_idx], y.iloc[val_idx]\n",
    "    if idx == 1:\n",
    "        continue\n",
    "    # cat_trial_params = loaded_cat_params[idx]\n",
    "    # model = CatBoostClassifier(**cat_trial_params ,auto_class_weights='Balanced', eval_metric='AUC', random_state=seed, task_type=\"CPU\")\n",
    "    # model.fit(X_train,y_train,cat_features=categorical_columns, early_stopping_rounds = 300, eval_set=[(X_val,y_val)], verbose = 300)\n",
    "    \n",
    "    model_cpu = CatBoostClassifier()\n",
    "    model_cpu.load_model(\"./weight/cat_fold_cpu{}.cbm\".format(idx))\n",
    "\n",
    "    lgbm_trial_params = loaded_lgbm_params[idx]\n",
    "    class_weights = compute_class_weight(class_weight=\"balanced\", classes=np.unique(y), y=y_train)\n",
    "    class_weight_dict = {i: w for i, w in enumerate(class_weights)}\n",
    "\n",
    "    model_lgbm = lgb.LGBMClassifier(**lgbm_trial_params,class_weight=class_weight_dict)\n",
    "    model_lgbm.fit(X_train, y_train, eval_set=[(X_val, y_val)],categorical_feature=categorical_columns)\n",
    "\n",
    "    # val_pred = model.predict_proba(X_val)[:, 1]\n",
    "    val_pred_cpu = model_cpu.predict_proba(X_val)[:, 1]\n",
    "    val_pred_lgbm = model_lgbm.predict_proba(X_val)[:, 1]\n",
    "    # print('Cat val score : {}'.format(roc_auc_score(y_val,val_pred)))\n",
    "    print('Cat cpu val score : {}'.format(roc_auc_score(y_val,val_pred_cpu)))\n",
    "    print('LGBM val score : {}'.format(roc_auc_score(y_val,val_pred_lgbm)))\n",
    "\n",
    "    roc_val = roc_auc_score(y_val, (val_pred_cpu*2 + val_pred_lgbm)/3)\n",
    "    scores_total.append(roc_val)\n",
    "    print('Ensemble val score : {}'.format(roc_val))\n",
    "\n",
    "    # test_pred = model.predict_proba(test)[:, 1]\n",
    "    test_pred_cpu = model_cpu.predict_proba(test)[:, 1]\n",
    "    test_pred_lgbm = model_lgbm.predict_proba(test)[:, 1]\n",
    "    test_pred_total.append((test_pred_cpu*2+test_pred_lgbm)/3)\n",
    "    # test_pred_total.append((test_pred_cpu))"
   ]
  },
  {
   "cell_type": "code",
   "execution_count": 31,
   "metadata": {},
   "outputs": [
    {
     "data": {
      "text/plain": [
       "(0.7416746892683668,\n",
       " [0.7420357721659947,\n",
       "  0.7432124720717959,\n",
       "  0.7419887370418468,\n",
       "  0.7446654518825638,\n",
       "  0.7393815166809465,\n",
       "  0.739282240554445,\n",
       "  0.7384800302066904,\n",
       "  0.7424211546390482,\n",
       "  0.74360482817197])"
      ]
     },
     "execution_count": 31,
     "metadata": {},
     "output_type": "execute_result"
    }
   ],
   "source": [
    "np.mean(scores_total), scores_total"
   ]
  },
  {
   "cell_type": "code",
   "execution_count": 32,
   "metadata": {
    "id": "zdqhyNyumAyx"
   },
   "outputs": [],
   "source": [
    "test_pred_total_mean = np.mean(test_pred_total, axis=(0))"
   ]
  },
  {
   "cell_type": "code",
   "execution_count": 33,
   "metadata": {
    "colab": {
     "base_uri": "https://localhost:8080/",
     "height": 540
    },
    "id": "HHVwzBg8NEZK",
    "outputId": "7c5d38e1-affe-45e7-b863-372c9a868b84"
   },
   "outputs": [
    {
     "data": {
      "text/plain": [
       "(array([13633.,  2426.,  3429.,  6363.,  9588., 13755., 17069., 15291.,\n",
       "         8171.,   342.]),\n",
       " array([4.42273338e-04, 8.99945289e-02, 1.79546785e-01, 2.69099040e-01,\n",
       "        3.58651296e-01, 4.48203551e-01, 5.37755807e-01, 6.27308062e-01,\n",
       "        7.16860318e-01, 8.06412574e-01, 8.95964829e-01]),\n",
       " <BarContainer object of 10 artists>)"
      ]
     },
     "execution_count": 33,
     "metadata": {},
     "output_type": "execute_result"
    },
    {
     "data": {
      "image/png": "[encoded data removed]",
      "text/plain": [
       "<Figure size 640x480 with 1 Axes>"
      ]
     },
     "metadata": {},
     "output_type": "display_data"
    }
   ],
   "source": [
    "plt.hist(test_pred_total_mean)"
   ]
  },
  {
   "cell_type": "code",
   "execution_count": 34,
   "metadata": {
    "id": "KGlLsagWhQmz"
   },
   "outputs": [],
   "source": [
    "test_pred_total_mean = np.mean(test_pred_total, axis=(0))\n",
    "sample_submission = pd.read_csv('../sample_submission.csv')\n",
    "sample_submission['probability'] = test_pred_total_mean\n",
    "sample_submission.to_csv('CODE_recentgit_lgbmcat_cpu_mac_sunghyun+StandardScaler.csv', index=False)"
   ]
  }
 ],
 "metadata": {
  "accelerator": "GPU",
  "colab": {
   "gpuType": "T4",
   "provenance": []
  },
  "kernelspec": {
   "display_name": "Python 3",
   "language": "python",
   "name": "python3"
  },
  "language_info": {
   "codemirror_mode": {
    "name": "ipython",
    "version": 3
   },
   "file_extension": ".py",
   "mimetype": "text/x-python",
   "name": "python",
   "nbconvert_exporter": "python",
   "pygments_lexer": "ipython3",
   "version": "3.9.6"
  }
 },
 "nbformat": 4,
 "nbformat_minor": 4
}
