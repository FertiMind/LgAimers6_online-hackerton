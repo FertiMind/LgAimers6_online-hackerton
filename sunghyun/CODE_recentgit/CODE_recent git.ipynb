{
 "cells": [
  {
   "cell_type": "code",
   "execution_count": 58,
   "metadata": {
    "colab": {
     "base_uri": "https://localhost:8080/"
    },
    "id": "0_-E_OuZQXqu",
    "outputId": "8f5cbcbb-5086-4ead-c817-9fdb22e3533b"
   },
   "outputs": [],
   "source": [
    "import random\n",
    "import os\n",
    "import pandas as pd\n",
    "import numpy as np\n",
    "\n",
    "from matplotlib import pyplot as plt\n",
    "import seaborn as sns\n",
    "from catboost import CatBoostClassifier\n",
    "import lightgbm as lgb\n",
    "\n",
    "import optuna\n",
    "from optuna import Trial\n",
    "from optuna.samplers import TPESampler\n",
    "from sklearn.model_selection import StratifiedKFold\n",
    "from sklearn.metrics import roc_auc_score\n",
    "from sklearn.utils.class_weight import compute_class_weight\n",
    "\n",
    "import warnings\n",
    "\n",
    "warnings.filterwarnings('ignore')"
   ]
  },
  {
   "cell_type": "code",
   "execution_count": 59,
   "metadata": {
    "id": "u2FSTwmUIkF5"
   },
   "outputs": [],
   "source": [
    "import os\n",
    "import logging\n",
    "\n",
    "def seed_everything(seed: int = 42):\n",
    "    random.seed(seed)\n",
    "    np.random.seed(seed)\n",
    "    os.environ[\"PYTHONHASHSEED\"] = str(seed)"
   ]
  },
  {
   "cell_type": "code",
   "execution_count": 60,
   "metadata": {
    "colab": {
     "base_uri": "https://localhost:8080/"
    },
    "id": "bbtq1EWyQcwX",
    "outputId": "ad146067-7509-44f2-ee26-cc8bc615473f"
   },
   "outputs": [
    {
     "data": {
      "text/plain": [
       "((256351, 68), (90067, 67))"
      ]
     },
     "execution_count": 60,
     "metadata": {},
     "output_type": "execute_result"
    }
   ],
   "source": [
    "train = pd.read_csv('../train.csv').drop(columns=['ID'])\n",
    "test = pd.read_csv('../test.csv').drop(columns=['ID'])\n",
    "train.shape, test.shape\n",
    "# train.loc[train['시술 당시 나이'] == '알 수 없음', '시술 당시 나이'] = '만43-44세'"
   ]
  },
  {
   "cell_type": "code",
   "execution_count": 61,
   "metadata": {
    "colab": {
     "base_uri": "https://localhost:8080/",
     "height": 178
    },
    "id": "x7kj8pMWSpd9",
    "outputId": "11cdbca0-3097-42aa-dd4e-52d7070ff5c9"
   },
   "outputs": [
    {
     "data": {
      "text/plain": [
       "임신 성공 여부\n",
       "0    190123\n",
       "1     66228\n",
       "Name: count, dtype: int64"
      ]
     },
     "execution_count": 61,
     "metadata": {},
     "output_type": "execute_result"
    }
   ],
   "source": [
    "train['임신 성공 여부'].value_counts()"
   ]
  },
  {
   "cell_type": "code",
   "execution_count": 62,
   "metadata": {
    "colab": {
     "base_uri": "https://localhost:8080/",
     "height": 335
    },
    "id": "EsL6VCeI_Q4D",
    "outputId": "32bd81c0-f1bf-4f45-8b2a-54bf8e66c1d1"
   },
   "outputs": [
    {
     "data": {
      "text/plain": [
       "시술 당시 나이\n",
       "만18-34세    102476\n",
       "만35-37세     57780\n",
       "만38-39세     39247\n",
       "만40-42세     37348\n",
       "만43-44세     12253\n",
       "만45-50세      6918\n",
       "알 수 없음        329\n",
       "Name: count, dtype: int64"
      ]
     },
     "execution_count": 62,
     "metadata": {},
     "output_type": "execute_result"
    }
   ],
   "source": [
    "# train['시술 당시 나이'] = train['시술 당시 나이'].replace('알 수 없음','만35-37세')\n",
    "# test['시술 당시 나이'] = test['시술 당시 나이'].replace('알 수 없음','만35-37세')\n",
    "\n",
    "train['시술 당시 나이'].value_counts()\n",
    "# train['']\n"
   ]
  },
  {
   "cell_type": "code",
   "execution_count": 63,
   "metadata": {
    "colab": {
     "base_uri": "https://localhost:8080/"
    },
    "id": "4xu4wqTwWgEO",
    "outputId": "8b21d1a6-d5ee-46ea-ab34-c6c2ec30bb19"
   },
   "outputs": [
    {
     "data": {
      "text/plain": [
       "((256351, 66), (90067, 65))"
      ]
     },
     "execution_count": 63,
     "metadata": {},
     "output_type": "execute_result"
    }
   ],
   "source": [
    "# drop_columns = ['착상 전 유전 검사 사용 여부',\n",
    "#                 'PGD 시술 여부', 'PGS 시술 여부', '난자 해동 경과일'] + ['배란 유도 유형', '불임 원인 - 자궁경부 문제', '불임 원인 - 정자 면역학적 요인','불임 원인 - 정자 운동성', '불임 원인 - 정자 형태']#\n",
    "drop_columns = ['난자 해동 경과일', '배란 유도 유형']\n",
    "train.drop(columns=drop_columns, inplace=True)\n",
    "test.drop(columns=drop_columns, inplace=True)\n",
    "\n",
    "train.shape, test.shape"
   ]
  },
  {
   "cell_type": "code",
   "execution_count": 64,
   "metadata": {
    "id": "q5k1E_a8a6LH"
   },
   "outputs": [],
   "source": [
    "nan_col_list = ['착상 전 유전 검사 사용 여부','PGD 시술 여부', 'PGS 시술 여부']\n",
    "for col in nan_col_list:\n",
    "    train[col] = train[col].fillna(0)\n",
    "    test[col] = test[col].fillna(0)"
   ]
  },
  {
   "cell_type": "code",
   "execution_count": 65,
   "metadata": {
    "colab": {
     "base_uri": "https://localhost:8080/"
    },
    "id": "_Q-1vJvMZVdO",
    "outputId": "c00dc096-9bb5-4d60-f38f-4908c4f8c858"
   },
   "outputs": [],
   "source": [
    "drop_columns2 = []\n",
    "for col in train.columns:\n",
    "    if len(train[col].value_counts()) == 1:\n",
    "        drop_columns2.append(col)"
   ]
  },
  {
   "cell_type": "code",
   "execution_count": 66,
   "metadata": {
    "colab": {
     "base_uri": "https://localhost:8080/"
    },
    "id": "Eb_P6B2RarRm",
    "outputId": "8648f15e-8a85-49bb-fb00-a83582492051"
   },
   "outputs": [
    {
     "name": "stdout",
     "output_type": "stream",
     "text": [
      "['불임 원인 - 여성 요인', '난자 채취 경과일']\n"
     ]
    },
    {
     "data": {
      "text/plain": [
       "((256351, 64), (90067, 63))"
      ]
     },
     "execution_count": 66,
     "metadata": {},
     "output_type": "execute_result"
    }
   ],
   "source": [
    "print(drop_columns2)\n",
    "train.drop(columns=drop_columns2, inplace=True)\n",
    "test.drop(columns=drop_columns2, inplace=True)\n",
    "\n",
    "train.shape, test.shape"
   ]
  },
  {
   "cell_type": "code",
   "execution_count": 67,
   "metadata": {
    "id": "YjAuM-pa6Ewz"
   },
   "outputs": [],
   "source": [
    "cat_to_int_dict = {'6회 이상' : 6, '5회' : 5, '4회' : 4, '3회' : 3, '2회' : 2, '1회' : 1, '0회' : 0}\n",
    "\n",
    "cat_to_int_columns = ['총 시술 횟수', '클리닉 내 총 시술 횟수', 'IVF 시술 횟수','DI 시술 횟수', 'DI 임신 횟수' ,'DI 출산 횟수',\n",
    "                      '총 임신 횟수', 'IVF 임신 횟수', '총 출산 횟수', 'IVF 출산 횟수'] #\n",
    "for col in cat_to_int_columns:\n",
    "    train[col] = train[col].map(cat_to_int_dict)\n",
    "    test[col] = test[col].map(cat_to_int_dict)"
   ]
  },
  {
   "cell_type": "code",
   "execution_count": 68,
   "metadata": {},
   "outputs": [],
   "source": [
    "# 5. Binning(구간화) 예시\n",
    "# 예: 임신 시도 또는 마지막 임신 경과 연수\n",
    "if '임신 시도 또는 마지막 임신 경과 연수' in train.columns:\n",
    "    bins = [-0.1, 0.9, 3, 6, 10, 20]  # 0 이하, 1~3, 4~6, 7~10, 11~20\n",
    "    labels = ['0년 이하','1~3년','4~6년','7~10년','11~20년']\n",
    "    train['임신시도_bin'] = pd.cut(train['임신 시도 또는 마지막 임신 경과 연수'], bins=bins, labels=labels)\n",
    "    test['임신시도_bin']  = pd.cut(test['임신 시도 또는 마지막 임신 경과 연수'],  bins=bins, labels=labels)\n",
    "\n",
    "# 예: 총 생성 배아 수 (0~20, 21이상 구간)\n",
    "if '총 생성 배아 수' in train.columns:\n",
    "    bins = [-0.1, 0, 5, 10, 15, 20, 999]\n",
    "    labels = ['0','1~5','6~10','11~15','16~20','21이상']\n",
    "    train['총_생성_배아_bin'] = pd.cut(train['총 생성 배아 수'], bins=bins, labels=labels)\n",
    "    test['총_생성_배아_bin']  = pd.cut(test['총 생성 배아 수'],  bins=bins, labels=labels)\n",
    "\n",
    "# 6. 희소 범주(rare categories) 병합 예시\n",
    "def merge_rare_categories(series, min_count=100):\n",
    "    \"\"\"\n",
    "    시리즈 내에서 출현 횟수가 min_count 미만인 카테고리를\n",
    "    모두 '기타' 카테고리로 통합\n",
    "    \"\"\"\n",
    "    value_counts = series.value_counts(dropna=False)\n",
    "    rare_cats = value_counts[value_counts < min_count].index\n",
    "    return series.replace(rare_cats, '기타')\n",
    "\n",
    "\n",
    "rare_merge_cols = ['특정 시술 유형', '배아 생성 주요 이유']\n",
    "for col in rare_merge_cols:\n",
    "    if col in train.columns:\n",
    "        train[col] = merge_rare_categories(train[col], min_count=100)\n",
    "    if col in test.columns:\n",
    "        test[col] = merge_rare_categories(test[col], min_count=100)\n",
    "train.drop(columns =['임신 시도 또는 마지막 임신 경과 연수'],inplace = True )\n",
    "test.drop(columns =['임신 시도 또는 마지막 임신 경과 연수'],inplace = True )\n"
   ]
  },
  {
   "cell_type": "code",
   "execution_count": 69,
   "metadata": {
    "id": "f-mBaoLO4ffA"
   },
   "outputs": [],
   "source": [
    "procedure_encoding_dict = {'ICSI' : 'ICSI', 'IVF' : 'IVF', 'Unknown' : 'Unknown','IUI' : 'IUI',\n",
    "                           'ICSI:ICSI' : 'ICSI', 'ICSI / BLASTOCYST ' : 'ICSI / BLASTOCYST',\n",
    "                           'IVF / BLASTOCYST' : 'IVF / BLASTOCYST','IVF:IVF' : 'IVF','ICSI:IVF' : 'ICSI:IVF',\n",
    "                           'ICSI / AH' : 'ICSI / AH','IVF:ICSI' : 'ICSI:IVF', 'IVF / AH' : 'IVF / AH',\n",
    "                           'ICSI:Unknown' : 'ICSI', 'IVF:Unknown' : 'IVF', 'ICI' : 'ICI','Generic DI' : 'Generic DI',\n",
    "                           'IVI' : 'IVI','ICSI / BLASTOCYST:IVF / BLASTOCYST' : 'ICSI / BLASTOCYST:IVF / BLASTOCYST',\n",
    "                           'ICSI / BLASTOCYST :IVF / BLASTOCYST': 'ICSI / BLASTOCYST:IVF / BLASTOCYST','FER' : 'FER',\n",
    "                           'IVF / AH:ICSI / AH' : 'IVF / AH:ICSI / AH','GIFT':'GIFT','ICSI / AH:Unknown' : 'ICSI / AH',\n",
    "                           'ICSI / BLASTOCYST :ICSI' : 'ICSI / BLASTOCYST', 'IUI:ICI' : 'IUI:ICI',\n",
    "                           'IVF:Unknown:Unknown:Unknown' : 'IVF'}\n",
    "\n",
    "train['특정 시술 유형'] = train['특정 시술 유형'].map(procedure_encoding_dict)\n",
    "test['특정 시술 유형'] = test['특정 시술 유형'].map(procedure_encoding_dict)"
   ]
  },
  {
   "cell_type": "code",
   "execution_count": 70,
   "metadata": {
    "id": "UEU77iWib0U_"
   },
   "outputs": [],
   "source": [
    "train['불임 원인 - 정자 요인'] = train['불임 원인 - 정자 면역학적 요인'] + train['불임 원인 - 정자 운동성'] + train['불임 원인 - 정자 농도']  + train['불임 원인 - 정자 형태']\n",
    "test['불임 원인 - 정자 요인'] = test['불임 원인 - 정자 면역학적 요인'] + test['불임 원인 - 정자 운동성'] + test['불임 원인 - 정자 농도'] + test['불임 원인 - 정자 형태']\n",
    "train['불임 원인 - 여성 요인'] = train['불임 원인 - 자궁경부 문제'] + train['불임 원인 - 자궁내막증'] + train['불임 원인 - 배란 장애'] + train['불임 원인 - 난관 질환']\n",
    "test['불임 원인 - 여성 요인'] = test['불임 원인 - 자궁경부 문제'] + test['불임 원인 - 자궁내막증'] + test['불임 원인 - 배란 장애'] + test['불임 원인 - 난관 질환']\n",
    "\n",
    "train['남성 불임 원인'] = train['남성 주 불임 원인'] + train['남성 부 불임 원인']\n",
    "test['남성 불임 원인'] = test['남성 주 불임 원인'] + test['남성 부 불임 원인']\n",
    "train['여성 불임 원인'] = train['여성 주 불임 원인'] + train['여성 부 불임 원인']\n",
    "test['여성 불임 원인'] = test['여성 주 불임 원인'] + test['여성 부 불임 원인']\n",
    "train['부부 불임 원인'] = train['부부 주 불임 원인'] + train['부부 부 불임 원인']\n",
    "test['부부 불임 원인'] = test['부부 주 불임 원인'] + test['부부 부 불임 원인']\n",
    "\n",
    "\n",
    "drop_columns3 = ['불임 원인 - 정자 면역학적 요인', '불임 원인 - 정자 운동성', '불임 원인 - 정자 형태', '불임 원인 - 자궁경부 문제',\n",
    "                 '남성 주 불임 원인', '남성 부 불임 원인', '여성 주 불임 원인', '여성 부 불임 원인',\n",
    "                 '부부 주 불임 원인', '부부 부 불임 원인']\n",
    "train.drop(columns=drop_columns3, inplace=True)\n",
    "test.drop(columns=drop_columns3, inplace=True)"
   ]
  },
  {
   "cell_type": "code",
   "execution_count": 71,
   "metadata": {},
   "outputs": [
    {
     "ename": "KeyError",
     "evalue": "\"['임신 시도 또는 마지막 임신 경과 연수'] not found in axis\"",
     "output_type": "error",
     "traceback": [
      "\u001b[0;31m---------------------------------------------------------------------------\u001b[0m",
      "\u001b[0;31mKeyError\u001b[0m                                  Traceback (most recent call last)",
      "Cell \u001b[0;32mIn[71], line 1\u001b[0m\n\u001b[0;32m----> 1\u001b[0m \u001b[43mtrain\u001b[49m\u001b[38;5;241;43m.\u001b[39;49m\u001b[43mdrop\u001b[49m\u001b[43m(\u001b[49m\u001b[43mcolumns\u001b[49m\u001b[43m \u001b[49m\u001b[38;5;241;43m=\u001b[39;49m\u001b[43m[\u001b[49m\u001b[38;5;124;43m'\u001b[39;49m\u001b[38;5;124;43m임신 시도 또는 마지막 임신 경과 연수\u001b[39;49m\u001b[38;5;124;43m'\u001b[39;49m\u001b[43m]\u001b[49m\u001b[43m,\u001b[49m\u001b[43minplace\u001b[49m\u001b[43m \u001b[49m\u001b[38;5;241;43m=\u001b[39;49m\u001b[43m \u001b[49m\u001b[38;5;28;43;01mTrue\u001b[39;49;00m\u001b[43m \u001b[49m\u001b[43m)\u001b[49m\n\u001b[1;32m      2\u001b[0m test\u001b[38;5;241m.\u001b[39mdrop(columns \u001b[38;5;241m=\u001b[39m[\u001b[38;5;124m'\u001b[39m\u001b[38;5;124m임신 시도 또는 마지막 임신 경과 연수\u001b[39m\u001b[38;5;124m'\u001b[39m],inplace \u001b[38;5;241m=\u001b[39m \u001b[38;5;28;01mTrue\u001b[39;00m )\n",
      "File \u001b[0;32m~/Library/Python/3.9/lib/python/site-packages/pandas/core/frame.py:5581\u001b[0m, in \u001b[0;36mDataFrame.drop\u001b[0;34m(self, labels, axis, index, columns, level, inplace, errors)\u001b[0m\n\u001b[1;32m   5433\u001b[0m \u001b[38;5;28;01mdef\u001b[39;00m\u001b[38;5;250m \u001b[39m\u001b[38;5;21mdrop\u001b[39m(\n\u001b[1;32m   5434\u001b[0m     \u001b[38;5;28mself\u001b[39m,\n\u001b[1;32m   5435\u001b[0m     labels: IndexLabel \u001b[38;5;241m|\u001b[39m \u001b[38;5;28;01mNone\u001b[39;00m \u001b[38;5;241m=\u001b[39m \u001b[38;5;28;01mNone\u001b[39;00m,\n\u001b[0;32m   (...)\u001b[0m\n\u001b[1;32m   5442\u001b[0m     errors: IgnoreRaise \u001b[38;5;241m=\u001b[39m \u001b[38;5;124m\"\u001b[39m\u001b[38;5;124mraise\u001b[39m\u001b[38;5;124m\"\u001b[39m,\n\u001b[1;32m   5443\u001b[0m ) \u001b[38;5;241m-\u001b[39m\u001b[38;5;241m>\u001b[39m DataFrame \u001b[38;5;241m|\u001b[39m \u001b[38;5;28;01mNone\u001b[39;00m:\n\u001b[1;32m   5444\u001b[0m \u001b[38;5;250m    \u001b[39m\u001b[38;5;124;03m\"\"\"\u001b[39;00m\n\u001b[1;32m   5445\u001b[0m \u001b[38;5;124;03m    Drop specified labels from rows or columns.\u001b[39;00m\n\u001b[1;32m   5446\u001b[0m \n\u001b[0;32m   (...)\u001b[0m\n\u001b[1;32m   5579\u001b[0m \u001b[38;5;124;03m            weight  1.0     0.8\u001b[39;00m\n\u001b[1;32m   5580\u001b[0m \u001b[38;5;124;03m    \"\"\"\u001b[39;00m\n\u001b[0;32m-> 5581\u001b[0m     \u001b[38;5;28;01mreturn\u001b[39;00m \u001b[38;5;28;43msuper\u001b[39;49m\u001b[43m(\u001b[49m\u001b[43m)\u001b[49m\u001b[38;5;241;43m.\u001b[39;49m\u001b[43mdrop\u001b[49m\u001b[43m(\u001b[49m\n\u001b[1;32m   5582\u001b[0m \u001b[43m        \u001b[49m\u001b[43mlabels\u001b[49m\u001b[38;5;241;43m=\u001b[39;49m\u001b[43mlabels\u001b[49m\u001b[43m,\u001b[49m\n\u001b[1;32m   5583\u001b[0m \u001b[43m        \u001b[49m\u001b[43maxis\u001b[49m\u001b[38;5;241;43m=\u001b[39;49m\u001b[43maxis\u001b[49m\u001b[43m,\u001b[49m\n\u001b[1;32m   5584\u001b[0m \u001b[43m        \u001b[49m\u001b[43mindex\u001b[49m\u001b[38;5;241;43m=\u001b[39;49m\u001b[43mindex\u001b[49m\u001b[43m,\u001b[49m\n\u001b[1;32m   5585\u001b[0m \u001b[43m        \u001b[49m\u001b[43mcolumns\u001b[49m\u001b[38;5;241;43m=\u001b[39;49m\u001b[43mcolumns\u001b[49m\u001b[43m,\u001b[49m\n\u001b[1;32m   5586\u001b[0m \u001b[43m        \u001b[49m\u001b[43mlevel\u001b[49m\u001b[38;5;241;43m=\u001b[39;49m\u001b[43mlevel\u001b[49m\u001b[43m,\u001b[49m\n\u001b[1;32m   5587\u001b[0m \u001b[43m        \u001b[49m\u001b[43minplace\u001b[49m\u001b[38;5;241;43m=\u001b[39;49m\u001b[43minplace\u001b[49m\u001b[43m,\u001b[49m\n\u001b[1;32m   5588\u001b[0m \u001b[43m        \u001b[49m\u001b[43merrors\u001b[49m\u001b[38;5;241;43m=\u001b[39;49m\u001b[43merrors\u001b[49m\u001b[43m,\u001b[49m\n\u001b[1;32m   5589\u001b[0m \u001b[43m    \u001b[49m\u001b[43m)\u001b[49m\n",
      "File \u001b[0;32m~/Library/Python/3.9/lib/python/site-packages/pandas/core/generic.py:4788\u001b[0m, in \u001b[0;36mNDFrame.drop\u001b[0;34m(self, labels, axis, index, columns, level, inplace, errors)\u001b[0m\n\u001b[1;32m   4786\u001b[0m \u001b[38;5;28;01mfor\u001b[39;00m axis, labels \u001b[38;5;129;01min\u001b[39;00m axes\u001b[38;5;241m.\u001b[39mitems():\n\u001b[1;32m   4787\u001b[0m     \u001b[38;5;28;01mif\u001b[39;00m labels \u001b[38;5;129;01mis\u001b[39;00m \u001b[38;5;129;01mnot\u001b[39;00m \u001b[38;5;28;01mNone\u001b[39;00m:\n\u001b[0;32m-> 4788\u001b[0m         obj \u001b[38;5;241m=\u001b[39m \u001b[43mobj\u001b[49m\u001b[38;5;241;43m.\u001b[39;49m\u001b[43m_drop_axis\u001b[49m\u001b[43m(\u001b[49m\u001b[43mlabels\u001b[49m\u001b[43m,\u001b[49m\u001b[43m \u001b[49m\u001b[43maxis\u001b[49m\u001b[43m,\u001b[49m\u001b[43m \u001b[49m\u001b[43mlevel\u001b[49m\u001b[38;5;241;43m=\u001b[39;49m\u001b[43mlevel\u001b[49m\u001b[43m,\u001b[49m\u001b[43m \u001b[49m\u001b[43merrors\u001b[49m\u001b[38;5;241;43m=\u001b[39;49m\u001b[43merrors\u001b[49m\u001b[43m)\u001b[49m\n\u001b[1;32m   4790\u001b[0m \u001b[38;5;28;01mif\u001b[39;00m inplace:\n\u001b[1;32m   4791\u001b[0m     \u001b[38;5;28mself\u001b[39m\u001b[38;5;241m.\u001b[39m_update_inplace(obj)\n",
      "File \u001b[0;32m~/Library/Python/3.9/lib/python/site-packages/pandas/core/generic.py:4830\u001b[0m, in \u001b[0;36mNDFrame._drop_axis\u001b[0;34m(self, labels, axis, level, errors, only_slice)\u001b[0m\n\u001b[1;32m   4828\u001b[0m         new_axis \u001b[38;5;241m=\u001b[39m axis\u001b[38;5;241m.\u001b[39mdrop(labels, level\u001b[38;5;241m=\u001b[39mlevel, errors\u001b[38;5;241m=\u001b[39merrors)\n\u001b[1;32m   4829\u001b[0m     \u001b[38;5;28;01melse\u001b[39;00m:\n\u001b[0;32m-> 4830\u001b[0m         new_axis \u001b[38;5;241m=\u001b[39m \u001b[43maxis\u001b[49m\u001b[38;5;241;43m.\u001b[39;49m\u001b[43mdrop\u001b[49m\u001b[43m(\u001b[49m\u001b[43mlabels\u001b[49m\u001b[43m,\u001b[49m\u001b[43m \u001b[49m\u001b[43merrors\u001b[49m\u001b[38;5;241;43m=\u001b[39;49m\u001b[43merrors\u001b[49m\u001b[43m)\u001b[49m\n\u001b[1;32m   4831\u001b[0m     indexer \u001b[38;5;241m=\u001b[39m axis\u001b[38;5;241m.\u001b[39mget_indexer(new_axis)\n\u001b[1;32m   4833\u001b[0m \u001b[38;5;66;03m# Case for non-unique axis\u001b[39;00m\n\u001b[1;32m   4834\u001b[0m \u001b[38;5;28;01melse\u001b[39;00m:\n",
      "File \u001b[0;32m~/Library/Python/3.9/lib/python/site-packages/pandas/core/indexes/base.py:7070\u001b[0m, in \u001b[0;36mIndex.drop\u001b[0;34m(self, labels, errors)\u001b[0m\n\u001b[1;32m   7068\u001b[0m \u001b[38;5;28;01mif\u001b[39;00m mask\u001b[38;5;241m.\u001b[39many():\n\u001b[1;32m   7069\u001b[0m     \u001b[38;5;28;01mif\u001b[39;00m errors \u001b[38;5;241m!=\u001b[39m \u001b[38;5;124m\"\u001b[39m\u001b[38;5;124mignore\u001b[39m\u001b[38;5;124m\"\u001b[39m:\n\u001b[0;32m-> 7070\u001b[0m         \u001b[38;5;28;01mraise\u001b[39;00m \u001b[38;5;167;01mKeyError\u001b[39;00m(\u001b[38;5;124mf\u001b[39m\u001b[38;5;124m\"\u001b[39m\u001b[38;5;132;01m{\u001b[39;00mlabels[mask]\u001b[38;5;241m.\u001b[39mtolist()\u001b[38;5;132;01m}\u001b[39;00m\u001b[38;5;124m not found in axis\u001b[39m\u001b[38;5;124m\"\u001b[39m)\n\u001b[1;32m   7071\u001b[0m     indexer \u001b[38;5;241m=\u001b[39m indexer[\u001b[38;5;241m~\u001b[39mmask]\n\u001b[1;32m   7072\u001b[0m \u001b[38;5;28;01mreturn\u001b[39;00m \u001b[38;5;28mself\u001b[39m\u001b[38;5;241m.\u001b[39mdelete(indexer)\n",
      "\u001b[0;31mKeyError\u001b[0m: \"['임신 시도 또는 마지막 임신 경과 연수'] not found in axis\""
     ]
    }
   ],
   "source": [
    "train.drop(columns =['임신 시도 또는 마지막 임신 경과 연수'],inplace = True )\n",
    "test.drop(columns =['임신 시도 또는 마지막 임신 경과 연수'],inplace = True )"
   ]
  },
  {
   "cell_type": "code",
   "execution_count": 72,
   "metadata": {
    "colab": {
     "base_uri": "https://localhost:8080/"
    },
    "id": "kjEBmjSkbL5j",
    "outputId": "b3db516d-031e-42fc-89bb-a3218d8bd879"
   },
   "outputs": [
    {
     "data": {
      "text/plain": [
       "Index(['시술 시기 코드', '시술 당시 나이', '시술 유형', '특정 시술 유형', '배란 자극 여부', '단일 배아 이식 여부',\n",
       "       '착상 전 유전 검사 사용 여부', '착상 전 유전 진단 사용 여부', '불명확 불임 원인', '불임 원인 - 난관 질환',\n",
       "       '불임 원인 - 남성 요인', '불임 원인 - 배란 장애', '불임 원인 - 자궁내막증', '불임 원인 - 정자 농도',\n",
       "       '배아 생성 주요 이유', '총 시술 횟수', '클리닉 내 총 시술 횟수', 'IVF 시술 횟수', 'DI 시술 횟수',\n",
       "       '총 임신 횟수', 'IVF 임신 횟수', 'DI 임신 횟수', '총 출산 횟수', 'IVF 출산 횟수', 'DI 출산 횟수',\n",
       "       '총 생성 배아 수', '미세주입된 난자 수', '미세주입에서 생성된 배아 수', '이식된 배아 수',\n",
       "       '미세주입 배아 이식 수', '저장된 배아 수', '미세주입 후 저장된 배아 수', '해동된 배아 수', '해동 난자 수',\n",
       "       '수집된 신선 난자 수', '저장된 신선 난자 수', '혼합된 난자 수', '파트너 정자와 혼합된 난자 수',\n",
       "       '기증자 정자와 혼합된 난자 수', '난자 출처', '정자 출처', '난자 기증자 나이', '정자 기증자 나이',\n",
       "       '동결 배아 사용 여부', '신선 배아 사용 여부', '기증 배아 사용 여부', '대리모 여부', 'PGD 시술 여부',\n",
       "       'PGS 시술 여부', '난자 혼합 경과일', '배아 이식 경과일', '배아 해동 경과일', '임신 성공 여부',\n",
       "       '임신시도_bin', '총_생성_배아_bin', '불임 원인 - 정자 요인', '불임 원인 - 여성 요인', '남성 불임 원인',\n",
       "       '여성 불임 원인', '부부 불임 원인'],\n",
       "      dtype='object')"
      ]
     },
     "execution_count": 72,
     "metadata": {},
     "output_type": "execute_result"
    }
   ],
   "source": [
    "train.columns"
   ]
  },
  {
   "cell_type": "code",
   "execution_count": 73,
   "metadata": {
    "id": "64dAkKrBayFA"
   },
   "outputs": [],
   "source": [
    "# categorical_columns = [\"시술 시기 코드\",\"시술 당시 나이\", \"시술 유형\", \"특정 시술 유형\",\"배란 자극 여부\",\n",
    "                      #  \"단일 배아 이식 여부\",\"착상 전 유전 진단 사용 여부\",\n",
    "                      #  \"남성 주 불임 원인\",\"남성 부 불임 원인\",\"여성 주 불임 원인\",\"여성 부 불임 원인\",\n",
    "                      #  \"부부 주 불임 원인\",\"부부 부 불임 원인\",\"불명확 불임 원인\",\"불임 원인 - 난관 질환\",\n",
    "                      #  \"불임 원인 - 남성 요인\",\"불임 원인 - 배란 장애\",\"불임 원인 - 자궁경부 문제\",\"불임 원인 - 자궁내막증\",\n",
    "                      #  \"불임 원인 - 정자 농도\",\"불임 원인 - 정자 면역학적 요인\",\"불임 원인 - 정자 운동성\",\"불임 원인 - 정자 형태\",\n",
    "                      #  \"배아 생성 주요 이유\",\"총 시술 횟수\",\"클리닉 내 총 시술 횟수\",\"IVF 시술 횟수\",\"DI 시술 횟수\",\n",
    "                      #  \"총 임신 횟수\",\"IVF 임신 횟수\",\"DI 임신 횟수\",\"총 출산 횟수\",\"IVF 출산 횟수\",\"DI 출산 횟수\",\n",
    "                      #  \"난자 출처\",\"정자 출처\",\"난자 기증자 나이\",\"정자 기증자 나이\",\n",
    "                      #  \"동결 배아 사용 여부\",\"신선 배아 사용 여부\",\"기증 배아 사용 여부\",\"대리모 여부\"]\n",
    "categorical_columns =  [\"시술 시기 코드\",\"시술 당시 나이\",\"시술 유형\", \"특정 시술 유형\",\n",
    "                        \"배란 자극 여부\", \"단일 배아 이식 여부\", '착상 전 유전 검사 사용 여부',\"착상 전 유전 진단 사용 여부\",\n",
    "                       \"불명확 불임 원인\",\"배아 생성 주요 이유\",\n",
    "                        \"불임 원인 - 난관 질환\",\"불임 원인 - 남성 요인\",\"불임 원인 - 배란 장애\",\n",
    "                        \"불임 원인 - 자궁내막증\",'불임 원인 - 정자 농도',\"난자 출처\",\"정자 출처\",\"난자 기증자 나이\",\"정자 기증자 나이\",\n",
    "                       \"동결 배아 사용 여부\",\"신선 배아 사용 여부\", '기증 배아 사용 여부',\"대리모 여부\",\n",
    "                        'PGD 시술 여부', '총_생성_배아_bin','PGS 시술 여부', '불임 원인 - 정자 요인', '불임 원인 - 여성 요인',  '남성 불임 원인', '여성 불임 원인', '부부 불임 원인',\"임신시도_bin\"] #\n",
    "# \"남성 주 불임 원인\",\"남성 부 불임 원인\",\"여성 주 불임 원인\",\"여성 부 불임 원인\",\n",
    "#                       \"부부 주 불임 원인\",\"부부 부 불임 원인\",\n",
    "\n",
    "for col in categorical_columns:\n",
    "    if train[col].isna().sum() > 0 or test[col].isna().sum() > 0 :\n",
    "\n",
    "      mode_value = train[col].mode()[0]\n",
    "      train[col].fillna(mode_value, inplace=True)  # 최빈값으로 대체\n",
    "      test[col].fillna(mode_value, inplace = True)\n",
    "    train[col] = train[col].astype(str)\n",
    "    test[col] = test[col].astype(str)\n",
    "    #encoder = ce.OrdinalEncoder(handle_unknown='impute')\n",
    "    #encoder.fit(train[col])\n",
    "    #train[col] = encoder.transform(train[col])\n",
    "    #test[col] = encoder.transform(test[col])\n",
    "\n",
    "numeric_columns = [\"총 생성 배아 수\", \"총 시술 횟수\",\"클리닉 내 총 시술 횟수\",\"IVF 시술 횟수\",\"DI 시술 횟수\",\n",
    "                   \"총 임신 횟수\",\"IVF 임신 횟수\",\"DI 임신 횟수\",\"총 출산 횟수\",\"IVF 출산 횟수\",\"DI 출산 횟수\",\n",
    "                    '미세주입된 난자 수', '미세주입에서 생성된 배아 수', '이식된 배아 수', '미세주입 배아 이식 수', '저장된 배아 수',\n",
    "       '미세주입 후 저장된 배아 수', '해동된 배아 수', '해동 난자 수', '수집된 신선 난자 수', '저장된 신선 난자 수',\n",
    "       '혼합된 난자 수', '파트너 정자와 혼합된 난자 수', '기증자 정자와 혼합된 난자 수', '난자 혼합 경과일', '배아 이식 경과일', '배아 해동 경과일'] #\n",
    "\n",
    "# numeric_columns = [\"총 생성 배아 수\",\"미세주입된 난자 수\",\"미세주입에서 생성된 배아 수\",\n",
    "#                    \"이식된 배아 수\",\"미세주입 배아 이식 수\",\"저장된 배아 수\",\"미세주입 후 저장된 배아 수\",\n",
    "#                    \"수집된 신선 난자 수\",\"혼합된 난자 수\",\"파트너 정자와 혼합된 난자 수\",\n",
    "#                    \"기증자 정자와 혼합된 난자 수\",\"배아 이식 경과일\"]\n",
    "\n",
    "for col in numeric_columns:\n",
    "  if train[col].isna().sum():\n",
    "    if train[col].isna().sum() >= len(train)*0.5: # 결측치가 절반이 넘어갈 경우\n",
    "      train[col].fillna(-1, inplace=True)  # -1로 대체\n",
    "      test[col].fillna(-1, inplace = True)\n",
    "    else:\n",
    "      mode_value = train[col].mode()[0]  # 최빈값 구하기\n",
    "      train[col].fillna(mode_value, inplace=True)  # 최빈값으로 대체\n",
    "      test[col].fillna(mode_value, inplace = True)\n"
   ]
  },
  {
   "cell_type": "code",
   "execution_count": 74,
   "metadata": {
    "colab": {
     "base_uri": "https://localhost:8080/"
    },
    "id": "rrQrzq0H_QfV",
    "outputId": "255208d3-85ca-4d21-d9d0-eb8dccc27e6d"
   },
   "outputs": [
    {
     "data": {
      "text/plain": [
       "59"
      ]
     },
     "execution_count": 74,
     "metadata": {},
     "output_type": "execute_result"
    }
   ],
   "source": [
    "len(categorical_columns) + len(numeric_columns)"
   ]
  },
  {
   "cell_type": "code",
   "execution_count": 75,
   "metadata": {
    "id": "CI8IOlCFVXGY"
   },
   "outputs": [],
   "source": [
    "def make_feature(df):\n",
    "  #df['연령 가중치'] = df['시술 당시 나이'].map(age_weight_dict)\n",
    "\n",
    "  #df['난자 활용률'] = df['미세주입된 난자 수'] / (df['수집된 신선 난자 수'] + df['해동 난자 수'] + 1)\n",
    "  df['미세주입 배아 생성률'] = (df['미세주입에서 생성된 배아 수']) / (df['미세주입된 난자 수'] + 1)\n",
    "  df['미세주입 배아 이식률'] = (df['미세주입 배아 이식 수']) / (df['미세주입에서 생성된 배아 수'] + 1)\n",
    "  df['배아 이식률'] = (df['이식된 배아 수']) / (df['총 생성 배아 수'] + 1)\n",
    "  df['저장 배아 비율'] = (df['저장된 배아 수'])/ (df['총 생성 배아 수'] + 1)\n",
    "  df['해동 배아 생존율'] = (df['해동된 배아 수'])/ (df['총 생성 배아 수'] + 1)\n",
    "  df['파트너 정자 혼합 비율'] = (df['파트너 정자와 혼합된 난자 수']) / (df['혼합된 난자 수'] + 1)\n",
    "\n",
    "  # df['저장 배아 비율2'] = (df['저장된 배아 수'])/ (df['이식된 배아 수'] + 1)\n",
    "  # df['해동 배아 생존율2'] = (df['해동된 배아 수'])/ (df['이식된 배아 수'] + 1)\n",
    "  # df['미세주입 배아 이식 비율'] = df['미세주입 배아 이식 수'] / (df['이식된 배아 수'] + 1)\n",
    "  #df['나이보정 배아 이식 수'] = df['이식된 배아 수']*df['연령 가중치']\n",
    "\n",
    "  df['임신 성공률'] = (df['총 임신 횟수']) / (df['총 시술 횟수'] + 1)\n",
    "  #df['IVF 시술 성공률'] = (df['IVF 임신 횟수'])/ (df['IVF 시술 횟수'] + 1)\n",
    "  #df['DI 시술 성공률'] = (df['DI 임신 횟수']) / (df['DI 시술 횟수'] + 1)\n",
    "  df['출산율'] = df['총 출산 횟수'] / (df['총 임신 횟수'] + 1)\n",
    "  #df['IVF 출산율'] = df['IVF 출산 횟수'] / (df['IVF 임신 횟수'] + 1)\n",
    "  #df['DI 출산율'] = df['DI 출산 횟수'] / (df['DI 임신 횟수'] + 1)\n",
    "  #df['시술 기준 출산 성공률'] = df['총 출산 횟수'] / (df['총 시술 횟수'] + 1)\n",
    "\n",
    "  #df = df.drop(columns = ['연령 가중치'])\n",
    "\n",
    "  return df"
   ]
  },
  {
   "cell_type": "code",
   "execution_count": 76,
   "metadata": {
    "colab": {
     "base_uri": "https://localhost:8080/"
    },
    "id": "_VNPbGSR4h_I",
    "outputId": "44e7b9c5-1948-417e-b02a-64267fb91fae"
   },
   "outputs": [
    {
     "data": {
      "text/plain": [
       "((256351, 67), (90067, 67))"
      ]
     },
     "execution_count": 76,
     "metadata": {},
     "output_type": "execute_result"
    }
   ],
   "source": [
    "X = train.drop('임신 성공 여부', axis=1)\n",
    "y = train['임신 성공 여부']\n",
    "\n",
    "X = make_feature(X)\n",
    "test = make_feature(test)\n",
    "\n",
    "X.shape, test.shape"
   ]
  },
  {
   "cell_type": "code",
   "execution_count": 77,
   "metadata": {
    "colab": {
     "base_uri": "https://localhost:8080/",
     "height": 178
    },
    "id": "1WNQj2e8ukWK",
    "outputId": "039cab20-93c0-4ab4-f8a6-8098c62dc87f"
   },
   "outputs": [
    {
     "data": {
      "text/plain": [
       "임신 성공 여부\n",
       "0    190123\n",
       "1     66228\n",
       "Name: count, dtype: int64"
      ]
     },
     "execution_count": 77,
     "metadata": {},
     "output_type": "execute_result"
    }
   ],
   "source": [
    "y.value_counts()"
   ]
  },
  {
   "cell_type": "code",
   "execution_count": 78,
   "metadata": {},
   "outputs": [],
   "source": [
    "if not os.path.exists('./weight'):\n",
    "    os.makedirs('./weight')"
   ]
  },
  {
   "cell_type": "code",
   "execution_count": 81,
   "metadata": {
    "id": "nsRZfmFixgqm"
   },
   "outputs": [],
   "source": [
    "from sklearn.utils.class_weight import compute_class_weight\n",
    "def objective_cat(trial):\n",
    "    global best_val_auc\n",
    "    cbrm_param = {\n",
    "        'iterations':trial.suggest_int(\"iterations\", 1500, 3000),\n",
    "        'depth':trial.suggest_int(\"depth\", 4, 10),\n",
    "        'learning_rate' : trial.suggest_float('learning_rate',0.005, 0.1),\n",
    "        'l2_leaf_reg': trial.suggest_float(\"l2_leaf_reg\", 1e-4, 100.0, log=True),\n",
    "        'early_stopping_rounds': 300\n",
    "    }\n",
    "\n",
    "    # Generate model\n",
    "    model_cat = CatBoostClassifier(**cbrm_param, auto_class_weights='Balanced', eval_metric='AUC', random_state=seed)\n",
    "    model_cat.fit(X_train,\n",
    "          y_train,\n",
    "          cat_features=categorical_columns,\n",
    "          early_stopping_rounds= 300,\n",
    "          eval_set=[(X_val,y_val)],\n",
    "          verbose = 300)\n",
    "    \n",
    "    val_auc = model_cat.get_best_score()[\"validation\"][\"AUC\"]\n",
    "    best_model_path = \"./weight/cat_fold_cpu{}.cbm\".format(idx)\n",
    "    if val_auc > best_val_auc:\n",
    "        best_val_auc = val_auc\n",
    "        model_cat.save_model(best_model_path)\n",
    "        print('저장 완료')\n",
    "\n",
    "    return val_auc\n",
    "\n",
    "def objective_lgbm(trial):\n",
    "\n",
    "    lgbm_params = {\n",
    "         #'num_leaves': trial.suggest_int('num_leaves', 2, 1024, step=1),\n",
    "         #'max_depth': trial.suggest_int('max_depth', 3, 18, step=1),\n",
    "          \"num_iterations\": trial.suggest_int(\"num_iterations\", 1500, 3000),\n",
    "        \"objective\":  trial.suggest_categorical(\"objective\", [\"binary\"]),\n",
    "         \"metric\":  trial.suggest_categorical(\"metric\", [\"auc\"]),\n",
    "        #  \"random_state\":  trial.suggest_int('random_state', 42, 42),\n",
    "        \"random_state\": seed,\n",
    "        \"verbose\":  trial.suggest_int('verbose', -1, -1),\n",
    "        'learning_rate': trial.suggest_float('learning_rate', 0.005, 0.1, log=True),\n",
    "        'n_estimators': trial.suggest_int('n_estimators', 100, 2000),\n",
    "        'min_child_samples': trial.suggest_int('min_child_samples', 10, 50, step=5),\n",
    "        'subsample': trial.suggest_float('subsample', 0.5, 1.0, step=0.1),\n",
    "        'colsample_bytree': trial.suggest_float('colsample_bytree', 0.5, 1.0, step=0.1),\n",
    "    }\n",
    "\n",
    "    # Generate model\n",
    "\n",
    "    class_weights = compute_class_weight(class_weight=\"balanced\", classes=np.unique(y), y=y_train)\n",
    "    class_weight_dict = {i: w for i, w in enumerate(class_weights)}\n",
    "\n",
    "    model_lgbm = lgb.LGBMClassifier(**lgbm_params, class_weight=class_weight_dict)\n",
    "\n",
    "    model_lgbm.fit(X_train, y_train,eval_set=[(X_val, y_val)],categorical_feature=categorical_columns)\n",
    "\n",
    "    return model_lgbm.best_score_['valid_0']['auc']"
   ]
  },
  {
   "cell_type": "code",
   "execution_count": 83,
   "metadata": {
    "colab": {
     "base_uri": "https://localhost:8080/"
    },
    "id": "NsuYwQX28LzT",
    "outputId": "392153b7-08f0-4feb-9a83-6016732f894c",
    "scrolled": true,
    "tags": []
   },
   "outputs": [
    {
     "name": "stderr",
     "output_type": "stream",
     "text": [
      "[I 2025-02-21 21:28:14,096] A new study created in memory with name: no-name-809624ee-a341-4fee-b7ac-da8aeb8b583c\n"
     ]
    },
    {
     "name": "stdout",
     "output_type": "stream",
     "text": [
      "Seed 4972 Start!\n",
      "==================================================\n",
      "0:\ttest: 0.7161758\tbest: 0.7161758 (0)\ttotal: 118ms\tremaining: 4m 39s\n",
      "300:\ttest: 0.7387540\tbest: 0.7387540 (300)\ttotal: 35.6s\tremaining: 4m 4s\n",
      "600:\ttest: 0.7400686\tbest: 0.7400728 (589)\ttotal: 1m 13s\tremaining: 3m 36s\n",
      "900:\ttest: 0.7406008\tbest: 0.7406119 (892)\ttotal: 1m 54s\tremaining: 3m 6s\n",
      "1200:\ttest: 0.7407464\tbest: 0.7407542 (1190)\ttotal: 2m 37s\tremaining: 2m 33s\n",
      "1500:\ttest: 0.7408787\tbest: 0.7408936 (1467)\ttotal: 3m 26s\tremaining: 1m 59s\n",
      "1800:\ttest: 0.7409551\tbest: 0.7410085 (1708)\ttotal: 4m 14s\tremaining: 1m 19s\n"
     ]
    },
    {
     "name": "stderr",
     "output_type": "stream",
     "text": [
      "[I 2025-02-21 21:33:02,661] Trial 0 finished with value: 0.7410084705745688 and parameters: {'iterations': 2366, 'depth': 10, 'learning_rate': 0.01181021951839225, 'l2_leaf_reg': 9.980783802743254}. Best is trial 0 with value: 0.7410084705745688.\n"
     ]
    },
    {
     "name": "stdout",
     "output_type": "stream",
     "text": [
      "Stopped by overfitting detector  (300 iterations wait)\n",
      "\n",
      "bestTest = 0.7410084706\n",
      "bestIteration = 1708\n",
      "\n",
      "Shrink model to first 1709 iterations.\n",
      "저장 완료\n",
      "0:\ttest: 0.6946616\tbest: 0.6946616 (0)\ttotal: 49.6ms\tremaining: 1m 48s\n"
     ]
    },
    {
     "name": "stderr",
     "output_type": "stream",
     "text": [
      "Training has stopped (degenerate solution on iteration 232, probably too small l2-regularization, try to increase it)\n",
      "[I 2025-02-21 21:33:12,604] Trial 1 finished with value: 0.7282318075732872 and parameters: {'iterations': 2193, 'depth': 4, 'learning_rate': 0.005671430811678843, 'l2_leaf_reg': 0.00012325230809466137}. Best is trial 0 with value: 0.7410084705745688.\n"
     ]
    },
    {
     "name": "stdout",
     "output_type": "stream",
     "text": [
      "\n",
      "bestTest = 0.7282318076\n",
      "bestIteration = 231\n",
      "\n",
      "Shrink model to first 232 iterations.\n",
      "0:\ttest: 0.6946616\tbest: 0.6946616 (0)\ttotal: 48.5ms\tremaining: 2m 2s\n",
      "300:\ttest: 0.7408920\tbest: 0.7408920 (300)\ttotal: 14s\tremaining: 1m 43s\n",
      "600:\ttest: 0.7400776\tbest: 0.7409930 (315)\ttotal: 28.6s\tremaining: 1m 31s\n"
     ]
    },
    {
     "name": "stderr",
     "output_type": "stream",
     "text": [
      "[I 2025-02-21 21:33:42,077] Trial 2 finished with value: 0.7409929968448441 and parameters: {'iterations': 2535, 'depth': 4, 'learning_rate': 0.09275339199839054, 'l2_leaf_reg': 0.0008705394248343123}. Best is trial 0 with value: 0.7410084705745688.\n"
     ]
    },
    {
     "name": "stdout",
     "output_type": "stream",
     "text": [
      "Stopped by overfitting detector  (300 iterations wait)\n",
      "\n",
      "bestTest = 0.7409929968\n",
      "bestIteration = 315\n",
      "\n",
      "Shrink model to first 316 iterations.\n",
      "0:\ttest: 0.6946616\tbest: 0.6946616 (0)\ttotal: 45.4ms\tremaining: 1m 46s\n",
      "300:\ttest: 0.7391779\tbest: 0.7391779 (300)\ttotal: 13.4s\tremaining: 1m 30s\n",
      "600:\ttest: 0.7402539\tbest: 0.7402637 (597)\ttotal: 27.8s\tremaining: 1m 20s\n",
      "900:\ttest: 0.7402192\tbest: 0.7404415 (803)\ttotal: 42.4s\tremaining: 1m 7s\n"
     ]
    },
    {
     "name": "stderr",
     "output_type": "stream",
     "text": [
      "[I 2025-02-21 21:34:34,492] Trial 3 finished with value: 0.7404415412298581 and parameters: {'iterations': 2334, 'depth': 4, 'learning_rate': 0.04657568321363276, 'l2_leaf_reg': 0.0008640473331457248}. Best is trial 0 with value: 0.7410084705745688.\n"
     ]
    },
    {
     "name": "stdout",
     "output_type": "stream",
     "text": [
      "Stopped by overfitting detector  (300 iterations wait)\n",
      "\n",
      "bestTest = 0.7404415412\n",
      "bestIteration = 803\n",
      "\n",
      "Shrink model to first 804 iterations.\n",
      "0:\ttest: 0.7228048\tbest: 0.7228048 (0)\ttotal: 103ms\tremaining: 3m\n",
      "300:\ttest: 0.7381428\tbest: 0.7381428 (300)\ttotal: 36.4s\tremaining: 2m 54s\n",
      "600:\ttest: 0.7389412\tbest: 0.7389631 (597)\ttotal: 1m 16s\tremaining: 2m 24s\n",
      "900:\ttest: 0.7388022\tbest: 0.7390259 (786)\ttotal: 1m 54s\tremaining: 1m 46s\n"
     ]
    },
    {
     "name": "stderr",
     "output_type": "stream",
     "text": [
      "[I 2025-02-21 21:36:56,037] Trial 4 finished with value: 0.7390258795965623 and parameters: {'iterations': 1742, 'depth': 10, 'learning_rate': 0.012622767482095846, 'l2_leaf_reg': 0.00021158816350109617}. Best is trial 0 with value: 0.7410084705745688.\n"
     ]
    },
    {
     "name": "stdout",
     "output_type": "stream",
     "text": [
      "Stopped by overfitting detector  (300 iterations wait)\n",
      "\n",
      "bestTest = 0.7390258796\n",
      "bestIteration = 786\n",
      "\n",
      "Shrink model to first 787 iterations.\n",
      "0:\ttest: 0.6946616\tbest: 0.6946616 (0)\ttotal: 47.1ms\tremaining: 1m 38s\n",
      "300:\ttest: 0.7404055\tbest: 0.7404070 (299)\ttotal: 13.8s\tremaining: 1m 21s\n",
      "600:\ttest: 0.7406651\tbest: 0.7408965 (394)\ttotal: 28.4s\tremaining: 1m 10s\n"
     ]
    },
    {
     "name": "stderr",
     "output_type": "stream",
     "text": [
      "[I 2025-02-21 21:37:29,159] Trial 5 finished with value: 0.7408965371794098 and parameters: {'iterations': 2082, 'depth': 4, 'learning_rate': 0.06995196593094148, 'l2_leaf_reg': 0.0018080296485396804}. Best is trial 0 with value: 0.7410084705745688.\n"
     ]
    },
    {
     "name": "stdout",
     "output_type": "stream",
     "text": [
      "Stopped by overfitting detector  (300 iterations wait)\n",
      "\n",
      "bestTest = 0.7408965372\n",
      "bestIteration = 394\n",
      "\n",
      "Shrink model to first 395 iterations.\n",
      "0:\ttest: 0.6962144\tbest: 0.6962144 (0)\ttotal: 55.3ms\tremaining: 1m 50s\n",
      "300:\ttest: 0.7405063\tbest: 0.7405161 (298)\ttotal: 17.7s\tremaining: 1m 39s\n",
      "600:\ttest: 0.7412080\tbest: 0.7412148 (592)\ttotal: 36.5s\tremaining: 1m 24s\n"
     ]
    },
    {
     "name": "stderr",
     "output_type": "stream",
     "text": [
      "[I 2025-02-21 21:38:23,691] Trial 6 finished with value: 0.7412148425603788 and parameters: {'iterations': 1997, 'depth': 5, 'learning_rate': 0.07985155992831598, 'l2_leaf_reg': 62.52181000710482}. Best is trial 6 with value: 0.7412148425603788.\n"
     ]
    },
    {
     "name": "stdout",
     "output_type": "stream",
     "text": [
      "Stopped by overfitting detector  (300 iterations wait)\n",
      "\n",
      "bestTest = 0.7412148426\n",
      "bestIteration = 592\n",
      "\n",
      "Shrink model to first 593 iterations.\n",
      "저장 완료\n",
      "0:\ttest: 0.7126516\tbest: 0.7126516 (0)\ttotal: 69.3ms\tremaining: 2m 13s\n",
      "300:\ttest: 0.7402127\tbest: 0.7406367 (155)\ttotal: 24s\tremaining: 2m 9s\n"
     ]
    },
    {
     "name": "stderr",
     "output_type": "stream",
     "text": [
      "[I 2025-02-21 21:39:00,721] Trial 7 finished with value: 0.7406367000227655 and parameters: {'iterations': 1927, 'depth': 7, 'learning_rate': 0.0941937211034094, 'l2_leaf_reg': 0.05654822767791934}. Best is trial 6 with value: 0.7412148425603788.\n"
     ]
    },
    {
     "name": "stdout",
     "output_type": "stream",
     "text": [
      "Stopped by overfitting detector  (300 iterations wait)\n",
      "\n",
      "bestTest = 0.7406367\n",
      "bestIteration = 155\n",
      "\n",
      "Shrink model to first 156 iterations.\n",
      "0:\ttest: 0.7126608\tbest: 0.7126608 (0)\ttotal: 66ms\tremaining: 2m 5s\n",
      "300:\ttest: 0.7406911\tbest: 0.7406963 (299)\ttotal: 23.1s\tremaining: 2m 2s\n",
      "600:\ttest: 0.7405032\tbest: 0.7408918 (452)\ttotal: 49.4s\tremaining: 1m 47s\n"
     ]
    },
    {
     "name": "stderr",
     "output_type": "stream",
     "text": [
      "[I 2025-02-21 21:40:03,899] Trial 8 finished with value: 0.7408918398680769 and parameters: {'iterations': 1904, 'depth': 7, 'learning_rate': 0.05155602859187331, 'l2_leaf_reg': 1.299974533316308}. Best is trial 6 with value: 0.7412148425603788.\n"
     ]
    },
    {
     "name": "stdout",
     "output_type": "stream",
     "text": [
      "Stopped by overfitting detector  (300 iterations wait)\n",
      "\n",
      "bestTest = 0.7408918399\n",
      "bestIteration = 452\n",
      "\n",
      "Shrink model to first 453 iterations.\n",
      "0:\ttest: 0.7096826\tbest: 0.7096826 (0)\ttotal: 72.1ms\tremaining: 3m 10s\n",
      "300:\ttest: 0.7401592\tbest: 0.7401601 (299)\ttotal: 20.4s\tremaining: 2m 38s\n",
      "600:\ttest: 0.7410061\tbest: 0.7411606 (470)\ttotal: 41.6s\tremaining: 2m 21s\n"
     ]
    },
    {
     "name": "stderr",
     "output_type": "stream",
     "text": [
      "[I 2025-02-21 21:40:58,433] Trial 9 finished with value: 0.7411605554593284 and parameters: {'iterations': 2639, 'depth': 6, 'learning_rate': 0.03968704290444751, 'l2_leaf_reg': 0.30557194377967184}. Best is trial 6 with value: 0.7412148425603788.\n"
     ]
    },
    {
     "name": "stdout",
     "output_type": "stream",
     "text": [
      "Stopped by overfitting detector  (300 iterations wait)\n",
      "\n",
      "bestTest = 0.7411605555\n",
      "bestIteration = 470\n",
      "\n",
      "Shrink model to first 471 iterations.\n",
      "0:\ttest: 0.7096801\tbest: 0.7096801 (0)\ttotal: 62.6ms\tremaining: 3m 4s\n",
      "300:\ttest: 0.7409185\tbest: 0.7409185 (300)\ttotal: 21.4s\tremaining: 3m 7s\n",
      "600:\ttest: 0.7414339\tbest: 0.7415364 (498)\ttotal: 42.7s\tremaining: 2m 46s\n"
     ]
    },
    {
     "name": "stderr",
     "output_type": "stream",
     "text": [
      "[I 2025-02-21 21:41:55,260] Trial 10 finished with value: 0.7415363840434073 and parameters: {'iterations': 2945, 'depth': 6, 'learning_rate': 0.07265276039199581, 'l2_leaf_reg': 97.18545559492516}. Best is trial 10 with value: 0.7415363840434073.\n"
     ]
    },
    {
     "name": "stdout",
     "output_type": "stream",
     "text": [
      "Stopped by overfitting detector  (300 iterations wait)\n",
      "\n",
      "bestTest = 0.741536384\n",
      "bestIteration = 498\n",
      "\n",
      "Shrink model to first 499 iterations.\n",
      "저장 완료\n",
      "0:\ttest: 0.7097053\tbest: 0.7097053 (0)\ttotal: 62.4ms\tremaining: 3m 6s\n",
      "300:\ttest: 0.7405844\tbest: 0.7406033 (290)\ttotal: 20.2s\tremaining: 3m\n",
      "600:\ttest: 0.7411199\tbest: 0.7411331 (593)\ttotal: 41.1s\tremaining: 2m 43s\n",
      "900:\ttest: 0.7412395\tbest: 0.7413265 (821)\ttotal: 1m 2s\tremaining: 2m 25s\n"
     ]
    },
    {
     "name": "stderr",
     "output_type": "stream",
     "text": [
      "[I 2025-02-21 21:43:13,642] Trial 11 finished with value: 0.7413264662427026 and parameters: {'iterations': 2994, 'depth': 6, 'learning_rate': 0.07131044509072976, 'l2_leaf_reg': 73.1213351392818}. Best is trial 10 with value: 0.7415363840434073.\n"
     ]
    },
    {
     "name": "stdout",
     "output_type": "stream",
     "text": [
      "Stopped by overfitting detector  (300 iterations wait)\n",
      "\n",
      "bestTest = 0.7413264662\n",
      "bestIteration = 821\n",
      "\n",
      "Shrink model to first 822 iterations.\n",
      "0:\ttest: 0.7097047\tbest: 0.7097047 (0)\ttotal: 60.6ms\tremaining: 2m 55s\n",
      "300:\ttest: 0.7411432\tbest: 0.7411452 (297)\ttotal: 20.2s\tremaining: 2m 54s\n",
      "600:\ttest: 0.7417803\tbest: 0.7418075 (572)\ttotal: 42.4s\tremaining: 2m 41s\n",
      "900:\ttest: 0.7418311\tbest: 0.7418644 (704)\ttotal: 1m 4s\tremaining: 2m 21s\n",
      "1200:\ttest: 0.7419140\tbest: 0.7419473 (1169)\ttotal: 1m 25s\tremaining: 2m 1s\n"
     ]
    },
    {
     "name": "stderr",
     "output_type": "stream",
     "text": [
      "[I 2025-02-21 21:44:59,492] Trial 12 finished with value: 0.7419473292981775 and parameters: {'iterations': 2897, 'depth': 6, 'learning_rate': 0.06853332055535903, 'l2_leaf_reg': 87.13438924619796}. Best is trial 12 with value: 0.7419473292981775.\n"
     ]
    },
    {
     "name": "stdout",
     "output_type": "stream",
     "text": [
      "Stopped by overfitting detector  (300 iterations wait)\n",
      "\n",
      "bestTest = 0.7419473293\n",
      "bestIteration = 1169\n",
      "\n",
      "Shrink model to first 1170 iterations.\n",
      "저장 완료\n",
      "0:\ttest: 0.7126708\tbest: 0.7126708 (0)\ttotal: 96ms\tremaining: 4m 45s\n",
      "300:\ttest: 0.7405791\tbest: 0.7405791 (300)\ttotal: 26.8s\tremaining: 3m 58s\n",
      "600:\ttest: 0.7405330\tbest: 0.7408797 (443)\ttotal: 56.1s\tremaining: 3m 41s\n"
     ]
    },
    {
     "name": "stderr",
     "output_type": "stream",
     "text": [
      "[I 2025-02-21 21:46:10,537] Trial 13 finished with value: 0.7408796816539593 and parameters: {'iterations': 2975, 'depth': 8, 'learning_rate': 0.0628933885949758, 'l2_leaf_reg': 7.828901342687942}. Best is trial 12 with value: 0.7419473292981775.\n"
     ]
    },
    {
     "name": "stdout",
     "output_type": "stream",
     "text": [
      "Stopped by overfitting detector  (300 iterations wait)\n",
      "\n",
      "bestTest = 0.7408796817\n",
      "bestIteration = 443\n",
      "\n",
      "Shrink model to first 444 iterations.\n",
      "0:\ttest: 0.7181905\tbest: 0.7181905 (0)\ttotal: 78.3ms\tremaining: 3m 35s\n",
      "300:\ttest: 0.7396999\tbest: 0.7396999 (300)\ttotal: 25.7s\tremaining: 3m 29s\n",
      "600:\ttest: 0.7402756\tbest: 0.7404333 (518)\ttotal: 53.8s\tremaining: 3m 12s\n"
     ]
    },
    {
     "name": "stderr",
     "output_type": "stream",
     "text": [
      "[I 2025-02-21 21:47:26,514] Trial 14 finished with value: 0.7404332901622759 and parameters: {'iterations': 2754, 'depth': 8, 'learning_rate': 0.030866060002221384, 'l2_leaf_reg': 0.02939703823210393}. Best is trial 12 with value: 0.7419473292981775.\n"
     ]
    },
    {
     "name": "stdout",
     "output_type": "stream",
     "text": [
      "Stopped by overfitting detector  (300 iterations wait)\n",
      "\n",
      "bestTest = 0.7404332902\n",
      "bestIteration = 518\n",
      "\n",
      "Shrink model to first 519 iterations.\n",
      "0:\ttest: 0.7097050\tbest: 0.7097050 (0)\ttotal: 65.1ms\tremaining: 1m 38s\n",
      "300:\ttest: 0.7407421\tbest: 0.7407514 (296)\ttotal: 20.7s\tremaining: 1m 23s\n",
      "600:\ttest: 0.7406826\tbest: 0.7408506 (437)\ttotal: 42.1s\tremaining: 1m 3s\n"
     ]
    },
    {
     "name": "stderr",
     "output_type": "stream",
     "text": [
      "[I 2025-02-21 21:48:18,827] Trial 15 finished with value: 0.7408506043835532 and parameters: {'iterations': 1513, 'depth': 6, 'learning_rate': 0.08625378621185843, 'l2_leaf_reg': 9.663069382488304}. Best is trial 12 with value: 0.7419473292981775.\n"
     ]
    },
    {
     "name": "stdout",
     "output_type": "stream",
     "text": [
      "Stopped by overfitting detector  (300 iterations wait)\n",
      "\n",
      "bestTest = 0.7408506044\n",
      "bestIteration = 437\n",
      "\n",
      "Shrink model to first 438 iterations.\n",
      "0:\ttest: 0.7181964\tbest: 0.7181964 (0)\ttotal: 79ms\tremaining: 3m 43s\n",
      "300:\ttest: 0.7408305\tbest: 0.7408389 (297)\ttotal: 27.1s\tremaining: 3m 46s\n",
      "600:\ttest: 0.7403778\tbest: 0.7408479 (318)\ttotal: 57.2s\tremaining: 3m 31s\n"
     ]
    },
    {
     "name": "stderr",
     "output_type": "stream",
     "text": [
      "[I 2025-02-21 21:49:17,931] Trial 16 finished with value: 0.7408478527041333 and parameters: {'iterations': 2824, 'depth': 8, 'learning_rate': 0.061662991475729484, 'l2_leaf_reg': 1.8341589839267998}. Best is trial 12 with value: 0.7419473292981775.\n"
     ]
    },
    {
     "name": "stdout",
     "output_type": "stream",
     "text": [
      "Stopped by overfitting detector  (300 iterations wait)\n",
      "\n",
      "bestTest = 0.7408478527\n",
      "bestIteration = 318\n",
      "\n",
      "Shrink model to first 319 iterations.\n",
      "0:\ttest: 0.6962144\tbest: 0.6962144 (0)\ttotal: 53.7ms\tremaining: 2m 16s\n",
      "300:\ttest: 0.7405460\tbest: 0.7405460 (300)\ttotal: 17.5s\tremaining: 2m 10s\n",
      "600:\ttest: 0.7411116\tbest: 0.7411116 (600)\ttotal: 35.7s\tremaining: 1m 55s\n",
      "900:\ttest: 0.7412044\tbest: 0.7412244 (881)\ttotal: 54.2s\tremaining: 1m 38s\n",
      "1200:\ttest: 0.7412922\tbest: 0.7413022 (1184)\ttotal: 1m 12s\tremaining: 1m 21s\n",
      "1500:\ttest: 0.7412923\tbest: 0.7413411 (1346)\ttotal: 1m 31s\tremaining: 1m 3s\n"
     ]
    },
    {
     "name": "stderr",
     "output_type": "stream",
     "text": [
      "[I 2025-02-21 21:50:58,292] Trial 17 finished with value: 0.7413410545113728 and parameters: {'iterations': 2546, 'depth': 5, 'learning_rate': 0.0774911016692127, 'l2_leaf_reg': 80.62911323694684}. Best is trial 12 with value: 0.7419473292981775.\n"
     ]
    },
    {
     "name": "stdout",
     "output_type": "stream",
     "text": [
      "Stopped by overfitting detector  (300 iterations wait)\n",
      "\n",
      "bestTest = 0.7413410545\n",
      "bestIteration = 1346\n",
      "\n",
      "Shrink model to first 1347 iterations.\n",
      "0:\ttest: 0.7126516\tbest: 0.7126516 (0)\ttotal: 73.6ms\tremaining: 3m 27s\n",
      "300:\ttest: 0.7403266\tbest: 0.7404758 (280)\ttotal: 24.8s\tremaining: 3m 27s\n"
     ]
    },
    {
     "name": "stderr",
     "output_type": "stream",
     "text": [
      "[I 2025-02-21 21:51:48,136] Trial 18 finished with value: 0.7404758399410103 and parameters: {'iterations': 2815, 'depth': 7, 'learning_rate': 0.05970016430294879, 'l2_leaf_reg': 0.010016909578442512}. Best is trial 12 with value: 0.7419473292981775.\n"
     ]
    },
    {
     "name": "stdout",
     "output_type": "stream",
     "text": [
      "Stopped by overfitting detector  (300 iterations wait)\n",
      "\n",
      "bestTest = 0.7404758399\n",
      "bestIteration = 280\n",
      "\n",
      "Shrink model to first 281 iterations.\n",
      "0:\ttest: 0.6962156\tbest: 0.6962156 (0)\ttotal: 54.9ms\tremaining: 2m 15s\n",
      "300:\ttest: 0.7390692\tbest: 0.7390715 (298)\ttotal: 18s\tremaining: 2m 8s\n",
      "600:\ttest: 0.7407096\tbest: 0.7407156 (599)\ttotal: 37s\tremaining: 1m 54s\n",
      "900:\ttest: 0.7410902\tbest: 0.7411116 (878)\ttotal: 55.7s\tremaining: 1m 36s\n",
      "1200:\ttest: 0.7409903\tbest: 0.7411384 (1030)\ttotal: 1m 14s\tremaining: 1m 17s\n"
     ]
    },
    {
     "name": "stderr",
     "output_type": "stream",
     "text": [
      "[I 2025-02-21 21:53:10,590] Trial 19 finished with value: 0.7411383633434879 and parameters: {'iterations': 2460, 'depth': 5, 'learning_rate': 0.032760769261710856, 'l2_leaf_reg': 0.31055845032241847}. Best is trial 12 with value: 0.7419473292981775.\n"
     ]
    },
    {
     "name": "stdout",
     "output_type": "stream",
     "text": [
      "Stopped by overfitting detector  (300 iterations wait)\n",
      "\n",
      "bestTest = 0.7411383633\n",
      "bestIteration = 1030\n",
      "\n",
      "Shrink model to first 1031 iterations.\n",
      "0:\ttest: 0.7097050\tbest: 0.7097050 (0)\ttotal: 63.1ms\tremaining: 2m 51s\n",
      "300:\ttest: 0.7408404\tbest: 0.7408575 (295)\ttotal: 21.2s\tremaining: 2m 50s\n",
      "600:\ttest: 0.7408149\tbest: 0.7409364 (355)\ttotal: 43s\tremaining: 2m 31s\n"
     ]
    },
    {
     "name": "stderr",
     "output_type": "stream",
     "text": [
      "[I 2025-02-21 21:53:58,116] Trial 20 finished with value: 0.7409364385163361 and parameters: {'iterations': 2723, 'depth': 6, 'learning_rate': 0.08459797786417986, 'l2_leaf_reg': 20.419787539717326}. Best is trial 12 with value: 0.7419473292981775.\n"
     ]
    },
    {
     "name": "stdout",
     "output_type": "stream",
     "text": [
      "Stopped by overfitting detector  (300 iterations wait)\n",
      "\n",
      "bestTest = 0.7409364385\n",
      "bestIteration = 355\n",
      "\n",
      "Shrink model to first 356 iterations.\n",
      "0:\ttest: 0.6962144\tbest: 0.6962144 (0)\ttotal: 66.9ms\tremaining: 2m 53s\n",
      "300:\ttest: 0.7406370\tbest: 0.7406392 (299)\ttotal: 18.1s\tremaining: 2m 17s\n",
      "600:\ttest: 0.7410517\tbest: 0.7410517 (600)\ttotal: 35.8s\tremaining: 1m 58s\n",
      "900:\ttest: 0.7412321\tbest: 0.7412321 (900)\ttotal: 53.8s\tremaining: 1m 41s\n",
      "1200:\ttest: 0.7412549\tbest: 0.7412927 (1078)\ttotal: 1m 12s\tremaining: 1m 24s\n",
      "1500:\ttest: 0.7411726\tbest: 0.7413012 (1316)\ttotal: 1m 31s\tremaining: 1m 6s\n"
     ]
    },
    {
     "name": "stderr",
     "output_type": "stream",
     "text": [
      "[I 2025-02-21 21:55:37,007] Trial 21 finished with value: 0.741301188910543 and parameters: {'iterations': 2596, 'depth': 5, 'learning_rate': 0.07744540398025425, 'l2_leaf_reg': 89.64660875312273}. Best is trial 12 with value: 0.7419473292981775.\n"
     ]
    },
    {
     "name": "stdout",
     "output_type": "stream",
     "text": [
      "Stopped by overfitting detector  (300 iterations wait)\n",
      "\n",
      "bestTest = 0.7413011889\n",
      "bestIteration = 1316\n",
      "\n",
      "Shrink model to first 1317 iterations.\n",
      "0:\ttest: 0.6962153\tbest: 0.6962153 (0)\ttotal: 52ms\tremaining: 2m 30s\n",
      "300:\ttest: 0.7406852\tbest: 0.7406894 (296)\ttotal: 17.5s\tremaining: 2m 31s\n",
      "600:\ttest: 0.7407936\tbest: 0.7409956 (482)\ttotal: 35.5s\tremaining: 2m 15s\n"
     ]
    },
    {
     "name": "stderr",
     "output_type": "stream",
     "text": [
      "[I 2025-02-21 21:56:23,960] Trial 22 finished with value: 0.7409956413159748 and parameters: {'iterations': 2901, 'depth': 5, 'learning_rate': 0.07182943923727259, 'l2_leaf_reg': 2.2815014894024164}. Best is trial 12 with value: 0.7419473292981775.\n"
     ]
    },
    {
     "name": "stdout",
     "output_type": "stream",
     "text": [
      "Stopped by overfitting detector  (300 iterations wait)\n",
      "\n",
      "bestTest = 0.7409956413\n",
      "bestIteration = 482\n",
      "\n",
      "Shrink model to first 483 iterations.\n",
      "0:\ttest: 0.7097050\tbest: 0.7097050 (0)\ttotal: 60.1ms\tremaining: 2m 41s\n",
      "300:\ttest: 0.7407147\tbest: 0.7408213 (270)\ttotal: 21.2s\tremaining: 2m 48s\n"
     ]
    },
    {
     "name": "stderr",
     "output_type": "stream",
     "text": [
      "[I 2025-02-21 21:57:05,478] Trial 23 finished with value: 0.7408212650484405 and parameters: {'iterations': 2684, 'depth': 6, 'learning_rate': 0.09983741797136365, 'l2_leaf_reg': 24.246184155884688}. Best is trial 12 with value: 0.7419473292981775.\n"
     ]
    },
    {
     "name": "stdout",
     "output_type": "stream",
     "text": [
      "Stopped by overfitting detector  (300 iterations wait)\n",
      "\n",
      "bestTest = 0.740821265\n",
      "bestIteration = 270\n",
      "\n",
      "Shrink model to first 271 iterations.\n",
      "0:\ttest: 0.7126267\tbest: 0.7126267 (0)\ttotal: 66.6ms\tremaining: 3m 10s\n",
      "300:\ttest: 0.7407499\tbest: 0.7407603 (296)\ttotal: 23.5s\tremaining: 3m 20s\n",
      "600:\ttest: 0.7411031\tbest: 0.7411125 (559)\ttotal: 48.7s\tremaining: 3m 3s\n",
      "900:\ttest: 0.7413171\tbest: 0.7413594 (892)\ttotal: 1m 14s\tremaining: 2m 41s\n"
     ]
    },
    {
     "name": "stderr",
     "output_type": "stream",
     "text": [
      "[I 2025-02-21 21:58:45,814] Trial 24 finished with value: 0.7413593712460969 and parameters: {'iterations': 2861, 'depth': 7, 'learning_rate': 0.0634339002537276, 'l2_leaf_reg': 36.88308849820684}. Best is trial 12 with value: 0.7419473292981775.\n"
     ]
    },
    {
     "name": "stdout",
     "output_type": "stream",
     "text": [
      "Stopped by overfitting detector  (300 iterations wait)\n",
      "\n",
      "bestTest = 0.7413593712\n",
      "bestIteration = 892\n",
      "\n",
      "Shrink model to first 893 iterations.\n",
      "0:\ttest: 0.7126294\tbest: 0.7126294 (0)\ttotal: 95.6ms\tremaining: 4m 37s\n",
      "300:\ttest: 0.7408396\tbest: 0.7408396 (300)\ttotal: 25.9s\tremaining: 3m 43s\n",
      "600:\ttest: 0.7413352\tbest: 0.7414315 (544)\ttotal: 54.6s\tremaining: 3m 29s\n"
     ]
    },
    {
     "name": "stderr",
     "output_type": "stream",
     "text": [
      "[I 2025-02-21 22:00:05,017] Trial 25 finished with value: 0.7414314668351674 and parameters: {'iterations': 2903, 'depth': 8, 'learning_rate': 0.05439067859873772, 'l2_leaf_reg': 24.803606523449552}. Best is trial 12 with value: 0.7419473292981775.\n"
     ]
    },
    {
     "name": "stdout",
     "output_type": "stream",
     "text": [
      "Stopped by overfitting detector  (300 iterations wait)\n",
      "\n",
      "bestTest = 0.7414314668\n",
      "bestIteration = 544\n",
      "\n",
      "Shrink model to first 545 iterations.\n",
      "0:\ttest: 0.7182085\tbest: 0.7182085 (0)\ttotal: 76.8ms\tremaining: 3m 49s\n",
      "300:\ttest: 0.7409072\tbest: 0.7409126 (291)\ttotal: 26.8s\tremaining: 3m 59s\n",
      "600:\ttest: 0.7409495\tbest: 0.7412784 (505)\ttotal: 56.4s\tremaining: 3m 44s\n"
     ]
    },
    {
     "name": "stderr",
     "output_type": "stream",
     "text": [
      "[I 2025-02-21 22:01:21,989] Trial 26 finished with value: 0.741278448841225 and parameters: {'iterations': 2991, 'depth': 8, 'learning_rate': 0.05361821486127472, 'l2_leaf_reg': 4.342397790956773}. Best is trial 12 with value: 0.7419473292981775.\n"
     ]
    },
    {
     "name": "stdout",
     "output_type": "stream",
     "text": [
      "Stopped by overfitting detector  (300 iterations wait)\n",
      "\n",
      "bestTest = 0.7412784488\n",
      "bestIteration = 505\n",
      "\n",
      "Shrink model to first 506 iterations.\n",
      "0:\ttest: 0.7179652\tbest: 0.7179652 (0)\ttotal: 87.9ms\tremaining: 4m 13s\n",
      "300:\ttest: 0.7399095\tbest: 0.7399423 (255)\ttotal: 30.1s\tremaining: 4m 17s\n",
      "600:\ttest: 0.7392041\tbest: 0.7400509 (348)\ttotal: 1m 4s\tremaining: 4m 5s\n"
     ]
    },
    {
     "name": "stderr",
     "output_type": "stream",
     "text": [
      "[I 2025-02-21 22:02:32,200] Trial 27 finished with value: 0.7400509298139176 and parameters: {'iterations': 2884, 'depth': 9, 'learning_rate': 0.044604437558391635, 'l2_leaf_reg': 0.45255823702076187}. Best is trial 12 with value: 0.7419473292981775.\n"
     ]
    },
    {
     "name": "stdout",
     "output_type": "stream",
     "text": [
      "Stopped by overfitting detector  (300 iterations wait)\n",
      "\n",
      "bestTest = 0.7400509298\n",
      "bestIteration = 348\n",
      "\n",
      "Shrink model to first 349 iterations.\n",
      "0:\ttest: 0.7124200\tbest: 0.7124200 (0)\ttotal: 87.6ms\tremaining: 4m 1s\n",
      "300:\ttest: 0.7409200\tbest: 0.7409231 (279)\ttotal: 29.8s\tremaining: 4m 3s\n",
      "600:\ttest: 0.7409041\tbest: 0.7410345 (359)\ttotal: 1m 2s\tremaining: 3m 44s\n"
     ]
    },
    {
     "name": "stderr",
     "output_type": "stream",
     "text": [
      "[I 2025-02-21 22:03:41,352] Trial 28 finished with value: 0.7410344705700104 and parameters: {'iterations': 2758, 'depth': 9, 'learning_rate': 0.054998305185314914, 'l2_leaf_reg': 20.474793951514382}. Best is trial 12 with value: 0.7419473292981775.\n"
     ]
    },
    {
     "name": "stdout",
     "output_type": "stream",
     "text": [
      "Stopped by overfitting detector  (300 iterations wait)\n",
      "\n",
      "bestTest = 0.7410344706\n",
      "bestIteration = 359\n",
      "\n",
      "Shrink model to first 360 iterations.\n",
      "0:\ttest: 0.7179852\tbest: 0.7179852 (0)\ttotal: 88.1ms\tremaining: 3m 30s\n",
      "300:\ttest: 0.7399097\tbest: 0.7399097 (300)\ttotal: 29.6s\tremaining: 3m 25s\n",
      "600:\ttest: 0.7405723\tbest: 0.7406129 (579)\ttotal: 59.4s\tremaining: 2m 57s\n",
      "900:\ttest: 0.7409121\tbest: 0.7409339 (862)\ttotal: 1m 33s\tremaining: 2m 34s\n",
      "1200:\ttest: 0.7407890\tbest: 0.7409907 (1069)\ttotal: 2m 6s\tremaining: 2m 5s\n"
     ]
    },
    {
     "name": "stderr",
     "output_type": "stream",
     "text": [
      "[I 2025-02-21 22:06:07,183] Trial 29 finished with value: 0.7409906938519675 and parameters: {'iterations': 2392, 'depth': 9, 'learning_rate': 0.023174536645179013, 'l2_leaf_reg': 4.438928364247818}. Best is trial 12 with value: 0.7419473292981775.\n"
     ]
    },
    {
     "name": "stdout",
     "output_type": "stream",
     "text": [
      "Stopped by overfitting detector  (300 iterations wait)\n",
      "\n",
      "bestTest = 0.7409906939\n",
      "bestIteration = 1069\n",
      "\n",
      "Shrink model to first 1070 iterations.\n",
      "0:\ttest: 0.7126685\tbest: 0.7126685 (0)\ttotal: 69.9ms\tremaining: 2m 40s\n",
      "300:\ttest: 0.7410246\tbest: 0.7410461 (292)\ttotal: 23.3s\tremaining: 2m 34s\n",
      "600:\ttest: 0.7412868\tbest: 0.7413864 (594)\ttotal: 48.1s\tremaining: 2m 15s\n"
     ]
    },
    {
     "name": "stderr",
     "output_type": "stream",
     "text": [
      "[I 2025-02-21 22:07:20,720] Trial 30 finished with value: 0.7413863519988497 and parameters: {'iterations': 2291, 'depth': 7, 'learning_rate': 0.06845494143715, 'l2_leaf_reg': 13.45496577396606}. Best is trial 12 with value: 0.7419473292981775.\n"
     ]
    },
    {
     "name": "stdout",
     "output_type": "stream",
     "text": [
      "Stopped by overfitting detector  (300 iterations wait)\n",
      "\n",
      "bestTest = 0.741386352\n",
      "bestIteration = 594\n",
      "\n",
      "Shrink model to first 595 iterations.\n",
      "0:\ttest: 0.7126294\tbest: 0.7126294 (0)\ttotal: 69.3ms\tremaining: 2m 37s\n",
      "300:\ttest: 0.7412379\tbest: 0.7412379 (300)\ttotal: 22.7s\tremaining: 2m 28s\n",
      "600:\ttest: 0.7416348\tbest: 0.7416916 (540)\ttotal: 47.2s\tremaining: 2m 11s\n"
     ]
    },
    {
     "name": "stderr",
     "output_type": "stream",
     "text": [
      "[I 2025-02-21 22:08:28,072] Trial 31 finished with value: 0.7416915541444862 and parameters: {'iterations': 2268, 'depth': 7, 'learning_rate': 0.06792247328915654, 'l2_leaf_reg': 24.36196292994454}. Best is trial 12 with value: 0.7419473292981775.\n"
     ]
    },
    {
     "name": "stdout",
     "output_type": "stream",
     "text": [
      "Stopped by overfitting detector  (300 iterations wait)\n",
      "\n",
      "bestTest = 0.7416915541\n",
      "bestIteration = 540\n",
      "\n",
      "Shrink model to first 541 iterations.\n",
      "0:\ttest: 0.7097053\tbest: 0.7097053 (0)\ttotal: 59.6ms\tremaining: 2m 9s\n",
      "300:\ttest: 0.7409886\tbest: 0.7409976 (298)\ttotal: 19.8s\tremaining: 2m 3s\n",
      "600:\ttest: 0.7416441\tbest: 0.7416682 (583)\ttotal: 41.1s\tremaining: 1m 47s\n",
      "900:\ttest: 0.7417734\tbest: 0.7417832 (896)\ttotal: 1m 2s\tremaining: 1m 28s\n"
     ]
    },
    {
     "name": "stderr",
     "output_type": "stream",
     "text": [
      "[I 2025-02-21 22:09:52,271] Trial 32 finished with value: 0.7417832013489439 and parameters: {'iterations': 2171, 'depth': 6, 'learning_rate': 0.06664214223634575, 'l2_leaf_reg': 31.781786477153968}. Best is trial 12 with value: 0.7419473292981775.\n"
     ]
    },
    {
     "name": "stdout",
     "output_type": "stream",
     "text": [
      "Stopped by overfitting detector  (300 iterations wait)\n",
      "\n",
      "bestTest = 0.7417832013\n",
      "bestIteration = 896\n",
      "\n",
      "Shrink model to first 897 iterations.\n",
      "0:\ttest: 0.7097053\tbest: 0.7097053 (0)\ttotal: 62.2ms\tremaining: 2m 15s\n",
      "300:\ttest: 0.7412324\tbest: 0.7412324 (300)\ttotal: 20.4s\tremaining: 2m 6s\n",
      "600:\ttest: 0.7415967\tbest: 0.7415995 (595)\ttotal: 41.6s\tremaining: 1m 48s\n",
      "900:\ttest: 0.7415394\tbest: 0.7416687 (847)\ttotal: 1m 3s\tremaining: 1m 29s\n",
      "1200:\ttest: 0.7416842\tbest: 0.7417499 (1158)\ttotal: 1m 25s\tremaining: 1m 9s\n"
     ]
    },
    {
     "name": "stderr",
     "output_type": "stream",
     "text": [
      "[I 2025-02-21 22:11:36,621] Trial 33 finished with value: 0.7417499389845861 and parameters: {'iterations': 2172, 'depth': 6, 'learning_rate': 0.08276021446119664, 'l2_leaf_reg': 41.20006472619695}. Best is trial 12 with value: 0.7419473292981775.\n"
     ]
    },
    {
     "name": "stdout",
     "output_type": "stream",
     "text": [
      "Stopped by overfitting detector  (300 iterations wait)\n",
      "\n",
      "bestTest = 0.741749939\n",
      "bestIteration = 1158\n",
      "\n",
      "Shrink model to first 1159 iterations.\n",
      "0:\ttest: 0.7097034\tbest: 0.7097034 (0)\ttotal: 61.6ms\tremaining: 2m 14s\n",
      "300:\ttest: 0.7407758\tbest: 0.7407996 (268)\ttotal: 20.5s\tremaining: 2m 9s\n",
      "600:\ttest: 0.7406367\tbest: 0.7410676 (404)\ttotal: 43.1s\tremaining: 1m 54s\n"
     ]
    },
    {
     "name": "stderr",
     "output_type": "stream",
     "text": [
      "[I 2025-02-21 22:12:27,561] Trial 34 finished with value: 0.7410675661659185 and parameters: {'iterations': 2192, 'depth': 6, 'learning_rate': 0.08099395505829877, 'l2_leaf_reg': 5.355032994485218}. Best is trial 12 with value: 0.7419473292981775.\n"
     ]
    },
    {
     "name": "stdout",
     "output_type": "stream",
     "text": [
      "Stopped by overfitting detector  (300 iterations wait)\n",
      "\n",
      "bestTest = 0.7410675662\n",
      "bestIteration = 404\n",
      "\n",
      "Shrink model to first 405 iterations.\n",
      "0:\ttest: 0.7126320\tbest: 0.7126320 (0)\ttotal: 71.6ms\tremaining: 2m 33s\n",
      "300:\ttest: 0.7412218\tbest: 0.7413200 (279)\ttotal: 23.4s\tremaining: 2m 23s\n"
     ]
    },
    {
     "name": "stderr",
     "output_type": "stream",
     "text": [
      "[I 2025-02-21 22:13:14,309] Trial 35 finished with value: 0.7413199821265517 and parameters: {'iterations': 2145, 'depth': 7, 'learning_rate': 0.08971532944062331, 'l2_leaf_reg': 41.09509812202617}. Best is trial 12 with value: 0.7419473292981775.\n"
     ]
    },
    {
     "name": "stdout",
     "output_type": "stream",
     "text": [
      "Stopped by overfitting detector  (300 iterations wait)\n",
      "\n",
      "bestTest = 0.7413199821\n",
      "bestIteration = 279\n",
      "\n",
      "Shrink model to first 280 iterations.\n",
      "0:\ttest: 0.7096947\tbest: 0.7096947 (0)\ttotal: 62.1ms\tremaining: 1m 51s\n",
      "300:\ttest: 0.7406804\tbest: 0.7406804 (300)\ttotal: 20.7s\tremaining: 1m 43s\n",
      "600:\ttest: 0.7405744\tbest: 0.7408030 (403)\ttotal: 42.6s\tremaining: 1m 24s\n"
     ]
    },
    {
     "name": "stderr",
     "output_type": "stream",
     "text": [
      "[I 2025-02-21 22:14:04,878] Trial 36 finished with value: 0.7408029800791354 and parameters: {'iterations': 1798, 'depth': 6, 'learning_rate': 0.06669985198732055, 'l2_leaf_reg': 1.1449658944976202}. Best is trial 12 with value: 0.7419473292981775.\n"
     ]
    },
    {
     "name": "stdout",
     "output_type": "stream",
     "text": [
      "Stopped by overfitting detector  (300 iterations wait)\n",
      "\n",
      "bestTest = 0.7408029801\n",
      "bestIteration = 403\n",
      "\n",
      "Shrink model to first 404 iterations.\n",
      "0:\ttest: 0.6962147\tbest: 0.6962147 (0)\ttotal: 54.6ms\tremaining: 2m 2s\n",
      "300:\ttest: 0.7408395\tbest: 0.7408395 (300)\ttotal: 17.8s\tremaining: 1m 55s\n",
      "600:\ttest: 0.7410690\tbest: 0.7411694 (452)\ttotal: 36.1s\tremaining: 1m 39s\n"
     ]
    },
    {
     "name": "stderr",
     "output_type": "stream",
     "text": [
      "[I 2025-02-21 22:14:50,523] Trial 37 finished with value: 0.7411693663924201 and parameters: {'iterations': 2253, 'depth': 5, 'learning_rate': 0.07417884959553789, 'l2_leaf_reg': 12.447848838228719}. Best is trial 12 with value: 0.7419473292981775.\n"
     ]
    },
    {
     "name": "stdout",
     "output_type": "stream",
     "text": [
      "Stopped by overfitting detector  (300 iterations wait)\n",
      "\n",
      "bestTest = 0.7411693664\n",
      "bestIteration = 452\n",
      "\n",
      "Shrink model to first 453 iterations.\n",
      "0:\ttest: 0.7126322\tbest: 0.7126322 (0)\ttotal: 69ms\tremaining: 2m 45s\n",
      "300:\ttest: 0.7409875\tbest: 0.7410542 (259)\ttotal: 23.3s\tremaining: 2m 42s\n",
      "600:\ttest: 0.7413183\tbest: 0.7414059 (571)\ttotal: 48.3s\tremaining: 2m 24s\n",
      "900:\ttest: 0.7412959\tbest: 0.7414953 (694)\ttotal: 1m 13s\tremaining: 2m 1s\n"
     ]
    },
    {
     "name": "stderr",
     "output_type": "stream",
     "text": [
      "[I 2025-02-21 22:16:12,323] Trial 38 finished with value: 0.7414953034153011 and parameters: {'iterations': 2395, 'depth': 7, 'learning_rate': 0.08268523317959117, 'l2_leaf_reg': 37.621055271832695}. Best is trial 12 with value: 0.7419473292981775.\n"
     ]
    },
    {
     "name": "stdout",
     "output_type": "stream",
     "text": [
      "Stopped by overfitting detector  (300 iterations wait)\n",
      "\n",
      "bestTest = 0.7414953034\n",
      "bestIteration = 694\n",
      "\n",
      "Shrink model to first 695 iterations.\n",
      "0:\ttest: 0.6946616\tbest: 0.6946616 (0)\ttotal: 47.5ms\tremaining: 1m 36s\n",
      "300:\ttest: 0.7400013\tbest: 0.7400013 (300)\ttotal: 14.4s\tremaining: 1m 23s\n",
      "600:\ttest: 0.7407767\tbest: 0.7408100 (583)\ttotal: 29.2s\tremaining: 1m 9s\n",
      "900:\ttest: 0.7408857\tbest: 0.7409472 (832)\ttotal: 44.1s\tremaining: 55.9s\n"
     ]
    },
    {
     "name": "stderr",
     "output_type": "stream",
     "text": [
      "[I 2025-02-21 22:17:08,317] Trial 39 finished with value: 0.7409471911106635 and parameters: {'iterations': 2043, 'depth': 4, 'learning_rate': 0.058334609809085614, 'l2_leaf_reg': 3.3852956662506277}. Best is trial 12 with value: 0.7419473292981775.\n",
      "[I 2025-02-21 22:17:08,321] A new study created in memory with name: no-name-7cf696bc-5929-4e78-a89c-568a5f2f2758\n"
     ]
    },
    {
     "name": "stdout",
     "output_type": "stream",
     "text": [
      "Stopped by overfitting detector  (300 iterations wait)\n",
      "\n",
      "bestTest = 0.7409471911\n",
      "bestIteration = 832\n",
      "\n",
      "Shrink model to first 833 iterations.\n"
     ]
    },
    {
     "name": "stderr",
     "output_type": "stream",
     "text": [
      "[I 2025-02-21 22:17:31,721] Trial 0 finished with value: 0.7307881376076998 and parameters: {'num_iterations': 2366, 'objective': 'binary', 'metric': 'auc', 'verbose': -1, 'learning_rate': 0.0652646236447618, 'n_estimators': 236, 'min_child_samples': 45, 'subsample': 0.7, 'colsample_bytree': 0.5}. Best is trial 0 with value: 0.7307881376076998.\n",
      "[I 2025-02-21 22:17:48,785] Trial 1 finished with value: 0.7406597934823698 and parameters: {'num_iterations': 1510, 'objective': 'binary', 'metric': 'auc', 'verbose': -1, 'learning_rate': 0.005231880959249543, 'n_estimators': 1411, 'min_child_samples': 10, 'subsample': 1.0, 'colsample_bytree': 0.5}. Best is trial 1 with value: 0.7406597934823698.\n",
      "[I 2025-02-21 22:18:07,987] Trial 2 finished with value: 0.740731916866182 and parameters: {'num_iterations': 2334, 'objective': 'binary', 'metric': 'auc', 'verbose': -1, 'learning_rate': 0.006578527777128852, 'n_estimators': 931, 'min_child_samples': 15, 'subsample': 0.5, 'colsample_bytree': 1.0}. Best is trial 2 with value: 0.740731916866182.\n",
      "[I 2025-02-21 22:18:24,015] Trial 3 finished with value: 0.7407105188858162 and parameters: {'num_iterations': 1620, 'objective': 'binary', 'metric': 'auc', 'verbose': -1, 'learning_rate': 0.0058823249237283685, 'n_estimators': 837, 'min_child_samples': 10, 'subsample': 0.9, 'colsample_bytree': 0.6}. Best is trial 2 with value: 0.740731916866182.\n",
      "[I 2025-02-21 22:18:40,116] Trial 4 finished with value: 0.7404833881986974 and parameters: {'num_iterations': 1997, 'objective': 'binary', 'metric': 'auc', 'verbose': -1, 'learning_rate': 0.010907507425244923, 'n_estimators': 1597, 'min_child_samples': 50, 'subsample': 0.6, 'colsample_bytree': 0.8}. Best is trial 2 with value: 0.740731916866182.\n",
      "[I 2025-02-21 22:19:02,298] Trial 5 finished with value: 0.737201170692281 and parameters: {'num_iterations': 2909, 'objective': 'binary', 'metric': 'auc', 'verbose': -1, 'learning_rate': 0.019760591962733942, 'n_estimators': 612, 'min_child_samples': 30, 'subsample': 0.7, 'colsample_bytree': 0.9}. Best is trial 2 with value: 0.740731916866182.\n",
      "[I 2025-02-21 22:19:22,716] Trial 6 finished with value: 0.7384220308936329 and parameters: {'num_iterations': 2639, 'objective': 'binary', 'metric': 'auc', 'verbose': -1, 'learning_rate': 0.017862094446750985, 'n_estimators': 794, 'min_child_samples': 35, 'subsample': 1.0, 'colsample_bytree': 0.8}. Best is trial 2 with value: 0.740731916866182.\n",
      "[I 2025-02-21 22:19:39,286] Trial 7 finished with value: 0.7402155540978228 and parameters: {'num_iterations': 1580, 'objective': 'binary', 'metric': 'auc', 'verbose': -1, 'learning_rate': 0.01776722177611332, 'n_estimators': 529, 'min_child_samples': 25, 'subsample': 0.8, 'colsample_bytree': 0.5}. Best is trial 2 with value: 0.740731916866182.\n",
      "[I 2025-02-21 22:19:56,473] Trial 8 finished with value: 0.7373127308437668 and parameters: {'num_iterations': 1911, 'objective': 'binary', 'metric': 'auc', 'verbose': -1, 'learning_rate': 0.0304747553332844, 'n_estimators': 1328, 'min_child_samples': 10, 'subsample': 0.7, 'colsample_bytree': 0.6}. Best is trial 2 with value: 0.740731916866182.\n",
      "[I 2025-02-21 22:20:24,136] Trial 9 finished with value: 0.7366546665119796 and parameters: {'num_iterations': 2739, 'objective': 'binary', 'metric': 'auc', 'verbose': -1, 'learning_rate': 0.02691531614176271, 'n_estimators': 1438, 'min_child_samples': 20, 'subsample': 0.6, 'colsample_bytree': 0.5}. Best is trial 2 with value: 0.740731916866182.\n",
      "[I 2025-02-21 22:20:41,568] Trial 10 finished with value: 0.7272786464697791 and parameters: {'num_iterations': 2334, 'objective': 'binary', 'metric': 'auc', 'verbose': -1, 'learning_rate': 0.08223556891145911, 'n_estimators': 1917, 'min_child_samples': 20, 'subsample': 0.5, 'colsample_bytree': 1.0}. Best is trial 2 with value: 0.740731916866182.\n",
      "[I 2025-02-21 22:20:58,854] Trial 11 finished with value: 0.7407629159444369 and parameters: {'num_iterations': 2009, 'objective': 'binary', 'metric': 'auc', 'verbose': -1, 'learning_rate': 0.005637168073461897, 'n_estimators': 1002, 'min_child_samples': 10, 'subsample': 0.9, 'colsample_bytree': 0.7}. Best is trial 11 with value: 0.7407629159444369.\n",
      "[I 2025-02-21 22:21:16,204] Trial 12 finished with value: 0.7405582116431235 and parameters: {'num_iterations': 2082, 'objective': 'binary', 'metric': 'auc', 'verbose': -1, 'learning_rate': 0.009011302975108652, 'n_estimators': 1042, 'min_child_samples': 15, 'subsample': 0.9, 'colsample_bytree': 0.7}. Best is trial 11 with value: 0.7407629159444369.\n",
      "[I 2025-02-21 22:21:36,136] Trial 13 finished with value: 0.7402883802915301 and parameters: {'num_iterations': 2482, 'objective': 'binary', 'metric': 'auc', 'verbose': -1, 'learning_rate': 0.008762950699786708, 'n_estimators': 1090, 'min_child_samples': 20, 'subsample': 0.5, 'colsample_bytree': 1.0}. Best is trial 11 with value: 0.7407629159444369.\n",
      "[I 2025-02-21 22:21:54,321] Trial 14 finished with value: 0.7408202962031613 and parameters: {'num_iterations': 2158, 'objective': 'binary', 'metric': 'auc', 'verbose': -1, 'learning_rate': 0.006937488043229892, 'n_estimators': 1086, 'min_child_samples': 35, 'subsample': 0.9, 'colsample_bytree': 0.7}. Best is trial 14 with value: 0.7408202962031613.\n",
      "[I 2025-02-21 22:22:09,440] Trial 15 finished with value: 0.7402803118751072 and parameters: {'num_iterations': 1852, 'objective': 'binary', 'metric': 'auc', 'verbose': -1, 'learning_rate': 0.012516213638948432, 'n_estimators': 1200, 'min_child_samples': 40, 'subsample': 0.9, 'colsample_bytree': 0.7}. Best is trial 14 with value: 0.7408202962031613.\n",
      "[I 2025-02-21 22:22:51,867] Trial 16 finished with value: 0.7370039709712036 and parameters: {'num_iterations': 1772, 'objective': 'binary', 'metric': 'auc', 'verbose': -1, 'learning_rate': 0.03901437770924474, 'n_estimators': 1710, 'min_child_samples': 35, 'subsample': 0.8, 'colsample_bytree': 0.7}. Best is trial 14 with value: 0.7408202962031613.\n",
      "[I 2025-02-21 22:23:16,197] Trial 17 finished with value: 0.7410396245092411 and parameters: {'num_iterations': 2140, 'objective': 'binary', 'metric': 'auc', 'verbose': -1, 'learning_rate': 0.007238111112271453, 'n_estimators': 354, 'min_child_samples': 30, 'subsample': 1.0, 'colsample_bytree': 0.6}. Best is trial 17 with value: 0.7410396245092411.\n",
      "[I 2025-02-21 22:23:36,151] Trial 18 finished with value: 0.7398948663104297 and parameters: {'num_iterations': 2177, 'objective': 'binary', 'metric': 'auc', 'verbose': -1, 'learning_rate': 0.013487255548504875, 'n_estimators': 127, 'min_child_samples': 30, 'subsample': 1.0, 'colsample_bytree': 0.6}. Best is trial 17 with value: 0.7410396245092411.\n",
      "[I 2025-02-21 22:39:10,443] Trial 19 finished with value: 0.7407852510046627 and parameters: {'num_iterations': 2202, 'objective': 'binary', 'metric': 'auc', 'verbose': -1, 'learning_rate': 0.0074501206362402525, 'n_estimators': 421, 'min_child_samples': 40, 'subsample': 1.0, 'colsample_bytree': 0.8}. Best is trial 17 with value: 0.7410396245092411.\n",
      "[I 2025-02-21 22:39:35,570] Trial 20 finished with value: 0.7401602981514932 and parameters: {'num_iterations': 2507, 'objective': 'binary', 'metric': 'auc', 'verbose': -1, 'learning_rate': 0.009816346029751418, 'n_estimators': 673, 'min_child_samples': 30, 'subsample': 0.8, 'colsample_bytree': 0.6}. Best is trial 17 with value: 0.7410396245092411.\n",
      "[I 2025-02-21 22:52:02,186] Trial 21 finished with value: 0.7407342953019287 and parameters: {'num_iterations': 2158, 'objective': 'binary', 'metric': 'auc', 'verbose': -1, 'learning_rate': 0.007464865486186856, 'n_estimators': 398, 'min_child_samples': 40, 'subsample': 1.0, 'colsample_bytree': 0.8}. Best is trial 17 with value: 0.7410396245092411.\n",
      "[I 2025-02-21 22:52:21,707] Trial 22 finished with value: 0.7406682113184015 and parameters: {'num_iterations': 2255, 'objective': 'binary', 'metric': 'auc', 'verbose': -1, 'learning_rate': 0.00787509660905817, 'n_estimators': 394, 'min_child_samples': 40, 'subsample': 1.0, 'colsample_bytree': 0.9}. Best is trial 17 with value: 0.7410396245092411.\n",
      "[I 2025-02-21 22:52:36,273] Trial 23 finished with value: 0.7401632364527496 and parameters: {'num_iterations': 1759, 'objective': 'binary', 'metric': 'auc', 'verbose': -1, 'learning_rate': 0.014247960081493639, 'n_estimators': 324, 'min_child_samples': 35, 'subsample': 0.9, 'colsample_bytree': 0.9}. Best is trial 17 with value: 0.7410396245092411.\n",
      "[I 2025-02-21 22:52:55,332] Trial 24 finished with value: 0.7409898282443002 and parameters: {'num_iterations': 2155, 'objective': 'binary', 'metric': 'auc', 'verbose': -1, 'learning_rate': 0.005089450739378938, 'n_estimators': 487, 'min_child_samples': 45, 'subsample': 1.0, 'colsample_bytree': 0.8}. Best is trial 17 with value: 0.7410396245092411.\n",
      "[I 2025-02-21 22:53:16,880] Trial 25 finished with value: 0.7408185371930848 and parameters: {'num_iterations': 2456, 'objective': 'binary', 'metric': 'auc', 'verbose': -1, 'learning_rate': 0.005255597984533818, 'n_estimators': 737, 'min_child_samples': 50, 'subsample': 0.9, 'colsample_bytree': 0.7}. Best is trial 17 with value: 0.7410396245092411.\n",
      "[I 2025-02-21 22:53:36,883] Trial 26 finished with value: 0.7408193114751727 and parameters: {'num_iterations': 2050, 'objective': 'binary', 'metric': 'auc', 'verbose': -1, 'learning_rate': 0.006560862459482555, 'n_estimators': 521, 'min_child_samples': 45, 'subsample': 1.0, 'colsample_bytree': 0.6}. Best is trial 17 with value: 0.7410396245092411.\n",
      "[I 2025-02-21 22:53:51,386] Trial 27 finished with value: 0.7346023782340363 and parameters: {'num_iterations': 1894, 'objective': 'binary', 'metric': 'auc', 'verbose': -1, 'learning_rate': 0.047947876079429776, 'n_estimators': 1231, 'min_child_samples': 45, 'subsample': 0.9, 'colsample_bytree': 0.8}. Best is trial 17 with value: 0.7410396245092411.\n",
      "[I 2025-02-21 22:54:09,133] Trial 28 finished with value: 0.7402979774187419 and parameters: {'num_iterations': 2134, 'objective': 'binary', 'metric': 'auc', 'verbose': -1, 'learning_rate': 0.010810645863562675, 'n_estimators': 117, 'min_child_samples': 25, 'subsample': 0.8, 'colsample_bytree': 0.7}. Best is trial 17 with value: 0.7410396245092411.\n",
      "[I 2025-02-21 22:54:28,232] Trial 29 finished with value: 0.7408785460402305 and parameters: {'num_iterations': 2276, 'objective': 'binary', 'metric': 'auc', 'verbose': -1, 'learning_rate': 0.006215531906810944, 'n_estimators': 290, 'min_child_samples': 35, 'subsample': 1.0, 'colsample_bytree': 0.9}. Best is trial 17 with value: 0.7410396245092411.\n",
      "[I 2025-02-21 22:54:46,315] Trial 30 finished with value: 0.7396464289685246 and parameters: {'num_iterations': 2290, 'objective': 'binary', 'metric': 'auc', 'verbose': -1, 'learning_rate': 0.015622702731609444, 'n_estimators': 225, 'min_child_samples': 45, 'subsample': 1.0, 'colsample_bytree': 0.9}. Best is trial 17 with value: 0.7410396245092411.\n",
      "[I 2025-02-21 22:55:06,434] Trial 31 finished with value: 0.7408570607049625 and parameters: {'num_iterations': 2379, 'objective': 'binary', 'metric': 'auc', 'verbose': -1, 'learning_rate': 0.005077619473382378, 'n_estimators': 265, 'min_child_samples': 35, 'subsample': 1.0, 'colsample_bytree': 0.9}. Best is trial 17 with value: 0.7410396245092411.\n",
      "[I 2025-02-21 22:55:26,844] Trial 32 finished with value: 0.740667599834086 and parameters: {'num_iterations': 2430, 'objective': 'binary', 'metric': 'auc', 'verbose': -1, 'learning_rate': 0.0051139753777164265, 'n_estimators': 237, 'min_child_samples': 25, 'subsample': 1.0, 'colsample_bytree': 0.9}. Best is trial 17 with value: 0.7410396245092411.\n",
      "[I 2025-02-21 22:55:48,968] Trial 33 finished with value: 0.740782999630592 and parameters: {'num_iterations': 2609, 'objective': 'binary', 'metric': 'auc', 'verbose': -1, 'learning_rate': 0.005126706112739162, 'n_estimators': 260, 'min_child_samples': 35, 'subsample': 1.0, 'colsample_bytree': 0.9}. Best is trial 17 with value: 0.7410396245092411.\n",
      "[I 2025-02-21 22:56:08,457] Trial 34 finished with value: 0.7411155597433319 and parameters: {'num_iterations': 2328, 'objective': 'binary', 'metric': 'auc', 'verbose': -1, 'learning_rate': 0.006258627055247026, 'n_estimators': 505, 'min_child_samples': 30, 'subsample': 1.0, 'colsample_bytree': 1.0}. Best is trial 34 with value: 0.7411155597433319.\n",
      "[I 2025-02-21 22:56:27,470] Trial 35 finished with value: 0.7410323859643893 and parameters: {'num_iterations': 2258, 'objective': 'binary', 'metric': 'auc', 'verbose': -1, 'learning_rate': 0.006177146166438765, 'n_estimators': 541, 'min_child_samples': 30, 'subsample': 0.9, 'colsample_bytree': 1.0}. Best is trial 34 with value: 0.7411155597433319.\n",
      "[I 2025-02-21 22:56:43,813] Trial 36 finished with value: 0.7407321948135981 and parameters: {'num_iterations': 1970, 'objective': 'binary', 'metric': 'auc', 'verbose': -1, 'learning_rate': 0.008348836727109453, 'n_estimators': 910, 'min_child_samples': 25, 'subsample': 0.9, 'colsample_bytree': 1.0}. Best is trial 34 with value: 0.7411155597433319.\n",
      "[I 2025-02-21 22:57:05,213] Trial 37 finished with value: 0.7409410683261536 and parameters: {'num_iterations': 2602, 'objective': 'binary', 'metric': 'auc', 'verbose': -1, 'learning_rate': 0.006360628802750537, 'n_estimators': 554, 'min_child_samples': 30, 'subsample': 0.9, 'colsample_bytree': 1.0}. Best is trial 34 with value: 0.7411155597433319.\n",
      "[I 2025-02-21 22:57:24,360] Trial 38 finished with value: 0.7400484322578497 and parameters: {'num_iterations': 2384, 'objective': 'binary', 'metric': 'auc', 'verbose': -1, 'learning_rate': 0.011136627346702191, 'n_estimators': 669, 'min_child_samples': 30, 'subsample': 1.0, 'colsample_bytree': 1.0}. Best is trial 34 with value: 0.7411155597433319.\n",
      "[I 2025-02-21 22:57:46,702] Trial 39 finished with value: 0.7408865390137833 and parameters: {'num_iterations': 2088, 'objective': 'binary', 'metric': 'auc', 'verbose': -1, 'learning_rate': 0.009776479051657728, 'n_estimators': 451, 'min_child_samples': 25, 'subsample': 0.8, 'colsample_bytree': 0.5}. Best is trial 34 with value: 0.7411155597433319.\n"
     ]
    },
    {
     "name": "stdout",
     "output_type": "stream",
     "text": [
      "Cat val score : 0.7419473292981775\n",
      "LGBM val score : 0.7411773355419088\n",
      "Ensemble val score : 0.7420845082600771\n"
     ]
    },
    {
     "name": "stderr",
     "output_type": "stream",
     "text": [
      "[I 2025-02-21 22:58:07,479] A new study created in memory with name: no-name-2198fdc9-02a0-4c18-909a-cb439b1ee386\n"
     ]
    },
    {
     "name": "stdout",
     "output_type": "stream",
     "text": [
      "==================================================\n",
      "0:\ttest: 0.7227589\tbest: 0.7227589 (0)\ttotal: 160ms\tremaining: 6m 19s\n",
      "300:\ttest: 0.7330597\tbest: 0.7330597 (300)\ttotal: 38.8s\tremaining: 4m 26s\n",
      "600:\ttest: 0.7344199\tbest: 0.7344225 (596)\ttotal: 1m 20s\tremaining: 3m 57s\n",
      "900:\ttest: 0.7348073\tbest: 0.7348178 (897)\ttotal: 2m 2s\tremaining: 3m 18s\n",
      "1200:\ttest: 0.7350766\tbest: 0.7350805 (1198)\ttotal: 2m 47s\tremaining: 2m 42s\n",
      "1500:\ttest: 0.7351321\tbest: 0.7351767 (1430)\ttotal: 3m 37s\tremaining: 2m 5s\n"
     ]
    },
    {
     "name": "stderr",
     "output_type": "stream",
     "text": [
      "[I 2025-02-21 23:02:24,192] Trial 0 finished with value: 0.7351766526465233 and parameters: {'iterations': 2366, 'depth': 10, 'learning_rate': 0.01181021951839225, 'l2_leaf_reg': 9.980783802743254}. Best is trial 0 with value: 0.7351766526465233.\n"
     ]
    },
    {
     "name": "stdout",
     "output_type": "stream",
     "text": [
      "Stopped by overfitting detector  (300 iterations wait)\n",
      "\n",
      "bestTest = 0.7351766526\n",
      "bestIteration = 1430\n",
      "\n",
      "Shrink model to first 1431 iterations.\n",
      "저장 완료\n",
      "0:\ttest: 0.6888096\tbest: 0.6888096 (0)\ttotal: 64.5ms\tremaining: 2m 21s\n",
      "300:\ttest: 0.7236600\tbest: 0.7236600 (300)\ttotal: 14.3s\tremaining: 1m 29s\n"
     ]
    },
    {
     "name": "stderr",
     "output_type": "stream",
     "text": [
      "Training has stopped (degenerate solution on iteration 346, probably too small l2-regularization, try to increase it)\n",
      "[I 2025-02-21 23:02:40,595] Trial 1 finished with value: 0.7247429245465473 and parameters: {'iterations': 2193, 'depth': 4, 'learning_rate': 0.005671430811678843, 'l2_leaf_reg': 0.00012325230809466137}. Best is trial 0 with value: 0.7351766526465233.\n"
     ]
    },
    {
     "name": "stdout",
     "output_type": "stream",
     "text": [
      "\n",
      "bestTest = 0.7247429245\n",
      "bestIteration = 345\n",
      "\n",
      "Shrink model to first 346 iterations.\n",
      "0:\ttest: 0.6888096\tbest: 0.6888096 (0)\ttotal: 98.2ms\tremaining: 4m 8s\n",
      "300:\ttest: 0.7343409\tbest: 0.7343409 (300)\ttotal: 15s\tremaining: 1m 51s\n",
      "600:\ttest: 0.7340241\tbest: 0.7344169 (352)\ttotal: 30s\tremaining: 1m 36s\n"
     ]
    },
    {
     "name": "stderr",
     "output_type": "stream",
     "text": [
      "[I 2025-02-21 23:03:13,345] Trial 2 finished with value: 0.7344168798461395 and parameters: {'iterations': 2535, 'depth': 4, 'learning_rate': 0.09275339199839054, 'l2_leaf_reg': 0.0008705394248343123}. Best is trial 0 with value: 0.7351766526465233.\n"
     ]
    },
    {
     "name": "stdout",
     "output_type": "stream",
     "text": [
      "Stopped by overfitting detector  (300 iterations wait)\n",
      "\n",
      "bestTest = 0.7344168798\n",
      "bestIteration = 352\n",
      "\n",
      "Shrink model to first 353 iterations.\n",
      "0:\ttest: 0.6888096\tbest: 0.6888096 (0)\ttotal: 57.4ms\tremaining: 2m 13s\n",
      "300:\ttest: 0.7337850\tbest: 0.7337850 (300)\ttotal: 13.9s\tremaining: 1m 33s\n",
      "600:\ttest: 0.7344127\tbest: 0.7346932 (516)\ttotal: 28.7s\tremaining: 1m 22s\n"
     ]
    },
    {
     "name": "stderr",
     "output_type": "stream",
     "text": [
      "[I 2025-02-21 23:03:53,004] Trial 3 finished with value: 0.7346932330694971 and parameters: {'iterations': 2334, 'depth': 4, 'learning_rate': 0.04657568321363276, 'l2_leaf_reg': 0.0008640473331457248}. Best is trial 0 with value: 0.7351766526465233.\n"
     ]
    },
    {
     "name": "stdout",
     "output_type": "stream",
     "text": [
      "Stopped by overfitting detector  (300 iterations wait)\n",
      "\n",
      "bestTest = 0.7346932331\n",
      "bestIteration = 516\n",
      "\n",
      "Shrink model to first 517 iterations.\n",
      "0:\ttest: 0.7227306\tbest: 0.7227306 (0)\ttotal: 137ms\tremaining: 3m 58s\n",
      "300:\ttest: 0.7326636\tbest: 0.7326759 (298)\ttotal: 37.9s\tremaining: 3m 1s\n",
      "600:\ttest: 0.7334423\tbest: 0.7334554 (590)\ttotal: 1m 19s\tremaining: 2m 30s\n"
     ]
    },
    {
     "name": "stderr",
     "output_type": "stream",
     "text": [
      "[I 2025-02-21 23:05:53,595] Trial 4 finished with value: 0.7334553622032569 and parameters: {'iterations': 1742, 'depth': 10, 'learning_rate': 0.012622767482095846, 'l2_leaf_reg': 0.00021158816350109617}. Best is trial 0 with value: 0.7351766526465233.\n"
     ]
    },
    {
     "name": "stdout",
     "output_type": "stream",
     "text": [
      "Stopped by overfitting detector  (300 iterations wait)\n",
      "\n",
      "bestTest = 0.7334553622\n",
      "bestIteration = 590\n",
      "\n",
      "Shrink model to first 591 iterations.\n",
      "0:\ttest: 0.6888096\tbest: 0.6888096 (0)\ttotal: 57.1ms\tremaining: 1m 58s\n",
      "300:\ttest: 0.7344814\tbest: 0.7344814 (300)\ttotal: 14.1s\tremaining: 1m 23s\n",
      "600:\ttest: 0.7345071\tbest: 0.7346733 (566)\ttotal: 28.7s\tremaining: 1m 10s\n",
      "900:\ttest: 0.7345130\tbest: 0.7346927 (821)\ttotal: 43.6s\tremaining: 57.1s\n"
     ]
    },
    {
     "name": "stderr",
     "output_type": "stream",
     "text": [
      "[I 2025-02-21 23:06:48,255] Trial 5 finished with value: 0.734692748573704 and parameters: {'iterations': 2082, 'depth': 4, 'learning_rate': 0.06995196593094148, 'l2_leaf_reg': 0.0018080296485396804}. Best is trial 0 with value: 0.7351766526465233.\n"
     ]
    },
    {
     "name": "stdout",
     "output_type": "stream",
     "text": [
      "Stopped by overfitting detector  (300 iterations wait)\n",
      "\n",
      "bestTest = 0.7346927486\n",
      "bestIteration = 821\n",
      "\n",
      "Shrink model to first 822 iterations.\n",
      "0:\ttest: 0.6975347\tbest: 0.6975347 (0)\ttotal: 66ms\tremaining: 2m 11s\n",
      "300:\ttest: 0.7349218\tbest: 0.7349218 (298)\ttotal: 17.2s\tremaining: 1m 37s\n",
      "600:\ttest: 0.7350271\tbest: 0.7351283 (475)\ttotal: 34.8s\tremaining: 1m 20s\n",
      "900:\ttest: 0.7351566\tbest: 0.7351754 (747)\ttotal: 52.8s\tremaining: 1m 4s\n"
     ]
    },
    {
     "name": "stderr",
     "output_type": "stream",
     "text": [
      "[I 2025-02-21 23:07:49,971] Trial 6 finished with value: 0.7351754175793787 and parameters: {'iterations': 1997, 'depth': 5, 'learning_rate': 0.07985155992831598, 'l2_leaf_reg': 62.52181000710482}. Best is trial 0 with value: 0.7351766526465233.\n"
     ]
    },
    {
     "name": "stdout",
     "output_type": "stream",
     "text": [
      "Stopped by overfitting detector  (300 iterations wait)\n",
      "\n",
      "bestTest = 0.7351754176\n",
      "bestIteration = 747\n",
      "\n",
      "Shrink model to first 748 iterations.\n",
      "0:\ttest: 0.7121280\tbest: 0.7121280 (0)\ttotal: 81.7ms\tremaining: 2m 37s\n",
      "300:\ttest: 0.7342498\tbest: 0.7347529 (166)\ttotal: 24s\tremaining: 2m 9s\n"
     ]
    },
    {
     "name": "stderr",
     "output_type": "stream",
     "text": [
      "[I 2025-02-21 23:08:28,000] Trial 7 finished with value: 0.7347529015063101 and parameters: {'iterations': 1927, 'depth': 7, 'learning_rate': 0.0941937211034094, 'l2_leaf_reg': 0.05654822767791934}. Best is trial 0 with value: 0.7351766526465233.\n"
     ]
    },
    {
     "name": "stdout",
     "output_type": "stream",
     "text": [
      "Stopped by overfitting detector  (300 iterations wait)\n",
      "\n",
      "bestTest = 0.7347529015\n",
      "bestIteration = 166\n",
      "\n",
      "Shrink model to first 167 iterations.\n",
      "0:\ttest: 0.7121274\tbest: 0.7121274 (0)\ttotal: 79ms\tremaining: 2m 30s\n",
      "300:\ttest: 0.7352481\tbest: 0.7353171 (297)\ttotal: 22.7s\tremaining: 2m\n",
      "600:\ttest: 0.7351487\tbest: 0.7354021 (413)\ttotal: 47.5s\tremaining: 1m 43s\n"
     ]
    },
    {
     "name": "stderr",
     "output_type": "stream",
     "text": [
      "[I 2025-02-21 23:09:25,098] Trial 8 finished with value: 0.7354020662998975 and parameters: {'iterations': 1904, 'depth': 7, 'learning_rate': 0.05155602859187331, 'l2_leaf_reg': 1.299974533316308}. Best is trial 8 with value: 0.7354020662998975.\n"
     ]
    },
    {
     "name": "stdout",
     "output_type": "stream",
     "text": [
      "Stopped by overfitting detector  (300 iterations wait)\n",
      "\n",
      "bestTest = 0.7354020663\n",
      "bestIteration = 413\n",
      "\n",
      "Shrink model to first 414 iterations.\n",
      "저장 완료\n",
      "0:\ttest: 0.7118659\tbest: 0.7118659 (0)\ttotal: 72.5ms\tremaining: 3m 11s\n",
      "300:\ttest: 0.7343442\tbest: 0.7343819 (297)\ttotal: 19.4s\tremaining: 2m 31s\n",
      "600:\ttest: 0.7349371\tbest: 0.7350599 (487)\ttotal: 41.1s\tremaining: 2m 19s\n"
     ]
    },
    {
     "name": "stderr",
     "output_type": "stream",
     "text": [
      "[I 2025-02-21 23:10:19,832] Trial 9 finished with value: 0.7350599487295433 and parameters: {'iterations': 2639, 'depth': 6, 'learning_rate': 0.03968704290444751, 'l2_leaf_reg': 0.30557194377967184}. Best is trial 8 with value: 0.7354020662998975.\n"
     ]
    },
    {
     "name": "stdout",
     "output_type": "stream",
     "text": [
      "Stopped by overfitting detector  (300 iterations wait)\n",
      "\n",
      "bestTest = 0.7350599487\n",
      "bestIteration = 487\n",
      "\n",
      "Shrink model to first 488 iterations.\n",
      "0:\ttest: 0.7154641\tbest: 0.7154641 (0)\ttotal: 95.2ms\tremaining: 4m 40s\n",
      "300:\ttest: 0.7343450\tbest: 0.7343450 (300)\ttotal: 25.3s\tremaining: 3m 42s\n",
      "600:\ttest: 0.7351176\tbest: 0.7352153 (505)\ttotal: 53.2s\tremaining: 3m 27s\n"
     ]
    },
    {
     "name": "stderr",
     "output_type": "stream",
     "text": [
      "[I 2025-02-21 23:11:32,979] Trial 10 finished with value: 0.7352152812578299 and parameters: {'iterations': 2945, 'depth': 8, 'learning_rate': 0.032580115422505045, 'l2_leaf_reg': 0.87526046512315}. Best is trial 8 with value: 0.7354020662998975.\n"
     ]
    },
    {
     "name": "stdout",
     "output_type": "stream",
     "text": [
      "Stopped by overfitting detector  (300 iterations wait)\n",
      "\n",
      "bestTest = 0.7352152813\n",
      "bestIteration = 505\n",
      "\n",
      "Shrink model to first 506 iterations.\n",
      "0:\ttest: 0.7154648\tbest: 0.7154648 (0)\ttotal: 93.1ms\tremaining: 4m 38s\n",
      "300:\ttest: 0.7345951\tbest: 0.7345980 (298)\ttotal: 25.6s\tremaining: 3m 48s\n",
      "600:\ttest: 0.7353313\tbest: 0.7353494 (593)\ttotal: 53.3s\tremaining: 3m 32s\n",
      "900:\ttest: 0.7349323\tbest: 0.7353888 (629)\ttotal: 1m 22s\tremaining: 3m 11s\n"
     ]
    },
    {
     "name": "stderr",
     "output_type": "stream",
     "text": [
      "[I 2025-02-21 23:12:58,157] Trial 11 finished with value: 0.7353887506081416 and parameters: {'iterations': 2994, 'depth': 8, 'learning_rate': 0.031221552622542375, 'l2_leaf_reg': 0.4673950385408126}. Best is trial 8 with value: 0.7354020662998975.\n"
     ]
    },
    {
     "name": "stdout",
     "output_type": "stream",
     "text": [
      "Stopped by overfitting detector  (300 iterations wait)\n",
      "\n",
      "bestTest = 0.7353887506\n",
      "bestIteration = 629\n",
      "\n",
      "Shrink model to first 630 iterations.\n",
      "0:\ttest: 0.7154648\tbest: 0.7154648 (0)\ttotal: 93.8ms\tremaining: 2m 26s\n",
      "300:\ttest: 0.7337962\tbest: 0.7344370 (216)\ttotal: 26.2s\tremaining: 1m 50s\n"
     ]
    },
    {
     "name": "stderr",
     "output_type": "stream",
     "text": [
      "[I 2025-02-21 23:13:45,337] Trial 12 finished with value: 0.7344369903928296 and parameters: {'iterations': 1565, 'depth': 8, 'learning_rate': 0.061287874640168535, 'l2_leaf_reg': 0.028450890806958902}. Best is trial 8 with value: 0.7354020662998975.\n"
     ]
    },
    {
     "name": "stdout",
     "output_type": "stream",
     "text": [
      "Stopped by overfitting detector  (300 iterations wait)\n",
      "\n",
      "bestTest = 0.7344369904\n",
      "bestIteration = 216\n",
      "\n",
      "Shrink model to first 217 iterations.\n",
      "0:\ttest: 0.7154746\tbest: 0.7154746 (0)\ttotal: 91.9ms\tremaining: 4m 33s\n",
      "300:\ttest: 0.7343632\tbest: 0.7343650 (299)\ttotal: 25s\tremaining: 3m 42s\n",
      "600:\ttest: 0.7350954\tbest: 0.7350954 (600)\ttotal: 51.6s\tremaining: 3m 23s\n",
      "900:\ttest: 0.7348994\tbest: 0.7351569 (676)\ttotal: 1m 20s\tremaining: 3m 4s\n"
     ]
    },
    {
     "name": "stderr",
     "output_type": "stream",
     "text": [
      "[I 2025-02-21 23:15:12,886] Trial 13 finished with value: 0.7351569273137013 and parameters: {'iterations': 2975, 'depth': 8, 'learning_rate': 0.026319078501895434, 'l2_leaf_reg': 2.079573379652083}. Best is trial 8 with value: 0.7354020662998975.\n"
     ]
    },
    {
     "name": "stdout",
     "output_type": "stream",
     "text": [
      "Stopped by overfitting detector  (300 iterations wait)\n",
      "\n",
      "bestTest = 0.7351569273\n",
      "bestIteration = 676\n",
      "\n",
      "Shrink model to first 677 iterations.\n",
      "0:\ttest: 0.7121233\tbest: 0.7121233 (0)\ttotal: 80.3ms\tremaining: 3m 36s\n",
      "300:\ttest: 0.7352129\tbest: 0.7352129 (300)\ttotal: 23.1s\tremaining: 3m 4s\n",
      "600:\ttest: 0.7352602\tbest: 0.7354736 (441)\ttotal: 47.8s\tremaining: 2m 46s\n"
     ]
    },
    {
     "name": "stderr",
     "output_type": "stream",
     "text": [
      "[I 2025-02-21 23:16:12,429] Trial 14 finished with value: 0.7354736207687493 and parameters: {'iterations': 2702, 'depth': 7, 'learning_rate': 0.0536289472022267, 'l2_leaf_reg': 5.542114755250782}. Best is trial 14 with value: 0.7354736207687493.\n"
     ]
    },
    {
     "name": "stdout",
     "output_type": "stream",
     "text": [
      "Stopped by overfitting detector  (300 iterations wait)\n",
      "\n",
      "bestTest = 0.7354736208\n",
      "bestIteration = 441\n",
      "\n",
      "Shrink model to first 442 iterations.\n",
      "저장 완료\n",
      "0:\ttest: 0.7118659\tbest: 0.7118659 (0)\ttotal: 74.7ms\tremaining: 3m 20s\n",
      "300:\ttest: 0.7348053\tbest: 0.7348190 (296)\ttotal: 19.6s\tremaining: 2m 34s\n",
      "600:\ttest: 0.7351223\tbest: 0.7351451 (586)\ttotal: 40.7s\tremaining: 2m 20s\n",
      "900:\ttest: 0.7350383\tbest: 0.7352107 (725)\ttotal: 1m 1s\tremaining: 2m 2s\n"
     ]
    },
    {
     "name": "stderr",
     "output_type": "stream",
     "text": [
      "[I 2025-02-21 23:17:23,646] Trial 15 finished with value: 0.7352107420882275 and parameters: {'iterations': 2684, 'depth': 6, 'learning_rate': 0.05665316438649348, 'l2_leaf_reg': 16.81902590307642}. Best is trial 14 with value: 0.7354736207687493.\n"
     ]
    },
    {
     "name": "stdout",
     "output_type": "stream",
     "text": [
      "Stopped by overfitting detector  (300 iterations wait)\n",
      "\n",
      "bestTest = 0.7352107421\n",
      "bestIteration = 725\n",
      "\n",
      "Shrink model to first 726 iterations.\n",
      "0:\ttest: 0.7121241\tbest: 0.7121241 (0)\ttotal: 83.4ms\tremaining: 2m 29s\n",
      "300:\ttest: 0.7350853\tbest: 0.7351682 (250)\ttotal: 25.9s\tremaining: 2m 8s\n",
      "600:\ttest: 0.7349781\tbest: 0.7352024 (320)\ttotal: 51.3s\tremaining: 1m 41s\n"
     ]
    },
    {
     "name": "stderr",
     "output_type": "stream",
     "text": [
      "[I 2025-02-21 23:18:16,795] Trial 16 finished with value: 0.7352023587224961 and parameters: {'iterations': 1793, 'depth': 7, 'learning_rate': 0.07180185194389979, 'l2_leaf_reg': 3.055459031171782}. Best is trial 14 with value: 0.7354736207687493.\n"
     ]
    },
    {
     "name": "stdout",
     "output_type": "stream",
     "text": [
      "Stopped by overfitting detector  (300 iterations wait)\n",
      "\n",
      "bestTest = 0.7352023587\n",
      "bestIteration = 320\n",
      "\n",
      "Shrink model to first 321 iterations.\n",
      "0:\ttest: 0.7200459\tbest: 0.7200459 (0)\ttotal: 106ms\tremaining: 2m 51s\n",
      "300:\ttest: 0.7338165\tbest: 0.7338989 (276)\ttotal: 29.3s\tremaining: 2m 8s\n"
     ]
    },
    {
     "name": "stderr",
     "output_type": "stream",
     "text": [
      "[I 2025-02-21 23:19:16,818] Trial 17 finished with value: 0.7338989181018318 and parameters: {'iterations': 1618, 'depth': 9, 'learning_rate': 0.05122368438861319, 'l2_leaf_reg': 0.016368401574579163}. Best is trial 14 with value: 0.7354736207687493.\n"
     ]
    },
    {
     "name": "stdout",
     "output_type": "stream",
     "text": [
      "Stopped by overfitting detector  (300 iterations wait)\n",
      "\n",
      "bestTest = 0.7338989181\n",
      "bestIteration = 276\n",
      "\n",
      "Shrink model to first 277 iterations.\n",
      "0:\ttest: 0.7118585\tbest: 0.7118585 (0)\ttotal: 76.3ms\tremaining: 3m 33s\n",
      "300:\ttest: 0.7344773\tbest: 0.7345113 (296)\ttotal: 20.9s\tremaining: 2m 54s\n",
      "600:\ttest: 0.7349343\tbest: 0.7349535 (544)\ttotal: 42.9s\tremaining: 2m 37s\n",
      "900:\ttest: 0.7349823\tbest: 0.7350306 (810)\ttotal: 1m 4s\tremaining: 2m 15s\n"
     ]
    },
    {
     "name": "stderr",
     "output_type": "stream",
     "text": [
      "[I 2025-02-21 23:20:36,129] Trial 18 finished with value: 0.7350306208489532 and parameters: {'iterations': 2806, 'depth': 6, 'learning_rate': 0.06566065400200083, 'l2_leaf_reg': 70.64174190249958}. Best is trial 14 with value: 0.7354736207687493.\n"
     ]
    },
    {
     "name": "stdout",
     "output_type": "stream",
     "text": [
      "Stopped by overfitting detector  (300 iterations wait)\n",
      "\n",
      "bestTest = 0.7350306208\n",
      "bestIteration = 810\n",
      "\n",
      "Shrink model to first 811 iterations.\n",
      "0:\ttest: 0.7121280\tbest: 0.7121280 (0)\ttotal: 89.3ms\tremaining: 3m 39s\n",
      "300:\ttest: 0.7345898\tbest: 0.7347519 (241)\ttotal: 24.4s\tremaining: 2m 54s\n"
     ]
    },
    {
     "name": "stderr",
     "output_type": "stream",
     "text": [
      "[I 2025-02-21 23:21:22,063] Trial 19 finished with value: 0.7347518769168461 and parameters: {'iterations': 2455, 'depth': 7, 'learning_rate': 0.08088060835396044, 'l2_leaf_reg': 0.15888451859639016}. Best is trial 14 with value: 0.7354736207687493.\n"
     ]
    },
    {
     "name": "stdout",
     "output_type": "stream",
     "text": [
      "Stopped by overfitting detector  (300 iterations wait)\n",
      "\n",
      "bestTest = 0.7347518769\n",
      "bestIteration = 241\n",
      "\n",
      "Shrink model to first 242 iterations.\n",
      "0:\ttest: 0.7200655\tbest: 0.7200655 (0)\ttotal: 108ms\tremaining: 3m 57s\n",
      "300:\ttest: 0.7349505\tbest: 0.7349509 (298)\ttotal: 29.6s\tremaining: 3m 7s\n",
      "600:\ttest: 0.7351704\tbest: 0.7353849 (518)\ttotal: 1m 3s\tremaining: 2m 49s\n"
     ]
    },
    {
     "name": "stderr",
     "output_type": "stream",
     "text": [
      "[I 2025-02-21 23:22:50,428] Trial 20 finished with value: 0.7353848627279658 and parameters: {'iterations': 2212, 'depth': 9, 'learning_rate': 0.04279597597675146, 'l2_leaf_reg': 10.195742626338639}. Best is trial 14 with value: 0.7354736207687493.\n"
     ]
    },
    {
     "name": "stdout",
     "output_type": "stream",
     "text": [
      "Stopped by overfitting detector  (300 iterations wait)\n",
      "\n",
      "bestTest = 0.7353848627\n",
      "bestIteration = 518\n",
      "\n",
      "Shrink model to first 519 iterations.\n",
      "0:\ttest: 0.7154645\tbest: 0.7154645 (0)\ttotal: 100ms\tremaining: 4m 42s\n",
      "300:\ttest: 0.7343555\tbest: 0.7343555 (300)\ttotal: 26.3s\tremaining: 3m 40s\n",
      "600:\ttest: 0.7350963\tbest: 0.7351444 (565)\ttotal: 54.7s\tremaining: 3m 22s\n",
      "900:\ttest: 0.7348822\tbest: 0.7351662 (676)\ttotal: 1m 24s\tremaining: 3m\n"
     ]
    },
    {
     "name": "stderr",
     "output_type": "stream",
     "text": [
      "[I 2025-02-21 23:24:22,317] Trial 21 finished with value: 0.735166184360371 and parameters: {'iterations': 2826, 'depth': 8, 'learning_rate': 0.026821593185006206, 'l2_leaf_reg': 0.6301851649810912}. Best is trial 14 with value: 0.7354736207687493.\n"
     ]
    },
    {
     "name": "stdout",
     "output_type": "stream",
     "text": [
      "Stopped by overfitting detector  (300 iterations wait)\n",
      "\n",
      "bestTest = 0.7351661844\n",
      "bestIteration = 676\n",
      "\n",
      "Shrink model to first 677 iterations.\n",
      "0:\ttest: 0.7200537\tbest: 0.7200537 (0)\ttotal: 109ms\tremaining: 5m 7s\n",
      "300:\ttest: 0.7350967\tbest: 0.7351053 (288)\ttotal: 30s\tremaining: 4m 10s\n",
      "600:\ttest: 0.7350653\tbest: 0.7352864 (357)\ttotal: 1m 3s\tremaining: 3m 54s\n"
     ]
    },
    {
     "name": "stderr",
     "output_type": "stream",
     "text": [
      "[I 2025-02-21 23:25:32,966] Trial 22 finished with value: 0.7352863830011045 and parameters: {'iterations': 2809, 'depth': 9, 'learning_rate': 0.037794990249860175, 'l2_leaf_reg': 2.599005419010019}. Best is trial 14 with value: 0.7354736207687493.\n"
     ]
    },
    {
     "name": "stdout",
     "output_type": "stream",
     "text": [
      "Stopped by overfitting detector  (300 iterations wait)\n",
      "\n",
      "bestTest = 0.735286383\n",
      "bestIteration = 357\n",
      "\n",
      "Shrink model to first 358 iterations.\n",
      "0:\ttest: 0.7118659\tbest: 0.7118659 (0)\ttotal: 76.3ms\tremaining: 3m 48s\n",
      "300:\ttest: 0.7346530\tbest: 0.7346625 (299)\ttotal: 20.7s\tremaining: 3m 5s\n",
      "600:\ttest: 0.7348869\tbest: 0.7350157 (451)\ttotal: 42.6s\tremaining: 2m 49s\n"
     ]
    },
    {
     "name": "stderr",
     "output_type": "stream",
     "text": [
      "[I 2025-02-21 23:26:26,920] Trial 23 finished with value: 0.7350156570772453 and parameters: {'iterations': 2997, 'depth': 6, 'learning_rate': 0.04944348258885028, 'l2_leaf_reg': 0.6882988302351228}. Best is trial 14 with value: 0.7354736207687493.\n"
     ]
    },
    {
     "name": "stdout",
     "output_type": "stream",
     "text": [
      "Stopped by overfitting detector  (300 iterations wait)\n",
      "\n",
      "bestTest = 0.7350156571\n",
      "bestIteration = 451\n",
      "\n",
      "Shrink model to first 452 iterations.\n",
      "0:\ttest: 0.7121282\tbest: 0.7121282 (0)\ttotal: 81.6ms\tremaining: 3m 37s\n",
      "300:\ttest: 0.7337236\tbest: 0.7337236 (300)\ttotal: 23.3s\tremaining: 3m 3s\n",
      "600:\ttest: 0.7347018\tbest: 0.7347018 (600)\ttotal: 47.2s\tremaining: 2m 41s\n",
      "900:\ttest: 0.7352204\tbest: 0.7352414 (856)\ttotal: 1m 12s\tremaining: 2m 21s\n",
      "1200:\ttest: 0.7352075\tbest: 0.7353091 (1038)\ttotal: 1m 38s\tremaining: 1m 59s\n"
     ]
    },
    {
     "name": "stderr",
     "output_type": "stream",
     "text": [
      "[I 2025-02-21 23:28:17,211] Trial 24 finished with value: 0.735309078849117 and parameters: {'iterations': 2663, 'depth': 7, 'learning_rate': 0.020074307522457792, 'l2_leaf_reg': 0.008900028072033614}. Best is trial 14 with value: 0.7354736207687493.\n"
     ]
    },
    {
     "name": "stdout",
     "output_type": "stream",
     "text": [
      "Stopped by overfitting detector  (300 iterations wait)\n",
      "\n",
      "bestTest = 0.7353090788\n",
      "bestIteration = 1038\n",
      "\n",
      "Shrink model to first 1039 iterations.\n",
      "0:\ttest: 0.6975347\tbest: 0.6975347 (0)\ttotal: 67.9ms\tremaining: 2m 6s\n",
      "300:\ttest: 0.7346407\tbest: 0.7346407 (300)\ttotal: 17.9s\tremaining: 1m 33s\n",
      "600:\ttest: 0.7348601\tbest: 0.7349069 (581)\ttotal: 36.9s\tremaining: 1m 17s\n",
      "900:\ttest: 0.7347837\tbest: 0.7349928 (734)\ttotal: 55.1s\tremaining: 59.3s\n"
     ]
    },
    {
     "name": "stderr",
     "output_type": "stream",
     "text": [
      "[I 2025-02-21 23:29:20,750] Trial 25 finished with value: 0.7349928420909231 and parameters: {'iterations': 1870, 'depth': 5, 'learning_rate': 0.0548892563351544, 'l2_leaf_reg': 0.12415444093463615}. Best is trial 14 with value: 0.7354736207687493.\n"
     ]
    },
    {
     "name": "stdout",
     "output_type": "stream",
     "text": [
      "Stopped by overfitting detector  (300 iterations wait)\n",
      "\n",
      "bestTest = 0.7349928421\n",
      "bestIteration = 734\n",
      "\n",
      "Shrink model to first 735 iterations.\n",
      "0:\ttest: 0.7154851\tbest: 0.7154851 (0)\ttotal: 99.8ms\tremaining: 3m 27s\n",
      "300:\ttest: 0.7343439\tbest: 0.7343439 (300)\ttotal: 25.5s\tremaining: 2m 30s\n",
      "600:\ttest: 0.7351522\tbest: 0.7351530 (599)\ttotal: 52.3s\tremaining: 2m 8s\n",
      "900:\ttest: 0.7352910\tbest: 0.7353500 (863)\ttotal: 1m 23s\tremaining: 1m 49s\n"
     ]
    },
    {
     "name": "stderr",
     "output_type": "stream",
     "text": [
      "[I 2025-02-21 23:31:12,331] Trial 26 finished with value: 0.7353500386000181 and parameters: {'iterations': 2081, 'depth': 8, 'learning_rate': 0.02844629502655595, 'l2_leaf_reg': 24.010123939175305}. Best is trial 14 with value: 0.7354736207687493.\n"
     ]
    },
    {
     "name": "stdout",
     "output_type": "stream",
     "text": [
      "Stopped by overfitting detector  (300 iterations wait)\n",
      "\n",
      "bestTest = 0.7353500386\n",
      "bestIteration = 863\n",
      "\n",
      "Shrink model to first 864 iterations.\n",
      "0:\ttest: 0.7121240\tbest: 0.7121240 (0)\ttotal: 92.2ms\tremaining: 3m 54s\n",
      "300:\ttest: 0.7351035\tbest: 0.7351316 (293)\ttotal: 25s\tremaining: 3m 6s\n",
      "600:\ttest: 0.7348616\tbest: 0.7352023 (352)\ttotal: 51.7s\tremaining: 2m 47s\n"
     ]
    },
    {
     "name": "stderr",
     "output_type": "stream",
     "text": [
      "[I 2025-02-21 23:32:09,604] Trial 27 finished with value: 0.7352023428373882 and parameters: {'iterations': 2548, 'depth': 7, 'learning_rate': 0.05928575151601714, 'l2_leaf_reg': 3.44766394077007}. Best is trial 14 with value: 0.7354736207687493.\n"
     ]
    },
    {
     "name": "stdout",
     "output_type": "stream",
     "text": [
      "Stopped by overfitting detector  (300 iterations wait)\n",
      "\n",
      "bestTest = 0.7352023428\n",
      "bestIteration = 352\n",
      "\n",
      "Shrink model to first 353 iterations.\n",
      "0:\ttest: 0.7200459\tbest: 0.7200459 (0)\ttotal: 147ms\tremaining: 7m 5s\n",
      "300:\ttest: 0.7345514\tbest: 0.7345776 (288)\ttotal: 32.6s\tremaining: 4m 40s\n",
      "600:\ttest: 0.7344094\tbest: 0.7349485 (406)\ttotal: 1m 6s\tremaining: 4m 13s\n"
     ]
    },
    {
     "name": "stderr",
     "output_type": "stream",
     "text": [
      "[I 2025-02-21 23:33:28,895] Trial 28 finished with value: 0.7349484630705313 and parameters: {'iterations': 2887, 'depth': 9, 'learning_rate': 0.03428391155105825, 'l2_leaf_reg': 0.2740556395881831}. Best is trial 14 with value: 0.7354736207687493.\n"
     ]
    },
    {
     "name": "stdout",
     "output_type": "stream",
     "text": [
      "Stopped by overfitting detector  (300 iterations wait)\n",
      "\n",
      "bestTest = 0.7349484631\n",
      "bestIteration = 406\n",
      "\n",
      "Shrink model to first 407 iterations.\n",
      "0:\ttest: 0.7227609\tbest: 0.7227609 (0)\ttotal: 133ms\tremaining: 5m 13s\n",
      "300:\ttest: 0.7345864\tbest: 0.7346014 (294)\ttotal: 40.9s\tremaining: 4m 38s\n",
      "600:\ttest: 0.7342204\tbest: 0.7346772 (356)\ttotal: 1m 30s\tremaining: 4m 22s\n"
     ]
    },
    {
     "name": "stderr",
     "output_type": "stream",
     "text": [
      "[I 2025-02-21 23:35:08,613] Trial 29 finished with value: 0.734677248679602 and parameters: {'iterations': 2351, 'depth': 10, 'learning_rate': 0.04412079762167402, 'l2_leaf_reg': 5.330543741283486}. Best is trial 14 with value: 0.7354736207687493.\n"
     ]
    },
    {
     "name": "stdout",
     "output_type": "stream",
     "text": [
      "Stopped by overfitting detector  (300 iterations wait)\n",
      "\n",
      "bestTest = 0.7346772487\n",
      "bestIteration = 356\n",
      "\n",
      "Shrink model to first 357 iterations.\n",
      "0:\ttest: 0.6975347\tbest: 0.6975347 (0)\ttotal: 64.9ms\tremaining: 2m 55s\n",
      "300:\ttest: 0.7314818\tbest: 0.7314818 (300)\ttotal: 17s\tremaining: 2m 16s\n",
      "600:\ttest: 0.7334989\tbest: 0.7334989 (600)\ttotal: 34.8s\tremaining: 2m 1s\n",
      "900:\ttest: 0.7343993\tbest: 0.7343993 (900)\ttotal: 53.1s\tremaining: 1m 46s\n",
      "1200:\ttest: 0.7347400\tbest: 0.7347424 (1198)\ttotal: 1m 11s\tremaining: 1m 30s\n",
      "1500:\ttest: 0.7348628\tbest: 0.7348688 (1480)\ttotal: 1m 31s\tremaining: 1m 13s\n",
      "1800:\ttest: 0.7348386\tbest: 0.7348729 (1524)\ttotal: 1m 51s\tremaining: 56s\n"
     ]
    },
    {
     "name": "stderr",
     "output_type": "stream",
     "text": [
      "[I 2025-02-21 23:37:02,070] Trial 30 finished with value: 0.7348728618704241 and parameters: {'iterations': 2704, 'depth': 5, 'learning_rate': 0.016738986030114342, 'l2_leaf_reg': 1.0772370240705724}. Best is trial 14 with value: 0.7354736207687493.\n"
     ]
    },
    {
     "name": "stdout",
     "output_type": "stream",
     "text": [
      "Stopped by overfitting detector  (300 iterations wait)\n",
      "\n",
      "bestTest = 0.7348728619\n",
      "bestIteration = 1524\n",
      "\n",
      "Shrink model to first 1525 iterations.\n",
      "0:\ttest: 0.7200654\tbest: 0.7200654 (0)\ttotal: 123ms\tremaining: 4m 32s\n",
      "300:\ttest: 0.7348012\tbest: 0.7348176 (297)\ttotal: 31.3s\tremaining: 3m 18s\n",
      "600:\ttest: 0.7348721\tbest: 0.7352139 (508)\ttotal: 1m 5s\tremaining: 2m 54s\n"
     ]
    },
    {
     "name": "stderr",
     "output_type": "stream",
     "text": [
      "[I 2025-02-21 23:38:31,914] Trial 31 finished with value: 0.7352139071959904 and parameters: {'iterations': 2211, 'depth': 9, 'learning_rate': 0.041647461292846875, 'l2_leaf_reg': 9.198668546620805}. Best is trial 14 with value: 0.7354736207687493.\n"
     ]
    },
    {
     "name": "stdout",
     "output_type": "stream",
     "text": [
      "Stopped by overfitting detector  (300 iterations wait)\n",
      "\n",
      "bestTest = 0.7352139072\n",
      "bestIteration = 508\n",
      "\n",
      "Shrink model to first 509 iterations.\n",
      "0:\ttest: 0.7154617\tbest: 0.7154617 (0)\ttotal: 131ms\tremaining: 4m 36s\n",
      "300:\ttest: 0.7352912\tbest: 0.7352915 (299)\ttotal: 25.9s\tremaining: 2m 36s\n",
      "600:\ttest: 0.7355456\tbest: 0.7355583 (564)\ttotal: 54.8s\tremaining: 2m 18s\n"
     ]
    },
    {
     "name": "stderr",
     "output_type": "stream",
     "text": [
      "[I 2025-02-21 23:39:53,371] Trial 32 finished with value: 0.7355582804516765 and parameters: {'iterations': 2121, 'depth': 8, 'learning_rate': 0.04859787292000259, 'l2_leaf_reg': 32.712754099119834}. Best is trial 32 with value: 0.7355582804516765.\n"
     ]
    },
    {
     "name": "stdout",
     "output_type": "stream",
     "text": [
      "Stopped by overfitting detector  (300 iterations wait)\n",
      "\n",
      "bestTest = 0.7355582805\n",
      "bestIteration = 564\n",
      "\n",
      "Shrink model to first 565 iterations.\n",
      "저장 완료\n",
      "0:\ttest: 0.7154619\tbest: 0.7154619 (0)\ttotal: 96.2ms\tremaining: 3m 20s\n",
      "300:\ttest: 0.7349744\tbest: 0.7349774 (293)\ttotal: 25s\tremaining: 2m 27s\n",
      "600:\ttest: 0.7354288\tbest: 0.7354405 (594)\ttotal: 52.8s\tremaining: 2m 10s\n",
      "900:\ttest: 0.7353368\tbest: 0.7355094 (682)\ttotal: 1m 20s\tremaining: 1m 46s\n"
     ]
    },
    {
     "name": "stderr",
     "output_type": "stream",
     "text": [
      "[I 2025-02-21 23:41:22,213] Trial 33 finished with value: 0.7355094297733912 and parameters: {'iterations': 2083, 'depth': 8, 'learning_rate': 0.049742273381682446, 'l2_leaf_reg': 31.975149329628053}. Best is trial 32 with value: 0.7355582804516765.\n"
     ]
    },
    {
     "name": "stdout",
     "output_type": "stream",
     "text": [
      "Stopped by overfitting detector  (300 iterations wait)\n",
      "\n",
      "bestTest = 0.7355094298\n",
      "bestIteration = 682\n",
      "\n",
      "Shrink model to first 683 iterations.\n",
      "0:\ttest: 0.7120958\tbest: 0.7120958 (0)\ttotal: 82.9ms\tremaining: 2m 57s\n",
      "300:\ttest: 0.7347334\tbest: 0.7347513 (293)\ttotal: 22.3s\tremaining: 2m 16s\n",
      "600:\ttest: 0.7350264\tbest: 0.7351500 (422)\ttotal: 46.4s\tremaining: 1m 59s\n"
     ]
    },
    {
     "name": "stderr",
     "output_type": "stream",
     "text": [
      "[I 2025-02-21 23:42:18,762] Trial 34 finished with value: 0.7351499736076874 and parameters: {'iterations': 2143, 'depth': 7, 'learning_rate': 0.05090657887934604, 'l2_leaf_reg': 31.96969516450463}. Best is trial 32 with value: 0.7355582804516765.\n"
     ]
    },
    {
     "name": "stdout",
     "output_type": "stream",
     "text": [
      "Stopped by overfitting detector  (300 iterations wait)\n",
      "\n",
      "bestTest = 0.7351499736\n",
      "bestIteration = 422\n",
      "\n",
      "Shrink model to first 423 iterations.\n",
      "0:\ttest: 0.7154600\tbest: 0.7154600 (0)\ttotal: 96.2ms\tremaining: 3m 11s\n",
      "300:\ttest: 0.7350752\tbest: 0.7350932 (264)\ttotal: 26.1s\tremaining: 2m 26s\n",
      "600:\ttest: 0.7353592\tbest: 0.7354702 (511)\ttotal: 53.9s\tremaining: 2m 4s\n"
     ]
    },
    {
     "name": "stderr",
     "output_type": "stream",
     "text": [
      "[I 2025-02-21 23:43:32,511] Trial 35 finished with value: 0.7354702412120286 and parameters: {'iterations': 1988, 'depth': 8, 'learning_rate': 0.06346004682217586, 'l2_leaf_reg': 83.50492379655651}. Best is trial 32 with value: 0.7355582804516765.\n"
     ]
    },
    {
     "name": "stdout",
     "output_type": "stream",
     "text": [
      "Stopped by overfitting detector  (300 iterations wait)\n",
      "\n",
      "bestTest = 0.7354702412\n",
      "bestIteration = 511\n",
      "\n",
      "Shrink model to first 512 iterations.\n",
      "0:\ttest: 0.7154542\tbest: 0.7154542 (0)\ttotal: 91.8ms\tremaining: 3m 3s\n",
      "300:\ttest: 0.7347883\tbest: 0.7348159 (285)\ttotal: 25.5s\tremaining: 2m 23s\n",
      "600:\ttest: 0.7351210\tbest: 0.7351488 (572)\ttotal: 52.9s\tremaining: 2m 3s\n",
      "900:\ttest: 0.7350839\tbest: 0.7351918 (839)\ttotal: 1m 21s\tremaining: 1m 38s\n"
     ]
    },
    {
     "name": "stderr",
     "output_type": "stream",
     "text": [
      "[I 2025-02-21 23:45:16,000] Trial 36 finished with value: 0.735191767326757 and parameters: {'iterations': 1998, 'depth': 8, 'learning_rate': 0.06645361536030593, 'l2_leaf_reg': 86.35381648887166}. Best is trial 32 with value: 0.7355582804516765.\n"
     ]
    },
    {
     "name": "stdout",
     "output_type": "stream",
     "text": [
      "Stopped by overfitting detector  (300 iterations wait)\n",
      "\n",
      "bestTest = 0.7351917673\n",
      "bestIteration = 839\n",
      "\n",
      "Shrink model to first 840 iterations.\n",
      "0:\ttest: 0.7227346\tbest: 0.7227346 (0)\ttotal: 126ms\tremaining: 4m 43s\n",
      "300:\ttest: 0.7346529\tbest: 0.7346802 (244)\ttotal: 42.3s\tremaining: 4m 34s\n",
      "600:\ttest: 0.7334414\tbest: 0.7347000 (313)\ttotal: 1m 31s\tremaining: 4m 12s\n"
     ]
    },
    {
     "name": "stderr",
     "output_type": "stream",
     "text": [
      "[I 2025-02-21 23:46:50,188] Trial 37 finished with value: 0.7346999921829384 and parameters: {'iterations': 2254, 'depth': 10, 'learning_rate': 0.07999083692874183, 'l2_leaf_reg': 28.917569147361824}. Best is trial 32 with value: 0.7355582804516765.\n"
     ]
    },
    {
     "name": "stdout",
     "output_type": "stream",
     "text": [
      "Stopped by overfitting detector  (300 iterations wait)\n",
      "\n",
      "bestTest = 0.7346999922\n",
      "bestIteration = 313\n",
      "\n",
      "Shrink model to first 314 iterations.\n",
      "0:\ttest: 0.7154771\tbest: 0.7154771 (0)\ttotal: 95.9ms\tremaining: 3m 52s\n",
      "300:\ttest: 0.7356051\tbest: 0.7356217 (270)\ttotal: 25.9s\tremaining: 3m 2s\n",
      "600:\ttest: 0.7355838\tbest: 0.7358506 (395)\ttotal: 53.3s\tremaining: 2m 42s\n"
     ]
    },
    {
     "name": "stderr",
     "output_type": "stream",
     "text": [
      "[I 2025-02-21 23:47:52,642] Trial 38 finished with value: 0.7358505862947133 and parameters: {'iterations': 2427, 'depth': 8, 'learning_rate': 0.07321769294292448, 'l2_leaf_reg': 37.69435319203417}. Best is trial 38 with value: 0.7358505862947133.\n"
     ]
    },
    {
     "name": "stdout",
     "output_type": "stream",
     "text": [
      "Stopped by overfitting detector  (300 iterations wait)\n",
      "\n",
      "bestTest = 0.7358505863\n",
      "bestIteration = 395\n",
      "\n",
      "Shrink model to first 396 iterations.\n",
      "저장 완료\n",
      "0:\ttest: 0.7200596\tbest: 0.7200596 (0)\ttotal: 112ms\tremaining: 4m 32s\n",
      "300:\ttest: 0.7346860\tbest: 0.7349367 (221)\ttotal: 30.6s\tremaining: 3m 37s\n"
     ]
    },
    {
     "name": "stderr",
     "output_type": "stream",
     "text": [
      "[I 2025-02-21 23:48:47,726] Trial 39 finished with value: 0.7349366763204175 and parameters: {'iterations': 2436, 'depth': 9, 'learning_rate': 0.07368726918707895, 'l2_leaf_reg': 7.155477229835642}. Best is trial 38 with value: 0.7358505862947133.\n",
      "[I 2025-02-21 23:48:47,729] A new study created in memory with name: no-name-8e93395c-21d6-4218-adf1-ddfae9e794a5\n"
     ]
    },
    {
     "name": "stdout",
     "output_type": "stream",
     "text": [
      "Stopped by overfitting detector  (300 iterations wait)\n",
      "\n",
      "bestTest = 0.7349366763\n",
      "bestIteration = 221\n",
      "\n",
      "Shrink model to first 222 iterations.\n"
     ]
    },
    {
     "name": "stderr",
     "output_type": "stream",
     "text": [
      "[I 2025-02-21 23:49:11,082] Trial 0 finished with value: 0.7244809711735646 and parameters: {'num_iterations': 2366, 'objective': 'binary', 'metric': 'auc', 'verbose': -1, 'learning_rate': 0.0652646236447618, 'n_estimators': 236, 'min_child_samples': 45, 'subsample': 0.7, 'colsample_bytree': 0.5}. Best is trial 0 with value: 0.7244809711735646.\n",
      "[I 2025-02-21 23:49:27,950] Trial 1 finished with value: 0.7349562030893898 and parameters: {'num_iterations': 1510, 'objective': 'binary', 'metric': 'auc', 'verbose': -1, 'learning_rate': 0.005231880959249543, 'n_estimators': 1411, 'min_child_samples': 10, 'subsample': 1.0, 'colsample_bytree': 0.5}. Best is trial 1 with value: 0.7349562030893898.\n",
      "[I 2025-02-21 23:49:47,200] Trial 2 finished with value: 0.7346403475737873 and parameters: {'num_iterations': 2334, 'objective': 'binary', 'metric': 'auc', 'verbose': -1, 'learning_rate': 0.006578527777128852, 'n_estimators': 931, 'min_child_samples': 15, 'subsample': 0.5, 'colsample_bytree': 1.0}. Best is trial 1 with value: 0.7349562030893898.\n",
      "[I 2025-02-21 23:50:03,260] Trial 3 finished with value: 0.7349909041077507 and parameters: {'num_iterations': 1620, 'objective': 'binary', 'metric': 'auc', 'verbose': -1, 'learning_rate': 0.0058823249237283685, 'n_estimators': 837, 'min_child_samples': 10, 'subsample': 0.9, 'colsample_bytree': 0.6}. Best is trial 3 with value: 0.7349909041077507.\n",
      "[I 2025-02-21 23:50:19,362] Trial 4 finished with value: 0.7345175278902386 and parameters: {'num_iterations': 1997, 'objective': 'binary', 'metric': 'auc', 'verbose': -1, 'learning_rate': 0.010907507425244923, 'n_estimators': 1597, 'min_child_samples': 50, 'subsample': 0.6, 'colsample_bytree': 0.8}. Best is trial 3 with value: 0.7349909041077507.\n",
      "[I 2025-02-21 23:50:41,730] Trial 5 finished with value: 0.7312994591772025 and parameters: {'num_iterations': 2909, 'objective': 'binary', 'metric': 'auc', 'verbose': -1, 'learning_rate': 0.019760591962733942, 'n_estimators': 612, 'min_child_samples': 30, 'subsample': 0.7, 'colsample_bytree': 0.9}. Best is trial 3 with value: 0.7349909041077507.\n",
      "[I 2025-02-21 23:51:02,034] Trial 6 finished with value: 0.7324730668391493 and parameters: {'num_iterations': 2639, 'objective': 'binary', 'metric': 'auc', 'verbose': -1, 'learning_rate': 0.017862094446750985, 'n_estimators': 794, 'min_child_samples': 35, 'subsample': 1.0, 'colsample_bytree': 0.8}. Best is trial 3 with value: 0.7349909041077507.\n",
      "[I 2025-02-21 23:51:18,483] Trial 7 finished with value: 0.7345201648181616 and parameters: {'num_iterations': 1580, 'objective': 'binary', 'metric': 'auc', 'verbose': -1, 'learning_rate': 0.01776722177611332, 'n_estimators': 529, 'min_child_samples': 25, 'subsample': 0.8, 'colsample_bytree': 0.5}. Best is trial 3 with value: 0.7349909041077507.\n",
      "[I 2025-02-21 23:51:35,743] Trial 8 finished with value: 0.7327310807053553 and parameters: {'num_iterations': 1911, 'objective': 'binary', 'metric': 'auc', 'verbose': -1, 'learning_rate': 0.0304747553332844, 'n_estimators': 1328, 'min_child_samples': 10, 'subsample': 0.7, 'colsample_bytree': 0.6}. Best is trial 3 with value: 0.7349909041077507.\n",
      "[I 2025-02-21 23:52:03,252] Trial 9 finished with value: 0.7310895732168692 and parameters: {'num_iterations': 2739, 'objective': 'binary', 'metric': 'auc', 'verbose': -1, 'learning_rate': 0.02691531614176271, 'n_estimators': 1438, 'min_child_samples': 20, 'subsample': 0.6, 'colsample_bytree': 0.5}. Best is trial 3 with value: 0.7349909041077507.\n",
      "[I 2025-02-21 23:52:17,498] Trial 10 finished with value: 0.7233606977616278 and parameters: {'num_iterations': 1883, 'objective': 'binary', 'metric': 'auc', 'verbose': -1, 'learning_rate': 0.08223556891145911, 'n_estimators': 1917, 'min_child_samples': 40, 'subsample': 0.9, 'colsample_bytree': 0.7}. Best is trial 3 with value: 0.7349909041077507.\n",
      "[I 2025-02-21 23:52:32,619] Trial 11 finished with value: 0.7349940533304058 and parameters: {'num_iterations': 1513, 'objective': 'binary', 'metric': 'auc', 'verbose': -1, 'learning_rate': 0.005340229419903739, 'n_estimators': 1206, 'min_child_samples': 10, 'subsample': 1.0, 'colsample_bytree': 0.6}. Best is trial 11 with value: 0.7349940533304058.\n",
      "[I 2025-02-21 23:52:47,037] Trial 12 finished with value: 0.7350559496536118 and parameters: {'num_iterations': 1717, 'objective': 'binary', 'metric': 'auc', 'verbose': -1, 'learning_rate': 0.008807202863131344, 'n_estimators': 1093, 'min_child_samples': 20, 'subsample': 0.9, 'colsample_bytree': 0.7}. Best is trial 12 with value: 0.7350559496536118.\n",
      "[I 2025-02-21 23:53:01,753] Trial 13 finished with value: 0.7348712892447351 and parameters: {'num_iterations': 1779, 'objective': 'binary', 'metric': 'auc', 'verbose': -1, 'learning_rate': 0.010172210826878539, 'n_estimators': 1108, 'min_child_samples': 20, 'subsample': 0.9, 'colsample_bytree': 0.7}. Best is trial 12 with value: 0.7350559496536118.\n",
      "[I 2025-02-21 23:53:22,089] Trial 14 finished with value: 0.7347212821988954 and parameters: {'num_iterations': 2165, 'objective': 'binary', 'metric': 'auc', 'verbose': -1, 'learning_rate': 0.009457571486660106, 'n_estimators': 1215, 'min_child_samples': 20, 'subsample': 1.0, 'colsample_bytree': 0.6}. Best is trial 12 with value: 0.7350559496536118.\n",
      "[I 2025-02-21 23:53:36,742] Trial 15 finished with value: 0.7350625260883114 and parameters: {'num_iterations': 1742, 'objective': 'binary', 'metric': 'auc', 'verbose': -1, 'learning_rate': 0.008303365162986591, 'n_estimators': 1741, 'min_child_samples': 25, 'subsample': 0.8, 'colsample_bytree': 0.7}. Best is trial 15 with value: 0.7350625260883114.\n",
      "[I 2025-02-21 23:53:53,727] Trial 16 finished with value: 0.7342619206178901 and parameters: {'num_iterations': 2134, 'objective': 'binary', 'metric': 'auc', 'verbose': -1, 'learning_rate': 0.012338061435707095, 'n_estimators': 1973, 'min_child_samples': 30, 'subsample': 0.8, 'colsample_bytree': 0.8}. Best is trial 15 with value: 0.7350625260883114.\n",
      "[I 2025-02-21 23:54:08,753] Trial 17 finished with value: 0.7350865364290083 and parameters: {'num_iterations': 1769, 'objective': 'binary', 'metric': 'auc', 'verbose': -1, 'learning_rate': 0.008166258047721095, 'n_estimators': 1674, 'min_child_samples': 25, 'subsample': 0.8, 'colsample_bytree': 0.7}. Best is trial 17 with value: 0.7350865364290083.\n",
      "[I 2025-02-21 23:54:24,193] Trial 18 finished with value: 0.7288848790816844 and parameters: {'num_iterations': 2037, 'objective': 'binary', 'metric': 'auc', 'verbose': -1, 'learning_rate': 0.04317425710723184, 'n_estimators': 1721, 'min_child_samples': 35, 'subsample': 0.8, 'colsample_bytree': 0.9}. Best is trial 17 with value: 0.7350865364290083.\n",
      "[I 2025-02-21 23:54:38,321] Trial 19 finished with value: 0.7344325584477059 and parameters: {'num_iterations': 1768, 'objective': 'binary', 'metric': 'auc', 'verbose': -1, 'learning_rate': 0.013860352718094554, 'n_estimators': 1718, 'min_child_samples': 30, 'subsample': 0.6, 'colsample_bytree': 0.9}. Best is trial 17 with value: 0.7350865364290083.\n",
      "[I 2025-02-21 23:54:58,899] Trial 20 finished with value: 0.734636753568109 and parameters: {'num_iterations': 2501, 'objective': 'binary', 'metric': 'auc', 'verbose': -1, 'learning_rate': 0.007877155758725746, 'n_estimators': 1621, 'min_child_samples': 25, 'subsample': 0.8, 'colsample_bytree': 0.7}. Best is trial 17 with value: 0.7350865364290083.\n",
      "[I 2025-02-21 23:55:13,520] Trial 21 finished with value: 0.7349238332106235 and parameters: {'num_iterations': 1726, 'objective': 'binary', 'metric': 'auc', 'verbose': -1, 'learning_rate': 0.007994000704152805, 'n_estimators': 1852, 'min_child_samples': 25, 'subsample': 0.9, 'colsample_bytree': 0.7}. Best is trial 17 with value: 0.7350865364290083.\n",
      "[I 2025-02-21 23:55:27,254] Trial 22 finished with value: 0.7344226659967176 and parameters: {'num_iterations': 1677, 'objective': 'binary', 'metric': 'auc', 'verbose': -1, 'learning_rate': 0.013944970165771392, 'n_estimators': 1532, 'min_child_samples': 15, 'subsample': 0.9, 'colsample_bytree': 0.7}. Best is trial 17 with value: 0.7350865364290083.\n",
      "[I 2025-02-21 23:55:42,848] Trial 23 finished with value: 0.7352289781921771 and parameters: {'num_iterations': 1872, 'objective': 'binary', 'metric': 'auc', 'verbose': -1, 'learning_rate': 0.007305732077404912, 'n_estimators': 119, 'min_child_samples': 25, 'subsample': 0.8, 'colsample_bytree': 0.8}. Best is trial 23 with value: 0.7352289781921771.\n",
      "[I 2025-02-21 23:55:58,554] Trial 24 finished with value: 0.7351326628112769 and parameters: {'num_iterations': 1870, 'objective': 'binary', 'metric': 'auc', 'verbose': -1, 'learning_rate': 0.007123329301124892, 'n_estimators': 308, 'min_child_samples': 35, 'subsample': 0.8, 'colsample_bytree': 0.8}. Best is trial 23 with value: 0.7352289781921771.\n",
      "[I 2025-02-21 23:56:13,570] Trial 25 finished with value: 0.7337582038441548 and parameters: {'num_iterations': 1896, 'objective': 'binary', 'metric': 'auc', 'verbose': -1, 'learning_rate': 0.014927968508440772, 'n_estimators': 136, 'min_child_samples': 35, 'subsample': 0.7, 'colsample_bytree': 0.8}. Best is trial 23 with value: 0.7352289781921771.\n",
      "[I 2025-02-21 23:56:30,775] Trial 26 finished with value: 0.7347531834669766 and parameters: {'num_iterations': 2074, 'objective': 'binary', 'metric': 'auc', 'verbose': -1, 'learning_rate': 0.006671291813611115, 'n_estimators': 368, 'min_child_samples': 40, 'subsample': 0.8, 'colsample_bytree': 1.0}. Best is trial 23 with value: 0.7352289781921771.\n",
      "[I 2025-02-21 23:56:49,417] Trial 27 finished with value: 0.7347976577980162 and parameters: {'num_iterations': 2269, 'objective': 'binary', 'metric': 'auc', 'verbose': -1, 'learning_rate': 0.006916289013551441, 'n_estimators': 400, 'min_child_samples': 40, 'subsample': 0.7, 'colsample_bytree': 0.9}. Best is trial 23 with value: 0.7352289781921771.\n",
      "[I 2025-02-21 23:57:04,454] Trial 28 finished with value: 0.7348487085637554 and parameters: {'num_iterations': 1857, 'objective': 'binary', 'metric': 'auc', 'verbose': -1, 'learning_rate': 0.011056543611388372, 'n_estimators': 109, 'min_child_samples': 30, 'subsample': 0.8, 'colsample_bytree': 0.8}. Best is trial 23 with value: 0.7352289781921771.\n",
      "[I 2025-02-21 23:57:19,570] Trial 29 finished with value: 0.7292591163403546 and parameters: {'num_iterations': 2000, 'objective': 'binary', 'metric': 'auc', 'verbose': -1, 'learning_rate': 0.04030098468148633, 'n_estimators': 277, 'min_child_samples': 45, 'subsample': 0.7, 'colsample_bytree': 0.8}. Best is trial 23 with value: 0.7352289781921771.\n",
      "[I 2025-02-21 23:57:39,677] Trial 30 finished with value: 0.7347339585150556 and parameters: {'num_iterations': 2462, 'objective': 'binary', 'metric': 'auc', 'verbose': -1, 'learning_rate': 0.00678574707717395, 'n_estimators': 653, 'min_child_samples': 35, 'subsample': 0.5, 'colsample_bytree': 0.9}. Best is trial 23 with value: 0.7352289781921771.\n",
      "[I 2025-02-21 23:57:54,998] Trial 31 finished with value: 0.7350542936311059 and parameters: {'num_iterations': 1834, 'objective': 'binary', 'metric': 'auc', 'verbose': -1, 'learning_rate': 0.008741628462669689, 'n_estimators': 253, 'min_child_samples': 25, 'subsample': 0.8, 'colsample_bytree': 0.7}. Best is trial 23 with value: 0.7352289781921771.\n",
      "[I 2025-02-21 23:58:09,048] Trial 32 finished with value: 0.7351954248728672 and parameters: {'num_iterations': 1617, 'objective': 'binary', 'metric': 'auc', 'verbose': -1, 'learning_rate': 0.005289783064976956, 'n_estimators': 1800, 'min_child_samples': 25, 'subsample': 0.8, 'colsample_bytree': 0.8}. Best is trial 23 with value: 0.7352289781921771.\n",
      "[I 2025-02-21 23:58:23,030] Trial 33 finished with value: 0.7352807199601131 and parameters: {'num_iterations': 1598, 'objective': 'binary', 'metric': 'auc', 'verbose': -1, 'learning_rate': 0.005132527104019475, 'n_estimators': 500, 'min_child_samples': 30, 'subsample': 0.8, 'colsample_bytree': 0.8}. Best is trial 33 with value: 0.7352807199601131.\n",
      "[I 2025-02-21 23:58:36,978] Trial 34 finished with value: 0.7352058733026345 and parameters: {'num_iterations': 1607, 'objective': 'binary', 'metric': 'auc', 'verbose': -1, 'learning_rate': 0.00553089348166335, 'n_estimators': 460, 'min_child_samples': 30, 'subsample': 0.9, 'colsample_bytree': 0.8}. Best is trial 33 with value: 0.7352807199601131.\n",
      "[I 2025-02-21 23:58:50,949] Trial 35 finished with value: 0.735140569623769 and parameters: {'num_iterations': 1600, 'objective': 'binary', 'metric': 'auc', 'verbose': -1, 'learning_rate': 0.005128089288157065, 'n_estimators': 487, 'min_child_samples': 30, 'subsample': 0.9, 'colsample_bytree': 0.9}. Best is trial 33 with value: 0.7352807199601131.\n",
      "[I 2025-02-21 23:59:04,100] Trial 36 finished with value: 0.7351886816445338 and parameters: {'num_iterations': 1509, 'objective': 'binary', 'metric': 'auc', 'verbose': -1, 'learning_rate': 0.00570115931769023, 'n_estimators': 910, 'min_child_samples': 15, 'subsample': 0.9, 'colsample_bytree': 0.8}. Best is trial 33 with value: 0.7352807199601131.\n",
      "[I 2025-02-21 23:59:18,168] Trial 37 finished with value: 0.7351862115102444 and parameters: {'num_iterations': 1642, 'objective': 'binary', 'metric': 'auc', 'verbose': -1, 'learning_rate': 0.005899937752751225, 'n_estimators': 726, 'min_child_samples': 30, 'subsample': 0.9, 'colsample_bytree': 1.0}. Best is trial 33 with value: 0.7352807199601131.\n",
      "[I 2025-02-21 23:59:32,098] Trial 38 finished with value: 0.7352369485451012 and parameters: {'num_iterations': 1602, 'objective': 'binary', 'metric': 'auc', 'verbose': -1, 'learning_rate': 0.005292806091425668, 'n_estimators': 473, 'min_child_samples': 20, 'subsample': 1.0, 'colsample_bytree': 0.8}. Best is trial 33 with value: 0.7352807199601131.\n",
      "[I 2025-02-21 23:59:45,720] Trial 39 finished with value: 0.735172053907766 and parameters: {'num_iterations': 1555, 'objective': 'binary', 'metric': 'auc', 'verbose': -1, 'learning_rate': 0.005021503452744979, 'n_estimators': 545, 'min_child_samples': 20, 'subsample': 1.0, 'colsample_bytree': 0.9}. Best is trial 33 with value: 0.7352807199601131.\n"
     ]
    },
    {
     "name": "stdout",
     "output_type": "stream",
     "text": [
      "Cat val score : 0.7358505862947133\n",
      "LGBM val score : 0.7351776216381094\n",
      "Ensemble val score : 0.7359361792277338\n"
     ]
    },
    {
     "name": "stderr",
     "output_type": "stream",
     "text": [
      "[I 2025-02-22 00:00:00,887] A new study created in memory with name: no-name-60b4e491-68e0-40cb-9eb6-40086702ed46\n"
     ]
    },
    {
     "name": "stdout",
     "output_type": "stream",
     "text": [
      "==================================================\n",
      "0:\ttest: 0.7276999\tbest: 0.7276999 (0)\ttotal: 146ms\tremaining: 5m 44s\n",
      "300:\ttest: 0.7398668\tbest: 0.7398668 (300)\ttotal: 37.6s\tremaining: 4m 17s\n",
      "600:\ttest: 0.7415244\tbest: 0.7415244 (600)\ttotal: 1m 16s\tremaining: 3m 46s\n",
      "900:\ttest: 0.7421781\tbest: 0.7421802 (899)\ttotal: 1m 56s\tremaining: 3m 10s\n",
      "1200:\ttest: 0.7424817\tbest: 0.7424817 (1200)\ttotal: 2m 38s\tremaining: 2m 33s\n",
      "1500:\ttest: 0.7426042\tbest: 0.7426087 (1497)\ttotal: 3m 25s\tremaining: 1m 58s\n"
     ]
    },
    {
     "name": "stderr",
     "output_type": "stream",
     "text": [
      "[I 2025-02-22 00:04:14,416] Trial 0 finished with value: 0.7426087347157264 and parameters: {'iterations': 2366, 'depth': 10, 'learning_rate': 0.01181021951839225, 'l2_leaf_reg': 9.980783802743254}. Best is trial 0 with value: 0.7426087347157264.\n"
     ]
    },
    {
     "name": "stdout",
     "output_type": "stream",
     "text": [
      "Stopped by overfitting detector  (300 iterations wait)\n",
      "\n",
      "bestTest = 0.7426087347\n",
      "bestIteration = 1497\n",
      "\n",
      "Shrink model to first 1498 iterations.\n",
      "저장 완료\n",
      "0:\ttest: 0.6943640\tbest: 0.6943640 (0)\ttotal: 53.7ms\tremaining: 1m 57s\n",
      "300:\ttest: 0.7293559\tbest: 0.7293559 (300)\ttotal: 12.9s\tremaining: 1m 20s\n",
      "600:\ttest: 0.7343203\tbest: 0.7343203 (600)\ttotal: 26.1s\tremaining: 1m 9s\n",
      "900:\ttest: 0.7366064\tbest: 0.7366064 (900)\ttotal: 39.6s\tremaining: 56.8s\n",
      "1200:\ttest: 0.7379071\tbest: 0.7379071 (1200)\ttotal: 53.2s\tremaining: 43.9s\n",
      "1500:\ttest: 0.7387880\tbest: 0.7387880 (1500)\ttotal: 1m 6s\tremaining: 30.9s\n",
      "1800:\ttest: 0.7393767\tbest: 0.7393771 (1799)\ttotal: 1m 20s\tremaining: 17.6s\n",
      "2100:\ttest: 0.7398518\tbest: 0.7398518 (2100)\ttotal: 1m 34s\tremaining: 4.15s\n"
     ]
    },
    {
     "name": "stderr",
     "output_type": "stream",
     "text": [
      "[I 2025-02-22 00:05:53,923] Trial 1 finished with value: 0.740013040561686 and parameters: {'iterations': 2193, 'depth': 4, 'learning_rate': 0.005671430811678843, 'l2_leaf_reg': 0.00012325230809466137}. Best is trial 0 with value: 0.7426087347157264.\n"
     ]
    },
    {
     "name": "stdout",
     "output_type": "stream",
     "text": [
      "2192:\ttest: 0.7400130\tbest: 0.7400130 (2192)\ttotal: 1m 39s\tremaining: 0us\n",
      "\n",
      "bestTest = 0.7400130406\n",
      "bestIteration = 2192\n",
      "\n",
      "0:\ttest: 0.6943640\tbest: 0.6943640 (0)\ttotal: 53.2ms\tremaining: 2m 14s\n",
      "300:\ttest: 0.7417021\tbest: 0.7417255 (297)\ttotal: 14.2s\tremaining: 1m 45s\n",
      "600:\ttest: 0.7419565\tbest: 0.7420987 (559)\ttotal: 29.3s\tremaining: 1m 34s\n"
     ]
    },
    {
     "name": "stderr",
     "output_type": "stream",
     "text": [
      "[I 2025-02-22 00:06:36,186] Trial 2 finished with value: 0.742098703611573 and parameters: {'iterations': 2535, 'depth': 4, 'learning_rate': 0.09275339199839054, 'l2_leaf_reg': 0.0008705394248343123}. Best is trial 0 with value: 0.7426087347157264.\n"
     ]
    },
    {
     "name": "stdout",
     "output_type": "stream",
     "text": [
      "Stopped by overfitting detector  (300 iterations wait)\n",
      "\n",
      "bestTest = 0.7420987036\n",
      "bestIteration = 559\n",
      "\n",
      "Shrink model to first 560 iterations.\n",
      "0:\ttest: 0.6943640\tbest: 0.6943640 (0)\ttotal: 54.5ms\tremaining: 2m 7s\n",
      "300:\ttest: 0.7403322\tbest: 0.7403322 (300)\ttotal: 13.6s\tremaining: 1m 32s\n",
      "600:\ttest: 0.7413935\tbest: 0.7414061 (598)\ttotal: 28s\tremaining: 1m 20s\n",
      "900:\ttest: 0.7416791\tbest: 0.7416791 (900)\ttotal: 43.7s\tremaining: 1m 9s\n",
      "1200:\ttest: 0.7415712\tbest: 0.7417196 (1030)\ttotal: 58.4s\tremaining: 55.1s\n"
     ]
    },
    {
     "name": "stderr",
     "output_type": "stream",
     "text": [
      "[I 2025-02-22 00:07:41,201] Trial 3 finished with value: 0.7417195737396481 and parameters: {'iterations': 2334, 'depth': 4, 'learning_rate': 0.04657568321363276, 'l2_leaf_reg': 0.0008640473331457248}. Best is trial 0 with value: 0.7426087347157264.\n"
     ]
    },
    {
     "name": "stdout",
     "output_type": "stream",
     "text": [
      "Stopped by overfitting detector  (300 iterations wait)\n",
      "\n",
      "bestTest = 0.7417195737\n",
      "bestIteration = 1030\n",
      "\n",
      "Shrink model to first 1031 iterations.\n",
      "0:\ttest: 0.7276673\tbest: 0.7276673 (0)\ttotal: 131ms\tremaining: 3m 47s\n",
      "300:\ttest: 0.7395024\tbest: 0.7395024 (300)\ttotal: 37.3s\tremaining: 2m 58s\n",
      "600:\ttest: 0.7403629\tbest: 0.7404228 (516)\ttotal: 1m 17s\tremaining: 2m 27s\n",
      "900:\ttest: 0.7403105\tbest: 0.7404553 (616)\ttotal: 1m 58s\tremaining: 1m 50s\n"
     ]
    },
    {
     "name": "stderr",
     "output_type": "stream",
     "text": [
      "[I 2025-02-22 00:09:42,293] Trial 4 finished with value: 0.7404552700537455 and parameters: {'iterations': 1742, 'depth': 10, 'learning_rate': 0.012622767482095846, 'l2_leaf_reg': 0.00021158816350109617}. Best is trial 0 with value: 0.7426087347157264.\n"
     ]
    },
    {
     "name": "stdout",
     "output_type": "stream",
     "text": [
      "Stopped by overfitting detector  (300 iterations wait)\n",
      "\n",
      "bestTest = 0.7404552701\n",
      "bestIteration = 616\n",
      "\n",
      "Shrink model to first 617 iterations.\n",
      "0:\ttest: 0.6943640\tbest: 0.6943640 (0)\ttotal: 55.7ms\tremaining: 1m 55s\n",
      "300:\ttest: 0.7412453\tbest: 0.7412484 (299)\ttotal: 14.3s\tremaining: 1m 24s\n",
      "600:\ttest: 0.7415411\tbest: 0.7416729 (470)\ttotal: 29s\tremaining: 1m 11s\n"
     ]
    },
    {
     "name": "stderr",
     "output_type": "stream",
     "text": [
      "[I 2025-02-22 00:10:19,741] Trial 5 finished with value: 0.7416729032924316 and parameters: {'iterations': 2082, 'depth': 4, 'learning_rate': 0.06995196593094148, 'l2_leaf_reg': 0.0018080296485396804}. Best is trial 0 with value: 0.7426087347157264.\n"
     ]
    },
    {
     "name": "stdout",
     "output_type": "stream",
     "text": [
      "Stopped by overfitting detector  (300 iterations wait)\n",
      "\n",
      "bestTest = 0.7416729033\n",
      "bestIteration = 470\n",
      "\n",
      "Shrink model to first 471 iterations.\n",
      "0:\ttest: 0.7028774\tbest: 0.7028774 (0)\ttotal: 64.8ms\tremaining: 2m 9s\n",
      "300:\ttest: 0.7420459\tbest: 0.7420459 (300)\ttotal: 17.1s\tremaining: 1m 36s\n",
      "600:\ttest: 0.7426518\tbest: 0.7426518 (600)\ttotal: 35.5s\tremaining: 1m 22s\n",
      "900:\ttest: 0.7427593\tbest: 0.7427853 (784)\ttotal: 54.2s\tremaining: 1m 5s\n"
     ]
    },
    {
     "name": "stderr",
     "output_type": "stream",
     "text": [
      "[I 2025-02-22 00:11:25,472] Trial 6 finished with value: 0.7427853413748622 and parameters: {'iterations': 1997, 'depth': 5, 'learning_rate': 0.07985155992831598, 'l2_leaf_reg': 62.52181000710482}. Best is trial 6 with value: 0.7427853413748622.\n"
     ]
    },
    {
     "name": "stdout",
     "output_type": "stream",
     "text": [
      "Stopped by overfitting detector  (300 iterations wait)\n",
      "\n",
      "bestTest = 0.7427853414\n",
      "bestIteration = 784\n",
      "\n",
      "Shrink model to first 785 iterations.\n",
      "저장 완료\n",
      "0:\ttest: 0.7176315\tbest: 0.7176315 (0)\ttotal: 80.6ms\tremaining: 2m 35s\n",
      "300:\ttest: 0.7414624\tbest: 0.7423255 (197)\ttotal: 24.2s\tremaining: 2m 10s\n"
     ]
    },
    {
     "name": "stderr",
     "output_type": "stream",
     "text": [
      "[I 2025-02-22 00:12:06,248] Trial 7 finished with value: 0.7423254635278477 and parameters: {'iterations': 1927, 'depth': 7, 'learning_rate': 0.0941937211034094, 'l2_leaf_reg': 0.05654822767791934}. Best is trial 6 with value: 0.7427853413748622.\n"
     ]
    },
    {
     "name": "stdout",
     "output_type": "stream",
     "text": [
      "Stopped by overfitting detector  (300 iterations wait)\n",
      "\n",
      "bestTest = 0.7423254635\n",
      "bestIteration = 197\n",
      "\n",
      "Shrink model to first 198 iterations.\n",
      "0:\ttest: 0.7176310\tbest: 0.7176310 (0)\ttotal: 80ms\tremaining: 2m 32s\n",
      "300:\ttest: 0.7418203\tbest: 0.7418550 (293)\ttotal: 23.2s\tremaining: 2m 3s\n",
      "600:\ttest: 0.7417616\tbest: 0.7420941 (452)\ttotal: 49.5s\tremaining: 1m 47s\n"
     ]
    },
    {
     "name": "stderr",
     "output_type": "stream",
     "text": [
      "[I 2025-02-22 00:13:09,716] Trial 8 finished with value: 0.7420940850164307 and parameters: {'iterations': 1904, 'depth': 7, 'learning_rate': 0.05155602859187331, 'l2_leaf_reg': 1.299974533316308}. Best is trial 6 with value: 0.7427853413748622.\n"
     ]
    },
    {
     "name": "stdout",
     "output_type": "stream",
     "text": [
      "Stopped by overfitting detector  (300 iterations wait)\n",
      "\n",
      "bestTest = 0.742094085\n",
      "bestIteration = 452\n",
      "\n",
      "Shrink model to first 453 iterations.\n",
      "0:\ttest: 0.7175361\tbest: 0.7175361 (0)\ttotal: 75.7ms\tremaining: 3m 19s\n",
      "300:\ttest: 0.7414517\tbest: 0.7414517 (300)\ttotal: 20.9s\tremaining: 2m 42s\n",
      "600:\ttest: 0.7424594\tbest: 0.7424951 (594)\ttotal: 43.1s\tremaining: 2m 26s\n",
      "900:\ttest: 0.7424805\tbest: 0.7425823 (748)\ttotal: 1m 4s\tremaining: 2m 5s\n"
     ]
    },
    {
     "name": "stderr",
     "output_type": "stream",
     "text": [
      "[I 2025-02-22 00:14:25,693] Trial 9 finished with value: 0.742582305867341 and parameters: {'iterations': 2639, 'depth': 6, 'learning_rate': 0.03968704290444751, 'l2_leaf_reg': 0.30557194377967184}. Best is trial 6 with value: 0.7427853413748622.\n"
     ]
    },
    {
     "name": "stdout",
     "output_type": "stream",
     "text": [
      "Stopped by overfitting detector  (300 iterations wait)\n",
      "\n",
      "bestTest = 0.7425823059\n",
      "bestIteration = 748\n",
      "\n",
      "Shrink model to first 749 iterations.\n",
      "0:\ttest: 0.7175361\tbest: 0.7175361 (0)\ttotal: 74.3ms\tremaining: 3m 38s\n",
      "300:\ttest: 0.7421740\tbest: 0.7421740 (300)\ttotal: 20.4s\tremaining: 2m 59s\n",
      "600:\ttest: 0.7427999\tbest: 0.7427999 (600)\ttotal: 41.7s\tremaining: 2m 42s\n",
      "900:\ttest: 0.7428935\tbest: 0.7429361 (815)\ttotal: 1m 3s\tremaining: 2m 23s\n",
      "1200:\ttest: 0.7428247\tbest: 0.7429930 (1001)\ttotal: 1m 24s\tremaining: 2m 2s\n"
     ]
    },
    {
     "name": "stderr",
     "output_type": "stream",
     "text": [
      "[I 2025-02-22 00:15:57,768] Trial 10 finished with value: 0.7429930391615726 and parameters: {'iterations': 2945, 'depth': 6, 'learning_rate': 0.07265276039199581, 'l2_leaf_reg': 97.18545559492516}. Best is trial 10 with value: 0.7429930391615726.\n"
     ]
    },
    {
     "name": "stdout",
     "output_type": "stream",
     "text": [
      "Stopped by overfitting detector  (300 iterations wait)\n",
      "\n",
      "bestTest = 0.7429930392\n",
      "bestIteration = 1001\n",
      "\n",
      "Shrink model to first 1002 iterations.\n",
      "저장 완료\n",
      "0:\ttest: 0.7175361\tbest: 0.7175361 (0)\ttotal: 73.9ms\tremaining: 3m 41s\n",
      "300:\ttest: 0.7422888\tbest: 0.7423082 (290)\ttotal: 19.8s\tremaining: 2m 56s\n",
      "600:\ttest: 0.7426348\tbest: 0.7426367 (596)\ttotal: 41.3s\tremaining: 2m 44s\n",
      "900:\ttest: 0.7427150\tbest: 0.7427343 (883)\ttotal: 1m 2s\tremaining: 2m 25s\n",
      "1200:\ttest: 0.7425930\tbest: 0.7427547 (923)\ttotal: 1m 23s\tremaining: 2m 4s\n"
     ]
    },
    {
     "name": "stderr",
     "output_type": "stream",
     "text": [
      "[I 2025-02-22 00:17:23,394] Trial 11 finished with value: 0.7427547188579726 and parameters: {'iterations': 2994, 'depth': 6, 'learning_rate': 0.07131044509072976, 'l2_leaf_reg': 73.1213351392818}. Best is trial 10 with value: 0.7429930391615726.\n"
     ]
    },
    {
     "name": "stdout",
     "output_type": "stream",
     "text": [
      "Stopped by overfitting detector  (300 iterations wait)\n",
      "\n",
      "bestTest = 0.7427547189\n",
      "bestIteration = 923\n",
      "\n",
      "Shrink model to first 924 iterations.\n",
      "0:\ttest: 0.7175361\tbest: 0.7175361 (0)\ttotal: 75.2ms\tremaining: 1m 59s\n",
      "300:\ttest: 0.7422580\tbest: 0.7422858 (263)\ttotal: 20s\tremaining: 1m 25s\n",
      "600:\ttest: 0.7425953\tbest: 0.7426511 (542)\ttotal: 41.3s\tremaining: 1m 7s\n",
      "900:\ttest: 0.7427282\tbest: 0.7427504 (893)\ttotal: 1m 2s\tremaining: 47.9s\n",
      "1200:\ttest: 0.7426707\tbest: 0.7427580 (992)\ttotal: 1m 24s\tremaining: 27.2s\n"
     ]
    },
    {
     "name": "stderr",
     "output_type": "stream",
     "text": [
      "[I 2025-02-22 00:18:54,780] Trial 12 finished with value: 0.7427580070753224 and parameters: {'iterations': 1588, 'depth': 6, 'learning_rate': 0.07382783813729096, 'l2_leaf_reg': 87.13438924619796}. Best is trial 10 with value: 0.7429930391615726.\n"
     ]
    },
    {
     "name": "stdout",
     "output_type": "stream",
     "text": [
      "Stopped by overfitting detector  (300 iterations wait)\n",
      "\n",
      "bestTest = 0.7427580071\n",
      "bestIteration = 992\n",
      "\n",
      "Shrink model to first 993 iterations.\n",
      "0:\ttest: 0.7028774\tbest: 0.7028774 (0)\ttotal: 64.7ms\tremaining: 3m 12s\n",
      "300:\ttest: 0.7422585\tbest: 0.7423140 (280)\ttotal: 17.9s\tremaining: 2m 38s\n",
      "600:\ttest: 0.7425258\tbest: 0.7425567 (532)\ttotal: 36s\tremaining: 2m 22s\n"
     ]
    },
    {
     "name": "stderr",
     "output_type": "stream",
     "text": [
      "[I 2025-02-22 00:19:45,173] Trial 13 finished with value: 0.742556707015847 and parameters: {'iterations': 2975, 'depth': 5, 'learning_rate': 0.07888750974731618, 'l2_leaf_reg': 6.819372056732044}. Best is trial 10 with value: 0.7429930391615726.\n"
     ]
    },
    {
     "name": "stdout",
     "output_type": "stream",
     "text": [
      "Stopped by overfitting detector  (300 iterations wait)\n",
      "\n",
      "bestTest = 0.742556707\n",
      "bestIteration = 532\n",
      "\n",
      "Shrink model to first 533 iterations.\n",
      "0:\ttest: 0.7201628\tbest: 0.7201628 (0)\ttotal: 96.9ms\tremaining: 4m 21s\n",
      "300:\ttest: 0.7425150\tbest: 0.7425439 (283)\ttotal: 26.3s\tremaining: 3m 29s\n",
      "600:\ttest: 0.7423875\tbest: 0.7428031 (459)\ttotal: 55.5s\tremaining: 3m 13s\n"
     ]
    },
    {
     "name": "stderr",
     "output_type": "stream",
     "text": [
      "[I 2025-02-22 00:20:56,327] Trial 14 finished with value: 0.742803053270249 and parameters: {'iterations': 2702, 'depth': 8, 'learning_rate': 0.06308101933412968, 'l2_leaf_reg': 11.438982664164415}. Best is trial 10 with value: 0.7429930391615726.\n"
     ]
    },
    {
     "name": "stdout",
     "output_type": "stream",
     "text": [
      "Stopped by overfitting detector  (300 iterations wait)\n",
      "\n",
      "bestTest = 0.7428030533\n",
      "bestIteration = 459\n",
      "\n",
      "Shrink model to first 460 iterations.\n",
      "0:\ttest: 0.7243393\tbest: 0.7243393 (0)\ttotal: 119ms\tremaining: 5m 26s\n",
      "300:\ttest: 0.7418302\tbest: 0.7418302 (300)\ttotal: 28.3s\tremaining: 3m 50s\n",
      "600:\ttest: 0.7425456\tbest: 0.7425850 (588)\ttotal: 1m 1s\tremaining: 3m 38s\n"
     ]
    },
    {
     "name": "stderr",
     "output_type": "stream",
     "text": [
      "[I 2025-02-22 00:22:30,142] Trial 15 finished with value: 0.7425849507378179 and parameters: {'iterations': 2753, 'depth': 9, 'learning_rate': 0.03259885190735587, 'l2_leaf_reg': 4.722389127363701}. Best is trial 10 with value: 0.7429930391615726.\n"
     ]
    },
    {
     "name": "stdout",
     "output_type": "stream",
     "text": [
      "Stopped by overfitting detector  (300 iterations wait)\n",
      "\n",
      "bestTest = 0.7425849507\n",
      "bestIteration = 588\n",
      "\n",
      "Shrink model to first 589 iterations.\n",
      "0:\ttest: 0.7201725\tbest: 0.7201725 (0)\ttotal: 115ms\tremaining: 5m 24s\n",
      "300:\ttest: 0.7414156\tbest: 0.7414949 (210)\ttotal: 26.2s\tremaining: 3m 39s\n",
      "600:\ttest: 0.7399978\tbest: 0.7415978 (374)\ttotal: 55s\tremaining: 3m 22s\n"
     ]
    },
    {
     "name": "stderr",
     "output_type": "stream",
     "text": [
      "[I 2025-02-22 00:23:32,457] Trial 16 finished with value: 0.7415977548179016 and parameters: {'iterations': 2815, 'depth': 8, 'learning_rate': 0.061662991475729484, 'l2_leaf_reg': 0.03562900678874207}. Best is trial 10 with value: 0.7429930391615726.\n"
     ]
    },
    {
     "name": "stdout",
     "output_type": "stream",
     "text": [
      "Stopped by overfitting detector  (300 iterations wait)\n",
      "\n",
      "bestTest = 0.7415977548\n",
      "bestIteration = 374\n",
      "\n",
      "Shrink model to first 375 iterations.\n",
      "0:\ttest: 0.7201714\tbest: 0.7201714 (0)\ttotal: 93.7ms\tremaining: 4m\n",
      "300:\ttest: 0.7424920\tbest: 0.7425204 (279)\ttotal: 26.4s\tremaining: 3m 18s\n",
      "600:\ttest: 0.7418196\tbest: 0.7425790 (311)\ttotal: 55.5s\tremaining: 3m 1s\n"
     ]
    },
    {
     "name": "stderr",
     "output_type": "stream",
     "text": [
      "[I 2025-02-22 00:24:29,201] Trial 17 finished with value: 0.7425789501382822 and parameters: {'iterations': 2565, 'depth': 8, 'learning_rate': 0.06074791161960117, 'l2_leaf_reg': 0.5610725433980096}. Best is trial 10 with value: 0.7429930391615726.\n"
     ]
    },
    {
     "name": "stdout",
     "output_type": "stream",
     "text": [
      "Stopped by overfitting detector  (300 iterations wait)\n",
      "\n",
      "bestTest = 0.7425789501\n",
      "bestIteration = 311\n",
      "\n",
      "Shrink model to first 312 iterations.\n",
      "0:\ttest: 0.7201599\tbest: 0.7201599 (0)\ttotal: 92.4ms\tremaining: 4m 20s\n",
      "300:\ttest: 0.7415299\tbest: 0.7415299 (300)\ttotal: 25.1s\tremaining: 3m 30s\n",
      "600:\ttest: 0.7424543\tbest: 0.7424759 (573)\ttotal: 52.2s\tremaining: 3m 12s\n",
      "900:\ttest: 0.7425048\tbest: 0.7425999 (718)\ttotal: 1m 20s\tremaining: 2m 51s\n"
     ]
    },
    {
     "name": "stderr",
     "output_type": "stream",
     "text": [
      "[I 2025-02-22 00:26:01,348] Trial 18 finished with value: 0.742599886710587 and parameters: {'iterations': 2818, 'depth': 8, 'learning_rate': 0.031028793579317128, 'l2_leaf_reg': 18.78674759977375}. Best is trial 10 with value: 0.7429930391615726.\n"
     ]
    },
    {
     "name": "stdout",
     "output_type": "stream",
     "text": [
      "Stopped by overfitting detector  (300 iterations wait)\n",
      "\n",
      "bestTest = 0.7425998867\n",
      "bestIteration = 718\n",
      "\n",
      "Shrink model to first 719 iterations.\n",
      "0:\ttest: 0.7176315\tbest: 0.7176315 (0)\ttotal: 81.4ms\tremaining: 3m 20s\n",
      "300:\ttest: 0.7420142\tbest: 0.7420142 (300)\ttotal: 24.1s\tremaining: 2m 52s\n"
     ]
    },
    {
     "name": "stderr",
     "output_type": "stream",
     "text": [
      "[I 2025-02-22 00:26:51,439] Trial 19 finished with value: 0.7420142424924954 and parameters: {'iterations': 2460, 'depth': 7, 'learning_rate': 0.0869018854727605, 'l2_leaf_reg': 0.011209249875988852}. Best is trial 10 with value: 0.7429930391615726.\n"
     ]
    },
    {
     "name": "stdout",
     "output_type": "stream",
     "text": [
      "600:\ttest: 0.7404285\tbest: 0.7420142 (300)\ttotal: 49.9s\tremaining: 2m 34s\n",
      "Stopped by overfitting detector  (300 iterations wait)\n",
      "\n",
      "bestTest = 0.7420142425\n",
      "bestIteration = 300\n",
      "\n",
      "Shrink model to first 301 iterations.\n",
      "0:\ttest: 0.7201690\tbest: 0.7201690 (0)\ttotal: 91.7ms\tremaining: 4m 9s\n",
      "300:\ttest: 0.7421277\tbest: 0.7421609 (287)\ttotal: 26.4s\tremaining: 3m 32s\n",
      "600:\ttest: 0.7418348\tbest: 0.7421733 (331)\ttotal: 55.5s\tremaining: 3m 16s\n"
     ]
    },
    {
     "name": "stderr",
     "output_type": "stream",
     "text": [
      "[I 2025-02-22 00:27:50,179] Trial 20 finished with value: 0.7421732881647701 and parameters: {'iterations': 2723, 'depth': 8, 'learning_rate': 0.06354510744730268, 'l2_leaf_reg': 3.5865469747817222}. Best is trial 10 with value: 0.7429930391615726.\n"
     ]
    },
    {
     "name": "stdout",
     "output_type": "stream",
     "text": [
      "Stopped by overfitting detector  (300 iterations wait)\n",
      "\n",
      "bestTest = 0.7421732882\n",
      "bestIteration = 331\n",
      "\n",
      "Shrink model to first 332 iterations.\n",
      "0:\ttest: 0.7028774\tbest: 0.7028774 (0)\ttotal: 63.6ms\tremaining: 2m 14s\n",
      "300:\ttest: 0.7420559\tbest: 0.7420587 (299)\ttotal: 17.3s\tremaining: 1m 44s\n",
      "600:\ttest: 0.7424132\tbest: 0.7424706 (515)\ttotal: 35.5s\tremaining: 1m 29s\n",
      "900:\ttest: 0.7425352\tbest: 0.7425836 (830)\ttotal: 53.9s\tremaining: 1m 12s\n",
      "1200:\ttest: 0.7425616\tbest: 0.7426435 (1142)\ttotal: 1m 12s\tremaining: 55.1s\n"
     ]
    },
    {
     "name": "stderr",
     "output_type": "stream",
     "text": [
      "[I 2025-02-22 00:29:17,280] Trial 21 finished with value: 0.7426435072170732 and parameters: {'iterations': 2118, 'depth': 5, 'learning_rate': 0.08380763788030844, 'l2_leaf_reg': 30.78589606030415}. Best is trial 10 with value: 0.7429930391615726.\n"
     ]
    },
    {
     "name": "stdout",
     "output_type": "stream",
     "text": [
      "Stopped by overfitting detector  (300 iterations wait)\n",
      "\n",
      "bestTest = 0.7426435072\n",
      "bestIteration = 1142\n",
      "\n",
      "Shrink model to first 1143 iterations.\n",
      "0:\ttest: 0.7028774\tbest: 0.7028774 (0)\ttotal: 62ms\tremaining: 3m 1s\n",
      "300:\ttest: 0.7417962\tbest: 0.7418203 (292)\ttotal: 17.8s\tremaining: 2m 35s\n",
      "600:\ttest: 0.7423053\tbest: 0.7423923 (564)\ttotal: 36.1s\tremaining: 2m 19s\n"
     ]
    },
    {
     "name": "stderr",
     "output_type": "stream",
     "text": [
      "[I 2025-02-22 00:30:10,114] Trial 22 finished with value: 0.7423923120334633 and parameters: {'iterations': 2923, 'depth': 5, 'learning_rate': 0.07959785181297444, 'l2_leaf_reg': 27.66870336275302}. Best is trial 10 with value: 0.7429930391615726.\n"
     ]
    },
    {
     "name": "stdout",
     "output_type": "stream",
     "text": [
      "Stopped by overfitting detector  (300 iterations wait)\n",
      "\n",
      "bestTest = 0.742392312\n",
      "bestIteration = 564\n",
      "\n",
      "Shrink model to first 565 iterations.\n",
      "0:\ttest: 0.7175361\tbest: 0.7175361 (0)\ttotal: 79.1ms\tremaining: 2m 37s\n",
      "300:\ttest: 0.7421908\tbest: 0.7422138 (297)\ttotal: 20.5s\tremaining: 1m 54s\n",
      "600:\ttest: 0.7423848\tbest: 0.7423951 (588)\ttotal: 41.8s\tremaining: 1m 36s\n",
      "900:\ttest: 0.7424017\tbest: 0.7425418 (754)\ttotal: 1m 3s\tremaining: 1m 16s\n"
     ]
    },
    {
     "name": "stderr",
     "output_type": "stream",
     "text": [
      "[I 2025-02-22 00:31:24,609] Trial 23 finished with value: 0.7425418425260639 and parameters: {'iterations': 1990, 'depth': 6, 'learning_rate': 0.09942678222327378, 'l2_leaf_reg': 89.42219921015187}. Best is trial 10 with value: 0.7429930391615726.\n"
     ]
    },
    {
     "name": "stdout",
     "output_type": "stream",
     "text": [
      "Stopped by overfitting detector  (300 iterations wait)\n",
      "\n",
      "bestTest = 0.7425418425\n",
      "bestIteration = 754\n",
      "\n",
      "Shrink model to first 755 iterations.\n",
      "0:\ttest: 0.7243459\tbest: 0.7243459 (0)\ttotal: 121ms\tremaining: 3m 34s\n",
      "300:\ttest: 0.7418842\tbest: 0.7423907 (232)\ttotal: 30.4s\tremaining: 2m 28s\n"
     ]
    },
    {
     "name": "stderr",
     "output_type": "stream",
     "text": [
      "[I 2025-02-22 00:32:20,766] Trial 24 finished with value: 0.7423907433790513 and parameters: {'iterations': 1773, 'depth': 9, 'learning_rate': 0.06536832485797302, 'l2_leaf_reg': 1.6951625535387}. Best is trial 10 with value: 0.7429930391615726.\n"
     ]
    },
    {
     "name": "stdout",
     "output_type": "stream",
     "text": [
      "Stopped by overfitting detector  (300 iterations wait)\n",
      "\n",
      "bestTest = 0.7423907434\n",
      "bestIteration = 232\n",
      "\n",
      "Shrink model to first 233 iterations.\n",
      "0:\ttest: 0.7028774\tbest: 0.7028774 (0)\ttotal: 61.4ms\tremaining: 2m 19s\n",
      "300:\ttest: 0.7414590\tbest: 0.7414590 (300)\ttotal: 16.9s\tremaining: 1m 50s\n",
      "600:\ttest: 0.7423887\tbest: 0.7423978 (599)\ttotal: 34.7s\tremaining: 1m 36s\n",
      "900:\ttest: 0.7424967\tbest: 0.7425021 (893)\ttotal: 52.8s\tremaining: 1m 20s\n",
      "1200:\ttest: 0.7423583\tbest: 0.7425155 (913)\ttotal: 1m 11s\tremaining: 1m 3s\n"
     ]
    },
    {
     "name": "stderr",
     "output_type": "stream",
     "text": [
      "[I 2025-02-22 00:33:32,988] Trial 25 finished with value: 0.7425155407585422 and parameters: {'iterations': 2272, 'depth': 5, 'learning_rate': 0.053921501340878766, 'l2_leaf_reg': 21.74221684680112}. Best is trial 10 with value: 0.7429930391615726.\n"
     ]
    },
    {
     "name": "stdout",
     "output_type": "stream",
     "text": [
      "Stopped by overfitting detector  (300 iterations wait)\n",
      "\n",
      "bestTest = 0.7425155408\n",
      "bestIteration = 913\n",
      "\n",
      "Shrink model to first 914 iterations.\n",
      "0:\ttest: 0.7176315\tbest: 0.7176315 (0)\ttotal: 84.4ms\tremaining: 4m 1s\n",
      "300:\ttest: 0.7424540\tbest: 0.7425535 (265)\ttotal: 23.2s\tremaining: 3m 17s\n",
      "600:\ttest: 0.7425962\tbest: 0.7426505 (580)\ttotal: 49.3s\tremaining: 3m 5s\n"
     ]
    },
    {
     "name": "stderr",
     "output_type": "stream",
     "text": [
      "[I 2025-02-22 00:34:46,510] Trial 26 finished with value: 0.7426504728369181 and parameters: {'iterations': 2867, 'depth': 7, 'learning_rate': 0.055717933695004454, 'l2_leaf_reg': 0.30721818089726916}. Best is trial 10 with value: 0.7429930391615726.\n"
     ]
    },
    {
     "name": "stdout",
     "output_type": "stream",
     "text": [
      "Stopped by overfitting detector  (300 iterations wait)\n",
      "\n",
      "bestTest = 0.7426504728\n",
      "bestIteration = 580\n",
      "\n",
      "Shrink model to first 581 iterations.\n",
      "0:\ttest: 0.7242685\tbest: 0.7242685 (0)\ttotal: 109ms\tremaining: 4m 51s\n",
      "300:\ttest: 0.7427518\tbest: 0.7427518 (300)\ttotal: 30.1s\tremaining: 3m 55s\n",
      "600:\ttest: 0.7423584\tbest: 0.7428113 (351)\ttotal: 1m 3s\tremaining: 3m 36s\n"
     ]
    },
    {
     "name": "stderr",
     "output_type": "stream",
     "text": [
      "[I 2025-02-22 00:35:55,242] Trial 27 finished with value: 0.7428112817561775 and parameters: {'iterations': 2662, 'depth': 9, 'learning_rate': 0.07702966604555435, 'l2_leaf_reg': 38.52950245731381}. Best is trial 10 with value: 0.7429930391615726.\n"
     ]
    },
    {
     "name": "stdout",
     "output_type": "stream",
     "text": [
      "Stopped by overfitting detector  (300 iterations wait)\n",
      "\n",
      "bestTest = 0.7428112818\n",
      "bestIteration = 351\n",
      "\n",
      "Shrink model to first 352 iterations.\n",
      "0:\ttest: 0.7243453\tbest: 0.7243453 (0)\ttotal: 125ms\tremaining: 5m 29s\n",
      "300:\ttest: 0.7415956\tbest: 0.7418729 (247)\ttotal: 30.5s\tremaining: 3m 57s\n"
     ]
    },
    {
     "name": "stderr",
     "output_type": "stream",
     "text": [
      "[I 2025-02-22 00:36:53,602] Trial 28 finished with value: 0.7418728928304996 and parameters: {'iterations': 2645, 'depth': 9, 'learning_rate': 0.07229529190818629, 'l2_leaf_reg': 2.0304075207350003}. Best is trial 10 with value: 0.7429930391615726.\n"
     ]
    },
    {
     "name": "stdout",
     "output_type": "stream",
     "text": [
      "Stopped by overfitting detector  (300 iterations wait)\n",
      "\n",
      "bestTest = 0.7418728928\n",
      "bestIteration = 247\n",
      "\n",
      "Shrink model to first 248 iterations.\n",
      "0:\ttest: 0.7277014\tbest: 0.7277014 (0)\ttotal: 127ms\tremaining: 5m 5s\n",
      "300:\ttest: 0.7419714\tbest: 0.7426981 (217)\ttotal: 42.2s\tremaining: 4m 55s\n"
     ]
    },
    {
     "name": "stderr",
     "output_type": "stream",
     "text": [
      "[I 2025-02-22 00:38:11,752] Trial 29 finished with value: 0.7426980963906128 and parameters: {'iterations': 2411, 'depth': 10, 'learning_rate': 0.08761825195142714, 'l2_leaf_reg': 9.626994619429544}. Best is trial 10 with value: 0.7429930391615726.\n"
     ]
    },
    {
     "name": "stdout",
     "output_type": "stream",
     "text": [
      "Stopped by overfitting detector  (300 iterations wait)\n",
      "\n",
      "bestTest = 0.7426980964\n",
      "bestIteration = 217\n",
      "\n",
      "Shrink model to first 218 iterations.\n",
      "0:\ttest: 0.7243211\tbest: 0.7243211 (0)\ttotal: 110ms\tremaining: 4m 55s\n",
      "300:\ttest: 0.7419832\tbest: 0.7419832 (300)\ttotal: 27.8s\tremaining: 3m 41s\n",
      "600:\ttest: 0.7420391\tbest: 0.7422846 (465)\ttotal: 1m\tremaining: 3m 32s\n"
     ]
    },
    {
     "name": "stderr",
     "output_type": "stream",
     "text": [
      "[I 2025-02-22 00:39:31,561] Trial 30 finished with value: 0.7422845871737633 and parameters: {'iterations': 2697, 'depth': 9, 'learning_rate': 0.04353500972201759, 'l2_leaf_reg': 11.958707278104946}. Best is trial 10 with value: 0.7429930391615726.\n"
     ]
    },
    {
     "name": "stdout",
     "output_type": "stream",
     "text": [
      "Stopped by overfitting detector  (300 iterations wait)\n",
      "\n",
      "bestTest = 0.7422845872\n",
      "bestIteration = 465\n",
      "\n",
      "Shrink model to first 466 iterations.\n",
      "0:\ttest: 0.7201475\tbest: 0.7201475 (0)\ttotal: 96ms\tremaining: 4m 4s\n",
      "300:\ttest: 0.7425271\tbest: 0.7425271 (300)\ttotal: 26.9s\tremaining: 3m 21s\n",
      "600:\ttest: 0.7426190\tbest: 0.7427497 (427)\ttotal: 55.9s\tremaining: 3m 1s\n"
     ]
    },
    {
     "name": "stderr",
     "output_type": "stream",
     "text": [
      "[I 2025-02-22 00:40:39,843] Trial 31 finished with value: 0.742749719020239 and parameters: {'iterations': 2553, 'depth': 8, 'learning_rate': 0.08011007589541393, 'l2_leaf_reg': 38.51349387716031}. Best is trial 10 with value: 0.7429930391615726.\n"
     ]
    },
    {
     "name": "stdout",
     "output_type": "stream",
     "text": [
      "Stopped by overfitting detector  (300 iterations wait)\n",
      "\n",
      "bestTest = 0.742749719\n",
      "bestIteration = 427\n",
      "\n",
      "Shrink model to first 428 iterations.\n",
      "0:\ttest: 0.7175361\tbest: 0.7175361 (0)\ttotal: 75.3ms\tremaining: 3m 34s\n",
      "300:\ttest: 0.7421278\tbest: 0.7421426 (290)\ttotal: 20s\tremaining: 2m 50s\n",
      "600:\ttest: 0.7422552\tbest: 0.7423204 (430)\ttotal: 41.4s\tremaining: 2m 35s\n"
     ]
    },
    {
     "name": "stderr",
     "output_type": "stream",
     "text": [
      "[I 2025-02-22 00:41:30,499] Trial 32 finished with value: 0.7423204120635132 and parameters: {'iterations': 2857, 'depth': 6, 'learning_rate': 0.07555663819749076, 'l2_leaf_reg': 47.75436514950268}. Best is trial 10 with value: 0.7429930391615726.\n"
     ]
    },
    {
     "name": "stdout",
     "output_type": "stream",
     "text": [
      "Stopped by overfitting detector  (300 iterations wait)\n",
      "\n",
      "bestTest = 0.7423204121\n",
      "bestIteration = 430\n",
      "\n",
      "Shrink model to first 431 iterations.\n",
      "0:\ttest: 0.7276926\tbest: 0.7276926 (0)\ttotal: 146ms\tremaining: 5m 23s\n",
      "300:\ttest: 0.7417622\tbest: 0.7419909 (237)\ttotal: 42.2s\tremaining: 4m 28s\n"
     ]
    },
    {
     "name": "stderr",
     "output_type": "stream",
     "text": [
      "[I 2025-02-22 00:42:52,241] Trial 33 finished with value: 0.7419909350678262 and parameters: {'iterations': 2217, 'depth': 10, 'learning_rate': 0.06694840942705059, 'l2_leaf_reg': 10.690828615673574}. Best is trial 10 with value: 0.7429930391615726.\n"
     ]
    },
    {
     "name": "stdout",
     "output_type": "stream",
     "text": [
      "Stopped by overfitting detector  (300 iterations wait)\n",
      "\n",
      "bestTest = 0.7419909351\n",
      "bestIteration = 237\n",
      "\n",
      "Shrink model to first 238 iterations.\n",
      "0:\ttest: 0.7028774\tbest: 0.7028774 (0)\ttotal: 64.5ms\tremaining: 2m 37s\n",
      "300:\ttest: 0.7417166\tbest: 0.7417353 (268)\ttotal: 18s\tremaining: 2m 8s\n",
      "600:\ttest: 0.7422224\tbest: 0.7422457 (566)\ttotal: 36.3s\tremaining: 1m 51s\n",
      "900:\ttest: 0.7421464\tbest: 0.7422712 (631)\ttotal: 55s\tremaining: 1m 34s\n"
     ]
    },
    {
     "name": "stderr",
     "output_type": "stream",
     "text": [
      "[I 2025-02-22 00:43:49,305] Trial 34 finished with value: 0.7422712277979604 and parameters: {'iterations': 2452, 'depth': 5, 'learning_rate': 0.09253348873603784, 'l2_leaf_reg': 51.15075349376558}. Best is trial 10 with value: 0.7429930391615726.\n"
     ]
    },
    {
     "name": "stdout",
     "output_type": "stream",
     "text": [
      "Stopped by overfitting detector  (300 iterations wait)\n",
      "\n",
      "bestTest = 0.7422712278\n",
      "bestIteration = 631\n",
      "\n",
      "Shrink model to first 632 iterations.\n",
      "0:\ttest: 0.7243451\tbest: 0.7243451 (0)\ttotal: 110ms\tremaining: 4m 15s\n",
      "300:\ttest: 0.7425299\tbest: 0.7426610 (282)\ttotal: 31.4s\tremaining: 3m 31s\n"
     ]
    },
    {
     "name": "stderr",
     "output_type": "stream",
     "text": [
      "[I 2025-02-22 00:44:53,575] Trial 35 finished with value: 0.7426609689220094 and parameters: {'iterations': 2328, 'depth': 9, 'learning_rate': 0.05847765248355065, 'l2_leaf_reg': 3.6247674169894712}. Best is trial 10 with value: 0.7429930391615726.\n"
     ]
    },
    {
     "name": "stdout",
     "output_type": "stream",
     "text": [
      "Stopped by overfitting detector  (300 iterations wait)\n",
      "\n",
      "bestTest = 0.7426609689\n",
      "bestIteration = 282\n",
      "\n",
      "Shrink model to first 283 iterations.\n",
      "0:\ttest: 0.6943640\tbest: 0.6943640 (0)\ttotal: 60.6ms\tremaining: 2m 47s\n",
      "300:\ttest: 0.7412876\tbest: 0.7412876 (300)\ttotal: 14.9s\tremaining: 2m 1s\n",
      "600:\ttest: 0.7420191\tbest: 0.7420193 (598)\ttotal: 29.3s\tremaining: 1m 45s\n",
      "900:\ttest: 0.7421441\tbest: 0.7421872 (726)\ttotal: 44s\tremaining: 1m 31s\n",
      "1200:\ttest: 0.7422416\tbest: 0.7422572 (1163)\ttotal: 58.7s\tremaining: 1m 16s\n"
     ]
    },
    {
     "name": "stderr",
     "output_type": "stream",
     "text": [
      "[I 2025-02-22 00:46:05,358] Trial 36 finished with value: 0.7422571813912378 and parameters: {'iterations': 2767, 'depth': 4, 'learning_rate': 0.08462824959815503, 'l2_leaf_reg': 95.01657150245457}. Best is trial 10 with value: 0.7429930391615726.\n"
     ]
    },
    {
     "name": "stdout",
     "output_type": "stream",
     "text": [
      "Stopped by overfitting detector  (300 iterations wait)\n",
      "\n",
      "bestTest = 0.7422571814\n",
      "bestIteration = 1163\n",
      "\n",
      "Shrink model to first 1164 iterations.\n",
      "0:\ttest: 0.7176294\tbest: 0.7176294 (0)\ttotal: 82.8ms\tremaining: 4m 1s\n",
      "300:\ttest: 0.7421560\tbest: 0.7422537 (294)\ttotal: 22.9s\tremaining: 3m 19s\n",
      "600:\ttest: 0.7421696\tbest: 0.7422755 (530)\ttotal: 48s\tremaining: 3m 5s\n"
     ]
    },
    {
     "name": "stderr",
     "output_type": "stream",
     "text": [
      "[I 2025-02-22 00:47:13,711] Trial 37 finished with value: 0.7422755048632814 and parameters: {'iterations': 2922, 'depth': 7, 'learning_rate': 0.06653362574412824, 'l2_leaf_reg': 12.028469638652902}. Best is trial 10 with value: 0.7429930391615726.\n"
     ]
    },
    {
     "name": "stdout",
     "output_type": "stream",
     "text": [
      "Stopped by overfitting detector  (300 iterations wait)\n",
      "\n",
      "bestTest = 0.7422755049\n",
      "bestIteration = 530\n",
      "\n",
      "Shrink model to first 531 iterations.\n",
      "0:\ttest: 0.7175361\tbest: 0.7175361 (0)\ttotal: 93.8ms\tremaining: 4m 10s\n",
      "300:\ttest: 0.7415024\tbest: 0.7415024 (300)\ttotal: 21.1s\tremaining: 2m 45s\n",
      "600:\ttest: 0.7424113\tbest: 0.7424396 (591)\ttotal: 43.7s\tremaining: 2m 30s\n",
      "900:\ttest: 0.7424641\tbest: 0.7425007 (820)\ttotal: 1m 6s\tremaining: 2m 10s\n",
      "1200:\ttest: 0.7424443\tbest: 0.7425290 (1060)\ttotal: 1m 28s\tremaining: 1m 47s\n"
     ]
    },
    {
     "name": "stderr",
     "output_type": "stream",
     "text": [
      "[I 2025-02-22 00:48:53,870] Trial 38 finished with value: 0.742528975588608 and parameters: {'iterations': 2667, 'depth': 6, 'learning_rate': 0.04794659715058358, 'l2_leaf_reg': 20.04454017906448}. Best is trial 10 with value: 0.7429930391615726.\n"
     ]
    },
    {
     "name": "stdout",
     "output_type": "stream",
     "text": [
      "Stopped by overfitting detector  (300 iterations wait)\n",
      "\n",
      "bestTest = 0.7425289756\n",
      "bestIteration = 1060\n",
      "\n",
      "Shrink model to first 1061 iterations.\n",
      "0:\ttest: 0.6943640\tbest: 0.6943640 (0)\ttotal: 52.5ms\tremaining: 1m 51s\n",
      "300:\ttest: 0.7357119\tbest: 0.7357119 (300)\ttotal: 13.1s\tremaining: 1m 19s\n",
      "600:\ttest: 0.7387391\tbest: 0.7387391 (600)\ttotal: 27.1s\tremaining: 1m 8s\n",
      "900:\ttest: 0.7400050\tbest: 0.7400050 (900)\ttotal: 41.2s\tremaining: 55.7s\n",
      "1200:\ttest: 0.7407190\tbest: 0.7407190 (1200)\ttotal: 56.6s\tremaining: 43.2s\n",
      "1500:\ttest: 0.7411169\tbest: 0.7411169 (1499)\ttotal: 1m 12s\tremaining: 29.8s\n",
      "1800:\ttest: 0.7413656\tbest: 0.7413656 (1800)\ttotal: 1m 28s\tremaining: 15.6s\n",
      "2100:\ttest: 0.7415287\tbest: 0.7415318 (2094)\ttotal: 1m 43s\tremaining: 888ms\n"
     ]
    },
    {
     "name": "stderr",
     "output_type": "stream",
     "text": [
      "[I 2025-02-22 00:50:38,797] Trial 39 finished with value: 0.7415474744798989 and parameters: {'iterations': 2119, 'depth': 4, 'learning_rate': 0.014273560543182656, 'l2_leaf_reg': 40.76990245295313}. Best is trial 10 with value: 0.7429930391615726.\n",
      "[I 2025-02-22 00:50:38,801] A new study created in memory with name: no-name-c7e2cea8-6808-49a4-90a4-ad85986cb96f\n"
     ]
    },
    {
     "name": "stdout",
     "output_type": "stream",
     "text": [
      "2118:\ttest: 0.7415466\tbest: 0.7415475 (2117)\ttotal: 1m 44s\tremaining: 0us\n",
      "\n",
      "bestTest = 0.7415474745\n",
      "bestIteration = 2117\n",
      "\n",
      "Shrink model to first 2118 iterations.\n"
     ]
    },
    {
     "name": "stderr",
     "output_type": "stream",
     "text": [
      "[I 2025-02-22 00:51:02,742] Trial 0 finished with value: 0.733232430598003 and parameters: {'num_iterations': 2366, 'objective': 'binary', 'metric': 'auc', 'verbose': -1, 'learning_rate': 0.0652646236447618, 'n_estimators': 236, 'min_child_samples': 45, 'subsample': 0.7, 'colsample_bytree': 0.5}. Best is trial 0 with value: 0.733232430598003.\n",
      "[I 2025-02-22 00:51:20,017] Trial 1 finished with value: 0.7426571286971576 and parameters: {'num_iterations': 1510, 'objective': 'binary', 'metric': 'auc', 'verbose': -1, 'learning_rate': 0.005231880959249543, 'n_estimators': 1411, 'min_child_samples': 10, 'subsample': 1.0, 'colsample_bytree': 0.5}. Best is trial 1 with value: 0.7426571286971576.\n",
      "[I 2025-02-22 00:51:39,451] Trial 2 finished with value: 0.7421237981108889 and parameters: {'num_iterations': 2334, 'objective': 'binary', 'metric': 'auc', 'verbose': -1, 'learning_rate': 0.006578527777128852, 'n_estimators': 931, 'min_child_samples': 15, 'subsample': 0.5, 'colsample_bytree': 1.0}. Best is trial 1 with value: 0.7426571286971576.\n",
      "[I 2025-02-22 00:51:55,821] Trial 3 finished with value: 0.7426608299273146 and parameters: {'num_iterations': 1620, 'objective': 'binary', 'metric': 'auc', 'verbose': -1, 'learning_rate': 0.0058823249237283685, 'n_estimators': 837, 'min_child_samples': 10, 'subsample': 0.9, 'colsample_bytree': 0.6}. Best is trial 3 with value: 0.7426608299273146.\n",
      "[I 2025-02-22 00:52:12,093] Trial 4 finished with value: 0.7420938546823651 and parameters: {'num_iterations': 1997, 'objective': 'binary', 'metric': 'auc', 'verbose': -1, 'learning_rate': 0.010907507425244923, 'n_estimators': 1597, 'min_child_samples': 50, 'subsample': 0.6, 'colsample_bytree': 0.8}. Best is trial 3 with value: 0.7426608299273146.\n",
      "[I 2025-02-22 00:52:34,642] Trial 5 finished with value: 0.7400727050272221 and parameters: {'num_iterations': 2909, 'objective': 'binary', 'metric': 'auc', 'verbose': -1, 'learning_rate': 0.019760591962733942, 'n_estimators': 612, 'min_child_samples': 30, 'subsample': 0.7, 'colsample_bytree': 0.9}. Best is trial 3 with value: 0.7426608299273146.\n",
      "[I 2025-02-22 00:52:55,051] Trial 6 finished with value: 0.7405475744448834 and parameters: {'num_iterations': 2639, 'objective': 'binary', 'metric': 'auc', 'verbose': -1, 'learning_rate': 0.017862094446750985, 'n_estimators': 794, 'min_child_samples': 35, 'subsample': 1.0, 'colsample_bytree': 0.8}. Best is trial 3 with value: 0.7426608299273146.\n",
      "[I 2025-02-22 00:53:11,835] Trial 7 finished with value: 0.7421423995723221 and parameters: {'num_iterations': 1580, 'objective': 'binary', 'metric': 'auc', 'verbose': -1, 'learning_rate': 0.01776722177611332, 'n_estimators': 529, 'min_child_samples': 25, 'subsample': 0.8, 'colsample_bytree': 0.5}. Best is trial 3 with value: 0.7426608299273146.\n",
      "[I 2025-02-22 00:53:29,466] Trial 8 finished with value: 0.7408477275312574 and parameters: {'num_iterations': 1911, 'objective': 'binary', 'metric': 'auc', 'verbose': -1, 'learning_rate': 0.0304747553332844, 'n_estimators': 1328, 'min_child_samples': 10, 'subsample': 0.7, 'colsample_bytree': 0.6}. Best is trial 3 with value: 0.7426608299273146.\n",
      "[I 2025-02-22 00:53:56,154] Trial 9 finished with value: 0.739742187556963 and parameters: {'num_iterations': 2739, 'objective': 'binary', 'metric': 'auc', 'verbose': -1, 'learning_rate': 0.02691531614176271, 'n_estimators': 1438, 'min_child_samples': 20, 'subsample': 0.6, 'colsample_bytree': 0.5}. Best is trial 3 with value: 0.7426608299273146.\n",
      "[I 2025-02-22 00:54:10,567] Trial 10 finished with value: 0.732636885986369 and parameters: {'num_iterations': 1883, 'objective': 'binary', 'metric': 'auc', 'verbose': -1, 'learning_rate': 0.08223556891145911, 'n_estimators': 1917, 'min_child_samples': 40, 'subsample': 0.9, 'colsample_bytree': 0.7}. Best is trial 3 with value: 0.7426608299273146.\n",
      "[I 2025-02-22 00:54:26,123] Trial 11 finished with value: 0.7424698234178039 and parameters: {'num_iterations': 1513, 'objective': 'binary', 'metric': 'auc', 'verbose': -1, 'learning_rate': 0.005340229419903739, 'n_estimators': 1206, 'min_child_samples': 10, 'subsample': 1.0, 'colsample_bytree': 0.6}. Best is trial 3 with value: 0.7426608299273146.\n",
      "[I 2025-02-22 00:54:42,802] Trial 12 finished with value: 0.7427893523646246 and parameters: {'num_iterations': 1698, 'objective': 'binary', 'metric': 'auc', 'verbose': -1, 'learning_rate': 0.008515343845233947, 'n_estimators': 1719, 'min_child_samples': 20, 'subsample': 0.9, 'colsample_bytree': 0.6}. Best is trial 12 with value: 0.7427893523646246.\n",
      "[I 2025-02-22 00:54:57,731] Trial 13 finished with value: 0.7423752434849493 and parameters: {'num_iterations': 1785, 'objective': 'binary', 'metric': 'auc', 'verbose': -1, 'learning_rate': 0.010668787980411185, 'n_estimators': 2000, 'min_child_samples': 20, 'subsample': 0.9, 'colsample_bytree': 0.7}. Best is trial 12 with value: 0.7427893523646246.\n",
      "[I 2025-02-22 00:55:18,455] Trial 14 finished with value: 0.7426879497778968 and parameters: {'num_iterations': 2165, 'objective': 'binary', 'metric': 'auc', 'verbose': -1, 'learning_rate': 0.00865004642514095, 'n_estimators': 1729, 'min_child_samples': 20, 'subsample': 0.9, 'colsample_bytree': 0.6}. Best is trial 12 with value: 0.7427893523646246.\n",
      "[I 2025-02-22 00:55:36,158] Trial 15 finished with value: 0.7422765056250835 and parameters: {'num_iterations': 2148, 'objective': 'binary', 'metric': 'auc', 'verbose': -1, 'learning_rate': 0.009840002207772997, 'n_estimators': 1672, 'min_child_samples': 25, 'subsample': 0.8, 'colsample_bytree': 0.7}. Best is trial 12 with value: 0.7427893523646246.\n",
      "[I 2025-02-22 00:55:56,521] Trial 16 finished with value: 0.742714009297522 and parameters: {'num_iterations': 2120, 'objective': 'binary', 'metric': 'auc', 'verbose': -1, 'learning_rate': 0.008167453404878535, 'n_estimators': 1738, 'min_child_samples': 20, 'subsample': 0.9, 'colsample_bytree': 0.6}. Best is trial 12 with value: 0.7427893523646246.\n",
      "[I 2025-02-22 00:56:19,835] Trial 17 finished with value: 0.7416446635417376 and parameters: {'num_iterations': 2512, 'objective': 'binary', 'metric': 'auc', 'verbose': -1, 'learning_rate': 0.014364323482076244, 'n_estimators': 1178, 'min_child_samples': 25, 'subsample': 0.8, 'colsample_bytree': 0.6}. Best is trial 12 with value: 0.7427893523646246.\n",
      "[I 2025-02-22 00:56:33,673] Trial 18 finished with value: 0.7383335279523812 and parameters: {'num_iterations': 1734, 'objective': 'binary', 'metric': 'auc', 'verbose': -1, 'learning_rate': 0.04236199741746501, 'n_estimators': 1796, 'min_child_samples': 30, 'subsample': 0.9, 'colsample_bytree': 0.7}. Best is trial 12 with value: 0.7427893523646246.\n",
      "[I 2025-02-22 00:56:50,672] Trial 19 finished with value: 0.7423485207620665 and parameters: {'num_iterations': 2026, 'objective': 'binary', 'metric': 'auc', 'verbose': -1, 'learning_rate': 0.0076697989866795595, 'n_estimators': 1528, 'min_child_samples': 15, 'subsample': 1.0, 'colsample_bytree': 0.8}. Best is trial 12 with value: 0.7427893523646246.\n",
      "[I 2025-02-22 00:57:04,617] Trial 20 finished with value: 0.7419856770970881 and parameters: {'num_iterations': 1719, 'objective': 'binary', 'metric': 'auc', 'verbose': -1, 'learning_rate': 0.013364192786327545, 'n_estimators': 1871, 'min_child_samples': 30, 'subsample': 0.8, 'colsample_bytree': 0.9}. Best is trial 12 with value: 0.7427893523646246.\n",
      "[I 2025-02-22 00:57:25,586] Trial 21 finished with value: 0.7426819769773 and parameters: {'num_iterations': 2182, 'objective': 'binary', 'metric': 'auc', 'verbose': -1, 'learning_rate': 0.008443571184544519, 'n_estimators': 1708, 'min_child_samples': 20, 'subsample': 0.9, 'colsample_bytree': 0.6}. Best is trial 12 with value: 0.7427893523646246.\n",
      "[I 2025-02-22 00:57:45,750] Trial 22 finished with value: 0.742796611858967 and parameters: {'num_iterations': 2076, 'objective': 'binary', 'metric': 'auc', 'verbose': -1, 'learning_rate': 0.007247463874063551, 'n_estimators': 1725, 'min_child_samples': 15, 'subsample': 0.9, 'colsample_bytree': 0.6}. Best is trial 22 with value: 0.742796611858967.\n",
      "[I 2025-02-22 00:58:07,761] Trial 23 finished with value: 0.7420558813317624 and parameters: {'num_iterations': 2052, 'objective': 'binary', 'metric': 'auc', 'verbose': -1, 'learning_rate': 0.012859720729845994, 'n_estimators': 1561, 'min_child_samples': 15, 'subsample': 1.0, 'colsample_bytree': 0.5}. Best is trial 22 with value: 0.742796611858967.\n",
      "[I 2025-02-22 00:58:27,531] Trial 24 finished with value: 0.7425643000974568 and parameters: {'num_iterations': 2342, 'objective': 'binary', 'metric': 'auc', 'verbose': -1, 'learning_rate': 0.007140314798339231, 'n_estimators': 1199, 'min_child_samples': 15, 'subsample': 0.8, 'colsample_bytree': 0.7}. Best is trial 22 with value: 0.742796611858967.\n",
      "[I 2025-02-22 00:58:45,806] Trial 25 finished with value: 0.74280830726971 and parameters: {'num_iterations': 1879, 'objective': 'binary', 'metric': 'auc', 'verbose': -1, 'learning_rate': 0.008883021712741569, 'n_estimators': 1869, 'min_child_samples': 25, 'subsample': 0.9, 'colsample_bytree': 0.6}. Best is trial 25 with value: 0.74280830726971.\n",
      "[I 2025-02-22 00:59:03,230] Trial 26 finished with value: 0.7423138396000905 and parameters: {'num_iterations': 1842, 'objective': 'binary', 'metric': 'auc', 'verbose': -1, 'learning_rate': 0.014569291834899065, 'n_estimators': 1987, 'min_child_samples': 25, 'subsample': 0.9, 'colsample_bytree': 0.6}. Best is trial 25 with value: 0.74280830726971.\n",
      "[I 2025-02-22 00:59:17,309] Trial 27 finished with value: 0.7420190358238254 and parameters: {'num_iterations': 1677, 'objective': 'binary', 'metric': 'auc', 'verbose': -1, 'learning_rate': 0.011379121269553715, 'n_estimators': 1871, 'min_child_samples': 35, 'subsample': 1.0, 'colsample_bytree': 0.7}. Best is trial 25 with value: 0.74280830726971.\n",
      "[I 2025-02-22 00:59:39,092] Trial 28 finished with value: 0.7428930026941302 and parameters: {'num_iterations': 1966, 'objective': 'binary', 'metric': 'auc', 'verbose': -1, 'learning_rate': 0.006348504986883159, 'n_estimators': 1313, 'min_child_samples': 15, 'subsample': 0.8, 'colsample_bytree': 0.5}. Best is trial 28 with value: 0.7428930026941302.\n",
      "[I 2025-02-22 00:59:59,328] Trial 29 finished with value: 0.7387086349207126 and parameters: {'num_iterations': 1955, 'objective': 'binary', 'metric': 'auc', 'verbose': -1, 'learning_rate': 0.04309112110978798, 'n_estimators': 315, 'min_child_samples': 15, 'subsample': 0.7, 'colsample_bytree': 0.5}. Best is trial 28 with value: 0.7428930026941302.\n",
      "[I 2025-02-22 01:00:26,442] Trial 30 finished with value: 0.7426322685031842 and parameters: {'num_iterations': 2462, 'objective': 'binary', 'metric': 'auc', 'verbose': -1, 'learning_rate': 0.0063221088075226745, 'n_estimators': 104, 'min_child_samples': 45, 'subsample': 0.8, 'colsample_bytree': 0.5}. Best is trial 28 with value: 0.7428930026941302.\n",
      "[I 2025-02-22 01:00:46,814] Trial 31 finished with value: 0.7428223060211088 and parameters: {'num_iterations': 1803, 'objective': 'binary', 'metric': 'auc', 'verbose': -1, 'learning_rate': 0.005125827353380528, 'n_estimators': 1346, 'min_child_samples': 20, 'subsample': 0.8, 'colsample_bytree': 0.5}. Best is trial 28 with value: 0.7428930026941302.\n",
      "[I 2025-02-22 01:01:11,631] Trial 32 finished with value: 0.7429575955144141 and parameters: {'num_iterations': 2242, 'objective': 'binary', 'metric': 'auc', 'verbose': -1, 'learning_rate': 0.005262778320902431, 'n_estimators': 1317, 'min_child_samples': 15, 'subsample': 0.8, 'colsample_bytree': 0.5}. Best is trial 32 with value: 0.7429575955144141.\n",
      "[I 2025-02-22 01:01:37,164] Trial 33 finished with value: 0.7428917874833705 and parameters: {'num_iterations': 2255, 'objective': 'binary', 'metric': 'auc', 'verbose': -1, 'learning_rate': 0.0051399443589348484, 'n_estimators': 1038, 'min_child_samples': 25, 'subsample': 0.8, 'colsample_bytree': 0.5}. Best is trial 32 with value: 0.7429575955144141.\n",
      "[I 2025-02-22 01:02:02,875] Trial 34 finished with value: 0.7428988722415252 and parameters: {'num_iterations': 2300, 'objective': 'binary', 'metric': 'auc', 'verbose': -1, 'learning_rate': 0.005294833662069215, 'n_estimators': 999, 'min_child_samples': 10, 'subsample': 0.6, 'colsample_bytree': 0.5}. Best is trial 32 with value: 0.7429575955144141.\n",
      "[I 2025-02-22 01:02:28,071] Trial 35 finished with value: 0.7429300904499636 and parameters: {'num_iterations': 2260, 'objective': 'binary', 'metric': 'auc', 'verbose': -1, 'learning_rate': 0.005904778620836282, 'n_estimators': 990, 'min_child_samples': 10, 'subsample': 0.6, 'colsample_bytree': 0.5}. Best is trial 32 with value: 0.7429575955144141.\n",
      "[I 2025-02-22 01:02:52,706] Trial 36 finished with value: 0.7427659099165376 and parameters: {'num_iterations': 2253, 'objective': 'binary', 'metric': 'auc', 'verbose': -1, 'learning_rate': 0.006188017649093151, 'n_estimators': 961, 'min_child_samples': 10, 'subsample': 0.5, 'colsample_bytree': 0.5}. Best is trial 32 with value: 0.7429575955144141.\n",
      "[I 2025-02-22 01:03:19,126] Trial 37 finished with value: 0.7427899242285115 and parameters: {'num_iterations': 2444, 'objective': 'binary', 'metric': 'auc', 'verbose': -1, 'learning_rate': 0.006204494438695951, 'n_estimators': 815, 'min_child_samples': 10, 'subsample': 0.6, 'colsample_bytree': 0.5}. Best is trial 32 with value: 0.7429575955144141.\n",
      "[I 2025-02-22 01:03:47,721] Trial 38 finished with value: 0.7427868623739503 and parameters: {'num_iterations': 2591, 'objective': 'binary', 'metric': 'auc', 'verbose': -1, 'learning_rate': 0.0058376575572386845, 'n_estimators': 704, 'min_child_samples': 10, 'subsample': 0.6, 'colsample_bytree': 0.5}. Best is trial 32 with value: 0.7429575955144141.\n",
      "[I 2025-02-22 01:04:08,288] Trial 39 finished with value: 0.7422678879540097 and parameters: {'num_iterations': 2385, 'objective': 'binary', 'metric': 'auc', 'verbose': -1, 'learning_rate': 0.005026086688591012, 'n_estimators': 1068, 'min_child_samples': 15, 'subsample': 0.5, 'colsample_bytree': 1.0}. Best is trial 32 with value: 0.7429575955144141.\n"
     ]
    },
    {
     "name": "stdout",
     "output_type": "stream",
     "text": [
      "Cat val score : 0.7429930391615726\n",
      "LGBM val score : 0.7428694808205033\n",
      "Ensemble val score : 0.7432122854217773\n"
     ]
    },
    {
     "name": "stderr",
     "output_type": "stream",
     "text": [
      "[I 2025-02-22 01:04:35,074] A new study created in memory with name: no-name-c310cd23-9c6f-4023-9a30-270d3b19a777\n"
     ]
    },
    {
     "name": "stdout",
     "output_type": "stream",
     "text": [
      "==================================================\n",
      "0:\ttest: 0.7276354\tbest: 0.7276354 (0)\ttotal: 172ms\tremaining: 6m 46s\n",
      "300:\ttest: 0.7393553\tbest: 0.7393553 (300)\ttotal: 41.1s\tremaining: 4m 42s\n",
      "600:\ttest: 0.7408718\tbest: 0.7408718 (600)\ttotal: 1m 24s\tremaining: 4m 8s\n",
      "900:\ttest: 0.7412751\tbest: 0.7412751 (900)\ttotal: 2m 6s\tremaining: 3m 26s\n",
      "1200:\ttest: 0.7416185\tbest: 0.7416207 (1197)\ttotal: 2m 55s\tremaining: 2m 50s\n",
      "1500:\ttest: 0.7417440\tbest: 0.7417550 (1496)\ttotal: 3m 49s\tremaining: 2m 12s\n",
      "1800:\ttest: 0.7416225\tbest: 0.7417667 (1545)\ttotal: 4m 43s\tremaining: 1m 29s\n"
     ]
    },
    {
     "name": "stderr",
     "output_type": "stream",
     "text": [
      "[I 2025-02-22 01:09:27,908] Trial 0 finished with value: 0.7417667327348012 and parameters: {'iterations': 2366, 'depth': 10, 'learning_rate': 0.01181021951839225, 'l2_leaf_reg': 9.980783802743254}. Best is trial 0 with value: 0.7417667327348012.\n"
     ]
    },
    {
     "name": "stdout",
     "output_type": "stream",
     "text": [
      "Stopped by overfitting detector  (300 iterations wait)\n",
      "\n",
      "bestTest = 0.7417667327\n",
      "bestIteration = 1545\n",
      "\n",
      "Shrink model to first 1546 iterations.\n",
      "저장 완료\n",
      "0:\ttest: 0.6977785\tbest: 0.6977785 (0)\ttotal: 65.2ms\tremaining: 2m 22s\n",
      "300:\ttest: 0.7302361\tbest: 0.7302361 (300)\ttotal: 13.9s\tremaining: 1m 27s\n",
      "600:\ttest: 0.7345481\tbest: 0.7345481 (600)\ttotal: 28s\tremaining: 1m 14s\n",
      "900:\ttest: 0.7364696\tbest: 0.7364696 (900)\ttotal: 42.6s\tremaining: 1m 1s\n",
      "1200:\ttest: 0.7373969\tbest: 0.7373969 (1200)\ttotal: 57.5s\tremaining: 47.5s\n",
      "1500:\ttest: 0.7379846\tbest: 0.7379846 (1500)\ttotal: 1m 12s\tremaining: 33.4s\n",
      "1800:\ttest: 0.7383823\tbest: 0.7383823 (1800)\ttotal: 1m 27s\tremaining: 19s\n",
      "2100:\ttest: 0.7387894\tbest: 0.7387905 (2099)\ttotal: 1m 42s\tremaining: 4.49s\n"
     ]
    },
    {
     "name": "stderr",
     "output_type": "stream",
     "text": [
      "[I 2025-02-22 01:11:15,580] Trial 1 finished with value: 0.7389434485126474 and parameters: {'iterations': 2193, 'depth': 4, 'learning_rate': 0.005671430811678843, 'l2_leaf_reg': 0.00012325230809466137}. Best is trial 0 with value: 0.7417667327348012.\n"
     ]
    },
    {
     "name": "stdout",
     "output_type": "stream",
     "text": [
      "2192:\ttest: 0.7389427\tbest: 0.7389434 (2191)\ttotal: 1m 47s\tremaining: 0us\n",
      "\n",
      "bestTest = 0.7389434485\n",
      "bestIteration = 2191\n",
      "\n",
      "Shrink model to first 2192 iterations.\n",
      "0:\ttest: 0.6977785\tbest: 0.6977785 (0)\ttotal: 58.4ms\tremaining: 2m 28s\n",
      "300:\ttest: 0.7400714\tbest: 0.7400783 (295)\ttotal: 15.3s\tremaining: 1m 53s\n",
      "600:\ttest: 0.7396923\tbest: 0.7401265 (362)\ttotal: 31.2s\tremaining: 1m 40s\n"
     ]
    },
    {
     "name": "stderr",
     "output_type": "stream",
     "text": [
      "[I 2025-02-22 01:11:50,313] Trial 2 finished with value: 0.740126498616432 and parameters: {'iterations': 2535, 'depth': 4, 'learning_rate': 0.09275339199839054, 'l2_leaf_reg': 0.0008705394248343123}. Best is trial 0 with value: 0.7417667327348012.\n"
     ]
    },
    {
     "name": "stdout",
     "output_type": "stream",
     "text": [
      "Stopped by overfitting detector  (300 iterations wait)\n",
      "\n",
      "bestTest = 0.7401264986\n",
      "bestIteration = 362\n",
      "\n",
      "Shrink model to first 363 iterations.\n",
      "0:\ttest: 0.6977785\tbest: 0.6977785 (0)\ttotal: 54.6ms\tremaining: 2m 7s\n",
      "300:\ttest: 0.7392826\tbest: 0.7392826 (300)\ttotal: 15.1s\tremaining: 1m 41s\n",
      "600:\ttest: 0.7401348\tbest: 0.7401357 (593)\ttotal: 30.7s\tremaining: 1m 28s\n",
      "900:\ttest: 0.7402464\tbest: 0.7404161 (686)\ttotal: 48.1s\tremaining: 1m 16s\n"
     ]
    },
    {
     "name": "stderr",
     "output_type": "stream",
     "text": [
      "[I 2025-02-22 01:12:43,053] Trial 3 finished with value: 0.7404160874070205 and parameters: {'iterations': 2334, 'depth': 4, 'learning_rate': 0.04657568321363276, 'l2_leaf_reg': 0.0008640473331457248}. Best is trial 0 with value: 0.7417667327348012.\n"
     ]
    },
    {
     "name": "stdout",
     "output_type": "stream",
     "text": [
      "Stopped by overfitting detector  (300 iterations wait)\n",
      "\n",
      "bestTest = 0.7404160874\n",
      "bestIteration = 686\n",
      "\n",
      "Shrink model to first 687 iterations.\n",
      "0:\ttest: 0.7276728\tbest: 0.7276728 (0)\ttotal: 135ms\tremaining: 3m 55s\n",
      "300:\ttest: 0.7389076\tbest: 0.7389096 (299)\ttotal: 41.6s\tremaining: 3m 19s\n",
      "600:\ttest: 0.7397227\tbest: 0.7397236 (598)\ttotal: 1m 23s\tremaining: 2m 37s\n",
      "900:\ttest: 0.7398770\tbest: 0.7398932 (896)\ttotal: 2m 5s\tremaining: 1m 56s\n",
      "1200:\ttest: 0.7394819\tbest: 0.7400718 (1031)\ttotal: 2m 52s\tremaining: 1m 17s\n"
     ]
    },
    {
     "name": "stderr",
     "output_type": "stream",
     "text": [
      "[I 2025-02-22 01:15:56,357] Trial 4 finished with value: 0.7400718115713467 and parameters: {'iterations': 1742, 'depth': 10, 'learning_rate': 0.012622767482095846, 'l2_leaf_reg': 0.00021158816350109617}. Best is trial 0 with value: 0.7417667327348012.\n"
     ]
    },
    {
     "name": "stdout",
     "output_type": "stream",
     "text": [
      "Stopped by overfitting detector  (300 iterations wait)\n",
      "\n",
      "bestTest = 0.7400718116\n",
      "bestIteration = 1031\n",
      "\n",
      "Shrink model to first 1032 iterations.\n",
      "0:\ttest: 0.6977785\tbest: 0.6977785 (0)\ttotal: 61.1ms\tremaining: 2m 7s\n",
      "300:\ttest: 0.7400256\tbest: 0.7400256 (300)\ttotal: 15.1s\tremaining: 1m 29s\n",
      "600:\ttest: 0.7401818\tbest: 0.7403486 (427)\ttotal: 31s\tremaining: 1m 16s\n"
     ]
    },
    {
     "name": "stderr",
     "output_type": "stream",
     "text": [
      "[I 2025-02-22 01:16:34,083] Trial 5 finished with value: 0.7403486180791781 and parameters: {'iterations': 2082, 'depth': 4, 'learning_rate': 0.06995196593094148, 'l2_leaf_reg': 0.0018080296485396804}. Best is trial 0 with value: 0.7417667327348012.\n"
     ]
    },
    {
     "name": "stdout",
     "output_type": "stream",
     "text": [
      "Stopped by overfitting detector  (300 iterations wait)\n",
      "\n",
      "bestTest = 0.7403486181\n",
      "bestIteration = 427\n",
      "\n",
      "Shrink model to first 428 iterations.\n",
      "0:\ttest: 0.7049946\tbest: 0.7049946 (0)\ttotal: 68.5ms\tremaining: 2m 16s\n",
      "300:\ttest: 0.7406340\tbest: 0.7406340 (300)\ttotal: 18s\tremaining: 1m 41s\n",
      "600:\ttest: 0.7412274\tbest: 0.7412299 (592)\ttotal: 36.9s\tremaining: 1m 25s\n"
     ]
    },
    {
     "name": "stderr",
     "output_type": "stream",
     "text": [
      "[I 2025-02-22 01:17:29,833] Trial 6 finished with value: 0.7412298689172336 and parameters: {'iterations': 1997, 'depth': 5, 'learning_rate': 0.07985155992831598, 'l2_leaf_reg': 62.52181000710482}. Best is trial 0 with value: 0.7417667327348012.\n"
     ]
    },
    {
     "name": "stdout",
     "output_type": "stream",
     "text": [
      "Stopped by overfitting detector  (300 iterations wait)\n",
      "\n",
      "bestTest = 0.7412298689\n",
      "bestIteration = 592\n",
      "\n",
      "Shrink model to first 593 iterations.\n",
      "0:\ttest: 0.7191655\tbest: 0.7191655 (0)\ttotal: 85.4ms\tremaining: 2m 44s\n",
      "300:\ttest: 0.7391793\tbest: 0.7404642 (171)\ttotal: 25.7s\tremaining: 2m 18s\n"
     ]
    },
    {
     "name": "stderr",
     "output_type": "stream",
     "text": [
      "[I 2025-02-22 01:18:10,906] Trial 7 finished with value: 0.7404641589556556 and parameters: {'iterations': 1927, 'depth': 7, 'learning_rate': 0.0941937211034094, 'l2_leaf_reg': 0.05654822767791934}. Best is trial 0 with value: 0.7417667327348012.\n"
     ]
    },
    {
     "name": "stdout",
     "output_type": "stream",
     "text": [
      "Stopped by overfitting detector  (300 iterations wait)\n",
      "\n",
      "bestTest = 0.740464159\n",
      "bestIteration = 171\n",
      "\n",
      "Shrink model to first 172 iterations.\n",
      "0:\ttest: 0.7191653\tbest: 0.7191653 (0)\ttotal: 85.8ms\tremaining: 2m 43s\n",
      "300:\ttest: 0.7410563\tbest: 0.7410563 (300)\ttotal: 24.5s\tremaining: 2m 10s\n",
      "600:\ttest: 0.7407291\tbest: 0.7412816 (371)\ttotal: 51.2s\tremaining: 1m 51s\n"
     ]
    },
    {
     "name": "stderr",
     "output_type": "stream",
     "text": [
      "[I 2025-02-22 01:19:08,767] Trial 8 finished with value: 0.7412815936811954 and parameters: {'iterations': 1904, 'depth': 7, 'learning_rate': 0.05155602859187331, 'l2_leaf_reg': 1.299974533316308}. Best is trial 0 with value: 0.7417667327348012.\n"
     ]
    },
    {
     "name": "stdout",
     "output_type": "stream",
     "text": [
      "Stopped by overfitting detector  (300 iterations wait)\n",
      "\n",
      "bestTest = 0.7412815937\n",
      "bestIteration = 371\n",
      "\n",
      "Shrink model to first 372 iterations.\n",
      "0:\ttest: 0.7196370\tbest: 0.7196370 (0)\ttotal: 97.8ms\tremaining: 4m 18s\n",
      "300:\ttest: 0.7402143\tbest: 0.7402143 (300)\ttotal: 21.6s\tremaining: 2m 47s\n",
      "600:\ttest: 0.7406507\tbest: 0.7408860 (433)\ttotal: 43.9s\tremaining: 2m 28s\n"
     ]
    },
    {
     "name": "stderr",
     "output_type": "stream",
     "text": [
      "[I 2025-02-22 01:20:02,878] Trial 9 finished with value: 0.7408860457625894 and parameters: {'iterations': 2639, 'depth': 6, 'learning_rate': 0.03968704290444751, 'l2_leaf_reg': 0.30557194377967184}. Best is trial 0 with value: 0.7417667327348012.\n"
     ]
    },
    {
     "name": "stdout",
     "output_type": "stream",
     "text": [
      "Stopped by overfitting detector  (300 iterations wait)\n",
      "\n",
      "bestTest = 0.7408860458\n",
      "bestIteration = 433\n",
      "\n",
      "Shrink model to first 434 iterations.\n",
      "0:\ttest: 0.7285333\tbest: 0.7285333 (0)\ttotal: 131ms\tremaining: 6m 26s\n",
      "300:\ttest: 0.7407516\tbest: 0.7407516 (300)\ttotal: 38.9s\tremaining: 5m 42s\n",
      "600:\ttest: 0.7414247\tbest: 0.7414395 (593)\ttotal: 1m 22s\tremaining: 5m 22s\n",
      "900:\ttest: 0.7415585\tbest: 0.7415897 (883)\ttotal: 2m 20s\tremaining: 5m 17s\n",
      "1200:\ttest: 0.7416339\tbest: 0.7416704 (1090)\ttotal: 3m 15s\tremaining: 4m 43s\n"
     ]
    },
    {
     "name": "stderr",
     "output_type": "stream",
     "text": [
      "[I 2025-02-22 01:23:53,777] Trial 10 finished with value: 0.7416704149185369 and parameters: {'iterations': 2945, 'depth': 10, 'learning_rate': 0.025911330134996406, 'l2_leaf_reg': 97.18545559492516}. Best is trial 0 with value: 0.7417667327348012.\n"
     ]
    },
    {
     "name": "stdout",
     "output_type": "stream",
     "text": [
      "Stopped by overfitting detector  (300 iterations wait)\n",
      "\n",
      "bestTest = 0.7416704149\n",
      "bestIteration = 1090\n",
      "\n",
      "Shrink model to first 1091 iterations.\n",
      "0:\ttest: 0.7285168\tbest: 0.7285168 (0)\ttotal: 135ms\tremaining: 6m 42s\n",
      "300:\ttest: 0.7407714\tbest: 0.7407714 (300)\ttotal: 41.1s\tremaining: 6m 7s\n",
      "600:\ttest: 0.7413494\tbest: 0.7413668 (590)\ttotal: 1m 25s\tremaining: 5m 38s\n",
      "900:\ttest: 0.7416473\tbest: 0.7416667 (886)\ttotal: 2m 20s\tremaining: 5m 26s\n",
      "1200:\ttest: 0.7417405\tbest: 0.7418164 (1081)\ttotal: 3m 15s\tremaining: 4m 52s\n"
     ]
    },
    {
     "name": "stderr",
     "output_type": "stream",
     "text": [
      "[I 2025-02-22 01:27:41,627] Trial 11 finished with value: 0.7418163807252675 and parameters: {'iterations': 2995, 'depth': 10, 'learning_rate': 0.026163874004606635, 'l2_leaf_reg': 73.1213351392818}. Best is trial 11 with value: 0.7418163807252675.\n"
     ]
    },
    {
     "name": "stdout",
     "output_type": "stream",
     "text": [
      "Stopped by overfitting detector  (300 iterations wait)\n",
      "\n",
      "bestTest = 0.7418163807\n",
      "bestIteration = 1081\n",
      "\n",
      "Shrink model to first 1082 iterations.\n",
      "저장 완료\n",
      "0:\ttest: 0.7244070\tbest: 0.7244070 (0)\ttotal: 116ms\tremaining: 5m 29s\n",
      "300:\ttest: 0.7405211\tbest: 0.7405211 (300)\ttotal: 31.3s\tremaining: 4m 22s\n",
      "600:\ttest: 0.7413852\tbest: 0.7413865 (599)\ttotal: 1m 3s\tremaining: 3m 56s\n",
      "900:\ttest: 0.7414427\tbest: 0.7414601 (839)\ttotal: 1m 39s\tremaining: 3m 33s\n"
     ]
    },
    {
     "name": "stderr",
     "output_type": "stream",
     "text": [
      "[I 2025-02-22 01:29:50,369] Trial 12 finished with value: 0.7414600850169917 and parameters: {'iterations': 2831, 'depth': 9, 'learning_rate': 0.02603853414531855, 'l2_leaf_reg': 9.386190522738517}. Best is trial 11 with value: 0.7418163807252675.\n"
     ]
    },
    {
     "name": "stdout",
     "output_type": "stream",
     "text": [
      "Stopped by overfitting detector  (300 iterations wait)\n",
      "\n",
      "bestTest = 0.741460085\n",
      "bestIteration = 839\n",
      "\n",
      "Shrink model to first 840 iterations.\n",
      "0:\ttest: 0.7244039\tbest: 0.7244039 (0)\ttotal: 119ms\tremaining: 4m 48s\n",
      "300:\ttest: 0.7402006\tbest: 0.7402064 (297)\ttotal: 30.8s\tremaining: 3m 36s\n",
      "600:\ttest: 0.7413617\tbest: 0.7413617 (600)\ttotal: 1m 1s\tremaining: 3m 6s\n",
      "900:\ttest: 0.7412765\tbest: 0.7414598 (671)\ttotal: 1m 36s\tremaining: 2m 43s\n"
     ]
    },
    {
     "name": "stderr",
     "output_type": "stream",
     "text": [
      "[I 2025-02-22 01:31:35,701] Trial 13 finished with value: 0.7414597554334351 and parameters: {'iterations': 2421, 'depth': 9, 'learning_rate': 0.022316119918197153, 'l2_leaf_reg': 6.676773824742184}. Best is trial 11 with value: 0.7418163807252675.\n"
     ]
    },
    {
     "name": "stdout",
     "output_type": "stream",
     "text": [
      "Stopped by overfitting detector  (300 iterations wait)\n",
      "\n",
      "bestTest = 0.7414597554\n",
      "bestIteration = 671\n",
      "\n",
      "Shrink model to first 672 iterations.\n",
      "0:\ttest: 0.7244133\tbest: 0.7244133 (0)\ttotal: 110ms\tremaining: 2m 48s\n",
      "300:\ttest: 0.7409946\tbest: 0.7410046 (298)\ttotal: 29.3s\tremaining: 1m 59s\n",
      "600:\ttest: 0.7414798\tbest: 0.7415859 (557)\ttotal: 1m 4s\tremaining: 1m 39s\n"
     ]
    },
    {
     "name": "stderr",
     "output_type": "stream",
     "text": [
      "[I 2025-02-22 01:33:10,619] Trial 14 finished with value: 0.7415858906343599 and parameters: {'iterations': 1533, 'depth': 9, 'learning_rate': 0.03443594749665465, 'l2_leaf_reg': 11.564056006203653}. Best is trial 11 with value: 0.7418163807252675.\n"
     ]
    },
    {
     "name": "stdout",
     "output_type": "stream",
     "text": [
      "Stopped by overfitting detector  (300 iterations wait)\n",
      "\n",
      "bestTest = 0.7415858906\n",
      "bestIteration = 557\n",
      "\n",
      "Shrink model to first 558 iterations.\n",
      "0:\ttest: 0.7210596\tbest: 0.7210596 (0)\ttotal: 94.4ms\tremaining: 4m 16s\n",
      "300:\ttest: 0.7402588\tbest: 0.7404914 (271)\ttotal: 27.1s\tremaining: 3m 37s\n"
     ]
    },
    {
     "name": "stderr",
     "output_type": "stream",
     "text": [
      "[I 2025-02-22 01:34:04,572] Trial 15 finished with value: 0.7404913714389529 and parameters: {'iterations': 2717, 'depth': 8, 'learning_rate': 0.06347916602487957, 'l2_leaf_reg': 0.026986971696484528}. Best is trial 11 with value: 0.7418163807252675.\n"
     ]
    },
    {
     "name": "stdout",
     "output_type": "stream",
     "text": [
      "Stopped by overfitting detector  (300 iterations wait)\n",
      "\n",
      "bestTest = 0.7404913714\n",
      "bestIteration = 271\n",
      "\n",
      "Shrink model to first 272 iterations.\n",
      "0:\ttest: 0.7276688\tbest: 0.7276688 (0)\ttotal: 133ms\tremaining: 6m 27s\n",
      "300:\ttest: 0.7394860\tbest: 0.7394860 (300)\ttotal: 40s\tremaining: 5m 48s\n",
      "600:\ttest: 0.7403866\tbest: 0.7404008 (595)\ttotal: 1m 24s\tremaining: 5m 24s\n",
      "900:\ttest: 0.7407806\tbest: 0.7408404 (869)\ttotal: 2m 9s\tremaining: 4m 50s\n"
     ]
    },
    {
     "name": "stderr",
     "output_type": "stream",
     "text": [
      "[I 2025-02-22 01:36:59,805] Trial 16 finished with value: 0.7408403527748029 and parameters: {'iterations': 2918, 'depth': 10, 'learning_rate': 0.015627704142452237, 'l2_leaf_reg': 1.1564999623873626}. Best is trial 11 with value: 0.7418163807252675.\n"
     ]
    },
    {
     "name": "stdout",
     "output_type": "stream",
     "text": [
      "Stopped by overfitting detector  (300 iterations wait)\n",
      "\n",
      "bestTest = 0.7408403528\n",
      "bestIteration = 869\n",
      "\n",
      "Shrink model to first 870 iterations.\n",
      "0:\ttest: 0.7210939\tbest: 0.7210939 (0)\ttotal: 107ms\tremaining: 4m 27s\n",
      "300:\ttest: 0.7352725\tbest: 0.7352725 (300)\ttotal: 26.5s\tremaining: 3m 13s\n",
      "600:\ttest: 0.7381163\tbest: 0.7381181 (596)\ttotal: 54.2s\tremaining: 2m 50s\n",
      "900:\ttest: 0.7393673\tbest: 0.7393675 (899)\ttotal: 1m 20s\tremaining: 2m 23s\n",
      "1200:\ttest: 0.7399724\tbest: 0.7399741 (1197)\ttotal: 1m 46s\tremaining: 1m 54s\n",
      "1500:\ttest: 0.7403456\tbest: 0.7403456 (1500)\ttotal: 2m 13s\tremaining: 1m 28s\n",
      "1800:\ttest: 0.7406256\tbest: 0.7406263 (1799)\ttotal: 2m 40s\tremaining: 1m 1s\n",
      "2100:\ttest: 0.7408287\tbest: 0.7408290 (2091)\ttotal: 3m 6s\tremaining: 34.9s\n",
      "2400:\ttest: 0.7410576\tbest: 0.7410624 (2387)\ttotal: 3m 32s\tremaining: 8.3s\n"
     ]
    },
    {
     "name": "stderr",
     "output_type": "stream",
     "text": [
      "[I 2025-02-22 01:40:41,009] Trial 17 finished with value: 0.7411150150040731 and parameters: {'iterations': 2495, 'depth': 8, 'learning_rate': 0.005588768772785566, 'l2_leaf_reg': 27.028519492661054}. Best is trial 11 with value: 0.7418163807252675.\n"
     ]
    },
    {
     "name": "stdout",
     "output_type": "stream",
     "text": [
      "2494:\ttest: 0.7411150\tbest: 0.7411150 (2494)\ttotal: 3m 40s\tremaining: 0us\n",
      "\n",
      "bestTest = 0.741115015\n",
      "bestIteration = 2494\n",
      "\n",
      "0:\ttest: 0.7210591\tbest: 0.7210591 (0)\ttotal: 93.4ms\tremaining: 3m 30s\n",
      "300:\ttest: 0.7408469\tbest: 0.7408469 (300)\ttotal: 28s\tremaining: 3m 1s\n",
      "600:\ttest: 0.7415967\tbest: 0.7416428 (594)\ttotal: 57.9s\tremaining: 2m 39s\n"
     ]
    },
    {
     "name": "stderr",
     "output_type": "stream",
     "text": [
      "[I 2025-02-22 01:42:07,847] Trial 18 finished with value: 0.7416428410845932 and parameters: {'iterations': 2255, 'depth': 8, 'learning_rate': 0.03519084982617142, 'l2_leaf_reg': 1.4779556720626297}. Best is trial 11 with value: 0.7418163807252675.\n"
     ]
    },
    {
     "name": "stdout",
     "output_type": "stream",
     "text": [
      "Stopped by overfitting detector  (300 iterations wait)\n",
      "\n",
      "bestTest = 0.7416428411\n",
      "bestIteration = 594\n",
      "\n",
      "Shrink model to first 595 iterations.\n",
      "0:\ttest: 0.7243897\tbest: 0.7243897 (0)\ttotal: 118ms\tremaining: 5m 17s\n",
      "300:\ttest: 0.7397585\tbest: 0.7397585 (300)\ttotal: 30.1s\tremaining: 3m 59s\n",
      "600:\ttest: 0.7405395\tbest: 0.7405775 (584)\ttotal: 59.5s\tremaining: 3m 27s\n",
      "900:\ttest: 0.7407132\tbest: 0.7408197 (877)\ttotal: 1m 34s\tremaining: 3m 9s\n"
     ]
    },
    {
     "name": "stderr",
     "output_type": "stream",
     "text": [
      "[I 2025-02-22 01:44:16,256] Trial 19 finished with value: 0.7408196723993451 and parameters: {'iterations': 2701, 'depth': 9, 'learning_rate': 0.018357749662516517, 'l2_leaf_reg': 0.01183860899423477}. Best is trial 11 with value: 0.7418163807252675.\n"
     ]
    },
    {
     "name": "stdout",
     "output_type": "stream",
     "text": [
      "Stopped by overfitting detector  (300 iterations wait)\n",
      "\n",
      "bestTest = 0.7408196724\n",
      "bestIteration = 877\n",
      "\n",
      "Shrink model to first 878 iterations.\n",
      "0:\ttest: 0.7276703\tbest: 0.7276703 (0)\ttotal: 140ms\tremaining: 4m 1s\n",
      "300:\ttest: 0.7389651\tbest: 0.7405021 (207)\ttotal: 42.6s\tremaining: 3m 21s\n"
     ]
    },
    {
     "name": "stderr",
     "output_type": "stream",
     "text": [
      "[I 2025-02-22 01:45:33,183] Trial 20 finished with value: 0.7405020650355558 and parameters: {'iterations': 1726, 'depth': 10, 'learning_rate': 0.06188102046855032, 'l2_leaf_reg': 0.1981116111851234}. Best is trial 11 with value: 0.7418163807252675.\n"
     ]
    },
    {
     "name": "stdout",
     "output_type": "stream",
     "text": [
      "Stopped by overfitting detector  (300 iterations wait)\n",
      "\n",
      "bestTest = 0.740502065\n",
      "bestIteration = 207\n",
      "\n",
      "Shrink model to first 208 iterations.\n",
      "0:\ttest: 0.7285457\tbest: 0.7285457 (0)\ttotal: 140ms\tremaining: 6m 54s\n",
      "300:\ttest: 0.7405035\tbest: 0.7405035 (300)\ttotal: 40s\tremaining: 5m 54s\n",
      "600:\ttest: 0.7413328\tbest: 0.7413485 (574)\ttotal: 1m 23s\tremaining: 5m 28s\n",
      "900:\ttest: 0.7416669\tbest: 0.7416677 (894)\ttotal: 2m 16s\tremaining: 5m 14s\n",
      "1200:\ttest: 0.7415864\tbest: 0.7416680 (901)\ttotal: 3m 11s\tremaining: 4m 43s\n"
     ]
    },
    {
     "name": "stderr",
     "output_type": "stream",
     "text": [
      "[I 2025-02-22 01:48:45,559] Trial 21 finished with value: 0.7416680165032573 and parameters: {'iterations': 2973, 'depth': 10, 'learning_rate': 0.02759145971902276, 'l2_leaf_reg': 89.94798088783348}. Best is trial 11 with value: 0.7418163807252675.\n"
     ]
    },
    {
     "name": "stdout",
     "output_type": "stream",
     "text": [
      "Stopped by overfitting detector  (300 iterations wait)\n",
      "\n",
      "bestTest = 0.7416680165\n",
      "bestIteration = 901\n",
      "\n",
      "Shrink model to first 902 iterations.\n",
      "0:\ttest: 0.7277048\tbest: 0.7277048 (0)\ttotal: 136ms\tremaining: 6m 30s\n",
      "300:\ttest: 0.7412912\tbest: 0.7412923 (299)\ttotal: 39.3s\tremaining: 5m 34s\n",
      "600:\ttest: 0.7415483\tbest: 0.7417218 (511)\ttotal: 1m 30s\tremaining: 5m 39s\n"
     ]
    },
    {
     "name": "stderr",
     "output_type": "stream",
     "text": [
      "[I 2025-02-22 01:50:52,178] Trial 22 finished with value: 0.7417218180407146 and parameters: {'iterations': 2862, 'depth': 10, 'learning_rate': 0.04218380389992917, 'l2_leaf_reg': 25.03453806107939}. Best is trial 11 with value: 0.7418163807252675.\n"
     ]
    },
    {
     "name": "stdout",
     "output_type": "stream",
     "text": [
      "Stopped by overfitting detector  (300 iterations wait)\n",
      "\n",
      "bestTest = 0.741721818\n",
      "bestIteration = 511\n",
      "\n",
      "Shrink model to first 512 iterations.\n",
      "0:\ttest: 0.7243988\tbest: 0.7243988 (0)\ttotal: 123ms\tremaining: 5m 43s\n",
      "300:\ttest: 0.7412960\tbest: 0.7413014 (299)\ttotal: 30.9s\tremaining: 4m 16s\n",
      "600:\ttest: 0.7409325\tbest: 0.7413716 (309)\ttotal: 1m 5s\tremaining: 3m 58s\n"
     ]
    },
    {
     "name": "stderr",
     "output_type": "stream",
     "text": [
      "[I 2025-02-22 01:51:58,676] Trial 23 finished with value: 0.7413715541086141 and parameters: {'iterations': 2798, 'depth': 9, 'learning_rate': 0.047298021911019686, 'l2_leaf_reg': 3.9556904634485073}. Best is trial 11 with value: 0.7418163807252675.\n"
     ]
    },
    {
     "name": "stdout",
     "output_type": "stream",
     "text": [
      "Stopped by overfitting detector  (300 iterations wait)\n",
      "\n",
      "bestTest = 0.7413715541\n",
      "bestIteration = 309\n",
      "\n",
      "Shrink model to first 310 iterations.\n",
      "0:\ttest: 0.7276809\tbest: 0.7276809 (0)\ttotal: 140ms\tremaining: 6m 3s\n",
      "300:\ttest: 0.7411864\tbest: 0.7411872 (298)\ttotal: 38.9s\tremaining: 4m 55s\n",
      "600:\ttest: 0.7413430\tbest: 0.7414675 (540)\ttotal: 1m 28s\tremaining: 4m 53s\n"
     ]
    },
    {
     "name": "stderr",
     "output_type": "stream",
     "text": [
      "[I 2025-02-22 01:54:07,620] Trial 24 finished with value: 0.7414675383704353 and parameters: {'iterations': 2591, 'depth': 10, 'learning_rate': 0.038657187348447655, 'l2_leaf_reg': 19.9876353039472}. Best is trial 11 with value: 0.7418163807252675.\n"
     ]
    },
    {
     "name": "stdout",
     "output_type": "stream",
     "text": [
      "Stopped by overfitting detector  (300 iterations wait)\n",
      "\n",
      "bestTest = 0.7414675384\n",
      "bestIteration = 540\n",
      "\n",
      "Shrink model to first 541 iterations.\n",
      "0:\ttest: 0.7210699\tbest: 0.7210699 (0)\ttotal: 112ms\tremaining: 5m 15s\n",
      "300:\ttest: 0.7385450\tbest: 0.7385450 (300)\ttotal: 27.1s\tremaining: 3m 46s\n",
      "600:\ttest: 0.7401204\tbest: 0.7401226 (598)\ttotal: 53.4s\tremaining: 3m 16s\n",
      "900:\ttest: 0.7408053\tbest: 0.7408086 (897)\ttotal: 1m 19s\tremaining: 2m 49s\n",
      "1200:\ttest: 0.7411533\tbest: 0.7411684 (1157)\ttotal: 1m 48s\tremaining: 2m 25s\n",
      "1500:\ttest: 0.7412734\tbest: 0.7412806 (1470)\ttotal: 2m 18s\tremaining: 2m 1s\n"
     ]
    },
    {
     "name": "stderr",
     "output_type": "stream",
     "text": [
      "[I 2025-02-22 01:56:52,879] Trial 25 finished with value: 0.7412806366976153 and parameters: {'iterations': 2815, 'depth': 8, 'learning_rate': 0.012829861275356536, 'l2_leaf_reg': 3.4892405147608914}. Best is trial 11 with value: 0.7418163807252675.\n"
     ]
    },
    {
     "name": "stdout",
     "output_type": "stream",
     "text": [
      "Stopped by overfitting detector  (300 iterations wait)\n",
      "\n",
      "bestTest = 0.7412806367\n",
      "bestIteration = 1470\n",
      "\n",
      "Shrink model to first 1471 iterations.\n",
      "0:\ttest: 0.7244002\tbest: 0.7244002 (0)\ttotal: 114ms\tremaining: 4m 37s\n",
      "300:\ttest: 0.7408814\tbest: 0.7408814 (300)\ttotal: 28.4s\tremaining: 3m 21s\n",
      "600:\ttest: 0.7415468\tbest: 0.7415660 (598)\ttotal: 59.6s\tremaining: 3m 2s\n",
      "900:\ttest: 0.7416307\tbest: 0.7417003 (860)\ttotal: 1m 32s\tremaining: 2m 37s\n"
     ]
    },
    {
     "name": "stderr",
     "output_type": "stream",
     "text": [
      "[I 2025-02-22 01:58:53,560] Trial 26 finished with value: 0.741700311720922 and parameters: {'iterations': 2442, 'depth': 9, 'learning_rate': 0.03481372185899784, 'l2_leaf_reg': 45.92734552929962}. Best is trial 11 with value: 0.7418163807252675.\n"
     ]
    },
    {
     "name": "stdout",
     "output_type": "stream",
     "text": [
      "Stopped by overfitting detector  (300 iterations wait)\n",
      "\n",
      "bestTest = 0.7417003117\n",
      "bestIteration = 860\n",
      "\n",
      "Shrink model to first 861 iterations.\n",
      "0:\ttest: 0.7191721\tbest: 0.7191721 (0)\ttotal: 103ms\tremaining: 4m 50s\n",
      "300:\ttest: 0.7412089\tbest: 0.7412089 (300)\ttotal: 23.5s\tremaining: 3m 18s\n",
      "600:\ttest: 0.7413621\tbest: 0.7414287 (423)\ttotal: 48.8s\tremaining: 3m 1s\n"
     ]
    },
    {
     "name": "stderr",
     "output_type": "stream",
     "text": [
      "[I 2025-02-22 01:59:53,240] Trial 27 finished with value: 0.7414286991322725 and parameters: {'iterations': 2834, 'depth': 7, 'learning_rate': 0.05799664233548174, 'l2_leaf_reg': 22.28408833031154}. Best is trial 11 with value: 0.7418163807252675.\n"
     ]
    },
    {
     "name": "stdout",
     "output_type": "stream",
     "text": [
      "Stopped by overfitting detector  (300 iterations wait)\n",
      "\n",
      "bestTest = 0.7414286991\n",
      "bestIteration = 423\n",
      "\n",
      "Shrink model to first 424 iterations.\n",
      "0:\ttest: 0.7276719\tbest: 0.7276719 (0)\ttotal: 140ms\tremaining: 6m 17s\n",
      "300:\ttest: 0.7404519\tbest: 0.7405027 (272)\ttotal: 39.8s\tremaining: 5m 17s\n",
      "600:\ttest: 0.7404650\tbest: 0.7407359 (474)\ttotal: 1m 22s\tremaining: 4m 46s\n"
     ]
    },
    {
     "name": "stderr",
     "output_type": "stream",
     "text": [
      "[I 2025-02-22 02:01:42,744] Trial 28 finished with value: 0.7407358708164609 and parameters: {'iterations': 2700, 'depth': 10, 'learning_rate': 0.027394808652976624, 'l2_leaf_reg': 0.5371243279683481}. Best is trial 11 with value: 0.7418163807252675.\n"
     ]
    },
    {
     "name": "stdout",
     "output_type": "stream",
     "text": [
      "Stopped by overfitting detector  (300 iterations wait)\n",
      "\n",
      "bestTest = 0.7407358708\n",
      "bestIteration = 474\n",
      "\n",
      "Shrink model to first 475 iterations.\n",
      "0:\ttest: 0.7243987\tbest: 0.7243987 (0)\ttotal: 113ms\tremaining: 4m 4s\n",
      "300:\ttest: 0.7384888\tbest: 0.7384888 (300)\ttotal: 29.3s\tremaining: 3m 1s\n",
      "600:\ttest: 0.7402536\tbest: 0.7402576 (599)\ttotal: 60s\tremaining: 2m 36s\n",
      "900:\ttest: 0.7407780\tbest: 0.7407811 (894)\ttotal: 1m 29s\tremaining: 2m 5s\n",
      "1200:\ttest: 0.7411135\tbest: 0.7411229 (1185)\ttotal: 1m 59s\tremaining: 1m 35s\n",
      "1500:\ttest: 0.7415163\tbest: 0.7415163 (1500)\ttotal: 2m 33s\tremaining: 1m 7s\n",
      "1800:\ttest: 0.7415588\tbest: 0.7415862 (1624)\ttotal: 3m 7s\tremaining: 37.8s\n"
     ]
    },
    {
     "name": "stderr",
     "output_type": "stream",
     "text": [
      "[I 2025-02-22 02:05:04,993] Trial 29 finished with value: 0.7415862321305752 and parameters: {'iterations': 2164, 'depth': 9, 'learning_rate': 0.00996264353251737, 'l2_leaf_reg': 2.7290983851008663}. Best is trial 11 with value: 0.7418163807252675.\n"
     ]
    },
    {
     "name": "stdout",
     "output_type": "stream",
     "text": [
      "Stopped by overfitting detector  (300 iterations wait)\n",
      "\n",
      "bestTest = 0.7415862321\n",
      "bestIteration = 1624\n",
      "\n",
      "Shrink model to first 1625 iterations.\n",
      "0:\ttest: 0.7196427\tbest: 0.7196427 (0)\ttotal: 78.7ms\tremaining: 3m 2s\n",
      "300:\ttest: 0.7401635\tbest: 0.7401635 (300)\ttotal: 20.4s\tremaining: 2m 16s\n",
      "600:\ttest: 0.7411199\tbest: 0.7411231 (560)\ttotal: 42.2s\tremaining: 2m\n",
      "900:\ttest: 0.7411587\tbest: 0.7412248 (785)\ttotal: 1m 3s\tremaining: 1m 40s\n"
     ]
    },
    {
     "name": "stderr",
     "output_type": "stream",
     "text": [
      "[I 2025-02-22 02:06:22,637] Trial 30 finished with value: 0.741224817949956 and parameters: {'iterations': 2322, 'depth': 6, 'learning_rate': 0.04439035082394222, 'l2_leaf_reg': 29.508756308739617}. Best is trial 11 with value: 0.7418163807252675.\n"
     ]
    },
    {
     "name": "stdout",
     "output_type": "stream",
     "text": [
      "Stopped by overfitting detector  (300 iterations wait)\n",
      "\n",
      "bestTest = 0.7412248179\n",
      "bestIteration = 785\n",
      "\n",
      "Shrink model to first 786 iterations.\n",
      "0:\ttest: 0.7286925\tbest: 0.7286925 (0)\ttotal: 135ms\tremaining: 5m 29s\n",
      "300:\ttest: 0.7410137\tbest: 0.7410137 (300)\ttotal: 37.9s\tremaining: 4m 30s\n",
      "600:\ttest: 0.7415465\tbest: 0.7415477 (597)\ttotal: 1m 24s\tremaining: 4m 19s\n"
     ]
    },
    {
     "name": "stderr",
     "output_type": "stream",
     "text": [
      "[I 2025-02-22 02:08:36,579] Trial 31 finished with value: 0.7415477304177414 and parameters: {'iterations': 2448, 'depth': 10, 'learning_rate': 0.030190694057920853, 'l2_leaf_reg': 43.273608783296396}. Best is trial 11 with value: 0.7418163807252675.\n"
     ]
    },
    {
     "name": "stdout",
     "output_type": "stream",
     "text": [
      "Stopped by overfitting detector  (300 iterations wait)\n",
      "\n",
      "bestTest = 0.7415477304\n",
      "bestIteration = 597\n",
      "\n",
      "Shrink model to first 598 iterations.\n",
      "0:\ttest: 0.7244133\tbest: 0.7244133 (0)\ttotal: 109ms\tremaining: 5m 24s\n",
      "300:\ttest: 0.7400986\tbest: 0.7401005 (299)\ttotal: 28.4s\tremaining: 4m 13s\n",
      "600:\ttest: 0.7410915\tbest: 0.7411000 (599)\ttotal: 55.5s\tremaining: 3m 40s\n",
      "900:\ttest: 0.7414089\tbest: 0.7414267 (876)\ttotal: 1m 27s\tremaining: 3m 23s\n",
      "1200:\ttest: 0.7413029\tbest: 0.7414318 (1039)\ttotal: 2m\tremaining: 2m 59s\n"
     ]
    },
    {
     "name": "stderr",
     "output_type": "stream",
     "text": [
      "[I 2025-02-22 02:10:52,751] Trial 32 finished with value: 0.7414317964235276 and parameters: {'iterations': 2986, 'depth': 9, 'learning_rate': 0.02053769423580474, 'l2_leaf_reg': 11.540304414932017}. Best is trial 11 with value: 0.7418163807252675.\n"
     ]
    },
    {
     "name": "stdout",
     "output_type": "stream",
     "text": [
      "Stopped by overfitting detector  (300 iterations wait)\n",
      "\n",
      "bestTest = 0.7414317964\n",
      "bestIteration = 1039\n",
      "\n",
      "Shrink model to first 1040 iterations.\n",
      "0:\ttest: 0.7276509\tbest: 0.7276509 (0)\ttotal: 133ms\tremaining: 5m 14s\n",
      "300:\ttest: 0.7409031\tbest: 0.7409182 (294)\ttotal: 38s\tremaining: 4m 21s\n",
      "600:\ttest: 0.7411700\tbest: 0.7412532 (578)\ttotal: 1m 28s\tremaining: 4m 19s\n"
     ]
    },
    {
     "name": "stderr",
     "output_type": "stream",
     "text": [
      "[I 2025-02-22 02:13:07,584] Trial 33 finished with value: 0.7412532296408931 and parameters: {'iterations': 2375, 'depth': 10, 'learning_rate': 0.040659538218382446, 'l2_leaf_reg': 39.71439761712648}. Best is trial 11 with value: 0.7418163807252675.\n"
     ]
    },
    {
     "name": "stdout",
     "output_type": "stream",
     "text": [
      "Stopped by overfitting detector  (300 iterations wait)\n",
      "\n",
      "bestTest = 0.7412532296\n",
      "bestIteration = 578\n",
      "\n",
      "Shrink model to first 579 iterations.\n",
      "0:\ttest: 0.7244038\tbest: 0.7244038 (0)\ttotal: 110ms\tremaining: 4m 38s\n",
      "300:\ttest: 0.7407367\tbest: 0.7407367 (300)\ttotal: 28.3s\tremaining: 3m 30s\n",
      "600:\ttest: 0.7412504\tbest: 0.7413909 (511)\ttotal: 1m\tremaining: 3m 14s\n"
     ]
    },
    {
     "name": "stderr",
     "output_type": "stream",
     "text": [
      "[I 2025-02-22 02:14:32,048] Trial 34 finished with value: 0.7413908526156656 and parameters: {'iterations': 2544, 'depth': 9, 'learning_rate': 0.0317214250784226, 'l2_leaf_reg': 6.536244876084377}. Best is trial 11 with value: 0.7418163807252675.\n"
     ]
    },
    {
     "name": "stdout",
     "output_type": "stream",
     "text": [
      "Stopped by overfitting detector  (300 iterations wait)\n",
      "\n",
      "bestTest = 0.7413908526\n",
      "bestIteration = 511\n",
      "\n",
      "Shrink model to first 512 iterations.\n",
      "0:\ttest: 0.7276780\tbest: 0.7276780 (0)\ttotal: 127ms\tremaining: 4m 39s\n",
      "300:\ttest: 0.7416577\tbest: 0.7417272 (274)\ttotal: 40.4s\tremaining: 4m 14s\n",
      "600:\ttest: 0.7414967\tbest: 0.7419417 (481)\ttotal: 1m 28s\tremaining: 3m 56s\n"
     ]
    },
    {
     "name": "stderr",
     "output_type": "stream",
     "text": [
      "[I 2025-02-22 02:16:30,792] Trial 35 finished with value: 0.7419416701274264 and parameters: {'iterations': 2201, 'depth': 10, 'learning_rate': 0.050634814098513316, 'l2_leaf_reg': 16.018720582622652}. Best is trial 35 with value: 0.7419416701274264.\n"
     ]
    },
    {
     "name": "stdout",
     "output_type": "stream",
     "text": [
      "Stopped by overfitting detector  (300 iterations wait)\n",
      "\n",
      "bestTest = 0.7419416701\n",
      "bestIteration = 481\n",
      "\n",
      "Shrink model to first 482 iterations.\n",
      "저장 완료\n",
      "0:\ttest: 0.7276878\tbest: 0.7276878 (0)\ttotal: 135ms\tremaining: 4m 54s\n",
      "300:\ttest: 0.7411214\tbest: 0.7412278 (294)\ttotal: 40.7s\tremaining: 4m 14s\n",
      "600:\ttest: 0.7414323\tbest: 0.7415192 (527)\ttotal: 1m 29s\tremaining: 3m 56s\n"
     ]
    },
    {
     "name": "stderr",
     "output_type": "stream",
     "text": [
      "[I 2025-02-22 02:18:38,415] Trial 36 finished with value: 0.7415191757749002 and parameters: {'iterations': 2181, 'depth': 10, 'learning_rate': 0.05004951851851157, 'l2_leaf_reg': 14.421938149457361}. Best is trial 35 with value: 0.7419416701274264.\n"
     ]
    },
    {
     "name": "stdout",
     "output_type": "stream",
     "text": [
      "Stopped by overfitting detector  (300 iterations wait)\n",
      "\n",
      "bestTest = 0.7415191758\n",
      "bestIteration = 527\n",
      "\n",
      "Shrink model to first 528 iterations.\n",
      "0:\ttest: 0.7276726\tbest: 0.7276726 (0)\ttotal: 130ms\tremaining: 4m 28s\n",
      "300:\ttest: 0.7341517\tbest: 0.7381654 (83)\ttotal: 41.1s\tremaining: 4m\n"
     ]
    },
    {
     "name": "stderr",
     "output_type": "stream",
     "text": [
      "[I 2025-02-22 02:19:32,296] Trial 37 finished with value: 0.7381653533569348 and parameters: {'iterations': 2060, 'depth': 10, 'learning_rate': 0.07417884959553789, 'l2_leaf_reg': 0.00011207505346582873}. Best is trial 35 with value: 0.7419416701274264.\n"
     ]
    },
    {
     "name": "stdout",
     "output_type": "stream",
     "text": [
      "Stopped by overfitting detector  (300 iterations wait)\n",
      "\n",
      "bestTest = 0.7381653534\n",
      "bestIteration = 83\n",
      "\n",
      "Shrink model to first 84 iterations.\n",
      "0:\ttest: 0.7276745\tbest: 0.7276745 (0)\ttotal: 134ms\tremaining: 3m 56s\n",
      "300:\ttest: 0.7375877\tbest: 0.7391943 (121)\ttotal: 40.1s\tremaining: 3m 15s\n"
     ]
    },
    {
     "name": "stderr",
     "output_type": "stream",
     "text": [
      "[I 2025-02-22 02:20:31,219] Trial 38 finished with value: 0.7391942854245699 and parameters: {'iterations': 1772, 'depth': 10, 'learning_rate': 0.056899063594922195, 'l2_leaf_reg': 0.007732432465843723}. Best is trial 35 with value: 0.7419416701274264.\n"
     ]
    },
    {
     "name": "stdout",
     "output_type": "stream",
     "text": [
      "Stopped by overfitting detector  (300 iterations wait)\n",
      "\n",
      "bestTest = 0.7391942854\n",
      "bestIteration = 121\n",
      "\n",
      "Shrink model to first 122 iterations.\n",
      "0:\ttest: 0.7049946\tbest: 0.7049946 (0)\ttotal: 60.8ms\tremaining: 2m 18s\n",
      "300:\ttest: 0.7409035\tbest: 0.7409567 (277)\ttotal: 17.5s\tremaining: 1m 54s\n",
      "600:\ttest: 0.7408038\tbest: 0.7410422 (463)\ttotal: 35.6s\tremaining: 1m 39s\n",
      "900:\ttest: 0.7410292\tbest: 0.7411658 (816)\ttotal: 54s\tremaining: 1m 22s\n"
     ]
    },
    {
     "name": "stderr",
     "output_type": "stream",
     "text": [
      "[I 2025-02-22 02:21:38,637] Trial 39 finished with value: 0.7411657907262271 and parameters: {'iterations': 2277, 'depth': 5, 'learning_rate': 0.08103129583237369, 'l2_leaf_reg': 1.8932255568425416}. Best is trial 35 with value: 0.7419416701274264.\n",
      "[I 2025-02-22 02:21:38,641] A new study created in memory with name: no-name-ef1cca3f-c92b-4ae6-bb92-5855576ad354\n"
     ]
    },
    {
     "name": "stdout",
     "output_type": "stream",
     "text": [
      "Stopped by overfitting detector  (300 iterations wait)\n",
      "\n",
      "bestTest = 0.7411657907\n",
      "bestIteration = 816\n",
      "\n",
      "Shrink model to first 817 iterations.\n"
     ]
    },
    {
     "name": "stderr",
     "output_type": "stream",
     "text": [
      "[I 2025-02-22 02:22:01,944] Trial 0 finished with value: 0.7301370235297882 and parameters: {'num_iterations': 2366, 'objective': 'binary', 'metric': 'auc', 'verbose': -1, 'learning_rate': 0.0652646236447618, 'n_estimators': 236, 'min_child_samples': 45, 'subsample': 0.7, 'colsample_bytree': 0.5}. Best is trial 0 with value: 0.7301370235297882.\n",
      "[I 2025-02-22 02:22:18,857] Trial 1 finished with value: 0.7406758985218106 and parameters: {'num_iterations': 1510, 'objective': 'binary', 'metric': 'auc', 'verbose': -1, 'learning_rate': 0.005231880959249543, 'n_estimators': 1411, 'min_child_samples': 10, 'subsample': 1.0, 'colsample_bytree': 0.5}. Best is trial 1 with value: 0.7406758985218106.\n",
      "[I 2025-02-22 02:22:38,114] Trial 2 finished with value: 0.7403877273376044 and parameters: {'num_iterations': 2334, 'objective': 'binary', 'metric': 'auc', 'verbose': -1, 'learning_rate': 0.006578527777128852, 'n_estimators': 931, 'min_child_samples': 15, 'subsample': 0.5, 'colsample_bytree': 1.0}. Best is trial 1 with value: 0.7406758985218106.\n",
      "[I 2025-02-22 02:22:54,218] Trial 3 finished with value: 0.7407327973505231 and parameters: {'num_iterations': 1620, 'objective': 'binary', 'metric': 'auc', 'verbose': -1, 'learning_rate': 0.0058823249237283685, 'n_estimators': 837, 'min_child_samples': 10, 'subsample': 0.9, 'colsample_bytree': 0.6}. Best is trial 3 with value: 0.7407327973505231.\n",
      "[I 2025-02-22 02:23:10,307] Trial 4 finished with value: 0.7402054596890084 and parameters: {'num_iterations': 1997, 'objective': 'binary', 'metric': 'auc', 'verbose': -1, 'learning_rate': 0.010907507425244923, 'n_estimators': 1597, 'min_child_samples': 50, 'subsample': 0.6, 'colsample_bytree': 0.8}. Best is trial 3 with value: 0.7407327973505231.\n",
      "[I 2025-02-22 02:23:32,609] Trial 5 finished with value: 0.7352435673310933 and parameters: {'num_iterations': 2909, 'objective': 'binary', 'metric': 'auc', 'verbose': -1, 'learning_rate': 0.019760591962733942, 'n_estimators': 612, 'min_child_samples': 30, 'subsample': 0.7, 'colsample_bytree': 0.9}. Best is trial 3 with value: 0.7407327973505231.\n",
      "[I 2025-02-22 02:23:53,023] Trial 6 finished with value: 0.736998671246168 and parameters: {'num_iterations': 2639, 'objective': 'binary', 'metric': 'auc', 'verbose': -1, 'learning_rate': 0.017862094446750985, 'n_estimators': 794, 'min_child_samples': 35, 'subsample': 1.0, 'colsample_bytree': 0.8}. Best is trial 3 with value: 0.7407327973505231.\n",
      "[I 2025-02-22 02:24:09,740] Trial 7 finished with value: 0.739727289540727 and parameters: {'num_iterations': 1580, 'objective': 'binary', 'metric': 'auc', 'verbose': -1, 'learning_rate': 0.01776722177611332, 'n_estimators': 529, 'min_child_samples': 25, 'subsample': 0.8, 'colsample_bytree': 0.5}. Best is trial 3 with value: 0.7407327973505231.\n",
      "[I 2025-02-22 02:24:26,885] Trial 8 finished with value: 0.7364931456626852 and parameters: {'num_iterations': 1911, 'objective': 'binary', 'metric': 'auc', 'verbose': -1, 'learning_rate': 0.0304747553332844, 'n_estimators': 1328, 'min_child_samples': 10, 'subsample': 0.7, 'colsample_bytree': 0.6}. Best is trial 3 with value: 0.7407327973505231.\n",
      "[I 2025-02-22 02:24:54,457] Trial 9 finished with value: 0.7362385880303702 and parameters: {'num_iterations': 2739, 'objective': 'binary', 'metric': 'auc', 'verbose': -1, 'learning_rate': 0.02691531614176271, 'n_estimators': 1438, 'min_child_samples': 20, 'subsample': 0.6, 'colsample_bytree': 0.5}. Best is trial 3 with value: 0.7407327973505231.\n",
      "[I 2025-02-22 02:25:08,607] Trial 10 finished with value: 0.7280068138183918 and parameters: {'num_iterations': 1883, 'objective': 'binary', 'metric': 'auc', 'verbose': -1, 'learning_rate': 0.08223556891145911, 'n_estimators': 1917, 'min_child_samples': 40, 'subsample': 0.9, 'colsample_bytree': 0.7}. Best is trial 3 with value: 0.7407327973505231.\n",
      "[I 2025-02-22 02:25:23,715] Trial 11 finished with value: 0.7408423302761428 and parameters: {'num_iterations': 1513, 'objective': 'binary', 'metric': 'auc', 'verbose': -1, 'learning_rate': 0.005340229419903739, 'n_estimators': 1206, 'min_child_samples': 10, 'subsample': 1.0, 'colsample_bytree': 0.6}. Best is trial 11 with value: 0.7408423302761428.\n",
      "[I 2025-02-22 02:25:38,370] Trial 12 finished with value: 0.7403608047290015 and parameters: {'num_iterations': 1717, 'objective': 'binary', 'metric': 'auc', 'verbose': -1, 'learning_rate': 0.008807202863131344, 'n_estimators': 1093, 'min_child_samples': 20, 'subsample': 0.9, 'colsample_bytree': 0.7}. Best is trial 11 with value: 0.7408423302761428.\n",
      "[I 2025-02-22 02:25:57,855] Trial 13 finished with value: 0.7396177923530833 and parameters: {'num_iterations': 2084, 'objective': 'binary', 'metric': 'auc', 'verbose': -1, 'learning_rate': 0.010947685715514379, 'n_estimators': 1108, 'min_child_samples': 10, 'subsample': 0.9, 'colsample_bytree': 0.6}. Best is trial 11 with value: 0.7408423302761428.\n",
      "[I 2025-02-22 02:26:15,230] Trial 14 finished with value: 0.7408510384296333 and parameters: {'num_iterations': 1759, 'objective': 'binary', 'metric': 'auc', 'verbose': -1, 'learning_rate': 0.00514593053258222, 'n_estimators': 172, 'min_child_samples': 20, 'subsample': 1.0, 'colsample_bytree': 0.6}. Best is trial 14 with value: 0.7408510384296333.\n",
      "[I 2025-02-22 02:26:30,090] Trial 15 finished with value: 0.7404608512074305 and parameters: {'num_iterations': 1756, 'objective': 'binary', 'metric': 'auc', 'verbose': -1, 'learning_rate': 0.008303365162986591, 'n_estimators': 208, 'min_child_samples': 20, 'subsample': 1.0, 'colsample_bytree': 0.7}. Best is trial 14 with value: 0.7408510384296333.\n",
      "[I 2025-02-22 02:26:49,382] Trial 16 finished with value: 0.7347650318612792 and parameters: {'num_iterations': 2163, 'objective': 'binary', 'metric': 'auc', 'verbose': -1, 'learning_rate': 0.03901437770924474, 'n_estimators': 463, 'min_child_samples': 25, 'subsample': 0.8, 'colsample_bytree': 0.6}. Best is trial 14 with value: 0.7408510384296333.\n",
      "[I 2025-02-22 02:27:05,786] Trial 17 finished with value: 0.7394548748330599 and parameters: {'num_iterations': 1770, 'objective': 'binary', 'metric': 'auc', 'verbose': -1, 'learning_rate': 0.014107419975913894, 'n_estimators': 1873, 'min_child_samples': 15, 'subsample': 1.0, 'colsample_bytree': 0.6}. Best is trial 14 with value: 0.7408510384296333.\n",
      "[I 2025-02-22 02:27:25,949] Trial 18 finished with value: 0.7406229864628676 and parameters: {'num_iterations': 2434, 'objective': 'binary', 'metric': 'auc', 'verbose': -1, 'learning_rate': 0.007395766065557996, 'n_estimators': 126, 'min_child_samples': 30, 'subsample': 0.8, 'colsample_bytree': 0.7}. Best is trial 14 with value: 0.7408510384296333.\n",
      "[I 2025-02-22 02:27:39,405] Trial 19 finished with value: 0.7406096045762908 and parameters: {'num_iterations': 1527, 'objective': 'binary', 'metric': 'auc', 'verbose': -1, 'learning_rate': 0.005234790012397332, 'n_estimators': 1670, 'min_child_samples': 15, 'subsample': 1.0, 'colsample_bytree': 0.8}. Best is trial 14 with value: 0.7408510384296333.\n",
      "[I 2025-02-22 02:27:54,484] Trial 20 finished with value: 0.739161724157528 and parameters: {'num_iterations': 1873, 'objective': 'binary', 'metric': 'auc', 'verbose': -1, 'learning_rate': 0.012796480593590575, 'n_estimators': 1257, 'min_child_samples': 25, 'subsample': 0.9, 'colsample_bytree': 0.9}. Best is trial 14 with value: 0.7408510384296333.\n",
      "[I 2025-02-22 02:28:10,955] Trial 21 finished with value: 0.7407368357418135 and parameters: {'num_iterations': 1655, 'objective': 'binary', 'metric': 'auc', 'verbose': -1, 'learning_rate': 0.005153550511409945, 'n_estimators': 864, 'min_child_samples': 10, 'subsample': 0.9, 'colsample_bytree': 0.6}. Best is trial 14 with value: 0.7408510384296333.\n",
      "[I 2025-02-22 02:28:27,635] Trial 22 finished with value: 0.740797129678248 and parameters: {'num_iterations': 1668, 'objective': 'binary', 'metric': 'auc', 'verbose': -1, 'learning_rate': 0.005003585055247969, 'n_estimators': 369, 'min_child_samples': 15, 'subsample': 1.0, 'colsample_bytree': 0.6}. Best is trial 14 with value: 0.7408510384296333.\n",
      "[I 2025-02-22 02:28:47,021] Trial 23 finished with value: 0.7404965057948414 and parameters: {'num_iterations': 1787, 'objective': 'binary', 'metric': 'auc', 'verbose': -1, 'learning_rate': 0.007594680866521767, 'n_estimators': 412, 'min_child_samples': 15, 'subsample': 1.0, 'colsample_bytree': 0.5}. Best is trial 14 with value: 0.7408510384296333.\n",
      "[I 2025-02-22 02:29:03,931] Trial 24 finished with value: 0.7400885329732385 and parameters: {'num_iterations': 2039, 'objective': 'binary', 'metric': 'auc', 'verbose': -1, 'learning_rate': 0.008991196778412532, 'n_estimators': 332, 'min_child_samples': 20, 'subsample': 1.0, 'colsample_bytree': 0.7}. Best is trial 14 with value: 0.7408510384296333.\n",
      "[I 2025-02-22 02:29:18,320] Trial 25 finished with value: 0.7404073673408713 and parameters: {'num_iterations': 1502, 'objective': 'binary', 'metric': 'auc', 'verbose': -1, 'learning_rate': 0.010114766220985208, 'n_estimators': 667, 'min_child_samples': 15, 'subsample': 1.0, 'colsample_bytree': 0.6}. Best is trial 14 with value: 0.7408510384296333.\n",
      "[I 2025-02-22 02:29:34,410] Trial 26 finished with value: 0.7407522983727721 and parameters: {'num_iterations': 1640, 'objective': 'binary', 'metric': 'auc', 'verbose': -1, 'learning_rate': 0.006560862459482555, 'n_estimators': 325, 'min_child_samples': 20, 'subsample': 0.9, 'colsample_bytree': 0.6}. Best is trial 14 with value: 0.7408510384296333.\n",
      "[I 2025-02-22 02:29:51,157] Trial 27 finished with value: 0.731606565132906 and parameters: {'num_iterations': 2160, 'objective': 'binary', 'metric': 'auc', 'verbose': -1, 'learning_rate': 0.047947876079429776, 'n_estimators': 712, 'min_child_samples': 15, 'subsample': 1.0, 'colsample_bytree': 0.7}. Best is trial 14 with value: 0.7408510384296333.\n",
      "[I 2025-02-22 02:30:10,559] Trial 28 finished with value: 0.7398677516991502 and parameters: {'num_iterations': 1852, 'objective': 'binary', 'metric': 'auc', 'verbose': -1, 'learning_rate': 0.013981759659711353, 'n_estimators': 110, 'min_child_samples': 25, 'subsample': 0.8, 'colsample_bytree': 0.5}. Best is trial 14 with value: 0.7408510384296333.\n",
      "[I 2025-02-22 02:30:29,265] Trial 29 finished with value: 0.7409201199372829 and parameters: {'num_iterations': 1695, 'objective': 'binary', 'metric': 'auc', 'verbose': -1, 'learning_rate': 0.006576802700232973, 'n_estimators': 971, 'min_child_samples': 35, 'subsample': 0.9, 'colsample_bytree': 0.5}. Best is trial 29 with value: 0.7409201199372829.\n",
      "[I 2025-02-22 02:30:50,660] Trial 30 finished with value: 0.7410774583621607 and parameters: {'num_iterations': 1959, 'objective': 'binary', 'metric': 'auc', 'verbose': -1, 'learning_rate': 0.006300048275050027, 'n_estimators': 1217, 'min_child_samples': 40, 'subsample': 0.9, 'colsample_bytree': 0.5}. Best is trial 30 with value: 0.7410774583621607.\n",
      "[I 2025-02-22 02:31:11,786] Trial 31 finished with value: 0.7410598514526407 and parameters: {'num_iterations': 1939, 'objective': 'binary', 'metric': 'auc', 'verbose': -1, 'learning_rate': 0.00653132422327227, 'n_estimators': 1187, 'min_child_samples': 40, 'subsample': 0.9, 'colsample_bytree': 0.5}. Best is trial 30 with value: 0.7410774583621607.\n",
      "[I 2025-02-22 02:31:33,056] Trial 32 finished with value: 0.7409819942864347 and parameters: {'num_iterations': 1956, 'objective': 'binary', 'metric': 'auc', 'verbose': -1, 'learning_rate': 0.0066891129944415565, 'n_estimators': 1033, 'min_child_samples': 40, 'subsample': 0.8, 'colsample_bytree': 0.5}. Best is trial 30 with value: 0.7410774583621607.\n",
      "[I 2025-02-22 02:31:54,580] Trial 33 finished with value: 0.7409232053158794 and parameters: {'num_iterations': 1967, 'objective': 'binary', 'metric': 'auc', 'verbose': -1, 'learning_rate': 0.006765190964627615, 'n_estimators': 980, 'min_child_samples': 40, 'subsample': 0.8, 'colsample_bytree': 0.5}. Best is trial 30 with value: 0.7410774583621607.\n",
      "[I 2025-02-22 02:32:19,317] Trial 34 finished with value: 0.7409900988652192 and parameters: {'num_iterations': 2287, 'objective': 'binary', 'metric': 'auc', 'verbose': -1, 'learning_rate': 0.006747234891872135, 'n_estimators': 1002, 'min_child_samples': 45, 'subsample': 0.8, 'colsample_bytree': 0.5}. Best is trial 30 with value: 0.7410774583621607.\n",
      "[I 2025-02-22 02:32:44,256] Trial 35 finished with value: 0.7405883762185339 and parameters: {'num_iterations': 2341, 'objective': 'binary', 'metric': 'auc', 'verbose': -1, 'learning_rate': 0.009973915578206077, 'n_estimators': 1462, 'min_child_samples': 50, 'subsample': 0.8, 'colsample_bytree': 0.5}. Best is trial 30 with value: 0.7410774583621607.\n",
      "[I 2025-02-22 02:33:08,017] Trial 36 finished with value: 0.7402791037449301 and parameters: {'num_iterations': 2238, 'objective': 'binary', 'metric': 'auc', 'verbose': -1, 'learning_rate': 0.01189232564507846, 'n_estimators': 1170, 'min_child_samples': 45, 'subsample': 0.7, 'colsample_bytree': 0.5}. Best is trial 30 with value: 0.7410774583621607.\n",
      "[I 2025-02-22 02:33:34,492] Trial 37 finished with value: 0.7409727937430524 and parameters: {'num_iterations': 2442, 'objective': 'binary', 'metric': 'auc', 'verbose': -1, 'learning_rate': 0.006368220408387704, 'n_estimators': 1038, 'min_child_samples': 45, 'subsample': 0.6, 'colsample_bytree': 0.5}. Best is trial 30 with value: 0.7410774583621607.\n",
      "[I 2025-02-22 02:33:57,143] Trial 38 finished with value: 0.7409157003409149 and parameters: {'num_iterations': 2109, 'objective': 'binary', 'metric': 'auc', 'verbose': -1, 'learning_rate': 0.008244517219724497, 'n_estimators': 1351, 'min_child_samples': 40, 'subsample': 0.8, 'colsample_bytree': 0.5}. Best is trial 30 with value: 0.7410774583621607.\n",
      "[I 2025-02-22 02:34:13,424] Trial 39 finished with value: 0.7403738570320217 and parameters: {'num_iterations': 1975, 'objective': 'binary', 'metric': 'auc', 'verbose': -1, 'learning_rate': 0.00749609700985044, 'n_estimators': 1579, 'min_child_samples': 35, 'subsample': 0.7, 'colsample_bytree': 1.0}. Best is trial 30 with value: 0.7410774583621607.\n"
     ]
    },
    {
     "name": "stdout",
     "output_type": "stream",
     "text": [
      "Cat val score : 0.7419416701274264\n",
      "LGBM val score : 0.7408301714225229\n",
      "Ensemble val score : 0.7419753154464075\n"
     ]
    },
    {
     "name": "stderr",
     "output_type": "stream",
     "text": [
      "[I 2025-02-22 02:34:36,247] A new study created in memory with name: no-name-3996fd5b-0e6a-4ed5-9dce-8f68c3ea1f73\n"
     ]
    },
    {
     "name": "stdout",
     "output_type": "stream",
     "text": [
      "==================================================\n",
      "0:\ttest: 0.7094093\tbest: 0.7094093 (0)\ttotal: 102ms\tremaining: 4m\n",
      "300:\ttest: 0.7411434\tbest: 0.7411434 (300)\ttotal: 36.5s\tremaining: 4m 10s\n",
      "600:\ttest: 0.7430200\tbest: 0.7430200 (600)\ttotal: 1m 15s\tremaining: 3m 42s\n",
      "900:\ttest: 0.7435986\tbest: 0.7435991 (899)\ttotal: 1m 54s\tremaining: 3m 6s\n",
      "1200:\ttest: 0.7439908\tbest: 0.7439908 (1200)\ttotal: 2m 39s\tremaining: 2m 34s\n",
      "1500:\ttest: 0.7442091\tbest: 0.7442295 (1451)\ttotal: 3m 29s\tremaining: 2m\n"
     ]
    },
    {
     "name": "stderr",
     "output_type": "stream",
     "text": [
      "[I 2025-02-22 02:38:49,647] Trial 0 finished with value: 0.7442294843130774 and parameters: {'iterations': 2366, 'depth': 10, 'learning_rate': 0.01181021951839225, 'l2_leaf_reg': 9.980783802743254}. Best is trial 0 with value: 0.7442294843130774.\n"
     ]
    },
    {
     "name": "stdout",
     "output_type": "stream",
     "text": [
      "Stopped by overfitting detector  (300 iterations wait)\n",
      "\n",
      "bestTest = 0.7442294843\n",
      "bestIteration = 1451\n",
      "\n",
      "Shrink model to first 1452 iterations.\n",
      "저장 완료\n",
      "0:\ttest: 0.6908910\tbest: 0.6908910 (0)\ttotal: 66.2ms\tremaining: 2m 25s\n",
      "300:\ttest: 0.7307479\tbest: 0.7307479 (300)\ttotal: 14.3s\tremaining: 1m 30s\n",
      "600:\ttest: 0.7356841\tbest: 0.7356841 (600)\ttotal: 28.4s\tremaining: 1m 15s\n",
      "900:\ttest: 0.7381136\tbest: 0.7381136 (900)\ttotal: 43.2s\tremaining: 1m 1s\n",
      "1200:\ttest: 0.7393996\tbest: 0.7393996 (1200)\ttotal: 57.7s\tremaining: 47.6s\n",
      "1500:\ttest: 0.7401512\tbest: 0.7401512 (1500)\ttotal: 1m 12s\tremaining: 33.2s\n",
      "1800:\ttest: 0.7407515\tbest: 0.7407515 (1800)\ttotal: 1m 26s\tremaining: 18.9s\n",
      "2100:\ttest: 0.7412422\tbest: 0.7412422 (2100)\ttotal: 1m 42s\tremaining: 4.47s\n"
     ]
    },
    {
     "name": "stderr",
     "output_type": "stream",
     "text": [
      "[I 2025-02-22 02:40:36,823] Trial 1 finished with value: 0.7414113781265607 and parameters: {'iterations': 2193, 'depth': 4, 'learning_rate': 0.005671430811678843, 'l2_leaf_reg': 0.00012325230809466137}. Best is trial 0 with value: 0.7442294843130774.\n"
     ]
    },
    {
     "name": "stdout",
     "output_type": "stream",
     "text": [
      "2192:\ttest: 0.7414114\tbest: 0.7414114 (2192)\ttotal: 1m 46s\tremaining: 0us\n",
      "\n",
      "bestTest = 0.7414113781\n",
      "bestIteration = 2192\n",
      "\n",
      "0:\ttest: 0.6908910\tbest: 0.6908910 (0)\ttotal: 70.3ms\tremaining: 2m 58s\n",
      "300:\ttest: 0.7432519\tbest: 0.7432519 (300)\ttotal: 15.5s\tremaining: 1m 54s\n",
      "600:\ttest: 0.7434330\tbest: 0.7438538 (443)\ttotal: 31.2s\tremaining: 1m 40s\n"
     ]
    },
    {
     "name": "stderr",
     "output_type": "stream",
     "text": [
      "[I 2025-02-22 02:41:16,096] Trial 2 finished with value: 0.743853763029391 and parameters: {'iterations': 2535, 'depth': 4, 'learning_rate': 0.09275339199839054, 'l2_leaf_reg': 0.0008705394248343123}. Best is trial 0 with value: 0.7442294843130774.\n"
     ]
    },
    {
     "name": "stdout",
     "output_type": "stream",
     "text": [
      "Stopped by overfitting detector  (300 iterations wait)\n",
      "\n",
      "bestTest = 0.743853763\n",
      "bestIteration = 443\n",
      "\n",
      "Shrink model to first 444 iterations.\n",
      "0:\ttest: 0.6908910\tbest: 0.6908910 (0)\ttotal: 57.7ms\tremaining: 2m 14s\n",
      "300:\ttest: 0.7420684\tbest: 0.7420718 (299)\ttotal: 15.4s\tremaining: 1m 43s\n",
      "600:\ttest: 0.7433505\tbest: 0.7434102 (594)\ttotal: 31.1s\tremaining: 1m 29s\n",
      "900:\ttest: 0.7434070\tbest: 0.7434623 (653)\ttotal: 46.7s\tremaining: 1m 14s\n"
     ]
    },
    {
     "name": "stderr",
     "output_type": "stream",
     "text": [
      "[I 2025-02-22 02:42:05,753] Trial 3 finished with value: 0.7434622932109377 and parameters: {'iterations': 2334, 'depth': 4, 'learning_rate': 0.04657568321363276, 'l2_leaf_reg': 0.0008640473331457248}. Best is trial 0 with value: 0.7442294843130774.\n"
     ]
    },
    {
     "name": "stdout",
     "output_type": "stream",
     "text": [
      "Stopped by overfitting detector  (300 iterations wait)\n",
      "\n",
      "bestTest = 0.7434622932\n",
      "bestIteration = 653\n",
      "\n",
      "Shrink model to first 654 iterations.\n",
      "0:\ttest: 0.7092638\tbest: 0.7092638 (0)\ttotal: 98.3ms\tremaining: 2m 51s\n",
      "300:\ttest: 0.7412935\tbest: 0.7412935 (300)\ttotal: 39.7s\tremaining: 3m 10s\n",
      "600:\ttest: 0.7427172\tbest: 0.7427305 (597)\ttotal: 1m 21s\tremaining: 2m 35s\n",
      "900:\ttest: 0.7425673\tbest: 0.7427339 (601)\ttotal: 2m 5s\tremaining: 1m 57s\n"
     ]
    },
    {
     "name": "stderr",
     "output_type": "stream",
     "text": [
      "[I 2025-02-22 02:44:12,200] Trial 4 finished with value: 0.7427339135507572 and parameters: {'iterations': 1742, 'depth': 10, 'learning_rate': 0.012622767482095846, 'l2_leaf_reg': 0.00021158816350109617}. Best is trial 0 with value: 0.7442294843130774.\n"
     ]
    },
    {
     "name": "stdout",
     "output_type": "stream",
     "text": [
      "Stopped by overfitting detector  (300 iterations wait)\n",
      "\n",
      "bestTest = 0.7427339136\n",
      "bestIteration = 601\n",
      "\n",
      "Shrink model to first 602 iterations.\n",
      "0:\ttest: 0.6908910\tbest: 0.6908910 (0)\ttotal: 69.4ms\tremaining: 2m 24s\n",
      "300:\ttest: 0.7425958\tbest: 0.7425958 (300)\ttotal: 15.6s\tremaining: 1m 32s\n",
      "600:\ttest: 0.7429640\tbest: 0.7430578 (534)\ttotal: 30.8s\tremaining: 1m 15s\n"
     ]
    },
    {
     "name": "stderr",
     "output_type": "stream",
     "text": [
      "[I 2025-02-22 02:44:54,909] Trial 5 finished with value: 0.7430578385945299 and parameters: {'iterations': 2082, 'depth': 4, 'learning_rate': 0.06995196593094148, 'l2_leaf_reg': 0.0018080296485396804}. Best is trial 0 with value: 0.7442294843130774.\n"
     ]
    },
    {
     "name": "stdout",
     "output_type": "stream",
     "text": [
      "Stopped by overfitting detector  (300 iterations wait)\n",
      "\n",
      "bestTest = 0.7430578386\n",
      "bestIteration = 534\n",
      "\n",
      "Shrink model to first 535 iterations.\n",
      "0:\ttest: 0.6928633\tbest: 0.6928633 (0)\ttotal: 68.1ms\tremaining: 2m 15s\n",
      "300:\ttest: 0.7432811\tbest: 0.7432811 (300)\ttotal: 18.2s\tremaining: 1m 42s\n",
      "600:\ttest: 0.7437303\tbest: 0.7437794 (550)\ttotal: 36.1s\tremaining: 1m 23s\n",
      "900:\ttest: 0.7439195\tbest: 0.7439968 (847)\ttotal: 54s\tremaining: 1m 5s\n",
      "1200:\ttest: 0.7439815\tbest: 0.7440460 (997)\ttotal: 1m 12s\tremaining: 48.2s\n"
     ]
    },
    {
     "name": "stderr",
     "output_type": "stream",
     "text": [
      "[I 2025-02-22 02:46:13,903] Trial 6 finished with value: 0.7440460134859556 and parameters: {'iterations': 1997, 'depth': 5, 'learning_rate': 0.07985155992831598, 'l2_leaf_reg': 62.52181000710482}. Best is trial 0 with value: 0.7442294843130774.\n"
     ]
    },
    {
     "name": "stdout",
     "output_type": "stream",
     "text": [
      "Stopped by overfitting detector  (300 iterations wait)\n",
      "\n",
      "bestTest = 0.7440460135\n",
      "bestIteration = 997\n",
      "\n",
      "Shrink model to first 998 iterations.\n",
      "0:\ttest: 0.7092638\tbest: 0.7092638 (0)\ttotal: 85.2ms\tremaining: 2m 44s\n",
      "300:\ttest: 0.7423089\tbest: 0.7432835 (148)\ttotal: 24.4s\tremaining: 2m 11s\n"
     ]
    },
    {
     "name": "stderr",
     "output_type": "stream",
     "text": [
      "[I 2025-02-22 02:46:50,828] Trial 7 finished with value: 0.7432835080295608 and parameters: {'iterations': 1927, 'depth': 7, 'learning_rate': 0.0941937211034094, 'l2_leaf_reg': 0.05654822767791934}. Best is trial 0 with value: 0.7442294843130774.\n"
     ]
    },
    {
     "name": "stdout",
     "output_type": "stream",
     "text": [
      "Stopped by overfitting detector  (300 iterations wait)\n",
      "\n",
      "bestTest = 0.743283508\n",
      "bestIteration = 148\n",
      "\n",
      "Shrink model to first 149 iterations.\n",
      "0:\ttest: 0.7092637\tbest: 0.7092637 (0)\ttotal: 83.6ms\tremaining: 2m 39s\n",
      "300:\ttest: 0.7436716\tbest: 0.7436716 (300)\ttotal: 23.2s\tremaining: 2m 3s\n",
      "600:\ttest: 0.7440263\tbest: 0.7441198 (558)\ttotal: 49.3s\tremaining: 1m 46s\n"
     ]
    },
    {
     "name": "stderr",
     "output_type": "stream",
     "text": [
      "[I 2025-02-22 02:48:02,645] Trial 8 finished with value: 0.7441198441735297 and parameters: {'iterations': 1904, 'depth': 7, 'learning_rate': 0.05155602859187331, 'l2_leaf_reg': 1.299974533316308}. Best is trial 0 with value: 0.7442294843130774.\n"
     ]
    },
    {
     "name": "stdout",
     "output_type": "stream",
     "text": [
      "Stopped by overfitting detector  (300 iterations wait)\n",
      "\n",
      "bestTest = 0.7441198442\n",
      "bestIteration = 558\n",
      "\n",
      "Shrink model to first 559 iterations.\n",
      "0:\ttest: 0.6951126\tbest: 0.6951126 (0)\ttotal: 72.2ms\tremaining: 3m 10s\n",
      "300:\ttest: 0.7426888\tbest: 0.7427012 (299)\ttotal: 20.1s\tremaining: 2m 35s\n",
      "600:\ttest: 0.7435336\tbest: 0.7436660 (531)\ttotal: 43.1s\tremaining: 2m 26s\n",
      "900:\ttest: 0.7436499\tbest: 0.7437850 (835)\ttotal: 1m 6s\tremaining: 2m 8s\n"
     ]
    },
    {
     "name": "stderr",
     "output_type": "stream",
     "text": [
      "[I 2025-02-22 02:49:27,417] Trial 9 finished with value: 0.7437849872799807 and parameters: {'iterations': 2639, 'depth': 6, 'learning_rate': 0.03968704290444751, 'l2_leaf_reg': 0.30557194377967184}. Best is trial 0 with value: 0.7442294843130774.\n"
     ]
    },
    {
     "name": "stdout",
     "output_type": "stream",
     "text": [
      "Stopped by overfitting detector  (300 iterations wait)\n",
      "\n",
      "bestTest = 0.7437849873\n",
      "bestIteration = 835\n",
      "\n",
      "Shrink model to first 836 iterations.\n",
      "0:\ttest: 0.7093449\tbest: 0.7093449 (0)\ttotal: 106ms\tremaining: 5m 10s\n",
      "300:\ttest: 0.7431125\tbest: 0.7431139 (299)\ttotal: 41s\tremaining: 6m\n",
      "600:\ttest: 0.7439177\tbest: 0.7439206 (597)\ttotal: 1m 22s\tremaining: 5m 20s\n",
      "900:\ttest: 0.7441784\tbest: 0.7441898 (884)\ttotal: 2m 18s\tremaining: 5m 14s\n",
      "1200:\ttest: 0.7442076\tbest: 0.7442686 (1063)\ttotal: 3m 14s\tremaining: 4m 42s\n"
     ]
    },
    {
     "name": "stderr",
     "output_type": "stream",
     "text": [
      "[I 2025-02-22 02:53:12,721] Trial 10 finished with value: 0.7442685578335277 and parameters: {'iterations': 2945, 'depth': 10, 'learning_rate': 0.025911330134996406, 'l2_leaf_reg': 97.18545559492516}. Best is trial 10 with value: 0.7442685578335277.\n"
     ]
    },
    {
     "name": "stdout",
     "output_type": "stream",
     "text": [
      "Stopped by overfitting detector  (300 iterations wait)\n",
      "\n",
      "bestTest = 0.7442685578\n",
      "bestIteration = 1063\n",
      "\n",
      "Shrink model to first 1064 iterations.\n",
      "저장 완료\n",
      "0:\ttest: 0.7093913\tbest: 0.7093913 (0)\ttotal: 101ms\tremaining: 5m\n",
      "300:\ttest: 0.7433932\tbest: 0.7433939 (299)\ttotal: 37.3s\tremaining: 5m 33s\n",
      "600:\ttest: 0.7441291\tbest: 0.7441291 (600)\ttotal: 1m 19s\tremaining: 5m 18s\n",
      "900:\ttest: 0.7442391\tbest: 0.7442438 (899)\ttotal: 2m 12s\tremaining: 5m 8s\n",
      "1200:\ttest: 0.7442456\tbest: 0.7442561 (1119)\ttotal: 3m 10s\tremaining: 4m 44s\n",
      "1500:\ttest: 0.7441264\tbest: 0.7442921 (1310)\ttotal: 4m 8s\tremaining: 4m 7s\n"
     ]
    },
    {
     "name": "stderr",
     "output_type": "stream",
     "text": [
      "[I 2025-02-22 02:57:42,973] Trial 11 finished with value: 0.7442921488685881 and parameters: {'iterations': 2995, 'depth': 10, 'learning_rate': 0.026163874004606635, 'l2_leaf_reg': 73.1213351392818}. Best is trial 11 with value: 0.7442921488685881.\n"
     ]
    },
    {
     "name": "stdout",
     "output_type": "stream",
     "text": [
      "Stopped by overfitting detector  (300 iterations wait)\n",
      "\n",
      "bestTest = 0.7442921489\n",
      "bestIteration = 1310\n",
      "\n",
      "Shrink model to first 1311 iterations.\n",
      "저장 완료\n",
      "0:\ttest: 0.7093816\tbest: 0.7093816 (0)\ttotal: 104ms\tremaining: 4m 59s\n",
      "300:\ttest: 0.7432372\tbest: 0.7432374 (299)\ttotal: 29.4s\tremaining: 4m 13s\n",
      "600:\ttest: 0.7441720\tbest: 0.7441720 (600)\ttotal: 1m\tremaining: 3m 49s\n",
      "900:\ttest: 0.7444469\tbest: 0.7444549 (887)\ttotal: 1m 32s\tremaining: 3m 25s\n",
      "1200:\ttest: 0.7445038\tbest: 0.7445156 (1192)\ttotal: 2m 5s\tremaining: 2m 57s\n"
     ]
    },
    {
     "name": "stderr",
     "output_type": "stream",
     "text": [
      "[I 2025-02-22 03:00:21,431] Trial 12 finished with value: 0.7445156065199918 and parameters: {'iterations': 2897, 'depth': 9, 'learning_rate': 0.02806616524326411, 'l2_leaf_reg': 87.13438924619796}. Best is trial 12 with value: 0.7445156065199918.\n"
     ]
    },
    {
     "name": "stdout",
     "output_type": "stream",
     "text": [
      "Stopped by overfitting detector  (300 iterations wait)\n",
      "\n",
      "bestTest = 0.7445156065\n",
      "bestIteration = 1192\n",
      "\n",
      "Shrink model to first 1193 iterations.\n",
      "저장 완료\n",
      "0:\ttest: 0.7093438\tbest: 0.7093438 (0)\ttotal: 103ms\tremaining: 5m 5s\n",
      "300:\ttest: 0.7432032\tbest: 0.7432196 (290)\ttotal: 28.1s\tremaining: 4m 9s\n",
      "600:\ttest: 0.7440171\tbest: 0.7440425 (595)\ttotal: 59.1s\tremaining: 3m 53s\n",
      "900:\ttest: 0.7438022\tbest: 0.7440685 (630)\ttotal: 1m 31s\tremaining: 3m 31s\n"
     ]
    },
    {
     "name": "stderr",
     "output_type": "stream",
     "text": [
      "[I 2025-02-22 03:01:56,874] Trial 13 finished with value: 0.7440684688475557 and parameters: {'iterations': 2975, 'depth': 9, 'learning_rate': 0.02991325011301619, 'l2_leaf_reg': 6.51790052016232}. Best is trial 12 with value: 0.7445156065199918.\n"
     ]
    },
    {
     "name": "stdout",
     "output_type": "stream",
     "text": [
      "Stopped by overfitting detector  (300 iterations wait)\n",
      "\n",
      "bestTest = 0.7440684688\n",
      "bestIteration = 630\n",
      "\n",
      "Shrink model to first 631 iterations.\n",
      "0:\ttest: 0.7094094\tbest: 0.7094094 (0)\ttotal: 116ms\tremaining: 5m 19s\n",
      "300:\ttest: 0.7428751\tbest: 0.7428799 (298)\ttotal: 25.5s\tremaining: 3m 27s\n",
      "600:\ttest: 0.7441108\tbest: 0.7441216 (592)\ttotal: 52.4s\tremaining: 3m 7s\n",
      "900:\ttest: 0.7442131\tbest: 0.7442982 (698)\ttotal: 1m 21s\tremaining: 2m 46s\n"
     ]
    },
    {
     "name": "stderr",
     "output_type": "stream",
     "text": [
      "[I 2025-02-22 03:03:27,348] Trial 14 finished with value: 0.7442981885865357 and parameters: {'iterations': 2754, 'depth': 8, 'learning_rate': 0.028213940573808334, 'l2_leaf_reg': 11.34882823847059}. Best is trial 12 with value: 0.7445156065199918.\n"
     ]
    },
    {
     "name": "stdout",
     "output_type": "stream",
     "text": [
      "Stopped by overfitting detector  (300 iterations wait)\n",
      "\n",
      "bestTest = 0.7442981886\n",
      "bestIteration = 698\n",
      "\n",
      "Shrink model to first 699 iterations.\n",
      "0:\ttest: 0.7092638\tbest: 0.7092638 (0)\ttotal: 94.4ms\tremaining: 4m 16s\n",
      "300:\ttest: 0.7427564\tbest: 0.7428543 (248)\ttotal: 26.8s\tremaining: 3m 34s\n"
     ]
    },
    {
     "name": "stderr",
     "output_type": "stream",
     "text": [
      "[I 2025-02-22 03:04:18,930] Trial 15 finished with value: 0.7428542591995666 and parameters: {'iterations': 2718, 'depth': 8, 'learning_rate': 0.06211785996573631, 'l2_leaf_reg': 0.030020115275661678}. Best is trial 12 with value: 0.7445156065199918.\n"
     ]
    },
    {
     "name": "stdout",
     "output_type": "stream",
     "text": [
      "Stopped by overfitting detector  (300 iterations wait)\n",
      "\n",
      "bestTest = 0.7428542592\n",
      "bestIteration = 248\n",
      "\n",
      "Shrink model to first 249 iterations.\n",
      "0:\ttest: 0.7093483\tbest: 0.7093483 (0)\ttotal: 93.4ms\tremaining: 4m 15s\n",
      "300:\ttest: 0.7431256\tbest: 0.7431256 (300)\ttotal: 25.7s\tremaining: 3m 28s\n",
      "600:\ttest: 0.7440239\tbest: 0.7441265 (514)\ttotal: 53.7s\tremaining: 3m 11s\n"
     ]
    },
    {
     "name": "stderr",
     "output_type": "stream",
     "text": [
      "[I 2025-02-22 03:05:33,837] Trial 16 finished with value: 0.7441265470294769 and parameters: {'iterations': 2740, 'depth': 8, 'learning_rate': 0.035870893236084424, 'l2_leaf_reg': 7.271286562073501}. Best is trial 12 with value: 0.7445156065199918.\n"
     ]
    },
    {
     "name": "stdout",
     "output_type": "stream",
     "text": [
      "Stopped by overfitting detector  (300 iterations wait)\n",
      "\n",
      "bestTest = 0.744126547\n",
      "bestIteration = 514\n",
      "\n",
      "Shrink model to first 515 iterations.\n",
      "0:\ttest: 0.7092637\tbest: 0.7092637 (0)\ttotal: 94.1ms\tremaining: 4m 24s\n",
      "300:\ttest: 0.7423898\tbest: 0.7423900 (299)\ttotal: 25.5s\tremaining: 3m 32s\n",
      "600:\ttest: 0.7435235\tbest: 0.7435298 (599)\ttotal: 50.9s\tremaining: 3m 7s\n",
      "900:\ttest: 0.7439206\tbest: 0.7439379 (888)\ttotal: 1m 19s\tremaining: 2m 48s\n",
      "1200:\ttest: 0.7437848\tbest: 0.7439555 (915)\ttotal: 1m 49s\tremaining: 2m 27s\n"
     ]
    },
    {
     "name": "stderr",
     "output_type": "stream",
     "text": [
      "[I 2025-02-22 03:07:25,360] Trial 17 finished with value: 0.7439555447851003 and parameters: {'iterations': 2811, 'depth': 8, 'learning_rate': 0.021754312478655786, 'l2_leaf_reg': 1.1573000967262355}. Best is trial 12 with value: 0.7445156065199918.\n"
     ]
    },
    {
     "name": "stdout",
     "output_type": "stream",
     "text": [
      "Stopped by overfitting detector  (300 iterations wait)\n",
      "\n",
      "bestTest = 0.7439555448\n",
      "bestIteration = 915\n",
      "\n",
      "Shrink model to first 916 iterations.\n",
      "0:\ttest: 0.7094129\tbest: 0.7094129 (0)\ttotal: 93.2ms\tremaining: 3m 53s\n",
      "300:\ttest: 0.7436141\tbest: 0.7436192 (298)\ttotal: 27.9s\tremaining: 3m 24s\n",
      "600:\ttest: 0.7440046\tbest: 0.7442308 (420)\ttotal: 1m\tremaining: 3m 11s\n"
     ]
    },
    {
     "name": "stderr",
     "output_type": "stream",
     "text": [
      "[I 2025-02-22 03:08:39,141] Trial 18 finished with value: 0.744230766909328 and parameters: {'iterations': 2507, 'depth': 9, 'learning_rate': 0.0414161631329224, 'l2_leaf_reg': 18.777065184428203}. Best is trial 12 with value: 0.7445156065199918.\n"
     ]
    },
    {
     "name": "stdout",
     "output_type": "stream",
     "text": [
      "Stopped by overfitting detector  (300 iterations wait)\n",
      "\n",
      "bestTest = 0.7442307669\n",
      "bestIteration = 420\n",
      "\n",
      "Shrink model to first 421 iterations.\n",
      "0:\ttest: 0.7092637\tbest: 0.7092637 (0)\ttotal: 95.2ms\tremaining: 4m 29s\n",
      "300:\ttest: 0.7432354\tbest: 0.7434586 (225)\ttotal: 30.5s\tremaining: 4m 15s\n"
     ]
    },
    {
     "name": "stderr",
     "output_type": "stream",
     "text": [
      "[I 2025-02-22 03:09:35,076] Trial 19 finished with value: 0.7434585645487728 and parameters: {'iterations': 2831, 'depth': 9, 'learning_rate': 0.06099268797854106, 'l2_leaf_reg': 1.4969676709690884}. Best is trial 12 with value: 0.7445156065199918.\n"
     ]
    },
    {
     "name": "stdout",
     "output_type": "stream",
     "text": [
      "Stopped by overfitting detector  (300 iterations wait)\n",
      "\n",
      "bestTest = 0.7434585645\n",
      "bestIteration = 225\n",
      "\n",
      "Shrink model to first 226 iterations.\n",
      "0:\ttest: 0.7092638\tbest: 0.7092638 (0)\ttotal: 84.2ms\tremaining: 2m 10s\n",
      "300:\ttest: 0.7411252\tbest: 0.7411252 (300)\ttotal: 22.2s\tremaining: 1m 32s\n",
      "600:\ttest: 0.7429389\tbest: 0.7429441 (598)\ttotal: 44.5s\tremaining: 1m 10s\n",
      "900:\ttest: 0.7434924\tbest: 0.7435169 (895)\ttotal: 1m 8s\tremaining: 49.8s\n",
      "1200:\ttest: 0.7435597\tbest: 0.7436731 (1134)\ttotal: 1m 34s\tremaining: 27.5s\n"
     ]
    },
    {
     "name": "stderr",
     "output_type": "stream",
     "text": [
      "[I 2025-02-22 03:11:29,276] Trial 20 finished with value: 0.7436731035897162 and parameters: {'iterations': 1551, 'depth': 7, 'learning_rate': 0.019347020037057214, 'l2_leaf_reg': 0.012990508780008181}. Best is trial 12 with value: 0.7445156065199918.\n"
     ]
    },
    {
     "name": "stdout",
     "output_type": "stream",
     "text": [
      "Stopped by overfitting detector  (300 iterations wait)\n",
      "\n",
      "bestTest = 0.7436731036\n",
      "bestIteration = 1134\n",
      "\n",
      "Shrink model to first 1135 iterations.\n",
      "0:\ttest: 0.7094226\tbest: 0.7094226 (0)\ttotal: 88.4ms\tremaining: 4m 23s\n",
      "300:\ttest: 0.7431696\tbest: 0.7431696 (300)\ttotal: 27.7s\tremaining: 4m 7s\n",
      "600:\ttest: 0.7439990\tbest: 0.7440312 (591)\ttotal: 57.6s\tremaining: 3m 48s\n",
      "900:\ttest: 0.7440868\tbest: 0.7441531 (745)\ttotal: 1m 29s\tremaining: 3m 27s\n"
     ]
    },
    {
     "name": "stderr",
     "output_type": "stream",
     "text": [
      "[I 2025-02-22 03:13:15,318] Trial 21 finished with value: 0.7441531202000919 and parameters: {'iterations': 2983, 'depth': 9, 'learning_rate': 0.029321454590493203, 'l2_leaf_reg': 31.45979022834493}. Best is trial 12 with value: 0.7445156065199918.\n"
     ]
    },
    {
     "name": "stdout",
     "output_type": "stream",
     "text": [
      "Stopped by overfitting detector  (300 iterations wait)\n",
      "\n",
      "bestTest = 0.7441531202\n",
      "bestIteration = 745\n",
      "\n",
      "Shrink model to first 746 iterations.\n",
      "0:\ttest: 0.7093835\tbest: 0.7093835 (0)\ttotal: 99.7ms\tremaining: 4m 44s\n",
      "300:\ttest: 0.7433777\tbest: 0.7433786 (299)\ttotal: 35.5s\tremaining: 5m 1s\n",
      "600:\ttest: 0.7439621\tbest: 0.7439917 (544)\ttotal: 1m 23s\tremaining: 5m 12s\n",
      "900:\ttest: 0.7439882\tbest: 0.7440372 (774)\ttotal: 2m 15s\tremaining: 4m 52s\n"
     ]
    },
    {
     "name": "stderr",
     "output_type": "stream",
     "text": [
      "[I 2025-02-22 03:16:00,337] Trial 22 finished with value: 0.7440372219438542 and parameters: {'iterations': 2856, 'depth': 10, 'learning_rate': 0.035031557180612315, 'l2_leaf_reg': 83.89712726394282}. Best is trial 12 with value: 0.7445156065199918.\n"
     ]
    },
    {
     "name": "stdout",
     "output_type": "stream",
     "text": [
      "Stopped by overfitting detector  (300 iterations wait)\n",
      "\n",
      "bestTest = 0.7440372219\n",
      "bestIteration = 774\n",
      "\n",
      "Shrink model to first 775 iterations.\n",
      "0:\ttest: 0.7093301\tbest: 0.7093301 (0)\ttotal: 91.1ms\tremaining: 3m 58s\n",
      "300:\ttest: 0.7416569\tbest: 0.7416569 (300)\ttotal: 24.1s\tremaining: 3m 5s\n",
      "600:\ttest: 0.7431777\tbest: 0.7431852 (587)\ttotal: 49.7s\tremaining: 2m 46s\n",
      "900:\ttest: 0.7439715\tbest: 0.7439715 (900)\ttotal: 1m 16s\tremaining: 2m 25s\n",
      "1200:\ttest: 0.7443120\tbest: 0.7443200 (1153)\ttotal: 1m 44s\tremaining: 2m 3s\n"
     ]
    },
    {
     "name": "stderr",
     "output_type": "stream",
     "text": [
      "[I 2025-02-22 03:18:09,398] Trial 23 finished with value: 0.7443199530139328 and parameters: {'iterations': 2616, 'depth': 8, 'learning_rate': 0.016200910754911722, 'l2_leaf_reg': 3.2331186231461966}. Best is trial 12 with value: 0.7445156065199918.\n"
     ]
    },
    {
     "name": "stdout",
     "output_type": "stream",
     "text": [
      "Stopped by overfitting detector  (300 iterations wait)\n",
      "\n",
      "bestTest = 0.744319953\n",
      "bestIteration = 1153\n",
      "\n",
      "Shrink model to first 1154 iterations.\n",
      "0:\ttest: 0.7093301\tbest: 0.7093301 (0)\ttotal: 101ms\tremaining: 4m 21s\n",
      "300:\ttest: 0.7412831\tbest: 0.7412831 (300)\ttotal: 26.1s\tremaining: 3m 18s\n",
      "600:\ttest: 0.7429909\tbest: 0.7429909 (600)\ttotal: 52s\tremaining: 2m 51s\n",
      "900:\ttest: 0.7437076\tbest: 0.7437076 (899)\ttotal: 1m 18s\tremaining: 2m 26s\n",
      "1200:\ttest: 0.7442545\tbest: 0.7442545 (1200)\ttotal: 1m 47s\tremaining: 2m 4s\n",
      "1500:\ttest: 0.7443349\tbest: 0.7443458 (1435)\ttotal: 2m 16s\tremaining: 1m 38s\n",
      "1800:\ttest: 0.7443251\tbest: 0.7443517 (1561)\ttotal: 2m 45s\tremaining: 1m 12s\n"
     ]
    },
    {
     "name": "stderr",
     "output_type": "stream",
     "text": [
      "[I 2025-02-22 03:21:00,876] Trial 24 finished with value: 0.7443516684822088 and parameters: {'iterations': 2588, 'depth': 8, 'learning_rate': 0.014571007666602959, 'l2_leaf_reg': 3.2478036349542916}. Best is trial 12 with value: 0.7445156065199918.\n"
     ]
    },
    {
     "name": "stdout",
     "output_type": "stream",
     "text": [
      "Stopped by overfitting detector  (300 iterations wait)\n",
      "\n",
      "bestTest = 0.7443516685\n",
      "bestIteration = 1561\n",
      "\n",
      "Shrink model to first 1562 iterations.\n",
      "0:\ttest: 0.6951126\tbest: 0.6951126 (0)\ttotal: 76.6ms\tremaining: 3m 13s\n",
      "300:\ttest: 0.7400713\tbest: 0.7400713 (300)\ttotal: 19.1s\tremaining: 2m 20s\n",
      "600:\ttest: 0.7423016\tbest: 0.7423016 (600)\ttotal: 39.1s\tremaining: 2m 4s\n",
      "900:\ttest: 0.7434443\tbest: 0.7434446 (899)\ttotal: 59.7s\tremaining: 1m 47s\n",
      "1200:\ttest: 0.7439880\tbest: 0.7439967 (1199)\ttotal: 1m 20s\tremaining: 1m 29s\n",
      "1500:\ttest: 0.7441213\tbest: 0.7441407 (1490)\ttotal: 1m 42s\tremaining: 1m 10s\n",
      "1800:\ttest: 0.7442018\tbest: 0.7442463 (1760)\ttotal: 2m 5s\tremaining: 50.4s\n"
     ]
    },
    {
     "name": "stderr",
     "output_type": "stream",
     "text": [
      "[I 2025-02-22 03:23:26,948] Trial 25 finished with value: 0.7442463446959873 and parameters: {'iterations': 2524, 'depth': 6, 'learning_rate': 0.015198395384985052, 'l2_leaf_reg': 0.20332923076999443}. Best is trial 12 with value: 0.7445156065199918.\n"
     ]
    },
    {
     "name": "stdout",
     "output_type": "stream",
     "text": [
      "Stopped by overfitting detector  (300 iterations wait)\n",
      "\n",
      "bestTest = 0.7442463447\n",
      "bestIteration = 1760\n",
      "\n",
      "Shrink model to first 1761 iterations.\n",
      "0:\ttest: 0.7093301\tbest: 0.7093301 (0)\ttotal: 138ms\tremaining: 6m 1s\n",
      "300:\ttest: 0.7368246\tbest: 0.7368246 (300)\ttotal: 26.8s\tremaining: 3m 26s\n",
      "600:\ttest: 0.7401138\tbest: 0.7401138 (600)\ttotal: 53.4s\tremaining: 2m 58s\n",
      "900:\ttest: 0.7416776\tbest: 0.7416776 (900)\ttotal: 1m 19s\tremaining: 2m 31s\n",
      "1200:\ttest: 0.7424268\tbest: 0.7424268 (1200)\ttotal: 1m 45s\tremaining: 2m 4s\n",
      "1500:\ttest: 0.7428974\tbest: 0.7428976 (1497)\ttotal: 2m 11s\tremaining: 1m 37s\n",
      "1800:\ttest: 0.7432941\tbest: 0.7432985 (1799)\ttotal: 2m 37s\tremaining: 1m 11s\n",
      "2100:\ttest: 0.7435111\tbest: 0.7435111 (2100)\ttotal: 3m 2s\tremaining: 44.6s\n",
      "2400:\ttest: 0.7438154\tbest: 0.7438160 (2399)\ttotal: 3m 30s\tremaining: 18.6s\n"
     ]
    },
    {
     "name": "stderr",
     "output_type": "stream",
     "text": [
      "[I 2025-02-22 03:27:17,910] Trial 26 finished with value: 0.7440578427560187 and parameters: {'iterations': 2614, 'depth': 8, 'learning_rate': 0.005470798765879862, 'l2_leaf_reg': 3.2028118814456628}. Best is trial 12 with value: 0.7445156065199918.\n"
     ]
    },
    {
     "name": "stdout",
     "output_type": "stream",
     "text": [
      "2613:\ttest: 0.7440578\tbest: 0.7440578 (2613)\ttotal: 3m 50s\tremaining: 0us\n",
      "\n",
      "bestTest = 0.7440578428\n",
      "bestIteration = 2613\n",
      "\n",
      "0:\ttest: 0.6951126\tbest: 0.6951126 (0)\ttotal: 75.1ms\tremaining: 3m 2s\n",
      "300:\ttest: 0.7407731\tbest: 0.7407731 (300)\ttotal: 20s\tremaining: 2m 21s\n",
      "600:\ttest: 0.7425429\tbest: 0.7425429 (600)\ttotal: 40.8s\tremaining: 2m 3s\n",
      "900:\ttest: 0.7435940\tbest: 0.7435940 (900)\ttotal: 1m 1s\tremaining: 1m 44s\n",
      "1200:\ttest: 0.7437695\tbest: 0.7437778 (1199)\ttotal: 1m 23s\tremaining: 1m 25s\n",
      "1500:\ttest: 0.7438707\tbest: 0.7439138 (1378)\ttotal: 1m 44s\tremaining: 1m 4s\n"
     ]
    },
    {
     "name": "stderr",
     "output_type": "stream",
     "text": [
      "[I 2025-02-22 03:29:16,172] Trial 27 finished with value: 0.7439137512075862 and parameters: {'iterations': 2429, 'depth': 6, 'learning_rate': 0.019186395442138175, 'l2_leaf_reg': 0.3452450470308163}. Best is trial 12 with value: 0.7445156065199918.\n"
     ]
    },
    {
     "name": "stdout",
     "output_type": "stream",
     "text": [
      "Stopped by overfitting detector  (300 iterations wait)\n",
      "\n",
      "bestTest = 0.7439137512\n",
      "bestIteration = 1378\n",
      "\n",
      "Shrink model to first 1379 iterations.\n",
      "0:\ttest: 0.7093301\tbest: 0.7093301 (0)\ttotal: 108ms\tremaining: 4m 3s\n",
      "300:\ttest: 0.7404688\tbest: 0.7404688 (300)\ttotal: 28.5s\tremaining: 3m 5s\n",
      "600:\ttest: 0.7425953\tbest: 0.7426042 (599)\ttotal: 57.9s\tremaining: 2m 39s\n",
      "900:\ttest: 0.7432848\tbest: 0.7432848 (899)\ttotal: 1m 26s\tremaining: 2m 9s\n",
      "1200:\ttest: 0.7437919\tbest: 0.7437919 (1200)\ttotal: 1m 56s\tremaining: 1m 42s\n",
      "1500:\ttest: 0.7440908\tbest: 0.7440980 (1495)\ttotal: 2m 30s\tremaining: 1m 15s\n",
      "1800:\ttest: 0.7442136\tbest: 0.7442166 (1729)\ttotal: 3m 4s\tremaining: 46.5s\n",
      "2100:\ttest: 0.7442034\tbest: 0.7442504 (1841)\ttotal: 3m 38s\tremaining: 16s\n"
     ]
    },
    {
     "name": "stderr",
     "output_type": "stream",
     "text": [
      "[I 2025-02-22 03:32:59,637] Trial 28 finished with value: 0.7442504466214572 and parameters: {'iterations': 2255, 'depth': 9, 'learning_rate': 0.010309086338461974, 'l2_leaf_reg': 3.1734446402372085}. Best is trial 12 with value: 0.7445156065199918.\n"
     ]
    },
    {
     "name": "stdout",
     "output_type": "stream",
     "text": [
      "Stopped by overfitting detector  (300 iterations wait)\n",
      "\n",
      "bestTest = 0.7442504466\n",
      "bestIteration = 1841\n",
      "\n",
      "Shrink model to first 1842 iterations.\n",
      "0:\ttest: 0.7092638\tbest: 0.7092638 (0)\ttotal: 95.9ms\tremaining: 4m 11s\n",
      "300:\ttest: 0.7412856\tbest: 0.7412856 (300)\ttotal: 24.9s\tremaining: 3m 12s\n",
      "600:\ttest: 0.7427754\tbest: 0.7427754 (600)\ttotal: 50.6s\tremaining: 2m 50s\n",
      "900:\ttest: 0.7434809\tbest: 0.7434809 (900)\ttotal: 1m 17s\tremaining: 2m 28s\n",
      "1200:\ttest: 0.7437073\tbest: 0.7437808 (1115)\ttotal: 1m 46s\tremaining: 2m 7s\n"
     ]
    },
    {
     "name": "stderr",
     "output_type": "stream",
     "text": [
      "[I 2025-02-22 03:35:07,637] Trial 29 finished with value: 0.7437808019659 and parameters: {'iterations': 2628, 'depth': 8, 'learning_rate': 0.015519519966341898, 'l2_leaf_reg': 0.7360131115740657}. Best is trial 12 with value: 0.7445156065199918.\n"
     ]
    },
    {
     "name": "stdout",
     "output_type": "stream",
     "text": [
      "Stopped by overfitting detector  (300 iterations wait)\n",
      "\n",
      "bestTest = 0.743780802\n",
      "bestIteration = 1115\n",
      "\n",
      "Shrink model to first 1116 iterations.\n",
      "0:\ttest: 0.7094108\tbest: 0.7094108 (0)\ttotal: 85.5ms\tremaining: 3m 27s\n",
      "300:\ttest: 0.7392103\tbest: 0.7392103 (300)\ttotal: 21.8s\tremaining: 2m 33s\n",
      "600:\ttest: 0.7418711\tbest: 0.7418711 (600)\ttotal: 44.2s\tremaining: 2m 14s\n",
      "900:\ttest: 0.7427717\tbest: 0.7427725 (899)\ttotal: 1m 6s\tremaining: 1m 52s\n",
      "1200:\ttest: 0.7432873\tbest: 0.7432873 (1200)\ttotal: 1m 28s\tremaining: 1m 30s\n",
      "1500:\ttest: 0.7437345\tbest: 0.7437345 (1499)\ttotal: 1m 52s\tremaining: 1m 9s\n",
      "1800:\ttest: 0.7439321\tbest: 0.7439419 (1792)\ttotal: 2m 16s\tremaining: 47.4s\n",
      "2100:\ttest: 0.7440782\tbest: 0.7440814 (2090)\ttotal: 2m 41s\tremaining: 24.8s\n",
      "2400:\ttest: 0.7441524\tbest: 0.7441548 (2381)\ttotal: 3m 6s\tremaining: 1.78s\n"
     ]
    },
    {
     "name": "stderr",
     "output_type": "stream",
     "text": [
      "[I 2025-02-22 03:38:16,309] Trial 30 finished with value: 0.7441616576054749 and parameters: {'iterations': 2424, 'depth': 7, 'learning_rate': 0.010408502929191554, 'l2_leaf_reg': 27.008329047491006}. Best is trial 12 with value: 0.7445156065199918.\n"
     ]
    },
    {
     "name": "stdout",
     "output_type": "stream",
     "text": [
      "2423:\ttest: 0.7441609\tbest: 0.7441617 (2419)\ttotal: 3m 8s\tremaining: 0us\n",
      "\n",
      "bestTest = 0.7441616576\n",
      "bestIteration = 2419\n",
      "\n",
      "Shrink model to first 2420 iterations.\n",
      "0:\ttest: 0.7094099\tbest: 0.7094099 (0)\ttotal: 116ms\tremaining: 5m 15s\n",
      "300:\ttest: 0.7424059\tbest: 0.7424059 (300)\ttotal: 25.3s\tremaining: 3m 24s\n",
      "600:\ttest: 0.7436914\tbest: 0.7437070 (597)\ttotal: 51.4s\tremaining: 3m 2s\n",
      "900:\ttest: 0.7440766\tbest: 0.7440842 (895)\ttotal: 1m 20s\tremaining: 2m 42s\n",
      "1200:\ttest: 0.7441654\tbest: 0.7441783 (1197)\ttotal: 1m 48s\tremaining: 2m 18s\n"
     ]
    },
    {
     "name": "stderr",
     "output_type": "stream",
     "text": [
      "[I 2025-02-22 03:40:33,557] Trial 31 finished with value: 0.74417825988078 and parameters: {'iterations': 2729, 'depth': 8, 'learning_rate': 0.02375516484162759, 'l2_leaf_reg': 12.31813747120809}. Best is trial 12 with value: 0.7445156065199918.\n"
     ]
    },
    {
     "name": "stdout",
     "output_type": "stream",
     "text": [
      "Stopped by overfitting detector  (300 iterations wait)\n",
      "\n",
      "bestTest = 0.7441782599\n",
      "bestIteration = 1197\n",
      "\n",
      "Shrink model to first 1198 iterations.\n",
      "0:\ttest: 0.7092893\tbest: 0.7092893 (0)\ttotal: 97ms\tremaining: 4m 38s\n",
      "300:\ttest: 0.7434191\tbest: 0.7434212 (299)\ttotal: 28s\tremaining: 3m 58s\n",
      "600:\ttest: 0.7440140\tbest: 0.7442467 (522)\ttotal: 59.7s\tremaining: 3m 45s\n"
     ]
    },
    {
     "name": "stderr",
     "output_type": "stream",
     "text": [
      "[I 2025-02-22 03:41:58,392] Trial 32 finished with value: 0.7442466504542264 and parameters: {'iterations': 2872, 'depth': 9, 'learning_rate': 0.031889323726669264, 'l2_leaf_reg': 2.816388825905687}. Best is trial 12 with value: 0.7445156065199918.\n"
     ]
    },
    {
     "name": "stdout",
     "output_type": "stream",
     "text": [
      "Stopped by overfitting detector  (300 iterations wait)\n",
      "\n",
      "bestTest = 0.7442466505\n",
      "bestIteration = 522\n",
      "\n",
      "Shrink model to first 523 iterations.\n",
      "0:\ttest: 0.7093509\tbest: 0.7093509 (0)\ttotal: 92.9ms\tremaining: 4m 8s\n",
      "300:\ttest: 0.7436403\tbest: 0.7436403 (300)\ttotal: 25s\tremaining: 3m 16s\n",
      "600:\ttest: 0.7441454\tbest: 0.7442004 (549)\ttotal: 53.8s\tremaining: 3m 5s\n"
     ]
    },
    {
     "name": "stderr",
     "output_type": "stream",
     "text": [
      "[I 2025-02-22 03:43:16,186] Trial 33 finished with value: 0.7442004134550271 and parameters: {'iterations': 2673, 'depth': 8, 'learning_rate': 0.04447258205200968, 'l2_leaf_reg': 8.312121230443442}. Best is trial 12 with value: 0.7445156065199918.\n"
     ]
    },
    {
     "name": "stdout",
     "output_type": "stream",
     "text": [
      "Stopped by overfitting detector  (300 iterations wait)\n",
      "\n",
      "bestTest = 0.7442004135\n",
      "bestIteration = 549\n",
      "\n",
      "Shrink model to first 550 iterations.\n",
      "0:\ttest: 0.7094091\tbest: 0.7094091 (0)\ttotal: 96.6ms\tremaining: 3m 45s\n",
      "300:\ttest: 0.7422178\tbest: 0.7422202 (298)\ttotal: 28.5s\tremaining: 3m 12s\n",
      "600:\ttest: 0.7436475\tbest: 0.7436475 (600)\ttotal: 55.9s\tremaining: 2m 41s\n",
      "900:\ttest: 0.7443008\tbest: 0.7443053 (896)\ttotal: 1m 27s\tremaining: 2m 19s\n",
      "1200:\ttest: 0.7443906\tbest: 0.7444341 (1018)\ttotal: 2m\tremaining: 1m 53s\n",
      "1500:\ttest: 0.7444513\tbest: 0.7444790 (1450)\ttotal: 2m 32s\tremaining: 1m 24s\n",
      "1800:\ttest: 0.7444962\tbest: 0.7445130 (1605)\ttotal: 3m 5s\tremaining: 54.8s\n",
      "2100:\ttest: 0.7445024\tbest: 0.7445514 (1941)\ttotal: 3m 39s\tremaining: 24.2s\n"
     ]
    },
    {
     "name": "stderr",
     "output_type": "stream",
     "text": [
      "[I 2025-02-22 03:47:12,055] Trial 34 finished with value: 0.7445513643504444 and parameters: {'iterations': 2332, 'depth': 9, 'learning_rate': 0.017892094569218992, 'l2_leaf_reg': 25.847208754576794}. Best is trial 34 with value: 0.7445513643504444.\n"
     ]
    },
    {
     "name": "stdout",
     "output_type": "stream",
     "text": [
      "Stopped by overfitting detector  (300 iterations wait)\n",
      "\n",
      "bestTest = 0.7445513644\n",
      "bestIteration = 1941\n",
      "\n",
      "Shrink model to first 1942 iterations.\n",
      "저장 완료\n",
      "0:\ttest: 0.7094151\tbest: 0.7094151 (0)\ttotal: 126ms\tremaining: 4m 43s\n",
      "300:\ttest: 0.7379245\tbest: 0.7379245 (300)\ttotal: 27.7s\tremaining: 2m 59s\n",
      "600:\ttest: 0.7409556\tbest: 0.7409556 (600)\ttotal: 56.4s\tremaining: 2m 35s\n",
      "900:\ttest: 0.7422314\tbest: 0.7422314 (900)\ttotal: 1m 24s\tremaining: 2m 7s\n",
      "1200:\ttest: 0.7428424\tbest: 0.7428469 (1193)\ttotal: 1m 51s\tremaining: 1m 38s\n",
      "1500:\ttest: 0.7432142\tbest: 0.7432142 (1499)\ttotal: 2m 18s\tremaining: 1m 10s\n",
      "1800:\ttest: 0.7434686\tbest: 0.7434703 (1798)\ttotal: 2m 45s\tremaining: 42s\n",
      "2100:\ttest: 0.7437221\tbest: 0.7437221 (2100)\ttotal: 3m 13s\tremaining: 14.5s\n"
     ]
    },
    {
     "name": "stderr",
     "output_type": "stream",
     "text": [
      "[I 2025-02-22 03:50:41,559] Trial 35 finished with value: 0.7438644208880179 and parameters: {'iterations': 2258, 'depth': 9, 'learning_rate': 0.005975757579929757, 'l2_leaf_reg': 38.78141012875935}. Best is trial 34 with value: 0.7445513643504444.\n"
     ]
    },
    {
     "name": "stdout",
     "output_type": "stream",
     "text": [
      "2257:\ttest: 0.7438644\tbest: 0.7438644 (2256)\ttotal: 3m 29s\tremaining: 0us\n",
      "\n",
      "bestTest = 0.7438644209\n",
      "bestIteration = 2256\n",
      "\n",
      "Shrink model to first 2257 iterations.\n",
      "0:\ttest: 0.7094098\tbest: 0.7094098 (0)\ttotal: 96.9ms\tremaining: 3m 27s\n",
      "300:\ttest: 0.7424247\tbest: 0.7424247 (300)\ttotal: 38.1s\tremaining: 3m 53s\n",
      "600:\ttest: 0.7435287\tbest: 0.7435287 (600)\ttotal: 1m 14s\tremaining: 3m 11s\n",
      "900:\ttest: 0.7440859\tbest: 0.7440859 (900)\ttotal: 1m 59s\tremaining: 2m 44s\n",
      "1200:\ttest: 0.7441868\tbest: 0.7441881 (1198)\ttotal: 2m 50s\tremaining: 2m 14s\n",
      "1500:\ttest: 0.7440907\tbest: 0.7441939 (1221)\ttotal: 3m 41s\tremaining: 1m 34s\n"
     ]
    },
    {
     "name": "stderr",
     "output_type": "stream",
     "text": [
      "[I 2025-02-22 03:54:27,512] Trial 36 finished with value: 0.7441939289978223 and parameters: {'iterations': 2143, 'depth': 10, 'learning_rate': 0.017597126918475633, 'l2_leaf_reg': 23.291337636744505}. Best is trial 34 with value: 0.7445513643504444.\n"
     ]
    },
    {
     "name": "stdout",
     "output_type": "stream",
     "text": [
      "Stopped by overfitting detector  (300 iterations wait)\n",
      "\n",
      "bestTest = 0.744193929\n",
      "bestIteration = 1221\n",
      "\n",
      "Shrink model to first 1222 iterations.\n",
      "0:\ttest: 0.7093396\tbest: 0.7093396 (0)\ttotal: 96.5ms\tremaining: 3m 44s\n",
      "300:\ttest: 0.7409612\tbest: 0.7409612 (300)\ttotal: 28.3s\tremaining: 3m 10s\n",
      "600:\ttest: 0.7428908\tbest: 0.7428908 (600)\ttotal: 58.1s\tremaining: 2m 46s\n",
      "900:\ttest: 0.7434791\tbest: 0.7434791 (900)\ttotal: 1m 27s\tremaining: 2m 18s\n",
      "1200:\ttest: 0.7439798\tbest: 0.7439823 (1198)\ttotal: 1m 58s\tremaining: 1m 51s\n",
      "1500:\ttest: 0.7442585\tbest: 0.7442851 (1433)\ttotal: 2m 33s\tremaining: 1m 24s\n",
      "1800:\ttest: 0.7443984\tbest: 0.7444032 (1788)\ttotal: 3m 8s\tremaining: 54.9s\n",
      "2100:\ttest: 0.7442849\tbest: 0.7444052 (1812)\ttotal: 3m 42s\tremaining: 23.7s\n"
     ]
    },
    {
     "name": "stderr",
     "output_type": "stream",
     "text": [
      "[I 2025-02-22 03:58:11,792] Trial 37 finished with value: 0.7444052476500375 and parameters: {'iterations': 2325, 'depth': 9, 'learning_rate': 0.011287350101743643, 'l2_leaf_reg': 5.107652188233132}. Best is trial 34 with value: 0.7445513643504444.\n"
     ]
    },
    {
     "name": "stdout",
     "output_type": "stream",
     "text": [
      "Stopped by overfitting detector  (300 iterations wait)\n",
      "\n",
      "bestTest = 0.7444052477\n",
      "bestIteration = 1812\n",
      "\n",
      "Shrink model to first 1813 iterations.\n",
      "0:\ttest: 0.7094280\tbest: 0.7094280 (0)\ttotal: 96.1ms\tremaining: 3m 44s\n",
      "300:\ttest: 0.7408176\tbest: 0.7408176 (300)\ttotal: 29.2s\tremaining: 3m 17s\n",
      "600:\ttest: 0.7429348\tbest: 0.7429363 (599)\ttotal: 57.5s\tremaining: 2m 46s\n",
      "900:\ttest: 0.7435584\tbest: 0.7435584 (900)\ttotal: 1m 25s\tremaining: 2m 16s\n",
      "1200:\ttest: 0.7439505\tbest: 0.7439505 (1200)\ttotal: 1m 52s\tremaining: 1m 46s\n",
      "1500:\ttest: 0.7441415\tbest: 0.7441432 (1496)\ttotal: 2m 26s\tremaining: 1m 21s\n",
      "1800:\ttest: 0.7442447\tbest: 0.7442493 (1641)\ttotal: 2m 59s\tremaining: 53.7s\n",
      "2100:\ttest: 0.7442817\tbest: 0.7442824 (2072)\ttotal: 3m 32s\tremaining: 24.1s\n"
     ]
    },
    {
     "name": "stderr",
     "output_type": "stream",
     "text": [
      "[I 2025-02-22 04:02:11,290] Trial 38 finished with value: 0.7443122216984535 and parameters: {'iterations': 2339, 'depth': 9, 'learning_rate': 0.011506070483114337, 'l2_leaf_reg': 35.102286587217954}. Best is trial 34 with value: 0.7445513643504444.\n"
     ]
    },
    {
     "name": "stdout",
     "output_type": "stream",
     "text": [
      "2338:\ttest: 0.7443101\tbest: 0.7443122 (2330)\ttotal: 3m 59s\tremaining: 0us\n",
      "\n",
      "bestTest = 0.7443122217\n",
      "bestIteration = 2330\n",
      "\n",
      "Shrink model to first 2331 iterations.\n",
      "0:\ttest: 0.7092638\tbest: 0.7092638 (0)\ttotal: 98.7ms\tremaining: 3m 58s\n",
      "300:\ttest: 0.7413533\tbest: 0.7431134 (182)\ttotal: 41s\tremaining: 4m 48s\n"
     ]
    },
    {
     "name": "stderr",
     "output_type": "stream",
     "text": [
      "[I 2025-02-22 04:03:21,274] Trial 39 finished with value: 0.7431133595257224 and parameters: {'iterations': 2421, 'depth': 10, 'learning_rate': 0.08103129583237369, 'l2_leaf_reg': 0.5876215431135136}. Best is trial 34 with value: 0.7445513643504444.\n",
      "[I 2025-02-22 04:03:21,281] A new study created in memory with name: no-name-6d5cbb2f-0509-4994-9699-0be11db88f81\n"
     ]
    },
    {
     "name": "stdout",
     "output_type": "stream",
     "text": [
      "Stopped by overfitting detector  (300 iterations wait)\n",
      "\n",
      "bestTest = 0.7431133595\n",
      "bestIteration = 182\n",
      "\n",
      "Shrink model to first 183 iterations.\n"
     ]
    },
    {
     "name": "stderr",
     "output_type": "stream",
     "text": [
      "[I 2025-02-22 04:03:44,825] Trial 0 finished with value: 0.7349897006329815 and parameters: {'num_iterations': 2366, 'objective': 'binary', 'metric': 'auc', 'verbose': -1, 'learning_rate': 0.0652646236447618, 'n_estimators': 236, 'min_child_samples': 45, 'subsample': 0.7, 'colsample_bytree': 0.5}. Best is trial 0 with value: 0.7349897006329815.\n",
      "[I 2025-02-22 04:04:01,957] Trial 1 finished with value: 0.7436480314140939 and parameters: {'num_iterations': 1510, 'objective': 'binary', 'metric': 'auc', 'verbose': -1, 'learning_rate': 0.005231880959249543, 'n_estimators': 1411, 'min_child_samples': 10, 'subsample': 1.0, 'colsample_bytree': 0.5}. Best is trial 1 with value: 0.7436480314140939.\n",
      "[I 2025-02-22 04:04:21,112] Trial 2 finished with value: 0.743309128187482 and parameters: {'num_iterations': 2334, 'objective': 'binary', 'metric': 'auc', 'verbose': -1, 'learning_rate': 0.006578527777128852, 'n_estimators': 931, 'min_child_samples': 15, 'subsample': 0.5, 'colsample_bytree': 1.0}. Best is trial 1 with value: 0.7436480314140939.\n",
      "[I 2025-02-22 04:04:37,266] Trial 3 finished with value: 0.743988654034441 and parameters: {'num_iterations': 1620, 'objective': 'binary', 'metric': 'auc', 'verbose': -1, 'learning_rate': 0.0058823249237283685, 'n_estimators': 837, 'min_child_samples': 10, 'subsample': 0.9, 'colsample_bytree': 0.6}. Best is trial 3 with value: 0.743988654034441.\n",
      "[I 2025-02-22 04:04:55,315] Trial 4 finished with value: 0.7433846782687914 and parameters: {'num_iterations': 1997, 'objective': 'binary', 'metric': 'auc', 'verbose': -1, 'learning_rate': 0.010907507425244923, 'n_estimators': 1597, 'min_child_samples': 50, 'subsample': 0.6, 'colsample_bytree': 0.8}. Best is trial 3 with value: 0.743988654034441.\n",
      "[I 2025-02-22 04:05:17,836] Trial 5 finished with value: 0.7397277104546668 and parameters: {'num_iterations': 2909, 'objective': 'binary', 'metric': 'auc', 'verbose': -1, 'learning_rate': 0.019760591962733942, 'n_estimators': 612, 'min_child_samples': 30, 'subsample': 0.7, 'colsample_bytree': 0.9}. Best is trial 3 with value: 0.743988654034441.\n",
      "[I 2025-02-22 04:05:38,144] Trial 6 finished with value: 0.741049674071247 and parameters: {'num_iterations': 2639, 'objective': 'binary', 'metric': 'auc', 'verbose': -1, 'learning_rate': 0.017862094446750985, 'n_estimators': 794, 'min_child_samples': 35, 'subsample': 1.0, 'colsample_bytree': 0.8}. Best is trial 3 with value: 0.743988654034441.\n",
      "[I 2025-02-22 04:05:54,639] Trial 7 finished with value: 0.7433672262238343 and parameters: {'num_iterations': 1580, 'objective': 'binary', 'metric': 'auc', 'verbose': -1, 'learning_rate': 0.01776722177611332, 'n_estimators': 529, 'min_child_samples': 25, 'subsample': 0.8, 'colsample_bytree': 0.5}. Best is trial 3 with value: 0.743988654034441.\n",
      "[I 2025-02-22 04:06:11,801] Trial 8 finished with value: 0.7412014850225002 and parameters: {'num_iterations': 1911, 'objective': 'binary', 'metric': 'auc', 'verbose': -1, 'learning_rate': 0.0304747553332844, 'n_estimators': 1328, 'min_child_samples': 10, 'subsample': 0.7, 'colsample_bytree': 0.6}. Best is trial 3 with value: 0.743988654034441.\n",
      "[I 2025-02-22 04:06:39,585] Trial 9 finished with value: 0.7405867362425231 and parameters: {'num_iterations': 2739, 'objective': 'binary', 'metric': 'auc', 'verbose': -1, 'learning_rate': 0.02691531614176271, 'n_estimators': 1438, 'min_child_samples': 20, 'subsample': 0.6, 'colsample_bytree': 0.5}. Best is trial 3 with value: 0.743988654034441.\n",
      "[I 2025-02-22 04:06:53,820] Trial 10 finished with value: 0.7333478424221466 and parameters: {'num_iterations': 1883, 'objective': 'binary', 'metric': 'auc', 'verbose': -1, 'learning_rate': 0.08223556891145911, 'n_estimators': 1917, 'min_child_samples': 40, 'subsample': 0.9, 'colsample_bytree': 0.7}. Best is trial 3 with value: 0.743988654034441.\n",
      "[I 2025-02-22 04:07:08,880] Trial 11 finished with value: 0.7437807582861515 and parameters: {'num_iterations': 1513, 'objective': 'binary', 'metric': 'auc', 'verbose': -1, 'learning_rate': 0.005340229419903739, 'n_estimators': 1206, 'min_child_samples': 10, 'subsample': 1.0, 'colsample_bytree': 0.6}. Best is trial 3 with value: 0.743988654034441.\n",
      "[I 2025-02-22 04:07:23,205] Trial 12 finished with value: 0.7439743310478288 and parameters: {'num_iterations': 1717, 'objective': 'binary', 'metric': 'auc', 'verbose': -1, 'learning_rate': 0.008807202863131344, 'n_estimators': 1093, 'min_child_samples': 20, 'subsample': 0.9, 'colsample_bytree': 0.7}. Best is trial 3 with value: 0.743988654034441.\n",
      "[I 2025-02-22 04:07:37,909] Trial 13 finished with value: 0.7437576318447794 and parameters: {'num_iterations': 1785, 'objective': 'binary', 'metric': 'auc', 'verbose': -1, 'learning_rate': 0.010668787980411185, 'n_estimators': 1055, 'min_child_samples': 20, 'subsample': 0.9, 'colsample_bytree': 0.7}. Best is trial 3 with value: 0.743988654034441.\n",
      "[I 2025-02-22 04:07:58,380] Trial 14 finished with value: 0.7439007306716557 and parameters: {'num_iterations': 2165, 'objective': 'binary', 'metric': 'auc', 'verbose': -1, 'learning_rate': 0.008676723130645643, 'n_estimators': 172, 'min_child_samples': 20, 'subsample': 0.9, 'colsample_bytree': 0.6}. Best is trial 3 with value: 0.743988654034441.\n",
      "[I 2025-02-22 04:08:13,075] Trial 15 finished with value: 0.7440337315348629 and parameters: {'num_iterations': 1739, 'objective': 'binary', 'metric': 'auc', 'verbose': -1, 'learning_rate': 0.008303365162986591, 'n_estimators': 687, 'min_child_samples': 25, 'subsample': 0.8, 'colsample_bytree': 0.7}. Best is trial 15 with value: 0.7440337315348629.\n",
      "[I 2025-02-22 04:08:29,533] Trial 16 finished with value: 0.7431392457330207 and parameters: {'num_iterations': 2069, 'objective': 'binary', 'metric': 'auc', 'verbose': -1, 'learning_rate': 0.012765396262269125, 'n_estimators': 502, 'min_child_samples': 30, 'subsample': 0.8, 'colsample_bytree': 0.8}. Best is trial 15 with value: 0.7440337315348629.\n",
      "[I 2025-02-22 04:08:44,686] Trial 17 finished with value: 0.7391740219921656 and parameters: {'num_iterations': 1707, 'objective': 'binary', 'metric': 'auc', 'verbose': -1, 'learning_rate': 0.04805408751858705, 'n_estimators': 850, 'min_child_samples': 35, 'subsample': 0.8, 'colsample_bytree': 0.6}. Best is trial 15 with value: 0.7440337315348629.\n",
      "[I 2025-02-22 04:08:59,126] Trial 18 finished with value: 0.7439230271978069 and parameters: {'num_iterations': 1688, 'objective': 'binary', 'metric': 'auc', 'verbose': -1, 'learning_rate': 0.007326624275259349, 'n_estimators': 646, 'min_child_samples': 15, 'subsample': 0.8, 'colsample_bytree': 0.7}. Best is trial 15 with value: 0.7440337315348629.\n",
      "[I 2025-02-22 04:09:18,793] Trial 19 finished with value: 0.7422788221932132 and parameters: {'num_iterations': 2481, 'objective': 'binary', 'metric': 'auc', 'verbose': -1, 'learning_rate': 0.013452330775004216, 'n_estimators': 330, 'min_child_samples': 25, 'subsample': 0.9, 'colsample_bytree': 0.9}. Best is trial 15 with value: 0.7440337315348629.\n",
      "[I 2025-02-22 04:09:35,426] Trial 20 finished with value: 0.7398849257820717 and parameters: {'num_iterations': 1873, 'objective': 'binary', 'metric': 'auc', 'verbose': -1, 'learning_rate': 0.03844621393609847, 'n_estimators': 397, 'min_child_samples': 15, 'subsample': 0.5, 'colsample_bytree': 0.6}. Best is trial 15 with value: 0.7440337315348629.\n",
      "[I 2025-02-22 04:09:49,892] Trial 21 finished with value: 0.743991481305433 and parameters: {'num_iterations': 1713, 'objective': 'binary', 'metric': 'auc', 'verbose': -1, 'learning_rate': 0.008523899055797842, 'n_estimators': 1080, 'min_child_samples': 25, 'subsample': 0.9, 'colsample_bytree': 0.7}. Best is trial 15 with value: 0.7440337315348629.\n",
      "[I 2025-02-22 04:10:03,951] Trial 22 finished with value: 0.744089069805289 and parameters: {'num_iterations': 1630, 'objective': 'binary', 'metric': 'auc', 'verbose': -1, 'learning_rate': 0.006941444601119248, 'n_estimators': 760, 'min_child_samples': 25, 'subsample': 0.9, 'colsample_bytree': 0.7}. Best is trial 22 with value: 0.744089069805289.\n",
      "[I 2025-02-22 04:10:21,352] Trial 23 finished with value: 0.7439842106127557 and parameters: {'num_iterations': 2077, 'objective': 'binary', 'metric': 'auc', 'verbose': -1, 'learning_rate': 0.008135271015583015, 'n_estimators': 720, 'min_child_samples': 25, 'subsample': 0.8, 'colsample_bytree': 0.7}. Best is trial 22 with value: 0.744089069805289.\n",
      "[I 2025-02-22 04:10:35,792] Trial 24 finished with value: 0.7430512429525108 and parameters: {'num_iterations': 1812, 'objective': 'binary', 'metric': 'auc', 'verbose': -1, 'learning_rate': 0.013763055533112498, 'n_estimators': 1042, 'min_child_samples': 35, 'subsample': 1.0, 'colsample_bytree': 0.8}. Best is trial 22 with value: 0.744089069805289.\n",
      "[I 2025-02-22 04:10:52,006] Trial 25 finished with value: 0.7432397726886829 and parameters: {'num_iterations': 1992, 'objective': 'binary', 'metric': 'auc', 'verbose': -1, 'learning_rate': 0.01004579054644935, 'n_estimators': 961, 'min_child_samples': 30, 'subsample': 0.9, 'colsample_bytree': 0.9}. Best is trial 22 with value: 0.744089069805289.\n",
      "[I 2025-02-22 04:11:06,656] Trial 26 finished with value: 0.7440167957051149 and parameters: {'num_iterations': 1682, 'objective': 'binary', 'metric': 'auc', 'verbose': -1, 'learning_rate': 0.0070319925342010176, 'n_estimators': 1206, 'min_child_samples': 25, 'subsample': 0.8, 'colsample_bytree': 0.7}. Best is trial 22 with value: 0.744089069805289.\n",
      "[I 2025-02-22 04:11:20,465] Trial 27 finished with value: 0.7438898702978314 and parameters: {'num_iterations': 1608, 'objective': 'binary', 'metric': 'auc', 'verbose': -1, 'learning_rate': 0.006780755242045125, 'n_estimators': 1691, 'min_child_samples': 25, 'subsample': 0.7, 'colsample_bytree': 0.8}. Best is trial 22 with value: 0.744089069805289.\n",
      "[I 2025-02-22 04:11:38,177] Trial 28 finished with value: 0.7427096196688351 and parameters: {'num_iterations': 2195, 'objective': 'binary', 'metric': 'auc', 'verbose': -1, 'learning_rate': 0.01550758380674876, 'n_estimators': 461, 'min_child_samples': 30, 'subsample': 0.8, 'colsample_bytree': 0.7}. Best is trial 22 with value: 0.744089069805289.\n",
      "[I 2025-02-22 04:11:53,381] Trial 29 finished with value: 0.7439673105209837 and parameters: {'num_iterations': 1794, 'objective': 'binary', 'metric': 'auc', 'verbose': -1, 'learning_rate': 0.007074968712146913, 'n_estimators': 1188, 'min_child_samples': 40, 'subsample': 0.6, 'colsample_bytree': 0.8}. Best is trial 22 with value: 0.744089069805289.\n",
      "[I 2025-02-22 04:12:13,233] Trial 30 finished with value: 0.7434330635174383 and parameters: {'num_iterations': 2448, 'objective': 'binary', 'metric': 'auc', 'verbose': -1, 'learning_rate': 0.01125024253000376, 'n_estimators': 104, 'min_child_samples': 40, 'subsample': 0.7, 'colsample_bytree': 0.7}. Best is trial 22 with value: 0.744089069805289.\n",
      "[I 2025-02-22 04:12:27,478] Trial 31 finished with value: 0.7440545350077936 and parameters: {'num_iterations': 1670, 'objective': 'binary', 'metric': 'auc', 'verbose': -1, 'learning_rate': 0.00879669029017094, 'n_estimators': 1249, 'min_child_samples': 25, 'subsample': 0.8, 'colsample_bytree': 0.7}. Best is trial 22 with value: 0.744089069805289.\n",
      "[I 2025-02-22 04:12:40,879] Trial 32 finished with value: 0.7438492521026399 and parameters: {'num_iterations': 1502, 'objective': 'binary', 'metric': 'auc', 'verbose': -1, 'learning_rate': 0.005201390977620059, 'n_estimators': 1367, 'min_child_samples': 30, 'subsample': 0.8, 'colsample_bytree': 0.7}. Best is trial 22 with value: 0.744089069805289.\n",
      "[I 2025-02-22 04:12:56,687] Trial 33 finished with value: 0.7440286329169504 and parameters: {'num_iterations': 1609, 'objective': 'binary', 'metric': 'auc', 'verbose': -1, 'learning_rate': 0.00641179300089041, 'n_estimators': 938, 'min_child_samples': 20, 'subsample': 0.8, 'colsample_bytree': 0.6}. Best is trial 22 with value: 0.744089069805289.\n",
      "[I 2025-02-22 04:13:12,542] Trial 34 finished with value: 0.743941166206081 and parameters: {'num_iterations': 1610, 'objective': 'binary', 'metric': 'auc', 'verbose': -1, 'learning_rate': 0.005952792727223728, 'n_estimators': 911, 'min_child_samples': 15, 'subsample': 0.8, 'colsample_bytree': 0.6}. Best is trial 22 with value: 0.744089069805289.\n",
      "[I 2025-02-22 04:13:33,829] Trial 35 finished with value: 0.7440049108426446 and parameters: {'num_iterations': 1961, 'objective': 'binary', 'metric': 'auc', 'verbose': -1, 'learning_rate': 0.006225425744552616, 'n_estimators': 743, 'min_child_samples': 20, 'subsample': 0.9, 'colsample_bytree': 0.5}. Best is trial 22 with value: 0.744089069805289.\n",
      "[I 2025-02-22 04:13:48,851] Trial 36 finished with value: 0.744243334764229 and parameters: {'num_iterations': 1585, 'objective': 'binary', 'metric': 'auc', 'verbose': -1, 'learning_rate': 0.010052421029811999, 'n_estimators': 639, 'min_child_samples': 20, 'subsample': 0.7, 'colsample_bytree': 0.6}. Best is trial 36 with value: 0.744243334764229.\n",
      "[I 2025-02-22 04:14:03,671] Trial 37 finished with value: 0.7431402741925528 and parameters: {'num_iterations': 1817, 'objective': 'binary', 'metric': 'auc', 'verbose': -1, 'learning_rate': 0.009362078116202275, 'n_estimators': 300, 'min_child_samples': 25, 'subsample': 0.6, 'colsample_bytree': 1.0}. Best is trial 36 with value: 0.744243334764229.\n",
      "[I 2025-02-22 04:14:19,239] Trial 38 finished with value: 0.7427349380394032 and parameters: {'num_iterations': 1506, 'objective': 'binary', 'metric': 'auc', 'verbose': -1, 'learning_rate': 0.023151178002978858, 'n_estimators': 608, 'min_child_samples': 15, 'subsample': 0.7, 'colsample_bytree': 0.5}. Best is trial 36 with value: 0.744243334764229.\n",
      "[I 2025-02-22 04:14:35,667] Trial 39 finished with value: 0.74387601984668 and parameters: {'num_iterations': 1764, 'objective': 'binary', 'metric': 'auc', 'verbose': -1, 'learning_rate': 0.011767082473851784, 'n_estimators': 1579, 'min_child_samples': 30, 'subsample': 0.7, 'colsample_bytree': 0.6}. Best is trial 36 with value: 0.744243334764229.\n"
     ]
    },
    {
     "name": "stdout",
     "output_type": "stream",
     "text": [
      "Cat val score : 0.7445513643504444\n",
      "LGBM val score : 0.7439214189888859\n",
      "Ensemble val score : 0.7446210494328002\n"
     ]
    },
    {
     "name": "stderr",
     "output_type": "stream",
     "text": [
      "[I 2025-02-22 04:14:51,950] A new study created in memory with name: no-name-d50cd8ae-1be8-4385-9245-b16083ebc37d\n"
     ]
    },
    {
     "name": "stdout",
     "output_type": "stream",
     "text": [
      "==================================================\n",
      "0:\ttest: 0.7208588\tbest: 0.7208588 (0)\ttotal: 156ms\tremaining: 6m 9s\n",
      "300:\ttest: 0.7359928\tbest: 0.7359928 (300)\ttotal: 37.8s\tremaining: 4m 19s\n",
      "600:\ttest: 0.7375359\tbest: 0.7375359 (600)\ttotal: 1m 17s\tremaining: 3m 48s\n",
      "900:\ttest: 0.7380789\tbest: 0.7380864 (897)\ttotal: 1m 58s\tremaining: 3m 12s\n",
      "1200:\ttest: 0.7383714\tbest: 0.7383739 (1198)\ttotal: 2m 44s\tremaining: 2m 39s\n",
      "1500:\ttest: 0.7385337\tbest: 0.7385495 (1484)\ttotal: 3m 34s\tremaining: 2m 3s\n",
      "1800:\ttest: 0.7385043\tbest: 0.7385554 (1618)\ttotal: 4m 23s\tremaining: 1m 22s\n"
     ]
    },
    {
     "name": "stderr",
     "output_type": "stream",
     "text": [
      "[I 2025-02-22 04:19:36,247] Trial 0 finished with value: 0.7385554452778682 and parameters: {'iterations': 2366, 'depth': 10, 'learning_rate': 0.01181021951839225, 'l2_leaf_reg': 9.980783802743254}. Best is trial 0 with value: 0.7385554452778682.\n"
     ]
    },
    {
     "name": "stdout",
     "output_type": "stream",
     "text": [
      "Stopped by overfitting detector  (300 iterations wait)\n",
      "\n",
      "bestTest = 0.7385554453\n",
      "bestIteration = 1618\n",
      "\n",
      "Shrink model to first 1619 iterations.\n",
      "저장 완료\n",
      "0:\ttest: 0.6976802\tbest: 0.6976802 (0)\ttotal: 53.9ms\tremaining: 1m 58s\n",
      "300:\ttest: 0.7282151\tbest: 0.7282151 (300)\ttotal: 13s\tremaining: 1m 21s\n",
      "600:\ttest: 0.7319163\tbest: 0.7319163 (600)\ttotal: 26.2s\tremaining: 1m 9s\n",
      "900:\ttest: 0.7341131\tbest: 0.7341131 (900)\ttotal: 39.8s\tremaining: 57.1s\n",
      "1200:\ttest: 0.7353158\tbest: 0.7353158 (1200)\ttotal: 53.6s\tremaining: 44.2s\n",
      "1500:\ttest: 0.7360635\tbest: 0.7360635 (1500)\ttotal: 1m 7s\tremaining: 31s\n",
      "1800:\ttest: 0.7365992\tbest: 0.7365992 (1800)\ttotal: 1m 21s\tremaining: 17.7s\n",
      "2100:\ttest: 0.7370394\tbest: 0.7370401 (2099)\ttotal: 1m 35s\tremaining: 4.18s\n"
     ]
    },
    {
     "name": "stderr",
     "output_type": "stream",
     "text": [
      "[I 2025-02-22 04:21:16,523] Trial 1 finished with value: 0.7371549375317651 and parameters: {'iterations': 2193, 'depth': 4, 'learning_rate': 0.005671430811678843, 'l2_leaf_reg': 0.00012325230809466137}. Best is trial 0 with value: 0.7385554452778682.\n"
     ]
    },
    {
     "name": "stdout",
     "output_type": "stream",
     "text": [
      "2192:\ttest: 0.7371549\tbest: 0.7371549 (2192)\ttotal: 1m 39s\tremaining: 0us\n",
      "\n",
      "bestTest = 0.7371549375\n",
      "bestIteration = 2192\n",
      "\n",
      "0:\ttest: 0.6976802\tbest: 0.6976802 (0)\ttotal: 54.1ms\tremaining: 2m 16s\n",
      "300:\ttest: 0.7379913\tbest: 0.7380121 (254)\ttotal: 14.3s\tremaining: 1m 45s\n",
      "600:\ttest: 0.7377207\tbest: 0.7381740 (413)\ttotal: 28.7s\tremaining: 1m 32s\n"
     ]
    },
    {
     "name": "stderr",
     "output_type": "stream",
     "text": [
      "[I 2025-02-22 04:21:50,972] Trial 2 finished with value: 0.7381740098889045 and parameters: {'iterations': 2535, 'depth': 4, 'learning_rate': 0.09275339199839054, 'l2_leaf_reg': 0.0008705394248343123}. Best is trial 0 with value: 0.7385554452778682.\n"
     ]
    },
    {
     "name": "stdout",
     "output_type": "stream",
     "text": [
      "Stopped by overfitting detector  (300 iterations wait)\n",
      "\n",
      "bestTest = 0.7381740099\n",
      "bestIteration = 413\n",
      "\n",
      "Shrink model to first 414 iterations.\n",
      "0:\ttest: 0.6976802\tbest: 0.6976802 (0)\ttotal: 54.4ms\tremaining: 2m 6s\n",
      "300:\ttest: 0.7373149\tbest: 0.7373497 (293)\ttotal: 13.5s\tremaining: 1m 31s\n",
      "600:\ttest: 0.7382766\tbest: 0.7382766 (600)\ttotal: 27.8s\tremaining: 1m 20s\n",
      "900:\ttest: 0.7381416\tbest: 0.7383305 (791)\ttotal: 42.3s\tremaining: 1m 7s\n"
     ]
    },
    {
     "name": "stderr",
     "output_type": "stream",
     "text": [
      "[I 2025-02-22 04:22:42,775] Trial 3 finished with value: 0.7383305461947649 and parameters: {'iterations': 2334, 'depth': 4, 'learning_rate': 0.04657568321363276, 'l2_leaf_reg': 0.0008640473331457248}. Best is trial 0 with value: 0.7385554452778682.\n"
     ]
    },
    {
     "name": "stdout",
     "output_type": "stream",
     "text": [
      "Stopped by overfitting detector  (300 iterations wait)\n",
      "\n",
      "bestTest = 0.7383305462\n",
      "bestIteration = 791\n",
      "\n",
      "Shrink model to first 792 iterations.\n",
      "0:\ttest: 0.7208055\tbest: 0.7208055 (0)\ttotal: 124ms\tremaining: 3m 36s\n",
      "300:\ttest: 0.7352726\tbest: 0.7352726 (300)\ttotal: 37.3s\tremaining: 2m 58s\n",
      "600:\ttest: 0.7365286\tbest: 0.7365534 (570)\ttotal: 1m 17s\tremaining: 2m 27s\n",
      "900:\ttest: 0.7329105\tbest: 0.7366104 (627)\ttotal: 1m 56s\tremaining: 1m 48s\n"
     ]
    },
    {
     "name": "stderr",
     "output_type": "stream",
     "text": [
      "[I 2025-02-22 04:24:43,171] Trial 4 finished with value: 0.736610441670874 and parameters: {'iterations': 1742, 'depth': 10, 'learning_rate': 0.012622767482095846, 'l2_leaf_reg': 0.00021158816350109617}. Best is trial 0 with value: 0.7385554452778682.\n"
     ]
    },
    {
     "name": "stdout",
     "output_type": "stream",
     "text": [
      "Stopped by overfitting detector  (300 iterations wait)\n",
      "\n",
      "bestTest = 0.7366104417\n",
      "bestIteration = 627\n",
      "\n",
      "Shrink model to first 628 iterations.\n",
      "0:\ttest: 0.6976802\tbest: 0.6976802 (0)\ttotal: 50.1ms\tremaining: 1m 44s\n",
      "300:\ttest: 0.7377589\tbest: 0.7377589 (300)\ttotal: 13.8s\tremaining: 1m 21s\n",
      "600:\ttest: 0.7380365\tbest: 0.7381548 (395)\ttotal: 28.2s\tremaining: 1m 9s\n"
     ]
    },
    {
     "name": "stderr",
     "output_type": "stream",
     "text": [
      "[I 2025-02-22 04:25:16,131] Trial 5 finished with value: 0.7381548146248946 and parameters: {'iterations': 2082, 'depth': 4, 'learning_rate': 0.06995196593094148, 'l2_leaf_reg': 0.0018080296485396804}. Best is trial 0 with value: 0.7385554452778682.\n"
     ]
    },
    {
     "name": "stdout",
     "output_type": "stream",
     "text": [
      "Stopped by overfitting detector  (300 iterations wait)\n",
      "\n",
      "bestTest = 0.7381548146\n",
      "bestIteration = 395\n",
      "\n",
      "Shrink model to first 396 iterations.\n",
      "0:\ttest: 0.7021244\tbest: 0.7021244 (0)\ttotal: 63.1ms\tremaining: 2m 5s\n",
      "300:\ttest: 0.7383801\tbest: 0.7383801 (300)\ttotal: 17.1s\tremaining: 1m 36s\n",
      "600:\ttest: 0.7388418\tbest: 0.7388425 (597)\ttotal: 34.8s\tremaining: 1m 20s\n",
      "900:\ttest: 0.7389937\tbest: 0.7390435 (848)\ttotal: 52.6s\tremaining: 1m 3s\n"
     ]
    },
    {
     "name": "stderr",
     "output_type": "stream",
     "text": [
      "[I 2025-02-22 04:26:23,675] Trial 6 finished with value: 0.7390434671948729 and parameters: {'iterations': 1997, 'depth': 5, 'learning_rate': 0.07985155992831598, 'l2_leaf_reg': 62.52181000710482}. Best is trial 6 with value: 0.7390434671948729.\n"
     ]
    },
    {
     "name": "stdout",
     "output_type": "stream",
     "text": [
      "Stopped by overfitting detector  (300 iterations wait)\n",
      "\n",
      "bestTest = 0.7390434672\n",
      "bestIteration = 848\n",
      "\n",
      "Shrink model to first 849 iterations.\n",
      "저장 완료\n",
      "0:\ttest: 0.7178156\tbest: 0.7178156 (0)\ttotal: 84.7ms\tremaining: 2m 43s\n",
      "300:\ttest: 0.7373915\tbest: 0.7381713 (165)\ttotal: 23.4s\tremaining: 2m 6s\n"
     ]
    },
    {
     "name": "stderr",
     "output_type": "stream",
     "text": [
      "[I 2025-02-22 04:27:00,818] Trial 7 finished with value: 0.7381712898318407 and parameters: {'iterations': 1927, 'depth': 7, 'learning_rate': 0.0941937211034094, 'l2_leaf_reg': 0.05654822767791934}. Best is trial 6 with value: 0.7390434671948729.\n"
     ]
    },
    {
     "name": "stdout",
     "output_type": "stream",
     "text": [
      "Stopped by overfitting detector  (300 iterations wait)\n",
      "\n",
      "bestTest = 0.7381712898\n",
      "bestIteration = 165\n",
      "\n",
      "Shrink model to first 166 iterations.\n",
      "0:\ttest: 0.7178156\tbest: 0.7178156 (0)\ttotal: 89.7ms\tremaining: 2m 50s\n",
      "300:\ttest: 0.7385613\tbest: 0.7385824 (297)\ttotal: 22.7s\tremaining: 2m\n",
      "600:\ttest: 0.7384613\tbest: 0.7386243 (343)\ttotal: 47.2s\tremaining: 1m 42s\n"
     ]
    },
    {
     "name": "stderr",
     "output_type": "stream",
     "text": [
      "[I 2025-02-22 04:27:51,838] Trial 8 finished with value: 0.7386243322120927 and parameters: {'iterations': 1904, 'depth': 7, 'learning_rate': 0.05155602859187331, 'l2_leaf_reg': 1.299974533316308}. Best is trial 6 with value: 0.7390434671948729.\n"
     ]
    },
    {
     "name": "stdout",
     "output_type": "stream",
     "text": [
      "Stopped by overfitting detector  (300 iterations wait)\n",
      "\n",
      "bestTest = 0.7386243322\n",
      "bestIteration = 343\n",
      "\n",
      "Shrink model to first 344 iterations.\n",
      "0:\ttest: 0.7045365\tbest: 0.7045365 (0)\ttotal: 72.1ms\tremaining: 3m 10s\n",
      "300:\ttest: 0.7377768\tbest: 0.7377870 (298)\ttotal: 19.4s\tremaining: 2m 30s\n",
      "600:\ttest: 0.7385985\tbest: 0.7385998 (588)\ttotal: 40.6s\tremaining: 2m 17s\n",
      "900:\ttest: 0.7383640\tbest: 0.7386166 (747)\ttotal: 1m 1s\tremaining: 1m 59s\n"
     ]
    },
    {
     "name": "stderr",
     "output_type": "stream",
     "text": [
      "[I 2025-02-22 04:29:04,398] Trial 9 finished with value: 0.7386166485472481 and parameters: {'iterations': 2639, 'depth': 6, 'learning_rate': 0.03968704290444751, 'l2_leaf_reg': 0.30557194377967184}. Best is trial 6 with value: 0.7390434671948729.\n"
     ]
    },
    {
     "name": "stdout",
     "output_type": "stream",
     "text": [
      "Stopped by overfitting detector  (300 iterations wait)\n",
      "\n",
      "bestTest = 0.7386166485\n",
      "bestIteration = 747\n",
      "\n",
      "Shrink model to first 748 iterations.\n",
      "0:\ttest: 0.7044666\tbest: 0.7044666 (0)\ttotal: 80.1ms\tremaining: 3m 55s\n",
      "300:\ttest: 0.7384862\tbest: 0.7385035 (295)\ttotal: 20.5s\tremaining: 2m 59s\n",
      "600:\ttest: 0.7391003\tbest: 0.7391119 (594)\ttotal: 41.4s\tremaining: 2m 41s\n",
      "900:\ttest: 0.7392797\tbest: 0.7392824 (896)\ttotal: 1m 2s\tremaining: 2m 21s\n",
      "1200:\ttest: 0.7393886\tbest: 0.7394183 (1116)\ttotal: 1m 23s\tremaining: 2m\n",
      "1500:\ttest: 0.7394109\tbest: 0.7394626 (1487)\ttotal: 1m 44s\tremaining: 1m 40s\n",
      "1800:\ttest: 0.7394950\tbest: 0.7395239 (1677)\ttotal: 2m 5s\tremaining: 1m 19s\n",
      "2100:\ttest: 0.7395343\tbest: 0.7395889 (2025)\ttotal: 2m 26s\tremaining: 58.8s\n"
     ]
    },
    {
     "name": "stderr",
     "output_type": "stream",
     "text": [
      "[I 2025-02-22 04:31:46,891] Trial 10 finished with value: 0.7395888723887094 and parameters: {'iterations': 2945, 'depth': 6, 'learning_rate': 0.07265276039199581, 'l2_leaf_reg': 97.18545559492516}. Best is trial 10 with value: 0.7395888723887094.\n"
     ]
    },
    {
     "name": "stdout",
     "output_type": "stream",
     "text": [
      "Stopped by overfitting detector  (300 iterations wait)\n",
      "\n",
      "bestTest = 0.7395888724\n",
      "bestIteration = 2025\n",
      "\n",
      "Shrink model to first 2026 iterations.\n",
      "저장 완료\n",
      "0:\ttest: 0.7044666\tbest: 0.7044666 (0)\ttotal: 72.5ms\tremaining: 3m 36s\n",
      "300:\ttest: 0.7384860\tbest: 0.7385028 (299)\ttotal: 19.9s\tremaining: 2m 57s\n",
      "600:\ttest: 0.7388618\tbest: 0.7388636 (599)\ttotal: 40.8s\tremaining: 2m 42s\n"
     ]
    },
    {
     "name": "stderr",
     "output_type": "stream",
     "text": [
      "[I 2025-02-22 04:32:48,744] Trial 11 finished with value: 0.7388636178159877 and parameters: {'iterations': 2994, 'depth': 6, 'learning_rate': 0.07131044509072976, 'l2_leaf_reg': 73.1213351392818}. Best is trial 10 with value: 0.7395888723887094.\n"
     ]
    },
    {
     "name": "stdout",
     "output_type": "stream",
     "text": [
      "Stopped by overfitting detector  (300 iterations wait)\n",
      "\n",
      "bestTest = 0.7388636178\n",
      "bestIteration = 599\n",
      "\n",
      "Shrink model to first 600 iterations.\n",
      "0:\ttest: 0.7044666\tbest: 0.7044666 (0)\ttotal: 68.6ms\tremaining: 1m 48s\n",
      "300:\ttest: 0.7387130\tbest: 0.7387374 (284)\ttotal: 20s\tremaining: 1m 25s\n",
      "600:\ttest: 0.7391002\tbest: 0.7391138 (551)\ttotal: 40.9s\tremaining: 1m 7s\n",
      "900:\ttest: 0.7391538\tbest: 0.7392002 (840)\ttotal: 1m 1s\tremaining: 47.2s\n",
      "1200:\ttest: 0.7392162\tbest: 0.7392186 (989)\ttotal: 1m 24s\tremaining: 27.1s\n",
      "1500:\ttest: 0.7392104\tbest: 0.7392983 (1253)\ttotal: 1m 45s\tremaining: 6.11s\n"
     ]
    },
    {
     "name": "stderr",
     "output_type": "stream",
     "text": [
      "[I 2025-02-22 04:34:38,276] Trial 12 finished with value: 0.7392983385271996 and parameters: {'iterations': 1588, 'depth': 6, 'learning_rate': 0.07382783813729096, 'l2_leaf_reg': 87.13438924619796}. Best is trial 10 with value: 0.7395888723887094.\n"
     ]
    },
    {
     "name": "stdout",
     "output_type": "stream",
     "text": [
      "Stopped by overfitting detector  (300 iterations wait)\n",
      "\n",
      "bestTest = 0.7392983385\n",
      "bestIteration = 1253\n",
      "\n",
      "Shrink model to first 1254 iterations.\n",
      "0:\ttest: 0.7179612\tbest: 0.7179612 (0)\ttotal: 91.2ms\tremaining: 4m 31s\n",
      "300:\ttest: 0.7385065\tbest: 0.7385065 (300)\ttotal: 26.3s\tremaining: 3m 53s\n",
      "600:\ttest: 0.7382824\tbest: 0.7386493 (364)\ttotal: 54.8s\tremaining: 3m 36s\n"
     ]
    },
    {
     "name": "stderr",
     "output_type": "stream",
     "text": [
      "[I 2025-02-22 04:35:39,391] Trial 13 finished with value: 0.7386493329117629 and parameters: {'iterations': 2975, 'depth': 8, 'learning_rate': 0.06561133999410083, 'l2_leaf_reg': 7.828901342687942}. Best is trial 10 with value: 0.7395888723887094.\n"
     ]
    },
    {
     "name": "stdout",
     "output_type": "stream",
     "text": [
      "Stopped by overfitting detector  (300 iterations wait)\n",
      "\n",
      "bestTest = 0.7386493329\n",
      "bestIteration = 364\n",
      "\n",
      "Shrink model to first 365 iterations.\n",
      "0:\ttest: 0.7179683\tbest: 0.7179683 (0)\ttotal: 115ms\tremaining: 2m 56s\n",
      "300:\ttest: 0.7373687\tbest: 0.7373687 (300)\ttotal: 25.2s\tremaining: 1m 43s\n",
      "600:\ttest: 0.7381918\tbest: 0.7382454 (580)\ttotal: 52.7s\tremaining: 1m 21s\n",
      "900:\ttest: 0.7376618\tbest: 0.7382866 (726)\ttotal: 1m 21s\tremaining: 57.1s\n"
     ]
    },
    {
     "name": "stderr",
     "output_type": "stream",
     "text": [
      "[I 2025-02-22 04:37:13,455] Trial 14 finished with value: 0.7382865606880549 and parameters: {'iterations': 1533, 'depth': 8, 'learning_rate': 0.030866060002221384, 'l2_leaf_reg': 0.02939703823210393}. Best is trial 10 with value: 0.7395888723887094.\n"
     ]
    },
    {
     "name": "stdout",
     "output_type": "stream",
     "text": [
      "Stopped by overfitting detector  (300 iterations wait)\n",
      "\n",
      "bestTest = 0.7382865607\n",
      "bestIteration = 726\n",
      "\n",
      "Shrink model to first 727 iterations.\n",
      "0:\ttest: 0.7045365\tbest: 0.7045365 (0)\ttotal: 73.2ms\tremaining: 3m 22s\n",
      "300:\ttest: 0.7386069\tbest: 0.7386069 (300)\ttotal: 20.4s\tremaining: 2m 47s\n",
      "600:\ttest: 0.7385915\tbest: 0.7387380 (392)\ttotal: 41.4s\tremaining: 2m 28s\n"
     ]
    },
    {
     "name": "stderr",
     "output_type": "stream",
     "text": [
      "[I 2025-02-22 04:38:01,487] Trial 15 finished with value: 0.7387380345682482 and parameters: {'iterations': 2762, 'depth': 6, 'learning_rate': 0.08004341175663349, 'l2_leaf_reg': 9.663069382488304}. Best is trial 10 with value: 0.7395888723887094.\n"
     ]
    },
    {
     "name": "stdout",
     "output_type": "stream",
     "text": [
      "Stopped by overfitting detector  (300 iterations wait)\n",
      "\n",
      "bestTest = 0.7387380346\n",
      "bestIteration = 392\n",
      "\n",
      "Shrink model to first 393 iterations.\n",
      "0:\ttest: 0.7179650\tbest: 0.7179650 (0)\ttotal: 94ms\tremaining: 2m 22s\n",
      "300:\ttest: 0.7382503\tbest: 0.7382565 (299)\ttotal: 26.4s\tremaining: 1m 46s\n",
      "600:\ttest: 0.7379701\tbest: 0.7383878 (360)\ttotal: 55.7s\tremaining: 1m 25s\n"
     ]
    },
    {
     "name": "stderr",
     "output_type": "stream",
     "text": [
      "[I 2025-02-22 04:39:03,235] Trial 16 finished with value: 0.7383878381412136 and parameters: {'iterations': 1522, 'depth': 8, 'learning_rate': 0.061662991475729484, 'l2_leaf_reg': 1.8341589839267998}. Best is trial 10 with value: 0.7395888723887094.\n"
     ]
    },
    {
     "name": "stdout",
     "output_type": "stream",
     "text": [
      "Stopped by overfitting detector  (300 iterations wait)\n",
      "\n",
      "bestTest = 0.7383878381\n",
      "bestIteration = 360\n",
      "\n",
      "Shrink model to first 361 iterations.\n",
      "0:\ttest: 0.7021244\tbest: 0.7021244 (0)\ttotal: 67.9ms\tremaining: 1m 53s\n",
      "300:\ttest: 0.7384374\tbest: 0.7384375 (299)\ttotal: 18s\tremaining: 1m 21s\n",
      "600:\ttest: 0.7387201\tbest: 0.7387661 (575)\ttotal: 37.9s\tremaining: 1m 7s\n",
      "900:\ttest: 0.7388922\tbest: 0.7389390 (792)\ttotal: 57s\tremaining: 48.9s\n",
      "1200:\ttest: 0.7390141\tbest: 0.7390340 (1074)\ttotal: 1m 16s\tremaining: 30.1s\n",
      "1500:\ttest: 0.7391485\tbest: 0.7391508 (1497)\ttotal: 1m 35s\tremaining: 10.9s\n"
     ]
    },
    {
     "name": "stderr",
     "output_type": "stream",
     "text": [
      "[I 2025-02-22 04:40:50,056] Trial 17 finished with value: 0.7392767210225928 and parameters: {'iterations': 1673, 'depth': 5, 'learning_rate': 0.0808397101382616, 'l2_leaf_reg': 80.62911323694684}. Best is trial 10 with value: 0.7395888723887094.\n"
     ]
    },
    {
     "name": "stdout",
     "output_type": "stream",
     "text": [
      "1672:\ttest: 0.7392674\tbest: 0.7392767 (1651)\ttotal: 1m 46s\tremaining: 0us\n",
      "\n",
      "bestTest = 0.739276721\n",
      "bestIteration = 1651\n",
      "\n",
      "Shrink model to first 1652 iterations.\n",
      "0:\ttest: 0.7178156\tbest: 0.7178156 (0)\ttotal: 97.6ms\tremaining: 4m 2s\n",
      "300:\ttest: 0.7382748\tbest: 0.7383821 (288)\ttotal: 23.7s\tremaining: 2m 51s\n",
      "600:\ttest: 0.7378679\tbest: 0.7384368 (394)\ttotal: 49.3s\tremaining: 2m 34s\n"
     ]
    },
    {
     "name": "stderr",
     "output_type": "stream",
     "text": [
      "[I 2025-02-22 04:41:47,478] Trial 18 finished with value: 0.7384367554886145 and parameters: {'iterations': 2482, 'depth': 7, 'learning_rate': 0.0578596313489189, 'l2_leaf_reg': 0.010016909578442512}. Best is trial 10 with value: 0.7395888723887094.\n"
     ]
    },
    {
     "name": "stdout",
     "output_type": "stream",
     "text": [
      "Stopped by overfitting detector  (300 iterations wait)\n",
      "\n",
      "bestTest = 0.7384367555\n",
      "bestIteration = 394\n",
      "\n",
      "Shrink model to first 395 iterations.\n",
      "0:\ttest: 0.7021244\tbest: 0.7021244 (0)\ttotal: 64.2ms\tremaining: 2m 56s\n",
      "300:\ttest: 0.7382564\tbest: 0.7383722 (277)\ttotal: 17.8s\tremaining: 2m 25s\n",
      "600:\ttest: 0.7381605\tbest: 0.7383737 (451)\ttotal: 36.1s\tremaining: 2m 9s\n"
     ]
    },
    {
     "name": "stderr",
     "output_type": "stream",
     "text": [
      "[I 2025-02-22 04:42:33,035] Trial 19 finished with value: 0.7383736779609366 and parameters: {'iterations': 2755, 'depth': 5, 'learning_rate': 0.09780615690776343, 'l2_leaf_reg': 0.31055845032241847}. Best is trial 10 with value: 0.7395888723887094.\n"
     ]
    },
    {
     "name": "stdout",
     "output_type": "stream",
     "text": [
      "Stopped by overfitting detector  (300 iterations wait)\n",
      "\n",
      "bestTest = 0.738373678\n",
      "bestIteration = 451\n",
      "\n",
      "Shrink model to first 452 iterations.\n",
      "0:\ttest: 0.7045365\tbest: 0.7045365 (0)\ttotal: 74.5ms\tremaining: 2m 12s\n",
      "300:\ttest: 0.7383866\tbest: 0.7384199 (292)\ttotal: 20.6s\tremaining: 1m 41s\n",
      "600:\ttest: 0.7385801\tbest: 0.7385801 (600)\ttotal: 41.9s\tremaining: 1m 22s\n",
      "900:\ttest: 0.7383612\tbest: 0.7385854 (616)\ttotal: 1m 3s\tremaining: 1m 2s\n"
     ]
    },
    {
     "name": "stderr",
     "output_type": "stream",
     "text": [
      "[I 2025-02-22 04:43:37,872] Trial 20 finished with value: 0.7385854373815226 and parameters: {'iterations': 1787, 'depth': 6, 'learning_rate': 0.08587776765159605, 'l2_leaf_reg': 20.419787539717326}. Best is trial 10 with value: 0.7395888723887094.\n"
     ]
    },
    {
     "name": "stdout",
     "output_type": "stream",
     "text": [
      "Stopped by overfitting detector  (300 iterations wait)\n",
      "\n",
      "bestTest = 0.7385854374\n",
      "bestIteration = 616\n",
      "\n",
      "Shrink model to first 617 iterations.\n",
      "0:\ttest: 0.7021244\tbest: 0.7021244 (0)\ttotal: 62.2ms\tremaining: 1m 42s\n",
      "300:\ttest: 0.7384440\tbest: 0.7384440 (297)\ttotal: 17.4s\tremaining: 1m 17s\n",
      "600:\ttest: 0.7386957\tbest: 0.7387163 (564)\ttotal: 35.3s\tremaining: 1m 1s\n",
      "900:\ttest: 0.7387292\tbest: 0.7387479 (864)\ttotal: 53.1s\tremaining: 44.2s\n",
      "1200:\ttest: 0.7388295\tbest: 0.7388640 (1096)\ttotal: 1m 11s\tremaining: 26.6s\n",
      "1500:\ttest: 0.7388288\tbest: 0.7389044 (1330)\ttotal: 1m 29s\tremaining: 8.87s\n"
     ]
    },
    {
     "name": "stderr",
     "output_type": "stream",
     "text": [
      "[I 2025-02-22 04:45:15,452] Trial 21 finished with value: 0.7389043551377661 and parameters: {'iterations': 1650, 'depth': 5, 'learning_rate': 0.07888546529962101, 'l2_leaf_reg': 89.64660875312273}. Best is trial 10 with value: 0.7395888723887094.\n"
     ]
    },
    {
     "name": "stdout",
     "output_type": "stream",
     "text": [
      "Stopped by overfitting detector  (300 iterations wait)\n",
      "\n",
      "bestTest = 0.7389043551\n",
      "bestIteration = 1330\n",
      "\n",
      "Shrink model to first 1331 iterations.\n",
      "0:\ttest: 0.7021244\tbest: 0.7021244 (0)\ttotal: 61.9ms\tremaining: 1m 45s\n",
      "300:\ttest: 0.7385325\tbest: 0.7385684 (291)\ttotal: 17.3s\tremaining: 1m 20s\n",
      "600:\ttest: 0.7385161\tbest: 0.7386639 (447)\ttotal: 35.4s\tremaining: 1m 4s\n"
     ]
    },
    {
     "name": "stderr",
     "output_type": "stream",
     "text": [
      "[I 2025-02-22 04:45:59,996] Trial 22 finished with value: 0.738663866355345 and parameters: {'iterations': 1697, 'depth': 5, 'learning_rate': 0.07426743788891002, 'l2_leaf_reg': 2.2815014894024164}. Best is trial 10 with value: 0.7395888723887094.\n"
     ]
    },
    {
     "name": "stdout",
     "output_type": "stream",
     "text": [
      "Stopped by overfitting detector  (300 iterations wait)\n",
      "\n",
      "bestTest = 0.7386638664\n",
      "bestIteration = 447\n",
      "\n",
      "Shrink model to first 448 iterations.\n",
      "0:\ttest: 0.7045365\tbest: 0.7045365 (0)\ttotal: 72.6ms\tremaining: 2m 35s\n",
      "300:\ttest: 0.7389045\tbest: 0.7389045 (300)\ttotal: 20.6s\tremaining: 2m 6s\n",
      "600:\ttest: 0.7388833\tbest: 0.7390450 (397)\ttotal: 41.9s\tremaining: 1m 47s\n"
     ]
    },
    {
     "name": "stderr",
     "output_type": "stream",
     "text": [
      "[I 2025-02-22 04:46:49,035] Trial 23 finished with value: 0.739045023782273 and parameters: {'iterations': 2142, 'depth': 6, 'learning_rate': 0.08670499605213589, 'l2_leaf_reg': 24.246184155884688}. Best is trial 10 with value: 0.7395888723887094.\n"
     ]
    },
    {
     "name": "stdout",
     "output_type": "stream",
     "text": [
      "Stopped by overfitting detector  (300 iterations wait)\n",
      "\n",
      "bestTest = 0.7390450238\n",
      "bestIteration = 397\n",
      "\n",
      "Shrink model to first 398 iterations.\n",
      "0:\ttest: 0.7178280\tbest: 0.7178280 (0)\ttotal: 85.1ms\tremaining: 2m 37s\n",
      "300:\ttest: 0.7384880\tbest: 0.7385015 (299)\ttotal: 22.9s\tremaining: 1m 58s\n",
      "600:\ttest: 0.7388230\tbest: 0.7388567 (574)\ttotal: 47.5s\tremaining: 1m 38s\n"
     ]
    },
    {
     "name": "stderr",
     "output_type": "stream",
     "text": [
      "[I 2025-02-22 04:47:59,204] Trial 24 finished with value: 0.7388566965612984 and parameters: {'iterations': 1849, 'depth': 7, 'learning_rate': 0.06026349068179602, 'l2_leaf_reg': 36.88308849820684}. Best is trial 10 with value: 0.7395888723887094.\n"
     ]
    },
    {
     "name": "stdout",
     "output_type": "stream",
     "text": [
      "Stopped by overfitting detector  (300 iterations wait)\n",
      "\n",
      "bestTest = 0.7388566966\n",
      "bestIteration = 574\n",
      "\n",
      "Shrink model to first 575 iterations.\n",
      "0:\ttest: 0.7021244\tbest: 0.7021244 (0)\ttotal: 60.7ms\tremaining: 1m 38s\n",
      "300:\ttest: 0.7387304\tbest: 0.7387670 (264)\ttotal: 17.6s\tremaining: 1m 17s\n",
      "600:\ttest: 0.7387898\tbest: 0.7388867 (378)\ttotal: 35.9s\tremaining: 1m\n"
     ]
    },
    {
     "name": "stderr",
     "output_type": "stream",
     "text": [
      "[I 2025-02-22 04:48:39,954] Trial 25 finished with value: 0.7388866767522941 and parameters: {'iterations': 1622, 'depth': 5, 'learning_rate': 0.08817417809740101, 'l2_leaf_reg': 4.24162502782565}. Best is trial 10 with value: 0.7395888723887094.\n"
     ]
    },
    {
     "name": "stdout",
     "output_type": "stream",
     "text": [
      "Stopped by overfitting detector  (300 iterations wait)\n",
      "\n",
      "bestTest = 0.7388866768\n",
      "bestIteration = 378\n",
      "\n",
      "Shrink model to first 379 iterations.\n",
      "0:\ttest: 0.7045365\tbest: 0.7045365 (0)\ttotal: 74.7ms\tremaining: 2m 30s\n",
      "300:\ttest: 0.7384476\tbest: 0.7384476 (300)\ttotal: 20.4s\tremaining: 1m 56s\n",
      "600:\ttest: 0.7386762\tbest: 0.7386879 (597)\ttotal: 42s\tremaining: 1m 38s\n",
      "900:\ttest: 0.7386843\tbest: 0.7389371 (702)\ttotal: 1m 3s\tremaining: 1m 19s\n"
     ]
    },
    {
     "name": "stderr",
     "output_type": "stream",
     "text": [
      "[I 2025-02-22 04:49:51,407] Trial 26 finished with value: 0.7389371228908916 and parameters: {'iterations': 2018, 'depth': 6, 'learning_rate': 0.06663411423831617, 'l2_leaf_reg': 0.4263833246747562}. Best is trial 10 with value: 0.7395888723887094.\n"
     ]
    },
    {
     "name": "stdout",
     "output_type": "stream",
     "text": [
      "Stopped by overfitting detector  (300 iterations wait)\n",
      "\n",
      "bestTest = 0.7389371229\n",
      "bestIteration = 702\n",
      "\n",
      "Shrink model to first 703 iterations.\n",
      "0:\ttest: 0.7196139\tbest: 0.7196139 (0)\ttotal: 111ms\tremaining: 5m 9s\n",
      "300:\ttest: 0.7381631\tbest: 0.7382044 (260)\ttotal: 30.6s\tremaining: 4m 13s\n",
      "600:\ttest: 0.7378009\tbest: 0.7384205 (354)\ttotal: 1m 3s\tremaining: 3m 50s\n"
     ]
    },
    {
     "name": "stderr",
     "output_type": "stream",
     "text": [
      "[I 2025-02-22 04:51:00,781] Trial 27 finished with value: 0.7384205026512972 and parameters: {'iterations': 2794, 'depth': 9, 'learning_rate': 0.0762217175077625, 'l2_leaf_reg': 21.216026974349894}. Best is trial 10 with value: 0.7395888723887094.\n"
     ]
    },
    {
     "name": "stdout",
     "output_type": "stream",
     "text": [
      "Stopped by overfitting detector  (300 iterations wait)\n",
      "\n",
      "bestTest = 0.7384205027\n",
      "bestIteration = 354\n",
      "\n",
      "Shrink model to first 355 iterations.\n",
      "0:\ttest: 0.7021244\tbest: 0.7021244 (0)\ttotal: 63.1ms\tremaining: 2m 22s\n",
      "300:\ttest: 0.7379959\tbest: 0.7379959 (300)\ttotal: 16.9s\tremaining: 1m 49s\n",
      "600:\ttest: 0.7384790\tbest: 0.7384790 (600)\ttotal: 35s\tremaining: 1m 36s\n",
      "900:\ttest: 0.7386552\tbest: 0.7386726 (893)\ttotal: 53.2s\tremaining: 1m 20s\n",
      "1200:\ttest: 0.7385484\tbest: 0.7387167 (1123)\ttotal: 1m 11s\tremaining: 1m 2s\n"
     ]
    },
    {
     "name": "stderr",
     "output_type": "stream",
     "text": [
      "[I 2025-02-22 04:52:26,473] Trial 28 finished with value: 0.7387167148801084 and parameters: {'iterations': 2256, 'depth': 5, 'learning_rate': 0.05375643828958056, 'l2_leaf_reg': 0.9662133989953815}. Best is trial 10 with value: 0.7395888723887094.\n"
     ]
    },
    {
     "name": "stdout",
     "output_type": "stream",
     "text": [
      "Stopped by overfitting detector  (300 iterations wait)\n",
      "\n",
      "bestTest = 0.7387167149\n",
      "bestIteration = 1123\n",
      "\n",
      "Shrink model to first 1124 iterations.\n",
      "0:\ttest: 0.7178156\tbest: 0.7178156 (0)\ttotal: 90.5ms\tremaining: 2m 23s\n",
      "300:\ttest: 0.7388322\tbest: 0.7388506 (219)\ttotal: 24.2s\tremaining: 1m 43s\n",
      "600:\ttest: 0.7386697\tbest: 0.7389890 (447)\ttotal: 49.2s\tremaining: 1m 20s\n"
     ]
    },
    {
     "name": "stderr",
     "output_type": "stream",
     "text": [
      "[I 2025-02-22 04:53:28,396] Trial 29 finished with value: 0.7389889985485298 and parameters: {'iterations': 1585, 'depth': 7, 'learning_rate': 0.09981209018252028, 'l2_leaf_reg': 8.704178912540984}. Best is trial 10 with value: 0.7395888723887094.\n"
     ]
    },
    {
     "name": "stdout",
     "output_type": "stream",
     "text": [
      "Stopped by overfitting detector  (300 iterations wait)\n",
      "\n",
      "bestTest = 0.7389889985\n",
      "bestIteration = 447\n",
      "\n",
      "Shrink model to first 448 iterations.\n",
      "0:\ttest: 0.7044666\tbest: 0.7044666 (0)\ttotal: 71.7ms\tremaining: 2m 51s\n",
      "300:\ttest: 0.7387404\tbest: 0.7387404 (300)\ttotal: 20.4s\tremaining: 2m 21s\n",
      "600:\ttest: 0.7390858\tbest: 0.7391436 (567)\ttotal: 41.6s\tremaining: 2m 3s\n",
      "900:\ttest: 0.7391186\tbest: 0.7392048 (787)\ttotal: 1m 2s\tremaining: 1m 43s\n"
     ]
    },
    {
     "name": "stderr",
     "output_type": "stream",
     "text": [
      "[I 2025-02-22 04:54:45,063] Trial 30 finished with value: 0.7392047645933166 and parameters: {'iterations': 2392, 'depth': 6, 'learning_rate': 0.08318283570169488, 'l2_leaf_reg': 95.13028147054804}. Best is trial 10 with value: 0.7395888723887094.\n"
     ]
    },
    {
     "name": "stdout",
     "output_type": "stream",
     "text": [
      "Stopped by overfitting detector  (300 iterations wait)\n",
      "\n",
      "bestTest = 0.7392047646\n",
      "bestIteration = 787\n",
      "\n",
      "Shrink model to first 788 iterations.\n",
      "0:\ttest: 0.7044666\tbest: 0.7044666 (0)\ttotal: 70.2ms\tremaining: 2m 48s\n",
      "300:\ttest: 0.7387113\tbest: 0.7387500 (275)\ttotal: 20.2s\tremaining: 2m 20s\n",
      "600:\ttest: 0.7390519\tbest: 0.7390896 (589)\ttotal: 41.6s\tremaining: 2m 4s\n",
      "900:\ttest: 0.7391827\tbest: 0.7392289 (799)\ttotal: 1m 2s\tremaining: 1m 44s\n"
     ]
    },
    {
     "name": "stderr",
     "output_type": "stream",
     "text": [
      "[I 2025-02-22 04:56:02,341] Trial 31 finished with value: 0.7392289274359933 and parameters: {'iterations': 2401, 'depth': 6, 'learning_rate': 0.0844985907208323, 'l2_leaf_reg': 93.41491469956883}. Best is trial 10 with value: 0.7395888723887094.\n"
     ]
    },
    {
     "name": "stdout",
     "output_type": "stream",
     "text": [
      "Stopped by overfitting detector  (300 iterations wait)\n",
      "\n",
      "bestTest = 0.7392289274\n",
      "bestIteration = 799\n",
      "\n",
      "Shrink model to first 800 iterations.\n",
      "0:\ttest: 0.7021244\tbest: 0.7021244 (0)\ttotal: 60.8ms\tremaining: 2m 40s\n",
      "300:\ttest: 0.7381571\tbest: 0.7381571 (300)\ttotal: 17.5s\tremaining: 2m 15s\n",
      "600:\ttest: 0.7385374\tbest: 0.7385374 (600)\ttotal: 35.5s\tremaining: 2m\n",
      "900:\ttest: 0.7383735\tbest: 0.7385440 (631)\ttotal: 53.8s\tremaining: 1m 43s\n"
     ]
    },
    {
     "name": "stderr",
     "output_type": "stream",
     "text": [
      "[I 2025-02-22 04:56:58,187] Trial 32 finished with value: 0.7385440369217449 and parameters: {'iterations': 2637, 'depth': 5, 'learning_rate': 0.08953210691322978, 'l2_leaf_reg': 34.317397261094406}. Best is trial 10 with value: 0.7395888723887094.\n"
     ]
    },
    {
     "name": "stdout",
     "output_type": "stream",
     "text": [
      "Stopped by overfitting detector  (300 iterations wait)\n",
      "\n",
      "bestTest = 0.7385440369\n",
      "bestIteration = 631\n",
      "\n",
      "Shrink model to first 632 iterations.\n",
      "0:\ttest: 0.7045365\tbest: 0.7045365 (0)\ttotal: 72ms\tremaining: 3m 27s\n",
      "300:\ttest: 0.7385422\tbest: 0.7385655 (294)\ttotal: 20.5s\tremaining: 2m 55s\n",
      "600:\ttest: 0.7389394\tbest: 0.7390088 (485)\ttotal: 41.8s\tremaining: 2m 38s\n"
     ]
    },
    {
     "name": "stderr",
     "output_type": "stream",
     "text": [
      "[I 2025-02-22 04:57:53,486] Trial 33 finished with value: 0.7390088410669943 and parameters: {'iterations': 2883, 'depth': 6, 'learning_rate': 0.07314111843823112, 'l2_leaf_reg': 16.250828740712585}. Best is trial 10 with value: 0.7395888723887094.\n"
     ]
    },
    {
     "name": "stdout",
     "output_type": "stream",
     "text": [
      "Stopped by overfitting detector  (300 iterations wait)\n",
      "\n",
      "bestTest = 0.7390088411\n",
      "bestIteration = 485\n",
      "\n",
      "Shrink model to first 486 iterations.\n",
      "0:\ttest: 0.6976802\tbest: 0.6976802 (0)\ttotal: 52ms\tremaining: 1m 56s\n",
      "300:\ttest: 0.7381777\tbest: 0.7381809 (297)\ttotal: 14.1s\tremaining: 1m 30s\n",
      "600:\ttest: 0.7385401\tbest: 0.7385401 (600)\ttotal: 28.9s\tremaining: 1m 18s\n",
      "900:\ttest: 0.7386067\tbest: 0.7386255 (753)\ttotal: 43.6s\tremaining: 1m 4s\n",
      "1200:\ttest: 0.7386762\tbest: 0.7387329 (1156)\ttotal: 58.2s\tremaining: 50.4s\n",
      "1500:\ttest: 0.7386674\tbest: 0.7387371 (1336)\ttotal: 1m 13s\tremaining: 36s\n"
     ]
    },
    {
     "name": "stderr",
     "output_type": "stream",
     "text": [
      "[I 2025-02-22 04:59:13,696] Trial 34 finished with value: 0.7387370815555543 and parameters: {'iterations': 2241, 'depth': 4, 'learning_rate': 0.08218937007627629, 'l2_leaf_reg': 43.76639831810675}. Best is trial 10 with value: 0.7395888723887094.\n"
     ]
    },
    {
     "name": "stdout",
     "output_type": "stream",
     "text": [
      "Stopped by overfitting detector  (300 iterations wait)\n",
      "\n",
      "bestTest = 0.7387370816\n",
      "bestIteration = 1336\n",
      "\n",
      "Shrink model to first 1337 iterations.\n",
      "0:\ttest: 0.7178156\tbest: 0.7178156 (0)\ttotal: 88ms\tremaining: 2m 37s\n",
      "300:\ttest: 0.7385330\tbest: 0.7386144 (256)\ttotal: 23.6s\tremaining: 1m 56s\n",
      "600:\ttest: 0.7385699\tbest: 0.7386718 (557)\ttotal: 48.8s\tremaining: 1m 36s\n"
     ]
    },
    {
     "name": "stderr",
     "output_type": "stream",
     "text": [
      "[I 2025-02-22 05:00:24,127] Trial 35 finished with value: 0.7386718160695667 and parameters: {'iterations': 1789, 'depth': 7, 'learning_rate': 0.06530695437841151, 'l2_leaf_reg': 3.3712760558444104}. Best is trial 10 with value: 0.7395888723887094.\n"
     ]
    },
    {
     "name": "stdout",
     "output_type": "stream",
     "text": [
      "Stopped by overfitting detector  (300 iterations wait)\n",
      "\n",
      "bestTest = 0.7386718161\n",
      "bestIteration = 557\n",
      "\n",
      "Shrink model to first 558 iterations.\n",
      "0:\ttest: 0.6976802\tbest: 0.6976802 (0)\ttotal: 54.2ms\tremaining: 2m 12s\n",
      "300:\ttest: 0.7385246\tbest: 0.7385429 (297)\ttotal: 14.2s\tremaining: 1m 41s\n",
      "600:\ttest: 0.7387196\tbest: 0.7387676 (573)\ttotal: 29.1s\tremaining: 1m 28s\n",
      "900:\ttest: 0.7387623\tbest: 0.7388210 (749)\ttotal: 43.9s\tremaining: 1m 14s\n",
      "1200:\ttest: 0.7389234\tbest: 0.7389376 (1114)\ttotal: 59.1s\tremaining: 1m\n",
      "1500:\ttest: 0.7388517\tbest: 0.7389823 (1268)\ttotal: 1m 14s\tremaining: 46.3s\n"
     ]
    },
    {
     "name": "stderr",
     "output_type": "stream",
     "text": [
      "[I 2025-02-22 05:01:41,919] Trial 36 finished with value: 0.7389822520128343 and parameters: {'iterations': 2439, 'depth': 4, 'learning_rate': 0.09321401226123757, 'l2_leaf_reg': 5.246105269141423}. Best is trial 10 with value: 0.7395888723887094.\n"
     ]
    },
    {
     "name": "stdout",
     "output_type": "stream",
     "text": [
      "Stopped by overfitting detector  (300 iterations wait)\n",
      "\n",
      "bestTest = 0.738982252\n",
      "bestIteration = 1268\n",
      "\n",
      "Shrink model to first 1269 iterations.\n",
      "0:\ttest: 0.7021244\tbest: 0.7021244 (0)\ttotal: 114ms\tremaining: 4m 53s\n",
      "300:\ttest: 0.7378780\tbest: 0.7378783 (299)\ttotal: 17.2s\tremaining: 2m 10s\n",
      "600:\ttest: 0.7387418\tbest: 0.7387418 (600)\ttotal: 35s\tremaining: 1m 55s\n",
      "900:\ttest: 0.7390342\tbest: 0.7390418 (875)\ttotal: 53s\tremaining: 1m 38s\n",
      "1200:\ttest: 0.7391331\tbest: 0.7391655 (1185)\ttotal: 1m 11s\tremaining: 1m 21s\n",
      "1500:\ttest: 0.7392302\tbest: 0.7392322 (1462)\ttotal: 1m 29s\tremaining: 1m 4s\n",
      "1800:\ttest: 0.7392207\tbest: 0.7392750 (1633)\ttotal: 1m 47s\tremaining: 46.6s\n"
     ]
    },
    {
     "name": "stderr",
     "output_type": "stream",
     "text": [
      "[I 2025-02-22 05:03:37,990] Trial 37 finished with value: 0.7392750492794922 and parameters: {'iterations': 2581, 'depth': 5, 'learning_rate': 0.043154435295942, 'l2_leaf_reg': 18.0328972024028}. Best is trial 10 with value: 0.7395888723887094.\n"
     ]
    },
    {
     "name": "stdout",
     "output_type": "stream",
     "text": [
      "Stopped by overfitting detector  (300 iterations wait)\n",
      "\n",
      "bestTest = 0.7392750493\n",
      "bestIteration = 1633\n",
      "\n",
      "Shrink model to first 1634 iterations.\n",
      "0:\ttest: 0.6976802\tbest: 0.6976802 (0)\ttotal: 54ms\tremaining: 2m 22s\n",
      "300:\ttest: 0.7361028\tbest: 0.7361028 (300)\ttotal: 13.7s\tremaining: 1m 46s\n",
      "600:\ttest: 0.7378801\tbest: 0.7378801 (600)\ttotal: 27.9s\tremaining: 1m 34s\n",
      "900:\ttest: 0.7383979\tbest: 0.7384006 (897)\ttotal: 42.7s\tremaining: 1m 22s\n",
      "1200:\ttest: 0.7385231\tbest: 0.7385347 (1182)\ttotal: 57.6s\tremaining: 1m 9s\n",
      "1500:\ttest: 0.7385576\tbest: 0.7385794 (1406)\ttotal: 1m 12s\tremaining: 54.9s\n",
      "1800:\ttest: 0.7386279\tbest: 0.7386480 (1778)\ttotal: 1m 27s\tremaining: 40.7s\n",
      "2100:\ttest: 0.7386704\tbest: 0.7386959 (2008)\ttotal: 1m 41s\tremaining: 26.3s\n",
      "2400:\ttest: 0.7386433\tbest: 0.7387028 (2159)\ttotal: 1m 56s\tremaining: 11.7s\n"
     ]
    },
    {
     "name": "stderr",
     "output_type": "stream",
     "text": [
      "[I 2025-02-22 05:05:38,094] Trial 38 finished with value: 0.7387028008947772 and parameters: {'iterations': 2642, 'depth': 4, 'learning_rate': 0.03131972127677788, 'l2_leaf_reg': 12.491308518634584}. Best is trial 10 with value: 0.7395888723887094.\n"
     ]
    },
    {
     "name": "stdout",
     "output_type": "stream",
     "text": [
      "Stopped by overfitting detector  (300 iterations wait)\n",
      "\n",
      "bestTest = 0.7387028009\n",
      "bestIteration = 2159\n",
      "\n",
      "Shrink model to first 2160 iterations.\n",
      "0:\ttest: 0.7021244\tbest: 0.7021244 (0)\ttotal: 62.8ms\tremaining: 2m 42s\n",
      "300:\ttest: 0.7376928\tbest: 0.7376928 (300)\ttotal: 17s\tremaining: 2m 9s\n",
      "600:\ttest: 0.7386451\tbest: 0.7386504 (594)\ttotal: 35s\tremaining: 1m 56s\n",
      "900:\ttest: 0.7387712\tbest: 0.7387863 (888)\ttotal: 52.9s\tremaining: 1m 39s\n",
      "1200:\ttest: 0.7388550\tbest: 0.7388601 (1197)\ttotal: 1m 10s\tremaining: 1m 22s\n",
      "1500:\ttest: 0.7390054\tbest: 0.7390131 (1487)\ttotal: 1m 29s\tremaining: 1m 5s\n",
      "1800:\ttest: 0.7390350\tbest: 0.7390484 (1785)\ttotal: 1m 47s\tremaining: 47.5s\n"
     ]
    },
    {
     "name": "stderr",
     "output_type": "stream",
     "text": [
      "[I 2025-02-22 05:07:43,186] Trial 39 finished with value: 0.7390483910937914 and parameters: {'iterations': 2596, 'depth': 5, 'learning_rate': 0.04356663423140037, 'l2_leaf_reg': 39.65159999627064}. Best is trial 10 with value: 0.7395888723887094.\n",
      "[I 2025-02-22 05:07:43,192] A new study created in memory with name: no-name-120ec8cd-8c21-4e89-9d59-9c00b2636145\n"
     ]
    },
    {
     "name": "stdout",
     "output_type": "stream",
     "text": [
      "Stopped by overfitting detector  (300 iterations wait)\n",
      "\n",
      "bestTest = 0.7390483911\n",
      "bestIteration = 1785\n",
      "\n",
      "Shrink model to first 1786 iterations.\n"
     ]
    },
    {
     "name": "stderr",
     "output_type": "stream",
     "text": [
      "[I 2025-02-22 05:08:06,586] Trial 0 finished with value: 0.7276658219056258 and parameters: {'num_iterations': 2366, 'objective': 'binary', 'metric': 'auc', 'verbose': -1, 'learning_rate': 0.0652646236447618, 'n_estimators': 236, 'min_child_samples': 45, 'subsample': 0.7, 'colsample_bytree': 0.5}. Best is trial 0 with value: 0.7276658219056258.\n",
      "[I 2025-02-22 05:08:23,557] Trial 1 finished with value: 0.7382055704926177 and parameters: {'num_iterations': 1510, 'objective': 'binary', 'metric': 'auc', 'verbose': -1, 'learning_rate': 0.005231880959249543, 'n_estimators': 1411, 'min_child_samples': 10, 'subsample': 1.0, 'colsample_bytree': 0.5}. Best is trial 1 with value: 0.7382055704926177.\n",
      "[I 2025-02-22 05:08:42,944] Trial 2 finished with value: 0.73804879990447 and parameters: {'num_iterations': 2334, 'objective': 'binary', 'metric': 'auc', 'verbose': -1, 'learning_rate': 0.006578527777128852, 'n_estimators': 931, 'min_child_samples': 15, 'subsample': 0.5, 'colsample_bytree': 1.0}. Best is trial 1 with value: 0.7382055704926177.\n",
      "[I 2025-02-22 05:08:59,049] Trial 3 finished with value: 0.737976315347326 and parameters: {'num_iterations': 1620, 'objective': 'binary', 'metric': 'auc', 'verbose': -1, 'learning_rate': 0.0058823249237283685, 'n_estimators': 837, 'min_child_samples': 10, 'subsample': 0.9, 'colsample_bytree': 0.6}. Best is trial 1 with value: 0.7382055704926177.\n",
      "[I 2025-02-22 05:09:15,166] Trial 4 finished with value: 0.7383541967931186 and parameters: {'num_iterations': 1997, 'objective': 'binary', 'metric': 'auc', 'verbose': -1, 'learning_rate': 0.010907507425244923, 'n_estimators': 1597, 'min_child_samples': 50, 'subsample': 0.6, 'colsample_bytree': 0.8}. Best is trial 4 with value: 0.7383541967931186.\n",
      "[I 2025-02-22 05:09:37,526] Trial 5 finished with value: 0.7355242811909698 and parameters: {'num_iterations': 2909, 'objective': 'binary', 'metric': 'auc', 'verbose': -1, 'learning_rate': 0.019760591962733942, 'n_estimators': 612, 'min_child_samples': 30, 'subsample': 0.7, 'colsample_bytree': 0.9}. Best is trial 4 with value: 0.7383541967931186.\n",
      "[I 2025-02-22 05:09:58,017] Trial 6 finished with value: 0.7362372260163952 and parameters: {'num_iterations': 2639, 'objective': 'binary', 'metric': 'auc', 'verbose': -1, 'learning_rate': 0.017862094446750985, 'n_estimators': 794, 'min_child_samples': 35, 'subsample': 1.0, 'colsample_bytree': 0.8}. Best is trial 4 with value: 0.7383541967931186.\n",
      "[I 2025-02-22 05:10:14,683] Trial 7 finished with value: 0.7375347011776282 and parameters: {'num_iterations': 1580, 'objective': 'binary', 'metric': 'auc', 'verbose': -1, 'learning_rate': 0.01776722177611332, 'n_estimators': 529, 'min_child_samples': 25, 'subsample': 0.8, 'colsample_bytree': 0.5}. Best is trial 4 with value: 0.7383541967931186.\n",
      "[I 2025-02-22 05:10:31,924] Trial 8 finished with value: 0.7344460505708562 and parameters: {'num_iterations': 1911, 'objective': 'binary', 'metric': 'auc', 'verbose': -1, 'learning_rate': 0.0304747553332844, 'n_estimators': 1328, 'min_child_samples': 10, 'subsample': 0.7, 'colsample_bytree': 0.6}. Best is trial 4 with value: 0.7383541967931186.\n",
      "[I 2025-02-22 05:10:59,510] Trial 9 finished with value: 0.7339205633423223 and parameters: {'num_iterations': 2739, 'objective': 'binary', 'metric': 'auc', 'verbose': -1, 'learning_rate': 0.02691531614176271, 'n_estimators': 1438, 'min_child_samples': 20, 'subsample': 0.6, 'colsample_bytree': 0.5}. Best is trial 4 with value: 0.7383541967931186.\n",
      "[I 2025-02-22 05:11:15,869] Trial 10 finished with value: 0.7382294752276898 and parameters: {'num_iterations': 2005, 'objective': 'binary', 'metric': 'auc', 'verbose': -1, 'learning_rate': 0.010657060501116528, 'n_estimators': 1971, 'min_child_samples': 50, 'subsample': 0.5, 'colsample_bytree': 0.8}. Best is trial 4 with value: 0.7383541967931186.\n",
      "[I 2025-02-22 05:11:32,168] Trial 11 finished with value: 0.7383613880680714 and parameters: {'num_iterations': 2009, 'objective': 'binary', 'metric': 'auc', 'verbose': -1, 'learning_rate': 0.010761246945778813, 'n_estimators': 1865, 'min_child_samples': 50, 'subsample': 0.5, 'colsample_bytree': 0.8}. Best is trial 11 with value: 0.7383613880680714.\n",
      "[I 2025-02-22 05:11:48,487] Trial 12 finished with value: 0.7383129234017001 and parameters: {'num_iterations': 1988, 'objective': 'binary', 'metric': 'auc', 'verbose': -1, 'learning_rate': 0.01095997251272449, 'n_estimators': 1958, 'min_child_samples': 40, 'subsample': 0.6, 'colsample_bytree': 0.7}. Best is trial 11 with value: 0.7383613880680714.\n",
      "[I 2025-02-22 05:12:05,962] Trial 13 finished with value: 0.7383446507826347 and parameters: {'num_iterations': 2139, 'objective': 'binary', 'metric': 'auc', 'verbose': -1, 'learning_rate': 0.008793222787825834, 'n_estimators': 1698, 'min_child_samples': 50, 'subsample': 0.6, 'colsample_bytree': 0.9}. Best is trial 11 with value: 0.7383613880680714.\n",
      "[I 2025-02-22 05:12:19,562] Trial 14 finished with value: 0.7332977854303991 and parameters: {'num_iterations': 1767, 'objective': 'binary', 'metric': 'auc', 'verbose': -1, 'learning_rate': 0.04700939565449148, 'n_estimators': 1647, 'min_child_samples': 40, 'subsample': 0.5, 'colsample_bytree': 0.7}. Best is trial 11 with value: 0.7383613880680714.\n",
      "[I 2025-02-22 05:12:36,758] Trial 15 finished with value: 0.7378840279805797 and parameters: {'num_iterations': 2166, 'objective': 'binary', 'metric': 'auc', 'verbose': -1, 'learning_rate': 0.012915147920823086, 'n_estimators': 1712, 'min_child_samples': 45, 'subsample': 0.6, 'colsample_bytree': 0.9}. Best is trial 11 with value: 0.7383613880680714.\n",
      "[I 2025-02-22 05:12:56,727] Trial 16 finished with value: 0.7384121876155428 and parameters: {'num_iterations': 2471, 'objective': 'binary', 'metric': 'auc', 'verbose': -1, 'learning_rate': 0.008611763162129993, 'n_estimators': 1119, 'min_child_samples': 50, 'subsample': 0.5, 'colsample_bytree': 0.8}. Best is trial 16 with value: 0.7384121876155428.\n",
      "[I 2025-02-22 05:13:16,997] Trial 17 finished with value: 0.7380129626562929 and parameters: {'num_iterations': 2501, 'objective': 'binary', 'metric': 'auc', 'verbose': -1, 'learning_rate': 0.007816528349456937, 'n_estimators': 1189, 'min_child_samples': 40, 'subsample': 0.5, 'colsample_bytree': 1.0}. Best is trial 16 with value: 0.7384121876155428.\n",
      "[I 2025-02-22 05:13:37,102] Trial 18 finished with value: 0.7369748776959101 and parameters: {'num_iterations': 2521, 'objective': 'binary', 'metric': 'auc', 'verbose': -1, 'learning_rate': 0.015080795945050308, 'n_estimators': 1098, 'min_child_samples': 30, 'subsample': 0.8, 'colsample_bytree': 0.7}. Best is trial 16 with value: 0.7384121876155428.\n",
      "[I 2025-02-22 05:13:59,612] Trial 19 finished with value: 0.7324699628664957 and parameters: {'num_iterations': 2997, 'objective': 'binary', 'metric': 'auc', 'verbose': -1, 'learning_rate': 0.031846415976658035, 'n_estimators': 144, 'min_child_samples': 45, 'subsample': 0.5, 'colsample_bytree': 0.9}. Best is trial 16 with value: 0.7384121876155428.\n",
      "[I 2025-02-22 05:14:14,706] Trial 20 finished with value: 0.7383452940662031 and parameters: {'num_iterations': 1805, 'objective': 'binary', 'metric': 'auc', 'verbose': -1, 'learning_rate': 0.007877155758725746, 'n_estimators': 432, 'min_child_samples': 35, 'subsample': 0.9, 'colsample_bytree': 0.8}. Best is trial 16 with value: 0.7384121876155428.\n",
      "[I 2025-02-22 05:14:32,002] Trial 21 finished with value: 0.7382305711922879 and parameters: {'num_iterations': 2153, 'objective': 'binary', 'metric': 'auc', 'verbose': -1, 'learning_rate': 0.011035791005973706, 'n_estimators': 1553, 'min_child_samples': 50, 'subsample': 0.6, 'colsample_bytree': 0.8}. Best is trial 16 with value: 0.7384121876155428.\n",
      "[I 2025-02-22 05:14:50,575] Trial 22 finished with value: 0.7383158697992787 and parameters: {'num_iterations': 2293, 'objective': 'binary', 'metric': 'auc', 'verbose': -1, 'learning_rate': 0.008925053016902208, 'n_estimators': 1817, 'min_child_samples': 50, 'subsample': 0.5, 'colsample_bytree': 0.8}. Best is trial 16 with value: 0.7384121876155428.\n",
      "[I 2025-02-22 05:15:07,200] Trial 23 finished with value: 0.7381071520775406 and parameters: {'num_iterations': 2047, 'objective': 'binary', 'metric': 'auc', 'verbose': -1, 'learning_rate': 0.01346178806202605, 'n_estimators': 1266, 'min_child_samples': 45, 'subsample': 0.6, 'colsample_bytree': 0.7}. Best is trial 16 with value: 0.7384121876155428.\n",
      "[I 2025-02-22 05:15:22,274] Trial 24 finished with value: 0.7383615349908618 and parameters: {'num_iterations': 1778, 'objective': 'binary', 'metric': 'auc', 'verbose': -1, 'learning_rate': 0.006744166320144991, 'n_estimators': 1834, 'min_child_samples': 50, 'subsample': 0.5, 'colsample_bytree': 0.9}. Best is trial 16 with value: 0.7384121876155428.\n",
      "[I 2025-02-22 05:15:37,938] Trial 25 finished with value: 0.7382301463074618 and parameters: {'num_iterations': 1816, 'objective': 'binary', 'metric': 'auc', 'verbose': -1, 'learning_rate': 0.005249284646242654, 'n_estimators': 1845, 'min_child_samples': 45, 'subsample': 0.5, 'colsample_bytree': 0.9}. Best is trial 16 with value: 0.7384121876155428.\n",
      "[I 2025-02-22 05:15:58,079] Trial 26 finished with value: 0.7380049136699156 and parameters: {'num_iterations': 2452, 'objective': 'binary', 'metric': 'auc', 'verbose': -1, 'learning_rate': 0.0070319925342010176, 'n_estimators': 1493, 'min_child_samples': 35, 'subsample': 0.5, 'colsample_bytree': 1.0}. Best is trial 16 with value: 0.7384121876155428.\n",
      "[I 2025-02-22 05:16:12,839] Trial 27 finished with value: 0.7383319836555782 and parameters: {'num_iterations': 1707, 'objective': 'binary', 'metric': 'auc', 'verbose': -1, 'learning_rate': 0.0064285394741974995, 'n_estimators': 1818, 'min_child_samples': 40, 'subsample': 0.7, 'colsample_bytree': 0.9}. Best is trial 16 with value: 0.7384121876155428.\n",
      "[I 2025-02-22 05:16:30,809] Trial 28 finished with value: 0.7384190373942803 and parameters: {'num_iterations': 1891, 'objective': 'binary', 'metric': 'auc', 'verbose': -1, 'learning_rate': 0.008852667065915495, 'n_estimators': 1018, 'min_child_samples': 50, 'subsample': 0.5, 'colsample_bytree': 0.6}. Best is trial 28 with value: 0.7384190373942803.\n",
      "[I 2025-02-22 05:16:45,316] Trial 29 finished with value: 0.7289383003380749 and parameters: {'num_iterations': 1885, 'objective': 'binary', 'metric': 'auc', 'verbose': -1, 'learning_rate': 0.07234407408474258, 'n_estimators': 1109, 'min_child_samples': 45, 'subsample': 0.6, 'colsample_bytree': 0.7}. Best is trial 28 with value: 0.7384190373942803.\n",
      "[I 2025-02-22 05:17:00,470] Trial 30 finished with value: 0.7369296929815603 and parameters: {'num_iterations': 1666, 'objective': 'binary', 'metric': 'auc', 'verbose': -1, 'learning_rate': 0.02375082343507093, 'n_estimators': 934, 'min_child_samples': 45, 'subsample': 0.7, 'colsample_bytree': 0.6}. Best is trial 28 with value: 0.7384190373942803.\n",
      "[I 2025-02-22 05:17:14,816] Trial 31 finished with value: 0.7252095389010093 and parameters: {'num_iterations': 1927, 'objective': 'binary', 'metric': 'auc', 'verbose': -1, 'learning_rate': 0.09560912769869405, 'n_estimators': 671, 'min_child_samples': 50, 'subsample': 0.5, 'colsample_bytree': 0.8}. Best is trial 28 with value: 0.7384190373942803.\n",
      "[I 2025-02-22 05:17:35,622] Trial 32 finished with value: 0.738072418735734 and parameters: {'num_iterations': 2212, 'objective': 'binary', 'metric': 'auc', 'verbose': -1, 'learning_rate': 0.009056072266698228, 'n_estimators': 384, 'min_child_samples': 50, 'subsample': 0.5, 'colsample_bytree': 0.6}. Best is trial 28 with value: 0.7384190373942803.\n",
      "[I 2025-02-22 05:17:55,591] Trial 33 finished with value: 0.7383020868531931 and parameters: {'num_iterations': 2379, 'objective': 'binary', 'metric': 'auc', 'verbose': -1, 'learning_rate': 0.005182602032536574, 'n_estimators': 1005, 'min_child_samples': 45, 'subsample': 0.5, 'colsample_bytree': 0.9}. Best is trial 28 with value: 0.7384190373942803.\n",
      "[I 2025-02-22 05:18:08,626] Trial 34 finished with value: 0.7383986032137685 and parameters: {'num_iterations': 1512, 'objective': 'binary', 'metric': 'auc', 'verbose': -1, 'learning_rate': 0.007097010799689733, 'n_estimators': 1321, 'min_child_samples': 50, 'subsample': 0.5, 'colsample_bytree': 0.8}. Best is trial 28 with value: 0.7384190373942803.\n",
      "[I 2025-02-22 05:18:22,233] Trial 35 finished with value: 0.7380770011384372 and parameters: {'num_iterations': 1594, 'objective': 'binary', 'metric': 'auc', 'verbose': -1, 'learning_rate': 0.006458667263908388, 'n_estimators': 1316, 'min_child_samples': 40, 'subsample': 0.6, 'colsample_bytree': 1.0}. Best is trial 28 with value: 0.7384190373942803.\n",
      "[I 2025-02-22 05:18:37,031] Trial 36 finished with value: 0.7383215799336696 and parameters: {'num_iterations': 1509, 'objective': 'binary', 'metric': 'auc', 'verbose': -1, 'learning_rate': 0.007435609186399533, 'n_estimators': 776, 'min_child_samples': 50, 'subsample': 0.5, 'colsample_bytree': 0.6}. Best is trial 28 with value: 0.7384190373942803.\n",
      "[I 2025-02-22 05:18:52,062] Trial 37 finished with value: 0.7383896012146973 and parameters: {'num_iterations': 1711, 'objective': 'binary', 'metric': 'auc', 'verbose': -1, 'learning_rate': 0.005847028729848749, 'n_estimators': 1188, 'min_child_samples': 45, 'subsample': 0.6, 'colsample_bytree': 0.7}. Best is trial 28 with value: 0.7384190373942803.\n",
      "[I 2025-02-22 05:19:14,269] Trial 38 finished with value: 0.738525584213459 and parameters: {'num_iterations': 2644, 'objective': 'binary', 'metric': 'auc', 'verbose': -1, 'learning_rate': 0.005723397784866532, 'n_estimators': 1203, 'min_child_samples': 45, 'subsample': 0.6, 'colsample_bytree': 0.7}. Best is trial 38 with value: 0.738525584213459.\n",
      "[I 2025-02-22 05:19:40,597] Trial 39 finished with value: 0.7383535932184125 and parameters: {'num_iterations': 2733, 'objective': 'binary', 'metric': 'auc', 'verbose': -1, 'learning_rate': 0.005024638606778792, 'n_estimators': 983, 'min_child_samples': 20, 'subsample': 0.7, 'colsample_bytree': 0.6}. Best is trial 38 with value: 0.738525584213459.\n"
     ]
    },
    {
     "name": "stdout",
     "output_type": "stream",
     "text": [
      "Cat val score : 0.7395888723887094\n",
      "LGBM val score : 0.7382905673122554\n",
      "Ensemble val score : 0.7394927491458703\n"
     ]
    },
    {
     "name": "stderr",
     "output_type": "stream",
     "text": [
      "[I 2025-02-22 05:20:04,725] A new study created in memory with name: no-name-51e17626-8a74-4e20-96a9-a92278db6000\n"
     ]
    },
    {
     "name": "stdout",
     "output_type": "stream",
     "text": [
      "==================================================\n",
      "0:\ttest: 0.7229403\tbest: 0.7229403 (0)\ttotal: 131ms\tremaining: 5m 10s\n",
      "300:\ttest: 0.7361889\tbest: 0.7361889 (300)\ttotal: 38.6s\tremaining: 4m 24s\n",
      "600:\ttest: 0.7378598\tbest: 0.7378598 (600)\ttotal: 1m 18s\tremaining: 3m 51s\n",
      "900:\ttest: 0.7383825\tbest: 0.7383837 (888)\ttotal: 1m 59s\tremaining: 3m 14s\n",
      "1200:\ttest: 0.7386644\tbest: 0.7386823 (1189)\ttotal: 2m 43s\tremaining: 2m 38s\n",
      "1500:\ttest: 0.7388129\tbest: 0.7388304 (1491)\ttotal: 3m 33s\tremaining: 2m 2s\n"
     ]
    },
    {
     "name": "stderr",
     "output_type": "stream",
     "text": [
      "[I 2025-02-22 05:24:26,630] Trial 0 finished with value: 0.738830385469174 and parameters: {'iterations': 2366, 'depth': 10, 'learning_rate': 0.01181021951839225, 'l2_leaf_reg': 9.980783802743254}. Best is trial 0 with value: 0.738830385469174.\n"
     ]
    },
    {
     "name": "stdout",
     "output_type": "stream",
     "text": [
      "Stopped by overfitting detector  (300 iterations wait)\n",
      "\n",
      "bestTest = 0.7388303855\n",
      "bestIteration = 1491\n",
      "\n",
      "Shrink model to first 1492 iterations.\n",
      "저장 완료\n",
      "0:\ttest: 0.6948811\tbest: 0.6948811 (0)\ttotal: 57.6ms\tremaining: 2m 6s\n",
      "300:\ttest: 0.7267726\tbest: 0.7267726 (300)\ttotal: 13.1s\tremaining: 1m 22s\n"
     ]
    },
    {
     "name": "stderr",
     "output_type": "stream",
     "text": [
      "Training has stopped (degenerate solution on iteration 312, probably too small l2-regularization, try to increase it)\n",
      "[I 2025-02-22 05:24:40,380] Trial 1 finished with value: 0.727160403536071 and parameters: {'iterations': 2193, 'depth': 4, 'learning_rate': 0.005671430811678843, 'l2_leaf_reg': 0.00012325230809466137}. Best is trial 0 with value: 0.738830385469174.\n"
     ]
    },
    {
     "name": "stdout",
     "output_type": "stream",
     "text": [
      "\n",
      "bestTest = 0.7271604035\n",
      "bestIteration = 311\n",
      "\n",
      "Shrink model to first 312 iterations.\n",
      "0:\ttest: 0.6948811\tbest: 0.6948811 (0)\ttotal: 55.6ms\tremaining: 2m 20s\n",
      "300:\ttest: 0.7381259\tbest: 0.7381259 (300)\ttotal: 14.3s\tremaining: 1m 46s\n",
      "600:\ttest: 0.7378947\tbest: 0.7385006 (396)\ttotal: 29s\tremaining: 1m 33s\n"
     ]
    },
    {
     "name": "stderr",
     "output_type": "stream",
     "text": [
      "[I 2025-02-22 05:25:14,332] Trial 2 finished with value: 0.7385006470479685 and parameters: {'iterations': 2535, 'depth': 4, 'learning_rate': 0.09275339199839054, 'l2_leaf_reg': 0.0008705394248343123}. Best is trial 0 with value: 0.738830385469174.\n"
     ]
    },
    {
     "name": "stdout",
     "output_type": "stream",
     "text": [
      "Stopped by overfitting detector  (300 iterations wait)\n",
      "\n",
      "bestTest = 0.738500647\n",
      "bestIteration = 396\n",
      "\n",
      "Shrink model to first 397 iterations.\n",
      "0:\ttest: 0.6948811\tbest: 0.6948811 (0)\ttotal: 55.4ms\tremaining: 2m 9s\n",
      "300:\ttest: 0.7368505\tbest: 0.7368614 (298)\ttotal: 13.9s\tremaining: 1m 33s\n",
      "600:\ttest: 0.7381444\tbest: 0.7381444 (600)\ttotal: 28.3s\tremaining: 1m 21s\n",
      "900:\ttest: 0.7383724\tbest: 0.7384316 (781)\ttotal: 43s\tremaining: 1m 8s\n"
     ]
    },
    {
     "name": "stderr",
     "output_type": "stream",
     "text": [
      "[I 2025-02-22 05:26:06,463] Trial 3 finished with value: 0.7384315933365225 and parameters: {'iterations': 2334, 'depth': 4, 'learning_rate': 0.04657568321363276, 'l2_leaf_reg': 0.0008640473331457248}. Best is trial 0 with value: 0.738830385469174.\n"
     ]
    },
    {
     "name": "stdout",
     "output_type": "stream",
     "text": [
      "Stopped by overfitting detector  (300 iterations wait)\n",
      "\n",
      "bestTest = 0.7384315933\n",
      "bestIteration = 781\n",
      "\n",
      "Shrink model to first 782 iterations.\n",
      "0:\ttest: 0.7228466\tbest: 0.7228466 (0)\ttotal: 130ms\tremaining: 3m 46s\n",
      "300:\ttest: 0.7354001\tbest: 0.7354001 (300)\ttotal: 37.8s\tremaining: 3m\n",
      "600:\ttest: 0.7364288\tbest: 0.7364439 (594)\ttotal: 1m 15s\tremaining: 2m 23s\n",
      "900:\ttest: 0.7365051\tbest: 0.7365153 (898)\ttotal: 1m 55s\tremaining: 1m 47s\n"
     ]
    },
    {
     "name": "stderr",
     "output_type": "stream",
     "text": [
      "[I 2025-02-22 05:28:44,779] Trial 4 finished with value: 0.7365152952660461 and parameters: {'iterations': 1742, 'depth': 10, 'learning_rate': 0.012622767482095846, 'l2_leaf_reg': 0.00021158816350109617}. Best is trial 0 with value: 0.738830385469174.\n"
     ]
    },
    {
     "name": "stdout",
     "output_type": "stream",
     "text": [
      "Stopped by overfitting detector  (300 iterations wait)\n",
      "\n",
      "bestTest = 0.7365152953\n",
      "bestIteration = 898\n",
      "\n",
      "Shrink model to first 899 iterations.\n",
      "0:\ttest: 0.6948811\tbest: 0.6948811 (0)\ttotal: 52.9ms\tremaining: 1m 50s\n",
      "300:\ttest: 0.7379054\tbest: 0.7379054 (300)\ttotal: 14.1s\tremaining: 1m 23s\n",
      "600:\ttest: 0.7385746\tbest: 0.7387123 (588)\ttotal: 28.8s\tremaining: 1m 11s\n"
     ]
    },
    {
     "name": "stderr",
     "output_type": "stream",
     "text": [
      "[I 2025-02-22 05:29:28,089] Trial 5 finished with value: 0.7387122754293092 and parameters: {'iterations': 2082, 'depth': 4, 'learning_rate': 0.06995196593094148, 'l2_leaf_reg': 0.0018080296485396804}. Best is trial 0 with value: 0.738830385469174.\n"
     ]
    },
    {
     "name": "stdout",
     "output_type": "stream",
     "text": [
      "Stopped by overfitting detector  (300 iterations wait)\n",
      "\n",
      "bestTest = 0.7387122754\n",
      "bestIteration = 588\n",
      "\n",
      "Shrink model to first 589 iterations.\n",
      "0:\ttest: 0.6979852\tbest: 0.6979852 (0)\ttotal: 62.6ms\tremaining: 2m 4s\n",
      "300:\ttest: 0.7381322\tbest: 0.7381332 (299)\ttotal: 17.5s\tremaining: 1m 38s\n",
      "600:\ttest: 0.7388140\tbest: 0.7388140 (600)\ttotal: 35.4s\tremaining: 1m 22s\n",
      "900:\ttest: 0.7388923\tbest: 0.7389218 (848)\ttotal: 53.5s\tremaining: 1m 5s\n",
      "1200:\ttest: 0.7388877\tbest: 0.7389366 (1127)\ttotal: 1m 11s\tremaining: 47.7s\n"
     ]
    },
    {
     "name": "stderr",
     "output_type": "stream",
     "text": [
      "[I 2025-02-22 05:30:54,027] Trial 6 finished with value: 0.7389365629959339 and parameters: {'iterations': 1997, 'depth': 5, 'learning_rate': 0.07985155992831598, 'l2_leaf_reg': 62.52181000710482}. Best is trial 6 with value: 0.7389365629959339.\n"
     ]
    },
    {
     "name": "stdout",
     "output_type": "stream",
     "text": [
      "Stopped by overfitting detector  (300 iterations wait)\n",
      "\n",
      "bestTest = 0.738936563\n",
      "bestIteration = 1127\n",
      "\n",
      "Shrink model to first 1128 iterations.\n",
      "저장 완료\n",
      "0:\ttest: 0.7169161\tbest: 0.7169161 (0)\ttotal: 84.4ms\tremaining: 2m 42s\n",
      "300:\ttest: 0.7375938\tbest: 0.7378516 (240)\ttotal: 24.1s\tremaining: 2m 9s\n"
     ]
    },
    {
     "name": "stderr",
     "output_type": "stream",
     "text": [
      "[I 2025-02-22 05:31:38,548] Trial 7 finished with value: 0.7378516136363282 and parameters: {'iterations': 1927, 'depth': 7, 'learning_rate': 0.0941937211034094, 'l2_leaf_reg': 0.05654822767791934}. Best is trial 6 with value: 0.7389365629959339.\n"
     ]
    },
    {
     "name": "stdout",
     "output_type": "stream",
     "text": [
      "Stopped by overfitting detector  (300 iterations wait)\n",
      "\n",
      "bestTest = 0.7378516136\n",
      "bestIteration = 240\n",
      "\n",
      "Shrink model to first 241 iterations.\n",
      "0:\ttest: 0.7169300\tbest: 0.7169300 (0)\ttotal: 87.9ms\tremaining: 2m 47s\n",
      "300:\ttest: 0.7380227\tbest: 0.7380483 (297)\ttotal: 23s\tremaining: 2m 2s\n",
      "600:\ttest: 0.7384953\tbest: 0.7385795 (509)\ttotal: 47.9s\tremaining: 1m 43s\n",
      "900:\ttest: 0.7384678\tbest: 0.7386459 (801)\ttotal: 1m 12s\tremaining: 1m 21s\n"
     ]
    },
    {
     "name": "stderr",
     "output_type": "stream",
     "text": [
      "[I 2025-02-22 05:33:08,941] Trial 8 finished with value: 0.7386459497166995 and parameters: {'iterations': 1904, 'depth': 7, 'learning_rate': 0.05155602859187331, 'l2_leaf_reg': 1.299974533316308}. Best is trial 6 with value: 0.7389365629959339.\n"
     ]
    },
    {
     "name": "stdout",
     "output_type": "stream",
     "text": [
      "Stopped by overfitting detector  (300 iterations wait)\n",
      "\n",
      "bestTest = 0.7386459497\n",
      "bestIteration = 801\n",
      "\n",
      "Shrink model to first 802 iterations.\n",
      "0:\ttest: 0.7053663\tbest: 0.7053663 (0)\ttotal: 74.1ms\tremaining: 3m 15s\n",
      "300:\ttest: 0.7377516\tbest: 0.7377516 (300)\ttotal: 19.6s\tremaining: 2m 32s\n",
      "600:\ttest: 0.7387105\tbest: 0.7387213 (583)\ttotal: 41.2s\tremaining: 2m 19s\n",
      "900:\ttest: 0.7387825\tbest: 0.7388481 (831)\ttotal: 1m 2s\tremaining: 2m 1s\n",
      "1200:\ttest: 0.7388100\tbest: 0.7388842 (961)\ttotal: 1m 24s\tremaining: 1m 41s\n"
     ]
    },
    {
     "name": "stderr",
     "output_type": "stream",
     "text": [
      "[I 2025-02-22 05:34:38,143] Trial 9 finished with value: 0.7388841750939725 and parameters: {'iterations': 2639, 'depth': 6, 'learning_rate': 0.03968704290444751, 'l2_leaf_reg': 0.30557194377967184}. Best is trial 6 with value: 0.7389365629959339.\n"
     ]
    },
    {
     "name": "stdout",
     "output_type": "stream",
     "text": [
      "Stopped by overfitting detector  (300 iterations wait)\n",
      "\n",
      "bestTest = 0.7388841751\n",
      "bestIteration = 961\n",
      "\n",
      "Shrink model to first 962 iterations.\n",
      "0:\ttest: 0.7054160\tbest: 0.7054160 (0)\ttotal: 72.1ms\tremaining: 3m 32s\n",
      "300:\ttest: 0.7383706\tbest: 0.7383839 (297)\ttotal: 20.3s\tremaining: 2m 58s\n",
      "600:\ttest: 0.7386718\tbest: 0.7386718 (600)\ttotal: 41.3s\tremaining: 2m 41s\n",
      "900:\ttest: 0.7388594\tbest: 0.7388815 (880)\ttotal: 1m 2s\tremaining: 2m 22s\n",
      "1200:\ttest: 0.7389550\tbest: 0.7390471 (1145)\ttotal: 1m 24s\tremaining: 2m 2s\n"
     ]
    },
    {
     "name": "stderr",
     "output_type": "stream",
     "text": [
      "[I 2025-02-22 05:36:19,855] Trial 10 finished with value: 0.7390470648177924 and parameters: {'iterations': 2945, 'depth': 6, 'learning_rate': 0.07265276039199581, 'l2_leaf_reg': 97.18545559492516}. Best is trial 10 with value: 0.7390470648177924.\n"
     ]
    },
    {
     "name": "stdout",
     "output_type": "stream",
     "text": [
      "Stopped by overfitting detector  (300 iterations wait)\n",
      "\n",
      "bestTest = 0.7390470648\n",
      "bestIteration = 1145\n",
      "\n",
      "Shrink model to first 1146 iterations.\n",
      "저장 완료\n",
      "0:\ttest: 0.7054488\tbest: 0.7054488 (0)\ttotal: 71.5ms\tremaining: 3m 34s\n",
      "300:\ttest: 0.7386451\tbest: 0.7386451 (300)\ttotal: 20.2s\tremaining: 3m\n",
      "600:\ttest: 0.7390108\tbest: 0.7390386 (493)\ttotal: 41.3s\tremaining: 2m 44s\n",
      "900:\ttest: 0.7391526\tbest: 0.7391821 (781)\ttotal: 1m 2s\tremaining: 2m 26s\n",
      "1200:\ttest: 0.7391904\tbest: 0.7392193 (1195)\ttotal: 1m 24s\tremaining: 2m 6s\n",
      "1500:\ttest: 0.7392165\tbest: 0.7392750 (1279)\ttotal: 1m 45s\tremaining: 1m 45s\n"
     ]
    },
    {
     "name": "stderr",
     "output_type": "stream",
     "text": [
      "[I 2025-02-22 05:38:11,881] Trial 11 finished with value: 0.7392749579491091 and parameters: {'iterations': 2994, 'depth': 6, 'learning_rate': 0.07131044509072976, 'l2_leaf_reg': 73.1213351392818}. Best is trial 11 with value: 0.7392749579491091.\n"
     ]
    },
    {
     "name": "stdout",
     "output_type": "stream",
     "text": [
      "Stopped by overfitting detector  (300 iterations wait)\n",
      "\n",
      "bestTest = 0.7392749579\n",
      "bestIteration = 1279\n",
      "\n",
      "Shrink model to first 1280 iterations.\n",
      "저장 완료\n",
      "0:\ttest: 0.7054476\tbest: 0.7054476 (0)\ttotal: 75.8ms\tremaining: 3m 39s\n",
      "300:\ttest: 0.7381084\tbest: 0.7381089 (299)\ttotal: 20s\tremaining: 2m 52s\n",
      "600:\ttest: 0.7386693\tbest: 0.7386693 (599)\ttotal: 41.1s\tremaining: 2m 37s\n",
      "900:\ttest: 0.7386378\tbest: 0.7387173 (673)\ttotal: 1m 2s\tremaining: 2m 18s\n"
     ]
    },
    {
     "name": "stderr",
     "output_type": "stream",
     "text": [
      "[I 2025-02-22 05:39:19,980] Trial 12 finished with value: 0.7387173343383593 and parameters: {'iterations': 2897, 'depth': 6, 'learning_rate': 0.06853332055535903, 'l2_leaf_reg': 87.13438924619796}. Best is trial 11 with value: 0.7392749579491091.\n"
     ]
    },
    {
     "name": "stdout",
     "output_type": "stream",
     "text": [
      "Stopped by overfitting detector  (300 iterations wait)\n",
      "\n",
      "bestTest = 0.7387173343\n",
      "bestIteration = 673\n",
      "\n",
      "Shrink model to first 674 iterations.\n",
      "0:\ttest: 0.7171157\tbest: 0.7171157 (0)\ttotal: 92.2ms\tremaining: 4m 34s\n",
      "300:\ttest: 0.7385443\tbest: 0.7385443 (300)\ttotal: 26.8s\tremaining: 3m 58s\n",
      "600:\ttest: 0.7381801\tbest: 0.7385585 (334)\ttotal: 55.5s\tremaining: 3m 39s\n"
     ]
    },
    {
     "name": "stderr",
     "output_type": "stream",
     "text": [
      "[I 2025-02-22 05:40:18,852] Trial 13 finished with value: 0.7385584909476024 and parameters: {'iterations': 2975, 'depth': 8, 'learning_rate': 0.06703158786644411, 'l2_leaf_reg': 7.828901342687942}. Best is trial 11 with value: 0.7392749579491091.\n"
     ]
    },
    {
     "name": "stdout",
     "output_type": "stream",
     "text": [
      "Stopped by overfitting detector  (300 iterations wait)\n",
      "\n",
      "bestTest = 0.7385584909\n",
      "bestIteration = 334\n",
      "\n",
      "Shrink model to first 335 iterations.\n",
      "0:\ttest: 0.7171152\tbest: 0.7171152 (0)\ttotal: 94.1ms\tremaining: 4m 19s\n",
      "300:\ttest: 0.7376480\tbest: 0.7376483 (297)\ttotal: 25.2s\tremaining: 3m 25s\n",
      "600:\ttest: 0.7384041\tbest: 0.7384342 (559)\ttotal: 52.9s\tremaining: 3m 9s\n",
      "900:\ttest: 0.7384751\tbest: 0.7385776 (789)\ttotal: 1m 21s\tremaining: 2m 48s\n"
     ]
    },
    {
     "name": "stderr",
     "output_type": "stream",
     "text": [
      "[I 2025-02-22 05:41:59,255] Trial 14 finished with value: 0.7385775631141392 and parameters: {'iterations': 2754, 'depth': 8, 'learning_rate': 0.03173133903351067, 'l2_leaf_reg': 7.067045463613257}. Best is trial 11 with value: 0.7392749579491091.\n"
     ]
    },
    {
     "name": "stdout",
     "output_type": "stream",
     "text": [
      "Stopped by overfitting detector  (300 iterations wait)\n",
      "\n",
      "bestTest = 0.7385775631\n",
      "bestIteration = 789\n",
      "\n",
      "Shrink model to first 790 iterations.\n",
      "0:\ttest: 0.7053663\tbest: 0.7053663 (0)\ttotal: 73.3ms\tremaining: 1m 50s\n",
      "300:\ttest: 0.7379481\tbest: 0.7379481 (300)\ttotal: 20.6s\tremaining: 1m 22s\n",
      "600:\ttest: 0.7380070\tbest: 0.7381431 (515)\ttotal: 42.4s\tremaining: 1m 4s\n"
     ]
    },
    {
     "name": "stderr",
     "output_type": "stream",
     "text": [
      "[I 2025-02-22 05:42:57,613] Trial 15 finished with value: 0.7381430925687597 and parameters: {'iterations': 1513, 'depth': 6, 'learning_rate': 0.07847702826450467, 'l2_leaf_reg': 0.026986971696484528}. Best is trial 11 with value: 0.7392749579491091.\n"
     ]
    },
    {
     "name": "stdout",
     "output_type": "stream",
     "text": [
      "Stopped by overfitting detector  (300 iterations wait)\n",
      "\n",
      "bestTest = 0.7381430926\n",
      "bestIteration = 515\n",
      "\n",
      "Shrink model to first 516 iterations.\n",
      "0:\ttest: 0.7171381\tbest: 0.7171381 (0)\ttotal: 92.4ms\tremaining: 4m 17s\n",
      "300:\ttest: 0.7382944\tbest: 0.7383381 (288)\ttotal: 26.3s\tremaining: 3m 37s\n",
      "600:\ttest: 0.7381533\tbest: 0.7383888 (524)\ttotal: 55.4s\tremaining: 3m 21s\n"
     ]
    },
    {
     "name": "stderr",
     "output_type": "stream",
     "text": [
      "[I 2025-02-22 05:44:14,915] Trial 16 finished with value: 0.738388783212135 and parameters: {'iterations': 2788, 'depth': 8, 'learning_rate': 0.06054549172243656, 'l2_leaf_reg': 0.8358313275560093}. Best is trial 11 with value: 0.7392749579491091.\n"
     ]
    },
    {
     "name": "stdout",
     "output_type": "stream",
     "text": [
      "Stopped by overfitting detector  (300 iterations wait)\n",
      "\n",
      "bestTest = 0.7383887832\n",
      "bestIteration = 524\n",
      "\n",
      "Shrink model to first 525 iterations.\n",
      "0:\ttest: 0.6979766\tbest: 0.6979766 (0)\ttotal: 63.7ms\tremaining: 3m 11s\n",
      "300:\ttest: 0.7382614\tbest: 0.7382709 (297)\ttotal: 17.7s\tremaining: 2m 38s\n",
      "600:\ttest: 0.7387709\tbest: 0.7387826 (590)\ttotal: 35.9s\tremaining: 2m 23s\n",
      "900:\ttest: 0.7386153\tbest: 0.7387881 (684)\ttotal: 54.1s\tremaining: 2m 6s\n"
     ]
    },
    {
     "name": "stderr",
     "output_type": "stream",
     "text": [
      "[I 2025-02-22 05:45:14,453] Trial 17 finished with value: 0.7387881431815166 and parameters: {'iterations': 2999, 'depth': 5, 'learning_rate': 0.0793026456501316, 'l2_leaf_reg': 17.971321588436567}. Best is trial 11 with value: 0.7392749579491091.\n"
     ]
    },
    {
     "name": "stdout",
     "output_type": "stream",
     "text": [
      "Stopped by overfitting detector  (300 iterations wait)\n",
      "\n",
      "bestTest = 0.7387881432\n",
      "bestIteration = 684\n",
      "\n",
      "Shrink model to first 685 iterations.\n",
      "0:\ttest: 0.7169046\tbest: 0.7169046 (0)\ttotal: 84.4ms\tremaining: 3m 29s\n",
      "300:\ttest: 0.7374682\tbest: 0.7383353 (195)\ttotal: 24.2s\tremaining: 2m 55s\n"
     ]
    },
    {
     "name": "stderr",
     "output_type": "stream",
     "text": [
      "[I 2025-02-22 05:45:55,043] Trial 18 finished with value: 0.7383353033164619 and parameters: {'iterations': 2482, 'depth': 7, 'learning_rate': 0.08692110303007522, 'l2_leaf_reg': 0.010016909578442512}. Best is trial 11 with value: 0.7392749579491091.\n"
     ]
    },
    {
     "name": "stdout",
     "output_type": "stream",
     "text": [
      "Stopped by overfitting detector  (300 iterations wait)\n",
      "\n",
      "bestTest = 0.7383353033\n",
      "bestIteration = 195\n",
      "\n",
      "Shrink model to first 196 iterations.\n",
      "0:\ttest: 0.6979556\tbest: 0.6979556 (0)\ttotal: 62.9ms\tremaining: 2m 54s\n",
      "300:\ttest: 0.7378047\tbest: 0.7378047 (300)\ttotal: 17.5s\tremaining: 2m 23s\n",
      "600:\ttest: 0.7386472\tbest: 0.7386472 (600)\ttotal: 35.6s\tremaining: 2m 8s\n",
      "900:\ttest: 0.7387159\tbest: 0.7387871 (694)\ttotal: 53.8s\tremaining: 1m 51s\n"
     ]
    },
    {
     "name": "stderr",
     "output_type": "stream",
     "text": [
      "[I 2025-02-22 05:46:54,830] Trial 19 finished with value: 0.7387870591295773 and parameters: {'iterations': 2774, 'depth': 5, 'learning_rate': 0.057652207127723315, 'l2_leaf_reg': 2.276175005448344}. Best is trial 11 with value: 0.7392749579491091.\n"
     ]
    },
    {
     "name": "stdout",
     "output_type": "stream",
     "text": [
      "Stopped by overfitting detector  (300 iterations wait)\n",
      "\n",
      "bestTest = 0.7387870591\n",
      "bestIteration = 694\n",
      "\n",
      "Shrink model to first 695 iterations.\n",
      "0:\ttest: 0.7054348\tbest: 0.7054348 (0)\ttotal: 74.4ms\tremaining: 3m 19s\n",
      "300:\ttest: 0.7369580\tbest: 0.7369580 (300)\ttotal: 19.3s\tremaining: 2m 32s\n",
      "600:\ttest: 0.7382218\tbest: 0.7382296 (596)\ttotal: 39.5s\tremaining: 2m 16s\n",
      "900:\ttest: 0.7386405\tbest: 0.7386405 (900)\ttotal: 1m\tremaining: 2m\n",
      "1200:\ttest: 0.7389387\tbest: 0.7389486 (1190)\ttotal: 1m 22s\tremaining: 1m 41s\n",
      "1500:\ttest: 0.7390059\tbest: 0.7390227 (1486)\ttotal: 1m 43s\tremaining: 1m 21s\n",
      "1800:\ttest: 0.7391091\tbest: 0.7391134 (1781)\ttotal: 2m 5s\tremaining: 1m 1s\n",
      "2100:\ttest: 0.7391221\tbest: 0.7391244 (2093)\ttotal: 2m 26s\tremaining: 40.4s\n"
     ]
    },
    {
     "name": "stderr",
     "output_type": "stream",
     "text": [
      "[I 2025-02-22 05:49:44,141] Trial 20 finished with value: 0.7391271258258529 and parameters: {'iterations': 2680, 'depth': 6, 'learning_rate': 0.02650893197855826, 'l2_leaf_reg': 35.32323178547584}. Best is trial 11 with value: 0.7392749579491091.\n"
     ]
    },
    {
     "name": "stdout",
     "output_type": "stream",
     "text": [
      "2400:\ttest: 0.7391008\tbest: 0.7391271 (2101)\ttotal: 2m 48s\tremaining: 19.6s\n",
      "Stopped by overfitting detector  (300 iterations wait)\n",
      "\n",
      "bestTest = 0.7391271258\n",
      "bestIteration = 2101\n",
      "\n",
      "Shrink model to first 2102 iterations.\n",
      "0:\ttest: 0.7054348\tbest: 0.7054348 (0)\ttotal: 71ms\tremaining: 3m 8s\n",
      "300:\ttest: 0.7371944\tbest: 0.7371960 (299)\ttotal: 20.3s\tremaining: 2m 38s\n",
      "600:\ttest: 0.7383284\tbest: 0.7383284 (600)\ttotal: 40.8s\tremaining: 2m 19s\n",
      "900:\ttest: 0.7388338\tbest: 0.7388338 (900)\ttotal: 1m 1s\tremaining: 2m\n",
      "1200:\ttest: 0.7390245\tbest: 0.7390265 (1198)\ttotal: 1m 23s\tremaining: 1m 41s\n",
      "1500:\ttest: 0.7389857\tbest: 0.7390541 (1284)\ttotal: 1m 44s\tremaining: 1m 20s\n"
     ]
    },
    {
     "name": "stderr",
     "output_type": "stream",
     "text": [
      "[I 2025-02-22 05:51:35,212] Trial 21 finished with value: 0.7390541369661584 and parameters: {'iterations': 2660, 'depth': 6, 'learning_rate': 0.028974090854760496, 'l2_leaf_reg': 33.894253733241094}. Best is trial 11 with value: 0.7392749579491091.\n"
     ]
    },
    {
     "name": "stdout",
     "output_type": "stream",
     "text": [
      "Stopped by overfitting detector  (300 iterations wait)\n",
      "\n",
      "bestTest = 0.739054137\n",
      "bestIteration = 1284\n",
      "\n",
      "Shrink model to first 1285 iterations.\n",
      "0:\ttest: 0.7169511\tbest: 0.7169511 (0)\ttotal: 86.6ms\tremaining: 3m 48s\n",
      "300:\ttest: 0.7372773\tbest: 0.7372808 (294)\ttotal: 22.8s\tremaining: 2m 56s\n",
      "600:\ttest: 0.7383620\tbest: 0.7383635 (598)\ttotal: 45.9s\tremaining: 2m 35s\n",
      "900:\ttest: 0.7388694\tbest: 0.7388694 (900)\ttotal: 1m 11s\tremaining: 2m 17s\n",
      "1200:\ttest: 0.7390257\tbest: 0.7390333 (1171)\ttotal: 1m 36s\tremaining: 1m 55s\n",
      "1500:\ttest: 0.7390610\tbest: 0.7391199 (1343)\ttotal: 2m 1s\tremaining: 1m 32s\n"
     ]
    },
    {
     "name": "stderr",
     "output_type": "stream",
     "text": [
      "[I 2025-02-22 05:53:48,894] Trial 22 finished with value: 0.7391199186673554 and parameters: {'iterations': 2638, 'depth': 7, 'learning_rate': 0.026057083102591225, 'l2_leaf_reg': 24.57357890684698}. Best is trial 11 with value: 0.7392749579491091.\n"
     ]
    },
    {
     "name": "stdout",
     "output_type": "stream",
     "text": [
      "Stopped by overfitting detector  (300 iterations wait)\n",
      "\n",
      "bestTest = 0.7391199187\n",
      "bestIteration = 1343\n",
      "\n",
      "Shrink model to first 1344 iterations.\n",
      "0:\ttest: 0.7208508\tbest: 0.7208508 (0)\ttotal: 110ms\tremaining: 4m 38s\n",
      "300:\ttest: 0.7371713\tbest: 0.7371713 (300)\ttotal: 28.5s\tremaining: 3m 30s\n",
      "600:\ttest: 0.7380710\tbest: 0.7381131 (578)\ttotal: 58.1s\tremaining: 3m 6s\n",
      "900:\ttest: 0.7383384\tbest: 0.7383869 (822)\ttotal: 1m 31s\tremaining: 2m 44s\n"
     ]
    },
    {
     "name": "stderr",
     "output_type": "stream",
     "text": [
      "[I 2025-02-22 05:55:45,216] Trial 23 finished with value: 0.738386857332316 and parameters: {'iterations': 2525, 'depth': 9, 'learning_rate': 0.024068384627610958, 'l2_leaf_reg': 3.4285883150965986}. Best is trial 11 with value: 0.7392749579491091.\n"
     ]
    },
    {
     "name": "stdout",
     "output_type": "stream",
     "text": [
      "Stopped by overfitting detector  (300 iterations wait)\n",
      "\n",
      "bestTest = 0.7383868573\n",
      "bestIteration = 822\n",
      "\n",
      "Shrink model to first 823 iterations.\n",
      "0:\ttest: 0.7169284\tbest: 0.7169284 (0)\ttotal: 87.6ms\tremaining: 3m 53s\n",
      "300:\ttest: 0.7365933\tbest: 0.7365933 (300)\ttotal: 21.9s\tremaining: 2m 52s\n",
      "600:\ttest: 0.7378477\tbest: 0.7378477 (600)\ttotal: 44.8s\tremaining: 2m 33s\n",
      "900:\ttest: 0.7383523\tbest: 0.7383755 (808)\ttotal: 1m 9s\tremaining: 2m 16s\n",
      "1200:\ttest: 0.7385703\tbest: 0.7385961 (1052)\ttotal: 1m 34s\tremaining: 1m 55s\n"
     ]
    },
    {
     "name": "stderr",
     "output_type": "stream",
     "text": [
      "[I 2025-02-22 05:57:33,224] Trial 24 finished with value: 0.7385960714148322 and parameters: {'iterations': 2663, 'depth': 7, 'learning_rate': 0.020074307522457792, 'l2_leaf_reg': 0.37204013368740174}. Best is trial 11 with value: 0.7392749579491091.\n"
     ]
    },
    {
     "name": "stdout",
     "output_type": "stream",
     "text": [
      "Stopped by overfitting detector  (300 iterations wait)\n",
      "\n",
      "bestTest = 0.7385960714\n",
      "bestIteration = 1052\n",
      "\n",
      "Shrink model to first 1053 iterations.\n",
      "0:\ttest: 0.6979766\tbest: 0.6979766 (0)\ttotal: 64.3ms\tremaining: 3m 3s\n",
      "300:\ttest: 0.7368463\tbest: 0.7368463 (300)\ttotal: 16.8s\tremaining: 2m 22s\n",
      "600:\ttest: 0.7382380\tbest: 0.7382380 (600)\ttotal: 34.4s\tremaining: 2m 8s\n",
      "900:\ttest: 0.7386841\tbest: 0.7387018 (891)\ttotal: 52.4s\tremaining: 1m 53s\n",
      "1200:\ttest: 0.7388928\tbest: 0.7388962 (1182)\ttotal: 1m 10s\tremaining: 1m 37s\n",
      "1500:\ttest: 0.7390247\tbest: 0.7390247 (1499)\ttotal: 1m 28s\tremaining: 1m 20s\n",
      "1800:\ttest: 0.7389862\tbest: 0.7390394 (1612)\ttotal: 1m 47s\tremaining: 1m 2s\n"
     ]
    },
    {
     "name": "stderr",
     "output_type": "stream",
     "text": [
      "[I 2025-02-22 05:59:27,492] Trial 25 finished with value: 0.7390393930656065 and parameters: {'iterations': 2853, 'depth': 5, 'learning_rate': 0.03326960029531885, 'l2_leaf_reg': 21.902960777265868}. Best is trial 11 with value: 0.7392749579491091.\n"
     ]
    },
    {
     "name": "stdout",
     "output_type": "stream",
     "text": [
      "Stopped by overfitting detector  (300 iterations wait)\n",
      "\n",
      "bestTest = 0.7390393931\n",
      "bestIteration = 1612\n",
      "\n",
      "Shrink model to first 1613 iterations.\n",
      "0:\ttest: 0.7169441\tbest: 0.7169441 (0)\ttotal: 83.5ms\tremaining: 3m 23s\n",
      "300:\ttest: 0.7378829\tbest: 0.7378861 (297)\ttotal: 22.6s\tremaining: 2m 40s\n",
      "600:\ttest: 0.7386298\tbest: 0.7386298 (600)\ttotal: 47.4s\tremaining: 2m 25s\n",
      "900:\ttest: 0.7387873\tbest: 0.7388767 (826)\ttotal: 1m 12s\tremaining: 2m 3s\n",
      "1200:\ttest: 0.7388242\tbest: 0.7389025 (1040)\ttotal: 1m 36s\tremaining: 1m 40s\n"
     ]
    },
    {
     "name": "stderr",
     "output_type": "stream",
     "text": [
      "[I 2025-02-22 06:01:16,358] Trial 26 finished with value: 0.7389025126465578 and parameters: {'iterations': 2442, 'depth': 7, 'learning_rate': 0.04286594603846035, 'l2_leaf_reg': 31.995217576802414}. Best is trial 11 with value: 0.7392749579491091.\n"
     ]
    },
    {
     "name": "stdout",
     "output_type": "stream",
     "text": [
      "Stopped by overfitting detector  (300 iterations wait)\n",
      "\n",
      "bestTest = 0.7389025126\n",
      "bestIteration = 1040\n",
      "\n",
      "Shrink model to first 1041 iterations.\n",
      "0:\ttest: 0.7171161\tbest: 0.7171161 (0)\ttotal: 99.9ms\tremaining: 4m 21s\n",
      "300:\ttest: 0.7369041\tbest: 0.7369041 (300)\ttotal: 24.6s\tremaining: 3m 8s\n",
      "600:\ttest: 0.7379903\tbest: 0.7379903 (600)\ttotal: 50.8s\tremaining: 2m 50s\n",
      "900:\ttest: 0.7385825\tbest: 0.7385848 (896)\ttotal: 1m 19s\tremaining: 2m 31s\n",
      "1200:\ttest: 0.7385156\tbest: 0.7385899 (1127)\ttotal: 1m 48s\tremaining: 2m 8s\n"
     ]
    },
    {
     "name": "stderr",
     "output_type": "stream",
     "text": [
      "[I 2025-02-22 06:03:27,612] Trial 27 finished with value: 0.738589916541184 and parameters: {'iterations': 2614, 'depth': 8, 'learning_rate': 0.021038565601864876, 'l2_leaf_reg': 3.2696655861000057}. Best is trial 11 with value: 0.7392749579491091.\n"
     ]
    },
    {
     "name": "stdout",
     "output_type": "stream",
     "text": [
      "Stopped by overfitting detector  (300 iterations wait)\n",
      "\n",
      "bestTest = 0.7385899165\n",
      "bestIteration = 1127\n",
      "\n",
      "Shrink model to first 1128 iterations.\n",
      "0:\ttest: 0.7208369\tbest: 0.7208369 (0)\ttotal: 109ms\tremaining: 4m 6s\n",
      "300:\ttest: 0.7378641\tbest: 0.7378880 (297)\ttotal: 28.4s\tremaining: 3m 4s\n",
      "600:\ttest: 0.7376532\tbest: 0.7381494 (351)\ttotal: 1m 1s\tremaining: 2m 49s\n"
     ]
    },
    {
     "name": "stderr",
     "output_type": "stream",
     "text": [
      "[I 2025-02-22 06:04:34,910] Trial 28 finished with value: 0.7381494062778567 and parameters: {'iterations': 2255, 'depth': 9, 'learning_rate': 0.03787792885826816, 'l2_leaf_reg': 0.1887190167186313}. Best is trial 11 with value: 0.7392749579491091.\n"
     ]
    },
    {
     "name": "stdout",
     "output_type": "stream",
     "text": [
      "Stopped by overfitting detector  (300 iterations wait)\n",
      "\n",
      "bestTest = 0.7381494063\n",
      "bestIteration = 351\n",
      "\n",
      "Shrink model to first 352 iterations.\n",
      "0:\ttest: 0.7053812\tbest: 0.7053812 (0)\ttotal: 72ms\tremaining: 2m 49s\n",
      "300:\ttest: 0.7351434\tbest: 0.7351434 (300)\ttotal: 18.8s\tremaining: 2m 8s\n",
      "600:\ttest: 0.7369567\tbest: 0.7369573 (598)\ttotal: 38.3s\tremaining: 1m 52s\n",
      "900:\ttest: 0.7378005\tbest: 0.7378005 (900)\ttotal: 58.7s\tremaining: 1m 35s\n",
      "1200:\ttest: 0.7382493\tbest: 0.7382493 (1200)\ttotal: 1m 20s\tremaining: 1m 17s\n",
      "1500:\ttest: 0.7385784\tbest: 0.7385784 (1499)\ttotal: 1m 41s\tremaining: 58.2s\n",
      "1800:\ttest: 0.7387471\tbest: 0.7387479 (1796)\ttotal: 2m 3s\tremaining: 38.3s\n",
      "2100:\ttest: 0.7388538\tbest: 0.7388597 (2090)\ttotal: 2m 24s\tremaining: 17.9s\n"
     ]
    },
    {
     "name": "stderr",
     "output_type": "stream",
     "text": [
      "[I 2025-02-22 06:07:18,894] Trial 29 finished with value: 0.7389712963377406 and parameters: {'iterations': 2360, 'depth': 6, 'learning_rate': 0.014024355926696899, 'l2_leaf_reg': 10.209875448574312}. Best is trial 11 with value: 0.7392749579491091.\n"
     ]
    },
    {
     "name": "stdout",
     "output_type": "stream",
     "text": [
      "2359:\ttest: 0.7389713\tbest: 0.7389713 (2359)\ttotal: 2m 43s\tremaining: 0us\n",
      "\n",
      "bestTest = 0.7389712963\n",
      "bestIteration = 2359\n",
      "\n",
      "0:\ttest: 0.6979756\tbest: 0.6979756 (0)\ttotal: 60.7ms\tremaining: 2m 52s\n",
      "300:\ttest: 0.7377857\tbest: 0.7377955 (299)\ttotal: 17.2s\tremaining: 2m 25s\n",
      "600:\ttest: 0.7385875\tbest: 0.7386011 (564)\ttotal: 35.4s\tremaining: 2m 11s\n",
      "900:\ttest: 0.7387427\tbest: 0.7388020 (750)\ttotal: 53.4s\tremaining: 1m 54s\n",
      "1200:\ttest: 0.7387751\tbest: 0.7388337 (978)\ttotal: 1m 11s\tremaining: 1m 37s\n"
     ]
    },
    {
     "name": "stderr",
     "output_type": "stream",
     "text": [
      "[I 2025-02-22 06:08:35,846] Trial 30 finished with value: 0.7388337130718303 and parameters: {'iterations': 2836, 'depth': 5, 'learning_rate': 0.049773151023426956, 'l2_leaf_reg': 13.852723006555737}. Best is trial 11 with value: 0.7392749579491091.\n"
     ]
    },
    {
     "name": "stdout",
     "output_type": "stream",
     "text": [
      "Stopped by overfitting detector  (300 iterations wait)\n",
      "\n",
      "bestTest = 0.7388337131\n",
      "bestIteration = 978\n",
      "\n",
      "Shrink model to first 979 iterations.\n",
      "0:\ttest: 0.7054636\tbest: 0.7054636 (0)\ttotal: 73.3ms\tremaining: 3m 18s\n",
      "300:\ttest: 0.7368511\tbest: 0.7368511 (300)\ttotal: 19.2s\tremaining: 2m 33s\n",
      "600:\ttest: 0.7381533\tbest: 0.7381533 (600)\ttotal: 39.4s\tremaining: 2m 18s\n",
      "900:\ttest: 0.7386268\tbest: 0.7386268 (900)\ttotal: 1m\tremaining: 2m 1s\n",
      "1200:\ttest: 0.7389188\tbest: 0.7389364 (1186)\ttotal: 1m 22s\tremaining: 1m 43s\n",
      "1500:\ttest: 0.7390657\tbest: 0.7390711 (1497)\ttotal: 1m 43s\tremaining: 1m 23s\n",
      "1800:\ttest: 0.7390608\tbest: 0.7390865 (1557)\ttotal: 2m 5s\tremaining: 1m 3s\n"
     ]
    },
    {
     "name": "stderr",
     "output_type": "stream",
     "text": [
      "[I 2025-02-22 06:10:45,928] Trial 31 finished with value: 0.7390864599800268 and parameters: {'iterations': 2709, 'depth': 6, 'learning_rate': 0.026847014364250712, 'l2_leaf_reg': 43.30780518444778}. Best is trial 11 with value: 0.7392749579491091.\n"
     ]
    },
    {
     "name": "stdout",
     "output_type": "stream",
     "text": [
      "Stopped by overfitting detector  (300 iterations wait)\n",
      "\n",
      "bestTest = 0.73908646\n",
      "bestIteration = 1557\n",
      "\n",
      "Shrink model to first 1558 iterations.\n",
      "0:\ttest: 0.7169128\tbest: 0.7169128 (0)\ttotal: 84.2ms\tremaining: 3m 50s\n",
      "300:\ttest: 0.7318604\tbest: 0.7318604 (300)\ttotal: 21.4s\tremaining: 2m 53s\n",
      "600:\ttest: 0.7346796\tbest: 0.7346796 (600)\ttotal: 43s\tremaining: 2m 33s\n",
      "900:\ttest: 0.7361257\tbest: 0.7361257 (900)\ttotal: 1m 5s\tremaining: 2m 13s\n",
      "1200:\ttest: 0.7369140\tbest: 0.7369140 (1200)\ttotal: 1m 27s\tremaining: 1m 51s\n",
      "1500:\ttest: 0.7374425\tbest: 0.7374425 (1500)\ttotal: 1m 49s\tremaining: 1m 30s\n",
      "1800:\ttest: 0.7377710\tbest: 0.7377710 (1800)\ttotal: 2m 11s\tremaining: 1m 8s\n",
      "2100:\ttest: 0.7380353\tbest: 0.7380353 (2100)\ttotal: 2m 33s\tremaining: 46.8s\n",
      "2400:\ttest: 0.7382886\tbest: 0.7382886 (2400)\ttotal: 2m 55s\tremaining: 25s\n",
      "2700:\ttest: 0.7384169\tbest: 0.7384169 (2699)\ttotal: 3m 19s\tremaining: 3.03s\n"
     ]
    },
    {
     "name": "stderr",
     "output_type": "stream",
     "text": [
      "[I 2025-02-22 06:14:09,603] Trial 32 finished with value: 0.7384373908304105 and parameters: {'iterations': 2742, 'depth': 7, 'learning_rate': 0.00531307632259162, 'l2_leaf_reg': 36.547210165138424}. Best is trial 11 with value: 0.7392749579491091.\n"
     ]
    },
    {
     "name": "stdout",
     "output_type": "stream",
     "text": [
      "2741:\ttest: 0.7384374\tbest: 0.7384374 (2741)\ttotal: 3m 23s\tremaining: 0us\n",
      "\n",
      "bestTest = 0.7384373908\n",
      "bestIteration = 2741\n",
      "\n",
      "0:\ttest: 0.7054650\tbest: 0.7054650 (0)\ttotal: 72.5ms\tremaining: 3m 7s\n",
      "300:\ttest: 0.7366519\tbest: 0.7366519 (300)\ttotal: 19.3s\tremaining: 2m 26s\n",
      "600:\ttest: 0.7379941\tbest: 0.7379946 (592)\ttotal: 39.2s\tremaining: 2m 9s\n",
      "900:\ttest: 0.7384053\tbest: 0.7384053 (900)\ttotal: 1m\tremaining: 1m 53s\n",
      "1200:\ttest: 0.7386841\tbest: 0.7386857 (1198)\ttotal: 1m 22s\tremaining: 1m 34s\n",
      "1500:\ttest: 0.7387971\tbest: 0.7388236 (1473)\ttotal: 1m 43s\tremaining: 1m 14s\n",
      "1800:\ttest: 0.7388866\tbest: 0.7388931 (1792)\ttotal: 2m 5s\tremaining: 54.4s\n",
      "2100:\ttest: 0.7388786\tbest: 0.7389072 (1844)\ttotal: 2m 26s\tremaining: 33.7s\n"
     ]
    },
    {
     "name": "stderr",
     "output_type": "stream",
     "text": [
      "[I 2025-02-22 06:16:39,533] Trial 33 finished with value: 0.7389071863796443 and parameters: {'iterations': 2584, 'depth': 6, 'learning_rate': 0.02651195490553083, 'l2_leaf_reg': 48.319919492026514}. Best is trial 11 with value: 0.7392749579491091.\n"
     ]
    },
    {
     "name": "stdout",
     "output_type": "stream",
     "text": [
      "Stopped by overfitting detector  (300 iterations wait)\n",
      "\n",
      "bestTest = 0.7389071864\n",
      "bestIteration = 1844\n",
      "\n",
      "Shrink model to first 1845 iterations.\n",
      "0:\ttest: 0.7053658\tbest: 0.7053658 (0)\ttotal: 73ms\tremaining: 2m 56s\n",
      "300:\ttest: 0.7356163\tbest: 0.7356172 (299)\ttotal: 19.1s\tremaining: 2m 14s\n",
      "600:\ttest: 0.7373374\tbest: 0.7373374 (600)\ttotal: 39s\tremaining: 1m 58s\n",
      "900:\ttest: 0.7382912\tbest: 0.7382912 (900)\ttotal: 1m 1s\tremaining: 1m 44s\n",
      "1200:\ttest: 0.7386681\tbest: 0.7386714 (1189)\ttotal: 1m 23s\tremaining: 1m 24s\n",
      "1500:\ttest: 0.7387622\tbest: 0.7387843 (1403)\ttotal: 1m 45s\tremaining: 1m 4s\n",
      "1800:\ttest: 0.7389274\tbest: 0.7389347 (1780)\ttotal: 2m 7s\tremaining: 44s\n",
      "2100:\ttest: 0.7389888\tbest: 0.7389998 (2052)\ttotal: 2m 29s\tremaining: 22.9s\n"
     ]
    },
    {
     "name": "stderr",
     "output_type": "stream",
     "text": [
      "[I 2025-02-22 06:19:27,777] Trial 34 finished with value: 0.7389997715628573 and parameters: {'iterations': 2423, 'depth': 6, 'learning_rate': 0.017400371021704095, 'l2_leaf_reg': 5.517643817261224}. Best is trial 11 with value: 0.7392749579491091.\n"
     ]
    },
    {
     "name": "stdout",
     "output_type": "stream",
     "text": [
      "Stopped by overfitting detector  (300 iterations wait)\n",
      "\n",
      "bestTest = 0.7389997716\n",
      "bestIteration = 2052\n",
      "\n",
      "Shrink model to first 2053 iterations.\n",
      "0:\ttest: 0.7169595\tbest: 0.7169595 (0)\ttotal: 85.4ms\tremaining: 3m 51s\n",
      "300:\ttest: 0.7375215\tbest: 0.7375261 (298)\ttotal: 22.7s\tremaining: 3m 2s\n",
      "600:\ttest: 0.7384753\tbest: 0.7384753 (600)\ttotal: 47.1s\tremaining: 2m 45s\n",
      "900:\ttest: 0.7387746\tbest: 0.7387902 (885)\ttotal: 1m 11s\tremaining: 2m 24s\n",
      "1200:\ttest: 0.7389180\tbest: 0.7389226 (1198)\ttotal: 1m 36s\tremaining: 2m 2s\n",
      "1500:\ttest: 0.7388368\tbest: 0.7389749 (1331)\ttotal: 2m 2s\tremaining: 1m 38s\n"
     ]
    },
    {
     "name": "stderr",
     "output_type": "stream",
     "text": [
      "[I 2025-02-22 06:21:41,242] Trial 35 finished with value: 0.7389749058733188 and parameters: {'iterations': 2715, 'depth': 7, 'learning_rate': 0.035664081066882465, 'l2_leaf_reg': 15.585198084428526}. Best is trial 11 with value: 0.7392749579491091.\n"
     ]
    },
    {
     "name": "stdout",
     "output_type": "stream",
     "text": [
      "Stopped by overfitting detector  (300 iterations wait)\n",
      "\n",
      "bestTest = 0.7389749059\n",
      "bestIteration = 1331\n",
      "\n",
      "Shrink model to first 1332 iterations.\n",
      "0:\ttest: 0.6979852\tbest: 0.6979852 (0)\ttotal: 62.8ms\tremaining: 3m 1s\n",
      "300:\ttest: 0.7375794\tbest: 0.7375868 (298)\ttotal: 16.9s\tremaining: 2m 25s\n",
      "600:\ttest: 0.7384312\tbest: 0.7384350 (589)\ttotal: 34.7s\tremaining: 2m 12s\n",
      "900:\ttest: 0.7387016\tbest: 0.7387194 (858)\ttotal: 52.5s\tremaining: 1m 56s\n",
      "1200:\ttest: 0.7389277\tbest: 0.7389286 (1149)\ttotal: 1m 10s\tremaining: 1m 39s\n",
      "1500:\ttest: 0.7389889\tbest: 0.7390232 (1444)\ttotal: 1m 28s\tremaining: 1m 22s\n"
     ]
    },
    {
     "name": "stderr",
     "output_type": "stream",
     "text": [
      "[I 2025-02-22 06:23:25,954] Trial 36 finished with value: 0.7390231521409478 and parameters: {'iterations': 2898, 'depth': 5, 'learning_rate': 0.04524838528104541, 'l2_leaf_reg': 95.2900181607703}. Best is trial 11 with value: 0.7392749579491091.\n"
     ]
    },
    {
     "name": "stdout",
     "output_type": "stream",
     "text": [
      "Stopped by overfitting detector  (300 iterations wait)\n",
      "\n",
      "bestTest = 0.7390231521\n",
      "bestIteration = 1444\n",
      "\n",
      "Shrink model to first 1445 iterations.\n",
      "0:\ttest: 0.6948811\tbest: 0.6948811 (0)\ttotal: 54.1ms\tremaining: 2m 1s\n",
      "300:\ttest: 0.7322580\tbest: 0.7322580 (300)\ttotal: 12.9s\tremaining: 1m 23s\n",
      "600:\ttest: 0.7353275\tbest: 0.7353275 (600)\ttotal: 26.6s\tremaining: 1m 13s\n",
      "900:\ttest: 0.7364639\tbest: 0.7364639 (900)\ttotal: 40.8s\tremaining: 1m 1s\n",
      "1200:\ttest: 0.7372882\tbest: 0.7372893 (1199)\ttotal: 55.2s\tremaining: 48.4s\n",
      "1500:\ttest: 0.7377007\tbest: 0.7377012 (1499)\ttotal: 1m 9s\tremaining: 35s\n",
      "1800:\ttest: 0.7380055\tbest: 0.7380055 (1800)\ttotal: 1m 24s\tremaining: 21.3s\n",
      "2100:\ttest: 0.7382429\tbest: 0.7382448 (2092)\ttotal: 1m 39s\tremaining: 7.2s\n"
     ]
    },
    {
     "name": "stderr",
     "output_type": "stream",
     "text": [
      "[I 2025-02-22 06:25:13,300] Trial 37 finished with value: 0.7383448175598561 and parameters: {'iterations': 2253, 'depth': 4, 'learning_rate': 0.012340032522724554, 'l2_leaf_reg': 1.5549888003879757}. Best is trial 11 with value: 0.7392749579491091.\n"
     ]
    },
    {
     "name": "stdout",
     "output_type": "stream",
     "text": [
      "2252:\ttest: 0.7383448\tbest: 0.7383448 (2251)\ttotal: 1m 47s\tremaining: 0us\n",
      "\n",
      "bestTest = 0.7383448176\n",
      "bestIteration = 2251\n",
      "\n",
      "Shrink model to first 2252 iterations.\n",
      "0:\ttest: 0.7053663\tbest: 0.7053663 (0)\ttotal: 72.6ms\tremaining: 2m 34s\n",
      "300:\ttest: 0.7366007\tbest: 0.7366007 (300)\ttotal: 19.7s\tremaining: 2m\n",
      "600:\ttest: 0.7380254\tbest: 0.7380333 (599)\ttotal: 40.4s\tremaining: 1m 43s\n",
      "900:\ttest: 0.7386731\tbest: 0.7386731 (900)\ttotal: 1m 1s\tremaining: 1m 24s\n",
      "1200:\ttest: 0.7387506\tbest: 0.7388257 (1086)\ttotal: 1m 23s\tremaining: 1m 5s\n",
      "1500:\ttest: 0.7388819\tbest: 0.7389262 (1461)\ttotal: 1m 45s\tremaining: 44.5s\n"
     ]
    },
    {
     "name": "stderr",
     "output_type": "stream",
     "text": [
      "[I 2025-02-22 06:27:17,970] Trial 38 finished with value: 0.7389262426626362 and parameters: {'iterations': 2136, 'depth': 6, 'learning_rate': 0.02661048983392809, 'l2_leaf_reg': 0.623902015222415}. Best is trial 11 with value: 0.7392749579491091.\n"
     ]
    },
    {
     "name": "stdout",
     "output_type": "stream",
     "text": [
      "Stopped by overfitting detector  (300 iterations wait)\n",
      "\n",
      "bestTest = 0.7389262427\n",
      "bestIteration = 1461\n",
      "\n",
      "Shrink model to first 1462 iterations.\n",
      "0:\ttest: 0.7169222\tbest: 0.7169222 (0)\ttotal: 84.6ms\tremaining: 3m 33s\n",
      "300:\ttest: 0.7337534\tbest: 0.7337534 (300)\ttotal: 21.4s\tremaining: 2m 38s\n",
      "600:\ttest: 0.7362576\tbest: 0.7362576 (600)\ttotal: 43.7s\tremaining: 2m 19s\n",
      "900:\ttest: 0.7372157\tbest: 0.7372157 (900)\ttotal: 1m 5s\tremaining: 1m 58s\n",
      "1200:\ttest: 0.7377353\tbest: 0.7377353 (1199)\ttotal: 1m 27s\tremaining: 1m 35s\n",
      "1500:\ttest: 0.7381848\tbest: 0.7381848 (1500)\ttotal: 1m 49s\tremaining: 1m 14s\n",
      "1800:\ttest: 0.7384216\tbest: 0.7384228 (1796)\ttotal: 2m 14s\tremaining: 53.9s\n",
      "2100:\ttest: 0.7385971\tbest: 0.7385971 (2100)\ttotal: 2m 38s\tremaining: 32s\n",
      "2400:\ttest: 0.7387767\tbest: 0.7387767 (2400)\ttotal: 3m 3s\tremaining: 9.42s\n"
     ]
    },
    {
     "name": "stderr",
     "output_type": "stream",
     "text": [
      "[I 2025-02-22 06:30:32,482] Trial 39 finished with value: 0.7388528765687502 and parameters: {'iterations': 2524, 'depth': 7, 'learning_rate': 0.008789514020188564, 'l2_leaf_reg': 33.472265518098204}. Best is trial 11 with value: 0.7392749579491091.\n",
      "[I 2025-02-22 06:30:32,486] A new study created in memory with name: no-name-c146481f-9c09-4ab1-a628-05c159886dff\n"
     ]
    },
    {
     "name": "stdout",
     "output_type": "stream",
     "text": [
      "2523:\ttest: 0.7388529\tbest: 0.7388529 (2523)\ttotal: 3m 14s\tremaining: 0us\n",
      "\n",
      "bestTest = 0.7388528766\n",
      "bestIteration = 2523\n",
      "\n"
     ]
    },
    {
     "name": "stderr",
     "output_type": "stream",
     "text": [
      "[I 2025-02-22 06:30:55,897] Trial 0 finished with value: 0.72837973562729 and parameters: {'num_iterations': 2366, 'objective': 'binary', 'metric': 'auc', 'verbose': -1, 'learning_rate': 0.0652646236447618, 'n_estimators': 236, 'min_child_samples': 45, 'subsample': 0.7, 'colsample_bytree': 0.5}. Best is trial 0 with value: 0.72837973562729.\n",
      "[I 2025-02-22 06:31:12,941] Trial 1 finished with value: 0.7382602456250443 and parameters: {'num_iterations': 1510, 'objective': 'binary', 'metric': 'auc', 'verbose': -1, 'learning_rate': 0.005231880959249543, 'n_estimators': 1411, 'min_child_samples': 10, 'subsample': 1.0, 'colsample_bytree': 0.5}. Best is trial 1 with value: 0.7382602456250443.\n",
      "[I 2025-02-22 06:31:32,234] Trial 2 finished with value: 0.737565828954743 and parameters: {'num_iterations': 2334, 'objective': 'binary', 'metric': 'auc', 'verbose': -1, 'learning_rate': 0.006578527777128852, 'n_estimators': 931, 'min_child_samples': 15, 'subsample': 0.5, 'colsample_bytree': 1.0}. Best is trial 1 with value: 0.7382602456250443.\n",
      "[I 2025-02-22 06:31:48,226] Trial 3 finished with value: 0.7385288601945944 and parameters: {'num_iterations': 1620, 'objective': 'binary', 'metric': 'auc', 'verbose': -1, 'learning_rate': 0.0058823249237283685, 'n_estimators': 837, 'min_child_samples': 10, 'subsample': 0.9, 'colsample_bytree': 0.6}. Best is trial 3 with value: 0.7385288601945944.\n",
      "[I 2025-02-22 06:32:04,357] Trial 4 finished with value: 0.7380462744208311 and parameters: {'num_iterations': 1997, 'objective': 'binary', 'metric': 'auc', 'verbose': -1, 'learning_rate': 0.010907507425244923, 'n_estimators': 1597, 'min_child_samples': 50, 'subsample': 0.6, 'colsample_bytree': 0.8}. Best is trial 3 with value: 0.7385288601945944.\n",
      "[I 2025-02-22 06:32:26,735] Trial 5 finished with value: 0.7342664275324859 and parameters: {'num_iterations': 2909, 'objective': 'binary', 'metric': 'auc', 'verbose': -1, 'learning_rate': 0.019760591962733942, 'n_estimators': 612, 'min_child_samples': 30, 'subsample': 0.7, 'colsample_bytree': 0.9}. Best is trial 3 with value: 0.7385288601945944.\n",
      "[I 2025-02-22 06:32:47,183] Trial 6 finished with value: 0.7357614939922557 and parameters: {'num_iterations': 2639, 'objective': 'binary', 'metric': 'auc', 'verbose': -1, 'learning_rate': 0.017862094446750985, 'n_estimators': 794, 'min_child_samples': 35, 'subsample': 1.0, 'colsample_bytree': 0.8}. Best is trial 3 with value: 0.7385288601945944.\n",
      "[I 2025-02-22 06:33:03,728] Trial 7 finished with value: 0.7375532333036385 and parameters: {'num_iterations': 1580, 'objective': 'binary', 'metric': 'auc', 'verbose': -1, 'learning_rate': 0.01776722177611332, 'n_estimators': 529, 'min_child_samples': 25, 'subsample': 0.8, 'colsample_bytree': 0.5}. Best is trial 3 with value: 0.7385288601945944.\n",
      "[I 2025-02-22 06:33:20,945] Trial 8 finished with value: 0.733833100602339 and parameters: {'num_iterations': 1911, 'objective': 'binary', 'metric': 'auc', 'verbose': -1, 'learning_rate': 0.0304747553332844, 'n_estimators': 1328, 'min_child_samples': 10, 'subsample': 0.7, 'colsample_bytree': 0.6}. Best is trial 3 with value: 0.7385288601945944.\n",
      "[I 2025-02-22 06:33:48,832] Trial 9 finished with value: 0.7334005400532334 and parameters: {'num_iterations': 2739, 'objective': 'binary', 'metric': 'auc', 'verbose': -1, 'learning_rate': 0.02691531614176271, 'n_estimators': 1438, 'min_child_samples': 20, 'subsample': 0.6, 'colsample_bytree': 0.5}. Best is trial 3 with value: 0.7385288601945944.\n",
      "[I 2025-02-22 06:34:03,183] Trial 10 finished with value: 0.7290391092266592 and parameters: {'num_iterations': 1883, 'objective': 'binary', 'metric': 'auc', 'verbose': -1, 'learning_rate': 0.08223556891145911, 'n_estimators': 1917, 'min_child_samples': 40, 'subsample': 0.9, 'colsample_bytree': 0.7}. Best is trial 3 with value: 0.7385288601945944.\n",
      "[I 2025-02-22 06:34:18,605] Trial 11 finished with value: 0.7384241240995341 and parameters: {'num_iterations': 1513, 'objective': 'binary', 'metric': 'auc', 'verbose': -1, 'learning_rate': 0.005340229419903739, 'n_estimators': 1206, 'min_child_samples': 10, 'subsample': 1.0, 'colsample_bytree': 0.6}. Best is trial 3 with value: 0.7385288601945944.\n",
      "[I 2025-02-22 06:34:33,096] Trial 12 finished with value: 0.7384904974627784 and parameters: {'num_iterations': 1717, 'objective': 'binary', 'metric': 'auc', 'verbose': -1, 'learning_rate': 0.008807202863131344, 'n_estimators': 1093, 'min_child_samples': 20, 'subsample': 0.9, 'colsample_bytree': 0.7}. Best is trial 3 with value: 0.7385288601945944.\n",
      "[I 2025-02-22 06:34:47,914] Trial 13 finished with value: 0.7380653942380027 and parameters: {'num_iterations': 1785, 'objective': 'binary', 'metric': 'auc', 'verbose': -1, 'learning_rate': 0.010668787980411185, 'n_estimators': 1055, 'min_child_samples': 20, 'subsample': 0.9, 'colsample_bytree': 0.7}. Best is trial 3 with value: 0.7385288601945944.\n",
      "[I 2025-02-22 06:35:08,302] Trial 14 finished with value: 0.7382522323766431 and parameters: {'num_iterations': 2165, 'objective': 'binary', 'metric': 'auc', 'verbose': -1, 'learning_rate': 0.008676723130645643, 'n_estimators': 172, 'min_child_samples': 20, 'subsample': 0.9, 'colsample_bytree': 0.6}. Best is trial 3 with value: 0.7385288601945944.\n",
      "[I 2025-02-22 06:35:23,100] Trial 15 finished with value: 0.7386264645779953 and parameters: {'num_iterations': 1739, 'objective': 'binary', 'metric': 'auc', 'verbose': -1, 'learning_rate': 0.008303365162986591, 'n_estimators': 687, 'min_child_samples': 25, 'subsample': 0.8, 'colsample_bytree': 0.7}. Best is trial 15 with value: 0.7386264645779953.\n",
      "[I 2025-02-22 06:35:39,757] Trial 16 finished with value: 0.7371742241261581 and parameters: {'num_iterations': 2069, 'objective': 'binary', 'metric': 'auc', 'verbose': -1, 'learning_rate': 0.012765396262269125, 'n_estimators': 502, 'min_child_samples': 30, 'subsample': 0.8, 'colsample_bytree': 0.8}. Best is trial 15 with value: 0.7386264645779953.\n",
      "[I 2025-02-22 06:35:54,935] Trial 17 finished with value: 0.7335444330573546 and parameters: {'num_iterations': 1707, 'objective': 'binary', 'metric': 'auc', 'verbose': -1, 'learning_rate': 0.04805408751858705, 'n_estimators': 850, 'min_child_samples': 35, 'subsample': 0.8, 'colsample_bytree': 0.6}. Best is trial 15 with value: 0.7386264645779953.\n",
      "[I 2025-02-22 06:36:09,401] Trial 18 finished with value: 0.7384421717774249 and parameters: {'num_iterations': 1688, 'objective': 'binary', 'metric': 'auc', 'verbose': -1, 'learning_rate': 0.007326624275259349, 'n_estimators': 646, 'min_child_samples': 15, 'subsample': 0.8, 'colsample_bytree': 0.7}. Best is trial 15 with value: 0.7386264645779953.\n",
      "[I 2025-02-22 06:36:28,935] Trial 19 finished with value: 0.7359244949008897 and parameters: {'num_iterations': 2481, 'objective': 'binary', 'metric': 'auc', 'verbose': -1, 'learning_rate': 0.013452330775004216, 'n_estimators': 330, 'min_child_samples': 25, 'subsample': 0.9, 'colsample_bytree': 0.9}. Best is trial 15 with value: 0.7386264645779953.\n",
      "[I 2025-02-22 06:36:45,671] Trial 20 finished with value: 0.7328998629218308 and parameters: {'num_iterations': 1873, 'objective': 'binary', 'metric': 'auc', 'verbose': -1, 'learning_rate': 0.03844621393609847, 'n_estimators': 397, 'min_child_samples': 15, 'subsample': 0.5, 'colsample_bytree': 0.6}. Best is trial 15 with value: 0.7386264645779953.\n",
      "[I 2025-02-22 06:37:00,166] Trial 21 finished with value: 0.7386002646706854 and parameters: {'num_iterations': 1713, 'objective': 'binary', 'metric': 'auc', 'verbose': -1, 'learning_rate': 0.008523899055797842, 'n_estimators': 1080, 'min_child_samples': 25, 'subsample': 0.9, 'colsample_bytree': 0.7}. Best is trial 15 with value: 0.7386264645779953.\n",
      "[I 2025-02-22 06:37:14,271] Trial 22 finished with value: 0.738534721222662 and parameters: {'num_iterations': 1630, 'objective': 'binary', 'metric': 'auc', 'verbose': -1, 'learning_rate': 0.006941444601119248, 'n_estimators': 760, 'min_child_samples': 25, 'subsample': 0.9, 'colsample_bytree': 0.7}. Best is trial 15 with value: 0.7386264645779953.\n",
      "[I 2025-02-22 06:37:31,730] Trial 23 finished with value: 0.7384303901579965 and parameters: {'num_iterations': 2077, 'objective': 'binary', 'metric': 'auc', 'verbose': -1, 'learning_rate': 0.008135271015583015, 'n_estimators': 720, 'min_child_samples': 25, 'subsample': 0.8, 'colsample_bytree': 0.7}. Best is trial 15 with value: 0.7386264645779953.\n",
      "[I 2025-02-22 06:37:46,338] Trial 24 finished with value: 0.7371747046033912 and parameters: {'num_iterations': 1812, 'objective': 'binary', 'metric': 'auc', 'verbose': -1, 'learning_rate': 0.013763055533112498, 'n_estimators': 1042, 'min_child_samples': 35, 'subsample': 1.0, 'colsample_bytree': 0.8}. Best is trial 15 with value: 0.7386264645779953.\n",
      "[I 2025-02-22 06:38:02,569] Trial 25 finished with value: 0.7379023695040512 and parameters: {'num_iterations': 1992, 'objective': 'binary', 'metric': 'auc', 'verbose': -1, 'learning_rate': 0.01004579054644935, 'n_estimators': 961, 'min_child_samples': 30, 'subsample': 0.9, 'colsample_bytree': 0.9}. Best is trial 15 with value: 0.7386264645779953.\n",
      "[I 2025-02-22 06:38:17,122] Trial 26 finished with value: 0.7385146603054552 and parameters: {'num_iterations': 1682, 'objective': 'binary', 'metric': 'auc', 'verbose': -1, 'learning_rate': 0.0070319925342010176, 'n_estimators': 1206, 'min_child_samples': 25, 'subsample': 0.8, 'colsample_bytree': 0.7}. Best is trial 15 with value: 0.7386264645779953.\n",
      "[I 2025-02-22 06:38:31,410] Trial 27 finished with value: 0.7371269348421091 and parameters: {'num_iterations': 1776, 'objective': 'binary', 'metric': 'auc', 'verbose': -1, 'learning_rate': 0.015151434735883961, 'n_estimators': 1691, 'min_child_samples': 25, 'subsample': 1.0, 'colsample_bytree': 0.8}. Best is trial 15 with value: 0.7386264645779953.\n",
      "[I 2025-02-22 06:38:44,189] Trial 28 finished with value: 0.736887311712885 and parameters: {'num_iterations': 1599, 'objective': 'binary', 'metric': 'auc', 'verbose': -1, 'learning_rate': 0.02412338590351601, 'n_estimators': 739, 'min_child_samples': 30, 'subsample': 0.7, 'colsample_bytree': 0.7}. Best is trial 15 with value: 0.7386264645779953.\n",
      "[I 2025-02-22 06:39:02,886] Trial 29 finished with value: 0.7382727777419692 and parameters: {'num_iterations': 2253, 'objective': 'binary', 'metric': 'auc', 'verbose': -1, 'learning_rate': 0.006606491608799092, 'n_estimators': 315, 'min_child_samples': 40, 'subsample': 0.6, 'colsample_bytree': 0.8}. Best is trial 15 with value: 0.7386264645779953.\n",
      "[I 2025-02-22 06:39:22,808] Trial 30 finished with value: 0.7376743612170341 and parameters: {'num_iterations': 2462, 'objective': 'binary', 'metric': 'auc', 'verbose': -1, 'learning_rate': 0.01124198943222009, 'n_estimators': 104, 'min_child_samples': 40, 'subsample': 0.9, 'colsample_bytree': 0.7}. Best is trial 15 with value: 0.7386264645779953.\n",
      "[I 2025-02-22 06:39:39,198] Trial 31 finished with value: 0.7384063980634273 and parameters: {'num_iterations': 1635, 'objective': 'binary', 'metric': 'auc', 'verbose': -1, 'learning_rate': 0.005055908325389899, 'n_estimators': 821, 'min_child_samples': 15, 'subsample': 0.9, 'colsample_bytree': 0.6}. Best is trial 15 with value: 0.7386264645779953.\n",
      "[I 2025-02-22 06:39:54,121] Trial 32 finished with value: 0.738463439844044 and parameters: {'num_iterations': 1501, 'objective': 'binary', 'metric': 'auc', 'verbose': -1, 'learning_rate': 0.006279251275873012, 'n_estimators': 492, 'min_child_samples': 20, 'subsample': 0.8, 'colsample_bytree': 0.6}. Best is trial 15 with value: 0.7386264645779953.\n",
      "[I 2025-02-22 06:40:11,908] Trial 33 finished with value: 0.7384238977590193 and parameters: {'num_iterations': 1584, 'objective': 'binary', 'metric': 'auc', 'verbose': -1, 'learning_rate': 0.005658178855226977, 'n_estimators': 920, 'min_child_samples': 10, 'subsample': 1.0, 'colsample_bytree': 0.5}. Best is trial 15 with value: 0.7386264645779953.\n",
      "[I 2025-02-22 06:40:30,577] Trial 34 finished with value: 0.7383510359676838 and parameters: {'num_iterations': 1956, 'objective': 'binary', 'metric': 'auc', 'verbose': -1, 'learning_rate': 0.00817065460607313, 'n_estimators': 631, 'min_child_samples': 50, 'subsample': 0.9, 'colsample_bytree': 0.6}. Best is trial 15 with value: 0.7386264645779953.\n",
      "[I 2025-02-22 06:40:45,726] Trial 35 finished with value: 0.7382803343384546 and parameters: {'num_iterations': 1811, 'objective': 'binary', 'metric': 'auc', 'verbose': -1, 'learning_rate': 0.009559427385740392, 'n_estimators': 1151, 'min_child_samples': 25, 'subsample': 0.9, 'colsample_bytree': 0.7}. Best is trial 15 with value: 0.7386264645779953.\n",
      "[I 2025-02-22 06:41:01,925] Trial 36 finished with value: 0.738569796060684 and parameters: {'num_iterations': 1635, 'objective': 'binary', 'metric': 'auc', 'verbose': -1, 'learning_rate': 0.006036089169172073, 'n_estimators': 910, 'min_child_samples': 15, 'subsample': 1.0, 'colsample_bytree': 0.6}. Best is trial 15 with value: 0.7386264645779953.\n",
      "[I 2025-02-22 06:41:16,688] Trial 37 finished with value: 0.7381043724571834 and parameters: {'num_iterations': 1760, 'objective': 'binary', 'metric': 'auc', 'verbose': -1, 'learning_rate': 0.0072860020299269, 'n_estimators': 935, 'min_child_samples': 20, 'subsample': 1.0, 'colsample_bytree': 1.0}. Best is trial 15 with value: 0.7386264645779953.\n",
      "[I 2025-02-22 06:41:30,374] Trial 38 finished with value: 0.7386040965758921 and parameters: {'num_iterations': 1551, 'objective': 'binary', 'metric': 'auc', 'verbose': -1, 'learning_rate': 0.00603850181427165, 'n_estimators': 1295, 'min_child_samples': 30, 'subsample': 1.0, 'colsample_bytree': 0.7}. Best is trial 15 with value: 0.7386264645779953.\n",
      "[I 2025-02-22 06:41:45,557] Trial 39 finished with value: 0.7383229498894172 and parameters: {'num_iterations': 1501, 'objective': 'binary', 'metric': 'auc', 'verbose': -1, 'learning_rate': 0.005027206568055051, 'n_estimators': 1352, 'min_child_samples': 30, 'subsample': 1.0, 'colsample_bytree': 0.6}. Best is trial 15 with value: 0.7386264645779953.\n"
     ]
    },
    {
     "name": "stdout",
     "output_type": "stream",
     "text": [
      "Cat val score : 0.739274957949109\n",
      "LGBM val score : 0.7384107183876398\n",
      "Ensemble val score : 0.7393024444235559\n"
     ]
    },
    {
     "name": "stderr",
     "output_type": "stream",
     "text": [
      "[I 2025-02-22 06:42:01,464] A new study created in memory with name: no-name-7bfbc33f-86f7-4252-91ed-4112ac74cfab\n"
     ]
    },
    {
     "name": "stdout",
     "output_type": "stream",
     "text": [
      "==================================================\n",
      "0:\ttest: 0.7229034\tbest: 0.7229034 (0)\ttotal: 139ms\tremaining: 5m 28s\n",
      "300:\ttest: 0.7360831\tbest: 0.7360831 (300)\ttotal: 38.7s\tremaining: 4m 25s\n",
      "600:\ttest: 0.7371803\tbest: 0.7371803 (600)\ttotal: 1m 19s\tremaining: 3m 54s\n",
      "900:\ttest: 0.7374005\tbest: 0.7374190 (891)\ttotal: 2m 1s\tremaining: 3m 18s\n",
      "1200:\ttest: 0.7375474\tbest: 0.7375499 (1180)\ttotal: 2m 46s\tremaining: 2m 41s\n",
      "1500:\ttest: 0.7375034\tbest: 0.7375833 (1292)\ttotal: 3m 35s\tremaining: 2m 4s\n"
     ]
    },
    {
     "name": "stderr",
     "output_type": "stream",
     "text": [
      "[I 2025-02-22 06:45:53,334] Trial 0 finished with value: 0.7375833445338797 and parameters: {'iterations': 2366, 'depth': 10, 'learning_rate': 0.01181021951839225, 'l2_leaf_reg': 9.980783802743254}. Best is trial 0 with value: 0.7375833445338797.\n"
     ]
    },
    {
     "name": "stdout",
     "output_type": "stream",
     "text": [
      "Stopped by overfitting detector  (300 iterations wait)\n",
      "\n",
      "bestTest = 0.7375833445\n",
      "bestIteration = 1292\n",
      "\n",
      "Shrink model to first 1293 iterations.\n",
      "저장 완료\n",
      "0:\ttest: 0.6968205\tbest: 0.6968205 (0)\ttotal: 63.7ms\tremaining: 2m 19s\n",
      "300:\ttest: 0.7293040\tbest: 0.7293040 (300)\ttotal: 13.2s\tremaining: 1m 22s\n",
      "600:\ttest: 0.7330265\tbest: 0.7330265 (600)\ttotal: 26.6s\tremaining: 1m 10s\n",
      "900:\ttest: 0.7343388\tbest: 0.7343388 (900)\ttotal: 40.1s\tremaining: 57.6s\n",
      "1200:\ttest: 0.7351302\tbest: 0.7351302 (1200)\ttotal: 53.8s\tremaining: 44.4s\n",
      "1500:\ttest: 0.7356687\tbest: 0.7356687 (1500)\ttotal: 1m 7s\tremaining: 31.2s\n",
      "1800:\ttest: 0.7360077\tbest: 0.7360077 (1800)\ttotal: 1m 21s\tremaining: 17.8s\n",
      "2100:\ttest: 0.7363560\tbest: 0.7363569 (2099)\ttotal: 1m 35s\tremaining: 4.19s\n"
     ]
    },
    {
     "name": "stderr",
     "output_type": "stream",
     "text": [
      "[I 2025-02-22 06:47:33,780] Trial 1 finished with value: 0.7364647816223828 and parameters: {'iterations': 2193, 'depth': 4, 'learning_rate': 0.005671430811678843, 'l2_leaf_reg': 0.00012325230809466137}. Best is trial 0 with value: 0.7375833445338797.\n"
     ]
    },
    {
     "name": "stdout",
     "output_type": "stream",
     "text": [
      "2192:\ttest: 0.7364648\tbest: 0.7364648 (2192)\ttotal: 1m 40s\tremaining: 0us\n",
      "\n",
      "bestTest = 0.7364647816\n",
      "bestIteration = 2192\n",
      "\n",
      "0:\ttest: 0.6968205\tbest: 0.6968205 (0)\ttotal: 51.4ms\tremaining: 2m 10s\n",
      "300:\ttest: 0.7380266\tbest: 0.7381880 (276)\ttotal: 14.7s\tremaining: 1m 49s\n"
     ]
    },
    {
     "name": "stderr",
     "output_type": "stream",
     "text": [
      "[I 2025-02-22 06:48:02,463] Trial 2 finished with value: 0.7381880191755048 and parameters: {'iterations': 2535, 'depth': 4, 'learning_rate': 0.09275339199839054, 'l2_leaf_reg': 0.0008705394248343123}. Best is trial 2 with value: 0.7381880191755048.\n"
     ]
    },
    {
     "name": "stdout",
     "output_type": "stream",
     "text": [
      "Stopped by overfitting detector  (300 iterations wait)\n",
      "\n",
      "bestTest = 0.7381880192\n",
      "bestIteration = 276\n",
      "\n",
      "Shrink model to first 277 iterations.\n",
      "저장 완료\n",
      "0:\ttest: 0.6968205\tbest: 0.6968205 (0)\ttotal: 55.9ms\tremaining: 2m 10s\n",
      "300:\ttest: 0.7370249\tbest: 0.7370264 (299)\ttotal: 14s\tremaining: 1m 34s\n",
      "600:\ttest: 0.7380545\tbest: 0.7380677 (594)\ttotal: 28.8s\tremaining: 1m 23s\n",
      "900:\ttest: 0.7380051\tbest: 0.7382473 (751)\ttotal: 43.7s\tremaining: 1m 9s\n"
     ]
    },
    {
     "name": "stderr",
     "output_type": "stream",
     "text": [
      "[I 2025-02-22 06:48:53,729] Trial 3 finished with value: 0.7382473481865868 and parameters: {'iterations': 2334, 'depth': 4, 'learning_rate': 0.04657568321363276, 'l2_leaf_reg': 0.0008640473331457248}. Best is trial 3 with value: 0.7382473481865868.\n"
     ]
    },
    {
     "name": "stdout",
     "output_type": "stream",
     "text": [
      "Stopped by overfitting detector  (300 iterations wait)\n",
      "\n",
      "bestTest = 0.7382473482\n",
      "bestIteration = 751\n",
      "\n",
      "Shrink model to first 752 iterations.\n",
      "저장 완료\n",
      "0:\ttest: 0.7228640\tbest: 0.7228640 (0)\ttotal: 131ms\tremaining: 3m 47s\n",
      "300:\ttest: 0.7355607\tbest: 0.7355792 (298)\ttotal: 38.3s\tremaining: 3m 3s\n"
     ]
    },
    {
     "name": "stderr",
     "output_type": "stream",
     "text": [
      "[I 2025-02-22 06:50:13,297] Trial 4 finished with value: 0.7355791707512527 and parameters: {'iterations': 1742, 'depth': 10, 'learning_rate': 0.012622767482095846, 'l2_leaf_reg': 0.00021158816350109617}. Best is trial 3 with value: 0.7382473481865868.\n"
     ]
    },
    {
     "name": "stdout",
     "output_type": "stream",
     "text": [
      "Stopped by overfitting detector  (300 iterations wait)\n",
      "\n",
      "bestTest = 0.7355791708\n",
      "bestIteration = 298\n",
      "\n",
      "Shrink model to first 299 iterations.\n",
      "0:\ttest: 0.6968205\tbest: 0.6968205 (0)\ttotal: 55.6ms\tremaining: 1m 55s\n",
      "300:\ttest: 0.7374905\tbest: 0.7375008 (299)\ttotal: 14.1s\tremaining: 1m 23s\n",
      "600:\ttest: 0.7378925\tbest: 0.7379534 (549)\ttotal: 28.9s\tremaining: 1m 11s\n"
     ]
    },
    {
     "name": "stderr",
     "output_type": "stream",
     "text": [
      "[I 2025-02-22 06:50:54,594] Trial 5 finished with value: 0.7379533636249477 and parameters: {'iterations': 2082, 'depth': 4, 'learning_rate': 0.06995196593094148, 'l2_leaf_reg': 0.0018080296485396804}. Best is trial 3 with value: 0.7382473481865868.\n"
     ]
    },
    {
     "name": "stdout",
     "output_type": "stream",
     "text": [
      "Stopped by overfitting detector  (300 iterations wait)\n",
      "\n",
      "bestTest = 0.7379533636\n",
      "bestIteration = 549\n",
      "\n",
      "Shrink model to first 550 iterations.\n",
      "0:\ttest: 0.7019941\tbest: 0.7019941 (0)\ttotal: 65.5ms\tremaining: 2m 10s\n",
      "300:\ttest: 0.7378740\tbest: 0.7378768 (297)\ttotal: 17.4s\tremaining: 1m 38s\n",
      "600:\ttest: 0.7379870\tbest: 0.7379949 (591)\ttotal: 35.5s\tremaining: 1m 22s\n",
      "900:\ttest: 0.7380508\tbest: 0.7380821 (831)\ttotal: 53.5s\tremaining: 1m 5s\n",
      "1200:\ttest: 0.7381346\tbest: 0.7382004 (1082)\ttotal: 1m 11s\tremaining: 47.6s\n"
     ]
    },
    {
     "name": "stderr",
     "output_type": "stream",
     "text": [
      "[I 2025-02-22 06:52:17,852] Trial 6 finished with value: 0.7382004480493879 and parameters: {'iterations': 1997, 'depth': 5, 'learning_rate': 0.07985155992831598, 'l2_leaf_reg': 62.52181000710482}. Best is trial 3 with value: 0.7382473481865868.\n"
     ]
    },
    {
     "name": "stdout",
     "output_type": "stream",
     "text": [
      "Stopped by overfitting detector  (300 iterations wait)\n",
      "\n",
      "bestTest = 0.738200448\n",
      "bestIteration = 1082\n",
      "\n",
      "Shrink model to first 1083 iterations.\n",
      "0:\ttest: 0.7198577\tbest: 0.7198577 (0)\ttotal: 84.8ms\tremaining: 2m 43s\n",
      "300:\ttest: 0.7372500\tbest: 0.7377282 (163)\ttotal: 23.8s\tremaining: 2m 8s\n"
     ]
    },
    {
     "name": "stderr",
     "output_type": "stream",
     "text": [
      "[I 2025-02-22 06:52:55,551] Trial 7 finished with value: 0.7377282342304434 and parameters: {'iterations': 1927, 'depth': 7, 'learning_rate': 0.0941937211034094, 'l2_leaf_reg': 0.05654822767791934}. Best is trial 3 with value: 0.7382473481865868.\n"
     ]
    },
    {
     "name": "stdout",
     "output_type": "stream",
     "text": [
      "Stopped by overfitting detector  (300 iterations wait)\n",
      "\n",
      "bestTest = 0.7377282342\n",
      "bestIteration = 163\n",
      "\n",
      "Shrink model to first 164 iterations.\n",
      "0:\ttest: 0.7198577\tbest: 0.7198577 (0)\ttotal: 88.2ms\tremaining: 2m 47s\n",
      "300:\ttest: 0.7378206\tbest: 0.7379001 (279)\ttotal: 23.1s\tremaining: 2m 3s\n",
      "600:\ttest: 0.7375819\tbest: 0.7380094 (378)\ttotal: 48.4s\tremaining: 1m 44s\n"
     ]
    },
    {
     "name": "stderr",
     "output_type": "stream",
     "text": [
      "[I 2025-02-22 06:53:50,744] Trial 8 finished with value: 0.7380093531207147 and parameters: {'iterations': 1904, 'depth': 7, 'learning_rate': 0.05155602859187331, 'l2_leaf_reg': 1.299974533316308}. Best is trial 3 with value: 0.7382473481865868.\n"
     ]
    },
    {
     "name": "stdout",
     "output_type": "stream",
     "text": [
      "Stopped by overfitting detector  (300 iterations wait)\n",
      "\n",
      "bestTest = 0.7380093531\n",
      "bestIteration = 378\n",
      "\n",
      "Shrink model to first 379 iterations.\n",
      "0:\ttest: 0.7041607\tbest: 0.7041607 (0)\ttotal: 72.7ms\tremaining: 3m 11s\n",
      "300:\ttest: 0.7371626\tbest: 0.7371626 (300)\ttotal: 19.7s\tremaining: 2m 32s\n",
      "600:\ttest: 0.7375829\tbest: 0.7376556 (474)\ttotal: 41.1s\tremaining: 2m 19s\n",
      "900:\ttest: 0.7375489\tbest: 0.7376683 (666)\ttotal: 1m 2s\tremaining: 2m 1s\n"
     ]
    },
    {
     "name": "stderr",
     "output_type": "stream",
     "text": [
      "[I 2025-02-22 06:54:58,525] Trial 9 finished with value: 0.7376683214990865 and parameters: {'iterations': 2639, 'depth': 6, 'learning_rate': 0.03968704290444751, 'l2_leaf_reg': 0.30557194377967184}. Best is trial 3 with value: 0.7382473481865868.\n"
     ]
    },
    {
     "name": "stdout",
     "output_type": "stream",
     "text": [
      "Stopped by overfitting detector  (300 iterations wait)\n",
      "\n",
      "bestTest = 0.7376683215\n",
      "bestIteration = 666\n",
      "\n",
      "Shrink model to first 667 iterations.\n",
      "0:\ttest: 0.7211869\tbest: 0.7211869 (0)\ttotal: 109ms\tremaining: 5m 20s\n",
      "300:\ttest: 0.7363997\tbest: 0.7365282 (284)\ttotal: 28.9s\tremaining: 4m 14s\n"
     ]
    },
    {
     "name": "stderr",
     "output_type": "stream",
     "text": [
      "[I 2025-02-22 06:55:58,529] Trial 10 finished with value: 0.7365282443260245 and parameters: {'iterations': 2945, 'depth': 9, 'learning_rate': 0.03382272640596765, 'l2_leaf_reg': 0.017110106201165813}. Best is trial 3 with value: 0.7382473481865868.\n"
     ]
    },
    {
     "name": "stdout",
     "output_type": "stream",
     "text": [
      "Stopped by overfitting detector  (300 iterations wait)\n",
      "\n",
      "bestTest = 0.7365282443\n",
      "bestIteration = 284\n",
      "\n",
      "Shrink model to first 285 iterations.\n",
      "0:\ttest: 0.7019941\tbest: 0.7019941 (0)\ttotal: 61.7ms\tremaining: 1m 43s\n",
      "300:\ttest: 0.7377606\tbest: 0.7377610 (299)\ttotal: 17.3s\tremaining: 1m 19s\n",
      "600:\ttest: 0.7380889\tbest: 0.7381806 (538)\ttotal: 35.3s\tremaining: 1m 3s\n",
      "900:\ttest: 0.7381298\tbest: 0.7382552 (728)\ttotal: 53.2s\tremaining: 46.3s\n"
     ]
    },
    {
     "name": "stderr",
     "output_type": "stream",
     "text": [
      "[I 2025-02-22 06:56:59,614] Trial 11 finished with value: 0.7382551628906768 and parameters: {'iterations': 1685, 'depth': 5, 'learning_rate': 0.07434544215868405, 'l2_leaf_reg': 73.1213351392818}. Best is trial 11 with value: 0.7382551628906768.\n"
     ]
    },
    {
     "name": "stdout",
     "output_type": "stream",
     "text": [
      "Stopped by overfitting detector  (300 iterations wait)\n",
      "\n",
      "bestTest = 0.7382551629\n",
      "bestIteration = 728\n",
      "\n",
      "Shrink model to first 729 iterations.\n",
      "저장 완료\n",
      "0:\ttest: 0.7019941\tbest: 0.7019941 (0)\ttotal: 66.2ms\tremaining: 1m 44s\n",
      "300:\ttest: 0.7377113\tbest: 0.7377312 (297)\ttotal: 17.2s\tremaining: 1m 12s\n",
      "600:\ttest: 0.7377846\tbest: 0.7380401 (492)\ttotal: 35.5s\tremaining: 57.5s\n"
     ]
    },
    {
     "name": "stderr",
     "output_type": "stream",
     "text": [
      "[I 2025-02-22 06:57:47,008] Trial 12 finished with value: 0.7380401076345243 and parameters: {'iterations': 1575, 'depth': 5, 'learning_rate': 0.06291605319952949, 'l2_leaf_reg': 0.007618883283589744}. Best is trial 11 with value: 0.7382551628906768.\n"
     ]
    },
    {
     "name": "stdout",
     "output_type": "stream",
     "text": [
      "Stopped by overfitting detector  (300 iterations wait)\n",
      "\n",
      "bestTest = 0.7380401076\n",
      "bestIteration = 492\n",
      "\n",
      "Shrink model to first 493 iterations.\n",
      "0:\ttest: 0.7041607\tbest: 0.7041607 (0)\ttotal: 73ms\tremaining: 2m 53s\n",
      "300:\ttest: 0.7377573\tbest: 0.7377637 (298)\ttotal: 19.9s\tremaining: 2m 17s\n",
      "600:\ttest: 0.7380624\tbest: 0.7380678 (598)\ttotal: 41.5s\tremaining: 2m 2s\n",
      "900:\ttest: 0.7380366\tbest: 0.7381487 (776)\ttotal: 1m 3s\tremaining: 1m 43s\n"
     ]
    },
    {
     "name": "stderr",
     "output_type": "stream",
     "text": [
      "[I 2025-02-22 06:59:03,402] Trial 13 finished with value: 0.7381487351980849 and parameters: {'iterations': 2375, 'depth': 6, 'learning_rate': 0.04770713186844759, 'l2_leaf_reg': 2.4019678747564157}. Best is trial 11 with value: 0.7382551628906768.\n"
     ]
    },
    {
     "name": "stdout",
     "output_type": "stream",
     "text": [
      "Stopped by overfitting detector  (300 iterations wait)\n",
      "\n",
      "bestTest = 0.7381487352\n",
      "bestIteration = 776\n",
      "\n",
      "Shrink model to first 777 iterations.\n",
      "0:\ttest: 0.7019941\tbest: 0.7019941 (0)\ttotal: 62.3ms\tremaining: 1m 35s\n",
      "300:\ttest: 0.7360705\tbest: 0.7360705 (300)\ttotal: 16.6s\tremaining: 1m 7s\n",
      "600:\ttest: 0.7371970\tbest: 0.7371970 (600)\ttotal: 33.8s\tremaining: 52.3s\n",
      "900:\ttest: 0.7375813\tbest: 0.7375904 (894)\ttotal: 51.2s\tremaining: 35.9s\n",
      "1200:\ttest: 0.7378677\tbest: 0.7378731 (1190)\ttotal: 1m 8s\tremaining: 19.1s\n",
      "1500:\ttest: 0.7379742\tbest: 0.7379799 (1476)\ttotal: 1m 26s\tremaining: 1.85s\n"
     ]
    },
    {
     "name": "stderr",
     "output_type": "stream",
     "text": [
      "[I 2025-02-22 07:00:32,439] Trial 14 finished with value: 0.7379799089993593 and parameters: {'iterations': 1533, 'depth': 5, 'learning_rate': 0.028668771596853302, 'l2_leaf_reg': 92.74223128282539}. Best is trial 11 with value: 0.7382551628906768.\n"
     ]
    },
    {
     "name": "stdout",
     "output_type": "stream",
     "text": [
      "1532:\ttest: 0.7379662\tbest: 0.7379799 (1476)\ttotal: 1m 28s\tremaining: 0us\n",
      "\n",
      "bestTest = 0.737979909\n",
      "bestIteration = 1476\n",
      "\n",
      "Shrink model to first 1477 iterations.\n",
      "0:\ttest: 0.7200681\tbest: 0.7200681 (0)\ttotal: 94.6ms\tremaining: 4m 21s\n",
      "300:\ttest: 0.7368380\tbest: 0.7369733 (270)\ttotal: 27.1s\tremaining: 3m 41s\n",
      "600:\ttest: 0.7354552\tbest: 0.7369834 (325)\ttotal: 56s\tremaining: 3m 21s\n"
     ]
    },
    {
     "name": "stderr",
     "output_type": "stream",
     "text": [
      "[I 2025-02-22 07:01:31,139] Trial 15 finished with value: 0.7369834071595205 and parameters: {'iterations': 2762, 'depth': 8, 'learning_rate': 0.06696600009766787, 'l2_leaf_reg': 0.17862337730522848}. Best is trial 11 with value: 0.7382551628906768.\n"
     ]
    },
    {
     "name": "stdout",
     "output_type": "stream",
     "text": [
      "Stopped by overfitting detector  (300 iterations wait)\n",
      "\n",
      "bestTest = 0.7369834072\n",
      "bestIteration = 325\n",
      "\n",
      "Shrink model to first 326 iterations.\n",
      "0:\ttest: 0.7041607\tbest: 0.7041607 (0)\ttotal: 73.6ms\tremaining: 2m 45s\n",
      "300:\ttest: 0.7373282\tbest: 0.7375081 (286)\ttotal: 20.7s\tremaining: 2m 14s\n"
     ]
    },
    {
     "name": "stderr",
     "output_type": "stream",
     "text": [
      "[I 2025-02-22 07:02:12,574] Trial 16 finished with value: 0.7375080922690371 and parameters: {'iterations': 2255, 'depth': 6, 'learning_rate': 0.0808891958156232, 'l2_leaf_reg': 0.0037379997864706973}. Best is trial 11 with value: 0.7382551628906768.\n"
     ]
    },
    {
     "name": "stdout",
     "output_type": "stream",
     "text": [
      "Stopped by overfitting detector  (300 iterations wait)\n",
      "\n",
      "bestTest = 0.7375080923\n",
      "bestIteration = 286\n",
      "\n",
      "Shrink model to first 287 iterations.\n",
      "0:\ttest: 0.7019941\tbest: 0.7019941 (0)\ttotal: 62.3ms\tremaining: 1m 53s\n",
      "300:\ttest: 0.7377344\tbest: 0.7377378 (299)\ttotal: 17.2s\tremaining: 1m 26s\n",
      "600:\ttest: 0.7382783\tbest: 0.7382851 (594)\ttotal: 35.2s\tremaining: 1m 11s\n",
      "900:\ttest: 0.7383550\tbest: 0.7384081 (874)\ttotal: 53.4s\tremaining: 54.5s\n",
      "1200:\ttest: 0.7383443\tbest: 0.7384354 (1075)\ttotal: 1m 11s\tremaining: 37s\n"
     ]
    },
    {
     "name": "stderr",
     "output_type": "stream",
     "text": [
      "[I 2025-02-22 07:03:35,120] Trial 17 finished with value: 0.7384354093581844 and parameters: {'iterations': 1821, 'depth': 5, 'learning_rate': 0.05809051245242751, 'l2_leaf_reg': 16.872267184948097}. Best is trial 17 with value: 0.7384354093581844.\n"
     ]
    },
    {
     "name": "stdout",
     "output_type": "stream",
     "text": [
      "Stopped by overfitting detector  (300 iterations wait)\n",
      "\n",
      "bestTest = 0.7384354094\n",
      "bestIteration = 1075\n",
      "\n",
      "Shrink model to first 1076 iterations.\n",
      "저장 완료\n",
      "0:\ttest: 0.7198513\tbest: 0.7198513 (0)\ttotal: 103ms\tremaining: 3m 5s\n",
      "300:\ttest: 0.7377563\tbest: 0.7378045 (269)\ttotal: 22.7s\tremaining: 1m 53s\n",
      "600:\ttest: 0.7378614\tbest: 0.7379465 (492)\ttotal: 47.5s\tremaining: 1m 35s\n"
     ]
    },
    {
     "name": "stderr",
     "output_type": "stream",
     "text": [
      "[I 2025-02-22 07:04:38,847] Trial 18 finished with value: 0.7379464781082342 and parameters: {'iterations': 1804, 'depth': 7, 'learning_rate': 0.05970016430294879, 'l2_leaf_reg': 14.990019474805333}. Best is trial 17 with value: 0.7384354093581844.\n"
     ]
    },
    {
     "name": "stdout",
     "output_type": "stream",
     "text": [
      "Stopped by overfitting detector  (300 iterations wait)\n",
      "\n",
      "bestTest = 0.7379464781\n",
      "bestIteration = 492\n",
      "\n",
      "Shrink model to first 493 iterations.\n",
      "0:\ttest: 0.7019941\tbest: 0.7019941 (0)\ttotal: 62.7ms\tremaining: 1m 45s\n",
      "300:\ttest: 0.7378158\tbest: 0.7378286 (295)\ttotal: 17.4s\tremaining: 1m 19s\n",
      "600:\ttest: 0.7380762\tbest: 0.7381079 (586)\ttotal: 35.5s\tremaining: 1m 3s\n",
      "900:\ttest: 0.7381447\tbest: 0.7382815 (828)\ttotal: 53.7s\tremaining: 46.5s\n"
     ]
    },
    {
     "name": "stderr",
     "output_type": "stream",
     "text": [
      "[I 2025-02-22 07:05:46,623] Trial 19 finished with value: 0.7382814501574837 and parameters: {'iterations': 1681, 'depth': 5, 'learning_rate': 0.07935958534905817, 'l2_leaf_reg': 21.65912588757876}. Best is trial 17 with value: 0.7384354093581844.\n"
     ]
    },
    {
     "name": "stdout",
     "output_type": "stream",
     "text": [
      "Stopped by overfitting detector  (300 iterations wait)\n",
      "\n",
      "bestTest = 0.7382814502\n",
      "bestIteration = 828\n",
      "\n",
      "Shrink model to first 829 iterations.\n",
      "0:\ttest: 0.7200681\tbest: 0.7200681 (0)\ttotal: 94.6ms\tremaining: 2m 35s\n",
      "300:\ttest: 0.7369151\tbest: 0.7375093 (180)\ttotal: 27.6s\tremaining: 2m 2s\n"
     ]
    },
    {
     "name": "stderr",
     "output_type": "stream",
     "text": [
      "[I 2025-02-22 07:06:31,792] Trial 20 finished with value: 0.7375092875057907 and parameters: {'iterations': 1642, 'depth': 8, 'learning_rate': 0.0822537449949236, 'l2_leaf_reg': 1.4447210124395025}. Best is trial 17 with value: 0.7384354093581844.\n"
     ]
    },
    {
     "name": "stdout",
     "output_type": "stream",
     "text": [
      "Stopped by overfitting detector  (300 iterations wait)\n",
      "\n",
      "bestTest = 0.7375092875\n",
      "bestIteration = 180\n",
      "\n",
      "Shrink model to first 181 iterations.\n",
      "0:\ttest: 0.7019941\tbest: 0.7019941 (0)\ttotal: 62.2ms\tremaining: 1m 49s\n",
      "300:\ttest: 0.7380039\tbest: 0.7380039 (300)\ttotal: 17.1s\tremaining: 1m 23s\n",
      "600:\ttest: 0.7383933\tbest: 0.7384468 (570)\ttotal: 35.1s\tremaining: 1m 8s\n",
      "900:\ttest: 0.7384289\tbest: 0.7384869 (823)\ttotal: 53.4s\tremaining: 51.4s\n"
     ]
    },
    {
     "name": "stderr",
     "output_type": "stream",
     "text": [
      "[I 2025-02-22 07:07:39,097] Trial 21 finished with value: 0.7384869077816314 and parameters: {'iterations': 1767, 'depth': 5, 'learning_rate': 0.0726653159522757, 'l2_leaf_reg': 16.28211995711886}. Best is trial 21 with value: 0.7384869077816314.\n"
     ]
    },
    {
     "name": "stdout",
     "output_type": "stream",
     "text": [
      "Stopped by overfitting detector  (300 iterations wait)\n",
      "\n",
      "bestTest = 0.7384869078\n",
      "bestIteration = 823\n",
      "\n",
      "Shrink model to first 824 iterations.\n",
      "저장 완료\n",
      "0:\ttest: 0.7041607\tbest: 0.7041607 (0)\ttotal: 74.2ms\tremaining: 2m 13s\n",
      "300:\ttest: 0.7375832\tbest: 0.7375832 (300)\ttotal: 19.9s\tremaining: 1m 39s\n",
      "600:\ttest: 0.7379655\tbest: 0.7379741 (595)\ttotal: 41.5s\tremaining: 1m 23s\n",
      "900:\ttest: 0.7380981\tbest: 0.7381301 (830)\ttotal: 1m 3s\tremaining: 1m 3s\n",
      "1200:\ttest: 0.7380820\tbest: 0.7382138 (1012)\ttotal: 1m 24s\tremaining: 42.7s\n"
     ]
    },
    {
     "name": "stderr",
     "output_type": "stream",
     "text": [
      "[I 2025-02-22 07:09:12,176] Trial 22 finished with value: 0.7382137902271027 and parameters: {'iterations': 1806, 'depth': 6, 'learning_rate': 0.056297299910920764, 'l2_leaf_reg': 9.4678075368449}. Best is trial 21 with value: 0.7384869077816314.\n"
     ]
    },
    {
     "name": "stdout",
     "output_type": "stream",
     "text": [
      "Stopped by overfitting detector  (300 iterations wait)\n",
      "\n",
      "bestTest = 0.7382137902\n",
      "bestIteration = 1012\n",
      "\n",
      "Shrink model to first 1013 iterations.\n",
      "0:\ttest: 0.7019941\tbest: 0.7019941 (0)\ttotal: 62.8ms\tremaining: 2m 7s\n",
      "300:\ttest: 0.7379222\tbest: 0.7379295 (292)\ttotal: 17.5s\tremaining: 1m 40s\n",
      "600:\ttest: 0.7380115\tbest: 0.7380753 (529)\ttotal: 35.6s\tremaining: 1m 24s\n"
     ]
    },
    {
     "name": "stderr",
     "output_type": "stream",
     "text": [
      "[I 2025-02-22 07:10:02,017] Trial 23 finished with value: 0.7380753413079952 and parameters: {'iterations': 2029, 'depth': 5, 'learning_rate': 0.09976304646445021, 'l2_leaf_reg': 27.49330041740836}. Best is trial 21 with value: 0.7384869077816314.\n"
     ]
    },
    {
     "name": "stdout",
     "output_type": "stream",
     "text": [
      "Stopped by overfitting detector  (300 iterations wait)\n",
      "\n",
      "bestTest = 0.7380753413\n",
      "bestIteration = 529\n",
      "\n",
      "Shrink model to first 530 iterations.\n",
      "0:\ttest: 0.7041607\tbest: 0.7041607 (0)\ttotal: 73.1ms\tremaining: 1m 50s\n",
      "300:\ttest: 0.7374573\tbest: 0.7375790 (273)\ttotal: 20.4s\tremaining: 1m 22s\n",
      "600:\ttest: 0.7376552\tbest: 0.7376552 (600)\ttotal: 42s\tremaining: 1m 4s\n",
      "900:\ttest: 0.7375895\tbest: 0.7376978 (643)\ttotal: 1m 3s\tremaining: 43.7s\n"
     ]
    },
    {
     "name": "stderr",
     "output_type": "stream",
     "text": [
      "[I 2025-02-22 07:11:09,080] Trial 24 finished with value: 0.7376977735622143 and parameters: {'iterations': 1519, 'depth': 6, 'learning_rate': 0.07361319355779367, 'l2_leaf_reg': 4.874077474849298}. Best is trial 21 with value: 0.7384869077816314.\n"
     ]
    },
    {
     "name": "stdout",
     "output_type": "stream",
     "text": [
      "Stopped by overfitting detector  (300 iterations wait)\n",
      "\n",
      "bestTest = 0.7376977736\n",
      "bestIteration = 643\n",
      "\n",
      "Shrink model to first 644 iterations.\n",
      "0:\ttest: 0.7019941\tbest: 0.7019941 (0)\ttotal: 65.6ms\tremaining: 2m 1s\n",
      "300:\ttest: 0.7383073\tbest: 0.7383160 (291)\ttotal: 17.9s\tremaining: 1m 31s\n",
      "600:\ttest: 0.7381752\tbest: 0.7383787 (341)\ttotal: 36.1s\tremaining: 1m 15s\n"
     ]
    },
    {
     "name": "stderr",
     "output_type": "stream",
     "text": [
      "[I 2025-02-22 07:11:47,889] Trial 25 finished with value: 0.7383787170155556 and parameters: {'iterations': 1849, 'depth': 5, 'learning_rate': 0.08777248671491596, 'l2_leaf_reg': 0.5508622966576896}. Best is trial 21 with value: 0.7384869077816314.\n"
     ]
    },
    {
     "name": "stdout",
     "output_type": "stream",
     "text": [
      "Stopped by overfitting detector  (300 iterations wait)\n",
      "\n",
      "bestTest = 0.738378717\n",
      "bestIteration = 341\n",
      "\n",
      "Shrink model to first 342 iterations.\n",
      "0:\ttest: 0.6968205\tbest: 0.6968205 (0)\ttotal: 55.8ms\tremaining: 1m 44s\n",
      "300:\ttest: 0.7377603\tbest: 0.7377625 (299)\ttotal: 14.2s\tremaining: 1m 13s\n",
      "600:\ttest: 0.7378538\tbest: 0.7379574 (423)\ttotal: 29s\tremaining: 1m 1s\n",
      "900:\ttest: 0.7379777\tbest: 0.7380101 (739)\ttotal: 43.9s\tremaining: 47.1s\n"
     ]
    },
    {
     "name": "stderr",
     "output_type": "stream",
     "text": [
      "[I 2025-02-22 07:12:38,971] Trial 26 finished with value: 0.7380101314144147 and parameters: {'iterations': 1868, 'depth': 4, 'learning_rate': 0.08702868599844452, 'l2_leaf_reg': 0.44442244683083026}. Best is trial 21 with value: 0.7384869077816314.\n"
     ]
    },
    {
     "name": "stdout",
     "output_type": "stream",
     "text": [
      "Stopped by overfitting detector  (300 iterations wait)\n",
      "\n",
      "bestTest = 0.7380101314\n",
      "bestIteration = 739\n",
      "\n",
      "Shrink model to first 740 iterations.\n",
      "0:\ttest: 0.7019941\tbest: 0.7019941 (0)\ttotal: 63.3ms\tremaining: 2m 9s\n",
      "300:\ttest: 0.7380747\tbest: 0.7380990 (288)\ttotal: 17.2s\tremaining: 1m 40s\n",
      "600:\ttest: 0.7378956\tbest: 0.7381912 (373)\ttotal: 35.4s\tremaining: 1m 25s\n"
     ]
    },
    {
     "name": "stderr",
     "output_type": "stream",
     "text": [
      "[I 2025-02-22 07:13:19,037] Trial 27 finished with value: 0.7381911800009398 and parameters: {'iterations': 2050, 'depth': 5, 'learning_rate': 0.06609053612740504, 'l2_leaf_reg': 0.06591866053918498}. Best is trial 21 with value: 0.7384869077816314.\n"
     ]
    },
    {
     "name": "stdout",
     "output_type": "stream",
     "text": [
      "Stopped by overfitting detector  (300 iterations wait)\n",
      "\n",
      "bestTest = 0.73819118\n",
      "bestIteration = 373\n",
      "\n",
      "Shrink model to first 374 iterations.\n",
      "0:\ttest: 0.7041607\tbest: 0.7041607 (0)\ttotal: 77.1ms\tremaining: 2m 45s\n",
      "300:\ttest: 0.7376224\tbest: 0.7376808 (295)\ttotal: 20.6s\tremaining: 2m 6s\n"
     ]
    },
    {
     "name": "stderr",
     "output_type": "stream",
     "text": [
      "[I 2025-02-22 07:14:00,818] Trial 28 finished with value: 0.7376808456742389 and parameters: {'iterations': 2148, 'depth': 6, 'learning_rate': 0.08834532329276314, 'l2_leaf_reg': 3.675231977768202}. Best is trial 21 with value: 0.7384869077816314.\n"
     ]
    },
    {
     "name": "stdout",
     "output_type": "stream",
     "text": [
      "Stopped by overfitting detector  (300 iterations wait)\n",
      "\n",
      "bestTest = 0.7376808457\n",
      "bestIteration = 295\n",
      "\n",
      "Shrink model to first 296 iterations.\n",
      "0:\ttest: 0.7200681\tbest: 0.7200681 (0)\ttotal: 94.6ms\tremaining: 2m 51s\n",
      "300:\ttest: 0.7369993\tbest: 0.7370467 (279)\ttotal: 26.5s\tremaining: 2m 13s\n",
      "600:\ttest: 0.7365717\tbest: 0.7370551 (314)\ttotal: 55.7s\tremaining: 1m 52s\n"
     ]
    },
    {
     "name": "stderr",
     "output_type": "stream",
     "text": [
      "[I 2025-02-22 07:14:58,148] Trial 29 finished with value: 0.7370550737141024 and parameters: {'iterations': 1815, 'depth': 8, 'learning_rate': 0.05586479651573109, 'l2_leaf_reg': 0.7870613094893513}. Best is trial 21 with value: 0.7384869077816314.\n"
     ]
    },
    {
     "name": "stdout",
     "output_type": "stream",
     "text": [
      "Stopped by overfitting detector  (300 iterations wait)\n",
      "\n",
      "bestTest = 0.7370550737\n",
      "bestIteration = 314\n",
      "\n",
      "Shrink model to first 315 iterations.\n",
      "0:\ttest: 0.6968205\tbest: 0.6968205 (0)\ttotal: 54.6ms\tremaining: 1m 29s\n",
      "300:\ttest: 0.7376192\tbest: 0.7376192 (300)\ttotal: 14.1s\tremaining: 1m 2s\n",
      "600:\ttest: 0.7378928\tbest: 0.7379475 (411)\ttotal: 28.8s\tremaining: 49.7s\n"
     ]
    },
    {
     "name": "stderr",
     "output_type": "stream",
     "text": [
      "[I 2025-02-22 07:15:32,726] Trial 30 finished with value: 0.737947498625994 and parameters: {'iterations': 1637, 'depth': 4, 'learning_rate': 0.07114213512668371, 'l2_leaf_reg': 6.8178118163748564}. Best is trial 21 with value: 0.7384869077816314.\n"
     ]
    },
    {
     "name": "stdout",
     "output_type": "stream",
     "text": [
      "Stopped by overfitting detector  (300 iterations wait)\n",
      "\n",
      "bestTest = 0.7379474986\n",
      "bestIteration = 411\n",
      "\n",
      "Shrink model to first 412 iterations.\n",
      "0:\ttest: 0.7019941\tbest: 0.7019941 (0)\ttotal: 65.7ms\tremaining: 1m 54s\n",
      "300:\ttest: 0.7376785\tbest: 0.7376792 (298)\ttotal: 17.3s\tremaining: 1m 23s\n",
      "600:\ttest: 0.7378120\tbest: 0.7378137 (597)\ttotal: 35.4s\tremaining: 1m 7s\n",
      "900:\ttest: 0.7378376\tbest: 0.7379537 (756)\ttotal: 53.8s\tremaining: 50.8s\n"
     ]
    },
    {
     "name": "stderr",
     "output_type": "stream",
     "text": [
      "[I 2025-02-22 07:16:36,257] Trial 31 finished with value: 0.7379536971793905 and parameters: {'iterations': 1752, 'depth': 5, 'learning_rate': 0.07759104307206614, 'l2_leaf_reg': 22.750598298229907}. Best is trial 21 with value: 0.7384869077816314.\n"
     ]
    },
    {
     "name": "stdout",
     "output_type": "stream",
     "text": [
      "Stopped by overfitting detector  (300 iterations wait)\n",
      "\n",
      "bestTest = 0.7379536972\n",
      "bestIteration = 756\n",
      "\n",
      "Shrink model to first 757 iterations.\n",
      "0:\ttest: 0.7019941\tbest: 0.7019941 (0)\ttotal: 61.8ms\tremaining: 2m\n",
      "300:\ttest: 0.7379766\tbest: 0.7379945 (293)\ttotal: 17.3s\tremaining: 1m 35s\n",
      "600:\ttest: 0.7383749\tbest: 0.7383785 (491)\ttotal: 35.6s\tremaining: 1m 20s\n",
      "900:\ttest: 0.7382809\tbest: 0.7383896 (620)\ttotal: 54.7s\tremaining: 1m 3s\n"
     ]
    },
    {
     "name": "stderr",
     "output_type": "stream",
     "text": [
      "[I 2025-02-22 07:17:33,060] Trial 32 finished with value: 0.7383896170982422 and parameters: {'iterations': 1953, 'depth': 5, 'learning_rate': 0.08774190197538594, 'l2_leaf_reg': 30.705068382369717}. Best is trial 21 with value: 0.7384869077816314.\n"
     ]
    },
    {
     "name": "stdout",
     "output_type": "stream",
     "text": [
      "Stopped by overfitting detector  (300 iterations wait)\n",
      "\n",
      "bestTest = 0.7383896171\n",
      "bestIteration = 620\n",
      "\n",
      "Shrink model to first 621 iterations.\n",
      "0:\ttest: 0.6968205\tbest: 0.6968205 (0)\ttotal: 92.7ms\tremaining: 3m\n",
      "300:\ttest: 0.7373451\tbest: 0.7373488 (294)\ttotal: 14.9s\tremaining: 1m 21s\n",
      "600:\ttest: 0.7374104\tbest: 0.7375102 (505)\ttotal: 29.6s\tremaining: 1m 6s\n",
      "900:\ttest: 0.7375401\tbest: 0.7375958 (859)\ttotal: 44.3s\tremaining: 51.6s\n"
     ]
    },
    {
     "name": "stderr",
     "output_type": "stream",
     "text": [
      "[I 2025-02-22 07:18:30,535] Trial 33 finished with value: 0.7375957932621939 and parameters: {'iterations': 1949, 'depth': 4, 'learning_rate': 0.0900618046895397, 'l2_leaf_reg': 38.871499162303564}. Best is trial 21 with value: 0.7384869077816314.\n"
     ]
    },
    {
     "name": "stdout",
     "output_type": "stream",
     "text": [
      "Stopped by overfitting detector  (300 iterations wait)\n",
      "\n",
      "bestTest = 0.7375957933\n",
      "bestIteration = 859\n",
      "\n",
      "Shrink model to first 860 iterations.\n",
      "0:\ttest: 0.7041607\tbest: 0.7041607 (0)\ttotal: 73.6ms\tremaining: 2m 35s\n",
      "300:\ttest: 0.7376727\tbest: 0.7378213 (232)\ttotal: 21.2s\tremaining: 2m 7s\n",
      "600:\ttest: 0.7378855\tbest: 0.7379444 (590)\ttotal: 42.6s\tremaining: 1m 47s\n"
     ]
    },
    {
     "name": "stderr",
     "output_type": "stream",
     "text": [
      "[I 2025-02-22 07:19:34,438] Trial 34 finished with value: 0.737944353684104 and parameters: {'iterations': 2116, 'depth': 6, 'learning_rate': 0.09911011287592869, 'l2_leaf_reg': 9.157617954940095}. Best is trial 21 with value: 0.7384869077816314.\n"
     ]
    },
    {
     "name": "stdout",
     "output_type": "stream",
     "text": [
      "Stopped by overfitting detector  (300 iterations wait)\n",
      "\n",
      "bestTest = 0.7379443537\n",
      "bestIteration = 590\n",
      "\n",
      "Shrink model to first 591 iterations.\n",
      "0:\ttest: 0.6968205\tbest: 0.6968205 (0)\ttotal: 53.7ms\tremaining: 1m 40s\n",
      "300:\ttest: 0.7380789\tbest: 0.7381082 (295)\ttotal: 14.3s\tremaining: 1m 14s\n",
      "600:\ttest: 0.7382388\tbest: 0.7382900 (565)\ttotal: 30s\tremaining: 1m 3s\n",
      "900:\ttest: 0.7382354\tbest: 0.7383450 (720)\ttotal: 45s\tremaining: 48.3s\n"
     ]
    },
    {
     "name": "stderr",
     "output_type": "stream",
     "text": [
      "[I 2025-02-22 07:20:25,667] Trial 35 finished with value: 0.7383450200750535 and parameters: {'iterations': 1868, 'depth': 4, 'learning_rate': 0.08533107121187883, 'l2_leaf_reg': 2.3840346595888806}. Best is trial 21 with value: 0.7384869077816314.\n"
     ]
    },
    {
     "name": "stdout",
     "output_type": "stream",
     "text": [
      "Stopped by overfitting detector  (300 iterations wait)\n",
      "\n",
      "bestTest = 0.7383450201\n",
      "bestIteration = 720\n",
      "\n",
      "Shrink model to first 721 iterations.\n",
      "0:\ttest: 0.7019941\tbest: 0.7019941 (0)\ttotal: 63.6ms\tremaining: 2m 22s\n",
      "300:\ttest: 0.7379672\tbest: 0.7379718 (295)\ttotal: 17.7s\tremaining: 1m 54s\n",
      "600:\ttest: 0.7382536\tbest: 0.7383251 (473)\ttotal: 35.7s\tremaining: 1m 37s\n"
     ]
    },
    {
     "name": "stderr",
     "output_type": "stream",
     "text": [
      "[I 2025-02-22 07:21:12,198] Trial 36 finished with value: 0.7383250743135473 and parameters: {'iterations': 2246, 'depth': 5, 'learning_rate': 0.09435720349740119, 'l2_leaf_reg': 38.52415081349664}. Best is trial 21 with value: 0.7384869077816314.\n"
     ]
    },
    {
     "name": "stdout",
     "output_type": "stream",
     "text": [
      "Stopped by overfitting detector  (300 iterations wait)\n",
      "\n",
      "bestTest = 0.7383250743\n",
      "bestIteration = 473\n",
      "\n",
      "Shrink model to first 474 iterations.\n",
      "0:\ttest: 0.6968205\tbest: 0.6968205 (0)\ttotal: 55ms\tremaining: 1m 36s\n",
      "300:\ttest: 0.7374161\tbest: 0.7374203 (295)\ttotal: 14s\tremaining: 1m 7s\n",
      "600:\ttest: 0.7377643\tbest: 0.7378500 (478)\ttotal: 28.7s\tremaining: 55.1s\n"
     ]
    },
    {
     "name": "stderr",
     "output_type": "stream",
     "text": [
      "[I 2025-02-22 07:21:49,883] Trial 37 finished with value: 0.737850017340066 and parameters: {'iterations': 1757, 'depth': 4, 'learning_rate': 0.06215361260711079, 'l2_leaf_reg': 0.02694078029855476}. Best is trial 21 with value: 0.7384869077816314.\n"
     ]
    },
    {
     "name": "stdout",
     "output_type": "stream",
     "text": [
      "Stopped by overfitting detector  (300 iterations wait)\n",
      "\n",
      "bestTest = 0.7378500173\n",
      "bestIteration = 478\n",
      "\n",
      "Shrink model to first 479 iterations.\n",
      "0:\ttest: 0.7198513\tbest: 0.7198513 (0)\ttotal: 86.1ms\tremaining: 2m 51s\n",
      "300:\ttest: 0.7380059\tbest: 0.7381007 (258)\ttotal: 23.5s\tremaining: 2m 11s\n"
     ]
    },
    {
     "name": "stderr",
     "output_type": "stream",
     "text": [
      "[I 2025-02-22 07:22:34,960] Trial 38 finished with value: 0.7381007311545155 and parameters: {'iterations': 1990, 'depth': 7, 'learning_rate': 0.07515561797458556, 'l2_leaf_reg': 14.058444968654145}. Best is trial 21 with value: 0.7384869077816314.\n"
     ]
    },
    {
     "name": "stdout",
     "output_type": "stream",
     "text": [
      "Stopped by overfitting detector  (300 iterations wait)\n",
      "\n",
      "bestTest = 0.7381007312\n",
      "bestIteration = 258\n",
      "\n",
      "Shrink model to first 259 iterations.\n",
      "0:\ttest: 0.6968205\tbest: 0.6968205 (0)\ttotal: 53.6ms\tremaining: 2m 9s\n",
      "300:\ttest: 0.7337959\tbest: 0.7337959 (300)\ttotal: 13.1s\tremaining: 1m 31s\n",
      "600:\ttest: 0.7355785\tbest: 0.7355785 (600)\ttotal: 26.6s\tremaining: 1m 20s\n",
      "900:\ttest: 0.7365649\tbest: 0.7365649 (900)\ttotal: 41.2s\tremaining: 1m 9s\n",
      "1200:\ttest: 0.7372179\tbest: 0.7372186 (1199)\ttotal: 56.2s\tremaining: 56.5s\n",
      "1500:\ttest: 0.7375538\tbest: 0.7375541 (1490)\ttotal: 1m 10s\tremaining: 42.9s\n",
      "1800:\ttest: 0.7377732\tbest: 0.7377732 (1800)\ttotal: 1m 25s\tremaining: 28.9s\n",
      "2100:\ttest: 0.7378888\tbest: 0.7378888 (2100)\ttotal: 1m 40s\tremaining: 14.7s\n",
      "2400:\ttest: 0.7378944\tbest: 0.7379112 (2292)\ttotal: 1m 55s\tremaining: 385ms\n"
     ]
    },
    {
     "name": "stderr",
     "output_type": "stream",
     "text": [
      "[I 2025-02-22 07:24:31,250] Trial 39 finished with value: 0.7379111729588113 and parameters: {'iterations': 2409, 'depth': 4, 'learning_rate': 0.014284623510498556, 'l2_leaf_reg': 0.7814264783486997}. Best is trial 21 with value: 0.7384869077816314.\n",
      "[I 2025-02-22 07:24:31,253] A new study created in memory with name: no-name-8d393a33-3650-427b-b5f9-83c825ebc638\n"
     ]
    },
    {
     "name": "stdout",
     "output_type": "stream",
     "text": [
      "2408:\ttest: 0.7378918\tbest: 0.7379112 (2292)\ttotal: 1m 55s\tremaining: 0us\n",
      "\n",
      "bestTest = 0.737911173\n",
      "bestIteration = 2292\n",
      "\n",
      "Shrink model to first 2293 iterations.\n"
     ]
    },
    {
     "name": "stderr",
     "output_type": "stream",
     "text": [
      "[I 2025-02-22 07:24:54,499] Trial 0 finished with value: 0.728906144101428 and parameters: {'num_iterations': 2366, 'objective': 'binary', 'metric': 'auc', 'verbose': -1, 'learning_rate': 0.0652646236447618, 'n_estimators': 236, 'min_child_samples': 45, 'subsample': 0.7, 'colsample_bytree': 0.5}. Best is trial 0 with value: 0.728906144101428.\n",
      "[I 2025-02-22 07:25:11,434] Trial 1 finished with value: 0.7373665817966507 and parameters: {'num_iterations': 1510, 'objective': 'binary', 'metric': 'auc', 'verbose': -1, 'learning_rate': 0.005231880959249543, 'n_estimators': 1411, 'min_child_samples': 10, 'subsample': 1.0, 'colsample_bytree': 0.5}. Best is trial 1 with value: 0.7373665817966507.\n",
      "[I 2025-02-22 07:25:30,643] Trial 2 finished with value: 0.7366186733180176 and parameters: {'num_iterations': 2334, 'objective': 'binary', 'metric': 'auc', 'verbose': -1, 'learning_rate': 0.006578527777128852, 'n_estimators': 931, 'min_child_samples': 15, 'subsample': 0.5, 'colsample_bytree': 1.0}. Best is trial 1 with value: 0.7373665817966507.\n",
      "[I 2025-02-22 07:25:46,644] Trial 3 finished with value: 0.7370427361706025 and parameters: {'num_iterations': 1620, 'objective': 'binary', 'metric': 'auc', 'verbose': -1, 'learning_rate': 0.0058823249237283685, 'n_estimators': 837, 'min_child_samples': 10, 'subsample': 0.9, 'colsample_bytree': 0.6}. Best is trial 1 with value: 0.7373665817966507.\n",
      "[I 2025-02-22 07:26:02,765] Trial 4 finished with value: 0.7365732185834044 and parameters: {'num_iterations': 1997, 'objective': 'binary', 'metric': 'auc', 'verbose': -1, 'learning_rate': 0.010907507425244923, 'n_estimators': 1597, 'min_child_samples': 50, 'subsample': 0.6, 'colsample_bytree': 0.8}. Best is trial 1 with value: 0.7373665817966507.\n",
      "[I 2025-02-22 07:26:25,078] Trial 5 finished with value: 0.7343449398949189 and parameters: {'num_iterations': 2909, 'objective': 'binary', 'metric': 'auc', 'verbose': -1, 'learning_rate': 0.019760591962733942, 'n_estimators': 612, 'min_child_samples': 30, 'subsample': 0.7, 'colsample_bytree': 0.9}. Best is trial 1 with value: 0.7373665817966507.\n",
      "[I 2025-02-22 07:26:45,552] Trial 6 finished with value: 0.7347674461601038 and parameters: {'num_iterations': 2639, 'objective': 'binary', 'metric': 'auc', 'verbose': -1, 'learning_rate': 0.017862094446750985, 'n_estimators': 794, 'min_child_samples': 35, 'subsample': 1.0, 'colsample_bytree': 0.8}. Best is trial 1 with value: 0.7373665817966507.\n",
      "[I 2025-02-22 07:27:02,122] Trial 7 finished with value: 0.7371426595515586 and parameters: {'num_iterations': 1580, 'objective': 'binary', 'metric': 'auc', 'verbose': -1, 'learning_rate': 0.01776722177611332, 'n_estimators': 529, 'min_child_samples': 25, 'subsample': 0.8, 'colsample_bytree': 0.5}. Best is trial 1 with value: 0.7373665817966507.\n",
      "[I 2025-02-22 07:27:19,307] Trial 8 finished with value: 0.7338632158034665 and parameters: {'num_iterations': 1911, 'objective': 'binary', 'metric': 'auc', 'verbose': -1, 'learning_rate': 0.0304747553332844, 'n_estimators': 1328, 'min_child_samples': 10, 'subsample': 0.7, 'colsample_bytree': 0.6}. Best is trial 1 with value: 0.7373665817966507.\n",
      "[I 2025-02-22 07:27:46,944] Trial 9 finished with value: 0.7341584472233801 and parameters: {'num_iterations': 2739, 'objective': 'binary', 'metric': 'auc', 'verbose': -1, 'learning_rate': 0.02691531614176271, 'n_estimators': 1438, 'min_child_samples': 20, 'subsample': 0.6, 'colsample_bytree': 0.5}. Best is trial 1 with value: 0.7373665817966507.\n",
      "[I 2025-02-22 07:28:01,661] Trial 10 finished with value: 0.7269230160157913 and parameters: {'num_iterations': 1933, 'objective': 'binary', 'metric': 'auc', 'verbose': -1, 'learning_rate': 0.08223556891145911, 'n_estimators': 1960, 'min_child_samples': 40, 'subsample': 1.0, 'colsample_bytree': 0.7}. Best is trial 1 with value: 0.7373665817966507.\n",
      "[I 2025-02-22 07:28:18,041] Trial 11 finished with value: 0.7374297784509154 and parameters: {'num_iterations': 1513, 'objective': 'binary', 'metric': 'auc', 'verbose': -1, 'learning_rate': 0.009791292266126196, 'n_estimators': 299, 'min_child_samples': 25, 'subsample': 0.9, 'colsample_bytree': 0.5}. Best is trial 11 with value: 0.7374297784509154.\n",
      "[I 2025-02-22 07:28:32,909] Trial 12 finished with value: 0.7371549970950585 and parameters: {'num_iterations': 1550, 'objective': 'binary', 'metric': 'auc', 'verbose': -1, 'learning_rate': 0.009303222125489579, 'n_estimators': 217, 'min_child_samples': 20, 'subsample': 0.9, 'colsample_bytree': 0.6}. Best is trial 11 with value: 0.7374297784509154.\n",
      "[I 2025-02-22 07:28:48,559] Trial 13 finished with value: 0.7368239919611473 and parameters: {'num_iterations': 1777, 'objective': 'binary', 'metric': 'auc', 'verbose': -1, 'learning_rate': 0.005144110939690685, 'n_estimators': 1108, 'min_child_samples': 30, 'subsample': 0.9, 'colsample_bytree': 0.7}. Best is trial 11 with value: 0.7374297784509154.\n",
      "[I 2025-02-22 07:29:11,465] Trial 14 finished with value: 0.7373009112802681 and parameters: {'num_iterations': 2165, 'objective': 'binary', 'metric': 'auc', 'verbose': -1, 'learning_rate': 0.00937245035506795, 'n_estimators': 1729, 'min_child_samples': 20, 'subsample': 1.0, 'colsample_bytree': 0.5}. Best is trial 11 with value: 0.7374297784509154.\n",
      "[I 2025-02-22 07:29:27,861] Trial 15 finished with value: 0.7368141997557174 and parameters: {'num_iterations': 1747, 'objective': 'binary', 'metric': 'auc', 'verbose': -1, 'learning_rate': 0.012267428579985053, 'n_estimators': 1154, 'min_child_samples': 15, 'subsample': 0.8, 'colsample_bytree': 0.6}. Best is trial 11 with value: 0.7374297784509154.\n",
      "[I 2025-02-22 07:29:40,960] Trial 16 finished with value: 0.7370326580613644 and parameters: {'num_iterations': 1514, 'objective': 'binary', 'metric': 'auc', 'verbose': -1, 'learning_rate': 0.007265291685874385, 'n_estimators': 457, 'min_child_samples': 25, 'subsample': 0.9, 'colsample_bytree': 0.7}. Best is trial 11 with value: 0.7374297784509154.\n",
      "[I 2025-02-22 07:30:01,975] Trial 17 finished with value: 0.7332081625283097 and parameters: {'num_iterations': 2097, 'objective': 'binary', 'metric': 'auc', 'verbose': -1, 'learning_rate': 0.04185066447577332, 'n_estimators': 1331, 'min_child_samples': 35, 'subsample': 1.0, 'colsample_bytree': 0.5}. Best is trial 11 with value: 0.7374297784509154.\n",
      "[I 2025-02-22 07:30:18,571] Trial 18 finished with value: 0.7369976149904323 and parameters: {'num_iterations': 1774, 'objective': 'binary', 'metric': 'auc', 'verbose': -1, 'learning_rate': 0.01356820322695768, 'n_estimators': 127, 'min_child_samples': 10, 'subsample': 0.8, 'colsample_bytree': 0.6}. Best is trial 11 with value: 0.7374297784509154.\n",
      "[I 2025-02-22 07:30:38,940] Trial 19 finished with value: 0.7367044563731279 and parameters: {'num_iterations': 2510, 'objective': 'binary', 'metric': 'auc', 'verbose': -1, 'learning_rate': 0.007690845051468829, 'n_estimators': 1904, 'min_child_samples': 15, 'subsample': 0.9, 'colsample_bytree': 0.9}. Best is trial 11 with value: 0.7374297784509154.\n",
      "[I 2025-02-22 07:30:57,909] Trial 20 finished with value: 0.7374682682510905 and parameters: {'num_iterations': 1695, 'objective': 'binary', 'metric': 'auc', 'verbose': -1, 'learning_rate': 0.0052222335474748725, 'n_estimators': 1561, 'min_child_samples': 25, 'subsample': 1.0, 'colsample_bytree': 0.5}. Best is trial 20 with value: 0.7374682682510905.\n",
      "[I 2025-02-22 07:31:16,841] Trial 21 finished with value: 0.7374922603456596 and parameters: {'num_iterations': 1703, 'objective': 'binary', 'metric': 'auc', 'verbose': -1, 'learning_rate': 0.00533390947569749, 'n_estimators': 1598, 'min_child_samples': 25, 'subsample': 1.0, 'colsample_bytree': 0.5}. Best is trial 21 with value: 0.7374922603456596.\n",
      "[I 2025-02-22 07:31:33,338] Trial 22 finished with value: 0.7372073572008162 and parameters: {'num_iterations': 1714, 'objective': 'binary', 'metric': 'auc', 'verbose': -1, 'learning_rate': 0.008093441425043977, 'n_estimators': 1686, 'min_child_samples': 25, 'subsample': 1.0, 'colsample_bytree': 0.6}. Best is trial 21 with value: 0.7374922603456596.\n",
      "[I 2025-02-22 07:31:53,648] Trial 23 finished with value: 0.7374669856548399 and parameters: {'num_iterations': 1835, 'objective': 'binary', 'metric': 'auc', 'verbose': -1, 'learning_rate': 0.005114670415807696, 'n_estimators': 1820, 'min_child_samples': 35, 'subsample': 0.9, 'colsample_bytree': 0.5}. Best is trial 21 with value: 0.7374922603456596.\n",
      "[I 2025-02-22 07:32:14,431] Trial 24 finished with value: 0.7374084031703683 and parameters: {'num_iterations': 1878, 'objective': 'binary', 'metric': 'auc', 'verbose': -1, 'learning_rate': 0.005037110988103755, 'n_estimators': 1785, 'min_child_samples': 35, 'subsample': 1.0, 'colsample_bytree': 0.5}. Best is trial 21 with value: 0.7374922603456596.\n",
      "[I 2025-02-22 07:32:34,386] Trial 25 finished with value: 0.7371110235010071 and parameters: {'num_iterations': 2069, 'objective': 'binary', 'metric': 'auc', 'verbose': -1, 'learning_rate': 0.0065277576736353805, 'n_estimators': 1560, 'min_child_samples': 40, 'subsample': 0.9, 'colsample_bytree': 0.6}. Best is trial 21 with value: 0.7374922603456596.\n",
      "[I 2025-02-22 07:32:48,418] Trial 26 finished with value: 0.7364010488984778 and parameters: {'num_iterations': 1709, 'objective': 'binary', 'metric': 'auc', 'verbose': -1, 'learning_rate': 0.01475078422723085, 'n_estimators': 1985, 'min_child_samples': 30, 'subsample': 0.8, 'colsample_bytree': 0.7}. Best is trial 21 with value: 0.7374922603456596.\n",
      "[I 2025-02-22 07:33:08,399] Trial 27 finished with value: 0.7373997784054884 and parameters: {'num_iterations': 1847, 'objective': 'binary', 'metric': 'auc', 'verbose': -1, 'learning_rate': 0.007737369614990839, 'n_estimators': 1231, 'min_child_samples': 40, 'subsample': 1.0, 'colsample_bytree': 0.5}. Best is trial 21 with value: 0.7374922603456596.\n",
      "[I 2025-02-22 07:33:24,613] Trial 28 finished with value: 0.7371697092285207 and parameters: {'num_iterations': 1650, 'objective': 'binary', 'metric': 'auc', 'verbose': -1, 'learning_rate': 0.006346086972515756, 'n_estimators': 1544, 'min_child_samples': 30, 'subsample': 0.9, 'colsample_bytree': 0.6}. Best is trial 21 with value: 0.7374922603456596.\n",
      "[I 2025-02-22 07:33:44,585] Trial 29 finished with value: 0.7305484113135441 and parameters: {'num_iterations': 2010, 'objective': 'binary', 'metric': 'auc', 'verbose': -1, 'learning_rate': 0.05864212774898969, 'n_estimators': 1812, 'min_child_samples': 45, 'subsample': 1.0, 'colsample_bytree': 0.5}. Best is trial 21 with value: 0.7374922603456596.\n",
      "[I 2025-02-22 07:34:03,975] Trial 30 finished with value: 0.7373346042498838 and parameters: {'num_iterations': 1819, 'objective': 'binary', 'metric': 'auc', 'verbose': -1, 'learning_rate': 0.01107968634748257, 'n_estimators': 1829, 'min_child_samples': 35, 'subsample': 0.8, 'colsample_bytree': 0.5}. Best is trial 21 with value: 0.7374922603456596.\n",
      "[I 2025-02-22 07:34:21,844] Trial 31 finished with value: 0.7374894330746676 and parameters: {'num_iterations': 1641, 'objective': 'binary', 'metric': 'auc', 'verbose': -1, 'learning_rate': 0.009115170463280404, 'n_estimators': 356, 'min_child_samples': 25, 'subsample': 0.9, 'colsample_bytree': 0.5}. Best is trial 21 with value: 0.7374922603456596.\n",
      "[I 2025-02-22 07:34:40,337] Trial 32 finished with value: 0.7374197678467431 and parameters: {'num_iterations': 1655, 'objective': 'binary', 'metric': 'auc', 'verbose': -1, 'learning_rate': 0.005131195053211401, 'n_estimators': 1653, 'min_child_samples': 20, 'subsample': 0.9, 'colsample_bytree': 0.5}. Best is trial 21 with value: 0.7374922603456596.\n",
      "[I 2025-02-22 07:35:02,141] Trial 33 finished with value: 0.7372412566565157 and parameters: {'num_iterations': 2276, 'objective': 'binary', 'metric': 'auc', 'verbose': -1, 'learning_rate': 0.006027670501520906, 'n_estimators': 1515, 'min_child_samples': 25, 'subsample': 1.0, 'colsample_bytree': 0.6}. Best is trial 21 with value: 0.7374922603456596.\n",
      "[I 2025-02-22 07:35:20,952] Trial 34 finished with value: 0.7374516302378094 and parameters: {'num_iterations': 1703, 'objective': 'binary', 'metric': 'auc', 'verbose': -1, 'learning_rate': 0.0062284313747595875, 'n_estimators': 986, 'min_child_samples': 30, 'subsample': 0.9, 'colsample_bytree': 0.5}. Best is trial 21 with value: 0.7374922603456596.\n",
      "[I 2025-02-22 07:35:38,621] Trial 35 finished with value: 0.7373112197009072 and parameters: {'num_iterations': 1628, 'objective': 'binary', 'metric': 'auc', 'verbose': -1, 'learning_rate': 0.00893766995483863, 'n_estimators': 1424, 'min_child_samples': 15, 'subsample': 0.5, 'colsample_bytree': 0.5}. Best is trial 21 with value: 0.7374922603456596.\n",
      "[I 2025-02-22 07:35:57,587] Trial 36 finished with value: 0.7371251360306494 and parameters: {'num_iterations': 1961, 'objective': 'binary', 'metric': 'auc', 'verbose': -1, 'learning_rate': 0.00686202300378355, 'n_estimators': 730, 'min_child_samples': 25, 'subsample': 1.0, 'colsample_bytree': 0.6}. Best is trial 21 with value: 0.7374922603456596.\n",
      "[I 2025-02-22 07:36:15,707] Trial 37 finished with value: 0.7366188281825803 and parameters: {'num_iterations': 2178, 'objective': 'binary', 'metric': 'auc', 'verbose': -1, 'learning_rate': 0.005822530452967212, 'n_estimators': 1250, 'min_child_samples': 20, 'subsample': 0.6, 'colsample_bytree': 1.0}. Best is trial 21 with value: 0.7374922603456596.\n",
      "[I 2025-02-22 07:36:35,610] Trial 38 finished with value: 0.7369371622185488 and parameters: {'num_iterations': 2384, 'objective': 'binary', 'metric': 'auc', 'verbose': -1, 'learning_rate': 0.005624808381709678, 'n_estimators': 876, 'min_child_samples': 45, 'subsample': 0.9, 'colsample_bytree': 0.8}. Best is trial 21 with value: 0.7374922603456596.\n",
      "[I 2025-02-22 07:36:55,366] Trial 39 finished with value: 0.7374441093792999 and parameters: {'num_iterations': 1834, 'objective': 'binary', 'metric': 'auc', 'verbose': -1, 'learning_rate': 0.008011787935338029, 'n_estimators': 1633, 'min_child_samples': 30, 'subsample': 1.0, 'colsample_bytree': 0.5}. Best is trial 21 with value: 0.7374922603456596.\n"
     ]
    },
    {
     "name": "stdout",
     "output_type": "stream",
     "text": [
      "Cat val score : 0.7384869077816314\n",
      "LGBM val score : 0.7374967673015245\n",
      "Ensemble val score : 0.738490330685557\n"
     ]
    },
    {
     "name": "stderr",
     "output_type": "stream",
     "text": [
      "[I 2025-02-22 07:37:15,640] A new study created in memory with name: no-name-a635e66c-9aab-4513-a57b-4ae3992637b7\n"
     ]
    },
    {
     "name": "stdout",
     "output_type": "stream",
     "text": [
      "==================================================\n",
      "0:\ttest: 0.7274183\tbest: 0.7274183 (0)\ttotal: 141ms\tremaining: 5m 33s\n",
      "300:\ttest: 0.7397796\tbest: 0.7397796 (300)\ttotal: 39.1s\tremaining: 4m 28s\n",
      "600:\ttest: 0.7409328\tbest: 0.7409328 (600)\ttotal: 1m 20s\tremaining: 3m 55s\n",
      "900:\ttest: 0.7411617\tbest: 0.7411617 (900)\ttotal: 2m 2s\tremaining: 3m 18s\n",
      "1200:\ttest: 0.7413102\tbest: 0.7413238 (1187)\ttotal: 2m 45s\tremaining: 2m 40s\n",
      "1500:\ttest: 0.7414083\tbest: 0.7414564 (1333)\ttotal: 3m 35s\tremaining: 2m 3s\n"
     ]
    },
    {
     "name": "stderr",
     "output_type": "stream",
     "text": [
      "[I 2025-02-22 07:41:13,056] Trial 0 finished with value: 0.7414563523839406 and parameters: {'iterations': 2366, 'depth': 10, 'learning_rate': 0.01181021951839225, 'l2_leaf_reg': 9.980783802743254}. Best is trial 0 with value: 0.7414563523839406.\n"
     ]
    },
    {
     "name": "stdout",
     "output_type": "stream",
     "text": [
      "Stopped by overfitting detector  (300 iterations wait)\n",
      "\n",
      "bestTest = 0.7414563524\n",
      "bestIteration = 1333\n",
      "\n",
      "Shrink model to first 1334 iterations.\n",
      "저장 완료\n",
      "0:\ttest: 0.7001763\tbest: 0.7001763 (0)\ttotal: 53.3ms\tremaining: 1m 56s\n"
     ]
    },
    {
     "name": "stderr",
     "output_type": "stream",
     "text": [
      "Training has stopped (degenerate solution on iteration 261, probably too small l2-regularization, try to increase it)\n",
      "[I 2025-02-22 07:41:24,649] Trial 1 finished with value: 0.7286355599723106 and parameters: {'iterations': 2193, 'depth': 4, 'learning_rate': 0.005671430811678843, 'l2_leaf_reg': 0.00012325230809466137}. Best is trial 0 with value: 0.7414563523839406.\n"
     ]
    },
    {
     "name": "stdout",
     "output_type": "stream",
     "text": [
      "\n",
      "bestTest = 0.72863556\n",
      "bestIteration = 260\n",
      "\n",
      "Shrink model to first 261 iterations.\n",
      "0:\ttest: 0.7001763\tbest: 0.7001763 (0)\ttotal: 54.7ms\tremaining: 2m 18s\n",
      "300:\ttest: 0.7408292\tbest: 0.7408343 (298)\ttotal: 14.3s\tremaining: 1m 45s\n",
      "600:\ttest: 0.7407892\tbest: 0.7410260 (476)\ttotal: 29s\tremaining: 1m 33s\n"
     ]
    },
    {
     "name": "stderr",
     "output_type": "stream",
     "text": [
      "[I 2025-02-22 07:42:02,617] Trial 2 finished with value: 0.741025983764031 and parameters: {'iterations': 2535, 'depth': 4, 'learning_rate': 0.09275339199839054, 'l2_leaf_reg': 0.0008705394248343123}. Best is trial 0 with value: 0.7414563523839406.\n"
     ]
    },
    {
     "name": "stdout",
     "output_type": "stream",
     "text": [
      "Stopped by overfitting detector  (300 iterations wait)\n",
      "\n",
      "bestTest = 0.7410259838\n",
      "bestIteration = 476\n",
      "\n",
      "Shrink model to first 477 iterations.\n",
      "0:\ttest: 0.7001763\tbest: 0.7001763 (0)\ttotal: 53.6ms\tremaining: 2m 5s\n",
      "300:\ttest: 0.7403259\tbest: 0.7403313 (299)\ttotal: 13.7s\tremaining: 1m 32s\n",
      "600:\ttest: 0.7413408\tbest: 0.7413408 (600)\ttotal: 28.4s\tremaining: 1m 21s\n",
      "900:\ttest: 0.7412666\tbest: 0.7414195 (631)\ttotal: 43.3s\tremaining: 1m 8s\n"
     ]
    },
    {
     "name": "stderr",
     "output_type": "stream",
     "text": [
      "[I 2025-02-22 07:42:47,704] Trial 3 finished with value: 0.7414195462395247 and parameters: {'iterations': 2334, 'depth': 4, 'learning_rate': 0.04657568321363276, 'l2_leaf_reg': 0.0008640473331457248}. Best is trial 0 with value: 0.7414563523839406.\n"
     ]
    },
    {
     "name": "stdout",
     "output_type": "stream",
     "text": [
      "Stopped by overfitting detector  (300 iterations wait)\n",
      "\n",
      "bestTest = 0.7414195462\n",
      "bestIteration = 631\n",
      "\n",
      "Shrink model to first 632 iterations.\n",
      "0:\ttest: 0.7273381\tbest: 0.7273381 (0)\ttotal: 149ms\tremaining: 4m 18s\n",
      "300:\ttest: 0.7388547\tbest: 0.7388586 (299)\ttotal: 38.4s\tremaining: 3m 4s\n",
      "600:\ttest: 0.7392380\tbest: 0.7393542 (375)\ttotal: 1m 19s\tremaining: 2m 31s\n"
     ]
    },
    {
     "name": "stderr",
     "output_type": "stream",
     "text": [
      "[I 2025-02-22 07:44:17,687] Trial 4 finished with value: 0.7393542049254936 and parameters: {'iterations': 1742, 'depth': 10, 'learning_rate': 0.012622767482095846, 'l2_leaf_reg': 0.00021158816350109617}. Best is trial 0 with value: 0.7414563523839406.\n"
     ]
    },
    {
     "name": "stdout",
     "output_type": "stream",
     "text": [
      "Stopped by overfitting detector  (300 iterations wait)\n",
      "\n",
      "bestTest = 0.7393542049\n",
      "bestIteration = 375\n",
      "\n",
      "Shrink model to first 376 iterations.\n",
      "0:\ttest: 0.7001763\tbest: 0.7001763 (0)\ttotal: 52.4ms\tremaining: 1m 49s\n",
      "300:\ttest: 0.7409543\tbest: 0.7409543 (300)\ttotal: 14.1s\tremaining: 1m 23s\n",
      "600:\ttest: 0.7410590\tbest: 0.7412444 (457)\ttotal: 28.9s\tremaining: 1m 11s\n"
     ]
    },
    {
     "name": "stderr",
     "output_type": "stream",
     "text": [
      "[I 2025-02-22 07:44:54,597] Trial 5 finished with value: 0.741244354710181 and parameters: {'iterations': 2082, 'depth': 4, 'learning_rate': 0.06995196593094148, 'l2_leaf_reg': 0.0018080296485396804}. Best is trial 0 with value: 0.7414563523839406.\n"
     ]
    },
    {
     "name": "stdout",
     "output_type": "stream",
     "text": [
      "Stopped by overfitting detector  (300 iterations wait)\n",
      "\n",
      "bestTest = 0.7412443547\n",
      "bestIteration = 457\n",
      "\n",
      "Shrink model to first 458 iterations.\n",
      "0:\ttest: 0.7061041\tbest: 0.7061041 (0)\ttotal: 62.8ms\tremaining: 2m 5s\n",
      "300:\ttest: 0.7415436\tbest: 0.7415592 (298)\ttotal: 17.7s\tremaining: 1m 39s\n",
      "600:\ttest: 0.7417266\tbest: 0.7417748 (590)\ttotal: 35.7s\tremaining: 1m 22s\n",
      "900:\ttest: 0.7417238\tbest: 0.7417987 (787)\ttotal: 54s\tremaining: 1m 5s\n"
     ]
    },
    {
     "name": "stderr",
     "output_type": "stream",
     "text": [
      "[I 2025-02-22 07:45:59,924] Trial 6 finished with value: 0.741798694398023 and parameters: {'iterations': 1997, 'depth': 5, 'learning_rate': 0.07985155992831598, 'l2_leaf_reg': 62.52181000710482}. Best is trial 6 with value: 0.741798694398023.\n"
     ]
    },
    {
     "name": "stdout",
     "output_type": "stream",
     "text": [
      "Stopped by overfitting detector  (300 iterations wait)\n",
      "\n",
      "bestTest = 0.7417986944\n",
      "bestIteration = 787\n",
      "\n",
      "Shrink model to first 788 iterations.\n",
      "저장 완료\n",
      "0:\ttest: 0.7168509\tbest: 0.7168509 (0)\ttotal: 82.9ms\tremaining: 2m 39s\n",
      "300:\ttest: 0.7407406\tbest: 0.7414064 (206)\ttotal: 24.2s\tremaining: 2m 10s\n"
     ]
    },
    {
     "name": "stderr",
     "output_type": "stream",
     "text": [
      "[I 2025-02-22 07:46:41,805] Trial 7 finished with value: 0.741406398635235 and parameters: {'iterations': 1927, 'depth': 7, 'learning_rate': 0.0941937211034094, 'l2_leaf_reg': 0.05654822767791934}. Best is trial 6 with value: 0.741798694398023.\n"
     ]
    },
    {
     "name": "stdout",
     "output_type": "stream",
     "text": [
      "Stopped by overfitting detector  (300 iterations wait)\n",
      "\n",
      "bestTest = 0.7414063986\n",
      "bestIteration = 206\n",
      "\n",
      "Shrink model to first 207 iterations.\n",
      "0:\ttest: 0.7168488\tbest: 0.7168488 (0)\ttotal: 83.8ms\tremaining: 2m 39s\n",
      "300:\ttest: 0.7415587\tbest: 0.7415806 (289)\ttotal: 23.1s\tremaining: 2m 3s\n",
      "600:\ttest: 0.7414557\tbest: 0.7418465 (366)\ttotal: 48.4s\tremaining: 1m 44s\n"
     ]
    },
    {
     "name": "stderr",
     "output_type": "stream",
     "text": [
      "[I 2025-02-22 07:47:36,084] Trial 8 finished with value: 0.7418464681301913 and parameters: {'iterations': 1904, 'depth': 7, 'learning_rate': 0.05155602859187331, 'l2_leaf_reg': 1.299974533316308}. Best is trial 8 with value: 0.7418464681301913.\n"
     ]
    },
    {
     "name": "stdout",
     "output_type": "stream",
     "text": [
      "Stopped by overfitting detector  (300 iterations wait)\n",
      "\n",
      "bestTest = 0.7418464681\n",
      "bestIteration = 366\n",
      "\n",
      "Shrink model to first 367 iterations.\n",
      "저장 완료\n",
      "0:\ttest: 0.7167891\tbest: 0.7167891 (0)\ttotal: 74.8ms\tremaining: 3m 17s\n",
      "300:\ttest: 0.7407883\tbest: 0.7407988 (297)\ttotal: 19.8s\tremaining: 2m 34s\n",
      "600:\ttest: 0.7413633\tbest: 0.7414034 (584)\ttotal: 41.4s\tremaining: 2m 20s\n"
     ]
    },
    {
     "name": "stderr",
     "output_type": "stream",
     "text": [
      "[I 2025-02-22 07:48:38,189] Trial 9 finished with value: 0.7414033767908181 and parameters: {'iterations': 2639, 'depth': 6, 'learning_rate': 0.03968704290444751, 'l2_leaf_reg': 0.30557194377967184}. Best is trial 8 with value: 0.7418464681301913.\n"
     ]
    },
    {
     "name": "stdout",
     "output_type": "stream",
     "text": [
      "Stopped by overfitting detector  (300 iterations wait)\n",
      "\n",
      "bestTest = 0.7414033768\n",
      "bestIteration = 584\n",
      "\n",
      "Shrink model to first 585 iterations.\n",
      "0:\ttest: 0.7198680\tbest: 0.7198680 (0)\ttotal: 93.4ms\tremaining: 4m 35s\n",
      "300:\ttest: 0.7410428\tbest: 0.7410428 (300)\ttotal: 25.9s\tremaining: 3m 47s\n",
      "600:\ttest: 0.7415365\tbest: 0.7416152 (581)\ttotal: 54.4s\tremaining: 3m 32s\n",
      "900:\ttest: 0.7411238\tbest: 0.7416283 (648)\ttotal: 1m 23s\tremaining: 3m 9s\n"
     ]
    },
    {
     "name": "stderr",
     "output_type": "stream",
     "text": [
      "[I 2025-02-22 07:50:06,787] Trial 10 finished with value: 0.741628303670125 and parameters: {'iterations': 2945, 'depth': 8, 'learning_rate': 0.032580115422505045, 'l2_leaf_reg': 0.87526046512315}. Best is trial 8 with value: 0.7418464681301913.\n"
     ]
    },
    {
     "name": "stdout",
     "output_type": "stream",
     "text": [
      "Stopped by overfitting detector  (300 iterations wait)\n",
      "\n",
      "bestTest = 0.7416283037\n",
      "bestIteration = 648\n",
      "\n",
      "Shrink model to first 649 iterations.\n",
      "0:\ttest: 0.7167953\tbest: 0.7167953 (0)\ttotal: 75.9ms\tremaining: 2m 4s\n",
      "300:\ttest: 0.7412149\tbest: 0.7412336 (298)\ttotal: 20.7s\tremaining: 1m 32s\n",
      "600:\ttest: 0.7413794\tbest: 0.7415038 (494)\ttotal: 41.9s\tremaining: 1m 12s\n"
     ]
    },
    {
     "name": "stderr",
     "output_type": "stream",
     "text": [
      "[I 2025-02-22 07:51:02,622] Trial 11 finished with value: 0.7415037528528038 and parameters: {'iterations': 1645, 'depth': 6, 'learning_rate': 0.06980778172048213, 'l2_leaf_reg': 73.1213351392818}. Best is trial 8 with value: 0.7418464681301913.\n"
     ]
    },
    {
     "name": "stdout",
     "output_type": "stream",
     "text": [
      "Stopped by overfitting detector  (300 iterations wait)\n",
      "\n",
      "bestTest = 0.7415037529\n",
      "bestIteration = 494\n",
      "\n",
      "Shrink model to first 495 iterations.\n",
      "0:\ttest: 0.7167809\tbest: 0.7167809 (0)\ttotal: 73.1ms\tremaining: 2m 18s\n",
      "300:\ttest: 0.7413662\tbest: 0.7414092 (274)\ttotal: 20.6s\tremaining: 1m 49s\n"
     ]
    },
    {
     "name": "stderr",
     "output_type": "stream",
     "text": [
      "[I 2025-02-22 07:51:43,197] Trial 12 finished with value: 0.741409245760658 and parameters: {'iterations': 1898, 'depth': 6, 'learning_rate': 0.06850833108780335, 'l2_leaf_reg': 6.112234112518604}. Best is trial 8 with value: 0.7418464681301913.\n"
     ]
    },
    {
     "name": "stdout",
     "output_type": "stream",
     "text": [
      "Stopped by overfitting detector  (300 iterations wait)\n",
      "\n",
      "bestTest = 0.7414092458\n",
      "bestIteration = 274\n",
      "\n",
      "Shrink model to first 275 iterations.\n",
      "0:\ttest: 0.7198931\tbest: 0.7198931 (0)\ttotal: 94.1ms\tremaining: 3m 2s\n",
      "300:\ttest: 0.7415164\tbest: 0.7415164 (300)\ttotal: 26.1s\tremaining: 2m 21s\n",
      "600:\ttest: 0.7416009\tbest: 0.7418151 (492)\ttotal: 54.6s\tremaining: 2m 1s\n"
     ]
    },
    {
     "name": "stderr",
     "output_type": "stream",
     "text": [
      "[I 2025-02-22 07:52:56,161] Trial 13 finished with value: 0.7418150703328132 and parameters: {'iterations': 1937, 'depth': 8, 'learning_rate': 0.05956351603701897, 'l2_leaf_reg': 55.074044317639256}. Best is trial 8 with value: 0.7418464681301913.\n"
     ]
    },
    {
     "name": "stdout",
     "output_type": "stream",
     "text": [
      "Stopped by overfitting detector  (300 iterations wait)\n",
      "\n",
      "bestTest = 0.7418150703\n",
      "bestIteration = 492\n",
      "\n",
      "Shrink model to first 493 iterations.\n",
      "0:\ttest: 0.7198698\tbest: 0.7198698 (0)\ttotal: 98.1ms\tremaining: 2m 30s\n",
      "300:\ttest: 0.7409352\tbest: 0.7410104 (294)\ttotal: 27s\tremaining: 1m 50s\n",
      "600:\ttest: 0.7393302\tbest: 0.7410152 (308)\ttotal: 56.1s\tremaining: 1m 26s\n"
     ]
    },
    {
     "name": "stderr",
     "output_type": "stream",
     "text": [
      "[I 2025-02-22 07:53:53,184] Trial 14 finished with value: 0.7410151750117275 and parameters: {'iterations': 1533, 'depth': 8, 'learning_rate': 0.05737459522516041, 'l2_leaf_reg': 0.037504318502340525}. Best is trial 8 with value: 0.7418464681301913.\n"
     ]
    },
    {
     "name": "stdout",
     "output_type": "stream",
     "text": [
      "Stopped by overfitting detector  (300 iterations wait)\n",
      "\n",
      "bestTest = 0.741015175\n",
      "bestIteration = 308\n",
      "\n",
      "Shrink model to first 309 iterations.\n",
      "0:\ttest: 0.7198448\tbest: 0.7198448 (0)\ttotal: 94.7ms\tremaining: 2m 45s\n",
      "300:\ttest: 0.7412687\tbest: 0.7412689 (297)\ttotal: 25.9s\tremaining: 2m 5s\n",
      "600:\ttest: 0.7420410\tbest: 0.7420935 (580)\ttotal: 55.3s\tremaining: 1m 45s\n",
      "900:\ttest: 0.7420031\tbest: 0.7422120 (774)\ttotal: 1m 24s\tremaining: 1m 19s\n"
     ]
    },
    {
     "name": "stderr",
     "output_type": "stream",
     "text": [
      "[I 2025-02-22 07:55:34,930] Trial 15 finished with value: 0.7422119524691908 and parameters: {'iterations': 1753, 'depth': 8, 'learning_rate': 0.031684876809801796, 'l2_leaf_reg': 3.400203453407683}. Best is trial 15 with value: 0.7422119524691908.\n"
     ]
    },
    {
     "name": "stdout",
     "output_type": "stream",
     "text": [
      "Stopped by overfitting detector  (300 iterations wait)\n",
      "\n",
      "bestTest = 0.7422119525\n",
      "bestIteration = 774\n",
      "\n",
      "Shrink model to first 775 iterations.\n",
      "저장 완료\n",
      "0:\ttest: 0.7239197\tbest: 0.7239197 (0)\ttotal: 110ms\tremaining: 3m 7s\n",
      "300:\ttest: 0.7409357\tbest: 0.7409357 (300)\ttotal: 29s\tremaining: 2m 15s\n",
      "600:\ttest: 0.7414083\tbest: 0.7414748 (522)\ttotal: 1m\tremaining: 1m 51s\n"
     ]
    },
    {
     "name": "stderr",
     "output_type": "stream",
     "text": [
      "[I 2025-02-22 07:57:00,950] Trial 16 finished with value: 0.7414748408302023 and parameters: {'iterations': 1706, 'depth': 9, 'learning_rate': 0.027198320505425724, 'l2_leaf_reg': 2.2406425579941533}. Best is trial 15 with value: 0.7422119524691908.\n"
     ]
    },
    {
     "name": "stdout",
     "output_type": "stream",
     "text": [
      "Stopped by overfitting detector  (300 iterations wait)\n",
      "\n",
      "bestTest = 0.7414748408\n",
      "bestIteration = 522\n",
      "\n",
      "Shrink model to first 523 iterations.\n",
      "0:\ttest: 0.7168510\tbest: 0.7168510 (0)\ttotal: 83.8ms\tremaining: 2m 7s\n",
      "300:\ttest: 0.7404118\tbest: 0.7404118 (300)\ttotal: 22.8s\tremaining: 1m 32s\n",
      "600:\ttest: 0.7413018\tbest: 0.7413127 (599)\ttotal: 46.4s\tremaining: 1m 11s\n",
      "900:\ttest: 0.7413256\tbest: 0.7414449 (681)\ttotal: 1m 11s\tremaining: 49.3s\n",
      "1200:\ttest: 0.7410334\tbest: 0.7415032 (984)\ttotal: 1m 36s\tremaining: 25.9s\n"
     ]
    },
    {
     "name": "stderr",
     "output_type": "stream",
     "text": [
      "[I 2025-02-22 07:58:45,346] Trial 17 finished with value: 0.7415032207540497 and parameters: {'iterations': 1522, 'depth': 7, 'learning_rate': 0.02432488838207133, 'l2_leaf_reg': 0.010986858818421364}. Best is trial 15 with value: 0.7422119524691908.\n"
     ]
    },
    {
     "name": "stdout",
     "output_type": "stream",
     "text": [
      "Stopped by overfitting detector  (300 iterations wait)\n",
      "\n",
      "bestTest = 0.7415032208\n",
      "bestIteration = 984\n",
      "\n",
      "Shrink model to first 985 iterations.\n",
      "0:\ttest: 0.7239252\tbest: 0.7239252 (0)\ttotal: 107ms\tremaining: 3m 9s\n",
      "300:\ttest: 0.7407174\tbest: 0.7409304 (279)\ttotal: 29.6s\tremaining: 2m 24s\n"
     ]
    },
    {
     "name": "stderr",
     "output_type": "stream",
     "text": [
      "[I 2025-02-22 07:59:46,559] Trial 18 finished with value: 0.7409304323288082 and parameters: {'iterations': 1770, 'depth': 9, 'learning_rate': 0.04656812687583585, 'l2_leaf_reg': 0.2628444134576081}. Best is trial 15 with value: 0.7422119524691908.\n"
     ]
    },
    {
     "name": "stdout",
     "output_type": "stream",
     "text": [
      "Stopped by overfitting detector  (300 iterations wait)\n",
      "\n",
      "bestTest = 0.7409304323\n",
      "bestIteration = 279\n",
      "\n",
      "Shrink model to first 280 iterations.\n",
      "0:\ttest: 0.7168353\tbest: 0.7168353 (0)\ttotal: 82.3ms\tremaining: 2m 57s\n",
      "300:\ttest: 0.7411890\tbest: 0.7411917 (298)\ttotal: 23s\tremaining: 2m 21s\n",
      "600:\ttest: 0.7420688\tbest: 0.7421001 (595)\ttotal: 47.7s\tremaining: 2m 3s\n",
      "900:\ttest: 0.7418802\tbest: 0.7421101 (619)\ttotal: 1m 12s\tremaining: 1m 41s\n"
     ]
    },
    {
     "name": "stderr",
     "output_type": "stream",
     "text": [
      "[I 2025-02-22 08:01:01,406] Trial 19 finished with value: 0.7421100833539847 and parameters: {'iterations': 2153, 'depth': 7, 'learning_rate': 0.036214518104510374, 'l2_leaf_reg': 5.597754063560477}. Best is trial 15 with value: 0.7422119524691908.\n"
     ]
    },
    {
     "name": "stdout",
     "output_type": "stream",
     "text": [
      "Stopped by overfitting detector  (300 iterations wait)\n",
      "\n",
      "bestTest = 0.7421100834\n",
      "bestIteration = 619\n",
      "\n",
      "Shrink model to first 620 iterations.\n",
      "0:\ttest: 0.7239424\tbest: 0.7239424 (0)\ttotal: 110ms\tremaining: 4m 2s\n",
      "300:\ttest: 0.7410042\tbest: 0.7410177 (297)\ttotal: 28.9s\tremaining: 3m 3s\n",
      "600:\ttest: 0.7418930\tbest: 0.7419522 (571)\ttotal: 1m 1s\tremaining: 2m 44s\n"
     ]
    },
    {
     "name": "stderr",
     "output_type": "stream",
     "text": [
      "[I 2025-02-22 08:02:33,325] Trial 20 finished with value: 0.7419521731214904 and parameters: {'iterations': 2212, 'depth': 9, 'learning_rate': 0.03438358659717504, 'l2_leaf_reg': 11.565287013717036}. Best is trial 15 with value: 0.7422119524691908.\n"
     ]
    },
    {
     "name": "stdout",
     "output_type": "stream",
     "text": [
      "Stopped by overfitting detector  (300 iterations wait)\n",
      "\n",
      "bestTest = 0.7419521731\n",
      "bestIteration = 571\n",
      "\n",
      "Shrink model to first 572 iterations.\n",
      "0:\ttest: 0.7239380\tbest: 0.7239380 (0)\ttotal: 110ms\tremaining: 4m\n",
      "300:\ttest: 0.7406885\tbest: 0.7407000 (286)\ttotal: 28.2s\tremaining: 2m 56s\n",
      "600:\ttest: 0.7409813\tbest: 0.7410187 (508)\ttotal: 1m 1s\tremaining: 2m 40s\n"
     ]
    },
    {
     "name": "stderr",
     "output_type": "stream",
     "text": [
      "[I 2025-02-22 08:03:57,893] Trial 21 finished with value: 0.7410186535080604 and parameters: {'iterations': 2185, 'depth': 9, 'learning_rate': 0.03456585136939929, 'l2_leaf_reg': 12.029236298007566}. Best is trial 15 with value: 0.7422119524691908.\n"
     ]
    },
    {
     "name": "stdout",
     "output_type": "stream",
     "text": [
      "Stopped by overfitting detector  (300 iterations wait)\n",
      "\n",
      "bestTest = 0.7410186535\n",
      "bestIteration = 508\n",
      "\n",
      "Shrink model to first 509 iterations.\n",
      "0:\ttest: 0.7198596\tbest: 0.7198596 (0)\ttotal: 93.8ms\tremaining: 3m 55s\n",
      "300:\ttest: 0.7402962\tbest: 0.7402968 (299)\ttotal: 25.5s\tremaining: 3m 7s\n",
      "600:\ttest: 0.7412144\tbest: 0.7412144 (600)\ttotal: 51.2s\tremaining: 2m 42s\n",
      "900:\ttest: 0.7416569\tbest: 0.7416662 (888)\ttotal: 1m 19s\tremaining: 2m 21s\n",
      "1200:\ttest: 0.7418291\tbest: 0.7418471 (1181)\ttotal: 1m 47s\tremaining: 1m 57s\n"
     ]
    },
    {
     "name": "stderr",
     "output_type": "stream",
     "text": [
      "[I 2025-02-22 08:06:13,278] Trial 22 finished with value: 0.7418470875884424 and parameters: {'iterations': 2513, 'depth': 8, 'learning_rate': 0.018388357535398615, 'l2_leaf_reg': 17.17756146389429}. Best is trial 15 with value: 0.7422119524691908.\n"
     ]
    },
    {
     "name": "stdout",
     "output_type": "stream",
     "text": [
      "Stopped by overfitting detector  (300 iterations wait)\n",
      "\n",
      "bestTest = 0.7418470876\n",
      "bestIteration = 1181\n",
      "\n",
      "Shrink model to first 1182 iterations.\n",
      "0:\ttest: 0.7239067\tbest: 0.7239067 (0)\ttotal: 110ms\tremaining: 3m 49s\n",
      "300:\ttest: 0.7409889\tbest: 0.7409951 (295)\ttotal: 29s\tremaining: 2m 52s\n",
      "600:\ttest: 0.7412051\tbest: 0.7412884 (558)\ttotal: 1m 2s\tremaining: 2m 34s\n"
     ]
    },
    {
     "name": "stderr",
     "output_type": "stream",
     "text": [
      "[I 2025-02-22 08:07:44,931] Trial 23 finished with value: 0.7412883997801845 and parameters: {'iterations': 2092, 'depth': 9, 'learning_rate': 0.04024175236120411, 'l2_leaf_reg': 3.4842930450696823}. Best is trial 15 with value: 0.7422119524691908.\n"
     ]
    },
    {
     "name": "stdout",
     "output_type": "stream",
     "text": [
      "Stopped by overfitting detector  (300 iterations wait)\n",
      "\n",
      "bestTest = 0.7412883998\n",
      "bestIteration = 558\n",
      "\n",
      "Shrink model to first 559 iterations.\n",
      "0:\ttest: 0.7198690\tbest: 0.7198690 (0)\ttotal: 92.6ms\tremaining: 4m 13s\n",
      "300:\ttest: 0.7407448\tbest: 0.7407448 (300)\ttotal: 25.3s\tremaining: 3m 25s\n",
      "600:\ttest: 0.7416119\tbest: 0.7416165 (598)\ttotal: 52.4s\tremaining: 3m 6s\n",
      "900:\ttest: 0.7416337\tbest: 0.7417622 (635)\ttotal: 1m 21s\tremaining: 2m 45s\n"
     ]
    },
    {
     "name": "stderr",
     "output_type": "stream",
     "text": [
      "[I 2025-02-22 08:09:09,928] Trial 24 finished with value: 0.7417622257789362 and parameters: {'iterations': 2739, 'depth': 8, 'learning_rate': 0.024715342844759243, 'l2_leaf_reg': 0.42690029968107973}. Best is trial 15 with value: 0.7422119524691908.\n"
     ]
    },
    {
     "name": "stdout",
     "output_type": "stream",
     "text": [
      "Stopped by overfitting detector  (300 iterations wait)\n",
      "\n",
      "bestTest = 0.7417622258\n",
      "bestIteration = 635\n",
      "\n",
      "Shrink model to first 636 iterations.\n",
      "0:\ttest: 0.7168273\tbest: 0.7168273 (0)\ttotal: 80.7ms\tremaining: 3m 8s\n",
      "300:\ttest: 0.7408472\tbest: 0.7408545 (298)\ttotal: 22.7s\tremaining: 2m 33s\n",
      "600:\ttest: 0.7418233\tbest: 0.7418478 (583)\ttotal: 47.1s\tremaining: 2m 15s\n",
      "900:\ttest: 0.7419165\tbest: 0.7419529 (799)\ttotal: 1m 12s\tremaining: 1m 54s\n",
      "1200:\ttest: 0.7418745\tbest: 0.7419617 (1041)\ttotal: 1m 37s\tremaining: 1m 31s\n"
     ]
    },
    {
     "name": "stderr",
     "output_type": "stream",
     "text": [
      "[I 2025-02-22 08:10:59,236] Trial 25 finished with value: 0.7419617151610882 and parameters: {'iterations': 2332, 'depth': 7, 'learning_rate': 0.033700014203530325, 'l2_leaf_reg': 21.902960777265868}. Best is trial 15 with value: 0.7422119524691908.\n"
     ]
    },
    {
     "name": "stdout",
     "output_type": "stream",
     "text": [
      "Stopped by overfitting detector  (300 iterations wait)\n",
      "\n",
      "bestTest = 0.7419617152\n",
      "bestIteration = 1041\n",
      "\n",
      "Shrink model to first 1042 iterations.\n",
      "0:\ttest: 0.7168426\tbest: 0.7168426 (0)\ttotal: 83ms\tremaining: 3m 17s\n",
      "300:\ttest: 0.7412290\tbest: 0.7412290 (300)\ttotal: 22.7s\tremaining: 2m 36s\n",
      "600:\ttest: 0.7416678\tbest: 0.7416800 (595)\ttotal: 47.2s\tremaining: 2m 19s\n",
      "900:\ttest: 0.7416895\tbest: 0.7416895 (900)\ttotal: 1m 12s\tremaining: 1m 57s\n"
     ]
    },
    {
     "name": "stderr",
     "output_type": "stream",
     "text": [
      "[I 2025-02-22 08:12:36,510] Trial 26 finished with value: 0.7416894791433013 and parameters: {'iterations': 2376, 'depth': 7, 'learning_rate': 0.043253178256445056, 'l2_leaf_reg': 39.40918881727929}. Best is trial 15 with value: 0.7422119524691908.\n"
     ]
    },
    {
     "name": "stdout",
     "output_type": "stream",
     "text": [
      "1200:\ttest: 0.7414018\tbest: 0.7416895 (900)\ttotal: 1m 37s\tremaining: 1m 34s\n",
      "Stopped by overfitting detector  (300 iterations wait)\n",
      "\n",
      "bestTest = 0.7416894791\n",
      "bestIteration = 900\n",
      "\n",
      "Shrink model to first 901 iterations.\n",
      "0:\ttest: 0.7167883\tbest: 0.7167883 (0)\ttotal: 76.3ms\tremaining: 3m 10s\n",
      "300:\ttest: 0.7396829\tbest: 0.7396829 (300)\ttotal: 19.2s\tremaining: 2m 20s\n",
      "600:\ttest: 0.7410004\tbest: 0.7410013 (597)\ttotal: 39.6s\tremaining: 2m 5s\n",
      "900:\ttest: 0.7416527\tbest: 0.7416563 (892)\ttotal: 1m\tremaining: 1m 48s\n",
      "1200:\ttest: 0.7418602\tbest: 0.7418744 (1164)\ttotal: 1m 22s\tremaining: 1m 29s\n",
      "1500:\ttest: 0.7418996\tbest: 0.7418996 (1500)\ttotal: 1m 44s\tremaining: 1m 9s\n",
      "1800:\ttest: 0.7418355\tbest: 0.7419072 (1507)\ttotal: 2m 6s\tremaining: 49s\n"
     ]
    },
    {
     "name": "stderr",
     "output_type": "stream",
     "text": [
      "[I 2025-02-22 08:14:43,512] Trial 27 finished with value: 0.7419071710679069 and parameters: {'iterations': 2500, 'depth': 6, 'learning_rate': 0.020033927979552422, 'l2_leaf_reg': 2.923677795674017}. Best is trial 15 with value: 0.7422119524691908.\n"
     ]
    },
    {
     "name": "stdout",
     "output_type": "stream",
     "text": [
      "Stopped by overfitting detector  (300 iterations wait)\n",
      "\n",
      "bestTest = 0.7419071711\n",
      "bestIteration = 1507\n",
      "\n",
      "Shrink model to first 1508 iterations.\n",
      "0:\ttest: 0.7061173\tbest: 0.7061173 (0)\ttotal: 63.7ms\tremaining: 2m 12s\n",
      "300:\ttest: 0.7402646\tbest: 0.7402646 (300)\ttotal: 17s\tremaining: 1m 40s\n",
      "600:\ttest: 0.7415257\tbest: 0.7415271 (598)\ttotal: 34.9s\tremaining: 1m 25s\n",
      "900:\ttest: 0.7418290\tbest: 0.7418314 (895)\ttotal: 52.9s\tremaining: 1m 8s\n",
      "1200:\ttest: 0.7418902\tbest: 0.7418961 (1084)\ttotal: 1m 11s\tremaining: 51.9s\n",
      "1500:\ttest: 0.7418512\tbest: 0.7418969 (1278)\ttotal: 1m 29s\tremaining: 34.4s\n"
     ]
    },
    {
     "name": "stderr",
     "output_type": "stream",
     "text": [
      "[I 2025-02-22 08:16:18,339] Trial 28 finished with value: 0.7418968983852439 and parameters: {'iterations': 2076, 'depth': 5, 'learning_rate': 0.03166577393185828, 'l2_leaf_reg': 28.392310517933037}. Best is trial 15 with value: 0.7422119524691908.\n"
     ]
    },
    {
     "name": "stdout",
     "output_type": "stream",
     "text": [
      "Stopped by overfitting detector  (300 iterations wait)\n",
      "\n",
      "bestTest = 0.7418968984\n",
      "bestIteration = 1278\n",
      "\n",
      "Shrink model to first 1279 iterations.\n",
      "0:\ttest: 0.7273580\tbest: 0.7273580 (0)\ttotal: 132ms\tremaining: 5m 4s\n",
      "300:\ttest: 0.7400504\tbest: 0.7400504 (300)\ttotal: 37.8s\tremaining: 4m 12s\n",
      "600:\ttest: 0.7408142\tbest: 0.7408330 (596)\ttotal: 1m 20s\tremaining: 3m 47s\n",
      "900:\ttest: 0.7411225\tbest: 0.7411661 (875)\ttotal: 2m 3s\tremaining: 3m 13s\n",
      "1200:\ttest: 0.7409165\tbest: 0.7411831 (963)\ttotal: 2m 49s\tremaining: 2m 36s\n"
     ]
    },
    {
     "name": "stderr",
     "output_type": "stream",
     "text": [
      "[I 2025-02-22 08:19:17,759] Trial 29 finished with value: 0.741183095848394 and parameters: {'iterations': 2308, 'depth': 10, 'learning_rate': 0.01509504373808999, 'l2_leaf_reg': 0.8707625577918204}. Best is trial 15 with value: 0.7422119524691908.\n"
     ]
    },
    {
     "name": "stdout",
     "output_type": "stream",
     "text": [
      "Stopped by overfitting detector  (300 iterations wait)\n",
      "\n",
      "bestTest = 0.7411830958\n",
      "bestIteration = 963\n",
      "\n",
      "Shrink model to first 964 iterations.\n",
      "0:\ttest: 0.7168322\tbest: 0.7168322 (0)\ttotal: 82.9ms\tremaining: 3m 51s\n",
      "300:\ttest: 0.7360862\tbest: 0.7360862 (300)\ttotal: 22s\tremaining: 3m 2s\n",
      "600:\ttest: 0.7391727\tbest: 0.7391727 (600)\ttotal: 44.8s\tremaining: 2m 43s\n",
      "900:\ttest: 0.7402755\tbest: 0.7402755 (900)\ttotal: 1m 8s\tremaining: 2m 23s\n",
      "1200:\ttest: 0.7408146\tbest: 0.7408180 (1199)\ttotal: 1m 31s\tremaining: 2m 1s\n",
      "1500:\ttest: 0.7410398\tbest: 0.7410398 (1500)\ttotal: 1m 54s\tremaining: 1m 38s\n",
      "1800:\ttest: 0.7412679\tbest: 0.7412679 (1800)\ttotal: 2m 17s\tremaining: 1m 16s\n",
      "2100:\ttest: 0.7415077\tbest: 0.7415077 (2100)\ttotal: 2m 42s\tremaining: 54s\n",
      "2400:\ttest: 0.7416844\tbest: 0.7416845 (2399)\ttotal: 3m 8s\tremaining: 31.1s\n",
      "2700:\ttest: 0.7417565\tbest: 0.7417595 (2687)\ttotal: 3m 33s\tremaining: 7.59s\n"
     ]
    },
    {
     "name": "stderr",
     "output_type": "stream",
     "text": [
      "[I 2025-02-22 08:22:59,877] Trial 30 finished with value: 0.7417791457251393 and parameters: {'iterations': 2797, 'depth': 7, 'learning_rate': 0.0069604957526607815, 'l2_leaf_reg': 7.705055428708639}. Best is trial 15 with value: 0.7422119524691908.\n"
     ]
    },
    {
     "name": "stdout",
     "output_type": "stream",
     "text": [
      "2796:\ttest: 0.7417771\tbest: 0.7417791 (2795)\ttotal: 3m 41s\tremaining: 0us\n",
      "\n",
      "bestTest = 0.7417791457\n",
      "bestIteration = 2795\n",
      "\n",
      "Shrink model to first 2796 iterations.\n",
      "0:\ttest: 0.7198595\tbest: 0.7198595 (0)\ttotal: 94.8ms\tremaining: 3m 47s\n",
      "300:\ttest: 0.7409652\tbest: 0.7409652 (299)\ttotal: 25.7s\tremaining: 2m 59s\n",
      "600:\ttest: 0.7416641\tbest: 0.7416792 (596)\ttotal: 54.2s\tremaining: 2m 42s\n",
      "900:\ttest: 0.7416436\tbest: 0.7416806 (722)\ttotal: 1m 22s\tremaining: 2m 18s\n"
     ]
    },
    {
     "name": "stderr",
     "output_type": "stream",
     "text": [
      "[I 2025-02-22 08:24:34,901] Trial 31 finished with value: 0.7416805565619546 and parameters: {'iterations': 2401, 'depth': 8, 'learning_rate': 0.03525264833560508, 'l2_leaf_reg': 16.742544826399158}. Best is trial 15 with value: 0.7422119524691908.\n"
     ]
    },
    {
     "name": "stdout",
     "output_type": "stream",
     "text": [
      "Stopped by overfitting detector  (300 iterations wait)\n",
      "\n",
      "bestTest = 0.7416805566\n",
      "bestIteration = 722\n",
      "\n",
      "Shrink model to first 723 iterations.\n",
      "0:\ttest: 0.7239129\tbest: 0.7239129 (0)\ttotal: 110ms\tremaining: 4m 3s\n",
      "300:\ttest: 0.7407761\tbest: 0.7407962 (293)\ttotal: 29.2s\tremaining: 3m 5s\n",
      "600:\ttest: 0.7413572\tbest: 0.7414738 (580)\ttotal: 1m\tremaining: 2m 42s\n"
     ]
    },
    {
     "name": "stderr",
     "output_type": "stream",
     "text": [
      "[I 2025-02-22 08:26:06,924] Trial 32 finished with value: 0.7414737766326942 and parameters: {'iterations': 2220, 'depth': 9, 'learning_rate': 0.026853500363735638, 'l2_leaf_reg': 5.932690584085092}. Best is trial 15 with value: 0.7422119524691908.\n"
     ]
    },
    {
     "name": "stdout",
     "output_type": "stream",
     "text": [
      "Stopped by overfitting detector  (300 iterations wait)\n",
      "\n",
      "bestTest = 0.7414737766\n",
      "bestIteration = 580\n",
      "\n",
      "Shrink model to first 581 iterations.\n",
      "0:\ttest: 0.7168273\tbest: 0.7168273 (0)\ttotal: 83.1ms\tremaining: 3m 7s\n",
      "300:\ttest: 0.7415347\tbest: 0.7415415 (292)\ttotal: 22.9s\tremaining: 2m 28s\n",
      "600:\ttest: 0.7419778\tbest: 0.7419852 (574)\ttotal: 48s\tremaining: 2m 11s\n",
      "900:\ttest: 0.7416939\tbest: 0.7420339 (668)\ttotal: 1m 13s\tremaining: 1m 49s\n"
     ]
    },
    {
     "name": "stderr",
     "output_type": "stream",
     "text": [
      "[I 2025-02-22 08:27:25,779] Trial 33 finished with value: 0.7420338820473342 and parameters: {'iterations': 2255, 'depth': 7, 'learning_rate': 0.05121078015525653, 'l2_leaf_reg': 22.26935811572153}. Best is trial 15 with value: 0.7422119524691908.\n"
     ]
    },
    {
     "name": "stdout",
     "output_type": "stream",
     "text": [
      "Stopped by overfitting detector  (300 iterations wait)\n",
      "\n",
      "bestTest = 0.742033882\n",
      "bestIteration = 668\n",
      "\n",
      "Shrink model to first 669 iterations.\n",
      "0:\ttest: 0.7167793\tbest: 0.7167793 (0)\ttotal: 71.9ms\tremaining: 2m 56s\n",
      "300:\ttest: 0.7412663\tbest: 0.7412663 (298)\ttotal: 20.2s\tremaining: 2m 24s\n",
      "600:\ttest: 0.7416776\tbest: 0.7416960 (584)\ttotal: 41.5s\tremaining: 2m 7s\n",
      "900:\ttest: 0.7418046\tbest: 0.7418855 (743)\ttotal: 1m 2s\tremaining: 1m 48s\n"
     ]
    },
    {
     "name": "stderr",
     "output_type": "stream",
     "text": [
      "[I 2025-02-22 08:28:39,257] Trial 34 finished with value: 0.7418854701746895 and parameters: {'iterations': 2452, 'depth': 6, 'learning_rate': 0.052357971388332154, 'l2_leaf_reg': 27.817079322325924}. Best is trial 15 with value: 0.7422119524691908.\n"
     ]
    },
    {
     "name": "stdout",
     "output_type": "stream",
     "text": [
      "Stopped by overfitting detector  (300 iterations wait)\n",
      "\n",
      "bestTest = 0.7418854702\n",
      "bestIteration = 743\n",
      "\n",
      "Shrink model to first 744 iterations.\n",
      "0:\ttest: 0.7168483\tbest: 0.7168483 (0)\ttotal: 82.6ms\tremaining: 3m 8s\n",
      "300:\ttest: 0.7411837\tbest: 0.7411965 (296)\ttotal: 24s\tremaining: 2m 37s\n",
      "600:\ttest: 0.7410870\tbest: 0.7414634 (426)\ttotal: 49.3s\tremaining: 2m 17s\n"
     ]
    },
    {
     "name": "stderr",
     "output_type": "stream",
     "text": [
      "[I 2025-02-22 08:29:39,418] Trial 35 finished with value: 0.7414634443867378 and parameters: {'iterations': 2282, 'depth': 7, 'learning_rate': 0.058415517347867346, 'l2_leaf_reg': 1.823260585082854}. Best is trial 15 with value: 0.7422119524691908.\n"
     ]
    },
    {
     "name": "stdout",
     "output_type": "stream",
     "text": [
      "Stopped by overfitting detector  (300 iterations wait)\n",
      "\n",
      "bestTest = 0.7414634444\n",
      "bestIteration = 426\n",
      "\n",
      "Shrink model to first 427 iterations.\n",
      "0:\ttest: 0.7168979\tbest: 0.7168979 (0)\ttotal: 82.6ms\tremaining: 3m 36s\n",
      "300:\ttest: 0.7413842\tbest: 0.7413842 (300)\ttotal: 22.7s\tremaining: 2m 54s\n",
      "600:\ttest: 0.7418961\tbest: 0.7419002 (599)\ttotal: 47.7s\tremaining: 2m 40s\n",
      "900:\ttest: 0.7419764\tbest: 0.7420361 (668)\ttotal: 1m 12s\tremaining: 2m 17s\n"
     ]
    },
    {
     "name": "stderr",
     "output_type": "stream",
     "text": [
      "[I 2025-02-22 08:30:57,681] Trial 36 finished with value: 0.7420361375107098 and parameters: {'iterations': 2616, 'depth': 7, 'learning_rate': 0.047691484959856846, 'l2_leaf_reg': 84.374201062341}. Best is trial 15 with value: 0.7422119524691908.\n"
     ]
    },
    {
     "name": "stdout",
     "output_type": "stream",
     "text": [
      "Stopped by overfitting detector  (300 iterations wait)\n",
      "\n",
      "bestTest = 0.7420361375\n",
      "bestIteration = 668\n",
      "\n",
      "Shrink model to first 669 iterations.\n",
      "0:\ttest: 0.7061101\tbest: 0.7061101 (0)\ttotal: 62.5ms\tremaining: 3m 7s\n",
      "300:\ttest: 0.7408544\tbest: 0.7408562 (298)\ttotal: 17s\tremaining: 2m 32s\n",
      "600:\ttest: 0.7416245\tbest: 0.7416539 (493)\ttotal: 35.1s\tremaining: 2m 19s\n",
      "900:\ttest: 0.7417781\tbest: 0.7418307 (806)\ttotal: 53.3s\tremaining: 2m 4s\n"
     ]
    },
    {
     "name": "stderr",
     "output_type": "stream",
     "text": [
      "[I 2025-02-22 08:32:03,894] Trial 37 finished with value: 0.7418306759156761 and parameters: {'iterations': 2999, 'depth': 5, 'learning_rate': 0.04390408131569546, 'l2_leaf_reg': 4.51837754335575}. Best is trial 15 with value: 0.7422119524691908.\n"
     ]
    },
    {
     "name": "stdout",
     "output_type": "stream",
     "text": [
      "Stopped by overfitting detector  (300 iterations wait)\n",
      "\n",
      "bestTest = 0.7418306759\n",
      "bestIteration = 806\n",
      "\n",
      "Shrink model to first 807 iterations.\n",
      "0:\ttest: 0.7168979\tbest: 0.7168979 (0)\ttotal: 81.9ms\tremaining: 3m 38s\n",
      "300:\ttest: 0.7412100\tbest: 0.7412110 (299)\ttotal: 22.4s\tremaining: 2m 56s\n",
      "600:\ttest: 0.7416989\tbest: 0.7417222 (599)\ttotal: 47.2s\tremaining: 2m 42s\n",
      "900:\ttest: 0.7417274\tbest: 0.7417487 (683)\ttotal: 1m 11s\tremaining: 2m 20s\n"
     ]
    },
    {
     "name": "stderr",
     "output_type": "stream",
     "text": [
      "[I 2025-02-22 08:33:22,700] Trial 38 finished with value: 0.741748696969569 and parameters: {'iterations': 2667, 'depth': 7, 'learning_rate': 0.0508531152426503, 'l2_leaf_reg': 84.59226862378267}. Best is trial 15 with value: 0.7422119524691908.\n"
     ]
    },
    {
     "name": "stdout",
     "output_type": "stream",
     "text": [
      "Stopped by overfitting detector  (300 iterations wait)\n",
      "\n",
      "bestTest = 0.741748697\n",
      "bestIteration = 683\n",
      "\n",
      "Shrink model to first 684 iterations.\n",
      "0:\ttest: 0.7198697\tbest: 0.7198697 (0)\ttotal: 96.1ms\tremaining: 4m 9s\n",
      "300:\ttest: 0.7411871\tbest: 0.7414538 (173)\ttotal: 27.3s\tremaining: 3m 28s\n"
     ]
    },
    {
     "name": "stderr",
     "output_type": "stream",
     "text": [
      "[I 2025-02-22 08:34:07,057] Trial 39 finished with value: 0.7414537871914395 and parameters: {'iterations': 2599, 'depth': 8, 'learning_rate': 0.062471860202261635, 'l2_leaf_reg': 0.11078371618386643}. Best is trial 15 with value: 0.7422119524691908.\n",
      "[I 2025-02-22 08:34:07,060] A new study created in memory with name: no-name-e5e31d78-4e86-40d7-8e8f-39def40e2fda\n"
     ]
    },
    {
     "name": "stdout",
     "output_type": "stream",
     "text": [
      "Stopped by overfitting detector  (300 iterations wait)\n",
      "\n",
      "bestTest = 0.7414537872\n",
      "bestIteration = 173\n",
      "\n",
      "Shrink model to first 174 iterations.\n"
     ]
    },
    {
     "name": "stderr",
     "output_type": "stream",
     "text": [
      "[I 2025-02-22 08:34:30,418] Trial 0 finished with value: 0.7300373344311193 and parameters: {'num_iterations': 2366, 'objective': 'binary', 'metric': 'auc', 'verbose': -1, 'learning_rate': 0.0652646236447618, 'n_estimators': 236, 'min_child_samples': 45, 'subsample': 0.7, 'colsample_bytree': 0.5}. Best is trial 0 with value: 0.7300373344311193.\n",
      "[I 2025-02-22 08:34:47,280] Trial 1 finished with value: 0.7417250265167841 and parameters: {'num_iterations': 1510, 'objective': 'binary', 'metric': 'auc', 'verbose': -1, 'learning_rate': 0.005231880959249543, 'n_estimators': 1411, 'min_child_samples': 10, 'subsample': 1.0, 'colsample_bytree': 0.5}. Best is trial 1 with value: 0.7417250265167841.\n",
      "[I 2025-02-22 08:35:06,455] Trial 2 finished with value: 0.7408956116275046 and parameters: {'num_iterations': 2334, 'objective': 'binary', 'metric': 'auc', 'verbose': -1, 'learning_rate': 0.006578527777128852, 'n_estimators': 931, 'min_child_samples': 15, 'subsample': 0.5, 'colsample_bytree': 1.0}. Best is trial 1 with value: 0.7417250265167841.\n",
      "[I 2025-02-22 08:35:22,217] Trial 3 finished with value: 0.7418175799329073 and parameters: {'num_iterations': 1620, 'objective': 'binary', 'metric': 'auc', 'verbose': -1, 'learning_rate': 0.0058823249237283685, 'n_estimators': 837, 'min_child_samples': 10, 'subsample': 0.9, 'colsample_bytree': 0.6}. Best is trial 3 with value: 0.7418175799329073.\n",
      "[I 2025-02-22 08:35:38,383] Trial 4 finished with value: 0.7410612650881366 and parameters: {'num_iterations': 1997, 'objective': 'binary', 'metric': 'auc', 'verbose': -1, 'learning_rate': 0.010907507425244923, 'n_estimators': 1597, 'min_child_samples': 50, 'subsample': 0.6, 'colsample_bytree': 0.8}. Best is trial 3 with value: 0.7418175799329073.\n",
      "[I 2025-02-22 08:36:00,707] Trial 5 finished with value: 0.73742650246978 and parameters: {'num_iterations': 2909, 'objective': 'binary', 'metric': 'auc', 'verbose': -1, 'learning_rate': 0.019760591962733942, 'n_estimators': 612, 'min_child_samples': 30, 'subsample': 0.7, 'colsample_bytree': 0.9}. Best is trial 3 with value: 0.7418175799329073.\n",
      "[I 2025-02-22 08:36:21,141] Trial 6 finished with value: 0.738380722313099 and parameters: {'num_iterations': 2639, 'objective': 'binary', 'metric': 'auc', 'verbose': -1, 'learning_rate': 0.017862094446750985, 'n_estimators': 794, 'min_child_samples': 35, 'subsample': 1.0, 'colsample_bytree': 0.8}. Best is trial 3 with value: 0.7418175799329073.\n",
      "[I 2025-02-22 08:36:37,580] Trial 7 finished with value: 0.7408144427421873 and parameters: {'num_iterations': 1580, 'objective': 'binary', 'metric': 'auc', 'verbose': -1, 'learning_rate': 0.01776722177611332, 'n_estimators': 529, 'min_child_samples': 25, 'subsample': 0.8, 'colsample_bytree': 0.5}. Best is trial 3 with value: 0.7418175799329073.\n",
      "[I 2025-02-22 08:36:54,461] Trial 8 finished with value: 0.7371573359470448 and parameters: {'num_iterations': 1911, 'objective': 'binary', 'metric': 'auc', 'verbose': -1, 'learning_rate': 0.0304747553332844, 'n_estimators': 1328, 'min_child_samples': 10, 'subsample': 0.7, 'colsample_bytree': 0.6}. Best is trial 3 with value: 0.7418175799329073.\n",
      "[I 2025-02-22 08:37:21,863] Trial 9 finished with value: 0.7374201530227069 and parameters: {'num_iterations': 2739, 'objective': 'binary', 'metric': 'auc', 'verbose': -1, 'learning_rate': 0.02691531614176271, 'n_estimators': 1438, 'min_child_samples': 20, 'subsample': 0.6, 'colsample_bytree': 0.5}. Best is trial 3 with value: 0.7418175799329073.\n",
      "[I 2025-02-22 08:37:36,059] Trial 10 finished with value: 0.7289506974448682 and parameters: {'num_iterations': 1883, 'objective': 'binary', 'metric': 'auc', 'verbose': -1, 'learning_rate': 0.08223556891145911, 'n_estimators': 1917, 'min_child_samples': 40, 'subsample': 0.9, 'colsample_bytree': 0.7}. Best is trial 3 with value: 0.7418175799329073.\n",
      "[I 2025-02-22 08:37:50,998] Trial 11 finished with value: 0.7418885356988548 and parameters: {'num_iterations': 1513, 'objective': 'binary', 'metric': 'auc', 'verbose': -1, 'learning_rate': 0.005340229419903739, 'n_estimators': 1206, 'min_child_samples': 10, 'subsample': 1.0, 'colsample_bytree': 0.6}. Best is trial 11 with value: 0.7418885356988548.\n",
      "[I 2025-02-22 08:38:05,447] Trial 12 finished with value: 0.7414020306603879 and parameters: {'num_iterations': 1717, 'objective': 'binary', 'metric': 'auc', 'verbose': -1, 'learning_rate': 0.008807202863131344, 'n_estimators': 1093, 'min_child_samples': 20, 'subsample': 0.9, 'colsample_bytree': 0.7}. Best is trial 11 with value: 0.7418885356988548.\n",
      "[I 2025-02-22 08:38:24,635] Trial 13 finished with value: 0.7408269351502499 and parameters: {'num_iterations': 2084, 'objective': 'binary', 'metric': 'auc', 'verbose': -1, 'learning_rate': 0.010947685715514379, 'n_estimators': 1108, 'min_child_samples': 10, 'subsample': 0.9, 'colsample_bytree': 0.6}. Best is trial 11 with value: 0.7418885356988548.\n",
      "[I 2025-02-22 08:38:41,820] Trial 14 finished with value: 0.7418924311382412 and parameters: {'num_iterations': 1759, 'objective': 'binary', 'metric': 'auc', 'verbose': -1, 'learning_rate': 0.00514593053258222, 'n_estimators': 172, 'min_child_samples': 20, 'subsample': 1.0, 'colsample_bytree': 0.6}. Best is trial 14 with value: 0.7418924311382412.\n",
      "[I 2025-02-22 08:38:56,642] Trial 15 finished with value: 0.7414538586673916 and parameters: {'num_iterations': 1756, 'objective': 'binary', 'metric': 'auc', 'verbose': -1, 'learning_rate': 0.008303365162986591, 'n_estimators': 208, 'min_child_samples': 20, 'subsample': 1.0, 'colsample_bytree': 0.7}. Best is trial 14 with value: 0.7418924311382412.\n",
      "[I 2025-02-22 08:39:15,453] Trial 16 finished with value: 0.7357445025701005 and parameters: {'num_iterations': 2163, 'objective': 'binary', 'metric': 'auc', 'verbose': -1, 'learning_rate': 0.03901437770924474, 'n_estimators': 463, 'min_child_samples': 25, 'subsample': 0.8, 'colsample_bytree': 0.6}. Best is trial 14 with value: 0.7418924311382412.\n",
      "[I 2025-02-22 08:39:31,694] Trial 17 finished with value: 0.7407763976812692 and parameters: {'num_iterations': 1770, 'objective': 'binary', 'metric': 'auc', 'verbose': -1, 'learning_rate': 0.014107419975913894, 'n_estimators': 1873, 'min_child_samples': 15, 'subsample': 1.0, 'colsample_bytree': 0.6}. Best is trial 14 with value: 0.7418924311382412.\n",
      "[I 2025-02-22 08:39:51,891] Trial 18 finished with value: 0.7410857297181666 and parameters: {'num_iterations': 2434, 'objective': 'binary', 'metric': 'auc', 'verbose': -1, 'learning_rate': 0.007395766065557996, 'n_estimators': 126, 'min_child_samples': 30, 'subsample': 0.8, 'colsample_bytree': 0.7}. Best is trial 14 with value: 0.7418924311382412.\n",
      "[I 2025-02-22 08:40:05,367] Trial 19 finished with value: 0.7417964746726234 and parameters: {'num_iterations': 1527, 'objective': 'binary', 'metric': 'auc', 'verbose': -1, 'learning_rate': 0.005234790012397332, 'n_estimators': 1670, 'min_child_samples': 15, 'subsample': 1.0, 'colsample_bytree': 0.8}. Best is trial 14 with value: 0.7418924311382412.\n",
      "[I 2025-02-22 08:40:20,463] Trial 20 finished with value: 0.7406176694462129 and parameters: {'num_iterations': 1873, 'objective': 'binary', 'metric': 'auc', 'verbose': -1, 'learning_rate': 0.012796480593590575, 'n_estimators': 1257, 'min_child_samples': 25, 'subsample': 0.9, 'colsample_bytree': 0.9}. Best is trial 14 with value: 0.7418924311382412.\n",
      "[I 2025-02-22 08:40:36,749] Trial 21 finished with value: 0.7418604019699535 and parameters: {'num_iterations': 1655, 'objective': 'binary', 'metric': 'auc', 'verbose': -1, 'learning_rate': 0.005153550511409945, 'n_estimators': 864, 'min_child_samples': 10, 'subsample': 0.9, 'colsample_bytree': 0.6}. Best is trial 14 with value: 0.7418924311382412.\n",
      "[I 2025-02-22 08:40:53,220] Trial 22 finished with value: 0.7419142511580454 and parameters: {'num_iterations': 1668, 'objective': 'binary', 'metric': 'auc', 'verbose': -1, 'learning_rate': 0.005003585055247969, 'n_estimators': 369, 'min_child_samples': 15, 'subsample': 1.0, 'colsample_bytree': 0.6}. Best is trial 22 with value: 0.7419142511580454.\n",
      "[I 2025-02-22 08:41:12,482] Trial 23 finished with value: 0.7417519014747522 and parameters: {'num_iterations': 1787, 'objective': 'binary', 'metric': 'auc', 'verbose': -1, 'learning_rate': 0.007594680866521767, 'n_estimators': 412, 'min_child_samples': 15, 'subsample': 1.0, 'colsample_bytree': 0.5}. Best is trial 22 with value: 0.7419142511580454.\n",
      "[I 2025-02-22 08:41:29,419] Trial 24 finished with value: 0.740962445613551 and parameters: {'num_iterations': 2039, 'objective': 'binary', 'metric': 'auc', 'verbose': -1, 'learning_rate': 0.008991196778412532, 'n_estimators': 332, 'min_child_samples': 20, 'subsample': 1.0, 'colsample_bytree': 0.7}. Best is trial 22 with value: 0.7419142511580454.\n",
      "[I 2025-02-22 08:41:43,601] Trial 25 finished with value: 0.7416417133529054 and parameters: {'num_iterations': 1502, 'objective': 'binary', 'metric': 'auc', 'verbose': -1, 'learning_rate': 0.010114766220985208, 'n_estimators': 667, 'min_child_samples': 15, 'subsample': 1.0, 'colsample_bytree': 0.6}. Best is trial 22 with value: 0.7419142511580454.\n",
      "[I 2025-02-22 08:41:59,448] Trial 26 finished with value: 0.7419355748170716 and parameters: {'num_iterations': 1640, 'objective': 'binary', 'metric': 'auc', 'verbose': -1, 'learning_rate': 0.006560862459482555, 'n_estimators': 325, 'min_child_samples': 20, 'subsample': 0.9, 'colsample_bytree': 0.6}. Best is trial 26 with value: 0.7419355748170716.\n",
      "[I 2025-02-22 08:42:13,872] Trial 27 finished with value: 0.7418334753904644 and parameters: {'num_iterations': 1677, 'objective': 'binary', 'metric': 'auc', 'verbose': -1, 'learning_rate': 0.006876827871456654, 'n_estimators': 329, 'min_child_samples': 25, 'subsample': 0.9, 'colsample_bytree': 0.7}. Best is trial 26 with value: 0.7419355748170716.\n",
      "[I 2025-02-22 08:42:36,747] Trial 28 finished with value: 0.7404225162718181 and parameters: {'num_iterations': 2224, 'objective': 'binary', 'metric': 'auc', 'verbose': -1, 'learning_rate': 0.013985711494975598, 'n_estimators': 123, 'min_child_samples': 35, 'subsample': 0.8, 'colsample_bytree': 0.5}. Best is trial 26 with value: 0.7419355748170716.\n",
      "[I 2025-02-22 08:42:55,853] Trial 29 finished with value: 0.734251632010413 and parameters: {'num_iterations': 1921, 'objective': 'binary', 'metric': 'auc', 'verbose': -1, 'learning_rate': 0.052737906864342717, 'n_estimators': 315, 'min_child_samples': 20, 'subsample': 0.9, 'colsample_bytree': 0.5}. Best is trial 26 with value: 0.7419355748170716.\n",
      "[I 2025-02-22 08:43:13,293] Trial 30 finished with value: 0.7419779799110642 and parameters: {'num_iterations': 1813, 'objective': 'binary', 'metric': 'auc', 'verbose': -1, 'learning_rate': 0.006300048275050027, 'n_estimators': 680, 'min_child_samples': 35, 'subsample': 0.8, 'colsample_bytree': 0.6}. Best is trial 30 with value: 0.7419779799110642.\n",
      "[I 2025-02-22 08:43:30,861] Trial 31 finished with value: 0.7419362856057058 and parameters: {'num_iterations': 1828, 'objective': 'binary', 'metric': 'auc', 'verbose': -1, 'learning_rate': 0.006453879678088652, 'n_estimators': 677, 'min_child_samples': 35, 'subsample': 0.8, 'colsample_bytree': 0.6}. Best is trial 30 with value: 0.7419779799110642.\n",
      "[I 2025-02-22 08:43:50,672] Trial 32 finished with value: 0.7419776344439627 and parameters: {'num_iterations': 1826, 'objective': 'binary', 'metric': 'auc', 'verbose': -1, 'learning_rate': 0.0066891129944415565, 'n_estimators': 708, 'min_child_samples': 40, 'subsample': 0.8, 'colsample_bytree': 0.5}. Best is trial 30 with value: 0.7419779799110642.\n",
      "[I 2025-02-22 08:44:10,532] Trial 33 finished with value: 0.7419379533779201 and parameters: {'num_iterations': 1829, 'objective': 'binary', 'metric': 'auc', 'verbose': -1, 'learning_rate': 0.006390876117350938, 'n_estimators': 705, 'min_child_samples': 40, 'subsample': 0.8, 'colsample_bytree': 0.5}. Best is trial 30 with value: 0.7419779799110642.\n",
      "[I 2025-02-22 08:44:33,345] Trial 34 finished with value: 0.7419387832931411 and parameters: {'num_iterations': 2115, 'objective': 'binary', 'metric': 'auc', 'verbose': -1, 'learning_rate': 0.0065349902424653465, 'n_estimators': 678, 'min_child_samples': 40, 'subsample': 0.8, 'colsample_bytree': 0.5}. Best is trial 30 with value: 0.7419779799110642.\n",
      "[I 2025-02-22 08:44:57,797] Trial 35 finished with value: 0.7414767309720454 and parameters: {'num_iterations': 2341, 'objective': 'binary', 'metric': 'auc', 'verbose': -1, 'learning_rate': 0.009973915578206077, 'n_estimators': 983, 'min_child_samples': 45, 'subsample': 0.7, 'colsample_bytree': 0.5}. Best is trial 30 with value: 0.7419779799110642.\n",
      "[I 2025-02-22 08:45:20,415] Trial 36 finished with value: 0.7418255256762427 and parameters: {'num_iterations': 2098, 'objective': 'binary', 'metric': 'auc', 'verbose': -1, 'learning_rate': 0.006263207179013611, 'n_estimators': 730, 'min_child_samples': 40, 'subsample': 0.8, 'colsample_bytree': 0.5}. Best is trial 30 with value: 0.7419779799110642.\n",
      "[I 2025-02-22 08:45:41,558] Trial 37 finished with value: 0.7418852954556956 and parameters: {'num_iterations': 1974, 'objective': 'binary', 'metric': 'auc', 'verbose': -1, 'learning_rate': 0.007899232471630106, 'n_estimators': 554, 'min_child_samples': 45, 'subsample': 0.6, 'colsample_bytree': 0.5}. Best is trial 30 with value: 0.7419779799110642.\n",
      "[I 2025-02-22 08:46:03,999] Trial 38 finished with value: 0.7409366427948635 and parameters: {'num_iterations': 2140, 'objective': 'binary', 'metric': 'auc', 'verbose': -1, 'learning_rate': 0.011530475417141925, 'n_estimators': 922, 'min_child_samples': 40, 'subsample': 0.7, 'colsample_bytree': 0.5}. Best is trial 30 with value: 0.7419779799110642.\n",
      "[I 2025-02-22 08:46:22,272] Trial 39 finished with value: 0.7412053169277069 and parameters: {'num_iterations': 2262, 'objective': 'binary', 'metric': 'auc', 'verbose': -1, 'learning_rate': 0.009021069827104544, 'n_estimators': 556, 'min_child_samples': 50, 'subsample': 0.8, 'colsample_bytree': 1.0}. Best is trial 30 with value: 0.7419779799110642.\n"
     ]
    },
    {
     "name": "stdout",
     "output_type": "stream",
     "text": [
      "Cat val score : 0.7422119524691908\n",
      "LGBM val score : 0.7418796448845979\n",
      "Ensemble val score : 0.7424171996363684\n"
     ]
    },
    {
     "name": "stderr",
     "output_type": "stream",
     "text": [
      "[I 2025-02-22 08:46:41,606] A new study created in memory with name: no-name-be5ed5b1-0fe4-419d-99dc-854b27d2b563\n"
     ]
    },
    {
     "name": "stdout",
     "output_type": "stream",
     "text": [
      "==================================================\n",
      "0:\ttest: 0.7119342\tbest: 0.7119342 (0)\ttotal: 97.4ms\tremaining: 3m 50s\n",
      "300:\ttest: 0.7406721\tbest: 0.7406721 (300)\ttotal: 38.3s\tremaining: 4m 23s\n",
      "600:\ttest: 0.7418994\tbest: 0.7418994 (600)\ttotal: 1m 18s\tremaining: 3m 50s\n",
      "900:\ttest: 0.7422838\tbest: 0.7422838 (900)\ttotal: 1m 58s\tremaining: 3m 12s\n",
      "1200:\ttest: 0.7423437\tbest: 0.7424551 (1076)\ttotal: 2m 42s\tremaining: 2m 37s\n"
     ]
    },
    {
     "name": "stderr",
     "output_type": "stream",
     "text": [
      "[I 2025-02-22 08:49:53,691] Trial 0 finished with value: 0.7424550540947477 and parameters: {'iterations': 2366, 'depth': 10, 'learning_rate': 0.01181021951839225, 'l2_leaf_reg': 9.980783802743254}. Best is trial 0 with value: 0.7424550540947477.\n"
     ]
    },
    {
     "name": "stdout",
     "output_type": "stream",
     "text": [
      "Stopped by overfitting detector  (300 iterations wait)\n",
      "\n",
      "bestTest = 0.7424550541\n",
      "bestIteration = 1076\n",
      "\n",
      "Shrink model to first 1077 iterations.\n",
      "저장 완료\n",
      "0:\ttest: 0.6931364\tbest: 0.6931364 (0)\ttotal: 52ms\tremaining: 1m 53s\n",
      "300:\ttest: 0.7312220\tbest: 0.7312221 (299)\ttotal: 13.2s\tremaining: 1m 22s\n",
      "600:\ttest: 0.7360872\tbest: 0.7360872 (600)\ttotal: 26.5s\tremaining: 1m 10s\n",
      "900:\ttest: 0.7382919\tbest: 0.7382919 (900)\ttotal: 40.1s\tremaining: 57.5s\n",
      "1200:\ttest: 0.7393866\tbest: 0.7393866 (1200)\ttotal: 53.9s\tremaining: 44.5s\n",
      "1500:\ttest: 0.7401037\tbest: 0.7401037 (1500)\ttotal: 1m 7s\tremaining: 31.3s\n",
      "1800:\ttest: 0.7406076\tbest: 0.7406078 (1798)\ttotal: 1m 21s\tremaining: 17.8s\n",
      "2100:\ttest: 0.7410120\tbest: 0.7410120 (2100)\ttotal: 1m 36s\tremaining: 4.21s\n"
     ]
    },
    {
     "name": "stderr",
     "output_type": "stream",
     "text": [
      "[I 2025-02-22 08:51:34,465] Trial 1 finished with value: 0.7411480488065756 and parameters: {'iterations': 2193, 'depth': 4, 'learning_rate': 0.005671430811678843, 'l2_leaf_reg': 0.00012325230809466137}. Best is trial 0 with value: 0.7424550540947477.\n"
     ]
    },
    {
     "name": "stdout",
     "output_type": "stream",
     "text": [
      "2192:\ttest: 0.7411471\tbest: 0.7411480 (2191)\ttotal: 1m 40s\tremaining: 0us\n",
      "\n",
      "bestTest = 0.7411480488\n",
      "bestIteration = 2191\n",
      "\n",
      "Shrink model to first 2192 iterations.\n",
      "0:\ttest: 0.6931364\tbest: 0.6931364 (0)\ttotal: 51.1ms\tremaining: 2m 9s\n",
      "300:\ttest: 0.7425131\tbest: 0.7425131 (300)\ttotal: 14.3s\tremaining: 1m 46s\n",
      "600:\ttest: 0.7423712\tbest: 0.7427603 (481)\ttotal: 29.1s\tremaining: 1m 33s\n"
     ]
    },
    {
     "name": "stderr",
     "output_type": "stream",
     "text": [
      "[I 2025-02-22 08:52:12,781] Trial 2 finished with value: 0.7427603159732648 and parameters: {'iterations': 2535, 'depth': 4, 'learning_rate': 0.09275339199839054, 'l2_leaf_reg': 0.0008705394248343123}. Best is trial 2 with value: 0.7427603159732648.\n"
     ]
    },
    {
     "name": "stdout",
     "output_type": "stream",
     "text": [
      "Stopped by overfitting detector  (300 iterations wait)\n",
      "\n",
      "bestTest = 0.742760316\n",
      "bestIteration = 481\n",
      "\n",
      "Shrink model to first 482 iterations.\n",
      "저장 완료\n",
      "0:\ttest: 0.6931364\tbest: 0.6931364 (0)\ttotal: 50.3ms\tremaining: 1m 57s\n",
      "300:\ttest: 0.7413907\tbest: 0.7413907 (300)\ttotal: 13.6s\tremaining: 1m 32s\n",
      "600:\ttest: 0.7425941\tbest: 0.7425941 (600)\ttotal: 28.2s\tremaining: 1m 21s\n",
      "900:\ttest: 0.7425706\tbest: 0.7426772 (686)\ttotal: 43.1s\tremaining: 1m 8s\n"
     ]
    },
    {
     "name": "stderr",
     "output_type": "stream",
     "text": [
      "[I 2025-02-22 08:53:00,165] Trial 3 finished with value: 0.7426772013536973 and parameters: {'iterations': 2334, 'depth': 4, 'learning_rate': 0.04657568321363276, 'l2_leaf_reg': 0.0008640473331457248}. Best is trial 2 with value: 0.7427603159732648.\n"
     ]
    },
    {
     "name": "stdout",
     "output_type": "stream",
     "text": [
      "Stopped by overfitting detector  (300 iterations wait)\n",
      "\n",
      "bestTest = 0.7426772014\n",
      "bestIteration = 686\n",
      "\n",
      "Shrink model to first 687 iterations.\n",
      "0:\ttest: 0.7119378\tbest: 0.7119378 (0)\ttotal: 94.8ms\tremaining: 2m 45s\n",
      "300:\ttest: 0.7400989\tbest: 0.7400989 (300)\ttotal: 37.5s\tremaining: 2m 59s\n",
      "600:\ttest: 0.7406002\tbest: 0.7406448 (576)\ttotal: 1m 16s\tremaining: 2m 25s\n",
      "900:\ttest: 0.7403613\tbest: 0.7407016 (630)\ttotal: 1m 56s\tremaining: 1m 48s\n"
     ]
    },
    {
     "name": "stderr",
     "output_type": "stream",
     "text": [
      "[I 2025-02-22 08:55:00,954] Trial 4 finished with value: 0.7407015861847976 and parameters: {'iterations': 1742, 'depth': 10, 'learning_rate': 0.012622767482095846, 'l2_leaf_reg': 0.00021158816350109617}. Best is trial 2 with value: 0.7427603159732648.\n"
     ]
    },
    {
     "name": "stdout",
     "output_type": "stream",
     "text": [
      "Stopped by overfitting detector  (300 iterations wait)\n",
      "\n",
      "bestTest = 0.7407015862\n",
      "bestIteration = 630\n",
      "\n",
      "Shrink model to first 631 iterations.\n",
      "0:\ttest: 0.6931364\tbest: 0.6931364 (0)\ttotal: 51.6ms\tremaining: 1m 47s\n",
      "300:\ttest: 0.7420895\tbest: 0.7420895 (300)\ttotal: 14.3s\tremaining: 1m 24s\n",
      "600:\ttest: 0.7423678\tbest: 0.7426024 (477)\ttotal: 29.1s\tremaining: 1m 11s\n"
     ]
    },
    {
     "name": "stderr",
     "output_type": "stream",
     "text": [
      "[I 2025-02-22 08:55:38,966] Trial 5 finished with value: 0.742602362061022 and parameters: {'iterations': 2082, 'depth': 4, 'learning_rate': 0.06995196593094148, 'l2_leaf_reg': 0.0018080296485396804}. Best is trial 2 with value: 0.7427603159732648.\n"
     ]
    },
    {
     "name": "stdout",
     "output_type": "stream",
     "text": [
      "Stopped by overfitting detector  (300 iterations wait)\n",
      "\n",
      "bestTest = 0.7426023621\n",
      "bestIteration = 477\n",
      "\n",
      "Shrink model to first 478 iterations.\n",
      "0:\ttest: 0.6948075\tbest: 0.6948075 (0)\ttotal: 60.4ms\tremaining: 2m\n",
      "300:\ttest: 0.7422112\tbest: 0.7422336 (267)\ttotal: 17.2s\tremaining: 1m 36s\n",
      "600:\ttest: 0.7428106\tbest: 0.7428117 (512)\ttotal: 34.8s\tremaining: 1m 20s\n",
      "900:\ttest: 0.7428102\tbest: 0.7428742 (708)\ttotal: 52.7s\tremaining: 1m 4s\n",
      "1200:\ttest: 0.7429237\tbest: 0.7429768 (1067)\ttotal: 1m 10s\tremaining: 46.9s\n"
     ]
    },
    {
     "name": "stderr",
     "output_type": "stream",
     "text": [
      "[I 2025-02-22 08:57:00,035] Trial 6 finished with value: 0.7429768245737753 and parameters: {'iterations': 1997, 'depth': 5, 'learning_rate': 0.07985155992831598, 'l2_leaf_reg': 62.52181000710482}. Best is trial 6 with value: 0.7429768245737753.\n"
     ]
    },
    {
     "name": "stdout",
     "output_type": "stream",
     "text": [
      "Stopped by overfitting detector  (300 iterations wait)\n",
      "\n",
      "bestTest = 0.7429768246\n",
      "bestIteration = 1067\n",
      "\n",
      "Shrink model to first 1068 iterations.\n",
      "저장 완료\n",
      "0:\ttest: 0.7119378\tbest: 0.7119378 (0)\ttotal: 100ms\tremaining: 3m 13s\n",
      "300:\ttest: 0.7412199\tbest: 0.7420234 (180)\ttotal: 24s\tremaining: 2m 9s\n"
     ]
    },
    {
     "name": "stderr",
     "output_type": "stream",
     "text": [
      "[I 2025-02-22 08:57:39,439] Trial 7 finished with value: 0.7420234227330187 and parameters: {'iterations': 1927, 'depth': 7, 'learning_rate': 0.0941937211034094, 'l2_leaf_reg': 0.05654822767791934}. Best is trial 6 with value: 0.7429768245737753.\n"
     ]
    },
    {
     "name": "stdout",
     "output_type": "stream",
     "text": [
      "Stopped by overfitting detector  (300 iterations wait)\n",
      "\n",
      "bestTest = 0.7420234227\n",
      "bestIteration = 180\n",
      "\n",
      "Shrink model to first 181 iterations.\n",
      "0:\ttest: 0.7119371\tbest: 0.7119371 (0)\ttotal: 84.4ms\tremaining: 2m 40s\n",
      "300:\ttest: 0.7426524\tbest: 0.7426729 (296)\ttotal: 23s\tremaining: 2m 2s\n",
      "600:\ttest: 0.7429652\tbest: 0.7431408 (527)\ttotal: 48.2s\tremaining: 1m 44s\n"
     ]
    },
    {
     "name": "stderr",
     "output_type": "stream",
     "text": [
      "[I 2025-02-22 08:58:46,874] Trial 8 finished with value: 0.7431408301166242 and parameters: {'iterations': 1904, 'depth': 7, 'learning_rate': 0.05155602859187331, 'l2_leaf_reg': 1.299974533316308}. Best is trial 8 with value: 0.7431408301166242.\n"
     ]
    },
    {
     "name": "stdout",
     "output_type": "stream",
     "text": [
      "Stopped by overfitting detector  (300 iterations wait)\n",
      "\n",
      "bestTest = 0.7431408301\n",
      "bestIteration = 527\n",
      "\n",
      "Shrink model to first 528 iterations.\n",
      "저장 완료\n",
      "0:\ttest: 0.6977158\tbest: 0.6977158 (0)\ttotal: 76.1ms\tremaining: 3m 20s\n",
      "300:\ttest: 0.7420185\tbest: 0.7420185 (300)\ttotal: 19.6s\tremaining: 2m 32s\n",
      "600:\ttest: 0.7428627\tbest: 0.7428667 (571)\ttotal: 41.2s\tremaining: 2m 19s\n",
      "900:\ttest: 0.7428617\tbest: 0.7429309 (629)\ttotal: 1m 2s\tremaining: 2m 1s\n"
     ]
    },
    {
     "name": "stderr",
     "output_type": "stream",
     "text": [
      "[I 2025-02-22 08:59:51,995] Trial 9 finished with value: 0.7429308774492704 and parameters: {'iterations': 2639, 'depth': 6, 'learning_rate': 0.03968704290444751, 'l2_leaf_reg': 0.30557194377967184}. Best is trial 8 with value: 0.7431408301166242.\n"
     ]
    },
    {
     "name": "stdout",
     "output_type": "stream",
     "text": [
      "Stopped by overfitting detector  (300 iterations wait)\n",
      "\n",
      "bestTest = 0.7429308774\n",
      "bestIteration = 629\n",
      "\n",
      "Shrink model to first 630 iterations.\n",
      "0:\ttest: 0.7119376\tbest: 0.7119376 (0)\ttotal: 91.3ms\tremaining: 4m 28s\n",
      "300:\ttest: 0.7420548\tbest: 0.7420548 (300)\ttotal: 25.7s\tremaining: 3m 45s\n",
      "600:\ttest: 0.7425764\tbest: 0.7426083 (576)\ttotal: 53.8s\tremaining: 3m 29s\n",
      "900:\ttest: 0.7420345\tbest: 0.7426260 (611)\ttotal: 1m 22s\tremaining: 3m 8s\n"
     ]
    },
    {
     "name": "stderr",
     "output_type": "stream",
     "text": [
      "[I 2025-02-22 09:01:16,193] Trial 10 finished with value: 0.7426259848631723 and parameters: {'iterations': 2945, 'depth': 8, 'learning_rate': 0.032580115422505045, 'l2_leaf_reg': 0.87526046512315}. Best is trial 8 with value: 0.7431408301166242.\n"
     ]
    },
    {
     "name": "stdout",
     "output_type": "stream",
     "text": [
      "Stopped by overfitting detector  (300 iterations wait)\n",
      "\n",
      "bestTest = 0.7426259849\n",
      "bestIteration = 611\n",
      "\n",
      "Shrink model to first 612 iterations.\n",
      "0:\ttest: 0.6977491\tbest: 0.6977491 (0)\ttotal: 71.4ms\tremaining: 1m 57s\n",
      "300:\ttest: 0.7425377\tbest: 0.7425377 (299)\ttotal: 20s\tremaining: 1m 29s\n",
      "600:\ttest: 0.7428923\tbest: 0.7429381 (549)\ttotal: 40.7s\tremaining: 1m 10s\n",
      "900:\ttest: 0.7428984\tbest: 0.7430502 (746)\ttotal: 1m 1s\tremaining: 51.1s\n"
     ]
    },
    {
     "name": "stderr",
     "output_type": "stream",
     "text": [
      "[I 2025-02-22 09:02:28,671] Trial 11 finished with value: 0.7430502303765236 and parameters: {'iterations': 1645, 'depth': 6, 'learning_rate': 0.06980778172048213, 'l2_leaf_reg': 73.1213351392818}. Best is trial 8 with value: 0.7431408301166242.\n"
     ]
    },
    {
     "name": "stdout",
     "output_type": "stream",
     "text": [
      "Stopped by overfitting detector  (300 iterations wait)\n",
      "\n",
      "bestTest = 0.7430502304\n",
      "bestIteration = 746\n",
      "\n",
      "Shrink model to first 747 iterations.\n",
      "0:\ttest: 0.7119366\tbest: 0.7119366 (0)\ttotal: 88ms\tremaining: 2m 16s\n",
      "300:\ttest: 0.7432765\tbest: 0.7432871 (296)\ttotal: 23.1s\tremaining: 1m 36s\n",
      "600:\ttest: 0.7430233\tbest: 0.7434486 (342)\ttotal: 48.4s\tremaining: 1m 16s\n"
     ]
    },
    {
     "name": "stderr",
     "output_type": "stream",
     "text": [
      "[I 2025-02-22 09:03:20,785] Trial 12 finished with value: 0.7434486214496664 and parameters: {'iterations': 1553, 'depth': 7, 'learning_rate': 0.06294305307719734, 'l2_leaf_reg': 6.4688552126590215}. Best is trial 12 with value: 0.7434486214496664.\n"
     ]
    },
    {
     "name": "stdout",
     "output_type": "stream",
     "text": [
      "Stopped by overfitting detector  (300 iterations wait)\n",
      "\n",
      "bestTest = 0.7434486214\n",
      "bestIteration = 342\n",
      "\n",
      "Shrink model to first 343 iterations.\n",
      "저장 완료\n",
      "0:\ttest: 0.7119370\tbest: 0.7119370 (0)\ttotal: 90.1ms\tremaining: 2m 23s\n",
      "300:\ttest: 0.7430150\tbest: 0.7430489 (286)\ttotal: 26.3s\tremaining: 1m 53s\n",
      "600:\ttest: 0.7425523\tbest: 0.7432185 (354)\ttotal: 55.1s\tremaining: 1m 31s\n"
     ]
    },
    {
     "name": "stderr",
     "output_type": "stream",
     "text": [
      "[I 2025-02-22 09:04:21,386] Trial 13 finished with value: 0.7432185443309262 and parameters: {'iterations': 1595, 'depth': 8, 'learning_rate': 0.05691170133448147, 'l2_leaf_reg': 4.003073381383982}. Best is trial 12 with value: 0.7434486214496664.\n"
     ]
    },
    {
     "name": "stdout",
     "output_type": "stream",
     "text": [
      "Stopped by overfitting detector  (300 iterations wait)\n",
      "\n",
      "bestTest = 0.7432185443\n",
      "bestIteration = 354\n",
      "\n",
      "Shrink model to first 355 iterations.\n",
      "0:\ttest: 0.7119366\tbest: 0.7119366 (0)\ttotal: 93.1ms\tremaining: 2m 22s\n",
      "300:\ttest: 0.7430755\tbest: 0.7432379 (256)\ttotal: 26.5s\tremaining: 1m 48s\n"
     ]
    },
    {
     "name": "stderr",
     "output_type": "stream",
     "text": [
      "[I 2025-02-22 09:05:12,564] Trial 14 finished with value: 0.7432379222557023 and parameters: {'iterations': 1533, 'depth': 8, 'learning_rate': 0.06329499163803419, 'l2_leaf_reg': 6.478058975344749}. Best is trial 12 with value: 0.7434486214496664.\n"
     ]
    },
    {
     "name": "stdout",
     "output_type": "stream",
     "text": [
      "Stopped by overfitting detector  (300 iterations wait)\n",
      "\n",
      "bestTest = 0.7432379223\n",
      "bestIteration = 256\n",
      "\n",
      "Shrink model to first 257 iterations.\n",
      "0:\ttest: 0.7119378\tbest: 0.7119378 (0)\ttotal: 91ms\tremaining: 2m 17s\n",
      "300:\ttest: 0.7399608\tbest: 0.7409164 (172)\ttotal: 30.9s\tremaining: 2m 4s\n"
     ]
    },
    {
     "name": "stderr",
     "output_type": "stream",
     "text": [
      "[I 2025-02-22 09:06:02,897] Trial 15 finished with value: 0.7409164190713216 and parameters: {'iterations': 1513, 'depth': 9, 'learning_rate': 0.06478128265357276, 'l2_leaf_reg': 0.026986971696484528}. Best is trial 12 with value: 0.7434486214496664.\n"
     ]
    },
    {
     "name": "stdout",
     "output_type": "stream",
     "text": [
      "Stopped by overfitting detector  (300 iterations wait)\n",
      "\n",
      "bestTest = 0.7409164191\n",
      "bestIteration = 172\n",
      "\n",
      "Shrink model to first 173 iterations.\n",
      "0:\ttest: 0.7119370\tbest: 0.7119370 (0)\ttotal: 96.4ms\tremaining: 2m 52s\n",
      "300:\ttest: 0.7424726\tbest: 0.7426641 (224)\ttotal: 27.4s\tremaining: 2m 15s\n"
     ]
    },
    {
     "name": "stderr",
     "output_type": "stream",
     "text": [
      "[I 2025-02-22 09:06:51,872] Trial 16 finished with value: 0.7426641172835873 and parameters: {'iterations': 1786, 'depth': 8, 'learning_rate': 0.0808891958156232, 'l2_leaf_reg': 3.3571331707147385}. Best is trial 12 with value: 0.7434486214496664.\n"
     ]
    },
    {
     "name": "stdout",
     "output_type": "stream",
     "text": [
      "Stopped by overfitting detector  (300 iterations wait)\n",
      "\n",
      "bestTest = 0.7426641173\n",
      "bestIteration = 224\n",
      "\n",
      "Shrink model to first 225 iterations.\n",
      "0:\ttest: 0.7119351\tbest: 0.7119351 (0)\ttotal: 94.4ms\tremaining: 2m 22s\n",
      "300:\ttest: 0.7423742\tbest: 0.7425620 (261)\ttotal: 29.1s\tremaining: 1m 57s\n"
     ]
    },
    {
     "name": "stderr",
     "output_type": "stream",
     "text": [
      "[I 2025-02-22 09:07:49,298] Trial 17 finished with value: 0.7425620257987525 and parameters: {'iterations': 1513, 'depth': 9, 'learning_rate': 0.05947397602956536, 'l2_leaf_reg': 18.19796339179669}. Best is trial 12 with value: 0.7434486214496664.\n"
     ]
    },
    {
     "name": "stdout",
     "output_type": "stream",
     "text": [
      "Stopped by overfitting detector  (300 iterations wait)\n",
      "\n",
      "bestTest = 0.7425620258\n",
      "bestIteration = 261\n",
      "\n",
      "Shrink model to first 262 iterations.\n",
      "0:\ttest: 0.7119378\tbest: 0.7119378 (0)\ttotal: 83.7ms\tremaining: 2m 27s\n",
      "300:\ttest: 0.7416577\tbest: 0.7416609 (295)\ttotal: 22s\tremaining: 1m 47s\n",
      "600:\ttest: 0.7427473\tbest: 0.7427893 (589)\ttotal: 45s\tremaining: 1m 27s\n",
      "900:\ttest: 0.7424957\tbest: 0.7428170 (635)\ttotal: 1m 10s\tremaining: 1m 7s\n"
     ]
    },
    {
     "name": "stderr",
     "output_type": "stream",
     "text": [
      "[I 2025-02-22 09:09:02,440] Trial 18 finished with value: 0.7428169725779175 and parameters: {'iterations': 1765, 'depth': 7, 'learning_rate': 0.023991076819928764, 'l2_leaf_reg': 0.010016909578442512}. Best is trial 12 with value: 0.7434486214496664.\n"
     ]
    },
    {
     "name": "stdout",
     "output_type": "stream",
     "text": [
      "Stopped by overfitting detector  (300 iterations wait)\n",
      "\n",
      "bestTest = 0.7428169726\n",
      "bestIteration = 635\n",
      "\n",
      "Shrink model to first 636 iterations.\n",
      "0:\ttest: 0.6977158\tbest: 0.6977158 (0)\ttotal: 71.4ms\tremaining: 3m 29s\n",
      "300:\ttest: 0.7424190\tbest: 0.7425195 (256)\ttotal: 21s\tremaining: 3m 3s\n"
     ]
    },
    {
     "name": "stderr",
     "output_type": "stream",
     "text": [
      "[I 2025-02-22 09:09:41,968] Trial 19 finished with value: 0.7425194777528559 and parameters: {'iterations': 2933, 'depth': 6, 'learning_rate': 0.07668786611971706, 'l2_leaf_reg': 0.22128686291161734}. Best is trial 12 with value: 0.7434486214496664.\n"
     ]
    },
    {
     "name": "stdout",
     "output_type": "stream",
     "text": [
      "Stopped by overfitting detector  (300 iterations wait)\n",
      "\n",
      "bestTest = 0.7425194778\n",
      "bestIteration = 256\n",
      "\n",
      "Shrink model to first 257 iterations.\n",
      "0:\ttest: 0.7119342\tbest: 0.7119342 (0)\ttotal: 92.6ms\tremaining: 2m 36s\n",
      "300:\ttest: 0.7427124\tbest: 0.7427450 (284)\ttotal: 28.9s\tremaining: 2m 13s\n",
      "600:\ttest: 0.7426276\tbest: 0.7428608 (366)\ttotal: 1m 1s\tremaining: 1m 52s\n"
     ]
    },
    {
     "name": "stderr",
     "output_type": "stream",
     "text": [
      "[I 2025-02-22 09:10:51,119] Trial 20 finished with value: 0.7428608191036097 and parameters: {'iterations': 1695, 'depth': 9, 'learning_rate': 0.044822314792307055, 'l2_leaf_reg': 13.48408224498938}. Best is trial 12 with value: 0.7434486214496664.\n"
     ]
    },
    {
     "name": "stdout",
     "output_type": "stream",
     "text": [
      "Stopped by overfitting detector  (300 iterations wait)\n",
      "\n",
      "bestTest = 0.7428608191\n",
      "bestIteration = 366\n",
      "\n",
      "Shrink model to first 367 iterations.\n",
      "0:\ttest: 0.7119370\tbest: 0.7119370 (0)\ttotal: 89.3ms\tremaining: 2m 14s\n",
      "300:\ttest: 0.7426379\tbest: 0.7426379 (300)\ttotal: 26.4s\tremaining: 1m 45s\n",
      "600:\ttest: 0.7422324\tbest: 0.7428376 (382)\ttotal: 55.3s\tremaining: 1m 23s\n"
     ]
    },
    {
     "name": "stderr",
     "output_type": "stream",
     "text": [
      "[I 2025-02-22 09:11:54,460] Trial 21 finished with value: 0.7428376132445129 and parameters: {'iterations': 1507, 'depth': 8, 'learning_rate': 0.05649196195689907, 'l2_leaf_reg': 3.4654676345265556}. Best is trial 12 with value: 0.7434486214496664.\n"
     ]
    },
    {
     "name": "stdout",
     "output_type": "stream",
     "text": [
      "Stopped by overfitting detector  (300 iterations wait)\n",
      "\n",
      "bestTest = 0.7428376132\n",
      "bestIteration = 382\n",
      "\n",
      "Shrink model to first 383 iterations.\n",
      "0:\ttest: 0.7119370\tbest: 0.7119370 (0)\ttotal: 94.4ms\tremaining: 2m 34s\n",
      "300:\ttest: 0.7428940\tbest: 0.7429868 (245)\ttotal: 26.2s\tremaining: 1m 56s\n"
     ]
    },
    {
     "name": "stderr",
     "output_type": "stream",
     "text": [
      "[I 2025-02-22 09:12:44,538] Trial 22 finished with value: 0.7429868391488339 and parameters: {'iterations': 1637, 'depth': 8, 'learning_rate': 0.061342128877935095, 'l2_leaf_reg': 3.006206013909112}. Best is trial 12 with value: 0.7434486214496664.\n"
     ]
    },
    {
     "name": "stdout",
     "output_type": "stream",
     "text": [
      "Stopped by overfitting detector  (300 iterations wait)\n",
      "\n",
      "bestTest = 0.7429868391\n",
      "bestIteration = 245\n",
      "\n",
      "Shrink model to first 246 iterations.\n",
      "0:\ttest: 0.7119376\tbest: 0.7119376 (0)\ttotal: 92.7ms\tremaining: 2m 52s\n",
      "300:\ttest: 0.7425351\tbest: 0.7426662 (264)\ttotal: 26.5s\tremaining: 2m 17s\n"
     ]
    },
    {
     "name": "stderr",
     "output_type": "stream",
     "text": [
      "[I 2025-02-22 09:13:36,973] Trial 23 finished with value: 0.7426661940570827 and parameters: {'iterations': 1860, 'depth': 8, 'learning_rate': 0.05225647457918252, 'l2_leaf_reg': 0.6208257132371182}. Best is trial 12 with value: 0.7434486214496664.\n"
     ]
    },
    {
     "name": "stdout",
     "output_type": "stream",
     "text": [
      "Stopped by overfitting detector  (300 iterations wait)\n",
      "\n",
      "bestTest = 0.7426661941\n",
      "bestIteration = 264\n",
      "\n",
      "Shrink model to first 265 iterations.\n",
      "0:\ttest: 0.7119368\tbest: 0.7119368 (0)\ttotal: 85.7ms\tremaining: 2m 16s\n",
      "300:\ttest: 0.7428791\tbest: 0.7428791 (299)\ttotal: 23.2s\tremaining: 1m 39s\n",
      "600:\ttest: 0.7427251\tbest: 0.7428831 (425)\ttotal: 47.9s\tremaining: 1m 18s\n"
     ]
    },
    {
     "name": "stderr",
     "output_type": "stream",
     "text": [
      "[I 2025-02-22 09:14:35,251] Trial 24 finished with value: 0.7428831156297608 and parameters: {'iterations': 1590, 'depth': 7, 'learning_rate': 0.0705418180336258, 'l2_leaf_reg': 23.482752140195643}. Best is trial 12 with value: 0.7434486214496664.\n"
     ]
    },
    {
     "name": "stdout",
     "output_type": "stream",
     "text": [
      "Stopped by overfitting detector  (300 iterations wait)\n",
      "\n",
      "bestTest = 0.7428831156\n",
      "bestIteration = 425\n",
      "\n",
      "Shrink model to first 426 iterations.\n",
      "0:\ttest: 0.7119358\tbest: 0.7119358 (0)\ttotal: 89.4ms\tremaining: 3m 5s\n",
      "300:\ttest: 0.7416990\tbest: 0.7425808 (166)\ttotal: 30.7s\tremaining: 3m\n"
     ]
    },
    {
     "name": "stderr",
     "output_type": "stream",
     "text": [
      "[I 2025-02-22 09:15:24,533] Trial 25 finished with value: 0.7425807683817327 and parameters: {'iterations': 2074, 'depth': 9, 'learning_rate': 0.08544769661622317, 'l2_leaf_reg': 7.812415538577704}. Best is trial 12 with value: 0.7434486214496664.\n"
     ]
    },
    {
     "name": "stdout",
     "output_type": "stream",
     "text": [
      "Stopped by overfitting detector  (300 iterations wait)\n",
      "\n",
      "bestTest = 0.7425807684\n",
      "bestIteration = 166\n",
      "\n",
      "Shrink model to first 167 iterations.\n",
      "0:\ttest: 0.7118854\tbest: 0.7118854 (0)\ttotal: 86.3ms\tremaining: 2m 35s\n",
      "300:\ttest: 0.7422635\tbest: 0.7422635 (300)\ttotal: 22.2s\tremaining: 1m 50s\n",
      "600:\ttest: 0.7429665\tbest: 0.7429754 (592)\ttotal: 46.4s\tremaining: 1m 33s\n",
      "900:\ttest: 0.7432343\tbest: 0.7432377 (896)\ttotal: 1m 10s\tremaining: 1m 11s\n",
      "1200:\ttest: 0.7430982\tbest: 0.7432525 (905)\ttotal: 1m 35s\tremaining: 48.2s\n"
     ]
    },
    {
     "name": "stderr",
     "output_type": "stream",
     "text": [
      "[I 2025-02-22 09:17:00,696] Trial 26 finished with value: 0.7432525033499191 and parameters: {'iterations': 1808, 'depth': 7, 'learning_rate': 0.03525849748057856, 'l2_leaf_reg': 42.92908660925926}. Best is trial 12 with value: 0.7434486214496664.\n"
     ]
    },
    {
     "name": "stdout",
     "output_type": "stream",
     "text": [
      "Stopped by overfitting detector  (300 iterations wait)\n",
      "\n",
      "bestTest = 0.7432525033\n",
      "bestIteration = 905\n",
      "\n",
      "Shrink model to first 906 iterations.\n",
      "0:\ttest: 0.6977563\tbest: 0.6977563 (0)\ttotal: 73.9ms\tremaining: 2m 17s\n",
      "300:\ttest: 0.7414501\tbest: 0.7414501 (300)\ttotal: 19.2s\tremaining: 1m 39s\n",
      "600:\ttest: 0.7424646\tbest: 0.7424646 (600)\ttotal: 40.1s\tremaining: 1m 24s\n",
      "900:\ttest: 0.7429092\tbest: 0.7429110 (891)\ttotal: 1m\tremaining: 1m 4s\n",
      "1200:\ttest: 0.7430990\tbest: 0.7431138 (1182)\ttotal: 1m 21s\tremaining: 44.9s\n",
      "1500:\ttest: 0.7431337\tbest: 0.7431453 (1478)\ttotal: 1m 42s\tremaining: 24.7s\n",
      "1800:\ttest: 0.7431843\tbest: 0.7432031 (1691)\ttotal: 2m 4s\tremaining: 4.14s\n"
     ]
    },
    {
     "name": "stderr",
     "output_type": "stream",
     "text": [
      "[I 2025-02-22 09:19:09,586] Trial 27 finished with value: 0.7432030816999675 and parameters: {'iterations': 1861, 'depth': 6, 'learning_rate': 0.02748276159216196, 'l2_leaf_reg': 42.51125212249692}. Best is trial 12 with value: 0.7434486214496664.\n"
     ]
    },
    {
     "name": "stdout",
     "output_type": "stream",
     "text": [
      "1860:\ttest: 0.7431650\tbest: 0.7432031 (1691)\ttotal: 2m 8s\tremaining: 0us\n",
      "\n",
      "bestTest = 0.7432030817\n",
      "bestIteration = 1691\n",
      "\n",
      "Shrink model to first 1692 iterations.\n",
      "0:\ttest: 0.6948077\tbest: 0.6948077 (0)\ttotal: 61.3ms\tremaining: 1m 44s\n",
      "300:\ttest: 0.7413947\tbest: 0.7413947 (300)\ttotal: 16.7s\tremaining: 1m 18s\n",
      "600:\ttest: 0.7425839\tbest: 0.7425874 (599)\ttotal: 34.1s\tremaining: 1m 3s\n",
      "900:\ttest: 0.7428181\tbest: 0.7428297 (874)\ttotal: 51.6s\tremaining: 46.6s\n",
      "1200:\ttest: 0.7429699\tbest: 0.7429950 (1189)\ttotal: 1m 10s\tremaining: 30s\n"
     ]
    },
    {
     "name": "stderr",
     "output_type": "stream",
     "text": [
      "[I 2025-02-22 09:20:37,411] Trial 28 finished with value: 0.7429949516693908 and parameters: {'iterations': 1714, 'depth': 5, 'learning_rate': 0.03294912661823082, 'l2_leaf_reg': 34.94396453196102}. Best is trial 12 with value: 0.7434486214496664.\n"
     ]
    },
    {
     "name": "stdout",
     "output_type": "stream",
     "text": [
      "Stopped by overfitting detector  (300 iterations wait)\n",
      "\n",
      "bestTest = 0.7429949517\n",
      "bestIteration = 1189\n",
      "\n",
      "Shrink model to first 1190 iterations.\n",
      "0:\ttest: 0.7119009\tbest: 0.7119009 (0)\ttotal: 95.6ms\tremaining: 3m 27s\n",
      "300:\ttest: 0.7417790\tbest: 0.7417790 (300)\ttotal: 36.9s\tremaining: 3m 49s\n",
      "600:\ttest: 0.7425966\tbest: 0.7425980 (599)\ttotal: 1m 10s\tremaining: 3m 3s\n",
      "900:\ttest: 0.7426478\tbest: 0.7426989 (656)\ttotal: 1m 57s\tremaining: 2m 46s\n"
     ]
    },
    {
     "name": "stderr",
     "output_type": "stream",
     "text": [
      "[I 2025-02-22 09:22:46,031] Trial 29 finished with value: 0.7426988943051425 and parameters: {'iterations': 2172, 'depth': 10, 'learning_rate': 0.019040815627655198, 'l2_leaf_reg': 93.13734164152632}. Best is trial 12 with value: 0.7434486214496664.\n"
     ]
    },
    {
     "name": "stdout",
     "output_type": "stream",
     "text": [
      "Stopped by overfitting detector  (300 iterations wait)\n",
      "\n",
      "bestTest = 0.7426988943\n",
      "bestIteration = 656\n",
      "\n",
      "Shrink model to first 657 iterations.\n",
      "0:\ttest: 0.7119342\tbest: 0.7119342 (0)\ttotal: 87.2ms\tremaining: 2m 38s\n",
      "300:\ttest: 0.7422531\tbest: 0.7422531 (300)\ttotal: 22.2s\tremaining: 1m 52s\n",
      "600:\ttest: 0.7429947\tbest: 0.7430415 (466)\ttotal: 46.7s\tremaining: 1m 34s\n",
      "900:\ttest: 0.7429713\tbest: 0.7430982 (691)\ttotal: 1m 11s\tremaining: 1m 13s\n"
     ]
    },
    {
     "name": "stderr",
     "output_type": "stream",
     "text": [
      "[I 2025-02-22 09:24:05,533] Trial 30 finished with value: 0.7430982105947755 and parameters: {'iterations': 1820, 'depth': 7, 'learning_rate': 0.0383100269915223, 'l2_leaf_reg': 10.792122728741642}. Best is trial 12 with value: 0.7434486214496664.\n"
     ]
    },
    {
     "name": "stdout",
     "output_type": "stream",
     "text": [
      "Stopped by overfitting detector  (300 iterations wait)\n",
      "\n",
      "bestTest = 0.7430982106\n",
      "bestIteration = 691\n",
      "\n",
      "Shrink model to first 692 iterations.\n",
      "0:\ttest: 0.7119366\tbest: 0.7119366 (0)\ttotal: 94.9ms\tremaining: 2m 34s\n",
      "300:\ttest: 0.7424384\tbest: 0.7424384 (300)\ttotal: 25.7s\tremaining: 1m 52s\n",
      "600:\ttest: 0.7419321\tbest: 0.7424863 (335)\ttotal: 54.6s\tremaining: 1m 33s\n"
     ]
    },
    {
     "name": "stderr",
     "output_type": "stream",
     "text": [
      "[I 2025-02-22 09:25:03,727] Trial 31 finished with value: 0.7424863446781976 and parameters: {'iterations': 1626, 'depth': 8, 'learning_rate': 0.049091402109893045, 'l2_leaf_reg': 6.4340988705352755}. Best is trial 12 with value: 0.7434486214496664.\n"
     ]
    },
    {
     "name": "stdout",
     "output_type": "stream",
     "text": [
      "Stopped by overfitting detector  (300 iterations wait)\n",
      "\n",
      "bestTest = 0.7424863447\n",
      "bestIteration = 335\n",
      "\n",
      "Shrink model to first 336 iterations.\n",
      "0:\ttest: 0.7119370\tbest: 0.7119370 (0)\ttotal: 84ms\tremaining: 2m 12s\n",
      "300:\ttest: 0.7430911\tbest: 0.7431882 (294)\ttotal: 22.9s\tremaining: 1m 37s\n"
     ]
    },
    {
     "name": "stderr",
     "output_type": "stream",
     "text": [
      "[I 2025-02-22 09:25:51,231] Trial 32 finished with value: 0.7431881948475114 and parameters: {'iterations': 1584, 'depth': 7, 'learning_rate': 0.06526772309011192, 'l2_leaf_reg': 2.3153879734871974}. Best is trial 12 with value: 0.7434486214496664.\n"
     ]
    },
    {
     "name": "stdout",
     "output_type": "stream",
     "text": [
      "Stopped by overfitting detector  (300 iterations wait)\n",
      "\n",
      "bestTest = 0.7431881948\n",
      "bestIteration = 294\n",
      "\n",
      "Shrink model to first 295 iterations.\n",
      "0:\ttest: 0.7119368\tbest: 0.7119368 (0)\ttotal: 92.8ms\tremaining: 2m 36s\n",
      "300:\ttest: 0.7424993\tbest: 0.7425737 (265)\ttotal: 26s\tremaining: 1m 59s\n"
     ]
    },
    {
     "name": "stderr",
     "output_type": "stream",
     "text": [
      "[I 2025-02-22 09:26:42,810] Trial 33 finished with value: 0.7425736604953905 and parameters: {'iterations': 1688, 'depth': 8, 'learning_rate': 0.05682161714914815, 'l2_leaf_reg': 6.176412885970285}. Best is trial 12 with value: 0.7434486214496664.\n"
     ]
    },
    {
     "name": "stdout",
     "output_type": "stream",
     "text": [
      "Stopped by overfitting detector  (300 iterations wait)\n",
      "\n",
      "bestTest = 0.7425736605\n",
      "bestIteration = 265\n",
      "\n",
      "Shrink model to first 266 iterations.\n",
      "0:\ttest: 0.7119377\tbest: 0.7119377 (0)\ttotal: 87.2ms\tremaining: 3m 33s\n",
      "300:\ttest: 0.7423882\tbest: 0.7423901 (298)\ttotal: 22.4s\tremaining: 2m 40s\n",
      "600:\ttest: 0.7426055\tbest: 0.7429674 (502)\ttotal: 47.5s\tremaining: 2m 26s\n"
     ]
    },
    {
     "name": "stderr",
     "output_type": "stream",
     "text": [
      "[I 2025-02-22 09:27:47,444] Trial 34 finished with value: 0.7429674294569679 and parameters: {'iterations': 2452, 'depth': 7, 'learning_rate': 0.040178362275681494, 'l2_leaf_reg': 0.33691396823365694}. Best is trial 12 with value: 0.7434486214496664.\n"
     ]
    },
    {
     "name": "stdout",
     "output_type": "stream",
     "text": [
      "Stopped by overfitting detector  (300 iterations wait)\n",
      "\n",
      "bestTest = 0.7429674295\n",
      "bestIteration = 502\n",
      "\n",
      "Shrink model to first 503 iterations.\n",
      "0:\ttest: 0.7119371\tbest: 0.7119371 (0)\ttotal: 94.5ms\tremaining: 2m 29s\n",
      "300:\ttest: 0.7422498\tbest: 0.7422996 (281)\ttotal: 29.6s\tremaining: 2m 5s\n",
      "600:\ttest: 0.7416012\tbest: 0.7423162 (344)\ttotal: 1m 3s\tremaining: 1m 42s\n"
     ]
    },
    {
     "name": "stderr",
     "output_type": "stream",
     "text": [
      "[I 2025-02-22 09:28:55,474] Trial 35 finished with value: 0.742316156465497 and parameters: {'iterations': 1580, 'depth': 9, 'learning_rate': 0.044058629374887, 'l2_leaf_reg': 1.3171687546912916}. Best is trial 12 with value: 0.7434486214496664.\n"
     ]
    },
    {
     "name": "stdout",
     "output_type": "stream",
     "text": [
      "Stopped by overfitting detector  (300 iterations wait)\n",
      "\n",
      "bestTest = 0.7423161565\n",
      "bestIteration = 344\n",
      "\n",
      "Shrink model to first 345 iterations.\n",
      "0:\ttest: 0.6977181\tbest: 0.6977181 (0)\ttotal: 73.3ms\tremaining: 2m 25s\n",
      "300:\ttest: 0.7428259\tbest: 0.7428351 (296)\ttotal: 20s\tremaining: 1m 51s\n",
      "600:\ttest: 0.7430935\tbest: 0.7431099 (586)\ttotal: 41.4s\tremaining: 1m 35s\n",
      "900:\ttest: 0.7428149\tbest: 0.7431370 (654)\ttotal: 1m 2s\tremaining: 1m 15s\n"
     ]
    },
    {
     "name": "stderr",
     "output_type": "stream",
     "text": [
      "[I 2025-02-22 09:30:02,532] Trial 36 finished with value: 0.7431370458620523 and parameters: {'iterations': 1983, 'depth': 6, 'learning_rate': 0.07457128082621424, 'l2_leaf_reg': 24.863427012977784}. Best is trial 12 with value: 0.7434486214496664.\n"
     ]
    },
    {
     "name": "stdout",
     "output_type": "stream",
     "text": [
      "Stopped by overfitting detector  (300 iterations wait)\n",
      "\n",
      "bestTest = 0.7431370459\n",
      "bestIteration = 654\n",
      "\n",
      "Shrink model to first 655 iterations.\n",
      "0:\ttest: 0.6948077\tbest: 0.6948077 (0)\ttotal: 60.4ms\tremaining: 2m 19s\n",
      "300:\ttest: 0.7431163\tbest: 0.7432051 (256)\ttotal: 17.4s\tremaining: 1m 56s\n",
      "600:\ttest: 0.7431574\tbest: 0.7434130 (432)\ttotal: 35.7s\tremaining: 1m 41s\n"
     ]
    },
    {
     "name": "stderr",
     "output_type": "stream",
     "text": [
      "[I 2025-02-22 09:30:46,555] Trial 37 finished with value: 0.7434129668622556 and parameters: {'iterations': 2309, 'depth': 5, 'learning_rate': 0.0875094905019923, 'l2_leaf_reg': 0.09248048334192557}. Best is trial 12 with value: 0.7434486214496664.\n"
     ]
    },
    {
     "name": "stdout",
     "output_type": "stream",
     "text": [
      "Stopped by overfitting detector  (300 iterations wait)\n",
      "\n",
      "bestTest = 0.7434129669\n",
      "bestIteration = 432\n",
      "\n",
      "Shrink model to first 433 iterations.\n",
      "0:\ttest: 0.6948077\tbest: 0.6948077 (0)\ttotal: 60.9ms\tremaining: 2m 18s\n",
      "300:\ttest: 0.7426817\tbest: 0.7426817 (300)\ttotal: 17.4s\tremaining: 1m 54s\n",
      "600:\ttest: 0.7423589\tbest: 0.7427365 (330)\ttotal: 35.6s\tremaining: 1m 39s\n"
     ]
    },
    {
     "name": "stderr",
     "output_type": "stream",
     "text": [
      "[I 2025-02-22 09:31:24,145] Trial 38 finished with value: 0.7427365462483242 and parameters: {'iterations': 2278, 'depth': 5, 'learning_rate': 0.08481924891160494, 'l2_leaf_reg': 0.10852881007735027}. Best is trial 12 with value: 0.7434486214496664.\n"
     ]
    },
    {
     "name": "stdout",
     "output_type": "stream",
     "text": [
      "Stopped by overfitting detector  (300 iterations wait)\n",
      "\n",
      "bestTest = 0.7427365462\n",
      "bestIteration = 330\n",
      "\n",
      "Shrink model to first 331 iterations.\n",
      "0:\ttest: 0.6931364\tbest: 0.6931364 (0)\ttotal: 50.6ms\tremaining: 2m 3s\n",
      "300:\ttest: 0.7424259\tbest: 0.7424609 (291)\ttotal: 14.2s\tremaining: 1m 40s\n",
      "600:\ttest: 0.7423783\tbest: 0.7424807 (309)\ttotal: 28.9s\tremaining: 1m 28s\n"
     ]
    },
    {
     "name": "stderr",
     "output_type": "stream",
     "text": [
      "[I 2025-02-22 09:31:53,660] Trial 39 finished with value: 0.7424806583691239 and parameters: {'iterations': 2436, 'depth': 4, 'learning_rate': 0.09677508214623705, 'l2_leaf_reg': 0.0077662913936462985}. Best is trial 12 with value: 0.7434486214496664.\n",
      "[I 2025-02-22 09:31:53,662] A new study created in memory with name: no-name-0d0127da-4c7c-4fa2-b61b-965390cd2ce3\n"
     ]
    },
    {
     "name": "stdout",
     "output_type": "stream",
     "text": [
      "Stopped by overfitting detector  (300 iterations wait)\n",
      "\n",
      "bestTest = 0.7424806584\n",
      "bestIteration = 309\n",
      "\n",
      "Shrink model to first 310 iterations.\n"
     ]
    },
    {
     "name": "stderr",
     "output_type": "stream",
     "text": [
      "[I 2025-02-22 09:32:16,965] Trial 0 finished with value: 0.7312957360719021 and parameters: {'num_iterations': 2366, 'objective': 'binary', 'metric': 'auc', 'verbose': -1, 'learning_rate': 0.0652646236447618, 'n_estimators': 236, 'min_child_samples': 45, 'subsample': 0.7, 'colsample_bytree': 0.5}. Best is trial 0 with value: 0.7312957360719021.\n",
      "[I 2025-02-22 09:32:33,995] Trial 1 finished with value: 0.7431332814619113 and parameters: {'num_iterations': 1510, 'objective': 'binary', 'metric': 'auc', 'verbose': -1, 'learning_rate': 0.005231880959249543, 'n_estimators': 1411, 'min_child_samples': 10, 'subsample': 1.0, 'colsample_bytree': 0.5}. Best is trial 1 with value: 0.7431332814619113.\n",
      "[I 2025-02-22 09:32:53,152] Trial 2 finished with value: 0.74215929057608 and parameters: {'num_iterations': 2334, 'objective': 'binary', 'metric': 'auc', 'verbose': -1, 'learning_rate': 0.006578527777128852, 'n_estimators': 931, 'min_child_samples': 15, 'subsample': 0.5, 'colsample_bytree': 1.0}. Best is trial 1 with value: 0.7431332814619113.\n",
      "[I 2025-02-22 09:33:09,181] Trial 3 finished with value: 0.7432142795991209 and parameters: {'num_iterations': 1620, 'objective': 'binary', 'metric': 'auc', 'verbose': -1, 'learning_rate': 0.0058823249237283685, 'n_estimators': 837, 'min_child_samples': 10, 'subsample': 0.9, 'colsample_bytree': 0.6}. Best is trial 3 with value: 0.7432142795991209.\n",
      "[I 2025-02-22 09:33:25,318] Trial 4 finished with value: 0.7426176777691904 and parameters: {'num_iterations': 1997, 'objective': 'binary', 'metric': 'auc', 'verbose': -1, 'learning_rate': 0.010907507425244923, 'n_estimators': 1597, 'min_child_samples': 50, 'subsample': 0.6, 'colsample_bytree': 0.8}. Best is trial 3 with value: 0.7432142795991209.\n",
      "[I 2025-02-22 09:33:47,630] Trial 5 finished with value: 0.7393460368125296 and parameters: {'num_iterations': 2909, 'objective': 'binary', 'metric': 'auc', 'verbose': -1, 'learning_rate': 0.019760591962733942, 'n_estimators': 612, 'min_child_samples': 30, 'subsample': 0.7, 'colsample_bytree': 0.9}. Best is trial 3 with value: 0.7432142795991209.\n",
      "[I 2025-02-22 09:34:08,038] Trial 6 finished with value: 0.7407801898776137 and parameters: {'num_iterations': 2639, 'objective': 'binary', 'metric': 'auc', 'verbose': -1, 'learning_rate': 0.017862094446750985, 'n_estimators': 794, 'min_child_samples': 35, 'subsample': 1.0, 'colsample_bytree': 0.8}. Best is trial 3 with value: 0.7432142795991209.\n",
      "[I 2025-02-22 09:34:24,669] Trial 7 finished with value: 0.7421555460303702 and parameters: {'num_iterations': 1580, 'objective': 'binary', 'metric': 'auc', 'verbose': -1, 'learning_rate': 0.01776722177611332, 'n_estimators': 529, 'min_child_samples': 25, 'subsample': 0.8, 'colsample_bytree': 0.5}. Best is trial 3 with value: 0.7432142795991209.\n",
      "[I 2025-02-22 09:34:41,853] Trial 8 finished with value: 0.7393531407279854 and parameters: {'num_iterations': 1911, 'objective': 'binary', 'metric': 'auc', 'verbose': -1, 'learning_rate': 0.0304747553332844, 'n_estimators': 1328, 'min_child_samples': 10, 'subsample': 0.7, 'colsample_bytree': 0.6}. Best is trial 3 with value: 0.7432142795991209.\n",
      "[I 2025-02-22 09:35:09,558] Trial 9 finished with value: 0.7383451630269576 and parameters: {'num_iterations': 2739, 'objective': 'binary', 'metric': 'auc', 'verbose': -1, 'learning_rate': 0.02691531614176271, 'n_estimators': 1438, 'min_child_samples': 20, 'subsample': 0.6, 'colsample_bytree': 0.5}. Best is trial 3 with value: 0.7432142795991209.\n",
      "[I 2025-02-22 09:35:23,837] Trial 10 finished with value: 0.7315793010280879 and parameters: {'num_iterations': 1883, 'objective': 'binary', 'metric': 'auc', 'verbose': -1, 'learning_rate': 0.08223556891145911, 'n_estimators': 1917, 'min_child_samples': 40, 'subsample': 0.9, 'colsample_bytree': 0.7}. Best is trial 3 with value: 0.7432142795991209.\n",
      "[I 2025-02-22 09:35:39,022] Trial 11 finished with value: 0.7431411041077738 and parameters: {'num_iterations': 1513, 'objective': 'binary', 'metric': 'auc', 'verbose': -1, 'learning_rate': 0.005340229419903739, 'n_estimators': 1206, 'min_child_samples': 10, 'subsample': 1.0, 'colsample_bytree': 0.6}. Best is trial 3 with value: 0.7432142795991209.\n",
      "[I 2025-02-22 09:35:53,505] Trial 12 finished with value: 0.7430071422901003 and parameters: {'num_iterations': 1717, 'objective': 'binary', 'metric': 'auc', 'verbose': -1, 'learning_rate': 0.008807202863131344, 'n_estimators': 1093, 'min_child_samples': 20, 'subsample': 0.9, 'colsample_bytree': 0.7}. Best is trial 3 with value: 0.7432142795991209.\n",
      "[I 2025-02-22 09:36:13,085] Trial 13 finished with value: 0.7426972980088801 and parameters: {'num_iterations': 2084, 'objective': 'binary', 'metric': 'auc', 'verbose': -1, 'learning_rate': 0.010947685715514379, 'n_estimators': 1108, 'min_child_samples': 10, 'subsample': 0.9, 'colsample_bytree': 0.6}. Best is trial 3 with value: 0.7432142795991209.\n",
      "[I 2025-02-22 09:36:30,570] Trial 14 finished with value: 0.7431917090818202 and parameters: {'num_iterations': 1759, 'objective': 'binary', 'metric': 'auc', 'verbose': -1, 'learning_rate': 0.00514593053258222, 'n_estimators': 172, 'min_child_samples': 20, 'subsample': 1.0, 'colsample_bytree': 0.6}. Best is trial 3 with value: 0.7432142795991209.\n",
      "[I 2025-02-22 09:36:45,450] Trial 15 finished with value: 0.7430699537684012 and parameters: {'num_iterations': 1756, 'objective': 'binary', 'metric': 'auc', 'verbose': -1, 'learning_rate': 0.008183724404516576, 'n_estimators': 181, 'min_child_samples': 20, 'subsample': 0.8, 'colsample_bytree': 0.7}. Best is trial 3 with value: 0.7432142795991209.\n",
      "[I 2025-02-22 09:37:04,674] Trial 16 finished with value: 0.7374587976874448 and parameters: {'num_iterations': 2176, 'objective': 'binary', 'metric': 'auc', 'verbose': -1, 'learning_rate': 0.03901437770924474, 'n_estimators': 437, 'min_child_samples': 25, 'subsample': 0.9, 'colsample_bytree': 0.6}. Best is trial 3 with value: 0.7432142795991209.\n",
      "[I 2025-02-22 09:37:20,649] Trial 17 finished with value: 0.7427511114589961 and parameters: {'num_iterations': 1709, 'objective': 'binary', 'metric': 'auc', 'verbose': -1, 'learning_rate': 0.01384769331008121, 'n_estimators': 115, 'min_child_samples': 15, 'subsample': 1.0, 'colsample_bytree': 0.6}. Best is trial 3 with value: 0.7432142795991209.\n",
      "[I 2025-02-22 09:37:36,152] Trial 18 finished with value: 0.743291767472908 and parameters: {'num_iterations': 1822, 'objective': 'binary', 'metric': 'auc', 'verbose': -1, 'learning_rate': 0.007223259603234952, 'n_estimators': 775, 'min_child_samples': 30, 'subsample': 0.8, 'colsample_bytree': 0.7}. Best is trial 18 with value: 0.743291767472908.\n",
      "[I 2025-02-22 09:37:56,452] Trial 19 finished with value: 0.7428750189927488 and parameters: {'num_iterations': 2481, 'objective': 'binary', 'metric': 'auc', 'verbose': -1, 'learning_rate': 0.0074498545982411915, 'n_estimators': 776, 'min_child_samples': 35, 'subsample': 0.8, 'colsample_bytree': 0.8}. Best is trial 18 with value: 0.743291767472908.\n",
      "[I 2025-02-22 09:38:11,675] Trial 20 finished with value: 0.7422786752704229 and parameters: {'num_iterations': 1876, 'objective': 'binary', 'metric': 'auc', 'verbose': -1, 'learning_rate': 0.010986172718100318, 'n_estimators': 796, 'min_child_samples': 30, 'subsample': 0.8, 'colsample_bytree': 0.9}. Best is trial 18 with value: 0.743291767472908.\n",
      "[I 2025-02-22 09:38:26,991] Trial 21 finished with value: 0.7433228873082502 and parameters: {'num_iterations': 1735, 'objective': 'binary', 'metric': 'auc', 'verbose': -1, 'learning_rate': 0.0051460135866461, 'n_estimators': 385, 'min_child_samples': 25, 'subsample': 0.9, 'colsample_bytree': 0.7}. Best is trial 21 with value: 0.7433228873082502.\n",
      "[I 2025-02-22 09:38:41,276] Trial 22 finished with value: 0.7432274430869555 and parameters: {'num_iterations': 1639, 'objective': 'binary', 'metric': 'auc', 'verbose': -1, 'learning_rate': 0.006318613612964453, 'n_estimators': 438, 'min_child_samples': 35, 'subsample': 0.9, 'colsample_bytree': 0.7}. Best is trial 21 with value: 0.7433228873082502.\n",
      "[I 2025-02-22 09:38:58,833] Trial 23 finished with value: 0.7431021894227726 and parameters: {'num_iterations': 2077, 'objective': 'binary', 'metric': 'auc', 'verbose': -1, 'learning_rate': 0.007594728313533298, 'n_estimators': 415, 'min_child_samples': 35, 'subsample': 0.9, 'colsample_bytree': 0.7}. Best is trial 21 with value: 0.7433228873082502.\n",
      "[I 2025-02-22 09:39:13,685] Trial 24 finished with value: 0.7424396947068309 and parameters: {'num_iterations': 1825, 'objective': 'binary', 'metric': 'auc', 'verbose': -1, 'learning_rate': 0.013763055533112498, 'n_estimators': 630, 'min_child_samples': 40, 'subsample': 0.8, 'colsample_bytree': 0.7}. Best is trial 21 with value: 0.7433228873082502.\n",
      "[I 2025-02-22 09:39:29,997] Trial 25 finished with value: 0.7426869498793788 and parameters: {'num_iterations': 1986, 'objective': 'binary', 'metric': 'auc', 'verbose': -1, 'learning_rate': 0.008962785627490399, 'n_estimators': 333, 'min_child_samples': 30, 'subsample': 0.9, 'colsample_bytree': 0.8}. Best is trial 21 with value: 0.7433228873082502.\n",
      "[I 2025-02-22 09:39:44,661] Trial 26 finished with value: 0.7433059554493885 and parameters: {'num_iterations': 1692, 'objective': 'binary', 'metric': 'auc', 'verbose': -1, 'learning_rate': 0.006560862459482555, 'n_estimators': 626, 'min_child_samples': 25, 'subsample': 0.8, 'colsample_bytree': 0.7}. Best is trial 21 with value: 0.7433228873082502.\n",
      "[I 2025-02-22 09:40:02,570] Trial 27 finished with value: 0.7418162020353873 and parameters: {'num_iterations': 2249, 'objective': 'binary', 'metric': 'auc', 'verbose': -1, 'learning_rate': 0.014042786015985836, 'n_estimators': 646, 'min_child_samples': 25, 'subsample': 0.7, 'colsample_bytree': 0.9}. Best is trial 21 with value: 0.7433228873082502.\n",
      "[I 2025-02-22 09:40:17,571] Trial 28 finished with value: 0.7363060454455539 and parameters: {'num_iterations': 1967, 'objective': 'binary', 'metric': 'auc', 'verbose': -1, 'learning_rate': 0.041775773570897956, 'n_estimators': 924, 'min_child_samples': 25, 'subsample': 0.8, 'colsample_bytree': 0.8}. Best is trial 21 with value: 0.7433228873082502.\n",
      "[I 2025-02-22 09:40:35,564] Trial 29 finished with value: 0.7431244382982891 and parameters: {'num_iterations': 2128, 'objective': 'binary', 'metric': 'auc', 'verbose': -1, 'learning_rate': 0.0068425009106939366, 'n_estimators': 310, 'min_child_samples': 30, 'subsample': 0.6, 'colsample_bytree': 0.7}. Best is trial 21 with value: 0.7433228873082502.\n",
      "[I 2025-02-22 09:40:49,164] Trial 30 finished with value: 0.733692289005928 and parameters: {'num_iterations': 1804, 'objective': 'binary', 'metric': 'auc', 'verbose': -1, 'learning_rate': 0.06335506478822968, 'n_estimators': 554, 'min_child_samples': 40, 'subsample': 0.7, 'colsample_bytree': 0.8}. Best is trial 21 with value: 0.7433228873082502.\n",
      "[I 2025-02-22 09:41:03,593] Trial 31 finished with value: 0.743265567565598 and parameters: {'num_iterations': 1657, 'objective': 'binary', 'metric': 'auc', 'verbose': -1, 'learning_rate': 0.006274835145514901, 'n_estimators': 446, 'min_child_samples': 35, 'subsample': 0.8, 'colsample_bytree': 0.7}. Best is trial 21 with value: 0.7433228873082502.\n",
      "[I 2025-02-22 09:41:18,427] Trial 32 finished with value: 0.7433356020859415 and parameters: {'num_iterations': 1655, 'objective': 'binary', 'metric': 'auc', 'verbose': -1, 'learning_rate': 0.005116014389991075, 'n_estimators': 292, 'min_child_samples': 30, 'subsample': 0.8, 'colsample_bytree': 0.7}. Best is trial 32 with value: 0.7433356020859415.\n",
      "[I 2025-02-22 09:41:32,241] Trial 33 finished with value: 0.7432649441364607 and parameters: {'num_iterations': 1545, 'objective': 'binary', 'metric': 'auc', 'verbose': -1, 'learning_rate': 0.005126639990481282, 'n_estimators': 280, 'min_child_samples': 25, 'subsample': 0.8, 'colsample_bytree': 0.7}. Best is trial 32 with value: 0.7433356020859415.\n",
      "[I 2025-02-22 09:41:46,307] Trial 34 finished with value: 0.7431842279321731 and parameters: {'num_iterations': 1666, 'objective': 'binary', 'metric': 'auc', 'verbose': -1, 'learning_rate': 0.009541496541753491, 'n_estimators': 717, 'min_child_samples': 30, 'subsample': 0.8, 'colsample_bytree': 0.7}. Best is trial 32 with value: 0.7433356020859415.\n",
      "[I 2025-02-22 09:42:01,878] Trial 35 finished with value: 0.7429043479584038 and parameters: {'num_iterations': 1817, 'objective': 'binary', 'metric': 'auc', 'verbose': -1, 'learning_rate': 0.005860002507776056, 'n_estimators': 935, 'min_child_samples': 15, 'subsample': 0.5, 'colsample_bytree': 0.8}. Best is trial 32 with value: 0.7433356020859415.\n",
      "[I 2025-02-22 09:42:16,740] Trial 36 finished with value: 0.7432179645815373 and parameters: {'num_iterations': 1509, 'objective': 'binary', 'metric': 'auc', 'verbose': -1, 'learning_rate': 0.006944053931871026, 'n_estimators': 910, 'min_child_samples': 25, 'subsample': 0.7, 'colsample_bytree': 0.6}. Best is trial 32 with value: 0.7433356020859415.\n",
      "[I 2025-02-22 09:42:30,027] Trial 37 finished with value: 0.7421032057790435 and parameters: {'num_iterations': 1608, 'objective': 'binary', 'metric': 'auc', 'verbose': -1, 'learning_rate': 0.009843445261755299, 'n_estimators': 530, 'min_child_samples': 30, 'subsample': 0.8, 'colsample_bytree': 1.0}. Best is trial 32 with value: 0.7433356020859415.\n",
      "[I 2025-02-22 09:42:55,763] Trial 38 finished with value: 0.7434151865876552 and parameters: {'num_iterations': 2384, 'objective': 'binary', 'metric': 'auc', 'verbose': -1, 'learning_rate': 0.005938518730895397, 'n_estimators': 386, 'min_child_samples': 45, 'subsample': 0.9, 'colsample_bytree': 0.5}. Best is trial 38 with value: 0.7434151865876552.\n",
      "[I 2025-02-22 09:43:21,518] Trial 39 finished with value: 0.7435332410351129 and parameters: {'num_iterations': 2358, 'objective': 'binary', 'metric': 'auc', 'verbose': -1, 'learning_rate': 0.005026364969141825, 'n_estimators': 363, 'min_child_samples': 50, 'subsample': 1.0, 'colsample_bytree': 0.5}. Best is trial 39 with value: 0.7435332410351129.\n"
     ]
    },
    {
     "name": "stdout",
     "output_type": "stream",
     "text": [
      "Cat val score : 0.7434486214496664\n",
      "LGBM val score : 0.7436369645541858\n",
      "Ensemble val score : 0.7437808496165347\n"
     ]
    }
   ],
   "source": [
    "for col in X.columns:\n",
    "    if X[col].dtype == 'object':  # 문자형이면 category로 변환\n",
    "        X[col] = X[col].astype('category')\n",
    "        test[col] = test[col].astype('category')\n",
    "seed = 4972\n",
    "\n",
    "test_pred_total = []\n",
    "scores_total = []\n",
    "seed_everything(seed)\n",
    "print('Seed {} Start!'.format(seed))\n",
    "cv = StratifiedKFold(n_splits = 10, random_state = seed, shuffle=True)\n",
    "\n",
    "cat_param_list = []\n",
    "lgbm_param_list = []\n",
    "for idx, (train_idx, val_idx) in enumerate(cv.split(X, y)):\n",
    "    print('='*50)\n",
    "    X_train, X_val = X.iloc[train_idx],X.iloc[val_idx]\n",
    "    y_train, y_val = y.iloc[train_idx], y.iloc[val_idx]\n",
    "    \n",
    "    best_val_auc = 0\n",
    "\n",
    "    sampler = TPESampler(seed=seed)\n",
    "    optuna_cat = optuna.create_study(direction='maximize', sampler=sampler)\n",
    "    optuna_cat.optimize(objective_cat, n_trials = 40)\n",
    "    cat_trial = optuna_cat.best_trial\n",
    "    cat_trial_params = cat_trial.params\n",
    "    cat_param_list.append(cat_trial_params)\n",
    "    \n",
    "    model = CatBoostClassifier(**cat_trial_params, auto_class_weights='Balanced', eval_metric='AUC', random_state=seed)\n",
    "    model.load_model(\"./weight/cat_fold_cpu{}.cbm\".format(idx))\n",
    "    #model = CatBoostClassifier(auto_class_weights='Balanced', eval_metric='AUC', random_state=seed, task_type=\"CPU\" )\n",
    "    #model.fit(X_train,y_train,cat_features=categorical_columns,early_stopping_rounds = 300,eval_set=[(X_val,y_val)], verbose = 300)\n",
    "    \n",
    "    # model_cpu = CatBoostClassifier(auto_class_weights='Balanced',eval_metric='AUC', random_state = 501, task_type=\"cpu\" )\n",
    "    # model_cpu.fit(X_train,y_train,cat_features=categorical_columns, early_stopping_rounds = 300,eval_set=[(X_val,y_val)], verbose = 300)\n",
    "    # model_cpu.save_model(\"cat_fold_{}.cbm\".format(idx))\n",
    "\n",
    "\n",
    "    sampler = TPESampler(seed=seed)\n",
    "    optuna_lgbm = optuna.create_study(direction='maximize', sampler=sampler)\n",
    "    optuna_lgbm.optimize(objective_lgbm, n_trials = 40)\n",
    "    lgbm_trial = optuna_lgbm.best_trial\n",
    "    lgbm_trial_params = lgbm_trial.params\n",
    "    lgbm_param_list.append(lgbm_trial_params)\n",
    "    \n",
    "    # lgbm_trial_params =loaded_lgbm_params[idx]\n",
    "    #print(lgbm_trial_params)\n",
    "\n",
    "    class_weights = compute_class_weight(class_weight=\"balanced\", classes=np.unique(y), y=y_train)\n",
    "    class_weight_dict = {i: w for i, w in enumerate(class_weights)}\n",
    "    model_lgbm = lgb.LGBMClassifier(**lgbm_trial_params,class_weight=class_weight_dict)\n",
    "    # model_lgbm = lgb.LGBMClassifier(class_weight=class_weight_dict)\n",
    "    #model_lgbm= lgb.LGBMClassifier(objective = 'binary', metric = 'auc', random_state =  seed, class_weight=class_weight_dict)\n",
    "    model_lgbm.fit(X_train, y_train, eval_set=[(X_val, y_val)],categorical_feature=categorical_columns)\n",
    "\n",
    "    val_pred = model.predict_proba(X_val)[:, 1]\n",
    "    val_pred_lgbm = model_lgbm.predict_proba(X_val)[:, 1]\n",
    "    print('Cat val score : {}'.format(roc_auc_score(y_val,val_pred)))\n",
    "    print('LGBM val score : {}'.format(roc_auc_score(y_val,val_pred_lgbm)))\n",
    "\n",
    "    roc_val = roc_auc_score(y_val, (2*val_pred+val_pred_lgbm)/3)\n",
    "    scores_total.append(roc_val)\n",
    "    print('Ensemble val score : {}'.format(roc_val))\n",
    "\n",
    "    test_pred = model.predict_proba(test)[:, 1]\n",
    "    test_pred_lgbm = model_lgbm.predict_proba(test)[:, 1]\n",
    "    test_pred_total.append((2*test_pred+test_pred_lgbm)/3)"
   ]
  },
  {
   "cell_type": "code",
   "execution_count": 84,
   "metadata": {
    "colab": {
     "base_uri": "https://localhost:8080/"
    },
    "id": "LDLeh9IJD9pt",
    "outputId": "0534775f-2085-448a-d2aa-690a9e4e4ff4"
   },
   "outputs": [
    {
     "data": {
      "text/plain": [
       "(0.7411312911296682,\n",
       " [0.7420845082600771,\n",
       "  0.7359361792277338,\n",
       "  0.7432122854217773,\n",
       "  0.7419753154464075,\n",
       "  0.7446210494328002,\n",
       "  0.7394927491458703,\n",
       "  0.7393024444235559,\n",
       "  0.738490330685557,\n",
       "  0.7424171996363684,\n",
       "  0.7437808496165347])"
      ]
     },
     "execution_count": 84,
     "metadata": {},
     "output_type": "execute_result"
    }
   ],
   "source": [
    "np.mean(scores_total), scores_total"
   ]
  },
  {
   "cell_type": "code",
   "execution_count": 85,
   "metadata": {},
   "outputs": [],
   "source": [
    "test_pred_total_mean = np.mean(test_pred_total, axis=(0))"
   ]
  },
  {
   "cell_type": "code",
   "execution_count": 86,
   "metadata": {},
   "outputs": [
    {
     "data": {
      "text/plain": [
       "array([0.0042637 , 0.00352494, 0.32590856, ..., 0.66386201, 0.3770386 ,\n",
       "       0.00510636])"
      ]
     },
     "execution_count": 86,
     "metadata": {},
     "output_type": "execute_result"
    }
   ],
   "source": [
    "test_pred_total_mean"
   ]
  },
  {
   "cell_type": "code",
   "execution_count": 87,
   "metadata": {
    "colab": {
     "base_uri": "https://localhost:8080/"
    },
    "id": "E8D6DZP0pIm3",
    "outputId": "946ae60d-f2f2-405e-e757-ab31fe0d2375"
   },
   "outputs": [
    {
     "data": {
      "text/plain": [
       "(0.7411312911296682,\n",
       " [0.7420845082600771,\n",
       "  0.7359361792277338,\n",
       "  0.7432122854217773,\n",
       "  0.7419753154464075,\n",
       "  0.7446210494328002,\n",
       "  0.7394927491458703,\n",
       "  0.7393024444235559,\n",
       "  0.738490330685557,\n",
       "  0.7424171996363684,\n",
       "  0.7437808496165347])"
      ]
     },
     "execution_count": 87,
     "metadata": {},
     "output_type": "execute_result"
    }
   ],
   "source": [
    "np.mean(scores_total), scores_total # 불임 원인 인코딩 + make feature 사용\n"
   ]
  },
  {
   "cell_type": "code",
   "execution_count": 88,
   "metadata": {},
   "outputs": [],
   "source": [
    "import json\n",
    "with open(\"lgbm_params.json\", \"w\") as f:\n",
    "    json.dump(lgbm_param_list, f) \n",
    "\n",
    "with open(\"lgbm_params.json\", \"r\") as f:\n",
    "    loaded_lgbm_params =  json.load(f)"
   ]
  },
  {
   "cell_type": "markdown",
   "metadata": {},
   "source": [
    "#### 재현성 확인"
   ]
  },
  {
   "cell_type": "code",
   "execution_count": 89,
   "metadata": {
    "scrolled": true,
    "tags": []
   },
   "outputs": [
    {
     "name": "stdout",
     "output_type": "stream",
     "text": [
      "Seed 4972 Start!\n",
      "==================================================\n",
      "Cat cpu val score : 0.7419473292981775\n",
      "LGBM val score : 0.7411773355419088\n",
      "Ensemble val score : 0.7420845082600771\n",
      "==================================================\n",
      "==================================================\n",
      "Cat cpu val score : 0.7429930391615726\n",
      "LGBM val score : 0.7428694808205033\n",
      "Ensemble val score : 0.7432122854217773\n",
      "==================================================\n",
      "Cat cpu val score : 0.7419416701274264\n",
      "LGBM val score : 0.7408301714225229\n",
      "Ensemble val score : 0.7419753154464075\n",
      "==================================================\n",
      "Cat cpu val score : 0.7445513643504444\n",
      "LGBM val score : 0.7439214189888859\n",
      "Ensemble val score : 0.7446210494328002\n",
      "==================================================\n",
      "Cat cpu val score : 0.7395888723887094\n",
      "LGBM val score : 0.7382905673122554\n",
      "Ensemble val score : 0.7394927491458703\n",
      "==================================================\n",
      "Cat cpu val score : 0.739274957949109\n",
      "LGBM val score : 0.7384107183876398\n",
      "Ensemble val score : 0.7393024444235559\n",
      "==================================================\n",
      "Cat cpu val score : 0.7384869077816314\n",
      "LGBM val score : 0.7374967673015245\n",
      "Ensemble val score : 0.738490330685557\n",
      "==================================================\n",
      "Cat cpu val score : 0.7422119524691908\n",
      "LGBM val score : 0.7418796448845979\n",
      "Ensemble val score : 0.7424171996363684\n",
      "==================================================\n",
      "Cat cpu val score : 0.7434486214496664\n",
      "LGBM val score : 0.7436369645541858\n",
      "Ensemble val score : 0.7437808496165347\n"
     ]
    }
   ],
   "source": [
    "for col in X.columns:\n",
    "    if X[col].dtype == 'object':  # 문자형이면 category로 변환\n",
    "        X[col] = X[col].astype('category')\n",
    "        test[col] = test[col].astype('category')\n",
    "seed = 4972\n",
    "\n",
    "test_pred_total = []\n",
    "scores_total = []\n",
    "seed_everything(seed)\n",
    "print('Seed {} Start!'.format(seed))\n",
    "cv = StratifiedKFold(n_splits = 10, random_state = seed, shuffle=True)\n",
    "\n",
    "cat_param_list = []\n",
    "lgbm_param_list = []\n",
    "for idx, (train_idx, val_idx) in enumerate(cv.split(X, y)):\n",
    "    print('='*50)\n",
    "    X_train, X_val = X.iloc[train_idx],X.iloc[val_idx]\n",
    "    y_train, y_val = y.iloc[train_idx], y.iloc[val_idx]\n",
    "    if idx == 1:\n",
    "        continue\n",
    "    # cat_trial_params = loaded_cat_params[idx]\n",
    "    # model = CatBoostClassifier(**cat_trial_params ,auto_class_weights='Balanced', eval_metric='AUC', random_state=seed, task_type=\"CPU\")\n",
    "    # model.fit(X_train,y_train,cat_features=categorical_columns, early_stopping_rounds = 300, eval_set=[(X_val,y_val)], verbose = 300)\n",
    "    \n",
    "    model_cpu = CatBoostClassifier()\n",
    "    model_cpu.load_model(\"./weight/cat_fold_cpu{}.cbm\".format(idx))\n",
    "\n",
    "    lgbm_trial_params = loaded_lgbm_params[idx]\n",
    "    class_weights = compute_class_weight(class_weight=\"balanced\", classes=np.unique(y), y=y_train)\n",
    "    class_weight_dict = {i: w for i, w in enumerate(class_weights)}\n",
    "\n",
    "    model_lgbm = lgb.LGBMClassifier(**lgbm_trial_params,class_weight=class_weight_dict)\n",
    "    model_lgbm.fit(X_train, y_train, eval_set=[(X_val, y_val)],categorical_feature=categorical_columns)\n",
    "\n",
    "    # val_pred = model.predict_proba(X_val)[:, 1]\n",
    "    val_pred_cpu = model_cpu.predict_proba(X_val)[:, 1]\n",
    "    val_pred_lgbm = model_lgbm.predict_proba(X_val)[:, 1]\n",
    "    # print('Cat val score : {}'.format(roc_auc_score(y_val,val_pred)))\n",
    "    print('Cat cpu val score : {}'.format(roc_auc_score(y_val,val_pred_cpu)))\n",
    "    print('LGBM val score : {}'.format(roc_auc_score(y_val,val_pred_lgbm)))\n",
    "\n",
    "    roc_val = roc_auc_score(y_val, (val_pred_cpu*2 + val_pred_lgbm)/3)\n",
    "    scores_total.append(roc_val)\n",
    "    print('Ensemble val score : {}'.format(roc_val))\n",
    "\n",
    "    # test_pred = model.predict_proba(test)[:, 1]\n",
    "    test_pred_cpu = model_cpu.predict_proba(test)[:, 1]\n",
    "    test_pred_lgbm = model_lgbm.predict_proba(test)[:, 1]\n",
    "    test_pred_total.append((test_pred_cpu*2+test_pred_lgbm)/3)\n",
    "    # test_pred_total.append((test_pred_cpu))"
   ]
  },
  {
   "cell_type": "code",
   "execution_count": 93,
   "metadata": {},
   "outputs": [
    {
     "data": {
      "text/plain": [
       "(0.7417085257854387,\n",
       " [0.7420845082600771,\n",
       "  0.7432122854217773,\n",
       "  0.7419753154464075,\n",
       "  0.7446210494328002,\n",
       "  0.7394927491458703,\n",
       "  0.7393024444235559,\n",
       "  0.738490330685557,\n",
       "  0.7424171996363684,\n",
       "  0.7437808496165347])"
      ]
     },
     "execution_count": 93,
     "metadata": {},
     "output_type": "execute_result"
    }
   ],
   "source": [
    "np.mean(scores_total), scores_total"
   ]
  },
  {
   "cell_type": "code",
   "execution_count": 90,
   "metadata": {
    "id": "zdqhyNyumAyx"
   },
   "outputs": [],
   "source": [
    "test_pred_total_mean = np.mean(test_pred_total, axis=(0))"
   ]
  },
  {
   "cell_type": "code",
   "execution_count": 91,
   "metadata": {
    "colab": {
     "base_uri": "https://localhost:8080/",
     "height": 540
    },
    "id": "HHVwzBg8NEZK",
    "outputId": "7c5d38e1-affe-45e7-b863-372c9a868b84"
   },
   "outputs": [
    {
     "data": {
      "text/plain": [
       "(array([13614.,  2428.,  3414.,  6320.,  9565., 13748., 17081., 15301.,\n",
       "         8252.,   344.]),\n",
       " array([4.74766657e-04, 8.99135224e-02, 1.79352278e-01, 2.68791034e-01,\n",
       "        3.58229790e-01, 4.47668546e-01, 5.37107301e-01, 6.26546057e-01,\n",
       "        7.15984813e-01, 8.05423569e-01, 8.94862324e-01]),\n",
       " <BarContainer object of 10 artists>)"
      ]
     },
     "execution_count": 91,
     "metadata": {},
     "output_type": "execute_result"
    },
    {
     "data": {
      "image/png": "[encoded data removed]",
      "text/plain": [
       "<Figure size 640x480 with 1 Axes>"
      ]
     },
     "metadata": {},
     "output_type": "display_data"
    }
   ],
   "source": [
    "plt.hist(test_pred_total_mean)"
   ]
  },
  {
   "cell_type": "code",
   "execution_count": 92,
   "metadata": {
    "id": "KGlLsagWhQmz"
   },
   "outputs": [],
   "source": [
    "test_pred_total_mean = np.mean(test_pred_total, axis=(0))\n",
    "sample_submission = pd.read_csv('../sample_submission.csv')\n",
    "sample_submission['probability'] = test_pred_total_mean\n",
    "sample_submission.to_csv('CODE_recentgit_lgbmcat_cpu_mac_sunghyun.csv', index=False)"
   ]
  }
 ],
 "metadata": {
  "accelerator": "GPU",
  "colab": {
   "gpuType": "T4",
   "provenance": []
  },
  "kernelspec": {
   "display_name": "Python 3",
   "language": "python",
   "name": "python3"
  },
  "language_info": {
   "codemirror_mode": {
    "name": "ipython",
    "version": 3
   },
   "file_extension": ".py",
   "mimetype": "text/x-python",
   "name": "python",
   "nbconvert_exporter": "python",
   "pygments_lexer": "ipython3",
   "version": "3.9.6"
  }
 },
 "nbformat": 4,
 "nbformat_minor": 4
}
