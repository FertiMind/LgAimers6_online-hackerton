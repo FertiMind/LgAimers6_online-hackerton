{
 "cells": [
  {
   "cell_type": "code",
   "execution_count": 31,
   "metadata": {
    "colab": {
     "base_uri": "https://localhost:8080/"
    },
    "id": "0_-E_OuZQXqu",
    "outputId": "8f5cbcbb-5086-4ead-c817-9fdb22e3533b"
   },
   "outputs": [],
   "source": [
    "import random\n",
    "import os\n",
    "import pandas as pd\n",
    "import numpy as np\n",
    "\n",
    "from matplotlib import pyplot as plt\n",
    "import seaborn as sns\n",
    "from catboost import CatBoostClassifier\n",
    "import lightgbm as lgb\n",
    "\n",
    "import optuna\n",
    "from optuna import Trial\n",
    "from optuna.samplers import TPESampler\n",
    "from sklearn.model_selection import StratifiedKFold\n",
    "from sklearn.metrics import roc_auc_score\n",
    "from sklearn.utils.class_weight import compute_class_weight\n",
    "\n",
    "import warnings\n",
    "\n",
    "warnings.filterwarnings('ignore')"
   ]
  },
  {
   "cell_type": "code",
   "execution_count": 32,
   "metadata": {
    "id": "u2FSTwmUIkF5"
   },
   "outputs": [],
   "source": [
    "import os\n",
    "import logging\n",
    "\n",
    "def seed_everything(seed: int = 42):\n",
    "    random.seed(seed)\n",
    "    np.random.seed(seed)\n",
    "    os.environ[\"PYTHONHASHSEED\"] = str(seed)"
   ]
  },
  {
   "cell_type": "code",
   "execution_count": 33,
   "metadata": {
    "colab": {
     "base_uri": "https://localhost:8080/"
    },
    "id": "bbtq1EWyQcwX",
    "outputId": "ad146067-7509-44f2-ee26-cc8bc615473f"
   },
   "outputs": [
    {
     "data": {
      "text/plain": [
       "((256351, 68), (90067, 67))"
      ]
     },
     "execution_count": 33,
     "metadata": {},
     "output_type": "execute_result"
    }
   ],
   "source": [
    "train = pd.read_csv('../train.csv').drop(columns=['ID'])\n",
    "test = pd.read_csv('../test.csv').drop(columns=['ID'])\n",
    "train.shape, test.shape\n",
    "# train.loc[train['시술 당시 나이'] == '알 수 없음', '시술 당시 나이'] = '만43-44세'"
   ]
  },
  {
   "cell_type": "code",
   "execution_count": 34,
   "metadata": {
    "colab": {
     "base_uri": "https://localhost:8080/",
     "height": 178
    },
    "id": "x7kj8pMWSpd9",
    "outputId": "11cdbca0-3097-42aa-dd4e-52d7070ff5c9"
   },
   "outputs": [
    {
     "data": {
      "text/plain": [
       "임신 성공 여부\n",
       "0    190123\n",
       "1     66228\n",
       "Name: count, dtype: int64"
      ]
     },
     "execution_count": 34,
     "metadata": {},
     "output_type": "execute_result"
    }
   ],
   "source": [
    "train['임신 성공 여부'].value_counts()"
   ]
  },
  {
   "cell_type": "code",
   "execution_count": 35,
   "metadata": {
    "colab": {
     "base_uri": "https://localhost:8080/",
     "height": 335
    },
    "id": "EsL6VCeI_Q4D",
    "outputId": "32bd81c0-f1bf-4f45-8b2a-54bf8e66c1d1"
   },
   "outputs": [
    {
     "data": {
      "text/plain": [
       "시술 당시 나이\n",
       "만18-34세    102476\n",
       "만35-37세     57780\n",
       "만38-39세     39247\n",
       "만40-42세     37348\n",
       "만43-44세     12253\n",
       "만45-50세      6918\n",
       "알 수 없음        329\n",
       "Name: count, dtype: int64"
      ]
     },
     "execution_count": 35,
     "metadata": {},
     "output_type": "execute_result"
    }
   ],
   "source": [
    "# train['시술 당시 나이'] = train['시술 당시 나이'].replace('알 수 없음','만35-37세')\n",
    "# test['시술 당시 나이'] = test['시술 당시 나이'].replace('알 수 없음','만35-37세')\n",
    "\n",
    "train['시술 당시 나이'].value_counts()\n",
    "# train['']\n"
   ]
  },
  {
   "cell_type": "code",
   "execution_count": 36,
   "metadata": {
    "colab": {
     "base_uri": "https://localhost:8080/"
    },
    "id": "4xu4wqTwWgEO",
    "outputId": "8b21d1a6-d5ee-46ea-ab34-c6c2ec30bb19"
   },
   "outputs": [
    {
     "data": {
      "text/plain": [
       "((256351, 66), (90067, 65))"
      ]
     },
     "execution_count": 36,
     "metadata": {},
     "output_type": "execute_result"
    }
   ],
   "source": [
    "# drop_columns = ['착상 전 유전 검사 사용 여부',\n",
    "#                 'PGD 시술 여부', 'PGS 시술 여부', '난자 해동 경과일'] + ['배란 유도 유형', '불임 원인 - 자궁경부 문제', '불임 원인 - 정자 면역학적 요인','불임 원인 - 정자 운동성', '불임 원인 - 정자 형태']#\n",
    "drop_columns = ['난자 해동 경과일', '배란 유도 유형']\n",
    "train.drop(columns=drop_columns, inplace=True)\n",
    "test.drop(columns=drop_columns, inplace=True)\n",
    "\n",
    "train.shape, test.shape"
   ]
  },
  {
   "cell_type": "code",
   "execution_count": 37,
   "metadata": {
    "id": "q5k1E_a8a6LH"
   },
   "outputs": [],
   "source": [
    "nan_col_list = ['착상 전 유전 검사 사용 여부','PGD 시술 여부', 'PGS 시술 여부']\n",
    "for col in nan_col_list:\n",
    "    train[col] = train[col].fillna(0)\n",
    "    test[col] = test[col].fillna(0)"
   ]
  },
  {
   "cell_type": "code",
   "execution_count": 38,
   "metadata": {
    "colab": {
     "base_uri": "https://localhost:8080/"
    },
    "id": "_Q-1vJvMZVdO",
    "outputId": "c00dc096-9bb5-4d60-f38f-4908c4f8c858"
   },
   "outputs": [],
   "source": [
    "drop_columns2 = []\n",
    "for col in train.columns:\n",
    "    if len(train[col].value_counts()) == 1:\n",
    "        drop_columns2.append(col)"
   ]
  },
  {
   "cell_type": "code",
   "execution_count": 39,
   "metadata": {
    "colab": {
     "base_uri": "https://localhost:8080/"
    },
    "id": "Eb_P6B2RarRm",
    "outputId": "8648f15e-8a85-49bb-fb00-a83582492051"
   },
   "outputs": [
    {
     "name": "stdout",
     "output_type": "stream",
     "text": [
      "['불임 원인 - 여성 요인', '난자 채취 경과일']\n"
     ]
    },
    {
     "data": {
      "text/plain": [
       "((256351, 64), (90067, 63))"
      ]
     },
     "execution_count": 39,
     "metadata": {},
     "output_type": "execute_result"
    }
   ],
   "source": [
    "print(drop_columns2)\n",
    "train.drop(columns=drop_columns2, inplace=True)\n",
    "test.drop(columns=drop_columns2, inplace=True)\n",
    "\n",
    "train.shape, test.shape"
   ]
  },
  {
   "cell_type": "code",
   "execution_count": 40,
   "metadata": {
    "id": "YjAuM-pa6Ewz"
   },
   "outputs": [],
   "source": [
    "cat_to_int_dict = {'6회 이상' : 6, '5회' : 5, '4회' : 4, '3회' : 3, '2회' : 2, '1회' : 1, '0회' : 0}\n",
    "\n",
    "cat_to_int_columns = ['총 시술 횟수', '클리닉 내 총 시술 횟수', 'IVF 시술 횟수','DI 시술 횟수', 'DI 임신 횟수' ,'DI 출산 횟수',\n",
    "                      '총 임신 횟수', 'IVF 임신 횟수', '총 출산 횟수', 'IVF 출산 횟수'] #\n",
    "for col in cat_to_int_columns:\n",
    "    train[col] = train[col].map(cat_to_int_dict)\n",
    "    test[col] = test[col].map(cat_to_int_dict)"
   ]
  },
  {
   "cell_type": "code",
   "execution_count": 41,
   "metadata": {},
   "outputs": [],
   "source": [
    "# 5. Binning(구간화) 예시\n",
    "# 예: 임신 시도 또는 마지막 임신 경과 연수\n",
    "if '임신 시도 또는 마지막 임신 경과 연수' in train.columns:\n",
    "    bins = [-0.1, 0.9, 3, 6, 10, 20]  # 0 이하, 1~3, 4~6, 7~10, 11~20\n",
    "    labels = ['0년 이하','1~3년','4~6년','7~10년','11~20년']\n",
    "    train['임신시도_bin'] = pd.cut(train['임신 시도 또는 마지막 임신 경과 연수'], bins=bins, labels=labels)\n",
    "    test['임신시도_bin']  = pd.cut(test['임신 시도 또는 마지막 임신 경과 연수'],  bins=bins, labels=labels)\n",
    "\n",
    "# 예: 총 생성 배아 수 (0~20, 21이상 구간)\n",
    "if '총 생성 배아 수' in train.columns:\n",
    "    bins = [-0.1, 0, 5, 10, 15, 20, 999]\n",
    "    labels = ['0','1~5','6~10','11~15','16~20','21이상']\n",
    "    train['총_생성_배아_bin'] = pd.cut(train['총 생성 배아 수'], bins=bins, labels=labels)\n",
    "    test['총_생성_배아_bin']  = pd.cut(test['총 생성 배아 수'],  bins=bins, labels=labels)\n",
    "\n",
    "# 6. 희소 범주(rare categories) 병합 예시\n",
    "def merge_rare_categories(series, min_count=100):\n",
    "    \"\"\"\n",
    "    시리즈 내에서 출현 횟수가 min_count 미만인 카테고리를\n",
    "    모두 '기타' 카테고리로 통합\n",
    "    \"\"\"\n",
    "    value_counts = series.value_counts(dropna=False)\n",
    "    rare_cats = value_counts[value_counts < min_count].index\n",
    "    return series.replace(rare_cats, '기타')\n",
    "\n",
    "\n",
    "rare_merge_cols = ['특정 시술 유형', '배아 생성 주요 이유']\n",
    "for col in rare_merge_cols:\n",
    "    if col in train.columns:\n",
    "        train[col] = merge_rare_categories(train[col], min_count=100)\n",
    "    if col in test.columns:\n",
    "        test[col] = merge_rare_categories(test[col], min_count=100)\n",
    "train.drop(columns =['임신 시도 또는 마지막 임신 경과 연수'],inplace = True )\n",
    "test.drop(columns =['임신 시도 또는 마지막 임신 경과 연수'],inplace = True )\n"
   ]
  },
  {
   "cell_type": "code",
   "execution_count": 42,
   "metadata": {
    "id": "f-mBaoLO4ffA"
   },
   "outputs": [],
   "source": [
    "procedure_encoding_dict = {'ICSI' : 'ICSI', 'IVF' : 'IVF', 'Unknown' : 'Unknown','IUI' : 'IUI',\n",
    "                           'ICSI:ICSI' : 'ICSI', 'ICSI / BLASTOCYST ' : 'ICSI / BLASTOCYST',\n",
    "                           'IVF / BLASTOCYST' : 'IVF / BLASTOCYST','IVF:IVF' : 'IVF','ICSI:IVF' : 'ICSI:IVF',\n",
    "                           'ICSI / AH' : 'ICSI / AH','IVF:ICSI' : 'ICSI:IVF', 'IVF / AH' : 'IVF / AH',\n",
    "                           'ICSI:Unknown' : 'ICSI', 'IVF:Unknown' : 'IVF', 'ICI' : 'ICI','Generic DI' : 'Generic DI',\n",
    "                           'IVI' : 'IVI','ICSI / BLASTOCYST:IVF / BLASTOCYST' : 'ICSI / BLASTOCYST:IVF / BLASTOCYST',\n",
    "                           'ICSI / BLASTOCYST :IVF / BLASTOCYST': 'ICSI / BLASTOCYST:IVF / BLASTOCYST','FER' : 'FER',\n",
    "                           'IVF / AH:ICSI / AH' : 'IVF / AH:ICSI / AH','GIFT':'GIFT','ICSI / AH:Unknown' : 'ICSI / AH',\n",
    "                           'ICSI / BLASTOCYST :ICSI' : 'ICSI / BLASTOCYST', 'IUI:ICI' : 'IUI:ICI',\n",
    "                           'IVF:Unknown:Unknown:Unknown' : 'IVF'}\n",
    "\n",
    "train['특정 시술 유형'] = train['특정 시술 유형'].map(procedure_encoding_dict)\n",
    "test['특정 시술 유형'] = test['특정 시술 유형'].map(procedure_encoding_dict)"
   ]
  },
  {
   "cell_type": "code",
   "execution_count": 43,
   "metadata": {
    "id": "UEU77iWib0U_"
   },
   "outputs": [],
   "source": [
    "train['불임 원인 - 정자 요인'] = train['불임 원인 - 정자 면역학적 요인'] + train['불임 원인 - 정자 운동성'] + train['불임 원인 - 정자 농도']  + train['불임 원인 - 정자 형태']\n",
    "test['불임 원인 - 정자 요인'] = test['불임 원인 - 정자 면역학적 요인'] + test['불임 원인 - 정자 운동성'] + test['불임 원인 - 정자 농도'] + test['불임 원인 - 정자 형태']\n",
    "train['불임 원인 - 여성 요인'] = train['불임 원인 - 자궁경부 문제'] + train['불임 원인 - 자궁내막증'] + train['불임 원인 - 배란 장애'] + train['불임 원인 - 난관 질환']\n",
    "test['불임 원인 - 여성 요인'] = test['불임 원인 - 자궁경부 문제'] + test['불임 원인 - 자궁내막증'] + test['불임 원인 - 배란 장애'] + test['불임 원인 - 난관 질환']\n",
    "\n",
    "train['남성 불임 원인'] = train['남성 주 불임 원인'] + train['남성 부 불임 원인']\n",
    "test['남성 불임 원인'] = test['남성 주 불임 원인'] + test['남성 부 불임 원인']\n",
    "train['여성 불임 원인'] = train['여성 주 불임 원인'] + train['여성 부 불임 원인']\n",
    "test['여성 불임 원인'] = test['여성 주 불임 원인'] + test['여성 부 불임 원인']\n",
    "train['부부 불임 원인'] = train['부부 주 불임 원인'] + train['부부 부 불임 원인']\n",
    "test['부부 불임 원인'] = test['부부 주 불임 원인'] + test['부부 부 불임 원인']\n",
    "\n",
    "\n",
    "drop_columns3 = ['불임 원인 - 정자 면역학적 요인', '불임 원인 - 정자 운동성', '불임 원인 - 정자 형태', '불임 원인 - 자궁경부 문제',\n",
    "                 '남성 주 불임 원인', '남성 부 불임 원인', '여성 주 불임 원인', '여성 부 불임 원인',\n",
    "                 '부부 주 불임 원인', '부부 부 불임 원인']\n",
    "train.drop(columns=drop_columns3, inplace=True)\n",
    "test.drop(columns=drop_columns3, inplace=True)"
   ]
  },
  {
   "cell_type": "code",
   "execution_count": 44,
   "metadata": {},
   "outputs": [
    {
     "ename": "KeyError",
     "evalue": "\"['임신 시도 또는 마지막 임신 경과 연수'] not found in axis\"",
     "output_type": "error",
     "traceback": [
      "\u001b[0;31m---------------------------------------------------------------------------\u001b[0m",
      "\u001b[0;31mKeyError\u001b[0m                                  Traceback (most recent call last)",
      "Cell \u001b[0;32mIn[44], line 1\u001b[0m\n\u001b[0;32m----> 1\u001b[0m \u001b[43mtrain\u001b[49m\u001b[38;5;241;43m.\u001b[39;49m\u001b[43mdrop\u001b[49m\u001b[43m(\u001b[49m\u001b[43mcolumns\u001b[49m\u001b[43m \u001b[49m\u001b[38;5;241;43m=\u001b[39;49m\u001b[43m[\u001b[49m\u001b[38;5;124;43m'\u001b[39;49m\u001b[38;5;124;43m임신 시도 또는 마지막 임신 경과 연수\u001b[39;49m\u001b[38;5;124;43m'\u001b[39;49m\u001b[43m]\u001b[49m\u001b[43m,\u001b[49m\u001b[43minplace\u001b[49m\u001b[43m \u001b[49m\u001b[38;5;241;43m=\u001b[39;49m\u001b[43m \u001b[49m\u001b[38;5;28;43;01mTrue\u001b[39;49;00m\u001b[43m \u001b[49m\u001b[43m)\u001b[49m\n\u001b[1;32m      2\u001b[0m test\u001b[38;5;241m.\u001b[39mdrop(columns \u001b[38;5;241m=\u001b[39m[\u001b[38;5;124m'\u001b[39m\u001b[38;5;124m임신 시도 또는 마지막 임신 경과 연수\u001b[39m\u001b[38;5;124m'\u001b[39m],inplace \u001b[38;5;241m=\u001b[39m \u001b[38;5;28;01mTrue\u001b[39;00m )\n",
      "File \u001b[0;32m~/Library/Python/3.9/lib/python/site-packages/pandas/core/frame.py:5581\u001b[0m, in \u001b[0;36mDataFrame.drop\u001b[0;34m(self, labels, axis, index, columns, level, inplace, errors)\u001b[0m\n\u001b[1;32m   5433\u001b[0m \u001b[38;5;28;01mdef\u001b[39;00m\u001b[38;5;250m \u001b[39m\u001b[38;5;21mdrop\u001b[39m(\n\u001b[1;32m   5434\u001b[0m     \u001b[38;5;28mself\u001b[39m,\n\u001b[1;32m   5435\u001b[0m     labels: IndexLabel \u001b[38;5;241m|\u001b[39m \u001b[38;5;28;01mNone\u001b[39;00m \u001b[38;5;241m=\u001b[39m \u001b[38;5;28;01mNone\u001b[39;00m,\n\u001b[0;32m   (...)\u001b[0m\n\u001b[1;32m   5442\u001b[0m     errors: IgnoreRaise \u001b[38;5;241m=\u001b[39m \u001b[38;5;124m\"\u001b[39m\u001b[38;5;124mraise\u001b[39m\u001b[38;5;124m\"\u001b[39m,\n\u001b[1;32m   5443\u001b[0m ) \u001b[38;5;241m-\u001b[39m\u001b[38;5;241m>\u001b[39m DataFrame \u001b[38;5;241m|\u001b[39m \u001b[38;5;28;01mNone\u001b[39;00m:\n\u001b[1;32m   5444\u001b[0m \u001b[38;5;250m    \u001b[39m\u001b[38;5;124;03m\"\"\"\u001b[39;00m\n\u001b[1;32m   5445\u001b[0m \u001b[38;5;124;03m    Drop specified labels from rows or columns.\u001b[39;00m\n\u001b[1;32m   5446\u001b[0m \n\u001b[0;32m   (...)\u001b[0m\n\u001b[1;32m   5579\u001b[0m \u001b[38;5;124;03m            weight  1.0     0.8\u001b[39;00m\n\u001b[1;32m   5580\u001b[0m \u001b[38;5;124;03m    \"\"\"\u001b[39;00m\n\u001b[0;32m-> 5581\u001b[0m     \u001b[38;5;28;01mreturn\u001b[39;00m \u001b[38;5;28;43msuper\u001b[39;49m\u001b[43m(\u001b[49m\u001b[43m)\u001b[49m\u001b[38;5;241;43m.\u001b[39;49m\u001b[43mdrop\u001b[49m\u001b[43m(\u001b[49m\n\u001b[1;32m   5582\u001b[0m \u001b[43m        \u001b[49m\u001b[43mlabels\u001b[49m\u001b[38;5;241;43m=\u001b[39;49m\u001b[43mlabels\u001b[49m\u001b[43m,\u001b[49m\n\u001b[1;32m   5583\u001b[0m \u001b[43m        \u001b[49m\u001b[43maxis\u001b[49m\u001b[38;5;241;43m=\u001b[39;49m\u001b[43maxis\u001b[49m\u001b[43m,\u001b[49m\n\u001b[1;32m   5584\u001b[0m \u001b[43m        \u001b[49m\u001b[43mindex\u001b[49m\u001b[38;5;241;43m=\u001b[39;49m\u001b[43mindex\u001b[49m\u001b[43m,\u001b[49m\n\u001b[1;32m   5585\u001b[0m \u001b[43m        \u001b[49m\u001b[43mcolumns\u001b[49m\u001b[38;5;241;43m=\u001b[39;49m\u001b[43mcolumns\u001b[49m\u001b[43m,\u001b[49m\n\u001b[1;32m   5586\u001b[0m \u001b[43m        \u001b[49m\u001b[43mlevel\u001b[49m\u001b[38;5;241;43m=\u001b[39;49m\u001b[43mlevel\u001b[49m\u001b[43m,\u001b[49m\n\u001b[1;32m   5587\u001b[0m \u001b[43m        \u001b[49m\u001b[43minplace\u001b[49m\u001b[38;5;241;43m=\u001b[39;49m\u001b[43minplace\u001b[49m\u001b[43m,\u001b[49m\n\u001b[1;32m   5588\u001b[0m \u001b[43m        \u001b[49m\u001b[43merrors\u001b[49m\u001b[38;5;241;43m=\u001b[39;49m\u001b[43merrors\u001b[49m\u001b[43m,\u001b[49m\n\u001b[1;32m   5589\u001b[0m \u001b[43m    \u001b[49m\u001b[43m)\u001b[49m\n",
      "File \u001b[0;32m~/Library/Python/3.9/lib/python/site-packages/pandas/core/generic.py:4788\u001b[0m, in \u001b[0;36mNDFrame.drop\u001b[0;34m(self, labels, axis, index, columns, level, inplace, errors)\u001b[0m\n\u001b[1;32m   4786\u001b[0m \u001b[38;5;28;01mfor\u001b[39;00m axis, labels \u001b[38;5;129;01min\u001b[39;00m axes\u001b[38;5;241m.\u001b[39mitems():\n\u001b[1;32m   4787\u001b[0m     \u001b[38;5;28;01mif\u001b[39;00m labels \u001b[38;5;129;01mis\u001b[39;00m \u001b[38;5;129;01mnot\u001b[39;00m \u001b[38;5;28;01mNone\u001b[39;00m:\n\u001b[0;32m-> 4788\u001b[0m         obj \u001b[38;5;241m=\u001b[39m \u001b[43mobj\u001b[49m\u001b[38;5;241;43m.\u001b[39;49m\u001b[43m_drop_axis\u001b[49m\u001b[43m(\u001b[49m\u001b[43mlabels\u001b[49m\u001b[43m,\u001b[49m\u001b[43m \u001b[49m\u001b[43maxis\u001b[49m\u001b[43m,\u001b[49m\u001b[43m \u001b[49m\u001b[43mlevel\u001b[49m\u001b[38;5;241;43m=\u001b[39;49m\u001b[43mlevel\u001b[49m\u001b[43m,\u001b[49m\u001b[43m \u001b[49m\u001b[43merrors\u001b[49m\u001b[38;5;241;43m=\u001b[39;49m\u001b[43merrors\u001b[49m\u001b[43m)\u001b[49m\n\u001b[1;32m   4790\u001b[0m \u001b[38;5;28;01mif\u001b[39;00m inplace:\n\u001b[1;32m   4791\u001b[0m     \u001b[38;5;28mself\u001b[39m\u001b[38;5;241m.\u001b[39m_update_inplace(obj)\n",
      "File \u001b[0;32m~/Library/Python/3.9/lib/python/site-packages/pandas/core/generic.py:4830\u001b[0m, in \u001b[0;36mNDFrame._drop_axis\u001b[0;34m(self, labels, axis, level, errors, only_slice)\u001b[0m\n\u001b[1;32m   4828\u001b[0m         new_axis \u001b[38;5;241m=\u001b[39m axis\u001b[38;5;241m.\u001b[39mdrop(labels, level\u001b[38;5;241m=\u001b[39mlevel, errors\u001b[38;5;241m=\u001b[39merrors)\n\u001b[1;32m   4829\u001b[0m     \u001b[38;5;28;01melse\u001b[39;00m:\n\u001b[0;32m-> 4830\u001b[0m         new_axis \u001b[38;5;241m=\u001b[39m \u001b[43maxis\u001b[49m\u001b[38;5;241;43m.\u001b[39;49m\u001b[43mdrop\u001b[49m\u001b[43m(\u001b[49m\u001b[43mlabels\u001b[49m\u001b[43m,\u001b[49m\u001b[43m \u001b[49m\u001b[43merrors\u001b[49m\u001b[38;5;241;43m=\u001b[39;49m\u001b[43merrors\u001b[49m\u001b[43m)\u001b[49m\n\u001b[1;32m   4831\u001b[0m     indexer \u001b[38;5;241m=\u001b[39m axis\u001b[38;5;241m.\u001b[39mget_indexer(new_axis)\n\u001b[1;32m   4833\u001b[0m \u001b[38;5;66;03m# Case for non-unique axis\u001b[39;00m\n\u001b[1;32m   4834\u001b[0m \u001b[38;5;28;01melse\u001b[39;00m:\n",
      "File \u001b[0;32m~/Library/Python/3.9/lib/python/site-packages/pandas/core/indexes/base.py:7070\u001b[0m, in \u001b[0;36mIndex.drop\u001b[0;34m(self, labels, errors)\u001b[0m\n\u001b[1;32m   7068\u001b[0m \u001b[38;5;28;01mif\u001b[39;00m mask\u001b[38;5;241m.\u001b[39many():\n\u001b[1;32m   7069\u001b[0m     \u001b[38;5;28;01mif\u001b[39;00m errors \u001b[38;5;241m!=\u001b[39m \u001b[38;5;124m\"\u001b[39m\u001b[38;5;124mignore\u001b[39m\u001b[38;5;124m\"\u001b[39m:\n\u001b[0;32m-> 7070\u001b[0m         \u001b[38;5;28;01mraise\u001b[39;00m \u001b[38;5;167;01mKeyError\u001b[39;00m(\u001b[38;5;124mf\u001b[39m\u001b[38;5;124m\"\u001b[39m\u001b[38;5;132;01m{\u001b[39;00mlabels[mask]\u001b[38;5;241m.\u001b[39mtolist()\u001b[38;5;132;01m}\u001b[39;00m\u001b[38;5;124m not found in axis\u001b[39m\u001b[38;5;124m\"\u001b[39m)\n\u001b[1;32m   7071\u001b[0m     indexer \u001b[38;5;241m=\u001b[39m indexer[\u001b[38;5;241m~\u001b[39mmask]\n\u001b[1;32m   7072\u001b[0m \u001b[38;5;28;01mreturn\u001b[39;00m \u001b[38;5;28mself\u001b[39m\u001b[38;5;241m.\u001b[39mdelete(indexer)\n",
      "\u001b[0;31mKeyError\u001b[0m: \"['임신 시도 또는 마지막 임신 경과 연수'] not found in axis\""
     ]
    }
   ],
   "source": [
    "train.drop(columns =['임신 시도 또는 마지막 임신 경과 연수'],inplace = True )\n",
    "test.drop(columns =['임신 시도 또는 마지막 임신 경과 연수'],inplace = True )"
   ]
  },
  {
   "cell_type": "code",
   "execution_count": 45,
   "metadata": {
    "colab": {
     "base_uri": "https://localhost:8080/"
    },
    "id": "kjEBmjSkbL5j",
    "outputId": "b3db516d-031e-42fc-89bb-a3218d8bd879"
   },
   "outputs": [
    {
     "data": {
      "text/plain": [
       "Index(['시술 시기 코드', '시술 당시 나이', '시술 유형', '특정 시술 유형', '배란 자극 여부', '단일 배아 이식 여부',\n",
       "       '착상 전 유전 검사 사용 여부', '착상 전 유전 진단 사용 여부', '불명확 불임 원인', '불임 원인 - 난관 질환',\n",
       "       '불임 원인 - 남성 요인', '불임 원인 - 배란 장애', '불임 원인 - 자궁내막증', '불임 원인 - 정자 농도',\n",
       "       '배아 생성 주요 이유', '총 시술 횟수', '클리닉 내 총 시술 횟수', 'IVF 시술 횟수', 'DI 시술 횟수',\n",
       "       '총 임신 횟수', 'IVF 임신 횟수', 'DI 임신 횟수', '총 출산 횟수', 'IVF 출산 횟수', 'DI 출산 횟수',\n",
       "       '총 생성 배아 수', '미세주입된 난자 수', '미세주입에서 생성된 배아 수', '이식된 배아 수',\n",
       "       '미세주입 배아 이식 수', '저장된 배아 수', '미세주입 후 저장된 배아 수', '해동된 배아 수', '해동 난자 수',\n",
       "       '수집된 신선 난자 수', '저장된 신선 난자 수', '혼합된 난자 수', '파트너 정자와 혼합된 난자 수',\n",
       "       '기증자 정자와 혼합된 난자 수', '난자 출처', '정자 출처', '난자 기증자 나이', '정자 기증자 나이',\n",
       "       '동결 배아 사용 여부', '신선 배아 사용 여부', '기증 배아 사용 여부', '대리모 여부', 'PGD 시술 여부',\n",
       "       'PGS 시술 여부', '난자 혼합 경과일', '배아 이식 경과일', '배아 해동 경과일', '임신 성공 여부',\n",
       "       '임신시도_bin', '총_생성_배아_bin', '불임 원인 - 정자 요인', '불임 원인 - 여성 요인', '남성 불임 원인',\n",
       "       '여성 불임 원인', '부부 불임 원인'],\n",
       "      dtype='object')"
      ]
     },
     "execution_count": 45,
     "metadata": {},
     "output_type": "execute_result"
    }
   ],
   "source": [
    "train.columns"
   ]
  },
  {
   "cell_type": "code",
   "execution_count": 46,
   "metadata": {
    "id": "64dAkKrBayFA"
   },
   "outputs": [],
   "source": [
    "# categorical_columns = [\"시술 시기 코드\",\"시술 당시 나이\", \"시술 유형\", \"특정 시술 유형\",\"배란 자극 여부\",\n",
    "                      #  \"단일 배아 이식 여부\",\"착상 전 유전 진단 사용 여부\",\n",
    "                      #  \"남성 주 불임 원인\",\"남성 부 불임 원인\",\"여성 주 불임 원인\",\"여성 부 불임 원인\",\n",
    "                      #  \"부부 주 불임 원인\",\"부부 부 불임 원인\",\"불명확 불임 원인\",\"불임 원인 - 난관 질환\",\n",
    "                      #  \"불임 원인 - 남성 요인\",\"불임 원인 - 배란 장애\",\"불임 원인 - 자궁경부 문제\",\"불임 원인 - 자궁내막증\",\n",
    "                      #  \"불임 원인 - 정자 농도\",\"불임 원인 - 정자 면역학적 요인\",\"불임 원인 - 정자 운동성\",\"불임 원인 - 정자 형태\",\n",
    "                      #  \"배아 생성 주요 이유\",\"총 시술 횟수\",\"클리닉 내 총 시술 횟수\",\"IVF 시술 횟수\",\"DI 시술 횟수\",\n",
    "                      #  \"총 임신 횟수\",\"IVF 임신 횟수\",\"DI 임신 횟수\",\"총 출산 횟수\",\"IVF 출산 횟수\",\"DI 출산 횟수\",\n",
    "                      #  \"난자 출처\",\"정자 출처\",\"난자 기증자 나이\",\"정자 기증자 나이\",\n",
    "                      #  \"동결 배아 사용 여부\",\"신선 배아 사용 여부\",\"기증 배아 사용 여부\",\"대리모 여부\"]\n",
    "categorical_columns =  [\"시술 시기 코드\",\"시술 당시 나이\",\"시술 유형\", \"특정 시술 유형\",\n",
    "                        \"배란 자극 여부\", \"단일 배아 이식 여부\", '착상 전 유전 검사 사용 여부',\"착상 전 유전 진단 사용 여부\",\n",
    "                       \"불명확 불임 원인\",\"배아 생성 주요 이유\",\n",
    "                        \"불임 원인 - 난관 질환\",\"불임 원인 - 남성 요인\",\"불임 원인 - 배란 장애\",\n",
    "                        \"불임 원인 - 자궁내막증\",'불임 원인 - 정자 농도',\"난자 출처\",\"정자 출처\",\"난자 기증자 나이\",\"정자 기증자 나이\",\n",
    "                       \"동결 배아 사용 여부\",\"신선 배아 사용 여부\", '기증 배아 사용 여부',\"대리모 여부\",\n",
    "                        'PGD 시술 여부', '총_생성_배아_bin','PGS 시술 여부', '불임 원인 - 정자 요인', '불임 원인 - 여성 요인',  '남성 불임 원인', '여성 불임 원인', '부부 불임 원인',\"임신시도_bin\"] #\n",
    "# \"남성 주 불임 원인\",\"남성 부 불임 원인\",\"여성 주 불임 원인\",\"여성 부 불임 원인\",\n",
    "#                       \"부부 주 불임 원인\",\"부부 부 불임 원인\",\n",
    "\n",
    "for col in categorical_columns:\n",
    "    if train[col].isna().sum() > 0 or test[col].isna().sum() > 0 :\n",
    "\n",
    "      mode_value = train[col].mode()[0]\n",
    "      train[col].fillna(mode_value, inplace=True)  # 최빈값으로 대체\n",
    "      test[col].fillna(mode_value, inplace = True)\n",
    "    train[col] = train[col].astype(str)\n",
    "    test[col] = test[col].astype(str)\n",
    "    #encoder = ce.OrdinalEncoder(handle_unknown='impute')\n",
    "    #encoder.fit(train[col])\n",
    "    #train[col] = encoder.transform(train[col])\n",
    "    #test[col] = encoder.transform(test[col])\n",
    "\n",
    "numeric_columns = [\"총 생성 배아 수\", \"총 시술 횟수\",\"클리닉 내 총 시술 횟수\",\"IVF 시술 횟수\",\"DI 시술 횟수\",\n",
    "                   \"총 임신 횟수\",\"IVF 임신 횟수\",\"DI 임신 횟수\",\"총 출산 횟수\",\"IVF 출산 횟수\",\"DI 출산 횟수\",\n",
    "                    '미세주입된 난자 수', '미세주입에서 생성된 배아 수', '이식된 배아 수', '미세주입 배아 이식 수', '저장된 배아 수',\n",
    "       '미세주입 후 저장된 배아 수', '해동된 배아 수', '해동 난자 수', '수집된 신선 난자 수', '저장된 신선 난자 수',\n",
    "       '혼합된 난자 수', '파트너 정자와 혼합된 난자 수', '기증자 정자와 혼합된 난자 수', '난자 혼합 경과일', '배아 이식 경과일', '배아 해동 경과일'] #\n",
    "\n",
    "# numeric_columns = [\"총 생성 배아 수\",\"미세주입된 난자 수\",\"미세주입에서 생성된 배아 수\",\n",
    "#                    \"이식된 배아 수\",\"미세주입 배아 이식 수\",\"저장된 배아 수\",\"미세주입 후 저장된 배아 수\",\n",
    "#                    \"수집된 신선 난자 수\",\"혼합된 난자 수\",\"파트너 정자와 혼합된 난자 수\",\n",
    "#                    \"기증자 정자와 혼합된 난자 수\",\"배아 이식 경과일\"]\n",
    "\n",
    "for col in numeric_columns:\n",
    "  if train[col].isna().sum():\n",
    "    if train[col].isna().sum() >= len(train)*0.5: # 결측치가 절반이 넘어갈 경우\n",
    "      train[col].fillna(-1, inplace=True)  # -1로 대체\n",
    "      test[col].fillna(-1, inplace = True)\n",
    "    else:\n",
    "      mode_value = train[col].mode()[0]  # 최빈값 구하기\n",
    "      train[col].fillna(mode_value, inplace=True)  # 최빈값으로 대체\n",
    "      test[col].fillna(mode_value, inplace = True)\n"
   ]
  },
  {
   "cell_type": "code",
   "execution_count": 47,
   "metadata": {
    "colab": {
     "base_uri": "https://localhost:8080/"
    },
    "id": "rrQrzq0H_QfV",
    "outputId": "255208d3-85ca-4d21-d9d0-eb8dccc27e6d"
   },
   "outputs": [
    {
     "data": {
      "text/plain": [
       "59"
      ]
     },
     "execution_count": 47,
     "metadata": {},
     "output_type": "execute_result"
    }
   ],
   "source": [
    "len(categorical_columns) + len(numeric_columns)"
   ]
  },
  {
   "cell_type": "code",
   "execution_count": 48,
   "metadata": {
    "id": "CI8IOlCFVXGY"
   },
   "outputs": [],
   "source": [
    "def make_feature(df):\n",
    "  df['미세주입 배아 생성률'] = (df['미세주입에서 생성된 배아 수']) / (df['미세주입된 난자 수'] + 1)\n",
    "  # df['미세주입 배아 이식률'] = (df['미세주입 배아 이식 수']) / (df['미세주입에서 생성된 배아 수'] + 1)\n",
    "  df['배아 이식률'] = (df['이식된 배아 수']) / (df['총 생성 배아 수'] + 1)\n",
    "  df['저장 배아 비율'] = (df['저장된 배아 수'])/ (df['총 생성 배아 수'] + 1)\n",
    "  df['해동 배아 생존율'] = (df['해동된 배아 수'])/ (df['총 생성 배아 수'] + 1)\n",
    "  df['파트너 정자 혼합 비율'] = (df['파트너 정자와 혼합된 난자 수']) / (df['혼합된 난자 수'] + 1)\n",
    "\n",
    "  df['임신 성공률'] = (df['총 임신 횟수']) / (df['총 시술 횟수'] + 1)\n",
    "  df['출산율'] = df['총 출산 횟수'] / (df['총 임신 횟수'] + 1)\n",
    "\n",
    "  df['IVF 시술 성공률'] = df['IVF 임신 횟수'] / (df['IVF 시술 횟수'] + 1)    \n",
    "  df['DI 시술 성공률'] = df['DI 임신 횟수'] / (df['DI 시술 횟수'] + 1)         \n",
    "  df['클리닉 시술 비율'] = df['총 시술 횟수'] / (df['클리닉 내 총 시술 횟수'] + 1)  \n",
    "  df['배아 이용 효율'] = (df['이식된 배아 수'] + df['저장된 배아 수']) / (df['총 생성 배아 수'] + 1) \n",
    "\n",
    "  return df"
   ]
  },
  {
   "cell_type": "code",
   "execution_count": 49,
   "metadata": {
    "colab": {
     "base_uri": "https://localhost:8080/"
    },
    "id": "_VNPbGSR4h_I",
    "outputId": "44e7b9c5-1948-417e-b02a-64267fb91fae"
   },
   "outputs": [
    {
     "data": {
      "text/plain": [
       "((256351, 70), (90067, 70))"
      ]
     },
     "execution_count": 49,
     "metadata": {},
     "output_type": "execute_result"
    }
   ],
   "source": [
    "X = train.drop('임신 성공 여부', axis=1)\n",
    "y = train['임신 성공 여부']\n",
    "\n",
    "X = make_feature(X)\n",
    "test = make_feature(test)\n",
    "\n",
    "X.shape, test.shape"
   ]
  },
  {
   "cell_type": "code",
   "execution_count": 50,
   "metadata": {},
   "outputs": [
    {
     "data": {
      "text/plain": [
       "((256351, 70), (90067, 70))"
      ]
     },
     "execution_count": 50,
     "metadata": {},
     "output_type": "execute_result"
    }
   ],
   "source": [
    "from sklearn.preprocessing import StandardScaler\n",
    "scaler = StandardScaler()\n",
    "# 수치형 변수(정수, 실수)를 선택하여 스케일링\n",
    "numeric_cols = X.select_dtypes(include=['int64', 'float64']).columns\n",
    "X[numeric_cols] = scaler.fit_transform(X[numeric_cols])\n",
    "test[numeric_cols] = scaler.transform(test[numeric_cols])\n",
    "\n",
    "X.shape, test.shape"
   ]
  },
  {
   "cell_type": "code",
   "execution_count": 51,
   "metadata": {
    "colab": {
     "base_uri": "https://localhost:8080/",
     "height": 178
    },
    "id": "1WNQj2e8ukWK",
    "outputId": "039cab20-93c0-4ab4-f8a6-8098c62dc87f"
   },
   "outputs": [
    {
     "data": {
      "text/plain": [
       "임신 성공 여부\n",
       "0    190123\n",
       "1     66228\n",
       "Name: count, dtype: int64"
      ]
     },
     "execution_count": 51,
     "metadata": {},
     "output_type": "execute_result"
    }
   ],
   "source": [
    "y.value_counts()"
   ]
  },
  {
   "cell_type": "code",
   "execution_count": 52,
   "metadata": {},
   "outputs": [],
   "source": [
    "if not os.path.exists('./weight'):\n",
    "    os.makedirs('./weight')"
   ]
  },
  {
   "cell_type": "code",
   "execution_count": 53,
   "metadata": {
    "id": "nsRZfmFixgqm"
   },
   "outputs": [],
   "source": [
    "from sklearn.utils.class_weight import compute_class_weight\n",
    "def objective_cat(trial):\n",
    "    global best_val_auc\n",
    "    cbrm_param = {\n",
    "        'iterations':trial.suggest_int(\"iterations\", 1500, 3000),\n",
    "        'depth':trial.suggest_int(\"depth\", 4, 10),\n",
    "        'learning_rate' : trial.suggest_float('learning_rate',0.005, 0.1),\n",
    "        'l2_leaf_reg': trial.suggest_float(\"l2_leaf_reg\", 1e-4, 100.0, log=True),\n",
    "        'early_stopping_rounds': 300\n",
    "    }\n",
    "\n",
    "    # Generate model\n",
    "    model_cat = CatBoostClassifier(**cbrm_param, auto_class_weights='Balanced', eval_metric='AUC', random_state=seed)\n",
    "    model_cat.fit(X_train,\n",
    "          y_train,\n",
    "          cat_features=categorical_columns,\n",
    "          early_stopping_rounds= 300,\n",
    "          eval_set=[(X_val,y_val)],\n",
    "          verbose = 300)\n",
    "    \n",
    "    val_auc = model_cat.get_best_score()[\"validation\"][\"AUC\"]\n",
    "    best_model_path = \"./weight/cat_fold_cpu{}.cbm\".format(idx)\n",
    "    if val_auc > best_val_auc:\n",
    "        best_val_auc = val_auc\n",
    "        model_cat.save_model(best_model_path)\n",
    "        print('저장 완료')\n",
    "\n",
    "    return val_auc\n",
    "\n",
    "def objective_lgbm(trial):\n",
    "\n",
    "    lgbm_params = {\n",
    "         #'num_leaves': trial.suggest_int('num_leaves', 2, 1024, step=1),\n",
    "         #'max_depth': trial.suggest_int('max_depth', 3, 18, step=1),\n",
    "          \"num_iterations\": trial.suggest_int(\"num_iterations\", 1500, 3000),\n",
    "        \"objective\":  trial.suggest_categorical(\"objective\", [\"binary\"]),\n",
    "         \"metric\":  trial.suggest_categorical(\"metric\", [\"auc\"]),\n",
    "        #  \"random_state\":  trial.suggest_int('random_state', 42, 42),\n",
    "        \"random_state\": seed,\n",
    "        \"verbose\":  trial.suggest_int('verbose', -1, -1),\n",
    "        'learning_rate': trial.suggest_float('learning_rate', 0.005, 0.1, log=True),\n",
    "        'n_estimators': trial.suggest_int('n_estimators', 100, 2000),\n",
    "        'min_child_samples': trial.suggest_int('min_child_samples', 10, 50, step=5),\n",
    "        'subsample': trial.suggest_float('subsample', 0.5, 1.0, step=0.1),\n",
    "        'colsample_bytree': trial.suggest_float('colsample_bytree', 0.5, 1.0, step=0.1),\n",
    "    }\n",
    "\n",
    "    # Generate model\n",
    "\n",
    "    class_weights = compute_class_weight(class_weight=\"balanced\", classes=np.unique(y), y=y_train)\n",
    "    class_weight_dict = {i: w for i, w in enumerate(class_weights)}\n",
    "\n",
    "    model_lgbm = lgb.LGBMClassifier(**lgbm_params, class_weight=class_weight_dict)\n",
    "\n",
    "    model_lgbm.fit(X_train, y_train,eval_set=[(X_val, y_val)],categorical_feature=categorical_columns)\n",
    "\n",
    "    return model_lgbm.best_score_['valid_0']['auc']"
   ]
  },
  {
   "cell_type": "code",
   "execution_count": 54,
   "metadata": {
    "colab": {
     "base_uri": "https://localhost:8080/"
    },
    "id": "NsuYwQX28LzT",
    "outputId": "392153b7-08f0-4feb-9a83-6016732f894c",
    "scrolled": true,
    "tags": []
   },
   "outputs": [
    {
     "name": "stderr",
     "output_type": "stream",
     "text": [
      "[I 2025-02-24 13:47:53,022] A new study created in memory with name: no-name-278b5c15-87b6-4f02-b114-2950e4d4cdcb\n"
     ]
    },
    {
     "name": "stdout",
     "output_type": "stream",
     "text": [
      "Seed 4972 Start!\n",
      "==================================================\n",
      "0:\ttest: 0.7222746\tbest: 0.7222746 (0)\ttotal: 183ms\tremaining: 7m 11s\n",
      "300:\ttest: 0.7387276\tbest: 0.7387276 (300)\ttotal: 38.1s\tremaining: 4m 21s\n",
      "600:\ttest: 0.7401148\tbest: 0.7401148 (600)\ttotal: 1m 18s\tremaining: 3m 50s\n",
      "900:\ttest: 0.7407638\tbest: 0.7407638 (899)\ttotal: 1m 57s\tremaining: 3m 10s\n",
      "1200:\ttest: 0.7408903\tbest: 0.7409123 (1186)\ttotal: 2m 41s\tremaining: 2m 36s\n",
      "1500:\ttest: 0.7410426\tbest: 0.7410602 (1491)\ttotal: 3m 29s\tremaining: 2m 1s\n",
      "1800:\ttest: 0.7410401\tbest: 0.7411187 (1607)\ttotal: 4m 22s\tremaining: 1m 22s\n"
     ]
    },
    {
     "name": "stderr",
     "output_type": "stream",
     "text": [
      "[I 2025-02-24 13:52:34,101] Trial 0 finished with value: 0.7411186767250701 and parameters: {'iterations': 2366, 'depth': 10, 'learning_rate': 0.01181021951839225, 'l2_leaf_reg': 9.980783802743254}. Best is trial 0 with value: 0.7411186767250701.\n"
     ]
    },
    {
     "name": "stdout",
     "output_type": "stream",
     "text": [
      "Stopped by overfitting detector  (300 iterations wait)\n",
      "\n",
      "bestTest = 0.7411186767\n",
      "bestIteration = 1607\n",
      "\n",
      "Shrink model to first 1608 iterations.\n",
      "저장 완료\n",
      "0:\ttest: 0.6939752\tbest: 0.6939752 (0)\ttotal: 57.1ms\tremaining: 2m 5s\n",
      "300:\ttest: 0.7306007\tbest: 0.7306007 (300)\ttotal: 13.3s\tremaining: 1m 23s\n",
      "600:\ttest: 0.7344322\tbest: 0.7344322 (600)\ttotal: 27.2s\tremaining: 1m 12s\n",
      "900:\ttest: 0.7363272\tbest: 0.7363272 (900)\ttotal: 41.2s\tremaining: 59.1s\n",
      "1200:\ttest: 0.7373517\tbest: 0.7373517 (1200)\ttotal: 55.4s\tremaining: 45.8s\n",
      "1500:\ttest: 0.7380062\tbest: 0.7380063 (1498)\ttotal: 1m 10s\tremaining: 32.3s\n",
      "1800:\ttest: 0.7385153\tbest: 0.7385153 (1800)\ttotal: 1m 24s\tremaining: 18.4s\n",
      "2100:\ttest: 0.7389172\tbest: 0.7389172 (2100)\ttotal: 1m 39s\tremaining: 4.35s\n"
     ]
    },
    {
     "name": "stderr",
     "output_type": "stream",
     "text": [
      "[I 2025-02-24 13:54:18,321] Trial 1 finished with value: 0.7390708753125588 and parameters: {'iterations': 2193, 'depth': 4, 'learning_rate': 0.005671430811678843, 'l2_leaf_reg': 0.00012325230809466137}. Best is trial 0 with value: 0.7411186767250701.\n"
     ]
    },
    {
     "name": "stdout",
     "output_type": "stream",
     "text": [
      "2192:\ttest: 0.7390709\tbest: 0.7390709 (2192)\ttotal: 1m 43s\tremaining: 0us\n",
      "\n",
      "bestTest = 0.7390708753\n",
      "bestIteration = 2192\n",
      "\n",
      "0:\ttest: 0.6939752\tbest: 0.6939752 (0)\ttotal: 54.7ms\tremaining: 2m 18s\n",
      "300:\ttest: 0.7404625\tbest: 0.7404636 (287)\ttotal: 14.8s\tremaining: 1m 49s\n",
      "600:\ttest: 0.7402916\tbest: 0.7404720 (309)\ttotal: 30.3s\tremaining: 1m 37s\n"
     ]
    },
    {
     "name": "stderr",
     "output_type": "stream",
     "text": [
      "[I 2025-02-24 13:54:49,272] Trial 2 finished with value: 0.7404719526478617 and parameters: {'iterations': 2535, 'depth': 4, 'learning_rate': 0.09275339199839054, 'l2_leaf_reg': 0.0008705394248343123}. Best is trial 0 with value: 0.7411186767250701.\n"
     ]
    },
    {
     "name": "stdout",
     "output_type": "stream",
     "text": [
      "Stopped by overfitting detector  (300 iterations wait)\n",
      "\n",
      "bestTest = 0.7404719526\n",
      "bestIteration = 309\n",
      "\n",
      "Shrink model to first 310 iterations.\n",
      "0:\ttest: 0.6939752\tbest: 0.6939752 (0)\ttotal: 50.8ms\tremaining: 1m 58s\n",
      "300:\ttest: 0.7392722\tbest: 0.7392722 (300)\ttotal: 14.5s\tremaining: 1m 37s\n",
      "600:\ttest: 0.7402891\tbest: 0.7402891 (600)\ttotal: 29.8s\tremaining: 1m 26s\n",
      "900:\ttest: 0.7403740\tbest: 0.7405008 (839)\ttotal: 45.2s\tremaining: 1m 11s\n"
     ]
    },
    {
     "name": "stderr",
     "output_type": "stream",
     "text": [
      "[I 2025-02-24 13:55:46,746] Trial 3 finished with value: 0.7405008472671086 and parameters: {'iterations': 2334, 'depth': 4, 'learning_rate': 0.04657568321363276, 'l2_leaf_reg': 0.0008640473331457248}. Best is trial 0 with value: 0.7411186767250701.\n"
     ]
    },
    {
     "name": "stdout",
     "output_type": "stream",
     "text": [
      "Stopped by overfitting detector  (300 iterations wait)\n",
      "\n",
      "bestTest = 0.7405008473\n",
      "bestIteration = 839\n",
      "\n",
      "Shrink model to first 840 iterations.\n",
      "0:\ttest: 0.7221312\tbest: 0.7221312 (0)\ttotal: 125ms\tremaining: 3m 37s\n",
      "300:\ttest: 0.7374676\tbest: 0.7374794 (299)\ttotal: 40.3s\tremaining: 3m 13s\n",
      "600:\ttest: 0.7379618\tbest: 0.7381034 (580)\ttotal: 1m 23s\tremaining: 2m 39s\n",
      "900:\ttest: 0.7380853\tbest: 0.7381815 (844)\ttotal: 2m 7s\tremaining: 1m 58s\n"
     ]
    },
    {
     "name": "stderr",
     "output_type": "stream",
     "text": [
      "[I 2025-02-24 13:58:32,433] Trial 4 finished with value: 0.7381814594636049 and parameters: {'iterations': 1742, 'depth': 10, 'learning_rate': 0.012622767482095846, 'l2_leaf_reg': 0.00021158816350109617}. Best is trial 0 with value: 0.7411186767250701.\n"
     ]
    },
    {
     "name": "stdout",
     "output_type": "stream",
     "text": [
      "Stopped by overfitting detector  (300 iterations wait)\n",
      "\n",
      "bestTest = 0.7381814595\n",
      "bestIteration = 844\n",
      "\n",
      "Shrink model to first 845 iterations.\n",
      "0:\ttest: 0.6939752\tbest: 0.6939752 (0)\ttotal: 62.1ms\tremaining: 2m 9s\n",
      "300:\ttest: 0.7400123\tbest: 0.7400123 (299)\ttotal: 15.4s\tremaining: 1m 31s\n",
      "600:\ttest: 0.7401105\tbest: 0.7404330 (437)\ttotal: 31.5s\tremaining: 1m 17s\n"
     ]
    },
    {
     "name": "stderr",
     "output_type": "stream",
     "text": [
      "[I 2025-02-24 13:59:11,622] Trial 5 finished with value: 0.740432960596054 and parameters: {'iterations': 2082, 'depth': 4, 'learning_rate': 0.06995196593094148, 'l2_leaf_reg': 0.0018080296485396804}. Best is trial 0 with value: 0.7411186767250701.\n"
     ]
    },
    {
     "name": "stdout",
     "output_type": "stream",
     "text": [
      "Stopped by overfitting detector  (300 iterations wait)\n",
      "\n",
      "bestTest = 0.7404329606\n",
      "bestIteration = 437\n",
      "\n",
      "Shrink model to first 438 iterations.\n",
      "0:\ttest: 0.6983380\tbest: 0.6983380 (0)\ttotal: 64.7ms\tremaining: 2m 9s\n",
      "300:\ttest: 0.7404462\tbest: 0.7404462 (299)\ttotal: 18.7s\tremaining: 1m 45s\n",
      "600:\ttest: 0.7409965\tbest: 0.7410023 (578)\ttotal: 38.3s\tremaining: 1m 28s\n",
      "900:\ttest: 0.7412444\tbest: 0.7412445 (898)\ttotal: 57.9s\tremaining: 1m 10s\n",
      "1200:\ttest: 0.7412244\tbest: 0.7412853 (919)\ttotal: 1m 18s\tremaining: 51.8s\n"
     ]
    },
    {
     "name": "stderr",
     "output_type": "stream",
     "text": [
      "[I 2025-02-24 14:00:31,301] Trial 6 finished with value: 0.7412853419371452 and parameters: {'iterations': 1997, 'depth': 5, 'learning_rate': 0.07985155992831598, 'l2_leaf_reg': 62.52181000710482}. Best is trial 6 with value: 0.7412853419371452.\n"
     ]
    },
    {
     "name": "stdout",
     "output_type": "stream",
     "text": [
      "Stopped by overfitting detector  (300 iterations wait)\n",
      "\n",
      "bestTest = 0.7412853419\n",
      "bestIteration = 919\n",
      "\n",
      "Shrink model to first 920 iterations.\n",
      "저장 완료\n",
      "0:\ttest: 0.7134429\tbest: 0.7134429 (0)\ttotal: 82.5ms\tremaining: 2m 38s\n",
      "300:\ttest: 0.7392607\tbest: 0.7400982 (150)\ttotal: 26.7s\tremaining: 2m 24s\n"
     ]
    },
    {
     "name": "stderr",
     "output_type": "stream",
     "text": [
      "[I 2025-02-24 14:01:12,416] Trial 7 finished with value: 0.7400982483761775 and parameters: {'iterations': 1927, 'depth': 7, 'learning_rate': 0.0941937211034094, 'l2_leaf_reg': 0.05654822767791934}. Best is trial 6 with value: 0.7412853419371452.\n"
     ]
    },
    {
     "name": "stdout",
     "output_type": "stream",
     "text": [
      "Stopped by overfitting detector  (300 iterations wait)\n",
      "\n",
      "bestTest = 0.7400982484\n",
      "bestIteration = 150\n",
      "\n",
      "Shrink model to first 151 iterations.\n",
      "0:\ttest: 0.7134616\tbest: 0.7134616 (0)\ttotal: 79.4ms\tremaining: 2m 31s\n",
      "300:\ttest: 0.7404744\tbest: 0.7404820 (283)\ttotal: 25.7s\tremaining: 2m 16s\n",
      "600:\ttest: 0.7404548\tbest: 0.7407875 (418)\ttotal: 53.1s\tremaining: 1m 55s\n"
     ]
    },
    {
     "name": "stderr",
     "output_type": "stream",
     "text": [
      "[I 2025-02-24 14:02:16,806] Trial 8 finished with value: 0.7407875023787336 and parameters: {'iterations': 1904, 'depth': 7, 'learning_rate': 0.05155602859187331, 'l2_leaf_reg': 1.299974533316308}. Best is trial 6 with value: 0.7412853419371452.\n"
     ]
    },
    {
     "name": "stdout",
     "output_type": "stream",
     "text": [
      "Stopped by overfitting detector  (300 iterations wait)\n",
      "\n",
      "bestTest = 0.7407875024\n",
      "bestIteration = 418\n",
      "\n",
      "Shrink model to first 419 iterations.\n",
      "0:\ttest: 0.7134613\tbest: 0.7134613 (0)\ttotal: 91.6ms\tremaining: 4m 1s\n",
      "300:\ttest: 0.7398433\tbest: 0.7398433 (300)\ttotal: 21.7s\tremaining: 2m 48s\n",
      "600:\ttest: 0.7405744\tbest: 0.7405861 (512)\ttotal: 44.6s\tremaining: 2m 31s\n",
      "900:\ttest: 0.7404720\tbest: 0.7406177 (607)\ttotal: 1m 7s\tremaining: 2m 11s\n"
     ]
    },
    {
     "name": "stderr",
     "output_type": "stream",
     "text": [
      "[I 2025-02-24 14:03:25,463] Trial 9 finished with value: 0.740617664595437 and parameters: {'iterations': 2639, 'depth': 6, 'learning_rate': 0.03968704290444751, 'l2_leaf_reg': 0.30557194377967184}. Best is trial 6 with value: 0.7412853419371452.\n"
     ]
    },
    {
     "name": "stdout",
     "output_type": "stream",
     "text": [
      "Stopped by overfitting detector  (300 iterations wait)\n",
      "\n",
      "bestTest = 0.7406176646\n",
      "bestIteration = 607\n",
      "\n",
      "Shrink model to first 608 iterations.\n",
      "0:\ttest: 0.7134624\tbest: 0.7134624 (0)\ttotal: 66.8ms\tremaining: 3m 16s\n",
      "300:\ttest: 0.7409675\tbest: 0.7409675 (300)\ttotal: 21.6s\tremaining: 3m 9s\n",
      "600:\ttest: 0.7415314\tbest: 0.7415314 (600)\ttotal: 45.4s\tremaining: 2m 56s\n",
      "900:\ttest: 0.7415703\tbest: 0.7416622 (806)\ttotal: 1m 9s\tremaining: 2m 37s\n"
     ]
    },
    {
     "name": "stderr",
     "output_type": "stream",
     "text": [
      "[I 2025-02-24 14:04:51,969] Trial 10 finished with value: 0.7416621592198902 and parameters: {'iterations': 2945, 'depth': 6, 'learning_rate': 0.07265276039199581, 'l2_leaf_reg': 97.18545559492516}. Best is trial 10 with value: 0.7416621592198902.\n"
     ]
    },
    {
     "name": "stdout",
     "output_type": "stream",
     "text": [
      "Stopped by overfitting detector  (300 iterations wait)\n",
      "\n",
      "bestTest = 0.7416621592\n",
      "bestIteration = 806\n",
      "\n",
      "Shrink model to first 807 iterations.\n",
      "저장 완료\n",
      "0:\ttest: 0.7134825\tbest: 0.7134825 (0)\ttotal: 75.4ms\tremaining: 3m 45s\n",
      "300:\ttest: 0.7408571\tbest: 0.7408588 (293)\ttotal: 22.7s\tremaining: 3m 23s\n",
      "600:\ttest: 0.7413295\tbest: 0.7413740 (568)\ttotal: 46.3s\tremaining: 3m 4s\n",
      "900:\ttest: 0.7413632\tbest: 0.7414602 (706)\ttotal: 1m 10s\tremaining: 2m 44s\n"
     ]
    },
    {
     "name": "stderr",
     "output_type": "stream",
     "text": [
      "[I 2025-02-24 14:06:11,755] Trial 11 finished with value: 0.7414601549791909 and parameters: {'iterations': 2994, 'depth': 6, 'learning_rate': 0.07131044509072976, 'l2_leaf_reg': 73.1213351392818}. Best is trial 10 with value: 0.7416621592198902.\n"
     ]
    },
    {
     "name": "stdout",
     "output_type": "stream",
     "text": [
      "Stopped by overfitting detector  (300 iterations wait)\n",
      "\n",
      "bestTest = 0.741460155\n",
      "bestIteration = 706\n",
      "\n",
      "Shrink model to first 707 iterations.\n",
      "0:\ttest: 0.7134530\tbest: 0.7134530 (0)\ttotal: 73.8ms\tremaining: 3m 33s\n",
      "300:\ttest: 0.7407748\tbest: 0.7407748 (300)\ttotal: 21.8s\tremaining: 3m 8s\n",
      "600:\ttest: 0.7414267\tbest: 0.7414277 (596)\ttotal: 43.4s\tremaining: 2m 45s\n",
      "900:\ttest: 0.7415425\tbest: 0.7415768 (875)\ttotal: 1m 6s\tremaining: 2m 26s\n",
      "1200:\ttest: 0.7415431\tbest: 0.7415951 (1011)\ttotal: 1m 30s\tremaining: 2m 8s\n"
     ]
    },
    {
     "name": "stderr",
     "output_type": "stream",
     "text": [
      "[I 2025-02-24 14:07:51,018] Trial 12 finished with value: 0.741595106391084 and parameters: {'iterations': 2897, 'depth': 6, 'learning_rate': 0.06853332055535903, 'l2_leaf_reg': 87.13438924619796}. Best is trial 10 with value: 0.7416621592198902.\n"
     ]
    },
    {
     "name": "stdout",
     "output_type": "stream",
     "text": [
      "Stopped by overfitting detector  (300 iterations wait)\n",
      "\n",
      "bestTest = 0.7415951064\n",
      "bestIteration = 1011\n",
      "\n",
      "Shrink model to first 1012 iterations.\n",
      "0:\ttest: 0.7206242\tbest: 0.7206242 (0)\ttotal: 97.9ms\tremaining: 4m 51s\n",
      "300:\ttest: 0.7404251\tbest: 0.7404489 (297)\ttotal: 29.5s\tremaining: 4m 21s\n",
      "600:\ttest: 0.7401363\tbest: 0.7405450 (314)\ttotal: 1m\tremaining: 4m\n"
     ]
    },
    {
     "name": "stderr",
     "output_type": "stream",
     "text": [
      "[I 2025-02-24 14:08:53,573] Trial 13 finished with value: 0.7405449535513735 and parameters: {'iterations': 2975, 'depth': 8, 'learning_rate': 0.0628933885949758, 'l2_leaf_reg': 7.828901342687942}. Best is trial 10 with value: 0.7416621592198902.\n"
     ]
    },
    {
     "name": "stdout",
     "output_type": "stream",
     "text": [
      "Stopped by overfitting detector  (300 iterations wait)\n",
      "\n",
      "bestTest = 0.7405449536\n",
      "bestIteration = 314\n",
      "\n",
      "Shrink model to first 315 iterations.\n",
      "0:\ttest: 0.7205435\tbest: 0.7205435 (0)\ttotal: 96.6ms\tremaining: 4m 26s\n",
      "300:\ttest: 0.7397304\tbest: 0.7397304 (300)\ttotal: 28s\tremaining: 3m 48s\n",
      "600:\ttest: 0.7400615\tbest: 0.7403441 (473)\ttotal: 58.1s\tremaining: 3m 28s\n"
     ]
    },
    {
     "name": "stderr",
     "output_type": "stream",
     "text": [
      "[I 2025-02-24 14:10:09,680] Trial 14 finished with value: 0.7403440809537256 and parameters: {'iterations': 2754, 'depth': 8, 'learning_rate': 0.030866060002221384, 'l2_leaf_reg': 0.02939703823210393}. Best is trial 10 with value: 0.7416621592198902.\n"
     ]
    },
    {
     "name": "stdout",
     "output_type": "stream",
     "text": [
      "Stopped by overfitting detector  (300 iterations wait)\n",
      "\n",
      "bestTest = 0.740344081\n",
      "bestIteration = 473\n",
      "\n",
      "Shrink model to first 474 iterations.\n",
      "0:\ttest: 0.7134791\tbest: 0.7134791 (0)\ttotal: 80.6ms\tremaining: 2m 1s\n",
      "300:\ttest: 0.7408126\tbest: 0.7408315 (292)\ttotal: 21.7s\tremaining: 1m 27s\n",
      "600:\ttest: 0.7406388\tbest: 0.7409152 (458)\ttotal: 44.1s\tremaining: 1m 6s\n"
     ]
    },
    {
     "name": "stderr",
     "output_type": "stream",
     "text": [
      "[I 2025-02-24 14:11:06,024] Trial 15 finished with value: 0.7409152033337426 and parameters: {'iterations': 1513, 'depth': 6, 'learning_rate': 0.08625378621185843, 'l2_leaf_reg': 9.663069382488304}. Best is trial 10 with value: 0.7416621592198902.\n"
     ]
    },
    {
     "name": "stdout",
     "output_type": "stream",
     "text": [
      "Stopped by overfitting detector  (300 iterations wait)\n",
      "\n",
      "bestTest = 0.7409152033\n",
      "bestIteration = 458\n",
      "\n",
      "Shrink model to first 459 iterations.\n",
      "0:\ttest: 0.7205957\tbest: 0.7205957 (0)\ttotal: 93.5ms\tremaining: 4m 23s\n",
      "300:\ttest: 0.7407983\tbest: 0.7408816 (229)\ttotal: 27.6s\tremaining: 3m 51s\n"
     ]
    },
    {
     "name": "stderr",
     "output_type": "stream",
     "text": [
      "[I 2025-02-24 14:11:56,747] Trial 16 finished with value: 0.7408815875790986 and parameters: {'iterations': 2824, 'depth': 8, 'learning_rate': 0.061662991475729484, 'l2_leaf_reg': 1.8341589839267998}. Best is trial 10 with value: 0.7416621592198902.\n"
     ]
    },
    {
     "name": "stdout",
     "output_type": "stream",
     "text": [
      "Stopped by overfitting detector  (300 iterations wait)\n",
      "\n",
      "bestTest = 0.7408815876\n",
      "bestIteration = 229\n",
      "\n",
      "Shrink model to first 230 iterations.\n",
      "0:\ttest: 0.6983380\tbest: 0.6983380 (0)\ttotal: 56.5ms\tremaining: 2m 23s\n",
      "300:\ttest: 0.7404704\tbest: 0.7404737 (299)\ttotal: 18.6s\tremaining: 2m 18s\n",
      "600:\ttest: 0.7409389\tbest: 0.7409860 (538)\ttotal: 38s\tremaining: 2m 2s\n",
      "900:\ttest: 0.7412060\tbest: 0.7412060 (900)\ttotal: 56.4s\tremaining: 1m 42s\n",
      "1200:\ttest: 0.7414498\tbest: 0.7414699 (1179)\ttotal: 1m 15s\tremaining: 1m 24s\n",
      "1500:\ttest: 0.7414726\tbest: 0.7415252 (1270)\ttotal: 1m 34s\tremaining: 1m 5s\n"
     ]
    },
    {
     "name": "stderr",
     "output_type": "stream",
     "text": [
      "[I 2025-02-24 14:13:35,569] Trial 17 finished with value: 0.7415252184986331 and parameters: {'iterations': 2546, 'depth': 5, 'learning_rate': 0.0774911016692127, 'l2_leaf_reg': 80.62911323694684}. Best is trial 10 with value: 0.7416621592198902.\n"
     ]
    },
    {
     "name": "stdout",
     "output_type": "stream",
     "text": [
      "Stopped by overfitting detector  (300 iterations wait)\n",
      "\n",
      "bestTest = 0.7415252185\n",
      "bestIteration = 1270\n",
      "\n",
      "Shrink model to first 1271 iterations.\n",
      "0:\ttest: 0.7134346\tbest: 0.7134346 (0)\ttotal: 139ms\tremaining: 6m 32s\n",
      "300:\ttest: 0.7407951\tbest: 0.7409765 (276)\ttotal: 24.2s\tremaining: 3m 21s\n"
     ]
    },
    {
     "name": "stderr",
     "output_type": "stream",
     "text": [
      "[I 2025-02-24 14:14:23,409] Trial 18 finished with value: 0.7409764788269704 and parameters: {'iterations': 2815, 'depth': 7, 'learning_rate': 0.05970016430294879, 'l2_leaf_reg': 0.010016909578442512}. Best is trial 10 with value: 0.7416621592198902.\n"
     ]
    },
    {
     "name": "stdout",
     "output_type": "stream",
     "text": [
      "Stopped by overfitting detector  (300 iterations wait)\n",
      "\n",
      "bestTest = 0.7409764788\n",
      "bestIteration = 276\n",
      "\n",
      "Shrink model to first 277 iterations.\n",
      "0:\ttest: 0.6982212\tbest: 0.6982212 (0)\ttotal: 52.9ms\tremaining: 2m 10s\n",
      "300:\ttest: 0.7392047\tbest: 0.7392047 (300)\ttotal: 16.8s\tremaining: 2m\n",
      "600:\ttest: 0.7406240\tbest: 0.7406801 (577)\ttotal: 34.4s\tremaining: 1m 46s\n",
      "900:\ttest: 0.7409208\tbest: 0.7409222 (899)\ttotal: 52.6s\tremaining: 1m 31s\n",
      "1200:\ttest: 0.7409873\tbest: 0.7410386 (1136)\ttotal: 1m 11s\tremaining: 1m 15s\n",
      "1500:\ttest: 0.7408445\tbest: 0.7410666 (1250)\ttotal: 1m 30s\tremaining: 57.9s\n"
     ]
    },
    {
     "name": "stderr",
     "output_type": "stream",
     "text": [
      "[I 2025-02-24 14:15:57,452] Trial 19 finished with value: 0.7410666012913167 and parameters: {'iterations': 2460, 'depth': 5, 'learning_rate': 0.032760769261710856, 'l2_leaf_reg': 0.31055845032241847}. Best is trial 10 with value: 0.7416621592198902.\n",
      "[I 2025-02-24 14:15:57,457] A new study created in memory with name: no-name-219a76e1-bcb1-4a78-9a6e-ec85b7f8e0c3\n"
     ]
    },
    {
     "name": "stdout",
     "output_type": "stream",
     "text": [
      "Stopped by overfitting detector  (300 iterations wait)\n",
      "\n",
      "bestTest = 0.7410666013\n",
      "bestIteration = 1250\n",
      "\n",
      "Shrink model to first 1251 iterations.\n"
     ]
    },
    {
     "name": "stderr",
     "output_type": "stream",
     "text": [
      "[I 2025-02-24 14:16:21,214] Trial 0 finished with value: 0.7306881599221124 and parameters: {'num_iterations': 2366, 'objective': 'binary', 'metric': 'auc', 'verbose': -1, 'learning_rate': 0.0652646236447618, 'n_estimators': 236, 'min_child_samples': 45, 'subsample': 0.7, 'colsample_bytree': 0.5}. Best is trial 0 with value: 0.7306881599221124.\n",
      "[I 2025-02-24 14:16:38,446] Trial 1 finished with value: 0.7407353237073684 and parameters: {'num_iterations': 1510, 'objective': 'binary', 'metric': 'auc', 'verbose': -1, 'learning_rate': 0.005231880959249543, 'n_estimators': 1411, 'min_child_samples': 10, 'subsample': 1.0, 'colsample_bytree': 0.5}. Best is trial 1 with value: 0.7407353237073684.\n",
      "[I 2025-02-24 14:16:58,208] Trial 2 finished with value: 0.7407260204102823 and parameters: {'num_iterations': 2334, 'objective': 'binary', 'metric': 'auc', 'verbose': -1, 'learning_rate': 0.006578527777128852, 'n_estimators': 931, 'min_child_samples': 15, 'subsample': 0.5, 'colsample_bytree': 1.0}. Best is trial 1 with value: 0.7407353237073684.\n",
      "[I 2025-02-24 14:17:15,171] Trial 3 finished with value: 0.740606630083016 and parameters: {'num_iterations': 1620, 'objective': 'binary', 'metric': 'auc', 'verbose': -1, 'learning_rate': 0.0058823249237283685, 'n_estimators': 837, 'min_child_samples': 10, 'subsample': 0.9, 'colsample_bytree': 0.6}. Best is trial 1 with value: 0.7407353237073684.\n",
      "[I 2025-02-24 14:17:31,786] Trial 4 finished with value: 0.7408531614997818 and parameters: {'num_iterations': 1997, 'objective': 'binary', 'metric': 'auc', 'verbose': -1, 'learning_rate': 0.010907507425244923, 'n_estimators': 1597, 'min_child_samples': 50, 'subsample': 0.6, 'colsample_bytree': 0.8}. Best is trial 4 with value: 0.7408531614997818.\n",
      "[I 2025-02-24 14:17:54,420] Trial 5 finished with value: 0.7375796000700395 and parameters: {'num_iterations': 2909, 'objective': 'binary', 'metric': 'auc', 'verbose': -1, 'learning_rate': 0.019760591962733942, 'n_estimators': 612, 'min_child_samples': 30, 'subsample': 0.7, 'colsample_bytree': 0.9}. Best is trial 4 with value: 0.7408531614997818.\n",
      "[I 2025-02-24 14:18:15,633] Trial 6 finished with value: 0.7385401903109134 and parameters: {'num_iterations': 2639, 'objective': 'binary', 'metric': 'auc', 'verbose': -1, 'learning_rate': 0.017862094446750985, 'n_estimators': 794, 'min_child_samples': 35, 'subsample': 1.0, 'colsample_bytree': 0.8}. Best is trial 4 with value: 0.7408531614997818.\n",
      "[I 2025-02-24 14:18:32,571] Trial 7 finished with value: 0.7401421839213154 and parameters: {'num_iterations': 1580, 'objective': 'binary', 'metric': 'auc', 'verbose': -1, 'learning_rate': 0.01776722177611332, 'n_estimators': 529, 'min_child_samples': 25, 'subsample': 0.8, 'colsample_bytree': 0.5}. Best is trial 4 with value: 0.7408531614997818.\n",
      "[I 2025-02-24 14:18:50,534] Trial 8 finished with value: 0.7372909834437922 and parameters: {'num_iterations': 1911, 'objective': 'binary', 'metric': 'auc', 'verbose': -1, 'learning_rate': 0.0304747553332844, 'n_estimators': 1328, 'min_child_samples': 10, 'subsample': 0.7, 'colsample_bytree': 0.6}. Best is trial 4 with value: 0.7408531614997818.\n",
      "[I 2025-02-24 14:19:18,411] Trial 9 finished with value: 0.7363576519030873 and parameters: {'num_iterations': 2739, 'objective': 'binary', 'metric': 'auc', 'verbose': -1, 'learning_rate': 0.02691531614176271, 'n_estimators': 1438, 'min_child_samples': 20, 'subsample': 0.6, 'colsample_bytree': 0.5}. Best is trial 4 with value: 0.7408531614997818.\n",
      "[I 2025-02-24 14:19:35,028] Trial 10 finished with value: 0.7409193526915979 and parameters: {'num_iterations': 2005, 'objective': 'binary', 'metric': 'auc', 'verbose': -1, 'learning_rate': 0.010657060501116528, 'n_estimators': 1971, 'min_child_samples': 50, 'subsample': 0.5, 'colsample_bytree': 0.8}. Best is trial 10 with value: 0.7409193526915979.\n",
      "[I 2025-02-24 14:19:51,614] Trial 11 finished with value: 0.7408465662046643 and parameters: {'num_iterations': 2009, 'objective': 'binary', 'metric': 'auc', 'verbose': -1, 'learning_rate': 0.010761246945778813, 'n_estimators': 1865, 'min_child_samples': 50, 'subsample': 0.5, 'colsample_bytree': 0.8}. Best is trial 10 with value: 0.7409193526915979.\n",
      "[I 2025-02-24 14:20:08,339] Trial 12 finished with value: 0.7406710662354331 and parameters: {'num_iterations': 1985, 'objective': 'binary', 'metric': 'auc', 'verbose': -1, 'learning_rate': 0.010890856607645171, 'n_estimators': 1958, 'min_child_samples': 40, 'subsample': 0.6, 'colsample_bytree': 0.7}. Best is trial 10 with value: 0.7409193526915979.\n",
      "[I 2025-02-24 14:20:26,276] Trial 13 finished with value: 0.7409006785959104 and parameters: {'num_iterations': 2139, 'objective': 'binary', 'metric': 'auc', 'verbose': -1, 'learning_rate': 0.008745907775880014, 'n_estimators': 1698, 'min_child_samples': 50, 'subsample': 0.6, 'colsample_bytree': 0.9}. Best is trial 10 with value: 0.7409193526915979.\n",
      "[I 2025-02-24 14:20:44,630] Trial 14 finished with value: 0.7414055263998863 and parameters: {'num_iterations': 2197, 'objective': 'binary', 'metric': 'auc', 'verbose': -1, 'learning_rate': 0.008219417428544935, 'n_estimators': 1729, 'min_child_samples': 40, 'subsample': 0.5, 'colsample_bytree': 1.0}. Best is trial 14 with value: 0.7414055263998863.\n",
      "[I 2025-02-24 14:20:58,303] Trial 15 finished with value: 0.7362202585246095 and parameters: {'num_iterations': 1758, 'objective': 'binary', 'metric': 'auc', 'verbose': -1, 'learning_rate': 0.03855022963081613, 'n_estimators': 1174, 'min_child_samples': 40, 'subsample': 0.5, 'colsample_bytree': 1.0}. Best is trial 14 with value: 0.7414055263998863.\n",
      "[I 2025-02-24 14:21:18,169] Trial 16 finished with value: 0.7396199405797661 and parameters: {'num_iterations': 2490, 'objective': 'binary', 'metric': 'auc', 'verbose': -1, 'learning_rate': 0.013940671430787642, 'n_estimators': 1742, 'min_child_samples': 40, 'subsample': 0.5, 'colsample_bytree': 0.9}. Best is trial 14 with value: 0.7414055263998863.\n",
      "[I 2025-02-24 14:21:36,604] Trial 17 finished with value: 0.7414799289525109 and parameters: {'num_iterations': 2213, 'objective': 'binary', 'metric': 'auc', 'verbose': -1, 'learning_rate': 0.00766137723210088, 'n_estimators': 1979, 'min_child_samples': 45, 'subsample': 0.8, 'colsample_bytree': 1.0}. Best is trial 17 with value: 0.7414799289525109.\n",
      "[I 2025-02-24 14:21:55,654] Trial 18 finished with value: 0.7412324763385946 and parameters: {'num_iterations': 2230, 'objective': 'binary', 'metric': 'auc', 'verbose': -1, 'learning_rate': 0.007635311227730354, 'n_estimators': 1592, 'min_child_samples': 35, 'subsample': 0.8, 'colsample_bytree': 1.0}. Best is trial 17 with value: 0.7414799289525109.\n",
      "[I 2025-02-24 14:22:14,601] Trial 19 finished with value: 0.7308645096163016 and parameters: {'num_iterations': 2510, 'objective': 'binary', 'metric': 'auc', 'verbose': -1, 'learning_rate': 0.05224638370707414, 'n_estimators': 1189, 'min_child_samples': 45, 'subsample': 0.9, 'colsample_bytree': 1.0}. Best is trial 17 with value: 0.7414799289525109.\n",
      "[I 2025-02-24 14:22:30,706] Trial 20 finished with value: 0.7274298657468714 and parameters: {'num_iterations': 2147, 'objective': 'binary', 'metric': 'auc', 'verbose': -1, 'learning_rate': 0.08565353572591693, 'n_estimators': 1764, 'min_child_samples': 30, 'subsample': 0.9, 'colsample_bytree': 0.9}. Best is trial 17 with value: 0.7414799289525109.\n",
      "[I 2025-02-24 14:22:49,363] Trial 21 finished with value: 0.741237074382993 and parameters: {'num_iterations': 2225, 'objective': 'binary', 'metric': 'auc', 'verbose': -1, 'learning_rate': 0.0076688483932492064, 'n_estimators': 1567, 'min_child_samples': 35, 'subsample': 0.8, 'colsample_bytree': 1.0}. Best is trial 17 with value: 0.7414799289525109.\n",
      "[I 2025-02-24 14:23:10,180] Trial 22 finished with value: 0.7411083291398348 and parameters: {'num_iterations': 2386, 'objective': 'binary', 'metric': 'auc', 'verbose': -1, 'learning_rate': 0.005006769175320071, 'n_estimators': 1539, 'min_child_samples': 35, 'subsample': 0.8, 'colsample_bytree': 1.0}. Best is trial 17 with value: 0.7414799289525109.\n",
      "[I 2025-02-24 14:23:29,240] Trial 23 finished with value: 0.7412233953994414 and parameters: {'num_iterations': 2205, 'objective': 'binary', 'metric': 'auc', 'verbose': -1, 'learning_rate': 0.008160860787331187, 'n_estimators': 1800, 'min_child_samples': 45, 'subsample': 0.8, 'colsample_bytree': 0.9}. Best is trial 17 with value: 0.7414799289525109.\n",
      "[I 2025-02-24 14:23:44,328] Trial 24 finished with value: 0.7405231267378514 and parameters: {'num_iterations': 1822, 'objective': 'binary', 'metric': 'auc', 'verbose': -1, 'learning_rate': 0.014521247759755022, 'n_estimators': 2000, 'min_child_samples': 40, 'subsample': 0.9, 'colsample_bytree': 1.0}. Best is trial 17 with value: 0.7414799289525109.\n",
      "[I 2025-02-24 14:24:04,071] Trial 25 finished with value: 0.739450055148341 and parameters: {'num_iterations': 2456, 'objective': 'binary', 'metric': 'auc', 'verbose': -1, 'learning_rate': 0.013878762989680476, 'n_estimators': 1249, 'min_child_samples': 30, 'subsample': 0.7, 'colsample_bytree': 0.9}. Best is trial 17 with value: 0.7414799289525109.\n",
      "[I 2025-02-24 14:24:21,638] Trial 26 finished with value: 0.7412894515882269 and parameters: {'num_iterations': 2086, 'objective': 'binary', 'metric': 'auc', 'verbose': -1, 'learning_rate': 0.0070319925342010176, 'n_estimators': 1645, 'min_child_samples': 45, 'subsample': 0.8, 'colsample_bytree': 1.0}. Best is trial 17 with value: 0.7414799289525109.\n",
      "[I 2025-02-24 14:24:39,942] Trial 27 finished with value: 0.7410288163254305 and parameters: {'num_iterations': 2093, 'objective': 'binary', 'metric': 'auc', 'verbose': -1, 'learning_rate': 0.0065176432684568245, 'n_estimators': 1871, 'min_child_samples': 45, 'subsample': 0.7, 'colsample_bytree': 0.7}. Best is trial 17 with value: 0.7414799289525109.\n",
      "[I 2025-02-24 14:24:55,154] Trial 28 finished with value: 0.7413161702762732 and parameters: {'num_iterations': 1802, 'objective': 'binary', 'metric': 'auc', 'verbose': -1, 'learning_rate': 0.008852667065915495, 'n_estimators': 1691, 'min_child_samples': 45, 'subsample': 0.9, 'colsample_bytree': 1.0}. Best is trial 17 with value: 0.7414799289525109.\n",
      "[I 2025-02-24 14:25:10,530] Trial 29 finished with value: 0.7410741733730679 and parameters: {'num_iterations': 1814, 'objective': 'binary', 'metric': 'auc', 'verbose': -1, 'learning_rate': 0.009412539464168429, 'n_estimators': 315, 'min_child_samples': 45, 'subsample': 1.0, 'colsample_bytree': 0.9}. Best is trial 17 with value: 0.7414799289525109.\n",
      "[I 2025-02-24 14:25:24,845] Trial 30 finished with value: 0.7409026917293388 and parameters: {'num_iterations': 1701, 'objective': 'binary', 'metric': 'auc', 'verbose': -1, 'learning_rate': 0.013135683404020793, 'n_estimators': 104, 'min_child_samples': 40, 'subsample': 0.9, 'colsample_bytree': 1.0}. Best is trial 17 with value: 0.7414799289525109.\n",
      "[I 2025-02-24 14:25:44,616] Trial 31 finished with value: 0.7412127261893388 and parameters: {'num_iterations': 2335, 'objective': 'binary', 'metric': 'auc', 'verbose': -1, 'learning_rate': 0.006728269747225125, 'n_estimators': 1663, 'min_child_samples': 45, 'subsample': 0.8, 'colsample_bytree': 1.0}. Best is trial 17 with value: 0.7414799289525109.\n",
      "[I 2025-02-24 14:26:02,858] Trial 32 finished with value: 0.7412401595993122 and parameters: {'num_iterations': 2098, 'objective': 'binary', 'metric': 'auc', 'verbose': -1, 'learning_rate': 0.005321970200545422, 'n_estimators': 1397, 'min_child_samples': 50, 'subsample': 0.9, 'colsample_bytree': 1.0}. Best is trial 17 with value: 0.7414799289525109.\n",
      "[I 2025-02-24 14:26:19,122] Trial 33 finished with value: 0.7410171266512429 and parameters: {'num_iterations': 1877, 'objective': 'binary', 'metric': 'auc', 'verbose': -1, 'learning_rate': 0.006964616495294459, 'n_estimators': 1038, 'min_child_samples': 40, 'subsample': 0.8, 'colsample_bytree': 0.9}. Best is trial 17 with value: 0.7414799289525109.\n",
      "[I 2025-02-24 14:26:38,746] Trial 34 finished with value: 0.7410451437507903 and parameters: {'num_iterations': 2341, 'objective': 'binary', 'metric': 'auc', 'verbose': -1, 'learning_rate': 0.009199028433471715, 'n_estimators': 1464, 'min_child_samples': 45, 'subsample': 0.9, 'colsample_bytree': 1.0}. Best is trial 17 with value: 0.7414799289525109.\n",
      "[I 2025-02-24 14:26:53,744] Trial 35 finished with value: 0.7408717085337934 and parameters: {'num_iterations': 1684, 'objective': 'binary', 'metric': 'auc', 'verbose': -1, 'learning_rate': 0.005683129445182813, 'n_estimators': 1880, 'min_child_samples': 50, 'subsample': 0.7, 'colsample_bytree': 1.0}. Best is trial 17 with value: 0.7414799289525109.\n",
      "[I 2025-02-24 14:27:07,242] Trial 36 finished with value: 0.740713334096074 and parameters: {'num_iterations': 1509, 'objective': 'binary', 'metric': 'auc', 'verbose': -1, 'learning_rate': 0.006179728712470145, 'n_estimators': 1675, 'min_child_samples': 45, 'subsample': 1.0, 'colsample_bytree': 0.9}. Best is trial 17 with value: 0.7414799289525109.\n",
      "[I 2025-02-24 14:27:28,294] Trial 37 finished with value: 0.7408128075056348 and parameters: {'num_iterations': 2593, 'objective': 'binary', 'metric': 'auc', 'verbose': -1, 'learning_rate': 0.009292557614786168, 'n_estimators': 1814, 'min_child_samples': 40, 'subsample': 0.8, 'colsample_bytree': 1.0}. Best is trial 17 with value: 0.7414799289525109.\n",
      "[I 2025-02-24 14:27:45,003] Trial 38 finished with value: 0.7406517250659468 and parameters: {'num_iterations': 2055, 'objective': 'binary', 'metric': 'auc', 'verbose': -1, 'learning_rate': 0.012091915491935255, 'n_estimators': 1635, 'min_child_samples': 35, 'subsample': 0.9, 'colsample_bytree': 0.8}. Best is trial 17 with value: 0.7414799289525109.\n",
      "[I 2025-02-24 14:28:00,367] Trial 39 finished with value: 0.7393272540092108 and parameters: {'num_iterations': 1935, 'objective': 'binary', 'metric': 'auc', 'verbose': -1, 'learning_rate': 0.018404338022012627, 'n_estimators': 1900, 'min_child_samples': 25, 'subsample': 1.0, 'colsample_bytree': 0.9}. Best is trial 17 with value: 0.7414799289525109.\n"
     ]
    },
    {
     "name": "stdout",
     "output_type": "stream",
     "text": [
      "Cat val score : 0.7416621592198902\n",
      "LGBM val score : 0.7412960945314726\n",
      "Ensemble val score : 0.7419945525641805\n"
     ]
    },
    {
     "name": "stderr",
     "output_type": "stream",
     "text": [
      "[I 2025-02-24 14:28:20,331] A new study created in memory with name: no-name-92c37ccb-8ef3-4cf3-a5c0-c6c212dbfa61\n"
     ]
    },
    {
     "name": "stdout",
     "output_type": "stream",
     "text": [
      "==================================================\n",
      "0:\ttest: 0.7193883\tbest: 0.7193883 (0)\ttotal: 167ms\tremaining: 6m 33s\n",
      "300:\ttest: 0.7332065\tbest: 0.7332065 (300)\ttotal: 40s\tremaining: 4m 34s\n",
      "600:\ttest: 0.7345612\tbest: 0.7345612 (600)\ttotal: 1m 22s\tremaining: 4m 1s\n",
      "900:\ttest: 0.7348685\tbest: 0.7348685 (900)\ttotal: 2m 6s\tremaining: 3m 25s\n",
      "1200:\ttest: 0.7350645\tbest: 0.7350728 (1195)\ttotal: 2m 51s\tremaining: 2m 46s\n",
      "1500:\ttest: 0.7351199\tbest: 0.7351709 (1278)\ttotal: 3m 42s\tremaining: 2m 8s\n",
      "1800:\ttest: 0.7350673\tbest: 0.7351789 (1585)\ttotal: 4m 34s\tremaining: 1m 26s\n"
     ]
    },
    {
     "name": "stderr",
     "output_type": "stream",
     "text": [
      "[I 2025-02-24 14:33:10,379] Trial 0 finished with value: 0.7351789162744091 and parameters: {'iterations': 2366, 'depth': 10, 'learning_rate': 0.01181021951839225, 'l2_leaf_reg': 9.980783802743254}. Best is trial 0 with value: 0.7351789162744091.\n"
     ]
    },
    {
     "name": "stdout",
     "output_type": "stream",
     "text": [
      "Stopped by overfitting detector  (300 iterations wait)\n",
      "\n",
      "bestTest = 0.7351789163\n",
      "bestIteration = 1585\n",
      "\n",
      "Shrink model to first 1586 iterations.\n",
      "저장 완료\n",
      "0:\ttest: 0.6861565\tbest: 0.6861565 (0)\ttotal: 60ms\tremaining: 2m 11s\n"
     ]
    },
    {
     "name": "stderr",
     "output_type": "stream",
     "text": [
      "Training has stopped (degenerate solution on iteration 253, probably too small l2-regularization, try to increase it)\n",
      "[I 2025-02-24 14:33:22,191] Trial 1 finished with value: 0.7225520663404046 and parameters: {'iterations': 2193, 'depth': 4, 'learning_rate': 0.005671430811678843, 'l2_leaf_reg': 0.00012325230809466137}. Best is trial 0 with value: 0.7351789162744091.\n"
     ]
    },
    {
     "name": "stdout",
     "output_type": "stream",
     "text": [
      "\n",
      "bestTest = 0.7225520663\n",
      "bestIteration = 252\n",
      "\n",
      "Shrink model to first 253 iterations.\n",
      "0:\ttest: 0.6861565\tbest: 0.6861565 (0)\ttotal: 102ms\tremaining: 4m 17s\n",
      "300:\ttest: 0.7342754\tbest: 0.7343053 (245)\ttotal: 15.5s\tremaining: 1m 55s\n",
      "600:\ttest: 0.7344492\tbest: 0.7347739 (492)\ttotal: 31.7s\tremaining: 1m 42s\n"
     ]
    },
    {
     "name": "stderr",
     "output_type": "stream",
     "text": [
      "[I 2025-02-24 14:34:04,325] Trial 2 finished with value: 0.7347738698488309 and parameters: {'iterations': 2535, 'depth': 4, 'learning_rate': 0.09275339199839054, 'l2_leaf_reg': 0.0008705394248343123}. Best is trial 0 with value: 0.7351789162744091.\n"
     ]
    },
    {
     "name": "stdout",
     "output_type": "stream",
     "text": [
      "Stopped by overfitting detector  (300 iterations wait)\n",
      "\n",
      "bestTest = 0.7347738698\n",
      "bestIteration = 492\n",
      "\n",
      "Shrink model to first 493 iterations.\n",
      "0:\ttest: 0.6861565\tbest: 0.6861565 (0)\ttotal: 54.5ms\tremaining: 2m 7s\n",
      "300:\ttest: 0.7337105\tbest: 0.7337105 (300)\ttotal: 14.5s\tremaining: 1m 37s\n",
      "600:\ttest: 0.7346337\tbest: 0.7346415 (573)\ttotal: 29.7s\tremaining: 1m 25s\n",
      "900:\ttest: 0.7345432\tbest: 0.7347712 (679)\ttotal: 45.2s\tremaining: 1m 11s\n"
     ]
    },
    {
     "name": "stderr",
     "output_type": "stream",
     "text": [
      "[I 2025-02-24 14:34:53,909] Trial 3 finished with value: 0.7347712488060157 and parameters: {'iterations': 2334, 'depth': 4, 'learning_rate': 0.04657568321363276, 'l2_leaf_reg': 0.0008640473331457248}. Best is trial 0 with value: 0.7351789162744091.\n"
     ]
    },
    {
     "name": "stdout",
     "output_type": "stream",
     "text": [
      "Stopped by overfitting detector  (300 iterations wait)\n",
      "\n",
      "bestTest = 0.7347712488\n",
      "bestIteration = 679\n",
      "\n",
      "Shrink model to first 680 iterations.\n",
      "0:\ttest: 0.7192503\tbest: 0.7192503 (0)\ttotal: 135ms\tremaining: 3m 54s\n",
      "300:\ttest: 0.7324975\tbest: 0.7324975 (300)\ttotal: 39.3s\tremaining: 3m 8s\n",
      "600:\ttest: 0.7334226\tbest: 0.7334226 (600)\ttotal: 1m 21s\tremaining: 2m 34s\n",
      "900:\ttest: 0.7335431\tbest: 0.7336019 (849)\ttotal: 2m 1s\tremaining: 1m 53s\n"
     ]
    },
    {
     "name": "stderr",
     "output_type": "stream",
     "text": [
      "[I 2025-02-24 14:37:32,696] Trial 4 finished with value: 0.7336018506976811 and parameters: {'iterations': 1742, 'depth': 10, 'learning_rate': 0.012622767482095846, 'l2_leaf_reg': 0.00021158816350109617}. Best is trial 0 with value: 0.7351789162744091.\n"
     ]
    },
    {
     "name": "stdout",
     "output_type": "stream",
     "text": [
      "Stopped by overfitting detector  (300 iterations wait)\n",
      "\n",
      "bestTest = 0.7336018507\n",
      "bestIteration = 849\n",
      "\n",
      "Shrink model to first 850 iterations.\n",
      "0:\ttest: 0.6861565\tbest: 0.6861565 (0)\ttotal: 60ms\tremaining: 2m 4s\n",
      "300:\ttest: 0.7343414\tbest: 0.7343507 (299)\ttotal: 14.8s\tremaining: 1m 27s\n",
      "600:\ttest: 0.7346225\tbest: 0.7346844 (400)\ttotal: 30.4s\tremaining: 1m 14s\n"
     ]
    },
    {
     "name": "stderr",
     "output_type": "stream",
     "text": [
      "[I 2025-02-24 14:38:08,562] Trial 5 finished with value: 0.7346843532941417 and parameters: {'iterations': 2082, 'depth': 4, 'learning_rate': 0.06995196593094148, 'l2_leaf_reg': 0.0018080296485396804}. Best is trial 0 with value: 0.7351789162744091.\n"
     ]
    },
    {
     "name": "stdout",
     "output_type": "stream",
     "text": [
      "Stopped by overfitting detector  (300 iterations wait)\n",
      "\n",
      "bestTest = 0.7346843533\n",
      "bestIteration = 400\n",
      "\n",
      "Shrink model to first 401 iterations.\n",
      "0:\ttest: 0.6924955\tbest: 0.6924955 (0)\ttotal: 68.5ms\tremaining: 2m 16s\n",
      "300:\ttest: 0.7345623\tbest: 0.7345623 (300)\ttotal: 18.5s\tremaining: 1m 44s\n",
      "600:\ttest: 0.7348370\tbest: 0.7349150 (541)\ttotal: 37.2s\tremaining: 1m 26s\n",
      "900:\ttest: 0.7348871\tbest: 0.7349350 (710)\ttotal: 56.4s\tremaining: 1m 8s\n",
      "1200:\ttest: 0.7348992\tbest: 0.7349498 (925)\ttotal: 1m 15s\tremaining: 50.1s\n"
     ]
    },
    {
     "name": "stderr",
     "output_type": "stream",
     "text": [
      "[I 2025-02-24 14:39:26,005] Trial 6 finished with value: 0.7349498212472627 and parameters: {'iterations': 1997, 'depth': 5, 'learning_rate': 0.07985155992831598, 'l2_leaf_reg': 62.52181000710482}. Best is trial 0 with value: 0.7351789162744091.\n"
     ]
    },
    {
     "name": "stdout",
     "output_type": "stream",
     "text": [
      "Stopped by overfitting detector  (300 iterations wait)\n",
      "\n",
      "bestTest = 0.7349498212\n",
      "bestIteration = 925\n",
      "\n",
      "Shrink model to first 926 iterations.\n",
      "0:\ttest: 0.6988223\tbest: 0.6988223 (0)\ttotal: 102ms\tremaining: 3m 15s\n",
      "300:\ttest: 0.7345187\tbest: 0.7345303 (190)\ttotal: 25.7s\tremaining: 2m 18s\n",
      "600:\ttest: 0.7340807\tbest: 0.7347795 (410)\ttotal: 52.4s\tremaining: 1m 55s\n"
     ]
    },
    {
     "name": "stderr",
     "output_type": "stream",
     "text": [
      "[I 2025-02-24 14:40:28,594] Trial 7 finished with value: 0.7347795289185453 and parameters: {'iterations': 1927, 'depth': 7, 'learning_rate': 0.0941937211034094, 'l2_leaf_reg': 0.05654822767791934}. Best is trial 0 with value: 0.7351789162744091.\n"
     ]
    },
    {
     "name": "stdout",
     "output_type": "stream",
     "text": [
      "Stopped by overfitting detector  (300 iterations wait)\n",
      "\n",
      "bestTest = 0.7347795289\n",
      "bestIteration = 410\n",
      "\n",
      "Shrink model to first 411 iterations.\n",
      "0:\ttest: 0.6988219\tbest: 0.6988219 (0)\ttotal: 95.1ms\tremaining: 3m 1s\n",
      "300:\ttest: 0.7347938\tbest: 0.7348238 (299)\ttotal: 23.9s\tremaining: 2m 7s\n",
      "600:\ttest: 0.7346443\tbest: 0.7349044 (370)\ttotal: 49.6s\tremaining: 1m 47s\n"
     ]
    },
    {
     "name": "stderr",
     "output_type": "stream",
     "text": [
      "[I 2025-02-24 14:41:24,414] Trial 8 finished with value: 0.7349044494076229 and parameters: {'iterations': 1904, 'depth': 7, 'learning_rate': 0.05155602859187331, 'l2_leaf_reg': 1.299974533316308}. Best is trial 0 with value: 0.7351789162744091.\n"
     ]
    },
    {
     "name": "stdout",
     "output_type": "stream",
     "text": [
      "Stopped by overfitting detector  (300 iterations wait)\n",
      "\n",
      "bestTest = 0.7349044494\n",
      "bestIteration = 370\n",
      "\n",
      "Shrink model to first 371 iterations.\n",
      "0:\ttest: 0.6990035\tbest: 0.6990035 (0)\ttotal: 73.1ms\tremaining: 3m 12s\n",
      "300:\ttest: 0.7344531\tbest: 0.7344531 (300)\ttotal: 20.2s\tremaining: 2m 36s\n",
      "600:\ttest: 0.7351384\tbest: 0.7351775 (589)\ttotal: 42.9s\tremaining: 2m 25s\n",
      "900:\ttest: 0.7349284\tbest: 0.7351988 (608)\ttotal: 1m 5s\tremaining: 2m 6s\n"
     ]
    },
    {
     "name": "stderr",
     "output_type": "stream",
     "text": [
      "[I 2025-02-24 14:42:30,953] Trial 9 finished with value: 0.7351988203146957 and parameters: {'iterations': 2639, 'depth': 6, 'learning_rate': 0.03968704290444751, 'l2_leaf_reg': 0.30557194377967184}. Best is trial 9 with value: 0.7351988203146957.\n"
     ]
    },
    {
     "name": "stdout",
     "output_type": "stream",
     "text": [
      "Stopped by overfitting detector  (300 iterations wait)\n",
      "\n",
      "bestTest = 0.7351988203\n",
      "bestIteration = 608\n",
      "\n",
      "Shrink model to first 609 iterations.\n",
      "저장 완료\n",
      "0:\ttest: 0.6990035\tbest: 0.6990035 (0)\ttotal: 78ms\tremaining: 3m 49s\n",
      "300:\ttest: 0.7340330\tbest: 0.7340356 (298)\ttotal: 20.1s\tremaining: 2m 56s\n",
      "600:\ttest: 0.7352252\tbest: 0.7352411 (580)\ttotal: 42.1s\tremaining: 2m 44s\n",
      "900:\ttest: 0.7352597\tbest: 0.7352891 (829)\ttotal: 1m 4s\tremaining: 2m 26s\n"
     ]
    },
    {
     "name": "stderr",
     "output_type": "stream",
     "text": [
      "[I 2025-02-24 14:43:53,313] Trial 10 finished with value: 0.7352890914120134 and parameters: {'iterations': 2945, 'depth': 6, 'learning_rate': 0.032580115422505045, 'l2_leaf_reg': 0.05588195113566891}. Best is trial 10 with value: 0.7352890914120134.\n"
     ]
    },
    {
     "name": "stdout",
     "output_type": "stream",
     "text": [
      "Stopped by overfitting detector  (300 iterations wait)\n",
      "\n",
      "bestTest = 0.7352890914\n",
      "bestIteration = 829\n",
      "\n",
      "Shrink model to first 830 iterations.\n",
      "저장 완료\n",
      "0:\ttest: 0.6990035\tbest: 0.6990035 (0)\ttotal: 78.7ms\tremaining: 3m 55s\n",
      "300:\ttest: 0.7342223\tbest: 0.7342223 (299)\ttotal: 20.1s\tremaining: 3m\n",
      "600:\ttest: 0.7353708\tbest: 0.7353708 (600)\ttotal: 42.8s\tremaining: 2m 50s\n",
      "900:\ttest: 0.7353629\tbest: 0.7354834 (798)\ttotal: 1m 5s\tremaining: 2m 33s\n"
     ]
    },
    {
     "name": "stderr",
     "output_type": "stream",
     "text": [
      "[I 2025-02-24 14:45:14,484] Trial 11 finished with value: 0.7354834496793059 and parameters: {'iterations': 2996, 'depth': 6, 'learning_rate': 0.03250520130108762, 'l2_leaf_reg': 0.07022360666999101}. Best is trial 11 with value: 0.7354834496793059.\n"
     ]
    },
    {
     "name": "stdout",
     "output_type": "stream",
     "text": [
      "Stopped by overfitting detector  (300 iterations wait)\n",
      "\n",
      "bestTest = 0.7354834497\n",
      "bestIteration = 798\n",
      "\n",
      "Shrink model to first 799 iterations.\n",
      "저장 완료\n",
      "0:\ttest: 0.6990035\tbest: 0.6990035 (0)\ttotal: 80.6ms\tremaining: 3m 53s\n",
      "300:\ttest: 0.7340036\tbest: 0.7340036 (300)\ttotal: 20.8s\tremaining: 2m 59s\n",
      "600:\ttest: 0.7347676\tbest: 0.7348080 (562)\ttotal: 43s\tremaining: 2m 44s\n",
      "900:\ttest: 0.7348130\tbest: 0.7349403 (759)\ttotal: 1m 5s\tremaining: 2m 25s\n",
      "1200:\ttest: 0.7348043\tbest: 0.7349633 (1030)\ttotal: 1m 28s\tremaining: 2m 5s\n"
     ]
    },
    {
     "name": "stderr",
     "output_type": "stream",
     "text": [
      "[I 2025-02-24 14:46:53,379] Trial 12 finished with value: 0.7349632997613755 and parameters: {'iterations': 2897, 'depth': 6, 'learning_rate': 0.029212148274896942, 'l2_leaf_reg': 0.021674649724666952}. Best is trial 11 with value: 0.7354834496793059.\n"
     ]
    },
    {
     "name": "stdout",
     "output_type": "stream",
     "text": [
      "Stopped by overfitting detector  (300 iterations wait)\n",
      "\n",
      "bestTest = 0.7349632998\n",
      "bestIteration = 1030\n",
      "\n",
      "Shrink model to first 1031 iterations.\n",
      "0:\ttest: 0.7094528\tbest: 0.7094528 (0)\ttotal: 100ms\tremaining: 4m 57s\n",
      "300:\ttest: 0.7345195\tbest: 0.7345239 (298)\ttotal: 26.1s\tremaining: 3m 51s\n",
      "600:\ttest: 0.7346216\tbest: 0.7349209 (424)\ttotal: 55.4s\tremaining: 3m 38s\n"
     ]
    },
    {
     "name": "stderr",
     "output_type": "stream",
     "text": [
      "[I 2025-02-24 14:48:01,585] Trial 13 finished with value: 0.734920894465649 and parameters: {'iterations': 2975, 'depth': 8, 'learning_rate': 0.028817190324280706, 'l2_leaf_reg': 0.02360051290207824}. Best is trial 11 with value: 0.7354834496793059.\n"
     ]
    },
    {
     "name": "stdout",
     "output_type": "stream",
     "text": [
      "Stopped by overfitting detector  (300 iterations wait)\n",
      "\n",
      "bestTest = 0.7349208945\n",
      "bestIteration = 424\n",
      "\n",
      "Shrink model to first 425 iterations.\n",
      "0:\ttest: 0.7094525\tbest: 0.7094525 (0)\ttotal: 102ms\tremaining: 4m 40s\n",
      "300:\ttest: 0.7344409\tbest: 0.7344409 (300)\ttotal: 26.2s\tremaining: 3m 33s\n",
      "600:\ttest: 0.7350493\tbest: 0.7351188 (562)\ttotal: 55.5s\tremaining: 3m 18s\n"
     ]
    },
    {
     "name": "stderr",
     "output_type": "stream",
     "text": [
      "[I 2025-02-24 14:49:24,603] Trial 14 finished with value: 0.7351188427673427 and parameters: {'iterations': 2754, 'depth': 8, 'learning_rate': 0.029128395358770272, 'l2_leaf_reg': 0.4972916808888326}. Best is trial 11 with value: 0.7354834496793059.\n"
     ]
    },
    {
     "name": "stdout",
     "output_type": "stream",
     "text": [
      "Stopped by overfitting detector  (300 iterations wait)\n",
      "\n",
      "bestTest = 0.7351188428\n",
      "bestIteration = 562\n",
      "\n",
      "Shrink model to first 563 iterations.\n",
      "0:\ttest: 0.6990036\tbest: 0.6990036 (0)\ttotal: 82.8ms\tremaining: 2m 5s\n",
      "300:\ttest: 0.7350007\tbest: 0.7351440 (261)\ttotal: 21.8s\tremaining: 1m 27s\n"
     ]
    },
    {
     "name": "stderr",
     "output_type": "stream",
     "text": [
      "[I 2025-02-24 14:50:06,347] Trial 15 finished with value: 0.7351439928645366 and parameters: {'iterations': 1513, 'depth': 6, 'learning_rate': 0.06488034830683886, 'l2_leaf_reg': 0.004468246660190198}. Best is trial 11 with value: 0.7354834496793059.\n"
     ]
    },
    {
     "name": "stdout",
     "output_type": "stream",
     "text": [
      "Stopped by overfitting detector  (300 iterations wait)\n",
      "\n",
      "bestTest = 0.7351439929\n",
      "bestIteration = 261\n",
      "\n",
      "Shrink model to first 262 iterations.\n",
      "0:\ttest: 0.7094498\tbest: 0.7094498 (0)\ttotal: 110ms\tremaining: 5m 6s\n",
      "300:\ttest: 0.7347150\tbest: 0.7347179 (298)\ttotal: 27s\tremaining: 3m 43s\n",
      "600:\ttest: 0.7352867\tbest: 0.7353052 (577)\ttotal: 55.5s\tremaining: 3m 21s\n",
      "900:\ttest: 0.7350114\tbest: 0.7353266 (620)\ttotal: 1m 24s\tremaining: 2m 57s\n"
     ]
    },
    {
     "name": "stderr",
     "output_type": "stream",
     "text": [
      "[I 2025-02-24 14:51:33,147] Trial 16 finished with value: 0.7353265961519311 and parameters: {'iterations': 2789, 'depth': 8, 'learning_rate': 0.03800764513988635, 'l2_leaf_reg': 2.313771052051698}. Best is trial 11 with value: 0.7354834496793059.\n"
     ]
    },
    {
     "name": "stdout",
     "output_type": "stream",
     "text": [
      "Stopped by overfitting detector  (300 iterations wait)\n",
      "\n",
      "bestTest = 0.7353265962\n",
      "bestIteration = 620\n",
      "\n",
      "Shrink model to first 621 iterations.\n",
      "0:\ttest: 0.7157325\tbest: 0.7157325 (0)\ttotal: 107ms\tremaining: 4m 53s\n",
      "300:\ttest: 0.7350320\tbest: 0.7351361 (257)\ttotal: 30.5s\tremaining: 4m 7s\n"
     ]
    },
    {
     "name": "stderr",
     "output_type": "stream",
     "text": [
      "[I 2025-02-24 14:52:32,540] Trial 17 finished with value: 0.7351360741382134 and parameters: {'iterations': 2740, 'depth': 9, 'learning_rate': 0.06282574574562394, 'l2_leaf_reg': 3.8044165173176334}. Best is trial 11 with value: 0.7354834496793059.\n"
     ]
    },
    {
     "name": "stdout",
     "output_type": "stream",
     "text": [
      "Stopped by overfitting detector  (300 iterations wait)\n",
      "\n",
      "bestTest = 0.7351360741\n",
      "bestIteration = 257\n",
      "\n",
      "Shrink model to first 258 iterations.\n",
      "0:\ttest: 0.7094423\tbest: 0.7094423 (0)\ttotal: 96.6ms\tremaining: 4m 6s\n",
      "300:\ttest: 0.7340577\tbest: 0.7340577 (300)\ttotal: 24.9s\tremaining: 3m 6s\n",
      "600:\ttest: 0.7349169\tbest: 0.7349309 (589)\ttotal: 49.4s\tremaining: 2m 40s\n",
      "900:\ttest: 0.7353731\tbest: 0.7353829 (891)\ttotal: 1m 17s\tremaining: 2m 21s\n",
      "1200:\ttest: 0.7355187\tbest: 0.7355303 (1154)\ttotal: 1m 45s\tremaining: 1m 58s\n",
      "1500:\ttest: 0.7355232\tbest: 0.7355487 (1471)\ttotal: 2m 13s\tremaining: 1m 33s\n",
      "1800:\ttest: 0.7355716\tbest: 0.7356173 (1602)\ttotal: 2m 42s\tremaining: 1m 7s\n"
     ]
    },
    {
     "name": "stderr",
     "output_type": "stream",
     "text": [
      "[I 2025-02-24 14:55:25,069] Trial 18 finished with value: 0.7356172658288469 and parameters: {'iterations': 2551, 'depth': 8, 'learning_rate': 0.01958373252715346, 'l2_leaf_reg': 27.476376202913034}. Best is trial 18 with value: 0.7356172658288469.\n"
     ]
    },
    {
     "name": "stdout",
     "output_type": "stream",
     "text": [
      "Stopped by overfitting detector  (300 iterations wait)\n",
      "\n",
      "bestTest = 0.7356172658\n",
      "bestIteration = 1602\n",
      "\n",
      "Shrink model to first 1603 iterations.\n",
      "저장 완료\n",
      "0:\ttest: 0.6988963\tbest: 0.6988963 (0)\ttotal: 86.9ms\tremaining: 3m 37s\n",
      "300:\ttest: 0.7334523\tbest: 0.7334523 (300)\ttotal: 22.4s\tremaining: 2m 44s\n",
      "600:\ttest: 0.7346656\tbest: 0.7346656 (599)\ttotal: 44.4s\tremaining: 2m 20s\n",
      "900:\ttest: 0.7349212\tbest: 0.7349222 (890)\ttotal: 1m 8s\tremaining: 2m 2s\n",
      "1200:\ttest: 0.7351197\tbest: 0.7351197 (1200)\ttotal: 1m 33s\tremaining: 1m 41s\n",
      "1500:\ttest: 0.7353339\tbest: 0.7353411 (1499)\ttotal: 1m 57s\tremaining: 1m 18s\n",
      "1800:\ttest: 0.7354291\tbest: 0.7354433 (1787)\ttotal: 2m 22s\tremaining: 55.6s\n",
      "2100:\ttest: 0.7354928\tbest: 0.7355037 (1947)\ttotal: 2m 46s\tremaining: 32s\n",
      "2400:\ttest: 0.7355370\tbest: 0.7355392 (2367)\ttotal: 3m 10s\tremaining: 8.35s\n"
     ]
    },
    {
     "name": "stderr",
     "output_type": "stream",
     "text": [
      "[I 2025-02-24 14:58:44,829] Trial 19 finished with value: 0.7355569818440999 and parameters: {'iterations': 2506, 'depth': 7, 'learning_rate': 0.019635316366982188, 'l2_leaf_reg': 82.64355742461473}. Best is trial 18 with value: 0.7356172658288469.\n",
      "[I 2025-02-24 14:58:44,835] A new study created in memory with name: no-name-698ab23f-d6a7-4ae7-8c39-3ad3d7255e89\n"
     ]
    },
    {
     "name": "stdout",
     "output_type": "stream",
     "text": [
      "2505:\ttest: 0.7355451\tbest: 0.7355570 (2493)\ttotal: 3m 19s\tremaining: 0us\n",
      "\n",
      "bestTest = 0.7355569818\n",
      "bestIteration = 2493\n",
      "\n",
      "Shrink model to first 2494 iterations.\n"
     ]
    },
    {
     "name": "stderr",
     "output_type": "stream",
     "text": [
      "[I 2025-02-24 14:59:08,025] Trial 0 finished with value: 0.7243407652393425 and parameters: {'num_iterations': 2366, 'objective': 'binary', 'metric': 'auc', 'verbose': -1, 'learning_rate': 0.0652646236447618, 'n_estimators': 236, 'min_child_samples': 45, 'subsample': 0.7, 'colsample_bytree': 0.5}. Best is trial 0 with value: 0.7243407652393425.\n",
      "[I 2025-02-24 14:59:25,012] Trial 1 finished with value: 0.7348860107685464 and parameters: {'num_iterations': 1510, 'objective': 'binary', 'metric': 'auc', 'verbose': -1, 'learning_rate': 0.005231880959249543, 'n_estimators': 1411, 'min_child_samples': 10, 'subsample': 1.0, 'colsample_bytree': 0.5}. Best is trial 1 with value: 0.7348860107685464.\n",
      "[I 2025-02-24 14:59:44,772] Trial 2 finished with value: 0.7348877740155312 and parameters: {'num_iterations': 2334, 'objective': 'binary', 'metric': 'auc', 'verbose': -1, 'learning_rate': 0.006578527777128852, 'n_estimators': 931, 'min_child_samples': 15, 'subsample': 0.5, 'colsample_bytree': 1.0}. Best is trial 2 with value: 0.7348877740155312.\n",
      "[I 2025-02-24 15:00:01,629] Trial 3 finished with value: 0.7350794913836236 and parameters: {'num_iterations': 1620, 'objective': 'binary', 'metric': 'auc', 'verbose': -1, 'learning_rate': 0.0058823249237283685, 'n_estimators': 837, 'min_child_samples': 10, 'subsample': 0.9, 'colsample_bytree': 0.6}. Best is trial 3 with value: 0.7350794913836236.\n",
      "[I 2025-02-24 15:00:18,052] Trial 4 finished with value: 0.7341486042001846 and parameters: {'num_iterations': 1997, 'objective': 'binary', 'metric': 'auc', 'verbose': -1, 'learning_rate': 0.010907507425244923, 'n_estimators': 1597, 'min_child_samples': 50, 'subsample': 0.6, 'colsample_bytree': 0.8}. Best is trial 3 with value: 0.7350794913836236.\n",
      "[I 2025-02-24 15:00:40,627] Trial 5 finished with value: 0.731967793324833 and parameters: {'num_iterations': 2909, 'objective': 'binary', 'metric': 'auc', 'verbose': -1, 'learning_rate': 0.019760591962733942, 'n_estimators': 612, 'min_child_samples': 30, 'subsample': 0.7, 'colsample_bytree': 0.9}. Best is trial 3 with value: 0.7350794913836236.\n",
      "[I 2025-02-24 15:01:01,440] Trial 6 finished with value: 0.7323216817601932 and parameters: {'num_iterations': 2639, 'objective': 'binary', 'metric': 'auc', 'verbose': -1, 'learning_rate': 0.017862094446750985, 'n_estimators': 794, 'min_child_samples': 35, 'subsample': 1.0, 'colsample_bytree': 0.8}. Best is trial 3 with value: 0.7350794913836236.\n",
      "[I 2025-02-24 15:01:18,306] Trial 7 finished with value: 0.7345158559826247 and parameters: {'num_iterations': 1580, 'objective': 'binary', 'metric': 'auc', 'verbose': -1, 'learning_rate': 0.01776722177611332, 'n_estimators': 529, 'min_child_samples': 25, 'subsample': 0.8, 'colsample_bytree': 0.5}. Best is trial 3 with value: 0.7350794913836236.\n",
      "[I 2025-02-24 15:01:36,067] Trial 8 finished with value: 0.731435666035493 and parameters: {'num_iterations': 1911, 'objective': 'binary', 'metric': 'auc', 'verbose': -1, 'learning_rate': 0.0304747553332844, 'n_estimators': 1328, 'min_child_samples': 10, 'subsample': 0.7, 'colsample_bytree': 0.6}. Best is trial 3 with value: 0.7350794913836236.\n",
      "[I 2025-02-24 15:02:03,546] Trial 9 finished with value: 0.7308106386634664 and parameters: {'num_iterations': 2739, 'objective': 'binary', 'metric': 'auc', 'verbose': -1, 'learning_rate': 0.02691531614176271, 'n_estimators': 1438, 'min_child_samples': 20, 'subsample': 0.6, 'colsample_bytree': 0.5}. Best is trial 3 with value: 0.7350794913836236.\n",
      "[I 2025-02-24 15:02:18,008] Trial 10 finished with value: 0.723506642191104 and parameters: {'num_iterations': 1883, 'objective': 'binary', 'metric': 'auc', 'verbose': -1, 'learning_rate': 0.08223556891145911, 'n_estimators': 1917, 'min_child_samples': 40, 'subsample': 0.9, 'colsample_bytree': 0.7}. Best is trial 3 with value: 0.7350794913836236.\n",
      "[I 2025-02-24 15:02:37,714] Trial 11 finished with value: 0.7348840966130361 and parameters: {'num_iterations': 2323, 'objective': 'binary', 'metric': 'auc', 'verbose': -1, 'learning_rate': 0.005637168073461897, 'n_estimators': 1002, 'min_child_samples': 15, 'subsample': 0.5, 'colsample_bytree': 1.0}. Best is trial 3 with value: 0.7350794913836236.\n",
      "[I 2025-02-24 15:02:55,356] Trial 12 finished with value: 0.7344369903928296 and parameters: {'num_iterations': 2150, 'objective': 'binary', 'metric': 'auc', 'verbose': -1, 'learning_rate': 0.009182479449490221, 'n_estimators': 1042, 'min_child_samples': 20, 'subsample': 0.9, 'colsample_bytree': 1.0}. Best is trial 3 with value: 0.7350794913836236.\n",
      "[I 2025-02-24 15:03:16,586] Trial 13 finished with value: 0.7344478478641273 and parameters: {'num_iterations': 2525, 'objective': 'binary', 'metric': 'auc', 'verbose': -1, 'learning_rate': 0.008924432197543271, 'n_estimators': 116, 'min_child_samples': 10, 'subsample': 0.5, 'colsample_bytree': 0.7}. Best is trial 3 with value: 0.7350794913836236.\n",
      "[I 2025-02-24 15:03:33,386] Trial 14 finished with value: 0.7350472207867821 and parameters: {'num_iterations': 1669, 'objective': 'binary', 'metric': 'auc', 'verbose': -1, 'learning_rate': 0.007025382355053183, 'n_estimators': 789, 'min_child_samples': 20, 'subsample': 0.9, 'colsample_bytree': 0.6}. Best is trial 3 with value: 0.7350794913836236.\n",
      "[I 2025-02-24 15:03:50,060] Trial 15 finished with value: 0.7342557532247206 and parameters: {'num_iterations': 1739, 'objective': 'binary', 'metric': 'auc', 'verbose': -1, 'learning_rate': 0.012494482643776393, 'n_estimators': 573, 'min_child_samples': 25, 'subsample': 0.9, 'colsample_bytree': 0.6}. Best is trial 3 with value: 0.7350794913836236.\n",
      "[I 2025-02-24 15:04:05,583] Trial 16 finished with value: 0.7318812989119352 and parameters: {'num_iterations': 1694, 'objective': 'binary', 'metric': 'auc', 'verbose': -1, 'learning_rate': 0.03901437770924474, 'n_estimators': 710, 'min_child_samples': 20, 'subsample': 0.8, 'colsample_bytree': 0.6}. Best is trial 3 with value: 0.7350794913836236.\n",
      "[I 2025-02-24 15:04:23,688] Trial 17 finished with value: 0.7350774183770334 and parameters: {'num_iterations': 2097, 'objective': 'binary', 'metric': 'auc', 'verbose': -1, 'learning_rate': 0.007274071830149425, 'n_estimators': 354, 'min_child_samples': 15, 'subsample': 1.0, 'colsample_bytree': 0.7}. Best is trial 3 with value: 0.7350794913836236.\n",
      "[I 2025-02-24 15:04:41,557] Trial 18 finished with value: 0.7334770175766973 and parameters: {'num_iterations': 2138, 'objective': 'binary', 'metric': 'auc', 'verbose': -1, 'learning_rate': 0.01347659548404823, 'n_estimators': 312, 'min_child_samples': 15, 'subsample': 1.0, 'colsample_bytree': 0.7}. Best is trial 3 with value: 0.7350794913836236.\n",
      "[I 2025-02-24 15:04:59,289] Trial 19 finished with value: 0.7349231024956568 and parameters: {'num_iterations': 2023, 'objective': 'binary', 'metric': 'auc', 'verbose': -1, 'learning_rate': 0.007450807237520333, 'n_estimators': 421, 'min_child_samples': 30, 'subsample': 1.0, 'colsample_bytree': 0.8}. Best is trial 3 with value: 0.7350794913836236.\n",
      "[I 2025-02-24 15:05:15,411] Trial 20 finished with value: 0.7350255018729098 and parameters: {'num_iterations': 1812, 'objective': 'binary', 'metric': 'auc', 'verbose': -1, 'learning_rate': 0.005182606696171784, 'n_estimators': 1267, 'min_child_samples': 10, 'subsample': 0.8, 'colsample_bytree': 0.9}. Best is trial 3 with value: 0.7350794913836236.\n",
      "[I 2025-02-24 15:05:31,707] Trial 21 finished with value: 0.7350161217166534 and parameters: {'num_iterations': 1623, 'objective': 'binary', 'metric': 'auc', 'verbose': -1, 'learning_rate': 0.007686339708501757, 'n_estimators': 823, 'min_child_samples': 15, 'subsample': 0.9, 'colsample_bytree': 0.6}. Best is trial 3 with value: 0.7350794913836236.\n",
      "[I 2025-02-24 15:05:46,536] Trial 22 finished with value: 0.7346610617545803 and parameters: {'num_iterations': 1738, 'objective': 'binary', 'metric': 'auc', 'verbose': -1, 'learning_rate': 0.010593922536538021, 'n_estimators': 444, 'min_child_samples': 25, 'subsample': 0.9, 'colsample_bytree': 0.7}. Best is trial 3 with value: 0.7350794913836236.\n",
      "[I 2025-02-24 15:06:07,089] Trial 23 finished with value: 0.7350414981766358 and parameters: {'num_iterations': 2077, 'objective': 'binary', 'metric': 'auc', 'verbose': -1, 'learning_rate': 0.006802426342520639, 'n_estimators': 1124, 'min_child_samples': 20, 'subsample': 1.0, 'colsample_bytree': 0.6}. Best is trial 3 with value: 0.7350794913836236.\n",
      "[I 2025-02-24 15:06:21,727] Trial 24 finished with value: 0.7344808928599823 and parameters: {'num_iterations': 1508, 'objective': 'binary', 'metric': 'auc', 'verbose': -1, 'learning_rate': 0.014076099342710655, 'n_estimators': 746, 'min_child_samples': 15, 'subsample': 0.9, 'colsample_bytree': 0.6}. Best is trial 3 with value: 0.7350794913836236.\n",
      "[I 2025-02-24 15:06:37,823] Trial 25 finished with value: 0.7347214092797592 and parameters: {'num_iterations': 1833, 'objective': 'binary', 'metric': 'auc', 'verbose': -1, 'learning_rate': 0.008634167378478712, 'n_estimators': 901, 'min_child_samples': 25, 'subsample': 0.8, 'colsample_bytree': 0.7}. Best is trial 3 with value: 0.7350794913836236.\n",
      "[I 2025-02-24 15:06:54,833] Trial 26 finished with value: 0.7350301006116672 and parameters: {'num_iterations': 1676, 'objective': 'binary', 'metric': 'auc', 'verbose': -1, 'learning_rate': 0.00652736943628625, 'n_estimators': 1194, 'min_child_samples': 10, 'subsample': 1.0, 'colsample_bytree': 0.6}. Best is trial 3 with value: 0.7350794913836236.\n",
      "[I 2025-02-24 15:07:10,138] Trial 27 finished with value: 0.728988501612251 and parameters: {'num_iterations': 1954, 'objective': 'binary', 'metric': 'auc', 'verbose': -1, 'learning_rate': 0.047947876079429776, 'n_estimators': 323, 'min_child_samples': 20, 'subsample': 0.9, 'colsample_bytree': 0.7}. Best is trial 3 with value: 0.7350794913836236.\n",
      "[I 2025-02-24 15:07:33,944] Trial 28 finished with value: 0.7346104081165404 and parameters: {'num_iterations': 2200, 'objective': 'binary', 'metric': 'auc', 'verbose': -1, 'learning_rate': 0.010405079283139586, 'n_estimators': 642, 'min_child_samples': 15, 'subsample': 0.8, 'colsample_bytree': 0.5}. Best is trial 3 with value: 0.7350794913836236.\n",
      "[I 2025-02-24 15:07:48,653] Trial 29 finished with value: 0.733925537571513 and parameters: {'num_iterations': 1789, 'objective': 'binary', 'metric': 'auc', 'verbose': -1, 'learning_rate': 0.014685269346458172, 'n_estimators': 235, 'min_child_samples': 35, 'subsample': 1.0, 'colsample_bytree': 0.8}. Best is trial 3 with value: 0.7350794913836236.\n",
      "[I 2025-02-24 15:08:15,352] Trial 30 finished with value: 0.7351406093365389 and parameters: {'num_iterations': 2462, 'objective': 'binary', 'metric': 'auc', 'verbose': -1, 'learning_rate': 0.005978928602584284, 'n_estimators': 104, 'min_child_samples': 10, 'subsample': 0.9, 'colsample_bytree': 0.5}. Best is trial 30 with value: 0.7351406093365389.\n",
      "[I 2025-02-24 15:08:42,784] Trial 31 finished with value: 0.7351329010878964 and parameters: {'num_iterations': 2539, 'objective': 'binary', 'metric': 'auc', 'verbose': -1, 'learning_rate': 0.006093511986948778, 'n_estimators': 115, 'min_child_samples': 10, 'subsample': 0.9, 'colsample_bytree': 0.5}. Best is trial 30 with value: 0.7351406093365389.\n",
      "[I 2025-02-24 15:09:09,536] Trial 32 finished with value: 0.7349754598115267 and parameters: {'num_iterations': 2464, 'objective': 'binary', 'metric': 'auc', 'verbose': -1, 'learning_rate': 0.005235057794437723, 'n_estimators': 109, 'min_child_samples': 10, 'subsample': 1.0, 'colsample_bytree': 0.5}. Best is trial 30 with value: 0.7351406093365389.\n",
      "[I 2025-02-24 15:09:36,241] Trial 33 finished with value: 0.7351814539204073 and parameters: {'num_iterations': 2473, 'objective': 'binary', 'metric': 'auc', 'verbose': -1, 'learning_rate': 0.005960859633878456, 'n_estimators': 247, 'min_child_samples': 10, 'subsample': 0.9, 'colsample_bytree': 0.5}. Best is trial 33 with value: 0.7351814539204073.\n",
      "[I 2025-02-24 15:10:02,848] Trial 34 finished with value: 0.7350148588505698 and parameters: {'num_iterations': 2472, 'objective': 'binary', 'metric': 'auc', 'verbose': -1, 'learning_rate': 0.005842101824318963, 'n_estimators': 200, 'min_child_samples': 10, 'subsample': 0.8, 'colsample_bytree': 0.5}. Best is trial 33 with value: 0.7351814539204073.\n",
      "[I 2025-02-24 15:10:30,899] Trial 35 finished with value: 0.7350055660624072 and parameters: {'num_iterations': 2628, 'objective': 'binary', 'metric': 'auc', 'verbose': -1, 'learning_rate': 0.006087265367802275, 'n_estimators': 183, 'min_child_samples': 10, 'subsample': 0.9, 'colsample_bytree': 0.5}. Best is trial 33 with value: 0.7351814539204073.\n",
      "[I 2025-02-24 15:10:55,208] Trial 36 finished with value: 0.7346552756040022 and parameters: {'num_iterations': 2303, 'objective': 'binary', 'metric': 'auc', 'verbose': -1, 'learning_rate': 0.008348836727109453, 'n_estimators': 1740, 'min_child_samples': 45, 'subsample': 0.8, 'colsample_bytree': 0.5}. Best is trial 33 with value: 0.7351814539204073.\n",
      "[I 2025-02-24 15:11:24,097] Trial 37 finished with value: 0.7342987859822119 and parameters: {'num_iterations': 2786, 'objective': 'binary', 'metric': 'auc', 'verbose': -1, 'learning_rate': 0.009920778075528004, 'n_estimators': 473, 'min_child_samples': 10, 'subsample': 0.7, 'colsample_bytree': 0.5}. Best is trial 33 with value: 0.7351814539204073.\n",
      "[I 2025-02-24 15:11:48,798] Trial 38 finished with value: 0.7344622278581173 and parameters: {'num_iterations': 2384, 'objective': 'binary', 'metric': 'auc', 'verbose': -1, 'learning_rate': 0.011772285785076263, 'n_estimators': 262, 'min_child_samples': 15, 'subsample': 0.9, 'colsample_bytree': 0.5}. Best is trial 33 with value: 0.7351814539204073.\n",
      "[I 2025-02-24 15:12:21,020] Trial 39 finished with value: 0.734963025743263 and parameters: {'num_iterations': 2961, 'objective': 'binary', 'metric': 'auc', 'verbose': -1, 'learning_rate': 0.005026550808339195, 'n_estimators': 105, 'min_child_samples': 10, 'subsample': 0.9, 'colsample_bytree': 0.5}. Best is trial 33 with value: 0.7351814539204073.\n"
     ]
    },
    {
     "name": "stdout",
     "output_type": "stream",
     "text": [
      "Cat val score : 0.7356172658288469\n",
      "LGBM val score : 0.7350176069742487\n",
      "Ensemble val score : 0.735631590224959\n"
     ]
    },
    {
     "name": "stderr",
     "output_type": "stream",
     "text": [
      "[I 2025-02-24 15:12:49,221] A new study created in memory with name: no-name-fc930d55-fee2-46b4-b55f-f586faf62d2c\n"
     ]
    },
    {
     "name": "stdout",
     "output_type": "stream",
     "text": [
      "==================================================\n",
      "0:\ttest: 0.7260631\tbest: 0.7260631 (0)\ttotal: 153ms\tremaining: 6m 1s\n",
      "300:\ttest: 0.7400682\tbest: 0.7400682 (300)\ttotal: 37.6s\tremaining: 4m 18s\n",
      "600:\ttest: 0.7416575\tbest: 0.7416575 (600)\ttotal: 1m 17s\tremaining: 3m 48s\n",
      "900:\ttest: 0.7422328\tbest: 0.7422328 (900)\ttotal: 1m 56s\tremaining: 3m 9s\n",
      "1200:\ttest: 0.7425326\tbest: 0.7425419 (1168)\ttotal: 2m 41s\tremaining: 2m 36s\n"
     ]
    },
    {
     "name": "stderr",
     "output_type": "stream",
     "text": [
      "[I 2025-02-24 15:16:13,431] Trial 0 finished with value: 0.7425418504686179 and parameters: {'iterations': 2366, 'depth': 10, 'learning_rate': 0.01181021951839225, 'l2_leaf_reg': 9.980783802743254}. Best is trial 0 with value: 0.7425418504686179.\n"
     ]
    },
    {
     "name": "stdout",
     "output_type": "stream",
     "text": [
      "Stopped by overfitting detector  (300 iterations wait)\n",
      "\n",
      "bestTest = 0.7425418505\n",
      "bestIteration = 1168\n",
      "\n",
      "Shrink model to first 1169 iterations.\n",
      "저장 완료\n",
      "0:\ttest: 0.6898011\tbest: 0.6898011 (0)\ttotal: 57ms\tremaining: 2m 4s\n",
      "300:\ttest: 0.7295278\tbest: 0.7295278 (300)\ttotal: 12.8s\tremaining: 1m 20s\n",
      "600:\ttest: 0.7343960\tbest: 0.7343960 (600)\ttotal: 26s\tremaining: 1m 8s\n",
      "900:\ttest: 0.7367888\tbest: 0.7367888 (900)\ttotal: 39.3s\tremaining: 56.3s\n",
      "1200:\ttest: 0.7380153\tbest: 0.7380153 (1200)\ttotal: 53.4s\tremaining: 44.1s\n",
      "1500:\ttest: 0.7387961\tbest: 0.7387961 (1500)\ttotal: 1m 7s\tremaining: 31.2s\n",
      "1800:\ttest: 0.7393858\tbest: 0.7393858 (1800)\ttotal: 1m 21s\tremaining: 17.8s\n",
      "2100:\ttest: 0.7398901\tbest: 0.7398908 (2098)\ttotal: 1m 35s\tremaining: 4.2s\n"
     ]
    },
    {
     "name": "stderr",
     "output_type": "stream",
     "text": [
      "[I 2025-02-24 15:17:54,020] Trial 1 finished with value: 0.7400304585825753 and parameters: {'iterations': 2193, 'depth': 4, 'learning_rate': 0.005671430811678843, 'l2_leaf_reg': 0.00012325230809466137}. Best is trial 0 with value: 0.7425418504686179.\n"
     ]
    },
    {
     "name": "stdout",
     "output_type": "stream",
     "text": [
      "2192:\ttest: 0.7400305\tbest: 0.7400305 (2192)\ttotal: 1m 40s\tremaining: 0us\n",
      "\n",
      "bestTest = 0.7400304586\n",
      "bestIteration = 2192\n",
      "\n",
      "0:\ttest: 0.6898011\tbest: 0.6898011 (0)\ttotal: 53.2ms\tremaining: 2m 14s\n",
      "300:\ttest: 0.7419437\tbest: 0.7419616 (291)\ttotal: 14.6s\tremaining: 1m 48s\n"
     ]
    },
    {
     "name": "stderr",
     "output_type": "stream",
     "text": [
      "[I 2025-02-24 15:18:23,948] Trial 2 finished with value: 0.7419807130008473 and parameters: {'iterations': 2535, 'depth': 4, 'learning_rate': 0.09275339199839054, 'l2_leaf_reg': 0.0008705394248343123}. Best is trial 0 with value: 0.7425418504686179.\n"
     ]
    },
    {
     "name": "stdout",
     "output_type": "stream",
     "text": [
      "600:\ttest: 0.7416965\tbest: 0.7419807 (303)\ttotal: 29.6s\tremaining: 1m 35s\n",
      "Stopped by overfitting detector  (300 iterations wait)\n",
      "\n",
      "bestTest = 0.741980713\n",
      "bestIteration = 303\n",
      "\n",
      "Shrink model to first 304 iterations.\n",
      "0:\ttest: 0.6898011\tbest: 0.6898011 (0)\ttotal: 52.2ms\tremaining: 2m 1s\n",
      "300:\ttest: 0.7404638\tbest: 0.7404788 (299)\ttotal: 13.9s\tremaining: 1m 34s\n",
      "600:\ttest: 0.7416005\tbest: 0.7416267 (592)\ttotal: 28.9s\tremaining: 1m 23s\n",
      "900:\ttest: 0.7415486\tbest: 0.7416505 (637)\ttotal: 44.1s\tremaining: 1m 10s\n"
     ]
    },
    {
     "name": "stderr",
     "output_type": "stream",
     "text": [
      "[I 2025-02-24 15:19:10,028] Trial 3 finished with value: 0.7416504774912547 and parameters: {'iterations': 2334, 'depth': 4, 'learning_rate': 0.04657568321363276, 'l2_leaf_reg': 0.0008640473331457248}. Best is trial 0 with value: 0.7425418504686179.\n"
     ]
    },
    {
     "name": "stdout",
     "output_type": "stream",
     "text": [
      "Stopped by overfitting detector  (300 iterations wait)\n",
      "\n",
      "bestTest = 0.7416504775\n",
      "bestIteration = 637\n",
      "\n",
      "Shrink model to first 638 iterations.\n",
      "0:\ttest: 0.7259878\tbest: 0.7259878 (0)\ttotal: 136ms\tremaining: 3m 57s\n",
      "300:\ttest: 0.7398156\tbest: 0.7398156 (300)\ttotal: 39s\tremaining: 3m 6s\n",
      "600:\ttest: 0.7410672\tbest: 0.7410672 (600)\ttotal: 1m 19s\tremaining: 2m 31s\n",
      "900:\ttest: 0.7397078\tbest: 0.7414293 (751)\ttotal: 2m 1s\tremaining: 1m 53s\n"
     ]
    },
    {
     "name": "stderr",
     "output_type": "stream",
     "text": [
      "[I 2025-02-24 15:21:34,590] Trial 4 finished with value: 0.7414292972191545 and parameters: {'iterations': 1742, 'depth': 10, 'learning_rate': 0.012622767482095846, 'l2_leaf_reg': 0.00021158816350109617}. Best is trial 0 with value: 0.7425418504686179.\n"
     ]
    },
    {
     "name": "stdout",
     "output_type": "stream",
     "text": [
      "Stopped by overfitting detector  (300 iterations wait)\n",
      "\n",
      "bestTest = 0.7414292972\n",
      "bestIteration = 751\n",
      "\n",
      "Shrink model to first 752 iterations.\n",
      "0:\ttest: 0.6898011\tbest: 0.6898011 (0)\ttotal: 61ms\tremaining: 2m 6s\n",
      "300:\ttest: 0.7412275\tbest: 0.7412411 (264)\ttotal: 14.6s\tremaining: 1m 26s\n",
      "600:\ttest: 0.7415593\tbest: 0.7417143 (431)\ttotal: 29.9s\tremaining: 1m 13s\n"
     ]
    },
    {
     "name": "stderr",
     "output_type": "stream",
     "text": [
      "[I 2025-02-24 15:22:11,209] Trial 5 finished with value: 0.7417142720848631 and parameters: {'iterations': 2082, 'depth': 4, 'learning_rate': 0.06995196593094148, 'l2_leaf_reg': 0.0018080296485396804}. Best is trial 0 with value: 0.7425418504686179.\n"
     ]
    },
    {
     "name": "stdout",
     "output_type": "stream",
     "text": [
      "Stopped by overfitting detector  (300 iterations wait)\n",
      "\n",
      "bestTest = 0.7417142721\n",
      "bestIteration = 431\n",
      "\n",
      "Shrink model to first 432 iterations.\n",
      "0:\ttest: 0.6969185\tbest: 0.6969185 (0)\ttotal: 62.8ms\tremaining: 2m 5s\n",
      "300:\ttest: 0.7415742\tbest: 0.7415742 (298)\ttotal: 17.6s\tremaining: 1m 38s\n",
      "600:\ttest: 0.7420882\tbest: 0.7421075 (580)\ttotal: 36.5s\tremaining: 1m 24s\n",
      "900:\ttest: 0.7422319\tbest: 0.7422319 (900)\ttotal: 55.6s\tremaining: 1m 7s\n",
      "1200:\ttest: 0.7421036\tbest: 0.7422804 (1095)\ttotal: 1m 15s\tremaining: 49.9s\n"
     ]
    },
    {
     "name": "stderr",
     "output_type": "stream",
     "text": [
      "[I 2025-02-24 15:23:38,878] Trial 6 finished with value: 0.7422804093903672 and parameters: {'iterations': 1997, 'depth': 5, 'learning_rate': 0.07985155992831598, 'l2_leaf_reg': 62.52181000710482}. Best is trial 0 with value: 0.7425418504686179.\n"
     ]
    },
    {
     "name": "stdout",
     "output_type": "stream",
     "text": [
      "Stopped by overfitting detector  (300 iterations wait)\n",
      "\n",
      "bestTest = 0.7422804094\n",
      "bestIteration = 1095\n",
      "\n",
      "Shrink model to first 1096 iterations.\n",
      "0:\ttest: 0.7036574\tbest: 0.7036574 (0)\ttotal: 86.1ms\tremaining: 2m 45s\n",
      "300:\ttest: 0.7406782\tbest: 0.7411396 (205)\ttotal: 25.1s\tremaining: 2m 15s\n"
     ]
    },
    {
     "name": "stderr",
     "output_type": "stream",
     "text": [
      "[I 2025-02-24 15:24:22,141] Trial 7 finished with value: 0.7411396084476559 and parameters: {'iterations': 1927, 'depth': 7, 'learning_rate': 0.0941937211034094, 'l2_leaf_reg': 0.05654822767791934}. Best is trial 0 with value: 0.7425418504686179.\n"
     ]
    },
    {
     "name": "stdout",
     "output_type": "stream",
     "text": [
      "Stopped by overfitting detector  (300 iterations wait)\n",
      "\n",
      "bestTest = 0.7411396084\n",
      "bestIteration = 205\n",
      "\n",
      "Shrink model to first 206 iterations.\n",
      "0:\ttest: 0.7036573\tbest: 0.7036573 (0)\ttotal: 89.9ms\tremaining: 2m 51s\n",
      "300:\ttest: 0.7420369\tbest: 0.7420460 (296)\ttotal: 23.9s\tremaining: 2m 7s\n",
      "600:\ttest: 0.7422196\tbest: 0.7423506 (538)\ttotal: 49.8s\tremaining: 1m 48s\n"
     ]
    },
    {
     "name": "stderr",
     "output_type": "stream",
     "text": [
      "[I 2025-02-24 15:25:33,075] Trial 8 finished with value: 0.7423506017112105 and parameters: {'iterations': 1904, 'depth': 7, 'learning_rate': 0.05155602859187331, 'l2_leaf_reg': 1.299974533316308}. Best is trial 0 with value: 0.7425418504686179.\n"
     ]
    },
    {
     "name": "stdout",
     "output_type": "stream",
     "text": [
      "Stopped by overfitting detector  (300 iterations wait)\n",
      "\n",
      "bestTest = 0.7423506017\n",
      "bestIteration = 538\n",
      "\n",
      "Shrink model to first 539 iterations.\n",
      "0:\ttest: 0.7036353\tbest: 0.7036353 (0)\ttotal: 74.5ms\tremaining: 3m 16s\n",
      "300:\ttest: 0.7412993\tbest: 0.7412993 (300)\ttotal: 19.6s\tremaining: 2m 32s\n",
      "600:\ttest: 0.7422456\tbest: 0.7423070 (509)\ttotal: 41.4s\tremaining: 2m 20s\n",
      "900:\ttest: 0.7422609\tbest: 0.7423532 (862)\ttotal: 1m 3s\tremaining: 2m 2s\n"
     ]
    },
    {
     "name": "stderr",
     "output_type": "stream",
     "text": [
      "[I 2025-02-24 15:26:56,191] Trial 9 finished with value: 0.7423532148114717 and parameters: {'iterations': 2639, 'depth': 6, 'learning_rate': 0.03968704290444751, 'l2_leaf_reg': 0.30557194377967184}. Best is trial 0 with value: 0.7425418504686179.\n"
     ]
    },
    {
     "name": "stdout",
     "output_type": "stream",
     "text": [
      "Stopped by overfitting detector  (300 iterations wait)\n",
      "\n",
      "bestTest = 0.7423532148\n",
      "bestIteration = 862\n",
      "\n",
      "Shrink model to first 863 iterations.\n",
      "0:\ttest: 0.7257084\tbest: 0.7257084 (0)\ttotal: 135ms\tremaining: 6m 37s\n",
      "300:\ttest: 0.7418515\tbest: 0.7418591 (298)\ttotal: 39s\tremaining: 5m 42s\n",
      "600:\ttest: 0.7427567\tbest: 0.7427689 (598)\ttotal: 1m 20s\tremaining: 5m 12s\n",
      "900:\ttest: 0.7428398\tbest: 0.7429152 (855)\ttotal: 2m 12s\tremaining: 5m 1s\n"
     ]
    },
    {
     "name": "stderr",
     "output_type": "stream",
     "text": [
      "[I 2025-02-24 15:29:54,763] Trial 10 finished with value: 0.7429152418452885 and parameters: {'iterations': 2945, 'depth': 10, 'learning_rate': 0.025911330134996406, 'l2_leaf_reg': 97.18545559492516}. Best is trial 10 with value: 0.7429152418452885.\n"
     ]
    },
    {
     "name": "stdout",
     "output_type": "stream",
     "text": [
      "Stopped by overfitting detector  (300 iterations wait)\n",
      "\n",
      "bestTest = 0.7429152418\n",
      "bestIteration = 855\n",
      "\n",
      "Shrink model to first 856 iterations.\n",
      "저장 완료\n",
      "0:\ttest: 0.7258149\tbest: 0.7258149 (0)\ttotal: 139ms\tremaining: 6m 54s\n",
      "300:\ttest: 0.7415633\tbest: 0.7415802 (294)\ttotal: 39.8s\tremaining: 5m 56s\n",
      "600:\ttest: 0.7425708\tbest: 0.7425715 (594)\ttotal: 1m 23s\tremaining: 5m 34s\n",
      "900:\ttest: 0.7428669\tbest: 0.7428787 (862)\ttotal: 2m 19s\tremaining: 5m 24s\n"
     ]
    },
    {
     "name": "stderr",
     "output_type": "stream",
     "text": [
      "[I 2025-02-24 15:33:01,981] Trial 11 finished with value: 0.742878745809727 and parameters: {'iterations': 2995, 'depth': 10, 'learning_rate': 0.026163874004606635, 'l2_leaf_reg': 73.1213351392818}. Best is trial 10 with value: 0.7429152418452885.\n"
     ]
    },
    {
     "name": "stdout",
     "output_type": "stream",
     "text": [
      "Stopped by overfitting detector  (300 iterations wait)\n",
      "\n",
      "bestTest = 0.7428787458\n",
      "bestIteration = 862\n",
      "\n",
      "Shrink model to first 863 iterations.\n",
      "0:\ttest: 0.7222010\tbest: 0.7222010 (0)\ttotal: 125ms\tremaining: 6m\n",
      "300:\ttest: 0.7418439\tbest: 0.7418439 (300)\ttotal: 29.3s\tremaining: 4m 13s\n",
      "600:\ttest: 0.7427163\tbest: 0.7427163 (600)\ttotal: 59.8s\tremaining: 3m 48s\n",
      "900:\ttest: 0.7429969\tbest: 0.7429990 (832)\ttotal: 1m 33s\tremaining: 3m 28s\n",
      "1200:\ttest: 0.7432313\tbest: 0.7432521 (1181)\ttotal: 2m 7s\tremaining: 3m\n",
      "1500:\ttest: 0.7433324\tbest: 0.7433379 (1444)\ttotal: 2m 41s\tremaining: 2m 30s\n"
     ]
    },
    {
     "name": "stderr",
     "output_type": "stream",
     "text": [
      "[I 2025-02-24 15:36:12,293] Trial 12 finished with value: 0.7433378849992207 and parameters: {'iterations': 2897, 'depth': 9, 'learning_rate': 0.02806616524326411, 'l2_leaf_reg': 87.13438924619796}. Best is trial 12 with value: 0.7433378849992207.\n"
     ]
    },
    {
     "name": "stdout",
     "output_type": "stream",
     "text": [
      "Stopped by overfitting detector  (300 iterations wait)\n",
      "\n",
      "bestTest = 0.743337885\n",
      "bestIteration = 1444\n",
      "\n",
      "Shrink model to first 1445 iterations.\n",
      "저장 완료\n",
      "0:\ttest: 0.7221847\tbest: 0.7221847 (0)\ttotal: 127ms\tremaining: 6m 17s\n",
      "300:\ttest: 0.7417945\tbest: 0.7417945 (300)\ttotal: 30.7s\tremaining: 4m 32s\n",
      "600:\ttest: 0.7425000\tbest: 0.7425215 (586)\ttotal: 1m 3s\tremaining: 4m 11s\n"
     ]
    },
    {
     "name": "stderr",
     "output_type": "stream",
     "text": [
      "[I 2025-02-24 15:37:50,044] Trial 13 finished with value: 0.742521453989984 and parameters: {'iterations': 2975, 'depth': 9, 'learning_rate': 0.02975441117748237, 'l2_leaf_reg': 7.828901342687942}. Best is trial 12 with value: 0.7433378849992207.\n"
     ]
    },
    {
     "name": "stdout",
     "output_type": "stream",
     "text": [
      "Stopped by overfitting detector  (300 iterations wait)\n",
      "\n",
      "bestTest = 0.742521454\n",
      "bestIteration = 586\n",
      "\n",
      "Shrink model to first 587 iterations.\n",
      "0:\ttest: 0.7158267\tbest: 0.7158267 (0)\ttotal: 106ms\tremaining: 4m 51s\n",
      "300:\ttest: 0.7411538\tbest: 0.7411538 (300)\ttotal: 26.7s\tremaining: 3m 37s\n",
      "600:\ttest: 0.7422009\tbest: 0.7422531 (584)\ttotal: 54.3s\tremaining: 3m 14s\n",
      "900:\ttest: 0.7419722\tbest: 0.7424164 (693)\ttotal: 1m 23s\tremaining: 2m 51s\n"
     ]
    },
    {
     "name": "stderr",
     "output_type": "stream",
     "text": [
      "[I 2025-02-24 15:39:22,763] Trial 14 finished with value: 0.7424164017997001 and parameters: {'iterations': 2754, 'depth': 8, 'learning_rate': 0.028213940573808334, 'l2_leaf_reg': 0.02939703823210393}. Best is trial 12 with value: 0.7433378849992207.\n"
     ]
    },
    {
     "name": "stdout",
     "output_type": "stream",
     "text": [
      "Stopped by overfitting detector  (300 iterations wait)\n",
      "\n",
      "bestTest = 0.7424164018\n",
      "bestIteration = 693\n",
      "\n",
      "Shrink model to first 694 iterations.\n",
      "0:\ttest: 0.7222053\tbest: 0.7222053 (0)\ttotal: 109ms\tremaining: 2m 44s\n",
      "300:\ttest: 0.7425733\tbest: 0.7426733 (279)\ttotal: 30.5s\tremaining: 2m 2s\n"
     ]
    },
    {
     "name": "stderr",
     "output_type": "stream",
     "text": [
      "[I 2025-02-24 15:40:24,776] Trial 15 finished with value: 0.7426732520817474 and parameters: {'iterations': 1513, 'depth': 9, 'learning_rate': 0.06221445398551971, 'l2_leaf_reg': 9.663069382488304}. Best is trial 12 with value: 0.7433378849992207.\n"
     ]
    },
    {
     "name": "stdout",
     "output_type": "stream",
     "text": [
      "Stopped by overfitting detector  (300 iterations wait)\n",
      "\n",
      "bestTest = 0.7426732521\n",
      "bestIteration = 279\n",
      "\n",
      "Shrink model to first 280 iterations.\n",
      "0:\ttest: 0.7221852\tbest: 0.7221852 (0)\ttotal: 110ms\tremaining: 5m 9s\n",
      "300:\ttest: 0.7421271\tbest: 0.7421271 (300)\ttotal: 29.1s\tremaining: 4m 3s\n",
      "600:\ttest: 0.7423193\tbest: 0.7424847 (484)\ttotal: 1m 2s\tremaining: 3m 52s\n",
      "900:\ttest: 0.7421932\tbest: 0.7425431 (688)\ttotal: 1m 36s\tremaining: 3m 26s\n"
     ]
    },
    {
     "name": "stderr",
     "output_type": "stream",
     "text": [
      "[I 2025-02-24 15:42:11,537] Trial 16 finished with value: 0.7425431053921474 and parameters: {'iterations': 2824, 'depth': 9, 'learning_rate': 0.03780133673970677, 'l2_leaf_reg': 1.8341589839267998}. Best is trial 12 with value: 0.7433378849992207.\n"
     ]
    },
    {
     "name": "stdout",
     "output_type": "stream",
     "text": [
      "Stopped by overfitting detector  (300 iterations wait)\n",
      "\n",
      "bestTest = 0.7425431054\n",
      "bestIteration = 688\n",
      "\n",
      "Shrink model to first 689 iterations.\n",
      "0:\ttest: 0.7158880\tbest: 0.7158880 (0)\ttotal: 96.7ms\tremaining: 4m 6s\n",
      "300:\ttest: 0.7409141\tbest: 0.7409141 (300)\ttotal: 25.2s\tremaining: 3m 8s\n",
      "600:\ttest: 0.7420335\tbest: 0.7420335 (600)\ttotal: 49.4s\tremaining: 2m 39s\n",
      "900:\ttest: 0.7422986\tbest: 0.7423021 (895)\ttotal: 1m 17s\tremaining: 2m 21s\n",
      "1200:\ttest: 0.7424834\tbest: 0.7424834 (1200)\ttotal: 1m 45s\tremaining: 1m 58s\n",
      "1500:\ttest: 0.7425785\tbest: 0.7425883 (1425)\ttotal: 2m 14s\tremaining: 1m 33s\n",
      "1800:\ttest: 0.7426799\tbest: 0.7426801 (1746)\ttotal: 2m 42s\tremaining: 1m 7s\n",
      "2100:\ttest: 0.7426848\tbest: 0.7427359 (1849)\ttotal: 3m 11s\tremaining: 40.5s\n"
     ]
    },
    {
     "name": "stderr",
     "output_type": "stream",
     "text": [
      "[I 2025-02-24 15:45:27,701] Trial 17 finished with value: 0.7427359386890748 and parameters: {'iterations': 2546, 'depth': 8, 'learning_rate': 0.020683376194142355, 'l2_leaf_reg': 80.62911323694684}. Best is trial 12 with value: 0.7433378849992207.\n"
     ]
    },
    {
     "name": "stdout",
     "output_type": "stream",
     "text": [
      "Stopped by overfitting detector  (300 iterations wait)\n",
      "\n",
      "bestTest = 0.7427359387\n",
      "bestIteration = 1849\n",
      "\n",
      "Shrink model to first 1850 iterations.\n",
      "0:\ttest: 0.7158267\tbest: 0.7158267 (0)\ttotal: 98.3ms\tremaining: 4m 36s\n",
      "300:\ttest: 0.7412083\tbest: 0.7412095 (299)\ttotal: 25.5s\tremaining: 3m 32s\n",
      "600:\ttest: 0.7413559\tbest: 0.7417178 (419)\ttotal: 53.9s\tremaining: 3m 18s\n"
     ]
    },
    {
     "name": "stderr",
     "output_type": "stream",
     "text": [
      "[I 2025-02-24 15:46:33,259] Trial 18 finished with value: 0.7417178462341564 and parameters: {'iterations': 2815, 'depth': 8, 'learning_rate': 0.038994196866933575, 'l2_leaf_reg': 0.010016909578442512}. Best is trial 12 with value: 0.7433378849992207.\n"
     ]
    },
    {
     "name": "stdout",
     "output_type": "stream",
     "text": [
      "Stopped by overfitting detector  (300 iterations wait)\n",
      "\n",
      "bestTest = 0.7417178462\n",
      "bestIteration = 419\n",
      "\n",
      "Shrink model to first 420 iterations.\n",
      "0:\ttest: 0.7221856\tbest: 0.7221856 (0)\ttotal: 107ms\tremaining: 4m 23s\n",
      "300:\ttest: 0.7409667\tbest: 0.7416302 (215)\ttotal: 30.2s\tremaining: 3m 36s\n"
     ]
    },
    {
     "name": "stderr",
     "output_type": "stream",
     "text": [
      "[I 2025-02-24 15:47:28,553] Trial 19 finished with value: 0.7416301683807148 and parameters: {'iterations': 2460, 'depth': 9, 'learning_rate': 0.06108415238553991, 'l2_leaf_reg': 0.31055845032241847}. Best is trial 12 with value: 0.7433378849992207.\n",
      "[I 2025-02-24 15:47:28,559] A new study created in memory with name: no-name-85cc80b6-5759-42b6-866c-df4f7e94a085\n"
     ]
    },
    {
     "name": "stdout",
     "output_type": "stream",
     "text": [
      "Stopped by overfitting detector  (300 iterations wait)\n",
      "\n",
      "bestTest = 0.7416301684\n",
      "bestIteration = 215\n",
      "\n",
      "Shrink model to first 216 iterations.\n"
     ]
    },
    {
     "name": "stderr",
     "output_type": "stream",
     "text": [
      "[I 2025-02-24 15:47:51,686] Trial 0 finished with value: 0.7335323573215884 and parameters: {'num_iterations': 2366, 'objective': 'binary', 'metric': 'auc', 'verbose': -1, 'learning_rate': 0.0652646236447618, 'n_estimators': 236, 'min_child_samples': 45, 'subsample': 0.7, 'colsample_bytree': 0.5}. Best is trial 0 with value: 0.7335323573215884.\n",
      "[I 2025-02-24 15:48:08,642] Trial 1 finished with value: 0.7424698353316349 and parameters: {'num_iterations': 1510, 'objective': 'binary', 'metric': 'auc', 'verbose': -1, 'learning_rate': 0.005231880959249543, 'n_estimators': 1411, 'min_child_samples': 10, 'subsample': 1.0, 'colsample_bytree': 0.5}. Best is trial 1 with value: 0.7424698353316349.\n",
      "[I 2025-02-24 15:48:28,259] Trial 2 finished with value: 0.741950535266981 and parameters: {'num_iterations': 2334, 'objective': 'binary', 'metric': 'auc', 'verbose': -1, 'learning_rate': 0.006578527777128852, 'n_estimators': 931, 'min_child_samples': 15, 'subsample': 0.5, 'colsample_bytree': 1.0}. Best is trial 1 with value: 0.7424698353316349.\n",
      "[I 2025-02-24 15:48:44,717] Trial 3 finished with value: 0.7426732600243013 and parameters: {'num_iterations': 1620, 'objective': 'binary', 'metric': 'auc', 'verbose': -1, 'learning_rate': 0.0058823249237283685, 'n_estimators': 837, 'min_child_samples': 10, 'subsample': 0.9, 'colsample_bytree': 0.6}. Best is trial 3 with value: 0.7426732600243013.\n",
      "[I 2025-02-24 15:49:01,095] Trial 4 finished with value: 0.7422213962142579 and parameters: {'num_iterations': 1997, 'objective': 'binary', 'metric': 'auc', 'verbose': -1, 'learning_rate': 0.010907507425244923, 'n_estimators': 1597, 'min_child_samples': 50, 'subsample': 0.6, 'colsample_bytree': 0.8}. Best is trial 3 with value: 0.7426732600243013.\n",
      "[I 2025-02-24 15:49:23,613] Trial 5 finished with value: 0.7388375544857217 and parameters: {'num_iterations': 2909, 'objective': 'binary', 'metric': 'auc', 'verbose': -1, 'learning_rate': 0.019760591962733942, 'n_estimators': 612, 'min_child_samples': 30, 'subsample': 0.7, 'colsample_bytree': 0.9}. Best is trial 3 with value: 0.7426732600243013.\n",
      "[I 2025-02-24 15:49:44,495] Trial 6 finished with value: 0.7398194010955291 and parameters: {'num_iterations': 2639, 'objective': 'binary', 'metric': 'auc', 'verbose': -1, 'learning_rate': 0.017862094446750985, 'n_estimators': 794, 'min_child_samples': 35, 'subsample': 1.0, 'colsample_bytree': 0.8}. Best is trial 3 with value: 0.7426732600243013.\n",
      "[I 2025-02-24 15:50:01,534] Trial 7 finished with value: 0.741796390150515 and parameters: {'num_iterations': 1580, 'objective': 'binary', 'metric': 'auc', 'verbose': -1, 'learning_rate': 0.01776722177611332, 'n_estimators': 529, 'min_child_samples': 25, 'subsample': 0.8, 'colsample_bytree': 0.5}. Best is trial 3 with value: 0.7426732600243013.\n",
      "[I 2025-02-24 15:50:19,457] Trial 8 finished with value: 0.739622803028013 and parameters: {'num_iterations': 1911, 'objective': 'binary', 'metric': 'auc', 'verbose': -1, 'learning_rate': 0.0304747553332844, 'n_estimators': 1328, 'min_child_samples': 10, 'subsample': 0.7, 'colsample_bytree': 0.6}. Best is trial 3 with value: 0.7426732600243013.\n",
      "[I 2025-02-24 15:50:46,963] Trial 9 finished with value: 0.7393273161921051 and parameters: {'num_iterations': 2739, 'objective': 'binary', 'metric': 'auc', 'verbose': -1, 'learning_rate': 0.02691531614176271, 'n_estimators': 1438, 'min_child_samples': 20, 'subsample': 0.6, 'colsample_bytree': 0.5}. Best is trial 3 with value: 0.7426732600243013.\n",
      "[I 2025-02-24 15:51:01,388] Trial 10 finished with value: 0.731848933004446 and parameters: {'num_iterations': 1883, 'objective': 'binary', 'metric': 'auc', 'verbose': -1, 'learning_rate': 0.08223556891145911, 'n_estimators': 1917, 'min_child_samples': 40, 'subsample': 0.9, 'colsample_bytree': 0.7}. Best is trial 3 with value: 0.7426732600243013.\n",
      "[I 2025-02-24 15:51:16,960] Trial 11 finished with value: 0.7423914979216798 and parameters: {'num_iterations': 1513, 'objective': 'binary', 'metric': 'auc', 'verbose': -1, 'learning_rate': 0.005340229419903739, 'n_estimators': 1206, 'min_child_samples': 10, 'subsample': 1.0, 'colsample_bytree': 0.6}. Best is trial 3 with value: 0.7426732600243013.\n",
      "[I 2025-02-24 15:51:33,683] Trial 12 finished with value: 0.742901139840688 and parameters: {'num_iterations': 1698, 'objective': 'binary', 'metric': 'auc', 'verbose': -1, 'learning_rate': 0.008515343845233947, 'n_estimators': 1719, 'min_child_samples': 20, 'subsample': 0.9, 'colsample_bytree': 0.6}. Best is trial 12 with value: 0.742901139840688.\n",
      "[I 2025-02-24 15:51:48,779] Trial 13 finished with value: 0.742737455716886 and parameters: {'num_iterations': 1785, 'objective': 'binary', 'metric': 'auc', 'verbose': -1, 'learning_rate': 0.010668787980411185, 'n_estimators': 2000, 'min_child_samples': 20, 'subsample': 0.9, 'colsample_bytree': 0.7}. Best is trial 12 with value: 0.742901139840688.\n",
      "[I 2025-02-24 15:52:06,472] Trial 14 finished with value: 0.7424552011759173 and parameters: {'num_iterations': 2103, 'objective': 'binary', 'metric': 'auc', 'verbose': -1, 'learning_rate': 0.00982309544293683, 'n_estimators': 1876, 'min_child_samples': 20, 'subsample': 0.9, 'colsample_bytree': 0.7}. Best is trial 12 with value: 0.742901139840688.\n",
      "[I 2025-02-24 15:52:21,502] Trial 15 finished with value: 0.7424209369980256 and parameters: {'num_iterations': 1773, 'objective': 'binary', 'metric': 'auc', 'verbose': -1, 'learning_rate': 0.010223866226689225, 'n_estimators': 1679, 'min_child_samples': 25, 'subsample': 0.8, 'colsample_bytree': 0.7}. Best is trial 12 with value: 0.742901139840688.\n",
      "[I 2025-02-24 15:52:38,638] Trial 16 finished with value: 0.7418360830640556 and parameters: {'num_iterations': 2121, 'objective': 'binary', 'metric': 'auc', 'verbose': -1, 'learning_rate': 0.012900328276877392, 'n_estimators': 1986, 'min_child_samples': 20, 'subsample': 0.9, 'colsample_bytree': 0.8}. Best is trial 12 with value: 0.742901139840688.\n",
      "[I 2025-02-24 15:52:54,813] Trial 17 finished with value: 0.7389507795640564 and parameters: {'num_iterations': 1772, 'objective': 'binary', 'metric': 'auc', 'verbose': -1, 'learning_rate': 0.03933979848900536, 'n_estimators': 1707, 'min_child_samples': 25, 'subsample': 0.8, 'colsample_bytree': 0.6}. Best is trial 12 with value: 0.742901139840688.\n",
      "[I 2025-02-24 15:53:09,904] Trial 18 finished with value: 0.7424748709108615 and parameters: {'num_iterations': 1736, 'objective': 'binary', 'metric': 'auc', 'verbose': -1, 'learning_rate': 0.007729528796408071, 'n_estimators': 1092, 'min_child_samples': 30, 'subsample': 0.9, 'colsample_bytree': 0.7}. Best is trial 12 with value: 0.742901139840688.\n",
      "[I 2025-02-24 15:53:29,835] Trial 19 finished with value: 0.7410279996790573 and parameters: {'num_iterations': 2481, 'objective': 'binary', 'metric': 'auc', 'verbose': -1, 'learning_rate': 0.012692631466679956, 'n_estimators': 1742, 'min_child_samples': 15, 'subsample': 1.0, 'colsample_bytree': 0.9}. Best is trial 12 with value: 0.742901139840688.\n",
      "[I 2025-02-24 15:53:49,940] Trial 20 finished with value: 0.7425731481025961 and parameters: {'num_iterations': 2075, 'objective': 'binary', 'metric': 'auc', 'verbose': -1, 'learning_rate': 0.007877155758725746, 'n_estimators': 1511, 'min_child_samples': 30, 'subsample': 0.8, 'colsample_bytree': 0.6}. Best is trial 12 with value: 0.742901139840688.\n",
      "[I 2025-02-24 15:54:06,820] Trial 21 finished with value: 0.7426214785435955 and parameters: {'num_iterations': 1704, 'objective': 'binary', 'metric': 'auc', 'verbose': -1, 'learning_rate': 0.007686339708501757, 'n_estimators': 823, 'min_child_samples': 15, 'subsample': 0.9, 'colsample_bytree': 0.6}. Best is trial 12 with value: 0.742901139840688.\n",
      "[I 2025-02-24 15:54:22,516] Trial 22 finished with value: 0.7419470603996124 and parameters: {'num_iterations': 1639, 'objective': 'binary', 'metric': 'auc', 'verbose': -1, 'learning_rate': 0.014214699009773894, 'n_estimators': 525, 'min_child_samples': 15, 'subsample': 0.9, 'colsample_bytree': 0.6}. Best is trial 12 with value: 0.742901139840688.\n",
      "[I 2025-02-24 15:54:38,984] Trial 23 finished with value: 0.7427357282113942 and parameters: {'num_iterations': 1866, 'objective': 'binary', 'metric': 'auc', 'verbose': -1, 'learning_rate': 0.005972782628150647, 'n_estimators': 119, 'min_child_samples': 20, 'subsample': 1.0, 'colsample_bytree': 0.7}. Best is trial 12 with value: 0.742901139840688.\n",
      "[I 2025-02-24 15:54:55,077] Trial 24 finished with value: 0.7425614368067451 and parameters: {'num_iterations': 1881, 'objective': 'binary', 'metric': 'auc', 'verbose': -1, 'learning_rate': 0.008565639748398622, 'n_estimators': 308, 'min_child_samples': 20, 'subsample': 1.0, 'colsample_bytree': 0.7}. Best is trial 12 with value: 0.742901139840688.\n",
      "[I 2025-02-24 15:55:12,044] Trial 25 finished with value: 0.7425281416204396 and parameters: {'num_iterations': 1974, 'objective': 'binary', 'metric': 'auc', 'verbose': -1, 'learning_rate': 0.006157066201399996, 'n_estimators': 136, 'min_child_samples': 25, 'subsample': 1.0, 'colsample_bytree': 0.8}. Best is trial 12 with value: 0.742901139840688.\n",
      "[I 2025-02-24 15:55:29,819] Trial 26 finished with value: 0.7414481647561462 and parameters: {'num_iterations': 2177, 'objective': 'binary', 'metric': 'auc', 'verbose': -1, 'learning_rate': 0.014227992738773574, 'n_estimators': 1840, 'min_child_samples': 35, 'subsample': 0.8, 'colsample_bytree': 0.7}. Best is trial 12 with value: 0.742901139840688.\n",
      "[I 2025-02-24 15:55:45,301] Trial 27 finished with value: 0.7421133059970746 and parameters: {'num_iterations': 1841, 'objective': 'binary', 'metric': 'auc', 'verbose': -1, 'learning_rate': 0.009813550822062716, 'n_estimators': 1231, 'min_child_samples': 20, 'subsample': 1.0, 'colsample_bytree': 0.9}. Best is trial 12 with value: 0.742901139840688.\n",
      "[I 2025-02-24 15:56:04,884] Trial 28 finished with value: 0.7424368657900428 and parameters: {'num_iterations': 2253, 'objective': 'binary', 'metric': 'auc', 'verbose': -1, 'learning_rate': 0.00683431328728959, 'n_estimators': 1797, 'min_child_samples': 15, 'subsample': 0.9, 'colsample_bytree': 0.7}. Best is trial 12 with value: 0.742901139840688.\n",
      "[I 2025-02-24 15:56:25,648] Trial 29 finished with value: 0.7385775907225124 and parameters: {'num_iterations': 2010, 'objective': 'binary', 'metric': 'auc', 'verbose': -1, 'learning_rate': 0.04030098468148633, 'n_estimators': 315, 'min_child_samples': 35, 'subsample': 1.0, 'colsample_bytree': 0.5}. Best is trial 12 with value: 0.742901139840688.\n",
      "[I 2025-02-24 15:56:39,261] Trial 30 finished with value: 0.7419090671926247 and parameters: {'num_iterations': 1666, 'objective': 'binary', 'metric': 'auc', 'verbose': -1, 'learning_rate': 0.01538558111434244, 'n_estimators': 1997, 'min_child_samples': 25, 'subsample': 0.8, 'colsample_bytree': 0.8}. Best is trial 12 with value: 0.742901139840688.\n",
      "[I 2025-02-24 15:56:55,709] Trial 31 finished with value: 0.7424162429486204 and parameters: {'num_iterations': 1598, 'objective': 'binary', 'metric': 'auc', 'verbose': -1, 'learning_rate': 0.005055908325389899, 'n_estimators': 652, 'min_child_samples': 10, 'subsample': 0.9, 'colsample_bytree': 0.6}. Best is trial 12 with value: 0.742901139840688.\n",
      "[I 2025-02-24 15:57:11,042] Trial 32 finished with value: 0.7425519653111179 and parameters: {'num_iterations': 1501, 'objective': 'binary', 'metric': 'auc', 'verbose': -1, 'learning_rate': 0.0059909966163269705, 'n_estimators': 979, 'min_child_samples': 10, 'subsample': 0.9, 'colsample_bytree': 0.6}. Best is trial 12 with value: 0.742901139840688.\n",
      "[I 2025-02-24 15:57:30,482] Trial 33 finished with value: 0.742742781199333 and parameters: {'num_iterations': 1778, 'objective': 'binary', 'metric': 'auc', 'verbose': -1, 'learning_rate': 0.00673411471072489, 'n_estimators': 449, 'min_child_samples': 15, 'subsample': 1.0, 'colsample_bytree': 0.5}. Best is trial 12 with value: 0.742901139840688.\n",
      "[I 2025-02-24 15:57:49,837] Trial 34 finished with value: 0.7426754720255863 and parameters: {'num_iterations': 1793, 'objective': 'binary', 'metric': 'auc', 'verbose': -1, 'learning_rate': 0.008890677402978516, 'n_estimators': 162, 'min_child_samples': 15, 'subsample': 1.0, 'colsample_bytree': 0.5}. Best is trial 12 with value: 0.742901139840688.\n",
      "[I 2025-02-24 15:58:11,079] Trial 35 finished with value: 0.7427974219994735 and parameters: {'num_iterations': 1961, 'objective': 'binary', 'metric': 'auc', 'verbose': -1, 'learning_rate': 0.00675235628671467, 'n_estimators': 379, 'min_child_samples': 20, 'subsample': 1.0, 'colsample_bytree': 0.5}. Best is trial 12 with value: 0.742901139840688.\n",
      "[I 2025-02-24 15:58:31,541] Trial 36 finished with value: 0.7424250472697129 and parameters: {'num_iterations': 1947, 'objective': 'binary', 'metric': 'auc', 'verbose': -1, 'learning_rate': 0.011424283815991918, 'n_estimators': 305, 'min_child_samples': 20, 'subsample': 0.5, 'colsample_bytree': 0.5}. Best is trial 12 with value: 0.742901139840688.\n",
      "[I 2025-02-24 15:58:50,159] Trial 37 finished with value: 0.7427597742935841 and parameters: {'num_iterations': 1704, 'objective': 'binary', 'metric': 'auc', 'verbose': -1, 'learning_rate': 0.007164595533054539, 'n_estimators': 390, 'min_child_samples': 15, 'subsample': 0.6, 'colsample_bytree': 0.5}. Best is trial 12 with value: 0.742901139840688.\n",
      "[I 2025-02-24 15:59:15,586] Trial 38 finished with value: 0.7427089181204175 and parameters: {'num_iterations': 2384, 'objective': 'binary', 'metric': 'auc', 'verbose': -1, 'learning_rate': 0.007059043665273918, 'n_estimators': 537, 'min_child_samples': 15, 'subsample': 0.6, 'colsample_bytree': 0.5}. Best is trial 12 with value: 0.742901139840688.\n",
      "[I 2025-02-24 15:59:34,534] Trial 39 finished with value: 0.7426042908567717 and parameters: {'num_iterations': 1699, 'objective': 'binary', 'metric': 'auc', 'verbose': -1, 'learning_rate': 0.0050386865583780275, 'n_estimators': 400, 'min_child_samples': 10, 'subsample': 0.6, 'colsample_bytree': 0.5}. Best is trial 12 with value: 0.742901139840688.\n"
     ]
    },
    {
     "name": "stdout",
     "output_type": "stream",
     "text": [
      "Cat val score : 0.7433378849992207\n",
      "LGBM val score : 0.7428804455162797\n",
      "Ensemble val score : 0.7434589136368457\n"
     ]
    },
    {
     "name": "stderr",
     "output_type": "stream",
     "text": [
      "[I 2025-02-24 15:59:52,294] A new study created in memory with name: no-name-a1e9f2b3-9448-46ca-8bd9-48c3769a55b0\n"
     ]
    },
    {
     "name": "stdout",
     "output_type": "stream",
     "text": [
      "==================================================\n",
      "0:\ttest: 0.7255051\tbest: 0.7255051 (0)\ttotal: 166ms\tremaining: 6m 31s\n",
      "300:\ttest: 0.7390583\tbest: 0.7390583 (300)\ttotal: 40.1s\tremaining: 4m 34s\n",
      "600:\ttest: 0.7406513\tbest: 0.7406525 (599)\ttotal: 1m 20s\tremaining: 3m 57s\n",
      "900:\ttest: 0.7412180\tbest: 0.7412190 (899)\ttotal: 2m 1s\tremaining: 3m 17s\n",
      "1200:\ttest: 0.7416052\tbest: 0.7416238 (1170)\ttotal: 2m 46s\tremaining: 2m 41s\n",
      "1500:\ttest: 0.7417580\tbest: 0.7417722 (1494)\ttotal: 3m 36s\tremaining: 2m 4s\n",
      "1800:\ttest: 0.7418534\tbest: 0.7418761 (1789)\ttotal: 4m 24s\tremaining: 1m 23s\n",
      "2100:\ttest: 0.7417335\tbest: 0.7418794 (1848)\ttotal: 5m 13s\tremaining: 39.5s\n"
     ]
    },
    {
     "name": "stderr",
     "output_type": "stream",
     "text": [
      "[I 2025-02-24 16:05:13,908] Trial 0 finished with value: 0.7418794383985143 and parameters: {'iterations': 2366, 'depth': 10, 'learning_rate': 0.01181021951839225, 'l2_leaf_reg': 9.980783802743254}. Best is trial 0 with value: 0.7418794383985143.\n"
     ]
    },
    {
     "name": "stdout",
     "output_type": "stream",
     "text": [
      "Stopped by overfitting detector  (300 iterations wait)\n",
      "\n",
      "bestTest = 0.7418794384\n",
      "bestIteration = 1848\n",
      "\n",
      "Shrink model to first 1849 iterations.\n",
      "저장 완료\n",
      "0:\ttest: 0.6927403\tbest: 0.6927403 (0)\ttotal: 57ms\tremaining: 2m 4s\n",
      "300:\ttest: 0.7299242\tbest: 0.7299242 (300)\ttotal: 12.9s\tremaining: 1m 20s\n"
     ]
    },
    {
     "name": "stderr",
     "output_type": "stream",
     "text": [
      "Training has stopped (degenerate solution on iteration 463, probably too small l2-regularization, try to increase it)\n",
      "[I 2025-02-24 16:05:33,886] Trial 1 finished with value: 0.7328286808153684 and parameters: {'iterations': 2193, 'depth': 4, 'learning_rate': 0.005671430811678843, 'l2_leaf_reg': 0.00012325230809466137}. Best is trial 0 with value: 0.7418794383985143.\n"
     ]
    },
    {
     "name": "stdout",
     "output_type": "stream",
     "text": [
      "\n",
      "bestTest = 0.7328286808\n",
      "bestIteration = 462\n",
      "\n",
      "Shrink model to first 463 iterations.\n",
      "0:\ttest: 0.6927403\tbest: 0.6927403 (0)\ttotal: 57.6ms\tremaining: 2m 25s\n",
      "300:\ttest: 0.7395916\tbest: 0.7397357 (221)\ttotal: 14.2s\tremaining: 1m 45s\n"
     ]
    },
    {
     "name": "stderr",
     "output_type": "stream",
     "text": [
      "[I 2025-02-24 16:05:59,089] Trial 2 finished with value: 0.7397356601688885 and parameters: {'iterations': 2535, 'depth': 4, 'learning_rate': 0.09275339199839054, 'l2_leaf_reg': 0.0008705394248343123}. Best is trial 0 with value: 0.7418794383985143.\n"
     ]
    },
    {
     "name": "stdout",
     "output_type": "stream",
     "text": [
      "Stopped by overfitting detector  (300 iterations wait)\n",
      "\n",
      "bestTest = 0.7397356602\n",
      "bestIteration = 221\n",
      "\n",
      "Shrink model to first 222 iterations.\n",
      "0:\ttest: 0.6927403\tbest: 0.6927403 (0)\ttotal: 53ms\tremaining: 2m 3s\n",
      "300:\ttest: 0.7395616\tbest: 0.7395616 (300)\ttotal: 13.6s\tremaining: 1m 32s\n",
      "600:\ttest: 0.7404216\tbest: 0.7404225 (581)\ttotal: 28.1s\tremaining: 1m 21s\n",
      "900:\ttest: 0.7403624\tbest: 0.7404928 (723)\ttotal: 42.8s\tremaining: 1m 8s\n"
     ]
    },
    {
     "name": "stderr",
     "output_type": "stream",
     "text": [
      "[I 2025-02-24 16:06:48,198] Trial 3 finished with value: 0.7404928366959698 and parameters: {'iterations': 2334, 'depth': 4, 'learning_rate': 0.04657568321363276, 'l2_leaf_reg': 0.0008640473331457248}. Best is trial 0 with value: 0.7418794383985143.\n"
     ]
    },
    {
     "name": "stdout",
     "output_type": "stream",
     "text": [
      "Stopped by overfitting detector  (300 iterations wait)\n",
      "\n",
      "bestTest = 0.7404928367\n",
      "bestIteration = 723\n",
      "\n",
      "Shrink model to first 724 iterations.\n",
      "0:\ttest: 0.7254912\tbest: 0.7254912 (0)\ttotal: 133ms\tremaining: 3m 51s\n",
      "300:\ttest: 0.7383407\tbest: 0.7383634 (296)\ttotal: 36.6s\tremaining: 2m 55s\n",
      "600:\ttest: 0.7393539\tbest: 0.7393718 (568)\ttotal: 1m 16s\tremaining: 2m 25s\n",
      "900:\ttest: 0.7395011\tbest: 0.7395431 (889)\ttotal: 1m 56s\tremaining: 1m 48s\n",
      "1200:\ttest: 0.7389226\tbest: 0.7395768 (916)\ttotal: 2m 39s\tremaining: 1m 11s\n"
     ]
    },
    {
     "name": "stderr",
     "output_type": "stream",
     "text": [
      "[I 2025-02-24 16:09:30,717] Trial 4 finished with value: 0.7395768167781316 and parameters: {'iterations': 1742, 'depth': 10, 'learning_rate': 0.012622767482095846, 'l2_leaf_reg': 0.00021158816350109617}. Best is trial 0 with value: 0.7418794383985143.\n"
     ]
    },
    {
     "name": "stdout",
     "output_type": "stream",
     "text": [
      "Stopped by overfitting detector  (300 iterations wait)\n",
      "\n",
      "bestTest = 0.7395768168\n",
      "bestIteration = 916\n",
      "\n",
      "Shrink model to first 917 iterations.\n",
      "0:\ttest: 0.6927403\tbest: 0.6927403 (0)\ttotal: 51.5ms\tremaining: 1m 47s\n",
      "300:\ttest: 0.7400885\tbest: 0.7400885 (300)\ttotal: 14s\tremaining: 1m 22s\n",
      "600:\ttest: 0.7402598\tbest: 0.7404788 (412)\ttotal: 28.8s\tremaining: 1m 10s\n"
     ]
    },
    {
     "name": "stderr",
     "output_type": "stream",
     "text": [
      "[I 2025-02-24 16:10:05,160] Trial 5 finished with value: 0.7404788075549382 and parameters: {'iterations': 2082, 'depth': 4, 'learning_rate': 0.06995196593094148, 'l2_leaf_reg': 0.0018080296485396804}. Best is trial 0 with value: 0.7418794383985143.\n"
     ]
    },
    {
     "name": "stdout",
     "output_type": "stream",
     "text": [
      "Stopped by overfitting detector  (300 iterations wait)\n",
      "\n",
      "bestTest = 0.7404788076\n",
      "bestIteration = 412\n",
      "\n",
      "Shrink model to first 413 iterations.\n",
      "0:\ttest: 0.6993296\tbest: 0.6993296 (0)\ttotal: 62.5ms\tremaining: 2m 4s\n",
      "300:\ttest: 0.7407090\tbest: 0.7407090 (299)\ttotal: 17.4s\tremaining: 1m 37s\n",
      "600:\ttest: 0.7410954\tbest: 0.7411028 (598)\ttotal: 35.4s\tremaining: 1m 22s\n",
      "900:\ttest: 0.7411215\tbest: 0.7411260 (884)\ttotal: 53.2s\tremaining: 1m 4s\n",
      "1200:\ttest: 0.7410457\tbest: 0.7411453 (966)\ttotal: 1m 11s\tremaining: 47.3s\n"
     ]
    },
    {
     "name": "stderr",
     "output_type": "stream",
     "text": [
      "[I 2025-02-24 16:11:20,678] Trial 6 finished with value: 0.7411453366912841 and parameters: {'iterations': 1997, 'depth': 5, 'learning_rate': 0.07985155992831598, 'l2_leaf_reg': 62.52181000710482}. Best is trial 0 with value: 0.7418794383985143.\n"
     ]
    },
    {
     "name": "stdout",
     "output_type": "stream",
     "text": [
      "Stopped by overfitting detector  (300 iterations wait)\n",
      "\n",
      "bestTest = 0.7411453367\n",
      "bestIteration = 966\n",
      "\n",
      "Shrink model to first 967 iterations.\n",
      "0:\ttest: 0.7070619\tbest: 0.7070619 (0)\ttotal: 85.3ms\tremaining: 2m 44s\n",
      "300:\ttest: 0.7395968\tbest: 0.7402519 (151)\ttotal: 24s\tremaining: 2m 9s\n"
     ]
    },
    {
     "name": "stderr",
     "output_type": "stream",
     "text": [
      "[I 2025-02-24 16:11:57,425] Trial 7 finished with value: 0.7402518992034053 and parameters: {'iterations': 1927, 'depth': 7, 'learning_rate': 0.0941937211034094, 'l2_leaf_reg': 0.05654822767791934}. Best is trial 0 with value: 0.7418794383985143.\n"
     ]
    },
    {
     "name": "stdout",
     "output_type": "stream",
     "text": [
      "Stopped by overfitting detector  (300 iterations wait)\n",
      "\n",
      "bestTest = 0.7402518992\n",
      "bestIteration = 151\n",
      "\n",
      "Shrink model to first 152 iterations.\n",
      "0:\ttest: 0.7070616\tbest: 0.7070616 (0)\ttotal: 84.3ms\tremaining: 2m 40s\n",
      "300:\ttest: 0.7408543\tbest: 0.7408742 (296)\ttotal: 23.4s\tremaining: 2m 4s\n",
      "600:\ttest: 0.7407190\tbest: 0.7410234 (393)\ttotal: 48.6s\tremaining: 1m 45s\n"
     ]
    },
    {
     "name": "stderr",
     "output_type": "stream",
     "text": [
      "[I 2025-02-24 16:12:54,023] Trial 8 finished with value: 0.7410233550373504 and parameters: {'iterations': 1904, 'depth': 7, 'learning_rate': 0.05155602859187331, 'l2_leaf_reg': 1.299974533316308}. Best is trial 0 with value: 0.7418794383985143.\n"
     ]
    },
    {
     "name": "stdout",
     "output_type": "stream",
     "text": [
      "Stopped by overfitting detector  (300 iterations wait)\n",
      "\n",
      "bestTest = 0.741023355\n",
      "bestIteration = 393\n",
      "\n",
      "Shrink model to first 394 iterations.\n",
      "0:\ttest: 0.7073575\tbest: 0.7073575 (0)\ttotal: 74.4ms\tremaining: 3m 16s\n",
      "300:\ttest: 0.7399809\tbest: 0.7399809 (300)\ttotal: 19.4s\tremaining: 2m 30s\n",
      "600:\ttest: 0.7406110\tbest: 0.7406252 (589)\ttotal: 40.5s\tremaining: 2m 17s\n",
      "900:\ttest: 0.7403619\tbest: 0.7406748 (609)\ttotal: 1m 2s\tremaining: 2m\n"
     ]
    },
    {
     "name": "stderr",
     "output_type": "stream",
     "text": [
      "[I 2025-02-24 16:13:57,082] Trial 9 finished with value: 0.7406747588774641 and parameters: {'iterations': 2639, 'depth': 6, 'learning_rate': 0.03968704290444751, 'l2_leaf_reg': 0.30557194377967184}. Best is trial 0 with value: 0.7418794383985143.\n"
     ]
    },
    {
     "name": "stdout",
     "output_type": "stream",
     "text": [
      "Stopped by overfitting detector  (300 iterations wait)\n",
      "\n",
      "bestTest = 0.7406747589\n",
      "bestIteration = 609\n",
      "\n",
      "Shrink model to first 610 iterations.\n",
      "0:\ttest: 0.7253226\tbest: 0.7253226 (0)\ttotal: 131ms\tremaining: 6m 26s\n",
      "300:\ttest: 0.7408189\tbest: 0.7408228 (298)\ttotal: 37s\tremaining: 5m 25s\n",
      "600:\ttest: 0.7415294\tbest: 0.7415428 (580)\ttotal: 1m 17s\tremaining: 5m 2s\n",
      "900:\ttest: 0.7416862\tbest: 0.7416862 (900)\ttotal: 2m 12s\tremaining: 5m 1s\n",
      "1200:\ttest: 0.7417369\tbest: 0.7417538 (1168)\ttotal: 3m 6s\tremaining: 4m 30s\n"
     ]
    },
    {
     "name": "stderr",
     "output_type": "stream",
     "text": [
      "[I 2025-02-24 16:17:52,875] Trial 10 finished with value: 0.7417538035292538 and parameters: {'iterations': 2945, 'depth': 10, 'learning_rate': 0.025911330134996406, 'l2_leaf_reg': 97.18545559492516}. Best is trial 0 with value: 0.7418794383985143.\n"
     ]
    },
    {
     "name": "stdout",
     "output_type": "stream",
     "text": [
      "Stopped by overfitting detector  (300 iterations wait)\n",
      "\n",
      "bestTest = 0.7417538035\n",
      "bestIteration = 1168\n",
      "\n",
      "Shrink model to first 1169 iterations.\n",
      "0:\ttest: 0.7253973\tbest: 0.7253973 (0)\ttotal: 127ms\tremaining: 6m 19s\n",
      "300:\ttest: 0.7407156\tbest: 0.7407156 (300)\ttotal: 35.9s\tremaining: 5m 21s\n",
      "600:\ttest: 0.7413647\tbest: 0.7413648 (599)\ttotal: 1m 16s\tremaining: 5m 6s\n",
      "900:\ttest: 0.7416961\tbest: 0.7417024 (876)\ttotal: 2m 8s\tremaining: 4m 57s\n"
     ]
    },
    {
     "name": "stderr",
     "output_type": "stream",
     "text": [
      "[I 2025-02-24 16:20:50,597] Trial 11 finished with value: 0.7417024043779624 and parameters: {'iterations': 2995, 'depth': 10, 'learning_rate': 0.026163874004606635, 'l2_leaf_reg': 73.1213351392818}. Best is trial 0 with value: 0.7418794383985143.\n"
     ]
    },
    {
     "name": "stdout",
     "output_type": "stream",
     "text": [
      "Stopped by overfitting detector  (300 iterations wait)\n",
      "\n",
      "bestTest = 0.7417024044\n",
      "bestIteration = 876\n",
      "\n",
      "Shrink model to first 877 iterations.\n",
      "0:\ttest: 0.7212620\tbest: 0.7212620 (0)\ttotal: 110ms\tremaining: 5m 12s\n",
      "300:\ttest: 0.7404086\tbest: 0.7404134 (297)\ttotal: 28.2s\tremaining: 3m 57s\n",
      "600:\ttest: 0.7409071\tbest: 0.7410139 (548)\ttotal: 58.7s\tremaining: 3m 38s\n",
      "900:\ttest: 0.7408069\tbest: 0.7410560 (776)\ttotal: 1m 32s\tremaining: 3m 17s\n"
     ]
    },
    {
     "name": "stderr",
     "output_type": "stream",
     "text": [
      "[I 2025-02-24 16:22:42,219] Trial 12 finished with value: 0.7410560235183201 and parameters: {'iterations': 2834, 'depth': 9, 'learning_rate': 0.02599223527222509, 'l2_leaf_reg': 4.031595942972541}. Best is trial 0 with value: 0.7418794383985143.\n"
     ]
    },
    {
     "name": "stdout",
     "output_type": "stream",
     "text": [
      "Stopped by overfitting detector  (300 iterations wait)\n",
      "\n",
      "bestTest = 0.7410560235\n",
      "bestIteration = 776\n",
      "\n",
      "Shrink model to first 777 iterations.\n",
      "0:\ttest: 0.7212504\tbest: 0.7212504 (0)\ttotal: 108ms\tremaining: 4m 24s\n",
      "300:\ttest: 0.7405176\tbest: 0.7405176 (300)\ttotal: 27.8s\tremaining: 3m 17s\n",
      "600:\ttest: 0.7413785\tbest: 0.7413908 (598)\ttotal: 57.2s\tremaining: 2m 54s\n",
      "900:\ttest: 0.7417868\tbest: 0.7417895 (894)\ttotal: 1m 30s\tremaining: 2m 34s\n",
      "1200:\ttest: 0.7416970\tbest: 0.7418512 (960)\ttotal: 2m 3s\tremaining: 2m 7s\n"
     ]
    },
    {
     "name": "stderr",
     "output_type": "stream",
     "text": [
      "[I 2025-02-24 16:24:52,386] Trial 13 finished with value: 0.7418512371645472 and parameters: {'iterations': 2440, 'depth': 9, 'learning_rate': 0.022316119918197153, 'l2_leaf_reg': 10.229612344837278}. Best is trial 0 with value: 0.7418794383985143.\n"
     ]
    },
    {
     "name": "stdout",
     "output_type": "stream",
     "text": [
      "Stopped by overfitting detector  (300 iterations wait)\n",
      "\n",
      "bestTest = 0.7418512372\n",
      "bestIteration = 960\n",
      "\n",
      "Shrink model to first 961 iterations.\n",
      "0:\ttest: 0.7171538\tbest: 0.7171538 (0)\ttotal: 98ms\tremaining: 3m 52s\n",
      "300:\ttest: 0.7393965\tbest: 0.7394015 (299)\ttotal: 26s\tremaining: 2m 59s\n",
      "600:\ttest: 0.7406153\tbest: 0.7406153 (600)\ttotal: 53.5s\tremaining: 2m 37s\n",
      "900:\ttest: 0.7411371\tbest: 0.7411520 (889)\ttotal: 1m 22s\tremaining: 2m 14s\n",
      "1200:\ttest: 0.7412020\tbest: 0.7412925 (1143)\ttotal: 1m 51s\tremaining: 1m 48s\n"
     ]
    },
    {
     "name": "stderr",
     "output_type": "stream",
     "text": [
      "[I 2025-02-24 16:27:08,311] Trial 14 finished with value: 0.7412924659676785 and parameters: {'iterations': 2370, 'depth': 8, 'learning_rate': 0.017758727932018253, 'l2_leaf_reg': 5.108626929126313}. Best is trial 0 with value: 0.7418794383985143.\n"
     ]
    },
    {
     "name": "stdout",
     "output_type": "stream",
     "text": [
      "Stopped by overfitting detector  (300 iterations wait)\n",
      "\n",
      "bestTest = 0.741292466\n",
      "bestIteration = 1143\n",
      "\n",
      "Shrink model to first 1144 iterations.\n",
      "0:\ttest: 0.7212638\tbest: 0.7212638 (0)\ttotal: 114ms\tremaining: 2m 52s\n",
      "300:\ttest: 0.7402474\tbest: 0.7402474 (300)\ttotal: 28.8s\tremaining: 1m 56s\n",
      "600:\ttest: 0.7398180\tbest: 0.7405060 (402)\ttotal: 1m 2s\tremaining: 1m 34s\n"
     ]
    },
    {
     "name": "stderr",
     "output_type": "stream",
     "text": [
      "[I 2025-02-24 16:28:22,901] Trial 15 finished with value: 0.7405060438635529 and parameters: {'iterations': 1513, 'depth': 9, 'learning_rate': 0.03632686569864703, 'l2_leaf_reg': 0.028369951060622515}. Best is trial 0 with value: 0.7418794383985143.\n"
     ]
    },
    {
     "name": "stdout",
     "output_type": "stream",
     "text": [
      "Stopped by overfitting detector  (300 iterations wait)\n",
      "\n",
      "bestTest = 0.7405060439\n",
      "bestIteration = 402\n",
      "\n",
      "Shrink model to first 403 iterations.\n",
      "0:\ttest: 0.7212620\tbest: 0.7212620 (0)\ttotal: 116ms\tremaining: 5m 1s\n",
      "300:\ttest: 0.7411897\tbest: 0.7412482 (250)\ttotal: 32.2s\tremaining: 4m 5s\n"
     ]
    },
    {
     "name": "stderr",
     "output_type": "stream",
     "text": [
      "[I 2025-02-24 16:29:23,875] Trial 16 finished with value: 0.7412482024989326 and parameters: {'iterations': 2597, 'depth': 9, 'learning_rate': 0.06522242113054028, 'l2_leaf_reg': 4.362107830119581}. Best is trial 0 with value: 0.7418794383985143.\n"
     ]
    },
    {
     "name": "stdout",
     "output_type": "stream",
     "text": [
      "Stopped by overfitting detector  (300 iterations wait)\n",
      "\n",
      "bestTest = 0.7412482025\n",
      "bestIteration = 250\n",
      "\n",
      "Shrink model to first 251 iterations.\n",
      "0:\ttest: 0.7171546\tbest: 0.7171546 (0)\ttotal: 105ms\tremaining: 4m 16s\n",
      "300:\ttest: 0.7352720\tbest: 0.7352720 (300)\ttotal: 24.8s\tremaining: 2m 56s\n",
      "600:\ttest: 0.7380855\tbest: 0.7380855 (600)\ttotal: 51.4s\tremaining: 2m 38s\n",
      "900:\ttest: 0.7392220\tbest: 0.7392220 (900)\ttotal: 1m 17s\tremaining: 2m 13s\n",
      "1200:\ttest: 0.7398547\tbest: 0.7398547 (1200)\ttotal: 1m 44s\tremaining: 1m 48s\n",
      "1500:\ttest: 0.7402086\tbest: 0.7402132 (1487)\ttotal: 2m 12s\tremaining: 1m 23s\n",
      "1800:\ttest: 0.7404726\tbest: 0.7404726 (1800)\ttotal: 2m 40s\tremaining: 57.9s\n",
      "2100:\ttest: 0.7406651\tbest: 0.7406683 (2097)\ttotal: 3m 8s\tremaining: 31.4s\n",
      "2400:\ttest: 0.7409744\tbest: 0.7409755 (2398)\ttotal: 3m 39s\tremaining: 4.67s\n"
     ]
    },
    {
     "name": "stderr",
     "output_type": "stream",
     "text": [
      "[I 2025-02-24 16:33:08,917] Trial 17 finished with value: 0.7410187130713537 and parameters: {'iterations': 2452, 'depth': 8, 'learning_rate': 0.005523304611431277, 'l2_leaf_reg': 0.3285101342399455}. Best is trial 0 with value: 0.7418794383985143.\n"
     ]
    },
    {
     "name": "stdout",
     "output_type": "stream",
     "text": [
      "2451:\ttest: 0.7410187\tbest: 0.7410187 (2444)\ttotal: 3m 44s\tremaining: 0us\n",
      "\n",
      "bestTest = 0.7410187131\n",
      "bestIteration = 2444\n",
      "\n",
      "Shrink model to first 2445 iterations.\n",
      "0:\ttest: 0.7171473\tbest: 0.7171473 (0)\ttotal: 103ms\tremaining: 4m 36s\n",
      "300:\ttest: 0.7407444\tbest: 0.7407499 (298)\ttotal: 25s\tremaining: 3m 18s\n",
      "600:\ttest: 0.7415711\tbest: 0.7415712 (597)\ttotal: 52.8s\tremaining: 3m 4s\n",
      "900:\ttest: 0.7415212\tbest: 0.7417074 (722)\ttotal: 1m 21s\tremaining: 2m 43s\n"
     ]
    },
    {
     "name": "stderr",
     "output_type": "stream",
     "text": [
      "[I 2025-02-24 16:34:42,569] Trial 18 finished with value: 0.7417074315199228 and parameters: {'iterations': 2695, 'depth': 8, 'learning_rate': 0.035020115869573744, 'l2_leaf_reg': 13.010060937715274}. Best is trial 0 with value: 0.7418794383985143.\n"
     ]
    },
    {
     "name": "stdout",
     "output_type": "stream",
     "text": [
      "Stopped by overfitting detector  (300 iterations wait)\n",
      "\n",
      "bestTest = 0.7417074315\n",
      "bestIteration = 722\n",
      "\n",
      "Shrink model to first 723 iterations.\n",
      "0:\ttest: 0.7212638\tbest: 0.7212638 (0)\ttotal: 130ms\tremaining: 4m 44s\n",
      "300:\ttest: 0.7395580\tbest: 0.7395734 (295)\ttotal: 28.3s\tremaining: 2m 57s\n",
      "600:\ttest: 0.7404535\tbest: 0.7404630 (589)\ttotal: 56.5s\tremaining: 2m 29s\n",
      "900:\ttest: 0.7403062\tbest: 0.7405416 (788)\ttotal: 1m 27s\tremaining: 2m 5s\n"
     ]
    },
    {
     "name": "stderr",
     "output_type": "stream",
     "text": [
      "[I 2025-02-24 16:36:31,187] Trial 19 finished with value: 0.7405416230041253 and parameters: {'iterations': 2189, 'depth': 9, 'learning_rate': 0.01770769136411944, 'l2_leaf_reg': 0.01183860899423477}. Best is trial 0 with value: 0.7418794383985143.\n",
      "[I 2025-02-24 16:36:31,198] A new study created in memory with name: no-name-dcc24a08-1ac3-42af-9393-39aa75e2327a\n"
     ]
    },
    {
     "name": "stdout",
     "output_type": "stream",
     "text": [
      "Stopped by overfitting detector  (300 iterations wait)\n",
      "\n",
      "bestTest = 0.740541623\n",
      "bestIteration = 788\n",
      "\n",
      "Shrink model to first 789 iterations.\n"
     ]
    },
    {
     "name": "stderr",
     "output_type": "stream",
     "text": [
      "[I 2025-02-24 16:36:54,453] Trial 0 finished with value: 0.7308979803405553 and parameters: {'num_iterations': 2366, 'objective': 'binary', 'metric': 'auc', 'verbose': -1, 'learning_rate': 0.0652646236447618, 'n_estimators': 236, 'min_child_samples': 45, 'subsample': 0.7, 'colsample_bytree': 0.5}. Best is trial 0 with value: 0.7308979803405553.\n",
      "[I 2025-02-24 16:37:11,405] Trial 1 finished with value: 0.740717628565145 and parameters: {'num_iterations': 1510, 'objective': 'binary', 'metric': 'auc', 'verbose': -1, 'learning_rate': 0.005231880959249543, 'n_estimators': 1411, 'min_child_samples': 10, 'subsample': 1.0, 'colsample_bytree': 0.5}. Best is trial 1 with value: 0.740717628565145.\n",
      "[I 2025-02-24 16:37:30,893] Trial 2 finished with value: 0.7400454250323841 and parameters: {'num_iterations': 2334, 'objective': 'binary', 'metric': 'auc', 'verbose': -1, 'learning_rate': 0.006578527777128852, 'n_estimators': 931, 'min_child_samples': 15, 'subsample': 0.5, 'colsample_bytree': 1.0}. Best is trial 1 with value: 0.740717628565145.\n",
      "[I 2025-02-24 16:37:47,369] Trial 3 finished with value: 0.7407214604703518 and parameters: {'num_iterations': 1620, 'objective': 'binary', 'metric': 'auc', 'verbose': -1, 'learning_rate': 0.0058823249237283685, 'n_estimators': 837, 'min_child_samples': 10, 'subsample': 0.9, 'colsample_bytree': 0.6}. Best is trial 3 with value: 0.7407214604703518.\n",
      "[I 2025-02-24 16:38:03,755] Trial 4 finished with value: 0.7402694544914042 and parameters: {'num_iterations': 1997, 'objective': 'binary', 'metric': 'auc', 'verbose': -1, 'learning_rate': 0.010907507425244923, 'n_estimators': 1597, 'min_child_samples': 50, 'subsample': 0.6, 'colsample_bytree': 0.8}. Best is trial 3 with value: 0.7407214604703518.\n",
      "[I 2025-02-24 16:38:26,202] Trial 5 finished with value: 0.7362334377909369 and parameters: {'num_iterations': 2909, 'objective': 'binary', 'metric': 'auc', 'verbose': -1, 'learning_rate': 0.019760591962733942, 'n_estimators': 612, 'min_child_samples': 30, 'subsample': 0.7, 'colsample_bytree': 0.9}. Best is trial 3 with value: 0.7407214604703518.\n",
      "[I 2025-02-24 16:38:47,310] Trial 6 finished with value: 0.737847241690595 and parameters: {'num_iterations': 2639, 'objective': 'binary', 'metric': 'auc', 'verbose': -1, 'learning_rate': 0.017862094446750985, 'n_estimators': 794, 'min_child_samples': 35, 'subsample': 1.0, 'colsample_bytree': 0.8}. Best is trial 3 with value: 0.7407214604703518.\n",
      "[I 2025-02-24 16:39:04,097] Trial 7 finished with value: 0.7398875823049559 and parameters: {'num_iterations': 1580, 'objective': 'binary', 'metric': 'auc', 'verbose': -1, 'learning_rate': 0.01776722177611332, 'n_estimators': 529, 'min_child_samples': 25, 'subsample': 0.8, 'colsample_bytree': 0.5}. Best is trial 3 with value: 0.7407214604703518.\n",
      "[I 2025-02-24 16:39:21,681] Trial 8 finished with value: 0.7372758430755321 and parameters: {'num_iterations': 1911, 'objective': 'binary', 'metric': 'auc', 'verbose': -1, 'learning_rate': 0.0304747553332844, 'n_estimators': 1328, 'min_child_samples': 10, 'subsample': 0.7, 'colsample_bytree': 0.6}. Best is trial 3 with value: 0.7407214604703518.\n",
      "[I 2025-02-24 16:39:49,004] Trial 9 finished with value: 0.7356883899768605 and parameters: {'num_iterations': 2739, 'objective': 'binary', 'metric': 'auc', 'verbose': -1, 'learning_rate': 0.02691531614176271, 'n_estimators': 1438, 'min_child_samples': 20, 'subsample': 0.6, 'colsample_bytree': 0.5}. Best is trial 3 with value: 0.7407214604703518.\n",
      "[I 2025-02-24 16:40:03,451] Trial 10 finished with value: 0.72858520119321 and parameters: {'num_iterations': 1883, 'objective': 'binary', 'metric': 'auc', 'verbose': -1, 'learning_rate': 0.08223556891145911, 'n_estimators': 1917, 'min_child_samples': 40, 'subsample': 0.9, 'colsample_bytree': 0.7}. Best is trial 3 with value: 0.7407214604703518.\n",
      "[I 2025-02-24 16:40:19,131] Trial 11 finished with value: 0.7406979567947883 and parameters: {'num_iterations': 1513, 'objective': 'binary', 'metric': 'auc', 'verbose': -1, 'learning_rate': 0.005340229419903739, 'n_estimators': 1206, 'min_child_samples': 10, 'subsample': 1.0, 'colsample_bytree': 0.6}. Best is trial 3 with value: 0.7407214604703518.\n",
      "[I 2025-02-24 16:40:35,937] Trial 12 finished with value: 0.7405586859022325 and parameters: {'num_iterations': 1698, 'objective': 'binary', 'metric': 'auc', 'verbose': -1, 'learning_rate': 0.008515343845233947, 'n_estimators': 1719, 'min_child_samples': 20, 'subsample': 0.9, 'colsample_bytree': 0.6}. Best is trial 3 with value: 0.7407214604703518.\n",
      "[I 2025-02-24 16:40:50,777] Trial 13 finished with value: 0.7402321321317792 and parameters: {'num_iterations': 1740, 'objective': 'binary', 'metric': 'auc', 'verbose': -1, 'learning_rate': 0.010074542479113706, 'n_estimators': 1082, 'min_child_samples': 10, 'subsample': 0.9, 'colsample_bytree': 0.7}. Best is trial 3 with value: 0.7407214604703518.\n",
      "[I 2025-02-24 16:41:12,344] Trial 14 finished with value: 0.7408257557970412 and parameters: {'num_iterations': 2165, 'objective': 'binary', 'metric': 'auc', 'verbose': -1, 'learning_rate': 0.005262187136940254, 'n_estimators': 251, 'min_child_samples': 20, 'subsample': 1.0, 'colsample_bytree': 0.6}. Best is trial 14 with value: 0.7408257557970412.\n",
      "[I 2025-02-24 16:41:30,080] Trial 15 finished with value: 0.7394274439510203 and parameters: {'num_iterations': 2153, 'objective': 'binary', 'metric': 'auc', 'verbose': -1, 'learning_rate': 0.012915147920823086, 'n_estimators': 188, 'min_child_samples': 20, 'subsample': 0.8, 'colsample_bytree': 0.7}. Best is trial 14 with value: 0.7408257557970412.\n",
      "[I 2025-02-24 16:41:52,450] Trial 16 finished with value: 0.7334132865980144 and parameters: {'num_iterations': 2503, 'objective': 'binary', 'metric': 'auc', 'verbose': -1, 'learning_rate': 0.03901437770924474, 'n_estimators': 444, 'min_child_samples': 25, 'subsample': 0.9, 'colsample_bytree': 0.6}. Best is trial 14 with value: 0.7408257557970412.\n",
      "[I 2025-02-24 16:42:13,000] Trial 17 finished with value: 0.7403103744739489 and parameters: {'num_iterations': 2103, 'objective': 'binary', 'metric': 'auc', 'verbose': -1, 'learning_rate': 0.007238111112271453, 'n_estimators': 116, 'min_child_samples': 15, 'subsample': 1.0, 'colsample_bytree': 0.6}. Best is trial 14 with value: 0.7408257557970412.\n",
      "[I 2025-02-24 16:42:27,609] Trial 18 finished with value: 0.7398031175840721 and parameters: {'num_iterations': 1753, 'objective': 'binary', 'metric': 'auc', 'verbose': -1, 'learning_rate': 0.013508700117868075, 'n_estimators': 756, 'min_child_samples': 30, 'subsample': 0.8, 'colsample_bytree': 0.7}. Best is trial 14 with value: 0.7408257557970412.\n",
      "[I 2025-02-24 16:42:44,495] Trial 19 finished with value: 0.7319791851544512 and parameters: {'num_iterations': 2202, 'objective': 'binary', 'metric': 'auc', 'verbose': -1, 'learning_rate': 0.04570242881302624, 'n_estimators': 414, 'min_child_samples': 15, 'subsample': 0.9, 'colsample_bytree': 0.8}. Best is trial 14 with value: 0.7408257557970412.\n",
      "[I 2025-02-24 16:43:01,546] Trial 20 finished with value: 0.7405297143163377 and parameters: {'num_iterations': 1973, 'objective': 'binary', 'metric': 'auc', 'verbose': -1, 'learning_rate': 0.00688976659636273, 'n_estimators': 946, 'min_child_samples': 25, 'subsample': 1.0, 'colsample_bytree': 0.9}. Best is trial 14 with value: 0.7408257557970412.\n",
      "[I 2025-02-24 16:43:19,674] Trial 21 finished with value: 0.7407093572091392 and parameters: {'num_iterations': 1623, 'objective': 'binary', 'metric': 'auc', 'verbose': -1, 'learning_rate': 0.0053196069822991025, 'n_estimators': 1452, 'min_child_samples': 10, 'subsample': 1.0, 'colsample_bytree': 0.5}. Best is trial 14 with value: 0.7408257557970412.\n",
      "[I 2025-02-24 16:43:40,115] Trial 22 finished with value: 0.7407987775960312 and parameters: {'num_iterations': 1841, 'objective': 'binary', 'metric': 'auc', 'verbose': -1, 'learning_rate': 0.0050082351001427125, 'n_estimators': 1169, 'min_child_samples': 15, 'subsample': 1.0, 'colsample_bytree': 0.5}. Best is trial 14 with value: 0.7408257557970412.\n",
      "[I 2025-02-24 16:43:57,992] Trial 23 finished with value: 0.7404375818141543 and parameters: {'num_iterations': 1814, 'objective': 'binary', 'metric': 'auc', 'verbose': -1, 'learning_rate': 0.00811109054394707, 'n_estimators': 1124, 'min_child_samples': 15, 'subsample': 0.9, 'colsample_bytree': 0.6}. Best is trial 14 with value: 0.7408257557970412.\n",
      "[I 2025-02-24 16:44:20,429] Trial 24 finished with value: 0.7407824096030133 and parameters: {'num_iterations': 2039, 'objective': 'binary', 'metric': 'auc', 'verbose': -1, 'learning_rate': 0.0050360807966895235, 'n_estimators': 746, 'min_child_samples': 20, 'subsample': 1.0, 'colsample_bytree': 0.5}. Best is trial 14 with value: 0.7408257557970412.\n",
      "[I 2025-02-24 16:44:42,263] Trial 25 finished with value: 0.7407199277082691 and parameters: {'num_iterations': 2058, 'objective': 'binary', 'metric': 'auc', 'verbose': -1, 'learning_rate': 0.009127678775315161, 'n_estimators': 653, 'min_child_samples': 20, 'subsample': 1.0, 'colsample_bytree': 0.5}. Best is trial 14 with value: 0.7408257557970412.\n",
      "[I 2025-02-24 16:45:06,647] Trial 26 finished with value: 0.7396119114705847 and parameters: {'num_iterations': 2332, 'objective': 'binary', 'metric': 'auc', 'verbose': -1, 'learning_rate': 0.01146511689717718, 'n_estimators': 368, 'min_child_samples': 25, 'subsample': 1.0, 'colsample_bytree': 0.5}. Best is trial 14 with value: 0.7408257557970412.\n",
      "[I 2025-02-24 16:45:31,248] Trial 27 finished with value: 0.7408097570964423 and parameters: {'num_iterations': 2248, 'objective': 'binary', 'metric': 'auc', 'verbose': -1, 'learning_rate': 0.005019063948442305, 'n_estimators': 1231, 'min_child_samples': 35, 'subsample': 1.0, 'colsample_bytree': 0.5}. Best is trial 14 with value: 0.7408257557970412.\n",
      "[I 2025-02-24 16:45:53,056] Trial 28 finished with value: 0.7405291107416316 and parameters: {'num_iterations': 2253, 'objective': 'binary', 'metric': 'auc', 'verbose': -1, 'learning_rate': 0.007407284871228509, 'n_estimators': 1250, 'min_child_samples': 35, 'subsample': 0.8, 'colsample_bytree': 0.6}. Best is trial 14 with value: 0.7408257557970412.\n",
      "[I 2025-02-24 16:46:18,876] Trial 29 finished with value: 0.7408979981301256 and parameters: {'num_iterations': 2412, 'objective': 'binary', 'metric': 'auc', 'verbose': -1, 'learning_rate': 0.006526883971109821, 'n_estimators': 1605, 'min_child_samples': 40, 'subsample': 0.9, 'colsample_bytree': 0.5}. Best is trial 29 with value: 0.7408979981301256.\n",
      "[I 2025-02-24 16:46:44,132] Trial 30 finished with value: 0.7391955322828444 and parameters: {'num_iterations': 2478, 'objective': 'binary', 'metric': 'auc', 'verbose': -1, 'learning_rate': 0.015481367539574608, 'n_estimators': 1970, 'min_child_samples': 45, 'subsample': 0.9, 'colsample_bytree': 0.5}. Best is trial 29 with value: 0.7408979981301256.\n",
      "[I 2025-02-24 16:47:11,124] Trial 31 finished with value: 0.7408069814469712 and parameters: {'num_iterations': 2539, 'objective': 'binary', 'metric': 'auc', 'verbose': -1, 'learning_rate': 0.006499890892665344, 'n_estimators': 1582, 'min_child_samples': 40, 'subsample': 1.0, 'colsample_bytree': 0.5}. Best is trial 29 with value: 0.7408979981301256.\n",
      "[I 2025-02-24 16:47:37,248] Trial 32 finished with value: 0.7409245276209921 and parameters: {'num_iterations': 2423, 'objective': 'binary', 'metric': 'auc', 'verbose': -1, 'learning_rate': 0.006141180520369799, 'n_estimators': 1659, 'min_child_samples': 40, 'subsample': 1.0, 'colsample_bytree': 0.5}. Best is trial 32 with value: 0.7409245276209921.\n",
      "[I 2025-02-24 16:48:03,546] Trial 33 finished with value: 0.741054534435986 and parameters: {'num_iterations': 2390, 'objective': 'binary', 'metric': 'auc', 'verbose': -1, 'learning_rate': 0.006475726714199329, 'n_estimators': 1717, 'min_child_samples': 40, 'subsample': 0.9, 'colsample_bytree': 0.5}. Best is trial 33 with value: 0.741054534435986.\n",
      "[I 2025-02-24 16:48:27,484] Trial 34 finished with value: 0.7408446611863566 and parameters: {'num_iterations': 2424, 'objective': 'binary', 'metric': 'auc', 'verbose': -1, 'learning_rate': 0.006431830715701771, 'n_estimators': 1811, 'min_child_samples': 45, 'subsample': 0.9, 'colsample_bytree': 0.6}. Best is trial 33 with value: 0.741054534435986.\n",
      "[I 2025-02-24 16:48:53,080] Trial 35 finished with value: 0.7406521168842114 and parameters: {'num_iterations': 2426, 'objective': 'binary', 'metric': 'auc', 'verbose': -1, 'learning_rate': 0.009016745224291741, 'n_estimators': 1843, 'min_child_samples': 50, 'subsample': 0.8, 'colsample_bytree': 0.5}. Best is trial 33 with value: 0.741054534435986.\n",
      "[I 2025-02-24 16:49:21,304] Trial 36 finished with value: 0.7410207461651007 and parameters: {'num_iterations': 2597, 'objective': 'binary', 'metric': 'auc', 'verbose': -1, 'learning_rate': 0.006281802486709837, 'n_estimators': 1740, 'min_child_samples': 45, 'subsample': 0.9, 'colsample_bytree': 0.5}. Best is trial 33 with value: 0.741054534435986.\n",
      "[I 2025-02-24 16:49:42,537] Trial 37 finished with value: 0.7394903864685667 and parameters: {'num_iterations': 2618, 'objective': 'binary', 'metric': 'auc', 'verbose': -1, 'learning_rate': 0.01025580899406994, 'n_estimators': 1592, 'min_child_samples': 40, 'subsample': 0.8, 'colsample_bytree': 1.0}. Best is trial 33 with value: 0.741054534435986.\n",
      "[I 2025-02-24 16:50:11,884] Trial 38 finished with value: 0.740573934105335 and parameters: {'num_iterations': 2790, 'objective': 'binary', 'metric': 'auc', 'verbose': -1, 'learning_rate': 0.008096888101140641, 'n_estimators': 1727, 'min_child_samples': 45, 'subsample': 0.9, 'colsample_bytree': 0.5}. Best is trial 33 with value: 0.741054534435986.\n",
      "[I 2025-02-24 16:50:39,677] Trial 39 finished with value: 0.7408241158210305 and parameters: {'num_iterations': 2590, 'objective': 'binary', 'metric': 'auc', 'verbose': -1, 'learning_rate': 0.006104447966892202, 'n_estimators': 1531, 'min_child_samples': 40, 'subsample': 0.5, 'colsample_bytree': 0.5}. Best is trial 33 with value: 0.741054534435986.\n"
     ]
    },
    {
     "name": "stdout",
     "output_type": "stream",
     "text": [
      "Cat val score : 0.7418794383985143\n",
      "LGBM val score : 0.7406741433900994\n",
      "Ensemble val score : 0.7417994051866572\n"
     ]
    },
    {
     "name": "stderr",
     "output_type": "stream",
     "text": [
      "[I 2025-02-24 16:51:07,146] A new study created in memory with name: no-name-0d2f3c20-b118-4cea-a881-a00f85ecdb0a\n"
     ]
    },
    {
     "name": "stdout",
     "output_type": "stream",
     "text": [
      "==================================================\n",
      "0:\ttest: 0.7265836\tbest: 0.7265836 (0)\ttotal: 170ms\tremaining: 6m 41s\n",
      "300:\ttest: 0.7412289\tbest: 0.7412291 (299)\ttotal: 39.5s\tremaining: 4m 30s\n",
      "600:\ttest: 0.7428829\tbest: 0.7428829 (600)\ttotal: 1m 20s\tremaining: 3m 57s\n",
      "900:\ttest: 0.7434205\tbest: 0.7434205 (900)\ttotal: 2m 1s\tremaining: 3m 17s\n",
      "1200:\ttest: 0.7438974\tbest: 0.7438976 (1199)\ttotal: 2m 45s\tremaining: 2m 40s\n",
      "1500:\ttest: 0.7439032\tbest: 0.7440011 (1388)\ttotal: 3m 35s\tremaining: 2m 4s\n"
     ]
    },
    {
     "name": "stderr",
     "output_type": "stream",
     "text": [
      "[I 2025-02-24 16:55:14,589] Trial 0 finished with value: 0.7440010590830067 and parameters: {'iterations': 2366, 'depth': 10, 'learning_rate': 0.01181021951839225, 'l2_leaf_reg': 9.980783802743254}. Best is trial 0 with value: 0.7440010590830067.\n"
     ]
    },
    {
     "name": "stdout",
     "output_type": "stream",
     "text": [
      "Stopped by overfitting detector  (300 iterations wait)\n",
      "\n",
      "bestTest = 0.7440010591\n",
      "bestIteration = 1388\n",
      "\n",
      "Shrink model to first 1389 iterations.\n",
      "저장 완료\n",
      "0:\ttest: 0.7030701\tbest: 0.7030701 (0)\ttotal: 66.6ms\tremaining: 2m 26s\n",
      "300:\ttest: 0.7309980\tbest: 0.7309980 (300)\ttotal: 13s\tremaining: 1m 21s\n"
     ]
    },
    {
     "name": "stderr",
     "output_type": "stream",
     "text": [
      "Training has stopped (degenerate solution on iteration 343, probably too small l2-regularization, try to increase it)\n",
      "[I 2025-02-24 16:55:29,580] Trial 1 finished with value: 0.7320056074313896 and parameters: {'iterations': 2193, 'depth': 4, 'learning_rate': 0.005671430811678843, 'l2_leaf_reg': 0.00012325230809466137}. Best is trial 0 with value: 0.7440010590830067.\n"
     ]
    },
    {
     "name": "stdout",
     "output_type": "stream",
     "text": [
      "\n",
      "bestTest = 0.7320056074\n",
      "bestIteration = 342\n",
      "\n",
      "Shrink model to first 343 iterations.\n",
      "0:\ttest: 0.7030701\tbest: 0.7030701 (0)\ttotal: 56.1ms\tremaining: 2m 22s\n",
      "300:\ttest: 0.7430617\tbest: 0.7430617 (300)\ttotal: 14.1s\tremaining: 1m 44s\n",
      "600:\ttest: 0.7431353\tbest: 0.7433487 (461)\ttotal: 29s\tremaining: 1m 33s\n"
     ]
    },
    {
     "name": "stderr",
     "output_type": "stream",
     "text": [
      "[I 2025-02-24 16:56:06,815] Trial 2 finished with value: 0.7433486861560517 and parameters: {'iterations': 2535, 'depth': 4, 'learning_rate': 0.09275339199839054, 'l2_leaf_reg': 0.0008705394248343123}. Best is trial 0 with value: 0.7440010590830067.\n"
     ]
    },
    {
     "name": "stdout",
     "output_type": "stream",
     "text": [
      "Stopped by overfitting detector  (300 iterations wait)\n",
      "\n",
      "bestTest = 0.7433486862\n",
      "bestIteration = 461\n",
      "\n",
      "Shrink model to first 462 iterations.\n",
      "0:\ttest: 0.7030701\tbest: 0.7030701 (0)\ttotal: 54.7ms\tremaining: 2m 7s\n",
      "300:\ttest: 0.7418726\tbest: 0.7418726 (300)\ttotal: 13.6s\tremaining: 1m 32s\n",
      "600:\ttest: 0.7430074\tbest: 0.7430098 (598)\ttotal: 28.2s\tremaining: 1m 21s\n",
      "900:\ttest: 0.7432274\tbest: 0.7433155 (799)\ttotal: 43s\tremaining: 1m 8s\n"
     ]
    },
    {
     "name": "stderr",
     "output_type": "stream",
     "text": [
      "[I 2025-02-24 16:56:59,923] Trial 3 finished with value: 0.7433155173434174 and parameters: {'iterations': 2334, 'depth': 4, 'learning_rate': 0.04657568321363276, 'l2_leaf_reg': 0.0008640473331457248}. Best is trial 0 with value: 0.7440010590830067.\n"
     ]
    },
    {
     "name": "stdout",
     "output_type": "stream",
     "text": [
      "Stopped by overfitting detector  (300 iterations wait)\n",
      "\n",
      "bestTest = 0.7433155173\n",
      "bestIteration = 799\n",
      "\n",
      "Shrink model to first 800 iterations.\n",
      "0:\ttest: 0.7265752\tbest: 0.7265752 (0)\ttotal: 134ms\tremaining: 3m 52s\n",
      "300:\ttest: 0.7406658\tbest: 0.7406877 (293)\ttotal: 38.1s\tremaining: 3m 2s\n",
      "600:\ttest: 0.7420792\tbest: 0.7420867 (594)\ttotal: 1m 17s\tremaining: 2m 26s\n",
      "900:\ttest: 0.7421220\tbest: 0.7422726 (863)\ttotal: 1m 56s\tremaining: 1m 48s\n",
      "1200:\ttest: 0.7419598\tbest: 0.7423771 (988)\ttotal: 2m 41s\tremaining: 1m 12s\n"
     ]
    },
    {
     "name": "stderr",
     "output_type": "stream",
     "text": [
      "[I 2025-02-24 16:59:54,631] Trial 4 finished with value: 0.7423771373652484 and parameters: {'iterations': 1742, 'depth': 10, 'learning_rate': 0.012622767482095846, 'l2_leaf_reg': 0.00021158816350109617}. Best is trial 0 with value: 0.7440010590830067.\n"
     ]
    },
    {
     "name": "stdout",
     "output_type": "stream",
     "text": [
      "Stopped by overfitting detector  (300 iterations wait)\n",
      "\n",
      "bestTest = 0.7423771374\n",
      "bestIteration = 988\n",
      "\n",
      "Shrink model to first 989 iterations.\n",
      "0:\ttest: 0.7030701\tbest: 0.7030701 (0)\ttotal: 55.1ms\tremaining: 1m 54s\n",
      "300:\ttest: 0.7430835\tbest: 0.7430905 (299)\ttotal: 14.2s\tremaining: 1m 24s\n",
      "600:\ttest: 0.7430492\tbest: 0.7433623 (528)\ttotal: 29s\tremaining: 1m 11s\n"
     ]
    },
    {
     "name": "stderr",
     "output_type": "stream",
     "text": [
      "[I 2025-02-24 17:00:35,181] Trial 5 finished with value: 0.7433623301211194 and parameters: {'iterations': 2082, 'depth': 4, 'learning_rate': 0.06995196593094148, 'l2_leaf_reg': 0.0018080296485396804}. Best is trial 0 with value: 0.7440010590830067.\n"
     ]
    },
    {
     "name": "stdout",
     "output_type": "stream",
     "text": [
      "Stopped by overfitting detector  (300 iterations wait)\n",
      "\n",
      "bestTest = 0.7433623301\n",
      "bestIteration = 528\n",
      "\n",
      "Shrink model to first 529 iterations.\n",
      "0:\ttest: 0.7061789\tbest: 0.7061789 (0)\ttotal: 61.9ms\tremaining: 2m 3s\n",
      "300:\ttest: 0.7432183\tbest: 0.7432480 (288)\ttotal: 17.3s\tremaining: 1m 37s\n",
      "600:\ttest: 0.7437107\tbest: 0.7437338 (574)\ttotal: 35.1s\tremaining: 1m 21s\n",
      "900:\ttest: 0.7436443\tbest: 0.7437851 (732)\ttotal: 53.3s\tremaining: 1m 4s\n"
     ]
    },
    {
     "name": "stderr",
     "output_type": "stream",
     "text": [
      "[I 2025-02-24 17:01:36,763] Trial 6 finished with value: 0.7437850666977053 and parameters: {'iterations': 1997, 'depth': 5, 'learning_rate': 0.07985155992831598, 'l2_leaf_reg': 62.52181000710482}. Best is trial 0 with value: 0.7440010590830067.\n"
     ]
    },
    {
     "name": "stdout",
     "output_type": "stream",
     "text": [
      "Stopped by overfitting detector  (300 iterations wait)\n",
      "\n",
      "bestTest = 0.7437850667\n",
      "bestIteration = 732\n",
      "\n",
      "Shrink model to first 733 iterations.\n",
      "0:\ttest: 0.7212612\tbest: 0.7212612 (0)\ttotal: 81.4ms\tremaining: 2m 36s\n",
      "300:\ttest: 0.7434333\tbest: 0.7435576 (293)\ttotal: 23.9s\tremaining: 2m 9s\n"
     ]
    },
    {
     "name": "stderr",
     "output_type": "stream",
     "text": [
      "[I 2025-02-24 17:02:25,700] Trial 7 finished with value: 0.7435575666841248 and parameters: {'iterations': 1927, 'depth': 7, 'learning_rate': 0.0941937211034094, 'l2_leaf_reg': 0.05654822767791934}. Best is trial 0 with value: 0.7440010590830067.\n"
     ]
    },
    {
     "name": "stdout",
     "output_type": "stream",
     "text": [
      "Stopped by overfitting detector  (300 iterations wait)\n",
      "\n",
      "bestTest = 0.7435575667\n",
      "bestIteration = 293\n",
      "\n",
      "Shrink model to first 294 iterations.\n",
      "0:\ttest: 0.7212597\tbest: 0.7212597 (0)\ttotal: 84.3ms\tremaining: 2m 40s\n",
      "300:\ttest: 0.7432393\tbest: 0.7432393 (300)\ttotal: 23.1s\tremaining: 2m 3s\n",
      "600:\ttest: 0.7434869\tbest: 0.7437154 (475)\ttotal: 48.4s\tremaining: 1m 44s\n"
     ]
    },
    {
     "name": "stderr",
     "output_type": "stream",
     "text": [
      "[I 2025-02-24 17:03:29,154] Trial 8 finished with value: 0.7437154054406669 and parameters: {'iterations': 1904, 'depth': 7, 'learning_rate': 0.05155602859187331, 'l2_leaf_reg': 1.299974533316308}. Best is trial 0 with value: 0.7440010590830067.\n"
     ]
    },
    {
     "name": "stdout",
     "output_type": "stream",
     "text": [
      "Stopped by overfitting detector  (300 iterations wait)\n",
      "\n",
      "bestTest = 0.7437154054\n",
      "bestIteration = 475\n",
      "\n",
      "Shrink model to first 476 iterations.\n",
      "0:\ttest: 0.7201936\tbest: 0.7201936 (0)\ttotal: 75.1ms\tremaining: 3m 18s\n",
      "300:\ttest: 0.7425223\tbest: 0.7425223 (300)\ttotal: 19.8s\tremaining: 2m 33s\n",
      "600:\ttest: 0.7438636\tbest: 0.7438660 (596)\ttotal: 41.1s\tremaining: 2m 19s\n",
      "900:\ttest: 0.7435092\tbest: 0.7438801 (605)\ttotal: 1m 3s\tremaining: 2m 1s\n"
     ]
    },
    {
     "name": "stderr",
     "output_type": "stream",
     "text": [
      "[I 2025-02-24 17:04:32,724] Trial 9 finished with value: 0.7438801416265811 and parameters: {'iterations': 2639, 'depth': 6, 'learning_rate': 0.03968704290444751, 'l2_leaf_reg': 0.30557194377967184}. Best is trial 0 with value: 0.7440010590830067.\n"
     ]
    },
    {
     "name": "stdout",
     "output_type": "stream",
     "text": [
      "Stopped by overfitting detector  (300 iterations wait)\n",
      "\n",
      "bestTest = 0.7438801416\n",
      "bestIteration = 605\n",
      "\n",
      "Shrink model to first 606 iterations.\n",
      "0:\ttest: 0.7265217\tbest: 0.7265217 (0)\ttotal: 127ms\tremaining: 6m 12s\n",
      "300:\ttest: 0.7431718\tbest: 0.7431904 (298)\ttotal: 36.8s\tremaining: 5m 23s\n",
      "600:\ttest: 0.7442951\tbest: 0.7442951 (600)\ttotal: 1m 17s\tremaining: 5m 1s\n",
      "900:\ttest: 0.7443022\tbest: 0.7444026 (666)\ttotal: 2m 10s\tremaining: 4m 55s\n"
     ]
    },
    {
     "name": "stderr",
     "output_type": "stream",
     "text": [
      "[I 2025-02-24 17:06:54,899] Trial 10 finished with value: 0.7444026268651293 and parameters: {'iterations': 2945, 'depth': 10, 'learning_rate': 0.025911330134996406, 'l2_leaf_reg': 97.18545559492516}. Best is trial 10 with value: 0.7444026268651293.\n"
     ]
    },
    {
     "name": "stdout",
     "output_type": "stream",
     "text": [
      "Stopped by overfitting detector  (300 iterations wait)\n",
      "\n",
      "bestTest = 0.7444026269\n",
      "bestIteration = 666\n",
      "\n",
      "Shrink model to first 667 iterations.\n",
      "저장 완료\n",
      "0:\ttest: 0.7265545\tbest: 0.7265545 (0)\ttotal: 134ms\tremaining: 6m 39s\n",
      "300:\ttest: 0.7432070\tbest: 0.7432070 (300)\ttotal: 36.3s\tremaining: 5m 24s\n",
      "600:\ttest: 0.7442659\tbest: 0.7442726 (598)\ttotal: 1m 16s\tremaining: 5m 6s\n",
      "900:\ttest: 0.7443391\tbest: 0.7443715 (848)\ttotal: 2m 10s\tremaining: 5m 2s\n"
     ]
    },
    {
     "name": "stderr",
     "output_type": "stream",
     "text": [
      "[I 2025-02-24 17:09:48,018] Trial 11 finished with value: 0.7443715110006732 and parameters: {'iterations': 2995, 'depth': 10, 'learning_rate': 0.026163874004606635, 'l2_leaf_reg': 73.1213351392818}. Best is trial 10 with value: 0.7444026268651293.\n"
     ]
    },
    {
     "name": "stdout",
     "output_type": "stream",
     "text": [
      "Stopped by overfitting detector  (300 iterations wait)\n",
      "\n",
      "bestTest = 0.744371511\n",
      "bestIteration = 848\n",
      "\n",
      "Shrink model to first 849 iterations.\n",
      "0:\ttest: 0.7212874\tbest: 0.7212874 (0)\ttotal: 124ms\tremaining: 6m\n",
      "300:\ttest: 0.7428294\tbest: 0.7428331 (299)\ttotal: 28.4s\tremaining: 4m 4s\n",
      "600:\ttest: 0.7438215\tbest: 0.7438246 (597)\ttotal: 57.5s\tremaining: 3m 39s\n",
      "900:\ttest: 0.7440271\tbest: 0.7440301 (897)\ttotal: 1m 29s\tremaining: 3m 18s\n",
      "1200:\ttest: 0.7442168\tbest: 0.7442228 (1197)\ttotal: 2m 1s\tremaining: 2m 51s\n"
     ]
    },
    {
     "name": "stderr",
     "output_type": "stream",
     "text": [
      "[I 2025-02-24 17:12:21,900] Trial 12 finished with value: 0.7442228370495375 and parameters: {'iterations': 2897, 'depth': 9, 'learning_rate': 0.02806616524326411, 'l2_leaf_reg': 87.13438924619796}. Best is trial 10 with value: 0.7444026268651293.\n"
     ]
    },
    {
     "name": "stdout",
     "output_type": "stream",
     "text": [
      "Stopped by overfitting detector  (300 iterations wait)\n",
      "\n",
      "bestTest = 0.744222837\n",
      "bestIteration = 1197\n",
      "\n",
      "Shrink model to first 1198 iterations.\n",
      "0:\ttest: 0.7212956\tbest: 0.7212956 (0)\ttotal: 111ms\tremaining: 5m 31s\n",
      "300:\ttest: 0.7430656\tbest: 0.7430656 (300)\ttotal: 28.1s\tremaining: 4m 9s\n",
      "600:\ttest: 0.7441076\tbest: 0.7441076 (600)\ttotal: 59.5s\tremaining: 3m 55s\n",
      "900:\ttest: 0.7440106\tbest: 0.7441784 (667)\ttotal: 1m 33s\tremaining: 3m 34s\n"
     ]
    },
    {
     "name": "stderr",
     "output_type": "stream",
     "text": [
      "[I 2025-02-24 17:14:02,546] Trial 13 finished with value: 0.7441783750364805 and parameters: {'iterations': 2975, 'depth': 9, 'learning_rate': 0.028913180830738475, 'l2_leaf_reg': 7.828901342687942}. Best is trial 10 with value: 0.7444026268651293.\n"
     ]
    },
    {
     "name": "stdout",
     "output_type": "stream",
     "text": [
      "Stopped by overfitting detector  (300 iterations wait)\n",
      "\n",
      "bestTest = 0.744178375\n",
      "bestIteration = 667\n",
      "\n",
      "Shrink model to first 668 iterations.\n",
      "0:\ttest: 0.7212956\tbest: 0.7212956 (0)\ttotal: 111ms\tremaining: 5m 4s\n",
      "300:\ttest: 0.7431411\tbest: 0.7431411 (300)\ttotal: 28.6s\tremaining: 3m 52s\n",
      "600:\ttest: 0.7441801\tbest: 0.7442349 (555)\ttotal: 59.4s\tremaining: 3m 32s\n",
      "900:\ttest: 0.7439618\tbest: 0.7442819 (694)\ttotal: 1m 32s\tremaining: 3m 10s\n"
     ]
    },
    {
     "name": "stderr",
     "output_type": "stream",
     "text": [
      "[I 2025-02-24 17:15:45,652] Trial 14 finished with value: 0.7442819000112424 and parameters: {'iterations': 2754, 'depth': 9, 'learning_rate': 0.02781621679423573, 'l2_leaf_reg': 7.067045463613257}. Best is trial 10 with value: 0.7444026268651293.\n"
     ]
    },
    {
     "name": "stdout",
     "output_type": "stream",
     "text": [
      "Stopped by overfitting detector  (300 iterations wait)\n",
      "\n",
      "bestTest = 0.7442819\n",
      "bestIteration = 694\n",
      "\n",
      "Shrink model to first 695 iterations.\n",
      "0:\ttest: 0.7213252\tbest: 0.7213252 (0)\ttotal: 95.5ms\tremaining: 2m 24s\n",
      "300:\ttest: 0.7427717\tbest: 0.7432731 (279)\ttotal: 26.4s\tremaining: 1m 46s\n"
     ]
    },
    {
     "name": "stderr",
     "output_type": "stream",
     "text": [
      "[I 2025-02-24 17:16:39,252] Trial 15 finished with value: 0.7432731201911973 and parameters: {'iterations': 1513, 'depth': 8, 'learning_rate': 0.06347916602487957, 'l2_leaf_reg': 0.026986971696484528}. Best is trial 10 with value: 0.7444026268651293.\n"
     ]
    },
    {
     "name": "stdout",
     "output_type": "stream",
     "text": [
      "Stopped by overfitting detector  (300 iterations wait)\n",
      "\n",
      "bestTest = 0.7432731202\n",
      "bestIteration = 279\n",
      "\n",
      "Shrink model to first 280 iterations.\n",
      "0:\ttest: 0.7265745\tbest: 0.7265745 (0)\ttotal: 132ms\tremaining: 6m 7s\n",
      "300:\ttest: 0.7431982\tbest: 0.7432280 (293)\ttotal: 39.5s\tremaining: 5m 26s\n",
      "600:\ttest: 0.7429706\tbest: 0.7435214 (448)\ttotal: 1m 26s\tremaining: 5m 14s\n"
     ]
    },
    {
     "name": "stderr",
     "output_type": "stream",
     "text": [
      "[I 2025-02-24 17:18:28,812] Trial 16 finished with value: 0.7435213601435289 and parameters: {'iterations': 2789, 'depth': 10, 'learning_rate': 0.03780133673970677, 'l2_leaf_reg': 0.8358313275560093}. Best is trial 10 with value: 0.7444026268651293.\n"
     ]
    },
    {
     "name": "stdout",
     "output_type": "stream",
     "text": [
      "Stopped by overfitting detector  (300 iterations wait)\n",
      "\n",
      "bestTest = 0.7435213601\n",
      "bestIteration = 448\n",
      "\n",
      "Shrink model to first 449 iterations.\n",
      "0:\ttest: 0.7213491\tbest: 0.7213491 (0)\ttotal: 96.8ms\tremaining: 4m 50s\n",
      "300:\ttest: 0.7420427\tbest: 0.7420427 (300)\ttotal: 24.6s\tremaining: 3m 40s\n",
      "600:\ttest: 0.7434515\tbest: 0.7434515 (600)\ttotal: 49.4s\tremaining: 3m 17s\n",
      "900:\ttest: 0.7440326\tbest: 0.7440472 (893)\ttotal: 1m 17s\tremaining: 3m\n",
      "1200:\ttest: 0.7441025\tbest: 0.7441184 (1197)\ttotal: 1m 46s\tremaining: 2m 38s\n",
      "1500:\ttest: 0.7440255\tbest: 0.7441220 (1205)\ttotal: 2m 14s\tremaining: 2m 13s\n"
     ]
    },
    {
     "name": "stderr",
     "output_type": "stream",
     "text": [
      "[I 2025-02-24 17:20:43,852] Trial 17 finished with value: 0.7441220083065222 and parameters: {'iterations': 2999, 'depth': 8, 'learning_rate': 0.020683376194142355, 'l2_leaf_reg': 17.971321588436567}. Best is trial 10 with value: 0.7444026268651293.\n"
     ]
    },
    {
     "name": "stdout",
     "output_type": "stream",
     "text": [
      "Stopped by overfitting detector  (300 iterations wait)\n",
      "\n",
      "bestTest = 0.7441220083\n",
      "bestIteration = 1205\n",
      "\n",
      "Shrink model to first 1206 iterations.\n",
      "0:\ttest: 0.7213253\tbest: 0.7213253 (0)\ttotal: 95.2ms\tremaining: 4m 4s\n",
      "300:\ttest: 0.7430801\tbest: 0.7430801 (300)\ttotal: 27.1s\tremaining: 3m 24s\n",
      "600:\ttest: 0.7410054\tbest: 0.7431969 (320)\ttotal: 55.9s\tremaining: 3m 3s\n"
     ]
    },
    {
     "name": "stderr",
     "output_type": "stream",
     "text": [
      "[I 2025-02-24 17:21:41,947] Trial 18 finished with value: 0.7431968632921397 and parameters: {'iterations': 2573, 'depth': 8, 'learning_rate': 0.06131752750249454, 'l2_leaf_reg': 0.010016909578442512}. Best is trial 10 with value: 0.7444026268651293.\n"
     ]
    },
    {
     "name": "stdout",
     "output_type": "stream",
     "text": [
      "Stopped by overfitting detector  (300 iterations wait)\n",
      "\n",
      "bestTest = 0.7431968633\n",
      "bestIteration = 320\n",
      "\n",
      "Shrink model to first 321 iterations.\n",
      "0:\ttest: 0.7265770\tbest: 0.7265770 (0)\ttotal: 128ms\tremaining: 5m 53s\n",
      "300:\ttest: 0.7438389\tbest: 0.7438651 (294)\ttotal: 39.5s\tremaining: 5m 24s\n",
      "600:\ttest: 0.7429819\tbest: 0.7439422 (353)\ttotal: 1m 25s\tremaining: 5m 8s\n"
     ]
    },
    {
     "name": "stderr",
     "output_type": "stream",
     "text": [
      "[I 2025-02-24 17:23:15,837] Trial 19 finished with value: 0.7439422423162478 and parameters: {'iterations': 2774, 'depth': 10, 'learning_rate': 0.041068055997712544, 'l2_leaf_reg': 2.276175005448344}. Best is trial 10 with value: 0.7444026268651293.\n",
      "[I 2025-02-24 17:23:15,842] A new study created in memory with name: no-name-a7a69bc1-bf7b-4e0b-8dfd-d2840ddcd79c\n"
     ]
    },
    {
     "name": "stdout",
     "output_type": "stream",
     "text": [
      "Stopped by overfitting detector  (300 iterations wait)\n",
      "\n",
      "bestTest = 0.7439422423\n",
      "bestIteration = 353\n",
      "\n",
      "Shrink model to first 354 iterations.\n"
     ]
    },
    {
     "name": "stderr",
     "output_type": "stream",
     "text": [
      "[I 2025-02-24 17:23:39,114] Trial 0 finished with value: 0.7340740420657897 and parameters: {'num_iterations': 2366, 'objective': 'binary', 'metric': 'auc', 'verbose': -1, 'learning_rate': 0.0652646236447618, 'n_estimators': 236, 'min_child_samples': 45, 'subsample': 0.7, 'colsample_bytree': 0.5}. Best is trial 0 with value: 0.7340740420657897.\n",
      "[I 2025-02-24 17:23:56,143] Trial 1 finished with value: 0.7436037083820548 and parameters: {'num_iterations': 1510, 'objective': 'binary', 'metric': 'auc', 'verbose': -1, 'learning_rate': 0.005231880959249543, 'n_estimators': 1411, 'min_child_samples': 10, 'subsample': 1.0, 'colsample_bytree': 0.5}. Best is trial 1 with value: 0.7436037083820548.\n",
      "[I 2025-02-24 17:24:15,765] Trial 2 finished with value: 0.7428835921361078 and parameters: {'num_iterations': 2334, 'objective': 'binary', 'metric': 'auc', 'verbose': -1, 'learning_rate': 0.006578527777128852, 'n_estimators': 931, 'min_child_samples': 15, 'subsample': 0.5, 'colsample_bytree': 1.0}. Best is trial 1 with value: 0.7436037083820548.\n",
      "[I 2025-02-24 17:24:32,321] Trial 3 finished with value: 0.7438830840532735 and parameters: {'num_iterations': 1620, 'objective': 'binary', 'metric': 'auc', 'verbose': -1, 'learning_rate': 0.0058823249237283685, 'n_estimators': 837, 'min_child_samples': 10, 'subsample': 0.9, 'colsample_bytree': 0.6}. Best is trial 3 with value: 0.7438830840532735.\n",
      "[I 2025-02-24 17:24:48,746] Trial 4 finished with value: 0.7434933653956453 and parameters: {'num_iterations': 1997, 'objective': 'binary', 'metric': 'auc', 'verbose': -1, 'learning_rate': 0.010907507425244923, 'n_estimators': 1597, 'min_child_samples': 50, 'subsample': 0.6, 'colsample_bytree': 0.8}. Best is trial 3 with value: 0.7438830840532735.\n",
      "[I 2025-02-24 17:25:11,285] Trial 5 finished with value: 0.7398533810619032 and parameters: {'num_iterations': 2909, 'objective': 'binary', 'metric': 'auc', 'verbose': -1, 'learning_rate': 0.019760591962733942, 'n_estimators': 612, 'min_child_samples': 30, 'subsample': 0.7, 'colsample_bytree': 0.9}. Best is trial 3 with value: 0.7438830840532735.\n",
      "[I 2025-02-24 17:25:31,904] Trial 6 finished with value: 0.7413694455680288 and parameters: {'num_iterations': 2639, 'objective': 'binary', 'metric': 'auc', 'verbose': -1, 'learning_rate': 0.017862094446750985, 'n_estimators': 794, 'min_child_samples': 35, 'subsample': 1.0, 'colsample_bytree': 0.8}. Best is trial 3 with value: 0.7438830840532735.\n",
      "[I 2025-02-24 17:25:48,505] Trial 7 finished with value: 0.7438175366343639 and parameters: {'num_iterations': 1580, 'objective': 'binary', 'metric': 'auc', 'verbose': -1, 'learning_rate': 0.01776722177611332, 'n_estimators': 529, 'min_child_samples': 25, 'subsample': 0.8, 'colsample_bytree': 0.5}. Best is trial 3 with value: 0.7438830840532735.\n",
      "[I 2025-02-24 17:26:06,187] Trial 8 finished with value: 0.7410287395590709 and parameters: {'num_iterations': 1911, 'objective': 'binary', 'metric': 'auc', 'verbose': -1, 'learning_rate': 0.0304747553332844, 'n_estimators': 1328, 'min_child_samples': 10, 'subsample': 0.7, 'colsample_bytree': 0.6}. Best is trial 3 with value: 0.7438830840532735.\n",
      "[I 2025-02-24 17:26:33,587] Trial 9 finished with value: 0.7412293328475934 and parameters: {'num_iterations': 2739, 'objective': 'binary', 'metric': 'auc', 'verbose': -1, 'learning_rate': 0.02691531614176271, 'n_estimators': 1438, 'min_child_samples': 20, 'subsample': 0.6, 'colsample_bytree': 0.5}. Best is trial 3 with value: 0.7438830840532735.\n",
      "[I 2025-02-24 17:26:48,133] Trial 10 finished with value: 0.7344204185002763 and parameters: {'num_iterations': 1883, 'objective': 'binary', 'metric': 'auc', 'verbose': -1, 'learning_rate': 0.08223556891145911, 'n_estimators': 1917, 'min_child_samples': 40, 'subsample': 0.9, 'colsample_bytree': 0.7}. Best is trial 3 with value: 0.7438830840532735.\n",
      "[I 2025-02-24 17:27:03,243] Trial 11 finished with value: 0.7439489967937158 and parameters: {'num_iterations': 1508, 'objective': 'binary', 'metric': 'auc', 'verbose': -1, 'learning_rate': 0.00961049884404511, 'n_estimators': 387, 'min_child_samples': 25, 'subsample': 0.9, 'colsample_bytree': 0.6}. Best is trial 11 with value: 0.7439489967937158.\n",
      "[I 2025-02-24 17:27:18,100] Trial 12 finished with value: 0.7440117248834061 and parameters: {'num_iterations': 1715, 'objective': 'binary', 'metric': 'auc', 'verbose': -1, 'learning_rate': 0.00894016787022523, 'n_estimators': 201, 'min_child_samples': 20, 'subsample': 0.9, 'colsample_bytree': 0.7}. Best is trial 12 with value: 0.7440117248834061.\n",
      "[I 2025-02-24 17:27:33,210] Trial 13 finished with value: 0.7438640674791439 and parameters: {'num_iterations': 1777, 'objective': 'binary', 'metric': 'auc', 'verbose': -1, 'learning_rate': 0.011119187521701032, 'n_estimators': 116, 'min_child_samples': 25, 'subsample': 0.9, 'colsample_bytree': 0.7}. Best is trial 12 with value: 0.7440117248834061.\n",
      "[I 2025-02-24 17:27:53,910] Trial 14 finished with value: 0.7438239059358681 and parameters: {'num_iterations': 2165, 'objective': 'binary', 'metric': 'auc', 'verbose': -1, 'learning_rate': 0.010724056603319605, 'n_estimators': 404, 'min_child_samples': 20, 'subsample': 0.8, 'colsample_bytree': 0.6}. Best is trial 12 with value: 0.7440117248834061.\n",
      "[I 2025-02-24 17:28:09,042] Trial 15 finished with value: 0.7440708275539731 and parameters: {'num_iterations': 1742, 'objective': 'binary', 'metric': 'auc', 'verbose': -1, 'learning_rate': 0.008339195186938882, 'n_estimators': 352, 'min_child_samples': 30, 'subsample': 0.9, 'colsample_bytree': 0.7}. Best is trial 15 with value: 0.7440708275539731.\n",
      "[I 2025-02-24 17:28:25,479] Trial 16 finished with value: 0.7378206288111177 and parameters: {'num_iterations': 2132, 'objective': 'binary', 'metric': 'auc', 'verbose': -1, 'learning_rate': 0.03901437770924474, 'n_estimators': 197, 'min_child_samples': 35, 'subsample': 1.0, 'colsample_bytree': 0.8}. Best is trial 15 with value: 0.7440708275539731.\n",
      "[I 2025-02-24 17:28:40,941] Trial 17 finished with value: 0.7441605735535356 and parameters: {'num_iterations': 1769, 'objective': 'binary', 'metric': 'auc', 'verbose': -1, 'learning_rate': 0.007708333702935524, 'n_estimators': 1162, 'min_child_samples': 30, 'subsample': 0.8, 'colsample_bytree': 0.7}. Best is trial 17 with value: 0.7441605735535356.\n",
      "[I 2025-02-24 17:28:58,318] Trial 18 finished with value: 0.7434129549495969 and parameters: {'num_iterations': 2037, 'objective': 'binary', 'metric': 'auc', 'verbose': -1, 'learning_rate': 0.007654204621443095, 'n_estimators': 1093, 'min_child_samples': 35, 'subsample': 0.8, 'colsample_bytree': 0.9}. Best is trial 17 with value: 0.7441605735535356.\n",
      "[I 2025-02-24 17:29:12,864] Trial 19 finished with value: 0.7426318776583296 and parameters: {'num_iterations': 1777, 'objective': 'binary', 'metric': 'auc', 'verbose': -1, 'learning_rate': 0.013852846707060839, 'n_estimators': 1103, 'min_child_samples': 30, 'subsample': 0.8, 'colsample_bytree': 0.9}. Best is trial 17 with value: 0.7441605735535356.\n",
      "[I 2025-02-24 17:29:33,150] Trial 20 finished with value: 0.7426653045785684 and parameters: {'num_iterations': 2501, 'objective': 'binary', 'metric': 'auc', 'verbose': -1, 'learning_rate': 0.014110654849972837, 'n_estimators': 1764, 'min_child_samples': 40, 'subsample': 0.5, 'colsample_bytree': 0.7}. Best is trial 17 with value: 0.7441605735535356.\n",
      "[I 2025-02-24 17:29:48,287] Trial 21 finished with value: 0.7441433557908657 and parameters: {'num_iterations': 1726, 'objective': 'binary', 'metric': 'auc', 'verbose': -1, 'learning_rate': 0.008012689735895686, 'n_estimators': 649, 'min_child_samples': 20, 'subsample': 0.9, 'colsample_bytree': 0.7}. Best is trial 17 with value: 0.7441605735535356.\n",
      "[I 2025-02-24 17:30:03,682] Trial 22 finished with value: 0.7438210627813313 and parameters: {'num_iterations': 1688, 'objective': 'binary', 'metric': 'auc', 'verbose': -1, 'learning_rate': 0.005006846940213128, 'n_estimators': 618, 'min_child_samples': 30, 'subsample': 0.9, 'colsample_bytree': 0.7}. Best is trial 17 with value: 0.7441605735535356.\n",
      "[I 2025-02-24 17:30:19,786] Trial 23 finished with value: 0.7438611806448586 and parameters: {'num_iterations': 1871, 'objective': 'binary', 'metric': 'auc', 'verbose': -1, 'learning_rate': 0.007062679676660351, 'n_estimators': 1219, 'min_child_samples': 15, 'subsample': 0.8, 'colsample_bytree': 0.8}. Best is trial 17 with value: 0.7441605735535356.\n",
      "[I 2025-02-24 17:30:39,774] Trial 24 finished with value: 0.7439247863004044 and parameters: {'num_iterations': 2039, 'objective': 'binary', 'metric': 'auc', 'verbose': -1, 'learning_rate': 0.007868143060564967, 'n_estimators': 746, 'min_child_samples': 25, 'subsample': 1.0, 'colsample_bytree': 0.6}. Best is trial 17 with value: 0.7441605735535356.\n",
      "[I 2025-02-24 17:30:54,876] Trial 25 finished with value: 0.7434304308198714 and parameters: {'num_iterations': 1810, 'objective': 'binary', 'metric': 'auc', 'verbose': -1, 'learning_rate': 0.013852977622352571, 'n_estimators': 942, 'min_child_samples': 30, 'subsample': 0.9, 'colsample_bytree': 0.7}. Best is trial 17 with value: 0.7441605735535356.\n",
      "[I 2025-02-24 17:31:07,596] Trial 26 finished with value: 0.7392510254178333 and parameters: {'num_iterations': 1641, 'objective': 'binary', 'metric': 'auc', 'verbose': -1, 'learning_rate': 0.04111431307724661, 'n_estimators': 400, 'min_child_samples': 40, 'subsample': 0.8, 'colsample_bytree': 0.8}. Best is trial 17 with value: 0.7441605735535356.\n",
      "[I 2025-02-24 17:31:24,185] Trial 27 finished with value: 0.743807903264383 and parameters: {'num_iterations': 1927, 'objective': 'binary', 'metric': 'auc', 'verbose': -1, 'learning_rate': 0.00830878628030722, 'n_estimators': 671, 'min_child_samples': 15, 'subsample': 1.0, 'colsample_bytree': 0.7}. Best is trial 17 with value: 0.7441605735535356.\n",
      "[I 2025-02-24 17:31:45,896] Trial 28 finished with value: 0.7438338053552261 and parameters: {'num_iterations': 2198, 'objective': 'binary', 'metric': 'auc', 'verbose': -1, 'learning_rate': 0.006464439605299333, 'n_estimators': 513, 'min_child_samples': 20, 'subsample': 0.7, 'colsample_bytree': 0.6}. Best is trial 17 with value: 0.7441605735535356.\n",
      "[I 2025-02-24 17:32:04,912] Trial 29 finished with value: 0.7429918027566146 and parameters: {'num_iterations': 2362, 'objective': 'binary', 'metric': 'auc', 'verbose': -1, 'learning_rate': 0.012520852390060075, 'n_estimators': 315, 'min_child_samples': 45, 'subsample': 0.6, 'colsample_bytree': 0.8}. Best is trial 17 with value: 0.7441605735535356.\n",
      "[I 2025-02-24 17:32:18,715] Trial 30 finished with value: 0.7357318195594991 and parameters: {'num_iterations': 1733, 'objective': 'binary', 'metric': 'auc', 'verbose': -1, 'learning_rate': 0.06335506478822968, 'n_estimators': 1210, 'min_child_samples': 35, 'subsample': 0.9, 'colsample_bytree': 0.7}. Best is trial 17 with value: 0.7441605735535356.\n",
      "[I 2025-02-24 17:32:33,301] Trial 31 finished with value: 0.7439076678098901 and parameters: {'num_iterations': 1679, 'objective': 'binary', 'metric': 'auc', 'verbose': -1, 'learning_rate': 0.008796687735742006, 'n_estimators': 214, 'min_child_samples': 20, 'subsample': 0.9, 'colsample_bytree': 0.7}. Best is trial 17 with value: 0.7441605735535356.\n",
      "[I 2025-02-24 17:32:46,712] Trial 32 finished with value: 0.7440374482843691 and parameters: {'num_iterations': 1535, 'objective': 'binary', 'metric': 'auc', 'verbose': -1, 'learning_rate': 0.008873172201556399, 'n_estimators': 109, 'min_child_samples': 25, 'subsample': 0.8, 'colsample_bytree': 0.7}. Best is trial 17 with value: 0.7441605735535356.\n",
      "[I 2025-02-24 17:33:02,813] Trial 33 finished with value: 0.7438244499472809 and parameters: {'num_iterations': 1567, 'objective': 'binary', 'metric': 'auc', 'verbose': -1, 'learning_rate': 0.0060092479107821265, 'n_estimators': 332, 'min_child_samples': 25, 'subsample': 0.8, 'colsample_bytree': 0.6}. Best is trial 17 with value: 0.7441605735535356.\n",
      "[I 2025-02-24 17:33:16,536] Trial 34 finished with value: 0.7437804644405709 and parameters: {'num_iterations': 1502, 'objective': 'binary', 'metric': 'auc', 'verbose': -1, 'learning_rate': 0.005625061002991792, 'n_estimators': 503, 'min_child_samples': 25, 'subsample': 0.8, 'colsample_bytree': 0.7}. Best is trial 17 with value: 0.7441605735535356.\n",
      "[I 2025-02-24 17:33:30,527] Trial 35 finished with value: 0.7439650113778598 and parameters: {'num_iterations': 1600, 'objective': 'binary', 'metric': 'auc', 'verbose': -1, 'learning_rate': 0.007127181652472422, 'n_estimators': 920, 'min_child_samples': 30, 'subsample': 0.7, 'colsample_bytree': 0.8}. Best is trial 17 with value: 0.7441605735535356.\n",
      "[I 2025-02-24 17:33:49,040] Trial 36 finished with value: 0.7438677008400394 and parameters: {'num_iterations': 1817, 'objective': 'binary', 'metric': 'auc', 'verbose': -1, 'learning_rate': 0.010084267984618188, 'n_estimators': 125, 'min_child_samples': 15, 'subsample': 0.8, 'colsample_bytree': 0.6}. Best is trial 17 with value: 0.7441605735535356.\n",
      "[I 2025-02-24 17:34:06,298] Trial 37 finished with value: 0.7431893662589477 and parameters: {'num_iterations': 1973, 'objective': 'binary', 'metric': 'auc', 'verbose': -1, 'learning_rate': 0.006439611986917645, 'n_estimators': 1527, 'min_child_samples': 35, 'subsample': 1.0, 'colsample_bytree': 1.0}. Best is trial 17 with value: 0.7441605735535356.\n",
      "[I 2025-02-24 17:34:19,716] Trial 38 finished with value: 0.7436476382963576 and parameters: {'num_iterations': 1583, 'objective': 'binary', 'metric': 'auc', 'verbose': -1, 'learning_rate': 0.01277789769059481, 'n_estimators': 876, 'min_child_samples': 30, 'subsample': 0.9, 'colsample_bytree': 0.8}. Best is trial 17 with value: 0.7441605735535356.\n",
      "[I 2025-02-24 17:34:36,497] Trial 39 finished with value: 0.741764663903078 and parameters: {'num_iterations': 2082, 'objective': 'binary', 'metric': 'auc', 'verbose': -1, 'learning_rate': 0.018404338022012627, 'n_estimators': 294, 'min_child_samples': 25, 'subsample': 0.7, 'colsample_bytree': 0.9}. Best is trial 17 with value: 0.7441605735535356.\n"
     ]
    },
    {
     "name": "stdout",
     "output_type": "stream",
     "text": [
      "Cat val score : 0.7444026268651293\n",
      "LGBM val score : 0.7441581274876212\n",
      "Ensemble val score : 0.7446280580469866\n"
     ]
    },
    {
     "name": "stderr",
     "output_type": "stream",
     "text": [
      "[I 2025-02-24 17:34:53,906] A new study created in memory with name: no-name-e4ff6be5-3604-421a-ae14-8c65b428bc7b\n"
     ]
    },
    {
     "name": "stdout",
     "output_type": "stream",
     "text": [
      "==================================================\n",
      "0:\ttest: 0.7246563\tbest: 0.7246563 (0)\ttotal: 174ms\tremaining: 6m 51s\n",
      "300:\ttest: 0.7363469\tbest: 0.7363469 (300)\ttotal: 40.2s\tremaining: 4m 35s\n",
      "600:\ttest: 0.7377918\tbest: 0.7377918 (600)\ttotal: 1m 22s\tremaining: 4m 1s\n",
      "900:\ttest: 0.7382186\tbest: 0.7382186 (900)\ttotal: 2m 4s\tremaining: 3m 22s\n",
      "1200:\ttest: 0.7385331\tbest: 0.7385336 (1199)\ttotal: 2m 51s\tremaining: 2m 46s\n",
      "1500:\ttest: 0.7386383\tbest: 0.7386466 (1496)\ttotal: 3m 40s\tremaining: 2m 7s\n",
      "1800:\ttest: 0.7386602\tbest: 0.7386639 (1770)\ttotal: 4m 31s\tremaining: 1m 25s\n",
      "2100:\ttest: 0.7385659\tbest: 0.7386785 (1804)\ttotal: 5m 22s\tremaining: 40.7s\n"
     ]
    },
    {
     "name": "stderr",
     "output_type": "stream",
     "text": [
      "[I 2025-02-24 17:40:17,556] Trial 0 finished with value: 0.7386784593622204 and parameters: {'iterations': 2366, 'depth': 10, 'learning_rate': 0.01181021951839225, 'l2_leaf_reg': 9.980783802743254}. Best is trial 0 with value: 0.7386784593622204.\n"
     ]
    },
    {
     "name": "stdout",
     "output_type": "stream",
     "text": [
      "Stopped by overfitting detector  (300 iterations wait)\n",
      "\n",
      "bestTest = 0.7386784594\n",
      "bestIteration = 1804\n",
      "\n",
      "Shrink model to first 1805 iterations.\n",
      "저장 완료\n",
      "0:\ttest: 0.6929013\tbest: 0.6929013 (0)\ttotal: 58.6ms\tremaining: 2m 8s\n",
      "300:\ttest: 0.7279787\tbest: 0.7279787 (300)\ttotal: 13.5s\tremaining: 1m 24s\n",
      "600:\ttest: 0.7319523\tbest: 0.7319523 (600)\ttotal: 27s\tremaining: 1m 11s\n",
      "900:\ttest: 0.7340297\tbest: 0.7340297 (900)\ttotal: 40.7s\tremaining: 58.4s\n",
      "1200:\ttest: 0.7351957\tbest: 0.7351976 (1199)\ttotal: 54.7s\tremaining: 45.2s\n",
      "1500:\ttest: 0.7359623\tbest: 0.7359623 (1500)\ttotal: 1m 8s\tremaining: 31.7s\n",
      "1800:\ttest: 0.7365397\tbest: 0.7365397 (1800)\ttotal: 1m 23s\tremaining: 18.1s\n",
      "2100:\ttest: 0.7369215\tbest: 0.7369215 (2100)\ttotal: 1m 37s\tremaining: 4.26s\n"
     ]
    },
    {
     "name": "stderr",
     "output_type": "stream",
     "text": [
      "[I 2025-02-24 17:41:59,748] Trial 1 finished with value: 0.7370416997692979 and parameters: {'iterations': 2193, 'depth': 4, 'learning_rate': 0.005671430811678843, 'l2_leaf_reg': 0.00012325230809466137}. Best is trial 0 with value: 0.7386784593622204.\n"
     ]
    },
    {
     "name": "stdout",
     "output_type": "stream",
     "text": [
      "2192:\ttest: 0.7370386\tbest: 0.7370417 (2190)\ttotal: 1m 41s\tremaining: 0us\n",
      "\n",
      "bestTest = 0.7370416998\n",
      "bestIteration = 2190\n",
      "\n",
      "Shrink model to first 2191 iterations.\n",
      "0:\ttest: 0.6929013\tbest: 0.6929013 (0)\ttotal: 57.6ms\tremaining: 2m 25s\n",
      "300:\ttest: 0.7377857\tbest: 0.7379281 (214)\ttotal: 14.6s\tremaining: 1m 48s\n"
     ]
    },
    {
     "name": "stderr",
     "output_type": "stream",
     "text": [
      "[I 2025-02-24 17:42:25,250] Trial 2 finished with value: 0.7379280849632418 and parameters: {'iterations': 2535, 'depth': 4, 'learning_rate': 0.09275339199839054, 'l2_leaf_reg': 0.0008705394248343123}. Best is trial 0 with value: 0.7386784593622204.\n"
     ]
    },
    {
     "name": "stdout",
     "output_type": "stream",
     "text": [
      "Stopped by overfitting detector  (300 iterations wait)\n",
      "\n",
      "bestTest = 0.737928085\n",
      "bestIteration = 214\n",
      "\n",
      "Shrink model to first 215 iterations.\n",
      "0:\ttest: 0.6929013\tbest: 0.6929013 (0)\ttotal: 55.9ms\tremaining: 2m 10s\n",
      "300:\ttest: 0.7374539\tbest: 0.7374586 (299)\ttotal: 14.1s\tremaining: 1m 35s\n",
      "600:\ttest: 0.7384770\tbest: 0.7385398 (525)\ttotal: 28.9s\tremaining: 1m 23s\n"
     ]
    },
    {
     "name": "stderr",
     "output_type": "stream",
     "text": [
      "[I 2025-02-24 17:43:05,677] Trial 3 finished with value: 0.7385397880734845 and parameters: {'iterations': 2334, 'depth': 4, 'learning_rate': 0.04657568321363276, 'l2_leaf_reg': 0.0008640473331457248}. Best is trial 0 with value: 0.7386784593622204.\n"
     ]
    },
    {
     "name": "stdout",
     "output_type": "stream",
     "text": [
      "Stopped by overfitting detector  (300 iterations wait)\n",
      "\n",
      "bestTest = 0.7385397881\n",
      "bestIteration = 525\n",
      "\n",
      "Shrink model to first 526 iterations.\n",
      "0:\ttest: 0.7245025\tbest: 0.7245025 (0)\ttotal: 137ms\tremaining: 3m 57s\n",
      "300:\ttest: 0.7355497\tbest: 0.7355696 (290)\ttotal: 38.7s\tremaining: 3m 5s\n",
      "600:\ttest: 0.7365572\tbest: 0.7365597 (598)\ttotal: 1m 20s\tremaining: 2m 33s\n",
      "900:\ttest: 0.7364672\tbest: 0.7366083 (782)\ttotal: 2m 3s\tremaining: 1m 55s\n"
     ]
    },
    {
     "name": "stderr",
     "output_type": "stream",
     "text": [
      "[I 2025-02-24 17:45:36,051] Trial 4 finished with value: 0.7366082735669953 and parameters: {'iterations': 1742, 'depth': 10, 'learning_rate': 0.012622767482095846, 'l2_leaf_reg': 0.00021158816350109617}. Best is trial 0 with value: 0.7386784593622204.\n"
     ]
    },
    {
     "name": "stdout",
     "output_type": "stream",
     "text": [
      "Stopped by overfitting detector  (300 iterations wait)\n",
      "\n",
      "bestTest = 0.7366082736\n",
      "bestIteration = 782\n",
      "\n",
      "Shrink model to first 783 iterations.\n",
      "0:\ttest: 0.6929013\tbest: 0.6929013 (0)\ttotal: 56.3ms\tremaining: 1m 57s\n",
      "300:\ttest: 0.7381077\tbest: 0.7381077 (300)\ttotal: 14.3s\tremaining: 1m 24s\n",
      "600:\ttest: 0.7382656\tbest: 0.7383928 (543)\ttotal: 29.5s\tremaining: 1m 12s\n",
      "900:\ttest: 0.7384441\tbest: 0.7385063 (874)\ttotal: 44.5s\tremaining: 58.3s\n",
      "1200:\ttest: 0.7383291\tbest: 0.7385257 (1036)\ttotal: 59.6s\tremaining: 43.7s\n",
      "1500:\ttest: 0.7385642\tbest: 0.7386013 (1400)\ttotal: 1m 15s\tremaining: 29s\n",
      "1800:\ttest: 0.7384021\tbest: 0.7386604 (1518)\ttotal: 1m 30s\tremaining: 14.1s\n"
     ]
    },
    {
     "name": "stderr",
     "output_type": "stream",
     "text": [
      "[I 2025-02-24 17:47:07,562] Trial 5 finished with value: 0.7386603799172398 and parameters: {'iterations': 2082, 'depth': 4, 'learning_rate': 0.06995196593094148, 'l2_leaf_reg': 0.0018080296485396804}. Best is trial 0 with value: 0.7386784593622204.\n"
     ]
    },
    {
     "name": "stdout",
     "output_type": "stream",
     "text": [
      "Stopped by overfitting detector  (300 iterations wait)\n",
      "\n",
      "bestTest = 0.7386603799\n",
      "bestIteration = 1518\n",
      "\n",
      "Shrink model to first 1519 iterations.\n",
      "0:\ttest: 0.6967789\tbest: 0.6967789 (0)\ttotal: 71.1ms\tremaining: 2m 21s\n",
      "300:\ttest: 0.7380285\tbest: 0.7380464 (296)\ttotal: 17.6s\tremaining: 1m 39s\n",
      "600:\ttest: 0.7383770\tbest: 0.7384104 (427)\ttotal: 36.1s\tremaining: 1m 23s\n",
      "900:\ttest: 0.7386378\tbest: 0.7386394 (890)\ttotal: 55.2s\tremaining: 1m 7s\n",
      "1200:\ttest: 0.7387067\tbest: 0.7387284 (1199)\ttotal: 1m 14s\tremaining: 49.7s\n",
      "1500:\ttest: 0.7386767\tbest: 0.7387576 (1267)\ttotal: 1m 33s\tremaining: 30.9s\n"
     ]
    },
    {
     "name": "stderr",
     "output_type": "stream",
     "text": [
      "[I 2025-02-24 17:48:45,478] Trial 6 finished with value: 0.7387576308917667 and parameters: {'iterations': 1997, 'depth': 5, 'learning_rate': 0.07985155992831598, 'l2_leaf_reg': 62.52181000710482}. Best is trial 6 with value: 0.7387576308917667.\n"
     ]
    },
    {
     "name": "stdout",
     "output_type": "stream",
     "text": [
      "Stopped by overfitting detector  (300 iterations wait)\n",
      "\n",
      "bestTest = 0.7387576309\n",
      "bestIteration = 1267\n",
      "\n",
      "Shrink model to first 1268 iterations.\n",
      "저장 완료\n",
      "0:\ttest: 0.7044564\tbest: 0.7044564 (0)\ttotal: 87.1ms\tremaining: 2m 47s\n",
      "300:\ttest: 0.7377185\tbest: 0.7379150 (153)\ttotal: 24.5s\tremaining: 2m 12s\n"
     ]
    },
    {
     "name": "stderr",
     "output_type": "stream",
     "text": [
      "[I 2025-02-24 17:49:23,303] Trial 7 finished with value: 0.7379149770678144 and parameters: {'iterations': 1927, 'depth': 7, 'learning_rate': 0.0941937211034094, 'l2_leaf_reg': 0.05654822767791934}. Best is trial 6 with value: 0.7387576308917667.\n"
     ]
    },
    {
     "name": "stdout",
     "output_type": "stream",
     "text": [
      "Stopped by overfitting detector  (300 iterations wait)\n",
      "\n",
      "bestTest = 0.7379149771\n",
      "bestIteration = 153\n",
      "\n",
      "Shrink model to first 154 iterations.\n",
      "0:\ttest: 0.7044561\tbest: 0.7044561 (0)\ttotal: 92ms\tremaining: 2m 55s\n",
      "300:\ttest: 0.7383414\tbest: 0.7384075 (292)\ttotal: 23.5s\tremaining: 2m 5s\n",
      "600:\ttest: 0.7386147\tbest: 0.7388021 (429)\ttotal: 50.9s\tremaining: 1m 50s\n"
     ]
    },
    {
     "name": "stderr",
     "output_type": "stream",
     "text": [
      "[I 2025-02-24 17:50:25,948] Trial 8 finished with value: 0.738802061137734 and parameters: {'iterations': 1904, 'depth': 7, 'learning_rate': 0.05155602859187331, 'l2_leaf_reg': 1.299974533316308}. Best is trial 8 with value: 0.738802061137734.\n"
     ]
    },
    {
     "name": "stdout",
     "output_type": "stream",
     "text": [
      "Stopped by overfitting detector  (300 iterations wait)\n",
      "\n",
      "bestTest = 0.7388020611\n",
      "bestIteration = 429\n",
      "\n",
      "Shrink model to first 430 iterations.\n",
      "저장 완료\n",
      "0:\ttest: 0.7043841\tbest: 0.7043841 (0)\ttotal: 82ms\tremaining: 3m 36s\n",
      "300:\ttest: 0.7380698\tbest: 0.7381015 (297)\ttotal: 20.9s\tremaining: 2m 42s\n",
      "600:\ttest: 0.7388943\tbest: 0.7389163 (583)\ttotal: 43.9s\tremaining: 2m 28s\n",
      "900:\ttest: 0.7386268\tbest: 0.7389769 (660)\ttotal: 1m 6s\tremaining: 2m 7s\n"
     ]
    },
    {
     "name": "stderr",
     "output_type": "stream",
     "text": [
      "[I 2025-02-24 17:51:36,927] Trial 9 finished with value: 0.7389768754328861 and parameters: {'iterations': 2639, 'depth': 6, 'learning_rate': 0.03968704290444751, 'l2_leaf_reg': 0.30557194377967184}. Best is trial 9 with value: 0.7389768754328861.\n"
     ]
    },
    {
     "name": "stdout",
     "output_type": "stream",
     "text": [
      "Stopped by overfitting detector  (300 iterations wait)\n",
      "\n",
      "bestTest = 0.7389768754\n",
      "bestIteration = 660\n",
      "\n",
      "Shrink model to first 661 iterations.\n",
      "저장 완료\n",
      "0:\ttest: 0.7043841\tbest: 0.7043841 (0)\ttotal: 78.7ms\tremaining: 3m 51s\n",
      "300:\ttest: 0.7373352\tbest: 0.7373399 (299)\ttotal: 20.2s\tremaining: 2m 57s\n",
      "600:\ttest: 0.7384693\tbest: 0.7384839 (598)\ttotal: 41.8s\tremaining: 2m 42s\n",
      "900:\ttest: 0.7384255\tbest: 0.7385134 (768)\ttotal: 1m 3s\tremaining: 2m 25s\n",
      "1200:\ttest: 0.7386370\tbest: 0.7386431 (1195)\ttotal: 1m 26s\tremaining: 2m 5s\n",
      "1500:\ttest: 0.7386115\tbest: 0.7386713 (1213)\ttotal: 1m 48s\tremaining: 1m 44s\n"
     ]
    },
    {
     "name": "stderr",
     "output_type": "stream",
     "text": [
      "[I 2025-02-24 17:53:27,179] Trial 10 finished with value: 0.7386713117670161 and parameters: {'iterations': 2945, 'depth': 6, 'learning_rate': 0.032580115422505045, 'l2_leaf_reg': 0.05588195113566891}. Best is trial 9 with value: 0.7389768754328861.\n"
     ]
    },
    {
     "name": "stdout",
     "output_type": "stream",
     "text": [
      "Stopped by overfitting detector  (300 iterations wait)\n",
      "\n",
      "bestTest = 0.7386713118\n",
      "bestIteration = 1213\n",
      "\n",
      "Shrink model to first 1214 iterations.\n",
      "0:\ttest: 0.7164668\tbest: 0.7164668 (0)\ttotal: 113ms\tremaining: 5m 8s\n",
      "300:\ttest: 0.7385162\tbest: 0.7385798 (286)\ttotal: 26.9s\tremaining: 3m 38s\n",
      "600:\ttest: 0.7384675\tbest: 0.7387445 (389)\ttotal: 56.9s\tremaining: 3m 22s\n"
     ]
    },
    {
     "name": "stderr",
     "output_type": "stream",
     "text": [
      "[I 2025-02-24 17:54:32,996] Trial 11 finished with value: 0.7387445110836806 and parameters: {'iterations': 2742, 'depth': 8, 'learning_rate': 0.05038072346939034, 'l2_leaf_reg': 1.9458284937024315}. Best is trial 9 with value: 0.7389768754328861.\n"
     ]
    },
    {
     "name": "stdout",
     "output_type": "stream",
     "text": [
      "Stopped by overfitting detector  (300 iterations wait)\n",
      "\n",
      "bestTest = 0.7387445111\n",
      "bestIteration = 389\n",
      "\n",
      "Shrink model to first 390 iterations.\n",
      "0:\ttest: 0.7044563\tbest: 0.7044563 (0)\ttotal: 89.7ms\tremaining: 2m 20s\n",
      "300:\ttest: 0.7381303\tbest: 0.7381303 (300)\ttotal: 23s\tremaining: 1m 36s\n",
      "600:\ttest: 0.7387910\tbest: 0.7389095 (472)\ttotal: 48.5s\tremaining: 1m 17s\n"
     ]
    },
    {
     "name": "stderr",
     "output_type": "stream",
     "text": [
      "[I 2025-02-24 17:55:36,567] Trial 12 finished with value: 0.7389094656683372 and parameters: {'iterations': 1565, 'depth': 7, 'learning_rate': 0.03421727225236856, 'l2_leaf_reg': 0.5279524076347274}. Best is trial 9 with value: 0.7389768754328861.\n"
     ]
    },
    {
     "name": "stdout",
     "output_type": "stream",
     "text": [
      "Stopped by overfitting detector  (300 iterations wait)\n",
      "\n",
      "bestTest = 0.7389094657\n",
      "bestIteration = 472\n",
      "\n",
      "Shrink model to first 473 iterations.\n",
      "0:\ttest: 0.7164669\tbest: 0.7164669 (0)\ttotal: 107ms\tremaining: 2m 56s\n",
      "300:\ttest: 0.7375968\tbest: 0.7376024 (297)\ttotal: 26.3s\tremaining: 1m 58s\n",
      "600:\ttest: 0.7383175\tbest: 0.7384036 (529)\ttotal: 55.4s\tremaining: 1m 37s\n"
     ]
    },
    {
     "name": "stderr",
     "output_type": "stream",
     "text": [
      "[I 2025-02-24 17:56:55,235] Trial 13 finished with value: 0.7384036065304115 and parameters: {'iterations': 1662, 'depth': 8, 'learning_rate': 0.03015940144485983, 'l2_leaf_reg': 0.31754768948715156}. Best is trial 9 with value: 0.7389768754328861.\n"
     ]
    },
    {
     "name": "stdout",
     "output_type": "stream",
     "text": [
      "Stopped by overfitting detector  (300 iterations wait)\n",
      "\n",
      "bestTest = 0.7384036065\n",
      "bestIteration = 529\n",
      "\n",
      "Shrink model to first 530 iterations.\n",
      "0:\ttest: 0.7043841\tbest: 0.7043841 (0)\ttotal: 81.3ms\tremaining: 2m 4s\n",
      "300:\ttest: 0.7374697\tbest: 0.7374697 (300)\ttotal: 20.6s\tremaining: 1m 24s\n",
      "600:\ttest: 0.7384294\tbest: 0.7384375 (597)\ttotal: 42.3s\tremaining: 1m 5s\n",
      "900:\ttest: 0.7383917\tbest: 0.7385214 (718)\ttotal: 1m 4s\tremaining: 45.3s\n"
     ]
    },
    {
     "name": "stderr",
     "output_type": "stream",
     "text": [
      "[I 2025-02-24 17:58:08,935] Trial 14 finished with value: 0.7385213711031748 and parameters: {'iterations': 1533, 'depth': 6, 'learning_rate': 0.03206771765787879, 'l2_leaf_reg': 0.0118311002022484}. Best is trial 9 with value: 0.7389768754328861.\n"
     ]
    },
    {
     "name": "stdout",
     "output_type": "stream",
     "text": [
      "Stopped by overfitting detector  (300 iterations wait)\n",
      "\n",
      "bestTest = 0.7385213711\n",
      "bestIteration = 718\n",
      "\n",
      "Shrink model to first 719 iterations.\n",
      "0:\ttest: 0.7164670\tbest: 0.7164670 (0)\ttotal: 103ms\tremaining: 4m 27s\n",
      "300:\ttest: 0.7387137\tbest: 0.7387137 (300)\ttotal: 27.9s\tremaining: 3m 31s\n",
      "600:\ttest: 0.7369051\tbest: 0.7389123 (338)\ttotal: 57.7s\tremaining: 3m 11s\n"
     ]
    },
    {
     "name": "stderr",
     "output_type": "stream",
     "text": [
      "[I 2025-02-24 17:59:10,696] Trial 15 finished with value: 0.7389122969102153 and parameters: {'iterations': 2590, 'depth': 8, 'learning_rate': 0.06631347046002907, 'l2_leaf_reg': 0.28305282150886696}. Best is trial 9 with value: 0.7389768754328861.\n"
     ]
    },
    {
     "name": "stdout",
     "output_type": "stream",
     "text": [
      "Stopped by overfitting detector  (300 iterations wait)\n",
      "\n",
      "bestTest = 0.7389122969\n",
      "bestIteration = 338\n",
      "\n",
      "Shrink model to first 339 iterations.\n",
      "0:\ttest: 0.7214601\tbest: 0.7214601 (0)\ttotal: 118ms\tremaining: 5m 6s\n",
      "300:\ttest: 0.7370707\tbest: 0.7376233 (195)\ttotal: 31.2s\tremaining: 3m 59s\n"
     ]
    },
    {
     "name": "stderr",
     "output_type": "stream",
     "text": [
      "[I 2025-02-24 18:00:04,437] Trial 16 finished with value: 0.7376232519404371 and parameters: {'iterations': 2611, 'depth': 9, 'learning_rate': 0.06522242113054028, 'l2_leaf_reg': 0.025945540544475114}. Best is trial 9 with value: 0.7389768754328861.\n"
     ]
    },
    {
     "name": "stdout",
     "output_type": "stream",
     "text": [
      "Stopped by overfitting detector  (300 iterations wait)\n",
      "\n",
      "bestTest = 0.7376232519\n",
      "bestIteration = 195\n",
      "\n",
      "Shrink model to first 196 iterations.\n",
      "0:\ttest: 0.7165018\tbest: 0.7165018 (0)\ttotal: 103ms\tremaining: 5m 10s\n",
      "300:\ttest: 0.7387786\tbest: 0.7388108 (295)\ttotal: 28.6s\tremaining: 4m 15s\n",
      "600:\ttest: 0.7388729\tbest: 0.7390058 (545)\ttotal: 58.3s\tremaining: 3m 52s\n"
     ]
    },
    {
     "name": "stderr",
     "output_type": "stream",
     "text": [
      "[I 2025-02-24 18:01:27,539] Trial 17 finished with value: 0.7390057715719427 and parameters: {'iterations': 2999, 'depth': 8, 'learning_rate': 0.06405209917654557, 'l2_leaf_reg': 7.017864582510593}. Best is trial 17 with value: 0.7390057715719427.\n"
     ]
    },
    {
     "name": "stdout",
     "output_type": "stream",
     "text": [
      "Stopped by overfitting detector  (300 iterations wait)\n",
      "\n",
      "bestTest = 0.7390057716\n",
      "bestIteration = 545\n",
      "\n",
      "Shrink model to first 546 iterations.\n",
      "저장 완료\n",
      "0:\ttest: 0.7043841\tbest: 0.7043841 (0)\ttotal: 83ms\tremaining: 4m 8s\n",
      "300:\ttest: 0.7382683\tbest: 0.7382683 (300)\ttotal: 20.2s\tremaining: 3m\n",
      "600:\ttest: 0.7390160\tbest: 0.7390236 (598)\ttotal: 42.1s\tremaining: 2m 47s\n",
      "900:\ttest: 0.7390969\tbest: 0.7391001 (899)\ttotal: 1m 4s\tremaining: 2m 30s\n",
      "1200:\ttest: 0.7391500\tbest: 0.7392139 (1150)\ttotal: 1m 26s\tremaining: 2m 10s\n"
     ]
    },
    {
     "name": "stderr",
     "output_type": "stream",
     "text": [
      "[I 2025-02-24 18:03:13,522] Trial 18 finished with value: 0.7392139333696093 and parameters: {'iterations': 2996, 'depth': 6, 'learning_rate': 0.04174810194374577, 'l2_leaf_reg': 10.990515708164558}. Best is trial 18 with value: 0.7392139333696093.\n"
     ]
    },
    {
     "name": "stdout",
     "output_type": "stream",
     "text": [
      "Stopped by overfitting detector  (300 iterations wait)\n",
      "\n",
      "bestTest = 0.7392139334\n",
      "bestIteration = 1150\n",
      "\n",
      "Shrink model to first 1151 iterations.\n",
      "저장 완료\n",
      "0:\ttest: 0.7216009\tbest: 0.7216009 (0)\ttotal: 116ms\tremaining: 5m 42s\n",
      "300:\ttest: 0.7382170\tbest: 0.7382170 (300)\ttotal: 29.1s\tremaining: 4m 16s\n",
      "600:\ttest: 0.7386115\tbest: 0.7386608 (578)\ttotal: 1m 2s\tremaining: 4m 4s\n",
      "900:\ttest: 0.7387063\tbest: 0.7387172 (731)\ttotal: 1m 35s\tremaining: 3m 37s\n"
     ]
    },
    {
     "name": "stderr",
     "output_type": "stream",
     "text": [
      "[I 2025-02-24 18:05:03,414] Trial 19 finished with value: 0.73871723903709 and parameters: {'iterations': 2962, 'depth': 9, 'learning_rate': 0.05910658058502076, 'l2_leaf_reg': 87.28738662711127}. Best is trial 18 with value: 0.7392139333696093.\n",
      "[I 2025-02-24 18:05:03,417] A new study created in memory with name: no-name-6c688ef2-c162-4314-8e65-286a5c34ab76\n"
     ]
    },
    {
     "name": "stdout",
     "output_type": "stream",
     "text": [
      "Stopped by overfitting detector  (300 iterations wait)\n",
      "\n",
      "bestTest = 0.738717239\n",
      "bestIteration = 731\n",
      "\n",
      "Shrink model to first 732 iterations.\n"
     ]
    },
    {
     "name": "stderr",
     "output_type": "stream",
     "text": [
      "[I 2025-02-24 18:05:26,837] Trial 0 finished with value: 0.728189919323981 and parameters: {'num_iterations': 2366, 'objective': 'binary', 'metric': 'auc', 'verbose': -1, 'learning_rate': 0.0652646236447618, 'n_estimators': 236, 'min_child_samples': 45, 'subsample': 0.7, 'colsample_bytree': 0.5}. Best is trial 0 with value: 0.728189919323981.\n",
      "[I 2025-02-24 18:05:44,002] Trial 1 finished with value: 0.7382186783880451 and parameters: {'num_iterations': 1510, 'objective': 'binary', 'metric': 'auc', 'verbose': -1, 'learning_rate': 0.005231880959249543, 'n_estimators': 1411, 'min_child_samples': 10, 'subsample': 1.0, 'colsample_bytree': 0.5}. Best is trial 1 with value: 0.7382186783880451.\n",
      "[I 2025-02-24 18:06:03,654] Trial 2 finished with value: 0.7370016970614711 and parameters: {'num_iterations': 2334, 'objective': 'binary', 'metric': 'auc', 'verbose': -1, 'learning_rate': 0.006578527777128852, 'n_estimators': 931, 'min_child_samples': 15, 'subsample': 0.5, 'colsample_bytree': 1.0}. Best is trial 1 with value: 0.7382186783880451.\n",
      "[I 2025-02-24 18:06:20,335] Trial 3 finished with value: 0.7380705484483222 and parameters: {'num_iterations': 1620, 'objective': 'binary', 'metric': 'auc', 'verbose': -1, 'learning_rate': 0.0058823249237283685, 'n_estimators': 837, 'min_child_samples': 10, 'subsample': 0.9, 'colsample_bytree': 0.6}. Best is trial 1 with value: 0.7382186783880451.\n",
      "[I 2025-02-24 18:06:36,771] Trial 4 finished with value: 0.738036176457162 and parameters: {'num_iterations': 1997, 'objective': 'binary', 'metric': 'auc', 'verbose': -1, 'learning_rate': 0.010907507425244923, 'n_estimators': 1597, 'min_child_samples': 50, 'subsample': 0.6, 'colsample_bytree': 0.8}. Best is trial 1 with value: 0.7382186783880451.\n",
      "[I 2025-02-24 18:06:59,443] Trial 5 finished with value: 0.7349525529923503 and parameters: {'num_iterations': 2909, 'objective': 'binary', 'metric': 'auc', 'verbose': -1, 'learning_rate': 0.019760591962733942, 'n_estimators': 612, 'min_child_samples': 30, 'subsample': 0.7, 'colsample_bytree': 0.9}. Best is trial 1 with value: 0.7382186783880451.\n",
      "[I 2025-02-24 18:07:20,137] Trial 6 finished with value: 0.7363686067580226 and parameters: {'num_iterations': 2639, 'objective': 'binary', 'metric': 'auc', 'verbose': -1, 'learning_rate': 0.017862094446750985, 'n_estimators': 794, 'min_child_samples': 35, 'subsample': 1.0, 'colsample_bytree': 0.8}. Best is trial 1 with value: 0.7382186783880451.\n",
      "[I 2025-02-24 18:07:36,886] Trial 7 finished with value: 0.7378521695603997 and parameters: {'num_iterations': 1580, 'objective': 'binary', 'metric': 'auc', 'verbose': -1, 'learning_rate': 0.01776722177611332, 'n_estimators': 529, 'min_child_samples': 25, 'subsample': 0.8, 'colsample_bytree': 0.5}. Best is trial 1 with value: 0.7382186783880451.\n",
      "[I 2025-02-24 18:07:54,608] Trial 8 finished with value: 0.7346133479783853 and parameters: {'num_iterations': 1911, 'objective': 'binary', 'metric': 'auc', 'verbose': -1, 'learning_rate': 0.0304747553332844, 'n_estimators': 1328, 'min_child_samples': 10, 'subsample': 0.7, 'colsample_bytree': 0.6}. Best is trial 1 with value: 0.7382186783880451.\n",
      "[I 2025-02-24 18:08:22,316] Trial 9 finished with value: 0.7348728811311397 and parameters: {'num_iterations': 2739, 'objective': 'binary', 'metric': 'auc', 'verbose': -1, 'learning_rate': 0.02691531614176271, 'n_estimators': 1438, 'min_child_samples': 20, 'subsample': 0.6, 'colsample_bytree': 0.5}. Best is trial 1 with value: 0.7382186783880451.\n",
      "[I 2025-02-24 18:08:37,236] Trial 10 finished with value: 0.7252266693041822 and parameters: {'num_iterations': 1933, 'objective': 'binary', 'metric': 'auc', 'verbose': -1, 'learning_rate': 0.08223556891145911, 'n_estimators': 1960, 'min_child_samples': 40, 'subsample': 1.0, 'colsample_bytree': 0.7}. Best is trial 1 with value: 0.7382186783880451.\n",
      "[I 2025-02-24 18:08:52,952] Trial 11 finished with value: 0.7379834788260752 and parameters: {'num_iterations': 1513, 'objective': 'binary', 'metric': 'auc', 'verbose': -1, 'learning_rate': 0.005340229419903739, 'n_estimators': 1206, 'min_child_samples': 10, 'subsample': 0.9, 'colsample_bytree': 0.6}. Best is trial 1 with value: 0.7382186783880451.\n",
      "[I 2025-02-24 18:09:09,879] Trial 12 finished with value: 0.7379402795548377 and parameters: {'num_iterations': 1698, 'objective': 'binary', 'metric': 'auc', 'verbose': -1, 'learning_rate': 0.008515343845233947, 'n_estimators': 1719, 'min_child_samples': 20, 'subsample': 0.9, 'colsample_bytree': 0.6}. Best is trial 1 with value: 0.7382186783880451.\n",
      "[I 2025-02-24 18:09:25,092] Trial 13 finished with value: 0.7377662236989542 and parameters: {'num_iterations': 1777, 'objective': 'binary', 'metric': 'auc', 'verbose': -1, 'learning_rate': 0.010074542479113706, 'n_estimators': 1082, 'min_child_samples': 10, 'subsample': 0.9, 'colsample_bytree': 0.7}. Best is trial 1 with value: 0.7382186783880451.\n",
      "[I 2025-02-24 18:09:46,928] Trial 14 finished with value: 0.7381908583591554 and parameters: {'num_iterations': 2165, 'objective': 'binary', 'metric': 'auc', 'verbose': -1, 'learning_rate': 0.005262187136940254, 'n_estimators': 251, 'min_child_samples': 20, 'subsample': 1.0, 'colsample_bytree': 0.6}. Best is trial 1 with value: 0.7382186783880451.\n",
      "[I 2025-02-24 18:10:09,709] Trial 15 finished with value: 0.7377493911122481 and parameters: {'num_iterations': 2161, 'objective': 'binary', 'metric': 'auc', 'verbose': -1, 'learning_rate': 0.012915147920823086, 'n_estimators': 208, 'min_child_samples': 20, 'subsample': 1.0, 'colsample_bytree': 0.5}. Best is trial 1 with value: 0.7382186783880451.\n",
      "[I 2025-02-24 18:10:29,183] Trial 16 finished with value: 0.7314049314721928 and parameters: {'num_iterations': 2496, 'objective': 'binary', 'metric': 'auc', 'verbose': -1, 'learning_rate': 0.04411166567861438, 'n_estimators': 459, 'min_child_samples': 25, 'subsample': 0.8, 'colsample_bytree': 0.7}. Best is trial 1 with value: 0.7382186783880451.\n",
      "[I 2025-02-24 18:10:50,440] Trial 17 finished with value: 0.7378626606418052 and parameters: {'num_iterations': 2142, 'objective': 'binary', 'metric': 'auc', 'verbose': -1, 'learning_rate': 0.007272701602195342, 'n_estimators': 1943, 'min_child_samples': 15, 'subsample': 1.0, 'colsample_bytree': 0.6}. Best is trial 1 with value: 0.7382186783880451.\n",
      "[I 2025-02-24 18:11:10,690] Trial 18 finished with value: 0.7384106429408015 and parameters: {'num_iterations': 1800, 'objective': 'binary', 'metric': 'auc', 'verbose': -1, 'learning_rate': 0.005192673733367554, 'n_estimators': 1544, 'min_child_samples': 30, 'subsample': 0.8, 'colsample_bytree': 0.5}. Best is trial 18 with value: 0.7384106429408015.\n",
      "[I 2025-02-24 18:11:29,621] Trial 19 finished with value: 0.7382272634440628 and parameters: {'num_iterations': 1780, 'objective': 'binary', 'metric': 'auc', 'verbose': -1, 'learning_rate': 0.01253954528950607, 'n_estimators': 1638, 'min_child_samples': 35, 'subsample': 0.8, 'colsample_bytree': 0.5}. Best is trial 18 with value: 0.7384106429408015.\n",
      "[I 2025-02-24 18:11:44,616] Trial 20 finished with value: 0.7372635293573495 and parameters: {'num_iterations': 1812, 'objective': 'binary', 'metric': 'auc', 'verbose': -1, 'learning_rate': 0.011693039805188564, 'n_estimators': 1764, 'min_child_samples': 35, 'subsample': 0.8, 'colsample_bytree': 1.0}. Best is trial 18 with value: 0.7384106429408015.\n",
      "[I 2025-02-24 18:12:01,320] Trial 21 finished with value: 0.7384521704689385 and parameters: {'num_iterations': 1511, 'objective': 'binary', 'metric': 'auc', 'verbose': -1, 'learning_rate': 0.008587022715210543, 'n_estimators': 1504, 'min_child_samples': 35, 'subsample': 0.8, 'colsample_bytree': 0.5}. Best is trial 21 with value: 0.7384521704689385.\n",
      "[I 2025-02-24 18:12:20,200] Trial 22 finished with value: 0.7385916835855539 and parameters: {'num_iterations': 1736, 'objective': 'binary', 'metric': 'auc', 'verbose': -1, 'learning_rate': 0.008925053016902208, 'n_estimators': 1580, 'min_child_samples': 35, 'subsample': 0.8, 'colsample_bytree': 0.5}. Best is trial 22 with value: 0.7385916835855539.\n",
      "[I 2025-02-24 18:12:38,468] Trial 23 finished with value: 0.7384570348045636 and parameters: {'num_iterations': 1669, 'objective': 'binary', 'metric': 'auc', 'verbose': -1, 'learning_rate': 0.008704298382699876, 'n_estimators': 1518, 'min_child_samples': 40, 'subsample': 0.8, 'colsample_bytree': 0.5}. Best is trial 22 with value: 0.7385916835855539.\n",
      "[I 2025-02-24 18:12:56,851] Trial 24 finished with value: 0.7383896925450805 and parameters: {'num_iterations': 1677, 'objective': 'binary', 'metric': 'auc', 'verbose': -1, 'learning_rate': 0.008203155324394192, 'n_estimators': 1219, 'min_child_samples': 40, 'subsample': 0.7, 'colsample_bytree': 0.5}. Best is trial 22 with value: 0.7385916835855539.\n",
      "[I 2025-02-24 18:13:15,458] Trial 25 finished with value: 0.7377974864862006 and parameters: {'num_iterations': 1956, 'objective': 'binary', 'metric': 'auc', 'verbose': -1, 'learning_rate': 0.014145451240839206, 'n_estimators': 1869, 'min_child_samples': 40, 'subsample': 0.9, 'colsample_bytree': 0.6}. Best is trial 22 with value: 0.7385916835855539.\n",
      "[I 2025-02-24 18:13:29,896] Trial 26 finished with value: 0.738401636970844 and parameters: {'num_iterations': 1639, 'objective': 'binary', 'metric': 'auc', 'verbose': -1, 'learning_rate': 0.007755666757008639, 'n_estimators': 1494, 'min_child_samples': 45, 'subsample': 0.6, 'colsample_bytree': 0.7}. Best is trial 22 with value: 0.7385916835855539.\n",
      "[I 2025-02-24 18:13:42,810] Trial 27 finished with value: 0.7378452641892551 and parameters: {'num_iterations': 1517, 'objective': 'binary', 'metric': 'auc', 'verbose': -1, 'learning_rate': 0.009582582300743471, 'n_estimators': 1289, 'min_child_samples': 30, 'subsample': 0.8, 'colsample_bytree': 0.9}. Best is trial 22 with value: 0.7385916835855539.\n",
      "[I 2025-02-24 18:14:04,086] Trial 28 finished with value: 0.7378370087167941 and parameters: {'num_iterations': 2030, 'objective': 'binary', 'metric': 'auc', 'verbose': -1, 'learning_rate': 0.015503439990705315, 'n_estimators': 1751, 'min_child_samples': 45, 'subsample': 0.7, 'colsample_bytree': 0.5}. Best is trial 22 with value: 0.7385916835855539.\n",
      "[I 2025-02-24 18:14:21,431] Trial 29 finished with value: 0.7347976844587042 and parameters: {'num_iterations': 1709, 'objective': 'binary', 'metric': 'auc', 'verbose': -1, 'learning_rate': 0.04292670633781395, 'n_estimators': 1108, 'min_child_samples': 50, 'subsample': 0.8, 'colsample_bytree': 0.5}. Best is trial 22 with value: 0.7385916835855539.\n",
      "[I 2025-02-24 18:14:38,900] Trial 30 finished with value: 0.7363888821030855 and parameters: {'num_iterations': 1868, 'objective': 'binary', 'metric': 'auc', 'verbose': -1, 'learning_rate': 0.022872414356131663, 'n_estimators': 1358, 'min_child_samples': 40, 'subsample': 0.9, 'colsample_bytree': 0.6}. Best is trial 22 with value: 0.7385916835855539.\n",
      "[I 2025-02-24 18:14:58,399] Trial 31 finished with value: 0.7383946799781785 and parameters: {'num_iterations': 1758, 'objective': 'binary', 'metric': 'auc', 'verbose': -1, 'learning_rate': 0.006484124207225973, 'n_estimators': 1535, 'min_child_samples': 30, 'subsample': 0.8, 'colsample_bytree': 0.5}. Best is trial 22 with value: 0.7385916835855539.\n",
      "[I 2025-02-24 18:15:15,425] Trial 32 finished with value: 0.7384667197960655 and parameters: {'num_iterations': 1551, 'objective': 'binary', 'metric': 'auc', 'verbose': -1, 'learning_rate': 0.00908894682863582, 'n_estimators': 1659, 'min_child_samples': 35, 'subsample': 0.8, 'colsample_bytree': 0.5}. Best is trial 22 with value: 0.7385916835855539.\n",
      "[I 2025-02-24 18:15:32,881] Trial 33 finished with value: 0.7384602829894954 and parameters: {'num_iterations': 1593, 'objective': 'binary', 'metric': 'auc', 'verbose': -1, 'learning_rate': 0.009149074537735764, 'n_estimators': 1641, 'min_child_samples': 35, 'subsample': 0.7, 'colsample_bytree': 0.5}. Best is trial 22 with value: 0.7385916835855539.\n",
      "[I 2025-02-24 18:15:49,254] Trial 34 finished with value: 0.7381919027022326 and parameters: {'num_iterations': 1613, 'objective': 'binary', 'metric': 'auc', 'verbose': -1, 'learning_rate': 0.006885346270582161, 'n_estimators': 1674, 'min_child_samples': 35, 'subsample': 0.7, 'colsample_bytree': 0.6}. Best is trial 22 with value: 0.7385916835855539.\n",
      "[I 2025-02-24 18:16:06,593] Trial 35 finished with value: 0.738577948290103 and parameters: {'num_iterations': 1600, 'objective': 'binary', 'metric': 'auc', 'verbose': -1, 'learning_rate': 0.01032005835942174, 'n_estimators': 1835, 'min_child_samples': 40, 'subsample': 0.6, 'colsample_bytree': 0.5}. Best is trial 22 with value: 0.7385916835855539.\n",
      "[I 2025-02-24 18:16:23,802] Trial 36 finished with value: 0.7386874534195191 and parameters: {'num_iterations': 1584, 'objective': 'binary', 'metric': 'auc', 'verbose': -1, 'learning_rate': 0.010615177637135098, 'n_estimators': 1842, 'min_child_samples': 45, 'subsample': 0.5, 'colsample_bytree': 0.5}. Best is trial 36 with value: 0.7386874534195191.\n",
      "[I 2025-02-24 18:16:43,279] Trial 37 finished with value: 0.7382540192754441 and parameters: {'num_iterations': 2031, 'objective': 'binary', 'metric': 'auc', 'verbose': -1, 'learning_rate': 0.011133020719163883, 'n_estimators': 1829, 'min_child_samples': 45, 'subsample': 0.5, 'colsample_bytree': 0.6}. Best is trial 36 with value: 0.7386874534195191.\n",
      "[I 2025-02-24 18:17:02,266] Trial 38 finished with value: 0.7369258372510361 and parameters: {'num_iterations': 2384, 'objective': 'binary', 'metric': 'auc', 'verbose': -1, 'learning_rate': 0.015825330326339187, 'n_estimators': 1989, 'min_child_samples': 50, 'subsample': 0.5, 'colsample_bytree': 0.8}. Best is trial 36 with value: 0.7386874534195191.\n",
      "[I 2025-02-24 18:17:22,746] Trial 39 finished with value: 0.7384441294243337 and parameters: {'num_iterations': 1857, 'objective': 'binary', 'metric': 'auc', 'verbose': -1, 'learning_rate': 0.006524270952902327, 'n_estimators': 1847, 'min_child_samples': 45, 'subsample': 0.5, 'colsample_bytree': 0.5}. Best is trial 36 with value: 0.7386874534195191.\n"
     ]
    },
    {
     "name": "stdout",
     "output_type": "stream",
     "text": [
      "Cat val score : 0.7392139333696093\n",
      "LGBM val score : 0.7385130759218516\n",
      "Ensemble val score : 0.7392259294168937\n"
     ]
    },
    {
     "name": "stderr",
     "output_type": "stream",
     "text": [
      "[I 2025-02-24 18:17:41,056] A new study created in memory with name: no-name-ff6a7ee6-6c3f-4b90-914c-be934d3561fb\n"
     ]
    },
    {
     "name": "stdout",
     "output_type": "stream",
     "text": [
      "==================================================\n",
      "0:\ttest: 0.7241470\tbest: 0.7241470 (0)\ttotal: 146ms\tremaining: 5m 45s\n",
      "300:\ttest: 0.7360263\tbest: 0.7360263 (300)\ttotal: 40s\tremaining: 4m 34s\n",
      "600:\ttest: 0.7374802\tbest: 0.7374802 (600)\ttotal: 1m 22s\tremaining: 4m 1s\n",
      "900:\ttest: 0.7379259\tbest: 0.7379319 (899)\ttotal: 2m 2s\tremaining: 3m 18s\n",
      "1200:\ttest: 0.7382320\tbest: 0.7382337 (1189)\ttotal: 2m 46s\tremaining: 2m 41s\n",
      "1500:\ttest: 0.7382570\tbest: 0.7382802 (1473)\ttotal: 3m 37s\tremaining: 2m 5s\n",
      "1800:\ttest: 0.7381816\tbest: 0.7382978 (1615)\ttotal: 4m 26s\tremaining: 1m 23s\n"
     ]
    },
    {
     "name": "stderr",
     "output_type": "stream",
     "text": [
      "[I 2025-02-24 18:22:27,971] Trial 0 finished with value: 0.7382977784416394 and parameters: {'iterations': 2366, 'depth': 10, 'learning_rate': 0.01181021951839225, 'l2_leaf_reg': 9.980783802743254}. Best is trial 0 with value: 0.7382977784416394.\n"
     ]
    },
    {
     "name": "stdout",
     "output_type": "stream",
     "text": [
      "Stopped by overfitting detector  (300 iterations wait)\n",
      "\n",
      "bestTest = 0.7382977784\n",
      "bestIteration = 1615\n",
      "\n",
      "Shrink model to first 1616 iterations.\n",
      "저장 완료\n",
      "0:\ttest: 0.6985052\tbest: 0.6985052 (0)\ttotal: 60.5ms\tremaining: 2m 12s\n",
      "300:\ttest: 0.7270302\tbest: 0.7270302 (300)\ttotal: 13.3s\tremaining: 1m 23s\n"
     ]
    },
    {
     "name": "stderr",
     "output_type": "stream",
     "text": [
      "Training has stopped (degenerate solution on iteration 443, probably too small l2-regularization, try to increase it)\n",
      "[I 2025-02-24 18:22:47,724] Trial 1 finished with value: 0.7301373610551172 and parameters: {'iterations': 2193, 'depth': 4, 'learning_rate': 0.005671430811678843, 'l2_leaf_reg': 0.00012325230809466137}. Best is trial 0 with value: 0.7382977784416394.\n"
     ]
    },
    {
     "name": "stdout",
     "output_type": "stream",
     "text": [
      "\n",
      "bestTest = 0.7301373611\n",
      "bestIteration = 442\n",
      "\n",
      "Shrink model to first 443 iterations.\n",
      "0:\ttest: 0.6985052\tbest: 0.6985052 (0)\ttotal: 58.8ms\tremaining: 2m 29s\n",
      "300:\ttest: 0.7382083\tbest: 0.7382589 (266)\ttotal: 14.6s\tremaining: 1m 48s\n",
      "600:\ttest: 0.7383152\tbest: 0.7385306 (431)\ttotal: 29.8s\tremaining: 1m 36s\n"
     ]
    },
    {
     "name": "stderr",
     "output_type": "stream",
     "text": [
      "[I 2025-02-24 18:23:24,416] Trial 2 finished with value: 0.7385306192971919 and parameters: {'iterations': 2535, 'depth': 4, 'learning_rate': 0.09275339199839054, 'l2_leaf_reg': 0.0008705394248343123}. Best is trial 2 with value: 0.7385306192971919.\n"
     ]
    },
    {
     "name": "stdout",
     "output_type": "stream",
     "text": [
      "Stopped by overfitting detector  (300 iterations wait)\n",
      "\n",
      "bestTest = 0.7385306193\n",
      "bestIteration = 431\n",
      "\n",
      "Shrink model to first 432 iterations.\n",
      "저장 완료\n",
      "0:\ttest: 0.6985052\tbest: 0.6985052 (0)\ttotal: 58ms\tremaining: 2m 15s\n",
      "300:\ttest: 0.7373560\tbest: 0.7373560 (300)\ttotal: 14s\tremaining: 1m 34s\n",
      "600:\ttest: 0.7384730\tbest: 0.7384777 (597)\ttotal: 29s\tremaining: 1m 23s\n",
      "900:\ttest: 0.7387624\tbest: 0.7387806 (899)\ttotal: 44.3s\tremaining: 1m 10s\n",
      "1200:\ttest: 0.7388465\tbest: 0.7389413 (1065)\ttotal: 59.4s\tremaining: 56s\n",
      "1500:\ttest: 0.7389126\tbest: 0.7390232 (1416)\ttotal: 1m 14s\tremaining: 41.4s\n"
     ]
    },
    {
     "name": "stderr",
     "output_type": "stream",
     "text": [
      "[I 2025-02-24 18:24:50,575] Trial 3 finished with value: 0.7390232196460136 and parameters: {'iterations': 2334, 'depth': 4, 'learning_rate': 0.04657568321363276, 'l2_leaf_reg': 0.0008640473331457248}. Best is trial 3 with value: 0.7390232196460136.\n"
     ]
    },
    {
     "name": "stdout",
     "output_type": "stream",
     "text": [
      "Stopped by overfitting detector  (300 iterations wait)\n",
      "\n",
      "bestTest = 0.7390232196\n",
      "bestIteration = 1416\n",
      "\n",
      "Shrink model to first 1417 iterations.\n",
      "저장 완료\n",
      "0:\ttest: 0.7240309\tbest: 0.7240309 (0)\ttotal: 136ms\tremaining: 3m 57s\n",
      "300:\ttest: 0.7353622\tbest: 0.7353622 (300)\ttotal: 37.6s\tremaining: 2m 59s\n",
      "600:\ttest: 0.7362642\tbest: 0.7362902 (546)\ttotal: 1m 18s\tremaining: 2m 28s\n",
      "900:\ttest: 0.7363912\tbest: 0.7364011 (886)\ttotal: 1m 58s\tremaining: 1m 50s\n",
      "1200:\ttest: 0.7352314\tbest: 0.7364785 (1011)\ttotal: 2m 41s\tremaining: 1m 12s\n"
     ]
    },
    {
     "name": "stderr",
     "output_type": "stream",
     "text": [
      "[I 2025-02-24 18:27:48,177] Trial 4 finished with value: 0.7364785010342888 and parameters: {'iterations': 1742, 'depth': 10, 'learning_rate': 0.012622767482095846, 'l2_leaf_reg': 0.00021158816350109617}. Best is trial 3 with value: 0.7390232196460136.\n"
     ]
    },
    {
     "name": "stdout",
     "output_type": "stream",
     "text": [
      "Stopped by overfitting detector  (300 iterations wait)\n",
      "\n",
      "bestTest = 0.736478501\n",
      "bestIteration = 1011\n",
      "\n",
      "Shrink model to first 1012 iterations.\n",
      "0:\ttest: 0.6985052\tbest: 0.6985052 (0)\ttotal: 52.4ms\tremaining: 1m 49s\n",
      "300:\ttest: 0.7379140\tbest: 0.7379312 (295)\ttotal: 14.6s\tremaining: 1m 26s\n",
      "600:\ttest: 0.7382179\tbest: 0.7382918 (583)\ttotal: 29.7s\tremaining: 1m 13s\n"
     ]
    },
    {
     "name": "stderr",
     "output_type": "stream",
     "text": [
      "[I 2025-02-24 18:28:32,571] Trial 5 finished with value: 0.7382918459376198 and parameters: {'iterations': 2082, 'depth': 4, 'learning_rate': 0.06995196593094148, 'l2_leaf_reg': 0.0018080296485396804}. Best is trial 3 with value: 0.7390232196460136.\n"
     ]
    },
    {
     "name": "stdout",
     "output_type": "stream",
     "text": [
      "Stopped by overfitting detector  (300 iterations wait)\n",
      "\n",
      "bestTest = 0.7382918459\n",
      "bestIteration = 583\n",
      "\n",
      "Shrink model to first 584 iterations.\n",
      "0:\ttest: 0.7134343\tbest: 0.7134343 (0)\ttotal: 66.3ms\tremaining: 2m 12s\n",
      "300:\ttest: 0.7383183\tbest: 0.7383402 (297)\ttotal: 17.8s\tremaining: 1m 40s\n",
      "600:\ttest: 0.7386239\tbest: 0.7386640 (532)\ttotal: 36.2s\tremaining: 1m 24s\n",
      "900:\ttest: 0.7388104\tbest: 0.7388122 (898)\ttotal: 54.9s\tremaining: 1m 6s\n",
      "1200:\ttest: 0.7386926\tbest: 0.7388478 (1093)\ttotal: 1m 13s\tremaining: 48.7s\n"
     ]
    },
    {
     "name": "stderr",
     "output_type": "stream",
     "text": [
      "[I 2025-02-24 18:29:58,467] Trial 6 finished with value: 0.7388478414850175 and parameters: {'iterations': 1997, 'depth': 5, 'learning_rate': 0.07985155992831598, 'l2_leaf_reg': 62.52181000710482}. Best is trial 3 with value: 0.7390232196460136.\n"
     ]
    },
    {
     "name": "stdout",
     "output_type": "stream",
     "text": [
      "Stopped by overfitting detector  (300 iterations wait)\n",
      "\n",
      "bestTest = 0.7388478415\n",
      "bestIteration = 1093\n",
      "\n",
      "Shrink model to first 1094 iterations.\n",
      "0:\ttest: 0.7232323\tbest: 0.7232323 (0)\ttotal: 85.9ms\tremaining: 2m 45s\n",
      "300:\ttest: 0.7380094\tbest: 0.7383708 (127)\ttotal: 25s\tremaining: 2m 15s\n"
     ]
    },
    {
     "name": "stderr",
     "output_type": "stream",
     "text": [
      "[I 2025-02-24 18:30:34,803] Trial 7 finished with value: 0.7383708467190584 and parameters: {'iterations': 1927, 'depth': 7, 'learning_rate': 0.0941937211034094, 'l2_leaf_reg': 0.05654822767791934}. Best is trial 3 with value: 0.7390232196460136.\n"
     ]
    },
    {
     "name": "stdout",
     "output_type": "stream",
     "text": [
      "Stopped by overfitting detector  (300 iterations wait)\n",
      "\n",
      "bestTest = 0.7383708467\n",
      "bestIteration = 127\n",
      "\n",
      "Shrink model to first 128 iterations.\n",
      "0:\ttest: 0.7232323\tbest: 0.7232323 (0)\ttotal: 86.4ms\tremaining: 2m 44s\n",
      "300:\ttest: 0.7381180\tbest: 0.7381180 (300)\ttotal: 24.1s\tremaining: 2m 8s\n",
      "600:\ttest: 0.7383779\tbest: 0.7384141 (571)\ttotal: 50.1s\tremaining: 1m 48s\n"
     ]
    },
    {
     "name": "stderr",
     "output_type": "stream",
     "text": [
      "[I 2025-02-24 18:31:49,673] Trial 8 finished with value: 0.7384140698156133 and parameters: {'iterations': 1904, 'depth': 7, 'learning_rate': 0.05155602859187331, 'l2_leaf_reg': 1.299974533316308}. Best is trial 3 with value: 0.7390232196460136.\n"
     ]
    },
    {
     "name": "stdout",
     "output_type": "stream",
     "text": [
      "Stopped by overfitting detector  (300 iterations wait)\n",
      "\n",
      "bestTest = 0.7384140698\n",
      "bestIteration = 571\n",
      "\n",
      "Shrink model to first 572 iterations.\n",
      "0:\ttest: 0.7170665\tbest: 0.7170665 (0)\ttotal: 75.5ms\tremaining: 3m 19s\n",
      "300:\ttest: 0.7375449\tbest: 0.7375449 (300)\ttotal: 20.3s\tremaining: 2m 37s\n",
      "600:\ttest: 0.7387275\tbest: 0.7387275 (600)\ttotal: 42.5s\tremaining: 2m 24s\n",
      "900:\ttest: 0.7388097\tbest: 0.7388504 (833)\ttotal: 1m 4s\tremaining: 2m 5s\n",
      "1200:\ttest: 0.7388319\tbest: 0.7390313 (1104)\ttotal: 1m 27s\tremaining: 1m 44s\n"
     ]
    },
    {
     "name": "stderr",
     "output_type": "stream",
     "text": [
      "[I 2025-02-24 18:33:32,928] Trial 9 finished with value: 0.7390313242247981 and parameters: {'iterations': 2639, 'depth': 6, 'learning_rate': 0.03968704290444751, 'l2_leaf_reg': 0.30557194377967184}. Best is trial 9 with value: 0.7390313242247981.\n"
     ]
    },
    {
     "name": "stdout",
     "output_type": "stream",
     "text": [
      "Stopped by overfitting detector  (300 iterations wait)\n",
      "\n",
      "bestTest = 0.7390313242\n",
      "bestIteration = 1104\n",
      "\n",
      "Shrink model to first 1105 iterations.\n",
      "저장 완료\n",
      "0:\ttest: 0.7170665\tbest: 0.7170665 (0)\ttotal: 74.1ms\tremaining: 3m 38s\n",
      "300:\ttest: 0.7370305\tbest: 0.7370305 (298)\ttotal: 20s\tremaining: 2m 55s\n",
      "600:\ttest: 0.7382678\tbest: 0.7383176 (591)\ttotal: 42s\tremaining: 2m 43s\n",
      "900:\ttest: 0.7385737\tbest: 0.7385867 (873)\ttotal: 1m 5s\tremaining: 2m 28s\n",
      "1200:\ttest: 0.7385242\tbest: 0.7386706 (1068)\ttotal: 1m 28s\tremaining: 2m 8s\n"
     ]
    },
    {
     "name": "stderr",
     "output_type": "stream",
     "text": [
      "[I 2025-02-24 18:35:14,194] Trial 10 finished with value: 0.738670569211292 and parameters: {'iterations': 2945, 'depth': 6, 'learning_rate': 0.032580115422505045, 'l2_leaf_reg': 0.05588195113566891}. Best is trial 9 with value: 0.7390313242247981.\n"
     ]
    },
    {
     "name": "stdout",
     "output_type": "stream",
     "text": [
      "Stopped by overfitting detector  (300 iterations wait)\n",
      "\n",
      "bestTest = 0.7386705692\n",
      "bestIteration = 1068\n",
      "\n",
      "Shrink model to first 1069 iterations.\n",
      "0:\ttest: 0.7170665\tbest: 0.7170665 (0)\ttotal: 75.4ms\tremaining: 3m 22s\n",
      "300:\ttest: 0.7378393\tbest: 0.7378393 (300)\ttotal: 20.4s\tremaining: 2m 42s\n",
      "600:\ttest: 0.7388552\tbest: 0.7388572 (598)\ttotal: 43s\tremaining: 2m 29s\n",
      "900:\ttest: 0.7388259\tbest: 0.7389626 (637)\ttotal: 1m 5s\tremaining: 2m 10s\n"
     ]
    },
    {
     "name": "stderr",
     "output_type": "stream",
     "text": [
      "[I 2025-02-24 18:36:22,718] Trial 11 finished with value: 0.7389626000969087 and parameters: {'iterations': 2693, 'depth': 6, 'learning_rate': 0.044130390779725207, 'l2_leaf_reg': 0.36382012989417306}. Best is trial 9 with value: 0.7390313242247981.\n"
     ]
    },
    {
     "name": "stdout",
     "output_type": "stream",
     "text": [
      "Stopped by overfitting detector  (300 iterations wait)\n",
      "\n",
      "bestTest = 0.7389626001\n",
      "bestIteration = 637\n",
      "\n",
      "Shrink model to first 638 iterations.\n",
      "0:\ttest: 0.7231279\tbest: 0.7231279 (0)\ttotal: 106ms\tremaining: 4m 46s\n",
      "300:\ttest: 0.7377702\tbest: 0.7377909 (299)\ttotal: 25.9s\tremaining: 3m 27s\n",
      "600:\ttest: 0.7377807\tbest: 0.7381833 (485)\ttotal: 55.1s\tremaining: 3m 13s\n"
     ]
    },
    {
     "name": "stderr",
     "output_type": "stream",
     "text": [
      "[I 2025-02-24 18:37:36,651] Trial 12 finished with value: 0.7381833335297598 and parameters: {'iterations': 2708, 'depth': 8, 'learning_rate': 0.03421727225236856, 'l2_leaf_reg': 0.007618883283589744}. Best is trial 9 with value: 0.7390313242247981.\n"
     ]
    },
    {
     "name": "stdout",
     "output_type": "stream",
     "text": [
      "Stopped by overfitting detector  (300 iterations wait)\n",
      "\n",
      "bestTest = 0.7381833335\n",
      "bestIteration = 485\n",
      "\n",
      "Shrink model to first 486 iterations.\n",
      "0:\ttest: 0.7134299\tbest: 0.7134299 (0)\ttotal: 64.9ms\tremaining: 2m 34s\n",
      "300:\ttest: 0.7381219\tbest: 0.7381373 (287)\ttotal: 17.8s\tremaining: 2m 2s\n",
      "600:\ttest: 0.7381834\tbest: 0.7384468 (397)\ttotal: 36.6s\tremaining: 1m 48s\n"
     ]
    },
    {
     "name": "stderr",
     "output_type": "stream",
     "text": [
      "[I 2025-02-24 18:38:19,583] Trial 13 finished with value: 0.7384467660927867 and parameters: {'iterations': 2375, 'depth': 5, 'learning_rate': 0.06513774410228096, 'l2_leaf_reg': 0.017662074517877307}. Best is trial 9 with value: 0.7390313242247981.\n"
     ]
    },
    {
     "name": "stdout",
     "output_type": "stream",
     "text": [
      "Stopped by overfitting detector  (300 iterations wait)\n",
      "\n",
      "bestTest = 0.7384467661\n",
      "bestIteration = 397\n",
      "\n",
      "Shrink model to first 398 iterations.\n",
      "0:\ttest: 0.7231266\tbest: 0.7231266 (0)\ttotal: 101ms\tremaining: 2m 34s\n",
      "300:\ttest: 0.7376435\tbest: 0.7376435 (300)\ttotal: 26.4s\tremaining: 1m 47s\n",
      "600:\ttest: 0.7385211\tbest: 0.7385839 (578)\ttotal: 54.6s\tremaining: 1m 24s\n",
      "900:\ttest: 0.7383810\tbest: 0.7386727 (630)\ttotal: 1m 24s\tremaining: 59.3s\n"
     ]
    },
    {
     "name": "stderr",
     "output_type": "stream",
     "text": [
      "[I 2025-02-24 18:39:47,307] Trial 14 finished with value: 0.7386726698101049 and parameters: {'iterations': 1533, 'depth': 8, 'learning_rate': 0.028668771596853302, 'l2_leaf_reg': 1.2175116583082286}. Best is trial 9 with value: 0.7390313242247981.\n"
     ]
    },
    {
     "name": "stdout",
     "output_type": "stream",
     "text": [
      "Stopped by overfitting detector  (300 iterations wait)\n",
      "\n",
      "bestTest = 0.7386726698\n",
      "bestIteration = 630\n",
      "\n",
      "Shrink model to first 631 iterations.\n",
      "0:\ttest: 0.7134299\tbest: 0.7134299 (0)\ttotal: 64.7ms\tremaining: 3m 14s\n",
      "300:\ttest: 0.7375687\tbest: 0.7375996 (294)\ttotal: 17.5s\tremaining: 2m 36s\n",
      "600:\ttest: 0.7376702\tbest: 0.7380141 (513)\ttotal: 36.1s\tremaining: 2m 24s\n",
      "900:\ttest: 0.7379218\tbest: 0.7380232 (769)\ttotal: 54.9s\tremaining: 2m 7s\n",
      "1200:\ttest: 0.7378800\tbest: 0.7380854 (1121)\ttotal: 1m 13s\tremaining: 1m 50s\n"
     ]
    },
    {
     "name": "stderr",
     "output_type": "stream",
     "text": [
      "[I 2025-02-24 18:41:15,452] Trial 15 finished with value: 0.7380853876501436 and parameters: {'iterations': 3000, 'depth': 5, 'learning_rate': 0.05518492052617744, 'l2_leaf_reg': 0.004468246660190198}. Best is trial 9 with value: 0.7390313242247981.\n"
     ]
    },
    {
     "name": "stdout",
     "output_type": "stream",
     "text": [
      "Stopped by overfitting detector  (300 iterations wait)\n",
      "\n",
      "bestTest = 0.7380853877\n",
      "bestIteration = 1121\n",
      "\n",
      "Shrink model to first 1122 iterations.\n",
      "0:\ttest: 0.7170665\tbest: 0.7170665 (0)\ttotal: 73.7ms\tremaining: 3m 11s\n",
      "300:\ttest: 0.7376463\tbest: 0.7376463 (300)\ttotal: 20s\tremaining: 2m 32s\n",
      "600:\ttest: 0.7386921\tbest: 0.7387107 (599)\ttotal: 42.1s\tremaining: 2m 19s\n",
      "900:\ttest: 0.7387425\tbest: 0.7387522 (897)\ttotal: 1m 4s\tremaining: 2m 1s\n",
      "1200:\ttest: 0.7384459\tbest: 0.7387580 (906)\ttotal: 1m 27s\tremaining: 1m 41s\n"
     ]
    },
    {
     "name": "stderr",
     "output_type": "stream",
     "text": [
      "[I 2025-02-24 18:42:43,305] Trial 16 finished with value: 0.7387580200386168 and parameters: {'iterations': 2598, 'depth': 6, 'learning_rate': 0.040783857112244234, 'l2_leaf_reg': 0.3606784305013277}. Best is trial 9 with value: 0.7390313242247981.\n"
     ]
    },
    {
     "name": "stdout",
     "output_type": "stream",
     "text": [
      "Stopped by overfitting detector  (300 iterations wait)\n",
      "\n",
      "bestTest = 0.73875802\n",
      "bestIteration = 906\n",
      "\n",
      "Shrink model to first 907 iterations.\n",
      "0:\ttest: 0.7231345\tbest: 0.7231345 (0)\ttotal: 103ms\tremaining: 4m 10s\n",
      "300:\ttest: 0.7373370\tbest: 0.7373370 (300)\ttotal: 25.6s\tremaining: 3m\n",
      "600:\ttest: 0.7384339\tbest: 0.7384534 (576)\ttotal: 52.2s\tremaining: 2m 38s\n",
      "900:\ttest: 0.7388526\tbest: 0.7388742 (834)\ttotal: 1m 21s\tremaining: 2m 18s\n"
     ]
    },
    {
     "name": "stderr",
     "output_type": "stream",
     "text": [
      "[I 2025-02-24 18:44:28,552] Trial 17 finished with value: 0.7388741843442315 and parameters: {'iterations': 2425, 'depth': 8, 'learning_rate': 0.023114008107260484, 'l2_leaf_reg': 3.5281501744522257}. Best is trial 9 with value: 0.7390313242247981.\n"
     ]
    },
    {
     "name": "stdout",
     "output_type": "stream",
     "text": [
      "Stopped by overfitting detector  (300 iterations wait)\n",
      "\n",
      "bestTest = 0.7388741843\n",
      "bestIteration = 834\n",
      "\n",
      "Shrink model to first 835 iterations.\n",
      "0:\ttest: 0.7134299\tbest: 0.7134299 (0)\ttotal: 66.1ms\tremaining: 3m 5s\n",
      "300:\ttest: 0.7377896\tbest: 0.7378140 (294)\ttotal: 17.8s\tremaining: 2m 27s\n",
      "600:\ttest: 0.7383232\tbest: 0.7384001 (589)\ttotal: 36.5s\tremaining: 2m 13s\n",
      "900:\ttest: 0.7385438\tbest: 0.7385479 (897)\ttotal: 55.4s\tremaining: 1m 57s\n",
      "1200:\ttest: 0.7385286\tbest: 0.7386134 (957)\ttotal: 1m 14s\tremaining: 1m 39s\n"
     ]
    },
    {
     "name": "stderr",
     "output_type": "stream",
     "text": [
      "[I 2025-02-24 18:45:46,879] Trial 18 finished with value: 0.738613448012951 and parameters: {'iterations': 2804, 'depth': 5, 'learning_rate': 0.056541387534838033, 'l2_leaf_reg': 0.15918843820484166}. Best is trial 9 with value: 0.7390313242247981.\n"
     ]
    },
    {
     "name": "stdout",
     "output_type": "stream",
     "text": [
      "Stopped by overfitting detector  (300 iterations wait)\n",
      "\n",
      "bestTest = 0.738613448\n",
      "bestIteration = 957\n",
      "\n",
      "Shrink model to first 958 iterations.\n",
      "0:\ttest: 0.7239888\tbest: 0.7239888 (0)\ttotal: 113ms\tremaining: 4m 16s\n",
      "300:\ttest: 0.7352379\tbest: 0.7361468 (145)\ttotal: 31.7s\tremaining: 3m 26s\n"
     ]
    },
    {
     "name": "stderr",
     "output_type": "stream",
     "text": [
      "[I 2025-02-24 18:46:35,247] Trial 19 finished with value: 0.7361468248206057 and parameters: {'iterations': 2262, 'depth': 9, 'learning_rate': 0.06980681380420753, 'l2_leaf_reg': 0.018054480870052212}. Best is trial 9 with value: 0.7390313242247981.\n",
      "[I 2025-02-24 18:46:35,251] A new study created in memory with name: no-name-d75dd326-b841-45ad-9b11-8dead73499d3\n"
     ]
    },
    {
     "name": "stdout",
     "output_type": "stream",
     "text": [
      "Stopped by overfitting detector  (300 iterations wait)\n",
      "\n",
      "bestTest = 0.7361468248\n",
      "bestIteration = 145\n",
      "\n",
      "Shrink model to first 146 iterations.\n"
     ]
    },
    {
     "name": "stderr",
     "output_type": "stream",
     "text": [
      "[I 2025-02-24 18:46:58,760] Trial 0 finished with value: 0.7292510393953529 and parameters: {'num_iterations': 2366, 'objective': 'binary', 'metric': 'auc', 'verbose': -1, 'learning_rate': 0.0652646236447618, 'n_estimators': 236, 'min_child_samples': 45, 'subsample': 0.7, 'colsample_bytree': 0.5}. Best is trial 0 with value: 0.7292510393953529.\n",
      "[I 2025-02-24 18:47:15,895] Trial 1 finished with value: 0.7385135047775638 and parameters: {'num_iterations': 1510, 'objective': 'binary', 'metric': 'auc', 'verbose': -1, 'learning_rate': 0.005231880959249543, 'n_estimators': 1411, 'min_child_samples': 10, 'subsample': 1.0, 'colsample_bytree': 0.5}. Best is trial 1 with value: 0.7385135047775638.\n",
      "[I 2025-02-24 18:47:35,469] Trial 2 finished with value: 0.7371672909588098 and parameters: {'num_iterations': 2334, 'objective': 'binary', 'metric': 'auc', 'verbose': -1, 'learning_rate': 0.006578527777128852, 'n_estimators': 931, 'min_child_samples': 15, 'subsample': 0.5, 'colsample_bytree': 1.0}. Best is trial 1 with value: 0.7385135047775638.\n",
      "[I 2025-02-24 18:47:52,127] Trial 3 finished with value: 0.7386276121641142 and parameters: {'num_iterations': 1620, 'objective': 'binary', 'metric': 'auc', 'verbose': -1, 'learning_rate': 0.0058823249237283685, 'n_estimators': 837, 'min_child_samples': 10, 'subsample': 0.9, 'colsample_bytree': 0.6}. Best is trial 3 with value: 0.7386276121641142.\n",
      "[I 2025-02-24 18:48:08,770] Trial 4 finished with value: 0.7378260331872694 and parameters: {'num_iterations': 1997, 'objective': 'binary', 'metric': 'auc', 'verbose': -1, 'learning_rate': 0.010907507425244923, 'n_estimators': 1597, 'min_child_samples': 50, 'subsample': 0.6, 'colsample_bytree': 0.8}. Best is trial 3 with value: 0.7386276121641142.\n",
      "[I 2025-02-24 18:48:31,385] Trial 5 finished with value: 0.733607252477428 and parameters: {'num_iterations': 2909, 'objective': 'binary', 'metric': 'auc', 'verbose': -1, 'learning_rate': 0.019760591962733942, 'n_estimators': 612, 'min_child_samples': 30, 'subsample': 0.7, 'colsample_bytree': 0.9}. Best is trial 3 with value: 0.7386276121641142.\n",
      "[I 2025-02-24 18:48:52,060] Trial 6 finished with value: 0.7349855947366253 and parameters: {'num_iterations': 2639, 'objective': 'binary', 'metric': 'auc', 'verbose': -1, 'learning_rate': 0.017862094446750985, 'n_estimators': 794, 'min_child_samples': 35, 'subsample': 1.0, 'colsample_bytree': 0.8}. Best is trial 3 with value: 0.7386276121641142.\n",
      "[I 2025-02-24 18:49:08,754] Trial 7 finished with value: 0.7374866812505141 and parameters: {'num_iterations': 1580, 'objective': 'binary', 'metric': 'auc', 'verbose': -1, 'learning_rate': 0.01776722177611332, 'n_estimators': 529, 'min_child_samples': 25, 'subsample': 0.8, 'colsample_bytree': 0.5}. Best is trial 3 with value: 0.7386276121641142.\n",
      "[I 2025-02-24 18:49:26,495] Trial 8 finished with value: 0.7341384617530116 and parameters: {'num_iterations': 1911, 'objective': 'binary', 'metric': 'auc', 'verbose': -1, 'learning_rate': 0.0304747553332844, 'n_estimators': 1328, 'min_child_samples': 10, 'subsample': 0.7, 'colsample_bytree': 0.6}. Best is trial 3 with value: 0.7386276121641142.\n",
      "[I 2025-02-24 18:49:54,182] Trial 9 finished with value: 0.7343954217714924 and parameters: {'num_iterations': 2739, 'objective': 'binary', 'metric': 'auc', 'verbose': -1, 'learning_rate': 0.02691531614176271, 'n_estimators': 1438, 'min_child_samples': 20, 'subsample': 0.6, 'colsample_bytree': 0.5}. Best is trial 3 with value: 0.7386276121641142.\n",
      "[I 2025-02-24 18:50:08,693] Trial 10 finished with value: 0.7262515709222993 and parameters: {'num_iterations': 1883, 'objective': 'binary', 'metric': 'auc', 'verbose': -1, 'learning_rate': 0.08223556891145911, 'n_estimators': 1917, 'min_child_samples': 40, 'subsample': 0.9, 'colsample_bytree': 0.7}. Best is trial 3 with value: 0.7386276121641142.\n",
      "[I 2025-02-24 18:50:24,433] Trial 11 finished with value: 0.7383959546326566 and parameters: {'num_iterations': 1513, 'objective': 'binary', 'metric': 'auc', 'verbose': -1, 'learning_rate': 0.005340229419903739, 'n_estimators': 1206, 'min_child_samples': 10, 'subsample': 1.0, 'colsample_bytree': 0.6}. Best is trial 3 with value: 0.7386276121641142.\n",
      "[I 2025-02-24 18:50:41,340] Trial 12 finished with value: 0.7384074185811871 and parameters: {'num_iterations': 1698, 'objective': 'binary', 'metric': 'auc', 'verbose': -1, 'learning_rate': 0.008515343845233947, 'n_estimators': 1719, 'min_child_samples': 20, 'subsample': 0.9, 'colsample_bytree': 0.6}. Best is trial 3 with value: 0.7386276121641142.\n",
      "[I 2025-02-24 18:50:56,249] Trial 13 finished with value: 0.7381106464574183 and parameters: {'num_iterations': 1740, 'objective': 'binary', 'metric': 'auc', 'verbose': -1, 'learning_rate': 0.010074542479113706, 'n_estimators': 1082, 'min_child_samples': 10, 'subsample': 0.9, 'colsample_bytree': 0.7}. Best is trial 3 with value: 0.7386276121641142.\n",
      "[I 2025-02-24 18:51:18,036] Trial 14 finished with value: 0.7385656345719205 and parameters: {'num_iterations': 2165, 'objective': 'binary', 'metric': 'auc', 'verbose': -1, 'learning_rate': 0.005262187136940254, 'n_estimators': 251, 'min_child_samples': 20, 'subsample': 1.0, 'colsample_bytree': 0.6}. Best is trial 3 with value: 0.7386276121641142.\n",
      "[I 2025-02-24 18:51:35,788] Trial 15 finished with value: 0.7371253067787571 and parameters: {'num_iterations': 2153, 'objective': 'binary', 'metric': 'auc', 'verbose': -1, 'learning_rate': 0.012915147920823086, 'n_estimators': 188, 'min_child_samples': 20, 'subsample': 0.8, 'colsample_bytree': 0.7}. Best is trial 3 with value: 0.7386276121641142.\n",
      "[I 2025-02-24 18:51:58,351] Trial 16 finished with value: 0.7316509675826697 and parameters: {'num_iterations': 2503, 'objective': 'binary', 'metric': 'auc', 'verbose': -1, 'learning_rate': 0.03901437770924474, 'n_estimators': 444, 'min_child_samples': 25, 'subsample': 0.9, 'colsample_bytree': 0.6}. Best is trial 3 with value: 0.7386276121641142.\n",
      "[I 2025-02-24 18:52:19,049] Trial 17 finished with value: 0.7383480617739017 and parameters: {'num_iterations': 2103, 'objective': 'binary', 'metric': 'auc', 'verbose': -1, 'learning_rate': 0.007238111112271453, 'n_estimators': 116, 'min_child_samples': 15, 'subsample': 1.0, 'colsample_bytree': 0.6}. Best is trial 3 with value: 0.7386276121641142.\n",
      "[I 2025-02-24 18:52:33,754] Trial 18 finished with value: 0.7378206089566864 and parameters: {'num_iterations': 1753, 'objective': 'binary', 'metric': 'auc', 'verbose': -1, 'learning_rate': 0.013508700117868075, 'n_estimators': 756, 'min_child_samples': 30, 'subsample': 0.8, 'colsample_bytree': 0.7}. Best is trial 3 with value: 0.7386276121641142.\n",
      "[I 2025-02-24 18:52:50,674] Trial 19 finished with value: 0.7306896001441463 and parameters: {'num_iterations': 2202, 'objective': 'binary', 'metric': 'auc', 'verbose': -1, 'learning_rate': 0.04570242881302624, 'n_estimators': 414, 'min_child_samples': 15, 'subsample': 0.9, 'colsample_bytree': 0.8}. Best is trial 3 with value: 0.7386276121641142.\n",
      "[I 2025-02-24 18:53:07,483] Trial 20 finished with value: 0.7382193812349068 and parameters: {'num_iterations': 1973, 'objective': 'binary', 'metric': 'auc', 'verbose': -1, 'learning_rate': 0.00688976659636273, 'n_estimators': 946, 'min_child_samples': 25, 'subsample': 1.0, 'colsample_bytree': 0.9}. Best is trial 3 with value: 0.7386276121641142.\n",
      "[I 2025-02-24 18:53:25,848] Trial 21 finished with value: 0.738597500933873 and parameters: {'num_iterations': 1623, 'objective': 'binary', 'metric': 'auc', 'verbose': -1, 'learning_rate': 0.0053196069822991025, 'n_estimators': 1452, 'min_child_samples': 10, 'subsample': 1.0, 'colsample_bytree': 0.5}. Best is trial 3 with value: 0.7386276121641142.\n",
      "[I 2025-02-24 18:53:44,385] Trial 22 finished with value: 0.738485716515764 and parameters: {'num_iterations': 1639, 'objective': 'binary', 'metric': 'auc', 'verbose': -1, 'learning_rate': 0.005003696675578548, 'n_estimators': 1632, 'min_child_samples': 15, 'subsample': 1.0, 'colsample_bytree': 0.5}. Best is trial 3 with value: 0.7386276121641142.\n",
      "[I 2025-02-24 18:54:02,443] Trial 23 finished with value: 0.7385072268064428 and parameters: {'num_iterations': 1814, 'objective': 'binary', 'metric': 'auc', 'verbose': -1, 'learning_rate': 0.008325857291824387, 'n_estimators': 1124, 'min_child_samples': 15, 'subsample': 0.9, 'colsample_bytree': 0.6}. Best is trial 3 with value: 0.7386276121641142.\n",
      "[I 2025-02-24 18:54:24,823] Trial 24 finished with value: 0.7385950310426413 and parameters: {'num_iterations': 2039, 'objective': 'binary', 'metric': 'auc', 'verbose': -1, 'learning_rate': 0.006235422295376356, 'n_estimators': 2000, 'min_child_samples': 20, 'subsample': 1.0, 'colsample_bytree': 0.5}. Best is trial 3 with value: 0.7386276121641142.\n",
      "[I 2025-02-24 18:54:46,671] Trial 25 finished with value: 0.738130794734122 and parameters: {'num_iterations': 2041, 'objective': 'binary', 'metric': 'auc', 'verbose': -1, 'learning_rate': 0.01020341080557626, 'n_estimators': 1869, 'min_child_samples': 10, 'subsample': 0.9, 'colsample_bytree': 0.5}. Best is trial 3 with value: 0.7386276121641142.\n",
      "[I 2025-02-24 18:55:06,936] Trial 26 finished with value: 0.7386808180686378 and parameters: {'num_iterations': 1838, 'objective': 'binary', 'metric': 'auc', 'verbose': -1, 'learning_rate': 0.006560862459482555, 'n_estimators': 1986, 'min_child_samples': 15, 'subsample': 0.8, 'colsample_bytree': 0.5}. Best is trial 26 with value: 0.7386808180686378.\n",
      "[I 2025-02-24 18:55:24,534] Trial 27 finished with value: 0.7378327558976476 and parameters: {'num_iterations': 1649, 'objective': 'binary', 'metric': 'auc', 'verbose': -1, 'learning_rate': 0.014343836079503047, 'n_estimators': 1736, 'min_child_samples': 10, 'subsample': 0.8, 'colsample_bytree': 0.5}. Best is trial 26 with value: 0.7386808180686378.\n",
      "[I 2025-02-24 18:55:43,000] Trial 28 finished with value: 0.7385158356877777 and parameters: {'num_iterations': 1865, 'objective': 'binary', 'metric': 'auc', 'verbose': -1, 'learning_rate': 0.007948019285506872, 'n_estimators': 1291, 'min_child_samples': 15, 'subsample': 0.8, 'colsample_bytree': 0.6}. Best is trial 26 with value: 0.7386808180686378.\n",
      "[I 2025-02-24 18:56:02,189] Trial 29 finished with value: 0.7384375655494043 and parameters: {'num_iterations': 1790, 'objective': 'binary', 'metric': 'auc', 'verbose': -1, 'learning_rate': 0.010550420566091163, 'n_estimators': 1441, 'min_child_samples': 40, 'subsample': 0.7, 'colsample_bytree': 0.5}. Best is trial 26 with value: 0.7386808180686378.\n",
      "[I 2025-02-24 18:56:20,815] Trial 30 finished with value: 0.7386630523236689 and parameters: {'num_iterations': 1666, 'objective': 'binary', 'metric': 'auc', 'verbose': -1, 'learning_rate': 0.006300048275050027, 'n_estimators': 750, 'min_child_samples': 10, 'subsample': 0.6, 'colsample_bytree': 0.5}. Best is trial 26 with value: 0.7386808180686378.\n",
      "[I 2025-02-24 18:56:38,866] Trial 31 finished with value: 0.7387057512632421 and parameters: {'num_iterations': 1611, 'objective': 'binary', 'metric': 'auc', 'verbose': -1, 'learning_rate': 0.006191078105066466, 'n_estimators': 731, 'min_child_samples': 10, 'subsample': 0.6, 'colsample_bytree': 0.5}. Best is trial 31 with value: 0.7387057512632421.\n",
      "[I 2025-02-24 18:56:55,464] Trial 32 finished with value: 0.738427376255352 and parameters: {'num_iterations': 1501, 'objective': 'binary', 'metric': 'auc', 'verbose': -1, 'learning_rate': 0.008832843345306832, 'n_estimators': 763, 'min_child_samples': 10, 'subsample': 0.6, 'colsample_bytree': 0.5}. Best is trial 31 with value: 0.7387057512632421.\n",
      "[I 2025-02-24 18:57:13,257] Trial 33 finished with value: 0.7385619972401388 and parameters: {'num_iterations': 1580, 'objective': 'binary', 'metric': 'auc', 'verbose': -1, 'learning_rate': 0.006164886442137088, 'n_estimators': 920, 'min_child_samples': 15, 'subsample': 0.5, 'colsample_bytree': 0.5}. Best is trial 31 with value: 0.7387057512632421.\n",
      "[I 2025-02-24 18:57:36,243] Trial 34 finished with value: 0.7383190901880069 and parameters: {'num_iterations': 2338, 'objective': 'binary', 'metric': 'auc', 'verbose': -1, 'learning_rate': 0.006506946634858769, 'n_estimators': 645, 'min_child_samples': 10, 'subsample': 0.6, 'colsample_bytree': 0.6}. Best is trial 31 with value: 0.7387057512632421.\n",
      "[I 2025-02-24 18:57:54,946] Trial 35 finished with value: 0.7388592220449371 and parameters: {'num_iterations': 1684, 'objective': 'binary', 'metric': 'auc', 'verbose': -1, 'learning_rate': 0.007127181652472422, 'n_estimators': 961, 'min_child_samples': 15, 'subsample': 0.5, 'colsample_bytree': 0.5}. Best is trial 35 with value: 0.7388592220449371.\n",
      "[I 2025-02-24 18:58:18,683] Trial 36 finished with value: 0.7386444884305688 and parameters: {'num_iterations': 1726, 'objective': 'binary', 'metric': 'auc', 'verbose': -1, 'learning_rate': 0.007196029473692716, 'n_estimators': 1001, 'min_child_samples': 15, 'subsample': 0.5, 'colsample_bytree': 0.5}. Best is trial 35 with value: 0.7388592220449371.\n",
      "[I 2025-02-24 18:58:34,706] Trial 37 finished with value: 0.7371436284477975 and parameters: {'num_iterations': 1832, 'objective': 'binary', 'metric': 'auc', 'verbose': -1, 'learning_rate': 0.008975470031787919, 'n_estimators': 661, 'min_child_samples': 15, 'subsample': 0.5, 'colsample_bytree': 1.0}. Best is trial 35 with value: 0.7388592220449371.\n",
      "[I 2025-02-24 18:58:56,047] Trial 38 finished with value: 0.7379239234744784 and parameters: {'num_iterations': 1959, 'objective': 'binary', 'metric': 'auc', 'verbose': -1, 'learning_rate': 0.012206072154865516, 'n_estimators': 872, 'min_child_samples': 25, 'subsample': 0.6, 'colsample_bytree': 0.5}. Best is trial 35 with value: 0.7388592220449371.\n",
      "[I 2025-02-24 18:59:14,037] Trial 39 finished with value: 0.737960741531553 and parameters: {'num_iterations': 1689, 'objective': 'binary', 'metric': 'auc', 'verbose': -1, 'learning_rate': 0.016638256290551667, 'n_estimators': 521, 'min_child_samples': 35, 'subsample': 0.5, 'colsample_bytree': 0.5}. Best is trial 35 with value: 0.7388592220449371.\n"
     ]
    },
    {
     "name": "stdout",
     "output_type": "stream",
     "text": [
      "Cat val score : 0.7390313242247981\n",
      "LGBM val score : 0.7386336240858584\n",
      "Ensemble val score : 0.7392345025602527\n"
     ]
    },
    {
     "name": "stderr",
     "output_type": "stream",
     "text": [
      "[I 2025-02-24 18:59:33,835] A new study created in memory with name: no-name-29f79ca9-f00d-409a-bc95-8ee3870e2464\n"
     ]
    },
    {
     "name": "stdout",
     "output_type": "stream",
     "text": [
      "==================================================\n",
      "0:\ttest: 0.7265319\tbest: 0.7265319 (0)\ttotal: 148ms\tremaining: 5m 50s\n",
      "300:\ttest: 0.7363860\tbest: 0.7363860 (300)\ttotal: 39.5s\tremaining: 4m 30s\n",
      "600:\ttest: 0.7373940\tbest: 0.7373940 (600)\ttotal: 1m 21s\tremaining: 4m\n",
      "900:\ttest: 0.7376578\tbest: 0.7376578 (900)\ttotal: 2m 5s\tremaining: 3m 24s\n",
      "1200:\ttest: 0.7376997\tbest: 0.7377118 (973)\ttotal: 2m 52s\tremaining: 2m 47s\n",
      "1500:\ttest: 0.7376952\tbest: 0.7377908 (1289)\ttotal: 3m 45s\tremaining: 2m 9s\n"
     ]
    },
    {
     "name": "stderr",
     "output_type": "stream",
     "text": [
      "[I 2025-02-24 19:03:34,911] Trial 0 finished with value: 0.737790759804936 and parameters: {'iterations': 2366, 'depth': 10, 'learning_rate': 0.01181021951839225, 'l2_leaf_reg': 9.980783802743254}. Best is trial 0 with value: 0.737790759804936.\n"
     ]
    },
    {
     "name": "stdout",
     "output_type": "stream",
     "text": [
      "Stopped by overfitting detector  (300 iterations wait)\n",
      "\n",
      "bestTest = 0.7377907598\n",
      "bestIteration = 1289\n",
      "\n",
      "Shrink model to first 1290 iterations.\n",
      "저장 완료\n",
      "0:\ttest: 0.6967163\tbest: 0.6967163 (0)\ttotal: 60.7ms\tremaining: 2m 12s\n",
      "300:\ttest: 0.7294056\tbest: 0.7294064 (299)\ttotal: 13.9s\tremaining: 1m 27s\n",
      "600:\ttest: 0.7331361\tbest: 0.7331361 (600)\ttotal: 27.7s\tremaining: 1m 13s\n",
      "900:\ttest: 0.7344862\tbest: 0.7344862 (900)\ttotal: 42.6s\tremaining: 1m 1s\n",
      "1200:\ttest: 0.7353030\tbest: 0.7353030 (1200)\ttotal: 57.5s\tremaining: 47.5s\n",
      "1500:\ttest: 0.7358652\tbest: 0.7358653 (1499)\ttotal: 1m 12s\tremaining: 33.4s\n",
      "1800:\ttest: 0.7361880\tbest: 0.7361894 (1798)\ttotal: 1m 26s\tremaining: 18.9s\n",
      "2100:\ttest: 0.7365713\tbest: 0.7365721 (2096)\ttotal: 1m 41s\tremaining: 4.46s\n"
     ]
    },
    {
     "name": "stderr",
     "output_type": "stream",
     "text": [
      "[I 2025-02-24 19:05:21,653] Trial 1 finished with value: 0.7366747501732815 and parameters: {'iterations': 2193, 'depth': 4, 'learning_rate': 0.005671430811678843, 'l2_leaf_reg': 0.00012325230809466137}. Best is trial 0 with value: 0.737790759804936.\n"
     ]
    },
    {
     "name": "stdout",
     "output_type": "stream",
     "text": [
      "2192:\ttest: 0.7366746\tbest: 0.7366748 (2191)\ttotal: 1m 46s\tremaining: 0us\n",
      "\n",
      "bestTest = 0.7366747502\n",
      "bestIteration = 2191\n",
      "\n",
      "Shrink model to first 2192 iterations.\n",
      "0:\ttest: 0.6967163\tbest: 0.6967163 (0)\ttotal: 55.1ms\tremaining: 2m 19s\n",
      "300:\ttest: 0.7379670\tbest: 0.7379771 (275)\ttotal: 15.2s\tremaining: 1m 52s\n",
      "600:\ttest: 0.7378343\tbest: 0.7380706 (331)\ttotal: 30.5s\tremaining: 1m 38s\n"
     ]
    },
    {
     "name": "stderr",
     "output_type": "stream",
     "text": [
      "[I 2025-02-24 19:05:53,949] Trial 2 finished with value: 0.7380706040407293 and parameters: {'iterations': 2535, 'depth': 4, 'learning_rate': 0.09275339199839054, 'l2_leaf_reg': 0.0008705394248343123}. Best is trial 2 with value: 0.7380706040407293.\n"
     ]
    },
    {
     "name": "stdout",
     "output_type": "stream",
     "text": [
      "Stopped by overfitting detector  (300 iterations wait)\n",
      "\n",
      "bestTest = 0.738070604\n",
      "bestIteration = 331\n",
      "\n",
      "Shrink model to first 332 iterations.\n",
      "저장 완료\n",
      "0:\ttest: 0.6967163\tbest: 0.6967163 (0)\ttotal: 54ms\tremaining: 2m 5s\n"
     ]
    },
    {
     "name": "stderr",
     "output_type": "stream",
     "text": [
      "Training has stopped (degenerate solution on iteration 9, probably too small l2-regularization, try to increase it)\n",
      "[I 2025-02-24 19:05:54,500] Trial 3 finished with value: 0.7196723524886449 and parameters: {'iterations': 2334, 'depth': 4, 'learning_rate': 0.04657568321363276, 'l2_leaf_reg': 0.0008640473331457248}. Best is trial 2 with value: 0.7380706040407293.\n"
     ]
    },
    {
     "name": "stdout",
     "output_type": "stream",
     "text": [
      "\n",
      "bestTest = 0.7196723525\n",
      "bestIteration = 8\n",
      "\n",
      "Shrink model to first 9 iterations.\n",
      "0:\ttest: 0.7265457\tbest: 0.7265457 (0)\ttotal: 132ms\tremaining: 3m 49s\n",
      "300:\ttest: 0.7353142\tbest: 0.7354196 (272)\ttotal: 37.7s\tremaining: 3m\n",
      "600:\ttest: 0.7358551\tbest: 0.7358551 (600)\ttotal: 1m 18s\tremaining: 2m 29s\n",
      "900:\ttest: 0.7355992\tbest: 0.7359192 (627)\ttotal: 2m\tremaining: 1m 52s\n"
     ]
    },
    {
     "name": "stderr",
     "output_type": "stream",
     "text": [
      "[I 2025-02-24 19:07:59,430] Trial 4 finished with value: 0.7359191937677798 and parameters: {'iterations': 1742, 'depth': 10, 'learning_rate': 0.012622767482095846, 'l2_leaf_reg': 0.00021158816350109617}. Best is trial 2 with value: 0.7380706040407293.\n"
     ]
    },
    {
     "name": "stdout",
     "output_type": "stream",
     "text": [
      "Stopped by overfitting detector  (300 iterations wait)\n",
      "\n",
      "bestTest = 0.7359191938\n",
      "bestIteration = 627\n",
      "\n",
      "Shrink model to first 628 iterations.\n",
      "0:\ttest: 0.6967163\tbest: 0.6967163 (0)\ttotal: 54.4ms\tremaining: 1m 53s\n",
      "300:\ttest: 0.7372775\tbest: 0.7372775 (300)\ttotal: 14.7s\tremaining: 1m 26s\n",
      "600:\ttest: 0.7375488\tbest: 0.7376516 (530)\ttotal: 29.9s\tremaining: 1m 13s\n"
     ]
    },
    {
     "name": "stderr",
     "output_type": "stream",
     "text": [
      "[I 2025-02-24 19:08:41,331] Trial 5 finished with value: 0.7376516477478292 and parameters: {'iterations': 2082, 'depth': 4, 'learning_rate': 0.06995196593094148, 'l2_leaf_reg': 0.0018080296485396804}. Best is trial 2 with value: 0.7380706040407293.\n"
     ]
    },
    {
     "name": "stdout",
     "output_type": "stream",
     "text": [
      "Stopped by overfitting detector  (300 iterations wait)\n",
      "\n",
      "bestTest = 0.7376516477\n",
      "bestIteration = 530\n",
      "\n",
      "Shrink model to first 531 iterations.\n",
      "0:\ttest: 0.7041122\tbest: 0.7041122 (0)\ttotal: 64.1ms\tremaining: 2m 8s\n",
      "300:\ttest: 0.7374842\tbest: 0.7374882 (298)\ttotal: 18.2s\tremaining: 1m 42s\n",
      "600:\ttest: 0.7377310\tbest: 0.7377803 (450)\ttotal: 37s\tremaining: 1m 25s\n",
      "900:\ttest: 0.7377616\tbest: 0.7378077 (718)\ttotal: 55.6s\tremaining: 1m 7s\n"
     ]
    },
    {
     "name": "stderr",
     "output_type": "stream",
     "text": [
      "[I 2025-02-24 19:09:44,471] Trial 6 finished with value: 0.7378076797511391 and parameters: {'iterations': 1997, 'depth': 5, 'learning_rate': 0.07985155992831598, 'l2_leaf_reg': 62.52181000710482}. Best is trial 2 with value: 0.7380706040407293.\n"
     ]
    },
    {
     "name": "stdout",
     "output_type": "stream",
     "text": [
      "Stopped by overfitting detector  (300 iterations wait)\n",
      "\n",
      "bestTest = 0.7378076798\n",
      "bestIteration = 718\n",
      "\n",
      "Shrink model to first 719 iterations.\n",
      "0:\ttest: 0.7239846\tbest: 0.7239846 (0)\ttotal: 85.9ms\tremaining: 2m 45s\n",
      "300:\ttest: 0.7370165\tbest: 0.7372489 (209)\ttotal: 25.3s\tremaining: 2m 16s\n"
     ]
    },
    {
     "name": "stderr",
     "output_type": "stream",
     "text": [
      "[I 2025-02-24 19:10:28,252] Trial 7 finished with value: 0.7372488688454083 and parameters: {'iterations': 1927, 'depth': 7, 'learning_rate': 0.0941937211034094, 'l2_leaf_reg': 0.05654822767791934}. Best is trial 2 with value: 0.7380706040407293.\n"
     ]
    },
    {
     "name": "stdout",
     "output_type": "stream",
     "text": [
      "Stopped by overfitting detector  (300 iterations wait)\n",
      "\n",
      "bestTest = 0.7372488688\n",
      "bestIteration = 209\n",
      "\n",
      "Shrink model to first 210 iterations.\n",
      "0:\ttest: 0.7239841\tbest: 0.7239841 (0)\ttotal: 88ms\tremaining: 2m 47s\n",
      "300:\ttest: 0.7382498\tbest: 0.7382498 (300)\ttotal: 24.2s\tremaining: 2m 8s\n",
      "600:\ttest: 0.7380792\tbest: 0.7383727 (328)\ttotal: 50.9s\tremaining: 1m 50s\n"
     ]
    },
    {
     "name": "stderr",
     "output_type": "stream",
     "text": [
      "[I 2025-02-24 19:11:21,778] Trial 8 finished with value: 0.7383727209773565 and parameters: {'iterations': 1904, 'depth': 7, 'learning_rate': 0.05155602859187331, 'l2_leaf_reg': 1.299974533316308}. Best is trial 8 with value: 0.7383727209773565.\n"
     ]
    },
    {
     "name": "stdout",
     "output_type": "stream",
     "text": [
      "Stopped by overfitting detector  (300 iterations wait)\n",
      "\n",
      "bestTest = 0.738372721\n",
      "bestIteration = 328\n",
      "\n",
      "Shrink model to first 329 iterations.\n",
      "저장 완료\n",
      "0:\ttest: 0.7185630\tbest: 0.7185630 (0)\ttotal: 82.3ms\tremaining: 3m 37s\n",
      "300:\ttest: 0.7374477\tbest: 0.7374477 (300)\ttotal: 20.1s\tremaining: 2m 35s\n",
      "600:\ttest: 0.7382225\tbest: 0.7382727 (482)\ttotal: 42.1s\tremaining: 2m 22s\n"
     ]
    },
    {
     "name": "stderr",
     "output_type": "stream",
     "text": [
      "[I 2025-02-24 19:12:17,618] Trial 9 finished with value: 0.738272702295131 and parameters: {'iterations': 2639, 'depth': 6, 'learning_rate': 0.03968704290444751, 'l2_leaf_reg': 0.30557194377967184}. Best is trial 8 with value: 0.7383727209773565.\n"
     ]
    },
    {
     "name": "stdout",
     "output_type": "stream",
     "text": [
      "Stopped by overfitting detector  (300 iterations wait)\n",
      "\n",
      "bestTest = 0.7382727023\n",
      "bestIteration = 482\n",
      "\n",
      "Shrink model to first 483 iterations.\n",
      "0:\ttest: 0.7247869\tbest: 0.7247869 (0)\ttotal: 96.9ms\tremaining: 4m 45s\n",
      "300:\ttest: 0.7371820\tbest: 0.7372312 (296)\ttotal: 26.4s\tremaining: 3m 51s\n",
      "600:\ttest: 0.7379249\tbest: 0.7379815 (594)\ttotal: 55.7s\tremaining: 3m 37s\n"
     ]
    },
    {
     "name": "stderr",
     "output_type": "stream",
     "text": [
      "[I 2025-02-24 19:13:42,952] Trial 10 finished with value: 0.7379815132373939 and parameters: {'iterations': 2945, 'depth': 8, 'learning_rate': 0.032580115422505045, 'l2_leaf_reg': 0.87526046512315}. Best is trial 8 with value: 0.7383727209773565.\n"
     ]
    },
    {
     "name": "stdout",
     "output_type": "stream",
     "text": [
      "Stopped by overfitting detector  (300 iterations wait)\n",
      "\n",
      "bestTest = 0.7379815132\n",
      "bestIteration = 594\n",
      "\n",
      "Shrink model to first 595 iterations.\n",
      "0:\ttest: 0.7239846\tbest: 0.7239846 (0)\ttotal: 91.4ms\tremaining: 4m 10s\n",
      "300:\ttest: 0.7379209\tbest: 0.7379919 (292)\ttotal: 23.7s\tremaining: 3m 12s\n",
      "600:\ttest: 0.7377603\tbest: 0.7380333 (340)\ttotal: 49.4s\tremaining: 2m 55s\n"
     ]
    },
    {
     "name": "stderr",
     "output_type": "stream",
     "text": [
      "[I 2025-02-24 19:14:35,972] Trial 11 finished with value: 0.7380333213899665 and parameters: {'iterations': 2742, 'depth': 7, 'learning_rate': 0.05038072346939034, 'l2_leaf_reg': 0.12832080805174195}. Best is trial 8 with value: 0.7383727209773565.\n"
     ]
    },
    {
     "name": "stdout",
     "output_type": "stream",
     "text": [
      "Stopped by overfitting detector  (300 iterations wait)\n",
      "\n",
      "bestTest = 0.7380333214\n",
      "bestIteration = 340\n",
      "\n",
      "Shrink model to first 341 iterations.\n",
      "0:\ttest: 0.7185625\tbest: 0.7185625 (0)\ttotal: 74.9ms\tremaining: 1m 57s\n",
      "300:\ttest: 0.7370688\tbest: 0.7370894 (291)\ttotal: 20.2s\tremaining: 1m 24s\n",
      "600:\ttest: 0.7380324\tbest: 0.7380713 (597)\ttotal: 42.1s\tremaining: 1m 7s\n",
      "900:\ttest: 0.7381127\tbest: 0.7381310 (704)\ttotal: 1m 4s\tremaining: 47.3s\n"
     ]
    },
    {
     "name": "stderr",
     "output_type": "stream",
     "text": [
      "[I 2025-02-24 19:15:48,151] Trial 12 finished with value: 0.7381310091619782 and parameters: {'iterations': 1565, 'depth': 6, 'learning_rate': 0.03421727225236856, 'l2_leaf_reg': 1.028140046865624}. Best is trial 8 with value: 0.7383727209773565.\n"
     ]
    },
    {
     "name": "stdout",
     "output_type": "stream",
     "text": [
      "Stopped by overfitting detector  (300 iterations wait)\n",
      "\n",
      "bestTest = 0.7381310092\n",
      "bestIteration = 704\n",
      "\n",
      "Shrink model to first 705 iterations.\n",
      "0:\ttest: 0.7247874\tbest: 0.7247874 (0)\ttotal: 99.6ms\tremaining: 4m 20s\n",
      "300:\ttest: 0.7358642\tbest: 0.7361938 (236)\ttotal: 27.1s\tremaining: 3m 29s\n"
     ]
    },
    {
     "name": "stderr",
     "output_type": "stream",
     "text": [
      "[I 2025-02-24 19:16:38,570] Trial 13 finished with value: 0.7361938361426188 and parameters: {'iterations': 2621, 'depth': 8, 'learning_rate': 0.06513774410228096, 'l2_leaf_reg': 0.02938297184523058}. Best is trial 8 with value: 0.7383727209773565.\n"
     ]
    },
    {
     "name": "stdout",
     "output_type": "stream",
     "text": [
      "Stopped by overfitting detector  (300 iterations wait)\n",
      "\n",
      "bestTest = 0.7361938361\n",
      "bestIteration = 236\n",
      "\n",
      "Shrink model to first 237 iterations.\n",
      "0:\ttest: 0.7185625\tbest: 0.7185625 (0)\ttotal: 77.2ms\tremaining: 3m 45s\n",
      "300:\ttest: 0.7369095\tbest: 0.7369111 (299)\ttotal: 20.7s\tremaining: 3m\n",
      "600:\ttest: 0.7382134\tbest: 0.7382142 (599)\ttotal: 46.3s\tremaining: 2m 58s\n",
      "900:\ttest: 0.7383023\tbest: 0.7383742 (810)\ttotal: 1m 10s\tremaining: 2m 38s\n"
     ]
    },
    {
     "name": "stderr",
     "output_type": "stream",
     "text": [
      "[I 2025-02-24 19:18:06,038] Trial 14 finished with value: 0.7383741902052596 and parameters: {'iterations': 2922, 'depth': 6, 'learning_rate': 0.032542601115978974, 'l2_leaf_reg': 1.2175116583082286}. Best is trial 14 with value: 0.7383741902052596.\n"
     ]
    },
    {
     "name": "stdout",
     "output_type": "stream",
     "text": [
      "Stopped by overfitting detector  (300 iterations wait)\n",
      "\n",
      "bestTest = 0.7383741902\n",
      "bestIteration = 810\n",
      "\n",
      "Shrink model to first 811 iterations.\n",
      "저장 완료\n",
      "0:\ttest: 0.7247871\tbest: 0.7247871 (0)\ttotal: 122ms\tremaining: 6m 4s\n",
      "300:\ttest: 0.7368921\tbest: 0.7368921 (300)\ttotal: 27.2s\tremaining: 4m 4s\n",
      "600:\ttest: 0.7378555\tbest: 0.7378675 (599)\ttotal: 55.1s\tremaining: 3m 40s\n",
      "900:\ttest: 0.7379506\tbest: 0.7379893 (730)\ttotal: 1m 25s\tremaining: 3m 19s\n"
     ]
    },
    {
     "name": "stderr",
     "output_type": "stream",
     "text": [
      "[I 2025-02-24 19:19:45,687] Trial 15 finished with value: 0.7379892604364182 and parameters: {'iterations': 3000, 'depth': 8, 'learning_rate': 0.02554978309898436, 'l2_leaf_reg': 4.722389127363701}. Best is trial 14 with value: 0.7383741902052596.\n"
     ]
    },
    {
     "name": "stdout",
     "output_type": "stream",
     "text": [
      "Stopped by overfitting detector  (300 iterations wait)\n",
      "\n",
      "bestTest = 0.7379892604\n",
      "bestIteration = 730\n",
      "\n",
      "Shrink model to first 731 iterations.\n",
      "0:\ttest: 0.7185630\tbest: 0.7185630 (0)\ttotal: 85.1ms\tremaining: 2m 33s\n",
      "300:\ttest: 0.7375935\tbest: 0.7375935 (300)\ttotal: 22.2s\tremaining: 1m 50s\n",
      "600:\ttest: 0.7372008\tbest: 0.7376344 (326)\ttotal: 45.6s\tremaining: 1m 31s\n"
     ]
    },
    {
     "name": "stderr",
     "output_type": "stream",
     "text": [
      "[I 2025-02-24 19:20:33,430] Trial 16 finished with value: 0.7376344498395905 and parameters: {'iterations': 1805, 'depth': 6, 'learning_rate': 0.061662991475729484, 'l2_leaf_reg': 0.011161880614651325}. Best is trial 14 with value: 0.7383741902052596.\n"
     ]
    },
    {
     "name": "stdout",
     "output_type": "stream",
     "text": [
      "Stopped by overfitting detector  (300 iterations wait)\n",
      "\n",
      "bestTest = 0.7376344498\n",
      "bestIteration = 326\n",
      "\n",
      "Shrink model to first 327 iterations.\n",
      "0:\ttest: 0.7245899\tbest: 0.7245899 (0)\ttotal: 122ms\tremaining: 3m 17s\n",
      "300:\ttest: 0.7369974\tbest: 0.7369974 (300)\ttotal: 30.5s\tremaining: 2m 13s\n",
      "600:\ttest: 0.7375530\tbest: 0.7375691 (599)\ttotal: 1m 1s\tremaining: 1m 44s\n"
     ]
    },
    {
     "name": "stderr",
     "output_type": "stream",
     "text": [
      "[I 2025-02-24 19:22:10,161] Trial 17 finished with value: 0.7375690930232196 and parameters: {'iterations': 1618, 'depth': 9, 'learning_rate': 0.024099163905681925, 'l2_leaf_reg': 7.987299787000779}. Best is trial 14 with value: 0.7383741902052596.\n"
     ]
    },
    {
     "name": "stdout",
     "output_type": "stream",
     "text": [
      "Stopped by overfitting detector  (300 iterations wait)\n",
      "\n",
      "bestTest = 0.737569093\n",
      "bestIteration = 599\n",
      "\n",
      "Shrink model to first 600 iterations.\n",
      "0:\ttest: 0.7239258\tbest: 0.7239258 (0)\ttotal: 91.7ms\tremaining: 4m 18s\n",
      "300:\ttest: 0.7378368\tbest: 0.7378582 (279)\ttotal: 24.7s\tremaining: 3m 25s\n",
      "600:\ttest: 0.7382070\tbest: 0.7383165 (501)\ttotal: 51.3s\tremaining: 3m 8s\n"
     ]
    },
    {
     "name": "stderr",
     "output_type": "stream",
     "text": [
      "[I 2025-02-24 19:23:19,775] Trial 18 finished with value: 0.7383165011701884 and parameters: {'iterations': 2814, 'depth': 7, 'learning_rate': 0.05970016430294879, 'l2_leaf_reg': 70.64174190249958}. Best is trial 14 with value: 0.7383741902052596.\n"
     ]
    },
    {
     "name": "stdout",
     "output_type": "stream",
     "text": [
      "Stopped by overfitting detector  (300 iterations wait)\n",
      "\n",
      "bestTest = 0.7383165012\n",
      "bestIteration = 501\n",
      "\n",
      "Shrink model to first 502 iterations.\n",
      "0:\ttest: 0.7041059\tbest: 0.7041059 (0)\ttotal: 72.5ms\tremaining: 2m 58s\n",
      "300:\ttest: 0.7378421\tbest: 0.7378458 (295)\ttotal: 19.4s\tremaining: 2m 19s\n",
      "600:\ttest: 0.7382771\tbest: 0.7382810 (597)\ttotal: 39.5s\tremaining: 2m 1s\n",
      "900:\ttest: 0.7381770\tbest: 0.7383276 (619)\ttotal: 59.8s\tremaining: 1m 43s\n"
     ]
    },
    {
     "name": "stderr",
     "output_type": "stream",
     "text": [
      "[I 2025-02-24 19:24:21,058] Trial 19 finished with value: 0.7383275561174377 and parameters: {'iterations': 2455, 'depth': 5, 'learning_rate': 0.07599684664689305, 'l2_leaf_reg': 2.276175005448344}. Best is trial 14 with value: 0.7383741902052596.\n",
      "[I 2025-02-24 19:24:21,062] A new study created in memory with name: no-name-36c1799d-9e58-41a1-a99d-5d8f4564073d\n"
     ]
    },
    {
     "name": "stdout",
     "output_type": "stream",
     "text": [
      "Stopped by overfitting detector  (300 iterations wait)\n",
      "\n",
      "bestTest = 0.7383275561\n",
      "bestIteration = 619\n",
      "\n",
      "Shrink model to first 620 iterations.\n"
     ]
    },
    {
     "name": "stderr",
     "output_type": "stream",
     "text": [
      "[I 2025-02-24 19:24:44,977] Trial 0 finished with value: 0.7269940075197149 and parameters: {'num_iterations': 2366, 'objective': 'binary', 'metric': 'auc', 'verbose': -1, 'learning_rate': 0.0652646236447618, 'n_estimators': 236, 'min_child_samples': 45, 'subsample': 0.7, 'colsample_bytree': 0.5}. Best is trial 0 with value: 0.7269940075197149.\n",
      "[I 2025-02-24 19:25:02,639] Trial 1 finished with value: 0.737325784911579 and parameters: {'num_iterations': 1510, 'objective': 'binary', 'metric': 'auc', 'verbose': -1, 'learning_rate': 0.005231880959249543, 'n_estimators': 1411, 'min_child_samples': 10, 'subsample': 1.0, 'colsample_bytree': 0.5}. Best is trial 1 with value: 0.737325784911579.\n",
      "[I 2025-02-24 19:25:22,635] Trial 2 finished with value: 0.7359635287124776 and parameters: {'num_iterations': 2334, 'objective': 'binary', 'metric': 'auc', 'verbose': -1, 'learning_rate': 0.006578527777128852, 'n_estimators': 931, 'min_child_samples': 15, 'subsample': 0.5, 'colsample_bytree': 1.0}. Best is trial 1 with value: 0.737325784911579.\n",
      "[I 2025-02-24 19:25:39,994] Trial 3 finished with value: 0.7370040081172539 and parameters: {'num_iterations': 1620, 'objective': 'binary', 'metric': 'auc', 'verbose': -1, 'learning_rate': 0.0058823249237283685, 'n_estimators': 837, 'min_child_samples': 10, 'subsample': 0.9, 'colsample_bytree': 0.6}. Best is trial 1 with value: 0.737325784911579.\n",
      "[I 2025-02-24 19:25:56,801] Trial 4 finished with value: 0.7360178623486889 and parameters: {'num_iterations': 1997, 'objective': 'binary', 'metric': 'auc', 'verbose': -1, 'learning_rate': 0.010907507425244923, 'n_estimators': 1597, 'min_child_samples': 50, 'subsample': 0.6, 'colsample_bytree': 0.8}. Best is trial 1 with value: 0.737325784911579.\n",
      "[I 2025-02-24 19:26:19,957] Trial 5 finished with value: 0.7334866248956967 and parameters: {'num_iterations': 2909, 'objective': 'binary', 'metric': 'auc', 'verbose': -1, 'learning_rate': 0.019760591962733942, 'n_estimators': 612, 'min_child_samples': 30, 'subsample': 0.7, 'colsample_bytree': 0.9}. Best is trial 1 with value: 0.737325784911579.\n",
      "[I 2025-02-24 19:26:40,985] Trial 6 finished with value: 0.7348045818880763 and parameters: {'num_iterations': 2639, 'objective': 'binary', 'metric': 'auc', 'verbose': -1, 'learning_rate': 0.017862094446750985, 'n_estimators': 794, 'min_child_samples': 35, 'subsample': 1.0, 'colsample_bytree': 0.8}. Best is trial 1 with value: 0.737325784911579.\n",
      "[I 2025-02-24 19:26:57,900] Trial 7 finished with value: 0.7370808447657001 and parameters: {'num_iterations': 1580, 'objective': 'binary', 'metric': 'auc', 'verbose': -1, 'learning_rate': 0.01776722177611332, 'n_estimators': 529, 'min_child_samples': 25, 'subsample': 0.8, 'colsample_bytree': 0.5}. Best is trial 1 with value: 0.737325784911579.\n",
      "[I 2025-02-24 19:27:16,114] Trial 8 finished with value: 0.733750982675214 and parameters: {'num_iterations': 1911, 'objective': 'binary', 'metric': 'auc', 'verbose': -1, 'learning_rate': 0.0304747553332844, 'n_estimators': 1328, 'min_child_samples': 10, 'subsample': 0.7, 'colsample_bytree': 0.6}. Best is trial 1 with value: 0.737325784911579.\n",
      "[I 2025-02-24 19:27:44,622] Trial 9 finished with value: 0.7339636315743144 and parameters: {'num_iterations': 2739, 'objective': 'binary', 'metric': 'auc', 'verbose': -1, 'learning_rate': 0.02691531614176271, 'n_estimators': 1438, 'min_child_samples': 20, 'subsample': 0.6, 'colsample_bytree': 0.5}. Best is trial 1 with value: 0.737325784911579.\n",
      "[I 2025-02-24 19:27:59,826] Trial 10 finished with value: 0.7258327297850997 and parameters: {'num_iterations': 1933, 'objective': 'binary', 'metric': 'auc', 'verbose': -1, 'learning_rate': 0.08223556891145911, 'n_estimators': 1960, 'min_child_samples': 40, 'subsample': 1.0, 'colsample_bytree': 0.7}. Best is trial 1 with value: 0.737325784911579.\n",
      "[I 2025-02-24 19:28:16,970] Trial 11 finished with value: 0.737327198547075 and parameters: {'num_iterations': 1513, 'objective': 'binary', 'metric': 'auc', 'verbose': -1, 'learning_rate': 0.009791292266126196, 'n_estimators': 299, 'min_child_samples': 25, 'subsample': 0.9, 'colsample_bytree': 0.5}. Best is trial 11 with value: 0.737327198547075.\n",
      "[I 2025-02-24 19:28:32,761] Trial 12 finished with value: 0.737114009607448 and parameters: {'num_iterations': 1550, 'objective': 'binary', 'metric': 'auc', 'verbose': -1, 'learning_rate': 0.009303222125489579, 'n_estimators': 217, 'min_child_samples': 20, 'subsample': 0.9, 'colsample_bytree': 0.6}. Best is trial 11 with value: 0.737327198547075.\n",
      "[I 2025-02-24 19:28:49,375] Trial 13 finished with value: 0.7369605705928428 and parameters: {'num_iterations': 1777, 'objective': 'binary', 'metric': 'auc', 'verbose': -1, 'learning_rate': 0.005144110939690685, 'n_estimators': 1108, 'min_child_samples': 30, 'subsample': 0.9, 'colsample_bytree': 0.7}. Best is trial 11 with value: 0.737327198547075.\n",
      "[I 2025-02-24 19:29:13,186] Trial 14 finished with value: 0.7374287619040418 and parameters: {'num_iterations': 2165, 'objective': 'binary', 'metric': 'auc', 'verbose': -1, 'learning_rate': 0.00937245035506795, 'n_estimators': 1729, 'min_child_samples': 20, 'subsample': 1.0, 'colsample_bytree': 0.5}. Best is trial 14 with value: 0.7374287619040418.\n",
      "[I 2025-02-24 19:29:34,239] Trial 15 finished with value: 0.7367511897331053 and parameters: {'num_iterations': 2161, 'objective': 'binary', 'metric': 'auc', 'verbose': -1, 'learning_rate': 0.011438890052458907, 'n_estimators': 1989, 'min_child_samples': 25, 'subsample': 0.8, 'colsample_bytree': 0.6}. Best is trial 14 with value: 0.7374287619040418.\n",
      "[I 2025-02-24 19:29:55,550] Trial 16 finished with value: 0.7367431447176143 and parameters: {'num_iterations': 2495, 'objective': 'binary', 'metric': 'auc', 'verbose': -1, 'learning_rate': 0.008784281301465434, 'n_estimators': 1727, 'min_child_samples': 20, 'subsample': 0.9, 'colsample_bytree': 0.7}. Best is trial 14 with value: 0.7374287619040418.\n",
      "[I 2025-02-24 19:30:18,399] Trial 17 finished with value: 0.7366343861148084 and parameters: {'num_iterations': 2141, 'objective': 'binary', 'metric': 'auc', 'verbose': -1, 'learning_rate': 0.014364323482076244, 'n_estimators': 1147, 'min_child_samples': 35, 'subsample': 1.0, 'colsample_bytree': 0.5}. Best is trial 14 with value: 0.7374287619040418.\n",
      "[I 2025-02-24 19:30:34,793] Trial 18 finished with value: 0.7335848328538038 and parameters: {'num_iterations': 1762, 'objective': 'binary', 'metric': 'auc', 'verbose': -1, 'learning_rate': 0.03790922005126202, 'n_estimators': 386, 'min_child_samples': 25, 'subsample': 0.8, 'colsample_bytree': 0.6}. Best is trial 14 with value: 0.7374287619040418.\n",
      "[I 2025-02-24 19:30:59,534] Trial 19 finished with value: 0.7359776333003475 and parameters: {'num_iterations': 2997, 'objective': 'binary', 'metric': 'auc', 'verbose': -1, 'learning_rate': 0.007847021542522292, 'n_estimators': 1698, 'min_child_samples': 15, 'subsample': 0.9, 'colsample_bytree': 0.9}. Best is trial 14 with value: 0.7374287619040418.\n",
      "[I 2025-02-24 19:31:21,913] Trial 20 finished with value: 0.7370150789480481 and parameters: {'num_iterations': 2113, 'objective': 'binary', 'metric': 'auc', 'verbose': -1, 'learning_rate': 0.01328947870502586, 'n_estimators': 665, 'min_child_samples': 30, 'subsample': 1.0, 'colsample_bytree': 0.5}. Best is trial 14 with value: 0.7374287619040418.\n",
      "[I 2025-02-24 19:31:42,184] Trial 21 finished with value: 0.73731526603397 and parameters: {'num_iterations': 1745, 'objective': 'binary', 'metric': 'auc', 'verbose': -1, 'learning_rate': 0.007337462574134009, 'n_estimators': 1349, 'min_child_samples': 15, 'subsample': 1.0, 'colsample_bytree': 0.5}. Best is trial 14 with value: 0.7374287619040418.\n",
      "[I 2025-02-24 19:31:59,870] Trial 22 finished with value: 0.7369618809852969 and parameters: {'num_iterations': 1667, 'objective': 'binary', 'metric': 'auc', 'verbose': -1, 'learning_rate': 0.005010451518470602, 'n_estimators': 1551, 'min_child_samples': 10, 'subsample': 1.0, 'colsample_bytree': 0.6}. Best is trial 14 with value: 0.7374287619040418.\n",
      "[I 2025-02-24 19:32:20,953] Trial 23 finished with value: 0.7372340931777666 and parameters: {'num_iterations': 1855, 'objective': 'binary', 'metric': 'auc', 'verbose': -1, 'learning_rate': 0.006942662755656896, 'n_estimators': 1197, 'min_child_samples': 15, 'subsample': 0.9, 'colsample_bytree': 0.5}. Best is trial 14 with value: 0.7374287619040418.\n",
      "[I 2025-02-24 19:32:38,120] Trial 24 finished with value: 0.7374690822827665 and parameters: {'num_iterations': 1506, 'objective': 'binary', 'metric': 'auc', 'verbose': -1, 'learning_rate': 0.009284085865985826, 'n_estimators': 1740, 'min_child_samples': 20, 'subsample': 1.0, 'colsample_bytree': 0.5}. Best is trial 24 with value: 0.7374690822827665.\n",
      "[I 2025-02-24 19:32:53,251] Trial 25 finished with value: 0.7368457047670235 and parameters: {'num_iterations': 1501, 'objective': 'binary', 'metric': 'auc', 'verbose': -1, 'learning_rate': 0.014619268450391895, 'n_estimators': 1869, 'min_child_samples': 20, 'subsample': 0.9, 'colsample_bytree': 0.6}. Best is trial 24 with value: 0.7374690822827665.\n",
      "[I 2025-02-24 19:33:10,534] Trial 26 finished with value: 0.7364994077502613 and parameters: {'num_iterations': 2012, 'objective': 'binary', 'metric': 'auc', 'verbose': -1, 'learning_rate': 0.011351911403426236, 'n_estimators': 133, 'min_child_samples': 25, 'subsample': 0.8, 'colsample_bytree': 0.7}. Best is trial 24 with value: 0.7374690822827665.\n",
      "[I 2025-02-24 19:33:29,181] Trial 27 finished with value: 0.7372529985670819 and parameters: {'num_iterations': 1677, 'objective': 'binary', 'metric': 'auc', 'verbose': -1, 'learning_rate': 0.009267829988042526, 'n_estimators': 1736, 'min_child_samples': 35, 'subsample': 1.0, 'colsample_bytree': 0.5}. Best is trial 24 with value: 0.7374690822827665.\n",
      "[I 2025-02-24 19:33:52,148] Trial 28 finished with value: 0.7317036652137564 and parameters: {'num_iterations': 2484, 'objective': 'binary', 'metric': 'auc', 'verbose': -1, 'learning_rate': 0.041798158539956325, 'n_estimators': 951, 'min_child_samples': 20, 'subsample': 0.9, 'colsample_bytree': 0.6}. Best is trial 24 with value: 0.7374690822827665.\n",
      "[I 2025-02-24 19:34:15,917] Trial 29 finished with value: 0.7352156162629583 and parameters: {'num_iterations': 2272, 'objective': 'binary', 'metric': 'auc', 'verbose': -1, 'learning_rate': 0.025400773547478907, 'n_estimators': 359, 'min_child_samples': 30, 'subsample': 1.0, 'colsample_bytree': 0.5}. Best is trial 24 with value: 0.7374690822827665.\n",
      "[I 2025-02-24 19:34:42,285] Trial 30 finished with value: 0.7370756587882907 and parameters: {'num_iterations': 2462, 'objective': 'binary', 'metric': 'auc', 'verbose': -1, 'learning_rate': 0.013135683404020793, 'n_estimators': 1830, 'min_child_samples': 25, 'subsample': 0.8, 'colsample_bytree': 0.5}. Best is trial 24 with value: 0.7374690822827665.\n",
      "[I 2025-02-24 19:34:59,548] Trial 31 finished with value: 0.7373253362014356 and parameters: {'num_iterations': 1523, 'objective': 'binary', 'metric': 'auc', 'verbose': -1, 'learning_rate': 0.006058829851664269, 'n_estimators': 1552, 'min_child_samples': 15, 'subsample': 1.0, 'colsample_bytree': 0.5}. Best is trial 24 with value: 0.7374690822827665.\n",
      "[I 2025-02-24 19:35:18,012] Trial 32 finished with value: 0.7374053495588615 and parameters: {'num_iterations': 1644, 'objective': 'binary', 'metric': 'auc', 'verbose': -1, 'learning_rate': 0.008287436063741094, 'n_estimators': 1302, 'min_child_samples': 10, 'subsample': 1.0, 'colsample_bytree': 0.5}. Best is trial 24 with value: 0.7374690822827665.\n",
      "[I 2025-02-24 19:35:36,618] Trial 33 finished with value: 0.7372423208540239 and parameters: {'num_iterations': 1681, 'objective': 'binary', 'metric': 'auc', 'verbose': -1, 'learning_rate': 0.008537444584568605, 'n_estimators': 1448, 'min_child_samples': 15, 'subsample': 1.0, 'colsample_bytree': 0.5}. Best is trial 24 with value: 0.7374690822827665.\n",
      "[I 2025-02-24 19:35:54,671] Trial 34 finished with value: 0.7369594865409035 and parameters: {'num_iterations': 1832, 'objective': 'binary', 'metric': 'auc', 'verbose': -1, 'learning_rate': 0.010592737271574539, 'n_estimators': 1226, 'min_child_samples': 10, 'subsample': 0.9, 'colsample_bytree': 0.6}. Best is trial 24 with value: 0.7374690822827665.\n",
      "[I 2025-02-24 19:36:12,723] Trial 35 finished with value: 0.737358524868501 and parameters: {'num_iterations': 1600, 'objective': 'binary', 'metric': 'auc', 'verbose': -1, 'learning_rate': 0.006930729194612471, 'n_estimators': 1024, 'min_child_samples': 20, 'subsample': 1.0, 'colsample_bytree': 0.5}. Best is trial 24 with value: 0.7374690822827665.\n",
      "[I 2025-02-24 19:36:27,202] Trial 36 finished with value: 0.736256969262704 and parameters: {'num_iterations': 1640, 'objective': 'binary', 'metric': 'auc', 'verbose': -1, 'learning_rate': 0.006316127101256395, 'n_estimators': 910, 'min_child_samples': 10, 'subsample': 0.5, 'colsample_bytree': 0.9}. Best is trial 24 with value: 0.7374690822827665.\n",
      "[I 2025-02-24 19:36:41,405] Trial 37 finished with value: 0.7362586886564392 and parameters: {'num_iterations': 1620, 'objective': 'binary', 'metric': 'auc', 'verbose': -1, 'learning_rate': 0.007484867333353758, 'n_estimators': 1307, 'min_child_samples': 20, 'subsample': 0.6, 'colsample_bytree': 1.0}. Best is trial 24 with value: 0.7374690822827665.\n",
      "[I 2025-02-24 19:37:00,287] Trial 38 finished with value: 0.7352533595365233 and parameters: {'num_iterations': 2384, 'objective': 'binary', 'metric': 'auc', 'verbose': -1, 'learning_rate': 0.01661414744610049, 'n_estimators': 1066, 'min_child_samples': 45, 'subsample': 1.0, 'colsample_bytree': 0.8}. Best is trial 24 with value: 0.7374690822827665.\n",
      "[I 2025-02-24 19:37:19,839] Trial 39 finished with value: 0.7354145536919251 and parameters: {'num_iterations': 2064, 'objective': 'binary', 'metric': 'auc', 'verbose': -1, 'learning_rate': 0.021156928640323043, 'n_estimators': 1628, 'min_child_samples': 10, 'subsample': 1.0, 'colsample_bytree': 0.6}. Best is trial 24 with value: 0.7374690822827665.\n"
     ]
    },
    {
     "name": "stdout",
     "output_type": "stream",
     "text": [
      "Cat val score : 0.7383741902052596\n",
      "LGBM val score : 0.7374206255581676\n",
      "Ensemble val score : 0.7383502060524629\n"
     ]
    },
    {
     "name": "stderr",
     "output_type": "stream",
     "text": [
      "[I 2025-02-24 19:37:37,813] A new study created in memory with name: no-name-3d918ec8-e831-4b71-8327-3e60b56e6ad7\n"
     ]
    },
    {
     "name": "stdout",
     "output_type": "stream",
     "text": [
      "==================================================\n",
      "0:\ttest: 0.7258893\tbest: 0.7258893 (0)\ttotal: 183ms\tremaining: 7m 13s\n",
      "300:\ttest: 0.7396207\tbest: 0.7396207 (300)\ttotal: 43s\tremaining: 4m 55s\n",
      "600:\ttest: 0.7408243\tbest: 0.7408243 (600)\ttotal: 1m 28s\tremaining: 4m 19s\n",
      "900:\ttest: 0.7410877\tbest: 0.7410937 (897)\ttotal: 2m 15s\tremaining: 3m 40s\n",
      "1200:\ttest: 0.7411351\tbest: 0.7411419 (1181)\ttotal: 3m 6s\tremaining: 3m\n",
      "1500:\ttest: 0.7412936\tbest: 0.7413135 (1450)\ttotal: 4m 1s\tremaining: 2m 19s\n",
      "1800:\ttest: 0.7412951\tbest: 0.7413171 (1647)\ttotal: 4m 58s\tremaining: 1m 33s\n"
     ]
    },
    {
     "name": "stderr",
     "output_type": "stream",
     "text": [
      "[I 2025-02-24 19:43:04,677] Trial 0 finished with value: 0.7413170894331573 and parameters: {'iterations': 2366, 'depth': 10, 'learning_rate': 0.01181021951839225, 'l2_leaf_reg': 9.980783802743254}. Best is trial 0 with value: 0.7413170894331573.\n"
     ]
    },
    {
     "name": "stdout",
     "output_type": "stream",
     "text": [
      "Stopped by overfitting detector  (300 iterations wait)\n",
      "\n",
      "bestTest = 0.7413170894\n",
      "bestIteration = 1647\n",
      "\n",
      "Shrink model to first 1648 iterations.\n",
      "저장 완료\n",
      "0:\ttest: 0.6940391\tbest: 0.6940391 (0)\ttotal: 73.2ms\tremaining: 2m 40s\n",
      "300:\ttest: 0.7296137\tbest: 0.7296137 (300)\ttotal: 14.9s\tremaining: 1m 33s\n",
      "600:\ttest: 0.7350277\tbest: 0.7350277 (600)\ttotal: 30s\tremaining: 1m 19s\n"
     ]
    },
    {
     "name": "stderr",
     "output_type": "stream",
     "text": [
      "Training has stopped (degenerate solution on iteration 641, probably too small l2-regularization, try to increase it)\n",
      "[I 2025-02-24 19:43:37,059] Trial 1 finished with value: 0.7353823458337573 and parameters: {'iterations': 2193, 'depth': 4, 'learning_rate': 0.005671430811678843, 'l2_leaf_reg': 0.00012325230809466137}. Best is trial 0 with value: 0.7413170894331573.\n"
     ]
    },
    {
     "name": "stdout",
     "output_type": "stream",
     "text": [
      "\n",
      "bestTest = 0.7353823458\n",
      "bestIteration = 640\n",
      "\n",
      "Shrink model to first 641 iterations.\n",
      "0:\ttest: 0.6940391\tbest: 0.6940391 (0)\ttotal: 62ms\tremaining: 2m 36s\n",
      "300:\ttest: 0.7415074\tbest: 0.7416076 (283)\ttotal: 16.4s\tremaining: 2m 1s\n"
     ]
    },
    {
     "name": "stderr",
     "output_type": "stream",
     "text": [
      "[I 2025-02-24 19:44:08,987] Trial 2 finished with value: 0.7416076431490983 and parameters: {'iterations': 2535, 'depth': 4, 'learning_rate': 0.09275339199839054, 'l2_leaf_reg': 0.0008705394248343123}. Best is trial 2 with value: 0.7416076431490983.\n"
     ]
    },
    {
     "name": "stdout",
     "output_type": "stream",
     "text": [
      "Stopped by overfitting detector  (300 iterations wait)\n",
      "\n",
      "bestTest = 0.7416076431\n",
      "bestIteration = 283\n",
      "\n",
      "Shrink model to first 284 iterations.\n",
      "저장 완료\n",
      "0:\ttest: 0.6940391\tbest: 0.6940391 (0)\ttotal: 61.4ms\tremaining: 2m 23s\n",
      "300:\ttest: 0.7408014\tbest: 0.7408014 (300)\ttotal: 15.1s\tremaining: 1m 41s\n",
      "600:\ttest: 0.7414055\tbest: 0.7416025 (468)\ttotal: 31.7s\tremaining: 1m 31s\n"
     ]
    },
    {
     "name": "stderr",
     "output_type": "stream",
     "text": [
      "[I 2025-02-24 19:44:50,424] Trial 3 finished with value: 0.7416024730552339 and parameters: {'iterations': 2334, 'depth': 4, 'learning_rate': 0.04657568321363276, 'l2_leaf_reg': 0.0008640473331457248}. Best is trial 2 with value: 0.7416076431490983.\n"
     ]
    },
    {
     "name": "stdout",
     "output_type": "stream",
     "text": [
      "Stopped by overfitting detector  (300 iterations wait)\n",
      "\n",
      "bestTest = 0.7416024731\n",
      "bestIteration = 468\n",
      "\n",
      "Shrink model to first 469 iterations.\n",
      "0:\ttest: 0.7258092\tbest: 0.7258092 (0)\ttotal: 165ms\tremaining: 4m 47s\n",
      "300:\ttest: 0.7390260\tbest: 0.7390260 (300)\ttotal: 43.1s\tremaining: 3m 26s\n",
      "600:\ttest: 0.7401321\tbest: 0.7402102 (580)\ttotal: 1m 29s\tremaining: 2m 49s\n",
      "900:\ttest: 0.7403500\tbest: 0.7404126 (810)\ttotal: 2m 15s\tremaining: 2m 6s\n"
     ]
    },
    {
     "name": "stderr",
     "output_type": "stream",
     "text": [
      "[I 2025-02-24 19:47:42,091] Trial 4 finished with value: 0.7404126049398015 and parameters: {'iterations': 1742, 'depth': 10, 'learning_rate': 0.012622767482095846, 'l2_leaf_reg': 0.00021158816350109617}. Best is trial 2 with value: 0.7416076431490983.\n"
     ]
    },
    {
     "name": "stdout",
     "output_type": "stream",
     "text": [
      "Stopped by overfitting detector  (300 iterations wait)\n",
      "\n",
      "bestTest = 0.7404126049\n",
      "bestIteration = 810\n",
      "\n",
      "Shrink model to first 811 iterations.\n",
      "0:\ttest: 0.6940391\tbest: 0.6940391 (0)\ttotal: 73.3ms\tremaining: 2m 32s\n",
      "300:\ttest: 0.7410160\tbest: 0.7410757 (286)\ttotal: 15.4s\tremaining: 1m 31s\n",
      "600:\ttest: 0.7414308\tbest: 0.7415653 (459)\ttotal: 31.1s\tremaining: 1m 16s\n"
     ]
    },
    {
     "name": "stderr",
     "output_type": "stream",
     "text": [
      "[I 2025-02-24 19:48:21,794] Trial 5 finished with value: 0.7415652896766266 and parameters: {'iterations': 2082, 'depth': 4, 'learning_rate': 0.06995196593094148, 'l2_leaf_reg': 0.0018080296485396804}. Best is trial 2 with value: 0.7416076431490983.\n"
     ]
    },
    {
     "name": "stdout",
     "output_type": "stream",
     "text": [
      "Stopped by overfitting detector  (300 iterations wait)\n",
      "\n",
      "bestTest = 0.7415652897\n",
      "bestIteration = 459\n",
      "\n",
      "Shrink model to first 460 iterations.\n",
      "0:\ttest: 0.6983348\tbest: 0.6983348 (0)\ttotal: 72.5ms\tremaining: 2m 24s\n",
      "300:\ttest: 0.7414888\tbest: 0.7414888 (300)\ttotal: 19.4s\tremaining: 1m 49s\n",
      "600:\ttest: 0.7417668\tbest: 0.7418205 (549)\ttotal: 38.8s\tremaining: 1m 30s\n"
     ]
    },
    {
     "name": "stderr",
     "output_type": "stream",
     "text": [
      "[I 2025-02-24 19:49:17,574] Trial 6 finished with value: 0.7418204627963063 and parameters: {'iterations': 1997, 'depth': 5, 'learning_rate': 0.07985155992831598, 'l2_leaf_reg': 62.52181000710482}. Best is trial 6 with value: 0.7418204627963063.\n"
     ]
    },
    {
     "name": "stdout",
     "output_type": "stream",
     "text": [
      "Stopped by overfitting detector  (300 iterations wait)\n",
      "\n",
      "bestTest = 0.7418204628\n",
      "bestIteration = 549\n",
      "\n",
      "Shrink model to first 550 iterations.\n",
      "저장 완료\n",
      "0:\ttest: 0.7072331\tbest: 0.7072331 (0)\ttotal: 132ms\tremaining: 4m 14s\n",
      "300:\ttest: 0.7411897\tbest: 0.7419726 (168)\ttotal: 26.5s\tremaining: 2m 23s\n"
     ]
    },
    {
     "name": "stderr",
     "output_type": "stream",
     "text": [
      "[I 2025-02-24 19:50:00,142] Trial 7 finished with value: 0.7419725636222538 and parameters: {'iterations': 1927, 'depth': 7, 'learning_rate': 0.0941937211034094, 'l2_leaf_reg': 0.05654822767791934}. Best is trial 7 with value: 0.7419725636222538.\n"
     ]
    },
    {
     "name": "stdout",
     "output_type": "stream",
     "text": [
      "Stopped by overfitting detector  (300 iterations wait)\n",
      "\n",
      "bestTest = 0.7419725636\n",
      "bestIteration = 168\n",
      "\n",
      "Shrink model to first 169 iterations.\n",
      "저장 완료\n",
      "0:\ttest: 0.7072325\tbest: 0.7072325 (0)\ttotal: 113ms\tremaining: 3m 34s\n",
      "300:\ttest: 0.7412484\tbest: 0.7412899 (293)\ttotal: 25.3s\tremaining: 2m 14s\n",
      "600:\ttest: 0.7414078\tbest: 0.7416175 (530)\ttotal: 52.4s\tremaining: 1m 53s\n"
     ]
    },
    {
     "name": "stderr",
     "output_type": "stream",
     "text": [
      "[I 2025-02-24 19:51:16,095] Trial 8 finished with value: 0.7416175227140251 and parameters: {'iterations': 1904, 'depth': 7, 'learning_rate': 0.05155602859187331, 'l2_leaf_reg': 1.299974533316308}. Best is trial 7 with value: 0.7419725636222538.\n"
     ]
    },
    {
     "name": "stdout",
     "output_type": "stream",
     "text": [
      "Stopped by overfitting detector  (300 iterations wait)\n",
      "\n",
      "bestTest = 0.7416175227\n",
      "bestIteration = 530\n",
      "\n",
      "Shrink model to first 531 iterations.\n",
      "0:\ttest: 0.7069838\tbest: 0.7069838 (0)\ttotal: 105ms\tremaining: 4m 37s\n",
      "300:\ttest: 0.7407636\tbest: 0.7407636 (300)\ttotal: 22.6s\tremaining: 2m 55s\n",
      "600:\ttest: 0.7415244\tbest: 0.7415596 (590)\ttotal: 46.4s\tremaining: 2m 37s\n",
      "900:\ttest: 0.7415302\tbest: 0.7415968 (732)\ttotal: 1m 9s\tremaining: 2m 14s\n"
     ]
    },
    {
     "name": "stderr",
     "output_type": "stream",
     "text": [
      "[I 2025-02-24 19:52:36,594] Trial 9 finished with value: 0.7415967629208429 and parameters: {'iterations': 2639, 'depth': 6, 'learning_rate': 0.03968704290444751, 'l2_leaf_reg': 0.30557194377967184}. Best is trial 7 with value: 0.7419725636222538.\n"
     ]
    },
    {
     "name": "stdout",
     "output_type": "stream",
     "text": [
      "Stopped by overfitting detector  (300 iterations wait)\n",
      "\n",
      "bestTest = 0.7415967629\n",
      "bestIteration = 732\n",
      "\n",
      "Shrink model to first 733 iterations.\n",
      "0:\ttest: 0.7164488\tbest: 0.7164488 (0)\ttotal: 120ms\tremaining: 5m 52s\n",
      "300:\ttest: 0.7377163\tbest: 0.7404873 (151)\ttotal: 31.6s\tremaining: 4m 37s\n"
     ]
    },
    {
     "name": "stderr",
     "output_type": "stream",
     "text": [
      "[I 2025-02-24 19:53:25,469] Trial 10 finished with value: 0.7404873251058901 and parameters: {'iterations': 2945, 'depth': 8, 'learning_rate': 0.09878736770120888, 'l2_leaf_reg': 0.021714959500133205}. Best is trial 7 with value: 0.7419725636222538.\n"
     ]
    },
    {
     "name": "stdout",
     "output_type": "stream",
     "text": [
      "Stopped by overfitting detector  (300 iterations wait)\n",
      "\n",
      "bestTest = 0.7404873251\n",
      "bestIteration = 151\n",
      "\n",
      "Shrink model to first 152 iterations.\n",
      "0:\ttest: 0.7070202\tbest: 0.7070202 (0)\ttotal: 96ms\tremaining: 2m 38s\n",
      "300:\ttest: 0.7411015\tbest: 0.7411112 (286)\ttotal: 25.9s\tremaining: 1m 56s\n",
      "600:\ttest: 0.7411920\tbest: 0.7412799 (500)\ttotal: 49.7s\tremaining: 1m 27s\n"
     ]
    },
    {
     "name": "stderr",
     "output_type": "stream",
     "text": [
      "[I 2025-02-24 19:54:30,600] Trial 11 finished with value: 0.7412799378216398 and parameters: {'iterations': 1654, 'depth': 6, 'learning_rate': 0.0775196827636655, 'l2_leaf_reg': 73.1213351392818}. Best is trial 7 with value: 0.7419725636222538.\n"
     ]
    },
    {
     "name": "stdout",
     "output_type": "stream",
     "text": [
      "Stopped by overfitting detector  (300 iterations wait)\n",
      "\n",
      "bestTest = 0.7412799378\n",
      "bestIteration = 500\n",
      "\n",
      "Shrink model to first 501 iterations.\n",
      "0:\ttest: 0.7069838\tbest: 0.7069838 (0)\ttotal: 108ms\tremaining: 3m 31s\n",
      "300:\ttest: 0.7412644\tbest: 0.7412995 (278)\ttotal: 22.4s\tremaining: 2m 2s\n",
      "600:\ttest: 0.7402731\tbest: 0.7413277 (307)\ttotal: 46.3s\tremaining: 1m 43s\n"
     ]
    },
    {
     "name": "stderr",
     "output_type": "stream",
     "text": [
      "[I 2025-02-24 19:55:17,703] Trial 12 finished with value: 0.7413276678740597 and parameters: {'iterations': 1950, 'depth': 6, 'learning_rate': 0.07901368483110904, 'l2_leaf_reg': 0.028450890806958902}. Best is trial 7 with value: 0.7419725636222538.\n"
     ]
    },
    {
     "name": "stdout",
     "output_type": "stream",
     "text": [
      "Stopped by overfitting detector  (300 iterations wait)\n",
      "\n",
      "bestTest = 0.7413276679\n",
      "bestIteration = 307\n",
      "\n",
      "Shrink model to first 308 iterations.\n",
      "0:\ttest: 0.7164479\tbest: 0.7164479 (0)\ttotal: 119ms\tremaining: 3m 40s\n",
      "300:\ttest: 0.7415545\tbest: 0.7417532 (273)\ttotal: 29.4s\tremaining: 2m 32s\n"
     ]
    },
    {
     "name": "stderr",
     "output_type": "stream",
     "text": [
      "[I 2025-02-24 19:56:15,835] Trial 13 finished with value: 0.7417531840710028 and parameters: {'iterations': 1861, 'depth': 8, 'learning_rate': 0.06377426577515236, 'l2_leaf_reg': 1.3631804219559538}. Best is trial 7 with value: 0.7419725636222538.\n"
     ]
    },
    {
     "name": "stdout",
     "output_type": "stream",
     "text": [
      "Stopped by overfitting detector  (300 iterations wait)\n",
      "\n",
      "bestTest = 0.7417531841\n",
      "bestIteration = 273\n",
      "\n",
      "Shrink model to first 274 iterations.\n",
      "0:\ttest: 0.6983348\tbest: 0.6983348 (0)\ttotal: 75.1ms\tremaining: 1m 55s\n",
      "300:\ttest: 0.7416642\tbest: 0.7417077 (268)\ttotal: 19.7s\tremaining: 1m 20s\n",
      "600:\ttest: 0.7418766\tbest: 0.7419313 (554)\ttotal: 39.3s\tremaining: 1m\n",
      "900:\ttest: 0.7418728\tbest: 0.7419759 (719)\ttotal: 59.3s\tremaining: 41.6s\n"
     ]
    },
    {
     "name": "stderr",
     "output_type": "stream",
     "text": [
      "[I 2025-02-24 19:57:23,716] Trial 14 finished with value: 0.7419759468173173 and parameters: {'iterations': 1533, 'depth': 5, 'learning_rate': 0.08761040980136417, 'l2_leaf_reg': 92.74223128282539}. Best is trial 14 with value: 0.7419759468173173.\n"
     ]
    },
    {
     "name": "stdout",
     "output_type": "stream",
     "text": [
      "Stopped by overfitting detector  (300 iterations wait)\n",
      "\n",
      "bestTest = 0.7419759468\n",
      "bestIteration = 719\n",
      "\n",
      "Shrink model to first 720 iterations.\n",
      "저장 완료\n",
      "0:\ttest: 0.7164488\tbest: 0.7164488 (0)\ttotal: 114ms\tremaining: 2m 52s\n",
      "300:\ttest: 0.7395487\tbest: 0.7401407 (211)\ttotal: 29.4s\tremaining: 1m 58s\n"
     ]
    },
    {
     "name": "stderr",
     "output_type": "stream",
     "text": [
      "[I 2025-02-24 19:58:15,722] Trial 15 finished with value: 0.7401406826220264 and parameters: {'iterations': 1513, 'depth': 8, 'learning_rate': 0.08685430187225555, 'l2_leaf_reg': 0.08416625597719891}. Best is trial 14 with value: 0.7419759468173173.\n"
     ]
    },
    {
     "name": "stdout",
     "output_type": "stream",
     "text": [
      "Stopped by overfitting detector  (300 iterations wait)\n",
      "\n",
      "bestTest = 0.7401406826\n",
      "bestIteration = 211\n",
      "\n",
      "Shrink model to first 212 iterations.\n",
      "0:\ttest: 0.7072273\tbest: 0.7072273 (0)\ttotal: 93.1ms\tremaining: 2m 20s\n",
      "300:\ttest: 0.7409073\tbest: 0.7409106 (299)\ttotal: 24.7s\tremaining: 1m 39s\n",
      "600:\ttest: 0.7416716\tbest: 0.7416880 (594)\ttotal: 53s\tremaining: 1m 20s\n",
      "900:\ttest: 0.7416862\tbest: 0.7417429 (773)\ttotal: 1m 20s\tremaining: 54.8s\n"
     ]
    },
    {
     "name": "stderr",
     "output_type": "stream",
     "text": [
      "[I 2025-02-24 19:59:53,553] Trial 16 finished with value: 0.7417429312427708 and parameters: {'iterations': 1513, 'depth': 7, 'learning_rate': 0.03364783552115578, 'l2_leaf_reg': 10.470615771211127}. Best is trial 14 with value: 0.7419759468173173.\n"
     ]
    },
    {
     "name": "stdout",
     "output_type": "stream",
     "text": [
      "Stopped by overfitting detector  (300 iterations wait)\n",
      "\n",
      "bestTest = 0.7417429312\n",
      "bestIteration = 773\n",
      "\n",
      "Shrink model to first 774 iterations.\n",
      "0:\ttest: 0.7214138\tbest: 0.7214138 (0)\ttotal: 135ms\tremaining: 4m 1s\n",
      "300:\ttest: 0.7387042\tbest: 0.7405262 (118)\ttotal: 34.4s\tremaining: 2m 49s\n"
     ]
    },
    {
     "name": "stderr",
     "output_type": "stream",
     "text": [
      "[I 2025-02-24 20:00:43,373] Trial 17 finished with value: 0.7405262318491188 and parameters: {'iterations': 1783, 'depth': 9, 'learning_rate': 0.06265576307596891, 'l2_leaf_reg': 0.00795480840919648}. Best is trial 14 with value: 0.7419759468173173.\n"
     ]
    },
    {
     "name": "stdout",
     "output_type": "stream",
     "text": [
      "Stopped by overfitting detector  (300 iterations wait)\n",
      "\n",
      "bestTest = 0.7405262318\n",
      "bestIteration = 118\n",
      "\n",
      "Shrink model to first 119 iterations.\n",
      "0:\ttest: 0.6983310\tbest: 0.6983310 (0)\ttotal: 98.2ms\tremaining: 2m 38s\n",
      "300:\ttest: 0.7414773\tbest: 0.7415856 (268)\ttotal: 19.7s\tremaining: 1m 26s\n"
     ]
    },
    {
     "name": "stderr",
     "output_type": "stream",
     "text": [
      "[I 2025-02-24 20:01:22,491] Trial 18 finished with value: 0.7415856484103002 and parameters: {'iterations': 1620, 'depth': 5, 'learning_rate': 0.0970067288782603, 'l2_leaf_reg': 0.6569674192630217}. Best is trial 14 with value: 0.7419759468173173.\n"
     ]
    },
    {
     "name": "stdout",
     "output_type": "stream",
     "text": [
      "Stopped by overfitting detector  (300 iterations wait)\n",
      "\n",
      "bestTest = 0.7415856484\n",
      "bestIteration = 268\n",
      "\n",
      "Shrink model to first 269 iterations.\n",
      "0:\ttest: 0.6983310\tbest: 0.6983310 (0)\ttotal: 77.5ms\tremaining: 2m 49s\n",
      "300:\ttest: 0.7416433\tbest: 0.7416530 (202)\ttotal: 21.1s\tremaining: 2m 12s\n",
      "600:\ttest: 0.7411943\tbest: 0.7418264 (380)\ttotal: 42.2s\tremaining: 1m 51s\n"
     ]
    },
    {
     "name": "stderr",
     "output_type": "stream",
     "text": [
      "[I 2025-02-24 20:02:10,219] Trial 19 finished with value: 0.7418264350091881 and parameters: {'iterations': 2186, 'depth': 5, 'learning_rate': 0.08637201494514177, 'l2_leaf_reg': 0.12558662644655105}. Best is trial 14 with value: 0.7419759468173173.\n",
      "[I 2025-02-24 20:02:10,225] A new study created in memory with name: no-name-bf465b21-5928-4209-92d2-f9a9baa556ce\n"
     ]
    },
    {
     "name": "stdout",
     "output_type": "stream",
     "text": [
      "Stopped by overfitting detector  (300 iterations wait)\n",
      "\n",
      "bestTest = 0.741826435\n",
      "bestIteration = 380\n",
      "\n",
      "Shrink model to first 381 iterations.\n"
     ]
    },
    {
     "name": "stderr",
     "output_type": "stream",
     "text": [
      "[I 2025-02-24 20:02:34,748] Trial 0 finished with value: 0.7295604826170643 and parameters: {'num_iterations': 2366, 'objective': 'binary', 'metric': 'auc', 'verbose': -1, 'learning_rate': 0.0652646236447618, 'n_estimators': 236, 'min_child_samples': 45, 'subsample': 0.7, 'colsample_bytree': 0.5}. Best is trial 0 with value: 0.7295604826170643.\n",
      "[I 2025-02-24 20:02:52,832] Trial 1 finished with value: 0.7415739620921411 and parameters: {'num_iterations': 1510, 'objective': 'binary', 'metric': 'auc', 'verbose': -1, 'learning_rate': 0.005231880959249543, 'n_estimators': 1411, 'min_child_samples': 10, 'subsample': 1.0, 'colsample_bytree': 0.5}. Best is trial 1 with value: 0.7415739620921411.\n",
      "[I 2025-02-24 20:03:13,199] Trial 2 finished with value: 0.740626087725009 and parameters: {'num_iterations': 2334, 'objective': 'binary', 'metric': 'auc', 'verbose': -1, 'learning_rate': 0.006578527777128852, 'n_estimators': 931, 'min_child_samples': 15, 'subsample': 0.5, 'colsample_bytree': 1.0}. Best is trial 1 with value: 0.7415739620921411.\n",
      "[I 2025-02-24 20:03:30,355] Trial 3 finished with value: 0.741557359816836 and parameters: {'num_iterations': 1620, 'objective': 'binary', 'metric': 'auc', 'verbose': -1, 'learning_rate': 0.0058823249237283685, 'n_estimators': 837, 'min_child_samples': 10, 'subsample': 0.9, 'colsample_bytree': 0.6}. Best is trial 1 with value: 0.7415739620921411.\n",
      "[I 2025-02-24 20:03:47,475] Trial 4 finished with value: 0.7406349467721762 and parameters: {'num_iterations': 1997, 'objective': 'binary', 'metric': 'auc', 'verbose': -1, 'learning_rate': 0.010907507425244923, 'n_estimators': 1597, 'min_child_samples': 50, 'subsample': 0.6, 'colsample_bytree': 0.8}. Best is trial 1 with value: 0.7415739620921411.\n",
      "[I 2025-02-24 20:04:10,459] Trial 5 finished with value: 0.7372084333109831 and parameters: {'num_iterations': 2909, 'objective': 'binary', 'metric': 'auc', 'verbose': -1, 'learning_rate': 0.019760591962733942, 'n_estimators': 612, 'min_child_samples': 30, 'subsample': 0.7, 'colsample_bytree': 0.9}. Best is trial 1 with value: 0.7415739620921411.\n",
      "[I 2025-02-24 20:04:31,508] Trial 6 finished with value: 0.7380688330254732 and parameters: {'num_iterations': 2639, 'objective': 'binary', 'metric': 'auc', 'verbose': -1, 'learning_rate': 0.017862094446750985, 'n_estimators': 794, 'min_child_samples': 35, 'subsample': 1.0, 'colsample_bytree': 0.8}. Best is trial 1 with value: 0.7415739620921411.\n",
      "[I 2025-02-24 20:04:48,475] Trial 7 finished with value: 0.7404070774661768 and parameters: {'num_iterations': 1580, 'objective': 'binary', 'metric': 'auc', 'verbose': -1, 'learning_rate': 0.01776722177611332, 'n_estimators': 529, 'min_child_samples': 25, 'subsample': 0.8, 'colsample_bytree': 0.5}. Best is trial 1 with value: 0.7415739620921411.\n",
      "[I 2025-02-24 20:05:06,614] Trial 8 finished with value: 0.7371810500795781 and parameters: {'num_iterations': 1911, 'objective': 'binary', 'metric': 'auc', 'verbose': -1, 'learning_rate': 0.0304747553332844, 'n_estimators': 1328, 'min_child_samples': 10, 'subsample': 0.7, 'colsample_bytree': 0.6}. Best is trial 1 with value: 0.7415739620921411.\n",
      "[I 2025-02-24 20:05:35,089] Trial 9 finished with value: 0.7360758452293408 and parameters: {'num_iterations': 2739, 'objective': 'binary', 'metric': 'auc', 'verbose': -1, 'learning_rate': 0.02691531614176271, 'n_estimators': 1438, 'min_child_samples': 20, 'subsample': 0.6, 'colsample_bytree': 0.5}. Best is trial 1 with value: 0.7415739620921411.\n",
      "[I 2025-02-24 20:05:50,448] Trial 10 finished with value: 0.7275324636626584 and parameters: {'num_iterations': 1933, 'objective': 'binary', 'metric': 'auc', 'verbose': -1, 'learning_rate': 0.08223556891145911, 'n_estimators': 1960, 'min_child_samples': 40, 'subsample': 1.0, 'colsample_bytree': 0.7}. Best is trial 1 with value: 0.7415739620921411.\n",
      "[I 2025-02-24 20:06:06,665] Trial 11 finished with value: 0.7414569519877605 and parameters: {'num_iterations': 1513, 'objective': 'binary', 'metric': 'auc', 'verbose': -1, 'learning_rate': 0.005340229419903739, 'n_estimators': 1206, 'min_child_samples': 10, 'subsample': 0.9, 'colsample_bytree': 0.6}. Best is trial 1 with value: 0.7415739620921411.\n",
      "[I 2025-02-24 20:06:24,025] Trial 12 finished with value: 0.7413390444630932 and parameters: {'num_iterations': 1698, 'objective': 'binary', 'metric': 'auc', 'verbose': -1, 'learning_rate': 0.008515343845233947, 'n_estimators': 1719, 'min_child_samples': 20, 'subsample': 0.9, 'colsample_bytree': 0.6}. Best is trial 1 with value: 0.7415739620921411.\n",
      "[I 2025-02-24 20:06:39,830] Trial 13 finished with value: 0.7412305320552331 and parameters: {'num_iterations': 1777, 'objective': 'binary', 'metric': 'auc', 'verbose': -1, 'learning_rate': 0.010074542479113706, 'n_estimators': 1082, 'min_child_samples': 10, 'subsample': 0.9, 'colsample_bytree': 0.7}. Best is trial 1 with value: 0.7415739620921411.\n",
      "[I 2025-02-24 20:07:02,792] Trial 14 finished with value: 0.7414941631625713 and parameters: {'num_iterations': 2165, 'objective': 'binary', 'metric': 'auc', 'verbose': -1, 'learning_rate': 0.005262187136940254, 'n_estimators': 251, 'min_child_samples': 20, 'subsample': 1.0, 'colsample_bytree': 0.6}. Best is trial 1 with value: 0.7415739620921411.\n",
      "[I 2025-02-24 20:07:20,202] Trial 15 finished with value: 0.7412853779357675 and parameters: {'num_iterations': 1507, 'objective': 'binary', 'metric': 'auc', 'verbose': -1, 'learning_rate': 0.012840412608821758, 'n_estimators': 758, 'min_child_samples': 15, 'subsample': 0.8, 'colsample_bytree': 0.5}. Best is trial 1 with value: 0.7415739620921411.\n",
      "[I 2025-02-24 20:07:34,777] Trial 16 finished with value: 0.7357941823276566 and parameters: {'num_iterations': 1766, 'objective': 'binary', 'metric': 'auc', 'verbose': -1, 'learning_rate': 0.041903889887690594, 'n_estimators': 1046, 'min_child_samples': 30, 'subsample': 0.9, 'colsample_bytree': 0.7}. Best is trial 1 with value: 0.7415739620921411.\n",
      "[I 2025-02-24 20:07:56,369] Trial 17 finished with value: 0.7413390007833447 and parameters: {'num_iterations': 2097, 'objective': 'binary', 'metric': 'auc', 'verbose': -1, 'learning_rate': 0.007247960274588795, 'n_estimators': 1569, 'min_child_samples': 15, 'subsample': 1.0, 'colsample_bytree': 0.6}. Best is trial 1 with value: 0.7415739620921411.\n",
      "[I 2025-02-24 20:08:15,068] Trial 18 finished with value: 0.740992040628583 and parameters: {'num_iterations': 1698, 'objective': 'binary', 'metric': 'auc', 'verbose': -1, 'learning_rate': 0.01356820322695768, 'n_estimators': 1881, 'min_child_samples': 25, 'subsample': 0.8, 'colsample_bytree': 0.5}. Best is trial 1 with value: 0.7415739620921411.\n",
      "[I 2025-02-24 20:08:37,744] Trial 19 finished with value: 0.7413286407411847 and parameters: {'num_iterations': 2510, 'objective': 'binary', 'metric': 'auc', 'verbose': -1, 'learning_rate': 0.005127969307903406, 'n_estimators': 477, 'min_child_samples': 10, 'subsample': 0.9, 'colsample_bytree': 0.7}. Best is trial 1 with value: 0.7415739620921411.\n",
      "[I 2025-02-24 20:08:55,387] Trial 20 finished with value: 0.7413817434026664 and parameters: {'num_iterations': 1649, 'objective': 'binary', 'metric': 'auc', 'verbose': -1, 'learning_rate': 0.007877155758725746, 'n_estimators': 1278, 'min_child_samples': 15, 'subsample': 1.0, 'colsample_bytree': 0.6}. Best is trial 1 with value: 0.7415739620921411.\n",
      "[I 2025-02-24 20:09:17,072] Trial 21 finished with value: 0.7415164477760638 and parameters: {'num_iterations': 2089, 'objective': 'binary', 'metric': 'auc', 'verbose': -1, 'learning_rate': 0.0053196069822991025, 'n_estimators': 214, 'min_child_samples': 20, 'subsample': 1.0, 'colsample_bytree': 0.6}. Best is trial 1 with value: 0.7415739620921411.\n",
      "[I 2025-02-24 20:09:38,106] Trial 22 finished with value: 0.7416982746562888 and parameters: {'num_iterations': 1841, 'objective': 'binary', 'metric': 'auc', 'verbose': -1, 'learning_rate': 0.0062777457001196475, 'n_estimators': 107, 'min_child_samples': 20, 'subsample': 1.0, 'colsample_bytree': 0.5}. Best is trial 22 with value: 0.7416982746562888.\n",
      "[I 2025-02-24 20:09:58,613] Trial 23 finished with value: 0.7416410462440197 and parameters: {'num_iterations': 1835, 'objective': 'binary', 'metric': 'auc', 'verbose': -1, 'learning_rate': 0.006942662755656896, 'n_estimators': 119, 'min_child_samples': 25, 'subsample': 0.9, 'colsample_bytree': 0.5}. Best is trial 22 with value: 0.7416982746562888.\n",
      "[I 2025-02-24 20:10:18,983] Trial 24 finished with value: 0.7412655393881894 and parameters: {'num_iterations': 1853, 'objective': 'binary', 'metric': 'auc', 'verbose': -1, 'learning_rate': 0.00916380665975661, 'n_estimators': 375, 'min_child_samples': 25, 'subsample': 1.0, 'colsample_bytree': 0.5}. Best is trial 22 with value: 0.7416982746562888.\n",
      "[I 2025-02-24 20:10:39,047] Trial 25 finished with value: 0.741087842229638 and parameters: {'num_iterations': 1833, 'objective': 'binary', 'metric': 'auc', 'verbose': -1, 'learning_rate': 0.013021337468159196, 'n_estimators': 136, 'min_child_samples': 35, 'subsample': 0.9, 'colsample_bytree': 0.5}. Best is trial 22 with value: 0.7416982746562888.\n",
      "[I 2025-02-24 20:11:01,193] Trial 26 finished with value: 0.7416232924117094 and parameters: {'num_iterations': 1975, 'objective': 'binary', 'metric': 'auc', 'verbose': -1, 'learning_rate': 0.0070319925342010176, 'n_estimators': 364, 'min_child_samples': 25, 'subsample': 0.8, 'colsample_bytree': 0.5}. Best is trial 22 with value: 0.7416982746562888.\n",
      "[I 2025-02-24 20:11:18,431] Trial 27 finished with value: 0.7410297124261959 and parameters: {'num_iterations': 2009, 'objective': 'binary', 'metric': 'auc', 'verbose': -1, 'learning_rate': 0.007529990240784247, 'n_estimators': 360, 'min_child_samples': 25, 'subsample': 0.8, 'colsample_bytree': 1.0}. Best is trial 22 with value: 0.7416982746562888.\n",
      "[I 2025-02-24 20:11:37,286] Trial 28 finished with value: 0.7403247371694234 and parameters: {'num_iterations': 2226, 'objective': 'binary', 'metric': 'auc', 'verbose': -1, 'learning_rate': 0.010329080719370077, 'n_estimators': 109, 'min_child_samples': 35, 'subsample': 0.8, 'colsample_bytree': 0.9}. Best is trial 22 with value: 0.7416982746562888.\n",
      "[I 2025-02-24 20:12:01,745] Trial 29 finished with value: 0.7322148810771991 and parameters: {'num_iterations': 2362, 'objective': 'binary', 'metric': 'auc', 'verbose': -1, 'learning_rate': 0.05062222810999625, 'n_estimators': 315, 'min_child_samples': 30, 'subsample': 0.7, 'colsample_bytree': 0.5}. Best is trial 22 with value: 0.7416982746562888.\n",
      "[I 2025-02-24 20:12:24,565] Trial 30 finished with value: 0.7417766758339075 and parameters: {'num_iterations': 2026, 'objective': 'binary', 'metric': 'auc', 'verbose': -1, 'learning_rate': 0.007156536539413739, 'n_estimators': 653, 'min_child_samples': 40, 'subsample': 0.6, 'colsample_bytree': 0.5}. Best is trial 30 with value: 0.7417766758339075.\n",
      "[I 2025-02-24 20:12:47,453] Trial 31 finished with value: 0.7418070689970707 and parameters: {'num_iterations': 1991, 'objective': 'binary', 'metric': 'auc', 'verbose': -1, 'learning_rate': 0.006672431632653901, 'n_estimators': 662, 'min_child_samples': 45, 'subsample': 0.6, 'colsample_bytree': 0.5}. Best is trial 31 with value: 0.7418070689970707.\n",
      "[I 2025-02-24 20:13:11,215] Trial 32 finished with value: 0.7417696275108588 and parameters: {'num_iterations': 2109, 'objective': 'binary', 'metric': 'auc', 'verbose': -1, 'learning_rate': 0.006193788054923432, 'n_estimators': 678, 'min_child_samples': 45, 'subsample': 0.6, 'colsample_bytree': 0.5}. Best is trial 31 with value: 0.7418070689970707.\n",
      "[I 2025-02-24 20:13:36,873] Trial 33 finished with value: 0.7417351046260221 and parameters: {'num_iterations': 2276, 'objective': 'binary', 'metric': 'auc', 'verbose': -1, 'learning_rate': 0.006293123268644411, 'n_estimators': 682, 'min_child_samples': 45, 'subsample': 0.6, 'colsample_bytree': 0.5}. Best is trial 31 with value: 0.7418070689970707.\n",
      "[I 2025-02-24 20:14:01,961] Trial 34 finished with value: 0.7407938934059749 and parameters: {'num_iterations': 2266, 'objective': 'binary', 'metric': 'auc', 'verbose': -1, 'learning_rate': 0.011462757020826149, 'n_estimators': 666, 'min_child_samples': 45, 'subsample': 0.5, 'colsample_bytree': 0.5}. Best is trial 31 with value: 0.7418070689970707.\n",
      "[I 2025-02-24 20:14:22,976] Trial 35 finished with value: 0.7411792520305286 and parameters: {'num_iterations': 2098, 'objective': 'binary', 'metric': 'auc', 'verbose': -1, 'learning_rate': 0.009016745224291741, 'n_estimators': 957, 'min_child_samples': 50, 'subsample': 0.6, 'colsample_bytree': 0.6}. Best is trial 31 with value: 0.7418070689970707.\n",
      "[I 2025-02-24 20:14:48,336] Trial 36 finished with value: 0.7417589418560284 and parameters: {'num_iterations': 2245, 'objective': 'binary', 'metric': 'auc', 'verbose': -1, 'learning_rate': 0.0062363304168526175, 'n_estimators': 698, 'min_child_samples': 45, 'subsample': 0.6, 'colsample_bytree': 0.5}. Best is trial 31 with value: 0.7418070689970707.\n",
      "[I 2025-02-24 20:15:11,947] Trial 37 finished with value: 0.7392118923340898 and parameters: {'num_iterations': 2442, 'objective': 'binary', 'metric': 'auc', 'verbose': -1, 'learning_rate': 0.015983102332000933, 'n_estimators': 894, 'min_child_samples': 40, 'subsample': 0.5, 'colsample_bytree': 0.6}. Best is trial 31 with value: 0.7418070689970707.\n",
      "[I 2025-02-24 20:15:31,312] Trial 38 finished with value: 0.7414105918910882 and parameters: {'num_iterations': 2178, 'objective': 'binary', 'metric': 'auc', 'verbose': -1, 'learning_rate': 0.006109983807061007, 'n_estimators': 583, 'min_child_samples': 40, 'subsample': 0.6, 'colsample_bytree': 0.8}. Best is trial 31 with value: 0.7418070689970707.\n",
      "[I 2025-02-24 20:15:58,103] Trial 39 finished with value: 0.7414308156146301 and parameters: {'num_iterations': 2440, 'objective': 'binary', 'metric': 'auc', 'verbose': -1, 'learning_rate': 0.008157727141603989, 'n_estimators': 448, 'min_child_samples': 50, 'subsample': 0.5, 'colsample_bytree': 0.5}. Best is trial 31 with value: 0.7418070689970707.\n"
     ]
    },
    {
     "name": "stdout",
     "output_type": "stream",
     "text": [
      "Cat val score : 0.7419759468173173\n",
      "LGBM val score : 0.7417399451363299\n",
      "Ensemble val score : 0.7421918240469183\n"
     ]
    },
    {
     "name": "stderr",
     "output_type": "stream",
     "text": [
      "[I 2025-02-24 20:16:22,386] A new study created in memory with name: no-name-ffdb5229-166c-4302-a0d5-4f2d4417c7ba\n"
     ]
    },
    {
     "name": "stdout",
     "output_type": "stream",
     "text": [
      "==================================================\n",
      "0:\ttest: 0.7273620\tbest: 0.7273620 (0)\ttotal: 175ms\tremaining: 6m 54s\n",
      "300:\ttest: 0.7410419\tbest: 0.7410419 (300)\ttotal: 41.7s\tremaining: 4m 45s\n",
      "600:\ttest: 0.7422474\tbest: 0.7422498 (599)\ttotal: 1m 27s\tremaining: 4m 16s\n",
      "900:\ttest: 0.7424277\tbest: 0.7424364 (878)\ttotal: 2m 11s\tremaining: 3m 33s\n",
      "1200:\ttest: 0.7424980\tbest: 0.7425417 (1183)\ttotal: 2m 59s\tremaining: 2m 54s\n"
     ]
    },
    {
     "name": "stderr",
     "output_type": "stream",
     "text": [
      "[I 2025-02-24 20:20:14,060] Trial 0 finished with value: 0.7425416670650788 and parameters: {'iterations': 2366, 'depth': 10, 'learning_rate': 0.01181021951839225, 'l2_leaf_reg': 9.980783802743254}. Best is trial 0 with value: 0.7425416670650788.\n"
     ]
    },
    {
     "name": "stdout",
     "output_type": "stream",
     "text": [
      "Stopped by overfitting detector  (300 iterations wait)\n",
      "\n",
      "bestTest = 0.7425416671\n",
      "bestIteration = 1183\n",
      "\n",
      "Shrink model to first 1184 iterations.\n",
      "저장 완료\n",
      "0:\ttest: 0.7045912\tbest: 0.7045912 (0)\ttotal: 66.3ms\tremaining: 2m 25s\n",
      "300:\ttest: 0.7314468\tbest: 0.7314468 (300)\ttotal: 15.1s\tremaining: 1m 35s\n",
      "600:\ttest: 0.7363632\tbest: 0.7363632 (600)\ttotal: 29.5s\tremaining: 1m 18s\n",
      "900:\ttest: 0.7385171\tbest: 0.7385171 (900)\ttotal: 44.7s\tremaining: 1m 4s\n",
      "1200:\ttest: 0.7396044\tbest: 0.7396046 (1199)\ttotal: 59.8s\tremaining: 49.4s\n",
      "1500:\ttest: 0.7402647\tbest: 0.7402647 (1500)\ttotal: 1m 15s\tremaining: 34.8s\n",
      "1800:\ttest: 0.7407679\tbest: 0.7407679 (1800)\ttotal: 1m 31s\tremaining: 19.9s\n",
      "2100:\ttest: 0.7411780\tbest: 0.7411780 (2100)\ttotal: 1m 47s\tremaining: 4.7s\n"
     ]
    },
    {
     "name": "stderr",
     "output_type": "stream",
     "text": [
      "[I 2025-02-24 20:22:06,770] Trial 1 finished with value: 0.7413295381614714 and parameters: {'iterations': 2193, 'depth': 4, 'learning_rate': 0.005671430811678843, 'l2_leaf_reg': 0.00012325230809466137}. Best is trial 0 with value: 0.7425416670650788.\n"
     ]
    },
    {
     "name": "stdout",
     "output_type": "stream",
     "text": [
      "2192:\ttest: 0.7413290\tbest: 0.7413295 (2189)\ttotal: 1m 52s\tremaining: 0us\n",
      "\n",
      "bestTest = 0.7413295382\n",
      "bestIteration = 2189\n",
      "\n",
      "Shrink model to first 2190 iterations.\n",
      "0:\ttest: 0.7045912\tbest: 0.7045912 (0)\ttotal: 69.5ms\tremaining: 2m 56s\n",
      "300:\ttest: 0.7426016\tbest: 0.7426784 (283)\ttotal: 17.1s\tremaining: 2m 6s\n",
      "600:\ttest: 0.7424921\tbest: 0.7427100 (474)\ttotal: 33.9s\tremaining: 1m 49s\n"
     ]
    },
    {
     "name": "stderr",
     "output_type": "stream",
     "text": [
      "[I 2025-02-24 20:22:51,020] Trial 2 finished with value: 0.7427100048447989 and parameters: {'iterations': 2535, 'depth': 4, 'learning_rate': 0.09275339199839054, 'l2_leaf_reg': 0.0008705394248343123}. Best is trial 2 with value: 0.7427100048447989.\n"
     ]
    },
    {
     "name": "stdout",
     "output_type": "stream",
     "text": [
      "Stopped by overfitting detector  (300 iterations wait)\n",
      "\n",
      "bestTest = 0.7427100048\n",
      "bestIteration = 474\n",
      "\n",
      "Shrink model to first 475 iterations.\n",
      "저장 완료\n",
      "0:\ttest: 0.7045912\tbest: 0.7045912 (0)\ttotal: 59.8ms\tremaining: 2m 19s\n",
      "300:\ttest: 0.7417739\tbest: 0.7417739 (300)\ttotal: 15.9s\tremaining: 1m 47s\n",
      "600:\ttest: 0.7429078\tbest: 0.7429628 (581)\ttotal: 31.4s\tremaining: 1m 30s\n",
      "900:\ttest: 0.7428412\tbest: 0.7429690 (746)\ttotal: 47.5s\tremaining: 1m 15s\n"
     ]
    },
    {
     "name": "stderr",
     "output_type": "stream",
     "text": [
      "[I 2025-02-24 20:23:46,387] Trial 3 finished with value: 0.7429689701608231 and parameters: {'iterations': 2334, 'depth': 4, 'learning_rate': 0.04657568321363276, 'l2_leaf_reg': 0.0008640473331457248}. Best is trial 3 with value: 0.7429689701608231.\n"
     ]
    },
    {
     "name": "stdout",
     "output_type": "stream",
     "text": [
      "Stopped by overfitting detector  (300 iterations wait)\n",
      "\n",
      "bestTest = 0.7429689702\n",
      "bestIteration = 746\n",
      "\n",
      "Shrink model to first 747 iterations.\n",
      "저장 완료\n",
      "0:\ttest: 0.7273766\tbest: 0.7273766 (0)\ttotal: 142ms\tremaining: 4m 6s\n",
      "300:\ttest: 0.7396393\tbest: 0.7396641 (298)\ttotal: 42.9s\tremaining: 3m 25s\n",
      "600:\ttest: 0.7403714\tbest: 0.7403905 (596)\ttotal: 1m 26s\tremaining: 2m 44s\n",
      "900:\ttest: 0.7403630\tbest: 0.7404335 (608)\ttotal: 2m 12s\tremaining: 2m 3s\n"
     ]
    },
    {
     "name": "stderr",
     "output_type": "stream",
     "text": [
      "[I 2025-02-24 20:26:00,662] Trial 4 finished with value: 0.7404334957722292 and parameters: {'iterations': 1742, 'depth': 10, 'learning_rate': 0.012622767482095846, 'l2_leaf_reg': 0.00021158816350109617}. Best is trial 3 with value: 0.7429689701608231.\n"
     ]
    },
    {
     "name": "stdout",
     "output_type": "stream",
     "text": [
      "Stopped by overfitting detector  (300 iterations wait)\n",
      "\n",
      "bestTest = 0.7404334958\n",
      "bestIteration = 608\n",
      "\n",
      "Shrink model to first 609 iterations.\n",
      "0:\ttest: 0.7045912\tbest: 0.7045912 (0)\ttotal: 70.2ms\tremaining: 2m 26s\n",
      "300:\ttest: 0.7425198\tbest: 0.7425198 (300)\ttotal: 15s\tremaining: 1m 28s\n",
      "600:\ttest: 0.7427647\tbest: 0.7428273 (379)\ttotal: 31.7s\tremaining: 1m 18s\n"
     ]
    },
    {
     "name": "stderr",
     "output_type": "stream",
     "text": [
      "[I 2025-02-24 20:26:37,710] Trial 5 finished with value: 0.7428272690858979 and parameters: {'iterations': 2082, 'depth': 4, 'learning_rate': 0.06995196593094148, 'l2_leaf_reg': 0.0018080296485396804}. Best is trial 3 with value: 0.7429689701608231.\n"
     ]
    },
    {
     "name": "stdout",
     "output_type": "stream",
     "text": [
      "Stopped by overfitting detector  (300 iterations wait)\n",
      "\n",
      "bestTest = 0.7428272691\n",
      "bestIteration = 379\n",
      "\n",
      "Shrink model to first 380 iterations.\n",
      "0:\ttest: 0.7074156\tbest: 0.7074156 (0)\ttotal: 79.4ms\tremaining: 2m 38s\n",
      "300:\ttest: 0.7425105\tbest: 0.7425105 (300)\ttotal: 19.1s\tremaining: 1m 47s\n",
      "600:\ttest: 0.7427956\tbest: 0.7428742 (529)\ttotal: 39.5s\tremaining: 1m 31s\n"
     ]
    },
    {
     "name": "stderr",
     "output_type": "stream",
     "text": [
      "[I 2025-02-24 20:27:33,418] Trial 6 finished with value: 0.7428741890775279 and parameters: {'iterations': 1997, 'depth': 5, 'learning_rate': 0.07985155992831598, 'l2_leaf_reg': 62.52181000710482}. Best is trial 3 with value: 0.7429689701608231.\n"
     ]
    },
    {
     "name": "stdout",
     "output_type": "stream",
     "text": [
      "Stopped by overfitting detector  (300 iterations wait)\n",
      "\n",
      "bestTest = 0.7428741891\n",
      "bestIteration = 529\n",
      "\n",
      "Shrink model to first 530 iterations.\n",
      "0:\ttest: 0.7226396\tbest: 0.7226396 (0)\ttotal: 102ms\tremaining: 3m 15s\n",
      "300:\ttest: 0.7419657\tbest: 0.7427171 (176)\ttotal: 27.5s\tremaining: 2m 28s\n"
     ]
    },
    {
     "name": "stderr",
     "output_type": "stream",
     "text": [
      "[I 2025-02-24 20:28:17,535] Trial 7 finished with value: 0.7427170928767097 and parameters: {'iterations': 1927, 'depth': 7, 'learning_rate': 0.0941937211034094, 'l2_leaf_reg': 0.05654822767791934}. Best is trial 3 with value: 0.7429689701608231.\n"
     ]
    },
    {
     "name": "stdout",
     "output_type": "stream",
     "text": [
      "Stopped by overfitting detector  (300 iterations wait)\n",
      "\n",
      "bestTest = 0.7427170929\n",
      "bestIteration = 176\n",
      "\n",
      "Shrink model to first 177 iterations.\n",
      "0:\ttest: 0.7226391\tbest: 0.7226391 (0)\ttotal: 90.8ms\tremaining: 2m 52s\n",
      "300:\ttest: 0.7427941\tbest: 0.7428364 (297)\ttotal: 25.5s\tremaining: 2m 15s\n",
      "600:\ttest: 0.7427131\tbest: 0.7429514 (447)\ttotal: 53.9s\tremaining: 1m 56s\n"
     ]
    },
    {
     "name": "stderr",
     "output_type": "stream",
     "text": [
      "[I 2025-02-24 20:29:25,229] Trial 8 finished with value: 0.7429514029601654 and parameters: {'iterations': 1904, 'depth': 7, 'learning_rate': 0.05155602859187331, 'l2_leaf_reg': 1.299974533316308}. Best is trial 3 with value: 0.7429689701608231.\n"
     ]
    },
    {
     "name": "stdout",
     "output_type": "stream",
     "text": [
      "Stopped by overfitting detector  (300 iterations wait)\n",
      "\n",
      "bestTest = 0.742951403\n",
      "bestIteration = 447\n",
      "\n",
      "Shrink model to first 448 iterations.\n",
      "0:\ttest: 0.7210734\tbest: 0.7210734 (0)\ttotal: 102ms\tremaining: 4m 28s\n",
      "300:\ttest: 0.7421419\tbest: 0.7421419 (300)\ttotal: 22.4s\tremaining: 2m 54s\n",
      "600:\ttest: 0.7429595\tbest: 0.7429601 (594)\ttotal: 45.8s\tremaining: 2m 35s\n",
      "900:\ttest: 0.7427253\tbest: 0.7429669 (617)\ttotal: 1m 9s\tremaining: 2m 14s\n"
     ]
    },
    {
     "name": "stderr",
     "output_type": "stream",
     "text": [
      "[I 2025-02-24 20:30:36,308] Trial 9 finished with value: 0.7429669489797348 and parameters: {'iterations': 2639, 'depth': 6, 'learning_rate': 0.03968704290444751, 'l2_leaf_reg': 0.30557194377967184}. Best is trial 3 with value: 0.7429689701608231.\n"
     ]
    },
    {
     "name": "stdout",
     "output_type": "stream",
     "text": [
      "Stopped by overfitting detector  (300 iterations wait)\n",
      "\n",
      "bestTest = 0.742966949\n",
      "bestIteration = 617\n",
      "\n",
      "Shrink model to first 618 iterations.\n",
      "0:\ttest: 0.7231907\tbest: 0.7231907 (0)\ttotal: 143ms\tremaining: 7m 1s\n",
      "300:\ttest: 0.7419400\tbest: 0.7421648 (183)\ttotal: 30.5s\tremaining: 4m 28s\n"
     ]
    },
    {
     "name": "stderr",
     "output_type": "stream",
     "text": [
      "[I 2025-02-24 20:31:28,064] Trial 10 finished with value: 0.7421648379041357 and parameters: {'iterations': 2945, 'depth': 9, 'learning_rate': 0.03382272640596765, 'l2_leaf_reg': 0.017110106201165813}. Best is trial 3 with value: 0.7429689701608231.\n"
     ]
    },
    {
     "name": "stdout",
     "output_type": "stream",
     "text": [
      "Stopped by overfitting detector  (300 iterations wait)\n",
      "\n",
      "bestTest = 0.7421648379\n",
      "bestIteration = 183\n",
      "\n",
      "Shrink model to first 184 iterations.\n",
      "0:\ttest: 0.7210734\tbest: 0.7210734 (0)\ttotal: 84.8ms\tremaining: 3m 48s\n",
      "300:\ttest: 0.7422198\tbest: 0.7422198 (300)\ttotal: 22.5s\tremaining: 2m 58s\n",
      "600:\ttest: 0.7427211\tbest: 0.7428327 (501)\ttotal: 46.9s\tremaining: 2m 43s\n"
     ]
    },
    {
     "name": "stderr",
     "output_type": "stream",
     "text": [
      "[I 2025-02-24 20:32:31,933] Trial 11 finished with value: 0.7428326972873669 and parameters: {'iterations': 2693, 'depth': 6, 'learning_rate': 0.044130390779725207, 'l2_leaf_reg': 0.36382012989417306}. Best is trial 3 with value: 0.7429689701608231.\n"
     ]
    },
    {
     "name": "stdout",
     "output_type": "stream",
     "text": [
      "Stopped by overfitting detector  (300 iterations wait)\n",
      "\n",
      "bestTest = 0.7428326973\n",
      "bestIteration = 501\n",
      "\n",
      "Shrink model to first 502 iterations.\n",
      "0:\ttest: 0.7210734\tbest: 0.7210734 (0)\ttotal: 90.2ms\tremaining: 4m 4s\n",
      "300:\ttest: 0.7418847\tbest: 0.7418847 (300)\ttotal: 22.2s\tremaining: 2m 57s\n",
      "600:\ttest: 0.7433320\tbest: 0.7433794 (569)\ttotal: 46.7s\tremaining: 2m 43s\n",
      "900:\ttest: 0.7432195\tbest: 0.7434430 (706)\ttotal: 1m 11s\tremaining: 2m 22s\n"
     ]
    },
    {
     "name": "stderr",
     "output_type": "stream",
     "text": [
      "[I 2025-02-24 20:33:52,010] Trial 12 finished with value: 0.743443010587431 and parameters: {'iterations': 2708, 'depth': 6, 'learning_rate': 0.03421727225236856, 'l2_leaf_reg': 0.007618883283589744}. Best is trial 12 with value: 0.743443010587431.\n"
     ]
    },
    {
     "name": "stdout",
     "output_type": "stream",
     "text": [
      "Stopped by overfitting detector  (300 iterations wait)\n",
      "\n",
      "bestTest = 0.7434430106\n",
      "bestIteration = 706\n",
      "\n",
      "Shrink model to first 707 iterations.\n",
      "저장 완료\n",
      "0:\ttest: 0.7074261\tbest: 0.7074261 (0)\ttotal: 80.4ms\tremaining: 3m 59s\n",
      "300:\ttest: 0.7413372\tbest: 0.7413582 (299)\ttotal: 18.7s\tremaining: 2m 46s\n",
      "600:\ttest: 0.7427628\tbest: 0.7427628 (600)\ttotal: 38.2s\tremaining: 2m 30s\n",
      "900:\ttest: 0.7432113\tbest: 0.7432285 (817)\ttotal: 1m\tremaining: 2m 20s\n",
      "1200:\ttest: 0.7430684\tbest: 0.7432823 (966)\ttotal: 1m 22s\tremaining: 2m 1s\n"
     ]
    },
    {
     "name": "stderr",
     "output_type": "stream",
     "text": [
      "[I 2025-02-24 20:35:19,234] Trial 13 finished with value: 0.7432823207345796 and parameters: {'iterations': 2975, 'depth': 5, 'learning_rate': 0.02815696526106273, 'l2_leaf_reg': 0.006400175720324391}. Best is trial 12 with value: 0.743443010587431.\n"
     ]
    },
    {
     "name": "stdout",
     "output_type": "stream",
     "text": [
      "Stopped by overfitting detector  (300 iterations wait)\n",
      "\n",
      "bestTest = 0.7432823207\n",
      "bestIteration = 966\n",
      "\n",
      "Shrink model to first 967 iterations.\n",
      "0:\ttest: 0.7210734\tbest: 0.7210734 (0)\ttotal: 104ms\tremaining: 5m 8s\n",
      "300:\ttest: 0.7413169\tbest: 0.7413169 (300)\ttotal: 27s\tremaining: 3m 59s\n",
      "600:\ttest: 0.7426633\tbest: 0.7427079 (596)\ttotal: 49.5s\tremaining: 3m 14s\n",
      "900:\ttest: 0.7429578\tbest: 0.7429578 (900)\ttotal: 1m 12s\tremaining: 2m 46s\n",
      "1200:\ttest: 0.7428506\tbest: 0.7429591 (909)\ttotal: 1m 38s\tremaining: 2m 24s\n"
     ]
    },
    {
     "name": "stderr",
     "output_type": "stream",
     "text": [
      "[I 2025-02-24 20:36:59,052] Trial 14 finished with value: 0.7429590826541239 and parameters: {'iterations': 2966, 'depth': 6, 'learning_rate': 0.028030471221709524, 'l2_leaf_reg': 0.010970147954006498}. Best is trial 12 with value: 0.743443010587431.\n"
     ]
    },
    {
     "name": "stdout",
     "output_type": "stream",
     "text": [
      "Stopped by overfitting detector  (300 iterations wait)\n",
      "\n",
      "bestTest = 0.7429590827\n",
      "bestIteration = 909\n",
      "\n",
      "Shrink model to first 910 iterations.\n",
      "0:\ttest: 0.7232014\tbest: 0.7232014 (0)\ttotal: 194ms\tremaining: 9m 2s\n",
      "300:\ttest: 0.7417564\tbest: 0.7417564 (300)\ttotal: 33s\tremaining: 4m 33s\n",
      "600:\ttest: 0.7424210\tbest: 0.7424436 (585)\ttotal: 1m\tremaining: 3m 39s\n",
      "900:\ttest: 0.7424132\tbest: 0.7425958 (687)\ttotal: 1m 32s\tremaining: 3m 14s\n"
     ]
    },
    {
     "name": "stderr",
     "output_type": "stream",
     "text": [
      "[I 2025-02-24 20:38:41,030] Trial 15 finished with value: 0.7425958100987515 and parameters: {'iterations': 2792, 'depth': 8, 'learning_rate': 0.022981905531461483, 'l2_leaf_reg': 0.007306874114656382}. Best is trial 12 with value: 0.743443010587431.\n"
     ]
    },
    {
     "name": "stdout",
     "output_type": "stream",
     "text": [
      "Stopped by overfitting detector  (300 iterations wait)\n",
      "\n",
      "bestTest = 0.7425958101\n",
      "bestIteration = 687\n",
      "\n",
      "Shrink model to first 688 iterations.\n",
      "0:\ttest: 0.7074261\tbest: 0.7074261 (0)\ttotal: 86.6ms\tremaining: 3m 35s\n",
      "300:\ttest: 0.7424482\tbest: 0.7424663 (298)\ttotal: 19.1s\tremaining: 2m 18s\n",
      "600:\ttest: 0.7429388\tbest: 0.7430522 (486)\ttotal: 40.2s\tremaining: 2m 6s\n"
     ]
    },
    {
     "name": "stderr",
     "output_type": "stream",
     "text": [
      "[I 2025-02-24 20:39:34,368] Trial 16 finished with value: 0.7430521522854563 and parameters: {'iterations': 2494, 'depth': 5, 'learning_rate': 0.061662991475729484, 'l2_leaf_reg': 0.06359318338456703}. Best is trial 12 with value: 0.743443010587431.\n"
     ]
    },
    {
     "name": "stdout",
     "output_type": "stream",
     "text": [
      "Stopped by overfitting detector  (300 iterations wait)\n",
      "\n",
      "bestTest = 0.7430521523\n",
      "bestIteration = 486\n",
      "\n",
      "Shrink model to first 487 iterations.\n",
      "0:\ttest: 0.7074261\tbest: 0.7074261 (0)\ttotal: 86.4ms\tremaining: 4m 3s\n",
      "300:\ttest: 0.7404281\tbest: 0.7404281 (300)\ttotal: 18.6s\tremaining: 2m 35s\n",
      "600:\ttest: 0.7421496\tbest: 0.7421595 (597)\ttotal: 38.4s\tremaining: 2m 21s\n",
      "900:\ttest: 0.7429073\tbest: 0.7429094 (899)\ttotal: 58.9s\tremaining: 2m 5s\n",
      "1200:\ttest: 0.7431328\tbest: 0.7431622 (1192)\ttotal: 1m 19s\tremaining: 1m 47s\n",
      "1500:\ttest: 0.7431680\tbest: 0.7432063 (1406)\ttotal: 1m 40s\tremaining: 1m 27s\n"
     ]
    },
    {
     "name": "stderr",
     "output_type": "stream",
     "text": [
      "[I 2025-02-24 20:41:29,036] Trial 17 finished with value: 0.7432062703216059 and parameters: {'iterations': 2816, 'depth': 5, 'learning_rate': 0.02232146636847197, 'l2_leaf_reg': 0.0034715726754499373}. Best is trial 12 with value: 0.743443010587431.\n"
     ]
    },
    {
     "name": "stdout",
     "output_type": "stream",
     "text": [
      "Stopped by overfitting detector  (300 iterations wait)\n",
      "\n",
      "bestTest = 0.7432062703\n",
      "bestIteration = 1406\n",
      "\n",
      "Shrink model to first 1407 iterations.\n",
      "0:\ttest: 0.7226396\tbest: 0.7226396 (0)\ttotal: 95.1ms\tremaining: 4m 44s\n",
      "300:\ttest: 0.7420495\tbest: 0.7424578 (269)\ttotal: 27.7s\tremaining: 4m 8s\n"
     ]
    },
    {
     "name": "stderr",
     "output_type": "stream",
     "text": [
      "[I 2025-02-24 20:42:22,970] Trial 18 finished with value: 0.7424577542973805 and parameters: {'iterations': 2996, 'depth': 7, 'learning_rate': 0.05970016430294879, 'l2_leaf_reg': 0.026916307751863613}. Best is trial 12 with value: 0.743443010587431.\n"
     ]
    },
    {
     "name": "stdout",
     "output_type": "stream",
     "text": [
      "Stopped by overfitting detector  (300 iterations wait)\n",
      "\n",
      "bestTest = 0.7424577543\n",
      "bestIteration = 269\n",
      "\n",
      "Shrink model to first 270 iterations.\n",
      "0:\ttest: 0.7232005\tbest: 0.7232005 (0)\ttotal: 127ms\tremaining: 5m 51s\n",
      "300:\ttest: 0.7418561\tbest: 0.7418783 (298)\ttotal: 29.2s\tremaining: 3m 59s\n",
      "600:\ttest: 0.7426005\tbest: 0.7426702 (535)\ttotal: 1m 1s\tremaining: 3m 40s\n"
     ]
    },
    {
     "name": "stderr",
     "output_type": "stream",
     "text": [
      "[I 2025-02-24 20:43:49,924] Trial 19 finished with value: 0.7426702046521696 and parameters: {'iterations': 2767, 'depth': 8, 'learning_rate': 0.032760769261710856, 'l2_leaf_reg': 2.276175005448344}. Best is trial 12 with value: 0.743443010587431.\n",
      "[I 2025-02-24 20:43:49,930] A new study created in memory with name: no-name-9cc68d1d-3e82-49fa-854e-0cfdd15f1700\n"
     ]
    },
    {
     "name": "stdout",
     "output_type": "stream",
     "text": [
      "Stopped by overfitting detector  (300 iterations wait)\n",
      "\n",
      "bestTest = 0.7426702047\n",
      "bestIteration = 535\n",
      "\n",
      "Shrink model to first 536 iterations.\n"
     ]
    },
    {
     "name": "stderr",
     "output_type": "stream",
     "text": [
      "[I 2025-02-24 20:44:14,214] Trial 0 finished with value: 0.7322204800267759 and parameters: {'num_iterations': 2366, 'objective': 'binary', 'metric': 'auc', 'verbose': -1, 'learning_rate': 0.0652646236447618, 'n_estimators': 236, 'min_child_samples': 45, 'subsample': 0.7, 'colsample_bytree': 0.5}. Best is trial 0 with value: 0.7322204800267759.\n",
      "[I 2025-02-24 20:44:31,975] Trial 1 finished with value: 0.743105024635537 and parameters: {'num_iterations': 1510, 'objective': 'binary', 'metric': 'auc', 'verbose': -1, 'learning_rate': 0.005231880959249543, 'n_estimators': 1411, 'min_child_samples': 10, 'subsample': 1.0, 'colsample_bytree': 0.5}. Best is trial 1 with value: 0.743105024635537.\n",
      "[I 2025-02-24 20:44:52,032] Trial 2 finished with value: 0.7424958073000709 and parameters: {'num_iterations': 2334, 'objective': 'binary', 'metric': 'auc', 'verbose': -1, 'learning_rate': 0.006578527777128852, 'n_estimators': 931, 'min_child_samples': 15, 'subsample': 0.5, 'colsample_bytree': 1.0}. Best is trial 1 with value: 0.743105024635537.\n",
      "[I 2025-02-24 20:45:09,379] Trial 3 finished with value: 0.7431123707750525 and parameters: {'num_iterations': 1620, 'objective': 'binary', 'metric': 'auc', 'verbose': -1, 'learning_rate': 0.0058823249237283685, 'n_estimators': 837, 'min_child_samples': 10, 'subsample': 0.9, 'colsample_bytree': 0.6}. Best is trial 3 with value: 0.7431123707750525.\n",
      "[I 2025-02-24 20:45:26,185] Trial 4 finished with value: 0.7425174208337915 and parameters: {'num_iterations': 1997, 'objective': 'binary', 'metric': 'auc', 'verbose': -1, 'learning_rate': 0.010907507425244923, 'n_estimators': 1597, 'min_child_samples': 50, 'subsample': 0.6, 'colsample_bytree': 0.8}. Best is trial 3 with value: 0.7431123707750525.\n",
      "[I 2025-02-24 20:45:49,320] Trial 5 finished with value: 0.7390793282683673 and parameters: {'num_iterations': 2909, 'objective': 'binary', 'metric': 'auc', 'verbose': -1, 'learning_rate': 0.019760591962733942, 'n_estimators': 612, 'min_child_samples': 30, 'subsample': 0.7, 'colsample_bytree': 0.9}. Best is trial 3 with value: 0.7431123707750525.\n",
      "[I 2025-02-24 20:46:10,376] Trial 6 finished with value: 0.7407310898694465 and parameters: {'num_iterations': 2639, 'objective': 'binary', 'metric': 'auc', 'verbose': -1, 'learning_rate': 0.017862094446750985, 'n_estimators': 794, 'min_child_samples': 35, 'subsample': 1.0, 'colsample_bytree': 0.8}. Best is trial 3 with value: 0.7431123707750525.\n",
      "[I 2025-02-24 20:46:27,447] Trial 7 finished with value: 0.7422156017136312 and parameters: {'num_iterations': 1580, 'objective': 'binary', 'metric': 'auc', 'verbose': -1, 'learning_rate': 0.01776722177611332, 'n_estimators': 529, 'min_child_samples': 25, 'subsample': 0.8, 'colsample_bytree': 0.5}. Best is trial 3 with value: 0.7431123707750525.\n",
      "[I 2025-02-24 20:46:45,599] Trial 8 finished with value: 0.7395626724813995 and parameters: {'num_iterations': 1911, 'objective': 'binary', 'metric': 'auc', 'verbose': -1, 'learning_rate': 0.0304747553332844, 'n_estimators': 1328, 'min_child_samples': 10, 'subsample': 0.7, 'colsample_bytree': 0.6}. Best is trial 3 with value: 0.7431123707750525.\n",
      "[I 2025-02-24 20:47:13,835] Trial 9 finished with value: 0.7386013328390798 and parameters: {'num_iterations': 2739, 'objective': 'binary', 'metric': 'auc', 'verbose': -1, 'learning_rate': 0.02691531614176271, 'n_estimators': 1438, 'min_child_samples': 20, 'subsample': 0.6, 'colsample_bytree': 0.5}. Best is trial 3 with value: 0.7431123707750525.\n",
      "[I 2025-02-24 20:47:28,445] Trial 10 finished with value: 0.7304450729704348 and parameters: {'num_iterations': 1883, 'objective': 'binary', 'metric': 'auc', 'verbose': -1, 'learning_rate': 0.08223556891145911, 'n_estimators': 1917, 'min_child_samples': 40, 'subsample': 0.9, 'colsample_bytree': 0.7}. Best is trial 3 with value: 0.7431123707750525.\n",
      "[I 2025-02-24 20:47:44,424] Trial 11 finished with value: 0.7429615525453556 and parameters: {'num_iterations': 1513, 'objective': 'binary', 'metric': 'auc', 'verbose': -1, 'learning_rate': 0.005340229419903739, 'n_estimators': 1206, 'min_child_samples': 10, 'subsample': 1.0, 'colsample_bytree': 0.6}. Best is trial 3 with value: 0.7431123707750525.\n",
      "[I 2025-02-24 20:48:01,623] Trial 12 finished with value: 0.7430070628723758 and parameters: {'num_iterations': 1698, 'objective': 'binary', 'metric': 'auc', 'verbose': -1, 'learning_rate': 0.008515343845233947, 'n_estimators': 1719, 'min_child_samples': 20, 'subsample': 0.9, 'colsample_bytree': 0.6}. Best is trial 3 with value: 0.7431123707750525.\n",
      "[I 2025-02-24 20:48:16,690] Trial 13 finished with value: 0.742763627692376 and parameters: {'num_iterations': 1740, 'objective': 'binary', 'metric': 'auc', 'verbose': -1, 'learning_rate': 0.010074542479113706, 'n_estimators': 1082, 'min_child_samples': 10, 'subsample': 0.9, 'colsample_bytree': 0.7}. Best is trial 3 with value: 0.7431123707750525.\n",
      "[I 2025-02-24 20:48:38,698] Trial 14 finished with value: 0.7431541802361115 and parameters: {'num_iterations': 2165, 'objective': 'binary', 'metric': 'auc', 'verbose': -1, 'learning_rate': 0.005262187136940254, 'n_estimators': 251, 'min_child_samples': 20, 'subsample': 1.0, 'colsample_bytree': 0.6}. Best is trial 14 with value: 0.7431541802361115.\n",
      "[I 2025-02-24 20:48:56,914] Trial 15 finished with value: 0.7421866420403951 and parameters: {'num_iterations': 2153, 'objective': 'binary', 'metric': 'auc', 'verbose': -1, 'learning_rate': 0.012915147920823086, 'n_estimators': 188, 'min_child_samples': 20, 'subsample': 0.8, 'colsample_bytree': 0.7}. Best is trial 14 with value: 0.7431541802361115.\n",
      "[I 2025-02-24 20:49:19,702] Trial 16 finished with value: 0.7362896655398774 and parameters: {'num_iterations': 2503, 'objective': 'binary', 'metric': 'auc', 'verbose': -1, 'learning_rate': 0.03901437770924474, 'n_estimators': 444, 'min_child_samples': 25, 'subsample': 0.9, 'colsample_bytree': 0.6}. Best is trial 14 with value: 0.7431541802361115.\n",
      "[I 2025-02-24 20:49:40,652] Trial 17 finished with value: 0.7428650401556663 and parameters: {'num_iterations': 2103, 'objective': 'binary', 'metric': 'auc', 'verbose': -1, 'learning_rate': 0.007238111112271453, 'n_estimators': 116, 'min_child_samples': 15, 'subsample': 1.0, 'colsample_bytree': 0.6}. Best is trial 14 with value: 0.7431541802361115.\n",
      "[I 2025-02-24 20:49:55,530] Trial 18 finished with value: 0.7423551505682227 and parameters: {'num_iterations': 1753, 'objective': 'binary', 'metric': 'auc', 'verbose': -1, 'learning_rate': 0.013508700117868075, 'n_estimators': 756, 'min_child_samples': 30, 'subsample': 0.8, 'colsample_bytree': 0.7}. Best is trial 14 with value: 0.7431541802361115.\n",
      "[I 2025-02-24 20:50:12,628] Trial 19 finished with value: 0.7350527980150906 and parameters: {'num_iterations': 2202, 'objective': 'binary', 'metric': 'auc', 'verbose': -1, 'learning_rate': 0.04570242881302624, 'n_estimators': 414, 'min_child_samples': 15, 'subsample': 0.9, 'colsample_bytree': 0.8}. Best is trial 14 with value: 0.7431541802361115.\n",
      "[I 2025-02-24 20:50:29,692] Trial 20 finished with value: 0.7425053493396686 and parameters: {'num_iterations': 1973, 'objective': 'binary', 'metric': 'auc', 'verbose': -1, 'learning_rate': 0.00688976659636273, 'n_estimators': 946, 'min_child_samples': 25, 'subsample': 1.0, 'colsample_bytree': 0.9}. Best is trial 14 with value: 0.7431541802361115.\n",
      "[I 2025-02-24 20:50:48,380] Trial 21 finished with value: 0.743137431038016 and parameters: {'num_iterations': 1623, 'objective': 'binary', 'metric': 'auc', 'verbose': -1, 'learning_rate': 0.0053196069822991025, 'n_estimators': 1452, 'min_child_samples': 10, 'subsample': 1.0, 'colsample_bytree': 0.5}. Best is trial 14 with value: 0.7431541802361115.\n",
      "[I 2025-02-24 20:51:07,286] Trial 22 finished with value: 0.7431279922414601 and parameters: {'num_iterations': 1639, 'objective': 'binary', 'metric': 'auc', 'verbose': -1, 'learning_rate': 0.005003696675578548, 'n_estimators': 1632, 'min_child_samples': 15, 'subsample': 1.0, 'colsample_bytree': 0.5}. Best is trial 14 with value: 0.7431541802361115.\n",
      "[I 2025-02-24 20:51:28,069] Trial 23 finished with value: 0.7430288709795214 and parameters: {'num_iterations': 1835, 'objective': 'binary', 'metric': 'auc', 'verbose': -1, 'learning_rate': 0.008160886063258708, 'n_estimators': 1879, 'min_child_samples': 15, 'subsample': 1.0, 'colsample_bytree': 0.5}. Best is trial 14 with value: 0.7431541802361115.\n",
      "[I 2025-02-24 20:51:51,542] Trial 24 finished with value: 0.7432083113571253 and parameters: {'num_iterations': 2039, 'objective': 'binary', 'metric': 'auc', 'verbose': -1, 'learning_rate': 0.0050360373923571955, 'n_estimators': 1619, 'min_child_samples': 20, 'subsample': 1.0, 'colsample_bytree': 0.5}. Best is trial 24 with value: 0.7432083113571253.\n",
      "[I 2025-02-24 20:52:14,171] Trial 25 finished with value: 0.7430172084866797 and parameters: {'num_iterations': 2064, 'objective': 'binary', 'metric': 'auc', 'verbose': -1, 'learning_rate': 0.008883021712741569, 'n_estimators': 1192, 'min_child_samples': 20, 'subsample': 1.0, 'colsample_bytree': 0.5}. Best is trial 24 with value: 0.7432083113571253.\n",
      "[I 2025-02-24 20:52:37,345] Trial 26 finished with value: 0.7430346724442956 and parameters: {'num_iterations': 2309, 'objective': 'binary', 'metric': 'auc', 'verbose': -1, 'learning_rate': 0.006560862459482555, 'n_estimators': 1561, 'min_child_samples': 35, 'subsample': 0.9, 'colsample_bytree': 0.6}. Best is trial 24 with value: 0.7432083113571253.\n",
      "[I 2025-02-24 20:53:03,736] Trial 27 finished with value: 0.7420501190011067 and parameters: {'num_iterations': 2416, 'objective': 'binary', 'metric': 'auc', 'verbose': -1, 'learning_rate': 0.012513480470861314, 'n_estimators': 1736, 'min_child_samples': 25, 'subsample': 1.0, 'colsample_bytree': 0.5}. Best is trial 24 with value: 0.7432083113571253.\n",
      "[I 2025-02-24 20:53:28,273] Trial 28 finished with value: 0.742494254683557 and parameters: {'num_iterations': 2525, 'objective': 'binary', 'metric': 'auc', 'verbose': -1, 'learning_rate': 0.009648233210868976, 'n_estimators': 1234, 'min_child_samples': 20, 'subsample': 0.8, 'colsample_bytree': 0.6}. Best is trial 24 with value: 0.7432083113571253.\n",
      "[I 2025-02-24 20:53:51,188] Trial 29 finished with value: 0.7344219234661554 and parameters: {'num_iterations': 2234, 'objective': 'binary', 'metric': 'auc', 'verbose': -1, 'learning_rate': 0.05870585508068352, 'n_estimators': 315, 'min_child_samples': 35, 'subsample': 0.9, 'colsample_bytree': 0.5}. Best is trial 24 with value: 0.7432083113571253.\n",
      "[I 2025-02-24 20:54:13,893] Trial 30 finished with value: 0.7430467955599392 and parameters: {'num_iterations': 2026, 'objective': 'binary', 'metric': 'auc', 'verbose': -1, 'learning_rate': 0.007347859064475437, 'n_estimators': 1435, 'min_child_samples': 15, 'subsample': 0.5, 'colsample_bytree': 0.5}. Best is trial 24 with value: 0.7432083113571253.\n",
      "[I 2025-02-24 20:54:34,620] Trial 31 finished with value: 0.7431648897162592 and parameters: {'num_iterations': 1804, 'objective': 'binary', 'metric': 'auc', 'verbose': -1, 'learning_rate': 0.005046004984439856, 'n_estimators': 1613, 'min_child_samples': 15, 'subsample': 1.0, 'colsample_bytree': 0.5}. Best is trial 24 with value: 0.7432083113571253.\n",
      "[I 2025-02-24 20:54:55,334] Trial 32 finished with value: 0.7432180241448307 and parameters: {'num_iterations': 1800, 'objective': 'binary', 'metric': 'auc', 'verbose': -1, 'learning_rate': 0.005763838969288958, 'n_estimators': 1811, 'min_child_samples': 10, 'subsample': 1.0, 'colsample_bytree': 0.5}. Best is trial 32 with value: 0.7432180241448307.\n",
      "[I 2025-02-24 20:55:15,702] Trial 33 finished with value: 0.7432350671885067 and parameters: {'num_iterations': 1809, 'objective': 'binary', 'metric': 'auc', 'verbose': -1, 'learning_rate': 0.006198134883103469, 'n_estimators': 1974, 'min_child_samples': 20, 'subsample': 1.0, 'colsample_bytree': 0.5}. Best is trial 33 with value: 0.7432350671885067.\n",
      "[I 2025-02-24 20:55:36,125] Trial 34 finished with value: 0.7431999883795986 and parameters: {'num_iterations': 1814, 'objective': 'binary', 'metric': 'auc', 'verbose': -1, 'learning_rate': 0.006346764571902411, 'n_estimators': 1966, 'min_child_samples': 15, 'subsample': 1.0, 'colsample_bytree': 0.5}. Best is trial 33 with value: 0.7432350671885067.\n",
      "[I 2025-02-24 20:55:57,816] Trial 35 finished with value: 0.7432786794319117 and parameters: {'num_iterations': 1929, 'objective': 'binary', 'metric': 'auc', 'verbose': -1, 'learning_rate': 0.006733839523584134, 'n_estimators': 1951, 'min_child_samples': 10, 'subsample': 0.9, 'colsample_bytree': 0.5}. Best is trial 35 with value: 0.7432786794319117.\n",
      "[I 2025-02-24 20:56:19,216] Trial 36 finished with value: 0.7430234348362799 and parameters: {'num_iterations': 1919, 'objective': 'binary', 'metric': 'auc', 'verbose': -1, 'learning_rate': 0.007811451613156402, 'n_estimators': 1805, 'min_child_samples': 10, 'subsample': 0.9, 'colsample_bytree': 0.5}. Best is trial 35 with value: 0.7432786794319117.\n",
      "[I 2025-02-24 20:56:35,752] Trial 37 finished with value: 0.7415827417215838 and parameters: {'num_iterations': 1977, 'objective': 'binary', 'metric': 'auc', 'verbose': -1, 'learning_rate': 0.011229193692100336, 'n_estimators': 1851, 'min_child_samples': 10, 'subsample': 0.9, 'colsample_bytree': 1.0}. Best is trial 35 with value: 0.7432786794319117.\n",
      "[I 2025-02-24 20:56:52,595] Trial 38 finished with value: 0.7417997149157828 and parameters: {'num_iterations': 2078, 'objective': 'binary', 'metric': 'auc', 'verbose': -1, 'learning_rate': 0.0151297690842805, 'n_estimators': 1990, 'min_child_samples': 45, 'subsample': 0.6, 'colsample_bytree': 0.9}. Best is trial 35 with value: 0.7432786794319117.\n",
      "[I 2025-02-24 20:57:10,032] Trial 39 finished with value: 0.7431563761361937 and parameters: {'num_iterations': 1681, 'objective': 'binary', 'metric': 'auc', 'verbose': -1, 'learning_rate': 0.005997153816220137, 'n_estimators': 1749, 'min_child_samples': 25, 'subsample': 0.8, 'colsample_bytree': 0.6}. Best is trial 35 with value: 0.7432786794319117.\n"
     ]
    },
    {
     "name": "stdout",
     "output_type": "stream",
     "text": [
      "Cat val score : 0.743443010587431\n",
      "LGBM val score : 0.7432606754337694\n",
      "Ensemble val score : 0.7436846946066058\n"
     ]
    }
   ],
   "source": [
    "for col in X.columns:\n",
    "    if X[col].dtype == 'object':  # 문자형이면 category로 변환\n",
    "        X[col] = X[col].astype('category')\n",
    "        test[col] = test[col].astype('category')\n",
    "seed = 4972\n",
    "\n",
    "test_pred_total = []\n",
    "scores_total = []\n",
    "seed_everything(seed)\n",
    "print('Seed {} Start!'.format(seed))\n",
    "cv = StratifiedKFold(n_splits = 10, random_state = seed, shuffle=True)\n",
    "\n",
    "cat_param_list = []\n",
    "lgbm_param_list = []\n",
    "for idx, (train_idx, val_idx) in enumerate(cv.split(X, y)):\n",
    "    print('='*50)\n",
    "    X_train, X_val = X.iloc[train_idx],X.iloc[val_idx]\n",
    "    y_train, y_val = y.iloc[train_idx], y.iloc[val_idx]\n",
    "    \n",
    "    best_val_auc = 0\n",
    "\n",
    "    sampler = TPESampler(seed=seed)\n",
    "    optuna_cat = optuna.create_study(direction='maximize', sampler=sampler)\n",
    "    optuna_cat.optimize(objective_cat, n_trials = 20)\n",
    "    cat_trial = optuna_cat.best_trial\n",
    "    cat_trial_params = cat_trial.params\n",
    "    cat_param_list.append(cat_trial_params)\n",
    "    \n",
    "    model = CatBoostClassifier(**cat_trial_params, auto_class_weights='Balanced', eval_metric='AUC', random_state=seed)\n",
    "    model.load_model(\"./weight/cat_fold_cpu{}.cbm\".format(idx))\n",
    "    #model = CatBoostClassifier(auto_class_weights='Balanced', eval_metric='AUC', random_state=seed, task_type=\"CPU\" )\n",
    "    #model.fit(X_train,y_train,cat_features=categorical_columns,early_stopping_rounds = 300,eval_set=[(X_val,y_val)], verbose = 300)\n",
    "    \n",
    "    # model_cpu = CatBoostClassifier(auto_class_weights='Balanced',eval_metric='AUC', random_state = 501, task_type=\"cpu\" )\n",
    "    # model_cpu.fit(X_train,y_train,cat_features=categorical_columns, early_stopping_rounds = 300,eval_set=[(X_val,y_val)], verbose = 300)\n",
    "    # model_cpu.save_model(\"cat_fold_{}.cbm\".format(idx))\n",
    "\n",
    "\n",
    "    sampler = TPESampler(seed=seed)\n",
    "    optuna_lgbm = optuna.create_study(direction='maximize', sampler=sampler)\n",
    "    optuna_lgbm.optimize(objective_lgbm, n_trials = 40)\n",
    "    lgbm_trial = optuna_lgbm.best_trial\n",
    "    lgbm_trial_params = lgbm_trial.params\n",
    "    lgbm_param_list.append(lgbm_trial_params)\n",
    "    \n",
    "    # lgbm_trial_params =loaded_lgbm_params[idx]\n",
    "    #print(lgbm_trial_params)\n",
    "\n",
    "    class_weights = compute_class_weight(class_weight=\"balanced\", classes=np.unique(y), y=y_train)\n",
    "    class_weight_dict = {i: w for i, w in enumerate(class_weights)}\n",
    "    model_lgbm = lgb.LGBMClassifier(**lgbm_trial_params,class_weight=class_weight_dict)\n",
    "    # model_lgbm = lgb.LGBMClassifier(class_weight=class_weight_dict)\n",
    "    #model_lgbm= lgb.LGBMClassifier(objective = 'binary', metric = 'auc', random_state =  seed, class_weight=class_weight_dict)\n",
    "    model_lgbm.fit(X_train, y_train, eval_set=[(X_val, y_val)],categorical_feature=categorical_columns)\n",
    "\n",
    "    val_pred = model.predict_proba(X_val)[:, 1]\n",
    "    val_pred_lgbm = model_lgbm.predict_proba(X_val)[:, 1]\n",
    "    print('Cat val score : {}'.format(roc_auc_score(y_val,val_pred)))\n",
    "    print('LGBM val score : {}'.format(roc_auc_score(y_val,val_pred_lgbm)))\n",
    "\n",
    "    roc_val = roc_auc_score(y_val, (2*val_pred+val_pred_lgbm)/3)\n",
    "    scores_total.append(roc_val)\n",
    "    print('Ensemble val score : {}'.format(roc_val))\n",
    "\n",
    "    test_pred = model.predict_proba(test)[:, 1]\n",
    "    test_pred_lgbm = model_lgbm.predict_proba(test)[:, 1]\n",
    "    test_pred_total.append((2*test_pred+test_pred_lgbm)/3)"
   ]
  },
  {
   "cell_type": "code",
   "execution_count": 55,
   "metadata": {
    "colab": {
     "base_uri": "https://localhost:8080/"
    },
    "id": "LDLeh9IJD9pt",
    "outputId": "0534775f-2085-448a-d2aa-690a9e4e4ff4"
   },
   "outputs": [
    {
     "data": {
      "text/plain": [
       "(0.7410199676342762,\n",
       " [0.7419945525641805,\n",
       "  0.735631590224959,\n",
       "  0.7434589136368457,\n",
       "  0.7417994051866572,\n",
       "  0.7446280580469866,\n",
       "  0.7392259294168937,\n",
       "  0.7392345025602527,\n",
       "  0.7383502060524629,\n",
       "  0.7421918240469183,\n",
       "  0.7436846946066058])"
      ]
     },
     "execution_count": 55,
     "metadata": {},
     "output_type": "execute_result"
    }
   ],
   "source": [
    "np.mean(scores_total), scores_total"
   ]
  },
  {
   "cell_type": "code",
   "execution_count": 56,
   "metadata": {},
   "outputs": [],
   "source": [
    "test_pred_total_mean = np.mean(test_pred_total, axis=(0))"
   ]
  },
  {
   "cell_type": "code",
   "execution_count": 57,
   "metadata": {},
   "outputs": [
    {
     "data": {
      "text/plain": [
       "array([0.00521218, 0.00348215, 0.32546114, ..., 0.65273736, 0.37690247,\n",
       "       0.00613743])"
      ]
     },
     "execution_count": 57,
     "metadata": {},
     "output_type": "execute_result"
    }
   ],
   "source": [
    "test_pred_total_mean"
   ]
  },
  {
   "cell_type": "code",
   "execution_count": 58,
   "metadata": {
    "colab": {
     "base_uri": "https://localhost:8080/"
    },
    "id": "E8D6DZP0pIm3",
    "outputId": "946ae60d-f2f2-405e-e757-ab31fe0d2375"
   },
   "outputs": [
    {
     "data": {
      "text/plain": [
       "(0.7410199676342762,\n",
       " [0.7419945525641805,\n",
       "  0.735631590224959,\n",
       "  0.7434589136368457,\n",
       "  0.7417994051866572,\n",
       "  0.7446280580469866,\n",
       "  0.7392259294168937,\n",
       "  0.7392345025602527,\n",
       "  0.7383502060524629,\n",
       "  0.7421918240469183,\n",
       "  0.7436846946066058])"
      ]
     },
     "execution_count": 58,
     "metadata": {},
     "output_type": "execute_result"
    }
   ],
   "source": [
    "np.mean(scores_total), scores_total # 불임 원인 인코딩 + make feature 사용\n"
   ]
  },
  {
   "cell_type": "code",
   "execution_count": 59,
   "metadata": {},
   "outputs": [],
   "source": [
    "import json\n",
    "with open(\"lgbm_params.json\", \"w\") as f:\n",
    "    json.dump(lgbm_param_list, f) \n",
    "\n",
    "with open(\"lgbm_params.json\", \"r\") as f:\n",
    "    loaded_lgbm_params =  json.load(f)"
   ]
  },
  {
   "cell_type": "markdown",
   "metadata": {},
   "source": [
    "#### 재현성 확인"
   ]
  },
  {
   "cell_type": "code",
   "execution_count": 60,
   "metadata": {
    "scrolled": true,
    "tags": []
   },
   "outputs": [
    {
     "name": "stdout",
     "output_type": "stream",
     "text": [
      "Seed 4972 Start!\n",
      "==================================================\n",
      "Cat cpu val score : 0.7416621592198902\n",
      "LGBM val score : 0.7412960945314726\n",
      "Ensemble val score : 0.7419945525641805\n",
      "==================================================\n",
      "==================================================\n",
      "Cat cpu val score : 0.7433378849992207\n",
      "LGBM val score : 0.7428804455162797\n",
      "Ensemble val score : 0.7434589136368457\n",
      "==================================================\n",
      "Cat cpu val score : 0.7418794383985143\n",
      "LGBM val score : 0.7406741433900994\n",
      "Ensemble val score : 0.7417994051866572\n",
      "==================================================\n",
      "Cat cpu val score : 0.7444026268651293\n",
      "LGBM val score : 0.7441581274876212\n",
      "Ensemble val score : 0.7446280580469866\n",
      "==================================================\n",
      "Cat cpu val score : 0.7392139333696093\n",
      "LGBM val score : 0.7385130759218516\n",
      "Ensemble val score : 0.7392259294168937\n",
      "==================================================\n",
      "Cat cpu val score : 0.7390313242247981\n",
      "LGBM val score : 0.7386336240858584\n",
      "Ensemble val score : 0.7392345025602527\n",
      "==================================================\n",
      "Cat cpu val score : 0.7383741902052596\n",
      "LGBM val score : 0.7374206255581676\n",
      "Ensemble val score : 0.7383502060524629\n",
      "==================================================\n",
      "Cat cpu val score : 0.7419759468173173\n",
      "LGBM val score : 0.7417399451363299\n",
      "Ensemble val score : 0.7421918240469183\n",
      "==================================================\n",
      "Cat cpu val score : 0.743443010587431\n",
      "LGBM val score : 0.7432606754337694\n",
      "Ensemble val score : 0.7436846946066058\n"
     ]
    }
   ],
   "source": [
    "for col in X.columns:\n",
    "    if X[col].dtype == 'object':  # 문자형이면 category로 변환\n",
    "        X[col] = X[col].astype('category')\n",
    "        test[col] = test[col].astype('category')\n",
    "seed = 4972\n",
    "\n",
    "test_pred_total = []\n",
    "scores_total = []\n",
    "seed_everything(seed)\n",
    "print('Seed {} Start!'.format(seed))\n",
    "cv = StratifiedKFold(n_splits = 10, random_state = seed, shuffle=True)\n",
    "\n",
    "cat_param_list = []\n",
    "lgbm_param_list = []\n",
    "for idx, (train_idx, val_idx) in enumerate(cv.split(X, y)):\n",
    "    print('='*50)\n",
    "    X_train, X_val = X.iloc[train_idx],X.iloc[val_idx]\n",
    "    y_train, y_val = y.iloc[train_idx], y.iloc[val_idx]\n",
    "    if idx == 1:\n",
    "        continue\n",
    "    # cat_trial_params = loaded_cat_params[idx]\n",
    "    # model = CatBoostClassifier(**cat_trial_params ,auto_class_weights='Balanced', eval_metric='AUC', random_state=seed, task_type=\"CPU\")\n",
    "    # model.fit(X_train,y_train,cat_features=categorical_columns, early_stopping_rounds = 300, eval_set=[(X_val,y_val)], verbose = 300)\n",
    "    \n",
    "    model_cpu = CatBoostClassifier()\n",
    "    model_cpu.load_model(\"./weight/cat_fold_cpu{}.cbm\".format(idx))\n",
    "\n",
    "    lgbm_trial_params = loaded_lgbm_params[idx]\n",
    "    class_weights = compute_class_weight(class_weight=\"balanced\", classes=np.unique(y), y=y_train)\n",
    "    class_weight_dict = {i: w for i, w in enumerate(class_weights)}\n",
    "\n",
    "    model_lgbm = lgb.LGBMClassifier(**lgbm_trial_params,class_weight=class_weight_dict)\n",
    "    model_lgbm.fit(X_train, y_train, eval_set=[(X_val, y_val)],categorical_feature=categorical_columns)\n",
    "\n",
    "    # val_pred = model.predict_proba(X_val)[:, 1]\n",
    "    val_pred_cpu = model_cpu.predict_proba(X_val)[:, 1]\n",
    "    val_pred_lgbm = model_lgbm.predict_proba(X_val)[:, 1]\n",
    "    # print('Cat val score : {}'.format(roc_auc_score(y_val,val_pred)))\n",
    "    print('Cat cpu val score : {}'.format(roc_auc_score(y_val,val_pred_cpu)))\n",
    "    print('LGBM val score : {}'.format(roc_auc_score(y_val,val_pred_lgbm)))\n",
    "\n",
    "    roc_val = roc_auc_score(y_val, (val_pred_cpu*2 + val_pred_lgbm)/3)\n",
    "    scores_total.append(roc_val)\n",
    "    print('Ensemble val score : {}'.format(roc_val))\n",
    "\n",
    "    # test_pred = model.predict_proba(test)[:, 1]\n",
    "    test_pred_cpu = model_cpu.predict_proba(test)[:, 1]\n",
    "    test_pred_lgbm = model_lgbm.predict_proba(test)[:, 1]\n",
    "    test_pred_total.append((test_pred_cpu*2+test_pred_lgbm)/3)\n",
    "    # test_pred_total.append((test_pred_cpu))"
   ]
  },
  {
   "cell_type": "code",
   "execution_count": 61,
   "metadata": {},
   "outputs": [
    {
     "data": {
      "text/plain": [
       "(0.7416186762353116,\n",
       " [0.7419945525641805,\n",
       "  0.7434589136368457,\n",
       "  0.7417994051866572,\n",
       "  0.7446280580469866,\n",
       "  0.7392259294168937,\n",
       "  0.7392345025602527,\n",
       "  0.7383502060524629,\n",
       "  0.7421918240469183,\n",
       "  0.7436846946066058])"
      ]
     },
     "execution_count": 61,
     "metadata": {},
     "output_type": "execute_result"
    }
   ],
   "source": [
    "np.mean(scores_total), scores_total"
   ]
  },
  {
   "cell_type": "code",
   "execution_count": 62,
   "metadata": {
    "id": "zdqhyNyumAyx"
   },
   "outputs": [],
   "source": [
    "test_pred_total_mean = np.mean(test_pred_total, axis=(0))"
   ]
  },
  {
   "cell_type": "code",
   "execution_count": 63,
   "metadata": {
    "colab": {
     "base_uri": "https://localhost:8080/",
     "height": 540
    },
    "id": "HHVwzBg8NEZK",
    "outputId": "7c5d38e1-affe-45e7-b863-372c9a868b84"
   },
   "outputs": [
    {
     "data": {
      "text/plain": [
       "(array([13579.,  2386.,  3248.,  6055.,  9235., 13125., 16847., 15248.,\n",
       "         9732.,   612.]),\n",
       " array([5.38278337e-04, 8.86565128e-02, 1.76774747e-01, 2.64892982e-01,\n",
       "        3.53011216e-01, 4.41129451e-01, 5.29247685e-01, 6.17365919e-01,\n",
       "        7.05484154e-01, 7.93602388e-01, 8.81720623e-01]),\n",
       " <BarContainer object of 10 artists>)"
      ]
     },
     "execution_count": 63,
     "metadata": {},
     "output_type": "execute_result"
    },
    {
     "data": {
      "image/png": "[encoded data removed]",
      "text/plain": [
       "<Figure size 640x480 with 1 Axes>"
      ]
     },
     "metadata": {},
     "output_type": "display_data"
    }
   ],
   "source": [
    "plt.hist(test_pred_total_mean)"
   ]
  },
  {
   "cell_type": "code",
   "execution_count": 66,
   "metadata": {
    "id": "KGlLsagWhQmz"
   },
   "outputs": [],
   "source": [
    "test_pred_total_mean = np.mean(test_pred_total, axis=(0))\n",
    "sample_submission = pd.read_csv('../sample_submission.csv')\n",
    "sample_submission['probability'] = test_pred_total_mean\n",
    "sample_submission.to_csv('CODE_recentgit_lgbmcat_cpu_mac_sunghyun+StandardScaler+addfeatures.csv', index=False)"
   ]
  }
 ],
 "metadata": {
  "accelerator": "GPU",
  "colab": {
   "gpuType": "T4",
   "provenance": []
  },
  "kernelspec": {
   "display_name": "Python 3",
   "language": "python",
   "name": "python3"
  },
  "language_info": {
   "codemirror_mode": {
    "name": "ipython",
    "version": 3
   },
   "file_extension": ".py",
   "mimetype": "text/x-python",
   "name": "python",
   "nbconvert_exporter": "python",
   "pygments_lexer": "ipython3",
   "version": "3.9.6"
  }
 },
 "nbformat": 4,
 "nbformat_minor": 4
}
