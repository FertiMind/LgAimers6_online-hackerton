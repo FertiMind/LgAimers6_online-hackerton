{
 "cells": [
  {
   "cell_type": "code",
   "execution_count": 20,
   "metadata": {
    "colab": {
     "base_uri": "https://localhost:8080/"
    },
    "id": "0_-E_OuZQXqu",
    "outputId": "8f5cbcbb-5086-4ead-c817-9fdb22e3533b"
   },
   "outputs": [],
   "source": [
    "import random\n",
    "import os\n",
    "import pandas as pd\n",
    "import numpy as np\n",
    "\n",
    "from matplotlib import pyplot as plt\n",
    "import seaborn as sns\n",
    "from catboost import CatBoostClassifier\n",
    "import lightgbm as lgb\n",
    "\n",
    "import optuna\n",
    "from optuna import Trial\n",
    "from optuna.samplers import TPESampler\n",
    "from sklearn.model_selection import StratifiedKFold\n",
    "from sklearn.metrics import roc_auc_score\n",
    "from sklearn.utils.class_weight import compute_class_weight\n",
    "\n",
    "import warnings\n",
    "\n",
    "warnings.filterwarnings('ignore')"
   ]
  },
  {
   "cell_type": "code",
   "execution_count": 21,
   "metadata": {
    "id": "u2FSTwmUIkF5"
   },
   "outputs": [],
   "source": [
    "import os\n",
    "import logging\n",
    "\n",
    "def seed_everything(seed: int = 42):\n",
    "    random.seed(seed)\n",
    "    np.random.seed(seed)\n",
    "    os.environ[\"PYTHONHASHSEED\"] = str(seed)"
   ]
  },
  {
   "cell_type": "code",
   "execution_count": 22,
   "metadata": {
    "colab": {
     "base_uri": "https://localhost:8080/"
    },
    "id": "bbtq1EWyQcwX",
    "outputId": "ad146067-7509-44f2-ee26-cc8bc615473f"
   },
   "outputs": [
    {
     "data": {
      "text/plain": [
       "((256351, 68), (90067, 67))"
      ]
     },
     "execution_count": 22,
     "metadata": {},
     "output_type": "execute_result"
    }
   ],
   "source": [
    "train = pd.read_csv('../train.csv').drop(columns=['ID'])\n",
    "test = pd.read_csv('../test.csv').drop(columns=['ID'])\n",
    "train.shape, test.shape\n",
    "# train.loc[train['시술 당시 나이'] == '알 수 없음', '시술 당시 나이'] = '만43-44세'"
   ]
  },
  {
   "cell_type": "code",
   "execution_count": 23,
   "metadata": {
    "colab": {
     "base_uri": "https://localhost:8080/",
     "height": 178
    },
    "id": "x7kj8pMWSpd9",
    "outputId": "11cdbca0-3097-42aa-dd4e-52d7070ff5c9"
   },
   "outputs": [
    {
     "data": {
      "text/plain": [
       "임신 성공 여부\n",
       "0    190123\n",
       "1     66228\n",
       "Name: count, dtype: int64"
      ]
     },
     "execution_count": 23,
     "metadata": {},
     "output_type": "execute_result"
    }
   ],
   "source": [
    "train['임신 성공 여부'].value_counts()"
   ]
  },
  {
   "cell_type": "code",
   "execution_count": 24,
   "metadata": {
    "colab": {
     "base_uri": "https://localhost:8080/",
     "height": 335
    },
    "id": "EsL6VCeI_Q4D",
    "outputId": "32bd81c0-f1bf-4f45-8b2a-54bf8e66c1d1"
   },
   "outputs": [
    {
     "data": {
      "text/plain": [
       "시술 당시 나이\n",
       "만18-34세    102476\n",
       "만35-37세     57780\n",
       "만38-39세     39247\n",
       "만40-42세     37348\n",
       "만43-44세     12253\n",
       "만45-50세      6918\n",
       "알 수 없음        329\n",
       "Name: count, dtype: int64"
      ]
     },
     "execution_count": 24,
     "metadata": {},
     "output_type": "execute_result"
    }
   ],
   "source": [
    "# train['시술 당시 나이'] = train['시술 당시 나이'].replace('알 수 없음','만35-37세')\n",
    "# test['시술 당시 나이'] = test['시술 당시 나이'].replace('알 수 없음','만35-37세')\n",
    "\n",
    "train['시술 당시 나이'].value_counts()\n",
    "# train['']\n"
   ]
  },
  {
   "cell_type": "code",
   "execution_count": 25,
   "metadata": {
    "colab": {
     "base_uri": "https://localhost:8080/"
    },
    "id": "4xu4wqTwWgEO",
    "outputId": "8b21d1a6-d5ee-46ea-ab34-c6c2ec30bb19"
   },
   "outputs": [
    {
     "data": {
      "text/plain": [
       "((256351, 66), (90067, 65))"
      ]
     },
     "execution_count": 25,
     "metadata": {},
     "output_type": "execute_result"
    }
   ],
   "source": [
    "# drop_columns = ['착상 전 유전 검사 사용 여부',\n",
    "#                 'PGD 시술 여부', 'PGS 시술 여부', '난자 해동 경과일'] + ['배란 유도 유형', '불임 원인 - 자궁경부 문제', '불임 원인 - 정자 면역학적 요인','불임 원인 - 정자 운동성', '불임 원인 - 정자 형태']#\n",
    "drop_columns = ['난자 해동 경과일', '배란 유도 유형']\n",
    "train.drop(columns=drop_columns, inplace=True)\n",
    "test.drop(columns=drop_columns, inplace=True)\n",
    "\n",
    "train.shape, test.shape"
   ]
  },
  {
   "cell_type": "code",
   "execution_count": 26,
   "metadata": {
    "id": "q5k1E_a8a6LH"
   },
   "outputs": [],
   "source": [
    "nan_col_list = ['착상 전 유전 검사 사용 여부','PGD 시술 여부', 'PGS 시술 여부']\n",
    "for col in nan_col_list:\n",
    "    train[col] = train[col].fillna(0)\n",
    "    test[col] = test[col].fillna(0)"
   ]
  },
  {
   "cell_type": "code",
   "execution_count": 27,
   "metadata": {
    "colab": {
     "base_uri": "https://localhost:8080/"
    },
    "id": "_Q-1vJvMZVdO",
    "outputId": "c00dc096-9bb5-4d60-f38f-4908c4f8c858"
   },
   "outputs": [],
   "source": [
    "drop_columns2 = []\n",
    "for col in train.columns:\n",
    "    if len(train[col].value_counts()) == 1:\n",
    "        drop_columns2.append(col)"
   ]
  },
  {
   "cell_type": "code",
   "execution_count": 28,
   "metadata": {
    "colab": {
     "base_uri": "https://localhost:8080/"
    },
    "id": "Eb_P6B2RarRm",
    "outputId": "8648f15e-8a85-49bb-fb00-a83582492051"
   },
   "outputs": [
    {
     "name": "stdout",
     "output_type": "stream",
     "text": [
      "['불임 원인 - 여성 요인', '난자 채취 경과일']\n"
     ]
    },
    {
     "data": {
      "text/plain": [
       "((256351, 64), (90067, 63))"
      ]
     },
     "execution_count": 28,
     "metadata": {},
     "output_type": "execute_result"
    }
   ],
   "source": [
    "print(drop_columns2)\n",
    "train.drop(columns=drop_columns2, inplace=True)\n",
    "test.drop(columns=drop_columns2, inplace=True)\n",
    "\n",
    "train.shape, test.shape"
   ]
  },
  {
   "cell_type": "code",
   "execution_count": 29,
   "metadata": {
    "id": "YjAuM-pa6Ewz"
   },
   "outputs": [],
   "source": [
    "cat_to_int_dict = {'6회 이상' : 6, '5회' : 5, '4회' : 4, '3회' : 3, '2회' : 2, '1회' : 1, '0회' : 0}\n",
    "\n",
    "cat_to_int_columns = ['총 시술 횟수', '클리닉 내 총 시술 횟수', 'IVF 시술 횟수','DI 시술 횟수', 'DI 임신 횟수' ,'DI 출산 횟수',\n",
    "                      '총 임신 횟수', 'IVF 임신 횟수', '총 출산 횟수', 'IVF 출산 횟수'] #\n",
    "for col in cat_to_int_columns:\n",
    "    train[col] = train[col].map(cat_to_int_dict)\n",
    "    test[col] = test[col].map(cat_to_int_dict)"
   ]
  },
  {
   "cell_type": "code",
   "execution_count": 30,
   "metadata": {},
   "outputs": [],
   "source": [
    "# 5. Binning(구간화) 예시\n",
    "# 예: 임신 시도 또는 마지막 임신 경과 연수\n",
    "if '임신 시도 또는 마지막 임신 경과 연수' in train.columns:\n",
    "    bins = [-0.1, 0.9, 3, 6, 10, 20]  # 0 이하, 1~3, 4~6, 7~10, 11~20\n",
    "    labels = ['0년 이하','1~3년','4~6년','7~10년','11~20년']\n",
    "    train['임신시도_bin'] = pd.cut(train['임신 시도 또는 마지막 임신 경과 연수'], bins=bins, labels=labels)\n",
    "    test['임신시도_bin']  = pd.cut(test['임신 시도 또는 마지막 임신 경과 연수'],  bins=bins, labels=labels)\n",
    "\n",
    "# 예: 총 생성 배아 수 (0~20, 21이상 구간)\n",
    "if '총 생성 배아 수' in train.columns:\n",
    "    bins = [-0.1, 0, 5, 10, 15, 20, 999]\n",
    "    labels = ['0','1~5','6~10','11~15','16~20','21이상']\n",
    "    train['총_생성_배아_bin'] = pd.cut(train['총 생성 배아 수'], bins=bins, labels=labels)\n",
    "    test['총_생성_배아_bin']  = pd.cut(test['총 생성 배아 수'],  bins=bins, labels=labels)\n",
    "\n",
    "# 6. 희소 범주(rare categories) 병합 예시\n",
    "def merge_rare_categories(series, min_count=100):\n",
    "    \"\"\"\n",
    "    시리즈 내에서 출현 횟수가 min_count 미만인 카테고리를\n",
    "    모두 '기타' 카테고리로 통합\n",
    "    \"\"\"\n",
    "    value_counts = series.value_counts(dropna=False)\n",
    "    rare_cats = value_counts[value_counts < min_count].index\n",
    "    return series.replace(rare_cats, '기타')\n",
    "\n",
    "\n",
    "rare_merge_cols = ['특정 시술 유형', '배아 생성 주요 이유']\n",
    "for col in rare_merge_cols:\n",
    "    if col in train.columns:\n",
    "        train[col] = merge_rare_categories(train[col], min_count=100)\n",
    "    if col in test.columns:\n",
    "        test[col] = merge_rare_categories(test[col], min_count=100)\n",
    "train.drop(columns =['임신 시도 또는 마지막 임신 경과 연수'],inplace = True )\n",
    "test.drop(columns =['임신 시도 또는 마지막 임신 경과 연수'],inplace = True )\n"
   ]
  },
  {
   "cell_type": "code",
   "execution_count": 31,
   "metadata": {
    "id": "f-mBaoLO4ffA"
   },
   "outputs": [],
   "source": [
    "procedure_encoding_dict = {'ICSI' : 'ICSI', 'IVF' : 'IVF', 'Unknown' : 'Unknown','IUI' : 'IUI',\n",
    "                           'ICSI:ICSI' : 'ICSI', 'ICSI / BLASTOCYST ' : 'ICSI / BLASTOCYST',\n",
    "                           'IVF / BLASTOCYST' : 'IVF / BLASTOCYST','IVF:IVF' : 'IVF','ICSI:IVF' : 'ICSI:IVF',\n",
    "                           'ICSI / AH' : 'ICSI / AH','IVF:ICSI' : 'ICSI:IVF', 'IVF / AH' : 'IVF / AH',\n",
    "                           'ICSI:Unknown' : 'ICSI', 'IVF:Unknown' : 'IVF', 'ICI' : 'ICI','Generic DI' : 'Generic DI',\n",
    "                           'IVI' : 'IVI','ICSI / BLASTOCYST:IVF / BLASTOCYST' : 'ICSI / BLASTOCYST:IVF / BLASTOCYST',\n",
    "                           'ICSI / BLASTOCYST :IVF / BLASTOCYST': 'ICSI / BLASTOCYST:IVF / BLASTOCYST','FER' : 'FER',\n",
    "                           'IVF / AH:ICSI / AH' : 'IVF / AH:ICSI / AH','GIFT':'GIFT','ICSI / AH:Unknown' : 'ICSI / AH',\n",
    "                           'ICSI / BLASTOCYST :ICSI' : 'ICSI / BLASTOCYST', 'IUI:ICI' : 'IUI:ICI',\n",
    "                           'IVF:Unknown:Unknown:Unknown' : 'IVF'}\n",
    "\n",
    "train['특정 시술 유형'] = train['특정 시술 유형'].map(procedure_encoding_dict)\n",
    "test['특정 시술 유형'] = test['특정 시술 유형'].map(procedure_encoding_dict)"
   ]
  },
  {
   "cell_type": "code",
   "execution_count": 32,
   "metadata": {
    "id": "UEU77iWib0U_"
   },
   "outputs": [],
   "source": [
    "train['불임 원인 - 정자 요인'] = train['불임 원인 - 정자 면역학적 요인'] + train['불임 원인 - 정자 운동성'] + train['불임 원인 - 정자 농도']  + train['불임 원인 - 정자 형태']\n",
    "test['불임 원인 - 정자 요인'] = test['불임 원인 - 정자 면역학적 요인'] + test['불임 원인 - 정자 운동성'] + test['불임 원인 - 정자 농도'] + test['불임 원인 - 정자 형태']\n",
    "train['불임 원인 - 여성 요인'] = train['불임 원인 - 자궁경부 문제'] + train['불임 원인 - 자궁내막증'] + train['불임 원인 - 배란 장애'] + train['불임 원인 - 난관 질환']\n",
    "test['불임 원인 - 여성 요인'] = test['불임 원인 - 자궁경부 문제'] + test['불임 원인 - 자궁내막증'] + test['불임 원인 - 배란 장애'] + test['불임 원인 - 난관 질환']\n",
    "\n",
    "train['남성 불임 원인'] = train['남성 주 불임 원인'] + train['남성 부 불임 원인']\n",
    "test['남성 불임 원인'] = test['남성 주 불임 원인'] + test['남성 부 불임 원인']\n",
    "train['여성 불임 원인'] = train['여성 주 불임 원인'] + train['여성 부 불임 원인']\n",
    "test['여성 불임 원인'] = test['여성 주 불임 원인'] + test['여성 부 불임 원인']\n",
    "train['부부 불임 원인'] = train['부부 주 불임 원인'] + train['부부 부 불임 원인']\n",
    "test['부부 불임 원인'] = test['부부 주 불임 원인'] + test['부부 부 불임 원인']\n",
    "\n",
    "\n",
    "drop_columns3 = ['불임 원인 - 정자 면역학적 요인', '불임 원인 - 정자 운동성', '불임 원인 - 정자 형태', '불임 원인 - 자궁경부 문제',\n",
    "                 '남성 주 불임 원인', '남성 부 불임 원인', '여성 주 불임 원인', '여성 부 불임 원인',\n",
    "                 '부부 주 불임 원인', '부부 부 불임 원인']\n",
    "train.drop(columns=drop_columns3, inplace=True)\n",
    "test.drop(columns=drop_columns3, inplace=True)"
   ]
  },
  {
   "cell_type": "code",
   "execution_count": 33,
   "metadata": {},
   "outputs": [
    {
     "ename": "KeyError",
     "evalue": "\"['임신 시도 또는 마지막 임신 경과 연수'] not found in axis\"",
     "output_type": "error",
     "traceback": [
      "\u001b[0;31m---------------------------------------------------------------------------\u001b[0m",
      "\u001b[0;31mKeyError\u001b[0m                                  Traceback (most recent call last)",
      "Cell \u001b[0;32mIn[33], line 1\u001b[0m\n\u001b[0;32m----> 1\u001b[0m \u001b[43mtrain\u001b[49m\u001b[38;5;241;43m.\u001b[39;49m\u001b[43mdrop\u001b[49m\u001b[43m(\u001b[49m\u001b[43mcolumns\u001b[49m\u001b[43m \u001b[49m\u001b[38;5;241;43m=\u001b[39;49m\u001b[43m[\u001b[49m\u001b[38;5;124;43m'\u001b[39;49m\u001b[38;5;124;43m임신 시도 또는 마지막 임신 경과 연수\u001b[39;49m\u001b[38;5;124;43m'\u001b[39;49m\u001b[43m]\u001b[49m\u001b[43m,\u001b[49m\u001b[43minplace\u001b[49m\u001b[43m \u001b[49m\u001b[38;5;241;43m=\u001b[39;49m\u001b[43m \u001b[49m\u001b[38;5;28;43;01mTrue\u001b[39;49;00m\u001b[43m \u001b[49m\u001b[43m)\u001b[49m\n\u001b[1;32m      2\u001b[0m test\u001b[38;5;241m.\u001b[39mdrop(columns \u001b[38;5;241m=\u001b[39m[\u001b[38;5;124m'\u001b[39m\u001b[38;5;124m임신 시도 또는 마지막 임신 경과 연수\u001b[39m\u001b[38;5;124m'\u001b[39m],inplace \u001b[38;5;241m=\u001b[39m \u001b[38;5;28;01mTrue\u001b[39;00m )\n",
      "File \u001b[0;32m~/Library/Python/3.9/lib/python/site-packages/pandas/core/frame.py:5581\u001b[0m, in \u001b[0;36mDataFrame.drop\u001b[0;34m(self, labels, axis, index, columns, level, inplace, errors)\u001b[0m\n\u001b[1;32m   5433\u001b[0m \u001b[38;5;28;01mdef\u001b[39;00m\u001b[38;5;250m \u001b[39m\u001b[38;5;21mdrop\u001b[39m(\n\u001b[1;32m   5434\u001b[0m     \u001b[38;5;28mself\u001b[39m,\n\u001b[1;32m   5435\u001b[0m     labels: IndexLabel \u001b[38;5;241m|\u001b[39m \u001b[38;5;28;01mNone\u001b[39;00m \u001b[38;5;241m=\u001b[39m \u001b[38;5;28;01mNone\u001b[39;00m,\n\u001b[0;32m   (...)\u001b[0m\n\u001b[1;32m   5442\u001b[0m     errors: IgnoreRaise \u001b[38;5;241m=\u001b[39m \u001b[38;5;124m\"\u001b[39m\u001b[38;5;124mraise\u001b[39m\u001b[38;5;124m\"\u001b[39m,\n\u001b[1;32m   5443\u001b[0m ) \u001b[38;5;241m-\u001b[39m\u001b[38;5;241m>\u001b[39m DataFrame \u001b[38;5;241m|\u001b[39m \u001b[38;5;28;01mNone\u001b[39;00m:\n\u001b[1;32m   5444\u001b[0m \u001b[38;5;250m    \u001b[39m\u001b[38;5;124;03m\"\"\"\u001b[39;00m\n\u001b[1;32m   5445\u001b[0m \u001b[38;5;124;03m    Drop specified labels from rows or columns.\u001b[39;00m\n\u001b[1;32m   5446\u001b[0m \n\u001b[0;32m   (...)\u001b[0m\n\u001b[1;32m   5579\u001b[0m \u001b[38;5;124;03m            weight  1.0     0.8\u001b[39;00m\n\u001b[1;32m   5580\u001b[0m \u001b[38;5;124;03m    \"\"\"\u001b[39;00m\n\u001b[0;32m-> 5581\u001b[0m     \u001b[38;5;28;01mreturn\u001b[39;00m \u001b[38;5;28;43msuper\u001b[39;49m\u001b[43m(\u001b[49m\u001b[43m)\u001b[49m\u001b[38;5;241;43m.\u001b[39;49m\u001b[43mdrop\u001b[49m\u001b[43m(\u001b[49m\n\u001b[1;32m   5582\u001b[0m \u001b[43m        \u001b[49m\u001b[43mlabels\u001b[49m\u001b[38;5;241;43m=\u001b[39;49m\u001b[43mlabels\u001b[49m\u001b[43m,\u001b[49m\n\u001b[1;32m   5583\u001b[0m \u001b[43m        \u001b[49m\u001b[43maxis\u001b[49m\u001b[38;5;241;43m=\u001b[39;49m\u001b[43maxis\u001b[49m\u001b[43m,\u001b[49m\n\u001b[1;32m   5584\u001b[0m \u001b[43m        \u001b[49m\u001b[43mindex\u001b[49m\u001b[38;5;241;43m=\u001b[39;49m\u001b[43mindex\u001b[49m\u001b[43m,\u001b[49m\n\u001b[1;32m   5585\u001b[0m \u001b[43m        \u001b[49m\u001b[43mcolumns\u001b[49m\u001b[38;5;241;43m=\u001b[39;49m\u001b[43mcolumns\u001b[49m\u001b[43m,\u001b[49m\n\u001b[1;32m   5586\u001b[0m \u001b[43m        \u001b[49m\u001b[43mlevel\u001b[49m\u001b[38;5;241;43m=\u001b[39;49m\u001b[43mlevel\u001b[49m\u001b[43m,\u001b[49m\n\u001b[1;32m   5587\u001b[0m \u001b[43m        \u001b[49m\u001b[43minplace\u001b[49m\u001b[38;5;241;43m=\u001b[39;49m\u001b[43minplace\u001b[49m\u001b[43m,\u001b[49m\n\u001b[1;32m   5588\u001b[0m \u001b[43m        \u001b[49m\u001b[43merrors\u001b[49m\u001b[38;5;241;43m=\u001b[39;49m\u001b[43merrors\u001b[49m\u001b[43m,\u001b[49m\n\u001b[1;32m   5589\u001b[0m \u001b[43m    \u001b[49m\u001b[43m)\u001b[49m\n",
      "File \u001b[0;32m~/Library/Python/3.9/lib/python/site-packages/pandas/core/generic.py:4788\u001b[0m, in \u001b[0;36mNDFrame.drop\u001b[0;34m(self, labels, axis, index, columns, level, inplace, errors)\u001b[0m\n\u001b[1;32m   4786\u001b[0m \u001b[38;5;28;01mfor\u001b[39;00m axis, labels \u001b[38;5;129;01min\u001b[39;00m axes\u001b[38;5;241m.\u001b[39mitems():\n\u001b[1;32m   4787\u001b[0m     \u001b[38;5;28;01mif\u001b[39;00m labels \u001b[38;5;129;01mis\u001b[39;00m \u001b[38;5;129;01mnot\u001b[39;00m \u001b[38;5;28;01mNone\u001b[39;00m:\n\u001b[0;32m-> 4788\u001b[0m         obj \u001b[38;5;241m=\u001b[39m \u001b[43mobj\u001b[49m\u001b[38;5;241;43m.\u001b[39;49m\u001b[43m_drop_axis\u001b[49m\u001b[43m(\u001b[49m\u001b[43mlabels\u001b[49m\u001b[43m,\u001b[49m\u001b[43m \u001b[49m\u001b[43maxis\u001b[49m\u001b[43m,\u001b[49m\u001b[43m \u001b[49m\u001b[43mlevel\u001b[49m\u001b[38;5;241;43m=\u001b[39;49m\u001b[43mlevel\u001b[49m\u001b[43m,\u001b[49m\u001b[43m \u001b[49m\u001b[43merrors\u001b[49m\u001b[38;5;241;43m=\u001b[39;49m\u001b[43merrors\u001b[49m\u001b[43m)\u001b[49m\n\u001b[1;32m   4790\u001b[0m \u001b[38;5;28;01mif\u001b[39;00m inplace:\n\u001b[1;32m   4791\u001b[0m     \u001b[38;5;28mself\u001b[39m\u001b[38;5;241m.\u001b[39m_update_inplace(obj)\n",
      "File \u001b[0;32m~/Library/Python/3.9/lib/python/site-packages/pandas/core/generic.py:4830\u001b[0m, in \u001b[0;36mNDFrame._drop_axis\u001b[0;34m(self, labels, axis, level, errors, only_slice)\u001b[0m\n\u001b[1;32m   4828\u001b[0m         new_axis \u001b[38;5;241m=\u001b[39m axis\u001b[38;5;241m.\u001b[39mdrop(labels, level\u001b[38;5;241m=\u001b[39mlevel, errors\u001b[38;5;241m=\u001b[39merrors)\n\u001b[1;32m   4829\u001b[0m     \u001b[38;5;28;01melse\u001b[39;00m:\n\u001b[0;32m-> 4830\u001b[0m         new_axis \u001b[38;5;241m=\u001b[39m \u001b[43maxis\u001b[49m\u001b[38;5;241;43m.\u001b[39;49m\u001b[43mdrop\u001b[49m\u001b[43m(\u001b[49m\u001b[43mlabels\u001b[49m\u001b[43m,\u001b[49m\u001b[43m \u001b[49m\u001b[43merrors\u001b[49m\u001b[38;5;241;43m=\u001b[39;49m\u001b[43merrors\u001b[49m\u001b[43m)\u001b[49m\n\u001b[1;32m   4831\u001b[0m     indexer \u001b[38;5;241m=\u001b[39m axis\u001b[38;5;241m.\u001b[39mget_indexer(new_axis)\n\u001b[1;32m   4833\u001b[0m \u001b[38;5;66;03m# Case for non-unique axis\u001b[39;00m\n\u001b[1;32m   4834\u001b[0m \u001b[38;5;28;01melse\u001b[39;00m:\n",
      "File \u001b[0;32m~/Library/Python/3.9/lib/python/site-packages/pandas/core/indexes/base.py:7070\u001b[0m, in \u001b[0;36mIndex.drop\u001b[0;34m(self, labels, errors)\u001b[0m\n\u001b[1;32m   7068\u001b[0m \u001b[38;5;28;01mif\u001b[39;00m mask\u001b[38;5;241m.\u001b[39many():\n\u001b[1;32m   7069\u001b[0m     \u001b[38;5;28;01mif\u001b[39;00m errors \u001b[38;5;241m!=\u001b[39m \u001b[38;5;124m\"\u001b[39m\u001b[38;5;124mignore\u001b[39m\u001b[38;5;124m\"\u001b[39m:\n\u001b[0;32m-> 7070\u001b[0m         \u001b[38;5;28;01mraise\u001b[39;00m \u001b[38;5;167;01mKeyError\u001b[39;00m(\u001b[38;5;124mf\u001b[39m\u001b[38;5;124m\"\u001b[39m\u001b[38;5;132;01m{\u001b[39;00mlabels[mask]\u001b[38;5;241m.\u001b[39mtolist()\u001b[38;5;132;01m}\u001b[39;00m\u001b[38;5;124m not found in axis\u001b[39m\u001b[38;5;124m\"\u001b[39m)\n\u001b[1;32m   7071\u001b[0m     indexer \u001b[38;5;241m=\u001b[39m indexer[\u001b[38;5;241m~\u001b[39mmask]\n\u001b[1;32m   7072\u001b[0m \u001b[38;5;28;01mreturn\u001b[39;00m \u001b[38;5;28mself\u001b[39m\u001b[38;5;241m.\u001b[39mdelete(indexer)\n",
      "\u001b[0;31mKeyError\u001b[0m: \"['임신 시도 또는 마지막 임신 경과 연수'] not found in axis\""
     ]
    }
   ],
   "source": [
    "train.drop(columns =['임신 시도 또는 마지막 임신 경과 연수'],inplace = True )\n",
    "test.drop(columns =['임신 시도 또는 마지막 임신 경과 연수'],inplace = True )"
   ]
  },
  {
   "cell_type": "code",
   "execution_count": 34,
   "metadata": {
    "colab": {
     "base_uri": "https://localhost:8080/"
    },
    "id": "kjEBmjSkbL5j",
    "outputId": "b3db516d-031e-42fc-89bb-a3218d8bd879"
   },
   "outputs": [
    {
     "data": {
      "text/plain": [
       "Index(['시술 시기 코드', '시술 당시 나이', '시술 유형', '특정 시술 유형', '배란 자극 여부', '단일 배아 이식 여부',\n",
       "       '착상 전 유전 검사 사용 여부', '착상 전 유전 진단 사용 여부', '불명확 불임 원인', '불임 원인 - 난관 질환',\n",
       "       '불임 원인 - 남성 요인', '불임 원인 - 배란 장애', '불임 원인 - 자궁내막증', '불임 원인 - 정자 농도',\n",
       "       '배아 생성 주요 이유', '총 시술 횟수', '클리닉 내 총 시술 횟수', 'IVF 시술 횟수', 'DI 시술 횟수',\n",
       "       '총 임신 횟수', 'IVF 임신 횟수', 'DI 임신 횟수', '총 출산 횟수', 'IVF 출산 횟수', 'DI 출산 횟수',\n",
       "       '총 생성 배아 수', '미세주입된 난자 수', '미세주입에서 생성된 배아 수', '이식된 배아 수',\n",
       "       '미세주입 배아 이식 수', '저장된 배아 수', '미세주입 후 저장된 배아 수', '해동된 배아 수', '해동 난자 수',\n",
       "       '수집된 신선 난자 수', '저장된 신선 난자 수', '혼합된 난자 수', '파트너 정자와 혼합된 난자 수',\n",
       "       '기증자 정자와 혼합된 난자 수', '난자 출처', '정자 출처', '난자 기증자 나이', '정자 기증자 나이',\n",
       "       '동결 배아 사용 여부', '신선 배아 사용 여부', '기증 배아 사용 여부', '대리모 여부', 'PGD 시술 여부',\n",
       "       'PGS 시술 여부', '난자 혼합 경과일', '배아 이식 경과일', '배아 해동 경과일', '임신 성공 여부',\n",
       "       '임신시도_bin', '총_생성_배아_bin', '불임 원인 - 정자 요인', '불임 원인 - 여성 요인', '남성 불임 원인',\n",
       "       '여성 불임 원인', '부부 불임 원인'],\n",
       "      dtype='object')"
      ]
     },
     "execution_count": 34,
     "metadata": {},
     "output_type": "execute_result"
    }
   ],
   "source": [
    "train.columns"
   ]
  },
  {
   "cell_type": "code",
   "execution_count": 35,
   "metadata": {
    "id": "64dAkKrBayFA"
   },
   "outputs": [],
   "source": [
    "# categorical_columns = [\"시술 시기 코드\",\"시술 당시 나이\", \"시술 유형\", \"특정 시술 유형\",\"배란 자극 여부\",\n",
    "                      #  \"단일 배아 이식 여부\",\"착상 전 유전 진단 사용 여부\",\n",
    "                      #  \"남성 주 불임 원인\",\"남성 부 불임 원인\",\"여성 주 불임 원인\",\"여성 부 불임 원인\",\n",
    "                      #  \"부부 주 불임 원인\",\"부부 부 불임 원인\",\"불명확 불임 원인\",\"불임 원인 - 난관 질환\",\n",
    "                      #  \"불임 원인 - 남성 요인\",\"불임 원인 - 배란 장애\",\"불임 원인 - 자궁경부 문제\",\"불임 원인 - 자궁내막증\",\n",
    "                      #  \"불임 원인 - 정자 농도\",\"불임 원인 - 정자 면역학적 요인\",\"불임 원인 - 정자 운동성\",\"불임 원인 - 정자 형태\",\n",
    "                      #  \"배아 생성 주요 이유\",\"총 시술 횟수\",\"클리닉 내 총 시술 횟수\",\"IVF 시술 횟수\",\"DI 시술 횟수\",\n",
    "                      #  \"총 임신 횟수\",\"IVF 임신 횟수\",\"DI 임신 횟수\",\"총 출산 횟수\",\"IVF 출산 횟수\",\"DI 출산 횟수\",\n",
    "                      #  \"난자 출처\",\"정자 출처\",\"난자 기증자 나이\",\"정자 기증자 나이\",\n",
    "                      #  \"동결 배아 사용 여부\",\"신선 배아 사용 여부\",\"기증 배아 사용 여부\",\"대리모 여부\"]\n",
    "categorical_columns =  [\"시술 시기 코드\",\"시술 당시 나이\",\"시술 유형\", \"특정 시술 유형\",\n",
    "                        \"배란 자극 여부\", \"단일 배아 이식 여부\", '착상 전 유전 검사 사용 여부',\"착상 전 유전 진단 사용 여부\",\n",
    "                       \"불명확 불임 원인\",\"배아 생성 주요 이유\",\n",
    "                        \"불임 원인 - 난관 질환\",\"불임 원인 - 남성 요인\",\"불임 원인 - 배란 장애\",\n",
    "                        \"불임 원인 - 자궁내막증\",'불임 원인 - 정자 농도',\"난자 출처\",\"정자 출처\",\"난자 기증자 나이\",\"정자 기증자 나이\",\n",
    "                       \"동결 배아 사용 여부\",\"신선 배아 사용 여부\", '기증 배아 사용 여부',\"대리모 여부\",\n",
    "                        'PGD 시술 여부', '총_생성_배아_bin','PGS 시술 여부', '불임 원인 - 정자 요인', '불임 원인 - 여성 요인',  '남성 불임 원인', '여성 불임 원인', '부부 불임 원인',\"임신시도_bin\"] #\n",
    "# \"남성 주 불임 원인\",\"남성 부 불임 원인\",\"여성 주 불임 원인\",\"여성 부 불임 원인\",\n",
    "#                       \"부부 주 불임 원인\",\"부부 부 불임 원인\",\n",
    "\n",
    "for col in categorical_columns:\n",
    "    if train[col].isna().sum() > 0 or test[col].isna().sum() > 0 :\n",
    "\n",
    "      mode_value = train[col].mode()[0]\n",
    "      train[col].fillna(mode_value, inplace=True)  # 최빈값으로 대체\n",
    "      test[col].fillna(mode_value, inplace = True)\n",
    "    train[col] = train[col].astype(str)\n",
    "    test[col] = test[col].astype(str)\n",
    "    #encoder = ce.OrdinalEncoder(handle_unknown='impute')\n",
    "    #encoder.fit(train[col])\n",
    "    #train[col] = encoder.transform(train[col])\n",
    "    #test[col] = encoder.transform(test[col])\n",
    "\n",
    "numeric_columns = [\"총 생성 배아 수\", \"총 시술 횟수\",\"클리닉 내 총 시술 횟수\",\"IVF 시술 횟수\",\"DI 시술 횟수\",\n",
    "                   \"총 임신 횟수\",\"IVF 임신 횟수\",\"DI 임신 횟수\",\"총 출산 횟수\",\"IVF 출산 횟수\",\"DI 출산 횟수\",\n",
    "                    '미세주입된 난자 수', '미세주입에서 생성된 배아 수', '이식된 배아 수', '미세주입 배아 이식 수', '저장된 배아 수',\n",
    "       '미세주입 후 저장된 배아 수', '해동된 배아 수', '해동 난자 수', '수집된 신선 난자 수', '저장된 신선 난자 수',\n",
    "       '혼합된 난자 수', '파트너 정자와 혼합된 난자 수', '기증자 정자와 혼합된 난자 수', '난자 혼합 경과일', '배아 이식 경과일', '배아 해동 경과일'] #\n",
    "\n",
    "# numeric_columns = [\"총 생성 배아 수\",\"미세주입된 난자 수\",\"미세주입에서 생성된 배아 수\",\n",
    "#                    \"이식된 배아 수\",\"미세주입 배아 이식 수\",\"저장된 배아 수\",\"미세주입 후 저장된 배아 수\",\n",
    "#                    \"수집된 신선 난자 수\",\"혼합된 난자 수\",\"파트너 정자와 혼합된 난자 수\",\n",
    "#                    \"기증자 정자와 혼합된 난자 수\",\"배아 이식 경과일\"]\n",
    "\n",
    "for col in numeric_columns:\n",
    "  if train[col].isna().sum():\n",
    "    if train[col].isna().sum() >= len(train)*0.5: # 결측치가 절반이 넘어갈 경우\n",
    "      train[col].fillna(-1, inplace=True)  # -1로 대체\n",
    "      test[col].fillna(-1, inplace = True)\n",
    "    else:\n",
    "      mode_value = train[col].mode()[0]  # 최빈값 구하기\n",
    "      train[col].fillna(mode_value, inplace=True)  # 최빈값으로 대체\n",
    "      test[col].fillna(mode_value, inplace = True)\n"
   ]
  },
  {
   "cell_type": "code",
   "execution_count": 36,
   "metadata": {
    "colab": {
     "base_uri": "https://localhost:8080/"
    },
    "id": "rrQrzq0H_QfV",
    "outputId": "255208d3-85ca-4d21-d9d0-eb8dccc27e6d"
   },
   "outputs": [
    {
     "data": {
      "text/plain": [
       "59"
      ]
     },
     "execution_count": 36,
     "metadata": {},
     "output_type": "execute_result"
    }
   ],
   "source": [
    "len(categorical_columns) + len(numeric_columns)"
   ]
  },
  {
   "cell_type": "code",
   "execution_count": 37,
   "metadata": {
    "id": "CI8IOlCFVXGY"
   },
   "outputs": [],
   "source": [
    "def make_feature(df):\n",
    "  df['미세주입 배아 생성률'] = (df['미세주입에서 생성된 배아 수']) / (df['미세주입된 난자 수'] + 1)\n",
    "  df['미세주입 배아 이식률'] = (df['미세주입 배아 이식 수']) / (df['미세주입에서 생성된 배아 수'] + 1)\n",
    "  df['배아 이식률'] = (df['이식된 배아 수']) / (df['총 생성 배아 수'] + 1)\n",
    "  df['저장 배아 비율'] = (df['저장된 배아 수'])/ (df['총 생성 배아 수'] + 1)\n",
    "  df['해동 배아 생존율'] = (df['해동된 배아 수'])/ (df['총 생성 배아 수'] + 1)\n",
    "  df['파트너 정자 혼합 비율'] = (df['파트너 정자와 혼합된 난자 수']) / (df['혼합된 난자 수'] + 1)\n",
    "\n",
    "  df['임신 성공률'] = (df['총 임신 횟수']) / (df['총 시술 횟수'] + 1)\n",
    "  df['출산율'] = df['총 출산 횟수'] / (df['총 임신 횟수'] + 1)\n",
    "\n",
    "  df['IVF 시술 성공률'] = df['IVF 임신 횟수'] / (df['IVF 시술 횟수'] + 1)    \n",
    "  df['DI 시술 성공률'] = df['DI 임신 횟수'] / (df['DI 시술 횟수'] + 1)         \n",
    "  df['클리닉 시술 비율'] = df['총 시술 횟수'] / (df['클리닉 내 총 시술 횟수'] + 1)  \n",
    "  df['배아 이용 효율'] = (df['이식된 배아 수'] + df['저장된 배아 수']) / (df['총 생성 배아 수'] + 1) \n",
    "\n",
    "  return df"
   ]
  },
  {
   "cell_type": "code",
   "execution_count": 38,
   "metadata": {
    "colab": {
     "base_uri": "https://localhost:8080/"
    },
    "id": "_VNPbGSR4h_I",
    "outputId": "44e7b9c5-1948-417e-b02a-64267fb91fae"
   },
   "outputs": [
    {
     "data": {
      "text/plain": [
       "((256351, 71), (90067, 71))"
      ]
     },
     "execution_count": 38,
     "metadata": {},
     "output_type": "execute_result"
    }
   ],
   "source": [
    "X = train.drop('임신 성공 여부', axis=1)\n",
    "y = train['임신 성공 여부']\n",
    "\n",
    "X = make_feature(X)\n",
    "test = make_feature(test)\n",
    "\n",
    "X.shape, test.shape"
   ]
  },
  {
   "cell_type": "code",
   "execution_count": 39,
   "metadata": {},
   "outputs": [
    {
     "data": {
      "text/plain": [
       "((256351, 71), (90067, 71))"
      ]
     },
     "execution_count": 39,
     "metadata": {},
     "output_type": "execute_result"
    }
   ],
   "source": [
    "from sklearn.preprocessing import StandardScaler\n",
    "scaler = StandardScaler()\n",
    "# 수치형 변수(정수, 실수)를 선택하여 스케일링\n",
    "numeric_cols = X.select_dtypes(include=['int64', 'float64']).columns\n",
    "X[numeric_cols] = scaler.fit_transform(X[numeric_cols])\n",
    "test[numeric_cols] = scaler.transform(test[numeric_cols])\n",
    "\n",
    "X.shape, test.shape"
   ]
  },
  {
   "cell_type": "code",
   "execution_count": 40,
   "metadata": {
    "colab": {
     "base_uri": "https://localhost:8080/",
     "height": 178
    },
    "id": "1WNQj2e8ukWK",
    "outputId": "039cab20-93c0-4ab4-f8a6-8098c62dc87f"
   },
   "outputs": [
    {
     "data": {
      "text/plain": [
       "임신 성공 여부\n",
       "0    190123\n",
       "1     66228\n",
       "Name: count, dtype: int64"
      ]
     },
     "execution_count": 40,
     "metadata": {},
     "output_type": "execute_result"
    }
   ],
   "source": [
    "y.value_counts()"
   ]
  },
  {
   "cell_type": "code",
   "execution_count": 41,
   "metadata": {},
   "outputs": [],
   "source": [
    "if not os.path.exists('./weight'):\n",
    "    os.makedirs('./weight')"
   ]
  },
  {
   "cell_type": "code",
   "execution_count": 42,
   "metadata": {
    "id": "nsRZfmFixgqm"
   },
   "outputs": [],
   "source": [
    "from sklearn.utils.class_weight import compute_class_weight\n",
    "def objective_cat(trial):\n",
    "    global best_val_auc\n",
    "    cbrm_param = {\n",
    "        'iterations':trial.suggest_int(\"iterations\", 1500, 3000),\n",
    "        'depth':trial.suggest_int(\"depth\", 4, 10),\n",
    "        'learning_rate' : trial.suggest_float('learning_rate',0.005, 0.1),\n",
    "        'l2_leaf_reg': trial.suggest_float(\"l2_leaf_reg\", 1e-4, 100.0, log=True),\n",
    "        'early_stopping_rounds': 300\n",
    "    }\n",
    "\n",
    "    # Generate model\n",
    "    model_cat = CatBoostClassifier(**cbrm_param, auto_class_weights='Balanced', eval_metric='AUC', random_state=seed)\n",
    "    model_cat.fit(X_train,\n",
    "          y_train,\n",
    "          cat_features=categorical_columns,\n",
    "          early_stopping_rounds= 300,\n",
    "          eval_set=[(X_val,y_val)],\n",
    "          verbose = 300)\n",
    "    \n",
    "    val_auc = model_cat.get_best_score()[\"validation\"][\"AUC\"]\n",
    "    best_model_path = \"./weight/cat_fold_cpu{}.cbm\".format(idx)\n",
    "    if val_auc > best_val_auc:\n",
    "        best_val_auc = val_auc\n",
    "        model_cat.save_model(best_model_path)\n",
    "        print('저장 완료')\n",
    "\n",
    "    return val_auc\n",
    "\n",
    "def objective_lgbm(trial):\n",
    "\n",
    "    lgbm_params = {\n",
    "         #'num_leaves': trial.suggest_int('num_leaves', 2, 1024, step=1),\n",
    "         #'max_depth': trial.suggest_int('max_depth', 3, 18, step=1),\n",
    "          \"num_iterations\": trial.suggest_int(\"num_iterations\", 1500, 3000),\n",
    "        \"objective\":  trial.suggest_categorical(\"objective\", [\"binary\"]),\n",
    "         \"metric\":  trial.suggest_categorical(\"metric\", [\"auc\"]),\n",
    "        #  \"random_state\":  trial.suggest_int('random_state', 42, 42),\n",
    "        \"random_state\": seed,\n",
    "        \"verbose\":  trial.suggest_int('verbose', -1, -1),\n",
    "        'learning_rate': trial.suggest_float('learning_rate', 0.005, 0.1, log=True),\n",
    "        'n_estimators': trial.suggest_int('n_estimators', 100, 2000),\n",
    "        'min_child_samples': trial.suggest_int('min_child_samples', 10, 50, step=5),\n",
    "        'subsample': trial.suggest_float('subsample', 0.5, 1.0, step=0.1),\n",
    "        'colsample_bytree': trial.suggest_float('colsample_bytree', 0.5, 1.0, step=0.1),\n",
    "    }\n",
    "\n",
    "    # Generate model\n",
    "\n",
    "    class_weights = compute_class_weight(class_weight=\"balanced\", classes=np.unique(y), y=y_train)\n",
    "    class_weight_dict = {i: w for i, w in enumerate(class_weights)}\n",
    "\n",
    "    model_lgbm = lgb.LGBMClassifier(**lgbm_params, class_weight=class_weight_dict)\n",
    "\n",
    "    model_lgbm.fit(X_train, y_train,eval_set=[(X_val, y_val)],categorical_feature=categorical_columns)\n",
    "\n",
    "    return model_lgbm.best_score_['valid_0']['auc']"
   ]
  },
  {
   "cell_type": "code",
   "execution_count": 43,
   "metadata": {
    "colab": {
     "base_uri": "https://localhost:8080/"
    },
    "id": "NsuYwQX28LzT",
    "outputId": "392153b7-08f0-4feb-9a83-6016732f894c",
    "scrolled": true,
    "tags": []
   },
   "outputs": [
    {
     "name": "stderr",
     "output_type": "stream",
     "text": [
      "[I 2025-02-24 02:20:31,092] A new study created in memory with name: no-name-b362fff8-79da-4f80-9af3-a4ee28b6e9a6\n"
     ]
    },
    {
     "name": "stdout",
     "output_type": "stream",
     "text": [
      "Seed 4972 Start!\n",
      "==================================================\n",
      "0:\ttest: 0.7248534\tbest: 0.7248534 (0)\ttotal: 174ms\tremaining: 6m 50s\n",
      "300:\ttest: 0.7388549\tbest: 0.7388549 (300)\ttotal: 38.2s\tremaining: 4m 21s\n",
      "600:\ttest: 0.7402038\tbest: 0.7402038 (600)\ttotal: 1m 20s\tremaining: 3m 55s\n",
      "900:\ttest: 0.7405508\tbest: 0.7405551 (897)\ttotal: 2m\tremaining: 3m 16s\n",
      "1200:\ttest: 0.7407102\tbest: 0.7407442 (1191)\ttotal: 2m 46s\tremaining: 2m 41s\n",
      "1500:\ttest: 0.7407861\tbest: 0.7408169 (1422)\ttotal: 3m 36s\tremaining: 2m 4s\n",
      "1800:\ttest: 0.7407867\tbest: 0.7408234 (1535)\ttotal: 4m 27s\tremaining: 1m 23s\n"
     ]
    },
    {
     "name": "stderr",
     "output_type": "stream",
     "text": [
      "[I 2025-02-24 02:25:04,603] Trial 0 finished with value: 0.74082339730219 and parameters: {'iterations': 2366, 'depth': 10, 'learning_rate': 0.01181021951839225, 'l2_leaf_reg': 9.980783802743254}. Best is trial 0 with value: 0.74082339730219.\n"
     ]
    },
    {
     "name": "stdout",
     "output_type": "stream",
     "text": [
      "Stopped by overfitting detector  (300 iterations wait)\n",
      "\n",
      "bestTest = 0.7408233973\n",
      "bestIteration = 1535\n",
      "\n",
      "Shrink model to first 1536 iterations.\n",
      "저장 완료\n",
      "0:\ttest: 0.6987658\tbest: 0.6987658 (0)\ttotal: 51.1ms\tremaining: 1m 51s\n"
     ]
    },
    {
     "name": "stderr",
     "output_type": "stream",
     "text": [
      "Training has stopped (degenerate solution on iteration 220, probably too small l2-regularization, try to increase it)\n",
      "[I 2025-02-24 02:25:14,753] Trial 1 finished with value: 0.728344229361763 and parameters: {'iterations': 2193, 'depth': 4, 'learning_rate': 0.005671430811678843, 'l2_leaf_reg': 0.00012325230809466137}. Best is trial 0 with value: 0.74082339730219.\n"
     ]
    },
    {
     "name": "stdout",
     "output_type": "stream",
     "text": [
      "\n",
      "bestTest = 0.7283442294\n",
      "bestIteration = 219\n",
      "\n",
      "Shrink model to first 220 iterations.\n",
      "0:\ttest: 0.6987658\tbest: 0.6987658 (0)\ttotal: 48.5ms\tremaining: 2m 2s\n",
      "300:\ttest: 0.7404665\tbest: 0.7404990 (260)\ttotal: 14.7s\tremaining: 1m 49s\n",
      "600:\ttest: 0.7401413\tbest: 0.7407239 (354)\ttotal: 30s\tremaining: 1m 36s\n"
     ]
    },
    {
     "name": "stderr",
     "output_type": "stream",
     "text": [
      "[I 2025-02-24 02:25:47,664] Trial 2 finished with value: 0.7407239238926291 and parameters: {'iterations': 2535, 'depth': 4, 'learning_rate': 0.09275339199839054, 'l2_leaf_reg': 0.0008705394248343123}. Best is trial 0 with value: 0.74082339730219.\n"
     ]
    },
    {
     "name": "stdout",
     "output_type": "stream",
     "text": [
      "Stopped by overfitting detector  (300 iterations wait)\n",
      "\n",
      "bestTest = 0.7407239239\n",
      "bestIteration = 354\n",
      "\n",
      "Shrink model to first 355 iterations.\n",
      "0:\ttest: 0.6987658\tbest: 0.6987658 (0)\ttotal: 49.5ms\tremaining: 1m 55s\n",
      "300:\ttest: 0.7392832\tbest: 0.7392832 (300)\ttotal: 14.2s\tremaining: 1m 35s\n",
      "600:\ttest: 0.7403467\tbest: 0.7403467 (600)\ttotal: 29s\tremaining: 1m 23s\n",
      "900:\ttest: 0.7403462\tbest: 0.7404103 (649)\ttotal: 43.7s\tremaining: 1m 9s\n"
     ]
    },
    {
     "name": "stderr",
     "output_type": "stream",
     "text": [
      "[I 2025-02-24 02:26:33,939] Trial 3 finished with value: 0.7404103197936702 and parameters: {'iterations': 2334, 'depth': 4, 'learning_rate': 0.04657568321363276, 'l2_leaf_reg': 0.0008640473331457248}. Best is trial 0 with value: 0.74082339730219.\n"
     ]
    },
    {
     "name": "stdout",
     "output_type": "stream",
     "text": [
      "Stopped by overfitting detector  (300 iterations wait)\n",
      "\n",
      "bestTest = 0.7404103198\n",
      "bestIteration = 649\n",
      "\n",
      "Shrink model to first 650 iterations.\n",
      "0:\ttest: 0.7248037\tbest: 0.7248037 (0)\ttotal: 98.9ms\tremaining: 2m 52s\n",
      "300:\ttest: 0.7374568\tbest: 0.7374568 (300)\ttotal: 36.7s\tremaining: 2m 55s\n",
      "600:\ttest: 0.7385208\tbest: 0.7385396 (592)\ttotal: 1m 15s\tremaining: 2m 22s\n",
      "900:\ttest: 0.7383814\tbest: 0.7387880 (791)\ttotal: 1m 55s\tremaining: 1m 47s\n"
     ]
    },
    {
     "name": "stderr",
     "output_type": "stream",
     "text": [
      "[I 2025-02-24 02:28:56,616] Trial 4 finished with value: 0.7387879566083424 and parameters: {'iterations': 1742, 'depth': 10, 'learning_rate': 0.012622767482095846, 'l2_leaf_reg': 0.00021158816350109617}. Best is trial 0 with value: 0.74082339730219.\n"
     ]
    },
    {
     "name": "stdout",
     "output_type": "stream",
     "text": [
      "Stopped by overfitting detector  (300 iterations wait)\n",
      "\n",
      "bestTest = 0.7387879566\n",
      "bestIteration = 791\n",
      "\n",
      "Shrink model to first 792 iterations.\n",
      "0:\ttest: 0.6987658\tbest: 0.6987658 (0)\ttotal: 46.5ms\tremaining: 1m 36s\n",
      "300:\ttest: 0.7400415\tbest: 0.7400415 (300)\ttotal: 14s\tremaining: 1m 22s\n",
      "600:\ttest: 0.7406126\tbest: 0.7406982 (544)\ttotal: 28.7s\tremaining: 1m 10s\n"
     ]
    },
    {
     "name": "stderr",
     "output_type": "stream",
     "text": [
      "[I 2025-02-24 02:29:37,721] Trial 5 finished with value: 0.7406981700791846 and parameters: {'iterations': 2082, 'depth': 4, 'learning_rate': 0.06995196593094148, 'l2_leaf_reg': 0.0018080296485396804}. Best is trial 0 with value: 0.74082339730219.\n"
     ]
    },
    {
     "name": "stdout",
     "output_type": "stream",
     "text": [
      "Stopped by overfitting detector  (300 iterations wait)\n",
      "\n",
      "bestTest = 0.7406981701\n",
      "bestIteration = 544\n",
      "\n",
      "Shrink model to first 545 iterations.\n",
      "0:\ttest: 0.7135536\tbest: 0.7135536 (0)\ttotal: 53.1ms\tremaining: 1m 45s\n",
      "300:\ttest: 0.7404517\tbest: 0.7404517 (300)\ttotal: 17.1s\tremaining: 1m 36s\n",
      "600:\ttest: 0.7411251\tbest: 0.7411528 (582)\ttotal: 35.1s\tremaining: 1m 21s\n",
      "900:\ttest: 0.7411768\tbest: 0.7412031 (895)\ttotal: 53.4s\tremaining: 1m 4s\n",
      "1200:\ttest: 0.7411606\tbest: 0.7412538 (1155)\ttotal: 1m 12s\tremaining: 47.9s\n"
     ]
    },
    {
     "name": "stderr",
     "output_type": "stream",
     "text": [
      "[I 2025-02-24 02:31:06,076] Trial 6 finished with value: 0.7412537829933807 and parameters: {'iterations': 1997, 'depth': 5, 'learning_rate': 0.07985155992831598, 'l2_leaf_reg': 62.52181000710482}. Best is trial 6 with value: 0.7412537829933807.\n"
     ]
    },
    {
     "name": "stdout",
     "output_type": "stream",
     "text": [
      "Stopped by overfitting detector  (300 iterations wait)\n",
      "\n",
      "bestTest = 0.741253783\n",
      "bestIteration = 1155\n",
      "\n",
      "Shrink model to first 1156 iterations.\n",
      "저장 완료\n",
      "0:\ttest: 0.7232063\tbest: 0.7232063 (0)\ttotal: 68.7ms\tremaining: 2m 12s\n",
      "300:\ttest: 0.7386465\tbest: 0.7393123 (220)\ttotal: 24.4s\tremaining: 2m 12s\n"
     ]
    },
    {
     "name": "stderr",
     "output_type": "stream",
     "text": [
      "[I 2025-02-24 02:31:49,326] Trial 7 finished with value: 0.7393123441156733 and parameters: {'iterations': 1927, 'depth': 7, 'learning_rate': 0.0941937211034094, 'l2_leaf_reg': 0.05654822767791934}. Best is trial 6 with value: 0.7412537829933807.\n"
     ]
    },
    {
     "name": "stdout",
     "output_type": "stream",
     "text": [
      "Stopped by overfitting detector  (300 iterations wait)\n",
      "\n",
      "bestTest = 0.7393123441\n",
      "bestIteration = 220\n",
      "\n",
      "Shrink model to first 221 iterations.\n",
      "0:\ttest: 0.7205836\tbest: 0.7205836 (0)\ttotal: 70.6ms\tremaining: 2m 14s\n",
      "300:\ttest: 0.7404151\tbest: 0.7404637 (290)\ttotal: 23.2s\tremaining: 2m 3s\n",
      "600:\ttest: 0.7405258\tbest: 0.7405788 (567)\ttotal: 48.2s\tremaining: 1m 44s\n",
      "900:\ttest: 0.7398536\tbest: 0.7405830 (626)\ttotal: 1m 13s\tremaining: 1m 22s\n"
     ]
    },
    {
     "name": "stderr",
     "output_type": "stream",
     "text": [
      "[I 2025-02-24 02:33:05,499] Trial 8 finished with value: 0.7405830402887401 and parameters: {'iterations': 1904, 'depth': 7, 'learning_rate': 0.05155602859187331, 'l2_leaf_reg': 1.299974533316308}. Best is trial 6 with value: 0.7412537829933807.\n"
     ]
    },
    {
     "name": "stdout",
     "output_type": "stream",
     "text": [
      "Stopped by overfitting detector  (300 iterations wait)\n",
      "\n",
      "bestTest = 0.7405830403\n",
      "bestIteration = 626\n",
      "\n",
      "Shrink model to first 627 iterations.\n",
      "0:\ttest: 0.7203614\tbest: 0.7203614 (0)\ttotal: 61.8ms\tremaining: 2m 43s\n",
      "300:\ttest: 0.7399930\tbest: 0.7399930 (300)\ttotal: 19.7s\tremaining: 2m 33s\n",
      "600:\ttest: 0.7409547\tbest: 0.7410015 (542)\ttotal: 41s\tremaining: 2m 19s\n",
      "900:\ttest: 0.7408921\tbest: 0.7410528 (677)\ttotal: 1m 2s\tremaining: 2m 1s\n"
     ]
    },
    {
     "name": "stderr",
     "output_type": "stream",
     "text": [
      "[I 2025-02-24 02:34:14,350] Trial 9 finished with value: 0.7410528031874437 and parameters: {'iterations': 2639, 'depth': 6, 'learning_rate': 0.03968704290444751, 'l2_leaf_reg': 0.30557194377967184}. Best is trial 6 with value: 0.7412537829933807.\n"
     ]
    },
    {
     "name": "stdout",
     "output_type": "stream",
     "text": [
      "Stopped by overfitting detector  (300 iterations wait)\n",
      "\n",
      "bestTest = 0.7410528032\n",
      "bestIteration = 677\n",
      "\n",
      "Shrink model to first 678 iterations.\n",
      "0:\ttest: 0.7204650\tbest: 0.7204650 (0)\ttotal: 62.7ms\tremaining: 3m 4s\n",
      "300:\ttest: 0.7406310\tbest: 0.7406633 (280)\ttotal: 21.5s\tremaining: 3m 8s\n",
      "600:\ttest: 0.7410999\tbest: 0.7410999 (600)\ttotal: 43.6s\tremaining: 2m 49s\n",
      "900:\ttest: 0.7410748\tbest: 0.7411412 (624)\ttotal: 1m 5s\tremaining: 2m 29s\n"
     ]
    },
    {
     "name": "stderr",
     "output_type": "stream",
     "text": [
      "[I 2025-02-24 02:35:22,047] Trial 10 finished with value: 0.7411412301725515 and parameters: {'iterations': 2945, 'depth': 6, 'learning_rate': 0.07265276039199581, 'l2_leaf_reg': 97.18545559492516}. Best is trial 6 with value: 0.7412537829933807.\n"
     ]
    },
    {
     "name": "stdout",
     "output_type": "stream",
     "text": [
      "Stopped by overfitting detector  (300 iterations wait)\n",
      "\n",
      "bestTest = 0.7411412302\n",
      "bestIteration = 624\n",
      "\n",
      "Shrink model to first 625 iterations.\n",
      "0:\ttest: 0.7204497\tbest: 0.7204497 (0)\ttotal: 62.5ms\tremaining: 3m 6s\n",
      "300:\ttest: 0.7407573\tbest: 0.7407573 (300)\ttotal: 20.7s\tremaining: 3m 4s\n",
      "600:\ttest: 0.7412157\tbest: 0.7412182 (590)\ttotal: 42.4s\tremaining: 2m 48s\n",
      "900:\ttest: 0.7414120\tbest: 0.7414460 (864)\ttotal: 1m 4s\tremaining: 2m 29s\n",
      "1200:\ttest: 0.7415753\tbest: 0.7416025 (1141)\ttotal: 1m 26s\tremaining: 2m 9s\n",
      "1500:\ttest: 0.7413791\tbest: 0.7416463 (1288)\ttotal: 1m 49s\tremaining: 1m 48s\n"
     ]
    },
    {
     "name": "stderr",
     "output_type": "stream",
     "text": [
      "[I 2025-02-24 02:37:18,751] Trial 11 finished with value: 0.7416463440119117 and parameters: {'iterations': 2994, 'depth': 6, 'learning_rate': 0.07131044509072976, 'l2_leaf_reg': 73.1213351392818}. Best is trial 11 with value: 0.7416463440119117.\n"
     ]
    },
    {
     "name": "stdout",
     "output_type": "stream",
     "text": [
      "Stopped by overfitting detector  (300 iterations wait)\n",
      "\n",
      "bestTest = 0.741646344\n",
      "bestIteration = 1288\n",
      "\n",
      "Shrink model to first 1289 iterations.\n",
      "저장 완료\n",
      "0:\ttest: 0.7204650\tbest: 0.7204650 (0)\ttotal: 65.5ms\tremaining: 1m 43s\n",
      "300:\ttest: 0.7406332\tbest: 0.7406332 (300)\ttotal: 20.4s\tremaining: 1m 27s\n",
      "600:\ttest: 0.7411950\tbest: 0.7412060 (585)\ttotal: 42.7s\tremaining: 1m 10s\n",
      "900:\ttest: 0.7414446\tbest: 0.7414454 (891)\ttotal: 1m 6s\tremaining: 50.8s\n",
      "1200:\ttest: 0.7414160\tbest: 0.7415066 (1139)\ttotal: 1m 30s\tremaining: 29.1s\n"
     ]
    },
    {
     "name": "stderr",
     "output_type": "stream",
     "text": [
      "[I 2025-02-24 02:39:07,690] Trial 12 finished with value: 0.7415065563149776 and parameters: {'iterations': 1588, 'depth': 6, 'learning_rate': 0.07374100696350389, 'l2_leaf_reg': 87.13438924619796}. Best is trial 11 with value: 0.7416463440119117.\n"
     ]
    },
    {
     "name": "stdout",
     "output_type": "stream",
     "text": [
      "Stopped by overfitting detector  (300 iterations wait)\n",
      "\n",
      "bestTest = 0.7415065563\n",
      "bestIteration = 1139\n",
      "\n",
      "Shrink model to first 1140 iterations.\n",
      "0:\ttest: 0.7236075\tbest: 0.7236075 (0)\ttotal: 80.3ms\tremaining: 3m 58s\n",
      "300:\ttest: 0.7408132\tbest: 0.7408947 (284)\ttotal: 27s\tremaining: 3m 59s\n",
      "600:\ttest: 0.7405948\tbest: 0.7409858 (326)\ttotal: 56.3s\tremaining: 3m 42s\n"
     ]
    },
    {
     "name": "stderr",
     "output_type": "stream",
     "text": [
      "[I 2025-02-24 02:40:06,713] Trial 13 finished with value: 0.7409857503586376 and parameters: {'iterations': 2975, 'depth': 8, 'learning_rate': 0.0628933885949758, 'l2_leaf_reg': 6.51790052016232}. Best is trial 11 with value: 0.7416463440119117.\n"
     ]
    },
    {
     "name": "stdout",
     "output_type": "stream",
     "text": [
      "Stopped by overfitting detector  (300 iterations wait)\n",
      "\n",
      "bestTest = 0.7409857504\n",
      "bestIteration = 326\n",
      "\n",
      "Shrink model to first 327 iterations.\n",
      "0:\ttest: 0.7220148\tbest: 0.7220148 (0)\ttotal: 78ms\tremaining: 1m 59s\n",
      "300:\ttest: 0.7401019\tbest: 0.7401020 (299)\ttotal: 25.1s\tremaining: 1m 42s\n",
      "600:\ttest: 0.7408693\tbest: 0.7408693 (600)\ttotal: 52.7s\tremaining: 1m 21s\n",
      "900:\ttest: 0.7410353\tbest: 0.7410478 (707)\ttotal: 1m 21s\tremaining: 57.2s\n"
     ]
    },
    {
     "name": "stderr",
     "output_type": "stream",
     "text": [
      "[I 2025-02-24 02:41:38,891] Trial 14 finished with value: 0.7410478041046306 and parameters: {'iterations': 1533, 'depth': 8, 'learning_rate': 0.030866060002221384, 'l2_leaf_reg': 11.34882823847059}. Best is trial 11 with value: 0.7416463440119117.\n"
     ]
    },
    {
     "name": "stdout",
     "output_type": "stream",
     "text": [
      "Stopped by overfitting detector  (300 iterations wait)\n",
      "\n",
      "bestTest = 0.7410478041\n",
      "bestIteration = 707\n",
      "\n",
      "Shrink model to first 708 iterations.\n",
      "0:\ttest: 0.7203614\tbest: 0.7203614 (0)\ttotal: 59.8ms\tremaining: 1m 30s\n",
      "300:\ttest: 0.7403684\tbest: 0.7405447 (267)\ttotal: 21.5s\tremaining: 1m 26s\n"
     ]
    },
    {
     "name": "stderr",
     "output_type": "stream",
     "text": [
      "[I 2025-02-24 02:42:20,274] Trial 15 finished with value: 0.7405447351641179 and parameters: {'iterations': 1513, 'depth': 6, 'learning_rate': 0.07999105039206215, 'l2_leaf_reg': 0.026986971696484528}. Best is trial 11 with value: 0.7416463440119117.\n"
     ]
    },
    {
     "name": "stdout",
     "output_type": "stream",
     "text": [
      "Stopped by overfitting detector  (300 iterations wait)\n",
      "\n",
      "bestTest = 0.7405447352\n",
      "bestIteration = 267\n",
      "\n",
      "Shrink model to first 268 iterations.\n",
      "0:\ttest: 0.7235994\tbest: 0.7235994 (0)\ttotal: 79.8ms\tremaining: 3m 28s\n",
      "300:\ttest: 0.7413745\tbest: 0.7414462 (289)\ttotal: 26.4s\tremaining: 3m 22s\n",
      "600:\ttest: 0.7406647\tbest: 0.7415569 (396)\ttotal: 55.7s\tremaining: 3m 6s\n"
     ]
    },
    {
     "name": "stderr",
     "output_type": "stream",
     "text": [
      "[I 2025-02-24 02:43:25,649] Trial 16 finished with value: 0.7415568767093319 and parameters: {'iterations': 2611, 'depth': 8, 'learning_rate': 0.061628337192966204, 'l2_leaf_reg': 1.715511331143154}. Best is trial 11 with value: 0.7416463440119117.\n"
     ]
    },
    {
     "name": "stdout",
     "output_type": "stream",
     "text": [
      "Stopped by overfitting detector  (300 iterations wait)\n",
      "\n",
      "bestTest = 0.7415568767\n",
      "bestIteration = 396\n",
      "\n",
      "Shrink model to first 397 iterations.\n",
      "0:\ttest: 0.7255964\tbest: 0.7255964 (0)\ttotal: 89ms\tremaining: 4m 6s\n",
      "300:\ttest: 0.7407095\tbest: 0.7409406 (228)\ttotal: 30.2s\tremaining: 4m 7s\n"
     ]
    },
    {
     "name": "stderr",
     "output_type": "stream",
     "text": [
      "[I 2025-02-24 02:44:21,909] Trial 17 finished with value: 0.7409405561087724 and parameters: {'iterations': 2773, 'depth': 9, 'learning_rate': 0.06021875089596924, 'l2_leaf_reg': 0.9548353880375359}. Best is trial 11 with value: 0.7416463440119117.\n"
     ]
    },
    {
     "name": "stdout",
     "output_type": "stream",
     "text": [
      "Stopped by overfitting detector  (300 iterations wait)\n",
      "\n",
      "bestTest = 0.7409405561\n",
      "bestIteration = 228\n",
      "\n",
      "Shrink model to first 229 iterations.\n",
      "0:\ttest: 0.7219920\tbest: 0.7219920 (0)\ttotal: 78.5ms\tremaining: 3m 38s\n",
      "300:\ttest: 0.7397138\tbest: 0.7397138 (300)\ttotal: 25.3s\tremaining: 3m 28s\n",
      "600:\ttest: 0.7400279\tbest: 0.7401643 (471)\ttotal: 54.4s\tremaining: 3m 17s\n"
     ]
    },
    {
     "name": "stderr",
     "output_type": "stream",
     "text": [
      "[I 2025-02-24 02:45:32,960] Trial 18 finished with value: 0.7401643204476727 and parameters: {'iterations': 2779, 'depth': 8, 'learning_rate': 0.029930249503759977, 'l2_leaf_reg': 0.010016909578442512}. Best is trial 11 with value: 0.7416463440119117.\n"
     ]
    },
    {
     "name": "stdout",
     "output_type": "stream",
     "text": [
      "Stopped by overfitting detector  (300 iterations wait)\n",
      "\n",
      "bestTest = 0.7401643204\n",
      "bestIteration = 471\n",
      "\n",
      "Shrink model to first 472 iterations.\n",
      "0:\ttest: 0.7205889\tbest: 0.7205889 (0)\ttotal: 69.6ms\tremaining: 2m 53s\n",
      "300:\ttest: 0.7406755\tbest: 0.7408292 (287)\ttotal: 24.1s\tremaining: 2m 55s\n"
     ]
    },
    {
     "name": "stderr",
     "output_type": "stream",
     "text": [
      "[I 2025-02-24 02:46:21,442] Trial 19 finished with value: 0.7408291508137042 and parameters: {'iterations': 2496, 'depth': 7, 'learning_rate': 0.086083706324774, 'l2_leaf_reg': 2.276175005448344}. Best is trial 11 with value: 0.7416463440119117.\n",
      "[I 2025-02-24 02:46:21,446] A new study created in memory with name: no-name-b718b711-322b-4bab-b398-ba4eb6581c57\n"
     ]
    },
    {
     "name": "stdout",
     "output_type": "stream",
     "text": [
      "Stopped by overfitting detector  (300 iterations wait)\n",
      "\n",
      "bestTest = 0.7408291508\n",
      "bestIteration = 287\n",
      "\n",
      "Shrink model to first 288 iterations.\n"
     ]
    },
    {
     "name": "stderr",
     "output_type": "stream",
     "text": [
      "[I 2025-02-24 02:46:44,871] Trial 0 finished with value: 0.7303494968782495 and parameters: {'num_iterations': 2366, 'objective': 'binary', 'metric': 'auc', 'verbose': -1, 'learning_rate': 0.0652646236447618, 'n_estimators': 236, 'min_child_samples': 45, 'subsample': 0.7, 'colsample_bytree': 0.5}. Best is trial 0 with value: 0.7303494968782495.\n",
      "[I 2025-02-24 02:47:02,286] Trial 1 finished with value: 0.7407662949908816 and parameters: {'num_iterations': 1510, 'objective': 'binary', 'metric': 'auc', 'verbose': -1, 'learning_rate': 0.005231880959249543, 'n_estimators': 1411, 'min_child_samples': 10, 'subsample': 1.0, 'colsample_bytree': 0.5}. Best is trial 1 with value: 0.7407662949908816.\n",
      "[I 2025-02-24 02:47:22,237] Trial 2 finished with value: 0.7408326410391155 and parameters: {'num_iterations': 2334, 'objective': 'binary', 'metric': 'auc', 'verbose': -1, 'learning_rate': 0.006578527777128852, 'n_estimators': 931, 'min_child_samples': 15, 'subsample': 0.5, 'colsample_bytree': 1.0}. Best is trial 2 with value: 0.7408326410391155.\n",
      "[I 2025-02-24 02:47:38,783] Trial 3 finished with value: 0.7406435017931062 and parameters: {'num_iterations': 1620, 'objective': 'binary', 'metric': 'auc', 'verbose': -1, 'learning_rate': 0.0058823249237283685, 'n_estimators': 837, 'min_child_samples': 10, 'subsample': 0.9, 'colsample_bytree': 0.6}. Best is trial 2 with value: 0.7408326410391155.\n",
      "[I 2025-02-24 02:47:55,293] Trial 4 finished with value: 0.7404268298701893 and parameters: {'num_iterations': 1997, 'objective': 'binary', 'metric': 'auc', 'verbose': -1, 'learning_rate': 0.010907507425244923, 'n_estimators': 1597, 'min_child_samples': 50, 'subsample': 0.6, 'colsample_bytree': 0.8}. Best is trial 2 with value: 0.7408326410391155.\n",
      "[I 2025-02-24 02:48:18,185] Trial 5 finished with value: 0.7373542442757067 and parameters: {'num_iterations': 2909, 'objective': 'binary', 'metric': 'auc', 'verbose': -1, 'learning_rate': 0.019760591962733942, 'n_estimators': 612, 'min_child_samples': 30, 'subsample': 0.7, 'colsample_bytree': 0.9}. Best is trial 2 with value: 0.7408326410391155.\n",
      "[I 2025-02-24 02:48:39,030] Trial 6 finished with value: 0.7381747728429079 and parameters: {'num_iterations': 2639, 'objective': 'binary', 'metric': 'auc', 'verbose': -1, 'learning_rate': 0.017862094446750985, 'n_estimators': 794, 'min_child_samples': 35, 'subsample': 1.0, 'colsample_bytree': 0.8}. Best is trial 2 with value: 0.7408326410391155.\n",
      "[I 2025-02-24 02:48:55,558] Trial 7 finished with value: 0.7401123442808535 and parameters: {'num_iterations': 1580, 'objective': 'binary', 'metric': 'auc', 'verbose': -1, 'learning_rate': 0.01776722177611332, 'n_estimators': 529, 'min_child_samples': 25, 'subsample': 0.8, 'colsample_bytree': 0.5}. Best is trial 2 with value: 0.7408326410391155.\n",
      "[I 2025-02-24 02:49:12,918] Trial 8 finished with value: 0.7374020154951872 and parameters: {'num_iterations': 1911, 'objective': 'binary', 'metric': 'auc', 'verbose': -1, 'learning_rate': 0.0304747553332844, 'n_estimators': 1328, 'min_child_samples': 10, 'subsample': 0.7, 'colsample_bytree': 0.6}. Best is trial 2 with value: 0.7408326410391155.\n",
      "[I 2025-02-24 02:49:40,381] Trial 9 finished with value: 0.7369123436201328 and parameters: {'num_iterations': 2739, 'objective': 'binary', 'metric': 'auc', 'verbose': -1, 'learning_rate': 0.02691531614176271, 'n_estimators': 1438, 'min_child_samples': 20, 'subsample': 0.6, 'colsample_bytree': 0.5}. Best is trial 2 with value: 0.7408326410391155.\n",
      "[I 2025-02-24 02:49:58,202] Trial 10 finished with value: 0.7259018974747437 and parameters: {'num_iterations': 2334, 'objective': 'binary', 'metric': 'auc', 'verbose': -1, 'learning_rate': 0.08223556891145911, 'n_estimators': 1917, 'min_child_samples': 20, 'subsample': 0.5, 'colsample_bytree': 1.0}. Best is trial 2 with value: 0.7408326410391155.\n",
      "[I 2025-02-24 02:50:15,836] Trial 11 finished with value: 0.7408483688921919 and parameters: {'num_iterations': 2009, 'objective': 'binary', 'metric': 'auc', 'verbose': -1, 'learning_rate': 0.005340229419903739, 'n_estimators': 1082, 'min_child_samples': 10, 'subsample': 1.0, 'colsample_bytree': 1.0}. Best is trial 11 with value: 0.7408483688921919.\n",
      "[I 2025-02-24 02:50:33,333] Trial 12 finished with value: 0.7405336966810195 and parameters: {'num_iterations': 2082, 'objective': 'binary', 'metric': 'auc', 'verbose': -1, 'learning_rate': 0.008807202863131344, 'n_estimators': 1042, 'min_child_samples': 15, 'subsample': 0.5, 'colsample_bytree': 1.0}. Best is trial 11 with value: 0.7408483688921919.\n",
      "[I 2025-02-24 02:50:53,874] Trial 13 finished with value: 0.7404718454395726 and parameters: {'num_iterations': 2482, 'objective': 'binary', 'metric': 'auc', 'verbose': -1, 'learning_rate': 0.008570518224393218, 'n_estimators': 1108, 'min_child_samples': 20, 'subsample': 0.9, 'colsample_bytree': 0.9}. Best is trial 11 with value: 0.7408483688921919.\n",
      "[I 2025-02-24 02:51:11,588] Trial 14 finished with value: 0.7407952769650309 and parameters: {'num_iterations': 2158, 'objective': 'binary', 'metric': 'auc', 'verbose': -1, 'learning_rate': 0.011224486692851735, 'n_estimators': 1086, 'min_child_samples': 35, 'subsample': 0.8, 'colsample_bytree': 0.9}. Best is trial 11 with value: 0.7408483688921919.\n",
      "[I 2025-02-24 02:51:28,019] Trial 15 finished with value: 0.7408167781830084 and parameters: {'num_iterations': 1849, 'objective': 'binary', 'metric': 'auc', 'verbose': -1, 'learning_rate': 0.005184100368728848, 'n_estimators': 208, 'min_child_samples': 15, 'subsample': 0.9, 'colsample_bytree': 1.0}. Best is trial 11 with value: 0.7408483688921919.\n",
      "[I 2025-02-24 02:51:42,509] Trial 16 finished with value: 0.7361374976961137 and parameters: {'num_iterations': 1813, 'objective': 'binary', 'metric': 'auc', 'verbose': -1, 'learning_rate': 0.03901437770924474, 'n_estimators': 1817, 'min_child_samples': 15, 'subsample': 0.6, 'colsample_bytree': 0.7}. Best is trial 11 with value: 0.7408483688921919.\n",
      "[I 2025-02-24 02:52:03,362] Trial 17 finished with value: 0.740962430570423 and parameters: {'num_iterations': 2492, 'objective': 'binary', 'metric': 'auc', 'verbose': -1, 'learning_rate': 0.007238111112271453, 'n_estimators': 863, 'min_child_samples': 25, 'subsample': 1.0, 'colsample_bytree': 0.9}. Best is trial 17 with value: 0.740962430570423.\n",
      "[I 2025-02-24 02:52:23,874] Trial 18 finished with value: 0.7398815446878416 and parameters: {'num_iterations': 2537, 'objective': 'binary', 'metric': 'auc', 'verbose': -1, 'learning_rate': 0.013487255548504875, 'n_estimators': 581, 'min_child_samples': 40, 'subsample': 1.0, 'colsample_bytree': 0.9}. Best is trial 17 with value: 0.740962430570423.\n",
      "[I 2025-02-24 02:52:48,750] Trial 19 finished with value: 0.7406810802837691 and parameters: {'num_iterations': 2997, 'objective': 'binary', 'metric': 'auc', 'verbose': -1, 'learning_rate': 0.0074501206362402525, 'n_estimators': 1235, 'min_child_samples': 25, 'subsample': 0.9, 'colsample_bytree': 0.8}. Best is trial 17 with value: 0.740962430570423.\n",
      "[I 2025-02-24 02:53:07,046] Trial 20 finished with value: 0.7407542161903116 and parameters: {'num_iterations': 2219, 'objective': 'binary', 'metric': 'auc', 'verbose': -1, 'learning_rate': 0.01046398729861312, 'n_estimators': 1647, 'min_child_samples': 30, 'subsample': 1.0, 'colsample_bytree': 0.9}. Best is trial 17 with value: 0.740962430570423.\n",
      "[I 2025-02-24 02:53:27,235] Trial 21 finished with value: 0.7412530444473893 and parameters: {'num_iterations': 2376, 'objective': 'binary', 'metric': 'auc', 'verbose': -1, 'learning_rate': 0.006658038477345689, 'n_estimators': 863, 'min_child_samples': 25, 'subsample': 0.8, 'colsample_bytree': 1.0}. Best is trial 21 with value: 0.7412530444473893.\n",
      "[I 2025-02-24 02:53:49,817] Trial 22 finished with value: 0.741068316623942 and parameters: {'num_iterations': 2727, 'objective': 'binary', 'metric': 'auc', 'verbose': -1, 'learning_rate': 0.007283122901399725, 'n_estimators': 752, 'min_child_samples': 25, 'subsample': 0.8, 'colsample_bytree': 1.0}. Best is trial 21 with value: 0.7412530444473893.\n",
      "[I 2025-02-24 02:54:12,095] Trial 23 finished with value: 0.7395069231896843 and parameters: {'num_iterations': 2799, 'objective': 'binary', 'metric': 'auc', 'verbose': -1, 'learning_rate': 0.014018757282328785, 'n_estimators': 419, 'min_child_samples': 25, 'subsample': 0.8, 'colsample_bytree': 1.0}. Best is trial 21 with value: 0.7412530444473893.\n",
      "[I 2025-02-24 02:54:33,212] Trial 24 finished with value: 0.7412617719962562 and parameters: {'num_iterations': 2531, 'objective': 'binary', 'metric': 'auc', 'verbose': -1, 'learning_rate': 0.007868143060564967, 'n_estimators': 746, 'min_child_samples': 30, 'subsample': 0.8, 'colsample_bytree': 0.9}. Best is trial 24 with value: 0.7412617719962562.\n",
      "[I 2025-02-24 02:54:54,902] Trial 25 finished with value: 0.7412206993095047 and parameters: {'num_iterations': 2642, 'objective': 'binary', 'metric': 'auc', 'verbose': -1, 'learning_rate': 0.008652901301310295, 'n_estimators': 708, 'min_child_samples': 30, 'subsample': 0.8, 'colsample_bytree': 1.0}. Best is trial 24 with value: 0.7412617719962562.\n",
      "[I 2025-02-24 02:55:15,083] Trial 26 finished with value: 0.7395111956385381 and parameters: {'num_iterations': 2531, 'objective': 'binary', 'metric': 'auc', 'verbose': -1, 'learning_rate': 0.015490309446082274, 'n_estimators': 443, 'min_child_samples': 35, 'subsample': 0.8, 'colsample_bytree': 0.8}. Best is trial 24 with value: 0.7412617719962562.\n",
      "[I 2025-02-24 02:55:37,081] Trial 27 finished with value: 0.740545299000305 and parameters: {'num_iterations': 2636, 'objective': 'binary', 'metric': 'auc', 'verbose': -1, 'learning_rate': 0.009181509108865034, 'n_estimators': 675, 'min_child_samples': 30, 'subsample': 0.7, 'colsample_bytree': 0.7}. Best is trial 24 with value: 0.7412617719962562.\n",
      "[I 2025-02-24 02:55:56,538] Trial 28 finished with value: 0.7403704581635178 and parameters: {'num_iterations': 2390, 'objective': 'binary', 'metric': 'auc', 'verbose': -1, 'learning_rate': 0.011823946754583314, 'n_estimators': 343, 'min_child_samples': 40, 'subsample': 0.9, 'colsample_bytree': 0.9}. Best is trial 24 with value: 0.7412617719962562.\n",
      "[I 2025-02-24 02:56:16,568] Trial 29 finished with value: 0.7321839855609017 and parameters: {'num_iterations': 2626, 'objective': 'binary', 'metric': 'auc', 'verbose': -1, 'learning_rate': 0.0437134366214987, 'n_estimators': 948, 'min_child_samples': 40, 'subsample': 0.8, 'colsample_bytree': 1.0}. Best is trial 24 with value: 0.7412617719962562.\n",
      "[I 2025-02-24 02:56:34,262] Trial 30 finished with value: 0.7383751332231746 and parameters: {'num_iterations': 2258, 'objective': 'binary', 'metric': 'auc', 'verbose': -1, 'learning_rate': 0.023992661727555497, 'n_estimators': 104, 'min_child_samples': 30, 'subsample': 0.7, 'colsample_bytree': 0.9}. Best is trial 24 with value: 0.7412617719962562.\n",
      "[I 2025-02-24 02:56:57,406] Trial 31 finished with value: 0.7412812997875791 and parameters: {'num_iterations': 2786, 'objective': 'binary', 'metric': 'auc', 'verbose': -1, 'learning_rate': 0.007032911698130379, 'n_estimators': 698, 'min_child_samples': 30, 'subsample': 0.8, 'colsample_bytree': 1.0}. Best is trial 31 with value: 0.7412812997875791.\n",
      "[I 2025-02-24 02:57:20,649] Trial 32 finished with value: 0.7414949182595959 and parameters: {'num_iterations': 2780, 'objective': 'binary', 'metric': 'auc', 'verbose': -1, 'learning_rate': 0.006309269396082431, 'n_estimators': 650, 'min_child_samples': 35, 'subsample': 0.8, 'colsample_bytree': 1.0}. Best is trial 32 with value: 0.7414949182595959.\n",
      "[I 2025-02-24 02:57:44,182] Trial 33 finished with value: 0.7413112823724264 and parameters: {'num_iterations': 2830, 'objective': 'binary', 'metric': 'auc', 'verbose': -1, 'learning_rate': 0.006425578483496648, 'n_estimators': 945, 'min_child_samples': 35, 'subsample': 0.8, 'colsample_bytree': 1.0}. Best is trial 32 with value: 0.7414949182595959.\n",
      "[I 2025-02-24 02:58:08,267] Trial 34 finished with value: 0.7416276937402883 and parameters: {'num_iterations': 2882, 'objective': 'binary', 'metric': 'auc', 'verbose': -1, 'learning_rate': 0.005967396485339398, 'n_estimators': 508, 'min_child_samples': 45, 'subsample': 0.9, 'colsample_bytree': 1.0}. Best is trial 34 with value: 0.7416276937402883.\n",
      "[I 2025-02-24 02:58:32,449] Trial 35 finished with value: 0.741476049600717 and parameters: {'num_iterations': 2902, 'objective': 'binary', 'metric': 'auc', 'verbose': -1, 'learning_rate': 0.006089182560514032, 'n_estimators': 488, 'min_child_samples': 50, 'subsample': 0.9, 'colsample_bytree': 1.0}. Best is trial 34 with value: 0.7416276937402883.\n",
      "[I 2025-02-24 02:58:56,802] Trial 36 finished with value: 0.7414715349405434 and parameters: {'num_iterations': 2912, 'objective': 'binary', 'metric': 'auc', 'verbose': -1, 'learning_rate': 0.005888198551393126, 'n_estimators': 300, 'min_child_samples': 50, 'subsample': 0.9, 'colsample_bytree': 1.0}. Best is trial 34 with value: 0.7416276937402883.\n",
      "[I 2025-02-24 02:59:21,709] Trial 37 finished with value: 0.7414565257800715 and parameters: {'num_iterations': 2991, 'objective': 'binary', 'metric': 'auc', 'verbose': -1, 'learning_rate': 0.005916775136521506, 'n_estimators': 281, 'min_child_samples': 50, 'subsample': 0.9, 'colsample_bytree': 1.0}. Best is trial 34 with value: 0.7416276937402883.\n",
      "[I 2025-02-24 02:59:46,193] Trial 38 finished with value: 0.7410717790546117 and parameters: {'num_iterations': 2897, 'objective': 'binary', 'metric': 'auc', 'verbose': -1, 'learning_rate': 0.00539025862281652, 'n_estimators': 467, 'min_child_samples': 45, 'subsample': 0.9, 'colsample_bytree': 0.8}. Best is trial 34 with value: 0.7416276937402883.\n",
      "[I 2025-02-24 03:00:14,982] Trial 39 finished with value: 0.7410105591508671 and parameters: {'num_iterations': 2897, 'objective': 'binary', 'metric': 'auc', 'verbose': -1, 'learning_rate': 0.005025950982028898, 'n_estimators': 113, 'min_child_samples': 45, 'subsample': 0.9, 'colsample_bytree': 0.6}. Best is trial 34 with value: 0.7416276937402883.\n"
     ]
    },
    {
     "name": "stdout",
     "output_type": "stream",
     "text": [
      "Cat val score : 0.7416463440119117\n",
      "LGBM val score : 0.7415101736020648\n",
      "Ensemble val score : 0.7420553317227365\n"
     ]
    },
    {
     "name": "stderr",
     "output_type": "stream",
     "text": [
      "[I 2025-02-24 03:00:40,893] A new study created in memory with name: no-name-04cb0b51-fda0-47ff-adf7-8820f84e672d\n"
     ]
    },
    {
     "name": "stdout",
     "output_type": "stream",
     "text": [
      "==================================================\n",
      "0:\ttest: 0.7183993\tbest: 0.7183993 (0)\ttotal: 144ms\tremaining: 5m 40s\n",
      "300:\ttest: 0.7330589\tbest: 0.7330589 (300)\ttotal: 40.1s\tremaining: 4m 35s\n",
      "600:\ttest: 0.7345562\tbest: 0.7345586 (596)\ttotal: 1m 22s\tremaining: 4m 3s\n",
      "900:\ttest: 0.7348078\tbest: 0.7348078 (900)\ttotal: 2m 3s\tremaining: 3m 20s\n",
      "1200:\ttest: 0.7350907\tbest: 0.7350907 (1200)\ttotal: 2m 48s\tremaining: 2m 43s\n",
      "1500:\ttest: 0.7352685\tbest: 0.7353255 (1403)\ttotal: 3m 37s\tremaining: 2m 5s\n",
      "1800:\ttest: 0.7353221\tbest: 0.7353298 (1665)\ttotal: 4m 29s\tremaining: 1m 24s\n"
     ]
    },
    {
     "name": "stderr",
     "output_type": "stream",
     "text": [
      "[I 2025-02-24 03:05:39,331] Trial 0 finished with value: 0.735329781116079 and parameters: {'iterations': 2366, 'depth': 10, 'learning_rate': 0.01181021951839225, 'l2_leaf_reg': 9.980783802743254}. Best is trial 0 with value: 0.735329781116079.\n"
     ]
    },
    {
     "name": "stdout",
     "output_type": "stream",
     "text": [
      "Stopped by overfitting detector  (300 iterations wait)\n",
      "\n",
      "bestTest = 0.7353297811\n",
      "bestIteration = 1665\n",
      "\n",
      "Shrink model to first 1666 iterations.\n",
      "저장 완료\n",
      "0:\ttest: 0.6914493\tbest: 0.6914493 (0)\ttotal: 56.3ms\tremaining: 2m 3s\n",
      "300:\ttest: 0.7238491\tbest: 0.7238491 (300)\ttotal: 15.7s\tremaining: 1m 38s\n",
      "600:\ttest: 0.7281028\tbest: 0.7281028 (600)\ttotal: 30.6s\tremaining: 1m 21s\n",
      "900:\ttest: 0.7303839\tbest: 0.7303839 (900)\ttotal: 47.2s\tremaining: 1m 7s\n",
      "1200:\ttest: 0.7315781\tbest: 0.7315781 (1200)\ttotal: 1m 3s\tremaining: 52.6s\n",
      "1500:\ttest: 0.7323901\tbest: 0.7323901 (1500)\ttotal: 1m 20s\tremaining: 37s\n",
      "1800:\ttest: 0.7329055\tbest: 0.7329055 (1800)\ttotal: 1m 36s\tremaining: 21.1s\n",
      "2100:\ttest: 0.7332778\tbest: 0.7332778 (2100)\ttotal: 1m 56s\tremaining: 5.09s\n"
     ]
    },
    {
     "name": "stderr",
     "output_type": "stream",
     "text": [
      "[I 2025-02-24 03:07:41,322] Trial 1 finished with value: 0.7334325988435355 and parameters: {'iterations': 2193, 'depth': 4, 'learning_rate': 0.005671430811678843, 'l2_leaf_reg': 0.00012325230809466137}. Best is trial 0 with value: 0.735329781116079.\n"
     ]
    },
    {
     "name": "stdout",
     "output_type": "stream",
     "text": [
      "2192:\ttest: 0.7334326\tbest: 0.7334326 (2192)\ttotal: 2m 1s\tremaining: 0us\n",
      "\n",
      "bestTest = 0.7334325988\n",
      "bestIteration = 2192\n",
      "\n",
      "0:\ttest: 0.6914493\tbest: 0.6914493 (0)\ttotal: 58.3ms\tremaining: 2m 27s\n",
      "300:\ttest: 0.7344101\tbest: 0.7344835 (289)\ttotal: 15.5s\tremaining: 1m 55s\n",
      "600:\ttest: 0.7346064\tbest: 0.7347478 (533)\ttotal: 31.6s\tremaining: 1m 41s\n"
     ]
    },
    {
     "name": "stderr",
     "output_type": "stream",
     "text": [
      "[I 2025-02-24 03:08:25,736] Trial 2 finished with value: 0.7347478460706987 and parameters: {'iterations': 2535, 'depth': 4, 'learning_rate': 0.09275339199839054, 'l2_leaf_reg': 0.0008705394248343123}. Best is trial 0 with value: 0.735329781116079.\n"
     ]
    },
    {
     "name": "stdout",
     "output_type": "stream",
     "text": [
      "Stopped by overfitting detector  (300 iterations wait)\n",
      "\n",
      "bestTest = 0.7347478461\n",
      "bestIteration = 533\n",
      "\n",
      "Shrink model to first 534 iterations.\n",
      "0:\ttest: 0.6914493\tbest: 0.6914493 (0)\ttotal: 59.3ms\tremaining: 2m 18s\n",
      "300:\ttest: 0.7338022\tbest: 0.7338022 (300)\ttotal: 15.6s\tremaining: 1m 45s\n",
      "600:\ttest: 0.7345023\tbest: 0.7345499 (542)\ttotal: 32.9s\tremaining: 1m 34s\n",
      "900:\ttest: 0.7347286\tbest: 0.7347286 (900)\ttotal: 50.6s\tremaining: 1m 20s\n",
      "1200:\ttest: 0.7345938\tbest: 0.7348514 (983)\ttotal: 1m 8s\tremaining: 1m 4s\n"
     ]
    },
    {
     "name": "stderr",
     "output_type": "stream",
     "text": [
      "[I 2025-02-24 03:09:39,055] Trial 3 finished with value: 0.7348514090321103 and parameters: {'iterations': 2334, 'depth': 4, 'learning_rate': 0.04657568321363276, 'l2_leaf_reg': 0.0008640473331457248}. Best is trial 0 with value: 0.735329781116079.\n"
     ]
    },
    {
     "name": "stdout",
     "output_type": "stream",
     "text": [
      "Stopped by overfitting detector  (300 iterations wait)\n",
      "\n",
      "bestTest = 0.734851409\n",
      "bestIteration = 983\n",
      "\n",
      "Shrink model to first 984 iterations.\n",
      "0:\ttest: 0.7182199\tbest: 0.7182199 (0)\ttotal: 151ms\tremaining: 4m 22s\n",
      "300:\ttest: 0.7325341\tbest: 0.7325361 (297)\ttotal: 45.6s\tremaining: 3m 38s\n",
      "600:\ttest: 0.7332134\tbest: 0.7332280 (590)\ttotal: 1m 34s\tremaining: 2m 59s\n",
      "900:\ttest: 0.7332558\tbest: 0.7333220 (783)\ttotal: 2m 26s\tremaining: 2m 17s\n",
      "1200:\ttest: 0.7333069\tbest: 0.7335106 (1136)\ttotal: 3m 19s\tremaining: 1m 30s\n"
     ]
    },
    {
     "name": "stderr",
     "output_type": "stream",
     "text": [
      "[I 2025-02-24 03:13:42,894] Trial 4 finished with value: 0.7335105907523922 and parameters: {'iterations': 1742, 'depth': 10, 'learning_rate': 0.012622767482095846, 'l2_leaf_reg': 0.00021158816350109617}. Best is trial 0 with value: 0.735329781116079.\n"
     ]
    },
    {
     "name": "stdout",
     "output_type": "stream",
     "text": [
      "Stopped by overfitting detector  (300 iterations wait)\n",
      "\n",
      "bestTest = 0.7335105908\n",
      "bestIteration = 1136\n",
      "\n",
      "Shrink model to first 1137 iterations.\n",
      "0:\ttest: 0.6914493\tbest: 0.6914493 (0)\ttotal: 63.1ms\tremaining: 2m 11s\n",
      "300:\ttest: 0.7343599\tbest: 0.7344043 (275)\ttotal: 16.2s\tremaining: 1m 35s\n",
      "600:\ttest: 0.7343713\tbest: 0.7346785 (382)\ttotal: 33.2s\tremaining: 1m 21s\n"
     ]
    },
    {
     "name": "stderr",
     "output_type": "stream",
     "text": [
      "[I 2025-02-24 03:14:21,222] Trial 5 finished with value: 0.7346785075744087 and parameters: {'iterations': 2082, 'depth': 4, 'learning_rate': 0.06995196593094148, 'l2_leaf_reg': 0.0018080296485396804}. Best is trial 0 with value: 0.735329781116079.\n"
     ]
    },
    {
     "name": "stdout",
     "output_type": "stream",
     "text": [
      "Stopped by overfitting detector  (300 iterations wait)\n",
      "\n",
      "bestTest = 0.7346785076\n",
      "bestIteration = 382\n",
      "\n",
      "Shrink model to first 383 iterations.\n",
      "0:\ttest: 0.6951679\tbest: 0.6951679 (0)\ttotal: 70.2ms\tremaining: 2m 20s\n",
      "300:\ttest: 0.7346219\tbest: 0.7346473 (294)\ttotal: 19.1s\tremaining: 1m 47s\n",
      "600:\ttest: 0.7351458\tbest: 0.7351601 (587)\ttotal: 38.9s\tremaining: 1m 30s\n",
      "900:\ttest: 0.7351722\tbest: 0.7352504 (754)\ttotal: 58.9s\tremaining: 1m 11s\n"
     ]
    },
    {
     "name": "stderr",
     "output_type": "stream",
     "text": [
      "[I 2025-02-24 03:15:30,303] Trial 6 finished with value: 0.7352503754326131 and parameters: {'iterations': 1997, 'depth': 5, 'learning_rate': 0.07985155992831598, 'l2_leaf_reg': 62.52181000710482}. Best is trial 0 with value: 0.735329781116079.\n"
     ]
    },
    {
     "name": "stdout",
     "output_type": "stream",
     "text": [
      "Stopped by overfitting detector  (300 iterations wait)\n",
      "\n",
      "bestTest = 0.7352503754\n",
      "bestIteration = 754\n",
      "\n",
      "Shrink model to first 755 iterations.\n",
      "0:\ttest: 0.7138703\tbest: 0.7138703 (0)\ttotal: 86.5ms\tremaining: 2m 46s\n",
      "300:\ttest: 0.7345378\tbest: 0.7351100 (176)\ttotal: 27s\tremaining: 2m 25s\n"
     ]
    },
    {
     "name": "stderr",
     "output_type": "stream",
     "text": [
      "[I 2025-02-24 03:16:13,341] Trial 7 finished with value: 0.7351100106473113 and parameters: {'iterations': 1927, 'depth': 7, 'learning_rate': 0.0941937211034094, 'l2_leaf_reg': 0.05654822767791934}. Best is trial 0 with value: 0.735329781116079.\n"
     ]
    },
    {
     "name": "stdout",
     "output_type": "stream",
     "text": [
      "Stopped by overfitting detector  (300 iterations wait)\n",
      "\n",
      "bestTest = 0.7351100106\n",
      "bestIteration = 176\n",
      "\n",
      "Shrink model to first 177 iterations.\n",
      "0:\ttest: 0.7138966\tbest: 0.7138966 (0)\ttotal: 87.2ms\tremaining: 2m 45s\n",
      "300:\ttest: 0.7348233\tbest: 0.7348233 (300)\ttotal: 25.2s\tremaining: 2m 14s\n",
      "600:\ttest: 0.7348026\tbest: 0.7350129 (488)\ttotal: 53.3s\tremaining: 1m 55s\n"
     ]
    },
    {
     "name": "stderr",
     "output_type": "stream",
     "text": [
      "[I 2025-02-24 03:17:23,945] Trial 8 finished with value: 0.7350128533556886 and parameters: {'iterations': 1904, 'depth': 7, 'learning_rate': 0.05155602859187331, 'l2_leaf_reg': 1.299974533316308}. Best is trial 0 with value: 0.735329781116079.\n"
     ]
    },
    {
     "name": "stdout",
     "output_type": "stream",
     "text": [
      "Stopped by overfitting detector  (300 iterations wait)\n",
      "\n",
      "bestTest = 0.7350128534\n",
      "bestIteration = 488\n",
      "\n",
      "Shrink model to first 489 iterations.\n",
      "0:\ttest: 0.7119711\tbest: 0.7119711 (0)\ttotal: 81.4ms\tremaining: 3m 34s\n",
      "300:\ttest: 0.7343974\tbest: 0.7343974 (300)\ttotal: 21.9s\tremaining: 2m 49s\n",
      "600:\ttest: 0.7355406\tbest: 0.7355406 (600)\ttotal: 45.6s\tremaining: 2m 34s\n",
      "900:\ttest: 0.7354303\tbest: 0.7355425 (603)\ttotal: 1m 9s\tremaining: 2m 14s\n"
     ]
    },
    {
     "name": "stderr",
     "output_type": "stream",
     "text": [
      "[I 2025-02-24 03:18:33,914] Trial 9 finished with value: 0.7355424509415842 and parameters: {'iterations': 2639, 'depth': 6, 'learning_rate': 0.03968704290444751, 'l2_leaf_reg': 0.30557194377967184}. Best is trial 9 with value: 0.7355424509415842.\n"
     ]
    },
    {
     "name": "stdout",
     "output_type": "stream",
     "text": [
      "Stopped by overfitting detector  (300 iterations wait)\n",
      "\n",
      "bestTest = 0.7355424509\n",
      "bestIteration = 603\n",
      "\n",
      "Shrink model to first 604 iterations.\n",
      "저장 완료\n",
      "0:\ttest: 0.7119544\tbest: 0.7119544 (0)\ttotal: 78.4ms\tremaining: 3m 50s\n",
      "300:\ttest: 0.7340379\tbest: 0.7340379 (300)\ttotal: 22.4s\tremaining: 3m 16s\n",
      "600:\ttest: 0.7350752\tbest: 0.7350897 (597)\ttotal: 45.6s\tremaining: 2m 57s\n",
      "900:\ttest: 0.7351290\tbest: 0.7352542 (819)\ttotal: 1m 10s\tremaining: 2m 39s\n"
     ]
    },
    {
     "name": "stderr",
     "output_type": "stream",
     "text": [
      "[I 2025-02-24 03:20:01,687] Trial 10 finished with value: 0.7352542474276809 and parameters: {'iterations': 2945, 'depth': 6, 'learning_rate': 0.032580115422505045, 'l2_leaf_reg': 0.05588195113566891}. Best is trial 9 with value: 0.7355424509415842.\n"
     ]
    },
    {
     "name": "stdout",
     "output_type": "stream",
     "text": [
      "Stopped by overfitting detector  (300 iterations wait)\n",
      "\n",
      "bestTest = 0.7352542474\n",
      "bestIteration = 819\n",
      "\n",
      "Shrink model to first 820 iterations.\n",
      "0:\ttest: 0.7183355\tbest: 0.7183355 (0)\ttotal: 138ms\tremaining: 6m 11s\n",
      "300:\ttest: 0.7340496\tbest: 0.7340551 (292)\ttotal: 39.8s\tremaining: 5m 16s\n",
      "600:\ttest: 0.7343697\tbest: 0.7344681 (471)\ttotal: 1m 26s\tremaining: 5m\n"
     ]
    },
    {
     "name": "stderr",
     "output_type": "stream",
     "text": [
      "[I 2025-02-24 03:21:57,385] Trial 11 finished with value: 0.7344681410895593 and parameters: {'iterations': 2693, 'depth': 10, 'learning_rate': 0.026163874004606635, 'l2_leaf_reg': 5.267219442277925}. Best is trial 9 with value: 0.7355424509415842.\n"
     ]
    },
    {
     "name": "stdout",
     "output_type": "stream",
     "text": [
      "Stopped by overfitting detector  (300 iterations wait)\n",
      "\n",
      "bestTest = 0.7344681411\n",
      "bestIteration = 471\n",
      "\n",
      "Shrink model to first 472 iterations.\n",
      "0:\ttest: 0.7140989\tbest: 0.7140989 (0)\ttotal: 119ms\tremaining: 4m 56s\n",
      "300:\ttest: 0.7343368\tbest: 0.7343368 (300)\ttotal: 34.2s\tremaining: 4m 8s\n",
      "600:\ttest: 0.7347018\tbest: 0.7347947 (492)\ttotal: 1m 10s\tremaining: 3m 40s\n",
      "900:\ttest: 0.7345318\tbest: 0.7348010 (659)\ttotal: 1m 48s\tremaining: 3m 11s\n"
     ]
    },
    {
     "name": "stderr",
     "output_type": "stream",
     "text": [
      "[I 2025-02-24 03:23:53,893] Trial 12 finished with value: 0.7348010413260138 and parameters: {'iterations': 2488, 'depth': 9, 'learning_rate': 0.02806616524326411, 'l2_leaf_reg': 0.7529394868393271}. Best is trial 9 with value: 0.7355424509415842.\n"
     ]
    },
    {
     "name": "stdout",
     "output_type": "stream",
     "text": [
      "Stopped by overfitting detector  (300 iterations wait)\n",
      "\n",
      "bestTest = 0.7348010413\n",
      "bestIteration = 659\n",
      "\n",
      "Shrink model to first 660 iterations.\n",
      "0:\ttest: 0.7121973\tbest: 0.7121973 (0)\ttotal: 112ms\tremaining: 5m 11s\n",
      "300:\ttest: 0.7344475\tbest: 0.7344475 (300)\ttotal: 29.5s\tremaining: 4m 4s\n",
      "600:\ttest: 0.7351424\tbest: 0.7351576 (573)\ttotal: 59.9s\tremaining: 3m 38s\n",
      "900:\ttest: 0.7352685\tbest: 0.7352929 (873)\ttotal: 1m 30s\tremaining: 3m 10s\n",
      "1200:\ttest: 0.7352280\tbest: 0.7353370 (1045)\ttotal: 2m 2s\tremaining: 2m 42s\n"
     ]
    },
    {
     "name": "stderr",
     "output_type": "stream",
     "text": [
      "[I 2025-02-24 03:26:12,323] Trial 13 finished with value: 0.7353370167827595 and parameters: {'iterations': 2793, 'depth': 8, 'learning_rate': 0.03929405842707977, 'l2_leaf_reg': 55.074044317639256}. Best is trial 9 with value: 0.7355424509415842.\n"
     ]
    },
    {
     "name": "stdout",
     "output_type": "stream",
     "text": [
      "Stopped by overfitting detector  (300 iterations wait)\n",
      "\n",
      "bestTest = 0.7353370168\n",
      "bestIteration = 1045\n",
      "\n",
      "Shrink model to first 1046 iterations.\n",
      "0:\ttest: 0.7121942\tbest: 0.7121942 (0)\ttotal: 108ms\tremaining: 5m 17s\n",
      "300:\ttest: 0.7350515\tbest: 0.7350515 (299)\ttotal: 30.4s\tremaining: 4m 27s\n",
      "600:\ttest: 0.7351826\tbest: 0.7352742 (526)\ttotal: 1m 2s\tremaining: 4m 4s\n"
     ]
    },
    {
     "name": "stderr",
     "output_type": "stream",
     "text": [
      "[I 2025-02-24 03:27:38,016] Trial 14 finished with value: 0.7352742150083993 and parameters: {'iterations': 2950, 'depth': 8, 'learning_rate': 0.06308101933412968, 'l2_leaf_reg': 92.74223128282539}. Best is trial 9 with value: 0.7355424509415842.\n"
     ]
    },
    {
     "name": "stdout",
     "output_type": "stream",
     "text": [
      "Stopped by overfitting detector  (300 iterations wait)\n",
      "\n",
      "bestTest = 0.735274215\n",
      "bestIteration = 526\n",
      "\n",
      "Shrink model to first 527 iterations.\n",
      "0:\ttest: 0.7140991\tbest: 0.7140991 (0)\ttotal: 133ms\tremaining: 6m 4s\n",
      "300:\ttest: 0.7350570\tbest: 0.7350570 (300)\ttotal: 28.5s\tremaining: 3m 52s\n",
      "600:\ttest: 0.7352183\tbest: 0.7353722 (495)\ttotal: 59.7s\tremaining: 3m 33s\n"
     ]
    },
    {
     "name": "stderr",
     "output_type": "stream",
     "text": [
      "[I 2025-02-24 03:28:58,363] Trial 15 finished with value: 0.7353722261245754 and parameters: {'iterations': 2752, 'depth': 8, 'learning_rate': 0.042092255830209285, 'l2_leaf_reg': 0.19321110261014834}. Best is trial 9 with value: 0.7355424509415842.\n"
     ]
    },
    {
     "name": "stdout",
     "output_type": "stream",
     "text": [
      "Stopped by overfitting detector  (300 iterations wait)\n",
      "\n",
      "bestTest = 0.7353722261\n",
      "bestIteration = 495\n",
      "\n",
      "Shrink model to first 496 iterations.\n",
      "0:\ttest: 0.7119711\tbest: 0.7119711 (0)\ttotal: 78.6ms\tremaining: 3m 31s\n",
      "300:\ttest: 0.7350715\tbest: 0.7351037 (275)\ttotal: 22.2s\tremaining: 2m 56s\n",
      "600:\ttest: 0.7345571\tbest: 0.7351738 (407)\ttotal: 45.3s\tremaining: 2m 37s\n"
     ]
    },
    {
     "name": "stderr",
     "output_type": "stream",
     "text": [
      "[I 2025-02-24 03:29:52,094] Trial 16 finished with value: 0.7351737536143188 and parameters: {'iterations': 2686, 'depth': 6, 'learning_rate': 0.061662991475729484, 'l2_leaf_reg': 0.24482193011638945}. Best is trial 9 with value: 0.7355424509415842.\n"
     ]
    },
    {
     "name": "stdout",
     "output_type": "stream",
     "text": [
      "Stopped by overfitting detector  (300 iterations wait)\n",
      "\n",
      "bestTest = 0.7351737536\n",
      "bestIteration = 407\n",
      "\n",
      "Shrink model to first 408 iterations.\n",
      "0:\ttest: 0.7140581\tbest: 0.7140581 (0)\ttotal: 95.1ms\tremaining: 4m 1s\n",
      "300:\ttest: 0.7347637\tbest: 0.7348060 (295)\ttotal: 28.3s\tremaining: 3m 31s\n",
      "600:\ttest: 0.7340972\tbest: 0.7350736 (367)\ttotal: 1m\tremaining: 3m 14s\n"
     ]
    },
    {
     "name": "stderr",
     "output_type": "stream",
     "text": [
      "[I 2025-02-24 03:30:59,393] Trial 17 finished with value: 0.7350736099223976 and parameters: {'iterations': 2545, 'depth': 8, 'learning_rate': 0.041434586487440916, 'l2_leaf_reg': 0.00795480840919648}. Best is trial 9 with value: 0.7355424509415842.\n"
     ]
    },
    {
     "name": "stdout",
     "output_type": "stream",
     "text": [
      "Stopped by overfitting detector  (300 iterations wait)\n",
      "\n",
      "bestTest = 0.7350736099\n",
      "bestIteration = 367\n",
      "\n",
      "Shrink model to first 368 iterations.\n",
      "0:\ttest: 0.7119498\tbest: 0.7119498 (0)\ttotal: 94ms\tremaining: 2m 28s\n",
      "300:\ttest: 0.7329235\tbest: 0.7329235 (300)\ttotal: 20.2s\tremaining: 1m 26s\n",
      "600:\ttest: 0.7344990\tbest: 0.7344990 (600)\ttotal: 41.7s\tremaining: 1m 8s\n",
      "900:\ttest: 0.7353033\tbest: 0.7353531 (867)\ttotal: 1m 4s\tremaining: 48.8s\n",
      "1200:\ttest: 0.7354802\tbest: 0.7355502 (1070)\ttotal: 1m 27s\tremaining: 28s\n",
      "1500:\ttest: 0.7354768\tbest: 0.7355615 (1284)\ttotal: 1m 50s\tremaining: 6.16s\n"
     ]
    },
    {
     "name": "stderr",
     "output_type": "stream",
     "text": [
      "[I 2025-02-24 03:32:56,025] Trial 18 finished with value: 0.7355615368988104 and parameters: {'iterations': 1585, 'depth': 6, 'learning_rate': 0.01958373252715346, 'l2_leaf_reg': 0.01734944121649843}. Best is trial 18 with value: 0.7355615368988104.\n"
     ]
    },
    {
     "name": "stdout",
     "output_type": "stream",
     "text": [
      "1584:\ttest: 0.7354797\tbest: 0.7355615 (1284)\ttotal: 1m 56s\tremaining: 0us\n",
      "\n",
      "bestTest = 0.7355615369\n",
      "bestIteration = 1284\n",
      "\n",
      "Shrink model to first 1285 iterations.\n",
      "저장 완료\n",
      "0:\ttest: 0.7119497\tbest: 0.7119497 (0)\ttotal: 79.5ms\tremaining: 2m 6s\n",
      "300:\ttest: 0.7328687\tbest: 0.7328687 (300)\ttotal: 19.8s\tremaining: 1m 25s\n",
      "600:\ttest: 0.7343829\tbest: 0.7343919 (594)\ttotal: 40.8s\tremaining: 1m 7s\n",
      "900:\ttest: 0.7349796\tbest: 0.7349931 (897)\ttotal: 1m 3s\tremaining: 48.8s\n",
      "1200:\ttest: 0.7349248\tbest: 0.7350418 (983)\ttotal: 1m 26s\tremaining: 28.2s\n"
     ]
    },
    {
     "name": "stderr",
     "output_type": "stream",
     "text": [
      "[I 2025-02-24 03:34:28,928] Trial 19 finished with value: 0.7350418119075182 and parameters: {'iterations': 1595, 'depth': 6, 'learning_rate': 0.019635316366982188, 'l2_leaf_reg': 0.020642063554878846}. Best is trial 18 with value: 0.7355615368988104.\n",
      "[I 2025-02-24 03:34:28,933] A new study created in memory with name: no-name-37354bac-f0e7-4a75-a8fc-743e2212ebca\n"
     ]
    },
    {
     "name": "stdout",
     "output_type": "stream",
     "text": [
      "Stopped by overfitting detector  (300 iterations wait)\n",
      "\n",
      "bestTest = 0.7350418119\n",
      "bestIteration = 983\n",
      "\n",
      "Shrink model to first 984 iterations.\n"
     ]
    },
    {
     "name": "stderr",
     "output_type": "stream",
     "text": [
      "[I 2025-02-24 03:34:53,022] Trial 0 finished with value: 0.7246138620155663 and parameters: {'num_iterations': 2366, 'objective': 'binary', 'metric': 'auc', 'verbose': -1, 'learning_rate': 0.0652646236447618, 'n_estimators': 236, 'min_child_samples': 45, 'subsample': 0.7, 'colsample_bytree': 0.5}. Best is trial 0 with value: 0.7246138620155663.\n",
      "[I 2025-02-24 03:35:10,202] Trial 1 finished with value: 0.7349083928856764 and parameters: {'num_iterations': 1510, 'objective': 'binary', 'metric': 'auc', 'verbose': -1, 'learning_rate': 0.005231880959249543, 'n_estimators': 1411, 'min_child_samples': 10, 'subsample': 1.0, 'colsample_bytree': 0.5}. Best is trial 1 with value: 0.7349083928856764.\n",
      "[I 2025-02-24 03:35:30,230] Trial 2 finished with value: 0.73489316303841 and parameters: {'num_iterations': 2334, 'objective': 'binary', 'metric': 'auc', 'verbose': -1, 'learning_rate': 0.006578527777128852, 'n_estimators': 931, 'min_child_samples': 15, 'subsample': 0.5, 'colsample_bytree': 1.0}. Best is trial 1 with value: 0.7349083928856764.\n",
      "[I 2025-02-24 03:35:46,941] Trial 3 finished with value: 0.7348826351831028 and parameters: {'num_iterations': 1620, 'objective': 'binary', 'metric': 'auc', 'verbose': -1, 'learning_rate': 0.0058823249237283685, 'n_estimators': 837, 'min_child_samples': 10, 'subsample': 0.9, 'colsample_bytree': 0.6}. Best is trial 1 with value: 0.7349083928856764.\n",
      "[I 2025-02-24 03:36:03,836] Trial 4 finished with value: 0.7341172946523753 and parameters: {'num_iterations': 1997, 'objective': 'binary', 'metric': 'auc', 'verbose': -1, 'learning_rate': 0.010907507425244923, 'n_estimators': 1597, 'min_child_samples': 50, 'subsample': 0.6, 'colsample_bytree': 0.8}. Best is trial 1 with value: 0.7349083928856764.\n",
      "[I 2025-02-24 03:36:26,519] Trial 5 finished with value: 0.7311812183760263 and parameters: {'num_iterations': 2909, 'objective': 'binary', 'metric': 'auc', 'verbose': -1, 'learning_rate': 0.019760591962733942, 'n_estimators': 612, 'min_child_samples': 30, 'subsample': 0.7, 'colsample_bytree': 0.9}. Best is trial 1 with value: 0.7349083928856764.\n",
      "[I 2025-02-24 03:36:47,455] Trial 6 finished with value: 0.7321686803715012 and parameters: {'num_iterations': 2639, 'objective': 'binary', 'metric': 'auc', 'verbose': -1, 'learning_rate': 0.017862094446750985, 'n_estimators': 794, 'min_child_samples': 35, 'subsample': 1.0, 'colsample_bytree': 0.8}. Best is trial 1 with value: 0.7349083928856764.\n",
      "[I 2025-02-24 03:37:04,058] Trial 7 finished with value: 0.7346196294217171 and parameters: {'num_iterations': 1580, 'objective': 'binary', 'metric': 'auc', 'verbose': -1, 'learning_rate': 0.01776722177611332, 'n_estimators': 529, 'min_child_samples': 25, 'subsample': 0.8, 'colsample_bytree': 0.5}. Best is trial 1 with value: 0.7349083928856764.\n",
      "[I 2025-02-24 03:37:21,550] Trial 8 finished with value: 0.7309368379037358 and parameters: {'num_iterations': 1911, 'objective': 'binary', 'metric': 'auc', 'verbose': -1, 'learning_rate': 0.0304747553332844, 'n_estimators': 1328, 'min_child_samples': 10, 'subsample': 0.7, 'colsample_bytree': 0.6}. Best is trial 1 with value: 0.7349083928856764.\n",
      "[I 2025-02-24 03:37:49,603] Trial 9 finished with value: 0.730791139693433 and parameters: {'num_iterations': 2739, 'objective': 'binary', 'metric': 'auc', 'verbose': -1, 'learning_rate': 0.02691531614176271, 'n_estimators': 1438, 'min_child_samples': 20, 'subsample': 0.6, 'colsample_bytree': 0.5}. Best is trial 1 with value: 0.7349083928856764.\n",
      "[I 2025-02-24 03:38:04,737] Trial 10 finished with value: 0.7223147269422218 and parameters: {'num_iterations': 1933, 'objective': 'binary', 'metric': 'auc', 'verbose': -1, 'learning_rate': 0.08223556891145911, 'n_estimators': 1960, 'min_child_samples': 40, 'subsample': 1.0, 'colsample_bytree': 0.7}. Best is trial 1 with value: 0.7349083928856764.\n",
      "[I 2025-02-24 03:38:25,306] Trial 11 finished with value: 0.7350246440770795 and parameters: {'num_iterations': 2362, 'objective': 'binary', 'metric': 'auc', 'verbose': -1, 'learning_rate': 0.005340229419903739, 'n_estimators': 1082, 'min_child_samples': 15, 'subsample': 0.5, 'colsample_bytree': 1.0}. Best is trial 11 with value: 0.7350246440770795.\n",
      "[I 2025-02-24 03:38:44,086] Trial 12 finished with value: 0.7352003889691078 and parameters: {'num_iterations': 2141, 'objective': 'binary', 'metric': 'auc', 'verbose': -1, 'learning_rate': 0.005009803090245928, 'n_estimators': 1192, 'min_child_samples': 20, 'subsample': 0.5, 'colsample_bytree': 1.0}. Best is trial 12 with value: 0.7352003889691078.\n",
      "[I 2025-02-24 03:39:02,053] Trial 13 finished with value: 0.7342488670304155 and parameters: {'num_iterations': 2178, 'objective': 'binary', 'metric': 'auc', 'verbose': -1, 'learning_rate': 0.01061042275547689, 'n_estimators': 1140, 'min_child_samples': 20, 'subsample': 0.5, 'colsample_bytree': 1.0}. Best is trial 12 with value: 0.7352003889691078.\n",
      "[I 2025-02-24 03:39:22,794] Trial 14 finished with value: 0.7347378781654473 and parameters: {'num_iterations': 2460, 'objective': 'binary', 'metric': 'auc', 'verbose': -1, 'learning_rate': 0.007989830797980662, 'n_estimators': 1141, 'min_child_samples': 20, 'subsample': 0.5, 'colsample_bytree': 0.9}. Best is trial 12 with value: 0.7352003889691078.\n",
      "[I 2025-02-24 03:39:40,583] Trial 15 finished with value: 0.7346360744797432 and parameters: {'num_iterations': 2144, 'objective': 'binary', 'metric': 'auc', 'verbose': -1, 'learning_rate': 0.010011580020829516, 'n_estimators': 1664, 'min_child_samples': 30, 'subsample': 0.6, 'colsample_bytree': 0.9}. Best is trial 12 with value: 0.7352003889691078.\n",
      "[I 2025-02-24 03:40:00,265] Trial 16 finished with value: 0.728150995036015 and parameters: {'num_iterations': 2557, 'objective': 'binary', 'metric': 'auc', 'verbose': -1, 'learning_rate': 0.03901437770924474, 'n_estimators': 1167, 'min_child_samples': 25, 'subsample': 0.5, 'colsample_bytree': 1.0}. Best is trial 12 with value: 0.7352003889691078.\n",
      "[I 2025-02-24 03:40:15,548] Trial 17 finished with value: 0.7343089881928058 and parameters: {'num_iterations': 1808, 'objective': 'binary', 'metric': 'auc', 'verbose': -1, 'learning_rate': 0.014107419975913894, 'n_estimators': 1821, 'min_child_samples': 15, 'subsample': 0.6, 'colsample_bytree': 0.9}. Best is trial 12 with value: 0.7352003889691078.\n",
      "[I 2025-02-24 03:40:34,144] Trial 18 finished with value: 0.7348752366940656 and parameters: {'num_iterations': 2175, 'objective': 'binary', 'metric': 'auc', 'verbose': -1, 'learning_rate': 0.007796078492345457, 'n_estimators': 318, 'min_child_samples': 15, 'subsample': 0.8, 'colsample_bytree': 1.0}. Best is trial 12 with value: 0.7352003889691078.\n",
      "[I 2025-02-24 03:40:59,711] Trial 19 finished with value: 0.7350464543303226 and parameters: {'num_iterations': 2997, 'objective': 'binary', 'metric': 'auc', 'verbose': -1, 'learning_rate': 0.005234790012397332, 'n_estimators': 644, 'min_child_samples': 25, 'subsample': 0.5, 'colsample_bytree': 0.8}. Best is trial 12 with value: 0.7352003889691078.\n",
      "[I 2025-02-24 03:41:24,102] Trial 20 finished with value: 0.7345122977184394 and parameters: {'num_iterations': 2854, 'objective': 'binary', 'metric': 'auc', 'verbose': -1, 'learning_rate': 0.007877155758725746, 'n_estimators': 588, 'min_child_samples': 30, 'subsample': 0.6, 'colsample_bytree': 0.7}. Best is trial 12 with value: 0.7352003889691078.\n",
      "[I 2025-02-24 03:41:49,699] Trial 21 finished with value: 0.7348618812895398 and parameters: {'num_iterations': 2994, 'objective': 'binary', 'metric': 'auc', 'verbose': -1, 'learning_rate': 0.005140911155567227, 'n_estimators': 913, 'min_child_samples': 25, 'subsample': 0.5, 'colsample_bytree': 0.8}. Best is trial 12 with value: 0.7352003889691078.\n",
      "[I 2025-02-24 03:42:12,930] Trial 22 finished with value: 0.7352615386922391 and parameters: {'num_iterations': 2704, 'objective': 'binary', 'metric': 'auc', 'verbose': -1, 'learning_rate': 0.005003457911274652, 'n_estimators': 396, 'min_child_samples': 20, 'subsample': 0.5, 'colsample_bytree': 0.9}. Best is trial 22 with value: 0.7352615386922391.\n",
      "[I 2025-02-24 03:42:35,748] Trial 23 finished with value: 0.7350071585444813 and parameters: {'num_iterations': 2756, 'objective': 'binary', 'metric': 'auc', 'verbose': -1, 'learning_rate': 0.006846612583323964, 'n_estimators': 119, 'min_child_samples': 25, 'subsample': 0.6, 'colsample_bytree': 0.9}. Best is trial 22 with value: 0.7352615386922391.\n",
      "[I 2025-02-24 03:42:59,626] Trial 24 finished with value: 0.7330220958833695 and parameters: {'num_iterations': 2997, 'objective': 'binary', 'metric': 'auc', 'verbose': -1, 'learning_rate': 0.013763055533112498, 'n_estimators': 416, 'min_child_samples': 35, 'subsample': 0.5, 'colsample_bytree': 0.8}. Best is trial 22 with value: 0.7352615386922391.\n",
      "[I 2025-02-24 03:43:21,508] Trial 25 finished with value: 0.7346360705084662 and parameters: {'num_iterations': 2609, 'objective': 'binary', 'metric': 'auc', 'verbose': -1, 'learning_rate': 0.008883021712741569, 'n_estimators': 715, 'min_child_samples': 20, 'subsample': 0.6, 'colsample_bytree': 0.9}. Best is trial 22 with value: 0.7352615386922391.\n",
      "[I 2025-02-24 03:43:45,024] Trial 26 finished with value: 0.7348081816820464 and parameters: {'num_iterations': 2771, 'objective': 'binary', 'metric': 'auc', 'verbose': -1, 'learning_rate': 0.006560862459482555, 'n_estimators': 403, 'min_child_samples': 20, 'subsample': 0.5, 'colsample_bytree': 0.7}. Best is trial 22 with value: 0.7352615386922391.\n",
      "[I 2025-02-24 03:44:05,681] Trial 27 finished with value: 0.7337984725928594 and parameters: {'num_iterations': 2501, 'objective': 'binary', 'metric': 'auc', 'verbose': -1, 'learning_rate': 0.012545751092645382, 'n_estimators': 712, 'min_child_samples': 35, 'subsample': 0.7, 'colsample_bytree': 0.8}. Best is trial 22 with value: 0.7352615386922391.\n",
      "[I 2025-02-24 03:44:28,589] Trial 28 finished with value: 0.7256699397349186 and parameters: {'num_iterations': 2876, 'objective': 'binary', 'metric': 'auc', 'verbose': -1, 'learning_rate': 0.03898130569041551, 'n_estimators': 141, 'min_child_samples': 30, 'subsample': 0.9, 'colsample_bytree': 0.9}. Best is trial 22 with value: 0.7352615386922391.\n",
      "[I 2025-02-24 03:44:45,797] Trial 29 finished with value: 0.7242449383255123 and parameters: {'num_iterations': 2257, 'objective': 'binary', 'metric': 'auc', 'verbose': -1, 'learning_rate': 0.05908308104258652, 'n_estimators': 315, 'min_child_samples': 25, 'subsample': 0.7, 'colsample_bytree': 1.0}. Best is trial 22 with value: 0.7352615386922391.\n",
      "[I 2025-02-24 03:45:03,333] Trial 30 finished with value: 0.7350063444326977 and parameters: {'num_iterations': 2035, 'objective': 'binary', 'metric': 'auc', 'verbose': -1, 'learning_rate': 0.006300048275050027, 'n_estimators': 961, 'min_child_samples': 40, 'subsample': 0.5, 'colsample_bytree': 0.8}. Best is trial 22 with value: 0.7352615386922391.\n",
      "[I 2025-02-24 03:45:23,919] Trial 31 finished with value: 0.7350364943676252 and parameters: {'num_iterations': 2379, 'objective': 'binary', 'metric': 'auc', 'verbose': -1, 'learning_rate': 0.005121971816656643, 'n_estimators': 1223, 'min_child_samples': 15, 'subsample': 0.5, 'colsample_bytree': 1.0}. Best is trial 22 with value: 0.7352615386922391.\n",
      "[I 2025-02-24 03:45:43,784] Trial 32 finished with value: 0.7351175441597662 and parameters: {'num_iterations': 2287, 'objective': 'binary', 'metric': 'auc', 'verbose': -1, 'learning_rate': 0.005174181970548485, 'n_estimators': 1462, 'min_child_samples': 15, 'subsample': 0.5, 'colsample_bytree': 1.0}. Best is trial 22 with value: 0.7352615386922391.\n",
      "[I 2025-02-24 03:46:06,631] Trial 33 finished with value: 0.7347554550374163 and parameters: {'num_iterations': 2694, 'objective': 'binary', 'metric': 'auc', 'verbose': -1, 'learning_rate': 0.00504289516372652, 'n_estimators': 1431, 'min_child_samples': 10, 'subsample': 0.6, 'colsample_bytree': 1.0}. Best is trial 22 with value: 0.7352615386922391.\n",
      "[I 2025-02-24 03:46:21,981] Trial 34 finished with value: 0.7351350972040732 and parameters: {'num_iterations': 1760, 'objective': 'binary', 'metric': 'auc', 'verbose': -1, 'learning_rate': 0.0070957481778454, 'n_estimators': 1628, 'min_child_samples': 20, 'subsample': 0.5, 'colsample_bytree': 0.9}. Best is trial 22 with value: 0.7352615386922391.\n",
      "[I 2025-02-24 03:46:37,108] Trial 35 finished with value: 0.7350366373335969 and parameters: {'num_iterations': 1713, 'objective': 'binary', 'metric': 'auc', 'verbose': -1, 'learning_rate': 0.007001931384989956, 'n_estimators': 1694, 'min_child_samples': 10, 'subsample': 0.5, 'colsample_bytree': 0.9}. Best is trial 22 with value: 0.7352615386922391.\n",
      "[I 2025-02-24 03:46:52,199] Trial 36 finished with value: 0.734873429763034 and parameters: {'num_iterations': 1783, 'objective': 'binary', 'metric': 'auc', 'verbose': -1, 'learning_rate': 0.008775148986346194, 'n_estimators': 1524, 'min_child_samples': 15, 'subsample': 0.6, 'colsample_bytree': 1.0}. Best is trial 22 with value: 0.7352615386922391.\n",
      "[I 2025-02-24 03:47:09,868] Trial 37 finished with value: 0.735075539963016 and parameters: {'num_iterations': 2067, 'objective': 'binary', 'metric': 'auc', 'verbose': -1, 'learning_rate': 0.0061652082595723, 'n_estimators': 1298, 'min_child_samples': 20, 'subsample': 0.5, 'colsample_bytree': 1.0}. Best is trial 22 with value: 0.7352615386922391.\n",
      "[I 2025-02-24 03:47:22,903] Trial 38 finished with value: 0.7350977711716202 and parameters: {'num_iterations': 1514, 'objective': 'binary', 'metric': 'auc', 'verbose': -1, 'learning_rate': 0.009507882508730685, 'n_estimators': 1773, 'min_child_samples': 10, 'subsample': 0.6, 'colsample_bytree': 0.9}. Best is trial 22 with value: 0.7352615386922391.\n",
      "[I 2025-02-24 03:47:42,858] Trial 39 finished with value: 0.7350908293794373 and parameters: {'num_iterations': 2309, 'objective': 'binary', 'metric': 'auc', 'verbose': -1, 'learning_rate': 0.0059945324633645155, 'n_estimators': 1512, 'min_child_samples': 15, 'subsample': 0.7, 'colsample_bytree': 0.9}. Best is trial 22 with value: 0.7352615386922391.\n"
     ]
    },
    {
     "name": "stdout",
     "output_type": "stream",
     "text": [
      "Cat val score : 0.7355615368988104\n",
      "LGBM val score : 0.735136800881903\n",
      "Ensemble val score : 0.7357865613670393\n"
     ]
    },
    {
     "name": "stderr",
     "output_type": "stream",
     "text": [
      "[I 2025-02-24 03:48:07,539] A new study created in memory with name: no-name-6288cdbb-0196-4ba1-9e23-bc30175898d1\n"
     ]
    },
    {
     "name": "stdout",
     "output_type": "stream",
     "text": [
      "==================================================\n",
      "0:\ttest: 0.7268883\tbest: 0.7268883 (0)\ttotal: 156ms\tremaining: 6m 9s\n",
      "300:\ttest: 0.7400330\tbest: 0.7400330 (300)\ttotal: 41.1s\tremaining: 4m 42s\n",
      "600:\ttest: 0.7416386\tbest: 0.7416389 (598)\ttotal: 1m 25s\tremaining: 4m 9s\n",
      "900:\ttest: 0.7422729\tbest: 0.7422748 (894)\ttotal: 2m 7s\tremaining: 3m 26s\n",
      "1200:\ttest: 0.7425285\tbest: 0.7425397 (1186)\ttotal: 2m 51s\tremaining: 2m 46s\n",
      "1500:\ttest: 0.7426616\tbest: 0.7426625 (1486)\ttotal: 3m 40s\tremaining: 2m 7s\n",
      "1800:\ttest: 0.7425676\tbest: 0.7426763 (1509)\ttotal: 4m 32s\tremaining: 1m 25s\n"
     ]
    },
    {
     "name": "stderr",
     "output_type": "stream",
     "text": [
      "[I 2025-02-24 03:52:41,930] Trial 0 finished with value: 0.7426762742235387 and parameters: {'iterations': 2366, 'depth': 10, 'learning_rate': 0.01181021951839225, 'l2_leaf_reg': 9.980783802743254}. Best is trial 0 with value: 0.7426762742235387.\n"
     ]
    },
    {
     "name": "stdout",
     "output_type": "stream",
     "text": [
      "Stopped by overfitting detector  (300 iterations wait)\n",
      "\n",
      "bestTest = 0.7426762742\n",
      "bestIteration = 1509\n",
      "\n",
      "Shrink model to first 1510 iterations.\n",
      "저장 완료\n",
      "0:\ttest: 0.7010484\tbest: 0.7010484 (0)\ttotal: 59.1ms\tremaining: 2m 9s\n",
      "300:\ttest: 0.7295478\tbest: 0.7295478 (300)\ttotal: 13.6s\tremaining: 1m 25s\n"
     ]
    },
    {
     "name": "stderr",
     "output_type": "stream",
     "text": [
      "Training has stopped (degenerate solution on iteration 412, probably too small l2-regularization, try to increase it)\n",
      "[I 2025-02-24 03:53:00,686] Trial 1 finished with value: 0.7319391485038858 and parameters: {'iterations': 2193, 'depth': 4, 'learning_rate': 0.005671430811678843, 'l2_leaf_reg': 0.00012325230809466137}. Best is trial 0 with value: 0.7426762742235387.\n"
     ]
    },
    {
     "name": "stdout",
     "output_type": "stream",
     "text": [
      "\n",
      "bestTest = 0.7319391485\n",
      "bestIteration = 411\n",
      "\n",
      "Shrink model to first 412 iterations.\n",
      "0:\ttest: 0.7010484\tbest: 0.7010484 (0)\ttotal: 58.8ms\tremaining: 2m 29s\n",
      "300:\ttest: 0.7416046\tbest: 0.7416186 (295)\ttotal: 14.6s\tremaining: 1m 48s\n",
      "600:\ttest: 0.7414909\tbest: 0.7418384 (377)\ttotal: 29.8s\tremaining: 1m 35s\n"
     ]
    },
    {
     "name": "stderr",
     "output_type": "stream",
     "text": [
      "[I 2025-02-24 03:53:34,629] Trial 2 finished with value: 0.7418383586057724 and parameters: {'iterations': 2535, 'depth': 4, 'learning_rate': 0.09275339199839054, 'l2_leaf_reg': 0.0008705394248343123}. Best is trial 0 with value: 0.7426762742235387.\n"
     ]
    },
    {
     "name": "stdout",
     "output_type": "stream",
     "text": [
      "Stopped by overfitting detector  (300 iterations wait)\n",
      "\n",
      "bestTest = 0.7418383586\n",
      "bestIteration = 377\n",
      "\n",
      "Shrink model to first 378 iterations.\n",
      "0:\ttest: 0.7010484\tbest: 0.7010484 (0)\ttotal: 52.2ms\tremaining: 2m 1s\n",
      "300:\ttest: 0.7405382\tbest: 0.7405382 (300)\ttotal: 13.8s\tremaining: 1m 33s\n",
      "600:\ttest: 0.7412925\tbest: 0.7413406 (566)\ttotal: 29s\tremaining: 1m 23s\n",
      "900:\ttest: 0.7414228\tbest: 0.7414676 (875)\ttotal: 44.2s\tremaining: 1m 10s\n"
     ]
    },
    {
     "name": "stderr",
     "output_type": "stream",
     "text": [
      "[I 2025-02-24 03:54:33,541] Trial 3 finished with value: 0.7414676438697947 and parameters: {'iterations': 2334, 'depth': 4, 'learning_rate': 0.04657568321363276, 'l2_leaf_reg': 0.0008640473331457248}. Best is trial 0 with value: 0.7426762742235387.\n"
     ]
    },
    {
     "name": "stdout",
     "output_type": "stream",
     "text": [
      "Stopped by overfitting detector  (300 iterations wait)\n",
      "\n",
      "bestTest = 0.7414676439\n",
      "bestIteration = 875\n",
      "\n",
      "Shrink model to first 876 iterations.\n",
      "0:\ttest: 0.7269335\tbest: 0.7269335 (0)\ttotal: 139ms\tremaining: 4m 1s\n",
      "300:\ttest: 0.7392679\tbest: 0.7392718 (299)\ttotal: 38.6s\tremaining: 3m 4s\n",
      "600:\ttest: 0.7405633\tbest: 0.7405633 (600)\ttotal: 1m 21s\tremaining: 2m 34s\n",
      "900:\ttest: 0.7406281\tbest: 0.7407402 (879)\ttotal: 2m 4s\tremaining: 1m 56s\n"
     ]
    },
    {
     "name": "stderr",
     "output_type": "stream",
     "text": [
      "[I 2025-02-24 03:57:18,786] Trial 4 finished with value: 0.7407402091779611 and parameters: {'iterations': 1742, 'depth': 10, 'learning_rate': 0.012622767482095846, 'l2_leaf_reg': 0.00021158816350109617}. Best is trial 0 with value: 0.7426762742235387.\n"
     ]
    },
    {
     "name": "stdout",
     "output_type": "stream",
     "text": [
      "Stopped by overfitting detector  (300 iterations wait)\n",
      "\n",
      "bestTest = 0.7407402092\n",
      "bestIteration = 879\n",
      "\n",
      "Shrink model to first 880 iterations.\n",
      "0:\ttest: 0.7010484\tbest: 0.7010484 (0)\ttotal: 61.4ms\tremaining: 2m 7s\n",
      "300:\ttest: 0.7410875\tbest: 0.7411012 (293)\ttotal: 14.5s\tremaining: 1m 25s\n",
      "600:\ttest: 0.7416592\tbest: 0.7417743 (584)\ttotal: 29.8s\tremaining: 1m 13s\n"
     ]
    },
    {
     "name": "stderr",
     "output_type": "stream",
     "text": [
      "[I 2025-02-24 03:58:03,057] Trial 5 finished with value: 0.7417743098504365 and parameters: {'iterations': 2082, 'depth': 4, 'learning_rate': 0.06995196593094148, 'l2_leaf_reg': 0.0018080296485396804}. Best is trial 0 with value: 0.7426762742235387.\n"
     ]
    },
    {
     "name": "stdout",
     "output_type": "stream",
     "text": [
      "Stopped by overfitting detector  (300 iterations wait)\n",
      "\n",
      "bestTest = 0.7417743099\n",
      "bestIteration = 584\n",
      "\n",
      "Shrink model to first 585 iterations.\n",
      "0:\ttest: 0.7047188\tbest: 0.7047188 (0)\ttotal: 66.3ms\tremaining: 2m 12s\n",
      "300:\ttest: 0.7421497\tbest: 0.7421497 (300)\ttotal: 18s\tremaining: 1m 41s\n",
      "600:\ttest: 0.7426092\tbest: 0.7426387 (588)\ttotal: 36.9s\tremaining: 1m 25s\n"
     ]
    },
    {
     "name": "stderr",
     "output_type": "stream",
     "text": [
      "[I 2025-02-24 03:58:58,721] Trial 6 finished with value: 0.7426386741729732 and parameters: {'iterations': 1997, 'depth': 5, 'learning_rate': 0.07985155992831598, 'l2_leaf_reg': 62.52181000710482}. Best is trial 0 with value: 0.7426762742235387.\n"
     ]
    },
    {
     "name": "stdout",
     "output_type": "stream",
     "text": [
      "Stopped by overfitting detector  (300 iterations wait)\n",
      "\n",
      "bestTest = 0.7426386742\n",
      "bestIteration = 588\n",
      "\n",
      "Shrink model to first 589 iterations.\n",
      "0:\ttest: 0.7221493\tbest: 0.7221493 (0)\ttotal: 153ms\tremaining: 4m 55s\n",
      "300:\ttest: 0.7410558\tbest: 0.7418586 (155)\ttotal: 25.2s\tremaining: 2m 16s\n"
     ]
    },
    {
     "name": "stderr",
     "output_type": "stream",
     "text": [
      "[I 2025-02-24 03:59:37,929] Trial 7 finished with value: 0.7418585724056644 and parameters: {'iterations': 1927, 'depth': 7, 'learning_rate': 0.0941937211034094, 'l2_leaf_reg': 0.05654822767791934}. Best is trial 0 with value: 0.7426762742235387.\n"
     ]
    },
    {
     "name": "stdout",
     "output_type": "stream",
     "text": [
      "Stopped by overfitting detector  (300 iterations wait)\n",
      "\n",
      "bestTest = 0.7418585724\n",
      "bestIteration = 155\n",
      "\n",
      "Shrink model to first 156 iterations.\n",
      "0:\ttest: 0.7221481\tbest: 0.7221481 (0)\ttotal: 85.5ms\tremaining: 2m 42s\n",
      "300:\ttest: 0.7419082\tbest: 0.7419479 (283)\ttotal: 24.6s\tremaining: 2m 10s\n",
      "600:\ttest: 0.7418197\tbest: 0.7421025 (406)\ttotal: 51.2s\tremaining: 1m 50s\n"
     ]
    },
    {
     "name": "stderr",
     "output_type": "stream",
     "text": [
      "[I 2025-02-24 04:00:39,068] Trial 8 finished with value: 0.742102472353439 and parameters: {'iterations': 1904, 'depth': 7, 'learning_rate': 0.05155602859187331, 'l2_leaf_reg': 1.299974533316308}. Best is trial 0 with value: 0.7426762742235387.\n"
     ]
    },
    {
     "name": "stdout",
     "output_type": "stream",
     "text": [
      "Stopped by overfitting detector  (300 iterations wait)\n",
      "\n",
      "bestTest = 0.7421024724\n",
      "bestIteration = 406\n",
      "\n",
      "Shrink model to first 407 iterations.\n",
      "0:\ttest: 0.7209999\tbest: 0.7209999 (0)\ttotal: 75ms\tremaining: 3m 17s\n",
      "300:\ttest: 0.7412837\tbest: 0.7412837 (300)\ttotal: 21.2s\tremaining: 2m 44s\n",
      "600:\ttest: 0.7422199\tbest: 0.7422256 (584)\ttotal: 45.5s\tremaining: 2m 34s\n",
      "900:\ttest: 0.7421946\tbest: 0.7423030 (680)\ttotal: 1m 9s\tremaining: 2m 13s\n"
     ]
    },
    {
     "name": "stderr",
     "output_type": "stream",
     "text": [
      "[I 2025-02-24 04:01:55,190] Trial 9 finished with value: 0.7423029821287929 and parameters: {'iterations': 2639, 'depth': 6, 'learning_rate': 0.03968704290444751, 'l2_leaf_reg': 0.30557194377967184}. Best is trial 0 with value: 0.7426762742235387.\n"
     ]
    },
    {
     "name": "stdout",
     "output_type": "stream",
     "text": [
      "Stopped by overfitting detector  (300 iterations wait)\n",
      "\n",
      "bestTest = 0.7423029821\n",
      "bestIteration = 680\n",
      "\n",
      "Shrink model to first 681 iterations.\n",
      "0:\ttest: 0.7258122\tbest: 0.7258122 (0)\ttotal: 143ms\tremaining: 7m 2s\n",
      "300:\ttest: 0.7419191\tbest: 0.7419215 (298)\ttotal: 41.4s\tremaining: 6m 3s\n",
      "600:\ttest: 0.7427010\tbest: 0.7427017 (599)\ttotal: 1m 26s\tremaining: 5m 35s\n",
      "900:\ttest: 0.7426967\tbest: 0.7427943 (756)\ttotal: 2m 23s\tremaining: 5m 26s\n"
     ]
    },
    {
     "name": "stderr",
     "output_type": "stream",
     "text": [
      "[I 2025-02-24 04:04:50,317] Trial 10 finished with value: 0.7427943442598042 and parameters: {'iterations': 2945, 'depth': 10, 'learning_rate': 0.025911330134996406, 'l2_leaf_reg': 97.18545559492516}. Best is trial 10 with value: 0.7427943442598042.\n"
     ]
    },
    {
     "name": "stdout",
     "output_type": "stream",
     "text": [
      "Stopped by overfitting detector  (300 iterations wait)\n",
      "\n",
      "bestTest = 0.7427943443\n",
      "bestIteration = 756\n",
      "\n",
      "Shrink model to first 757 iterations.\n",
      "저장 완료\n",
      "0:\ttest: 0.7258745\tbest: 0.7258745 (0)\ttotal: 146ms\tremaining: 7m 17s\n",
      "300:\ttest: 0.7418691\tbest: 0.7418691 (300)\ttotal: 44.3s\tremaining: 6m 36s\n",
      "600:\ttest: 0.7426617\tbest: 0.7426677 (597)\ttotal: 1m 33s\tremaining: 6m 10s\n",
      "900:\ttest: 0.7428996\tbest: 0.7429009 (898)\ttotal: 2m 31s\tremaining: 5m 52s\n",
      "1200:\ttest: 0.7430029\tbest: 0.7430086 (1181)\ttotal: 3m 33s\tremaining: 5m 18s\n"
     ]
    },
    {
     "name": "stderr",
     "output_type": "stream",
     "text": [
      "[I 2025-02-24 04:09:18,341] Trial 11 finished with value: 0.7430085906822754 and parameters: {'iterations': 2995, 'depth': 10, 'learning_rate': 0.026163874004606635, 'l2_leaf_reg': 73.1213351392818}. Best is trial 11 with value: 0.7430085906822754.\n"
     ]
    },
    {
     "name": "stdout",
     "output_type": "stream",
     "text": [
      "Stopped by overfitting detector  (300 iterations wait)\n",
      "\n",
      "bestTest = 0.7430085907\n",
      "bestIteration = 1181\n",
      "\n",
      "Shrink model to first 1182 iterations.\n",
      "저장 완료\n",
      "0:\ttest: 0.7213636\tbest: 0.7213636 (0)\ttotal: 122ms\tremaining: 5m 52s\n",
      "300:\ttest: 0.7416698\tbest: 0.7416698 (300)\ttotal: 32.2s\tremaining: 4m 37s\n",
      "600:\ttest: 0.7425606\tbest: 0.7425606 (600)\ttotal: 1m 4s\tremaining: 4m 4s\n",
      "900:\ttest: 0.7428051\tbest: 0.7428144 (886)\ttotal: 1m 40s\tremaining: 3m 42s\n",
      "1200:\ttest: 0.7428812\tbest: 0.7429115 (1153)\ttotal: 2m 15s\tremaining: 3m 11s\n",
      "1500:\ttest: 0.7428820\tbest: 0.7429559 (1391)\ttotal: 2m 51s\tremaining: 2m 39s\n"
     ]
    },
    {
     "name": "stderr",
     "output_type": "stream",
     "text": [
      "[I 2025-02-24 04:12:33,758] Trial 12 finished with value: 0.7429559275780772 and parameters: {'iterations': 2897, 'depth': 9, 'learning_rate': 0.02806616524326411, 'l2_leaf_reg': 87.13438924619796}. Best is trial 11 with value: 0.7430085906822754.\n"
     ]
    },
    {
     "name": "stdout",
     "output_type": "stream",
     "text": [
      "Stopped by overfitting detector  (300 iterations wait)\n",
      "\n",
      "bestTest = 0.7429559276\n",
      "bestIteration = 1391\n",
      "\n",
      "Shrink model to first 1392 iterations.\n",
      "0:\ttest: 0.7226836\tbest: 0.7226836 (0)\ttotal: 131ms\tremaining: 6m 30s\n",
      "300:\ttest: 0.7422529\tbest: 0.7422529 (300)\ttotal: 31.1s\tremaining: 4m 35s\n",
      "600:\ttest: 0.7431519\tbest: 0.7432258 (567)\ttotal: 1m 5s\tremaining: 4m 18s\n"
     ]
    },
    {
     "name": "stderr",
     "output_type": "stream",
     "text": [
      "[I 2025-02-24 04:14:11,574] Trial 13 finished with value: 0.74322580364866 and parameters: {'iterations': 2975, 'depth': 9, 'learning_rate': 0.02991325011301619, 'l2_leaf_reg': 6.51790052016232}. Best is trial 13 with value: 0.74322580364866.\n"
     ]
    },
    {
     "name": "stdout",
     "output_type": "stream",
     "text": [
      "Stopped by overfitting detector  (300 iterations wait)\n",
      "\n",
      "bestTest = 0.7432258036\n",
      "bestIteration = 567\n",
      "\n",
      "Shrink model to first 568 iterations.\n",
      "저장 완료\n",
      "0:\ttest: 0.7221392\tbest: 0.7221392 (0)\ttotal: 102ms\tremaining: 4m 40s\n",
      "300:\ttest: 0.7415489\tbest: 0.7415489 (300)\ttotal: 30.7s\tremaining: 4m 10s\n",
      "600:\ttest: 0.7426064\tbest: 0.7426151 (578)\ttotal: 1m 1s\tremaining: 3m 40s\n",
      "900:\ttest: 0.7425240\tbest: 0.7426604 (748)\ttotal: 1m 33s\tremaining: 3m 12s\n"
     ]
    },
    {
     "name": "stderr",
     "output_type": "stream",
     "text": [
      "[I 2025-02-24 04:16:01,630] Trial 14 finished with value: 0.7426604486847234 and parameters: {'iterations': 2754, 'depth': 8, 'learning_rate': 0.030373980283948276, 'l2_leaf_reg': 7.23581953055629}. Best is trial 13 with value: 0.74322580364866.\n"
     ]
    },
    {
     "name": "stdout",
     "output_type": "stream",
     "text": [
      "Stopped by overfitting detector  (300 iterations wait)\n",
      "\n",
      "bestTest = 0.7426604487\n",
      "bestIteration = 748\n",
      "\n",
      "Shrink model to first 749 iterations.\n",
      "0:\ttest: 0.7226733\tbest: 0.7226733 (0)\ttotal: 117ms\tremaining: 2m 56s\n",
      "300:\ttest: 0.7420284\tbest: 0.7422624 (265)\ttotal: 33.6s\tremaining: 2m 15s\n"
     ]
    },
    {
     "name": "stderr",
     "output_type": "stream",
     "text": [
      "[I 2025-02-24 04:17:08,038] Trial 15 finished with value: 0.742262387735375 and parameters: {'iterations': 1513, 'depth': 9, 'learning_rate': 0.06272738732962457, 'l2_leaf_reg': 8.66034203066278}. Best is trial 13 with value: 0.74322580364866.\n"
     ]
    },
    {
     "name": "stdout",
     "output_type": "stream",
     "text": [
      "Stopped by overfitting detector  (300 iterations wait)\n",
      "\n",
      "bestTest = 0.7422623877\n",
      "bestIteration = 265\n",
      "\n",
      "Shrink model to first 266 iterations.\n",
      "0:\ttest: 0.7226853\tbest: 0.7226853 (0)\ttotal: 118ms\tremaining: 5m 48s\n",
      "300:\ttest: 0.7417559\tbest: 0.7419015 (270)\ttotal: 31.6s\tremaining: 4m 40s\n"
     ]
    },
    {
     "name": "stderr",
     "output_type": "stream",
     "text": [
      "[I 2025-02-24 04:18:11,581] Trial 16 finished with value: 0.741901466168461 and parameters: {'iterations': 2965, 'depth': 9, 'learning_rate': 0.03797914335914334, 'l2_leaf_reg': 0.03562900678874207}. Best is trial 13 with value: 0.74322580364866.\n"
     ]
    },
    {
     "name": "stdout",
     "output_type": "stream",
     "text": [
      "Stopped by overfitting detector  (300 iterations wait)\n",
      "\n",
      "bestTest = 0.7419014662\n",
      "bestIteration = 270\n",
      "\n",
      "Shrink model to first 271 iterations.\n",
      "0:\ttest: 0.7221412\tbest: 0.7221412 (0)\ttotal: 96.2ms\tremaining: 4m 23s\n",
      "300:\ttest: 0.7407487\tbest: 0.7407532 (299)\ttotal: 27.5s\tremaining: 3m 42s\n",
      "600:\ttest: 0.7421356\tbest: 0.7421816 (592)\ttotal: 55s\tremaining: 3m 15s\n",
      "900:\ttest: 0.7425431\tbest: 0.7425501 (897)\ttotal: 1m 25s\tremaining: 2m 55s\n",
      "1200:\ttest: 0.7426487\tbest: 0.7427254 (1161)\ttotal: 1m 57s\tremaining: 2m 30s\n"
     ]
    },
    {
     "name": "stderr",
     "output_type": "stream",
     "text": [
      "[I 2025-02-24 04:20:36,805] Trial 17 finished with value: 0.7427254108337675 and parameters: {'iterations': 2739, 'depth': 8, 'learning_rate': 0.020808766182702852, 'l2_leaf_reg': 1.0786964460598871}. Best is trial 13 with value: 0.74322580364866.\n"
     ]
    },
    {
     "name": "stdout",
     "output_type": "stream",
     "text": [
      "Stopped by overfitting detector  (300 iterations wait)\n",
      "\n",
      "bestTest = 0.7427254108\n",
      "bestIteration = 1161\n",
      "\n",
      "Shrink model to first 1162 iterations.\n",
      "0:\ttest: 0.7221373\tbest: 0.7221373 (0)\ttotal: 97.2ms\tremaining: 4m 5s\n",
      "300:\ttest: 0.7426648\tbest: 0.7427060 (291)\ttotal: 27.8s\tremaining: 3m 25s\n",
      "600:\ttest: 0.7424461\tbest: 0.7427672 (400)\ttotal: 58.3s\tremaining: 3m 6s\n"
     ]
    },
    {
     "name": "stderr",
     "output_type": "stream",
     "text": [
      "[I 2025-02-24 04:21:45,679] Trial 18 finished with value: 0.7427671727826213 and parameters: {'iterations': 2524, 'depth': 8, 'learning_rate': 0.05970016430294879, 'l2_leaf_reg': 17.72045110479989}. Best is trial 13 with value: 0.74322580364866.\n"
     ]
    },
    {
     "name": "stdout",
     "output_type": "stream",
     "text": [
      "Stopped by overfitting detector  (300 iterations wait)\n",
      "\n",
      "bestTest = 0.7427671728\n",
      "bestIteration = 400\n",
      "\n",
      "Shrink model to first 401 iterations.\n",
      "0:\ttest: 0.7226811\tbest: 0.7226811 (0)\ttotal: 121ms\tremaining: 5m 40s\n",
      "300:\ttest: 0.7420472\tbest: 0.7420558 (273)\ttotal: 32.2s\tremaining: 4m 27s\n",
      "600:\ttest: 0.7420553\tbest: 0.7424167 (370)\ttotal: 1m 7s\tremaining: 4m 8s\n"
     ]
    },
    {
     "name": "stderr",
     "output_type": "stream",
     "text": [
      "[I 2025-02-24 04:23:01,980] Trial 19 finished with value: 0.7424166917029206 and parameters: {'iterations': 2809, 'depth': 9, 'learning_rate': 0.03689499993250822, 'l2_leaf_reg': 1.542996333897484}. Best is trial 13 with value: 0.74322580364866.\n",
      "[I 2025-02-24 04:23:01,984] A new study created in memory with name: no-name-f464877b-7967-4225-af4f-25b8fa12ed75\n"
     ]
    },
    {
     "name": "stdout",
     "output_type": "stream",
     "text": [
      "Stopped by overfitting detector  (300 iterations wait)\n",
      "\n",
      "bestTest = 0.7424166917\n",
      "bestIteration = 370\n",
      "\n",
      "Shrink model to first 371 iterations.\n"
     ]
    },
    {
     "name": "stderr",
     "output_type": "stream",
     "text": [
      "[I 2025-02-24 04:23:25,918] Trial 0 finished with value: 0.7331653398444908 and parameters: {'num_iterations': 2366, 'objective': 'binary', 'metric': 'auc', 'verbose': -1, 'learning_rate': 0.0652646236447618, 'n_estimators': 236, 'min_child_samples': 45, 'subsample': 0.7, 'colsample_bytree': 0.5}. Best is trial 0 with value: 0.7331653398444908.\n",
      "[I 2025-02-24 04:23:43,557] Trial 1 finished with value: 0.742477754057958 and parameters: {'num_iterations': 1510, 'objective': 'binary', 'metric': 'auc', 'verbose': -1, 'learning_rate': 0.005231880959249543, 'n_estimators': 1411, 'min_child_samples': 10, 'subsample': 1.0, 'colsample_bytree': 0.5}. Best is trial 1 with value: 0.742477754057958.\n",
      "[I 2025-02-24 04:24:03,669] Trial 2 finished with value: 0.7421349335715761 and parameters: {'num_iterations': 2334, 'objective': 'binary', 'metric': 'auc', 'verbose': -1, 'learning_rate': 0.006578527777128852, 'n_estimators': 931, 'min_child_samples': 15, 'subsample': 0.5, 'colsample_bytree': 1.0}. Best is trial 1 with value: 0.742477754057958.\n",
      "[I 2025-02-24 04:24:20,239] Trial 3 finished with value: 0.7424648474077322 and parameters: {'num_iterations': 1620, 'objective': 'binary', 'metric': 'auc', 'verbose': -1, 'learning_rate': 0.0058823249237283685, 'n_estimators': 837, 'min_child_samples': 10, 'subsample': 0.9, 'colsample_bytree': 0.6}. Best is trial 1 with value: 0.742477754057958.\n",
      "[I 2025-02-24 04:24:36,722] Trial 4 finished with value: 0.7424381087997414 and parameters: {'num_iterations': 1997, 'objective': 'binary', 'metric': 'auc', 'verbose': -1, 'learning_rate': 0.010907507425244923, 'n_estimators': 1597, 'min_child_samples': 50, 'subsample': 0.6, 'colsample_bytree': 0.8}. Best is trial 1 with value: 0.742477754057958.\n",
      "[I 2025-02-24 04:24:59,503] Trial 5 finished with value: 0.7395930144792918 and parameters: {'num_iterations': 2909, 'objective': 'binary', 'metric': 'auc', 'verbose': -1, 'learning_rate': 0.019760591962733942, 'n_estimators': 612, 'min_child_samples': 30, 'subsample': 0.7, 'colsample_bytree': 0.9}. Best is trial 1 with value: 0.742477754057958.\n",
      "[I 2025-02-24 04:25:20,221] Trial 6 finished with value: 0.7397894219255124 and parameters: {'num_iterations': 2639, 'objective': 'binary', 'metric': 'auc', 'verbose': -1, 'learning_rate': 0.017862094446750985, 'n_estimators': 794, 'min_child_samples': 35, 'subsample': 1.0, 'colsample_bytree': 0.8}. Best is trial 1 with value: 0.742477754057958.\n",
      "[I 2025-02-24 04:25:37,121] Trial 7 finished with value: 0.7417106423376919 and parameters: {'num_iterations': 1580, 'objective': 'binary', 'metric': 'auc', 'verbose': -1, 'learning_rate': 0.01776722177611332, 'n_estimators': 529, 'min_child_samples': 25, 'subsample': 0.8, 'colsample_bytree': 0.5}. Best is trial 1 with value: 0.742477754057958.\n",
      "[I 2025-02-24 04:25:54,721] Trial 8 finished with value: 0.7392309730122658 and parameters: {'num_iterations': 1911, 'objective': 'binary', 'metric': 'auc', 'verbose': -1, 'learning_rate': 0.0304747553332844, 'n_estimators': 1328, 'min_child_samples': 10, 'subsample': 0.7, 'colsample_bytree': 0.6}. Best is trial 1 with value: 0.742477754057958.\n",
      "[I 2025-02-24 04:26:23,075] Trial 9 finished with value: 0.7389823035608233 and parameters: {'num_iterations': 2739, 'objective': 'binary', 'metric': 'auc', 'verbose': -1, 'learning_rate': 0.02691531614176271, 'n_estimators': 1438, 'min_child_samples': 20, 'subsample': 0.6, 'colsample_bytree': 0.5}. Best is trial 1 with value: 0.742477754057958.\n",
      "[I 2025-02-24 04:26:37,931] Trial 10 finished with value: 0.7316321608498075 and parameters: {'num_iterations': 1933, 'objective': 'binary', 'metric': 'auc', 'verbose': -1, 'learning_rate': 0.08223556891145911, 'n_estimators': 1960, 'min_child_samples': 40, 'subsample': 1.0, 'colsample_bytree': 0.7}. Best is trial 1 with value: 0.742477754057958.\n",
      "[I 2025-02-24 04:26:53,511] Trial 11 finished with value: 0.7423628173592396 and parameters: {'num_iterations': 1513, 'objective': 'binary', 'metric': 'auc', 'verbose': -1, 'learning_rate': 0.005340229419903739, 'n_estimators': 1206, 'min_child_samples': 10, 'subsample': 0.9, 'colsample_bytree': 0.6}. Best is trial 1 with value: 0.742477754057958.\n",
      "[I 2025-02-24 04:27:10,156] Trial 12 finished with value: 0.7429221717236405 and parameters: {'num_iterations': 1698, 'objective': 'binary', 'metric': 'auc', 'verbose': -1, 'learning_rate': 0.008515343845233947, 'n_estimators': 1719, 'min_child_samples': 20, 'subsample': 0.9, 'colsample_bytree': 0.6}. Best is trial 12 with value: 0.7429221717236405.\n",
      "[I 2025-02-24 04:27:25,241] Trial 13 finished with value: 0.7426505641762889 and parameters: {'num_iterations': 1777, 'objective': 'binary', 'metric': 'auc', 'verbose': -1, 'learning_rate': 0.010074542479113706, 'n_estimators': 1797, 'min_child_samples': 20, 'subsample': 0.9, 'colsample_bytree': 0.7}. Best is trial 12 with value: 0.7429221717236405.\n",
      "[I 2025-02-24 04:27:40,399] Trial 14 finished with value: 0.7428005791646826 and parameters: {'num_iterations': 1770, 'objective': 'binary', 'metric': 'auc', 'verbose': -1, 'learning_rate': 0.00982309544293683, 'n_estimators': 1831, 'min_child_samples': 20, 'subsample': 0.9, 'colsample_bytree': 0.7}. Best is trial 12 with value: 0.7429221717236405.\n",
      "[I 2025-02-24 04:27:58,352] Trial 15 finished with value: 0.7426761114011821 and parameters: {'num_iterations': 2142, 'objective': 'binary', 'metric': 'auc', 'verbose': -1, 'learning_rate': 0.00998444149699808, 'n_estimators': 1716, 'min_child_samples': 25, 'subsample': 0.8, 'colsample_bytree': 0.7}. Best is trial 12 with value: 0.7429221717236405.\n",
      "[I 2025-02-24 04:28:13,155] Trial 16 finished with value: 0.7423385250578762 and parameters: {'num_iterations': 1788, 'objective': 'binary', 'metric': 'auc', 'verbose': -1, 'learning_rate': 0.012718126141614291, 'n_estimators': 1981, 'min_child_samples': 20, 'subsample': 0.9, 'colsample_bytree': 0.8}. Best is trial 12 with value: 0.7429221717236405.\n",
      "[I 2025-02-24 04:28:32,560] Trial 17 finished with value: 0.7370494830485486 and parameters: {'num_iterations': 2117, 'objective': 'binary', 'metric': 'auc', 'verbose': -1, 'learning_rate': 0.041730041361560256, 'n_estimators': 1633, 'min_child_samples': 25, 'subsample': 0.8, 'colsample_bytree': 0.6}. Best is trial 12 with value: 0.7429221717236405.\n",
      "[I 2025-02-24 04:28:47,663] Trial 18 finished with value: 0.7425434151517529 and parameters: {'num_iterations': 1734, 'objective': 'binary', 'metric': 'auc', 'verbose': -1, 'learning_rate': 0.008173990147929236, 'n_estimators': 1174, 'min_child_samples': 30, 'subsample': 0.9, 'colsample_bytree': 0.7}. Best is trial 12 with value: 0.7429221717236405.\n",
      "[I 2025-02-24 04:29:07,639] Trial 19 finished with value: 0.7406898930984654 and parameters: {'num_iterations': 2481, 'objective': 'binary', 'metric': 'auc', 'verbose': -1, 'learning_rate': 0.012692631466679956, 'n_estimators': 1792, 'min_child_samples': 15, 'subsample': 1.0, 'colsample_bytree': 0.9}. Best is trial 12 with value: 0.7429221717236405.\n",
      "[I 2025-02-24 04:29:27,883] Trial 20 finished with value: 0.7428076718653912 and parameters: {'num_iterations': 2075, 'objective': 'binary', 'metric': 'auc', 'verbose': -1, 'learning_rate': 0.00769206079489476, 'n_estimators': 1511, 'min_child_samples': 30, 'subsample': 0.8, 'colsample_bytree': 0.6}. Best is trial 12 with value: 0.7429221717236405.\n",
      "[I 2025-02-24 04:29:48,347] Trial 21 finished with value: 0.7427740073503254 and parameters: {'num_iterations': 2111, 'objective': 'binary', 'metric': 'auc', 'verbose': -1, 'learning_rate': 0.0081693233439849, 'n_estimators': 1548, 'min_child_samples': 30, 'subsample': 0.8, 'colsample_bytree': 0.6}. Best is trial 12 with value: 0.7429221717236405.\n",
      "[I 2025-02-24 04:30:06,035] Trial 22 finished with value: 0.7427696151179717 and parameters: {'num_iterations': 1707, 'objective': 'binary', 'metric': 'auc', 'verbose': -1, 'learning_rate': 0.007247463874063551, 'n_estimators': 1888, 'min_child_samples': 35, 'subsample': 0.9, 'colsample_bytree': 0.6}. Best is trial 12 with value: 0.7429221717236405.\n",
      "[I 2025-02-24 04:30:22,600] Trial 23 finished with value: 0.7417477022945864 and parameters: {'num_iterations': 1860, 'objective': 'binary', 'metric': 'auc', 'verbose': -1, 'learning_rate': 0.015516492217097957, 'n_estimators': 1504, 'min_child_samples': 15, 'subsample': 0.8, 'colsample_bytree': 0.7}. Best is trial 12 with value: 0.7429221717236405.\n",
      "[I 2025-02-24 04:30:43,597] Trial 24 finished with value: 0.7427483052456296 and parameters: {'num_iterations': 2039, 'objective': 'binary', 'metric': 'auc', 'verbose': -1, 'learning_rate': 0.008347388277691745, 'n_estimators': 1252, 'min_child_samples': 20, 'subsample': 0.9, 'colsample_bytree': 0.6}. Best is trial 12 with value: 0.7429221717236405.\n",
      "[I 2025-02-24 04:31:02,814] Trial 25 finished with value: 0.7419881234037154 and parameters: {'num_iterations': 2218, 'objective': 'binary', 'metric': 'auc', 'verbose': -1, 'learning_rate': 0.012904075935066286, 'n_estimators': 1696, 'min_child_samples': 35, 'subsample': 0.8, 'colsample_bytree': 0.7}. Best is trial 12 with value: 0.7429221717236405.\n",
      "[I 2025-02-24 04:31:23,466] Trial 26 finished with value: 0.7412048287297046 and parameters: {'num_iterations': 1863, 'objective': 'binary', 'metric': 'auc', 'verbose': -1, 'learning_rate': 0.02441070118295791, 'n_estimators': 1073, 'min_child_samples': 25, 'subsample': 1.0, 'colsample_bytree': 0.5}. Best is trial 12 with value: 0.7429221717236405.\n",
      "[I 2025-02-24 04:31:39,186] Trial 27 finished with value: 0.7423783013682336 and parameters: {'num_iterations': 1648, 'objective': 'binary', 'metric': 'auc', 'verbose': -1, 'learning_rate': 0.006734746938544164, 'n_estimators': 1871, 'min_child_samples': 40, 'subsample': 0.7, 'colsample_bytree': 0.8}. Best is trial 12 with value: 0.7429221717236405.\n",
      "[I 2025-02-24 04:31:58,430] Trial 28 finished with value: 0.7380811294718426 and parameters: {'num_iterations': 1983, 'objective': 'binary', 'metric': 'auc', 'verbose': -1, 'learning_rate': 0.03898130569041551, 'n_estimators': 1389, 'min_child_samples': 15, 'subsample': 0.9, 'colsample_bytree': 0.6}. Best is trial 12 with value: 0.7429221717236405.\n",
      "[I 2025-02-24 04:32:25,766] Trial 29 finished with value: 0.7425722505939958 and parameters: {'num_iterations': 2362, 'objective': 'binary', 'metric': 'auc', 'verbose': -1, 'learning_rate': 0.009521830831009522, 'n_estimators': 315, 'min_child_samples': 30, 'subsample': 0.6, 'colsample_bytree': 0.5}. Best is trial 12 with value: 0.7429221717236405.\n",
      "[I 2025-02-24 04:32:45,078] Trial 30 finished with value: 0.7408966774914676 and parameters: {'num_iterations': 2212, 'objective': 'binary', 'metric': 'auc', 'verbose': -1, 'learning_rate': 0.014459079939360634, 'n_estimators': 104, 'min_child_samples': 45, 'subsample': 0.8, 'colsample_bytree': 0.9}. Best is trial 12 with value: 0.7429221717236405.\n",
      "[I 2025-02-24 04:33:06,117] Trial 31 finished with value: 0.7426344566768072 and parameters: {'num_iterations': 2053, 'objective': 'binary', 'metric': 'auc', 'verbose': -1, 'learning_rate': 0.00804160328905249, 'n_estimators': 1559, 'min_child_samples': 30, 'subsample': 0.8, 'colsample_bytree': 0.6}. Best is trial 12 with value: 0.7429221717236405.\n",
      "[I 2025-02-24 04:33:28,578] Trial 32 finished with value: 0.7427568911464875 and parameters: {'num_iterations': 2115, 'objective': 'binary', 'metric': 'auc', 'verbose': -1, 'learning_rate': 0.006722799242096905, 'n_estimators': 1733, 'min_child_samples': 25, 'subsample': 0.8, 'colsample_bytree': 0.6}. Best is trial 12 with value: 0.7429221717236405.\n",
      "[I 2025-02-24 04:33:58,188] Trial 33 finished with value: 0.7428512248601685 and parameters: {'num_iterations': 2492, 'objective': 'binary', 'metric': 'auc', 'verbose': -1, 'learning_rate': 0.005127063207613889, 'n_estimators': 1517, 'min_child_samples': 40, 'subsample': 0.7, 'colsample_bytree': 0.5}. Best is trial 12 with value: 0.7429221717236405.\n",
      "[I 2025-02-24 04:34:27,670] Trial 34 finished with value: 0.7428235132893145 and parameters: {'num_iterations': 2482, 'objective': 'binary', 'metric': 'auc', 'verbose': -1, 'learning_rate': 0.005581350427958193, 'n_estimators': 1456, 'min_child_samples': 40, 'subsample': 0.7, 'colsample_bytree': 0.5}. Best is trial 12 with value: 0.7429221717236405.\n",
      "[I 2025-02-24 04:34:57,610] Trial 35 finished with value: 0.7429643069725315 and parameters: {'num_iterations': 2523, 'objective': 'binary', 'metric': 'auc', 'verbose': -1, 'learning_rate': 0.005127870545962419, 'n_estimators': 1071, 'min_child_samples': 45, 'subsample': 0.6, 'colsample_bytree': 0.5}. Best is trial 35 with value: 0.7429643069725315.\n",
      "[I 2025-02-24 04:35:27,152] Trial 36 finished with value: 0.7429036020324233 and parameters: {'num_iterations': 2488, 'objective': 'binary', 'metric': 'auc', 'verbose': -1, 'learning_rate': 0.005119681295955179, 'n_estimators': 1069, 'min_child_samples': 50, 'subsample': 0.5, 'colsample_bytree': 0.5}. Best is trial 35 with value: 0.7429643069725315.\n",
      "[I 2025-02-24 04:35:57,267] Trial 37 finished with value: 0.7429697952773352 and parameters: {'num_iterations': 2505, 'objective': 'binary', 'metric': 'auc', 'verbose': -1, 'learning_rate': 0.005227807804486406, 'n_estimators': 959, 'min_child_samples': 50, 'subsample': 0.5, 'colsample_bytree': 0.5}. Best is trial 37 with value: 0.7429697952773352.\n",
      "[I 2025-02-24 04:36:28,150] Trial 38 finished with value: 0.7428646318912954 and parameters: {'num_iterations': 2603, 'objective': 'binary', 'metric': 'auc', 'verbose': -1, 'learning_rate': 0.00581816975759947, 'n_estimators': 956, 'min_child_samples': 50, 'subsample': 0.5, 'colsample_bytree': 0.5}. Best is trial 37 with value: 0.7429697952773352.\n",
      "[I 2025-02-24 04:37:01,996] Trial 39 finished with value: 0.7429159606464242 and parameters: {'num_iterations': 2897, 'objective': 'binary', 'metric': 'auc', 'verbose': -1, 'learning_rate': 0.005021064622068643, 'n_estimators': 685, 'min_child_samples': 50, 'subsample': 0.5, 'colsample_bytree': 0.5}. Best is trial 37 with value: 0.7429697952773352.\n"
     ]
    },
    {
     "name": "stdout",
     "output_type": "stream",
     "text": [
      "Cat val score : 0.74322580364866\n",
      "LGBM val score : 0.7428865255413553\n",
      "Ensemble val score : 0.7433731499389146\n"
     ]
    },
    {
     "name": "stderr",
     "output_type": "stream",
     "text": [
      "[I 2025-02-24 04:37:32,339] A new study created in memory with name: no-name-a54ef64a-4123-4a95-b596-32625469a1f6\n"
     ]
    },
    {
     "name": "stdout",
     "output_type": "stream",
     "text": [
      "==================================================\n",
      "0:\ttest: 0.7251998\tbest: 0.7251998 (0)\ttotal: 159ms\tremaining: 6m 16s\n",
      "300:\ttest: 0.7392610\tbest: 0.7392610 (300)\ttotal: 42.9s\tremaining: 4m 54s\n",
      "600:\ttest: 0.7407155\tbest: 0.7407155 (600)\ttotal: 1m 28s\tremaining: 4m 20s\n",
      "900:\ttest: 0.7412010\tbest: 0.7412010 (900)\ttotal: 2m 16s\tremaining: 3m 41s\n",
      "1200:\ttest: 0.7414293\tbest: 0.7414420 (1161)\ttotal: 3m 7s\tremaining: 3m 2s\n",
      "1500:\ttest: 0.7415234\tbest: 0.7415450 (1386)\ttotal: 4m 4s\tremaining: 2m 20s\n"
     ]
    },
    {
     "name": "stderr",
     "output_type": "stream",
     "text": [
      "[I 2025-02-24 04:42:11,859] Trial 0 finished with value: 0.7415449627100428 and parameters: {'iterations': 2366, 'depth': 10, 'learning_rate': 0.01181021951839225, 'l2_leaf_reg': 9.980783802743254}. Best is trial 0 with value: 0.7415449627100428.\n"
     ]
    },
    {
     "name": "stdout",
     "output_type": "stream",
     "text": [
      "Stopped by overfitting detector  (300 iterations wait)\n",
      "\n",
      "bestTest = 0.7415449627\n",
      "bestIteration = 1386\n",
      "\n",
      "Shrink model to first 1387 iterations.\n",
      "저장 완료\n",
      "0:\ttest: 0.7024867\tbest: 0.7024867 (0)\ttotal: 66.4ms\tremaining: 2m 25s\n"
     ]
    },
    {
     "name": "stderr",
     "output_type": "stream",
     "text": [
      "Training has stopped (degenerate solution on iteration 244, probably too small l2-regularization, try to increase it)\n",
      "[I 2025-02-24 04:42:23,730] Trial 1 finished with value: 0.7281759656297878 and parameters: {'iterations': 2193, 'depth': 4, 'learning_rate': 0.005671430811678843, 'l2_leaf_reg': 0.00012325230809466137}. Best is trial 0 with value: 0.7415449627100428.\n"
     ]
    },
    {
     "name": "stdout",
     "output_type": "stream",
     "text": [
      "\n",
      "bestTest = 0.7281759656\n",
      "bestIteration = 241\n",
      "\n",
      "Shrink model to first 242 iterations.\n",
      "0:\ttest: 0.7024867\tbest: 0.7024867 (0)\ttotal: 67.4ms\tremaining: 2m 50s\n",
      "300:\ttest: 0.7398962\tbest: 0.7400303 (260)\ttotal: 15.8s\tremaining: 1m 56s\n"
     ]
    },
    {
     "name": "stderr",
     "output_type": "stream",
     "text": [
      "[I 2025-02-24 04:42:53,489] Trial 2 finished with value: 0.7400303475773893 and parameters: {'iterations': 2535, 'depth': 4, 'learning_rate': 0.09275339199839054, 'l2_leaf_reg': 0.0008705394248343123}. Best is trial 0 with value: 0.7415449627100428.\n"
     ]
    },
    {
     "name": "stdout",
     "output_type": "stream",
     "text": [
      "Stopped by overfitting detector  (300 iterations wait)\n",
      "\n",
      "bestTest = 0.7400303476\n",
      "bestIteration = 260\n",
      "\n",
      "Shrink model to first 261 iterations.\n",
      "0:\ttest: 0.7024867\tbest: 0.7024867 (0)\ttotal: 58.4ms\tremaining: 2m 16s\n",
      "300:\ttest: 0.7392421\tbest: 0.7392421 (300)\ttotal: 15.3s\tremaining: 1m 43s\n",
      "600:\ttest: 0.7401762\tbest: 0.7402049 (596)\ttotal: 31.6s\tremaining: 1m 31s\n",
      "900:\ttest: 0.7401991\tbest: 0.7402313 (861)\ttotal: 48s\tremaining: 1m 16s\n",
      "1200:\ttest: 0.7399663\tbest: 0.7402777 (971)\ttotal: 1m 4s\tremaining: 1m\n"
     ]
    },
    {
     "name": "stderr",
     "output_type": "stream",
     "text": [
      "[I 2025-02-24 04:44:02,103] Trial 3 finished with value: 0.7402777258474101 and parameters: {'iterations': 2334, 'depth': 4, 'learning_rate': 0.04657568321363276, 'l2_leaf_reg': 0.0008640473331457248}. Best is trial 0 with value: 0.7415449627100428.\n"
     ]
    },
    {
     "name": "stdout",
     "output_type": "stream",
     "text": [
      "Stopped by overfitting detector  (300 iterations wait)\n",
      "\n",
      "bestTest = 0.7402777258\n",
      "bestIteration = 971\n",
      "\n",
      "Shrink model to first 972 iterations.\n",
      "0:\ttest: 0.7251469\tbest: 0.7251469 (0)\ttotal: 146ms\tremaining: 4m 14s\n",
      "300:\ttest: 0.7383092\tbest: 0.7383263 (297)\ttotal: 42s\tremaining: 3m 21s\n",
      "600:\ttest: 0.7394655\tbest: 0.7394986 (551)\ttotal: 1m 24s\tremaining: 2m 40s\n",
      "900:\ttest: 0.7396474\tbest: 0.7396706 (897)\ttotal: 2m 6s\tremaining: 1m 58s\n",
      "1200:\ttest: 0.7394557\tbest: 0.7398967 (1126)\ttotal: 2m 54s\tremaining: 1m 18s\n"
     ]
    },
    {
     "name": "stderr",
     "output_type": "stream",
     "text": [
      "[I 2025-02-24 04:47:35,311] Trial 4 finished with value: 0.7398966954888413 and parameters: {'iterations': 1742, 'depth': 10, 'learning_rate': 0.012622767482095846, 'l2_leaf_reg': 0.00021158816350109617}. Best is trial 0 with value: 0.7415449627100428.\n"
     ]
    },
    {
     "name": "stdout",
     "output_type": "stream",
     "text": [
      "Stopped by overfitting detector  (300 iterations wait)\n",
      "\n",
      "bestTest = 0.7398966955\n",
      "bestIteration = 1126\n",
      "\n",
      "Shrink model to first 1127 iterations.\n",
      "0:\ttest: 0.7024867\tbest: 0.7024867 (0)\ttotal: 56.7ms\tremaining: 1m 58s\n",
      "300:\ttest: 0.7400670\tbest: 0.7400802 (288)\ttotal: 15.7s\tremaining: 1m 33s\n",
      "600:\ttest: 0.7403324\tbest: 0.7404282 (563)\ttotal: 32s\tremaining: 1m 18s\n"
     ]
    },
    {
     "name": "stderr",
     "output_type": "stream",
     "text": [
      "[I 2025-02-24 04:48:21,722] Trial 5 finished with value: 0.7404281827264607 and parameters: {'iterations': 2082, 'depth': 4, 'learning_rate': 0.06995196593094148, 'l2_leaf_reg': 0.0018080296485396804}. Best is trial 0 with value: 0.7415449627100428.\n"
     ]
    },
    {
     "name": "stdout",
     "output_type": "stream",
     "text": [
      "Stopped by overfitting detector  (300 iterations wait)\n",
      "\n",
      "bestTest = 0.7404281827\n",
      "bestIteration = 563\n",
      "\n",
      "Shrink model to first 564 iterations.\n",
      "0:\ttest: 0.7068701\tbest: 0.7068701 (0)\ttotal: 64.9ms\tremaining: 2m 9s\n",
      "300:\ttest: 0.7407947\tbest: 0.7407947 (300)\ttotal: 19.4s\tremaining: 1m 49s\n",
      "600:\ttest: 0.7413382\tbest: 0.7413682 (550)\ttotal: 38.5s\tremaining: 1m 29s\n"
     ]
    },
    {
     "name": "stderr",
     "output_type": "stream",
     "text": [
      "[I 2025-02-24 04:49:16,473] Trial 6 finished with value: 0.7413682344477303 and parameters: {'iterations': 1997, 'depth': 5, 'learning_rate': 0.07985155992831598, 'l2_leaf_reg': 62.52181000710482}. Best is trial 0 with value: 0.7415449627100428.\n"
     ]
    },
    {
     "name": "stdout",
     "output_type": "stream",
     "text": [
      "Stopped by overfitting detector  (300 iterations wait)\n",
      "\n",
      "bestTest = 0.7413682344\n",
      "bestIteration = 550\n",
      "\n",
      "Shrink model to first 551 iterations.\n",
      "0:\ttest: 0.7219954\tbest: 0.7219954 (0)\ttotal: 130ms\tremaining: 4m 10s\n",
      "300:\ttest: 0.7396412\tbest: 0.7402488 (146)\ttotal: 27s\tremaining: 2m 25s\n"
     ]
    },
    {
     "name": "stderr",
     "output_type": "stream",
     "text": [
      "[I 2025-02-24 04:49:57,196] Trial 7 finished with value: 0.7402488416210123 and parameters: {'iterations': 1927, 'depth': 7, 'learning_rate': 0.0941937211034094, 'l2_leaf_reg': 0.05654822767791934}. Best is trial 0 with value: 0.7415449627100428.\n"
     ]
    },
    {
     "name": "stdout",
     "output_type": "stream",
     "text": [
      "Stopped by overfitting detector  (300 iterations wait)\n",
      "\n",
      "bestTest = 0.7402488416\n",
      "bestIteration = 146\n",
      "\n",
      "Shrink model to first 147 iterations.\n",
      "0:\ttest: 0.7219976\tbest: 0.7219976 (0)\ttotal: 93.1ms\tremaining: 2m 57s\n",
      "300:\ttest: 0.7407089\tbest: 0.7407298 (297)\ttotal: 26s\tremaining: 2m 18s\n",
      "600:\ttest: 0.7407012\tbest: 0.7410197 (387)\ttotal: 54.3s\tremaining: 1m 57s\n"
     ]
    },
    {
     "name": "stderr",
     "output_type": "stream",
     "text": [
      "[I 2025-02-24 04:50:59,865] Trial 8 finished with value: 0.7410197455017722 and parameters: {'iterations': 1904, 'depth': 7, 'learning_rate': 0.05155602859187331, 'l2_leaf_reg': 1.299974533316308}. Best is trial 0 with value: 0.7415449627100428.\n"
     ]
    },
    {
     "name": "stdout",
     "output_type": "stream",
     "text": [
      "Stopped by overfitting detector  (300 iterations wait)\n",
      "\n",
      "bestTest = 0.7410197455\n",
      "bestIteration = 387\n",
      "\n",
      "Shrink model to first 388 iterations.\n",
      "0:\ttest: 0.7207060\tbest: 0.7207060 (0)\ttotal: 93.6ms\tremaining: 4m 6s\n",
      "300:\ttest: 0.7400256\tbest: 0.7400344 (297)\ttotal: 22.5s\tremaining: 2m 54s\n",
      "600:\ttest: 0.7407566\tbest: 0.7408973 (579)\ttotal: 46.8s\tremaining: 2m 38s\n"
     ]
    },
    {
     "name": "stderr",
     "output_type": "stream",
     "text": [
      "[I 2025-02-24 04:52:08,768] Trial 9 finished with value: 0.7408972913123776 and parameters: {'iterations': 2639, 'depth': 6, 'learning_rate': 0.03968704290444751, 'l2_leaf_reg': 0.30557194377967184}. Best is trial 0 with value: 0.7415449627100428.\n"
     ]
    },
    {
     "name": "stdout",
     "output_type": "stream",
     "text": [
      "Stopped by overfitting detector  (300 iterations wait)\n",
      "\n",
      "bestTest = 0.7408972913\n",
      "bestIteration = 579\n",
      "\n",
      "Shrink model to first 580 iterations.\n",
      "0:\ttest: 0.7250295\tbest: 0.7250295 (0)\ttotal: 145ms\tremaining: 7m 6s\n",
      "300:\ttest: 0.7408431\tbest: 0.7408431 (300)\ttotal: 42.6s\tremaining: 6m 14s\n",
      "600:\ttest: 0.7414852\tbest: 0.7414865 (598)\ttotal: 1m 26s\tremaining: 5m 38s\n",
      "900:\ttest: 0.7417643\tbest: 0.7417643 (900)\ttotal: 2m 26s\tremaining: 5m 33s\n",
      "1200:\ttest: 0.7418903\tbest: 0.7419228 (1166)\ttotal: 3m 25s\tremaining: 4m 58s\n"
     ]
    },
    {
     "name": "stderr",
     "output_type": "stream",
     "text": [
      "[I 2025-02-24 04:56:25,509] Trial 10 finished with value: 0.7419227845925421 and parameters: {'iterations': 2945, 'depth': 10, 'learning_rate': 0.025911330134996406, 'l2_leaf_reg': 97.18545559492516}. Best is trial 10 with value: 0.7419227845925421.\n"
     ]
    },
    {
     "name": "stdout",
     "output_type": "stream",
     "text": [
      "Stopped by overfitting detector  (300 iterations wait)\n",
      "\n",
      "bestTest = 0.7419227846\n",
      "bestIteration = 1166\n",
      "\n",
      "Shrink model to first 1167 iterations.\n",
      "저장 완료\n",
      "0:\ttest: 0.7250619\tbest: 0.7250619 (0)\ttotal: 156ms\tremaining: 7m 47s\n",
      "300:\ttest: 0.7408601\tbest: 0.7408650 (299)\ttotal: 42.9s\tremaining: 6m 23s\n",
      "600:\ttest: 0.7416581\tbest: 0.7416606 (597)\ttotal: 1m 31s\tremaining: 6m 3s\n",
      "900:\ttest: 0.7418070\tbest: 0.7419002 (781)\ttotal: 2m 33s\tremaining: 5m 56s\n"
     ]
    },
    {
     "name": "stderr",
     "output_type": "stream",
     "text": [
      "[I 2025-02-24 04:59:33,460] Trial 11 finished with value: 0.741900241871445 and parameters: {'iterations': 2995, 'depth': 10, 'learning_rate': 0.026163874004606635, 'l2_leaf_reg': 73.1213351392818}. Best is trial 10 with value: 0.7419227845925421.\n"
     ]
    },
    {
     "name": "stdout",
     "output_type": "stream",
     "text": [
      "Stopped by overfitting detector  (300 iterations wait)\n",
      "\n",
      "bestTest = 0.7419002419\n",
      "bestIteration = 781\n",
      "\n",
      "Shrink model to first 782 iterations.\n",
      "0:\ttest: 0.7219800\tbest: 0.7219800 (0)\ttotal: 130ms\tremaining: 6m 16s\n",
      "300:\ttest: 0.7404000\tbest: 0.7404000 (300)\ttotal: 31.5s\tremaining: 4m 32s\n",
      "600:\ttest: 0.7410458\tbest: 0.7410497 (593)\ttotal: 1m 2s\tremaining: 3m 59s\n",
      "900:\ttest: 0.7413056\tbest: 0.7413363 (849)\ttotal: 1m 37s\tremaining: 3m 36s\n",
      "1200:\ttest: 0.7412621\tbest: 0.7413457 (1002)\ttotal: 2m 14s\tremaining: 3m 9s\n"
     ]
    },
    {
     "name": "stderr",
     "output_type": "stream",
     "text": [
      "[I 2025-02-24 05:02:00,240] Trial 12 finished with value: 0.7413456798139745 and parameters: {'iterations': 2897, 'depth': 9, 'learning_rate': 0.02806616524326411, 'l2_leaf_reg': 87.13438924619796}. Best is trial 10 with value: 0.7419227845925421.\n"
     ]
    },
    {
     "name": "stdout",
     "output_type": "stream",
     "text": [
      "Stopped by overfitting detector  (300 iterations wait)\n",
      "\n",
      "bestTest = 0.7413456798\n",
      "bestIteration = 1002\n",
      "\n",
      "Shrink model to first 1003 iterations.\n",
      "0:\ttest: 0.7231971\tbest: 0.7231971 (0)\ttotal: 121ms\tremaining: 5m 59s\n",
      "300:\ttest: 0.7406639\tbest: 0.7406639 (300)\ttotal: 32.7s\tremaining: 4m 50s\n",
      "600:\ttest: 0.7415186\tbest: 0.7415465 (595)\ttotal: 1m 6s\tremaining: 4m 23s\n",
      "900:\ttest: 0.7413831\tbest: 0.7415629 (621)\ttotal: 1m 43s\tremaining: 3m 58s\n"
     ]
    },
    {
     "name": "stderr",
     "output_type": "stream",
     "text": [
      "[I 2025-02-24 05:03:46,570] Trial 13 finished with value: 0.7415629309702092 and parameters: {'iterations': 2975, 'depth': 9, 'learning_rate': 0.028913180830738475, 'l2_leaf_reg': 7.828901342687942}. Best is trial 10 with value: 0.7419227845925421.\n"
     ]
    },
    {
     "name": "stdout",
     "output_type": "stream",
     "text": [
      "Stopped by overfitting detector  (300 iterations wait)\n",
      "\n",
      "bestTest = 0.741562931\n",
      "bestIteration = 621\n",
      "\n",
      "Shrink model to first 622 iterations.\n",
      "0:\ttest: 0.7231990\tbest: 0.7231990 (0)\ttotal: 117ms\tremaining: 5m 22s\n",
      "300:\ttest: 0.7408295\tbest: 0.7408295 (300)\ttotal: 31.5s\tremaining: 4m 16s\n",
      "600:\ttest: 0.7416008\tbest: 0.7416120 (597)\ttotal: 1m 7s\tremaining: 4m\n"
     ]
    },
    {
     "name": "stderr",
     "output_type": "stream",
     "text": [
      "[I 2025-02-24 05:05:30,099] Trial 14 finished with value: 0.7416120190657178 and parameters: {'iterations': 2754, 'depth': 9, 'learning_rate': 0.02781621679423573, 'l2_leaf_reg': 7.067045463613257}. Best is trial 10 with value: 0.7419227845925421.\n"
     ]
    },
    {
     "name": "stdout",
     "output_type": "stream",
     "text": [
      "Stopped by overfitting detector  (300 iterations wait)\n",
      "\n",
      "bestTest = 0.7416120191\n",
      "bestIteration = 597\n",
      "\n",
      "Shrink model to first 598 iterations.\n",
      "0:\ttest: 0.7218048\tbest: 0.7218048 (0)\ttotal: 106ms\tremaining: 2m 40s\n",
      "300:\ttest: 0.7395156\tbest: 0.7399532 (263)\ttotal: 30.6s\tremaining: 2m 3s\n"
     ]
    },
    {
     "name": "stderr",
     "output_type": "stream",
     "text": [
      "[I 2025-02-24 05:06:28,922] Trial 15 finished with value: 0.7399532409086798 and parameters: {'iterations': 1513, 'depth': 8, 'learning_rate': 0.06347916602487957, 'l2_leaf_reg': 0.026986971696484528}. Best is trial 10 with value: 0.7419227845925421.\n"
     ]
    },
    {
     "name": "stdout",
     "output_type": "stream",
     "text": [
      "Stopped by overfitting detector  (300 iterations wait)\n",
      "\n",
      "bestTest = 0.7399532409\n",
      "bestIteration = 263\n",
      "\n",
      "Shrink model to first 264 iterations.\n",
      "0:\ttest: 0.7251965\tbest: 0.7251965 (0)\ttotal: 136ms\tremaining: 6m 20s\n",
      "300:\ttest: 0.7403908\tbest: 0.7404534 (291)\ttotal: 44.9s\tremaining: 6m 11s\n",
      "600:\ttest: 0.7396053\tbest: 0.7405611 (355)\ttotal: 1m 36s\tremaining: 5m 53s\n"
     ]
    },
    {
     "name": "stderr",
     "output_type": "stream",
     "text": [
      "[I 2025-02-24 05:08:15,157] Trial 16 finished with value: 0.7405611240263744 and parameters: {'iterations': 2789, 'depth': 10, 'learning_rate': 0.03780133673970677, 'l2_leaf_reg': 0.8358313275560093}. Best is trial 10 with value: 0.7419227845925421.\n"
     ]
    },
    {
     "name": "stdout",
     "output_type": "stream",
     "text": [
      "Stopped by overfitting detector  (300 iterations wait)\n",
      "\n",
      "bestTest = 0.740561124\n",
      "bestIteration = 355\n",
      "\n",
      "Shrink model to first 356 iterations.\n",
      "0:\ttest: 0.7218857\tbest: 0.7218857 (0)\ttotal: 101ms\tremaining: 5m 3s\n",
      "300:\ttest: 0.7399632\tbest: 0.7399632 (300)\ttotal: 28.3s\tremaining: 4m 13s\n",
      "600:\ttest: 0.7410538\tbest: 0.7410596 (596)\ttotal: 56.3s\tremaining: 3m 44s\n",
      "900:\ttest: 0.7415882\tbest: 0.7416218 (867)\ttotal: 1m 26s\tremaining: 3m 22s\n",
      "1200:\ttest: 0.7415896\tbest: 0.7416679 (1057)\ttotal: 1m 59s\tremaining: 2m 58s\n"
     ]
    },
    {
     "name": "stderr",
     "output_type": "stream",
     "text": [
      "[I 2025-02-24 05:10:31,168] Trial 17 finished with value: 0.7416679410564191 and parameters: {'iterations': 2999, 'depth': 8, 'learning_rate': 0.020683376194142355, 'l2_leaf_reg': 17.971321588436567}. Best is trial 10 with value: 0.7419227845925421.\n"
     ]
    },
    {
     "name": "stdout",
     "output_type": "stream",
     "text": [
      "Stopped by overfitting detector  (300 iterations wait)\n",
      "\n",
      "bestTest = 0.7416679411\n",
      "bestIteration = 1057\n",
      "\n",
      "Shrink model to first 1058 iterations.\n",
      "0:\ttest: 0.7217868\tbest: 0.7217868 (0)\ttotal: 115ms\tremaining: 4m 55s\n",
      "300:\ttest: 0.7396564\tbest: 0.7401218 (199)\ttotal: 31s\tremaining: 3m 53s\n"
     ]
    },
    {
     "name": "stderr",
     "output_type": "stream",
     "text": [
      "[I 2025-02-24 05:11:24,130] Trial 18 finished with value: 0.7401217534073936 and parameters: {'iterations': 2573, 'depth': 8, 'learning_rate': 0.06131752750249454, 'l2_leaf_reg': 0.010016909578442512}. Best is trial 10 with value: 0.7419227845925421.\n"
     ]
    },
    {
     "name": "stdout",
     "output_type": "stream",
     "text": [
      "Stopped by overfitting detector  (300 iterations wait)\n",
      "\n",
      "bestTest = 0.7401217534\n",
      "bestIteration = 199\n",
      "\n",
      "Shrink model to first 200 iterations.\n",
      "0:\ttest: 0.7252068\tbest: 0.7252068 (0)\ttotal: 154ms\tremaining: 7m 8s\n",
      "300:\ttest: 0.7409397\tbest: 0.7409667 (299)\ttotal: 45.8s\tremaining: 6m 16s\n",
      "600:\ttest: 0.7402845\tbest: 0.7410348 (382)\ttotal: 1m 39s\tremaining: 6m\n"
     ]
    },
    {
     "name": "stderr",
     "output_type": "stream",
     "text": [
      "[I 2025-02-24 05:13:18,924] Trial 19 finished with value: 0.7410348467820844 and parameters: {'iterations': 2774, 'depth': 10, 'learning_rate': 0.041068055997712544, 'l2_leaf_reg': 2.276175005448344}. Best is trial 10 with value: 0.7419227845925421.\n",
      "[I 2025-02-24 05:13:18,933] A new study created in memory with name: no-name-450605cc-75f0-4604-9146-9d2232250e66\n"
     ]
    },
    {
     "name": "stdout",
     "output_type": "stream",
     "text": [
      "Stopped by overfitting detector  (300 iterations wait)\n",
      "\n",
      "bestTest = 0.7410348468\n",
      "bestIteration = 382\n",
      "\n",
      "Shrink model to first 383 iterations.\n"
     ]
    },
    {
     "name": "stderr",
     "output_type": "stream",
     "text": [
      "[I 2025-02-24 05:13:42,771] Trial 0 finished with value: 0.729007655836874 and parameters: {'num_iterations': 2366, 'objective': 'binary', 'metric': 'auc', 'verbose': -1, 'learning_rate': 0.0652646236447618, 'n_estimators': 236, 'min_child_samples': 45, 'subsample': 0.7, 'colsample_bytree': 0.5}. Best is trial 0 with value: 0.729007655836874.\n",
      "[I 2025-02-24 05:14:00,195] Trial 1 finished with value: 0.7407396788963503 and parameters: {'num_iterations': 1510, 'objective': 'binary', 'metric': 'auc', 'verbose': -1, 'learning_rate': 0.005231880959249543, 'n_estimators': 1411, 'min_child_samples': 10, 'subsample': 1.0, 'colsample_bytree': 0.5}. Best is trial 1 with value: 0.7407396788963503.\n",
      "[I 2025-02-24 05:14:19,903] Trial 2 finished with value: 0.7401104840322882 and parameters: {'num_iterations': 2334, 'objective': 'binary', 'metric': 'auc', 'verbose': -1, 'learning_rate': 0.006578527777128852, 'n_estimators': 931, 'min_child_samples': 15, 'subsample': 0.5, 'colsample_bytree': 1.0}. Best is trial 1 with value: 0.7407396788963503.\n",
      "[I 2025-02-24 05:14:36,526] Trial 3 finished with value: 0.7405686170886803 and parameters: {'num_iterations': 1620, 'objective': 'binary', 'metric': 'auc', 'verbose': -1, 'learning_rate': 0.0058823249237283685, 'n_estimators': 837, 'min_child_samples': 10, 'subsample': 0.9, 'colsample_bytree': 0.6}. Best is trial 1 with value: 0.7407396788963503.\n",
      "[I 2025-02-24 05:14:53,097] Trial 4 finished with value: 0.7402794650955765 and parameters: {'num_iterations': 1997, 'objective': 'binary', 'metric': 'auc', 'verbose': -1, 'learning_rate': 0.010907507425244923, 'n_estimators': 1597, 'min_child_samples': 50, 'subsample': 0.6, 'colsample_bytree': 0.8}. Best is trial 1 with value: 0.7407396788963503.\n",
      "[I 2025-02-24 05:15:15,695] Trial 5 finished with value: 0.7365924734107075 and parameters: {'num_iterations': 2909, 'objective': 'binary', 'metric': 'auc', 'verbose': -1, 'learning_rate': 0.019760591962733942, 'n_estimators': 612, 'min_child_samples': 30, 'subsample': 0.7, 'colsample_bytree': 0.9}. Best is trial 1 with value: 0.7407396788963503.\n",
      "[I 2025-02-24 05:15:36,469] Trial 6 finished with value: 0.7377044049422095 and parameters: {'num_iterations': 2639, 'objective': 'binary', 'metric': 'auc', 'verbose': -1, 'learning_rate': 0.017862094446750985, 'n_estimators': 794, 'min_child_samples': 35, 'subsample': 1.0, 'colsample_bytree': 0.8}. Best is trial 1 with value: 0.7407396788963503.\n",
      "[I 2025-02-24 05:15:53,449] Trial 7 finished with value: 0.7397316297193705 and parameters: {'num_iterations': 1580, 'objective': 'binary', 'metric': 'auc', 'verbose': -1, 'learning_rate': 0.01776722177611332, 'n_estimators': 529, 'min_child_samples': 25, 'subsample': 0.8, 'colsample_bytree': 0.5}. Best is trial 1 with value: 0.7407396788963503.\n",
      "[I 2025-02-24 05:16:11,126] Trial 8 finished with value: 0.7371981804827511 and parameters: {'num_iterations': 1911, 'objective': 'binary', 'metric': 'auc', 'verbose': -1, 'learning_rate': 0.0304747553332844, 'n_estimators': 1328, 'min_child_samples': 10, 'subsample': 0.7, 'colsample_bytree': 0.6}. Best is trial 1 with value: 0.7407396788963503.\n",
      "[I 2025-02-24 05:16:39,310] Trial 9 finished with value: 0.736167159728962 and parameters: {'num_iterations': 2739, 'objective': 'binary', 'metric': 'auc', 'verbose': -1, 'learning_rate': 0.02691531614176271, 'n_estimators': 1438, 'min_child_samples': 20, 'subsample': 0.6, 'colsample_bytree': 0.5}. Best is trial 1 with value: 0.7407396788963503.\n",
      "[I 2025-02-24 05:16:54,249] Trial 10 finished with value: 0.7280813592654864 and parameters: {'num_iterations': 1933, 'objective': 'binary', 'metric': 'auc', 'verbose': -1, 'learning_rate': 0.08223556891145911, 'n_estimators': 1960, 'min_child_samples': 40, 'subsample': 1.0, 'colsample_bytree': 0.7}. Best is trial 1 with value: 0.7407396788963503.\n",
      "[I 2025-02-24 05:17:09,913] Trial 11 finished with value: 0.7406446873560851 and parameters: {'num_iterations': 1513, 'objective': 'binary', 'metric': 'auc', 'verbose': -1, 'learning_rate': 0.005340229419903739, 'n_estimators': 1206, 'min_child_samples': 10, 'subsample': 0.9, 'colsample_bytree': 0.6}. Best is trial 1 with value: 0.7407396788963503.\n",
      "[I 2025-02-24 05:17:26,126] Trial 12 finished with value: 0.7406871003918503 and parameters: {'num_iterations': 1550, 'objective': 'binary', 'metric': 'auc', 'verbose': -1, 'learning_rate': 0.005009803090245928, 'n_estimators': 1192, 'min_child_samples': 20, 'subsample': 0.9, 'colsample_bytree': 0.6}. Best is trial 1 with value: 0.7407396788963503.\n",
      "[I 2025-02-24 05:17:41,336] Trial 13 finished with value: 0.740210030179053 and parameters: {'num_iterations': 1777, 'objective': 'binary', 'metric': 'auc', 'verbose': -1, 'learning_rate': 0.01061042275547689, 'n_estimators': 1698, 'min_child_samples': 20, 'subsample': 0.9, 'colsample_bytree': 0.7}. Best is trial 1 with value: 0.7407396788963503.\n",
      "[I 2025-02-24 05:18:01,921] Trial 14 finished with value: 0.7396796389060316 and parameters: {'num_iterations': 2165, 'objective': 'binary', 'metric': 'auc', 'verbose': -1, 'learning_rate': 0.011084406731310557, 'n_estimators': 1104, 'min_child_samples': 20, 'subsample': 1.0, 'colsample_bytree': 0.6}. Best is trial 1 with value: 0.7407396788963503.\n",
      "[I 2025-02-24 05:18:21,386] Trial 15 finished with value: 0.7406849164044267 and parameters: {'num_iterations': 1745, 'objective': 'binary', 'metric': 'auc', 'verbose': -1, 'learning_rate': 0.008235043203871414, 'n_estimators': 1836, 'min_child_samples': 25, 'subsample': 0.8, 'colsample_bytree': 0.5}. Best is trial 1 with value: 0.7407396788963503.\n",
      "[I 2025-02-24 05:18:38,334] Trial 16 finished with value: 0.7340983359477119 and parameters: {'num_iterations': 2154, 'objective': 'binary', 'metric': 'auc', 'verbose': -1, 'learning_rate': 0.03901437770924474, 'n_estimators': 1479, 'min_child_samples': 15, 'subsample': 0.9, 'colsample_bytree': 0.7}. Best is trial 1 with value: 0.7407396788963503.\n",
      "[I 2025-02-24 05:18:55,571] Trial 17 finished with value: 0.740504578606536 and parameters: {'num_iterations': 1708, 'objective': 'binary', 'metric': 'auc', 'verbose': -1, 'learning_rate': 0.007238111112271453, 'n_estimators': 1253, 'min_child_samples': 15, 'subsample': 1.0, 'colsample_bytree': 0.6}. Best is trial 1 with value: 0.7407396788963503.\n",
      "[I 2025-02-24 05:19:15,150] Trial 18 finished with value: 0.7399700377574099 and parameters: {'num_iterations': 1819, 'objective': 'binary', 'metric': 'auc', 'verbose': -1, 'learning_rate': 0.01356820322695768, 'n_estimators': 1058, 'min_child_samples': 30, 'subsample': 0.8, 'colsample_bytree': 0.5}. Best is trial 1 with value: 0.7407396788963503.\n",
      "[I 2025-02-24 05:19:37,415] Trial 19 finished with value: 0.7408699398480625 and parameters: {'num_iterations': 2510, 'objective': 'binary', 'metric': 'auc', 'verbose': -1, 'learning_rate': 0.005234908961077883, 'n_estimators': 1670, 'min_child_samples': 25, 'subsample': 0.9, 'colsample_bytree': 0.7}. Best is trial 19 with value: 0.7408699398480625.\n",
      "[I 2025-02-24 05:19:58,342] Trial 20 finished with value: 0.7399449258729255 and parameters: {'num_iterations': 2501, 'objective': 'binary', 'metric': 'auc', 'verbose': -1, 'learning_rate': 0.00863339704848986, 'n_estimators': 1764, 'min_child_samples': 40, 'subsample': 1.0, 'colsample_bytree': 0.9}. Best is trial 19 with value: 0.7408699398480625.\n",
      "[I 2025-02-24 05:20:20,568] Trial 21 finished with value: 0.7408077835659886 and parameters: {'num_iterations': 2526, 'objective': 'binary', 'metric': 'auc', 'verbose': -1, 'learning_rate': 0.005140911155567227, 'n_estimators': 1526, 'min_child_samples': 25, 'subsample': 0.9, 'colsample_bytree': 0.7}. Best is trial 19 with value: 0.7408699398480625.\n",
      "[I 2025-02-24 05:20:42,735] Trial 22 finished with value: 0.7407173148651333 and parameters: {'num_iterations': 2563, 'objective': 'binary', 'metric': 'auc', 'verbose': -1, 'learning_rate': 0.005008224047793301, 'n_estimators': 1518, 'min_child_samples': 25, 'subsample': 0.9, 'colsample_bytree': 0.8}. Best is trial 19 with value: 0.7408699398480625.\n",
      "[I 2025-02-24 05:21:06,302] Trial 23 finished with value: 0.740090184861908 and parameters: {'num_iterations': 2809, 'objective': 'binary', 'metric': 'auc', 'verbose': -1, 'learning_rate': 0.008163243746584413, 'n_estimators': 1934, 'min_child_samples': 30, 'subsample': 0.8, 'colsample_bytree': 0.7}. Best is trial 19 with value: 0.7408699398480625.\n",
      "[I 2025-02-24 05:21:26,815] Trial 24 finished with value: 0.7405167374601558 and parameters: {'num_iterations': 2410, 'objective': 'binary', 'metric': 'auc', 'verbose': -1, 'learning_rate': 0.006563677799450436, 'n_estimators': 1580, 'min_child_samples': 35, 'subsample': 1.0, 'colsample_bytree': 0.9}. Best is trial 19 with value: 0.7408699398480625.\n",
      "[I 2025-02-24 05:21:44,950] Trial 25 finished with value: 0.7392473007265546 and parameters: {'num_iterations': 2210, 'objective': 'binary', 'metric': 'auc', 'verbose': -1, 'learning_rate': 0.012612904130219768, 'n_estimators': 1387, 'min_child_samples': 25, 'subsample': 0.9, 'colsample_bytree': 0.8}. Best is trial 19 with value: 0.7408699398480625.\n",
      "[I 2025-02-24 05:22:10,057] Trial 26 finished with value: 0.7397108977223917 and parameters: {'num_iterations': 3000, 'objective': 'binary', 'metric': 'auc', 'verbose': -1, 'learning_rate': 0.008904485101219045, 'n_estimators': 1584, 'min_child_samples': 35, 'subsample': 0.8, 'colsample_bytree': 0.7}. Best is trial 19 with value: 0.7408699398480625.\n",
      "[I 2025-02-24 05:22:30,368] Trial 27 finished with value: 0.7294973296425481 and parameters: {'num_iterations': 2654, 'objective': 'binary', 'metric': 'auc', 'verbose': -1, 'learning_rate': 0.046894412537994236, 'n_estimators': 1719, 'min_child_samples': 15, 'subsample': 1.0, 'colsample_bytree': 1.0}. Best is trial 19 with value: 0.7408699398480625.\n",
      "[I 2025-02-24 05:22:51,331] Trial 28 finished with value: 0.738860349776625 and parameters: {'num_iterations': 2554, 'objective': 'binary', 'metric': 'auc', 'verbose': -1, 'learning_rate': 0.01462826746072505, 'n_estimators': 1838, 'min_child_samples': 30, 'subsample': 0.9, 'colsample_bytree': 0.7}. Best is trial 19 with value: 0.7408699398480625.\n",
      "[I 2025-02-24 05:23:17,322] Trial 29 finished with value: 0.7409177215220032 and parameters: {'num_iterations': 2344, 'objective': 'binary', 'metric': 'auc', 'verbose': -1, 'learning_rate': 0.005892282067160651, 'n_estimators': 315, 'min_child_samples': 45, 'subsample': 1.0, 'colsample_bytree': 0.5}. Best is trial 29 with value: 0.7409177215220032.\n",
      "[I 2025-02-24 05:23:37,556] Trial 30 finished with value: 0.7408959531237199 and parameters: {'num_iterations': 2355, 'objective': 'binary', 'metric': 'auc', 'verbose': -1, 'learning_rate': 0.007156536539413739, 'n_estimators': 104, 'min_child_samples': 50, 'subsample': 0.8, 'colsample_bytree': 0.8}. Best is trial 29 with value: 0.7409177215220032.\n",
      "[I 2025-02-24 05:23:57,793] Trial 31 finished with value: 0.7409784403432638 and parameters: {'num_iterations': 2349, 'objective': 'binary', 'metric': 'auc', 'verbose': -1, 'learning_rate': 0.006918452238960562, 'n_estimators': 119, 'min_child_samples': 50, 'subsample': 0.8, 'colsample_bytree': 0.8}. Best is trial 31 with value: 0.7409784403432638.\n",
      "[I 2025-02-24 05:24:17,449] Trial 32 finished with value: 0.7405696256937814 and parameters: {'num_iterations': 2332, 'objective': 'binary', 'metric': 'auc', 'verbose': -1, 'learning_rate': 0.007069343516112946, 'n_estimators': 109, 'min_child_samples': 50, 'subsample': 0.8, 'colsample_bytree': 0.9}. Best is trial 31 with value: 0.7409784403432638.\n",
      "[I 2025-02-24 05:24:37,978] Trial 33 finished with value: 0.74083531769107 and parameters: {'num_iterations': 2428, 'objective': 'binary', 'metric': 'auc', 'verbose': -1, 'learning_rate': 0.006464996374157269, 'n_estimators': 332, 'min_child_samples': 45, 'subsample': 0.7, 'colsample_bytree': 0.8}. Best is trial 31 with value: 0.7409784403432638.\n",
      "[I 2025-02-24 05:24:56,746] Trial 34 finished with value: 0.7404866222590283 and parameters: {'num_iterations': 2268, 'objective': 'binary', 'metric': 'auc', 'verbose': -1, 'learning_rate': 0.009224043364291772, 'n_estimators': 296, 'min_child_samples': 45, 'subsample': 0.8, 'colsample_bytree': 0.8}. Best is trial 31 with value: 0.7409784403432638.\n",
      "[I 2025-02-24 05:25:16,587] Trial 35 finished with value: 0.7405536309640686 and parameters: {'num_iterations': 2287, 'objective': 'binary', 'metric': 'auc', 'verbose': -1, 'learning_rate': 0.006395159356777054, 'n_estimators': 112, 'min_child_samples': 50, 'subsample': 0.6, 'colsample_bytree': 0.9}. Best is trial 31 with value: 0.7409784403432638.\n",
      "[I 2025-02-24 05:25:34,042] Trial 36 finished with value: 0.7407396233039432 and parameters: {'num_iterations': 2031, 'objective': 'binary', 'metric': 'auc', 'verbose': -1, 'learning_rate': 0.007661213090840872, 'n_estimators': 371, 'min_child_samples': 50, 'subsample': 0.5, 'colsample_bytree': 0.8}. Best is trial 31 with value: 0.7409784403432638.\n",
      "[I 2025-02-24 05:25:52,426] Trial 37 finished with value: 0.7408558273184201 and parameters: {'num_iterations': 2095, 'objective': 'binary', 'metric': 'auc', 'verbose': -1, 'learning_rate': 0.0058979830703130755, 'n_estimators': 433, 'min_child_samples': 45, 'subsample': 0.8, 'colsample_bytree': 1.0}. Best is trial 31 with value: 0.7409784403432638.\n",
      "[I 2025-02-24 05:26:11,894] Trial 38 finished with value: 0.7396090921413652 and parameters: {'num_iterations': 2384, 'objective': 'binary', 'metric': 'auc', 'verbose': -1, 'learning_rate': 0.0109564961951903, 'n_estimators': 176, 'min_child_samples': 40, 'subsample': 0.7, 'colsample_bytree': 0.9}. Best is trial 31 with value: 0.7409784403432638.\n",
      "[I 2025-02-24 05:26:31,811] Trial 39 finished with value: 0.7403248840922136 and parameters: {'num_iterations': 2456, 'objective': 'binary', 'metric': 'auc', 'verbose': -1, 'learning_rate': 0.009776479051657728, 'n_estimators': 622, 'min_child_samples': 50, 'subsample': 0.9, 'colsample_bytree': 0.8}. Best is trial 31 with value: 0.7409784403432638.\n"
     ]
    },
    {
     "name": "stdout",
     "output_type": "stream",
     "text": [
      "Cat val score : 0.7419227845925421\n",
      "LGBM val score : 0.7407449284079393\n",
      "Ensemble val score : 0.7418934198889111\n"
     ]
    },
    {
     "name": "stderr",
     "output_type": "stream",
     "text": [
      "[I 2025-02-24 05:26:53,050] A new study created in memory with name: no-name-a0b0d480-65f2-4feb-8f7d-a0e2575fd091\n"
     ]
    },
    {
     "name": "stdout",
     "output_type": "stream",
     "text": [
      "==================================================\n",
      "0:\ttest: 0.7298284\tbest: 0.7298284 (0)\ttotal: 148ms\tremaining: 5m 50s\n",
      "300:\ttest: 0.7413643\tbest: 0.7413643 (300)\ttotal: 41.4s\tremaining: 4m 44s\n",
      "600:\ttest: 0.7431704\tbest: 0.7431704 (600)\ttotal: 1m 25s\tremaining: 4m 10s\n",
      "900:\ttest: 0.7437813\tbest: 0.7437876 (886)\ttotal: 2m 9s\tremaining: 3m 30s\n",
      "1200:\ttest: 0.7441280\tbest: 0.7441331 (1199)\ttotal: 2m 56s\tremaining: 2m 51s\n",
      "1500:\ttest: 0.7442490\tbest: 0.7442664 (1487)\ttotal: 3m 49s\tremaining: 2m 12s\n",
      "1800:\ttest: 0.7443105\tbest: 0.7443446 (1764)\ttotal: 4m 44s\tremaining: 1m 29s\n"
     ]
    },
    {
     "name": "stderr",
     "output_type": "stream",
     "text": [
      "[I 2025-02-24 05:32:27,098] Trial 0 finished with value: 0.7443445685376392 and parameters: {'iterations': 2366, 'depth': 10, 'learning_rate': 0.01181021951839225, 'l2_leaf_reg': 9.980783802743254}. Best is trial 0 with value: 0.7443445685376392.\n"
     ]
    },
    {
     "name": "stdout",
     "output_type": "stream",
     "text": [
      "Stopped by overfitting detector  (300 iterations wait)\n",
      "\n",
      "bestTest = 0.7443445685\n",
      "bestIteration = 1764\n",
      "\n",
      "Shrink model to first 1765 iterations.\n",
      "저장 완료\n",
      "0:\ttest: 0.6944998\tbest: 0.6944998 (0)\ttotal: 72.3ms\tremaining: 2m 38s\n",
      "300:\ttest: 0.7309669\tbest: 0.7309669 (300)\ttotal: 14.8s\tremaining: 1m 33s\n",
      "600:\ttest: 0.7357838\tbest: 0.7357838 (600)\ttotal: 28.9s\tremaining: 1m 16s\n",
      "900:\ttest: 0.7381486\tbest: 0.7381486 (900)\ttotal: 44.1s\tremaining: 1m 3s\n",
      "1200:\ttest: 0.7394397\tbest: 0.7394397 (1200)\ttotal: 59.8s\tremaining: 49.4s\n",
      "1500:\ttest: 0.7402394\tbest: 0.7402394 (1500)\ttotal: 1m 14s\tremaining: 34.4s\n",
      "1800:\ttest: 0.7408102\tbest: 0.7408102 (1800)\ttotal: 1m 29s\tremaining: 19.6s\n",
      "2100:\ttest: 0.7413311\tbest: 0.7413311 (2100)\ttotal: 1m 44s\tremaining: 4.59s\n"
     ]
    },
    {
     "name": "stderr",
     "output_type": "stream",
     "text": [
      "[I 2025-02-24 05:34:16,876] Trial 1 finished with value: 0.7414962756740429 and parameters: {'iterations': 2193, 'depth': 4, 'learning_rate': 0.005671430811678843, 'l2_leaf_reg': 0.00012325230809466137}. Best is trial 0 with value: 0.7443445685376392.\n"
     ]
    },
    {
     "name": "stdout",
     "output_type": "stream",
     "text": [
      "2192:\ttest: 0.7414963\tbest: 0.7414963 (2192)\ttotal: 1m 49s\tremaining: 0us\n",
      "\n",
      "bestTest = 0.7414962757\n",
      "bestIteration = 2192\n",
      "\n",
      "0:\ttest: 0.6944998\tbest: 0.6944998 (0)\ttotal: 63.3ms\tremaining: 2m 40s\n",
      "300:\ttest: 0.7422845\tbest: 0.7424678 (217)\ttotal: 15.2s\tremaining: 1m 52s\n",
      "600:\ttest: 0.7425265\tbest: 0.7426929 (493)\ttotal: 30.8s\tremaining: 1m 39s\n"
     ]
    },
    {
     "name": "stderr",
     "output_type": "stream",
     "text": [
      "[I 2025-02-24 05:34:58,272] Trial 2 finished with value: 0.742692858558081 and parameters: {'iterations': 2535, 'depth': 4, 'learning_rate': 0.09275339199839054, 'l2_leaf_reg': 0.0008705394248343123}. Best is trial 0 with value: 0.7443445685376392.\n"
     ]
    },
    {
     "name": "stdout",
     "output_type": "stream",
     "text": [
      "Stopped by overfitting detector  (300 iterations wait)\n",
      "\n",
      "bestTest = 0.7426928586\n",
      "bestIteration = 493\n",
      "\n",
      "Shrink model to first 494 iterations.\n",
      "0:\ttest: 0.6944998\tbest: 0.6944998 (0)\ttotal: 57.1ms\tremaining: 2m 13s\n",
      "300:\ttest: 0.7418441\tbest: 0.7418441 (300)\ttotal: 14.6s\tremaining: 1m 38s\n",
      "600:\ttest: 0.7430071\tbest: 0.7430308 (596)\ttotal: 29.9s\tremaining: 1m 26s\n",
      "900:\ttest: 0.7432052\tbest: 0.7432522 (871)\ttotal: 45.6s\tremaining: 1m 12s\n"
     ]
    },
    {
     "name": "stderr",
     "output_type": "stream",
     "text": [
      "[I 2025-02-24 05:35:58,879] Trial 3 finished with value: 0.7432521896499074 and parameters: {'iterations': 2334, 'depth': 4, 'learning_rate': 0.04657568321363276, 'l2_leaf_reg': 0.0008640473331457248}. Best is trial 0 with value: 0.7443445685376392.\n"
     ]
    },
    {
     "name": "stdout",
     "output_type": "stream",
     "text": [
      "Stopped by overfitting detector  (300 iterations wait)\n",
      "\n",
      "bestTest = 0.7432521896\n",
      "bestIteration = 871\n",
      "\n",
      "Shrink model to first 872 iterations.\n",
      "0:\ttest: 0.7297346\tbest: 0.7297346 (0)\ttotal: 145ms\tremaining: 4m 12s\n",
      "300:\ttest: 0.7404216\tbest: 0.7404216 (300)\ttotal: 44.7s\tremaining: 3m 33s\n",
      "600:\ttest: 0.7417735\tbest: 0.7417735 (600)\ttotal: 1m 28s\tremaining: 2m 48s\n",
      "900:\ttest: 0.7418946\tbest: 0.7421004 (781)\ttotal: 2m 12s\tremaining: 2m 3s\n"
     ]
    },
    {
     "name": "stderr",
     "output_type": "stream",
     "text": [
      "[I 2025-02-24 05:38:40,410] Trial 4 finished with value: 0.7421003586536206 and parameters: {'iterations': 1742, 'depth': 10, 'learning_rate': 0.012622767482095846, 'l2_leaf_reg': 0.00021158816350109617}. Best is trial 0 with value: 0.7443445685376392.\n"
     ]
    },
    {
     "name": "stdout",
     "output_type": "stream",
     "text": [
      "Stopped by overfitting detector  (300 iterations wait)\n",
      "\n",
      "bestTest = 0.7421003587\n",
      "bestIteration = 781\n",
      "\n",
      "Shrink model to first 782 iterations.\n",
      "0:\ttest: 0.6944998\tbest: 0.6944998 (0)\ttotal: 71ms\tremaining: 2m 27s\n",
      "300:\ttest: 0.7425699\tbest: 0.7426411 (296)\ttotal: 16s\tremaining: 1m 34s\n",
      "600:\ttest: 0.7428425\tbest: 0.7428477 (548)\ttotal: 32.6s\tremaining: 1m 20s\n",
      "900:\ttest: 0.7424362\tbest: 0.7428495 (669)\ttotal: 49.1s\tremaining: 1m 4s\n"
     ]
    },
    {
     "name": "stderr",
     "output_type": "stream",
     "text": [
      "[I 2025-02-24 05:39:33,617] Trial 5 finished with value: 0.7428495139905281 and parameters: {'iterations': 2082, 'depth': 4, 'learning_rate': 0.06995196593094148, 'l2_leaf_reg': 0.0018080296485396804}. Best is trial 0 with value: 0.7443445685376392.\n"
     ]
    },
    {
     "name": "stdout",
     "output_type": "stream",
     "text": [
      "Stopped by overfitting detector  (300 iterations wait)\n",
      "\n",
      "bestTest = 0.742849514\n",
      "bestIteration = 669\n",
      "\n",
      "Shrink model to first 670 iterations.\n",
      "0:\ttest: 0.7074846\tbest: 0.7074846 (0)\ttotal: 79.5ms\tremaining: 2m 38s\n",
      "300:\ttest: 0.7433718\tbest: 0.7433722 (298)\ttotal: 19.6s\tremaining: 1m 50s\n",
      "600:\ttest: 0.7438782\tbest: 0.7438844 (597)\ttotal: 39.4s\tremaining: 1m 31s\n",
      "900:\ttest: 0.7437557\tbest: 0.7439020 (614)\ttotal: 58.6s\tremaining: 1m 11s\n"
     ]
    },
    {
     "name": "stderr",
     "output_type": "stream",
     "text": [
      "[I 2025-02-24 05:40:33,295] Trial 6 finished with value: 0.7439019815008165 and parameters: {'iterations': 1997, 'depth': 5, 'learning_rate': 0.07985155992831598, 'l2_leaf_reg': 62.52181000710482}. Best is trial 0 with value: 0.7443445685376392.\n"
     ]
    },
    {
     "name": "stdout",
     "output_type": "stream",
     "text": [
      "Stopped by overfitting detector  (300 iterations wait)\n",
      "\n",
      "bestTest = 0.7439019815\n",
      "bestIteration = 614\n",
      "\n",
      "Shrink model to first 615 iterations.\n",
      "0:\ttest: 0.7199332\tbest: 0.7199332 (0)\ttotal: 91ms\tremaining: 2m 55s\n",
      "300:\ttest: 0.7422976\tbest: 0.7433928 (181)\ttotal: 25.7s\tremaining: 2m 19s\n"
     ]
    },
    {
     "name": "stderr",
     "output_type": "stream",
     "text": [
      "[I 2025-02-24 05:41:15,433] Trial 7 finished with value: 0.7433928265273244 and parameters: {'iterations': 1927, 'depth': 7, 'learning_rate': 0.0941937211034094, 'l2_leaf_reg': 0.05654822767791934}. Best is trial 0 with value: 0.7443445685376392.\n"
     ]
    },
    {
     "name": "stdout",
     "output_type": "stream",
     "text": [
      "Stopped by overfitting detector  (300 iterations wait)\n",
      "\n",
      "bestTest = 0.7433928265\n",
      "bestIteration = 181\n",
      "\n",
      "Shrink model to first 182 iterations.\n",
      "0:\ttest: 0.7199331\tbest: 0.7199331 (0)\ttotal: 86ms\tremaining: 2m 43s\n",
      "300:\ttest: 0.7436665\tbest: 0.7436665 (300)\ttotal: 25.6s\tremaining: 2m 16s\n",
      "600:\ttest: 0.7438425\tbest: 0.7439986 (516)\ttotal: 54.2s\tremaining: 1m 57s\n"
     ]
    },
    {
     "name": "stderr",
     "output_type": "stream",
     "text": [
      "[I 2025-02-24 05:42:30,662] Trial 8 finished with value: 0.7439985852208888 and parameters: {'iterations': 1904, 'depth': 7, 'learning_rate': 0.05155602859187331, 'l2_leaf_reg': 1.299974533316308}. Best is trial 0 with value: 0.7443445685376392.\n"
     ]
    },
    {
     "name": "stdout",
     "output_type": "stream",
     "text": [
      "Stopped by overfitting detector  (300 iterations wait)\n",
      "\n",
      "bestTest = 0.7439985852\n",
      "bestIteration = 516\n",
      "\n",
      "Shrink model to first 517 iterations.\n",
      "0:\ttest: 0.7176682\tbest: 0.7176682 (0)\ttotal: 98.1ms\tremaining: 4m 18s\n",
      "300:\ttest: 0.7425762\tbest: 0.7425762 (300)\ttotal: 22.1s\tremaining: 2m 52s\n",
      "600:\ttest: 0.7435303\tbest: 0.7436254 (477)\ttotal: 46.9s\tremaining: 2m 39s\n",
      "900:\ttest: 0.7436134\tbest: 0.7437351 (846)\ttotal: 1m 12s\tremaining: 2m 18s\n"
     ]
    },
    {
     "name": "stderr",
     "output_type": "stream",
     "text": [
      "[I 2025-02-24 05:44:04,091] Trial 9 finished with value: 0.7437351169198858 and parameters: {'iterations': 2639, 'depth': 6, 'learning_rate': 0.03968704290444751, 'l2_leaf_reg': 0.30557194377967184}. Best is trial 0 with value: 0.7443445685376392.\n"
     ]
    },
    {
     "name": "stdout",
     "output_type": "stream",
     "text": [
      "Stopped by overfitting detector  (300 iterations wait)\n",
      "\n",
      "bestTest = 0.7437351169\n",
      "bestIteration = 846\n",
      "\n",
      "Shrink model to first 847 iterations.\n",
      "0:\ttest: 0.7271773\tbest: 0.7271773 (0)\ttotal: 170ms\tremaining: 8m 19s\n",
      "300:\ttest: 0.7431897\tbest: 0.7431907 (297)\ttotal: 44.3s\tremaining: 6m 29s\n",
      "600:\ttest: 0.7439508\tbest: 0.7439508 (598)\ttotal: 1m 34s\tremaining: 6m 9s\n",
      "900:\ttest: 0.7440384\tbest: 0.7440384 (900)\ttotal: 2m 38s\tremaining: 5m 58s\n",
      "1200:\ttest: 0.7440143\tbest: 0.7440384 (901)\ttotal: 3m 40s\tremaining: 5m 20s\n",
      "Stopped by overfitting detector  (300 iterations wait)\n",
      "\n",
      "bestTest = 0.7440384053\n",
      "bestIteration = 901\n",
      "\n",
      "Shrink model to first 902 iterations.\n"
     ]
    },
    {
     "name": "stderr",
     "output_type": "stream",
     "text": [
      "[I 2025-02-24 05:47:45,517] Trial 10 finished with value: 0.7440384052679492 and parameters: {'iterations': 2945, 'depth': 10, 'learning_rate': 0.025911330134996406, 'l2_leaf_reg': 97.18545559492516}. Best is trial 0 with value: 0.7443445685376392.\n"
     ]
    },
    {
     "name": "stdout",
     "output_type": "stream",
     "text": [
      "0:\ttest: 0.7272008\tbest: 0.7272008 (0)\ttotal: 161ms\tremaining: 8m 2s\n",
      "300:\ttest: 0.7429386\tbest: 0.7429386 (300)\ttotal: 43.5s\tremaining: 6m 29s\n",
      "600:\ttest: 0.7438158\tbest: 0.7438421 (590)\ttotal: 1m 31s\tremaining: 6m 4s\n",
      "900:\ttest: 0.7438948\tbest: 0.7438987 (897)\ttotal: 2m 33s\tremaining: 5m 56s\n",
      "1200:\ttest: 0.7438510\tbest: 0.7439240 (924)\ttotal: 3m 36s\tremaining: 5m 24s\n"
     ]
    },
    {
     "name": "stderr",
     "output_type": "stream",
     "text": [
      "[I 2025-02-24 05:51:27,657] Trial 11 finished with value: 0.7439240318320217 and parameters: {'iterations': 2995, 'depth': 10, 'learning_rate': 0.026163874004606635, 'l2_leaf_reg': 73.1213351392818}. Best is trial 0 with value: 0.7443445685376392.\n"
     ]
    },
    {
     "name": "stdout",
     "output_type": "stream",
     "text": [
      "Stopped by overfitting detector  (300 iterations wait)\n",
      "\n",
      "bestTest = 0.7439240318\n",
      "bestIteration = 924\n",
      "\n",
      "Shrink model to first 925 iterations.\n",
      "0:\ttest: 0.7243171\tbest: 0.7243171 (0)\ttotal: 127ms\tremaining: 5m 58s\n",
      "300:\ttest: 0.7427494\tbest: 0.7427494 (300)\ttotal: 32.7s\tremaining: 4m 35s\n",
      "600:\ttest: 0.7440931\tbest: 0.7440931 (600)\ttotal: 1m 7s\tremaining: 4m 10s\n",
      "900:\ttest: 0.7443303\tbest: 0.7443563 (889)\ttotal: 1m 45s\tremaining: 3m 45s\n"
     ]
    },
    {
     "name": "stderr",
     "output_type": "stream",
     "text": [
      "[I 2025-02-24 05:53:50,246] Trial 12 finished with value: 0.7443563263317503 and parameters: {'iterations': 2834, 'depth': 9, 'learning_rate': 0.02599223527222509, 'l2_leaf_reg': 4.031595942972541}. Best is trial 12 with value: 0.7443563263317503.\n"
     ]
    },
    {
     "name": "stdout",
     "output_type": "stream",
     "text": [
      "Stopped by overfitting detector  (300 iterations wait)\n",
      "\n",
      "bestTest = 0.7443563263\n",
      "bestIteration = 889\n",
      "\n",
      "Shrink model to first 890 iterations.\n",
      "저장 완료\n",
      "0:\ttest: 0.7243248\tbest: 0.7243248 (0)\ttotal: 122ms\tremaining: 5m 30s\n",
      "300:\ttest: 0.7428001\tbest: 0.7428001 (300)\ttotal: 32.5s\tremaining: 4m 19s\n",
      "600:\ttest: 0.7438555\tbest: 0.7438643 (599)\ttotal: 1m 6s\tremaining: 3m 53s\n",
      "900:\ttest: 0.7442302\tbest: 0.7442453 (893)\ttotal: 1m 45s\tremaining: 3m 30s\n",
      "1200:\ttest: 0.7440088\tbest: 0.7442665 (934)\ttotal: 2m 23s\tremaining: 2m 59s\n"
     ]
    },
    {
     "name": "stderr",
     "output_type": "stream",
     "text": [
      "[I 2025-02-24 05:56:18,640] Trial 13 finished with value: 0.7442665445942118 and parameters: {'iterations': 2702, 'depth': 9, 'learning_rate': 0.022316119918197153, 'l2_leaf_reg': 2.9717773264548533}. Best is trial 12 with value: 0.7443563263317503.\n"
     ]
    },
    {
     "name": "stdout",
     "output_type": "stream",
     "text": [
      "Stopped by overfitting detector  (300 iterations wait)\n",
      "\n",
      "bestTest = 0.7442665446\n",
      "bestIteration = 934\n",
      "\n",
      "Shrink model to first 935 iterations.\n",
      "0:\ttest: 0.7242959\tbest: 0.7242959 (0)\ttotal: 110ms\tremaining: 2m 49s\n",
      "300:\ttest: 0.7431064\tbest: 0.7431064 (300)\ttotal: 29.3s\tremaining: 2m\n",
      "600:\ttest: 0.7441423\tbest: 0.7441423 (600)\ttotal: 1m 1s\tremaining: 1m 35s\n",
      "900:\ttest: 0.7439773\tbest: 0.7441447 (602)\ttotal: 1m 34s\tremaining: 1m 6s\n"
     ]
    },
    {
     "name": "stderr",
     "output_type": "stream",
     "text": [
      "[I 2025-02-24 05:57:53,793] Trial 14 finished with value: 0.7441447336883856 and parameters: {'iterations': 1533, 'depth': 8, 'learning_rate': 0.03442742236648122, 'l2_leaf_reg': 6.613430598226704}. Best is trial 12 with value: 0.7443563263317503.\n"
     ]
    },
    {
     "name": "stdout",
     "output_type": "stream",
     "text": [
      "Stopped by overfitting detector  (300 iterations wait)\n",
      "\n",
      "bestTest = 0.7441447337\n",
      "bestIteration = 602\n",
      "\n",
      "Shrink model to first 603 iterations.\n",
      "0:\ttest: 0.7242998\tbest: 0.7242998 (0)\ttotal: 121ms\tremaining: 4m 48s\n",
      "300:\ttest: 0.7426738\tbest: 0.7432798 (211)\ttotal: 35.8s\tremaining: 4m 7s\n"
     ]
    },
    {
     "name": "stderr",
     "output_type": "stream",
     "text": [
      "[I 2025-02-24 05:58:57,243] Trial 15 finished with value: 0.7432798389306893 and parameters: {'iterations': 2380, 'depth': 9, 'learning_rate': 0.06359468363808216, 'l2_leaf_reg': 0.0354186851570454}. Best is trial 12 with value: 0.7443563263317503.\n"
     ]
    },
    {
     "name": "stdout",
     "output_type": "stream",
     "text": [
      "Stopped by overfitting detector  (300 iterations wait)\n",
      "\n",
      "bestTest = 0.7432798389\n",
      "bestIteration = 211\n",
      "\n",
      "Shrink model to first 212 iterations.\n",
      "0:\ttest: 0.7243073\tbest: 0.7243073 (0)\ttotal: 116ms\tremaining: 5m 22s\n",
      "300:\ttest: 0.7418103\tbest: 0.7418103 (300)\ttotal: 32.8s\tremaining: 4m 29s\n",
      "600:\ttest: 0.7432373\tbest: 0.7432393 (588)\ttotal: 1m 5s\tremaining: 3m 58s\n",
      "900:\ttest: 0.7438187\tbest: 0.7438265 (884)\ttotal: 1m 41s\tremaining: 3m 31s\n",
      "1200:\ttest: 0.7440711\tbest: 0.7441212 (1117)\ttotal: 2m 19s\tremaining: 3m 3s\n",
      "1500:\ttest: 0.7440369\tbest: 0.7441269 (1409)\ttotal: 2m 57s\tremaining: 2m 31s\n"
     ]
    },
    {
     "name": "stderr",
     "output_type": "stream",
     "text": [
      "[I 2025-02-24 06:02:22,438] Trial 16 finished with value: 0.7441268567586024 and parameters: {'iterations': 2779, 'depth': 9, 'learning_rate': 0.015627704142452237, 'l2_leaf_reg': 5.310094095990467}. Best is trial 12 with value: 0.7443563263317503.\n"
     ]
    },
    {
     "name": "stdout",
     "output_type": "stream",
     "text": [
      "Stopped by overfitting detector  (300 iterations wait)\n",
      "\n",
      "bestTest = 0.7441268568\n",
      "bestIteration = 1409\n",
      "\n",
      "Shrink model to first 1410 iterations.\n",
      "0:\ttest: 0.7242971\tbest: 0.7242971 (0)\ttotal: 109ms\tremaining: 4m 29s\n",
      "300:\ttest: 0.7371927\tbest: 0.7371927 (300)\ttotal: 28.2s\tremaining: 3m 24s\n",
      "600:\ttest: 0.7401929\tbest: 0.7401929 (600)\ttotal: 56.5s\tremaining: 2m 56s\n",
      "900:\ttest: 0.7415430\tbest: 0.7415430 (900)\ttotal: 1m 26s\tremaining: 2m 30s\n",
      "1200:\ttest: 0.7423540\tbest: 0.7423540 (1200)\ttotal: 1m 55s\tremaining: 2m 2s\n",
      "1500:\ttest: 0.7428385\tbest: 0.7428385 (1500)\ttotal: 2m 25s\tremaining: 1m 35s\n",
      "1800:\ttest: 0.7431385\tbest: 0.7431442 (1787)\ttotal: 2m 55s\tremaining: 1m 6s\n",
      "2100:\ttest: 0.7433881\tbest: 0.7433881 (2100)\ttotal: 3m 25s\tremaining: 37.2s\n",
      "2400:\ttest: 0.7436163\tbest: 0.7436221 (2397)\ttotal: 3m 55s\tremaining: 7.84s\n"
     ]
    },
    {
     "name": "stderr",
     "output_type": "stream",
     "text": [
      "[I 2025-02-24 06:06:26,327] Trial 17 finished with value: 0.7436918024929478 and parameters: {'iterations': 2481, 'depth': 8, 'learning_rate': 0.005584656428997952, 'l2_leaf_reg': 0.5197508336460719}. Best is trial 12 with value: 0.7443563263317503.\n"
     ]
    },
    {
     "name": "stdout",
     "output_type": "stream",
     "text": [
      "2480:\ttest: 0.7436918\tbest: 0.7436918 (2480)\ttotal: 4m 3s\tremaining: 0us\n",
      "\n",
      "bestTest = 0.7436918025\n",
      "bestIteration = 2480\n",
      "\n",
      "0:\ttest: 0.7242739\tbest: 0.7242739 (0)\ttotal: 101ms\tremaining: 4m 44s\n",
      "300:\ttest: 0.7430538\tbest: 0.7430676 (299)\ttotal: 27.6s\tremaining: 3m 51s\n",
      "600:\ttest: 0.7440488\tbest: 0.7440501 (586)\ttotal: 57.5s\tremaining: 3m 32s\n",
      "900:\ttest: 0.7440930\tbest: 0.7441091 (858)\ttotal: 1m 28s\tremaining: 3m 8s\n"
     ]
    },
    {
     "name": "stderr",
     "output_type": "stream",
     "text": [
      "[I 2025-02-24 06:08:22,555] Trial 18 finished with value: 0.7441090592465437 and parameters: {'iterations': 2822, 'depth': 8, 'learning_rate': 0.03518490044616665, 'l2_leaf_reg': 16.01148493695368}. Best is trial 12 with value: 0.7443563263317503.\n"
     ]
    },
    {
     "name": "stdout",
     "output_type": "stream",
     "text": [
      "Stopped by overfitting detector  (300 iterations wait)\n",
      "\n",
      "bestTest = 0.7441090592\n",
      "bestIteration = 858\n",
      "\n",
      "Shrink model to first 859 iterations.\n",
      "0:\ttest: 0.7242705\tbest: 0.7242705 (0)\ttotal: 118ms\tremaining: 4m 15s\n",
      "300:\ttest: 0.7422646\tbest: 0.7422646 (300)\ttotal: 31.2s\tremaining: 3m 13s\n",
      "600:\ttest: 0.7435150\tbest: 0.7435254 (597)\ttotal: 1m 1s\tremaining: 2m 40s\n",
      "900:\ttest: 0.7440485\tbest: 0.7440485 (900)\ttotal: 1m 36s\tremaining: 2m 15s\n",
      "1200:\ttest: 0.7441364\tbest: 0.7441616 (1123)\ttotal: 2m 12s\tremaining: 1m 46s\n",
      "1500:\ttest: 0.7441256\tbest: 0.7441944 (1353)\ttotal: 2m 49s\tremaining: 1m 15s\n"
     ]
    },
    {
     "name": "stderr",
     "output_type": "stream",
     "text": [
      "[I 2025-02-24 06:11:31,815] Trial 19 finished with value: 0.7441944015332831 and parameters: {'iterations': 2169, 'depth': 9, 'learning_rate': 0.0183172989342761, 'l2_leaf_reg': 15.885778951061297}. Best is trial 12 with value: 0.7443563263317503.\n",
      "[I 2025-02-24 06:11:31,821] A new study created in memory with name: no-name-13a7cf25-d355-442e-b8e6-2250e246245f\n"
     ]
    },
    {
     "name": "stdout",
     "output_type": "stream",
     "text": [
      "Stopped by overfitting detector  (300 iterations wait)\n",
      "\n",
      "bestTest = 0.7441944015\n",
      "bestIteration = 1353\n",
      "\n",
      "Shrink model to first 1354 iterations.\n"
     ]
    },
    {
     "name": "stderr",
     "output_type": "stream",
     "text": [
      "[I 2025-02-24 06:11:56,667] Trial 0 finished with value: 0.7354573757289713 and parameters: {'num_iterations': 2366, 'objective': 'binary', 'metric': 'auc', 'verbose': -1, 'learning_rate': 0.0652646236447618, 'n_estimators': 236, 'min_child_samples': 45, 'subsample': 0.7, 'colsample_bytree': 0.5}. Best is trial 0 with value: 0.7354573757289713.\n",
      "[I 2025-02-24 06:12:14,271] Trial 1 finished with value: 0.7437280169753162 and parameters: {'num_iterations': 1510, 'objective': 'binary', 'metric': 'auc', 'verbose': -1, 'learning_rate': 0.005231880959249543, 'n_estimators': 1411, 'min_child_samples': 10, 'subsample': 1.0, 'colsample_bytree': 0.5}. Best is trial 1 with value: 0.7437280169753162.\n",
      "[I 2025-02-24 06:12:34,555] Trial 2 finished with value: 0.7431687176505798 and parameters: {'num_iterations': 2334, 'objective': 'binary', 'metric': 'auc', 'verbose': -1, 'learning_rate': 0.006578527777128852, 'n_estimators': 931, 'min_child_samples': 15, 'subsample': 0.5, 'colsample_bytree': 1.0}. Best is trial 1 with value: 0.7437280169753162.\n",
      "[I 2025-02-24 06:12:51,200] Trial 3 finished with value: 0.743925679749805 and parameters: {'num_iterations': 1620, 'objective': 'binary', 'metric': 'auc', 'verbose': -1, 'learning_rate': 0.0058823249237283685, 'n_estimators': 837, 'min_child_samples': 10, 'subsample': 0.9, 'colsample_bytree': 0.6}. Best is trial 3 with value: 0.743925679749805.\n",
      "[I 2025-02-24 06:13:08,043] Trial 4 finished with value: 0.7436622868956403 and parameters: {'num_iterations': 1997, 'objective': 'binary', 'metric': 'auc', 'verbose': -1, 'learning_rate': 0.010907507425244923, 'n_estimators': 1597, 'min_child_samples': 50, 'subsample': 0.6, 'colsample_bytree': 0.8}. Best is trial 3 with value: 0.743925679749805.\n",
      "[I 2025-02-24 06:13:31,100] Trial 5 finished with value: 0.7403085756624892 and parameters: {'num_iterations': 2909, 'objective': 'binary', 'metric': 'auc', 'verbose': -1, 'learning_rate': 0.019760591962733942, 'n_estimators': 612, 'min_child_samples': 30, 'subsample': 0.7, 'colsample_bytree': 0.9}. Best is trial 3 with value: 0.743925679749805.\n",
      "[I 2025-02-24 06:13:52,198] Trial 6 finished with value: 0.7417631271701092 and parameters: {'num_iterations': 2639, 'objective': 'binary', 'metric': 'auc', 'verbose': -1, 'learning_rate': 0.017862094446750985, 'n_estimators': 794, 'min_child_samples': 35, 'subsample': 1.0, 'colsample_bytree': 0.8}. Best is trial 3 with value: 0.743925679749805.\n",
      "[I 2025-02-24 06:14:09,426] Trial 7 finished with value: 0.7436352094224746 and parameters: {'num_iterations': 1580, 'objective': 'binary', 'metric': 'auc', 'verbose': -1, 'learning_rate': 0.01776722177611332, 'n_estimators': 529, 'min_child_samples': 25, 'subsample': 0.8, 'colsample_bytree': 0.5}. Best is trial 3 with value: 0.743925679749805.\n",
      "[I 2025-02-24 06:14:27,287] Trial 8 finished with value: 0.7416241223269304 and parameters: {'num_iterations': 1911, 'objective': 'binary', 'metric': 'auc', 'verbose': -1, 'learning_rate': 0.0304747553332844, 'n_estimators': 1328, 'min_child_samples': 10, 'subsample': 0.7, 'colsample_bytree': 0.6}. Best is trial 3 with value: 0.743925679749805.\n",
      "[I 2025-02-24 06:14:55,708] Trial 9 finished with value: 0.7410680235364909 and parameters: {'num_iterations': 2739, 'objective': 'binary', 'metric': 'auc', 'verbose': -1, 'learning_rate': 0.02691531614176271, 'n_estimators': 1438, 'min_child_samples': 20, 'subsample': 0.6, 'colsample_bytree': 0.5}. Best is trial 3 with value: 0.743925679749805.\n",
      "[I 2025-02-24 06:15:10,527] Trial 10 finished with value: 0.7339973841072236 and parameters: {'num_iterations': 1883, 'objective': 'binary', 'metric': 'auc', 'verbose': -1, 'learning_rate': 0.08223556891145911, 'n_estimators': 1917, 'min_child_samples': 40, 'subsample': 0.9, 'colsample_bytree': 0.7}. Best is trial 3 with value: 0.743925679749805.\n",
      "[I 2025-02-24 06:15:26,328] Trial 11 finished with value: 0.7437444802696035 and parameters: {'num_iterations': 1513, 'objective': 'binary', 'metric': 'auc', 'verbose': -1, 'learning_rate': 0.005340229419903739, 'n_estimators': 1206, 'min_child_samples': 10, 'subsample': 1.0, 'colsample_bytree': 0.6}. Best is trial 3 with value: 0.743925679749805.\n",
      "[I 2025-02-24 06:15:41,403] Trial 12 finished with value: 0.7441558879077905 and parameters: {'num_iterations': 1717, 'objective': 'binary', 'metric': 'auc', 'verbose': -1, 'learning_rate': 0.008807202863131344, 'n_estimators': 1093, 'min_child_samples': 20, 'subsample': 0.9, 'colsample_bytree': 0.7}. Best is trial 12 with value: 0.7441558879077905.\n",
      "[I 2025-02-24 06:15:56,772] Trial 13 finished with value: 0.7438158728330357 and parameters: {'num_iterations': 1785, 'objective': 'binary', 'metric': 'auc', 'verbose': -1, 'learning_rate': 0.010668787980411185, 'n_estimators': 1055, 'min_child_samples': 20, 'subsample': 0.9, 'colsample_bytree': 0.7}. Best is trial 12 with value: 0.7441558879077905.\n",
      "[I 2025-02-24 06:16:17,903] Trial 14 finished with value: 0.7438242593447422 and parameters: {'num_iterations': 2165, 'objective': 'binary', 'metric': 'auc', 'verbose': -1, 'learning_rate': 0.008676723130645643, 'n_estimators': 172, 'min_child_samples': 20, 'subsample': 0.9, 'colsample_bytree': 0.6}. Best is trial 12 with value: 0.7441558879077905.\n",
      "[I 2025-02-24 06:16:33,237] Trial 15 finished with value: 0.7442226186507952 and parameters: {'num_iterations': 1739, 'objective': 'binary', 'metric': 'auc', 'verbose': -1, 'learning_rate': 0.008303365162986591, 'n_estimators': 687, 'min_child_samples': 25, 'subsample': 0.8, 'colsample_bytree': 0.7}. Best is trial 15 with value: 0.7442226186507952.\n",
      "[I 2025-02-24 06:16:50,959] Trial 16 finished with value: 0.7435585355803636 and parameters: {'num_iterations': 2134, 'objective': 'binary', 'metric': 'auc', 'verbose': -1, 'learning_rate': 0.012338061435707095, 'n_estimators': 502, 'min_child_samples': 30, 'subsample': 0.8, 'colsample_bytree': 0.8}. Best is trial 15 with value: 0.7442226186507952.\n",
      "[I 2025-02-24 06:17:06,556] Trial 17 finished with value: 0.7441579011471064 and parameters: {'num_iterations': 1768, 'objective': 'binary', 'metric': 'auc', 'verbose': -1, 'learning_rate': 0.008166258047721095, 'n_estimators': 1068, 'min_child_samples': 25, 'subsample': 0.8, 'colsample_bytree': 0.7}. Best is trial 15 with value: 0.7442226186507952.\n",
      "[I 2025-02-24 06:17:22,582] Trial 18 finished with value: 0.7375375681574824 and parameters: {'num_iterations': 2037, 'objective': 'binary', 'metric': 'auc', 'verbose': -1, 'learning_rate': 0.04317425710723184, 'n_estimators': 690, 'min_child_samples': 35, 'subsample': 0.8, 'colsample_bytree': 0.9}. Best is trial 15 with value: 0.7442226186507952.\n",
      "[I 2025-02-24 06:17:42,835] Trial 19 finished with value: 0.7424518813566542 and parameters: {'num_iterations': 2492, 'objective': 'binary', 'metric': 'auc', 'verbose': -1, 'learning_rate': 0.013860352718094554, 'n_estimators': 354, 'min_child_samples': 30, 'subsample': 0.6, 'colsample_bytree': 0.9}. Best is trial 15 with value: 0.7442226186507952.\n",
      "[I 2025-02-24 06:17:58,458] Trial 20 finished with value: 0.7440911068699223 and parameters: {'num_iterations': 1772, 'objective': 'binary', 'metric': 'auc', 'verbose': -1, 'learning_rate': 0.007877155758725746, 'n_estimators': 1693, 'min_child_samples': 25, 'subsample': 0.8, 'colsample_bytree': 0.7}. Best is trial 15 with value: 0.7442226186507952.\n",
      "[I 2025-02-24 06:18:13,634] Trial 21 finished with value: 0.7441725179792992 and parameters: {'num_iterations': 1724, 'objective': 'binary', 'metric': 'auc', 'verbose': -1, 'learning_rate': 0.008442868418098375, 'n_estimators': 1064, 'min_child_samples': 25, 'subsample': 0.9, 'colsample_bytree': 0.7}. Best is trial 15 with value: 0.7442226186507952.\n",
      "[I 2025-02-24 06:18:28,764] Trial 22 finished with value: 0.7441525682469068 and parameters: {'num_iterations': 1686, 'objective': 'binary', 'metric': 'auc', 'verbose': -1, 'learning_rate': 0.0071619329164751685, 'n_estimators': 960, 'min_child_samples': 25, 'subsample': 0.8, 'colsample_bytree': 0.7}. Best is trial 15 with value: 0.7442226186507952.\n",
      "[I 2025-02-24 06:18:44,322] Trial 23 finished with value: 0.7431844820688914 and parameters: {'num_iterations': 1871, 'objective': 'binary', 'metric': 'auc', 'verbose': -1, 'learning_rate': 0.014100667796044903, 'n_estimators': 1229, 'min_child_samples': 35, 'subsample': 0.7, 'colsample_bytree': 0.8}. Best is trial 15 with value: 0.7442226186507952.\n",
      "[I 2025-02-24 06:19:04,095] Trial 24 finished with value: 0.7440830618544312 and parameters: {'num_iterations': 2039, 'objective': 'binary', 'metric': 'auc', 'verbose': -1, 'learning_rate': 0.010015111047849818, 'n_estimators': 754, 'min_child_samples': 25, 'subsample': 0.9, 'colsample_bytree': 0.6}. Best is trial 15 with value: 0.7442226186507952.\n",
      "[I 2025-02-24 06:19:19,994] Trial 25 finished with value: 0.7439730047718298 and parameters: {'num_iterations': 1808, 'objective': 'binary', 'metric': 'auc', 'verbose': -1, 'learning_rate': 0.00784747185876468, 'n_estimators': 1127, 'min_child_samples': 30, 'subsample': 0.8, 'colsample_bytree': 0.7}. Best is trial 15 with value: 0.7442226186507952.\n",
      "[I 2025-02-24 06:19:34,096] Trial 26 finished with value: 0.7434962125210683 and parameters: {'num_iterations': 1640, 'objective': 'binary', 'metric': 'auc', 'verbose': -1, 'learning_rate': 0.013957939080451736, 'n_estimators': 934, 'min_child_samples': 15, 'subsample': 1.0, 'colsample_bytree': 0.8}. Best is trial 15 with value: 0.7442226186507952.\n",
      "[I 2025-02-24 06:19:49,939] Trial 27 finished with value: 0.7418559863444717 and parameters: {'num_iterations': 1926, 'objective': 'binary', 'metric': 'auc', 'verbose': -1, 'learning_rate': 0.02434118630490747, 'n_estimators': 1600, 'min_child_samples': 15, 'subsample': 0.9, 'colsample_bytree': 0.7}. Best is trial 15 with value: 0.7442226186507952.\n",
      "[I 2025-02-24 06:20:09,989] Trial 28 finished with value: 0.7392420273896484 and parameters: {'num_iterations': 2196, 'objective': 'binary', 'metric': 'auc', 'verbose': -1, 'learning_rate': 0.03898130569041551, 'n_estimators': 394, 'min_child_samples': 25, 'subsample': 0.8, 'colsample_bytree': 0.6}. Best is trial 15 with value: 0.7442226186507952.\n",
      "[I 2025-02-24 06:20:30,255] Trial 29 finished with value: 0.7439376956515206 and parameters: {'num_iterations': 2362, 'objective': 'binary', 'metric': 'auc', 'verbose': -1, 'learning_rate': 0.006606491608799092, 'n_estimators': 315, 'min_child_samples': 40, 'subsample': 0.7, 'colsample_bytree': 0.8}. Best is trial 15 with value: 0.7442226186507952.\n",
      "[I 2025-02-24 06:20:45,384] Trial 30 finished with value: 0.744112934831499 and parameters: {'num_iterations': 1731, 'objective': 'binary', 'metric': 'auc', 'verbose': -1, 'learning_rate': 0.009171538526451433, 'n_estimators': 104, 'min_child_samples': 40, 'subsample': 0.5, 'colsample_bytree': 0.7}. Best is trial 15 with value: 0.7442226186507952.\n",
      "[I 2025-02-24 06:21:00,122] Trial 31 finished with value: 0.7441523220519608 and parameters: {'num_iterations': 1678, 'objective': 'binary', 'metric': 'auc', 'verbose': -1, 'learning_rate': 0.008782282477112154, 'n_estimators': 1109, 'min_child_samples': 20, 'subsample': 0.9, 'colsample_bytree': 0.7}. Best is trial 15 with value: 0.7442226186507952.\n",
      "[I 2025-02-24 06:21:13,162] Trial 32 finished with value: 0.7439518320064802 and parameters: {'num_iterations': 1501, 'objective': 'binary', 'metric': 'auc', 'verbose': -1, 'learning_rate': 0.011858716875276107, 'n_estimators': 1308, 'min_child_samples': 20, 'subsample': 0.9, 'colsample_bytree': 0.7}. Best is trial 15 with value: 0.7442226186507952.\n",
      "[I 2025-02-24 06:21:31,706] Trial 33 finished with value: 0.7439638836461719 and parameters: {'num_iterations': 1805, 'objective': 'binary', 'metric': 'auc', 'verbose': -1, 'learning_rate': 0.005139006726093709, 'n_estimators': 981, 'min_child_samples': 15, 'subsample': 1.0, 'colsample_bytree': 0.6}. Best is trial 15 with value: 0.7442226186507952.\n",
      "[I 2025-02-24 06:21:46,350] Trial 34 finished with value: 0.7440060901958533 and parameters: {'num_iterations': 1607, 'objective': 'binary', 'metric': 'auc', 'verbose': -1, 'learning_rate': 0.0063345252195929095, 'n_estimators': 846, 'min_child_samples': 25, 'subsample': 0.8, 'colsample_bytree': 0.7}. Best is trial 15 with value: 0.7442226186507952.\n",
      "[I 2025-02-24 06:22:03,416] Trial 35 finished with value: 0.7440650737398337 and parameters: {'num_iterations': 1961, 'objective': 'binary', 'metric': 'auc', 'verbose': -1, 'learning_rate': 0.007332563432931085, 'n_estimators': 1443, 'min_child_samples': 20, 'subsample': 0.9, 'colsample_bytree': 0.8}. Best is trial 15 with value: 0.7442226186507952.\n",
      "[I 2025-02-24 06:22:26,045] Trial 36 finished with value: 0.7439727307806804 and parameters: {'num_iterations': 2278, 'objective': 'binary', 'metric': 'auc', 'verbose': -1, 'learning_rate': 0.006036089169172073, 'n_estimators': 656, 'min_child_samples': 30, 'subsample': 0.7, 'colsample_bytree': 0.6}. Best is trial 15 with value: 0.7442226186507952.\n",
      "[I 2025-02-24 06:22:40,376] Trial 37 finished with value: 0.7425259979480366 and parameters: {'num_iterations': 1721, 'objective': 'binary', 'metric': 'auc', 'verbose': -1, 'learning_rate': 0.015328196727454807, 'n_estimators': 848, 'min_child_samples': 25, 'subsample': 1.0, 'colsample_bytree': 1.0}. Best is trial 15 with value: 0.7442226186507952.\n",
      "[I 2025-02-24 06:22:53,940] Trial 38 finished with value: 0.7439071793908845 and parameters: {'num_iterations': 1568, 'objective': 'binary', 'metric': 'auc', 'verbose': -1, 'learning_rate': 0.009842178324086853, 'n_estimators': 1202, 'min_child_samples': 30, 'subsample': 0.8, 'colsample_bytree': 0.8}. Best is trial 15 with value: 0.7442226186507952.\n",
      "[I 2025-02-24 06:23:11,448] Trial 39 finished with value: 0.7425274115835325 and parameters: {'num_iterations': 2100, 'objective': 'binary', 'metric': 'auc', 'verbose': -1, 'learning_rate': 0.01189222863633718, 'n_estimators': 1014, 'min_child_samples': 15, 'subsample': 0.9, 'colsample_bytree': 0.9}. Best is trial 15 with value: 0.7442226186507952.\n"
     ]
    },
    {
     "name": "stdout",
     "output_type": "stream",
     "text": [
      "Cat val score : 0.7443563263317503\n",
      "LGBM val score : 0.7441247879268794\n",
      "Ensemble val score : 0.7446010123409108\n"
     ]
    },
    {
     "name": "stderr",
     "output_type": "stream",
     "text": [
      "[I 2025-02-24 06:23:28,032] A new study created in memory with name: no-name-79be6256-e582-4139-9156-37b81b86186f\n"
     ]
    },
    {
     "name": "stdout",
     "output_type": "stream",
     "text": [
      "==================================================\n",
      "0:\ttest: 0.7223134\tbest: 0.7223134 (0)\ttotal: 149ms\tremaining: 5m 52s\n",
      "300:\ttest: 0.7362929\tbest: 0.7362929 (300)\ttotal: 42.5s\tremaining: 4m 51s\n",
      "600:\ttest: 0.7378378\tbest: 0.7378396 (596)\ttotal: 1m 27s\tremaining: 4m 16s\n",
      "900:\ttest: 0.7382614\tbest: 0.7382614 (900)\ttotal: 2m 13s\tremaining: 3m 36s\n",
      "1200:\ttest: 0.7385905\tbest: 0.7385929 (1198)\ttotal: 3m 1s\tremaining: 2m 56s\n",
      "1500:\ttest: 0.7387180\tbest: 0.7387372 (1487)\ttotal: 3m 54s\tremaining: 2m 15s\n",
      "1800:\ttest: 0.7387374\tbest: 0.7387640 (1611)\ttotal: 4m 49s\tremaining: 1m 30s\n"
     ]
    },
    {
     "name": "stderr",
     "output_type": "stream",
     "text": [
      "[I 2025-02-24 06:28:38,073] Trial 0 finished with value: 0.7387640240185883 and parameters: {'iterations': 2366, 'depth': 10, 'learning_rate': 0.01181021951839225, 'l2_leaf_reg': 9.980783802743254}. Best is trial 0 with value: 0.7387640240185883.\n"
     ]
    },
    {
     "name": "stdout",
     "output_type": "stream",
     "text": [
      "Stopped by overfitting detector  (300 iterations wait)\n",
      "\n",
      "bestTest = 0.738764024\n",
      "bestIteration = 1611\n",
      "\n",
      "Shrink model to first 1612 iterations.\n",
      "저장 완료\n",
      "0:\ttest: 0.7013859\tbest: 0.7013859 (0)\ttotal: 64.2ms\tremaining: 2m 20s\n",
      "300:\ttest: 0.7280651\tbest: 0.7280651 (300)\ttotal: 14s\tremaining: 1m 28s\n",
      "600:\ttest: 0.7317956\tbest: 0.7317956 (600)\ttotal: 28.3s\tremaining: 1m 15s\n",
      "900:\ttest: 0.7340316\tbest: 0.7340316 (900)\ttotal: 42.8s\tremaining: 1m 1s\n",
      "1200:\ttest: 0.7351705\tbest: 0.7351705 (1200)\ttotal: 57.6s\tremaining: 47.6s\n",
      "1500:\ttest: 0.7359261\tbest: 0.7359261 (1500)\ttotal: 1m 12s\tremaining: 33.5s\n",
      "1800:\ttest: 0.7365261\tbest: 0.7365261 (1800)\ttotal: 1m 27s\tremaining: 19.1s\n",
      "2100:\ttest: 0.7369650\tbest: 0.7369650 (2100)\ttotal: 1m 42s\tremaining: 4.5s\n"
     ]
    },
    {
     "name": "stderr",
     "output_type": "stream",
     "text": [
      "[I 2025-02-24 06:30:25,915] Trial 1 finished with value: 0.7371087839211765 and parameters: {'iterations': 2193, 'depth': 4, 'learning_rate': 0.005671430811678843, 'l2_leaf_reg': 0.00012325230809466137}. Best is trial 0 with value: 0.7387640240185883.\n"
     ]
    },
    {
     "name": "stdout",
     "output_type": "stream",
     "text": [
      "2192:\ttest: 0.7371088\tbest: 0.7371088 (2192)\ttotal: 1m 47s\tremaining: 0us\n",
      "\n",
      "bestTest = 0.7371087839\n",
      "bestIteration = 2192\n",
      "\n",
      "0:\ttest: 0.7013859\tbest: 0.7013859 (0)\ttotal: 61.9ms\tremaining: 2m 36s\n",
      "300:\ttest: 0.7384335\tbest: 0.7384764 (292)\ttotal: 15.4s\tremaining: 1m 54s\n",
      "600:\ttest: 0.7382618\tbest: 0.7384809 (327)\ttotal: 31.3s\tremaining: 1m 40s\n"
     ]
    },
    {
     "name": "stderr",
     "output_type": "stream",
     "text": [
      "[I 2025-02-24 06:30:58,785] Trial 2 finished with value: 0.7384809038016598 and parameters: {'iterations': 2535, 'depth': 4, 'learning_rate': 0.09275339199839054, 'l2_leaf_reg': 0.0008705394248343123}. Best is trial 0 with value: 0.7387640240185883.\n"
     ]
    },
    {
     "name": "stdout",
     "output_type": "stream",
     "text": [
      "Stopped by overfitting detector  (300 iterations wait)\n",
      "\n",
      "bestTest = 0.7384809038\n",
      "bestIteration = 327\n",
      "\n",
      "Shrink model to first 328 iterations.\n",
      "0:\ttest: 0.7013859\tbest: 0.7013859 (0)\ttotal: 57ms\tremaining: 2m 12s\n",
      "300:\ttest: 0.7376008\tbest: 0.7376025 (299)\ttotal: 14.6s\tremaining: 1m 38s\n",
      "600:\ttest: 0.7384044\tbest: 0.7384191 (591)\ttotal: 30.3s\tremaining: 1m 27s\n",
      "900:\ttest: 0.7382849\tbest: 0.7384325 (729)\ttotal: 46.1s\tremaining: 1m 13s\n"
     ]
    },
    {
     "name": "stderr",
     "output_type": "stream",
     "text": [
      "[I 2025-02-24 06:31:51,962] Trial 3 finished with value: 0.738432502669468 and parameters: {'iterations': 2334, 'depth': 4, 'learning_rate': 0.04657568321363276, 'l2_leaf_reg': 0.0008640473331457248}. Best is trial 0 with value: 0.7387640240185883.\n"
     ]
    },
    {
     "name": "stdout",
     "output_type": "stream",
     "text": [
      "Stopped by overfitting detector  (300 iterations wait)\n",
      "\n",
      "bestTest = 0.7384325027\n",
      "bestIteration = 729\n",
      "\n",
      "Shrink model to first 730 iterations.\n",
      "0:\ttest: 0.7223230\tbest: 0.7223230 (0)\ttotal: 139ms\tremaining: 4m 2s\n",
      "300:\ttest: 0.7355138\tbest: 0.7355253 (298)\ttotal: 41s\tremaining: 3m 16s\n",
      "600:\ttest: 0.7355992\tbest: 0.7358837 (380)\ttotal: 1m 24s\tremaining: 2m 40s\n"
     ]
    },
    {
     "name": "stderr",
     "output_type": "stream",
     "text": [
      "[I 2025-02-24 06:33:28,308] Trial 4 finished with value: 0.7358836583069558 and parameters: {'iterations': 1742, 'depth': 10, 'learning_rate': 0.012622767482095846, 'l2_leaf_reg': 0.00021158816350109617}. Best is trial 0 with value: 0.7387640240185883.\n"
     ]
    },
    {
     "name": "stdout",
     "output_type": "stream",
     "text": [
      "Stopped by overfitting detector  (300 iterations wait)\n",
      "\n",
      "bestTest = 0.7358836583\n",
      "bestIteration = 380\n",
      "\n",
      "Shrink model to first 381 iterations.\n",
      "0:\ttest: 0.7013859\tbest: 0.7013859 (0)\ttotal: 58.8ms\tremaining: 2m 2s\n",
      "300:\ttest: 0.7381421\tbest: 0.7381476 (290)\ttotal: 15.2s\tremaining: 1m 29s\n",
      "600:\ttest: 0.7383181\tbest: 0.7384626 (478)\ttotal: 31s\tremaining: 1m 16s\n"
     ]
    },
    {
     "name": "stderr",
     "output_type": "stream",
     "text": [
      "[I 2025-02-24 06:34:08,908] Trial 5 finished with value: 0.7384625741908469 and parameters: {'iterations': 2082, 'depth': 4, 'learning_rate': 0.06995196593094148, 'l2_leaf_reg': 0.0018080296485396804}. Best is trial 0 with value: 0.7387640240185883.\n"
     ]
    },
    {
     "name": "stdout",
     "output_type": "stream",
     "text": [
      "Stopped by overfitting detector  (300 iterations wait)\n",
      "\n",
      "bestTest = 0.7384625742\n",
      "bestIteration = 478\n",
      "\n",
      "Shrink model to first 479 iterations.\n",
      "0:\ttest: 0.7061979\tbest: 0.7061979 (0)\ttotal: 67.5ms\tremaining: 2m 14s\n",
      "300:\ttest: 0.7382072\tbest: 0.7382296 (293)\ttotal: 18.7s\tremaining: 1m 45s\n",
      "600:\ttest: 0.7384910\tbest: 0.7385032 (572)\ttotal: 38s\tremaining: 1m 28s\n",
      "900:\ttest: 0.7385898\tbest: 0.7386349 (857)\ttotal: 57.4s\tremaining: 1m 9s\n",
      "1200:\ttest: 0.7387182\tbest: 0.7387944 (1118)\ttotal: 1m 16s\tremaining: 50.9s\n"
     ]
    },
    {
     "name": "stderr",
     "output_type": "stream",
     "text": [
      "[I 2025-02-24 06:35:40,293] Trial 6 finished with value: 0.7387943774728892 and parameters: {'iterations': 1997, 'depth': 5, 'learning_rate': 0.07985155992831598, 'l2_leaf_reg': 62.52181000710482}. Best is trial 6 with value: 0.7387943774728892.\n"
     ]
    },
    {
     "name": "stdout",
     "output_type": "stream",
     "text": [
      "Stopped by overfitting detector  (300 iterations wait)\n",
      "\n",
      "bestTest = 0.7387943775\n",
      "bestIteration = 1118\n",
      "\n",
      "Shrink model to first 1119 iterations.\n",
      "저장 완료\n",
      "0:\ttest: 0.7191571\tbest: 0.7191571 (0)\ttotal: 88.2ms\tremaining: 2m 49s\n",
      "300:\ttest: 0.7380155\tbest: 0.7384970 (171)\ttotal: 25.8s\tremaining: 2m 19s\n"
     ]
    },
    {
     "name": "stderr",
     "output_type": "stream",
     "text": [
      "[I 2025-02-24 06:36:21,610] Trial 7 finished with value: 0.7384969501528934 and parameters: {'iterations': 1927, 'depth': 7, 'learning_rate': 0.0941937211034094, 'l2_leaf_reg': 0.05654822767791934}. Best is trial 6 with value: 0.7387943774728892.\n"
     ]
    },
    {
     "name": "stdout",
     "output_type": "stream",
     "text": [
      "Stopped by overfitting detector  (300 iterations wait)\n",
      "\n",
      "bestTest = 0.7384969502\n",
      "bestIteration = 171\n",
      "\n",
      "Shrink model to first 172 iterations.\n",
      "0:\ttest: 0.7191568\tbest: 0.7191568 (0)\ttotal: 86ms\tremaining: 2m 43s\n",
      "300:\ttest: 0.7390129\tbest: 0.7390129 (300)\ttotal: 24.7s\tremaining: 2m 11s\n",
      "600:\ttest: 0.7390934\tbest: 0.7391735 (368)\ttotal: 51.4s\tremaining: 1m 51s\n"
     ]
    },
    {
     "name": "stderr",
     "output_type": "stream",
     "text": [
      "[I 2025-02-24 06:37:19,507] Trial 8 finished with value: 0.7391735375440462 and parameters: {'iterations': 1904, 'depth': 7, 'learning_rate': 0.05155602859187331, 'l2_leaf_reg': 1.299974533316308}. Best is trial 8 with value: 0.7391735375440462.\n"
     ]
    },
    {
     "name": "stdout",
     "output_type": "stream",
     "text": [
      "Stopped by overfitting detector  (300 iterations wait)\n",
      "\n",
      "bestTest = 0.7391735375\n",
      "bestIteration = 368\n",
      "\n",
      "Shrink model to first 369 iterations.\n",
      "저장 완료\n",
      "0:\ttest: 0.7177605\tbest: 0.7177605 (0)\ttotal: 79.1ms\tremaining: 3m 28s\n",
      "300:\ttest: 0.7379416\tbest: 0.7379416 (300)\ttotal: 21.2s\tremaining: 2m 44s\n",
      "600:\ttest: 0.7388089\tbest: 0.7388336 (578)\ttotal: 44.4s\tremaining: 2m 30s\n",
      "900:\ttest: 0.7387162\tbest: 0.7389304 (704)\ttotal: 1m 7s\tremaining: 2m 10s\n"
     ]
    },
    {
     "name": "stderr",
     "output_type": "stream",
     "text": [
      "[I 2025-02-24 06:38:35,579] Trial 9 finished with value: 0.7389304279767168 and parameters: {'iterations': 2639, 'depth': 6, 'learning_rate': 0.03968704290444751, 'l2_leaf_reg': 0.30557194377967184}. Best is trial 8 with value: 0.7391735375440462.\n"
     ]
    },
    {
     "name": "stdout",
     "output_type": "stream",
     "text": [
      "Stopped by overfitting detector  (300 iterations wait)\n",
      "\n",
      "bestTest = 0.738930428\n",
      "bestIteration = 704\n",
      "\n",
      "Shrink model to first 705 iterations.\n",
      "0:\ttest: 0.7189045\tbest: 0.7189045 (0)\ttotal: 102ms\tremaining: 5m 1s\n",
      "300:\ttest: 0.7382506\tbest: 0.7382506 (300)\ttotal: 27s\tremaining: 3m 57s\n",
      "600:\ttest: 0.7388822\tbest: 0.7389218 (524)\ttotal: 57.5s\tremaining: 3m 44s\n",
      "900:\ttest: 0.7387143\tbest: 0.7389234 (609)\ttotal: 1m 28s\tremaining: 3m 20s\n"
     ]
    },
    {
     "name": "stderr",
     "output_type": "stream",
     "text": [
      "[I 2025-02-24 06:40:05,254] Trial 10 finished with value: 0.7389233717118957 and parameters: {'iterations': 2945, 'depth': 8, 'learning_rate': 0.032580115422505045, 'l2_leaf_reg': 0.87526046512315}. Best is trial 8 with value: 0.7391735375440462.\n"
     ]
    },
    {
     "name": "stdout",
     "output_type": "stream",
     "text": [
      "Stopped by overfitting detector  (300 iterations wait)\n",
      "\n",
      "bestTest = 0.7389233717\n",
      "bestIteration = 609\n",
      "\n",
      "Shrink model to first 610 iterations.\n",
      "0:\ttest: 0.7191571\tbest: 0.7191571 (0)\ttotal: 87.8ms\tremaining: 4m\n",
      "300:\ttest: 0.7383677\tbest: 0.7384731 (271)\ttotal: 24.7s\tremaining: 3m 20s\n",
      "600:\ttest: 0.7385248\tbest: 0.7386620 (441)\ttotal: 51.6s\tremaining: 3m 3s\n"
     ]
    },
    {
     "name": "stderr",
     "output_type": "stream",
     "text": [
      "[I 2025-02-24 06:41:09,847] Trial 11 finished with value: 0.7386619801843883 and parameters: {'iterations': 2742, 'depth': 7, 'learning_rate': 0.05038072346939034, 'l2_leaf_reg': 0.12832080805174195}. Best is trial 8 with value: 0.7391735375440462.\n"
     ]
    },
    {
     "name": "stdout",
     "output_type": "stream",
     "text": [
      "Stopped by overfitting detector  (300 iterations wait)\n",
      "\n",
      "bestTest = 0.7386619802\n",
      "bestIteration = 441\n",
      "\n",
      "Shrink model to first 442 iterations.\n",
      "0:\ttest: 0.7177602\tbest: 0.7177602 (0)\ttotal: 80.7ms\tremaining: 2m 6s\n",
      "300:\ttest: 0.7374620\tbest: 0.7374687 (299)\ttotal: 21.1s\tremaining: 1m 28s\n",
      "600:\ttest: 0.7385400\tbest: 0.7385532 (595)\ttotal: 43.9s\tremaining: 1m 10s\n",
      "900:\ttest: 0.7386853\tbest: 0.7387282 (864)\ttotal: 1m 7s\tremaining: 49.5s\n",
      "1200:\ttest: 0.7386739\tbest: 0.7387489 (1134)\ttotal: 1m 30s\tremaining: 27.5s\n",
      "1500:\ttest: 0.7386823\tbest: 0.7387589 (1399)\ttotal: 1m 53s\tremaining: 4.86s\n"
     ]
    },
    {
     "name": "stderr",
     "output_type": "stream",
     "text": [
      "[I 2025-02-24 06:43:09,140] Trial 12 finished with value: 0.7387589055462448 and parameters: {'iterations': 1565, 'depth': 6, 'learning_rate': 0.03421727225236856, 'l2_leaf_reg': 1.028140046865624}. Best is trial 8 with value: 0.7391735375440462.\n"
     ]
    },
    {
     "name": "stdout",
     "output_type": "stream",
     "text": [
      "1564:\ttest: 0.7385820\tbest: 0.7387589 (1399)\ttotal: 1m 58s\tremaining: 0us\n",
      "\n",
      "bestTest = 0.7387589055\n",
      "bestIteration = 1399\n",
      "\n",
      "Shrink model to first 1400 iterations.\n",
      "0:\ttest: 0.7188815\tbest: 0.7188815 (0)\ttotal: 105ms\tremaining: 4m 36s\n",
      "300:\ttest: 0.7380578\tbest: 0.7384867 (195)\ttotal: 28.8s\tremaining: 3m 42s\n"
     ]
    },
    {
     "name": "stderr",
     "output_type": "stream",
     "text": [
      "[I 2025-02-24 06:43:58,334] Trial 13 finished with value: 0.7384867171790925 and parameters: {'iterations': 2621, 'depth': 8, 'learning_rate': 0.06513774410228096, 'l2_leaf_reg': 0.02938297184523058}. Best is trial 8 with value: 0.7391735375440462.\n"
     ]
    },
    {
     "name": "stdout",
     "output_type": "stream",
     "text": [
      "Stopped by overfitting detector  (300 iterations wait)\n",
      "\n",
      "bestTest = 0.7384867172\n",
      "bestIteration = 195\n",
      "\n",
      "Shrink model to first 196 iterations.\n",
      "0:\ttest: 0.7177602\tbest: 0.7177602 (0)\ttotal: 80.9ms\tremaining: 3m 56s\n",
      "300:\ttest: 0.7376604\tbest: 0.7376604 (300)\ttotal: 21s\tremaining: 3m 3s\n",
      "600:\ttest: 0.7390467\tbest: 0.7390520 (595)\ttotal: 43.8s\tremaining: 2m 49s\n",
      "900:\ttest: 0.7390695\tbest: 0.7391708 (796)\ttotal: 1m 7s\tremaining: 2m 30s\n"
     ]
    },
    {
     "name": "stderr",
     "output_type": "stream",
     "text": [
      "[I 2025-02-24 06:45:21,138] Trial 14 finished with value: 0.7391707817490063 and parameters: {'iterations': 2922, 'depth': 6, 'learning_rate': 0.032542601115978974, 'l2_leaf_reg': 1.2175116583082286}. Best is trial 8 with value: 0.7391735375440462.\n"
     ]
    },
    {
     "name": "stdout",
     "output_type": "stream",
     "text": [
      "Stopped by overfitting detector  (300 iterations wait)\n",
      "\n",
      "bestTest = 0.7391707817\n",
      "bestIteration = 796\n",
      "\n",
      "Shrink model to first 797 iterations.\n",
      "0:\ttest: 0.7189078\tbest: 0.7189078 (0)\ttotal: 99.6ms\tremaining: 4m 58s\n",
      "300:\ttest: 0.7377224\tbest: 0.7377235 (299)\ttotal: 27s\tremaining: 4m 2s\n",
      "600:\ttest: 0.7386908\tbest: 0.7386910 (599)\ttotal: 55.1s\tremaining: 3m 40s\n",
      "900:\ttest: 0.7390689\tbest: 0.7391216 (875)\ttotal: 1m 24s\tremaining: 3m 16s\n",
      "1200:\ttest: 0.7390150\tbest: 0.7391421 (935)\ttotal: 1m 54s\tremaining: 2m 51s\n"
     ]
    },
    {
     "name": "stderr",
     "output_type": "stream",
     "text": [
      "[I 2025-02-24 06:47:19,238] Trial 15 finished with value: 0.7391421119504646 and parameters: {'iterations': 3000, 'depth': 8, 'learning_rate': 0.02554978309898436, 'l2_leaf_reg': 4.722389127363701}. Best is trial 8 with value: 0.7391735375440462.\n"
     ]
    },
    {
     "name": "stdout",
     "output_type": "stream",
     "text": [
      "Stopped by overfitting detector  (300 iterations wait)\n",
      "\n",
      "bestTest = 0.739142112\n",
      "bestIteration = 935\n",
      "\n",
      "Shrink model to first 936 iterations.\n",
      "0:\ttest: 0.7177606\tbest: 0.7177606 (0)\ttotal: 77.5ms\tremaining: 2m 19s\n",
      "300:\ttest: 0.7383586\tbest: 0.7383586 (300)\ttotal: 20.7s\tremaining: 1m 43s\n",
      "600:\ttest: 0.7381840\tbest: 0.7384739 (462)\ttotal: 42.8s\tremaining: 1m 25s\n"
     ]
    },
    {
     "name": "stderr",
     "output_type": "stream",
     "text": [
      "[I 2025-02-24 06:48:14,306] Trial 16 finished with value: 0.7384738673912697 and parameters: {'iterations': 1805, 'depth': 6, 'learning_rate': 0.061662991475729484, 'l2_leaf_reg': 0.011161880614651325}. Best is trial 8 with value: 0.7391735375440462.\n"
     ]
    },
    {
     "name": "stdout",
     "output_type": "stream",
     "text": [
      "Stopped by overfitting detector  (300 iterations wait)\n",
      "\n",
      "bestTest = 0.7384738674\n",
      "bestIteration = 462\n",
      "\n",
      "Shrink model to first 463 iterations.\n",
      "0:\ttest: 0.7189072\tbest: 0.7189072 (0)\ttotal: 104ms\tremaining: 2m 48s\n",
      "300:\ttest: 0.7376972\tbest: 0.7376972 (300)\ttotal: 29.1s\tremaining: 2m 7s\n",
      "600:\ttest: 0.7385307\tbest: 0.7385474 (597)\ttotal: 58.6s\tremaining: 1m 39s\n",
      "900:\ttest: 0.7389565\tbest: 0.7389774 (894)\ttotal: 1m 32s\tremaining: 1m 13s\n",
      "1200:\ttest: 0.7389645\tbest: 0.7389987 (1020)\ttotal: 2m 6s\tremaining: 44s\n"
     ]
    },
    {
     "name": "stderr",
     "output_type": "stream",
     "text": [
      "[I 2025-02-24 06:50:34,901] Trial 17 finished with value: 0.738998707365349 and parameters: {'iterations': 1618, 'depth': 9, 'learning_rate': 0.024099163905681925, 'l2_leaf_reg': 7.987299787000779}. Best is trial 8 with value: 0.7391735375440462.\n"
     ]
    },
    {
     "name": "stdout",
     "output_type": "stream",
     "text": [
      "Stopped by overfitting detector  (300 iterations wait)\n",
      "\n",
      "bestTest = 0.7389987074\n",
      "bestIteration = 1020\n",
      "\n",
      "Shrink model to first 1021 iterations.\n",
      "0:\ttest: 0.7176105\tbest: 0.7176105 (0)\ttotal: 82.8ms\tremaining: 3m 52s\n",
      "300:\ttest: 0.7382655\tbest: 0.7382808 (294)\ttotal: 23.2s\tremaining: 3m 13s\n",
      "600:\ttest: 0.7389441\tbest: 0.7389538 (571)\ttotal: 47.9s\tremaining: 2m 56s\n",
      "900:\ttest: 0.7389947\tbest: 0.7391075 (768)\ttotal: 1m 13s\tremaining: 2m 35s\n"
     ]
    },
    {
     "name": "stderr",
     "output_type": "stream",
     "text": [
      "[I 2025-02-24 06:52:02,384] Trial 18 finished with value: 0.7391075453858795 and parameters: {'iterations': 2814, 'depth': 7, 'learning_rate': 0.05970016430294879, 'l2_leaf_reg': 70.64174190249958}. Best is trial 8 with value: 0.7391735375440462.\n"
     ]
    },
    {
     "name": "stdout",
     "output_type": "stream",
     "text": [
      "Stopped by overfitting detector  (300 iterations wait)\n",
      "\n",
      "bestTest = 0.7391075454\n",
      "bestIteration = 768\n",
      "\n",
      "Shrink model to first 769 iterations.\n",
      "0:\ttest: 0.7062190\tbest: 0.7062190 (0)\ttotal: 61.2ms\tremaining: 2m 30s\n",
      "300:\ttest: 0.7383442\tbest: 0.7383442 (300)\ttotal: 17.9s\tremaining: 2m 7s\n",
      "600:\ttest: 0.7385067\tbest: 0.7385880 (430)\ttotal: 36.2s\tremaining: 1m 51s\n",
      "900:\ttest: 0.7384979\tbest: 0.7386562 (810)\ttotal: 54.8s\tremaining: 1m 34s\n"
     ]
    },
    {
     "name": "stderr",
     "output_type": "stream",
     "text": [
      "[I 2025-02-24 06:53:10,548] Trial 19 finished with value: 0.7386561906322728 and parameters: {'iterations': 2455, 'depth': 5, 'learning_rate': 0.07599684664689305, 'l2_leaf_reg': 2.276175005448344}. Best is trial 8 with value: 0.7391735375440462.\n",
      "[I 2025-02-24 06:53:10,551] A new study created in memory with name: no-name-b054de64-02fc-44e6-8829-d6c38f31699d\n"
     ]
    },
    {
     "name": "stdout",
     "output_type": "stream",
     "text": [
      "Stopped by overfitting detector  (300 iterations wait)\n",
      "\n",
      "bestTest = 0.7386561906\n",
      "bestIteration = 810\n",
      "\n",
      "Shrink model to first 811 iterations.\n"
     ]
    },
    {
     "name": "stderr",
     "output_type": "stream",
     "text": [
      "[I 2025-02-24 06:53:33,870] Trial 0 finished with value: 0.729235767366933 and parameters: {'num_iterations': 2366, 'objective': 'binary', 'metric': 'auc', 'verbose': -1, 'learning_rate': 0.0652646236447618, 'n_estimators': 236, 'min_child_samples': 45, 'subsample': 0.7, 'colsample_bytree': 0.5}. Best is trial 0 with value: 0.729235767366933.\n",
      "[I 2025-02-24 06:53:51,084] Trial 1 finished with value: 0.7382375162722946 and parameters: {'num_iterations': 1510, 'objective': 'binary', 'metric': 'auc', 'verbose': -1, 'learning_rate': 0.005231880959249543, 'n_estimators': 1411, 'min_child_samples': 10, 'subsample': 1.0, 'colsample_bytree': 0.5}. Best is trial 1 with value: 0.7382375162722946.\n",
      "[I 2025-02-24 06:54:10,883] Trial 2 finished with value: 0.737060104826949 and parameters: {'num_iterations': 2334, 'objective': 'binary', 'metric': 'auc', 'verbose': -1, 'learning_rate': 0.006578527777128852, 'n_estimators': 931, 'min_child_samples': 15, 'subsample': 0.5, 'colsample_bytree': 1.0}. Best is trial 1 with value: 0.7382375162722946.\n",
      "[I 2025-02-24 06:54:27,297] Trial 3 finished with value: 0.7381275862580525 and parameters: {'num_iterations': 1620, 'objective': 'binary', 'metric': 'auc', 'verbose': -1, 'learning_rate': 0.0058823249237283685, 'n_estimators': 837, 'min_child_samples': 10, 'subsample': 0.9, 'colsample_bytree': 0.6}. Best is trial 1 with value: 0.7382375162722946.\n",
      "[I 2025-02-24 06:54:43,912] Trial 4 finished with value: 0.7378917076745382 and parameters: {'num_iterations': 1997, 'objective': 'binary', 'metric': 'auc', 'verbose': -1, 'learning_rate': 0.010907507425244923, 'n_estimators': 1597, 'min_child_samples': 50, 'subsample': 0.6, 'colsample_bytree': 0.8}. Best is trial 1 with value: 0.7382375162722946.\n",
      "[I 2025-02-24 06:55:06,700] Trial 5 finished with value: 0.7358660911062981 and parameters: {'num_iterations': 2909, 'objective': 'binary', 'metric': 'auc', 'verbose': -1, 'learning_rate': 0.019760591962733942, 'n_estimators': 612, 'min_child_samples': 30, 'subsample': 0.7, 'colsample_bytree': 0.9}. Best is trial 1 with value: 0.7382375162722946.\n",
      "[I 2025-02-24 06:55:27,586] Trial 6 finished with value: 0.7361547546803963 and parameters: {'num_iterations': 2639, 'objective': 'binary', 'metric': 'auc', 'verbose': -1, 'learning_rate': 0.017862094446750985, 'n_estimators': 794, 'min_child_samples': 35, 'subsample': 1.0, 'colsample_bytree': 0.8}. Best is trial 1 with value: 0.7382375162722946.\n",
      "[I 2025-02-24 06:55:44,193] Trial 7 finished with value: 0.7377563123669376 and parameters: {'num_iterations': 1580, 'objective': 'binary', 'metric': 'auc', 'verbose': -1, 'learning_rate': 0.01776722177611332, 'n_estimators': 529, 'min_child_samples': 25, 'subsample': 0.8, 'colsample_bytree': 0.5}. Best is trial 1 with value: 0.7382375162722946.\n",
      "[I 2025-02-24 06:56:01,610] Trial 8 finished with value: 0.7344377831857366 and parameters: {'num_iterations': 1911, 'objective': 'binary', 'metric': 'auc', 'verbose': -1, 'learning_rate': 0.0304747553332844, 'n_estimators': 1328, 'min_child_samples': 10, 'subsample': 0.7, 'colsample_bytree': 0.6}. Best is trial 1 with value: 0.7382375162722946.\n",
      "[I 2025-02-24 06:56:29,234] Trial 9 finished with value: 0.7345292525499205 and parameters: {'num_iterations': 2739, 'objective': 'binary', 'metric': 'auc', 'verbose': -1, 'learning_rate': 0.02691531614176271, 'n_estimators': 1438, 'min_child_samples': 20, 'subsample': 0.6, 'colsample_bytree': 0.5}. Best is trial 1 with value: 0.7382375162722946.\n",
      "[I 2025-02-24 06:56:44,291] Trial 10 finished with value: 0.7254177364366519 and parameters: {'num_iterations': 1933, 'objective': 'binary', 'metric': 'auc', 'verbose': -1, 'learning_rate': 0.08223556891145911, 'n_estimators': 1960, 'min_child_samples': 40, 'subsample': 1.0, 'colsample_bytree': 0.7}. Best is trial 1 with value: 0.7382375162722946.\n",
      "[I 2025-02-24 06:56:59,783] Trial 11 finished with value: 0.7380677251482165 and parameters: {'num_iterations': 1513, 'objective': 'binary', 'metric': 'auc', 'verbose': -1, 'learning_rate': 0.005340229419903739, 'n_estimators': 1206, 'min_child_samples': 10, 'subsample': 0.9, 'colsample_bytree': 0.6}. Best is trial 1 with value: 0.7382375162722946.\n",
      "[I 2025-02-24 06:57:16,329] Trial 12 finished with value: 0.7384610453996505 and parameters: {'num_iterations': 1698, 'objective': 'binary', 'metric': 'auc', 'verbose': -1, 'learning_rate': 0.008515343845233947, 'n_estimators': 1719, 'min_child_samples': 20, 'subsample': 0.9, 'colsample_bytree': 0.6}. Best is trial 12 with value: 0.7384610453996505.\n",
      "[I 2025-02-24 06:57:31,579] Trial 13 finished with value: 0.7381010448545272 and parameters: {'num_iterations': 1777, 'objective': 'binary', 'metric': 'auc', 'verbose': -1, 'learning_rate': 0.010074542479113706, 'n_estimators': 1797, 'min_child_samples': 20, 'subsample': 0.9, 'colsample_bytree': 0.7}. Best is trial 12 with value: 0.7384610453996505.\n",
      "[I 2025-02-24 06:57:52,245] Trial 14 finished with value: 0.737789044382087 and parameters: {'num_iterations': 2165, 'objective': 'binary', 'metric': 'auc', 'verbose': -1, 'learning_rate': 0.00937245035506795, 'n_estimators': 1650, 'min_child_samples': 20, 'subsample': 1.0, 'colsample_bytree': 0.6}. Best is trial 12 with value: 0.7384610453996505.\n",
      "[I 2025-02-24 06:58:11,183] Trial 15 finished with value: 0.7384383438431044 and parameters: {'num_iterations': 1741, 'objective': 'binary', 'metric': 'auc', 'verbose': -1, 'learning_rate': 0.008303365162986591, 'n_estimators': 1991, 'min_child_samples': 25, 'subsample': 0.8, 'colsample_bytree': 0.5}. Best is trial 12 with value: 0.7384610453996505.\n",
      "[I 2025-02-24 06:58:26,265] Trial 16 finished with value: 0.7375551274163676 and parameters: {'num_iterations': 1787, 'objective': 'binary', 'metric': 'auc', 'verbose': -1, 'learning_rate': 0.012356113282418082, 'n_estimators': 1986, 'min_child_samples': 30, 'subsample': 0.8, 'colsample_bytree': 0.7}. Best is trial 12 with value: 0.7384610453996505.\n",
      "[I 2025-02-24 06:58:46,597] Trial 17 finished with value: 0.7382556751349998 and parameters: {'num_iterations': 2117, 'objective': 'binary', 'metric': 'auc', 'verbose': -1, 'learning_rate': 0.008166258047721095, 'n_estimators': 1707, 'min_child_samples': 25, 'subsample': 0.8, 'colsample_bytree': 0.6}. Best is trial 12 with value: 0.7384610453996505.\n",
      "[I 2025-02-24 06:59:04,218] Trial 18 finished with value: 0.7343912205738667 and parameters: {'num_iterations': 1732, 'objective': 'binary', 'metric': 'auc', 'verbose': -1, 'learning_rate': 0.04236199741746501, 'n_estimators': 1092, 'min_child_samples': 30, 'subsample': 0.9, 'colsample_bytree': 0.5}. Best is trial 12 with value: 0.7384610453996505.\n",
      "[I 2025-02-24 06:59:24,569] Trial 19 finished with value: 0.7368541945217717 and parameters: {'num_iterations': 2481, 'objective': 'binary', 'metric': 'auc', 'verbose': -1, 'learning_rate': 0.013818535896390961, 'n_estimators': 1835, 'min_child_samples': 25, 'subsample': 0.8, 'colsample_bytree': 0.7}. Best is trial 12 with value: 0.7384610453996505.\n",
      "[I 2025-02-24 06:59:44,368] Trial 20 finished with value: 0.7384192875601124 and parameters: {'num_iterations': 2043, 'objective': 'binary', 'metric': 'auc', 'verbose': -1, 'learning_rate': 0.007877155758725746, 'n_estimators': 1561, 'min_child_samples': 35, 'subsample': 0.9, 'colsample_bytree': 0.6}. Best is trial 12 with value: 0.7384610453996505.\n",
      "[I 2025-02-24 07:00:04,395] Trial 21 finished with value: 0.7383501107511935 and parameters: {'num_iterations': 2082, 'objective': 'binary', 'metric': 'auc', 'verbose': -1, 'learning_rate': 0.007969201194958836, 'n_estimators': 1562, 'min_child_samples': 35, 'subsample': 0.9, 'colsample_bytree': 0.6}. Best is trial 12 with value: 0.7384610453996505.\n",
      "[I 2025-02-24 07:00:23,819] Trial 22 finished with value: 0.7380767708270362 and parameters: {'num_iterations': 1841, 'objective': 'binary', 'metric': 'auc', 'verbose': -1, 'learning_rate': 0.013944970165771392, 'n_estimators': 1852, 'min_child_samples': 35, 'subsample': 0.9, 'colsample_bytree': 0.5}. Best is trial 12 with value: 0.7384610453996505.\n",
      "[I 2025-02-24 07:00:40,557] Trial 23 finished with value: 0.7383156434587639 and parameters: {'num_iterations': 1696, 'objective': 'binary', 'metric': 'auc', 'verbose': -1, 'learning_rate': 0.007305732077404912, 'n_estimators': 1485, 'min_child_samples': 40, 'subsample': 0.8, 'colsample_bytree': 0.6}. Best is trial 12 with value: 0.7384610453996505.\n",
      "[I 2025-02-24 07:00:57,662] Trial 24 finished with value: 0.7377441336588867 and parameters: {'num_iterations': 2014, 'objective': 'binary', 'metric': 'auc', 'verbose': -1, 'learning_rate': 0.009039027246006016, 'n_estimators': 1249, 'min_child_samples': 15, 'subsample': 0.9, 'colsample_bytree': 0.8}. Best is trial 12 with value: 0.7384610453996505.\n",
      "[I 2025-02-24 07:01:11,556] Trial 25 finished with value: 0.7373875083670544 and parameters: {'num_iterations': 1660, 'objective': 'binary', 'metric': 'auc', 'verbose': -1, 'learning_rate': 0.0148268911728411, 'n_estimators': 1763, 'min_child_samples': 25, 'subsample': 0.8, 'colsample_bytree': 0.7}. Best is trial 12 with value: 0.7384610453996505.\n",
      "[I 2025-02-24 07:01:35,743] Trial 26 finished with value: 0.7382530702336365 and parameters: {'num_iterations': 2229, 'objective': 'binary', 'metric': 'auc', 'verbose': -1, 'learning_rate': 0.006966149914927922, 'n_estimators': 1969, 'min_child_samples': 15, 'subsample': 1.0, 'colsample_bytree': 0.5}. Best is trial 12 with value: 0.7384610453996505.\n",
      "[I 2025-02-24 07:01:53,393] Trial 27 finished with value: 0.7379983855329624 and parameters: {'num_iterations': 1862, 'objective': 'binary', 'metric': 'auc', 'verbose': -1, 'learning_rate': 0.01122858242555641, 'n_estimators': 1649, 'min_child_samples': 40, 'subsample': 0.7, 'colsample_bytree': 0.6}. Best is trial 12 with value: 0.7384610453996505.\n",
      "[I 2025-02-24 07:02:08,701] Trial 28 finished with value: 0.7328542652353136 and parameters: {'num_iterations': 1959, 'objective': 'binary', 'metric': 'auc', 'verbose': -1, 'learning_rate': 0.03898130569041551, 'n_estimators': 1861, 'min_child_samples': 30, 'subsample': 0.9, 'colsample_bytree': 0.9}. Best is trial 12 with value: 0.7384610453996505.\n",
      "[I 2025-02-24 07:02:32,730] Trial 29 finished with value: 0.7362145999066874 and parameters: {'num_iterations': 2362, 'objective': 'binary', 'metric': 'auc', 'verbose': -1, 'learning_rate': 0.023207420835634582, 'n_estimators': 315, 'min_child_samples': 45, 'subsample': 0.6, 'colsample_bytree': 0.5}. Best is trial 12 with value: 0.7384610453996505.\n",
      "[I 2025-02-24 07:02:59,697] Trial 30 finished with value: 0.738381182935901 and parameters: {'num_iterations': 2490, 'objective': 'binary', 'metric': 'auc', 'verbose': -1, 'learning_rate': 0.006300048275050027, 'n_estimators': 104, 'min_child_samples': 20, 'subsample': 0.8, 'colsample_bytree': 0.5}. Best is trial 12 with value: 0.7384610453996505.\n",
      "[I 2025-02-24 07:03:27,073] Trial 31 finished with value: 0.738484001092915 and parameters: {'num_iterations': 2539, 'objective': 'binary', 'metric': 'auc', 'verbose': -1, 'learning_rate': 0.006233260932772923, 'n_estimators': 353, 'min_child_samples': 20, 'subsample': 0.8, 'colsample_bytree': 0.5}. Best is trial 31 with value: 0.738484001092915.\n",
      "[I 2025-02-24 07:03:55,237] Trial 32 finished with value: 0.7384801255079597 and parameters: {'num_iterations': 2599, 'objective': 'binary', 'metric': 'auc', 'verbose': -1, 'learning_rate': 0.005301608596462174, 'n_estimators': 454, 'min_child_samples': 25, 'subsample': 0.8, 'colsample_bytree': 0.5}. Best is trial 31 with value: 0.738484001092915.\n",
      "[I 2025-02-24 07:04:24,454] Trial 33 finished with value: 0.7383494634967389 and parameters: {'num_iterations': 2694, 'objective': 'binary', 'metric': 'auc', 'verbose': -1, 'learning_rate': 0.0051357548669771, 'n_estimators': 368, 'min_child_samples': 20, 'subsample': 0.7, 'colsample_bytree': 0.5}. Best is trial 31 with value: 0.738484001092915.\n",
      "[I 2025-02-24 07:04:51,478] Trial 34 finished with value: 0.7382897254843759 and parameters: {'num_iterations': 2482, 'objective': 'binary', 'metric': 'auc', 'verbose': -1, 'learning_rate': 0.006191041496454753, 'n_estimators': 547, 'min_child_samples': 15, 'subsample': 0.8, 'colsample_bytree': 0.5}. Best is trial 31 with value: 0.738484001092915.\n",
      "[I 2025-02-24 07:05:19,694] Trial 35 finished with value: 0.7384162657156955 and parameters: {'num_iterations': 2595, 'objective': 'binary', 'metric': 'auc', 'verbose': -1, 'learning_rate': 0.005179932069972285, 'n_estimators': 126, 'min_child_samples': 25, 'subsample': 0.8, 'colsample_bytree': 0.5}. Best is trial 31 with value: 0.738484001092915.\n",
      "[I 2025-02-24 07:05:50,038] Trial 36 finished with value: 0.7381294366910331 and parameters: {'num_iterations': 2840, 'objective': 'binary', 'metric': 'auc', 'verbose': -1, 'learning_rate': 0.00652221585780876, 'n_estimators': 718, 'min_child_samples': 15, 'subsample': 0.7, 'colsample_bytree': 0.5}. Best is trial 31 with value: 0.738484001092915.\n",
      "[I 2025-02-24 07:06:09,032] Trial 37 finished with value: 0.7370420055275372 and parameters: {'num_iterations': 2298, 'objective': 'binary', 'metric': 'auc', 'verbose': -1, 'learning_rate': 0.00924360373263942, 'n_estimators': 430, 'min_child_samples': 25, 'subsample': 0.6, 'colsample_bytree': 1.0}. Best is trial 31 with value: 0.738484001092915.\n",
      "[I 2025-02-24 07:06:35,897] Trial 38 finished with value: 0.738204534091313 and parameters: {'num_iterations': 2792, 'objective': 'binary', 'metric': 'auc', 'verbose': -1, 'learning_rate': 0.0058584849794253175, 'n_estimators': 941, 'min_child_samples': 20, 'subsample': 0.7, 'colsample_bytree': 0.6}. Best is trial 31 with value: 0.738484001092915.\n",
      "[I 2025-02-24 07:07:06,580] Trial 39 finished with value: 0.7375863465238656 and parameters: {'num_iterations': 2961, 'objective': 'binary', 'metric': 'auc', 'verbose': -1, 'learning_rate': 0.011378616678132877, 'n_estimators': 234, 'min_child_samples': 20, 'subsample': 0.5, 'colsample_bytree': 0.5}. Best is trial 31 with value: 0.738484001092915.\n"
     ]
    },
    {
     "name": "stdout",
     "output_type": "stream",
     "text": [
      "Cat val score : 0.7391735375440462\n",
      "LGBM val score : 0.7381126358714167\n",
      "Ensemble val score : 0.7390755598973402\n"
     ]
    },
    {
     "name": "stderr",
     "output_type": "stream",
     "text": [
      "[I 2025-02-24 07:07:36,142] A new study created in memory with name: no-name-5fdd9b8b-ca29-41e2-bb7b-eea8460749e0\n"
     ]
    },
    {
     "name": "stdout",
     "output_type": "stream",
     "text": [
      "==================================================\n",
      "0:\ttest: 0.7251177\tbest: 0.7251177 (0)\ttotal: 153ms\tremaining: 6m 2s\n",
      "300:\ttest: 0.7362223\tbest: 0.7362223 (300)\ttotal: 39.6s\tremaining: 4m 31s\n",
      "600:\ttest: 0.7377538\tbest: 0.7377538 (600)\ttotal: 1m 22s\tremaining: 4m\n",
      "900:\ttest: 0.7382163\tbest: 0.7382200 (896)\ttotal: 2m 3s\tremaining: 3m 20s\n",
      "1200:\ttest: 0.7384145\tbest: 0.7384461 (1148)\ttotal: 2m 47s\tremaining: 2m 42s\n",
      "1500:\ttest: 0.7385224\tbest: 0.7385812 (1392)\ttotal: 3m 37s\tremaining: 2m 5s\n"
     ]
    },
    {
     "name": "stderr",
     "output_type": "stream",
     "text": [
      "[I 2025-02-24 07:11:46,298] Trial 0 finished with value: 0.7385811766206036 and parameters: {'iterations': 2366, 'depth': 10, 'learning_rate': 0.01181021951839225, 'l2_leaf_reg': 9.980783802743254}. Best is trial 0 with value: 0.7385811766206036.\n"
     ]
    },
    {
     "name": "stdout",
     "output_type": "stream",
     "text": [
      "Stopped by overfitting detector  (300 iterations wait)\n",
      "\n",
      "bestTest = 0.7385811766\n",
      "bestIteration = 1392\n",
      "\n",
      "Shrink model to first 1393 iterations.\n",
      "저장 완료\n",
      "0:\ttest: 0.6950772\tbest: 0.6950772 (0)\ttotal: 70.9ms\tremaining: 2m 35s\n",
      "300:\ttest: 0.7273011\tbest: 0.7273011 (300)\ttotal: 13.4s\tremaining: 1m 24s\n",
      "600:\ttest: 0.7317795\tbest: 0.7317795 (600)\ttotal: 26.8s\tremaining: 1m 10s\n",
      "900:\ttest: 0.7338286\tbest: 0.7338286 (900)\ttotal: 40.5s\tremaining: 58.1s\n",
      "1200:\ttest: 0.7349548\tbest: 0.7349548 (1200)\ttotal: 54.6s\tremaining: 45.1s\n",
      "1500:\ttest: 0.7356835\tbest: 0.7356835 (1500)\ttotal: 1m 8s\tremaining: 31.7s\n",
      "1800:\ttest: 0.7362065\tbest: 0.7362065 (1800)\ttotal: 1m 23s\tremaining: 18.1s\n",
      "2100:\ttest: 0.7366194\tbest: 0.7366194 (2100)\ttotal: 1m 37s\tremaining: 4.27s\n"
     ]
    },
    {
     "name": "stderr",
     "output_type": "stream",
     "text": [
      "[I 2025-02-24 07:13:28,441] Trial 1 finished with value: 0.7367412585466575 and parameters: {'iterations': 2193, 'depth': 4, 'learning_rate': 0.005671430811678843, 'l2_leaf_reg': 0.00012325230809466137}. Best is trial 0 with value: 0.7385811766206036.\n"
     ]
    },
    {
     "name": "stdout",
     "output_type": "stream",
     "text": [
      "2192:\ttest: 0.7367413\tbest: 0.7367413 (2192)\ttotal: 1m 41s\tremaining: 0us\n",
      "\n",
      "bestTest = 0.7367412585\n",
      "bestIteration = 2192\n",
      "\n",
      "0:\ttest: 0.6950772\tbest: 0.6950772 (0)\ttotal: 51.3ms\tremaining: 2m 9s\n",
      "300:\ttest: 0.7377880\tbest: 0.7378953 (296)\ttotal: 14.5s\tremaining: 1m 47s\n",
      "600:\ttest: 0.7381167\tbest: 0.7382503 (537)\ttotal: 29.5s\tremaining: 1m 35s\n"
     ]
    },
    {
     "name": "stderr",
     "output_type": "stream",
     "text": [
      "Training has stopped (degenerate solution on iteration 699, probably too small l2-regularization, try to increase it)\n",
      "[I 2025-02-24 07:14:03,198] Trial 2 finished with value: 0.7382561436995743 and parameters: {'iterations': 2535, 'depth': 4, 'learning_rate': 0.09275339199839054, 'l2_leaf_reg': 0.0008705394248343123}. Best is trial 0 with value: 0.7385811766206036.\n"
     ]
    },
    {
     "name": "stdout",
     "output_type": "stream",
     "text": [
      "\n",
      "bestTest = 0.7382561437\n",
      "bestIteration = 621\n",
      "\n",
      "Shrink model to first 622 iterations.\n",
      "0:\ttest: 0.6950772\tbest: 0.6950772 (0)\ttotal: 55.9ms\tremaining: 2m 10s\n",
      "300:\ttest: 0.7372316\tbest: 0.7372316 (300)\ttotal: 13.8s\tremaining: 1m 33s\n",
      "600:\ttest: 0.7383150\tbest: 0.7383150 (600)\ttotal: 28.7s\tremaining: 1m 22s\n",
      "900:\ttest: 0.7384879\tbest: 0.7385258 (869)\ttotal: 43.6s\tremaining: 1m 9s\n",
      "1200:\ttest: 0.7387042\tbest: 0.7387042 (1200)\ttotal: 58.7s\tremaining: 55.4s\n",
      "1500:\ttest: 0.7386938\tbest: 0.7387967 (1333)\ttotal: 1m 13s\tremaining: 41s\n"
     ]
    },
    {
     "name": "stderr",
     "output_type": "stream",
     "text": [
      "[I 2025-02-24 07:15:24,120] Trial 3 finished with value: 0.7387966607324684 and parameters: {'iterations': 2334, 'depth': 4, 'learning_rate': 0.04657568321363276, 'l2_leaf_reg': 0.0008640473331457248}. Best is trial 3 with value: 0.7387966607324684.\n"
     ]
    },
    {
     "name": "stdout",
     "output_type": "stream",
     "text": [
      "Stopped by overfitting detector  (300 iterations wait)\n",
      "\n",
      "bestTest = 0.7387966607\n",
      "bestIteration = 1333\n",
      "\n",
      "Shrink model to first 1334 iterations.\n",
      "저장 완료\n",
      "0:\ttest: 0.7250312\tbest: 0.7250312 (0)\ttotal: 136ms\tremaining: 3m 56s\n",
      "300:\ttest: 0.7357305\tbest: 0.7357305 (300)\ttotal: 38.1s\tremaining: 3m 2s\n",
      "600:\ttest: 0.7364014\tbest: 0.7365337 (519)\ttotal: 1m 17s\tremaining: 2m 26s\n",
      "900:\ttest: 0.7364127\tbest: 0.7366787 (789)\ttotal: 1m 59s\tremaining: 1m 51s\n"
     ]
    },
    {
     "name": "stderr",
     "output_type": "stream",
     "text": [
      "[I 2025-02-24 07:17:50,647] Trial 4 finished with value: 0.7366786694379852 and parameters: {'iterations': 1742, 'depth': 10, 'learning_rate': 0.012622767482095846, 'l2_leaf_reg': 0.00021158816350109617}. Best is trial 3 with value: 0.7387966607324684.\n"
     ]
    },
    {
     "name": "stdout",
     "output_type": "stream",
     "text": [
      "Stopped by overfitting detector  (300 iterations wait)\n",
      "\n",
      "bestTest = 0.7366786694\n",
      "bestIteration = 789\n",
      "\n",
      "Shrink model to first 790 iterations.\n",
      "0:\ttest: 0.6950772\tbest: 0.6950772 (0)\ttotal: 53.9ms\tremaining: 1m 52s\n",
      "300:\ttest: 0.7379189\tbest: 0.7379385 (284)\ttotal: 14.3s\tremaining: 1m 24s\n",
      "600:\ttest: 0.7382042\tbest: 0.7382987 (542)\ttotal: 29.2s\tremaining: 1m 11s\n",
      "900:\ttest: 0.7384819\tbest: 0.7384974 (896)\ttotal: 44.3s\tremaining: 58.1s\n",
      "1200:\ttest: 0.7383065\tbest: 0.7384981 (910)\ttotal: 59.7s\tremaining: 43.8s\n"
     ]
    },
    {
     "name": "stderr",
     "output_type": "stream",
     "text": [
      "[I 2025-02-24 07:18:51,072] Trial 5 finished with value: 0.7384980620010363 and parameters: {'iterations': 2082, 'depth': 4, 'learning_rate': 0.06995196593094148, 'l2_leaf_reg': 0.0018080296485396804}. Best is trial 3 with value: 0.7387966607324684.\n"
     ]
    },
    {
     "name": "stdout",
     "output_type": "stream",
     "text": [
      "Stopped by overfitting detector  (300 iterations wait)\n",
      "\n",
      "bestTest = 0.738498062\n",
      "bestIteration = 910\n",
      "\n",
      "Shrink model to first 911 iterations.\n",
      "0:\ttest: 0.7040783\tbest: 0.7040783 (0)\ttotal: 65.9ms\tremaining: 2m 11s\n",
      "300:\ttest: 0.7383276\tbest: 0.7383276 (300)\ttotal: 17.7s\tremaining: 1m 39s\n",
      "600:\ttest: 0.7386461\tbest: 0.7386778 (562)\ttotal: 36s\tremaining: 1m 23s\n",
      "900:\ttest: 0.7387536\tbest: 0.7388190 (739)\ttotal: 54.5s\tremaining: 1m 6s\n"
     ]
    },
    {
     "name": "stderr",
     "output_type": "stream",
     "text": [
      "[I 2025-02-24 07:19:54,527] Trial 6 finished with value: 0.7388190327054578 and parameters: {'iterations': 1997, 'depth': 5, 'learning_rate': 0.07985155992831598, 'l2_leaf_reg': 62.52181000710482}. Best is trial 6 with value: 0.7388190327054578.\n"
     ]
    },
    {
     "name": "stdout",
     "output_type": "stream",
     "text": [
      "Stopped by overfitting detector  (300 iterations wait)\n",
      "\n",
      "bestTest = 0.7388190327\n",
      "bestIteration = 739\n",
      "\n",
      "Shrink model to first 740 iterations.\n",
      "저장 완료\n",
      "0:\ttest: 0.7177174\tbest: 0.7177174 (0)\ttotal: 85.3ms\tremaining: 2m 44s\n",
      "300:\ttest: 0.7368971\tbest: 0.7375660 (166)\ttotal: 24.5s\tremaining: 2m 12s\n"
     ]
    },
    {
     "name": "stderr",
     "output_type": "stream",
     "text": [
      "[I 2025-02-24 07:20:33,386] Trial 7 finished with value: 0.7375659997028506 and parameters: {'iterations': 1927, 'depth': 7, 'learning_rate': 0.0941937211034094, 'l2_leaf_reg': 0.05654822767791934}. Best is trial 6 with value: 0.7388190327054578.\n"
     ]
    },
    {
     "name": "stdout",
     "output_type": "stream",
     "text": [
      "Stopped by overfitting detector  (300 iterations wait)\n",
      "\n",
      "bestTest = 0.7375659997\n",
      "bestIteration = 166\n",
      "\n",
      "Shrink model to first 167 iterations.\n",
      "0:\ttest: 0.7177170\tbest: 0.7177170 (0)\ttotal: 80.6ms\tremaining: 2m 33s\n",
      "300:\ttest: 0.7383524\tbest: 0.7383524 (300)\ttotal: 23.4s\tremaining: 2m 4s\n",
      "600:\ttest: 0.7387926\tbest: 0.7388524 (505)\ttotal: 48.8s\tremaining: 1m 45s\n",
      "900:\ttest: 0.7386316\tbest: 0.7389909 (794)\ttotal: 1m 14s\tremaining: 1m 22s\n"
     ]
    },
    {
     "name": "stderr",
     "output_type": "stream",
     "text": [
      "[I 2025-02-24 07:22:04,598] Trial 8 finished with value: 0.7389908648650554 and parameters: {'iterations': 1904, 'depth': 7, 'learning_rate': 0.05155602859187331, 'l2_leaf_reg': 1.299974533316308}. Best is trial 8 with value: 0.7389908648650554.\n"
     ]
    },
    {
     "name": "stdout",
     "output_type": "stream",
     "text": [
      "Stopped by overfitting detector  (300 iterations wait)\n",
      "\n",
      "bestTest = 0.7389908649\n",
      "bestIteration = 794\n",
      "\n",
      "Shrink model to first 795 iterations.\n",
      "저장 완료\n",
      "0:\ttest: 0.7163722\tbest: 0.7163722 (0)\ttotal: 73.9ms\tremaining: 3m 14s\n",
      "300:\ttest: 0.7376517\tbest: 0.7376640 (291)\ttotal: 20.1s\tremaining: 2m 36s\n",
      "600:\ttest: 0.7384743\tbest: 0.7384798 (599)\ttotal: 42.1s\tremaining: 2m 22s\n",
      "900:\ttest: 0.7383577\tbest: 0.7386348 (709)\ttotal: 1m 3s\tremaining: 2m 3s\n"
     ]
    },
    {
     "name": "stderr",
     "output_type": "stream",
     "text": [
      "[I 2025-02-24 07:23:16,822] Trial 9 finished with value: 0.7386347637302048 and parameters: {'iterations': 2639, 'depth': 6, 'learning_rate': 0.03968704290444751, 'l2_leaf_reg': 0.30557194377967184}. Best is trial 8 with value: 0.7389908648650554.\n"
     ]
    },
    {
     "name": "stdout",
     "output_type": "stream",
     "text": [
      "Stopped by overfitting detector  (300 iterations wait)\n",
      "\n",
      "bestTest = 0.7386347637\n",
      "bestIteration = 709\n",
      "\n",
      "Shrink model to first 710 iterations.\n",
      "0:\ttest: 0.7199110\tbest: 0.7199110 (0)\ttotal: 104ms\tremaining: 5m 4s\n",
      "300:\ttest: 0.7378581\tbest: 0.7378674 (299)\ttotal: 25.5s\tremaining: 3m 44s\n",
      "600:\ttest: 0.7384605\tbest: 0.7385644 (569)\ttotal: 54.4s\tremaining: 3m 32s\n",
      "900:\ttest: 0.7384756\tbest: 0.7386511 (789)\ttotal: 1m 23s\tremaining: 3m 10s\n"
     ]
    },
    {
     "name": "stderr",
     "output_type": "stream",
     "text": [
      "[I 2025-02-24 07:24:59,614] Trial 10 finished with value: 0.738651084072588 and parameters: {'iterations': 2945, 'depth': 8, 'learning_rate': 0.032580115422505045, 'l2_leaf_reg': 0.87526046512315}. Best is trial 8 with value: 0.7389908648650554.\n"
     ]
    },
    {
     "name": "stdout",
     "output_type": "stream",
     "text": [
      "Stopped by overfitting detector  (300 iterations wait)\n",
      "\n",
      "bestTest = 0.7386510841\n",
      "bestIteration = 789\n",
      "\n",
      "Shrink model to first 790 iterations.\n",
      "0:\ttest: 0.7163807\tbest: 0.7163807 (0)\ttotal: 73.4ms\tremaining: 2m\n",
      "300:\ttest: 0.7378819\tbest: 0.7378840 (297)\ttotal: 20.6s\tremaining: 1m 32s\n",
      "600:\ttest: 0.7383379\tbest: 0.7384280 (521)\ttotal: 42.2s\tremaining: 1m 13s\n",
      "900:\ttest: 0.7385588\tbest: 0.7385958 (771)\ttotal: 1m 4s\tremaining: 52.9s\n"
     ]
    },
    {
     "name": "stderr",
     "output_type": "stream",
     "text": [
      "[I 2025-02-24 07:26:16,395] Trial 11 finished with value: 0.7385957775692515 and parameters: {'iterations': 1645, 'depth': 6, 'learning_rate': 0.06980778172048213, 'l2_leaf_reg': 73.1213351392818}. Best is trial 8 with value: 0.7389908648650554.\n"
     ]
    },
    {
     "name": "stdout",
     "output_type": "stream",
     "text": [
      "Stopped by overfitting detector  (300 iterations wait)\n",
      "\n",
      "bestTest = 0.7385957776\n",
      "bestIteration = 771\n",
      "\n",
      "Shrink model to first 772 iterations.\n",
      "0:\ttest: 0.7163719\tbest: 0.7163719 (0)\ttotal: 71.1ms\tremaining: 2m 14s\n",
      "300:\ttest: 0.7385583\tbest: 0.7386069 (294)\ttotal: 20.9s\tremaining: 1m 50s\n",
      "600:\ttest: 0.7389993\tbest: 0.7390564 (560)\ttotal: 42.8s\tremaining: 1m 32s\n",
      "900:\ttest: 0.7388018\tbest: 0.7391390 (772)\ttotal: 1m 4s\tremaining: 1m 11s\n"
     ]
    },
    {
     "name": "stderr",
     "output_type": "stream",
     "text": [
      "[I 2025-02-24 07:27:34,088] Trial 12 finished with value: 0.7391390146592095 and parameters: {'iterations': 1898, 'depth': 6, 'learning_rate': 0.06850833108780335, 'l2_leaf_reg': 6.112234112518604}. Best is trial 12 with value: 0.7391390146592095.\n"
     ]
    },
    {
     "name": "stdout",
     "output_type": "stream",
     "text": [
      "Stopped by overfitting detector  (300 iterations wait)\n",
      "\n",
      "bestTest = 0.7391390147\n",
      "bestIteration = 772\n",
      "\n",
      "Shrink model to first 773 iterations.\n",
      "저장 완료\n",
      "0:\ttest: 0.7199211\tbest: 0.7199211 (0)\ttotal: 94.2ms\tremaining: 2m 51s\n",
      "300:\ttest: 0.7377002\tbest: 0.7378380 (263)\ttotal: 27s\tremaining: 2m 15s\n"
     ]
    },
    {
     "name": "stderr",
     "output_type": "stream",
     "text": [
      "[I 2025-02-24 07:28:26,956] Trial 13 finished with value: 0.7378380411472125 and parameters: {'iterations': 1816, 'depth': 8, 'learning_rate': 0.06125191144809531, 'l2_leaf_reg': 3.872823161876026}. Best is trial 12 with value: 0.7391390146592095.\n"
     ]
    },
    {
     "name": "stdout",
     "output_type": "stream",
     "text": [
      "Stopped by overfitting detector  (300 iterations wait)\n",
      "\n",
      "bestTest = 0.7378380411\n",
      "bestIteration = 263\n",
      "\n",
      "Shrink model to first 264 iterations.\n",
      "0:\ttest: 0.7177174\tbest: 0.7177174 (0)\ttotal: 80ms\tremaining: 2m 2s\n",
      "300:\ttest: 0.7377358\tbest: 0.7377446 (299)\ttotal: 23.5s\tremaining: 1m 36s\n",
      "600:\ttest: 0.7375042\tbest: 0.7378109 (350)\ttotal: 49.2s\tremaining: 1m 16s\n"
     ]
    },
    {
     "name": "stderr",
     "output_type": "stream",
     "text": [
      "[I 2025-02-24 07:29:20,620] Trial 14 finished with value: 0.7378108683727775 and parameters: {'iterations': 1533, 'depth': 7, 'learning_rate': 0.0536289472022267, 'l2_leaf_reg': 0.06102173985123459}. Best is trial 12 with value: 0.7391390146592095.\n"
     ]
    },
    {
     "name": "stdout",
     "output_type": "stream",
     "text": [
      "Stopped by overfitting detector  (300 iterations wait)\n",
      "\n",
      "bestTest = 0.7378108684\n",
      "bestIteration = 350\n",
      "\n",
      "Shrink model to first 351 iterations.\n",
      "0:\ttest: 0.7199187\tbest: 0.7199187 (0)\ttotal: 95ms\tremaining: 3m 4s\n",
      "300:\ttest: 0.7376561\tbest: 0.7376604 (299)\ttotal: 25.9s\tremaining: 2m 21s\n",
      "600:\ttest: 0.7385193\tbest: 0.7385367 (568)\ttotal: 54.1s\tremaining: 2m\n",
      "900:\ttest: 0.7386907\tbest: 0.7386982 (891)\ttotal: 1m 23s\tremaining: 1m 36s\n",
      "1200:\ttest: 0.7384835\tbest: 0.7387483 (929)\ttotal: 1m 52s\tremaining: 1m 9s\n"
     ]
    },
    {
     "name": "stderr",
     "output_type": "stream",
     "text": [
      "[I 2025-02-24 07:31:16,558] Trial 15 finished with value: 0.7387483390180012 and parameters: {'iterations': 1942, 'depth': 8, 'learning_rate': 0.03139770288778928, 'l2_leaf_reg': 4.722389127363701}. Best is trial 12 with value: 0.7391390146592095.\n"
     ]
    },
    {
     "name": "stdout",
     "output_type": "stream",
     "text": [
      "Stopped by overfitting detector  (300 iterations wait)\n",
      "\n",
      "bestTest = 0.738748339\n",
      "bestIteration = 929\n",
      "\n",
      "Shrink model to first 930 iterations.\n",
      "0:\ttest: 0.7163722\tbest: 0.7163722 (0)\ttotal: 84.4ms\tremaining: 3m 1s\n",
      "300:\ttest: 0.7381316\tbest: 0.7381772 (293)\ttotal: 20.8s\tremaining: 2m 7s\n",
      "600:\ttest: 0.7374557\tbest: 0.7382914 (403)\ttotal: 42.6s\tremaining: 1m 49s\n"
     ]
    },
    {
     "name": "stderr",
     "output_type": "stream",
     "text": [
      "[I 2025-02-24 07:32:07,163] Trial 16 finished with value: 0.738291353547728 and parameters: {'iterations': 2150, 'depth': 6, 'learning_rate': 0.0808891958156232, 'l2_leaf_reg': 0.018058132618973405}. Best is trial 12 with value: 0.7391390146592095.\n"
     ]
    },
    {
     "name": "stdout",
     "output_type": "stream",
     "text": [
      "Stopped by overfitting detector  (300 iterations wait)\n",
      "\n",
      "bestTest = 0.7382913535\n",
      "bestIteration = 403\n",
      "\n",
      "Shrink model to first 404 iterations.\n",
      "0:\ttest: 0.7199215\tbest: 0.7199215 (0)\ttotal: 111ms\tremaining: 3m 21s\n",
      "300:\ttest: 0.7380643\tbest: 0.7382150 (277)\ttotal: 30.6s\tremaining: 2m 33s\n"
     ]
    },
    {
     "name": "stderr",
     "output_type": "stream",
     "text": [
      "[I 2025-02-24 07:33:08,650] Trial 17 finished with value: 0.738215033114491 and parameters: {'iterations': 1816, 'depth': 9, 'learning_rate': 0.05742508707118142, 'l2_leaf_reg': 0.841182613551155}. Best is trial 12 with value: 0.7391390146592095.\n"
     ]
    },
    {
     "name": "stdout",
     "output_type": "stream",
     "text": [
      "Stopped by overfitting detector  (300 iterations wait)\n",
      "\n",
      "bestTest = 0.7382150331\n",
      "bestIteration = 277\n",
      "\n",
      "Shrink model to first 278 iterations.\n",
      "0:\ttest: 0.7177385\tbest: 0.7177385 (0)\ttotal: 87.8ms\tremaining: 2m 15s\n",
      "300:\ttest: 0.7384262\tbest: 0.7384619 (294)\ttotal: 23.6s\tremaining: 1m 37s\n",
      "600:\ttest: 0.7389311\tbest: 0.7389459 (584)\ttotal: 48.7s\tremaining: 1m 16s\n",
      "900:\ttest: 0.7389111\tbest: 0.7390383 (670)\ttotal: 1m 14s\tremaining: 53.2s\n"
     ]
    },
    {
     "name": "stderr",
     "output_type": "stream",
     "text": [
      "[I 2025-02-24 07:34:29,126] Trial 18 finished with value: 0.7390383407807569 and parameters: {'iterations': 1546, 'depth': 7, 'learning_rate': 0.0679184261262929, 'l2_leaf_reg': 19.56112242234522}. Best is trial 12 with value: 0.7391390146592095.\n"
     ]
    },
    {
     "name": "stdout",
     "output_type": "stream",
     "text": [
      "Stopped by overfitting detector  (300 iterations wait)\n",
      "\n",
      "bestTest = 0.7390383408\n",
      "bestIteration = 670\n",
      "\n",
      "Shrink model to first 671 iterations.\n",
      "0:\ttest: 0.7163838\tbest: 0.7163838 (0)\ttotal: 76.3ms\tremaining: 1m 57s\n",
      "300:\ttest: 0.7378711\tbest: 0.7380151 (226)\ttotal: 20.9s\tremaining: 1m 26s\n",
      "600:\ttest: 0.7380564\tbest: 0.7381174 (474)\ttotal: 42.7s\tremaining: 1m 6s\n"
     ]
    },
    {
     "name": "stderr",
     "output_type": "stream",
     "text": [
      "[I 2025-02-24 07:35:24,846] Trial 19 finished with value: 0.738117377109569 and parameters: {'iterations': 1539, 'depth': 6, 'learning_rate': 0.07984257209989182, 'l2_leaf_reg': 21.65912588757876}. Best is trial 12 with value: 0.7391390146592095.\n",
      "[I 2025-02-24 07:35:24,849] A new study created in memory with name: no-name-73cf67a9-72e8-4fdf-812c-c154080e1450\n"
     ]
    },
    {
     "name": "stdout",
     "output_type": "stream",
     "text": [
      "Stopped by overfitting detector  (300 iterations wait)\n",
      "\n",
      "bestTest = 0.7381173771\n",
      "bestIteration = 474\n",
      "\n",
      "Shrink model to first 475 iterations.\n"
     ]
    },
    {
     "name": "stderr",
     "output_type": "stream",
     "text": [
      "[I 2025-02-24 07:35:48,148] Trial 0 finished with value: 0.7287208982881637 and parameters: {'num_iterations': 2366, 'objective': 'binary', 'metric': 'auc', 'verbose': -1, 'learning_rate': 0.0652646236447618, 'n_estimators': 236, 'min_child_samples': 45, 'subsample': 0.7, 'colsample_bytree': 0.5}. Best is trial 0 with value: 0.7287208982881637.\n",
      "[I 2025-02-24 07:36:05,243] Trial 1 finished with value: 0.7385069726697243 and parameters: {'num_iterations': 1510, 'objective': 'binary', 'metric': 'auc', 'verbose': -1, 'learning_rate': 0.005231880959249543, 'n_estimators': 1411, 'min_child_samples': 10, 'subsample': 1.0, 'colsample_bytree': 0.5}. Best is trial 1 with value: 0.7385069726697243.\n",
      "[I 2025-02-24 07:36:24,990] Trial 2 finished with value: 0.7376012651434114 and parameters: {'num_iterations': 2334, 'objective': 'binary', 'metric': 'auc', 'verbose': -1, 'learning_rate': 0.006578527777128852, 'n_estimators': 931, 'min_child_samples': 15, 'subsample': 0.5, 'colsample_bytree': 1.0}. Best is trial 1 with value: 0.7385069726697243.\n",
      "[I 2025-02-24 07:36:41,345] Trial 3 finished with value: 0.7385350190391288 and parameters: {'num_iterations': 1620, 'objective': 'binary', 'metric': 'auc', 'verbose': -1, 'learning_rate': 0.0058823249237283685, 'n_estimators': 837, 'min_child_samples': 10, 'subsample': 0.9, 'colsample_bytree': 0.6}. Best is trial 3 with value: 0.7385350190391288.\n",
      "[I 2025-02-24 07:36:57,870] Trial 4 finished with value: 0.7379650936228552 and parameters: {'num_iterations': 1997, 'objective': 'binary', 'metric': 'auc', 'verbose': -1, 'learning_rate': 0.010907507425244923, 'n_estimators': 1597, 'min_child_samples': 50, 'subsample': 0.6, 'colsample_bytree': 0.8}. Best is trial 3 with value: 0.7385350190391288.\n",
      "[I 2025-02-24 07:37:20,545] Trial 5 finished with value: 0.7340046825961044 and parameters: {'num_iterations': 2909, 'objective': 'binary', 'metric': 'auc', 'verbose': -1, 'learning_rate': 0.019760591962733942, 'n_estimators': 612, 'min_child_samples': 30, 'subsample': 0.7, 'colsample_bytree': 0.9}. Best is trial 3 with value: 0.7385350190391288.\n",
      "[I 2025-02-24 07:37:41,641] Trial 6 finished with value: 0.7352321073534491 and parameters: {'num_iterations': 2639, 'objective': 'binary', 'metric': 'auc', 'verbose': -1, 'learning_rate': 0.017862094446750985, 'n_estimators': 794, 'min_child_samples': 35, 'subsample': 1.0, 'colsample_bytree': 0.8}. Best is trial 3 with value: 0.7385350190391288.\n",
      "[I 2025-02-24 07:37:58,262] Trial 7 finished with value: 0.7378020450635865 and parameters: {'num_iterations': 1580, 'objective': 'binary', 'metric': 'auc', 'verbose': -1, 'learning_rate': 0.01776722177611332, 'n_estimators': 529, 'min_child_samples': 25, 'subsample': 0.8, 'colsample_bytree': 0.5}. Best is trial 3 with value: 0.7385350190391288.\n",
      "[I 2025-02-24 07:38:15,643] Trial 8 finished with value: 0.7335741352863148 and parameters: {'num_iterations': 1911, 'objective': 'binary', 'metric': 'auc', 'verbose': -1, 'learning_rate': 0.0304747553332844, 'n_estimators': 1328, 'min_child_samples': 10, 'subsample': 0.7, 'colsample_bytree': 0.6}. Best is trial 3 with value: 0.7385350190391288.\n",
      "[I 2025-02-24 07:38:43,319] Trial 9 finished with value: 0.7342841773939099 and parameters: {'num_iterations': 2739, 'objective': 'binary', 'metric': 'auc', 'verbose': -1, 'learning_rate': 0.02691531614176271, 'n_estimators': 1438, 'min_child_samples': 20, 'subsample': 0.6, 'colsample_bytree': 0.5}. Best is trial 3 with value: 0.7385350190391288.\n",
      "[I 2025-02-24 07:38:57,830] Trial 10 finished with value: 0.7269992570313039 and parameters: {'num_iterations': 1883, 'objective': 'binary', 'metric': 'auc', 'verbose': -1, 'learning_rate': 0.08223556891145911, 'n_estimators': 1917, 'min_child_samples': 40, 'subsample': 0.9, 'colsample_bytree': 0.7}. Best is trial 3 with value: 0.7385350190391288.\n",
      "[I 2025-02-24 07:39:13,291] Trial 11 finished with value: 0.7384615258768836 and parameters: {'num_iterations': 1513, 'objective': 'binary', 'metric': 'auc', 'verbose': -1, 'learning_rate': 0.005340229419903739, 'n_estimators': 1206, 'min_child_samples': 10, 'subsample': 1.0, 'colsample_bytree': 0.6}. Best is trial 3 with value: 0.7385350190391288.\n",
      "[I 2025-02-24 07:39:29,932] Trial 12 finished with value: 0.7383813735384399 and parameters: {'num_iterations': 1698, 'objective': 'binary', 'metric': 'auc', 'verbose': -1, 'learning_rate': 0.008515343845233947, 'n_estimators': 1719, 'min_child_samples': 20, 'subsample': 0.9, 'colsample_bytree': 0.6}. Best is trial 3 with value: 0.7385350190391288.\n",
      "[I 2025-02-24 07:39:44,846] Trial 13 finished with value: 0.7383772835256285 and parameters: {'num_iterations': 1740, 'objective': 'binary', 'metric': 'auc', 'verbose': -1, 'learning_rate': 0.010074542479113706, 'n_estimators': 1082, 'min_child_samples': 10, 'subsample': 0.9, 'colsample_bytree': 0.7}. Best is trial 3 with value: 0.7385350190391288.\n",
      "[I 2025-02-24 07:40:06,258] Trial 14 finished with value: 0.738604148197413 and parameters: {'num_iterations': 2165, 'objective': 'binary', 'metric': 'auc', 'verbose': -1, 'learning_rate': 0.005262187136940254, 'n_estimators': 251, 'min_child_samples': 20, 'subsample': 1.0, 'colsample_bytree': 0.6}. Best is trial 14 with value: 0.738604148197413.\n",
      "[I 2025-02-24 07:40:24,076] Trial 15 finished with value: 0.7372860641366742 and parameters: {'num_iterations': 2153, 'objective': 'binary', 'metric': 'auc', 'verbose': -1, 'learning_rate': 0.012915147920823086, 'n_estimators': 188, 'min_child_samples': 20, 'subsample': 0.8, 'colsample_bytree': 0.7}. Best is trial 14 with value: 0.738604148197413.\n",
      "[I 2025-02-24 07:40:46,356] Trial 16 finished with value: 0.7319780455101047 and parameters: {'num_iterations': 2503, 'objective': 'binary', 'metric': 'auc', 'verbose': -1, 'learning_rate': 0.03901437770924474, 'n_estimators': 444, 'min_child_samples': 25, 'subsample': 0.9, 'colsample_bytree': 0.6}. Best is trial 14 with value: 0.738604148197413.\n",
      "[I 2025-02-24 07:41:06,706] Trial 17 finished with value: 0.7383480180941532 and parameters: {'num_iterations': 2103, 'objective': 'binary', 'metric': 'auc', 'verbose': -1, 'learning_rate': 0.007238111112271453, 'n_estimators': 116, 'min_child_samples': 15, 'subsample': 1.0, 'colsample_bytree': 0.6}. Best is trial 14 with value: 0.738604148197413.\n",
      "[I 2025-02-24 07:41:21,416] Trial 18 finished with value: 0.7379652206912144 and parameters: {'num_iterations': 1753, 'objective': 'binary', 'metric': 'auc', 'verbose': -1, 'learning_rate': 0.013508700117868075, 'n_estimators': 756, 'min_child_samples': 30, 'subsample': 0.8, 'colsample_bytree': 0.7}. Best is trial 14 with value: 0.738604148197413.\n",
      "[I 2025-02-24 07:41:38,434] Trial 19 finished with value: 0.7302917610241888 and parameters: {'num_iterations': 2202, 'objective': 'binary', 'metric': 'auc', 'verbose': -1, 'learning_rate': 0.04570242881302624, 'n_estimators': 414, 'min_child_samples': 15, 'subsample': 0.9, 'colsample_bytree': 0.8}. Best is trial 14 with value: 0.738604148197413.\n",
      "[I 2025-02-24 07:41:55,353] Trial 20 finished with value: 0.7379518268919788 and parameters: {'num_iterations': 1973, 'objective': 'binary', 'metric': 'auc', 'verbose': -1, 'learning_rate': 0.00688976659636273, 'n_estimators': 946, 'min_child_samples': 25, 'subsample': 1.0, 'colsample_bytree': 0.9}. Best is trial 14 with value: 0.738604148197413.\n",
      "[I 2025-02-24 07:42:13,646] Trial 21 finished with value: 0.7385991210554527 and parameters: {'num_iterations': 1623, 'objective': 'binary', 'metric': 'auc', 'verbose': -1, 'learning_rate': 0.0053196069822991025, 'n_estimators': 1452, 'min_child_samples': 10, 'subsample': 1.0, 'colsample_bytree': 0.5}. Best is trial 14 with value: 0.738604148197413.\n",
      "[I 2025-02-24 07:42:32,163] Trial 22 finished with value: 0.7385659045921837 and parameters: {'num_iterations': 1639, 'objective': 'binary', 'metric': 'auc', 'verbose': -1, 'learning_rate': 0.005003696675578548, 'n_estimators': 1632, 'min_child_samples': 15, 'subsample': 1.0, 'colsample_bytree': 0.5}. Best is trial 14 with value: 0.738604148197413.\n",
      "[I 2025-02-24 07:42:52,123] Trial 23 finished with value: 0.7385350666897634 and parameters: {'num_iterations': 1835, 'objective': 'binary', 'metric': 'auc', 'verbose': -1, 'learning_rate': 0.008160886063258708, 'n_estimators': 1879, 'min_child_samples': 15, 'subsample': 1.0, 'colsample_bytree': 0.5}. Best is trial 14 with value: 0.738604148197413.\n",
      "[I 2025-02-24 07:43:14,852] Trial 24 finished with value: 0.7386932945931556 and parameters: {'num_iterations': 2039, 'objective': 'binary', 'metric': 'auc', 'verbose': -1, 'learning_rate': 0.0050360373923571955, 'n_estimators': 1619, 'min_child_samples': 20, 'subsample': 1.0, 'colsample_bytree': 0.5}. Best is trial 24 with value: 0.7386932945931556.\n",
      "[I 2025-02-24 07:43:36,960] Trial 25 finished with value: 0.7382993588543567 and parameters: {'num_iterations': 2064, 'objective': 'binary', 'metric': 'auc', 'verbose': -1, 'learning_rate': 0.008883021712741569, 'n_estimators': 1192, 'min_child_samples': 20, 'subsample': 1.0, 'colsample_bytree': 0.5}. Best is trial 24 with value: 0.7386932945931556.\n",
      "[I 2025-02-24 07:43:59,375] Trial 26 finished with value: 0.7386307134262556 and parameters: {'num_iterations': 2309, 'objective': 'binary', 'metric': 'auc', 'verbose': -1, 'learning_rate': 0.006560862459482555, 'n_estimators': 1561, 'min_child_samples': 35, 'subsample': 0.9, 'colsample_bytree': 0.6}. Best is trial 24 with value: 0.7386932945931556.\n",
      "[I 2025-02-24 07:44:21,137] Trial 27 finished with value: 0.7375413007905336 and parameters: {'num_iterations': 2305, 'objective': 'binary', 'metric': 'auc', 'verbose': -1, 'learning_rate': 0.012767570380314952, 'n_estimators': 1736, 'min_child_samples': 35, 'subsample': 0.9, 'colsample_bytree': 0.6}. Best is trial 24 with value: 0.7386932945931556.\n",
      "[I 2025-02-24 07:44:42,454] Trial 28 finished with value: 0.7382851271981278 and parameters: {'num_iterations': 2525, 'objective': 'binary', 'metric': 'auc', 'verbose': -1, 'learning_rate': 0.007948019285506872, 'n_estimators': 1600, 'min_child_samples': 35, 'subsample': 0.8, 'colsample_bytree': 0.7}. Best is trial 24 with value: 0.7386932945931556.\n",
      "[I 2025-02-24 07:45:06,211] Trial 29 finished with value: 0.7385159270181608 and parameters: {'num_iterations': 2423, 'objective': 'binary', 'metric': 'auc', 'verbose': -1, 'learning_rate': 0.006536887106685785, 'n_estimators': 315, 'min_child_samples': 40, 'subsample': 0.9, 'colsample_bytree': 0.6}. Best is trial 24 with value: 0.7386932945931556.\n",
      "[I 2025-02-24 07:45:30,050] Trial 30 finished with value: 0.7379129598576123 and parameters: {'num_iterations': 2247, 'objective': 'binary', 'metric': 'auc', 'verbose': -1, 'learning_rate': 0.010763355993031416, 'n_estimators': 1970, 'min_child_samples': 45, 'subsample': 0.8, 'colsample_bytree': 0.5}. Best is trial 24 with value: 0.7386932945931556.\n",
      "[I 2025-02-24 07:45:55,863] Trial 31 finished with value: 0.7387208922524165 and parameters: {'num_iterations': 2379, 'objective': 'binary', 'metric': 'auc', 'verbose': -1, 'learning_rate': 0.005990477473249302, 'n_estimators': 1470, 'min_child_samples': 25, 'subsample': 1.0, 'colsample_bytree': 0.5}. Best is trial 31 with value: 0.7387208922524165.\n",
      "[I 2025-02-24 07:46:22,550] Trial 32 finished with value: 0.7386117405318745 and parameters: {'num_iterations': 2462, 'objective': 'binary', 'metric': 'auc', 'verbose': -1, 'learning_rate': 0.005995784412471755, 'n_estimators': 1329, 'min_child_samples': 25, 'subsample': 1.0, 'colsample_bytree': 0.5}. Best is trial 31 with value: 0.7387208922524165.\n",
      "[I 2025-02-24 07:46:48,639] Trial 33 finished with value: 0.7386829226383369 and parameters: {'num_iterations': 2409, 'objective': 'binary', 'metric': 'auc', 'verbose': -1, 'learning_rate': 0.006388369805650582, 'n_estimators': 1305, 'min_child_samples': 25, 'subsample': 1.0, 'colsample_bytree': 0.5}. Best is trial 31 with value: 0.7387208922524165.\n",
      "[I 2025-02-24 07:47:13,813] Trial 34 finished with value: 0.7385951541401142 and parameters: {'num_iterations': 2338, 'objective': 'binary', 'metric': 'auc', 'verbose': -1, 'learning_rate': 0.0067449402849182214, 'n_estimators': 1512, 'min_child_samples': 30, 'subsample': 0.9, 'colsample_bytree': 0.5}. Best is trial 31 with value: 0.7387208922524165.\n",
      "[I 2025-02-24 07:47:41,187] Trial 35 finished with value: 0.7380459130701847 and parameters: {'num_iterations': 2608, 'objective': 'binary', 'metric': 'auc', 'verbose': -1, 'learning_rate': 0.00998903647220749, 'n_estimators': 1219, 'min_child_samples': 25, 'subsample': 1.0, 'colsample_bytree': 0.5}. Best is trial 31 with value: 0.7387208922524165.\n",
      "[I 2025-02-24 07:48:06,999] Trial 36 finished with value: 0.7386462316496214 and parameters: {'num_iterations': 2390, 'objective': 'binary', 'metric': 'auc', 'verbose': -1, 'learning_rate': 0.006261932524812047, 'n_estimators': 1792, 'min_child_samples': 30, 'subsample': 0.5, 'colsample_bytree': 0.5}. Best is trial 31 with value: 0.7387208922524165.\n",
      "[I 2025-02-24 07:48:27,013] Trial 37 finished with value: 0.7377481601375184 and parameters: {'num_iterations': 2397, 'objective': 'binary', 'metric': 'auc', 'verbose': -1, 'learning_rate': 0.007620816753228918, 'n_estimators': 1756, 'min_child_samples': 30, 'subsample': 0.6, 'colsample_bytree': 1.0}. Best is trial 31 with value: 0.7387208922524165.\n",
      "[I 2025-02-24 07:48:54,025] Trial 38 finished with value: 0.7367520236192124 and parameters: {'num_iterations': 2617, 'objective': 'binary', 'metric': 'auc', 'verbose': -1, 'learning_rate': 0.015566531526186717, 'n_estimators': 1365, 'min_child_samples': 30, 'subsample': 0.5, 'colsample_bytree': 0.5}. Best is trial 31 with value: 0.7387208922524165.\n",
      "[I 2025-02-24 07:49:24,427] Trial 39 finished with value: 0.738626778278007 and parameters: {'num_iterations': 2847, 'objective': 'binary', 'metric': 'auc', 'verbose': -1, 'learning_rate': 0.006060616115029448, 'n_estimators': 1828, 'min_child_samples': 25, 'subsample': 0.5, 'colsample_bytree': 0.5}. Best is trial 31 with value: 0.7387208922524165.\n"
     ]
    },
    {
     "name": "stdout",
     "output_type": "stream",
     "text": [
      "Cat val score : 0.7391390146592094\n",
      "LGBM val score : 0.7385958411034312\n",
      "Ensemble val score : 0.7392778805213703\n"
     ]
    },
    {
     "name": "stderr",
     "output_type": "stream",
     "text": [
      "[I 2025-02-24 07:49:52,059] A new study created in memory with name: no-name-5ce24774-14b3-4522-b2f0-4a15facc274f\n"
     ]
    },
    {
     "name": "stdout",
     "output_type": "stream",
     "text": [
      "==================================================\n",
      "0:\ttest: 0.7254574\tbest: 0.7254574 (0)\ttotal: 143ms\tremaining: 5m 38s\n",
      "300:\ttest: 0.7361345\tbest: 0.7361375 (299)\ttotal: 40.2s\tremaining: 4m 36s\n",
      "600:\ttest: 0.7370461\tbest: 0.7370520 (593)\ttotal: 1m 22s\tremaining: 4m 3s\n",
      "900:\ttest: 0.7373163\tbest: 0.7373244 (876)\ttotal: 2m 5s\tremaining: 3m 24s\n",
      "1200:\ttest: 0.7375161\tbest: 0.7375344 (1160)\ttotal: 2m 50s\tremaining: 2m 45s\n",
      "1500:\ttest: 0.7375013\tbest: 0.7375625 (1379)\ttotal: 3m 41s\tremaining: 2m 7s\n"
     ]
    },
    {
     "name": "stderr",
     "output_type": "stream",
     "text": [
      "[I 2025-02-24 07:54:04,018] Trial 0 finished with value: 0.737562453701452 and parameters: {'iterations': 2366, 'depth': 10, 'learning_rate': 0.01181021951839225, 'l2_leaf_reg': 9.980783802743254}. Best is trial 0 with value: 0.737562453701452.\n"
     ]
    },
    {
     "name": "stdout",
     "output_type": "stream",
     "text": [
      "Stopped by overfitting detector  (300 iterations wait)\n",
      "\n",
      "bestTest = 0.7375624537\n",
      "bestIteration = 1379\n",
      "\n",
      "Shrink model to first 1380 iterations.\n",
      "저장 완료\n",
      "0:\ttest: 0.7007592\tbest: 0.7007592 (0)\ttotal: 58.6ms\tremaining: 2m 8s\n",
      "300:\ttest: 0.7289171\tbest: 0.7289171 (300)\ttotal: 13.3s\tremaining: 1m 23s\n",
      "600:\ttest: 0.7330091\tbest: 0.7330091 (600)\ttotal: 26.7s\tremaining: 1m 10s\n",
      "900:\ttest: 0.7344183\tbest: 0.7344183 (900)\ttotal: 40.2s\tremaining: 57.6s\n",
      "1200:\ttest: 0.7351199\tbest: 0.7351199 (1200)\ttotal: 54.1s\tremaining: 44.7s\n",
      "1500:\ttest: 0.7356319\tbest: 0.7356319 (1500)\ttotal: 1m 8s\tremaining: 31.4s\n",
      "1800:\ttest: 0.7360090\tbest: 0.7360106 (1798)\ttotal: 1m 22s\tremaining: 17.9s\n",
      "2100:\ttest: 0.7363466\tbest: 0.7363494 (2098)\ttotal: 1m 36s\tremaining: 4.22s\n"
     ]
    },
    {
     "name": "stderr",
     "output_type": "stream",
     "text": [
      "[I 2025-02-24 07:55:45,052] Trial 1 finished with value: 0.7364711548947733 and parameters: {'iterations': 2193, 'depth': 4, 'learning_rate': 0.005671430811678843, 'l2_leaf_reg': 0.00012325230809466137}. Best is trial 0 with value: 0.737562453701452.\n"
     ]
    },
    {
     "name": "stdout",
     "output_type": "stream",
     "text": [
      "2192:\ttest: 0.7364698\tbest: 0.7364712 (2189)\ttotal: 1m 40s\tremaining: 0us\n",
      "\n",
      "bestTest = 0.7364711549\n",
      "bestIteration = 2189\n",
      "\n",
      "Shrink model to first 2190 iterations.\n",
      "0:\ttest: 0.7007592\tbest: 0.7007592 (0)\ttotal: 52.8ms\tremaining: 2m 13s\n",
      "300:\ttest: 0.7377479\tbest: 0.7379170 (260)\ttotal: 14.5s\tremaining: 1m 47s\n"
     ]
    },
    {
     "name": "stderr",
     "output_type": "stream",
     "text": [
      "[I 2025-02-24 07:56:12,757] Trial 2 finished with value: 0.7379170260451062 and parameters: {'iterations': 2535, 'depth': 4, 'learning_rate': 0.09275339199839054, 'l2_leaf_reg': 0.0008705394248343123}. Best is trial 2 with value: 0.7379170260451062.\n"
     ]
    },
    {
     "name": "stdout",
     "output_type": "stream",
     "text": [
      "Stopped by overfitting detector  (300 iterations wait)\n",
      "\n",
      "bestTest = 0.737917026\n",
      "bestIteration = 260\n",
      "\n",
      "Shrink model to first 261 iterations.\n",
      "저장 완료\n",
      "0:\ttest: 0.7007592\tbest: 0.7007592 (0)\ttotal: 56.3ms\tremaining: 2m 11s\n",
      "300:\ttest: 0.7366175\tbest: 0.7366175 (300)\ttotal: 13.9s\tremaining: 1m 34s\n",
      "600:\ttest: 0.7379925\tbest: 0.7379925 (600)\ttotal: 28.8s\tremaining: 1m 22s\n",
      "900:\ttest: 0.7379336\tbest: 0.7380165 (630)\ttotal: 43.8s\tremaining: 1m 9s\n"
     ]
    },
    {
     "name": "stderr",
     "output_type": "stream",
     "text": [
      "[I 2025-02-24 07:56:58,266] Trial 3 finished with value: 0.7380164689488292 and parameters: {'iterations': 2334, 'depth': 4, 'learning_rate': 0.04657568321363276, 'l2_leaf_reg': 0.0008640473331457248}. Best is trial 3 with value: 0.7380164689488292.\n"
     ]
    },
    {
     "name": "stdout",
     "output_type": "stream",
     "text": [
      "Stopped by overfitting detector  (300 iterations wait)\n",
      "\n",
      "bestTest = 0.7380164689\n",
      "bestIteration = 630\n",
      "\n",
      "Shrink model to first 631 iterations.\n",
      "저장 완료\n",
      "0:\ttest: 0.7254479\tbest: 0.7254479 (0)\ttotal: 132ms\tremaining: 3m 50s\n",
      "300:\ttest: 0.7352107\tbest: 0.7353542 (283)\ttotal: 37.8s\tremaining: 3m 1s\n",
      "600:\ttest: 0.7354037\tbest: 0.7354871 (578)\ttotal: 1m 18s\tremaining: 2m 28s\n"
     ]
    },
    {
     "name": "stderr",
     "output_type": "stream",
     "text": [
      "[I 2025-02-24 07:58:55,208] Trial 4 finished with value: 0.7354871454629972 and parameters: {'iterations': 1742, 'depth': 10, 'learning_rate': 0.012622767482095846, 'l2_leaf_reg': 0.00021158816350109617}. Best is trial 3 with value: 0.7380164689488292.\n"
     ]
    },
    {
     "name": "stdout",
     "output_type": "stream",
     "text": [
      "Stopped by overfitting detector  (300 iterations wait)\n",
      "\n",
      "bestTest = 0.7354871455\n",
      "bestIteration = 578\n",
      "\n",
      "Shrink model to first 579 iterations.\n",
      "0:\ttest: 0.7007592\tbest: 0.7007592 (0)\ttotal: 54.8ms\tremaining: 1m 53s\n",
      "300:\ttest: 0.7375540\tbest: 0.7375769 (270)\ttotal: 14.3s\tremaining: 1m 24s\n",
      "600:\ttest: 0.7378371\tbest: 0.7380773 (498)\ttotal: 29.4s\tremaining: 1m 12s\n"
     ]
    },
    {
     "name": "stderr",
     "output_type": "stream",
     "text": [
      "[I 2025-02-24 07:59:34,702] Trial 5 finished with value: 0.738077298954904 and parameters: {'iterations': 2082, 'depth': 4, 'learning_rate': 0.06995196593094148, 'l2_leaf_reg': 0.0018080296485396804}. Best is trial 5 with value: 0.738077298954904.\n"
     ]
    },
    {
     "name": "stdout",
     "output_type": "stream",
     "text": [
      "Stopped by overfitting detector  (300 iterations wait)\n",
      "\n",
      "bestTest = 0.738077299\n",
      "bestIteration = 498\n",
      "\n",
      "Shrink model to first 499 iterations.\n",
      "저장 완료\n",
      "0:\ttest: 0.7042643\tbest: 0.7042643 (0)\ttotal: 66.5ms\tremaining: 2m 12s\n",
      "300:\ttest: 0.7377167\tbest: 0.7377180 (275)\ttotal: 17.8s\tremaining: 1m 40s\n",
      "600:\ttest: 0.7379590\tbest: 0.7380439 (409)\ttotal: 35.9s\tremaining: 1m 23s\n"
     ]
    },
    {
     "name": "stderr",
     "output_type": "stream",
     "text": [
      "[I 2025-02-24 08:00:17,464] Trial 6 finished with value: 0.7380438998308688 and parameters: {'iterations': 1997, 'depth': 5, 'learning_rate': 0.07985155992831598, 'l2_leaf_reg': 62.52181000710482}. Best is trial 5 with value: 0.738077298954904.\n"
     ]
    },
    {
     "name": "stdout",
     "output_type": "stream",
     "text": [
      "Stopped by overfitting detector  (300 iterations wait)\n",
      "\n",
      "bestTest = 0.7380438998\n",
      "bestIteration = 409\n",
      "\n",
      "Shrink model to first 410 iterations.\n",
      "0:\ttest: 0.7205728\tbest: 0.7205728 (0)\ttotal: 81.2ms\tremaining: 2m 36s\n",
      "300:\ttest: 0.7370470\tbest: 0.7377602 (157)\ttotal: 24.6s\tremaining: 2m 12s\n"
     ]
    },
    {
     "name": "stderr",
     "output_type": "stream",
     "text": [
      "[I 2025-02-24 08:00:55,579] Trial 7 finished with value: 0.7377602435443 and parameters: {'iterations': 1927, 'depth': 7, 'learning_rate': 0.0941937211034094, 'l2_leaf_reg': 0.05654822767791934}. Best is trial 5 with value: 0.738077298954904.\n"
     ]
    },
    {
     "name": "stdout",
     "output_type": "stream",
     "text": [
      "Stopped by overfitting detector  (300 iterations wait)\n",
      "\n",
      "bestTest = 0.7377602435\n",
      "bestIteration = 157\n",
      "\n",
      "Shrink model to first 158 iterations.\n",
      "0:\ttest: 0.7205719\tbest: 0.7205719 (0)\ttotal: 83.7ms\tremaining: 2m 39s\n",
      "300:\ttest: 0.7380787\tbest: 0.7380961 (295)\ttotal: 23.7s\tremaining: 2m 6s\n",
      "600:\ttest: 0.7379660\tbest: 0.7382819 (404)\ttotal: 49.1s\tremaining: 1m 46s\n"
     ]
    },
    {
     "name": "stderr",
     "output_type": "stream",
     "text": [
      "[I 2025-02-24 08:01:53,710] Trial 8 finished with value: 0.7382819107802858 and parameters: {'iterations': 1904, 'depth': 7, 'learning_rate': 0.05155602859187331, 'l2_leaf_reg': 1.299974533316308}. Best is trial 8 with value: 0.7382819107802858.\n"
     ]
    },
    {
     "name": "stdout",
     "output_type": "stream",
     "text": [
      "Stopped by overfitting detector  (300 iterations wait)\n",
      "\n",
      "bestTest = 0.7382819108\n",
      "bestIteration = 404\n",
      "\n",
      "Shrink model to first 405 iterations.\n",
      "저장 완료\n",
      "0:\ttest: 0.7192961\tbest: 0.7192961 (0)\ttotal: 74.7ms\tremaining: 3m 17s\n",
      "300:\ttest: 0.7372833\tbest: 0.7372833 (300)\ttotal: 19.7s\tremaining: 2m 33s\n",
      "600:\ttest: 0.7383481\tbest: 0.7384708 (534)\ttotal: 41.7s\tremaining: 2m 21s\n"
     ]
    },
    {
     "name": "stderr",
     "output_type": "stream",
     "text": [
      "[I 2025-02-24 08:02:52,825] Trial 9 finished with value: 0.7384708455468528 and parameters: {'iterations': 2639, 'depth': 6, 'learning_rate': 0.03968704290444751, 'l2_leaf_reg': 0.30557194377967184}. Best is trial 9 with value: 0.7384708455468528.\n"
     ]
    },
    {
     "name": "stdout",
     "output_type": "stream",
     "text": [
      "Stopped by overfitting detector  (300 iterations wait)\n",
      "\n",
      "bestTest = 0.7384708455\n",
      "bestIteration = 534\n",
      "\n",
      "Shrink model to first 535 iterations.\n",
      "저장 완료\n",
      "0:\ttest: 0.7192964\tbest: 0.7192964 (0)\ttotal: 74.9ms\tremaining: 3m 40s\n",
      "300:\ttest: 0.7366609\tbest: 0.7366609 (300)\ttotal: 19.8s\tremaining: 2m 54s\n",
      "600:\ttest: 0.7379790\tbest: 0.7379790 (600)\ttotal: 41.4s\tremaining: 2m 41s\n",
      "900:\ttest: 0.7378680\tbest: 0.7380603 (682)\ttotal: 1m 3s\tremaining: 2m 23s\n"
     ]
    },
    {
     "name": "stderr",
     "output_type": "stream",
     "text": [
      "[I 2025-02-24 08:04:02,567] Trial 10 finished with value: 0.7380603313580663 and parameters: {'iterations': 2945, 'depth': 6, 'learning_rate': 0.032580115422505045, 'l2_leaf_reg': 0.05588195113566891}. Best is trial 9 with value: 0.7384708455468528.\n"
     ]
    },
    {
     "name": "stdout",
     "output_type": "stream",
     "text": [
      "Stopped by overfitting detector  (300 iterations wait)\n",
      "\n",
      "bestTest = 0.7380603314\n",
      "bestIteration = 682\n",
      "\n",
      "Shrink model to first 683 iterations.\n",
      "0:\ttest: 0.7205014\tbest: 0.7205014 (0)\ttotal: 96.6ms\tremaining: 4m 24s\n",
      "300:\ttest: 0.7378125\tbest: 0.7378125 (300)\ttotal: 26.9s\tremaining: 3m 38s\n",
      "600:\ttest: 0.7371871\tbest: 0.7378793 (360)\ttotal: 56.3s\tremaining: 3m 20s\n"
     ]
    },
    {
     "name": "stderr",
     "output_type": "stream",
     "text": [
      "[I 2025-02-24 08:05:05,145] Trial 11 finished with value: 0.737879258946224 and parameters: {'iterations': 2742, 'depth': 8, 'learning_rate': 0.05038072346939034, 'l2_leaf_reg': 1.9458284937024315}. Best is trial 9 with value: 0.7384708455468528.\n"
     ]
    },
    {
     "name": "stdout",
     "output_type": "stream",
     "text": [
      "Stopped by overfitting detector  (300 iterations wait)\n",
      "\n",
      "bestTest = 0.7378792589\n",
      "bestIteration = 360\n",
      "\n",
      "Shrink model to first 361 iterations.\n",
      "0:\ttest: 0.7205724\tbest: 0.7205724 (0)\ttotal: 81.9ms\tremaining: 2m 8s\n",
      "300:\ttest: 0.7372363\tbest: 0.7372413 (299)\ttotal: 22.4s\tremaining: 1m 33s\n",
      "600:\ttest: 0.7378215\tbest: 0.7380603 (525)\ttotal: 47.5s\tremaining: 1m 16s\n"
     ]
    },
    {
     "name": "stderr",
     "output_type": "stream",
     "text": [
      "[I 2025-02-24 08:06:12,046] Trial 12 finished with value: 0.738060307532749 and parameters: {'iterations': 1565, 'depth': 7, 'learning_rate': 0.03421727225236856, 'l2_leaf_reg': 0.5279524076347274}. Best is trial 9 with value: 0.7384708455468528.\n"
     ]
    },
    {
     "name": "stdout",
     "output_type": "stream",
     "text": [
      "Stopped by overfitting detector  (300 iterations wait)\n",
      "\n",
      "bestTest = 0.7380603075\n",
      "bestIteration = 525\n",
      "\n",
      "Shrink model to first 526 iterations.\n",
      "0:\ttest: 0.7205044\tbest: 0.7205044 (0)\ttotal: 98.2ms\tremaining: 4m 17s\n",
      "300:\ttest: 0.7374788\tbest: 0.7376876 (254)\ttotal: 26.7s\tremaining: 3m 26s\n"
     ]
    },
    {
     "name": "stderr",
     "output_type": "stream",
     "text": [
      "[I 2025-02-24 08:07:04,131] Trial 13 finished with value: 0.7376875644137308 and parameters: {'iterations': 2621, 'depth': 8, 'learning_rate': 0.06513774410228096, 'l2_leaf_reg': 0.4450207665125896}. Best is trial 9 with value: 0.7384708455468528.\n"
     ]
    },
    {
     "name": "stdout",
     "output_type": "stream",
     "text": [
      "Stopped by overfitting detector  (300 iterations wait)\n",
      "\n",
      "bestTest = 0.7376875644\n",
      "bestIteration = 254\n",
      "\n",
      "Shrink model to first 255 iterations.\n",
      "0:\ttest: 0.7192964\tbest: 0.7192964 (0)\ttotal: 73.3ms\tremaining: 3m 34s\n",
      "300:\ttest: 0.7369800\tbest: 0.7369800 (300)\ttotal: 21.2s\tremaining: 3m 4s\n",
      "600:\ttest: 0.7383891\tbest: 0.7383891 (600)\ttotal: 43.1s\tremaining: 2m 46s\n",
      "900:\ttest: 0.7382709\tbest: 0.7384468 (644)\ttotal: 1m 5s\tremaining: 2m 26s\n"
     ]
    },
    {
     "name": "stderr",
     "output_type": "stream",
     "text": [
      "[I 2025-02-24 08:08:12,881] Trial 14 finished with value: 0.7384467978598765 and parameters: {'iterations': 2922, 'depth': 6, 'learning_rate': 0.032542601115978974, 'l2_leaf_reg': 0.0118311002022484}. Best is trial 9 with value: 0.7384708455468528.\n"
     ]
    },
    {
     "name": "stdout",
     "output_type": "stream",
     "text": [
      "Stopped by overfitting detector  (300 iterations wait)\n",
      "\n",
      "bestTest = 0.7384467979\n",
      "bestIteration = 644\n",
      "\n",
      "Shrink model to first 645 iterations.\n",
      "0:\ttest: 0.7192964\tbest: 0.7192964 (0)\ttotal: 75ms\tremaining: 3m 44s\n",
      "300:\ttest: 0.7365360\tbest: 0.7365845 (294)\ttotal: 19.9s\tremaining: 2m 58s\n",
      "600:\ttest: 0.7378647\tbest: 0.7379540 (587)\ttotal: 41.2s\tremaining: 2m 44s\n",
      "900:\ttest: 0.7380703\tbest: 0.7381915 (820)\ttotal: 1m 3s\tremaining: 2m 27s\n"
     ]
    },
    {
     "name": "stderr",
     "output_type": "stream",
     "text": [
      "[I 2025-02-24 08:09:32,548] Trial 15 finished with value: 0.7381914937009515 and parameters: {'iterations': 3000, 'depth': 6, 'learning_rate': 0.02836143127693003, 'l2_leaf_reg': 0.011593811620043356}. Best is trial 9 with value: 0.7384708455468528.\n"
     ]
    },
    {
     "name": "stdout",
     "output_type": "stream",
     "text": [
      "Stopped by overfitting detector  (300 iterations wait)\n",
      "\n",
      "bestTest = 0.7381914937\n",
      "bestIteration = 820\n",
      "\n",
      "Shrink model to first 821 iterations.\n",
      "0:\ttest: 0.7192964\tbest: 0.7192964 (0)\ttotal: 75.6ms\tremaining: 3m 31s\n",
      "300:\ttest: 0.7362518\tbest: 0.7362518 (300)\ttotal: 19.8s\tremaining: 2m 44s\n",
      "600:\ttest: 0.7373498\tbest: 0.7373498 (600)\ttotal: 40.1s\tremaining: 2m 26s\n",
      "900:\ttest: 0.7378761\tbest: 0.7378826 (874)\ttotal: 1m 1s\tremaining: 2m 10s\n",
      "1200:\ttest: 0.7379463\tbest: 0.7380103 (1093)\ttotal: 1m 24s\tremaining: 1m 51s\n"
     ]
    },
    {
     "name": "stderr",
     "output_type": "stream",
     "text": [
      "[I 2025-02-24 08:11:11,065] Trial 16 finished with value: 0.7380103498131572 and parameters: {'iterations': 2799, 'depth': 6, 'learning_rate': 0.021805153281447668, 'l2_leaf_reg': 0.005351456132048727}. Best is trial 9 with value: 0.7384708455468528.\n"
     ]
    },
    {
     "name": "stdout",
     "output_type": "stream",
     "text": [
      "Stopped by overfitting detector  (300 iterations wait)\n",
      "\n",
      "bestTest = 0.7380103498\n",
      "bestIteration = 1093\n",
      "\n",
      "Shrink model to first 1094 iterations.\n",
      "0:\ttest: 0.7042886\tbest: 0.7042886 (0)\ttotal: 62.5ms\tremaining: 2m 37s\n",
      "300:\ttest: 0.7370409\tbest: 0.7370502 (299)\ttotal: 17.2s\tremaining: 2m 7s\n",
      "600:\ttest: 0.7379155\tbest: 0.7379806 (575)\ttotal: 35.7s\tremaining: 1m 54s\n"
     ]
    },
    {
     "name": "stderr",
     "output_type": "stream",
     "text": [
      "[I 2025-02-24 08:12:03,991] Trial 17 finished with value: 0.7379806078753348 and parameters: {'iterations': 2521, 'depth': 5, 'learning_rate': 0.04343824215032333, 'l2_leaf_reg': 0.01727718624367702}. Best is trial 9 with value: 0.7384708455468528.\n"
     ]
    },
    {
     "name": "stdout",
     "output_type": "stream",
     "text": [
      "Stopped by overfitting detector  (300 iterations wait)\n",
      "\n",
      "bestTest = 0.7379806079\n",
      "bestIteration = 575\n",
      "\n",
      "Shrink model to first 576 iterations.\n",
      "0:\ttest: 0.7205053\tbest: 0.7205053 (0)\ttotal: 92.4ms\tremaining: 4m 18s\n",
      "300:\ttest: 0.7374162\tbest: 0.7378194 (208)\ttotal: 27s\tremaining: 3m 44s\n"
     ]
    },
    {
     "name": "stderr",
     "output_type": "stream",
     "text": [
      "[I 2025-02-24 08:12:51,493] Trial 18 finished with value: 0.7378194296034778 and parameters: {'iterations': 2796, 'depth': 8, 'learning_rate': 0.061187071230765784, 'l2_leaf_reg': 0.12899261321159694}. Best is trial 9 with value: 0.7384708455468528.\n"
     ]
    },
    {
     "name": "stdout",
     "output_type": "stream",
     "text": [
      "Stopped by overfitting detector  (300 iterations wait)\n",
      "\n",
      "bestTest = 0.7378194296\n",
      "bestIteration = 208\n",
      "\n",
      "Shrink model to first 209 iterations.\n",
      "0:\ttest: 0.7042880\tbest: 0.7042880 (0)\ttotal: 65.4ms\tremaining: 2m 57s\n",
      "300:\ttest: 0.7357528\tbest: 0.7357528 (300)\ttotal: 16.7s\tremaining: 2m 14s\n",
      "600:\ttest: 0.7370688\tbest: 0.7370688 (600)\ttotal: 34.2s\tremaining: 2m\n",
      "900:\ttest: 0.7377697\tbest: 0.7377697 (900)\ttotal: 52.5s\tremaining: 1m 46s\n",
      "1200:\ttest: 0.7380120\tbest: 0.7380385 (1163)\ttotal: 1m 11s\tremaining: 1m 29s\n",
      "1500:\ttest: 0.7381477\tbest: 0.7381511 (1499)\ttotal: 1m 29s\tremaining: 1m 12s\n",
      "1800:\ttest: 0.7381590\tbest: 0.7381767 (1781)\ttotal: 1m 47s\tremaining: 55.1s\n",
      "2100:\ttest: 0.7381988\tbest: 0.7382280 (2013)\ttotal: 2m 6s\tremaining: 37.3s\n"
     ]
    },
    {
     "name": "stderr",
     "output_type": "stream",
     "text": [
      "[I 2025-02-24 08:15:11,823] Trial 19 finished with value: 0.7382279623200383 and parameters: {'iterations': 2720, 'depth': 5, 'learning_rate': 0.021104890226036725, 'l2_leaf_reg': 6.169584341015266}. Best is trial 9 with value: 0.7384708455468528.\n",
      "[I 2025-02-24 08:15:11,827] A new study created in memory with name: no-name-3aa5f261-2333-43ef-9e49-80832c75dfc3\n"
     ]
    },
    {
     "name": "stdout",
     "output_type": "stream",
     "text": [
      "Stopped by overfitting detector  (300 iterations wait)\n",
      "\n",
      "bestTest = 0.7382279623\n",
      "bestIteration = 2013\n",
      "\n",
      "Shrink model to first 2014 iterations.\n"
     ]
    },
    {
     "name": "stderr",
     "output_type": "stream",
     "text": [
      "[I 2025-02-24 08:15:35,106] Trial 0 finished with value: 0.7290270456743088 and parameters: {'num_iterations': 2366, 'objective': 'binary', 'metric': 'auc', 'verbose': -1, 'learning_rate': 0.0652646236447618, 'n_estimators': 236, 'min_child_samples': 45, 'subsample': 0.7, 'colsample_bytree': 0.5}. Best is trial 0 with value: 0.7290270456743088.\n",
      "[I 2025-02-24 08:15:52,171] Trial 1 finished with value: 0.7371939395762632 and parameters: {'num_iterations': 1510, 'objective': 'binary', 'metric': 'auc', 'verbose': -1, 'learning_rate': 0.005231880959249543, 'n_estimators': 1411, 'min_child_samples': 10, 'subsample': 1.0, 'colsample_bytree': 0.5}. Best is trial 1 with value: 0.7371939395762632.\n",
      "[I 2025-02-24 08:16:11,850] Trial 2 finished with value: 0.7361192668702069 and parameters: {'num_iterations': 2334, 'objective': 'binary', 'metric': 'auc', 'verbose': -1, 'learning_rate': 0.006578527777128852, 'n_estimators': 931, 'min_child_samples': 15, 'subsample': 0.5, 'colsample_bytree': 1.0}. Best is trial 1 with value: 0.7371939395762632.\n",
      "[I 2025-02-24 08:16:28,164] Trial 3 finished with value: 0.7370602040991046 and parameters: {'num_iterations': 1620, 'objective': 'binary', 'metric': 'auc', 'verbose': -1, 'learning_rate': 0.0058823249237283685, 'n_estimators': 837, 'min_child_samples': 10, 'subsample': 0.9, 'colsample_bytree': 0.6}. Best is trial 1 with value: 0.7371939395762632.\n",
      "[I 2025-02-24 08:16:44,662] Trial 4 finished with value: 0.736476912679799 and parameters: {'num_iterations': 1997, 'objective': 'binary', 'metric': 'auc', 'verbose': -1, 'learning_rate': 0.010907507425244923, 'n_estimators': 1597, 'min_child_samples': 50, 'subsample': 0.6, 'colsample_bytree': 0.8}. Best is trial 1 with value: 0.7371939395762632.\n",
      "[I 2025-02-24 08:17:07,409] Trial 5 finished with value: 0.7334904607717897 and parameters: {'num_iterations': 2909, 'objective': 'binary', 'metric': 'auc', 'verbose': -1, 'learning_rate': 0.019760591962733942, 'n_estimators': 612, 'min_child_samples': 30, 'subsample': 0.7, 'colsample_bytree': 0.9}. Best is trial 1 with value: 0.7371939395762632.\n",
      "[I 2025-02-24 08:17:28,253] Trial 6 finished with value: 0.7347231906331305 and parameters: {'num_iterations': 2639, 'objective': 'binary', 'metric': 'auc', 'verbose': -1, 'learning_rate': 0.017862094446750985, 'n_estimators': 794, 'min_child_samples': 35, 'subsample': 1.0, 'colsample_bytree': 0.8}. Best is trial 1 with value: 0.7371939395762632.\n",
      "[I 2025-02-24 08:17:44,883] Trial 7 finished with value: 0.7369054705755901 and parameters: {'num_iterations': 1580, 'objective': 'binary', 'metric': 'auc', 'verbose': -1, 'learning_rate': 0.01776722177611332, 'n_estimators': 529, 'min_child_samples': 25, 'subsample': 0.8, 'colsample_bytree': 0.5}. Best is trial 1 with value: 0.7371939395762632.\n",
      "[I 2025-02-24 08:18:02,258] Trial 8 finished with value: 0.7333340157963125 and parameters: {'num_iterations': 1911, 'objective': 'binary', 'metric': 'auc', 'verbose': -1, 'learning_rate': 0.0304747553332844, 'n_estimators': 1328, 'min_child_samples': 10, 'subsample': 0.7, 'colsample_bytree': 0.6}. Best is trial 1 with value: 0.7371939395762632.\n",
      "[I 2025-02-24 08:18:29,950] Trial 9 finished with value: 0.734435599198313 and parameters: {'num_iterations': 2739, 'objective': 'binary', 'metric': 'auc', 'verbose': -1, 'learning_rate': 0.02691531614176271, 'n_estimators': 1438, 'min_child_samples': 20, 'subsample': 0.6, 'colsample_bytree': 0.5}. Best is trial 1 with value: 0.7371939395762632.\n",
      "[I 2025-02-24 08:18:44,853] Trial 10 finished with value: 0.7261962564771904 and parameters: {'num_iterations': 1933, 'objective': 'binary', 'metric': 'auc', 'verbose': -1, 'learning_rate': 0.08223556891145911, 'n_estimators': 1960, 'min_child_samples': 40, 'subsample': 1.0, 'colsample_bytree': 0.7}. Best is trial 1 with value: 0.7371939395762632.\n",
      "[I 2025-02-24 08:19:00,332] Trial 11 finished with value: 0.7370400280261973 and parameters: {'num_iterations': 1513, 'objective': 'binary', 'metric': 'auc', 'verbose': -1, 'learning_rate': 0.005340229419903739, 'n_estimators': 1206, 'min_child_samples': 10, 'subsample': 0.9, 'colsample_bytree': 0.6}. Best is trial 1 with value: 0.7371939395762632.\n",
      "[I 2025-02-24 08:19:16,858] Trial 12 finished with value: 0.7372050223197161 and parameters: {'num_iterations': 1698, 'objective': 'binary', 'metric': 'auc', 'verbose': -1, 'learning_rate': 0.008515343845233947, 'n_estimators': 1719, 'min_child_samples': 20, 'subsample': 0.9, 'colsample_bytree': 0.6}. Best is trial 12 with value: 0.7372050223197161.\n",
      "[I 2025-02-24 08:19:32,032] Trial 13 finished with value: 0.7369175658950303 and parameters: {'num_iterations': 1777, 'objective': 'binary', 'metric': 'auc', 'verbose': -1, 'learning_rate': 0.010074542479113706, 'n_estimators': 1797, 'min_child_samples': 20, 'subsample': 0.9, 'colsample_bytree': 0.7}. Best is trial 12 with value: 0.7372050223197161.\n",
      "[I 2025-02-24 08:19:52,631] Trial 14 finished with value: 0.7371659170321762 and parameters: {'num_iterations': 2165, 'objective': 'binary', 'metric': 'auc', 'verbose': -1, 'learning_rate': 0.00937245035506795, 'n_estimators': 1650, 'min_child_samples': 20, 'subsample': 1.0, 'colsample_bytree': 0.6}. Best is trial 12 with value: 0.7372050223197161.\n",
      "[I 2025-02-24 08:20:11,552] Trial 15 finished with value: 0.7372265564357122 and parameters: {'num_iterations': 1741, 'objective': 'binary', 'metric': 'auc', 'verbose': -1, 'learning_rate': 0.008303365162986591, 'n_estimators': 1991, 'min_child_samples': 25, 'subsample': 0.8, 'colsample_bytree': 0.5}. Best is trial 15 with value: 0.7372265564357122.\n",
      "[I 2025-02-24 08:20:26,666] Trial 16 finished with value: 0.736913741931596 and parameters: {'num_iterations': 1787, 'objective': 'binary', 'metric': 'auc', 'verbose': -1, 'learning_rate': 0.012356113282418082, 'n_estimators': 1986, 'min_child_samples': 30, 'subsample': 0.8, 'colsample_bytree': 0.7}. Best is trial 15 with value: 0.7372265564357122.\n",
      "[I 2025-02-24 08:20:47,050] Trial 17 finished with value: 0.7372476180162475 and parameters: {'num_iterations': 2117, 'objective': 'binary', 'metric': 'auc', 'verbose': -1, 'learning_rate': 0.008166258047721095, 'n_estimators': 1707, 'min_child_samples': 25, 'subsample': 0.8, 'colsample_bytree': 0.6}. Best is trial 17 with value: 0.7372476180162475.\n",
      "[I 2025-02-24 08:21:08,922] Trial 18 finished with value: 0.7319231718333667 and parameters: {'num_iterations': 2177, 'objective': 'binary', 'metric': 'auc', 'verbose': -1, 'learning_rate': 0.04317425710723184, 'n_estimators': 1870, 'min_child_samples': 35, 'subsample': 0.8, 'colsample_bytree': 0.5}. Best is trial 17 with value: 0.7372476180162475.\n",
      "[I 2025-02-24 08:21:29,193] Trial 19 finished with value: 0.7358630692618812 and parameters: {'num_iterations': 2495, 'objective': 'binary', 'metric': 'auc', 'verbose': -1, 'learning_rate': 0.013860352718094554, 'n_estimators': 1120, 'min_child_samples': 30, 'subsample': 0.6, 'colsample_bytree': 0.7}. Best is trial 17 with value: 0.7372476180162475.\n",
      "[I 2025-02-24 08:21:49,083] Trial 20 finished with value: 0.7371521737949528 and parameters: {'num_iterations': 2066, 'objective': 'binary', 'metric': 'auc', 'verbose': -1, 'learning_rate': 0.007877155758725746, 'n_estimators': 1561, 'min_child_samples': 25, 'subsample': 0.8, 'colsample_bytree': 0.6}. Best is trial 17 with value: 0.7372476180162475.\n",
      "[I 2025-02-24 08:22:06,335] Trial 21 finished with value: 0.7371719646918963 and parameters: {'num_iterations': 1752, 'objective': 'binary', 'metric': 'auc', 'verbose': -1, 'learning_rate': 0.007969201194958836, 'n_estimators': 1738, 'min_child_samples': 25, 'subsample': 0.9, 'colsample_bytree': 0.6}. Best is trial 17 with value: 0.7372476180162475.\n",
      "[I 2025-02-24 08:22:24,274] Trial 22 finished with value: 0.7367865028243008 and parameters: {'num_iterations': 1697, 'objective': 'binary', 'metric': 'auc', 'verbose': -1, 'learning_rate': 0.013944970165771392, 'n_estimators': 1725, 'min_child_samples': 15, 'subsample': 0.9, 'colsample_bytree': 0.5}. Best is trial 17 with value: 0.7372476180162475.\n",
      "[I 2025-02-24 08:22:42,421] Trial 23 finished with value: 0.7371147799593756 and parameters: {'num_iterations': 1860, 'objective': 'binary', 'metric': 'auc', 'verbose': -1, 'learning_rate': 0.007305732077404912, 'n_estimators': 1970, 'min_child_samples': 25, 'subsample': 0.8, 'colsample_bytree': 0.6}. Best is trial 17 with value: 0.7372476180162475.\n",
      "[I 2025-02-24 08:22:59,955] Trial 24 finished with value: 0.7364886585612513 and parameters: {'num_iterations': 2096, 'objective': 'binary', 'metric': 'auc', 'verbose': -1, 'learning_rate': 0.009039027246006016, 'n_estimators': 1526, 'min_child_samples': 20, 'subsample': 0.7, 'colsample_bytree': 0.8}. Best is trial 17 with value: 0.7372476180162475.\n",
      "[I 2025-02-24 08:23:13,822] Trial 25 finished with value: 0.7364888491637901 and parameters: {'num_iterations': 1660, 'objective': 'binary', 'metric': 'auc', 'verbose': -1, 'learning_rate': 0.0148268911728411, 'n_estimators': 1249, 'min_child_samples': 35, 'subsample': 0.9, 'colsample_bytree': 0.7}. Best is trial 17 with value: 0.7372476180162475.\n",
      "[I 2025-02-24 08:23:39,016] Trial 26 finished with value: 0.7373601092521046 and parameters: {'num_iterations': 2332, 'objective': 'binary', 'metric': 'auc', 'verbose': -1, 'learning_rate': 0.006560862459482555, 'n_estimators': 1745, 'min_child_samples': 15, 'subsample': 0.8, 'colsample_bytree': 0.5}. Best is trial 26 with value: 0.7373601092521046.\n",
      "[I 2025-02-24 08:23:59,849] Trial 27 finished with value: 0.7361375408886125 and parameters: {'num_iterations': 2471, 'objective': 'binary', 'metric': 'auc', 'verbose': -1, 'learning_rate': 0.006373556093019907, 'n_estimators': 1855, 'min_child_samples': 15, 'subsample': 0.8, 'colsample_bytree': 1.0}. Best is trial 26 with value: 0.7373601092521046.\n",
      "[I 2025-02-24 08:24:23,881] Trial 28 finished with value: 0.7369157591417981 and parameters: {'num_iterations': 2257, 'objective': 'binary', 'metric': 'auc', 'verbose': -1, 'learning_rate': 0.011492292021272747, 'n_estimators': 1465, 'min_child_samples': 15, 'subsample': 0.7, 'colsample_bytree': 0.5}. Best is trial 26 with value: 0.7373601092521046.\n",
      "[I 2025-02-24 08:24:48,191] Trial 29 finished with value: 0.7315669555428156 and parameters: {'num_iterations': 2445, 'objective': 'binary', 'metric': 'auc', 'verbose': -1, 'learning_rate': 0.04030098468148633, 'n_estimators': 315, 'min_child_samples': 40, 'subsample': 0.8, 'colsample_bytree': 0.5}. Best is trial 26 with value: 0.7373601092521046.\n",
      "[I 2025-02-24 08:25:13,361] Trial 30 finished with value: 0.7374736090930626 and parameters: {'num_iterations': 2343, 'objective': 'binary', 'metric': 'auc', 'verbose': -1, 'learning_rate': 0.006794978169110429, 'n_estimators': 104, 'min_child_samples': 25, 'subsample': 0.7, 'colsample_bytree': 0.5}. Best is trial 30 with value: 0.7374736090930626.\n",
      "[I 2025-02-24 08:25:38,266] Trial 31 finished with value: 0.7374615217153949 and parameters: {'num_iterations': 2310, 'objective': 'binary', 'metric': 'auc', 'verbose': -1, 'learning_rate': 0.006940528122083491, 'n_estimators': 353, 'min_child_samples': 25, 'subsample': 0.7, 'colsample_bytree': 0.5}. Best is trial 30 with value: 0.7374736090930626.\n",
      "[I 2025-02-24 08:26:03,609] Trial 32 finished with value: 0.7373144639149526 and parameters: {'num_iterations': 2320, 'objective': 'binary', 'metric': 'auc', 'verbose': -1, 'learning_rate': 0.005179478759524042, 'n_estimators': 109, 'min_child_samples': 30, 'subsample': 0.6, 'colsample_bytree': 0.5}. Best is trial 30 with value: 0.7374736090930626.\n",
      "[I 2025-02-24 08:26:29,125] Trial 33 finished with value: 0.7374425607336724 and parameters: {'num_iterations': 2326, 'objective': 'binary', 'metric': 'auc', 'verbose': -1, 'learning_rate': 0.005069760415521146, 'n_estimators': 192, 'min_child_samples': 30, 'subsample': 0.5, 'colsample_bytree': 0.5}. Best is trial 30 with value: 0.7374736090930626.\n",
      "[I 2025-02-24 08:26:56,917] Trial 34 finished with value: 0.7371953730661903 and parameters: {'num_iterations': 2596, 'objective': 'binary', 'metric': 'auc', 'verbose': -1, 'learning_rate': 0.006532505723569175, 'n_estimators': 325, 'min_child_samples': 40, 'subsample': 0.5, 'colsample_bytree': 0.5}. Best is trial 30 with value: 0.7374736090930626.\n",
      "[I 2025-02-24 08:27:22,721] Trial 35 finished with value: 0.7374355799156895 and parameters: {'num_iterations': 2373, 'objective': 'binary', 'metric': 'auc', 'verbose': -1, 'learning_rate': 0.006084374586883375, 'n_estimators': 126, 'min_child_samples': 30, 'subsample': 0.5, 'colsample_bytree': 0.5}. Best is trial 30 with value: 0.7374736090930626.\n",
      "[I 2025-02-24 08:27:47,301] Trial 36 finished with value: 0.737332007290293 and parameters: {'num_iterations': 2238, 'objective': 'binary', 'metric': 'auc', 'verbose': -1, 'learning_rate': 0.0052401116580229005, 'n_estimators': 126, 'min_child_samples': 30, 'subsample': 0.5, 'colsample_bytree': 0.5}. Best is trial 30 with value: 0.7374736090930626.\n",
      "[I 2025-02-24 08:28:07,903] Trial 37 finished with value: 0.7365655627147634 and parameters: {'num_iterations': 2411, 'objective': 'binary', 'metric': 'auc', 'verbose': -1, 'learning_rate': 0.005883996815235006, 'n_estimators': 468, 'min_child_samples': 35, 'subsample': 0.5, 'colsample_bytree': 0.9}. Best is trial 30 with value: 0.7374736090930626.\n",
      "[I 2025-02-24 08:28:35,251] Trial 38 finished with value: 0.7374782550299454 and parameters: {'num_iterations': 2562, 'objective': 'binary', 'metric': 'auc', 'verbose': -1, 'learning_rate': 0.007059043665273918, 'n_estimators': 278, 'min_child_samples': 30, 'subsample': 0.6, 'colsample_bytree': 0.5}. Best is trial 38 with value: 0.7374782550299454.\n",
      "[I 2025-02-24 08:28:59,914] Trial 39 finished with value: 0.7370953424713061 and parameters: {'num_iterations': 2590, 'objective': 'binary', 'metric': 'auc', 'verbose': -1, 'learning_rate': 0.007193430612290079, 'n_estimators': 679, 'min_child_samples': 35, 'subsample': 0.6, 'colsample_bytree': 0.6}. Best is trial 38 with value: 0.7374782550299454.\n"
     ]
    },
    {
     "name": "stdout",
     "output_type": "stream",
     "text": [
      "Cat val score : 0.7384708455468527\n",
      "LGBM val score : 0.7374181675795946\n",
      "Ensemble val score : 0.73848734060823\n"
     ]
    },
    {
     "name": "stderr",
     "output_type": "stream",
     "text": [
      "[I 2025-02-24 08:29:29,036] A new study created in memory with name: no-name-054867de-0027-4f22-b4d5-3abce48c78ad\n"
     ]
    },
    {
     "name": "stdout",
     "output_type": "stream",
     "text": [
      "==================================================\n",
      "0:\ttest: 0.7248987\tbest: 0.7248987 (0)\ttotal: 139ms\tremaining: 5m 28s\n",
      "300:\ttest: 0.7395767\tbest: 0.7395767 (300)\ttotal: 40.5s\tremaining: 4m 37s\n",
      "600:\ttest: 0.7409183\tbest: 0.7409183 (600)\ttotal: 1m 23s\tremaining: 4m 5s\n",
      "900:\ttest: 0.7410881\tbest: 0.7411341 (873)\ttotal: 2m 6s\tremaining: 3m 26s\n",
      "1200:\ttest: 0.7411704\tbest: 0.7412180 (1180)\ttotal: 2m 52s\tremaining: 2m 46s\n",
      "1500:\ttest: 0.7412300\tbest: 0.7412839 (1448)\ttotal: 3m 41s\tremaining: 2m 7s\n"
     ]
    },
    {
     "name": "stderr",
     "output_type": "stream",
     "text": [
      "[I 2025-02-24 08:33:52,641] Trial 0 finished with value: 0.7412838531154573 and parameters: {'iterations': 2366, 'depth': 10, 'learning_rate': 0.01181021951839225, 'l2_leaf_reg': 9.980783802743254}. Best is trial 0 with value: 0.7412838531154573.\n"
     ]
    },
    {
     "name": "stdout",
     "output_type": "stream",
     "text": [
      "Stopped by overfitting detector  (300 iterations wait)\n",
      "\n",
      "bestTest = 0.7412838531\n",
      "bestIteration = 1448\n",
      "\n",
      "Shrink model to first 1449 iterations.\n",
      "저장 완료\n",
      "0:\ttest: 0.7033890\tbest: 0.7033890 (0)\ttotal: 56.3ms\tremaining: 2m 3s\n"
     ]
    },
    {
     "name": "stderr",
     "output_type": "stream",
     "text": [
      "Training has stopped (degenerate solution on iteration 233, probably too small l2-regularization, try to increase it)\n",
      "[I 2025-02-24 08:34:03,065] Trial 1 finished with value: 0.727613108390994 and parameters: {'iterations': 2193, 'depth': 4, 'learning_rate': 0.005671430811678843, 'l2_leaf_reg': 0.00012325230809466137}. Best is trial 0 with value: 0.7412838531154573.\n"
     ]
    },
    {
     "name": "stdout",
     "output_type": "stream",
     "text": [
      "\n",
      "bestTest = 0.7276131084\n",
      "bestIteration = 232\n",
      "\n",
      "Shrink model to first 233 iterations.\n",
      "0:\ttest: 0.7033890\tbest: 0.7033890 (0)\ttotal: 53.6ms\tremaining: 2m 15s\n",
      "300:\ttest: 0.7412331\tbest: 0.7412695 (287)\ttotal: 14.6s\tremaining: 1m 48s\n",
      "600:\ttest: 0.7409601\tbest: 0.7413320 (360)\ttotal: 29.7s\tremaining: 1m 35s\n"
     ]
    },
    {
     "name": "stderr",
     "output_type": "stream",
     "text": [
      "[I 2025-02-24 08:34:35,952] Trial 2 finished with value: 0.7413320001109307 and parameters: {'iterations': 2535, 'depth': 4, 'learning_rate': 0.09275339199839054, 'l2_leaf_reg': 0.0008705394248343123}. Best is trial 2 with value: 0.7413320001109307.\n"
     ]
    },
    {
     "name": "stdout",
     "output_type": "stream",
     "text": [
      "Stopped by overfitting detector  (300 iterations wait)\n",
      "\n",
      "bestTest = 0.7413320001\n",
      "bestIteration = 360\n",
      "\n",
      "Shrink model to first 361 iterations.\n",
      "저장 완료\n",
      "0:\ttest: 0.7033890\tbest: 0.7033890 (0)\ttotal: 57.8ms\tremaining: 2m 14s\n",
      "300:\ttest: 0.7405171\tbest: 0.7405256 (294)\ttotal: 14s\tremaining: 1m 34s\n",
      "600:\ttest: 0.7413420\tbest: 0.7413463 (599)\ttotal: 28.9s\tremaining: 1m 23s\n",
      "900:\ttest: 0.7411546\tbest: 0.7413490 (604)\ttotal: 44s\tremaining: 1m 10s\n"
     ]
    },
    {
     "name": "stderr",
     "output_type": "stream",
     "text": [
      "[I 2025-02-24 08:35:20,365] Trial 3 finished with value: 0.7413490471254929 and parameters: {'iterations': 2334, 'depth': 4, 'learning_rate': 0.04657568321363276, 'l2_leaf_reg': 0.0008640473331457248}. Best is trial 3 with value: 0.7413490471254929.\n"
     ]
    },
    {
     "name": "stdout",
     "output_type": "stream",
     "text": [
      "Stopped by overfitting detector  (300 iterations wait)\n",
      "\n",
      "bestTest = 0.7413490471\n",
      "bestIteration = 604\n",
      "\n",
      "Shrink model to first 605 iterations.\n",
      "저장 완료\n",
      "0:\ttest: 0.7248672\tbest: 0.7248672 (0)\ttotal: 132ms\tremaining: 3m 49s\n",
      "300:\ttest: 0.7388324\tbest: 0.7388324 (300)\ttotal: 38.2s\tremaining: 3m 3s\n",
      "600:\ttest: 0.7397746\tbest: 0.7398285 (546)\ttotal: 1m 20s\tremaining: 2m 32s\n",
      "900:\ttest: 0.7396384\tbest: 0.7399654 (786)\ttotal: 2m 1s\tremaining: 1m 53s\n"
     ]
    },
    {
     "name": "stderr",
     "output_type": "stream",
     "text": [
      "[I 2025-02-24 08:37:48,953] Trial 4 finished with value: 0.739965407704072 and parameters: {'iterations': 1742, 'depth': 10, 'learning_rate': 0.012622767482095846, 'l2_leaf_reg': 0.00021158816350109617}. Best is trial 3 with value: 0.7413490471254929.\n"
     ]
    },
    {
     "name": "stdout",
     "output_type": "stream",
     "text": [
      "Stopped by overfitting detector  (300 iterations wait)\n",
      "\n",
      "bestTest = 0.7399654077\n",
      "bestIteration = 786\n",
      "\n",
      "Shrink model to first 787 iterations.\n",
      "0:\ttest: 0.7033890\tbest: 0.7033890 (0)\ttotal: 53.8ms\tremaining: 1m 51s\n",
      "300:\ttest: 0.7413059\tbest: 0.7413059 (300)\ttotal: 14.2s\tremaining: 1m 24s\n",
      "600:\ttest: 0.7415294\tbest: 0.7415592 (593)\ttotal: 29.4s\tremaining: 1m 12s\n"
     ]
    },
    {
     "name": "stderr",
     "output_type": "stream",
     "text": [
      "[I 2025-02-24 08:38:33,789] Trial 5 finished with value: 0.7415636338170709 and parameters: {'iterations': 2082, 'depth': 4, 'learning_rate': 0.06995196593094148, 'l2_leaf_reg': 0.0018080296485396804}. Best is trial 5 with value: 0.7415636338170709.\n"
     ]
    },
    {
     "name": "stdout",
     "output_type": "stream",
     "text": [
      "900:\ttest: 0.7412462\tbest: 0.7415636 (602)\ttotal: 44.6s\tremaining: 58.4s\n",
      "Stopped by overfitting detector  (300 iterations wait)\n",
      "\n",
      "bestTest = 0.7415636338\n",
      "bestIteration = 602\n",
      "\n",
      "Shrink model to first 603 iterations.\n",
      "저장 완료\n",
      "0:\ttest: 0.7078702\tbest: 0.7078702 (0)\ttotal: 66.8ms\tremaining: 2m 13s\n",
      "300:\ttest: 0.7415379\tbest: 0.7416065 (297)\ttotal: 17.9s\tremaining: 1m 40s\n",
      "600:\ttest: 0.7418350\tbest: 0.7418609 (538)\ttotal: 36.2s\tremaining: 1m 24s\n",
      "900:\ttest: 0.7417120\tbest: 0.7418803 (634)\ttotal: 54.6s\tremaining: 1m 6s\n"
     ]
    },
    {
     "name": "stderr",
     "output_type": "stream",
     "text": [
      "[I 2025-02-24 08:39:30,691] Trial 6 finished with value: 0.7418803159643699 and parameters: {'iterations': 1997, 'depth': 5, 'learning_rate': 0.07985155992831598, 'l2_leaf_reg': 62.52181000710482}. Best is trial 6 with value: 0.7418803159643699.\n"
     ]
    },
    {
     "name": "stdout",
     "output_type": "stream",
     "text": [
      "Stopped by overfitting detector  (300 iterations wait)\n",
      "\n",
      "bestTest = 0.741880316\n",
      "bestIteration = 634\n",
      "\n",
      "Shrink model to first 635 iterations.\n",
      "저장 완료\n",
      "0:\ttest: 0.7207928\tbest: 0.7207928 (0)\ttotal: 82.4ms\tremaining: 2m 38s\n",
      "300:\ttest: 0.7404516\tbest: 0.7414079 (186)\ttotal: 24.5s\tremaining: 2m 12s\n"
     ]
    },
    {
     "name": "stderr",
     "output_type": "stream",
     "text": [
      "[I 2025-02-24 08:40:11,245] Trial 7 finished with value: 0.7414079433099764 and parameters: {'iterations': 1927, 'depth': 7, 'learning_rate': 0.0941937211034094, 'l2_leaf_reg': 0.05654822767791934}. Best is trial 6 with value: 0.7418803159643699.\n"
     ]
    },
    {
     "name": "stdout",
     "output_type": "stream",
     "text": [
      "Stopped by overfitting detector  (300 iterations wait)\n",
      "\n",
      "bestTest = 0.7414079433\n",
      "bestIteration = 186\n",
      "\n",
      "Shrink model to first 187 iterations.\n",
      "0:\ttest: 0.7207922\tbest: 0.7207922 (0)\ttotal: 84.5ms\tremaining: 2m 40s\n",
      "300:\ttest: 0.7415168\tbest: 0.7415168 (300)\ttotal: 23.6s\tremaining: 2m 5s\n",
      "600:\ttest: 0.7413539\tbest: 0.7417074 (373)\ttotal: 49.2s\tremaining: 1m 46s\n"
     ]
    },
    {
     "name": "stderr",
     "output_type": "stream",
     "text": [
      "[I 2025-02-24 08:41:07,015] Trial 8 finished with value: 0.7417073918110606 and parameters: {'iterations': 1904, 'depth': 7, 'learning_rate': 0.05155602859187331, 'l2_leaf_reg': 1.299974533316308}. Best is trial 6 with value: 0.7418803159643699.\n"
     ]
    },
    {
     "name": "stdout",
     "output_type": "stream",
     "text": [
      "Stopped by overfitting detector  (300 iterations wait)\n",
      "\n",
      "bestTest = 0.7417073918\n",
      "bestIteration = 373\n",
      "\n",
      "Shrink model to first 374 iterations.\n",
      "0:\ttest: 0.7183097\tbest: 0.7183097 (0)\ttotal: 74.6ms\tremaining: 3m 16s\n",
      "300:\ttest: 0.7409539\tbest: 0.7409574 (299)\ttotal: 20.2s\tremaining: 2m 37s\n",
      "600:\ttest: 0.7417278\tbest: 0.7417721 (596)\ttotal: 42.3s\tremaining: 2m 23s\n"
     ]
    },
    {
     "name": "stderr",
     "output_type": "stream",
     "text": [
      "[I 2025-02-24 08:42:11,332] Trial 9 finished with value: 0.7417720696058869 and parameters: {'iterations': 2639, 'depth': 6, 'learning_rate': 0.03968704290444751, 'l2_leaf_reg': 0.30557194377967184}. Best is trial 6 with value: 0.7418803159643699.\n"
     ]
    },
    {
     "name": "stdout",
     "output_type": "stream",
     "text": [
      "Stopped by overfitting detector  (300 iterations wait)\n",
      "\n",
      "bestTest = 0.7417720696\n",
      "bestIteration = 596\n",
      "\n",
      "Shrink model to first 597 iterations.\n",
      "0:\ttest: 0.7183166\tbest: 0.7183166 (0)\ttotal: 79.6ms\tremaining: 3m 54s\n",
      "300:\ttest: 0.7414902\tbest: 0.7415145 (291)\ttotal: 20.6s\tremaining: 3m 1s\n",
      "600:\ttest: 0.7417539\tbest: 0.7417660 (583)\ttotal: 42.5s\tremaining: 2m 45s\n",
      "900:\ttest: 0.7415515\tbest: 0.7418172 (688)\ttotal: 1m 4s\tremaining: 2m 25s\n"
     ]
    },
    {
     "name": "stderr",
     "output_type": "stream",
     "text": [
      "[I 2025-02-24 08:43:22,051] Trial 10 finished with value: 0.7418171788733986 and parameters: {'iterations': 2945, 'depth': 6, 'learning_rate': 0.07265276039199581, 'l2_leaf_reg': 97.18545559492516}. Best is trial 6 with value: 0.7418803159643699.\n"
     ]
    },
    {
     "name": "stdout",
     "output_type": "stream",
     "text": [
      "Stopped by overfitting detector  (300 iterations wait)\n",
      "\n",
      "bestTest = 0.7418171789\n",
      "bestIteration = 688\n",
      "\n",
      "Shrink model to first 689 iterations.\n",
      "0:\ttest: 0.7183244\tbest: 0.7183244 (0)\ttotal: 75.1ms\tremaining: 3m 44s\n",
      "300:\ttest: 0.7419777\tbest: 0.7420327 (279)\ttotal: 21s\tremaining: 3m 8s\n",
      "600:\ttest: 0.7421554\tbest: 0.7421951 (503)\ttotal: 42.7s\tremaining: 2m 50s\n"
     ]
    },
    {
     "name": "stderr",
     "output_type": "stream",
     "text": [
      "[I 2025-02-24 08:44:19,720] Trial 11 finished with value: 0.7421951357660295 and parameters: {'iterations': 2994, 'depth': 6, 'learning_rate': 0.07131044509072976, 'l2_leaf_reg': 73.1213351392818}. Best is trial 11 with value: 0.7421951357660295.\n"
     ]
    },
    {
     "name": "stdout",
     "output_type": "stream",
     "text": [
      "Stopped by overfitting detector  (300 iterations wait)\n",
      "\n",
      "bestTest = 0.7421951358\n",
      "bestIteration = 503\n",
      "\n",
      "Shrink model to first 504 iterations.\n",
      "저장 완료\n",
      "0:\ttest: 0.7183174\tbest: 0.7183174 (0)\ttotal: 76.1ms\tremaining: 2m\n",
      "300:\ttest: 0.7413928\tbest: 0.7413928 (300)\ttotal: 20.9s\tremaining: 1m 29s\n",
      "600:\ttest: 0.7418103\tbest: 0.7418173 (542)\ttotal: 42.6s\tremaining: 1m 10s\n",
      "900:\ttest: 0.7417193\tbest: 0.7418595 (749)\ttotal: 1m 4s\tremaining: 49s\n"
     ]
    },
    {
     "name": "stderr",
     "output_type": "stream",
     "text": [
      "[I 2025-02-24 08:45:35,002] Trial 12 finished with value: 0.7418595323458703 and parameters: {'iterations': 1588, 'depth': 6, 'learning_rate': 0.07374100696350389, 'l2_leaf_reg': 87.13438924619796}. Best is trial 11 with value: 0.7421951357660295.\n"
     ]
    },
    {
     "name": "stdout",
     "output_type": "stream",
     "text": [
      "Stopped by overfitting detector  (300 iterations wait)\n",
      "\n",
      "bestTest = 0.7418595323\n",
      "bestIteration = 749\n",
      "\n",
      "Shrink model to first 750 iterations.\n",
      "0:\ttest: 0.7078757\tbest: 0.7078757 (0)\ttotal: 63.1ms\tremaining: 3m 7s\n",
      "300:\ttest: 0.7413689\tbest: 0.7413804 (298)\ttotal: 17.8s\tremaining: 2m 37s\n",
      "600:\ttest: 0.7409916\tbest: 0.7414728 (414)\ttotal: 36.4s\tremaining: 2m 23s\n"
     ]
    },
    {
     "name": "stderr",
     "output_type": "stream",
     "text": [
      "[I 2025-02-24 08:46:18,531] Trial 13 finished with value: 0.7414727759693656 and parameters: {'iterations': 2975, 'depth': 5, 'learning_rate': 0.07888750974731618, 'l2_leaf_reg': 6.676773824742184}. Best is trial 11 with value: 0.7421951357660295.\n"
     ]
    },
    {
     "name": "stdout",
     "output_type": "stream",
     "text": [
      "Stopped by overfitting detector  (300 iterations wait)\n",
      "\n",
      "bestTest = 0.741472776\n",
      "bestIteration = 414\n",
      "\n",
      "Shrink model to first 415 iterations.\n",
      "0:\ttest: 0.7210257\tbest: 0.7210257 (0)\ttotal: 94.9ms\tremaining: 4m 16s\n",
      "300:\ttest: 0.7410644\tbest: 0.7411860 (268)\ttotal: 27.4s\tremaining: 3m 38s\n",
      "600:\ttest: 0.7408334\tbest: 0.7414234 (428)\ttotal: 56.9s\tremaining: 3m 19s\n"
     ]
    },
    {
     "name": "stderr",
     "output_type": "stream",
     "text": [
      "[I 2025-02-24 08:47:28,106] Trial 14 finished with value: 0.7414233860865038 and parameters: {'iterations': 2702, 'depth': 8, 'learning_rate': 0.06251968375286118, 'l2_leaf_reg': 11.438982664164415}. Best is trial 11 with value: 0.7421951357660295.\n"
     ]
    },
    {
     "name": "stdout",
     "output_type": "stream",
     "text": [
      "Stopped by overfitting detector  (300 iterations wait)\n",
      "\n",
      "bestTest = 0.7414233861\n",
      "bestIteration = 428\n",
      "\n",
      "Shrink model to first 429 iterations.\n",
      "0:\ttest: 0.7210093\tbest: 0.7210093 (0)\ttotal: 94.9ms\tremaining: 2m 23s\n",
      "300:\ttest: 0.7396130\tbest: 0.7406140 (102)\ttotal: 27.9s\tremaining: 1m 52s\n"
     ]
    },
    {
     "name": "stderr",
     "output_type": "stream",
     "text": [
      "[I 2025-02-24 08:48:06,221] Trial 15 finished with value: 0.7406139804929102 and parameters: {'iterations': 1513, 'depth': 8, 'learning_rate': 0.08625378621185843, 'l2_leaf_reg': 0.026986971696484528}. Best is trial 11 with value: 0.7421951357660295.\n"
     ]
    },
    {
     "name": "stdout",
     "output_type": "stream",
     "text": [
      "Stopped by overfitting detector  (300 iterations wait)\n",
      "\n",
      "bestTest = 0.7406139805\n",
      "bestIteration = 102\n",
      "\n",
      "Shrink model to first 103 iterations.\n",
      "0:\ttest: 0.7078760\tbest: 0.7078760 (0)\ttotal: 62.7ms\tremaining: 2m 5s\n",
      "300:\ttest: 0.7400595\tbest: 0.7400595 (300)\ttotal: 16.9s\tremaining: 1m 35s\n",
      "600:\ttest: 0.7414677\tbest: 0.7414677 (600)\ttotal: 35s\tremaining: 1m 21s\n",
      "900:\ttest: 0.7416684\tbest: 0.7417185 (790)\ttotal: 53.7s\tremaining: 1m 5s\n"
     ]
    },
    {
     "name": "stderr",
     "output_type": "stream",
     "text": [
      "[I 2025-02-24 08:49:12,045] Trial 16 finished with value: 0.7417184785253996 and parameters: {'iterations': 1995, 'depth': 5, 'learning_rate': 0.03186527113062513, 'l2_leaf_reg': 1.5621380951874069}. Best is trial 11 with value: 0.7421951357660295.\n"
     ]
    },
    {
     "name": "stdout",
     "output_type": "stream",
     "text": [
      "Stopped by overfitting detector  (300 iterations wait)\n",
      "\n",
      "bestTest = 0.7417184785\n",
      "bestIteration = 790\n",
      "\n",
      "Shrink model to first 791 iterations.\n",
      "0:\ttest: 0.7078691\tbest: 0.7078691 (0)\ttotal: 63.2ms\tremaining: 2m 57s\n",
      "300:\ttest: 0.7415329\tbest: 0.7415329 (300)\ttotal: 17.6s\tremaining: 2m 26s\n",
      "600:\ttest: 0.7417561\tbest: 0.7418293 (463)\ttotal: 36.1s\tremaining: 2m 12s\n",
      "900:\ttest: 0.7418605\tbest: 0.7419444 (813)\ttotal: 54.7s\tremaining: 1m 56s\n"
     ]
    },
    {
     "name": "stderr",
     "output_type": "stream",
     "text": [
      "[I 2025-02-24 08:50:20,196] Trial 17 finished with value: 0.7419444060680351 and parameters: {'iterations': 2816, 'depth': 5, 'learning_rate': 0.060536310577712055, 'l2_leaf_reg': 27.933359418264686}. Best is trial 11 with value: 0.7421951357660295.\n"
     ]
    },
    {
     "name": "stdout",
     "output_type": "stream",
     "text": [
      "Stopped by overfitting detector  (300 iterations wait)\n",
      "\n",
      "bestTest = 0.7419444061\n",
      "bestIteration = 813\n",
      "\n",
      "Shrink model to first 814 iterations.\n",
      "0:\ttest: 0.7207928\tbest: 0.7207928 (0)\ttotal: 80.6ms\tremaining: 3m 46s\n",
      "300:\ttest: 0.7410572\tbest: 0.7411260 (249)\ttotal: 23.7s\tremaining: 3m 17s\n"
     ]
    },
    {
     "name": "stderr",
     "output_type": "stream",
     "text": [
      "[I 2025-02-24 08:51:05,370] Trial 18 finished with value: 0.7411260421551187 and parameters: {'iterations': 2815, 'depth': 7, 'learning_rate': 0.060136076370606154, 'l2_leaf_reg': 0.010016909578442512}. Best is trial 11 with value: 0.7421951357660295.\n"
     ]
    },
    {
     "name": "stdout",
     "output_type": "stream",
     "text": [
      "Stopped by overfitting detector  (300 iterations wait)\n",
      "\n",
      "bestTest = 0.7411260422\n",
      "bestIteration = 249\n",
      "\n",
      "Shrink model to first 250 iterations.\n",
      "0:\ttest: 0.7210140\tbest: 0.7210140 (0)\ttotal: 94ms\tremaining: 3m 55s\n",
      "300:\ttest: 0.7409510\tbest: 0.7409510 (300)\ttotal: 25.8s\tremaining: 3m 9s\n",
      "600:\ttest: 0.7417873\tbest: 0.7418153 (563)\ttotal: 53.9s\tremaining: 2m 50s\n",
      "900:\ttest: 0.7413318\tbest: 0.7418433 (634)\ttotal: 1m 23s\tremaining: 2m 29s\n"
     ]
    },
    {
     "name": "stderr",
     "output_type": "stream",
     "text": [
      "[I 2025-02-24 08:52:32,660] Trial 19 finished with value: 0.7418433033338703 and parameters: {'iterations': 2506, 'depth': 8, 'learning_rate': 0.02853636598143172, 'l2_leaf_reg': 0.34009786999789526}. Best is trial 11 with value: 0.7421951357660295.\n",
      "[I 2025-02-24 08:52:32,663] A new study created in memory with name: no-name-1a5986c7-6d8d-4993-bdcd-2989dbce433c\n"
     ]
    },
    {
     "name": "stdout",
     "output_type": "stream",
     "text": [
      "Stopped by overfitting detector  (300 iterations wait)\n",
      "\n",
      "bestTest = 0.7418433033\n",
      "bestIteration = 634\n",
      "\n",
      "Shrink model to first 635 iterations.\n"
     ]
    },
    {
     "name": "stderr",
     "output_type": "stream",
     "text": [
      "[I 2025-02-24 08:52:55,964] Trial 0 finished with value: 0.72920279709861 and parameters: {'num_iterations': 2366, 'objective': 'binary', 'metric': 'auc', 'verbose': -1, 'learning_rate': 0.0652646236447618, 'n_estimators': 236, 'min_child_samples': 45, 'subsample': 0.7, 'colsample_bytree': 0.5}. Best is trial 0 with value: 0.72920279709861.\n",
      "[I 2025-02-24 08:53:13,012] Trial 1 finished with value: 0.7416893957546906 and parameters: {'num_iterations': 1510, 'objective': 'binary', 'metric': 'auc', 'verbose': -1, 'learning_rate': 0.005231880959249543, 'n_estimators': 1411, 'min_child_samples': 10, 'subsample': 1.0, 'colsample_bytree': 0.5}. Best is trial 1 with value: 0.7416893957546906.\n",
      "[I 2025-02-24 08:53:32,817] Trial 2 finished with value: 0.7411647384413776 and parameters: {'num_iterations': 2334, 'objective': 'binary', 'metric': 'auc', 'verbose': -1, 'learning_rate': 0.006578527777128852, 'n_estimators': 931, 'min_child_samples': 15, 'subsample': 0.5, 'colsample_bytree': 1.0}. Best is trial 1 with value: 0.7416893957546906.\n",
      "[I 2025-02-24 08:53:49,122] Trial 3 finished with value: 0.7417435109921596 and parameters: {'num_iterations': 1620, 'objective': 'binary', 'metric': 'auc', 'verbose': -1, 'learning_rate': 0.0058823249237283685, 'n_estimators': 837, 'min_child_samples': 10, 'subsample': 0.9, 'colsample_bytree': 0.6}. Best is trial 3 with value: 0.7417435109921596.\n",
      "[I 2025-02-24 08:54:05,646] Trial 4 finished with value: 0.7408826665384123 and parameters: {'num_iterations': 1997, 'objective': 'binary', 'metric': 'auc', 'verbose': -1, 'learning_rate': 0.010907507425244923, 'n_estimators': 1597, 'min_child_samples': 50, 'subsample': 0.6, 'colsample_bytree': 0.8}. Best is trial 3 with value: 0.7417435109921596.\n",
      "[I 2025-02-24 08:54:28,363] Trial 5 finished with value: 0.7369300622739792 and parameters: {'num_iterations': 2909, 'objective': 'binary', 'metric': 'auc', 'verbose': -1, 'learning_rate': 0.019760591962733942, 'n_estimators': 612, 'min_child_samples': 30, 'subsample': 0.7, 'colsample_bytree': 0.9}. Best is trial 3 with value: 0.7417435109921596.\n",
      "[I 2025-02-24 08:54:49,244] Trial 6 finished with value: 0.7387480173762169 and parameters: {'num_iterations': 2639, 'objective': 'binary', 'metric': 'auc', 'verbose': -1, 'learning_rate': 0.017862094446750985, 'n_estimators': 794, 'min_child_samples': 35, 'subsample': 1.0, 'colsample_bytree': 0.8}. Best is trial 3 with value: 0.7417435109921596.\n",
      "[I 2025-02-24 08:55:05,845] Trial 7 finished with value: 0.7400039610384268 and parameters: {'num_iterations': 1580, 'objective': 'binary', 'metric': 'auc', 'verbose': -1, 'learning_rate': 0.01776722177611332, 'n_estimators': 529, 'min_child_samples': 25, 'subsample': 0.8, 'colsample_bytree': 0.5}. Best is trial 3 with value: 0.7417435109921596.\n",
      "[I 2025-02-24 08:55:23,193] Trial 8 finished with value: 0.7369656811234139 and parameters: {'num_iterations': 1911, 'objective': 'binary', 'metric': 'auc', 'verbose': -1, 'learning_rate': 0.0304747553332844, 'n_estimators': 1328, 'min_child_samples': 10, 'subsample': 0.7, 'colsample_bytree': 0.6}. Best is trial 3 with value: 0.7417435109921596.\n",
      "[I 2025-02-24 08:55:50,865] Trial 9 finished with value: 0.7367737562795198 and parameters: {'num_iterations': 2739, 'objective': 'binary', 'metric': 'auc', 'verbose': -1, 'learning_rate': 0.02691531614176271, 'n_estimators': 1438, 'min_child_samples': 20, 'subsample': 0.6, 'colsample_bytree': 0.5}. Best is trial 3 with value: 0.7417435109921596.\n",
      "[I 2025-02-24 08:56:05,356] Trial 10 finished with value: 0.728113015170469 and parameters: {'num_iterations': 1883, 'objective': 'binary', 'metric': 'auc', 'verbose': -1, 'learning_rate': 0.08223556891145911, 'n_estimators': 1917, 'min_child_samples': 40, 'subsample': 0.9, 'colsample_bytree': 0.7}. Best is trial 3 with value: 0.7417435109921596.\n",
      "[I 2025-02-24 08:56:20,850] Trial 11 finished with value: 0.7417164216063353 and parameters: {'num_iterations': 1513, 'objective': 'binary', 'metric': 'auc', 'verbose': -1, 'learning_rate': 0.005340229419903739, 'n_estimators': 1206, 'min_child_samples': 10, 'subsample': 1.0, 'colsample_bytree': 0.6}. Best is trial 3 with value: 0.7417435109921596.\n",
      "[I 2025-02-24 08:56:35,738] Trial 12 finished with value: 0.7411771395190571 and parameters: {'num_iterations': 1717, 'objective': 'binary', 'metric': 'auc', 'verbose': -1, 'learning_rate': 0.008807202863131344, 'n_estimators': 1093, 'min_child_samples': 20, 'subsample': 0.9, 'colsample_bytree': 0.7}. Best is trial 3 with value: 0.7417435109921596.\n",
      "[I 2025-02-24 08:56:55,359] Trial 13 finished with value: 0.7410093338380912 and parameters: {'num_iterations': 2084, 'objective': 'binary', 'metric': 'auc', 'verbose': -1, 'learning_rate': 0.010947685715514379, 'n_estimators': 1108, 'min_child_samples': 10, 'subsample': 0.9, 'colsample_bytree': 0.6}. Best is trial 3 with value: 0.7417435109921596.\n",
      "[I 2025-02-24 08:57:13,148] Trial 14 finished with value: 0.7417801344758091 and parameters: {'num_iterations': 1759, 'objective': 'binary', 'metric': 'auc', 'verbose': -1, 'learning_rate': 0.00514593053258222, 'n_estimators': 172, 'min_child_samples': 20, 'subsample': 1.0, 'colsample_bytree': 0.6}. Best is trial 14 with value: 0.7417801344758091.\n",
      "[I 2025-02-24 08:57:28,410] Trial 15 finished with value: 0.7412904527283626 and parameters: {'num_iterations': 1756, 'objective': 'binary', 'metric': 'auc', 'verbose': -1, 'learning_rate': 0.008183724404516576, 'n_estimators': 181, 'min_child_samples': 20, 'subsample': 0.8, 'colsample_bytree': 0.7}. Best is trial 14 with value: 0.7417801344758091.\n",
      "[I 2025-02-24 08:57:47,825] Trial 16 finished with value: 0.7348308334169072 and parameters: {'num_iterations': 2176, 'objective': 'binary', 'metric': 'auc', 'verbose': -1, 'learning_rate': 0.03901437770924474, 'n_estimators': 437, 'min_child_samples': 25, 'subsample': 0.9, 'colsample_bytree': 0.6}. Best is trial 14 with value: 0.7417801344758091.\n",
      "[I 2025-02-24 08:58:03,989] Trial 17 finished with value: 0.7410252014994447 and parameters: {'num_iterations': 1709, 'objective': 'binary', 'metric': 'auc', 'verbose': -1, 'learning_rate': 0.01384769331008121, 'n_estimators': 115, 'min_child_samples': 15, 'subsample': 1.0, 'colsample_bytree': 0.6}. Best is trial 14 with value: 0.7417801344758091.\n",
      "[I 2025-02-24 08:58:19,957] Trial 18 finished with value: 0.7414011411818736 and parameters: {'num_iterations': 1822, 'objective': 'binary', 'metric': 'auc', 'verbose': -1, 'learning_rate': 0.007223259603234952, 'n_estimators': 775, 'min_child_samples': 30, 'subsample': 0.8, 'colsample_bytree': 0.7}. Best is trial 14 with value: 0.7417801344758091.\n",
      "[I 2025-02-24 08:58:39,090] Trial 19 finished with value: 0.7303975255787812 and parameters: {'num_iterations': 2481, 'objective': 'binary', 'metric': 'auc', 'verbose': -1, 'learning_rate': 0.04570242881302624, 'n_estimators': 405, 'min_child_samples': 15, 'subsample': 0.9, 'colsample_bytree': 0.8}. Best is trial 14 with value: 0.7417801344758091.\n",
      "[I 2025-02-24 08:58:52,872] Trial 20 finished with value: 0.7407266782148509 and parameters: {'num_iterations': 1649, 'objective': 'binary', 'metric': 'auc', 'verbose': -1, 'learning_rate': 0.012796480593590575, 'n_estimators': 725, 'min_child_samples': 25, 'subsample': 1.0, 'colsample_bytree': 0.9}. Best is trial 14 with value: 0.7417801344758091.\n",
      "[I 2025-02-24 08:59:08,379] Trial 21 finished with value: 0.7416885221597211 and parameters: {'num_iterations': 1512, 'objective': 'binary', 'metric': 'auc', 'verbose': -1, 'learning_rate': 0.005153550511409945, 'n_estimators': 1212, 'min_child_samples': 10, 'subsample': 1.0, 'colsample_bytree': 0.6}. Best is trial 14 with value: 0.7417801344758091.\n",
      "[I 2025-02-24 08:59:25,009] Trial 22 finished with value: 0.7417358590944048 and parameters: {'num_iterations': 1630, 'objective': 'binary', 'metric': 'auc', 'verbose': -1, 'learning_rate': 0.005003773215306219, 'n_estimators': 1725, 'min_child_samples': 15, 'subsample': 1.0, 'colsample_bytree': 0.6}. Best is trial 14 with value: 0.7417801344758091.\n",
      "[I 2025-02-24 08:59:47,305] Trial 23 finished with value: 0.7417623369637505 and parameters: {'num_iterations': 2053, 'objective': 'binary', 'metric': 'auc', 'verbose': -1, 'learning_rate': 0.006901349238248785, 'n_estimators': 1820, 'min_child_samples': 15, 'subsample': 0.9, 'colsample_bytree': 0.5}. Best is trial 14 with value: 0.7417801344758091.\n",
      "[I 2025-02-24 09:00:09,299] Trial 24 finished with value: 0.7415390818275441 and parameters: {'num_iterations': 2025, 'objective': 'binary', 'metric': 'auc', 'verbose': -1, 'learning_rate': 0.007073416232563838, 'n_estimators': 2000, 'min_child_samples': 20, 'subsample': 0.9, 'colsample_bytree': 0.5}. Best is trial 14 with value: 0.7417801344758091.\n",
      "[I 2025-02-24 09:00:32,446] Trial 25 finished with value: 0.741252097938319 and parameters: {'num_iterations': 2170, 'objective': 'binary', 'metric': 'auc', 'verbose': -1, 'learning_rate': 0.008994905224792255, 'n_estimators': 940, 'min_child_samples': 15, 'subsample': 0.8, 'colsample_bytree': 0.5}. Best is trial 14 with value: 0.7417801344758091.\n",
      "[I 2025-02-24 09:00:48,809] Trial 26 finished with value: 0.7415123021708454 and parameters: {'num_iterations': 1853, 'objective': 'binary', 'metric': 'auc', 'verbose': -1, 'learning_rate': 0.006560862459482555, 'n_estimators': 1755, 'min_child_samples': 20, 'subsample': 0.9, 'colsample_bytree': 0.7}. Best is trial 14 with value: 0.7417801344758091.\n",
      "[I 2025-02-24 09:01:07,531] Trial 27 finished with value: 0.7411517099636746 and parameters: {'num_iterations': 1967, 'objective': 'binary', 'metric': 'auc', 'verbose': -1, 'learning_rate': 0.010277260093565487, 'n_estimators': 301, 'min_child_samples': 15, 'subsample': 0.9, 'colsample_bytree': 0.6}. Best is trial 14 with value: 0.7417801344758091.\n",
      "[I 2025-02-24 09:01:26,345] Trial 28 finished with value: 0.7407011215911093 and parameters: {'num_iterations': 1776, 'objective': 'binary', 'metric': 'auc', 'verbose': -1, 'learning_rate': 0.013981759659711353, 'n_estimators': 1562, 'min_child_samples': 25, 'subsample': 0.8, 'colsample_bytree': 0.5}. Best is trial 14 with value: 0.7417801344758091.\n",
      "[I 2025-02-24 09:01:51,794] Trial 29 finished with value: 0.7416822799265761 and parameters: {'num_iterations': 2362, 'objective': 'binary', 'metric': 'auc', 'verbose': -1, 'learning_rate': 0.006576802700232973, 'n_estimators': 311, 'min_child_samples': 35, 'subsample': 1.0, 'colsample_bytree': 0.5}. Best is trial 14 with value: 0.7417801344758091.\n",
      "[I 2025-02-24 09:02:14,177] Trial 30 finished with value: 0.7415706384603712 and parameters: {'num_iterations': 2080, 'objective': 'binary', 'metric': 'auc', 'verbose': -1, 'learning_rate': 0.008022168911769469, 'n_estimators': 961, 'min_child_samples': 10, 'subsample': 0.8, 'colsample_bytree': 0.5}. Best is trial 14 with value: 0.7417801344758091.\n",
      "[I 2025-02-24 09:02:31,201] Trial 31 finished with value: 0.7417585606509509 and parameters: {'num_iterations': 1676, 'objective': 'binary', 'metric': 'auc', 'verbose': -1, 'learning_rate': 0.005055908325389899, 'n_estimators': 1738, 'min_child_samples': 15, 'subsample': 1.0, 'colsample_bytree': 0.6}. Best is trial 14 with value: 0.7417801344758091.\n",
      "[I 2025-02-24 09:02:47,824] Trial 32 finished with value: 0.7418410677249259 and parameters: {'num_iterations': 1652, 'objective': 'binary', 'metric': 'auc', 'verbose': -1, 'learning_rate': 0.005766030016239066, 'n_estimators': 1820, 'min_child_samples': 15, 'subsample': 1.0, 'colsample_bytree': 0.6}. Best is trial 32 with value: 0.7418410677249259.\n",
      "[I 2025-02-24 09:03:03,044] Trial 33 finished with value: 0.741577317491001 and parameters: {'num_iterations': 1699, 'objective': 'binary', 'metric': 'auc', 'verbose': -1, 'learning_rate': 0.005951184566435827, 'n_estimators': 1802, 'min_child_samples': 20, 'subsample': 1.0, 'colsample_bytree': 0.7}. Best is trial 32 with value: 0.7418410677249259.\n",
      "[I 2025-02-24 09:03:27,527] Trial 34 finished with value: 0.7417371377197691 and parameters: {'num_iterations': 2244, 'objective': 'binary', 'metric': 'auc', 'verbose': -1, 'learning_rate': 0.005856821500651752, 'n_estimators': 1615, 'min_child_samples': 15, 'subsample': 1.0, 'colsample_bytree': 0.5}. Best is trial 32 with value: 0.7418410677249259.\n",
      "[I 2025-02-24 09:03:46,308] Trial 35 finished with value: 0.7417125539631525 and parameters: {'num_iterations': 1931, 'objective': 'binary', 'metric': 'auc', 'verbose': -1, 'learning_rate': 0.007312302867614489, 'n_estimators': 1917, 'min_child_samples': 15, 'subsample': 1.0, 'colsample_bytree': 0.6}. Best is trial 32 with value: 0.7418410677249259.\n",
      "[I 2025-02-24 09:04:03,507] Trial 36 finished with value: 0.7412080925771779 and parameters: {'num_iterations': 1784, 'objective': 'binary', 'metric': 'auc', 'verbose': -1, 'learning_rate': 0.009595680102789654, 'n_estimators': 1428, 'min_child_samples': 25, 'subsample': 0.5, 'colsample_bytree': 0.6}. Best is trial 32 with value: 0.7418410677249259.\n",
      "[I 2025-02-24 09:04:17,582] Trial 37 finished with value: 0.7414683404894528 and parameters: {'num_iterations': 1562, 'objective': 'binary', 'metric': 'auc', 'verbose': -1, 'learning_rate': 0.006127600093548036, 'n_estimators': 1668, 'min_child_samples': 20, 'subsample': 1.0, 'colsample_bytree': 1.0}. Best is trial 32 with value: 0.7418410677249259.\n",
      "[I 2025-02-24 09:04:35,718] Trial 38 finished with value: 0.7417510397924415 and parameters: {'num_iterations': 1617, 'objective': 'binary', 'metric': 'auc', 'verbose': -1, 'learning_rate': 0.005267107385026281, 'n_estimators': 1850, 'min_child_samples': 30, 'subsample': 0.9, 'colsample_bytree': 0.5}. Best is trial 32 with value: 0.7418410677249259.\n",
      "[I 2025-02-24 09:04:51,016] Trial 39 finished with value: 0.7404124778714424 and parameters: {'num_iterations': 1842, 'objective': 'binary', 'metric': 'auc', 'verbose': -1, 'learning_rate': 0.012019102799773319, 'n_estimators': 1501, 'min_child_samples': 15, 'subsample': 0.6, 'colsample_bytree': 0.9}. Best is trial 32 with value: 0.7418410677249259.\n"
     ]
    },
    {
     "name": "stdout",
     "output_type": "stream",
     "text": [
      "Cat val score : 0.7421951357660296\n",
      "LGBM val score : 0.7417769458541709\n",
      "Ensemble val score : 0.7423377302903553\n"
     ]
    },
    {
     "name": "stderr",
     "output_type": "stream",
     "text": [
      "[I 2025-02-24 09:05:08,954] A new study created in memory with name: no-name-42f1a7b4-11a0-471e-b2a0-6c9c93110fd4\n"
     ]
    },
    {
     "name": "stdout",
     "output_type": "stream",
     "text": [
      "==================================================\n",
      "0:\ttest: 0.7252801\tbest: 0.7252801 (0)\ttotal: 158ms\tremaining: 6m 13s\n",
      "300:\ttest: 0.7408763\tbest: 0.7408763 (300)\ttotal: 40.7s\tremaining: 4m 39s\n",
      "600:\ttest: 0.7419841\tbest: 0.7419841 (600)\ttotal: 1m 21s\tremaining: 4m\n",
      "900:\ttest: 0.7424672\tbest: 0.7424672 (899)\ttotal: 2m 3s\tremaining: 3m 20s\n",
      "1200:\ttest: 0.7427695\tbest: 0.7427778 (1167)\ttotal: 2m 50s\tremaining: 2m 44s\n",
      "1500:\ttest: 0.7426493\tbest: 0.7428006 (1229)\ttotal: 3m 41s\tremaining: 2m 7s\n"
     ]
    },
    {
     "name": "stderr",
     "output_type": "stream",
     "text": [
      "[I 2025-02-24 09:08:55,417] Trial 0 finished with value: 0.7428005569342648 and parameters: {'iterations': 2366, 'depth': 10, 'learning_rate': 0.01181021951839225, 'l2_leaf_reg': 9.980783802743254}. Best is trial 0 with value: 0.7428005569342648.\n"
     ]
    },
    {
     "name": "stdout",
     "output_type": "stream",
     "text": [
      "Stopped by overfitting detector  (300 iterations wait)\n",
      "\n",
      "bestTest = 0.7428005569\n",
      "bestIteration = 1229\n",
      "\n",
      "Shrink model to first 1230 iterations.\n",
      "저장 완료\n",
      "0:\ttest: 0.6994305\tbest: 0.6994305 (0)\ttotal: 58.5ms\tremaining: 2m 8s\n",
      "300:\ttest: 0.7308348\tbest: 0.7308348 (300)\ttotal: 13.4s\tremaining: 1m 23s\n",
      "600:\ttest: 0.7361255\tbest: 0.7361255 (600)\ttotal: 26.5s\tremaining: 1m 10s\n",
      "900:\ttest: 0.7382346\tbest: 0.7382346 (900)\ttotal: 40.1s\tremaining: 57.5s\n",
      "1200:\ttest: 0.7394313\tbest: 0.7394313 (1200)\ttotal: 53.9s\tremaining: 44.5s\n",
      "1500:\ttest: 0.7401225\tbest: 0.7401225 (1500)\ttotal: 1m 7s\tremaining: 31.3s\n",
      "1800:\ttest: 0.7406340\tbest: 0.7406410 (1794)\ttotal: 1m 21s\tremaining: 17.8s\n",
      "2100:\ttest: 0.7410371\tbest: 0.7410371 (2100)\ttotal: 1m 35s\tremaining: 4.2s\n"
     ]
    },
    {
     "name": "stderr",
     "output_type": "stream",
     "text": [
      "[I 2025-02-24 09:10:36,166] Trial 1 finished with value: 0.7411890323232997 and parameters: {'iterations': 2193, 'depth': 4, 'learning_rate': 0.005671430811678843, 'l2_leaf_reg': 0.00012325230809466137}. Best is trial 0 with value: 0.7428005569342648.\n"
     ]
    },
    {
     "name": "stdout",
     "output_type": "stream",
     "text": [
      "2192:\ttest: 0.7411890\tbest: 0.7411890 (2192)\ttotal: 1m 40s\tremaining: 0us\n",
      "\n",
      "bestTest = 0.7411890323\n",
      "bestIteration = 2192\n",
      "\n",
      "0:\ttest: 0.6994305\tbest: 0.6994305 (0)\ttotal: 51.7ms\tremaining: 2m 11s\n",
      "300:\ttest: 0.7420863\tbest: 0.7420863 (300)\ttotal: 14.4s\tremaining: 1m 46s\n",
      "600:\ttest: 0.7416175\tbest: 0.7421089 (313)\ttotal: 29.4s\tremaining: 1m 34s\n"
     ]
    },
    {
     "name": "stderr",
     "output_type": "stream",
     "text": [
      "[I 2025-02-24 09:11:06,357] Trial 2 finished with value: 0.7421088801754585 and parameters: {'iterations': 2535, 'depth': 4, 'learning_rate': 0.09275339199839054, 'l2_leaf_reg': 0.0008705394248343123}. Best is trial 0 with value: 0.7428005569342648.\n"
     ]
    },
    {
     "name": "stdout",
     "output_type": "stream",
     "text": [
      "Stopped by overfitting detector  (300 iterations wait)\n",
      "\n",
      "bestTest = 0.7421088802\n",
      "bestIteration = 313\n",
      "\n",
      "Shrink model to first 314 iterations.\n",
      "0:\ttest: 0.6994305\tbest: 0.6994305 (0)\ttotal: 52.8ms\tremaining: 2m 3s\n",
      "300:\ttest: 0.7416486\tbest: 0.7416486 (300)\ttotal: 13.9s\tremaining: 1m 33s\n",
      "600:\ttest: 0.7426209\tbest: 0.7426597 (537)\ttotal: 28.6s\tremaining: 1m 22s\n",
      "900:\ttest: 0.7426772\tbest: 0.7427512 (826)\ttotal: 43.5s\tremaining: 1m 9s\n",
      "1200:\ttest: 0.7428980\tbest: 0.7429008 (1193)\ttotal: 58.6s\tremaining: 55.3s\n",
      "1500:\ttest: 0.7423674\tbest: 0.7429660 (1233)\ttotal: 1m 13s\tremaining: 41s\n"
     ]
    },
    {
     "name": "stderr",
     "output_type": "stream",
     "text": [
      "[I 2025-02-24 09:12:22,125] Trial 3 finished with value: 0.7429659959670409 and parameters: {'iterations': 2334, 'depth': 4, 'learning_rate': 0.04657568321363276, 'l2_leaf_reg': 0.0008640473331457248}. Best is trial 3 with value: 0.7429659959670409.\n"
     ]
    },
    {
     "name": "stdout",
     "output_type": "stream",
     "text": [
      "Stopped by overfitting detector  (300 iterations wait)\n",
      "\n",
      "bestTest = 0.742965996\n",
      "bestIteration = 1233\n",
      "\n",
      "Shrink model to first 1234 iterations.\n",
      "저장 완료\n",
      "0:\ttest: 0.7252837\tbest: 0.7252837 (0)\ttotal: 143ms\tremaining: 4m 8s\n",
      "300:\ttest: 0.7403097\tbest: 0.7403097 (300)\ttotal: 37.2s\tremaining: 2m 58s\n",
      "600:\ttest: 0.7402920\tbest: 0.7406068 (348)\ttotal: 1m 16s\tremaining: 2m 24s\n"
     ]
    },
    {
     "name": "stderr",
     "output_type": "stream",
     "text": [
      "[I 2025-02-24 09:13:44,565] Trial 4 finished with value: 0.7406067693635263 and parameters: {'iterations': 1742, 'depth': 10, 'learning_rate': 0.012622767482095846, 'l2_leaf_reg': 0.00021158816350109617}. Best is trial 3 with value: 0.7429659959670409.\n"
     ]
    },
    {
     "name": "stdout",
     "output_type": "stream",
     "text": [
      "Stopped by overfitting detector  (300 iterations wait)\n",
      "\n",
      "bestTest = 0.7406067694\n",
      "bestIteration = 348\n",
      "\n",
      "Shrink model to first 349 iterations.\n",
      "0:\ttest: 0.6994305\tbest: 0.6994305 (0)\ttotal: 53.6ms\tremaining: 1m 51s\n",
      "300:\ttest: 0.7430574\tbest: 0.7430608 (299)\ttotal: 14.2s\tremaining: 1m 24s\n",
      "600:\ttest: 0.7433718\tbest: 0.7434443 (566)\ttotal: 29.2s\tremaining: 1m 11s\n"
     ]
    },
    {
     "name": "stderr",
     "output_type": "stream",
     "text": [
      "[I 2025-02-24 09:14:27,369] Trial 5 finished with value: 0.7434442574457055 and parameters: {'iterations': 2082, 'depth': 4, 'learning_rate': 0.06995196593094148, 'l2_leaf_reg': 0.0018080296485396804}. Best is trial 5 with value: 0.7434442574457055.\n"
     ]
    },
    {
     "name": "stdout",
     "output_type": "stream",
     "text": [
      "Stopped by overfitting detector  (300 iterations wait)\n",
      "\n",
      "bestTest = 0.7434442574\n",
      "bestIteration = 566\n",
      "\n",
      "Shrink model to first 567 iterations.\n",
      "저장 완료\n",
      "0:\ttest: 0.7080903\tbest: 0.7080903 (0)\ttotal: 65.7ms\tremaining: 2m 11s\n",
      "300:\ttest: 0.7424563\tbest: 0.7424751 (286)\ttotal: 17.5s\tremaining: 1m 38s\n",
      "600:\ttest: 0.7428651\tbest: 0.7428732 (594)\ttotal: 35.6s\tremaining: 1m 22s\n",
      "900:\ttest: 0.7428213\tbest: 0.7429035 (789)\ttotal: 53.8s\tremaining: 1m 5s\n"
     ]
    },
    {
     "name": "stderr",
     "output_type": "stream",
     "text": [
      "[I 2025-02-24 09:15:32,861] Trial 6 finished with value: 0.7429035458393864 and parameters: {'iterations': 1997, 'depth': 5, 'learning_rate': 0.07985155992831598, 'l2_leaf_reg': 62.52181000710482}. Best is trial 5 with value: 0.7434442574457055.\n"
     ]
    },
    {
     "name": "stdout",
     "output_type": "stream",
     "text": [
      "Stopped by overfitting detector  (300 iterations wait)\n",
      "\n",
      "bestTest = 0.7429035458\n",
      "bestIteration = 789\n",
      "\n",
      "Shrink model to first 790 iterations.\n",
      "0:\ttest: 0.7198179\tbest: 0.7198179 (0)\ttotal: 85.7ms\tremaining: 2m 44s\n",
      "300:\ttest: 0.7421276\tbest: 0.7427024 (155)\ttotal: 24.4s\tremaining: 2m 11s\n"
     ]
    },
    {
     "name": "stderr",
     "output_type": "stream",
     "text": [
      "[I 2025-02-24 09:16:10,556] Trial 7 finished with value: 0.7427024204521099 and parameters: {'iterations': 1927, 'depth': 7, 'learning_rate': 0.0941937211034094, 'l2_leaf_reg': 0.05654822767791934}. Best is trial 5 with value: 0.7434442574457055.\n"
     ]
    },
    {
     "name": "stdout",
     "output_type": "stream",
     "text": [
      "Stopped by overfitting detector  (300 iterations wait)\n",
      "\n",
      "bestTest = 0.7427024205\n",
      "bestIteration = 155\n",
      "\n",
      "Shrink model to first 156 iterations.\n",
      "0:\ttest: 0.7198178\tbest: 0.7198178 (0)\ttotal: 79.5ms\tremaining: 2m 31s\n",
      "300:\ttest: 0.7424887\tbest: 0.7424969 (299)\ttotal: 23.2s\tremaining: 2m 3s\n",
      "600:\ttest: 0.7425557\tbest: 0.7427960 (378)\ttotal: 48.6s\tremaining: 1m 45s\n"
     ]
    },
    {
     "name": "stderr",
     "output_type": "stream",
     "text": [
      "[I 2025-02-24 09:17:05,960] Trial 8 finished with value: 0.7427960340948551 and parameters: {'iterations': 1904, 'depth': 7, 'learning_rate': 0.05155602859187331, 'l2_leaf_reg': 1.299974533316308}. Best is trial 5 with value: 0.7434442574457055.\n"
     ]
    },
    {
     "name": "stdout",
     "output_type": "stream",
     "text": [
      "Stopped by overfitting detector  (300 iterations wait)\n",
      "\n",
      "bestTest = 0.7427960341\n",
      "bestIteration = 378\n",
      "\n",
      "Shrink model to first 379 iterations.\n",
      "0:\ttest: 0.7186968\tbest: 0.7186968 (0)\ttotal: 75.3ms\tremaining: 3m 18s\n",
      "300:\ttest: 0.7421018\tbest: 0.7421075 (299)\ttotal: 19.9s\tremaining: 2m 34s\n",
      "600:\ttest: 0.7430252\tbest: 0.7431680 (513)\ttotal: 41.7s\tremaining: 2m 21s\n"
     ]
    },
    {
     "name": "stderr",
     "output_type": "stream",
     "text": [
      "[I 2025-02-24 09:18:03,488] Trial 9 finished with value: 0.7431679909784006 and parameters: {'iterations': 2639, 'depth': 6, 'learning_rate': 0.03968704290444751, 'l2_leaf_reg': 0.30557194377967184}. Best is trial 5 with value: 0.7434442574457055.\n"
     ]
    },
    {
     "name": "stdout",
     "output_type": "stream",
     "text": [
      "Stopped by overfitting detector  (300 iterations wait)\n",
      "\n",
      "bestTest = 0.743167991\n",
      "bestIteration = 513\n",
      "\n",
      "Shrink model to first 514 iterations.\n",
      "0:\ttest: 0.7197862\tbest: 0.7197862 (0)\ttotal: 108ms\tremaining: 5m 18s\n",
      "300:\ttest: 0.7368227\tbest: 0.7398752 (152)\ttotal: 30.7s\tremaining: 4m 29s\n"
     ]
    },
    {
     "name": "stderr",
     "output_type": "stream",
     "text": [
      "[I 2025-02-24 09:18:51,562] Trial 10 finished with value: 0.7398751931399351 and parameters: {'iterations': 2945, 'depth': 9, 'learning_rate': 0.07330091863871427, 'l2_leaf_reg': 0.013031354738997315}. Best is trial 5 with value: 0.7434442574457055.\n"
     ]
    },
    {
     "name": "stdout",
     "output_type": "stream",
     "text": [
      "Stopped by overfitting detector  (300 iterations wait)\n",
      "\n",
      "bestTest = 0.7398751931\n",
      "bestIteration = 152\n",
      "\n",
      "Shrink model to first 153 iterations.\n",
      "0:\ttest: 0.7186968\tbest: 0.7186968 (0)\ttotal: 78.7ms\tremaining: 3m 35s\n",
      "300:\ttest: 0.7419551\tbest: 0.7419613 (298)\ttotal: 19.7s\tremaining: 2m 39s\n",
      "600:\ttest: 0.7429460\tbest: 0.7430227 (503)\ttotal: 41.2s\tremaining: 2m 26s\n",
      "900:\ttest: 0.7431264\tbest: 0.7431640 (897)\ttotal: 1m 3s\tremaining: 2m 9s\n"
     ]
    },
    {
     "name": "stderr",
     "output_type": "stream",
     "text": [
      "[I 2025-02-24 09:20:16,977] Trial 11 finished with value: 0.7431639883250862 and parameters: {'iterations': 2742, 'depth': 6, 'learning_rate': 0.03477296711729408, 'l2_leaf_reg': 0.26302032350347093}. Best is trial 5 with value: 0.7434442574457055.\n"
     ]
    },
    {
     "name": "stdout",
     "output_type": "stream",
     "text": [
      "Stopped by overfitting detector  (300 iterations wait)\n",
      "\n",
      "bestTest = 0.7431639883\n",
      "bestIteration = 897\n",
      "\n",
      "Shrink model to first 898 iterations.\n",
      "0:\ttest: 0.7186968\tbest: 0.7186968 (0)\ttotal: 79.9ms\tremaining: 3m 31s\n",
      "300:\ttest: 0.7420846\tbest: 0.7420899 (239)\ttotal: 20.6s\tremaining: 2m 40s\n",
      "600:\ttest: 0.7411874\tbest: 0.7421211 (306)\ttotal: 42.6s\tremaining: 2m 24s\n"
     ]
    },
    {
     "name": "stderr",
     "output_type": "stream",
     "text": [
      "[I 2025-02-24 09:21:00,143] Trial 12 finished with value: 0.7421211422721201 and parameters: {'iterations': 2647, 'depth': 6, 'learning_rate': 0.06678195123609384, 'l2_leaf_reg': 0.011980316721965794}. Best is trial 5 with value: 0.7434442574457055.\n"
     ]
    },
    {
     "name": "stdout",
     "output_type": "stream",
     "text": [
      "Stopped by overfitting detector  (300 iterations wait)\n",
      "\n",
      "bestTest = 0.7421211423\n",
      "bestIteration = 306\n",
      "\n",
      "Shrink model to first 307 iterations.\n",
      "0:\ttest: 0.7080633\tbest: 0.7080633 (0)\ttotal: 63ms\tremaining: 2m 15s\n",
      "300:\ttest: 0.7416670\tbest: 0.7416670 (300)\ttotal: 16.8s\tremaining: 1m 43s\n",
      "600:\ttest: 0.7432553\tbest: 0.7432623 (597)\ttotal: 35.2s\tremaining: 1m 31s\n",
      "900:\ttest: 0.7435662\tbest: 0.7435919 (781)\ttotal: 53.5s\tremaining: 1m 14s\n",
      "1200:\ttest: 0.7435404\tbest: 0.7436344 (939)\ttotal: 1m 12s\tremaining: 57.6s\n"
     ]
    },
    {
     "name": "stderr",
     "output_type": "stream",
     "text": [
      "[I 2025-02-24 09:22:14,920] Trial 13 finished with value: 0.7436344231870021 and parameters: {'iterations': 2159, 'depth': 5, 'learning_rate': 0.037295530226032936, 'l2_leaf_reg': 0.491192915993813}. Best is trial 13 with value: 0.7436344231870021.\n"
     ]
    },
    {
     "name": "stdout",
     "output_type": "stream",
     "text": [
      "Stopped by overfitting detector  (300 iterations wait)\n",
      "\n",
      "bestTest = 0.7436344232\n",
      "bestIteration = 939\n",
      "\n",
      "Shrink model to first 940 iterations.\n",
      "저장 완료\n",
      "0:\ttest: 0.7080633\tbest: 0.7080633 (0)\ttotal: 62.7ms\tremaining: 1m 36s\n",
      "300:\ttest: 0.7405361\tbest: 0.7405361 (300)\ttotal: 16.8s\tremaining: 1m 8s\n",
      "600:\ttest: 0.7421707\tbest: 0.7421707 (600)\ttotal: 34.7s\tremaining: 53.8s\n",
      "900:\ttest: 0.7426532\tbest: 0.7426540 (899)\ttotal: 53s\tremaining: 37.2s\n",
      "1200:\ttest: 0.7427955\tbest: 0.7428050 (1192)\ttotal: 1m 11s\tremaining: 19.8s\n",
      "1500:\ttest: 0.7428278\tbest: 0.7428456 (1493)\ttotal: 1m 29s\tremaining: 1.92s\n"
     ]
    },
    {
     "name": "stderr",
     "output_type": "stream",
     "text": [
      "[I 2025-02-24 09:23:47,102] Trial 14 finished with value: 0.7428456463473454 and parameters: {'iterations': 1533, 'depth': 5, 'learning_rate': 0.02588706224684736, 'l2_leaf_reg': 2.3045512770996828}. Best is trial 13 with value: 0.7436344231870021.\n"
     ]
    },
    {
     "name": "stdout",
     "output_type": "stream",
     "text": [
      "1532:\ttest: 0.7428191\tbest: 0.7428456 (1493)\ttotal: 1m 31s\tremaining: 0us\n",
      "\n",
      "bestTest = 0.7428456463\n",
      "bestIteration = 1493\n",
      "\n",
      "Shrink model to first 1494 iterations.\n",
      "0:\ttest: 0.7080625\tbest: 0.7080625 (0)\ttotal: 61.8ms\tremaining: 2m 12s\n",
      "300:\ttest: 0.7431140\tbest: 0.7431140 (300)\ttotal: 17.6s\tremaining: 1m 47s\n",
      "600:\ttest: 0.7428768\tbest: 0.7432758 (406)\ttotal: 36s\tremaining: 1m 32s\n"
     ]
    },
    {
     "name": "stderr",
     "output_type": "stream",
     "text": [
      "[I 2025-02-24 09:24:29,756] Trial 15 finished with value: 0.7432757886267402 and parameters: {'iterations': 2146, 'depth': 5, 'learning_rate': 0.06696600009766787, 'l2_leaf_reg': 0.008534814433280621}. Best is trial 13 with value: 0.7436344231870021.\n"
     ]
    },
    {
     "name": "stdout",
     "output_type": "stream",
     "text": [
      "Stopped by overfitting detector  (300 iterations wait)\n",
      "\n",
      "bestTest = 0.7432757886\n",
      "bestIteration = 406\n",
      "\n",
      "Shrink model to first 407 iterations.\n",
      "0:\ttest: 0.7197861\tbest: 0.7197861 (0)\ttotal: 94.4ms\tremaining: 2m 42s\n",
      "300:\ttest: 0.7418208\tbest: 0.7422220 (221)\ttotal: 26.7s\tremaining: 2m 6s\n"
     ]
    },
    {
     "name": "stderr",
     "output_type": "stream",
     "text": [
      "[I 2025-02-24 09:25:18,374] Trial 16 finished with value: 0.7422220385202013 and parameters: {'iterations': 1721, 'depth': 8, 'learning_rate': 0.05801971324767573, 'l2_leaf_reg': 0.06270820203374841}. Best is trial 13 with value: 0.7436344231870021.\n"
     ]
    },
    {
     "name": "stdout",
     "output_type": "stream",
     "text": [
      "Stopped by overfitting detector  (300 iterations wait)\n",
      "\n",
      "bestTest = 0.7422220385\n",
      "bestIteration = 221\n",
      "\n",
      "Shrink model to first 222 iterations.\n",
      "0:\ttest: 0.7080344\tbest: 0.7080344 (0)\ttotal: 60.4ms\tremaining: 2m 6s\n",
      "300:\ttest: 0.7410164\tbest: 0.7410164 (300)\ttotal: 16.6s\tremaining: 1m 39s\n",
      "600:\ttest: 0.7425064\tbest: 0.7425492 (598)\ttotal: 34.4s\tremaining: 1m 25s\n",
      "900:\ttest: 0.7429954\tbest: 0.7430249 (865)\ttotal: 52.7s\tremaining: 1m 9s\n",
      "1200:\ttest: 0.7430586\tbest: 0.7431178 (977)\ttotal: 1m 11s\tremaining: 53.2s\n"
     ]
    },
    {
     "name": "stderr",
     "output_type": "stream",
     "text": [
      "[I 2025-02-24 09:26:34,555] Trial 17 finished with value: 0.7431178029474077 and parameters: {'iterations': 2098, 'depth': 5, 'learning_rate': 0.027127602896639916, 'l2_leaf_reg': 0.002254460555088994}. Best is trial 13 with value: 0.7436344231870021.\n"
     ]
    },
    {
     "name": "stdout",
     "output_type": "stream",
     "text": [
      "Stopped by overfitting detector  (300 iterations wait)\n",
      "\n",
      "bestTest = 0.7431178029\n",
      "bestIteration = 977\n",
      "\n",
      "Shrink model to first 978 iterations.\n",
      "0:\ttest: 0.6994305\tbest: 0.6994305 (0)\ttotal: 52.1ms\tremaining: 2m 7s\n",
      "300:\ttest: 0.7422997\tbest: 0.7422997 (300)\ttotal: 14.5s\tremaining: 1m 43s\n",
      "600:\ttest: 0.7426780\tbest: 0.7427845 (570)\ttotal: 29.5s\tremaining: 1m 30s\n"
     ]
    },
    {
     "name": "stderr",
     "output_type": "stream",
     "text": [
      "[I 2025-02-24 09:27:17,891] Trial 18 finished with value: 0.7427844629323965 and parameters: {'iterations': 2454, 'depth': 4, 'learning_rate': 0.08417992613146463, 'l2_leaf_reg': 2.1619936801920296}. Best is trial 13 with value: 0.7436344231870021.\n"
     ]
    },
    {
     "name": "stdout",
     "output_type": "stream",
     "text": [
      "Stopped by overfitting detector  (300 iterations wait)\n",
      "\n",
      "bestTest = 0.7427844629\n",
      "bestIteration = 570\n",
      "\n",
      "Shrink model to first 571 iterations.\n",
      "0:\ttest: 0.7186729\tbest: 0.7186729 (0)\ttotal: 73.8ms\tremaining: 2m 10s\n",
      "300:\ttest: 0.7425283\tbest: 0.7425462 (294)\ttotal: 20.2s\tremaining: 1m 38s\n",
      "600:\ttest: 0.7430486\tbest: 0.7430595 (594)\ttotal: 41.9s\tremaining: 1m 21s\n",
      "900:\ttest: 0.7428786\tbest: 0.7431412 (625)\ttotal: 1m 3s\tremaining: 1m 1s\n"
     ]
    },
    {
     "name": "stderr",
     "output_type": "stream",
     "text": [
      "[I 2025-02-24 09:28:23,463] Trial 19 finished with value: 0.7431411597001809 and parameters: {'iterations': 1773, 'depth': 6, 'learning_rate': 0.06306860646624848, 'l2_leaf_reg': 21.65912588757876}. Best is trial 13 with value: 0.7436344231870021.\n",
      "[I 2025-02-24 09:28:23,466] A new study created in memory with name: no-name-71727e22-72e9-405d-8caf-7715f7bca23e\n"
     ]
    },
    {
     "name": "stdout",
     "output_type": "stream",
     "text": [
      "Stopped by overfitting detector  (300 iterations wait)\n",
      "\n",
      "bestTest = 0.7431411597\n",
      "bestIteration = 625\n",
      "\n",
      "Shrink model to first 626 iterations.\n"
     ]
    },
    {
     "name": "stderr",
     "output_type": "stream",
     "text": [
      "[I 2025-02-24 09:28:46,761] Trial 0 finished with value: 0.7309737845585831 and parameters: {'num_iterations': 2366, 'objective': 'binary', 'metric': 'auc', 'verbose': -1, 'learning_rate': 0.0652646236447618, 'n_estimators': 236, 'min_child_samples': 45, 'subsample': 0.7, 'colsample_bytree': 0.5}. Best is trial 0 with value: 0.7309737845585831.\n",
      "[I 2025-02-24 09:29:03,802] Trial 1 finished with value: 0.7431066963786376 and parameters: {'num_iterations': 1510, 'objective': 'binary', 'metric': 'auc', 'verbose': -1, 'learning_rate': 0.005231880959249543, 'n_estimators': 1411, 'min_child_samples': 10, 'subsample': 1.0, 'colsample_bytree': 0.5}. Best is trial 1 with value: 0.7431066963786376.\n",
      "[I 2025-02-24 09:29:23,755] Trial 2 finished with value: 0.7421191171201456 and parameters: {'num_iterations': 2334, 'objective': 'binary', 'metric': 'auc', 'verbose': -1, 'learning_rate': 0.006578527777128852, 'n_estimators': 931, 'min_child_samples': 15, 'subsample': 0.5, 'colsample_bytree': 1.0}. Best is trial 1 with value: 0.7431066963786376.\n",
      "[I 2025-02-24 09:29:40,033] Trial 3 finished with value: 0.7432776787685831 and parameters: {'num_iterations': 1620, 'objective': 'binary', 'metric': 'auc', 'verbose': -1, 'learning_rate': 0.0058823249237283685, 'n_estimators': 837, 'min_child_samples': 10, 'subsample': 0.9, 'colsample_bytree': 0.6}. Best is trial 3 with value: 0.7432776787685831.\n",
      "[I 2025-02-24 09:29:56,554] Trial 4 finished with value: 0.7426927791403565 and parameters: {'num_iterations': 1997, 'objective': 'binary', 'metric': 'auc', 'verbose': -1, 'learning_rate': 0.010907507425244923, 'n_estimators': 1597, 'min_child_samples': 50, 'subsample': 0.6, 'colsample_bytree': 0.8}. Best is trial 3 with value: 0.7432776787685831.\n",
      "[I 2025-02-24 09:30:19,350] Trial 5 finished with value: 0.7390644215614802 and parameters: {'num_iterations': 2909, 'objective': 'binary', 'metric': 'auc', 'verbose': -1, 'learning_rate': 0.019760591962733942, 'n_estimators': 612, 'min_child_samples': 30, 'subsample': 0.7, 'colsample_bytree': 0.9}. Best is trial 3 with value: 0.7432776787685831.\n",
      "[I 2025-02-24 09:30:40,192] Trial 6 finished with value: 0.740666340598668 and parameters: {'num_iterations': 2639, 'objective': 'binary', 'metric': 'auc', 'verbose': -1, 'learning_rate': 0.017862094446750985, 'n_estimators': 794, 'min_child_samples': 35, 'subsample': 1.0, 'colsample_bytree': 0.8}. Best is trial 3 with value: 0.7432776787685831.\n",
      "[I 2025-02-24 09:30:56,737] Trial 7 finished with value: 0.742446766855197 and parameters: {'num_iterations': 1580, 'objective': 'binary', 'metric': 'auc', 'verbose': -1, 'learning_rate': 0.01776722177611332, 'n_estimators': 529, 'min_child_samples': 25, 'subsample': 0.8, 'colsample_bytree': 0.5}. Best is trial 3 with value: 0.7432776787685831.\n",
      "[I 2025-02-24 09:31:14,101] Trial 8 finished with value: 0.7387975859489587 and parameters: {'num_iterations': 1911, 'objective': 'binary', 'metric': 'auc', 'verbose': -1, 'learning_rate': 0.0304747553332844, 'n_estimators': 1328, 'min_child_samples': 10, 'subsample': 0.7, 'colsample_bytree': 0.6}. Best is trial 3 with value: 0.7432776787685831.\n",
      "[I 2025-02-24 09:31:41,734] Trial 9 finished with value: 0.738652517562515 and parameters: {'num_iterations': 2739, 'objective': 'binary', 'metric': 'auc', 'verbose': -1, 'learning_rate': 0.02691531614176271, 'n_estimators': 1438, 'min_child_samples': 20, 'subsample': 0.6, 'colsample_bytree': 0.5}. Best is trial 3 with value: 0.7432776787685831.\n",
      "[I 2025-02-24 09:31:56,296] Trial 10 finished with value: 0.7315896650411341 and parameters: {'num_iterations': 1883, 'objective': 'binary', 'metric': 'auc', 'verbose': -1, 'learning_rate': 0.08223556891145911, 'n_estimators': 1917, 'min_child_samples': 40, 'subsample': 0.9, 'colsample_bytree': 0.7}. Best is trial 3 with value: 0.7432776787685831.\n",
      "[I 2025-02-24 09:32:11,869] Trial 11 finished with value: 0.7431674469669879 and parameters: {'num_iterations': 1513, 'objective': 'binary', 'metric': 'auc', 'verbose': -1, 'learning_rate': 0.005340229419903739, 'n_estimators': 1206, 'min_child_samples': 10, 'subsample': 1.0, 'colsample_bytree': 0.6}. Best is trial 3 with value: 0.7432776787685831.\n",
      "[I 2025-02-24 09:32:26,979] Trial 12 finished with value: 0.743030721412502 and parameters: {'num_iterations': 1717, 'objective': 'binary', 'metric': 'auc', 'verbose': -1, 'learning_rate': 0.008807202863131344, 'n_estimators': 1093, 'min_child_samples': 20, 'subsample': 0.9, 'colsample_bytree': 0.7}. Best is trial 3 with value: 0.7432776787685831.\n",
      "[I 2025-02-24 09:32:46,731] Trial 13 finished with value: 0.7423641208002041 and parameters: {'num_iterations': 2084, 'objective': 'binary', 'metric': 'auc', 'verbose': -1, 'learning_rate': 0.010947685715514379, 'n_estimators': 1108, 'min_child_samples': 10, 'subsample': 0.9, 'colsample_bytree': 0.6}. Best is trial 3 with value: 0.7432776787685831.\n",
      "[I 2025-02-24 09:33:04,656] Trial 14 finished with value: 0.7432126912446311 and parameters: {'num_iterations': 1759, 'objective': 'binary', 'metric': 'auc', 'verbose': -1, 'learning_rate': 0.00514593053258222, 'n_estimators': 172, 'min_child_samples': 20, 'subsample': 1.0, 'colsample_bytree': 0.6}. Best is trial 3 with value: 0.7432776787685831.\n",
      "[I 2025-02-24 09:33:20,039] Trial 15 finished with value: 0.7430189119968701 and parameters: {'num_iterations': 1756, 'objective': 'binary', 'metric': 'auc', 'verbose': -1, 'learning_rate': 0.008183724404516576, 'n_estimators': 181, 'min_child_samples': 20, 'subsample': 0.8, 'colsample_bytree': 0.7}. Best is trial 3 with value: 0.7432776787685831.\n",
      "[I 2025-02-24 09:33:39,509] Trial 16 finished with value: 0.7375683623801543 and parameters: {'num_iterations': 2176, 'objective': 'binary', 'metric': 'auc', 'verbose': -1, 'learning_rate': 0.03901437770924474, 'n_estimators': 437, 'min_child_samples': 25, 'subsample': 0.9, 'colsample_bytree': 0.6}. Best is trial 3 with value: 0.7432776787685831.\n",
      "[I 2025-02-24 09:33:55,653] Trial 17 finished with value: 0.7428811381284209 and parameters: {'num_iterations': 1709, 'objective': 'binary', 'metric': 'auc', 'verbose': -1, 'learning_rate': 0.01384769331008121, 'n_estimators': 115, 'min_child_samples': 15, 'subsample': 1.0, 'colsample_bytree': 0.6}. Best is trial 3 with value: 0.7432776787685831.\n",
      "[I 2025-02-24 09:34:11,748] Trial 18 finished with value: 0.7431838943777302 and parameters: {'num_iterations': 1822, 'objective': 'binary', 'metric': 'auc', 'verbose': -1, 'learning_rate': 0.007223259603234952, 'n_estimators': 775, 'min_child_samples': 30, 'subsample': 0.8, 'colsample_bytree': 0.7}. Best is trial 3 with value: 0.7432776787685831.\n",
      "[I 2025-02-24 09:34:30,867] Trial 19 finished with value: 0.7329239860556453 and parameters: {'num_iterations': 2481, 'objective': 'binary', 'metric': 'auc', 'verbose': -1, 'learning_rate': 0.04570242881302624, 'n_estimators': 405, 'min_child_samples': 15, 'subsample': 0.9, 'colsample_bytree': 0.8}. Best is trial 3 with value: 0.7432776787685831.\n",
      "[I 2025-02-24 09:34:44,740] Trial 20 finished with value: 0.7419075324185533 and parameters: {'num_iterations': 1649, 'objective': 'binary', 'metric': 'auc', 'verbose': -1, 'learning_rate': 0.012796480593590575, 'n_estimators': 725, 'min_child_samples': 25, 'subsample': 1.0, 'colsample_bytree': 0.9}. Best is trial 3 with value: 0.7432776787685831.\n",
      "[I 2025-02-24 09:35:00,960] Trial 21 finished with value: 0.7433629694338015 and parameters: {'num_iterations': 1862, 'objective': 'binary', 'metric': 'auc', 'verbose': -1, 'learning_rate': 0.007476328613565997, 'n_estimators': 884, 'min_child_samples': 35, 'subsample': 0.8, 'colsample_bytree': 0.7}. Best is trial 21 with value: 0.7433629694338015.\n",
      "[I 2025-02-24 09:35:21,125] Trial 22 finished with value: 0.7433336285554878 and parameters: {'num_iterations': 2016, 'objective': 'binary', 'metric': 'auc', 'verbose': -1, 'learning_rate': 0.005003585055247969, 'n_estimators': 966, 'min_child_samples': 35, 'subsample': 0.8, 'colsample_bytree': 0.6}. Best is trial 21 with value: 0.7433629694338015.\n",
      "[I 2025-02-24 09:35:38,719] Trial 23 finished with value: 0.7432509308789741 and parameters: {'num_iterations': 2032, 'objective': 'binary', 'metric': 'auc', 'verbose': -1, 'learning_rate': 0.007239546355113976, 'n_estimators': 931, 'min_child_samples': 40, 'subsample': 0.8, 'colsample_bytree': 0.7}. Best is trial 21 with value: 0.7433629694338015.\n",
      "[I 2025-02-24 09:35:59,734] Trial 24 finished with value: 0.7431050127228783 and parameters: {'num_iterations': 2220, 'objective': 'binary', 'metric': 'auc', 'verbose': -1, 'learning_rate': 0.009575186891312287, 'n_estimators': 898, 'min_child_samples': 35, 'subsample': 0.8, 'colsample_bytree': 0.6}. Best is trial 21 with value: 0.7433629694338015.\n",
      "[I 2025-02-24 09:36:16,810] Trial 25 finished with value: 0.7429900793919931 and parameters: {'num_iterations': 1956, 'objective': 'binary', 'metric': 'auc', 'verbose': -1, 'learning_rate': 0.006771895086100297, 'n_estimators': 653, 'min_child_samples': 35, 'subsample': 0.7, 'colsample_bytree': 0.7}. Best is trial 21 with value: 0.7433629694338015.\n",
      "[I 2025-02-24 09:36:39,861] Trial 26 finished with value: 0.7433844558991629 and parameters: {'num_iterations': 2111, 'objective': 'binary', 'metric': 'auc', 'verbose': -1, 'learning_rate': 0.005931508908441951, 'n_estimators': 1206, 'min_child_samples': 40, 'subsample': 0.9, 'colsample_bytree': 0.5}. Best is trial 26 with value: 0.7433844558991629.\n",
      "[I 2025-02-24 09:36:57,107] Trial 27 finished with value: 0.7419369527145916 and parameters: {'num_iterations': 2117, 'objective': 'binary', 'metric': 'auc', 'verbose': -1, 'learning_rate': 0.013797861250244464, 'n_estimators': 1691, 'min_child_samples': 40, 'subsample': 0.8, 'colsample_bytree': 0.8}. Best is trial 26 with value: 0.7433844558991629.\n",
      "[I 2025-02-24 09:37:21,522] Trial 28 finished with value: 0.7431418824014738 and parameters: {'num_iterations': 2300, 'objective': 'binary', 'metric': 'auc', 'verbose': -1, 'learning_rate': 0.008673441303426897, 'n_estimators': 1026, 'min_child_samples': 45, 'subsample': 0.6, 'colsample_bytree': 0.5}. Best is trial 26 with value: 0.7433844558991629.\n",
      "[I 2025-02-24 09:37:44,850] Trial 29 finished with value: 0.7432737753874242 and parameters: {'num_iterations': 2149, 'objective': 'binary', 'metric': 'auc', 'verbose': -1, 'learning_rate': 0.0065252146556631155, 'n_estimators': 1261, 'min_child_samples': 45, 'subsample': 0.7, 'colsample_bytree': 0.5}. Best is trial 26 with value: 0.7433844558991629.\n",
      "[I 2025-02-24 09:38:10,513] Trial 30 finished with value: 0.7425232143567931 and parameters: {'num_iterations': 2462, 'objective': 'binary', 'metric': 'auc', 'verbose': -1, 'learning_rate': 0.010725479697406613, 'n_estimators': 1517, 'min_child_samples': 50, 'subsample': 0.8, 'colsample_bytree': 0.5}. Best is trial 26 with value: 0.7433844558991629.\n",
      "[I 2025-02-24 09:38:29,718] Trial 31 finished with value: 0.7433540389106823 and parameters: {'num_iterations': 1939, 'objective': 'binary', 'metric': 'auc', 'verbose': -1, 'learning_rate': 0.0058444923131743915, 'n_estimators': 1176, 'min_child_samples': 30, 'subsample': 0.9, 'colsample_bytree': 0.6}. Best is trial 26 with value: 0.7433844558991629.\n",
      "[I 2025-02-24 09:38:50,351] Trial 32 finished with value: 0.7434171442345638 and parameters: {'num_iterations': 1848, 'objective': 'binary', 'metric': 'auc', 'verbose': -1, 'learning_rate': 0.005110942899360253, 'n_estimators': 1179, 'min_child_samples': 30, 'subsample': 0.9, 'colsample_bytree': 0.5}. Best is trial 32 with value: 0.7434171442345638.\n",
      "[I 2025-02-24 09:39:10,770] Trial 33 finished with value: 0.7433632950464719 and parameters: {'num_iterations': 1846, 'objective': 'binary', 'metric': 'auc', 'verbose': -1, 'learning_rate': 0.00608552997956215, 'n_estimators': 1158, 'min_child_samples': 30, 'subsample': 0.9, 'colsample_bytree': 0.5}. Best is trial 32 with value: 0.7434171442345638.\n",
      "[I 2025-02-24 09:39:30,835] Trial 34 finished with value: 0.7432434814964167 and parameters: {'num_iterations': 1838, 'objective': 'binary', 'metric': 'auc', 'verbose': -1, 'learning_rate': 0.007618876001254448, 'n_estimators': 1352, 'min_child_samples': 30, 'subsample': 0.9, 'colsample_bytree': 0.5}. Best is trial 32 with value: 0.7434171442345638.\n",
      "[I 2025-02-24 09:39:53,306] Trial 35 finished with value: 0.743321132176539 and parameters: {'num_iterations': 2057, 'objective': 'binary', 'metric': 'auc', 'verbose': -1, 'learning_rate': 0.00612426123515593, 'n_estimators': 1248, 'min_child_samples': 40, 'subsample': 0.9, 'colsample_bytree': 0.5}. Best is trial 32 with value: 0.7434171442345638.\n",
      "[I 2025-02-24 09:40:09,239] Trial 36 finished with value: 0.7425276339531611 and parameters: {'num_iterations': 1831, 'objective': 'binary', 'metric': 'auc', 'verbose': -1, 'learning_rate': 0.006129236939201569, 'n_estimators': 1740, 'min_child_samples': 35, 'subsample': 0.9, 'colsample_bytree': 0.9}. Best is trial 32 with value: 0.7434171442345638.\n",
      "[I 2025-02-24 09:40:27,938] Trial 37 finished with value: 0.7420028376588302 and parameters: {'num_iterations': 2268, 'objective': 'binary', 'metric': 'auc', 'verbose': -1, 'learning_rate': 0.009829994928987871, 'n_estimators': 1042, 'min_child_samples': 30, 'subsample': 1.0, 'colsample_bytree': 1.0}. Best is trial 32 with value: 0.7434171442345638.\n",
      "[I 2025-02-24 09:40:53,397] Trial 38 finished with value: 0.7431331067429174 and parameters: {'num_iterations': 2384, 'objective': 'binary', 'metric': 'auc', 'verbose': -1, 'learning_rate': 0.007325993151448321, 'n_estimators': 1417, 'min_child_samples': 25, 'subsample': 0.9, 'colsample_bytree': 0.5}. Best is trial 32 with value: 0.7434171442345638.\n",
      "[I 2025-02-24 09:41:10,644] Trial 39 finished with value: 0.743198828880821 and parameters: {'num_iterations': 1612, 'objective': 'binary', 'metric': 'auc', 'verbose': -1, 'learning_rate': 0.012084878317988958, 'n_estimators': 841, 'min_child_samples': 35, 'subsample': 0.5, 'colsample_bytree': 0.5}. Best is trial 32 with value: 0.7434171442345638.\n"
     ]
    },
    {
     "name": "stdout",
     "output_type": "stream",
     "text": [
      "Cat val score : 0.7436344231870021\n",
      "LGBM val score : 0.7434342666959644\n",
      "Ensemble val score : 0.743806632580791\n"
     ]
    }
   ],
   "source": [
    "for col in X.columns:\n",
    "    if X[col].dtype == 'object':  # 문자형이면 category로 변환\n",
    "        X[col] = X[col].astype('category')\n",
    "        test[col] = test[col].astype('category')\n",
    "seed = 4972\n",
    "\n",
    "test_pred_total = []\n",
    "scores_total = []\n",
    "seed_everything(seed)\n",
    "print('Seed {} Start!'.format(seed))\n",
    "cv = StratifiedKFold(n_splits = 10, random_state = seed, shuffle=True)\n",
    "\n",
    "cat_param_list = []\n",
    "lgbm_param_list = []\n",
    "for idx, (train_idx, val_idx) in enumerate(cv.split(X, y)):\n",
    "    print('='*50)\n",
    "    X_train, X_val = X.iloc[train_idx],X.iloc[val_idx]\n",
    "    y_train, y_val = y.iloc[train_idx], y.iloc[val_idx]\n",
    "    \n",
    "    best_val_auc = 0\n",
    "\n",
    "    sampler = TPESampler(seed=seed)\n",
    "    optuna_cat = optuna.create_study(direction='maximize', sampler=sampler)\n",
    "    optuna_cat.optimize(objective_cat, n_trials = 20)\n",
    "    cat_trial = optuna_cat.best_trial\n",
    "    cat_trial_params = cat_trial.params\n",
    "    cat_param_list.append(cat_trial_params)\n",
    "    \n",
    "    model = CatBoostClassifier(**cat_trial_params, auto_class_weights='Balanced', eval_metric='AUC', random_state=seed)\n",
    "    model.load_model(\"./weight/cat_fold_cpu{}.cbm\".format(idx))\n",
    "    #model = CatBoostClassifier(auto_class_weights='Balanced', eval_metric='AUC', random_state=seed, task_type=\"CPU\" )\n",
    "    #model.fit(X_train,y_train,cat_features=categorical_columns,early_stopping_rounds = 300,eval_set=[(X_val,y_val)], verbose = 300)\n",
    "    \n",
    "    # model_cpu = CatBoostClassifier(auto_class_weights='Balanced',eval_metric='AUC', random_state = 501, task_type=\"cpu\" )\n",
    "    # model_cpu.fit(X_train,y_train,cat_features=categorical_columns, early_stopping_rounds = 300,eval_set=[(X_val,y_val)], verbose = 300)\n",
    "    # model_cpu.save_model(\"cat_fold_{}.cbm\".format(idx))\n",
    "\n",
    "\n",
    "    sampler = TPESampler(seed=seed)\n",
    "    optuna_lgbm = optuna.create_study(direction='maximize', sampler=sampler)\n",
    "    optuna_lgbm.optimize(objective_lgbm, n_trials = 40)\n",
    "    lgbm_trial = optuna_lgbm.best_trial\n",
    "    lgbm_trial_params = lgbm_trial.params\n",
    "    lgbm_param_list.append(lgbm_trial_params)\n",
    "    \n",
    "    # lgbm_trial_params =loaded_lgbm_params[idx]\n",
    "    #print(lgbm_trial_params)\n",
    "\n",
    "    class_weights = compute_class_weight(class_weight=\"balanced\", classes=np.unique(y), y=y_train)\n",
    "    class_weight_dict = {i: w for i, w in enumerate(class_weights)}\n",
    "    model_lgbm = lgb.LGBMClassifier(**lgbm_trial_params,class_weight=class_weight_dict)\n",
    "    # model_lgbm = lgb.LGBMClassifier(class_weight=class_weight_dict)\n",
    "    #model_lgbm= lgb.LGBMClassifier(objective = 'binary', metric = 'auc', random_state =  seed, class_weight=class_weight_dict)\n",
    "    model_lgbm.fit(X_train, y_train, eval_set=[(X_val, y_val)],categorical_feature=categorical_columns)\n",
    "\n",
    "    val_pred = model.predict_proba(X_val)[:, 1]\n",
    "    val_pred_lgbm = model_lgbm.predict_proba(X_val)[:, 1]\n",
    "    print('Cat val score : {}'.format(roc_auc_score(y_val,val_pred)))\n",
    "    print('LGBM val score : {}'.format(roc_auc_score(y_val,val_pred_lgbm)))\n",
    "\n",
    "    roc_val = roc_auc_score(y_val, (2*val_pred+val_pred_lgbm)/3)\n",
    "    scores_total.append(roc_val)\n",
    "    print('Ensemble val score : {}'.format(roc_val))\n",
    "\n",
    "    test_pred = model.predict_proba(test)[:, 1]\n",
    "    test_pred_lgbm = model_lgbm.predict_proba(test)[:, 1]\n",
    "    test_pred_total.append((2*test_pred+test_pred_lgbm)/3)"
   ]
  },
  {
   "cell_type": "code",
   "execution_count": 44,
   "metadata": {
    "colab": {
     "base_uri": "https://localhost:8080/"
    },
    "id": "LDLeh9IJD9pt",
    "outputId": "0534775f-2085-448a-d2aa-690a9e4e4ff4"
   },
   "outputs": [
    {
     "data": {
      "text/plain": [
       "(0.7410694619156599,\n",
       " [0.7420553317227365,\n",
       "  0.7357865613670393,\n",
       "  0.7433731499389146,\n",
       "  0.7418934198889111,\n",
       "  0.7446010123409108,\n",
       "  0.7390755598973402,\n",
       "  0.7392778805213703,\n",
       "  0.73848734060823,\n",
       "  0.7423377302903553,\n",
       "  0.743806632580791])"
      ]
     },
     "execution_count": 44,
     "metadata": {},
     "output_type": "execute_result"
    }
   ],
   "source": [
    "np.mean(scores_total), scores_total"
   ]
  },
  {
   "cell_type": "code",
   "execution_count": 45,
   "metadata": {},
   "outputs": [],
   "source": [
    "test_pred_total_mean = np.mean(test_pred_total, axis=(0))"
   ]
  },
  {
   "cell_type": "code",
   "execution_count": 46,
   "metadata": {},
   "outputs": [
    {
     "data": {
      "text/plain": [
       "array([0.00530639, 0.00352175, 0.32595306, ..., 0.66165043, 0.35991946,\n",
       "       0.00603844])"
      ]
     },
     "execution_count": 46,
     "metadata": {},
     "output_type": "execute_result"
    }
   ],
   "source": [
    "test_pred_total_mean"
   ]
  },
  {
   "cell_type": "code",
   "execution_count": 47,
   "metadata": {
    "colab": {
     "base_uri": "https://localhost:8080/"
    },
    "id": "E8D6DZP0pIm3",
    "outputId": "946ae60d-f2f2-405e-e757-ab31fe0d2375"
   },
   "outputs": [
    {
     "data": {
      "text/plain": [
       "(0.7410694619156599,\n",
       " [0.7420553317227365,\n",
       "  0.7357865613670393,\n",
       "  0.7433731499389146,\n",
       "  0.7418934198889111,\n",
       "  0.7446010123409108,\n",
       "  0.7390755598973402,\n",
       "  0.7392778805213703,\n",
       "  0.73848734060823,\n",
       "  0.7423377302903553,\n",
       "  0.743806632580791])"
      ]
     },
     "execution_count": 47,
     "metadata": {},
     "output_type": "execute_result"
    }
   ],
   "source": [
    "np.mean(scores_total), scores_total # 불임 원인 인코딩 + make feature 사용\n"
   ]
  },
  {
   "cell_type": "code",
   "execution_count": 48,
   "metadata": {},
   "outputs": [],
   "source": [
    "import json\n",
    "with open(\"lgbm_params.json\", \"w\") as f:\n",
    "    json.dump(lgbm_param_list, f) \n",
    "\n",
    "with open(\"lgbm_params.json\", \"r\") as f:\n",
    "    loaded_lgbm_params =  json.load(f)"
   ]
  },
  {
   "cell_type": "markdown",
   "metadata": {},
   "source": [
    "#### 재현성 확인"
   ]
  },
  {
   "cell_type": "code",
   "execution_count": 49,
   "metadata": {
    "scrolled": true,
    "tags": []
   },
   "outputs": [
    {
     "name": "stdout",
     "output_type": "stream",
     "text": [
      "Seed 4972 Start!\n",
      "==================================================\n",
      "Cat cpu val score : 0.7416463440119117\n",
      "LGBM val score : 0.7415101736020648\n",
      "Ensemble val score : 0.7420553317227365\n",
      "==================================================\n",
      "==================================================\n",
      "Cat cpu val score : 0.74322580364866\n",
      "LGBM val score : 0.7428865255413553\n",
      "Ensemble val score : 0.7433731499389146\n",
      "==================================================\n",
      "Cat cpu val score : 0.7419227845925421\n",
      "LGBM val score : 0.7407449284079393\n",
      "Ensemble val score : 0.7418934198889111\n",
      "==================================================\n",
      "Cat cpu val score : 0.7443563263317503\n",
      "LGBM val score : 0.7441247879268794\n",
      "Ensemble val score : 0.7446010123409108\n",
      "==================================================\n",
      "Cat cpu val score : 0.7391735375440462\n",
      "LGBM val score : 0.7381126358714167\n",
      "Ensemble val score : 0.7390755598973402\n",
      "==================================================\n",
      "Cat cpu val score : 0.7391390146592094\n",
      "LGBM val score : 0.7385958411034312\n",
      "Ensemble val score : 0.7392778805213703\n",
      "==================================================\n",
      "Cat cpu val score : 0.7384708455468527\n",
      "LGBM val score : 0.7374181675795946\n",
      "Ensemble val score : 0.73848734060823\n",
      "==================================================\n",
      "Cat cpu val score : 0.7421951357660296\n",
      "LGBM val score : 0.7417769458541709\n",
      "Ensemble val score : 0.7423377302903553\n",
      "==================================================\n",
      "Cat cpu val score : 0.7436344231870021\n",
      "LGBM val score : 0.7434342666959644\n",
      "Ensemble val score : 0.743806632580791\n"
     ]
    }
   ],
   "source": [
    "for col in X.columns:\n",
    "    if X[col].dtype == 'object':  # 문자형이면 category로 변환\n",
    "        X[col] = X[col].astype('category')\n",
    "        test[col] = test[col].astype('category')\n",
    "seed = 4972\n",
    "\n",
    "test_pred_total = []\n",
    "scores_total = []\n",
    "seed_everything(seed)\n",
    "print('Seed {} Start!'.format(seed))\n",
    "cv = StratifiedKFold(n_splits = 10, random_state = seed, shuffle=True)\n",
    "\n",
    "cat_param_list = []\n",
    "lgbm_param_list = []\n",
    "for idx, (train_idx, val_idx) in enumerate(cv.split(X, y)):\n",
    "    print('='*50)\n",
    "    X_train, X_val = X.iloc[train_idx],X.iloc[val_idx]\n",
    "    y_train, y_val = y.iloc[train_idx], y.iloc[val_idx]\n",
    "    if idx == 1:\n",
    "        continue\n",
    "    # cat_trial_params = loaded_cat_params[idx]\n",
    "    # model = CatBoostClassifier(**cat_trial_params ,auto_class_weights='Balanced', eval_metric='AUC', random_state=seed, task_type=\"CPU\")\n",
    "    # model.fit(X_train,y_train,cat_features=categorical_columns, early_stopping_rounds = 300, eval_set=[(X_val,y_val)], verbose = 300)\n",
    "    \n",
    "    model_cpu = CatBoostClassifier()\n",
    "    model_cpu.load_model(\"./weight/cat_fold_cpu{}.cbm\".format(idx))\n",
    "\n",
    "    lgbm_trial_params = loaded_lgbm_params[idx]\n",
    "    class_weights = compute_class_weight(class_weight=\"balanced\", classes=np.unique(y), y=y_train)\n",
    "    class_weight_dict = {i: w for i, w in enumerate(class_weights)}\n",
    "\n",
    "    model_lgbm = lgb.LGBMClassifier(**lgbm_trial_params,class_weight=class_weight_dict)\n",
    "    model_lgbm.fit(X_train, y_train, eval_set=[(X_val, y_val)],categorical_feature=categorical_columns)\n",
    "\n",
    "    # val_pred = model.predict_proba(X_val)[:, 1]\n",
    "    val_pred_cpu = model_cpu.predict_proba(X_val)[:, 1]\n",
    "    val_pred_lgbm = model_lgbm.predict_proba(X_val)[:, 1]\n",
    "    # print('Cat val score : {}'.format(roc_auc_score(y_val,val_pred)))\n",
    "    print('Cat cpu val score : {}'.format(roc_auc_score(y_val,val_pred_cpu)))\n",
    "    print('LGBM val score : {}'.format(roc_auc_score(y_val,val_pred_lgbm)))\n",
    "\n",
    "    roc_val = roc_auc_score(y_val, (val_pred_cpu*2 + val_pred_lgbm)/3)\n",
    "    scores_total.append(roc_val)\n",
    "    print('Ensemble val score : {}'.format(roc_val))\n",
    "\n",
    "    # test_pred = model.predict_proba(test)[:, 1]\n",
    "    test_pred_cpu = model_cpu.predict_proba(test)[:, 1]\n",
    "    test_pred_lgbm = model_lgbm.predict_proba(test)[:, 1]\n",
    "    test_pred_total.append((test_pred_cpu*2+test_pred_lgbm)/3)\n",
    "    # test_pred_total.append((test_pred_cpu))"
   ]
  },
  {
   "cell_type": "code",
   "execution_count": 50,
   "metadata": {},
   "outputs": [
    {
     "data": {
      "text/plain": [
       "(0.7416564508655067,\n",
       " [0.7420553317227365,\n",
       "  0.7433731499389146,\n",
       "  0.7418934198889111,\n",
       "  0.7446010123409108,\n",
       "  0.7390755598973402,\n",
       "  0.7392778805213703,\n",
       "  0.73848734060823,\n",
       "  0.7423377302903553,\n",
       "  0.743806632580791])"
      ]
     },
     "execution_count": 50,
     "metadata": {},
     "output_type": "execute_result"
    }
   ],
   "source": [
    "np.mean(scores_total), scores_total"
   ]
  },
  {
   "cell_type": "code",
   "execution_count": 51,
   "metadata": {
    "id": "zdqhyNyumAyx"
   },
   "outputs": [],
   "source": [
    "test_pred_total_mean = np.mean(test_pred_total, axis=(0))"
   ]
  },
  {
   "cell_type": "code",
   "execution_count": 52,
   "metadata": {
    "colab": {
     "base_uri": "https://localhost:8080/",
     "height": 540
    },
    "id": "HHVwzBg8NEZK",
    "outputId": "7c5d38e1-affe-45e7-b863-372c9a868b84"
   },
   "outputs": [
    {
     "data": {
      "text/plain": [
       "(array([13571.,  2368.,  3235.,  5957.,  9194., 13065., 16799., 15196.,\n",
       "        10026.,   656.]),\n",
       " array([4.88310916e-04, 8.83762978e-02, 1.76264285e-01, 2.64152272e-01,\n",
       "        3.52040259e-01, 4.39928245e-01, 5.27816232e-01, 6.15704219e-01,\n",
       "        7.03592206e-01, 7.91480193e-01, 8.79368180e-01]),\n",
       " <BarContainer object of 10 artists>)"
      ]
     },
     "execution_count": 52,
     "metadata": {},
     "output_type": "execute_result"
    },
    {
     "data": {
      "image/png": "[encoded data removed]",
      "text/plain": [
       "<Figure size 640x480 with 1 Axes>"
      ]
     },
     "metadata": {},
     "output_type": "display_data"
    }
   ],
   "source": [
    "plt.hist(test_pred_total_mean)"
   ]
  },
  {
   "cell_type": "code",
   "execution_count": 53,
   "metadata": {
    "id": "KGlLsagWhQmz"
   },
   "outputs": [],
   "source": [
    "test_pred_total_mean = np.mean(test_pred_total, axis=(0))\n",
    "sample_submission = pd.read_csv('../sample_submission.csv')\n",
    "sample_submission['probability'] = test_pred_total_mean\n",
    "sample_submission.to_csv('CODE_recentgit_lgbmcat_cpu_mac_sunghyun+StandardScaler+addfeatures.csv', index=False)"
   ]
  }
 ],
 "metadata": {
  "accelerator": "GPU",
  "colab": {
   "gpuType": "T4",
   "provenance": []
  },
  "kernelspec": {
   "display_name": "Python 3",
   "language": "python",
   "name": "python3"
  },
  "language_info": {
   "codemirror_mode": {
    "name": "ipython",
    "version": 3
   },
   "file_extension": ".py",
   "mimetype": "text/x-python",
   "name": "python",
   "nbconvert_exporter": "python",
   "pygments_lexer": "ipython3",
   "version": "3.9.6"
  }
 },
 "nbformat": 4,
 "nbformat_minor": 4
}
