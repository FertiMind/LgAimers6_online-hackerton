{
 "cells": [
  {
   "cell_type": "code",
   "execution_count": 36,
   "metadata": {
    "colab": {
     "base_uri": "https://localhost:8080/"
    },
    "id": "0_-E_OuZQXqu",
    "outputId": "8f5cbcbb-5086-4ead-c817-9fdb22e3533b"
   },
   "outputs": [],
   "source": [
    "import random\n",
    "import os\n",
    "import pandas as pd\n",
    "import numpy as np\n",
    "\n",
    "from matplotlib import pyplot as plt\n",
    "import seaborn as sns\n",
    "from catboost import CatBoostClassifier\n",
    "import lightgbm as lgb\n",
    "\n",
    "import optuna\n",
    "from optuna import Trial\n",
    "from optuna.samplers import TPESampler\n",
    "from sklearn.model_selection import StratifiedKFold\n",
    "from sklearn.metrics import roc_auc_score\n",
    "from sklearn.utils.class_weight import compute_class_weight\n",
    "\n",
    "import warnings\n",
    "\n",
    "warnings.filterwarnings('ignore')"
   ]
  },
  {
   "cell_type": "code",
   "execution_count": 37,
   "metadata": {
    "id": "u2FSTwmUIkF5"
   },
   "outputs": [],
   "source": [
    "import os\n",
    "import logging\n",
    "\n",
    "def seed_everything(seed: int = 42):\n",
    "    random.seed(seed)\n",
    "    np.random.seed(seed)\n",
    "    os.environ[\"PYTHONHASHSEED\"] = str(seed)"
   ]
  },
  {
   "cell_type": "code",
   "execution_count": 38,
   "metadata": {
    "colab": {
     "base_uri": "https://localhost:8080/"
    },
    "id": "bbtq1EWyQcwX",
    "outputId": "ad146067-7509-44f2-ee26-cc8bc615473f"
   },
   "outputs": [
    {
     "data": {
      "text/plain": [
       "((256351, 68), (90067, 67))"
      ]
     },
     "execution_count": 38,
     "metadata": {},
     "output_type": "execute_result"
    }
   ],
   "source": [
    "train = pd.read_csv('../train.csv').drop(columns=['ID'])\n",
    "test = pd.read_csv('../test.csv').drop(columns=['ID'])\n",
    "train.shape, test.shape\n",
    "# train.loc[train['시술 당시 나이'] == '알 수 없음', '시술 당시 나이'] = '만43-44세'"
   ]
  },
  {
   "cell_type": "code",
   "execution_count": 39,
   "metadata": {
    "colab": {
     "base_uri": "https://localhost:8080/",
     "height": 178
    },
    "id": "x7kj8pMWSpd9",
    "outputId": "11cdbca0-3097-42aa-dd4e-52d7070ff5c9"
   },
   "outputs": [
    {
     "data": {
      "text/plain": [
       "임신 성공 여부\n",
       "0    190123\n",
       "1     66228\n",
       "Name: count, dtype: int64"
      ]
     },
     "execution_count": 39,
     "metadata": {},
     "output_type": "execute_result"
    }
   ],
   "source": [
    "train['임신 성공 여부'].value_counts()"
   ]
  },
  {
   "cell_type": "code",
   "execution_count": 40,
   "metadata": {
    "colab": {
     "base_uri": "https://localhost:8080/",
     "height": 335
    },
    "id": "EsL6VCeI_Q4D",
    "outputId": "32bd81c0-f1bf-4f45-8b2a-54bf8e66c1d1"
   },
   "outputs": [
    {
     "data": {
      "text/plain": [
       "시술 당시 나이\n",
       "만18-34세    102476\n",
       "만35-37세     57780\n",
       "만38-39세     39247\n",
       "만40-42세     37348\n",
       "만43-44세     12253\n",
       "만45-50세      6918\n",
       "알 수 없음        329\n",
       "Name: count, dtype: int64"
      ]
     },
     "execution_count": 40,
     "metadata": {},
     "output_type": "execute_result"
    }
   ],
   "source": [
    "# train['시술 당시 나이'] = train['시술 당시 나이'].replace('알 수 없음','만35-37세')\n",
    "# test['시술 당시 나이'] = test['시술 당시 나이'].replace('알 수 없음','만35-37세')\n",
    "\n",
    "train['시술 당시 나이'].value_counts()\n",
    "# train['']\n"
   ]
  },
  {
   "cell_type": "code",
   "execution_count": 41,
   "metadata": {
    "colab": {
     "base_uri": "https://localhost:8080/"
    },
    "id": "4xu4wqTwWgEO",
    "outputId": "8b21d1a6-d5ee-46ea-ab34-c6c2ec30bb19"
   },
   "outputs": [
    {
     "data": {
      "text/plain": [
       "((256351, 66), (90067, 65))"
      ]
     },
     "execution_count": 41,
     "metadata": {},
     "output_type": "execute_result"
    }
   ],
   "source": [
    "# drop_columns = ['착상 전 유전 검사 사용 여부',\n",
    "#                 'PGD 시술 여부', 'PGS 시술 여부', '난자 해동 경과일'] + ['배란 유도 유형', '불임 원인 - 자궁경부 문제', '불임 원인 - 정자 면역학적 요인','불임 원인 - 정자 운동성', '불임 원인 - 정자 형태']#\n",
    "drop_columns = ['난자 해동 경과일', '배란 유도 유형']\n",
    "train.drop(columns=drop_columns, inplace=True)\n",
    "test.drop(columns=drop_columns, inplace=True)\n",
    "\n",
    "train.shape, test.shape"
   ]
  },
  {
   "cell_type": "code",
   "execution_count": 42,
   "metadata": {
    "id": "q5k1E_a8a6LH"
   },
   "outputs": [],
   "source": [
    "nan_col_list = ['착상 전 유전 검사 사용 여부', '착상 전 유전 진단 사용 여부', 'PGD 시술 여부', 'PGS 시술 여부']\n",
    "for col in nan_col_list:\n",
    "    train[col] = train[col].fillna(0)\n",
    "    test[col] = test[col].fillna(0)"
   ]
  },
  {
   "cell_type": "code",
   "execution_count": 43,
   "metadata": {},
   "outputs": [],
   "source": [
    "# NEW: 착상 전 유전 검사/진단 관련 변수와 실제 시술 여부를 합쳐서 새로운 특성 생성\n",
    "train['PGS'] = train['착상 전 유전 검사 사용 여부'].astype(int) + train['PGS 시술 여부'].astype(int)\n",
    "test['PGS'] = test['착상 전 유전 검사 사용 여부'].astype(int) + test['PGS 시술 여부'].astype(int)\n",
    "\n",
    "train['PGD'] = train['착상 전 유전 진단 사용 여부'].astype(int) + train['PGD 시술 여부'].astype(int)\n",
    "test['PGD'] = test['착상 전 유전 진단 사용 여부'].astype(int) + test['PGD 시술 여부'].astype(int)"
   ]
  },
  {
   "cell_type": "code",
   "execution_count": 44,
   "metadata": {
    "colab": {
     "base_uri": "https://localhost:8080/"
    },
    "id": "_Q-1vJvMZVdO",
    "outputId": "c00dc096-9bb5-4d60-f38f-4908c4f8c858"
   },
   "outputs": [],
   "source": [
    "drop_columns2 = []\n",
    "for col in train.columns:\n",
    "    if len(train[col].value_counts()) == 1:\n",
    "        drop_columns2.append(col)"
   ]
  },
  {
   "cell_type": "code",
   "execution_count": 45,
   "metadata": {
    "colab": {
     "base_uri": "https://localhost:8080/"
    },
    "id": "Eb_P6B2RarRm",
    "outputId": "8648f15e-8a85-49bb-fb00-a83582492051"
   },
   "outputs": [
    {
     "name": "stdout",
     "output_type": "stream",
     "text": [
      "['불임 원인 - 여성 요인', '난자 채취 경과일']\n"
     ]
    },
    {
     "data": {
      "text/plain": [
       "((256351, 66), (90067, 65))"
      ]
     },
     "execution_count": 45,
     "metadata": {},
     "output_type": "execute_result"
    }
   ],
   "source": [
    "print(drop_columns2)\n",
    "train.drop(columns=drop_columns2, inplace=True)\n",
    "test.drop(columns=drop_columns2, inplace=True)\n",
    "\n",
    "train.shape, test.shape"
   ]
  },
  {
   "cell_type": "code",
   "execution_count": 46,
   "metadata": {
    "id": "YjAuM-pa6Ewz"
   },
   "outputs": [],
   "source": [
    "cat_to_int_dict = {'6회 이상' : 6, '5회' : 5, '4회' : 4, '3회' : 3, '2회' : 2, '1회' : 1, '0회' : 0}\n",
    "\n",
    "cat_to_int_columns = ['총 시술 횟수', '클리닉 내 총 시술 횟수', 'IVF 시술 횟수','DI 시술 횟수', 'DI 임신 횟수' ,'DI 출산 횟수',\n",
    "                      '총 임신 횟수', 'IVF 임신 횟수', '총 출산 횟수', 'IVF 출산 횟수'] #\n",
    "for col in cat_to_int_columns:\n",
    "    train[col] = train[col].map(cat_to_int_dict)\n",
    "    test[col] = test[col].map(cat_to_int_dict)"
   ]
  },
  {
   "cell_type": "code",
   "execution_count": 47,
   "metadata": {},
   "outputs": [],
   "source": [
    "# 5. Binning(구간화) 예시\n",
    "# 예: 임신 시도 또는 마지막 임신 경과 연수\n",
    "if '임신 시도 또는 마지막 임신 경과 연수' in train.columns:\n",
    "    bins = [-0.1, 0.9, 3, 6, 10, 20]  # 0 이하, 1~3, 4~6, 7~10, 11~20\n",
    "    labels = ['0년 이하','1~3년','4~6년','7~10년','11~20년']\n",
    "    train['임신시도_bin'] = pd.cut(train['임신 시도 또는 마지막 임신 경과 연수'], bins=bins, labels=labels)\n",
    "    test['임신시도_bin']  = pd.cut(test['임신 시도 또는 마지막 임신 경과 연수'],  bins=bins, labels=labels)\n",
    "\n",
    "# 예: 총 생성 배아 수 (0~20, 21이상 구간)\n",
    "if '총 생성 배아 수' in train.columns:\n",
    "    bins = [-0.1, 0, 5, 10, 15, 20, 999]\n",
    "    labels = ['0','1~5','6~10','11~15','16~20','21이상']\n",
    "    train['총_생성_배아_bin'] = pd.cut(train['총 생성 배아 수'], bins=bins, labels=labels)\n",
    "    test['총_생성_배아_bin']  = pd.cut(test['총 생성 배아 수'],  bins=bins, labels=labels)\n",
    "\n",
    "# 6. 희소 범주(rare categories) 병합 예시\n",
    "def merge_rare_categories(series, min_count=100):\n",
    "    \"\"\"\n",
    "    시리즈 내에서 출현 횟수가 min_count 미만인 카테고리를\n",
    "    모두 '기타' 카테고리로 통합\n",
    "    \"\"\"\n",
    "    value_counts = series.value_counts(dropna=False)\n",
    "    rare_cats = value_counts[value_counts < min_count].index\n",
    "    return series.replace(rare_cats, '기타')\n",
    "\n",
    "\n",
    "rare_merge_cols = ['특정 시술 유형', '배아 생성 주요 이유']\n",
    "for col in rare_merge_cols:\n",
    "    if col in train.columns:\n",
    "        train[col] = merge_rare_categories(train[col], min_count=100)\n",
    "    if col in test.columns:\n",
    "        test[col] = merge_rare_categories(test[col], min_count=100)\n",
    "train.drop(columns =['임신 시도 또는 마지막 임신 경과 연수'],inplace = True )\n",
    "test.drop(columns =['임신 시도 또는 마지막 임신 경과 연수'],inplace = True )\n"
   ]
  },
  {
   "cell_type": "code",
   "execution_count": 48,
   "metadata": {
    "id": "f-mBaoLO4ffA"
   },
   "outputs": [],
   "source": [
    "procedure_encoding_dict = {'ICSI' : 'ICSI', 'IVF' : 'IVF', 'Unknown' : 'Unknown','IUI' : 'IUI',\n",
    "                           'ICSI:ICSI' : 'ICSI', 'ICSI / BLASTOCYST ' : 'ICSI / BLASTOCYST',\n",
    "                           'IVF / BLASTOCYST' : 'IVF / BLASTOCYST','IVF:IVF' : 'IVF','ICSI:IVF' : 'ICSI:IVF',\n",
    "                           'ICSI / AH' : 'ICSI / AH','IVF:ICSI' : 'ICSI:IVF', 'IVF / AH' : 'IVF / AH',\n",
    "                           'ICSI:Unknown' : 'ICSI', 'IVF:Unknown' : 'IVF', 'ICI' : 'ICI','Generic DI' : 'Generic DI',\n",
    "                           'IVI' : 'IVI','ICSI / BLASTOCYST:IVF / BLASTOCYST' : 'ICSI / BLASTOCYST:IVF / BLASTOCYST',\n",
    "                           'ICSI / BLASTOCYST :IVF / BLASTOCYST': 'ICSI / BLASTOCYST:IVF / BLASTOCYST','FER' : 'FER',\n",
    "                           'IVF / AH:ICSI / AH' : 'IVF / AH:ICSI / AH','GIFT':'GIFT','ICSI / AH:Unknown' : 'ICSI / AH',\n",
    "                           'ICSI / BLASTOCYST :ICSI' : 'ICSI / BLASTOCYST', 'IUI:ICI' : 'IUI:ICI',\n",
    "                           'IVF:Unknown:Unknown:Unknown' : 'IVF'}\n",
    "\n",
    "train['특정 시술 유형'] = train['특정 시술 유형'].map(procedure_encoding_dict)\n",
    "test['특정 시술 유형'] = test['특정 시술 유형'].map(procedure_encoding_dict)"
   ]
  },
  {
   "cell_type": "code",
   "execution_count": 49,
   "metadata": {
    "id": "UEU77iWib0U_"
   },
   "outputs": [],
   "source": [
    "train['불임 원인 - 정자 요인'] = train['불임 원인 - 정자 면역학적 요인'] + train['불임 원인 - 정자 운동성'] + train['불임 원인 - 정자 농도']  + train['불임 원인 - 정자 형태']\n",
    "test['불임 원인 - 정자 요인'] = test['불임 원인 - 정자 면역학적 요인'] + test['불임 원인 - 정자 운동성'] + test['불임 원인 - 정자 농도'] + test['불임 원인 - 정자 형태']\n",
    "train['불임 원인 - 여성 요인'] = train['불임 원인 - 자궁경부 문제'] + train['불임 원인 - 자궁내막증'] + train['불임 원인 - 배란 장애'] + train['불임 원인 - 난관 질환']\n",
    "test['불임 원인 - 여성 요인'] = test['불임 원인 - 자궁경부 문제'] + test['불임 원인 - 자궁내막증'] + test['불임 원인 - 배란 장애'] + test['불임 원인 - 난관 질환']\n",
    "\n",
    "train['남성 불임 원인'] = train['남성 주 불임 원인'] + train['남성 부 불임 원인']\n",
    "test['남성 불임 원인'] = test['남성 주 불임 원인'] + test['남성 부 불임 원인']\n",
    "train['여성 불임 원인'] = train['여성 주 불임 원인'] + train['여성 부 불임 원인']\n",
    "test['여성 불임 원인'] = test['여성 주 불임 원인'] + test['여성 부 불임 원인']\n",
    "train['부부 불임 원인'] = train['부부 주 불임 원인'] + train['부부 부 불임 원인']\n",
    "test['부부 불임 원인'] = test['부부 주 불임 원인'] + test['부부 부 불임 원인']\n",
    "\n",
    "\n",
    "drop_columns3 = ['불임 원인 - 정자 면역학적 요인', '불임 원인 - 정자 운동성', '불임 원인 - 정자 형태', '불임 원인 - 자궁경부 문제',\n",
    "                 '남성 주 불임 원인', '남성 부 불임 원인', '여성 주 불임 원인', '여성 부 불임 원인',\n",
    "                 '부부 주 불임 원인', '부부 부 불임 원인']\n",
    "train.drop(columns=drop_columns3, inplace=True)\n",
    "test.drop(columns=drop_columns3, inplace=True)"
   ]
  },
  {
   "cell_type": "code",
   "execution_count": 50,
   "metadata": {},
   "outputs": [],
   "source": [
    "# train.drop(columns =['임신 시도 또는 마지막 임신 경과 연수'],inplace = True )\n",
    "# test.drop(columns =['임신 시도 또는 마지막 임신 경과 연수'],inplace = True )"
   ]
  },
  {
   "cell_type": "code",
   "execution_count": 51,
   "metadata": {
    "colab": {
     "base_uri": "https://localhost:8080/"
    },
    "id": "kjEBmjSkbL5j",
    "outputId": "b3db516d-031e-42fc-89bb-a3218d8bd879"
   },
   "outputs": [
    {
     "data": {
      "text/plain": [
       "Index(['시술 시기 코드', '시술 당시 나이', '시술 유형', '특정 시술 유형', '배란 자극 여부', '단일 배아 이식 여부',\n",
       "       '착상 전 유전 검사 사용 여부', '착상 전 유전 진단 사용 여부', '불명확 불임 원인', '불임 원인 - 난관 질환',\n",
       "       '불임 원인 - 남성 요인', '불임 원인 - 배란 장애', '불임 원인 - 자궁내막증', '불임 원인 - 정자 농도',\n",
       "       '배아 생성 주요 이유', '총 시술 횟수', '클리닉 내 총 시술 횟수', 'IVF 시술 횟수', 'DI 시술 횟수',\n",
       "       '총 임신 횟수', 'IVF 임신 횟수', 'DI 임신 횟수', '총 출산 횟수', 'IVF 출산 횟수', 'DI 출산 횟수',\n",
       "       '총 생성 배아 수', '미세주입된 난자 수', '미세주입에서 생성된 배아 수', '이식된 배아 수',\n",
       "       '미세주입 배아 이식 수', '저장된 배아 수', '미세주입 후 저장된 배아 수', '해동된 배아 수', '해동 난자 수',\n",
       "       '수집된 신선 난자 수', '저장된 신선 난자 수', '혼합된 난자 수', '파트너 정자와 혼합된 난자 수',\n",
       "       '기증자 정자와 혼합된 난자 수', '난자 출처', '정자 출처', '난자 기증자 나이', '정자 기증자 나이',\n",
       "       '동결 배아 사용 여부', '신선 배아 사용 여부', '기증 배아 사용 여부', '대리모 여부', 'PGD 시술 여부',\n",
       "       'PGS 시술 여부', '난자 혼합 경과일', '배아 이식 경과일', '배아 해동 경과일', '임신 성공 여부', 'PGS',\n",
       "       'PGD', '임신시도_bin', '총_생성_배아_bin', '불임 원인 - 정자 요인', '불임 원인 - 여성 요인',\n",
       "       '남성 불임 원인', '여성 불임 원인', '부부 불임 원인'],\n",
       "      dtype='object')"
      ]
     },
     "execution_count": 51,
     "metadata": {},
     "output_type": "execute_result"
    }
   ],
   "source": [
    "train.columns"
   ]
  },
  {
   "cell_type": "code",
   "execution_count": 52,
   "metadata": {
    "id": "64dAkKrBayFA"
   },
   "outputs": [],
   "source": [
    "# categorical_columns = [\"시술 시기 코드\",\"시술 당시 나이\", \"시술 유형\", \"특정 시술 유형\",\"배란 자극 여부\",\n",
    "                      #  \"단일 배아 이식 여부\",\"착상 전 유전 진단 사용 여부\",\n",
    "                      #  \"남성 주 불임 원인\",\"남성 부 불임 원인\",\"여성 주 불임 원인\",\"여성 부 불임 원인\",\n",
    "                      #  \"부부 주 불임 원인\",\"부부 부 불임 원인\",\"불명확 불임 원인\",\"불임 원인 - 난관 질환\",\n",
    "                      #  \"불임 원인 - 남성 요인\",\"불임 원인 - 배란 장애\",\"불임 원인 - 자궁경부 문제\",\"불임 원인 - 자궁내막증\",\n",
    "                      #  \"불임 원인 - 정자 농도\",\"불임 원인 - 정자 면역학적 요인\",\"불임 원인 - 정자 운동성\",\"불임 원인 - 정자 형태\",\n",
    "                      #  \"배아 생성 주요 이유\",\"총 시술 횟수\",\"클리닉 내 총 시술 횟수\",\"IVF 시술 횟수\",\"DI 시술 횟수\",\n",
    "                      #  \"총 임신 횟수\",\"IVF 임신 횟수\",\"DI 임신 횟수\",\"총 출산 횟수\",\"IVF 출산 횟수\",\"DI 출산 횟수\",\n",
    "                      #  \"난자 출처\",\"정자 출처\",\"난자 기증자 나이\",\"정자 기증자 나이\",\n",
    "                      #  \"동결 배아 사용 여부\",\"신선 배아 사용 여부\",\"기증 배아 사용 여부\",\"대리모 여부\"]\n",
    "categorical_columns =  [\"시술 시기 코드\",\"시술 당시 나이\",\"시술 유형\", \"특정 시술 유형\",\n",
    "                        \"배란 자극 여부\", \"단일 배아 이식 여부\", '착상 전 유전 검사 사용 여부',\"착상 전 유전 진단 사용 여부\",\n",
    "                       \"불명확 불임 원인\",\"배아 생성 주요 이유\",\n",
    "                        \"불임 원인 - 난관 질환\",\"불임 원인 - 남성 요인\",\"불임 원인 - 배란 장애\",\n",
    "                        \"불임 원인 - 자궁내막증\",'불임 원인 - 정자 농도',\"난자 출처\",\"정자 출처\",\"난자 기증자 나이\",\"정자 기증자 나이\",\n",
    "                       \"동결 배아 사용 여부\",\"신선 배아 사용 여부\", '기증 배아 사용 여부',\"대리모 여부\",\n",
    "                        'PGD 시술 여부', '총_생성_배아_bin','PGS 시술 여부', '불임 원인 - 정자 요인', '불임 원인 - 여성 요인',  '남성 불임 원인', '여성 불임 원인', '부부 불임 원인',\"임신시도_bin\"] #\n",
    "# \"남성 주 불임 원인\",\"남성 부 불임 원인\",\"여성 주 불임 원인\",\"여성 부 불임 원인\",\n",
    "#                       \"부부 주 불임 원인\",\"부부 부 불임 원인\",\n",
    "\n",
    "for col in categorical_columns:\n",
    "    if train[col].isna().sum() > 0 or test[col].isna().sum() > 0 :\n",
    "\n",
    "      mode_value = train[col].mode()[0]\n",
    "      train[col].fillna(mode_value, inplace=True)  # 최빈값으로 대체\n",
    "      test[col].fillna(mode_value, inplace = True)\n",
    "    train[col] = train[col].astype(str)\n",
    "    test[col] = test[col].astype(str)\n",
    "    #encoder = ce.OrdinalEncoder(handle_unknown='impute')\n",
    "    #encoder.fit(train[col])\n",
    "    #train[col] = encoder.transform(train[col])\n",
    "    #test[col] = encoder.transform(test[col])\n",
    "\n",
    "numeric_columns = [\"총 생성 배아 수\", \"총 시술 횟수\",\"클리닉 내 총 시술 횟수\",\"IVF 시술 횟수\",\"DI 시술 횟수\",\n",
    "                   \"총 임신 횟수\",\"IVF 임신 횟수\",\"DI 임신 횟수\",\"총 출산 횟수\",\"IVF 출산 횟수\",\"DI 출산 횟수\",\n",
    "                    '미세주입된 난자 수', '미세주입에서 생성된 배아 수', '이식된 배아 수', '미세주입 배아 이식 수', '저장된 배아 수',\n",
    "       '미세주입 후 저장된 배아 수', '해동된 배아 수', '해동 난자 수', '수집된 신선 난자 수', '저장된 신선 난자 수',\n",
    "       '혼합된 난자 수', '파트너 정자와 혼합된 난자 수', '기증자 정자와 혼합된 난자 수', '난자 혼합 경과일', '배아 이식 경과일', '배아 해동 경과일'] #\n",
    "\n",
    "# numeric_columns = [\"총 생성 배아 수\",\"미세주입된 난자 수\",\"미세주입에서 생성된 배아 수\",\n",
    "#                    \"이식된 배아 수\",\"미세주입 배아 이식 수\",\"저장된 배아 수\",\"미세주입 후 저장된 배아 수\",\n",
    "#                    \"수집된 신선 난자 수\",\"혼합된 난자 수\",\"파트너 정자와 혼합된 난자 수\",\n",
    "#                    \"기증자 정자와 혼합된 난자 수\",\"배아 이식 경과일\"]\n",
    "\n",
    "# DI 시술인 경우, 배아 관련 수치형 변수에 대해 결측치를 0으로 보간\n",
    "# embryo_cols = [\"이식된 배아 수\", \"미세주입 배아 이식 수\", \"배아 이식 경과일\", \"배아 해동 경과일\",\n",
    "#                \"미세주입에서 생성된 배아 수\", \"저장된 배아 수\", \"미세주입 후 저장된 배아 수\", \"해동된 배아 수\"]\n",
    "# di_mask_train = train[\"시술 유형\"] == \"DI\"\n",
    "# di_mask_test = test[\"시술 유형\"] == \"DI\"\n",
    "# for col in embryo_cols:\n",
    "#     if col in train.columns:\n",
    "#         train.loc[di_mask_train, col] = train.loc[di_mask_train, col].fillna(0)\n",
    "#     if col in test.columns:\n",
    "#         test.loc[di_mask_test, col] = test.loc[di_mask_test, col].fillna(0)\n",
    "\n",
    "for col in numeric_columns:\n",
    "  if train[col].isna().sum():\n",
    "    if train[col].isna().sum() >= len(train)*0.5: # 결측치가 절반이 넘어갈 경우\n",
    "      train[col].fillna(-1, inplace=True)  # -1로 대체\n",
    "      test[col].fillna(-1, inplace = True)\n",
    "    else:\n",
    "      mode_value = train[col].mode()[0]  # 최빈값 구하기\n",
    "      train[col].fillna(mode_value, inplace=True)  # 최빈값으로 대체\n",
    "      test[col].fillna(mode_value, inplace = True)\n"
   ]
  },
  {
   "cell_type": "code",
   "execution_count": 53,
   "metadata": {
    "colab": {
     "base_uri": "https://localhost:8080/"
    },
    "id": "rrQrzq0H_QfV",
    "outputId": "255208d3-85ca-4d21-d9d0-eb8dccc27e6d"
   },
   "outputs": [
    {
     "data": {
      "text/plain": [
       "59"
      ]
     },
     "execution_count": 53,
     "metadata": {},
     "output_type": "execute_result"
    }
   ],
   "source": [
    "len(categorical_columns) + len(numeric_columns)"
   ]
  },
  {
   "cell_type": "code",
   "execution_count": 54,
   "metadata": {
    "id": "CI8IOlCFVXGY"
   },
   "outputs": [],
   "source": [
    "def make_feature(df):\n",
    "  #df['연령 가중치'] = df['시술 당시 나이'].map(age_weight_dict)\n",
    "\n",
    "  #df['난자 활용률'] = df['미세주입된 난자 수'] / (df['수집된 신선 난자 수'] + df['해동 난자 수'] + 1)\n",
    "  df['미세주입 배아 생성률'] = (df['미세주입에서 생성된 배아 수']) / (df['미세주입된 난자 수'] + 1)\n",
    "  df['미세주입 배아 이식률'] = (df['미세주입 배아 이식 수']) / (df['미세주입에서 생성된 배아 수'] + 1)\n",
    "  df['배아 이식률'] = (df['이식된 배아 수']) / (df['총 생성 배아 수'] + 1)\n",
    "  df['저장 배아 비율'] = (df['저장된 배아 수'])/ (df['총 생성 배아 수'] + 1)\n",
    "  df['해동 배아 생존율'] = (df['해동된 배아 수'])/ (df['총 생성 배아 수'] + 1)\n",
    "  df['파트너 정자 혼합 비율'] = (df['파트너 정자와 혼합된 난자 수']) / (df['혼합된 난자 수'] + 1)\n",
    "\n",
    "  # df['저장 배아 비율2'] = (df['저장된 배아 수'])/ (df['이식된 배아 수'] + 1)\n",
    "  # df['해동 배아 생존율2'] = (df['해동된 배아 수'])/ (df['이식된 배아 수'] + 1)\n",
    "  # df['미세주입 배아 이식 비율'] = df['미세주입 배아 이식 수'] / (df['이식된 배아 수'] + 1)\n",
    "  #df['나이보정 배아 이식 수'] = df['이식된 배아 수']*df['연령 가중치']\n",
    "\n",
    "  df['임신 성공률'] = (df['총 임신 횟수']) / (df['총 시술 횟수'] + 1)\n",
    "  #df['IVF 시술 성공률'] = (df['IVF 임신 횟수'])/ (df['IVF 시술 횟수'] + 1)\n",
    "  #df['DI 시술 성공률'] = (df['DI 임신 횟수']) / (df['DI 시술 횟수'] + 1)\n",
    "  df['출산율'] = df['총 출산 횟수'] / (df['총 임신 횟수'] + 1)\n",
    "  #df['IVF 출산율'] = df['IVF 출산 횟수'] / (df['IVF 임신 횟수'] + 1)\n",
    "  #df['DI 출산율'] = df['DI 출산 횟수'] / (df['DI 임신 횟수'] + 1)\n",
    "  #df['시술 기준 출산 성공률'] = df['총 출산 횟수'] / (df['총 시술 횟수'] + 1)\n",
    "\n",
    "  #df = df.drop(columns = ['연령 가중치'])\n",
    "\n",
    "  return df"
   ]
  },
  {
   "cell_type": "code",
   "execution_count": 55,
   "metadata": {
    "colab": {
     "base_uri": "https://localhost:8080/"
    },
    "id": "_VNPbGSR4h_I",
    "outputId": "44e7b9c5-1948-417e-b02a-64267fb91fae"
   },
   "outputs": [
    {
     "data": {
      "text/plain": [
       "((256351, 69), (90067, 69))"
      ]
     },
     "execution_count": 55,
     "metadata": {},
     "output_type": "execute_result"
    }
   ],
   "source": [
    "X = train.drop('임신 성공 여부', axis=1)\n",
    "y = train['임신 성공 여부']\n",
    "\n",
    "X = make_feature(X)\n",
    "test = make_feature(test)\n",
    "\n",
    "X.shape, test.shape"
   ]
  },
  {
   "cell_type": "code",
   "execution_count": 56,
   "metadata": {},
   "outputs": [
    {
     "data": {
      "text/plain": [
       "((256351, 69), (90067, 69))"
      ]
     },
     "execution_count": 56,
     "metadata": {},
     "output_type": "execute_result"
    }
   ],
   "source": [
    "from sklearn.preprocessing import StandardScaler\n",
    "scaler = StandardScaler()\n",
    "# 수치형 변수(정수, 실수)를 선택하여 스케일링\n",
    "numeric_cols = X.select_dtypes(include=['int64', 'float64']).columns\n",
    "X[numeric_cols] = scaler.fit_transform(X[numeric_cols])\n",
    "test[numeric_cols] = scaler.transform(test[numeric_cols])\n",
    "\n",
    "X.shape, test.shape"
   ]
  },
  {
   "cell_type": "code",
   "execution_count": 57,
   "metadata": {
    "colab": {
     "base_uri": "https://localhost:8080/",
     "height": 178
    },
    "id": "1WNQj2e8ukWK",
    "outputId": "039cab20-93c0-4ab4-f8a6-8098c62dc87f"
   },
   "outputs": [
    {
     "data": {
      "text/plain": [
       "임신 성공 여부\n",
       "0    190123\n",
       "1     66228\n",
       "Name: count, dtype: int64"
      ]
     },
     "execution_count": 57,
     "metadata": {},
     "output_type": "execute_result"
    }
   ],
   "source": [
    "y.value_counts()"
   ]
  },
  {
   "cell_type": "code",
   "execution_count": 58,
   "metadata": {},
   "outputs": [],
   "source": [
    "if not os.path.exists('./weight'):\n",
    "    os.makedirs('./weight')"
   ]
  },
  {
   "cell_type": "code",
   "execution_count": 59,
   "metadata": {
    "id": "nsRZfmFixgqm"
   },
   "outputs": [],
   "source": [
    "from sklearn.utils.class_weight import compute_class_weight\n",
    "def objective_cat(trial):\n",
    "    global best_val_auc\n",
    "    cbrm_param = {\n",
    "        'iterations':trial.suggest_int(\"iterations\", 1500, 3000),\n",
    "        'depth':trial.suggest_int(\"depth\", 4, 10),\n",
    "        'learning_rate' : trial.suggest_float('learning_rate',0.005, 0.1),\n",
    "        'l2_leaf_reg': trial.suggest_float(\"l2_leaf_reg\", 1e-4, 100.0, log=True),\n",
    "        'early_stopping_rounds': 300\n",
    "    }\n",
    "\n",
    "    # Generate model\n",
    "    model_cat = CatBoostClassifier(**cbrm_param, auto_class_weights='Balanced', eval_metric='AUC', random_state=seed)\n",
    "    model_cat.fit(X_train,\n",
    "          y_train,\n",
    "          cat_features=categorical_columns,\n",
    "          early_stopping_rounds= 300,\n",
    "          eval_set=[(X_val,y_val)],\n",
    "          verbose = 300)\n",
    "    \n",
    "    val_auc = model_cat.get_best_score()[\"validation\"][\"AUC\"]\n",
    "    best_model_path = \"./weight/cat_fold_cpu{}.cbm\".format(idx)\n",
    "    if val_auc > best_val_auc:\n",
    "        best_val_auc = val_auc\n",
    "        model_cat.save_model(best_model_path)\n",
    "        print('저장 완료')\n",
    "\n",
    "    return val_auc\n",
    "\n",
    "def objective_lgbm(trial):\n",
    "\n",
    "    lgbm_params = {\n",
    "         #'num_leaves': trial.suggest_int('num_leaves', 2, 1024, step=1),\n",
    "         #'max_depth': trial.suggest_int('max_depth', 3, 18, step=1),\n",
    "          \"num_iterations\": trial.suggest_int(\"num_iterations\", 1500, 3000),\n",
    "        \"objective\":  trial.suggest_categorical(\"objective\", [\"binary\"]),\n",
    "         \"metric\":  trial.suggest_categorical(\"metric\", [\"auc\"]),\n",
    "        #  \"random_state\":  trial.suggest_int('random_state', 42, 42),\n",
    "        \"random_state\": seed,\n",
    "        \"verbose\":  trial.suggest_int('verbose', -1, -1),\n",
    "        'learning_rate': trial.suggest_float('learning_rate', 0.005, 0.1, log=True),\n",
    "        'n_estimators': trial.suggest_int('n_estimators', 100, 2000),\n",
    "        'min_child_samples': trial.suggest_int('min_child_samples', 10, 50, step=5),\n",
    "        'subsample': trial.suggest_float('subsample', 0.5, 1.0, step=0.1),\n",
    "        'colsample_bytree': trial.suggest_float('colsample_bytree', 0.5, 1.0, step=0.1),\n",
    "    }\n",
    "\n",
    "    # Generate model\n",
    "\n",
    "    class_weights = compute_class_weight(class_weight=\"balanced\", classes=np.unique(y), y=y_train)\n",
    "    class_weight_dict = {i: w for i, w in enumerate(class_weights)}\n",
    "\n",
    "    model_lgbm = lgb.LGBMClassifier(**lgbm_params, class_weight=class_weight_dict)\n",
    "\n",
    "    model_lgbm.fit(X_train, y_train,eval_set=[(X_val, y_val)],categorical_feature=categorical_columns)\n",
    "\n",
    "    return model_lgbm.best_score_['valid_0']['auc']"
   ]
  },
  {
   "cell_type": "code",
   "execution_count": 60,
   "metadata": {
    "colab": {
     "base_uri": "https://localhost:8080/"
    },
    "id": "NsuYwQX28LzT",
    "outputId": "392153b7-08f0-4feb-9a83-6016732f894c",
    "scrolled": true,
    "tags": []
   },
   "outputs": [
    {
     "name": "stderr",
     "output_type": "stream",
     "text": [
      "[I 2025-02-26 17:31:06,882] A new study created in memory with name: no-name-02de5c0c-0544-43bf-857e-ab90b0584d83\n"
     ]
    },
    {
     "name": "stdout",
     "output_type": "stream",
     "text": [
      "Seed 4972 Start!\n",
      "==================================================\n",
      "0:\ttest: 0.7226969\tbest: 0.7226969 (0)\ttotal: 161ms\tremaining: 6m 19s\n",
      "300:\ttest: 0.7389440\tbest: 0.7389440 (300)\ttotal: 38.7s\tremaining: 4m 25s\n",
      "600:\ttest: 0.7403148\tbest: 0.7403264 (595)\ttotal: 1m 20s\tremaining: 3m 56s\n",
      "900:\ttest: 0.7407689\tbest: 0.7407857 (874)\ttotal: 2m 3s\tremaining: 3m 21s\n",
      "1200:\ttest: 0.7408894\tbest: 0.7409179 (1070)\ttotal: 2m 49s\tremaining: 2m 44s\n",
      "1500:\ttest: 0.7410769\tbest: 0.7410924 (1490)\ttotal: 3m 41s\tremaining: 2m 7s\n",
      "1800:\ttest: 0.7410359\tbest: 0.7411490 (1559)\ttotal: 4m 34s\tremaining: 1m 26s\n"
     ]
    },
    {
     "name": "stderr",
     "output_type": "stream",
     "text": [
      "[I 2025-02-26 17:35:51,960] Trial 0 finished with value: 0.7411490087295263 and parameters: {'iterations': 2366, 'depth': 10, 'learning_rate': 0.01181021951839225, 'l2_leaf_reg': 9.980783802743254}. Best is trial 0 with value: 0.7411490087295263.\n"
     ]
    },
    {
     "name": "stdout",
     "output_type": "stream",
     "text": [
      "Stopped by overfitting detector  (300 iterations wait)\n",
      "\n",
      "bestTest = 0.7411490087\n",
      "bestIteration = 1559\n",
      "\n",
      "Shrink model to first 1560 iterations.\n",
      "저장 완료\n",
      "0:\ttest: 0.6965597\tbest: 0.6965597 (0)\ttotal: 68.3ms\tremaining: 2m 29s\n",
      "300:\ttest: 0.7309489\tbest: 0.7309489 (300)\ttotal: 13.9s\tremaining: 1m 27s\n"
     ]
    },
    {
     "name": "stderr",
     "output_type": "stream",
     "text": [
      "Training has stopped (degenerate solution on iteration 424, probably too small l2-regularization, try to increase it)\n",
      "[I 2025-02-26 17:36:12,060] Trial 1 finished with value: 0.7326510483989915 and parameters: {'iterations': 2193, 'depth': 4, 'learning_rate': 0.005671430811678843, 'l2_leaf_reg': 0.00012325230809466137}. Best is trial 0 with value: 0.7411490087295263.\n"
     ]
    },
    {
     "name": "stdout",
     "output_type": "stream",
     "text": [
      "\n",
      "bestTest = 0.7326510484\n",
      "bestIteration = 423\n",
      "\n",
      "Shrink model to first 424 iterations.\n",
      "0:\ttest: 0.6965597\tbest: 0.6965597 (0)\ttotal: 51.8ms\tremaining: 2m 11s\n",
      "300:\ttest: 0.7407950\tbest: 0.7408506 (297)\ttotal: 15.4s\tremaining: 1m 54s\n",
      "600:\ttest: 0.7410446\tbest: 0.7411391 (451)\ttotal: 31.2s\tremaining: 1m 40s\n"
     ]
    },
    {
     "name": "stderr",
     "output_type": "stream",
     "text": [
      "[I 2025-02-26 17:36:51,644] Trial 2 finished with value: 0.7411390582120283 and parameters: {'iterations': 2535, 'depth': 4, 'learning_rate': 0.09275339199839054, 'l2_leaf_reg': 0.0008705394248343123}. Best is trial 0 with value: 0.7411490087295263.\n"
     ]
    },
    {
     "name": "stdout",
     "output_type": "stream",
     "text": [
      "Stopped by overfitting detector  (300 iterations wait)\n",
      "\n",
      "bestTest = 0.7411390582\n",
      "bestIteration = 451\n",
      "\n",
      "Shrink model to first 452 iterations.\n",
      "0:\ttest: 0.6965597\tbest: 0.6965597 (0)\ttotal: 51.6ms\tremaining: 2m\n",
      "300:\ttest: 0.7372302\tbest: 0.7372302 (300)\ttotal: 15.7s\tremaining: 1m 45s\n",
      "600:\ttest: 0.7384931\tbest: 0.7385309 (587)\ttotal: 31.2s\tremaining: 1m 29s\n",
      "900:\ttest: 0.7387245\tbest: 0.7387937 (798)\ttotal: 47.2s\tremaining: 1m 15s\n",
      "1200:\ttest: 0.7388884\tbest: 0.7389703 (1081)\ttotal: 1m 3s\tremaining: 59.9s\n"
     ]
    },
    {
     "name": "stderr",
     "output_type": "stream",
     "text": [
      "[I 2025-02-26 17:38:04,878] Trial 3 finished with value: 0.7389702662892692 and parameters: {'iterations': 2334, 'depth': 4, 'learning_rate': 0.04657568321363276, 'l2_leaf_reg': 0.0008640473331457248}. Best is trial 0 with value: 0.7411490087295263.\n"
     ]
    },
    {
     "name": "stdout",
     "output_type": "stream",
     "text": [
      "Stopped by overfitting detector  (300 iterations wait)\n",
      "\n",
      "bestTest = 0.7389702663\n",
      "bestIteration = 1081\n",
      "\n",
      "Shrink model to first 1082 iterations.\n",
      "0:\ttest: 0.7201807\tbest: 0.7201807 (0)\ttotal: 113ms\tremaining: 3m 16s\n",
      "300:\ttest: 0.7378597\tbest: 0.7378597 (300)\ttotal: 40.6s\tremaining: 3m 14s\n",
      "600:\ttest: 0.7383730\tbest: 0.7385258 (479)\ttotal: 1m 23s\tremaining: 2m 38s\n"
     ]
    },
    {
     "name": "stderr",
     "output_type": "stream",
     "text": [
      "[I 2025-02-26 17:39:53,562] Trial 4 finished with value: 0.7385257648400156 and parameters: {'iterations': 1742, 'depth': 10, 'learning_rate': 0.012622767482095846, 'l2_leaf_reg': 0.00021158816350109617}. Best is trial 0 with value: 0.7411490087295263.\n"
     ]
    },
    {
     "name": "stdout",
     "output_type": "stream",
     "text": [
      "Stopped by overfitting detector  (300 iterations wait)\n",
      "\n",
      "bestTest = 0.7385257648\n",
      "bestIteration = 479\n",
      "\n",
      "Shrink model to first 480 iterations.\n",
      "0:\ttest: 0.6965597\tbest: 0.6965597 (0)\ttotal: 60.6ms\tremaining: 2m 6s\n",
      "300:\ttest: 0.7400021\tbest: 0.7400021 (300)\ttotal: 15.2s\tremaining: 1m 29s\n",
      "600:\ttest: 0.7403250\tbest: 0.7404885 (457)\ttotal: 31s\tremaining: 1m 16s\n"
     ]
    },
    {
     "name": "stderr",
     "output_type": "stream",
     "text": [
      "[I 2025-02-26 17:40:33,208] Trial 5 finished with value: 0.7404884587537033 and parameters: {'iterations': 2082, 'depth': 4, 'learning_rate': 0.06995196593094148, 'l2_leaf_reg': 0.0018080296485396804}. Best is trial 0 with value: 0.7411490087295263.\n"
     ]
    },
    {
     "name": "stdout",
     "output_type": "stream",
     "text": [
      "Stopped by overfitting detector  (300 iterations wait)\n",
      "\n",
      "bestTest = 0.7404884588\n",
      "bestIteration = 457\n",
      "\n",
      "Shrink model to first 458 iterations.\n",
      "0:\ttest: 0.6981929\tbest: 0.6981929 (0)\ttotal: 58.6ms\tremaining: 1m 57s\n",
      "300:\ttest: 0.7405094\tbest: 0.7405094 (300)\ttotal: 18.9s\tremaining: 1m 46s\n",
      "600:\ttest: 0.7410055\tbest: 0.7410085 (595)\ttotal: 38.5s\tremaining: 1m 29s\n",
      "900:\ttest: 0.7410866\tbest: 0.7412274 (719)\ttotal: 58.3s\tremaining: 1m 10s\n"
     ]
    },
    {
     "name": "stderr",
     "output_type": "stream",
     "text": [
      "[I 2025-02-26 17:41:39,604] Trial 6 finished with value: 0.7412273740181696 and parameters: {'iterations': 1997, 'depth': 5, 'learning_rate': 0.07985155992831598, 'l2_leaf_reg': 62.52181000710482}. Best is trial 6 with value: 0.7412273740181696.\n"
     ]
    },
    {
     "name": "stdout",
     "output_type": "stream",
     "text": [
      "Stopped by overfitting detector  (300 iterations wait)\n",
      "\n",
      "bestTest = 0.741227374\n",
      "bestIteration = 719\n",
      "\n",
      "Shrink model to first 720 iterations.\n",
      "저장 완료\n",
      "0:\ttest: 0.7178501\tbest: 0.7178501 (0)\ttotal: 80.8ms\tremaining: 2m 35s\n",
      "300:\ttest: 0.7401691\tbest: 0.7408948 (206)\ttotal: 26.5s\tremaining: 2m 23s\n"
     ]
    },
    {
     "name": "stderr",
     "output_type": "stream",
     "text": [
      "[I 2025-02-26 17:42:25,394] Trial 7 finished with value: 0.7408948297881393 and parameters: {'iterations': 1927, 'depth': 7, 'learning_rate': 0.0941937211034094, 'l2_leaf_reg': 0.05654822767791934}. Best is trial 6 with value: 0.7412273740181696.\n"
     ]
    },
    {
     "name": "stdout",
     "output_type": "stream",
     "text": [
      "Stopped by overfitting detector  (300 iterations wait)\n",
      "\n",
      "bestTest = 0.7408948298\n",
      "bestIteration = 206\n",
      "\n",
      "Shrink model to first 207 iterations.\n",
      "0:\ttest: 0.7178501\tbest: 0.7178501 (0)\ttotal: 76ms\tremaining: 2m 24s\n",
      "300:\ttest: 0.7410290\tbest: 0.7410403 (299)\ttotal: 25.6s\tremaining: 2m 16s\n",
      "600:\ttest: 0.7412252\tbest: 0.7413886 (530)\ttotal: 53.2s\tremaining: 1m 55s\n"
     ]
    },
    {
     "name": "stderr",
     "output_type": "stream",
     "text": [
      "[I 2025-02-26 17:43:39,844] Trial 8 finished with value: 0.7413885914608884 and parameters: {'iterations': 1904, 'depth': 7, 'learning_rate': 0.05155602859187331, 'l2_leaf_reg': 1.299974533316308}. Best is trial 8 with value: 0.7413885914608884.\n"
     ]
    },
    {
     "name": "stdout",
     "output_type": "stream",
     "text": [
      "Stopped by overfitting detector  (300 iterations wait)\n",
      "\n",
      "bestTest = 0.7413885915\n",
      "bestIteration = 530\n",
      "\n",
      "Shrink model to first 531 iterations.\n",
      "저장 완료\n",
      "0:\ttest: 0.7179288\tbest: 0.7179288 (0)\ttotal: 72.6ms\tremaining: 3m 11s\n",
      "300:\ttest: 0.7400775\tbest: 0.7400775 (300)\ttotal: 21s\tremaining: 2m 43s\n",
      "600:\ttest: 0.7409271\tbest: 0.7409825 (584)\ttotal: 44.2s\tremaining: 2m 30s\n",
      "900:\ttest: 0.7408390\tbest: 0.7410016 (772)\ttotal: 1m 7s\tremaining: 2m 10s\n"
     ]
    },
    {
     "name": "stderr",
     "output_type": "stream",
     "text": [
      "[I 2025-02-26 17:45:01,405] Trial 9 finished with value: 0.7410016132147447 and parameters: {'iterations': 2639, 'depth': 6, 'learning_rate': 0.03968704290444751, 'l2_leaf_reg': 0.30557194377967184}. Best is trial 8 with value: 0.7413885914608884.\n"
     ]
    },
    {
     "name": "stdout",
     "output_type": "stream",
     "text": [
      "Stopped by overfitting detector  (300 iterations wait)\n",
      "\n",
      "bestTest = 0.7410016132\n",
      "bestIteration = 772\n",
      "\n",
      "Shrink model to first 773 iterations.\n",
      "0:\ttest: 0.7208587\tbest: 0.7208587 (0)\ttotal: 83.9ms\tremaining: 4m 6s\n",
      "300:\ttest: 0.7402044\tbest: 0.7402046 (299)\ttotal: 27.5s\tremaining: 4m 1s\n",
      "600:\ttest: 0.7409343\tbest: 0.7410526 (509)\ttotal: 58s\tremaining: 3m 46s\n"
     ]
    },
    {
     "name": "stderr",
     "output_type": "stream",
     "text": [
      "[I 2025-02-26 17:46:21,119] Trial 10 finished with value: 0.7410525530347692 and parameters: {'iterations': 2945, 'depth': 8, 'learning_rate': 0.032580115422505045, 'l2_leaf_reg': 0.87526046512315}. Best is trial 8 with value: 0.7413885914608884.\n"
     ]
    },
    {
     "name": "stdout",
     "output_type": "stream",
     "text": [
      "Stopped by overfitting detector  (300 iterations wait)\n",
      "\n",
      "bestTest = 0.741052553\n",
      "bestIteration = 509\n",
      "\n",
      "Shrink model to first 510 iterations.\n",
      "0:\ttest: 0.7179253\tbest: 0.7179253 (0)\ttotal: 65.4ms\tremaining: 1m 47s\n",
      "300:\ttest: 0.7408656\tbest: 0.7409030 (291)\ttotal: 21.2s\tremaining: 1m 34s\n",
      "600:\ttest: 0.7415207\tbest: 0.7415438 (590)\ttotal: 43.1s\tremaining: 1m 14s\n",
      "900:\ttest: 0.7415248\tbest: 0.7415970 (701)\ttotal: 1m 5s\tremaining: 54s\n"
     ]
    },
    {
     "name": "stderr",
     "output_type": "stream",
     "text": [
      "[I 2025-02-26 17:47:34,681] Trial 11 finished with value: 0.7415970361402875 and parameters: {'iterations': 1645, 'depth': 6, 'learning_rate': 0.06980778172048213, 'l2_leaf_reg': 73.1213351392818}. Best is trial 11 with value: 0.7415970361402875.\n"
     ]
    },
    {
     "name": "stdout",
     "output_type": "stream",
     "text": [
      "Stopped by overfitting detector  (300 iterations wait)\n",
      "\n",
      "bestTest = 0.7415970361\n",
      "bestIteration = 701\n",
      "\n",
      "Shrink model to first 702 iterations.\n",
      "저장 완료\n",
      "0:\ttest: 0.7178556\tbest: 0.7178556 (0)\ttotal: 79.6ms\tremaining: 2m 3s\n",
      "300:\ttest: 0.7408111\tbest: 0.7408111 (300)\ttotal: 24.8s\tremaining: 1m 43s\n",
      "600:\ttest: 0.7409128\tbest: 0.7410429 (545)\ttotal: 52.3s\tremaining: 1m 22s\n"
     ]
    },
    {
     "name": "stderr",
     "output_type": "stream",
     "text": [
      "[I 2025-02-26 17:48:49,685] Trial 12 finished with value: 0.7410428804646874 and parameters: {'iterations': 1553, 'depth': 7, 'learning_rate': 0.06294305307719734, 'l2_leaf_reg': 6.4688552126590215}. Best is trial 11 with value: 0.7415970361402875.\n"
     ]
    },
    {
     "name": "stdout",
     "output_type": "stream",
     "text": [
      "Stopped by overfitting detector  (300 iterations wait)\n",
      "\n",
      "bestTest = 0.7410428805\n",
      "bestIteration = 545\n",
      "\n",
      "Shrink model to first 546 iterations.\n",
      "0:\ttest: 0.7213133\tbest: 0.7213133 (0)\ttotal: 139ms\tremaining: 3m 44s\n",
      "300:\ttest: 0.7410293\tbest: 0.7410317 (296)\ttotal: 27.1s\tremaining: 1m 58s\n",
      "600:\ttest: 0.7413857\tbest: 0.7414365 (546)\ttotal: 58.1s\tremaining: 1m 37s\n",
      "900:\ttest: 0.7413097\tbest: 0.7415233 (699)\ttotal: 1m 29s\tremaining: 1m 10s\n"
     ]
    },
    {
     "name": "stderr",
     "output_type": "stream",
     "text": [
      "[I 2025-02-26 17:50:29,863] Trial 13 finished with value: 0.7415233403682353 and parameters: {'iterations': 1614, 'depth': 8, 'learning_rate': 0.06125191144809531, 'l2_leaf_reg': 55.074044317639256}. Best is trial 11 with value: 0.7415970361402875.\n"
     ]
    },
    {
     "name": "stdout",
     "output_type": "stream",
     "text": [
      "Stopped by overfitting detector  (300 iterations wait)\n",
      "\n",
      "bestTest = 0.7415233404\n",
      "bestIteration = 699\n",
      "\n",
      "Shrink model to first 700 iterations.\n",
      "0:\ttest: 0.7211195\tbest: 0.7211195 (0)\ttotal: 117ms\tremaining: 2m 58s\n",
      "300:\ttest: 0.7409670\tbest: 0.7409670 (299)\ttotal: 30.7s\tremaining: 2m 5s\n",
      "600:\ttest: 0.7409827\tbest: 0.7410310 (352)\ttotal: 1m 4s\tremaining: 1m 40s\n",
      "900:\ttest: 0.7410142\tbest: 0.7411297 (683)\ttotal: 1m 39s\tremaining: 1m 9s\n"
     ]
    },
    {
     "name": "stderr",
     "output_type": "stream",
     "text": [
      "[I 2025-02-26 17:52:18,700] Trial 14 finished with value: 0.7411296913841041 and parameters: {'iterations': 1533, 'depth': 9, 'learning_rate': 0.06537754406648674, 'l2_leaf_reg': 92.74223128282539}. Best is trial 11 with value: 0.7415970361402875.\n"
     ]
    },
    {
     "name": "stdout",
     "output_type": "stream",
     "text": [
      "Stopped by overfitting detector  (300 iterations wait)\n",
      "\n",
      "bestTest = 0.7411296914\n",
      "bestIteration = 683\n",
      "\n",
      "Shrink model to first 684 iterations.\n",
      "0:\ttest: 0.7208562\tbest: 0.7208562 (0)\ttotal: 89ms\tremaining: 2m 35s\n",
      "300:\ttest: 0.7394491\tbest: 0.7397687 (213)\ttotal: 29.1s\tremaining: 2m 19s\n"
     ]
    },
    {
     "name": "stderr",
     "output_type": "stream",
     "text": [
      "[I 2025-02-26 17:53:10,115] Trial 15 finished with value: 0.7397686543594357 and parameters: {'iterations': 1748, 'depth': 8, 'learning_rate': 0.0740693024426437, 'l2_leaf_reg': 0.026986971696484528}. Best is trial 11 with value: 0.7415970361402875.\n"
     ]
    },
    {
     "name": "stdout",
     "output_type": "stream",
     "text": [
      "Stopped by overfitting detector  (300 iterations wait)\n",
      "\n",
      "bestTest = 0.7397686544\n",
      "bestIteration = 213\n",
      "\n",
      "Shrink model to first 214 iterations.\n",
      "0:\ttest: 0.7179359\tbest: 0.7179359 (0)\ttotal: 65.6ms\tremaining: 1m 49s\n",
      "300:\ttest: 0.7410385\tbest: 0.7410522 (293)\ttotal: 22.2s\tremaining: 1m 40s\n",
      "600:\ttest: 0.7411009\tbest: 0.7412934 (373)\ttotal: 45.6s\tremaining: 1m 20s\n"
     ]
    },
    {
     "name": "stderr",
     "output_type": "stream",
     "text": [
      "[I 2025-02-26 17:54:01,541] Trial 16 finished with value: 0.7412934421189872 and parameters: {'iterations': 1664, 'depth': 6, 'learning_rate': 0.0808891958156232, 'l2_leaf_reg': 12.736017331457647}. Best is trial 11 with value: 0.7415970361402875.\n"
     ]
    },
    {
     "name": "stdout",
     "output_type": "stream",
     "text": [
      "Stopped by overfitting detector  (300 iterations wait)\n",
      "\n",
      "bestTest = 0.7412934421\n",
      "bestIteration = 373\n",
      "\n",
      "Shrink model to first 374 iterations.\n",
      "0:\ttest: 0.7213088\tbest: 0.7213088 (0)\ttotal: 78.3ms\tremaining: 2m 21s\n",
      "300:\ttest: 0.7409768\tbest: 0.7409768 (300)\ttotal: 28.1s\tremaining: 2m 20s\n",
      "600:\ttest: 0.7408216\tbest: 0.7411253 (352)\ttotal: 58.9s\tremaining: 1m 57s\n"
     ]
    },
    {
     "name": "stderr",
     "output_type": "stream",
     "text": [
      "[I 2025-02-26 17:55:05,954] Trial 17 finished with value: 0.7411252720201875 and parameters: {'iterations': 1805, 'depth': 8, 'learning_rate': 0.05776159026026767, 'l2_leaf_reg': 18.13147711398956}. Best is trial 11 with value: 0.7415970361402875.\n"
     ]
    },
    {
     "name": "stdout",
     "output_type": "stream",
     "text": [
      "Stopped by overfitting detector  (300 iterations wait)\n",
      "\n",
      "bestTest = 0.741125272\n",
      "bestIteration = 352\n",
      "\n",
      "Shrink model to first 353 iterations.\n",
      "0:\ttest: 0.7179288\tbest: 0.7179288 (0)\ttotal: 64.3ms\tremaining: 1m 38s\n",
      "300:\ttest: 0.7393934\tbest: 0.7393934 (300)\ttotal: 21.3s\tremaining: 1m 27s\n",
      "600:\ttest: 0.7408388\tbest: 0.7408388 (600)\ttotal: 43.8s\tremaining: 1m 7s\n",
      "900:\ttest: 0.7411364\tbest: 0.7411364 (900)\ttotal: 1m 6s\tremaining: 46.6s\n",
      "1200:\ttest: 0.7411272\tbest: 0.7411838 (1129)\ttotal: 1m 30s\tremaining: 24.8s\n"
     ]
    },
    {
     "name": "stderr",
     "output_type": "stream",
     "text": [
      "[I 2025-02-26 17:56:54,372] Trial 18 finished with value: 0.7411837640685766 and parameters: {'iterations': 1531, 'depth': 6, 'learning_rate': 0.028707279694609546, 'l2_leaf_reg': 1.6704850246426424}. Best is trial 11 with value: 0.7415970361402875.\n"
     ]
    },
    {
     "name": "stdout",
     "output_type": "stream",
     "text": [
      "Stopped by overfitting detector  (300 iterations wait)\n",
      "\n",
      "bestTest = 0.7411837641\n",
      "bestIteration = 1129\n",
      "\n",
      "Shrink model to first 1130 iterations.\n",
      "0:\ttest: 0.7206015\tbest: 0.7206015 (0)\ttotal: 124ms\tremaining: 4m 30s\n",
      "300:\ttest: 0.7353574\tbest: 0.7393481 (139)\ttotal: 33.6s\tremaining: 3m 30s\n"
     ]
    },
    {
     "name": "stderr",
     "output_type": "stream",
     "text": [
      "[I 2025-02-26 17:57:44,826] Trial 19 finished with value: 0.7393481437428728 and parameters: {'iterations': 2190, 'depth': 9, 'learning_rate': 0.08586504560971463, 'l2_leaf_reg': 0.006971472154688638}. Best is trial 11 with value: 0.7415970361402875.\n"
     ]
    },
    {
     "name": "stdout",
     "output_type": "stream",
     "text": [
      "Stopped by overfitting detector  (300 iterations wait)\n",
      "\n",
      "bestTest = 0.7393481437\n",
      "bestIteration = 139\n",
      "\n",
      "Shrink model to first 140 iterations.\n",
      "0:\ttest: 0.6981929\tbest: 0.6981929 (0)\ttotal: 60ms\tremaining: 2m 57s\n",
      "300:\ttest: 0.7402137\tbest: 0.7402400 (295)\ttotal: 18.4s\tremaining: 2m 43s\n",
      "600:\ttest: 0.7409190\tbest: 0.7409190 (600)\ttotal: 37.4s\tremaining: 2m 27s\n",
      "900:\ttest: 0.7411427\tbest: 0.7411673 (786)\ttotal: 57.1s\tremaining: 2m 10s\n",
      "1200:\ttest: 0.7412044\tbest: 0.7412332 (1045)\ttotal: 1m 16s\tremaining: 1m 53s\n"
     ]
    },
    {
     "name": "stderr",
     "output_type": "stream",
     "text": [
      "[I 2025-02-26 17:59:11,681] Trial 20 finished with value: 0.7412332069432312 and parameters: {'iterations': 2967, 'depth': 5, 'learning_rate': 0.05520347399304383, 'l2_leaf_reg': 33.273384858457675}. Best is trial 11 with value: 0.7415970361402875.\n"
     ]
    },
    {
     "name": "stdout",
     "output_type": "stream",
     "text": [
      "Stopped by overfitting detector  (300 iterations wait)\n",
      "\n",
      "bestTest = 0.7412332069\n",
      "bestIteration = 1045\n",
      "\n",
      "Shrink model to first 1046 iterations.\n",
      "0:\ttest: 0.7178501\tbest: 0.7178501 (0)\ttotal: 76.2ms\tremaining: 2m 26s\n",
      "300:\ttest: 0.7403631\tbest: 0.7403705 (298)\ttotal: 24.7s\tremaining: 2m 13s\n",
      "600:\ttest: 0.7407314\tbest: 0.7408082 (440)\ttotal: 51.7s\tremaining: 1m 53s\n"
     ]
    },
    {
     "name": "stderr",
     "output_type": "stream",
     "text": [
      "[I 2025-02-26 18:00:16,393] Trial 21 finished with value: 0.7408081578424305 and parameters: {'iterations': 1922, 'depth': 7, 'learning_rate': 0.04691626081051752, 'l2_leaf_reg': 2.77914608950911}. Best is trial 11 with value: 0.7415970361402875.\n"
     ]
    },
    {
     "name": "stdout",
     "output_type": "stream",
     "text": [
      "Stopped by overfitting detector  (300 iterations wait)\n",
      "\n",
      "bestTest = 0.7408081578\n",
      "bestIteration = 440\n",
      "\n",
      "Shrink model to first 441 iterations.\n",
      "0:\ttest: 0.7208589\tbest: 0.7208589 (0)\ttotal: 81.8ms\tremaining: 2m 29s\n",
      "300:\ttest: 0.7404313\tbest: 0.7404396 (292)\ttotal: 27.4s\tremaining: 2m 18s\n",
      "600:\ttest: 0.7402865\tbest: 0.7406980 (441)\ttotal: 57.8s\tremaining: 1m 57s\n"
     ]
    },
    {
     "name": "stderr",
     "output_type": "stream",
     "text": [
      "[I 2025-02-26 18:01:29,173] Trial 22 finished with value: 0.7406979715453159 and parameters: {'iterations': 1824, 'depth': 8, 'learning_rate': 0.04993410304729798, 'l2_leaf_reg': 0.5614745339813186}. Best is trial 11 with value: 0.7415970361402875.\n"
     ]
    },
    {
     "name": "stdout",
     "output_type": "stream",
     "text": [
      "Stopped by overfitting detector  (300 iterations wait)\n",
      "\n",
      "bestTest = 0.7406979715\n",
      "bestIteration = 441\n",
      "\n",
      "Shrink model to first 442 iterations.\n",
      "0:\ttest: 0.7178501\tbest: 0.7178501 (0)\ttotal: 77.1ms\tremaining: 2m 7s\n",
      "300:\ttest: 0.7404570\tbest: 0.7405214 (298)\ttotal: 25.4s\tremaining: 1m 54s\n",
      "600:\ttest: 0.7403415\tbest: 0.7407390 (449)\ttotal: 52.4s\tremaining: 1m 32s\n"
     ]
    },
    {
     "name": "stderr",
     "output_type": "stream",
     "text": [
      "[I 2025-02-26 18:02:35,296] Trial 23 finished with value: 0.7407389648185199 and parameters: {'iterations': 1657, 'depth': 7, 'learning_rate': 0.06332986668943112, 'l2_leaf_reg': 0.16692545318271604}. Best is trial 11 with value: 0.7415970361402875.\n"
     ]
    },
    {
     "name": "stdout",
     "output_type": "stream",
     "text": [
      "Stopped by overfitting detector  (300 iterations wait)\n",
      "\n",
      "bestTest = 0.7407389648\n",
      "bestIteration = 449\n",
      "\n",
      "Shrink model to first 450 iterations.\n",
      "0:\ttest: 0.7179310\tbest: 0.7179310 (0)\ttotal: 65.8ms\tremaining: 1m 50s\n",
      "300:\ttest: 0.7396080\tbest: 0.7396091 (298)\ttotal: 21.4s\tremaining: 1m 37s\n",
      "600:\ttest: 0.7407972\tbest: 0.7408147 (596)\ttotal: 44.3s\tremaining: 1m 19s\n",
      "900:\ttest: 0.7410925\tbest: 0.7411246 (883)\ttotal: 1m 7s\tremaining: 57.7s\n"
     ]
    },
    {
     "name": "stderr",
     "output_type": "stream",
     "text": [
      "[I 2025-02-26 18:04:04,499] Trial 24 finished with value: 0.7411246406824852 and parameters: {'iterations': 1674, 'depth': 6, 'learning_rate': 0.038657187348447655, 'l2_leaf_reg': 4.635803635356128}. Best is trial 11 with value: 0.7415970361402875.\n"
     ]
    },
    {
     "name": "stdout",
     "output_type": "stream",
     "text": [
      "Stopped by overfitting detector  (300 iterations wait)\n",
      "\n",
      "bestTest = 0.7411246407\n",
      "bestIteration = 883\n",
      "\n",
      "Shrink model to first 884 iterations.\n",
      "0:\ttest: 0.6981886\tbest: 0.6981886 (0)\ttotal: 55.6ms\tremaining: 1m 44s\n",
      "300:\ttest: 0.7407283\tbest: 0.7407321 (282)\ttotal: 18.2s\tremaining: 1m 35s\n",
      "600:\ttest: 0.7412086\tbest: 0.7412450 (551)\ttotal: 37.2s\tremaining: 1m 19s\n",
      "900:\ttest: 0.7413687\tbest: 0.7413689 (899)\ttotal: 56.3s\tremaining: 1m 1s\n",
      "1200:\ttest: 0.7415048\tbest: 0.7415466 (1166)\ttotal: 1m 15s\tremaining: 43s\n",
      "1500:\ttest: 0.7415149\tbest: 0.7415509 (1311)\ttotal: 1m 35s\tremaining: 24.2s\n"
     ]
    },
    {
     "name": "stderr",
     "output_type": "stream",
     "text": [
      "[I 2025-02-26 18:05:47,056] Trial 25 finished with value: 0.7415508889278527 and parameters: {'iterations': 1883, 'depth': 5, 'learning_rate': 0.07434114137388818, 'l2_leaf_reg': 95.80316015837687}. Best is trial 11 with value: 0.7415970361402875.\n"
     ]
    },
    {
     "name": "stdout",
     "output_type": "stream",
     "text": [
      "Stopped by overfitting detector  (300 iterations wait)\n",
      "\n",
      "bestTest = 0.7415508889\n",
      "bestIteration = 1311\n",
      "\n",
      "Shrink model to first 1312 iterations.\n",
      "0:\ttest: 0.6981929\tbest: 0.6981929 (0)\ttotal: 59.9ms\tremaining: 2m 4s\n",
      "300:\ttest: 0.7404766\tbest: 0.7404766 (300)\ttotal: 18.5s\tremaining: 1m 48s\n",
      "600:\ttest: 0.7410256\tbest: 0.7410385 (597)\ttotal: 37.5s\tremaining: 1m 31s\n",
      "900:\ttest: 0.7411107\tbest: 0.7411563 (829)\ttotal: 56.8s\tremaining: 1m 13s\n"
     ]
    },
    {
     "name": "stderr",
     "output_type": "stream",
     "text": [
      "[I 2025-02-26 18:06:58,969] Trial 26 finished with value: 0.7411562710984424 and parameters: {'iterations': 2074, 'depth': 5, 'learning_rate': 0.07375614776024476, 'l2_leaf_reg': 31.995217576802414}. Best is trial 11 with value: 0.7415970361402875.\n"
     ]
    },
    {
     "name": "stdout",
     "output_type": "stream",
     "text": [
      "Stopped by overfitting detector  (300 iterations wait)\n",
      "\n",
      "bestTest = 0.7411562711\n",
      "bestIteration = 829\n",
      "\n",
      "Shrink model to first 830 iterations.\n",
      "0:\ttest: 0.6981886\tbest: 0.6981886 (0)\ttotal: 60.4ms\tremaining: 1m 37s\n",
      "300:\ttest: 0.7410842\tbest: 0.7410842 (300)\ttotal: 18.6s\tremaining: 1m 21s\n",
      "600:\ttest: 0.7413592\tbest: 0.7413655 (597)\ttotal: 37.5s\tremaining: 1m 3s\n",
      "900:\ttest: 0.7415209\tbest: 0.7415420 (894)\ttotal: 57s\tremaining: 45.5s\n",
      "1200:\ttest: 0.7415650\tbest: 0.7415994 (1068)\ttotal: 1m 16s\tremaining: 26.8s\n"
     ]
    },
    {
     "name": "stderr",
     "output_type": "stream",
     "text": [
      "[I 2025-02-26 18:08:27,252] Trial 27 finished with value: 0.7415994066346795 and parameters: {'iterations': 1620, 'depth': 5, 'learning_rate': 0.08558376492729547, 'l2_leaf_reg': 88.55549115683226}. Best is trial 27 with value: 0.7415994066346795.\n"
     ]
    },
    {
     "name": "stdout",
     "output_type": "stream",
     "text": [
      "Stopped by overfitting detector  (300 iterations wait)\n",
      "\n",
      "bestTest = 0.7415994066\n",
      "bestIteration = 1068\n",
      "\n",
      "Shrink model to first 1069 iterations.\n",
      "저장 완료\n",
      "0:\ttest: 0.6981929\tbest: 0.6981929 (0)\ttotal: 59.4ms\tremaining: 1m 49s\n",
      "300:\ttest: 0.7407616\tbest: 0.7407616 (300)\ttotal: 18.9s\tremaining: 1m 36s\n",
      "600:\ttest: 0.7409104\tbest: 0.7410049 (552)\ttotal: 38.6s\tremaining: 1m 19s\n"
     ]
    },
    {
     "name": "stderr",
     "output_type": "stream",
     "text": [
      "[I 2025-02-26 18:09:22,646] Trial 28 finished with value: 0.7410049327010289 and parameters: {'iterations': 1841, 'depth': 5, 'learning_rate': 0.08734304608303806, 'l2_leaf_reg': 21.134027774444654}. Best is trial 27 with value: 0.7415994066346795.\n"
     ]
    },
    {
     "name": "stdout",
     "output_type": "stream",
     "text": [
      "Stopped by overfitting detector  (300 iterations wait)\n",
      "\n",
      "bestTest = 0.7410049327\n",
      "bestIteration = 552\n",
      "\n",
      "Shrink model to first 553 iterations.\n",
      "0:\ttest: 0.6981886\tbest: 0.6981886 (0)\ttotal: 57.3ms\tremaining: 1m 57s\n",
      "300:\ttest: 0.7407128\tbest: 0.7407172 (296)\ttotal: 18.6s\tremaining: 1m 48s\n",
      "600:\ttest: 0.7409455\tbest: 0.7409737 (563)\ttotal: 37.7s\tremaining: 1m 31s\n",
      "900:\ttest: 0.7409872\tbest: 0.7410186 (795)\ttotal: 57.5s\tremaining: 1m 13s\n",
      "1200:\ttest: 0.7411732\tbest: 0.7411741 (1192)\ttotal: 1m 17s\tremaining: 55.2s\n",
      "1500:\ttest: 0.7410152\tbest: 0.7411852 (1208)\ttotal: 1m 37s\tremaining: 36.1s\n"
     ]
    },
    {
     "name": "stderr",
     "output_type": "stream",
     "text": [
      "[I 2025-02-26 18:11:00,649] Trial 29 finished with value: 0.7411852014537856 and parameters: {'iterations': 2058, 'depth': 5, 'learning_rate': 0.09974318006611849, 'l2_leaf_reg': 94.47242000811514}. Best is trial 27 with value: 0.7415994066346795.\n"
     ]
    },
    {
     "name": "stdout",
     "output_type": "stream",
     "text": [
      "Stopped by overfitting detector  (300 iterations wait)\n",
      "\n",
      "bestTest = 0.7411852015\n",
      "bestIteration = 1208\n",
      "\n",
      "Shrink model to first 1209 iterations.\n",
      "0:\ttest: 0.7179310\tbest: 0.7179310 (0)\ttotal: 69.7ms\tremaining: 2m 1s\n",
      "300:\ttest: 0.7408985\tbest: 0.7409058 (298)\ttotal: 22.7s\tremaining: 1m 48s\n",
      "600:\ttest: 0.7409269\tbest: 0.7412299 (393)\ttotal: 46.2s\tremaining: 1m 27s\n"
     ]
    },
    {
     "name": "stderr",
     "output_type": "stream",
     "text": [
      "[I 2025-02-26 18:11:54,352] Trial 30 finished with value: 0.7412299152516886 and parameters: {'iterations': 1740, 'depth': 6, 'learning_rate': 0.08094235709870667, 'l2_leaf_reg': 8.670186005430935}. Best is trial 27 with value: 0.7415994066346795.\n"
     ]
    },
    {
     "name": "stdout",
     "output_type": "stream",
     "text": [
      "Stopped by overfitting detector  (300 iterations wait)\n",
      "\n",
      "bestTest = 0.7412299153\n",
      "bestIteration = 393\n",
      "\n",
      "Shrink model to first 394 iterations.\n",
      "0:\ttest: 0.6981929\tbest: 0.6981929 (0)\ttotal: 58.2ms\tremaining: 1m 34s\n",
      "300:\ttest: 0.7407283\tbest: 0.7407585 (296)\ttotal: 19.5s\tremaining: 1m 25s\n",
      "600:\ttest: 0.7411342\tbest: 0.7411344 (598)\ttotal: 40.7s\tremaining: 1m 9s\n",
      "900:\ttest: 0.7411682\tbest: 0.7411934 (879)\ttotal: 1m 1s\tremaining: 49.4s\n",
      "1200:\ttest: 0.7411923\tbest: 0.7412467 (1147)\ttotal: 1m 24s\tremaining: 29.8s\n"
     ]
    },
    {
     "name": "stderr",
     "output_type": "stream",
     "text": [
      "[I 2025-02-26 18:13:36,079] Trial 31 finished with value: 0.7412466913635917 and parameters: {'iterations': 1626, 'depth': 5, 'learning_rate': 0.07079111379609498, 'l2_leaf_reg': 38.61070900669758}. Best is trial 27 with value: 0.7415994066346795.\n"
     ]
    },
    {
     "name": "stdout",
     "output_type": "stream",
     "text": [
      "Stopped by overfitting detector  (300 iterations wait)\n",
      "\n",
      "bestTest = 0.7412466914\n",
      "bestIteration = 1147\n",
      "\n",
      "Shrink model to first 1148 iterations.\n",
      "0:\ttest: 0.7179070\tbest: 0.7179070 (0)\ttotal: 68.6ms\tremaining: 1m 42s\n",
      "300:\ttest: 0.7409373\tbest: 0.7409405 (289)\ttotal: 21.9s\tremaining: 1m 27s\n",
      "600:\ttest: 0.7413276\tbest: 0.7413564 (585)\ttotal: 44.6s\tremaining: 1m 6s\n",
      "900:\ttest: 0.7413970\tbest: 0.7414541 (700)\ttotal: 1m 10s\tremaining: 47s\n"
     ]
    },
    {
     "name": "stderr",
     "output_type": "stream",
     "text": [
      "[I 2025-02-26 18:14:55,008] Trial 32 finished with value: 0.7414540917548416 and parameters: {'iterations': 1501, 'depth': 6, 'learning_rate': 0.07728774626485119, 'l2_leaf_reg': 95.45025040871595}. Best is trial 27 with value: 0.7415994066346795.\n"
     ]
    },
    {
     "name": "stdout",
     "output_type": "stream",
     "text": [
      "Stopped by overfitting detector  (300 iterations wait)\n",
      "\n",
      "bestTest = 0.7414540918\n",
      "bestIteration = 700\n",
      "\n",
      "Shrink model to first 701 iterations.\n",
      "0:\ttest: 0.6965597\tbest: 0.6965597 (0)\ttotal: 57.3ms\tremaining: 1m 33s\n",
      "300:\ttest: 0.7397169\tbest: 0.7397169 (299)\ttotal: 15.3s\tremaining: 1m 7s\n",
      "600:\ttest: 0.7405746\tbest: 0.7405966 (580)\ttotal: 31.3s\tremaining: 53.8s\n",
      "900:\ttest: 0.7405881\tbest: 0.7406638 (661)\ttotal: 47.3s\tremaining: 38.5s\n"
     ]
    },
    {
     "name": "stderr",
     "output_type": "stream",
     "text": [
      "[I 2025-02-26 18:15:45,807] Trial 33 finished with value: 0.7406637959251623 and parameters: {'iterations': 1634, 'depth': 4, 'learning_rate': 0.0672294397492343, 'l2_leaf_reg': 15.890210201157158}. Best is trial 27 with value: 0.7415994066346795.\n"
     ]
    },
    {
     "name": "stdout",
     "output_type": "stream",
     "text": [
      "Stopped by overfitting detector  (300 iterations wait)\n",
      "\n",
      "bestTest = 0.7406637959\n",
      "bestIteration = 661\n",
      "\n",
      "Shrink model to first 662 iterations.\n",
      "0:\ttest: 0.7210869\tbest: 0.7210869 (0)\ttotal: 92ms\tremaining: 2m 26s\n",
      "300:\ttest: 0.7411383\tbest: 0.7411383 (300)\ttotal: 30.7s\tremaining: 2m 12s\n",
      "600:\ttest: 0.7411085\tbest: 0.7412685 (331)\ttotal: 1m 6s\tremaining: 1m 50s\n"
     ]
    },
    {
     "name": "stderr",
     "output_type": "stream",
     "text": [
      "[I 2025-02-26 18:16:56,271] Trial 34 finished with value: 0.7412684625876306 and parameters: {'iterations': 1598, 'depth': 9, 'learning_rate': 0.05967535355917048, 'l2_leaf_reg': 43.21431226555853}. Best is trial 27 with value: 0.7415994066346795.\n"
     ]
    },
    {
     "name": "stdout",
     "output_type": "stream",
     "text": [
      "Stopped by overfitting detector  (300 iterations wait)\n",
      "\n",
      "bestTest = 0.7412684626\n",
      "bestIteration = 331\n",
      "\n",
      "Shrink model to first 332 iterations.\n",
      "0:\ttest: 0.6965597\tbest: 0.6965597 (0)\ttotal: 53.2ms\tremaining: 1m 32s\n",
      "300:\ttest: 0.7405604\tbest: 0.7405812 (298)\ttotal: 15.5s\tremaining: 1m 14s\n",
      "600:\ttest: 0.7407064\tbest: 0.7407512 (455)\ttotal: 32.9s\tremaining: 1m 2s\n",
      "900:\ttest: 0.7406691\tbest: 0.7407612 (757)\ttotal: 51.5s\tremaining: 48.2s\n"
     ]
    },
    {
     "name": "stderr",
     "output_type": "stream",
     "text": [
      "[I 2025-02-26 18:17:57,228] Trial 35 finished with value: 0.7407612323772305 and parameters: {'iterations': 1744, 'depth': 4, 'learning_rate': 0.08769804612731577, 'l2_leaf_reg': 3.8599957517912564}. Best is trial 27 with value: 0.7415994066346795.\n"
     ]
    },
    {
     "name": "stdout",
     "output_type": "stream",
     "text": [
      "Stopped by overfitting detector  (300 iterations wait)\n",
      "\n",
      "bestTest = 0.7407612324\n",
      "bestIteration = 757\n",
      "\n",
      "Shrink model to first 758 iterations.\n",
      "0:\ttest: 0.6981929\tbest: 0.6981929 (0)\ttotal: 70.6ms\tremaining: 2m 56s\n",
      "300:\ttest: 0.7407034\tbest: 0.7407186 (290)\ttotal: 21.4s\tremaining: 2m 36s\n",
      "600:\ttest: 0.7408113\tbest: 0.7409851 (454)\ttotal: 43.1s\tremaining: 2m 16s\n"
     ]
    },
    {
     "name": "stderr",
     "output_type": "stream",
     "text": [
      "[I 2025-02-26 18:18:51,546] Trial 36 finished with value: 0.7409850753434841 and parameters: {'iterations': 2505, 'depth': 5, 'learning_rate': 0.09321401226123757, 'l2_leaf_reg': 7.41301516464282}. Best is trial 27 with value: 0.7415994066346795.\n"
     ]
    },
    {
     "name": "stdout",
     "output_type": "stream",
     "text": [
      "Stopped by overfitting detector  (300 iterations wait)\n",
      "\n",
      "bestTest = 0.7409850753\n",
      "bestIteration = 454\n",
      "\n",
      "Shrink model to first 455 iterations.\n",
      "0:\ttest: 0.7227147\tbest: 0.7227147 (0)\ttotal: 121ms\tremaining: 4m 33s\n",
      "300:\ttest: 0.7406560\tbest: 0.7408259 (253)\ttotal: 48.7s\tremaining: 5m 16s\n"
     ]
    },
    {
     "name": "stderr",
     "output_type": "stream",
     "text": [
      "[I 2025-02-26 18:20:29,604] Trial 37 finished with value: 0.740825926623677 and parameters: {'iterations': 2253, 'depth': 10, 'learning_rate': 0.07469969332720082, 'l2_leaf_reg': 38.30854411948143}. Best is trial 27 with value: 0.7415994066346795.\n"
     ]
    },
    {
     "name": "stdout",
     "output_type": "stream",
     "text": [
      "Stopped by overfitting detector  (300 iterations wait)\n",
      "\n",
      "bestTest = 0.7408259266\n",
      "bestIteration = 253\n",
      "\n",
      "Shrink model to first 254 iterations.\n",
      "0:\ttest: 0.6965597\tbest: 0.6965597 (0)\ttotal: 56.7ms\tremaining: 1m 46s\n",
      "300:\ttest: 0.7407423\tbest: 0.7407542 (294)\ttotal: 16.3s\tremaining: 1m 25s\n",
      "600:\ttest: 0.7410936\tbest: 0.7410938 (598)\ttotal: 33.1s\tremaining: 1m 10s\n",
      "900:\ttest: 0.7411876\tbest: 0.7412044 (886)\ttotal: 50.3s\tremaining: 54.4s\n",
      "1200:\ttest: 0.7411601\tbest: 0.7412381 (1121)\ttotal: 1m 7s\tremaining: 38s\n",
      "1500:\ttest: 0.7411672\tbest: 0.7412434 (1402)\ttotal: 1m 24s\tremaining: 21.2s\n"
     ]
    },
    {
     "name": "stderr",
     "output_type": "stream",
     "text": [
      "[I 2025-02-26 18:22:07,565] Trial 38 finished with value: 0.74124336790663 and parameters: {'iterations': 1876, 'depth': 4, 'learning_rate': 0.08451789608249119, 'l2_leaf_reg': 17.65446110973192}. Best is trial 27 with value: 0.7415994066346795.\n"
     ]
    },
    {
     "name": "stdout",
     "output_type": "stream",
     "text": [
      "Stopped by overfitting detector  (300 iterations wait)\n",
      "\n",
      "bestTest = 0.7412433679\n",
      "bestIteration = 1402\n",
      "\n",
      "Shrink model to first 1403 iterations.\n",
      "0:\ttest: 0.7179288\tbest: 0.7179288 (0)\ttotal: 72.1ms\tremaining: 2m 2s\n",
      "300:\ttest: 0.7408828\tbest: 0.7408923 (290)\ttotal: 22.9s\tremaining: 1m 46s\n",
      "600:\ttest: 0.7406790\tbest: 0.7409511 (359)\ttotal: 46.8s\tremaining: 1m 25s\n"
     ]
    },
    {
     "name": "stderr",
     "output_type": "stream",
     "text": [
      "[I 2025-02-26 18:22:59,259] Trial 39 finished with value: 0.7409511022278764 and parameters: {'iterations': 1704, 'depth': 6, 'learning_rate': 0.0677704590375615, 'l2_leaf_reg': 2.284345800413084}. Best is trial 27 with value: 0.7415994066346795.\n",
      "[I 2025-02-26 18:22:59,263] A new study created in memory with name: no-name-8ad4023e-9f04-48a0-af3e-93988a58e4e5\n"
     ]
    },
    {
     "name": "stdout",
     "output_type": "stream",
     "text": [
      "Stopped by overfitting detector  (300 iterations wait)\n",
      "\n",
      "bestTest = 0.7409511022\n",
      "bestIteration = 359\n",
      "\n",
      "Shrink model to first 360 iterations.\n"
     ]
    },
    {
     "name": "stderr",
     "output_type": "stream",
     "text": [
      "[I 2025-02-26 18:23:22,574] Trial 0 finished with value: 0.7316459428940834 and parameters: {'num_iterations': 2366, 'objective': 'binary', 'metric': 'auc', 'verbose': -1, 'learning_rate': 0.0652646236447618, 'n_estimators': 236, 'min_child_samples': 45, 'subsample': 0.7, 'colsample_bytree': 0.5}. Best is trial 0 with value: 0.7316459428940834.\n",
      "[I 2025-02-26 18:23:39,653] Trial 1 finished with value: 0.7408033930295823 and parameters: {'num_iterations': 1510, 'objective': 'binary', 'metric': 'auc', 'verbose': -1, 'learning_rate': 0.005231880959249543, 'n_estimators': 1411, 'min_child_samples': 10, 'subsample': 1.0, 'colsample_bytree': 0.5}. Best is trial 1 with value: 0.7408033930295823.\n",
      "[I 2025-02-26 18:23:59,162] Trial 2 finished with value: 0.7407712424548891 and parameters: {'num_iterations': 2334, 'objective': 'binary', 'metric': 'auc', 'verbose': -1, 'learning_rate': 0.006578527777128852, 'n_estimators': 931, 'min_child_samples': 15, 'subsample': 0.5, 'colsample_bytree': 1.0}. Best is trial 1 with value: 0.7408033930295823.\n",
      "[I 2025-02-26 18:24:15,834] Trial 3 finished with value: 0.740816051549049 and parameters: {'num_iterations': 1620, 'objective': 'binary', 'metric': 'auc', 'verbose': -1, 'learning_rate': 0.0058823249237283685, 'n_estimators': 837, 'min_child_samples': 10, 'subsample': 0.9, 'colsample_bytree': 0.6}. Best is trial 3 with value: 0.740816051549049.\n",
      "[I 2025-02-26 18:24:32,600] Trial 4 finished with value: 0.7406338768711529 and parameters: {'num_iterations': 1997, 'objective': 'binary', 'metric': 'auc', 'verbose': -1, 'learning_rate': 0.010907507425244923, 'n_estimators': 1597, 'min_child_samples': 50, 'subsample': 0.6, 'colsample_bytree': 0.8}. Best is trial 3 with value: 0.740816051549049.\n",
      "[I 2025-02-26 18:24:56,310] Trial 5 finished with value: 0.7372585747750696 and parameters: {'num_iterations': 2909, 'objective': 'binary', 'metric': 'auc', 'verbose': -1, 'learning_rate': 0.019760591962733942, 'n_estimators': 612, 'min_child_samples': 30, 'subsample': 0.7, 'colsample_bytree': 0.9}. Best is trial 3 with value: 0.740816051549049.\n",
      "[I 2025-02-26 18:25:17,008] Trial 6 finished with value: 0.7382204673981221 and parameters: {'num_iterations': 2639, 'objective': 'binary', 'metric': 'auc', 'verbose': -1, 'learning_rate': 0.017862094446750985, 'n_estimators': 794, 'min_child_samples': 35, 'subsample': 1.0, 'colsample_bytree': 0.8}. Best is trial 3 with value: 0.740816051549049.\n",
      "[I 2025-02-26 18:25:33,655] Trial 7 finished with value: 0.7399339774825586 and parameters: {'num_iterations': 1580, 'objective': 'binary', 'metric': 'auc', 'verbose': -1, 'learning_rate': 0.01776722177611332, 'n_estimators': 529, 'min_child_samples': 25, 'subsample': 0.8, 'colsample_bytree': 0.5}. Best is trial 3 with value: 0.740816051549049.\n",
      "[I 2025-02-26 18:25:51,401] Trial 8 finished with value: 0.7368488961663817 and parameters: {'num_iterations': 1911, 'objective': 'binary', 'metric': 'auc', 'verbose': -1, 'learning_rate': 0.0304747553332844, 'n_estimators': 1328, 'min_child_samples': 10, 'subsample': 0.7, 'colsample_bytree': 0.6}. Best is trial 3 with value: 0.740816051549049.\n",
      "[I 2025-02-26 18:26:18,911] Trial 9 finished with value: 0.7365399933494331 and parameters: {'num_iterations': 2739, 'objective': 'binary', 'metric': 'auc', 'verbose': -1, 'learning_rate': 0.02691531614176271, 'n_estimators': 1438, 'min_child_samples': 20, 'subsample': 0.6, 'colsample_bytree': 0.5}. Best is trial 3 with value: 0.740816051549049.\n",
      "[I 2025-02-26 18:26:33,416] Trial 10 finished with value: 0.7286443053629105 and parameters: {'num_iterations': 1883, 'objective': 'binary', 'metric': 'auc', 'verbose': -1, 'learning_rate': 0.08223556891145911, 'n_estimators': 1917, 'min_child_samples': 40, 'subsample': 0.9, 'colsample_bytree': 0.7}. Best is trial 3 with value: 0.740816051549049.\n",
      "[I 2025-02-26 18:26:49,050] Trial 11 finished with value: 0.740693198791113 and parameters: {'num_iterations': 1513, 'objective': 'binary', 'metric': 'auc', 'verbose': -1, 'learning_rate': 0.005340229419903739, 'n_estimators': 1206, 'min_child_samples': 10, 'subsample': 1.0, 'colsample_bytree': 0.6}. Best is trial 3 with value: 0.740816051549049.\n",
      "[I 2025-02-26 18:27:05,774] Trial 12 finished with value: 0.7408698264327183 and parameters: {'num_iterations': 1698, 'objective': 'binary', 'metric': 'auc', 'verbose': -1, 'learning_rate': 0.008515343845233947, 'n_estimators': 1719, 'min_child_samples': 20, 'subsample': 0.9, 'colsample_bytree': 0.6}. Best is trial 12 with value: 0.7408698264327183.\n",
      "[I 2025-02-26 18:27:20,918] Trial 13 finished with value: 0.7405452910589502 and parameters: {'num_iterations': 1785, 'objective': 'binary', 'metric': 'auc', 'verbose': -1, 'learning_rate': 0.010668787980411185, 'n_estimators': 2000, 'min_child_samples': 20, 'subsample': 0.9, 'colsample_bytree': 0.7}. Best is trial 12 with value: 0.7408698264327183.\n",
      "[I 2025-02-26 18:27:41,886] Trial 14 finished with value: 0.740649835023517 and parameters: {'num_iterations': 2165, 'objective': 'binary', 'metric': 'auc', 'verbose': -1, 'learning_rate': 0.00865004642514095, 'n_estimators': 1729, 'min_child_samples': 20, 'subsample': 0.9, 'colsample_bytree': 0.6}. Best is trial 12 with value: 0.7408698264327183.\n",
      "[I 2025-02-26 18:27:56,957] Trial 15 finished with value: 0.7407703014043515 and parameters: {'num_iterations': 1739, 'objective': 'binary', 'metric': 'auc', 'verbose': -1, 'learning_rate': 0.008303365162986591, 'n_estimators': 1062, 'min_child_samples': 25, 'subsample': 0.8, 'colsample_bytree': 0.7}. Best is trial 12 with value: 0.7408698264327183.\n",
      "[I 2025-02-26 18:28:16,648] Trial 16 finished with value: 0.7399786356909783 and parameters: {'num_iterations': 2069, 'objective': 'binary', 'metric': 'auc', 'verbose': -1, 'learning_rate': 0.012740247908029537, 'n_estimators': 259, 'min_child_samples': 15, 'subsample': 0.9, 'colsample_bytree': 0.6}. Best is trial 12 with value: 0.7408698264327183.\n",
      "[I 2025-02-26 18:28:32,212] Trial 17 finished with value: 0.7358590062971687 and parameters: {'num_iterations': 1702, 'objective': 'binary', 'metric': 'auc', 'verbose': -1, 'learning_rate': 0.04711197790610658, 'n_estimators': 651, 'min_child_samples': 15, 'subsample': 0.8, 'colsample_bytree': 0.6}. Best is trial 12 with value: 0.7408698264327183.\n",
      "[I 2025-02-26 18:28:47,086] Trial 18 finished with value: 0.7409483981965851 and parameters: {'num_iterations': 1688, 'objective': 'binary', 'metric': 'auc', 'verbose': -1, 'learning_rate': 0.0073438836454159315, 'n_estimators': 1082, 'min_child_samples': 30, 'subsample': 0.9, 'colsample_bytree': 0.7}. Best is trial 18 with value: 0.7409483981965851.\n",
      "[I 2025-02-26 18:29:06,816] Trial 19 finished with value: 0.7397439329221083 and parameters: {'num_iterations': 2481, 'objective': 'binary', 'metric': 'auc', 'verbose': -1, 'learning_rate': 0.013818535896390961, 'n_estimators': 1670, 'min_child_samples': 35, 'subsample': 1.0, 'colsample_bytree': 0.8}. Best is trial 18 with value: 0.7409483981965851.\n",
      "[I 2025-02-26 18:29:24,728] Trial 20 finished with value: 0.7407636544904284 and parameters: {'num_iterations': 2150, 'objective': 'binary', 'metric': 'auc', 'verbose': -1, 'learning_rate': 0.007877155758725746, 'n_estimators': 1183, 'min_child_samples': 30, 'subsample': 0.8, 'colsample_bytree': 0.9}. Best is trial 18 with value: 0.7409483981965851.\n",
      "[I 2025-02-26 18:29:39,498] Trial 21 finished with value: 0.7408336615032004 and parameters: {'num_iterations': 1633, 'objective': 'binary', 'metric': 'auc', 'verbose': -1, 'learning_rate': 0.006562685092841078, 'n_estimators': 884, 'min_child_samples': 25, 'subsample': 0.9, 'colsample_bytree': 0.7}. Best is trial 18 with value: 0.7409483981965851.\n",
      "[I 2025-02-26 18:29:55,703] Trial 22 finished with value: 0.7407284782595766 and parameters: {'num_iterations': 1841, 'objective': 'binary', 'metric': 'auc', 'verbose': -1, 'learning_rate': 0.007898355076273417, 'n_estimators': 388, 'min_child_samples': 25, 'subsample': 0.9, 'colsample_bytree': 0.7}. Best is trial 18 with value: 0.7409483981965851.\n",
      "[I 2025-02-26 18:30:10,041] Trial 23 finished with value: 0.7408562705401651 and parameters: {'num_iterations': 1675, 'objective': 'binary', 'metric': 'auc', 'verbose': -1, 'learning_rate': 0.010141998267538447, 'n_estimators': 1058, 'min_child_samples': 35, 'subsample': 1.0, 'colsample_bytree': 0.7}. Best is trial 18 with value: 0.7409483981965851.\n",
      "[I 2025-02-26 18:30:26,151] Trial 24 finished with value: 0.7404726673697889 and parameters: {'num_iterations': 1973, 'objective': 'binary', 'metric': 'auc', 'verbose': -1, 'learning_rate': 0.013763055533112498, 'n_estimators': 1051, 'min_child_samples': 35, 'subsample': 1.0, 'colsample_bytree': 0.8}. Best is trial 18 with value: 0.7409483981965851.\n",
      "[I 2025-02-26 18:30:40,935] Trial 25 finished with value: 0.7407487445968909 and parameters: {'num_iterations': 1733, 'objective': 'binary', 'metric': 'auc', 'verbose': -1, 'learning_rate': 0.010214997942530953, 'n_estimators': 1516, 'min_child_samples': 40, 'subsample': 1.0, 'colsample_bytree': 0.7}. Best is trial 18 with value: 0.7409483981965851.\n",
      "[I 2025-02-26 18:30:57,745] Trial 26 finished with value: 0.7373855054186682 and parameters: {'num_iterations': 1838, 'objective': 'binary', 'metric': 'auc', 'verbose': -1, 'learning_rate': 0.03384731310360099, 'n_estimators': 1784, 'min_child_samples': 30, 'subsample': 0.8, 'colsample_bytree': 0.6}. Best is trial 18 with value: 0.7409483981965851.\n",
      "[I 2025-02-26 18:31:11,471] Trial 27 finished with value: 0.7402348793845996 and parameters: {'num_iterations': 1674, 'objective': 'binary', 'metric': 'auc', 'verbose': -1, 'learning_rate': 0.014003645006876354, 'n_estimators': 1231, 'min_child_samples': 40, 'subsample': 1.0, 'colsample_bytree': 0.9}. Best is trial 18 with value: 0.7409483981965851.\n",
      "[I 2025-02-26 18:31:28,549] Trial 28 finished with value: 0.7409533536019471 and parameters: {'num_iterations': 2019, 'objective': 'binary', 'metric': 'auc', 'verbose': -1, 'learning_rate': 0.009648233210868976, 'n_estimators': 1016, 'min_child_samples': 30, 'subsample': 0.9, 'colsample_bytree': 0.7}. Best is trial 28 with value: 0.7409533536019471.\n",
      "[I 2025-02-26 18:31:50,942] Trial 29 finished with value: 0.7410947375111853 and parameters: {'num_iterations': 2072, 'objective': 'binary', 'metric': 'auc', 'verbose': -1, 'learning_rate': 0.006673375592016144, 'n_estimators': 710, 'min_child_samples': 45, 'subsample': 0.8, 'colsample_bytree': 0.5}. Best is trial 29 with value: 0.7410947375111853.\n",
      "[I 2025-02-26 18:32:15,047] Trial 30 finished with value: 0.7411246128877435 and parameters: {'num_iterations': 2254, 'objective': 'binary', 'metric': 'auc', 'verbose': -1, 'learning_rate': 0.006611388345805522, 'n_estimators': 104, 'min_child_samples': 50, 'subsample': 0.7, 'colsample_bytree': 0.5}. Best is trial 30 with value: 0.7411246128877435.\n",
      "[I 2025-02-26 18:32:39,368] Trial 31 finished with value: 0.7411249821607392 and parameters: {'num_iterations': 2263, 'objective': 'binary', 'metric': 'auc', 'verbose': -1, 'learning_rate': 0.006596575008431736, 'n_estimators': 134, 'min_child_samples': 50, 'subsample': 0.7, 'colsample_bytree': 0.5}. Best is trial 31 with value: 0.7411249821607392.\n",
      "[I 2025-02-26 18:33:05,390] Trial 32 finished with value: 0.7412334015064226 and parameters: {'num_iterations': 2408, 'objective': 'binary', 'metric': 'auc', 'verbose': -1, 'learning_rate': 0.005185713932837992, 'n_estimators': 109, 'min_child_samples': 50, 'subsample': 0.6, 'colsample_bytree': 0.5}. Best is trial 32 with value: 0.7412334015064226.\n",
      "[I 2025-02-26 18:33:31,153] Trial 33 finished with value: 0.7413248898837853 and parameters: {'num_iterations': 2375, 'objective': 'binary', 'metric': 'auc', 'verbose': -1, 'learning_rate': 0.0051246838067479025, 'n_estimators': 192, 'min_child_samples': 50, 'subsample': 0.6, 'colsample_bytree': 0.5}. Best is trial 33 with value: 0.7413248898837853.\n",
      "[I 2025-02-26 18:33:56,628] Trial 34 finished with value: 0.7412096846504707 and parameters: {'num_iterations': 2366, 'objective': 'binary', 'metric': 'auc', 'verbose': -1, 'learning_rate': 0.005456618221887832, 'n_estimators': 158, 'min_child_samples': 50, 'subsample': 0.6, 'colsample_bytree': 0.5}. Best is trial 33 with value: 0.7413248898837853.\n",
      "[I 2025-02-26 18:34:22,973] Trial 35 finished with value: 0.7412276122588121 and parameters: {'num_iterations': 2437, 'objective': 'binary', 'metric': 'auc', 'verbose': -1, 'learning_rate': 0.005127775395892254, 'n_estimators': 127, 'min_child_samples': 50, 'subsample': 0.6, 'colsample_bytree': 0.5}. Best is trial 33 with value: 0.7413248898837853.\n",
      "[I 2025-02-26 18:34:49,045] Trial 36 finished with value: 0.7411716257078457 and parameters: {'num_iterations': 2403, 'objective': 'binary', 'metric': 'auc', 'verbose': -1, 'learning_rate': 0.005119592132641445, 'n_estimators': 336, 'min_child_samples': 45, 'subsample': 0.5, 'colsample_bytree': 0.5}. Best is trial 33 with value: 0.7413248898837853.\n",
      "[I 2025-02-26 18:35:16,141] Trial 37 finished with value: 0.7411313670099559 and parameters: {'num_iterations': 2533, 'objective': 'binary', 'metric': 'auc', 'verbose': -1, 'learning_rate': 0.0056397748531738755, 'n_estimators': 461, 'min_child_samples': 50, 'subsample': 0.6, 'colsample_bytree': 0.5}. Best is trial 33 with value: 0.7413248898837853.\n",
      "[I 2025-02-26 18:35:42,019] Trial 38 finished with value: 0.741208656245031 and parameters: {'num_iterations': 2384, 'objective': 'binary', 'metric': 'auc', 'verbose': -1, 'learning_rate': 0.005270382813322931, 'n_estimators': 266, 'min_child_samples': 45, 'subsample': 0.6, 'colsample_bytree': 0.5}. Best is trial 33 with value: 0.7413248898837853.\n",
      "[I 2025-02-26 18:36:10,260] Trial 39 finished with value: 0.7412503642401622 and parameters: {'num_iterations': 2625, 'objective': 'binary', 'metric': 'auc', 'verbose': -1, 'learning_rate': 0.005020405810390741, 'n_estimators': 182, 'min_child_samples': 50, 'subsample': 0.5, 'colsample_bytree': 0.5}. Best is trial 33 with value: 0.7413248898837853.\n"
     ]
    },
    {
     "name": "stdout",
     "output_type": "stream",
     "text": [
      "Cat val score : 0.7415994066346795\n",
      "LGBM val score : 0.7412065795807645\n",
      "Ensemble val score : 0.7417572370895986\n"
     ]
    },
    {
     "name": "stderr",
     "output_type": "stream",
     "text": [
      "[I 2025-02-26 18:36:37,668] A new study created in memory with name: no-name-2218048b-32d4-4518-b566-7970cbcf1a49\n"
     ]
    },
    {
     "name": "stdout",
     "output_type": "stream",
     "text": [
      "==================================================\n",
      "0:\ttest: 0.7146555\tbest: 0.7146555 (0)\ttotal: 141ms\tremaining: 5m 33s\n",
      "300:\ttest: 0.7330897\tbest: 0.7330897 (300)\ttotal: 37.7s\tremaining: 4m 18s\n",
      "600:\ttest: 0.7345189\tbest: 0.7345189 (600)\ttotal: 1m 18s\tremaining: 3m 50s\n",
      "900:\ttest: 0.7347901\tbest: 0.7347901 (900)\ttotal: 1m 59s\tremaining: 3m 15s\n",
      "1200:\ttest: 0.7349904\tbest: 0.7349991 (1177)\ttotal: 2m 47s\tremaining: 2m 42s\n",
      "1500:\ttest: 0.7351082\tbest: 0.7351287 (1450)\ttotal: 3m 38s\tremaining: 2m 5s\n",
      "1800:\ttest: 0.7351057\tbest: 0.7351599 (1655)\ttotal: 4m 29s\tremaining: 1m 24s\n"
     ]
    },
    {
     "name": "stderr",
     "output_type": "stream",
     "text": [
      "[I 2025-02-26 18:41:37,000] Trial 0 finished with value: 0.7351598700299529 and parameters: {'iterations': 2366, 'depth': 10, 'learning_rate': 0.01181021951839225, 'l2_leaf_reg': 9.980783802743254}. Best is trial 0 with value: 0.7351598700299529.\n"
     ]
    },
    {
     "name": "stdout",
     "output_type": "stream",
     "text": [
      "Stopped by overfitting detector  (300 iterations wait)\n",
      "\n",
      "bestTest = 0.73515987\n",
      "bestIteration = 1655\n",
      "\n",
      "Shrink model to first 1656 iterations.\n",
      "저장 완료\n",
      "0:\ttest: 0.6830876\tbest: 0.6830876 (0)\ttotal: 58.3ms\tremaining: 2m 7s\n",
      "300:\ttest: 0.7237574\tbest: 0.7237574 (300)\ttotal: 13.5s\tremaining: 1m 25s\n",
      "600:\ttest: 0.7282672\tbest: 0.7282672 (600)\ttotal: 27s\tremaining: 1m 11s\n",
      "900:\ttest: 0.7305650\tbest: 0.7305650 (900)\ttotal: 41s\tremaining: 58.8s\n",
      "1200:\ttest: 0.7317477\tbest: 0.7317477 (1200)\ttotal: 55.3s\tremaining: 45.7s\n",
      "1500:\ttest: 0.7325182\tbest: 0.7325182 (1500)\ttotal: 1m 10s\tremaining: 32.3s\n",
      "1800:\ttest: 0.7330151\tbest: 0.7330151 (1800)\ttotal: 1m 24s\tremaining: 18.4s\n",
      "2100:\ttest: 0.7334253\tbest: 0.7334253 (2100)\ttotal: 1m 39s\tremaining: 4.35s\n"
     ]
    },
    {
     "name": "stderr",
     "output_type": "stream",
     "text": [
      "[I 2025-02-26 18:43:21,147] Trial 1 finished with value: 0.7335514353362607 and parameters: {'iterations': 2193, 'depth': 4, 'learning_rate': 0.005671430811678843, 'l2_leaf_reg': 0.00012325230809466137}. Best is trial 0 with value: 0.7351598700299529.\n"
     ]
    },
    {
     "name": "stdout",
     "output_type": "stream",
     "text": [
      "2192:\ttest: 0.7335514\tbest: 0.7335514 (2192)\ttotal: 1m 43s\tremaining: 0us\n",
      "\n",
      "bestTest = 0.7335514353\n",
      "bestIteration = 2192\n",
      "\n",
      "0:\ttest: 0.6830876\tbest: 0.6830876 (0)\ttotal: 55.9ms\tremaining: 2m 21s\n",
      "300:\ttest: 0.7340934\tbest: 0.7344342 (205)\ttotal: 14.9s\tremaining: 1m 50s\n"
     ]
    },
    {
     "name": "stderr",
     "output_type": "stream",
     "text": [
      "[I 2025-02-26 18:43:46,548] Trial 2 finished with value: 0.734434198585104 and parameters: {'iterations': 2535, 'depth': 4, 'learning_rate': 0.09275339199839054, 'l2_leaf_reg': 0.0008705394248343123}. Best is trial 0 with value: 0.7351598700299529.\n"
     ]
    },
    {
     "name": "stdout",
     "output_type": "stream",
     "text": [
      "Stopped by overfitting detector  (300 iterations wait)\n",
      "\n",
      "bestTest = 0.7344341986\n",
      "bestIteration = 205\n",
      "\n",
      "Shrink model to first 206 iterations.\n",
      "0:\ttest: 0.6830876\tbest: 0.6830876 (0)\ttotal: 56.4ms\tremaining: 2m 11s\n",
      "300:\ttest: 0.7337961\tbest: 0.7338074 (298)\ttotal: 14.3s\tremaining: 1m 36s\n",
      "600:\ttest: 0.7348972\tbest: 0.7348972 (600)\ttotal: 29.4s\tremaining: 1m 24s\n",
      "900:\ttest: 0.7349882\tbest: 0.7349889 (899)\ttotal: 45.2s\tremaining: 1m 11s\n",
      "1200:\ttest: 0.7346495\tbest: 0.7350286 (1012)\ttotal: 1m\tremaining: 57s\n"
     ]
    },
    {
     "name": "stderr",
     "output_type": "stream",
     "text": [
      "[I 2025-02-26 18:44:52,929] Trial 3 finished with value: 0.7350286352104569 and parameters: {'iterations': 2334, 'depth': 4, 'learning_rate': 0.04657568321363276, 'l2_leaf_reg': 0.0008640473331457248}. Best is trial 0 with value: 0.7351598700299529.\n"
     ]
    },
    {
     "name": "stdout",
     "output_type": "stream",
     "text": [
      "Stopped by overfitting detector  (300 iterations wait)\n",
      "\n",
      "bestTest = 0.7350286352\n",
      "bestIteration = 1012\n",
      "\n",
      "Shrink model to first 1013 iterations.\n",
      "0:\ttest: 0.7144545\tbest: 0.7144545 (0)\ttotal: 131ms\tremaining: 3m 48s\n",
      "300:\ttest: 0.7326783\tbest: 0.7326830 (296)\ttotal: 38s\tremaining: 3m 1s\n",
      "600:\ttest: 0.7337948\tbest: 0.7338194 (577)\ttotal: 1m 17s\tremaining: 2m 26s\n",
      "900:\ttest: 0.7338830\tbest: 0.7340408 (777)\ttotal: 1m 56s\tremaining: 1m 48s\n"
     ]
    },
    {
     "name": "stderr",
     "output_type": "stream",
     "text": [
      "[I 2025-02-26 18:47:15,142] Trial 4 finished with value: 0.7340408356564376 and parameters: {'iterations': 1742, 'depth': 10, 'learning_rate': 0.012622767482095846, 'l2_leaf_reg': 0.00021158816350109617}. Best is trial 0 with value: 0.7351598700299529.\n"
     ]
    },
    {
     "name": "stdout",
     "output_type": "stream",
     "text": [
      "Stopped by overfitting detector  (300 iterations wait)\n",
      "\n",
      "bestTest = 0.7340408357\n",
      "bestIteration = 777\n",
      "\n",
      "Shrink model to first 778 iterations.\n",
      "0:\ttest: 0.6830876\tbest: 0.6830876 (0)\ttotal: 53.2ms\tremaining: 1m 50s\n",
      "300:\ttest: 0.7344301\tbest: 0.7344638 (295)\ttotal: 14.5s\tremaining: 1m 25s\n",
      "600:\ttest: 0.7342985\tbest: 0.7345900 (549)\ttotal: 29.3s\tremaining: 1m 12s\n"
     ]
    },
    {
     "name": "stderr",
     "output_type": "stream",
     "text": [
      "[I 2025-02-26 18:47:57,131] Trial 5 finished with value: 0.7345900195804607 and parameters: {'iterations': 2082, 'depth': 4, 'learning_rate': 0.06995196593094148, 'l2_leaf_reg': 0.0018080296485396804}. Best is trial 0 with value: 0.7351598700299529.\n"
     ]
    },
    {
     "name": "stdout",
     "output_type": "stream",
     "text": [
      "Stopped by overfitting detector  (300 iterations wait)\n",
      "\n",
      "bestTest = 0.7345900196\n",
      "bestIteration = 549\n",
      "\n",
      "Shrink model to first 550 iterations.\n",
      "0:\ttest: 0.6889135\tbest: 0.6889135 (0)\ttotal: 66.3ms\tremaining: 2m 12s\n",
      "300:\ttest: 0.7346655\tbest: 0.7346664 (299)\ttotal: 17.7s\tremaining: 1m 39s\n",
      "600:\ttest: 0.7349058\tbest: 0.7349226 (595)\ttotal: 35.7s\tremaining: 1m 23s\n",
      "900:\ttest: 0.7349693\tbest: 0.7350271 (800)\ttotal: 53.6s\tremaining: 1m 5s\n"
     ]
    },
    {
     "name": "stderr",
     "output_type": "stream",
     "text": [
      "[I 2025-02-26 18:49:03,053] Trial 6 finished with value: 0.7350270665560449 and parameters: {'iterations': 1997, 'depth': 5, 'learning_rate': 0.07985155992831598, 'l2_leaf_reg': 62.52181000710482}. Best is trial 0 with value: 0.7351598700299529.\n"
     ]
    },
    {
     "name": "stdout",
     "output_type": "stream",
     "text": [
      "Stopped by overfitting detector  (300 iterations wait)\n",
      "\n",
      "bestTest = 0.7350270666\n",
      "bestIteration = 800\n",
      "\n",
      "Shrink model to first 801 iterations.\n",
      "0:\ttest: 0.7068470\tbest: 0.7068470 (0)\ttotal: 82.3ms\tremaining: 2m 38s\n",
      "300:\ttest: 0.7345041\tbest: 0.7349935 (185)\ttotal: 24.6s\tremaining: 2m 13s\n"
     ]
    },
    {
     "name": "stderr",
     "output_type": "stream",
     "text": [
      "[I 2025-02-26 18:49:43,844] Trial 7 finished with value: 0.7349934616101339 and parameters: {'iterations': 1927, 'depth': 7, 'learning_rate': 0.0941937211034094, 'l2_leaf_reg': 0.05654822767791934}. Best is trial 0 with value: 0.7351598700299529.\n"
     ]
    },
    {
     "name": "stdout",
     "output_type": "stream",
     "text": [
      "Stopped by overfitting detector  (300 iterations wait)\n",
      "\n",
      "bestTest = 0.7349934616\n",
      "bestIteration = 185\n",
      "\n",
      "Shrink model to first 186 iterations.\n",
      "0:\ttest: 0.7068465\tbest: 0.7068465 (0)\ttotal: 85.6ms\tremaining: 2m 42s\n",
      "300:\ttest: 0.7351138\tbest: 0.7351317 (284)\ttotal: 23.6s\tremaining: 2m 5s\n",
      "600:\ttest: 0.7350497\tbest: 0.7353373 (358)\ttotal: 49.2s\tremaining: 1m 46s\n"
     ]
    },
    {
     "name": "stderr",
     "output_type": "stream",
     "text": [
      "[I 2025-02-26 18:50:38,233] Trial 8 finished with value: 0.735337322571088 and parameters: {'iterations': 1904, 'depth': 7, 'learning_rate': 0.05155602859187331, 'l2_leaf_reg': 1.299974533316308}. Best is trial 8 with value: 0.735337322571088.\n"
     ]
    },
    {
     "name": "stdout",
     "output_type": "stream",
     "text": [
      "Stopped by overfitting detector  (300 iterations wait)\n",
      "\n",
      "bestTest = 0.7353373226\n",
      "bestIteration = 358\n",
      "\n",
      "Shrink model to first 359 iterations.\n",
      "저장 완료\n",
      "0:\ttest: 0.7066160\tbest: 0.7066160 (0)\ttotal: 73.3ms\tremaining: 3m 13s\n",
      "300:\ttest: 0.7344620\tbest: 0.7344620 (300)\ttotal: 20.1s\tremaining: 2m 35s\n",
      "600:\ttest: 0.7352703\tbest: 0.7352728 (575)\ttotal: 42.5s\tremaining: 2m 24s\n"
     ]
    },
    {
     "name": "stderr",
     "output_type": "stream",
     "text": [
      "[I 2025-02-26 18:51:44,041] Trial 9 finished with value: 0.7352764746650081 and parameters: {'iterations': 2639, 'depth': 6, 'learning_rate': 0.03968704290444751, 'l2_leaf_reg': 0.30557194377967184}. Best is trial 8 with value: 0.735337322571088.\n"
     ]
    },
    {
     "name": "stdout",
     "output_type": "stream",
     "text": [
      "900:\ttest: 0.7351730\tbest: 0.7352765 (601)\ttotal: 1m 5s\tremaining: 2m 6s\n",
      "Stopped by overfitting detector  (300 iterations wait)\n",
      "\n",
      "bestTest = 0.7352764747\n",
      "bestIteration = 601\n",
      "\n",
      "Shrink model to first 602 iterations.\n",
      "0:\ttest: 0.7124230\tbest: 0.7124230 (0)\ttotal: 99.1ms\tremaining: 4m 51s\n",
      "300:\ttest: 0.7346311\tbest: 0.7346636 (288)\ttotal: 26.6s\tremaining: 3m 53s\n",
      "600:\ttest: 0.7352543\tbest: 0.7352543 (600)\ttotal: 56.3s\tremaining: 3m 39s\n",
      "900:\ttest: 0.7349409\tbest: 0.7353413 (658)\ttotal: 1m 25s\tremaining: 3m 14s\n"
     ]
    },
    {
     "name": "stderr",
     "output_type": "stream",
     "text": [
      "[I 2025-02-26 18:53:15,994] Trial 10 finished with value: 0.7353413295895734 and parameters: {'iterations': 2945, 'depth': 8, 'learning_rate': 0.032580115422505045, 'l2_leaf_reg': 0.87526046512315}. Best is trial 10 with value: 0.7353413295895734.\n"
     ]
    },
    {
     "name": "stdout",
     "output_type": "stream",
     "text": [
      "Stopped by overfitting detector  (300 iterations wait)\n",
      "\n",
      "bestTest = 0.7353413296\n",
      "bestIteration = 658\n",
      "\n",
      "Shrink model to first 659 iterations.\n",
      "저장 완료\n",
      "0:\ttest: 0.7124232\tbest: 0.7124232 (0)\ttotal: 99.3ms\tremaining: 4m 57s\n",
      "300:\ttest: 0.7345064\tbest: 0.7345064 (300)\ttotal: 26.1s\tremaining: 3m 53s\n",
      "600:\ttest: 0.7351281\tbest: 0.7351936 (574)\ttotal: 54.9s\tremaining: 3m 38s\n",
      "900:\ttest: 0.7350965\tbest: 0.7353136 (664)\ttotal: 1m 24s\tremaining: 3m 16s\n"
     ]
    },
    {
     "name": "stderr",
     "output_type": "stream",
     "text": [
      "[I 2025-02-26 18:54:47,277] Trial 11 finished with value: 0.7353136219899964 and parameters: {'iterations': 2994, 'depth': 8, 'learning_rate': 0.031221552622542375, 'l2_leaf_reg': 0.4673950385408126}. Best is trial 10 with value: 0.7353413295895734.\n"
     ]
    },
    {
     "name": "stdout",
     "output_type": "stream",
     "text": [
      "Stopped by overfitting detector  (300 iterations wait)\n",
      "\n",
      "bestTest = 0.735313622\n",
      "bestIteration = 664\n",
      "\n",
      "Shrink model to first 665 iterations.\n",
      "0:\ttest: 0.7124254\tbest: 0.7124254 (0)\ttotal: 98.5ms\tremaining: 2m 34s\n",
      "300:\ttest: 0.7354274\tbest: 0.7354274 (300)\ttotal: 27.7s\tremaining: 1m 56s\n"
     ]
    },
    {
     "name": "stderr",
     "output_type": "stream",
     "text": [
      "[I 2025-02-26 18:55:44,891] Trial 12 finished with value: 0.7354352979457712 and parameters: {'iterations': 1565, 'depth': 8, 'learning_rate': 0.061287874640168535, 'l2_leaf_reg': 1.9319439873883546}. Best is trial 12 with value: 0.7354352979457712.\n"
     ]
    },
    {
     "name": "stdout",
     "output_type": "stream",
     "text": [
      "600:\ttest: 0.7344945\tbest: 0.7354353 (301)\ttotal: 57.3s\tremaining: 1m 31s\n",
      "Stopped by overfitting detector  (300 iterations wait)\n",
      "\n",
      "bestTest = 0.7354352979\n",
      "bestIteration = 301\n",
      "\n",
      "Shrink model to first 302 iterations.\n",
      "저장 완료\n",
      "0:\ttest: 0.7127236\tbest: 0.7127236 (0)\ttotal: 112ms\tremaining: 5m 33s\n",
      "300:\ttest: 0.7326710\tbest: 0.7338100 (145)\ttotal: 31.2s\tremaining: 4m 37s\n"
     ]
    },
    {
     "name": "stderr",
     "output_type": "stream",
     "text": [
      "[I 2025-02-26 18:56:32,976] Trial 13 finished with value: 0.7338100170950766 and parameters: {'iterations': 2975, 'depth': 9, 'learning_rate': 0.06547397644994575, 'l2_leaf_reg': 0.02104000257685424}. Best is trial 12 with value: 0.7354352979457712.\n"
     ]
    },
    {
     "name": "stdout",
     "output_type": "stream",
     "text": [
      "Stopped by overfitting detector  (300 iterations wait)\n",
      "\n",
      "bestTest = 0.7338100171\n",
      "bestIteration = 145\n",
      "\n",
      "Shrink model to first 146 iterations.\n",
      "0:\ttest: 0.7124506\tbest: 0.7124506 (0)\ttotal: 99.2ms\tremaining: 2m 31s\n",
      "300:\ttest: 0.7341714\tbest: 0.7341717 (299)\ttotal: 26.5s\tremaining: 1m 48s\n",
      "600:\ttest: 0.7351692\tbest: 0.7351692 (600)\ttotal: 54.6s\tremaining: 1m 24s\n",
      "900:\ttest: 0.7350510\tbest: 0.7351814 (631)\ttotal: 1m 23s\tremaining: 58.9s\n"
     ]
    },
    {
     "name": "stderr",
     "output_type": "stream",
     "text": [
      "[I 2025-02-26 18:58:00,108] Trial 14 finished with value: 0.7351814221501913 and parameters: {'iterations': 1533, 'depth': 8, 'learning_rate': 0.028095196631917403, 'l2_leaf_reg': 4.287340478531062}. Best is trial 12 with value: 0.7354352979457712.\n"
     ]
    },
    {
     "name": "stdout",
     "output_type": "stream",
     "text": [
      "Stopped by overfitting detector  (300 iterations wait)\n",
      "\n",
      "bestTest = 0.7351814222\n",
      "bestIteration = 631\n",
      "\n",
      "Shrink model to first 632 iterations.\n",
      "0:\ttest: 0.7068604\tbest: 0.7068604 (0)\ttotal: 97.8ms\tremaining: 4m 30s\n",
      "300:\ttest: 0.7346895\tbest: 0.7347110 (274)\ttotal: 26.6s\tremaining: 3m 37s\n",
      "600:\ttest: 0.7347381\tbest: 0.7347925 (465)\ttotal: 54.7s\tremaining: 3m 16s\n"
     ]
    },
    {
     "name": "stderr",
     "output_type": "stream",
     "text": [
      "[I 2025-02-26 18:59:10,465] Trial 15 finished with value: 0.7347925110230338 and parameters: {'iterations': 2762, 'depth': 8, 'learning_rate': 0.06314016100344143, 'l2_leaf_reg': 70.38904240458295}. Best is trial 12 with value: 0.7354352979457712.\n"
     ]
    },
    {
     "name": "stdout",
     "output_type": "stream",
     "text": [
      "Stopped by overfitting detector  (300 iterations wait)\n",
      "\n",
      "bestTest = 0.734792511\n",
      "bestIteration = 465\n",
      "\n",
      "Shrink model to first 466 iterations.\n",
      "0:\ttest: 0.7126971\tbest: 0.7126971 (0)\ttotal: 107ms\tremaining: 2m 43s\n",
      "300:\ttest: 0.7341986\tbest: 0.7341986 (300)\ttotal: 29.2s\tremaining: 1m 58s\n",
      "600:\ttest: 0.7346136\tbest: 0.7346506 (596)\ttotal: 1m\tremaining: 1m 32s\n"
     ]
    },
    {
     "name": "stderr",
     "output_type": "stream",
     "text": [
      "[I 2025-02-26 19:00:45,195] Trial 16 finished with value: 0.7346506490663058 and parameters: {'iterations': 1522, 'depth': 9, 'learning_rate': 0.025017425056443762, 'l2_leaf_reg': 0.01293514830822114}. Best is trial 12 with value: 0.7354352979457712.\n"
     ]
    },
    {
     "name": "stdout",
     "output_type": "stream",
     "text": [
      "Stopped by overfitting detector  (300 iterations wait)\n",
      "\n",
      "bestTest = 0.7346506491\n",
      "bestIteration = 596\n",
      "\n",
      "Shrink model to first 597 iterations.\n",
      "0:\ttest: 0.7066133\tbest: 0.7066133 (0)\ttotal: 79.2ms\tremaining: 2m 12s\n",
      "300:\ttest: 0.7344090\tbest: 0.7344090 (300)\ttotal: 20.3s\tremaining: 1m 32s\n",
      "600:\ttest: 0.7350552\tbest: 0.7350922 (537)\ttotal: 41.7s\tremaining: 1m 14s\n",
      "900:\ttest: 0.7350775\tbest: 0.7352247 (779)\ttotal: 1m 3s\tremaining: 54.3s\n"
     ]
    },
    {
     "name": "stderr",
     "output_type": "stream",
     "text": [
      "[I 2025-02-26 19:02:01,810] Trial 17 finished with value: 0.7352246812704712 and parameters: {'iterations': 1673, 'depth': 6, 'learning_rate': 0.040590312452871424, 'l2_leaf_reg': 10.358743474052064}. Best is trial 12 with value: 0.7354352979457712.\n"
     ]
    },
    {
     "name": "stdout",
     "output_type": "stream",
     "text": [
      "Stopped by overfitting detector  (300 iterations wait)\n",
      "\n",
      "bestTest = 0.7352246813\n",
      "bestIteration = 779\n",
      "\n",
      "Shrink model to first 780 iterations.\n",
      "0:\ttest: 0.7127403\tbest: 0.7127403 (0)\ttotal: 111ms\tremaining: 4m 34s\n",
      "300:\ttest: 0.7336722\tbest: 0.7342059 (271)\ttotal: 30.9s\tremaining: 3m 43s\n"
     ]
    },
    {
     "name": "stderr",
     "output_type": "stream",
     "text": [
      "[I 2025-02-26 19:03:03,943] Trial 18 finished with value: 0.734205933554849 and parameters: {'iterations': 2482, 'depth': 9, 'learning_rate': 0.05970016430294879, 'l2_leaf_reg': 1.389542650440726}. Best is trial 12 with value: 0.7354352979457712.\n"
     ]
    },
    {
     "name": "stdout",
     "output_type": "stream",
     "text": [
      "Stopped by overfitting detector  (300 iterations wait)\n",
      "\n",
      "bestTest = 0.7342059336\n",
      "bestIteration = 271\n",
      "\n",
      "Shrink model to first 272 iterations.\n",
      "0:\ttest: 0.7068469\tbest: 0.7068469 (0)\ttotal: 82.2ms\tremaining: 3m 46s\n",
      "300:\ttest: 0.7347489\tbest: 0.7347856 (195)\ttotal: 24.5s\tremaining: 3m 19s\n",
      "600:\ttest: 0.7336977\tbest: 0.7348381 (365)\ttotal: 50.3s\tremaining: 3m\n"
     ]
    },
    {
     "name": "stderr",
     "output_type": "stream",
     "text": [
      "[I 2025-02-26 19:04:00,050] Trial 19 finished with value: 0.7348381449669552 and parameters: {'iterations': 2755, 'depth': 7, 'learning_rate': 0.07522137814854676, 'l2_leaf_reg': 0.16069710461902}. Best is trial 12 with value: 0.7354352979457712.\n"
     ]
    },
    {
     "name": "stdout",
     "output_type": "stream",
     "text": [
      "Stopped by overfitting detector  (300 iterations wait)\n",
      "\n",
      "bestTest = 0.734838145\n",
      "bestIteration = 365\n",
      "\n",
      "Shrink model to first 366 iterations.\n",
      "0:\ttest: 0.7066157\tbest: 0.7066157 (0)\ttotal: 77ms\tremaining: 2m 17s\n",
      "300:\ttest: 0.7351135\tbest: 0.7351259 (296)\ttotal: 20.9s\tremaining: 1m 43s\n",
      "600:\ttest: 0.7352425\tbest: 0.7353663 (500)\ttotal: 42.8s\tremaining: 1m 24s\n"
     ]
    },
    {
     "name": "stderr",
     "output_type": "stream",
     "text": [
      "[I 2025-02-26 19:04:57,731] Trial 20 finished with value: 0.7353663287782415 and parameters: {'iterations': 1787, 'depth': 6, 'learning_rate': 0.055234040799606275, 'l2_leaf_reg': 1.984357926917635}. Best is trial 12 with value: 0.7354352979457712.\n"
     ]
    },
    {
     "name": "stdout",
     "output_type": "stream",
     "text": [
      "Stopped by overfitting detector  (300 iterations wait)\n",
      "\n",
      "bestTest = 0.7353663288\n",
      "bestIteration = 500\n",
      "\n",
      "Shrink model to first 501 iterations.\n",
      "0:\ttest: 0.7066160\tbest: 0.7066160 (0)\ttotal: 79.4ms\tremaining: 2m 18s\n",
      "300:\ttest: 0.7348955\tbest: 0.7349008 (299)\ttotal: 21s\tremaining: 1m 41s\n",
      "600:\ttest: 0.7349353\tbest: 0.7350748 (371)\ttotal: 42.9s\tremaining: 1m 22s\n"
     ]
    },
    {
     "name": "stderr",
     "output_type": "stream",
     "text": [
      "[I 2025-02-26 19:05:45,951] Trial 21 finished with value: 0.7350747615927254 and parameters: {'iterations': 1750, 'depth': 6, 'learning_rate': 0.053664151034171034, 'l2_leaf_reg': 1.4131031616622685}. Best is trial 12 with value: 0.7354352979457712.\n"
     ]
    },
    {
     "name": "stdout",
     "output_type": "stream",
     "text": [
      "Stopped by overfitting detector  (300 iterations wait)\n",
      "\n",
      "bestTest = 0.7350747616\n",
      "bestIteration = 371\n",
      "\n",
      "Shrink model to first 372 iterations.\n",
      "0:\ttest: 0.7068444\tbest: 0.7068444 (0)\ttotal: 83.7ms\tremaining: 2m 20s\n",
      "300:\ttest: 0.7354467\tbest: 0.7354517 (299)\ttotal: 24.9s\tremaining: 1m 53s\n"
     ]
    },
    {
     "name": "stderr",
     "output_type": "stream",
     "text": [
      "[I 2025-02-26 19:06:36,802] Trial 22 finished with value: 0.7354516874059194 and parameters: {'iterations': 1676, 'depth': 7, 'learning_rate': 0.08333292432508635, 'l2_leaf_reg': 6.0297113015361825}. Best is trial 22 with value: 0.7354516874059194.\n"
     ]
    },
    {
     "name": "stdout",
     "output_type": "stream",
     "text": [
      "Stopped by overfitting detector  (300 iterations wait)\n",
      "\n",
      "bestTest = 0.7354516874\n",
      "bestIteration = 299\n",
      "\n",
      "Shrink model to first 300 iterations.\n",
      "저장 완료\n",
      "0:\ttest: 0.6889135\tbest: 0.6889135 (0)\ttotal: 63.1ms\tremaining: 1m 43s\n",
      "300:\ttest: 0.7351578\tbest: 0.7351615 (296)\ttotal: 18.1s\tremaining: 1m 20s\n",
      "600:\ttest: 0.7350973\tbest: 0.7352578 (430)\ttotal: 36.5s\tremaining: 1m 3s\n"
     ]
    },
    {
     "name": "stderr",
     "output_type": "stream",
     "text": [
      "[I 2025-02-26 19:07:21,491] Trial 23 finished with value: 0.7352577580365423 and parameters: {'iterations': 1645, 'depth': 5, 'learning_rate': 0.08305695589542765, 'l2_leaf_reg': 17.62215473613467}. Best is trial 22 with value: 0.7354516874059194.\n"
     ]
    },
    {
     "name": "stdout",
     "output_type": "stream",
     "text": [
      "Stopped by overfitting detector  (300 iterations wait)\n",
      "\n",
      "bestTest = 0.735257758\n",
      "bestIteration = 430\n",
      "\n",
      "Shrink model to first 431 iterations.\n",
      "0:\ttest: 0.7066148\tbest: 0.7066148 (0)\ttotal: 74.3ms\tremaining: 2m 15s\n",
      "300:\ttest: 0.7350249\tbest: 0.7351979 (256)\ttotal: 21.5s\tremaining: 1m 48s\n"
     ]
    },
    {
     "name": "stderr",
     "output_type": "stream",
     "text": [
      "[I 2025-02-26 19:08:01,645] Trial 24 finished with value: 0.7351978910358795 and parameters: {'iterations': 1828, 'depth': 6, 'learning_rate': 0.08565810071644205, 'l2_leaf_reg': 6.259371433052277}. Best is trial 22 with value: 0.7354516874059194.\n"
     ]
    },
    {
     "name": "stdout",
     "output_type": "stream",
     "text": [
      "Stopped by overfitting detector  (300 iterations wait)\n",
      "\n",
      "bestTest = 0.735197891\n",
      "bestIteration = 256\n",
      "\n",
      "Shrink model to first 257 iterations.\n",
      "0:\ttest: 0.6889135\tbest: 0.6889135 (0)\ttotal: 63ms\tremaining: 1m 41s\n",
      "300:\ttest: 0.7350965\tbest: 0.7351108 (299)\ttotal: 17.9s\tremaining: 1m 17s\n",
      "600:\ttest: 0.7349899\tbest: 0.7351660 (395)\ttotal: 36.1s\tremaining: 1m\n"
     ]
    },
    {
     "name": "stderr",
     "output_type": "stream",
     "text": [
      "[I 2025-02-26 19:08:43,661] Trial 25 finished with value: 0.7351660175667373 and parameters: {'iterations': 1606, 'depth': 5, 'learning_rate': 0.09925461542913232, 'l2_leaf_reg': 28.742439562112747}. Best is trial 22 with value: 0.7354516874059194.\n"
     ]
    },
    {
     "name": "stdout",
     "output_type": "stream",
     "text": [
      "Stopped by overfitting detector  (300 iterations wait)\n",
      "\n",
      "bestTest = 0.7351660176\n",
      "bestIteration = 395\n",
      "\n",
      "Shrink model to first 396 iterations.\n",
      "0:\ttest: 0.7068459\tbest: 0.7068459 (0)\ttotal: 82.8ms\tremaining: 2m 30s\n",
      "300:\ttest: 0.7352924\tbest: 0.7353456 (295)\ttotal: 24.4s\tremaining: 2m 2s\n",
      "600:\ttest: 0.7353112\tbest: 0.7354285 (352)\ttotal: 51.3s\tremaining: 1m 43s\n"
     ]
    },
    {
     "name": "stderr",
     "output_type": "stream",
     "text": [
      "[I 2025-02-26 19:09:39,617] Trial 26 finished with value: 0.7354285070621139 and parameters: {'iterations': 1814, 'depth': 7, 'learning_rate': 0.07260205339816836, 'l2_leaf_reg': 3.5878579221242237}. Best is trial 22 with value: 0.7354516874059194.\n"
     ]
    },
    {
     "name": "stdout",
     "output_type": "stream",
     "text": [
      "Stopped by overfitting detector  (300 iterations wait)\n",
      "\n",
      "bestTest = 0.7354285071\n",
      "bestIteration = 352\n",
      "\n",
      "Shrink model to first 353 iterations.\n",
      "0:\ttest: 0.7068458\tbest: 0.7068458 (0)\ttotal: 85.9ms\tremaining: 2m 56s\n",
      "300:\ttest: 0.7348997\tbest: 0.7349072 (296)\ttotal: 24.5s\tremaining: 2m 22s\n",
      "600:\ttest: 0.7347178\tbest: 0.7350282 (526)\ttotal: 50.3s\tremaining: 2m 1s\n"
     ]
    },
    {
     "name": "stderr",
     "output_type": "stream",
     "text": [
      "[I 2025-02-26 19:10:49,618] Trial 27 finished with value: 0.7350282221976497 and parameters: {'iterations': 2053, 'depth': 7, 'learning_rate': 0.07087091407079311, 'l2_leaf_reg': 4.025861167198619}. Best is trial 22 with value: 0.7354516874059194.\n"
     ]
    },
    {
     "name": "stdout",
     "output_type": "stream",
     "text": [
      "Stopped by overfitting detector  (300 iterations wait)\n",
      "\n",
      "bestTest = 0.7350282222\n",
      "bestIteration = 526\n",
      "\n",
      "Shrink model to first 527 iterations.\n",
      "0:\ttest: 0.7068470\tbest: 0.7068470 (0)\ttotal: 86.9ms\tremaining: 3m 7s\n",
      "300:\ttest: 0.7341927\tbest: 0.7342052 (251)\ttotal: 25.7s\tremaining: 2m 38s\n",
      "600:\ttest: 0.7336523\tbest: 0.7343390 (428)\ttotal: 51.6s\tremaining: 2m 13s\n"
     ]
    },
    {
     "name": "stderr",
     "output_type": "stream",
     "text": [
      "[I 2025-02-26 19:11:52,703] Trial 28 finished with value: 0.7343390388458084 and parameters: {'iterations': 2155, 'depth': 7, 'learning_rate': 0.07579312195097332, 'l2_leaf_reg': 0.11286081582319975}. Best is trial 22 with value: 0.7354516874059194.\n"
     ]
    },
    {
     "name": "stdout",
     "output_type": "stream",
     "text": [
      "Stopped by overfitting detector  (300 iterations wait)\n",
      "\n",
      "bestTest = 0.7343390388\n",
      "bestIteration = 428\n",
      "\n",
      "Shrink model to first 429 iterations.\n",
      "0:\ttest: 0.7125448\tbest: 0.7125448 (0)\ttotal: 96.6ms\tremaining: 3m\n",
      "300:\ttest: 0.7351170\tbest: 0.7353620 (233)\ttotal: 27.4s\tremaining: 2m 23s\n"
     ]
    },
    {
     "name": "stderr",
     "output_type": "stream",
     "text": [
      "[I 2025-02-26 19:12:43,022] Trial 29 finished with value: 0.7353620477416436 and parameters: {'iterations': 1873, 'depth': 8, 'learning_rate': 0.08761825195142714, 'l2_leaf_reg': 16.659781470949568}. Best is trial 22 with value: 0.7354516874059194.\n"
     ]
    },
    {
     "name": "stdout",
     "output_type": "stream",
     "text": [
      "Stopped by overfitting detector  (300 iterations wait)\n",
      "\n",
      "bestTest = 0.7353620477\n",
      "bestIteration = 233\n",
      "\n",
      "Shrink model to first 234 iterations.\n",
      "0:\ttest: 0.7127412\tbest: 0.7127412 (0)\ttotal: 108ms\tremaining: 2m 42s\n",
      "300:\ttest: 0.7344508\tbest: 0.7349229 (204)\ttotal: 32s\tremaining: 2m 8s\n"
     ]
    },
    {
     "name": "stderr",
     "output_type": "stream",
     "text": [
      "[I 2025-02-26 19:13:38,421] Trial 30 finished with value: 0.7349228999605303 and parameters: {'iterations': 1515, 'depth': 9, 'learning_rate': 0.07251594274537872, 'l2_leaf_reg': 0.4763386213455399}. Best is trial 22 with value: 0.7354516874059194.\n"
     ]
    },
    {
     "name": "stdout",
     "output_type": "stream",
     "text": [
      "Stopped by overfitting detector  (300 iterations wait)\n",
      "\n",
      "bestTest = 0.7349229\n",
      "bestIteration = 204\n",
      "\n",
      "Shrink model to first 205 iterations.\n",
      "0:\ttest: 0.7066148\tbest: 0.7066148 (0)\ttotal: 78.9ms\tremaining: 2m 18s\n",
      "300:\ttest: 0.7349899\tbest: 0.7349899 (300)\ttotal: 21s\tremaining: 1m 41s\n",
      "600:\ttest: 0.7353272\tbest: 0.7354495 (485)\ttotal: 43.3s\tremaining: 1m 23s\n"
     ]
    },
    {
     "name": "stderr",
     "output_type": "stream",
     "text": [
      "[I 2025-02-26 19:14:35,437] Trial 31 finished with value: 0.7354494912897426 and parameters: {'iterations': 1759, 'depth': 6, 'learning_rate': 0.05596672476399886, 'l2_leaf_reg': 3.4253456922206333}. Best is trial 22 with value: 0.7354516874059194.\n"
     ]
    },
    {
     "name": "stdout",
     "output_type": "stream",
     "text": [
      "Stopped by overfitting detector  (300 iterations wait)\n",
      "\n",
      "bestTest = 0.7354494913\n",
      "bestIteration = 485\n",
      "\n",
      "Shrink model to first 486 iterations.\n",
      "0:\ttest: 0.7068459\tbest: 0.7068459 (0)\ttotal: 84.1ms\tremaining: 2m 22s\n",
      "300:\ttest: 0.7351439\tbest: 0.7351683 (284)\ttotal: 24.4s\tremaining: 1m 53s\n"
     ]
    },
    {
     "name": "stderr",
     "output_type": "stream",
     "text": [
      "[I 2025-02-26 19:15:24,090] Trial 32 finished with value: 0.735168261338238 and parameters: {'iterations': 1693, 'depth': 7, 'learning_rate': 0.06366765080452895, 'l2_leaf_reg': 3.3256304808855064}. Best is trial 22 with value: 0.7354516874059194.\n"
     ]
    },
    {
     "name": "stdout",
     "output_type": "stream",
     "text": [
      "Stopped by overfitting detector  (300 iterations wait)\n",
      "\n",
      "bestTest = 0.7351682613\n",
      "bestIteration = 284\n",
      "\n",
      "Shrink model to first 285 iterations.\n",
      "0:\ttest: 0.7066104\tbest: 0.7066104 (0)\ttotal: 76.8ms\tremaining: 2m 3s\n",
      "300:\ttest: 0.7349161\tbest: 0.7349161 (300)\ttotal: 20.6s\tremaining: 1m 29s\n",
      "600:\ttest: 0.7351708\tbest: 0.7352913 (469)\ttotal: 42.2s\tremaining: 1m 10s\n"
     ]
    },
    {
     "name": "stderr",
     "output_type": "stream",
     "text": [
      "[I 2025-02-26 19:16:18,610] Trial 33 finished with value: 0.7352913351835142 and parameters: {'iterations': 1607, 'depth': 6, 'learning_rate': 0.05933114157156735, 'l2_leaf_reg': 26.27527064249124}. Best is trial 22 with value: 0.7354516874059194.\n"
     ]
    },
    {
     "name": "stdout",
     "output_type": "stream",
     "text": [
      "Stopped by overfitting detector  (300 iterations wait)\n",
      "\n",
      "bestTest = 0.7352913352\n",
      "bestIteration = 469\n",
      "\n",
      "Shrink model to first 470 iterations.\n",
      "0:\ttest: 0.7124858\tbest: 0.7124858 (0)\ttotal: 96.4ms\tremaining: 3m 9s\n",
      "300:\ttest: 0.7347298\tbest: 0.7347298 (300)\ttotal: 27.6s\tremaining: 2m 33s\n",
      "600:\ttest: 0.7349710\tbest: 0.7351982 (420)\ttotal: 59s\tremaining: 2m 14s\n"
     ]
    },
    {
     "name": "stderr",
     "output_type": "stream",
     "text": [
      "[I 2025-02-26 19:17:29,722] Trial 34 finished with value: 0.7351982325657008 and parameters: {'iterations': 1970, 'depth': 8, 'learning_rate': 0.04635575187838246, 'l2_leaf_reg': 9.618767095391803}. Best is trial 22 with value: 0.7354516874059194.\n"
     ]
    },
    {
     "name": "stdout",
     "output_type": "stream",
     "text": [
      "Stopped by overfitting detector  (300 iterations wait)\n",
      "\n",
      "bestTest = 0.7351982326\n",
      "bestIteration = 420\n",
      "\n",
      "Shrink model to first 421 iterations.\n",
      "0:\ttest: 0.6889205\tbest: 0.6889205 (0)\ttotal: 66.4ms\tremaining: 2m\n",
      "300:\ttest: 0.7347408\tbest: 0.7347949 (289)\ttotal: 18.4s\tremaining: 1m 32s\n",
      "600:\ttest: 0.7348325\tbest: 0.7348329 (598)\ttotal: 37.4s\tremaining: 1m 15s\n",
      "900:\ttest: 0.7348136\tbest: 0.7348814 (866)\ttotal: 56.5s\tremaining: 57.2s\n"
     ]
    },
    {
     "name": "stderr",
     "output_type": "stream",
     "text": [
      "[I 2025-02-26 19:18:43,424] Trial 35 finished with value: 0.7348814120297891 and parameters: {'iterations': 1814, 'depth': 5, 'learning_rate': 0.07962187187597201, 'l2_leaf_reg': 2.6894917583642672}. Best is trial 22 with value: 0.7354516874059194.\n"
     ]
    },
    {
     "name": "stdout",
     "output_type": "stream",
     "text": [
      "Stopped by overfitting detector  (300 iterations wait)\n",
      "\n",
      "bestTest = 0.734881412\n",
      "bestIteration = 866\n",
      "\n",
      "Shrink model to first 867 iterations.\n",
      "0:\ttest: 0.7068465\tbest: 0.7068465 (0)\ttotal: 88.1ms\tremaining: 3m 12s\n",
      "300:\ttest: 0.7350128\tbest: 0.7351534 (237)\ttotal: 25s\tremaining: 2m 35s\n"
     ]
    },
    {
     "name": "stderr",
     "output_type": "stream",
     "text": [
      "[I 2025-02-26 19:19:29,242] Trial 36 finished with value: 0.73515337699207 and parameters: {'iterations': 2181, 'depth': 7, 'learning_rate': 0.06721837455563642, 'l2_leaf_reg': 0.7286490789173369}. Best is trial 22 with value: 0.7354516874059194.\n"
     ]
    },
    {
     "name": "stdout",
     "output_type": "stream",
     "text": [
      "Stopped by overfitting detector  (300 iterations wait)\n",
      "\n",
      "bestTest = 0.735153377\n",
      "bestIteration = 237\n",
      "\n",
      "Shrink model to first 238 iterations.\n",
      "0:\ttest: 0.7145320\tbest: 0.7145320 (0)\ttotal: 137ms\tremaining: 3m 53s\n",
      "300:\ttest: 0.7314127\tbest: 0.7333719 (119)\ttotal: 44.9s\tremaining: 3m 30s\n"
     ]
    },
    {
     "name": "stderr",
     "output_type": "stream",
     "text": [
      "[I 2025-02-26 19:20:34,308] Trial 37 finished with value: 0.7333718899321504 and parameters: {'iterations': 1710, 'depth': 10, 'learning_rate': 0.0895969904211826, 'l2_leaf_reg': 0.24191577432765138}. Best is trial 22 with value: 0.7354516874059194.\n"
     ]
    },
    {
     "name": "stdout",
     "output_type": "stream",
     "text": [
      "Stopped by overfitting detector  (300 iterations wait)\n",
      "\n",
      "bestTest = 0.7333718899\n",
      "bestIteration = 119\n",
      "\n",
      "Shrink model to first 120 iterations.\n",
      "0:\ttest: 0.7068716\tbest: 0.7068716 (0)\ttotal: 91.6ms\tremaining: 2m 25s\n",
      "300:\ttest: 0.7353058\tbest: 0.7353123 (291)\ttotal: 25.9s\tremaining: 1m 50s\n",
      "600:\ttest: 0.7354666\tbest: 0.7355095 (573)\ttotal: 52.1s\tremaining: 1m 25s\n"
     ]
    },
    {
     "name": "stderr",
     "output_type": "stream",
     "text": [
      "[I 2025-02-26 19:21:50,202] Trial 38 finished with value: 0.7355095171414849 and parameters: {'iterations': 1588, 'depth': 7, 'learning_rate': 0.0793595835149645, 'l2_leaf_reg': 49.963344831930826}. Best is trial 38 with value: 0.7355095171414849.\n"
     ]
    },
    {
     "name": "stdout",
     "output_type": "stream",
     "text": [
      "Stopped by overfitting detector  (300 iterations wait)\n",
      "\n",
      "bestTest = 0.7355095171\n",
      "bestIteration = 573\n",
      "\n",
      "Shrink model to first 574 iterations.\n",
      "저장 완료\n",
      "0:\ttest: 0.7066148\tbest: 0.7066148 (0)\ttotal: 77.2ms\tremaining: 3m 1s\n",
      "300:\ttest: 0.7351190\tbest: 0.7351890 (265)\ttotal: 21.7s\tremaining: 2m 27s\n",
      "600:\ttest: 0.7348014\tbest: 0.7351996 (324)\ttotal: 44s\tremaining: 2m 7s\n"
     ]
    },
    {
     "name": "stderr",
     "output_type": "stream",
     "text": [
      "[I 2025-02-26 19:22:36,199] Trial 39 finished with value: 0.7351996145700943 and parameters: {'iterations': 2349, 'depth': 6, 'learning_rate': 0.0954342028819078, 'l2_leaf_reg': 8.285579955910956}. Best is trial 38 with value: 0.7355095171414849.\n",
      "[I 2025-02-26 19:22:36,203] A new study created in memory with name: no-name-8b3358a7-d0a6-4278-9c9c-0d2bc90e738f\n"
     ]
    },
    {
     "name": "stdout",
     "output_type": "stream",
     "text": [
      "Stopped by overfitting detector  (300 iterations wait)\n",
      "\n",
      "bestTest = 0.7351996146\n",
      "bestIteration = 324\n",
      "\n",
      "Shrink model to first 325 iterations.\n"
     ]
    },
    {
     "name": "stderr",
     "output_type": "stream",
     "text": [
      "[I 2025-02-26 19:22:59,211] Trial 0 finished with value: 0.7269165632956504 and parameters: {'num_iterations': 2366, 'objective': 'binary', 'metric': 'auc', 'verbose': -1, 'learning_rate': 0.0652646236447618, 'n_estimators': 236, 'min_child_samples': 45, 'subsample': 0.7, 'colsample_bytree': 0.5}. Best is trial 0 with value: 0.7269165632956504.\n",
      "[I 2025-02-26 19:23:16,135] Trial 1 finished with value: 0.7348982145027446 and parameters: {'num_iterations': 1510, 'objective': 'binary', 'metric': 'auc', 'verbose': -1, 'learning_rate': 0.005231880959249543, 'n_estimators': 1411, 'min_child_samples': 10, 'subsample': 1.0, 'colsample_bytree': 0.5}. Best is trial 1 with value: 0.7348982145027446.\n",
      "[I 2025-02-26 19:23:35,584] Trial 2 finished with value: 0.7344062884504002 and parameters: {'num_iterations': 2334, 'objective': 'binary', 'metric': 'auc', 'verbose': -1, 'learning_rate': 0.006578527777128852, 'n_estimators': 931, 'min_child_samples': 15, 'subsample': 0.5, 'colsample_bytree': 1.0}. Best is trial 1 with value: 0.7348982145027446.\n",
      "[I 2025-02-26 19:23:52,071] Trial 3 finished with value: 0.7350458943802666 and parameters: {'num_iterations': 1620, 'objective': 'binary', 'metric': 'auc', 'verbose': -1, 'learning_rate': 0.0058823249237283685, 'n_estimators': 837, 'min_child_samples': 10, 'subsample': 0.9, 'colsample_bytree': 0.6}. Best is trial 3 with value: 0.7350458943802666.\n",
      "[I 2025-02-26 19:24:08,358] Trial 4 finished with value: 0.7343448607378795 and parameters: {'num_iterations': 1997, 'objective': 'binary', 'metric': 'auc', 'verbose': -1, 'learning_rate': 0.010907507425244923, 'n_estimators': 1597, 'min_child_samples': 50, 'subsample': 0.6, 'colsample_bytree': 0.8}. Best is trial 3 with value: 0.7350458943802666.\n",
      "[I 2025-02-26 19:24:30,782] Trial 5 finished with value: 0.7310895096764374 and parameters: {'num_iterations': 2909, 'objective': 'binary', 'metric': 'auc', 'verbose': -1, 'learning_rate': 0.019760591962733942, 'n_estimators': 612, 'min_child_samples': 30, 'subsample': 0.7, 'colsample_bytree': 0.9}. Best is trial 3 with value: 0.7350458943802666.\n",
      "[I 2025-02-26 19:24:51,474] Trial 6 finished with value: 0.7325478221572571 and parameters: {'num_iterations': 2639, 'objective': 'binary', 'metric': 'auc', 'verbose': -1, 'learning_rate': 0.017862094446750985, 'n_estimators': 794, 'min_child_samples': 35, 'subsample': 1.0, 'colsample_bytree': 0.8}. Best is trial 3 with value: 0.7350458943802666.\n",
      "[I 2025-02-26 19:25:07,920] Trial 7 finished with value: 0.7345790588559612 and parameters: {'num_iterations': 1580, 'objective': 'binary', 'metric': 'auc', 'verbose': -1, 'learning_rate': 0.01776722177611332, 'n_estimators': 529, 'min_child_samples': 25, 'subsample': 0.8, 'colsample_bytree': 0.5}. Best is trial 3 with value: 0.7350458943802666.\n",
      "[I 2025-02-26 19:25:25,642] Trial 8 finished with value: 0.7317340479323284 and parameters: {'num_iterations': 1911, 'objective': 'binary', 'metric': 'auc', 'verbose': -1, 'learning_rate': 0.0304747553332844, 'n_estimators': 1328, 'min_child_samples': 10, 'subsample': 0.7, 'colsample_bytree': 0.6}. Best is trial 3 with value: 0.7350458943802666.\n",
      "[I 2025-02-26 19:25:53,142] Trial 9 finished with value: 0.7311923657505445 and parameters: {'num_iterations': 2739, 'objective': 'binary', 'metric': 'auc', 'verbose': -1, 'learning_rate': 0.02691531614176271, 'n_estimators': 1438, 'min_child_samples': 20, 'subsample': 0.6, 'colsample_bytree': 0.5}. Best is trial 3 with value: 0.7350458943802666.\n",
      "[I 2025-02-26 19:26:07,710] Trial 10 finished with value: 0.7239479503469014 and parameters: {'num_iterations': 1883, 'objective': 'binary', 'metric': 'auc', 'verbose': -1, 'learning_rate': 0.08223556891145911, 'n_estimators': 1917, 'min_child_samples': 40, 'subsample': 0.9, 'colsample_bytree': 0.7}. Best is trial 3 with value: 0.7350458943802666.\n",
      "[I 2025-02-26 19:26:23,289] Trial 11 finished with value: 0.7348412822757794 and parameters: {'num_iterations': 1513, 'objective': 'binary', 'metric': 'auc', 'verbose': -1, 'learning_rate': 0.005340229419903739, 'n_estimators': 1206, 'min_child_samples': 10, 'subsample': 1.0, 'colsample_bytree': 0.6}. Best is trial 3 with value: 0.7350458943802666.\n",
      "[I 2025-02-26 19:26:39,972] Trial 12 finished with value: 0.734910211730539 and parameters: {'num_iterations': 1698, 'objective': 'binary', 'metric': 'auc', 'verbose': -1, 'learning_rate': 0.008515343845233947, 'n_estimators': 1719, 'min_child_samples': 20, 'subsample': 0.9, 'colsample_bytree': 0.6}. Best is trial 3 with value: 0.7350458943802666.\n",
      "[I 2025-02-26 19:26:55,057] Trial 13 finished with value: 0.7348187929341705 and parameters: {'num_iterations': 1785, 'objective': 'binary', 'metric': 'auc', 'verbose': -1, 'learning_rate': 0.010668787980411185, 'n_estimators': 2000, 'min_child_samples': 20, 'subsample': 0.9, 'colsample_bytree': 0.7}. Best is trial 3 with value: 0.7350458943802666.\n",
      "[I 2025-02-26 19:27:16,050] Trial 14 finished with value: 0.73491562458108 and parameters: {'num_iterations': 2165, 'objective': 'binary', 'metric': 'auc', 'verbose': -1, 'learning_rate': 0.00865004642514095, 'n_estimators': 1729, 'min_child_samples': 20, 'subsample': 0.9, 'colsample_bytree': 0.6}. Best is trial 3 with value: 0.7350458943802666.\n",
      "[I 2025-02-26 19:27:33,798] Trial 15 finished with value: 0.7346552041210164 and parameters: {'num_iterations': 2153, 'objective': 'binary', 'metric': 'auc', 'verbose': -1, 'learning_rate': 0.012247054095605309, 'n_estimators': 1062, 'min_child_samples': 25, 'subsample': 0.8, 'colsample_bytree': 0.7}. Best is trial 3 with value: 0.7350458943802666.\n",
      "[I 2025-02-26 19:27:53,156] Trial 16 finished with value: 0.7300414737929951 and parameters: {'num_iterations': 2126, 'objective': 'binary', 'metric': 'auc', 'verbose': -1, 'learning_rate': 0.03901437770924474, 'n_estimators': 259, 'min_child_samples': 15, 'subsample': 0.9, 'colsample_bytree': 0.6}. Best is trial 3 with value: 0.7350458943802666.\n",
      "[I 2025-02-26 19:28:17,243] Trial 17 finished with value: 0.7349296233324787 and parameters: {'num_iterations': 2486, 'objective': 'binary', 'metric': 'auc', 'verbose': -1, 'learning_rate': 0.007320263326394534, 'n_estimators': 651, 'min_child_samples': 15, 'subsample': 0.8, 'colsample_bytree': 0.6}. Best is trial 3 with value: 0.7350458943802666.\n",
      "[I 2025-02-26 19:28:38,498] Trial 18 finished with value: 0.7346777331753951 and parameters: {'num_iterations': 2533, 'objective': 'binary', 'metric': 'auc', 'verbose': -1, 'learning_rate': 0.0072788342590445, 'n_estimators': 567, 'min_child_samples': 15, 'subsample': 0.8, 'colsample_bytree': 0.7}. Best is trial 3 with value: 0.7350458943802666.\n",
      "[I 2025-02-26 19:28:58,224] Trial 19 finished with value: 0.7337593078591588 and parameters: {'num_iterations': 2481, 'objective': 'binary', 'metric': 'auc', 'verbose': -1, 'learning_rate': 0.013452330775004216, 'n_estimators': 817, 'min_child_samples': 30, 'subsample': 0.8, 'colsample_bytree': 0.8}. Best is trial 3 with value: 0.7350458943802666.\n",
      "[I 2025-02-26 19:29:21,973] Trial 20 finished with value: 0.7348299045671957 and parameters: {'num_iterations': 2838, 'objective': 'binary', 'metric': 'auc', 'verbose': -1, 'learning_rate': 0.005182910792044154, 'n_estimators': 397, 'min_child_samples': 10, 'subsample': 0.5, 'colsample_bytree': 0.9}. Best is trial 3 with value: 0.7350458943802666.\n",
      "[I 2025-02-26 19:29:43,511] Trial 21 finished with value: 0.7347923640857851 and parameters: {'num_iterations': 2225, 'objective': 'binary', 'metric': 'auc', 'verbose': -1, 'learning_rate': 0.008587022715210543, 'n_estimators': 1080, 'min_child_samples': 15, 'subsample': 0.9, 'colsample_bytree': 0.6}. Best is trial 3 with value: 0.7350458943802666.\n",
      "[I 2025-02-26 19:30:07,679] Trial 22 finished with value: 0.7349979014978116 and parameters: {'num_iterations': 2472, 'objective': 'binary', 'metric': 'auc', 'verbose': -1, 'learning_rate': 0.0075638260607072344, 'n_estimators': 760, 'min_child_samples': 25, 'subsample': 0.9, 'colsample_bytree': 0.6}. Best is trial 3 with value: 0.7350458943802666.\n",
      "[I 2025-02-26 19:30:34,075] Trial 23 finished with value: 0.7351908181915557 and parameters: {'num_iterations': 2472, 'objective': 'binary', 'metric': 'auc', 'verbose': -1, 'learning_rate': 0.0068035909916219365, 'n_estimators': 745, 'min_child_samples': 25, 'subsample': 0.8, 'colsample_bytree': 0.5}. Best is trial 23 with value: 0.7351908181915557.\n",
      "[I 2025-02-26 19:31:01,257] Trial 24 finished with value: 0.7337388557826471 and parameters: {'num_iterations': 2663, 'objective': 'binary', 'metric': 'auc', 'verbose': -1, 'learning_rate': 0.015095451407751244, 'n_estimators': 843, 'min_child_samples': 30, 'subsample': 1.0, 'colsample_bytree': 0.5}. Best is trial 23 with value: 0.7351908181915557.\n",
      "[I 2025-02-26 19:31:26,625] Trial 25 finished with value: 0.7350972866758272 and parameters: {'num_iterations': 2359, 'objective': 'binary', 'metric': 'auc', 'verbose': -1, 'learning_rate': 0.006771895086100297, 'n_estimators': 406, 'min_child_samples': 35, 'subsample': 0.9, 'colsample_bytree': 0.5}. Best is trial 23 with value: 0.7351908181915557.\n",
      "[I 2025-02-26 19:31:51,802] Trial 26 finished with value: 0.7351277185714211 and parameters: {'num_iterations': 2332, 'objective': 'binary', 'metric': 'auc', 'verbose': -1, 'learning_rate': 0.006351068537568217, 'n_estimators': 405, 'min_child_samples': 40, 'subsample': 0.8, 'colsample_bytree': 0.5}. Best is trial 23 with value: 0.7351908181915557.\n",
      "[I 2025-02-26 19:32:16,193] Trial 27 finished with value: 0.7348348170368355 and parameters: {'num_iterations': 2326, 'objective': 'binary', 'metric': 'auc', 'verbose': -1, 'learning_rate': 0.010163025049031226, 'n_estimators': 402, 'min_child_samples': 40, 'subsample': 0.7, 'colsample_bytree': 0.5}. Best is trial 23 with value: 0.7351908181915557.\n",
      "[I 2025-02-26 19:32:36,922] Trial 28 finished with value: 0.7299093811776689 and parameters: {'num_iterations': 2064, 'objective': 'binary', 'metric': 'auc', 'verbose': -1, 'learning_rate': 0.043312568450233686, 'n_estimators': 120, 'min_child_samples': 35, 'subsample': 0.8, 'colsample_bytree': 0.5}. Best is trial 23 with value: 0.7351908181915557.\n",
      "[I 2025-02-26 19:33:01,450] Trial 29 finished with value: 0.7337193210711208 and parameters: {'num_iterations': 2362, 'objective': 'binary', 'metric': 'auc', 'verbose': -1, 'learning_rate': 0.01462036647345654, 'n_estimators': 359, 'min_child_samples': 45, 'subsample': 0.6, 'colsample_bytree': 0.5}. Best is trial 23 with value: 0.7351908181915557.\n",
      "[I 2025-02-26 19:33:29,221] Trial 30 finished with value: 0.7351136245093746 and parameters: {'num_iterations': 2574, 'objective': 'binary', 'metric': 'auc', 'verbose': -1, 'learning_rate': 0.006300048275050027, 'n_estimators': 104, 'min_child_samples': 40, 'subsample': 0.7, 'colsample_bytree': 0.5}. Best is trial 23 with value: 0.7351908181915557.\n",
      "[I 2025-02-26 19:33:56,528] Trial 31 finished with value: 0.735078713013333 and parameters: {'num_iterations': 2560, 'objective': 'binary', 'metric': 'auc', 'verbose': -1, 'learning_rate': 0.0063915656753276325, 'n_estimators': 117, 'min_child_samples': 40, 'subsample': 0.7, 'colsample_bytree': 0.5}. Best is trial 23 with value: 0.7351908181915557.\n",
      "[I 2025-02-26 19:34:21,752] Trial 32 finished with value: 0.7348902123796046 and parameters: {'num_iterations': 2405, 'objective': 'binary', 'metric': 'auc', 'verbose': -1, 'learning_rate': 0.00913800928768175, 'n_estimators': 229, 'min_child_samples': 45, 'subsample': 0.8, 'colsample_bytree': 0.5}. Best is trial 23 with value: 0.7351908181915557.\n",
      "[I 2025-02-26 19:34:46,321] Trial 33 finished with value: 0.7351738806951825 and parameters: {'num_iterations': 2276, 'objective': 'binary', 'metric': 'auc', 'verbose': -1, 'learning_rate': 0.006352735643641174, 'n_estimators': 495, 'min_child_samples': 35, 'subsample': 0.7, 'colsample_bytree': 0.5}. Best is trial 23 with value: 0.7351908181915557.\n",
      "[I 2025-02-26 19:35:10,510] Trial 34 finished with value: 0.7351865490687888 and parameters: {'num_iterations': 2232, 'objective': 'binary', 'metric': 'auc', 'verbose': -1, 'learning_rate': 0.005937692808266333, 'n_estimators': 263, 'min_child_samples': 50, 'subsample': 0.6, 'colsample_bytree': 0.5}. Best is trial 23 with value: 0.7351908181915557.\n",
      "[I 2025-02-26 19:35:35,436] Trial 35 finished with value: 0.7351945511919288 and parameters: {'num_iterations': 2275, 'objective': 'binary', 'metric': 'auc', 'verbose': -1, 'learning_rate': 0.00518660022781585, 'n_estimators': 487, 'min_child_samples': 50, 'subsample': 0.6, 'colsample_bytree': 0.5}. Best is trial 35 with value: 0.7351945511919288.\n",
      "[I 2025-02-26 19:35:59,926] Trial 36 finished with value: 0.7351050425797936 and parameters: {'num_iterations': 2245, 'objective': 'binary', 'metric': 'auc', 'verbose': -1, 'learning_rate': 0.0051747578339557095, 'n_estimators': 692, 'min_child_samples': 50, 'subsample': 0.6, 'colsample_bytree': 0.5}. Best is trial 35 with value: 0.7351945511919288.\n",
      "[I 2025-02-26 19:36:17,426] Trial 37 finished with value: 0.7350868700162757 and parameters: {'num_iterations': 2027, 'objective': 'binary', 'metric': 'auc', 'verbose': -1, 'learning_rate': 0.005585439343205318, 'n_estimators': 516, 'min_child_samples': 45, 'subsample': 0.6, 'colsample_bytree': 1.0}. Best is trial 35 with value: 0.7351945511919288.\n",
      "[I 2025-02-26 19:36:36,296] Trial 38 finished with value: 0.7347728452593667 and parameters: {'num_iterations': 2292, 'objective': 'binary', 'metric': 'auc', 'verbose': -1, 'learning_rate': 0.007740705569147426, 'n_estimators': 930, 'min_child_samples': 50, 'subsample': 0.5, 'colsample_bytree': 0.9}. Best is trial 35 with value: 0.7351945511919288.\n",
      "[I 2025-02-26 19:37:00,362] Trial 39 finished with value: 0.7350971556236864 and parameters: {'num_iterations': 2413, 'objective': 'binary', 'metric': 'auc', 'verbose': -1, 'learning_rate': 0.005020790827250868, 'n_estimators': 272, 'min_child_samples': 50, 'subsample': 0.6, 'colsample_bytree': 0.6}. Best is trial 35 with value: 0.7351945511919288.\n"
     ]
    },
    {
     "name": "stdout",
     "output_type": "stream",
     "text": [
      "Cat val score : 0.7355095171414849\n",
      "LGBM val score : 0.7352465193226532\n",
      "Ensemble val score : 0.7356906867978852\n"
     ]
    },
    {
     "name": "stderr",
     "output_type": "stream",
     "text": [
      "[I 2025-02-26 19:37:26,873] A new study created in memory with name: no-name-5a9f74ed-fc9c-4aa0-b824-1be0eecfeb5e\n"
     ]
    },
    {
     "name": "stdout",
     "output_type": "stream",
     "text": [
      "==================================================\n",
      "0:\ttest: 0.7231448\tbest: 0.7231448 (0)\ttotal: 151ms\tremaining: 5m 56s\n",
      "300:\ttest: 0.7399063\tbest: 0.7399063 (300)\ttotal: 38.6s\tremaining: 4m 24s\n",
      "600:\ttest: 0.7416239\tbest: 0.7416239 (600)\ttotal: 1m 19s\tremaining: 3m 54s\n",
      "900:\ttest: 0.7422708\tbest: 0.7422781 (884)\ttotal: 2m 1s\tremaining: 3m 17s\n",
      "1200:\ttest: 0.7426353\tbest: 0.7426597 (1196)\ttotal: 2m 46s\tremaining: 2m 41s\n",
      "1500:\ttest: 0.7426540\tbest: 0.7427388 (1337)\ttotal: 3m 37s\tremaining: 2m 5s\n"
     ]
    },
    {
     "name": "stderr",
     "output_type": "stream",
     "text": [
      "[I 2025-02-26 19:41:27,781] Trial 0 finished with value: 0.7427387702095705 and parameters: {'iterations': 2366, 'depth': 10, 'learning_rate': 0.01181021951839225, 'l2_leaf_reg': 9.980783802743254}. Best is trial 0 with value: 0.7427387702095705.\n"
     ]
    },
    {
     "name": "stdout",
     "output_type": "stream",
     "text": [
      "Stopped by overfitting detector  (300 iterations wait)\n",
      "\n",
      "bestTest = 0.7427387702\n",
      "bestIteration = 1337\n",
      "\n",
      "Shrink model to first 1338 iterations.\n",
      "저장 완료\n",
      "0:\ttest: 0.6875095\tbest: 0.6875095 (0)\ttotal: 57.5ms\tremaining: 2m 5s\n"
     ]
    },
    {
     "name": "stderr",
     "output_type": "stream",
     "text": [
      "Training has stopped (degenerate solution on iteration 265, probably too small l2-regularization, try to increase it)\n",
      "[I 2025-02-26 19:41:40,021] Trial 1 finished with value: 0.7280899525373625 and parameters: {'iterations': 2193, 'depth': 4, 'learning_rate': 0.005671430811678843, 'l2_leaf_reg': 0.00012325230809466137}. Best is trial 0 with value: 0.7427387702095705.\n"
     ]
    },
    {
     "name": "stdout",
     "output_type": "stream",
     "text": [
      "\n",
      "bestTest = 0.7280899525\n",
      "bestIteration = 264\n",
      "\n",
      "Shrink model to first 265 iterations.\n",
      "0:\ttest: 0.6875095\tbest: 0.6875095 (0)\ttotal: 70.7ms\tremaining: 2m 59s\n",
      "300:\ttest: 0.7414313\tbest: 0.7414313 (300)\ttotal: 15.9s\tremaining: 1m 58s\n",
      "600:\ttest: 0.7411622\tbest: 0.7417742 (392)\ttotal: 32s\tremaining: 1m 42s\n"
     ]
    },
    {
     "name": "stderr",
     "output_type": "stream",
     "text": [
      "[I 2025-02-26 19:42:17,034] Trial 2 finished with value: 0.7417741748270188 and parameters: {'iterations': 2535, 'depth': 4, 'learning_rate': 0.09275339199839054, 'l2_leaf_reg': 0.0008705394248343123}. Best is trial 0 with value: 0.7427387702095705.\n"
     ]
    },
    {
     "name": "stdout",
     "output_type": "stream",
     "text": [
      "Stopped by overfitting detector  (300 iterations wait)\n",
      "\n",
      "bestTest = 0.7417741748\n",
      "bestIteration = 392\n",
      "\n",
      "Shrink model to first 393 iterations.\n",
      "0:\ttest: 0.6875095\tbest: 0.6875095 (0)\ttotal: 58.3ms\tremaining: 2m 16s\n",
      "300:\ttest: 0.7400750\tbest: 0.7400750 (300)\ttotal: 14.7s\tremaining: 1m 39s\n",
      "600:\ttest: 0.7411973\tbest: 0.7412961 (577)\ttotal: 30.2s\tremaining: 1m 27s\n",
      "900:\ttest: 0.7414938\tbest: 0.7415568 (784)\ttotal: 45.8s\tremaining: 1m 12s\n"
     ]
    },
    {
     "name": "stderr",
     "output_type": "stream",
     "text": [
      "[I 2025-02-26 19:43:12,771] Trial 3 finished with value: 0.7415568466936013 and parameters: {'iterations': 2334, 'depth': 4, 'learning_rate': 0.04657568321363276, 'l2_leaf_reg': 0.0008640473331457248}. Best is trial 0 with value: 0.7427387702095705.\n"
     ]
    },
    {
     "name": "stdout",
     "output_type": "stream",
     "text": [
      "Stopped by overfitting detector  (300 iterations wait)\n",
      "\n",
      "bestTest = 0.7415568467\n",
      "bestIteration = 784\n",
      "\n",
      "Shrink model to first 785 iterations.\n",
      "0:\ttest: 0.7232006\tbest: 0.7232006 (0)\ttotal: 134ms\tremaining: 3m 53s\n",
      "300:\ttest: 0.7389745\tbest: 0.7389745 (300)\ttotal: 39.9s\tremaining: 3m 11s\n",
      "600:\ttest: 0.7402725\tbest: 0.7402725 (600)\ttotal: 1m 22s\tremaining: 2m 37s\n",
      "900:\ttest: 0.7404854\tbest: 0.7404918 (899)\ttotal: 2m 2s\tremaining: 1m 53s\n",
      "1200:\ttest: 0.7400659\tbest: 0.7405138 (934)\ttotal: 2m 48s\tremaining: 1m 15s\n"
     ]
    },
    {
     "name": "stderr",
     "output_type": "stream",
     "text": [
      "[I 2025-02-26 19:46:07,050] Trial 4 finished with value: 0.7405137590212918 and parameters: {'iterations': 1742, 'depth': 10, 'learning_rate': 0.012622767482095846, 'l2_leaf_reg': 0.00021158816350109617}. Best is trial 0 with value: 0.7427387702095705.\n"
     ]
    },
    {
     "name": "stdout",
     "output_type": "stream",
     "text": [
      "Stopped by overfitting detector  (300 iterations wait)\n",
      "\n",
      "bestTest = 0.740513759\n",
      "bestIteration = 934\n",
      "\n",
      "Shrink model to first 935 iterations.\n",
      "0:\ttest: 0.6875095\tbest: 0.6875095 (0)\ttotal: 58.1ms\tremaining: 2m\n",
      "300:\ttest: 0.7413558\tbest: 0.7413558 (300)\ttotal: 15s\tremaining: 1m 28s\n",
      "600:\ttest: 0.7415731\tbest: 0.7418462 (489)\ttotal: 30.6s\tremaining: 1m 15s\n"
     ]
    },
    {
     "name": "stderr",
     "output_type": "stream",
     "text": [
      "[I 2025-02-26 19:46:47,797] Trial 5 finished with value: 0.7418462098203866 and parameters: {'iterations': 2082, 'depth': 4, 'learning_rate': 0.06995196593094148, 'l2_leaf_reg': 0.0018080296485396804}. Best is trial 0 with value: 0.7427387702095705.\n"
     ]
    },
    {
     "name": "stdout",
     "output_type": "stream",
     "text": [
      "Stopped by overfitting detector  (300 iterations wait)\n",
      "\n",
      "bestTest = 0.7418462098\n",
      "bestIteration = 489\n",
      "\n",
      "Shrink model to first 490 iterations.\n",
      "0:\ttest: 0.6944579\tbest: 0.6944579 (0)\ttotal: 69.8ms\tremaining: 2m 19s\n",
      "300:\ttest: 0.7417102\tbest: 0.7417125 (298)\ttotal: 18.5s\tremaining: 1m 44s\n",
      "600:\ttest: 0.7423605\tbest: 0.7423811 (559)\ttotal: 37.7s\tremaining: 1m 27s\n",
      "900:\ttest: 0.7425311\tbest: 0.7425646 (855)\ttotal: 56.8s\tremaining: 1m 9s\n"
     ]
    },
    {
     "name": "stderr",
     "output_type": "stream",
     "text": [
      "[I 2025-02-26 19:48:01,309] Trial 6 finished with value: 0.7425646376560011 and parameters: {'iterations': 1997, 'depth': 5, 'learning_rate': 0.07985155992831598, 'l2_leaf_reg': 62.52181000710482}. Best is trial 0 with value: 0.7427387702095705.\n"
     ]
    },
    {
     "name": "stdout",
     "output_type": "stream",
     "text": [
      "Stopped by overfitting detector  (300 iterations wait)\n",
      "\n",
      "bestTest = 0.7425646377\n",
      "bestIteration = 855\n",
      "\n",
      "Shrink model to first 856 iterations.\n",
      "0:\ttest: 0.7140776\tbest: 0.7140776 (0)\ttotal: 87.5ms\tremaining: 2m 48s\n",
      "300:\ttest: 0.7426177\tbest: 0.7428247 (259)\ttotal: 25.1s\tremaining: 2m 15s\n"
     ]
    },
    {
     "name": "stderr",
     "output_type": "stream",
     "text": [
      "[I 2025-02-26 19:48:49,551] Trial 7 finished with value: 0.7428247205575202 and parameters: {'iterations': 1927, 'depth': 7, 'learning_rate': 0.0941937211034094, 'l2_leaf_reg': 0.05654822767791934}. Best is trial 7 with value: 0.7428247205575202.\n"
     ]
    },
    {
     "name": "stdout",
     "output_type": "stream",
     "text": [
      "Stopped by overfitting detector  (300 iterations wait)\n",
      "\n",
      "bestTest = 0.7428247206\n",
      "bestIteration = 259\n",
      "\n",
      "Shrink model to first 260 iterations.\n",
      "저장 완료\n",
      "0:\ttest: 0.7140772\tbest: 0.7140772 (0)\ttotal: 87.4ms\tremaining: 2m 46s\n",
      "300:\ttest: 0.7425316\tbest: 0.7425342 (298)\ttotal: 24.9s\tremaining: 2m 12s\n",
      "600:\ttest: 0.7422977\tbest: 0.7425812 (312)\ttotal: 51.4s\tremaining: 1m 51s\n"
     ]
    },
    {
     "name": "stderr",
     "output_type": "stream",
     "text": [
      "[I 2025-02-26 19:49:42,163] Trial 8 finished with value: 0.7425812058236141 and parameters: {'iterations': 1904, 'depth': 7, 'learning_rate': 0.05155602859187331, 'l2_leaf_reg': 1.299974533316308}. Best is trial 7 with value: 0.7428247205575202.\n"
     ]
    },
    {
     "name": "stdout",
     "output_type": "stream",
     "text": [
      "Stopped by overfitting detector  (300 iterations wait)\n",
      "\n",
      "bestTest = 0.7425812058\n",
      "bestIteration = 312\n",
      "\n",
      "Shrink model to first 313 iterations.\n",
      "0:\ttest: 0.7138804\tbest: 0.7138804 (0)\ttotal: 80.1ms\tremaining: 3m 31s\n",
      "300:\ttest: 0.7415293\tbest: 0.7415293 (300)\ttotal: 20.6s\tremaining: 2m 40s\n",
      "600:\ttest: 0.7425207\tbest: 0.7425883 (533)\ttotal: 43.2s\tremaining: 2m 26s\n"
     ]
    },
    {
     "name": "stderr",
     "output_type": "stream",
     "text": [
      "[I 2025-02-26 19:50:43,409] Trial 9 finished with value: 0.7425883064668767 and parameters: {'iterations': 2639, 'depth': 6, 'learning_rate': 0.03968704290444751, 'l2_leaf_reg': 0.30557194377967184}. Best is trial 7 with value: 0.7428247205575202.\n"
     ]
    },
    {
     "name": "stdout",
     "output_type": "stream",
     "text": [
      "Stopped by overfitting detector  (300 iterations wait)\n",
      "\n",
      "bestTest = 0.7425883065\n",
      "bestIteration = 533\n",
      "\n",
      "Shrink model to first 534 iterations.\n",
      "0:\ttest: 0.7209353\tbest: 0.7209353 (0)\ttotal: 99.3ms\tremaining: 4m 52s\n",
      "300:\ttest: 0.7394399\tbest: 0.7412437 (134)\ttotal: 29.1s\tremaining: 4m 15s\n"
     ]
    },
    {
     "name": "stderr",
     "output_type": "stream",
     "text": [
      "[I 2025-02-26 19:51:26,416] Trial 10 finished with value: 0.7412437075314617 and parameters: {'iterations': 2945, 'depth': 8, 'learning_rate': 0.09878736770120888, 'l2_leaf_reg': 0.021714959500133205}. Best is trial 7 with value: 0.7428247205575202.\n"
     ]
    },
    {
     "name": "stdout",
     "output_type": "stream",
     "text": [
      "Stopped by overfitting detector  (300 iterations wait)\n",
      "\n",
      "bestTest = 0.7412437075\n",
      "bestIteration = 134\n",
      "\n",
      "Shrink model to first 135 iterations.\n",
      "0:\ttest: 0.7231433\tbest: 0.7231433 (0)\ttotal: 140ms\tremaining: 3m 51s\n",
      "300:\ttest: 0.7418702\tbest: 0.7418771 (298)\ttotal: 39.6s\tremaining: 2m 57s\n",
      "600:\ttest: 0.7424151\tbest: 0.7425462 (532)\ttotal: 1m 22s\tremaining: 2m 25s\n"
     ]
    },
    {
     "name": "stderr",
     "output_type": "stream",
     "text": [
      "[I 2025-02-26 19:53:28,586] Trial 11 finished with value: 0.7425462109307557 and parameters: {'iterations': 1654, 'depth': 10, 'learning_rate': 0.026163874004606635, 'l2_leaf_reg': 9.33442822511739}. Best is trial 7 with value: 0.7428247205575202.\n"
     ]
    },
    {
     "name": "stdout",
     "output_type": "stream",
     "text": [
      "Stopped by overfitting detector  (300 iterations wait)\n",
      "\n",
      "bestTest = 0.7425462109\n",
      "bestIteration = 532\n",
      "\n",
      "Shrink model to first 533 iterations.\n",
      "0:\ttest: 0.7209352\tbest: 0.7209352 (0)\ttotal: 101ms\tremaining: 3m 59s\n",
      "300:\ttest: 0.7415427\tbest: 0.7419219 (262)\ttotal: 28s\tremaining: 3m 13s\n"
     ]
    },
    {
     "name": "stderr",
     "output_type": "stream",
     "text": [
      "[I 2025-02-26 19:54:23,598] Trial 12 finished with value: 0.7419218705896486 and parameters: {'iterations': 2381, 'depth': 8, 'learning_rate': 0.06771421694672401, 'l2_leaf_reg': 0.028450890806958902}. Best is trial 7 with value: 0.7428247205575202.\n"
     ]
    },
    {
     "name": "stdout",
     "output_type": "stream",
     "text": [
      "Stopped by overfitting detector  (300 iterations wait)\n",
      "\n",
      "bestTest = 0.7419218706\n",
      "bestIteration = 262\n",
      "\n",
      "Shrink model to first 263 iterations.\n",
      "0:\ttest: 0.7207075\tbest: 0.7207075 (0)\ttotal: 111ms\tremaining: 5m 8s\n",
      "300:\ttest: 0.7419505\tbest: 0.7419519 (298)\ttotal: 30.1s\tremaining: 4m 9s\n",
      "600:\ttest: 0.7422407\tbest: 0.7423125 (493)\ttotal: 1m 4s\tremaining: 3m 54s\n",
      "900:\ttest: 0.7421283\tbest: 0.7423130 (644)\ttotal: 1m 39s\tremaining: 3m 29s\n"
     ]
    },
    {
     "name": "stderr",
     "output_type": "stream",
     "text": [
      "[I 2025-02-26 19:56:08,745] Trial 13 finished with value: 0.7423129579765981 and parameters: {'iterations': 2793, 'depth': 9, 'learning_rate': 0.03185308874320259, 'l2_leaf_reg': 1.3631804219559538}. Best is trial 7 with value: 0.7428247205575202.\n"
     ]
    },
    {
     "name": "stdout",
     "output_type": "stream",
     "text": [
      "Stopped by overfitting detector  (300 iterations wait)\n",
      "\n",
      "bestTest = 0.742312958\n",
      "bestIteration = 644\n",
      "\n",
      "Shrink model to first 645 iterations.\n",
      "0:\ttest: 0.7139853\tbest: 0.7139853 (0)\ttotal: 90.7ms\tremaining: 2m 18s\n",
      "300:\ttest: 0.7423682\tbest: 0.7423847 (289)\ttotal: 24.2s\tremaining: 1m 38s\n",
      "600:\ttest: 0.7429114\tbest: 0.7429270 (591)\ttotal: 50.1s\tremaining: 1m 17s\n",
      "900:\ttest: 0.7430261\tbest: 0.7431790 (786)\ttotal: 1m 16s\tremaining: 53.5s\n"
     ]
    },
    {
     "name": "stderr",
     "output_type": "stream",
     "text": [
      "[I 2025-02-26 19:57:41,331] Trial 14 finished with value: 0.7431790458333497 and parameters: {'iterations': 1533, 'depth': 7, 'learning_rate': 0.06360197240837719, 'l2_leaf_reg': 92.74223128282539}. Best is trial 14 with value: 0.7431790458333497.\n"
     ]
    },
    {
     "name": "stdout",
     "output_type": "stream",
     "text": [
      "Stopped by overfitting detector  (300 iterations wait)\n",
      "\n",
      "bestTest = 0.7431790458\n",
      "bestIteration = 786\n",
      "\n",
      "Shrink model to first 787 iterations.\n",
      "저장 완료\n",
      "0:\ttest: 0.7140776\tbest: 0.7140776 (0)\ttotal: 83.5ms\tremaining: 2m 6s\n",
      "300:\ttest: 0.7414383\tbest: 0.7415188 (285)\ttotal: 24.6s\tremaining: 1m 39s\n",
      "600:\ttest: 0.7413960\tbest: 0.7416568 (373)\ttotal: 51.2s\tremaining: 1m 17s\n"
     ]
    },
    {
     "name": "stderr",
     "output_type": "stream",
     "text": [
      "[I 2025-02-26 19:58:39,187] Trial 15 finished with value: 0.7416568474195508 and parameters: {'iterations': 1513, 'depth': 7, 'learning_rate': 0.06383432824074396, 'l2_leaf_reg': 0.06436891420947155}. Best is trial 14 with value: 0.7431790458333497.\n"
     ]
    },
    {
     "name": "stdout",
     "output_type": "stream",
     "text": [
      "Stopped by overfitting detector  (300 iterations wait)\n",
      "\n",
      "bestTest = 0.7416568474\n",
      "bestIteration = 373\n",
      "\n",
      "Shrink model to first 374 iterations.\n",
      "0:\ttest: 0.7138782\tbest: 0.7138782 (0)\ttotal: 77.6ms\tremaining: 2m 20s\n",
      "300:\ttest: 0.7423972\tbest: 0.7424021 (295)\ttotal: 21.6s\tremaining: 1m 48s\n",
      "600:\ttest: 0.7426376\tbest: 0.7426808 (560)\ttotal: 44.1s\tremaining: 1m 28s\n"
     ]
    },
    {
     "name": "stderr",
     "output_type": "stream",
     "text": [
      "[I 2025-02-26 19:59:42,959] Trial 16 finished with value: 0.7426807895654792 and parameters: {'iterations': 1809, 'depth': 6, 'learning_rate': 0.08302816060321334, 'l2_leaf_reg': 70.62449335004031}. Best is trial 14 with value: 0.7431790458333497.\n"
     ]
    },
    {
     "name": "stdout",
     "output_type": "stream",
     "text": [
      "Stopped by overfitting detector  (300 iterations wait)\n",
      "\n",
      "bestTest = 0.7426807896\n",
      "bestIteration = 560\n",
      "\n",
      "Shrink model to first 561 iterations.\n",
      "0:\ttest: 0.7209353\tbest: 0.7209353 (0)\ttotal: 96.3ms\tremaining: 2m 25s\n",
      "300:\ttest: 0.7394426\tbest: 0.7410774 (201)\ttotal: 28.3s\tremaining: 1m 53s\n"
     ]
    },
    {
     "name": "stderr",
     "output_type": "stream",
     "text": [
      "[I 2025-02-26 20:00:31,829] Trial 17 finished with value: 0.7410773904510136 and parameters: {'iterations': 1513, 'depth': 8, 'learning_rate': 0.08120553771001755, 'l2_leaf_reg': 0.00795480840919648}. Best is trial 14 with value: 0.7431790458333497.\n"
     ]
    },
    {
     "name": "stdout",
     "output_type": "stream",
     "text": [
      "Stopped by overfitting detector  (300 iterations wait)\n",
      "\n",
      "bestTest = 0.7410773905\n",
      "bestIteration = 201\n",
      "\n",
      "Shrink model to first 202 iterations.\n",
      "0:\ttest: 0.7138804\tbest: 0.7138804 (0)\ttotal: 81.5ms\tremaining: 2m 17s\n",
      "300:\ttest: 0.7422627\tbest: 0.7422779 (292)\ttotal: 21.6s\tremaining: 1m 39s\n",
      "600:\ttest: 0.7420020\tbest: 0.7425259 (375)\ttotal: 44.4s\tremaining: 1m 20s\n"
     ]
    },
    {
     "name": "stderr",
     "output_type": "stream",
     "text": [
      "[I 2025-02-26 20:01:22,164] Trial 18 finished with value: 0.7425258938776618 and parameters: {'iterations': 1692, 'depth': 6, 'learning_rate': 0.05970016430294879, 'l2_leaf_reg': 0.6569674192630217}. Best is trial 14 with value: 0.7431790458333497.\n"
     ]
    },
    {
     "name": "stdout",
     "output_type": "stream",
     "text": [
      "Stopped by overfitting detector  (300 iterations wait)\n",
      "\n",
      "bestTest = 0.7425258939\n",
      "bestIteration = 375\n",
      "\n",
      "Shrink model to first 376 iterations.\n",
      "0:\ttest: 0.7140775\tbest: 0.7140775 (0)\ttotal: 87.5ms\tremaining: 2m 52s\n",
      "300:\ttest: 0.7416503\tbest: 0.7421096 (225)\ttotal: 25.3s\tremaining: 2m 20s\n"
     ]
    },
    {
     "name": "stderr",
     "output_type": "stream",
     "text": [
      "[I 2025-02-26 20:02:07,488] Trial 19 finished with value: 0.7421096325658565 and parameters: {'iterations': 1975, 'depth': 7, 'learning_rate': 0.08861004357617497, 'l2_leaf_reg': 0.24652568323899787}. Best is trial 14 with value: 0.7431790458333497.\n"
     ]
    },
    {
     "name": "stdout",
     "output_type": "stream",
     "text": [
      "Stopped by overfitting detector  (300 iterations wait)\n",
      "\n",
      "bestTest = 0.7421096326\n",
      "bestIteration = 225\n",
      "\n",
      "Shrink model to first 226 iterations.\n",
      "0:\ttest: 0.7206760\tbest: 0.7206760 (0)\ttotal: 111ms\tremaining: 3m 26s\n",
      "300:\ttest: 0.7424452\tbest: 0.7428421 (219)\ttotal: 32.2s\tremaining: 2m 46s\n"
     ]
    },
    {
     "name": "stderr",
     "output_type": "stream",
     "text": [
      "[I 2025-02-26 20:03:05,568] Trial 20 finished with value: 0.7428421107794707 and parameters: {'iterations': 1854, 'depth': 9, 'learning_rate': 0.07678055128538461, 'l2_leaf_reg': 6.211119165892711}. Best is trial 14 with value: 0.7431790458333497.\n"
     ]
    },
    {
     "name": "stdout",
     "output_type": "stream",
     "text": [
      "Stopped by overfitting detector  (300 iterations wait)\n",
      "\n",
      "bestTest = 0.7428421108\n",
      "bestIteration = 219\n",
      "\n",
      "Shrink model to first 220 iterations.\n",
      "0:\ttest: 0.7206569\tbest: 0.7206569 (0)\ttotal: 109ms\tremaining: 3m 18s\n",
      "300:\ttest: 0.7423462\tbest: 0.7424900 (198)\ttotal: 32.5s\tremaining: 2m 44s\n",
      "600:\ttest: 0.7419730\tbest: 0.7425816 (351)\ttotal: 1m 8s\tremaining: 2m 18s\n"
     ]
    },
    {
     "name": "stderr",
     "output_type": "stream",
     "text": [
      "[I 2025-02-26 20:04:19,933] Trial 21 finished with value: 0.7425815950087593 and parameters: {'iterations': 1822, 'depth': 9, 'learning_rate': 0.07408868901452825, 'l2_leaf_reg': 11.376081917912753}. Best is trial 14 with value: 0.7431790458333497.\n"
     ]
    },
    {
     "name": "stdout",
     "output_type": "stream",
     "text": [
      "Stopped by overfitting detector  (300 iterations wait)\n",
      "\n",
      "bestTest = 0.742581595\n",
      "bestIteration = 351\n",
      "\n",
      "Shrink model to first 352 iterations.\n",
      "0:\ttest: 0.7206205\tbest: 0.7206205 (0)\ttotal: 111ms\tremaining: 3m 59s\n",
      "300:\ttest: 0.7427957\tbest: 0.7429035 (230)\ttotal: 32.4s\tremaining: 3m 19s\n"
     ]
    },
    {
     "name": "stderr",
     "output_type": "stream",
     "text": [
      "[I 2025-02-26 20:05:20,420] Trial 22 finished with value: 0.7429034670090056 and parameters: {'iterations': 2151, 'depth': 9, 'learning_rate': 0.09783348697421067, 'l2_leaf_reg': 25.946481976049977}. Best is trial 14 with value: 0.7431790458333497.\n"
     ]
    },
    {
     "name": "stdout",
     "output_type": "stream",
     "text": [
      "Stopped by overfitting detector  (300 iterations wait)\n",
      "\n",
      "bestTest = 0.742903467\n",
      "bestIteration = 230\n",
      "\n",
      "Shrink model to first 231 iterations.\n",
      "0:\ttest: 0.7205947\tbest: 0.7205947 (0)\ttotal: 111ms\tremaining: 3m 58s\n",
      "300:\ttest: 0.7426346\tbest: 0.7426879 (285)\ttotal: 31.4s\tremaining: 3m 11s\n",
      "600:\ttest: 0.7424513\tbest: 0.7429025 (401)\ttotal: 1m 6s\tremaining: 2m 50s\n"
     ]
    },
    {
     "name": "stderr",
     "output_type": "stream",
     "text": [
      "[I 2025-02-26 20:06:38,600] Trial 23 finished with value: 0.7429024662472035 and parameters: {'iterations': 2142, 'depth': 9, 'learning_rate': 0.05751520130448329, 'l2_leaf_reg': 23.89729569625319}. Best is trial 14 with value: 0.7431790458333497.\n"
     ]
    },
    {
     "name": "stdout",
     "output_type": "stream",
     "text": [
      "Stopped by overfitting detector  (300 iterations wait)\n",
      "\n",
      "bestTest = 0.7429024662\n",
      "bestIteration = 401\n",
      "\n",
      "Shrink model to first 402 iterations.\n",
      "0:\ttest: 0.7208907\tbest: 0.7208907 (0)\ttotal: 103ms\tremaining: 3m 42s\n",
      "300:\ttest: 0.7426643\tbest: 0.7426643 (300)\ttotal: 27.4s\tremaining: 2m 49s\n",
      "600:\ttest: 0.7428867\tbest: 0.7429594 (546)\ttotal: 57.5s\tremaining: 2m 29s\n",
      "900:\ttest: 0.7428699\tbest: 0.7430187 (792)\ttotal: 1m 27s\tremaining: 2m 2s\n"
     ]
    },
    {
     "name": "stderr",
     "output_type": "stream",
     "text": [
      "[I 2025-02-26 20:08:25,448] Trial 24 finished with value: 0.7430186936109444 and parameters: {'iterations': 2163, 'depth': 8, 'learning_rate': 0.05937075502613208, 'l2_leaf_reg': 30.27457313740992}. Best is trial 14 with value: 0.7431790458333497.\n"
     ]
    },
    {
     "name": "stdout",
     "output_type": "stream",
     "text": [
      "Stopped by overfitting detector  (300 iterations wait)\n",
      "\n",
      "bestTest = 0.7430186936\n",
      "bestIteration = 792\n",
      "\n",
      "Shrink model to first 793 iterations.\n",
      "0:\ttest: 0.7139853\tbest: 0.7139853 (0)\ttotal: 98.9ms\tremaining: 3m 42s\n",
      "300:\ttest: 0.7422708\tbest: 0.7422708 (300)\ttotal: 26.2s\tremaining: 2m 49s\n",
      "600:\ttest: 0.7429437\tbest: 0.7429450 (596)\ttotal: 55.8s\tremaining: 2m 32s\n",
      "900:\ttest: 0.7432702\tbest: 0.7432887 (896)\ttotal: 1m 25s\tremaining: 2m 7s\n",
      "1200:\ttest: 0.7433166\tbest: 0.7433260 (1152)\ttotal: 1m 56s\tremaining: 1m 41s\n",
      "1500:\ttest: 0.7433573\tbest: 0.7433891 (1471)\ttotal: 2m 28s\tremaining: 1m 13s\n"
     ]
    },
    {
     "name": "stderr",
     "output_type": "stream",
     "text": [
      "[I 2025-02-26 20:11:21,905] Trial 25 finished with value: 0.7433891383000866 and parameters: {'iterations': 2247, 'depth': 8, 'learning_rate': 0.043792410765061116, 'l2_leaf_reg': 96.02707135518133}. Best is trial 25 with value: 0.7433891383000866.\n"
     ]
    },
    {
     "name": "stdout",
     "output_type": "stream",
     "text": [
      "Stopped by overfitting detector  (300 iterations wait)\n",
      "\n",
      "bestTest = 0.7433891383\n",
      "bestIteration = 1471\n",
      "\n",
      "Shrink model to first 1472 iterations.\n",
      "저장 완료\n",
      "0:\ttest: 0.7139853\tbest: 0.7139853 (0)\ttotal: 105ms\tremaining: 4m 23s\n",
      "300:\ttest: 0.7424623\tbest: 0.7424623 (300)\ttotal: 28.2s\tremaining: 3m 27s\n",
      "600:\ttest: 0.7429501\tbest: 0.7429526 (553)\ttotal: 57.8s\tremaining: 3m 4s\n",
      "900:\ttest: 0.7432170\tbest: 0.7432543 (859)\ttotal: 1m 27s\tremaining: 2m 37s\n",
      "1200:\ttest: 0.7432095\tbest: 0.7432850 (1121)\ttotal: 1m 57s\tremaining: 2m 8s\n"
     ]
    },
    {
     "name": "stderr",
     "output_type": "stream",
     "text": [
      "[I 2025-02-26 20:13:42,500] Trial 26 finished with value: 0.7432850193598959 and parameters: {'iterations': 2515, 'depth': 8, 'learning_rate': 0.04587853138211445, 'l2_leaf_reg': 85.76439039687092}. Best is trial 25 with value: 0.7433891383000866.\n"
     ]
    },
    {
     "name": "stdout",
     "output_type": "stream",
     "text": [
      "Stopped by overfitting detector  (300 iterations wait)\n",
      "\n",
      "bestTest = 0.7432850194\n",
      "bestIteration = 1121\n",
      "\n",
      "Shrink model to first 1122 iterations.\n",
      "0:\ttest: 0.7209181\tbest: 0.7209181 (0)\ttotal: 101ms\tremaining: 4m 21s\n",
      "300:\ttest: 0.7420512\tbest: 0.7420547 (299)\ttotal: 27.3s\tremaining: 3m 27s\n",
      "600:\ttest: 0.7424465\tbest: 0.7424649 (596)\ttotal: 57.9s\tremaining: 3m 10s\n"
     ]
    },
    {
     "name": "stderr",
     "output_type": "stream",
     "text": [
      "[I 2025-02-26 20:15:10,855] Trial 27 finished with value: 0.7424649030056101 and parameters: {'iterations': 2582, 'depth': 8, 'learning_rate': 0.042265127464740634, 'l2_leaf_reg': 3.3377920561200733}. Best is trial 25 with value: 0.7433891383000866.\n"
     ]
    },
    {
     "name": "stdout",
     "output_type": "stream",
     "text": [
      "Stopped by overfitting detector  (300 iterations wait)\n",
      "\n",
      "bestTest = 0.742464903\n",
      "bestIteration = 596\n",
      "\n",
      "Shrink model to first 597 iterations.\n",
      "0:\ttest: 0.7138782\tbest: 0.7138782 (0)\ttotal: 77.3ms\tremaining: 3m 32s\n",
      "300:\ttest: 0.7407659\tbest: 0.7407659 (300)\ttotal: 20.8s\tremaining: 2m 49s\n",
      "600:\ttest: 0.7418615\tbest: 0.7418615 (599)\ttotal: 42.1s\tremaining: 2m 30s\n",
      "900:\ttest: 0.7422660\tbest: 0.7422771 (852)\ttotal: 1m 4s\tremaining: 2m 13s\n",
      "1200:\ttest: 0.7425723\tbest: 0.7425723 (1200)\ttotal: 1m 27s\tremaining: 1m 53s\n",
      "1500:\ttest: 0.7427092\tbest: 0.7427270 (1486)\ttotal: 1m 49s\tremaining: 1m 31s\n",
      "1800:\ttest: 0.7427354\tbest: 0.7427437 (1528)\ttotal: 2m 11s\tremaining: 1m 9s\n",
      "2100:\ttest: 0.7427592\tbest: 0.7427714 (2043)\ttotal: 2m 34s\tremaining: 48s\n",
      "2400:\ttest: 0.7427727\tbest: 0.7427858 (2389)\ttotal: 2m 56s\tremaining: 26s\n",
      "2700:\ttest: 0.7427936\tbest: 0.7428207 (2512)\ttotal: 3m 19s\tremaining: 3.91s\n"
     ]
    },
    {
     "name": "stderr",
     "output_type": "stream",
     "text": [
      "[I 2025-02-26 20:18:34,275] Trial 28 finished with value: 0.7428206817688188 and parameters: {'iterations': 2754, 'depth': 6, 'learning_rate': 0.03058246913729883, 'l2_leaf_reg': 73.02437804044698}. Best is trial 25 with value: 0.7433891383000866.\n"
     ]
    },
    {
     "name": "stdout",
     "output_type": "stream",
     "text": [
      "2753:\ttest: 0.7428098\tbest: 0.7428207 (2512)\ttotal: 3m 22s\tremaining: 0us\n",
      "\n",
      "bestTest = 0.7428206818\n",
      "bestIteration = 2512\n",
      "\n",
      "Shrink model to first 2513 iterations.\n",
      "0:\ttest: 0.6944616\tbest: 0.6944616 (0)\ttotal: 65.7ms\tremaining: 2m 38s\n",
      "300:\ttest: 0.7386681\tbest: 0.7386681 (300)\ttotal: 17.3s\tremaining: 2m 1s\n",
      "600:\ttest: 0.7408042\tbest: 0.7408042 (600)\ttotal: 35.4s\tremaining: 1m 46s\n",
      "900:\ttest: 0.7417415\tbest: 0.7417415 (900)\ttotal: 54.4s\tremaining: 1m 31s\n",
      "1200:\ttest: 0.7420601\tbest: 0.7420628 (1199)\ttotal: 1m 13s\tremaining: 1m 14s\n",
      "1500:\ttest: 0.7422247\tbest: 0.7422354 (1461)\ttotal: 1m 32s\tremaining: 56.3s\n",
      "1800:\ttest: 0.7423508\tbest: 0.7423580 (1782)\ttotal: 1m 51s\tremaining: 38s\n",
      "2100:\ttest: 0.7423978\tbest: 0.7423978 (2100)\ttotal: 2m 10s\tremaining: 19.5s\n",
      "2400:\ttest: 0.7423465\tbest: 0.7424071 (2106)\ttotal: 2m 29s\tremaining: 812ms\n"
     ]
    },
    {
     "name": "stderr",
     "output_type": "stream",
     "text": [
      "[I 2025-02-26 20:21:05,002] Trial 29 finished with value: 0.7424071328391995 and parameters: {'iterations': 2414, 'depth': 5, 'learning_rate': 0.020082740330637682, 'l2_leaf_reg': 2.7290983851008663}. Best is trial 25 with value: 0.7433891383000866.\n"
     ]
    },
    {
     "name": "stdout",
     "output_type": "stream",
     "text": [
      "Stopped by overfitting detector  (300 iterations wait)\n",
      "\n",
      "bestTest = 0.7424071328\n",
      "bestIteration = 2106\n",
      "\n",
      "Shrink model to first 2107 iterations.\n",
      "0:\ttest: 0.7139853\tbest: 0.7139853 (0)\ttotal: 95.4ms\tremaining: 3m 39s\n",
      "300:\ttest: 0.7424322\tbest: 0.7424344 (294)\ttotal: 26.3s\tremaining: 2m 54s\n",
      "600:\ttest: 0.7429180\tbest: 0.7429180 (599)\ttotal: 55.5s\tremaining: 2m 36s\n",
      "900:\ttest: 0.7430290\tbest: 0.7430616 (848)\ttotal: 1m 24s\tremaining: 2m 11s\n",
      "1200:\ttest: 0.7429454\tbest: 0.7430916 (988)\ttotal: 1m 54s\tremaining: 1m 44s\n"
     ]
    },
    {
     "name": "stderr",
     "output_type": "stream",
     "text": [
      "[I 2025-02-26 20:23:08,179] Trial 30 finished with value: 0.7430915665437577 and parameters: {'iterations': 2301, 'depth': 8, 'learning_rate': 0.050173590208488744, 'l2_leaf_reg': 95.06587588357357}. Best is trial 25 with value: 0.7433891383000866.\n"
     ]
    },
    {
     "name": "stdout",
     "output_type": "stream",
     "text": [
      "Stopped by overfitting detector  (300 iterations wait)\n",
      "\n",
      "bestTest = 0.7430915665\n",
      "bestIteration = 988\n",
      "\n",
      "Shrink model to first 989 iterations.\n",
      "0:\ttest: 0.7139853\tbest: 0.7139853 (0)\ttotal: 101ms\tremaining: 3m 51s\n",
      "300:\ttest: 0.7422048\tbest: 0.7422048 (300)\ttotal: 26.2s\tremaining: 2m 53s\n",
      "600:\ttest: 0.7423625\tbest: 0.7423872 (592)\ttotal: 55.6s\tremaining: 2m 37s\n"
     ]
    },
    {
     "name": "stderr",
     "output_type": "stream",
     "text": [
      "[I 2025-02-26 20:24:32,566] Trial 31 finished with value: 0.7423872049712509 and parameters: {'iterations': 2298, 'depth': 8, 'learning_rate': 0.04929504133677525, 'l2_leaf_reg': 93.31182126346894}. Best is trial 25 with value: 0.7433891383000866.\n"
     ]
    },
    {
     "name": "stdout",
     "output_type": "stream",
     "text": [
      "Stopped by overfitting detector  (300 iterations wait)\n",
      "\n",
      "bestTest = 0.742387205\n",
      "bestIteration = 592\n",
      "\n",
      "Shrink model to first 593 iterations.\n",
      "0:\ttest: 0.7140752\tbest: 0.7140752 (0)\ttotal: 83.9ms\tremaining: 3m 9s\n",
      "300:\ttest: 0.7417474\tbest: 0.7417533 (297)\ttotal: 23s\tremaining: 2m 29s\n",
      "600:\ttest: 0.7427123\tbest: 0.7427220 (591)\ttotal: 49s\tremaining: 2m 14s\n",
      "900:\ttest: 0.7426444\tbest: 0.7427564 (670)\ttotal: 1m 14s\tremaining: 1m 52s\n"
     ]
    },
    {
     "name": "stderr",
     "output_type": "stream",
     "text": [
      "[I 2025-02-26 20:25:53,592] Trial 32 finished with value: 0.7427563709092015 and parameters: {'iterations': 2255, 'depth': 7, 'learning_rate': 0.039793288678553654, 'l2_leaf_reg': 21.799119935944084}. Best is trial 25 with value: 0.7433891383000866.\n"
     ]
    },
    {
     "name": "stdout",
     "output_type": "stream",
     "text": [
      "Stopped by overfitting detector  (300 iterations wait)\n",
      "\n",
      "bestTest = 0.7427563709\n",
      "bestIteration = 670\n",
      "\n",
      "Shrink model to first 671 iterations.\n",
      "0:\ttest: 0.7140753\tbest: 0.7140753 (0)\ttotal: 85.6ms\tremaining: 3m 32s\n",
      "300:\ttest: 0.7421639\tbest: 0.7421639 (300)\ttotal: 24.3s\tremaining: 2m 55s\n",
      "600:\ttest: 0.7428590\tbest: 0.7428590 (600)\ttotal: 50.3s\tremaining: 2m 37s\n",
      "900:\ttest: 0.7429908\tbest: 0.7430241 (892)\ttotal: 1m 16s\tremaining: 2m 13s\n",
      "1200:\ttest: 0.7428654\tbest: 0.7430477 (951)\ttotal: 1m 42s\tremaining: 1m 49s\n"
     ]
    },
    {
     "name": "stderr",
     "output_type": "stream",
     "text": [
      "[I 2025-02-26 20:27:41,131] Trial 33 finished with value: 0.74304772364576 and parameters: {'iterations': 2481, 'depth': 7, 'learning_rate': 0.05479999063471991, 'l2_leaf_reg': 37.735700899598044}. Best is trial 25 with value: 0.7433891383000866.\n"
     ]
    },
    {
     "name": "stdout",
     "output_type": "stream",
     "text": [
      "Stopped by overfitting detector  (300 iterations wait)\n",
      "\n",
      "bestTest = 0.7430477236\n",
      "bestIteration = 951\n",
      "\n",
      "Shrink model to first 952 iterations.\n",
      "0:\ttest: 0.7208687\tbest: 0.7208687 (0)\ttotal: 101ms\tremaining: 4m 28s\n",
      "300:\ttest: 0.7423622\tbest: 0.7423622 (300)\ttotal: 27.1s\tremaining: 3m 33s\n",
      "600:\ttest: 0.7422768\tbest: 0.7426290 (414)\ttotal: 57.7s\tremaining: 3m 18s\n"
     ]
    },
    {
     "name": "stderr",
     "output_type": "stream",
     "text": [
      "[I 2025-02-26 20:28:50,695] Trial 34 finished with value: 0.7426290199986043 and parameters: {'iterations': 2669, 'depth': 8, 'learning_rate': 0.046297048567774106, 'l2_leaf_reg': 13.154454450486307}. Best is trial 25 with value: 0.7433891383000866.\n"
     ]
    },
    {
     "name": "stdout",
     "output_type": "stream",
     "text": [
      "Stopped by overfitting detector  (300 iterations wait)\n",
      "\n",
      "bestTest = 0.74262902\n",
      "bestIteration = 414\n",
      "\n",
      "Shrink model to first 415 iterations.\n",
      "0:\ttest: 0.7209032\tbest: 0.7209032 (0)\ttotal: 97.6ms\tremaining: 4m 1s\n",
      "300:\ttest: 0.7418156\tbest: 0.7418156 (300)\ttotal: 26.8s\tremaining: 3m 13s\n",
      "600:\ttest: 0.7425280\tbest: 0.7425979 (517)\ttotal: 56.3s\tremaining: 2m 56s\n",
      "900:\ttest: 0.7424759\tbest: 0.7426678 (724)\ttotal: 1m 27s\tremaining: 2m 32s\n"
     ]
    },
    {
     "name": "stderr",
     "output_type": "stream",
     "text": [
      "[I 2025-02-26 20:30:31,529] Trial 35 finished with value: 0.7426677876046056 and parameters: {'iterations': 2480, 'depth': 8, 'learning_rate': 0.0354823479733362, 'l2_leaf_reg': 6.13653666122918}. Best is trial 25 with value: 0.7433891383000866.\n"
     ]
    },
    {
     "name": "stdout",
     "output_type": "stream",
     "text": [
      "Stopped by overfitting detector  (300 iterations wait)\n",
      "\n",
      "bestTest = 0.7426677876\n",
      "bestIteration = 724\n",
      "\n",
      "Shrink model to first 725 iterations.\n",
      "0:\ttest: 0.7187543\tbest: 0.7187543 (0)\ttotal: 130ms\tremaining: 6m 16s\n",
      "300:\ttest: 0.7423704\tbest: 0.7423735 (294)\ttotal: 42.9s\tremaining: 6m 9s\n",
      "600:\ttest: 0.7425947\tbest: 0.7426246 (562)\ttotal: 1m 39s\tremaining: 6m 21s\n",
      "900:\ttest: 0.7424816\tbest: 0.7426423 (752)\ttotal: 2m 34s\tremaining: 5m 41s\n"
     ]
    },
    {
     "name": "stderr",
     "output_type": "stream",
     "text": [
      "[I 2025-02-26 20:33:33,650] Trial 36 finished with value: 0.7426422562648205 and parameters: {'iterations': 2898, 'depth': 10, 'learning_rate': 0.04638032033281366, 'l2_leaf_reg': 95.66336586350864}. Best is trial 25 with value: 0.7433891383000866.\n"
     ]
    },
    {
     "name": "stdout",
     "output_type": "stream",
     "text": [
      "Stopped by overfitting detector  (300 iterations wait)\n",
      "\n",
      "bestTest = 0.7426422563\n",
      "bestIteration = 752\n",
      "\n",
      "Shrink model to first 753 iterations.\n",
      "0:\ttest: 0.7140753\tbest: 0.7140753 (0)\ttotal: 91.7ms\tremaining: 3m 7s\n",
      "300:\ttest: 0.7426407\tbest: 0.7426407 (300)\ttotal: 24.4s\tremaining: 2m 20s\n",
      "600:\ttest: 0.7427700\tbest: 0.7428378 (555)\ttotal: 50.3s\tremaining: 2m\n"
     ]
    },
    {
     "name": "stderr",
     "output_type": "stream",
     "text": [
      "[I 2025-02-26 20:34:46,492] Trial 37 finished with value: 0.7428378098864877 and parameters: {'iterations': 2042, 'depth': 7, 'learning_rate': 0.06582313994711089, 'l2_leaf_reg': 31.068201665497767}. Best is trial 25 with value: 0.7433891383000866.\n"
     ]
    },
    {
     "name": "stdout",
     "output_type": "stream",
     "text": [
      "Stopped by overfitting detector  (300 iterations wait)\n",
      "\n",
      "bestTest = 0.7428378099\n",
      "bestIteration = 555\n",
      "\n",
      "Shrink model to first 556 iterations.\n",
      "0:\ttest: 0.7205468\tbest: 0.7205468 (0)\ttotal: 114ms\tremaining: 4m 15s\n",
      "300:\ttest: 0.7427627\tbest: 0.7427893 (290)\ttotal: 30.7s\tremaining: 3m 17s\n",
      "600:\ttest: 0.7424050\tbest: 0.7428781 (339)\ttotal: 1m 5s\tremaining: 2m 58s\n"
     ]
    },
    {
     "name": "stderr",
     "output_type": "stream",
     "text": [
      "[I 2025-02-26 20:35:56,739] Trial 38 finished with value: 0.7428780508362532 and parameters: {'iterations': 2235, 'depth': 9, 'learning_rate': 0.053304175867235876, 'l2_leaf_reg': 14.214559171804046}. Best is trial 25 with value: 0.7433891383000866.\n"
     ]
    },
    {
     "name": "stdout",
     "output_type": "stream",
     "text": [
      "Stopped by overfitting detector  (300 iterations wait)\n",
      "\n",
      "bestTest = 0.7428780508\n",
      "bestIteration = 339\n",
      "\n",
      "Shrink model to first 340 iterations.\n",
      "0:\ttest: 0.7140748\tbest: 0.7140748 (0)\ttotal: 85.5ms\tremaining: 3m 28s\n",
      "300:\ttest: 0.7340250\tbest: 0.7340250 (300)\ttotal: 22.5s\tremaining: 2m 40s\n",
      "600:\ttest: 0.7374899\tbest: 0.7374899 (600)\ttotal: 45.1s\tremaining: 2m 18s\n",
      "900:\ttest: 0.7392809\tbest: 0.7392809 (900)\ttotal: 1m 8s\tremaining: 1m 56s\n",
      "1200:\ttest: 0.7402498\tbest: 0.7402501 (1199)\ttotal: 1m 31s\tremaining: 1m 35s\n",
      "1500:\ttest: 0.7408399\tbest: 0.7408399 (1500)\ttotal: 1m 55s\tremaining: 1m 12s\n",
      "1800:\ttest: 0.7412561\tbest: 0.7412564 (1799)\ttotal: 2m 18s\tremaining: 49.6s\n",
      "2100:\ttest: 0.7415173\tbest: 0.7415173 (2099)\ttotal: 2m 41s\tremaining: 26.5s\n",
      "2400:\ttest: 0.7418001\tbest: 0.7418013 (2397)\ttotal: 3m 5s\tremaining: 3.4s\n"
     ]
    },
    {
     "name": "stderr",
     "output_type": "stream",
     "text": [
      "[I 2025-02-26 20:39:05,980] Trial 39 finished with value: 0.7418328583871376 and parameters: {'iterations': 2445, 'depth': 7, 'learning_rate': 0.005085263594590689, 'l2_leaf_reg': 44.20716088485022}. Best is trial 25 with value: 0.7433891383000866.\n",
      "[I 2025-02-26 20:39:05,986] A new study created in memory with name: no-name-6abf91cb-c3cb-495f-b89c-3284d06fbec1\n"
     ]
    },
    {
     "name": "stdout",
     "output_type": "stream",
     "text": [
      "2444:\ttest: 0.7418329\tbest: 0.7418329 (2444)\ttotal: 3m 8s\tremaining: 0us\n",
      "\n",
      "bestTest = 0.7418328584\n",
      "bestIteration = 2444\n",
      "\n"
     ]
    },
    {
     "name": "stderr",
     "output_type": "stream",
     "text": [
      "[I 2025-02-26 20:39:29,339] Trial 0 finished with value: 0.7342613368401721 and parameters: {'num_iterations': 2366, 'objective': 'binary', 'metric': 'auc', 'verbose': -1, 'learning_rate': 0.0652646236447618, 'n_estimators': 236, 'min_child_samples': 45, 'subsample': 0.7, 'colsample_bytree': 0.5}. Best is trial 0 with value: 0.7342613368401721.\n",
      "[I 2025-02-26 20:39:46,385] Trial 1 finished with value: 0.7425168870214427 and parameters: {'num_iterations': 1510, 'objective': 'binary', 'metric': 'auc', 'verbose': -1, 'learning_rate': 0.005231880959249543, 'n_estimators': 1411, 'min_child_samples': 10, 'subsample': 1.0, 'colsample_bytree': 0.5}. Best is trial 1 with value: 0.7425168870214427.\n",
      "[I 2025-02-26 20:40:05,917] Trial 2 finished with value: 0.7420182177407649 and parameters: {'num_iterations': 2334, 'objective': 'binary', 'metric': 'auc', 'verbose': -1, 'learning_rate': 0.006578527777128852, 'n_estimators': 931, 'min_child_samples': 15, 'subsample': 0.5, 'colsample_bytree': 1.0}. Best is trial 1 with value: 0.7425168870214427.\n",
      "[I 2025-02-26 20:40:22,443] Trial 3 finished with value: 0.7426072851996242 and parameters: {'num_iterations': 1620, 'objective': 'binary', 'metric': 'auc', 'verbose': -1, 'learning_rate': 0.0058823249237283685, 'n_estimators': 837, 'min_child_samples': 10, 'subsample': 0.9, 'colsample_bytree': 0.6}. Best is trial 3 with value: 0.7426072851996242.\n",
      "[I 2025-02-26 20:40:38,814] Trial 4 finished with value: 0.7419969118397 and parameters: {'num_iterations': 1997, 'objective': 'binary', 'metric': 'auc', 'verbose': -1, 'learning_rate': 0.010907507425244923, 'n_estimators': 1597, 'min_child_samples': 50, 'subsample': 0.6, 'colsample_bytree': 0.8}. Best is trial 3 with value: 0.7426072851996242.\n",
      "[I 2025-02-26 20:41:01,372] Trial 5 finished with value: 0.7399884861560411 and parameters: {'num_iterations': 2909, 'objective': 'binary', 'metric': 'auc', 'verbose': -1, 'learning_rate': 0.019760591962733942, 'n_estimators': 612, 'min_child_samples': 30, 'subsample': 0.7, 'colsample_bytree': 0.9}. Best is trial 3 with value: 0.7426072851996242.\n",
      "[I 2025-02-26 20:41:22,112] Trial 6 finished with value: 0.7407816931374253 and parameters: {'num_iterations': 2639, 'objective': 'binary', 'metric': 'auc', 'verbose': -1, 'learning_rate': 0.017862094446750985, 'n_estimators': 794, 'min_child_samples': 35, 'subsample': 1.0, 'colsample_bytree': 0.8}. Best is trial 3 with value: 0.7426072851996242.\n",
      "[I 2025-02-26 20:41:38,647] Trial 7 finished with value: 0.7420173758300426 and parameters: {'num_iterations': 1580, 'objective': 'binary', 'metric': 'auc', 'verbose': -1, 'learning_rate': 0.01776722177611332, 'n_estimators': 529, 'min_child_samples': 25, 'subsample': 0.8, 'colsample_bytree': 0.5}. Best is trial 3 with value: 0.7426072851996242.\n",
      "[I 2025-02-26 20:41:56,343] Trial 8 finished with value: 0.7399712468426164 and parameters: {'num_iterations': 1911, 'objective': 'binary', 'metric': 'auc', 'verbose': -1, 'learning_rate': 0.0304747553332844, 'n_estimators': 1328, 'min_child_samples': 10, 'subsample': 0.7, 'colsample_bytree': 0.6}. Best is trial 3 with value: 0.7426072851996242.\n",
      "[I 2025-02-26 20:42:23,852] Trial 9 finished with value: 0.7401557484004133 and parameters: {'num_iterations': 2739, 'objective': 'binary', 'metric': 'auc', 'verbose': -1, 'learning_rate': 0.02691531614176271, 'n_estimators': 1438, 'min_child_samples': 20, 'subsample': 0.6, 'colsample_bytree': 0.5}. Best is trial 3 with value: 0.7426072851996242.\n",
      "[I 2025-02-26 20:42:38,400] Trial 10 finished with value: 0.7333896455115841 and parameters: {'num_iterations': 1883, 'objective': 'binary', 'metric': 'auc', 'verbose': -1, 'learning_rate': 0.08223556891145911, 'n_estimators': 1917, 'min_child_samples': 40, 'subsample': 0.9, 'colsample_bytree': 0.7}. Best is trial 3 with value: 0.7426072851996242.\n",
      "[I 2025-02-26 20:42:54,033] Trial 11 finished with value: 0.7425438122794522 and parameters: {'num_iterations': 1513, 'objective': 'binary', 'metric': 'auc', 'verbose': -1, 'learning_rate': 0.005340229419903739, 'n_estimators': 1206, 'min_child_samples': 10, 'subsample': 1.0, 'colsample_bytree': 0.6}. Best is trial 3 with value: 0.7426072851996242.\n",
      "[I 2025-02-26 20:43:08,838] Trial 12 finished with value: 0.7425944420898302 and parameters: {'num_iterations': 1717, 'objective': 'binary', 'metric': 'auc', 'verbose': -1, 'learning_rate': 0.008807202863131344, 'n_estimators': 1093, 'min_child_samples': 20, 'subsample': 0.9, 'colsample_bytree': 0.7}. Best is trial 3 with value: 0.7426072851996242.\n",
      "[I 2025-02-26 20:43:23,971] Trial 13 finished with value: 0.7423725906719183 and parameters: {'num_iterations': 1785, 'objective': 'binary', 'metric': 'auc', 'verbose': -1, 'learning_rate': 0.010668787980411185, 'n_estimators': 1055, 'min_child_samples': 20, 'subsample': 0.9, 'colsample_bytree': 0.7}. Best is trial 3 with value: 0.7426072851996242.\n",
      "[I 2025-02-26 20:43:44,932] Trial 14 finished with value: 0.7426426097084728 and parameters: {'num_iterations': 2165, 'objective': 'binary', 'metric': 'auc', 'verbose': -1, 'learning_rate': 0.008676723130645643, 'n_estimators': 172, 'min_child_samples': 20, 'subsample': 0.9, 'colsample_bytree': 0.6}. Best is trial 14 with value: 0.7426426097084728.\n",
      "[I 2025-02-26 20:44:05,867] Trial 15 finished with value: 0.7425764482337769 and parameters: {'num_iterations': 2153, 'objective': 'binary', 'metric': 'auc', 'verbose': -1, 'learning_rate': 0.008303365162986591, 'n_estimators': 181, 'min_child_samples': 25, 'subsample': 0.8, 'colsample_bytree': 0.6}. Best is trial 14 with value: 0.7426426097084728.\n",
      "[I 2025-02-26 20:44:26,077] Trial 16 finished with value: 0.7421809487580887 and parameters: {'num_iterations': 2126, 'objective': 'binary', 'metric': 'auc', 'verbose': -1, 'learning_rate': 0.012724947237615166, 'n_estimators': 437, 'min_child_samples': 15, 'subsample': 0.9, 'colsample_bytree': 0.6}. Best is trial 14 with value: 0.7426426097084728.\n",
      "[I 2025-02-26 20:44:48,476] Trial 17 finished with value: 0.7358969906663713 and parameters: {'num_iterations': 2486, 'objective': 'binary', 'metric': 'auc', 'verbose': -1, 'learning_rate': 0.04640584772082756, 'n_estimators': 115, 'min_child_samples': 15, 'subsample': 0.8, 'colsample_bytree': 0.6}. Best is trial 14 with value: 0.7426426097084728.\n",
      "[I 2025-02-26 20:45:06,628] Trial 18 finished with value: 0.742351443621933 and parameters: {'num_iterations': 2122, 'objective': 'binary', 'metric': 'auc', 'verbose': -1, 'learning_rate': 0.007358916500623812, 'n_estimators': 756, 'min_child_samples': 30, 'subsample': 0.9, 'colsample_bytree': 0.7}. Best is trial 14 with value: 0.7426426097084728.\n",
      "[I 2025-02-26 20:45:20,728] Trial 19 finished with value: 0.7421361726099978 and parameters: {'num_iterations': 1717, 'objective': 'binary', 'metric': 'auc', 'verbose': -1, 'learning_rate': 0.013452330775004216, 'n_estimators': 405, 'min_child_samples': 25, 'subsample': 1.0, 'colsample_bytree': 0.8}. Best is trial 14 with value: 0.7426426097084728.\n",
      "[I 2025-02-26 20:45:40,868] Trial 20 finished with value: 0.7361272175074604 and parameters: {'num_iterations': 2630, 'objective': 'binary', 'metric': 'auc', 'verbose': -1, 'learning_rate': 0.03844621393609847, 'n_estimators': 1764, 'min_child_samples': 15, 'subsample': 0.8, 'colsample_bytree': 0.9}. Best is trial 14 with value: 0.7426426097084728.\n",
      "[I 2025-02-26 20:45:56,023] Trial 21 finished with value: 0.7426455643385553 and parameters: {'num_iterations': 1751, 'objective': 'binary', 'metric': 'auc', 'verbose': -1, 'learning_rate': 0.008748800262215941, 'n_estimators': 1072, 'min_child_samples': 20, 'subsample': 0.9, 'colsample_bytree': 0.7}. Best is trial 21 with value: 0.7426455643385553.\n",
      "[I 2025-02-26 20:46:12,675] Trial 22 finished with value: 0.7427548340250053 and parameters: {'num_iterations': 1639, 'objective': 'binary', 'metric': 'auc', 'verbose': -1, 'learning_rate': 0.006380724213301709, 'n_estimators': 825, 'min_child_samples': 20, 'subsample': 0.9, 'colsample_bytree': 0.6}. Best is trial 22 with value: 0.7427548340250053.\n",
      "[I 2025-02-26 20:46:29,796] Trial 23 finished with value: 0.7422656560963399 and parameters: {'num_iterations': 2011, 'objective': 'binary', 'metric': 'auc', 'verbose': -1, 'learning_rate': 0.009105933100597178, 'n_estimators': 602, 'min_child_samples': 20, 'subsample': 1.0, 'colsample_bytree': 0.7}. Best is trial 22 with value: 0.7427548340250053.\n",
      "[I 2025-02-26 20:46:47,063] Trial 24 finished with value: 0.7419903433475543 and parameters: {'num_iterations': 1808, 'objective': 'binary', 'metric': 'auc', 'verbose': -1, 'learning_rate': 0.014724856003963699, 'n_estimators': 1199, 'min_child_samples': 25, 'subsample': 0.8, 'colsample_bytree': 0.6}. Best is trial 22 with value: 0.7427548340250053.\n",
      "[I 2025-02-26 20:47:01,358] Trial 25 finished with value: 0.7423984357425858 and parameters: {'num_iterations': 1670, 'objective': 'binary', 'metric': 'auc', 'verbose': -1, 'learning_rate': 0.010345191274345569, 'n_estimators': 351, 'min_child_samples': 30, 'subsample': 0.9, 'colsample_bytree': 0.7}. Best is trial 22 with value: 0.7427548340250053.\n",
      "[I 2025-02-26 20:47:25,601] Trial 26 finished with value: 0.742748638832897 and parameters: {'num_iterations': 2256, 'objective': 'binary', 'metric': 'auc', 'verbose': -1, 'learning_rate': 0.0070319925342010176, 'n_estimators': 944, 'min_child_samples': 35, 'subsample': 0.9, 'colsample_bytree': 0.5}. Best is trial 22 with value: 0.7427548340250053.\n",
      "[I 2025-02-26 20:47:44,793] Trial 27 finished with value: 0.7421983628077011 and parameters: {'num_iterations': 2279, 'objective': 'binary', 'metric': 'auc', 'verbose': -1, 'learning_rate': 0.006583595574846287, 'n_estimators': 928, 'min_child_samples': 35, 'subsample': 1.0, 'colsample_bytree': 0.8}. Best is trial 22 with value: 0.7427548340250053.\n",
      "[I 2025-02-26 20:48:11,025] Trial 28 finished with value: 0.7424012950620205 and parameters: {'num_iterations': 2437, 'objective': 'binary', 'metric': 'auc', 'verbose': -1, 'learning_rate': 0.007281008358082207, 'n_estimators': 713, 'min_child_samples': 35, 'subsample': 0.8, 'colsample_bytree': 0.5}. Best is trial 22 with value: 0.7427548340250053.\n",
      "[I 2025-02-26 20:48:33,412] Trial 29 finished with value: 0.7429265877836562 and parameters: {'num_iterations': 2010, 'objective': 'binary', 'metric': 'auc', 'verbose': -1, 'learning_rate': 0.005892282067160651, 'n_estimators': 1169, 'min_child_samples': 45, 'subsample': 0.7, 'colsample_bytree': 0.5}. Best is trial 29 with value: 0.7429265877836562.\n",
      "[I 2025-02-26 20:48:55,558] Trial 30 finished with value: 0.7429013900311384 and parameters: {'num_iterations': 2013, 'objective': 'binary', 'metric': 'auc', 'verbose': -1, 'learning_rate': 0.0060776447527786815, 'n_estimators': 1253, 'min_child_samples': 45, 'subsample': 0.7, 'colsample_bytree': 0.5}. Best is trial 29 with value: 0.7429265877836562.\n",
      "[I 2025-02-26 20:49:17,544] Trial 31 finished with value: 0.7427399695352223 and parameters: {'num_iterations': 1991, 'objective': 'binary', 'metric': 'auc', 'verbose': -1, 'learning_rate': 0.00506531335534768, 'n_estimators': 1222, 'min_child_samples': 45, 'subsample': 0.6, 'colsample_bytree': 0.5}. Best is trial 29 with value: 0.7429265877836562.\n",
      "[I 2025-02-26 20:49:42,074] Trial 32 finished with value: 0.7429007030002187 and parameters: {'num_iterations': 2262, 'objective': 'binary', 'metric': 'auc', 'verbose': -1, 'learning_rate': 0.006019624558306687, 'n_estimators': 1496, 'min_child_samples': 50, 'subsample': 0.7, 'colsample_bytree': 0.5}. Best is trial 29 with value: 0.7429265877836562.\n",
      "[I 2025-02-26 20:50:08,066] Trial 33 finished with value: 0.7429597280901591 and parameters: {'num_iterations': 2403, 'objective': 'binary', 'metric': 'auc', 'verbose': -1, 'learning_rate': 0.0059416654269783065, 'n_estimators': 1601, 'min_child_samples': 50, 'subsample': 0.7, 'colsample_bytree': 0.5}. Best is trial 33 with value: 0.7429597280901591.\n",
      "[I 2025-02-26 20:50:34,790] Trial 34 finished with value: 0.742910186409677 and parameters: {'num_iterations': 2476, 'objective': 'binary', 'metric': 'auc', 'verbose': -1, 'learning_rate': 0.005735164408147787, 'n_estimators': 1533, 'min_child_samples': 50, 'subsample': 0.7, 'colsample_bytree': 0.5}. Best is trial 33 with value: 0.7429597280901591.\n",
      "[I 2025-02-26 20:51:01,437] Trial 35 finished with value: 0.7428996744394777 and parameters: {'num_iterations': 2439, 'objective': 'binary', 'metric': 'auc', 'verbose': -1, 'learning_rate': 0.005164575299777636, 'n_estimators': 1623, 'min_child_samples': 45, 'subsample': 0.6, 'colsample_bytree': 0.5}. Best is trial 33 with value: 0.7429597280901591.\n",
      "[I 2025-02-26 20:51:27,606] Trial 36 finished with value: 0.7429587471847419 and parameters: {'num_iterations': 2354, 'objective': 'binary', 'metric': 'auc', 'verbose': -1, 'learning_rate': 0.005881907010375693, 'n_estimators': 1740, 'min_child_samples': 50, 'subsample': 0.5, 'colsample_bytree': 0.5}. Best is trial 33 with value: 0.7429597280901591.\n",
      "[I 2025-02-26 20:51:55,353] Trial 37 finished with value: 0.7427413793385546 and parameters: {'num_iterations': 2548, 'objective': 'binary', 'metric': 'auc', 'verbose': -1, 'learning_rate': 0.007638725466741922, 'n_estimators': 1749, 'min_child_samples': 50, 'subsample': 0.5, 'colsample_bytree': 0.5}. Best is trial 33 with value: 0.7429597280901591.\n",
      "[I 2025-02-26 20:52:20,183] Trial 38 finished with value: 0.7423522061071155 and parameters: {'num_iterations': 2370, 'objective': 'binary', 'metric': 'auc', 'verbose': -1, 'learning_rate': 0.010742777790553515, 'n_estimators': 1922, 'min_child_samples': 50, 'subsample': 0.5, 'colsample_bytree': 0.5}. Best is trial 33 with value: 0.7429597280901591.\n",
      "[I 2025-02-26 20:52:44,177] Trial 39 finished with value: 0.7420345357179273 and parameters: {'num_iterations': 2864, 'objective': 'binary', 'metric': 'auc', 'verbose': -1, 'learning_rate': 0.005025899664918593, 'n_estimators': 1586, 'min_child_samples': 40, 'subsample': 0.6, 'colsample_bytree': 1.0}. Best is trial 33 with value: 0.7429597280901591.\n"
     ]
    },
    {
     "name": "stdout",
     "output_type": "stream",
     "text": [
      "Cat val score : 0.7433891383000866\n",
      "LGBM val score : 0.7428245895053796\n",
      "Ensemble val score : 0.7434618920945901\n"
     ]
    },
    {
     "name": "stderr",
     "output_type": "stream",
     "text": [
      "[I 2025-02-26 20:53:12,079] A new study created in memory with name: no-name-89c2e32c-b459-4060-9381-d200e53da4b8\n"
     ]
    },
    {
     "name": "stdout",
     "output_type": "stream",
     "text": [
      "==================================================\n",
      "0:\ttest: 0.7239461\tbest: 0.7239461 (0)\ttotal: 140ms\tremaining: 5m 29s\n",
      "300:\ttest: 0.7389833\tbest: 0.7389833 (300)\ttotal: 37.9s\tremaining: 4m 20s\n",
      "600:\ttest: 0.7404412\tbest: 0.7404412 (600)\ttotal: 1m 17s\tremaining: 3m 48s\n",
      "900:\ttest: 0.7409389\tbest: 0.7409389 (900)\ttotal: 1m 59s\tremaining: 3m 14s\n",
      "1200:\ttest: 0.7412465\tbest: 0.7412465 (1200)\ttotal: 2m 46s\tremaining: 2m 41s\n",
      "1500:\ttest: 0.7412674\tbest: 0.7413067 (1310)\ttotal: 3m 37s\tremaining: 2m 5s\n"
     ]
    },
    {
     "name": "stderr",
     "output_type": "stream",
     "text": [
      "[I 2025-02-26 20:57:08,561] Trial 0 finished with value: 0.7413066857112488 and parameters: {'iterations': 2366, 'depth': 10, 'learning_rate': 0.01181021951839225, 'l2_leaf_reg': 9.980783802743254}. Best is trial 0 with value: 0.7413066857112488.\n"
     ]
    },
    {
     "name": "stdout",
     "output_type": "stream",
     "text": [
      "Stopped by overfitting detector  (300 iterations wait)\n",
      "\n",
      "bestTest = 0.7413066857\n",
      "bestIteration = 1310\n",
      "\n",
      "Shrink model to first 1311 iterations.\n",
      "저장 완료\n",
      "0:\ttest: 0.6903877\tbest: 0.6903877 (0)\ttotal: 62ms\tremaining: 2m 15s\n",
      "300:\ttest: 0.7301454\tbest: 0.7301454 (300)\ttotal: 13.5s\tremaining: 1m 25s\n"
     ]
    },
    {
     "name": "stderr",
     "output_type": "stream",
     "text": [
      "Training has stopped (degenerate solution on iteration 460, probably too small l2-regularization, try to increase it)\n",
      "[I 2025-02-26 20:57:29,539] Trial 1 finished with value: 0.7330570941327805 and parameters: {'iterations': 2193, 'depth': 4, 'learning_rate': 0.005671430811678843, 'l2_leaf_reg': 0.00012325230809466137}. Best is trial 0 with value: 0.7413066857112488.\n"
     ]
    },
    {
     "name": "stdout",
     "output_type": "stream",
     "text": [
      "\n",
      "bestTest = 0.7330570941\n",
      "bestIteration = 459\n",
      "\n",
      "Shrink model to first 460 iterations.\n",
      "0:\ttest: 0.6903877\tbest: 0.6903877 (0)\ttotal: 66ms\tremaining: 2m 47s\n",
      "300:\ttest: 0.7396547\tbest: 0.7397454 (291)\ttotal: 15s\tremaining: 1m 51s\n",
      "600:\ttest: 0.7394348\tbest: 0.7397533 (322)\ttotal: 30.7s\tremaining: 1m 38s\n"
     ]
    },
    {
     "name": "stderr",
     "output_type": "stream",
     "text": [
      "[I 2025-02-26 20:58:01,521] Trial 2 finished with value: 0.7397532750201808 and parameters: {'iterations': 2535, 'depth': 4, 'learning_rate': 0.09275339199839054, 'l2_leaf_reg': 0.0008705394248343123}. Best is trial 0 with value: 0.7413066857112488.\n"
     ]
    },
    {
     "name": "stdout",
     "output_type": "stream",
     "text": [
      "Stopped by overfitting detector  (300 iterations wait)\n",
      "\n",
      "bestTest = 0.739753275\n",
      "bestIteration = 322\n",
      "\n",
      "Shrink model to first 323 iterations.\n",
      "0:\ttest: 0.6903877\tbest: 0.6903877 (0)\ttotal: 56.3ms\tremaining: 2m 11s\n",
      "300:\ttest: 0.7390966\tbest: 0.7390966 (300)\ttotal: 14.4s\tremaining: 1m 37s\n",
      "600:\ttest: 0.7400313\tbest: 0.7401441 (571)\ttotal: 31.2s\tremaining: 1m 30s\n",
      "900:\ttest: 0.7401333\tbest: 0.7402447 (797)\ttotal: 47.9s\tremaining: 1m 16s\n"
     ]
    },
    {
     "name": "stderr",
     "output_type": "stream",
     "text": [
      "[I 2025-02-26 20:59:00,004] Trial 3 finished with value: 0.7402447396955423 and parameters: {'iterations': 2334, 'depth': 4, 'learning_rate': 0.04657568321363276, 'l2_leaf_reg': 0.0008640473331457248}. Best is trial 0 with value: 0.7413066857112488.\n"
     ]
    },
    {
     "name": "stdout",
     "output_type": "stream",
     "text": [
      "Stopped by overfitting detector  (300 iterations wait)\n",
      "\n",
      "bestTest = 0.7402447397\n",
      "bestIteration = 797\n",
      "\n",
      "Shrink model to first 798 iterations.\n",
      "0:\ttest: 0.7239502\tbest: 0.7239502 (0)\ttotal: 144ms\tremaining: 4m 10s\n",
      "300:\ttest: 0.7381750\tbest: 0.7381827 (297)\ttotal: 39.8s\tremaining: 3m 10s\n",
      "600:\ttest: 0.7391110\tbest: 0.7391631 (577)\ttotal: 1m 23s\tremaining: 2m 38s\n",
      "900:\ttest: 0.7393729\tbest: 0.7394261 (843)\ttotal: 2m 5s\tremaining: 1m 57s\n",
      "1200:\ttest: 0.7389789\tbest: 0.7394985 (1005)\ttotal: 2m 52s\tremaining: 1m 17s\n"
     ]
    },
    {
     "name": "stderr",
     "output_type": "stream",
     "text": [
      "[I 2025-02-26 21:02:10,274] Trial 4 finished with value: 0.7394984870764649 and parameters: {'iterations': 1742, 'depth': 10, 'learning_rate': 0.012622767482095846, 'l2_leaf_reg': 0.00021158816350109617}. Best is trial 0 with value: 0.7413066857112488.\n"
     ]
    },
    {
     "name": "stdout",
     "output_type": "stream",
     "text": [
      "Stopped by overfitting detector  (300 iterations wait)\n",
      "\n",
      "bestTest = 0.7394984871\n",
      "bestIteration = 1005\n",
      "\n",
      "Shrink model to first 1006 iterations.\n",
      "0:\ttest: 0.6903877\tbest: 0.6903877 (0)\ttotal: 56.3ms\tremaining: 1m 57s\n",
      "300:\ttest: 0.7400521\tbest: 0.7400565 (299)\ttotal: 15.1s\tremaining: 1m 29s\n",
      "600:\ttest: 0.7404095\tbest: 0.7405264 (495)\ttotal: 30.9s\tremaining: 1m 16s\n"
     ]
    },
    {
     "name": "stderr",
     "output_type": "stream",
     "text": [
      "[I 2025-02-26 21:02:51,744] Trial 5 finished with value: 0.740526358917478 and parameters: {'iterations': 2082, 'depth': 4, 'learning_rate': 0.06995196593094148, 'l2_leaf_reg': 0.0018080296485396804}. Best is trial 0 with value: 0.7413066857112488.\n"
     ]
    },
    {
     "name": "stdout",
     "output_type": "stream",
     "text": [
      "Stopped by overfitting detector  (300 iterations wait)\n",
      "\n",
      "bestTest = 0.7405263589\n",
      "bestIteration = 495\n",
      "\n",
      "Shrink model to first 496 iterations.\n",
      "0:\ttest: 0.6977981\tbest: 0.6977981 (0)\ttotal: 67.2ms\tremaining: 2m 14s\n",
      "300:\ttest: 0.7404209\tbest: 0.7404418 (297)\ttotal: 18.5s\tremaining: 1m 44s\n",
      "600:\ttest: 0.7406440\tbest: 0.7407431 (401)\ttotal: 37.6s\tremaining: 1m 27s\n"
     ]
    },
    {
     "name": "stderr",
     "output_type": "stream",
     "text": [
      "[I 2025-02-26 21:03:35,856] Trial 6 finished with value: 0.7407431097420484 and parameters: {'iterations': 1997, 'depth': 5, 'learning_rate': 0.07985155992831598, 'l2_leaf_reg': 62.52181000710482}. Best is trial 0 with value: 0.7413066857112488.\n"
     ]
    },
    {
     "name": "stdout",
     "output_type": "stream",
     "text": [
      "Stopped by overfitting detector  (300 iterations wait)\n",
      "\n",
      "bestTest = 0.7407431097\n",
      "bestIteration = 401\n",
      "\n",
      "Shrink model to first 402 iterations.\n",
      "0:\ttest: 0.7152389\tbest: 0.7152389 (0)\ttotal: 91.8ms\tremaining: 2m 56s\n",
      "300:\ttest: 0.7402664\tbest: 0.7405753 (258)\ttotal: 25.4s\tremaining: 2m 17s\n"
     ]
    },
    {
     "name": "stderr",
     "output_type": "stream",
     "text": [
      "[I 2025-02-26 21:04:24,727] Trial 7 finished with value: 0.7405753437699447 and parameters: {'iterations': 1927, 'depth': 7, 'learning_rate': 0.0941937211034094, 'l2_leaf_reg': 0.05654822767791934}. Best is trial 0 with value: 0.7413066857112488.\n"
     ]
    },
    {
     "name": "stdout",
     "output_type": "stream",
     "text": [
      "Stopped by overfitting detector  (300 iterations wait)\n",
      "\n",
      "bestTest = 0.7405753438\n",
      "bestIteration = 258\n",
      "\n",
      "Shrink model to first 259 iterations.\n",
      "0:\ttest: 0.7152369\tbest: 0.7152369 (0)\ttotal: 87.8ms\tremaining: 2m 47s\n",
      "300:\ttest: 0.7407026\tbest: 0.7407026 (300)\ttotal: 24.5s\tremaining: 2m 10s\n",
      "600:\ttest: 0.7409603\tbest: 0.7411105 (537)\ttotal: 51.1s\tremaining: 1m 50s\n"
     ]
    },
    {
     "name": "stderr",
     "output_type": "stream",
     "text": [
      "[I 2025-02-26 21:05:37,356] Trial 8 finished with value: 0.7411104881937769 and parameters: {'iterations': 1904, 'depth': 7, 'learning_rate': 0.05155602859187331, 'l2_leaf_reg': 1.299974533316308}. Best is trial 0 with value: 0.7413066857112488.\n"
     ]
    },
    {
     "name": "stdout",
     "output_type": "stream",
     "text": [
      "Stopped by overfitting detector  (300 iterations wait)\n",
      "\n",
      "bestTest = 0.7411104882\n",
      "bestIteration = 537\n",
      "\n",
      "Shrink model to first 538 iterations.\n",
      "0:\ttest: 0.7153188\tbest: 0.7153188 (0)\ttotal: 80.9ms\tremaining: 3m 33s\n",
      "300:\ttest: 0.7397393\tbest: 0.7397393 (300)\ttotal: 20.8s\tremaining: 2m 41s\n",
      "600:\ttest: 0.7405402\tbest: 0.7405402 (600)\ttotal: 43.5s\tremaining: 2m 27s\n",
      "900:\ttest: 0.7403489\tbest: 0.7405933 (615)\ttotal: 1m 7s\tremaining: 2m 11s\n"
     ]
    },
    {
     "name": "stderr",
     "output_type": "stream",
     "text": [
      "[I 2025-02-26 21:06:46,687] Trial 9 finished with value: 0.7405932882047939 and parameters: {'iterations': 2639, 'depth': 6, 'learning_rate': 0.03968704290444751, 'l2_leaf_reg': 0.30557194377967184}. Best is trial 0 with value: 0.7413066857112488.\n"
     ]
    },
    {
     "name": "stdout",
     "output_type": "stream",
     "text": [
      "Stopped by overfitting detector  (300 iterations wait)\n",
      "\n",
      "bestTest = 0.7405932882\n",
      "bestIteration = 615\n",
      "\n",
      "Shrink model to first 616 iterations.\n",
      "0:\ttest: 0.7226498\tbest: 0.7226498 (0)\ttotal: 135ms\tremaining: 6m 37s\n",
      "300:\ttest: 0.7406782\tbest: 0.7406826 (299)\ttotal: 40.6s\tremaining: 5m 56s\n",
      "600:\ttest: 0.7413511\tbest: 0.7413520 (594)\ttotal: 1m 23s\tremaining: 5m 24s\n",
      "900:\ttest: 0.7415888\tbest: 0.7415948 (888)\ttotal: 2m 18s\tremaining: 5m 13s\n",
      "1200:\ttest: 0.7415637\tbest: 0.7415973 (988)\ttotal: 3m 14s\tremaining: 4m 41s\n"
     ]
    },
    {
     "name": "stderr",
     "output_type": "stream",
     "text": [
      "[I 2025-02-26 21:10:16,928] Trial 10 finished with value: 0.7415973267866868 and parameters: {'iterations': 2945, 'depth': 10, 'learning_rate': 0.025911330134996406, 'l2_leaf_reg': 97.18545559492516}. Best is trial 10 with value: 0.7415973267866868.\n"
     ]
    },
    {
     "name": "stdout",
     "output_type": "stream",
     "text": [
      "Stopped by overfitting detector  (300 iterations wait)\n",
      "\n",
      "bestTest = 0.7415973268\n",
      "bestIteration = 988\n",
      "\n",
      "Shrink model to first 989 iterations.\n",
      "저장 완료\n",
      "0:\ttest: 0.7226178\tbest: 0.7226178 (0)\ttotal: 128ms\tremaining: 6m 21s\n",
      "300:\ttest: 0.7407054\tbest: 0.7407054 (300)\ttotal: 40.1s\tremaining: 5m 58s\n",
      "600:\ttest: 0.7413946\tbest: 0.7414264 (525)\ttotal: 1m 22s\tremaining: 5m 29s\n",
      "900:\ttest: 0.7416067\tbest: 0.7416626 (787)\ttotal: 2m 17s\tremaining: 5m 19s\n"
     ]
    },
    {
     "name": "stderr",
     "output_type": "stream",
     "text": [
      "[I 2025-02-26 21:13:07,779] Trial 11 finished with value: 0.7416626081562194 and parameters: {'iterations': 2995, 'depth': 10, 'learning_rate': 0.026163874004606635, 'l2_leaf_reg': 73.1213351392818}. Best is trial 11 with value: 0.7416626081562194.\n"
     ]
    },
    {
     "name": "stdout",
     "output_type": "stream",
     "text": [
      "Stopped by overfitting detector  (300 iterations wait)\n",
      "\n",
      "bestTest = 0.7416626082\n",
      "bestIteration = 787\n",
      "\n",
      "Shrink model to first 788 iterations.\n",
      "저장 완료\n",
      "0:\ttest: 0.7177886\tbest: 0.7177886 (0)\ttotal: 104ms\tremaining: 5m\n",
      "300:\ttest: 0.7404099\tbest: 0.7404099 (300)\ttotal: 28.9s\tremaining: 4m 9s\n",
      "600:\ttest: 0.7411016\tbest: 0.7411016 (600)\ttotal: 58.6s\tremaining: 3m 43s\n",
      "900:\ttest: 0.7414079\tbest: 0.7414261 (803)\ttotal: 1m 32s\tremaining: 3m 23s\n",
      "1200:\ttest: 0.7414955\tbest: 0.7415046 (1193)\ttotal: 2m 5s\tremaining: 2m 56s\n",
      "1500:\ttest: 0.7415473\tbest: 0.7415888 (1327)\ttotal: 2m 37s\tremaining: 2m 26s\n"
     ]
    },
    {
     "name": "stderr",
     "output_type": "stream",
     "text": [
      "[I 2025-02-26 21:15:59,921] Trial 12 finished with value: 0.7415888251192799 and parameters: {'iterations': 2897, 'depth': 9, 'learning_rate': 0.02806616524326411, 'l2_leaf_reg': 87.13438924619796}. Best is trial 11 with value: 0.7416626081562194.\n"
     ]
    },
    {
     "name": "stdout",
     "output_type": "stream",
     "text": [
      "Stopped by overfitting detector  (300 iterations wait)\n",
      "\n",
      "bestTest = 0.7415888251\n",
      "bestIteration = 1327\n",
      "\n",
      "Shrink model to first 1328 iterations.\n",
      "0:\ttest: 0.7217122\tbest: 0.7217122 (0)\ttotal: 110ms\tremaining: 5m 25s\n",
      "300:\ttest: 0.7406765\tbest: 0.7406765 (300)\ttotal: 29.7s\tremaining: 4m 24s\n",
      "600:\ttest: 0.7411483\tbest: 0.7412258 (497)\ttotal: 1m 1s\tremaining: 4m 4s\n"
     ]
    },
    {
     "name": "stderr",
     "output_type": "stream",
     "text": [
      "[I 2025-02-26 21:17:24,927] Trial 13 finished with value: 0.7412258265550571 and parameters: {'iterations': 2975, 'depth': 9, 'learning_rate': 0.028913180830738475, 'l2_leaf_reg': 7.828901342687942}. Best is trial 11 with value: 0.7416626081562194.\n"
     ]
    },
    {
     "name": "stdout",
     "output_type": "stream",
     "text": [
      "Stopped by overfitting detector  (300 iterations wait)\n",
      "\n",
      "bestTest = 0.7412258266\n",
      "bestIteration = 497\n",
      "\n",
      "Shrink model to first 498 iterations.\n",
      "0:\ttest: 0.7217212\tbest: 0.7217212 (0)\ttotal: 110ms\tremaining: 5m 1s\n",
      "300:\ttest: 0.7405245\tbest: 0.7405245 (300)\ttotal: 29.5s\tremaining: 4m\n",
      "600:\ttest: 0.7409558\tbest: 0.7410077 (574)\ttotal: 1m\tremaining: 3m 37s\n",
      "900:\ttest: 0.7408629\tbest: 0.7411129 (682)\ttotal: 1m 35s\tremaining: 3m 15s\n"
     ]
    },
    {
     "name": "stderr",
     "output_type": "stream",
     "text": [
      "[I 2025-02-26 21:19:09,705] Trial 14 finished with value: 0.741112858812853 and parameters: {'iterations': 2754, 'depth': 9, 'learning_rate': 0.02781621679423573, 'l2_leaf_reg': 7.067045463613257}. Best is trial 11 with value: 0.7416626081562194.\n"
     ]
    },
    {
     "name": "stdout",
     "output_type": "stream",
     "text": [
      "Stopped by overfitting detector  (300 iterations wait)\n",
      "\n",
      "bestTest = 0.7411128588\n",
      "bestIteration = 682\n",
      "\n",
      "Shrink model to first 683 iterations.\n",
      "0:\ttest: 0.7215307\tbest: 0.7215307 (0)\ttotal: 98.4ms\tremaining: 2m 28s\n",
      "300:\ttest: 0.7398312\tbest: 0.7401766 (257)\ttotal: 28s\tremaining: 1m 52s\n"
     ]
    },
    {
     "name": "stderr",
     "output_type": "stream",
     "text": [
      "[I 2025-02-26 21:20:03,483] Trial 15 finished with value: 0.7401766151714728 and parameters: {'iterations': 1513, 'depth': 8, 'learning_rate': 0.06347916602487957, 'l2_leaf_reg': 0.026986971696484528}. Best is trial 11 with value: 0.7416626081562194.\n"
     ]
    },
    {
     "name": "stdout",
     "output_type": "stream",
     "text": [
      "Stopped by overfitting detector  (300 iterations wait)\n",
      "\n",
      "bestTest = 0.7401766152\n",
      "bestIteration = 257\n",
      "\n",
      "Shrink model to first 258 iterations.\n",
      "0:\ttest: 0.7239750\tbest: 0.7239750 (0)\ttotal: 137ms\tremaining: 6m 22s\n",
      "300:\ttest: 0.7407024\tbest: 0.7407365 (255)\ttotal: 39.9s\tremaining: 5m 29s\n",
      "600:\ttest: 0.7400548\tbest: 0.7408200 (401)\ttotal: 1m 26s\tremaining: 5m 14s\n"
     ]
    },
    {
     "name": "stderr",
     "output_type": "stream",
     "text": [
      "[I 2025-02-26 21:21:46,478] Trial 16 finished with value: 0.7408199543322671 and parameters: {'iterations': 2789, 'depth': 10, 'learning_rate': 0.03780133673970677, 'l2_leaf_reg': 0.8358313275560093}. Best is trial 11 with value: 0.7416626081562194.\n"
     ]
    },
    {
     "name": "stdout",
     "output_type": "stream",
     "text": [
      "Stopped by overfitting detector  (300 iterations wait)\n",
      "\n",
      "bestTest = 0.7408199543\n",
      "bestIteration = 401\n",
      "\n",
      "Shrink model to first 402 iterations.\n",
      "0:\ttest: 0.7152231\tbest: 0.7152231 (0)\ttotal: 98.5ms\tremaining: 4m 55s\n",
      "300:\ttest: 0.7399113\tbest: 0.7399113 (300)\ttotal: 26.2s\tremaining: 3m 54s\n",
      "600:\ttest: 0.7410657\tbest: 0.7410657 (600)\ttotal: 51.8s\tremaining: 3m 26s\n",
      "900:\ttest: 0.7415557\tbest: 0.7415558 (899)\ttotal: 1m 20s\tremaining: 3m 8s\n",
      "1200:\ttest: 0.7416813\tbest: 0.7416873 (1195)\ttotal: 1m 49s\tremaining: 2m 44s\n"
     ]
    },
    {
     "name": "stderr",
     "output_type": "stream",
     "text": [
      "[I 2025-02-26 21:24:05,329] Trial 17 finished with value: 0.741687263388788 and parameters: {'iterations': 2999, 'depth': 8, 'learning_rate': 0.020683376194142355, 'l2_leaf_reg': 17.971321588436567}. Best is trial 17 with value: 0.741687263388788.\n"
     ]
    },
    {
     "name": "stdout",
     "output_type": "stream",
     "text": [
      "Stopped by overfitting detector  (300 iterations wait)\n",
      "\n",
      "bestTest = 0.7416872634\n",
      "bestIteration = 1195\n",
      "\n",
      "Shrink model to first 1196 iterations.\n",
      "저장 완료\n",
      "0:\ttest: 0.7152231\tbest: 0.7152231 (0)\ttotal: 96.9ms\tremaining: 4m 9s\n",
      "300:\ttest: 0.7395523\tbest: 0.7395523 (300)\ttotal: 25.7s\tremaining: 3m 13s\n",
      "600:\ttest: 0.7407671\tbest: 0.7407671 (599)\ttotal: 51.4s\tremaining: 2m 48s\n",
      "900:\ttest: 0.7412268\tbest: 0.7412268 (900)\ttotal: 1m 20s\tremaining: 2m 28s\n",
      "1200:\ttest: 0.7413852\tbest: 0.7413852 (1200)\ttotal: 1m 49s\tremaining: 2m 5s\n",
      "1500:\ttest: 0.7414316\tbest: 0.7414742 (1374)\ttotal: 2m 18s\tremaining: 1m 39s\n"
     ]
    },
    {
     "name": "stderr",
     "output_type": "stream",
     "text": [
      "[I 2025-02-26 21:26:41,607] Trial 18 finished with value: 0.7414741578377717 and parameters: {'iterations': 2573, 'depth': 8, 'learning_rate': 0.018856635917961204, 'l2_leaf_reg': 19.151279711863285}. Best is trial 17 with value: 0.741687263388788.\n"
     ]
    },
    {
     "name": "stdout",
     "output_type": "stream",
     "text": [
      "Stopped by overfitting detector  (300 iterations wait)\n",
      "\n",
      "bestTest = 0.7414741578\n",
      "bestIteration = 1374\n",
      "\n",
      "Shrink model to first 1375 iterations.\n",
      "0:\ttest: 0.7215407\tbest: 0.7215407 (0)\ttotal: 98ms\tremaining: 4m 29s\n",
      "300:\ttest: 0.7406553\tbest: 0.7406553 (300)\ttotal: 27s\tremaining: 3m 39s\n",
      "600:\ttest: 0.7411312\tbest: 0.7413251 (461)\ttotal: 56.6s\tremaining: 3m 22s\n"
     ]
    },
    {
     "name": "stderr",
     "output_type": "stream",
     "text": [
      "[I 2025-02-26 21:27:54,286] Trial 19 finished with value: 0.7413250510600375 and parameters: {'iterations': 2752, 'depth': 8, 'learning_rate': 0.03922767601577183, 'l2_leaf_reg': 2.276175005448344}. Best is trial 17 with value: 0.741687263388788.\n"
     ]
    },
    {
     "name": "stdout",
     "output_type": "stream",
     "text": [
      "Stopped by overfitting detector  (300 iterations wait)\n",
      "\n",
      "bestTest = 0.7413250511\n",
      "bestIteration = 461\n",
      "\n",
      "Shrink model to first 462 iterations.\n",
      "0:\ttest: 0.7152389\tbest: 0.7152389 (0)\ttotal: 86.2ms\tremaining: 3m 27s\n",
      "300:\ttest: 0.7404067\tbest: 0.7408359 (258)\ttotal: 24.1s\tremaining: 2m 49s\n"
     ]
    },
    {
     "name": "stderr",
     "output_type": "stream",
     "text": [
      "[I 2025-02-26 21:28:40,923] Trial 20 finished with value: 0.7408358736151415 and parameters: {'iterations': 2411, 'depth': 7, 'learning_rate': 0.06014753269300331, 'l2_leaf_reg': 0.012990508780008181}. Best is trial 17 with value: 0.741687263388788.\n"
     ]
    },
    {
     "name": "stdout",
     "output_type": "stream",
     "text": [
      "Stopped by overfitting detector  (300 iterations wait)\n",
      "\n",
      "bestTest = 0.7408358736\n",
      "bestIteration = 258\n",
      "\n",
      "Shrink model to first 259 iterations.\n",
      "0:\ttest: 0.7177996\tbest: 0.7177996 (0)\ttotal: 101ms\tremaining: 5m\n",
      "300:\ttest: 0.7401164\tbest: 0.7401174 (299)\ttotal: 29.5s\tremaining: 4m 23s\n",
      "600:\ttest: 0.7410182\tbest: 0.7410384 (578)\ttotal: 57.4s\tremaining: 3m 47s\n",
      "900:\ttest: 0.7414156\tbest: 0.7414163 (874)\ttotal: 1m 30s\tremaining: 3m 30s\n",
      "1200:\ttest: 0.7414755\tbest: 0.7415257 (1094)\ttotal: 2m 4s\tremaining: 3m 4s\n"
     ]
    },
    {
     "name": "stderr",
     "output_type": "stream",
     "text": [
      "[I 2025-02-26 21:31:07,052] Trial 21 finished with value: 0.7415257436207157 and parameters: {'iterations': 2987, 'depth': 9, 'learning_rate': 0.022548940055710683, 'l2_leaf_reg': 33.894253733241094}. Best is trial 17 with value: 0.741687263388788.\n"
     ]
    },
    {
     "name": "stdout",
     "output_type": "stream",
     "text": [
      "Stopped by overfitting detector  (300 iterations wait)\n",
      "\n",
      "bestTest = 0.7415257436\n",
      "bestIteration = 1094\n",
      "\n",
      "Shrink model to first 1095 iterations.\n",
      "0:\ttest: 0.7226209\tbest: 0.7226209 (0)\ttotal: 127ms\tremaining: 6m 1s\n",
      "300:\ttest: 0.7399961\tbest: 0.7399973 (298)\ttotal: 38.6s\tremaining: 5m 27s\n",
      "600:\ttest: 0.7410927\tbest: 0.7410950 (598)\ttotal: 1m 15s\tremaining: 4m 44s\n",
      "900:\ttest: 0.7415111\tbest: 0.7415127 (891)\ttotal: 2m 1s\tremaining: 4m 22s\n",
      "1200:\ttest: 0.7417429\tbest: 0.7417429 (1199)\ttotal: 2m 55s\tremaining: 4m 2s\n",
      "1500:\ttest: 0.7417758\tbest: 0.7418080 (1355)\ttotal: 3m 49s\tremaining: 3m 27s\n"
     ]
    },
    {
     "name": "stderr",
     "output_type": "stream",
     "text": [
      "[I 2025-02-26 21:35:22,772] Trial 22 finished with value: 0.7418079823009024 and parameters: {'iterations': 2857, 'depth': 10, 'learning_rate': 0.0172159150005979, 'l2_leaf_reg': 85.05556406303693}. Best is trial 22 with value: 0.7418079823009024.\n"
     ]
    },
    {
     "name": "stdout",
     "output_type": "stream",
     "text": [
      "Stopped by overfitting detector  (300 iterations wait)\n",
      "\n",
      "bestTest = 0.7418079823\n",
      "bestIteration = 1355\n",
      "\n",
      "Shrink model to first 1356 iterations.\n",
      "저장 완료\n",
      "0:\ttest: 0.7217262\tbest: 0.7217262 (0)\ttotal: 109ms\tremaining: 5m 10s\n",
      "300:\ttest: 0.7366617\tbest: 0.7366617 (300)\ttotal: 28.9s\tremaining: 4m 4s\n",
      "600:\ttest: 0.7390358\tbest: 0.7390359 (599)\ttotal: 58.1s\tremaining: 3m 37s\n",
      "900:\ttest: 0.7400799\tbest: 0.7400799 (900)\ttotal: 1m 27s\tremaining: 3m 9s\n",
      "1200:\ttest: 0.7405628\tbest: 0.7405630 (1199)\ttotal: 1m 57s\tremaining: 2m 41s\n",
      "1500:\ttest: 0.7408383\tbest: 0.7408385 (1496)\ttotal: 2m 25s\tremaining: 2m 10s\n",
      "1800:\ttest: 0.7410584\tbest: 0.7410589 (1795)\ttotal: 2m 55s\tremaining: 1m 42s\n",
      "2100:\ttest: 0.7413430\tbest: 0.7413434 (2097)\ttotal: 3m 27s\tremaining: 1m 13s\n",
      "2400:\ttest: 0.7415076\tbest: 0.7415076 (2400)\ttotal: 4m 1s\tremaining: 45.2s\n",
      "2700:\ttest: 0.7415208\tbest: 0.7415286 (2441)\ttotal: 4m 37s\tremaining: 15.3s\n"
     ]
    },
    {
     "name": "stderr",
     "output_type": "stream",
     "text": [
      "[I 2025-02-26 21:40:05,093] Trial 23 finished with value: 0.7415286185423423 and parameters: {'iterations': 2850, 'depth': 9, 'learning_rate': 0.006214991682180192, 'l2_leaf_reg': 3.199002166856769}. Best is trial 22 with value: 0.7418079823009024.\n"
     ]
    },
    {
     "name": "stdout",
     "output_type": "stream",
     "text": [
      "Stopped by overfitting detector  (300 iterations wait)\n",
      "\n",
      "bestTest = 0.7415286185\n",
      "bestIteration = 2441\n",
      "\n",
      "Shrink model to first 2442 iterations.\n",
      "0:\ttest: 0.7153153\tbest: 0.7153153 (0)\ttotal: 77ms\tremaining: 3m 25s\n",
      "300:\ttest: 0.7379756\tbest: 0.7379756 (300)\ttotal: 19.7s\tremaining: 2m 34s\n",
      "600:\ttest: 0.7396690\tbest: 0.7396709 (599)\ttotal: 40s\tremaining: 2m 17s\n",
      "900:\ttest: 0.7404574\tbest: 0.7404610 (894)\ttotal: 1m\tremaining: 1m 58s\n",
      "1200:\ttest: 0.7409384\tbest: 0.7409415 (1198)\ttotal: 1m 22s\tremaining: 1m 40s\n",
      "1500:\ttest: 0.7411272\tbest: 0.7411273 (1499)\ttotal: 1m 44s\tremaining: 1m 20s\n",
      "1800:\ttest: 0.7412058\tbest: 0.7412105 (1799)\ttotal: 2m 6s\tremaining: 1m\n",
      "2100:\ttest: 0.7412036\tbest: 0.7412267 (2056)\ttotal: 2m 27s\tremaining: 39.5s\n",
      "2400:\ttest: 0.7412317\tbest: 0.7412545 (2223)\ttotal: 2m 49s\tremaining: 18.5s\n"
     ]
    },
    {
     "name": "stderr",
     "output_type": "stream",
     "text": [
      "[I 2025-02-26 21:43:04,015] Trial 24 finished with value: 0.7412545082662574 and parameters: {'iterations': 2663, 'depth': 6, 'learning_rate': 0.014961875695301762, 'l2_leaf_reg': 24.15376944482546}. Best is trial 22 with value: 0.7418079823009024.\n"
     ]
    },
    {
     "name": "stdout",
     "output_type": "stream",
     "text": [
      "Stopped by overfitting detector  (300 iterations wait)\n",
      "\n",
      "bestTest = 0.7412545083\n",
      "bestIteration = 2223\n",
      "\n",
      "Shrink model to first 2224 iterations.\n",
      "0:\ttest: 0.7215580\tbest: 0.7215580 (0)\ttotal: 97.4ms\tremaining: 4m 36s\n",
      "300:\ttest: 0.7403438\tbest: 0.7403438 (300)\ttotal: 26.3s\tremaining: 3m 41s\n",
      "600:\ttest: 0.7410578\tbest: 0.7411465 (573)\ttotal: 55.6s\tremaining: 3m 27s\n"
     ]
    },
    {
     "name": "stderr",
     "output_type": "stream",
     "text": [
      "[I 2025-02-26 21:44:26,974] Trial 25 finished with value: 0.7411465319280377 and parameters: {'iterations': 2843, 'depth': 8, 'learning_rate': 0.03326960029531885, 'l2_leaf_reg': 0.4304262831202464}. Best is trial 22 with value: 0.7418079823009024.\n"
     ]
    },
    {
     "name": "stdout",
     "output_type": "stream",
     "text": [
      "Stopped by overfitting detector  (300 iterations wait)\n",
      "\n",
      "bestTest = 0.7411465319\n",
      "bestIteration = 573\n",
      "\n",
      "Shrink model to first 574 iterations.\n",
      "0:\ttest: 0.7225321\tbest: 0.7225321 (0)\ttotal: 127ms\tremaining: 5m 14s\n",
      "300:\ttest: 0.7403657\tbest: 0.7403657 (300)\ttotal: 37.8s\tremaining: 4m 34s\n",
      "600:\ttest: 0.7411590\tbest: 0.7411662 (598)\ttotal: 1m 15s\tremaining: 3m 57s\n",
      "900:\ttest: 0.7415486\tbest: 0.7415670 (890)\ttotal: 2m 4s\tremaining: 3m 39s\n",
      "1200:\ttest: 0.7415663\tbest: 0.7416186 (975)\ttotal: 2m 57s\tremaining: 3m 9s\n"
     ]
    },
    {
     "name": "stderr",
     "output_type": "stream",
     "text": [
      "[I 2025-02-26 21:47:36,778] Trial 26 finished with value: 0.7416185511735573 and parameters: {'iterations': 2484, 'depth': 10, 'learning_rate': 0.019501547959967173, 'l2_leaf_reg': 24.7956538709994}. Best is trial 22 with value: 0.7418079823009024.\n"
     ]
    },
    {
     "name": "stdout",
     "output_type": "stream",
     "text": [
      "Stopped by overfitting detector  (300 iterations wait)\n",
      "\n",
      "bestTest = 0.7416185512\n",
      "bestIteration = 975\n",
      "\n",
      "Shrink model to first 976 iterations.\n",
      "0:\ttest: 0.7217252\tbest: 0.7217252 (0)\ttotal: 111ms\tremaining: 5m\n",
      "300:\ttest: 0.7409537\tbest: 0.7409543 (299)\ttotal: 29.9s\tremaining: 3m 58s\n",
      "600:\ttest: 0.7408233\tbest: 0.7411475 (339)\ttotal: 1m 4s\tremaining: 3m 45s\n"
     ]
    },
    {
     "name": "stderr",
     "output_type": "stream",
     "text": [
      "[I 2025-02-26 21:48:45,761] Trial 27 finished with value: 0.7411474928825041 and parameters: {'iterations': 2704, 'depth': 9, 'learning_rate': 0.04571286270661632, 'l2_leaf_reg': 4.6196440353070605}. Best is trial 22 with value: 0.7418079823009024.\n"
     ]
    },
    {
     "name": "stdout",
     "output_type": "stream",
     "text": [
      "Stopped by overfitting detector  (300 iterations wait)\n",
      "\n",
      "bestTest = 0.7411474929\n",
      "bestIteration = 339\n",
      "\n",
      "Shrink model to first 340 iterations.\n",
      "0:\ttest: 0.7153188\tbest: 0.7153188 (0)\ttotal: 77.5ms\tremaining: 3m 44s\n",
      "300:\ttest: 0.7397255\tbest: 0.7397283 (299)\ttotal: 20.9s\tremaining: 3m\n",
      "600:\ttest: 0.7408471\tbest: 0.7408848 (587)\ttotal: 43.3s\tremaining: 2m 45s\n",
      "900:\ttest: 0.7410964\tbest: 0.7410988 (899)\ttotal: 1m 6s\tremaining: 2m 26s\n",
      "1200:\ttest: 0.7409547\tbest: 0.7411105 (923)\ttotal: 1m 28s\tremaining: 2m 4s\n"
     ]
    },
    {
     "name": "stderr",
     "output_type": "stream",
     "text": [
      "[I 2025-02-26 21:50:16,107] Trial 28 finished with value: 0.7411104723102321 and parameters: {'iterations': 2896, 'depth': 6, 'learning_rate': 0.03354201393102266, 'l2_leaf_reg': 0.1658251392833755}. Best is trial 22 with value: 0.7418079823009024.\n"
     ]
    },
    {
     "name": "stdout",
     "output_type": "stream",
     "text": [
      "Stopped by overfitting detector  (300 iterations wait)\n",
      "\n",
      "bestTest = 0.7411104723\n",
      "bestIteration = 923\n",
      "\n",
      "Shrink model to first 924 iterations.\n",
      "0:\ttest: 0.7225302\tbest: 0.7225302 (0)\ttotal: 126ms\tremaining: 5m 56s\n",
      "300:\ttest: 0.7392251\tbest: 0.7392251 (300)\ttotal: 39.6s\tremaining: 5m 32s\n",
      "600:\ttest: 0.7407681\tbest: 0.7407843 (597)\ttotal: 1m 22s\tremaining: 5m 5s\n",
      "900:\ttest: 0.7412577\tbest: 0.7412577 (900)\ttotal: 2m 2s\tremaining: 4m 22s\n",
      "1200:\ttest: 0.7415575\tbest: 0.7415578 (1198)\ttotal: 2m 44s\tremaining: 3m 42s\n",
      "1500:\ttest: 0.7417051\tbest: 0.7417051 (1500)\ttotal: 3m 35s\tremaining: 3m 11s\n",
      "1800:\ttest: 0.7417371\tbest: 0.7417392 (1714)\ttotal: 4m 27s\tremaining: 2m 33s\n"
     ]
    },
    {
     "name": "stderr",
     "output_type": "stream",
     "text": [
      "[I 2025-02-26 21:55:21,223] Trial 29 finished with value: 0.7417392184641508 and parameters: {'iterations': 2831, 'depth': 10, 'learning_rate': 0.010944354037214499, 'l2_leaf_reg': 14.14407785655803}. Best is trial 22 with value: 0.7418079823009024.\n"
     ]
    },
    {
     "name": "stdout",
     "output_type": "stream",
     "text": [
      "Stopped by overfitting detector  (300 iterations wait)\n",
      "\n",
      "bestTest = 0.7417392185\n",
      "bestIteration = 1714\n",
      "\n",
      "Shrink model to first 1715 iterations.\n",
      "0:\ttest: 0.7225301\tbest: 0.7225301 (0)\ttotal: 130ms\tremaining: 5m 39s\n",
      "300:\ttest: 0.7390245\tbest: 0.7390245 (300)\ttotal: 39.3s\tremaining: 5m\n",
      "600:\ttest: 0.7405375\tbest: 0.7405392 (599)\ttotal: 1m 20s\tremaining: 4m 29s\n",
      "900:\ttest: 0.7409682\tbest: 0.7409684 (899)\ttotal: 2m 1s\tremaining: 3m 49s\n",
      "1200:\ttest: 0.7413293\tbest: 0.7413293 (1200)\ttotal: 2m 46s\tremaining: 3m 14s\n",
      "1500:\ttest: 0.7413390\tbest: 0.7414007 (1362)\ttotal: 3m 37s\tremaining: 2m 39s\n"
     ]
    },
    {
     "name": "stderr",
     "output_type": "stream",
     "text": [
      "[I 2025-02-26 21:59:26,430] Trial 30 finished with value: 0.7414006607046404 and parameters: {'iterations': 2603, 'depth': 10, 'learning_rate': 0.011147903117242699, 'l2_leaf_reg': 13.326013990637836}. Best is trial 22 with value: 0.7418079823009024.\n"
     ]
    },
    {
     "name": "stdout",
     "output_type": "stream",
     "text": [
      "Stopped by overfitting detector  (300 iterations wait)\n",
      "\n",
      "bestTest = 0.7414006607\n",
      "bestIteration = 1362\n",
      "\n",
      "Shrink model to first 1363 iterations.\n",
      "0:\ttest: 0.7225423\tbest: 0.7225423 (0)\ttotal: 129ms\tremaining: 6m 25s\n",
      "300:\ttest: 0.7399039\tbest: 0.7399039 (300)\ttotal: 38.6s\tremaining: 5m 45s\n",
      "600:\ttest: 0.7408794\tbest: 0.7408798 (599)\ttotal: 1m 16s\tremaining: 5m 5s\n",
      "900:\ttest: 0.7411954\tbest: 0.7411984 (891)\ttotal: 1m 58s\tremaining: 4m 34s\n",
      "1200:\ttest: 0.7413089\tbest: 0.7413306 (1118)\ttotal: 2m 51s\tremaining: 4m 16s\n",
      "1500:\ttest: 0.7413005\tbest: 0.7414153 (1322)\ttotal: 3m 42s\tremaining: 3m 41s\n"
     ]
    },
    {
     "name": "stderr",
     "output_type": "stream",
     "text": [
      "[I 2025-02-26 22:03:30,542] Trial 31 finished with value: 0.7414153053330368 and parameters: {'iterations': 2997, 'depth': 10, 'learning_rate': 0.016456489610592318, 'l2_leaf_reg': 37.39941977959069}. Best is trial 22 with value: 0.7418079823009024.\n"
     ]
    },
    {
     "name": "stdout",
     "output_type": "stream",
     "text": [
      "Stopped by overfitting detector  (300 iterations wait)\n",
      "\n",
      "bestTest = 0.7414153053\n",
      "bestIteration = 1322\n",
      "\n",
      "Shrink model to first 1323 iterations.\n",
      "0:\ttest: 0.7239395\tbest: 0.7239395 (0)\ttotal: 132ms\tremaining: 6m 15s\n",
      "300:\ttest: 0.7364442\tbest: 0.7364442 (300)\ttotal: 38s\tremaining: 5m 19s\n",
      "600:\ttest: 0.7389218\tbest: 0.7389218 (600)\ttotal: 1m 16s\tremaining: 4m 44s\n",
      "900:\ttest: 0.7399719\tbest: 0.7399725 (899)\ttotal: 1m 56s\tremaining: 4m 11s\n",
      "1200:\ttest: 0.7406110\tbest: 0.7406130 (1199)\ttotal: 2m 39s\tremaining: 3m 36s\n",
      "1500:\ttest: 0.7408951\tbest: 0.7408980 (1498)\ttotal: 3m 20s\tremaining: 2m 58s\n",
      "1800:\ttest: 0.7411338\tbest: 0.7411338 (1800)\ttotal: 4m 1s\tremaining: 2m 19s\n",
      "2100:\ttest: 0.7413073\tbest: 0.7413078 (2098)\ttotal: 4m 43s\tremaining: 1m 39s\n",
      "2400:\ttest: 0.7414434\tbest: 0.7414434 (2400)\ttotal: 5m 26s\tremaining: 59.4s\n",
      "2700:\ttest: 0.7415560\tbest: 0.7415587 (2694)\ttotal: 6m 11s\tremaining: 18.9s\n"
     ]
    },
    {
     "name": "stderr",
     "output_type": "stream",
     "text": [
      "[I 2025-02-26 22:10:06,405] Trial 32 finished with value: 0.7415740415098656 and parameters: {'iterations': 2838, 'depth': 10, 'learning_rate': 0.005116917027956512, 'l2_leaf_reg': 11.029719843670282}. Best is trial 22 with value: 0.7418079823009024.\n"
     ]
    },
    {
     "name": "stdout",
     "output_type": "stream",
     "text": [
      "2837:\ttest: 0.7415656\tbest: 0.7415740 (2822)\ttotal: 6m 35s\tremaining: 0us\n",
      "\n",
      "bestTest = 0.7415740415\n",
      "bestIteration = 2822\n",
      "\n",
      "Shrink model to first 2823 iterations.\n",
      "0:\ttest: 0.7177989\tbest: 0.7177989 (0)\ttotal: 100ms\tremaining: 3m 41s\n",
      "300:\ttest: 0.7383562\tbest: 0.7383574 (299)\ttotal: 29.2s\tremaining: 3m 6s\n",
      "600:\ttest: 0.7403397\tbest: 0.7403442 (597)\ttotal: 59s\tremaining: 2m 38s\n",
      "900:\ttest: 0.7409125\tbest: 0.7409125 (900)\ttotal: 1m 26s\tremaining: 2m 6s\n",
      "1200:\ttest: 0.7413109\tbest: 0.7413109 (1200)\ttotal: 1m 53s\tremaining: 1m 36s\n",
      "1500:\ttest: 0.7415151\tbest: 0.7415185 (1469)\ttotal: 2m 25s\tremaining: 1m 9s\n",
      "1800:\ttest: 0.7417088\tbest: 0.7417151 (1794)\ttotal: 2m 58s\tremaining: 41.3s\n",
      "2100:\ttest: 0.7417345\tbest: 0.7417589 (2060)\ttotal: 3m 32s\tremaining: 11.7s\n"
     ]
    },
    {
     "name": "stderr",
     "output_type": "stream",
     "text": [
      "[I 2025-02-26 22:13:52,610] Trial 33 finished with value: 0.7417733164641616 and parameters: {'iterations': 2217, 'depth': 9, 'learning_rate': 0.010144572059373693, 'l2_leaf_reg': 48.319919492026514}. Best is trial 22 with value: 0.7418079823009024.\n"
     ]
    },
    {
     "name": "stdout",
     "output_type": "stream",
     "text": [
      "2216:\ttest: 0.7417681\tbest: 0.7417733 (2206)\ttotal: 3m 45s\tremaining: 0us\n",
      "\n",
      "bestTest = 0.7417733165\n",
      "bestIteration = 2206\n",
      "\n",
      "Shrink model to first 2207 iterations.\n",
      "0:\ttest: 0.7215552\tbest: 0.7215552 (0)\ttotal: 97.7ms\tremaining: 3m 47s\n",
      "300:\ttest: 0.7378851\tbest: 0.7378851 (300)\ttotal: 25.6s\tremaining: 2m 52s\n",
      "600:\ttest: 0.7398860\tbest: 0.7398860 (600)\ttotal: 52.3s\tremaining: 2m 30s\n",
      "900:\ttest: 0.7405290\tbest: 0.7405290 (900)\ttotal: 1m 18s\tremaining: 2m 5s\n",
      "1200:\ttest: 0.7408836\tbest: 0.7408913 (1195)\ttotal: 1m 45s\tremaining: 1m 39s\n",
      "1500:\ttest: 0.7411910\tbest: 0.7412076 (1480)\ttotal: 2m 15s\tremaining: 1m 14s\n",
      "1800:\ttest: 0.7412959\tbest: 0.7413006 (1798)\ttotal: 2m 44s\tremaining: 48.6s\n",
      "2100:\ttest: 0.7412886\tbest: 0.7413530 (1895)\ttotal: 3m 14s\tremaining: 21.4s\n"
     ]
    },
    {
     "name": "stderr",
     "output_type": "stream",
     "text": [
      "[I 2025-02-26 22:17:16,795] Trial 34 finished with value: 0.7413529663901965 and parameters: {'iterations': 2332, 'depth': 8, 'learning_rate': 0.010038329261118754, 'l2_leaf_reg': 1.6992325883019075}. Best is trial 22 with value: 0.7418079823009024.\n"
     ]
    },
    {
     "name": "stdout",
     "output_type": "stream",
     "text": [
      "Stopped by overfitting detector  (300 iterations wait)\n",
      "\n",
      "bestTest = 0.7413529664\n",
      "bestIteration = 1895\n",
      "\n",
      "Shrink model to first 1896 iterations.\n",
      "0:\ttest: 0.7217260\tbest: 0.7217260 (0)\ttotal: 151ms\tremaining: 5m 34s\n",
      "300:\ttest: 0.7403724\tbest: 0.7403724 (300)\ttotal: 29.4s\tremaining: 3m 6s\n",
      "600:\ttest: 0.7413273\tbest: 0.7413306 (597)\ttotal: 59.1s\tremaining: 2m 38s\n",
      "900:\ttest: 0.7417865\tbest: 0.7417872 (899)\ttotal: 1m 32s\tremaining: 2m 14s\n",
      "1200:\ttest: 0.7416428\tbest: 0.7417951 (902)\ttotal: 2m 6s\tremaining: 1m 46s\n"
     ]
    },
    {
     "name": "stderr",
     "output_type": "stream",
     "text": [
      "[I 2025-02-26 22:19:26,542] Trial 35 finished with value: 0.7417951126586484 and parameters: {'iterations': 2209, 'depth': 9, 'learning_rate': 0.0200486261998305, 'l2_leaf_reg': 4.1784446371642705}. Best is trial 22 with value: 0.7418079823009024.\n"
     ]
    },
    {
     "name": "stdout",
     "output_type": "stream",
     "text": [
      "Stopped by overfitting detector  (300 iterations wait)\n",
      "\n",
      "bestTest = 0.7417951127\n",
      "bestIteration = 902\n",
      "\n",
      "Shrink model to first 903 iterations.\n",
      "0:\ttest: 0.7217260\tbest: 0.7217260 (0)\ttotal: 107ms\tremaining: 3m 55s\n",
      "300:\ttest: 0.7386018\tbest: 0.7386018 (300)\ttotal: 29.4s\tremaining: 3m 5s\n",
      "600:\ttest: 0.7402174\tbest: 0.7402174 (600)\ttotal: 59.8s\tremaining: 2m 39s\n",
      "900:\ttest: 0.7408341\tbest: 0.7408341 (900)\ttotal: 1m 28s\tremaining: 2m 8s\n",
      "1200:\ttest: 0.7412190\tbest: 0.7412243 (1198)\ttotal: 1m 59s\tremaining: 1m 39s\n",
      "1500:\ttest: 0.7414178\tbest: 0.7414441 (1392)\ttotal: 2m 33s\tremaining: 1m 11s\n",
      "1800:\ttest: 0.7413732\tbest: 0.7414531 (1563)\ttotal: 3m 8s\tremaining: 42.1s\n"
     ]
    },
    {
     "name": "stderr",
     "output_type": "stream",
     "text": [
      "[I 2025-02-26 22:22:42,336] Trial 36 finished with value: 0.7414530764028053 and parameters: {'iterations': 2204, 'depth': 9, 'learning_rate': 0.010883784763140121, 'l2_leaf_reg': 4.192476533086918}. Best is trial 22 with value: 0.7418079823009024.\n"
     ]
    },
    {
     "name": "stdout",
     "output_type": "stream",
     "text": [
      "Stopped by overfitting detector  (300 iterations wait)\n",
      "\n",
      "bestTest = 0.7414530764\n",
      "bestIteration = 1563\n",
      "\n",
      "Shrink model to first 1564 iterations.\n",
      "0:\ttest: 0.7177976\tbest: 0.7177976 (0)\ttotal: 102ms\tremaining: 3m 36s\n",
      "300:\ttest: 0.7358744\tbest: 0.7358744 (300)\ttotal: 29.4s\tremaining: 2m 57s\n",
      "600:\ttest: 0.7386390\tbest: 0.7386390 (600)\ttotal: 58.4s\tremaining: 2m 27s\n",
      "900:\ttest: 0.7397988\tbest: 0.7397989 (899)\ttotal: 1m 28s\tremaining: 1m 59s\n",
      "1200:\ttest: 0.7404022\tbest: 0.7404022 (1200)\ttotal: 1m 57s\tremaining: 1m 29s\n",
      "1500:\ttest: 0.7407678\tbest: 0.7407678 (1500)\ttotal: 2m 25s\tremaining: 1m\n",
      "1800:\ttest: 0.7410273\tbest: 0.7410285 (1796)\ttotal: 2m 54s\tremaining: 30.7s\n",
      "2100:\ttest: 0.7412225\tbest: 0.7412236 (2098)\ttotal: 3m 22s\tremaining: 1.63s\n"
     ]
    },
    {
     "name": "stderr",
     "output_type": "stream",
     "text": [
      "[I 2025-02-26 22:26:06,440] Trial 37 finished with value: 0.7412435089114152 and parameters: {'iterations': 2118, 'depth': 9, 'learning_rate': 0.0055140756091196915, 'l2_leaf_reg': 50.117007871127}. Best is trial 22 with value: 0.7418079823009024.\n"
     ]
    },
    {
     "name": "stdout",
     "output_type": "stream",
     "text": [
      "2117:\ttest: 0.7412435\tbest: 0.7412435 (2117)\ttotal: 3m 23s\tremaining: 0us\n",
      "\n",
      "bestTest = 0.7412435089\n",
      "bestIteration = 2117\n",
      "\n",
      "0:\ttest: 0.7239502\tbest: 0.7239502 (0)\ttotal: 135ms\tremaining: 5m 3s\n",
      "300:\ttest: 0.7351962\tbest: 0.7390304 (80)\ttotal: 43.3s\tremaining: 4m 40s\n"
     ]
    },
    {
     "name": "stderr",
     "output_type": "stream",
     "text": [
      "[I 2025-02-26 22:27:02,543] Trial 38 finished with value: 0.7390304069500802 and parameters: {'iterations': 2251, 'depth': 10, 'learning_rate': 0.08029122983652683, 'l2_leaf_reg': 0.006900012498040318}. Best is trial 22 with value: 0.7418079823009024.\n"
     ]
    },
    {
     "name": "stdout",
     "output_type": "stream",
     "text": [
      "Stopped by overfitting detector  (300 iterations wait)\n",
      "\n",
      "bestTest = 0.739030407\n",
      "bestIteration = 80\n",
      "\n",
      "Shrink model to first 81 iterations.\n",
      "0:\ttest: 0.7217438\tbest: 0.7217438 (0)\ttotal: 111ms\tremaining: 4m 34s\n",
      "300:\ttest: 0.7390077\tbest: 0.7390077 (300)\ttotal: 29.8s\tremaining: 3m 34s\n",
      "600:\ttest: 0.7404028\tbest: 0.7404073 (599)\ttotal: 59.3s\tremaining: 3m 4s\n",
      "900:\ttest: 0.7408784\tbest: 0.7408841 (885)\ttotal: 1m 29s\tremaining: 2m 36s\n",
      "1200:\ttest: 0.7411830\tbest: 0.7412717 (1124)\ttotal: 2m 4s\tremaining: 2m 10s\n"
     ]
    },
    {
     "name": "stderr",
     "output_type": "stream",
     "text": [
      "[I 2025-02-26 22:29:32,314] Trial 39 finished with value: 0.7412717061744962 and parameters: {'iterations': 2469, 'depth': 9, 'learning_rate': 0.013375690933722033, 'l2_leaf_reg': 0.9639117625460558}. Best is trial 22 with value: 0.7418079823009024.\n",
      "[I 2025-02-26 22:29:32,323] A new study created in memory with name: no-name-3dfa787f-9537-44dd-8575-a16255d1ae4b\n"
     ]
    },
    {
     "name": "stdout",
     "output_type": "stream",
     "text": [
      "Stopped by overfitting detector  (300 iterations wait)\n",
      "\n",
      "bestTest = 0.7412717062\n",
      "bestIteration = 1124\n",
      "\n",
      "Shrink model to first 1125 iterations.\n"
     ]
    },
    {
     "name": "stderr",
     "output_type": "stream",
     "text": [
      "[I 2025-02-26 22:29:55,504] Trial 0 finished with value: 0.7300302702245257 and parameters: {'num_iterations': 2366, 'objective': 'binary', 'metric': 'auc', 'verbose': -1, 'learning_rate': 0.0652646236447618, 'n_estimators': 236, 'min_child_samples': 45, 'subsample': 0.7, 'colsample_bytree': 0.5}. Best is trial 0 with value: 0.7300302702245257.\n",
      "[I 2025-02-26 22:30:12,517] Trial 1 finished with value: 0.7407198840285206 and parameters: {'num_iterations': 1510, 'objective': 'binary', 'metric': 'auc', 'verbose': -1, 'learning_rate': 0.005231880959249543, 'n_estimators': 1411, 'min_child_samples': 10, 'subsample': 1.0, 'colsample_bytree': 0.5}. Best is trial 1 with value: 0.7407198840285206.\n",
      "[I 2025-02-26 22:30:32,047] Trial 2 finished with value: 0.7402131592373979 and parameters: {'num_iterations': 2334, 'objective': 'binary', 'metric': 'auc', 'verbose': -1, 'learning_rate': 0.006578527777128852, 'n_estimators': 931, 'min_child_samples': 15, 'subsample': 0.5, 'colsample_bytree': 1.0}. Best is trial 1 with value: 0.7407198840285206.\n",
      "[I 2025-02-26 22:30:48,571] Trial 3 finished with value: 0.7407659741049297 and parameters: {'num_iterations': 1620, 'objective': 'binary', 'metric': 'auc', 'verbose': -1, 'learning_rate': 0.0058823249237283685, 'n_estimators': 837, 'min_child_samples': 10, 'subsample': 0.9, 'colsample_bytree': 0.6}. Best is trial 3 with value: 0.7407659741049297.\n",
      "[I 2025-02-26 22:31:04,977] Trial 4 finished with value: 0.740010929943751 and parameters: {'num_iterations': 1997, 'objective': 'binary', 'metric': 'auc', 'verbose': -1, 'learning_rate': 0.010907507425244923, 'n_estimators': 1597, 'min_child_samples': 50, 'subsample': 0.6, 'colsample_bytree': 0.8}. Best is trial 3 with value: 0.7407659741049297.\n",
      "[I 2025-02-26 22:31:27,501] Trial 5 finished with value: 0.735340707120806 and parameters: {'num_iterations': 2909, 'objective': 'binary', 'metric': 'auc', 'verbose': -1, 'learning_rate': 0.019760591962733942, 'n_estimators': 612, 'min_child_samples': 30, 'subsample': 0.7, 'colsample_bytree': 0.9}. Best is trial 3 with value: 0.7407659741049297.\n",
      "[I 2025-02-26 22:31:48,150] Trial 6 finished with value: 0.7372468913440684 and parameters: {'num_iterations': 2639, 'objective': 'binary', 'metric': 'auc', 'verbose': -1, 'learning_rate': 0.017862094446750985, 'n_estimators': 794, 'min_child_samples': 35, 'subsample': 1.0, 'colsample_bytree': 0.8}. Best is trial 3 with value: 0.7407659741049297.\n",
      "[I 2025-02-26 22:32:04,745] Trial 7 finished with value: 0.739902806682741 and parameters: {'num_iterations': 1580, 'objective': 'binary', 'metric': 'auc', 'verbose': -1, 'learning_rate': 0.01776722177611332, 'n_estimators': 529, 'min_child_samples': 25, 'subsample': 0.8, 'colsample_bytree': 0.5}. Best is trial 3 with value: 0.7407659741049297.\n",
      "[I 2025-02-26 22:32:22,513] Trial 8 finished with value: 0.7366778951151715 and parameters: {'num_iterations': 1911, 'objective': 'binary', 'metric': 'auc', 'verbose': -1, 'learning_rate': 0.0304747553332844, 'n_estimators': 1328, 'min_child_samples': 10, 'subsample': 0.7, 'colsample_bytree': 0.6}. Best is trial 3 with value: 0.7407659741049297.\n",
      "[I 2025-02-26 22:32:50,040] Trial 9 finished with value: 0.7364014023073517 and parameters: {'num_iterations': 2739, 'objective': 'binary', 'metric': 'auc', 'verbose': -1, 'learning_rate': 0.02691531614176271, 'n_estimators': 1438, 'min_child_samples': 20, 'subsample': 0.6, 'colsample_bytree': 0.5}. Best is trial 3 with value: 0.7407659741049297.\n",
      "[I 2025-02-26 22:33:04,570] Trial 10 finished with value: 0.7274134284063032 and parameters: {'num_iterations': 1883, 'objective': 'binary', 'metric': 'auc', 'verbose': -1, 'learning_rate': 0.08223556891145911, 'n_estimators': 1917, 'min_child_samples': 40, 'subsample': 0.9, 'colsample_bytree': 0.7}. Best is trial 3 with value: 0.7407659741049297.\n",
      "[I 2025-02-26 22:33:20,214] Trial 11 finished with value: 0.7408046703911885 and parameters: {'num_iterations': 1513, 'objective': 'binary', 'metric': 'auc', 'verbose': -1, 'learning_rate': 0.005340229419903739, 'n_estimators': 1206, 'min_child_samples': 10, 'subsample': 1.0, 'colsample_bytree': 0.6}. Best is trial 11 with value: 0.7408046703911885.\n",
      "[I 2025-02-26 22:33:35,067] Trial 12 finished with value: 0.7401659930508221 and parameters: {'num_iterations': 1717, 'objective': 'binary', 'metric': 'auc', 'verbose': -1, 'learning_rate': 0.008807202863131344, 'n_estimators': 1093, 'min_child_samples': 20, 'subsample': 0.9, 'colsample_bytree': 0.7}. Best is trial 11 with value: 0.7408046703911885.\n",
      "[I 2025-02-26 22:33:55,111] Trial 13 finished with value: 0.7396875131734151 and parameters: {'num_iterations': 2084, 'objective': 'binary', 'metric': 'auc', 'verbose': -1, 'learning_rate': 0.010947685715514379, 'n_estimators': 1108, 'min_child_samples': 10, 'subsample': 0.9, 'colsample_bytree': 0.6}. Best is trial 11 with value: 0.7408046703911885.\n",
      "[I 2025-02-26 22:34:13,075] Trial 14 finished with value: 0.7408243342197728 and parameters: {'num_iterations': 1759, 'objective': 'binary', 'metric': 'auc', 'verbose': -1, 'learning_rate': 0.00514593053258222, 'n_estimators': 172, 'min_child_samples': 20, 'subsample': 1.0, 'colsample_bytree': 0.6}. Best is trial 14 with value: 0.7408243342197728.\n",
      "[I 2025-02-26 22:34:28,333] Trial 15 finished with value: 0.7403322937659088 and parameters: {'num_iterations': 1756, 'objective': 'binary', 'metric': 'auc', 'verbose': -1, 'learning_rate': 0.008303365162986591, 'n_estimators': 208, 'min_child_samples': 20, 'subsample': 1.0, 'colsample_bytree': 0.7}. Best is trial 14 with value: 0.7408243342197728.\n",
      "[I 2025-02-26 22:34:48,018] Trial 16 finished with value: 0.7345496867304323 and parameters: {'num_iterations': 2163, 'objective': 'binary', 'metric': 'auc', 'verbose': -1, 'learning_rate': 0.03901437770924474, 'n_estimators': 463, 'min_child_samples': 25, 'subsample': 0.8, 'colsample_bytree': 0.6}. Best is trial 14 with value: 0.7408243342197728.\n",
      "[I 2025-02-26 22:35:05,059] Trial 17 finished with value: 0.7395538094633461 and parameters: {'num_iterations': 1770, 'objective': 'binary', 'metric': 'auc', 'verbose': -1, 'learning_rate': 0.014107419975913894, 'n_estimators': 1873, 'min_child_samples': 15, 'subsample': 1.0, 'colsample_bytree': 0.6}. Best is trial 14 with value: 0.7408243342197728.\n",
      "[I 2025-02-26 22:35:25,751] Trial 18 finished with value: 0.740342038320704 and parameters: {'num_iterations': 2434, 'objective': 'binary', 'metric': 'auc', 'verbose': -1, 'learning_rate': 0.007395766065557996, 'n_estimators': 126, 'min_child_samples': 30, 'subsample': 0.8, 'colsample_bytree': 0.7}. Best is trial 14 with value: 0.7408243342197728.\n",
      "[I 2025-02-26 22:35:39,583] Trial 19 finished with value: 0.7407061566748422 and parameters: {'num_iterations': 1527, 'objective': 'binary', 'metric': 'auc', 'verbose': -1, 'learning_rate': 0.005234790012397332, 'n_estimators': 1670, 'min_child_samples': 15, 'subsample': 1.0, 'colsample_bytree': 0.8}. Best is trial 14 with value: 0.7408243342197728.\n",
      "[I 2025-02-26 22:35:55,028] Trial 20 finished with value: 0.7392056342173998 and parameters: {'num_iterations': 1873, 'objective': 'binary', 'metric': 'auc', 'verbose': -1, 'learning_rate': 0.012796480593590575, 'n_estimators': 1257, 'min_child_samples': 25, 'subsample': 0.9, 'colsample_bytree': 0.9}. Best is trial 14 with value: 0.7408243342197728.\n",
      "[I 2025-02-26 22:36:12,168] Trial 21 finished with value: 0.740744376454754 and parameters: {'num_iterations': 1655, 'objective': 'binary', 'metric': 'auc', 'verbose': -1, 'learning_rate': 0.005153550511409945, 'n_estimators': 864, 'min_child_samples': 10, 'subsample': 0.9, 'colsample_bytree': 0.6}. Best is trial 14 with value: 0.7408243342197728.\n",
      "[I 2025-02-26 22:36:28,920] Trial 22 finished with value: 0.7405336137266103 and parameters: {'num_iterations': 1639, 'objective': 'binary', 'metric': 'auc', 'verbose': -1, 'learning_rate': 0.006950168723454207, 'n_estimators': 783, 'min_child_samples': 15, 'subsample': 1.0, 'colsample_bytree': 0.6}. Best is trial 14 with value: 0.7408243342197728.\n",
      "[I 2025-02-26 22:36:48,638] Trial 23 finished with value: 0.7408131561750505 and parameters: {'num_iterations': 1787, 'objective': 'binary', 'metric': 'auc', 'verbose': -1, 'learning_rate': 0.006248066446121906, 'n_estimators': 407, 'min_child_samples': 15, 'subsample': 0.9, 'colsample_bytree': 0.5}. Best is trial 14 with value: 0.7408243342197728.\n",
      "[I 2025-02-26 22:37:10,424] Trial 24 finished with value: 0.7403283268505704 and parameters: {'num_iterations': 2025, 'objective': 'binary', 'metric': 'auc', 'verbose': -1, 'learning_rate': 0.009214474876469364, 'n_estimators': 361, 'min_child_samples': 20, 'subsample': 1.0, 'colsample_bytree': 0.5}. Best is trial 14 with value: 0.7408243342197728.\n",
      "[I 2025-02-26 22:37:30,736] Trial 25 finished with value: 0.7406730315419564 and parameters: {'num_iterations': 1833, 'objective': 'binary', 'metric': 'auc', 'verbose': -1, 'learning_rate': 0.0068162066733673705, 'n_estimators': 646, 'min_child_samples': 15, 'subsample': 0.9, 'colsample_bytree': 0.5}. Best is trial 14 with value: 0.7408243342197728.\n",
      "[I 2025-02-26 22:37:49,219] Trial 26 finished with value: 0.7397391863158559 and parameters: {'num_iterations': 2200, 'objective': 'binary', 'metric': 'auc', 'verbose': -1, 'learning_rate': 0.010459045798601177, 'n_estimators': 348, 'min_child_samples': 20, 'subsample': 0.8, 'colsample_bytree': 0.7}. Best is trial 14 with value: 0.7408243342197728.\n",
      "[I 2025-02-26 22:38:04,919] Trial 27 finished with value: 0.7341449184140127 and parameters: {'num_iterations': 1707, 'objective': 'binary', 'metric': 'auc', 'verbose': -1, 'learning_rate': 0.047947876079429776, 'n_estimators': 359, 'min_child_samples': 15, 'subsample': 1.0, 'colsample_bytree': 0.6}. Best is trial 14 with value: 0.7408243342197728.\n",
      "[I 2025-02-26 22:38:25,466] Trial 28 finished with value: 0.7398890832999487 and parameters: {'num_iterations': 1970, 'objective': 'binary', 'metric': 'auc', 'verbose': -1, 'learning_rate': 0.014320942887614386, 'n_estimators': 110, 'min_child_samples': 25, 'subsample': 0.9, 'colsample_bytree': 0.5}. Best is trial 14 with value: 0.7408243342197728.\n",
      "[I 2025-02-26 22:38:45,033] Trial 29 finished with value: 0.7407196179791435 and parameters: {'num_iterations': 1807, 'objective': 'binary', 'metric': 'auc', 'verbose': -1, 'learning_rate': 0.007814004302314962, 'n_estimators': 1187, 'min_child_samples': 35, 'subsample': 1.0, 'colsample_bytree': 0.5}. Best is trial 14 with value: 0.7408243342197728.\n",
      "[I 2025-02-26 22:39:11,604] Trial 30 finished with value: 0.7407230964754763 and parameters: {'num_iterations': 2462, 'objective': 'binary', 'metric': 'auc', 'verbose': -1, 'learning_rate': 0.006300048275050027, 'n_estimators': 680, 'min_child_samples': 10, 'subsample': 0.8, 'colsample_bytree': 0.5}. Best is trial 14 with value: 0.7408243342197728.\n",
      "[I 2025-02-26 22:39:27,941] Trial 31 finished with value: 0.740793913260406 and parameters: {'num_iterations': 1588, 'objective': 'binary', 'metric': 'auc', 'verbose': -1, 'learning_rate': 0.0059502011452858055, 'n_estimators': 968, 'min_child_samples': 10, 'subsample': 0.9, 'colsample_bytree': 0.6}. Best is trial 14 with value: 0.7408243342197728.\n",
      "[I 2025-02-26 22:39:43,526] Trial 32 finished with value: 0.7406963803529572 and parameters: {'num_iterations': 1500, 'objective': 'binary', 'metric': 'auc', 'verbose': -1, 'learning_rate': 0.0051160113715584665, 'n_estimators': 275, 'min_child_samples': 10, 'subsample': 0.9, 'colsample_bytree': 0.6}. Best is trial 14 with value: 0.7408243342197728.\n",
      "[I 2025-02-26 22:40:01,302] Trial 33 finished with value: 0.7408612793452066 and parameters: {'num_iterations': 1594, 'objective': 'binary', 'metric': 'auc', 'verbose': -1, 'learning_rate': 0.006004470668070909, 'n_estimators': 1038, 'min_child_samples': 15, 'subsample': 1.0, 'colsample_bytree': 0.5}. Best is trial 33 with value: 0.7408612793452066.\n",
      "[I 2025-02-26 22:40:20,365] Trial 34 finished with value: 0.7408232461969473 and parameters: {'num_iterations': 1694, 'objective': 'binary', 'metric': 'auc', 'verbose': -1, 'learning_rate': 0.006085174781480256, 'n_estimators': 1505, 'min_child_samples': 15, 'subsample': 1.0, 'colsample_bytree': 0.5}. Best is trial 33 with value: 0.7408612793452066.\n",
      "[I 2025-02-26 22:40:38,770] Trial 35 finished with value: 0.7406404861584596 and parameters: {'num_iterations': 1684, 'objective': 'binary', 'metric': 'auc', 'verbose': -1, 'learning_rate': 0.009016745224291741, 'n_estimators': 1538, 'min_child_samples': 20, 'subsample': 1.0, 'colsample_bytree': 0.5}. Best is trial 33 with value: 0.7408612793452066.\n",
      "[I 2025-02-26 22:40:57,958] Trial 36 finished with value: 0.7408174209068558 and parameters: {'num_iterations': 1742, 'objective': 'binary', 'metric': 'auc', 'verbose': -1, 'learning_rate': 0.0064353867117631965, 'n_estimators': 1740, 'min_child_samples': 15, 'subsample': 0.5, 'colsample_bytree': 0.5}. Best is trial 33 with value: 0.7408612793452066.\n",
      "[I 2025-02-26 22:41:20,729] Trial 37 finished with value: 0.7405319936050306 and parameters: {'num_iterations': 2107, 'objective': 'binary', 'metric': 'auc', 'verbose': -1, 'learning_rate': 0.007501222952961825, 'n_estimators': 1629, 'min_child_samples': 15, 'subsample': 0.6, 'colsample_bytree': 0.5}. Best is trial 33 with value: 0.7408612793452066.\n",
      "[I 2025-02-26 22:41:41,495] Trial 38 finished with value: 0.7403506908817874 and parameters: {'num_iterations': 1963, 'objective': 'binary', 'metric': 'auc', 'verbose': -1, 'learning_rate': 0.01048155692373288, 'n_estimators': 1746, 'min_child_samples': 30, 'subsample': 0.5, 'colsample_bytree': 0.5}. Best is trial 33 with value: 0.7408612793452066.\n",
      "[I 2025-02-26 22:41:55,459] Trial 39 finished with value: 0.741025701831109 and parameters: {'num_iterations': 1594, 'objective': 'binary', 'metric': 'auc', 'verbose': -1, 'learning_rate': 0.0060646307788475365, 'n_estimators': 1994, 'min_child_samples': 25, 'subsample': 0.5, 'colsample_bytree': 1.0}. Best is trial 39 with value: 0.741025701831109.\n"
     ]
    },
    {
     "name": "stdout",
     "output_type": "stream",
     "text": [
      "Cat val score : 0.7418079823009023\n",
      "LGBM val score : 0.7409894396981058\n",
      "Ensemble val score : 0.7419029976664848\n"
     ]
    },
    {
     "name": "stderr",
     "output_type": "stream",
     "text": [
      "[I 2025-02-26 22:42:10,599] A new study created in memory with name: no-name-9e71f404-7a90-4714-8b70-c379ed748a3a\n"
     ]
    },
    {
     "name": "stdout",
     "output_type": "stream",
     "text": [
      "==================================================\n",
      "0:\ttest: 0.7267768\tbest: 0.7267768 (0)\ttotal: 135ms\tremaining: 5m 20s\n",
      "300:\ttest: 0.7413833\tbest: 0.7413833 (300)\ttotal: 37.9s\tremaining: 4m 19s\n",
      "600:\ttest: 0.7430744\tbest: 0.7430744 (599)\ttotal: 1m 18s\tremaining: 3m 50s\n",
      "900:\ttest: 0.7437066\tbest: 0.7437066 (900)\ttotal: 2m\tremaining: 3m 16s\n",
      "1200:\ttest: 0.7440855\tbest: 0.7440855 (1200)\ttotal: 2m 45s\tremaining: 2m 40s\n",
      "1500:\ttest: 0.7442708\tbest: 0.7442758 (1487)\ttotal: 3m 35s\tremaining: 2m 4s\n",
      "1800:\ttest: 0.7442961\tbest: 0.7443550 (1705)\ttotal: 4m 26s\tremaining: 1m 23s\n"
     ]
    },
    {
     "name": "stderr",
     "output_type": "stream",
     "text": [
      "[I 2025-02-26 22:47:12,494] Trial 0 finished with value: 0.7443550199101824 and parameters: {'iterations': 2366, 'depth': 10, 'learning_rate': 0.01181021951839225, 'l2_leaf_reg': 9.980783802743254}. Best is trial 0 with value: 0.7443550199101824.\n"
     ]
    },
    {
     "name": "stdout",
     "output_type": "stream",
     "text": [
      "Stopped by overfitting detector  (300 iterations wait)\n",
      "\n",
      "bestTest = 0.7443550199\n",
      "bestIteration = 1705\n",
      "\n",
      "Shrink model to first 1706 iterations.\n",
      "저장 완료\n",
      "0:\ttest: 0.6945189\tbest: 0.6945189 (0)\ttotal: 54.8ms\tremaining: 2m\n"
     ]
    },
    {
     "name": "stderr",
     "output_type": "stream",
     "text": [
      "Training has stopped (degenerate solution on iteration 229, probably too small l2-regularization, try to increase it)\n",
      "[I 2025-02-26 22:47:22,762] Trial 1 finished with value: 0.7287251908161725 and parameters: {'iterations': 2193, 'depth': 4, 'learning_rate': 0.005671430811678843, 'l2_leaf_reg': 0.00012325230809466137}. Best is trial 0 with value: 0.7443550199101824.\n"
     ]
    },
    {
     "name": "stdout",
     "output_type": "stream",
     "text": [
      "\n",
      "bestTest = 0.7287251908\n",
      "bestIteration = 228\n",
      "\n",
      "Shrink model to first 229 iterations.\n",
      "0:\ttest: 0.6945189\tbest: 0.6945189 (0)\ttotal: 99.3ms\tremaining: 4m 11s\n",
      "300:\ttest: 0.7432222\tbest: 0.7434038 (252)\ttotal: 14.5s\tremaining: 1m 47s\n",
      "600:\ttest: 0.7430009\tbest: 0.7435959 (397)\ttotal: 29.4s\tremaining: 1m 34s\n"
     ]
    },
    {
     "name": "stderr",
     "output_type": "stream",
     "text": [
      "[I 2025-02-26 22:47:57,192] Trial 2 finished with value: 0.7435958738235336 and parameters: {'iterations': 2535, 'depth': 4, 'learning_rate': 0.09275339199839054, 'l2_leaf_reg': 0.0008705394248343123}. Best is trial 0 with value: 0.7443550199101824.\n"
     ]
    },
    {
     "name": "stdout",
     "output_type": "stream",
     "text": [
      "Stopped by overfitting detector  (300 iterations wait)\n",
      "\n",
      "bestTest = 0.7435958738\n",
      "bestIteration = 397\n",
      "\n",
      "Shrink model to first 398 iterations.\n",
      "0:\ttest: 0.6945189\tbest: 0.6945189 (0)\ttotal: 50.9ms\tremaining: 1m 58s\n",
      "300:\ttest: 0.7418849\tbest: 0.7418849 (300)\ttotal: 14s\tremaining: 1m 34s\n",
      "600:\ttest: 0.7429692\tbest: 0.7430619 (513)\ttotal: 28.8s\tremaining: 1m 22s\n",
      "900:\ttest: 0.7432673\tbest: 0.7432810 (889)\ttotal: 43.6s\tremaining: 1m 9s\n",
      "1200:\ttest: 0.7433185\tbest: 0.7434002 (931)\ttotal: 58.6s\tremaining: 55.2s\n"
     ]
    },
    {
     "name": "stderr",
     "output_type": "stream",
     "text": [
      "[I 2025-02-26 22:48:57,574] Trial 3 finished with value: 0.7434002242883608 and parameters: {'iterations': 2334, 'depth': 4, 'learning_rate': 0.04657568321363276, 'l2_leaf_reg': 0.0008640473331457248}. Best is trial 0 with value: 0.7443550199101824.\n"
     ]
    },
    {
     "name": "stdout",
     "output_type": "stream",
     "text": [
      "Stopped by overfitting detector  (300 iterations wait)\n",
      "\n",
      "bestTest = 0.7434002243\n",
      "bestIteration = 931\n",
      "\n",
      "Shrink model to first 932 iterations.\n",
      "0:\ttest: 0.7267517\tbest: 0.7267517 (0)\ttotal: 134ms\tremaining: 3m 53s\n",
      "300:\ttest: 0.7413034\tbest: 0.7413086 (298)\ttotal: 38.6s\tremaining: 3m 4s\n",
      "600:\ttest: 0.7428285\tbest: 0.7428345 (587)\ttotal: 1m 18s\tremaining: 2m 29s\n",
      "900:\ttest: 0.7427989\tbest: 0.7430564 (768)\ttotal: 2m\tremaining: 1m 52s\n"
     ]
    },
    {
     "name": "stderr",
     "output_type": "stream",
     "text": [
      "[I 2025-02-26 22:51:22,317] Trial 4 finished with value: 0.7430563812792854 and parameters: {'iterations': 1742, 'depth': 10, 'learning_rate': 0.012622767482095846, 'l2_leaf_reg': 0.00021158816350109617}. Best is trial 0 with value: 0.7443550199101824.\n"
     ]
    },
    {
     "name": "stdout",
     "output_type": "stream",
     "text": [
      "Stopped by overfitting detector  (300 iterations wait)\n",
      "\n",
      "bestTest = 0.7430563813\n",
      "bestIteration = 768\n",
      "\n",
      "Shrink model to first 769 iterations.\n",
      "0:\ttest: 0.6945189\tbest: 0.6945189 (0)\ttotal: 55.5ms\tremaining: 1m 55s\n",
      "300:\ttest: 0.7427301\tbest: 0.7427301 (300)\ttotal: 14.3s\tremaining: 1m 24s\n",
      "600:\ttest: 0.7432148\tbest: 0.7434282 (451)\ttotal: 29.2s\tremaining: 1m 11s\n"
     ]
    },
    {
     "name": "stderr",
     "output_type": "stream",
     "text": [
      "[I 2025-02-26 22:51:59,257] Trial 5 finished with value: 0.743428230948903 and parameters: {'iterations': 2082, 'depth': 4, 'learning_rate': 0.06995196593094148, 'l2_leaf_reg': 0.0018080296485396804}. Best is trial 0 with value: 0.7443550199101824.\n"
     ]
    },
    {
     "name": "stdout",
     "output_type": "stream",
     "text": [
      "Stopped by overfitting detector  (300 iterations wait)\n",
      "\n",
      "bestTest = 0.7434282309\n",
      "bestIteration = 451\n",
      "\n",
      "Shrink model to first 452 iterations.\n",
      "0:\ttest: 0.7017929\tbest: 0.7017929 (0)\ttotal: 63.5ms\tremaining: 2m 6s\n",
      "300:\ttest: 0.7433489\tbest: 0.7433544 (294)\ttotal: 17.6s\tremaining: 1m 39s\n",
      "600:\ttest: 0.7438307\tbest: 0.7438642 (563)\ttotal: 35.5s\tremaining: 1m 22s\n",
      "900:\ttest: 0.7439099\tbest: 0.7439767 (862)\ttotal: 53.7s\tremaining: 1m 5s\n"
     ]
    },
    {
     "name": "stderr",
     "output_type": "stream",
     "text": [
      "[I 2025-02-26 22:53:09,269] Trial 6 finished with value: 0.743976665928929 and parameters: {'iterations': 1997, 'depth': 5, 'learning_rate': 0.07985155992831598, 'l2_leaf_reg': 62.52181000710482}. Best is trial 0 with value: 0.7443550199101824.\n"
     ]
    },
    {
     "name": "stdout",
     "output_type": "stream",
     "text": [
      "Stopped by overfitting detector  (300 iterations wait)\n",
      "\n",
      "bestTest = 0.7439766659\n",
      "bestIteration = 862\n",
      "\n",
      "Shrink model to first 863 iterations.\n",
      "0:\ttest: 0.7185978\tbest: 0.7185978 (0)\ttotal: 82.7ms\tremaining: 2m 39s\n",
      "300:\ttest: 0.7431301\tbest: 0.7432527 (279)\ttotal: 24.6s\tremaining: 2m 12s\n"
     ]
    },
    {
     "name": "stderr",
     "output_type": "stream",
     "text": [
      "[I 2025-02-26 22:53:57,948] Trial 7 finished with value: 0.7432526542435955 and parameters: {'iterations': 1927, 'depth': 7, 'learning_rate': 0.0941937211034094, 'l2_leaf_reg': 0.05654822767791934}. Best is trial 0 with value: 0.7443550199101824.\n"
     ]
    },
    {
     "name": "stdout",
     "output_type": "stream",
     "text": [
      "Stopped by overfitting detector  (300 iterations wait)\n",
      "\n",
      "bestTest = 0.7432526542\n",
      "bestIteration = 279\n",
      "\n",
      "Shrink model to first 280 iterations.\n",
      "0:\ttest: 0.7185963\tbest: 0.7185963 (0)\ttotal: 84.3ms\tremaining: 2m 40s\n",
      "300:\ttest: 0.7437484\tbest: 0.7437484 (300)\ttotal: 23.4s\tremaining: 2m 4s\n",
      "600:\ttest: 0.7439329\tbest: 0.7439887 (586)\ttotal: 49.3s\tremaining: 1m 46s\n"
     ]
    },
    {
     "name": "stderr",
     "output_type": "stream",
     "text": [
      "[I 2025-02-26 22:55:12,015] Trial 8 finished with value: 0.7439886937433033 and parameters: {'iterations': 1904, 'depth': 7, 'learning_rate': 0.05155602859187331, 'l2_leaf_reg': 1.299974533316308}. Best is trial 0 with value: 0.7443550199101824.\n"
     ]
    },
    {
     "name": "stdout",
     "output_type": "stream",
     "text": [
      "Stopped by overfitting detector  (300 iterations wait)\n",
      "\n",
      "bestTest = 0.7439886937\n",
      "bestIteration = 586\n",
      "\n",
      "Shrink model to first 587 iterations.\n",
      "0:\ttest: 0.7185976\tbest: 0.7185976 (0)\ttotal: 74.8ms\tremaining: 3m 17s\n",
      "300:\ttest: 0.7429026\tbest: 0.7429174 (298)\ttotal: 20.4s\tremaining: 2m 38s\n",
      "600:\ttest: 0.7438474\tbest: 0.7439920 (484)\ttotal: 42.5s\tremaining: 2m 23s\n"
     ]
    },
    {
     "name": "stderr",
     "output_type": "stream",
     "text": [
      "[I 2025-02-26 22:56:08,047] Trial 9 finished with value: 0.7439919975206422 and parameters: {'iterations': 2639, 'depth': 6, 'learning_rate': 0.03968704290444751, 'l2_leaf_reg': 0.30557194377967184}. Best is trial 0 with value: 0.7443550199101824.\n"
     ]
    },
    {
     "name": "stdout",
     "output_type": "stream",
     "text": [
      "Stopped by overfitting detector  (300 iterations wait)\n",
      "\n",
      "bestTest = 0.7439919975\n",
      "bestIteration = 484\n",
      "\n",
      "Shrink model to first 485 iterations.\n",
      "0:\ttest: 0.7250204\tbest: 0.7250204 (0)\ttotal: 133ms\tremaining: 6m 30s\n",
      "300:\ttest: 0.7430463\tbest: 0.7430463 (300)\ttotal: 37.9s\tremaining: 5m 33s\n",
      "600:\ttest: 0.7437482\tbest: 0.7437625 (567)\ttotal: 1m 17s\tremaining: 5m 3s\n",
      "900:\ttest: 0.7438998\tbest: 0.7438998 (900)\ttotal: 2m 11s\tremaining: 4m 58s\n",
      "1200:\ttest: 0.7438645\tbest: 0.7439566 (994)\ttotal: 3m 5s\tremaining: 4m 29s\n"
     ]
    },
    {
     "name": "stderr",
     "output_type": "stream",
     "text": [
      "[I 2025-02-26 22:59:30,966] Trial 10 finished with value: 0.7439566050117222 and parameters: {'iterations': 2945, 'depth': 10, 'learning_rate': 0.025911330134996406, 'l2_leaf_reg': 97.18545559492516}. Best is trial 0 with value: 0.7443550199101824.\n"
     ]
    },
    {
     "name": "stdout",
     "output_type": "stream",
     "text": [
      "Stopped by overfitting detector  (300 iterations wait)\n",
      "\n",
      "bestTest = 0.743956605\n",
      "bestIteration = 994\n",
      "\n",
      "Shrink model to first 995 iterations.\n",
      "0:\ttest: 0.7217510\tbest: 0.7217510 (0)\ttotal: 95.1ms\tremaining: 4m 15s\n",
      "300:\ttest: 0.7431273\tbest: 0.7431273 (300)\ttotal: 26.2s\tremaining: 3m 28s\n",
      "600:\ttest: 0.7439458\tbest: 0.7439871 (595)\ttotal: 54.9s\tremaining: 3m 11s\n",
      "900:\ttest: 0.7439808\tbest: 0.7440893 (674)\ttotal: 1m 24s\tremaining: 2m 47s\n"
     ]
    },
    {
     "name": "stderr",
     "output_type": "stream",
     "text": [
      "[I 2025-02-26 23:01:02,999] Trial 11 finished with value: 0.7440893160002349 and parameters: {'iterations': 2693, 'depth': 8, 'learning_rate': 0.031020321207544686, 'l2_leaf_reg': 1.775770062112738}. Best is trial 0 with value: 0.7443550199101824.\n"
     ]
    },
    {
     "name": "stdout",
     "output_type": "stream",
     "text": [
      "Stopped by overfitting detector  (300 iterations wait)\n",
      "\n",
      "bestTest = 0.744089316\n",
      "bestIteration = 674\n",
      "\n",
      "Shrink model to first 675 iterations.\n",
      "0:\ttest: 0.7239293\tbest: 0.7239293 (0)\ttotal: 107ms\tremaining: 5m\n",
      "300:\ttest: 0.7431378\tbest: 0.7431378 (300)\ttotal: 29.7s\tremaining: 4m 7s\n",
      "600:\ttest: 0.7443191\tbest: 0.7443191 (600)\ttotal: 1m 2s\tremaining: 3m 48s\n",
      "900:\ttest: 0.7442638\tbest: 0.7443940 (658)\ttotal: 1m 36s\tremaining: 3m 24s\n"
     ]
    },
    {
     "name": "stderr",
     "output_type": "stream",
     "text": [
      "[I 2025-02-26 23:02:46,300] Trial 12 finished with value: 0.7443939862167045 and parameters: {'iterations': 2811, 'depth': 9, 'learning_rate': 0.02806616524326411, 'l2_leaf_reg': 5.825638504015784}. Best is trial 12 with value: 0.7443939862167045.\n"
     ]
    },
    {
     "name": "stdout",
     "output_type": "stream",
     "text": [
      "Stopped by overfitting detector  (300 iterations wait)\n",
      "\n",
      "bestTest = 0.7443939862\n",
      "bestIteration = 658\n",
      "\n",
      "Shrink model to first 659 iterations.\n",
      "저장 완료\n",
      "0:\ttest: 0.7239329\tbest: 0.7239329 (0)\ttotal: 105ms\tremaining: 5m 11s\n",
      "300:\ttest: 0.7426123\tbest: 0.7426123 (300)\ttotal: 29.6s\tremaining: 4m 23s\n",
      "600:\ttest: 0.7439984\tbest: 0.7440092 (595)\ttotal: 59.3s\tremaining: 3m 54s\n",
      "900:\ttest: 0.7443484\tbest: 0.7443982 (877)\ttotal: 1m 33s\tremaining: 3m 34s\n",
      "1200:\ttest: 0.7442790\tbest: 0.7444273 (966)\ttotal: 2m 7s\tremaining: 3m 7s\n"
     ]
    },
    {
     "name": "stderr",
     "output_type": "stream",
     "text": [
      "[I 2025-02-26 23:05:01,052] Trial 13 finished with value: 0.7444272781268116 and parameters: {'iterations': 2975, 'depth': 9, 'learning_rate': 0.021577624002885907, 'l2_leaf_reg': 7.162267458446163}. Best is trial 13 with value: 0.7444272781268116.\n"
     ]
    },
    {
     "name": "stdout",
     "output_type": "stream",
     "text": [
      "Stopped by overfitting detector  (300 iterations wait)\n",
      "\n",
      "bestTest = 0.7444272781\n",
      "bestIteration = 966\n",
      "\n",
      "Shrink model to first 967 iterations.\n",
      "저장 완료\n",
      "0:\ttest: 0.7239397\tbest: 0.7239397 (0)\ttotal: 110ms\tremaining: 5m 25s\n",
      "300:\ttest: 0.7429012\tbest: 0.7429012 (300)\ttotal: 29.3s\tremaining: 4m 19s\n",
      "600:\ttest: 0.7435512\tbest: 0.7435794 (492)\ttotal: 1m\tremaining: 3m 57s\n"
     ]
    },
    {
     "name": "stderr",
     "output_type": "stream",
     "text": [
      "[I 2025-02-26 23:06:23,340] Trial 14 finished with value: 0.7435793827330428 and parameters: {'iterations': 2966, 'depth': 9, 'learning_rate': 0.025484846841426982, 'l2_leaf_reg': 0.06907271144085496}. Best is trial 13 with value: 0.7444272781268116.\n"
     ]
    },
    {
     "name": "stdout",
     "output_type": "stream",
     "text": [
      "Stopped by overfitting detector  (300 iterations wait)\n",
      "\n",
      "bestTest = 0.7435793827\n",
      "bestIteration = 492\n",
      "\n",
      "Shrink model to first 493 iterations.\n",
      "0:\ttest: 0.7217413\tbest: 0.7217413 (0)\ttotal: 94.1ms\tremaining: 4m 23s\n",
      "300:\ttest: 0.7439009\tbest: 0.7439109 (293)\ttotal: 27s\tremaining: 3m 44s\n",
      "600:\ttest: 0.7437863\tbest: 0.7440833 (426)\ttotal: 57.7s\tremaining: 3m 30s\n"
     ]
    },
    {
     "name": "stderr",
     "output_type": "stream",
     "text": [
      "[I 2025-02-26 23:07:33,655] Trial 15 finished with value: 0.7440832762822873 and parameters: {'iterations': 2799, 'depth': 8, 'learning_rate': 0.06696600009766787, 'l2_leaf_reg': 4.722389127363701}. Best is trial 13 with value: 0.7444272781268116.\n"
     ]
    },
    {
     "name": "stdout",
     "output_type": "stream",
     "text": [
      "Stopped by overfitting detector  (300 iterations wait)\n",
      "\n",
      "bestTest = 0.7440832763\n",
      "bestIteration = 426\n",
      "\n",
      "Shrink model to first 427 iterations.\n",
      "0:\ttest: 0.7239452\tbest: 0.7239452 (0)\ttotal: 109ms\tremaining: 5m 8s\n",
      "300:\ttest: 0.7428050\tbest: 0.7428050 (300)\ttotal: 30.1s\tremaining: 4m 12s\n",
      "600:\ttest: 0.7435464\tbest: 0.7437220 (533)\ttotal: 1m 4s\tremaining: 3m 59s\n"
     ]
    },
    {
     "name": "stderr",
     "output_type": "stream",
     "text": [
      "[I 2025-02-26 23:09:06,782] Trial 16 finished with value: 0.7437220407915481 and parameters: {'iterations': 2822, 'depth': 9, 'learning_rate': 0.036278584950848625, 'l2_leaf_reg': 0.358101634126985}. Best is trial 13 with value: 0.7444272781268116.\n"
     ]
    },
    {
     "name": "stdout",
     "output_type": "stream",
     "text": [
      "Stopped by overfitting detector  (300 iterations wait)\n",
      "\n",
      "bestTest = 0.7437220408\n",
      "bestIteration = 533\n",
      "\n",
      "Shrink model to first 534 iterations.\n",
      "0:\ttest: 0.7238810\tbest: 0.7238810 (0)\ttotal: 110ms\tremaining: 4m 35s\n",
      "300:\ttest: 0.7422295\tbest: 0.7422309 (299)\ttotal: 29.8s\tremaining: 3m 37s\n",
      "600:\ttest: 0.7434459\tbest: 0.7434459 (600)\ttotal: 58.6s\tremaining: 3m 5s\n",
      "900:\ttest: 0.7440089\tbest: 0.7440090 (899)\ttotal: 1m 31s\tremaining: 2m 42s\n",
      "1200:\ttest: 0.7440458\tbest: 0.7441095 (1036)\ttotal: 2m 6s\tremaining: 2m 16s\n"
     ]
    },
    {
     "name": "stderr",
     "output_type": "stream",
     "text": [
      "[I 2025-02-26 23:11:28,721] Trial 17 finished with value: 0.7441094761895972 and parameters: {'iterations': 2499, 'depth': 9, 'learning_rate': 0.019118360624400803, 'l2_leaf_reg': 18.930924683110522}. Best is trial 13 with value: 0.7444272781268116.\n"
     ]
    },
    {
     "name": "stdout",
     "output_type": "stream",
     "text": [
      "Stopped by overfitting detector  (300 iterations wait)\n",
      "\n",
      "bestTest = 0.7441094762\n",
      "bestIteration = 1036\n",
      "\n",
      "Shrink model to first 1037 iterations.\n",
      "0:\ttest: 0.7217540\tbest: 0.7217540 (0)\ttotal: 93.4ms\tremaining: 2m 27s\n",
      "300:\ttest: 0.7422413\tbest: 0.7424494 (239)\ttotal: 27.2s\tremaining: 1m 56s\n"
     ]
    },
    {
     "name": "stderr",
     "output_type": "stream",
     "text": [
      "[I 2025-02-26 23:12:19,679] Trial 18 finished with value: 0.7424494472033986 and parameters: {'iterations': 1585, 'depth': 8, 'learning_rate': 0.05970016430294879, 'l2_leaf_reg': 0.010016909578442512}. Best is trial 13 with value: 0.7444272781268116.\n"
     ]
    },
    {
     "name": "stdout",
     "output_type": "stream",
     "text": [
      "Stopped by overfitting detector  (300 iterations wait)\n",
      "\n",
      "bestTest = 0.7424494472\n",
      "bestIteration = 239\n",
      "\n",
      "Shrink model to first 240 iterations.\n",
      "0:\ttest: 0.7185695\tbest: 0.7185695 (0)\ttotal: 81.2ms\tremaining: 3m 50s\n",
      "300:\ttest: 0.7432777\tbest: 0.7432777 (300)\ttotal: 22.7s\tremaining: 3m 11s\n",
      "600:\ttest: 0.7441116\tbest: 0.7441668 (568)\ttotal: 47.6s\tremaining: 2m 56s\n",
      "900:\ttest: 0.7442035\tbest: 0.7442348 (824)\ttotal: 1m 12s\tremaining: 2m 35s\n",
      "1200:\ttest: 0.7441629\tbest: 0.7442744 (1047)\ttotal: 1m 38s\tremaining: 2m 13s\n"
     ]
    },
    {
     "name": "stderr",
     "output_type": "stream",
     "text": [
      "[I 2025-02-26 23:14:10,770] Trial 19 finished with value: 0.744274379152733 and parameters: {'iterations': 2835, 'depth': 7, 'learning_rate': 0.043003906362634056, 'l2_leaf_reg': 21.65912588757876}. Best is trial 13 with value: 0.7444272781268116.\n"
     ]
    },
    {
     "name": "stdout",
     "output_type": "stream",
     "text": [
      "Stopped by overfitting detector  (300 iterations wait)\n",
      "\n",
      "bestTest = 0.7442743792\n",
      "bestIteration = 1047\n",
      "\n",
      "Shrink model to first 1048 iterations.\n",
      "0:\ttest: 0.7239419\tbest: 0.7239419 (0)\ttotal: 108ms\tremaining: 5m 19s\n",
      "300:\ttest: 0.7426789\tbest: 0.7426789 (300)\ttotal: 29.9s\tremaining: 4m 25s\n",
      "600:\ttest: 0.7438009\tbest: 0.7438009 (600)\ttotal: 59.8s\tremaining: 3m 55s\n",
      "900:\ttest: 0.7443062\tbest: 0.7443574 (848)\ttotal: 1m 34s\tremaining: 3m 35s\n"
     ]
    },
    {
     "name": "stderr",
     "output_type": "stream",
     "text": [
      "[I 2025-02-26 23:16:13,477] Trial 20 finished with value: 0.7443573984710309 and parameters: {'iterations': 2967, 'depth': 9, 'learning_rate': 0.019854861079554063, 'l2_leaf_reg': 2.3551047457205385}. Best is trial 13 with value: 0.7444272781268116.\n"
     ]
    },
    {
     "name": "stdout",
     "output_type": "stream",
     "text": [
      "Stopped by overfitting detector  (300 iterations wait)\n",
      "\n",
      "bestTest = 0.7443573985\n",
      "bestIteration = 848\n",
      "\n",
      "Shrink model to first 849 iterations.\n",
      "0:\ttest: 0.7239393\tbest: 0.7239393 (0)\ttotal: 105ms\tremaining: 5m 14s\n",
      "300:\ttest: 0.7424289\tbest: 0.7424289 (300)\ttotal: 29.3s\tremaining: 4m 21s\n",
      "600:\ttest: 0.7436429\tbest: 0.7436429 (600)\ttotal: 59.1s\tremaining: 3m 54s\n",
      "900:\ttest: 0.7441990\tbest: 0.7441990 (900)\ttotal: 1m 33s\tremaining: 3m 35s\n",
      "1200:\ttest: 0.7440548\tbest: 0.7442018 (905)\ttotal: 2m 7s\tremaining: 3m 9s\n"
     ]
    },
    {
     "name": "stderr",
     "output_type": "stream",
     "text": [
      "[I 2025-02-26 23:18:21,835] Trial 21 finished with value: 0.7442017834107746 and parameters: {'iterations': 2986, 'depth': 9, 'learning_rate': 0.019677815524583975, 'l2_leaf_reg': 2.732002238441673}. Best is trial 13 with value: 0.7444272781268116.\n"
     ]
    },
    {
     "name": "stdout",
     "output_type": "stream",
     "text": [
      "Stopped by overfitting detector  (300 iterations wait)\n",
      "\n",
      "bestTest = 0.7442017834\n",
      "bestIteration = 905\n",
      "\n",
      "Shrink model to first 906 iterations.\n",
      "0:\ttest: 0.7217531\tbest: 0.7217531 (0)\ttotal: 95.8ms\tremaining: 4m 19s\n",
      "300:\ttest: 0.7430063\tbest: 0.7430063 (300)\ttotal: 26s\tremaining: 3m 27s\n",
      "600:\ttest: 0.7440016\tbest: 0.7440739 (526)\ttotal: 54.3s\tremaining: 3m 10s\n",
      "900:\ttest: 0.7439747\tbest: 0.7441167 (681)\ttotal: 1m 23s\tremaining: 2m 47s\n"
     ]
    },
    {
     "name": "stderr",
     "output_type": "stream",
     "text": [
      "[I 2025-02-26 23:19:53,680] Trial 22 finished with value: 0.7441167032025261 and parameters: {'iterations': 2704, 'depth': 8, 'learning_rate': 0.030890349814195202, 'l2_leaf_reg': 0.40676835541823897}. Best is trial 13 with value: 0.7444272781268116.\n"
     ]
    },
    {
     "name": "stdout",
     "output_type": "stream",
     "text": [
      "Stopped by overfitting detector  (300 iterations wait)\n",
      "\n",
      "bestTest = 0.7441167032\n",
      "bestIteration = 681\n",
      "\n",
      "Shrink model to first 682 iterations.\n",
      "0:\ttest: 0.7239325\tbest: 0.7239325 (0)\ttotal: 106ms\tremaining: 5m 3s\n",
      "300:\ttest: 0.7383326\tbest: 0.7383326 (300)\ttotal: 28.5s\tremaining: 4m 1s\n",
      "600:\ttest: 0.7411981\tbest: 0.7411985 (599)\ttotal: 57.4s\tremaining: 3m 35s\n",
      "900:\ttest: 0.7424543\tbest: 0.7424543 (900)\ttotal: 1m 26s\tremaining: 3m 6s\n",
      "1200:\ttest: 0.7430744\tbest: 0.7430744 (1200)\ttotal: 1m 55s\tremaining: 2m 38s\n",
      "1500:\ttest: 0.7434654\tbest: 0.7434679 (1498)\ttotal: 2m 23s\tremaining: 2m 9s\n",
      "1800:\ttest: 0.7437368\tbest: 0.7437368 (1800)\ttotal: 2m 52s\tremaining: 1m 41s\n",
      "2100:\ttest: 0.7440085\tbest: 0.7440087 (2099)\ttotal: 3m 24s\tremaining: 1m 13s\n",
      "2400:\ttest: 0.7442531\tbest: 0.7442531 (2400)\ttotal: 3m 58s\tremaining: 45s\n",
      "2700:\ttest: 0.7444084\tbest: 0.7444179 (2677)\ttotal: 4m 32s\tremaining: 15.4s\n"
     ]
    },
    {
     "name": "stderr",
     "output_type": "stream",
     "text": [
      "[I 2025-02-26 23:24:44,079] Trial 23 finished with value: 0.7444363118929727 and parameters: {'iterations': 2854, 'depth': 9, 'learning_rate': 0.006407621275385847, 'l2_leaf_reg': 6.585589233134257}. Best is trial 23 with value: 0.7444363118929727.\n"
     ]
    },
    {
     "name": "stdout",
     "output_type": "stream",
     "text": [
      "2853:\ttest: 0.7444325\tbest: 0.7444363 (2850)\ttotal: 4m 49s\tremaining: 0us\n",
      "\n",
      "bestTest = 0.7444363119\n",
      "bestIteration = 2850\n",
      "\n",
      "Shrink model to first 2851 iterations.\n",
      "저장 완료\n",
      "0:\ttest: 0.7267880\tbest: 0.7267880 (0)\ttotal: 130ms\tremaining: 5m 30s\n",
      "300:\ttest: 0.7395300\tbest: 0.7395300 (300)\ttotal: 38s\tremaining: 4m 43s\n",
      "600:\ttest: 0.7420288\tbest: 0.7420288 (600)\ttotal: 1m 17s\tremaining: 4m 11s\n",
      "900:\ttest: 0.7431015\tbest: 0.7431015 (900)\ttotal: 1m 58s\tremaining: 3m 36s\n",
      "1200:\ttest: 0.7435109\tbest: 0.7435109 (1200)\ttotal: 2m 39s\tremaining: 2m 58s\n",
      "1500:\ttest: 0.7437928\tbest: 0.7437949 (1497)\ttotal: 3m 20s\tremaining: 2m 19s\n",
      "1800:\ttest: 0.7440086\tbest: 0.7440101 (1799)\ttotal: 4m 4s\tremaining: 1m 40s\n",
      "2100:\ttest: 0.7441721\tbest: 0.7441863 (2069)\ttotal: 4m 52s\tremaining: 1m 1s\n",
      "2400:\ttest: 0.7442626\tbest: 0.7442696 (2376)\ttotal: 5m 43s\tremaining: 20.6s\n"
     ]
    },
    {
     "name": "stderr",
     "output_type": "stream",
     "text": [
      "[I 2025-02-26 23:30:52,711] Trial 24 finished with value: 0.7442871058430829 and parameters: {'iterations': 2545, 'depth': 10, 'learning_rate': 0.007117766603261182, 'l2_leaf_reg': 9.372260742024412}. Best is trial 23 with value: 0.7444363118929727.\n"
     ]
    },
    {
     "name": "stdout",
     "output_type": "stream",
     "text": [
      "2544:\ttest: 0.7442607\tbest: 0.7442871 (2425)\ttotal: 6m 8s\tremaining: 0us\n",
      "\n",
      "bestTest = 0.7442871058\n",
      "bestIteration = 2425\n",
      "\n",
      "Shrink model to first 2426 iterations.\n",
      "0:\ttest: 0.7217132\tbest: 0.7217132 (0)\ttotal: 93.4ms\tremaining: 4m 24s\n",
      "300:\ttest: 0.7412181\tbest: 0.7412181 (300)\ttotal: 25.7s\tremaining: 3m 36s\n",
      "600:\ttest: 0.7429214\tbest: 0.7429234 (599)\ttotal: 50.5s\tremaining: 3m 7s\n",
      "900:\ttest: 0.7436707\tbest: 0.7436707 (900)\ttotal: 1m 16s\tremaining: 2m 43s\n",
      "1200:\ttest: 0.7440716\tbest: 0.7440741 (1193)\ttotal: 1m 44s\tremaining: 2m 22s\n",
      "1500:\ttest: 0.7442587\tbest: 0.7442631 (1498)\ttotal: 2m 13s\tremaining: 1m 58s\n",
      "1800:\ttest: 0.7443574\tbest: 0.7443574 (1800)\ttotal: 2m 42s\tremaining: 1m 33s\n",
      "2100:\ttest: 0.7444080\tbest: 0.7444250 (2086)\ttotal: 3m 11s\tremaining: 1m 6s\n",
      "2400:\ttest: 0.7444561\tbest: 0.7444622 (2386)\ttotal: 3m 40s\tremaining: 39.8s\n",
      "2700:\ttest: 0.7444198\tbest: 0.7444705 (2471)\ttotal: 4m 9s\tremaining: 12.4s\n"
     ]
    },
    {
     "name": "stderr",
     "output_type": "stream",
     "text": [
      "[I 2025-02-26 23:35:09,232] Trial 25 finished with value: 0.7444704535727318 and parameters: {'iterations': 2835, 'depth': 8, 'learning_rate': 0.01471971811795447, 'l2_leaf_reg': 28.62664387923093}. Best is trial 25 with value: 0.7444704535727318.\n"
     ]
    },
    {
     "name": "stdout",
     "output_type": "stream",
     "text": [
      "Stopped by overfitting detector  (300 iterations wait)\n",
      "\n",
      "bestTest = 0.7444704536\n",
      "bestIteration = 2471\n",
      "\n",
      "Shrink model to first 2472 iterations.\n",
      "저장 완료\n",
      "0:\ttest: 0.7185685\tbest: 0.7185685 (0)\ttotal: 79.3ms\tremaining: 3m 28s\n",
      "300:\ttest: 0.7393963\tbest: 0.7393963 (300)\ttotal: 19.5s\tremaining: 2m 31s\n",
      "600:\ttest: 0.7418022\tbest: 0.7418022 (600)\ttotal: 39.5s\tremaining: 2m 13s\n",
      "900:\ttest: 0.7427468\tbest: 0.7427468 (899)\ttotal: 59.2s\tremaining: 1m 53s\n",
      "1200:\ttest: 0.7433885\tbest: 0.7433885 (1200)\ttotal: 1m 20s\tremaining: 1m 36s\n",
      "1500:\ttest: 0.7437015\tbest: 0.7437015 (1500)\ttotal: 1m 41s\tremaining: 1m 16s\n",
      "1800:\ttest: 0.7439076\tbest: 0.7439076 (1800)\ttotal: 2m 3s\tremaining: 57s\n",
      "2100:\ttest: 0.7439589\tbest: 0.7439710 (2051)\ttotal: 2m 24s\tremaining: 36.6s\n",
      "2400:\ttest: 0.7440217\tbest: 0.7440237 (2391)\ttotal: 2m 45s\tremaining: 16.1s\n"
     ]
    },
    {
     "name": "stderr",
     "output_type": "stream",
     "text": [
      "[I 2025-02-26 23:38:11,606] Trial 26 finished with value: 0.7440834390886225 and parameters: {'iterations': 2635, 'depth': 6, 'learning_rate': 0.013761627814922243, 'l2_leaf_reg': 48.32054371134501}. Best is trial 25 with value: 0.7444704535727318.\n"
     ]
    },
    {
     "name": "stdout",
     "output_type": "stream",
     "text": [
      "2634:\ttest: 0.7440821\tbest: 0.7440834 (2627)\ttotal: 3m 1s\tremaining: 0us\n",
      "\n",
      "bestTest = 0.7440834391\n",
      "bestIteration = 2627\n",
      "\n",
      "Shrink model to first 2628 iterations.\n",
      "0:\ttest: 0.7217147\tbest: 0.7217147 (0)\ttotal: 94ms\tremaining: 4m 31s\n",
      "300:\ttest: 0.7370276\tbest: 0.7370276 (300)\ttotal: 25.6s\tremaining: 3m 40s\n",
      "600:\ttest: 0.7401517\tbest: 0.7401517 (600)\ttotal: 50.9s\tremaining: 3m 14s\n",
      "900:\ttest: 0.7416100\tbest: 0.7416100 (900)\ttotal: 1m 16s\tremaining: 2m 49s\n",
      "1200:\ttest: 0.7423475\tbest: 0.7423475 (1200)\ttotal: 1m 43s\tremaining: 2m 25s\n",
      "1500:\ttest: 0.7428206\tbest: 0.7428206 (1500)\ttotal: 2m 8s\tremaining: 1m 59s\n",
      "1800:\ttest: 0.7431284\tbest: 0.7431288 (1799)\ttotal: 2m 34s\tremaining: 1m 33s\n",
      "2100:\ttest: 0.7433592\tbest: 0.7433592 (2100)\ttotal: 2m 59s\tremaining: 1m 7s\n",
      "2400:\ttest: 0.7436188\tbest: 0.7436195 (2399)\ttotal: 3m 26s\tremaining: 42.2s\n",
      "2700:\ttest: 0.7438640\tbest: 0.7438641 (2695)\ttotal: 3m 55s\tremaining: 16.6s\n"
     ]
    },
    {
     "name": "stderr",
     "output_type": "stream",
     "text": [
      "[I 2025-02-26 23:42:25,995] Trial 27 finished with value: 0.7439585745712896 and parameters: {'iterations': 2892, 'depth': 8, 'learning_rate': 0.00557148105860315, 'l2_leaf_reg': 26.436850543555213}. Best is trial 25 with value: 0.7444704535727318.\n"
     ]
    },
    {
     "name": "stdout",
     "output_type": "stream",
     "text": [
      "2891:\ttest: 0.7439548\tbest: 0.7439586 (2888)\ttotal: 4m 13s\tremaining: 0us\n",
      "\n",
      "bestTest = 0.7439585746\n",
      "bestIteration = 2888\n",
      "\n",
      "Shrink model to first 2889 iterations.\n",
      "0:\ttest: 0.7185974\tbest: 0.7185974 (0)\ttotal: 78.2ms\tremaining: 3m 34s\n",
      "300:\ttest: 0.7400766\tbest: 0.7400766 (300)\ttotal: 19.9s\tremaining: 2m 41s\n",
      "600:\ttest: 0.7421329\tbest: 0.7421329 (600)\ttotal: 40.7s\tremaining: 2m 24s\n",
      "900:\ttest: 0.7433058\tbest: 0.7433162 (898)\ttotal: 1m 2s\tremaining: 2m 6s\n",
      "1200:\ttest: 0.7437171\tbest: 0.7437426 (1166)\ttotal: 1m 24s\tremaining: 1m 47s\n",
      "1500:\ttest: 0.7439202\tbest: 0.7439202 (1500)\ttotal: 1m 46s\tremaining: 1m 27s\n",
      "1800:\ttest: 0.7440407\tbest: 0.7440523 (1794)\ttotal: 2m 8s\tremaining: 1m 6s\n",
      "2100:\ttest: 0.7439844\tbest: 0.7440903 (1856)\ttotal: 2m 30s\tremaining: 45.7s\n"
     ]
    },
    {
     "name": "stderr",
     "output_type": "stream",
     "text": [
      "[I 2025-02-26 23:45:00,898] Trial 28 finished with value: 0.7440902809255876 and parameters: {'iterations': 2739, 'depth': 6, 'learning_rate': 0.016182822845102827, 'l2_leaf_reg': 0.6371705802895323}. Best is trial 25 with value: 0.7444704535727318.\n"
     ]
    },
    {
     "name": "stdout",
     "output_type": "stream",
     "text": [
      "Stopped by overfitting detector  (300 iterations wait)\n",
      "\n",
      "bestTest = 0.7440902809\n",
      "bestIteration = 1856\n",
      "\n",
      "Shrink model to first 1857 iterations.\n",
      "0:\ttest: 0.7267715\tbest: 0.7267715 (0)\ttotal: 135ms\tremaining: 5m 21s\n",
      "300:\ttest: 0.7408123\tbest: 0.7408123 (300)\ttotal: 37.5s\tremaining: 4m 18s\n",
      "600:\ttest: 0.7428568\tbest: 0.7428575 (594)\ttotal: 1m 17s\tremaining: 3m 49s\n",
      "900:\ttest: 0.7434606\tbest: 0.7434702 (883)\ttotal: 1m 59s\tremaining: 3m 14s\n",
      "1200:\ttest: 0.7438479\tbest: 0.7438505 (1194)\ttotal: 2m 41s\tremaining: 2m 38s\n",
      "1500:\ttest: 0.7442028\tbest: 0.7442172 (1491)\ttotal: 3m 29s\tremaining: 2m 2s\n",
      "1800:\ttest: 0.7443631\tbest: 0.7443631 (1800)\ttotal: 4m 20s\tremaining: 1m 22s\n",
      "2100:\ttest: 0.7443974\tbest: 0.7444394 (2019)\ttotal: 5m 12s\tremaining: 40.6s\n"
     ]
    },
    {
     "name": "stderr",
     "output_type": "stream",
     "text": [
      "[I 2025-02-26 23:50:50,756] Trial 29 finished with value: 0.744439413155114 and parameters: {'iterations': 2374, 'depth': 10, 'learning_rate': 0.010317695420871742, 'l2_leaf_reg': 13.062018687819883}. Best is trial 25 with value: 0.7444704535727318.\n"
     ]
    },
    {
     "name": "stdout",
     "output_type": "stream",
     "text": [
      "Stopped by overfitting detector  (300 iterations wait)\n",
      "\n",
      "bestTest = 0.7444394132\n",
      "bestIteration = 2019\n",
      "\n",
      "Shrink model to first 2020 iterations.\n",
      "0:\ttest: 0.7267692\tbest: 0.7267692 (0)\ttotal: 129ms\tremaining: 5m 12s\n",
      "300:\ttest: 0.7415063\tbest: 0.7415063 (300)\ttotal: 38.6s\tremaining: 4m 32s\n",
      "600:\ttest: 0.7431975\tbest: 0.7431975 (600)\ttotal: 1m 18s\tremaining: 3m 59s\n",
      "900:\ttest: 0.7438353\tbest: 0.7438450 (880)\ttotal: 1m 58s\tremaining: 3m 20s\n",
      "1200:\ttest: 0.7441765\tbest: 0.7441869 (1197)\ttotal: 2m 43s\tremaining: 2m 47s\n",
      "1500:\ttest: 0.7443897\tbest: 0.7443967 (1494)\ttotal: 3m 34s\tremaining: 2m 12s\n",
      "1800:\ttest: 0.7443617\tbest: 0.7444044 (1515)\ttotal: 4m 26s\tremaining: 1m 32s\n"
     ]
    },
    {
     "name": "stderr",
     "output_type": "stream",
     "text": [
      "[I 2025-02-26 23:55:20,100] Trial 30 finished with value: 0.7444043581715232 and parameters: {'iterations': 2426, 'depth': 10, 'learning_rate': 0.012433367251324701, 'l2_leaf_reg': 16.881504006021743}. Best is trial 25 with value: 0.7444704535727318.\n"
     ]
    },
    {
     "name": "stdout",
     "output_type": "stream",
     "text": [
      "Stopped by overfitting detector  (300 iterations wait)\n",
      "\n",
      "bestTest = 0.7444043582\n",
      "bestIteration = 1515\n",
      "\n",
      "Shrink model to first 1516 iterations.\n",
      "0:\ttest: 0.7267898\tbest: 0.7267898 (0)\ttotal: 127ms\tremaining: 4m 56s\n",
      "300:\ttest: 0.7431306\tbest: 0.7431306 (300)\ttotal: 39.3s\tremaining: 4m 26s\n",
      "600:\ttest: 0.7439581\tbest: 0.7440145 (552)\ttotal: 1m 22s\tremaining: 3m 57s\n",
      "900:\ttest: 0.7441504\tbest: 0.7442257 (761)\ttotal: 2m 10s\tremaining: 3m 27s\n"
     ]
    },
    {
     "name": "stderr",
     "output_type": "stream",
     "text": [
      "[I 2025-02-26 23:57:56,904] Trial 31 finished with value: 0.7442257397673677 and parameters: {'iterations': 2337, 'depth': 10, 'learning_rate': 0.02283435359341264, 'l2_leaf_reg': 7.056335910269797}. Best is trial 25 with value: 0.7444704535727318.\n"
     ]
    },
    {
     "name": "stdout",
     "output_type": "stream",
     "text": [
      "Stopped by overfitting detector  (300 iterations wait)\n",
      "\n",
      "bestTest = 0.7442257398\n",
      "bestIteration = 761\n",
      "\n",
      "Shrink model to first 762 iterations.\n",
      "0:\ttest: 0.7213061\tbest: 0.7213061 (0)\ttotal: 112ms\tremaining: 4m\n",
      "300:\ttest: 0.7371846\tbest: 0.7371846 (300)\ttotal: 28.7s\tremaining: 2m 56s\n",
      "600:\ttest: 0.7402725\tbest: 0.7402725 (600)\ttotal: 57.4s\tremaining: 2m 28s\n",
      "900:\ttest: 0.7417247\tbest: 0.7417247 (900)\ttotal: 1m 26s\tremaining: 2m\n",
      "1200:\ttest: 0.7425436\tbest: 0.7425436 (1200)\ttotal: 1m 55s\tremaining: 1m 32s\n",
      "1500:\ttest: 0.7430076\tbest: 0.7430076 (1500)\ttotal: 2m 23s\tremaining: 1m 2s\n",
      "1800:\ttest: 0.7432987\tbest: 0.7433026 (1796)\ttotal: 2m 51s\tremaining: 33.8s\n",
      "2100:\ttest: 0.7435252\tbest: 0.7435254 (2095)\ttotal: 3m 17s\tremaining: 5.28s\n"
     ]
    },
    {
     "name": "stderr",
     "output_type": "stream",
     "text": [
      "[I 2025-02-27 00:01:20,752] Trial 32 finished with value: 0.7435842311851231 and parameters: {'iterations': 2157, 'depth': 9, 'learning_rate': 0.005112660779377766, 'l2_leaf_reg': 42.42323844642825}. Best is trial 25 with value: 0.7444704535727318.\n"
     ]
    },
    {
     "name": "stdout",
     "output_type": "stream",
     "text": [
      "2156:\ttest: 0.7435842\tbest: 0.7435842 (2156)\ttotal: 3m 23s\tremaining: 0us\n",
      "\n",
      "bestTest = 0.7435842312\n",
      "bestIteration = 2156\n",
      "\n",
      "0:\ttest: 0.7217528\tbest: 0.7217528 (0)\ttotal: 96.3ms\tremaining: 4m 8s\n",
      "300:\ttest: 0.7397897\tbest: 0.7397897 (300)\ttotal: 25.3s\tremaining: 3m 11s\n",
      "600:\ttest: 0.7421317\tbest: 0.7421317 (600)\ttotal: 51.3s\tremaining: 2m 48s\n",
      "900:\ttest: 0.7428537\tbest: 0.7428551 (899)\ttotal: 1m 17s\tremaining: 2m 24s\n",
      "1200:\ttest: 0.7434160\tbest: 0.7434160 (1200)\ttotal: 1m 44s\tremaining: 1m 59s\n",
      "1500:\ttest: 0.7438179\tbest: 0.7438179 (1500)\ttotal: 2m 12s\tremaining: 1m 35s\n",
      "1800:\ttest: 0.7439696\tbest: 0.7439707 (1799)\ttotal: 2m 42s\tremaining: 1m 10s\n",
      "2100:\ttest: 0.7439621\tbest: 0.7440217 (2016)\ttotal: 3m 11s\tremaining: 43.6s\n"
     ]
    },
    {
     "name": "stderr",
     "output_type": "stream",
     "text": [
      "[I 2025-02-27 00:04:54,328] Trial 33 finished with value: 0.7440216878369437 and parameters: {'iterations': 2579, 'depth': 8, 'learning_rate': 0.009991609315909127, 'l2_leaf_reg': 0.956164897860302}. Best is trial 25 with value: 0.7444704535727318.\n"
     ]
    },
    {
     "name": "stdout",
     "output_type": "stream",
     "text": [
      "Stopped by overfitting detector  (300 iterations wait)\n",
      "\n",
      "bestTest = 0.7440216878\n",
      "bestIteration = 2016\n",
      "\n",
      "Shrink model to first 2017 iterations.\n",
      "0:\ttest: 0.7267664\tbest: 0.7267664 (0)\ttotal: 129ms\tremaining: 5m 15s\n",
      "300:\ttest: 0.7437677\tbest: 0.7437689 (299)\ttotal: 40s\tremaining: 4m 44s\n",
      "600:\ttest: 0.7443329\tbest: 0.7445390 (488)\ttotal: 1m 28s\tremaining: 4m 29s\n"
     ]
    },
    {
     "name": "stderr",
     "output_type": "stream",
     "text": [
      "[I 2025-02-27 00:06:53,937] Trial 34 finished with value: 0.7445389513601064 and parameters: {'iterations': 2439, 'depth': 10, 'learning_rate': 0.035552595543519125, 'l2_leaf_reg': 11.387184717698139}. Best is trial 34 with value: 0.7445389513601064.\n"
     ]
    },
    {
     "name": "stdout",
     "output_type": "stream",
     "text": [
      "Stopped by overfitting detector  (300 iterations wait)\n",
      "\n",
      "bestTest = 0.7445389514\n",
      "bestIteration = 488\n",
      "\n",
      "Shrink model to first 489 iterations.\n",
      "저장 완료\n",
      "0:\ttest: 0.7267768\tbest: 0.7267768 (0)\ttotal: 130ms\tremaining: 4m 53s\n",
      "300:\ttest: 0.7436133\tbest: 0.7436273 (295)\ttotal: 39.9s\tremaining: 4m 19s\n",
      "600:\ttest: 0.7431274\tbest: 0.7438132 (372)\ttotal: 1m 27s\tremaining: 4m\n"
     ]
    },
    {
     "name": "stderr",
     "output_type": "stream",
     "text": [
      "[I 2025-02-27 00:08:33,285] Trial 35 finished with value: 0.7438132163101515 and parameters: {'iterations': 2259, 'depth': 10, 'learning_rate': 0.0372740067623661, 'l2_leaf_reg': 3.3712760558444104}. Best is trial 34 with value: 0.7445389513601064.\n"
     ]
    },
    {
     "name": "stdout",
     "output_type": "stream",
     "text": [
      "Stopped by overfitting detector  (300 iterations wait)\n",
      "\n",
      "bestTest = 0.7438132163\n",
      "bestIteration = 372\n",
      "\n",
      "Shrink model to first 373 iterations.\n",
      "0:\ttest: 0.7267733\tbest: 0.7267733 (0)\ttotal: 129ms\tremaining: 5m 15s\n",
      "300:\ttest: 0.7419264\tbest: 0.7419264 (300)\ttotal: 37.5s\tremaining: 4m 26s\n",
      "600:\ttest: 0.7433616\tbest: 0.7433616 (600)\ttotal: 1m 18s\tremaining: 3m 59s\n",
      "900:\ttest: 0.7438788\tbest: 0.7438788 (900)\ttotal: 2m 2s\tremaining: 3m 28s\n",
      "1200:\ttest: 0.7442285\tbest: 0.7442634 (1146)\ttotal: 2m 52s\tremaining: 2m 58s\n",
      "1500:\ttest: 0.7442770\tbest: 0.7443281 (1363)\ttotal: 3m 43s\tremaining: 2m 19s\n"
     ]
    },
    {
     "name": "stderr",
     "output_type": "stream",
     "text": [
      "[I 2025-02-27 00:12:45,492] Trial 36 finished with value: 0.744328069505376 and parameters: {'iterations': 2439, 'depth': 10, 'learning_rate': 0.014752748915171188, 'l2_leaf_reg': 14.177926939414718}. Best is trial 34 with value: 0.7445389513601064.\n"
     ]
    },
    {
     "name": "stdout",
     "output_type": "stream",
     "text": [
      "Stopped by overfitting detector  (300 iterations wait)\n",
      "\n",
      "bestTest = 0.7443280695\n",
      "bestIteration = 1363\n",
      "\n",
      "Shrink model to first 1364 iterations.\n",
      "0:\ttest: 0.7267765\tbest: 0.7267765 (0)\ttotal: 131ms\tremaining: 4m 56s\n",
      "300:\ttest: 0.7416145\tbest: 0.7421295 (277)\ttotal: 40.4s\tremaining: 4m 21s\n"
     ]
    },
    {
     "name": "stderr",
     "output_type": "stream",
     "text": [
      "[I 2025-02-27 00:14:10,463] Trial 37 finished with value: 0.7421294731914194 and parameters: {'iterations': 2253, 'depth': 10, 'learning_rate': 0.050792906841941696, 'l2_leaf_reg': 0.021852598233615055}. Best is trial 34 with value: 0.7445389513601064.\n"
     ]
    },
    {
     "name": "stdout",
     "output_type": "stream",
     "text": [
      "Stopped by overfitting detector  (300 iterations wait)\n",
      "\n",
      "bestTest = 0.7421294732\n",
      "bestIteration = 277\n",
      "\n",
      "Shrink model to first 278 iterations.\n",
      "0:\ttest: 0.7255092\tbest: 0.7255092 (0)\ttotal: 135ms\tremaining: 5m 30s\n",
      "300:\ttest: 0.7435925\tbest: 0.7435957 (298)\ttotal: 38.7s\tremaining: 4m 36s\n",
      "600:\ttest: 0.7441257\tbest: 0.7442320 (528)\ttotal: 1m 26s\tremaining: 4m 25s\n",
      "900:\ttest: 0.7441019\tbest: 0.7442579 (695)\ttotal: 2m 19s\tremaining: 3m 59s\n"
     ]
    },
    {
     "name": "stderr",
     "output_type": "stream",
     "text": [
      "[I 2025-02-27 00:16:46,968] Trial 38 finished with value: 0.7442578801204697 and parameters: {'iterations': 2446, 'depth': 10, 'learning_rate': 0.033286295109078476, 'l2_leaf_reg': 44.70976399189011}. Best is trial 34 with value: 0.7445389513601064.\n"
     ]
    },
    {
     "name": "stdout",
     "output_type": "stream",
     "text": [
      "Stopped by overfitting detector  (300 iterations wait)\n",
      "\n",
      "bestTest = 0.7442578801\n",
      "bestIteration = 695\n",
      "\n",
      "Shrink model to first 696 iterations.\n",
      "0:\ttest: 0.7239434\tbest: 0.7239434 (0)\ttotal: 102ms\tremaining: 3m 35s\n",
      "300:\ttest: 0.7403056\tbest: 0.7403056 (300)\ttotal: 28.5s\tremaining: 2m 51s\n",
      "600:\ttest: 0.7424594\tbest: 0.7424602 (599)\ttotal: 57.8s\tremaining: 2m 25s\n",
      "900:\ttest: 0.7432931\tbest: 0.7432931 (900)\ttotal: 1m 26s\tremaining: 1m 55s\n",
      "1200:\ttest: 0.7436461\tbest: 0.7436481 (1199)\ttotal: 1m 55s\tremaining: 1m 27s\n",
      "1500:\ttest: 0.7439394\tbest: 0.7439525 (1491)\ttotal: 2m 28s\tremaining: 1m\n",
      "1800:\ttest: 0.7440123\tbest: 0.7440765 (1675)\ttotal: 3m 2s\tremaining: 31.4s\n"
     ]
    },
    {
     "name": "stderr",
     "output_type": "stream",
     "text": [
      "[I 2025-02-27 00:20:09,614] Trial 39 finished with value: 0.7440764662124121 and parameters: {'iterations': 2111, 'depth': 9, 'learning_rate': 0.00934967394954216, 'l2_leaf_reg': 0.1516130146055888}. Best is trial 34 with value: 0.7445389513601064.\n",
      "[I 2025-02-27 00:20:09,620] A new study created in memory with name: no-name-a3e1ecec-7b1c-4959-ac9d-c22233a9c362\n"
     ]
    },
    {
     "name": "stdout",
     "output_type": "stream",
     "text": [
      "Stopped by overfitting detector  (300 iterations wait)\n",
      "\n",
      "bestTest = 0.7440764662\n",
      "bestIteration = 1675\n",
      "\n",
      "Shrink model to first 1676 iterations.\n"
     ]
    },
    {
     "name": "stderr",
     "output_type": "stream",
     "text": [
      "[I 2025-02-27 00:20:32,874] Trial 0 finished with value: 0.7358865689665585 and parameters: {'num_iterations': 2366, 'objective': 'binary', 'metric': 'auc', 'verbose': -1, 'learning_rate': 0.0652646236447618, 'n_estimators': 236, 'min_child_samples': 45, 'subsample': 0.7, 'colsample_bytree': 0.5}. Best is trial 0 with value: 0.7358865689665585.\n",
      "[I 2025-02-27 00:20:49,864] Trial 1 finished with value: 0.7437464498291709 and parameters: {'num_iterations': 1510, 'objective': 'binary', 'metric': 'auc', 'verbose': -1, 'learning_rate': 0.005231880959249543, 'n_estimators': 1411, 'min_child_samples': 10, 'subsample': 1.0, 'colsample_bytree': 0.5}. Best is trial 1 with value: 0.7437464498291709.\n",
      "[I 2025-02-27 00:21:09,329] Trial 2 finished with value: 0.7434001329579777 and parameters: {'num_iterations': 2334, 'objective': 'binary', 'metric': 'auc', 'verbose': -1, 'learning_rate': 0.006578527777128852, 'n_estimators': 931, 'min_child_samples': 15, 'subsample': 0.5, 'colsample_bytree': 1.0}. Best is trial 1 with value: 0.7437464498291709.\n",
      "[I 2025-02-27 00:21:25,871] Trial 3 finished with value: 0.7438610059258647 and parameters: {'num_iterations': 1620, 'objective': 'binary', 'metric': 'auc', 'verbose': -1, 'learning_rate': 0.0058823249237283685, 'n_estimators': 837, 'min_child_samples': 10, 'subsample': 0.9, 'colsample_bytree': 0.6}. Best is trial 3 with value: 0.7438610059258647.\n",
      "[I 2025-02-27 00:21:42,190] Trial 4 finished with value: 0.7434824891382761 and parameters: {'num_iterations': 1997, 'objective': 'binary', 'metric': 'auc', 'verbose': -1, 'learning_rate': 0.010907507425244923, 'n_estimators': 1597, 'min_child_samples': 50, 'subsample': 0.6, 'colsample_bytree': 0.8}. Best is trial 3 with value: 0.7438610059258647.\n",
      "[I 2025-02-27 00:22:04,659] Trial 5 finished with value: 0.7403303083227964 and parameters: {'num_iterations': 2909, 'objective': 'binary', 'metric': 'auc', 'verbose': -1, 'learning_rate': 0.019760591962733942, 'n_estimators': 612, 'min_child_samples': 30, 'subsample': 0.7, 'colsample_bytree': 0.9}. Best is trial 3 with value: 0.7438610059258647.\n",
      "[I 2025-02-27 00:22:25,674] Trial 6 finished with value: 0.7411919151866988 and parameters: {'num_iterations': 2639, 'objective': 'binary', 'metric': 'auc', 'verbose': -1, 'learning_rate': 0.017862094446750985, 'n_estimators': 794, 'min_child_samples': 35, 'subsample': 1.0, 'colsample_bytree': 0.8}. Best is trial 3 with value: 0.7438610059258647.\n",
      "[I 2025-02-27 00:22:42,334] Trial 7 finished with value: 0.7435910174296809 and parameters: {'num_iterations': 1580, 'objective': 'binary', 'metric': 'auc', 'verbose': -1, 'learning_rate': 0.01776722177611332, 'n_estimators': 529, 'min_child_samples': 25, 'subsample': 0.8, 'colsample_bytree': 0.5}. Best is trial 3 with value: 0.7438610059258647.\n",
      "[I 2025-02-27 00:23:00,014] Trial 8 finished with value: 0.7413910868979529 and parameters: {'num_iterations': 1911, 'objective': 'binary', 'metric': 'auc', 'verbose': -1, 'learning_rate': 0.0304747553332844, 'n_estimators': 1328, 'min_child_samples': 10, 'subsample': 0.7, 'colsample_bytree': 0.6}. Best is trial 3 with value: 0.7438610059258647.\n",
      "[I 2025-02-27 00:23:27,522] Trial 9 finished with value: 0.741260440770277 and parameters: {'num_iterations': 2739, 'objective': 'binary', 'metric': 'auc', 'verbose': -1, 'learning_rate': 0.02691531614176271, 'n_estimators': 1438, 'min_child_samples': 20, 'subsample': 0.6, 'colsample_bytree': 0.5}. Best is trial 3 with value: 0.7438610059258647.\n",
      "[I 2025-02-27 00:23:42,044] Trial 10 finished with value: 0.7341215854865569 and parameters: {'num_iterations': 1883, 'objective': 'binary', 'metric': 'auc', 'verbose': -1, 'learning_rate': 0.08223556891145911, 'n_estimators': 1917, 'min_child_samples': 40, 'subsample': 0.9, 'colsample_bytree': 0.7}. Best is trial 3 with value: 0.7438610059258647.\n",
      "[I 2025-02-27 00:23:57,722] Trial 11 finished with value: 0.7437359269806757 and parameters: {'num_iterations': 1513, 'objective': 'binary', 'metric': 'auc', 'verbose': -1, 'learning_rate': 0.005340229419903739, 'n_estimators': 1206, 'min_child_samples': 10, 'subsample': 1.0, 'colsample_bytree': 0.6}. Best is trial 3 with value: 0.7438610059258647.\n",
      "[I 2025-02-27 00:24:14,502] Trial 12 finished with value: 0.7441036111906435 and parameters: {'num_iterations': 1698, 'objective': 'binary', 'metric': 'auc', 'verbose': -1, 'learning_rate': 0.008515343845233947, 'n_estimators': 1719, 'min_child_samples': 20, 'subsample': 0.9, 'colsample_bytree': 0.6}. Best is trial 12 with value: 0.7441036111906435.\n",
      "[I 2025-02-27 00:24:29,651] Trial 13 finished with value: 0.7435692291769664 and parameters: {'num_iterations': 1785, 'objective': 'binary', 'metric': 'auc', 'verbose': -1, 'learning_rate': 0.010668787980411185, 'n_estimators': 2000, 'min_child_samples': 20, 'subsample': 0.9, 'colsample_bytree': 0.7}. Best is trial 12 with value: 0.7441036111906435.\n",
      "[I 2025-02-27 00:24:50,671] Trial 14 finished with value: 0.7438015855843996 and parameters: {'num_iterations': 2165, 'objective': 'binary', 'metric': 'auc', 'verbose': -1, 'learning_rate': 0.00865004642514095, 'n_estimators': 1729, 'min_child_samples': 20, 'subsample': 0.9, 'colsample_bytree': 0.6}. Best is trial 12 with value: 0.7441036111906435.\n",
      "[I 2025-02-27 00:25:05,744] Trial 15 finished with value: 0.7440445958795734 and parameters: {'num_iterations': 1739, 'objective': 'binary', 'metric': 'auc', 'verbose': -1, 'learning_rate': 0.008303365162986591, 'n_estimators': 1062, 'min_child_samples': 25, 'subsample': 0.8, 'colsample_bytree': 0.7}. Best is trial 12 with value: 0.7441036111906435.\n",
      "[I 2025-02-27 00:25:23,299] Trial 16 finished with value: 0.7431879883614277 and parameters: {'num_iterations': 2121, 'objective': 'binary', 'metric': 'auc', 'verbose': -1, 'learning_rate': 0.012356113282418082, 'n_estimators': 1088, 'min_child_samples': 30, 'subsample': 0.8, 'colsample_bytree': 0.7}. Best is trial 12 with value: 0.7441036111906435.\n",
      "[I 2025-02-27 00:25:38,263] Trial 17 finished with value: 0.7437732016896661 and parameters: {'num_iterations': 1768, 'objective': 'binary', 'metric': 'auc', 'verbose': -1, 'learning_rate': 0.008166258047721095, 'n_estimators': 167, 'min_child_samples': 25, 'subsample': 0.8, 'colsample_bytree': 0.8}. Best is trial 12 with value: 0.7441036111906435.\n",
      "[I 2025-02-27 00:25:51,864] Trial 18 finished with value: 0.7392611789739096 and parameters: {'num_iterations': 1717, 'objective': 'binary', 'metric': 'auc', 'verbose': -1, 'learning_rate': 0.04236199741746501, 'n_estimators': 1647, 'min_child_samples': 30, 'subsample': 0.8, 'colsample_bytree': 0.7}. Best is trial 12 with value: 0.7441036111906435.\n",
      "[I 2025-02-27 00:26:11,814] Trial 19 finished with value: 0.7422550604100452 and parameters: {'num_iterations': 2481, 'objective': 'binary', 'metric': 'auc', 'verbose': -1, 'learning_rate': 0.013818535896390961, 'n_estimators': 445, 'min_child_samples': 25, 'subsample': 0.9, 'colsample_bytree': 0.9}. Best is trial 12 with value: 0.7441036111906435.\n",
      "[I 2025-02-27 00:26:31,773] Trial 20 finished with value: 0.7440248883712406 and parameters: {'num_iterations': 2043, 'objective': 'binary', 'metric': 'auc', 'verbose': -1, 'learning_rate': 0.007877155758725746, 'n_estimators': 1776, 'min_child_samples': 35, 'subsample': 0.5, 'colsample_bytree': 0.6}. Best is trial 12 with value: 0.7441036111906435.\n",
      "[I 2025-02-27 00:26:51,294] Trial 21 finished with value: 0.7439782106036703 and parameters: {'num_iterations': 1986, 'objective': 'binary', 'metric': 'auc', 'verbose': -1, 'learning_rate': 0.007969201194958836, 'n_estimators': 1738, 'min_child_samples': 35, 'subsample': 0.5, 'colsample_bytree': 0.6}. Best is trial 12 with value: 0.7441036111906435.\n",
      "[I 2025-02-27 00:27:10,931] Trial 22 finished with value: 0.7433496629940628 and parameters: {'num_iterations': 2076, 'objective': 'binary', 'metric': 'auc', 'verbose': -1, 'learning_rate': 0.013944970165771392, 'n_estimators': 1807, 'min_child_samples': 35, 'subsample': 0.6, 'colsample_bytree': 0.6}. Best is trial 12 with value: 0.7441036111906435.\n",
      "[I 2025-02-27 00:27:25,841] Trial 23 finished with value: 0.7439523641052344 and parameters: {'num_iterations': 1696, 'objective': 'binary', 'metric': 'auc', 'verbose': -1, 'learning_rate': 0.007305732077404912, 'n_estimators': 1528, 'min_child_samples': 40, 'subsample': 0.7, 'colsample_bytree': 0.7}. Best is trial 12 with value: 0.7441036111906435.\n",
      "[I 2025-02-27 00:27:43,872] Trial 24 finished with value: 0.7437458700797821 and parameters: {'num_iterations': 1853, 'objective': 'binary', 'metric': 'auc', 'verbose': -1, 'learning_rate': 0.010124804432842914, 'n_estimators': 1199, 'min_child_samples': 15, 'subsample': 0.8, 'colsample_bytree': 0.6}. Best is trial 12 with value: 0.7441036111906435.\n",
      "[I 2025-02-27 00:28:01,808] Trial 25 finished with value: 0.7433497860915358 and parameters: {'num_iterations': 2188, 'objective': 'binary', 'metric': 'auc', 'verbose': -1, 'learning_rate': 0.0148268911728411, 'n_estimators': 1869, 'min_child_samples': 25, 'subsample': 0.5, 'colsample_bytree': 0.7}. Best is trial 12 with value: 0.7441036111906435.\n",
      "[I 2025-02-27 00:28:19,709] Trial 26 finished with value: 0.7440187851191135 and parameters: {'num_iterations': 1625, 'objective': 'binary', 'metric': 'auc', 'verbose': -1, 'learning_rate': 0.006560862459482555, 'n_estimators': 1243, 'min_child_samples': 15, 'subsample': 0.6, 'colsample_bytree': 0.5}. Best is trial 12 with value: 0.7441036111906435.\n",
      "[I 2025-02-27 00:28:36,361] Trial 27 finished with value: 0.7436143305027056 and parameters: {'num_iterations': 2008, 'objective': 'binary', 'metric': 'auc', 'verbose': -1, 'learning_rate': 0.009311089153883375, 'n_estimators': 999, 'min_child_samples': 40, 'subsample': 0.9, 'colsample_bytree': 0.8}. Best is trial 12 with value: 0.7441036111906435.\n",
      "[I 2025-02-27 00:28:53,356] Trial 28 finished with value: 0.740248694698222 and parameters: {'num_iterations': 1840, 'objective': 'binary', 'metric': 'auc', 'verbose': -1, 'learning_rate': 0.03898130569041551, 'n_estimators': 1486, 'min_child_samples': 30, 'subsample': 0.8, 'colsample_bytree': 0.6}. Best is trial 12 with value: 0.7441036111906435.\n",
      "[I 2025-02-27 00:29:17,113] Trial 29 finished with value: 0.7421211502138926 and parameters: {'num_iterations': 2362, 'objective': 'binary', 'metric': 'auc', 'verbose': -1, 'learning_rate': 0.023207420835634582, 'n_estimators': 335, 'min_child_samples': 45, 'subsample': 0.7, 'colsample_bytree': 0.5}. Best is trial 12 with value: 0.7441036111906435.\n",
      "[I 2025-02-27 00:29:36,111] Trial 30 finished with value: 0.733690660942576 and parameters: {'num_iterations': 2493, 'objective': 'binary', 'metric': 'auc', 'verbose': -1, 'learning_rate': 0.06335506478822968, 'n_estimators': 680, 'min_child_samples': 20, 'subsample': 1.0, 'colsample_bytree': 0.9}. Best is trial 12 with value: 0.7441036111906435.\n",
      "[I 2025-02-27 00:29:54,117] Trial 31 finished with value: 0.7439935819042458 and parameters: {'num_iterations': 1633, 'objective': 'binary', 'metric': 'auc', 'verbose': -1, 'learning_rate': 0.00700073623285179, 'n_estimators': 1277, 'min_child_samples': 15, 'subsample': 0.6, 'colsample_bytree': 0.5}. Best is trial 12 with value: 0.7441036111906435.\n",
      "[I 2025-02-27 00:30:12,745] Trial 32 finished with value: 0.7438967518436587 and parameters: {'num_iterations': 1688, 'objective': 'binary', 'metric': 'auc', 'verbose': -1, 'learning_rate': 0.006159574486877176, 'n_estimators': 1110, 'min_child_samples': 15, 'subsample': 0.5, 'colsample_bytree': 0.5}. Best is trial 12 with value: 0.7441036111906435.\n",
      "[I 2025-02-27 00:30:30,291] Trial 33 finished with value: 0.743744508065807 and parameters: {'num_iterations': 1556, 'objective': 'binary', 'metric': 'auc', 'verbose': -1, 'learning_rate': 0.0051357548669771, 'n_estimators': 1358, 'min_child_samples': 20, 'subsample': 0.6, 'colsample_bytree': 0.5}. Best is trial 12 with value: 0.7441036111906435.\n",
      "[I 2025-02-27 00:30:48,180] Trial 34 finished with value: 0.7441118984301943 and parameters: {'num_iterations': 1784, 'objective': 'binary', 'metric': 'auc', 'verbose': -1, 'learning_rate': 0.006653687664991712, 'n_estimators': 1639, 'min_child_samples': 25, 'subsample': 0.5, 'colsample_bytree': 0.6}. Best is trial 34 with value: 0.7441118984301943.\n",
      "[I 2025-02-27 00:31:09,790] Trial 35 finished with value: 0.7435354806149436 and parameters: {'num_iterations': 2279, 'objective': 'binary', 'metric': 'auc', 'verbose': -1, 'learning_rate': 0.011845342036230652, 'n_estimators': 1636, 'min_child_samples': 25, 'subsample': 0.5, 'colsample_bytree': 0.6}. Best is trial 34 with value: 0.7441118984301943.\n",
      "[I 2025-02-27 00:31:25,369] Trial 36 finished with value: 0.7439731675781651 and parameters: {'num_iterations': 1801, 'objective': 'binary', 'metric': 'auc', 'verbose': -1, 'learning_rate': 0.008385070844999176, 'n_estimators': 1983, 'min_child_samples': 30, 'subsample': 0.5, 'colsample_bytree': 0.7}. Best is trial 34 with value: 0.7441118984301943.\n",
      "[I 2025-02-27 00:31:45,093] Trial 37 finished with value: 0.7442381448159334 and parameters: {'num_iterations': 1966, 'objective': 'binary', 'metric': 'auc', 'verbose': -1, 'learning_rate': 0.005992089224541296, 'n_estimators': 1805, 'min_child_samples': 35, 'subsample': 0.7, 'colsample_bytree': 0.6}. Best is trial 37 with value: 0.7442381448159334.\n",
      "[I 2025-02-27 00:32:02,213] Trial 38 finished with value: 0.7442052460235625 and parameters: {'num_iterations': 1938, 'objective': 'binary', 'metric': 'auc', 'verbose': -1, 'learning_rate': 0.005858209588139775, 'n_estimators': 1587, 'min_child_samples': 25, 'subsample': 0.7, 'colsample_bytree': 0.7}. Best is trial 37 with value: 0.7442381448159334.\n",
      "[I 2025-02-27 00:32:18,874] Trial 39 finished with value: 0.7433924413513605 and parameters: {'num_iterations': 1907, 'objective': 'binary', 'metric': 'auc', 'verbose': -1, 'learning_rate': 0.005025707254359351, 'n_estimators': 1559, 'min_child_samples': 20, 'subsample': 0.7, 'colsample_bytree': 1.0}. Best is trial 37 with value: 0.7442381448159334.\n"
     ]
    },
    {
     "name": "stdout",
     "output_type": "stream",
     "text": [
      "Cat val score : 0.7445389513601064\n",
      "LGBM val score : 0.7442230197103038\n",
      "Ensemble val score : 0.7447490072705021\n"
     ]
    },
    {
     "name": "stderr",
     "output_type": "stream",
     "text": [
      "[I 2025-02-27 00:32:39,994] A new study created in memory with name: no-name-6ec4a081-907f-4287-97d3-d279695d057d\n"
     ]
    },
    {
     "name": "stdout",
     "output_type": "stream",
     "text": [
      "==================================================\n",
      "0:\ttest: 0.7173645\tbest: 0.7173645 (0)\ttotal: 128ms\tremaining: 5m 2s\n",
      "300:\ttest: 0.7361021\tbest: 0.7361021 (300)\ttotal: 37.6s\tremaining: 4m 17s\n",
      "600:\ttest: 0.7375567\tbest: 0.7375567 (600)\ttotal: 1m 18s\tremaining: 3m 51s\n",
      "900:\ttest: 0.7380157\tbest: 0.7380157 (900)\ttotal: 1m 59s\tremaining: 3m 14s\n",
      "1200:\ttest: 0.7383694\tbest: 0.7383694 (1199)\ttotal: 2m 44s\tremaining: 2m 39s\n",
      "1500:\ttest: 0.7384132\tbest: 0.7384291 (1385)\ttotal: 3m 33s\tremaining: 2m 3s\n",
      "1800:\ttest: 0.7385401\tbest: 0.7385795 (1709)\ttotal: 4m 24s\tremaining: 1m 23s\n",
      "2100:\ttest: 0.7386079\tbest: 0.7386124 (2055)\ttotal: 5m 16s\tremaining: 39.9s\n"
     ]
    },
    {
     "name": "stderr",
     "output_type": "stream",
     "text": [
      "[I 2025-02-27 00:38:42,063] Trial 0 finished with value: 0.7386234268500336 and parameters: {'iterations': 2366, 'depth': 10, 'learning_rate': 0.01181021951839225, 'l2_leaf_reg': 9.980783802743254}. Best is trial 0 with value: 0.7386234268500336.\n"
     ]
    },
    {
     "name": "stdout",
     "output_type": "stream",
     "text": [
      "2365:\ttest: 0.7385628\tbest: 0.7386234 (2128)\ttotal: 6m 1s\tremaining: 0us\n",
      "\n",
      "bestTest = 0.7386234269\n",
      "bestIteration = 2128\n",
      "\n",
      "Shrink model to first 2129 iterations.\n",
      "저장 완료\n",
      "0:\ttest: 0.6928204\tbest: 0.6928204 (0)\ttotal: 57.3ms\tremaining: 2m 5s\n",
      "300:\ttest: 0.7277718\tbest: 0.7277718 (300)\ttotal: 13.2s\tremaining: 1m 23s\n",
      "600:\ttest: 0.7319432\tbest: 0.7319432 (600)\ttotal: 26.6s\tremaining: 1m 10s\n",
      "900:\ttest: 0.7340955\tbest: 0.7340955 (900)\ttotal: 40.4s\tremaining: 57.9s\n",
      "1200:\ttest: 0.7352646\tbest: 0.7352646 (1200)\ttotal: 54.3s\tremaining: 44.8s\n",
      "1500:\ttest: 0.7359806\tbest: 0.7359814 (1499)\ttotal: 1m 8s\tremaining: 31.4s\n",
      "1800:\ttest: 0.7365319\tbest: 0.7365333 (1799)\ttotal: 1m 22s\tremaining: 17.9s\n",
      "2100:\ttest: 0.7370198\tbest: 0.7370198 (2100)\ttotal: 1m 36s\tremaining: 4.24s\n"
     ]
    },
    {
     "name": "stderr",
     "output_type": "stream",
     "text": [
      "[I 2025-02-27 00:40:23,492] Trial 1 finished with value: 0.7371546119190947 and parameters: {'iterations': 2193, 'depth': 4, 'learning_rate': 0.005671430811678843, 'l2_leaf_reg': 0.00012325230809466137}. Best is trial 0 with value: 0.7386234268500336.\n"
     ]
    },
    {
     "name": "stdout",
     "output_type": "stream",
     "text": [
      "2192:\ttest: 0.7371546\tbest: 0.7371546 (2192)\ttotal: 1m 41s\tremaining: 0us\n",
      "\n",
      "bestTest = 0.7371546119\n",
      "bestIteration = 2192\n",
      "\n",
      "0:\ttest: 0.6928204\tbest: 0.6928204 (0)\ttotal: 56.2ms\tremaining: 2m 22s\n",
      "300:\ttest: 0.7380420\tbest: 0.7381162 (218)\ttotal: 14.6s\tremaining: 1m 48s\n",
      "600:\ttest: 0.7380565\tbest: 0.7381327 (309)\ttotal: 29.6s\tremaining: 1m 35s\n"
     ]
    },
    {
     "name": "stderr",
     "output_type": "stream",
     "text": [
      "[I 2025-02-27 00:40:53,651] Trial 2 finished with value: 0.7381327007595098 and parameters: {'iterations': 2535, 'depth': 4, 'learning_rate': 0.09275339199839054, 'l2_leaf_reg': 0.0008705394248343123}. Best is trial 0 with value: 0.7386234268500336.\n"
     ]
    },
    {
     "name": "stdout",
     "output_type": "stream",
     "text": [
      "Stopped by overfitting detector  (300 iterations wait)\n",
      "\n",
      "bestTest = 0.7381327008\n",
      "bestIteration = 309\n",
      "\n",
      "Shrink model to first 310 iterations.\n",
      "0:\ttest: 0.6928204\tbest: 0.6928204 (0)\ttotal: 53.9ms\tremaining: 2m 5s\n",
      "300:\ttest: 0.7376011\tbest: 0.7376011 (300)\ttotal: 14.2s\tremaining: 1m 35s\n",
      "600:\ttest: 0.7383375\tbest: 0.7384183 (517)\ttotal: 29.1s\tremaining: 1m 23s\n",
      "900:\ttest: 0.7384932\tbest: 0.7385493 (741)\ttotal: 44.2s\tremaining: 1m 10s\n"
     ]
    },
    {
     "name": "stderr",
     "output_type": "stream",
     "text": [
      "[I 2025-02-27 00:41:45,182] Trial 3 finished with value: 0.7385493102586511 and parameters: {'iterations': 2334, 'depth': 4, 'learning_rate': 0.04657568321363276, 'l2_leaf_reg': 0.0008640473331457248}. Best is trial 0 with value: 0.7386234268500336.\n"
     ]
    },
    {
     "name": "stdout",
     "output_type": "stream",
     "text": [
      "Stopped by overfitting detector  (300 iterations wait)\n",
      "\n",
      "bestTest = 0.7385493103\n",
      "bestIteration = 741\n",
      "\n",
      "Shrink model to first 742 iterations.\n",
      "0:\ttest: 0.7172508\tbest: 0.7172508 (0)\ttotal: 131ms\tremaining: 3m 48s\n",
      "300:\ttest: 0.7360294\tbest: 0.7360617 (299)\ttotal: 38.9s\tremaining: 3m 6s\n",
      "600:\ttest: 0.7367096\tbest: 0.7367422 (597)\ttotal: 1m 20s\tremaining: 2m 33s\n",
      "900:\ttest: 0.7368640\tbest: 0.7369860 (870)\ttotal: 2m 1s\tremaining: 1m 53s\n"
     ]
    },
    {
     "name": "stderr",
     "output_type": "stream",
     "text": [
      "[I 2025-02-27 00:44:28,471] Trial 4 finished with value: 0.7369860160317702 and parameters: {'iterations': 1742, 'depth': 10, 'learning_rate': 0.012622767482095846, 'l2_leaf_reg': 0.00021158816350109617}. Best is trial 0 with value: 0.7386234268500336.\n"
     ]
    },
    {
     "name": "stdout",
     "output_type": "stream",
     "text": [
      "Stopped by overfitting detector  (300 iterations wait)\n",
      "\n",
      "bestTest = 0.736986016\n",
      "bestIteration = 870\n",
      "\n",
      "Shrink model to first 871 iterations.\n",
      "0:\ttest: 0.6928204\tbest: 0.6928204 (0)\ttotal: 55ms\tremaining: 1m 54s\n",
      "300:\ttest: 0.7379842\tbest: 0.7380016 (298)\ttotal: 14.4s\tremaining: 1m 25s\n",
      "600:\ttest: 0.7381934\tbest: 0.7382940 (519)\ttotal: 29.4s\tremaining: 1m 12s\n",
      "900:\ttest: 0.7383154\tbest: 0.7383816 (739)\ttotal: 44.5s\tremaining: 58.3s\n"
     ]
    },
    {
     "name": "stderr",
     "output_type": "stream",
     "text": [
      "[I 2025-02-27 00:45:20,184] Trial 5 finished with value: 0.7383816475295895 and parameters: {'iterations': 2082, 'depth': 4, 'learning_rate': 0.06995196593094148, 'l2_leaf_reg': 0.0018080296485396804}. Best is trial 0 with value: 0.7386234268500336.\n"
     ]
    },
    {
     "name": "stdout",
     "output_type": "stream",
     "text": [
      "Stopped by overfitting detector  (300 iterations wait)\n",
      "\n",
      "bestTest = 0.7383816475\n",
      "bestIteration = 739\n",
      "\n",
      "Shrink model to first 740 iterations.\n",
      "0:\ttest: 0.6976425\tbest: 0.6976425 (0)\ttotal: 64.9ms\tremaining: 2m 9s\n",
      "300:\ttest: 0.7383066\tbest: 0.7383066 (299)\ttotal: 17.7s\tremaining: 1m 39s\n",
      "600:\ttest: 0.7386588\tbest: 0.7386753 (576)\ttotal: 35.9s\tremaining: 1m 23s\n",
      "900:\ttest: 0.7389579\tbest: 0.7389828 (894)\ttotal: 54.2s\tremaining: 1m 5s\n",
      "1200:\ttest: 0.7389903\tbest: 0.7390310 (968)\ttotal: 1m 12s\tremaining: 48.1s\n",
      "1500:\ttest: 0.7391181\tbest: 0.7391186 (1498)\ttotal: 1m 31s\tremaining: 30.1s\n",
      "1800:\ttest: 0.7391183\tbest: 0.7391638 (1536)\ttotal: 1m 49s\tremaining: 11.9s\n"
     ]
    },
    {
     "name": "stderr",
     "output_type": "stream",
     "text": [
      "[I 2025-02-27 00:47:12,435] Trial 6 finished with value: 0.7391637771057062 and parameters: {'iterations': 1997, 'depth': 5, 'learning_rate': 0.07985155992831598, 'l2_leaf_reg': 62.52181000710482}. Best is trial 6 with value: 0.7391637771057062.\n"
     ]
    },
    {
     "name": "stdout",
     "output_type": "stream",
     "text": [
      "Stopped by overfitting detector  (300 iterations wait)\n",
      "\n",
      "bestTest = 0.7391637771\n",
      "bestIteration = 1536\n",
      "\n",
      "Shrink model to first 1537 iterations.\n",
      "저장 완료\n",
      "0:\ttest: 0.7150014\tbest: 0.7150014 (0)\ttotal: 84.9ms\tremaining: 2m 43s\n",
      "300:\ttest: 0.7375111\tbest: 0.7382740 (159)\ttotal: 24.7s\tremaining: 2m 13s\n"
     ]
    },
    {
     "name": "stderr",
     "output_type": "stream",
     "text": [
      "[I 2025-02-27 00:47:50,866] Trial 7 finished with value: 0.7382739928331539 and parameters: {'iterations': 1927, 'depth': 7, 'learning_rate': 0.0941937211034094, 'l2_leaf_reg': 0.05654822767791934}. Best is trial 6 with value: 0.7391637771057062.\n"
     ]
    },
    {
     "name": "stdout",
     "output_type": "stream",
     "text": [
      "Stopped by overfitting detector  (300 iterations wait)\n",
      "\n",
      "bestTest = 0.7382739928\n",
      "bestIteration = 159\n",
      "\n",
      "Shrink model to first 160 iterations.\n",
      "0:\ttest: 0.7150008\tbest: 0.7150008 (0)\ttotal: 85.8ms\tremaining: 2m 43s\n",
      "300:\ttest: 0.7386112\tbest: 0.7386284 (298)\ttotal: 23.9s\tremaining: 2m 7s\n",
      "600:\ttest: 0.7388760\tbest: 0.7388856 (565)\ttotal: 50.1s\tremaining: 1m 48s\n",
      "900:\ttest: 0.7386295\tbest: 0.7388976 (606)\ttotal: 1m 16s\tremaining: 1m 25s\n"
     ]
    },
    {
     "name": "stderr",
     "output_type": "stream",
     "text": [
      "[I 2025-02-27 00:49:08,358] Trial 8 finished with value: 0.7388975609514358 and parameters: {'iterations': 1904, 'depth': 7, 'learning_rate': 0.05155602859187331, 'l2_leaf_reg': 1.299974533316308}. Best is trial 6 with value: 0.7391637771057062.\n"
     ]
    },
    {
     "name": "stdout",
     "output_type": "stream",
     "text": [
      "Stopped by overfitting detector  (300 iterations wait)\n",
      "\n",
      "bestTest = 0.738897561\n",
      "bestIteration = 606\n",
      "\n",
      "Shrink model to first 607 iterations.\n",
      "0:\ttest: 0.7018845\tbest: 0.7018845 (0)\ttotal: 77.5ms\tremaining: 3m 24s\n",
      "300:\ttest: 0.7379366\tbest: 0.7379366 (300)\ttotal: 21s\tremaining: 2m 43s\n",
      "600:\ttest: 0.7387408\tbest: 0.7388097 (485)\ttotal: 43.1s\tremaining: 2m 26s\n",
      "900:\ttest: 0.7390112\tbest: 0.7390413 (831)\ttotal: 1m 5s\tremaining: 2m 6s\n",
      "1200:\ttest: 0.7389502\tbest: 0.7390983 (1078)\ttotal: 1m 27s\tremaining: 1m 45s\n"
     ]
    },
    {
     "name": "stderr",
     "output_type": "stream",
     "text": [
      "[I 2025-02-27 00:50:49,665] Trial 9 finished with value: 0.7390982693956587 and parameters: {'iterations': 2639, 'depth': 6, 'learning_rate': 0.03968704290444751, 'l2_leaf_reg': 0.30557194377967184}. Best is trial 6 with value: 0.7391637771057062.\n"
     ]
    },
    {
     "name": "stdout",
     "output_type": "stream",
     "text": [
      "Stopped by overfitting detector  (300 iterations wait)\n",
      "\n",
      "bestTest = 0.7390982694\n",
      "bestIteration = 1078\n",
      "\n",
      "Shrink model to first 1079 iterations.\n",
      "0:\ttest: 0.7018683\tbest: 0.7018683 (0)\ttotal: 78.3ms\tremaining: 3m 50s\n",
      "300:\ttest: 0.7383587\tbest: 0.7383592 (295)\ttotal: 21.4s\tremaining: 3m 7s\n",
      "600:\ttest: 0.7388735\tbest: 0.7388801 (588)\ttotal: 42.9s\tremaining: 2m 47s\n",
      "900:\ttest: 0.7391609\tbest: 0.7391715 (887)\ttotal: 1m 4s\tremaining: 2m 25s\n",
      "1200:\ttest: 0.7389999\tbest: 0.7392006 (1010)\ttotal: 1m 25s\tremaining: 2m 4s\n"
     ]
    },
    {
     "name": "stderr",
     "output_type": "stream",
     "text": [
      "[I 2025-02-27 00:52:23,434] Trial 10 finished with value: 0.7392005554539185 and parameters: {'iterations': 2945, 'depth': 6, 'learning_rate': 0.07265276039199581, 'l2_leaf_reg': 97.18545559492516}. Best is trial 10 with value: 0.7392005554539185.\n"
     ]
    },
    {
     "name": "stdout",
     "output_type": "stream",
     "text": [
      "Stopped by overfitting detector  (300 iterations wait)\n",
      "\n",
      "bestTest = 0.7392005555\n",
      "bestIteration = 1010\n",
      "\n",
      "Shrink model to first 1011 iterations.\n",
      "저장 완료\n",
      "0:\ttest: 0.7018683\tbest: 0.7018683 (0)\ttotal: 76.6ms\tremaining: 3m 49s\n",
      "300:\ttest: 0.7383683\tbest: 0.7383683 (299)\ttotal: 20.6s\tremaining: 3m 4s\n",
      "600:\ttest: 0.7385501\tbest: 0.7385554 (572)\ttotal: 42.8s\tremaining: 2m 50s\n",
      "900:\ttest: 0.7386035\tbest: 0.7386449 (770)\ttotal: 1m 4s\tremaining: 2m 29s\n",
      "1200:\ttest: 0.7386693\tbest: 0.7387056 (992)\ttotal: 1m 26s\tremaining: 2m 8s\n"
     ]
    },
    {
     "name": "stderr",
     "output_type": "stream",
     "text": [
      "[I 2025-02-27 00:53:56,524] Trial 11 finished with value: 0.7387055566898171 and parameters: {'iterations': 2994, 'depth': 6, 'learning_rate': 0.07131044509072976, 'l2_leaf_reg': 73.1213351392818}. Best is trial 10 with value: 0.7392005554539185.\n"
     ]
    },
    {
     "name": "stdout",
     "output_type": "stream",
     "text": [
      "Stopped by overfitting detector  (300 iterations wait)\n",
      "\n",
      "bestTest = 0.7387055567\n",
      "bestIteration = 992\n",
      "\n",
      "Shrink model to first 993 iterations.\n",
      "0:\ttest: 0.7018683\tbest: 0.7018683 (0)\ttotal: 74.4ms\tremaining: 1m 58s\n",
      "300:\ttest: 0.7382674\tbest: 0.7382706 (299)\ttotal: 20.6s\tremaining: 1m 28s\n",
      "600:\ttest: 0.7387648\tbest: 0.7387745 (575)\ttotal: 42.3s\tremaining: 1m 9s\n",
      "900:\ttest: 0.7389948\tbest: 0.7390108 (896)\ttotal: 1m 3s\tremaining: 48.8s\n",
      "1200:\ttest: 0.7390479\tbest: 0.7391347 (1066)\ttotal: 1m 25s\tremaining: 27.7s\n",
      "1500:\ttest: 0.7391018\tbest: 0.7391476 (1417)\ttotal: 1m 48s\tremaining: 6.29s\n"
     ]
    },
    {
     "name": "stderr",
     "output_type": "stream",
     "text": [
      "[I 2025-02-27 00:55:51,978] Trial 12 finished with value: 0.7391475719190235 and parameters: {'iterations': 1588, 'depth': 6, 'learning_rate': 0.07382783813729096, 'l2_leaf_reg': 87.13438924619796}. Best is trial 10 with value: 0.7392005554539185.\n"
     ]
    },
    {
     "name": "stdout",
     "output_type": "stream",
     "text": [
      "1587:\ttest: 0.7391074\tbest: 0.7391476 (1417)\ttotal: 1m 55s\tremaining: 0us\n",
      "\n",
      "bestTest = 0.7391475719\n",
      "bestIteration = 1417\n",
      "\n",
      "Shrink model to first 1418 iterations.\n",
      "0:\ttest: 0.6976477\tbest: 0.6976477 (0)\ttotal: 63.7ms\tremaining: 3m 9s\n",
      "300:\ttest: 0.7383544\tbest: 0.7383632 (296)\ttotal: 18.8s\tremaining: 2m 47s\n",
      "600:\ttest: 0.7385271\tbest: 0.7385591 (562)\ttotal: 38.2s\tremaining: 2m 30s\n",
      "900:\ttest: 0.7385303\tbest: 0.7386346 (793)\ttotal: 57.4s\tremaining: 2m 12s\n",
      "1200:\ttest: 0.7384251\tbest: 0.7386454 (1080)\ttotal: 1m 16s\tremaining: 1m 53s\n"
     ]
    },
    {
     "name": "stderr",
     "output_type": "stream",
     "text": [
      "[I 2025-02-27 00:57:20,537] Trial 13 finished with value: 0.7386454255597179 and parameters: {'iterations': 2975, 'depth': 5, 'learning_rate': 0.07888750974731618, 'l2_leaf_reg': 6.819372056732044}. Best is trial 10 with value: 0.7392005554539185.\n"
     ]
    },
    {
     "name": "stdout",
     "output_type": "stream",
     "text": [
      "Stopped by overfitting detector  (300 iterations wait)\n",
      "\n",
      "bestTest = 0.7386454256\n",
      "bestIteration = 1080\n",
      "\n",
      "Shrink model to first 1081 iterations.\n",
      "0:\ttest: 0.7148828\tbest: 0.7148828 (0)\ttotal: 95.1ms\tremaining: 4m 16s\n",
      "300:\ttest: 0.7389437\tbest: 0.7389437 (300)\ttotal: 28.5s\tremaining: 3m 47s\n",
      "600:\ttest: 0.7393617\tbest: 0.7394478 (508)\ttotal: 59.2s\tremaining: 3m 27s\n"
     ]
    },
    {
     "name": "stderr",
     "output_type": "stream",
     "text": [
      "[I 2025-02-27 00:58:41,199] Trial 14 finished with value: 0.739447802684694 and parameters: {'iterations': 2702, 'depth': 8, 'learning_rate': 0.06308101933412968, 'l2_leaf_reg': 11.438982664164415}. Best is trial 14 with value: 0.739447802684694.\n"
     ]
    },
    {
     "name": "stdout",
     "output_type": "stream",
     "text": [
      "Stopped by overfitting detector  (300 iterations wait)\n",
      "\n",
      "bestTest = 0.7394478027\n",
      "bestIteration = 508\n",
      "\n",
      "Shrink model to first 509 iterations.\n",
      "저장 완료\n",
      "0:\ttest: 0.7148415\tbest: 0.7148415 (0)\ttotal: 114ms\tremaining: 5m 12s\n",
      "300:\ttest: 0.7377187\tbest: 0.7377187 (300)\ttotal: 29.8s\tremaining: 4m 2s\n",
      "600:\ttest: 0.7382602\tbest: 0.7384109 (524)\ttotal: 1m 3s\tremaining: 3m 46s\n",
      "900:\ttest: 0.7381990\tbest: 0.7384227 (658)\ttotal: 1m 37s\tremaining: 3m 19s\n"
     ]
    },
    {
     "name": "stderr",
     "output_type": "stream",
     "text": [
      "[I 2025-02-27 01:00:25,362] Trial 15 finished with value: 0.7384227342893555 and parameters: {'iterations': 2753, 'depth': 9, 'learning_rate': 0.03259885190735587, 'l2_leaf_reg': 4.722389127363701}. Best is trial 14 with value: 0.739447802684694.\n"
     ]
    },
    {
     "name": "stdout",
     "output_type": "stream",
     "text": [
      "Stopped by overfitting detector  (300 iterations wait)\n",
      "\n",
      "bestTest = 0.7384227343\n",
      "bestIteration = 658\n",
      "\n",
      "Shrink model to first 659 iterations.\n",
      "0:\ttest: 0.7148600\tbest: 0.7148600 (0)\ttotal: 96.2ms\tremaining: 4m 30s\n",
      "300:\ttest: 0.7378964\tbest: 0.7381898 (270)\ttotal: 27.5s\tremaining: 3m 49s\n"
     ]
    },
    {
     "name": "stderr",
     "output_type": "stream",
     "text": [
      "[I 2025-02-27 01:01:19,839] Trial 16 finished with value: 0.7381898497540544 and parameters: {'iterations': 2815, 'depth': 8, 'learning_rate': 0.061662991475729484, 'l2_leaf_reg': 0.03562900678874207}. Best is trial 14 with value: 0.739447802684694.\n"
     ]
    },
    {
     "name": "stdout",
     "output_type": "stream",
     "text": [
      "Stopped by overfitting detector  (300 iterations wait)\n",
      "\n",
      "bestTest = 0.7381898498\n",
      "bestIteration = 270\n",
      "\n",
      "Shrink model to first 271 iterations.\n",
      "0:\ttest: 0.7148643\tbest: 0.7148643 (0)\ttotal: 93.4ms\tremaining: 3m 59s\n",
      "300:\ttest: 0.7380082\tbest: 0.7380499 (295)\ttotal: 27.8s\tremaining: 3m 28s\n",
      "600:\ttest: 0.7375084\tbest: 0.7380955 (328)\ttotal: 57.2s\tremaining: 3m 6s\n"
     ]
    },
    {
     "name": "stderr",
     "output_type": "stream",
     "text": [
      "[I 2025-02-27 01:02:19,904] Trial 17 finished with value: 0.7380954617884954 and parameters: {'iterations': 2565, 'depth': 8, 'learning_rate': 0.06074791161960117, 'l2_leaf_reg': 0.5610725433980096}. Best is trial 14 with value: 0.739447802684694.\n"
     ]
    },
    {
     "name": "stdout",
     "output_type": "stream",
     "text": [
      "Stopped by overfitting detector  (300 iterations wait)\n",
      "\n",
      "bestTest = 0.7380954618\n",
      "bestIteration = 328\n",
      "\n",
      "Shrink model to first 329 iterations.\n",
      "0:\ttest: 0.7149118\tbest: 0.7149118 (0)\ttotal: 95.3ms\tremaining: 4m 28s\n",
      "300:\ttest: 0.7376028\tbest: 0.7376122 (299)\ttotal: 25.8s\tremaining: 3m 35s\n",
      "600:\ttest: 0.7386033\tbest: 0.7386153 (591)\ttotal: 52.9s\tremaining: 3m 15s\n",
      "900:\ttest: 0.7388156\tbest: 0.7388249 (892)\ttotal: 1m 21s\tremaining: 2m 54s\n",
      "1200:\ttest: 0.7388557\tbest: 0.7389212 (1015)\ttotal: 1m 51s\tremaining: 2m 29s\n"
     ]
    },
    {
     "name": "stderr",
     "output_type": "stream",
     "text": [
      "[I 2025-02-27 01:04:22,492] Trial 18 finished with value: 0.7389211996371309 and parameters: {'iterations': 2818, 'depth': 8, 'learning_rate': 0.031028793579317128, 'l2_leaf_reg': 18.78674759977375}. Best is trial 14 with value: 0.739447802684694.\n"
     ]
    },
    {
     "name": "stdout",
     "output_type": "stream",
     "text": [
      "Stopped by overfitting detector  (300 iterations wait)\n",
      "\n",
      "bestTest = 0.7389211996\n",
      "bestIteration = 1015\n",
      "\n",
      "Shrink model to first 1016 iterations.\n",
      "0:\ttest: 0.7150014\tbest: 0.7150014 (0)\ttotal: 89.1ms\tremaining: 3m 39s\n",
      "300:\ttest: 0.7376101\tbest: 0.7382859 (221)\ttotal: 24.9s\tremaining: 2m 58s\n"
     ]
    },
    {
     "name": "stderr",
     "output_type": "stream",
     "text": [
      "[I 2025-02-27 01:05:06,762] Trial 19 finished with value: 0.7382859213753727 and parameters: {'iterations': 2460, 'depth': 7, 'learning_rate': 0.0869018854727605, 'l2_leaf_reg': 0.011209249875988852}. Best is trial 14 with value: 0.739447802684694.\n"
     ]
    },
    {
     "name": "stdout",
     "output_type": "stream",
     "text": [
      "Stopped by overfitting detector  (300 iterations wait)\n",
      "\n",
      "bestTest = 0.7382859214\n",
      "bestIteration = 221\n",
      "\n",
      "Shrink model to first 222 iterations.\n",
      "0:\ttest: 0.7148612\tbest: 0.7148612 (0)\ttotal: 97.7ms\tremaining: 4m 26s\n",
      "300:\ttest: 0.7387900\tbest: 0.7388185 (294)\ttotal: 27.3s\tremaining: 3m 39s\n",
      "600:\ttest: 0.7384386\tbest: 0.7389623 (381)\ttotal: 56.7s\tremaining: 3m 20s\n"
     ]
    },
    {
     "name": "stderr",
     "output_type": "stream",
     "text": [
      "[I 2025-02-27 01:06:11,576] Trial 20 finished with value: 0.7389622506589208 and parameters: {'iterations': 2723, 'depth': 8, 'learning_rate': 0.06354510744730268, 'l2_leaf_reg': 3.5865469747817222}. Best is trial 14 with value: 0.739447802684694.\n"
     ]
    },
    {
     "name": "stdout",
     "output_type": "stream",
     "text": [
      "Stopped by overfitting detector  (300 iterations wait)\n",
      "\n",
      "bestTest = 0.7389622507\n",
      "bestIteration = 381\n",
      "\n",
      "Shrink model to first 382 iterations.\n",
      "0:\ttest: 0.6976425\tbest: 0.6976425 (0)\ttotal: 63.4ms\tremaining: 2m 14s\n",
      "300:\ttest: 0.7388474\tbest: 0.7388522 (299)\ttotal: 17.8s\tremaining: 1m 47s\n",
      "600:\ttest: 0.7391893\tbest: 0.7391893 (599)\ttotal: 36s\tremaining: 1m 30s\n",
      "900:\ttest: 0.7390619\tbest: 0.7392277 (703)\ttotal: 54.4s\tremaining: 1m 13s\n"
     ]
    },
    {
     "name": "stderr",
     "output_type": "stream",
     "text": [
      "[I 2025-02-27 01:07:12,531] Trial 21 finished with value: 0.7392277004321499 and parameters: {'iterations': 2118, 'depth': 5, 'learning_rate': 0.08380763788030844, 'l2_leaf_reg': 30.78589606030415}. Best is trial 14 with value: 0.739447802684694.\n"
     ]
    },
    {
     "name": "stdout",
     "output_type": "stream",
     "text": [
      "Stopped by overfitting detector  (300 iterations wait)\n",
      "\n",
      "bestTest = 0.7392277004\n",
      "bestIteration = 703\n",
      "\n",
      "Shrink model to first 704 iterations.\n",
      "0:\ttest: 0.6976425\tbest: 0.6976425 (0)\ttotal: 64.2ms\tremaining: 2m 21s\n",
      "300:\ttest: 0.7382638\tbest: 0.7382639 (299)\ttotal: 17.8s\tremaining: 1m 52s\n",
      "600:\ttest: 0.7386951\tbest: 0.7387135 (587)\ttotal: 36.1s\tremaining: 1m 35s\n",
      "900:\ttest: 0.7389130\tbest: 0.7389216 (826)\ttotal: 54.6s\tremaining: 1m 18s\n",
      "1200:\ttest: 0.7389096\tbest: 0.7389905 (1043)\ttotal: 1m 13s\tremaining: 1m\n",
      "1500:\ttest: 0.7389843\tbest: 0.7390490 (1361)\ttotal: 1m 32s\tremaining: 42.8s\n"
     ]
    },
    {
     "name": "stderr",
     "output_type": "stream",
     "text": [
      "[I 2025-02-27 01:08:55,780] Trial 22 finished with value: 0.7390489906976113 and parameters: {'iterations': 2199, 'depth': 5, 'learning_rate': 0.08452586997953394, 'l2_leaf_reg': 25.592518728187027}. Best is trial 14 with value: 0.739447802684694.\n"
     ]
    },
    {
     "name": "stdout",
     "output_type": "stream",
     "text": [
      "Stopped by overfitting detector  (300 iterations wait)\n",
      "\n",
      "bestTest = 0.7390489907\n",
      "bestIteration = 1361\n",
      "\n",
      "Shrink model to first 1362 iterations.\n",
      "0:\ttest: 0.7018688\tbest: 0.7018688 (0)\ttotal: 74.5ms\tremaining: 3m 34s\n",
      "300:\ttest: 0.7389198\tbest: 0.7389871 (240)\ttotal: 20.8s\tremaining: 2m 58s\n",
      "600:\ttest: 0.7388037\tbest: 0.7391538 (503)\ttotal: 42.3s\tremaining: 2m 40s\n"
     ]
    },
    {
     "name": "stderr",
     "output_type": "stream",
     "text": [
      "[I 2025-02-27 01:09:53,093] Trial 23 finished with value: 0.7391537982686237 and parameters: {'iterations': 2884, 'depth': 6, 'learning_rate': 0.09989420140692577, 'l2_leaf_reg': 24.246184155884688}. Best is trial 14 with value: 0.739447802684694.\n"
     ]
    },
    {
     "name": "stdout",
     "output_type": "stream",
     "text": [
      "Stopped by overfitting detector  (300 iterations wait)\n",
      "\n",
      "bestTest = 0.7391537983\n",
      "bestIteration = 503\n",
      "\n",
      "Shrink model to first 504 iterations.\n",
      "0:\ttest: 0.7148505\tbest: 0.7148505 (0)\ttotal: 110ms\tremaining: 4m 53s\n",
      "300:\ttest: 0.7386256\tbest: 0.7387302 (287)\ttotal: 31.4s\tremaining: 4m 6s\n"
     ]
    },
    {
     "name": "stderr",
     "output_type": "stream",
     "text": [
      "[I 2025-02-27 01:10:57,576] Trial 24 finished with value: 0.7387302198641582 and parameters: {'iterations': 2663, 'depth': 9, 'learning_rate': 0.06492498078917945, 'l2_leaf_reg': 1.6951625535387}. Best is trial 14 with value: 0.739447802684694.\n"
     ]
    },
    {
     "name": "stdout",
     "output_type": "stream",
     "text": [
      "Stopped by overfitting detector  (300 iterations wait)\n",
      "\n",
      "bestTest = 0.7387302199\n",
      "bestIteration = 287\n",
      "\n",
      "Shrink model to first 288 iterations.\n",
      "0:\ttest: 0.6976425\tbest: 0.6976425 (0)\ttotal: 64ms\tremaining: 2m 34s\n",
      "300:\ttest: 0.7379830\tbest: 0.7379857 (298)\ttotal: 17.5s\tremaining: 2m 2s\n",
      "600:\ttest: 0.7387272\tbest: 0.7387664 (543)\ttotal: 35.8s\tremaining: 1m 47s\n",
      "900:\ttest: 0.7387854\tbest: 0.7388196 (889)\ttotal: 54.1s\tremaining: 1m 30s\n",
      "1200:\ttest: 0.7388119\tbest: 0.7388640 (1158)\ttotal: 1m 12s\tremaining: 1m 13s\n"
     ]
    },
    {
     "name": "stderr",
     "output_type": "stream",
     "text": [
      "[I 2025-02-27 01:12:26,443] Trial 25 finished with value: 0.7388640069628378 and parameters: {'iterations': 2411, 'depth': 5, 'learning_rate': 0.05439067859873772, 'l2_leaf_reg': 24.85134923234485}. Best is trial 14 with value: 0.739447802684694.\n"
     ]
    },
    {
     "name": "stdout",
     "output_type": "stream",
     "text": [
      "Stopped by overfitting detector  (300 iterations wait)\n",
      "\n",
      "bestTest = 0.738864007\n",
      "bestIteration = 1158\n",
      "\n",
      "Shrink model to first 1159 iterations.\n",
      "0:\ttest: 0.7150014\tbest: 0.7150014 (0)\ttotal: 85.6ms\tremaining: 4m 6s\n",
      "300:\ttest: 0.7386220\tbest: 0.7387556 (241)\ttotal: 24.3s\tremaining: 3m 28s\n",
      "600:\ttest: 0.7385334\tbest: 0.7387688 (427)\ttotal: 49.9s\tremaining: 3m 9s\n"
     ]
    },
    {
     "name": "stderr",
     "output_type": "stream",
     "text": [
      "[I 2025-02-27 01:13:27,479] Trial 26 finished with value: 0.7387687652567405 and parameters: {'iterations': 2885, 'depth': 7, 'learning_rate': 0.07628804970187145, 'l2_leaf_reg': 0.38792321998999}. Best is trial 14 with value: 0.739447802684694.\n"
     ]
    },
    {
     "name": "stdout",
     "output_type": "stream",
     "text": [
      "Stopped by overfitting detector  (300 iterations wait)\n",
      "\n",
      "bestTest = 0.7387687653\n",
      "bestIteration = 427\n",
      "\n",
      "Shrink model to first 428 iterations.\n",
      "0:\ttest: 0.7148486\tbest: 0.7148486 (0)\ttotal: 112ms\tremaining: 3m 57s\n",
      "300:\ttest: 0.7374292\tbest: 0.7378310 (199)\ttotal: 32.2s\tremaining: 3m 14s\n"
     ]
    },
    {
     "name": "stderr",
     "output_type": "stream",
     "text": [
      "[I 2025-02-27 01:14:22,564] Trial 27 finished with value: 0.7378310444456848 and parameters: {'iterations': 2117, 'depth': 9, 'learning_rate': 0.08707650873003747, 'l2_leaf_reg': 2.5962521769278473}. Best is trial 14 with value: 0.739447802684694.\n"
     ]
    },
    {
     "name": "stdout",
     "output_type": "stream",
     "text": [
      "Stopped by overfitting detector  (300 iterations wait)\n",
      "\n",
      "bestTest = 0.7378310444\n",
      "bestIteration = 199\n",
      "\n",
      "Shrink model to first 200 iterations.\n",
      "0:\ttest: 0.7018804\tbest: 0.7018804 (0)\ttotal: 75ms\tremaining: 2m 51s\n",
      "300:\ttest: 0.7388706\tbest: 0.7388774 (292)\ttotal: 20.5s\tremaining: 2m 15s\n",
      "600:\ttest: 0.7393019\tbest: 0.7393379 (588)\ttotal: 42.1s\tremaining: 1m 57s\n",
      "900:\ttest: 0.7393081\tbest: 0.7394321 (840)\ttotal: 1m 3s\tremaining: 1m 38s\n"
     ]
    },
    {
     "name": "stderr",
     "output_type": "stream",
     "text": [
      "[I 2025-02-27 01:15:44,501] Trial 28 finished with value: 0.7394321097423342 and parameters: {'iterations': 2284, 'depth': 6, 'learning_rate': 0.054998305185314914, 'l2_leaf_reg': 8.159373724123242}. Best is trial 14 with value: 0.739447802684694.\n"
     ]
    },
    {
     "name": "stdout",
     "output_type": "stream",
     "text": [
      "Stopped by overfitting detector  (300 iterations wait)\n",
      "\n",
      "bestTest = 0.7394321097\n",
      "bestIteration = 840\n",
      "\n",
      "Shrink model to first 841 iterations.\n",
      "0:\ttest: 0.6976460\tbest: 0.6976460 (0)\ttotal: 63.8ms\tremaining: 2m 26s\n",
      "300:\ttest: 0.7377970\tbest: 0.7377970 (300)\ttotal: 17.7s\tremaining: 1m 57s\n",
      "600:\ttest: 0.7385962\tbest: 0.7386078 (598)\ttotal: 36.1s\tremaining: 1m 41s\n",
      "900:\ttest: 0.7388245\tbest: 0.7388477 (878)\ttotal: 54.6s\tremaining: 1m 24s\n"
     ]
    },
    {
     "name": "stderr",
     "output_type": "stream",
     "text": [
      "[I 2025-02-27 01:16:56,718] Trial 29 finished with value: 0.738847746183748 and parameters: {'iterations': 2296, 'depth': 5, 'learning_rate': 0.04542651790862241, 'l2_leaf_reg': 9.894837812541548}. Best is trial 14 with value: 0.739447802684694.\n"
     ]
    },
    {
     "name": "stdout",
     "output_type": "stream",
     "text": [
      "Stopped by overfitting detector  (300 iterations wait)\n",
      "\n",
      "bestTest = 0.7388477462\n",
      "bestIteration = 878\n",
      "\n",
      "Shrink model to first 879 iterations.\n",
      "0:\ttest: 0.7150014\tbest: 0.7150014 (0)\ttotal: 88.7ms\tremaining: 2m 36s\n",
      "300:\ttest: 0.7386620\tbest: 0.7386690 (296)\ttotal: 23.8s\tremaining: 1m 55s\n",
      "600:\ttest: 0.7388701\tbest: 0.7392055 (466)\ttotal: 49.4s\tremaining: 1m 35s\n"
     ]
    },
    {
     "name": "stderr",
     "output_type": "stream",
     "text": [
      "[I 2025-02-27 01:18:00,603] Trial 30 finished with value: 0.7392054872946094 and parameters: {'iterations': 1764, 'depth': 7, 'learning_rate': 0.05477975817916449, 'l2_leaf_reg': 0.625022210787573}. Best is trial 14 with value: 0.739447802684694.\n"
     ]
    },
    {
     "name": "stdout",
     "output_type": "stream",
     "text": [
      "Stopped by overfitting detector  (300 iterations wait)\n",
      "\n",
      "bestTest = 0.7392054873\n",
      "bestIteration = 466\n",
      "\n",
      "Shrink model to first 467 iterations.\n",
      "0:\ttest: 0.7150012\tbest: 0.7150012 (0)\ttotal: 86.5ms\tremaining: 2m 32s\n",
      "300:\ttest: 0.7385244\tbest: 0.7385363 (294)\ttotal: 23.9s\tremaining: 1m 56s\n",
      "600:\ttest: 0.7388085\tbest: 0.7389341 (553)\ttotal: 49.5s\tremaining: 1m 35s\n"
     ]
    },
    {
     "name": "stderr",
     "output_type": "stream",
     "text": [
      "[I 2025-02-27 01:19:11,884] Trial 31 finished with value: 0.73893405339584 and parameters: {'iterations': 1765, 'depth': 7, 'learning_rate': 0.054373047790232325, 'l2_leaf_reg': 0.8957044475763392}. Best is trial 14 with value: 0.739447802684694.\n"
     ]
    },
    {
     "name": "stdout",
     "output_type": "stream",
     "text": [
      "Stopped by overfitting detector  (300 iterations wait)\n",
      "\n",
      "bestTest = 0.7389340534\n",
      "bestIteration = 553\n",
      "\n",
      "Shrink model to first 554 iterations.\n",
      "0:\ttest: 0.7018845\tbest: 0.7018845 (0)\ttotal: 74ms\tremaining: 1m 51s\n",
      "300:\ttest: 0.7378596\tbest: 0.7378667 (298)\ttotal: 20.5s\tremaining: 1m 22s\n",
      "600:\ttest: 0.7385328\tbest: 0.7385792 (557)\ttotal: 42.3s\tremaining: 1m 4s\n",
      "900:\ttest: 0.7384935\tbest: 0.7387028 (694)\ttotal: 1m 4s\tremaining: 43.6s\n"
     ]
    },
    {
     "name": "stderr",
     "output_type": "stream",
     "text": [
      "[I 2025-02-27 01:20:23,421] Trial 32 finished with value: 0.7387028048656634 and parameters: {'iterations': 1511, 'depth': 6, 'learning_rate': 0.03895661817599786, 'l2_leaf_reg': 0.25809401308779867}. Best is trial 14 with value: 0.739447802684694.\n"
     ]
    },
    {
     "name": "stdout",
     "output_type": "stream",
     "text": [
      "Stopped by overfitting detector  (300 iterations wait)\n",
      "\n",
      "bestTest = 0.7387028049\n",
      "bestIteration = 694\n",
      "\n",
      "Shrink model to first 695 iterations.\n",
      "0:\ttest: 0.7150014\tbest: 0.7150014 (0)\ttotal: 86.8ms\tremaining: 2m 37s\n",
      "300:\ttest: 0.7366343\tbest: 0.7366343 (300)\ttotal: 22.8s\tremaining: 1m 55s\n",
      "600:\ttest: 0.7379167\tbest: 0.7379243 (594)\ttotal: 46.1s\tremaining: 1m 33s\n",
      "900:\ttest: 0.7385734\tbest: 0.7385927 (893)\ttotal: 1m 11s\tremaining: 1m 12s\n",
      "1200:\ttest: 0.7387606\tbest: 0.7387830 (1123)\ttotal: 1m 37s\tremaining: 50.1s\n",
      "1500:\ttest: 0.7388161\tbest: 0.7388704 (1325)\ttotal: 2m 2s\tremaining: 26.1s\n"
     ]
    },
    {
     "name": "stderr",
     "output_type": "stream",
     "text": [
      "[I 2025-02-27 01:22:37,196] Trial 33 finished with value: 0.738870376264342 and parameters: {'iterations': 1820, 'depth': 7, 'learning_rate': 0.01979891079189991, 'l2_leaf_reg': 0.13458815842659283}. Best is trial 14 with value: 0.739447802684694.\n"
     ]
    },
    {
     "name": "stdout",
     "output_type": "stream",
     "text": [
      "Stopped by overfitting detector  (300 iterations wait)\n",
      "\n",
      "bestTest = 0.7388703763\n",
      "bestIteration = 1325\n",
      "\n",
      "Shrink model to first 1326 iterations.\n",
      "0:\ttest: 0.7148828\tbest: 0.7148828 (0)\ttotal: 95.4ms\tremaining: 2m 39s\n",
      "300:\ttest: 0.7384620\tbest: 0.7384620 (300)\ttotal: 27.3s\tremaining: 2m 4s\n",
      "600:\ttest: 0.7385085\tbest: 0.7385568 (439)\ttotal: 56.6s\tremaining: 1m 40s\n",
      "900:\ttest: 0.7380562\tbest: 0.7385595 (607)\ttotal: 1m 26s\tremaining: 1m 13s\n"
     ]
    },
    {
     "name": "stderr",
     "output_type": "stream",
     "text": [
      "[I 2025-02-27 01:24:04,227] Trial 34 finished with value: 0.7385595273489071 and parameters: {'iterations': 1673, 'depth': 8, 'learning_rate': 0.05879934925748169, 'l2_leaf_reg': 11.387184717698139}. Best is trial 14 with value: 0.739447802684694.\n"
     ]
    },
    {
     "name": "stdout",
     "output_type": "stream",
     "text": [
      "Stopped by overfitting detector  (300 iterations wait)\n",
      "\n",
      "bestTest = 0.7385595273\n",
      "bestIteration = 607\n",
      "\n",
      "Shrink model to first 608 iterations.\n",
      "0:\ttest: 0.6928204\tbest: 0.6928204 (0)\ttotal: 53.5ms\tremaining: 1m 59s\n",
      "300:\ttest: 0.7373096\tbest: 0.7373096 (300)\ttotal: 14.4s\tremaining: 1m 32s\n",
      "600:\ttest: 0.7382748\tbest: 0.7382780 (530)\ttotal: 29.4s\tremaining: 1m 20s\n",
      "900:\ttest: 0.7384255\tbest: 0.7384574 (828)\ttotal: 44.4s\tremaining: 1m 5s\n",
      "1200:\ttest: 0.7383965\tbest: 0.7384766 (978)\ttotal: 59.6s\tremaining: 51.4s\n"
     ]
    },
    {
     "name": "stderr",
     "output_type": "stream",
     "text": [
      "[I 2025-02-27 01:25:08,007] Trial 35 finished with value: 0.7384766231863096 and parameters: {'iterations': 2235, 'depth': 4, 'learning_rate': 0.04938436797900347, 'l2_leaf_reg': 3.3712760558444104}. Best is trial 14 with value: 0.739447802684694.\n"
     ]
    },
    {
     "name": "stdout",
     "output_type": "stream",
     "text": [
      "Stopped by overfitting detector  (300 iterations wait)\n",
      "\n",
      "bestTest = 0.7384766232\n",
      "bestIteration = 978\n",
      "\n",
      "Shrink model to first 979 iterations.\n",
      "0:\ttest: 0.7174111\tbest: 0.7174111 (0)\ttotal: 130ms\tremaining: 4m 25s\n",
      "300:\ttest: 0.7379519\tbest: 0.7382066 (256)\ttotal: 43.4s\tremaining: 4m 11s\n"
     ]
    },
    {
     "name": "stderr",
     "output_type": "stream",
     "text": [
      "[I 2025-02-27 01:26:37,608] Trial 36 finished with value: 0.7382066068939224 and parameters: {'iterations': 2047, 'depth': 10, 'learning_rate': 0.0683944659842832, 'l2_leaf_reg': 37.22231016558803}. Best is trial 14 with value: 0.739447802684694.\n"
     ]
    },
    {
     "name": "stdout",
     "output_type": "stream",
     "text": [
      "Stopped by overfitting detector  (300 iterations wait)\n",
      "\n",
      "bestTest = 0.7382066069\n",
      "bestIteration = 256\n",
      "\n",
      "Shrink model to first 257 iterations.\n",
      "0:\ttest: 0.6976460\tbest: 0.6976460 (0)\ttotal: 61.4ms\tremaining: 2m 25s\n",
      "300:\ttest: 0.7377225\tbest: 0.7377225 (300)\ttotal: 17.6s\tremaining: 2m 1s\n",
      "600:\ttest: 0.7385809\tbest: 0.7385958 (596)\ttotal: 35.8s\tremaining: 1m 46s\n",
      "900:\ttest: 0.7387356\tbest: 0.7387397 (894)\ttotal: 54.2s\tremaining: 1m 28s\n",
      "1200:\ttest: 0.7387706\tbest: 0.7387824 (1193)\ttotal: 1m 12s\tremaining: 1m 11s\n",
      "1500:\ttest: 0.7388141\tbest: 0.7388363 (1374)\ttotal: 1m 31s\tremaining: 53.4s\n",
      "1800:\ttest: 0.7387585\tbest: 0.7388500 (1551)\ttotal: 1m 49s\tremaining: 35.3s\n"
     ]
    },
    {
     "name": "stderr",
     "output_type": "stream",
     "text": [
      "[I 2025-02-27 01:28:31,002] Trial 37 finished with value: 0.7388499539964889 and parameters: {'iterations': 2379, 'depth': 5, 'learning_rate': 0.04196678034036474, 'l2_leaf_reg': 9.172771409908203}. Best is trial 14 with value: 0.739447802684694.\n"
     ]
    },
    {
     "name": "stdout",
     "output_type": "stream",
     "text": [
      "Stopped by overfitting detector  (300 iterations wait)\n",
      "\n",
      "bestTest = 0.738849954\n",
      "bestIteration = 1551\n",
      "\n",
      "Shrink model to first 1552 iterations.\n",
      "0:\ttest: 0.7018845\tbest: 0.7018845 (0)\ttotal: 75.9ms\tremaining: 2m 41s\n",
      "300:\ttest: 0.7381136\tbest: 0.7381465 (297)\ttotal: 20.8s\tremaining: 2m 6s\n",
      "600:\ttest: 0.7382553\tbest: 0.7383425 (371)\ttotal: 42.8s\tremaining: 1m 48s\n"
     ]
    },
    {
     "name": "stderr",
     "output_type": "stream",
     "text": [
      "[I 2025-02-27 01:29:19,153] Trial 38 finished with value: 0.738342518416732 and parameters: {'iterations': 2124, 'depth': 6, 'learning_rate': 0.05663206677861532, 'l2_leaf_reg': 0.009168225341925114}. Best is trial 14 with value: 0.739447802684694.\n"
     ]
    },
    {
     "name": "stdout",
     "output_type": "stream",
     "text": [
      "Stopped by overfitting detector  (300 iterations wait)\n",
      "\n",
      "bestTest = 0.7383425184\n",
      "bestIteration = 371\n",
      "\n",
      "Shrink model to first 372 iterations.\n",
      "0:\ttest: 0.6928204\tbest: 0.6928204 (0)\ttotal: 54.3ms\tremaining: 1m 46s\n",
      "300:\ttest: 0.7364267\tbest: 0.7364267 (300)\ttotal: 14s\tremaining: 1m 17s\n",
      "600:\ttest: 0.7382287\tbest: 0.7382339 (597)\ttotal: 28.7s\tremaining: 1m 4s\n",
      "900:\ttest: 0.7386814\tbest: 0.7386814 (900)\ttotal: 43.9s\tremaining: 51.2s\n",
      "1200:\ttest: 0.7387971\tbest: 0.7388312 (1073)\ttotal: 59s\tremaining: 37s\n",
      "1500:\ttest: 0.7388137\tbest: 0.7388756 (1277)\ttotal: 1m 14s\tremaining: 22.3s\n"
     ]
    },
    {
     "name": "stderr",
     "output_type": "stream",
     "text": [
      "[I 2025-02-27 01:30:37,251] Trial 39 finished with value: 0.7388755582708653 and parameters: {'iterations': 1954, 'depth': 4, 'learning_rate': 0.03250420000390539, 'l2_leaf_reg': 0.8898221314949616}. Best is trial 14 with value: 0.739447802684694.\n",
      "[I 2025-02-27 01:30:37,254] A new study created in memory with name: no-name-729bef0a-50b3-401d-a3b4-e64a5e8215a8\n"
     ]
    },
    {
     "name": "stdout",
     "output_type": "stream",
     "text": [
      "Stopped by overfitting detector  (300 iterations wait)\n",
      "\n",
      "bestTest = 0.7388755583\n",
      "bestIteration = 1277\n",
      "\n",
      "Shrink model to first 1278 iterations.\n"
     ]
    },
    {
     "name": "stderr",
     "output_type": "stream",
     "text": [
      "[I 2025-02-27 01:31:00,456] Trial 0 finished with value: 0.7300160782771589 and parameters: {'num_iterations': 2366, 'objective': 'binary', 'metric': 'auc', 'verbose': -1, 'learning_rate': 0.0652646236447618, 'n_estimators': 236, 'min_child_samples': 45, 'subsample': 0.7, 'colsample_bytree': 0.5}. Best is trial 0 with value: 0.7300160782771589.\n",
      "[I 2025-02-27 01:31:17,458] Trial 1 finished with value: 0.7381809549689113 and parameters: {'num_iterations': 1510, 'objective': 'binary', 'metric': 'auc', 'verbose': -1, 'learning_rate': 0.005231880959249543, 'n_estimators': 1411, 'min_child_samples': 10, 'subsample': 1.0, 'colsample_bytree': 0.5}. Best is trial 1 with value: 0.7381809549689113.\n",
      "[I 2025-02-27 01:31:36,975] Trial 2 finished with value: 0.7378619379405122 and parameters: {'num_iterations': 2334, 'objective': 'binary', 'metric': 'auc', 'verbose': -1, 'learning_rate': 0.006578527777128852, 'n_estimators': 931, 'min_child_samples': 15, 'subsample': 0.5, 'colsample_bytree': 1.0}. Best is trial 1 with value: 0.7381809549689113.\n",
      "[I 2025-02-27 01:31:53,538] Trial 3 finished with value: 0.7380171638539186 and parameters: {'num_iterations': 1620, 'objective': 'binary', 'metric': 'auc', 'verbose': -1, 'learning_rate': 0.0058823249237283685, 'n_estimators': 837, 'min_child_samples': 10, 'subsample': 0.9, 'colsample_bytree': 0.6}. Best is trial 1 with value: 0.7381809549689113.\n",
      "[I 2025-02-27 01:32:09,913] Trial 4 finished with value: 0.7383869248373819 and parameters: {'num_iterations': 1997, 'objective': 'binary', 'metric': 'auc', 'verbose': -1, 'learning_rate': 0.010907507425244923, 'n_estimators': 1597, 'min_child_samples': 50, 'subsample': 0.6, 'colsample_bytree': 0.8}. Best is trial 4 with value: 0.7383869248373819.\n",
      "[I 2025-02-27 01:32:32,518] Trial 5 finished with value: 0.7353744636246015 and parameters: {'num_iterations': 2909, 'objective': 'binary', 'metric': 'auc', 'verbose': -1, 'learning_rate': 0.019760591962733942, 'n_estimators': 612, 'min_child_samples': 30, 'subsample': 0.7, 'colsample_bytree': 0.9}. Best is trial 4 with value: 0.7383869248373819.\n",
      "[I 2025-02-27 01:32:53,234] Trial 6 finished with value: 0.736400540625041 and parameters: {'num_iterations': 2639, 'objective': 'binary', 'metric': 'auc', 'verbose': -1, 'learning_rate': 0.017862094446750985, 'n_estimators': 794, 'min_child_samples': 35, 'subsample': 1.0, 'colsample_bytree': 0.8}. Best is trial 4 with value: 0.7383869248373819.\n",
      "[I 2025-02-27 01:33:09,760] Trial 7 finished with value: 0.7378844131565435 and parameters: {'num_iterations': 1580, 'objective': 'binary', 'metric': 'auc', 'verbose': -1, 'learning_rate': 0.01776722177611332, 'n_estimators': 529, 'min_child_samples': 25, 'subsample': 0.8, 'colsample_bytree': 0.5}. Best is trial 4 with value: 0.7383869248373819.\n",
      "[I 2025-02-27 01:33:27,438] Trial 8 finished with value: 0.7344850804115579 and parameters: {'num_iterations': 1911, 'objective': 'binary', 'metric': 'auc', 'verbose': -1, 'learning_rate': 0.0304747553332844, 'n_estimators': 1328, 'min_child_samples': 10, 'subsample': 0.7, 'colsample_bytree': 0.6}. Best is trial 4 with value: 0.7383869248373819.\n",
      "[I 2025-02-27 01:33:54,916] Trial 9 finished with value: 0.7344027401148043 and parameters: {'num_iterations': 2739, 'objective': 'binary', 'metric': 'auc', 'verbose': -1, 'learning_rate': 0.02691531614176271, 'n_estimators': 1438, 'min_child_samples': 20, 'subsample': 0.6, 'colsample_bytree': 0.5}. Best is trial 4 with value: 0.7383869248373819.\n",
      "[I 2025-02-27 01:34:11,396] Trial 10 finished with value: 0.7382805289118797 and parameters: {'num_iterations': 2005, 'objective': 'binary', 'metric': 'auc', 'verbose': -1, 'learning_rate': 0.010657060501116528, 'n_estimators': 1971, 'min_child_samples': 50, 'subsample': 0.5, 'colsample_bytree': 0.8}. Best is trial 4 with value: 0.7383869248373819.\n",
      "[I 2025-02-27 01:34:28,155] Trial 11 finished with value: 0.7382966467390654 and parameters: {'num_iterations': 2009, 'objective': 'binary', 'metric': 'auc', 'verbose': -1, 'learning_rate': 0.010761246945778813, 'n_estimators': 1865, 'min_child_samples': 50, 'subsample': 0.5, 'colsample_bytree': 0.8}. Best is trial 4 with value: 0.7383869248373819.\n",
      "[I 2025-02-27 01:34:45,177] Trial 12 finished with value: 0.7383771643990418 and parameters: {'num_iterations': 1988, 'objective': 'binary', 'metric': 'auc', 'verbose': -1, 'learning_rate': 0.01095997251272449, 'n_estimators': 1958, 'min_child_samples': 40, 'subsample': 0.6, 'colsample_bytree': 0.7}. Best is trial 4 with value: 0.7383869248373819.\n",
      "[I 2025-02-27 01:35:00,787] Trial 13 finished with value: 0.7382863621437437 and parameters: {'num_iterations': 1815, 'objective': 'binary', 'metric': 'auc', 'verbose': -1, 'learning_rate': 0.00888408452239447, 'n_estimators': 1698, 'min_child_samples': 40, 'subsample': 0.6, 'colsample_bytree': 0.7}. Best is trial 4 with value: 0.7383869248373819.\n",
      "[I 2025-02-27 01:35:17,655] Trial 14 finished with value: 0.7311364439710019 and parameters: {'num_iterations': 2165, 'objective': 'binary', 'metric': 'auc', 'verbose': -1, 'learning_rate': 0.04700939565449148, 'n_estimators': 1647, 'min_child_samples': 40, 'subsample': 0.6, 'colsample_bytree': 0.7}. Best is trial 4 with value: 0.7383869248373819.\n",
      "[I 2025-02-27 01:35:35,524] Trial 15 finished with value: 0.7377376730269992 and parameters: {'num_iterations': 2212, 'objective': 'binary', 'metric': 'auc', 'verbose': -1, 'learning_rate': 0.012957096993915385, 'n_estimators': 1119, 'min_child_samples': 45, 'subsample': 0.8, 'colsample_bytree': 0.9}. Best is trial 4 with value: 0.7383869248373819.\n",
      "[I 2025-02-27 01:35:50,895] Trial 16 finished with value: 0.7382761251990566 and parameters: {'num_iterations': 1761, 'objective': 'binary', 'metric': 'auc', 'verbose': -1, 'learning_rate': 0.00756238671606429, 'n_estimators': 1628, 'min_child_samples': 35, 'subsample': 0.6, 'colsample_bytree': 0.7}. Best is trial 4 with value: 0.7383869248373819.\n",
      "[I 2025-02-27 01:36:10,659] Trial 17 finished with value: 0.7376458224577378 and parameters: {'num_iterations': 2486, 'objective': 'binary', 'metric': 'auc', 'verbose': -1, 'learning_rate': 0.013412964761032155, 'n_estimators': 1847, 'min_child_samples': 45, 'subsample': 0.6, 'colsample_bytree': 0.9}. Best is trial 4 with value: 0.7383869248373819.\n",
      "[I 2025-02-27 01:36:29,884] Trial 18 finished with value: 0.7345419712984979 and parameters: {'num_iterations': 2118, 'objective': 'binary', 'metric': 'auc', 'verbose': -1, 'learning_rate': 0.03651573291273834, 'n_estimators': 1133, 'min_child_samples': 50, 'subsample': 0.7, 'colsample_bytree': 0.6}. Best is trial 4 with value: 0.7383869248373819.\n",
      "[I 2025-02-27 01:36:44,452] Trial 19 finished with value: 0.7379221206921325 and parameters: {'num_iterations': 1766, 'objective': 'binary', 'metric': 'auc', 'verbose': -1, 'learning_rate': 0.014073784445943099, 'n_estimators': 1550, 'min_child_samples': 40, 'subsample': 0.5, 'colsample_bytree': 1.0}. Best is trial 4 with value: 0.7383869248373819.\n",
      "[I 2025-02-27 01:36:59,993] Trial 20 finished with value: 0.7237266829163802 and parameters: {'num_iterations': 2066, 'objective': 'binary', 'metric': 'auc', 'verbose': -1, 'learning_rate': 0.08565353572591693, 'n_estimators': 1992, 'min_child_samples': 30, 'subsample': 0.8, 'colsample_bytree': 0.8}. Best is trial 4 with value: 0.7383869248373819.\n",
      "[I 2025-02-27 01:37:16,184] Trial 21 finished with value: 0.7384961440629898 and parameters: {'num_iterations': 1942, 'objective': 'binary', 'metric': 'auc', 'verbose': -1, 'learning_rate': 0.009394439481783489, 'n_estimators': 1799, 'min_child_samples': 50, 'subsample': 0.5, 'colsample_bytree': 0.8}. Best is trial 21 with value: 0.7384961440629898.\n",
      "[I 2025-02-27 01:37:32,168] Trial 22 finished with value: 0.738652783611892 and parameters: {'num_iterations': 1850, 'objective': 'binary', 'metric': 'auc', 'verbose': -1, 'learning_rate': 0.008329735400558399, 'n_estimators': 1785, 'min_child_samples': 45, 'subsample': 0.5, 'colsample_bytree': 0.7}. Best is trial 22 with value: 0.738652783611892.\n",
      "[I 2025-02-27 01:37:48,374] Trial 23 finished with value: 0.7383453814257 and parameters: {'num_iterations': 1888, 'objective': 'binary', 'metric': 'auc', 'verbose': -1, 'learning_rate': 0.007788893336840757, 'n_estimators': 1765, 'min_child_samples': 50, 'subsample': 0.5, 'colsample_bytree': 0.9}. Best is trial 22 with value: 0.738652783611892.\n",
      "[I 2025-02-27 01:38:02,701] Trial 24 finished with value: 0.7384820633004373 and parameters: {'num_iterations': 1674, 'objective': 'binary', 'metric': 'auc', 'verbose': -1, 'learning_rate': 0.007972884950043708, 'n_estimators': 1514, 'min_child_samples': 45, 'subsample': 0.5, 'colsample_bytree': 0.8}. Best is trial 22 with value: 0.738652783611892.\n",
      "[I 2025-02-27 01:38:18,581] Trial 25 finished with value: 0.7383330319695415 and parameters: {'num_iterations': 1756, 'objective': 'binary', 'metric': 'auc', 'verbose': -1, 'learning_rate': 0.005233672752365893, 'n_estimators': 1249, 'min_child_samples': 45, 'subsample': 0.5, 'colsample_bytree': 0.7}. Best is trial 22 with value: 0.738652783611892.\n",
      "[I 2025-02-27 01:38:34,615] Trial 26 finished with value: 0.7382735044141483 and parameters: {'num_iterations': 1585, 'objective': 'binary', 'metric': 'auc', 'verbose': -1, 'learning_rate': 0.007039029353914019, 'n_estimators': 1457, 'min_child_samples': 35, 'subsample': 0.5, 'colsample_bytree': 0.6}. Best is trial 22 with value: 0.738652783611892.\n",
      "[I 2025-02-27 01:38:48,848] Trial 27 finished with value: 0.7384281744034832 and parameters: {'num_iterations': 1677, 'objective': 'binary', 'metric': 'auc', 'verbose': -1, 'learning_rate': 0.008613320999729735, 'n_estimators': 1795, 'min_child_samples': 45, 'subsample': 0.5, 'colsample_bytree': 0.8}. Best is trial 22 with value: 0.738652783611892.\n",
      "[I 2025-02-27 01:39:03,718] Trial 28 finished with value: 0.7378396890649958 and parameters: {'num_iterations': 1828, 'objective': 'binary', 'metric': 'auc', 'verbose': -1, 'learning_rate': 0.015482755743358282, 'n_estimators': 1221, 'min_child_samples': 25, 'subsample': 0.9, 'colsample_bytree': 0.9}. Best is trial 22 with value: 0.738652783611892.\n",
      "[I 2025-02-27 01:39:22,417] Trial 29 finished with value: 0.7362863697043109 and parameters: {'num_iterations': 2339, 'objective': 'binary', 'metric': 'auc', 'verbose': -1, 'learning_rate': 0.023269020103327577, 'n_estimators': 315, 'min_child_samples': 45, 'subsample': 0.7, 'colsample_bytree': 0.7}. Best is trial 22 with value: 0.738652783611892.\n",
      "[I 2025-02-27 01:39:36,595] Trial 30 finished with value: 0.7383173866778165 and parameters: {'num_iterations': 1678, 'objective': 'binary', 'metric': 'auc', 'verbose': -1, 'learning_rate': 0.009148363486894103, 'n_estimators': 104, 'min_child_samples': 40, 'subsample': 0.5, 'colsample_bytree': 0.8}. Best is trial 22 with value: 0.738652783611892.\n",
      "[I 2025-02-27 01:39:51,031] Trial 31 finished with value: 0.7384325701745338 and parameters: {'num_iterations': 1706, 'objective': 'binary', 'metric': 'auc', 'verbose': -1, 'learning_rate': 0.008817311507105066, 'n_estimators': 1725, 'min_child_samples': 45, 'subsample': 0.5, 'colsample_bytree': 0.8}. Best is trial 22 with value: 0.738652783611892.\n",
      "[I 2025-02-27 01:40:04,188] Trial 32 finished with value: 0.7382308451834373 and parameters: {'num_iterations': 1504, 'objective': 'binary', 'metric': 'auc', 'verbose': -1, 'learning_rate': 0.006991443349302545, 'n_estimators': 1516, 'min_child_samples': 50, 'subsample': 0.5, 'colsample_bytree': 0.8}. Best is trial 22 with value: 0.738652783611892.\n",
      "[I 2025-02-27 01:40:20,648] Trial 33 finished with value: 0.7382469788941679 and parameters: {'num_iterations': 1893, 'objective': 'binary', 'metric': 'auc', 'verbose': -1, 'learning_rate': 0.005903180403404651, 'n_estimators': 1730, 'min_child_samples': 45, 'subsample': 0.6, 'colsample_bytree': 0.9}. Best is trial 22 with value: 0.738652783611892.\n",
      "[I 2025-02-27 01:40:34,946] Trial 34 finished with value: 0.7385631289427128 and parameters: {'num_iterations': 1659, 'objective': 'binary', 'metric': 'auc', 'verbose': -1, 'learning_rate': 0.00946043372460033, 'n_estimators': 1364, 'min_child_samples': 45, 'subsample': 0.5, 'colsample_bytree': 0.7}. Best is trial 22 with value: 0.738652783611892.\n",
      "[I 2025-02-27 01:40:49,602] Trial 35 finished with value: 0.7382456804143724 and parameters: {'num_iterations': 1600, 'objective': 'binary', 'metric': 'auc', 'verbose': -1, 'learning_rate': 0.00530262367739747, 'n_estimators': 1357, 'min_child_samples': 35, 'subsample': 0.6, 'colsample_bytree': 0.7}. Best is trial 22 with value: 0.738652783611892.\n",
      "[I 2025-02-27 01:41:08,455] Trial 36 finished with value: 0.7383144363093516 and parameters: {'num_iterations': 1876, 'objective': 'binary', 'metric': 'auc', 'verbose': -1, 'learning_rate': 0.006489820331858532, 'n_estimators': 950, 'min_child_samples': 50, 'subsample': 0.5, 'colsample_bytree': 0.6}. Best is trial 22 with value: 0.738652783611892.\n",
      "[I 2025-02-27 01:41:22,577] Trial 37 finished with value: 0.7383809526245001 and parameters: {'num_iterations': 1663, 'objective': 'binary', 'metric': 'auc', 'verbose': -1, 'learning_rate': 0.01181887295651072, 'n_estimators': 1527, 'min_child_samples': 40, 'subsample': 0.5, 'colsample_bytree': 0.7}. Best is trial 22 with value: 0.738652783611892.\n",
      "[I 2025-02-27 01:41:35,305] Trial 38 finished with value: 0.7381831389563348 and parameters: {'num_iterations': 1509, 'objective': 'binary', 'metric': 'auc', 'verbose': -1, 'learning_rate': 0.01514241300710669, 'n_estimators': 1853, 'min_child_samples': 45, 'subsample': 0.6, 'colsample_bytree': 0.7}. Best is trial 22 with value: 0.738652783611892.\n",
      "[I 2025-02-27 01:41:54,327] Trial 39 finished with value: 0.7383871869158727 and parameters: {'num_iterations': 1961, 'objective': 'binary', 'metric': 'auc', 'verbose': -1, 'learning_rate': 0.009776479051657728, 'n_estimators': 1281, 'min_child_samples': 50, 'subsample': 0.9, 'colsample_bytree': 0.6}. Best is trial 22 with value: 0.738652783611892.\n"
     ]
    },
    {
     "name": "stdout",
     "output_type": "stream",
     "text": [
      "Cat val score : 0.7394478026846938\n",
      "LGBM val score : 0.7383705528734779\n",
      "Ensemble val score : 0.7394135776163241\n"
     ]
    },
    {
     "name": "stderr",
     "output_type": "stream",
     "text": [
      "[I 2025-02-27 01:42:11,615] A new study created in memory with name: no-name-49768ba3-1d2b-4b31-84a4-fa536b332a22\n"
     ]
    },
    {
     "name": "stdout",
     "output_type": "stream",
     "text": [
      "==================================================\n",
      "0:\ttest: 0.7263579\tbest: 0.7263579 (0)\ttotal: 131ms\tremaining: 5m 9s\n",
      "300:\ttest: 0.7362133\tbest: 0.7362133 (300)\ttotal: 38s\tremaining: 4m 20s\n",
      "600:\ttest: 0.7376136\tbest: 0.7376214 (594)\ttotal: 1m 19s\tremaining: 3m 53s\n",
      "900:\ttest: 0.7380977\tbest: 0.7380987 (896)\ttotal: 2m 1s\tremaining: 3m 16s\n",
      "1200:\ttest: 0.7383956\tbest: 0.7384008 (1186)\ttotal: 2m 45s\tremaining: 2m 40s\n",
      "1500:\ttest: 0.7385118\tbest: 0.7385473 (1428)\ttotal: 3m 35s\tremaining: 2m 4s\n",
      "1800:\ttest: 0.7385054\tbest: 0.7385704 (1699)\ttotal: 4m 26s\tremaining: 1m 23s\n"
     ]
    },
    {
     "name": "stderr",
     "output_type": "stream",
     "text": [
      "[I 2025-02-27 01:47:12,940] Trial 0 finished with value: 0.7385704274315936 and parameters: {'iterations': 2366, 'depth': 10, 'learning_rate': 0.01181021951839225, 'l2_leaf_reg': 9.980783802743254}. Best is trial 0 with value: 0.7385704274315936.\n"
     ]
    },
    {
     "name": "stdout",
     "output_type": "stream",
     "text": [
      "Stopped by overfitting detector  (300 iterations wait)\n",
      "\n",
      "bestTest = 0.7385704274\n",
      "bestIteration = 1699\n",
      "\n",
      "Shrink model to first 1700 iterations.\n",
      "저장 완료\n",
      "0:\ttest: 0.6964135\tbest: 0.6964135 (0)\ttotal: 54.4ms\tremaining: 1m 59s\n",
      "300:\ttest: 0.7272645\tbest: 0.7272645 (300)\ttotal: 13.3s\tremaining: 1m 23s\n"
     ]
    },
    {
     "name": "stderr",
     "output_type": "stream",
     "text": [
      "Training has stopped (degenerate solution on iteration 359, probably too small l2-regularization, try to increase it)\n",
      "[I 2025-02-27 01:47:28,976] Trial 1 finished with value: 0.728512752374042 and parameters: {'iterations': 2193, 'depth': 4, 'learning_rate': 0.005671430811678843, 'l2_leaf_reg': 0.00012325230809466137}. Best is trial 0 with value: 0.7385704274315936.\n"
     ]
    },
    {
     "name": "stdout",
     "output_type": "stream",
     "text": [
      "\n",
      "bestTest = 0.7285127524\n",
      "bestIteration = 358\n",
      "\n",
      "Shrink model to first 359 iterations.\n",
      "0:\ttest: 0.6964135\tbest: 0.6964135 (0)\ttotal: 55.5ms\tremaining: 2m 20s\n",
      "300:\ttest: 0.7384230\tbest: 0.7384471 (295)\ttotal: 14.6s\tremaining: 1m 48s\n",
      "600:\ttest: 0.7381211\tbest: 0.7389024 (400)\ttotal: 29.7s\tremaining: 1m 35s\n"
     ]
    },
    {
     "name": "stderr",
     "output_type": "stream",
     "text": [
      "[I 2025-02-27 01:48:04,021] Trial 2 finished with value: 0.7389023974908573 and parameters: {'iterations': 2535, 'depth': 4, 'learning_rate': 0.09275339199839054, 'l2_leaf_reg': 0.0008705394248343123}. Best is trial 2 with value: 0.7389023974908573.\n"
     ]
    },
    {
     "name": "stdout",
     "output_type": "stream",
     "text": [
      "Stopped by overfitting detector  (300 iterations wait)\n",
      "\n",
      "bestTest = 0.7389023975\n",
      "bestIteration = 400\n",
      "\n",
      "Shrink model to first 401 iterations.\n",
      "저장 완료\n",
      "0:\ttest: 0.6964135\tbest: 0.6964135 (0)\ttotal: 52.7ms\tremaining: 2m 3s\n",
      "300:\ttest: 0.7371163\tbest: 0.7371171 (298)\ttotal: 14.1s\tremaining: 1m 35s\n",
      "600:\ttest: 0.7382131\tbest: 0.7382356 (582)\ttotal: 28.9s\tremaining: 1m 23s\n",
      "900:\ttest: 0.7383088\tbest: 0.7383711 (865)\ttotal: 44s\tremaining: 1m 10s\n",
      "1200:\ttest: 0.7385027\tbest: 0.7385206 (1198)\ttotal: 59.1s\tremaining: 55.7s\n",
      "1500:\ttest: 0.7384550\tbest: 0.7386584 (1312)\ttotal: 1m 14s\tremaining: 41.2s\n"
     ]
    },
    {
     "name": "stderr",
     "output_type": "stream",
     "text": [
      "[I 2025-02-27 01:49:24,157] Trial 3 finished with value: 0.7386583627070377 and parameters: {'iterations': 2334, 'depth': 4, 'learning_rate': 0.04657568321363276, 'l2_leaf_reg': 0.0008640473331457248}. Best is trial 2 with value: 0.7389023974908573.\n"
     ]
    },
    {
     "name": "stdout",
     "output_type": "stream",
     "text": [
      "Stopped by overfitting detector  (300 iterations wait)\n",
      "\n",
      "bestTest = 0.7386583627\n",
      "bestIteration = 1312\n",
      "\n",
      "Shrink model to first 1313 iterations.\n",
      "0:\ttest: 0.7232511\tbest: 0.7232511 (0)\ttotal: 127ms\tremaining: 3m 41s\n",
      "300:\ttest: 0.7355203\tbest: 0.7355203 (300)\ttotal: 37.8s\tremaining: 3m\n",
      "600:\ttest: 0.7365101\tbest: 0.7366075 (561)\ttotal: 1m 17s\tremaining: 2m 26s\n",
      "900:\ttest: 0.7365833\tbest: 0.7366497 (815)\ttotal: 1m 58s\tremaining: 1m 50s\n",
      "1200:\ttest: 0.7354596\tbest: 0.7366993 (924)\ttotal: 2m 42s\tremaining: 1m 13s\n"
     ]
    },
    {
     "name": "stderr",
     "output_type": "stream",
     "text": [
      "[I 2025-02-27 01:52:10,501] Trial 4 finished with value: 0.7366992505412874 and parameters: {'iterations': 1742, 'depth': 10, 'learning_rate': 0.012622767482095846, 'l2_leaf_reg': 0.00021158816350109617}. Best is trial 2 with value: 0.7389023974908573.\n"
     ]
    },
    {
     "name": "stdout",
     "output_type": "stream",
     "text": [
      "Stopped by overfitting detector  (300 iterations wait)\n",
      "\n",
      "bestTest = 0.7366992505\n",
      "bestIteration = 924\n",
      "\n",
      "Shrink model to first 925 iterations.\n",
      "0:\ttest: 0.6964135\tbest: 0.6964135 (0)\ttotal: 54.9ms\tremaining: 1m 54s\n",
      "300:\ttest: 0.7378209\tbest: 0.7378335 (287)\ttotal: 14.4s\tremaining: 1m 25s\n",
      "600:\ttest: 0.7385088\tbest: 0.7385439 (587)\ttotal: 29.5s\tremaining: 1m 12s\n"
     ]
    },
    {
     "name": "stderr",
     "output_type": "stream",
     "text": [
      "[I 2025-02-27 01:52:54,660] Trial 5 finished with value: 0.738543933678703 and parameters: {'iterations': 2082, 'depth': 4, 'learning_rate': 0.06995196593094148, 'l2_leaf_reg': 0.0018080296485396804}. Best is trial 2 with value: 0.7389023974908573.\n"
     ]
    },
    {
     "name": "stdout",
     "output_type": "stream",
     "text": [
      "Stopped by overfitting detector  (300 iterations wait)\n",
      "\n",
      "bestTest = 0.7385439337\n",
      "bestIteration = 587\n",
      "\n",
      "Shrink model to first 588 iterations.\n",
      "0:\ttest: 0.7039553\tbest: 0.7039553 (0)\ttotal: 64.7ms\tremaining: 2m 9s\n",
      "300:\ttest: 0.7385620\tbest: 0.7385620 (299)\ttotal: 17.8s\tremaining: 1m 40s\n",
      "600:\ttest: 0.7389814\tbest: 0.7390201 (566)\ttotal: 35.8s\tremaining: 1m 23s\n",
      "900:\ttest: 0.7389840\tbest: 0.7391333 (675)\ttotal: 54s\tremaining: 1m 5s\n"
     ]
    },
    {
     "name": "stderr",
     "output_type": "stream",
     "text": [
      "[I 2025-02-27 01:53:53,472] Trial 6 finished with value: 0.7391332806995011 and parameters: {'iterations': 1997, 'depth': 5, 'learning_rate': 0.07985155992831598, 'l2_leaf_reg': 62.52181000710482}. Best is trial 6 with value: 0.7391332806995011.\n"
     ]
    },
    {
     "name": "stdout",
     "output_type": "stream",
     "text": [
      "Stopped by overfitting detector  (300 iterations wait)\n",
      "\n",
      "bestTest = 0.7391332807\n",
      "bestIteration = 675\n",
      "\n",
      "Shrink model to first 676 iterations.\n",
      "저장 완료\n",
      "0:\ttest: 0.7216938\tbest: 0.7216938 (0)\ttotal: 87ms\tremaining: 2m 47s\n",
      "300:\ttest: 0.7377789\tbest: 0.7381010 (159)\ttotal: 24.9s\tremaining: 2m 14s\n"
     ]
    },
    {
     "name": "stderr",
     "output_type": "stream",
     "text": [
      "[I 2025-02-27 01:54:32,188] Trial 7 finished with value: 0.7381009972038926 and parameters: {'iterations': 1927, 'depth': 7, 'learning_rate': 0.0941937211034094, 'l2_leaf_reg': 0.05654822767791934}. Best is trial 6 with value: 0.7391332806995011.\n"
     ]
    },
    {
     "name": "stdout",
     "output_type": "stream",
     "text": [
      "Stopped by overfitting detector  (300 iterations wait)\n",
      "\n",
      "bestTest = 0.7381009972\n",
      "bestIteration = 159\n",
      "\n",
      "Shrink model to first 160 iterations.\n",
      "0:\ttest: 0.7216981\tbest: 0.7216981 (0)\ttotal: 85.5ms\tremaining: 2m 42s\n",
      "300:\ttest: 0.7383392\tbest: 0.7383392 (300)\ttotal: 24s\tremaining: 2m 7s\n",
      "600:\ttest: 0.7386769\tbest: 0.7387300 (358)\ttotal: 50.1s\tremaining: 1m 48s\n",
      "900:\ttest: 0.7383755\tbest: 0.7387686 (654)\ttotal: 1m 16s\tremaining: 1m 24s\n"
     ]
    },
    {
     "name": "stderr",
     "output_type": "stream",
     "text": [
      "[I 2025-02-27 01:55:53,047] Trial 8 finished with value: 0.7387686262757227 and parameters: {'iterations': 1904, 'depth': 7, 'learning_rate': 0.05155602859187331, 'l2_leaf_reg': 1.299974533316308}. Best is trial 6 with value: 0.7391332806995011.\n"
     ]
    },
    {
     "name": "stdout",
     "output_type": "stream",
     "text": [
      "Stopped by overfitting detector  (300 iterations wait)\n",
      "\n",
      "bestTest = 0.7387686263\n",
      "bestIteration = 654\n",
      "\n",
      "Shrink model to first 655 iterations.\n",
      "0:\ttest: 0.7086892\tbest: 0.7086892 (0)\ttotal: 74.2ms\tremaining: 3m 15s\n",
      "300:\ttest: 0.7378528\tbest: 0.7378541 (298)\ttotal: 20.6s\tremaining: 2m 39s\n",
      "600:\ttest: 0.7387963\tbest: 0.7387963 (600)\ttotal: 42.8s\tremaining: 2m 25s\n",
      "900:\ttest: 0.7387879\tbest: 0.7389597 (682)\ttotal: 1m 4s\tremaining: 2m 5s\n"
     ]
    },
    {
     "name": "stderr",
     "output_type": "stream",
     "text": [
      "[I 2025-02-27 01:57:04,119] Trial 9 finished with value: 0.7389596775246474 and parameters: {'iterations': 2639, 'depth': 6, 'learning_rate': 0.03968704290444751, 'l2_leaf_reg': 0.30557194377967184}. Best is trial 6 with value: 0.7391332806995011.\n"
     ]
    },
    {
     "name": "stdout",
     "output_type": "stream",
     "text": [
      "Stopped by overfitting detector  (300 iterations wait)\n",
      "\n",
      "bestTest = 0.7389596775\n",
      "bestIteration = 682\n",
      "\n",
      "Shrink model to first 683 iterations.\n",
      "0:\ttest: 0.7086780\tbest: 0.7086780 (0)\ttotal: 74.5ms\tremaining: 3m 39s\n",
      "300:\ttest: 0.7386242\tbest: 0.7386242 (300)\ttotal: 20.9s\tremaining: 3m 3s\n",
      "600:\ttest: 0.7391300\tbest: 0.7391393 (599)\ttotal: 42.3s\tremaining: 2m 45s\n",
      "900:\ttest: 0.7390236\tbest: 0.7391621 (720)\ttotal: 1m 4s\tremaining: 2m 25s\n"
     ]
    },
    {
     "name": "stderr",
     "output_type": "stream",
     "text": [
      "[I 2025-02-27 01:58:17,211] Trial 10 finished with value: 0.7391620974208332 and parameters: {'iterations': 2945, 'depth': 6, 'learning_rate': 0.07265276039199581, 'l2_leaf_reg': 97.18545559492516}. Best is trial 10 with value: 0.7391620974208332.\n"
     ]
    },
    {
     "name": "stdout",
     "output_type": "stream",
     "text": [
      "Stopped by overfitting detector  (300 iterations wait)\n",
      "\n",
      "bestTest = 0.7391620974\n",
      "bestIteration = 720\n",
      "\n",
      "Shrink model to first 721 iterations.\n",
      "저장 완료\n",
      "0:\ttest: 0.7086818\tbest: 0.7086818 (0)\ttotal: 73.9ms\tremaining: 3m 41s\n",
      "300:\ttest: 0.7382128\tbest: 0.7382333 (290)\ttotal: 20.6s\tremaining: 3m 4s\n",
      "600:\ttest: 0.7387193\tbest: 0.7387325 (511)\ttotal: 42.3s\tremaining: 2m 48s\n",
      "900:\ttest: 0.7389907\tbest: 0.7390042 (894)\ttotal: 1m 4s\tremaining: 2m 28s\n",
      "1200:\ttest: 0.7390337\tbest: 0.7390891 (1058)\ttotal: 1m 26s\tremaining: 2m 8s\n"
     ]
    },
    {
     "name": "stderr",
     "output_type": "stream",
     "text": [
      "[I 2025-02-27 01:59:55,091] Trial 11 finished with value: 0.7390890648813901 and parameters: {'iterations': 2994, 'depth': 6, 'learning_rate': 0.07131044509072976, 'l2_leaf_reg': 73.1213351392818}. Best is trial 10 with value: 0.7391620974208332.\n"
     ]
    },
    {
     "name": "stdout",
     "output_type": "stream",
     "text": [
      "Stopped by overfitting detector  (300 iterations wait)\n",
      "\n",
      "bestTest = 0.7390890649\n",
      "bestIteration = 1058\n",
      "\n",
      "Shrink model to first 1059 iterations.\n",
      "0:\ttest: 0.7086818\tbest: 0.7086818 (0)\ttotal: 74ms\tremaining: 1m 57s\n",
      "300:\ttest: 0.7383891\tbest: 0.7384019 (254)\ttotal: 20.8s\tremaining: 1m 29s\n",
      "600:\ttest: 0.7385115\tbest: 0.7386662 (520)\ttotal: 42s\tremaining: 1m 9s\n",
      "900:\ttest: 0.7386817\tbest: 0.7387904 (780)\ttotal: 1m 4s\tremaining: 48.9s\n"
     ]
    },
    {
     "name": "stderr",
     "output_type": "stream",
     "text": [
      "[I 2025-02-27 02:01:12,469] Trial 12 finished with value: 0.7387904462955268 and parameters: {'iterations': 1588, 'depth': 6, 'learning_rate': 0.07382783813729096, 'l2_leaf_reg': 87.13438924619796}. Best is trial 10 with value: 0.7391620974208332.\n"
     ]
    },
    {
     "name": "stdout",
     "output_type": "stream",
     "text": [
      "Stopped by overfitting detector  (300 iterations wait)\n",
      "\n",
      "bestTest = 0.7387904463\n",
      "bestIteration = 780\n",
      "\n",
      "Shrink model to first 781 iterations.\n",
      "0:\ttest: 0.7039756\tbest: 0.7039756 (0)\ttotal: 60.7ms\tremaining: 3m\n",
      "300:\ttest: 0.7383155\tbest: 0.7383323 (291)\ttotal: 18s\tremaining: 2m 40s\n",
      "600:\ttest: 0.7385354\tbest: 0.7385963 (578)\ttotal: 36.4s\tremaining: 2m 23s\n",
      "900:\ttest: 0.7387575\tbest: 0.7388981 (821)\ttotal: 55.1s\tremaining: 2m 6s\n"
     ]
    },
    {
     "name": "stderr",
     "output_type": "stream",
     "text": [
      "[I 2025-02-27 02:02:21,497] Trial 13 finished with value: 0.7388980811375312 and parameters: {'iterations': 2975, 'depth': 5, 'learning_rate': 0.07888750974731618, 'l2_leaf_reg': 6.819372056732044}. Best is trial 10 with value: 0.7391620974208332.\n"
     ]
    },
    {
     "name": "stdout",
     "output_type": "stream",
     "text": [
      "Stopped by overfitting detector  (300 iterations wait)\n",
      "\n",
      "bestTest = 0.7388980811\n",
      "bestIteration = 821\n",
      "\n",
      "Shrink model to first 822 iterations.\n",
      "0:\ttest: 0.7235949\tbest: 0.7235949 (0)\ttotal: 93.5ms\tremaining: 4m 12s\n",
      "300:\ttest: 0.7380225\tbest: 0.7380225 (299)\ttotal: 27.1s\tremaining: 3m 35s\n",
      "600:\ttest: 0.7381381\tbest: 0.7381448 (419)\ttotal: 56.5s\tremaining: 3m 17s\n",
      "900:\ttest: 0.7378355\tbest: 0.7381538 (651)\ttotal: 1m 26s\tremaining: 2m 52s\n"
     ]
    },
    {
     "name": "stderr",
     "output_type": "stream",
     "text": [
      "[I 2025-02-27 02:03:53,034] Trial 14 finished with value: 0.7381537663109314 and parameters: {'iterations': 2702, 'depth': 8, 'learning_rate': 0.06308101933412968, 'l2_leaf_reg': 11.438982664164415}. Best is trial 10 with value: 0.7391620974208332.\n"
     ]
    },
    {
     "name": "stdout",
     "output_type": "stream",
     "text": [
      "Stopped by overfitting detector  (300 iterations wait)\n",
      "\n",
      "bestTest = 0.7381537663\n",
      "bestIteration = 651\n",
      "\n",
      "Shrink model to first 652 iterations.\n",
      "0:\ttest: 0.7235687\tbest: 0.7235687 (0)\ttotal: 97.8ms\tremaining: 2m 27s\n",
      "300:\ttest: 0.7362873\tbest: 0.7379154 (130)\ttotal: 28.4s\tremaining: 1m 54s\n"
     ]
    },
    {
     "name": "stderr",
     "output_type": "stream",
     "text": [
      "[I 2025-02-27 02:04:34,585] Trial 15 finished with value: 0.7379154376906165 and parameters: {'iterations': 1513, 'depth': 8, 'learning_rate': 0.08625378621185843, 'l2_leaf_reg': 0.026986971696484528}. Best is trial 10 with value: 0.7391620974208332.\n"
     ]
    },
    {
     "name": "stdout",
     "output_type": "stream",
     "text": [
      "Stopped by overfitting detector  (300 iterations wait)\n",
      "\n",
      "bestTest = 0.7379154377\n",
      "bestIteration = 130\n",
      "\n",
      "Shrink model to first 131 iterations.\n",
      "0:\ttest: 0.7039756\tbest: 0.7039756 (0)\ttotal: 64.1ms\tremaining: 2m 9s\n",
      "300:\ttest: 0.7368860\tbest: 0.7368860 (300)\ttotal: 17.3s\tremaining: 1m 38s\n",
      "600:\ttest: 0.7382204\tbest: 0.7382204 (600)\ttotal: 35.5s\tremaining: 1m 23s\n",
      "900:\ttest: 0.7386527\tbest: 0.7386558 (898)\ttotal: 54s\tremaining: 1m 6s\n",
      "1200:\ttest: 0.7388226\tbest: 0.7388455 (1190)\ttotal: 1m 12s\tremaining: 49.3s\n",
      "1500:\ttest: 0.7389315\tbest: 0.7389334 (1498)\ttotal: 1m 31s\tremaining: 31.3s\n",
      "1800:\ttest: 0.7389061\tbest: 0.7389797 (1521)\ttotal: 1m 49s\tremaining: 13.1s\n"
     ]
    },
    {
     "name": "stderr",
     "output_type": "stream",
     "text": [
      "[I 2025-02-27 02:06:26,127] Trial 16 finished with value: 0.7389796947621057 and parameters: {'iterations': 2016, 'depth': 5, 'learning_rate': 0.032973215386655305, 'l2_leaf_reg': 1.8163096738383617}. Best is trial 10 with value: 0.7391620974208332.\n"
     ]
    },
    {
     "name": "stdout",
     "output_type": "stream",
     "text": [
      "Stopped by overfitting detector  (300 iterations wait)\n",
      "\n",
      "bestTest = 0.7389796948\n",
      "bestIteration = 1521\n",
      "\n",
      "Shrink model to first 1522 iterations.\n",
      "0:\ttest: 0.7039691\tbest: 0.7039691 (0)\ttotal: 66.2ms\tremaining: 3m 6s\n",
      "300:\ttest: 0.7381292\tbest: 0.7381417 (298)\ttotal: 17.8s\tremaining: 2m 28s\n",
      "600:\ttest: 0.7387619\tbest: 0.7387932 (546)\ttotal: 35.9s\tremaining: 2m 12s\n",
      "900:\ttest: 0.7388496\tbest: 0.7388889 (766)\ttotal: 54.2s\tremaining: 1m 55s\n",
      "1200:\ttest: 0.7390663\tbest: 0.7390677 (1195)\ttotal: 1m 12s\tremaining: 1m 37s\n",
      "1500:\ttest: 0.7390746\tbest: 0.7391811 (1398)\ttotal: 1m 31s\tremaining: 1m 20s\n"
     ]
    },
    {
     "name": "stderr",
     "output_type": "stream",
     "text": [
      "[I 2025-02-27 02:08:09,952] Trial 17 finished with value: 0.7391811417911665 and parameters: {'iterations': 2816, 'depth': 5, 'learning_rate': 0.06158945007439658, 'l2_leaf_reg': 30.65193510830995}. Best is trial 17 with value: 0.7391811417911665.\n"
     ]
    },
    {
     "name": "stdout",
     "output_type": "stream",
     "text": [
      "Stopped by overfitting detector  (300 iterations wait)\n",
      "\n",
      "bestTest = 0.7391811418\n",
      "bestIteration = 1398\n",
      "\n",
      "Shrink model to first 1399 iterations.\n",
      "저장 완료\n",
      "0:\ttest: 0.7216803\tbest: 0.7216803 (0)\ttotal: 85.3ms\tremaining: 4m\n",
      "300:\ttest: 0.7382694\tbest: 0.7386130 (268)\ttotal: 23.9s\tremaining: 3m 20s\n"
     ]
    },
    {
     "name": "stderr",
     "output_type": "stream",
     "text": [
      "[I 2025-02-27 02:08:57,153] Trial 18 finished with value: 0.7386129675357178 and parameters: {'iterations': 2815, 'depth': 7, 'learning_rate': 0.05970016430294879, 'l2_leaf_reg': 0.010016909578442512}. Best is trial 17 with value: 0.7391811417911665.\n"
     ]
    },
    {
     "name": "stdout",
     "output_type": "stream",
     "text": [
      "Stopped by overfitting detector  (300 iterations wait)\n",
      "\n",
      "bestTest = 0.7386129675\n",
      "bestIteration = 268\n",
      "\n",
      "Shrink model to first 269 iterations.\n",
      "0:\ttest: 0.7235687\tbest: 0.7235687 (0)\ttotal: 96.2ms\tremaining: 4m 30s\n",
      "300:\ttest: 0.7377161\tbest: 0.7377161 (300)\ttotal: 26.2s\tremaining: 3m 38s\n",
      "600:\ttest: 0.7382422\tbest: 0.7383735 (534)\ttotal: 56.7s\tremaining: 3m 28s\n"
     ]
    },
    {
     "name": "stderr",
     "output_type": "stream",
     "text": [
      "[I 2025-02-27 02:10:17,390] Trial 19 finished with value: 0.7383734873583978 and parameters: {'iterations': 2812, 'depth': 8, 'learning_rate': 0.029383548186557737, 'l2_leaf_reg': 0.33175635561801586}. Best is trial 17 with value: 0.7391811417911665.\n"
     ]
    },
    {
     "name": "stdout",
     "output_type": "stream",
     "text": [
      "Stopped by overfitting detector  (300 iterations wait)\n",
      "\n",
      "bestTest = 0.7383734874\n",
      "bestIteration = 534\n",
      "\n",
      "Shrink model to first 535 iterations.\n",
      "0:\ttest: 0.7039756\tbest: 0.7039756 (0)\ttotal: 67.6ms\tremaining: 2m 51s\n",
      "300:\ttest: 0.7380453\tbest: 0.7380728 (299)\ttotal: 19.2s\tremaining: 2m 22s\n",
      "600:\ttest: 0.7385384\tbest: 0.7385537 (592)\ttotal: 37.2s\tremaining: 1m 59s\n",
      "900:\ttest: 0.7387218\tbest: 0.7387235 (883)\ttotal: 55.5s\tremaining: 1m 40s\n",
      "1200:\ttest: 0.7387296\tbest: 0.7387690 (916)\ttotal: 1m 14s\tremaining: 1m 22s\n"
     ]
    },
    {
     "name": "stderr",
     "output_type": "stream",
     "text": [
      "[I 2025-02-27 02:11:32,732] Trial 20 finished with value: 0.7387690193934588 and parameters: {'iterations': 2533, 'depth': 5, 'learning_rate': 0.06231882963913108, 'l2_leaf_reg': 20.419787539717326}. Best is trial 17 with value: 0.7391811417911665.\n"
     ]
    },
    {
     "name": "stdout",
     "output_type": "stream",
     "text": [
      "Stopped by overfitting detector  (300 iterations wait)\n",
      "\n",
      "bestTest = 0.7387690194\n",
      "bestIteration = 916\n",
      "\n",
      "Shrink model to first 917 iterations.\n",
      "0:\ttest: 0.7039691\tbest: 0.7039691 (0)\ttotal: 67.1ms\tremaining: 3m 10s\n",
      "300:\ttest: 0.7381828\tbest: 0.7381931 (299)\ttotal: 17.7s\tremaining: 2m 29s\n",
      "600:\ttest: 0.7386311\tbest: 0.7386331 (598)\ttotal: 35.9s\tremaining: 2m 13s\n",
      "900:\ttest: 0.7387620\tbest: 0.7387642 (898)\ttotal: 54.6s\tremaining: 1m 57s\n",
      "1200:\ttest: 0.7387360\tbest: 0.7388114 (1146)\ttotal: 1m 13s\tremaining: 1m 39s\n"
     ]
    },
    {
     "name": "stderr",
     "output_type": "stream",
     "text": [
      "[I 2025-02-27 02:13:01,343] Trial 21 finished with value: 0.7388114403709964 and parameters: {'iterations': 2835, 'depth': 5, 'learning_rate': 0.08380763788030844, 'l2_leaf_reg': 37.06508173470488}. Best is trial 17 with value: 0.7391811417911665.\n"
     ]
    },
    {
     "name": "stdout",
     "output_type": "stream",
     "text": [
      "Stopped by overfitting detector  (300 iterations wait)\n",
      "\n",
      "bestTest = 0.7388114404\n",
      "bestIteration = 1146\n",
      "\n",
      "Shrink model to first 1147 iterations.\n",
      "0:\ttest: 0.7086889\tbest: 0.7086889 (0)\ttotal: 72.2ms\tremaining: 2m 58s\n",
      "300:\ttest: 0.7380972\tbest: 0.7380972 (300)\ttotal: 20.9s\tremaining: 2m 30s\n",
      "600:\ttest: 0.7386604\tbest: 0.7386885 (585)\ttotal: 42.9s\tremaining: 2m 13s\n",
      "900:\ttest: 0.7387775\tbest: 0.7389070 (712)\ttotal: 1m 5s\tremaining: 1m 53s\n"
     ]
    },
    {
     "name": "stderr",
     "output_type": "stream",
     "text": [
      "[I 2025-02-27 02:14:15,118] Trial 22 finished with value: 0.7389069640100157 and parameters: {'iterations': 2470, 'depth': 6, 'learning_rate': 0.05796927417121977, 'l2_leaf_reg': 2.426803129493686}. Best is trial 17 with value: 0.7391811417911665.\n"
     ]
    },
    {
     "name": "stdout",
     "output_type": "stream",
     "text": [
      "Stopped by overfitting detector  (300 iterations wait)\n",
      "\n",
      "bestTest = 0.738906964\n",
      "bestIteration = 712\n",
      "\n",
      "Shrink model to first 713 iterations.\n",
      "0:\ttest: 0.7039553\tbest: 0.7039553 (0)\ttotal: 62.6ms\tremaining: 2m 17s\n",
      "300:\ttest: 0.7383970\tbest: 0.7384204 (291)\ttotal: 17.9s\tremaining: 1m 52s\n",
      "600:\ttest: 0.7387501\tbest: 0.7387693 (535)\ttotal: 36.1s\tremaining: 1m 35s\n",
      "900:\ttest: 0.7387406\tbest: 0.7387947 (650)\ttotal: 54.6s\tremaining: 1m 18s\n"
     ]
    },
    {
     "name": "stderr",
     "output_type": "stream",
     "text": [
      "[I 2025-02-27 02:15:12,941] Trial 23 finished with value: 0.7387947149982184 and parameters: {'iterations': 2194, 'depth': 5, 'learning_rate': 0.09933165878800715, 'l2_leaf_reg': 89.42219921015187}. Best is trial 17 with value: 0.7391811417911665.\n"
     ]
    },
    {
     "name": "stdout",
     "output_type": "stream",
     "text": [
      "Stopped by overfitting detector  (300 iterations wait)\n",
      "\n",
      "bestTest = 0.738794715\n",
      "bestIteration = 650\n",
      "\n",
      "Shrink model to first 651 iterations.\n",
      "0:\ttest: 0.7086889\tbest: 0.7086889 (0)\ttotal: 76.7ms\tremaining: 2m 13s\n",
      "300:\ttest: 0.7386191\tbest: 0.7386204 (293)\ttotal: 21.5s\tremaining: 1m 42s\n",
      "600:\ttest: 0.7385098\tbest: 0.7387492 (339)\ttotal: 43.4s\tremaining: 1m 21s\n"
     ]
    },
    {
     "name": "stderr",
     "output_type": "stream",
     "text": [
      "[I 2025-02-27 02:15:59,324] Trial 24 finished with value: 0.7387491570205633 and parameters: {'iterations': 1736, 'depth': 6, 'learning_rate': 0.07944421606301633, 'l2_leaf_reg': 5.4820438771783895}. Best is trial 17 with value: 0.7391811417911665.\n"
     ]
    },
    {
     "name": "stdout",
     "output_type": "stream",
     "text": [
      "Stopped by overfitting detector  (300 iterations wait)\n",
      "\n",
      "bestTest = 0.738749157\n",
      "bestIteration = 339\n",
      "\n",
      "Shrink model to first 340 iterations.\n",
      "0:\ttest: 0.7039691\tbest: 0.7039691 (0)\ttotal: 61.6ms\tremaining: 2m 47s\n",
      "300:\ttest: 0.7380162\tbest: 0.7380343 (285)\ttotal: 18s\tremaining: 2m 24s\n",
      "600:\ttest: 0.7386509\tbest: 0.7386669 (591)\ttotal: 36.3s\tremaining: 2m 7s\n",
      "900:\ttest: 0.7386432\tbest: 0.7387004 (859)\ttotal: 54.7s\tremaining: 1m 49s\n",
      "1200:\ttest: 0.7387382\tbest: 0.7387888 (1171)\ttotal: 1m 13s\tremaining: 1m 32s\n"
     ]
    },
    {
     "name": "stderr",
     "output_type": "stream",
     "text": [
      "[I 2025-02-27 02:17:29,798] Trial 25 finished with value: 0.7387888142612886 and parameters: {'iterations': 2710, 'depth': 5, 'learning_rate': 0.06706645214091149, 'l2_leaf_reg': 28.34727925295091}. Best is trial 17 with value: 0.7391811417911665.\n"
     ]
    },
    {
     "name": "stdout",
     "output_type": "stream",
     "text": [
      "Stopped by overfitting detector  (300 iterations wait)\n",
      "\n",
      "bestTest = 0.7387888143\n",
      "bestIteration = 1171\n",
      "\n",
      "Shrink model to first 1172 iterations.\n",
      "0:\ttest: 0.7086892\tbest: 0.7086892 (0)\ttotal: 75ms\tremaining: 3m 35s\n",
      "300:\ttest: 0.7382999\tbest: 0.7383143 (299)\ttotal: 20.5s\tremaining: 2m 55s\n",
      "600:\ttest: 0.7389646\tbest: 0.7390165 (584)\ttotal: 42.8s\tremaining: 2m 42s\n",
      "900:\ttest: 0.7389624\tbest: 0.7390987 (648)\ttotal: 1m 5s\tremaining: 2m 22s\n"
     ]
    },
    {
     "name": "stderr",
     "output_type": "stream",
     "text": [
      "[I 2025-02-27 02:18:38,644] Trial 26 finished with value: 0.739098682367826 and parameters: {'iterations': 2876, 'depth': 6, 'learning_rate': 0.05190418976218987, 'l2_leaf_reg': 0.5345364544587043}. Best is trial 17 with value: 0.7391811417911665.\n"
     ]
    },
    {
     "name": "stdout",
     "output_type": "stream",
     "text": [
      "Stopped by overfitting detector  (300 iterations wait)\n",
      "\n",
      "bestTest = 0.7390986824\n",
      "bestIteration = 648\n",
      "\n",
      "Shrink model to first 649 iterations.\n",
      "0:\ttest: 0.7264661\tbest: 0.7264661 (0)\ttotal: 113ms\tremaining: 3m 53s\n",
      "300:\ttest: 0.7382384\tbest: 0.7382773 (295)\ttotal: 30.4s\tremaining: 2m 58s\n",
      "600:\ttest: 0.7381225\tbest: 0.7384229 (478)\ttotal: 1m 3s\tremaining: 2m 35s\n"
     ]
    },
    {
     "name": "stderr",
     "output_type": "stream",
     "text": [
      "[I 2025-02-27 02:20:02,174] Trial 27 finished with value: 0.738422936804553 and parameters: {'iterations': 2072, 'depth': 9, 'learning_rate': 0.07702966604555435, 'l2_leaf_reg': 25.79258881863308}. Best is trial 17 with value: 0.7391811417911665.\n"
     ]
    },
    {
     "name": "stdout",
     "output_type": "stream",
     "text": [
      "Stopped by overfitting detector  (300 iterations wait)\n",
      "\n",
      "bestTest = 0.7384229368\n",
      "bestIteration = 478\n",
      "\n",
      "Shrink model to first 479 iterations.\n",
      "0:\ttest: 0.7039756\tbest: 0.7039756 (0)\ttotal: 66.2ms\tremaining: 2m 53s\n",
      "300:\ttest: 0.7385070\tbest: 0.7385341 (294)\ttotal: 18s\tremaining: 2m 19s\n",
      "600:\ttest: 0.7385561\tbest: 0.7386772 (534)\ttotal: 36.6s\tremaining: 2m 3s\n"
     ]
    },
    {
     "name": "stderr",
     "output_type": "stream",
     "text": [
      "[I 2025-02-27 02:20:53,501] Trial 28 finished with value: 0.7386772125039458 and parameters: {'iterations': 2628, 'depth': 5, 'learning_rate': 0.08621081976046277, 'l2_leaf_reg': 4.601572547404722}. Best is trial 17 with value: 0.7391811417911665.\n"
     ]
    },
    {
     "name": "stdout",
     "output_type": "stream",
     "text": [
      "Stopped by overfitting detector  (300 iterations wait)\n",
      "\n",
      "bestTest = 0.7386772125\n",
      "bestIteration = 534\n",
      "\n",
      "Shrink model to first 535 iterations.\n",
      "0:\ttest: 0.6964102\tbest: 0.6964102 (0)\ttotal: 54ms\tremaining: 2m 8s\n",
      "300:\ttest: 0.7370007\tbest: 0.7370040 (299)\ttotal: 14.4s\tremaining: 1m 38s\n",
      "600:\ttest: 0.7380957\tbest: 0.7380957 (600)\ttotal: 29.3s\tremaining: 1m 26s\n",
      "900:\ttest: 0.7383857\tbest: 0.7383857 (900)\ttotal: 44.2s\tremaining: 1m 12s\n",
      "1200:\ttest: 0.7385654\tbest: 0.7386043 (1185)\ttotal: 59.3s\tremaining: 57.7s\n",
      "1500:\ttest: 0.7386467\tbest: 0.7386578 (1486)\ttotal: 1m 14s\tremaining: 43.1s\n",
      "1800:\ttest: 0.7388170\tbest: 0.7388170 (1800)\ttotal: 1m 29s\tremaining: 28.3s\n",
      "2100:\ttest: 0.7387863\tbest: 0.7388501 (1847)\ttotal: 1m 44s\tremaining: 13.5s\n"
     ]
    },
    {
     "name": "stderr",
     "output_type": "stream",
     "text": [
      "[I 2025-02-27 02:22:40,868] Trial 29 finished with value: 0.7388501366572553 and parameters: {'iterations': 2371, 'depth': 4, 'learning_rate': 0.04608292517097734, 'l2_leaf_reg': 15.55533628625917}. Best is trial 17 with value: 0.7391811417911665.\n"
     ]
    },
    {
     "name": "stdout",
     "output_type": "stream",
     "text": [
      "Stopped by overfitting detector  (300 iterations wait)\n",
      "\n",
      "bestTest = 0.7388501367\n",
      "bestIteration = 1847\n",
      "\n",
      "Shrink model to first 1848 iterations.\n",
      "0:\ttest: 0.7217426\tbest: 0.7217426 (0)\ttotal: 88ms\tremaining: 3m 23s\n",
      "300:\ttest: 0.7383473\tbest: 0.7383663 (262)\ttotal: 24.2s\tremaining: 2m 41s\n",
      "600:\ttest: 0.7386478\tbest: 0.7387205 (541)\ttotal: 49.3s\tremaining: 2m 20s\n",
      "900:\ttest: 0.7388013\tbest: 0.7388060 (745)\ttotal: 1m 14s\tremaining: 1m 56s\n",
      "1200:\ttest: 0.7388604\tbest: 0.7389157 (937)\ttotal: 1m 40s\tremaining: 1m 32s\n"
     ]
    },
    {
     "name": "stderr",
     "output_type": "stream",
     "text": [
      "[I 2025-02-27 02:24:24,435] Trial 30 finished with value: 0.7389156840761649 and parameters: {'iterations': 2309, 'depth': 7, 'learning_rate': 0.06696298905609076, 'l2_leaf_reg': 40.039902694765715}. Best is trial 17 with value: 0.7391811417911665.\n"
     ]
    },
    {
     "name": "stdout",
     "output_type": "stream",
     "text": [
      "Stopped by overfitting detector  (300 iterations wait)\n",
      "\n",
      "bestTest = 0.7389156841\n",
      "bestIteration = 937\n",
      "\n",
      "Shrink model to first 938 iterations.\n",
      "0:\ttest: 0.7086892\tbest: 0.7086892 (0)\ttotal: 77ms\tremaining: 3m 44s\n",
      "300:\ttest: 0.7380203\tbest: 0.7380295 (299)\ttotal: 21.2s\tremaining: 3m 3s\n",
      "600:\ttest: 0.7384603\tbest: 0.7386001 (532)\ttotal: 43.2s\tremaining: 2m 46s\n"
     ]
    },
    {
     "name": "stderr",
     "output_type": "stream",
     "text": [
      "[I 2025-02-27 02:25:25,070] Trial 31 finished with value: 0.7386000939225776 and parameters: {'iterations': 2914, 'depth': 6, 'learning_rate': 0.05470493552594512, 'l2_leaf_reg': 0.25224874110004225}. Best is trial 17 with value: 0.7391811417911665.\n"
     ]
    },
    {
     "name": "stdout",
     "output_type": "stream",
     "text": [
      "Stopped by overfitting detector  (300 iterations wait)\n",
      "\n",
      "bestTest = 0.7386000939\n",
      "bestIteration = 532\n",
      "\n",
      "Shrink model to first 533 iterations.\n",
      "0:\ttest: 0.7086892\tbest: 0.7086892 (0)\ttotal: 72.7ms\tremaining: 3m 31s\n",
      "300:\ttest: 0.7383259\tbest: 0.7383292 (299)\ttotal: 20.7s\tremaining: 2m 58s\n",
      "600:\ttest: 0.7389442\tbest: 0.7389891 (592)\ttotal: 42.7s\tremaining: 2m 43s\n",
      "900:\ttest: 0.7392055\tbest: 0.7392055 (900)\ttotal: 1m 4s\tremaining: 2m 23s\n"
     ]
    },
    {
     "name": "stderr",
     "output_type": "stream",
     "text": [
      "[I 2025-02-27 02:26:52,407] Trial 32 finished with value: 0.7392159346962665 and parameters: {'iterations': 2903, 'depth': 6, 'learning_rate': 0.05008231831099177, 'l2_leaf_reg': 0.6065190567102642}. Best is trial 32 with value: 0.7392159346962665.\n"
     ]
    },
    {
     "name": "stdout",
     "output_type": "stream",
     "text": [
      "1200:\ttest: 0.7387964\tbest: 0.7392159 (901)\ttotal: 1m 27s\tremaining: 2m 3s\n",
      "Stopped by overfitting detector  (300 iterations wait)\n",
      "\n",
      "bestTest = 0.7392159347\n",
      "bestIteration = 901\n",
      "\n",
      "Shrink model to first 902 iterations.\n",
      "저장 완료\n",
      "0:\ttest: 0.7217028\tbest: 0.7217028 (0)\ttotal: 87ms\tremaining: 4m\n",
      "300:\ttest: 0.7380903\tbest: 0.7380975 (284)\ttotal: 23.2s\tremaining: 3m 9s\n",
      "600:\ttest: 0.7388089\tbest: 0.7388383 (572)\ttotal: 48.9s\tremaining: 2m 55s\n"
     ]
    },
    {
     "name": "stderr",
     "output_type": "stream",
     "text": [
      "[I 2025-02-27 02:28:04,736] Trial 33 finished with value: 0.7388382557656712 and parameters: {'iterations': 2760, 'depth': 7, 'learning_rate': 0.042641181585682184, 'l2_leaf_reg': 3.720493622983874}. Best is trial 32 with value: 0.7392159346962665.\n"
     ]
    },
    {
     "name": "stdout",
     "output_type": "stream",
     "text": [
      "Stopped by overfitting detector  (300 iterations wait)\n",
      "\n",
      "bestTest = 0.7388382558\n",
      "bestIteration = 572\n",
      "\n",
      "Shrink model to first 573 iterations.\n",
      "0:\ttest: 0.6964132\tbest: 0.6964132 (0)\ttotal: 55ms\tremaining: 2m 44s\n",
      "300:\ttest: 0.7363373\tbest: 0.7363373 (300)\ttotal: 14.3s\tremaining: 2m 7s\n",
      "600:\ttest: 0.7377917\tbest: 0.7377918 (599)\ttotal: 29.2s\tremaining: 1m 56s\n",
      "900:\ttest: 0.7382684\tbest: 0.7382687 (899)\ttotal: 44.2s\tremaining: 1m 43s\n",
      "1200:\ttest: 0.7384674\tbest: 0.7384674 (1199)\ttotal: 59.4s\tremaining: 1m 28s\n",
      "1500:\ttest: 0.7385679\tbest: 0.7385905 (1422)\ttotal: 1m 14s\tremaining: 1m 14s\n",
      "1800:\ttest: 0.7387513\tbest: 0.7387513 (1800)\ttotal: 1m 29s\tremaining: 59.8s\n"
     ]
    },
    {
     "name": "stderr",
     "output_type": "stream",
     "text": [
      "[I 2025-02-27 02:29:50,127] Trial 34 finished with value: 0.738754065035937 and parameters: {'iterations': 3000, 'depth': 4, 'learning_rate': 0.03677771845286509, 'l2_leaf_reg': 10.924249509766236}. Best is trial 32 with value: 0.7392159346962665.\n"
     ]
    },
    {
     "name": "stdout",
     "output_type": "stream",
     "text": [
      "2100:\ttest: 0.7387320\tbest: 0.7387541 (1803)\ttotal: 1m 44s\tremaining: 44.9s\n",
      "Stopped by overfitting detector  (300 iterations wait)\n",
      "\n",
      "bestTest = 0.738754065\n",
      "bestIteration = 1803\n",
      "\n",
      "Shrink model to first 1804 iterations.\n",
      "0:\ttest: 0.7039563\tbest: 0.7039563 (0)\ttotal: 62.9ms\tremaining: 2m 35s\n",
      "300:\ttest: 0.7346428\tbest: 0.7346455 (299)\ttotal: 17.1s\tremaining: 2m 3s\n",
      "600:\ttest: 0.7368076\tbest: 0.7368076 (600)\ttotal: 34.6s\tremaining: 1m 47s\n",
      "900:\ttest: 0.7377305\tbest: 0.7377305 (900)\ttotal: 52s\tremaining: 1m 30s\n",
      "1200:\ttest: 0.7381166\tbest: 0.7381166 (1200)\ttotal: 1m 10s\tremaining: 1m 14s\n",
      "1500:\ttest: 0.7383593\tbest: 0.7383633 (1499)\ttotal: 1m 28s\tremaining: 56.9s\n",
      "1800:\ttest: 0.7384797\tbest: 0.7384798 (1799)\ttotal: 1m 46s\tremaining: 39.5s\n",
      "2100:\ttest: 0.7385797\tbest: 0.7385882 (2093)\ttotal: 2m 4s\tremaining: 21.9s\n",
      "2400:\ttest: 0.7386816\tbest: 0.7386870 (2370)\ttotal: 2m 23s\tremaining: 4.06s\n"
     ]
    },
    {
     "name": "stderr",
     "output_type": "stream",
     "text": [
      "[I 2025-02-27 02:32:18,113] Trial 35 finished with value: 0.7387119140786628 and parameters: {'iterations': 2469, 'depth': 5, 'learning_rate': 0.016259420985453674, 'l2_leaf_reg': 54.39310843897124}. Best is trial 32 with value: 0.7392159346962665.\n"
     ]
    },
    {
     "name": "stdout",
     "output_type": "stream",
     "text": [
      "2468:\ttest: 0.7387106\tbest: 0.7387119 (2467)\ttotal: 2m 27s\tremaining: 0us\n",
      "\n",
      "bestTest = 0.7387119141\n",
      "bestIteration = 2467\n",
      "\n",
      "Shrink model to first 2468 iterations.\n",
      "0:\ttest: 0.7086892\tbest: 0.7086892 (0)\ttotal: 85ms\tremaining: 4m 6s\n",
      "300:\ttest: 0.7366579\tbest: 0.7366579 (300)\ttotal: 20.2s\tremaining: 2m 54s\n",
      "600:\ttest: 0.7383049\tbest: 0.7383049 (600)\ttotal: 41.3s\tremaining: 2m 37s\n",
      "900:\ttest: 0.7387237\tbest: 0.7387390 (893)\ttotal: 1m 3s\tremaining: 2m 20s\n",
      "1200:\ttest: 0.7388803\tbest: 0.7389008 (1166)\ttotal: 1m 25s\tremaining: 2m\n",
      "1500:\ttest: 0.7388565\tbest: 0.7389341 (1301)\ttotal: 1m 47s\tremaining: 1m 39s\n"
     ]
    },
    {
     "name": "stderr",
     "output_type": "stream",
     "text": [
      "[I 2025-02-27 02:34:13,271] Trial 36 finished with value: 0.73893405339584 and parameters: {'iterations': 2898, 'depth': 6, 'learning_rate': 0.026823598778163135, 'l2_leaf_reg': 0.8233247491292014}. Best is trial 32 with value: 0.7392159346962665.\n"
     ]
    },
    {
     "name": "stdout",
     "output_type": "stream",
     "text": [
      "Stopped by overfitting detector  (300 iterations wait)\n",
      "\n",
      "bestTest = 0.7389340534\n",
      "bestIteration = 1301\n",
      "\n",
      "Shrink model to first 1302 iterations.\n",
      "0:\ttest: 0.6964135\tbest: 0.6964135 (0)\ttotal: 52.3ms\tremaining: 2m 16s\n",
      "300:\ttest: 0.7379756\tbest: 0.7379768 (282)\ttotal: 14.7s\tremaining: 1m 53s\n",
      "600:\ttest: 0.7381469\tbest: 0.7382528 (527)\ttotal: 29.8s\tremaining: 1m 40s\n",
      "900:\ttest: 0.7382581\tbest: 0.7383135 (876)\ttotal: 45.2s\tremaining: 1m 26s\n",
      "1200:\ttest: 0.7382622\tbest: 0.7383650 (1080)\ttotal: 1m\tremaining: 1m 11s\n"
     ]
    },
    {
     "name": "stderr",
     "output_type": "stream",
     "text": [
      "[I 2025-02-27 02:35:23,179] Trial 37 finished with value: 0.7383649737783322 and parameters: {'iterations': 2619, 'depth': 4, 'learning_rate': 0.09274666200944717, 'l2_leaf_reg': 0.12787114292716958}. Best is trial 32 with value: 0.7392159346962665.\n"
     ]
    },
    {
     "name": "stdout",
     "output_type": "stream",
     "text": [
      "Stopped by overfitting detector  (300 iterations wait)\n",
      "\n",
      "bestTest = 0.7383649738\n",
      "bestIteration = 1080\n",
      "\n",
      "Shrink model to first 1081 iterations.\n",
      "0:\ttest: 0.7039759\tbest: 0.7039759 (0)\ttotal: 66ms\tremaining: 2m 6s\n",
      "300:\ttest: 0.7377225\tbest: 0.7377225 (300)\ttotal: 17.5s\tremaining: 1m 33s\n",
      "600:\ttest: 0.7384327\tbest: 0.7384681 (576)\ttotal: 36s\tremaining: 1m 18s\n",
      "900:\ttest: 0.7385696\tbest: 0.7386799 (738)\ttotal: 54.6s\tremaining: 1m 1s\n"
     ]
    },
    {
     "name": "stderr",
     "output_type": "stream",
     "text": [
      "[I 2025-02-27 02:36:26,582] Trial 38 finished with value: 0.738679920648351 and parameters: {'iterations': 1917, 'depth': 5, 'learning_rate': 0.049378663870803, 'l2_leaf_reg': 0.027042698012958253}. Best is trial 32 with value: 0.7392159346962665.\n"
     ]
    },
    {
     "name": "stdout",
     "output_type": "stream",
     "text": [
      "Stopped by overfitting detector  (300 iterations wait)\n",
      "\n",
      "bestTest = 0.7386799206\n",
      "bestIteration = 738\n",
      "\n",
      "Shrink model to first 739 iterations.\n",
      "0:\ttest: 0.6964135\tbest: 0.6964135 (0)\ttotal: 52.7ms\tremaining: 1m 33s\n",
      "300:\ttest: 0.7376964\tbest: 0.7378541 (275)\ttotal: 14.4s\tremaining: 1m 9s\n",
      "600:\ttest: 0.7384056\tbest: 0.7384391 (588)\ttotal: 29.4s\tremaining: 57.1s\n",
      "900:\ttest: 0.7384337\tbest: 0.7386597 (687)\ttotal: 44.3s\tremaining: 42.7s\n"
     ]
    },
    {
     "name": "stderr",
     "output_type": "stream",
     "text": [
      "[I 2025-02-27 02:37:15,460] Trial 39 finished with value: 0.73865974854633 and parameters: {'iterations': 1769, 'depth': 4, 'learning_rate': 0.07368726918707895, 'l2_leaf_reg': 0.008410173852787141}. Best is trial 32 with value: 0.7392159346962665.\n",
      "[I 2025-02-27 02:37:15,463] A new study created in memory with name: no-name-463517c1-f3f9-43b8-a1a3-401ac7266e46\n"
     ]
    },
    {
     "name": "stdout",
     "output_type": "stream",
     "text": [
      "Stopped by overfitting detector  (300 iterations wait)\n",
      "\n",
      "bestTest = 0.7386597485\n",
      "bestIteration = 687\n",
      "\n",
      "Shrink model to first 688 iterations.\n"
     ]
    },
    {
     "name": "stderr",
     "output_type": "stream",
     "text": [
      "[I 2025-02-27 02:37:38,656] Trial 0 finished with value: 0.728595259448017 and parameters: {'num_iterations': 2366, 'objective': 'binary', 'metric': 'auc', 'verbose': -1, 'learning_rate': 0.0652646236447618, 'n_estimators': 236, 'min_child_samples': 45, 'subsample': 0.7, 'colsample_bytree': 0.5}. Best is trial 0 with value: 0.728595259448017.\n",
      "[I 2025-02-27 02:37:55,715] Trial 1 finished with value: 0.7382528756602115 and parameters: {'num_iterations': 1510, 'objective': 'binary', 'metric': 'auc', 'verbose': -1, 'learning_rate': 0.005231880959249543, 'n_estimators': 1411, 'min_child_samples': 10, 'subsample': 1.0, 'colsample_bytree': 0.5}. Best is trial 1 with value: 0.7382528756602115.\n",
      "[I 2025-02-27 02:38:15,249] Trial 2 finished with value: 0.7376169977946333 and parameters: {'num_iterations': 2334, 'objective': 'binary', 'metric': 'auc', 'verbose': -1, 'learning_rate': 0.006578527777128852, 'n_estimators': 931, 'min_child_samples': 15, 'subsample': 0.5, 'colsample_bytree': 1.0}. Best is trial 1 with value: 0.7382528756602115.\n",
      "[I 2025-02-27 02:38:31,777] Trial 3 finished with value: 0.738357278200829 and parameters: {'num_iterations': 1620, 'objective': 'binary', 'metric': 'auc', 'verbose': -1, 'learning_rate': 0.0058823249237283685, 'n_estimators': 837, 'min_child_samples': 10, 'subsample': 0.9, 'colsample_bytree': 0.6}. Best is trial 3 with value: 0.738357278200829.\n",
      "[I 2025-02-27 02:38:48,267] Trial 4 finished with value: 0.7379335846406629 and parameters: {'num_iterations': 1997, 'objective': 'binary', 'metric': 'auc', 'verbose': -1, 'learning_rate': 0.010907507425244923, 'n_estimators': 1597, 'min_child_samples': 50, 'subsample': 0.6, 'colsample_bytree': 0.8}. Best is trial 3 with value: 0.738357278200829.\n",
      "[I 2025-02-27 02:39:10,801] Trial 5 finished with value: 0.7343285838145598 and parameters: {'num_iterations': 2909, 'objective': 'binary', 'metric': 'auc', 'verbose': -1, 'learning_rate': 0.019760591962733942, 'n_estimators': 612, 'min_child_samples': 30, 'subsample': 0.7, 'colsample_bytree': 0.9}. Best is trial 3 with value: 0.738357278200829.\n",
      "[I 2025-02-27 02:39:31,435] Trial 6 finished with value: 0.7357780565586984 and parameters: {'num_iterations': 2639, 'objective': 'binary', 'metric': 'auc', 'verbose': -1, 'learning_rate': 0.017862094446750985, 'n_estimators': 794, 'min_child_samples': 35, 'subsample': 1.0, 'colsample_bytree': 0.8}. Best is trial 3 with value: 0.738357278200829.\n",
      "[I 2025-02-27 02:39:48,055] Trial 7 finished with value: 0.7375217402049912 and parameters: {'num_iterations': 1580, 'objective': 'binary', 'metric': 'auc', 'verbose': -1, 'learning_rate': 0.01776722177611332, 'n_estimators': 529, 'min_child_samples': 25, 'subsample': 0.8, 'colsample_bytree': 0.5}. Best is trial 3 with value: 0.738357278200829.\n",
      "[I 2025-02-27 02:40:05,741] Trial 8 finished with value: 0.7343989876273221 and parameters: {'num_iterations': 1911, 'objective': 'binary', 'metric': 'auc', 'verbose': -1, 'learning_rate': 0.0304747553332844, 'n_estimators': 1328, 'min_child_samples': 10, 'subsample': 0.7, 'colsample_bytree': 0.6}. Best is trial 3 with value: 0.738357278200829.\n",
      "[I 2025-02-27 02:40:33,242] Trial 9 finished with value: 0.7331427540904178 and parameters: {'num_iterations': 2739, 'objective': 'binary', 'metric': 'auc', 'verbose': -1, 'learning_rate': 0.02691531614176271, 'n_estimators': 1438, 'min_child_samples': 20, 'subsample': 0.6, 'colsample_bytree': 0.5}. Best is trial 3 with value: 0.738357278200829.\n",
      "[I 2025-02-27 02:40:47,778] Trial 10 finished with value: 0.7280660197320008 and parameters: {'num_iterations': 1883, 'objective': 'binary', 'metric': 'auc', 'verbose': -1, 'learning_rate': 0.08223556891145911, 'n_estimators': 1917, 'min_child_samples': 40, 'subsample': 0.9, 'colsample_bytree': 0.7}. Best is trial 3 with value: 0.738357278200829.\n",
      "[I 2025-02-27 02:41:03,423] Trial 11 finished with value: 0.7383514211436476 and parameters: {'num_iterations': 1513, 'objective': 'binary', 'metric': 'auc', 'verbose': -1, 'learning_rate': 0.005340229419903739, 'n_estimators': 1206, 'min_child_samples': 10, 'subsample': 1.0, 'colsample_bytree': 0.6}. Best is trial 3 with value: 0.738357278200829.\n",
      "[I 2025-02-27 02:41:18,287] Trial 12 finished with value: 0.7382692595367742 and parameters: {'num_iterations': 1717, 'objective': 'binary', 'metric': 'auc', 'verbose': -1, 'learning_rate': 0.008807202863131344, 'n_estimators': 1093, 'min_child_samples': 20, 'subsample': 0.9, 'colsample_bytree': 0.7}. Best is trial 3 with value: 0.738357278200829.\n",
      "[I 2025-02-27 02:41:38,313] Trial 13 finished with value: 0.7378543932566854 and parameters: {'num_iterations': 2084, 'objective': 'binary', 'metric': 'auc', 'verbose': -1, 'learning_rate': 0.010947685715514379, 'n_estimators': 1108, 'min_child_samples': 10, 'subsample': 0.9, 'colsample_bytree': 0.6}. Best is trial 3 with value: 0.738357278200829.\n",
      "[I 2025-02-27 02:41:56,299] Trial 14 finished with value: 0.7383608242022275 and parameters: {'num_iterations': 1759, 'objective': 'binary', 'metric': 'auc', 'verbose': -1, 'learning_rate': 0.00514593053258222, 'n_estimators': 172, 'min_child_samples': 20, 'subsample': 1.0, 'colsample_bytree': 0.6}. Best is trial 14 with value: 0.7383608242022275.\n",
      "[I 2025-02-27 02:42:11,493] Trial 15 finished with value: 0.7384625185984398 and parameters: {'num_iterations': 1756, 'objective': 'binary', 'metric': 'auc', 'verbose': -1, 'learning_rate': 0.008183724404516576, 'n_estimators': 181, 'min_child_samples': 20, 'subsample': 0.8, 'colsample_bytree': 0.7}. Best is trial 15 with value: 0.7384625185984398.\n",
      "[I 2025-02-27 02:42:29,795] Trial 16 finished with value: 0.7380525841590421 and parameters: {'num_iterations': 2155, 'objective': 'binary', 'metric': 'auc', 'verbose': -1, 'learning_rate': 0.008483696638305635, 'n_estimators': 195, 'min_child_samples': 25, 'subsample': 0.8, 'colsample_bytree': 0.7}. Best is trial 15 with value: 0.7384625185984398.\n",
      "[I 2025-02-27 02:42:44,605] Trial 17 finished with value: 0.7372557384785768 and parameters: {'num_iterations': 1802, 'objective': 'binary', 'metric': 'auc', 'verbose': -1, 'learning_rate': 0.012340867926072587, 'n_estimators': 414, 'min_child_samples': 20, 'subsample': 0.8, 'colsample_bytree': 0.8}. Best is trial 15 with value: 0.7384625185984398.\n",
      "[I 2025-02-27 02:42:58,664] Trial 18 finished with value: 0.7339935124931546 and parameters: {'num_iterations': 1766, 'objective': 'binary', 'metric': 'auc', 'verbose': -1, 'learning_rate': 0.036157576024529584, 'n_estimators': 126, 'min_child_samples': 30, 'subsample': 1.0, 'colsample_bytree': 0.7}. Best is trial 15 with value: 0.7384625185984398.\n",
      "[I 2025-02-27 02:43:19,115] Trial 19 finished with value: 0.7380668634659058 and parameters: {'num_iterations': 2481, 'objective': 'binary', 'metric': 'auc', 'verbose': -1, 'learning_rate': 0.007489860794882337, 'n_estimators': 350, 'min_child_samples': 25, 'subsample': 0.5, 'colsample_bytree': 0.9}. Best is trial 15 with value: 0.7384625185984398.\n",
      "[I 2025-02-27 02:43:39,743] Trial 20 finished with value: 0.7367047978693432 and parameters: {'num_iterations': 2192, 'objective': 'binary', 'metric': 'auc', 'verbose': -1, 'learning_rate': 0.015527025906590247, 'n_estimators': 631, 'min_child_samples': 15, 'subsample': 0.6, 'colsample_bytree': 0.6}. Best is trial 15 with value: 0.7384625185984398.\n",
      "[I 2025-02-27 02:43:56,630] Trial 21 finished with value: 0.738280004754898 and parameters: {'num_iterations': 1637, 'objective': 'binary', 'metric': 'auc', 'verbose': -1, 'learning_rate': 0.0051460135866461, 'n_estimators': 863, 'min_child_samples': 15, 'subsample': 0.9, 'colsample_bytree': 0.6}. Best is trial 15 with value: 0.7384625185984398.\n",
      "[I 2025-02-27 02:44:13,772] Trial 22 finished with value: 0.7384720963760135 and parameters: {'num_iterations': 1709, 'objective': 'binary', 'metric': 'auc', 'verbose': -1, 'learning_rate': 0.0068663798198979374, 'n_estimators': 101, 'min_child_samples': 20, 'subsample': 0.9, 'colsample_bytree': 0.6}. Best is trial 22 with value: 0.7384720963760135.\n",
      "[I 2025-02-27 02:44:30,810] Trial 23 finished with value: 0.7382158550879394 and parameters: {'num_iterations': 1984, 'objective': 'binary', 'metric': 'auc', 'verbose': -1, 'learning_rate': 0.008109891484373586, 'n_estimators': 355, 'min_child_samples': 20, 'subsample': 0.8, 'colsample_bytree': 0.7}. Best is trial 22 with value: 0.7384720963760135.\n",
      "[I 2025-02-27 02:44:47,334] Trial 24 finished with value: 0.7380163299678114 and parameters: {'num_iterations': 1722, 'objective': 'binary', 'metric': 'auc', 'verbose': -1, 'learning_rate': 0.013045922153100667, 'n_estimators': 264, 'min_child_samples': 25, 'subsample': 0.9, 'colsample_bytree': 0.6}. Best is trial 22 with value: 0.7384720963760135.\n",
      "[I 2025-02-27 02:45:03,391] Trial 25 finished with value: 0.7383840737410726 and parameters: {'num_iterations': 1833, 'objective': 'binary', 'metric': 'auc', 'verbose': -1, 'learning_rate': 0.006968510348820143, 'n_estimators': 124, 'min_child_samples': 35, 'subsample': 1.0, 'colsample_bytree': 0.7}. Best is trial 22 with value: 0.7384720963760135.\n",
      "[I 2025-02-27 02:45:19,103] Trial 26 finished with value: 0.7382925527553678 and parameters: {'num_iterations': 1879, 'objective': 'binary', 'metric': 'auc', 'verbose': -1, 'learning_rate': 0.00927034836861308, 'n_estimators': 497, 'min_child_samples': 35, 'subsample': 0.8, 'colsample_bytree': 0.8}. Best is trial 22 with value: 0.7384720963760135.\n",
      "[I 2025-02-27 02:45:36,842] Trial 27 finished with value: 0.7384781996281408 and parameters: {'num_iterations': 2051, 'objective': 'binary', 'metric': 'auc', 'verbose': -1, 'learning_rate': 0.006753553590721989, 'n_estimators': 712, 'min_child_samples': 35, 'subsample': 0.9, 'colsample_bytree': 0.7}. Best is trial 27 with value: 0.7384781996281408.\n",
      "[I 2025-02-27 02:45:52,440] Trial 28 finished with value: 0.7308043349307203 and parameters: {'num_iterations': 2034, 'objective': 'binary', 'metric': 'auc', 'verbose': -1, 'learning_rate': 0.04852691532818962, 'n_estimators': 642, 'min_child_samples': 40, 'subsample': 0.9, 'colsample_bytree': 0.9}. Best is trial 27 with value: 0.7384781996281408.\n",
      "[I 2025-02-27 02:46:17,157] Trial 29 finished with value: 0.7377723070966503 and parameters: {'num_iterations': 2362, 'objective': 'binary', 'metric': 'auc', 'verbose': -1, 'learning_rate': 0.010557109198338377, 'n_estimators': 304, 'min_child_samples': 45, 'subsample': 0.7, 'colsample_bytree': 0.5}. Best is trial 27 with value: 0.7384781996281408.\n",
      "[I 2025-02-27 02:46:34,610] Trial 30 finished with value: 0.7371657462840685 and parameters: {'num_iterations': 2110, 'objective': 'binary', 'metric': 'auc', 'verbose': -1, 'learning_rate': 0.013473179831780013, 'n_estimators': 752, 'min_child_samples': 30, 'subsample': 0.8, 'colsample_bytree': 0.7}. Best is trial 27 with value: 0.7384781996281408.\n",
      "[I 2025-02-27 02:46:50,812] Trial 31 finished with value: 0.7385105067584642 and parameters: {'num_iterations': 1844, 'objective': 'binary', 'metric': 'auc', 'verbose': -1, 'learning_rate': 0.006646854520050161, 'n_estimators': 107, 'min_child_samples': 35, 'subsample': 1.0, 'colsample_bytree': 0.7}. Best is trial 31 with value: 0.7385105067584642.\n",
      "[I 2025-02-27 02:47:07,705] Trial 32 finished with value: 0.7382264255870693 and parameters: {'num_iterations': 1952, 'objective': 'binary', 'metric': 'auc', 'verbose': -1, 'learning_rate': 0.0068871555320906795, 'n_estimators': 443, 'min_child_samples': 40, 'subsample': 0.9, 'colsample_bytree': 0.8}. Best is trial 31 with value: 0.7385105067584642.\n",
      "[I 2025-02-27 02:47:27,343] Trial 33 finished with value: 0.7383833788359833 and parameters: {'num_iterations': 2276, 'objective': 'binary', 'metric': 'auc', 'verbose': -1, 'learning_rate': 0.006385431878453232, 'n_estimators': 255, 'min_child_samples': 30, 'subsample': 1.0, 'colsample_bytree': 0.7}. Best is trial 31 with value: 0.7385105067584642.\n",
      "[I 2025-02-27 02:47:41,337] Trial 34 finished with value: 0.7383996991783665 and parameters: {'num_iterations': 1623, 'objective': 'binary', 'metric': 'auc', 'verbose': -1, 'learning_rate': 0.009530000370479092, 'n_estimators': 982, 'min_child_samples': 35, 'subsample': 0.9, 'colsample_bytree': 0.7}. Best is trial 31 with value: 0.7385105067584642.\n",
      "[I 2025-02-27 02:47:56,033] Trial 35 finished with value: 0.7385546550715094 and parameters: {'num_iterations': 1684, 'objective': 'binary', 'metric': 'auc', 'verbose': -1, 'learning_rate': 0.006302250788262625, 'n_estimators': 126, 'min_child_samples': 45, 'subsample': 1.0, 'colsample_bytree': 0.8}. Best is trial 35 with value: 0.7385546550715094.\n",
      "[I 2025-02-27 02:48:09,430] Trial 36 finished with value: 0.7382880894792513 and parameters: {'num_iterations': 1509, 'objective': 'binary', 'metric': 'auc', 'verbose': -1, 'learning_rate': 0.006067105142803356, 'n_estimators': 544, 'min_child_samples': 50, 'subsample': 1.0, 'colsample_bytree': 0.8}. Best is trial 35 with value: 0.7385546550715094.\n",
      "[I 2025-02-27 02:48:24,031] Trial 37 finished with value: 0.7383242801363025 and parameters: {'num_iterations': 1676, 'objective': 'binary', 'metric': 'auc', 'verbose': -1, 'learning_rate': 0.006131833270683906, 'n_estimators': 380, 'min_child_samples': 45, 'subsample': 1.0, 'colsample_bytree': 1.0}. Best is trial 35 with value: 0.7385546550715094.\n",
      "[I 2025-02-27 02:48:39,733] Trial 38 finished with value: 0.7382235268401254 and parameters: {'num_iterations': 1840, 'objective': 'binary', 'metric': 'auc', 'verbose': -1, 'learning_rate': 0.007195609001707706, 'n_estimators': 106, 'min_child_samples': 40, 'subsample': 1.0, 'colsample_bytree': 0.9}. Best is trial 35 with value: 0.7385546550715094.\n",
      "[I 2025-02-27 02:48:56,454] Trial 39 finished with value: 0.7378441920499744 and parameters: {'num_iterations': 2032, 'objective': 'binary', 'metric': 'auc', 'verbose': -1, 'learning_rate': 0.010372498653719872, 'n_estimators': 1749, 'min_child_samples': 45, 'subsample': 0.9, 'colsample_bytree': 0.8}. Best is trial 35 with value: 0.7385546550715094.\n"
     ]
    },
    {
     "name": "stdout",
     "output_type": "stream",
     "text": [
      "Cat val score : 0.7392159346962663\n",
      "LGBM val score : 0.7384193749196093\n",
      "Ensemble val score : 0.7393430387934301\n"
     ]
    },
    {
     "name": "stderr",
     "output_type": "stream",
     "text": [
      "[I 2025-02-27 02:49:12,430] A new study created in memory with name: no-name-8ba7ad60-14e3-4454-ac74-bbb0670c4f46\n"
     ]
    },
    {
     "name": "stdout",
     "output_type": "stream",
     "text": [
      "==================================================\n",
      "0:\ttest: 0.7201469\tbest: 0.7201469 (0)\ttotal: 137ms\tremaining: 5m 23s\n",
      "300:\ttest: 0.7359679\tbest: 0.7359679 (300)\ttotal: 37.6s\tremaining: 4m 17s\n",
      "600:\ttest: 0.7369398\tbest: 0.7369398 (600)\ttotal: 1m 18s\tremaining: 3m 51s\n",
      "900:\ttest: 0.7371418\tbest: 0.7371703 (828)\ttotal: 2m 1s\tremaining: 3m 16s\n",
      "1200:\ttest: 0.7372091\tbest: 0.7372540 (1178)\ttotal: 2m 45s\tremaining: 2m 40s\n"
     ]
    },
    {
     "name": "stderr",
     "output_type": "stream",
     "text": [
      "[I 2025-02-27 02:52:45,469] Trial 0 finished with value: 0.7372539595215483 and parameters: {'iterations': 2366, 'depth': 10, 'learning_rate': 0.01181021951839225, 'l2_leaf_reg': 9.980783802743254}. Best is trial 0 with value: 0.7372539595215483.\n"
     ]
    },
    {
     "name": "stdout",
     "output_type": "stream",
     "text": [
      "Stopped by overfitting detector  (300 iterations wait)\n",
      "\n",
      "bestTest = 0.7372539595\n",
      "bestIteration = 1178\n",
      "\n",
      "Shrink model to first 1179 iterations.\n",
      "저장 완료\n",
      "0:\ttest: 0.6909322\tbest: 0.6909322 (0)\ttotal: 57.3ms\tremaining: 2m 5s\n",
      "300:\ttest: 0.7291985\tbest: 0.7291985 (300)\ttotal: 13.5s\tremaining: 1m 24s\n",
      "600:\ttest: 0.7331637\tbest: 0.7331637 (600)\ttotal: 26.9s\tremaining: 1m 11s\n",
      "900:\ttest: 0.7344534\tbest: 0.7344534 (900)\ttotal: 40.7s\tremaining: 58.4s\n",
      "1200:\ttest: 0.7352422\tbest: 0.7352435 (1196)\ttotal: 54.6s\tremaining: 45.1s\n",
      "1500:\ttest: 0.7357430\tbest: 0.7357430 (1500)\ttotal: 1m 8s\tremaining: 31.7s\n",
      "1800:\ttest: 0.7361523\tbest: 0.7361526 (1798)\ttotal: 1m 22s\tremaining: 18s\n",
      "2100:\ttest: 0.7365275\tbest: 0.7365275 (2100)\ttotal: 1m 37s\tremaining: 4.26s\n"
     ]
    },
    {
     "name": "stderr",
     "output_type": "stream",
     "text": [
      "[I 2025-02-27 02:54:27,572] Trial 1 finished with value: 0.7366479268368342 and parameters: {'iterations': 2193, 'depth': 4, 'learning_rate': 0.005671430811678843, 'l2_leaf_reg': 0.00012325230809466137}. Best is trial 0 with value: 0.7372539595215483.\n"
     ]
    },
    {
     "name": "stdout",
     "output_type": "stream",
     "text": [
      "2192:\ttest: 0.7366479\tbest: 0.7366479 (2192)\ttotal: 1m 41s\tremaining: 0us\n",
      "\n",
      "bestTest = 0.7366479268\n",
      "bestIteration = 2192\n",
      "\n",
      "0:\ttest: 0.6909322\tbest: 0.6909322 (0)\ttotal: 55.8ms\tremaining: 2m 21s\n",
      "300:\ttest: 0.7375543\tbest: 0.7375543 (300)\ttotal: 14.6s\tremaining: 1m 47s\n",
      "600:\ttest: 0.7374047\tbest: 0.7378770 (386)\ttotal: 29.6s\tremaining: 1m 35s\n"
     ]
    },
    {
     "name": "stderr",
     "output_type": "stream",
     "text": [
      "[I 2025-02-27 02:55:01,740] Trial 2 finished with value: 0.7378769836284174 and parameters: {'iterations': 2535, 'depth': 4, 'learning_rate': 0.09275339199839054, 'l2_leaf_reg': 0.0008705394248343123}. Best is trial 2 with value: 0.7378769836284174.\n"
     ]
    },
    {
     "name": "stdout",
     "output_type": "stream",
     "text": [
      "Stopped by overfitting detector  (300 iterations wait)\n",
      "\n",
      "bestTest = 0.7378769836\n",
      "bestIteration = 386\n",
      "\n",
      "Shrink model to first 387 iterations.\n",
      "저장 완료\n",
      "0:\ttest: 0.6909322\tbest: 0.6909322 (0)\ttotal: 52.2ms\tremaining: 2m 1s\n",
      "300:\ttest: 0.7368778\tbest: 0.7368778 (300)\ttotal: 14.1s\tremaining: 1m 35s\n",
      "600:\ttest: 0.7377403\tbest: 0.7378446 (527)\ttotal: 29s\tremaining: 1m 23s\n",
      "900:\ttest: 0.7379151\tbest: 0.7379220 (890)\ttotal: 44.1s\tremaining: 1m 10s\n",
      "1200:\ttest: 0.7378627\tbest: 0.7379629 (996)\ttotal: 59.2s\tremaining: 55.8s\n"
     ]
    },
    {
     "name": "stderr",
     "output_type": "stream",
     "text": [
      "[I 2025-02-27 02:56:05,924] Trial 3 finished with value: 0.7379628500721382 and parameters: {'iterations': 2334, 'depth': 4, 'learning_rate': 0.04657568321363276, 'l2_leaf_reg': 0.0008640473331457248}. Best is trial 3 with value: 0.7379628500721382.\n"
     ]
    },
    {
     "name": "stdout",
     "output_type": "stream",
     "text": [
      "Stopped by overfitting detector  (300 iterations wait)\n",
      "\n",
      "bestTest = 0.7379628501\n",
      "bestIteration = 996\n",
      "\n",
      "Shrink model to first 997 iterations.\n",
      "저장 완료\n",
      "0:\ttest: 0.7200119\tbest: 0.7200119 (0)\ttotal: 130ms\tremaining: 3m 46s\n",
      "300:\ttest: 0.7353347\tbest: 0.7353347 (300)\ttotal: 39.7s\tremaining: 3m 10s\n",
      "600:\ttest: 0.7354153\tbest: 0.7355760 (387)\ttotal: 1m 21s\tremaining: 2m 33s\n"
     ]
    },
    {
     "name": "stderr",
     "output_type": "stream",
     "text": [
      "[I 2025-02-27 02:57:40,559] Trial 4 finished with value: 0.7355760416929076 and parameters: {'iterations': 1742, 'depth': 10, 'learning_rate': 0.012622767482095846, 'l2_leaf_reg': 0.00021158816350109617}. Best is trial 3 with value: 0.7379628500721382.\n"
     ]
    },
    {
     "name": "stdout",
     "output_type": "stream",
     "text": [
      "Stopped by overfitting detector  (300 iterations wait)\n",
      "\n",
      "bestTest = 0.7355760417\n",
      "bestIteration = 387\n",
      "\n",
      "Shrink model to first 388 iterations.\n",
      "0:\ttest: 0.6909322\tbest: 0.6909322 (0)\ttotal: 62.5ms\tremaining: 2m 10s\n",
      "300:\ttest: 0.7376139\tbest: 0.7376209 (299)\ttotal: 15.5s\tremaining: 1m 31s\n",
      "600:\ttest: 0.7378767\tbest: 0.7379866 (511)\ttotal: 32s\tremaining: 1m 18s\n",
      "900:\ttest: 0.7379502\tbest: 0.7380113 (817)\ttotal: 47.7s\tremaining: 1m 2s\n",
      "1200:\ttest: 0.7379437\tbest: 0.7380326 (959)\ttotal: 1m 3s\tremaining: 46.5s\n",
      "1500:\ttest: 0.7379042\tbest: 0.7380691 (1242)\ttotal: 1m 19s\tremaining: 30.8s\n"
     ]
    },
    {
     "name": "stderr",
     "output_type": "stream",
     "text": [
      "[I 2025-02-27 02:59:02,717] Trial 5 finished with value: 0.7380691427545987 and parameters: {'iterations': 2082, 'depth': 4, 'learning_rate': 0.06995196593094148, 'l2_leaf_reg': 0.0018080296485396804}. Best is trial 5 with value: 0.7380691427545987.\n"
     ]
    },
    {
     "name": "stdout",
     "output_type": "stream",
     "text": [
      "Stopped by overfitting detector  (300 iterations wait)\n",
      "\n",
      "bestTest = 0.7380691428\n",
      "bestIteration = 1242\n",
      "\n",
      "Shrink model to first 1243 iterations.\n",
      "저장 완료\n",
      "0:\ttest: 0.6967245\tbest: 0.6967245 (0)\ttotal: 66.8ms\tremaining: 2m 13s\n",
      "300:\ttest: 0.7373263\tbest: 0.7373280 (299)\ttotal: 19.1s\tremaining: 1m 47s\n",
      "600:\ttest: 0.7375935\tbest: 0.7376708 (490)\ttotal: 37.5s\tremaining: 1m 27s\n",
      "900:\ttest: 0.7377868\tbest: 0.7377868 (900)\ttotal: 56s\tremaining: 1m 8s\n",
      "1200:\ttest: 0.7377140\tbest: 0.7378008 (985)\ttotal: 1m 14s\tremaining: 49.5s\n"
     ]
    },
    {
     "name": "stderr",
     "output_type": "stream",
     "text": [
      "[I 2025-02-27 03:00:22,837] Trial 6 finished with value: 0.7378008418850603 and parameters: {'iterations': 1997, 'depth': 5, 'learning_rate': 0.07985155992831598, 'l2_leaf_reg': 62.52181000710482}. Best is trial 5 with value: 0.7380691427545987.\n"
     ]
    },
    {
     "name": "stdout",
     "output_type": "stream",
     "text": [
      "Stopped by overfitting detector  (300 iterations wait)\n",
      "\n",
      "bestTest = 0.7378008419\n",
      "bestIteration = 985\n",
      "\n",
      "Shrink model to first 986 iterations.\n",
      "0:\ttest: 0.7143590\tbest: 0.7143590 (0)\ttotal: 85ms\tremaining: 2m 43s\n",
      "300:\ttest: 0.7362519\tbest: 0.7368597 (141)\ttotal: 24.9s\tremaining: 2m 14s\n"
     ]
    },
    {
     "name": "stderr",
     "output_type": "stream",
     "text": [
      "[I 2025-02-27 03:00:59,973] Trial 7 finished with value: 0.7368596862574204 and parameters: {'iterations': 1927, 'depth': 7, 'learning_rate': 0.0941937211034094, 'l2_leaf_reg': 0.05654822767791934}. Best is trial 5 with value: 0.7380691427545987.\n"
     ]
    },
    {
     "name": "stdout",
     "output_type": "stream",
     "text": [
      "Stopped by overfitting detector  (300 iterations wait)\n",
      "\n",
      "bestTest = 0.7368596863\n",
      "bestIteration = 141\n",
      "\n",
      "Shrink model to first 142 iterations.\n",
      "0:\ttest: 0.7143587\tbest: 0.7143587 (0)\ttotal: 85.6ms\tremaining: 2m 42s\n",
      "300:\ttest: 0.7377852\tbest: 0.7377858 (299)\ttotal: 23.9s\tremaining: 2m 7s\n",
      "600:\ttest: 0.7376521\tbest: 0.7378759 (337)\ttotal: 49.7s\tremaining: 1m 47s\n"
     ]
    },
    {
     "name": "stderr",
     "output_type": "stream",
     "text": [
      "[I 2025-02-27 03:01:53,085] Trial 8 finished with value: 0.7378759075182504 and parameters: {'iterations': 1904, 'depth': 7, 'learning_rate': 0.05155602859187331, 'l2_leaf_reg': 1.299974533316308}. Best is trial 5 with value: 0.7380691427545987.\n"
     ]
    },
    {
     "name": "stdout",
     "output_type": "stream",
     "text": [
      "Stopped by overfitting detector  (300 iterations wait)\n",
      "\n",
      "bestTest = 0.7378759075\n",
      "bestIteration = 337\n",
      "\n",
      "Shrink model to first 338 iterations.\n",
      "0:\ttest: 0.7142052\tbest: 0.7142052 (0)\ttotal: 74.7ms\tremaining: 3m 17s\n",
      "300:\ttest: 0.7373207\tbest: 0.7373207 (300)\ttotal: 20.3s\tremaining: 2m 37s\n",
      "600:\ttest: 0.7380712\tbest: 0.7380712 (600)\ttotal: 42.5s\tremaining: 2m 24s\n",
      "900:\ttest: 0.7378952\tbest: 0.7382174 (638)\ttotal: 1m 4s\tremaining: 2m 4s\n"
     ]
    },
    {
     "name": "stderr",
     "output_type": "stream",
     "text": [
      "[I 2025-02-27 03:03:00,714] Trial 9 finished with value: 0.738217367995591 and parameters: {'iterations': 2639, 'depth': 6, 'learning_rate': 0.03968704290444751, 'l2_leaf_reg': 0.30557194377967184}. Best is trial 9 with value: 0.738217367995591.\n"
     ]
    },
    {
     "name": "stdout",
     "output_type": "stream",
     "text": [
      "Stopped by overfitting detector  (300 iterations wait)\n",
      "\n",
      "bestTest = 0.738217368\n",
      "bestIteration = 638\n",
      "\n",
      "Shrink model to first 639 iterations.\n",
      "저장 완료\n",
      "0:\ttest: 0.7142052\tbest: 0.7142052 (0)\ttotal: 78.2ms\tremaining: 3m 50s\n",
      "300:\ttest: 0.7368190\tbest: 0.7368190 (300)\ttotal: 20.3s\tremaining: 2m 57s\n",
      "600:\ttest: 0.7378868\tbest: 0.7378868 (600)\ttotal: 41.7s\tremaining: 2m 42s\n",
      "900:\ttest: 0.7381523\tbest: 0.7381954 (886)\ttotal: 1m 3s\tremaining: 2m 25s\n",
      "1200:\ttest: 0.7380925\tbest: 0.7382124 (1108)\ttotal: 1m 26s\tremaining: 2m 5s\n"
     ]
    },
    {
     "name": "stderr",
     "output_type": "stream",
     "text": [
      "[I 2025-02-27 03:04:42,987] Trial 10 finished with value: 0.7382124083586965 and parameters: {'iterations': 2945, 'depth': 6, 'learning_rate': 0.032580115422505045, 'l2_leaf_reg': 0.05588195113566891}. Best is trial 9 with value: 0.738217367995591.\n"
     ]
    },
    {
     "name": "stdout",
     "output_type": "stream",
     "text": [
      "Stopped by overfitting detector  (300 iterations wait)\n",
      "\n",
      "bestTest = 0.7382124084\n",
      "bestIteration = 1108\n",
      "\n",
      "Shrink model to first 1109 iterations.\n",
      "0:\ttest: 0.7142052\tbest: 0.7142052 (0)\ttotal: 77.1ms\tremaining: 3m 50s\n",
      "300:\ttest: 0.7367129\tbest: 0.7367138 (299)\ttotal: 20.6s\tremaining: 3m 4s\n",
      "600:\ttest: 0.7376812\tbest: 0.7377668 (571)\ttotal: 42.4s\tremaining: 2m 48s\n"
     ]
    },
    {
     "name": "stderr",
     "output_type": "stream",
     "text": [
      "[I 2025-02-27 03:05:45,739] Trial 11 finished with value: 0.7377667756521394 and parameters: {'iterations': 2996, 'depth': 6, 'learning_rate': 0.03250520130108762, 'l2_leaf_reg': 0.07022360666999101}. Best is trial 9 with value: 0.738217367995591.\n"
     ]
    },
    {
     "name": "stdout",
     "output_type": "stream",
     "text": [
      "Stopped by overfitting detector  (300 iterations wait)\n",
      "\n",
      "bestTest = 0.7377667757\n",
      "bestIteration = 571\n",
      "\n",
      "Shrink model to first 572 iterations.\n",
      "0:\ttest: 0.7142052\tbest: 0.7142052 (0)\ttotal: 76ms\tremaining: 3m 39s\n",
      "300:\ttest: 0.7368399\tbest: 0.7368472 (299)\ttotal: 20.3s\tremaining: 2m 54s\n",
      "600:\ttest: 0.7379210\tbest: 0.7379449 (561)\ttotal: 42.2s\tremaining: 2m 40s\n",
      "900:\ttest: 0.7379555\tbest: 0.7380668 (725)\ttotal: 1m 4s\tremaining: 2m 21s\n"
     ]
    },
    {
     "name": "stderr",
     "output_type": "stream",
     "text": [
      "[I 2025-02-27 03:06:59,388] Trial 12 finished with value: 0.7380668316988159 and parameters: {'iterations': 2887, 'depth': 6, 'learning_rate': 0.03326204917552099, 'l2_leaf_reg': 0.5279524076347274}. Best is trial 9 with value: 0.738217367995591.\n"
     ]
    },
    {
     "name": "stdout",
     "output_type": "stream",
     "text": [
      "Stopped by overfitting detector  (300 iterations wait)\n",
      "\n",
      "bestTest = 0.7380668317\n",
      "bestIteration = 725\n",
      "\n",
      "Shrink model to first 726 iterations.\n",
      "0:\ttest: 0.7170462\tbest: 0.7170462 (0)\ttotal: 100ms\tremaining: 4m 28s\n",
      "300:\ttest: 0.7364640\tbest: 0.7365375 (286)\ttotal: 27.5s\tremaining: 3m 37s\n"
     ]
    },
    {
     "name": "stderr",
     "output_type": "stream",
     "text": [
      "[I 2025-02-27 03:07:54,835] Trial 13 finished with value: 0.736537500461814 and parameters: {'iterations': 2680, 'depth': 8, 'learning_rate': 0.03202375503200278, 'l2_leaf_reg': 0.008626221466990533}. Best is trial 9 with value: 0.738217367995591.\n"
     ]
    },
    {
     "name": "stdout",
     "output_type": "stream",
     "text": [
      "Stopped by overfitting detector  (300 iterations wait)\n",
      "\n",
      "bestTest = 0.7365375005\n",
      "bestIteration = 286\n",
      "\n",
      "Shrink model to first 287 iterations.\n",
      "0:\ttest: 0.7170462\tbest: 0.7170462 (0)\ttotal: 98.6ms\tremaining: 4m 31s\n",
      "300:\ttest: 0.7371043\tbest: 0.7371381 (261)\ttotal: 27.8s\tremaining: 3m 46s\n"
     ]
    },
    {
     "name": "stderr",
     "output_type": "stream",
     "text": [
      "[I 2025-02-27 03:08:48,831] Trial 14 finished with value: 0.7371380533235381 and parameters: {'iterations': 2754, 'depth': 8, 'learning_rate': 0.06308101933412968, 'l2_leaf_reg': 0.8010512238758325}. Best is trial 9 with value: 0.738217367995591.\n"
     ]
    },
    {
     "name": "stdout",
     "output_type": "stream",
     "text": [
      "Stopped by overfitting detector  (300 iterations wait)\n",
      "\n",
      "bestTest = 0.7371380533\n",
      "bestIteration = 261\n",
      "\n",
      "Shrink model to first 262 iterations.\n",
      "0:\ttest: 0.7142052\tbest: 0.7142052 (0)\ttotal: 78.2ms\tremaining: 3m 22s\n",
      "300:\ttest: 0.7373087\tbest: 0.7373087 (300)\ttotal: 21s\tremaining: 2m 39s\n",
      "600:\ttest: 0.7375866\tbest: 0.7378369 (386)\ttotal: 43.5s\tremaining: 2m 24s\n"
     ]
    },
    {
     "name": "stderr",
     "output_type": "stream",
     "text": [
      "[I 2025-02-27 03:09:38,948] Trial 15 finished with value: 0.7378369372408421 and parameters: {'iterations': 2590, 'depth': 6, 'learning_rate': 0.042092255830209285, 'l2_leaf_reg': 0.01343217921291673}. Best is trial 9 with value: 0.738217367995591.\n"
     ]
    },
    {
     "name": "stdout",
     "output_type": "stream",
     "text": [
      "Stopped by overfitting detector  (300 iterations wait)\n",
      "\n",
      "bestTest = 0.7378369372\n",
      "bestIteration = 386\n",
      "\n",
      "Shrink model to first 387 iterations.\n",
      "0:\ttest: 0.7170467\tbest: 0.7170467 (0)\ttotal: 96.8ms\tremaining: 4m 35s\n",
      "300:\ttest: 0.7368395\tbest: 0.7368395 (300)\ttotal: 27.1s\tremaining: 3m 49s\n",
      "600:\ttest: 0.7373780\tbest: 0.7373818 (595)\ttotal: 55.9s\tremaining: 3m 28s\n",
      "900:\ttest: 0.7374371\tbest: 0.7376680 (717)\ttotal: 1m 27s\tremaining: 3m 8s\n"
     ]
    },
    {
     "name": "stderr",
     "output_type": "stream",
     "text": [
      "[I 2025-02-27 03:11:18,239] Trial 16 finished with value: 0.7376679998573022 and parameters: {'iterations': 2846, 'depth': 8, 'learning_rate': 0.021805153281447668, 'l2_leaf_reg': 0.18391481706464052}. Best is trial 9 with value: 0.738217367995591.\n"
     ]
    },
    {
     "name": "stdout",
     "output_type": "stream",
     "text": [
      "Stopped by overfitting detector  (300 iterations wait)\n",
      "\n",
      "bestTest = 0.7376679999\n",
      "bestIteration = 717\n",
      "\n",
      "Shrink model to first 718 iterations.\n",
      "0:\ttest: 0.6967030\tbest: 0.6967030 (0)\ttotal: 73.1ms\tremaining: 3m 1s\n",
      "300:\ttest: 0.7376029\tbest: 0.7376029 (300)\ttotal: 18.5s\tremaining: 2m 14s\n",
      "600:\ttest: 0.7379844\tbest: 0.7380155 (587)\ttotal: 37.3s\tremaining: 1m 56s\n",
      "900:\ttest: 0.7379822\tbest: 0.7380501 (704)\ttotal: 56.9s\tremaining: 1m 39s\n"
     ]
    },
    {
     "name": "stderr",
     "output_type": "stream",
     "text": [
      "[I 2025-02-27 03:12:22,124] Trial 17 finished with value: 0.7380501261804691 and parameters: {'iterations': 2482, 'depth': 5, 'learning_rate': 0.05742508707118142, 'l2_leaf_reg': 5.829118289299236}. Best is trial 9 with value: 0.738217367995591.\n"
     ]
    },
    {
     "name": "stdout",
     "output_type": "stream",
     "text": [
      "Stopped by overfitting detector  (300 iterations wait)\n",
      "\n",
      "bestTest = 0.7380501262\n",
      "bestIteration = 704\n",
      "\n",
      "Shrink model to first 705 iterations.\n",
      "0:\ttest: 0.7143590\tbest: 0.7143590 (0)\ttotal: 88.7ms\tremaining: 4m 25s\n",
      "300:\ttest: 0.7366700\tbest: 0.7366700 (300)\ttotal: 24.1s\tremaining: 3m 35s\n",
      "600:\ttest: 0.7377158\tbest: 0.7377158 (600)\ttotal: 49s\tremaining: 3m 15s\n",
      "900:\ttest: 0.7379862\tbest: 0.7382484 (733)\ttotal: 1m 15s\tremaining: 2m 54s\n"
     ]
    },
    {
     "name": "stderr",
     "output_type": "stream",
     "text": [
      "[I 2025-02-27 03:13:49,362] Trial 18 finished with value: 0.7382484004714363 and parameters: {'iterations': 2995, 'depth': 7, 'learning_rate': 0.023816234008989124, 'l2_leaf_reg': 0.01734944121649843}. Best is trial 18 with value: 0.7382484004714363.\n"
     ]
    },
    {
     "name": "stdout",
     "output_type": "stream",
     "text": [
      "Stopped by overfitting detector  (300 iterations wait)\n",
      "\n",
      "bestTest = 0.7382484005\n",
      "bestIteration = 733\n",
      "\n",
      "Shrink model to first 734 iterations.\n",
      "저장 완료\n",
      "0:\ttest: 0.7174390\tbest: 0.7174390 (0)\ttotal: 111ms\tremaining: 5m 3s\n",
      "300:\ttest: 0.7367522\tbest: 0.7368491 (278)\ttotal: 29.6s\tremaining: 3m 59s\n",
      "600:\ttest: 0.7369444\tbest: 0.7369901 (561)\ttotal: 1m\tremaining: 3m 35s\n",
      "900:\ttest: 0.7363455\tbest: 0.7370627 (641)\ttotal: 1m 34s\tremaining: 3m 12s\n"
     ]
    },
    {
     "name": "stderr",
     "output_type": "stream",
     "text": [
      "[I 2025-02-27 03:15:28,701] Trial 19 finished with value: 0.7370627176700848 and parameters: {'iterations': 2737, 'depth': 9, 'learning_rate': 0.021601877221943264, 'l2_leaf_reg': 0.006971472154688638}. Best is trial 18 with value: 0.7382484004714363.\n"
     ]
    },
    {
     "name": "stdout",
     "output_type": "stream",
     "text": [
      "Stopped by overfitting detector  (300 iterations wait)\n",
      "\n",
      "bestTest = 0.7370627177\n",
      "bestIteration = 641\n",
      "\n",
      "Shrink model to first 642 iterations.\n",
      "0:\ttest: 0.7143582\tbest: 0.7143582 (0)\ttotal: 83.2ms\tremaining: 2m 8s\n",
      "300:\ttest: 0.7377404\tbest: 0.7377404 (300)\ttotal: 23.6s\tremaining: 1m 37s\n",
      "600:\ttest: 0.7382219\tbest: 0.7382868 (552)\ttotal: 48.9s\tremaining: 1m 17s\n",
      "900:\ttest: 0.7381350\tbest: 0.7383545 (740)\ttotal: 1m 14s\tremaining: 53.5s\n"
     ]
    },
    {
     "name": "stderr",
     "output_type": "stream",
     "text": [
      "[I 2025-02-27 03:16:55,183] Trial 20 finished with value: 0.7383545065222441 and parameters: {'iterations': 1551, 'depth': 7, 'learning_rate': 0.04279597597675146, 'l2_leaf_reg': 5.210825837988513}. Best is trial 20 with value: 0.7383545065222441.\n"
     ]
    },
    {
     "name": "stdout",
     "output_type": "stream",
     "text": [
      "Stopped by overfitting detector  (300 iterations wait)\n",
      "\n",
      "bestTest = 0.7383545065\n",
      "bestIteration = 740\n",
      "\n",
      "Shrink model to first 741 iterations.\n",
      "저장 완료\n",
      "0:\ttest: 0.7143582\tbest: 0.7143582 (0)\ttotal: 82.7ms\tremaining: 2m 5s\n",
      "300:\ttest: 0.7374602\tbest: 0.7374602 (300)\ttotal: 23.1s\tremaining: 1m 33s\n",
      "600:\ttest: 0.7380665\tbest: 0.7381189 (556)\ttotal: 48.2s\tremaining: 1m 13s\n"
     ]
    },
    {
     "name": "stderr",
     "output_type": "stream",
     "text": [
      "[I 2025-02-27 03:18:05,133] Trial 21 finished with value: 0.7381189178134242 and parameters: {'iterations': 1515, 'depth': 7, 'learning_rate': 0.03961709563460232, 'l2_leaf_reg': 6.036943240037702}. Best is trial 20 with value: 0.7383545065222441.\n"
     ]
    },
    {
     "name": "stdout",
     "output_type": "stream",
     "text": [
      "Stopped by overfitting detector  (300 iterations wait)\n",
      "\n",
      "bestTest = 0.7381189178\n",
      "bestIteration = 556\n",
      "\n",
      "Shrink model to first 557 iterations.\n",
      "0:\ttest: 0.7144075\tbest: 0.7144075 (0)\ttotal: 97.7ms\tremaining: 2m 36s\n",
      "300:\ttest: 0.7369814\tbest: 0.7369814 (300)\ttotal: 25.5s\tremaining: 1m 50s\n",
      "600:\ttest: 0.7376991\tbest: 0.7377068 (578)\ttotal: 51s\tremaining: 1m 25s\n",
      "900:\ttest: 0.7379115\tbest: 0.7379270 (874)\ttotal: 1m 18s\tremaining: 1m 1s\n",
      "1200:\ttest: 0.7379165\tbest: 0.7379499 (982)\ttotal: 1m 46s\tremaining: 35.8s\n"
     ]
    },
    {
     "name": "stderr",
     "output_type": "stream",
     "text": [
      "[I 2025-02-27 03:19:59,679] Trial 22 finished with value: 0.7379498811577287 and parameters: {'iterations': 1604, 'depth': 8, 'learning_rate': 0.0253172469843638, 'l2_leaf_reg': 68.58558645988492}. Best is trial 20 with value: 0.7383545065222441.\n"
     ]
    },
    {
     "name": "stdout",
     "output_type": "stream",
     "text": [
      "Stopped by overfitting detector  (300 iterations wait)\n",
      "\n",
      "bestTest = 0.7379498812\n",
      "bestIteration = 982\n",
      "\n",
      "Shrink model to first 983 iterations.\n",
      "0:\ttest: 0.7143582\tbest: 0.7143582 (0)\ttotal: 84.2ms\tremaining: 3m 2s\n",
      "300:\ttest: 0.7375630\tbest: 0.7375630 (300)\ttotal: 23.9s\tremaining: 2m 27s\n",
      "600:\ttest: 0.7377986\tbest: 0.7379114 (531)\ttotal: 49.3s\tremaining: 2m 8s\n"
     ]
    },
    {
     "name": "stderr",
     "output_type": "stream",
     "text": [
      "[I 2025-02-27 03:21:08,919] Trial 23 finished with value: 0.7379113715031225 and parameters: {'iterations': 2164, 'depth': 7, 'learning_rate': 0.04944348258885028, 'l2_leaf_reg': 2.162783815652442}. Best is trial 20 with value: 0.7383545065222441.\n"
     ]
    },
    {
     "name": "stdout",
     "output_type": "stream",
     "text": [
      "Stopped by overfitting detector  (300 iterations wait)\n",
      "\n",
      "bestTest = 0.7379113715\n",
      "bestIteration = 531\n",
      "\n",
      "Shrink model to first 532 iterations.\n",
      "0:\ttest: 0.6967030\tbest: 0.6967030 (0)\ttotal: 68.7ms\tremaining: 2m 44s\n",
      "300:\ttest: 0.7366467\tbest: 0.7366467 (300)\ttotal: 17.2s\tremaining: 1m 59s\n",
      "600:\ttest: 0.7376952\tbest: 0.7377364 (514)\ttotal: 35.3s\tremaining: 1m 45s\n",
      "900:\ttest: 0.7377721\tbest: 0.7378030 (885)\ttotal: 53.7s\tremaining: 1m 29s\n"
     ]
    },
    {
     "name": "stderr",
     "output_type": "stream",
     "text": [
      "[I 2025-02-27 03:22:20,117] Trial 24 finished with value: 0.7378029861636217 and parameters: {'iterations': 2396, 'depth': 5, 'learning_rate': 0.038657187348447655, 'l2_leaf_reg': 0.24826813538343268}. Best is trial 20 with value: 0.7383545065222441.\n"
     ]
    },
    {
     "name": "stdout",
     "output_type": "stream",
     "text": [
      "Stopped by overfitting detector  (300 iterations wait)\n",
      "\n",
      "bestTest = 0.7378029862\n",
      "bestIteration = 885\n",
      "\n",
      "Shrink model to first 886 iterations.\n",
      "0:\ttest: 0.7144146\tbest: 0.7144146 (0)\ttotal: 84.8ms\tremaining: 2m 30s\n",
      "300:\ttest: 0.7379839\tbest: 0.7379853 (299)\ttotal: 23.5s\tremaining: 1m 55s\n",
      "600:\ttest: 0.7378233\tbest: 0.7380222 (374)\ttotal: 48.5s\tremaining: 1m 34s\n"
     ]
    },
    {
     "name": "stderr",
     "output_type": "stream",
     "text": [
      "[I 2025-02-27 03:23:14,970] Trial 25 finished with value: 0.7380222029085375 and parameters: {'iterations': 1775, 'depth': 7, 'learning_rate': 0.06318271403247899, 'l2_leaf_reg': 20.185739912433704}. Best is trial 20 with value: 0.7383545065222441.\n"
     ]
    },
    {
     "name": "stdout",
     "output_type": "stream",
     "text": [
      "Stopped by overfitting detector  (300 iterations wait)\n",
      "\n",
      "bestTest = 0.7380222029\n",
      "bestIteration = 374\n",
      "\n",
      "Shrink model to first 375 iterations.\n",
      "0:\ttest: 0.7142052\tbest: 0.7142052 (0)\ttotal: 80.2ms\tremaining: 3m 31s\n",
      "300:\ttest: 0.7363698\tbest: 0.7363719 (299)\ttotal: 19.8s\tremaining: 2m 33s\n",
      "600:\ttest: 0.7375424\tbest: 0.7375425 (599)\ttotal: 40.3s\tremaining: 2m 16s\n",
      "900:\ttest: 0.7379698\tbest: 0.7379714 (884)\ttotal: 1m 2s\tremaining: 1m 59s\n",
      "1200:\ttest: 0.7380093\tbest: 0.7380759 (1107)\ttotal: 1m 23s\tremaining: 1m 40s\n"
     ]
    },
    {
     "name": "stderr",
     "output_type": "stream",
     "text": [
      "[I 2025-02-27 03:24:54,328] Trial 26 finished with value: 0.738075885319408 and parameters: {'iterations': 2635, 'depth': 6, 'learning_rate': 0.023045915952723747, 'l2_leaf_reg': 0.027688179224172015}. Best is trial 20 with value: 0.7383545065222441.\n"
     ]
    },
    {
     "name": "stdout",
     "output_type": "stream",
     "text": [
      "Stopped by overfitting detector  (300 iterations wait)\n",
      "\n",
      "bestTest = 0.7380758853\n",
      "bestIteration = 1107\n",
      "\n",
      "Shrink model to first 1108 iterations.\n",
      "0:\ttest: 0.7174388\tbest: 0.7174388 (0)\ttotal: 109ms\tremaining: 5m 4s\n",
      "300:\ttest: 0.7359891\tbest: 0.7359891 (300)\ttotal: 29.8s\tremaining: 4m 7s\n",
      "600:\ttest: 0.7368364\tbest: 0.7368952 (578)\ttotal: 59s\tremaining: 3m 36s\n",
      "900:\ttest: 0.7368623\tbest: 0.7369339 (746)\ttotal: 1m 30s\tremaining: 3m 11s\n",
      "1200:\ttest: 0.7367659\tbest: 0.7369567 (946)\ttotal: 2m 5s\tremaining: 2m 48s\n"
     ]
    },
    {
     "name": "stderr",
     "output_type": "stream",
     "text": [
      "[I 2025-02-27 03:27:05,843] Trial 27 finished with value: 0.7369567228040912 and parameters: {'iterations': 2803, 'depth': 9, 'learning_rate': 0.015031205029540619, 'l2_leaf_reg': 0.1633025671052365}. Best is trial 20 with value: 0.7383545065222441.\n"
     ]
    },
    {
     "name": "stdout",
     "output_type": "stream",
     "text": [
      "Stopped by overfitting detector  (300 iterations wait)\n",
      "\n",
      "bestTest = 0.7369567228\n",
      "bestIteration = 946\n",
      "\n",
      "Shrink model to first 947 iterations.\n",
      "0:\ttest: 0.7174375\tbest: 0.7174375 (0)\ttotal: 224ms\tremaining: 9m 14s\n",
      "300:\ttest: 0.7371294\tbest: 0.7371416 (298)\ttotal: 31.1s\tremaining: 3m 45s\n",
      "600:\ttest: 0.7370887\tbest: 0.7376105 (357)\ttotal: 1m 6s\tremaining: 3m 27s\n"
     ]
    },
    {
     "name": "stderr",
     "output_type": "stream",
     "text": [
      "[I 2025-02-27 03:28:18,900] Trial 28 finished with value: 0.7376104537741351 and parameters: {'iterations': 2481, 'depth': 9, 'learning_rate': 0.045522070286889774, 'l2_leaf_reg': 2.6100593355580464}. Best is trial 20 with value: 0.7383545065222441.\n"
     ]
    },
    {
     "name": "stdout",
     "output_type": "stream",
     "text": [
      "Stopped by overfitting detector  (300 iterations wait)\n",
      "\n",
      "bestTest = 0.7376104538\n",
      "bestIteration = 357\n",
      "\n",
      "Shrink model to first 358 iterations.\n",
      "0:\ttest: 0.6967030\tbest: 0.6967030 (0)\ttotal: 65.7ms\tremaining: 2m 29s\n",
      "300:\ttest: 0.7361224\tbest: 0.7361224 (300)\ttotal: 17.5s\tremaining: 1m 55s\n",
      "600:\ttest: 0.7376491\tbest: 0.7376517 (594)\ttotal: 37.1s\tremaining: 1m 43s\n",
      "900:\ttest: 0.7380601\tbest: 0.7380601 (900)\ttotal: 56.9s\tremaining: 1m 27s\n",
      "1200:\ttest: 0.7380707\tbest: 0.7381525 (1057)\ttotal: 1m 15s\tremaining: 1m 8s\n"
     ]
    },
    {
     "name": "stderr",
     "output_type": "stream",
     "text": [
      "[I 2025-02-27 03:29:44,919] Trial 29 finished with value: 0.7381525313653156 and parameters: {'iterations': 2281, 'depth': 5, 'learning_rate': 0.027171833985445232, 'l2_leaf_reg': 0.4461191020300906}. Best is trial 20 with value: 0.7383545065222441.\n"
     ]
    },
    {
     "name": "stdout",
     "output_type": "stream",
     "text": [
      "Stopped by overfitting detector  (300 iterations wait)\n",
      "\n",
      "bestTest = 0.7381525314\n",
      "bestIteration = 1057\n",
      "\n",
      "Shrink model to first 1058 iterations.\n",
      "0:\ttest: 0.7142267\tbest: 0.7142267 (0)\ttotal: 105ms\tremaining: 4m 14s\n",
      "300:\ttest: 0.7373471\tbest: 0.7373471 (300)\ttotal: 21.1s\tremaining: 2m 27s\n",
      "600:\ttest: 0.7378325\tbest: 0.7378325 (600)\ttotal: 43.9s\tremaining: 2m 12s\n",
      "900:\ttest: 0.7380664\tbest: 0.7380924 (834)\ttotal: 1m 6s\tremaining: 1m 51s\n",
      "1200:\ttest: 0.7380976\tbest: 0.7381319 (944)\ttotal: 1m 29s\tremaining: 1m 29s\n"
     ]
    },
    {
     "name": "stderr",
     "output_type": "stream",
     "text": [
      "[I 2025-02-27 03:31:17,631] Trial 30 finished with value: 0.7381319224658098 and parameters: {'iterations': 2414, 'depth': 6, 'learning_rate': 0.053802346803504354, 'l2_leaf_reg': 28.479141005254295}. Best is trial 20 with value: 0.7383545065222441.\n"
     ]
    },
    {
     "name": "stdout",
     "output_type": "stream",
     "text": [
      "Stopped by overfitting detector  (300 iterations wait)\n",
      "\n",
      "bestTest = 0.7381319225\n",
      "bestIteration = 944\n",
      "\n",
      "Shrink model to first 945 iterations.\n",
      "0:\ttest: 0.7142052\tbest: 0.7142052 (0)\ttotal: 88.7ms\tremaining: 4m 23s\n",
      "300:\ttest: 0.7366989\tbest: 0.7367043 (297)\ttotal: 21.2s\tremaining: 3m 8s\n",
      "600:\ttest: 0.7379814\tbest: 0.7380121 (595)\ttotal: 43.3s\tremaining: 2m 50s\n",
      "900:\ttest: 0.7379475\tbest: 0.7380809 (632)\ttotal: 1m 6s\tremaining: 2m 32s\n"
     ]
    },
    {
     "name": "stderr",
     "output_type": "stream",
     "text": [
      "[I 2025-02-27 03:32:26,294] Trial 31 finished with value: 0.7380808767233924 and parameters: {'iterations': 2976, 'depth': 6, 'learning_rate': 0.03626305798897309, 'l2_leaf_reg': 0.02555157784561531}. Best is trial 20 with value: 0.7383545065222441.\n"
     ]
    },
    {
     "name": "stdout",
     "output_type": "stream",
     "text": [
      "Stopped by overfitting detector  (300 iterations wait)\n",
      "\n",
      "bestTest = 0.7380808767\n",
      "bestIteration = 632\n",
      "\n",
      "Shrink model to first 633 iterations.\n",
      "0:\ttest: 0.7143590\tbest: 0.7143590 (0)\ttotal: 91.7ms\tremaining: 4m 26s\n",
      "300:\ttest: 0.7337394\tbest: 0.7337394 (300)\ttotal: 23.2s\tremaining: 3m 20s\n",
      "600:\ttest: 0.7354687\tbest: 0.7354687 (600)\ttotal: 47.2s\tremaining: 3m\n",
      "900:\ttest: 0.7361317\tbest: 0.7361320 (895)\ttotal: 1m 10s\tremaining: 2m 37s\n",
      "1200:\ttest: 0.7365771\tbest: 0.7365786 (1194)\ttotal: 1m 34s\tremaining: 2m 14s\n",
      "1500:\ttest: 0.7368992\tbest: 0.7368992 (1500)\ttotal: 1m 57s\tremaining: 1m 50s\n",
      "1800:\ttest: 0.7370407\tbest: 0.7370507 (1756)\ttotal: 2m 21s\tremaining: 1m 27s\n",
      "2100:\ttest: 0.7373159\tbest: 0.7373270 (2052)\ttotal: 2m 46s\tremaining: 1m 4s\n",
      "2400:\ttest: 0.7375784\tbest: 0.7375934 (2386)\ttotal: 3m 12s\tremaining: 40.6s\n",
      "2700:\ttest: 0.7376478\tbest: 0.7376591 (2648)\ttotal: 3m 37s\tremaining: 16.6s\n"
     ]
    },
    {
     "name": "stderr",
     "output_type": "stream",
     "text": [
      "[I 2025-02-27 03:36:22,005] Trial 32 finished with value: 0.7376740356043636 and parameters: {'iterations': 2907, 'depth': 7, 'learning_rate': 0.006795618376894345, 'l2_leaf_reg': 0.002637864590203411}. Best is trial 20 with value: 0.7383545065222441.\n"
     ]
    },
    {
     "name": "stdout",
     "output_type": "stream",
     "text": [
      "2906:\ttest: 0.7376382\tbest: 0.7376740 (2861)\ttotal: 3m 55s\tremaining: 0us\n",
      "\n",
      "bestTest = 0.7376740356\n",
      "bestIteration = 2861\n",
      "\n",
      "Shrink model to first 2862 iterations.\n",
      "0:\ttest: 0.7142052\tbest: 0.7142052 (0)\ttotal: 80.6ms\tremaining: 3m 51s\n",
      "300:\ttest: 0.7356366\tbest: 0.7356366 (300)\ttotal: 19.8s\tremaining: 2m 49s\n",
      "600:\ttest: 0.7369056\tbest: 0.7369056 (600)\ttotal: 40.3s\tremaining: 2m 32s\n",
      "900:\ttest: 0.7376852\tbest: 0.7376852 (900)\ttotal: 1m 1s\tremaining: 2m 14s\n",
      "1200:\ttest: 0.7380790\tbest: 0.7381152 (1181)\ttotal: 1m 24s\tremaining: 1m 57s\n",
      "1500:\ttest: 0.7381047\tbest: 0.7381517 (1305)\ttotal: 1m 46s\tremaining: 1m 37s\n"
     ]
    },
    {
     "name": "stderr",
     "output_type": "stream",
     "text": [
      "[I 2025-02-27 03:38:16,220] Trial 33 finished with value: 0.7381516537994599 and parameters: {'iterations': 2877, 'depth': 6, 'learning_rate': 0.016876781233866767, 'l2_leaf_reg': 0.05238453200253344}. Best is trial 20 with value: 0.7383545065222441.\n"
     ]
    },
    {
     "name": "stdout",
     "output_type": "stream",
     "text": [
      "Stopped by overfitting detector  (300 iterations wait)\n",
      "\n",
      "bestTest = 0.7381516538\n",
      "bestIteration = 1305\n",
      "\n",
      "Shrink model to first 1306 iterations.\n",
      "0:\ttest: 0.7143590\tbest: 0.7143590 (0)\ttotal: 88.8ms\tremaining: 4m 26s\n",
      "300:\ttest: 0.7374072\tbest: 0.7374072 (300)\ttotal: 23.9s\tremaining: 3m 34s\n",
      "600:\ttest: 0.7382160\tbest: 0.7384387 (563)\ttotal: 51.1s\tremaining: 3m 24s\n"
     ]
    },
    {
     "name": "stderr",
     "output_type": "stream",
     "text": [
      "[I 2025-02-27 03:39:31,604] Trial 34 finished with value: 0.7384386535722298 and parameters: {'iterations': 3000, 'depth': 7, 'learning_rate': 0.029419321332189628, 'l2_leaf_reg': 0.022876379037550184}. Best is trial 34 with value: 0.7384386535722298.\n"
     ]
    },
    {
     "name": "stdout",
     "output_type": "stream",
     "text": [
      "Stopped by overfitting detector  (300 iterations wait)\n",
      "\n",
      "bestTest = 0.7384386536\n",
      "bestIteration = 563\n",
      "\n",
      "Shrink model to first 564 iterations.\n",
      "저장 완료\n",
      "0:\ttest: 0.7170462\tbest: 0.7170462 (0)\ttotal: 95ms\tremaining: 4m 18s\n",
      "300:\ttest: 0.7366123\tbest: 0.7367009 (280)\ttotal: 27.4s\tremaining: 3m 40s\n",
      "600:\ttest: 0.7356726\tbest: 0.7368262 (336)\ttotal: 57.1s\tremaining: 3m 21s\n"
     ]
    },
    {
     "name": "stderr",
     "output_type": "stream",
     "text": [
      "[I 2025-02-27 03:40:30,445] Trial 35 finished with value: 0.736826195803002 and parameters: {'iterations': 2719, 'depth': 8, 'learning_rate': 0.043407492843738626, 'l2_leaf_reg': 0.004418637813967526}. Best is trial 34 with value: 0.7384386535722298.\n"
     ]
    },
    {
     "name": "stdout",
     "output_type": "stream",
     "text": [
      "Stopped by overfitting detector  (300 iterations wait)\n",
      "\n",
      "bestTest = 0.7368261958\n",
      "bestIteration = 336\n",
      "\n",
      "Shrink model to first 337 iterations.\n",
      "0:\ttest: 0.7143590\tbest: 0.7143590 (0)\ttotal: 83ms\tremaining: 3m 51s\n",
      "300:\ttest: 0.7365656\tbest: 0.7365656 (300)\ttotal: 22.7s\tremaining: 3m 7s\n",
      "600:\ttest: 0.7375180\tbest: 0.7376432 (568)\ttotal: 47.2s\tremaining: 2m 52s\n"
     ]
    },
    {
     "name": "stderr",
     "output_type": "stream",
     "text": [
      "[I 2025-02-27 03:41:40,426] Trial 36 finished with value: 0.7376431659348535 and parameters: {'iterations': 2792, 'depth': 7, 'learning_rate': 0.027335129823973004, 'l2_leaf_reg': 0.018797736439279882}. Best is trial 34 with value: 0.7384386535722298.\n"
     ]
    },
    {
     "name": "stdout",
     "output_type": "stream",
     "text": [
      "Stopped by overfitting detector  (300 iterations wait)\n",
      "\n",
      "bestTest = 0.7376431659\n",
      "bestIteration = 568\n",
      "\n",
      "Shrink model to first 569 iterations.\n",
      "0:\ttest: 0.7143590\tbest: 0.7143590 (0)\ttotal: 83.1ms\tremaining: 3m 33s\n",
      "300:\ttest: 0.7342037\tbest: 0.7342088 (298)\ttotal: 22s\tremaining: 2m 45s\n",
      "600:\ttest: 0.7359224\tbest: 0.7359399 (594)\ttotal: 44.5s\tremaining: 2m 25s\n",
      "900:\ttest: 0.7366001\tbest: 0.7366106 (896)\ttotal: 1m 7s\tremaining: 2m 4s\n",
      "1200:\ttest: 0.7369235\tbest: 0.7369235 (1200)\ttotal: 1m 30s\tremaining: 1m 43s\n",
      "1500:\ttest: 0.7372480\tbest: 0.7372494 (1492)\ttotal: 1m 54s\tremaining: 1m 21s\n",
      "1800:\ttest: 0.7375423\tbest: 0.7375450 (1786)\ttotal: 2m 18s\tremaining: 59.3s\n",
      "2100:\ttest: 0.7378011\tbest: 0.7378160 (2082)\ttotal: 2m 44s\tremaining: 36.7s\n"
     ]
    },
    {
     "name": "stderr",
     "output_type": "stream",
     "text": [
      "[I 2025-02-27 03:44:49,040] Trial 37 finished with value: 0.7378160265539833 and parameters: {'iterations': 2570, 'depth': 7, 'learning_rate': 0.007854056834208062, 'l2_leaf_reg': 0.00021292996169446033}. Best is trial 34 with value: 0.7384386535722298.\n"
     ]
    },
    {
     "name": "stdout",
     "output_type": "stream",
     "text": [
      "Stopped by overfitting detector  (300 iterations wait)\n",
      "\n",
      "bestTest = 0.7378160266\n",
      "bestIteration = 2082\n",
      "\n",
      "Shrink model to first 2083 iterations.\n",
      "0:\ttest: 0.7170468\tbest: 0.7170468 (0)\ttotal: 97ms\tremaining: 3m 34s\n",
      "300:\ttest: 0.7341237\tbest: 0.7360561 (103)\ttotal: 29.4s\tremaining: 3m 7s\n"
     ]
    },
    {
     "name": "stderr",
     "output_type": "stream",
     "text": [
      "[I 2025-02-27 03:45:29,003] Trial 38 finished with value: 0.7360561337501218 and parameters: {'iterations': 2216, 'depth': 8, 'learning_rate': 0.08029122983652683, 'l2_leaf_reg': 0.0006345578533849941}. Best is trial 34 with value: 0.7384386535722298.\n"
     ]
    },
    {
     "name": "stdout",
     "output_type": "stream",
     "text": [
      "Stopped by overfitting detector  (300 iterations wait)\n",
      "\n",
      "bestTest = 0.7360561338\n",
      "bestIteration = 103\n",
      "\n",
      "Shrink model to first 104 iterations.\n",
      "0:\ttest: 0.6967030\tbest: 0.6967030 (0)\ttotal: 70ms\tremaining: 2m 26s\n",
      "300:\ttest: 0.7348853\tbest: 0.7348853 (300)\ttotal: 17s\tremaining: 1m 41s\n",
      "600:\ttest: 0.7363513\tbest: 0.7363513 (600)\ttotal: 34.8s\tremaining: 1m 26s\n",
      "900:\ttest: 0.7373087\tbest: 0.7373087 (900)\ttotal: 53.6s\tremaining: 1m 11s\n",
      "1200:\ttest: 0.7378507\tbest: 0.7378764 (1182)\ttotal: 1m 12s\tremaining: 53.8s\n",
      "1500:\ttest: 0.7379223\tbest: 0.7379381 (1354)\ttotal: 1m 30s\tremaining: 36.1s\n",
      "1800:\ttest: 0.7379545\tbest: 0.7379869 (1713)\ttotal: 1m 49s\tremaining: 18s\n"
     ]
    },
    {
     "name": "stderr",
     "output_type": "stream",
     "text": [
      "[I 2025-02-27 03:47:37,906] Trial 39 finished with value: 0.7380115291663658 and parameters: {'iterations': 2097, 'depth': 5, 'learning_rate': 0.015934450533077082, 'l2_leaf_reg': 0.0017967080652414842}. Best is trial 34 with value: 0.7384386535722298.\n",
      "[I 2025-02-27 03:47:37,909] A new study created in memory with name: no-name-814dd189-b01a-423c-b65f-afe5176bb02c\n"
     ]
    },
    {
     "name": "stdout",
     "output_type": "stream",
     "text": [
      "2096:\ttest: 0.7379880\tbest: 0.7380115 (2083)\ttotal: 2m 8s\tremaining: 0us\n",
      "\n",
      "bestTest = 0.7380115292\n",
      "bestIteration = 2083\n",
      "\n",
      "Shrink model to first 2084 iterations.\n"
     ]
    },
    {
     "name": "stderr",
     "output_type": "stream",
     "text": [
      "[I 2025-02-27 03:48:01,404] Trial 0 finished with value: 0.726927642098243 and parameters: {'num_iterations': 2366, 'objective': 'binary', 'metric': 'auc', 'verbose': -1, 'learning_rate': 0.0652646236447618, 'n_estimators': 236, 'min_child_samples': 45, 'subsample': 0.7, 'colsample_bytree': 0.5}. Best is trial 0 with value: 0.726927642098243.\n",
      "[I 2025-02-27 03:48:18,382] Trial 1 finished with value: 0.7371770156591739 and parameters: {'num_iterations': 1510, 'objective': 'binary', 'metric': 'auc', 'verbose': -1, 'learning_rate': 0.005231880959249543, 'n_estimators': 1411, 'min_child_samples': 10, 'subsample': 1.0, 'colsample_bytree': 0.5}. Best is trial 1 with value: 0.7371770156591739.\n",
      "[I 2025-02-27 03:48:38,182] Trial 2 finished with value: 0.7364619424387322 and parameters: {'num_iterations': 2334, 'objective': 'binary', 'metric': 'auc', 'verbose': -1, 'learning_rate': 0.006578527777128852, 'n_estimators': 931, 'min_child_samples': 15, 'subsample': 0.5, 'colsample_bytree': 1.0}. Best is trial 1 with value: 0.7371770156591739.\n",
      "[I 2025-02-27 03:48:55,456] Trial 3 finished with value: 0.7370967640485746 and parameters: {'num_iterations': 1620, 'objective': 'binary', 'metric': 'auc', 'verbose': -1, 'learning_rate': 0.0058823249237283685, 'n_estimators': 837, 'min_child_samples': 10, 'subsample': 0.9, 'colsample_bytree': 0.6}. Best is trial 1 with value: 0.7371770156591739.\n",
      "[I 2025-02-27 03:49:12,717] Trial 4 finished with value: 0.7367177032495732 and parameters: {'num_iterations': 1997, 'objective': 'binary', 'metric': 'auc', 'verbose': -1, 'learning_rate': 0.010907507425244923, 'n_estimators': 1597, 'min_child_samples': 50, 'subsample': 0.6, 'colsample_bytree': 0.8}. Best is trial 1 with value: 0.7371770156591739.\n",
      "[I 2025-02-27 03:49:35,710] Trial 5 finished with value: 0.7337434618167046 and parameters: {'num_iterations': 2909, 'objective': 'binary', 'metric': 'auc', 'verbose': -1, 'learning_rate': 0.019760591962733942, 'n_estimators': 612, 'min_child_samples': 30, 'subsample': 0.7, 'colsample_bytree': 0.9}. Best is trial 1 with value: 0.7371770156591739.\n",
      "[I 2025-02-27 03:49:56,446] Trial 6 finished with value: 0.7352440954589612 and parameters: {'num_iterations': 2639, 'objective': 'binary', 'metric': 'auc', 'verbose': -1, 'learning_rate': 0.017862094446750985, 'n_estimators': 794, 'min_child_samples': 35, 'subsample': 1.0, 'colsample_bytree': 0.8}. Best is trial 1 with value: 0.7371770156591739.\n",
      "[I 2025-02-27 03:50:13,276] Trial 7 finished with value: 0.7374019901891156 and parameters: {'num_iterations': 1580, 'objective': 'binary', 'metric': 'auc', 'verbose': -1, 'learning_rate': 0.01776722177611332, 'n_estimators': 529, 'min_child_samples': 25, 'subsample': 0.8, 'colsample_bytree': 0.5}. Best is trial 7 with value: 0.7374019901891156.\n",
      "[I 2025-02-27 03:50:31,164] Trial 8 finished with value: 0.7342909596675815 and parameters: {'num_iterations': 1911, 'objective': 'binary', 'metric': 'auc', 'verbose': -1, 'learning_rate': 0.0304747553332844, 'n_estimators': 1328, 'min_child_samples': 10, 'subsample': 0.7, 'colsample_bytree': 0.6}. Best is trial 7 with value: 0.7374019901891156.\n",
      "[I 2025-02-27 03:50:58,642] Trial 9 finished with value: 0.7344528050483242 and parameters: {'num_iterations': 2739, 'objective': 'binary', 'metric': 'auc', 'verbose': -1, 'learning_rate': 0.02691531614176271, 'n_estimators': 1438, 'min_child_samples': 20, 'subsample': 0.6, 'colsample_bytree': 0.5}. Best is trial 7 with value: 0.7374019901891156.\n",
      "[I 2025-02-27 03:51:13,401] Trial 10 finished with value: 0.7301244437622285 and parameters: {'num_iterations': 1887, 'objective': 'binary', 'metric': 'auc', 'verbose': -1, 'learning_rate': 0.06041926179969452, 'n_estimators': 1917, 'min_child_samples': 25, 'subsample': 0.9, 'colsample_bytree': 0.7}. Best is trial 7 with value: 0.7374019901891156.\n",
      "[I 2025-02-27 03:51:29,810] Trial 11 finished with value: 0.737620103027661 and parameters: {'num_iterations': 1513, 'objective': 'binary', 'metric': 'auc', 'verbose': -1, 'learning_rate': 0.009791292266126196, 'n_estimators': 299, 'min_child_samples': 35, 'subsample': 1.0, 'colsample_bytree': 0.5}. Best is trial 11 with value: 0.737620103027661.\n",
      "[I 2025-02-27 03:51:46,432] Trial 12 finished with value: 0.7373027220043865 and parameters: {'num_iterations': 1717, 'objective': 'binary', 'metric': 'auc', 'verbose': -1, 'learning_rate': 0.011289817881613116, 'n_estimators': 185, 'min_child_samples': 35, 'subsample': 0.9, 'colsample_bytree': 0.6}. Best is trial 11 with value: 0.737620103027661.\n",
      "[I 2025-02-27 03:52:04,032] Trial 13 finished with value: 0.7364570225106999 and parameters: {'num_iterations': 2094, 'objective': 'binary', 'metric': 'auc', 'verbose': -1, 'learning_rate': 0.011556309070496642, 'n_estimators': 482, 'min_child_samples': 40, 'subsample': 0.8, 'colsample_bytree': 0.7}. Best is trial 11 with value: 0.737620103027661.\n",
      "[I 2025-02-27 03:52:22,247] Trial 14 finished with value: 0.7335900664818479 and parameters: {'num_iterations': 1759, 'objective': 'binary', 'metric': 'auc', 'verbose': -1, 'learning_rate': 0.0416859307364196, 'n_estimators': 445, 'min_child_samples': 25, 'subsample': 0.8, 'colsample_bytree': 0.5}. Best is trial 11 with value: 0.737620103027661.\n",
      "[I 2025-02-27 03:52:36,910] Trial 15 finished with value: 0.7372751719957601 and parameters: {'num_iterations': 1504, 'objective': 'binary', 'metric': 'auc', 'verbose': -1, 'learning_rate': 0.014832479053078404, 'n_estimators': 148, 'min_child_samples': 30, 'subsample': 1.0, 'colsample_bytree': 0.6}. Best is trial 11 with value: 0.737620103027661.\n",
      "[I 2025-02-27 03:52:55,824] Trial 16 finished with value: 0.7370326580613644 and parameters: {'num_iterations': 2212, 'objective': 'binary', 'metric': 'auc', 'verbose': -1, 'learning_rate': 0.008197866218147856, 'n_estimators': 1094, 'min_child_samples': 40, 'subsample': 0.8, 'colsample_bytree': 0.7}. Best is trial 11 with value: 0.737620103027661.\n",
      "[I 2025-02-27 03:53:13,782] Trial 17 finished with value: 0.7265838546815748 and parameters: {'num_iterations': 1780, 'objective': 'binary', 'metric': 'auc', 'verbose': -1, 'learning_rate': 0.09684432338216772, 'n_estimators': 462, 'min_child_samples': 20, 'subsample': 0.9, 'colsample_bytree': 0.5}. Best is trial 11 with value: 0.737620103027661.\n",
      "[I 2025-02-27 03:53:30,564] Trial 18 finished with value: 0.737458801658331 and parameters: {'num_iterations': 1627, 'objective': 'binary', 'metric': 'auc', 'verbose': -1, 'learning_rate': 0.008549185230079803, 'n_estimators': 646, 'min_child_samples': 30, 'subsample': 0.5, 'colsample_bytree': 0.6}. Best is trial 11 with value: 0.737620103027661.\n",
      "[I 2025-02-27 03:53:55,428] Trial 19 finished with value: 0.737294192540776 and parameters: {'num_iterations': 2510, 'objective': 'binary', 'metric': 'auc', 'verbose': -1, 'learning_rate': 0.008293969299371198, 'n_estimators': 687, 'min_child_samples': 35, 'subsample': 0.5, 'colsample_bytree': 0.6}. Best is trial 11 with value: 0.737620103027661.\n",
      "[I 2025-02-27 03:54:13,866] Trial 20 finished with value: 0.7369055936730631 and parameters: {'num_iterations': 2067, 'objective': 'binary', 'metric': 'auc', 'verbose': -1, 'learning_rate': 0.008342914784154283, 'n_estimators': 1055, 'min_child_samples': 50, 'subsample': 0.6, 'colsample_bytree': 0.7}. Best is trial 11 with value: 0.737620103027661.\n",
      "[I 2025-02-27 03:54:31,717] Trial 21 finished with value: 0.7374364535106589 and parameters: {'num_iterations': 1635, 'objective': 'binary', 'metric': 'auc', 'verbose': -1, 'learning_rate': 0.014693204710669958, 'n_estimators': 354, 'min_child_samples': 30, 'subsample': 0.5, 'colsample_bytree': 0.5}. Best is trial 11 with value: 0.737620103027661.\n",
      "[I 2025-02-27 03:54:48,530] Trial 22 finished with value: 0.7371466105833521 and parameters: {'num_iterations': 1668, 'objective': 'binary', 'metric': 'auc', 'verbose': -1, 'learning_rate': 0.013815670130705473, 'n_estimators': 379, 'min_child_samples': 30, 'subsample': 0.5, 'colsample_bytree': 0.6}. Best is trial 11 with value: 0.737620103027661.\n",
      "[I 2025-02-27 03:55:09,213] Trial 23 finished with value: 0.7375445807425551 and parameters: {'num_iterations': 1835, 'objective': 'binary', 'metric': 'auc', 'verbose': -1, 'learning_rate': 0.009474143010812014, 'n_estimators': 312, 'min_child_samples': 40, 'subsample': 0.6, 'colsample_bytree': 0.5}. Best is trial 11 with value: 0.737620103027661.\n",
      "[I 2025-02-27 03:55:27,618] Trial 24 finished with value: 0.7374331695877512 and parameters: {'num_iterations': 1790, 'objective': 'binary', 'metric': 'auc', 'verbose': -1, 'learning_rate': 0.007307095600285401, 'n_estimators': 273, 'min_child_samples': 40, 'subsample': 0.6, 'colsample_bytree': 0.6}. Best is trial 11 with value: 0.737620103027661.\n",
      "[I 2025-02-27 03:55:48,912] Trial 25 finished with value: 0.737693806646876 and parameters: {'num_iterations': 1893, 'objective': 'binary', 'metric': 'auc', 'verbose': -1, 'learning_rate': 0.009812093880510627, 'n_estimators': 654, 'min_child_samples': 45, 'subsample': 0.6, 'colsample_bytree': 0.5}. Best is trial 25 with value: 0.737693806646876.\n",
      "[I 2025-02-27 03:56:09,622] Trial 26 finished with value: 0.7360475685485353 and parameters: {'num_iterations': 1918, 'objective': 'binary', 'metric': 'auc', 'verbose': -1, 'learning_rate': 0.02392211692251072, 'n_estimators': 122, 'min_child_samples': 45, 'subsample': 0.7, 'colsample_bytree': 0.5}. Best is trial 25 with value: 0.737693806646876.\n",
      "[I 2025-02-27 03:56:28,492] Trial 27 finished with value: 0.7359187847664987 and parameters: {'num_iterations': 2171, 'objective': 'binary', 'metric': 'auc', 'verbose': -1, 'learning_rate': 0.010177422433063079, 'n_estimators': 781, 'min_child_samples': 45, 'subsample': 0.6, 'colsample_bytree': 1.0}. Best is trial 25 with value: 0.737693806646876.\n",
      "[I 2025-02-27 03:56:44,903] Trial 28 finished with value: 0.7364208318536488 and parameters: {'num_iterations': 1825, 'objective': 'binary', 'metric': 'auc', 'verbose': -1, 'learning_rate': 0.006409418299074135, 'n_estimators': 328, 'min_child_samples': 40, 'subsample': 0.6, 'colsample_bytree': 0.9}. Best is trial 25 with value: 0.737693806646876.\n",
      "[I 2025-02-27 03:57:09,186] Trial 29 finished with value: 0.732620646086061 and parameters: {'num_iterations': 2362, 'objective': 'binary', 'metric': 'auc', 'verbose': -1, 'learning_rate': 0.038420156470739396, 'n_estimators': 281, 'min_child_samples': 45, 'subsample': 0.7, 'colsample_bytree': 0.5}. Best is trial 25 with value: 0.737693806646876.\n",
      "[I 2025-02-27 03:57:31,151] Trial 30 finished with value: 0.7373861622366242 and parameters: {'num_iterations': 2018, 'objective': 'binary', 'metric': 'auc', 'verbose': -1, 'learning_rate': 0.013135683404020793, 'n_estimators': 577, 'min_child_samples': 50, 'subsample': 0.6, 'colsample_bytree': 0.5}. Best is trial 25 with value: 0.737693806646876.\n",
      "[I 2025-02-27 03:57:47,610] Trial 31 finished with value: 0.7372751561122152 and parameters: {'num_iterations': 1590, 'objective': 'binary', 'metric': 'auc', 'verbose': -1, 'learning_rate': 0.00938910873912852, 'n_estimators': 663, 'min_child_samples': 35, 'subsample': 0.5, 'colsample_bytree': 0.6}. Best is trial 25 with value: 0.737693806646876.\n",
      "[I 2025-02-27 03:58:05,005] Trial 32 finished with value: 0.737283832498616 and parameters: {'num_iterations': 1500, 'objective': 'binary', 'metric': 'auc', 'verbose': -1, 'learning_rate': 0.005323894816149201, 'n_estimators': 984, 'min_child_samples': 35, 'subsample': 0.5, 'colsample_bytree': 0.5}. Best is trial 25 with value: 0.737693806646876.\n",
      "[I 2025-02-27 03:58:24,634] Trial 33 finished with value: 0.7373253520849805 and parameters: {'num_iterations': 1682, 'objective': 'binary', 'metric': 'auc', 'verbose': -1, 'learning_rate': 0.007057126638043975, 'n_estimators': 697, 'min_child_samples': 40, 'subsample': 0.5, 'colsample_bytree': 0.5}. Best is trial 25 with value: 0.737693806646876.\n",
      "[I 2025-02-27 03:58:43,376] Trial 34 finished with value: 0.7374769724336948 and parameters: {'num_iterations': 1827, 'objective': 'binary', 'metric': 'auc', 'verbose': -1, 'learning_rate': 0.00927309554709288, 'n_estimators': 904, 'min_child_samples': 45, 'subsample': 0.6, 'colsample_bytree': 0.6}. Best is trial 25 with value: 0.737693806646876.\n",
      "[I 2025-02-27 03:59:06,018] Trial 35 finished with value: 0.7374622086787117 and parameters: {'num_iterations': 1961, 'objective': 'binary', 'metric': 'auc', 'verbose': -1, 'learning_rate': 0.0054436542664284115, 'n_estimators': 877, 'min_child_samples': 45, 'subsample': 0.7, 'colsample_bytree': 0.5}. Best is trial 25 with value: 0.737693806646876.\n",
      "[I 2025-02-27 03:59:24,888] Trial 36 finished with value: 0.7372468834022959 and parameters: {'num_iterations': 1853, 'objective': 'binary', 'metric': 'auc', 'verbose': -1, 'learning_rate': 0.01143167790073771, 'n_estimators': 1129, 'min_child_samples': 50, 'subsample': 0.7, 'colsample_bytree': 0.6}. Best is trial 25 with value: 0.737693806646876.\n",
      "[I 2025-02-27 03:59:49,057] Trial 37 finished with value: 0.7375308097091281 and parameters: {'num_iterations': 2141, 'objective': 'binary', 'metric': 'auc', 'verbose': -1, 'learning_rate': 0.006458930226669993, 'n_estimators': 1169, 'min_child_samples': 45, 'subsample': 0.6, 'colsample_bytree': 0.5}. Best is trial 25 with value: 0.737693806646876.\n",
      "[I 2025-02-27 04:00:13,699] Trial 38 finished with value: 0.7375997164977838 and parameters: {'num_iterations': 2160, 'objective': 'binary', 'metric': 'auc', 'verbose': -1, 'learning_rate': 0.006243330311749513, 'n_estimators': 1598, 'min_child_samples': 40, 'subsample': 1.0, 'colsample_bytree': 0.5}. Best is trial 25 with value: 0.737693806646876.\n",
      "[I 2025-02-27 04:00:34,318] Trial 39 finished with value: 0.7368152996912016 and parameters: {'num_iterations': 2295, 'objective': 'binary', 'metric': 'auc', 'verbose': -1, 'learning_rate': 0.005029012744114815, 'n_estimators': 1749, 'min_child_samples': 40, 'subsample': 1.0, 'colsample_bytree': 0.8}. Best is trial 25 with value: 0.737693806646876.\n"
     ]
    },
    {
     "name": "stdout",
     "output_type": "stream",
     "text": [
      "Cat val score : 0.7384386535722299\n",
      "LGBM val score : 0.7376200196390503\n",
      "Ensemble val score : 0.7385863665688992\n"
     ]
    },
    {
     "name": "stderr",
     "output_type": "stream",
     "text": [
      "[I 2025-02-27 04:00:57,134] A new study created in memory with name: no-name-42b97237-c381-4c10-8afa-280b05714ce8\n"
     ]
    },
    {
     "name": "stdout",
     "output_type": "stream",
     "text": [
      "==================================================\n",
      "0:\ttest: 0.7224888\tbest: 0.7224888 (0)\ttotal: 184ms\tremaining: 7m 14s\n",
      "300:\ttest: 0.7398206\tbest: 0.7398206 (300)\ttotal: 42s\tremaining: 4m 47s\n",
      "600:\ttest: 0.7410867\tbest: 0.7410867 (600)\ttotal: 1m 27s\tremaining: 4m 17s\n",
      "900:\ttest: 0.7412637\tbest: 0.7412872 (824)\ttotal: 2m 14s\tremaining: 3m 39s\n",
      "1200:\ttest: 0.7413825\tbest: 0.7413897 (1187)\ttotal: 3m 4s\tremaining: 2m 59s\n",
      "1500:\ttest: 0.7414562\tbest: 0.7414562 (1500)\ttotal: 3m 56s\tremaining: 2m 16s\n",
      "1800:\ttest: 0.7413514\tbest: 0.7414644 (1515)\ttotal: 4m 52s\tremaining: 1m 31s\n"
     ]
    },
    {
     "name": "stderr",
     "output_type": "stream",
     "text": [
      "[I 2025-02-27 04:05:52,869] Trial 0 finished with value: 0.7414644132829766 and parameters: {'iterations': 2366, 'depth': 10, 'learning_rate': 0.01181021951839225, 'l2_leaf_reg': 9.980783802743254}. Best is trial 0 with value: 0.7414644132829766.\n"
     ]
    },
    {
     "name": "stdout",
     "output_type": "stream",
     "text": [
      "Stopped by overfitting detector  (300 iterations wait)\n",
      "\n",
      "bestTest = 0.7414644133\n",
      "bestIteration = 1515\n",
      "\n",
      "Shrink model to first 1516 iterations.\n",
      "저장 완료\n",
      "0:\ttest: 0.6937968\tbest: 0.6937968 (0)\ttotal: 64.4ms\tremaining: 2m 21s\n",
      "300:\ttest: 0.7297150\tbest: 0.7297150 (300)\ttotal: 14.3s\tremaining: 1m 29s\n"
     ]
    },
    {
     "name": "stderr",
     "output_type": "stream",
     "text": [
      "Training has stopped (degenerate solution on iteration 351, probably too small l2-regularization, try to increase it)\n",
      "[I 2025-02-27 04:06:09,759] Trial 1 finished with value: 0.7308940372505343 and parameters: {'iterations': 2193, 'depth': 4, 'learning_rate': 0.005671430811678843, 'l2_leaf_reg': 0.00012325230809466137}. Best is trial 0 with value: 0.7414644132829766.\n"
     ]
    },
    {
     "name": "stdout",
     "output_type": "stream",
     "text": [
      "\n",
      "bestTest = 0.7308940373\n",
      "bestIteration = 350\n",
      "\n",
      "Shrink model to first 351 iterations.\n",
      "0:\ttest: 0.6937968\tbest: 0.6937968 (0)\ttotal: 152ms\tremaining: 6m 24s\n",
      "300:\ttest: 0.7411015\tbest: 0.7411634 (236)\ttotal: 16s\tremaining: 1m 59s\n",
      "600:\ttest: 0.7410943\tbest: 0.7412081 (316)\ttotal: 32.9s\tremaining: 1m 45s\n"
     ]
    },
    {
     "name": "stderr",
     "output_type": "stream",
     "text": [
      "[I 2025-02-27 04:06:43,789] Trial 2 finished with value: 0.7412081084607228 and parameters: {'iterations': 2535, 'depth': 4, 'learning_rate': 0.09275339199839054, 'l2_leaf_reg': 0.0008705394248343123}. Best is trial 0 with value: 0.7414644132829766.\n"
     ]
    },
    {
     "name": "stdout",
     "output_type": "stream",
     "text": [
      "Stopped by overfitting detector  (300 iterations wait)\n",
      "\n",
      "bestTest = 0.7412081085\n",
      "bestIteration = 316\n",
      "\n",
      "Shrink model to first 317 iterations.\n",
      "0:\ttest: 0.6937968\tbest: 0.6937968 (0)\ttotal: 64.7ms\tremaining: 2m 31s\n",
      "300:\ttest: 0.7403832\tbest: 0.7403839 (299)\ttotal: 15.6s\tremaining: 1m 45s\n",
      "600:\ttest: 0.7410100\tbest: 0.7410325 (586)\ttotal: 32.1s\tremaining: 1m 32s\n",
      "900:\ttest: 0.7410768\tbest: 0.7412316 (751)\ttotal: 48.7s\tremaining: 1m 17s\n"
     ]
    },
    {
     "name": "stderr",
     "output_type": "stream",
     "text": [
      "[I 2025-02-27 04:07:41,274] Trial 3 finished with value: 0.7412316478742623 and parameters: {'iterations': 2334, 'depth': 4, 'learning_rate': 0.04657568321363276, 'l2_leaf_reg': 0.0008640473331457248}. Best is trial 0 with value: 0.7414644132829766.\n"
     ]
    },
    {
     "name": "stdout",
     "output_type": "stream",
     "text": [
      "Stopped by overfitting detector  (300 iterations wait)\n",
      "\n",
      "bestTest = 0.7412316479\n",
      "bestIteration = 751\n",
      "\n",
      "Shrink model to first 752 iterations.\n",
      "0:\ttest: 0.7225050\tbest: 0.7225050 (0)\ttotal: 135ms\tremaining: 3m 55s\n",
      "300:\ttest: 0.7393968\tbest: 0.7394367 (292)\ttotal: 43s\tremaining: 3m 25s\n",
      "600:\ttest: 0.7398110\tbest: 0.7399815 (542)\ttotal: 1m 26s\tremaining: 2m 45s\n"
     ]
    },
    {
     "name": "stderr",
     "output_type": "stream",
     "text": [
      "[I 2025-02-27 04:09:44,760] Trial 4 finished with value: 0.7399815493565751 and parameters: {'iterations': 1742, 'depth': 10, 'learning_rate': 0.012622767482095846, 'l2_leaf_reg': 0.00021158816350109617}. Best is trial 0 with value: 0.7414644132829766.\n"
     ]
    },
    {
     "name": "stdout",
     "output_type": "stream",
     "text": [
      "Stopped by overfitting detector  (300 iterations wait)\n",
      "\n",
      "bestTest = 0.7399815494\n",
      "bestIteration = 542\n",
      "\n",
      "Shrink model to first 543 iterations.\n",
      "0:\ttest: 0.6937968\tbest: 0.6937968 (0)\ttotal: 64.6ms\tremaining: 2m 14s\n",
      "300:\ttest: 0.7410993\tbest: 0.7411094 (298)\ttotal: 15.4s\tremaining: 1m 31s\n",
      "600:\ttest: 0.7409674\tbest: 0.7411624 (327)\ttotal: 32s\tremaining: 1m 18s\n"
     ]
    },
    {
     "name": "stderr",
     "output_type": "stream",
     "text": [
      "[I 2025-02-27 04:10:18,420] Trial 5 finished with value: 0.7411624313564811 and parameters: {'iterations': 2082, 'depth': 4, 'learning_rate': 0.06995196593094148, 'l2_leaf_reg': 0.0018080296485396804}. Best is trial 0 with value: 0.7414644132829766.\n"
     ]
    },
    {
     "name": "stdout",
     "output_type": "stream",
     "text": [
      "Stopped by overfitting detector  (300 iterations wait)\n",
      "\n",
      "bestTest = 0.7411624314\n",
      "bestIteration = 327\n",
      "\n",
      "Shrink model to first 328 iterations.\n",
      "0:\ttest: 0.7001264\tbest: 0.7001264 (0)\ttotal: 73.6ms\tremaining: 2m 26s\n",
      "300:\ttest: 0.7412043\tbest: 0.7412308 (294)\ttotal: 20.1s\tremaining: 1m 53s\n",
      "600:\ttest: 0.7413458\tbest: 0.7413470 (593)\ttotal: 39.4s\tremaining: 1m 31s\n",
      "900:\ttest: 0.7413678\tbest: 0.7414045 (835)\ttotal: 59.2s\tremaining: 1m 11s\n",
      "1200:\ttest: 0.7413291\tbest: 0.7414110 (982)\ttotal: 1m 17s\tremaining: 51.7s\n"
     ]
    },
    {
     "name": "stderr",
     "output_type": "stream",
     "text": [
      "[I 2025-02-27 04:11:43,758] Trial 6 finished with value: 0.7414109532417346 and parameters: {'iterations': 1997, 'depth': 5, 'learning_rate': 0.07985155992831598, 'l2_leaf_reg': 62.52181000710482}. Best is trial 0 with value: 0.7414644132829766.\n"
     ]
    },
    {
     "name": "stdout",
     "output_type": "stream",
     "text": [
      "Stopped by overfitting detector  (300 iterations wait)\n",
      "\n",
      "bestTest = 0.7414109532\n",
      "bestIteration = 982\n",
      "\n",
      "Shrink model to first 983 iterations.\n",
      "0:\ttest: 0.7140180\tbest: 0.7140180 (0)\ttotal: 97.5ms\tremaining: 3m 7s\n",
      "300:\ttest: 0.7406884\tbest: 0.7413129 (172)\ttotal: 26.6s\tremaining: 2m 23s\n"
     ]
    },
    {
     "name": "stderr",
     "output_type": "stream",
     "text": [
      "[I 2025-02-27 04:12:26,190] Trial 7 finished with value: 0.7413129358861663 and parameters: {'iterations': 1927, 'depth': 7, 'learning_rate': 0.0941937211034094, 'l2_leaf_reg': 0.05654822767791934}. Best is trial 0 with value: 0.7414644132829766.\n"
     ]
    },
    {
     "name": "stdout",
     "output_type": "stream",
     "text": [
      "Stopped by overfitting detector  (300 iterations wait)\n",
      "\n",
      "bestTest = 0.7413129359\n",
      "bestIteration = 172\n",
      "\n",
      "Shrink model to first 173 iterations.\n",
      "0:\ttest: 0.7140174\tbest: 0.7140174 (0)\ttotal: 103ms\tremaining: 3m 15s\n",
      "300:\ttest: 0.7413673\tbest: 0.7413835 (284)\ttotal: 25.2s\tremaining: 2m 14s\n",
      "600:\ttest: 0.7410246\tbest: 0.7415046 (324)\ttotal: 53.5s\tremaining: 1m 55s\n"
     ]
    },
    {
     "name": "stderr",
     "output_type": "stream",
     "text": [
      "[I 2025-02-27 04:13:22,247] Trial 8 finished with value: 0.7415046264477732 and parameters: {'iterations': 1904, 'depth': 7, 'learning_rate': 0.05155602859187331, 'l2_leaf_reg': 1.299974533316308}. Best is trial 8 with value: 0.7415046264477732.\n"
     ]
    },
    {
     "name": "stdout",
     "output_type": "stream",
     "text": [
      "Stopped by overfitting detector  (300 iterations wait)\n",
      "\n",
      "bestTest = 0.7415046264\n",
      "bestIteration = 324\n",
      "\n",
      "Shrink model to first 325 iterations.\n",
      "저장 완료\n",
      "0:\ttest: 0.7134521\tbest: 0.7134521 (0)\ttotal: 96.6ms\tremaining: 4m 14s\n",
      "300:\ttest: 0.7409930\tbest: 0.7410171 (290)\ttotal: 23.4s\tremaining: 3m 2s\n",
      "600:\ttest: 0.7417565\tbest: 0.7418755 (545)\ttotal: 46.4s\tremaining: 2m 37s\n"
     ]
    },
    {
     "name": "stderr",
     "output_type": "stream",
     "text": [
      "[I 2025-02-27 04:14:28,858] Trial 9 finished with value: 0.7418754992793795 and parameters: {'iterations': 2639, 'depth': 6, 'learning_rate': 0.03968704290444751, 'l2_leaf_reg': 0.30557194377967184}. Best is trial 9 with value: 0.7418754992793795.\n"
     ]
    },
    {
     "name": "stdout",
     "output_type": "stream",
     "text": [
      "Stopped by overfitting detector  (300 iterations wait)\n",
      "\n",
      "bestTest = 0.7418754993\n",
      "bestIteration = 545\n",
      "\n",
      "Shrink model to first 546 iterations.\n",
      "저장 완료\n",
      "0:\ttest: 0.7134521\tbest: 0.7134521 (0)\ttotal: 112ms\tremaining: 5m 29s\n",
      "300:\ttest: 0.7406818\tbest: 0.7406818 (300)\ttotal: 22.1s\tremaining: 3m 13s\n",
      "600:\ttest: 0.7416730\tbest: 0.7416845 (599)\ttotal: 45.9s\tremaining: 2m 58s\n",
      "900:\ttest: 0.7417394\tbest: 0.7418196 (717)\ttotal: 1m 9s\tremaining: 2m 38s\n"
     ]
    },
    {
     "name": "stderr",
     "output_type": "stream",
     "text": [
      "[I 2025-02-27 04:15:48,052] Trial 10 finished with value: 0.7418195534633609 and parameters: {'iterations': 2945, 'depth': 6, 'learning_rate': 0.032580115422505045, 'l2_leaf_reg': 0.05588195113566891}. Best is trial 9 with value: 0.7418754992793795.\n"
     ]
    },
    {
     "name": "stdout",
     "output_type": "stream",
     "text": [
      "Stopped by overfitting detector  (300 iterations wait)\n",
      "\n",
      "bestTest = 0.7418195535\n",
      "bestIteration = 717\n",
      "\n",
      "Shrink model to first 718 iterations.\n",
      "0:\ttest: 0.7134521\tbest: 0.7134521 (0)\ttotal: 94.4ms\tremaining: 4m 42s\n",
      "300:\ttest: 0.7406274\tbest: 0.7406318 (298)\ttotal: 21.3s\tremaining: 3m 10s\n",
      "600:\ttest: 0.7417323\tbest: 0.7417323 (600)\ttotal: 45.3s\tremaining: 3m\n",
      "900:\ttest: 0.7416163\tbest: 0.7417713 (608)\ttotal: 1m 8s\tremaining: 2m 39s\n"
     ]
    },
    {
     "name": "stderr",
     "output_type": "stream",
     "text": [
      "[I 2025-02-27 04:16:57,471] Trial 11 finished with value: 0.7417713071957319 and parameters: {'iterations': 2996, 'depth': 6, 'learning_rate': 0.03250520130108762, 'l2_leaf_reg': 0.07022360666999101}. Best is trial 9 with value: 0.7418754992793795.\n"
     ]
    },
    {
     "name": "stdout",
     "output_type": "stream",
     "text": [
      "Stopped by overfitting detector  (300 iterations wait)\n",
      "\n",
      "bestTest = 0.7417713072\n",
      "bestIteration = 608\n",
      "\n",
      "Shrink model to first 609 iterations.\n",
      "0:\ttest: 0.7134521\tbest: 0.7134521 (0)\ttotal: 79.8ms\tremaining: 3m 50s\n",
      "300:\ttest: 0.7405085\tbest: 0.7405166 (295)\ttotal: 22.5s\tremaining: 3m 13s\n",
      "600:\ttest: 0.7414836\tbest: 0.7414952 (594)\ttotal: 46s\tremaining: 2m 54s\n",
      "900:\ttest: 0.7415321\tbest: 0.7416505 (720)\ttotal: 1m 9s\tremaining: 2m 32s\n"
     ]
    },
    {
     "name": "stderr",
     "output_type": "stream",
     "text": [
      "[I 2025-02-27 04:18:16,517] Trial 12 finished with value: 0.7416505088658929 and parameters: {'iterations': 2887, 'depth': 6, 'learning_rate': 0.03326204917552099, 'l2_leaf_reg': 0.5279524076347274}. Best is trial 9 with value: 0.7418754992793795.\n"
     ]
    },
    {
     "name": "stdout",
     "output_type": "stream",
     "text": [
      "Stopped by overfitting detector  (300 iterations wait)\n",
      "\n",
      "bestTest = 0.7416505089\n",
      "bestIteration = 720\n",
      "\n",
      "Shrink model to first 721 iterations.\n",
      "0:\ttest: 0.7140180\tbest: 0.7140180 (0)\ttotal: 116ms\tremaining: 5m 9s\n",
      "300:\ttest: 0.7406130\tbest: 0.7406286 (295)\ttotal: 28.3s\tremaining: 3m 43s\n",
      "600:\ttest: 0.7410719\tbest: 0.7413479 (493)\ttotal: 59.4s\tremaining: 3m 25s\n"
     ]
    },
    {
     "name": "stderr",
     "output_type": "stream",
     "text": [
      "[I 2025-02-27 04:19:36,876] Trial 13 finished with value: 0.7413479074811464 and parameters: {'iterations': 2680, 'depth': 8, 'learning_rate': 0.03202375503200278, 'l2_leaf_reg': 0.008626221466990533}. Best is trial 9 with value: 0.7418754992793795.\n"
     ]
    },
    {
     "name": "stdout",
     "output_type": "stream",
     "text": [
      "Stopped by overfitting detector  (300 iterations wait)\n",
      "\n",
      "bestTest = 0.7413479075\n",
      "bestIteration = 493\n",
      "\n",
      "Shrink model to first 494 iterations.\n",
      "0:\ttest: 0.7140174\tbest: 0.7140174 (0)\ttotal: 104ms\tremaining: 4m 45s\n",
      "300:\ttest: 0.7414828\tbest: 0.7415233 (295)\ttotal: 28.8s\tremaining: 3m 54s\n"
     ]
    },
    {
     "name": "stderr",
     "output_type": "stream",
     "text": [
      "[I 2025-02-27 04:20:37,567] Trial 14 finished with value: 0.7415232975548014 and parameters: {'iterations': 2754, 'depth': 8, 'learning_rate': 0.06308101933412968, 'l2_leaf_reg': 0.8010512238758325}. Best is trial 9 with value: 0.7418754992793795.\n"
     ]
    },
    {
     "name": "stdout",
     "output_type": "stream",
     "text": [
      "Stopped by overfitting detector  (300 iterations wait)\n",
      "\n",
      "bestTest = 0.7415232976\n",
      "bestIteration = 295\n",
      "\n",
      "Shrink model to first 296 iterations.\n",
      "0:\ttest: 0.7134521\tbest: 0.7134521 (0)\ttotal: 76.6ms\tremaining: 3m 18s\n",
      "300:\ttest: 0.7409189\tbest: 0.7409376 (290)\ttotal: 22.4s\tremaining: 2m 50s\n",
      "600:\ttest: 0.7409814\tbest: 0.7413071 (502)\ttotal: 45.9s\tremaining: 2m 32s\n"
     ]
    },
    {
     "name": "stderr",
     "output_type": "stream",
     "text": [
      "[I 2025-02-27 04:21:39,799] Trial 15 finished with value: 0.7413071344213922 and parameters: {'iterations': 2590, 'depth': 6, 'learning_rate': 0.042092255830209285, 'l2_leaf_reg': 0.01343217921291673}. Best is trial 9 with value: 0.7418754992793795.\n"
     ]
    },
    {
     "name": "stdout",
     "output_type": "stream",
     "text": [
      "Stopped by overfitting detector  (300 iterations wait)\n",
      "\n",
      "bestTest = 0.7413071344\n",
      "bestIteration = 502\n",
      "\n",
      "Shrink model to first 503 iterations.\n",
      "0:\ttest: 0.7140180\tbest: 0.7140180 (0)\ttotal: 155ms\tremaining: 7m 20s\n",
      "300:\ttest: 0.7403461\tbest: 0.7403461 (300)\ttotal: 26.7s\tremaining: 3m 45s\n",
      "600:\ttest: 0.7412895\tbest: 0.7412895 (600)\ttotal: 55.3s\tremaining: 3m 26s\n",
      "900:\ttest: 0.7414190\tbest: 0.7414948 (782)\ttotal: 1m 28s\tremaining: 3m 9s\n"
     ]
    },
    {
     "name": "stderr",
     "output_type": "stream",
     "text": [
      "[I 2025-02-27 04:23:26,902] Trial 16 finished with value: 0.7414947945334811 and parameters: {'iterations': 2846, 'depth': 8, 'learning_rate': 0.021805153281447668, 'l2_leaf_reg': 0.18391481706464052}. Best is trial 9 with value: 0.7418754992793795.\n"
     ]
    },
    {
     "name": "stdout",
     "output_type": "stream",
     "text": [
      "Stopped by overfitting detector  (300 iterations wait)\n",
      "\n",
      "bestTest = 0.7414947945\n",
      "bestIteration = 782\n",
      "\n",
      "Shrink model to first 783 iterations.\n",
      "0:\ttest: 0.7001300\tbest: 0.7001300 (0)\ttotal: 66.6ms\tremaining: 2m 45s\n",
      "300:\ttest: 0.7414027\tbest: 0.7414027 (300)\ttotal: 17.8s\tremaining: 2m 9s\n",
      "600:\ttest: 0.7417401\tbest: 0.7417605 (470)\ttotal: 37s\tremaining: 1m 55s\n",
      "900:\ttest: 0.7416836\tbest: 0.7418008 (644)\ttotal: 55.9s\tremaining: 1m 38s\n"
     ]
    },
    {
     "name": "stderr",
     "output_type": "stream",
     "text": [
      "[I 2025-02-27 04:24:25,878] Trial 17 finished with value: 0.7418007870550634 and parameters: {'iterations': 2482, 'depth': 5, 'learning_rate': 0.05742508707118142, 'l2_leaf_reg': 5.829118289299236}. Best is trial 9 with value: 0.7418754992793795.\n"
     ]
    },
    {
     "name": "stdout",
     "output_type": "stream",
     "text": [
      "Stopped by overfitting detector  (300 iterations wait)\n",
      "\n",
      "bestTest = 0.7418007871\n",
      "bestIteration = 644\n",
      "\n",
      "Shrink model to first 645 iterations.\n",
      "0:\ttest: 0.7140180\tbest: 0.7140180 (0)\ttotal: 132ms\tremaining: 6m 36s\n",
      "300:\ttest: 0.7403475\tbest: 0.7403532 (298)\ttotal: 23.8s\tremaining: 3m 33s\n",
      "600:\ttest: 0.7413638\tbest: 0.7413638 (600)\ttotal: 48.1s\tremaining: 3m 11s\n",
      "900:\ttest: 0.7414917\tbest: 0.7415195 (801)\ttotal: 1m 13s\tremaining: 2m 51s\n",
      "1200:\ttest: 0.7413491\tbest: 0.7415620 (1084)\ttotal: 1m 39s\tremaining: 2m 28s\n"
     ]
    },
    {
     "name": "stderr",
     "output_type": "stream",
     "text": [
      "[I 2025-02-27 04:26:21,831] Trial 18 finished with value: 0.7415619501613118 and parameters: {'iterations': 2995, 'depth': 7, 'learning_rate': 0.023816234008989124, 'l2_leaf_reg': 0.01734944121649843}. Best is trial 9 with value: 0.7418754992793795.\n"
     ]
    },
    {
     "name": "stdout",
     "output_type": "stream",
     "text": [
      "Stopped by overfitting detector  (300 iterations wait)\n",
      "\n",
      "bestTest = 0.7415619502\n",
      "bestIteration = 1084\n",
      "\n",
      "Shrink model to first 1085 iterations.\n",
      "0:\ttest: 0.7001354\tbest: 0.7001354 (0)\ttotal: 64.4ms\tremaining: 2m 55s\n",
      "300:\ttest: 0.7407902\tbest: 0.7407902 (300)\ttotal: 17.7s\tremaining: 2m 22s\n",
      "600:\ttest: 0.7414490\tbest: 0.7414511 (598)\ttotal: 36.3s\tremaining: 2m 7s\n",
      "900:\ttest: 0.7415524\tbest: 0.7415524 (900)\ttotal: 55.6s\tremaining: 1m 52s\n",
      "1200:\ttest: 0.7414659\tbest: 0.7415902 (1033)\ttotal: 1m 14s\tremaining: 1m 34s\n"
     ]
    },
    {
     "name": "stderr",
     "output_type": "stream",
     "text": [
      "[I 2025-02-27 04:27:45,384] Trial 19 finished with value: 0.7415902030167998 and parameters: {'iterations': 2720, 'depth': 5, 'learning_rate': 0.04602295290675512, 'l2_leaf_reg': 2.276175005448344}. Best is trial 9 with value: 0.7418754992793795.\n"
     ]
    },
    {
     "name": "stdout",
     "output_type": "stream",
     "text": [
      "Stopped by overfitting detector  (300 iterations wait)\n",
      "\n",
      "bestTest = 0.741590203\n",
      "bestIteration = 1033\n",
      "\n",
      "Shrink model to first 1034 iterations.\n",
      "0:\ttest: 0.7134521\tbest: 0.7134521 (0)\ttotal: 91.7ms\tremaining: 2m 22s\n",
      "300:\ttest: 0.7407632\tbest: 0.7407632 (300)\ttotal: 21.3s\tremaining: 1m 28s\n",
      "600:\ttest: 0.7414425\tbest: 0.7414515 (587)\ttotal: 44.2s\tremaining: 1m 9s\n",
      "900:\ttest: 0.7414528\tbest: 0.7415020 (793)\ttotal: 1m 7s\tremaining: 48.7s\n"
     ]
    },
    {
     "name": "stderr",
     "output_type": "stream",
     "text": [
      "[I 2025-02-27 04:29:07,728] Trial 20 finished with value: 0.7415020136046374 and parameters: {'iterations': 1551, 'depth': 6, 'learning_rate': 0.038126715200895424, 'l2_leaf_reg': 0.36532042487042726}. Best is trial 9 with value: 0.7418754992793795.\n"
     ]
    },
    {
     "name": "stdout",
     "output_type": "stream",
     "text": [
      "Stopped by overfitting detector  (300 iterations wait)\n",
      "\n",
      "bestTest = 0.7415020136\n",
      "bestIteration = 793\n",
      "\n",
      "Shrink model to first 794 iterations.\n",
      "0:\ttest: 0.7001300\tbest: 0.7001300 (0)\ttotal: 71.9ms\tremaining: 2m 56s\n",
      "300:\ttest: 0.7413263\tbest: 0.7413263 (300)\ttotal: 18.2s\tremaining: 2m 10s\n",
      "600:\ttest: 0.7416896\tbest: 0.7416932 (598)\ttotal: 37s\tremaining: 1m 53s\n",
      "900:\ttest: 0.7415596\tbest: 0.7417170 (630)\ttotal: 55.9s\tremaining: 1m 36s\n"
     ]
    },
    {
     "name": "stderr",
     "output_type": "stream",
     "text": [
      "[I 2025-02-27 04:30:05,725] Trial 21 finished with value: 0.7417169775304067 and parameters: {'iterations': 2453, 'depth': 5, 'learning_rate': 0.06020943341372356, 'l2_leaf_reg': 6.49485534989085}. Best is trial 9 with value: 0.7418754992793795.\n"
     ]
    },
    {
     "name": "stdout",
     "output_type": "stream",
     "text": [
      "Stopped by overfitting detector  (300 iterations wait)\n",
      "\n",
      "bestTest = 0.7417169775\n",
      "bestIteration = 630\n",
      "\n",
      "Shrink model to first 631 iterations.\n",
      "0:\ttest: 0.7001264\tbest: 0.7001264 (0)\ttotal: 63.5ms\tremaining: 2m 42s\n",
      "300:\ttest: 0.7414377\tbest: 0.7414409 (297)\ttotal: 18.3s\tremaining: 2m 17s\n",
      "600:\ttest: 0.7417547\tbest: 0.7417747 (570)\ttotal: 36.8s\tremaining: 1m 59s\n",
      "900:\ttest: 0.7418609\tbest: 0.7418809 (867)\ttotal: 55.5s\tremaining: 1m 42s\n"
     ]
    },
    {
     "name": "stderr",
     "output_type": "stream",
     "text": [
      "[I 2025-02-27 04:31:18,103] Trial 22 finished with value: 0.7418808917428725 and parameters: {'iterations': 2558, 'depth': 5, 'learning_rate': 0.05974877796060185, 'l2_leaf_reg': 68.58558645988492}. Best is trial 22 with value: 0.7418808917428725.\n"
     ]
    },
    {
     "name": "stdout",
     "output_type": "stream",
     "text": [
      "Stopped by overfitting detector  (300 iterations wait)\n",
      "\n",
      "bestTest = 0.7418808917\n",
      "bestIteration = 867\n",
      "\n",
      "Shrink model to first 868 iterations.\n",
      "저장 완료\n",
      "0:\ttest: 0.7134447\tbest: 0.7134447 (0)\ttotal: 74.6ms\tremaining: 3m 16s\n",
      "300:\ttest: 0.7414838\tbest: 0.7414938 (299)\ttotal: 22.5s\tremaining: 2m 54s\n",
      "600:\ttest: 0.7416562\tbest: 0.7417512 (412)\ttotal: 44.8s\tremaining: 2m 31s\n"
     ]
    },
    {
     "name": "stderr",
     "output_type": "stream",
     "text": [
      "[I 2025-02-27 04:32:11,303] Trial 23 finished with value: 0.7417511549481419 and parameters: {'iterations': 2637, 'depth': 6, 'learning_rate': 0.07107955310196558, 'l2_leaf_reg': 51.69774303294035}. Best is trial 22 with value: 0.7418808917428725.\n"
     ]
    },
    {
     "name": "stdout",
     "output_type": "stream",
     "text": [
      "Stopped by overfitting detector  (300 iterations wait)\n",
      "\n",
      "bestTest = 0.7417511549\n",
      "bestIteration = 412\n",
      "\n",
      "Shrink model to first 413 iterations.\n",
      "0:\ttest: 0.7139844\tbest: 0.7139844 (0)\ttotal: 84.6ms\tremaining: 3m 57s\n",
      "300:\ttest: 0.7416827\tbest: 0.7416951 (293)\ttotal: 23.8s\tremaining: 3m 18s\n",
      "600:\ttest: 0.7416545\tbest: 0.7418123 (405)\ttotal: 49.3s\tremaining: 3m 1s\n"
     ]
    },
    {
     "name": "stderr",
     "output_type": "stream",
     "text": [
      "[I 2025-02-27 04:33:09,958] Trial 24 finished with value: 0.7418122827706837 and parameters: {'iterations': 2815, 'depth': 7, 'learning_rate': 0.052475962379111535, 'l2_leaf_reg': 25.896091181967474}. Best is trial 22 with value: 0.7418808917428725.\n"
     ]
    },
    {
     "name": "stdout",
     "output_type": "stream",
     "text": [
      "Stopped by overfitting detector  (300 iterations wait)\n",
      "\n",
      "bestTest = 0.7418122828\n",
      "bestIteration = 405\n",
      "\n",
      "Shrink model to first 406 iterations.\n",
      "0:\ttest: 0.7001354\tbest: 0.7001354 (0)\ttotal: 63.3ms\tremaining: 2m 22s\n",
      "300:\ttest: 0.7394320\tbest: 0.7394320 (300)\ttotal: 17.7s\tremaining: 1m 55s\n",
      "600:\ttest: 0.7409705\tbest: 0.7409860 (591)\ttotal: 36.4s\tremaining: 1m 40s\n",
      "900:\ttest: 0.7413805\tbest: 0.7413805 (900)\ttotal: 55.1s\tremaining: 1m 23s\n",
      "1200:\ttest: 0.7415031\tbest: 0.7415107 (1193)\ttotal: 1m 15s\tremaining: 1m 6s\n",
      "1500:\ttest: 0.7414749\tbest: 0.7415369 (1387)\ttotal: 1m 35s\tremaining: 48.3s\n"
     ]
    },
    {
     "name": "stderr",
     "output_type": "stream",
     "text": [
      "[I 2025-02-27 04:34:58,312] Trial 25 finished with value: 0.7415369335780966 and parameters: {'iterations': 2259, 'depth': 5, 'learning_rate': 0.0243231059207887, 'l2_leaf_reg': 0.13629038543539257}. Best is trial 22 with value: 0.7418808917428725.\n"
     ]
    },
    {
     "name": "stdout",
     "output_type": "stream",
     "text": [
      "Stopped by overfitting detector  (300 iterations wait)\n",
      "\n",
      "bestTest = 0.7415369336\n",
      "bestIteration = 1387\n",
      "\n",
      "Shrink model to first 1388 iterations.\n",
      "0:\ttest: 0.7134521\tbest: 0.7134521 (0)\ttotal: 77ms\tremaining: 3m 41s\n",
      "300:\ttest: 0.7405185\tbest: 0.7407267 (211)\ttotal: 21.7s\tremaining: 3m 6s\n"
     ]
    },
    {
     "name": "stderr",
     "output_type": "stream",
     "text": [
      "[I 2025-02-27 04:35:35,606] Trial 26 finished with value: 0.7407266543895336 and parameters: {'iterations': 2878, 'depth': 6, 'learning_rate': 0.07628804970187145, 'l2_leaf_reg': 0.0053549925492822285}. Best is trial 22 with value: 0.7418808917428725.\n"
     ]
    },
    {
     "name": "stdout",
     "output_type": "stream",
     "text": [
      "Stopped by overfitting detector  (300 iterations wait)\n",
      "\n",
      "bestTest = 0.7407266544\n",
      "bestIteration = 211\n",
      "\n",
      "Shrink model to first 212 iterations.\n",
      "0:\ttest: 0.7175569\tbest: 0.7175569 (0)\ttotal: 101ms\tremaining: 4m 25s\n",
      "300:\ttest: 0.7403089\tbest: 0.7405703 (234)\ttotal: 31s\tremaining: 3m 58s\n"
     ]
    },
    {
     "name": "stderr",
     "output_type": "stream",
     "text": [
      "[I 2025-02-27 04:36:33,733] Trial 27 finished with value: 0.740570272948236 and parameters: {'iterations': 2616, 'depth': 9, 'learning_rate': 0.04057430912366394, 'l2_leaf_reg': 0.049378704515951014}. Best is trial 22 with value: 0.7418808917428725.\n"
     ]
    },
    {
     "name": "stdout",
     "output_type": "stream",
     "text": [
      "Stopped by overfitting detector  (300 iterations wait)\n",
      "\n",
      "bestTest = 0.7405702729\n",
      "bestIteration = 234\n",
      "\n",
      "Shrink model to first 235 iterations.\n",
      "0:\ttest: 0.7001354\tbest: 0.7001354 (0)\ttotal: 63.8ms\tremaining: 2m 33s\n",
      "300:\ttest: 0.7416455\tbest: 0.7417067 (271)\ttotal: 18s\tremaining: 2m 6s\n",
      "600:\ttest: 0.7414863\tbest: 0.7417137 (320)\ttotal: 36.7s\tremaining: 1m 50s\n"
     ]
    },
    {
     "name": "stderr",
     "output_type": "stream",
     "text": [
      "[I 2025-02-27 04:37:11,890] Trial 28 finished with value: 0.7417136618404092 and parameters: {'iterations': 2410, 'depth': 5, 'learning_rate': 0.08621081976046277, 'l2_leaf_reg': 2.207559295600645}. Best is trial 22 with value: 0.7418808917428725.\n"
     ]
    },
    {
     "name": "stdout",
     "output_type": "stream",
     "text": [
      "Stopped by overfitting detector  (300 iterations wait)\n",
      "\n",
      "bestTest = 0.7417136618\n",
      "bestIteration = 320\n",
      "\n",
      "Shrink model to first 321 iterations.\n",
      "0:\ttest: 0.7140144\tbest: 0.7140144 (0)\ttotal: 80.8ms\tremaining: 3m 42s\n",
      "300:\ttest: 0.7393124\tbest: 0.7393124 (300)\ttotal: 23.5s\tremaining: 3m 11s\n",
      "600:\ttest: 0.7408525\tbest: 0.7408525 (600)\ttotal: 47.3s\tremaining: 2m 49s\n",
      "900:\ttest: 0.7413745\tbest: 0.7413745 (900)\ttotal: 1m 11s\tremaining: 2m 27s\n",
      "1200:\ttest: 0.7417255\tbest: 0.7417272 (1199)\ttotal: 1m 38s\tremaining: 2m 6s\n",
      "1500:\ttest: 0.7418866\tbest: 0.7419148 (1482)\ttotal: 2m 4s\tremaining: 1m 43s\n",
      "1800:\ttest: 0.7419431\tbest: 0.7419587 (1747)\ttotal: 2m 31s\tremaining: 1m 20s\n",
      "2100:\ttest: 0.7419668\tbest: 0.7419821 (1844)\ttotal: 2m 58s\tremaining: 55.1s\n",
      "2400:\ttest: 0.7419211\tbest: 0.7419839 (2123)\ttotal: 3m 24s\tremaining: 29.8s\n"
     ]
    },
    {
     "name": "stderr",
     "output_type": "stream",
     "text": [
      "[I 2025-02-27 04:40:39,067] Trial 29 finished with value: 0.7419839481530598 and parameters: {'iterations': 2750, 'depth': 7, 'learning_rate': 0.015332089798489414, 'l2_leaf_reg': 13.5977945155374}. Best is trial 29 with value: 0.7419839481530598.\n"
     ]
    },
    {
     "name": "stdout",
     "output_type": "stream",
     "text": [
      "Stopped by overfitting detector  (300 iterations wait)\n",
      "\n",
      "bestTest = 0.7419839482\n",
      "bestIteration = 2123\n",
      "\n",
      "Shrink model to first 2124 iterations.\n",
      "저장 완료\n",
      "0:\ttest: 0.7175751\tbest: 0.7175751 (0)\ttotal: 105ms\tremaining: 4m 2s\n",
      "300:\ttest: 0.7403305\tbest: 0.7403305 (300)\ttotal: 29.9s\tremaining: 3m 19s\n",
      "600:\ttest: 0.7410843\tbest: 0.7411103 (588)\ttotal: 59.9s\tremaining: 2m 50s\n",
      "900:\ttest: 0.7413844\tbest: 0.7414037 (894)\ttotal: 1m 34s\tremaining: 2m 26s\n",
      "1200:\ttest: 0.7414922\tbest: 0.7415728 (1059)\ttotal: 2m 11s\tremaining: 2m\n"
     ]
    },
    {
     "name": "stderr",
     "output_type": "stream",
     "text": [
      "[I 2025-02-27 04:43:09,034] Trial 30 finished with value: 0.7415727589136151 and parameters: {'iterations': 2309, 'depth': 9, 'learning_rate': 0.019656742917095748, 'l2_leaf_reg': 12.267219300245861}. Best is trial 29 with value: 0.7419839481530598.\n"
     ]
    },
    {
     "name": "stdout",
     "output_type": "stream",
     "text": [
      "Stopped by overfitting detector  (300 iterations wait)\n",
      "\n",
      "bestTest = 0.7415727589\n",
      "bestIteration = 1059\n",
      "\n",
      "Shrink model to first 1060 iterations.\n",
      "0:\ttest: 0.7138963\tbest: 0.7138963 (0)\ttotal: 89.1ms\tremaining: 4m 2s\n",
      "300:\ttest: 0.7393690\tbest: 0.7393690 (300)\ttotal: 23s\tremaining: 3m 4s\n",
      "600:\ttest: 0.7407163\tbest: 0.7407252 (585)\ttotal: 46.5s\tremaining: 2m 44s\n",
      "900:\ttest: 0.7413563\tbest: 0.7413581 (895)\ttotal: 1m 10s\tremaining: 2m 22s\n",
      "1200:\ttest: 0.7416679\tbest: 0.7416679 (1200)\ttotal: 1m 35s\tremaining: 2m 1s\n",
      "1500:\ttest: 0.7418717\tbest: 0.7418783 (1491)\ttotal: 2m 2s\tremaining: 1m 39s\n",
      "1800:\ttest: 0.7419709\tbest: 0.7419709 (1800)\ttotal: 2m 27s\tremaining: 1m 15s\n",
      "2100:\ttest: 0.7420369\tbest: 0.7420388 (2086)\ttotal: 2m 53s\tremaining: 51.6s\n",
      "2400:\ttest: 0.7420571\tbest: 0.7420734 (2263)\ttotal: 3m 18s\tremaining: 26.9s\n",
      "2700:\ttest: 0.7420600\tbest: 0.7421053 (2566)\ttotal: 3m 43s\tremaining: 2.15s\n"
     ]
    },
    {
     "name": "stderr",
     "output_type": "stream",
     "text": [
      "[I 2025-02-27 04:46:55,444] Trial 31 finished with value: 0.7421053262322875 and parameters: {'iterations': 2727, 'depth': 7, 'learning_rate': 0.015395615407750834, 'l2_leaf_reg': 91.87513110880892}. Best is trial 31 with value: 0.7421053262322875.\n"
     ]
    },
    {
     "name": "stdout",
     "output_type": "stream",
     "text": [
      "2726:\ttest: 0.7420573\tbest: 0.7421053 (2566)\ttotal: 3m 45s\tremaining: 0us\n",
      "\n",
      "bestTest = 0.7421053262\n",
      "bestIteration = 2566\n",
      "\n",
      "Shrink model to first 2567 iterations.\n",
      "저장 완료\n",
      "0:\ttest: 0.7138963\tbest: 0.7138963 (0)\ttotal: 87ms\tremaining: 3m 59s\n",
      "300:\ttest: 0.7341166\tbest: 0.7341166 (300)\ttotal: 22.5s\tremaining: 3m 3s\n",
      "600:\ttest: 0.7378637\tbest: 0.7378637 (600)\ttotal: 45.1s\tremaining: 2m 41s\n",
      "900:\ttest: 0.7393351\tbest: 0.7393351 (900)\ttotal: 1m 8s\tremaining: 2m 21s\n",
      "1200:\ttest: 0.7400893\tbest: 0.7400893 (1200)\ttotal: 1m 31s\tremaining: 1m 59s\n",
      "1500:\ttest: 0.7405390\tbest: 0.7405390 (1500)\ttotal: 1m 56s\tremaining: 1m 37s\n",
      "1800:\ttest: 0.7408190\tbest: 0.7408190 (1800)\ttotal: 2m 20s\tremaining: 1m 14s\n",
      "2100:\ttest: 0.7410339\tbest: 0.7410339 (2099)\ttotal: 2m 44s\tremaining: 51.3s\n",
      "2400:\ttest: 0.7412538\tbest: 0.7412538 (2400)\ttotal: 3m 8s\tremaining: 27.9s\n",
      "2700:\ttest: 0.7414228\tbest: 0.7414228 (2700)\ttotal: 3m 32s\tremaining: 4.33s\n"
     ]
    },
    {
     "name": "stderr",
     "output_type": "stream",
     "text": [
      "[I 2025-02-27 04:50:33,620] Trial 32 finished with value: 0.7414475806962704 and parameters: {'iterations': 2756, 'depth': 7, 'learning_rate': 0.00518855423695138, 'l2_leaf_reg': 88.6480810853655}. Best is trial 31 with value: 0.7421053262322875.\n"
     ]
    },
    {
     "name": "stdout",
     "output_type": "stream",
     "text": [
      "2755:\ttest: 0.7414471\tbest: 0.7414476 (2750)\ttotal: 3m 37s\tremaining: 0us\n",
      "\n",
      "bestTest = 0.7414475807\n",
      "bestIteration = 2750\n",
      "\n",
      "Shrink model to first 2751 iterations.\n",
      "0:\ttest: 0.7139858\tbest: 0.7139858 (0)\ttotal: 105ms\tremaining: 4m 23s\n",
      "300:\ttest: 0.7394731\tbest: 0.7394731 (300)\ttotal: 27.8s\tremaining: 3m 25s\n",
      "600:\ttest: 0.7407431\tbest: 0.7407431 (600)\ttotal: 56.1s\tremaining: 2m 59s\n",
      "900:\ttest: 0.7411281\tbest: 0.7411301 (896)\ttotal: 1m 24s\tremaining: 2m 31s\n",
      "1200:\ttest: 0.7414791\tbest: 0.7414810 (1198)\ttotal: 1m 54s\tremaining: 2m 6s\n",
      "1500:\ttest: 0.7415804\tbest: 0.7415900 (1439)\ttotal: 2m 26s\tremaining: 1m 39s\n",
      "1800:\ttest: 0.7415638\tbest: 0.7416293 (1658)\ttotal: 2m 55s\tremaining: 1m 10s\n"
     ]
    },
    {
     "name": "stderr",
     "output_type": "stream",
     "text": [
      "[I 2025-02-27 04:53:45,397] Trial 33 finished with value: 0.7416293321296572 and parameters: {'iterations': 2521, 'depth': 8, 'learning_rate': 0.013216191179196358, 'l2_leaf_reg': 20.19766385132926}. Best is trial 31 with value: 0.7421053262322875.\n"
     ]
    },
    {
     "name": "stdout",
     "output_type": "stream",
     "text": [
      "Stopped by overfitting detector  (300 iterations wait)\n",
      "\n",
      "bestTest = 0.7416293321\n",
      "bestIteration = 1658\n",
      "\n",
      "Shrink model to first 1659 iterations.\n",
      "0:\ttest: 0.7139537\tbest: 0.7139537 (0)\ttotal: 94.8ms\tremaining: 4m 8s\n",
      "300:\ttest: 0.7396835\tbest: 0.7396835 (299)\ttotal: 24.3s\tremaining: 3m 6s\n",
      "600:\ttest: 0.7409188\tbest: 0.7409225 (598)\ttotal: 49.4s\tremaining: 2m 45s\n",
      "900:\ttest: 0.7414541\tbest: 0.7414541 (900)\ttotal: 1m 16s\tremaining: 2m 26s\n",
      "1200:\ttest: 0.7417295\tbest: 0.7417310 (1192)\ttotal: 1m 42s\tremaining: 2m 1s\n",
      "1500:\ttest: 0.7417764\tbest: 0.7417764 (1500)\ttotal: 2m 8s\tremaining: 1m 35s\n",
      "1800:\ttest: 0.7418559\tbest: 0.7418607 (1791)\ttotal: 2m 33s\tremaining: 1m 9s\n",
      "2100:\ttest: 0.7418790\tbest: 0.7419104 (1983)\ttotal: 3m\tremaining: 44.3s\n"
     ]
    },
    {
     "name": "stderr",
     "output_type": "stream",
     "text": [
      "[I 2025-02-27 04:57:02,313] Trial 34 finished with value: 0.7419104152819525 and parameters: {'iterations': 2617, 'depth': 7, 'learning_rate': 0.016612989062732654, 'l2_leaf_reg': 43.595139100279155}. Best is trial 31 with value: 0.7421053262322875.\n"
     ]
    },
    {
     "name": "stdout",
     "output_type": "stream",
     "text": [
      "Stopped by overfitting detector  (300 iterations wait)\n",
      "\n",
      "bestTest = 0.7419104153\n",
      "bestIteration = 1983\n",
      "\n",
      "Shrink model to first 1984 iterations.\n",
      "0:\ttest: 0.7175264\tbest: 0.7175264 (0)\ttotal: 117ms\tremaining: 4m 17s\n",
      "300:\ttest: 0.7402329\tbest: 0.7402329 (300)\ttotal: 29.7s\tremaining: 3m 7s\n",
      "600:\ttest: 0.7412278\tbest: 0.7412329 (598)\ttotal: 59.4s\tremaining: 2m 37s\n",
      "900:\ttest: 0.7414826\tbest: 0.7414826 (900)\ttotal: 1m 33s\tremaining: 2m 13s\n",
      "1200:\ttest: 0.7416776\tbest: 0.7417016 (1109)\ttotal: 2m 9s\tremaining: 1m 47s\n",
      "1500:\ttest: 0.7417011\tbest: 0.7417138 (1271)\ttotal: 2m 45s\tremaining: 1m 16s\n"
     ]
    },
    {
     "name": "stderr",
     "output_type": "stream",
     "text": [
      "[I 2025-02-27 04:59:56,407] Trial 35 finished with value: 0.7417137809669959 and parameters: {'iterations': 2195, 'depth': 9, 'learning_rate': 0.016259420985453674, 'l2_leaf_reg': 36.611691593367496}. Best is trial 31 with value: 0.7421053262322875.\n"
     ]
    },
    {
     "name": "stdout",
     "output_type": "stream",
     "text": [
      "Stopped by overfitting detector  (300 iterations wait)\n",
      "\n",
      "bestTest = 0.741713781\n",
      "bestIteration = 1271\n",
      "\n",
      "Shrink model to first 1272 iterations.\n",
      "0:\ttest: 0.7138868\tbest: 0.7138868 (0)\ttotal: 108ms\tremaining: 4m 34s\n",
      "300:\ttest: 0.7409686\tbest: 0.7409686 (300)\ttotal: 27.5s\tremaining: 3m 25s\n",
      "600:\ttest: 0.7416606\tbest: 0.7416607 (597)\ttotal: 56s\tremaining: 3m\n",
      "900:\ttest: 0.7419446\tbest: 0.7419446 (900)\ttotal: 1m 26s\tremaining: 2m 38s\n",
      "1200:\ttest: 0.7420327\tbest: 0.7420549 (1169)\ttotal: 1m 57s\tremaining: 2m 10s\n",
      "1500:\ttest: 0.7420660\tbest: 0.7420879 (1382)\ttotal: 2m 27s\tremaining: 1m 42s\n"
     ]
    },
    {
     "name": "stderr",
     "output_type": "stream",
     "text": [
      "[I 2025-02-27 05:02:43,119] Trial 36 finished with value: 0.7420879337506237 and parameters: {'iterations': 2542, 'depth': 8, 'learning_rate': 0.026871092022656036, 'l2_leaf_reg': 95.18101897240312}. Best is trial 31 with value: 0.7421053262322875.\n"
     ]
    },
    {
     "name": "stdout",
     "output_type": "stream",
     "text": [
      "Stopped by overfitting detector  (300 iterations wait)\n",
      "\n",
      "bestTest = 0.7420879338\n",
      "bestIteration = 1382\n",
      "\n",
      "Shrink model to first 1383 iterations.\n",
      "0:\ttest: 0.7140007\tbest: 0.7140007 (0)\ttotal: 136ms\tremaining: 5m 22s\n",
      "300:\ttest: 0.7388080\tbest: 0.7388080 (300)\ttotal: 27.2s\tremaining: 3m 7s\n",
      "600:\ttest: 0.7407383\tbest: 0.7407485 (593)\ttotal: 55.3s\tremaining: 2m 43s\n",
      "900:\ttest: 0.7412271\tbest: 0.7412271 (900)\ttotal: 1m 23s\tremaining: 2m 16s\n",
      "1200:\ttest: 0.7415283\tbest: 0.7415311 (1195)\ttotal: 1m 53s\tremaining: 1m 51s\n",
      "1500:\ttest: 0.7417598\tbest: 0.7417661 (1495)\ttotal: 2m 25s\tremaining: 1m 25s\n",
      "1800:\ttest: 0.7418791\tbest: 0.7418798 (1798)\ttotal: 3m\tremaining: 57.8s\n",
      "2100:\ttest: 0.7419537\tbest: 0.7419547 (2058)\ttotal: 3m 31s\tremaining: 28s\n"
     ]
    },
    {
     "name": "stderr",
     "output_type": "stream",
     "text": [
      "[I 2025-02-27 05:06:44,496] Trial 37 finished with value: 0.7420027463284471 and parameters: {'iterations': 2379, 'depth': 8, 'learning_rate': 0.01064285374693303, 'l2_leaf_reg': 15.063254319425113}. Best is trial 31 with value: 0.7421053262322875.\n"
     ]
    },
    {
     "name": "stdout",
     "output_type": "stream",
     "text": [
      "2378:\ttest: 0.7420027\tbest: 0.7420027 (2378)\ttotal: 4m\tremaining: 0us\n",
      "\n",
      "bestTest = 0.7420027463\n",
      "bestIteration = 2378\n",
      "\n",
      "0:\ttest: 0.7140154\tbest: 0.7140154 (0)\ttotal: 104ms\tremaining: 4m 6s\n",
      "300:\ttest: 0.7378597\tbest: 0.7378597 (300)\ttotal: 26.8s\tremaining: 3m 3s\n",
      "600:\ttest: 0.7401271\tbest: 0.7401271 (600)\ttotal: 54.4s\tremaining: 2m 39s\n",
      "900:\ttest: 0.7408158\tbest: 0.7408163 (898)\ttotal: 1m 22s\tremaining: 2m 13s\n",
      "1200:\ttest: 0.7410861\tbest: 0.7410942 (1194)\ttotal: 1m 50s\tremaining: 1m 46s\n",
      "1500:\ttest: 0.7413197\tbest: 0.7413305 (1496)\ttotal: 2m 18s\tremaining: 1m 19s\n",
      "1800:\ttest: 0.7416275\tbest: 0.7416326 (1798)\ttotal: 2m 48s\tremaining: 52.4s\n",
      "2100:\ttest: 0.7417963\tbest: 0.7417963 (2100)\ttotal: 3m 20s\tremaining: 24.8s\n"
     ]
    },
    {
     "name": "stderr",
     "output_type": "stream",
     "text": [
      "[I 2025-02-27 05:10:30,884] Trial 38 finished with value: 0.7419142511580454 and parameters: {'iterations': 2361, 'depth': 8, 'learning_rate': 0.00816727386149684, 'l2_leaf_reg': 12.444523357408377}. Best is trial 31 with value: 0.7421053262322875.\n"
     ]
    },
    {
     "name": "stdout",
     "output_type": "stream",
     "text": [
      "2360:\ttest: 0.7419143\tbest: 0.7419143 (2360)\ttotal: 3m 45s\tremaining: 0us\n",
      "\n",
      "bestTest = 0.7419142512\n",
      "bestIteration = 2360\n",
      "\n",
      "0:\ttest: 0.7175672\tbest: 0.7175672 (0)\ttotal: 107ms\tremaining: 3m 46s\n",
      "300:\ttest: 0.7408089\tbest: 0.7408180 (299)\ttotal: 30.2s\tremaining: 3m 1s\n",
      "600:\ttest: 0.7413976\tbest: 0.7414061 (597)\ttotal: 1m 2s\tremaining: 2m 36s\n",
      "900:\ttest: 0.7411043\tbest: 0.7414211 (652)\ttotal: 1m 36s\tremaining: 2m 10s\n"
     ]
    },
    {
     "name": "stderr",
     "output_type": "stream",
     "text": [
      "[I 2025-02-27 05:12:14,052] Trial 39 finished with value: 0.7414211385649008 and parameters: {'iterations': 2111, 'depth': 9, 'learning_rate': 0.026920602603977065, 'l2_leaf_reg': 4.27526196287559}. Best is trial 31 with value: 0.7421053262322875.\n",
      "[I 2025-02-27 05:12:14,058] A new study created in memory with name: no-name-b7601f7f-255f-4eee-b9de-95f2a7f8fe9e\n"
     ]
    },
    {
     "name": "stdout",
     "output_type": "stream",
     "text": [
      "Stopped by overfitting detector  (300 iterations wait)\n",
      "\n",
      "bestTest = 0.7414211386\n",
      "bestIteration = 652\n",
      "\n",
      "Shrink model to first 653 iterations.\n"
     ]
    },
    {
     "name": "stderr",
     "output_type": "stream",
     "text": [
      "[I 2025-02-27 05:12:37,268] Trial 0 finished with value: 0.7294868703282325 and parameters: {'num_iterations': 2366, 'objective': 'binary', 'metric': 'auc', 'verbose': -1, 'learning_rate': 0.0652646236447618, 'n_estimators': 236, 'min_child_samples': 45, 'subsample': 0.7, 'colsample_bytree': 0.5}. Best is trial 0 with value: 0.7294868703282325.\n",
      "[I 2025-02-27 05:12:54,317] Trial 1 finished with value: 0.7417987182233403 and parameters: {'num_iterations': 1510, 'objective': 'binary', 'metric': 'auc', 'verbose': -1, 'learning_rate': 0.005231880959249543, 'n_estimators': 1411, 'min_child_samples': 10, 'subsample': 1.0, 'colsample_bytree': 0.5}. Best is trial 1 with value: 0.7417987182233403.\n",
      "[I 2025-02-27 05:13:13,994] Trial 2 finished with value: 0.7408884838867313 and parameters: {'num_iterations': 2334, 'objective': 'binary', 'metric': 'auc', 'verbose': -1, 'learning_rate': 0.006578527777128852, 'n_estimators': 931, 'min_child_samples': 15, 'subsample': 0.5, 'colsample_bytree': 1.0}. Best is trial 1 with value: 0.7417987182233403.\n",
      "[I 2025-02-27 05:13:30,578] Trial 3 finished with value: 0.7417320549854016 and parameters: {'num_iterations': 1620, 'objective': 'binary', 'metric': 'auc', 'verbose': -1, 'learning_rate': 0.0058823249237283685, 'n_estimators': 837, 'min_child_samples': 10, 'subsample': 0.9, 'colsample_bytree': 0.6}. Best is trial 1 with value: 0.7417987182233403.\n",
      "[I 2025-02-27 05:13:47,413] Trial 4 finished with value: 0.7409731193557227 and parameters: {'num_iterations': 1997, 'objective': 'binary', 'metric': 'auc', 'verbose': -1, 'learning_rate': 0.010907507425244923, 'n_estimators': 1597, 'min_child_samples': 50, 'subsample': 0.6, 'colsample_bytree': 0.8}. Best is trial 1 with value: 0.7417987182233403.\n",
      "[I 2025-02-27 05:14:09,977] Trial 5 finished with value: 0.7371476946352914 and parameters: {'num_iterations': 2909, 'objective': 'binary', 'metric': 'auc', 'verbose': -1, 'learning_rate': 0.019760591962733942, 'n_estimators': 612, 'min_child_samples': 30, 'subsample': 0.7, 'colsample_bytree': 0.9}. Best is trial 1 with value: 0.7417987182233403.\n",
      "[I 2025-02-27 05:14:30,752] Trial 6 finished with value: 0.7392067579782013 and parameters: {'num_iterations': 2639, 'objective': 'binary', 'metric': 'auc', 'verbose': -1, 'learning_rate': 0.017862094446750985, 'n_estimators': 794, 'min_child_samples': 35, 'subsample': 1.0, 'colsample_bytree': 0.8}. Best is trial 1 with value: 0.7417987182233403.\n",
      "[I 2025-02-27 05:14:47,387] Trial 7 finished with value: 0.7405927640478122 and parameters: {'num_iterations': 1580, 'objective': 'binary', 'metric': 'auc', 'verbose': -1, 'learning_rate': 0.01776722177611332, 'n_estimators': 529, 'min_child_samples': 25, 'subsample': 0.8, 'colsample_bytree': 0.5}. Best is trial 1 with value: 0.7417987182233403.\n",
      "[I 2025-02-27 05:15:05,124] Trial 8 finished with value: 0.7366967290285348 and parameters: {'num_iterations': 1911, 'objective': 'binary', 'metric': 'auc', 'verbose': -1, 'learning_rate': 0.0304747553332844, 'n_estimators': 1328, 'min_child_samples': 10, 'subsample': 0.7, 'colsample_bytree': 0.6}. Best is trial 1 with value: 0.7417987182233403.\n",
      "[I 2025-02-27 05:15:32,594] Trial 9 finished with value: 0.7369798690998944 and parameters: {'num_iterations': 2739, 'objective': 'binary', 'metric': 'auc', 'verbose': -1, 'learning_rate': 0.02691531614176271, 'n_estimators': 1438, 'min_child_samples': 20, 'subsample': 0.6, 'colsample_bytree': 0.5}. Best is trial 1 with value: 0.7417987182233403.\n",
      "[I 2025-02-27 05:15:47,662] Trial 10 finished with value: 0.7286765434890348 and parameters: {'num_iterations': 1933, 'objective': 'binary', 'metric': 'auc', 'verbose': -1, 'learning_rate': 0.08223556891145911, 'n_estimators': 1960, 'min_child_samples': 40, 'subsample': 1.0, 'colsample_bytree': 0.7}. Best is trial 1 with value: 0.7417987182233403.\n",
      "[I 2025-02-27 05:16:03,352] Trial 11 finished with value: 0.7417751311591662 and parameters: {'num_iterations': 1513, 'objective': 'binary', 'metric': 'auc', 'verbose': -1, 'learning_rate': 0.005340229419903739, 'n_estimators': 1206, 'min_child_samples': 10, 'subsample': 0.9, 'colsample_bytree': 0.6}. Best is trial 1 with value: 0.7417987182233403.\n",
      "[I 2025-02-27 05:16:19,461] Trial 12 finished with value: 0.74184492345545 and parameters: {'num_iterations': 1550, 'objective': 'binary', 'metric': 'auc', 'verbose': -1, 'learning_rate': 0.005009803090245928, 'n_estimators': 1192, 'min_child_samples': 20, 'subsample': 0.9, 'colsample_bytree': 0.6}. Best is trial 12 with value: 0.74184492345545.\n",
      "[I 2025-02-27 05:16:34,589] Trial 13 finished with value: 0.7408128623294699 and parameters: {'num_iterations': 1777, 'objective': 'binary', 'metric': 'auc', 'verbose': -1, 'learning_rate': 0.01061042275547689, 'n_estimators': 1698, 'min_child_samples': 20, 'subsample': 0.9, 'colsample_bytree': 0.7}. Best is trial 12 with value: 0.74184492345545.\n",
      "[I 2025-02-27 05:16:55,424] Trial 14 finished with value: 0.7406353518025711 and parameters: {'num_iterations': 2165, 'objective': 'binary', 'metric': 'auc', 'verbose': -1, 'learning_rate': 0.011084406731310557, 'n_estimators': 1104, 'min_child_samples': 20, 'subsample': 1.0, 'colsample_bytree': 0.6}. Best is trial 12 with value: 0.74184492345545.\n",
      "[I 2025-02-27 05:17:14,340] Trial 15 finished with value: 0.7418087486819437 and parameters: {'num_iterations': 1745, 'objective': 'binary', 'metric': 'auc', 'verbose': -1, 'learning_rate': 0.008235043203871414, 'n_estimators': 1836, 'min_child_samples': 25, 'subsample': 0.8, 'colsample_bytree': 0.5}. Best is trial 12 with value: 0.74184492345545.\n",
      "[I 2025-02-27 05:17:29,755] Trial 16 finished with value: 0.7413960346221887 and parameters: {'num_iterations': 1782, 'objective': 'binary', 'metric': 'auc', 'verbose': -1, 'learning_rate': 0.008396844438395043, 'n_estimators': 1976, 'min_child_samples': 30, 'subsample': 0.8, 'colsample_bytree': 0.7}. Best is trial 12 with value: 0.74184492345545.\n",
      "[I 2025-02-27 05:17:48,820] Trial 17 finished with value: 0.733431064255642 and parameters: {'num_iterations': 2111, 'objective': 'binary', 'metric': 'auc', 'verbose': -1, 'learning_rate': 0.048360984848873835, 'n_estimators': 1715, 'min_child_samples': 25, 'subsample': 0.8, 'colsample_bytree': 0.6}. Best is trial 12 with value: 0.74184492345545.\n",
      "[I 2025-02-27 05:18:07,693] Trial 18 finished with value: 0.7418713219070712 and parameters: {'num_iterations': 1732, 'objective': 'binary', 'metric': 'auc', 'verbose': -1, 'learning_rate': 0.00796628888975239, 'n_estimators': 1819, 'min_child_samples': 30, 'subsample': 0.9, 'colsample_bytree': 0.5}. Best is trial 18 with value: 0.7418713219070712.\n",
      "[I 2025-02-27 05:18:28,030] Trial 19 finished with value: 0.7402490004564614 and parameters: {'num_iterations': 2481, 'objective': 'binary', 'metric': 'auc', 'verbose': -1, 'learning_rate': 0.012302309575100983, 'n_estimators': 144, 'min_child_samples': 35, 'subsample': 0.9, 'colsample_bytree': 0.7}. Best is trial 18 with value: 0.7418713219070712.\n",
      "[I 2025-02-27 05:18:44,963] Trial 20 finished with value: 0.7417748531971304 and parameters: {'num_iterations': 1695, 'objective': 'binary', 'metric': 'auc', 'verbose': -1, 'learning_rate': 0.007877155758725746, 'n_estimators': 1561, 'min_child_samples': 35, 'subsample': 0.9, 'colsample_bytree': 0.6}. Best is trial 18 with value: 0.7418713219070712.\n",
      "[I 2025-02-27 05:19:04,163] Trial 21 finished with value: 0.7416433612706886 and parameters: {'num_iterations': 1778, 'objective': 'binary', 'metric': 'auc', 'verbose': -1, 'learning_rate': 0.008326229916667597, 'n_estimators': 1888, 'min_child_samples': 25, 'subsample': 0.8, 'colsample_bytree': 0.5}. Best is trial 18 with value: 0.7418713219070712.\n",
      "[I 2025-02-27 05:19:22,568] Trial 22 finished with value: 0.7418457930795331 and parameters: {'num_iterations': 1681, 'objective': 'binary', 'metric': 'auc', 'verbose': -1, 'learning_rate': 0.007120410188317926, 'n_estimators': 1805, 'min_child_samples': 30, 'subsample': 0.9, 'colsample_bytree': 0.5}. Best is trial 18 with value: 0.7418713219070712.\n",
      "[I 2025-02-27 05:19:42,980] Trial 23 finished with value: 0.7417912410445794 and parameters: {'num_iterations': 1871, 'objective': 'binary', 'metric': 'auc', 'verbose': -1, 'learning_rate': 0.006846612583323964, 'n_estimators': 1256, 'min_child_samples': 30, 'subsample': 0.9, 'colsample_bytree': 0.5}. Best is trial 18 with value: 0.7418713219070712.\n",
      "[I 2025-02-27 05:20:02,354] Trial 24 finished with value: 0.7405665720822746 and parameters: {'num_iterations': 2039, 'objective': 'binary', 'metric': 'auc', 'verbose': -1, 'learning_rate': 0.013763055533112498, 'n_estimators': 1740, 'min_child_samples': 40, 'subsample': 1.0, 'colsample_bytree': 0.6}. Best is trial 18 with value: 0.7418713219070712.\n",
      "[I 2025-02-27 05:20:19,302] Trial 25 finished with value: 0.7409091483786443 and parameters: {'num_iterations': 1612, 'objective': 'binary', 'metric': 'auc', 'verbose': -1, 'learning_rate': 0.015172457702751553, 'n_estimators': 1508, 'min_child_samples': 30, 'subsample': 0.9, 'colsample_bytree': 0.5}. Best is trial 18 with value: 0.7418713219070712.\n",
      "[I 2025-02-27 05:20:36,326] Trial 26 finished with value: 0.7418235561166753 and parameters: {'num_iterations': 1651, 'objective': 'binary', 'metric': 'auc', 'verbose': -1, 'learning_rate': 0.0050697837388651275, 'n_estimators': 1104, 'min_child_samples': 15, 'subsample': 0.9, 'colsample_bytree': 0.6}. Best is trial 18 with value: 0.7418713219070712.\n",
      "[I 2025-02-27 05:20:56,767] Trial 27 finished with value: 0.7417671655613997 and parameters: {'num_iterations': 1897, 'objective': 'binary', 'metric': 'auc', 'verbose': -1, 'learning_rate': 0.009437572424244195, 'n_estimators': 1787, 'min_child_samples': 40, 'subsample': 1.0, 'colsample_bytree': 0.5}. Best is trial 18 with value: 0.7418713219070712.\n",
      "[I 2025-02-27 05:21:15,533] Trial 28 finished with value: 0.7412921522676666 and parameters: {'num_iterations': 2164, 'objective': 'binary', 'metric': 'auc', 'verbose': -1, 'learning_rate': 0.007111588195419266, 'n_estimators': 1638, 'min_child_samples': 15, 'subsample': 0.8, 'colsample_bytree': 0.8}. Best is trial 18 with value: 0.7418713219070712.\n",
      "[I 2025-02-27 05:21:39,334] Trial 29 finished with value: 0.7347126955808388 and parameters: {'num_iterations': 2362, 'objective': 'binary', 'metric': 'auc', 'verbose': -1, 'learning_rate': 0.04030098468148633, 'n_estimators': 359, 'min_child_samples': 45, 'subsample': 0.7, 'colsample_bytree': 0.5}. Best is trial 18 with value: 0.7418713219070712.\n",
      "[I 2025-02-27 05:21:52,961] Trial 30 finished with value: 0.7417132806353316 and parameters: {'num_iterations': 1515, 'objective': 'binary', 'metric': 'auc', 'verbose': -1, 'learning_rate': 0.006300048275050027, 'n_estimators': 1005, 'min_child_samples': 20, 'subsample': 0.9, 'colsample_bytree': 0.7}. Best is trial 18 with value: 0.7418713219070712.\n",
      "[I 2025-02-27 05:22:10,296] Trial 31 finished with value: 0.7417989247094241 and parameters: {'num_iterations': 1678, 'objective': 'binary', 'metric': 'auc', 'verbose': -1, 'learning_rate': 0.005042470593314907, 'n_estimators': 1118, 'min_child_samples': 15, 'subsample': 0.9, 'colsample_bytree': 0.6}. Best is trial 18 with value: 0.7418713219070712.\n",
      "[I 2025-02-27 05:22:27,245] Trial 32 finished with value: 0.74187794931618 and parameters: {'num_iterations': 1652, 'objective': 'binary', 'metric': 'auc', 'verbose': -1, 'learning_rate': 0.00576910811092456, 'n_estimators': 1347, 'min_child_samples': 15, 'subsample': 1.0, 'colsample_bytree': 0.6}. Best is trial 32 with value: 0.74187794931618.\n",
      "[I 2025-02-27 05:22:47,709] Trial 33 finished with value: 0.7417325473752935 and parameters: {'num_iterations': 1855, 'objective': 'binary', 'metric': 'auc', 'verbose': -1, 'learning_rate': 0.006378471145912434, 'n_estimators': 1370, 'min_child_samples': 20, 'subsample': 1.0, 'colsample_bytree': 0.5}. Best is trial 32 with value: 0.74187794931618.\n",
      "[I 2025-02-27 05:23:03,358] Trial 34 finished with value: 0.7418349406474812 and parameters: {'num_iterations': 1501, 'objective': 'binary', 'metric': 'auc', 'verbose': -1, 'learning_rate': 0.005884687778729751, 'n_estimators': 1478, 'min_child_samples': 25, 'subsample': 1.0, 'colsample_bytree': 0.6}. Best is trial 32 with value: 0.74187794931618.\n",
      "[I 2025-02-27 05:23:17,281] Trial 35 finished with value: 0.7410835179345394 and parameters: {'num_iterations': 1598, 'objective': 'binary', 'metric': 'auc', 'verbose': -1, 'learning_rate': 0.00995946300876299, 'n_estimators': 873, 'min_child_samples': 15, 'subsample': 1.0, 'colsample_bytree': 0.9}. Best is trial 32 with value: 0.74187794931618.\n",
      "[I 2025-02-27 05:23:36,161] Trial 36 finished with value: 0.7418509234645353 and parameters: {'num_iterations': 1715, 'objective': 'binary', 'metric': 'auc', 'verbose': -1, 'learning_rate': 0.007291014318807485, 'n_estimators': 1252, 'min_child_samples': 30, 'subsample': 0.5, 'colsample_bytree': 0.5}. Best is trial 32 with value: 0.74187794931618.\n",
      "[I 2025-02-27 05:23:58,042] Trial 37 finished with value: 0.741870063136138 and parameters: {'num_iterations': 2031, 'objective': 'binary', 'metric': 'auc', 'verbose': -1, 'learning_rate': 0.00731913554703137, 'n_estimators': 1342, 'min_child_samples': 35, 'subsample': 0.6, 'colsample_bytree': 0.5}. Best is trial 32 with value: 0.74187794931618.\n",
      "[I 2025-02-27 05:24:19,005] Trial 38 finished with value: 0.74124744803055 and parameters: {'num_iterations': 2004, 'objective': 'binary', 'metric': 'auc', 'verbose': -1, 'learning_rate': 0.01252408490432602, 'n_estimators': 1367, 'min_child_samples': 45, 'subsample': 0.5, 'colsample_bytree': 0.5}. Best is trial 32 with value: 0.74187794931618.\n",
      "[I 2025-02-27 05:24:37,624] Trial 39 finished with value: 0.7409380048088385 and parameters: {'num_iterations': 2273, 'objective': 'binary', 'metric': 'auc', 'verbose': -1, 'learning_rate': 0.008966697037878286, 'n_estimators': 680, 'min_child_samples': 50, 'subsample': 0.5, 'colsample_bytree': 1.0}. Best is trial 32 with value: 0.74187794931618.\n"
     ]
    },
    {
     "name": "stdout",
     "output_type": "stream",
     "text": [
      "Cat val score : 0.7421053262322875\n",
      "LGBM val score : 0.7418248823926744\n",
      "Ensemble val score : 0.7422334508472108\n"
     ]
    },
    {
     "name": "stderr",
     "output_type": "stream",
     "text": [
      "[I 2025-02-27 05:24:55,743] A new study created in memory with name: no-name-a67bd066-46fc-47f4-b289-a58bfc85f7fe\n"
     ]
    },
    {
     "name": "stdout",
     "output_type": "stream",
     "text": [
      "==================================================\n",
      "0:\ttest: 0.7275744\tbest: 0.7275744 (0)\ttotal: 139ms\tremaining: 5m 29s\n",
      "300:\ttest: 0.7408021\tbest: 0.7408032 (299)\ttotal: 38.9s\tremaining: 4m 26s\n",
      "600:\ttest: 0.7419689\tbest: 0.7419689 (600)\ttotal: 1m 18s\tremaining: 3m 51s\n",
      "900:\ttest: 0.7424026\tbest: 0.7424026 (899)\ttotal: 2m 1s\tremaining: 3m 18s\n",
      "1200:\ttest: 0.7424541\tbest: 0.7424849 (1163)\ttotal: 2m 46s\tremaining: 2m 41s\n",
      "1500:\ttest: 0.7425546\tbest: 0.7425546 (1500)\ttotal: 3m 38s\tremaining: 2m 5s\n",
      "1800:\ttest: 0.7425165\tbest: 0.7425812 (1573)\ttotal: 4m 30s\tremaining: 1m 24s\n"
     ]
    },
    {
     "name": "stderr",
     "output_type": "stream",
     "text": [
      "[I 2025-02-27 05:29:38,957] Trial 0 finished with value: 0.7425811535576965 and parameters: {'iterations': 2366, 'depth': 10, 'learning_rate': 0.01181021951839225, 'l2_leaf_reg': 9.980783802743254}. Best is trial 0 with value: 0.7425811535576965.\n"
     ]
    },
    {
     "name": "stdout",
     "output_type": "stream",
     "text": [
      "Stopped by overfitting detector  (300 iterations wait)\n",
      "\n",
      "bestTest = 0.7425811536\n",
      "bestIteration = 1573\n",
      "\n",
      "Shrink model to first 1574 iterations.\n",
      "저장 완료\n",
      "0:\ttest: 0.6984887\tbest: 0.6984887 (0)\ttotal: 63.2ms\tremaining: 2m 18s\n",
      "300:\ttest: 0.7315285\tbest: 0.7315285 (300)\ttotal: 13.4s\tremaining: 1m 23s\n",
      "600:\ttest: 0.7361513\tbest: 0.7361513 (600)\ttotal: 26.7s\tremaining: 1m 10s\n",
      "900:\ttest: 0.7382858\tbest: 0.7382858 (900)\ttotal: 40.5s\tremaining: 58.1s\n",
      "1200:\ttest: 0.7393571\tbest: 0.7393571 (1200)\ttotal: 54.4s\tremaining: 44.9s\n",
      "1500:\ttest: 0.7400899\tbest: 0.7400899 (1500)\ttotal: 1m 8s\tremaining: 31.7s\n",
      "1800:\ttest: 0.7405775\tbest: 0.7405775 (1800)\ttotal: 1m 22s\tremaining: 18s\n",
      "2100:\ttest: 0.7410224\tbest: 0.7410224 (2100)\ttotal: 1m 37s\tremaining: 4.26s\n"
     ]
    },
    {
     "name": "stderr",
     "output_type": "stream",
     "text": [
      "[I 2025-02-27 05:31:20,959] Trial 1 finished with value: 0.7411692851061048 and parameters: {'iterations': 2193, 'depth': 4, 'learning_rate': 0.005671430811678843, 'l2_leaf_reg': 0.00012325230809466137}. Best is trial 0 with value: 0.7425811535576965.\n"
     ]
    },
    {
     "name": "stdout",
     "output_type": "stream",
     "text": [
      "2192:\ttest: 0.7411691\tbest: 0.7411693 (2190)\ttotal: 1m 41s\tremaining: 0us\n",
      "\n",
      "bestTest = 0.7411692851\n",
      "bestIteration = 2190\n",
      "\n",
      "Shrink model to first 2191 iterations.\n",
      "0:\ttest: 0.6984887\tbest: 0.6984887 (0)\ttotal: 53.6ms\tremaining: 2m 15s\n",
      "300:\ttest: 0.7427933\tbest: 0.7427933 (300)\ttotal: 15.1s\tremaining: 1m 51s\n",
      "600:\ttest: 0.7428704\tbest: 0.7430030 (411)\ttotal: 30.4s\tremaining: 1m 37s\n",
      "900:\ttest: 0.7422383\tbest: 0.7430651 (721)\ttotal: 46s\tremaining: 1m 23s\n"
     ]
    },
    {
     "name": "stderr",
     "output_type": "stream",
     "text": [
      "[I 2025-02-27 05:32:13,295] Trial 2 finished with value: 0.7430650775201173 and parameters: {'iterations': 2535, 'depth': 4, 'learning_rate': 0.09275339199839054, 'l2_leaf_reg': 0.0008705394248343123}. Best is trial 2 with value: 0.7430650775201173.\n"
     ]
    },
    {
     "name": "stdout",
     "output_type": "stream",
     "text": [
      "Stopped by overfitting detector  (300 iterations wait)\n",
      "\n",
      "bestTest = 0.7430650775\n",
      "bestIteration = 721\n",
      "\n",
      "Shrink model to first 722 iterations.\n",
      "저장 완료\n",
      "0:\ttest: 0.6984887\tbest: 0.6984887 (0)\ttotal: 53.6ms\tremaining: 2m 5s\n",
      "300:\ttest: 0.7415256\tbest: 0.7415256 (300)\ttotal: 14.4s\tremaining: 1m 37s\n",
      "600:\ttest: 0.7425882\tbest: 0.7425882 (600)\ttotal: 29.3s\tremaining: 1m 24s\n",
      "900:\ttest: 0.7427306\tbest: 0.7428158 (845)\ttotal: 44.6s\tremaining: 1m 10s\n",
      "1200:\ttest: 0.7427686\tbest: 0.7429973 (1091)\ttotal: 59.8s\tremaining: 56.4s\n"
     ]
    },
    {
     "name": "stderr",
     "output_type": "stream",
     "text": [
      "[I 2025-02-27 05:33:22,934] Trial 3 finished with value: 0.742997326259353 and parameters: {'iterations': 2334, 'depth': 4, 'learning_rate': 0.04657568321363276, 'l2_leaf_reg': 0.0008640473331457248}. Best is trial 2 with value: 0.7430650775201173.\n"
     ]
    },
    {
     "name": "stdout",
     "output_type": "stream",
     "text": [
      "Stopped by overfitting detector  (300 iterations wait)\n",
      "\n",
      "bestTest = 0.7429973263\n",
      "bestIteration = 1091\n",
      "\n",
      "Shrink model to first 1092 iterations.\n",
      "0:\ttest: 0.7275645\tbest: 0.7275645 (0)\ttotal: 132ms\tremaining: 3m 50s\n",
      "300:\ttest: 0.7402245\tbest: 0.7402245 (300)\ttotal: 37.5s\tremaining: 2m 59s\n",
      "600:\ttest: 0.7408702\tbest: 0.7408702 (600)\ttotal: 1m 16s\tremaining: 2m 26s\n",
      "900:\ttest: 0.7407498\tbest: 0.7409371 (733)\ttotal: 1m 57s\tremaining: 1m 49s\n"
     ]
    },
    {
     "name": "stderr",
     "output_type": "stream",
     "text": [
      "[I 2025-02-27 05:35:40,522] Trial 4 finished with value: 0.7409370517961447 and parameters: {'iterations': 1742, 'depth': 10, 'learning_rate': 0.012622767482095846, 'l2_leaf_reg': 0.00021158816350109617}. Best is trial 2 with value: 0.7430650775201173.\n"
     ]
    },
    {
     "name": "stdout",
     "output_type": "stream",
     "text": [
      "Stopped by overfitting detector  (300 iterations wait)\n",
      "\n",
      "bestTest = 0.7409370518\n",
      "bestIteration = 733\n",
      "\n",
      "Shrink model to first 734 iterations.\n",
      "0:\ttest: 0.6984887\tbest: 0.6984887 (0)\ttotal: 54.2ms\tremaining: 1m 52s\n",
      "300:\ttest: 0.7422290\tbest: 0.7422728 (296)\ttotal: 14.5s\tremaining: 1m 25s\n",
      "600:\ttest: 0.7426776\tbest: 0.7427945 (548)\ttotal: 29.5s\tremaining: 1m 12s\n"
     ]
    },
    {
     "name": "stderr",
     "output_type": "stream",
     "text": [
      "[I 2025-02-27 05:36:22,716] Trial 5 finished with value: 0.7427945053036586 and parameters: {'iterations': 2082, 'depth': 4, 'learning_rate': 0.06995196593094148, 'l2_leaf_reg': 0.0018080296485396804}. Best is trial 2 with value: 0.7430650775201173.\n"
     ]
    },
    {
     "name": "stdout",
     "output_type": "stream",
     "text": [
      "Stopped by overfitting detector  (300 iterations wait)\n",
      "\n",
      "bestTest = 0.7427945053\n",
      "bestIteration = 548\n",
      "\n",
      "Shrink model to first 549 iterations.\n",
      "0:\ttest: 0.7052092\tbest: 0.7052092 (0)\ttotal: 61.7ms\tremaining: 2m 3s\n",
      "300:\ttest: 0.7423648\tbest: 0.7424128 (293)\ttotal: 17.3s\tremaining: 1m 37s\n",
      "600:\ttest: 0.7429477\tbest: 0.7429513 (590)\ttotal: 35.1s\tremaining: 1m 21s\n",
      "900:\ttest: 0.7429582\tbest: 0.7430260 (666)\ttotal: 53.3s\tremaining: 1m 4s\n"
     ]
    },
    {
     "name": "stderr",
     "output_type": "stream",
     "text": [
      "[I 2025-02-27 05:37:20,168] Trial 6 finished with value: 0.7430260238540983 and parameters: {'iterations': 1997, 'depth': 5, 'learning_rate': 0.07985155992831598, 'l2_leaf_reg': 62.52181000710482}. Best is trial 2 with value: 0.7430650775201173.\n"
     ]
    },
    {
     "name": "stdout",
     "output_type": "stream",
     "text": [
      "Stopped by overfitting detector  (300 iterations wait)\n",
      "\n",
      "bestTest = 0.7430260239\n",
      "bestIteration = 666\n",
      "\n",
      "Shrink model to first 667 iterations.\n",
      "0:\ttest: 0.7238532\tbest: 0.7238532 (0)\ttotal: 84.1ms\tremaining: 2m 42s\n",
      "300:\ttest: 0.7415912\tbest: 0.7422880 (161)\ttotal: 24.7s\tremaining: 2m 13s\n"
     ]
    },
    {
     "name": "stderr",
     "output_type": "stream",
     "text": [
      "[I 2025-02-27 05:37:58,815] Trial 7 finished with value: 0.7422880346492543 and parameters: {'iterations': 1927, 'depth': 7, 'learning_rate': 0.0941937211034094, 'l2_leaf_reg': 0.05654822767791934}. Best is trial 2 with value: 0.7430650775201173.\n"
     ]
    },
    {
     "name": "stdout",
     "output_type": "stream",
     "text": [
      "Stopped by overfitting detector  (300 iterations wait)\n",
      "\n",
      "bestTest = 0.7422880346\n",
      "bestIteration = 161\n",
      "\n",
      "Shrink model to first 162 iterations.\n",
      "0:\ttest: 0.7238532\tbest: 0.7238532 (0)\ttotal: 84.5ms\tremaining: 2m 40s\n",
      "300:\ttest: 0.7427869\tbest: 0.7427934 (297)\ttotal: 23.9s\tremaining: 2m 7s\n",
      "600:\ttest: 0.7428452\tbest: 0.7430787 (407)\ttotal: 50s\tremaining: 1m 48s\n"
     ]
    },
    {
     "name": "stderr",
     "output_type": "stream",
     "text": [
      "[I 2025-02-27 05:38:58,173] Trial 8 finished with value: 0.7430786976598678 and parameters: {'iterations': 1904, 'depth': 7, 'learning_rate': 0.05155602859187331, 'l2_leaf_reg': 1.299974533316308}. Best is trial 8 with value: 0.7430786976598678.\n"
     ]
    },
    {
     "name": "stdout",
     "output_type": "stream",
     "text": [
      "Stopped by overfitting detector  (300 iterations wait)\n",
      "\n",
      "bestTest = 0.7430786977\n",
      "bestIteration = 407\n",
      "\n",
      "Shrink model to first 408 iterations.\n",
      "저장 완료\n",
      "0:\ttest: 0.7114964\tbest: 0.7114964 (0)\ttotal: 74.2ms\tremaining: 3m 15s\n",
      "300:\ttest: 0.7420483\tbest: 0.7420492 (299)\ttotal: 20.4s\tremaining: 2m 38s\n",
      "600:\ttest: 0.7430095\tbest: 0.7430112 (599)\ttotal: 42.4s\tremaining: 2m 23s\n",
      "900:\ttest: 0.7430612\tbest: 0.7431714 (832)\ttotal: 1m 4s\tremaining: 2m 3s\n"
     ]
    },
    {
     "name": "stderr",
     "output_type": "stream",
     "text": [
      "[I 2025-02-27 05:40:19,926] Trial 9 finished with value: 0.7431713940278951 and parameters: {'iterations': 2639, 'depth': 6, 'learning_rate': 0.03968704290444751, 'l2_leaf_reg': 0.30557194377967184}. Best is trial 9 with value: 0.7431713940278951.\n"
     ]
    },
    {
     "name": "stdout",
     "output_type": "stream",
     "text": [
      "Stopped by overfitting detector  (300 iterations wait)\n",
      "\n",
      "bestTest = 0.743171394\n",
      "bestIteration = 832\n",
      "\n",
      "Shrink model to first 833 iterations.\n",
      "저장 완료\n",
      "0:\ttest: 0.7114953\tbest: 0.7114953 (0)\ttotal: 74ms\tremaining: 3m 37s\n",
      "300:\ttest: 0.7416634\tbest: 0.7416921 (298)\ttotal: 20.1s\tremaining: 2m 56s\n",
      "600:\ttest: 0.7427273\tbest: 0.7427273 (600)\ttotal: 41.7s\tremaining: 2m 42s\n",
      "900:\ttest: 0.7428844\tbest: 0.7430140 (796)\ttotal: 1m 3s\tremaining: 2m 24s\n"
     ]
    },
    {
     "name": "stderr",
     "output_type": "stream",
     "text": [
      "[I 2025-02-27 05:41:38,401] Trial 10 finished with value: 0.743013980156179 and parameters: {'iterations': 2945, 'depth': 6, 'learning_rate': 0.032580115422505045, 'l2_leaf_reg': 0.05588195113566891}. Best is trial 9 with value: 0.7431713940278951.\n"
     ]
    },
    {
     "name": "stdout",
     "output_type": "stream",
     "text": [
      "Stopped by overfitting detector  (300 iterations wait)\n",
      "\n",
      "bestTest = 0.7430139802\n",
      "bestIteration = 796\n",
      "\n",
      "Shrink model to first 797 iterations.\n",
      "0:\ttest: 0.7280616\tbest: 0.7280616 (0)\ttotal: 96.2ms\tremaining: 4m 23s\n",
      "300:\ttest: 0.7428062\tbest: 0.7428172 (293)\ttotal: 27s\tremaining: 3m 39s\n",
      "600:\ttest: 0.7422838\tbest: 0.7429078 (350)\ttotal: 56.6s\tremaining: 3m 21s\n"
     ]
    },
    {
     "name": "stderr",
     "output_type": "stream",
     "text": [
      "[I 2025-02-27 05:42:40,005] Trial 11 finished with value: 0.7429077708623294 and parameters: {'iterations': 2742, 'depth': 8, 'learning_rate': 0.05038072346939034, 'l2_leaf_reg': 1.9458284937024315}. Best is trial 9 with value: 0.7431713940278951.\n"
     ]
    },
    {
     "name": "stdout",
     "output_type": "stream",
     "text": [
      "Stopped by overfitting detector  (300 iterations wait)\n",
      "\n",
      "bestTest = 0.7429077709\n",
      "bestIteration = 350\n",
      "\n",
      "Shrink model to first 351 iterations.\n",
      "0:\ttest: 0.7238532\tbest: 0.7238532 (0)\ttotal: 83.3ms\tremaining: 2m 10s\n",
      "300:\ttest: 0.7419905\tbest: 0.7419905 (300)\ttotal: 23.5s\tremaining: 1m 38s\n",
      "600:\ttest: 0.7427174\tbest: 0.7428096 (563)\ttotal: 48.7s\tremaining: 1m 18s\n",
      "900:\ttest: 0.7427583\tbest: 0.7429594 (676)\ttotal: 1m 14s\tremaining: 54.7s\n"
     ]
    },
    {
     "name": "stderr",
     "output_type": "stream",
     "text": [
      "[I 2025-02-27 05:44:00,952] Trial 12 finished with value: 0.7429593963541357 and parameters: {'iterations': 1565, 'depth': 7, 'learning_rate': 0.03421727225236856, 'l2_leaf_reg': 0.5279524076347274}. Best is trial 9 with value: 0.7431713940278951.\n"
     ]
    },
    {
     "name": "stdout",
     "output_type": "stream",
     "text": [
      "Stopped by overfitting detector  (300 iterations wait)\n",
      "\n",
      "bestTest = 0.7429593964\n",
      "bestIteration = 676\n",
      "\n",
      "Shrink model to first 677 iterations.\n",
      "0:\ttest: 0.7280626\tbest: 0.7280626 (0)\ttotal: 93ms\tremaining: 4m 3s\n",
      "300:\ttest: 0.7428626\tbest: 0.7429233 (253)\ttotal: 27.7s\tremaining: 3m 33s\n"
     ]
    },
    {
     "name": "stderr",
     "output_type": "stream",
     "text": [
      "[I 2025-02-27 05:44:53,778] Trial 13 finished with value: 0.7429232612894916 and parameters: {'iterations': 2621, 'depth': 8, 'learning_rate': 0.06513774410228096, 'l2_leaf_reg': 0.4450207665125896}. Best is trial 9 with value: 0.7431713940278951.\n"
     ]
    },
    {
     "name": "stdout",
     "output_type": "stream",
     "text": [
      "Stopped by overfitting detector  (300 iterations wait)\n",
      "\n",
      "bestTest = 0.7429232613\n",
      "bestIteration = 253\n",
      "\n",
      "Shrink model to first 254 iterations.\n",
      "0:\ttest: 0.7114850\tbest: 0.7114850 (0)\ttotal: 74.8ms\tremaining: 3m 38s\n",
      "300:\ttest: 0.7417458\tbest: 0.7417563 (294)\ttotal: 20.2s\tremaining: 2m 56s\n",
      "600:\ttest: 0.7425595\tbest: 0.7425905 (594)\ttotal: 41.6s\tremaining: 2m 40s\n",
      "900:\ttest: 0.7427115\tbest: 0.7428066 (873)\ttotal: 1m 3s\tremaining: 2m 22s\n",
      "1200:\ttest: 0.7425644\tbest: 0.7428224 (957)\ttotal: 1m 25s\tremaining: 2m 2s\n"
     ]
    },
    {
     "name": "stderr",
     "output_type": "stream",
     "text": [
      "[I 2025-02-27 05:46:23,629] Trial 14 finished with value: 0.7428223690122967 and parameters: {'iterations': 2922, 'depth': 6, 'learning_rate': 0.032542601115978974, 'l2_leaf_reg': 0.0118311002022484}. Best is trial 9 with value: 0.7431713940278951.\n"
     ]
    },
    {
     "name": "stdout",
     "output_type": "stream",
     "text": [
      "Stopped by overfitting detector  (300 iterations wait)\n",
      "\n",
      "bestTest = 0.742822369\n",
      "bestIteration = 957\n",
      "\n",
      "Shrink model to first 958 iterations.\n",
      "0:\ttest: 0.7280596\tbest: 0.7280596 (0)\ttotal: 96ms\tremaining: 2m 47s\n",
      "300:\ttest: 0.7430877\tbest: 0.7431630 (235)\ttotal: 27.3s\tremaining: 2m 11s\n"
     ]
    },
    {
     "name": "stderr",
     "output_type": "stream",
     "text": [
      "[I 2025-02-27 05:47:14,006] Trial 15 finished with value: 0.7431630075161888 and parameters: {'iterations': 1748, 'depth': 8, 'learning_rate': 0.05947895129861792, 'l2_leaf_reg': 4.722389127363701}. Best is trial 9 with value: 0.7431713940278951.\n"
     ]
    },
    {
     "name": "stdout",
     "output_type": "stream",
     "text": [
      "Stopped by overfitting detector  (300 iterations wait)\n",
      "\n",
      "bestTest = 0.7431630075\n",
      "bestIteration = 235\n",
      "\n",
      "Shrink model to first 236 iterations.\n",
      "0:\ttest: 0.7280462\tbest: 0.7280462 (0)\ttotal: 109ms\tremaining: 2m 45s\n",
      "300:\ttest: 0.7421586\tbest: 0.7421868 (281)\ttotal: 29.4s\tremaining: 1m 59s\n",
      "600:\ttest: 0.7417075\tbest: 0.7422454 (354)\ttotal: 1m 2s\tremaining: 1m 35s\n"
     ]
    },
    {
     "name": "stderr",
     "output_type": "stream",
     "text": [
      "[I 2025-02-27 05:48:22,599] Trial 16 finished with value: 0.7422454071856331 and parameters: {'iterations': 1523, 'depth': 9, 'learning_rate': 0.06480975584973074, 'l2_leaf_reg': 27.410969553376884}. Best is trial 9 with value: 0.7431713940278951.\n"
     ]
    },
    {
     "name": "stdout",
     "output_type": "stream",
     "text": [
      "Stopped by overfitting detector  (300 iterations wait)\n",
      "\n",
      "bestTest = 0.7422454072\n",
      "bestIteration = 354\n",
      "\n",
      "Shrink model to first 355 iterations.\n",
      "0:\ttest: 0.7280584\tbest: 0.7280584 (0)\ttotal: 94.2ms\tremaining: 3m 57s\n",
      "300:\ttest: 0.7419981\tbest: 0.7419981 (300)\ttotal: 26.5s\tremaining: 3m 15s\n",
      "600:\ttest: 0.7427590\tbest: 0.7427923 (592)\ttotal: 52.8s\tremaining: 2m 48s\n",
      "900:\ttest: 0.7429456\tbest: 0.7429680 (891)\ttotal: 1m 22s\tremaining: 2m 28s\n",
      "1200:\ttest: 0.7428809\tbest: 0.7429994 (984)\ttotal: 1m 52s\tremaining: 2m 3s\n"
     ]
    },
    {
     "name": "stderr",
     "output_type": "stream",
     "text": [
      "[I 2025-02-27 05:50:23,410] Trial 17 finished with value: 0.7429993990619623 and parameters: {'iterations': 2521, 'depth': 8, 'learning_rate': 0.022992108537592242, 'l2_leaf_reg': 6.127362784876673}. Best is trial 9 with value: 0.7431713940278951.\n"
     ]
    },
    {
     "name": "stdout",
     "output_type": "stream",
     "text": [
      "Stopped by overfitting detector  (300 iterations wait)\n",
      "\n",
      "bestTest = 0.7429993991\n",
      "bestIteration = 984\n",
      "\n",
      "Shrink model to first 985 iterations.\n",
      "0:\ttest: 0.7114964\tbest: 0.7114964 (0)\ttotal: 72.2ms\tremaining: 2m 11s\n",
      "300:\ttest: 0.7423640\tbest: 0.7423740 (299)\ttotal: 20.2s\tremaining: 1m 41s\n",
      "600:\ttest: 0.7432164\tbest: 0.7432558 (587)\ttotal: 42s\tremaining: 1m 25s\n"
     ]
    },
    {
     "name": "stderr",
     "output_type": "stream",
     "text": [
      "[I 2025-02-27 05:51:26,809] Trial 18 finished with value: 0.743255826981689 and parameters: {'iterations': 1817, 'depth': 6, 'learning_rate': 0.041341610337686366, 'l2_leaf_reg': 0.24688273757619028}. Best is trial 18 with value: 0.743255826981689.\n"
     ]
    },
    {
     "name": "stdout",
     "output_type": "stream",
     "text": [
      "Stopped by overfitting detector  (300 iterations wait)\n",
      "\n",
      "bestTest = 0.743255827\n",
      "bestIteration = 587\n",
      "\n",
      "Shrink model to first 588 iterations.\n",
      "저장 완료\n",
      "0:\ttest: 0.7114850\tbest: 0.7114850 (0)\ttotal: 78.2ms\tremaining: 3m 33s\n",
      "300:\ttest: 0.7420305\tbest: 0.7420305 (300)\ttotal: 20.2s\tremaining: 2m 43s\n",
      "600:\ttest: 0.7432202\tbest: 0.7432873 (592)\ttotal: 41.9s\tremaining: 2m 28s\n",
      "900:\ttest: 0.7432270\tbest: 0.7433262 (638)\ttotal: 1m 4s\tremaining: 2m 10s\n"
     ]
    },
    {
     "name": "stderr",
     "output_type": "stream",
     "text": [
      "[I 2025-02-27 05:52:34,026] Trial 19 finished with value: 0.7433262029982478 and parameters: {'iterations': 2737, 'depth': 6, 'learning_rate': 0.03695847554535241, 'l2_leaf_reg': 0.015052315154473044}. Best is trial 19 with value: 0.7433262029982478.\n"
     ]
    },
    {
     "name": "stdout",
     "output_type": "stream",
     "text": [
      "Stopped by overfitting detector  (300 iterations wait)\n",
      "\n",
      "bestTest = 0.743326203\n",
      "bestIteration = 638\n",
      "\n",
      "Shrink model to first 639 iterations.\n",
      "저장 완료\n",
      "0:\ttest: 0.7051695\tbest: 0.7051695 (0)\ttotal: 61.6ms\tremaining: 2m 52s\n",
      "300:\ttest: 0.7405817\tbest: 0.7405817 (300)\ttotal: 17s\tremaining: 2m 21s\n",
      "600:\ttest: 0.7420897\tbest: 0.7420941 (593)\ttotal: 34.7s\tremaining: 2m 7s\n",
      "900:\ttest: 0.7427591\tbest: 0.7427648 (877)\ttotal: 53.3s\tremaining: 1m 52s\n",
      "1200:\ttest: 0.7429587\tbest: 0.7429748 (1139)\ttotal: 1m 11s\tremaining: 1m 35s\n",
      "1500:\ttest: 0.7428720\tbest: 0.7430197 (1320)\ttotal: 1m 30s\tremaining: 1m 18s\n"
     ]
    },
    {
     "name": "stderr",
     "output_type": "stream",
     "text": [
      "[I 2025-02-27 05:54:11,759] Trial 20 finished with value: 0.743019741912091 and parameters: {'iterations': 2806, 'depth': 5, 'learning_rate': 0.024149491050084702, 'l2_leaf_reg': 0.012990508780008181}. Best is trial 19 with value: 0.7433262029982478.\n"
     ]
    },
    {
     "name": "stdout",
     "output_type": "stream",
     "text": [
      "Stopped by overfitting detector  (300 iterations wait)\n",
      "\n",
      "bestTest = 0.7430197419\n",
      "bestIteration = 1320\n",
      "\n",
      "Shrink model to first 1321 iterations.\n",
      "0:\ttest: 0.7114964\tbest: 0.7114964 (0)\ttotal: 75.4ms\tremaining: 3m 20s\n",
      "300:\ttest: 0.7421861\tbest: 0.7422290 (295)\ttotal: 20.5s\tremaining: 2m 40s\n",
      "600:\ttest: 0.7428812\tbest: 0.7429865 (524)\ttotal: 42s\tremaining: 2m 24s\n",
      "900:\ttest: 0.7428757\tbest: 0.7430277 (663)\ttotal: 1m 4s\tremaining: 2m 5s\n"
     ]
    },
    {
     "name": "stderr",
     "output_type": "stream",
     "text": [
      "[I 2025-02-27 05:55:20,712] Trial 21 finished with value: 0.743027731335175 and parameters: {'iterations': 2660, 'depth': 6, 'learning_rate': 0.03907892933505622, 'l2_leaf_reg': 0.154746877237907}. Best is trial 19 with value: 0.7433262029982478.\n"
     ]
    },
    {
     "name": "stdout",
     "output_type": "stream",
     "text": [
      "Stopped by overfitting detector  (300 iterations wait)\n",
      "\n",
      "bestTest = 0.7430277313\n",
      "bestIteration = 663\n",
      "\n",
      "Shrink model to first 664 iterations.\n",
      "0:\ttest: 0.7051695\tbest: 0.7051695 (0)\ttotal: 65ms\tremaining: 2m 38s\n",
      "300:\ttest: 0.7418600\tbest: 0.7418636 (299)\ttotal: 17.2s\tremaining: 2m 1s\n",
      "600:\ttest: 0.7427909\tbest: 0.7428053 (521)\ttotal: 35.6s\tremaining: 1m 48s\n",
      "900:\ttest: 0.7427967\tbest: 0.7430392 (761)\ttotal: 54.2s\tremaining: 1m 32s\n"
     ]
    },
    {
     "name": "stderr",
     "output_type": "stream",
     "text": [
      "[I 2025-02-27 05:56:25,204] Trial 22 finished with value: 0.7430392310216813 and parameters: {'iterations': 2434, 'depth': 5, 'learning_rate': 0.044021098987236267, 'l2_leaf_reg': 0.00895659055622815}. Best is trial 19 with value: 0.7433262029982478.\n"
     ]
    },
    {
     "name": "stdout",
     "output_type": "stream",
     "text": [
      "Stopped by overfitting detector  (300 iterations wait)\n",
      "\n",
      "bestTest = 0.743039231\n",
      "bestIteration = 761\n",
      "\n",
      "Shrink model to first 762 iterations.\n",
      "0:\ttest: 0.7114964\tbest: 0.7114964 (0)\ttotal: 74.5ms\tremaining: 3m 29s\n",
      "300:\ttest: 0.7409643\tbest: 0.7409643 (300)\ttotal: 20.2s\tremaining: 2m 48s\n",
      "600:\ttest: 0.7422952\tbest: 0.7422965 (599)\ttotal: 41.3s\tremaining: 2m 32s\n",
      "900:\ttest: 0.7427899\tbest: 0.7428372 (831)\ttotal: 1m 3s\tremaining: 2m 14s\n",
      "1200:\ttest: 0.7429584\tbest: 0.7430591 (1110)\ttotal: 1m 25s\tremaining: 1m 55s\n"
     ]
    },
    {
     "name": "stderr",
     "output_type": "stream",
     "text": [
      "[I 2025-02-27 05:58:06,831] Trial 23 finished with value: 0.7430591251616667 and parameters: {'iterations': 2814, 'depth': 6, 'learning_rate': 0.022002806549225214, 'l2_leaf_reg': 0.16692545318271604}. Best is trial 19 with value: 0.7433262029982478.\n"
     ]
    },
    {
     "name": "stdout",
     "output_type": "stream",
     "text": [
      "Stopped by overfitting detector  (300 iterations wait)\n",
      "\n",
      "bestTest = 0.7430591252\n",
      "bestIteration = 1110\n",
      "\n",
      "Shrink model to first 1111 iterations.\n",
      "0:\ttest: 0.7051695\tbest: 0.7051695 (0)\ttotal: 63.7ms\tremaining: 2m 19s\n",
      "300:\ttest: 0.7418765\tbest: 0.7418765 (300)\ttotal: 17.4s\tremaining: 1m 49s\n",
      "600:\ttest: 0.7430507\tbest: 0.7430797 (595)\ttotal: 35.6s\tremaining: 1m 34s\n",
      "900:\ttest: 0.7430973\tbest: 0.7432920 (751)\ttotal: 54.3s\tremaining: 1m 17s\n"
     ]
    },
    {
     "name": "stderr",
     "output_type": "stream",
     "text": [
      "[I 2025-02-27 05:59:10,594] Trial 24 finished with value: 0.7432920374931713 and parameters: {'iterations': 2192, 'depth': 5, 'learning_rate': 0.040894147321778186, 'l2_leaf_reg': 0.03371429918046341}. Best is trial 19 with value: 0.7433262029982478.\n"
     ]
    },
    {
     "name": "stdout",
     "output_type": "stream",
     "text": [
      "Stopped by overfitting detector  (300 iterations wait)\n",
      "\n",
      "bestTest = 0.7432920375\n",
      "bestIteration = 751\n",
      "\n",
      "Shrink model to first 752 iterations.\n",
      "0:\ttest: 0.7051695\tbest: 0.7051695 (0)\ttotal: 63.9ms\tremaining: 2m 20s\n",
      "300:\ttest: 0.7410378\tbest: 0.7410378 (300)\ttotal: 17.2s\tremaining: 1m 48s\n",
      "600:\ttest: 0.7424321\tbest: 0.7424370 (589)\ttotal: 35.1s\tremaining: 1m 33s\n",
      "900:\ttest: 0.7429651\tbest: 0.7429651 (900)\ttotal: 53.7s\tremaining: 1m 17s\n",
      "1200:\ttest: 0.7429902\tbest: 0.7431296 (1008)\ttotal: 1m 12s\tremaining: 60s\n"
     ]
    },
    {
     "name": "stderr",
     "output_type": "stream",
     "text": [
      "[I 2025-02-27 06:00:29,778] Trial 25 finished with value: 0.743129636188357 and parameters: {'iterations': 2198, 'depth': 5, 'learning_rate': 0.028609119782177714, 'l2_leaf_reg': 0.033801166261769766}. Best is trial 19 with value: 0.7433262029982478.\n"
     ]
    },
    {
     "name": "stdout",
     "output_type": "stream",
     "text": [
      "Stopped by overfitting detector  (300 iterations wait)\n",
      "\n",
      "bestTest = 0.7431296362\n",
      "bestIteration = 1008\n",
      "\n",
      "Shrink model to first 1009 iterations.\n",
      "0:\ttest: 0.7051550\tbest: 0.7051550 (0)\ttotal: 62.8ms\tremaining: 1m 51s\n",
      "300:\ttest: 0.7423962\tbest: 0.7424492 (296)\ttotal: 17.8s\tremaining: 1m 26s\n",
      "600:\ttest: 0.7430392\tbest: 0.7430822 (593)\ttotal: 36.3s\tremaining: 1m 10s\n",
      "900:\ttest: 0.7427739\tbest: 0.7432192 (700)\ttotal: 55s\tremaining: 53.3s\n"
     ]
    },
    {
     "name": "stderr",
     "output_type": "stream",
     "text": [
      "[I 2025-02-27 06:01:31,198] Trial 26 finished with value: 0.7432192154106981 and parameters: {'iterations': 1775, 'depth': 5, 'learning_rate': 0.05626433473687673, 'l2_leaf_reg': 0.004970876416838819}. Best is trial 19 with value: 0.7433262029982478.\n"
     ]
    },
    {
     "name": "stdout",
     "output_type": "stream",
     "text": [
      "Stopped by overfitting detector  (300 iterations wait)\n",
      "\n",
      "bestTest = 0.7432192154\n",
      "bestIteration = 700\n",
      "\n",
      "Shrink model to first 701 iterations.\n",
      "0:\ttest: 0.7238532\tbest: 0.7238532 (0)\ttotal: 84.1ms\tremaining: 2m 57s\n",
      "300:\ttest: 0.7422246\tbest: 0.7422522 (298)\ttotal: 23.4s\tremaining: 2m 20s\n",
      "600:\ttest: 0.7419424\tbest: 0.7424586 (390)\ttotal: 49.2s\tremaining: 2m 3s\n"
     ]
    },
    {
     "name": "stderr",
     "output_type": "stream",
     "text": [
      "[I 2025-02-27 06:02:28,462] Trial 27 finished with value: 0.7424585842126014 and parameters: {'iterations': 2113, 'depth': 7, 'learning_rate': 0.04161965874779209, 'l2_leaf_reg': 0.02604474485710769}. Best is trial 19 with value: 0.7433262029982478.\n"
     ]
    },
    {
     "name": "stdout",
     "output_type": "stream",
     "text": [
      "Stopped by overfitting detector  (300 iterations wait)\n",
      "\n",
      "bestTest = 0.7424585842\n",
      "bestIteration = 390\n",
      "\n",
      "Shrink model to first 391 iterations.\n",
      "0:\ttest: 0.7114705\tbest: 0.7114705 (0)\ttotal: 73.9ms\tremaining: 2m 48s\n",
      "300:\ttest: 0.7426369\tbest: 0.7427544 (294)\ttotal: 21s\tremaining: 2m 17s\n"
     ]
    },
    {
     "name": "stderr",
     "output_type": "stream",
     "text": [
      "[I 2025-02-27 06:03:11,259] Trial 28 finished with value: 0.7427543556730416 and parameters: {'iterations': 2274, 'depth': 6, 'learning_rate': 0.07499652571842455, 'l2_leaf_reg': 0.0017689411215411654}. Best is trial 19 with value: 0.7433262029982478.\n"
     ]
    },
    {
     "name": "stdout",
     "output_type": "stream",
     "text": [
      "Stopped by overfitting detector  (300 iterations wait)\n",
      "\n",
      "bestTest = 0.7427543557\n",
      "bestIteration = 294\n",
      "\n",
      "Shrink model to first 295 iterations.\n",
      "0:\ttest: 0.7051550\tbest: 0.7051550 (0)\ttotal: 65ms\tremaining: 2m 37s\n",
      "300:\ttest: 0.7391558\tbest: 0.7391558 (300)\ttotal: 16.7s\tremaining: 1m 57s\n",
      "600:\ttest: 0.7410456\tbest: 0.7410456 (600)\ttotal: 33.9s\tremaining: 1m 42s\n",
      "900:\ttest: 0.7420863\tbest: 0.7420863 (900)\ttotal: 51.6s\tremaining: 1m 26s\n",
      "1200:\ttest: 0.7426322\tbest: 0.7426373 (1163)\ttotal: 1m 9s\tremaining: 1m 10s\n",
      "1500:\ttest: 0.7428670\tbest: 0.7428713 (1442)\ttotal: 1m 28s\tremaining: 54s\n",
      "1800:\ttest: 0.7429736\tbest: 0.7429969 (1713)\ttotal: 1m 46s\tremaining: 36.6s\n",
      "2100:\ttest: 0.7430140\tbest: 0.7430399 (1994)\ttotal: 2m 4s\tremaining: 18.9s\n",
      "2400:\ttest: 0.7430835\tbest: 0.7431056 (2318)\ttotal: 2m 23s\tremaining: 1.13s\n"
     ]
    },
    {
     "name": "stderr",
     "output_type": "stream",
     "text": [
      "[I 2025-02-27 06:05:36,127] Trial 29 finished with value: 0.7431056401229018 and parameters: {'iterations': 2420, 'depth': 5, 'learning_rate': 0.015519294540273457, 'l2_leaf_reg': 0.004330832058381636}. Best is trial 19 with value: 0.7433262029982478.\n"
     ]
    },
    {
     "name": "stdout",
     "output_type": "stream",
     "text": [
      "2419:\ttest: 0.7430887\tbest: 0.7431056 (2318)\ttotal: 2m 24s\tremaining: 0us\n",
      "\n",
      "bestTest = 0.7431056401\n",
      "bestIteration = 2318\n",
      "\n",
      "Shrink model to first 2319 iterations.\n",
      "0:\ttest: 0.7114953\tbest: 0.7114953 (0)\ttotal: 75.2ms\tremaining: 2m 3s\n",
      "300:\ttest: 0.7424174\tbest: 0.7424194 (293)\ttotal: 20.8s\tremaining: 1m 32s\n",
      "600:\ttest: 0.7426913\tbest: 0.7427816 (568)\ttotal: 42.9s\tremaining: 1m 14s\n"
     ]
    },
    {
     "name": "stderr",
     "output_type": "stream",
     "text": [
      "[I 2025-02-27 06:06:38,958] Trial 30 finished with value: 0.7427816396322908 and parameters: {'iterations': 1642, 'depth': 6, 'learning_rate': 0.04785054180350075, 'l2_leaf_reg': 0.0975428572692185}. Best is trial 19 with value: 0.7433262029982478.\n"
     ]
    },
    {
     "name": "stdout",
     "output_type": "stream",
     "text": [
      "Stopped by overfitting detector  (300 iterations wait)\n",
      "\n",
      "bestTest = 0.7427816396\n",
      "bestIteration = 568\n",
      "\n",
      "Shrink model to first 569 iterations.\n",
      "0:\ttest: 0.7051550\tbest: 0.7051550 (0)\ttotal: 62.5ms\tremaining: 1m 52s\n",
      "300:\ttest: 0.7427513\tbest: 0.7427513 (300)\ttotal: 17.5s\tremaining: 1m 27s\n",
      "600:\ttest: 0.7430250\tbest: 0.7433439 (475)\ttotal: 35.9s\tremaining: 1m 11s\n"
     ]
    },
    {
     "name": "stderr",
     "output_type": "stream",
     "text": [
      "[I 2025-02-27 06:07:26,287] Trial 31 finished with value: 0.7433438932963785 and parameters: {'iterations': 1800, 'depth': 5, 'learning_rate': 0.05893870834853575, 'l2_leaf_reg': 0.004664908169583801}. Best is trial 31 with value: 0.7433438932963785.\n"
     ]
    },
    {
     "name": "stdout",
     "output_type": "stream",
     "text": [
      "Stopped by overfitting detector  (300 iterations wait)\n",
      "\n",
      "bestTest = 0.7433438933\n",
      "bestIteration = 475\n",
      "\n",
      "Shrink model to first 476 iterations.\n",
      "저장 완료\n",
      "0:\ttest: 0.7051695\tbest: 0.7051695 (0)\ttotal: 67.1ms\tremaining: 2m 4s\n",
      "300:\ttest: 0.7427473\tbest: 0.7427473 (300)\ttotal: 18.6s\tremaining: 1m 36s\n",
      "600:\ttest: 0.7429998\tbest: 0.7433088 (517)\ttotal: 37.1s\tremaining: 1m 17s\n"
     ]
    },
    {
     "name": "stderr",
     "output_type": "stream",
     "text": [
      "[I 2025-02-27 06:08:17,035] Trial 32 finished with value: 0.7433087827203805 and parameters: {'iterations': 1855, 'depth': 5, 'learning_rate': 0.057026117399918315, 'l2_leaf_reg': 0.023455481354581514}. Best is trial 31 with value: 0.7433438932963785.\n"
     ]
    },
    {
     "name": "stdout",
     "output_type": "stream",
     "text": [
      "Stopped by overfitting detector  (300 iterations wait)\n",
      "\n",
      "bestTest = 0.7433087827\n",
      "bestIteration = 517\n",
      "\n",
      "Shrink model to first 518 iterations.\n",
      "0:\ttest: 0.6984887\tbest: 0.6984887 (0)\ttotal: 54.6ms\tremaining: 1m 51s\n",
      "300:\ttest: 0.7419471\tbest: 0.7419471 (300)\ttotal: 14.2s\tremaining: 1m 22s\n",
      "600:\ttest: 0.7428802\tbest: 0.7429012 (594)\ttotal: 29.1s\tremaining: 1m 10s\n",
      "900:\ttest: 0.7429247\tbest: 0.7430682 (692)\ttotal: 44s\tremaining: 56.1s\n"
     ]
    },
    {
     "name": "stderr",
     "output_type": "stream",
     "text": [
      "[I 2025-02-27 06:09:05,873] Trial 33 finished with value: 0.7430682026075761 and parameters: {'iterations': 2049, 'depth': 4, 'learning_rate': 0.05446668475804803, 'l2_leaf_reg': 0.01677744212829644}. Best is trial 31 with value: 0.7433438932963785.\n"
     ]
    },
    {
     "name": "stdout",
     "output_type": "stream",
     "text": [
      "Stopped by overfitting detector  (300 iterations wait)\n",
      "\n",
      "bestTest = 0.7430682026\n",
      "bestIteration = 692\n",
      "\n",
      "Shrink model to first 693 iterations.\n",
      "0:\ttest: 0.6984887\tbest: 0.6984887 (0)\ttotal: 53.2ms\tremaining: 1m 27s\n",
      "300:\ttest: 0.7420312\tbest: 0.7420312 (300)\ttotal: 14.3s\tremaining: 1m 4s\n",
      "600:\ttest: 0.7426319\tbest: 0.7426633 (598)\ttotal: 29.3s\tremaining: 50.9s\n",
      "900:\ttest: 0.7425916\tbest: 0.7427730 (766)\ttotal: 44.5s\tremaining: 36.8s\n"
     ]
    },
    {
     "name": "stderr",
     "output_type": "stream",
     "text": [
      "[I 2025-02-27 06:09:58,973] Trial 34 finished with value: 0.7427729672167763 and parameters: {'iterations': 1647, 'depth': 4, 'learning_rate': 0.06030575493209585, 'l2_leaf_reg': 0.0034508467883301165}. Best is trial 31 with value: 0.7433438932963785.\n"
     ]
    },
    {
     "name": "stdout",
     "output_type": "stream",
     "text": [
      "Stopped by overfitting detector  (300 iterations wait)\n",
      "\n",
      "bestTest = 0.7427729672\n",
      "bestIteration = 766\n",
      "\n",
      "Shrink model to first 767 iterations.\n",
      "0:\ttest: 0.7051550\tbest: 0.7051550 (0)\ttotal: 64.6ms\tremaining: 2m 4s\n",
      "300:\ttest: 0.7426231\tbest: 0.7427506 (280)\ttotal: 17.9s\tremaining: 1m 36s\n"
     ]
    },
    {
     "name": "stderr",
     "output_type": "stream",
     "text": [
      "[I 2025-02-27 06:10:34,304] Trial 35 finished with value: 0.7427505753893557 and parameters: {'iterations': 1929, 'depth': 5, 'learning_rate': 0.08533107121187883, 'l2_leaf_reg': 0.001196614105254603}. Best is trial 31 with value: 0.7433438932963785.\n"
     ]
    },
    {
     "name": "stdout",
     "output_type": "stream",
     "text": [
      "Stopped by overfitting detector  (300 iterations wait)\n",
      "\n",
      "bestTest = 0.7427505754\n",
      "bestIteration = 280\n",
      "\n",
      "Shrink model to first 281 iterations.\n",
      "0:\ttest: 0.6984887\tbest: 0.6984887 (0)\ttotal: 52.1ms\tremaining: 1m 53s\n",
      "300:\ttest: 0.7421910\tbest: 0.7422140 (295)\ttotal: 14.2s\tremaining: 1m 28s\n",
      "600:\ttest: 0.7424338\tbest: 0.7426564 (477)\ttotal: 29.2s\tremaining: 1m 16s\n"
     ]
    },
    {
     "name": "stderr",
     "output_type": "stream",
     "text": [
      "[I 2025-02-27 06:11:12,438] Trial 36 finished with value: 0.7426564018516528 and parameters: {'iterations': 2181, 'depth': 4, 'learning_rate': 0.06786962930232072, 'l2_leaf_reg': 0.04254619015892608}. Best is trial 31 with value: 0.7433438932963785.\n"
     ]
    },
    {
     "name": "stdout",
     "output_type": "stream",
     "text": [
      "Stopped by overfitting detector  (300 iterations wait)\n",
      "\n",
      "bestTest = 0.7426564019\n",
      "bestIteration = 477\n",
      "\n",
      "Shrink model to first 478 iterations.\n",
      "0:\ttest: 0.7051550\tbest: 0.7051550 (0)\ttotal: 60.8ms\tremaining: 1m 54s\n",
      "300:\ttest: 0.7424780\tbest: 0.7424780 (300)\ttotal: 17.7s\tremaining: 1m 32s\n",
      "600:\ttest: 0.7422515\tbest: 0.7428677 (448)\ttotal: 36.3s\tremaining: 1m 16s\n"
     ]
    },
    {
     "name": "stderr",
     "output_type": "stream",
     "text": [
      "[I 2025-02-27 06:11:58,155] Trial 37 finished with value: 0.7428677006494369 and parameters: {'iterations': 1876, 'depth': 5, 'learning_rate': 0.07417884959553789, 'l2_leaf_reg': 0.0005269941763563227}. Best is trial 31 with value: 0.7433438932963785.\n"
     ]
    },
    {
     "name": "stdout",
     "output_type": "stream",
     "text": [
      "Stopped by overfitting detector  (300 iterations wait)\n",
      "\n",
      "bestTest = 0.7428677006\n",
      "bestIteration = 448\n",
      "\n",
      "Shrink model to first 449 iterations.\n",
      "0:\ttest: 0.6984887\tbest: 0.6984887 (0)\ttotal: 53.4ms\tremaining: 2m 5s\n",
      "300:\ttest: 0.7419478\tbest: 0.7419478 (300)\ttotal: 14.3s\tremaining: 1m 37s\n",
      "600:\ttest: 0.7429995\tbest: 0.7430275 (597)\ttotal: 29s\tremaining: 1m 24s\n"
     ]
    },
    {
     "name": "stderr",
     "output_type": "stream",
     "text": [
      "[I 2025-02-27 06:12:42,153] Trial 38 finished with value: 0.7430275049946602 and parameters: {'iterations': 2350, 'depth': 4, 'learning_rate': 0.060070037036132354, 'l2_leaf_reg': 0.004916334370826986}. Best is trial 31 with value: 0.7433438932963785.\n"
     ]
    },
    {
     "name": "stdout",
     "output_type": "stream",
     "text": [
      "Stopped by overfitting detector  (300 iterations wait)\n",
      "\n",
      "bestTest = 0.743027505\n",
      "bestIteration = 597\n",
      "\n",
      "Shrink model to first 598 iterations.\n",
      "0:\ttest: 0.7051550\tbest: 0.7051550 (0)\ttotal: 64.4ms\tremaining: 2m 9s\n",
      "300:\ttest: 0.7325066\tbest: 0.7325066 (300)\ttotal: 16.7s\tremaining: 1m 34s\n",
      "600:\ttest: 0.7372279\tbest: 0.7372279 (600)\ttotal: 33s\tremaining: 1m 17s\n",
      "900:\ttest: 0.7390103\tbest: 0.7390103 (900)\ttotal: 50s\tremaining: 1m 1s\n",
      "1200:\ttest: 0.7400704\tbest: 0.7400704 (1200)\ttotal: 1m 6s\tremaining: 45s\n",
      "1500:\ttest: 0.7406966\tbest: 0.7406966 (1500)\ttotal: 1m 24s\tremaining: 28.4s\n",
      "1800:\ttest: 0.7410862\tbest: 0.7410862 (1800)\ttotal: 1m 41s\tremaining: 11.6s\n"
     ]
    },
    {
     "name": "stderr",
     "output_type": "stream",
     "text": [
      "[I 2025-02-27 06:14:35,739] Trial 39 finished with value: 0.7413493608255046 and parameters: {'iterations': 2007, 'depth': 5, 'learning_rate': 0.005055266562892284, 'l2_leaf_reg': 0.0006280803643622533}. Best is trial 31 with value: 0.7433438932963785.\n",
      "[I 2025-02-27 06:14:35,742] A new study created in memory with name: no-name-9c056628-71c9-4d70-8a5b-802eaa935d0c\n"
     ]
    },
    {
     "name": "stdout",
     "output_type": "stream",
     "text": [
      "2006:\ttest: 0.7413494\tbest: 0.7413494 (2006)\ttotal: 1m 53s\tremaining: 0us\n",
      "\n",
      "bestTest = 0.7413493608\n",
      "bestIteration = 2006\n",
      "\n"
     ]
    },
    {
     "name": "stderr",
     "output_type": "stream",
     "text": [
      "[I 2025-02-27 06:14:59,039] Trial 0 finished with value: 0.7318153106508476 and parameters: {'num_iterations': 2366, 'objective': 'binary', 'metric': 'auc', 'verbose': -1, 'learning_rate': 0.0652646236447618, 'n_estimators': 236, 'min_child_samples': 45, 'subsample': 0.7, 'colsample_bytree': 0.5}. Best is trial 0 with value: 0.7318153106508476.\n",
      "[I 2025-02-27 06:15:16,046] Trial 1 finished with value: 0.7431302238795183 and parameters: {'num_iterations': 1510, 'objective': 'binary', 'metric': 'auc', 'verbose': -1, 'learning_rate': 0.005231880959249543, 'n_estimators': 1411, 'min_child_samples': 10, 'subsample': 1.0, 'colsample_bytree': 0.5}. Best is trial 1 with value: 0.7431302238795183.\n",
      "[I 2025-02-27 06:15:35,391] Trial 2 finished with value: 0.742143168778008 and parameters: {'num_iterations': 2334, 'objective': 'binary', 'metric': 'auc', 'verbose': -1, 'learning_rate': 0.006578527777128852, 'n_estimators': 931, 'min_child_samples': 15, 'subsample': 0.5, 'colsample_bytree': 1.0}. Best is trial 1 with value: 0.7431302238795183.\n",
      "[I 2025-02-27 06:15:51,915] Trial 3 finished with value: 0.7430882555830104 and parameters: {'num_iterations': 1620, 'objective': 'binary', 'metric': 'auc', 'verbose': -1, 'learning_rate': 0.0058823249237283685, 'n_estimators': 837, 'min_child_samples': 10, 'subsample': 0.9, 'colsample_bytree': 0.6}. Best is trial 1 with value: 0.7431302238795183.\n",
      "[I 2025-02-27 06:16:08,218] Trial 4 finished with value: 0.7426623780354209 and parameters: {'num_iterations': 1997, 'objective': 'binary', 'metric': 'auc', 'verbose': -1, 'learning_rate': 0.010907507425244923, 'n_estimators': 1597, 'min_child_samples': 50, 'subsample': 0.6, 'colsample_bytree': 0.8}. Best is trial 1 with value: 0.7431302238795183.\n",
      "[I 2025-02-27 06:16:30,713] Trial 5 finished with value: 0.7393887834027375 and parameters: {'num_iterations': 2909, 'objective': 'binary', 'metric': 'auc', 'verbose': -1, 'learning_rate': 0.019760591962733942, 'n_estimators': 612, 'min_child_samples': 30, 'subsample': 0.7, 'colsample_bytree': 0.9}. Best is trial 1 with value: 0.7431302238795183.\n",
      "[I 2025-02-27 06:16:51,358] Trial 6 finished with value: 0.7405844013614231 and parameters: {'num_iterations': 2639, 'objective': 'binary', 'metric': 'auc', 'verbose': -1, 'learning_rate': 0.017862094446750985, 'n_estimators': 794, 'min_child_samples': 35, 'subsample': 1.0, 'colsample_bytree': 0.8}. Best is trial 1 with value: 0.7431302238795183.\n",
      "[I 2025-02-27 06:17:07,887] Trial 7 finished with value: 0.7420710138044206 and parameters: {'num_iterations': 1580, 'objective': 'binary', 'metric': 'auc', 'verbose': -1, 'learning_rate': 0.01776722177611332, 'n_estimators': 529, 'min_child_samples': 25, 'subsample': 0.8, 'colsample_bytree': 0.5}. Best is trial 1 with value: 0.7431302238795183.\n",
      "[I 2025-02-27 06:17:25,599] Trial 8 finished with value: 0.7392120710239699 and parameters: {'num_iterations': 1911, 'objective': 'binary', 'metric': 'auc', 'verbose': -1, 'learning_rate': 0.0304747553332844, 'n_estimators': 1328, 'min_child_samples': 10, 'subsample': 0.7, 'colsample_bytree': 0.6}. Best is trial 1 with value: 0.7431302238795183.\n",
      "[I 2025-02-27 06:17:53,083] Trial 9 finished with value: 0.7383648506808592 and parameters: {'num_iterations': 2739, 'objective': 'binary', 'metric': 'auc', 'verbose': -1, 'learning_rate': 0.02691531614176271, 'n_estimators': 1438, 'min_child_samples': 20, 'subsample': 0.6, 'colsample_bytree': 0.5}. Best is trial 1 with value: 0.7431302238795183.\n",
      "[I 2025-02-27 06:18:07,998] Trial 10 finished with value: 0.7296031497895478 and parameters: {'num_iterations': 1933, 'objective': 'binary', 'metric': 'auc', 'verbose': -1, 'learning_rate': 0.08223556891145911, 'n_estimators': 1960, 'min_child_samples': 40, 'subsample': 1.0, 'colsample_bytree': 0.7}. Best is trial 1 with value: 0.7431302238795183.\n",
      "[I 2025-02-27 06:18:23,627] Trial 11 finished with value: 0.7431200425272384 and parameters: {'num_iterations': 1513, 'objective': 'binary', 'metric': 'auc', 'verbose': -1, 'learning_rate': 0.005340229419903739, 'n_estimators': 1206, 'min_child_samples': 10, 'subsample': 0.9, 'colsample_bytree': 0.6}. Best is trial 1 with value: 0.7431302238795183.\n",
      "[I 2025-02-27 06:18:39,735] Trial 12 finished with value: 0.743136918793693 and parameters: {'num_iterations': 1550, 'objective': 'binary', 'metric': 'auc', 'verbose': -1, 'learning_rate': 0.005009803090245928, 'n_estimators': 1192, 'min_child_samples': 20, 'subsample': 0.9, 'colsample_bytree': 0.6}. Best is trial 12 with value: 0.743136918793693.\n",
      "[I 2025-02-27 06:18:55,014] Trial 13 finished with value: 0.7429889397476467 and parameters: {'num_iterations': 1777, 'objective': 'binary', 'metric': 'auc', 'verbose': -1, 'learning_rate': 0.01061042275547689, 'n_estimators': 1698, 'min_child_samples': 20, 'subsample': 0.9, 'colsample_bytree': 0.7}. Best is trial 12 with value: 0.743136918793693.\n",
      "[I 2025-02-27 06:19:15,684] Trial 14 finished with value: 0.7426941570378764 and parameters: {'num_iterations': 2165, 'objective': 'binary', 'metric': 'auc', 'verbose': -1, 'learning_rate': 0.011084406731310557, 'n_estimators': 1104, 'min_child_samples': 20, 'subsample': 1.0, 'colsample_bytree': 0.6}. Best is trial 12 with value: 0.743136918793693.\n",
      "[I 2025-02-27 06:19:34,620] Trial 15 finished with value: 0.7431506342347128 and parameters: {'num_iterations': 1745, 'objective': 'binary', 'metric': 'auc', 'verbose': -1, 'learning_rate': 0.008235043203871414, 'n_estimators': 1836, 'min_child_samples': 25, 'subsample': 0.8, 'colsample_bytree': 0.5}. Best is trial 15 with value: 0.7431506342347128.\n",
      "[I 2025-02-27 06:19:49,983] Trial 16 finished with value: 0.7432748356140463 and parameters: {'num_iterations': 1782, 'objective': 'binary', 'metric': 'auc', 'verbose': -1, 'learning_rate': 0.008396844438395043, 'n_estimators': 1976, 'min_child_samples': 30, 'subsample': 0.8, 'colsample_bytree': 0.7}. Best is trial 16 with value: 0.7432748356140463.\n",
      "[I 2025-02-27 06:20:05,074] Trial 17 finished with value: 0.7425611998544178 and parameters: {'num_iterations': 1772, 'objective': 'binary', 'metric': 'auc', 'verbose': -1, 'learning_rate': 0.008304533336298605, 'n_estimators': 1961, 'min_child_samples': 30, 'subsample': 0.8, 'colsample_bytree': 0.9}. Best is trial 16 with value: 0.7432748356140463.\n",
      "[I 2025-02-27 06:20:22,373] Trial 18 finished with value: 0.7427034647951869 and parameters: {'num_iterations': 2102, 'objective': 'binary', 'metric': 'auc', 'verbose': -1, 'learning_rate': 0.01356820322695768, 'n_estimators': 1759, 'min_child_samples': 35, 'subsample': 0.8, 'colsample_bytree': 0.7}. Best is trial 16 with value: 0.7432748356140463.\n",
      "[I 2025-02-27 06:20:36,171] Trial 19 finished with value: 0.7383476765979379 and parameters: {'num_iterations': 1766, 'objective': 'binary', 'metric': 'auc', 'verbose': -1, 'learning_rate': 0.036046045230807594, 'n_estimators': 1832, 'min_child_samples': 30, 'subsample': 0.6, 'colsample_bytree': 0.8}. Best is trial 16 with value: 0.7432748356140463.\n",
      "[I 2025-02-27 06:20:56,668] Trial 20 finished with value: 0.742006526612133 and parameters: {'num_iterations': 2504, 'objective': 'binary', 'metric': 'auc', 'verbose': -1, 'learning_rate': 0.007877155758725746, 'n_estimators': 1568, 'min_child_samples': 25, 'subsample': 0.8, 'colsample_bytree': 1.0}. Best is trial 16 with value: 0.7432748356140463.\n",
      "[I 2025-02-27 06:21:13,727] Trial 21 finished with value: 0.7433309839452622 and parameters: {'num_iterations': 1719, 'objective': 'binary', 'metric': 'auc', 'verbose': -1, 'learning_rate': 0.007958519680625017, 'n_estimators': 1977, 'min_child_samples': 25, 'subsample': 0.9, 'colsample_bytree': 0.6}. Best is trial 21 with value: 0.7433309839452622.\n",
      "[I 2025-02-27 06:21:28,574] Trial 22 finished with value: 0.7431924516375442 and parameters: {'num_iterations': 1714, 'objective': 'binary', 'metric': 'auc', 'verbose': -1, 'learning_rate': 0.008737945925178545, 'n_estimators': 1989, 'min_child_samples': 25, 'subsample': 0.9, 'colsample_bytree': 0.7}. Best is trial 21 with value: 0.7433309839452622.\n",
      "[I 2025-02-27 06:21:45,378] Trial 23 finished with value: 0.7427428758409662 and parameters: {'num_iterations': 2041, 'objective': 'binary', 'metric': 'auc', 'verbose': -1, 'learning_rate': 0.013923730020120035, 'n_estimators': 1969, 'min_child_samples': 35, 'subsample': 0.9, 'colsample_bytree': 0.7}. Best is trial 21 with value: 0.7433309839452622.\n",
      "[I 2025-02-27 06:22:00,125] Trial 24 finished with value: 0.7429855843487869 and parameters: {'num_iterations': 1679, 'objective': 'binary', 'metric': 'auc', 'verbose': -1, 'learning_rate': 0.007179504527852681, 'n_estimators': 1604, 'min_child_samples': 25, 'subsample': 0.9, 'colsample_bytree': 0.7}. Best is trial 21 with value: 0.7433309839452622.\n",
      "[I 2025-02-27 06:22:15,756] Trial 25 finished with value: 0.742538609482686 and parameters: {'num_iterations': 1886, 'objective': 'binary', 'metric': 'auc', 'verbose': -1, 'learning_rate': 0.009920433298990098, 'n_estimators': 1808, 'min_child_samples': 30, 'subsample': 0.9, 'colsample_bytree': 0.8}. Best is trial 21 with value: 0.7433309839452622.\n",
      "[I 2025-02-27 06:22:33,617] Trial 26 finished with value: 0.7427457666461377 and parameters: {'num_iterations': 1872, 'objective': 'binary', 'metric': 'auc', 'verbose': -1, 'learning_rate': 0.014076756882999602, 'n_estimators': 1990, 'min_child_samples': 40, 'subsample': 0.8, 'colsample_bytree': 0.6}. Best is trial 21 with value: 0.7433309839452622.\n",
      "[I 2025-02-27 06:22:46,982] Trial 27 finished with value: 0.7367656834678251 and parameters: {'num_iterations': 1677, 'objective': 'binary', 'metric': 'auc', 'verbose': -1, 'learning_rate': 0.047947876079429776, 'n_estimators': 1691, 'min_child_samples': 15, 'subsample': 1.0, 'colsample_bytree': 0.7}. Best is trial 21 with value: 0.7433309839452622.\n",
      "[I 2025-02-27 06:23:05,059] Trial 28 finished with value: 0.7421604381621989 and parameters: {'num_iterations': 2190, 'objective': 'binary', 'metric': 'auc', 'verbose': -1, 'learning_rate': 0.009073311894225444, 'n_estimators': 1484, 'min_child_samples': 15, 'subsample': 0.7, 'colsample_bytree': 0.9}. Best is trial 21 with value: 0.7433309839452622.\n",
      "[I 2025-02-27 06:23:28,226] Trial 29 finished with value: 0.743270499406289 and parameters: {'num_iterations': 2362, 'objective': 'binary', 'metric': 'auc', 'verbose': -1, 'learning_rate': 0.0066357825131036444, 'n_estimators': 315, 'min_child_samples': 40, 'subsample': 0.9, 'colsample_bytree': 0.6}. Best is trial 21 with value: 0.7433309839452622.\n",
      "[I 2025-02-27 06:23:51,455] Trial 30 finished with value: 0.7432314417693837 and parameters: {'num_iterations': 2352, 'objective': 'binary', 'metric': 'auc', 'verbose': -1, 'learning_rate': 0.006598683840252484, 'n_estimators': 104, 'min_child_samples': 45, 'subsample': 0.8, 'colsample_bytree': 0.6}. Best is trial 21 with value: 0.7433309839452622.\n",
      "[I 2025-02-27 06:24:14,821] Trial 31 finished with value: 0.7433976511540873 and parameters: {'num_iterations': 2379, 'objective': 'binary', 'metric': 'auc', 'verbose': -1, 'learning_rate': 0.006516997974510104, 'n_estimators': 119, 'min_child_samples': 50, 'subsample': 0.8, 'colsample_bytree': 0.6}. Best is trial 31 with value: 0.7433976511540873.\n",
      "[I 2025-02-27 06:24:41,744] Trial 32 finished with value: 0.7433324889111413 and parameters: {'num_iterations': 2514, 'objective': 'binary', 'metric': 'auc', 'verbose': -1, 'learning_rate': 0.006146319805312435, 'n_estimators': 234, 'min_child_samples': 50, 'subsample': 0.8, 'colsample_bytree': 0.5}. Best is trial 31 with value: 0.7433976511540873.\n",
      "[I 2025-02-27 06:25:08,357] Trial 33 finished with value: 0.743269915686014 and parameters: {'num_iterations': 2476, 'objective': 'binary', 'metric': 'auc', 'verbose': -1, 'learning_rate': 0.005974759120629982, 'n_estimators': 332, 'min_child_samples': 50, 'subsample': 0.7, 'colsample_bytree': 0.5}. Best is trial 31 with value: 0.7433976511540873.\n",
      "[I 2025-02-27 06:25:34,794] Trial 34 finished with value: 0.7433181659245293 and parameters: {'num_iterations': 2482, 'objective': 'binary', 'metric': 'auc', 'verbose': -1, 'learning_rate': 0.007189124646390883, 'n_estimators': 160, 'min_child_samples': 45, 'subsample': 0.8, 'colsample_bytree': 0.5}. Best is trial 31 with value: 0.7433976511540873.\n",
      "[I 2025-02-27 06:26:01,164] Trial 35 finished with value: 0.742107827890609 and parameters: {'num_iterations': 2544, 'objective': 'binary', 'metric': 'auc', 'verbose': -1, 'learning_rate': 0.012093840407070781, 'n_estimators': 127, 'min_child_samples': 45, 'subsample': 0.8, 'colsample_bytree': 0.5}. Best is trial 31 with value: 0.7433976511540873.\n",
      "[I 2025-02-27 06:26:25,792] Trial 36 finished with value: 0.7433815452395602 and parameters: {'num_iterations': 2273, 'objective': 'binary', 'metric': 'auc', 'verbose': -1, 'learning_rate': 0.005932909400663625, 'n_estimators': 552, 'min_child_samples': 50, 'subsample': 0.5, 'colsample_bytree': 0.5}. Best is trial 31 with value: 0.7433976511540873.\n",
      "[I 2025-02-27 06:26:50,676] Trial 37 finished with value: 0.7435145897825158 and parameters: {'num_iterations': 2291, 'objective': 'binary', 'metric': 'auc', 'verbose': -1, 'learning_rate': 0.005613364227362806, 'n_estimators': 481, 'min_child_samples': 50, 'subsample': 0.6, 'colsample_bytree': 0.5}. Best is trial 37 with value: 0.7435145897825158.\n",
      "[I 2025-02-27 06:27:15,424] Trial 38 finished with value: 0.7433755531722472 and parameters: {'num_iterations': 2239, 'objective': 'binary', 'metric': 'auc', 'verbose': -1, 'learning_rate': 0.005771837640820935, 'n_estimators': 490, 'min_child_samples': 50, 'subsample': 0.5, 'colsample_bytree': 0.5}. Best is trial 37 with value: 0.7435145897825158.\n",
      "[I 2025-02-27 06:27:40,049] Trial 39 finished with value: 0.7435442880405897 and parameters: {'num_iterations': 2249, 'objective': 'binary', 'metric': 'auc', 'verbose': -1, 'learning_rate': 0.005025017564383213, 'n_estimators': 545, 'min_child_samples': 50, 'subsample': 0.5, 'colsample_bytree': 0.5}. Best is trial 39 with value: 0.7435442880405897.\n"
     ]
    },
    {
     "name": "stdout",
     "output_type": "stream",
     "text": [
      "Cat val score : 0.7433438932963784\n",
      "LGBM val score : 0.7435378750593369\n",
      "Ensemble val score : 0.7437549356130329\n"
     ]
    }
   ],
   "source": [
    "for col in X.columns:\n",
    "    if X[col].dtype == 'object':  # 문자형이면 category로 변환\n",
    "        X[col] = X[col].astype('category')\n",
    "        test[col] = test[col].astype('category')\n",
    "seed = 4972\n",
    "\n",
    "test_pred_total = []\n",
    "scores_total = []\n",
    "seed_everything(seed)\n",
    "print('Seed {} Start!'.format(seed))\n",
    "cv = StratifiedKFold(n_splits = 10, random_state = seed, shuffle=True)\n",
    "\n",
    "cat_param_list = []\n",
    "lgbm_param_list = []\n",
    "for idx, (train_idx, val_idx) in enumerate(cv.split(X, y)):\n",
    "    print('='*50)\n",
    "    X_train, X_val = X.iloc[train_idx],X.iloc[val_idx]\n",
    "    y_train, y_val = y.iloc[train_idx], y.iloc[val_idx]\n",
    "    \n",
    "    best_val_auc = 0\n",
    "\n",
    "    sampler = TPESampler(seed=seed)\n",
    "    optuna_cat = optuna.create_study(direction='maximize', sampler=sampler)\n",
    "    optuna_cat.optimize(objective_cat, n_trials = 40)\n",
    "    cat_trial = optuna_cat.best_trial\n",
    "    cat_trial_params = cat_trial.params\n",
    "    cat_param_list.append(cat_trial_params)\n",
    "    \n",
    "    model = CatBoostClassifier(**cat_trial_params, auto_class_weights='Balanced', eval_metric='AUC', random_state=seed)\n",
    "    model.load_model(\"./weight/cat_fold_cpu{}.cbm\".format(idx))\n",
    "    #model = CatBoostClassifier(auto_class_weights='Balanced', eval_metric='AUC', random_state=seed, task_type=\"CPU\" )\n",
    "    #model.fit(X_train,y_train,cat_features=categorical_columns,early_stopping_rounds = 300,eval_set=[(X_val,y_val)], verbose = 300)\n",
    "    \n",
    "    # model_cpu = CatBoostClassifier(auto_class_weights='Balanced',eval_metric='AUC', random_state = 501, task_type=\"cpu\" )\n",
    "    # model_cpu.fit(X_train,y_train,cat_features=categorical_columns, early_stopping_rounds = 300,eval_set=[(X_val,y_val)], verbose = 300)\n",
    "    # model_cpu.save_model(\"cat_fold_{}.cbm\".format(idx))\n",
    "\n",
    "\n",
    "    sampler = TPESampler(seed=seed)\n",
    "    optuna_lgbm = optuna.create_study(direction='maximize', sampler=sampler)\n",
    "    optuna_lgbm.optimize(objective_lgbm, n_trials = 40)\n",
    "    lgbm_trial = optuna_lgbm.best_trial\n",
    "    lgbm_trial_params = lgbm_trial.params\n",
    "    lgbm_param_list.append(lgbm_trial_params)\n",
    "    \n",
    "    # lgbm_trial_params =loaded_lgbm_params[idx]\n",
    "    #print(lgbm_trial_params)\n",
    "\n",
    "    class_weights = compute_class_weight(class_weight=\"balanced\", classes=np.unique(y), y=y_train)\n",
    "    class_weight_dict = {i: w for i, w in enumerate(class_weights)}\n",
    "    model_lgbm = lgb.LGBMClassifier(**lgbm_trial_params,class_weight=class_weight_dict)\n",
    "    # model_lgbm = lgb.LGBMClassifier(class_weight=class_weight_dict)\n",
    "    #model_lgbm= lgb.LGBMClassifier(objective = 'binary', metric = 'auc', random_state =  seed, class_weight=class_weight_dict)\n",
    "    model_lgbm.fit(X_train, y_train, eval_set=[(X_val, y_val)],categorical_feature=categorical_columns)\n",
    "\n",
    "    val_pred = model.predict_proba(X_val)[:, 1]\n",
    "    val_pred_lgbm = model_lgbm.predict_proba(X_val)[:, 1]\n",
    "    print('Cat val score : {}'.format(roc_auc_score(y_val,val_pred)))\n",
    "    print('LGBM val score : {}'.format(roc_auc_score(y_val,val_pred_lgbm)))\n",
    "\n",
    "    roc_val = roc_auc_score(y_val, (2*val_pred+val_pred_lgbm)/3)\n",
    "    scores_total.append(roc_val)\n",
    "    print('Ensemble val score : {}'.format(roc_val))\n",
    "\n",
    "    test_pred = model.predict_proba(test)[:, 1]\n",
    "    test_pred_lgbm = model_lgbm.predict_proba(test)[:, 1]\n",
    "    test_pred_total.append((2*test_pred+test_pred_lgbm)/3)"
   ]
  },
  {
   "cell_type": "code",
   "execution_count": 61,
   "metadata": {
    "colab": {
     "base_uri": "https://localhost:8080/"
    },
    "id": "LDLeh9IJD9pt",
    "outputId": "0534775f-2085-448a-d2aa-690a9e4e4ff4"
   },
   "outputs": [
    {
     "data": {
      "text/plain": [
       "(0.7410893190357959,\n",
       " [0.7417572370895986,\n",
       "  0.7356906867978852,\n",
       "  0.7434618920945901,\n",
       "  0.7419029976664848,\n",
       "  0.7447490072705021,\n",
       "  0.7394135776163241,\n",
       "  0.7393430387934301,\n",
       "  0.7385863665688992,\n",
       "  0.7422334508472108,\n",
       "  0.7437549356130329])"
      ]
     },
     "execution_count": 61,
     "metadata": {},
     "output_type": "execute_result"
    }
   ],
   "source": [
    "np.mean(scores_total), scores_total"
   ]
  },
  {
   "cell_type": "code",
   "execution_count": 62,
   "metadata": {},
   "outputs": [],
   "source": [
    "test_pred_total_mean = np.mean(test_pred_total, axis=(0))"
   ]
  },
  {
   "cell_type": "code",
   "execution_count": 63,
   "metadata": {},
   "outputs": [
    {
     "data": {
      "text/plain": [
       "array([0.00460025, 0.0038284 , 0.32533114, ..., 0.66390006, 0.36301131,\n",
       "       0.0052062 ])"
      ]
     },
     "execution_count": 63,
     "metadata": {},
     "output_type": "execute_result"
    }
   ],
   "source": [
    "test_pred_total_mean"
   ]
  },
  {
   "cell_type": "code",
   "execution_count": 64,
   "metadata": {
    "colab": {
     "base_uri": "https://localhost:8080/"
    },
    "id": "E8D6DZP0pIm3",
    "outputId": "946ae60d-f2f2-405e-e757-ab31fe0d2375"
   },
   "outputs": [
    {
     "data": {
      "text/plain": [
       "(0.7410893190357959,\n",
       " [0.7417572370895986,\n",
       "  0.7356906867978852,\n",
       "  0.7434618920945901,\n",
       "  0.7419029976664848,\n",
       "  0.7447490072705021,\n",
       "  0.7394135776163241,\n",
       "  0.7393430387934301,\n",
       "  0.7385863665688992,\n",
       "  0.7422334508472108,\n",
       "  0.7437549356130329])"
      ]
     },
     "execution_count": 64,
     "metadata": {},
     "output_type": "execute_result"
    }
   ],
   "source": [
    "np.mean(scores_total), scores_total # 불임 원인 인코딩 + make feature 사용\n"
   ]
  },
  {
   "cell_type": "code",
   "execution_count": 65,
   "metadata": {},
   "outputs": [],
   "source": [
    "import json\n",
    "with open(\"lgbm_params.json\", \"w\") as f:\n",
    "    json.dump(lgbm_param_list, f) \n",
    "\n",
    "with open(\"lgbm_params.json\", \"r\") as f:\n",
    "    loaded_lgbm_params =  json.load(f)"
   ]
  },
  {
   "cell_type": "markdown",
   "metadata": {},
   "source": [
    "#### 재현성 확인"
   ]
  },
  {
   "cell_type": "code",
   "execution_count": 66,
   "metadata": {
    "scrolled": true,
    "tags": []
   },
   "outputs": [
    {
     "name": "stdout",
     "output_type": "stream",
     "text": [
      "Seed 4972 Start!\n",
      "==================================================\n",
      "Cat cpu val score : 0.7415994066346795\n",
      "LGBM val score : 0.7412065795807645\n",
      "Ensemble val score : 0.7417572370895986\n",
      "==================================================\n",
      "==================================================\n",
      "Cat cpu val score : 0.7433891383000866\n",
      "LGBM val score : 0.7428245895053796\n",
      "Ensemble val score : 0.7434618920945901\n",
      "==================================================\n",
      "Cat cpu val score : 0.7418079823009023\n",
      "LGBM val score : 0.7409894396981058\n",
      "Ensemble val score : 0.7419029976664848\n",
      "==================================================\n",
      "Cat cpu val score : 0.7445389513601064\n",
      "LGBM val score : 0.7442230197103038\n",
      "Ensemble val score : 0.7447490072705021\n",
      "==================================================\n",
      "Cat cpu val score : 0.7394478026846938\n",
      "LGBM val score : 0.7383705528734779\n",
      "Ensemble val score : 0.7394135776163241\n",
      "==================================================\n",
      "Cat cpu val score : 0.7392159346962663\n",
      "LGBM val score : 0.7384193749196093\n",
      "Ensemble val score : 0.7393430387934301\n",
      "==================================================\n",
      "Cat cpu val score : 0.7384386535722299\n",
      "LGBM val score : 0.7376200196390503\n",
      "Ensemble val score : 0.7385863665688992\n",
      "==================================================\n",
      "Cat cpu val score : 0.7421053262322875\n",
      "LGBM val score : 0.7418248823926744\n",
      "Ensemble val score : 0.7422334508472108\n",
      "==================================================\n",
      "Cat cpu val score : 0.7433438932963784\n",
      "LGBM val score : 0.7435378750593369\n",
      "Ensemble val score : 0.7437549356130329\n"
     ]
    }
   ],
   "source": [
    "for col in X.columns:\n",
    "    if X[col].dtype == 'object':  # 문자형이면 category로 변환\n",
    "        X[col] = X[col].astype('category')\n",
    "        test[col] = test[col].astype('category')\n",
    "seed = 4972\n",
    "\n",
    "test_pred_total = []\n",
    "scores_total = []\n",
    "seed_everything(seed)\n",
    "print('Seed {} Start!'.format(seed))\n",
    "cv = StratifiedKFold(n_splits = 10, random_state = seed, shuffle=True)\n",
    "\n",
    "cat_param_list = []\n",
    "lgbm_param_list = []\n",
    "for idx, (train_idx, val_idx) in enumerate(cv.split(X, y)):\n",
    "    print('='*50)\n",
    "    X_train, X_val = X.iloc[train_idx],X.iloc[val_idx]\n",
    "    y_train, y_val = y.iloc[train_idx], y.iloc[val_idx]\n",
    "    if idx == 1:\n",
    "        continue\n",
    "    # cat_trial_params = loaded_cat_params[idx]\n",
    "    # model = CatBoostClassifier(**cat_trial_params ,auto_class_weights='Balanced', eval_metric='AUC', random_state=seed, task_type=\"CPU\")\n",
    "    # model.fit(X_train,y_train,cat_features=categorical_columns, early_stopping_rounds = 300, eval_set=[(X_val,y_val)], verbose = 300)\n",
    "    \n",
    "    model_cpu = CatBoostClassifier()\n",
    "    model_cpu.load_model(\"./weight/cat_fold_cpu{}.cbm\".format(idx))\n",
    "\n",
    "    lgbm_trial_params = loaded_lgbm_params[idx]\n",
    "    class_weights = compute_class_weight(class_weight=\"balanced\", classes=np.unique(y), y=y_train)\n",
    "    class_weight_dict = {i: w for i, w in enumerate(class_weights)}\n",
    "\n",
    "    model_lgbm = lgb.LGBMClassifier(**lgbm_trial_params,class_weight=class_weight_dict)\n",
    "    model_lgbm.fit(X_train, y_train, eval_set=[(X_val, y_val)],categorical_feature=categorical_columns)\n",
    "\n",
    "    # val_pred = model.predict_proba(X_val)[:, 1]\n",
    "    val_pred_cpu = model_cpu.predict_proba(X_val)[:, 1]\n",
    "    val_pred_lgbm = model_lgbm.predict_proba(X_val)[:, 1]\n",
    "    # print('Cat val score : {}'.format(roc_auc_score(y_val,val_pred)))\n",
    "    print('Cat cpu val score : {}'.format(roc_auc_score(y_val,val_pred_cpu)))\n",
    "    print('LGBM val score : {}'.format(roc_auc_score(y_val,val_pred_lgbm)))\n",
    "\n",
    "    roc_val = roc_auc_score(y_val, (val_pred_cpu*2 + val_pred_lgbm)/3)\n",
    "    scores_total.append(roc_val)\n",
    "    print('Ensemble val score : {}'.format(roc_val))\n",
    "\n",
    "    # test_pred = model.predict_proba(test)[:, 1]\n",
    "    test_pred_cpu = model_cpu.predict_proba(test)[:, 1]\n",
    "    test_pred_lgbm = model_lgbm.predict_proba(test)[:, 1]\n",
    "    test_pred_total.append((test_pred_cpu*2+test_pred_lgbm)/3)\n",
    "    # test_pred_total.append((test_pred_cpu))"
   ]
  },
  {
   "cell_type": "code",
   "execution_count": 67,
   "metadata": {},
   "outputs": [
    {
     "data": {
      "text/plain": [
       "(0.7416891670622303,\n",
       " [0.7417572370895986,\n",
       "  0.7434618920945901,\n",
       "  0.7419029976664848,\n",
       "  0.7447490072705021,\n",
       "  0.7394135776163241,\n",
       "  0.7393430387934301,\n",
       "  0.7385863665688992,\n",
       "  0.7422334508472108,\n",
       "  0.7437549356130329])"
      ]
     },
     "execution_count": 67,
     "metadata": {},
     "output_type": "execute_result"
    }
   ],
   "source": [
    "np.mean(scores_total), scores_total"
   ]
  },
  {
   "cell_type": "code",
   "execution_count": 68,
   "metadata": {
    "id": "zdqhyNyumAyx"
   },
   "outputs": [],
   "source": [
    "test_pred_total_mean = np.mean(test_pred_total, axis=(0))"
   ]
  },
  {
   "cell_type": "code",
   "execution_count": 69,
   "metadata": {
    "colab": {
     "base_uri": "https://localhost:8080/",
     "height": 540
    },
    "id": "HHVwzBg8NEZK",
    "outputId": "7c5d38e1-affe-45e7-b863-372c9a868b84"
   },
   "outputs": [
    {
     "data": {
      "text/plain": [
       "(array([13574.,  2369.,  3269.,  5960.,  9198., 13179., 16742., 15221.,\n",
       "         9926.,   629.]),\n",
       " array([5.49124865e-04, 8.85775704e-02, 1.76606016e-01, 2.64634461e-01,\n",
       "        3.52662907e-01, 4.40691352e-01, 5.28719798e-01, 6.16748243e-01,\n",
       "        7.04776689e-01, 7.92805135e-01, 8.80833580e-01]),\n",
       " <BarContainer object of 10 artists>)"
      ]
     },
     "execution_count": 69,
     "metadata": {},
     "output_type": "execute_result"
    },
    {
     "data": {
      "image/png": "[encoded data removed]",
      "text/plain": [
       "<Figure size 640x480 with 1 Axes>"
      ]
     },
     "metadata": {},
     "output_type": "display_data"
    }
   ],
   "source": [
    "plt.hist(test_pred_total_mean)"
   ]
  },
  {
   "cell_type": "code",
   "execution_count": 70,
   "metadata": {
    "id": "KGlLsagWhQmz"
   },
   "outputs": [],
   "source": [
    "test_pred_total_mean = np.mean(test_pred_total, axis=(0))\n",
    "sample_submission = pd.read_csv('../sample_submission.csv')\n",
    "sample_submission['probability'] = test_pred_total_mean\n",
    "sample_submission.to_csv('CODE_recentgit_lgbmcat_cpu_mac_sunghyun+StandardScaler.csv', index=False)"
   ]
  }
 ],
 "metadata": {
  "accelerator": "GPU",
  "colab": {
   "gpuType": "T4",
   "provenance": []
  },
  "kernelspec": {
   "display_name": "Python 3",
   "language": "python",
   "name": "python3"
  },
  "language_info": {
   "codemirror_mode": {
    "name": "ipython",
    "version": 3
   },
   "file_extension": ".py",
   "mimetype": "text/x-python",
   "name": "python",
   "nbconvert_exporter": "python",
   "pygments_lexer": "ipython3",
   "version": "3.9.6"
  }
 },
 "nbformat": 4,
 "nbformat_minor": 4
}
