{
 "cells": [
  {
   "cell_type": "code",
   "execution_count": 1,
   "metadata": {
    "colab": {
     "base_uri": "https://localhost:8080/"
    },
    "id": "0_-E_OuZQXqu",
    "outputId": "8f5cbcbb-5086-4ead-c817-9fdb22e3533b"
   },
   "outputs": [
    {
     "name": "stderr",
     "output_type": "stream",
     "text": [
      "/Users/1233day/Library/Python/3.9/lib/python/site-packages/tqdm/auto.py:21: TqdmWarning: IProgress not found. Please update jupyter and ipywidgets. See https://ipywidgets.readthedocs.io/en/stable/user_install.html\n",
      "  from .autonotebook import tqdm as notebook_tqdm\n"
     ]
    }
   ],
   "source": [
    "import random\n",
    "import os\n",
    "import pandas as pd\n",
    "import numpy as np\n",
    "\n",
    "from matplotlib import pyplot as plt\n",
    "import seaborn as sns\n",
    "from catboost import CatBoostClassifier\n",
    "import lightgbm as lgb\n",
    "\n",
    "import optuna\n",
    "from optuna import Trial\n",
    "from optuna.samplers import TPESampler\n",
    "from sklearn.model_selection import StratifiedKFold\n",
    "from sklearn.metrics import roc_auc_score\n",
    "from sklearn.utils.class_weight import compute_class_weight\n",
    "\n",
    "import warnings\n",
    "\n",
    "warnings.filterwarnings('ignore')"
   ]
  },
  {
   "cell_type": "code",
   "execution_count": 2,
   "metadata": {
    "id": "u2FSTwmUIkF5"
   },
   "outputs": [],
   "source": [
    "import os\n",
    "import logging\n",
    "\n",
    "def seed_everything(seed: int = 42):\n",
    "    random.seed(seed)\n",
    "    np.random.seed(seed)\n",
    "    os.environ[\"PYTHONHASHSEED\"] = str(seed)"
   ]
  },
  {
   "cell_type": "code",
   "execution_count": 3,
   "metadata": {
    "colab": {
     "base_uri": "https://localhost:8080/"
    },
    "id": "bbtq1EWyQcwX",
    "outputId": "ad146067-7509-44f2-ee26-cc8bc615473f"
   },
   "outputs": [
    {
     "data": {
      "text/plain": [
       "((256351, 68), (90067, 67))"
      ]
     },
     "execution_count": 3,
     "metadata": {},
     "output_type": "execute_result"
    }
   ],
   "source": [
    "train = pd.read_csv('../train.csv').drop(columns=['ID'])\n",
    "test = pd.read_csv('../test.csv').drop(columns=['ID'])\n",
    "train.shape, test.shape\n",
    "# train.loc[train['시술 당시 나이'] == '알 수 없음', '시술 당시 나이'] = '만43-44세'"
   ]
  },
  {
   "cell_type": "code",
   "execution_count": 4,
   "metadata": {
    "colab": {
     "base_uri": "https://localhost:8080/",
     "height": 178
    },
    "id": "x7kj8pMWSpd9",
    "outputId": "11cdbca0-3097-42aa-dd4e-52d7070ff5c9"
   },
   "outputs": [
    {
     "data": {
      "text/plain": [
       "임신 성공 여부\n",
       "0    190123\n",
       "1     66228\n",
       "Name: count, dtype: int64"
      ]
     },
     "execution_count": 4,
     "metadata": {},
     "output_type": "execute_result"
    }
   ],
   "source": [
    "train['임신 성공 여부'].value_counts()"
   ]
  },
  {
   "cell_type": "code",
   "execution_count": 5,
   "metadata": {
    "colab": {
     "base_uri": "https://localhost:8080/",
     "height": 335
    },
    "id": "EsL6VCeI_Q4D",
    "outputId": "32bd81c0-f1bf-4f45-8b2a-54bf8e66c1d1"
   },
   "outputs": [
    {
     "data": {
      "text/plain": [
       "시술 당시 나이\n",
       "만18-34세    102476\n",
       "만35-37세     57780\n",
       "만38-39세     39247\n",
       "만40-42세     37348\n",
       "만43-44세     12253\n",
       "만45-50세      6918\n",
       "알 수 없음        329\n",
       "Name: count, dtype: int64"
      ]
     },
     "execution_count": 5,
     "metadata": {},
     "output_type": "execute_result"
    }
   ],
   "source": [
    "# train['시술 당시 나이'] = train['시술 당시 나이'].replace('알 수 없음','만35-37세')\n",
    "# test['시술 당시 나이'] = test['시술 당시 나이'].replace('알 수 없음','만35-37세')\n",
    "\n",
    "train['시술 당시 나이'].value_counts()\n",
    "# train['']\n"
   ]
  },
  {
   "cell_type": "code",
   "execution_count": 6,
   "metadata": {
    "colab": {
     "base_uri": "https://localhost:8080/"
    },
    "id": "4xu4wqTwWgEO",
    "outputId": "8b21d1a6-d5ee-46ea-ab34-c6c2ec30bb19"
   },
   "outputs": [
    {
     "data": {
      "text/plain": [
       "((256351, 66), (90067, 65))"
      ]
     },
     "execution_count": 6,
     "metadata": {},
     "output_type": "execute_result"
    }
   ],
   "source": [
    "# drop_columns = ['착상 전 유전 검사 사용 여부',\n",
    "#                 'PGD 시술 여부', 'PGS 시술 여부', '난자 해동 경과일'] + ['배란 유도 유형', '불임 원인 - 자궁경부 문제', '불임 원인 - 정자 면역학적 요인','불임 원인 - 정자 운동성', '불임 원인 - 정자 형태']#\n",
    "drop_columns = ['난자 해동 경과일', '배란 유도 유형']\n",
    "train.drop(columns=drop_columns, inplace=True)\n",
    "test.drop(columns=drop_columns, inplace=True)\n",
    "\n",
    "train.shape, test.shape"
   ]
  },
  {
   "cell_type": "code",
   "execution_count": 7,
   "metadata": {
    "id": "q5k1E_a8a6LH"
   },
   "outputs": [],
   "source": [
    "nan_col_list = ['착상 전 유전 검사 사용 여부', '착상 전 유전 진단 사용 여부', 'PGD 시술 여부', 'PGS 시술 여부']\n",
    "for col in nan_col_list:\n",
    "    train[col] = train[col].fillna(0)\n",
    "    test[col] = test[col].fillna(0)"
   ]
  },
  {
   "cell_type": "code",
   "execution_count": 8,
   "metadata": {},
   "outputs": [],
   "source": [
    "# NEW: 착상 전 유전 검사/진단 관련 변수와 실제 시술 여부를 합쳐서 새로운 특성 생성\n",
    "train['PGS'] = train['착상 전 유전 검사 사용 여부'].astype(int) + train['PGS 시술 여부'].astype(int)\n",
    "test['PGS'] = test['착상 전 유전 검사 사용 여부'].astype(int) + test['PGS 시술 여부'].astype(int)\n",
    "\n",
    "train['PGD'] = train['착상 전 유전 진단 사용 여부'].astype(int) + train['PGD 시술 여부'].astype(int)\n",
    "test['PGD'] = test['착상 전 유전 진단 사용 여부'].astype(int) + test['PGD 시술 여부'].astype(int)"
   ]
  },
  {
   "cell_type": "code",
   "execution_count": 9,
   "metadata": {
    "colab": {
     "base_uri": "https://localhost:8080/"
    },
    "id": "_Q-1vJvMZVdO",
    "outputId": "c00dc096-9bb5-4d60-f38f-4908c4f8c858"
   },
   "outputs": [],
   "source": [
    "drop_columns2 = []\n",
    "for col in train.columns:\n",
    "    if len(train[col].value_counts()) == 1:\n",
    "        drop_columns2.append(col)"
   ]
  },
  {
   "cell_type": "code",
   "execution_count": 10,
   "metadata": {
    "colab": {
     "base_uri": "https://localhost:8080/"
    },
    "id": "Eb_P6B2RarRm",
    "outputId": "8648f15e-8a85-49bb-fb00-a83582492051"
   },
   "outputs": [
    {
     "name": "stdout",
     "output_type": "stream",
     "text": [
      "['불임 원인 - 여성 요인', '난자 채취 경과일']\n"
     ]
    },
    {
     "data": {
      "text/plain": [
       "((256351, 66), (90067, 65))"
      ]
     },
     "execution_count": 10,
     "metadata": {},
     "output_type": "execute_result"
    }
   ],
   "source": [
    "print(drop_columns2)\n",
    "train.drop(columns=drop_columns2, inplace=True)\n",
    "test.drop(columns=drop_columns2, inplace=True)\n",
    "\n",
    "train.shape, test.shape"
   ]
  },
  {
   "cell_type": "code",
   "execution_count": 11,
   "metadata": {
    "id": "YjAuM-pa6Ewz"
   },
   "outputs": [],
   "source": [
    "cat_to_int_dict = {'6회 이상' : 6, '5회' : 5, '4회' : 4, '3회' : 3, '2회' : 2, '1회' : 1, '0회' : 0}\n",
    "\n",
    "cat_to_int_columns = ['총 시술 횟수', '클리닉 내 총 시술 횟수', 'IVF 시술 횟수','DI 시술 횟수', 'DI 임신 횟수' ,'DI 출산 횟수',\n",
    "                      '총 임신 횟수', 'IVF 임신 횟수', '총 출산 횟수', 'IVF 출산 횟수'] #\n",
    "for col in cat_to_int_columns:\n",
    "    train[col] = train[col].map(cat_to_int_dict)\n",
    "    test[col] = test[col].map(cat_to_int_dict)"
   ]
  },
  {
   "cell_type": "code",
   "execution_count": 12,
   "metadata": {},
   "outputs": [],
   "source": [
    "# 5. Binning(구간화) 예시\n",
    "# 예: 임신 시도 또는 마지막 임신 경과 연수\n",
    "if '임신 시도 또는 마지막 임신 경과 연수' in train.columns:\n",
    "    bins = [-0.1, 0.9, 3, 6, 10, 20]  # 0 이하, 1~3, 4~6, 7~10, 11~20\n",
    "    labels = ['0년 이하','1~3년','4~6년','7~10년','11~20년']\n",
    "    train['임신시도_bin'] = pd.cut(train['임신 시도 또는 마지막 임신 경과 연수'], bins=bins, labels=labels)\n",
    "    test['임신시도_bin']  = pd.cut(test['임신 시도 또는 마지막 임신 경과 연수'],  bins=bins, labels=labels)\n",
    "\n",
    "# 예: 총 생성 배아 수 (0~20, 21이상 구간)\n",
    "if '총 생성 배아 수' in train.columns:\n",
    "    bins = [-0.1, 0, 5, 10, 15, 20, 999]\n",
    "    labels = ['0','1~5','6~10','11~15','16~20','21이상']\n",
    "    train['총_생성_배아_bin'] = pd.cut(train['총 생성 배아 수'], bins=bins, labels=labels)\n",
    "    test['총_생성_배아_bin']  = pd.cut(test['총 생성 배아 수'],  bins=bins, labels=labels)\n",
    "\n",
    "# 6. 희소 범주(rare categories) 병합 예시\n",
    "def merge_rare_categories(series, min_count=100):\n",
    "    \"\"\"\n",
    "    시리즈 내에서 출현 횟수가 min_count 미만인 카테고리를\n",
    "    모두 '기타' 카테고리로 통합\n",
    "    \"\"\"\n",
    "    value_counts = series.value_counts(dropna=False)\n",
    "    rare_cats = value_counts[value_counts < min_count].index\n",
    "    return series.replace(rare_cats, '기타')\n",
    "\n",
    "\n",
    "rare_merge_cols = ['특정 시술 유형', '배아 생성 주요 이유']\n",
    "for col in rare_merge_cols:\n",
    "    if col in train.columns:\n",
    "        train[col] = merge_rare_categories(train[col], min_count=100)\n",
    "    if col in test.columns:\n",
    "        test[col] = merge_rare_categories(test[col], min_count=100)\n",
    "train.drop(columns =['임신 시도 또는 마지막 임신 경과 연수'],inplace = True )\n",
    "test.drop(columns =['임신 시도 또는 마지막 임신 경과 연수'],inplace = True )\n"
   ]
  },
  {
   "cell_type": "code",
   "execution_count": 13,
   "metadata": {
    "id": "f-mBaoLO4ffA"
   },
   "outputs": [],
   "source": [
    "procedure_encoding_dict = {'ICSI' : 'ICSI', 'IVF' : 'IVF', 'Unknown' : 'Unknown','IUI' : 'IUI',\n",
    "                           'ICSI:ICSI' : 'ICSI', 'ICSI / BLASTOCYST ' : 'ICSI / BLASTOCYST',\n",
    "                           'IVF / BLASTOCYST' : 'IVF / BLASTOCYST','IVF:IVF' : 'IVF','ICSI:IVF' : 'ICSI:IVF',\n",
    "                           'ICSI / AH' : 'ICSI / AH','IVF:ICSI' : 'ICSI:IVF', 'IVF / AH' : 'IVF / AH',\n",
    "                           'ICSI:Unknown' : 'ICSI', 'IVF:Unknown' : 'IVF', 'ICI' : 'ICI','Generic DI' : 'Generic DI',\n",
    "                           'IVI' : 'IVI','ICSI / BLASTOCYST:IVF / BLASTOCYST' : 'ICSI / BLASTOCYST:IVF / BLASTOCYST',\n",
    "                           'ICSI / BLASTOCYST :IVF / BLASTOCYST': 'ICSI / BLASTOCYST:IVF / BLASTOCYST','FER' : 'FER',\n",
    "                           'IVF / AH:ICSI / AH' : 'IVF / AH:ICSI / AH','GIFT':'GIFT','ICSI / AH:Unknown' : 'ICSI / AH',\n",
    "                           'ICSI / BLASTOCYST :ICSI' : 'ICSI / BLASTOCYST', 'IUI:ICI' : 'IUI:ICI',\n",
    "                           'IVF:Unknown:Unknown:Unknown' : 'IVF'}\n",
    "\n",
    "train['특정 시술 유형'] = train['특정 시술 유형'].map(procedure_encoding_dict)\n",
    "test['특정 시술 유형'] = test['특정 시술 유형'].map(procedure_encoding_dict)"
   ]
  },
  {
   "cell_type": "code",
   "execution_count": 14,
   "metadata": {
    "id": "UEU77iWib0U_"
   },
   "outputs": [],
   "source": [
    "train['불임 원인 - 정자 요인'] = train['불임 원인 - 정자 면역학적 요인'] + train['불임 원인 - 정자 운동성'] + train['불임 원인 - 정자 농도']  + train['불임 원인 - 정자 형태']\n",
    "test['불임 원인 - 정자 요인'] = test['불임 원인 - 정자 면역학적 요인'] + test['불임 원인 - 정자 운동성'] + test['불임 원인 - 정자 농도'] + test['불임 원인 - 정자 형태']\n",
    "train['불임 원인 - 여성 요인'] = train['불임 원인 - 자궁경부 문제'] + train['불임 원인 - 자궁내막증'] + train['불임 원인 - 배란 장애'] + train['불임 원인 - 난관 질환']\n",
    "test['불임 원인 - 여성 요인'] = test['불임 원인 - 자궁경부 문제'] + test['불임 원인 - 자궁내막증'] + test['불임 원인 - 배란 장애'] + test['불임 원인 - 난관 질환']\n",
    "\n",
    "train['남성 불임 원인'] = train['남성 주 불임 원인'] + train['남성 부 불임 원인']\n",
    "test['남성 불임 원인'] = test['남성 주 불임 원인'] + test['남성 부 불임 원인']\n",
    "train['여성 불임 원인'] = train['여성 주 불임 원인'] + train['여성 부 불임 원인']\n",
    "test['여성 불임 원인'] = test['여성 주 불임 원인'] + test['여성 부 불임 원인']\n",
    "train['부부 불임 원인'] = train['부부 주 불임 원인'] + train['부부 부 불임 원인']\n",
    "test['부부 불임 원인'] = test['부부 주 불임 원인'] + test['부부 부 불임 원인']\n",
    "\n",
    "\n",
    "drop_columns3 = ['불임 원인 - 정자 면역학적 요인', '불임 원인 - 정자 운동성', '불임 원인 - 정자 형태', '불임 원인 - 자궁경부 문제',\n",
    "                 '남성 주 불임 원인', '남성 부 불임 원인', '여성 주 불임 원인', '여성 부 불임 원인',\n",
    "                 '부부 주 불임 원인', '부부 부 불임 원인']\n",
    "train.drop(columns=drop_columns3, inplace=True)\n",
    "test.drop(columns=drop_columns3, inplace=True)"
   ]
  },
  {
   "cell_type": "code",
   "execution_count": 15,
   "metadata": {},
   "outputs": [],
   "source": [
    "# train.drop(columns =['임신 시도 또는 마지막 임신 경과 연수'],inplace = True )\n",
    "# test.drop(columns =['임신 시도 또는 마지막 임신 경과 연수'],inplace = True )"
   ]
  },
  {
   "cell_type": "code",
   "execution_count": 16,
   "metadata": {
    "colab": {
     "base_uri": "https://localhost:8080/"
    },
    "id": "kjEBmjSkbL5j",
    "outputId": "b3db516d-031e-42fc-89bb-a3218d8bd879"
   },
   "outputs": [
    {
     "data": {
      "text/plain": [
       "Index(['시술 시기 코드', '시술 당시 나이', '시술 유형', '특정 시술 유형', '배란 자극 여부', '단일 배아 이식 여부',\n",
       "       '착상 전 유전 검사 사용 여부', '착상 전 유전 진단 사용 여부', '불명확 불임 원인', '불임 원인 - 난관 질환',\n",
       "       '불임 원인 - 남성 요인', '불임 원인 - 배란 장애', '불임 원인 - 자궁내막증', '불임 원인 - 정자 농도',\n",
       "       '배아 생성 주요 이유', '총 시술 횟수', '클리닉 내 총 시술 횟수', 'IVF 시술 횟수', 'DI 시술 횟수',\n",
       "       '총 임신 횟수', 'IVF 임신 횟수', 'DI 임신 횟수', '총 출산 횟수', 'IVF 출산 횟수', 'DI 출산 횟수',\n",
       "       '총 생성 배아 수', '미세주입된 난자 수', '미세주입에서 생성된 배아 수', '이식된 배아 수',\n",
       "       '미세주입 배아 이식 수', '저장된 배아 수', '미세주입 후 저장된 배아 수', '해동된 배아 수', '해동 난자 수',\n",
       "       '수집된 신선 난자 수', '저장된 신선 난자 수', '혼합된 난자 수', '파트너 정자와 혼합된 난자 수',\n",
       "       '기증자 정자와 혼합된 난자 수', '난자 출처', '정자 출처', '난자 기증자 나이', '정자 기증자 나이',\n",
       "       '동결 배아 사용 여부', '신선 배아 사용 여부', '기증 배아 사용 여부', '대리모 여부', 'PGD 시술 여부',\n",
       "       'PGS 시술 여부', '난자 혼합 경과일', '배아 이식 경과일', '배아 해동 경과일', '임신 성공 여부', 'PGS',\n",
       "       'PGD', '임신시도_bin', '총_생성_배아_bin', '불임 원인 - 정자 요인', '불임 원인 - 여성 요인',\n",
       "       '남성 불임 원인', '여성 불임 원인', '부부 불임 원인'],\n",
       "      dtype='object')"
      ]
     },
     "execution_count": 16,
     "metadata": {},
     "output_type": "execute_result"
    }
   ],
   "source": [
    "train.columns"
   ]
  },
  {
   "cell_type": "code",
   "execution_count": 17,
   "metadata": {
    "id": "64dAkKrBayFA"
   },
   "outputs": [],
   "source": [
    "# categorical_columns = [\"시술 시기 코드\",\"시술 당시 나이\", \"시술 유형\", \"특정 시술 유형\",\"배란 자극 여부\",\n",
    "                      #  \"단일 배아 이식 여부\",\"착상 전 유전 진단 사용 여부\",\n",
    "                      #  \"남성 주 불임 원인\",\"남성 부 불임 원인\",\"여성 주 불임 원인\",\"여성 부 불임 원인\",\n",
    "                      #  \"부부 주 불임 원인\",\"부부 부 불임 원인\",\"불명확 불임 원인\",\"불임 원인 - 난관 질환\",\n",
    "                      #  \"불임 원인 - 남성 요인\",\"불임 원인 - 배란 장애\",\"불임 원인 - 자궁경부 문제\",\"불임 원인 - 자궁내막증\",\n",
    "                      #  \"불임 원인 - 정자 농도\",\"불임 원인 - 정자 면역학적 요인\",\"불임 원인 - 정자 운동성\",\"불임 원인 - 정자 형태\",\n",
    "                      #  \"배아 생성 주요 이유\",\"총 시술 횟수\",\"클리닉 내 총 시술 횟수\",\"IVF 시술 횟수\",\"DI 시술 횟수\",\n",
    "                      #  \"총 임신 횟수\",\"IVF 임신 횟수\",\"DI 임신 횟수\",\"총 출산 횟수\",\"IVF 출산 횟수\",\"DI 출산 횟수\",\n",
    "                      #  \"난자 출처\",\"정자 출처\",\"난자 기증자 나이\",\"정자 기증자 나이\",\n",
    "                      #  \"동결 배아 사용 여부\",\"신선 배아 사용 여부\",\"기증 배아 사용 여부\",\"대리모 여부\"]\n",
    "categorical_columns =  [\"시술 시기 코드\",\"시술 당시 나이\",\"시술 유형\", \"특정 시술 유형\",\n",
    "                        \"배란 자극 여부\", \"단일 배아 이식 여부\", '착상 전 유전 검사 사용 여부',\"착상 전 유전 진단 사용 여부\",\n",
    "                       \"불명확 불임 원인\",\"배아 생성 주요 이유\",\n",
    "                        \"불임 원인 - 난관 질환\",\"불임 원인 - 남성 요인\",\"불임 원인 - 배란 장애\",\n",
    "                        \"불임 원인 - 자궁내막증\",'불임 원인 - 정자 농도',\"난자 출처\",\"정자 출처\",\"난자 기증자 나이\",\"정자 기증자 나이\",\n",
    "                       \"동결 배아 사용 여부\",\"신선 배아 사용 여부\", '기증 배아 사용 여부',\"대리모 여부\",\n",
    "                        'PGD 시술 여부', '총_생성_배아_bin','PGS 시술 여부', '불임 원인 - 정자 요인', '불임 원인 - 여성 요인',  '남성 불임 원인', '여성 불임 원인', '부부 불임 원인',\"임신시도_bin\"] #\n",
    "# \"남성 주 불임 원인\",\"남성 부 불임 원인\",\"여성 주 불임 원인\",\"여성 부 불임 원인\",\n",
    "#                       \"부부 주 불임 원인\",\"부부 부 불임 원인\",\n",
    "\n",
    "for col in categorical_columns:\n",
    "    if train[col].isna().sum() > 0 or test[col].isna().sum() > 0 :\n",
    "\n",
    "      mode_value = train[col].mode()[0]\n",
    "      train[col].fillna(mode_value, inplace=True)  # 최빈값으로 대체\n",
    "      test[col].fillna(mode_value, inplace = True)\n",
    "    train[col] = train[col].astype(str)\n",
    "    test[col] = test[col].astype(str)\n",
    "    #encoder = ce.OrdinalEncoder(handle_unknown='impute')\n",
    "    #encoder.fit(train[col])\n",
    "    #train[col] = encoder.transform(train[col])\n",
    "    #test[col] = encoder.transform(test[col])\n",
    "\n",
    "numeric_columns = [\"총 생성 배아 수\", \"총 시술 횟수\",\"클리닉 내 총 시술 횟수\",\"IVF 시술 횟수\",\"DI 시술 횟수\",\n",
    "                   \"총 임신 횟수\",\"IVF 임신 횟수\",\"DI 임신 횟수\",\"총 출산 횟수\",\"IVF 출산 횟수\",\"DI 출산 횟수\",\n",
    "                    '미세주입된 난자 수', '미세주입에서 생성된 배아 수', '이식된 배아 수', '미세주입 배아 이식 수', '저장된 배아 수',\n",
    "       '미세주입 후 저장된 배아 수', '해동된 배아 수', '해동 난자 수', '수집된 신선 난자 수', '저장된 신선 난자 수',\n",
    "       '혼합된 난자 수', '파트너 정자와 혼합된 난자 수', '기증자 정자와 혼합된 난자 수', '난자 혼합 경과일', '배아 이식 경과일', '배아 해동 경과일'] #\n",
    "\n",
    "# numeric_columns = [\"총 생성 배아 수\",\"미세주입된 난자 수\",\"미세주입에서 생성된 배아 수\",\n",
    "#                    \"이식된 배아 수\",\"미세주입 배아 이식 수\",\"저장된 배아 수\",\"미세주입 후 저장된 배아 수\",\n",
    "#                    \"수집된 신선 난자 수\",\"혼합된 난자 수\",\"파트너 정자와 혼합된 난자 수\",\n",
    "#                    \"기증자 정자와 혼합된 난자 수\",\"배아 이식 경과일\"]\n",
    "\n",
    "# DI 시술인 경우, 배아 관련 수치형 변수에 대해 결측치를 0으로 보간\n",
    "embryo_cols = [\"이식된 배아 수\", \"미세주입 배아 이식 수\", \"배아 이식 경과일\", \"배아 해동 경과일\",\n",
    "               \"미세주입에서 생성된 배아 수\", \"저장된 배아 수\", \"미세주입 후 저장된 배아 수\", \"해동된 배아 수\"]\n",
    "di_mask_train = train[\"시술 유형\"] == \"DI\"\n",
    "di_mask_test = test[\"시술 유형\"] == \"DI\"\n",
    "for col in embryo_cols:\n",
    "    if col in train.columns:\n",
    "        train.loc[di_mask_train, col] = train.loc[di_mask_train, col].fillna(0)\n",
    "    if col in test.columns:\n",
    "        test.loc[di_mask_test, col] = test.loc[di_mask_test, col].fillna(0)\n",
    "\n",
    "for col in numeric_columns:\n",
    "  if train[col].isna().sum():\n",
    "    if train[col].isna().sum() >= len(train)*0.5: # 결측치가 절반이 넘어갈 경우\n",
    "      train[col].fillna(-1, inplace=True)  # -1로 대체\n",
    "      test[col].fillna(-1, inplace = True)\n",
    "    else:\n",
    "      mode_value = train[col].mode()[0]  # 최빈값 구하기\n",
    "      train[col].fillna(mode_value, inplace=True)  # 최빈값으로 대체\n",
    "      test[col].fillna(mode_value, inplace = True)\n"
   ]
  },
  {
   "cell_type": "code",
   "execution_count": 18,
   "metadata": {
    "colab": {
     "base_uri": "https://localhost:8080/"
    },
    "id": "rrQrzq0H_QfV",
    "outputId": "255208d3-85ca-4d21-d9d0-eb8dccc27e6d"
   },
   "outputs": [
    {
     "data": {
      "text/plain": [
       "59"
      ]
     },
     "execution_count": 18,
     "metadata": {},
     "output_type": "execute_result"
    }
   ],
   "source": [
    "len(categorical_columns) + len(numeric_columns)"
   ]
  },
  {
   "cell_type": "code",
   "execution_count": 19,
   "metadata": {
    "id": "CI8IOlCFVXGY"
   },
   "outputs": [],
   "source": [
    "def make_feature(df):\n",
    "  #df['연령 가중치'] = df['시술 당시 나이'].map(age_weight_dict)\n",
    "\n",
    "  #df['난자 활용률'] = df['미세주입된 난자 수'] / (df['수집된 신선 난자 수'] + df['해동 난자 수'] + 1)\n",
    "  df['미세주입 배아 생성률'] = (df['미세주입에서 생성된 배아 수']) / (df['미세주입된 난자 수'] + 1)\n",
    "  df['미세주입 배아 이식률'] = (df['미세주입 배아 이식 수']) / (df['미세주입에서 생성된 배아 수'] + 1)\n",
    "  df['배아 이식률'] = (df['이식된 배아 수']) / (df['총 생성 배아 수'] + 1)\n",
    "  df['저장 배아 비율'] = (df['저장된 배아 수'])/ (df['총 생성 배아 수'] + 1)\n",
    "  df['해동 배아 생존율'] = (df['해동된 배아 수'])/ (df['총 생성 배아 수'] + 1)\n",
    "  df['파트너 정자 혼합 비율'] = (df['파트너 정자와 혼합된 난자 수']) / (df['혼합된 난자 수'] + 1)\n",
    "\n",
    "  # df['저장 배아 비율2'] = (df['저장된 배아 수'])/ (df['이식된 배아 수'] + 1)\n",
    "  # df['해동 배아 생존율2'] = (df['해동된 배아 수'])/ (df['이식된 배아 수'] + 1)\n",
    "  # df['미세주입 배아 이식 비율'] = df['미세주입 배아 이식 수'] / (df['이식된 배아 수'] + 1)\n",
    "  #df['나이보정 배아 이식 수'] = df['이식된 배아 수']*df['연령 가중치']\n",
    "\n",
    "  df['임신 성공률'] = (df['총 임신 횟수']) / (df['총 시술 횟수'] + 1)\n",
    "  #df['IVF 시술 성공률'] = (df['IVF 임신 횟수'])/ (df['IVF 시술 횟수'] + 1)\n",
    "  #df['DI 시술 성공률'] = (df['DI 임신 횟수']) / (df['DI 시술 횟수'] + 1)\n",
    "  df['출산율'] = df['총 출산 횟수'] / (df['총 임신 횟수'] + 1)\n",
    "  #df['IVF 출산율'] = df['IVF 출산 횟수'] / (df['IVF 임신 횟수'] + 1)\n",
    "  #df['DI 출산율'] = df['DI 출산 횟수'] / (df['DI 임신 횟수'] + 1)\n",
    "  #df['시술 기준 출산 성공률'] = df['총 출산 횟수'] / (df['총 시술 횟수'] + 1)\n",
    "\n",
    "  #df = df.drop(columns = ['연령 가중치'])\n",
    "\n",
    "  return df"
   ]
  },
  {
   "cell_type": "code",
   "execution_count": 20,
   "metadata": {
    "colab": {
     "base_uri": "https://localhost:8080/"
    },
    "id": "_VNPbGSR4h_I",
    "outputId": "44e7b9c5-1948-417e-b02a-64267fb91fae"
   },
   "outputs": [
    {
     "data": {
      "text/plain": [
       "((256351, 69), (90067, 69))"
      ]
     },
     "execution_count": 20,
     "metadata": {},
     "output_type": "execute_result"
    }
   ],
   "source": [
    "X = train.drop('임신 성공 여부', axis=1)\n",
    "y = train['임신 성공 여부']\n",
    "\n",
    "X = make_feature(X)\n",
    "test = make_feature(test)\n",
    "\n",
    "X.shape, test.shape"
   ]
  },
  {
   "cell_type": "code",
   "execution_count": 21,
   "metadata": {},
   "outputs": [
    {
     "data": {
      "text/plain": [
       "((256351, 69), (90067, 69))"
      ]
     },
     "execution_count": 21,
     "metadata": {},
     "output_type": "execute_result"
    }
   ],
   "source": [
    "from sklearn.preprocessing import StandardScaler\n",
    "scaler = StandardScaler()\n",
    "# 수치형 변수(정수, 실수)를 선택하여 스케일링\n",
    "numeric_cols = X.select_dtypes(include=['int64', 'float64']).columns\n",
    "X[numeric_cols] = scaler.fit_transform(X[numeric_cols])\n",
    "test[numeric_cols] = scaler.transform(test[numeric_cols])\n",
    "\n",
    "X.shape, test.shape"
   ]
  },
  {
   "cell_type": "code",
   "execution_count": 22,
   "metadata": {
    "colab": {
     "base_uri": "https://localhost:8080/",
     "height": 178
    },
    "id": "1WNQj2e8ukWK",
    "outputId": "039cab20-93c0-4ab4-f8a6-8098c62dc87f"
   },
   "outputs": [
    {
     "data": {
      "text/plain": [
       "임신 성공 여부\n",
       "0    190123\n",
       "1     66228\n",
       "Name: count, dtype: int64"
      ]
     },
     "execution_count": 22,
     "metadata": {},
     "output_type": "execute_result"
    }
   ],
   "source": [
    "y.value_counts()"
   ]
  },
  {
   "cell_type": "code",
   "execution_count": 23,
   "metadata": {},
   "outputs": [],
   "source": [
    "if not os.path.exists('./weight'):\n",
    "    os.makedirs('./weight')"
   ]
  },
  {
   "cell_type": "code",
   "execution_count": 24,
   "metadata": {
    "id": "nsRZfmFixgqm"
   },
   "outputs": [],
   "source": [
    "from sklearn.utils.class_weight import compute_class_weight\n",
    "def objective_cat(trial):\n",
    "    global best_val_auc\n",
    "    cbrm_param = {\n",
    "        'iterations':trial.suggest_int(\"iterations\", 1500, 3000),\n",
    "        'depth':trial.suggest_int(\"depth\", 4, 10),\n",
    "        'learning_rate' : trial.suggest_float('learning_rate',0.005, 0.1),\n",
    "        'l2_leaf_reg': trial.suggest_float(\"l2_leaf_reg\", 1e-4, 100.0, log=True),\n",
    "        'early_stopping_rounds': 300\n",
    "    }\n",
    "\n",
    "    # Generate model\n",
    "    model_cat = CatBoostClassifier(**cbrm_param, auto_class_weights='Balanced', eval_metric='AUC', random_state=seed)\n",
    "    model_cat.fit(X_train,\n",
    "          y_train,\n",
    "          cat_features=categorical_columns,\n",
    "          early_stopping_rounds= 300,\n",
    "          eval_set=[(X_val,y_val)],\n",
    "          verbose = 300)\n",
    "    \n",
    "    val_auc = model_cat.get_best_score()[\"validation\"][\"AUC\"]\n",
    "    best_model_path = \"./weight/cat_fold_cpu{}.cbm\".format(idx)\n",
    "    if val_auc > best_val_auc:\n",
    "        best_val_auc = val_auc\n",
    "        model_cat.save_model(best_model_path)\n",
    "        print('저장 완료')\n",
    "\n",
    "    return val_auc\n",
    "\n",
    "def objective_lgbm(trial):\n",
    "\n",
    "    lgbm_params = {\n",
    "         #'num_leaves': trial.suggest_int('num_leaves', 2, 1024, step=1),\n",
    "         #'max_depth': trial.suggest_int('max_depth', 3, 18, step=1),\n",
    "          \"num_iterations\": trial.suggest_int(\"num_iterations\", 1500, 3000),\n",
    "        \"objective\":  trial.suggest_categorical(\"objective\", [\"binary\"]),\n",
    "         \"metric\":  trial.suggest_categorical(\"metric\", [\"auc\"]),\n",
    "        #  \"random_state\":  trial.suggest_int('random_state', 42, 42),\n",
    "        \"random_state\": seed,\n",
    "        \"verbose\":  trial.suggest_int('verbose', -1, -1),\n",
    "        'learning_rate': trial.suggest_float('learning_rate', 0.005, 0.1, log=True),\n",
    "        'n_estimators': trial.suggest_int('n_estimators', 100, 2000),\n",
    "        'min_child_samples': trial.suggest_int('min_child_samples', 10, 50, step=5),\n",
    "        'subsample': trial.suggest_float('subsample', 0.5, 1.0, step=0.1),\n",
    "        'colsample_bytree': trial.suggest_float('colsample_bytree', 0.5, 1.0, step=0.1),\n",
    "    }\n",
    "\n",
    "    # Generate model\n",
    "\n",
    "    class_weights = compute_class_weight(class_weight=\"balanced\", classes=np.unique(y), y=y_train)\n",
    "    class_weight_dict = {i: w for i, w in enumerate(class_weights)}\n",
    "\n",
    "    model_lgbm = lgb.LGBMClassifier(**lgbm_params, class_weight=class_weight_dict)\n",
    "\n",
    "    model_lgbm.fit(X_train, y_train,eval_set=[(X_val, y_val)],categorical_feature=categorical_columns)\n",
    "\n",
    "    return model_lgbm.best_score_['valid_0']['auc']"
   ]
  },
  {
   "cell_type": "code",
   "execution_count": 25,
   "metadata": {
    "colab": {
     "base_uri": "https://localhost:8080/"
    },
    "id": "NsuYwQX28LzT",
    "outputId": "392153b7-08f0-4feb-9a83-6016732f894c",
    "scrolled": true,
    "tags": []
   },
   "outputs": [
    {
     "name": "stderr",
     "output_type": "stream",
     "text": [
      "[I 2025-02-26 03:52:28,359] A new study created in memory with name: no-name-7fa82798-b555-4262-9a23-231d1ae98002\n"
     ]
    },
    {
     "name": "stdout",
     "output_type": "stream",
     "text": [
      "Seed 4972 Start!\n",
      "==================================================\n",
      "0:\ttest: 0.7261107\tbest: 0.7261107 (0)\ttotal: 180ms\tremaining: 7m 5s\n",
      "300:\ttest: 0.7384885\tbest: 0.7384885 (300)\ttotal: 36.7s\tremaining: 4m 11s\n",
      "600:\ttest: 0.7399102\tbest: 0.7399256 (597)\ttotal: 1m 17s\tremaining: 3m 47s\n",
      "900:\ttest: 0.7403351\tbest: 0.7403364 (898)\ttotal: 1m 58s\tremaining: 3m 13s\n",
      "1200:\ttest: 0.7405525\tbest: 0.7405525 (1200)\ttotal: 2m 43s\tremaining: 2m 38s\n",
      "1500:\ttest: 0.7406340\tbest: 0.7406359 (1470)\ttotal: 3m 36s\tremaining: 2m 4s\n",
      "1800:\ttest: 0.7406766\tbest: 0.7406832 (1780)\ttotal: 4m 27s\tremaining: 1m 24s\n",
      "2100:\ttest: 0.7405870\tbest: 0.7407132 (1822)\ttotal: 5m 18s\tremaining: 40.2s\n"
     ]
    },
    {
     "name": "stderr",
     "output_type": "stream",
     "text": [
      "[I 2025-02-26 03:57:51,502] Trial 0 finished with value: 0.7407131514449148 and parameters: {'iterations': 2366, 'depth': 10, 'learning_rate': 0.01181021951839225, 'l2_leaf_reg': 9.980783802743254}. Best is trial 0 with value: 0.7407131514449148.\n"
     ]
    },
    {
     "name": "stdout",
     "output_type": "stream",
     "text": [
      "Stopped by overfitting detector  (300 iterations wait)\n",
      "\n",
      "bestTest = 0.7407131514\n",
      "bestIteration = 1822\n",
      "\n",
      "Shrink model to first 1823 iterations.\n",
      "저장 완료\n",
      "0:\ttest: 0.6974265\tbest: 0.6974265 (0)\ttotal: 50.8ms\tremaining: 1m 51s\n",
      "300:\ttest: 0.7314086\tbest: 0.7314086 (300)\ttotal: 13.3s\tremaining: 1m 23s\n",
      "600:\ttest: 0.7344263\tbest: 0.7344263 (600)\ttotal: 26.6s\tremaining: 1m 10s\n",
      "900:\ttest: 0.7363576\tbest: 0.7363576 (900)\ttotal: 40.8s\tremaining: 58.5s\n",
      "1200:\ttest: 0.7373284\tbest: 0.7373284 (1200)\ttotal: 54.9s\tremaining: 45.4s\n",
      "1500:\ttest: 0.7379812\tbest: 0.7379820 (1499)\ttotal: 1m 9s\tremaining: 32.1s\n",
      "1800:\ttest: 0.7384519\tbest: 0.7384519 (1800)\ttotal: 1m 24s\tremaining: 18.3s\n",
      "2100:\ttest: 0.7388409\tbest: 0.7388409 (2100)\ttotal: 1m 38s\tremaining: 4.31s\n"
     ]
    },
    {
     "name": "stderr",
     "output_type": "stream",
     "text": [
      "[I 2025-02-26 03:59:34,804] Trial 1 finished with value: 0.7389633136331881 and parameters: {'iterations': 2193, 'depth': 4, 'learning_rate': 0.005671430811678843, 'l2_leaf_reg': 0.00012325230809466137}. Best is trial 0 with value: 0.7407131514449148.\n"
     ]
    },
    {
     "name": "stdout",
     "output_type": "stream",
     "text": [
      "2192:\ttest: 0.7389610\tbest: 0.7389633 (2188)\ttotal: 1m 42s\tremaining: 0us\n",
      "\n",
      "bestTest = 0.7389633136\n",
      "bestIteration = 2188\n",
      "\n",
      "Shrink model to first 2189 iterations.\n",
      "0:\ttest: 0.6974265\tbest: 0.6974265 (0)\ttotal: 57.5ms\tremaining: 2m 25s\n",
      "300:\ttest: 0.7401623\tbest: 0.7401623 (300)\ttotal: 15.3s\tremaining: 1m 53s\n",
      "600:\ttest: 0.7401827\tbest: 0.7404520 (569)\ttotal: 31.5s\tremaining: 1m 41s\n"
     ]
    },
    {
     "name": "stderr",
     "output_type": "stream",
     "text": [
      "[I 2025-02-26 04:00:20,677] Trial 2 finished with value: 0.740451980140673 and parameters: {'iterations': 2535, 'depth': 4, 'learning_rate': 0.09275339199839054, 'l2_leaf_reg': 0.0008705394248343123}. Best is trial 0 with value: 0.7407131514449148.\n"
     ]
    },
    {
     "name": "stdout",
     "output_type": "stream",
     "text": [
      "Stopped by overfitting detector  (300 iterations wait)\n",
      "\n",
      "bestTest = 0.7404519801\n",
      "bestIteration = 569\n",
      "\n",
      "Shrink model to first 570 iterations.\n",
      "0:\ttest: 0.6974265\tbest: 0.6974265 (0)\ttotal: 50.3ms\tremaining: 1m 57s\n",
      "300:\ttest: 0.7391020\tbest: 0.7391364 (299)\ttotal: 14.4s\tremaining: 1m 37s\n",
      "600:\ttest: 0.7399175\tbest: 0.7399414 (576)\ttotal: 29.1s\tremaining: 1m 23s\n"
     ]
    },
    {
     "name": "stderr",
     "output_type": "stream",
     "text": [
      "[I 2025-02-26 04:01:03,505] Trial 3 finished with value: 0.7399414264733113 and parameters: {'iterations': 2334, 'depth': 4, 'learning_rate': 0.04657568321363276, 'l2_leaf_reg': 0.0008640473331457248}. Best is trial 0 with value: 0.7407131514449148.\n"
     ]
    },
    {
     "name": "stdout",
     "output_type": "stream",
     "text": [
      "Stopped by overfitting detector  (300 iterations wait)\n",
      "\n",
      "bestTest = 0.7399414265\n",
      "bestIteration = 576\n",
      "\n",
      "Shrink model to first 577 iterations.\n",
      "0:\ttest: 0.7259911\tbest: 0.7259911 (0)\ttotal: 115ms\tremaining: 3m 20s\n",
      "300:\ttest: 0.7377098\tbest: 0.7377708 (298)\ttotal: 36.6s\tremaining: 2m 55s\n",
      "600:\ttest: 0.7386934\tbest: 0.7386982 (596)\ttotal: 1m 16s\tremaining: 2m 24s\n",
      "900:\ttest: 0.7385962\tbest: 0.7387269 (609)\ttotal: 1m 55s\tremaining: 1m 47s\n"
     ]
    },
    {
     "name": "stderr",
     "output_type": "stream",
     "text": [
      "[I 2025-02-26 04:03:00,379] Trial 4 finished with value: 0.7387269392091438 and parameters: {'iterations': 1742, 'depth': 10, 'learning_rate': 0.012622767482095846, 'l2_leaf_reg': 0.00021158816350109617}. Best is trial 0 with value: 0.7407131514449148.\n"
     ]
    },
    {
     "name": "stdout",
     "output_type": "stream",
     "text": [
      "Stopped by overfitting detector  (300 iterations wait)\n",
      "\n",
      "bestTest = 0.7387269392\n",
      "bestIteration = 609\n",
      "\n",
      "Shrink model to first 610 iterations.\n",
      "0:\ttest: 0.6974265\tbest: 0.6974265 (0)\ttotal: 48.3ms\tremaining: 1m 40s\n",
      "300:\ttest: 0.7402149\tbest: 0.7402404 (295)\ttotal: 14.1s\tremaining: 1m 23s\n",
      "600:\ttest: 0.7407619\tbest: 0.7408000 (497)\ttotal: 28.9s\tremaining: 1m 11s\n",
      "900:\ttest: 0.7406922\tbest: 0.7408208 (693)\ttotal: 44s\tremaining: 57.7s\n"
     ]
    },
    {
     "name": "stderr",
     "output_type": "stream",
     "text": [
      "[I 2025-02-26 04:03:49,286] Trial 5 finished with value: 0.7408207845964783 and parameters: {'iterations': 2082, 'depth': 4, 'learning_rate': 0.06995196593094148, 'l2_leaf_reg': 0.0018080296485396804}. Best is trial 5 with value: 0.7408207845964783.\n"
     ]
    },
    {
     "name": "stdout",
     "output_type": "stream",
     "text": [
      "Stopped by overfitting detector  (300 iterations wait)\n",
      "\n",
      "bestTest = 0.7408207846\n",
      "bestIteration = 693\n",
      "\n",
      "Shrink model to first 694 iterations.\n",
      "저장 완료\n",
      "0:\ttest: 0.7184700\tbest: 0.7184700 (0)\ttotal: 59.3ms\tremaining: 1m 58s\n",
      "300:\ttest: 0.7403560\tbest: 0.7403700 (299)\ttotal: 17.4s\tremaining: 1m 37s\n",
      "600:\ttest: 0.7408524\tbest: 0.7408687 (562)\ttotal: 35.1s\tremaining: 1m 21s\n",
      "900:\ttest: 0.7407904\tbest: 0.7409252 (693)\ttotal: 53.3s\tremaining: 1m 4s\n"
     ]
    },
    {
     "name": "stderr",
     "output_type": "stream",
     "text": [
      "[I 2025-02-26 04:04:48,473] Trial 6 finished with value: 0.7409252292941106 and parameters: {'iterations': 1997, 'depth': 5, 'learning_rate': 0.07985155992831598, 'l2_leaf_reg': 62.52181000710482}. Best is trial 6 with value: 0.7409252292941106.\n"
     ]
    },
    {
     "name": "stdout",
     "output_type": "stream",
     "text": [
      "Stopped by overfitting detector  (300 iterations wait)\n",
      "\n",
      "bestTest = 0.7409252293\n",
      "bestIteration = 693\n",
      "\n",
      "Shrink model to first 694 iterations.\n",
      "저장 완료\n",
      "0:\ttest: 0.7231231\tbest: 0.7231231 (0)\ttotal: 74.4ms\tremaining: 2m 23s\n",
      "300:\ttest: 0.7392042\tbest: 0.7402738 (152)\ttotal: 24s\tremaining: 2m 9s\n"
     ]
    },
    {
     "name": "stderr",
     "output_type": "stream",
     "text": [
      "[I 2025-02-26 04:05:25,496] Trial 7 finished with value: 0.7402738079055694 and parameters: {'iterations': 1927, 'depth': 7, 'learning_rate': 0.0941937211034094, 'l2_leaf_reg': 0.05654822767791934}. Best is trial 6 with value: 0.7409252292941106.\n"
     ]
    },
    {
     "name": "stdout",
     "output_type": "stream",
     "text": [
      "Stopped by overfitting detector  (300 iterations wait)\n",
      "\n",
      "bestTest = 0.7402738079\n",
      "bestIteration = 152\n",
      "\n",
      "Shrink model to first 153 iterations.\n",
      "0:\ttest: 0.7231225\tbest: 0.7231225 (0)\ttotal: 76.6ms\tremaining: 2m 25s\n",
      "300:\ttest: 0.7409809\tbest: 0.7409902 (297)\ttotal: 22.8s\tremaining: 2m 1s\n",
      "600:\ttest: 0.7410319\tbest: 0.7411737 (393)\ttotal: 47.9s\tremaining: 1m 43s\n"
     ]
    },
    {
     "name": "stderr",
     "output_type": "stream",
     "text": [
      "[I 2025-02-26 04:06:21,362] Trial 8 finished with value: 0.7411736785480478 and parameters: {'iterations': 1904, 'depth': 7, 'learning_rate': 0.05155602859187331, 'l2_leaf_reg': 1.299974533316308}. Best is trial 8 with value: 0.7411736785480478.\n"
     ]
    },
    {
     "name": "stdout",
     "output_type": "stream",
     "text": [
      "Stopped by overfitting detector  (300 iterations wait)\n",
      "\n",
      "bestTest = 0.7411736785\n",
      "bestIteration = 393\n",
      "\n",
      "Shrink model to first 394 iterations.\n",
      "저장 완료\n",
      "0:\ttest: 0.7227409\tbest: 0.7227409 (0)\ttotal: 66.3ms\tremaining: 2m 54s\n",
      "300:\ttest: 0.7398133\tbest: 0.7398169 (299)\ttotal: 19.5s\tremaining: 2m 31s\n",
      "600:\ttest: 0.7407357\tbest: 0.7407774 (468)\ttotal: 41s\tremaining: 2m 18s\n",
      "900:\ttest: 0.7406764\tbest: 0.7407840 (613)\ttotal: 1m 2s\tremaining: 2m\n"
     ]
    },
    {
     "name": "stderr",
     "output_type": "stream",
     "text": [
      "[I 2025-02-26 04:07:25,032] Trial 9 finished with value: 0.7407839605345163 and parameters: {'iterations': 2639, 'depth': 6, 'learning_rate': 0.03968704290444751, 'l2_leaf_reg': 0.30557194377967184}. Best is trial 8 with value: 0.7411736785480478.\n"
     ]
    },
    {
     "name": "stdout",
     "output_type": "stream",
     "text": [
      "Stopped by overfitting detector  (300 iterations wait)\n",
      "\n",
      "bestTest = 0.7407839605\n",
      "bestIteration = 613\n",
      "\n",
      "Shrink model to first 614 iterations.\n",
      "0:\ttest: 0.7228991\tbest: 0.7228991 (0)\ttotal: 83.6ms\tremaining: 4m 5s\n",
      "300:\ttest: 0.7399597\tbest: 0.7399787 (293)\ttotal: 26.8s\tremaining: 3m 55s\n",
      "600:\ttest: 0.7402582\tbest: 0.7404333 (419)\ttotal: 55.5s\tremaining: 3m 36s\n"
     ]
    },
    {
     "name": "stderr",
     "output_type": "stream",
     "text": [
      "[I 2025-02-26 04:08:32,182] Trial 10 finished with value: 0.7404332981036307 and parameters: {'iterations': 2945, 'depth': 8, 'learning_rate': 0.032580115422505045, 'l2_leaf_reg': 0.87526046512315}. Best is trial 8 with value: 0.7411736785480478.\n"
     ]
    },
    {
     "name": "stdout",
     "output_type": "stream",
     "text": [
      "Stopped by overfitting detector  (300 iterations wait)\n",
      "\n",
      "bestTest = 0.7404332981\n",
      "bestIteration = 419\n",
      "\n",
      "Shrink model to first 420 iterations.\n",
      "0:\ttest: 0.7227142\tbest: 0.7227142 (0)\ttotal: 65ms\tremaining: 1m 46s\n",
      "300:\ttest: 0.7405258\tbest: 0.7405350 (295)\ttotal: 19.8s\tremaining: 1m 28s\n",
      "600:\ttest: 0.7412934\tbest: 0.7412935 (598)\ttotal: 40.9s\tremaining: 1m 11s\n",
      "900:\ttest: 0.7411413\tbest: 0.7413065 (603)\ttotal: 1m 2s\tremaining: 51.6s\n"
     ]
    },
    {
     "name": "stderr",
     "output_type": "stream",
     "text": [
      "[I 2025-02-26 04:09:35,091] Trial 11 finished with value: 0.7413064500580628 and parameters: {'iterations': 1645, 'depth': 6, 'learning_rate': 0.06980778172048213, 'l2_leaf_reg': 73.1213351392818}. Best is trial 11 with value: 0.7413064500580628.\n"
     ]
    },
    {
     "name": "stdout",
     "output_type": "stream",
     "text": [
      "Stopped by overfitting detector  (300 iterations wait)\n",
      "\n",
      "bestTest = 0.7413064501\n",
      "bestIteration = 603\n",
      "\n",
      "Shrink model to first 604 iterations.\n",
      "저장 완료\n",
      "0:\ttest: 0.7231143\tbest: 0.7231143 (0)\ttotal: 75.4ms\tremaining: 1m 57s\n",
      "300:\ttest: 0.7411462\tbest: 0.7411551 (298)\ttotal: 23.3s\tremaining: 1m 36s\n",
      "600:\ttest: 0.7408553\tbest: 0.7411965 (318)\ttotal: 48.4s\tremaining: 1m 16s\n"
     ]
    },
    {
     "name": "stderr",
     "output_type": "stream",
     "text": [
      "[I 2025-02-26 04:10:25,211] Trial 12 finished with value: 0.741196525825655 and parameters: {'iterations': 1553, 'depth': 7, 'learning_rate': 0.06294305307719734, 'l2_leaf_reg': 6.4688552126590215}. Best is trial 11 with value: 0.7413064500580628.\n"
     ]
    },
    {
     "name": "stdout",
     "output_type": "stream",
     "text": [
      "Stopped by overfitting detector  (300 iterations wait)\n",
      "\n",
      "bestTest = 0.7411965258\n",
      "bestIteration = 318\n",
      "\n",
      "Shrink model to first 319 iterations.\n",
      "0:\ttest: 0.7233671\tbest: 0.7233671 (0)\ttotal: 85.6ms\tremaining: 2m 16s\n",
      "300:\ttest: 0.7411193\tbest: 0.7411242 (299)\ttotal: 26.1s\tremaining: 1m 51s\n",
      "600:\ttest: 0.7409728\tbest: 0.7412098 (392)\ttotal: 54.1s\tremaining: 1m 29s\n"
     ]
    },
    {
     "name": "stderr",
     "output_type": "stream",
     "text": [
      "[I 2025-02-26 04:11:28,132] Trial 13 finished with value: 0.741209772005373 and parameters: {'iterations': 1594, 'depth': 8, 'learning_rate': 0.06681053374964743, 'l2_leaf_reg': 55.074044317639256}. Best is trial 11 with value: 0.7413064500580628.\n"
     ]
    },
    {
     "name": "stdout",
     "output_type": "stream",
     "text": [
      "Stopped by overfitting detector  (300 iterations wait)\n",
      "\n",
      "bestTest = 0.741209772\n",
      "bestIteration = 392\n",
      "\n",
      "Shrink model to first 393 iterations.\n",
      "0:\ttest: 0.7263992\tbest: 0.7263992 (0)\ttotal: 98.7ms\tremaining: 2m 31s\n",
      "300:\ttest: 0.7409131\tbest: 0.7409131 (300)\ttotal: 29.4s\tremaining: 2m\n",
      "600:\ttest: 0.7412221\tbest: 0.7412394 (537)\ttotal: 1m 1s\tremaining: 1m 35s\n"
     ]
    },
    {
     "name": "stderr",
     "output_type": "stream",
     "text": [
      "[I 2025-02-26 04:12:55,434] Trial 14 finished with value: 0.741239381346547 and parameters: {'iterations': 1533, 'depth': 9, 'learning_rate': 0.07625472087012396, 'l2_leaf_reg': 92.74223128282539}. Best is trial 11 with value: 0.7413064500580628.\n"
     ]
    },
    {
     "name": "stdout",
     "output_type": "stream",
     "text": [
      "Stopped by overfitting detector  (300 iterations wait)\n",
      "\n",
      "bestTest = 0.7412393813\n",
      "bestIteration = 537\n",
      "\n",
      "Shrink model to first 538 iterations.\n",
      "0:\ttest: 0.7256950\tbest: 0.7256950 (0)\ttotal: 99.9ms\tremaining: 2m 54s\n",
      "300:\ttest: 0.7371922\tbest: 0.7392820 (108)\ttotal: 31.5s\tremaining: 2m 31s\n"
     ]
    },
    {
     "name": "stderr",
     "output_type": "stream",
     "text": [
      "[I 2025-02-26 04:13:39,716] Trial 15 finished with value: 0.7392819803457982 and parameters: {'iterations': 1748, 'depth': 9, 'learning_rate': 0.08145815028551073, 'l2_leaf_reg': 0.026986971696484528}. Best is trial 11 with value: 0.7413064500580628.\n"
     ]
    },
    {
     "name": "stdout",
     "output_type": "stream",
     "text": [
      "Stopped by overfitting detector  (300 iterations wait)\n",
      "\n",
      "bestTest = 0.7392819803\n",
      "bestIteration = 108\n",
      "\n",
      "Shrink model to first 109 iterations.\n",
      "0:\ttest: 0.7227377\tbest: 0.7227377 (0)\ttotal: 71.3ms\tremaining: 1m 47s\n",
      "300:\ttest: 0.7405492\tbest: 0.7405695 (282)\ttotal: 20.9s\tremaining: 1m 24s\n",
      "600:\ttest: 0.7406385\tbest: 0.7408117 (436)\ttotal: 43.5s\tremaining: 1m 5s\n"
     ]
    },
    {
     "name": "stderr",
     "output_type": "stream",
     "text": [
      "[I 2025-02-26 04:14:33,309] Trial 16 finished with value: 0.7408116798332608 and parameters: {'iterations': 1512, 'depth': 6, 'learning_rate': 0.0808891958156232, 'l2_leaf_reg': 11.7175383678352}. Best is trial 11 with value: 0.7413064500580628.\n"
     ]
    },
    {
     "name": "stdout",
     "output_type": "stream",
     "text": [
      "Stopped by overfitting detector  (300 iterations wait)\n",
      "\n",
      "bestTest = 0.7408116798\n",
      "bestIteration = 436\n",
      "\n",
      "Shrink model to first 437 iterations.\n",
      "0:\ttest: 0.7263599\tbest: 0.7263599 (0)\ttotal: 109ms\tremaining: 3m 13s\n",
      "300:\ttest: 0.7410704\tbest: 0.7411262 (272)\ttotal: 28.8s\tremaining: 2m 20s\n",
      "600:\ttest: 0.7413253\tbest: 0.7413480 (575)\ttotal: 1m\tremaining: 1m 57s\n",
      "900:\ttest: 0.7414890\tbest: 0.7415054 (891)\ttotal: 1m 33s\tremaining: 1m 29s\n",
      "1200:\ttest: 0.7411319\tbest: 0.7415389 (926)\ttotal: 2m 6s\tremaining: 59.8s\n"
     ]
    },
    {
     "name": "stderr",
     "output_type": "stream",
     "text": [
      "[I 2025-02-26 04:16:42,610] Trial 17 finished with value: 0.7415388657167657 and parameters: {'iterations': 1770, 'depth': 9, 'learning_rate': 0.05957423506379656, 'l2_leaf_reg': 78.95541377765753}. Best is trial 17 with value: 0.7415388657167657.\n"
     ]
    },
    {
     "name": "stdout",
     "output_type": "stream",
     "text": [
      "Stopped by overfitting detector  (300 iterations wait)\n",
      "\n",
      "bestTest = 0.7415388657\n",
      "bestIteration = 926\n",
      "\n",
      "Shrink model to first 927 iterations.\n",
      "저장 완료\n",
      "0:\ttest: 0.7227409\tbest: 0.7227409 (0)\ttotal: 69.8ms\tremaining: 2m 4s\n",
      "300:\ttest: 0.7403801\tbest: 0.7404290 (283)\ttotal: 20.1s\tremaining: 1m 38s\n",
      "600:\ttest: 0.7398922\tbest: 0.7405429 (358)\ttotal: 41.8s\tremaining: 1m 22s\n"
     ]
    },
    {
     "name": "stderr",
     "output_type": "stream",
     "text": [
      "[I 2025-02-26 04:17:28,779] Trial 18 finished with value: 0.7405429046818488 and parameters: {'iterations': 1785, 'depth': 6, 'learning_rate': 0.058873001052268344, 'l2_leaf_reg': 0.010016909578442512}. Best is trial 17 with value: 0.7415388657167657.\n"
     ]
    },
    {
     "name": "stdout",
     "output_type": "stream",
     "text": [
      "Stopped by overfitting detector  (300 iterations wait)\n",
      "\n",
      "bestTest = 0.7405429047\n",
      "bestIteration = 358\n",
      "\n",
      "Shrink model to first 359 iterations.\n",
      "0:\ttest: 0.7229013\tbest: 0.7229013 (0)\ttotal: 86.7ms\tremaining: 2m 27s\n",
      "300:\ttest: 0.7401900\tbest: 0.7402116 (293)\ttotal: 25.1s\tremaining: 1m 56s\n",
      "600:\ttest: 0.7410353\tbest: 0.7410487 (589)\ttotal: 52.6s\tremaining: 1m 36s\n"
     ]
    },
    {
     "name": "stderr",
     "output_type": "stream",
     "text": [
      "[I 2025-02-26 04:18:49,389] Trial 19 finished with value: 0.7410486538295885 and parameters: {'iterations': 1703, 'depth': 8, 'learning_rate': 0.0277707300774159, 'l2_leaf_reg': 2.276175005448344}. Best is trial 17 with value: 0.7415388657167657.\n"
     ]
    },
    {
     "name": "stdout",
     "output_type": "stream",
     "text": [
      "Stopped by overfitting detector  (300 iterations wait)\n",
      "\n",
      "bestTest = 0.7410486538\n",
      "bestIteration = 589\n",
      "\n",
      "Shrink model to first 590 iterations.\n",
      "0:\ttest: 0.7256956\tbest: 0.7256956 (0)\ttotal: 97.2ms\tremaining: 3m 31s\n",
      "300:\ttest: 0.7402730\tbest: 0.7406600 (262)\ttotal: 30.2s\tremaining: 3m 8s\n"
     ]
    },
    {
     "name": "stderr",
     "output_type": "stream",
     "text": [
      "[I 2025-02-26 04:19:49,361] Trial 20 finished with value: 0.7406599523094647 and parameters: {'iterations': 2176, 'depth': 9, 'learning_rate': 0.05377174904568589, 'l2_leaf_reg': 0.21530549345097366}. Best is trial 17 with value: 0.7415388657167657.\n"
     ]
    },
    {
     "name": "stdout",
     "output_type": "stream",
     "text": [
      "Stopped by overfitting detector  (300 iterations wait)\n",
      "\n",
      "bestTest = 0.7406599523\n",
      "bestIteration = 262\n",
      "\n",
      "Shrink model to first 263 iterations.\n",
      "0:\ttest: 0.7263900\tbest: 0.7263900 (0)\ttotal: 98ms\tremaining: 2m 40s\n",
      "300:\ttest: 0.7410498\tbest: 0.7410498 (300)\ttotal: 29.1s\tremaining: 2m 8s\n",
      "600:\ttest: 0.7411279\tbest: 0.7411644 (396)\ttotal: 1m\tremaining: 1m 43s\n"
     ]
    },
    {
     "name": "stderr",
     "output_type": "stream",
     "text": [
      "[I 2025-02-26 04:21:00,453] Trial 21 finished with value: 0.7411644427524771 and parameters: {'iterations': 1633, 'depth': 9, 'learning_rate': 0.0710058041641237, 'l2_leaf_reg': 89.82044496900683}. Best is trial 17 with value: 0.7415388657167657.\n"
     ]
    },
    {
     "name": "stdout",
     "output_type": "stream",
     "text": [
      "Stopped by overfitting detector  (300 iterations wait)\n",
      "\n",
      "bestTest = 0.7411644428\n",
      "bestIteration = 396\n",
      "\n",
      "Shrink model to first 397 iterations.\n",
      "0:\ttest: 0.7260081\tbest: 0.7260081 (0)\ttotal: 113ms\tremaining: 3m 26s\n",
      "300:\ttest: 0.7404654\tbest: 0.7406662 (151)\ttotal: 42.8s\tremaining: 3m 37s\n"
     ]
    },
    {
     "name": "stderr",
     "output_type": "stream",
     "text": [
      "[I 2025-02-26 04:22:08,444] Trial 22 finished with value: 0.7406662378917469 and parameters: {'iterations': 1829, 'depth': 10, 'learning_rate': 0.07683644220861759, 'l2_leaf_reg': 24.680291204055877}. Best is trial 17 with value: 0.7415388657167657.\n"
     ]
    },
    {
     "name": "stdout",
     "output_type": "stream",
     "text": [
      "Stopped by overfitting detector  (300 iterations wait)\n",
      "\n",
      "bestTest = 0.7406662379\n",
      "bestIteration = 151\n",
      "\n",
      "Shrink model to first 152 iterations.\n",
      "0:\ttest: 0.7257164\tbest: 0.7257164 (0)\ttotal: 96.5ms\tremaining: 2m 26s\n",
      "300:\ttest: 0.7397232\tbest: 0.7405941 (191)\ttotal: 31.4s\tremaining: 2m 7s\n"
     ]
    },
    {
     "name": "stderr",
     "output_type": "stream",
     "text": [
      "[I 2025-02-26 04:23:01,646] Trial 23 finished with value: 0.740594074801161 and parameters: {'iterations': 1519, 'depth': 9, 'learning_rate': 0.09917245719790296, 'l2_leaf_reg': 3.642784304542385}. Best is trial 17 with value: 0.7415388657167657.\n"
     ]
    },
    {
     "name": "stdout",
     "output_type": "stream",
     "text": [
      "Stopped by overfitting detector  (300 iterations wait)\n",
      "\n",
      "bestTest = 0.7405940748\n",
      "bestIteration = 191\n",
      "\n",
      "Shrink model to first 192 iterations.\n",
      "0:\ttest: 0.7184700\tbest: 0.7184700 (0)\ttotal: 57.8ms\tremaining: 1m 35s\n",
      "300:\ttest: 0.7406367\tbest: 0.7406375 (299)\ttotal: 17.4s\tremaining: 1m 18s\n",
      "600:\ttest: 0.7410164\tbest: 0.7410811 (571)\ttotal: 35.6s\tremaining: 1m 2s\n"
     ]
    },
    {
     "name": "stderr",
     "output_type": "stream",
     "text": [
      "[I 2025-02-26 04:23:53,895] Trial 24 finished with value: 0.7410810982344074 and parameters: {'iterations': 1652, 'depth': 5, 'learning_rate': 0.08835432897692846, 'l2_leaf_reg': 20.351730335262328}. Best is trial 17 with value: 0.7415388657167657.\n"
     ]
    },
    {
     "name": "stdout",
     "output_type": "stream",
     "text": [
      "Stopped by overfitting detector  (300 iterations wait)\n",
      "\n",
      "bestTest = 0.7410810982\n",
      "bestIteration = 571\n",
      "\n",
      "Shrink model to first 572 iterations.\n",
      "0:\ttest: 0.7233481\tbest: 0.7233481 (0)\ttotal: 83.7ms\tremaining: 2m 42s\n",
      "300:\ttest: 0.7410627\tbest: 0.7410837 (288)\ttotal: 25.4s\tremaining: 2m 18s\n",
      "600:\ttest: 0.7415437\tbest: 0.7415792 (578)\ttotal: 52.6s\tremaining: 1m 57s\n",
      "900:\ttest: 0.7417181\tbest: 0.7417312 (838)\ttotal: 1m 20s\tremaining: 1m 32s\n"
     ]
    },
    {
     "name": "stderr",
     "output_type": "stream",
     "text": [
      "[I 2025-02-26 04:25:36,995] Trial 25 finished with value: 0.741731173563319 and parameters: {'iterations': 1939, 'depth': 8, 'learning_rate': 0.0585413592189865, 'l2_leaf_reg': 97.06988244153742}. Best is trial 25 with value: 0.741731173563319.\n"
     ]
    },
    {
     "name": "stdout",
     "output_type": "stream",
     "text": [
      "Stopped by overfitting detector  (300 iterations wait)\n",
      "\n",
      "bestTest = 0.7417311736\n",
      "bestIteration = 838\n",
      "\n",
      "Shrink model to first 839 iterations.\n",
      "저장 완료\n",
      "0:\ttest: 0.7228751\tbest: 0.7228751 (0)\ttotal: 84.6ms\tremaining: 2m 50s\n",
      "300:\ttest: 0.7406973\tbest: 0.7407801 (281)\ttotal: 25.5s\tremaining: 2m 25s\n",
      "600:\ttest: 0.7407258\tbest: 0.7408638 (423)\ttotal: 54s\tremaining: 2m 7s\n"
     ]
    },
    {
     "name": "stderr",
     "output_type": "stream",
     "text": [
      "[I 2025-02-26 04:26:42,853] Trial 26 finished with value: 0.7408637790910784 and parameters: {'iterations': 2017, 'depth': 8, 'learning_rate': 0.05911612120675688, 'l2_leaf_reg': 25.80988384156663}. Best is trial 25 with value: 0.741731173563319.\n"
     ]
    },
    {
     "name": "stdout",
     "output_type": "stream",
     "text": [
      "Stopped by overfitting detector  (300 iterations wait)\n",
      "\n",
      "bestTest = 0.7408637791\n",
      "bestIteration = 423\n",
      "\n",
      "Shrink model to first 424 iterations.\n",
      "0:\ttest: 0.7184653\tbest: 0.7184653 (0)\ttotal: 59.3ms\tremaining: 1m 52s\n",
      "300:\ttest: 0.7399103\tbest: 0.7399210 (299)\ttotal: 17s\tremaining: 1m 30s\n",
      "600:\ttest: 0.7407453\tbest: 0.7407685 (551)\ttotal: 35.3s\tremaining: 1m 16s\n",
      "900:\ttest: 0.7407452\tbest: 0.7408875 (731)\ttotal: 53.7s\tremaining: 59.1s\n"
     ]
    },
    {
     "name": "stderr",
     "output_type": "stream",
     "text": [
      "[I 2025-02-26 04:27:44,704] Trial 27 finished with value: 0.7408874760936435 and parameters: {'iterations': 1894, 'depth': 5, 'learning_rate': 0.044350966577311385, 'l2_leaf_reg': 4.874260466396494}. Best is trial 25 with value: 0.741731173563319.\n"
     ]
    },
    {
     "name": "stdout",
     "output_type": "stream",
     "text": [
      "Stopped by overfitting detector  (300 iterations wait)\n",
      "\n",
      "bestTest = 0.7408874761\n",
      "bestIteration = 731\n",
      "\n",
      "Shrink model to first 732 iterations.\n",
      "0:\ttest: 0.7228756\tbest: 0.7228756 (0)\ttotal: 85ms\tremaining: 2m 57s\n",
      "300:\ttest: 0.7409360\tbest: 0.7409573 (296)\ttotal: 25.5s\tremaining: 2m 31s\n",
      "600:\ttest: 0.7411958\tbest: 0.7412306 (496)\ttotal: 53.7s\tremaining: 2m 12s\n",
      "900:\ttest: 0.7411727\tbest: 0.7412942 (677)\ttotal: 1m 22s\tremaining: 1m 48s\n"
     ]
    },
    {
     "name": "stderr",
     "output_type": "stream",
     "text": [
      "[I 2025-02-26 04:29:14,794] Trial 28 finished with value: 0.7412942203717525 and parameters: {'iterations': 2086, 'depth': 8, 'learning_rate': 0.053889886512538794, 'l2_leaf_reg': 32.64406506276567}. Best is trial 25 with value: 0.741731173563319.\n"
     ]
    },
    {
     "name": "stdout",
     "output_type": "stream",
     "text": [
      "Stopped by overfitting detector  (300 iterations wait)\n",
      "\n",
      "bestTest = 0.7412942204\n",
      "bestIteration = 677\n",
      "\n",
      "Shrink model to first 678 iterations.\n",
      "0:\ttest: 0.7261054\tbest: 0.7261054 (0)\ttotal: 115ms\tremaining: 3m 33s\n",
      "300:\ttest: 0.7404282\tbest: 0.7404559 (295)\ttotal: 38.4s\tremaining: 3m 18s\n",
      "600:\ttest: 0.7403899\tbest: 0.7407361 (423)\ttotal: 1m 26s\tremaining: 2m 59s\n"
     ]
    },
    {
     "name": "stderr",
     "output_type": "stream",
     "text": [
      "[I 2025-02-26 04:31:01,186] Trial 29 finished with value: 0.7407360821067468 and parameters: {'iterations': 1854, 'depth': 10, 'learning_rate': 0.03619148014508946, 'l2_leaf_reg': 9.517683989895504}. Best is trial 25 with value: 0.741731173563319.\n"
     ]
    },
    {
     "name": "stdout",
     "output_type": "stream",
     "text": [
      "Stopped by overfitting detector  (300 iterations wait)\n",
      "\n",
      "bestTest = 0.7407360821\n",
      "bestIteration = 423\n",
      "\n",
      "Shrink model to first 424 iterations.\n",
      "0:\ttest: 0.7231230\tbest: 0.7231230 (0)\ttotal: 73.9ms\tremaining: 2m 50s\n",
      "300:\ttest: 0.7395592\tbest: 0.7395592 (300)\ttotal: 22s\tremaining: 2m 26s\n",
      "600:\ttest: 0.7405926\tbest: 0.7406456 (542)\ttotal: 46s\tremaining: 2m 10s\n",
      "900:\ttest: 0.7408276\tbest: 0.7409125 (805)\ttotal: 1m 11s\tremaining: 1m 51s\n"
     ]
    },
    {
     "name": "stderr",
     "output_type": "stream",
     "text": [
      "[I 2025-02-26 04:32:29,866] Trial 30 finished with value: 0.7409125191558381 and parameters: {'iterations': 2309, 'depth': 7, 'learning_rate': 0.025793422522118456, 'l2_leaf_reg': 0.625022210787573}. Best is trial 25 with value: 0.741731173563319.\n"
     ]
    },
    {
     "name": "stdout",
     "output_type": "stream",
     "text": [
      "Stopped by overfitting detector  (300 iterations wait)\n",
      "\n",
      "bestTest = 0.7409125192\n",
      "bestIteration = 805\n",
      "\n",
      "Shrink model to first 806 iterations.\n",
      "0:\ttest: 0.7228756\tbest: 0.7228756 (0)\ttotal: 86.5ms\tremaining: 3m\n",
      "300:\ttest: 0.7408113\tbest: 0.7408604 (283)\ttotal: 25.1s\tremaining: 2m 28s\n",
      "600:\ttest: 0.7411146\tbest: 0.7411647 (578)\ttotal: 53.5s\tremaining: 2m 12s\n",
      "900:\ttest: 0.7409394\tbest: 0.7412099 (647)\ttotal: 1m 22s\tremaining: 1m 47s\n"
     ]
    },
    {
     "name": "stderr",
     "output_type": "stream",
     "text": [
      "[I 2025-02-26 04:33:56,583] Trial 31 finished with value: 0.7412098752429845 and parameters: {'iterations': 2087, 'depth': 8, 'learning_rate': 0.05171744712438518, 'l2_leaf_reg': 29.78600658391369}. Best is trial 25 with value: 0.741731173563319.\n"
     ]
    },
    {
     "name": "stdout",
     "output_type": "stream",
     "text": [
      "Stopped by overfitting detector  (300 iterations wait)\n",
      "\n",
      "bestTest = 0.7412098752\n",
      "bestIteration = 647\n",
      "\n",
      "Shrink model to first 648 iterations.\n",
      "0:\ttest: 0.7230758\tbest: 0.7230758 (0)\ttotal: 110ms\tremaining: 3m 59s\n",
      "300:\ttest: 0.7409432\tbest: 0.7409505 (291)\ttotal: 22.4s\tremaining: 2m 20s\n",
      "600:\ttest: 0.7409575\tbest: 0.7411136 (442)\ttotal: 46.9s\tremaining: 2m 3s\n"
     ]
    },
    {
     "name": "stderr",
     "output_type": "stream",
     "text": [
      "[I 2025-02-26 04:34:55,713] Trial 32 finished with value: 0.7411136180820963 and parameters: {'iterations': 2183, 'depth': 7, 'learning_rate': 0.06142559113711136, 'l2_leaf_reg': 45.59641996124068}. Best is trial 25 with value: 0.741731173563319.\n"
     ]
    },
    {
     "name": "stdout",
     "output_type": "stream",
     "text": [
      "Stopped by overfitting detector  (300 iterations wait)\n",
      "\n",
      "bestTest = 0.7411136181\n",
      "bestIteration = 442\n",
      "\n",
      "Shrink model to first 443 iterations.\n",
      "0:\ttest: 0.7228994\tbest: 0.7228994 (0)\ttotal: 85.3ms\tremaining: 3m 30s\n",
      "300:\ttest: 0.7407409\tbest: 0.7408084 (231)\ttotal: 26.5s\tremaining: 3m 10s\n",
      "600:\ttest: 0.7405052\tbest: 0.7408699 (453)\ttotal: 55.2s\tremaining: 2m 51s\n"
     ]
    },
    {
     "name": "stderr",
     "output_type": "stream",
     "text": [
      "[I 2025-02-26 04:36:06,120] Trial 33 finished with value: 0.7408698542274599 and parameters: {'iterations': 2466, 'depth': 8, 'learning_rate': 0.067379598842976, 'l2_leaf_reg': 10.260474747835069}. Best is trial 25 with value: 0.741731173563319.\n"
     ]
    },
    {
     "name": "stdout",
     "output_type": "stream",
     "text": [
      "Stopped by overfitting detector  (300 iterations wait)\n",
      "\n",
      "bestTest = 0.7408698542\n",
      "bestIteration = 453\n",
      "\n",
      "Shrink model to first 454 iterations.\n",
      "0:\ttest: 0.7227365\tbest: 0.7227365 (0)\ttotal: 66.2ms\tremaining: 2m 10s\n",
      "300:\ttest: 0.7402986\tbest: 0.7403398 (287)\ttotal: 20.2s\tremaining: 1m 51s\n",
      "600:\ttest: 0.7405899\tbest: 0.7406573 (554)\ttotal: 41.6s\tremaining: 1m 34s\n",
      "900:\ttest: 0.7407376\tbest: 0.7408116 (818)\ttotal: 1m 3s\tremaining: 1m 15s\n"
     ]
    },
    {
     "name": "stderr",
     "output_type": "stream",
     "text": [
      "[I 2025-02-26 04:37:25,399] Trial 34 finished with value: 0.7408115646836169 and parameters: {'iterations': 1971, 'depth': 6, 'learning_rate': 0.05500693662846034, 'l2_leaf_reg': 17.995642850287346}. Best is trial 25 with value: 0.741731173563319.\n"
     ]
    },
    {
     "name": "stdout",
     "output_type": "stream",
     "text": [
      "Stopped by overfitting detector  (300 iterations wait)\n",
      "\n",
      "bestTest = 0.7408115647\n",
      "bestIteration = 818\n",
      "\n",
      "Shrink model to first 819 iterations.\n",
      "0:\ttest: 0.7263847\tbest: 0.7263847 (0)\ttotal: 97.2ms\tremaining: 3m 21s\n",
      "300:\ttest: 0.7411324\tbest: 0.7411324 (300)\ttotal: 27.4s\tremaining: 2m 41s\n",
      "600:\ttest: 0.7413966\tbest: 0.7414466 (541)\ttotal: 59s\tremaining: 2m 25s\n",
      "900:\ttest: 0.7413793\tbest: 0.7414965 (623)\ttotal: 1m 30s\tremaining: 1m 58s\n"
     ]
    },
    {
     "name": "stderr",
     "output_type": "stream",
     "text": [
      "[I 2025-02-26 04:38:59,051] Trial 35 finished with value: 0.7414964588824168 and parameters: {'iterations': 2079, 'depth': 9, 'learning_rate': 0.045828044236086184, 'l2_leaf_reg': 88.68128932305085}. Best is trial 25 with value: 0.741731173563319.\n"
     ]
    },
    {
     "name": "stdout",
     "output_type": "stream",
     "text": [
      "Stopped by overfitting detector  (300 iterations wait)\n",
      "\n",
      "bestTest = 0.7414964589\n",
      "bestIteration = 623\n",
      "\n",
      "Shrink model to first 624 iterations.\n",
      "0:\ttest: 0.7281921\tbest: 0.7281921 (0)\ttotal: 113ms\tremaining: 3m 11s\n",
      "300:\ttest: 0.7409201\tbest: 0.7409213 (297)\ttotal: 36.2s\tremaining: 2m 47s\n",
      "600:\ttest: 0.7413368\tbest: 0.7413480 (569)\ttotal: 1m 29s\tremaining: 2m 42s\n",
      "900:\ttest: 0.7413317\tbest: 0.7413563 (630)\ttotal: 2m 22s\tremaining: 2m 5s\n"
     ]
    },
    {
     "name": "stderr",
     "output_type": "stream",
     "text": [
      "[I 2025-02-26 04:41:27,048] Trial 36 finished with value: 0.7413563297072288 and parameters: {'iterations': 1692, 'depth': 10, 'learning_rate': 0.04545128870925985, 'l2_leaf_reg': 88.38546543343872}. Best is trial 25 with value: 0.741731173563319.\n"
     ]
    },
    {
     "name": "stdout",
     "output_type": "stream",
     "text": [
      "Stopped by overfitting detector  (300 iterations wait)\n",
      "\n",
      "bestTest = 0.7413563297\n",
      "bestIteration = 630\n",
      "\n",
      "Shrink model to first 631 iterations.\n",
      "0:\ttest: 0.7260806\tbest: 0.7260806 (0)\ttotal: 115ms\tremaining: 4m 17s\n",
      "300:\ttest: 0.7404737\tbest: 0.7404737 (300)\ttotal: 39.7s\tremaining: 4m 17s\n",
      "600:\ttest: 0.7396469\tbest: 0.7404948 (316)\ttotal: 1m 27s\tremaining: 4m 1s\n"
     ]
    },
    {
     "name": "stderr",
     "output_type": "stream",
     "text": [
      "[I 2025-02-26 04:42:57,548] Trial 37 finished with value: 0.7404947800720819 and parameters: {'iterations': 2253, 'depth': 10, 'learning_rate': 0.04414727830832546, 'l2_leaf_reg': 2.8607577901764403}. Best is trial 25 with value: 0.741731173563319.\n"
     ]
    },
    {
     "name": "stdout",
     "output_type": "stream",
     "text": [
      "Stopped by overfitting detector  (300 iterations wait)\n",
      "\n",
      "bestTest = 0.7404947801\n",
      "bestIteration = 316\n",
      "\n",
      "Shrink model to first 317 iterations.\n",
      "0:\ttest: 0.7260985\tbest: 0.7260985 (0)\ttotal: 119ms\tremaining: 3m 33s\n",
      "300:\ttest: 0.7411441\tbest: 0.7412045 (289)\ttotal: 38.9s\tremaining: 3m 12s\n",
      "600:\ttest: 0.7410798\tbest: 0.7413112 (477)\ttotal: 1m 29s\tremaining: 2m 56s\n"
     ]
    },
    {
     "name": "stderr",
     "output_type": "stream",
     "text": [
      "[I 2025-02-26 04:44:56,454] Trial 38 finished with value: 0.7413111751641372 and parameters: {'iterations': 1790, 'depth': 10, 'learning_rate': 0.047579677210492534, 'l2_leaf_reg': 13.046060594193479}. Best is trial 25 with value: 0.741731173563319.\n"
     ]
    },
    {
     "name": "stdout",
     "output_type": "stream",
     "text": [
      "Stopped by overfitting detector  (300 iterations wait)\n",
      "\n",
      "bestTest = 0.7413111752\n",
      "bestIteration = 477\n",
      "\n",
      "Shrink model to first 478 iterations.\n",
      "0:\ttest: 0.7263356\tbest: 0.7263356 (0)\ttotal: 96.3ms\tremaining: 3m 16s\n",
      "300:\ttest: 0.7397934\tbest: 0.7397934 (300)\ttotal: 28.8s\tremaining: 2m 46s\n",
      "600:\ttest: 0.7408194\tbest: 0.7408420 (588)\ttotal: 55.3s\tremaining: 2m 12s\n",
      "900:\ttest: 0.7411510\tbest: 0.7411541 (899)\ttotal: 1m 24s\tremaining: 1m 47s\n",
      "1200:\ttest: 0.7412691\tbest: 0.7412865 (1141)\ttotal: 1m 57s\tremaining: 1m 21s\n",
      "1500:\ttest: 0.7411908\tbest: 0.7412904 (1346)\ttotal: 2m 29s\tremaining: 53.7s\n"
     ]
    },
    {
     "name": "stderr",
     "output_type": "stream",
     "text": [
      "[I 2025-02-26 04:47:42,013] Trial 39 finished with value: 0.7412904363162155 and parameters: {'iterations': 2041, 'depth': 9, 'learning_rate': 0.01785460005303149, 'l2_leaf_reg': 44.31770982826353}. Best is trial 25 with value: 0.741731173563319.\n",
      "[I 2025-02-26 04:47:42,018] A new study created in memory with name: no-name-2cf12535-d64f-45d6-9402-7a5e38b646da\n"
     ]
    },
    {
     "name": "stdout",
     "output_type": "stream",
     "text": [
      "Stopped by overfitting detector  (300 iterations wait)\n",
      "\n",
      "bestTest = 0.7412904363\n",
      "bestIteration = 1346\n",
      "\n",
      "Shrink model to first 1347 iterations.\n"
     ]
    },
    {
     "name": "stderr",
     "output_type": "stream",
     "text": [
      "[I 2025-02-26 04:48:05,032] Trial 0 finished with value: 0.7314105333446408 and parameters: {'num_iterations': 2366, 'objective': 'binary', 'metric': 'auc', 'verbose': -1, 'learning_rate': 0.0652646236447618, 'n_estimators': 236, 'min_child_samples': 45, 'subsample': 0.7, 'colsample_bytree': 0.5}. Best is trial 0 with value: 0.7314105333446408.\n",
      "[I 2025-02-26 04:48:21,952] Trial 1 finished with value: 0.7408724589918169 and parameters: {'num_iterations': 1510, 'objective': 'binary', 'metric': 'auc', 'verbose': -1, 'learning_rate': 0.005231880959249543, 'n_estimators': 1411, 'min_child_samples': 10, 'subsample': 1.0, 'colsample_bytree': 0.5}. Best is trial 1 with value: 0.7408724589918169.\n",
      "[I 2025-02-26 04:48:41,524] Trial 2 finished with value: 0.7400724230905403 and parameters: {'num_iterations': 2334, 'objective': 'binary', 'metric': 'auc', 'verbose': -1, 'learning_rate': 0.006578527777128852, 'n_estimators': 931, 'min_child_samples': 15, 'subsample': 0.5, 'colsample_bytree': 1.0}. Best is trial 1 with value: 0.7408724589918169.\n",
      "[I 2025-02-26 04:48:58,058] Trial 3 finished with value: 0.7406257012464409 and parameters: {'num_iterations': 1620, 'objective': 'binary', 'metric': 'auc', 'verbose': -1, 'learning_rate': 0.0058823249237283685, 'n_estimators': 837, 'min_child_samples': 10, 'subsample': 0.9, 'colsample_bytree': 0.6}. Best is trial 1 with value: 0.7408724589918169.\n",
      "[I 2025-02-26 04:49:14,451] Trial 4 finished with value: 0.7404712895447403 and parameters: {'num_iterations': 1997, 'objective': 'binary', 'metric': 'auc', 'verbose': -1, 'learning_rate': 0.010907507425244923, 'n_estimators': 1597, 'min_child_samples': 50, 'subsample': 0.6, 'colsample_bytree': 0.8}. Best is trial 1 with value: 0.7408724589918169.\n",
      "[I 2025-02-26 04:49:36,991] Trial 5 finished with value: 0.7372760973743189 and parameters: {'num_iterations': 2909, 'objective': 'binary', 'metric': 'auc', 'verbose': -1, 'learning_rate': 0.019760591962733942, 'n_estimators': 612, 'min_child_samples': 30, 'subsample': 0.7, 'colsample_bytree': 0.9}. Best is trial 1 with value: 0.7408724589918169.\n",
      "[I 2025-02-26 04:49:57,713] Trial 6 finished with value: 0.7380099976732625 and parameters: {'num_iterations': 2639, 'objective': 'binary', 'metric': 'auc', 'verbose': -1, 'learning_rate': 0.017862094446750985, 'n_estimators': 794, 'min_child_samples': 35, 'subsample': 1.0, 'colsample_bytree': 0.8}. Best is trial 1 with value: 0.7408724589918169.\n",
      "[I 2025-02-26 04:50:14,197] Trial 7 finished with value: 0.7400627306670716 and parameters: {'num_iterations': 1580, 'objective': 'binary', 'metric': 'auc', 'verbose': -1, 'learning_rate': 0.01776722177611332, 'n_estimators': 529, 'min_child_samples': 25, 'subsample': 0.8, 'colsample_bytree': 0.5}. Best is trial 1 with value: 0.7408724589918169.\n",
      "[I 2025-02-26 04:50:31,967] Trial 8 finished with value: 0.737112402228919 and parameters: {'num_iterations': 1911, 'objective': 'binary', 'metric': 'auc', 'verbose': -1, 'learning_rate': 0.0304747553332844, 'n_estimators': 1328, 'min_child_samples': 10, 'subsample': 0.7, 'colsample_bytree': 0.6}. Best is trial 1 with value: 0.7408724589918169.\n",
      "[I 2025-02-26 04:50:59,300] Trial 9 finished with value: 0.7364883388074812 and parameters: {'num_iterations': 2739, 'objective': 'binary', 'metric': 'auc', 'verbose': -1, 'learning_rate': 0.02691531614176271, 'n_estimators': 1438, 'min_child_samples': 20, 'subsample': 0.6, 'colsample_bytree': 0.5}. Best is trial 1 with value: 0.7408724589918169.\n",
      "[I 2025-02-26 04:51:14,170] Trial 10 finished with value: 0.7287251126181384 and parameters: {'num_iterations': 1933, 'objective': 'binary', 'metric': 'auc', 'verbose': -1, 'learning_rate': 0.08223556891145911, 'n_estimators': 1960, 'min_child_samples': 40, 'subsample': 1.0, 'colsample_bytree': 0.7}. Best is trial 1 with value: 0.7408724589918169.\n",
      "[I 2025-02-26 04:51:29,826] Trial 11 finished with value: 0.7405018796432258 and parameters: {'num_iterations': 1513, 'objective': 'binary', 'metric': 'auc', 'verbose': -1, 'learning_rate': 0.005340229419903739, 'n_estimators': 1206, 'min_child_samples': 10, 'subsample': 0.9, 'colsample_bytree': 0.6}. Best is trial 1 with value: 0.7408724589918169.\n",
      "[I 2025-02-26 04:51:46,576] Trial 12 finished with value: 0.7406250937328027 and parameters: {'num_iterations': 1698, 'objective': 'binary', 'metric': 'auc', 'verbose': -1, 'learning_rate': 0.008515343845233947, 'n_estimators': 1719, 'min_child_samples': 20, 'subsample': 0.9, 'colsample_bytree': 0.6}. Best is trial 1 with value: 0.7408724589918169.\n",
      "[I 2025-02-26 04:52:01,750] Trial 13 finished with value: 0.7403757749005209 and parameters: {'num_iterations': 1777, 'objective': 'binary', 'metric': 'auc', 'verbose': -1, 'learning_rate': 0.010074542479113706, 'n_estimators': 1082, 'min_child_samples': 10, 'subsample': 0.9, 'colsample_bytree': 0.7}. Best is trial 1 with value: 0.7408724589918169.\n",
      "[I 2025-02-26 04:52:23,600] Trial 14 finished with value: 0.7405742333263257 and parameters: {'num_iterations': 2165, 'objective': 'binary', 'metric': 'auc', 'verbose': -1, 'learning_rate': 0.005262187136940254, 'n_estimators': 251, 'min_child_samples': 20, 'subsample': 1.0, 'colsample_bytree': 0.6}. Best is trial 1 with value: 0.7408724589918169.\n",
      "[I 2025-02-26 04:52:39,709] Trial 15 finished with value: 0.7407904287679579 and parameters: {'num_iterations': 1507, 'objective': 'binary', 'metric': 'auc', 'verbose': -1, 'learning_rate': 0.012840412608821758, 'n_estimators': 758, 'min_child_samples': 15, 'subsample': 0.8, 'colsample_bytree': 0.5}. Best is trial 1 with value: 0.7408724589918169.\n",
      "[I 2025-02-26 04:52:57,648] Trial 16 finished with value: 0.7360967466342295 and parameters: {'num_iterations': 1786, 'objective': 'binary', 'metric': 'auc', 'verbose': -1, 'learning_rate': 0.0413482795873036, 'n_estimators': 568, 'min_child_samples': 25, 'subsample': 0.8, 'colsample_bytree': 0.5}. Best is trial 1 with value: 0.7408724589918169.\n",
      "[I 2025-02-26 04:53:15,212] Trial 17 finished with value: 0.7396162160843898 and parameters: {'num_iterations': 2125, 'objective': 'binary', 'metric': 'auc', 'verbose': -1, 'learning_rate': 0.014364323482076244, 'n_estimators': 1130, 'min_child_samples': 15, 'subsample': 0.8, 'colsample_bytree': 0.7}. Best is trial 1 with value: 0.7408724589918169.\n",
      "[I 2025-02-26 04:53:41,174] Trial 18 finished with value: 0.7406458564047887 and parameters: {'num_iterations': 2460, 'objective': 'binary', 'metric': 'auc', 'verbose': -1, 'learning_rate': 0.008040621188454842, 'n_estimators': 1544, 'min_child_samples': 15, 'subsample': 1.0, 'colsample_bytree': 0.5}. Best is trial 1 with value: 0.7408724589918169.\n",
      "[I 2025-02-26 04:53:53,898] Trial 19 finished with value: 0.7406776416771637 and parameters: {'num_iterations': 1513, 'objective': 'binary', 'metric': 'auc', 'verbose': -1, 'learning_rate': 0.012036427705094095, 'n_estimators': 1904, 'min_child_samples': 30, 'subsample': 0.5, 'colsample_bytree': 0.9}. Best is trial 1 with value: 0.7408724589918169.\n",
      "[I 2025-02-26 04:54:11,748] Trial 20 finished with value: 0.73672739740943 and parameters: {'num_iterations': 1780, 'objective': 'binary', 'metric': 'auc', 'verbose': -1, 'learning_rate': 0.03844621393609847, 'n_estimators': 1278, 'min_child_samples': 25, 'subsample': 0.6, 'colsample_bytree': 0.5}. Best is trial 1 with value: 0.7408724589918169.\n",
      "[I 2025-02-26 04:54:24,322] Trial 21 finished with value: 0.7403243585992114 and parameters: {'num_iterations': 1511, 'objective': 'binary', 'metric': 'auc', 'verbose': -1, 'learning_rate': 0.013155748707476662, 'n_estimators': 1966, 'min_child_samples': 35, 'subsample': 0.5, 'colsample_bytree': 1.0}. Best is trial 1 with value: 0.7408724589918169.\n",
      "[I 2025-02-26 04:54:38,004] Trial 22 finished with value: 0.7402554554347491 and parameters: {'num_iterations': 1667, 'objective': 'binary', 'metric': 'auc', 'verbose': -1, 'learning_rate': 0.012944958868599808, 'n_estimators': 1779, 'min_child_samples': 30, 'subsample': 0.5, 'colsample_bytree': 0.9}. Best is trial 1 with value: 0.7408724589918169.\n",
      "[I 2025-02-26 04:54:52,362] Trial 23 finished with value: 0.7405251994314402 and parameters: {'num_iterations': 1667, 'objective': 'binary', 'metric': 'auc', 'verbose': -1, 'learning_rate': 0.007616557638955826, 'n_estimators': 1763, 'min_child_samples': 15, 'subsample': 0.8, 'colsample_bytree': 0.9}. Best is trial 1 with value: 0.7408724589918169.\n",
      "[I 2025-02-26 04:55:05,162] Trial 24 finished with value: 0.7408082571093648 and parameters: {'num_iterations': 1506, 'objective': 'binary', 'metric': 'auc', 'verbose': -1, 'learning_rate': 0.010168689411797539, 'n_estimators': 949, 'min_child_samples': 40, 'subsample': 0.6, 'colsample_bytree': 0.8}. Best is trial 1 with value: 0.7408724589918169.\n",
      "[I 2025-02-26 04:55:20,586] Trial 25 finished with value: 0.740683514308999 and parameters: {'num_iterations': 1833, 'objective': 'binary', 'metric': 'auc', 'verbose': -1, 'learning_rate': 0.008986940965590409, 'n_estimators': 954, 'min_child_samples': 45, 'subsample': 0.6, 'colsample_bytree': 0.8}. Best is trial 1 with value: 0.7408724589918169.\n",
      "[I 2025-02-26 04:55:38,489] Trial 26 finished with value: 0.740777428770237 and parameters: {'num_iterations': 2064, 'objective': 'binary', 'metric': 'auc', 'verbose': -1, 'learning_rate': 0.0070319925342010176, 'n_estimators': 715, 'min_child_samples': 40, 'subsample': 0.7, 'colsample_bytree': 0.7}. Best is trial 1 with value: 0.7408724589918169.\n",
      "[I 2025-02-26 04:55:51,702] Trial 27 finished with value: 0.7400822663997493 and parameters: {'num_iterations': 1615, 'objective': 'binary', 'metric': 'auc', 'verbose': -1, 'learning_rate': 0.015371686495841377, 'n_estimators': 963, 'min_child_samples': 50, 'subsample': 0.9, 'colsample_bytree': 0.8}. Best is trial 1 with value: 0.7408724589918169.\n",
      "[I 2025-02-26 04:56:09,342] Trial 28 finished with value: 0.7384251161099522 and parameters: {'num_iterations': 1903, 'objective': 'binary', 'metric': 'auc', 'verbose': -1, 'learning_rate': 0.0237016067645666, 'n_estimators': 459, 'min_child_samples': 40, 'subsample': 0.6, 'colsample_bytree': 0.6}. Best is trial 1 with value: 0.7408724589918169.\n",
      "[I 2025-02-26 04:56:27,717] Trial 29 finished with value: 0.7410744552911614 and parameters: {'num_iterations': 1725, 'objective': 'binary', 'metric': 'auc', 'verbose': -1, 'learning_rate': 0.0107062504792082, 'n_estimators': 359, 'min_child_samples': 45, 'subsample': 0.7, 'colsample_bytree': 0.5}. Best is trial 29 with value: 0.7410744552911614.\n",
      "[I 2025-02-26 04:56:42,500] Trial 30 finished with value: 0.7407181267036638 and parameters: {'num_iterations': 1721, 'objective': 'binary', 'metric': 'auc', 'verbose': -1, 'learning_rate': 0.009842899573594733, 'n_estimators': 104, 'min_child_samples': 45, 'subsample': 0.7, 'colsample_bytree': 0.7}. Best is trial 29 with value: 0.7410744552911614.\n",
      "[I 2025-02-26 04:56:59,938] Trial 31 finished with value: 0.7409864809632742 and parameters: {'num_iterations': 1580, 'objective': 'binary', 'metric': 'auc', 'verbose': -1, 'learning_rate': 0.006618080440029332, 'n_estimators': 353, 'min_child_samples': 45, 'subsample': 0.7, 'colsample_bytree': 0.5}. Best is trial 29 with value: 0.7410744552911614.\n",
      "[I 2025-02-26 04:57:17,899] Trial 32 finished with value: 0.7409199760879456 and parameters: {'num_iterations': 1614, 'objective': 'binary', 'metric': 'auc', 'verbose': -1, 'learning_rate': 0.006177030987547967, 'n_estimators': 321, 'min_child_samples': 45, 'subsample': 0.7, 'colsample_bytree': 0.5}. Best is trial 29 with value: 0.7410744552911614.\n",
      "[I 2025-02-26 04:57:42,355] Trial 33 finished with value: 0.741080732932089 and parameters: {'num_iterations': 2276, 'objective': 'binary', 'metric': 'auc', 'verbose': -1, 'learning_rate': 0.006463808538091969, 'n_estimators': 357, 'min_child_samples': 50, 'subsample': 0.7, 'colsample_bytree': 0.5}. Best is trial 33 with value: 0.741080732932089.\n",
      "[I 2025-02-26 04:58:07,531] Trial 34 finished with value: 0.7409334485962739 and parameters: {'num_iterations': 2352, 'objective': 'binary', 'metric': 'auc', 'verbose': -1, 'learning_rate': 0.00659929425207641, 'n_estimators': 352, 'min_child_samples': 50, 'subsample': 0.7, 'colsample_bytree': 0.5}. Best is trial 33 with value: 0.741080732932089.\n",
      "[I 2025-02-26 04:58:30,253] Trial 35 finished with value: 0.740785997492009 and parameters: {'num_iterations': 2327, 'objective': 'binary', 'metric': 'auc', 'verbose': -1, 'learning_rate': 0.006851199984968614, 'n_estimators': 361, 'min_child_samples': 50, 'subsample': 0.7, 'colsample_bytree': 0.6}. Best is trial 33 with value: 0.741080732932089.\n",
      "[I 2025-02-26 04:58:56,840] Trial 36 finished with value: 0.741123139766438 and parameters: {'num_iterations': 2467, 'objective': 'binary', 'metric': 'auc', 'verbose': -1, 'learning_rate': 0.00601645162674555, 'n_estimators': 150, 'min_child_samples': 50, 'subsample': 0.7, 'colsample_bytree': 0.5}. Best is trial 36 with value: 0.741123139766438.\n",
      "[I 2025-02-26 04:59:24,192] Trial 37 finished with value: 0.7410480145505314 and parameters: {'num_iterations': 2501, 'objective': 'binary', 'metric': 'auc', 'verbose': -1, 'learning_rate': 0.005335874936959112, 'n_estimators': 145, 'min_child_samples': 45, 'subsample': 0.8, 'colsample_bytree': 0.5}. Best is trial 36 with value: 0.741123139766438.\n",
      "[I 2025-02-26 04:59:49,064] Trial 38 finished with value: 0.7408179217380919 and parameters: {'num_iterations': 2511, 'objective': 'binary', 'metric': 'auc', 'verbose': -1, 'learning_rate': 0.005381960576323038, 'n_estimators': 107, 'min_child_samples': 50, 'subsample': 0.8, 'colsample_bytree': 0.6}. Best is trial 36 with value: 0.741123139766438.\n",
      "[I 2025-02-26 05:00:13,715] Trial 39 finished with value: 0.740996312360451 and parameters: {'num_iterations': 2252, 'objective': 'binary', 'metric': 'auc', 'verbose': -1, 'learning_rate': 0.005021798999083622, 'n_estimators': 180, 'min_child_samples': 45, 'subsample': 0.8, 'colsample_bytree': 0.5}. Best is trial 36 with value: 0.741123139766438.\n"
     ]
    },
    {
     "name": "stdout",
     "output_type": "stream",
     "text": [
      "Cat val score : 0.741731173563319\n",
      "LGBM val score : 0.7410889919410257\n",
      "Ensemble val score : 0.7417856909636571\n"
     ]
    },
    {
     "name": "stderr",
     "output_type": "stream",
     "text": [
      "[I 2025-02-26 05:00:42,027] A new study created in memory with name: no-name-5ce6d263-647f-4c5d-b468-6834d6d21ffa\n"
     ]
    },
    {
     "name": "stdout",
     "output_type": "stream",
     "text": [
      "==================================================\n",
      "0:\ttest: 0.7179764\tbest: 0.7179764 (0)\ttotal: 147ms\tremaining: 5m 48s\n",
      "300:\ttest: 0.7331414\tbest: 0.7331414 (300)\ttotal: 37.5s\tremaining: 4m 17s\n",
      "600:\ttest: 0.7344557\tbest: 0.7344761 (591)\ttotal: 1m 18s\tremaining: 3m 51s\n",
      "900:\ttest: 0.7347818\tbest: 0.7347834 (895)\ttotal: 1m 58s\tremaining: 3m 12s\n",
      "1200:\ttest: 0.7349507\tbest: 0.7349598 (1191)\ttotal: 2m 42s\tremaining: 2m 37s\n",
      "1500:\ttest: 0.7350701\tbest: 0.7350726 (1496)\ttotal: 3m 31s\tremaining: 2m 1s\n",
      "1800:\ttest: 0.7351307\tbest: 0.7351504 (1751)\ttotal: 4m 20s\tremaining: 1m 21s\n"
     ]
    },
    {
     "name": "stderr",
     "output_type": "stream",
     "text": [
      "[I 2025-02-26 05:05:44,740] Trial 0 finished with value: 0.7351504144194335 and parameters: {'iterations': 2366, 'depth': 10, 'learning_rate': 0.01181021951839225, 'l2_leaf_reg': 9.980783802743254}. Best is trial 0 with value: 0.7351504144194335.\n"
     ]
    },
    {
     "name": "stdout",
     "output_type": "stream",
     "text": [
      "Stopped by overfitting detector  (300 iterations wait)\n",
      "\n",
      "bestTest = 0.7351504144\n",
      "bestIteration = 1751\n",
      "\n",
      "Shrink model to first 1752 iterations.\n",
      "저장 완료\n",
      "0:\ttest: 0.6897966\tbest: 0.6897966 (0)\ttotal: 58.8ms\tremaining: 2m 8s\n",
      "300:\ttest: 0.7243491\tbest: 0.7243491 (300)\ttotal: 12.9s\tremaining: 1m 21s\n",
      "600:\ttest: 0.7282964\tbest: 0.7282964 (600)\ttotal: 26.1s\tremaining: 1m 9s\n",
      "900:\ttest: 0.7304622\tbest: 0.7304622 (900)\ttotal: 39.5s\tremaining: 56.7s\n",
      "1200:\ttest: 0.7316761\tbest: 0.7316761 (1200)\ttotal: 53.2s\tremaining: 44s\n",
      "1500:\ttest: 0.7323861\tbest: 0.7323861 (1500)\ttotal: 1m 7s\tremaining: 30.9s\n",
      "1800:\ttest: 0.7328505\tbest: 0.7328505 (1800)\ttotal: 1m 21s\tremaining: 17.7s\n",
      "2100:\ttest: 0.7332397\tbest: 0.7332400 (2096)\ttotal: 1m 35s\tremaining: 4.17s\n"
     ]
    },
    {
     "name": "stderr",
     "output_type": "stream",
     "text": [
      "[I 2025-02-26 05:07:24,830] Trial 1 finished with value: 0.7333776204848507 and parameters: {'iterations': 2193, 'depth': 4, 'learning_rate': 0.005671430811678843, 'l2_leaf_reg': 0.00012325230809466137}. Best is trial 0 with value: 0.7351504144194335.\n"
     ]
    },
    {
     "name": "stdout",
     "output_type": "stream",
     "text": [
      "2192:\ttest: 0.7333767\tbest: 0.7333776 (2191)\ttotal: 1m 39s\tremaining: 0us\n",
      "\n",
      "bestTest = 0.7333776205\n",
      "bestIteration = 2191\n",
      "\n",
      "Shrink model to first 2192 iterations.\n",
      "0:\ttest: 0.6897966\tbest: 0.6897966 (0)\ttotal: 50.5ms\tremaining: 2m 7s\n",
      "300:\ttest: 0.7341711\tbest: 0.7342050 (291)\ttotal: 14.4s\tremaining: 1m 47s\n",
      "600:\ttest: 0.7338618\tbest: 0.7342805 (428)\ttotal: 29.2s\tremaining: 1m 33s\n"
     ]
    },
    {
     "name": "stderr",
     "output_type": "stream",
     "text": [
      "[I 2025-02-26 05:08:00,513] Trial 2 finished with value: 0.7342805220793232 and parameters: {'iterations': 2535, 'depth': 4, 'learning_rate': 0.09275339199839054, 'l2_leaf_reg': 0.0008705394248343123}. Best is trial 0 with value: 0.7351504144194335.\n"
     ]
    },
    {
     "name": "stdout",
     "output_type": "stream",
     "text": [
      "Stopped by overfitting detector  (300 iterations wait)\n",
      "\n",
      "bestTest = 0.7342805221\n",
      "bestIteration = 428\n",
      "\n",
      "Shrink model to first 429 iterations.\n",
      "0:\ttest: 0.6897966\tbest: 0.6897966 (0)\ttotal: 54.7ms\tremaining: 2m 7s\n",
      "300:\ttest: 0.7335371\tbest: 0.7335810 (294)\ttotal: 13.8s\tremaining: 1m 32s\n",
      "600:\ttest: 0.7343183\tbest: 0.7343210 (594)\ttotal: 28.4s\tremaining: 1m 22s\n",
      "900:\ttest: 0.7343586\tbest: 0.7345271 (794)\ttotal: 43.3s\tremaining: 1m 8s\n"
     ]
    },
    {
     "name": "stderr",
     "output_type": "stream",
     "text": [
      "[I 2025-02-26 05:08:53,584] Trial 3 finished with value: 0.7345270510124667 and parameters: {'iterations': 2334, 'depth': 4, 'learning_rate': 0.04657568321363276, 'l2_leaf_reg': 0.0008640473331457248}. Best is trial 0 with value: 0.7351504144194335.\n"
     ]
    },
    {
     "name": "stdout",
     "output_type": "stream",
     "text": [
      "Stopped by overfitting detector  (300 iterations wait)\n",
      "\n",
      "bestTest = 0.734527051\n",
      "bestIteration = 794\n",
      "\n",
      "Shrink model to first 795 iterations.\n",
      "0:\ttest: 0.7179891\tbest: 0.7179891 (0)\ttotal: 126ms\tremaining: 3m 40s\n",
      "300:\ttest: 0.7328223\tbest: 0.7328251 (297)\ttotal: 36.2s\tremaining: 2m 53s\n",
      "600:\ttest: 0.7336029\tbest: 0.7336190 (599)\ttotal: 1m 14s\tremaining: 2m 21s\n",
      "900:\ttest: 0.7335588\tbest: 0.7336343 (730)\ttotal: 1m 55s\tremaining: 1m 47s\n"
     ]
    },
    {
     "name": "stderr",
     "output_type": "stream",
     "text": [
      "[I 2025-02-26 05:11:07,934] Trial 4 finished with value: 0.7336343317722032 and parameters: {'iterations': 1742, 'depth': 10, 'learning_rate': 0.012622767482095846, 'l2_leaf_reg': 0.00021158816350109617}. Best is trial 0 with value: 0.7351504144194335.\n"
     ]
    },
    {
     "name": "stdout",
     "output_type": "stream",
     "text": [
      "Stopped by overfitting detector  (300 iterations wait)\n",
      "\n",
      "bestTest = 0.7336343318\n",
      "bestIteration = 730\n",
      "\n",
      "Shrink model to first 731 iterations.\n",
      "0:\ttest: 0.6897966\tbest: 0.6897966 (0)\ttotal: 56.4ms\tremaining: 1m 57s\n",
      "300:\ttest: 0.7341568\tbest: 0.7342130 (285)\ttotal: 14.3s\tremaining: 1m 24s\n",
      "600:\ttest: 0.7342066\tbest: 0.7343686 (427)\ttotal: 29.1s\tremaining: 1m 11s\n"
     ]
    },
    {
     "name": "stderr",
     "output_type": "stream",
     "text": [
      "[I 2025-02-26 05:11:43,552] Trial 5 finished with value: 0.7343686328019569 and parameters: {'iterations': 2082, 'depth': 4, 'learning_rate': 0.06995196593094148, 'l2_leaf_reg': 0.0018080296485396804}. Best is trial 0 with value: 0.7351504144194335.\n"
     ]
    },
    {
     "name": "stdout",
     "output_type": "stream",
     "text": [
      "Stopped by overfitting detector  (300 iterations wait)\n",
      "\n",
      "bestTest = 0.7343686328\n",
      "bestIteration = 427\n",
      "\n",
      "Shrink model to first 428 iterations.\n",
      "0:\ttest: 0.6934299\tbest: 0.6934299 (0)\ttotal: 63.2ms\tremaining: 2m 6s\n",
      "300:\ttest: 0.7342535\tbest: 0.7342570 (293)\ttotal: 17.3s\tremaining: 1m 37s\n",
      "600:\ttest: 0.7344329\tbest: 0.7344612 (570)\ttotal: 35.2s\tremaining: 1m 21s\n",
      "900:\ttest: 0.7344486\tbest: 0.7345550 (811)\ttotal: 53.2s\tremaining: 1m 4s\n"
     ]
    },
    {
     "name": "stderr",
     "output_type": "stream",
     "text": [
      "[I 2025-02-26 05:12:49,501] Trial 6 finished with value: 0.7345550207163253 and parameters: {'iterations': 1997, 'depth': 5, 'learning_rate': 0.07985155992831598, 'l2_leaf_reg': 62.52181000710482}. Best is trial 0 with value: 0.7351504144194335.\n"
     ]
    },
    {
     "name": "stdout",
     "output_type": "stream",
     "text": [
      "Stopped by overfitting detector  (300 iterations wait)\n",
      "\n",
      "bestTest = 0.7345550207\n",
      "bestIteration = 811\n",
      "\n",
      "Shrink model to first 812 iterations.\n",
      "0:\ttest: 0.6994419\tbest: 0.6994419 (0)\ttotal: 85.5ms\tremaining: 2m 44s\n",
      "300:\ttest: 0.7342222\tbest: 0.7349141 (179)\ttotal: 24.3s\tremaining: 2m 11s\n"
     ]
    },
    {
     "name": "stderr",
     "output_type": "stream",
     "text": [
      "[I 2025-02-26 05:13:30,682] Trial 7 finished with value: 0.7349141313809306 and parameters: {'iterations': 1927, 'depth': 7, 'learning_rate': 0.0941937211034094, 'l2_leaf_reg': 0.05654822767791934}. Best is trial 0 with value: 0.7351504144194335.\n"
     ]
    },
    {
     "name": "stdout",
     "output_type": "stream",
     "text": [
      "Stopped by overfitting detector  (300 iterations wait)\n",
      "\n",
      "bestTest = 0.7349141314\n",
      "bestIteration = 179\n",
      "\n",
      "Shrink model to first 180 iterations.\n",
      "0:\ttest: 0.6994421\tbest: 0.6994421 (0)\ttotal: 117ms\tremaining: 3m 43s\n",
      "300:\ttest: 0.7347830\tbest: 0.7348020 (299)\ttotal: 24.3s\tremaining: 2m 9s\n",
      "600:\ttest: 0.7350230\tbest: 0.7351795 (478)\ttotal: 49.6s\tremaining: 1m 47s\n"
     ]
    },
    {
     "name": "stderr",
     "output_type": "stream",
     "text": [
      "[I 2025-02-26 05:14:35,478] Trial 8 finished with value: 0.7351794603393571 and parameters: {'iterations': 1904, 'depth': 7, 'learning_rate': 0.05155602859187331, 'l2_leaf_reg': 1.299974533316308}. Best is trial 8 with value: 0.7351794603393571.\n"
     ]
    },
    {
     "name": "stdout",
     "output_type": "stream",
     "text": [
      "Stopped by overfitting detector  (300 iterations wait)\n",
      "\n",
      "bestTest = 0.7351794603\n",
      "bestIteration = 478\n",
      "\n",
      "Shrink model to first 479 iterations.\n",
      "저장 완료\n",
      "0:\ttest: 0.6968397\tbest: 0.6968397 (0)\ttotal: 73.4ms\tremaining: 3m 13s\n",
      "300:\ttest: 0.7343289\tbest: 0.7343348 (298)\ttotal: 20.3s\tremaining: 2m 37s\n",
      "600:\ttest: 0.7349423\tbest: 0.7349429 (484)\ttotal: 41.9s\tremaining: 2m 22s\n",
      "900:\ttest: 0.7349315\tbest: 0.7350347 (635)\ttotal: 1m 4s\tremaining: 2m 3s\n"
     ]
    },
    {
     "name": "stderr",
     "output_type": "stream",
     "text": [
      "[I 2025-02-26 05:15:42,708] Trial 9 finished with value: 0.7350347112642556 and parameters: {'iterations': 2639, 'depth': 6, 'learning_rate': 0.03968704290444751, 'l2_leaf_reg': 0.30557194377967184}. Best is trial 8 with value: 0.7351794603393571.\n"
     ]
    },
    {
     "name": "stdout",
     "output_type": "stream",
     "text": [
      "Stopped by overfitting detector  (300 iterations wait)\n",
      "\n",
      "bestTest = 0.7350347113\n",
      "bestIteration = 635\n",
      "\n",
      "Shrink model to first 636 iterations.\n",
      "0:\ttest: 0.7119773\tbest: 0.7119773 (0)\ttotal: 105ms\tremaining: 5m 7s\n",
      "300:\ttest: 0.7346172\tbest: 0.7346180 (299)\ttotal: 25.7s\tremaining: 3m 45s\n",
      "600:\ttest: 0.7350035\tbest: 0.7350804 (556)\ttotal: 54.3s\tremaining: 3m 31s\n",
      "900:\ttest: 0.7348428\tbest: 0.7350968 (612)\ttotal: 1m 23s\tremaining: 3m 8s\n"
     ]
    },
    {
     "name": "stderr",
     "output_type": "stream",
     "text": [
      "[I 2025-02-26 05:17:07,304] Trial 10 finished with value: 0.73509683395025 and parameters: {'iterations': 2945, 'depth': 8, 'learning_rate': 0.032580115422505045, 'l2_leaf_reg': 0.87526046512315}. Best is trial 8 with value: 0.7351794603393571.\n"
     ]
    },
    {
     "name": "stdout",
     "output_type": "stream",
     "text": [
      "Stopped by overfitting detector  (300 iterations wait)\n",
      "\n",
      "bestTest = 0.735096834\n",
      "bestIteration = 612\n",
      "\n",
      "Shrink model to first 613 iterations.\n",
      "0:\ttest: 0.7179762\tbest: 0.7179762 (0)\ttotal: 129ms\tremaining: 3m 31s\n",
      "300:\ttest: 0.7342421\tbest: 0.7342613 (297)\ttotal: 37.6s\tremaining: 2m 47s\n",
      "600:\ttest: 0.7348513\tbest: 0.7348513 (600)\ttotal: 1m 17s\tremaining: 2m 14s\n",
      "900:\ttest: 0.7348875\tbest: 0.7349795 (679)\ttotal: 2m 6s\tremaining: 1m 44s\n"
     ]
    },
    {
     "name": "stderr",
     "output_type": "stream",
     "text": [
      "[I 2025-02-26 05:19:26,495] Trial 11 finished with value: 0.7349794866863971 and parameters: {'iterations': 1645, 'depth': 10, 'learning_rate': 0.023731679104734636, 'l2_leaf_reg': 13.217101298545217}. Best is trial 8 with value: 0.7351794603393571.\n"
     ]
    },
    {
     "name": "stdout",
     "output_type": "stream",
     "text": [
      "Stopped by overfitting detector  (300 iterations wait)\n",
      "\n",
      "bestTest = 0.7349794867\n",
      "bestIteration = 679\n",
      "\n",
      "Shrink model to first 680 iterations.\n",
      "0:\ttest: 0.7119763\tbest: 0.7119763 (0)\ttotal: 106ms\tremaining: 4m 11s\n",
      "300:\ttest: 0.7349946\tbest: 0.7351133 (247)\ttotal: 26.6s\tremaining: 3m 3s\n"
     ]
    },
    {
     "name": "stderr",
     "output_type": "stream",
     "text": [
      "[I 2025-02-26 05:20:16,765] Trial 12 finished with value: 0.7351132710657222 and parameters: {'iterations': 2381, 'depth': 8, 'learning_rate': 0.061287874640168535, 'l2_leaf_reg': 3.934842471169402}. Best is trial 8 with value: 0.7351794603393571.\n"
     ]
    },
    {
     "name": "stdout",
     "output_type": "stream",
     "text": [
      "Stopped by overfitting detector  (300 iterations wait)\n",
      "\n",
      "bestTest = 0.7351132711\n",
      "bestIteration = 247\n",
      "\n",
      "Shrink model to first 248 iterations.\n",
      "0:\ttest: 0.7179891\tbest: 0.7179891 (0)\ttotal: 110ms\tremaining: 3m 18s\n",
      "300:\ttest: 0.7339941\tbest: 0.7339941 (300)\ttotal: 30s\tremaining: 2m 30s\n",
      "600:\ttest: 0.7342753\tbest: 0.7344533 (497)\ttotal: 1m\tremaining: 2m 2s\n"
     ]
    },
    {
     "name": "stderr",
     "output_type": "stream",
     "text": [
      "[I 2025-02-26 05:21:39,404] Trial 13 finished with value: 0.734453320283823 and parameters: {'iterations': 1816, 'depth': 9, 'learning_rate': 0.02301824737409295, 'l2_leaf_reg': 0.05056418498118189}. Best is trial 8 with value: 0.7351794603393571.\n"
     ]
    },
    {
     "name": "stdout",
     "output_type": "stream",
     "text": [
      "Stopped by overfitting detector  (300 iterations wait)\n",
      "\n",
      "bestTest = 0.7344533203\n",
      "bestIteration = 497\n",
      "\n",
      "Shrink model to first 498 iterations.\n",
      "0:\ttest: 0.6994923\tbest: 0.6994923 (0)\ttotal: 85.3ms\tremaining: 2m 10s\n",
      "300:\ttest: 0.7347259\tbest: 0.7347405 (284)\ttotal: 22.6s\tremaining: 1m 32s\n",
      "600:\ttest: 0.7350735\tbest: 0.7351027 (598)\ttotal: 46.9s\tremaining: 1m 12s\n",
      "900:\ttest: 0.7350903\tbest: 0.7351520 (655)\ttotal: 1m 11s\tremaining: 50.3s\n"
     ]
    },
    {
     "name": "stderr",
     "output_type": "stream",
     "text": [
      "[I 2025-02-26 05:22:55,813] Trial 14 finished with value: 0.7351519552749066 and parameters: {'iterations': 1533, 'depth': 7, 'learning_rate': 0.053880102442617026, 'l2_leaf_reg': 92.74223128282539}. Best is trial 8 with value: 0.7351794603393571.\n"
     ]
    },
    {
     "name": "stdout",
     "output_type": "stream",
     "text": [
      "Stopped by overfitting detector  (300 iterations wait)\n",
      "\n",
      "bestTest = 0.7351519553\n",
      "bestIteration = 655\n",
      "\n",
      "Shrink model to first 656 iterations.\n",
      "0:\ttest: 0.6994562\tbest: 0.6994562 (0)\ttotal: 86.7ms\tremaining: 2m 11s\n",
      "300:\ttest: 0.7349487\tbest: 0.7349487 (299)\ttotal: 22.8s\tremaining: 1m 31s\n",
      "600:\ttest: 0.7353205\tbest: 0.7353394 (578)\ttotal: 47s\tremaining: 1m 11s\n",
      "900:\ttest: 0.7353299\tbest: 0.7353922 (811)\ttotal: 1m 11s\tremaining: 48.5s\n"
     ]
    },
    {
     "name": "stderr",
     "output_type": "stream",
     "text": [
      "[I 2025-02-26 05:24:24,841] Trial 15 finished with value: 0.735392169877632 and parameters: {'iterations': 1513, 'depth': 7, 'learning_rate': 0.056869508102177495, 'l2_leaf_reg': 70.38904240458295}. Best is trial 15 with value: 0.735392169877632.\n"
     ]
    },
    {
     "name": "stdout",
     "output_type": "stream",
     "text": [
      "Stopped by overfitting detector  (300 iterations wait)\n",
      "\n",
      "bestTest = 0.7353921699\n",
      "bestIteration = 811\n",
      "\n",
      "Shrink model to first 812 iterations.\n",
      "저장 완료\n",
      "0:\ttest: 0.6968397\tbest: 0.6968397 (0)\ttotal: 75.7ms\tremaining: 1m 54s\n",
      "300:\ttest: 0.7346081\tbest: 0.7346552 (276)\ttotal: 20.4s\tremaining: 1m 22s\n",
      "600:\ttest: 0.7348200\tbest: 0.7348734 (595)\ttotal: 42.1s\tremaining: 1m 3s\n"
     ]
    },
    {
     "name": "stderr",
     "output_type": "stream",
     "text": [
      "[I 2025-02-26 05:25:28,649] Trial 16 finished with value: 0.7348733701938792 and parameters: {'iterations': 1512, 'depth': 6, 'learning_rate': 0.06522242113054028, 'l2_leaf_reg': 1.2523363240169583}. Best is trial 15 with value: 0.735392169877632.\n"
     ]
    },
    {
     "name": "stdout",
     "output_type": "stream",
     "text": [
      "Stopped by overfitting detector  (300 iterations wait)\n",
      "\n",
      "bestTest = 0.7348733702\n",
      "bestIteration = 595\n",
      "\n",
      "Shrink model to first 596 iterations.\n",
      "0:\ttest: 0.7119786\tbest: 0.7119786 (0)\ttotal: 101ms\tremaining: 3m 4s\n",
      "300:\ttest: 0.7335141\tbest: 0.7343203 (169)\ttotal: 27.3s\tremaining: 2m 17s\n"
     ]
    },
    {
     "name": "stderr",
     "output_type": "stream",
     "text": [
      "[I 2025-02-26 05:26:12,590] Trial 17 finished with value: 0.7343202586769106 and parameters: {'iterations': 1821, 'depth': 8, 'learning_rate': 0.07849629345853783, 'l2_leaf_reg': 0.00795480840919648}. Best is trial 15 with value: 0.735392169877632.\n"
     ]
    },
    {
     "name": "stdout",
     "output_type": "stream",
     "text": [
      "Stopped by overfitting detector  (300 iterations wait)\n",
      "\n",
      "bestTest = 0.7343202587\n",
      "bestIteration = 169\n",
      "\n",
      "Shrink model to first 170 iterations.\n",
      "0:\ttest: 0.6968361\tbest: 0.6968361 (0)\ttotal: 77ms\tremaining: 2m 9s\n",
      "300:\ttest: 0.7344672\tbest: 0.7344674 (299)\ttotal: 19.7s\tremaining: 1m 30s\n",
      "600:\ttest: 0.7350852\tbest: 0.7351329 (558)\ttotal: 41s\tremaining: 1m 14s\n",
      "900:\ttest: 0.7350897\tbest: 0.7351407 (646)\ttotal: 1m 2s\tremaining: 54.3s\n"
     ]
    },
    {
     "name": "stderr",
     "output_type": "stream",
     "text": [
      "[I 2025-02-26 05:27:18,477] Trial 18 finished with value: 0.7351406689056939 and parameters: {'iterations': 1685, 'depth': 6, 'learning_rate': 0.04767166821914961, 'l2_leaf_reg': 20.541748502640964}. Best is trial 15 with value: 0.735392169877632.\n"
     ]
    },
    {
     "name": "stdout",
     "output_type": "stream",
     "text": [
      "Stopped by overfitting detector  (300 iterations wait)\n",
      "\n",
      "bestTest = 0.7351406689\n",
      "bestIteration = 646\n",
      "\n",
      "Shrink model to first 647 iterations.\n",
      "0:\ttest: 0.6994421\tbest: 0.6994421 (0)\ttotal: 89.3ms\tremaining: 2m 56s\n",
      "300:\ttest: 0.7348706\tbest: 0.7348715 (299)\ttotal: 23.3s\tremaining: 2m 9s\n",
      "600:\ttest: 0.7346789\tbest: 0.7349461 (312)\ttotal: 48.4s\tremaining: 1m 50s\n"
     ]
    },
    {
     "name": "stderr",
     "output_type": "stream",
     "text": [
      "[I 2025-02-26 05:28:07,983] Trial 19 finished with value: 0.7349461478160446 and parameters: {'iterations': 1975, 'depth': 7, 'learning_rate': 0.0561419088603945, 'l2_leaf_reg': 2.276175005448344}. Best is trial 15 with value: 0.735392169877632.\n"
     ]
    },
    {
     "name": "stdout",
     "output_type": "stream",
     "text": [
      "Stopped by overfitting detector  (300 iterations wait)\n",
      "\n",
      "bestTest = 0.7349461478\n",
      "bestIteration = 312\n",
      "\n",
      "Shrink model to first 313 iterations.\n",
      "0:\ttest: 0.7179890\tbest: 0.7179890 (0)\ttotal: 114ms\tremaining: 3m 3s\n",
      "300:\ttest: 0.7336902\tbest: 0.7345301 (184)\ttotal: 31.3s\tremaining: 2m 15s\n"
     ]
    },
    {
     "name": "stderr",
     "output_type": "stream",
     "text": [
      "[I 2025-02-26 05:29:00,020] Trial 20 finished with value: 0.734530148608521 and parameters: {'iterations': 1606, 'depth': 9, 'learning_rate': 0.0759865708822906, 'l2_leaf_reg': 0.15372982240945637}. Best is trial 15 with value: 0.735392169877632.\n"
     ]
    },
    {
     "name": "stdout",
     "output_type": "stream",
     "text": [
      "Stopped by overfitting detector  (300 iterations wait)\n",
      "\n",
      "bestTest = 0.7345301486\n",
      "bestIteration = 184\n",
      "\n",
      "Shrink model to first 185 iterations.\n",
      "0:\ttest: 0.6994923\tbest: 0.6994923 (0)\ttotal: 84.9ms\tremaining: 2m 7s\n",
      "300:\ttest: 0.7344223\tbest: 0.7344274 (295)\ttotal: 22.7s\tremaining: 1m 30s\n",
      "600:\ttest: 0.7346074\tbest: 0.7346103 (573)\ttotal: 47.4s\tremaining: 1m 11s\n",
      "900:\ttest: 0.7349200\tbest: 0.7349220 (893)\ttotal: 1m 11s\tremaining: 48.2s\n",
      "1200:\ttest: 0.7348070\tbest: 0.7349580 (946)\ttotal: 1m 36s\tremaining: 24.4s\n"
     ]
    },
    {
     "name": "stderr",
     "output_type": "stream",
     "text": [
      "[I 2025-02-26 05:30:40,174] Trial 21 finished with value: 0.7349580179629753 and parameters: {'iterations': 1506, 'depth': 7, 'learning_rate': 0.05291412594822103, 'l2_leaf_reg': 89.82044496900683}. Best is trial 15 with value: 0.735392169877632.\n"
     ]
    },
    {
     "name": "stdout",
     "output_type": "stream",
     "text": [
      "Stopped by overfitting detector  (300 iterations wait)\n",
      "\n",
      "bestTest = 0.734958018\n",
      "bestIteration = 946\n",
      "\n",
      "Shrink model to first 947 iterations.\n",
      "0:\ttest: 0.6968351\tbest: 0.6968351 (0)\ttotal: 76.1ms\tremaining: 2m 18s\n",
      "300:\ttest: 0.7342750\tbest: 0.7342750 (300)\ttotal: 19.6s\tremaining: 1m 39s\n",
      "600:\ttest: 0.7348908\tbest: 0.7349352 (563)\ttotal: 40.5s\tremaining: 1m 22s\n",
      "900:\ttest: 0.7351129\tbest: 0.7351352 (779)\ttotal: 1m 1s\tremaining: 1m 3s\n",
      "1200:\ttest: 0.7351214\tbest: 0.7351657 (1003)\ttotal: 1m 22s\tremaining: 43.2s\n"
     ]
    },
    {
     "name": "stderr",
     "output_type": "stream",
     "text": [
      "[I 2025-02-26 05:32:10,842] Trial 22 finished with value: 0.7351657316347938 and parameters: {'iterations': 1826, 'depth': 6, 'learning_rate': 0.03874508222365359, 'l2_leaf_reg': 32.50556226444974}. Best is trial 15 with value: 0.735392169877632.\n"
     ]
    },
    {
     "name": "stdout",
     "output_type": "stream",
     "text": [
      "Stopped by overfitting detector  (300 iterations wait)\n",
      "\n",
      "bestTest = 0.7351657316\n",
      "bestIteration = 1003\n",
      "\n",
      "Shrink model to first 1004 iterations.\n",
      "0:\ttest: 0.6934299\tbest: 0.6934299 (0)\ttotal: 64.9ms\tremaining: 2m 18s\n",
      "300:\ttest: 0.7335331\tbest: 0.7335355 (298)\ttotal: 17s\tremaining: 1m 44s\n",
      "600:\ttest: 0.7345673\tbest: 0.7345732 (589)\ttotal: 34.7s\tremaining: 1m 29s\n",
      "900:\ttest: 0.7347030\tbest: 0.7347183 (789)\ttotal: 52.7s\tremaining: 1m 12s\n",
      "1200:\ttest: 0.7347247\tbest: 0.7347897 (1048)\ttotal: 1m 10s\tremaining: 55.4s\n"
     ]
    },
    {
     "name": "stderr",
     "output_type": "stream",
     "text": [
      "[I 2025-02-26 05:33:30,737] Trial 23 finished with value: 0.7347897390716931 and parameters: {'iterations': 2142, 'depth': 5, 'learning_rate': 0.03813540738277932, 'l2_leaf_reg': 29.37182060613081}. Best is trial 15 with value: 0.735392169877632.\n"
     ]
    },
    {
     "name": "stdout",
     "output_type": "stream",
     "text": [
      "Stopped by overfitting detector  (300 iterations wait)\n",
      "\n",
      "bestTest = 0.7347897391\n",
      "bestIteration = 1048\n",
      "\n",
      "Shrink model to first 1049 iterations.\n",
      "0:\ttest: 0.6968378\tbest: 0.6968378 (0)\ttotal: 75ms\tremaining: 2m 18s\n",
      "300:\ttest: 0.7335601\tbest: 0.7335601 (300)\ttotal: 19.3s\tremaining: 1m 39s\n",
      "600:\ttest: 0.7347663\tbest: 0.7347663 (600)\ttotal: 40.3s\tremaining: 1m 23s\n",
      "900:\ttest: 0.7350644\tbest: 0.7350655 (897)\ttotal: 1m 1s\tremaining: 1m 5s\n",
      "1200:\ttest: 0.7350371\tbest: 0.7350772 (933)\ttotal: 1m 23s\tremaining: 45.2s\n"
     ]
    },
    {
     "name": "stderr",
     "output_type": "stream",
     "text": [
      "[I 2025-02-26 05:34:56,650] Trial 24 finished with value: 0.7350771761291369 and parameters: {'iterations': 1853, 'depth': 6, 'learning_rate': 0.028132244439659254, 'l2_leaf_reg': 4.7581439439293955}. Best is trial 15 with value: 0.735392169877632.\n"
     ]
    },
    {
     "name": "stdout",
     "output_type": "stream",
     "text": [
      "Stopped by overfitting detector  (300 iterations wait)\n",
      "\n",
      "bestTest = 0.7350771761\n",
      "bestIteration = 933\n",
      "\n",
      "Shrink model to first 934 iterations.\n",
      "0:\ttest: 0.6934368\tbest: 0.6934368 (0)\ttotal: 64.6ms\tremaining: 1m 52s\n",
      "300:\ttest: 0.7338607\tbest: 0.7338607 (300)\ttotal: 17s\tremaining: 1m 21s\n",
      "600:\ttest: 0.7346730\tbest: 0.7347292 (572)\ttotal: 35.1s\tremaining: 1m 6s\n"
     ]
    },
    {
     "name": "stderr",
     "output_type": "stream",
     "text": [
      "[I 2025-02-26 05:35:48,514] Trial 25 finished with value: 0.7347291651837257 and parameters: {'iterations': 1736, 'depth': 5, 'learning_rate': 0.04138650675826225, 'l2_leaf_reg': 0.4144668000776177}. Best is trial 15 with value: 0.735392169877632.\n"
     ]
    },
    {
     "name": "stdout",
     "output_type": "stream",
     "text": [
      "Stopped by overfitting detector  (300 iterations wait)\n",
      "\n",
      "bestTest = 0.7347291652\n",
      "bestIteration = 572\n",
      "\n",
      "Shrink model to first 573 iterations.\n",
      "0:\ttest: 0.7119903\tbest: 0.7119903 (0)\ttotal: 102ms\tremaining: 3m 32s\n",
      "300:\ttest: 0.7349177\tbest: 0.7349805 (286)\ttotal: 26.7s\tremaining: 2m 37s\n",
      "600:\ttest: 0.7344689\tbest: 0.7350401 (359)\ttotal: 55.3s\tremaining: 2m 16s\n"
     ]
    },
    {
     "name": "stderr",
     "output_type": "stream",
     "text": [
      "[I 2025-02-26 05:36:49,705] Trial 26 finished with value: 0.7350401360286274 and parameters: {'iterations': 2081, 'depth': 8, 'learning_rate': 0.060456231550004506, 'l2_leaf_reg': 7.2382948752378535}. Best is trial 15 with value: 0.735392169877632.\n"
     ]
    },
    {
     "name": "stdout",
     "output_type": "stream",
     "text": [
      "Stopped by overfitting detector  (300 iterations wait)\n",
      "\n",
      "bestTest = 0.735040136\n",
      "bestIteration = 359\n",
      "\n",
      "Shrink model to first 360 iterations.\n",
      "0:\ttest: 0.6968351\tbest: 0.6968351 (0)\ttotal: 78.3ms\tremaining: 2m 26s\n",
      "300:\ttest: 0.7345005\tbest: 0.7345005 (300)\ttotal: 19.6s\tremaining: 1m 42s\n",
      "600:\ttest: 0.7350742\tbest: 0.7351034 (581)\ttotal: 40.8s\tremaining: 1m 26s\n",
      "900:\ttest: 0.7352023\tbest: 0.7352087 (899)\ttotal: 1m 1s\tremaining: 1m 7s\n",
      "1200:\ttest: 0.7352286\tbest: 0.7352535 (1143)\ttotal: 1m 23s\tremaining: 46.9s\n",
      "1500:\ttest: 0.7352285\tbest: 0.7352917 (1399)\ttotal: 1m 45s\tremaining: 26.3s\n"
     ]
    },
    {
     "name": "stderr",
     "output_type": "stream",
     "text": [
      "[I 2025-02-26 05:38:49,404] Trial 27 finished with value: 0.7352917442250444 and parameters: {'iterations': 1877, 'depth': 6, 'learning_rate': 0.04571286270661632, 'l2_leaf_reg': 33.230015898652915}. Best is trial 15 with value: 0.735392169877632.\n"
     ]
    },
    {
     "name": "stdout",
     "output_type": "stream",
     "text": [
      "Stopped by overfitting detector  (300 iterations wait)\n",
      "\n",
      "bestTest = 0.7352917442\n",
      "bestIteration = 1399\n",
      "\n",
      "Shrink model to first 1400 iterations.\n",
      "0:\ttest: 0.6994421\tbest: 0.6994421 (0)\ttotal: 86.8ms\tremaining: 3m 15s\n",
      "300:\ttest: 0.7348711\tbest: 0.7348711 (300)\ttotal: 22.9s\tremaining: 2m 28s\n",
      "600:\ttest: 0.7347431\tbest: 0.7350414 (441)\ttotal: 48.1s\tremaining: 2m 12s\n"
     ]
    },
    {
     "name": "stderr",
     "output_type": "stream",
     "text": [
      "[I 2025-02-26 05:39:49,467] Trial 28 finished with value: 0.7350414465500349 and parameters: {'iterations': 2255, 'depth': 7, 'learning_rate': 0.04706254557559918, 'l2_leaf_reg': 1.8362938856865496}. Best is trial 15 with value: 0.735392169877632.\n"
     ]
    },
    {
     "name": "stdout",
     "output_type": "stream",
     "text": [
      "Stopped by overfitting detector  (300 iterations wait)\n",
      "\n",
      "bestTest = 0.7350414466\n",
      "bestIteration = 441\n",
      "\n",
      "Shrink model to first 442 iterations.\n",
      "0:\ttest: 0.7179764\tbest: 0.7179764 (0)\ttotal: 108ms\tremaining: 3m 30s\n",
      "300:\ttest: 0.7343892\tbest: 0.7344160 (262)\ttotal: 30.3s\tremaining: 2m 46s\n",
      "600:\ttest: 0.7340823\tbest: 0.7344687 (386)\ttotal: 1m 3s\tremaining: 2m 22s\n"
     ]
    },
    {
     "name": "stderr",
     "output_type": "stream",
     "text": [
      "[I 2025-02-26 05:41:02,633] Trial 29 finished with value: 0.7344686613268452 and parameters: {'iterations': 1950, 'depth': 9, 'learning_rate': 0.06657917760785476, 'l2_leaf_reg': 10.707422129371349}. Best is trial 15 with value: 0.735392169877632.\n"
     ]
    },
    {
     "name": "stdout",
     "output_type": "stream",
     "text": [
      "Stopped by overfitting detector  (300 iterations wait)\n",
      "\n",
      "bestTest = 0.7344686613\n",
      "bestIteration = 386\n",
      "\n",
      "Shrink model to first 387 iterations.\n",
      "0:\ttest: 0.6934299\tbest: 0.6934299 (0)\ttotal: 67.1ms\tremaining: 1m 49s\n",
      "300:\ttest: 0.7346342\tbest: 0.7346499 (288)\ttotal: 17.5s\tremaining: 1m 17s\n",
      "600:\ttest: 0.7350872\tbest: 0.7350929 (594)\ttotal: 35.6s\tremaining: 1m 1s\n",
      "900:\ttest: 0.7351201\tbest: 0.7351529 (847)\ttotal: 53.5s\tremaining: 43.8s\n"
     ]
    },
    {
     "name": "stderr",
     "output_type": "stream",
     "text": [
      "[I 2025-02-26 05:42:11,329] Trial 30 finished with value: 0.7351529004388309 and parameters: {'iterations': 1638, 'depth': 5, 'learning_rate': 0.07394089898096455, 'l2_leaf_reg': 37.16420905984264}. Best is trial 15 with value: 0.735392169877632.\n"
     ]
    },
    {
     "name": "stdout",
     "output_type": "stream",
     "text": [
      "Stopped by overfitting detector  (300 iterations wait)\n",
      "\n",
      "bestTest = 0.7351529004\n",
      "bestIteration = 847\n",
      "\n",
      "Shrink model to first 848 iterations.\n",
      "0:\ttest: 0.6968351\tbest: 0.6968351 (0)\ttotal: 75.6ms\tremaining: 2m 22s\n",
      "300:\ttest: 0.7340544\tbest: 0.7340544 (300)\ttotal: 19.9s\tremaining: 1m 44s\n",
      "600:\ttest: 0.7348047\tbest: 0.7348491 (578)\ttotal: 40.5s\tremaining: 1m 26s\n",
      "900:\ttest: 0.7350881\tbest: 0.7350907 (897)\ttotal: 1m 1s\tremaining: 1m 7s\n",
      "1200:\ttest: 0.7351256\tbest: 0.7351880 (1106)\ttotal: 1m 23s\tremaining: 47s\n"
     ]
    },
    {
     "name": "stderr",
     "output_type": "stream",
     "text": [
      "[I 2025-02-26 05:43:49,667] Trial 31 finished with value: 0.735188030355107 and parameters: {'iterations': 1880, 'depth': 6, 'learning_rate': 0.03471872965248869, 'l2_leaf_reg': 28.675949253387298}. Best is trial 15 with value: 0.735392169877632.\n"
     ]
    },
    {
     "name": "stdout",
     "output_type": "stream",
     "text": [
      "Stopped by overfitting detector  (300 iterations wait)\n",
      "\n",
      "bestTest = 0.7351880304\n",
      "bestIteration = 1106\n",
      "\n",
      "Shrink model to first 1107 iterations.\n",
      "0:\ttest: 0.6968369\tbest: 0.6968369 (0)\ttotal: 76.1ms\tremaining: 2m 37s\n",
      "300:\ttest: 0.7337943\tbest: 0.7337943 (300)\ttotal: 19.4s\tremaining: 1m 54s\n",
      "600:\ttest: 0.7347418\tbest: 0.7347418 (600)\ttotal: 40.4s\tremaining: 1m 38s\n",
      "900:\ttest: 0.7348249\tbest: 0.7348657 (769)\ttotal: 1m 1s\tremaining: 1m 20s\n"
     ]
    },
    {
     "name": "stderr",
     "output_type": "stream",
     "text": [
      "[I 2025-02-26 05:45:03,620] Trial 32 finished with value: 0.7348656778303446 and parameters: {'iterations': 2075, 'depth': 6, 'learning_rate': 0.0335437146811852, 'l2_leaf_reg': 14.429780848749495}. Best is trial 15 with value: 0.735392169877632.\n"
     ]
    },
    {
     "name": "stdout",
     "output_type": "stream",
     "text": [
      "Stopped by overfitting detector  (300 iterations wait)\n",
      "\n",
      "bestTest = 0.7348656778\n",
      "bestIteration = 769\n",
      "\n",
      "Shrink model to first 770 iterations.\n",
      "0:\ttest: 0.6994400\tbest: 0.6994400 (0)\ttotal: 90.2ms\tremaining: 2m 51s\n",
      "300:\ttest: 0.7330237\tbest: 0.7330237 (300)\ttotal: 22s\tremaining: 1m 56s\n",
      "600:\ttest: 0.7344123\tbest: 0.7344174 (598)\ttotal: 44.8s\tremaining: 1m 36s\n",
      "900:\ttest: 0.7350835\tbest: 0.7350835 (900)\ttotal: 1m 9s\tremaining: 1m 16s\n",
      "1200:\ttest: 0.7353303\tbest: 0.7353349 (1195)\ttotal: 1m 34s\tremaining: 54.8s\n",
      "1500:\ttest: 0.7353080\tbest: 0.7353970 (1356)\ttotal: 1m 59s\tremaining: 31.7s\n"
     ]
    },
    {
     "name": "stderr",
     "output_type": "stream",
     "text": [
      "[I 2025-02-26 05:47:16,039] Trial 33 finished with value: 0.7353969751227931 and parameters: {'iterations': 1900, 'depth': 7, 'learning_rate': 0.016876781233866767, 'l2_leaf_reg': 4.578114216620707}. Best is trial 33 with value: 0.7353969751227931.\n"
     ]
    },
    {
     "name": "stdout",
     "output_type": "stream",
     "text": [
      "Stopped by overfitting detector  (300 iterations wait)\n",
      "\n",
      "bestTest = 0.7353969751\n",
      "bestIteration = 1356\n",
      "\n",
      "Shrink model to first 1357 iterations.\n",
      "저장 완료\n",
      "0:\ttest: 0.6968316\tbest: 0.6968316 (0)\ttotal: 72.2ms\tremaining: 2m 6s\n",
      "300:\ttest: 0.7319384\tbest: 0.7319384 (300)\ttotal: 19s\tremaining: 1m 31s\n",
      "600:\ttest: 0.7338457\tbest: 0.7338457 (600)\ttotal: 38.8s\tremaining: 1m 14s\n",
      "900:\ttest: 0.7345157\tbest: 0.7345157 (900)\ttotal: 58.7s\tremaining: 55.4s\n",
      "1200:\ttest: 0.7347415\tbest: 0.7347434 (1184)\ttotal: 1m 19s\tremaining: 36.6s\n",
      "1500:\ttest: 0.7349078\tbest: 0.7349120 (1491)\ttotal: 1m 40s\tremaining: 16.8s\n"
     ]
    },
    {
     "name": "stderr",
     "output_type": "stream",
     "text": [
      "[I 2025-02-26 05:49:14,733] Trial 34 finished with value: 0.7350305930500143 and parameters: {'iterations': 1751, 'depth': 6, 'learning_rate': 0.014824494144299096, 'l2_leaf_reg': 48.47568649942284}. Best is trial 33 with value: 0.7353969751227931.\n"
     ]
    },
    {
     "name": "stdout",
     "output_type": "stream",
     "text": [
      "1750:\ttest: 0.7350304\tbest: 0.7350306 (1748)\ttotal: 1m 58s\tremaining: 0us\n",
      "\n",
      "bestTest = 0.7350305931\n",
      "bestIteration = 1748\n",
      "\n",
      "Shrink model to first 1749 iterations.\n",
      "0:\ttest: 0.6994400\tbest: 0.6994400 (0)\ttotal: 88.4ms\tremaining: 3m 19s\n",
      "300:\ttest: 0.7332154\tbest: 0.7332154 (300)\ttotal: 21.9s\tremaining: 2m 22s\n",
      "600:\ttest: 0.7344321\tbest: 0.7344321 (600)\ttotal: 44.8s\tremaining: 2m 3s\n",
      "900:\ttest: 0.7350500\tbest: 0.7350500 (900)\ttotal: 1m 9s\tremaining: 1m 44s\n",
      "1200:\ttest: 0.7351564\tbest: 0.7351815 (1081)\ttotal: 1m 34s\tremaining: 1m 23s\n"
     ]
    },
    {
     "name": "stderr",
     "output_type": "stream",
     "text": [
      "[I 2025-02-26 05:51:05,157] Trial 35 finished with value: 0.7351814817193463 and parameters: {'iterations': 2264, 'depth': 7, 'learning_rate': 0.01808323868173294, 'l2_leaf_reg': 4.248443441375397}. Best is trial 33 with value: 0.7353969751227931.\n"
     ]
    },
    {
     "name": "stdout",
     "output_type": "stream",
     "text": [
      "Stopped by overfitting detector  (300 iterations wait)\n",
      "\n",
      "bestTest = 0.7351814817\n",
      "bestIteration = 1081\n",
      "\n",
      "Shrink model to first 1082 iterations.\n",
      "0:\ttest: 0.6934299\tbest: 0.6934299 (0)\ttotal: 62.7ms\tremaining: 2m 32s\n",
      "300:\ttest: 0.7331655\tbest: 0.7331655 (300)\ttotal: 16.7s\tremaining: 1m 58s\n",
      "600:\ttest: 0.7344480\tbest: 0.7344505 (598)\ttotal: 34.6s\tremaining: 1m 45s\n",
      "900:\ttest: 0.7347837\tbest: 0.7347972 (863)\ttotal: 52.4s\tremaining: 1m 29s\n",
      "1200:\ttest: 0.7349558\tbest: 0.7349689 (1190)\ttotal: 1m 10s\tremaining: 1m 12s\n",
      "1500:\ttest: 0.7350083\tbest: 0.7350151 (1498)\ttotal: 1m 28s\tremaining: 55.3s\n",
      "1800:\ttest: 0.7350077\tbest: 0.7350190 (1526)\ttotal: 1m 46s\tremaining: 37.8s\n",
      "2100:\ttest: 0.7349470\tbest: 0.7350211 (1809)\ttotal: 2m 4s\tremaining: 20.1s\n"
     ]
    },
    {
     "name": "stderr",
     "output_type": "stream",
     "text": [
      "[I 2025-02-26 05:53:10,866] Trial 36 finished with value: 0.735021113611833 and parameters: {'iterations': 2439, 'depth': 5, 'learning_rate': 0.030587636548268692, 'l2_leaf_reg': 21.15264375565313}. Best is trial 33 with value: 0.7353969751227931.\n"
     ]
    },
    {
     "name": "stdout",
     "output_type": "stream",
     "text": [
      "Stopped by overfitting detector  (300 iterations wait)\n",
      "\n",
      "bestTest = 0.7350211136\n",
      "bestIteration = 1809\n",
      "\n",
      "Shrink model to first 1810 iterations.\n",
      "0:\ttest: 0.7119914\tbest: 0.7119914 (0)\ttotal: 104ms\tremaining: 3m 42s\n",
      "300:\ttest: 0.7308844\tbest: 0.7308844 (300)\ttotal: 24.2s\tremaining: 2m 28s\n",
      "600:\ttest: 0.7332043\tbest: 0.7332065 (599)\ttotal: 49.3s\tremaining: 2m 6s\n",
      "900:\ttest: 0.7340785\tbest: 0.7340785 (900)\ttotal: 1m 14s\tremaining: 1m 42s\n",
      "1200:\ttest: 0.7344832\tbest: 0.7344832 (1200)\ttotal: 1m 39s\tremaining: 1m 18s\n",
      "1500:\ttest: 0.7347511\tbest: 0.7347519 (1499)\ttotal: 2m 5s\tremaining: 53.7s\n",
      "1800:\ttest: 0.7349955\tbest: 0.7349955 (1800)\ttotal: 2m 33s\tremaining: 29.1s\n",
      "2100:\ttest: 0.7351407\tbest: 0.7351420 (2098)\ttotal: 3m 2s\tremaining: 3.64s\n"
     ]
    },
    {
     "name": "stderr",
     "output_type": "stream",
     "text": [
      "[I 2025-02-26 05:56:17,303] Trial 37 finished with value: 0.7351419794271014 and parameters: {'iterations': 2143, 'depth': 8, 'learning_rate': 0.007854056834208062, 'l2_leaf_reg': 6.12631149521493}. Best is trial 33 with value: 0.7353969751227931.\n"
     ]
    },
    {
     "name": "stdout",
     "output_type": "stream",
     "text": [
      "2142:\ttest: 0.7351417\tbest: 0.7351420 (2098)\ttotal: 3m 6s\tremaining: 0us\n",
      "\n",
      "bestTest = 0.7351419794\n",
      "bestIteration = 2098\n",
      "\n",
      "Shrink model to first 2099 iterations.\n",
      "0:\ttest: 0.6968532\tbest: 0.6968532 (0)\ttotal: 73.6ms\tremaining: 3m 16s\n",
      "300:\ttest: 0.7329535\tbest: 0.7329535 (300)\ttotal: 19.1s\tremaining: 2m 30s\n",
      "600:\ttest: 0.7342099\tbest: 0.7342099 (600)\ttotal: 38.6s\tremaining: 2m 12s\n",
      "900:\ttest: 0.7346644\tbest: 0.7346649 (894)\ttotal: 59.9s\tremaining: 1m 57s\n",
      "1200:\ttest: 0.7349229\tbest: 0.7349229 (1199)\ttotal: 1m 20s\tremaining: 1m 38s\n",
      "1500:\ttest: 0.7350784\tbest: 0.7350941 (1472)\ttotal: 1m 42s\tremaining: 1m 19s\n",
      "1800:\ttest: 0.7351207\tbest: 0.7351335 (1782)\ttotal: 2m 3s\tremaining: 59.3s\n",
      "2100:\ttest: 0.7351555\tbest: 0.7351671 (1988)\ttotal: 2m 24s\tremaining: 39s\n",
      "2400:\ttest: 0.7351231\tbest: 0.7351702 (2132)\ttotal: 2m 46s\tremaining: 18.4s\n"
     ]
    },
    {
     "name": "stderr",
     "output_type": "stream",
     "text": [
      "[I 2025-02-26 05:59:06,118] Trial 38 finished with value: 0.7351702072639644 and parameters: {'iterations': 2667, 'depth': 6, 'learning_rate': 0.020381894655581392, 'l2_leaf_reg': 58.18668808425183}. Best is trial 33 with value: 0.7353969751227931.\n"
     ]
    },
    {
     "name": "stdout",
     "output_type": "stream",
     "text": [
      "Stopped by overfitting detector  (300 iterations wait)\n",
      "\n",
      "bestTest = 0.7351702073\n",
      "bestIteration = 2132\n",
      "\n",
      "Shrink model to first 2133 iterations.\n",
      "0:\ttest: 0.6994430\tbest: 0.6994430 (0)\ttotal: 83.8ms\tremaining: 2m 48s\n",
      "300:\ttest: 0.7281644\tbest: 0.7281644 (300)\ttotal: 21.4s\tremaining: 2m 1s\n",
      "600:\ttest: 0.7312255\tbest: 0.7312255 (600)\ttotal: 43s\tremaining: 1m 41s\n",
      "900:\ttest: 0.7327718\tbest: 0.7327718 (900)\ttotal: 1m 5s\tremaining: 1m 20s\n",
      "1200:\ttest: 0.7335857\tbest: 0.7335857 (1200)\ttotal: 1m 27s\tremaining: 59.4s\n",
      "1500:\ttest: 0.7340623\tbest: 0.7340623 (1500)\ttotal: 1m 49s\tremaining: 37.6s\n",
      "1800:\ttest: 0.7343332\tbest: 0.7343336 (1799)\ttotal: 2m 12s\tremaining: 15.8s\n"
     ]
    },
    {
     "name": "stderr",
     "output_type": "stream",
     "text": [
      "[I 2025-02-26 06:01:34,326] Trial 39 finished with value: 0.7344692649609481 and parameters: {'iterations': 2016, 'depth': 7, 'learning_rate': 0.005115522500813041, 'l2_leaf_reg': 11.934447667760852}. Best is trial 33 with value: 0.7353969751227931.\n",
      "[I 2025-02-26 06:01:34,331] A new study created in memory with name: no-name-b5f9fb74-7935-43c5-9529-efe40137f6a3\n"
     ]
    },
    {
     "name": "stdout",
     "output_type": "stream",
     "text": [
      "2015:\ttest: 0.7344693\tbest: 0.7344693 (2015)\ttotal: 2m 27s\tremaining: 0us\n",
      "\n",
      "bestTest = 0.734469265\n",
      "bestIteration = 2015\n",
      "\n"
     ]
    },
    {
     "name": "stderr",
     "output_type": "stream",
     "text": [
      "[I 2025-02-26 06:01:57,319] Trial 0 finished with value: 0.7255628264518754 and parameters: {'num_iterations': 2366, 'objective': 'binary', 'metric': 'auc', 'verbose': -1, 'learning_rate': 0.0652646236447618, 'n_estimators': 236, 'min_child_samples': 45, 'subsample': 0.7, 'colsample_bytree': 0.5}. Best is trial 0 with value: 0.7255628264518754.\n",
      "[I 2025-02-26 06:02:14,362] Trial 1 finished with value: 0.7349403815218515 and parameters: {'num_iterations': 1510, 'objective': 'binary', 'metric': 'auc', 'verbose': -1, 'learning_rate': 0.005231880959249543, 'n_estimators': 1411, 'min_child_samples': 10, 'subsample': 1.0, 'colsample_bytree': 0.5}. Best is trial 1 with value: 0.7349403815218515.\n",
      "[I 2025-02-26 06:02:33,962] Trial 2 finished with value: 0.7345463990739745 and parameters: {'num_iterations': 2334, 'objective': 'binary', 'metric': 'auc', 'verbose': -1, 'learning_rate': 0.006578527777128852, 'n_estimators': 931, 'min_child_samples': 15, 'subsample': 0.5, 'colsample_bytree': 1.0}. Best is trial 1 with value: 0.7349403815218515.\n",
      "[I 2025-02-26 06:02:50,457] Trial 3 finished with value: 0.7349788115693084 and parameters: {'num_iterations': 1620, 'objective': 'binary', 'metric': 'auc', 'verbose': -1, 'learning_rate': 0.0058823249237283685, 'n_estimators': 837, 'min_child_samples': 10, 'subsample': 0.9, 'colsample_bytree': 0.6}. Best is trial 3 with value: 0.7349788115693084.\n",
      "[I 2025-02-26 06:03:06,894] Trial 4 finished with value: 0.7342890523823031 and parameters: {'num_iterations': 1997, 'objective': 'binary', 'metric': 'auc', 'verbose': -1, 'learning_rate': 0.010907507425244923, 'n_estimators': 1597, 'min_child_samples': 50, 'subsample': 0.6, 'colsample_bytree': 0.8}. Best is trial 3 with value: 0.7349788115693084.\n",
      "[I 2025-02-26 06:03:29,398] Trial 5 finished with value: 0.7314725155147069 and parameters: {'num_iterations': 2909, 'objective': 'binary', 'metric': 'auc', 'verbose': -1, 'learning_rate': 0.019760591962733942, 'n_estimators': 612, 'min_child_samples': 30, 'subsample': 0.7, 'colsample_bytree': 0.9}. Best is trial 3 with value: 0.7349788115693084.\n",
      "[I 2025-02-26 06:03:50,046] Trial 6 finished with value: 0.7324524876817738 and parameters: {'num_iterations': 2639, 'objective': 'binary', 'metric': 'auc', 'verbose': -1, 'learning_rate': 0.017862094446750985, 'n_estimators': 794, 'min_child_samples': 35, 'subsample': 1.0, 'colsample_bytree': 0.8}. Best is trial 3 with value: 0.7349788115693084.\n",
      "[I 2025-02-26 06:04:06,578] Trial 7 finished with value: 0.7348394753447477 and parameters: {'num_iterations': 1580, 'objective': 'binary', 'metric': 'auc', 'verbose': -1, 'learning_rate': 0.01776722177611332, 'n_estimators': 529, 'min_child_samples': 25, 'subsample': 0.8, 'colsample_bytree': 0.5}. Best is trial 3 with value: 0.7349788115693084.\n",
      "[I 2025-02-26 06:04:24,207] Trial 8 finished with value: 0.7317470141517091 and parameters: {'num_iterations': 1911, 'objective': 'binary', 'metric': 'auc', 'verbose': -1, 'learning_rate': 0.0304747553332844, 'n_estimators': 1328, 'min_child_samples': 10, 'subsample': 0.7, 'colsample_bytree': 0.6}. Best is trial 3 with value: 0.7349788115693084.\n",
      "[I 2025-02-26 06:04:51,546] Trial 9 finished with value: 0.7309093010690694 and parameters: {'num_iterations': 2739, 'objective': 'binary', 'metric': 'auc', 'verbose': -1, 'learning_rate': 0.02691531614176271, 'n_estimators': 1438, 'min_child_samples': 20, 'subsample': 0.6, 'colsample_bytree': 0.5}. Best is trial 3 with value: 0.7349788115693084.\n",
      "[I 2025-02-26 06:05:06,075] Trial 10 finished with value: 0.7227632747359763 and parameters: {'num_iterations': 1883, 'objective': 'binary', 'metric': 'auc', 'verbose': -1, 'learning_rate': 0.08223556891145911, 'n_estimators': 1917, 'min_child_samples': 40, 'subsample': 0.9, 'colsample_bytree': 0.7}. Best is trial 3 with value: 0.7349788115693084.\n",
      "[I 2025-02-26 06:05:21,661] Trial 11 finished with value: 0.7349437729924031 and parameters: {'num_iterations': 1513, 'objective': 'binary', 'metric': 'auc', 'verbose': -1, 'learning_rate': 0.005340229419903739, 'n_estimators': 1206, 'min_child_samples': 10, 'subsample': 1.0, 'colsample_bytree': 0.6}. Best is trial 3 with value: 0.7349788115693084.\n",
      "[I 2025-02-26 06:05:36,478] Trial 12 finished with value: 0.7348573341773833 and parameters: {'num_iterations': 1717, 'objective': 'binary', 'metric': 'auc', 'verbose': -1, 'learning_rate': 0.008807202863131344, 'n_estimators': 1093, 'min_child_samples': 20, 'subsample': 0.9, 'colsample_bytree': 0.7}. Best is trial 3 with value: 0.7349788115693084.\n",
      "[I 2025-02-26 06:05:56,446] Trial 13 finished with value: 0.7346662760412717 and parameters: {'num_iterations': 2084, 'objective': 'binary', 'metric': 'auc', 'verbose': -1, 'learning_rate': 0.010947685715514379, 'n_estimators': 1108, 'min_child_samples': 10, 'subsample': 0.9, 'colsample_bytree': 0.6}. Best is trial 3 with value: 0.7349788115693084.\n",
      "[I 2025-02-26 06:06:14,421] Trial 14 finished with value: 0.7349841886783564 and parameters: {'num_iterations': 1759, 'objective': 'binary', 'metric': 'auc', 'verbose': -1, 'learning_rate': 0.00514593053258222, 'n_estimators': 172, 'min_child_samples': 20, 'subsample': 1.0, 'colsample_bytree': 0.6}. Best is trial 14 with value: 0.7349841886783564.\n",
      "[I 2025-02-26 06:06:29,695] Trial 15 finished with value: 0.734927816401447 and parameters: {'num_iterations': 1756, 'objective': 'binary', 'metric': 'auc', 'verbose': -1, 'learning_rate': 0.008183724404516576, 'n_estimators': 181, 'min_child_samples': 20, 'subsample': 0.8, 'colsample_bytree': 0.7}. Best is trial 14 with value: 0.7349841886783564.\n",
      "[I 2025-02-26 06:06:49,375] Trial 16 finished with value: 0.730158280963177 and parameters: {'num_iterations': 2176, 'objective': 'binary', 'metric': 'auc', 'verbose': -1, 'learning_rate': 0.03901437770924474, 'n_estimators': 437, 'min_child_samples': 25, 'subsample': 0.9, 'colsample_bytree': 0.6}. Best is trial 14 with value: 0.7349841886783564.\n",
      "[I 2025-02-26 06:07:05,707] Trial 17 finished with value: 0.734511983987557 and parameters: {'num_iterations': 1709, 'objective': 'binary', 'metric': 'auc', 'verbose': -1, 'learning_rate': 0.01384769331008121, 'n_estimators': 115, 'min_child_samples': 15, 'subsample': 1.0, 'colsample_bytree': 0.6}. Best is trial 14 with value: 0.7349841886783564.\n",
      "[I 2025-02-26 06:07:21,646] Trial 18 finished with value: 0.7349571839948069 and parameters: {'num_iterations': 1822, 'objective': 'binary', 'metric': 'auc', 'verbose': -1, 'learning_rate': 0.007223259603234952, 'n_estimators': 775, 'min_child_samples': 30, 'subsample': 0.8, 'colsample_bytree': 0.7}. Best is trial 14 with value: 0.7349841886783564.\n",
      "[I 2025-02-26 06:07:40,593] Trial 19 finished with value: 0.7258419357414659 and parameters: {'num_iterations': 2481, 'objective': 'binary', 'metric': 'auc', 'verbose': -1, 'learning_rate': 0.04570242881302624, 'n_estimators': 405, 'min_child_samples': 15, 'subsample': 0.9, 'colsample_bytree': 0.8}. Best is trial 14 with value: 0.7349841886783564.\n",
      "[I 2025-02-26 06:07:54,211] Trial 20 finished with value: 0.7348151433306144 and parameters: {'num_iterations': 1649, 'objective': 'binary', 'metric': 'auc', 'verbose': -1, 'learning_rate': 0.012796480593590575, 'n_estimators': 725, 'min_child_samples': 25, 'subsample': 1.0, 'colsample_bytree': 0.9}. Best is trial 14 with value: 0.7349841886783564.\n",
      "[I 2025-02-26 06:08:10,383] Trial 21 finished with value: 0.7349460366202889 and parameters: {'num_iterations': 1862, 'objective': 'binary', 'metric': 'auc', 'verbose': -1, 'learning_rate': 0.007476328613565997, 'n_estimators': 884, 'min_child_samples': 35, 'subsample': 0.8, 'colsample_bytree': 0.7}. Best is trial 14 with value: 0.7349841886783564.\n",
      "[I 2025-02-26 06:08:28,871] Trial 22 finished with value: 0.7350351560472788 and parameters: {'num_iterations': 1811, 'objective': 'binary', 'metric': 'auc', 'verbose': -1, 'learning_rate': 0.005003585055247969, 'n_estimators': 346, 'min_child_samples': 30, 'subsample': 0.8, 'colsample_bytree': 0.6}. Best is trial 22 with value: 0.7350351560472788.\n",
      "[I 2025-02-26 06:08:49,594] Trial 23 finished with value: 0.7350639835469677 and parameters: {'num_iterations': 2053, 'objective': 'binary', 'metric': 'auc', 'verbose': -1, 'learning_rate': 0.005112411286064805, 'n_estimators': 303, 'min_child_samples': 30, 'subsample': 0.9, 'colsample_bytree': 0.6}. Best is trial 23 with value: 0.7350639835469677.\n",
      "[I 2025-02-26 06:09:12,373] Trial 24 finished with value: 0.7350565810866535 and parameters: {'num_iterations': 2066, 'objective': 'binary', 'metric': 'auc', 'verbose': -1, 'learning_rate': 0.005037088875360725, 'n_estimators': 308, 'min_child_samples': 35, 'subsample': 0.8, 'colsample_bytree': 0.5}. Best is trial 23 with value: 0.7350639835469677.\n",
      "[I 2025-02-26 06:09:34,256] Trial 25 finished with value: 0.7351910683820063 and parameters: {'num_iterations': 2083, 'objective': 'binary', 'metric': 'auc', 'verbose': -1, 'learning_rate': 0.009943109837634882, 'n_estimators': 299, 'min_child_samples': 35, 'subsample': 0.8, 'colsample_bytree': 0.5}. Best is trial 25 with value: 0.7351910683820063.\n",
      "[I 2025-02-26 06:09:57,158] Trial 26 finished with value: 0.7349867501520165 and parameters: {'num_iterations': 2173, 'objective': 'binary', 'metric': 'auc', 'verbose': -1, 'learning_rate': 0.009364580798509478, 'n_estimators': 601, 'min_child_samples': 40, 'subsample': 0.7, 'colsample_bytree': 0.5}. Best is trial 25 with value: 0.7351910683820063.\n",
      "[I 2025-02-26 06:10:17,860] Trial 27 finished with value: 0.7342398562029194 and parameters: {'num_iterations': 1994, 'objective': 'binary', 'metric': 'auc', 'verbose': -1, 'learning_rate': 0.013855304975625607, 'n_estimators': 286, 'min_child_samples': 35, 'subsample': 0.8, 'colsample_bytree': 0.5}. Best is trial 25 with value: 0.7351910683820063.\n",
      "[I 2025-02-26 06:10:41,577] Trial 28 finished with value: 0.7350217450448748 and parameters: {'num_iterations': 2253, 'objective': 'binary', 'metric': 'auc', 'verbose': -1, 'learning_rate': 0.009648233210868976, 'n_estimators': 462, 'min_child_samples': 40, 'subsample': 0.6, 'colsample_bytree': 0.5}. Best is trial 25 with value: 0.7351910683820063.\n",
      "[I 2025-02-26 06:11:07,538] Trial 29 finished with value: 0.7350489443209969 and parameters: {'num_iterations': 2431, 'objective': 'binary', 'metric': 'auc', 'verbose': -1, 'learning_rate': 0.006537266179441865, 'n_estimators': 309, 'min_child_samples': 45, 'subsample': 0.7, 'colsample_bytree': 0.5}. Best is trial 25 with value: 0.7351910683820063.\n",
      "[I 2025-02-26 06:11:29,370] Trial 30 finished with value: 0.73521361729277 and parameters: {'num_iterations': 2026, 'objective': 'binary', 'metric': 'auc', 'verbose': -1, 'learning_rate': 0.007156536539413739, 'n_estimators': 656, 'min_child_samples': 45, 'subsample': 0.8, 'colsample_bytree': 0.5}. Best is trial 30 with value: 0.73521361729277.\n",
      "[I 2025-02-26 06:11:51,415] Trial 31 finished with value: 0.7350630066128275 and parameters: {'num_iterations': 2041, 'objective': 'binary', 'metric': 'auc', 'verbose': -1, 'learning_rate': 0.006481484111124684, 'n_estimators': 664, 'min_child_samples': 50, 'subsample': 0.8, 'colsample_bytree': 0.5}. Best is trial 30 with value: 0.73521361729277.\n",
      "[I 2025-02-26 06:12:14,574] Trial 32 finished with value: 0.7351547153124165 and parameters: {'num_iterations': 2163, 'objective': 'binary', 'metric': 'auc', 'verbose': -1, 'learning_rate': 0.00707482786894823, 'n_estimators': 706, 'min_child_samples': 50, 'subsample': 0.9, 'colsample_bytree': 0.5}. Best is trial 30 with value: 0.73521361729277.\n",
      "[I 2025-02-26 06:12:38,820] Trial 33 finished with value: 0.735060040068914 and parameters: {'num_iterations': 2284, 'objective': 'binary', 'metric': 'auc', 'verbose': -1, 'learning_rate': 0.0077577410868282315, 'n_estimators': 559, 'min_child_samples': 45, 'subsample': 0.9, 'colsample_bytree': 0.5}. Best is trial 30 with value: 0.73521361729277.\n",
      "[I 2025-02-26 06:13:03,148] Trial 34 finished with value: 0.7345652149843651 and parameters: {'num_iterations': 2356, 'objective': 'binary', 'metric': 'auc', 'verbose': -1, 'learning_rate': 0.011462757020826149, 'n_estimators': 957, 'min_child_samples': 50, 'subsample': 0.9, 'colsample_bytree': 0.5}. Best is trial 30 with value: 0.73521361729277.\n",
      "[I 2025-02-26 06:13:24,659] Trial 35 finished with value: 0.7350934305658674 and parameters: {'num_iterations': 2170, 'objective': 'binary', 'metric': 'auc', 'verbose': -1, 'learning_rate': 0.006143987079287097, 'n_estimators': 487, 'min_child_samples': 45, 'subsample': 0.9, 'colsample_bytree': 0.6}. Best is trial 30 with value: 0.73521361729277.\n",
      "[I 2025-02-26 06:13:48,206] Trial 36 finished with value: 0.7352137840864037 and parameters: {'num_iterations': 2177, 'objective': 'binary', 'metric': 'auc', 'verbose': -1, 'learning_rate': 0.006192765733467049, 'n_estimators': 974, 'min_child_samples': 45, 'subsample': 0.5, 'colsample_bytree': 0.5}. Best is trial 36 with value: 0.7352137840864037.\n",
      "[I 2025-02-26 06:14:04,363] Trial 37 finished with value: 0.7344870205403818 and parameters: {'num_iterations': 1946, 'objective': 'binary', 'metric': 'auc', 'verbose': -1, 'learning_rate': 0.009568388659313712, 'n_estimators': 923, 'min_child_samples': 50, 'subsample': 0.6, 'colsample_bytree': 1.0}. Best is trial 36 with value: 0.7352137840864037.\n",
      "[I 2025-02-26 06:14:27,199] Trial 38 finished with value: 0.7351384569044089 and parameters: {'num_iterations': 2131, 'objective': 'binary', 'metric': 'auc', 'verbose': -1, 'learning_rate': 0.007059043665273918, 'n_estimators': 689, 'min_child_samples': 45, 'subsample': 0.5, 'colsample_bytree': 0.5}. Best is trial 36 with value: 0.7352137840864037.\n",
      "[I 2025-02-26 06:14:52,765] Trial 39 finished with value: 0.7333283250235422 and parameters: {'num_iterations': 2521, 'objective': 'binary', 'metric': 'auc', 'verbose': -1, 'learning_rate': 0.017132360119757075, 'n_estimators': 979, 'min_child_samples': 40, 'subsample': 0.5, 'colsample_bytree': 0.5}. Best is trial 36 with value: 0.7352137840864037.\n"
     ]
    },
    {
     "name": "stdout",
     "output_type": "stream",
     "text": [
      "Cat val score : 0.7353969751227931\n",
      "LGBM val score : 0.7353687790561458\n",
      "Ensemble val score : 0.7356142953136564\n"
     ]
    },
    {
     "name": "stderr",
     "output_type": "stream",
     "text": [
      "[I 2025-02-26 06:15:17,843] A new study created in memory with name: no-name-bd790f6a-42e7-4be3-847b-c57bb2354c2f\n"
     ]
    },
    {
     "name": "stdout",
     "output_type": "stream",
     "text": [
      "==================================================\n",
      "0:\ttest: 0.7252655\tbest: 0.7252655 (0)\ttotal: 141ms\tremaining: 5m 34s\n",
      "300:\ttest: 0.7400266\tbest: 0.7400266 (300)\ttotal: 38.4s\tremaining: 4m 23s\n",
      "600:\ttest: 0.7416120\tbest: 0.7416120 (600)\ttotal: 1m 18s\tremaining: 3m 51s\n",
      "900:\ttest: 0.7421530\tbest: 0.7421649 (895)\ttotal: 1m 59s\tremaining: 3m 13s\n",
      "1200:\ttest: 0.7424199\tbest: 0.7424441 (1184)\ttotal: 2m 43s\tremaining: 2m 38s\n"
     ]
    },
    {
     "name": "stderr",
     "output_type": "stream",
     "text": [
      "[I 2025-02-26 06:18:47,549] Trial 0 finished with value: 0.7424441451407702 and parameters: {'iterations': 2366, 'depth': 10, 'learning_rate': 0.01181021951839225, 'l2_leaf_reg': 9.980783802743254}. Best is trial 0 with value: 0.7424441451407702.\n"
     ]
    },
    {
     "name": "stdout",
     "output_type": "stream",
     "text": [
      "Stopped by overfitting detector  (300 iterations wait)\n",
      "\n",
      "bestTest = 0.7424441451\n",
      "bestIteration = 1184\n",
      "\n",
      "Shrink model to first 1185 iterations.\n",
      "저장 완료\n",
      "0:\ttest: 0.6957634\tbest: 0.6957634 (0)\ttotal: 56.7ms\tremaining: 2m 4s\n",
      "300:\ttest: 0.7304658\tbest: 0.7304658 (300)\ttotal: 13.3s\tremaining: 1m 23s\n",
      "600:\ttest: 0.7346155\tbest: 0.7346155 (600)\ttotal: 26.5s\tremaining: 1m 10s\n",
      "900:\ttest: 0.7369594\tbest: 0.7369594 (900)\ttotal: 40.1s\tremaining: 57.5s\n",
      "1200:\ttest: 0.7382294\tbest: 0.7382294 (1200)\ttotal: 53.8s\tremaining: 44.4s\n",
      "1500:\ttest: 0.7389776\tbest: 0.7389776 (1500)\ttotal: 1m 7s\tremaining: 31.2s\n",
      "1800:\ttest: 0.7395833\tbest: 0.7395833 (1800)\ttotal: 1m 21s\tremaining: 17.8s\n",
      "2100:\ttest: 0.7399912\tbest: 0.7399912 (2100)\ttotal: 1m 35s\tremaining: 4.2s\n"
     ]
    },
    {
     "name": "stderr",
     "output_type": "stream",
     "text": [
      "[I 2025-02-26 06:20:28,247] Trial 1 finished with value: 0.7401386520529604 and parameters: {'iterations': 2193, 'depth': 4, 'learning_rate': 0.005671430811678843, 'l2_leaf_reg': 0.00012325230809466137}. Best is trial 0 with value: 0.7424441451407702.\n"
     ]
    },
    {
     "name": "stdout",
     "output_type": "stream",
     "text": [
      "2192:\ttest: 0.7401387\tbest: 0.7401387 (2192)\ttotal: 1m 40s\tremaining: 0us\n",
      "\n",
      "bestTest = 0.7401386521\n",
      "bestIteration = 2192\n",
      "\n",
      "0:\ttest: 0.6957634\tbest: 0.6957634 (0)\ttotal: 52.4ms\tremaining: 2m 12s\n",
      "300:\ttest: 0.7416193\tbest: 0.7417081 (288)\ttotal: 14.5s\tremaining: 1m 47s\n"
     ]
    },
    {
     "name": "stderr",
     "output_type": "stream",
     "text": [
      "[I 2025-02-26 06:20:57,160] Trial 2 finished with value: 0.7417080689502007 and parameters: {'iterations': 2535, 'depth': 4, 'learning_rate': 0.09275339199839054, 'l2_leaf_reg': 0.0008705394248343123}. Best is trial 0 with value: 0.7424441451407702.\n"
     ]
    },
    {
     "name": "stdout",
     "output_type": "stream",
     "text": [
      "Stopped by overfitting detector  (300 iterations wait)\n",
      "\n",
      "bestTest = 0.741708069\n",
      "bestIteration = 288\n",
      "\n",
      "Shrink model to first 289 iterations.\n",
      "0:\ttest: 0.6957634\tbest: 0.6957634 (0)\ttotal: 52.5ms\tremaining: 2m 2s\n",
      "300:\ttest: 0.7404779\tbest: 0.7404799 (299)\ttotal: 13.9s\tremaining: 1m 33s\n",
      "600:\ttest: 0.7415623\tbest: 0.7416403 (540)\ttotal: 28.6s\tremaining: 1m 22s\n",
      "900:\ttest: 0.7415865\tbest: 0.7417340 (789)\ttotal: 43.6s\tremaining: 1m 9s\n"
     ]
    },
    {
     "name": "stderr",
     "output_type": "stream",
     "text": [
      "[I 2025-02-26 06:21:50,665] Trial 3 finished with value: 0.741734021245347 and parameters: {'iterations': 2334, 'depth': 4, 'learning_rate': 0.04657568321363276, 'l2_leaf_reg': 0.0008640473331457248}. Best is trial 0 with value: 0.7424441451407702.\n"
     ]
    },
    {
     "name": "stdout",
     "output_type": "stream",
     "text": [
      "Stopped by overfitting detector  (300 iterations wait)\n",
      "\n",
      "bestTest = 0.7417340212\n",
      "bestIteration = 789\n",
      "\n",
      "Shrink model to first 790 iterations.\n",
      "0:\ttest: 0.7252544\tbest: 0.7252544 (0)\ttotal: 128ms\tremaining: 3m 43s\n",
      "300:\ttest: 0.7395072\tbest: 0.7395151 (298)\ttotal: 36.9s\tremaining: 2m 56s\n",
      "600:\ttest: 0.7407279\tbest: 0.7407656 (596)\ttotal: 1m 16s\tremaining: 2m 25s\n",
      "900:\ttest: 0.7404291\tbest: 0.7408060 (697)\ttotal: 1m 56s\tremaining: 1m 48s\n"
     ]
    },
    {
     "name": "stderr",
     "output_type": "stream",
     "text": [
      "[I 2025-02-26 06:24:00,774] Trial 4 finished with value: 0.7408060013238966 and parameters: {'iterations': 1742, 'depth': 10, 'learning_rate': 0.012622767482095846, 'l2_leaf_reg': 0.00021158816350109617}. Best is trial 0 with value: 0.7424441451407702.\n"
     ]
    },
    {
     "name": "stdout",
     "output_type": "stream",
     "text": [
      "Stopped by overfitting detector  (300 iterations wait)\n",
      "\n",
      "bestTest = 0.7408060013\n",
      "bestIteration = 697\n",
      "\n",
      "Shrink model to first 698 iterations.\n",
      "0:\ttest: 0.6957634\tbest: 0.6957634 (0)\ttotal: 51.9ms\tremaining: 1m 47s\n",
      "300:\ttest: 0.7410727\tbest: 0.7411859 (288)\ttotal: 14.2s\tremaining: 1m 23s\n",
      "600:\ttest: 0.7409527\tbest: 0.7411989 (354)\ttotal: 28.9s\tremaining: 1m 11s\n"
     ]
    },
    {
     "name": "stderr",
     "output_type": "stream",
     "text": [
      "[I 2025-02-26 06:24:32,495] Trial 5 finished with value: 0.7411988996131547 and parameters: {'iterations': 2082, 'depth': 4, 'learning_rate': 0.06995196593094148, 'l2_leaf_reg': 0.0018080296485396804}. Best is trial 0 with value: 0.7424441451407702.\n"
     ]
    },
    {
     "name": "stdout",
     "output_type": "stream",
     "text": [
      "Stopped by overfitting detector  (300 iterations wait)\n",
      "\n",
      "bestTest = 0.7411988996\n",
      "bestIteration = 354\n",
      "\n",
      "Shrink model to first 355 iterations.\n",
      "0:\ttest: 0.6993442\tbest: 0.6993442 (0)\ttotal: 64.6ms\tremaining: 2m 8s\n",
      "300:\ttest: 0.7418567\tbest: 0.7418574 (296)\ttotal: 17.5s\tremaining: 1m 38s\n",
      "600:\ttest: 0.7422167\tbest: 0.7422534 (579)\ttotal: 35.7s\tremaining: 1m 22s\n",
      "900:\ttest: 0.7422499\tbest: 0.7423608 (655)\ttotal: 53.8s\tremaining: 1m 5s\n"
     ]
    },
    {
     "name": "stderr",
     "output_type": "stream",
     "text": [
      "[I 2025-02-26 06:25:29,744] Trial 6 finished with value: 0.7423608436345743 and parameters: {'iterations': 1997, 'depth': 5, 'learning_rate': 0.07985155992831598, 'l2_leaf_reg': 62.52181000710482}. Best is trial 0 with value: 0.7424441451407702.\n"
     ]
    },
    {
     "name": "stdout",
     "output_type": "stream",
     "text": [
      "Stopped by overfitting detector  (300 iterations wait)\n",
      "\n",
      "bestTest = 0.7423608436\n",
      "bestIteration = 655\n",
      "\n",
      "Shrink model to first 656 iterations.\n",
      "0:\ttest: 0.7052108\tbest: 0.7052108 (0)\ttotal: 127ms\tremaining: 4m 4s\n",
      "300:\ttest: 0.7415835\tbest: 0.7419227 (221)\ttotal: 24.1s\tremaining: 2m 10s\n"
     ]
    },
    {
     "name": "stderr",
     "output_type": "stream",
     "text": [
      "[I 2025-02-26 06:26:12,552] Trial 7 finished with value: 0.7419226886727092 and parameters: {'iterations': 1927, 'depth': 7, 'learning_rate': 0.0941937211034094, 'l2_leaf_reg': 0.05654822767791934}. Best is trial 0 with value: 0.7424441451407702.\n"
     ]
    },
    {
     "name": "stdout",
     "output_type": "stream",
     "text": [
      "Stopped by overfitting detector  (300 iterations wait)\n",
      "\n",
      "bestTest = 0.7419226887\n",
      "bestIteration = 221\n",
      "\n",
      "Shrink model to first 222 iterations.\n",
      "0:\ttest: 0.7052104\tbest: 0.7052104 (0)\ttotal: 85.2ms\tremaining: 2m 42s\n",
      "300:\ttest: 0.7416430\tbest: 0.7417010 (296)\ttotal: 23.2s\tremaining: 2m 3s\n",
      "600:\ttest: 0.7415556\tbest: 0.7418433 (362)\ttotal: 48.5s\tremaining: 1m 45s\n"
     ]
    },
    {
     "name": "stderr",
     "output_type": "stream",
     "text": [
      "[I 2025-02-26 06:27:06,536] Trial 8 finished with value: 0.7418432710754121 and parameters: {'iterations': 1904, 'depth': 7, 'learning_rate': 0.05155602859187331, 'l2_leaf_reg': 1.299974533316308}. Best is trial 0 with value: 0.7424441451407702.\n"
     ]
    },
    {
     "name": "stdout",
     "output_type": "stream",
     "text": [
      "Stopped by overfitting detector  (300 iterations wait)\n",
      "\n",
      "bestTest = 0.7418432711\n",
      "bestIteration = 362\n",
      "\n",
      "Shrink model to first 363 iterations.\n",
      "0:\ttest: 0.7019502\tbest: 0.7019502 (0)\ttotal: 78.3ms\tremaining: 3m 26s\n",
      "300:\ttest: 0.7412510\tbest: 0.7412510 (300)\ttotal: 19.4s\tremaining: 2m 30s\n",
      "600:\ttest: 0.7422097\tbest: 0.7422773 (512)\ttotal: 40.8s\tremaining: 2m 18s\n"
     ]
    },
    {
     "name": "stderr",
     "output_type": "stream",
     "text": [
      "[I 2025-02-26 06:28:02,963] Trial 9 finished with value: 0.742277335621975 and parameters: {'iterations': 2639, 'depth': 6, 'learning_rate': 0.03968704290444751, 'l2_leaf_reg': 0.30557194377967184}. Best is trial 0 with value: 0.7424441451407702.\n"
     ]
    },
    {
     "name": "stdout",
     "output_type": "stream",
     "text": [
      "Stopped by overfitting detector  (300 iterations wait)\n",
      "\n",
      "bestTest = 0.7422773356\n",
      "bestIteration = 512\n",
      "\n",
      "Shrink model to first 513 iterations.\n",
      "0:\ttest: 0.7273107\tbest: 0.7273107 (0)\ttotal: 134ms\tremaining: 6m 35s\n",
      "300:\ttest: 0.7420906\tbest: 0.7420906 (300)\ttotal: 37.3s\tremaining: 5m 27s\n",
      "600:\ttest: 0.7429521\tbest: 0.7429521 (600)\ttotal: 1m 17s\tremaining: 5m 1s\n",
      "900:\ttest: 0.7429929\tbest: 0.7430400 (872)\ttotal: 2m 10s\tremaining: 4m 55s\n",
      "1200:\ttest: 0.7430299\tbest: 0.7430460 (1172)\ttotal: 3m 2s\tremaining: 4m 24s\n",
      "1500:\ttest: 0.7430612\tbest: 0.7430965 (1474)\ttotal: 3m 53s\tremaining: 3m 44s\n"
     ]
    },
    {
     "name": "stderr",
     "output_type": "stream",
     "text": [
      "[I 2025-02-26 06:32:44,162] Trial 10 finished with value: 0.7430964551857355 and parameters: {'iterations': 2945, 'depth': 10, 'learning_rate': 0.025911330134996406, 'l2_leaf_reg': 97.18545559492516}. Best is trial 10 with value: 0.7430964551857355.\n"
     ]
    },
    {
     "name": "stdout",
     "output_type": "stream",
     "text": [
      "Stopped by overfitting detector  (300 iterations wait)\n",
      "\n",
      "bestTest = 0.7430964552\n",
      "bestIteration = 1474\n",
      "\n",
      "Shrink model to first 1475 iterations.\n",
      "저장 완료\n",
      "0:\ttest: 0.7251571\tbest: 0.7251571 (0)\ttotal: 135ms\tremaining: 6m 43s\n",
      "300:\ttest: 0.7417087\tbest: 0.7417137 (299)\ttotal: 37.3s\tremaining: 5m 33s\n",
      "600:\ttest: 0.7427495\tbest: 0.7427495 (600)\ttotal: 1m 18s\tremaining: 5m 14s\n",
      "900:\ttest: 0.7428860\tbest: 0.7429034 (800)\ttotal: 2m 12s\tremaining: 5m 6s\n",
      "1200:\ttest: 0.7429913\tbest: 0.7429992 (1194)\ttotal: 3m 3s\tremaining: 4m 33s\n"
     ]
    },
    {
     "name": "stderr",
     "output_type": "stream",
     "text": [
      "[I 2025-02-26 06:36:38,047] Trial 11 finished with value: 0.742999214497296 and parameters: {'iterations': 2995, 'depth': 10, 'learning_rate': 0.026163874004606635, 'l2_leaf_reg': 73.1213351392818}. Best is trial 10 with value: 0.7430964551857355.\n"
     ]
    },
    {
     "name": "stdout",
     "output_type": "stream",
     "text": [
      "Stopped by overfitting detector  (300 iterations wait)\n",
      "\n",
      "bestTest = 0.7429992145\n",
      "bestIteration = 1194\n",
      "\n",
      "Shrink model to first 1195 iterations.\n",
      "0:\ttest: 0.7251459\tbest: 0.7251459 (0)\ttotal: 119ms\tremaining: 5m 43s\n",
      "300:\ttest: 0.7417646\tbest: 0.7417646 (299)\ttotal: 28.4s\tremaining: 4m 5s\n",
      "600:\ttest: 0.7425012\tbest: 0.7425127 (555)\ttotal: 57.5s\tremaining: 3m 39s\n",
      "900:\ttest: 0.7427186\tbest: 0.7427483 (828)\ttotal: 1m 29s\tremaining: 3m 18s\n",
      "1200:\ttest: 0.7428507\tbest: 0.7428600 (1055)\ttotal: 2m 2s\tremaining: 2m 52s\n"
     ]
    },
    {
     "name": "stderr",
     "output_type": "stream",
     "text": [
      "[I 2025-02-26 06:38:57,604] Trial 12 finished with value: 0.7428600450663689 and parameters: {'iterations': 2897, 'depth': 9, 'learning_rate': 0.02806616524326411, 'l2_leaf_reg': 87.13438924619796}. Best is trial 10 with value: 0.7430964551857355.\n"
     ]
    },
    {
     "name": "stdout",
     "output_type": "stream",
     "text": [
      "Stopped by overfitting detector  (300 iterations wait)\n",
      "\n",
      "bestTest = 0.7428600451\n",
      "bestIteration = 1055\n",
      "\n",
      "Shrink model to first 1056 iterations.\n",
      "0:\ttest: 0.7252605\tbest: 0.7252605 (0)\ttotal: 115ms\tremaining: 5m 40s\n",
      "300:\ttest: 0.7419797\tbest: 0.7419797 (300)\ttotal: 28.6s\tremaining: 4m 13s\n",
      "600:\ttest: 0.7426525\tbest: 0.7427082 (587)\ttotal: 59.5s\tremaining: 3m 54s\n",
      "900:\ttest: 0.7425025\tbest: 0.7427228 (646)\ttotal: 1m 33s\tremaining: 3m 34s\n"
     ]
    },
    {
     "name": "stderr",
     "output_type": "stream",
     "text": [
      "[I 2025-02-26 06:40:36,035] Trial 13 finished with value: 0.7427228136186144 and parameters: {'iterations': 2975, 'depth': 9, 'learning_rate': 0.028913180830738475, 'l2_leaf_reg': 7.828901342687942}. Best is trial 10 with value: 0.7430964551857355.\n"
     ]
    },
    {
     "name": "stdout",
     "output_type": "stream",
     "text": [
      "Stopped by overfitting detector  (300 iterations wait)\n",
      "\n",
      "bestTest = 0.7427228136\n",
      "bestIteration = 646\n",
      "\n",
      "Shrink model to first 647 iterations.\n",
      "0:\ttest: 0.7252556\tbest: 0.7252556 (0)\ttotal: 115ms\tremaining: 5m 16s\n",
      "300:\ttest: 0.7415767\tbest: 0.7415780 (299)\ttotal: 28.4s\tremaining: 3m 51s\n",
      "600:\ttest: 0.7423543\tbest: 0.7423922 (579)\ttotal: 59.3s\tremaining: 3m 32s\n",
      "900:\ttest: 0.7420375\tbest: 0.7423992 (622)\ttotal: 1m 33s\tremaining: 3m 11s\n"
     ]
    },
    {
     "name": "stderr",
     "output_type": "stream",
     "text": [
      "[I 2025-02-26 06:42:11,783] Trial 14 finished with value: 0.7423991585149985 and parameters: {'iterations': 2754, 'depth': 9, 'learning_rate': 0.02781621679423573, 'l2_leaf_reg': 7.067045463613257}. Best is trial 10 with value: 0.7430964551857355.\n"
     ]
    },
    {
     "name": "stdout",
     "output_type": "stream",
     "text": [
      "Stopped by overfitting detector  (300 iterations wait)\n",
      "\n",
      "bestTest = 0.7423991585\n",
      "bestIteration = 622\n",
      "\n",
      "Shrink model to first 623 iterations.\n",
      "0:\ttest: 0.7191638\tbest: 0.7191638 (0)\ttotal: 101ms\tremaining: 2m 33s\n",
      "300:\ttest: 0.7412272\tbest: 0.7413902 (282)\ttotal: 26.8s\tremaining: 1m 47s\n",
      "600:\ttest: 0.7392782\tbest: 0.7414720 (320)\ttotal: 55.9s\tremaining: 1m 24s\n"
     ]
    },
    {
     "name": "stderr",
     "output_type": "stream",
     "text": [
      "[I 2025-02-26 06:43:09,875] Trial 15 finished with value: 0.7414719606478856 and parameters: {'iterations': 1513, 'depth': 8, 'learning_rate': 0.06347916602487957, 'l2_leaf_reg': 0.026986971696484528}. Best is trial 10 with value: 0.7430964551857355.\n"
     ]
    },
    {
     "name": "stdout",
     "output_type": "stream",
     "text": [
      "Stopped by overfitting detector  (300 iterations wait)\n",
      "\n",
      "bestTest = 0.7414719606\n",
      "bestIteration = 320\n",
      "\n",
      "Shrink model to first 321 iterations.\n",
      "0:\ttest: 0.7252537\tbest: 0.7252537 (0)\ttotal: 129ms\tremaining: 5m 58s\n",
      "300:\ttest: 0.7419002\tbest: 0.7419002 (300)\ttotal: 39s\tremaining: 5m 22s\n",
      "600:\ttest: 0.7409610\tbest: 0.7421399 (349)\ttotal: 1m 23s\tremaining: 5m 3s\n"
     ]
    },
    {
     "name": "stderr",
     "output_type": "stream",
     "text": [
      "[I 2025-02-26 06:44:41,187] Trial 16 finished with value: 0.7421398698688778 and parameters: {'iterations': 2789, 'depth': 10, 'learning_rate': 0.03780133673970677, 'l2_leaf_reg': 0.8358313275560093}. Best is trial 10 with value: 0.7430964551857355.\n"
     ]
    },
    {
     "name": "stdout",
     "output_type": "stream",
     "text": [
      "Stopped by overfitting detector  (300 iterations wait)\n",
      "\n",
      "bestTest = 0.7421398699\n",
      "bestIteration = 349\n",
      "\n",
      "Shrink model to first 350 iterations.\n",
      "0:\ttest: 0.7191771\tbest: 0.7191771 (0)\ttotal: 103ms\tremaining: 5m 7s\n",
      "300:\ttest: 0.7409724\tbest: 0.7409887 (298)\ttotal: 26s\tremaining: 3m 53s\n",
      "600:\ttest: 0.7422968\tbest: 0.7422968 (600)\ttotal: 51.6s\tremaining: 3m 25s\n",
      "900:\ttest: 0.7428679\tbest: 0.7428738 (897)\ttotal: 1m 20s\tremaining: 3m 6s\n",
      "1200:\ttest: 0.7429884\tbest: 0.7430330 (1167)\ttotal: 1m 48s\tremaining: 2m 42s\n"
     ]
    },
    {
     "name": "stderr",
     "output_type": "stream",
     "text": [
      "[I 2025-02-26 06:46:55,630] Trial 17 finished with value: 0.7430330299208876 and parameters: {'iterations': 2999, 'depth': 8, 'learning_rate': 0.020683376194142355, 'l2_leaf_reg': 17.971321588436567}. Best is trial 10 with value: 0.7430964551857355.\n"
     ]
    },
    {
     "name": "stdout",
     "output_type": "stream",
     "text": [
      "Stopped by overfitting detector  (300 iterations wait)\n",
      "\n",
      "bestTest = 0.7430330299\n",
      "bestIteration = 1167\n",
      "\n",
      "Shrink model to first 1168 iterations.\n",
      "0:\ttest: 0.7191794\tbest: 0.7191794 (0)\ttotal: 108ms\tremaining: 4m 37s\n",
      "300:\ttest: 0.7406673\tbest: 0.7406673 (300)\ttotal: 25.2s\tremaining: 3m 10s\n",
      "600:\ttest: 0.7418940\tbest: 0.7418945 (599)\ttotal: 50.7s\tremaining: 2m 46s\n",
      "900:\ttest: 0.7425054\tbest: 0.7425202 (869)\ttotal: 1m 18s\tremaining: 2m 25s\n",
      "1200:\ttest: 0.7427544\tbest: 0.7427843 (1183)\ttotal: 1m 47s\tremaining: 2m 2s\n"
     ]
    },
    {
     "name": "stderr",
     "output_type": "stream",
     "text": [
      "[I 2025-02-26 06:49:10,230] Trial 18 finished with value: 0.7427842850151821 and parameters: {'iterations': 2573, 'depth': 8, 'learning_rate': 0.018856635917961204, 'l2_leaf_reg': 16.428922405787755}. Best is trial 10 with value: 0.7430964551857355.\n"
     ]
    },
    {
     "name": "stdout",
     "output_type": "stream",
     "text": [
      "Stopped by overfitting detector  (300 iterations wait)\n",
      "\n",
      "bestTest = 0.742784285\n",
      "bestIteration = 1183\n",
      "\n",
      "Shrink model to first 1184 iterations.\n",
      "0:\ttest: 0.7191629\tbest: 0.7191629 (0)\ttotal: 105ms\tremaining: 4m 49s\n",
      "300:\ttest: 0.7418517\tbest: 0.7418595 (299)\ttotal: 24.8s\tremaining: 3m 24s\n",
      "600:\ttest: 0.7422980\tbest: 0.7424033 (512)\ttotal: 53.8s\tremaining: 3m 14s\n",
      "900:\ttest: 0.7420963\tbest: 0.7424486 (695)\ttotal: 1m 22s\tremaining: 2m 52s\n"
     ]
    },
    {
     "name": "stderr",
     "output_type": "stream",
     "text": [
      "[I 2025-02-26 06:50:42,566] Trial 19 finished with value: 0.7424485731146168 and parameters: {'iterations': 2775, 'depth': 8, 'learning_rate': 0.03922767601577183, 'l2_leaf_reg': 2.276175005448344}. Best is trial 10 with value: 0.7430964551857355.\n"
     ]
    },
    {
     "name": "stdout",
     "output_type": "stream",
     "text": [
      "Stopped by overfitting detector  (300 iterations wait)\n",
      "\n",
      "bestTest = 0.7424485731\n",
      "bestIteration = 695\n",
      "\n",
      "Shrink model to first 696 iterations.\n",
      "0:\ttest: 0.7052108\tbest: 0.7052108 (0)\ttotal: 89.2ms\tremaining: 3m 36s\n",
      "300:\ttest: 0.7414248\tbest: 0.7414937 (293)\ttotal: 23.8s\tremaining: 2m 48s\n",
      "600:\ttest: 0.7400791\tbest: 0.7415544 (336)\ttotal: 48.9s\tremaining: 2m 28s\n"
     ]
    },
    {
     "name": "stderr",
     "output_type": "stream",
     "text": [
      "[I 2025-02-26 06:51:34,760] Trial 20 finished with value: 0.741554384501866 and parameters: {'iterations': 2423, 'depth': 7, 'learning_rate': 0.06029560487955421, 'l2_leaf_reg': 0.012990508780008181}. Best is trial 10 with value: 0.7430964551857355.\n"
     ]
    },
    {
     "name": "stdout",
     "output_type": "stream",
     "text": [
      "Stopped by overfitting detector  (300 iterations wait)\n",
      "\n",
      "bestTest = 0.7415543845\n",
      "bestIteration = 336\n",
      "\n",
      "Shrink model to first 337 iterations.\n",
      "0:\ttest: 0.7252173\tbest: 0.7252173 (0)\ttotal: 111ms\tremaining: 5m 32s\n",
      "300:\ttest: 0.7413837\tbest: 0.7413857 (299)\ttotal: 28.4s\tremaining: 4m 13s\n",
      "600:\ttest: 0.7423959\tbest: 0.7424090 (593)\ttotal: 56.8s\tremaining: 3m 45s\n",
      "900:\ttest: 0.7427523\tbest: 0.7427683 (795)\ttotal: 1m 29s\tremaining: 3m 27s\n"
     ]
    },
    {
     "name": "stderr",
     "output_type": "stream",
     "text": [
      "[I 2025-02-26 06:53:26,242] Trial 21 finished with value: 0.742768328424226 and parameters: {'iterations': 2987, 'depth': 9, 'learning_rate': 0.022548940055710683, 'l2_leaf_reg': 33.894253733241094}. Best is trial 10 with value: 0.7430964551857355.\n"
     ]
    },
    {
     "name": "stdout",
     "output_type": "stream",
     "text": [
      "Stopped by overfitting detector  (300 iterations wait)\n",
      "\n",
      "bestTest = 0.7427683284\n",
      "bestIteration = 795\n",
      "\n",
      "Shrink model to first 796 iterations.\n",
      "0:\ttest: 0.7251641\tbest: 0.7251641 (0)\ttotal: 131ms\tremaining: 6m 15s\n",
      "300:\ttest: 0.7410942\tbest: 0.7410942 (300)\ttotal: 37.5s\tremaining: 5m 18s\n",
      "600:\ttest: 0.7423706\tbest: 0.7423799 (598)\ttotal: 1m 13s\tremaining: 4m 36s\n",
      "900:\ttest: 0.7429123\tbest: 0.7429123 (900)\ttotal: 1m 57s\tremaining: 4m 14s\n",
      "1200:\ttest: 0.7430763\tbest: 0.7430873 (1183)\ttotal: 2m 49s\tremaining: 3m 53s\n",
      "1500:\ttest: 0.7430298\tbest: 0.7431021 (1300)\ttotal: 3m 41s\tremaining: 3m 20s\n"
     ]
    },
    {
     "name": "stderr",
     "output_type": "stream",
     "text": [
      "[I 2025-02-26 06:57:25,797] Trial 22 finished with value: 0.743102126169281 and parameters: {'iterations': 2857, 'depth': 10, 'learning_rate': 0.0172159150005979, 'l2_leaf_reg': 85.05556406303693}. Best is trial 22 with value: 0.743102126169281.\n"
     ]
    },
    {
     "name": "stdout",
     "output_type": "stream",
     "text": [
      "Stopped by overfitting detector  (300 iterations wait)\n",
      "\n",
      "bestTest = 0.7431021262\n",
      "bestIteration = 1300\n",
      "\n",
      "Shrink model to first 1301 iterations.\n",
      "저장 완료\n",
      "0:\ttest: 0.7252517\tbest: 0.7252517 (0)\ttotal: 111ms\tremaining: 5m 16s\n",
      "300:\ttest: 0.7371873\tbest: 0.7371873 (300)\ttotal: 28.5s\tremaining: 4m 1s\n",
      "600:\ttest: 0.7398200\tbest: 0.7398200 (600)\ttotal: 57.5s\tremaining: 3m 35s\n",
      "900:\ttest: 0.7409894\tbest: 0.7409894 (900)\ttotal: 1m 26s\tremaining: 3m 6s\n",
      "1200:\ttest: 0.7416493\tbest: 0.7416494 (1199)\ttotal: 1m 54s\tremaining: 2m 36s\n",
      "1500:\ttest: 0.7420150\tbest: 0.7420150 (1500)\ttotal: 2m 21s\tremaining: 2m 7s\n",
      "1800:\ttest: 0.7422677\tbest: 0.7422677 (1800)\ttotal: 2m 49s\tremaining: 1m 38s\n",
      "2100:\ttest: 0.7424744\tbest: 0.7424746 (2097)\ttotal: 3m 17s\tremaining: 1m 10s\n",
      "2400:\ttest: 0.7426014\tbest: 0.7426014 (2400)\ttotal: 3m 49s\tremaining: 43s\n",
      "2700:\ttest: 0.7427260\tbest: 0.7427265 (2695)\ttotal: 4m 23s\tremaining: 14.5s\n"
     ]
    },
    {
     "name": "stderr",
     "output_type": "stream",
     "text": [
      "[I 2025-02-26 07:02:06,465] Trial 23 finished with value: 0.7427417486673149 and parameters: {'iterations': 2850, 'depth': 9, 'learning_rate': 0.006214991682180192, 'l2_leaf_reg': 23.65961271124125}. Best is trial 22 with value: 0.743102126169281.\n"
     ]
    },
    {
     "name": "stdout",
     "output_type": "stream",
     "text": [
      "2849:\ttest: 0.7427398\tbest: 0.7427417 (2801)\ttotal: 4m 40s\tremaining: 0us\n",
      "\n",
      "bestTest = 0.7427417487\n",
      "bestIteration = 2801\n",
      "\n",
      "Shrink model to first 2802 iterations.\n",
      "0:\ttest: 0.7019502\tbest: 0.7019502 (0)\ttotal: 78.5ms\tremaining: 3m 28s\n",
      "300:\ttest: 0.7385664\tbest: 0.7385664 (299)\ttotal: 19s\tremaining: 2m 29s\n",
      "600:\ttest: 0.7407305\tbest: 0.7407312 (599)\ttotal: 39s\tremaining: 2m 13s\n",
      "900:\ttest: 0.7415886\tbest: 0.7415886 (899)\ttotal: 59.8s\tremaining: 1m 56s\n",
      "1200:\ttest: 0.7420395\tbest: 0.7420456 (1196)\ttotal: 1m 21s\tremaining: 1m 39s\n",
      "1500:\ttest: 0.7422962\tbest: 0.7422962 (1500)\ttotal: 1m 42s\tremaining: 1m 19s\n",
      "1800:\ttest: 0.7424168\tbest: 0.7424168 (1800)\ttotal: 2m 4s\tremaining: 59.6s\n",
      "2100:\ttest: 0.7424713\tbest: 0.7424997 (2013)\ttotal: 2m 26s\tremaining: 39.1s\n",
      "2400:\ttest: 0.7424109\tbest: 0.7425101 (2188)\ttotal: 2m 48s\tremaining: 18.4s\n"
     ]
    },
    {
     "name": "stderr",
     "output_type": "stream",
     "text": [
      "[I 2025-02-26 07:05:01,421] Trial 24 finished with value: 0.7425101398218323 and parameters: {'iterations': 2663, 'depth': 6, 'learning_rate': 0.014961875695301762, 'l2_leaf_reg': 3.444415533963543}. Best is trial 22 with value: 0.743102126169281.\n"
     ]
    },
    {
     "name": "stdout",
     "output_type": "stream",
     "text": [
      "Stopped by overfitting detector  (300 iterations wait)\n",
      "\n",
      "bestTest = 0.7425101398\n",
      "bestIteration = 2188\n",
      "\n",
      "Shrink model to first 2189 iterations.\n",
      "0:\ttest: 0.7191636\tbest: 0.7191636 (0)\ttotal: 102ms\tremaining: 4m 54s\n",
      "300:\ttest: 0.7418963\tbest: 0.7419008 (297)\ttotal: 25.5s\tremaining: 3m 38s\n",
      "600:\ttest: 0.7428034\tbest: 0.7428369 (514)\ttotal: 53.9s\tremaining: 3m 24s\n"
     ]
    },
    {
     "name": "stderr",
     "output_type": "stream",
     "text": [
      "[I 2025-02-26 07:06:16,282] Trial 25 finished with value: 0.7428368726651176 and parameters: {'iterations': 2879, 'depth': 8, 'learning_rate': 0.03326960029531885, 'l2_leaf_reg': 0.4304262831202464}. Best is trial 22 with value: 0.743102126169281.\n"
     ]
    },
    {
     "name": "stdout",
     "output_type": "stream",
     "text": [
      "Stopped by overfitting detector  (300 iterations wait)\n",
      "\n",
      "bestTest = 0.7428368727\n",
      "bestIteration = 514\n",
      "\n",
      "Shrink model to first 515 iterations.\n",
      "0:\ttest: 0.7252531\tbest: 0.7252531 (0)\ttotal: 131ms\tremaining: 5m 50s\n",
      "300:\ttest: 0.7414993\tbest: 0.7414993 (300)\ttotal: 38s\tremaining: 4m 59s\n",
      "600:\ttest: 0.7425135\tbest: 0.7425165 (599)\ttotal: 1m 16s\tremaining: 4m 22s\n",
      "900:\ttest: 0.7429657\tbest: 0.7429776 (886)\ttotal: 2m 1s\tremaining: 3m 58s\n",
      "1200:\ttest: 0.7429736\tbest: 0.7430056 (1154)\ttotal: 2m 50s\tremaining: 3m 29s\n"
     ]
    },
    {
     "name": "stderr",
     "output_type": "stream",
     "text": [
      "[I 2025-02-26 07:09:49,291] Trial 26 finished with value: 0.743005568540484 and parameters: {'iterations': 2674, 'depth': 10, 'learning_rate': 0.019501547959967173, 'l2_leaf_reg': 24.7956538709994}. Best is trial 22 with value: 0.743102126169281.\n"
     ]
    },
    {
     "name": "stdout",
     "output_type": "stream",
     "text": [
      "Stopped by overfitting detector  (300 iterations wait)\n",
      "\n",
      "bestTest = 0.7430055685\n",
      "bestIteration = 1154\n",
      "\n",
      "Shrink model to first 1155 iterations.\n",
      "0:\ttest: 0.7251459\tbest: 0.7251459 (0)\ttotal: 115ms\tremaining: 4m 44s\n",
      "300:\ttest: 0.7422228\tbest: 0.7422233 (298)\ttotal: 28.1s\tremaining: 3m 23s\n",
      "600:\ttest: 0.7425554\tbest: 0.7425988 (578)\ttotal: 1m\tremaining: 3m 8s\n",
      "900:\ttest: 0.7424400\tbest: 0.7426259 (634)\ttotal: 1m 32s\tremaining: 2m 42s\n"
     ]
    },
    {
     "name": "stderr",
     "output_type": "stream",
     "text": [
      "[I 2025-02-26 07:11:25,864] Trial 27 finished with value: 0.7426258747472263 and parameters: {'iterations': 2478, 'depth': 9, 'learning_rate': 0.04571286270661632, 'l2_leaf_reg': 88.18427774834213}. Best is trial 22 with value: 0.743102126169281.\n"
     ]
    },
    {
     "name": "stdout",
     "output_type": "stream",
     "text": [
      "Stopped by overfitting detector  (300 iterations wait)\n",
      "\n",
      "bestTest = 0.7426258747\n",
      "bestIteration = 634\n",
      "\n",
      "Shrink model to first 635 iterations.\n",
      "0:\ttest: 0.7019502\tbest: 0.7019502 (0)\ttotal: 76.9ms\tremaining: 3m 42s\n",
      "300:\ttest: 0.7409931\tbest: 0.7409931 (300)\ttotal: 19.9s\tremaining: 2m 51s\n",
      "600:\ttest: 0.7422792\tbest: 0.7422801 (599)\ttotal: 41.2s\tremaining: 2m 37s\n",
      "900:\ttest: 0.7424440\tbest: 0.7425086 (780)\ttotal: 1m 2s\tremaining: 2m 19s\n",
      "1200:\ttest: 0.7425444\tbest: 0.7425452 (1097)\ttotal: 1m 24s\tremaining: 1m 59s\n",
      "1500:\ttest: 0.7424366\tbest: 0.7425783 (1244)\ttotal: 1m 46s\tremaining: 1m 38s\n"
     ]
    },
    {
     "name": "stderr",
     "output_type": "stream",
     "text": [
      "[I 2025-02-26 07:13:15,831] Trial 28 finished with value: 0.7425783107626864 and parameters: {'iterations': 2896, 'depth': 6, 'learning_rate': 0.03418568777649425, 'l2_leaf_reg': 3.556368339397184}. Best is trial 22 with value: 0.743102126169281.\n"
     ]
    },
    {
     "name": "stdout",
     "output_type": "stream",
     "text": [
      "Stopped by overfitting detector  (300 iterations wait)\n",
      "\n",
      "bestTest = 0.7425783108\n",
      "bestIteration = 1244\n",
      "\n",
      "Shrink model to first 1245 iterations.\n",
      "0:\ttest: 0.7252643\tbest: 0.7252643 (0)\ttotal: 129ms\tremaining: 5m 56s\n",
      "300:\ttest: 0.7398428\tbest: 0.7398428 (300)\ttotal: 36.9s\tremaining: 5m 1s\n",
      "600:\ttest: 0.7417992\tbest: 0.7417992 (600)\ttotal: 1m 15s\tremaining: 4m 31s\n",
      "900:\ttest: 0.7423370\tbest: 0.7423370 (900)\ttotal: 1m 55s\tremaining: 3m 58s\n",
      "1200:\ttest: 0.7425979\tbest: 0.7426044 (1197)\ttotal: 2m 36s\tremaining: 3m 23s\n",
      "1500:\ttest: 0.7427496\tbest: 0.7427757 (1465)\ttotal: 3m 21s\tremaining: 2m 49s\n",
      "1800:\ttest: 0.7426994\tbest: 0.7428210 (1599)\ttotal: 4m 9s\tremaining: 2m 12s\n"
     ]
    },
    {
     "name": "stderr",
     "output_type": "stream",
     "text": [
      "[I 2025-02-26 07:17:41,778] Trial 29 finished with value: 0.7428209637294854 and parameters: {'iterations': 2761, 'depth': 10, 'learning_rate': 0.010944354037214499, 'l2_leaf_reg': 9.626994619429544}. Best is trial 22 with value: 0.743102126169281.\n"
     ]
    },
    {
     "name": "stdout",
     "output_type": "stream",
     "text": [
      "Stopped by overfitting detector  (300 iterations wait)\n",
      "\n",
      "bestTest = 0.7428209637\n",
      "bestIteration = 1599\n",
      "\n",
      "Shrink model to first 1600 iterations.\n",
      "0:\ttest: 0.7252224\tbest: 0.7252224 (0)\ttotal: 132ms\tremaining: 5m 4s\n",
      "300:\ttest: 0.7410458\tbest: 0.7410458 (300)\ttotal: 38.4s\tremaining: 4m 16s\n",
      "600:\ttest: 0.7421585\tbest: 0.7421585 (600)\ttotal: 1m 17s\tremaining: 3m 41s\n",
      "900:\ttest: 0.7426885\tbest: 0.7426891 (899)\ttotal: 2m 3s\tremaining: 3m 12s\n",
      "1200:\ttest: 0.7428611\tbest: 0.7428820 (1138)\ttotal: 2m 53s\tremaining: 2m 40s\n",
      "1500:\ttest: 0.7427665\tbest: 0.7429061 (1251)\ttotal: 3m 43s\tremaining: 2m\n"
     ]
    },
    {
     "name": "stderr",
     "output_type": "stream",
     "text": [
      "[I 2025-02-26 07:21:34,205] Trial 30 finished with value: 0.7429060801092666 and parameters: {'iterations': 2309, 'depth': 10, 'learning_rate': 0.01825011927471943, 'l2_leaf_reg': 33.99451212525741}. Best is trial 22 with value: 0.743102126169281.\n"
     ]
    },
    {
     "name": "stdout",
     "output_type": "stream",
     "text": [
      "Stopped by overfitting detector  (300 iterations wait)\n",
      "\n",
      "bestTest = 0.7429060801\n",
      "bestIteration = 1251\n",
      "\n",
      "Shrink model to first 1252 iterations.\n",
      "0:\ttest: 0.7252770\tbest: 0.7252770 (0)\ttotal: 133ms\tremaining: 5m 50s\n",
      "300:\ttest: 0.7413667\tbest: 0.7413667 (300)\ttotal: 38.6s\tremaining: 5m\n",
      "600:\ttest: 0.7423044\tbest: 0.7423095 (598)\ttotal: 1m 19s\tremaining: 4m 30s\n",
      "900:\ttest: 0.7425785\tbest: 0.7425785 (900)\ttotal: 2m 8s\tremaining: 4m 9s\n",
      "1200:\ttest: 0.7424734\tbest: 0.7426414 (1075)\ttotal: 2m 58s\tremaining: 3m 34s\n"
     ]
    },
    {
     "name": "stderr",
     "output_type": "stream",
     "text": [
      "[I 2025-02-26 07:25:01,644] Trial 31 finished with value: 0.7426414024402671 and parameters: {'iterations': 2643, 'depth': 10, 'learning_rate': 0.021159404254174338, 'l2_leaf_reg': 19.713379591013787}. Best is trial 22 with value: 0.743102126169281.\n"
     ]
    },
    {
     "name": "stdout",
     "output_type": "stream",
     "text": [
      "Stopped by overfitting detector  (300 iterations wait)\n",
      "\n",
      "bestTest = 0.7426414024\n",
      "bestIteration = 1075\n",
      "\n",
      "Shrink model to first 1076 iterations.\n",
      "0:\ttest: 0.7252230\tbest: 0.7252230 (0)\ttotal: 133ms\tremaining: 5m 55s\n",
      "300:\ttest: 0.7371905\tbest: 0.7371905 (300)\ttotal: 36.8s\tremaining: 4m 51s\n",
      "600:\ttest: 0.7396975\tbest: 0.7396975 (600)\ttotal: 1m 14s\tremaining: 4m 17s\n",
      "900:\ttest: 0.7410114\tbest: 0.7410114 (900)\ttotal: 1m 53s\tremaining: 3m 43s\n",
      "1200:\ttest: 0.7417161\tbest: 0.7417161 (1200)\ttotal: 2m 32s\tremaining: 3m 7s\n",
      "1500:\ttest: 0.7420885\tbest: 0.7420885 (1500)\ttotal: 3m 11s\tremaining: 2m 30s\n",
      "1800:\ttest: 0.7423381\tbest: 0.7423409 (1795)\ttotal: 3m 49s\tremaining: 1m 51s\n",
      "2100:\ttest: 0.7425421\tbest: 0.7425442 (2096)\ttotal: 4m 27s\tremaining: 1m 13s\n",
      "2400:\ttest: 0.7426949\tbest: 0.7426956 (2398)\ttotal: 5m 5s\tremaining: 35.5s\n"
     ]
    },
    {
     "name": "stderr",
     "output_type": "stream",
     "text": [
      "[I 2025-02-26 07:30:46,624] Trial 32 finished with value: 0.7428402681069461 and parameters: {'iterations': 2680, 'depth': 10, 'learning_rate': 0.0052093317208131654, 'l2_leaf_reg': 30.210684683440906}. Best is trial 22 with value: 0.743102126169281.\n"
     ]
    },
    {
     "name": "stdout",
     "output_type": "stream",
     "text": [
      "2679:\ttest: 0.7428397\tbest: 0.7428403 (2650)\ttotal: 5m 44s\tremaining: 0us\n",
      "\n",
      "bestTest = 0.7428402681\n",
      "bestIteration = 2650\n",
      "\n",
      "Shrink model to first 2651 iterations.\n",
      "0:\ttest: 0.7252556\tbest: 0.7252556 (0)\ttotal: 115ms\tremaining: 5m 26s\n",
      "300:\ttest: 0.7398025\tbest: 0.7398025 (300)\ttotal: 28.8s\tremaining: 4m 2s\n",
      "600:\ttest: 0.7415873\tbest: 0.7415873 (600)\ttotal: 57.3s\tremaining: 3m 32s\n",
      "900:\ttest: 0.7421479\tbest: 0.7421493 (899)\ttotal: 1m 26s\tremaining: 3m 5s\n",
      "1200:\ttest: 0.7425041\tbest: 0.7425041 (1200)\ttotal: 1m 59s\tremaining: 2m 41s\n",
      "1500:\ttest: 0.7427113\tbest: 0.7427385 (1459)\ttotal: 2m 32s\tremaining: 2m 15s\n"
     ]
    },
    {
     "name": "stderr",
     "output_type": "stream",
     "text": [
      "[I 2025-02-26 07:33:48,869] Trial 33 finished with value: 0.742738516047843 and parameters: {'iterations': 2833, 'depth': 9, 'learning_rate': 0.012740153433780824, 'l2_leaf_reg': 7.049324872647267}. Best is trial 22 with value: 0.743102126169281.\n"
     ]
    },
    {
     "name": "stdout",
     "output_type": "stream",
     "text": [
      "Stopped by overfitting detector  (300 iterations wait)\n",
      "\n",
      "bestTest = 0.742738516\n",
      "bestIteration = 1459\n",
      "\n",
      "Shrink model to first 1460 iterations.\n",
      "0:\ttest: 0.7252256\tbest: 0.7252256 (0)\ttotal: 132ms\tremaining: 4m 48s\n",
      "300:\ttest: 0.7416065\tbest: 0.7416086 (298)\ttotal: 39.4s\tremaining: 4m 6s\n",
      "600:\ttest: 0.7426563\tbest: 0.7426579 (581)\ttotal: 1m 19s\tremaining: 3m 28s\n",
      "900:\ttest: 0.7430246\tbest: 0.7430563 (821)\ttotal: 2m 8s\tremaining: 3m 2s\n",
      "1200:\ttest: 0.7428977\tbest: 0.7430595 (918)\ttotal: 2m 59s\tremaining: 2m 26s\n"
     ]
    },
    {
     "name": "stderr",
     "output_type": "stream",
     "text": [
      "[I 2025-02-26 07:36:51,462] Trial 34 finished with value: 0.74305950245332 and parameters: {'iterations': 2181, 'depth': 10, 'learning_rate': 0.02191805639713047, 'l2_leaf_reg': 38.23497966455503}. Best is trial 22 with value: 0.743102126169281.\n"
     ]
    },
    {
     "name": "stdout",
     "output_type": "stream",
     "text": [
      "Stopped by overfitting detector  (300 iterations wait)\n",
      "\n",
      "bestTest = 0.7430595025\n",
      "bestIteration = 918\n",
      "\n",
      "Shrink model to first 919 iterations.\n",
      "0:\ttest: 0.7191713\tbest: 0.7191713 (0)\ttotal: 104ms\tremaining: 3m 40s\n",
      "300:\ttest: 0.7410390\tbest: 0.7410390 (300)\ttotal: 25.5s\tremaining: 2m 33s\n",
      "600:\ttest: 0.7423187\tbest: 0.7423336 (598)\ttotal: 50.5s\tremaining: 2m 6s\n",
      "900:\ttest: 0.7426516\tbest: 0.7426516 (900)\ttotal: 1m 19s\tremaining: 1m 46s\n",
      "1200:\ttest: 0.7427887\tbest: 0.7427896 (1198)\ttotal: 1m 47s\tremaining: 1m 21s\n",
      "1500:\ttest: 0.7428204\tbest: 0.7428509 (1489)\ttotal: 2m 16s\tremaining: 55.5s\n",
      "1800:\ttest: 0.7428526\tbest: 0.7428766 (1575)\ttotal: 2m 45s\tremaining: 28.4s\n"
     ]
    },
    {
     "name": "stderr",
     "output_type": "stream",
     "text": [
      "[I 2025-02-26 07:39:43,964] Trial 35 finished with value: 0.742876565578658 and parameters: {'iterations': 2111, 'depth': 8, 'learning_rate': 0.023702878961360606, 'l2_leaf_reg': 47.73136382311429}. Best is trial 22 with value: 0.743102126169281.\n"
     ]
    },
    {
     "name": "stdout",
     "output_type": "stream",
     "text": [
      "Stopped by overfitting detector  (300 iterations wait)\n",
      "\n",
      "bestTest = 0.7428765656\n",
      "bestIteration = 1575\n",
      "\n",
      "Shrink model to first 1576 iterations.\n",
      "0:\ttest: 0.7273108\tbest: 0.7273108 (0)\ttotal: 132ms\tremaining: 4m 51s\n",
      "300:\ttest: 0.7388600\tbest: 0.7388600 (300)\ttotal: 36.6s\tremaining: 3m 51s\n",
      "600:\ttest: 0.7411902\tbest: 0.7411902 (600)\ttotal: 1m 15s\tremaining: 3m 21s\n",
      "900:\ttest: 0.7420312\tbest: 0.7420312 (900)\ttotal: 1m 52s\tremaining: 2m 43s\n",
      "1200:\ttest: 0.7424411\tbest: 0.7424414 (1198)\ttotal: 2m 31s\tremaining: 2m 6s\n",
      "1500:\ttest: 0.7426819\tbest: 0.7426896 (1471)\ttotal: 3m 11s\tremaining: 1m 29s\n",
      "1800:\ttest: 0.7428500\tbest: 0.7428505 (1798)\ttotal: 4m 4s\tremaining: 55s\n",
      "2100:\ttest: 0.7429137\tbest: 0.7429209 (2073)\ttotal: 4m 58s\tremaining: 14.9s\n"
     ]
    },
    {
     "name": "stderr",
     "output_type": "stream",
     "text": [
      "[I 2025-02-26 07:45:01,413] Trial 36 finished with value: 0.742926198598511 and parameters: {'iterations': 2206, 'depth': 10, 'learning_rate': 0.009264861608654522, 'l2_leaf_reg': 95.73149498355852}. Best is trial 22 with value: 0.743102126169281.\n"
     ]
    },
    {
     "name": "stdout",
     "output_type": "stream",
     "text": [
      "2205:\ttest: 0.7429214\tbest: 0.7429262 (2158)\ttotal: 5m 17s\tremaining: 0us\n",
      "\n",
      "bestTest = 0.7429261986\n",
      "bestIteration = 2158\n",
      "\n",
      "Shrink model to first 2159 iterations.\n",
      "0:\ttest: 0.7252665\tbest: 0.7252665 (0)\ttotal: 113ms\tremaining: 4m 15s\n",
      "300:\ttest: 0.7417804\tbest: 0.7417804 (300)\ttotal: 28.2s\tremaining: 3m 2s\n",
      "600:\ttest: 0.7424080\tbest: 0.7424583 (554)\ttotal: 1m\tremaining: 2m 45s\n",
      "900:\ttest: 0.7425043\tbest: 0.7425740 (789)\ttotal: 1m 33s\tremaining: 2m 20s\n"
     ]
    },
    {
     "name": "stderr",
     "output_type": "stream",
     "text": [
      "[I 2025-02-26 07:46:56,018] Trial 37 finished with value: 0.7425740416399195 and parameters: {'iterations': 2253, 'depth': 9, 'learning_rate': 0.03210893116609709, 'l2_leaf_reg': 11.980885920238}. Best is trial 22 with value: 0.743102126169281.\n"
     ]
    },
    {
     "name": "stdout",
     "output_type": "stream",
     "text": [
      "Stopped by overfitting detector  (300 iterations wait)\n",
      "\n",
      "bestTest = 0.7425740416\n",
      "bestIteration = 789\n",
      "\n",
      "Shrink model to first 790 iterations.\n",
      "0:\ttest: 0.6993479\tbest: 0.6993479 (0)\ttotal: 69.8ms\tremaining: 2m 2s\n",
      "300:\ttest: 0.7421455\tbest: 0.7421494 (288)\ttotal: 17.7s\tremaining: 1m 25s\n",
      "600:\ttest: 0.7423946\tbest: 0.7424004 (598)\ttotal: 36s\tremaining: 1m 9s\n"
     ]
    },
    {
     "name": "stderr",
     "output_type": "stream",
     "text": [
      "[I 2025-02-26 07:47:50,554] Trial 38 finished with value: 0.7424003657832042 and parameters: {'iterations': 1754, 'depth': 5, 'learning_rate': 0.08029122983652683, 'l2_leaf_reg': 4.835962117540545}. Best is trial 22 with value: 0.743102126169281.\n"
     ]
    },
    {
     "name": "stdout",
     "output_type": "stream",
     "text": [
      "Stopped by overfitting detector  (300 iterations wait)\n",
      "\n",
      "bestTest = 0.7424003658\n",
      "bestIteration = 598\n",
      "\n",
      "Shrink model to first 599 iterations.\n",
      "0:\ttest: 0.7252543\tbest: 0.7252543 (0)\ttotal: 133ms\tremaining: 4m 41s\n",
      "300:\ttest: 0.7413650\tbest: 0.7417955 (204)\ttotal: 40.1s\tremaining: 4m 1s\n"
     ]
    },
    {
     "name": "stderr",
     "output_type": "stream",
     "text": [
      "[I 2025-02-26 07:49:01,435] Trial 39 finished with value: 0.7417955363259616 and parameters: {'iterations': 2111, 'depth': 10, 'learning_rate': 0.04553223444486671, 'l2_leaf_reg': 0.1335678024528371}. Best is trial 22 with value: 0.743102126169281.\n",
      "[I 2025-02-26 07:49:01,443] A new study created in memory with name: no-name-8e42c50d-c30b-4c89-abcc-654e19eb649c\n"
     ]
    },
    {
     "name": "stdout",
     "output_type": "stream",
     "text": [
      "Stopped by overfitting detector  (300 iterations wait)\n",
      "\n",
      "bestTest = 0.7417955363\n",
      "bestIteration = 204\n",
      "\n",
      "Shrink model to first 205 iterations.\n"
     ]
    },
    {
     "name": "stderr",
     "output_type": "stream",
     "text": [
      "[I 2025-02-26 07:49:24,637] Trial 0 finished with value: 0.734323773257049 and parameters: {'num_iterations': 2366, 'objective': 'binary', 'metric': 'auc', 'verbose': -1, 'learning_rate': 0.0652646236447618, 'n_estimators': 236, 'min_child_samples': 45, 'subsample': 0.7, 'colsample_bytree': 0.5}. Best is trial 0 with value: 0.734323773257049.\n",
      "[I 2025-02-26 07:49:41,770] Trial 1 finished with value: 0.7424586601581779 and parameters: {'num_iterations': 1510, 'objective': 'binary', 'metric': 'auc', 'verbose': -1, 'learning_rate': 0.005231880959249543, 'n_estimators': 1411, 'min_child_samples': 10, 'subsample': 1.0, 'colsample_bytree': 0.5}. Best is trial 1 with value: 0.7424586601581779.\n",
      "[I 2025-02-26 07:50:01,273] Trial 2 finished with value: 0.7418652878350588 and parameters: {'num_iterations': 2334, 'objective': 'binary', 'metric': 'auc', 'verbose': -1, 'learning_rate': 0.006578527777128852, 'n_estimators': 931, 'min_child_samples': 15, 'subsample': 0.5, 'colsample_bytree': 1.0}. Best is trial 1 with value: 0.7424586601581779.\n",
      "[I 2025-02-26 07:50:18,009] Trial 3 finished with value: 0.7426260733110759 and parameters: {'num_iterations': 1620, 'objective': 'binary', 'metric': 'auc', 'verbose': -1, 'learning_rate': 0.0058823249237283685, 'n_estimators': 837, 'min_child_samples': 10, 'subsample': 0.9, 'colsample_bytree': 0.6}. Best is trial 3 with value: 0.7426260733110759.\n",
      "[I 2025-02-26 07:50:34,400] Trial 4 finished with value: 0.7422872916133954 and parameters: {'num_iterations': 1997, 'objective': 'binary', 'metric': 'auc', 'verbose': -1, 'learning_rate': 0.010907507425244923, 'n_estimators': 1597, 'min_child_samples': 50, 'subsample': 0.6, 'colsample_bytree': 0.8}. Best is trial 3 with value: 0.7426260733110759.\n",
      "[I 2025-02-26 07:50:57,028] Trial 5 finished with value: 0.7394193068523606 and parameters: {'num_iterations': 2909, 'objective': 'binary', 'metric': 'auc', 'verbose': -1, 'learning_rate': 0.019760591962733942, 'n_estimators': 612, 'min_child_samples': 30, 'subsample': 0.7, 'colsample_bytree': 0.9}. Best is trial 3 with value: 0.7426260733110759.\n",
      "[I 2025-02-26 07:51:17,703] Trial 6 finished with value: 0.7406124531971107 and parameters: {'num_iterations': 2639, 'objective': 'binary', 'metric': 'auc', 'verbose': -1, 'learning_rate': 0.017862094446750985, 'n_estimators': 794, 'min_child_samples': 35, 'subsample': 1.0, 'colsample_bytree': 0.8}. Best is trial 3 with value: 0.7426260733110759.\n",
      "[I 2025-02-26 07:51:34,216] Trial 7 finished with value: 0.7420617429366033 and parameters: {'num_iterations': 1580, 'objective': 'binary', 'metric': 'auc', 'verbose': -1, 'learning_rate': 0.01776722177611332, 'n_estimators': 529, 'min_child_samples': 25, 'subsample': 0.8, 'colsample_bytree': 0.5}. Best is trial 3 with value: 0.7426260733110759.\n",
      "[I 2025-02-26 07:51:51,891] Trial 8 finished with value: 0.7403322716627322 and parameters: {'num_iterations': 1911, 'objective': 'binary', 'metric': 'auc', 'verbose': -1, 'learning_rate': 0.0304747553332844, 'n_estimators': 1328, 'min_child_samples': 10, 'subsample': 0.7, 'colsample_bytree': 0.6}. Best is trial 3 with value: 0.7426260733110759.\n",
      "[I 2025-02-26 07:52:19,359] Trial 9 finished with value: 0.7401297603637741 and parameters: {'num_iterations': 2739, 'objective': 'binary', 'metric': 'auc', 'verbose': -1, 'learning_rate': 0.02691531614176271, 'n_estimators': 1438, 'min_child_samples': 20, 'subsample': 0.6, 'colsample_bytree': 0.5}. Best is trial 3 with value: 0.7426260733110759.\n",
      "[I 2025-02-26 07:52:33,899] Trial 10 finished with value: 0.7323418201058225 and parameters: {'num_iterations': 1883, 'objective': 'binary', 'metric': 'auc', 'verbose': -1, 'learning_rate': 0.08223556891145911, 'n_estimators': 1917, 'min_child_samples': 40, 'subsample': 0.9, 'colsample_bytree': 0.7}. Best is trial 3 with value: 0.7426260733110759.\n",
      "[I 2025-02-26 07:52:49,553] Trial 11 finished with value: 0.7423774594575112 and parameters: {'num_iterations': 1513, 'objective': 'binary', 'metric': 'auc', 'verbose': -1, 'learning_rate': 0.005340229419903739, 'n_estimators': 1206, 'min_child_samples': 10, 'subsample': 1.0, 'colsample_bytree': 0.6}. Best is trial 3 with value: 0.7426260733110759.\n",
      "[I 2025-02-26 07:53:06,298] Trial 12 finished with value: 0.7427069880797991 and parameters: {'num_iterations': 1698, 'objective': 'binary', 'metric': 'auc', 'verbose': -1, 'learning_rate': 0.008515343845233947, 'n_estimators': 1719, 'min_child_samples': 20, 'subsample': 0.9, 'colsample_bytree': 0.6}. Best is trial 12 with value: 0.7427069880797991.\n",
      "[I 2025-02-26 07:53:21,565] Trial 13 finished with value: 0.7425051995532536 and parameters: {'num_iterations': 1785, 'objective': 'binary', 'metric': 'auc', 'verbose': -1, 'learning_rate': 0.010668787980411185, 'n_estimators': 2000, 'min_child_samples': 20, 'subsample': 0.9, 'colsample_bytree': 0.7}. Best is trial 12 with value: 0.7427069880797991.\n",
      "[I 2025-02-26 07:53:42,617] Trial 14 finished with value: 0.7425799588426384 and parameters: {'num_iterations': 2165, 'objective': 'binary', 'metric': 'auc', 'verbose': -1, 'learning_rate': 0.00865004642514095, 'n_estimators': 1729, 'min_child_samples': 20, 'subsample': 0.9, 'colsample_bytree': 0.6}. Best is trial 12 with value: 0.7427069880797991.\n",
      "[I 2025-02-26 07:53:57,732] Trial 15 finished with value: 0.7422253714625274 and parameters: {'num_iterations': 1739, 'objective': 'binary', 'metric': 'auc', 'verbose': -1, 'learning_rate': 0.008303365162986591, 'n_estimators': 1062, 'min_child_samples': 25, 'subsample': 0.8, 'colsample_bytree': 0.7}. Best is trial 12 with value: 0.7427069880797991.\n",
      "[I 2025-02-26 07:54:17,532] Trial 16 finished with value: 0.7422783641827161 and parameters: {'num_iterations': 2069, 'objective': 'binary', 'metric': 'auc', 'verbose': -1, 'learning_rate': 0.012740247908029537, 'n_estimators': 259, 'min_child_samples': 15, 'subsample': 0.9, 'colsample_bytree': 0.6}. Best is trial 12 with value: 0.7427069880797991.\n",
      "[I 2025-02-26 07:54:33,168] Trial 17 finished with value: 0.7383033065344679 and parameters: {'num_iterations': 1702, 'objective': 'binary', 'metric': 'auc', 'verbose': -1, 'learning_rate': 0.04711197790610658, 'n_estimators': 651, 'min_child_samples': 15, 'subsample': 0.8, 'colsample_bytree': 0.6}. Best is trial 12 with value: 0.7427069880797991.\n",
      "[I 2025-02-26 07:54:48,248] Trial 18 finished with value: 0.7424432357183388 and parameters: {'num_iterations': 1688, 'objective': 'binary', 'metric': 'auc', 'verbose': -1, 'learning_rate': 0.0073438836454159315, 'n_estimators': 1082, 'min_child_samples': 30, 'subsample': 0.9, 'colsample_bytree': 0.7}. Best is trial 12 with value: 0.7427069880797991.\n",
      "[I 2025-02-26 07:55:08,050] Trial 19 finished with value: 0.7420118398699149 and parameters: {'num_iterations': 2481, 'objective': 'binary', 'metric': 'auc', 'verbose': -1, 'learning_rate': 0.013452330775004216, 'n_estimators': 1697, 'min_child_samples': 25, 'subsample': 1.0, 'colsample_bytree': 0.8}. Best is trial 12 with value: 0.7427069880797991.\n",
      "[I 2025-02-26 07:55:23,984] Trial 20 finished with value: 0.7374301498046696 and parameters: {'num_iterations': 2051, 'objective': 'binary', 'metric': 'auc', 'verbose': -1, 'learning_rate': 0.03844621393609847, 'n_estimators': 443, 'min_child_samples': 15, 'subsample': 0.8, 'colsample_bytree': 0.9}. Best is trial 12 with value: 0.7427069880797991.\n",
      "[I 2025-02-26 07:55:45,555] Trial 21 finished with value: 0.7425324028006526 and parameters: {'num_iterations': 2225, 'objective': 'binary', 'metric': 'auc', 'verbose': -1, 'learning_rate': 0.008587022715210543, 'n_estimators': 1738, 'min_child_samples': 20, 'subsample': 0.9, 'colsample_bytree': 0.6}. Best is trial 12 with value: 0.7427069880797991.\n",
      "[I 2025-02-26 07:56:06,579] Trial 22 finished with value: 0.7427487182584368 and parameters: {'num_iterations': 2122, 'objective': 'binary', 'metric': 'auc', 'verbose': -1, 'learning_rate': 0.006372885358559772, 'n_estimators': 1788, 'min_child_samples': 20, 'subsample': 0.9, 'colsample_bytree': 0.6}. Best is trial 22 with value: 0.7427487182584368.\n",
      "[I 2025-02-26 07:56:26,929] Trial 23 finished with value: 0.7427409623544704 and parameters: {'num_iterations': 1862, 'objective': 'binary', 'metric': 'auc', 'verbose': -1, 'learning_rate': 0.006294956813426393, 'n_estimators': 1535, 'min_child_samples': 30, 'subsample': 1.0, 'colsample_bytree': 0.5}. Best is trial 22 with value: 0.7427487182584368.\n",
      "[I 2025-02-26 07:56:47,345] Trial 24 finished with value: 0.7426216373946751 and parameters: {'num_iterations': 1880, 'objective': 'binary', 'metric': 'auc', 'verbose': -1, 'learning_rate': 0.0070162803730784455, 'n_estimators': 1557, 'min_child_samples': 30, 'subsample': 1.0, 'colsample_bytree': 0.5}. Best is trial 22 with value: 0.7427487182584368.\n",
      "[I 2025-02-26 07:57:06,437] Trial 25 finished with value: 0.741868397344944 and parameters: {'num_iterations': 1825, 'objective': 'binary', 'metric': 'auc', 'verbose': -1, 'learning_rate': 0.014376655379062504, 'n_estimators': 1869, 'min_child_samples': 35, 'subsample': 1.0, 'colsample_bytree': 0.5}. Best is trial 22 with value: 0.7427487182584368.\n",
      "[I 2025-02-26 07:57:24,512] Trial 26 finished with value: 0.7421817112432714 and parameters: {'num_iterations': 2139, 'objective': 'binary', 'metric': 'auc', 'verbose': -1, 'learning_rate': 0.009739723571287757, 'n_estimators': 1561, 'min_child_samples': 35, 'subsample': 0.8, 'colsample_bytree': 0.7}. Best is trial 22 with value: 0.7427487182584368.\n",
      "[I 2025-02-26 07:57:44,512] Trial 27 finished with value: 0.7425197979674782 and parameters: {'num_iterations': 1971, 'objective': 'binary', 'metric': 'auc', 'verbose': -1, 'learning_rate': 0.005026390383874324, 'n_estimators': 1289, 'min_child_samples': 25, 'subsample': 1.0, 'colsample_bytree': 0.6}. Best is trial 22 with value: 0.7427487182584368.\n",
      "[I 2025-02-26 07:58:09,248] Trial 28 finished with value: 0.7426076783560464 and parameters: {'num_iterations': 2315, 'objective': 'binary', 'metric': 'auc', 'verbose': -1, 'learning_rate': 0.00696436218795825, 'n_estimators': 1845, 'min_child_samples': 40, 'subsample': 0.9, 'colsample_bytree': 0.5}. Best is trial 22 with value: 0.7427487182584368.\n",
      "[I 2025-02-26 07:58:31,470] Trial 29 finished with value: 0.7422521696396732 and parameters: {'num_iterations': 2106, 'objective': 'binary', 'metric': 'auc', 'verbose': -1, 'learning_rate': 0.011747696506481574, 'n_estimators': 1440, 'min_child_samples': 30, 'subsample': 1.0, 'colsample_bytree': 0.5}. Best is trial 22 with value: 0.7427487182584368.\n",
      "[I 2025-02-26 07:58:57,949] Trial 30 finished with value: 0.7426415295211308 and parameters: {'num_iterations': 2462, 'objective': 'binary', 'metric': 'auc', 'verbose': -1, 'learning_rate': 0.006300048275050027, 'n_estimators': 1633, 'min_child_samples': 45, 'subsample': 0.8, 'colsample_bytree': 0.5}. Best is trial 22 with value: 0.7427487182584368.\n",
      "[I 2025-02-26 07:59:24,539] Trial 31 finished with value: 0.742686766337353 and parameters: {'num_iterations': 2489, 'objective': 'binary', 'metric': 'auc', 'verbose': -1, 'learning_rate': 0.006256204850717552, 'n_estimators': 1624, 'min_child_samples': 50, 'subsample': 0.8, 'colsample_bytree': 0.5}. Best is trial 22 with value: 0.7427487182584368.\n",
      "[I 2025-02-26 07:59:51,862] Trial 32 finished with value: 0.7423989321522099 and parameters: {'num_iterations': 2599, 'objective': 'binary', 'metric': 'auc', 'verbose': -1, 'learning_rate': 0.008379817878343958, 'n_estimators': 1780, 'min_child_samples': 50, 'subsample': 0.9, 'colsample_bytree': 0.5}. Best is trial 22 with value: 0.7427487182584368.\n",
      "[I 2025-02-26 08:00:18,183] Trial 33 finished with value: 0.7426736492094467 and parameters: {'num_iterations': 2453, 'objective': 'binary', 'metric': 'auc', 'verbose': -1, 'learning_rate': 0.006004169346553505, 'n_estimators': 1487, 'min_child_samples': 45, 'subsample': 0.8, 'colsample_bytree': 0.5}. Best is trial 22 with value: 0.7427487182584368.\n",
      "[I 2025-02-26 08:00:41,993] Trial 34 finished with value: 0.7425159259724105 and parameters: {'num_iterations': 2405, 'objective': 'binary', 'metric': 'auc', 'verbose': -1, 'learning_rate': 0.005427887673523637, 'n_estimators': 1207, 'min_child_samples': 40, 'subsample': 0.7, 'colsample_bytree': 0.6}. Best is trial 22 with value: 0.7427487182584368.\n",
      "[I 2025-02-26 08:01:06,523] Trial 35 finished with value: 0.7426747095404036 and parameters: {'num_iterations': 2305, 'objective': 'binary', 'metric': 'auc', 'verbose': -1, 'learning_rate': 0.007304214669745475, 'n_estimators': 1959, 'min_child_samples': 20, 'subsample': 0.5, 'colsample_bytree': 0.5}. Best is trial 22 with value: 0.7427487182584368.\n",
      "[I 2025-02-26 08:01:28,058] Trial 36 finished with value: 0.7425083011205847 and parameters: {'num_iterations': 2238, 'objective': 'binary', 'metric': 'auc', 'verbose': -1, 'learning_rate': 0.010062932472337398, 'n_estimators': 1669, 'min_child_samples': 25, 'subsample': 0.9, 'colsample_bytree': 0.6}. Best is trial 22 with value: 0.7427487182584368.\n",
      "[I 2025-02-26 08:01:44,035] Trial 37 finished with value: 0.7405095494676797 and parameters: {'num_iterations': 1980, 'objective': 'binary', 'metric': 'auc', 'verbose': -1, 'learning_rate': 0.0154128160154772, 'n_estimators': 1809, 'min_child_samples': 35, 'subsample': 0.6, 'colsample_bytree': 1.0}. Best is trial 22 with value: 0.7427487182584368.\n",
      "[I 2025-02-26 08:02:00,822] Trial 38 finished with value: 0.7424706375295874 and parameters: {'num_iterations': 1625, 'objective': 'binary', 'metric': 'auc', 'verbose': -1, 'learning_rate': 0.006025254014977211, 'n_estimators': 1310, 'min_child_samples': 50, 'subsample': 1.0, 'colsample_bytree': 0.6}. Best is trial 22 with value: 0.7427487182584368.\n",
      "[I 2025-02-26 08:02:25,671] Trial 39 finished with value: 0.7419469571464107 and parameters: {'num_iterations': 2961, 'objective': 'binary', 'metric': 'auc', 'verbose': -1, 'learning_rate': 0.0050291300778429705, 'n_estimators': 1541, 'min_child_samples': 15, 'subsample': 0.9, 'colsample_bytree': 0.9}. Best is trial 22 with value: 0.7427487182584368.\n"
     ]
    },
    {
     "name": "stdout",
     "output_type": "stream",
     "text": [
      "Cat val score : 0.743102126169281\n",
      "LGBM val score : 0.7426685500897883\n",
      "Ensemble val score : 0.7432212724216115\n"
     ]
    },
    {
     "name": "stderr",
     "output_type": "stream",
     "text": [
      "[I 2025-02-26 08:02:48,222] A new study created in memory with name: no-name-825afee8-6fb8-430b-83eb-c7322f62fbf5\n"
     ]
    },
    {
     "name": "stdout",
     "output_type": "stream",
     "text": [
      "==================================================\n",
      "0:\ttest: 0.7245787\tbest: 0.7245787 (0)\ttotal: 142ms\tremaining: 5m 36s\n",
      "300:\ttest: 0.7393850\tbest: 0.7393850 (300)\ttotal: 38.7s\tremaining: 4m 25s\n",
      "600:\ttest: 0.7406626\tbest: 0.7406626 (600)\ttotal: 1m 19s\tremaining: 3m 54s\n",
      "900:\ttest: 0.7410505\tbest: 0.7410674 (882)\ttotal: 1m 59s\tremaining: 3m 14s\n",
      "1200:\ttest: 0.7413274\tbest: 0.7413588 (1111)\ttotal: 2m 44s\tremaining: 2m 39s\n",
      "1500:\ttest: 0.7415025\tbest: 0.7415320 (1439)\ttotal: 3m 33s\tremaining: 2m 3s\n",
      "1800:\ttest: 0.7414359\tbest: 0.7415632 (1591)\ttotal: 4m 23s\tremaining: 1m 22s\n"
     ]
    },
    {
     "name": "stderr",
     "output_type": "stream",
     "text": [
      "[I 2025-02-26 08:07:27,073] Trial 0 finished with value: 0.7415632168740174 and parameters: {'iterations': 2366, 'depth': 10, 'learning_rate': 0.01181021951839225, 'l2_leaf_reg': 9.980783802743254}. Best is trial 0 with value: 0.7415632168740174.\n"
     ]
    },
    {
     "name": "stdout",
     "output_type": "stream",
     "text": [
      "Stopped by overfitting detector  (300 iterations wait)\n",
      "\n",
      "bestTest = 0.7415632169\n",
      "bestIteration = 1591\n",
      "\n",
      "Shrink model to first 1592 iterations.\n",
      "저장 완료\n",
      "0:\ttest: 0.6988769\tbest: 0.6988769 (0)\ttotal: 58.8ms\tremaining: 2m 8s\n",
      "300:\ttest: 0.7311597\tbest: 0.7311597 (300)\ttotal: 13.1s\tremaining: 1m 22s\n",
      "600:\ttest: 0.7349365\tbest: 0.7349365 (600)\ttotal: 26.5s\tremaining: 1m 10s\n",
      "900:\ttest: 0.7367518\tbest: 0.7367518 (900)\ttotal: 40.1s\tremaining: 57.5s\n",
      "1200:\ttest: 0.7376844\tbest: 0.7376844 (1200)\ttotal: 53.9s\tremaining: 44.5s\n",
      "1500:\ttest: 0.7382475\tbest: 0.7382475 (1500)\ttotal: 1m 7s\tremaining: 31.3s\n",
      "1800:\ttest: 0.7386558\tbest: 0.7386558 (1800)\ttotal: 1m 21s\tremaining: 17.8s\n",
      "2100:\ttest: 0.7389394\tbest: 0.7389394 (2100)\ttotal: 1m 36s\tremaining: 4.22s\n"
     ]
    },
    {
     "name": "stderr",
     "output_type": "stream",
     "text": [
      "[I 2025-02-26 08:09:08,228] Trial 1 finished with value: 0.7390495704470001 and parameters: {'iterations': 2193, 'depth': 4, 'learning_rate': 0.005671430811678843, 'l2_leaf_reg': 0.00012325230809466137}. Best is trial 0 with value: 0.7415632168740174.\n"
     ]
    },
    {
     "name": "stdout",
     "output_type": "stream",
     "text": [
      "2192:\ttest: 0.7390496\tbest: 0.7390496 (2192)\ttotal: 1m 40s\tremaining: 0us\n",
      "\n",
      "bestTest = 0.7390495704\n",
      "bestIteration = 2192\n",
      "\n",
      "0:\ttest: 0.6988769\tbest: 0.6988769 (0)\ttotal: 51.4ms\tremaining: 2m 10s\n",
      "300:\ttest: 0.7405701\tbest: 0.7406435 (266)\ttotal: 14.3s\tremaining: 1m 46s\n",
      "600:\ttest: 0.7399912\tbest: 0.7406826 (383)\ttotal: 29.3s\tremaining: 1m 34s\n"
     ]
    },
    {
     "name": "stderr",
     "output_type": "stream",
     "text": [
      "[I 2025-02-26 08:09:41,715] Trial 2 finished with value: 0.7406825815233267 and parameters: {'iterations': 2535, 'depth': 4, 'learning_rate': 0.09275339199839054, 'l2_leaf_reg': 0.0008705394248343123}. Best is trial 0 with value: 0.7415632168740174.\n"
     ]
    },
    {
     "name": "stdout",
     "output_type": "stream",
     "text": [
      "Stopped by overfitting detector  (300 iterations wait)\n",
      "\n",
      "bestTest = 0.7406825815\n",
      "bestIteration = 383\n",
      "\n",
      "Shrink model to first 384 iterations.\n",
      "0:\ttest: 0.6988769\tbest: 0.6988769 (0)\ttotal: 53.6ms\tremaining: 2m 5s\n",
      "300:\ttest: 0.7397381\tbest: 0.7397381 (300)\ttotal: 13.7s\tremaining: 1m 32s\n",
      "600:\ttest: 0.7406473\tbest: 0.7407397 (575)\ttotal: 28.4s\tremaining: 1m 21s\n"
     ]
    },
    {
     "name": "stderr",
     "output_type": "stream",
     "text": [
      "[I 2025-02-26 08:10:23,864] Trial 3 finished with value: 0.7407396788963503 and parameters: {'iterations': 2334, 'depth': 4, 'learning_rate': 0.04657568321363276, 'l2_leaf_reg': 0.0008640473331457248}. Best is trial 0 with value: 0.7415632168740174.\n"
     ]
    },
    {
     "name": "stdout",
     "output_type": "stream",
     "text": [
      "Stopped by overfitting detector  (300 iterations wait)\n",
      "\n",
      "bestTest = 0.7407396789\n",
      "bestIteration = 575\n",
      "\n",
      "Shrink model to first 576 iterations.\n",
      "0:\ttest: 0.7246264\tbest: 0.7246264 (0)\ttotal: 129ms\tremaining: 3m 43s\n",
      "300:\ttest: 0.7386449\tbest: 0.7386449 (300)\ttotal: 36.2s\tremaining: 2m 53s\n",
      "600:\ttest: 0.7397714\tbest: 0.7397714 (600)\ttotal: 1m 16s\tremaining: 2m 24s\n",
      "900:\ttest: 0.7398809\tbest: 0.7399539 (780)\ttotal: 1m 55s\tremaining: 1m 48s\n",
      "1200:\ttest: 0.7391297\tbest: 0.7400088 (1015)\ttotal: 2m 39s\tremaining: 1m 11s\n"
     ]
    },
    {
     "name": "stderr",
     "output_type": "stream",
     "text": [
      "[I 2025-02-26 08:13:20,431] Trial 4 finished with value: 0.7400087618398723 and parameters: {'iterations': 1742, 'depth': 10, 'learning_rate': 0.012622767482095846, 'l2_leaf_reg': 0.00021158816350109617}. Best is trial 0 with value: 0.7415632168740174.\n"
     ]
    },
    {
     "name": "stdout",
     "output_type": "stream",
     "text": [
      "Stopped by overfitting detector  (300 iterations wait)\n",
      "\n",
      "bestTest = 0.7400087618\n",
      "bestIteration = 1015\n",
      "\n",
      "Shrink model to first 1016 iterations.\n",
      "0:\ttest: 0.6988769\tbest: 0.6988769 (0)\ttotal: 52.5ms\tremaining: 1m 49s\n",
      "300:\ttest: 0.7394753\tbest: 0.7395308 (269)\ttotal: 14.3s\tremaining: 1m 24s\n",
      "600:\ttest: 0.7397770\tbest: 0.7399902 (502)\ttotal: 29.1s\tremaining: 1m 11s\n"
     ]
    },
    {
     "name": "stderr",
     "output_type": "stream",
     "text": [
      "[I 2025-02-26 08:13:59,570] Trial 5 finished with value: 0.7399902297138621 and parameters: {'iterations': 2082, 'depth': 4, 'learning_rate': 0.06995196593094148, 'l2_leaf_reg': 0.0018080296485396804}. Best is trial 0 with value: 0.7415632168740174.\n"
     ]
    },
    {
     "name": "stdout",
     "output_type": "stream",
     "text": [
      "Stopped by overfitting detector  (300 iterations wait)\n",
      "\n",
      "bestTest = 0.7399902297\n",
      "bestIteration = 502\n",
      "\n",
      "Shrink model to first 503 iterations.\n",
      "0:\ttest: 0.7015052\tbest: 0.7015052 (0)\ttotal: 64.1ms\tremaining: 2m 7s\n",
      "300:\ttest: 0.7406245\tbest: 0.7406279 (296)\ttotal: 17.4s\tremaining: 1m 38s\n",
      "600:\ttest: 0.7409984\tbest: 0.7410288 (574)\ttotal: 35.4s\tremaining: 1m 22s\n",
      "900:\ttest: 0.7409446\tbest: 0.7410644 (670)\ttotal: 53.3s\tremaining: 1m 4s\n"
     ]
    },
    {
     "name": "stderr",
     "output_type": "stream",
     "text": [
      "[I 2025-02-26 08:14:57,336] Trial 6 finished with value: 0.741064417971799 and parameters: {'iterations': 1997, 'depth': 5, 'learning_rate': 0.07985155992831598, 'l2_leaf_reg': 62.52181000710482}. Best is trial 0 with value: 0.7415632168740174.\n"
     ]
    },
    {
     "name": "stdout",
     "output_type": "stream",
     "text": [
      "Stopped by overfitting detector  (300 iterations wait)\n",
      "\n",
      "bestTest = 0.741064418\n",
      "bestIteration = 670\n",
      "\n",
      "Shrink model to first 671 iterations.\n",
      "0:\ttest: 0.7079669\tbest: 0.7079669 (0)\ttotal: 86.3ms\tremaining: 2m 46s\n",
      "300:\ttest: 0.7406955\tbest: 0.7407632 (281)\ttotal: 24.2s\tremaining: 2m 10s\n",
      "600:\ttest: 0.7389331\tbest: 0.7408023 (305)\ttotal: 49.4s\tremaining: 1m 48s\n"
     ]
    },
    {
     "name": "stderr",
     "output_type": "stream",
     "text": [
      "[I 2025-02-26 08:15:47,334] Trial 7 finished with value: 0.7408023315392023 and parameters: {'iterations': 1927, 'depth': 7, 'learning_rate': 0.0941937211034094, 'l2_leaf_reg': 0.05654822767791934}. Best is trial 0 with value: 0.7415632168740174.\n"
     ]
    },
    {
     "name": "stdout",
     "output_type": "stream",
     "text": [
      "Stopped by overfitting detector  (300 iterations wait)\n",
      "\n",
      "bestTest = 0.7408023315\n",
      "bestIteration = 305\n",
      "\n",
      "Shrink model to first 306 iterations.\n",
      "0:\ttest: 0.7079668\tbest: 0.7079668 (0)\ttotal: 92.6ms\tremaining: 2m 56s\n",
      "300:\ttest: 0.7408023\tbest: 0.7408170 (288)\ttotal: 24.7s\tremaining: 2m 11s\n",
      "600:\ttest: 0.7403664\tbest: 0.7408198 (306)\ttotal: 50s\tremaining: 1m 48s\n"
     ]
    },
    {
     "name": "stderr",
     "output_type": "stream",
     "text": [
      "[I 2025-02-26 08:16:37,978] Trial 8 finished with value: 0.7408198153512492 and parameters: {'iterations': 1904, 'depth': 7, 'learning_rate': 0.05155602859187331, 'l2_leaf_reg': 1.299974533316308}. Best is trial 0 with value: 0.7415632168740174.\n"
     ]
    },
    {
     "name": "stdout",
     "output_type": "stream",
     "text": [
      "Stopped by overfitting detector  (300 iterations wait)\n",
      "\n",
      "bestTest = 0.7408198154\n",
      "bestIteration = 306\n",
      "\n",
      "Shrink model to first 307 iterations.\n",
      "0:\ttest: 0.7049487\tbest: 0.7049487 (0)\ttotal: 74ms\tremaining: 3m 15s\n",
      "300:\ttest: 0.7402370\tbest: 0.7402370 (300)\ttotal: 19.6s\tremaining: 2m 32s\n",
      "600:\ttest: 0.7408543\tbest: 0.7409697 (493)\ttotal: 41.1s\tremaining: 2m 19s\n"
     ]
    },
    {
     "name": "stderr",
     "output_type": "stream",
     "text": [
      "[I 2025-02-26 08:17:33,301] Trial 9 finished with value: 0.7409697163062283 and parameters: {'iterations': 2639, 'depth': 6, 'learning_rate': 0.03968704290444751, 'l2_leaf_reg': 0.30557194377967184}. Best is trial 0 with value: 0.7415632168740174.\n"
     ]
    },
    {
     "name": "stdout",
     "output_type": "stream",
     "text": [
      "Stopped by overfitting detector  (300 iterations wait)\n",
      "\n",
      "bestTest = 0.7409697163\n",
      "bestIteration = 493\n",
      "\n",
      "Shrink model to first 494 iterations.\n",
      "0:\ttest: 0.7243717\tbest: 0.7243717 (0)\ttotal: 132ms\tremaining: 6m 27s\n",
      "300:\ttest: 0.7407542\tbest: 0.7407575 (295)\ttotal: 37.7s\tremaining: 5m 30s\n",
      "600:\ttest: 0.7413505\tbest: 0.7413516 (599)\ttotal: 1m 16s\tremaining: 4m 59s\n",
      "900:\ttest: 0.7415135\tbest: 0.7415245 (824)\ttotal: 2m 10s\tremaining: 4m 55s\n",
      "1200:\ttest: 0.7416397\tbest: 0.7416919 (1024)\ttotal: 3m 1s\tremaining: 4m 23s\n"
     ]
    },
    {
     "name": "stderr",
     "output_type": "stream",
     "text": [
      "[I 2025-02-26 08:20:56,675] Trial 10 finished with value: 0.7416918815294672 and parameters: {'iterations': 2945, 'depth': 10, 'learning_rate': 0.025911330134996406, 'l2_leaf_reg': 97.18545559492516}. Best is trial 10 with value: 0.7416918815294672.\n"
     ]
    },
    {
     "name": "stdout",
     "output_type": "stream",
     "text": [
      "Stopped by overfitting detector  (300 iterations wait)\n",
      "\n",
      "bestTest = 0.7416918815\n",
      "bestIteration = 1024\n",
      "\n",
      "Shrink model to first 1025 iterations.\n",
      "저장 완료\n",
      "0:\ttest: 0.7244932\tbest: 0.7244932 (0)\ttotal: 131ms\tremaining: 6m 31s\n",
      "300:\ttest: 0.7407586\tbest: 0.7407614 (296)\ttotal: 38.9s\tremaining: 5m 47s\n",
      "600:\ttest: 0.7412244\tbest: 0.7412346 (517)\ttotal: 1m 19s\tremaining: 5m 18s\n",
      "900:\ttest: 0.7413623\tbest: 0.7413723 (895)\ttotal: 2m 12s\tremaining: 5m 9s\n",
      "1200:\ttest: 0.7412737\tbest: 0.7413873 (985)\ttotal: 3m 5s\tremaining: 4m 36s\n"
     ]
    },
    {
     "name": "stderr",
     "output_type": "stream",
     "text": [
      "[I 2025-02-26 08:24:17,266] Trial 11 finished with value: 0.7413872907307222 and parameters: {'iterations': 2995, 'depth': 10, 'learning_rate': 0.026163874004606635, 'l2_leaf_reg': 73.1213351392818}. Best is trial 10 with value: 0.7416918815294672.\n"
     ]
    },
    {
     "name": "stdout",
     "output_type": "stream",
     "text": [
      "Stopped by overfitting detector  (300 iterations wait)\n",
      "\n",
      "bestTest = 0.7413872907\n",
      "bestIteration = 985\n",
      "\n",
      "Shrink model to first 986 iterations.\n",
      "0:\ttest: 0.7246137\tbest: 0.7246137 (0)\ttotal: 117ms\tremaining: 5m 30s\n",
      "300:\ttest: 0.7405800\tbest: 0.7405800 (300)\ttotal: 29.1s\tremaining: 4m 4s\n",
      "600:\ttest: 0.7413276\tbest: 0.7413393 (598)\ttotal: 59.2s\tremaining: 3m 40s\n",
      "900:\ttest: 0.7413084\tbest: 0.7414526 (733)\ttotal: 1m 32s\tremaining: 3m 18s\n"
     ]
    },
    {
     "name": "stderr",
     "output_type": "stream",
     "text": [
      "[I 2025-02-26 08:26:04,921] Trial 12 finished with value: 0.7414525601875961 and parameters: {'iterations': 2834, 'depth': 9, 'learning_rate': 0.02599223527222509, 'l2_leaf_reg': 4.031595942972541}. Best is trial 10 with value: 0.7416918815294672.\n"
     ]
    },
    {
     "name": "stdout",
     "output_type": "stream",
     "text": [
      "Stopped by overfitting detector  (300 iterations wait)\n",
      "\n",
      "bestTest = 0.7414525602\n",
      "bestIteration = 733\n",
      "\n",
      "Shrink model to first 734 iterations.\n",
      "0:\ttest: 0.7245787\tbest: 0.7245787 (0)\ttotal: 117ms\tremaining: 4m 44s\n",
      "300:\ttest: 0.7404372\tbest: 0.7404379 (299)\ttotal: 28.4s\tremaining: 3m 21s\n",
      "600:\ttest: 0.7413780\tbest: 0.7413780 (600)\ttotal: 57.2s\tremaining: 2m 55s\n",
      "900:\ttest: 0.7414385\tbest: 0.7415452 (741)\ttotal: 1m 30s\tremaining: 2m 34s\n"
     ]
    },
    {
     "name": "stderr",
     "output_type": "stream",
     "text": [
      "[I 2025-02-26 08:27:51,025] Trial 13 finished with value: 0.7415451811087852 and parameters: {'iterations': 2440, 'depth': 9, 'learning_rate': 0.022316119918197153, 'l2_leaf_reg': 10.229612344837278}. Best is trial 10 with value: 0.7416918815294672.\n"
     ]
    },
    {
     "name": "stdout",
     "output_type": "stream",
     "text": [
      "Stopped by overfitting detector  (300 iterations wait)\n",
      "\n",
      "bestTest = 0.7415451811\n",
      "bestIteration = 741\n",
      "\n",
      "Shrink model to first 742 iterations.\n",
      "0:\ttest: 0.7245877\tbest: 0.7245877 (0)\ttotal: 116ms\tremaining: 2m 58s\n",
      "300:\ttest: 0.7408914\tbest: 0.7408957 (298)\ttotal: 27.7s\tremaining: 1m 53s\n",
      "600:\ttest: 0.7414340\tbest: 0.7415087 (558)\ttotal: 59.8s\tremaining: 1m 32s\n"
     ]
    },
    {
     "name": "stderr",
     "output_type": "stream",
     "text": [
      "[I 2025-02-26 08:29:19,594] Trial 14 finished with value: 0.7415086807226086 and parameters: {'iterations': 1533, 'depth': 9, 'learning_rate': 0.03442377454382202, 'l2_leaf_reg': 11.564056006203653}. Best is trial 10 with value: 0.7416918815294672.\n"
     ]
    },
    {
     "name": "stdout",
     "output_type": "stream",
     "text": [
      "Stopped by overfitting detector  (300 iterations wait)\n",
      "\n",
      "bestTest = 0.7415086807\n",
      "bestIteration = 558\n",
      "\n",
      "Shrink model to first 559 iterations.\n",
      "0:\ttest: 0.7210571\tbest: 0.7210571 (0)\ttotal: 102ms\tremaining: 4m 36s\n",
      "300:\ttest: 0.7397610\tbest: 0.7402314 (248)\ttotal: 26.6s\tremaining: 3m 33s\n"
     ]
    },
    {
     "name": "stderr",
     "output_type": "stream",
     "text": [
      "[I 2025-02-26 08:30:10,139] Trial 15 finished with value: 0.7402314094304863 and parameters: {'iterations': 2723, 'depth': 8, 'learning_rate': 0.06364918700322475, 'l2_leaf_reg': 0.026986971696484528}. Best is trial 10 with value: 0.7416918815294672.\n"
     ]
    },
    {
     "name": "stdout",
     "output_type": "stream",
     "text": [
      "Stopped by overfitting detector  (300 iterations wait)\n",
      "\n",
      "bestTest = 0.7402314094\n",
      "bestIteration = 248\n",
      "\n",
      "Shrink model to first 249 iterations.\n",
      "0:\ttest: 0.7246287\tbest: 0.7246287 (0)\ttotal: 133ms\tremaining: 6m 29s\n",
      "300:\ttest: 0.7398281\tbest: 0.7398281 (300)\ttotal: 37.8s\tremaining: 5m 28s\n",
      "600:\ttest: 0.7405165\tbest: 0.7405250 (597)\ttotal: 1m 17s\tremaining: 4m 57s\n",
      "900:\ttest: 0.7407369\tbest: 0.7408286 (834)\ttotal: 1m 59s\tremaining: 4m 27s\n"
     ]
    },
    {
     "name": "stderr",
     "output_type": "stream",
     "text": [
      "[I 2025-02-26 08:32:45,398] Trial 16 finished with value: 0.7408286188060091 and parameters: {'iterations': 2918, 'depth': 10, 'learning_rate': 0.015627704142452237, 'l2_leaf_reg': 0.8358313275560093}. Best is trial 10 with value: 0.7416918815294672.\n"
     ]
    },
    {
     "name": "stdout",
     "output_type": "stream",
     "text": [
      "Stopped by overfitting detector  (300 iterations wait)\n",
      "\n",
      "bestTest = 0.7408286188\n",
      "bestIteration = 834\n",
      "\n",
      "Shrink model to first 835 iterations.\n",
      "0:\ttest: 0.7211232\tbest: 0.7211232 (0)\ttotal: 109ms\tremaining: 4m 10s\n",
      "300:\ttest: 0.7357466\tbest: 0.7357466 (300)\ttotal: 25.2s\tremaining: 2m 47s\n",
      "600:\ttest: 0.7384171\tbest: 0.7384171 (600)\ttotal: 50.4s\tremaining: 2m 22s\n",
      "900:\ttest: 0.7395266\tbest: 0.7395266 (900)\ttotal: 1m 16s\tremaining: 1m 58s\n",
      "1200:\ttest: 0.7400984\tbest: 0.7400984 (1199)\ttotal: 1m 41s\tremaining: 1m 33s\n",
      "1500:\ttest: 0.7404850\tbest: 0.7404850 (1500)\ttotal: 2m 7s\tremaining: 1m 7s\n",
      "1800:\ttest: 0.7407383\tbest: 0.7407383 (1800)\ttotal: 2m 31s\tremaining: 42.3s\n",
      "2100:\ttest: 0.7409442\tbest: 0.7409442 (2100)\ttotal: 2m 55s\tremaining: 17s\n"
     ]
    },
    {
     "name": "stderr",
     "output_type": "stream",
     "text": [
      "[I 2025-02-26 08:35:59,239] Trial 17 finished with value: 0.7410965305286974 and parameters: {'iterations': 2304, 'depth': 8, 'learning_rate': 0.0055827680380823134, 'l2_leaf_reg': 20.255979696845536}. Best is trial 10 with value: 0.7416918815294672.\n"
     ]
    },
    {
     "name": "stdout",
     "output_type": "stream",
     "text": [
      "2303:\ttest: 0.7410965\tbest: 0.7410965 (2302)\ttotal: 3m 13s\tremaining: 0us\n",
      "\n",
      "bestTest = 0.7410965305\n",
      "bestIteration = 2302\n",
      "\n",
      "Shrink model to first 2303 iterations.\n",
      "0:\ttest: 0.7210571\tbest: 0.7210571 (0)\ttotal: 102ms\tremaining: 4m 38s\n",
      "300:\ttest: 0.7398212\tbest: 0.7398613 (287)\ttotal: 24.9s\tremaining: 3m 20s\n",
      "600:\ttest: 0.7404025\tbest: 0.7406334 (405)\ttotal: 53.9s\tremaining: 3m 10s\n"
     ]
    },
    {
     "name": "stderr",
     "output_type": "stream",
     "text": [
      "[I 2025-02-26 08:37:03,396] Trial 18 finished with value: 0.7406333544468001 and parameters: {'iterations': 2725, 'depth': 8, 'learning_rate': 0.03518246043258415, 'l2_leaf_reg': 0.010016909578442512}. Best is trial 10 with value: 0.7416918815294672.\n"
     ]
    },
    {
     "name": "stdout",
     "output_type": "stream",
     "text": [
      "Stopped by overfitting detector  (300 iterations wait)\n",
      "\n",
      "bestTest = 0.7406333544\n",
      "bestIteration = 405\n",
      "\n",
      "Shrink model to first 406 iterations.\n",
      "0:\ttest: 0.7246230\tbest: 0.7246230 (0)\ttotal: 113ms\tremaining: 4m 48s\n",
      "300:\ttest: 0.7400556\tbest: 0.7400556 (300)\ttotal: 28.8s\tremaining: 3m 35s\n",
      "600:\ttest: 0.7410770\tbest: 0.7410770 (600)\ttotal: 57.2s\tremaining: 3m 6s\n",
      "900:\ttest: 0.7414143\tbest: 0.7414182 (814)\ttotal: 1m 30s\tremaining: 2m 45s\n",
      "1200:\ttest: 0.7412151\tbest: 0.7414555 (937)\ttotal: 2m 3s\tremaining: 2m 19s\n"
     ]
    },
    {
     "name": "stderr",
     "output_type": "stream",
     "text": [
      "[I 2025-02-26 08:39:11,475] Trial 19 finished with value: 0.741455546294037 and parameters: {'iterations': 2557, 'depth': 9, 'learning_rate': 0.018298675995901993, 'l2_leaf_reg': 2.276175005448344}. Best is trial 10 with value: 0.7416918815294672.\n"
     ]
    },
    {
     "name": "stdout",
     "output_type": "stream",
     "text": [
      "Stopped by overfitting detector  (300 iterations wait)\n",
      "\n",
      "bestTest = 0.7414555463\n",
      "bestIteration = 937\n",
      "\n",
      "Shrink model to first 938 iterations.\n",
      "0:\ttest: 0.7243694\tbest: 0.7243694 (0)\ttotal: 130ms\tremaining: 3m 43s\n",
      "300:\ttest: 0.7416769\tbest: 0.7417071 (294)\ttotal: 40.2s\tremaining: 3m 10s\n",
      "600:\ttest: 0.7416293\tbest: 0.7417336 (520)\ttotal: 1m 32s\tremaining: 2m 52s\n"
     ]
    },
    {
     "name": "stderr",
     "output_type": "stream",
     "text": [
      "[I 2025-02-26 08:41:21,976] Trial 20 finished with value: 0.7417336274563465 and parameters: {'iterations': 1726, 'depth': 10, 'learning_rate': 0.06204058755619048, 'l2_leaf_reg': 98.97071110930078}. Best is trial 20 with value: 0.7417336274563465.\n"
     ]
    },
    {
     "name": "stdout",
     "output_type": "stream",
     "text": [
      "Stopped by overfitting detector  (300 iterations wait)\n",
      "\n",
      "bestTest = 0.7417336275\n",
      "bestIteration = 520\n",
      "\n",
      "Shrink model to first 521 iterations.\n",
      "저장 완료\n",
      "0:\ttest: 0.7244285\tbest: 0.7244285 (0)\ttotal: 133ms\tremaining: 3m 21s\n",
      "300:\ttest: 0.7414183\tbest: 0.7414766 (244)\ttotal: 40.2s\tremaining: 2m 42s\n",
      "600:\ttest: 0.7419914\tbest: 0.7419914 (599)\ttotal: 1m 31s\tremaining: 2m 19s\n",
      "900:\ttest: 0.7420890\tbest: 0.7421195 (796)\ttotal: 2m 24s\tremaining: 1m 38s\n"
     ]
    },
    {
     "name": "stderr",
     "output_type": "stream",
     "text": [
      "[I 2025-02-26 08:44:20,829] Trial 21 finished with value: 0.7421195340631992 and parameters: {'iterations': 1516, 'depth': 10, 'learning_rate': 0.06020943341372356, 'l2_leaf_reg': 89.94798088783348}. Best is trial 21 with value: 0.7421195340631992.\n"
     ]
    },
    {
     "name": "stdout",
     "output_type": "stream",
     "text": [
      "Stopped by overfitting detector  (300 iterations wait)\n",
      "\n",
      "bestTest = 0.7421195341\n",
      "bestIteration = 796\n",
      "\n",
      "Shrink model to first 797 iterations.\n",
      "저장 완료\n",
      "0:\ttest: 0.7244422\tbest: 0.7244422 (0)\ttotal: 137ms\tremaining: 3m 32s\n",
      "300:\ttest: 0.7417922\tbest: 0.7417994 (295)\ttotal: 41.4s\tremaining: 2m 51s\n",
      "600:\ttest: 0.7420005\tbest: 0.7420954 (550)\ttotal: 1m 32s\tremaining: 2m 26s\n",
      "900:\ttest: 0.7417307\tbest: 0.7421624 (718)\ttotal: 2m 25s\tremaining: 1m 44s\n"
     ]
    },
    {
     "name": "stderr",
     "output_type": "stream",
     "text": [
      "[I 2025-02-26 08:47:07,619] Trial 22 finished with value: 0.7421624156635387 and parameters: {'iterations': 1546, 'depth': 10, 'learning_rate': 0.06236150680403494, 'l2_leaf_reg': 85.05556406303693}. Best is trial 22 with value: 0.7421624156635387.\n"
     ]
    },
    {
     "name": "stdout",
     "output_type": "stream",
     "text": [
      "Stopped by overfitting detector  (300 iterations wait)\n",
      "\n",
      "bestTest = 0.7421624157\n",
      "bestIteration = 718\n",
      "\n",
      "Shrink model to first 719 iterations.\n",
      "저장 완료\n",
      "0:\ttest: 0.7245705\tbest: 0.7245705 (0)\ttotal: 116ms\tremaining: 2m 56s\n",
      "300:\ttest: 0.7413191\tbest: 0.7413740 (253)\ttotal: 29.8s\tremaining: 2m\n"
     ]
    },
    {
     "name": "stderr",
     "output_type": "stream",
     "text": [
      "[I 2025-02-26 08:48:05,219] Trial 23 finished with value: 0.7413739604656662 and parameters: {'iterations': 1522, 'depth': 9, 'learning_rate': 0.06332986668943112, 'l2_leaf_reg': 24.381966636091082}. Best is trial 22 with value: 0.7421624156635387.\n"
     ]
    },
    {
     "name": "stdout",
     "output_type": "stream",
     "text": [
      "Stopped by overfitting detector  (300 iterations wait)\n",
      "\n",
      "bestTest = 0.7413739605\n",
      "bestIteration = 253\n",
      "\n",
      "Shrink model to first 254 iterations.\n",
      "0:\ttest: 0.7245384\tbest: 0.7245384 (0)\ttotal: 128ms\tremaining: 3m 37s\n",
      "300:\ttest: 0.7416060\tbest: 0.7417062 (282)\ttotal: 42.9s\tremaining: 3m 19s\n",
      "600:\ttest: 0.7407911\tbest: 0.7417139 (365)\ttotal: 1m 34s\tremaining: 2m 52s\n"
     ]
    },
    {
     "name": "stderr",
     "output_type": "stream",
     "text": [
      "[I 2025-02-26 08:49:50,410] Trial 24 finished with value: 0.7417139080353552 and parameters: {'iterations': 1701, 'depth': 10, 'learning_rate': 0.07627032926496863, 'l2_leaf_reg': 37.04037259317525}. Best is trial 22 with value: 0.7421624156635387.\n"
     ]
    },
    {
     "name": "stdout",
     "output_type": "stream",
     "text": [
      "Stopped by overfitting detector  (300 iterations wait)\n",
      "\n",
      "bestTest = 0.741713908\n",
      "bestIteration = 365\n",
      "\n",
      "Shrink model to first 366 iterations.\n",
      "0:\ttest: 0.7210571\tbest: 0.7210571 (0)\ttotal: 136ms\tremaining: 3m 50s\n",
      "300:\ttest: 0.7408976\tbest: 0.7411208 (270)\ttotal: 28s\tremaining: 2m 9s\n"
     ]
    },
    {
     "name": "stderr",
     "output_type": "stream",
     "text": [
      "[I 2025-02-26 08:50:44,842] Trial 25 finished with value: 0.7411207648473263 and parameters: {'iterations': 1695, 'depth': 8, 'learning_rate': 0.05846954380189129, 'l2_leaf_reg': 0.3723555167633753}. Best is trial 22 with value: 0.7421624156635387.\n"
     ]
    },
    {
     "name": "stdout",
     "output_type": "stream",
     "text": [
      "Stopped by overfitting detector  (300 iterations wait)\n",
      "\n",
      "bestTest = 0.7411207648\n",
      "bestIteration = 270\n",
      "\n",
      "Shrink model to first 271 iterations.\n",
      "0:\ttest: 0.7246137\tbest: 0.7246137 (0)\ttotal: 110ms\tremaining: 2m 56s\n",
      "300:\ttest: 0.7409935\tbest: 0.7412771 (233)\ttotal: 31.3s\tremaining: 2m 16s\n"
     ]
    },
    {
     "name": "stderr",
     "output_type": "stream",
     "text": [
      "[I 2025-02-26 08:51:42,459] Trial 26 finished with value: 0.7412770906962167 and parameters: {'iterations': 1610, 'depth': 9, 'learning_rate': 0.07783483898286846, 'l2_leaf_reg': 4.383093569398131}. Best is trial 22 with value: 0.7421624156635387.\n"
     ]
    },
    {
     "name": "stdout",
     "output_type": "stream",
     "text": [
      "Stopped by overfitting detector  (300 iterations wait)\n",
      "\n",
      "bestTest = 0.7412770907\n",
      "bestIteration = 233\n",
      "\n",
      "Shrink model to first 234 iterations.\n",
      "0:\ttest: 0.7049391\tbest: 0.7049391 (0)\ttotal: 76.9ms\tremaining: 2m 17s\n",
      "300:\ttest: 0.7408033\tbest: 0.7408033 (300)\ttotal: 20.1s\tremaining: 1m 39s\n",
      "600:\ttest: 0.7414580\tbest: 0.7414839 (592)\ttotal: 41.5s\tremaining: 1m 22s\n",
      "900:\ttest: 0.7414356\tbest: 0.7415472 (640)\ttotal: 1m 2s\tremaining: 1m 2s\n"
     ]
    },
    {
     "name": "stderr",
     "output_type": "stream",
     "text": [
      "[I 2025-02-26 08:52:48,495] Trial 27 finished with value: 0.7415472102316459 and parameters: {'iterations': 1790, 'depth': 6, 'learning_rate': 0.0548093056139875, 'l2_leaf_reg': 29.326475988157735}. Best is trial 22 with value: 0.7421624156635387.\n"
     ]
    },
    {
     "name": "stdout",
     "output_type": "stream",
     "text": [
      "Stopped by overfitting detector  (300 iterations wait)\n",
      "\n",
      "bestTest = 0.7415472102\n",
      "bestIteration = 640\n",
      "\n",
      "Shrink model to first 641 iterations.\n",
      "0:\ttest: 0.7245976\tbest: 0.7245976 (0)\ttotal: 132ms\tremaining: 4m 2s\n",
      "300:\ttest: 0.7403812\tbest: 0.7413869 (138)\ttotal: 44.4s\tremaining: 3m 46s\n"
     ]
    },
    {
     "name": "stderr",
     "output_type": "stream",
     "text": [
      "[I 2025-02-26 08:53:55,496] Trial 28 finished with value: 0.7413868976129859 and parameters: {'iterations': 1838, 'depth': 10, 'learning_rate': 0.08621081976046277, 'l2_leaf_reg': 5.812314963663007}. Best is trial 22 with value: 0.7421624156635387.\n"
     ]
    },
    {
     "name": "stdout",
     "output_type": "stream",
     "text": [
      "Stopped by overfitting detector  (300 iterations wait)\n",
      "\n",
      "bestTest = 0.7413868976\n",
      "bestIteration = 138\n",
      "\n",
      "Shrink model to first 139 iterations.\n",
      "0:\ttest: 0.7244316\tbest: 0.7244316 (0)\ttotal: 129ms\tremaining: 3m 32s\n",
      "300:\ttest: 0.7417573\tbest: 0.7417591 (299)\ttotal: 42.5s\tremaining: 3m 9s\n",
      "600:\ttest: 0.7417824\tbest: 0.7419468 (436)\ttotal: 1m 34s\tremaining: 2m 44s\n"
     ]
    },
    {
     "name": "stderr",
     "output_type": "stream",
     "text": [
      "[I 2025-02-26 08:55:53,629] Trial 29 finished with value: 0.7419467965415423 and parameters: {'iterations': 1645, 'depth': 10, 'learning_rate': 0.06836803222476623, 'l2_leaf_reg': 87.73387271019898}. Best is trial 22 with value: 0.7421624156635387.\n"
     ]
    },
    {
     "name": "stdout",
     "output_type": "stream",
     "text": [
      "Stopped by overfitting detector  (300 iterations wait)\n",
      "\n",
      "bestTest = 0.7419467965\n",
      "bestIteration = 436\n",
      "\n",
      "Shrink model to first 437 iterations.\n",
      "0:\ttest: 0.7245781\tbest: 0.7245781 (0)\ttotal: 115ms\tremaining: 3m 5s\n",
      "300:\ttest: 0.7418814\tbest: 0.7418814 (300)\ttotal: 31.1s\tremaining: 2m 16s\n",
      "600:\ttest: 0.7411010\tbest: 0.7419560 (323)\ttotal: 1m 4s\tremaining: 1m 48s\n"
     ]
    },
    {
     "name": "stderr",
     "output_type": "stream",
     "text": [
      "[I 2025-02-26 08:57:00,524] Trial 30 finished with value: 0.7419559812013798 and parameters: {'iterations': 1621, 'depth': 9, 'learning_rate': 0.07132327426798762, 'l2_leaf_reg': 14.606544324994175}. Best is trial 22 with value: 0.7421624156635387.\n"
     ]
    },
    {
     "name": "stdout",
     "output_type": "stream",
     "text": [
      "Stopped by overfitting detector  (300 iterations wait)\n",
      "\n",
      "bestTest = 0.7419559812\n",
      "bestIteration = 323\n",
      "\n",
      "Shrink model to first 324 iterations.\n",
      "0:\ttest: 0.7245734\tbest: 0.7245734 (0)\ttotal: 133ms\tremaining: 3m 34s\n",
      "300:\ttest: 0.7411644\tbest: 0.7413686 (265)\ttotal: 41.5s\tremaining: 3m\n"
     ]
    },
    {
     "name": "stderr",
     "output_type": "stream",
     "text": [
      "[I 2025-02-26 08:58:25,757] Trial 31 finished with value: 0.741368619623694 and parameters: {'iterations': 1608, 'depth': 10, 'learning_rate': 0.07116971275654847, 'l2_leaf_reg': 19.95376750078949}. Best is trial 22 with value: 0.7421624156635387.\n"
     ]
    },
    {
     "name": "stdout",
     "output_type": "stream",
     "text": [
      "Stopped by overfitting detector  (300 iterations wait)\n",
      "\n",
      "bestTest = 0.7413686196\n",
      "bestIteration = 265\n",
      "\n",
      "Shrink model to first 266 iterations.\n",
      "0:\ttest: 0.7245457\tbest: 0.7245457 (0)\ttotal: 114ms\tremaining: 2m 51s\n",
      "300:\ttest: 0.7416198\tbest: 0.7417115 (279)\ttotal: 29.5s\tremaining: 1m 57s\n"
     ]
    },
    {
     "name": "stderr",
     "output_type": "stream",
     "text": [
      "[I 2025-02-26 08:59:25,742] Trial 32 finished with value: 0.7417115215327341 and parameters: {'iterations': 1501, 'depth': 9, 'learning_rate': 0.0697820881459131, 'l2_leaf_reg': 45.81256332882311}. Best is trial 22 with value: 0.7421624156635387.\n"
     ]
    },
    {
     "name": "stdout",
     "output_type": "stream",
     "text": [
      "Stopped by overfitting detector  (300 iterations wait)\n",
      "\n",
      "bestTest = 0.7417115215\n",
      "bestIteration = 279\n",
      "\n",
      "Shrink model to first 280 iterations.\n",
      "0:\ttest: 0.7245779\tbest: 0.7245779 (0)\ttotal: 134ms\tremaining: 3m 33s\n",
      "300:\ttest: 0.7411140\tbest: 0.7418871 (203)\ttotal: 43.6s\tremaining: 3m 7s\n"
     ]
    },
    {
     "name": "stderr",
     "output_type": "stream",
     "text": [
      "[I 2025-02-26 09:00:43,058] Trial 33 finished with value: 0.7418870942671554 and parameters: {'iterations': 1593, 'depth': 10, 'learning_rate': 0.08617019214644085, 'l2_leaf_reg': 10.340164319221861}. Best is trial 22 with value: 0.7421624156635387.\n"
     ]
    },
    {
     "name": "stdout",
     "output_type": "stream",
     "text": [
      "Stopped by overfitting detector  (300 iterations wait)\n",
      "\n",
      "bestTest = 0.7418870943\n",
      "bestIteration = 203\n",
      "\n",
      "Shrink model to first 204 iterations.\n",
      "0:\ttest: 0.7245291\tbest: 0.7245291 (0)\ttotal: 115ms\tremaining: 3m 6s\n",
      "300:\ttest: 0.7412745\tbest: 0.7412852 (295)\ttotal: 28.4s\tremaining: 2m 5s\n",
      "600:\ttest: 0.7415057\tbest: 0.7415584 (538)\ttotal: 1m 1s\tremaining: 1m 44s\n",
      "900:\ttest: 0.7413709\tbest: 0.7416243 (654)\ttotal: 1m 33s\tremaining: 1m 15s\n"
     ]
    },
    {
     "name": "stderr",
     "output_type": "stream",
     "text": [
      "[I 2025-02-26 09:02:23,168] Trial 34 finished with value: 0.7416242851332656 and parameters: {'iterations': 1627, 'depth': 9, 'learning_rate': 0.04695931828959546, 'l2_leaf_reg': 49.789906335936365}. Best is trial 22 with value: 0.7421624156635387.\n"
     ]
    },
    {
     "name": "stdout",
     "output_type": "stream",
     "text": [
      "Stopped by overfitting detector  (300 iterations wait)\n",
      "\n",
      "bestTest = 0.7416242851\n",
      "bestIteration = 654\n",
      "\n",
      "Shrink model to first 655 iterations.\n",
      "0:\ttest: 0.7245712\tbest: 0.7245712 (0)\ttotal: 134ms\tremaining: 4m 52s\n",
      "300:\ttest: 0.7408784\tbest: 0.7411659 (206)\ttotal: 44.6s\tremaining: 4m 38s\n"
     ]
    },
    {
     "name": "stderr",
     "output_type": "stream",
     "text": [
      "[I 2025-02-26 09:03:41,598] Trial 35 finished with value: 0.7411658741148379 and parameters: {'iterations': 2183, 'depth': 10, 'learning_rate': 0.08533107121187883, 'l2_leaf_reg': 17.806814652526718}. Best is trial 22 with value: 0.7421624156635387.\n"
     ]
    },
    {
     "name": "stdout",
     "output_type": "stream",
     "text": [
      "Stopped by overfitting detector  (300 iterations wait)\n",
      "\n",
      "bestTest = 0.7411658741\n",
      "bestIteration = 206\n",
      "\n",
      "Shrink model to first 207 iterations.\n",
      "0:\ttest: 0.7210881\tbest: 0.7210881 (0)\ttotal: 126ms\tremaining: 3m 49s\n",
      "300:\ttest: 0.7407735\tbest: 0.7409033 (280)\ttotal: 27.2s\tremaining: 2m 17s\n"
     ]
    },
    {
     "name": "stderr",
     "output_type": "stream",
     "text": [
      "[I 2025-02-26 09:04:35,930] Trial 36 finished with value: 0.7409032833796905 and parameters: {'iterations': 1822, 'depth': 8, 'learning_rate': 0.06718987622685449, 'l2_leaf_reg': 7.40685419406717}. Best is trial 22 with value: 0.7421624156635387.\n"
     ]
    },
    {
     "name": "stdout",
     "output_type": "stream",
     "text": [
      "Stopped by overfitting detector  (300 iterations wait)\n",
      "\n",
      "bestTest = 0.7409032834\n",
      "bestIteration = 280\n",
      "\n",
      "Shrink model to first 281 iterations.\n",
      "0:\ttest: 0.7246230\tbest: 0.7246230 (0)\ttotal: 130ms\tremaining: 4m 24s\n",
      "300:\ttest: 0.7410410\tbest: 0.7412282 (249)\ttotal: 41.7s\tremaining: 3m 59s\n"
     ]
    },
    {
     "name": "stderr",
     "output_type": "stream",
     "text": [
      "[I 2025-02-26 09:05:56,944] Trial 37 finished with value: 0.7412281812905882 and parameters: {'iterations': 2033, 'depth': 10, 'learning_rate': 0.051636506805320614, 'l2_leaf_reg': 2.4044560654904967}. Best is trial 22 with value: 0.7421624156635387.\n"
     ]
    },
    {
     "name": "stdout",
     "output_type": "stream",
     "text": [
      "Stopped by overfitting detector  (300 iterations wait)\n",
      "\n",
      "bestTest = 0.7412281813\n",
      "bestIteration = 249\n",
      "\n",
      "Shrink model to first 250 iterations.\n",
      "0:\ttest: 0.7245458\tbest: 0.7245458 (0)\ttotal: 109ms\tremaining: 3m\n",
      "300:\ttest: 0.7416399\tbest: 0.7416503 (293)\ttotal: 30.5s\tremaining: 2m 18s\n",
      "600:\ttest: 0.7411002\tbest: 0.7417189 (385)\ttotal: 1m 3s\tremaining: 1m 51s\n"
     ]
    },
    {
     "name": "stderr",
     "output_type": "stream",
     "text": [
      "[I 2025-02-26 09:07:09,447] Trial 38 finished with value: 0.7417188994393394 and parameters: {'iterations': 1664, 'depth': 9, 'learning_rate': 0.07362037873164519, 'l2_leaf_reg': 44.97956881530118}. Best is trial 22 with value: 0.7421624156635387.\n"
     ]
    },
    {
     "name": "stdout",
     "output_type": "stream",
     "text": [
      "Stopped by overfitting detector  (300 iterations wait)\n",
      "\n",
      "bestTest = 0.7417188994\n",
      "bestIteration = 385\n",
      "\n",
      "Shrink model to first 386 iterations.\n",
      "0:\ttest: 0.7246265\tbest: 0.7246265 (0)\ttotal: 129ms\tremaining: 4m 35s\n",
      "300:\ttest: 0.7389379\tbest: 0.7402189 (239)\ttotal: 40.1s\tremaining: 4m 4s\n"
     ]
    },
    {
     "name": "stderr",
     "output_type": "stream",
     "text": [
      "[I 2025-02-26 09:08:26,457] Trial 39 finished with value: 0.7402188534882441 and parameters: {'iterations': 2138, 'depth': 10, 'learning_rate': 0.05858812753670002, 'l2_leaf_reg': 0.39433723392878745}. Best is trial 22 with value: 0.7421624156635387.\n",
      "[I 2025-02-26 09:08:26,463] A new study created in memory with name: no-name-6d520e59-e2b6-4356-b7c2-a56c404ec5b8\n"
     ]
    },
    {
     "name": "stdout",
     "output_type": "stream",
     "text": [
      "Stopped by overfitting detector  (300 iterations wait)\n",
      "\n",
      "bestTest = 0.7402188535\n",
      "bestIteration = 239\n",
      "\n",
      "Shrink model to first 240 iterations.\n"
     ]
    },
    {
     "name": "stderr",
     "output_type": "stream",
     "text": [
      "[I 2025-02-26 09:08:49,561] Trial 0 finished with value: 0.7301583471888142 and parameters: {'num_iterations': 2366, 'objective': 'binary', 'metric': 'auc', 'verbose': -1, 'learning_rate': 0.0652646236447618, 'n_estimators': 236, 'min_child_samples': 45, 'subsample': 0.7, 'colsample_bytree': 0.5}. Best is trial 0 with value: 0.7301583471888142.\n",
      "[I 2025-02-26 09:09:06,627] Trial 1 finished with value: 0.7409492146206506 and parameters: {'num_iterations': 1510, 'objective': 'binary', 'metric': 'auc', 'verbose': -1, 'learning_rate': 0.005231880959249543, 'n_estimators': 1411, 'min_child_samples': 10, 'subsample': 1.0, 'colsample_bytree': 0.5}. Best is trial 1 with value: 0.7409492146206506.\n",
      "[I 2025-02-26 09:09:26,170] Trial 2 finished with value: 0.7403565916187171 and parameters: {'num_iterations': 2334, 'objective': 'binary', 'metric': 'auc', 'verbose': -1, 'learning_rate': 0.006578527777128852, 'n_estimators': 931, 'min_child_samples': 15, 'subsample': 0.5, 'colsample_bytree': 1.0}. Best is trial 1 with value: 0.7409492146206506.\n",
      "[I 2025-02-26 09:09:42,723] Trial 3 finished with value: 0.7408967711262822 and parameters: {'num_iterations': 1620, 'objective': 'binary', 'metric': 'auc', 'verbose': -1, 'learning_rate': 0.0058823249237283685, 'n_estimators': 837, 'min_child_samples': 10, 'subsample': 0.9, 'colsample_bytree': 0.6}. Best is trial 1 with value: 0.7409492146206506.\n",
      "[I 2025-02-26 09:09:59,193] Trial 4 finished with value: 0.7398094948273489 and parameters: {'num_iterations': 1997, 'objective': 'binary', 'metric': 'auc', 'verbose': -1, 'learning_rate': 0.010907507425244923, 'n_estimators': 1597, 'min_child_samples': 50, 'subsample': 0.6, 'colsample_bytree': 0.8}. Best is trial 1 with value: 0.7409492146206506.\n",
      "[I 2025-02-26 09:10:21,742] Trial 5 finished with value: 0.7356700643369339 and parameters: {'num_iterations': 2909, 'objective': 'binary', 'metric': 'auc', 'verbose': -1, 'learning_rate': 0.019760591962733942, 'n_estimators': 612, 'min_child_samples': 30, 'subsample': 0.7, 'colsample_bytree': 0.9}. Best is trial 1 with value: 0.7409492146206506.\n",
      "[I 2025-02-26 09:10:42,538] Trial 6 finished with value: 0.7370537077292411 and parameters: {'num_iterations': 2639, 'objective': 'binary', 'metric': 'auc', 'verbose': -1, 'learning_rate': 0.017862094446750985, 'n_estimators': 794, 'min_child_samples': 35, 'subsample': 1.0, 'colsample_bytree': 0.8}. Best is trial 1 with value: 0.7409492146206506.\n",
      "[I 2025-02-26 09:10:58,970] Trial 7 finished with value: 0.7400376023865217 and parameters: {'num_iterations': 1580, 'objective': 'binary', 'metric': 'auc', 'verbose': -1, 'learning_rate': 0.01776722177611332, 'n_estimators': 529, 'min_child_samples': 25, 'subsample': 0.8, 'colsample_bytree': 0.5}. Best is trial 1 with value: 0.7409492146206506.\n",
      "[I 2025-02-26 09:11:16,705] Trial 8 finished with value: 0.73652307423216 and parameters: {'num_iterations': 1911, 'objective': 'binary', 'metric': 'auc', 'verbose': -1, 'learning_rate': 0.0304747553332844, 'n_estimators': 1328, 'min_child_samples': 10, 'subsample': 0.7, 'colsample_bytree': 0.6}. Best is trial 1 with value: 0.7409492146206506.\n",
      "[I 2025-02-26 09:11:44,051] Trial 9 finished with value: 0.7357686296748013 and parameters: {'num_iterations': 2739, 'objective': 'binary', 'metric': 'auc', 'verbose': -1, 'learning_rate': 0.02691531614176271, 'n_estimators': 1438, 'min_child_samples': 20, 'subsample': 0.6, 'colsample_bytree': 0.5}. Best is trial 1 with value: 0.7409492146206506.\n",
      "[I 2025-02-26 09:11:58,892] Trial 10 finished with value: 0.7291636798984114 and parameters: {'num_iterations': 1933, 'objective': 'binary', 'metric': 'auc', 'verbose': -1, 'learning_rate': 0.08223556891145911, 'n_estimators': 1960, 'min_child_samples': 40, 'subsample': 1.0, 'colsample_bytree': 0.7}. Best is trial 1 with value: 0.7409492146206506.\n",
      "[I 2025-02-26 09:12:14,563] Trial 11 finished with value: 0.7409541226360242 and parameters: {'num_iterations': 1513, 'objective': 'binary', 'metric': 'auc', 'verbose': -1, 'learning_rate': 0.005340229419903739, 'n_estimators': 1206, 'min_child_samples': 10, 'subsample': 0.9, 'colsample_bytree': 0.6}. Best is trial 11 with value: 0.7409541226360242.\n",
      "[I 2025-02-26 09:12:30,631] Trial 12 finished with value: 0.7409325170440761 and parameters: {'num_iterations': 1550, 'objective': 'binary', 'metric': 'auc', 'verbose': -1, 'learning_rate': 0.005009803090245928, 'n_estimators': 1192, 'min_child_samples': 20, 'subsample': 0.9, 'colsample_bytree': 0.6}. Best is trial 11 with value: 0.7409541226360242.\n",
      "[I 2025-02-26 09:12:45,843] Trial 13 finished with value: 0.7400904469403988 and parameters: {'num_iterations': 1777, 'objective': 'binary', 'metric': 'auc', 'verbose': -1, 'learning_rate': 0.010074542479113706, 'n_estimators': 1698, 'min_child_samples': 10, 'subsample': 0.9, 'colsample_bytree': 0.7}. Best is trial 11 with value: 0.7409541226360242.\n",
      "[I 2025-02-26 09:13:06,745] Trial 14 finished with value: 0.7401671168116236 and parameters: {'num_iterations': 2165, 'objective': 'binary', 'metric': 'auc', 'verbose': -1, 'learning_rate': 0.00937245035506795, 'n_estimators': 1104, 'min_child_samples': 20, 'subsample': 1.0, 'colsample_bytree': 0.6}. Best is trial 11 with value: 0.7409541226360242.\n",
      "[I 2025-02-26 09:13:25,642] Trial 15 finished with value: 0.7408348729518129 and parameters: {'num_iterations': 1747, 'objective': 'binary', 'metric': 'auc', 'verbose': -1, 'learning_rate': 0.008303365162986591, 'n_estimators': 1836, 'min_child_samples': 15, 'subsample': 0.8, 'colsample_bytree': 0.5}. Best is trial 11 with value: 0.7409541226360242.\n",
      "[I 2025-02-26 09:13:37,665] Trial 16 finished with value: 0.7349293590459123 and parameters: {'num_iterations': 1514, 'objective': 'binary', 'metric': 'auc', 'verbose': -1, 'learning_rate': 0.04382919201168973, 'n_estimators': 1455, 'min_child_samples': 30, 'subsample': 0.9, 'colsample_bytree': 0.7}. Best is trial 11 with value: 0.7409541226360242.\n",
      "[I 2025-02-26 09:13:57,690] Trial 17 finished with value: 0.7394988801942011 and parameters: {'num_iterations': 2097, 'objective': 'binary', 'metric': 'auc', 'verbose': -1, 'learning_rate': 0.012451096399321161, 'n_estimators': 1253, 'min_child_samples': 15, 'subsample': 1.0, 'colsample_bytree': 0.6}. Best is trial 11 with value: 0.7409541226360242.\n",
      "[I 2025-02-26 09:14:16,978] Trial 18 finished with value: 0.7408983038883649 and parameters: {'num_iterations': 1774, 'objective': 'binary', 'metric': 'auc', 'verbose': -1, 'learning_rate': 0.007306931026031507, 'n_estimators': 1592, 'min_child_samples': 25, 'subsample': 0.8, 'colsample_bytree': 0.5}. Best is trial 11 with value: 0.7409541226360242.\n",
      "[I 2025-02-26 09:14:37,690] Trial 19 finished with value: 0.7386883111309437 and parameters: {'num_iterations': 2510, 'objective': 'binary', 'metric': 'auc', 'verbose': -1, 'learning_rate': 0.012591343093674462, 'n_estimators': 1028, 'min_child_samples': 10, 'subsample': 0.9, 'colsample_bytree': 0.7}. Best is trial 11 with value: 0.7409541226360242.\n",
      "[I 2025-02-26 09:14:55,105] Trial 20 finished with value: 0.7410204959992686 and parameters: {'num_iterations': 1695, 'objective': 'binary', 'metric': 'auc', 'verbose': -1, 'learning_rate': 0.005177551565512215, 'n_estimators': 665, 'min_child_samples': 25, 'subsample': 1.0, 'colsample_bytree': 0.6}. Best is trial 20 with value: 0.7410204959992686.\n",
      "[I 2025-02-26 09:15:12,729] Trial 21 finished with value: 0.7410043702303104 and parameters: {'num_iterations': 1703, 'objective': 'binary', 'metric': 'auc', 'verbose': -1, 'learning_rate': 0.0053196069822991025, 'n_estimators': 332, 'min_child_samples': 25, 'subsample': 1.0, 'colsample_bytree': 0.6}. Best is trial 20 with value: 0.7410204959992686.\n",
      "[I 2025-02-26 09:15:29,941] Trial 22 finished with value: 0.7409235587247534 and parameters: {'num_iterations': 1714, 'objective': 'binary', 'metric': 'auc', 'verbose': -1, 'learning_rate': 0.007231812075883582, 'n_estimators': 107, 'min_child_samples': 30, 'subsample': 1.0, 'colsample_bytree': 0.6}. Best is trial 20 with value: 0.7410204959992686.\n",
      "[I 2025-02-26 09:15:46,120] Trial 23 finished with value: 0.7409813907117286 and parameters: {'num_iterations': 1835, 'objective': 'binary', 'metric': 'auc', 'verbose': -1, 'learning_rate': 0.005113343112012225, 'n_estimators': 417, 'min_child_samples': 35, 'subsample': 0.9, 'colsample_bytree': 0.8}. Best is trial 20 with value: 0.7410204959992686.\n",
      "[I 2025-02-26 09:16:01,469] Trial 24 finished with value: 0.7392457759062444 and parameters: {'num_iterations': 1878, 'objective': 'binary', 'metric': 'auc', 'verbose': -1, 'learning_rate': 0.014009819221911586, 'n_estimators': 406, 'min_child_samples': 35, 'subsample': 1.0, 'colsample_bytree': 0.8}. Best is trial 20 with value: 0.7410204959992686.\n",
      "[I 2025-02-26 09:16:18,853] Trial 25 finished with value: 0.7405123416891051 and parameters: {'num_iterations': 2069, 'objective': 'binary', 'metric': 'auc', 'verbose': -1, 'learning_rate': 0.008017307057760707, 'n_estimators': 310, 'min_child_samples': 35, 'subsample': 0.9, 'colsample_bytree': 0.9}. Best is trial 20 with value: 0.7410204959992686.\n",
      "[I 2025-02-26 09:16:33,664] Trial 26 finished with value: 0.7407454049142862 and parameters: {'num_iterations': 1709, 'objective': 'binary', 'metric': 'auc', 'verbose': -1, 'learning_rate': 0.0064301787880568515, 'n_estimators': 631, 'min_child_samples': 25, 'subsample': 0.8, 'colsample_bytree': 0.9}. Best is trial 20 with value: 0.7410204959992686.\n",
      "[I 2025-02-26 09:16:49,258] Trial 27 finished with value: 0.7404168776133792 and parameters: {'num_iterations': 1847, 'objective': 'binary', 'metric': 'auc', 'verbose': -1, 'learning_rate': 0.00905645432024878, 'n_estimators': 433, 'min_child_samples': 40, 'subsample': 1.0, 'colsample_bytree': 0.8}. Best is trial 20 with value: 0.7410204959992686.\n",
      "[I 2025-02-26 09:17:02,424] Trial 28 finished with value: 0.7353796734273281 and parameters: {'num_iterations': 1650, 'objective': 'binary', 'metric': 'auc', 'verbose': -1, 'learning_rate': 0.03898130569041551, 'n_estimators': 678, 'min_child_samples': 30, 'subsample': 0.9, 'colsample_bytree': 0.7}. Best is trial 20 with value: 0.7410204959992686.\n",
      "[I 2025-02-26 09:17:18,068] Trial 29 finished with value: 0.7309408023776015 and parameters: {'num_iterations': 2010, 'objective': 'binary', 'metric': 'auc', 'verbose': -1, 'learning_rate': 0.05870585508068352, 'n_estimators': 159, 'min_child_samples': 40, 'subsample': 1.0, 'colsample_bytree': 0.7}. Best is trial 20 with value: 0.7410204959992686.\n",
      "[I 2025-02-26 09:17:33,784] Trial 30 finished with value: 0.7409621835350602 and parameters: {'num_iterations': 1819, 'objective': 'binary', 'metric': 'auc', 'verbose': -1, 'learning_rate': 0.006300048275050027, 'n_estimators': 391, 'min_child_samples': 45, 'subsample': 0.8, 'colsample_bytree': 0.9}. Best is trial 20 with value: 0.7410204959992686.\n",
      "[I 2025-02-26 09:17:52,986] Trial 31 finished with value: 0.7407816869017204 and parameters: {'num_iterations': 2263, 'objective': 'binary', 'metric': 'auc', 'verbose': -1, 'learning_rate': 0.006173795941599825, 'n_estimators': 279, 'min_child_samples': 50, 'subsample': 0.8, 'colsample_bytree': 1.0}. Best is trial 20 with value: 0.7410204959992686.\n",
      "[I 2025-02-26 09:18:09,179] Trial 32 finished with value: 0.7411610137500989 and parameters: {'num_iterations': 1835, 'objective': 'binary', 'metric': 'auc', 'verbose': -1, 'learning_rate': 0.0051224839946654305, 'n_estimators': 395, 'min_child_samples': 45, 'subsample': 0.9, 'colsample_bytree': 0.9}. Best is trial 32 with value: 0.7411610137500989.\n",
      "[I 2025-02-26 09:18:23,942] Trial 33 finished with value: 0.7411573406803411 and parameters: {'num_iterations': 1657, 'objective': 'binary', 'metric': 'auc', 'verbose': -1, 'learning_rate': 0.0050452376616800165, 'n_estimators': 473, 'min_child_samples': 45, 'subsample': 1.0, 'colsample_bytree': 1.0}. Best is trial 32 with value: 0.7411610137500989.\n",
      "[I 2025-02-26 09:18:38,538] Trial 34 finished with value: 0.7409428175229428 and parameters: {'num_iterations': 1703, 'objective': 'binary', 'metric': 'auc', 'verbose': -1, 'learning_rate': 0.007359048020886077, 'n_estimators': 725, 'min_child_samples': 45, 'subsample': 1.0, 'colsample_bytree': 1.0}. Best is trial 32 with value: 0.7411610137500989.\n",
      "[I 2025-02-26 09:18:53,000] Trial 35 finished with value: 0.7411777311811045 and parameters: {'num_iterations': 1634, 'objective': 'binary', 'metric': 'auc', 'verbose': -1, 'learning_rate': 0.005842756897835966, 'n_estimators': 527, 'min_child_samples': 50, 'subsample': 1.0, 'colsample_bytree': 1.0}. Best is trial 35 with value: 0.7411777311811045.\n",
      "[I 2025-02-26 09:19:07,238] Trial 36 finished with value: 0.7410979243097623 and parameters: {'num_iterations': 1622, 'objective': 'binary', 'metric': 'auc', 'verbose': -1, 'learning_rate': 0.006108753698307304, 'n_estimators': 539, 'min_child_samples': 50, 'subsample': 0.5, 'colsample_bytree': 1.0}. Best is trial 35 with value: 0.7411777311811045.\n",
      "[I 2025-02-26 09:19:20,756] Trial 37 finished with value: 0.7401786482652198 and parameters: {'num_iterations': 1601, 'objective': 'binary', 'metric': 'auc', 'verbose': -1, 'learning_rate': 0.011358184137519437, 'n_estimators': 523, 'min_child_samples': 50, 'subsample': 0.6, 'colsample_bytree': 1.0}. Best is trial 35 with value: 0.7411777311811045.\n",
      "[I 2025-02-26 09:19:34,772] Trial 38 finished with value: 0.7410162272965771 and parameters: {'num_iterations': 1607, 'objective': 'binary', 'metric': 'auc', 'verbose': -1, 'learning_rate': 0.006427788206248075, 'n_estimators': 876, 'min_child_samples': 45, 'subsample': 0.5, 'colsample_bytree': 1.0}. Best is trial 35 with value: 0.7411777311811045.\n",
      "[I 2025-02-26 09:19:50,682] Trial 39 finished with value: 0.7387064461683315 and parameters: {'num_iterations': 1938, 'objective': 'binary', 'metric': 'auc', 'verbose': -1, 'learning_rate': 0.015925815703317702, 'n_estimators': 545, 'min_child_samples': 50, 'subsample': 0.5, 'colsample_bytree': 0.9}. Best is trial 35 with value: 0.7411777311811045.\n"
     ]
    },
    {
     "name": "stdout",
     "output_type": "stream",
     "text": [
      "Cat val score : 0.7421624156635387\n",
      "LGBM val score : 0.7412061627264728\n",
      "Ensemble val score : 0.7423017897991364\n"
     ]
    },
    {
     "name": "stderr",
     "output_type": "stream",
     "text": [
      "[I 2025-02-26 09:20:06,388] A new study created in memory with name: no-name-16a1ae17-61c6-4123-8e23-6d5d75f78ee3\n"
     ]
    },
    {
     "name": "stdout",
     "output_type": "stream",
     "text": [
      "==================================================\n",
      "0:\ttest: 0.7256713\tbest: 0.7256713 (0)\ttotal: 134ms\tremaining: 5m 17s\n",
      "300:\ttest: 0.7414256\tbest: 0.7414256 (300)\ttotal: 37.7s\tremaining: 4m 18s\n",
      "600:\ttest: 0.7430806\tbest: 0.7430806 (600)\ttotal: 1m 18s\tremaining: 3m 51s\n",
      "900:\ttest: 0.7436952\tbest: 0.7436958 (898)\ttotal: 2m\tremaining: 3m 15s\n",
      "1200:\ttest: 0.7441181\tbest: 0.7441268 (1179)\ttotal: 2m 43s\tremaining: 2m 38s\n",
      "1500:\ttest: 0.7441571\tbest: 0.7442031 (1335)\ttotal: 3m 31s\tremaining: 2m 2s\n"
     ]
    },
    {
     "name": "stderr",
     "output_type": "stream",
     "text": [
      "[I 2025-02-26 09:24:00,592] Trial 0 finished with value: 0.7442030898323425 and parameters: {'iterations': 2366, 'depth': 10, 'learning_rate': 0.01181021951839225, 'l2_leaf_reg': 9.980783802743254}. Best is trial 0 with value: 0.7442030898323425.\n"
     ]
    },
    {
     "name": "stdout",
     "output_type": "stream",
     "text": [
      "Stopped by overfitting detector  (300 iterations wait)\n",
      "\n",
      "bestTest = 0.7442030898\n",
      "bestIteration = 1335\n",
      "\n",
      "Shrink model to first 1336 iterations.\n",
      "저장 완료\n",
      "0:\ttest: 0.7006139\tbest: 0.7006139 (0)\ttotal: 60.3ms\tremaining: 2m 12s\n",
      "300:\ttest: 0.7317751\tbest: 0.7317751 (300)\ttotal: 12.9s\tremaining: 1m 21s\n",
      "600:\ttest: 0.7362135\tbest: 0.7362135 (600)\ttotal: 26.1s\tremaining: 1m 9s\n",
      "900:\ttest: 0.7384480\tbest: 0.7384480 (900)\ttotal: 39.6s\tremaining: 56.8s\n",
      "1200:\ttest: 0.7396284\tbest: 0.7396284 (1200)\ttotal: 53.2s\tremaining: 44s\n",
      "1500:\ttest: 0.7404367\tbest: 0.7404367 (1500)\ttotal: 1m 7s\tremaining: 30.9s\n",
      "1800:\ttest: 0.7409861\tbest: 0.7409861 (1800)\ttotal: 1m 20s\tremaining: 17.6s\n",
      "2100:\ttest: 0.7414460\tbest: 0.7414467 (2099)\ttotal: 1m 35s\tremaining: 4.17s\n"
     ]
    },
    {
     "name": "stderr",
     "output_type": "stream",
     "text": [
      "[I 2025-02-26 09:25:40,477] Trial 1 finished with value: 0.741587165288838 and parameters: {'iterations': 2193, 'depth': 4, 'learning_rate': 0.005671430811678843, 'l2_leaf_reg': 0.00012325230809466137}. Best is trial 0 with value: 0.7442030898323425.\n"
     ]
    },
    {
     "name": "stdout",
     "output_type": "stream",
     "text": [
      "2192:\ttest: 0.7415872\tbest: 0.7415872 (2192)\ttotal: 1m 39s\tremaining: 0us\n",
      "\n",
      "bestTest = 0.7415871653\n",
      "bestIteration = 2192\n",
      "\n",
      "0:\ttest: 0.7006139\tbest: 0.7006139 (0)\ttotal: 52.1ms\tremaining: 2m 12s\n",
      "300:\ttest: 0.7432995\tbest: 0.7433428 (295)\ttotal: 14.2s\tremaining: 1m 45s\n",
      "600:\ttest: 0.7433340\tbest: 0.7435617 (377)\ttotal: 29s\tremaining: 1m 33s\n"
     ]
    },
    {
     "name": "stderr",
     "output_type": "stream",
     "text": [
      "[I 2025-02-26 09:26:13,397] Trial 2 finished with value: 0.7435617281728881 and parameters: {'iterations': 2535, 'depth': 4, 'learning_rate': 0.09275339199839054, 'l2_leaf_reg': 0.0008705394248343123}. Best is trial 0 with value: 0.7442030898323425.\n"
     ]
    },
    {
     "name": "stdout",
     "output_type": "stream",
     "text": [
      "Stopped by overfitting detector  (300 iterations wait)\n",
      "\n",
      "bestTest = 0.7435617282\n",
      "bestIteration = 377\n",
      "\n",
      "Shrink model to first 378 iterations.\n",
      "0:\ttest: 0.7006139\tbest: 0.7006139 (0)\ttotal: 53.7ms\tremaining: 2m 5s\n",
      "300:\ttest: 0.7421030\tbest: 0.7421030 (300)\ttotal: 13.7s\tremaining: 1m 32s\n",
      "600:\ttest: 0.7432638\tbest: 0.7432747 (576)\ttotal: 28.2s\tremaining: 1m 21s\n",
      "900:\ttest: 0.7432394\tbest: 0.7433653 (775)\ttotal: 42.9s\tremaining: 1m 8s\n"
     ]
    },
    {
     "name": "stderr",
     "output_type": "stream",
     "text": [
      "[I 2025-02-26 09:27:05,168] Trial 3 finished with value: 0.7433652646060394 and parameters: {'iterations': 2334, 'depth': 4, 'learning_rate': 0.04657568321363276, 'l2_leaf_reg': 0.0008640473331457248}. Best is trial 0 with value: 0.7442030898323425.\n"
     ]
    },
    {
     "name": "stdout",
     "output_type": "stream",
     "text": [
      "Stopped by overfitting detector  (300 iterations wait)\n",
      "\n",
      "bestTest = 0.7433652646\n",
      "bestIteration = 775\n",
      "\n",
      "Shrink model to first 776 iterations.\n",
      "0:\ttest: 0.7256081\tbest: 0.7256081 (0)\ttotal: 130ms\tremaining: 3m 46s\n",
      "300:\ttest: 0.7413746\tbest: 0.7413832 (299)\ttotal: 37.1s\tremaining: 2m 57s\n",
      "600:\ttest: 0.7424092\tbest: 0.7424371 (597)\ttotal: 1m 16s\tremaining: 2m 24s\n",
      "900:\ttest: 0.7429778\tbest: 0.7429778 (900)\ttotal: 1m 55s\tremaining: 1m 47s\n",
      "1200:\ttest: 0.7423557\tbest: 0.7430146 (1023)\ttotal: 2m 39s\tremaining: 1m 11s\n"
     ]
    },
    {
     "name": "stderr",
     "output_type": "stream",
     "text": [
      "[I 2025-02-26 09:30:03,483] Trial 4 finished with value: 0.743014579759999 and parameters: {'iterations': 1742, 'depth': 10, 'learning_rate': 0.012622767482095846, 'l2_leaf_reg': 0.00021158816350109617}. Best is trial 0 with value: 0.7442030898323425.\n"
     ]
    },
    {
     "name": "stdout",
     "output_type": "stream",
     "text": [
      "Stopped by overfitting detector  (300 iterations wait)\n",
      "\n",
      "bestTest = 0.7430145798\n",
      "bestIteration = 1023\n",
      "\n",
      "Shrink model to first 1024 iterations.\n",
      "0:\ttest: 0.7006139\tbest: 0.7006139 (0)\ttotal: 53.8ms\tremaining: 1m 52s\n",
      "300:\ttest: 0.7428071\tbest: 0.7428071 (300)\ttotal: 14.3s\tremaining: 1m 24s\n",
      "600:\ttest: 0.7430584\tbest: 0.7433053 (454)\ttotal: 29s\tremaining: 1m 11s\n"
     ]
    },
    {
     "name": "stderr",
     "output_type": "stream",
     "text": [
      "[I 2025-02-26 09:30:40,169] Trial 5 finished with value: 0.7433053320202513 and parameters: {'iterations': 2082, 'depth': 4, 'learning_rate': 0.06995196593094148, 'l2_leaf_reg': 0.0018080296485396804}. Best is trial 0 with value: 0.7442030898323425.\n"
     ]
    },
    {
     "name": "stdout",
     "output_type": "stream",
     "text": [
      "Stopped by overfitting detector  (300 iterations wait)\n",
      "\n",
      "bestTest = 0.743305332\n",
      "bestIteration = 454\n",
      "\n",
      "Shrink model to first 455 iterations.\n",
      "0:\ttest: 0.7070925\tbest: 0.7070925 (0)\ttotal: 62.3ms\tremaining: 2m 4s\n",
      "300:\ttest: 0.7433814\tbest: 0.7433884 (299)\ttotal: 17.2s\tremaining: 1m 36s\n",
      "600:\ttest: 0.7436845\tbest: 0.7437554 (522)\ttotal: 35s\tremaining: 1m 21s\n"
     ]
    },
    {
     "name": "stderr",
     "output_type": "stream",
     "text": [
      "[I 2025-02-26 09:31:28,698] Trial 6 finished with value: 0.7437553525560865 and parameters: {'iterations': 1997, 'depth': 5, 'learning_rate': 0.07985155992831598, 'l2_leaf_reg': 62.52181000710482}. Best is trial 0 with value: 0.7442030898323425.\n"
     ]
    },
    {
     "name": "stdout",
     "output_type": "stream",
     "text": [
      "Stopped by overfitting detector  (300 iterations wait)\n",
      "\n",
      "bestTest = 0.7437553526\n",
      "bestIteration = 522\n",
      "\n",
      "Shrink model to first 523 iterations.\n",
      "0:\ttest: 0.7197662\tbest: 0.7197662 (0)\ttotal: 79.8ms\tremaining: 2m 33s\n",
      "300:\ttest: 0.7430479\tbest: 0.7434421 (183)\ttotal: 23.8s\tremaining: 2m 8s\n"
     ]
    },
    {
     "name": "stderr",
     "output_type": "stream",
     "text": [
      "[I 2025-02-26 09:32:07,970] Trial 7 finished with value: 0.7434421211089166 and parameters: {'iterations': 1927, 'depth': 7, 'learning_rate': 0.0941937211034094, 'l2_leaf_reg': 0.05654822767791934}. Best is trial 0 with value: 0.7442030898323425.\n"
     ]
    },
    {
     "name": "stdout",
     "output_type": "stream",
     "text": [
      "Stopped by overfitting detector  (300 iterations wait)\n",
      "\n",
      "bestTest = 0.7434421211\n",
      "bestIteration = 183\n",
      "\n",
      "Shrink model to first 184 iterations.\n",
      "0:\ttest: 0.7197657\tbest: 0.7197657 (0)\ttotal: 82.2ms\tremaining: 2m 36s\n",
      "300:\ttest: 0.7436393\tbest: 0.7436469 (299)\ttotal: 23.2s\tremaining: 2m 3s\n",
      "600:\ttest: 0.7433546\tbest: 0.7437377 (365)\ttotal: 48.1s\tremaining: 1m 44s\n"
     ]
    },
    {
     "name": "stderr",
     "output_type": "stream",
     "text": [
      "[I 2025-02-26 09:33:01,770] Trial 8 finished with value: 0.7437376979959318 and parameters: {'iterations': 1904, 'depth': 7, 'learning_rate': 0.05155602859187331, 'l2_leaf_reg': 1.299974533316308}. Best is trial 0 with value: 0.7442030898323425.\n"
     ]
    },
    {
     "name": "stdout",
     "output_type": "stream",
     "text": [
      "Stopped by overfitting detector  (300 iterations wait)\n",
      "\n",
      "bestTest = 0.743737698\n",
      "bestIteration = 365\n",
      "\n",
      "Shrink model to first 366 iterations.\n",
      "0:\ttest: 0.7197660\tbest: 0.7197660 (0)\ttotal: 74.6ms\tremaining: 3m 16s\n",
      "300:\ttest: 0.7428929\tbest: 0.7428929 (300)\ttotal: 19.8s\tremaining: 2m 33s\n",
      "600:\ttest: 0.7440629\tbest: 0.7440662 (599)\ttotal: 41.3s\tremaining: 2m 20s\n",
      "900:\ttest: 0.7438414\tbest: 0.7440770 (604)\ttotal: 1m 3s\tremaining: 2m 1s\n"
     ]
    },
    {
     "name": "stderr",
     "output_type": "stream",
     "text": [
      "[I 2025-02-26 09:34:05,428] Trial 9 finished with value: 0.7440770459618009 and parameters: {'iterations': 2639, 'depth': 6, 'learning_rate': 0.03968704290444751, 'l2_leaf_reg': 0.30557194377967184}. Best is trial 0 with value: 0.7442030898323425.\n"
     ]
    },
    {
     "name": "stdout",
     "output_type": "stream",
     "text": [
      "Stopped by overfitting detector  (300 iterations wait)\n",
      "\n",
      "bestTest = 0.744077046\n",
      "bestIteration = 604\n",
      "\n",
      "Shrink model to first 605 iterations.\n",
      "0:\ttest: 0.7264892\tbest: 0.7264892 (0)\ttotal: 126ms\tremaining: 6m 10s\n",
      "300:\ttest: 0.7429662\tbest: 0.7429662 (300)\ttotal: 36.5s\tremaining: 5m 20s\n",
      "600:\ttest: 0.7440069\tbest: 0.7440069 (600)\ttotal: 1m 16s\tremaining: 4m 57s\n",
      "900:\ttest: 0.7441461\tbest: 0.7442223 (806)\ttotal: 2m 9s\tremaining: 4m 52s\n"
     ]
    },
    {
     "name": "stderr",
     "output_type": "stream",
     "text": [
      "[I 2025-02-26 09:36:51,607] Trial 10 finished with value: 0.7442223446596457 and parameters: {'iterations': 2945, 'depth': 10, 'learning_rate': 0.025911330134996406, 'l2_leaf_reg': 97.18545559492516}. Best is trial 10 with value: 0.7442223446596457.\n"
     ]
    },
    {
     "name": "stdout",
     "output_type": "stream",
     "text": [
      "Stopped by overfitting detector  (300 iterations wait)\n",
      "\n",
      "bestTest = 0.7442223447\n",
      "bestIteration = 806\n",
      "\n",
      "Shrink model to first 807 iterations.\n",
      "저장 완료\n",
      "0:\ttest: 0.7264848\tbest: 0.7264848 (0)\ttotal: 127ms\tremaining: 6m 19s\n",
      "300:\ttest: 0.7434526\tbest: 0.7434526 (300)\ttotal: 38s\tremaining: 5m 40s\n",
      "600:\ttest: 0.7441079\tbest: 0.7441207 (585)\ttotal: 1m 19s\tremaining: 5m 15s\n",
      "900:\ttest: 0.7442220\tbest: 0.7442816 (793)\ttotal: 2m 12s\tremaining: 5m 8s\n"
     ]
    },
    {
     "name": "stderr",
     "output_type": "stream",
     "text": [
      "[I 2025-02-26 09:39:38,970] Trial 11 finished with value: 0.7442815545441408 and parameters: {'iterations': 2995, 'depth': 10, 'learning_rate': 0.026163874004606635, 'l2_leaf_reg': 73.1213351392818}. Best is trial 11 with value: 0.7442815545441408.\n"
     ]
    },
    {
     "name": "stdout",
     "output_type": "stream",
     "text": [
      "Stopped by overfitting detector  (300 iterations wait)\n",
      "\n",
      "bestTest = 0.7442815545\n",
      "bestIteration = 793\n",
      "\n",
      "Shrink model to first 794 iterations.\n",
      "저장 완료\n",
      "0:\ttest: 0.7260241\tbest: 0.7260241 (0)\ttotal: 111ms\tremaining: 5m 21s\n",
      "300:\ttest: 0.7428809\tbest: 0.7428809 (300)\ttotal: 27.4s\tremaining: 3m 56s\n",
      "600:\ttest: 0.7439028\tbest: 0.7439034 (596)\ttotal: 56.2s\tremaining: 3m 34s\n",
      "900:\ttest: 0.7441230\tbest: 0.7441557 (878)\ttotal: 1m 28s\tremaining: 3m 14s\n",
      "1200:\ttest: 0.7441776\tbest: 0.7441877 (1191)\ttotal: 1m 59s\tremaining: 2m 48s\n",
      "1500:\ttest: 0.7442076\tbest: 0.7442179 (1243)\ttotal: 2m 31s\tremaining: 2m 20s\n",
      "1800:\ttest: 0.7442122\tbest: 0.7442284 (1619)\ttotal: 3m 3s\tremaining: 1m 51s\n"
     ]
    },
    {
     "name": "stderr",
     "output_type": "stream",
     "text": [
      "[I 2025-02-26 09:42:56,093] Trial 12 finished with value: 0.7442283605522759 and parameters: {'iterations': 2897, 'depth': 9, 'learning_rate': 0.02806616524326411, 'l2_leaf_reg': 87.13438924619796}. Best is trial 11 with value: 0.7442815545441408.\n"
     ]
    },
    {
     "name": "stdout",
     "output_type": "stream",
     "text": [
      "Stopped by overfitting detector  (300 iterations wait)\n",
      "\n",
      "bestTest = 0.7442283606\n",
      "bestIteration = 1619\n",
      "\n",
      "Shrink model to first 1620 iterations.\n",
      "0:\ttest: 0.7232871\tbest: 0.7232871 (0)\ttotal: 113ms\tremaining: 5m 37s\n",
      "300:\ttest: 0.7431488\tbest: 0.7431488 (300)\ttotal: 28.8s\tremaining: 4m 15s\n",
      "600:\ttest: 0.7441296\tbest: 0.7441438 (597)\ttotal: 1m\tremaining: 3m 58s\n",
      "900:\ttest: 0.7440334\tbest: 0.7442420 (674)\ttotal: 1m 33s\tremaining: 3m 35s\n"
     ]
    },
    {
     "name": "stderr",
     "output_type": "stream",
     "text": [
      "[I 2025-02-26 09:44:38,269] Trial 13 finished with value: 0.7442420481970922 and parameters: {'iterations': 2975, 'depth': 9, 'learning_rate': 0.02991325011301619, 'l2_leaf_reg': 6.51790052016232}. Best is trial 11 with value: 0.7442815545441408.\n"
     ]
    },
    {
     "name": "stdout",
     "output_type": "stream",
     "text": [
      "Stopped by overfitting detector  (300 iterations wait)\n",
      "\n",
      "bestTest = 0.7442420482\n",
      "bestIteration = 674\n",
      "\n",
      "Shrink model to first 675 iterations.\n",
      "0:\ttest: 0.7228322\tbest: 0.7228322 (0)\ttotal: 99.1ms\tremaining: 4m 32s\n",
      "300:\ttest: 0.7429608\tbest: 0.7429655 (299)\ttotal: 25.1s\tremaining: 3m 24s\n",
      "600:\ttest: 0.7441497\tbest: 0.7441583 (577)\ttotal: 52.2s\tremaining: 3m 7s\n",
      "900:\ttest: 0.7441068\tbest: 0.7442055 (733)\ttotal: 1m 20s\tremaining: 2m 46s\n"
     ]
    },
    {
     "name": "stderr",
     "output_type": "stream",
     "text": [
      "[I 2025-02-26 09:46:12,149] Trial 14 finished with value: 0.7442055319273706 and parameters: {'iterations': 2754, 'depth': 8, 'learning_rate': 0.030373980283948276, 'l2_leaf_reg': 7.23581953055629}. Best is trial 11 with value: 0.7442815545441408.\n"
     ]
    },
    {
     "name": "stdout",
     "output_type": "stream",
     "text": [
      "Stopped by overfitting detector  (300 iterations wait)\n",
      "\n",
      "bestTest = 0.7442055319\n",
      "bestIteration = 733\n",
      "\n",
      "Shrink model to first 734 iterations.\n",
      "0:\ttest: 0.7228017\tbest: 0.7228017 (0)\ttotal: 103ms\tremaining: 2m 36s\n",
      "300:\ttest: 0.7437102\tbest: 0.7437776 (280)\ttotal: 30.1s\tremaining: 2m 1s\n"
     ]
    },
    {
     "name": "stderr",
     "output_type": "stream",
     "text": [
      "[I 2025-02-26 09:47:13,272] Trial 15 finished with value: 0.7437776054024892 and parameters: {'iterations': 1513, 'depth': 9, 'learning_rate': 0.06272738732962457, 'l2_leaf_reg': 8.66034203066278}. Best is trial 11 with value: 0.7442815545441408.\n"
     ]
    },
    {
     "name": "stdout",
     "output_type": "stream",
     "text": [
      "Stopped by overfitting detector  (300 iterations wait)\n",
      "\n",
      "bestTest = 0.7437776054\n",
      "bestIteration = 280\n",
      "\n",
      "Shrink model to first 281 iterations.\n",
      "0:\ttest: 0.7232946\tbest: 0.7232946 (0)\ttotal: 105ms\tremaining: 5m 10s\n",
      "300:\ttest: 0.7429857\tbest: 0.7431500 (285)\ttotal: 28.5s\tremaining: 4m 12s\n",
      "600:\ttest: 0.7429307\tbest: 0.7433853 (405)\ttotal: 1m 1s\tremaining: 4m 1s\n"
     ]
    },
    {
     "name": "stderr",
     "output_type": "stream",
     "text": [
      "[I 2025-02-26 09:48:26,613] Trial 16 finished with value: 0.7433852659599527 and parameters: {'iterations': 2965, 'depth': 9, 'learning_rate': 0.03797914335914334, 'l2_leaf_reg': 0.03562900678874207}. Best is trial 11 with value: 0.7442815545441408.\n"
     ]
    },
    {
     "name": "stdout",
     "output_type": "stream",
     "text": [
      "Stopped by overfitting detector  (300 iterations wait)\n",
      "\n",
      "bestTest = 0.743385266\n",
      "bestIteration = 405\n",
      "\n",
      "Shrink model to first 406 iterations.\n",
      "0:\ttest: 0.7228479\tbest: 0.7228479 (0)\ttotal: 92.7ms\tremaining: 4m 13s\n",
      "300:\ttest: 0.7422701\tbest: 0.7422701 (300)\ttotal: 25.1s\tremaining: 3m 23s\n",
      "600:\ttest: 0.7436167\tbest: 0.7436167 (600)\ttotal: 50.8s\tremaining: 3m\n",
      "900:\ttest: 0.7442659\tbest: 0.7443139 (858)\ttotal: 1m 19s\tremaining: 2m 42s\n",
      "1200:\ttest: 0.7444119\tbest: 0.7444451 (1153)\ttotal: 1m 48s\tremaining: 2m 18s\n"
     ]
    },
    {
     "name": "stderr",
     "output_type": "stream",
     "text": [
      "[I 2025-02-26 09:50:39,533] Trial 17 finished with value: 0.7444450637262117 and parameters: {'iterations': 2739, 'depth': 8, 'learning_rate': 0.020808766182702852, 'l2_leaf_reg': 1.0786964460598871}. Best is trial 17 with value: 0.7444450637262117.\n"
     ]
    },
    {
     "name": "stdout",
     "output_type": "stream",
     "text": [
      "Stopped by overfitting detector  (300 iterations wait)\n",
      "\n",
      "bestTest = 0.7444450637\n",
      "bestIteration = 1153\n",
      "\n",
      "Shrink model to first 1154 iterations.\n",
      "저장 완료\n",
      "0:\ttest: 0.7228489\tbest: 0.7228489 (0)\ttotal: 94.6ms\tremaining: 4m 17s\n",
      "300:\ttest: 0.7420845\tbest: 0.7420845 (300)\ttotal: 24.8s\tremaining: 3m 18s\n",
      "600:\ttest: 0.7434374\tbest: 0.7434374 (600)\ttotal: 50s\tremaining: 2m 56s\n",
      "900:\ttest: 0.7439464\tbest: 0.7439464 (900)\ttotal: 1m 18s\tremaining: 2m 37s\n",
      "1200:\ttest: 0.7438328\tbest: 0.7439584 (907)\ttotal: 1m 46s\tremaining: 2m 14s\n"
     ]
    },
    {
     "name": "stderr",
     "output_type": "stream",
     "text": [
      "[I 2025-02-26 09:52:27,203] Trial 18 finished with value: 0.7439583998522957 and parameters: {'iterations': 2718, 'depth': 8, 'learning_rate': 0.01891003807232277, 'l2_leaf_reg': 0.4880382615356001}. Best is trial 17 with value: 0.7444450637262117.\n"
     ]
    },
    {
     "name": "stdout",
     "output_type": "stream",
     "text": [
      "Stopped by overfitting detector  (300 iterations wait)\n",
      "\n",
      "bestTest = 0.7439583999\n",
      "bestIteration = 907\n",
      "\n",
      "Shrink model to first 908 iterations.\n",
      "0:\ttest: 0.7228497\tbest: 0.7228497 (0)\ttotal: 97.5ms\tremaining: 4m 4s\n",
      "300:\ttest: 0.7427683\tbest: 0.7428810 (262)\ttotal: 26.8s\tremaining: 3m 16s\n"
     ]
    },
    {
     "name": "stderr",
     "output_type": "stream",
     "text": [
      "[I 2025-02-26 09:53:19,219] Trial 19 finished with value: 0.7428809832638581 and parameters: {'iterations': 2507, 'depth': 8, 'learning_rate': 0.05913042368901235, 'l2_leaf_reg': 0.006971472154688638}. Best is trial 17 with value: 0.7444450637262117.\n"
     ]
    },
    {
     "name": "stdout",
     "output_type": "stream",
     "text": [
      "Stopped by overfitting detector  (300 iterations wait)\n",
      "\n",
      "bestTest = 0.7428809833\n",
      "bestIteration = 262\n",
      "\n",
      "Shrink model to first 263 iterations.\n",
      "0:\ttest: 0.7197657\tbest: 0.7197657 (0)\ttotal: 80.9ms\tremaining: 3m 46s\n",
      "300:\ttest: 0.7416247\tbest: 0.7416251 (298)\ttotal: 21.8s\tremaining: 3m 1s\n",
      "600:\ttest: 0.7430958\tbest: 0.7430958 (600)\ttotal: 44.3s\tremaining: 2m 42s\n",
      "900:\ttest: 0.7438285\tbest: 0.7438572 (862)\ttotal: 1m 9s\tremaining: 2m 26s\n",
      "1200:\ttest: 0.7439762\tbest: 0.7440010 (1184)\ttotal: 1m 34s\tremaining: 2m 5s\n",
      "1500:\ttest: 0.7440345\tbest: 0.7440560 (1484)\ttotal: 1m 59s\tremaining: 1m 43s\n",
      "1800:\ttest: 0.7439316\tbest: 0.7440638 (1589)\ttotal: 2m 24s\tremaining: 1m 20s\n"
     ]
    },
    {
     "name": "stderr",
     "output_type": "stream",
     "text": [
      "[I 2025-02-26 09:55:51,617] Trial 20 finished with value: 0.744063822910673 and parameters: {'iterations': 2807, 'depth': 7, 'learning_rate': 0.01951323827057038, 'l2_leaf_reg': 1.5169779771315897}. Best is trial 17 with value: 0.7444450637262117.\n"
     ]
    },
    {
     "name": "stdout",
     "output_type": "stream",
     "text": [
      "Stopped by overfitting detector  (300 iterations wait)\n",
      "\n",
      "bestTest = 0.7440638229\n",
      "bestIteration = 1589\n",
      "\n",
      "Shrink model to first 1590 iterations.\n",
      "0:\ttest: 0.7228209\tbest: 0.7228209 (0)\ttotal: 108ms\tremaining: 5m 21s\n",
      "300:\ttest: 0.7433471\tbest: 0.7433471 (300)\ttotal: 28.4s\tremaining: 4m 13s\n",
      "600:\ttest: 0.7441560\tbest: 0.7442031 (585)\ttotal: 1m\tremaining: 3m 58s\n"
     ]
    },
    {
     "name": "stderr",
     "output_type": "stream",
     "text": [
      "[I 2025-02-26 09:57:23,274] Trial 21 finished with value: 0.7442031136576599 and parameters: {'iterations': 2986, 'depth': 9, 'learning_rate': 0.03741467372757461, 'l2_leaf_reg': 20.704429400626612}. Best is trial 17 with value: 0.7444450637262117.\n"
     ]
    },
    {
     "name": "stdout",
     "output_type": "stream",
     "text": [
      "Stopped by overfitting detector  (300 iterations wait)\n",
      "\n",
      "bestTest = 0.7442031137\n",
      "bestIteration = 585\n",
      "\n",
      "Shrink model to first 586 iterations.\n",
      "0:\ttest: 0.7255959\tbest: 0.7255959 (0)\ttotal: 171ms\tremaining: 8m 4s\n",
      "300:\ttest: 0.7430099\tbest: 0.7430102 (299)\ttotal: 38.1s\tremaining: 5m 20s\n",
      "600:\ttest: 0.7438411\tbest: 0.7438411 (600)\ttotal: 1m 20s\tremaining: 4m 59s\n",
      "900:\ttest: 0.7436586\tbest: 0.7439182 (751)\ttotal: 2m 7s\tremaining: 4m 32s\n"
     ]
    },
    {
     "name": "stderr",
     "output_type": "stream",
     "text": [
      "[I 2025-02-26 09:59:54,558] Trial 22 finished with value: 0.7439181986001577 and parameters: {'iterations': 2834, 'depth': 10, 'learning_rate': 0.021491190421770695, 'l2_leaf_reg': 2.007835725239796}. Best is trial 17 with value: 0.7444450637262117.\n"
     ]
    },
    {
     "name": "stdout",
     "output_type": "stream",
     "text": [
      "Stopped by overfitting detector  (300 iterations wait)\n",
      "\n",
      "bestTest = 0.7439181986\n",
      "bestIteration = 751\n",
      "\n",
      "Shrink model to first 752 iterations.\n",
      "0:\ttest: 0.7260565\tbest: 0.7260565 (0)\ttotal: 101ms\tremaining: 4m 23s\n",
      "300:\ttest: 0.7431261\tbest: 0.7431261 (300)\ttotal: 25.7s\tremaining: 3m 17s\n",
      "600:\ttest: 0.7441604\tbest: 0.7441726 (596)\ttotal: 53s\tremaining: 2m 57s\n",
      "900:\ttest: 0.7443281\tbest: 0.7443435 (864)\ttotal: 1m 21s\tremaining: 2m 34s\n",
      "1200:\ttest: 0.7441602\tbest: 0.7443811 (928)\ttotal: 1m 49s\tremaining: 2m 9s\n"
     ]
    },
    {
     "name": "stderr",
     "output_type": "stream",
     "text": [
      "[I 2025-02-26 10:01:47,263] Trial 23 finished with value: 0.7443810848073606 and parameters: {'iterations': 2616, 'depth': 8, 'learning_rate': 0.03141990771541321, 'l2_leaf_reg': 22.131851802044103}. Best is trial 17 with value: 0.7444450637262117.\n"
     ]
    },
    {
     "name": "stdout",
     "output_type": "stream",
     "text": [
      "Stopped by overfitting detector  (300 iterations wait)\n",
      "\n",
      "bestTest = 0.7443810848\n",
      "bestIteration = 928\n",
      "\n",
      "Shrink model to first 929 iterations.\n",
      "0:\ttest: 0.7125403\tbest: 0.7125403 (0)\ttotal: 75.5ms\tremaining: 3m 16s\n",
      "300:\ttest: 0.7429905\tbest: 0.7429905 (300)\ttotal: 19.5s\tremaining: 2m 29s\n",
      "600:\ttest: 0.7439124\tbest: 0.7439217 (594)\ttotal: 40.5s\tremaining: 2m 15s\n",
      "900:\ttest: 0.7439410\tbest: 0.7440431 (739)\ttotal: 1m 1s\tremaining: 1m 57s\n"
     ]
    },
    {
     "name": "stderr",
     "output_type": "stream",
     "text": [
      "[I 2025-02-26 10:02:59,244] Trial 24 finished with value: 0.7440431385643289 and parameters: {'iterations': 2609, 'depth': 6, 'learning_rate': 0.04435840609226628, 'l2_leaf_reg': 34.391780191578896}. Best is trial 17 with value: 0.7444450637262117.\n"
     ]
    },
    {
     "name": "stdout",
     "output_type": "stream",
     "text": [
      "Stopped by overfitting detector  (300 iterations wait)\n",
      "\n",
      "bestTest = 0.7440431386\n",
      "bestIteration = 739\n",
      "\n",
      "Shrink model to first 740 iterations.\n",
      "0:\ttest: 0.7228490\tbest: 0.7228490 (0)\ttotal: 91ms\tremaining: 3m 42s\n",
      "300:\ttest: 0.7382932\tbest: 0.7382932 (300)\ttotal: 24.3s\tremaining: 2m 53s\n",
      "600:\ttest: 0.7410031\tbest: 0.7410031 (600)\ttotal: 49.2s\tremaining: 2m 30s\n",
      "900:\ttest: 0.7421853\tbest: 0.7421853 (900)\ttotal: 1m 14s\tremaining: 2m 7s\n",
      "1200:\ttest: 0.7426975\tbest: 0.7426975 (1200)\ttotal: 1m 39s\tremaining: 1m 43s\n",
      "1500:\ttest: 0.7430116\tbest: 0.7430116 (1499)\ttotal: 2m 4s\tremaining: 1m 18s\n",
      "1800:\ttest: 0.7433286\tbest: 0.7433286 (1800)\ttotal: 2m 30s\tremaining: 53.6s\n",
      "2100:\ttest: 0.7436469\tbest: 0.7436541 (2098)\ttotal: 2m 58s\tremaining: 29.1s\n",
      "2400:\ttest: 0.7438356\tbest: 0.7438427 (2390)\ttotal: 3m 27s\tremaining: 3.71s\n"
     ]
    },
    {
     "name": "stderr",
     "output_type": "stream",
     "text": [
      "[I 2025-02-26 10:06:31,016] Trial 25 finished with value: 0.7438483745367842 and parameters: {'iterations': 2444, 'depth': 8, 'learning_rate': 0.006694147911330136, 'l2_leaf_reg': 0.24815452470019433}. Best is trial 17 with value: 0.7444450637262117.\n"
     ]
    },
    {
     "name": "stdout",
     "output_type": "stream",
     "text": [
      "2443:\ttest: 0.7438350\tbest: 0.7438484 (2432)\ttotal: 3m 31s\tremaining: 0us\n",
      "\n",
      "bestTest = 0.7438483745\n",
      "bestIteration = 2432\n",
      "\n",
      "Shrink model to first 2433 iterations.\n",
      "0:\ttest: 0.7197646\tbest: 0.7197646 (0)\ttotal: 79ms\tremaining: 3m 30s\n",
      "300:\ttest: 0.7422261\tbest: 0.7422261 (300)\ttotal: 19.7s\tremaining: 2m 34s\n",
      "600:\ttest: 0.7435240\tbest: 0.7435258 (598)\ttotal: 40.9s\tremaining: 2m 20s\n",
      "900:\ttest: 0.7436697\tbest: 0.7437300 (834)\ttotal: 1m 2s\tremaining: 2m 1s\n"
     ]
    },
    {
     "name": "stderr",
     "output_type": "stream",
     "text": [
      "[I 2025-02-26 10:07:50,228] Trial 26 finished with value: 0.7437299905057699 and parameters: {'iterations': 2668, 'depth': 6, 'learning_rate': 0.032832378807844814, 'l2_leaf_reg': 3.636666612684028}. Best is trial 17 with value: 0.7444450637262117.\n"
     ]
    },
    {
     "name": "stdout",
     "output_type": "stream",
     "text": [
      "Stopped by overfitting detector  (300 iterations wait)\n",
      "\n",
      "bestTest = 0.7437299905\n",
      "bestIteration = 834\n",
      "\n",
      "Shrink model to first 835 iterations.\n",
      "0:\ttest: 0.7260432\tbest: 0.7260432 (0)\ttotal: 95.1ms\tremaining: 4m 29s\n",
      "300:\ttest: 0.7414829\tbest: 0.7414849 (299)\ttotal: 24.3s\tremaining: 3m 24s\n",
      "600:\ttest: 0.7431891\tbest: 0.7431892 (599)\ttotal: 49s\tremaining: 3m 1s\n",
      "900:\ttest: 0.7438041\tbest: 0.7438170 (894)\ttotal: 1m 13s\tremaining: 2m 38s\n",
      "1200:\ttest: 0.7441249\tbest: 0.7441337 (1162)\ttotal: 1m 42s\tremaining: 2m 18s\n",
      "1500:\ttest: 0.7443020\tbest: 0.7443061 (1453)\ttotal: 2m 10s\tremaining: 1m 55s\n",
      "1800:\ttest: 0.7442619\tbest: 0.7443310 (1525)\ttotal: 2m 38s\tremaining: 1m 30s\n"
     ]
    },
    {
     "name": "stderr",
     "output_type": "stream",
     "text": [
      "[I 2025-02-26 10:10:31,517] Trial 27 finished with value: 0.7443309642814337 and parameters: {'iterations': 2832, 'depth': 8, 'learning_rate': 0.015031205029540619, 'l2_leaf_reg': 26.874369193739216}. Best is trial 17 with value: 0.7444450637262117.\n"
     ]
    },
    {
     "name": "stdout",
     "output_type": "stream",
     "text": [
      "Stopped by overfitting detector  (300 iterations wait)\n",
      "\n",
      "bestTest = 0.7443309643\n",
      "bestIteration = 1525\n",
      "\n",
      "Shrink model to first 1526 iterations.\n",
      "0:\ttest: 0.7260564\tbest: 0.7260564 (0)\ttotal: 99.6ms\tremaining: 4m 15s\n",
      "300:\ttest: 0.7411643\tbest: 0.7411643 (300)\ttotal: 24.7s\tremaining: 3m 5s\n",
      "600:\ttest: 0.7428251\tbest: 0.7428251 (600)\ttotal: 50.1s\tremaining: 2m 43s\n",
      "900:\ttest: 0.7434588\tbest: 0.7434602 (899)\ttotal: 1m 14s\tremaining: 2m 17s\n",
      "1200:\ttest: 0.7439600\tbest: 0.7439674 (1196)\ttotal: 1m 43s\tremaining: 1m 57s\n",
      "1500:\ttest: 0.7441532\tbest: 0.7441532 (1500)\ttotal: 2m 12s\tremaining: 1m 34s\n",
      "1800:\ttest: 0.7441977\tbest: 0.7442147 (1776)\ttotal: 2m 41s\tremaining: 1m 8s\n",
      "2100:\ttest: 0.7442471\tbest: 0.7442586 (2055)\ttotal: 3m 10s\tremaining: 42.1s\n",
      "2400:\ttest: 0.7442703\tbest: 0.7442994 (2329)\ttotal: 3m 40s\tremaining: 15s\n"
     ]
    },
    {
     "name": "stderr",
     "output_type": "stream",
     "text": [
      "[I 2025-02-26 10:14:27,939] Trial 28 finished with value: 0.7443164943720312 and parameters: {'iterations': 2565, 'depth': 8, 'learning_rate': 0.013723705374866429, 'l2_leaf_reg': 21.729365981052425}. Best is trial 17 with value: 0.7444450637262117.\n"
     ]
    },
    {
     "name": "stdout",
     "output_type": "stream",
     "text": [
      "2564:\ttest: 0.7443157\tbest: 0.7443165 (2561)\ttotal: 3m 55s\tremaining: 0us\n",
      "\n",
      "bestTest = 0.7443164944\n",
      "bestIteration = 2561\n",
      "\n",
      "Shrink model to first 2562 iterations.\n",
      "0:\ttest: 0.7197657\tbest: 0.7197657 (0)\ttotal: 84.3ms\tremaining: 3m 17s\n",
      "300:\ttest: 0.7410655\tbest: 0.7410655 (300)\ttotal: 21.4s\tremaining: 2m 24s\n",
      "600:\ttest: 0.7426247\tbest: 0.7426247 (599)\ttotal: 43.9s\tremaining: 2m 6s\n",
      "900:\ttest: 0.7434235\tbest: 0.7434246 (898)\ttotal: 1m 7s\tremaining: 1m 47s\n",
      "1200:\ttest: 0.7437338\tbest: 0.7437397 (1160)\ttotal: 1m 32s\tremaining: 1m 27s\n",
      "1500:\ttest: 0.7437664\tbest: 0.7438090 (1354)\ttotal: 1m 57s\tremaining: 1m 5s\n",
      "1800:\ttest: 0.7438402\tbest: 0.7438650 (1772)\ttotal: 2m 22s\tremaining: 42.6s\n"
     ]
    },
    {
     "name": "stderr",
     "output_type": "stream",
     "text": [
      "[I 2025-02-26 10:17:13,667] Trial 29 finished with value: 0.743864972841203 and parameters: {'iterations': 2339, 'depth': 7, 'learning_rate': 0.015700275792722217, 'l2_leaf_reg': 1.0045688573640228}. Best is trial 17 with value: 0.7444450637262117.\n"
     ]
    },
    {
     "name": "stdout",
     "output_type": "stream",
     "text": [
      "Stopped by overfitting detector  (300 iterations wait)\n",
      "\n",
      "bestTest = 0.7438649728\n",
      "bestIteration = 1772\n",
      "\n",
      "Shrink model to first 1773 iterations.\n",
      "0:\ttest: 0.7261216\tbest: 0.7261216 (0)\ttotal: 87ms\tremaining: 4m 4s\n",
      "300:\ttest: 0.7381534\tbest: 0.7381534 (300)\ttotal: 21.2s\tremaining: 2m 57s\n",
      "600:\ttest: 0.7411575\tbest: 0.7411575 (600)\ttotal: 43.3s\tremaining: 2m 39s\n",
      "900:\ttest: 0.7422548\tbest: 0.7422548 (900)\ttotal: 1m 5s\tremaining: 2m 18s\n",
      "1200:\ttest: 0.7427861\tbest: 0.7427872 (1195)\ttotal: 1m 26s\tremaining: 1m 56s\n",
      "1500:\ttest: 0.7432000\tbest: 0.7432007 (1493)\ttotal: 1m 49s\tremaining: 1m 36s\n",
      "1800:\ttest: 0.7435910\tbest: 0.7435935 (1797)\ttotal: 2m 13s\tremaining: 1m 15s\n",
      "2100:\ttest: 0.7438580\tbest: 0.7438601 (2095)\ttotal: 2m 38s\tremaining: 53.8s\n",
      "2400:\ttest: 0.7439779\tbest: 0.7439802 (2377)\ttotal: 3m 3s\tremaining: 31.6s\n",
      "2700:\ttest: 0.7440661\tbest: 0.7440661 (2700)\ttotal: 3m 27s\tremaining: 8.85s\n"
     ]
    },
    {
     "name": "stderr",
     "output_type": "stream",
     "text": [
      "[I 2025-02-26 10:20:51,309] Trial 30 finished with value: 0.7441179977114354 and parameters: {'iterations': 2816, 'depth': 7, 'learning_rate': 0.00792625367409212, 'l2_leaf_reg': 22.848616353294755}. Best is trial 17 with value: 0.7444450637262117.\n"
     ]
    },
    {
     "name": "stdout",
     "output_type": "stream",
     "text": [
      "2815:\ttest: 0.7441142\tbest: 0.7441180 (2812)\ttotal: 3m 37s\tremaining: 0us\n",
      "\n",
      "bestTest = 0.7441179977\n",
      "bestIteration = 2812\n",
      "\n",
      "Shrink model to first 2813 iterations.\n",
      "0:\ttest: 0.7228609\tbest: 0.7228609 (0)\ttotal: 98.2ms\tremaining: 4m 12s\n",
      "300:\ttest: 0.7407144\tbest: 0.7407144 (300)\ttotal: 24.4s\tremaining: 3m 3s\n",
      "600:\ttest: 0.7426517\tbest: 0.7426517 (600)\ttotal: 49.1s\tremaining: 2m 40s\n",
      "900:\ttest: 0.7433176\tbest: 0.7433182 (896)\ttotal: 1m 14s\tremaining: 2m 17s\n",
      "1200:\ttest: 0.7438036\tbest: 0.7438062 (1193)\ttotal: 1m 40s\tremaining: 1m 54s\n",
      "1500:\ttest: 0.7440563\tbest: 0.7440569 (1498)\ttotal: 2m 8s\tremaining: 1m 31s\n",
      "1800:\ttest: 0.7441817\tbest: 0.7441817 (1800)\ttotal: 2m 37s\tremaining: 1m 7s\n",
      "2100:\ttest: 0.7441989\tbest: 0.7442333 (2048)\ttotal: 3m 5s\tremaining: 41.3s\n"
     ]
    },
    {
     "name": "stderr",
     "output_type": "stream",
     "text": [
      "[I 2025-02-26 10:24:20,823] Trial 31 finished with value: 0.7442332844511945 and parameters: {'iterations': 2569, 'depth': 8, 'learning_rate': 0.012173082154243927, 'l2_leaf_reg': 17.773487345230397}. Best is trial 17 with value: 0.7444450637262117.\n"
     ]
    },
    {
     "name": "stdout",
     "output_type": "stream",
     "text": [
      "Stopped by overfitting detector  (300 iterations wait)\n",
      "\n",
      "bestTest = 0.7442332845\n",
      "bestIteration = 2048\n",
      "\n",
      "Shrink model to first 2049 iterations.\n",
      "0:\ttest: 0.7228368\tbest: 0.7228368 (0)\ttotal: 101ms\tremaining: 4m 8s\n",
      "300:\ttest: 0.7421684\tbest: 0.7421684 (300)\ttotal: 25.4s\tremaining: 3m 3s\n",
      "600:\ttest: 0.7433250\tbest: 0.7433633 (595)\ttotal: 52.1s\tremaining: 2m 41s\n",
      "900:\ttest: 0.7439087\tbest: 0.7439262 (889)\ttotal: 1m 21s\tremaining: 2m 21s\n",
      "1200:\ttest: 0.7438177\tbest: 0.7439703 (1036)\ttotal: 1m 50s\tremaining: 1m 56s\n"
     ]
    },
    {
     "name": "stderr",
     "output_type": "stream",
     "text": [
      "[I 2025-02-26 10:26:23,945] Trial 32 finished with value: 0.7439702648603348 and parameters: {'iterations': 2468, 'depth': 8, 'learning_rate': 0.02188093660806275, 'l2_leaf_reg': 4.511337480501097}. Best is trial 17 with value: 0.7444450637262117.\n"
     ]
    },
    {
     "name": "stdout",
     "output_type": "stream",
     "text": [
      "Stopped by overfitting detector  (300 iterations wait)\n",
      "\n",
      "bestTest = 0.7439702649\n",
      "bestIteration = 1036\n",
      "\n",
      "Shrink model to first 1037 iterations.\n",
      "0:\ttest: 0.7228574\tbest: 0.7228574 (0)\ttotal: 99.8ms\tremaining: 3m 41s\n",
      "300:\ttest: 0.7372650\tbest: 0.7372650 (300)\ttotal: 24.5s\tremaining: 2m 36s\n",
      "600:\ttest: 0.7403406\tbest: 0.7403406 (600)\ttotal: 49.5s\tremaining: 2m 12s\n",
      "900:\ttest: 0.7416993\tbest: 0.7416993 (900)\ttotal: 1m 14s\tremaining: 1m 49s\n",
      "1200:\ttest: 0.7424368\tbest: 0.7424368 (1200)\ttotal: 1m 39s\tremaining: 1m 24s\n",
      "1500:\ttest: 0.7428704\tbest: 0.7428704 (1500)\ttotal: 2m 5s\tremaining: 59.8s\n",
      "1800:\ttest: 0.7431644\tbest: 0.7431650 (1798)\ttotal: 2m 30s\tremaining: 34.7s\n",
      "2100:\ttest: 0.7433726\tbest: 0.7433786 (2094)\ttotal: 2m 54s\tremaining: 9.65s\n"
     ]
    },
    {
     "name": "stderr",
     "output_type": "stream",
     "text": [
      "[I 2025-02-26 10:29:29,173] Trial 33 finished with value: 0.743475929234233 and parameters: {'iterations': 2217, 'depth': 8, 'learning_rate': 0.005435483506935193, 'l2_leaf_reg': 11.7667269456082}. Best is trial 17 with value: 0.7444450637262117.\n"
     ]
    },
    {
     "name": "stdout",
     "output_type": "stream",
     "text": [
      "2216:\ttest: 0.7434759\tbest: 0.7434759 (2216)\ttotal: 3m 4s\tremaining: 0us\n",
      "\n",
      "bestTest = 0.7434759292\n",
      "bestIteration = 2216\n",
      "\n",
      "0:\ttest: 0.7260394\tbest: 0.7260394 (0)\ttotal: 111ms\tremaining: 4m 28s\n",
      "300:\ttest: 0.7421153\tbest: 0.7421153 (300)\ttotal: 27.9s\tremaining: 3m 15s\n",
      "600:\ttest: 0.7434289\tbest: 0.7434289 (600)\ttotal: 54.1s\tremaining: 2m 43s\n",
      "900:\ttest: 0.7440248\tbest: 0.7440289 (897)\ttotal: 1m 22s\tremaining: 2m 17s\n",
      "1200:\ttest: 0.7442379\tbest: 0.7442593 (1191)\ttotal: 1m 54s\tremaining: 1m 56s\n",
      "1500:\ttest: 0.7443008\tbest: 0.7443288 (1449)\ttotal: 2m 27s\tremaining: 1m 29s\n",
      "1800:\ttest: 0.7444431\tbest: 0.7444431 (1800)\ttotal: 3m\tremaining: 1m 1s\n",
      "2100:\ttest: 0.7444364\tbest: 0.7444989 (1855)\ttotal: 3m 33s\tremaining: 31.8s\n"
     ]
    },
    {
     "name": "stderr",
     "output_type": "stream",
     "text": [
      "[I 2025-02-26 10:33:08,865] Trial 34 finished with value: 0.7444988573218965 and parameters: {'iterations': 2414, 'depth': 9, 'learning_rate': 0.01619112315367679, 'l2_leaf_reg': 34.16295719034227}. Best is trial 34 with value: 0.7444988573218965.\n"
     ]
    },
    {
     "name": "stdout",
     "output_type": "stream",
     "text": [
      "Stopped by overfitting detector  (300 iterations wait)\n",
      "\n",
      "bestTest = 0.7444988573\n",
      "bestIteration = 1855\n",
      "\n",
      "Shrink model to first 1856 iterations.\n",
      "저장 완료\n",
      "0:\ttest: 0.7232928\tbest: 0.7232928 (0)\ttotal: 108ms\tremaining: 4m 22s\n",
      "300:\ttest: 0.7419669\tbest: 0.7419669 (300)\ttotal: 27.8s\tremaining: 3m 16s\n",
      "600:\ttest: 0.7432210\tbest: 0.7432210 (594)\ttotal: 56.4s\tremaining: 2m 51s\n",
      "900:\ttest: 0.7437579\tbest: 0.7437626 (858)\ttotal: 1m 27s\tremaining: 2m 28s\n",
      "1200:\ttest: 0.7438091\tbest: 0.7438795 (988)\ttotal: 2m 1s\tremaining: 2m 4s\n"
     ]
    },
    {
     "name": "stderr",
     "output_type": "stream",
     "text": [
      "[I 2025-02-26 10:35:20,539] Trial 35 finished with value: 0.7438795102556715 and parameters: {'iterations': 2427, 'depth': 9, 'learning_rate': 0.016935366487570214, 'l2_leaf_reg': 3.352602441280744}. Best is trial 34 with value: 0.7444988573218965.\n"
     ]
    },
    {
     "name": "stdout",
     "output_type": "stream",
     "text": [
      "Stopped by overfitting detector  (300 iterations wait)\n",
      "\n",
      "bestTest = 0.7438795103\n",
      "bestIteration = 988\n",
      "\n",
      "Shrink model to first 989 iterations.\n",
      "0:\ttest: 0.7260372\tbest: 0.7260372 (0)\ttotal: 111ms\tremaining: 4m 16s\n",
      "300:\ttest: 0.7435066\tbest: 0.7435074 (299)\ttotal: 28.3s\tremaining: 3m 8s\n",
      "600:\ttest: 0.7441289\tbest: 0.7441403 (596)\ttotal: 59.5s\tremaining: 2m 48s\n",
      "900:\ttest: 0.7443492\tbest: 0.7443492 (900)\ttotal: 1m 32s\tremaining: 2m 23s\n",
      "1200:\ttest: 0.7443406\tbest: 0.7443877 (1101)\ttotal: 2m 5s\tremaining: 1m 55s\n"
     ]
    },
    {
     "name": "stderr",
     "output_type": "stream",
     "text": [
      "[I 2025-02-26 10:37:47,967] Trial 36 finished with value: 0.744387736041787 and parameters: {'iterations': 2306, 'depth': 9, 'learning_rate': 0.03515362118300425, 'l2_leaf_reg': 37.803710405323145}. Best is trial 34 with value: 0.7444988573218965.\n"
     ]
    },
    {
     "name": "stdout",
     "output_type": "stream",
     "text": [
      "Stopped by overfitting detector  (300 iterations wait)\n",
      "\n",
      "bestTest = 0.744387736\n",
      "bestIteration = 1101\n",
      "\n",
      "Shrink model to first 1102 iterations.\n",
      "0:\ttest: 0.7260352\tbest: 0.7260352 (0)\ttotal: 112ms\tremaining: 3m 56s\n",
      "300:\ttest: 0.7435749\tbest: 0.7435749 (300)\ttotal: 27.2s\tremaining: 2m 44s\n",
      "600:\ttest: 0.7436914\tbest: 0.7437391 (520)\ttotal: 59.5s\tremaining: 2m 30s\n"
     ]
    },
    {
     "name": "stderr",
     "output_type": "stream",
     "text": [
      "[I 2025-02-26 10:39:11,173] Trial 37 finished with value: 0.7437391195732003 and parameters: {'iterations': 2117, 'depth': 9, 'learning_rate': 0.04446976076236713, 'l2_leaf_reg': 45.25865535708949}. Best is trial 34 with value: 0.7444988573218965.\n"
     ]
    },
    {
     "name": "stdout",
     "output_type": "stream",
     "text": [
      "Stopped by overfitting detector  (300 iterations wait)\n",
      "\n",
      "bestTest = 0.7437391196\n",
      "bestIteration = 520\n",
      "\n",
      "Shrink model to first 521 iterations.\n",
      "0:\ttest: 0.7256083\tbest: 0.7256083 (0)\ttotal: 131ms\tremaining: 4m 57s\n",
      "300:\ttest: 0.7427737\tbest: 0.7428001 (288)\ttotal: 38s\tremaining: 4m 9s\n",
      "600:\ttest: 0.7403023\tbest: 0.7429450 (325)\ttotal: 1m 21s\tremaining: 3m 47s\n"
     ]
    },
    {
     "name": "stderr",
     "output_type": "stream",
     "text": [
      "[I 2025-02-26 10:40:36,822] Trial 38 finished with value: 0.7429450217460025 and parameters: {'iterations': 2275, 'depth': 10, 'learning_rate': 0.034730450557863314, 'l2_leaf_reg': 0.013637528480866612}. Best is trial 34 with value: 0.7444988573218965.\n"
     ]
    },
    {
     "name": "stdout",
     "output_type": "stream",
     "text": [
      "Stopped by overfitting detector  (300 iterations wait)\n",
      "\n",
      "bestTest = 0.7429450217\n",
      "bestIteration = 325\n",
      "\n",
      "Shrink model to first 326 iterations.\n",
      "0:\ttest: 0.7232946\tbest: 0.7232946 (0)\ttotal: 102ms\tremaining: 4m 3s\n",
      "300:\ttest: 0.7431857\tbest: 0.7431857 (300)\ttotal: 29.5s\tremaining: 3m 23s\n",
      "600:\ttest: 0.7417988\tbest: 0.7432097 (302)\ttotal: 1m 2s\tremaining: 3m 6s\n"
     ]
    },
    {
     "name": "stderr",
     "output_type": "stream",
     "text": [
      "[I 2025-02-26 10:41:40,182] Trial 39 finished with value: 0.7432097249926213 and parameters: {'iterations': 2381, 'depth': 9, 'learning_rate': 0.048082815939611834, 'l2_leaf_reg': 0.11368485343342963}. Best is trial 34 with value: 0.7444988573218965.\n",
      "[I 2025-02-26 10:41:40,189] A new study created in memory with name: no-name-7fa0fa59-e2dc-4ba9-ad8f-570694e3d7eb\n"
     ]
    },
    {
     "name": "stdout",
     "output_type": "stream",
     "text": [
      "Stopped by overfitting detector  (300 iterations wait)\n",
      "\n",
      "bestTest = 0.743209725\n",
      "bestIteration = 302\n",
      "\n",
      "Shrink model to first 303 iterations.\n"
     ]
    },
    {
     "name": "stderr",
     "output_type": "stream",
     "text": [
      "[I 2025-02-26 10:42:03,315] Trial 0 finished with value: 0.7347952900143108 and parameters: {'num_iterations': 2366, 'objective': 'binary', 'metric': 'auc', 'verbose': -1, 'learning_rate': 0.0652646236447618, 'n_estimators': 236, 'min_child_samples': 45, 'subsample': 0.7, 'colsample_bytree': 0.5}. Best is trial 0 with value: 0.7347952900143108.\n",
      "[I 2025-02-26 10:42:20,291] Trial 1 finished with value: 0.7437491142938276 and parameters: {'num_iterations': 1510, 'objective': 'binary', 'metric': 'auc', 'verbose': -1, 'learning_rate': 0.005231880959249543, 'n_estimators': 1411, 'min_child_samples': 10, 'subsample': 1.0, 'colsample_bytree': 0.5}. Best is trial 1 with value: 0.7437491142938276.\n",
      "[I 2025-02-26 10:42:39,847] Trial 2 finished with value: 0.7430594031237024 and parameters: {'num_iterations': 2334, 'objective': 'binary', 'metric': 'auc', 'verbose': -1, 'learning_rate': 0.006578527777128852, 'n_estimators': 931, 'min_child_samples': 15, 'subsample': 0.5, 'colsample_bytree': 1.0}. Best is trial 1 with value: 0.7437491142938276.\n",
      "[I 2025-02-26 10:42:56,361] Trial 3 finished with value: 0.7437352638426762 and parameters: {'num_iterations': 1620, 'objective': 'binary', 'metric': 'auc', 'verbose': -1, 'learning_rate': 0.0058823249237283685, 'n_estimators': 837, 'min_child_samples': 10, 'subsample': 0.9, 'colsample_bytree': 0.6}. Best is trial 1 with value: 0.7437491142938276.\n",
      "[I 2025-02-26 10:43:12,707] Trial 4 finished with value: 0.7428683598165502 and parameters: {'num_iterations': 1997, 'objective': 'binary', 'metric': 'auc', 'verbose': -1, 'learning_rate': 0.010907507425244923, 'n_estimators': 1597, 'min_child_samples': 50, 'subsample': 0.6, 'colsample_bytree': 0.8}. Best is trial 1 with value: 0.7437491142938276.\n",
      "[I 2025-02-26 10:43:35,086] Trial 5 finished with value: 0.7397748925247877 and parameters: {'num_iterations': 2909, 'objective': 'binary', 'metric': 'auc', 'verbose': -1, 'learning_rate': 0.019760591962733942, 'n_estimators': 612, 'min_child_samples': 30, 'subsample': 0.7, 'colsample_bytree': 0.9}. Best is trial 1 with value: 0.7437491142938276.\n",
      "[I 2025-02-26 10:43:55,708] Trial 6 finished with value: 0.7409500842447337 and parameters: {'num_iterations': 2639, 'objective': 'binary', 'metric': 'auc', 'verbose': -1, 'learning_rate': 0.017862094446750985, 'n_estimators': 794, 'min_child_samples': 35, 'subsample': 1.0, 'colsample_bytree': 0.8}. Best is trial 1 with value: 0.7437491142938276.\n",
      "[I 2025-02-26 10:44:12,181] Trial 7 finished with value: 0.7435151814445633 and parameters: {'num_iterations': 1580, 'objective': 'binary', 'metric': 'auc', 'verbose': -1, 'learning_rate': 0.01776722177611332, 'n_estimators': 529, 'min_child_samples': 25, 'subsample': 0.8, 'colsample_bytree': 0.5}. Best is trial 1 with value: 0.7437491142938276.\n",
      "[I 2025-02-26 10:44:29,846] Trial 8 finished with value: 0.7407677252657547 and parameters: {'num_iterations': 1911, 'objective': 'binary', 'metric': 'auc', 'verbose': -1, 'learning_rate': 0.0304747553332844, 'n_estimators': 1328, 'min_child_samples': 10, 'subsample': 0.7, 'colsample_bytree': 0.6}. Best is trial 1 with value: 0.7437491142938276.\n",
      "[I 2025-02-26 10:44:57,281] Trial 9 finished with value: 0.740878683739529 and parameters: {'num_iterations': 2739, 'objective': 'binary', 'metric': 'auc', 'verbose': -1, 'learning_rate': 0.02691531614176271, 'n_estimators': 1438, 'min_child_samples': 20, 'subsample': 0.6, 'colsample_bytree': 0.5}. Best is trial 1 with value: 0.7437491142938276.\n",
      "[I 2025-02-26 10:45:12,132] Trial 10 finished with value: 0.733898477273141 and parameters: {'num_iterations': 1933, 'objective': 'binary', 'metric': 'auc', 'verbose': -1, 'learning_rate': 0.08223556891145911, 'n_estimators': 1960, 'min_child_samples': 40, 'subsample': 1.0, 'colsample_bytree': 0.7}. Best is trial 1 with value: 0.7437491142938276.\n",
      "[I 2025-02-26 10:45:27,807] Trial 11 finished with value: 0.7435534051953614 and parameters: {'num_iterations': 1513, 'objective': 'binary', 'metric': 'auc', 'verbose': -1, 'learning_rate': 0.005340229419903739, 'n_estimators': 1206, 'min_child_samples': 10, 'subsample': 0.9, 'colsample_bytree': 0.6}. Best is trial 1 with value: 0.7437491142938276.\n",
      "[I 2025-02-26 10:45:44,528] Trial 12 finished with value: 0.743948663239273 and parameters: {'num_iterations': 1698, 'objective': 'binary', 'metric': 'auc', 'verbose': -1, 'learning_rate': 0.008515343845233947, 'n_estimators': 1719, 'min_child_samples': 20, 'subsample': 0.9, 'colsample_bytree': 0.6}. Best is trial 12 with value: 0.743948663239273.\n",
      "[I 2025-02-26 10:45:59,651] Trial 13 finished with value: 0.7437808655000796 and parameters: {'num_iterations': 1777, 'objective': 'binary', 'metric': 'auc', 'verbose': -1, 'learning_rate': 0.010074542479113706, 'n_estimators': 1797, 'min_child_samples': 20, 'subsample': 0.9, 'colsample_bytree': 0.7}. Best is trial 12 with value: 0.743948663239273.\n",
      "[I 2025-02-26 10:46:14,761] Trial 14 finished with value: 0.743753521977537 and parameters: {'num_iterations': 1770, 'objective': 'binary', 'metric': 'auc', 'verbose': -1, 'learning_rate': 0.00982309544293683, 'n_estimators': 1831, 'min_child_samples': 20, 'subsample': 0.9, 'colsample_bytree': 0.7}. Best is trial 12 with value: 0.743948663239273.\n",
      "[I 2025-02-26 10:46:32,742] Trial 15 finished with value: 0.7434153493939903 and parameters: {'num_iterations': 2140, 'objective': 'binary', 'metric': 'auc', 'verbose': -1, 'learning_rate': 0.010036887125785866, 'n_estimators': 1702, 'min_child_samples': 25, 'subsample': 0.8, 'colsample_bytree': 0.7}. Best is trial 12 with value: 0.743948663239273.\n",
      "[I 2025-02-26 10:46:47,619] Trial 16 finished with value: 0.7428580394832524 and parameters: {'num_iterations': 1789, 'objective': 'binary', 'metric': 'auc', 'verbose': -1, 'learning_rate': 0.012742223727829575, 'n_estimators': 1979, 'min_child_samples': 20, 'subsample': 0.9, 'colsample_bytree': 0.8}. Best is trial 12 with value: 0.743948663239273.\n",
      "[I 2025-02-26 10:47:06,800] Trial 17 finished with value: 0.7390990635729037 and parameters: {'num_iterations': 2117, 'objective': 'binary', 'metric': 'auc', 'verbose': -1, 'learning_rate': 0.04079638057444939, 'n_estimators': 1633, 'min_child_samples': 25, 'subsample': 0.8, 'colsample_bytree': 0.6}. Best is trial 12 with value: 0.743948663239273.\n",
      "[I 2025-02-26 10:47:21,881] Trial 18 finished with value: 0.7438185889192134 and parameters: {'num_iterations': 1735, 'objective': 'binary', 'metric': 'auc', 'verbose': -1, 'learning_rate': 0.008229020353141337, 'n_estimators': 1151, 'min_child_samples': 30, 'subsample': 0.9, 'colsample_bytree': 0.7}. Best is trial 12 with value: 0.743948663239273.\n",
      "[I 2025-02-26 10:47:42,403] Trial 19 finished with value: 0.7428067554876615 and parameters: {'num_iterations': 2481, 'objective': 'binary', 'metric': 'auc', 'verbose': -1, 'learning_rate': 0.0076697989866795595, 'n_estimators': 1076, 'min_child_samples': 35, 'subsample': 1.0, 'colsample_bytree': 0.9}. Best is trial 12 with value: 0.743948663239273.\n",
      "[I 2025-02-26 10:47:58,661] Trial 20 finished with value: 0.743499353492072 and parameters: {'num_iterations': 1695, 'objective': 'binary', 'metric': 'auc', 'verbose': -1, 'learning_rate': 0.014072841828341792, 'n_estimators': 1072, 'min_child_samples': 30, 'subsample': 0.8, 'colsample_bytree': 0.6}. Best is trial 12 with value: 0.743948663239273.\n",
      "[I 2025-02-26 10:48:14,586] Trial 21 finished with value: 0.7439761616263785 and parameters: {'num_iterations': 1839, 'objective': 'binary', 'metric': 'auc', 'verbose': -1, 'learning_rate': 0.00847985529190211, 'n_estimators': 1738, 'min_child_samples': 15, 'subsample': 0.9, 'colsample_bytree': 0.7}. Best is trial 21 with value: 0.7439761616263785.\n",
      "[I 2025-02-26 10:48:32,181] Trial 22 finished with value: 0.7437378330060634 and parameters: {'num_iterations': 2058, 'objective': 'binary', 'metric': 'auc', 'verbose': -1, 'learning_rate': 0.007914226460394682, 'n_estimators': 1557, 'min_child_samples': 15, 'subsample': 0.9, 'colsample_bytree': 0.7}. Best is trial 21 with value: 0.7439761616263785.\n",
      "[I 2025-02-26 10:48:48,147] Trial 23 finished with value: 0.7438651277057658 and parameters: {'num_iterations': 1860, 'objective': 'binary', 'metric': 'auc', 'verbose': -1, 'learning_rate': 0.007274552544909476, 'n_estimators': 1264, 'min_child_samples': 15, 'subsample': 1.0, 'colsample_bytree': 0.8}. Best is trial 21 with value: 0.7439761616263785.\n",
      "[I 2025-02-26 10:49:03,375] Trial 24 finished with value: 0.7420129991566791 and parameters: {'num_iterations': 1880, 'objective': 'binary', 'metric': 'auc', 'verbose': -1, 'learning_rate': 0.014446226372417947, 'n_estimators': 1327, 'min_child_samples': 15, 'subsample': 1.0, 'colsample_bytree': 0.9}. Best is trial 21 with value: 0.7439761616263785.\n",
      "[I 2025-02-26 10:49:17,123] Trial 25 finished with value: 0.7433133293851076 and parameters: {'num_iterations': 1660, 'objective': 'binary', 'metric': 'auc', 'verbose': -1, 'learning_rate': 0.012478986238959966, 'n_estimators': 1775, 'min_child_samples': 15, 'subsample': 1.0, 'colsample_bytree': 0.8}. Best is trial 21 with value: 0.7439761616263785.\n",
      "[I 2025-02-26 10:49:35,450] Trial 26 finished with value: 0.7428923995617539 and parameters: {'num_iterations': 2179, 'objective': 'binary', 'metric': 'auc', 'verbose': -1, 'learning_rate': 0.007031895529157302, 'n_estimators': 1561, 'min_child_samples': 15, 'subsample': 0.8, 'colsample_bytree': 1.0}. Best is trial 21 with value: 0.7439761616263785.\n",
      "[I 2025-02-26 10:49:51,126] Trial 27 finished with value: 0.743569610382044 and parameters: {'num_iterations': 1860, 'objective': 'binary', 'metric': 'auc', 'verbose': -1, 'learning_rate': 0.008607555291701102, 'n_estimators': 1480, 'min_child_samples': 20, 'subsample': 1.0, 'colsample_bytree': 0.8}. Best is trial 21 with value: 0.7439761616263785.\n",
      "[I 2025-02-26 10:50:06,496] Trial 28 finished with value: 0.736847126344292 and parameters: {'num_iterations': 2006, 'objective': 'binary', 'metric': 'auc', 'verbose': -1, 'learning_rate': 0.047048953627707106, 'n_estimators': 1889, 'min_child_samples': 25, 'subsample': 0.9, 'colsample_bytree': 0.9}. Best is trial 21 with value: 0.7439761616263785.\n",
      "[I 2025-02-26 10:50:28,187] Trial 29 finished with value: 0.7416536657204416 and parameters: {'num_iterations': 2362, 'objective': 'binary', 'metric': 'auc', 'verbose': -1, 'learning_rate': 0.02362042167252482, 'n_estimators': 315, 'min_child_samples': 15, 'subsample': 1.0, 'colsample_bytree': 0.6}. Best is trial 21 with value: 0.7439761616263785.\n",
      "[I 2025-02-26 10:50:44,384] Trial 30 finished with value: 0.7438211144028523 and parameters: {'num_iterations': 1832, 'objective': 'binary', 'metric': 'auc', 'verbose': -1, 'learning_rate': 0.006300048275050027, 'n_estimators': 104, 'min_child_samples': 10, 'subsample': 0.8, 'colsample_bytree': 0.7}. Best is trial 21 with value: 0.7439761616263785.\n",
      "[I 2025-02-26 10:51:00,712] Trial 31 finished with value: 0.7438017205945312 and parameters: {'num_iterations': 1846, 'objective': 'binary', 'metric': 'auc', 'verbose': -1, 'learning_rate': 0.006191078105066466, 'n_estimators': 342, 'min_child_samples': 10, 'subsample': 0.8, 'colsample_bytree': 0.7}. Best is trial 21 with value: 0.7439761616263785.\n",
      "[I 2025-02-26 10:51:15,411] Trial 32 finished with value: 0.7435638843641081 and parameters: {'num_iterations': 1652, 'objective': 'binary', 'metric': 'auc', 'verbose': -1, 'learning_rate': 0.005317465576646956, 'n_estimators': 125, 'min_child_samples': 10, 'subsample': 0.9, 'colsample_bytree': 0.8}. Best is trial 21 with value: 0.7439761616263785.\n",
      "[I 2025-02-26 10:51:39,777] Trial 33 finished with value: 0.7439239206472075 and parameters: {'num_iterations': 2276, 'objective': 'binary', 'metric': 'auc', 'verbose': -1, 'learning_rate': 0.006964616495294459, 'n_estimators': 587, 'min_child_samples': 15, 'subsample': 0.8, 'colsample_bytree': 0.5}. Best is trial 21 with value: 0.7439761616263785.\n",
      "[I 2025-02-26 10:52:03,558] Trial 34 finished with value: 0.7438252560371845 and parameters: {'num_iterations': 2254, 'objective': 'binary', 'metric': 'auc', 'verbose': -1, 'learning_rate': 0.008899614171526085, 'n_estimators': 930, 'min_child_samples': 15, 'subsample': 0.7, 'colsample_bytree': 0.5}. Best is trial 21 with value: 0.7439761616263785.\n",
      "[I 2025-02-26 10:52:27,724] Trial 35 finished with value: 0.7439686963602762 and parameters: {'num_iterations': 2259, 'objective': 'binary', 'metric': 'auc', 'verbose': -1, 'learning_rate': 0.007127181652472422, 'n_estimators': 641, 'min_child_samples': 20, 'subsample': 0.5, 'colsample_bytree': 0.5}. Best is trial 21 with value: 0.7439761616263785.\n",
      "[I 2025-02-26 10:52:53,338] Trial 36 finished with value: 0.7433070196468967 and parameters: {'num_iterations': 2487, 'objective': 'binary', 'metric': 'auc', 'verbose': -1, 'learning_rate': 0.011878679015785303, 'n_estimators': 691, 'min_child_samples': 20, 'subsample': 0.5, 'colsample_bytree': 0.5}. Best is trial 21 with value: 0.7439761616263785.\n",
      "[I 2025-02-26 10:53:18,405] Trial 37 finished with value: 0.7428741890775279 and parameters: {'num_iterations': 2456, 'objective': 'binary', 'metric': 'auc', 'verbose': -1, 'learning_rate': 0.0154128160154772, 'n_estimators': 489, 'min_child_samples': 25, 'subsample': 0.6, 'colsample_bytree': 0.5}. Best is trial 21 with value: 0.7439761616263785.\n",
      "[I 2025-02-26 10:53:42,931] Trial 38 finished with value: 0.744148259835353 and parameters: {'num_iterations': 2277, 'objective': 'binary', 'metric': 'auc', 'verbose': -1, 'learning_rate': 0.006161989866294146, 'n_estimators': 751, 'min_child_samples': 45, 'subsample': 0.5, 'colsample_bytree': 0.5}. Best is trial 38 with value: 0.744148259835353.\n",
      "[I 2025-02-26 10:54:08,628] Trial 39 finished with value: 0.7440116692909989 and parameters: {'num_iterations': 2590, 'objective': 'binary', 'metric': 'auc', 'verbose': -1, 'learning_rate': 0.005028281976933268, 'n_estimators': 841, 'min_child_samples': 50, 'subsample': 0.5, 'colsample_bytree': 0.6}. Best is trial 38 with value: 0.744148259835353.\n"
     ]
    },
    {
     "name": "stdout",
     "output_type": "stream",
     "text": [
      "Cat val score : 0.7444988573218965\n",
      "LGBM val score : 0.7440510644532332\n",
      "Ensemble val score : 0.7445990268977984\n"
     ]
    },
    {
     "name": "stderr",
     "output_type": "stream",
     "text": [
      "[I 2025-02-26 10:54:35,118] A new study created in memory with name: no-name-c1dd6ce6-9a1b-41c0-81e7-78389eb8b850\n"
     ]
    },
    {
     "name": "stdout",
     "output_type": "stream",
     "text": [
      "==================================================\n",
      "0:\ttest: 0.7228849\tbest: 0.7228849 (0)\ttotal: 154ms\tremaining: 6m 3s\n",
      "300:\ttest: 0.7360502\tbest: 0.7360502 (300)\ttotal: 37.7s\tremaining: 4m 18s\n",
      "600:\ttest: 0.7375995\tbest: 0.7375995 (600)\ttotal: 1m 18s\tremaining: 3m 51s\n",
      "900:\ttest: 0.7380266\tbest: 0.7380440 (877)\ttotal: 1m 59s\tremaining: 3m 13s\n",
      "1200:\ttest: 0.7383431\tbest: 0.7383648 (1161)\ttotal: 2m 43s\tremaining: 2m 38s\n",
      "1500:\ttest: 0.7385580\tbest: 0.7385580 (1500)\ttotal: 3m 31s\tremaining: 2m 2s\n",
      "1800:\ttest: 0.7385946\tbest: 0.7386457 (1681)\ttotal: 4m 21s\tremaining: 1m 22s\n"
     ]
    },
    {
     "name": "stderr",
     "output_type": "stream",
     "text": [
      "[I 2025-02-26 10:59:27,090] Trial 0 finished with value: 0.7386457313179571 and parameters: {'iterations': 2366, 'depth': 10, 'learning_rate': 0.01181021951839225, 'l2_leaf_reg': 9.980783802743254}. Best is trial 0 with value: 0.7386457313179571.\n"
     ]
    },
    {
     "name": "stdout",
     "output_type": "stream",
     "text": [
      "Stopped by overfitting detector  (300 iterations wait)\n",
      "\n",
      "bestTest = 0.7386457313\n",
      "bestIteration = 1681\n",
      "\n",
      "Shrink model to first 1682 iterations.\n",
      "저장 완료\n",
      "0:\ttest: 0.6955098\tbest: 0.6955098 (0)\ttotal: 59.7ms\tremaining: 2m 10s\n",
      "300:\ttest: 0.7278751\tbest: 0.7278751 (300)\ttotal: 13.1s\tremaining: 1m 22s\n",
      "600:\ttest: 0.7316153\tbest: 0.7316153 (600)\ttotal: 26.3s\tremaining: 1m 9s\n",
      "900:\ttest: 0.7338395\tbest: 0.7338395 (900)\ttotal: 39.7s\tremaining: 57s\n",
      "1200:\ttest: 0.7349782\tbest: 0.7349782 (1200)\ttotal: 53.3s\tremaining: 44s\n",
      "1500:\ttest: 0.7357641\tbest: 0.7357641 (1500)\ttotal: 1m 7s\tremaining: 31s\n",
      "1800:\ttest: 0.7362833\tbest: 0.7362833 (1800)\ttotal: 1m 21s\tremaining: 17.7s\n",
      "2100:\ttest: 0.7366712\tbest: 0.7366712 (2100)\ttotal: 1m 35s\tremaining: 4.17s\n"
     ]
    },
    {
     "name": "stderr",
     "output_type": "stream",
     "text": [
      "[I 2025-02-26 11:01:06,957] Trial 1 finished with value: 0.7368083268149912 and parameters: {'iterations': 2193, 'depth': 4, 'learning_rate': 0.005671430811678843, 'l2_leaf_reg': 0.00012325230809466137}. Best is trial 0 with value: 0.7386457313179571.\n"
     ]
    },
    {
     "name": "stdout",
     "output_type": "stream",
     "text": [
      "2192:\ttest: 0.7368083\tbest: 0.7368083 (2192)\ttotal: 1m 39s\tremaining: 0us\n",
      "\n",
      "bestTest = 0.7368083268\n",
      "bestIteration = 2192\n",
      "\n",
      "0:\ttest: 0.6955098\tbest: 0.6955098 (0)\ttotal: 51.8ms\tremaining: 2m 11s\n",
      "300:\ttest: 0.7375062\tbest: 0.7375833 (272)\ttotal: 14.3s\tremaining: 1m 45s\n",
      "600:\ttest: 0.7377263\tbest: 0.7378173 (582)\ttotal: 29s\tremaining: 1m 33s\n",
      "900:\ttest: 0.7380255\tbest: 0.7382544 (751)\ttotal: 44.1s\tremaining: 1m 20s\n"
     ]
    },
    {
     "name": "stderr",
     "output_type": "stream",
     "text": [
      "[I 2025-02-26 11:01:58,847] Trial 2 finished with value: 0.7382544362184977 and parameters: {'iterations': 2535, 'depth': 4, 'learning_rate': 0.09275339199839054, 'l2_leaf_reg': 0.0008705394248343123}. Best is trial 0 with value: 0.7386457313179571.\n"
     ]
    },
    {
     "name": "stdout",
     "output_type": "stream",
     "text": [
      "Stopped by overfitting detector  (300 iterations wait)\n",
      "\n",
      "bestTest = 0.7382544362\n",
      "bestIteration = 751\n",
      "\n",
      "Shrink model to first 752 iterations.\n",
      "0:\ttest: 0.6955098\tbest: 0.6955098 (0)\ttotal: 53.1ms\tremaining: 2m 3s\n",
      "300:\ttest: 0.7373263\tbest: 0.7373263 (300)\ttotal: 13.8s\tremaining: 1m 33s\n",
      "600:\ttest: 0.7382269\tbest: 0.7383125 (594)\ttotal: 28.5s\tremaining: 1m 22s\n",
      "900:\ttest: 0.7382828\tbest: 0.7384180 (664)\ttotal: 43.2s\tremaining: 1m 8s\n"
     ]
    },
    {
     "name": "stderr",
     "output_type": "stream",
     "text": [
      "[I 2025-02-26 11:02:45,483] Trial 3 finished with value: 0.7384179811385445 and parameters: {'iterations': 2334, 'depth': 4, 'learning_rate': 0.04657568321363276, 'l2_leaf_reg': 0.0008640473331457248}. Best is trial 0 with value: 0.7386457313179571.\n"
     ]
    },
    {
     "name": "stdout",
     "output_type": "stream",
     "text": [
      "Stopped by overfitting detector  (300 iterations wait)\n",
      "\n",
      "bestTest = 0.7384179811\n",
      "bestIteration = 664\n",
      "\n",
      "Shrink model to first 665 iterations.\n",
      "0:\ttest: 0.7228075\tbest: 0.7228075 (0)\ttotal: 135ms\tremaining: 3m 54s\n",
      "300:\ttest: 0.7355152\tbest: 0.7355152 (300)\ttotal: 38.3s\tremaining: 3m 3s\n",
      "600:\ttest: 0.7363980\tbest: 0.7364150 (594)\ttotal: 1m 18s\tremaining: 2m 28s\n",
      "900:\ttest: 0.7365549\tbest: 0.7365634 (884)\ttotal: 1m 58s\tremaining: 1m 51s\n",
      "1200:\ttest: 0.7362688\tbest: 0.7366303 (945)\ttotal: 2m 42s\tremaining: 1m 13s\n"
     ]
    },
    {
     "name": "stderr",
     "output_type": "stream",
     "text": [
      "[I 2025-02-26 11:05:35,354] Trial 4 finished with value: 0.7366302841893384 and parameters: {'iterations': 1742, 'depth': 10, 'learning_rate': 0.012622767482095846, 'l2_leaf_reg': 0.00021158816350109617}. Best is trial 0 with value: 0.7386457313179571.\n"
     ]
    },
    {
     "name": "stdout",
     "output_type": "stream",
     "text": [
      "Stopped by overfitting detector  (300 iterations wait)\n",
      "\n",
      "bestTest = 0.7366302842\n",
      "bestIteration = 945\n",
      "\n",
      "Shrink model to first 946 iterations.\n",
      "0:\ttest: 0.6955098\tbest: 0.6955098 (0)\ttotal: 56.3ms\tremaining: 1m 57s\n",
      "300:\ttest: 0.7377267\tbest: 0.7377267 (300)\ttotal: 14.2s\tremaining: 1m 24s\n",
      "600:\ttest: 0.7378267\tbest: 0.7380404 (378)\ttotal: 29s\tremaining: 1m 11s\n"
     ]
    },
    {
     "name": "stderr",
     "output_type": "stream",
     "text": [
      "[I 2025-02-26 11:06:08,269] Trial 5 finished with value: 0.738040401480105 and parameters: {'iterations': 2082, 'depth': 4, 'learning_rate': 0.06995196593094148, 'l2_leaf_reg': 0.0018080296485396804}. Best is trial 0 with value: 0.7386457313179571.\n"
     ]
    },
    {
     "name": "stdout",
     "output_type": "stream",
     "text": [
      "Stopped by overfitting detector  (300 iterations wait)\n",
      "\n",
      "bestTest = 0.7380404015\n",
      "bestIteration = 378\n",
      "\n",
      "Shrink model to first 379 iterations.\n",
      "0:\ttest: 0.6996872\tbest: 0.6996872 (0)\ttotal: 63.3ms\tremaining: 2m 6s\n",
      "300:\ttest: 0.7381488\tbest: 0.7381578 (289)\ttotal: 17.3s\tremaining: 1m 37s\n",
      "600:\ttest: 0.7385208\tbest: 0.7385208 (600)\ttotal: 35.5s\tremaining: 1m 22s\n",
      "900:\ttest: 0.7388061\tbest: 0.7388168 (894)\ttotal: 53.5s\tremaining: 1m 5s\n",
      "1200:\ttest: 0.7388883\tbest: 0.7389448 (1042)\ttotal: 1m 11s\tremaining: 47.5s\n"
     ]
    },
    {
     "name": "stderr",
     "output_type": "stream",
     "text": [
      "[I 2025-02-26 11:07:28,713] Trial 6 finished with value: 0.7389448422937122 and parameters: {'iterations': 1997, 'depth': 5, 'learning_rate': 0.07985155992831598, 'l2_leaf_reg': 62.52181000710482}. Best is trial 6 with value: 0.7389448422937122.\n"
     ]
    },
    {
     "name": "stdout",
     "output_type": "stream",
     "text": [
      "Stopped by overfitting detector  (300 iterations wait)\n",
      "\n",
      "bestTest = 0.7389448423\n",
      "bestIteration = 1042\n",
      "\n",
      "Shrink model to first 1043 iterations.\n",
      "저장 완료\n",
      "0:\ttest: 0.7152461\tbest: 0.7152461 (0)\ttotal: 87.9ms\tremaining: 2m 49s\n",
      "300:\ttest: 0.7383373\tbest: 0.7384465 (157)\ttotal: 24s\tremaining: 2m 9s\n"
     ]
    },
    {
     "name": "stderr",
     "output_type": "stream",
     "text": [
      "[I 2025-02-26 11:08:05,883] Trial 7 finished with value: 0.738446523868727 and parameters: {'iterations': 1927, 'depth': 7, 'learning_rate': 0.0941937211034094, 'l2_leaf_reg': 0.05654822767791934}. Best is trial 6 with value: 0.7389448422937122.\n"
     ]
    },
    {
     "name": "stdout",
     "output_type": "stream",
     "text": [
      "Stopped by overfitting detector  (300 iterations wait)\n",
      "\n",
      "bestTest = 0.7384465239\n",
      "bestIteration = 157\n",
      "\n",
      "Shrink model to first 158 iterations.\n",
      "0:\ttest: 0.7152519\tbest: 0.7152519 (0)\ttotal: 88.8ms\tremaining: 2m 48s\n",
      "300:\ttest: 0.7383558\tbest: 0.7383675 (299)\ttotal: 23.1s\tremaining: 2m 3s\n",
      "600:\ttest: 0.7388789\tbest: 0.7388962 (552)\ttotal: 48.2s\tremaining: 1m 44s\n",
      "900:\ttest: 0.7385396\tbest: 0.7389266 (653)\ttotal: 1m 13s\tremaining: 1m 21s\n"
     ]
    },
    {
     "name": "stderr",
     "output_type": "stream",
     "text": [
      "[I 2025-02-26 11:09:24,179] Trial 8 finished with value: 0.7389265682753066 and parameters: {'iterations': 1904, 'depth': 7, 'learning_rate': 0.05155602859187331, 'l2_leaf_reg': 1.299974533316308}. Best is trial 6 with value: 0.7389448422937122.\n"
     ]
    },
    {
     "name": "stdout",
     "output_type": "stream",
     "text": [
      "Stopped by overfitting detector  (300 iterations wait)\n",
      "\n",
      "bestTest = 0.7389265683\n",
      "bestIteration = 653\n",
      "\n",
      "Shrink model to first 654 iterations.\n",
      "0:\ttest: 0.7027150\tbest: 0.7027150 (0)\ttotal: 80.9ms\tremaining: 3m 33s\n",
      "300:\ttest: 0.7377624\tbest: 0.7377648 (299)\ttotal: 19.6s\tremaining: 2m 32s\n",
      "600:\ttest: 0.7387377\tbest: 0.7387750 (580)\ttotal: 41.2s\tremaining: 2m 19s\n"
     ]
    },
    {
     "name": "stderr",
     "output_type": "stream",
     "text": [
      "[I 2025-02-26 11:10:25,755] Trial 9 finished with value: 0.7387749955772269 and parameters: {'iterations': 2639, 'depth': 6, 'learning_rate': 0.03968704290444751, 'l2_leaf_reg': 0.30557194377967184}. Best is trial 6 with value: 0.7389448422937122.\n"
     ]
    },
    {
     "name": "stdout",
     "output_type": "stream",
     "text": [
      "Stopped by overfitting detector  (300 iterations wait)\n",
      "\n",
      "bestTest = 0.7387749956\n",
      "bestIteration = 580\n",
      "\n",
      "Shrink model to first 581 iterations.\n",
      "0:\ttest: 0.7026430\tbest: 0.7026430 (0)\ttotal: 75.1ms\tremaining: 3m 41s\n",
      "300:\ttest: 0.7383738\tbest: 0.7383738 (300)\ttotal: 20.2s\tremaining: 2m 57s\n",
      "600:\ttest: 0.7387203\tbest: 0.7387670 (550)\ttotal: 41.4s\tremaining: 2m 41s\n",
      "900:\ttest: 0.7387774\tbest: 0.7387789 (897)\ttotal: 1m 2s\tremaining: 2m 21s\n",
      "1200:\ttest: 0.7388658\tbest: 0.7388658 (1198)\ttotal: 1m 23s\tremaining: 2m 1s\n",
      "1500:\ttest: 0.7388485\tbest: 0.7388961 (1427)\ttotal: 1m 45s\tremaining: 1m 41s\n"
     ]
    },
    {
     "name": "stderr",
     "output_type": "stream",
     "text": [
      "[I 2025-02-26 11:12:27,947] Trial 10 finished with value: 0.7388961433450536 and parameters: {'iterations': 2945, 'depth': 6, 'learning_rate': 0.07265276039199581, 'l2_leaf_reg': 97.18545559492516}. Best is trial 6 with value: 0.7389448422937122.\n"
     ]
    },
    {
     "name": "stdout",
     "output_type": "stream",
     "text": [
      "Stopped by overfitting detector  (300 iterations wait)\n",
      "\n",
      "bestTest = 0.7388961433\n",
      "bestIteration = 1427\n",
      "\n",
      "Shrink model to first 1428 iterations.\n",
      "0:\ttest: 0.7154240\tbest: 0.7154240 (0)\ttotal: 102ms\tremaining: 2m 48s\n",
      "300:\ttest: 0.7386322\tbest: 0.7386499 (288)\ttotal: 27.6s\tremaining: 2m 3s\n",
      "600:\ttest: 0.7381136\tbest: 0.7388045 (318)\ttotal: 57.5s\tremaining: 1m 39s\n"
     ]
    },
    {
     "name": "stderr",
     "output_type": "stream",
     "text": [
      "[I 2025-02-26 11:13:27,223] Trial 11 finished with value: 0.7388044992618759 and parameters: {'iterations': 1645, 'depth': 8, 'learning_rate': 0.06346104813783957, 'l2_leaf_reg': 2.2353549998321114}. Best is trial 6 with value: 0.7389448422937122.\n"
     ]
    },
    {
     "name": "stdout",
     "output_type": "stream",
     "text": [
      "Stopped by overfitting detector  (300 iterations wait)\n",
      "\n",
      "bestTest = 0.7388044993\n",
      "bestIteration = 318\n",
      "\n",
      "Shrink model to first 319 iterations.\n",
      "0:\ttest: 0.7026430\tbest: 0.7026430 (0)\ttotal: 75.8ms\tremaining: 2m 23s\n",
      "300:\ttest: 0.7370404\tbest: 0.7370409 (299)\ttotal: 20s\tremaining: 1m 46s\n",
      "600:\ttest: 0.7381950\tbest: 0.7381950 (599)\ttotal: 40.2s\tremaining: 1m 26s\n",
      "900:\ttest: 0.7386506\tbest: 0.7386506 (900)\ttotal: 1m 1s\tremaining: 1m 8s\n",
      "1200:\ttest: 0.7388160\tbest: 0.7388233 (1187)\ttotal: 1m 22s\tremaining: 48.1s\n",
      "1500:\ttest: 0.7389391\tbest: 0.7389492 (1440)\ttotal: 1m 44s\tremaining: 27.6s\n",
      "1800:\ttest: 0.7390054\tbest: 0.7390104 (1758)\ttotal: 2m 5s\tremaining: 6.77s\n"
     ]
    },
    {
     "name": "stderr",
     "output_type": "stream",
     "text": [
      "[I 2025-02-26 11:15:40,349] Trial 12 finished with value: 0.7390654222248088 and parameters: {'iterations': 1898, 'depth': 6, 'learning_rate': 0.02806616524326411, 'l2_leaf_reg': 87.13438924619796}. Best is trial 12 with value: 0.7390654222248088.\n"
     ]
    },
    {
     "name": "stdout",
     "output_type": "stream",
     "text": [
      "1897:\ttest: 0.7390654\tbest: 0.7390654 (1897)\ttotal: 2m 12s\tremaining: 0us\n",
      "\n",
      "bestTest = 0.7390654222\n",
      "bestIteration = 1897\n",
      "\n",
      "저장 완료\n",
      "0:\ttest: 0.7026673\tbest: 0.7026673 (0)\ttotal: 79.7ms\tremaining: 2m 34s\n",
      "300:\ttest: 0.7371582\tbest: 0.7371582 (300)\ttotal: 20.5s\tremaining: 1m 51s\n",
      "600:\ttest: 0.7382923\tbest: 0.7382925 (596)\ttotal: 40.8s\tremaining: 1m 30s\n",
      "900:\ttest: 0.7386858\tbest: 0.7386858 (900)\ttotal: 1m 2s\tremaining: 1m 11s\n",
      "1200:\ttest: 0.7388764\tbest: 0.7388764 (1199)\ttotal: 1m 23s\tremaining: 51.2s\n",
      "1500:\ttest: 0.7390001\tbest: 0.7390072 (1458)\ttotal: 1m 44s\tremaining: 30.4s\n",
      "1800:\ttest: 0.7390377\tbest: 0.7390377 (1796)\ttotal: 2m 5s\tremaining: 9.51s\n"
     ]
    },
    {
     "name": "stderr",
     "output_type": "stream",
     "text": [
      "[I 2025-02-26 11:17:56,296] Trial 13 finished with value: 0.7390388212579901 and parameters: {'iterations': 1937, 'depth': 6, 'learning_rate': 0.02927900388792141, 'l2_leaf_reg': 55.074044317639256}. Best is trial 12 with value: 0.7390654222248088.\n"
     ]
    },
    {
     "name": "stdout",
     "output_type": "stream",
     "text": [
      "1936:\ttest: 0.7390311\tbest: 0.7390388 (1807)\ttotal: 2m 15s\tremaining: 0us\n",
      "\n",
      "bestTest = 0.7390388213\n",
      "bestIteration = 1807\n",
      "\n",
      "Shrink model to first 1808 iterations.\n",
      "0:\ttest: 0.7154049\tbest: 0.7154049 (0)\ttotal: 99.7ms\tremaining: 2m 32s\n",
      "300:\ttest: 0.7377815\tbest: 0.7377842 (299)\ttotal: 25.6s\tremaining: 1m 44s\n",
      "600:\ttest: 0.7387232\tbest: 0.7387248 (593)\ttotal: 53.2s\tremaining: 1m 22s\n",
      "900:\ttest: 0.7390626\tbest: 0.7390728 (865)\ttotal: 1m 22s\tremaining: 57.6s\n",
      "1200:\ttest: 0.7390368\tbest: 0.7390763 (911)\ttotal: 1m 50s\tremaining: 30.6s\n"
     ]
    },
    {
     "name": "stderr",
     "output_type": "stream",
     "text": [
      "[I 2025-02-26 11:19:48,243] Trial 14 finished with value: 0.7390762865695193 and parameters: {'iterations': 1533, 'depth': 8, 'learning_rate': 0.029128395358770272, 'l2_leaf_reg': 18.730140784533496}. Best is trial 14 with value: 0.7390762865695193.\n"
     ]
    },
    {
     "name": "stdout",
     "output_type": "stream",
     "text": [
      "Stopped by overfitting detector  (300 iterations wait)\n",
      "\n",
      "bestTest = 0.7390762866\n",
      "bestIteration = 911\n",
      "\n",
      "Shrink model to first 912 iterations.\n",
      "저장 완료\n",
      "0:\ttest: 0.7154041\tbest: 0.7154041 (0)\ttotal: 97.9ms\tremaining: 2m 28s\n",
      "300:\ttest: 0.7376402\tbest: 0.7376402 (300)\ttotal: 25.3s\tremaining: 1m 42s\n",
      "600:\ttest: 0.7384497\tbest: 0.7384497 (600)\ttotal: 52.7s\tremaining: 1m 19s\n",
      "900:\ttest: 0.7387197\tbest: 0.7387327 (899)\ttotal: 1m 21s\tremaining: 55.4s\n",
      "1200:\ttest: 0.7388001\tbest: 0.7388297 (1175)\ttotal: 1m 50s\tremaining: 28.7s\n"
     ]
    },
    {
     "name": "stderr",
     "output_type": "stream",
     "text": [
      "[I 2025-02-26 11:22:05,651] Trial 15 finished with value: 0.7388297382147194 and parameters: {'iterations': 1513, 'depth': 8, 'learning_rate': 0.027123016995950745, 'l2_leaf_reg': 9.27224440090373}. Best is trial 14 with value: 0.7390762865695193.\n"
     ]
    },
    {
     "name": "stdout",
     "output_type": "stream",
     "text": [
      "Stopped by overfitting detector  (300 iterations wait)\n",
      "\n",
      "bestTest = 0.7388297382\n",
      "bestIteration = 1175\n",
      "\n",
      "Shrink model to first 1176 iterations.\n",
      "0:\ttest: 0.7180740\tbest: 0.7180740 (0)\ttotal: 115ms\tremaining: 2m 53s\n",
      "300:\ttest: 0.7375744\tbest: 0.7375744 (300)\ttotal: 29.5s\tremaining: 1m 58s\n",
      "600:\ttest: 0.7379008\tbest: 0.7381092 (554)\ttotal: 1m\tremaining: 1m 31s\n"
     ]
    },
    {
     "name": "stderr",
     "output_type": "stream",
     "text": [
      "[I 2025-02-26 11:23:34,668] Trial 16 finished with value: 0.73810922488015 and parameters: {'iterations': 1512, 'depth': 9, 'learning_rate': 0.027198320505425724, 'l2_leaf_reg': 0.03562900678874207}. Best is trial 14 with value: 0.7390762865695193.\n"
     ]
    },
    {
     "name": "stdout",
     "output_type": "stream",
     "text": [
      "Stopped by overfitting detector  (300 iterations wait)\n",
      "\n",
      "bestTest = 0.7381092249\n",
      "bestIteration = 554\n",
      "\n",
      "Shrink model to first 555 iterations.\n",
      "0:\ttest: 0.7154018\tbest: 0.7154018 (0)\ttotal: 99.3ms\tremaining: 2m 55s\n",
      "300:\ttest: 0.7379049\tbest: 0.7379049 (300)\ttotal: 24.9s\tremaining: 2m 1s\n",
      "600:\ttest: 0.7387992\tbest: 0.7388381 (592)\ttotal: 53s\tremaining: 1m 43s\n",
      "900:\ttest: 0.7388834\tbest: 0.7389553 (733)\ttotal: 1m 21s\tremaining: 1m 18s\n"
     ]
    },
    {
     "name": "stderr",
     "output_type": "stream",
     "text": [
      "[I 2025-02-26 11:25:09,196] Trial 17 finished with value: 0.7389552738118244 and parameters: {'iterations': 1770, 'depth': 8, 'learning_rate': 0.03725606713658746, 'l2_leaf_reg': 17.22262682669031}. Best is trial 14 with value: 0.7390762865695193.\n"
     ]
    },
    {
     "name": "stdout",
     "output_type": "stream",
     "text": [
      "Stopped by overfitting detector  (300 iterations wait)\n",
      "\n",
      "bestTest = 0.7389552738\n",
      "bestIteration = 733\n",
      "\n",
      "Shrink model to first 734 iterations.\n",
      "0:\ttest: 0.7152519\tbest: 0.7152519 (0)\ttotal: 86.3ms\tremaining: 2m 25s\n",
      "300:\ttest: 0.7367547\tbest: 0.7367547 (300)\ttotal: 22.2s\tremaining: 1m 42s\n",
      "600:\ttest: 0.7379799\tbest: 0.7379799 (600)\ttotal: 45.4s\tremaining: 1m 21s\n",
      "900:\ttest: 0.7387460\tbest: 0.7387502 (893)\ttotal: 1m 10s\tremaining: 1m 1s\n",
      "1200:\ttest: 0.7389033\tbest: 0.7389128 (1192)\ttotal: 1m 35s\tremaining: 38.6s\n",
      "1500:\ttest: 0.7390616\tbest: 0.7390616 (1500)\ttotal: 2m 1s\tremaining: 14.8s\n"
     ]
    },
    {
     "name": "stderr",
     "output_type": "stream",
     "text": [
      "[I 2025-02-26 11:27:26,182] Trial 18 finished with value: 0.7391030781388768 and parameters: {'iterations': 1684, 'depth': 7, 'learning_rate': 0.01958373252715346, 'l2_leaf_reg': 1.398014807113925}. Best is trial 18 with value: 0.7391030781388768.\n"
     ]
    },
    {
     "name": "stdout",
     "output_type": "stream",
     "text": [
      "1683:\ttest: 0.7390852\tbest: 0.7391031 (1601)\ttotal: 2m 16s\tremaining: 0us\n",
      "\n",
      "bestTest = 0.7391030781\n",
      "bestIteration = 1601\n",
      "\n",
      "Shrink model to first 1602 iterations.\n",
      "저장 완료\n",
      "0:\ttest: 0.7180761\tbest: 0.7180761 (0)\ttotal: 114ms\tremaining: 3m 9s\n",
      "300:\ttest: 0.7371116\tbest: 0.7371116 (300)\ttotal: 28.1s\tremaining: 2m 7s\n",
      "600:\ttest: 0.7380910\tbest: 0.7380960 (594)\ttotal: 57.1s\tremaining: 1m 41s\n",
      "900:\ttest: 0.7384915\tbest: 0.7384964 (895)\ttotal: 1m 29s\tremaining: 1m 16s\n"
     ]
    },
    {
     "name": "stderr",
     "output_type": "stream",
     "text": [
      "[I 2025-02-26 11:29:29,049] Trial 19 finished with value: 0.7384963704035046 and parameters: {'iterations': 1667, 'depth': 9, 'learning_rate': 0.01831271060843498, 'l2_leaf_reg': 0.2706762413746264}. Best is trial 18 with value: 0.7391030781388768.\n"
     ]
    },
    {
     "name": "stdout",
     "output_type": "stream",
     "text": [
      "Stopped by overfitting detector  (300 iterations wait)\n",
      "\n",
      "bestTest = 0.7384963704\n",
      "bestIteration = 895\n",
      "\n",
      "Shrink model to first 896 iterations.\n",
      "0:\ttest: 0.7180619\tbest: 0.7180619 (0)\ttotal: 114ms\tremaining: 3m 6s\n",
      "300:\ttest: 0.7367364\tbest: 0.7367364 (300)\ttotal: 28.6s\tremaining: 2m 6s\n",
      "600:\ttest: 0.7373633\tbest: 0.7373987 (565)\ttotal: 57.8s\tremaining: 1m 38s\n",
      "900:\ttest: 0.7374419\tbest: 0.7375632 (787)\ttotal: 1m 30s\tremaining: 1m 12s\n"
     ]
    },
    {
     "name": "stderr",
     "output_type": "stream",
     "text": [
      "[I 2025-02-26 11:31:20,090] Trial 20 finished with value: 0.7375631724318588 and parameters: {'iterations': 1629, 'depth': 9, 'learning_rate': 0.018986963312068714, 'l2_leaf_reg': 0.012990508780008181}. Best is trial 18 with value: 0.7391030781388768.\n"
     ]
    },
    {
     "name": "stdout",
     "output_type": "stream",
     "text": [
      "Stopped by overfitting detector  (300 iterations wait)\n",
      "\n",
      "bestTest = 0.7375631724\n",
      "bestIteration = 787\n",
      "\n",
      "Shrink model to first 788 iterations.\n",
      "0:\ttest: 0.7152515\tbest: 0.7152515 (0)\ttotal: 88.8ms\tremaining: 2m 40s\n",
      "300:\ttest: 0.7379367\tbest: 0.7379367 (300)\ttotal: 23.1s\tremaining: 1m 55s\n",
      "600:\ttest: 0.7386555\tbest: 0.7386595 (599)\ttotal: 48s\tremaining: 1m 36s\n",
      "900:\ttest: 0.7388150\tbest: 0.7388460 (790)\ttotal: 1m 13s\tremaining: 1m 13s\n",
      "1200:\ttest: 0.7388788\tbest: 0.7389360 (1163)\ttotal: 1m 38s\tremaining: 49.5s\n"
     ]
    },
    {
     "name": "stderr",
     "output_type": "stream",
     "text": [
      "[I 2025-02-26 11:33:20,984] Trial 21 finished with value: 0.7389360467807247 and parameters: {'iterations': 1806, 'depth': 7, 'learning_rate': 0.038950484127062354, 'l2_leaf_reg': 2.9563309598823118}. Best is trial 18 with value: 0.7391030781388768.\n"
     ]
    },
    {
     "name": "stdout",
     "output_type": "stream",
     "text": [
      "Stopped by overfitting detector  (300 iterations wait)\n",
      "\n",
      "bestTest = 0.7389360468\n",
      "bestIteration = 1163\n",
      "\n",
      "Shrink model to first 1164 iterations.\n",
      "0:\ttest: 0.7152533\tbest: 0.7152533 (0)\ttotal: 89.1ms\tremaining: 2m 17s\n",
      "300:\ttest: 0.7378731\tbest: 0.7378784 (297)\ttotal: 22s\tremaining: 1m 31s\n",
      "600:\ttest: 0.7388368\tbest: 0.7388436 (589)\ttotal: 46.2s\tremaining: 1m 12s\n",
      "900:\ttest: 0.7390562\tbest: 0.7390778 (876)\ttotal: 1m 10s\tremaining: 50.6s\n",
      "1200:\ttest: 0.7391866\tbest: 0.7391866 (1200)\ttotal: 1m 35s\tremaining: 27.4s\n",
      "1500:\ttest: 0.7392675\tbest: 0.7392904 (1430)\ttotal: 2m\tremaining: 3.45s\n"
     ]
    },
    {
     "name": "stderr",
     "output_type": "stream",
     "text": [
      "[I 2025-02-26 11:35:25,465] Trial 22 finished with value: 0.739290424550954 and parameters: {'iterations': 1544, 'depth': 7, 'learning_rate': 0.03070459803399834, 'l2_leaf_reg': 19.091527596770725}. Best is trial 22 with value: 0.739290424550954.\n"
     ]
    },
    {
     "name": "stdout",
     "output_type": "stream",
     "text": [
      "1543:\ttest: 0.7392892\tbest: 0.7392904 (1430)\ttotal: 2m 4s\tremaining: 0us\n",
      "\n",
      "bestTest = 0.7392904246\n",
      "bestIteration = 1430\n",
      "\n",
      "Shrink model to first 1431 iterations.\n",
      "저장 완료\n",
      "0:\ttest: 0.7152521\tbest: 0.7152521 (0)\ttotal: 88.1ms\tremaining: 2m 13s\n",
      "300:\ttest: 0.7367931\tbest: 0.7367931 (300)\ttotal: 22s\tremaining: 1m 28s\n",
      "600:\ttest: 0.7381081\tbest: 0.7381081 (600)\ttotal: 45.6s\tremaining: 1m 9s\n",
      "900:\ttest: 0.7386595\tbest: 0.7386633 (898)\ttotal: 1m 10s\tremaining: 48s\n",
      "1200:\ttest: 0.7388702\tbest: 0.7388793 (1198)\ttotal: 1m 35s\tremaining: 24.9s\n",
      "1500:\ttest: 0.7390322\tbest: 0.7390322 (1500)\ttotal: 2m 1s\tremaining: 968ms\n"
     ]
    },
    {
     "name": "stderr",
     "output_type": "stream",
     "text": [
      "[I 2025-02-26 11:37:27,872] Trial 23 finished with value: 0.7390383209263258 and parameters: {'iterations': 1513, 'depth': 7, 'learning_rate': 0.021587298225218727, 'l2_leaf_reg': 0.526956278037643}. Best is trial 22 with value: 0.739290424550954.\n"
     ]
    },
    {
     "name": "stdout",
     "output_type": "stream",
     "text": [
      "1512:\ttest: 0.7390006\tbest: 0.7390383 (1504)\ttotal: 2m 2s\tremaining: 0us\n",
      "\n",
      "bestTest = 0.7390383209\n",
      "bestIteration = 1504\n",
      "\n",
      "Shrink model to first 1505 iterations.\n",
      "0:\ttest: 0.7154103\tbest: 0.7154103 (0)\ttotal: 101ms\tremaining: 2m 47s\n",
      "300:\ttest: 0.7380516\tbest: 0.7380782 (292)\ttotal: 25.3s\tremaining: 1m 54s\n",
      "600:\ttest: 0.7386712\tbest: 0.7387351 (553)\ttotal: 53.8s\tremaining: 1m 34s\n",
      "900:\ttest: 0.7389492\tbest: 0.7389825 (875)\ttotal: 1m 22s\tremaining: 1m 9s\n"
     ]
    },
    {
     "name": "stderr",
     "output_type": "stream",
     "text": [
      "[I 2025-02-26 11:39:17,338] Trial 24 finished with value: 0.7389824624698043 and parameters: {'iterations': 1657, 'depth': 8, 'learning_rate': 0.036133967674182865, 'l2_leaf_reg': 5.302588584118411}. Best is trial 22 with value: 0.739290424550954.\n"
     ]
    },
    {
     "name": "stdout",
     "output_type": "stream",
     "text": [
      "Stopped by overfitting detector  (300 iterations wait)\n",
      "\n",
      "bestTest = 0.7389824625\n",
      "bestIteration = 875\n",
      "\n",
      "Shrink model to first 876 iterations.\n",
      "0:\ttest: 0.6996872\tbest: 0.6996872 (0)\ttotal: 63.1ms\tremaining: 1m 54s\n",
      "300:\ttest: 0.7376559\tbest: 0.7376559 (300)\ttotal: 17.1s\tremaining: 1m 25s\n",
      "600:\ttest: 0.7384715\tbest: 0.7384919 (591)\ttotal: 35.2s\tremaining: 1m 11s\n",
      "900:\ttest: 0.7386870\tbest: 0.7386984 (860)\ttotal: 53.5s\tremaining: 54.1s\n",
      "1200:\ttest: 0.7388632\tbest: 0.7388637 (1199)\ttotal: 1m 11s\tremaining: 36.6s\n",
      "1500:\ttest: 0.7389083\tbest: 0.7389616 (1273)\ttotal: 1m 30s\tremaining: 18.7s\n"
     ]
    },
    {
     "name": "stderr",
     "output_type": "stream",
     "text": [
      "[I 2025-02-26 11:40:52,341] Trial 25 finished with value: 0.7389615676664902 and parameters: {'iterations': 1812, 'depth': 5, 'learning_rate': 0.04728273060844935, 'l2_leaf_reg': 21.902960777265868}. Best is trial 22 with value: 0.739290424550954.\n"
     ]
    },
    {
     "name": "stdout",
     "output_type": "stream",
     "text": [
      "Stopped by overfitting detector  (300 iterations wait)\n",
      "\n",
      "bestTest = 0.7389615677\n",
      "bestIteration = 1273\n",
      "\n",
      "Shrink model to first 1274 iterations.\n",
      "0:\ttest: 0.7154246\tbest: 0.7154246 (0)\ttotal: 101ms\tremaining: 3m 30s\n",
      "300:\ttest: 0.7382411\tbest: 0.7383087 (224)\ttotal: 26.7s\tremaining: 2m 38s\n"
     ]
    },
    {
     "name": "stderr",
     "output_type": "stream",
     "text": [
      "[I 2025-02-26 11:41:40,897] Trial 26 finished with value: 0.7383087063205295 and parameters: {'iterations': 2082, 'depth': 8, 'learning_rate': 0.05911612120675688, 'l2_leaf_reg': 1.0213124440775088}. Best is trial 22 with value: 0.739290424550954.\n"
     ]
    },
    {
     "name": "stdout",
     "output_type": "stream",
     "text": [
      "Stopped by overfitting detector  (300 iterations wait)\n",
      "\n",
      "bestTest = 0.7383087063\n",
      "bestIteration = 224\n",
      "\n",
      "Shrink model to first 225 iterations.\n",
      "0:\ttest: 0.7152486\tbest: 0.7152486 (0)\ttotal: 86.2ms\tremaining: 2m 17s\n",
      "300:\ttest: 0.7320173\tbest: 0.7320173 (300)\ttotal: 21.2s\tremaining: 1m 30s\n",
      "600:\ttest: 0.7349393\tbest: 0.7349393 (600)\ttotal: 43.2s\tremaining: 1m 11s\n",
      "900:\ttest: 0.7364013\tbest: 0.7364013 (900)\ttotal: 1m 5s\tremaining: 50s\n",
      "1200:\ttest: 0.7371933\tbest: 0.7371947 (1199)\ttotal: 1m 28s\tremaining: 28.7s\n",
      "1500:\ttest: 0.7375896\tbest: 0.7375896 (1500)\ttotal: 1m 50s\tremaining: 6.65s\n"
     ]
    },
    {
     "name": "stderr",
     "output_type": "stream",
     "text": [
      "[I 2025-02-26 11:43:38,959] Trial 27 finished with value: 0.7377018238661635 and parameters: {'iterations': 1591, 'depth': 7, 'learning_rate': 0.005855328123637829, 'l2_leaf_reg': 4.720483919876834}. Best is trial 22 with value: 0.739290424550954.\n"
     ]
    },
    {
     "name": "stdout",
     "output_type": "stream",
     "text": [
      "1590:\ttest: 0.7377018\tbest: 0.7377018 (1590)\ttotal: 1m 57s\tremaining: 0us\n",
      "\n",
      "bestTest = 0.7377018239\n",
      "bestIteration = 1590\n",
      "\n",
      "0:\ttest: 0.7180493\tbest: 0.7180493 (0)\ttotal: 115ms\tremaining: 3m 17s\n",
      "300:\ttest: 0.7378539\tbest: 0.7378555 (297)\ttotal: 28.3s\tremaining: 2m 12s\n",
      "600:\ttest: 0.7386051\tbest: 0.7386162 (595)\ttotal: 59.6s\tremaining: 1m 50s\n",
      "900:\ttest: 0.7387572\tbest: 0.7387943 (876)\ttotal: 1m 32s\tremaining: 1m 23s\n"
     ]
    },
    {
     "name": "stderr",
     "output_type": "stream",
     "text": [
      "[I 2025-02-26 11:45:42,298] Trial 28 finished with value: 0.7387943457057995 and parameters: {'iterations': 1714, 'depth': 9, 'learning_rate': 0.03339722767926821, 'l2_leaf_reg': 25.946311634504454}. Best is trial 22 with value: 0.739290424550954.\n"
     ]
    },
    {
     "name": "stdout",
     "output_type": "stream",
     "text": [
      "Stopped by overfitting detector  (300 iterations wait)\n",
      "\n",
      "bestTest = 0.7387943457\n",
      "bestIteration = 876\n",
      "\n",
      "Shrink model to first 877 iterations.\n",
      "0:\ttest: 0.7228794\tbest: 0.7228794 (0)\ttotal: 137ms\tremaining: 5m 43s\n",
      "300:\ttest: 0.7368612\tbest: 0.7368612 (300)\ttotal: 37.4s\tremaining: 4m 33s\n",
      "600:\ttest: 0.7379980\tbest: 0.7380013 (597)\ttotal: 1m 17s\tremaining: 4m 5s\n",
      "900:\ttest: 0.7384199\tbest: 0.7384199 (900)\ttotal: 1m 57s\tremaining: 3m 29s\n",
      "1200:\ttest: 0.7386549\tbest: 0.7386581 (1198)\ttotal: 2m 44s\tremaining: 2m 58s\n",
      "1500:\ttest: 0.7386840\tbest: 0.7387124 (1481)\ttotal: 3m 34s\tremaining: 2m 22s\n",
      "1800:\ttest: 0.7387222\tbest: 0.7387892 (1633)\ttotal: 4m 24s\tremaining: 1m 42s\n"
     ]
    },
    {
     "name": "stderr",
     "output_type": "stream",
     "text": [
      "[I 2025-02-26 11:50:29,302] Trial 29 finished with value: 0.7387892232625697 and parameters: {'iterations': 2501, 'depth': 10, 'learning_rate': 0.014179411223522079, 'l2_leaf_reg': 10.737871904924779}. Best is trial 22 with value: 0.739290424550954.\n"
     ]
    },
    {
     "name": "stdout",
     "output_type": "stream",
     "text": [
      "Stopped by overfitting detector  (300 iterations wait)\n",
      "\n",
      "bestTest = 0.7387892233\n",
      "bestIteration = 1633\n",
      "\n",
      "Shrink model to first 1634 iterations.\n",
      "0:\ttest: 0.6996925\tbest: 0.6996925 (0)\ttotal: 68.5ms\tremaining: 3m 11s\n",
      "300:\ttest: 0.7375456\tbest: 0.7375456 (300)\ttotal: 17.1s\tremaining: 2m 21s\n",
      "600:\ttest: 0.7386004\tbest: 0.7386383 (585)\ttotal: 35.2s\tremaining: 2m 8s\n",
      "900:\ttest: 0.7387192\tbest: 0.7387254 (856)\ttotal: 53.6s\tremaining: 1m 52s\n"
     ]
    },
    {
     "name": "stderr",
     "output_type": "stream",
     "text": [
      "[I 2025-02-26 11:51:38,875] Trial 30 finished with value: 0.73872544288803 and parameters: {'iterations': 2797, 'depth': 5, 'learning_rate': 0.04430710258914641, 'l2_leaf_reg': 0.992862101797595}. Best is trial 22 with value: 0.739290424550954.\n"
     ]
    },
    {
     "name": "stdout",
     "output_type": "stream",
     "text": [
      "Stopped by overfitting detector  (300 iterations wait)\n",
      "\n",
      "bestTest = 0.7387254429\n",
      "bestIteration = 856\n",
      "\n",
      "Shrink model to first 857 iterations.\n",
      "0:\ttest: 0.7026969\tbest: 0.7026969 (0)\ttotal: 78.7ms\tremaining: 2m 22s\n",
      "300:\ttest: 0.7364812\tbest: 0.7364812 (300)\ttotal: 19.4s\tremaining: 1m 37s\n",
      "600:\ttest: 0.7380569\tbest: 0.7380569 (598)\ttotal: 39.3s\tremaining: 1m 19s\n",
      "900:\ttest: 0.7385459\tbest: 0.7385461 (899)\ttotal: 1m\tremaining: 1m 1s\n",
      "1200:\ttest: 0.7387694\tbest: 0.7387715 (1194)\ttotal: 1m 22s\tremaining: 42.4s\n",
      "1500:\ttest: 0.7389238\tbest: 0.7389302 (1478)\ttotal: 1m 44s\tremaining: 21.9s\n",
      "1800:\ttest: 0.7390636\tbest: 0.7390636 (1800)\ttotal: 2m 5s\tremaining: 1.04s\n"
     ]
    },
    {
     "name": "stderr",
     "output_type": "stream",
     "text": [
      "[I 2025-02-26 11:53:45,541] Trial 31 finished with value: 0.7390813573912282 and parameters: {'iterations': 1816, 'depth': 6, 'learning_rate': 0.02325127467882515, 'l2_leaf_reg': 33.34065783141191}. Best is trial 22 with value: 0.739290424550954.\n"
     ]
    },
    {
     "name": "stdout",
     "output_type": "stream",
     "text": [
      "1815:\ttest: 0.7390792\tbest: 0.7390814 (1814)\ttotal: 2m 6s\tremaining: 0us\n",
      "\n",
      "bestTest = 0.7390813574\n",
      "bestIteration = 1814\n",
      "\n",
      "Shrink model to first 1815 iterations.\n",
      "0:\ttest: 0.7026969\tbest: 0.7026969 (0)\ttotal: 78ms\tremaining: 2m 1s\n",
      "300:\ttest: 0.7368227\tbest: 0.7368227 (300)\ttotal: 19.3s\tremaining: 1m 20s\n",
      "600:\ttest: 0.7381385\tbest: 0.7381385 (600)\ttotal: 39.2s\tremaining: 1m 2s\n",
      "900:\ttest: 0.7386914\tbest: 0.7387041 (881)\ttotal: 1m 1s\tremaining: 44.4s\n",
      "1200:\ttest: 0.7389215\tbest: 0.7389425 (1175)\ttotal: 1m 22s\tremaining: 24.4s\n",
      "1500:\ttest: 0.7389888\tbest: 0.7390063 (1433)\ttotal: 1m 43s\tremaining: 3.87s\n"
     ]
    },
    {
     "name": "stderr",
     "output_type": "stream",
     "text": [
      "[I 2025-02-26 11:55:33,543] Trial 32 finished with value: 0.7390063155833555 and parameters: {'iterations': 1557, 'depth': 6, 'learning_rate': 0.024120909795155458, 'l2_leaf_reg': 34.381279972956655}. Best is trial 22 with value: 0.739290424550954.\n"
     ]
    },
    {
     "name": "stdout",
     "output_type": "stream",
     "text": [
      "1556:\ttest: 0.7389976\tbest: 0.7390063 (1433)\ttotal: 1m 47s\tremaining: 0us\n",
      "\n",
      "bestTest = 0.7390063156\n",
      "bestIteration = 1433\n",
      "\n",
      "Shrink model to first 1434 iterations.\n",
      "0:\ttest: 0.7152500\tbest: 0.7152500 (0)\ttotal: 85.8ms\tremaining: 3m 10s\n",
      "300:\ttest: 0.7323069\tbest: 0.7323069 (300)\ttotal: 21.2s\tremaining: 2m 15s\n",
      "600:\ttest: 0.7351036\tbest: 0.7351036 (600)\ttotal: 42.9s\tremaining: 1m 55s\n",
      "900:\ttest: 0.7364974\tbest: 0.7364974 (900)\ttotal: 1m 5s\tremaining: 1m 35s\n",
      "1200:\ttest: 0.7371477\tbest: 0.7371477 (1200)\ttotal: 1m 28s\tremaining: 1m 14s\n",
      "1500:\ttest: 0.7375567\tbest: 0.7375567 (1500)\ttotal: 1m 51s\tremaining: 53s\n",
      "1800:\ttest: 0.7378074\tbest: 0.7378074 (1800)\ttotal: 2m 13s\tremaining: 30.9s\n",
      "2100:\ttest: 0.7380450\tbest: 0.7380451 (2099)\ttotal: 2m 37s\tremaining: 8.69s\n"
     ]
    },
    {
     "name": "stderr",
     "output_type": "stream",
     "text": [
      "[I 2025-02-26 11:58:20,528] Trial 33 finished with value: 0.7381618708897157 and parameters: {'iterations': 2217, 'depth': 7, 'learning_rate': 0.006148670573155889, 'l2_leaf_reg': 8.599075580604415}. Best is trial 22 with value: 0.739290424550954.\n"
     ]
    },
    {
     "name": "stdout",
     "output_type": "stream",
     "text": [
      "2216:\ttest: 0.7381613\tbest: 0.7381619 (2213)\ttotal: 2m 46s\tremaining: 0us\n",
      "\n",
      "bestTest = 0.7381618709\n",
      "bestIteration = 2213\n",
      "\n",
      "Shrink model to first 2214 iterations.\n",
      "0:\ttest: 0.7152515\tbest: 0.7152515 (0)\ttotal: 96.3ms\tremaining: 2m 56s\n",
      "300:\ttest: 0.7357485\tbest: 0.7357485 (300)\ttotal: 21.9s\tremaining: 1m 51s\n",
      "600:\ttest: 0.7373434\tbest: 0.7373446 (598)\ttotal: 44.5s\tremaining: 1m 31s\n",
      "900:\ttest: 0.7380810\tbest: 0.7380829 (899)\ttotal: 1m 8s\tremaining: 1m 10s\n",
      "1200:\ttest: 0.7385212\tbest: 0.7385258 (1198)\ttotal: 1m 33s\tremaining: 49.6s\n",
      "1500:\ttest: 0.7387237\tbest: 0.7387334 (1487)\ttotal: 1m 58s\tremaining: 26.7s\n",
      "1800:\ttest: 0.7387926\tbest: 0.7388091 (1795)\ttotal: 2m 24s\tremaining: 2.96s\n"
     ]
    },
    {
     "name": "stderr",
     "output_type": "stream",
     "text": [
      "[I 2025-02-26 12:00:47,940] Trial 34 finished with value: 0.7388133741925877 and parameters: {'iterations': 1838, 'depth': 7, 'learning_rate': 0.014881341048430941, 'l2_leaf_reg': 4.324433393313431}. Best is trial 22 with value: 0.739290424550954.\n"
     ]
    },
    {
     "name": "stdout",
     "output_type": "stream",
     "text": [
      "1837:\ttest: 0.7388128\tbest: 0.7388134 (1832)\ttotal: 2m 27s\tremaining: 0us\n",
      "\n",
      "bestTest = 0.7388133742\n",
      "bestIteration = 1832\n",
      "\n",
      "Shrink model to first 1833 iterations.\n",
      "0:\ttest: 0.7027141\tbest: 0.7027141 (0)\ttotal: 78.5ms\tremaining: 2m 16s\n",
      "300:\ttest: 0.7374399\tbest: 0.7374399 (300)\ttotal: 19.5s\tremaining: 1m 33s\n",
      "600:\ttest: 0.7384125\tbest: 0.7384126 (599)\ttotal: 40.5s\tremaining: 1m 16s\n",
      "900:\ttest: 0.7387633\tbest: 0.7387633 (900)\ttotal: 1m 2s\tremaining: 58s\n",
      "1200:\ttest: 0.7388148\tbest: 0.7388373 (1180)\ttotal: 1m 23s\tremaining: 37.6s\n",
      "1500:\ttest: 0.7388419\tbest: 0.7389107 (1408)\ttotal: 1m 45s\tremaining: 16.9s\n"
     ]
    },
    {
     "name": "stderr",
     "output_type": "stream",
     "text": [
      "[I 2025-02-26 12:02:48,405] Trial 35 finished with value: 0.7389106529633183 and parameters: {'iterations': 1742, 'depth': 6, 'learning_rate': 0.03229106632928751, 'l2_leaf_reg': 13.71260151124298}. Best is trial 22 with value: 0.739290424550954.\n"
     ]
    },
    {
     "name": "stdout",
     "output_type": "stream",
     "text": [
      "Stopped by overfitting detector  (300 iterations wait)\n",
      "\n",
      "bestTest = 0.738910653\n",
      "bestIteration = 1408\n",
      "\n",
      "Shrink model to first 1409 iterations.\n",
      "0:\ttest: 0.7159809\tbest: 0.7159809 (0)\ttotal: 102ms\tremaining: 3m 27s\n",
      "300:\ttest: 0.7346736\tbest: 0.7346736 (300)\ttotal: 24.3s\tremaining: 2m 19s\n",
      "600:\ttest: 0.7369700\tbest: 0.7369707 (599)\ttotal: 49.8s\tremaining: 1m 58s\n",
      "900:\ttest: 0.7376814\tbest: 0.7376814 (900)\ttotal: 1m 14s\tremaining: 1m 32s\n",
      "1200:\ttest: 0.7381522\tbest: 0.7381528 (1199)\ttotal: 1m 39s\tremaining: 1m 8s\n",
      "1500:\ttest: 0.7385023\tbest: 0.7385023 (1500)\ttotal: 2m 6s\tremaining: 44.2s\n",
      "1800:\ttest: 0.7386835\tbest: 0.7386868 (1799)\ttotal: 2m 34s\tremaining: 19.4s\n"
     ]
    },
    {
     "name": "stderr",
     "output_type": "stream",
     "text": [
      "[I 2025-02-26 12:05:45,333] Trial 36 finished with value: 0.7387840928775675 and parameters: {'iterations': 2026, 'depth': 8, 'learning_rate': 0.009887291954975196, 'l2_leaf_reg': 35.02451946094054}. Best is trial 22 with value: 0.739290424550954.\n"
     ]
    },
    {
     "name": "stdout",
     "output_type": "stream",
     "text": [
      "2025:\ttest: 0.7387652\tbest: 0.7387841 (1968)\ttotal: 2m 56s\tremaining: 0us\n",
      "\n",
      "bestTest = 0.7387840929\n",
      "bestIteration = 1968\n",
      "\n",
      "Shrink model to first 1969 iterations.\n",
      "0:\ttest: 0.6996925\tbest: 0.6996925 (0)\ttotal: 66.4ms\tremaining: 2m 32s\n",
      "300:\ttest: 0.7357402\tbest: 0.7357402 (300)\ttotal: 16.6s\tremaining: 1m 50s\n",
      "600:\ttest: 0.7374862\tbest: 0.7374864 (599)\ttotal: 34.2s\tremaining: 1m 36s\n",
      "900:\ttest: 0.7382352\tbest: 0.7382365 (899)\ttotal: 52.6s\tremaining: 1m 21s\n",
      "1200:\ttest: 0.7384581\tbest: 0.7384593 (1198)\ttotal: 1m 10s\tremaining: 1m 4s\n",
      "1500:\ttest: 0.7385590\tbest: 0.7385798 (1453)\ttotal: 1m 29s\tremaining: 47.7s\n",
      "1800:\ttest: 0.7386373\tbest: 0.7386484 (1629)\ttotal: 1m 47s\tremaining: 30s\n",
      "2100:\ttest: 0.7387166\tbest: 0.7387293 (2084)\ttotal: 2m 5s\tremaining: 12.2s\n"
     ]
    },
    {
     "name": "stderr",
     "output_type": "stream",
     "text": [
      "[I 2025-02-26 12:08:03,992] Trial 37 finished with value: 0.7387447374241953 and parameters: {'iterations': 2305, 'depth': 5, 'learning_rate': 0.021940231910200836, 'l2_leaf_reg': 2.109142097988062}. Best is trial 22 with value: 0.739290424550954.\n"
     ]
    },
    {
     "name": "stdout",
     "output_type": "stream",
     "text": [
      "2304:\ttest: 0.7387203\tbest: 0.7387447 (2132)\ttotal: 2m 18s\tremaining: 0us\n",
      "\n",
      "bestTest = 0.7387447374\n",
      "bestIteration = 2132\n",
      "\n",
      "Shrink model to first 2133 iterations.\n",
      "0:\ttest: 0.7154237\tbest: 0.7154237 (0)\ttotal: 97.3ms\tremaining: 3m 27s\n",
      "300:\ttest: 0.7378586\tbest: 0.7378586 (300)\ttotal: 25.7s\tremaining: 2m 36s\n",
      "600:\ttest: 0.7381810\tbest: 0.7382606 (480)\ttotal: 54.7s\tremaining: 2m 19s\n"
     ]
    },
    {
     "name": "stderr",
     "output_type": "stream",
     "text": [
      "[I 2025-02-26 12:09:16,143] Trial 38 finished with value: 0.7382606149174632 and parameters: {'iterations': 2136, 'depth': 8, 'learning_rate': 0.041947950606973795, 'l2_leaf_reg': 0.2641479530437085}. Best is trial 22 with value: 0.739290424550954.\n"
     ]
    },
    {
     "name": "stdout",
     "output_type": "stream",
     "text": [
      "Stopped by overfitting detector  (300 iterations wait)\n",
      "\n",
      "bestTest = 0.7382606149\n",
      "bestIteration = 480\n",
      "\n",
      "Shrink model to first 481 iterations.\n",
      "0:\ttest: 0.7152502\tbest: 0.7152502 (0)\ttotal: 90.3ms\tremaining: 2m 33s\n",
      "300:\ttest: 0.7363270\tbest: 0.7363270 (300)\ttotal: 22s\tremaining: 1m 42s\n",
      "600:\ttest: 0.7377476\tbest: 0.7377476 (600)\ttotal: 45.2s\tremaining: 1m 23s\n",
      "900:\ttest: 0.7383788\tbest: 0.7383788 (900)\ttotal: 1m 9s\tremaining: 1m 2s\n",
      "1200:\ttest: 0.7386468\tbest: 0.7386523 (1197)\ttotal: 1m 34s\tremaining: 39.7s\n",
      "1500:\ttest: 0.7387417\tbest: 0.7387534 (1427)\ttotal: 2m\tremaining: 16.3s\n"
     ]
    },
    {
     "name": "stderr",
     "output_type": "stream",
     "text": [
      "[I 2025-02-26 12:11:33,730] Trial 39 finished with value: 0.7388333954009323 and parameters: {'iterations': 1704, 'depth': 7, 'learning_rate': 0.01688368683724869, 'l2_leaf_reg': 0.11089474136182716}. Best is trial 22 with value: 0.739290424550954.\n",
      "[I 2025-02-26 12:11:33,735] A new study created in memory with name: no-name-dbaafd85-872e-4631-82a1-3973d81c9e55\n"
     ]
    },
    {
     "name": "stdout",
     "output_type": "stream",
     "text": [
      "1703:\ttest: 0.7388118\tbest: 0.7388334 (1699)\ttotal: 2m 17s\tremaining: 0us\n",
      "\n",
      "bestTest = 0.7388333954\n",
      "bestIteration = 1699\n",
      "\n",
      "Shrink model to first 1700 iterations.\n"
     ]
    },
    {
     "name": "stderr",
     "output_type": "stream",
     "text": [
      "[I 2025-02-26 12:11:56,898] Trial 0 finished with value: 0.7280243611646183 and parameters: {'num_iterations': 2366, 'objective': 'binary', 'metric': 'auc', 'verbose': -1, 'learning_rate': 0.0652646236447618, 'n_estimators': 236, 'min_child_samples': 45, 'subsample': 0.7, 'colsample_bytree': 0.5}. Best is trial 0 with value: 0.7280243611646183.\n",
      "[I 2025-02-26 12:12:13,895] Trial 1 finished with value: 0.7378339233381976 and parameters: {'num_iterations': 1510, 'objective': 'binary', 'metric': 'auc', 'verbose': -1, 'learning_rate': 0.005231880959249543, 'n_estimators': 1411, 'min_child_samples': 10, 'subsample': 1.0, 'colsample_bytree': 0.5}. Best is trial 1 with value: 0.7378339233381976.\n",
      "[I 2025-02-26 12:12:33,342] Trial 2 finished with value: 0.7374169961681584 and parameters: {'num_iterations': 2334, 'objective': 'binary', 'metric': 'auc', 'verbose': -1, 'learning_rate': 0.006578527777128852, 'n_estimators': 931, 'min_child_samples': 15, 'subsample': 0.5, 'colsample_bytree': 1.0}. Best is trial 1 with value: 0.7378339233381976.\n",
      "[I 2025-02-26 12:12:49,909] Trial 3 finished with value: 0.7377765043233897 and parameters: {'num_iterations': 1620, 'objective': 'binary', 'metric': 'auc', 'verbose': -1, 'learning_rate': 0.0058823249237283685, 'n_estimators': 837, 'min_child_samples': 10, 'subsample': 0.9, 'colsample_bytree': 0.6}. Best is trial 1 with value: 0.7378339233381976.\n",
      "[I 2025-02-26 12:13:06,326] Trial 4 finished with value: 0.7380297634759092 and parameters: {'num_iterations': 1997, 'objective': 'binary', 'metric': 'auc', 'verbose': -1, 'learning_rate': 0.010907507425244923, 'n_estimators': 1597, 'min_child_samples': 50, 'subsample': 0.6, 'colsample_bytree': 0.8}. Best is trial 4 with value: 0.7380297634759092.\n",
      "[I 2025-02-26 12:13:28,777] Trial 5 finished with value: 0.7353277262937378 and parameters: {'num_iterations': 2909, 'objective': 'binary', 'metric': 'auc', 'verbose': -1, 'learning_rate': 0.019760591962733942, 'n_estimators': 612, 'min_child_samples': 30, 'subsample': 0.7, 'colsample_bytree': 0.9}. Best is trial 4 with value: 0.7380297634759092.\n",
      "[I 2025-02-26 12:13:49,506] Trial 6 finished with value: 0.7364312196920123 and parameters: {'num_iterations': 2639, 'objective': 'binary', 'metric': 'auc', 'verbose': -1, 'learning_rate': 0.017862094446750985, 'n_estimators': 794, 'min_child_samples': 35, 'subsample': 1.0, 'colsample_bytree': 0.8}. Best is trial 4 with value: 0.7380297634759092.\n",
      "[I 2025-02-26 12:14:06,000] Trial 7 finished with value: 0.7374745104842356 and parameters: {'num_iterations': 1580, 'objective': 'binary', 'metric': 'auc', 'verbose': -1, 'learning_rate': 0.01776722177611332, 'n_estimators': 529, 'min_child_samples': 25, 'subsample': 0.8, 'colsample_bytree': 0.5}. Best is trial 4 with value: 0.7380297634759092.\n",
      "[I 2025-02-26 12:14:23,694] Trial 8 finished with value: 0.7346024081868365 and parameters: {'num_iterations': 1911, 'objective': 'binary', 'metric': 'auc', 'verbose': -1, 'learning_rate': 0.0304747553332844, 'n_estimators': 1328, 'min_child_samples': 10, 'subsample': 0.7, 'colsample_bytree': 0.6}. Best is trial 4 with value: 0.7380297634759092.\n",
      "[I 2025-02-26 12:14:51,145] Trial 9 finished with value: 0.7341899085549376 and parameters: {'num_iterations': 2739, 'objective': 'binary', 'metric': 'auc', 'verbose': -1, 'learning_rate': 0.02691531614176271, 'n_estimators': 1438, 'min_child_samples': 20, 'subsample': 0.6, 'colsample_bytree': 0.5}. Best is trial 4 with value: 0.7380297634759092.\n",
      "[I 2025-02-26 12:15:07,766] Trial 10 finished with value: 0.7378024898028436 and parameters: {'num_iterations': 2005, 'objective': 'binary', 'metric': 'auc', 'verbose': -1, 'learning_rate': 0.010657060501116528, 'n_estimators': 1971, 'min_child_samples': 50, 'subsample': 0.5, 'colsample_bytree': 0.8}. Best is trial 4 with value: 0.7380297634759092.\n",
      "[I 2025-02-26 12:15:23,926] Trial 11 finished with value: 0.7378925455315316 and parameters: {'num_iterations': 1911, 'objective': 'binary', 'metric': 'auc', 'verbose': -1, 'learning_rate': 0.010924708293832209, 'n_estimators': 1743, 'min_child_samples': 40, 'subsample': 1.0, 'colsample_bytree': 0.7}. Best is trial 4 with value: 0.7380297634759092.\n",
      "[I 2025-02-26 12:15:40,197] Trial 12 finished with value: 0.7379348037027339 and parameters: {'num_iterations': 1937, 'objective': 'binary', 'metric': 'auc', 'verbose': -1, 'learning_rate': 0.011068875635775037, 'n_estimators': 1937, 'min_child_samples': 40, 'subsample': 0.8, 'colsample_bytree': 0.7}. Best is trial 4 with value: 0.7380297634759092.\n",
      "[I 2025-02-26 12:15:58,241] Trial 13 finished with value: 0.7380071770750636 and parameters: {'num_iterations': 2129, 'objective': 'binary', 'metric': 'auc', 'verbose': -1, 'learning_rate': 0.008934213473436528, 'n_estimators': 2000, 'min_child_samples': 50, 'subsample': 0.8, 'colsample_bytree': 0.7}. Best is trial 4 with value: 0.7380297634759092.\n",
      "[I 2025-02-26 12:16:16,335] Trial 14 finished with value: 0.7381548265375534 and parameters: {'num_iterations': 2165, 'objective': 'binary', 'metric': 'auc', 'verbose': -1, 'learning_rate': 0.0083199393220011, 'n_estimators': 1647, 'min_child_samples': 50, 'subsample': 0.6, 'colsample_bytree': 0.9}. Best is trial 14 with value: 0.7381548265375534.\n",
      "[I 2025-02-26 12:16:35,094] Trial 15 finished with value: 0.7310817013335094 and parameters: {'num_iterations': 2466, 'objective': 'binary', 'metric': 'auc', 'verbose': -1, 'learning_rate': 0.03929485536707878, 'n_estimators': 1632, 'min_child_samples': 45, 'subsample': 0.6, 'colsample_bytree': 1.0}. Best is trial 14 with value: 0.7381548265375534.\n",
      "[I 2025-02-26 12:16:49,423] Trial 16 finished with value: 0.7376309356052817 and parameters: {'num_iterations': 1758, 'objective': 'binary', 'metric': 'auc', 'verbose': -1, 'learning_rate': 0.014054368103410129, 'n_estimators': 1193, 'min_child_samples': 50, 'subsample': 0.6, 'colsample_bytree': 0.9}. Best is trial 14 with value: 0.7381548265375534.\n",
      "[I 2025-02-26 12:17:07,393] Trial 17 finished with value: 0.7377778425120475 and parameters: {'num_iterations': 2149, 'objective': 'binary', 'metric': 'auc', 'verbose': -1, 'learning_rate': 0.0077007604212683935, 'n_estimators': 1633, 'min_child_samples': 40, 'subsample': 0.5, 'colsample_bytree': 0.9}. Best is trial 14 with value: 0.7381548265375534.\n",
      "[I 2025-02-26 12:17:23,853] Trial 18 finished with value: 0.7260925210454587 and parameters: {'num_iterations': 2177, 'objective': 'binary', 'metric': 'auc', 'verbose': -1, 'learning_rate': 0.08295542661093265, 'n_estimators': 1133, 'min_child_samples': 30, 'subsample': 0.6, 'colsample_bytree': 0.8}. Best is trial 14 with value: 0.7381548265375534.\n",
      "[I 2025-02-26 12:17:38,247] Trial 19 finished with value: 0.737486875823939 and parameters: {'num_iterations': 1766, 'objective': 'binary', 'metric': 'auc', 'verbose': -1, 'learning_rate': 0.014073784445943099, 'n_estimators': 1724, 'min_child_samples': 45, 'subsample': 0.6, 'colsample_bytree': 0.9}. Best is trial 14 with value: 0.7381548265375534.\n",
      "[I 2025-02-26 12:17:59,130] Trial 20 finished with value: 0.7378478690906185 and parameters: {'num_iterations': 2528, 'objective': 'binary', 'metric': 'auc', 'verbose': -1, 'learning_rate': 0.007877155758725746, 'n_estimators': 1509, 'min_child_samples': 35, 'subsample': 0.5, 'colsample_bytree': 1.0}. Best is trial 14 with value: 0.7381548265375534.\n",
      "[I 2025-02-26 12:18:17,080] Trial 21 finished with value: 0.73806697465072 and parameters: {'num_iterations': 2097, 'objective': 'binary', 'metric': 'auc', 'verbose': -1, 'learning_rate': 0.008587022715210543, 'n_estimators': 1792, 'min_child_samples': 50, 'subsample': 0.8, 'colsample_bytree': 0.7}. Best is trial 14 with value: 0.7381548265375534.\n",
      "[I 2025-02-26 12:18:33,878] Trial 22 finished with value: 0.7378434137562745 and parameters: {'num_iterations': 2076, 'objective': 'binary', 'metric': 'auc', 'verbose': -1, 'learning_rate': 0.013965979909505316, 'n_estimators': 1813, 'min_child_samples': 50, 'subsample': 0.9, 'colsample_bytree': 0.8}. Best is trial 14 with value: 0.7381548265375534.\n",
      "[I 2025-02-26 12:18:56,169] Trial 23 finished with value: 0.7377613315671255 and parameters: {'num_iterations': 2306, 'objective': 'binary', 'metric': 'auc', 'verbose': -1, 'learning_rate': 0.008717745824136876, 'n_estimators': 1250, 'min_child_samples': 45, 'subsample': 0.7, 'colsample_bytree': 0.6}. Best is trial 14 with value: 0.7381548265375534.\n",
      "[I 2025-02-26 12:19:12,303] Trial 24 finished with value: 0.7378535593705783 and parameters: {'num_iterations': 1778, 'objective': 'binary', 'metric': 'auc', 'verbose': -1, 'learning_rate': 0.005087674710051258, 'n_estimators': 1550, 'min_child_samples': 50, 'subsample': 0.9, 'colsample_bytree': 0.7}. Best is trial 14 with value: 0.7381548265375534.\n",
      "[I 2025-02-26 12:19:30,534] Trial 25 finished with value: 0.7379749930422131 and parameters: {'num_iterations': 2236, 'objective': 'binary', 'metric': 'auc', 'verbose': -1, 'learning_rate': 0.010735625386804438, 'n_estimators': 1869, 'min_child_samples': 45, 'subsample': 0.7, 'colsample_bytree': 0.8}. Best is trial 14 with value: 0.7381548265375534.\n",
      "[I 2025-02-26 12:19:47,669] Trial 26 finished with value: 0.7377670218470853 and parameters: {'num_iterations': 2016, 'objective': 'binary', 'metric': 'auc', 'verbose': -1, 'learning_rate': 0.006972271872894849, 'n_estimators': 1670, 'min_child_samples': 35, 'subsample': 0.8, 'colsample_bytree': 0.9}. Best is trial 14 with value: 0.7381548265375534.\n",
      "[I 2025-02-26 12:20:07,561] Trial 27 finished with value: 0.7371240281533927 and parameters: {'num_iterations': 2447, 'objective': 'binary', 'metric': 'auc', 'verbose': -1, 'learning_rate': 0.014852142577089332, 'n_estimators': 1336, 'min_child_samples': 40, 'subsample': 0.6, 'colsample_bytree': 0.7}. Best is trial 14 with value: 0.7381548265375534.\n",
      "[I 2025-02-26 12:20:22,862] Trial 28 finished with value: 0.7380051003015682 and parameters: {'num_iterations': 1826, 'objective': 'binary', 'metric': 'auc', 'verbose': -1, 'learning_rate': 0.009648233210868976, 'n_estimators': 1018, 'min_child_samples': 50, 'subsample': 0.7, 'colsample_bytree': 0.8}. Best is trial 14 with value: 0.7381548265375534.\n",
      "[I 2025-02-26 12:20:43,163] Trial 29 finished with value: 0.7333944923935133 and parameters: {'num_iterations': 2236, 'objective': 'binary', 'metric': 'auc', 'verbose': -1, 'learning_rate': 0.04030098468148633, 'n_estimators': 315, 'min_child_samples': 45, 'subsample': 0.7, 'colsample_bytree': 0.6}. Best is trial 14 with value: 0.7381548265375534.\n",
      "[I 2025-02-26 12:20:58,951] Trial 30 finished with value: 0.736082460725791 and parameters: {'num_iterations': 2026, 'objective': 'binary', 'metric': 'auc', 'verbose': -1, 'learning_rate': 0.02439474409014958, 'n_estimators': 104, 'min_child_samples': 45, 'subsample': 0.8, 'colsample_bytree': 0.9}. Best is trial 14 with value: 0.7381548265375534.\n",
      "[I 2025-02-26 12:21:16,798] Trial 31 finished with value: 0.7380134590170709 and parameters: {'num_iterations': 2098, 'objective': 'binary', 'metric': 'auc', 'verbose': -1, 'learning_rate': 0.008798724167982892, 'n_estimators': 1988, 'min_child_samples': 50, 'subsample': 0.8, 'colsample_bytree': 0.7}. Best is trial 14 with value: 0.7381548265375534.\n",
      "[I 2025-02-26 12:21:35,044] Trial 32 finished with value: 0.7381512090602027 and parameters: {'num_iterations': 2109, 'objective': 'binary', 'metric': 'auc', 'verbose': -1, 'learning_rate': 0.006983417972213507, 'n_estimators': 1835, 'min_child_samples': 50, 'subsample': 0.9, 'colsample_bytree': 0.7}. Best is trial 14 with value: 0.7381548265375534.\n",
      "[I 2025-02-26 12:21:55,080] Trial 33 finished with value: 0.7380156985969016 and parameters: {'num_iterations': 2368, 'objective': 'binary', 'metric': 'auc', 'verbose': -1, 'learning_rate': 0.006215732380777261, 'n_estimators': 1809, 'min_child_samples': 45, 'subsample': 0.9, 'colsample_bytree': 0.8}. Best is trial 14 with value: 0.7381548265375534.\n",
      "[I 2025-02-26 12:22:14,514] Trial 34 finished with value: 0.7380815398613919 and parameters: {'num_iterations': 2209, 'objective': 'binary', 'metric': 'auc', 'verbose': -1, 'learning_rate': 0.005977310819107296, 'n_estimators': 1550, 'min_child_samples': 50, 'subsample': 0.9, 'colsample_bytree': 0.7}. Best is trial 14 with value: 0.7381548265375534.\n",
      "[I 2025-02-26 12:22:37,582] Trial 35 finished with value: 0.7380609508163173 and parameters: {'num_iterations': 2335, 'objective': 'binary', 'metric': 'auc', 'verbose': -1, 'learning_rate': 0.006019362231659578, 'n_estimators': 1462, 'min_child_samples': 40, 'subsample': 0.9, 'colsample_bytree': 0.6}. Best is trial 14 with value: 0.7381548265375534.\n",
      "[I 2025-02-26 12:22:57,348] Trial 36 finished with value: 0.7380035675394855 and parameters: {'num_iterations': 2238, 'objective': 'binary', 'metric': 'auc', 'verbose': -1, 'learning_rate': 0.005232450879903086, 'n_estimators': 1839, 'min_child_samples': 50, 'subsample': 1.0, 'colsample_bytree': 0.7}. Best is trial 14 with value: 0.7381548265375534.\n",
      "[I 2025-02-26 12:23:20,835] Trial 37 finished with value: 0.7382022825988237 and parameters: {'num_iterations': 2407, 'objective': 'binary', 'metric': 'auc', 'verbose': -1, 'learning_rate': 0.007164595533054539, 'n_estimators': 1733, 'min_child_samples': 45, 'subsample': 0.9, 'colsample_bytree': 0.6}. Best is trial 37 with value: 0.7382022825988237.\n",
      "[I 2025-02-26 12:23:45,942] Trial 38 finished with value: 0.7381788742245295 and parameters: {'num_iterations': 2591, 'objective': 'binary', 'metric': 'auc', 'verbose': -1, 'learning_rate': 0.007059043665273918, 'n_estimators': 1399, 'min_child_samples': 45, 'subsample': 0.9, 'colsample_bytree': 0.6}. Best is trial 37 with value: 0.7382022825988237.\n",
      "[I 2025-02-26 12:24:12,026] Trial 39 finished with value: 0.7378842741755257 and parameters: {'num_iterations': 2692, 'objective': 'binary', 'metric': 'auc', 'verbose': -1, 'learning_rate': 0.007215196980129472, 'n_estimators': 1396, 'min_child_samples': 30, 'subsample': 1.0, 'colsample_bytree': 0.6}. Best is trial 37 with value: 0.7382022825988237.\n"
     ]
    },
    {
     "name": "stdout",
     "output_type": "stream",
     "text": [
      "Cat val score : 0.739290424550954\n",
      "LGBM val score : 0.7381763249155733\n",
      "Ensemble val score : 0.7391518088546252\n"
     ]
    },
    {
     "name": "stderr",
     "output_type": "stream",
     "text": [
      "[I 2025-02-26 12:24:37,124] A new study created in memory with name: no-name-6bcbfec2-3f3c-427a-882b-b2101af77b60\n"
     ]
    },
    {
     "name": "stdout",
     "output_type": "stream",
     "text": [
      "==================================================\n",
      "0:\ttest: 0.7243732\tbest: 0.7243732 (0)\ttotal: 144ms\tremaining: 5m 40s\n",
      "300:\ttest: 0.7363473\tbest: 0.7363473 (300)\ttotal: 38.5s\tremaining: 4m 23s\n",
      "600:\ttest: 0.7377514\tbest: 0.7377520 (599)\ttotal: 1m 19s\tremaining: 3m 53s\n",
      "900:\ttest: 0.7382045\tbest: 0.7382167 (867)\ttotal: 1m 59s\tremaining: 3m 14s\n",
      "1200:\ttest: 0.7384769\tbest: 0.7384885 (1197)\ttotal: 2m 43s\tremaining: 2m 38s\n",
      "1500:\ttest: 0.7385463\tbest: 0.7386060 (1443)\ttotal: 3m 33s\tremaining: 2m 3s\n",
      "1800:\ttest: 0.7386413\tbest: 0.7386538 (1792)\ttotal: 4m 23s\tremaining: 1m 22s\n",
      "2100:\ttest: 0.7384876\tbest: 0.7386671 (1835)\ttotal: 5m 13s\tremaining: 39.6s\n"
     ]
    },
    {
     "name": "stderr",
     "output_type": "stream",
     "text": [
      "[I 2025-02-26 12:29:57,277] Trial 0 finished with value: 0.7386670708605282 and parameters: {'iterations': 2366, 'depth': 10, 'learning_rate': 0.01181021951839225, 'l2_leaf_reg': 9.980783802743254}. Best is trial 0 with value: 0.7386670708605282.\n"
     ]
    },
    {
     "name": "stdout",
     "output_type": "stream",
     "text": [
      "Stopped by overfitting detector  (300 iterations wait)\n",
      "\n",
      "bestTest = 0.7386670709\n",
      "bestIteration = 1835\n",
      "\n",
      "Shrink model to first 1836 iterations.\n",
      "저장 완료\n",
      "0:\ttest: 0.6999596\tbest: 0.6999596 (0)\ttotal: 56ms\tremaining: 2m 2s\n",
      "300:\ttest: 0.7280321\tbest: 0.7280321 (300)\ttotal: 13.1s\tremaining: 1m 22s\n",
      "600:\ttest: 0.7318580\tbest: 0.7318580 (600)\ttotal: 26.3s\tremaining: 1m 9s\n",
      "900:\ttest: 0.7339427\tbest: 0.7339427 (900)\ttotal: 39.6s\tremaining: 56.8s\n",
      "1200:\ttest: 0.7349947\tbest: 0.7349947 (1200)\ttotal: 53.3s\tremaining: 44.1s\n",
      "1500:\ttest: 0.7356464\tbest: 0.7356464 (1500)\ttotal: 1m 7s\tremaining: 31s\n",
      "1800:\ttest: 0.7361790\tbest: 0.7361790 (1800)\ttotal: 1m 21s\tremaining: 17.7s\n",
      "2100:\ttest: 0.7366414\tbest: 0.7366422 (2099)\ttotal: 1m 35s\tremaining: 4.18s\n"
     ]
    },
    {
     "name": "stderr",
     "output_type": "stream",
     "text": [
      "[I 2025-02-26 12:31:37,418] Trial 1 finished with value: 0.7367758846745361 and parameters: {'iterations': 2193, 'depth': 4, 'learning_rate': 0.005671430811678843, 'l2_leaf_reg': 0.00012325230809466137}. Best is trial 0 with value: 0.7386670708605282.\n"
     ]
    },
    {
     "name": "stdout",
     "output_type": "stream",
     "text": [
      "2192:\ttest: 0.7367759\tbest: 0.7367759 (2192)\ttotal: 1m 39s\tremaining: 0us\n",
      "\n",
      "bestTest = 0.7367758847\n",
      "bestIteration = 2192\n",
      "\n",
      "0:\ttest: 0.6999596\tbest: 0.6999596 (0)\ttotal: 50.9ms\tremaining: 2m 9s\n",
      "300:\ttest: 0.7378105\tbest: 0.7378178 (297)\ttotal: 14.3s\tremaining: 1m 46s\n",
      "600:\ttest: 0.7382686\tbest: 0.7383329 (590)\ttotal: 29.2s\tremaining: 1m 33s\n",
      "900:\ttest: 0.7379957\tbest: 0.7384566 (739)\ttotal: 44.1s\tremaining: 1m 20s\n"
     ]
    },
    {
     "name": "stderr",
     "output_type": "stream",
     "text": [
      "[I 2025-02-26 12:32:28,631] Trial 2 finished with value: 0.7384566258032825 and parameters: {'iterations': 2535, 'depth': 4, 'learning_rate': 0.09275339199839054, 'l2_leaf_reg': 0.0008705394248343123}. Best is trial 0 with value: 0.7386670708605282.\n"
     ]
    },
    {
     "name": "stdout",
     "output_type": "stream",
     "text": [
      "Stopped by overfitting detector  (300 iterations wait)\n",
      "\n",
      "bestTest = 0.7384566258\n",
      "bestIteration = 739\n",
      "\n",
      "Shrink model to first 740 iterations.\n",
      "0:\ttest: 0.6999596\tbest: 0.6999596 (0)\ttotal: 50.1ms\tremaining: 1m 56s\n",
      "300:\ttest: 0.7371240\tbest: 0.7371240 (300)\ttotal: 13.7s\tremaining: 1m 32s\n",
      "600:\ttest: 0.7384781\tbest: 0.7384903 (598)\ttotal: 28.5s\tremaining: 1m 22s\n",
      "900:\ttest: 0.7385491\tbest: 0.7386989 (770)\ttotal: 43.3s\tremaining: 1m 8s\n"
     ]
    },
    {
     "name": "stderr",
     "output_type": "stream",
     "text": [
      "[I 2025-02-26 12:33:20,617] Trial 3 finished with value: 0.7386989253098221 and parameters: {'iterations': 2334, 'depth': 4, 'learning_rate': 0.04657568321363276, 'l2_leaf_reg': 0.0008640473331457248}. Best is trial 3 with value: 0.7386989253098221.\n"
     ]
    },
    {
     "name": "stdout",
     "output_type": "stream",
     "text": [
      "Stopped by overfitting detector  (300 iterations wait)\n",
      "\n",
      "bestTest = 0.7386989253\n",
      "bestIteration = 770\n",
      "\n",
      "Shrink model to first 771 iterations.\n",
      "저장 완료\n",
      "0:\ttest: 0.7243402\tbest: 0.7243402 (0)\ttotal: 130ms\tremaining: 3m 46s\n"
     ]
    },
    {
     "name": "stderr",
     "output_type": "stream",
     "text": [
      "Training has stopped (degenerate solution on iteration 146, probably too small l2-regularization, try to increase it)\n",
      "[I 2025-02-26 12:33:39,085] Trial 4 finished with value: 0.7342444169101429 and parameters: {'iterations': 1742, 'depth': 10, 'learning_rate': 0.012622767482095846, 'l2_leaf_reg': 0.00021158816350109617}. Best is trial 3 with value: 0.7386989253098221.\n"
     ]
    },
    {
     "name": "stdout",
     "output_type": "stream",
     "text": [
      "\n",
      "bestTest = 0.7342444169\n",
      "bestIteration = 145\n",
      "\n",
      "Shrink model to first 146 iterations.\n",
      "0:\ttest: 0.6999596\tbest: 0.6999596 (0)\ttotal: 53.4ms\tremaining: 1m 51s\n",
      "300:\ttest: 0.7381440\tbest: 0.7381440 (300)\ttotal: 14.2s\tremaining: 1m 24s\n",
      "600:\ttest: 0.7382460\tbest: 0.7383827 (384)\ttotal: 29.1s\tremaining: 1m 11s\n"
     ]
    },
    {
     "name": "stderr",
     "output_type": "stream",
     "text": [
      "[I 2025-02-26 12:34:12,496] Trial 5 finished with value: 0.7383827117270976 and parameters: {'iterations': 2082, 'depth': 4, 'learning_rate': 0.06995196593094148, 'l2_leaf_reg': 0.0018080296485396804}. Best is trial 3 with value: 0.7386989253098221.\n"
     ]
    },
    {
     "name": "stdout",
     "output_type": "stream",
     "text": [
      "Stopped by overfitting detector  (300 iterations wait)\n",
      "\n",
      "bestTest = 0.7383827117\n",
      "bestIteration = 384\n",
      "\n",
      "Shrink model to first 385 iterations.\n",
      "0:\ttest: 0.7018256\tbest: 0.7018256 (0)\ttotal: 61.5ms\tremaining: 2m 2s\n",
      "300:\ttest: 0.7382314\tbest: 0.7382314 (299)\ttotal: 17.5s\tremaining: 1m 38s\n",
      "600:\ttest: 0.7385051\tbest: 0.7385051 (600)\ttotal: 35.5s\tremaining: 1m 22s\n",
      "900:\ttest: 0.7386690\tbest: 0.7387100 (836)\ttotal: 53.9s\tremaining: 1m 5s\n",
      "1200:\ttest: 0.7387232\tbest: 0.7387823 (1027)\ttotal: 1m 12s\tremaining: 47.9s\n",
      "1500:\ttest: 0.7387533\tbest: 0.7388094 (1295)\ttotal: 1m 30s\tremaining: 29.9s\n"
     ]
    },
    {
     "name": "stderr",
     "output_type": "stream",
     "text": [
      "[I 2025-02-26 12:35:49,115] Trial 6 finished with value: 0.738809435073453 and parameters: {'iterations': 1997, 'depth': 5, 'learning_rate': 0.07985155992831598, 'l2_leaf_reg': 62.52181000710482}. Best is trial 6 with value: 0.738809435073453.\n"
     ]
    },
    {
     "name": "stdout",
     "output_type": "stream",
     "text": [
      "Stopped by overfitting detector  (300 iterations wait)\n",
      "\n",
      "bestTest = 0.7388094351\n",
      "bestIteration = 1295\n",
      "\n",
      "Shrink model to first 1296 iterations.\n",
      "저장 완료\n",
      "0:\ttest: 0.7174482\tbest: 0.7174482 (0)\ttotal: 83.6ms\tremaining: 2m 40s\n",
      "300:\ttest: 0.7379444\tbest: 0.7384715 (196)\ttotal: 24.2s\tremaining: 2m 10s\n"
     ]
    },
    {
     "name": "stderr",
     "output_type": "stream",
     "text": [
      "[I 2025-02-26 12:36:30,172] Trial 7 finished with value: 0.7384714729468763 and parameters: {'iterations': 1927, 'depth': 7, 'learning_rate': 0.0941937211034094, 'l2_leaf_reg': 0.05654822767791934}. Best is trial 6 with value: 0.738809435073453.\n"
     ]
    },
    {
     "name": "stdout",
     "output_type": "stream",
     "text": [
      "Stopped by overfitting detector  (300 iterations wait)\n",
      "\n",
      "bestTest = 0.7384714729\n",
      "bestIteration = 196\n",
      "\n",
      "Shrink model to first 197 iterations.\n",
      "0:\ttest: 0.7174479\tbest: 0.7174479 (0)\ttotal: 79.3ms\tremaining: 2m 30s\n",
      "300:\ttest: 0.7381284\tbest: 0.7381284 (300)\ttotal: 23.3s\tremaining: 2m 3s\n",
      "600:\ttest: 0.7385099\tbest: 0.7387941 (502)\ttotal: 48.2s\tremaining: 1m 44s\n"
     ]
    },
    {
     "name": "stderr",
     "output_type": "stream",
     "text": [
      "[I 2025-02-26 12:37:35,447] Trial 8 finished with value: 0.738794107452626 and parameters: {'iterations': 1904, 'depth': 7, 'learning_rate': 0.05155602859187331, 'l2_leaf_reg': 1.299974533316308}. Best is trial 6 with value: 0.738809435073453.\n"
     ]
    },
    {
     "name": "stdout",
     "output_type": "stream",
     "text": [
      "Stopped by overfitting detector  (300 iterations wait)\n",
      "\n",
      "bestTest = 0.7387941075\n",
      "bestIteration = 502\n",
      "\n",
      "Shrink model to first 503 iterations.\n",
      "0:\ttest: 0.7175267\tbest: 0.7175267 (0)\ttotal: 73.2ms\tremaining: 3m 13s\n",
      "300:\ttest: 0.7376324\tbest: 0.7376547 (298)\ttotal: 19.6s\tremaining: 2m 32s\n",
      "600:\ttest: 0.7388308\tbest: 0.7388372 (598)\ttotal: 41.3s\tremaining: 2m 20s\n",
      "900:\ttest: 0.7389188\tbest: 0.7389451 (864)\ttotal: 1m 3s\tremaining: 2m 1s\n",
      "1200:\ttest: 0.7387260\tbest: 0.7389931 (965)\ttotal: 1m 24s\tremaining: 1m 41s\n"
     ]
    },
    {
     "name": "stderr",
     "output_type": "stream",
     "text": [
      "[I 2025-02-26 12:39:05,423] Trial 9 finished with value: 0.7389931481246346 and parameters: {'iterations': 2639, 'depth': 6, 'learning_rate': 0.03968704290444751, 'l2_leaf_reg': 0.30557194377967184}. Best is trial 9 with value: 0.7389931481246346.\n"
     ]
    },
    {
     "name": "stdout",
     "output_type": "stream",
     "text": [
      "Stopped by overfitting detector  (300 iterations wait)\n",
      "\n",
      "bestTest = 0.7389931481\n",
      "bestIteration = 965\n",
      "\n",
      "Shrink model to first 966 iterations.\n",
      "저장 완료\n",
      "0:\ttest: 0.7175267\tbest: 0.7175267 (0)\ttotal: 72.9ms\tremaining: 3m 34s\n",
      "300:\ttest: 0.7371059\tbest: 0.7371059 (300)\ttotal: 19.7s\tremaining: 2m 52s\n",
      "600:\ttest: 0.7385327\tbest: 0.7385393 (589)\ttotal: 41.1s\tremaining: 2m 40s\n",
      "900:\ttest: 0.7388628\tbest: 0.7388993 (858)\ttotal: 1m 3s\tremaining: 2m 23s\n",
      "1200:\ttest: 0.7390173\tbest: 0.7390459 (1173)\ttotal: 1m 24s\tremaining: 2m 3s\n",
      "1500:\ttest: 0.7388977\tbest: 0.7390487 (1211)\ttotal: 1m 46s\tremaining: 1m 42s\n"
     ]
    },
    {
     "name": "stderr",
     "output_type": "stream",
     "text": [
      "[I 2025-02-26 12:40:53,240] Trial 10 finished with value: 0.7390487365608929 and parameters: {'iterations': 2945, 'depth': 6, 'learning_rate': 0.032580115422505045, 'l2_leaf_reg': 0.05588195113566891}. Best is trial 10 with value: 0.7390487365608929.\n"
     ]
    },
    {
     "name": "stdout",
     "output_type": "stream",
     "text": [
      "Stopped by overfitting detector  (300 iterations wait)\n",
      "\n",
      "bestTest = 0.7390487366\n",
      "bestIteration = 1211\n",
      "\n",
      "Shrink model to first 1212 iterations.\n",
      "저장 완료\n",
      "0:\ttest: 0.7175267\tbest: 0.7175267 (0)\ttotal: 74.7ms\tremaining: 3m 43s\n",
      "300:\ttest: 0.7373044\tbest: 0.7373044 (300)\ttotal: 19.4s\tremaining: 2m 53s\n",
      "600:\ttest: 0.7385672\tbest: 0.7385881 (591)\ttotal: 40.6s\tremaining: 2m 41s\n",
      "900:\ttest: 0.7387354\tbest: 0.7387580 (877)\ttotal: 1m 2s\tremaining: 2m 24s\n",
      "1200:\ttest: 0.7387949\tbest: 0.7387991 (1198)\ttotal: 1m 24s\tremaining: 2m 5s\n"
     ]
    },
    {
     "name": "stderr",
     "output_type": "stream",
     "text": [
      "[I 2025-02-26 12:42:39,475] Trial 11 finished with value: 0.7388032404909426 and parameters: {'iterations': 2996, 'depth': 6, 'learning_rate': 0.03250520130108762, 'l2_leaf_reg': 0.07022360666999101}. Best is trial 10 with value: 0.7390487365608929.\n"
     ]
    },
    {
     "name": "stdout",
     "output_type": "stream",
     "text": [
      "1500:\ttest: 0.7384913\tbest: 0.7388032 (1201)\ttotal: 1m 45s\tremaining: 1m 45s\n",
      "Stopped by overfitting detector  (300 iterations wait)\n",
      "\n",
      "bestTest = 0.7388032405\n",
      "bestIteration = 1201\n",
      "\n",
      "Shrink model to first 1202 iterations.\n",
      "0:\ttest: 0.7175267\tbest: 0.7175267 (0)\ttotal: 73.4ms\tremaining: 3m 31s\n",
      "300:\ttest: 0.7370898\tbest: 0.7370962 (299)\ttotal: 19.6s\tremaining: 2m 48s\n",
      "600:\ttest: 0.7382539\tbest: 0.7382788 (596)\ttotal: 41s\tremaining: 2m 35s\n",
      "900:\ttest: 0.7385493\tbest: 0.7385651 (825)\ttotal: 1m 2s\tremaining: 2m 18s\n",
      "1200:\ttest: 0.7384217\tbest: 0.7386060 (1076)\ttotal: 1m 24s\tremaining: 1m 58s\n"
     ]
    },
    {
     "name": "stderr",
     "output_type": "stream",
     "text": [
      "[I 2025-02-26 12:44:16,982] Trial 12 finished with value: 0.7386059827468487 and parameters: {'iterations': 2887, 'depth': 6, 'learning_rate': 0.03326204917552099, 'l2_leaf_reg': 0.5279524076347274}. Best is trial 10 with value: 0.7390487365608929.\n"
     ]
    },
    {
     "name": "stdout",
     "output_type": "stream",
     "text": [
      "Stopped by overfitting detector  (300 iterations wait)\n",
      "\n",
      "bestTest = 0.7386059827\n",
      "bestIteration = 1076\n",
      "\n",
      "Shrink model to first 1077 iterations.\n",
      "0:\ttest: 0.7216121\tbest: 0.7216121 (0)\ttotal: 97.4ms\tremaining: 4m 21s\n",
      "300:\ttest: 0.7368995\tbest: 0.7369278 (299)\ttotal: 24.9s\tremaining: 3m 17s\n",
      "600:\ttest: 0.7365244\tbest: 0.7373358 (406)\ttotal: 53s\tremaining: 3m 3s\n"
     ]
    },
    {
     "name": "stderr",
     "output_type": "stream",
     "text": [
      "[I 2025-02-26 12:45:20,402] Trial 13 finished with value: 0.7373357915448651 and parameters: {'iterations': 2680, 'depth': 8, 'learning_rate': 0.03202375503200278, 'l2_leaf_reg': 0.008626221466990533}. Best is trial 10 with value: 0.7390487365608929.\n"
     ]
    },
    {
     "name": "stdout",
     "output_type": "stream",
     "text": [
      "Stopped by overfitting detector  (300 iterations wait)\n",
      "\n",
      "bestTest = 0.7373357915\n",
      "bestIteration = 406\n",
      "\n",
      "Shrink model to first 407 iterations.\n",
      "0:\ttest: 0.7216079\tbest: 0.7216079 (0)\ttotal: 93ms\tremaining: 4m 16s\n",
      "300:\ttest: 0.7382015\tbest: 0.7382596 (296)\ttotal: 26.6s\tremaining: 3m 36s\n"
     ]
    },
    {
     "name": "stderr",
     "output_type": "stream",
     "text": [
      "[I 2025-02-26 12:46:15,495] Trial 14 finished with value: 0.7382596460212244 and parameters: {'iterations': 2754, 'depth': 8, 'learning_rate': 0.06308101933412968, 'l2_leaf_reg': 0.8010512238758325}. Best is trial 10 with value: 0.7390487365608929.\n"
     ]
    },
    {
     "name": "stdout",
     "output_type": "stream",
     "text": [
      "Stopped by overfitting detector  (300 iterations wait)\n",
      "\n",
      "bestTest = 0.738259646\n",
      "bestIteration = 296\n",
      "\n",
      "Shrink model to first 297 iterations.\n",
      "0:\ttest: 0.7175267\tbest: 0.7175267 (0)\ttotal: 72ms\tremaining: 3m 6s\n",
      "300:\ttest: 0.7375345\tbest: 0.7375859 (296)\ttotal: 19.7s\tremaining: 2m 29s\n",
      "600:\ttest: 0.7384966\tbest: 0.7385128 (591)\ttotal: 41.1s\tremaining: 2m 15s\n",
      "900:\ttest: 0.7386570\tbest: 0.7387610 (758)\ttotal: 1m 2s\tremaining: 1m 58s\n"
     ]
    },
    {
     "name": "stderr",
     "output_type": "stream",
     "text": [
      "[I 2025-02-26 12:47:30,151] Trial 15 finished with value: 0.7387609862906265 and parameters: {'iterations': 2590, 'depth': 6, 'learning_rate': 0.042092255830209285, 'l2_leaf_reg': 0.01343217921291673}. Best is trial 10 with value: 0.7390487365608929.\n"
     ]
    },
    {
     "name": "stdout",
     "output_type": "stream",
     "text": [
      "Stopped by overfitting detector  (300 iterations wait)\n",
      "\n",
      "bestTest = 0.7387609863\n",
      "bestIteration = 758\n",
      "\n",
      "Shrink model to first 759 iterations.\n",
      "0:\ttest: 0.7216083\tbest: 0.7216083 (0)\ttotal: 95.9ms\tremaining: 4m 32s\n",
      "300:\ttest: 0.7373457\tbest: 0.7373457 (300)\ttotal: 24.7s\tremaining: 3m 28s\n",
      "600:\ttest: 0.7388117\tbest: 0.7388221 (595)\ttotal: 51.1s\tremaining: 3m 10s\n",
      "900:\ttest: 0.7389067\tbest: 0.7389775 (737)\ttotal: 1m 20s\tremaining: 2m 53s\n"
     ]
    },
    {
     "name": "stderr",
     "output_type": "stream",
     "text": [
      "[I 2025-02-26 12:49:03,840] Trial 16 finished with value: 0.7389774829784785 and parameters: {'iterations': 2846, 'depth': 8, 'learning_rate': 0.021805153281447668, 'l2_leaf_reg': 0.18391481706464052}. Best is trial 10 with value: 0.7390487365608929.\n"
     ]
    },
    {
     "name": "stdout",
     "output_type": "stream",
     "text": [
      "Stopped by overfitting detector  (300 iterations wait)\n",
      "\n",
      "bestTest = 0.738977483\n",
      "bestIteration = 737\n",
      "\n",
      "Shrink model to first 738 iterations.\n",
      "0:\ttest: 0.7018256\tbest: 0.7018256 (0)\ttotal: 60.7ms\tremaining: 2m 30s\n",
      "300:\ttest: 0.7379440\tbest: 0.7379509 (299)\ttotal: 17.3s\tremaining: 2m 5s\n",
      "600:\ttest: 0.7388668\tbest: 0.7388668 (600)\ttotal: 35.7s\tremaining: 1m 51s\n",
      "900:\ttest: 0.7389728\tbest: 0.7389860 (890)\ttotal: 54s\tremaining: 1m 34s\n",
      "1200:\ttest: 0.7390146\tbest: 0.7390160 (1199)\ttotal: 1m 12s\tremaining: 1m 17s\n",
      "1500:\ttest: 0.7389077\tbest: 0.7390452 (1213)\ttotal: 1m 30s\tremaining: 59.4s\n"
     ]
    },
    {
     "name": "stderr",
     "output_type": "stream",
     "text": [
      "[I 2025-02-26 12:50:35,874] Trial 17 finished with value: 0.7390451587924045 and parameters: {'iterations': 2482, 'depth': 5, 'learning_rate': 0.05742508707118142, 'l2_leaf_reg': 5.829118289299236}. Best is trial 10 with value: 0.7390487365608929.\n"
     ]
    },
    {
     "name": "stdout",
     "output_type": "stream",
     "text": [
      "Stopped by overfitting detector  (300 iterations wait)\n",
      "\n",
      "bestTest = 0.7390451588\n",
      "bestIteration = 1213\n",
      "\n",
      "Shrink model to first 1214 iterations.\n",
      "0:\ttest: 0.7018256\tbest: 0.7018256 (0)\ttotal: 60.8ms\tremaining: 1m 36s\n",
      "300:\ttest: 0.7378866\tbest: 0.7378953 (299)\ttotal: 17.5s\tremaining: 1m 14s\n",
      "600:\ttest: 0.7386208\tbest: 0.7386221 (598)\ttotal: 35.6s\tremaining: 58.3s\n",
      "900:\ttest: 0.7388010\tbest: 0.7388429 (872)\ttotal: 54s\tremaining: 41s\n",
      "1200:\ttest: 0.7388763\tbest: 0.7389015 (1180)\ttotal: 1m 12s\tremaining: 23.2s\n",
      "1500:\ttest: 0.7389042\tbest: 0.7389551 (1324)\ttotal: 1m 31s\tremaining: 5.09s\n"
     ]
    },
    {
     "name": "stderr",
     "output_type": "stream",
     "text": [
      "[I 2025-02-26 12:52:12,447] Trial 18 finished with value: 0.7389550990928304 and parameters: {'iterations': 1585, 'depth': 5, 'learning_rate': 0.05970016430294879, 'l2_leaf_reg': 5.347039931751717}. Best is trial 10 with value: 0.7390487365608929.\n"
     ]
    },
    {
     "name": "stdout",
     "output_type": "stream",
     "text": [
      "1584:\ttest: 0.7388851\tbest: 0.7389551 (1324)\ttotal: 1m 36s\tremaining: 0us\n",
      "\n",
      "bestTest = 0.7389550991\n",
      "bestIteration = 1324\n",
      "\n",
      "Shrink model to first 1325 iterations.\n",
      "0:\ttest: 0.7018256\tbest: 0.7018256 (0)\ttotal: 61.8ms\tremaining: 2m 32s\n",
      "300:\ttest: 0.7380707\tbest: 0.7380805 (294)\ttotal: 17.3s\tremaining: 2m 4s\n",
      "600:\ttest: 0.7386123\tbest: 0.7386123 (600)\ttotal: 35.3s\tremaining: 1m 49s\n",
      "900:\ttest: 0.7389259\tbest: 0.7389260 (899)\ttotal: 53.4s\tremaining: 1m 32s\n",
      "1200:\ttest: 0.7388763\tbest: 0.7389708 (936)\ttotal: 1m 11s\tremaining: 1m 14s\n"
     ]
    },
    {
     "name": "stderr",
     "output_type": "stream",
     "text": [
      "[I 2025-02-26 12:53:26,310] Trial 19 finished with value: 0.7389707999769626 and parameters: {'iterations': 2461, 'depth': 5, 'learning_rate': 0.07225606505011553, 'l2_leaf_reg': 82.64355742461473}. Best is trial 10 with value: 0.7390487365608929.\n"
     ]
    },
    {
     "name": "stdout",
     "output_type": "stream",
     "text": [
      "Stopped by overfitting detector  (300 iterations wait)\n",
      "\n",
      "bestTest = 0.7389708\n",
      "bestIteration = 936\n",
      "\n",
      "Shrink model to first 937 iterations.\n",
      "0:\ttest: 0.7018256\tbest: 0.7018256 (0)\ttotal: 64ms\tremaining: 3m 9s\n",
      "300:\ttest: 0.7379629\tbest: 0.7379629 (300)\ttotal: 17.4s\tremaining: 2m 33s\n",
      "600:\ttest: 0.7386442\tbest: 0.7386442 (600)\ttotal: 35.5s\tremaining: 2m 19s\n",
      "900:\ttest: 0.7387586\tbest: 0.7388166 (779)\ttotal: 53.9s\tremaining: 2m 3s\n",
      "1200:\ttest: 0.7387969\tbest: 0.7388257 (976)\ttotal: 1m 12s\tremaining: 1m 46s\n",
      "1500:\ttest: 0.7387779\tbest: 0.7388340 (1284)\ttotal: 1m 30s\tremaining: 1m 28s\n"
     ]
    },
    {
     "name": "stderr",
     "output_type": "stream",
     "text": [
      "[I 2025-02-26 12:55:02,117] Trial 20 finished with value: 0.7388339791212073 and parameters: {'iterations': 2967, 'depth': 5, 'learning_rate': 0.055555584631126, 'l2_leaf_reg': 6.211119165892711}. Best is trial 10 with value: 0.7390487365608929.\n"
     ]
    },
    {
     "name": "stdout",
     "output_type": "stream",
     "text": [
      "Stopped by overfitting detector  (300 iterations wait)\n",
      "\n",
      "bestTest = 0.7388339791\n",
      "bestIteration = 1284\n",
      "\n",
      "Shrink model to first 1285 iterations.\n",
      "0:\ttest: 0.7175267\tbest: 0.7175267 (0)\ttotal: 73ms\tremaining: 3m 17s\n",
      "300:\ttest: 0.7373933\tbest: 0.7374003 (294)\ttotal: 19.7s\tremaining: 2m 37s\n",
      "600:\ttest: 0.7382012\tbest: 0.7382435 (533)\ttotal: 41.2s\tremaining: 2m 24s\n",
      "900:\ttest: 0.7382580\tbest: 0.7384692 (655)\ttotal: 1m 2s\tremaining: 2m 6s\n"
     ]
    },
    {
     "name": "stderr",
     "output_type": "stream",
     "text": [
      "[I 2025-02-26 12:56:09,109] Trial 21 finished with value: 0.738469169832866 and parameters: {'iterations': 2714, 'depth': 6, 'learning_rate': 0.03891714451648584, 'l2_leaf_reg': 0.19311015187377992}. Best is trial 10 with value: 0.7390487365608929.\n"
     ]
    },
    {
     "name": "stdout",
     "output_type": "stream",
     "text": [
      "Stopped by overfitting detector  (300 iterations wait)\n",
      "\n",
      "bestTest = 0.7384691698\n",
      "bestIteration = 655\n",
      "\n",
      "Shrink model to first 656 iterations.\n",
      "0:\ttest: 0.7174482\tbest: 0.7174482 (0)\ttotal: 80ms\tremaining: 3m 24s\n",
      "300:\ttest: 0.7367923\tbest: 0.7367923 (300)\ttotal: 22.2s\tremaining: 2m 46s\n",
      "600:\ttest: 0.7381709\tbest: 0.7381916 (599)\ttotal: 45.6s\tremaining: 2m 28s\n",
      "900:\ttest: 0.7383955\tbest: 0.7384607 (727)\ttotal: 1m 10s\tremaining: 2m 9s\n"
     ]
    },
    {
     "name": "stderr",
     "output_type": "stream",
     "text": [
      "[I 2025-02-26 12:57:30,608] Trial 22 finished with value: 0.7384607316996388 and parameters: {'iterations': 2558, 'depth': 7, 'learning_rate': 0.02309391484732412, 'l2_leaf_reg': 0.015373419904672081}. Best is trial 10 with value: 0.7390487365608929.\n"
     ]
    },
    {
     "name": "stdout",
     "output_type": "stream",
     "text": [
      "Stopped by overfitting detector  (300 iterations wait)\n",
      "\n",
      "bestTest = 0.7384607317\n",
      "bestIteration = 727\n",
      "\n",
      "Shrink model to first 728 iterations.\n",
      "0:\ttest: 0.7175267\tbest: 0.7175267 (0)\ttotal: 73.9ms\tremaining: 3m 27s\n",
      "300:\ttest: 0.7379536\tbest: 0.7379536 (300)\ttotal: 19.8s\tremaining: 2m 45s\n",
      "600:\ttest: 0.7386307\tbest: 0.7386584 (499)\ttotal: 41.3s\tremaining: 2m 32s\n"
     ]
    },
    {
     "name": "stderr",
     "output_type": "stream",
     "text": [
      "[I 2025-02-26 12:58:26,611] Trial 23 finished with value: 0.7386584024158999 and parameters: {'iterations': 2816, 'depth': 6, 'learning_rate': 0.04788729260958122, 'l2_leaf_reg': 2.2720809043536923}. Best is trial 10 with value: 0.7390487365608929.\n"
     ]
    },
    {
     "name": "stdout",
     "output_type": "stream",
     "text": [
      "Stopped by overfitting detector  (300 iterations wait)\n",
      "\n",
      "bestTest = 0.7386584024\n",
      "bestIteration = 499\n",
      "\n",
      "Shrink model to first 500 iterations.\n",
      "0:\ttest: 0.7174748\tbest: 0.7174748 (0)\ttotal: 79.6ms\tremaining: 3m 14s\n",
      "300:\ttest: 0.7367736\tbest: 0.7367795 (298)\ttotal: 22.1s\tremaining: 2m 36s\n",
      "600:\ttest: 0.7381134\tbest: 0.7381134 (600)\ttotal: 44.4s\tremaining: 2m 15s\n",
      "900:\ttest: 0.7386294\tbest: 0.7386340 (897)\ttotal: 1m 9s\tremaining: 1m 58s\n",
      "1200:\ttest: 0.7387147\tbest: 0.7387328 (1126)\ttotal: 1m 33s\tremaining: 1m 36s\n",
      "1500:\ttest: 0.7388103\tbest: 0.7388197 (1478)\ttotal: 1m 58s\tremaining: 1m 14s\n",
      "1800:\ttest: 0.7387907\tbest: 0.7388227 (1512)\ttotal: 2m 23s\tremaining: 50.8s\n"
     ]
    },
    {
     "name": "stderr",
     "output_type": "stream",
     "text": [
      "[I 2025-02-26 13:00:51,487] Trial 24 finished with value: 0.7388226819498983 and parameters: {'iterations': 2438, 'depth': 7, 'learning_rate': 0.020074307522457792, 'l2_leaf_reg': 22.057759824830924}. Best is trial 10 with value: 0.7390487365608929.\n"
     ]
    },
    {
     "name": "stdout",
     "output_type": "stream",
     "text": [
      "Stopped by overfitting detector  (300 iterations wait)\n",
      "\n",
      "bestTest = 0.7388226819\n",
      "bestIteration = 1512\n",
      "\n",
      "Shrink model to first 1513 iterations.\n",
      "0:\ttest: 0.7018256\tbest: 0.7018256 (0)\ttotal: 64.2ms\tremaining: 2m 49s\n",
      "300:\ttest: 0.7369063\tbest: 0.7369063 (300)\ttotal: 16.9s\tremaining: 2m 10s\n",
      "600:\ttest: 0.7383446\tbest: 0.7383517 (579)\ttotal: 35s\tremaining: 1m 58s\n",
      "900:\ttest: 0.7386664\tbest: 0.7386827 (853)\ttotal: 53.3s\tremaining: 1m 42s\n",
      "1200:\ttest: 0.7387051\tbest: 0.7387522 (1087)\ttotal: 1m 11s\tremaining: 1m 25s\n",
      "1500:\ttest: 0.7388667\tbest: 0.7388901 (1465)\ttotal: 1m 30s\tremaining: 1m 8s\n"
     ]
    },
    {
     "name": "stderr",
     "output_type": "stream",
     "text": [
      "[I 2025-02-26 13:02:38,256] Trial 25 finished with value: 0.7388900837726748 and parameters: {'iterations': 2635, 'depth': 5, 'learning_rate': 0.037467769932323286, 'l2_leaf_reg': 0.5785278393257242}. Best is trial 10 with value: 0.7390487365608929.\n"
     ]
    },
    {
     "name": "stdout",
     "output_type": "stream",
     "text": [
      "Stopped by overfitting detector  (300 iterations wait)\n",
      "\n",
      "bestTest = 0.7388900838\n",
      "bestIteration = 1465\n",
      "\n",
      "Shrink model to first 1466 iterations.\n",
      "0:\ttest: 0.7175267\tbest: 0.7175267 (0)\ttotal: 74.9ms\tremaining: 2m 46s\n",
      "300:\ttest: 0.7368659\tbest: 0.7368659 (300)\ttotal: 19.4s\tremaining: 2m 3s\n",
      "600:\ttest: 0.7380894\tbest: 0.7380991 (583)\ttotal: 40.1s\tremaining: 1m 48s\n",
      "900:\ttest: 0.7386002\tbest: 0.7386002 (900)\ttotal: 1m 1s\tremaining: 1m 30s\n",
      "1200:\ttest: 0.7387190\tbest: 0.7387347 (1195)\ttotal: 1m 23s\tremaining: 1m 11s\n",
      "1500:\ttest: 0.7387246\tbest: 0.7387949 (1231)\ttotal: 1m 45s\tremaining: 50.6s\n"
     ]
    },
    {
     "name": "stderr",
     "output_type": "stream",
     "text": [
      "[I 2025-02-26 13:04:25,925] Trial 26 finished with value: 0.7387948698627811 and parameters: {'iterations': 2224, 'depth': 6, 'learning_rate': 0.027201026877637778, 'l2_leaf_reg': 0.04360333192686404}. Best is trial 10 with value: 0.7390487365608929.\n"
     ]
    },
    {
     "name": "stdout",
     "output_type": "stream",
     "text": [
      "Stopped by overfitting detector  (300 iterations wait)\n",
      "\n",
      "bestTest = 0.7387948699\n",
      "bestIteration = 1231\n",
      "\n",
      "Shrink model to first 1232 iterations.\n",
      "0:\ttest: 0.7210361\tbest: 0.7210361 (0)\ttotal: 113ms\tremaining: 5m 25s\n",
      "300:\ttest: 0.7374357\tbest: 0.7374357 (300)\ttotal: 29.2s\tremaining: 4m 11s\n",
      "600:\ttest: 0.7368349\tbest: 0.7377122 (322)\ttotal: 1m 2s\tremaining: 3m 58s\n"
     ]
    },
    {
     "name": "stderr",
     "output_type": "stream",
     "text": [
      "[I 2025-02-26 13:05:31,168] Trial 27 finished with value: 0.7377122355298444 and parameters: {'iterations': 2889, 'depth': 9, 'learning_rate': 0.04562744146644, 'l2_leaf_reg': 0.26736363742124153}. Best is trial 10 with value: 0.7390487365608929.\n"
     ]
    },
    {
     "name": "stdout",
     "output_type": "stream",
     "text": [
      "Stopped by overfitting detector  (300 iterations wait)\n",
      "\n",
      "bestTest = 0.7377122355\n",
      "bestIteration = 322\n",
      "\n",
      "Shrink model to first 323 iterations.\n",
      "0:\ttest: 0.7018256\tbest: 0.7018256 (0)\ttotal: 64.2ms\tremaining: 2m 56s\n",
      "300:\ttest: 0.7380571\tbest: 0.7380571 (300)\ttotal: 18.2s\tremaining: 2m 28s\n",
      "600:\ttest: 0.7386658\tbest: 0.7387050 (555)\ttotal: 36.6s\tremaining: 2m 11s\n",
      "900:\ttest: 0.7386492\tbest: 0.7387255 (720)\ttotal: 55s\tremaining: 1m 53s\n"
     ]
    },
    {
     "name": "stderr",
     "output_type": "stream",
     "text": [
      "[I 2025-02-26 13:06:33,764] Trial 28 finished with value: 0.738725514363982 and parameters: {'iterations': 2755, 'depth': 5, 'learning_rate': 0.06652935206667066, 'l2_leaf_reg': 2.655069516330938}. Best is trial 10 with value: 0.7390487365608929.\n"
     ]
    },
    {
     "name": "stdout",
     "output_type": "stream",
     "text": [
      "Stopped by overfitting detector  (300 iterations wait)\n",
      "\n",
      "bestTest = 0.7387255144\n",
      "bestIteration = 720\n",
      "\n",
      "Shrink model to first 721 iterations.\n",
      "0:\ttest: 0.7174565\tbest: 0.7174565 (0)\ttotal: 81.7ms\tremaining: 3m 11s\n",
      "300:\ttest: 0.7382760\tbest: 0.7382760 (300)\ttotal: 23.1s\tremaining: 2m 37s\n",
      "600:\ttest: 0.7387075\tbest: 0.7387556 (537)\ttotal: 48s\tremaining: 2m 19s\n",
      "900:\ttest: 0.7386080\tbest: 0.7387990 (681)\ttotal: 1m 13s\tremaining: 1m 57s\n"
     ]
    },
    {
     "name": "stderr",
     "output_type": "stream",
     "text": [
      "[I 2025-02-26 13:07:53,831] Trial 29 finished with value: 0.7387990075262272 and parameters: {'iterations': 2347, 'depth': 7, 'learning_rate': 0.05629282781087814, 'l2_leaf_reg': 12.35088765334419}. Best is trial 10 with value: 0.7390487365608929.\n"
     ]
    },
    {
     "name": "stdout",
     "output_type": "stream",
     "text": [
      "Stopped by overfitting detector  (300 iterations wait)\n",
      "\n",
      "bestTest = 0.7387990075\n",
      "bestIteration = 681\n",
      "\n",
      "Shrink model to first 682 iterations.\n",
      "0:\ttest: 0.7175267\tbest: 0.7175267 (0)\ttotal: 71.3ms\tremaining: 2m 55s\n",
      "300:\ttest: 0.7384158\tbest: 0.7384467 (293)\ttotal: 20.8s\tremaining: 2m 29s\n",
      "600:\ttest: 0.7384352\tbest: 0.7387460 (380)\ttotal: 42.5s\tremaining: 2m 11s\n"
     ]
    },
    {
     "name": "stderr",
     "output_type": "stream",
     "text": [
      "[I 2025-02-26 13:08:42,314] Trial 30 finished with value: 0.7387460279622184 and parameters: {'iterations': 2464, 'depth': 6, 'learning_rate': 0.07856444804442106, 'l2_leaf_reg': 0.024994876315121237}. Best is trial 10 with value: 0.7390487365608929.\n"
     ]
    },
    {
     "name": "stdout",
     "output_type": "stream",
     "text": [
      "Stopped by overfitting detector  (300 iterations wait)\n",
      "\n",
      "bestTest = 0.738746028\n",
      "bestIteration = 380\n",
      "\n",
      "Shrink model to first 381 iterations.\n",
      "0:\ttest: 0.7216120\tbest: 0.7216120 (0)\ttotal: 95.8ms\tremaining: 4m 34s\n",
      "300:\ttest: 0.7361725\tbest: 0.7361725 (300)\ttotal: 24.7s\tremaining: 3m 30s\n",
      "600:\ttest: 0.7375031\tbest: 0.7375031 (600)\ttotal: 50.2s\tremaining: 3m 9s\n",
      "900:\ttest: 0.7380005\tbest: 0.7380211 (899)\ttotal: 1m 16s\tremaining: 2m 46s\n",
      "1200:\ttest: 0.7380822\tbest: 0.7380824 (1197)\ttotal: 1m 45s\tremaining: 2m 26s\n",
      "1500:\ttest: 0.7381546\tbest: 0.7381949 (1457)\ttotal: 2m 14s\tremaining: 2m 2s\n",
      "1800:\ttest: 0.7379906\tbest: 0.7382408 (1548)\ttotal: 2m 43s\tremaining: 1m 36s\n"
     ]
    },
    {
     "name": "stderr",
     "output_type": "stream",
     "text": [
      "[I 2025-02-26 13:11:30,808] Trial 31 finished with value: 0.7382408160787473 and parameters: {'iterations': 2864, 'depth': 8, 'learning_rate': 0.015395615407750834, 'l2_leaf_reg': 0.16566888625400836}. Best is trial 10 with value: 0.7390487365608929.\n"
     ]
    },
    {
     "name": "stdout",
     "output_type": "stream",
     "text": [
      "Stopped by overfitting detector  (300 iterations wait)\n",
      "\n",
      "bestTest = 0.7382408161\n",
      "bestIteration = 1548\n",
      "\n",
      "Shrink model to first 1549 iterations.\n",
      "0:\ttest: 0.7210360\tbest: 0.7210360 (0)\ttotal: 111ms\tremaining: 5m 9s\n",
      "300:\ttest: 0.7339956\tbest: 0.7339956 (300)\ttotal: 27.8s\tremaining: 3m 50s\n",
      "600:\ttest: 0.7360643\tbest: 0.7360643 (600)\ttotal: 56.5s\tremaining: 3m 26s\n",
      "900:\ttest: 0.7370689\tbest: 0.7370689 (900)\ttotal: 1m 26s\tremaining: 3m 1s\n",
      "1200:\ttest: 0.7375799\tbest: 0.7375799 (1200)\ttotal: 1m 56s\tremaining: 2m 33s\n",
      "1500:\ttest: 0.7378435\tbest: 0.7378548 (1484)\ttotal: 2m 24s\tremaining: 2m 3s\n",
      "1800:\ttest: 0.7380548\tbest: 0.7380562 (1799)\ttotal: 2m 54s\tremaining: 1m 35s\n",
      "2100:\ttest: 0.7382230\tbest: 0.7382240 (2095)\ttotal: 3m 26s\tremaining: 1m 7s\n",
      "2400:\ttest: 0.7382599\tbest: 0.7382636 (2395)\ttotal: 3m 59s\tremaining: 39.1s\n"
     ]
    },
    {
     "name": "stderr",
     "output_type": "stream",
     "text": [
      "[I 2025-02-26 13:16:04,376] Trial 32 finished with value: 0.7382636407327664 and parameters: {'iterations': 2792, 'depth': 9, 'learning_rate': 0.006532971544833262, 'l2_leaf_reg': 0.3165575428568006}. Best is trial 10 with value: 0.7390487365608929.\n"
     ]
    },
    {
     "name": "stdout",
     "output_type": "stream",
     "text": [
      "Stopped by overfitting detector  (300 iterations wait)\n",
      "\n",
      "bestTest = 0.7382636407\n",
      "bestIteration = 2395\n",
      "\n",
      "Shrink model to first 2396 iterations.\n",
      "0:\ttest: 0.7216082\tbest: 0.7216082 (0)\ttotal: 91.9ms\tremaining: 4m 3s\n",
      "300:\ttest: 0.7369908\tbest: 0.7370606 (297)\ttotal: 24.9s\tremaining: 3m 13s\n",
      "600:\ttest: 0.7375249\tbest: 0.7377501 (549)\ttotal: 52.6s\tremaining: 2m 59s\n"
     ]
    },
    {
     "name": "stderr",
     "output_type": "stream",
     "text": [
      "[I 2025-02-26 13:17:21,182] Trial 33 finished with value: 0.7377500542502475 and parameters: {'iterations': 2648, 'depth': 8, 'learning_rate': 0.028292854301351787, 'l2_leaf_reg': 0.005857827864822707}. Best is trial 10 with value: 0.7390487365608929.\n"
     ]
    },
    {
     "name": "stdout",
     "output_type": "stream",
     "text": [
      "Stopped by overfitting detector  (300 iterations wait)\n",
      "\n",
      "bestTest = 0.7377500543\n",
      "bestIteration = 549\n",
      "\n",
      "Shrink model to first 550 iterations.\n",
      "0:\ttest: 0.7210362\tbest: 0.7210362 (0)\ttotal: 109ms\tremaining: 5m 22s\n",
      "300:\ttest: 0.7367034\tbest: 0.7367034 (300)\ttotal: 30.3s\tremaining: 4m 28s\n",
      "600:\ttest: 0.7376167\tbest: 0.7376747 (594)\ttotal: 59.1s\tremaining: 3m 52s\n",
      "900:\ttest: 0.7376529\tbest: 0.7379521 (780)\ttotal: 1m 32s\tremaining: 3m 31s\n"
     ]
    },
    {
     "name": "stderr",
     "output_type": "stream",
     "text": [
      "[I 2025-02-26 13:19:13,940] Trial 34 finished with value: 0.7379521167666732 and parameters: {'iterations': 2965, 'depth': 9, 'learning_rate': 0.02008913749001975, 'l2_leaf_reg': 0.10480952572062101}. Best is trial 10 with value: 0.7390487365608929.\n"
     ]
    },
    {
     "name": "stdout",
     "output_type": "stream",
     "text": [
      "Stopped by overfitting detector  (300 iterations wait)\n",
      "\n",
      "bestTest = 0.7379521168\n",
      "bestIteration = 780\n",
      "\n",
      "Shrink model to first 781 iterations.\n",
      "0:\ttest: 0.6999596\tbest: 0.6999596 (0)\ttotal: 54.6ms\tremaining: 2m 4s\n",
      "300:\ttest: 0.7366296\tbest: 0.7366296 (300)\ttotal: 13.9s\tremaining: 1m 31s\n",
      "600:\ttest: 0.7381765\tbest: 0.7381834 (597)\ttotal: 28.6s\tremaining: 1m 19s\n",
      "900:\ttest: 0.7385703\tbest: 0.7385762 (897)\ttotal: 43.5s\tremaining: 1m 6s\n",
      "1200:\ttest: 0.7387254\tbest: 0.7387478 (1187)\ttotal: 58.4s\tremaining: 52.5s\n",
      "1500:\ttest: 0.7388142\tbest: 0.7388409 (1418)\ttotal: 1m 13s\tremaining: 38s\n"
     ]
    },
    {
     "name": "stderr",
     "output_type": "stream",
     "text": [
      "[I 2025-02-26 13:20:38,368] Trial 35 finished with value: 0.7388408566961484 and parameters: {'iterations': 2280, 'depth': 4, 'learning_rate': 0.04040517486439695, 'l2_leaf_reg': 1.5613656720300835}. Best is trial 10 with value: 0.7390487365608929.\n"
     ]
    },
    {
     "name": "stdout",
     "output_type": "stream",
     "text": [
      "Stopped by overfitting detector  (300 iterations wait)\n",
      "\n",
      "bestTest = 0.7388408567\n",
      "bestIteration = 1418\n",
      "\n",
      "Shrink model to first 1419 iterations.\n",
      "0:\ttest: 0.7244011\tbest: 0.7244011 (0)\ttotal: 130ms\tremaining: 5m 29s\n",
      "300:\ttest: 0.7374597\tbest: 0.7374597 (300)\ttotal: 37.4s\tremaining: 4m 37s\n",
      "600:\ttest: 0.7380922\tbest: 0.7381560 (570)\ttotal: 1m 18s\tremaining: 4m 12s\n"
     ]
    },
    {
     "name": "stderr",
     "output_type": "stream",
     "text": [
      "[I 2025-02-26 13:22:44,133] Trial 36 finished with value: 0.7381559979489896 and parameters: {'iterations': 2533, 'depth': 10, 'learning_rate': 0.025043351924548506, 'l2_leaf_reg': 35.02451946094054}. Best is trial 10 with value: 0.7390487365608929.\n"
     ]
    },
    {
     "name": "stdout",
     "output_type": "stream",
     "text": [
      "Stopped by overfitting detector  (300 iterations wait)\n",
      "\n",
      "bestTest = 0.7381559979\n",
      "bestIteration = 570\n",
      "\n",
      "Shrink model to first 571 iterations.\n",
      "0:\ttest: 0.7174482\tbest: 0.7174482 (0)\ttotal: 79.6ms\tremaining: 3m 48s\n",
      "300:\ttest: 0.7377187\tbest: 0.7377856 (277)\ttotal: 23.3s\tremaining: 3m 18s\n",
      "600:\ttest: 0.7374883\tbest: 0.7378748 (375)\ttotal: 48.5s\tremaining: 3m 2s\n"
     ]
    },
    {
     "name": "stderr",
     "output_type": "stream",
     "text": [
      "[I 2025-02-26 13:23:39,075] Trial 37 finished with value: 0.7378748194954249 and parameters: {'iterations': 2868, 'depth': 7, 'learning_rate': 0.050792906841941696, 'l2_leaf_reg': 0.031416694999256874}. Best is trial 10 with value: 0.7390487365608929.\n"
     ]
    },
    {
     "name": "stdout",
     "output_type": "stream",
     "text": [
      "Stopped by overfitting detector  (300 iterations wait)\n",
      "\n",
      "bestTest = 0.7378748195\n",
      "bestIteration = 375\n",
      "\n",
      "Shrink model to first 376 iterations.\n",
      "0:\ttest: 0.6999596\tbest: 0.6999596 (0)\ttotal: 51.8ms\tremaining: 2m 18s\n",
      "300:\ttest: 0.7332615\tbest: 0.7332634 (299)\ttotal: 12.9s\tremaining: 1m 41s\n",
      "600:\ttest: 0.7358205\tbest: 0.7358205 (600)\ttotal: 26.7s\tremaining: 1m 32s\n",
      "900:\ttest: 0.7370031\tbest: 0.7370031 (900)\ttotal: 41s\tremaining: 1m 20s\n",
      "1200:\ttest: 0.7378429\tbest: 0.7378429 (1200)\ttotal: 55.5s\tremaining: 1m 8s\n",
      "1500:\ttest: 0.7382431\tbest: 0.7382431 (1500)\ttotal: 1m 10s\tremaining: 55.1s\n",
      "1800:\ttest: 0.7384370\tbest: 0.7384370 (1800)\ttotal: 1m 24s\tremaining: 41.4s\n",
      "2100:\ttest: 0.7385008\tbest: 0.7385496 (2014)\ttotal: 1m 39s\tremaining: 27.5s\n"
     ]
    },
    {
     "name": "stderr",
     "output_type": "stream",
     "text": [
      "[I 2025-02-26 13:25:29,803] Trial 38 finished with value: 0.7385496199877767 and parameters: {'iterations': 2679, 'depth': 4, 'learning_rate': 0.015018856798531953, 'l2_leaf_reg': 0.004786545987563176}. Best is trial 10 with value: 0.7390487365608929.\n"
     ]
    },
    {
     "name": "stdout",
     "output_type": "stream",
     "text": [
      "Stopped by overfitting detector  (300 iterations wait)\n",
      "\n",
      "bestTest = 0.73854962\n",
      "bestIteration = 2014\n",
      "\n",
      "Shrink model to first 2015 iterations.\n",
      "0:\ttest: 0.7018256\tbest: 0.7018256 (0)\ttotal: 61.6ms\tremaining: 2m 9s\n",
      "300:\ttest: 0.7320824\tbest: 0.7320824 (300)\ttotal: 15.9s\tremaining: 1m 35s\n",
      "600:\ttest: 0.7351062\tbest: 0.7351062 (600)\ttotal: 32.4s\tremaining: 1m 21s\n",
      "900:\ttest: 0.7361903\tbest: 0.7361903 (900)\ttotal: 49.3s\tremaining: 1m 6s\n",
      "1200:\ttest: 0.7369148\tbest: 0.7369148 (1200)\ttotal: 1m 6s\tremaining: 50.4s\n",
      "1500:\ttest: 0.7375272\tbest: 0.7375272 (1500)\ttotal: 1m 24s\tremaining: 34.3s\n",
      "1800:\ttest: 0.7379868\tbest: 0.7379868 (1800)\ttotal: 1m 42s\tremaining: 17.7s\n",
      "2100:\ttest: 0.7382655\tbest: 0.7382721 (2099)\ttotal: 2m 1s\tremaining: 576ms\n"
     ]
    },
    {
     "name": "stderr",
     "output_type": "stream",
     "text": [
      "[I 2025-02-26 13:27:31,742] Trial 39 finished with value: 0.7382832886778057 and parameters: {'iterations': 2111, 'depth': 5, 'learning_rate': 0.009051886828724463, 'l2_leaf_reg': 0.002938292893066756}. Best is trial 10 with value: 0.7390487365608929.\n",
      "[I 2025-02-26 13:27:31,746] A new study created in memory with name: no-name-0fd907ed-05e0-4669-857d-b061adb9cf18\n"
     ]
    },
    {
     "name": "stdout",
     "output_type": "stream",
     "text": [
      "2110:\ttest: 0.7382833\tbest: 0.7382833 (2110)\ttotal: 2m 1s\tremaining: 0us\n",
      "\n",
      "bestTest = 0.7382832887\n",
      "bestIteration = 2110\n",
      "\n"
     ]
    },
    {
     "name": "stderr",
     "output_type": "stream",
     "text": [
      "[I 2025-02-26 13:27:54,932] Trial 0 finished with value: 0.7276720879640882 and parameters: {'num_iterations': 2366, 'objective': 'binary', 'metric': 'auc', 'verbose': -1, 'learning_rate': 0.0652646236447618, 'n_estimators': 236, 'min_child_samples': 45, 'subsample': 0.7, 'colsample_bytree': 0.5}. Best is trial 0 with value: 0.7276720879640882.\n",
      "[I 2025-02-26 13:28:11,928] Trial 1 finished with value: 0.7380867059843701 and parameters: {'num_iterations': 1510, 'objective': 'binary', 'metric': 'auc', 'verbose': -1, 'learning_rate': 0.005231880959249543, 'n_estimators': 1411, 'min_child_samples': 10, 'subsample': 1.0, 'colsample_bytree': 0.5}. Best is trial 1 with value: 0.7380867059843701.\n",
      "[I 2025-02-26 13:28:31,435] Trial 2 finished with value: 0.7374580114519723 and parameters: {'num_iterations': 2334, 'objective': 'binary', 'metric': 'auc', 'verbose': -1, 'learning_rate': 0.006578527777128852, 'n_estimators': 931, 'min_child_samples': 15, 'subsample': 0.5, 'colsample_bytree': 1.0}. Best is trial 1 with value: 0.7380867059843701.\n",
      "[I 2025-02-26 13:28:47,959] Trial 3 finished with value: 0.7380381698420467 and parameters: {'num_iterations': 1620, 'objective': 'binary', 'metric': 'auc', 'verbose': -1, 'learning_rate': 0.0058823249237283685, 'n_estimators': 837, 'min_child_samples': 10, 'subsample': 0.9, 'colsample_bytree': 0.6}. Best is trial 1 with value: 0.7380867059843701.\n",
      "[I 2025-02-26 13:29:04,303] Trial 4 finished with value: 0.7377409926878831 and parameters: {'num_iterations': 1997, 'objective': 'binary', 'metric': 'auc', 'verbose': -1, 'learning_rate': 0.010907507425244923, 'n_estimators': 1597, 'min_child_samples': 50, 'subsample': 0.6, 'colsample_bytree': 0.8}. Best is trial 1 with value: 0.7380867059843701.\n",
      "[I 2025-02-26 13:29:26,911] Trial 5 finished with value: 0.7349567621317483 and parameters: {'num_iterations': 2909, 'objective': 'binary', 'metric': 'auc', 'verbose': -1, 'learning_rate': 0.019760591962733942, 'n_estimators': 612, 'min_child_samples': 30, 'subsample': 0.7, 'colsample_bytree': 0.9}. Best is trial 1 with value: 0.7380867059843701.\n",
      "[I 2025-02-26 13:29:47,594] Trial 6 finished with value: 0.7359462394738556 and parameters: {'num_iterations': 2639, 'objective': 'binary', 'metric': 'auc', 'verbose': -1, 'learning_rate': 0.017862094446750985, 'n_estimators': 794, 'min_child_samples': 35, 'subsample': 1.0, 'colsample_bytree': 0.8}. Best is trial 1 with value: 0.7380867059843701.\n",
      "[I 2025-02-26 13:30:04,050] Trial 7 finished with value: 0.7375866840491947 and parameters: {'num_iterations': 1580, 'objective': 'binary', 'metric': 'auc', 'verbose': -1, 'learning_rate': 0.01776722177611332, 'n_estimators': 529, 'min_child_samples': 25, 'subsample': 0.8, 'colsample_bytree': 0.5}. Best is trial 1 with value: 0.7380867059843701.\n",
      "[I 2025-02-26 13:30:21,695] Trial 8 finished with value: 0.7342414824252229 and parameters: {'num_iterations': 1911, 'objective': 'binary', 'metric': 'auc', 'verbose': -1, 'learning_rate': 0.0304747553332844, 'n_estimators': 1328, 'min_child_samples': 10, 'subsample': 0.7, 'colsample_bytree': 0.6}. Best is trial 1 with value: 0.7380867059843701.\n",
      "[I 2025-02-26 13:30:49,029] Trial 9 finished with value: 0.7330867526819922 and parameters: {'num_iterations': 2739, 'objective': 'binary', 'metric': 'auc', 'verbose': -1, 'learning_rate': 0.02691531614176271, 'n_estimators': 1438, 'min_child_samples': 20, 'subsample': 0.6, 'colsample_bytree': 0.5}. Best is trial 1 with value: 0.7380867059843701.\n",
      "[I 2025-02-26 13:31:04,143] Trial 10 finished with value: 0.7277819028226298 and parameters: {'num_iterations': 1933, 'objective': 'binary', 'metric': 'auc', 'verbose': -1, 'learning_rate': 0.08223556891145911, 'n_estimators': 1960, 'min_child_samples': 40, 'subsample': 1.0, 'colsample_bytree': 0.7}. Best is trial 1 with value: 0.7380867059843701.\n",
      "[I 2025-02-26 13:31:19,792] Trial 11 finished with value: 0.7381977041670067 and parameters: {'num_iterations': 1513, 'objective': 'binary', 'metric': 'auc', 'verbose': -1, 'learning_rate': 0.005340229419903739, 'n_estimators': 1206, 'min_child_samples': 10, 'subsample': 0.9, 'colsample_bytree': 0.6}. Best is trial 11 with value: 0.7381977041670067.\n",
      "[I 2025-02-26 13:31:35,852] Trial 12 finished with value: 0.7380317687734527 and parameters: {'num_iterations': 1550, 'objective': 'binary', 'metric': 'auc', 'verbose': -1, 'learning_rate': 0.005009803090245928, 'n_estimators': 1192, 'min_child_samples': 20, 'subsample': 0.9, 'colsample_bytree': 0.6}. Best is trial 11 with value: 0.7381977041670067.\n",
      "[I 2025-02-26 13:31:51,026] Trial 13 finished with value: 0.7377005809787752 and parameters: {'num_iterations': 1777, 'objective': 'binary', 'metric': 'auc', 'verbose': -1, 'learning_rate': 0.010074542479113706, 'n_estimators': 1698, 'min_child_samples': 10, 'subsample': 0.9, 'colsample_bytree': 0.7}. Best is trial 11 with value: 0.7381977041670067.\n",
      "[I 2025-02-26 13:32:11,972] Trial 14 finished with value: 0.7377674427610251 and parameters: {'num_iterations': 2165, 'objective': 'binary', 'metric': 'auc', 'verbose': -1, 'learning_rate': 0.00937245035506795, 'n_estimators': 1104, 'min_child_samples': 20, 'subsample': 1.0, 'colsample_bytree': 0.6}. Best is trial 11 with value: 0.7381977041670067.\n",
      "[I 2025-02-26 13:32:31,076] Trial 15 finished with value: 0.7381670330418079 and parameters: {'num_iterations': 1747, 'objective': 'binary', 'metric': 'auc', 'verbose': -1, 'learning_rate': 0.008303365162986591, 'n_estimators': 1836, 'min_child_samples': 15, 'subsample': 0.8, 'colsample_bytree': 0.5}. Best is trial 11 with value: 0.7381977041670067.\n",
      "[I 2025-02-26 13:32:46,398] Trial 16 finished with value: 0.738231671127772 and parameters: {'num_iterations': 1767, 'objective': 'binary', 'metric': 'auc', 'verbose': -1, 'learning_rate': 0.00813854868399377, 'n_estimators': 1977, 'min_child_samples': 25, 'subsample': 0.8, 'colsample_bytree': 0.7}. Best is trial 16 with value: 0.738231671127772.\n",
      "[I 2025-02-26 13:33:03,784] Trial 17 finished with value: 0.7375264695304846 and parameters: {'num_iterations': 2097, 'objective': 'binary', 'metric': 'auc', 'verbose': -1, 'learning_rate': 0.012590588990530598, 'n_estimators': 1633, 'min_child_samples': 30, 'subsample': 0.8, 'colsample_bytree': 0.7}. Best is trial 16 with value: 0.738231671127772.\n",
      "[I 2025-02-26 13:33:17,994] Trial 18 finished with value: 0.7344995384083017 and parameters: {'num_iterations': 1775, 'objective': 'binary', 'metric': 'auc', 'verbose': -1, 'learning_rate': 0.03629023365927263, 'n_estimators': 382, 'min_child_samples': 25, 'subsample': 0.9, 'colsample_bytree': 0.8}. Best is trial 16 with value: 0.738231671127772.\n",
      "[I 2025-02-26 13:33:38,563] Trial 19 finished with value: 0.7380122876056348 and parameters: {'num_iterations': 2481, 'objective': 'binary', 'metric': 'auc', 'verbose': -1, 'learning_rate': 0.007486854848050911, 'n_estimators': 1904, 'min_child_samples': 30, 'subsample': 0.8, 'colsample_bytree': 0.9}. Best is trial 16 with value: 0.738231671127772.\n",
      "[I 2025-02-26 13:33:52,669] Trial 20 finished with value: 0.7372818192593001 and parameters: {'num_iterations': 1695, 'objective': 'binary', 'metric': 'auc', 'verbose': -1, 'learning_rate': 0.015543721664676432, 'n_estimators': 1230, 'min_child_samples': 40, 'subsample': 0.9, 'colsample_bytree': 0.7}. Best is trial 16 with value: 0.738231671127772.\n",
      "[I 2025-02-26 13:34:10,174] Trial 21 finished with value: 0.7380291082796822 and parameters: {'num_iterations': 1778, 'objective': 'binary', 'metric': 'auc', 'verbose': -1, 'learning_rate': 0.00842659603188015, 'n_estimators': 1805, 'min_child_samples': 15, 'subsample': 0.8, 'colsample_bytree': 0.6}. Best is trial 16 with value: 0.738231671127772.\n",
      "[I 2025-02-26 13:34:28,409] Trial 22 finished with value: 0.7380770011384372 and parameters: {'num_iterations': 1841, 'objective': 'binary', 'metric': 'auc', 'verbose': -1, 'learning_rate': 0.007283122901399725, 'n_estimators': 1978, 'min_child_samples': 15, 'subsample': 0.8, 'colsample_bytree': 0.6}. Best is trial 16 with value: 0.738231671127772.\n",
      "[I 2025-02-26 13:34:47,323] Trial 23 finished with value: 0.7378040463902437 and parameters: {'num_iterations': 1687, 'objective': 'binary', 'metric': 'auc', 'verbose': -1, 'learning_rate': 0.012907948016444425, 'n_estimators': 1555, 'min_child_samples': 15, 'subsample': 0.7, 'colsample_bytree': 0.5}. Best is trial 16 with value: 0.738231671127772.\n",
      "[I 2025-02-26 13:35:03,651] Trial 24 finished with value: 0.7315165292586492 and parameters: {'num_iterations': 2039, 'objective': 'binary', 'metric': 'auc', 'verbose': -1, 'learning_rate': 0.046403778030053, 'n_estimators': 1784, 'min_child_samples': 25, 'subsample': 0.9, 'colsample_bytree': 0.7}. Best is trial 16 with value: 0.738231671127772.\n",
      "[I 2025-02-26 13:35:19,357] Trial 25 finished with value: 0.7381509072728497 and parameters: {'num_iterations': 1504, 'objective': 'binary', 'metric': 'auc', 'verbose': -1, 'learning_rate': 0.0065698316984290715, 'n_estimators': 1807, 'min_child_samples': 20, 'subsample': 0.8, 'colsample_bytree': 0.6}. Best is trial 16 with value: 0.738231671127772.\n",
      "[I 2025-02-26 13:35:42,364] Trial 26 finished with value: 0.7372193016265798 and parameters: {'num_iterations': 2197, 'objective': 'binary', 'metric': 'auc', 'verbose': -1, 'learning_rate': 0.013612907493030627, 'n_estimators': 1499, 'min_child_samples': 15, 'subsample': 0.6, 'colsample_bytree': 0.5}. Best is trial 16 with value: 0.738231671127772.\n",
      "[I 2025-02-26 13:35:56,937] Trial 27 finished with value: 0.7381231269528222 and parameters: {'num_iterations': 1677, 'objective': 'binary', 'metric': 'auc', 'verbose': -1, 'learning_rate': 0.008654256879864123, 'n_estimators': 1030, 'min_child_samples': 25, 'subsample': 0.9, 'colsample_bytree': 0.7}. Best is trial 16 with value: 0.738231671127772.\n",
      "[I 2025-02-26 13:36:15,683] Trial 28 finished with value: 0.7379494523020165 and parameters: {'num_iterations': 1946, 'objective': 'binary', 'metric': 'auc', 'verbose': -1, 'learning_rate': 0.010762745103481727, 'n_estimators': 1725, 'min_child_samples': 35, 'subsample': 0.8, 'colsample_bytree': 0.6}. Best is trial 16 with value: 0.738231671127772.\n",
      "[I 2025-02-26 13:36:36,605] Trial 29 finished with value: 0.7382073017990116 and parameters: {'num_iterations': 1864, 'objective': 'binary', 'metric': 'auc', 'verbose': -1, 'learning_rate': 0.005892282067160651, 'n_estimators': 1285, 'min_child_samples': 10, 'subsample': 0.7, 'colsample_bytree': 0.5}. Best is trial 16 with value: 0.738231671127772.\n",
      "[I 2025-02-26 13:36:57,409] Trial 30 finished with value: 0.7382777492915225 and parameters: {'num_iterations': 1859, 'objective': 'binary', 'metric': 'auc', 'verbose': -1, 'learning_rate': 0.005861312469693133, 'n_estimators': 104, 'min_child_samples': 10, 'subsample': 0.5, 'colsample_bytree': 0.5}. Best is trial 30 with value: 0.7382777492915225.\n",
      "[I 2025-02-26 13:37:18,156] Trial 31 finished with value: 0.7382926996781581 and parameters: {'num_iterations': 1867, 'objective': 'binary', 'metric': 'auc', 'verbose': -1, 'learning_rate': 0.005946369819548819, 'n_estimators': 192, 'min_child_samples': 10, 'subsample': 0.5, 'colsample_bytree': 0.5}. Best is trial 31 with value: 0.7382926996781581.\n",
      "[I 2025-02-26 13:37:38,855] Trial 32 finished with value: 0.738173771635731 and parameters: {'num_iterations': 1862, 'objective': 'binary', 'metric': 'auc', 'verbose': -1, 'learning_rate': 0.005983882309642196, 'n_estimators': 109, 'min_child_samples': 10, 'subsample': 0.5, 'colsample_bytree': 0.5}. Best is trial 31 with value: 0.7382926996781581.\n",
      "[I 2025-02-26 13:38:03,581] Trial 33 finished with value: 0.7380025390799533 and parameters: {'num_iterations': 2276, 'objective': 'binary', 'metric': 'auc', 'verbose': -1, 'learning_rate': 0.006931724258045659, 'n_estimators': 262, 'min_child_samples': 10, 'subsample': 0.5, 'colsample_bytree': 0.5}. Best is trial 31 with value: 0.7382926996781581.\n",
      "[I 2025-02-26 13:38:26,958] Trial 34 finished with value: 0.738252160900691 and parameters: {'num_iterations': 2080, 'objective': 'binary', 'metric': 'auc', 'verbose': -1, 'learning_rate': 0.005838718504435906, 'n_estimators': 158, 'min_child_samples': 10, 'subsample': 0.5, 'colsample_bytree': 0.5}. Best is trial 31 with value: 0.7382926996781581.\n",
      "[I 2025-02-26 13:38:45,262] Trial 35 finished with value: 0.7381335147911858 and parameters: {'num_iterations': 2072, 'objective': 'binary', 'metric': 'auc', 'verbose': -1, 'learning_rate': 0.005164813081460228, 'n_estimators': 126, 'min_child_samples': 50, 'subsample': 0.5, 'colsample_bytree': 1.0}. Best is trial 31 with value: 0.7382926996781581.\n",
      "[I 2025-02-26 13:39:05,538] Trial 36 finished with value: 0.7375203424530401 and parameters: {'num_iterations': 2376, 'objective': 'binary', 'metric': 'auc', 'verbose': -1, 'learning_rate': 0.007330032836410628, 'n_estimators': 298, 'min_child_samples': 15, 'subsample': 0.6, 'colsample_bytree': 0.9}. Best is trial 31 with value: 0.7382926996781581.\n",
      "[I 2025-02-26 13:39:27,291] Trial 37 finished with value: 0.7383492689233139 and parameters: {'num_iterations': 1977, 'objective': 'binary', 'metric': 'auc', 'verbose': -1, 'learning_rate': 0.0062448735506068515, 'n_estimators': 473, 'min_child_samples': 45, 'subsample': 0.5, 'colsample_bytree': 0.5}. Best is trial 37 with value: 0.7383492689233139.\n",
      "[I 2025-02-26 13:39:50,823] Trial 38 finished with value: 0.7382488849195558 and parameters: {'num_iterations': 2133, 'objective': 'binary', 'metric': 'auc', 'verbose': -1, 'learning_rate': 0.005913106443766239, 'n_estimators': 443, 'min_child_samples': 45, 'subsample': 0.5, 'colsample_bytree': 0.5}. Best is trial 37 with value: 0.7383492689233139.\n",
      "[I 2025-02-26 13:40:10,622] Trial 39 finished with value: 0.7323408296464714 and parameters: {'num_iterations': 1976, 'objective': 'binary', 'metric': 'auc', 'verbose': -1, 'learning_rate': 0.053422832108602374, 'n_estimators': 656, 'min_child_samples': 50, 'subsample': 0.6, 'colsample_bytree': 0.5}. Best is trial 37 with value: 0.7383492689233139.\n"
     ]
    },
    {
     "name": "stdout",
     "output_type": "stream",
     "text": [
      "Cat val score : 0.739048736560893\n",
      "LGBM val score : 0.7383782722762984\n",
      "Ensemble val score : 0.7391433707213979\n"
     ]
    },
    {
     "name": "stderr",
     "output_type": "stream",
     "text": [
      "[I 2025-02-26 13:40:34,139] A new study created in memory with name: no-name-44f9b0b2-91f2-4b3c-8477-a7a1bf1f9c4c\n"
     ]
    },
    {
     "name": "stdout",
     "output_type": "stream",
     "text": [
      "==================================================\n",
      "0:\ttest: 0.7234470\tbest: 0.7234470 (0)\ttotal: 178ms\tremaining: 7m 2s\n",
      "300:\ttest: 0.7362428\tbest: 0.7362428 (300)\ttotal: 40.4s\tremaining: 4m 37s\n",
      "600:\ttest: 0.7371715\tbest: 0.7371715 (600)\ttotal: 1m 23s\tremaining: 4m 6s\n",
      "900:\ttest: 0.7374782\tbest: 0.7374782 (898)\ttotal: 2m 7s\tremaining: 3m 27s\n",
      "1200:\ttest: 0.7375461\tbest: 0.7375647 (1144)\ttotal: 2m 53s\tremaining: 2m 47s\n",
      "1500:\ttest: 0.7375715\tbest: 0.7376060 (1333)\ttotal: 3m 44s\tremaining: 2m 9s\n"
     ]
    },
    {
     "name": "stderr",
     "output_type": "stream",
     "text": [
      "[I 2025-02-26 13:44:42,031] Trial 0 finished with value: 0.73760597858536 and parameters: {'iterations': 2366, 'depth': 10, 'learning_rate': 0.01181021951839225, 'l2_leaf_reg': 9.980783802743254}. Best is trial 0 with value: 0.73760597858536.\n"
     ]
    },
    {
     "name": "stdout",
     "output_type": "stream",
     "text": [
      "Stopped by overfitting detector  (300 iterations wait)\n",
      "\n",
      "bestTest = 0.7376059786\n",
      "bestIteration = 1333\n",
      "\n",
      "Shrink model to first 1334 iterations.\n",
      "저장 완료\n",
      "0:\ttest: 0.6941315\tbest: 0.6941315 (0)\ttotal: 61.5ms\tremaining: 2m 14s\n",
      "300:\ttest: 0.7302010\tbest: 0.7302204 (299)\ttotal: 13.4s\tremaining: 1m 24s\n",
      "600:\ttest: 0.7334403\tbest: 0.7334403 (600)\ttotal: 26.8s\tremaining: 1m 11s\n",
      "900:\ttest: 0.7348238\tbest: 0.7348238 (900)\ttotal: 40.5s\tremaining: 58s\n",
      "1200:\ttest: 0.7355525\tbest: 0.7355525 (1200)\ttotal: 54.4s\tremaining: 44.9s\n",
      "1500:\ttest: 0.7360538\tbest: 0.7360540 (1494)\ttotal: 1m 8s\tremaining: 31.6s\n",
      "1800:\ttest: 0.7363983\tbest: 0.7363983 (1800)\ttotal: 1m 23s\tremaining: 18.1s\n",
      "2100:\ttest: 0.7366926\tbest: 0.7366928 (2099)\ttotal: 1m 37s\tremaining: 4.28s\n"
     ]
    },
    {
     "name": "stderr",
     "output_type": "stream",
     "text": [
      "[I 2025-02-26 13:46:24,452] Trial 1 finished with value: 0.7368116544176475 and parameters: {'iterations': 2193, 'depth': 4, 'learning_rate': 0.005671430811678843, 'l2_leaf_reg': 0.00012325230809466137}. Best is trial 0 with value: 0.73760597858536.\n"
     ]
    },
    {
     "name": "stdout",
     "output_type": "stream",
     "text": [
      "2192:\ttest: 0.7368116\tbest: 0.7368117 (2190)\ttotal: 1m 42s\tremaining: 0us\n",
      "\n",
      "bestTest = 0.7368116544\n",
      "bestIteration = 2190\n",
      "\n",
      "Shrink model to first 2191 iterations.\n",
      "0:\ttest: 0.6941315\tbest: 0.6941315 (0)\ttotal: 56.8ms\tremaining: 2m 23s\n",
      "300:\ttest: 0.7378072\tbest: 0.7378927 (291)\ttotal: 14.5s\tremaining: 1m 47s\n"
     ]
    },
    {
     "name": "stderr",
     "output_type": "stream",
     "text": [
      "[I 2025-02-26 13:46:53,724] Trial 2 finished with value: 0.7378927281922979 and parameters: {'iterations': 2535, 'depth': 4, 'learning_rate': 0.09275339199839054, 'l2_leaf_reg': 0.0008705394248343123}. Best is trial 2 with value: 0.7378927281922979.\n"
     ]
    },
    {
     "name": "stdout",
     "output_type": "stream",
     "text": [
      "Stopped by overfitting detector  (300 iterations wait)\n",
      "\n",
      "bestTest = 0.7378927282\n",
      "bestIteration = 291\n",
      "\n",
      "Shrink model to first 292 iterations.\n",
      "저장 완료\n",
      "0:\ttest: 0.6941315\tbest: 0.6941315 (0)\ttotal: 53.8ms\tremaining: 2m 5s\n",
      "300:\ttest: 0.7368809\tbest: 0.7368809 (300)\ttotal: 13.9s\tremaining: 1m 34s\n",
      "600:\ttest: 0.7377646\tbest: 0.7377980 (587)\ttotal: 28.7s\tremaining: 1m 22s\n",
      "900:\ttest: 0.7378713\tbest: 0.7379121 (811)\ttotal: 44s\tremaining: 1m 9s\n",
      "1200:\ttest: 0.7376309\tbest: 0.7379405 (968)\ttotal: 59.3s\tremaining: 56s\n"
     ]
    },
    {
     "name": "stderr",
     "output_type": "stream",
     "text": [
      "[I 2025-02-26 13:47:56,723] Trial 3 finished with value: 0.7379405178080111 and parameters: {'iterations': 2334, 'depth': 4, 'learning_rate': 0.04657568321363276, 'l2_leaf_reg': 0.0008640473331457248}. Best is trial 3 with value: 0.7379405178080111.\n"
     ]
    },
    {
     "name": "stdout",
     "output_type": "stream",
     "text": [
      "Stopped by overfitting detector  (300 iterations wait)\n",
      "\n",
      "bestTest = 0.7379405178\n",
      "bestIteration = 968\n",
      "\n",
      "Shrink model to first 969 iterations.\n",
      "저장 완료\n",
      "0:\ttest: 0.7233665\tbest: 0.7233665 (0)\ttotal: 131ms\tremaining: 3m 48s\n",
      "300:\ttest: 0.7353550\tbest: 0.7353689 (278)\ttotal: 37.3s\tremaining: 2m 58s\n",
      "600:\ttest: 0.7353080\tbest: 0.7356476 (431)\ttotal: 1m 19s\tremaining: 2m 30s\n"
     ]
    },
    {
     "name": "stderr",
     "output_type": "stream",
     "text": [
      "[I 2025-02-26 13:49:34,812] Trial 4 finished with value: 0.735647593091789 and parameters: {'iterations': 1742, 'depth': 10, 'learning_rate': 0.012622767482095846, 'l2_leaf_reg': 0.00021158816350109617}. Best is trial 3 with value: 0.7379405178080111.\n"
     ]
    },
    {
     "name": "stdout",
     "output_type": "stream",
     "text": [
      "Stopped by overfitting detector  (300 iterations wait)\n",
      "\n",
      "bestTest = 0.7356475931\n",
      "bestIteration = 431\n",
      "\n",
      "Shrink model to first 432 iterations.\n",
      "0:\ttest: 0.6941315\tbest: 0.6941315 (0)\ttotal: 58.8ms\tremaining: 2m 2s\n",
      "300:\ttest: 0.7376003\tbest: 0.7376106 (298)\ttotal: 15s\tremaining: 1m 29s\n",
      "600:\ttest: 0.7380415\tbest: 0.7380432 (598)\ttotal: 30.4s\tremaining: 1m 15s\n"
     ]
    },
    {
     "name": "stderr",
     "output_type": "stream",
     "text": [
      "[I 2025-02-26 13:50:20,493] Trial 5 finished with value: 0.7380465762081843 and parameters: {'iterations': 2082, 'depth': 4, 'learning_rate': 0.06995196593094148, 'l2_leaf_reg': 0.0018080296485396804}. Best is trial 5 with value: 0.7380465762081843.\n"
     ]
    },
    {
     "name": "stdout",
     "output_type": "stream",
     "text": [
      "900:\ttest: 0.7375437\tbest: 0.7380466 (603)\ttotal: 45.3s\tremaining: 59.4s\n",
      "Stopped by overfitting detector  (300 iterations wait)\n",
      "\n",
      "bestTest = 0.7380465762\n",
      "bestIteration = 603\n",
      "\n",
      "Shrink model to first 604 iterations.\n",
      "저장 완료\n",
      "0:\ttest: 0.6966824\tbest: 0.6966824 (0)\ttotal: 68.3ms\tremaining: 2m 16s\n",
      "300:\ttest: 0.7375235\tbest: 0.7375545 (295)\ttotal: 17.5s\tremaining: 1m 38s\n",
      "600:\ttest: 0.7379531\tbest: 0.7380600 (516)\ttotal: 35.6s\tremaining: 1m 22s\n"
     ]
    },
    {
     "name": "stderr",
     "output_type": "stream",
     "text": [
      "[I 2025-02-26 13:51:09,377] Trial 6 finished with value: 0.7380600494251444 and parameters: {'iterations': 1997, 'depth': 5, 'learning_rate': 0.07985155992831598, 'l2_leaf_reg': 62.52181000710482}. Best is trial 6 with value: 0.7380600494251444.\n"
     ]
    },
    {
     "name": "stdout",
     "output_type": "stream",
     "text": [
      "Stopped by overfitting detector  (300 iterations wait)\n",
      "\n",
      "bestTest = 0.7380600494\n",
      "bestIteration = 516\n",
      "\n",
      "Shrink model to first 517 iterations.\n",
      "저장 완료\n",
      "0:\ttest: 0.7032364\tbest: 0.7032364 (0)\ttotal: 95.9ms\tremaining: 3m 4s\n",
      "300:\ttest: 0.7371219\tbest: 0.7376619 (221)\ttotal: 24.3s\tremaining: 2m 11s\n"
     ]
    },
    {
     "name": "stderr",
     "output_type": "stream",
     "text": [
      "[I 2025-02-26 13:51:52,375] Trial 7 finished with value: 0.7376618926342888 and parameters: {'iterations': 1927, 'depth': 7, 'learning_rate': 0.0941937211034094, 'l2_leaf_reg': 0.05654822767791934}. Best is trial 6 with value: 0.7380600494251444.\n"
     ]
    },
    {
     "name": "stdout",
     "output_type": "stream",
     "text": [
      "Stopped by overfitting detector  (300 iterations wait)\n",
      "\n",
      "bestTest = 0.7376618926\n",
      "bestIteration = 221\n",
      "\n",
      "Shrink model to first 222 iterations.\n",
      "0:\ttest: 0.7032361\tbest: 0.7032361 (0)\ttotal: 88.7ms\tremaining: 2m 48s\n",
      "300:\ttest: 0.7379790\tbest: 0.7379790 (300)\ttotal: 23.5s\tremaining: 2m 5s\n",
      "600:\ttest: 0.7377005\tbest: 0.7380435 (322)\ttotal: 48.9s\tremaining: 1m 45s\n"
     ]
    },
    {
     "name": "stderr",
     "output_type": "stream",
     "text": [
      "[I 2025-02-26 13:52:43,320] Trial 8 finished with value: 0.7380435424511087 and parameters: {'iterations': 1904, 'depth': 7, 'learning_rate': 0.05155602859187331, 'l2_leaf_reg': 1.299974533316308}. Best is trial 6 with value: 0.7380600494251444.\n"
     ]
    },
    {
     "name": "stdout",
     "output_type": "stream",
     "text": [
      "Stopped by overfitting detector  (300 iterations wait)\n",
      "\n",
      "bestTest = 0.7380435425\n",
      "bestIteration = 322\n",
      "\n",
      "Shrink model to first 323 iterations.\n",
      "0:\ttest: 0.7008419\tbest: 0.7008419 (0)\ttotal: 75.6ms\tremaining: 3m 19s\n",
      "300:\ttest: 0.7372700\tbest: 0.7372832 (298)\ttotal: 19.9s\tremaining: 2m 34s\n",
      "600:\ttest: 0.7380191\tbest: 0.7381090 (481)\ttotal: 41.5s\tremaining: 2m 20s\n"
     ]
    },
    {
     "name": "stderr",
     "output_type": "stream",
     "text": [
      "[I 2025-02-26 13:53:38,107] Trial 9 finished with value: 0.7381090104522938 and parameters: {'iterations': 2639, 'depth': 6, 'learning_rate': 0.03968704290444751, 'l2_leaf_reg': 0.30557194377967184}. Best is trial 9 with value: 0.7381090104522938.\n"
     ]
    },
    {
     "name": "stdout",
     "output_type": "stream",
     "text": [
      "Stopped by overfitting detector  (300 iterations wait)\n",
      "\n",
      "bestTest = 0.7381090105\n",
      "bestIteration = 481\n",
      "\n",
      "Shrink model to first 482 iterations.\n",
      "저장 완료\n",
      "0:\ttest: 0.7008419\tbest: 0.7008419 (0)\ttotal: 81.6ms\tremaining: 4m\n",
      "300:\ttest: 0.7370848\tbest: 0.7370881 (295)\ttotal: 19.7s\tremaining: 2m 52s\n",
      "600:\ttest: 0.7384064\tbest: 0.7384220 (599)\ttotal: 41.3s\tremaining: 2m 41s\n",
      "900:\ttest: 0.7382165\tbest: 0.7384573 (668)\ttotal: 1m 3s\tremaining: 2m 23s\n"
     ]
    },
    {
     "name": "stderr",
     "output_type": "stream",
     "text": [
      "[I 2025-02-26 13:54:46,592] Trial 10 finished with value: 0.7384572571741922 and parameters: {'iterations': 2945, 'depth': 6, 'learning_rate': 0.032580115422505045, 'l2_leaf_reg': 0.05588195113566891}. Best is trial 10 with value: 0.7384572571741922.\n"
     ]
    },
    {
     "name": "stdout",
     "output_type": "stream",
     "text": [
      "Stopped by overfitting detector  (300 iterations wait)\n",
      "\n",
      "bestTest = 0.7384572572\n",
      "bestIteration = 668\n",
      "\n",
      "Shrink model to first 669 iterations.\n",
      "저장 완료\n",
      "0:\ttest: 0.7008419\tbest: 0.7008419 (0)\ttotal: 74.9ms\tremaining: 3m 44s\n",
      "300:\ttest: 0.7369753\tbest: 0.7369778 (299)\ttotal: 19.9s\tremaining: 2m 58s\n",
      "600:\ttest: 0.7377758\tbest: 0.7379006 (507)\ttotal: 41.5s\tremaining: 2m 45s\n",
      "900:\ttest: 0.7377897\tbest: 0.7379550 (797)\ttotal: 1m 3s\tremaining: 2m 27s\n"
     ]
    },
    {
     "name": "stderr",
     "output_type": "stream",
     "text": [
      "[I 2025-02-26 13:56:04,408] Trial 11 finished with value: 0.7379549797756411 and parameters: {'iterations': 2996, 'depth': 6, 'learning_rate': 0.03250520130108762, 'l2_leaf_reg': 0.07022360666999101}. Best is trial 10 with value: 0.7384572571741922.\n"
     ]
    },
    {
     "name": "stdout",
     "output_type": "stream",
     "text": [
      "Stopped by overfitting detector  (300 iterations wait)\n",
      "\n",
      "bestTest = 0.7379549798\n",
      "bestIteration = 797\n",
      "\n",
      "Shrink model to first 798 iterations.\n",
      "0:\ttest: 0.7008419\tbest: 0.7008419 (0)\ttotal: 77.3ms\tremaining: 3m 42s\n",
      "300:\ttest: 0.7369761\tbest: 0.7369828 (299)\ttotal: 19.8s\tremaining: 2m 50s\n",
      "600:\ttest: 0.7380530\tbest: 0.7380784 (546)\ttotal: 41.2s\tremaining: 2m 36s\n",
      "900:\ttest: 0.7381792\tbest: 0.7381970 (893)\ttotal: 1m 2s\tremaining: 2m 18s\n",
      "1200:\ttest: 0.7380233\tbest: 0.7382238 (1063)\ttotal: 1m 24s\tremaining: 1m 58s\n"
     ]
    },
    {
     "name": "stderr",
     "output_type": "stream",
     "text": [
      "[I 2025-02-26 13:57:41,411] Trial 12 finished with value: 0.7382237650932988 and parameters: {'iterations': 2887, 'depth': 6, 'learning_rate': 0.03326204917552099, 'l2_leaf_reg': 0.5279524076347274}. Best is trial 10 with value: 0.7384572571741922.\n"
     ]
    },
    {
     "name": "stdout",
     "output_type": "stream",
     "text": [
      "Stopped by overfitting detector  (300 iterations wait)\n",
      "\n",
      "bestTest = 0.7382237651\n",
      "bestIteration = 1063\n",
      "\n",
      "Shrink model to first 1064 iterations.\n",
      "0:\ttest: 0.7178318\tbest: 0.7178318 (0)\ttotal: 99.7ms\tremaining: 4m 56s\n",
      "300:\ttest: 0.7369674\tbest: 0.7369674 (300)\ttotal: 25.7s\tremaining: 3m 48s\n",
      "600:\ttest: 0.7374568\tbest: 0.7375301 (562)\ttotal: 54s\tremaining: 3m 33s\n",
      "900:\ttest: 0.7373457\tbest: 0.7375438 (640)\ttotal: 1m 23s\tremaining: 3m 11s\n"
     ]
    },
    {
     "name": "stderr",
     "output_type": "stream",
     "text": [
      "[I 2025-02-26 13:59:08,665] Trial 13 finished with value: 0.7375437786235377 and parameters: {'iterations': 2975, 'depth': 8, 'learning_rate': 0.028817190324280706, 'l2_leaf_reg': 0.7663510419307658}. Best is trial 10 with value: 0.7384572571741922.\n"
     ]
    },
    {
     "name": "stdout",
     "output_type": "stream",
     "text": [
      "Stopped by overfitting detector  (300 iterations wait)\n",
      "\n",
      "bestTest = 0.7375437786\n",
      "bestIteration = 640\n",
      "\n",
      "Shrink model to first 641 iterations.\n",
      "0:\ttest: 0.7178277\tbest: 0.7178277 (0)\ttotal: 102ms\tremaining: 4m 40s\n",
      "300:\ttest: 0.7368530\tbest: 0.7368530 (300)\ttotal: 25.1s\tremaining: 3m 24s\n",
      "600:\ttest: 0.7375733\tbest: 0.7376215 (568)\ttotal: 51.3s\tremaining: 3m 3s\n",
      "900:\ttest: 0.7373526\tbest: 0.7376882 (645)\ttotal: 1m 20s\tremaining: 2m 44s\n"
     ]
    },
    {
     "name": "stderr",
     "output_type": "stream",
     "text": [
      "[I 2025-02-26 14:00:33,352] Trial 14 finished with value: 0.7376882394643891 and parameters: {'iterations': 2754, 'depth': 8, 'learning_rate': 0.02336380644096938, 'l2_leaf_reg': 0.0118311002022484}. Best is trial 10 with value: 0.7384572571741922.\n"
     ]
    },
    {
     "name": "stdout",
     "output_type": "stream",
     "text": [
      "Stopped by overfitting detector  (300 iterations wait)\n",
      "\n",
      "bestTest = 0.7376882395\n",
      "bestIteration = 645\n",
      "\n",
      "Shrink model to first 646 iterations.\n",
      "0:\ttest: 0.7008419\tbest: 0.7008419 (0)\ttotal: 73.2ms\tremaining: 3m 25s\n",
      "300:\ttest: 0.7370861\tbest: 0.7372228 (281)\ttotal: 21s\tremaining: 2m 54s\n",
      "600:\ttest: 0.7363867\tbest: 0.7373988 (370)\ttotal: 42.9s\tremaining: 2m 37s\n"
     ]
    },
    {
     "name": "stderr",
     "output_type": "stream",
     "text": [
      "[I 2025-02-26 14:01:21,622] Trial 15 finished with value: 0.7373987618586149 and parameters: {'iterations': 2805, 'depth': 6, 'learning_rate': 0.06551306515342563, 'l2_leaf_reg': 0.013098175508539221}. Best is trial 10 with value: 0.7384572571741922.\n"
     ]
    },
    {
     "name": "stdout",
     "output_type": "stream",
     "text": [
      "Stopped by overfitting detector  (300 iterations wait)\n",
      "\n",
      "bestTest = 0.7373987619\n",
      "bestIteration = 370\n",
      "\n",
      "Shrink model to first 371 iterations.\n",
      "0:\ttest: 0.7178467\tbest: 0.7178467 (0)\ttotal: 100ms\tremaining: 4m 14s\n",
      "300:\ttest: 0.7378901\tbest: 0.7380369 (260)\ttotal: 27.1s\tremaining: 3m 21s\n"
     ]
    },
    {
     "name": "stderr",
     "output_type": "stream",
     "text": [
      "[I 2025-02-26 14:02:14,281] Trial 16 finished with value: 0.73803688327491 and parameters: {'iterations': 2542, 'depth': 8, 'learning_rate': 0.061662991475729484, 'l2_leaf_reg': 2.313771052051698}. Best is trial 10 with value: 0.7384572571741922.\n"
     ]
    },
    {
     "name": "stdout",
     "output_type": "stream",
     "text": [
      "Stopped by overfitting detector  (300 iterations wait)\n",
      "\n",
      "bestTest = 0.7380368833\n",
      "bestIteration = 260\n",
      "\n",
      "Shrink model to first 261 iterations.\n",
      "0:\ttest: 0.6966608\tbest: 0.6966608 (0)\ttotal: 61.5ms\tremaining: 2m 53s\n",
      "300:\ttest: 0.7368580\tbest: 0.7368580 (300)\ttotal: 17.3s\tremaining: 2m 25s\n",
      "600:\ttest: 0.7377392\tbest: 0.7377449 (598)\ttotal: 36.6s\tremaining: 2m 15s\n",
      "900:\ttest: 0.7378155\tbest: 0.7378424 (847)\ttotal: 56.7s\tremaining: 2m 1s\n",
      "1200:\ttest: 0.7377492\tbest: 0.7378584 (954)\ttotal: 1m 16s\tremaining: 1m 43s\n"
     ]
    },
    {
     "name": "stderr",
     "output_type": "stream",
     "text": [
      "[I 2025-02-26 14:03:34,001] Trial 17 finished with value: 0.7378583879682274 and parameters: {'iterations': 2827, 'depth': 5, 'learning_rate': 0.040590312452871424, 'l2_leaf_reg': 11.320594454428646}. Best is trial 10 with value: 0.7384572571741922.\n"
     ]
    },
    {
     "name": "stdout",
     "output_type": "stream",
     "text": [
      "Stopped by overfitting detector  (300 iterations wait)\n",
      "\n",
      "bestTest = 0.737858388\n",
      "bestIteration = 954\n",
      "\n",
      "Shrink model to first 955 iterations.\n",
      "0:\ttest: 0.7032364\tbest: 0.7032364 (0)\ttotal: 92ms\tremaining: 2m 25s\n",
      "300:\ttest: 0.7366204\tbest: 0.7366204 (300)\ttotal: 22.7s\tremaining: 1m 36s\n",
      "600:\ttest: 0.7373351\tbest: 0.7374266 (569)\ttotal: 46.5s\tremaining: 1m 16s\n",
      "900:\ttest: 0.7377472\tbest: 0.7378475 (715)\ttotal: 1m 11s\tremaining: 54.6s\n"
     ]
    },
    {
     "name": "stderr",
     "output_type": "stream",
     "text": [
      "[I 2025-02-26 14:04:55,826] Trial 18 finished with value: 0.7378474640602235 and parameters: {'iterations': 1585, 'depth': 7, 'learning_rate': 0.021766760780812855, 'l2_leaf_reg': 0.01828833907500429}. Best is trial 10 with value: 0.7384572571741922.\n"
     ]
    },
    {
     "name": "stdout",
     "output_type": "stream",
     "text": [
      "Stopped by overfitting detector  (300 iterations wait)\n",
      "\n",
      "bestTest = 0.7378474641\n",
      "bestIteration = 715\n",
      "\n",
      "Shrink model to first 716 iterations.\n",
      "0:\ttest: 0.6966608\tbest: 0.6966608 (0)\ttotal: 64ms\tremaining: 2m 38s\n",
      "300:\ttest: 0.7367137\tbest: 0.7367137 (300)\ttotal: 16.8s\tremaining: 2m 1s\n",
      "600:\ttest: 0.7379399\tbest: 0.7379408 (599)\ttotal: 35s\tremaining: 1m 49s\n",
      "900:\ttest: 0.7381542\tbest: 0.7382300 (824)\ttotal: 53.5s\tremaining: 1m 33s\n",
      "1200:\ttest: 0.7383668\tbest: 0.7383668 (1200)\ttotal: 1m 12s\tremaining: 1m 16s\n",
      "1500:\ttest: 0.7380739\tbest: 0.7383891 (1225)\ttotal: 1m 30s\tremaining: 59s\n"
     ]
    },
    {
     "name": "stderr",
     "output_type": "stream",
     "text": [
      "[I 2025-02-26 14:06:28,287] Trial 19 finished with value: 0.7383890611741708 and parameters: {'iterations': 2478, 'depth': 5, 'learning_rate': 0.032760769261710856, 'l2_leaf_reg': 0.37397112477808325}. Best is trial 10 with value: 0.7384572571741922.\n"
     ]
    },
    {
     "name": "stdout",
     "output_type": "stream",
     "text": [
      "Stopped by overfitting detector  (300 iterations wait)\n",
      "\n",
      "bestTest = 0.7383890612\n",
      "bestIteration = 1225\n",
      "\n",
      "Shrink model to first 1226 iterations.\n",
      "0:\ttest: 0.6966608\tbest: 0.6966608 (0)\ttotal: 63.6ms\tremaining: 2m 37s\n",
      "300:\ttest: 0.7376715\tbest: 0.7376715 (300)\ttotal: 21.2s\tremaining: 2m 33s\n",
      "600:\ttest: 0.7378568\tbest: 0.7380623 (423)\ttotal: 40.2s\tremaining: 2m 5s\n"
     ]
    },
    {
     "name": "stderr",
     "output_type": "stream",
     "text": [
      "[I 2025-02-26 14:07:16,688] Trial 20 finished with value: 0.738062324742951 and parameters: {'iterations': 2478, 'depth': 5, 'learning_rate': 0.05693324901414666, 'l2_leaf_reg': 0.21003675969746124}. Best is trial 10 with value: 0.7384572571741922.\n"
     ]
    },
    {
     "name": "stdout",
     "output_type": "stream",
     "text": [
      "Stopped by overfitting detector  (300 iterations wait)\n",
      "\n",
      "bestTest = 0.7380623247\n",
      "bestIteration = 423\n",
      "\n",
      "Shrink model to first 424 iterations.\n",
      "0:\ttest: 0.7008419\tbest: 0.7008419 (0)\ttotal: 79ms\tremaining: 3m 30s\n",
      "300:\ttest: 0.7373930\tbest: 0.7373930 (300)\ttotal: 19.4s\tremaining: 2m 32s\n",
      "600:\ttest: 0.7385664\tbest: 0.7385730 (598)\ttotal: 41.1s\tremaining: 2m 21s\n"
     ]
    },
    {
     "name": "stderr",
     "output_type": "stream",
     "text": [
      "[I 2025-02-26 14:08:20,581] Trial 21 finished with value: 0.7385730085076396 and parameters: {'iterations': 2666, 'depth': 6, 'learning_rate': 0.03215868181143305, 'l2_leaf_reg': 0.324159952907074}. Best is trial 21 with value: 0.7385730085076396.\n"
     ]
    },
    {
     "name": "stdout",
     "output_type": "stream",
     "text": [
      "Stopped by overfitting detector  (300 iterations wait)\n",
      "\n",
      "bestTest = 0.7385730085\n",
      "bestIteration = 598\n",
      "\n",
      "Shrink model to first 599 iterations.\n",
      "저장 완료\n",
      "0:\ttest: 0.6966608\tbest: 0.6966608 (0)\ttotal: 69.3ms\tremaining: 3m 4s\n",
      "300:\ttest: 0.7369880\tbest: 0.7369880 (300)\ttotal: 18.2s\tremaining: 2m 23s\n",
      "600:\ttest: 0.7379276\tbest: 0.7379276 (600)\ttotal: 37.4s\tremaining: 2m 8s\n",
      "900:\ttest: 0.7379095\tbest: 0.7379784 (844)\ttotal: 56.4s\tremaining: 1m 50s\n"
     ]
    },
    {
     "name": "stderr",
     "output_type": "stream",
     "text": [
      "[I 2025-02-26 14:09:32,606] Trial 22 finished with value: 0.737978384179049 and parameters: {'iterations': 2672, 'depth': 5, 'learning_rate': 0.04284885765738099, 'l2_leaf_reg': 4.583785490391327}. Best is trial 21 with value: 0.7385730085076396.\n"
     ]
    },
    {
     "name": "stdout",
     "output_type": "stream",
     "text": [
      "Stopped by overfitting detector  (300 iterations wait)\n",
      "\n",
      "bestTest = 0.7379783842\n",
      "bestIteration = 844\n",
      "\n",
      "Shrink model to first 845 iterations.\n",
      "0:\ttest: 0.7008419\tbest: 0.7008419 (0)\ttotal: 76.8ms\tremaining: 3m 26s\n",
      "300:\ttest: 0.7364269\tbest: 0.7364333 (296)\ttotal: 20.3s\tremaining: 2m 40s\n",
      "600:\ttest: 0.7374635\tbest: 0.7374779 (598)\ttotal: 41s\tremaining: 2m 21s\n",
      "900:\ttest: 0.7380693\tbest: 0.7380840 (860)\ttotal: 1m 3s\tremaining: 2m 5s\n"
     ]
    },
    {
     "name": "stderr",
     "output_type": "stream",
     "text": [
      "[I 2025-02-26 14:10:56,186] Trial 23 finished with value: 0.7380840137235098 and parameters: {'iterations': 2684, 'depth': 6, 'learning_rate': 0.022002806549225214, 'l2_leaf_reg': 0.11788316637344078}. Best is trial 21 with value: 0.7385730085076396.\n"
     ]
    },
    {
     "name": "stdout",
     "output_type": "stream",
     "text": [
      "Stopped by overfitting detector  (300 iterations wait)\n",
      "\n",
      "bestTest = 0.7380840137\n",
      "bestIteration = 860\n",
      "\n",
      "Shrink model to first 861 iterations.\n",
      "0:\ttest: 0.7032364\tbest: 0.7032364 (0)\ttotal: 88.8ms\tremaining: 3m 34s\n",
      "300:\ttest: 0.7368396\tbest: 0.7368396 (300)\ttotal: 22.6s\tremaining: 2m 38s\n",
      "600:\ttest: 0.7375719\tbest: 0.7376137 (472)\ttotal: 48.2s\tremaining: 2m 25s\n"
     ]
    },
    {
     "name": "stderr",
     "output_type": "stream",
     "text": [
      "[I 2025-02-26 14:11:59,724] Trial 24 finished with value: 0.7376137138717256 and parameters: {'iterations': 2411, 'depth': 7, 'learning_rate': 0.0359569055274568, 'l2_leaf_reg': 0.03371429918046341}. Best is trial 21 with value: 0.7385730085076396.\n"
     ]
    },
    {
     "name": "stdout",
     "output_type": "stream",
     "text": [
      "Stopped by overfitting detector  (300 iterations wait)\n",
      "\n",
      "bestTest = 0.7376137139\n",
      "bestIteration = 472\n",
      "\n",
      "Shrink model to first 473 iterations.\n",
      "0:\ttest: 0.6966608\tbest: 0.6966608 (0)\ttotal: 64.1ms\tremaining: 2m 20s\n",
      "300:\ttest: 0.7375478\tbest: 0.7375478 (300)\ttotal: 18.2s\tremaining: 1m 54s\n",
      "600:\ttest: 0.7378090\tbest: 0.7380156 (452)\ttotal: 37.7s\tremaining: 1m 40s\n"
     ]
    },
    {
     "name": "stderr",
     "output_type": "stream",
     "text": [
      "[I 2025-02-26 14:12:46,806] Trial 25 finished with value: 0.7380156231500634 and parameters: {'iterations': 2199, 'depth': 5, 'learning_rate': 0.04912356511330111, 'l2_leaf_reg': 0.007753530372492313}. Best is trial 21 with value: 0.7385730085076396.\n"
     ]
    },
    {
     "name": "stdout",
     "output_type": "stream",
     "text": [
      "Stopped by overfitting detector  (300 iterations wait)\n",
      "\n",
      "bestTest = 0.7380156232\n",
      "bestIteration = 452\n",
      "\n",
      "Shrink model to first 453 iterations.\n",
      "0:\ttest: 0.7233913\tbest: 0.7233913 (0)\ttotal: 114ms\tremaining: 4m 55s\n",
      "300:\ttest: 0.7367054\tbest: 0.7367141 (299)\ttotal: 30.3s\tremaining: 3m 50s\n",
      "600:\ttest: 0.7369119\tbest: 0.7369915 (539)\ttotal: 1m 2s\tremaining: 3m 27s\n",
      "900:\ttest: 0.7364267\tbest: 0.7370458 (622)\ttotal: 1m 38s\tremaining: 3m 4s\n"
     ]
    },
    {
     "name": "stderr",
     "output_type": "stream",
     "text": [
      "[I 2025-02-26 14:14:27,933] Trial 26 finished with value: 0.7370458136074265 and parameters: {'iterations': 2592, 'depth': 9, 'learning_rate': 0.027390475234676945, 'l2_leaf_reg': 0.15126037808875623}. Best is trial 21 with value: 0.7385730085076396.\n"
     ]
    },
    {
     "name": "stdout",
     "output_type": "stream",
     "text": [
      "Stopped by overfitting detector  (300 iterations wait)\n",
      "\n",
      "bestTest = 0.7370458136\n",
      "bestIteration = 622\n",
      "\n",
      "Shrink model to first 623 iterations.\n",
      "0:\ttest: 0.7008419\tbest: 0.7008419 (0)\ttotal: 82.4ms\tremaining: 3m 57s\n",
      "300:\ttest: 0.7359482\tbest: 0.7359482 (300)\ttotal: 19.3s\tremaining: 2m 45s\n",
      "600:\ttest: 0.7372423\tbest: 0.7372423 (600)\ttotal: 39.6s\tremaining: 2m 30s\n",
      "900:\ttest: 0.7378112\tbest: 0.7378185 (895)\ttotal: 1m 1s\tremaining: 2m 15s\n",
      "1200:\ttest: 0.7382252\tbest: 0.7382252 (1200)\ttotal: 1m 23s\tremaining: 1m 57s\n",
      "1500:\ttest: 0.7382965\tbest: 0.7382998 (1495)\ttotal: 1m 46s\tremaining: 1m 37s\n",
      "1800:\ttest: 0.7383334\tbest: 0.7383802 (1719)\ttotal: 2m 8s\tremaining: 1m 17s\n"
     ]
    },
    {
     "name": "stderr",
     "output_type": "stream",
     "text": [
      "[I 2025-02-26 14:16:52,918] Trial 27 finished with value: 0.7383801624181414 and parameters: {'iterations': 2884, 'depth': 6, 'learning_rate': 0.015031205029540619, 'l2_leaf_reg': 0.5380144462016555}. Best is trial 21 with value: 0.7385730085076396.\n"
     ]
    },
    {
     "name": "stdout",
     "output_type": "stream",
     "text": [
      "Stopped by overfitting detector  (300 iterations wait)\n",
      "\n",
      "bestTest = 0.7383801624\n",
      "bestIteration = 1719\n",
      "\n",
      "Shrink model to first 1720 iterations.\n",
      "0:\ttest: 0.6966608\tbest: 0.6966608 (0)\ttotal: 69.8ms\tremaining: 3m 10s\n",
      "300:\ttest: 0.7354610\tbest: 0.7354610 (300)\ttotal: 16.6s\tremaining: 2m 13s\n",
      "600:\ttest: 0.7367824\tbest: 0.7367824 (600)\ttotal: 33.8s\tremaining: 1m 59s\n",
      "900:\ttest: 0.7376895\tbest: 0.7376895 (900)\ttotal: 52.1s\tremaining: 1m 45s\n",
      "1200:\ttest: 0.7379285\tbest: 0.7379424 (1148)\ttotal: 1m 11s\tremaining: 1m 30s\n",
      "1500:\ttest: 0.7380762\tbest: 0.7380813 (1481)\ttotal: 1m 29s\tremaining: 1m 13s\n",
      "1800:\ttest: 0.7381593\tbest: 0.7381663 (1755)\ttotal: 1m 48s\tremaining: 55.9s\n",
      "2100:\ttest: 0.7382541\tbest: 0.7383024 (2028)\ttotal: 2m 6s\tremaining: 38.1s\n"
     ]
    },
    {
     "name": "stderr",
     "output_type": "stream",
     "text": [
      "[I 2025-02-26 14:19:14,493] Trial 28 finished with value: 0.7383024362911808 and parameters: {'iterations': 2731, 'depth': 5, 'learning_rate': 0.017171093035862325, 'l2_leaf_reg': 1.9895101967496058}. Best is trial 21 with value: 0.7385730085076396.\n"
     ]
    },
    {
     "name": "stdout",
     "output_type": "stream",
     "text": [
      "Stopped by overfitting detector  (300 iterations wait)\n",
      "\n",
      "bestTest = 0.7383024363\n",
      "bestIteration = 2028\n",
      "\n",
      "Shrink model to first 2029 iterations.\n",
      "0:\ttest: 0.7008419\tbest: 0.7008419 (0)\ttotal: 77.1ms\tremaining: 3m 12s\n",
      "300:\ttest: 0.7379137\tbest: 0.7379137 (300)\ttotal: 20.5s\tremaining: 2m 29s\n",
      "600:\ttest: 0.7376763\tbest: 0.7380587 (352)\ttotal: 42.9s\tremaining: 2m 15s\n"
     ]
    },
    {
     "name": "stderr",
     "output_type": "stream",
     "text": [
      "[I 2025-02-26 14:20:01,489] Trial 29 finished with value: 0.7380586715276244 and parameters: {'iterations': 2494, 'depth': 6, 'learning_rate': 0.05636450890404827, 'l2_leaf_reg': 0.004330832058381636}. Best is trial 21 with value: 0.7385730085076396.\n"
     ]
    },
    {
     "name": "stdout",
     "output_type": "stream",
     "text": [
      "Stopped by overfitting detector  (300 iterations wait)\n",
      "\n",
      "bestTest = 0.7380586715\n",
      "bestIteration = 352\n",
      "\n",
      "Shrink model to first 353 iterations.\n",
      "0:\ttest: 0.6966608\tbest: 0.6966608 (0)\ttotal: 67ms\tremaining: 2m 34s\n",
      "300:\ttest: 0.7324993\tbest: 0.7324993 (300)\ttotal: 16.9s\tremaining: 1m 52s\n",
      "600:\ttest: 0.7348709\tbest: 0.7348709 (600)\ttotal: 34.2s\tremaining: 1m 37s\n",
      "900:\ttest: 0.7359027\tbest: 0.7359027 (900)\ttotal: 52s\tremaining: 1m 21s\n",
      "1200:\ttest: 0.7364751\tbest: 0.7364751 (1200)\ttotal: 1m 9s\tremaining: 1m 4s\n",
      "1500:\ttest: 0.7368593\tbest: 0.7368593 (1500)\ttotal: 1m 28s\tremaining: 47.9s\n",
      "1800:\ttest: 0.7371620\tbest: 0.7371633 (1797)\ttotal: 1m 47s\tremaining: 30.3s\n",
      "2100:\ttest: 0.7375086\tbest: 0.7375087 (2099)\ttotal: 2m 7s\tremaining: 12.6s\n"
     ]
    },
    {
     "name": "stderr",
     "output_type": "stream",
     "text": [
      "[I 2025-02-26 14:22:22,326] Trial 30 finished with value: 0.737697432065999 and parameters: {'iterations': 2309, 'depth': 5, 'learning_rate': 0.00674111174853027, 'l2_leaf_reg': 14.657832077996389}. Best is trial 21 with value: 0.7385730085076396.\n"
     ]
    },
    {
     "name": "stdout",
     "output_type": "stream",
     "text": [
      "2308:\ttest: 0.7376974\tbest: 0.7376974 (2308)\ttotal: 2m 20s\tremaining: 0us\n",
      "\n",
      "bestTest = 0.7376974321\n",
      "bestIteration = 2308\n",
      "\n",
      "0:\ttest: 0.7008419\tbest: 0.7008419 (0)\ttotal: 79ms\tremaining: 3m 43s\n",
      "300:\ttest: 0.7358001\tbest: 0.7358001 (300)\ttotal: 20.8s\tremaining: 2m 55s\n",
      "600:\ttest: 0.7370717\tbest: 0.7370717 (600)\ttotal: 42.3s\tremaining: 2m 37s\n",
      "900:\ttest: 0.7377144\tbest: 0.7377144 (900)\ttotal: 1m 5s\tremaining: 2m 20s\n",
      "1200:\ttest: 0.7382376\tbest: 0.7382475 (1196)\ttotal: 1m 30s\tremaining: 2m 2s\n",
      "1500:\ttest: 0.7384129\tbest: 0.7384188 (1498)\ttotal: 1m 54s\tremaining: 1m 42s\n",
      "1800:\ttest: 0.7384134\tbest: 0.7384252 (1772)\ttotal: 2m 18s\tremaining: 1m 19s\n",
      "2100:\ttest: 0.7383463\tbest: 0.7384340 (1841)\ttotal: 2m 42s\tremaining: 56.8s\n"
     ]
    },
    {
     "name": "stderr",
     "output_type": "stream",
     "text": [
      "[I 2025-02-26 14:25:08,263] Trial 31 finished with value: 0.7384339957226884 and parameters: {'iterations': 2836, 'depth': 6, 'learning_rate': 0.015395615407750834, 'l2_leaf_reg': 0.48864339559321507}. Best is trial 21 with value: 0.7385730085076396.\n"
     ]
    },
    {
     "name": "stdout",
     "output_type": "stream",
     "text": [
      "Stopped by overfitting detector  (300 iterations wait)\n",
      "\n",
      "bestTest = 0.7384339957\n",
      "bestIteration = 1841\n",
      "\n",
      "Shrink model to first 1842 iterations.\n",
      "0:\ttest: 0.7032364\tbest: 0.7032364 (0)\ttotal: 96ms\tremaining: 4m 38s\n",
      "300:\ttest: 0.7367582\tbest: 0.7367820 (273)\ttotal: 23.8s\tremaining: 3m 25s\n",
      "600:\ttest: 0.7379944\tbest: 0.7379944 (600)\ttotal: 49s\tremaining: 3m 7s\n",
      "900:\ttest: 0.7378943\tbest: 0.7380565 (617)\ttotal: 1m 16s\tremaining: 2m 49s\n"
     ]
    },
    {
     "name": "stderr",
     "output_type": "stream",
     "text": [
      "[I 2025-02-26 14:26:26,241] Trial 32 finished with value: 0.7380565073946319 and parameters: {'iterations': 2902, 'depth': 7, 'learning_rate': 0.027214863293017734, 'l2_leaf_reg': 0.03335149641548482}. Best is trial 21 with value: 0.7385730085076396.\n"
     ]
    },
    {
     "name": "stdout",
     "output_type": "stream",
     "text": [
      "Stopped by overfitting detector  (300 iterations wait)\n",
      "\n",
      "bestTest = 0.7380565074\n",
      "bestIteration = 617\n",
      "\n",
      "Shrink model to first 618 iterations.\n",
      "0:\ttest: 0.7008419\tbest: 0.7008419 (0)\ttotal: 76ms\tremaining: 3m 33s\n",
      "300:\ttest: 0.7334433\tbest: 0.7334433 (300)\ttotal: 19.9s\tremaining: 2m 45s\n",
      "600:\ttest: 0.7354850\tbest: 0.7354850 (600)\ttotal: 40.5s\tremaining: 2m 28s\n",
      "900:\ttest: 0.7364294\tbest: 0.7364328 (899)\ttotal: 1m 1s\tremaining: 2m 10s\n",
      "1200:\ttest: 0.7369369\tbest: 0.7369369 (1199)\ttotal: 1m 22s\tremaining: 1m 50s\n",
      "1500:\ttest: 0.7372537\tbest: 0.7372537 (1500)\ttotal: 1m 44s\tremaining: 1m 30s\n",
      "1800:\ttest: 0.7375389\tbest: 0.7375389 (1800)\ttotal: 2m 5s\tremaining: 1m 10s\n",
      "2100:\ttest: 0.7377957\tbest: 0.7378011 (2093)\ttotal: 2m 27s\tremaining: 49.7s\n",
      "2400:\ttest: 0.7380423\tbest: 0.7380534 (2392)\ttotal: 2m 50s\tremaining: 28.9s\n",
      "2700:\ttest: 0.7381038\tbest: 0.7381038 (2700)\ttotal: 3m 14s\tremaining: 7.63s\n"
     ]
    },
    {
     "name": "stderr",
     "output_type": "stream",
     "text": [
      "[I 2025-02-26 14:29:49,804] Trial 33 finished with value: 0.7381106623409632 and parameters: {'iterations': 2807, 'depth': 6, 'learning_rate': 0.006677100353692286, 'l2_leaf_reg': 0.2792874919168532}. Best is trial 21 with value: 0.7385730085076396.\n"
     ]
    },
    {
     "name": "stdout",
     "output_type": "stream",
     "text": [
      "2806:\ttest: 0.7380898\tbest: 0.7381107 (2751)\ttotal: 3m 23s\tremaining: 0us\n",
      "\n",
      "bestTest = 0.7381106623\n",
      "bestIteration = 2751\n",
      "\n",
      "Shrink model to first 2752 iterations.\n",
      "0:\ttest: 0.6941315\tbest: 0.6941315 (0)\ttotal: 54ms\tremaining: 2m 10s\n",
      "300:\ttest: 0.7347696\tbest: 0.7347696 (300)\ttotal: 13.8s\tremaining: 1m 37s\n",
      "600:\ttest: 0.7363272\tbest: 0.7363272 (600)\ttotal: 28.4s\tremaining: 1m 25s\n",
      "900:\ttest: 0.7372973\tbest: 0.7372973 (900)\ttotal: 43.8s\tremaining: 1m 13s\n",
      "1200:\ttest: 0.7376986\tbest: 0.7376986 (1200)\ttotal: 59.4s\tremaining: 1m\n",
      "1500:\ttest: 0.7379195\tbest: 0.7379235 (1490)\ttotal: 1m 15s\tremaining: 45.9s\n",
      "1800:\ttest: 0.7380300\tbest: 0.7380316 (1724)\ttotal: 1m 31s\tremaining: 31s\n",
      "2100:\ttest: 0.7380645\tbest: 0.7380824 (1975)\ttotal: 1m 46s\tremaining: 15.9s\n",
      "2400:\ttest: 0.7381728\tbest: 0.7381857 (2358)\ttotal: 2m 2s\tremaining: 663ms\n"
     ]
    },
    {
     "name": "stderr",
     "output_type": "stream",
     "text": [
      "[I 2025-02-26 14:31:53,420] Trial 34 finished with value: 0.7381857279741533 and parameters: {'iterations': 2414, 'depth': 4, 'learning_rate': 0.017079804505085266, 'l2_leaf_reg': 5.4405716382292715}. Best is trial 21 with value: 0.7385730085076396.\n"
     ]
    },
    {
     "name": "stdout",
     "output_type": "stream",
     "text": [
      "2413:\ttest: 0.7381816\tbest: 0.7381857 (2358)\ttotal: 2m 3s\tremaining: 0us\n",
      "\n",
      "bestTest = 0.738185728\n",
      "bestIteration = 2358\n",
      "\n",
      "Shrink model to first 2359 iterations.\n",
      "0:\ttest: 0.7032363\tbest: 0.7032363 (0)\ttotal: 106ms\tremaining: 4m 33s\n",
      "300:\ttest: 0.7377188\tbest: 0.7377188 (300)\ttotal: 24.1s\tremaining: 3m 3s\n",
      "600:\ttest: 0.7382166\tbest: 0.7383597 (512)\ttotal: 51.8s\tremaining: 2m 50s\n"
     ]
    },
    {
     "name": "stderr",
     "output_type": "stream",
     "text": [
      "[I 2025-02-26 14:33:04,268] Trial 35 finished with value: 0.738359700441426 and parameters: {'iterations': 2586, 'depth': 7, 'learning_rate': 0.045056189673782235, 'l2_leaf_reg': 0.8680164062056962}. Best is trial 21 with value: 0.7385730085076396.\n"
     ]
    },
    {
     "name": "stdout",
     "output_type": "stream",
     "text": [
      "Stopped by overfitting detector  (300 iterations wait)\n",
      "\n",
      "bestTest = 0.7383597004\n",
      "bestIteration = 512\n",
      "\n",
      "Shrink model to first 513 iterations.\n",
      "0:\ttest: 0.6941315\tbest: 0.6941315 (0)\ttotal: 69.8ms\tremaining: 3m 11s\n",
      "300:\ttest: 0.7365451\tbest: 0.7365498 (299)\ttotal: 14.5s\tremaining: 1m 57s\n",
      "600:\ttest: 0.7377984\tbest: 0.7377984 (600)\ttotal: 29.4s\tremaining: 1m 44s\n",
      "900:\ttest: 0.7380462\tbest: 0.7380462 (900)\ttotal: 45s\tremaining: 1m 31s\n",
      "1200:\ttest: 0.7380489\tbest: 0.7381457 (991)\ttotal: 1m\tremaining: 1m 17s\n"
     ]
    },
    {
     "name": "stderr",
     "output_type": "stream",
     "text": [
      "[I 2025-02-26 14:34:10,007] Trial 36 finished with value: 0.7381456776156918 and parameters: {'iterations': 2743, 'depth': 4, 'learning_rate': 0.03583926152007015, 'l2_leaf_reg': 0.08057115757315617}. Best is trial 21 with value: 0.7385730085076396.\n"
     ]
    },
    {
     "name": "stdout",
     "output_type": "stream",
     "text": [
      "Stopped by overfitting detector  (300 iterations wait)\n",
      "\n",
      "bestTest = 0.7381456776\n",
      "bestIteration = 991\n",
      "\n",
      "Shrink model to first 992 iterations.\n",
      "0:\ttest: 0.6966608\tbest: 0.6966608 (0)\ttotal: 67.8ms\tremaining: 3m 17s\n",
      "300:\ttest: 0.7347818\tbest: 0.7347818 (300)\ttotal: 16.5s\tremaining: 2m 22s\n",
      "600:\ttest: 0.7364164\tbest: 0.7364164 (600)\ttotal: 33.8s\tremaining: 2m 9s\n",
      "900:\ttest: 0.7371247\tbest: 0.7371255 (899)\ttotal: 52.1s\tremaining: 1m 56s\n",
      "1200:\ttest: 0.7377836\tbest: 0.7377836 (1200)\ttotal: 1m 10s\tremaining: 1m 40s\n",
      "1500:\ttest: 0.7380073\tbest: 0.7380073 (1500)\ttotal: 1m 29s\tremaining: 1m 24s\n",
      "1800:\ttest: 0.7381704\tbest: 0.7381761 (1791)\ttotal: 1m 48s\tremaining: 1m 6s\n",
      "2100:\ttest: 0.7382470\tbest: 0.7382580 (2039)\ttotal: 2m 6s\tremaining: 48.9s\n",
      "2400:\ttest: 0.7383062\tbest: 0.7383192 (2331)\ttotal: 2m 25s\tremaining: 31s\n",
      "2700:\ttest: 0.7382966\tbest: 0.7383213 (2492)\ttotal: 2m 44s\tremaining: 12.9s\n"
     ]
    },
    {
     "name": "stderr",
     "output_type": "stream",
     "text": [
      "[I 2025-02-26 14:37:00,218] Trial 37 finished with value: 0.7383212543209993 and parameters: {'iterations': 2913, 'depth': 5, 'learning_rate': 0.01254269808498329, 'l2_leaf_reg': 0.33109201498570623}. Best is trial 21 with value: 0.7385730085076396.\n"
     ]
    },
    {
     "name": "stdout",
     "output_type": "stream",
     "text": [
      "Stopped by overfitting detector  (300 iterations wait)\n",
      "\n",
      "bestTest = 0.7383212543\n",
      "bestIteration = 2492\n",
      "\n",
      "Shrink model to first 2493 iterations.\n",
      "0:\ttest: 0.7008606\tbest: 0.7008606 (0)\ttotal: 76.9ms\tremaining: 2m 56s\n",
      "300:\ttest: 0.7380209\tbest: 0.7380219 (299)\ttotal: 20.8s\tremaining: 2m 18s\n",
      "600:\ttest: 0.7381855\tbest: 0.7381976 (569)\ttotal: 42.8s\tremaining: 2m 1s\n",
      "900:\ttest: 0.7380629\tbest: 0.7382808 (752)\ttotal: 1m 4s\tremaining: 1m 40s\n"
     ]
    },
    {
     "name": "stderr",
     "output_type": "stream",
     "text": [
      "[I 2025-02-26 14:38:16,433] Trial 38 finished with value: 0.7382807751068255 and parameters: {'iterations': 2302, 'depth': 6, 'learning_rate': 0.08029122983652683, 'l2_leaf_reg': 22.47006471594464}. Best is trial 21 with value: 0.7385730085076396.\n"
     ]
    },
    {
     "name": "stdout",
     "output_type": "stream",
     "text": [
      "Stopped by overfitting detector  (300 iterations wait)\n",
      "\n",
      "bestTest = 0.7382807751\n",
      "bestIteration = 752\n",
      "\n",
      "Shrink model to first 753 iterations.\n",
      "0:\ttest: 0.6941315\tbest: 0.6941315 (0)\ttotal: 57.3ms\tremaining: 2m\n",
      "300:\ttest: 0.7352672\tbest: 0.7352672 (300)\ttotal: 13.5s\tremaining: 1m 21s\n",
      "600:\ttest: 0.7368766\tbest: 0.7368766 (600)\ttotal: 27.8s\tremaining: 1m 9s\n",
      "900:\ttest: 0.7377035\tbest: 0.7377075 (893)\ttotal: 42.8s\tremaining: 57.5s\n",
      "1200:\ttest: 0.7378960\tbest: 0.7378985 (1181)\ttotal: 57.7s\tremaining: 43.7s\n",
      "1500:\ttest: 0.7379906\tbest: 0.7379954 (1326)\ttotal: 1m 12s\tremaining: 29.6s\n",
      "1800:\ttest: 0.7379999\tbest: 0.7380189 (1520)\ttotal: 1m 27s\tremaining: 15.1s\n"
     ]
    },
    {
     "name": "stderr",
     "output_type": "stream",
     "text": [
      "[I 2025-02-26 14:39:45,589] Trial 39 finished with value: 0.7380188911894263 and parameters: {'iterations': 2111, 'depth': 4, 'learning_rate': 0.021340549320704588, 'l2_leaf_reg': 0.034627916159324285}. Best is trial 21 with value: 0.7385730085076396.\n",
      "[I 2025-02-26 14:39:45,592] A new study created in memory with name: no-name-f67521a7-26fd-4a43-9eeb-8a2677053712\n"
     ]
    },
    {
     "name": "stdout",
     "output_type": "stream",
     "text": [
      "Stopped by overfitting detector  (300 iterations wait)\n",
      "\n",
      "bestTest = 0.7380188912\n",
      "bestIteration = 1520\n",
      "\n",
      "Shrink model to first 1521 iterations.\n"
     ]
    },
    {
     "name": "stderr",
     "output_type": "stream",
     "text": [
      "[I 2025-02-26 14:40:08,797] Trial 0 finished with value: 0.7288175099500085 and parameters: {'num_iterations': 2366, 'objective': 'binary', 'metric': 'auc', 'verbose': -1, 'learning_rate': 0.0652646236447618, 'n_estimators': 236, 'min_child_samples': 45, 'subsample': 0.7, 'colsample_bytree': 0.5}. Best is trial 0 with value: 0.7288175099500085.\n",
      "[I 2025-02-26 14:40:25,810] Trial 1 finished with value: 0.7374078948969315 and parameters: {'num_iterations': 1510, 'objective': 'binary', 'metric': 'auc', 'verbose': -1, 'learning_rate': 0.005231880959249543, 'n_estimators': 1411, 'min_child_samples': 10, 'subsample': 1.0, 'colsample_bytree': 0.5}. Best is trial 1 with value: 0.7374078948969315.\n",
      "[I 2025-02-26 14:40:45,275] Trial 2 finished with value: 0.7366409499897376 and parameters: {'num_iterations': 2334, 'objective': 'binary', 'metric': 'auc', 'verbose': -1, 'learning_rate': 0.006578527777128852, 'n_estimators': 931, 'min_child_samples': 15, 'subsample': 0.5, 'colsample_bytree': 1.0}. Best is trial 1 with value: 0.7374078948969315.\n",
      "[I 2025-02-26 14:41:01,847] Trial 3 finished with value: 0.7374292344395026 and parameters: {'num_iterations': 1620, 'objective': 'binary', 'metric': 'auc', 'verbose': -1, 'learning_rate': 0.0058823249237283685, 'n_estimators': 837, 'min_child_samples': 10, 'subsample': 0.9, 'colsample_bytree': 0.6}. Best is trial 3 with value: 0.7374292344395026.\n",
      "[I 2025-02-26 14:41:18,181] Trial 4 finished with value: 0.7364919266006142 and parameters: {'num_iterations': 1997, 'objective': 'binary', 'metric': 'auc', 'verbose': -1, 'learning_rate': 0.010907507425244923, 'n_estimators': 1597, 'min_child_samples': 50, 'subsample': 0.6, 'colsample_bytree': 0.8}. Best is trial 3 with value: 0.7374292344395026.\n",
      "[I 2025-02-26 14:41:40,662] Trial 5 finished with value: 0.733798414911167 and parameters: {'num_iterations': 2909, 'objective': 'binary', 'metric': 'auc', 'verbose': -1, 'learning_rate': 0.019760591962733942, 'n_estimators': 612, 'min_child_samples': 30, 'subsample': 0.7, 'colsample_bytree': 0.9}. Best is trial 3 with value: 0.7374292344395026.\n",
      "[I 2025-02-26 14:42:01,239] Trial 6 finished with value: 0.7345573425990733 and parameters: {'num_iterations': 2639, 'objective': 'binary', 'metric': 'auc', 'verbose': -1, 'learning_rate': 0.017862094446750985, 'n_estimators': 794, 'min_child_samples': 35, 'subsample': 1.0, 'colsample_bytree': 0.8}. Best is trial 3 with value: 0.7374292344395026.\n",
      "[I 2025-02-26 14:42:17,772] Trial 7 finished with value: 0.737334183335944 and parameters: {'num_iterations': 1580, 'objective': 'binary', 'metric': 'auc', 'verbose': -1, 'learning_rate': 0.01776722177611332, 'n_estimators': 529, 'min_child_samples': 25, 'subsample': 0.8, 'colsample_bytree': 0.5}. Best is trial 3 with value: 0.7374292344395026.\n",
      "[I 2025-02-26 14:42:35,472] Trial 8 finished with value: 0.7346608953700388 and parameters: {'num_iterations': 1911, 'objective': 'binary', 'metric': 'auc', 'verbose': -1, 'learning_rate': 0.0304747553332844, 'n_estimators': 1328, 'min_child_samples': 10, 'subsample': 0.7, 'colsample_bytree': 0.6}. Best is trial 3 with value: 0.7374292344395026.\n",
      "[I 2025-02-26 14:43:02,873] Trial 9 finished with value: 0.7345512036089701 and parameters: {'num_iterations': 2739, 'objective': 'binary', 'metric': 'auc', 'verbose': -1, 'learning_rate': 0.02691531614176271, 'n_estimators': 1438, 'min_child_samples': 20, 'subsample': 0.6, 'colsample_bytree': 0.5}. Best is trial 3 with value: 0.7374292344395026.\n",
      "[I 2025-02-26 14:43:17,353] Trial 10 finished with value: 0.7273975051525425 and parameters: {'num_iterations': 1883, 'objective': 'binary', 'metric': 'auc', 'verbose': -1, 'learning_rate': 0.08223556891145911, 'n_estimators': 1917, 'min_child_samples': 40, 'subsample': 0.9, 'colsample_bytree': 0.7}. Best is trial 3 with value: 0.7374292344395026.\n",
      "[I 2025-02-26 14:43:32,967] Trial 11 finished with value: 0.7372962812269301 and parameters: {'num_iterations': 1513, 'objective': 'binary', 'metric': 'auc', 'verbose': -1, 'learning_rate': 0.005340229419903739, 'n_estimators': 1206, 'min_child_samples': 10, 'subsample': 1.0, 'colsample_bytree': 0.6}. Best is trial 3 with value: 0.7374292344395026.\n",
      "[I 2025-02-26 14:43:49,724] Trial 12 finished with value: 0.7374513959555221 and parameters: {'num_iterations': 1698, 'objective': 'binary', 'metric': 'auc', 'verbose': -1, 'learning_rate': 0.008515343845233947, 'n_estimators': 1719, 'min_child_samples': 20, 'subsample': 0.9, 'colsample_bytree': 0.6}. Best is trial 12 with value: 0.7374513959555221.\n",
      "[I 2025-02-26 14:44:04,883] Trial 13 finished with value: 0.7371763406085158 and parameters: {'num_iterations': 1785, 'objective': 'binary', 'metric': 'auc', 'verbose': -1, 'learning_rate': 0.010668787980411185, 'n_estimators': 2000, 'min_child_samples': 20, 'subsample': 0.9, 'colsample_bytree': 0.7}. Best is trial 12 with value: 0.7374513959555221.\n",
      "[I 2025-02-26 14:44:26,187] Trial 14 finished with value: 0.7376162472971369 and parameters: {'num_iterations': 2165, 'objective': 'binary', 'metric': 'auc', 'verbose': -1, 'learning_rate': 0.00865004642514095, 'n_estimators': 1729, 'min_child_samples': 20, 'subsample': 0.9, 'colsample_bytree': 0.6}. Best is trial 14 with value: 0.7376162472971369.\n",
      "[I 2025-02-26 14:44:44,275] Trial 15 finished with value: 0.7370147175974017 and parameters: {'num_iterations': 2148, 'objective': 'binary', 'metric': 'auc', 'verbose': -1, 'learning_rate': 0.009840002207772997, 'n_estimators': 1672, 'min_child_samples': 25, 'subsample': 0.8, 'colsample_bytree': 0.7}. Best is trial 14 with value: 0.7376162472971369.\n",
      "[I 2025-02-26 14:45:04,910] Trial 16 finished with value: 0.7375995060408139 and parameters: {'num_iterations': 2120, 'objective': 'binary', 'metric': 'auc', 'verbose': -1, 'learning_rate': 0.008167453404878535, 'n_estimators': 1738, 'min_child_samples': 20, 'subsample': 0.9, 'colsample_bytree': 0.6}. Best is trial 14 with value: 0.7376162472971369.\n",
      "[I 2025-02-26 14:45:25,414] Trial 17 finished with value: 0.7369342039083114 and parameters: {'num_iterations': 2171, 'objective': 'binary', 'metric': 'auc', 'verbose': -1, 'learning_rate': 0.014364323482076244, 'n_estimators': 1175, 'min_child_samples': 25, 'subsample': 0.8, 'colsample_bytree': 0.6}. Best is trial 14 with value: 0.7376162472971369.\n",
      "[I 2025-02-26 14:45:44,603] Trial 18 finished with value: 0.7311782454902883 and parameters: {'num_iterations': 2466, 'objective': 'binary', 'metric': 'auc', 'verbose': -1, 'learning_rate': 0.04185569593984521, 'n_estimators': 1796, 'min_child_samples': 30, 'subsample': 0.9, 'colsample_bytree': 0.7}. Best is trial 14 with value: 0.7376162472971369.\n",
      "[I 2025-02-26 14:46:02,012] Trial 19 finished with value: 0.736818329477391 and parameters: {'num_iterations': 2073, 'objective': 'binary', 'metric': 'auc', 'verbose': -1, 'learning_rate': 0.007682388032281339, 'n_estimators': 1528, 'min_child_samples': 15, 'subsample': 1.0, 'colsample_bytree': 0.8}. Best is trial 14 with value: 0.7376162472971369.\n",
      "[I 2025-02-26 14:46:21,810] Trial 20 finished with value: 0.735589892144059 and parameters: {'num_iterations': 2490, 'objective': 'binary', 'metric': 'auc', 'verbose': -1, 'learning_rate': 0.013345388280125412, 'n_estimators': 1801, 'min_child_samples': 30, 'subsample': 0.8, 'colsample_bytree': 0.9}. Best is trial 14 with value: 0.7376162472971369.\n",
      "[I 2025-02-26 14:46:39,417] Trial 21 finished with value: 0.7376210083897202 and parameters: {'num_iterations': 1778, 'objective': 'binary', 'metric': 'auc', 'verbose': -1, 'learning_rate': 0.008443571184544519, 'n_estimators': 1708, 'min_child_samples': 20, 'subsample': 0.9, 'colsample_bytree': 0.6}. Best is trial 21 with value: 0.7376210083897202.\n",
      "[I 2025-02-26 14:47:01,306] Trial 22 finished with value: 0.737549369631342 and parameters: {'num_iterations': 2255, 'objective': 'binary', 'metric': 'auc', 'verbose': -1, 'learning_rate': 0.007926744684252083, 'n_estimators': 1888, 'min_child_samples': 15, 'subsample': 0.9, 'colsample_bytree': 0.6}. Best is trial 21 with value: 0.7376210083897202.\n",
      "[I 2025-02-26 14:47:20,117] Trial 23 finished with value: 0.7375296105014884 and parameters: {'num_iterations': 1787, 'objective': 'binary', 'metric': 'auc', 'verbose': -1, 'learning_rate': 0.013263694209407763, 'n_estimators': 1577, 'min_child_samples': 20, 'subsample': 1.0, 'colsample_bytree': 0.5}. Best is trial 21 with value: 0.7376210083897202.\n",
      "[I 2025-02-26 14:47:37,259] Trial 24 finished with value: 0.7370266421687341 and parameters: {'num_iterations': 1982, 'objective': 'binary', 'metric': 'auc', 'verbose': -1, 'learning_rate': 0.007152490669603034, 'n_estimators': 1220, 'min_child_samples': 25, 'subsample': 0.8, 'colsample_bytree': 0.7}. Best is trial 21 with value: 0.7376210083897202.\n",
      "[I 2025-02-26 14:47:57,739] Trial 25 finished with value: 0.7372550396026013 and parameters: {'num_iterations': 2121, 'objective': 'binary', 'metric': 'auc', 'verbose': -1, 'learning_rate': 0.009668400078784433, 'n_estimators': 1712, 'min_child_samples': 15, 'subsample': 0.9, 'colsample_bytree': 0.6}. Best is trial 21 with value: 0.7376210083897202.\n",
      "[I 2025-02-26 14:48:18,870] Trial 26 finished with value: 0.7368101653353132 and parameters: {'num_iterations': 2245, 'objective': 'binary', 'metric': 'auc', 'verbose': -1, 'learning_rate': 0.014388360686092255, 'n_estimators': 1469, 'min_child_samples': 35, 'subsample': 0.9, 'colsample_bytree': 0.6}. Best is trial 21 with value: 0.7376210083897202.\n",
      "[I 2025-02-26 14:48:33,466] Trial 27 finished with value: 0.7355108079740097 and parameters: {'num_iterations': 1809, 'objective': 'binary', 'metric': 'auc', 'verbose': -1, 'learning_rate': 0.025332687459611307, 'n_estimators': 1052, 'min_child_samples': 20, 'subsample': 1.0, 'colsample_bytree': 0.7}. Best is trial 21 with value: 0.7376210083897202.\n",
      "[I 2025-02-26 14:48:54,065] Trial 28 finished with value: 0.7337458046395771 and parameters: {'num_iterations': 2048, 'objective': 'binary', 'metric': 'auc', 'verbose': -1, 'learning_rate': 0.03701657655197846, 'n_estimators': 1323, 'min_child_samples': 15, 'subsample': 0.8, 'colsample_bytree': 0.5}. Best is trial 21 with value: 0.7376210083897202.\n",
      "[I 2025-02-26 14:49:18,678] Trial 29 finished with value: 0.7372574539014259 and parameters: {'num_iterations': 2394, 'objective': 'binary', 'metric': 'auc', 'verbose': -1, 'learning_rate': 0.011782303854020609, 'n_estimators': 315, 'min_child_samples': 35, 'subsample': 0.7, 'colsample_bytree': 0.5}. Best is trial 21 with value: 0.7376210083897202.\n",
      "[I 2025-02-26 14:49:37,521] Trial 30 finished with value: 0.737610751590602 and parameters: {'num_iterations': 1883, 'objective': 'binary', 'metric': 'auc', 'verbose': -1, 'learning_rate': 0.0065120955408220415, 'n_estimators': 104, 'min_child_samples': 25, 'subsample': 0.9, 'colsample_bytree': 0.6}. Best is trial 21 with value: 0.7376210083897202.\n",
      "[I 2025-02-26 14:49:56,750] Trial 31 finished with value: 0.7375055906107156 and parameters: {'num_iterations': 1927, 'objective': 'binary', 'metric': 'auc', 'verbose': -1, 'learning_rate': 0.006415235082537637, 'n_estimators': 338, 'min_child_samples': 25, 'subsample': 0.9, 'colsample_bytree': 0.6}. Best is trial 21 with value: 0.7376210083897202.\n",
      "[I 2025-02-26 14:50:15,021] Trial 32 finished with value: 0.7375954120571163 and parameters: {'num_iterations': 1689, 'objective': 'binary', 'metric': 'auc', 'verbose': -1, 'learning_rate': 0.008732982823840036, 'n_estimators': 125, 'min_child_samples': 20, 'subsample': 1.0, 'colsample_bytree': 0.5}. Best is trial 21 with value: 0.7376210083897202.\n",
      "[I 2025-02-26 14:50:37,271] Trial 33 finished with value: 0.7374096420868703 and parameters: {'num_iterations': 2221, 'objective': 'binary', 'metric': 'auc', 'verbose': -1, 'learning_rate': 0.005137187973398611, 'n_estimators': 537, 'min_child_samples': 25, 'subsample': 0.9, 'colsample_bytree': 0.6}. Best is trial 21 with value: 0.7376210083897202.\n",
      "[I 2025-02-26 14:50:53,602] Trial 34 finished with value: 0.737104197547587 and parameters: {'num_iterations': 1867, 'objective': 'binary', 'metric': 'auc', 'verbose': -1, 'learning_rate': 0.0066338150074201, 'n_estimators': 1862, 'min_child_samples': 20, 'subsample': 0.8, 'colsample_bytree': 0.7}. Best is trial 21 with value: 0.7376210083897202.\n",
      "[I 2025-02-26 14:51:16,483] Trial 35 finished with value: 0.7375460618831169 and parameters: {'num_iterations': 2324, 'objective': 'binary', 'metric': 'auc', 'verbose': -1, 'learning_rate': 0.006257801903977072, 'n_estimators': 1635, 'min_child_samples': 15, 'subsample': 0.5, 'colsample_bytree': 0.6}. Best is trial 21 with value: 0.7376210083897202.\n",
      "[I 2025-02-26 14:51:36,457] Trial 36 finished with value: 0.730279248761695 and parameters: {'num_iterations': 2015, 'objective': 'binary', 'metric': 'auc', 'verbose': -1, 'learning_rate': 0.059584190102638795, 'n_estimators': 946, 'min_child_samples': 30, 'subsample': 0.9, 'colsample_bytree': 0.5}. Best is trial 21 with value: 0.7376210083897202.\n",
      "[I 2025-02-26 14:51:50,426] Trial 37 finished with value: 0.7365730200390932 and parameters: {'num_iterations': 1651, 'objective': 'binary', 'metric': 'auc', 'verbose': -1, 'learning_rate': 0.00909292064045229, 'n_estimators': 1527, 'min_child_samples': 10, 'subsample': 0.6, 'colsample_bytree': 1.0}. Best is trial 21 with value: 0.7376210083897202.\n",
      "[I 2025-02-26 14:52:04,807] Trial 38 finished with value: 0.7366820724874797 and parameters: {'num_iterations': 1742, 'objective': 'binary', 'metric': 'auc', 'verbose': -1, 'learning_rate': 0.011538682630762166, 'n_estimators': 1993, 'min_child_samples': 45, 'subsample': 1.0, 'colsample_bytree': 0.8}. Best is trial 21 with value: 0.7376210083897202.\n",
      "[I 2025-02-26 14:52:24,505] Trial 39 finished with value: 0.7374591788925223 and parameters: {'num_iterations': 1938, 'objective': 'binary', 'metric': 'auc', 'verbose': -1, 'learning_rate': 0.005031560231577549, 'n_estimators': 791, 'min_child_samples': 25, 'subsample': 0.8, 'colsample_bytree': 0.6}. Best is trial 21 with value: 0.7376210083897202.\n"
     ]
    },
    {
     "name": "stdout",
     "output_type": "stream",
     "text": [
      "Cat val score : 0.7385730085076396\n",
      "LGBM val score : 0.7375196713732681\n",
      "Ensemble val score : 0.7385618463464623\n"
     ]
    },
    {
     "name": "stderr",
     "output_type": "stream",
     "text": [
      "[I 2025-02-26 14:52:43,292] A new study created in memory with name: no-name-a7ddbb7e-a14b-4852-8a02-9d8dfa3ab8cf\n"
     ]
    },
    {
     "name": "stdout",
     "output_type": "stream",
     "text": [
      "==================================================\n",
      "0:\ttest: 0.7246026\tbest: 0.7246026 (0)\ttotal: 161ms\tremaining: 6m 19s\n",
      "300:\ttest: 0.7398237\tbest: 0.7398237 (300)\ttotal: 39.5s\tremaining: 4m 30s\n",
      "600:\ttest: 0.7408662\tbest: 0.7408662 (600)\ttotal: 1m 23s\tremaining: 4m 3s\n",
      "900:\ttest: 0.7410720\tbest: 0.7410959 (887)\ttotal: 2m 6s\tremaining: 3m 24s\n",
      "1200:\ttest: 0.7412313\tbest: 0.7412546 (1172)\ttotal: 2m 52s\tremaining: 2m 47s\n",
      "1500:\ttest: 0.7412309\tbest: 0.7413185 (1264)\ttotal: 3m 41s\tremaining: 2m 7s\n"
     ]
    },
    {
     "name": "stderr",
     "output_type": "stream",
     "text": [
      "[I 2025-02-26 14:56:35,813] Trial 0 finished with value: 0.7413185229230843 and parameters: {'iterations': 2366, 'depth': 10, 'learning_rate': 0.01181021951839225, 'l2_leaf_reg': 9.980783802743254}. Best is trial 0 with value: 0.7413185229230843.\n"
     ]
    },
    {
     "name": "stdout",
     "output_type": "stream",
     "text": [
      "Stopped by overfitting detector  (300 iterations wait)\n",
      "\n",
      "bestTest = 0.7413185229\n",
      "bestIteration = 1264\n",
      "\n",
      "Shrink model to first 1265 iterations.\n",
      "저장 완료\n",
      "0:\ttest: 0.6969357\tbest: 0.6969357 (0)\ttotal: 57.7ms\tremaining: 2m 6s\n",
      "300:\ttest: 0.7307515\tbest: 0.7307515 (300)\ttotal: 13.6s\tremaining: 1m 25s\n",
      "600:\ttest: 0.7354442\tbest: 0.7354442 (600)\ttotal: 27.2s\tremaining: 1m 12s\n",
      "900:\ttest: 0.7375785\tbest: 0.7375785 (900)\ttotal: 41.1s\tremaining: 58.9s\n",
      "1200:\ttest: 0.7386442\tbest: 0.7386442 (1200)\ttotal: 55.3s\tremaining: 45.6s\n",
      "1500:\ttest: 0.7392415\tbest: 0.7392422 (1499)\ttotal: 1m 9s\tremaining: 32.1s\n",
      "1800:\ttest: 0.7396817\tbest: 0.7396817 (1800)\ttotal: 1m 24s\tremaining: 18.3s\n",
      "2100:\ttest: 0.7400431\tbest: 0.7400431 (2098)\ttotal: 1m 38s\tremaining: 4.32s\n"
     ]
    },
    {
     "name": "stderr",
     "output_type": "stream",
     "text": [
      "[I 2025-02-26 14:58:19,390] Trial 1 finished with value: 0.7401160035641404 and parameters: {'iterations': 2193, 'depth': 4, 'learning_rate': 0.005671430811678843, 'l2_leaf_reg': 0.00012325230809466137}. Best is trial 0 with value: 0.7413185229230843.\n"
     ]
    },
    {
     "name": "stdout",
     "output_type": "stream",
     "text": [
      "2192:\ttest: 0.7401160\tbest: 0.7401160 (2192)\ttotal: 1m 43s\tremaining: 0us\n",
      "\n",
      "bestTest = 0.7401160036\n",
      "bestIteration = 2192\n",
      "\n",
      "0:\ttest: 0.6969357\tbest: 0.6969357 (0)\ttotal: 52.2ms\tremaining: 2m 12s\n",
      "300:\ttest: 0.7409203\tbest: 0.7411220 (209)\ttotal: 14.6s\tremaining: 1m 48s\n"
     ]
    },
    {
     "name": "stderr",
     "output_type": "stream",
     "text": [
      "[I 2025-02-26 14:58:44,663] Trial 2 finished with value: 0.7411220236182594 and parameters: {'iterations': 2535, 'depth': 4, 'learning_rate': 0.09275339199839054, 'l2_leaf_reg': 0.0008705394248343123}. Best is trial 0 with value: 0.7413185229230843.\n"
     ]
    },
    {
     "name": "stdout",
     "output_type": "stream",
     "text": [
      "Stopped by overfitting detector  (300 iterations wait)\n",
      "\n",
      "bestTest = 0.7411220236\n",
      "bestIteration = 209\n",
      "\n",
      "Shrink model to first 210 iterations.\n",
      "0:\ttest: 0.6969357\tbest: 0.6969357 (0)\ttotal: 55.9ms\tremaining: 2m 10s\n",
      "300:\ttest: 0.7403720\tbest: 0.7403720 (300)\ttotal: 14.2s\tremaining: 1m 36s\n",
      "600:\ttest: 0.7410912\tbest: 0.7410926 (594)\ttotal: 29.1s\tremaining: 1m 23s\n",
      "900:\ttest: 0.7412780\tbest: 0.7412970 (836)\ttotal: 44.3s\tremaining: 1m 10s\n",
      "1200:\ttest: 0.7411039\tbest: 0.7413158 (919)\ttotal: 59.4s\tremaining: 56s\n"
     ]
    },
    {
     "name": "stderr",
     "output_type": "stream",
     "text": [
      "[I 2025-02-26 14:59:45,194] Trial 3 finished with value: 0.7413157631571583 and parameters: {'iterations': 2334, 'depth': 4, 'learning_rate': 0.04657568321363276, 'l2_leaf_reg': 0.0008640473331457248}. Best is trial 0 with value: 0.7413185229230843.\n"
     ]
    },
    {
     "name": "stdout",
     "output_type": "stream",
     "text": [
      "Stopped by overfitting detector  (300 iterations wait)\n",
      "\n",
      "bestTest = 0.7413157632\n",
      "bestIteration = 919\n",
      "\n",
      "Shrink model to first 920 iterations.\n",
      "0:\ttest: 0.7246292\tbest: 0.7246292 (0)\ttotal: 140ms\tremaining: 4m 4s\n",
      "300:\ttest: 0.7392686\tbest: 0.7392707 (299)\ttotal: 39.2s\tremaining: 3m 7s\n",
      "600:\ttest: 0.7398598\tbest: 0.7398598 (600)\ttotal: 1m 20s\tremaining: 2m 32s\n",
      "900:\ttest: 0.7398211\tbest: 0.7399071 (608)\ttotal: 2m 2s\tremaining: 1m 54s\n"
     ]
    },
    {
     "name": "stderr",
     "output_type": "stream",
     "text": [
      "[I 2025-02-26 15:01:49,255] Trial 4 finished with value: 0.7399070912689774 and parameters: {'iterations': 1742, 'depth': 10, 'learning_rate': 0.012622767482095846, 'l2_leaf_reg': 0.00021158816350109617}. Best is trial 0 with value: 0.7413185229230843.\n"
     ]
    },
    {
     "name": "stdout",
     "output_type": "stream",
     "text": [
      "Stopped by overfitting detector  (300 iterations wait)\n",
      "\n",
      "bestTest = 0.7399070913\n",
      "bestIteration = 608\n",
      "\n",
      "Shrink model to first 609 iterations.\n",
      "0:\ttest: 0.6969357\tbest: 0.6969357 (0)\ttotal: 52.3ms\tremaining: 1m 48s\n",
      "300:\ttest: 0.7407421\tbest: 0.7408068 (291)\ttotal: 14.6s\tremaining: 1m 26s\n"
     ]
    },
    {
     "name": "stderr",
     "output_type": "stream",
     "text": [
      "[I 2025-02-26 15:02:18,620] Trial 5 finished with value: 0.7408068067279774 and parameters: {'iterations': 2082, 'depth': 4, 'learning_rate': 0.06995196593094148, 'l2_leaf_reg': 0.0018080296485396804}. Best is trial 0 with value: 0.7413185229230843.\n"
     ]
    },
    {
     "name": "stdout",
     "output_type": "stream",
     "text": [
      "Stopped by overfitting detector  (300 iterations wait)\n",
      "\n",
      "bestTest = 0.7408068067\n",
      "bestIteration = 291\n",
      "\n",
      "Shrink model to first 292 iterations.\n",
      "0:\ttest: 0.7005755\tbest: 0.7005755 (0)\ttotal: 63.8ms\tremaining: 2m 7s\n",
      "300:\ttest: 0.7410982\tbest: 0.7411040 (295)\ttotal: 18.1s\tremaining: 1m 41s\n",
      "600:\ttest: 0.7411662\tbest: 0.7412326 (542)\ttotal: 36.3s\tremaining: 1m 24s\n"
     ]
    },
    {
     "name": "stderr",
     "output_type": "stream",
     "text": [
      "[I 2025-02-26 15:03:09,710] Trial 6 finished with value: 0.7412325651489802 and parameters: {'iterations': 1997, 'depth': 5, 'learning_rate': 0.07985155992831598, 'l2_leaf_reg': 62.52181000710482}. Best is trial 0 with value: 0.7413185229230843.\n"
     ]
    },
    {
     "name": "stdout",
     "output_type": "stream",
     "text": [
      "Stopped by overfitting detector  (300 iterations wait)\n",
      "\n",
      "bestTest = 0.7412325651\n",
      "bestIteration = 542\n",
      "\n",
      "Shrink model to first 543 iterations.\n",
      "0:\ttest: 0.7161329\tbest: 0.7161329 (0)\ttotal: 87.9ms\tremaining: 2m 49s\n",
      "300:\ttest: 0.7404162\tbest: 0.7404674 (164)\ttotal: 24.8s\tremaining: 2m 13s\n",
      "600:\ttest: 0.7387865\tbest: 0.7405503 (317)\ttotal: 51.1s\tremaining: 1m 52s\n"
     ]
    },
    {
     "name": "stderr",
     "output_type": "stream",
     "text": [
      "[I 2025-02-26 15:04:02,404] Trial 7 finished with value: 0.7405503271867298 and parameters: {'iterations': 1927, 'depth': 7, 'learning_rate': 0.0941937211034094, 'l2_leaf_reg': 0.05654822767791934}. Best is trial 0 with value: 0.7413185229230843.\n"
     ]
    },
    {
     "name": "stdout",
     "output_type": "stream",
     "text": [
      "Stopped by overfitting detector  (300 iterations wait)\n",
      "\n",
      "bestTest = 0.7405503272\n",
      "bestIteration = 317\n",
      "\n",
      "Shrink model to first 318 iterations.\n",
      "0:\ttest: 0.7161320\tbest: 0.7161320 (0)\ttotal: 89.6ms\tremaining: 2m 50s\n",
      "300:\ttest: 0.7411982\tbest: 0.7411982 (300)\ttotal: 24.1s\tremaining: 2m 8s\n",
      "600:\ttest: 0.7409976\tbest: 0.7412878 (443)\ttotal: 49.9s\tremaining: 1m 48s\n"
     ]
    },
    {
     "name": "stderr",
     "output_type": "stream",
     "text": [
      "[I 2025-02-26 15:05:04,753] Trial 8 finished with value: 0.7412878120890232 and parameters: {'iterations': 1904, 'depth': 7, 'learning_rate': 0.05155602859187331, 'l2_leaf_reg': 1.299974533316308}. Best is trial 0 with value: 0.7413185229230843.\n"
     ]
    },
    {
     "name": "stdout",
     "output_type": "stream",
     "text": [
      "Stopped by overfitting detector  (300 iterations wait)\n",
      "\n",
      "bestTest = 0.7412878121\n",
      "bestIteration = 443\n",
      "\n",
      "Shrink model to first 444 iterations.\n",
      "0:\ttest: 0.7059022\tbest: 0.7059022 (0)\ttotal: 74ms\tremaining: 3m 15s\n",
      "300:\ttest: 0.7408177\tbest: 0.7408177 (300)\ttotal: 20.4s\tremaining: 2m 38s\n",
      "600:\ttest: 0.7413985\tbest: 0.7414391 (588)\ttotal: 42.5s\tremaining: 2m 24s\n",
      "900:\ttest: 0.7414268\tbest: 0.7415483 (824)\ttotal: 1m 4s\tremaining: 2m 5s\n"
     ]
    },
    {
     "name": "stderr",
     "output_type": "stream",
     "text": [
      "[I 2025-02-26 15:06:26,516] Trial 9 finished with value: 0.7415482664873817 and parameters: {'iterations': 2639, 'depth': 6, 'learning_rate': 0.03968704290444751, 'l2_leaf_reg': 0.30557194377967184}. Best is trial 9 with value: 0.7415482664873817.\n"
     ]
    },
    {
     "name": "stdout",
     "output_type": "stream",
     "text": [
      "Stopped by overfitting detector  (300 iterations wait)\n",
      "\n",
      "bestTest = 0.7415482665\n",
      "bestIteration = 824\n",
      "\n",
      "Shrink model to first 825 iterations.\n",
      "저장 완료\n",
      "0:\ttest: 0.7059022\tbest: 0.7059022 (0)\ttotal: 79.9ms\tremaining: 3m 55s\n",
      "300:\ttest: 0.7403949\tbest: 0.7403949 (300)\ttotal: 20.2s\tremaining: 2m 57s\n",
      "600:\ttest: 0.7414485\tbest: 0.7414619 (592)\ttotal: 42s\tremaining: 2m 43s\n",
      "900:\ttest: 0.7414484\tbest: 0.7415074 (645)\ttotal: 1m 4s\tremaining: 2m 25s\n"
     ]
    },
    {
     "name": "stderr",
     "output_type": "stream",
     "text": [
      "[I 2025-02-26 15:07:34,179] Trial 10 finished with value: 0.7415073782719268 and parameters: {'iterations': 2945, 'depth': 6, 'learning_rate': 0.032580115422505045, 'l2_leaf_reg': 0.05588195113566891}. Best is trial 9 with value: 0.7415482664873817.\n"
     ]
    },
    {
     "name": "stdout",
     "output_type": "stream",
     "text": [
      "Stopped by overfitting detector  (300 iterations wait)\n",
      "\n",
      "bestTest = 0.7415073783\n",
      "bestIteration = 645\n",
      "\n",
      "Shrink model to first 646 iterations.\n",
      "0:\ttest: 0.7059022\tbest: 0.7059022 (0)\ttotal: 74.1ms\tremaining: 3m 41s\n",
      "300:\ttest: 0.7405622\tbest: 0.7405981 (299)\ttotal: 20.5s\tremaining: 3m 3s\n",
      "600:\ttest: 0.7414680\tbest: 0.7415443 (560)\ttotal: 43.6s\tremaining: 2m 53s\n"
     ]
    },
    {
     "name": "stderr",
     "output_type": "stream",
     "text": [
      "[I 2025-02-26 15:08:37,142] Trial 11 finished with value: 0.7415442717758397 and parameters: {'iterations': 2996, 'depth': 6, 'learning_rate': 0.03250520130108762, 'l2_leaf_reg': 0.07022360666999101}. Best is trial 9 with value: 0.7415482664873817.\n"
     ]
    },
    {
     "name": "stdout",
     "output_type": "stream",
     "text": [
      "Stopped by overfitting detector  (300 iterations wait)\n",
      "\n",
      "bestTest = 0.7415442718\n",
      "bestIteration = 560\n",
      "\n",
      "Shrink model to first 561 iterations.\n",
      "0:\ttest: 0.7059022\tbest: 0.7059022 (0)\ttotal: 74.8ms\tremaining: 3m 36s\n",
      "300:\ttest: 0.7406719\tbest: 0.7406847 (296)\ttotal: 20.3s\tremaining: 2m 54s\n",
      "600:\ttest: 0.7415968\tbest: 0.7416008 (595)\ttotal: 42.1s\tremaining: 2m 40s\n",
      "900:\ttest: 0.7414517\tbest: 0.7416272 (611)\ttotal: 1m 4s\tremaining: 2m 22s\n"
     ]
    },
    {
     "name": "stderr",
     "output_type": "stream",
     "text": [
      "[I 2025-02-26 15:09:42,455] Trial 12 finished with value: 0.7416271600548923 and parameters: {'iterations': 2897, 'depth': 6, 'learning_rate': 0.03326204917552099, 'l2_leaf_reg': 0.525723719087043}. Best is trial 12 with value: 0.7416271600548923.\n"
     ]
    },
    {
     "name": "stdout",
     "output_type": "stream",
     "text": [
      "Stopped by overfitting detector  (300 iterations wait)\n",
      "\n",
      "bestTest = 0.7416271601\n",
      "bestIteration = 611\n",
      "\n",
      "Shrink model to first 612 iterations.\n",
      "저장 완료\n",
      "0:\ttest: 0.7166354\tbest: 0.7166354 (0)\ttotal: 95.8ms\tremaining: 4m 21s\n",
      "300:\ttest: 0.7409333\tbest: 0.7409353 (296)\ttotal: 26.4s\tremaining: 3m 32s\n",
      "600:\ttest: 0.7414741\tbest: 0.7415016 (550)\ttotal: 56s\tremaining: 3m 18s\n",
      "900:\ttest: 0.7414010\tbest: 0.7415606 (746)\ttotal: 1m 25s\tremaining: 2m 54s\n"
     ]
    },
    {
     "name": "stderr",
     "output_type": "stream",
     "text": [
      "[I 2025-02-26 15:11:23,378] Trial 13 finished with value: 0.7415605524093607 and parameters: {'iterations': 2727, 'depth': 8, 'learning_rate': 0.0325022744916209, 'l2_leaf_reg': 0.7637710590597931}. Best is trial 12 with value: 0.7416271600548923.\n"
     ]
    },
    {
     "name": "stdout",
     "output_type": "stream",
     "text": [
      "Stopped by overfitting detector  (300 iterations wait)\n",
      "\n",
      "bestTest = 0.7415605524\n",
      "bestIteration = 746\n",
      "\n",
      "Shrink model to first 747 iterations.\n",
      "0:\ttest: 0.7182272\tbest: 0.7182272 (0)\ttotal: 114ms\tremaining: 5m 14s\n",
      "300:\ttest: 0.7406814\tbest: 0.7406888 (277)\ttotal: 29.8s\tremaining: 4m 3s\n",
      "600:\ttest: 0.7409454\tbest: 0.7409689 (597)\ttotal: 1m\tremaining: 3m 38s\n",
      "900:\ttest: 0.7410004\tbest: 0.7412632 (694)\ttotal: 1m 35s\tremaining: 3m 16s\n"
     ]
    },
    {
     "name": "stderr",
     "output_type": "stream",
     "text": [
      "[I 2025-02-26 15:13:09,900] Trial 14 finished with value: 0.7412631528855684 and parameters: {'iterations': 2754, 'depth': 9, 'learning_rate': 0.02310057496307284, 'l2_leaf_reg': 1.2330439982808858}. Best is trial 12 with value: 0.7416271600548923.\n"
     ]
    },
    {
     "name": "stdout",
     "output_type": "stream",
     "text": [
      "Stopped by overfitting detector  (300 iterations wait)\n",
      "\n",
      "bestTest = 0.7412631529\n",
      "bestIteration = 694\n",
      "\n",
      "Shrink model to first 695 iterations.\n",
      "0:\ttest: 0.7166368\tbest: 0.7166368 (0)\ttotal: 99ms\tremaining: 4m 37s\n",
      "300:\ttest: 0.7398347\tbest: 0.7406981 (217)\ttotal: 27.9s\tremaining: 3m 51s\n"
     ]
    },
    {
     "name": "stderr",
     "output_type": "stream",
     "text": [
      "[I 2025-02-26 15:13:59,517] Trial 15 finished with value: 0.7406980560669439 and parameters: {'iterations': 2800, 'depth': 8, 'learning_rate': 0.06487790446919299, 'l2_leaf_reg': 0.010896698710189662}. Best is trial 12 with value: 0.7416271600548923.\n"
     ]
    },
    {
     "name": "stdout",
     "output_type": "stream",
     "text": [
      "Stopped by overfitting detector  (300 iterations wait)\n",
      "\n",
      "bestTest = 0.7406980561\n",
      "bestIteration = 217\n",
      "\n",
      "Shrink model to first 218 iterations.\n",
      "0:\ttest: 0.7166341\tbest: 0.7166341 (0)\ttotal: 97.3ms\tremaining: 4m 8s\n",
      "300:\ttest: 0.7406910\tbest: 0.7406910 (300)\ttotal: 26.1s\tremaining: 3m 15s\n",
      "600:\ttest: 0.7413428\tbest: 0.7413462 (595)\ttotal: 54.3s\tremaining: 2m 56s\n",
      "900:\ttest: 0.7414451\tbest: 0.7415203 (768)\ttotal: 1m 24s\tremaining: 2m 34s\n"
     ]
    },
    {
     "name": "stderr",
     "output_type": "stream",
     "text": [
      "[I 2025-02-26 15:15:40,512] Trial 16 finished with value: 0.741520323361019 and parameters: {'iterations': 2559, 'depth': 8, 'learning_rate': 0.02543926525161145, 'l2_leaf_reg': 2.313771052051698}. Best is trial 12 with value: 0.7416271600548923.\n"
     ]
    },
    {
     "name": "stdout",
     "output_type": "stream",
     "text": [
      "Stopped by overfitting detector  (300 iterations wait)\n",
      "\n",
      "bestTest = 0.7415203234\n",
      "bestIteration = 768\n",
      "\n",
      "Shrink model to first 769 iterations.\n",
      "0:\ttest: 0.7166398\tbest: 0.7166398 (0)\ttotal: 101ms\tremaining: 4m 42s\n",
      "300:\ttest: 0.7413276\tbest: 0.7413276 (300)\ttotal: 27.4s\tremaining: 3m 48s\n",
      "600:\ttest: 0.7415184\tbest: 0.7416835 (476)\ttotal: 56.7s\tremaining: 3m 28s\n"
     ]
    },
    {
     "name": "stderr",
     "output_type": "stream",
     "text": [
      "[I 2025-02-26 15:16:54,619] Trial 17 finished with value: 0.7416835466392817 and parameters: {'iterations': 2811, 'depth': 8, 'learning_rate': 0.05742508707118142, 'l2_leaf_reg': 11.112706269543787}. Best is trial 17 with value: 0.7416835466392817.\n"
     ]
    },
    {
     "name": "stdout",
     "output_type": "stream",
     "text": [
      "Stopped by overfitting detector  (300 iterations wait)\n",
      "\n",
      "bestTest = 0.7416835466\n",
      "bestIteration = 476\n",
      "\n",
      "Shrink model to first 477 iterations.\n",
      "저장 완료\n",
      "0:\ttest: 0.7161257\tbest: 0.7161257 (0)\ttotal: 90.5ms\tremaining: 2m 23s\n",
      "300:\ttest: 0.7415670\tbest: 0.7416206 (292)\ttotal: 23.8s\tremaining: 1m 41s\n",
      "600:\ttest: 0.7414942\tbest: 0.7417532 (472)\ttotal: 49.3s\tremaining: 1m 20s\n"
     ]
    },
    {
     "name": "stderr",
     "output_type": "stream",
     "text": [
      "[I 2025-02-26 15:17:58,844] Trial 18 finished with value: 0.7417532118672063 and parameters: {'iterations': 1585, 'depth': 7, 'learning_rate': 0.06275789335827815, 'l2_leaf_reg': 13.474998636566838}. Best is trial 18 with value: 0.7417532118672063.\n"
     ]
    },
    {
     "name": "stdout",
     "output_type": "stream",
     "text": [
      "Stopped by overfitting detector  (300 iterations wait)\n",
      "\n",
      "bestTest = 0.7417532119\n",
      "bestIteration = 472\n",
      "\n",
      "Shrink model to first 473 iterations.\n",
      "저장 완료\n",
      "0:\ttest: 0.7180687\tbest: 0.7180687 (0)\ttotal: 114ms\tremaining: 3m 1s\n",
      "300:\ttest: 0.7412306\tbest: 0.7412487 (288)\ttotal: 32.2s\tremaining: 2m 18s\n",
      "600:\ttest: 0.7414770\tbest: 0.7415081 (501)\ttotal: 1m 7s\tremaining: 1m 51s\n",
      "900:\ttest: 0.7412473\tbest: 0.7415903 (624)\ttotal: 1m 42s\tremaining: 1m 18s\n"
     ]
    },
    {
     "name": "stderr",
     "output_type": "stream",
     "text": [
      "[I 2025-02-26 15:19:44,604] Trial 19 finished with value: 0.7415902665509794 and parameters: {'iterations': 1595, 'depth': 9, 'learning_rate': 0.06245689377462309, 'l2_leaf_reg': 87.99807917290198}. Best is trial 18 with value: 0.7417532118672063.\n"
     ]
    },
    {
     "name": "stdout",
     "output_type": "stream",
     "text": [
      "Stopped by overfitting detector  (300 iterations wait)\n",
      "\n",
      "bestTest = 0.7415902666\n",
      "bestIteration = 624\n",
      "\n",
      "Shrink model to first 625 iterations.\n",
      "0:\ttest: 0.7182551\tbest: 0.7182551 (0)\ttotal: 119ms\tremaining: 3m 4s\n",
      "300:\ttest: 0.7410176\tbest: 0.7412026 (206)\ttotal: 33s\tremaining: 2m 17s\n"
     ]
    },
    {
     "name": "stderr",
     "output_type": "stream",
     "text": [
      "[I 2025-02-26 15:20:42,052] Trial 20 finished with value: 0.7412025730453258 and parameters: {'iterations': 1551, 'depth': 9, 'learning_rate': 0.08036659124246187, 'l2_leaf_reg': 10.42185028518933}. Best is trial 18 with value: 0.7417532118672063.\n"
     ]
    },
    {
     "name": "stdout",
     "output_type": "stream",
     "text": [
      "Stopped by overfitting detector  (300 iterations wait)\n",
      "\n",
      "bestTest = 0.741202573\n",
      "bestIteration = 206\n",
      "\n",
      "Shrink model to first 207 iterations.\n",
      "0:\ttest: 0.7161273\tbest: 0.7161273 (0)\ttotal: 93ms\tremaining: 4m 24s\n",
      "300:\ttest: 0.7416725\tbest: 0.7416763 (299)\ttotal: 25.2s\tremaining: 3m 32s\n",
      "600:\ttest: 0.7414967\tbest: 0.7418736 (399)\ttotal: 52s\tremaining: 3m 13s\n"
     ]
    },
    {
     "name": "stderr",
     "output_type": "stream",
     "text": [
      "[I 2025-02-26 15:21:43,300] Trial 21 finished with value: 0.7418735773704468 and parameters: {'iterations': 2839, 'depth': 7, 'learning_rate': 0.058471901105294516, 'l2_leaf_reg': 10.18449622050394}. Best is trial 21 with value: 0.7418735773704468.\n"
     ]
    },
    {
     "name": "stdout",
     "output_type": "stream",
     "text": [
      "Stopped by overfitting detector  (300 iterations wait)\n",
      "\n",
      "bestTest = 0.7418735774\n",
      "bestIteration = 399\n",
      "\n",
      "Shrink model to first 400 iterations.\n",
      "저장 완료\n",
      "0:\ttest: 0.7161273\tbest: 0.7161273 (0)\ttotal: 100ms\tremaining: 4m 3s\n",
      "300:\ttest: 0.7415488\tbest: 0.7415515 (292)\ttotal: 24.8s\tremaining: 2m 56s\n",
      "600:\ttest: 0.7415130\tbest: 0.7416178 (336)\ttotal: 51.4s\tremaining: 2m 36s\n"
     ]
    },
    {
     "name": "stderr",
     "output_type": "stream",
     "text": [
      "[I 2025-02-26 15:22:38,115] Trial 22 finished with value: 0.7416177967051747 and parameters: {'iterations': 2434, 'depth': 7, 'learning_rate': 0.05946550586072319, 'l2_leaf_reg': 11.224883559516325}. Best is trial 21 with value: 0.7418735773704468.\n"
     ]
    },
    {
     "name": "stdout",
     "output_type": "stream",
     "text": [
      "Stopped by overfitting detector  (300 iterations wait)\n",
      "\n",
      "bestTest = 0.7416177967\n",
      "bestIteration = 336\n",
      "\n",
      "Shrink model to first 337 iterations.\n",
      "0:\ttest: 0.7161316\tbest: 0.7161316 (0)\ttotal: 112ms\tremaining: 3m 16s\n",
      "300:\ttest: 0.7417699\tbest: 0.7417699 (300)\ttotal: 25.4s\tremaining: 2m 3s\n",
      "600:\ttest: 0.7413138\tbest: 0.7418565 (302)\ttotal: 51.5s\tremaining: 1m 39s\n",
      "Stopped by overfitting detector  (300 iterations wait)\n",
      "\n",
      "bestTest = 0.7418565026\n",
      "bestIteration = 302\n",
      "\n",
      "Shrink model to first 303 iterations.\n"
     ]
    },
    {
     "name": "stderr",
     "output_type": "stream",
     "text": [
      "[I 2025-02-26 15:23:30,023] Trial 23 finished with value: 0.7418565025596808 and parameters: {'iterations': 1760, 'depth': 7, 'learning_rate': 0.0766678704459495, 'l2_leaf_reg': 23.355713470704845}. Best is trial 21 with value: 0.7418735773704468.\n"
     ]
    },
    {
     "name": "stdout",
     "output_type": "stream",
     "text": [
      "0:\ttest: 0.7161327\tbest: 0.7161327 (0)\ttotal: 89.8ms\tremaining: 2m 32s\n",
      "300:\ttest: 0.7414843\tbest: 0.7415564 (273)\ttotal: 24.7s\tremaining: 1m 54s\n"
     ]
    },
    {
     "name": "stderr",
     "output_type": "stream",
     "text": [
      "[I 2025-02-26 15:24:18,825] Trial 24 finished with value: 0.7415564266585732 and parameters: {'iterations': 1700, 'depth': 7, 'learning_rate': 0.0759434478640531, 'l2_leaf_reg': 31.050572726839988}. Best is trial 21 with value: 0.7418735773704468.\n"
     ]
    },
    {
     "name": "stdout",
     "output_type": "stream",
     "text": [
      "Stopped by overfitting detector  (300 iterations wait)\n",
      "\n",
      "bestTest = 0.7415564267\n",
      "bestIteration = 273\n",
      "\n",
      "Shrink model to first 274 iterations.\n",
      "0:\ttest: 0.7005791\tbest: 0.7005791 (0)\ttotal: 67.9ms\tremaining: 2m\n",
      "300:\ttest: 0.7414089\tbest: 0.7414939 (253)\ttotal: 18.4s\tremaining: 1m 29s\n",
      "600:\ttest: 0.7410975\tbest: 0.7415547 (342)\ttotal: 37s\tremaining: 1m 12s\n"
     ]
    },
    {
     "name": "stderr",
     "output_type": "stream",
     "text": [
      "[I 2025-02-26 15:24:58,607] Trial 25 finished with value: 0.7415547032939518 and parameters: {'iterations': 1772, 'depth': 5, 'learning_rate': 0.08531292434458698, 'l2_leaf_reg': 3.2345539604399103}. Best is trial 21 with value: 0.7418735773704468.\n"
     ]
    },
    {
     "name": "stdout",
     "output_type": "stream",
     "text": [
      "Stopped by overfitting detector  (300 iterations wait)\n",
      "\n",
      "bestTest = 0.7415547033\n",
      "bestIteration = 342\n",
      "\n",
      "Shrink model to first 343 iterations.\n",
      "0:\ttest: 0.7161299\tbest: 0.7161299 (0)\ttotal: 88.3ms\tremaining: 3m 9s\n",
      "300:\ttest: 0.7416249\tbest: 0.7417387 (274)\ttotal: 24.4s\tremaining: 2m 30s\n"
     ]
    },
    {
     "name": "stderr",
     "output_type": "stream",
     "text": [
      "[I 2025-02-26 15:25:46,582] Trial 26 finished with value: 0.7417386545983069 and parameters: {'iterations': 2151, 'depth': 7, 'learning_rate': 0.06983833545053833, 'l2_leaf_reg': 4.619591162151659}. Best is trial 21 with value: 0.7418735773704468.\n"
     ]
    },
    {
     "name": "stdout",
     "output_type": "stream",
     "text": [
      "Stopped by overfitting detector  (300 iterations wait)\n",
      "\n",
      "bestTest = 0.7417386546\n",
      "bestIteration = 274\n",
      "\n",
      "Shrink model to first 275 iterations.\n",
      "0:\ttest: 0.7005755\tbest: 0.7005755 (0)\ttotal: 63.9ms\tremaining: 1m 45s\n",
      "300:\ttest: 0.7405317\tbest: 0.7405317 (300)\ttotal: 17.7s\tremaining: 1m 19s\n",
      "600:\ttest: 0.7411793\tbest: 0.7411799 (598)\ttotal: 36.1s\tremaining: 1m 3s\n",
      "900:\ttest: 0.7414402\tbest: 0.7414402 (900)\ttotal: 54.4s\tremaining: 45.4s\n",
      "1200:\ttest: 0.7413428\tbest: 0.7414789 (966)\ttotal: 1m 12s\tremaining: 27.4s\n"
     ]
    },
    {
     "name": "stderr",
     "output_type": "stream",
     "text": [
      "[I 2025-02-26 15:27:03,844] Trial 27 finished with value: 0.741478918930355 and parameters: {'iterations': 1652, 'depth': 5, 'learning_rate': 0.04571286270661632, 'l2_leaf_reg': 33.49108051099459}. Best is trial 21 with value: 0.7418735773704468.\n"
     ]
    },
    {
     "name": "stdout",
     "output_type": "stream",
     "text": [
      "Stopped by overfitting detector  (300 iterations wait)\n",
      "\n",
      "bestTest = 0.7414789189\n",
      "bestIteration = 966\n",
      "\n",
      "Shrink model to first 967 iterations.\n",
      "0:\ttest: 0.7166250\tbest: 0.7166250 (0)\ttotal: 96.9ms\tremaining: 2m 58s\n",
      "300:\ttest: 0.7411847\tbest: 0.7411943 (289)\ttotal: 26.8s\tremaining: 2m 17s\n",
      "600:\ttest: 0.7410655\tbest: 0.7413637 (446)\ttotal: 55.4s\tremaining: 1m 54s\n"
     ]
    },
    {
     "name": "stderr",
     "output_type": "stream",
     "text": [
      "[I 2025-02-26 15:28:13,414] Trial 28 finished with value: 0.7413636877830031 and parameters: {'iterations': 1841, 'depth': 8, 'learning_rate': 0.07053819241589139, 'l2_leaf_reg': 29.021669800552406}. Best is trial 21 with value: 0.7418735773704468.\n"
     ]
    },
    {
     "name": "stdout",
     "output_type": "stream",
     "text": [
      "Stopped by overfitting detector  (300 iterations wait)\n",
      "\n",
      "bestTest = 0.7413636878\n",
      "bestIteration = 446\n",
      "\n",
      "Shrink model to first 447 iterations.\n",
      "0:\ttest: 0.7059022\tbest: 0.7059022 (0)\ttotal: 75.7ms\tremaining: 2m 51s\n",
      "300:\ttest: 0.7407696\tbest: 0.7411152 (244)\ttotal: 21.5s\tremaining: 2m 20s\n"
     ]
    },
    {
     "name": "stderr",
     "output_type": "stream",
     "text": [
      "[I 2025-02-26 15:28:52,929] Trial 29 finished with value: 0.7411152254610429 and parameters: {'iterations': 2268, 'depth': 6, 'learning_rate': 0.09949577204994348, 'l2_leaf_reg': 0.24914536148583208}. Best is trial 21 with value: 0.7418735773704468.\n"
     ]
    },
    {
     "name": "stdout",
     "output_type": "stream",
     "text": [
      "Stopped by overfitting detector  (300 iterations wait)\n",
      "\n",
      "bestTest = 0.7411152255\n",
      "bestIteration = 244\n",
      "\n",
      "Shrink model to first 245 iterations.\n",
      "0:\ttest: 0.7161279\tbest: 0.7161279 (0)\ttotal: 88.4ms\tremaining: 2m 13s\n",
      "300:\ttest: 0.7414206\tbest: 0.7414362 (299)\ttotal: 23.6s\tremaining: 1m 35s\n",
      "600:\ttest: 0.7413656\tbest: 0.7415745 (377)\ttotal: 49.6s\tremaining: 1m 15s\n"
     ]
    },
    {
     "name": "stderr",
     "output_type": "stream",
     "text": [
      "[I 2025-02-26 15:29:49,302] Trial 30 finished with value: 0.7415745378706438 and parameters: {'iterations': 1515, 'depth': 7, 'learning_rate': 0.05493189666422851, 'l2_leaf_reg': 5.979762622002244}. Best is trial 21 with value: 0.7418735773704468.\n"
     ]
    },
    {
     "name": "stdout",
     "output_type": "stream",
     "text": [
      "Stopped by overfitting detector  (300 iterations wait)\n",
      "\n",
      "bestTest = 0.7415745379\n",
      "bestIteration = 377\n",
      "\n",
      "Shrink model to first 378 iterations.\n",
      "0:\ttest: 0.7161310\tbest: 0.7161310 (0)\ttotal: 104ms\tremaining: 3m 44s\n",
      "300:\ttest: 0.7414876\tbest: 0.7415286 (296)\ttotal: 24.6s\tremaining: 2m 32s\n"
     ]
    },
    {
     "name": "stderr",
     "output_type": "stream",
     "text": [
      "[I 2025-02-26 15:30:39,624] Trial 31 finished with value: 0.7415285947170249 and parameters: {'iterations': 2164, 'depth': 7, 'learning_rate': 0.06885228487166545, 'l2_leaf_reg': 3.180557330254142}. Best is trial 21 with value: 0.7418735773704468.\n"
     ]
    },
    {
     "name": "stdout",
     "output_type": "stream",
     "text": [
      "Stopped by overfitting detector  (300 iterations wait)\n",
      "\n",
      "bestTest = 0.7415285947\n",
      "bestIteration = 296\n",
      "\n",
      "Shrink model to first 297 iterations.\n",
      "0:\ttest: 0.7166115\tbest: 0.7166115 (0)\ttotal: 94.3ms\tremaining: 3m 17s\n",
      "300:\ttest: 0.7416762\tbest: 0.7416762 (300)\ttotal: 27.5s\tremaining: 2m 43s\n",
      "600:\ttest: 0.7412370\tbest: 0.7416969 (315)\ttotal: 56.6s\tremaining: 2m 20s\n"
     ]
    },
    {
     "name": "stderr",
     "output_type": "stream",
     "text": [
      "[I 2025-02-26 15:31:37,934] Trial 32 finished with value: 0.7416969126423139 and parameters: {'iterations': 2090, 'depth': 8, 'learning_rate': 0.07484600593939532, 'l2_leaf_reg': 21.83269311817379}. Best is trial 21 with value: 0.7418735773704468.\n"
     ]
    },
    {
     "name": "stdout",
     "output_type": "stream",
     "text": [
      "Stopped by overfitting detector  (300 iterations wait)\n",
      "\n",
      "bestTest = 0.7416969126\n",
      "bestIteration = 315\n",
      "\n",
      "Shrink model to first 316 iterations.\n",
      "0:\ttest: 0.7161274\tbest: 0.7161274 (0)\ttotal: 85.4ms\tremaining: 2m 36s\n",
      "300:\ttest: 0.7409302\tbest: 0.7410871 (197)\ttotal: 24.6s\tremaining: 2m 5s\n"
     ]
    },
    {
     "name": "stderr",
     "output_type": "stream",
     "text": [
      "[I 2025-02-26 15:32:19,496] Trial 33 finished with value: 0.7410871433536625 and parameters: {'iterations': 1835, 'depth': 7, 'learning_rate': 0.08534711642397476, 'l2_leaf_reg': 6.3518649982451}. Best is trial 21 with value: 0.7418735773704468.\n"
     ]
    },
    {
     "name": "stdout",
     "output_type": "stream",
     "text": [
      "Stopped by overfitting detector  (300 iterations wait)\n",
      "\n",
      "bestTest = 0.7410871434\n",
      "bestIteration = 197\n",
      "\n",
      "Shrink model to first 198 iterations.\n",
      "0:\ttest: 0.7058978\tbest: 0.7058978 (0)\ttotal: 74.4ms\tremaining: 3m\n",
      "300:\ttest: 0.7411000\tbest: 0.7411000 (300)\ttotal: 20.5s\tremaining: 2m 24s\n",
      "600:\ttest: 0.7414972\tbest: 0.7414972 (600)\ttotal: 42.3s\tremaining: 2m 8s\n",
      "900:\ttest: 0.7415726\tbest: 0.7416322 (727)\ttotal: 1m 5s\tremaining: 1m 49s\n"
     ]
    },
    {
     "name": "stderr",
     "output_type": "stream",
     "text": [
      "[I 2025-02-26 15:33:34,657] Trial 34 finished with value: 0.7416322427892598 and parameters: {'iterations': 2423, 'depth': 6, 'learning_rate': 0.04946451740473822, 'l2_leaf_reg': 17.995642850287346}. Best is trial 21 with value: 0.7418735773704468.\n"
     ]
    },
    {
     "name": "stdout",
     "output_type": "stream",
     "text": [
      "Stopped by overfitting detector  (300 iterations wait)\n",
      "\n",
      "bestTest = 0.7416322428\n",
      "bestIteration = 727\n",
      "\n",
      "Shrink model to first 728 iterations.\n",
      "0:\ttest: 0.7161265\tbest: 0.7161265 (0)\ttotal: 92ms\tremaining: 2m 33s\n",
      "300:\ttest: 0.7411555\tbest: 0.7411727 (287)\ttotal: 24.4s\tremaining: 1m 50s\n",
      "600:\ttest: 0.7412179\tbest: 0.7412607 (491)\ttotal: 50.9s\tremaining: 1m 30s\n"
     ]
    },
    {
     "name": "stderr",
     "output_type": "stream",
     "text": [
      "[I 2025-02-26 15:34:42,919] Trial 35 finished with value: 0.741260671081678 and parameters: {'iterations': 1666, 'depth': 7, 'learning_rate': 0.06401422295972957, 'l2_leaf_reg': 81.22803619402683}. Best is trial 21 with value: 0.7418735773704468.\n"
     ]
    },
    {
     "name": "stdout",
     "output_type": "stream",
     "text": [
      "Stopped by overfitting detector  (300 iterations wait)\n",
      "\n",
      "bestTest = 0.7412606711\n",
      "bestIteration = 491\n",
      "\n",
      "Shrink model to first 492 iterations.\n",
      "0:\ttest: 0.7166339\tbest: 0.7166339 (0)\ttotal: 101ms\tremaining: 3m 46s\n",
      "300:\ttest: 0.7412457\tbest: 0.7413798 (180)\ttotal: 28.8s\tremaining: 3m 7s\n"
     ]
    },
    {
     "name": "stderr",
     "output_type": "stream",
     "text": [
      "[I 2025-02-26 15:35:30,071] Trial 36 finished with value: 0.7413798214937337 and parameters: {'iterations': 2253, 'depth': 8, 'learning_rate': 0.08457119929931678, 'l2_leaf_reg': 3.3066652981195075}. Best is trial 21 with value: 0.7418735773704468.\n"
     ]
    },
    {
     "name": "stdout",
     "output_type": "stream",
     "text": [
      "Stopped by overfitting detector  (300 iterations wait)\n",
      "\n",
      "bestTest = 0.7413798215\n",
      "bestIteration = 180\n",
      "\n",
      "Shrink model to first 181 iterations.\n",
      "0:\ttest: 0.7059022\tbest: 0.7059022 (0)\ttotal: 80.7ms\tremaining: 2m 40s\n",
      "300:\ttest: 0.7412060\tbest: 0.7412073 (299)\ttotal: 21.5s\tremaining: 2m\n",
      "600:\ttest: 0.7403125\tbest: 0.7413057 (385)\ttotal: 44s\tremaining: 1m 41s\n"
     ]
    },
    {
     "name": "stderr",
     "output_type": "stream",
     "text": [
      "[I 2025-02-26 15:36:20,726] Trial 37 finished with value: 0.7413057128441238 and parameters: {'iterations': 1993, 'depth': 6, 'learning_rate': 0.07417884959553789, 'l2_leaf_reg': 0.01617917950785166}. Best is trial 21 with value: 0.7418735773704468.\n"
     ]
    },
    {
     "name": "stdout",
     "output_type": "stream",
     "text": [
      "Stopped by overfitting detector  (300 iterations wait)\n",
      "\n",
      "bestTest = 0.7413057128\n",
      "bestIteration = 385\n",
      "\n",
      "Shrink model to first 386 iterations.\n",
      "0:\ttest: 0.7005791\tbest: 0.7005791 (0)\ttotal: 66.1ms\tremaining: 2m 20s\n",
      "300:\ttest: 0.7412708\tbest: 0.7413221 (244)\ttotal: 18s\tremaining: 1m 49s\n",
      "600:\ttest: 0.7413321\tbest: 0.7414573 (467)\ttotal: 36.7s\tremaining: 1m 32s\n"
     ]
    },
    {
     "name": "stderr",
     "output_type": "stream",
     "text": [
      "[I 2025-02-26 15:37:08,164] Trial 38 finished with value: 0.7414572656877723 and parameters: {'iterations': 2123, 'depth': 5, 'learning_rate': 0.06730062724081524, 'l2_leaf_reg': 6.374338383066388}. Best is trial 21 with value: 0.7418735773704468.\n"
     ]
    },
    {
     "name": "stdout",
     "output_type": "stream",
     "text": [
      "Stopped by overfitting detector  (300 iterations wait)\n",
      "\n",
      "bestTest = 0.7414572657\n",
      "bestIteration = 467\n",
      "\n",
      "Shrink model to first 468 iterations.\n",
      "0:\ttest: 0.7182269\tbest: 0.7182269 (0)\ttotal: 116ms\tremaining: 3m 26s\n",
      "300:\ttest: 0.7409204\tbest: 0.7410411 (195)\ttotal: 32.2s\tremaining: 2m 39s\n"
     ]
    },
    {
     "name": "stderr",
     "output_type": "stream",
     "text": [
      "[I 2025-02-26 15:38:02,877] Trial 39 finished with value: 0.7410411009278881 and parameters: {'iterations': 1792, 'depth': 9, 'learning_rate': 0.06039150309766379, 'l2_leaf_reg': 1.725099404738607}. Best is trial 21 with value: 0.7418735773704468.\n",
      "[I 2025-02-26 15:38:02,881] A new study created in memory with name: no-name-4f184fd7-bc08-4d77-bd5c-2a5acd5ee584\n"
     ]
    },
    {
     "name": "stdout",
     "output_type": "stream",
     "text": [
      "Stopped by overfitting detector  (300 iterations wait)\n",
      "\n",
      "bestTest = 0.7410411009\n",
      "bestIteration = 195\n",
      "\n",
      "Shrink model to first 196 iterations.\n"
     ]
    },
    {
     "name": "stderr",
     "output_type": "stream",
     "text": [
      "[I 2025-02-26 15:38:26,083] Trial 0 finished with value: 0.7290465427256716 and parameters: {'num_iterations': 2366, 'objective': 'binary', 'metric': 'auc', 'verbose': -1, 'learning_rate': 0.0652646236447618, 'n_estimators': 236, 'min_child_samples': 45, 'subsample': 0.7, 'colsample_bytree': 0.5}. Best is trial 0 with value: 0.7290465427256716.\n",
      "[I 2025-02-26 15:38:43,136] Trial 1 finished with value: 0.7417321780828745 and parameters: {'num_iterations': 1510, 'objective': 'binary', 'metric': 'auc', 'verbose': -1, 'learning_rate': 0.005231880959249543, 'n_estimators': 1411, 'min_child_samples': 10, 'subsample': 1.0, 'colsample_bytree': 0.5}. Best is trial 1 with value: 0.7417321780828745.\n",
      "[I 2025-02-26 15:39:02,835] Trial 2 finished with value: 0.7412461177836648 and parameters: {'num_iterations': 2334, 'objective': 'binary', 'metric': 'auc', 'verbose': -1, 'learning_rate': 0.006578527777128852, 'n_estimators': 931, 'min_child_samples': 15, 'subsample': 0.5, 'colsample_bytree': 1.0}. Best is trial 1 with value: 0.7417321780828745.\n",
      "[I 2025-02-26 15:39:19,333] Trial 3 finished with value: 0.7417170926861073 and parameters: {'num_iterations': 1620, 'objective': 'binary', 'metric': 'auc', 'verbose': -1, 'learning_rate': 0.0058823249237283685, 'n_estimators': 837, 'min_child_samples': 10, 'subsample': 0.9, 'colsample_bytree': 0.6}. Best is trial 1 with value: 0.7417321780828745.\n",
      "[I 2025-02-26 15:39:35,732] Trial 4 finished with value: 0.7407598867363474 and parameters: {'num_iterations': 1997, 'objective': 'binary', 'metric': 'auc', 'verbose': -1, 'learning_rate': 0.010907507425244923, 'n_estimators': 1597, 'min_child_samples': 50, 'subsample': 0.6, 'colsample_bytree': 0.8}. Best is trial 1 with value: 0.7417321780828745.\n",
      "[I 2025-02-26 15:39:58,703] Trial 5 finished with value: 0.7372996128004726 and parameters: {'num_iterations': 2909, 'objective': 'binary', 'metric': 'auc', 'verbose': -1, 'learning_rate': 0.019760591962733942, 'n_estimators': 612, 'min_child_samples': 30, 'subsample': 0.7, 'colsample_bytree': 0.9}. Best is trial 1 with value: 0.7417321780828745.\n",
      "[I 2025-02-26 15:40:19,965] Trial 6 finished with value: 0.7388601075525653 and parameters: {'num_iterations': 2639, 'objective': 'binary', 'metric': 'auc', 'verbose': -1, 'learning_rate': 0.017862094446750985, 'n_estimators': 794, 'min_child_samples': 35, 'subsample': 1.0, 'colsample_bytree': 0.8}. Best is trial 1 with value: 0.7417321780828745.\n",
      "[I 2025-02-26 15:40:36,653] Trial 7 finished with value: 0.7404929478807841 and parameters: {'num_iterations': 1580, 'objective': 'binary', 'metric': 'auc', 'verbose': -1, 'learning_rate': 0.01776722177611332, 'n_estimators': 529, 'min_child_samples': 25, 'subsample': 0.8, 'colsample_bytree': 0.5}. Best is trial 1 with value: 0.7417321780828745.\n",
      "[I 2025-02-26 15:40:54,525] Trial 8 finished with value: 0.737610485541225 and parameters: {'num_iterations': 1911, 'objective': 'binary', 'metric': 'auc', 'verbose': -1, 'learning_rate': 0.0304747553332844, 'n_estimators': 1328, 'min_child_samples': 10, 'subsample': 0.7, 'colsample_bytree': 0.6}. Best is trial 1 with value: 0.7417321780828745.\n",
      "[I 2025-02-26 15:41:22,320] Trial 9 finished with value: 0.7367280116702123 and parameters: {'num_iterations': 2739, 'objective': 'binary', 'metric': 'auc', 'verbose': -1, 'learning_rate': 0.02691531614176271, 'n_estimators': 1438, 'min_child_samples': 20, 'subsample': 0.6, 'colsample_bytree': 0.5}. Best is trial 1 with value: 0.7417321780828745.\n",
      "[I 2025-02-26 15:41:37,267] Trial 10 finished with value: 0.7282611729063955 and parameters: {'num_iterations': 1933, 'objective': 'binary', 'metric': 'auc', 'verbose': -1, 'learning_rate': 0.08223556891145911, 'n_estimators': 1960, 'min_child_samples': 40, 'subsample': 1.0, 'colsample_bytree': 0.7}. Best is trial 1 with value: 0.7417321780828745.\n",
      "[I 2025-02-26 15:41:53,006] Trial 11 finished with value: 0.7416471733214643 and parameters: {'num_iterations': 1513, 'objective': 'binary', 'metric': 'auc', 'verbose': -1, 'learning_rate': 0.005340229419903739, 'n_estimators': 1206, 'min_child_samples': 10, 'subsample': 0.9, 'colsample_bytree': 0.6}. Best is trial 1 with value: 0.7417321780828745.\n",
      "[I 2025-02-26 15:42:10,105] Trial 12 finished with value: 0.7414484820874434 and parameters: {'num_iterations': 1698, 'objective': 'binary', 'metric': 'auc', 'verbose': -1, 'learning_rate': 0.008515343845233947, 'n_estimators': 1719, 'min_child_samples': 20, 'subsample': 0.9, 'colsample_bytree': 0.6}. Best is trial 1 with value: 0.7417321780828745.\n",
      "[I 2025-02-26 15:42:25,398] Trial 13 finished with value: 0.7411826789053404 and parameters: {'num_iterations': 1777, 'objective': 'binary', 'metric': 'auc', 'verbose': -1, 'learning_rate': 0.010074542479113706, 'n_estimators': 1082, 'min_child_samples': 10, 'subsample': 0.9, 'colsample_bytree': 0.7}. Best is trial 1 with value: 0.7417321780828745.\n",
      "[I 2025-02-26 15:42:47,403] Trial 14 finished with value: 0.7416581528218753 and parameters: {'num_iterations': 2165, 'objective': 'binary', 'metric': 'auc', 'verbose': -1, 'learning_rate': 0.005262187136940254, 'n_estimators': 251, 'min_child_samples': 20, 'subsample': 1.0, 'colsample_bytree': 0.6}. Best is trial 1 with value: 0.7417321780828745.\n",
      "[I 2025-02-26 15:43:03,866] Trial 15 finished with value: 0.7411495855395445 and parameters: {'num_iterations': 1507, 'objective': 'binary', 'metric': 'auc', 'verbose': -1, 'learning_rate': 0.012840412608821758, 'n_estimators': 758, 'min_child_samples': 15, 'subsample': 0.8, 'colsample_bytree': 0.5}. Best is trial 1 with value: 0.7417321780828745.\n",
      "[I 2025-02-26 15:43:18,409] Trial 16 finished with value: 0.7346137966885287 and parameters: {'num_iterations': 1766, 'objective': 'binary', 'metric': 'auc', 'verbose': -1, 'learning_rate': 0.041903889887690594, 'n_estimators': 1046, 'min_child_samples': 30, 'subsample': 0.9, 'colsample_bytree': 0.7}. Best is trial 1 with value: 0.7417321780828745.\n",
      "[I 2025-02-26 15:43:39,739] Trial 17 finished with value: 0.7413095804873066 and parameters: {'num_iterations': 2097, 'objective': 'binary', 'metric': 'auc', 'verbose': -1, 'learning_rate': 0.007247960274588795, 'n_estimators': 1569, 'min_child_samples': 15, 'subsample': 1.0, 'colsample_bytree': 0.6}. Best is trial 1 with value: 0.7417321780828745.\n",
      "[I 2025-02-26 15:43:58,002] Trial 18 finished with value: 0.740882360780173 and parameters: {'num_iterations': 1698, 'objective': 'binary', 'metric': 'auc', 'verbose': -1, 'learning_rate': 0.01356820322695768, 'n_estimators': 1881, 'min_child_samples': 25, 'subsample': 0.8, 'colsample_bytree': 0.5}. Best is trial 1 with value: 0.7417321780828745.\n",
      "[I 2025-02-26 15:44:20,019] Trial 19 finished with value: 0.7414639050095398 and parameters: {'num_iterations': 2510, 'objective': 'binary', 'metric': 'auc', 'verbose': -1, 'learning_rate': 0.005127969307903406, 'n_estimators': 477, 'min_child_samples': 10, 'subsample': 0.9, 'colsample_bytree': 0.7}. Best is trial 1 with value: 0.7417321780828745.\n",
      "[I 2025-02-26 15:44:36,852] Trial 20 finished with value: 0.7417495745354246 and parameters: {'num_iterations': 1649, 'objective': 'binary', 'metric': 'auc', 'verbose': -1, 'learning_rate': 0.007877155758725746, 'n_estimators': 1278, 'min_child_samples': 15, 'subsample': 1.0, 'colsample_bytree': 0.6}. Best is trial 20 with value: 0.7417495745354246.\n",
      "[I 2025-02-26 15:44:53,349] Trial 21 finished with value: 0.7417189034102257 and parameters: {'num_iterations': 1623, 'objective': 'binary', 'metric': 'auc', 'verbose': -1, 'learning_rate': 0.007337462574134009, 'n_estimators': 1255, 'min_child_samples': 15, 'subsample': 1.0, 'colsample_bytree': 0.6}. Best is trial 20 with value: 0.7417495745354246.\n",
      "[I 2025-02-26 15:45:13,350] Trial 22 finished with value: 0.7416682071057961 and parameters: {'num_iterations': 1841, 'objective': 'binary', 'metric': 'auc', 'verbose': -1, 'learning_rate': 0.008352033514693139, 'n_estimators': 1295, 'min_child_samples': 15, 'subsample': 1.0, 'colsample_bytree': 0.5}. Best is trial 20 with value: 0.7417495745354246.\n",
      "[I 2025-02-26 15:45:29,879] Trial 23 finished with value: 0.7415833730924934 and parameters: {'num_iterations': 1655, 'objective': 'binary', 'metric': 'auc', 'verbose': -1, 'learning_rate': 0.008093845312740662, 'n_estimators': 1412, 'min_child_samples': 25, 'subsample': 1.0, 'colsample_bytree': 0.6}. Best is trial 20 with value: 0.7417495745354246.\n",
      "[I 2025-02-26 15:45:46,496] Trial 24 finished with value: 0.7398174723377742 and parameters: {'num_iterations': 2039, 'objective': 'binary', 'metric': 'auc', 'verbose': -1, 'learning_rate': 0.013763055533112498, 'n_estimators': 1199, 'min_child_samples': 20, 'subsample': 1.0, 'colsample_bytree': 0.8}. Best is trial 20 with value: 0.7417495745354246.\n",
      "[I 2025-02-26 15:46:02,663] Trial 25 finished with value: 0.7416245273573253 and parameters: {'num_iterations': 1838, 'objective': 'binary', 'metric': 'auc', 'verbose': -1, 'learning_rate': 0.006772128719732964, 'n_estimators': 1615, 'min_child_samples': 15, 'subsample': 1.0, 'colsample_bytree': 0.7}. Best is trial 20 with value: 0.7417495745354246.\n",
      "[I 2025-02-26 15:46:19,783] Trial 26 finished with value: 0.741413081636751 and parameters: {'num_iterations': 1578, 'objective': 'binary', 'metric': 'auc', 'verbose': -1, 'learning_rate': 0.010342617145370069, 'n_estimators': 1078, 'min_child_samples': 20, 'subsample': 0.9, 'colsample_bytree': 0.5}. Best is trial 20 with value: 0.7417495745354246.\n",
      "[I 2025-02-26 15:46:41,316] Trial 27 finished with value: 0.740995010851479 and parameters: {'num_iterations': 2195, 'objective': 'binary', 'metric': 'auc', 'verbose': -1, 'learning_rate': 0.009085346218645663, 'n_estimators': 1750, 'min_child_samples': 35, 'subsample': 1.0, 'colsample_bytree': 0.6}. Best is trial 20 with value: 0.7417495745354246.\n",
      "[I 2025-02-26 15:46:56,436] Trial 28 finished with value: 0.7413059074175488 and parameters: {'num_iterations': 1720, 'objective': 'binary', 'metric': 'auc', 'verbose': -1, 'learning_rate': 0.006373164024895668, 'n_estimators': 1475, 'min_child_samples': 15, 'subsample': 0.8, 'colsample_bytree': 0.9}. Best is trial 20 with value: 0.7417495745354246.\n",
      "[I 2025-02-26 15:47:20,329] Trial 29 finished with value: 0.7333214399996392 and parameters: {'num_iterations': 2362, 'objective': 'binary', 'metric': 'auc', 'verbose': -1, 'learning_rate': 0.047242955804816106, 'n_estimators': 1230, 'min_child_samples': 25, 'subsample': 0.9, 'colsample_bytree': 0.5}. Best is trial 20 with value: 0.7417495745354246.\n",
      "[I 2025-02-26 15:47:36,866] Trial 30 finished with value: 0.7412761257708642 and parameters: {'num_iterations': 1514, 'objective': 'binary', 'metric': 'auc', 'verbose': -1, 'learning_rate': 0.012134043329410992, 'n_estimators': 1769, 'min_child_samples': 10, 'subsample': 0.5, 'colsample_bytree': 0.5}. Best is trial 20 with value: 0.7417495745354246.\n",
      "[I 2025-02-26 15:47:54,106] Trial 31 finished with value: 0.741723434191408 and parameters: {'num_iterations': 1633, 'objective': 'binary', 'metric': 'auc', 'verbose': -1, 'learning_rate': 0.006102993458080052, 'n_estimators': 874, 'min_child_samples': 10, 'subsample': 0.9, 'colsample_bytree': 0.6}. Best is trial 20 with value: 0.7417495745354246.\n",
      "[I 2025-02-26 15:48:10,676] Trial 32 finished with value: 0.7416871919128359 and parameters: {'num_iterations': 1614, 'objective': 'binary', 'metric': 'auc', 'verbose': -1, 'learning_rate': 0.0071625996673803935, 'n_estimators': 1057, 'min_child_samples': 15, 'subsample': 1.0, 'colsample_bytree': 0.6}. Best is trial 20 with value: 0.7417495745354246.\n",
      "[I 2025-02-26 15:48:27,384] Trial 33 finished with value: 0.7415889243914355 and parameters: {'num_iterations': 1843, 'objective': 'binary', 'metric': 'auc', 'verbose': -1, 'learning_rate': 0.005974487844741435, 'n_estimators': 1358, 'min_child_samples': 10, 'subsample': 1.0, 'colsample_bytree': 0.7}. Best is trial 20 with value: 0.7417495745354246.\n",
      "[I 2025-02-26 15:48:44,046] Trial 34 finished with value: 0.7415976444575847 and parameters: {'num_iterations': 1637, 'objective': 'binary', 'metric': 'auc', 'verbose': -1, 'learning_rate': 0.007246282595022496, 'n_estimators': 917, 'min_child_samples': 10, 'subsample': 0.9, 'colsample_bytree': 0.6}. Best is trial 20 with value: 0.7417495745354246.\n",
      "[I 2025-02-26 15:49:03,514] Trial 35 finished with value: 0.7416986717449113 and parameters: {'num_iterations': 1931, 'objective': 'binary', 'metric': 'auc', 'verbose': -1, 'learning_rate': 0.005984138915524248, 'n_estimators': 952, 'min_child_samples': 15, 'subsample': 0.9, 'colsample_bytree': 0.6}. Best is trial 20 with value: 0.7417495745354246.\n",
      "[I 2025-02-26 15:49:34,431] Trial 36 finished with value: 0.7384545013791524 and parameters: {'num_iterations': 2997, 'objective': 'binary', 'metric': 'auc', 'verbose': -1, 'learning_rate': 0.016120197084717642, 'n_estimators': 1174, 'min_child_samples': 15, 'subsample': 1.0, 'colsample_bytree': 0.5}. Best is trial 20 with value: 0.7417495745354246.\n",
      "[I 2025-02-26 15:49:49,607] Trial 37 finished with value: 0.7406470381207301 and parameters: {'num_iterations': 1770, 'objective': 'binary', 'metric': 'auc', 'verbose': -1, 'learning_rate': 0.009483309472549878, 'n_estimators': 702, 'min_child_samples': 45, 'subsample': 0.8, 'colsample_bytree': 1.0}. Best is trial 20 with value: 0.7417495745354246.\n",
      "[I 2025-02-26 15:50:08,778] Trial 38 finished with value: 0.7401754596435816 and parameters: {'num_iterations': 2275, 'objective': 'binary', 'metric': 'auc', 'verbose': -1, 'learning_rate': 0.011005068783109613, 'n_estimators': 876, 'min_child_samples': 10, 'subsample': 1.0, 'colsample_bytree': 0.8}. Best is trial 20 with value: 0.7417495745354246.\n",
      "[I 2025-02-26 15:50:23,687] Trial 39 finished with value: 0.7415391096237477 and parameters: {'num_iterations': 1617, 'objective': 'binary', 'metric': 'auc', 'verbose': -1, 'learning_rate': 0.005027763157750648, 'n_estimators': 1541, 'min_child_samples': 20, 'subsample': 0.9, 'colsample_bytree': 0.9}. Best is trial 20 with value: 0.7417495745354246.\n"
     ]
    },
    {
     "name": "stdout",
     "output_type": "stream",
     "text": [
      "Cat val score : 0.7418735773704468\n",
      "LGBM val score : 0.7415175715368654\n",
      "Ensemble val score : 0.7420383373816783\n"
     ]
    },
    {
     "name": "stderr",
     "output_type": "stream",
     "text": [
      "[I 2025-02-26 15:50:41,553] A new study created in memory with name: no-name-2383973a-3b70-4af0-8280-8a611e5734e8\n"
     ]
    },
    {
     "name": "stdout",
     "output_type": "stream",
     "text": [
      "==================================================\n",
      "0:\ttest: 0.7252953\tbest: 0.7252953 (0)\ttotal: 154ms\tremaining: 6m 4s\n",
      "300:\ttest: 0.7407433\tbest: 0.7407433 (300)\ttotal: 38s\tremaining: 4m 20s\n",
      "600:\ttest: 0.7420063\tbest: 0.7420113 (599)\ttotal: 1m 18s\tremaining: 3m 51s\n",
      "900:\ttest: 0.7423118\tbest: 0.7423214 (879)\ttotal: 1m 58s\tremaining: 3m 12s\n",
      "1200:\ttest: 0.7424890\tbest: 0.7424890 (1200)\ttotal: 2m 44s\tremaining: 2m 39s\n",
      "1500:\ttest: 0.7424663\tbest: 0.7425573 (1281)\ttotal: 3m 37s\tremaining: 2m 5s\n"
     ]
    },
    {
     "name": "stderr",
     "output_type": "stream",
     "text": [
      "[I 2025-02-26 15:54:33,868] Trial 0 finished with value: 0.7425573441238937 and parameters: {'iterations': 2366, 'depth': 10, 'learning_rate': 0.01181021951839225, 'l2_leaf_reg': 9.980783802743254}. Best is trial 0 with value: 0.7425573441238937.\n"
     ]
    },
    {
     "name": "stdout",
     "output_type": "stream",
     "text": [
      "Stopped by overfitting detector  (300 iterations wait)\n",
      "\n",
      "bestTest = 0.7425573441\n",
      "bestIteration = 1281\n",
      "\n",
      "Shrink model to first 1282 iterations.\n",
      "저장 완료\n",
      "0:\ttest: 0.7002894\tbest: 0.7002894 (0)\ttotal: 71.1ms\tremaining: 2m 35s\n",
      "300:\ttest: 0.7319251\tbest: 0.7319251 (300)\ttotal: 13.7s\tremaining: 1m 26s\n",
      "600:\ttest: 0.7363593\tbest: 0.7363593 (600)\ttotal: 27.7s\tremaining: 1m 13s\n",
      "900:\ttest: 0.7383286\tbest: 0.7383286 (900)\ttotal: 42s\tremaining: 1m\n",
      "1200:\ttest: 0.7394428\tbest: 0.7394428 (1200)\ttotal: 56.5s\tremaining: 46.7s\n",
      "1500:\ttest: 0.7400843\tbest: 0.7400843 (1500)\ttotal: 1m 10s\tremaining: 32.7s\n",
      "1800:\ttest: 0.7406191\tbest: 0.7406191 (1800)\ttotal: 1m 25s\tremaining: 18.5s\n",
      "2100:\ttest: 0.7409506\tbest: 0.7409506 (2100)\ttotal: 1m 39s\tremaining: 4.37s\n"
     ]
    },
    {
     "name": "stderr",
     "output_type": "stream",
     "text": [
      "[I 2025-02-26 15:56:18,605] Trial 1 finished with value: 0.7410600142589759 and parameters: {'iterations': 2193, 'depth': 4, 'learning_rate': 0.005671430811678843, 'l2_leaf_reg': 0.00012325230809466137}. Best is trial 0 with value: 0.7425573441238937.\n"
     ]
    },
    {
     "name": "stdout",
     "output_type": "stream",
     "text": [
      "2192:\ttest: 0.7410600\tbest: 0.7410600 (2192)\ttotal: 1m 44s\tremaining: 0us\n",
      "\n",
      "bestTest = 0.7410600143\n",
      "bestIteration = 2192\n",
      "\n",
      "0:\ttest: 0.7002894\tbest: 0.7002894 (0)\ttotal: 51.5ms\tremaining: 2m 10s\n",
      "300:\ttest: 0.7419926\tbest: 0.7420662 (281)\ttotal: 14.8s\tremaining: 1m 50s\n",
      "600:\ttest: 0.7418912\tbest: 0.7422264 (469)\ttotal: 30.3s\tremaining: 1m 37s\n"
     ]
    },
    {
     "name": "stderr",
     "output_type": "stream",
     "text": [
      "[I 2025-02-26 15:56:58,262] Trial 2 finished with value: 0.7422263866406172 and parameters: {'iterations': 2535, 'depth': 4, 'learning_rate': 0.09275339199839054, 'l2_leaf_reg': 0.0008705394248343123}. Best is trial 0 with value: 0.7425573441238937.\n"
     ]
    },
    {
     "name": "stdout",
     "output_type": "stream",
     "text": [
      "Stopped by overfitting detector  (300 iterations wait)\n",
      "\n",
      "bestTest = 0.7422263866\n",
      "bestIteration = 469\n",
      "\n",
      "Shrink model to first 470 iterations.\n",
      "0:\ttest: 0.7002894\tbest: 0.7002894 (0)\ttotal: 55.6ms\tremaining: 2m 9s\n",
      "300:\ttest: 0.7415887\tbest: 0.7415887 (300)\ttotal: 14.3s\tremaining: 1m 36s\n",
      "600:\ttest: 0.7427447\tbest: 0.7427561 (595)\ttotal: 29.4s\tremaining: 1m 24s\n",
      "900:\ttest: 0.7426696\tbest: 0.7428182 (696)\ttotal: 44.7s\tremaining: 1m 11s\n"
     ]
    },
    {
     "name": "stderr",
     "output_type": "stream",
     "text": [
      "[I 2025-02-26 15:57:48,074] Trial 3 finished with value: 0.742818219436192 and parameters: {'iterations': 2334, 'depth': 4, 'learning_rate': 0.04657568321363276, 'l2_leaf_reg': 0.0008640473331457248}. Best is trial 3 with value: 0.742818219436192.\n"
     ]
    },
    {
     "name": "stdout",
     "output_type": "stream",
     "text": [
      "Stopped by overfitting detector  (300 iterations wait)\n",
      "\n",
      "bestTest = 0.7428182194\n",
      "bestIteration = 696\n",
      "\n",
      "Shrink model to first 697 iterations.\n",
      "저장 완료\n",
      "0:\ttest: 0.7253171\tbest: 0.7253171 (0)\ttotal: 129ms\tremaining: 3m 44s\n",
      "300:\ttest: 0.7398668\tbest: 0.7398721 (296)\ttotal: 39.7s\tremaining: 3m 9s\n",
      "600:\ttest: 0.7400151\tbest: 0.7401327 (494)\ttotal: 1m 21s\tremaining: 2m 33s\n",
      "900:\ttest: 0.7401832\tbest: 0.7402821 (868)\ttotal: 2m 2s\tremaining: 1m 54s\n"
     ]
    },
    {
     "name": "stderr",
     "output_type": "stream",
     "text": [
      "[I 2025-02-26 16:00:32,758] Trial 4 finished with value: 0.740282089851371 and parameters: {'iterations': 1742, 'depth': 10, 'learning_rate': 0.012622767482095846, 'l2_leaf_reg': 0.00021158816350109617}. Best is trial 3 with value: 0.742818219436192.\n"
     ]
    },
    {
     "name": "stdout",
     "output_type": "stream",
     "text": [
      "Stopped by overfitting detector  (300 iterations wait)\n",
      "\n",
      "bestTest = 0.7402820899\n",
      "bestIteration = 868\n",
      "\n",
      "Shrink model to first 869 iterations.\n",
      "0:\ttest: 0.7002894\tbest: 0.7002894 (0)\ttotal: 53.9ms\tremaining: 1m 52s\n",
      "300:\ttest: 0.7420332\tbest: 0.7420437 (299)\ttotal: 14.4s\tremaining: 1m 25s\n",
      "600:\ttest: 0.7422260\tbest: 0.7423788 (441)\ttotal: 29.2s\tremaining: 1m 11s\n"
     ]
    },
    {
     "name": "stderr",
     "output_type": "stream",
     "text": [
      "[I 2025-02-26 16:01:09,145] Trial 5 finished with value: 0.7423788011665765 and parameters: {'iterations': 2082, 'depth': 4, 'learning_rate': 0.06995196593094148, 'l2_leaf_reg': 0.0018080296485396804}. Best is trial 3 with value: 0.742818219436192.\n"
     ]
    },
    {
     "name": "stdout",
     "output_type": "stream",
     "text": [
      "Stopped by overfitting detector  (300 iterations wait)\n",
      "\n",
      "bestTest = 0.7423788012\n",
      "bestIteration = 441\n",
      "\n",
      "Shrink model to first 442 iterations.\n",
      "0:\ttest: 0.7056834\tbest: 0.7056834 (0)\ttotal: 62.2ms\tremaining: 2m 4s\n",
      "300:\ttest: 0.7426519\tbest: 0.7426519 (300)\ttotal: 17.5s\tremaining: 1m 38s\n",
      "600:\ttest: 0.7429879\tbest: 0.7430202 (543)\ttotal: 35.8s\tremaining: 1m 23s\n",
      "900:\ttest: 0.7431092\tbest: 0.7431092 (899)\ttotal: 54.4s\tremaining: 1m 6s\n",
      "1200:\ttest: 0.7430483\tbest: 0.7431710 (1002)\ttotal: 1m 13s\tremaining: 48.6s\n"
     ]
    },
    {
     "name": "stderr",
     "output_type": "stream",
     "text": [
      "[I 2025-02-26 16:02:29,275] Trial 6 finished with value: 0.7431709532595242 and parameters: {'iterations': 1997, 'depth': 5, 'learning_rate': 0.07985155992831598, 'l2_leaf_reg': 62.52181000710482}. Best is trial 6 with value: 0.7431709532595242.\n"
     ]
    },
    {
     "name": "stdout",
     "output_type": "stream",
     "text": [
      "Stopped by overfitting detector  (300 iterations wait)\n",
      "\n",
      "bestTest = 0.7431709533\n",
      "bestIteration = 1002\n",
      "\n",
      "Shrink model to first 1003 iterations.\n",
      "저장 완료\n",
      "0:\ttest: 0.7256088\tbest: 0.7256088 (0)\ttotal: 104ms\tremaining: 3m 21s\n",
      "300:\ttest: 0.7409211\tbest: 0.7420307 (166)\ttotal: 25.4s\tremaining: 2m 17s\n"
     ]
    },
    {
     "name": "stderr",
     "output_type": "stream",
     "text": [
      "[I 2025-02-26 16:03:09,350] Trial 7 finished with value: 0.742030729163672 and parameters: {'iterations': 1927, 'depth': 7, 'learning_rate': 0.0941937211034094, 'l2_leaf_reg': 0.05654822767791934}. Best is trial 6 with value: 0.7431709532595242.\n"
     ]
    },
    {
     "name": "stdout",
     "output_type": "stream",
     "text": [
      "Stopped by overfitting detector  (300 iterations wait)\n",
      "\n",
      "bestTest = 0.7420307292\n",
      "bestIteration = 166\n",
      "\n",
      "Shrink model to first 167 iterations.\n",
      "0:\ttest: 0.7256087\tbest: 0.7256087 (0)\ttotal: 92.8ms\tremaining: 2m 56s\n",
      "300:\ttest: 0.7428511\tbest: 0.7428511 (300)\ttotal: 24.9s\tremaining: 2m 12s\n",
      "600:\ttest: 0.7430332\tbest: 0.7431112 (397)\ttotal: 50.8s\tremaining: 1m 50s\n"
     ]
    },
    {
     "name": "stderr",
     "output_type": "stream",
     "text": [
      "[I 2025-02-26 16:04:08,860] Trial 8 finished with value: 0.7431112470142509 and parameters: {'iterations': 1904, 'depth': 7, 'learning_rate': 0.05155602859187331, 'l2_leaf_reg': 1.299974533316308}. Best is trial 6 with value: 0.7431709532595242.\n"
     ]
    },
    {
     "name": "stdout",
     "output_type": "stream",
     "text": [
      "Stopped by overfitting detector  (300 iterations wait)\n",
      "\n",
      "bestTest = 0.743111247\n",
      "bestIteration = 397\n",
      "\n",
      "Shrink model to first 398 iterations.\n",
      "0:\ttest: 0.7113893\tbest: 0.7113893 (0)\ttotal: 79.6ms\tremaining: 3m 29s\n",
      "300:\ttest: 0.7420726\tbest: 0.7420726 (300)\ttotal: 21.1s\tremaining: 2m 43s\n",
      "600:\ttest: 0.7431521\tbest: 0.7431642 (593)\ttotal: 44s\tremaining: 2m 29s\n",
      "900:\ttest: 0.7431646\tbest: 0.7432550 (690)\ttotal: 1m 6s\tremaining: 2m 8s\n",
      "1200:\ttest: 0.7427532\tbest: 0.7432705 (930)\ttotal: 1m 28s\tremaining: 1m 46s\n"
     ]
    },
    {
     "name": "stderr",
     "output_type": "stream",
     "text": [
      "[I 2025-02-26 16:05:40,218] Trial 9 finished with value: 0.7432704755809716 and parameters: {'iterations': 2639, 'depth': 6, 'learning_rate': 0.03968704290444751, 'l2_leaf_reg': 0.30557194377967184}. Best is trial 9 with value: 0.7432704755809716.\n"
     ]
    },
    {
     "name": "stdout",
     "output_type": "stream",
     "text": [
      "Stopped by overfitting detector  (300 iterations wait)\n",
      "\n",
      "bestTest = 0.7432704756\n",
      "bestIteration = 930\n",
      "\n",
      "Shrink model to first 931 iterations.\n",
      "저장 완료\n",
      "0:\ttest: 0.7113893\tbest: 0.7113893 (0)\ttotal: 82.8ms\tremaining: 4m 3s\n",
      "300:\ttest: 0.7419967\tbest: 0.7419967 (300)\ttotal: 20.5s\tremaining: 3m\n",
      "600:\ttest: 0.7427091\tbest: 0.7428046 (480)\ttotal: 42.3s\tremaining: 2m 45s\n",
      "900:\ttest: 0.7427285\tbest: 0.7428127 (682)\ttotal: 1m 4s\tremaining: 2m 27s\n"
     ]
    },
    {
     "name": "stderr",
     "output_type": "stream",
     "text": [
      "[I 2025-02-26 16:06:51,298] Trial 10 finished with value: 0.7428126721081362 and parameters: {'iterations': 2945, 'depth': 6, 'learning_rate': 0.032580115422505045, 'l2_leaf_reg': 0.05588195113566891}. Best is trial 9 with value: 0.7432704755809716.\n"
     ]
    },
    {
     "name": "stdout",
     "output_type": "stream",
     "text": [
      "Stopped by overfitting detector  (300 iterations wait)\n",
      "\n",
      "bestTest = 0.7428126721\n",
      "bestIteration = 682\n",
      "\n",
      "Shrink model to first 683 iterations.\n",
      "0:\ttest: 0.7114224\tbest: 0.7114224 (0)\ttotal: 73.8ms\tremaining: 3m 22s\n",
      "300:\ttest: 0.7424886\tbest: 0.7424886 (300)\ttotal: 20.8s\tremaining: 2m 48s\n",
      "600:\ttest: 0.7430091\tbest: 0.7430176 (584)\ttotal: 42.3s\tremaining: 2m 30s\n",
      "900:\ttest: 0.7430362\tbest: 0.7431181 (764)\ttotal: 1m 5s\tremaining: 2m 13s\n",
      "1200:\ttest: 0.7430746\tbest: 0.7431643 (1098)\ttotal: 1m 27s\tremaining: 1m 51s\n"
     ]
    },
    {
     "name": "stderr",
     "output_type": "stream",
     "text": [
      "[I 2025-02-26 16:08:33,680] Trial 11 finished with value: 0.7431642543744632 and parameters: {'iterations': 2742, 'depth': 6, 'learning_rate': 0.06823895055506055, 'l2_leaf_reg': 73.1213351392818}. Best is trial 9 with value: 0.7432704755809716.\n"
     ]
    },
    {
     "name": "stdout",
     "output_type": "stream",
     "text": [
      "Stopped by overfitting detector  (300 iterations wait)\n",
      "\n",
      "bestTest = 0.7431642544\n",
      "bestIteration = 1098\n",
      "\n",
      "Shrink model to first 1099 iterations.\n",
      "0:\ttest: 0.7113893\tbest: 0.7113893 (0)\ttotal: 78.6ms\tremaining: 2m 4s\n",
      "300:\ttest: 0.7427045\tbest: 0.7427918 (208)\ttotal: 21.9s\tremaining: 1m 33s\n",
      "600:\ttest: 0.7424135\tbest: 0.7428190 (424)\ttotal: 47.3s\tremaining: 1m 17s\n"
     ]
    },
    {
     "name": "stderr",
     "output_type": "stream",
     "text": [
      "[I 2025-02-26 16:09:32,469] Trial 12 finished with value: 0.7428190414096405 and parameters: {'iterations': 1588, 'depth': 6, 'learning_rate': 0.07382783813729096, 'l2_leaf_reg': 0.9289984580705454}. Best is trial 9 with value: 0.7432704755809716.\n"
     ]
    },
    {
     "name": "stdout",
     "output_type": "stream",
     "text": [
      "Stopped by overfitting detector  (300 iterations wait)\n",
      "\n",
      "bestTest = 0.7428190414\n",
      "bestIteration = 424\n",
      "\n",
      "Shrink model to first 425 iterations.\n",
      "0:\ttest: 0.7056831\tbest: 0.7056831 (0)\ttotal: 73.5ms\tremaining: 3m 12s\n",
      "300:\ttest: 0.7412157\tbest: 0.7412157 (300)\ttotal: 18.9s\tremaining: 2m 25s\n",
      "600:\ttest: 0.7422921\tbest: 0.7423021 (587)\ttotal: 39.7s\tremaining: 2m 13s\n",
      "900:\ttest: 0.7426577\tbest: 0.7426597 (898)\ttotal: 59.9s\tremaining: 1m 54s\n",
      "1200:\ttest: 0.7428426\tbest: 0.7428542 (1179)\ttotal: 1m 20s\tremaining: 1m 34s\n",
      "1500:\ttest: 0.7429574\tbest: 0.7429642 (1451)\ttotal: 1m 41s\tremaining: 1m 15s\n",
      "1800:\ttest: 0.7430140\tbest: 0.7430233 (1752)\ttotal: 2m 1s\tremaining: 55.1s\n",
      "2100:\ttest: 0.7429768\tbest: 0.7430341 (1816)\ttotal: 2m 20s\tremaining: 34.9s\n"
     ]
    },
    {
     "name": "stderr",
     "output_type": "stream",
     "text": [
      "[I 2025-02-26 16:11:54,929] Trial 13 finished with value: 0.7430340807822481 and parameters: {'iterations': 2621, 'depth': 5, 'learning_rate': 0.037295530226032936, 'l2_leaf_reg': 55.074044317639256}. Best is trial 9 with value: 0.7432704755809716.\n"
     ]
    },
    {
     "name": "stdout",
     "output_type": "stream",
     "text": [
      "Stopped by overfitting detector  (300 iterations wait)\n",
      "\n",
      "bestTest = 0.7430340808\n",
      "bestIteration = 1816\n",
      "\n",
      "Shrink model to first 1817 iterations.\n",
      "0:\ttest: 0.7256273\tbest: 0.7256273 (0)\ttotal: 122ms\tremaining: 5m 56s\n",
      "300:\ttest: 0.7419318\tbest: 0.7419318 (300)\ttotal: 30.2s\tremaining: 4m 23s\n",
      "600:\ttest: 0.7426233\tbest: 0.7426602 (592)\ttotal: 1m 1s\tremaining: 3m 59s\n",
      "900:\ttest: 0.7425697\tbest: 0.7427210 (717)\ttotal: 1m 35s\tremaining: 3m 34s\n"
     ]
    },
    {
     "name": "stderr",
     "output_type": "stream",
     "text": [
      "[I 2025-02-26 16:13:44,129] Trial 14 finished with value: 0.7427209922869824 and parameters: {'iterations': 2922, 'depth': 8, 'learning_rate': 0.027505113378477563, 'l2_leaf_reg': 1.3605183666655292}. Best is trial 9 with value: 0.7432704755809716.\n"
     ]
    },
    {
     "name": "stdout",
     "output_type": "stream",
     "text": [
      "Stopped by overfitting detector  (300 iterations wait)\n",
      "\n",
      "bestTest = 0.7427209923\n",
      "bestIteration = 717\n",
      "\n",
      "Shrink model to first 718 iterations.\n",
      "0:\ttest: 0.7256268\tbest: 0.7256268 (0)\ttotal: 124ms\tremaining: 5m 5s\n",
      "300:\ttest: 0.7425802\tbest: 0.7429079 (211)\ttotal: 31s\tremaining: 3m 42s\n"
     ]
    },
    {
     "name": "stderr",
     "output_type": "stream",
     "text": [
      "[I 2025-02-26 16:14:37,875] Trial 15 finished with value: 0.7429078780762575 and parameters: {'iterations': 2465, 'depth': 8, 'learning_rate': 0.0791246044213029, 'l2_leaf_reg': 6.12466541217341}. Best is trial 9 with value: 0.7432704755809716.\n"
     ]
    },
    {
     "name": "stdout",
     "output_type": "stream",
     "text": [
      "Stopped by overfitting detector  (300 iterations wait)\n",
      "\n",
      "bestTest = 0.7429078781\n",
      "bestIteration = 211\n",
      "\n",
      "Shrink model to first 212 iterations.\n",
      "0:\ttest: 0.7056529\tbest: 0.7056529 (0)\ttotal: 73.5ms\tremaining: 2m 36s\n",
      "300:\ttest: 0.7421966\tbest: 0.7422047 (297)\ttotal: 19.5s\tremaining: 1m 58s\n",
      "600:\ttest: 0.7422185\tbest: 0.7424643 (413)\ttotal: 40s\tremaining: 1m 41s\n"
     ]
    },
    {
     "name": "stderr",
     "output_type": "stream",
     "text": [
      "[I 2025-02-26 16:15:25,947] Trial 16 finished with value: 0.7424643181723097 and parameters: {'iterations': 2130, 'depth': 5, 'learning_rate': 0.06004933789540726, 'l2_leaf_reg': 0.01042905895402206}. Best is trial 9 with value: 0.7432704755809716.\n"
     ]
    },
    {
     "name": "stdout",
     "output_type": "stream",
     "text": [
      "Stopped by overfitting detector  (300 iterations wait)\n",
      "\n",
      "bestTest = 0.7424643182\n",
      "bestIteration = 413\n",
      "\n",
      "Shrink model to first 414 iterations.\n",
      "0:\ttest: 0.7056529\tbest: 0.7056529 (0)\ttotal: 75.6ms\tremaining: 3m 31s\n",
      "300:\ttest: 0.7427411\tbest: 0.7427508 (291)\ttotal: 19.6s\tremaining: 2m 43s\n",
      "600:\ttest: 0.7423449\tbest: 0.7428010 (409)\ttotal: 39.9s\tremaining: 2m 25s\n"
     ]
    },
    {
     "name": "stderr",
     "output_type": "stream",
     "text": [
      "[I 2025-02-26 16:16:13,365] Trial 17 finished with value: 0.7428010096152945 and parameters: {'iterations': 2799, 'depth': 5, 'learning_rate': 0.08530582911162005, 'l2_leaf_reg': 0.2604086527556862}. Best is trial 9 with value: 0.7432704755809716.\n"
     ]
    },
    {
     "name": "stdout",
     "output_type": "stream",
     "text": [
      "Stopped by overfitting detector  (300 iterations wait)\n",
      "\n",
      "bestTest = 0.7428010096\n",
      "bestIteration = 409\n",
      "\n",
      "Shrink model to first 410 iterations.\n",
      "0:\ttest: 0.7256274\tbest: 0.7256274 (0)\ttotal: 103ms\tremaining: 3m 21s\n",
      "300:\ttest: 0.7417823\tbest: 0.7421817 (223)\ttotal: 30.5s\tremaining: 2m 48s\n"
     ]
    },
    {
     "name": "stderr",
     "output_type": "stream",
     "text": [
      "[I 2025-02-26 16:17:08,403] Trial 18 finished with value: 0.7421817221123628 and parameters: {'iterations': 1963, 'depth': 8, 'learning_rate': 0.05970016430294879, 'l2_leaf_reg': 0.010016909578442512}. Best is trial 9 with value: 0.7432704755809716.\n"
     ]
    },
    {
     "name": "stdout",
     "output_type": "stream",
     "text": [
      "Stopped by overfitting detector  (300 iterations wait)\n",
      "\n",
      "bestTest = 0.7421817221\n",
      "bestIteration = 223\n",
      "\n",
      "Shrink model to first 224 iterations.\n",
      "0:\ttest: 0.7113892\tbest: 0.7113892 (0)\ttotal: 77ms\tremaining: 1m 59s\n",
      "300:\ttest: 0.7414836\tbest: 0.7414836 (300)\ttotal: 21.5s\tremaining: 1m 29s\n",
      "600:\ttest: 0.7426706\tbest: 0.7426751 (598)\ttotal: 44.4s\tremaining: 1m 10s\n",
      "900:\ttest: 0.7431600\tbest: 0.7431600 (900)\ttotal: 1m 8s\tremaining: 49.5s\n",
      "1200:\ttest: 0.7432225\tbest: 0.7432338 (1093)\ttotal: 1m 32s\tremaining: 27.3s\n",
      "1500:\ttest: 0.7432918\tbest: 0.7433215 (1386)\ttotal: 1m 57s\tremaining: 4.23s\n"
     ]
    },
    {
     "name": "stderr",
     "output_type": "stream",
     "text": [
      "[I 2025-02-26 16:19:10,851] Trial 19 finished with value: 0.7433219064993528 and parameters: {'iterations': 1555, 'depth': 6, 'learning_rate': 0.02512897967624637, 'l2_leaf_reg': 14.828826164321525}. Best is trial 19 with value: 0.7433219064993528.\n"
     ]
    },
    {
     "name": "stdout",
     "output_type": "stream",
     "text": [
      "1554:\ttest: 0.7433007\tbest: 0.7433219 (1526)\ttotal: 2m 2s\tremaining: 0us\n",
      "\n",
      "bestTest = 0.7433219065\n",
      "bestIteration = 1526\n",
      "\n",
      "Shrink model to first 1527 iterations.\n",
      "저장 완료\n",
      "0:\ttest: 0.7256087\tbest: 0.7256087 (0)\ttotal: 110ms\tremaining: 2m 50s\n",
      "300:\ttest: 0.7415573\tbest: 0.7415635 (299)\ttotal: 25.8s\tremaining: 1m 47s\n",
      "600:\ttest: 0.7426284\tbest: 0.7426354 (598)\ttotal: 51.7s\tremaining: 1m 21s\n",
      "900:\ttest: 0.7430901\tbest: 0.7430978 (893)\ttotal: 1m 19s\tremaining: 57.6s\n",
      "1200:\ttest: 0.7431904\tbest: 0.7431963 (1195)\ttotal: 1m 48s\tremaining: 31.6s\n",
      "1500:\ttest: 0.7431731\tbest: 0.7432023 (1205)\ttotal: 2m 16s\tremaining: 4.56s\n"
     ]
    },
    {
     "name": "stderr",
     "output_type": "stream",
     "text": [
      "[I 2025-02-26 16:21:28,531] Trial 20 finished with value: 0.7432023431151298 and parameters: {'iterations': 1551, 'depth': 7, 'learning_rate': 0.021549695594063428, 'l2_leaf_reg': 10.195742626338639}. Best is trial 19 with value: 0.7433219064993528.\n"
     ]
    },
    {
     "name": "stdout",
     "output_type": "stream",
     "text": [
      "Stopped by overfitting detector  (300 iterations wait)\n",
      "\n",
      "bestTest = 0.7432023431\n",
      "bestIteration = 1205\n",
      "\n",
      "Shrink model to first 1206 iterations.\n",
      "0:\ttest: 0.7256120\tbest: 0.7256120 (0)\ttotal: 110ms\tremaining: 2m 45s\n",
      "300:\ttest: 0.7415461\tbest: 0.7415461 (300)\ttotal: 23.8s\tremaining: 1m 35s\n",
      "600:\ttest: 0.7427086\tbest: 0.7427086 (600)\ttotal: 47.2s\tremaining: 1m 11s\n",
      "900:\ttest: 0.7430749\tbest: 0.7430822 (886)\ttotal: 1m 12s\tremaining: 48.9s\n",
      "1200:\ttest: 0.7431612\tbest: 0.7431955 (1178)\ttotal: 1m 38s\tremaining: 25.1s\n"
     ]
    },
    {
     "name": "stderr",
     "output_type": "stream",
     "text": [
      "[I 2025-02-26 16:23:31,729] Trial 21 finished with value: 0.7431955131908234 and parameters: {'iterations': 1507, 'depth': 7, 'learning_rate': 0.023063521475403567, 'l2_leaf_reg': 10.633507601142798}. Best is trial 19 with value: 0.7433219064993528.\n"
     ]
    },
    {
     "name": "stdout",
     "output_type": "stream",
     "text": [
      "Stopped by overfitting detector  (300 iterations wait)\n",
      "\n",
      "bestTest = 0.7431955132\n",
      "bestIteration = 1178\n",
      "\n",
      "Shrink model to first 1179 iterations.\n",
      "0:\ttest: 0.7113892\tbest: 0.7113892 (0)\ttotal: 75.8ms\tremaining: 2m 10s\n",
      "300:\ttest: 0.7419940\tbest: 0.7419940 (300)\ttotal: 22s\tremaining: 1m 44s\n",
      "600:\ttest: 0.7428019\tbest: 0.7428143 (598)\ttotal: 44.8s\tremaining: 1m 23s\n",
      "900:\ttest: 0.7428714\tbest: 0.7429260 (828)\ttotal: 1m 7s\tremaining: 1m 1s\n",
      "1200:\ttest: 0.7428401\tbest: 0.7429391 (943)\ttotal: 1m 30s\tremaining: 39.1s\n"
     ]
    },
    {
     "name": "stderr",
     "output_type": "stream",
     "text": [
      "[I 2025-02-26 16:25:05,198] Trial 22 finished with value: 0.7429391408635038 and parameters: {'iterations': 1722, 'depth': 6, 'learning_rate': 0.04154506265579805, 'l2_leaf_reg': 3.9514292201386407}. Best is trial 19 with value: 0.7433219064993528.\n"
     ]
    },
    {
     "name": "stdout",
     "output_type": "stream",
     "text": [
      "Stopped by overfitting detector  (300 iterations wait)\n",
      "\n",
      "bestTest = 0.7429391409\n",
      "bestIteration = 943\n",
      "\n",
      "Shrink model to first 944 iterations.\n",
      "0:\ttest: 0.7256088\tbest: 0.7256088 (0)\ttotal: 96.6ms\tremaining: 2m 42s\n",
      "300:\ttest: 0.7414830\tbest: 0.7414906 (290)\ttotal: 24s\tremaining: 1m 49s\n",
      "600:\ttest: 0.7423315\tbest: 0.7423595 (594)\ttotal: 49s\tremaining: 1m 28s\n",
      "900:\ttest: 0.7426826\tbest: 0.7427048 (775)\ttotal: 1m 15s\tremaining: 1m 5s\n",
      "1200:\ttest: 0.7427713\tbest: 0.7428851 (1055)\ttotal: 1m 42s\tremaining: 41s\n"
     ]
    },
    {
     "name": "stderr",
     "output_type": "stream",
     "text": [
      "[I 2025-02-26 16:27:01,527] Trial 23 finished with value: 0.7428851407817354 and parameters: {'iterations': 1681, 'depth': 7, 'learning_rate': 0.021292497582094734, 'l2_leaf_reg': 0.16692545318271604}. Best is trial 19 with value: 0.7433219064993528.\n"
     ]
    },
    {
     "name": "stdout",
     "output_type": "stream",
     "text": [
      "Stopped by overfitting detector  (300 iterations wait)\n",
      "\n",
      "bestTest = 0.7428851408\n",
      "bestIteration = 1055\n",
      "\n",
      "Shrink model to first 1056 iterations.\n",
      "0:\ttest: 0.7256425\tbest: 0.7256425 (0)\ttotal: 114ms\tremaining: 3m 28s\n",
      "300:\ttest: 0.7424967\tbest: 0.7424967 (300)\ttotal: 29.4s\tremaining: 2m 29s\n",
      "600:\ttest: 0.7427989\tbest: 0.7428728 (571)\ttotal: 1m\tremaining: 2m 4s\n",
      "900:\ttest: 0.7426683\tbest: 0.7428791 (782)\ttotal: 1m 35s\tremaining: 1m 38s\n"
     ]
    },
    {
     "name": "stderr",
     "output_type": "stream",
     "text": [
      "[I 2025-02-26 16:28:58,229] Trial 24 finished with value: 0.7428791090055602 and parameters: {'iterations': 1833, 'depth': 9, 'learning_rate': 0.030796160540923014, 'l2_leaf_reg': 20.185359288770723}. Best is trial 19 with value: 0.7433219064993528.\n"
     ]
    },
    {
     "name": "stdout",
     "output_type": "stream",
     "text": [
      "Stopped by overfitting detector  (300 iterations wait)\n",
      "\n",
      "bestTest = 0.742879109\n",
      "bestIteration = 782\n",
      "\n",
      "Shrink model to first 783 iterations.\n",
      "0:\ttest: 0.7113892\tbest: 0.7113892 (0)\ttotal: 88.7ms\tremaining: 2m 14s\n",
      "300:\ttest: 0.7405778\tbest: 0.7405778 (300)\ttotal: 21.8s\tremaining: 1m 28s\n",
      "600:\ttest: 0.7419314\tbest: 0.7419314 (600)\ttotal: 43.7s\tremaining: 1m 6s\n",
      "900:\ttest: 0.7426159\tbest: 0.7426353 (862)\ttotal: 1m 6s\tremaining: 45.8s\n",
      "1200:\ttest: 0.7428716\tbest: 0.7428890 (1193)\ttotal: 1m 33s\tremaining: 24.7s\n",
      "1500:\ttest: 0.7430009\tbest: 0.7430089 (1458)\ttotal: 1m 57s\tremaining: 1.4s\n"
     ]
    },
    {
     "name": "stderr",
     "output_type": "stream",
     "text": [
      "[I 2025-02-26 16:30:57,159] Trial 25 finished with value: 0.7430089371306738 and parameters: {'iterations': 1519, 'depth': 6, 'learning_rate': 0.01928143074107767, 'l2_leaf_reg': 2.859748633792234}. Best is trial 19 with value: 0.7433219064993528.\n"
     ]
    },
    {
     "name": "stdout",
     "output_type": "stream",
     "text": [
      "1518:\ttest: 0.7430049\tbest: 0.7430089 (1458)\ttotal: 1m 58s\tremaining: 0us\n",
      "\n",
      "bestTest = 0.7430089371\n",
      "bestIteration = 1458\n",
      "\n",
      "Shrink model to first 1459 iterations.\n",
      "0:\ttest: 0.7256088\tbest: 0.7256088 (0)\ttotal: 131ms\tremaining: 3m 36s\n",
      "300:\ttest: 0.7426339\tbest: 0.7426436 (298)\ttotal: 24.7s\tremaining: 1m 51s\n",
      "600:\ttest: 0.7431566\tbest: 0.7432759 (554)\ttotal: 52s\tremaining: 1m 31s\n"
     ]
    },
    {
     "name": "stderr",
     "output_type": "stream",
     "text": [
      "[I 2025-02-26 16:32:13,098] Trial 26 finished with value: 0.7432758958406682 and parameters: {'iterations': 1656, 'depth': 7, 'learning_rate': 0.04022678549857879, 'l2_leaf_reg': 0.22714252060039108}. Best is trial 19 with value: 0.7433219064993528.\n"
     ]
    },
    {
     "name": "stdout",
     "output_type": "stream",
     "text": [
      "Stopped by overfitting detector  (300 iterations wait)\n",
      "\n",
      "bestTest = 0.7432758958\n",
      "bestIteration = 554\n",
      "\n",
      "Shrink model to first 555 iterations.\n",
      "0:\ttest: 0.7256274\tbest: 0.7256274 (0)\ttotal: 126ms\tremaining: 3m 31s\n",
      "300:\ttest: 0.7423498\tbest: 0.7423498 (300)\ttotal: 28.3s\tremaining: 2m 8s\n",
      "600:\ttest: 0.7422180\tbest: 0.7426302 (381)\ttotal: 60s\tremaining: 1m 46s\n"
     ]
    },
    {
     "name": "stderr",
     "output_type": "stream",
     "text": [
      "[I 2025-02-26 16:33:21,826] Trial 27 finished with value: 0.7426302019443429 and parameters: {'iterations': 1673, 'depth': 8, 'learning_rate': 0.041012643574234245, 'l2_leaf_reg': 0.4265378873451723}. Best is trial 19 with value: 0.7433219064993528.\n"
     ]
    },
    {
     "name": "stdout",
     "output_type": "stream",
     "text": [
      "Stopped by overfitting detector  (300 iterations wait)\n",
      "\n",
      "bestTest = 0.7426302019\n",
      "bestIteration = 381\n",
      "\n",
      "Shrink model to first 382 iterations.\n",
      "0:\ttest: 0.7256274\tbest: 0.7256274 (0)\ttotal: 210ms\tremaining: 6m 26s\n",
      "300:\ttest: 0.7407782\tbest: 0.7411047 (263)\ttotal: 31.7s\tremaining: 2m 42s\n"
     ]
    },
    {
     "name": "stderr",
     "output_type": "stream",
     "text": [
      "[I 2025-02-26 16:34:25,005] Trial 28 finished with value: 0.7411047264378651 and parameters: {'iterations': 1841, 'depth': 9, 'learning_rate': 0.05025098865269173, 'l2_leaf_reg': 0.00951122315115959}. Best is trial 19 with value: 0.7433219064993528.\n"
     ]
    },
    {
     "name": "stdout",
     "output_type": "stream",
     "text": [
      "Stopped by overfitting detector  (300 iterations wait)\n",
      "\n",
      "bestTest = 0.7411047264\n",
      "bestIteration = 263\n",
      "\n",
      "Shrink model to first 264 iterations.\n",
      "0:\ttest: 0.7113893\tbest: 0.7113893 (0)\ttotal: 73.8ms\tremaining: 2m 50s\n",
      "300:\ttest: 0.7417850\tbest: 0.7418121 (290)\ttotal: 21.1s\tremaining: 2m 20s\n",
      "600:\ttest: 0.7430219\tbest: 0.7430423 (586)\ttotal: 43.8s\tremaining: 2m 4s\n",
      "900:\ttest: 0.7429783\tbest: 0.7431082 (799)\ttotal: 1m 6s\tremaining: 1m 44s\n"
     ]
    },
    {
     "name": "stderr",
     "output_type": "stream",
     "text": [
      "[I 2025-02-26 16:35:47,106] Trial 29 finished with value: 0.7431081814900855 and parameters: {'iterations': 2313, 'depth': 6, 'learning_rate': 0.03645577750863379, 'l2_leaf_reg': 0.02833796897824611}. Best is trial 19 with value: 0.7433219064993528.\n"
     ]
    },
    {
     "name": "stdout",
     "output_type": "stream",
     "text": [
      "Stopped by overfitting detector  (300 iterations wait)\n",
      "\n",
      "bestTest = 0.7431081815\n",
      "bestIteration = 799\n",
      "\n",
      "Shrink model to first 800 iterations.\n",
      "0:\ttest: 0.7056529\tbest: 0.7056529 (0)\ttotal: 65.2ms\tremaining: 2m 43s\n",
      "300:\ttest: 0.7424549\tbest: 0.7424913 (293)\ttotal: 18.1s\tremaining: 2m 13s\n",
      "600:\ttest: 0.7429263\tbest: 0.7429551 (591)\ttotal: 37.5s\tremaining: 1m 59s\n",
      "900:\ttest: 0.7425578\tbest: 0.7429557 (753)\ttotal: 57s\tremaining: 1m 41s\n"
     ]
    },
    {
     "name": "stderr",
     "output_type": "stream",
     "text": [
      "[I 2025-02-26 16:36:54,213] Trial 30 finished with value: 0.7429556994590605 and parameters: {'iterations': 2513, 'depth': 5, 'learning_rate': 0.0606728832899098, 'l2_leaf_reg': 0.4763386213455399}. Best is trial 19 with value: 0.7433219064993528.\n"
     ]
    },
    {
     "name": "stdout",
     "output_type": "stream",
     "text": [
      "Stopped by overfitting detector  (300 iterations wait)\n",
      "\n",
      "bestTest = 0.7429556995\n",
      "bestIteration = 753\n",
      "\n",
      "Shrink model to first 754 iterations.\n",
      "0:\ttest: 0.7256226\tbest: 0.7256226 (0)\ttotal: 98.1ms\tremaining: 2m 38s\n",
      "300:\ttest: 0.7404970\tbest: 0.7404970 (300)\ttotal: 23.4s\tremaining: 1m 42s\n",
      "600:\ttest: 0.7419847\tbest: 0.7419847 (600)\ttotal: 47.2s\tremaining: 1m 19s\n",
      "900:\ttest: 0.7424940\tbest: 0.7424971 (899)\ttotal: 1m 11s\tremaining: 56.7s\n",
      "1200:\ttest: 0.7427977\tbest: 0.7427977 (1199)\ttotal: 1m 38s\tremaining: 34.3s\n",
      "1500:\ttest: 0.7429950\tbest: 0.7429966 (1498)\ttotal: 2m 5s\tremaining: 9.85s\n"
     ]
    },
    {
     "name": "stderr",
     "output_type": "stream",
     "text": [
      "[I 2025-02-26 16:39:10,652] Trial 31 finished with value: 0.7430282316668393 and parameters: {'iterations': 1619, 'depth': 7, 'learning_rate': 0.014710057240723353, 'l2_leaf_reg': 18.940918659290105}. Best is trial 19 with value: 0.7433219064993528.\n"
     ]
    },
    {
     "name": "stdout",
     "output_type": "stream",
     "text": [
      "1618:\ttest: 0.7430151\tbest: 0.7430282 (1598)\ttotal: 2m 16s\tremaining: 0us\n",
      "\n",
      "bestTest = 0.7430282317\n",
      "bestIteration = 1598\n",
      "\n",
      "Shrink model to first 1599 iterations.\n",
      "0:\ttest: 0.7256267\tbest: 0.7256267 (0)\ttotal: 97ms\tremaining: 2m 53s\n",
      "300:\ttest: 0.7370757\tbest: 0.7370757 (300)\ttotal: 23.4s\tremaining: 1m 55s\n",
      "600:\ttest: 0.7399916\tbest: 0.7399916 (600)\ttotal: 47s\tremaining: 1m 33s\n",
      "900:\ttest: 0.7411781\tbest: 0.7411781 (900)\ttotal: 1m 11s\tremaining: 1m 10s\n",
      "1200:\ttest: 0.7417032\tbest: 0.7417044 (1197)\ttotal: 1m 34s\tremaining: 46.7s\n",
      "1500:\ttest: 0.7420057\tbest: 0.7420057 (1500)\ttotal: 1m 57s\tremaining: 22.7s\n"
     ]
    },
    {
     "name": "stderr",
     "output_type": "stream",
     "text": [
      "[I 2025-02-26 16:41:30,429] Trial 32 finished with value: 0.7423030445991834 and parameters: {'iterations': 1792, 'depth': 7, 'learning_rate': 0.006503228171049567, 'l2_leaf_reg': 26.17848631577509}. Best is trial 19 with value: 0.7433219064993528.\n"
     ]
    },
    {
     "name": "stdout",
     "output_type": "stream",
     "text": [
      "1791:\ttest: 0.7423028\tbest: 0.7423030 (1789)\ttotal: 2m 19s\tremaining: 0us\n",
      "\n",
      "bestTest = 0.7423030446\n",
      "bestIteration = 1789\n",
      "\n",
      "Shrink model to first 1790 iterations.\n",
      "0:\ttest: 0.7113892\tbest: 0.7113892 (0)\ttotal: 83.2ms\tremaining: 2m 13s\n",
      "300:\ttest: 0.7414634\tbest: 0.7414634 (300)\ttotal: 20.9s\tremaining: 1m 30s\n",
      "600:\ttest: 0.7425616\tbest: 0.7425741 (594)\ttotal: 42.8s\tremaining: 1m 11s\n",
      "900:\ttest: 0.7427509\tbest: 0.7428127 (803)\ttotal: 1m 5s\tremaining: 51.2s\n"
     ]
    },
    {
     "name": "stderr",
     "output_type": "stream",
     "text": [
      "[I 2025-02-26 16:42:51,757] Trial 33 finished with value: 0.7428126879916811 and parameters: {'iterations': 1604, 'depth': 6, 'learning_rate': 0.02722189031187739, 'l2_leaf_reg': 2.7542678548630035}. Best is trial 19 with value: 0.7433219064993528.\n"
     ]
    },
    {
     "name": "stdout",
     "output_type": "stream",
     "text": [
      "Stopped by overfitting detector  (300 iterations wait)\n",
      "\n",
      "bestTest = 0.742812688\n",
      "bestIteration = 803\n",
      "\n",
      "Shrink model to first 804 iterations.\n",
      "0:\ttest: 0.7256088\tbest: 0.7256088 (0)\ttotal: 113ms\tremaining: 2m 51s\n",
      "300:\ttest: 0.7422195\tbest: 0.7422319 (296)\ttotal: 24.2s\tremaining: 1m 38s\n",
      "600:\ttest: 0.7425921\tbest: 0.7426887 (499)\ttotal: 50.6s\tremaining: 1m 17s\n"
     ]
    },
    {
     "name": "stderr",
     "output_type": "stream",
     "text": [
      "[I 2025-02-26 16:44:00,111] Trial 34 finished with value: 0.7426887208946349 and parameters: {'iterations': 1525, 'depth': 7, 'learning_rate': 0.04369148365113854, 'l2_leaf_reg': 0.10480952572062101}. Best is trial 19 with value: 0.7433219064993528.\n"
     ]
    },
    {
     "name": "stdout",
     "output_type": "stream",
     "text": [
      "Stopped by overfitting detector  (300 iterations wait)\n",
      "\n",
      "bestTest = 0.7426887209\n",
      "bestIteration = 499\n",
      "\n",
      "Shrink model to first 500 iterations.\n",
      "0:\ttest: 0.7256268\tbest: 0.7256268 (0)\ttotal: 96.3ms\tremaining: 4m 17s\n",
      "300:\ttest: 0.7411106\tbest: 0.7411106 (300)\ttotal: 26.5s\tremaining: 3m 29s\n",
      "600:\ttest: 0.7422964\tbest: 0.7422969 (599)\ttotal: 52.9s\tremaining: 3m 2s\n",
      "900:\ttest: 0.7428367\tbest: 0.7428367 (900)\ttotal: 1m 21s\tremaining: 2m 40s\n",
      "1200:\ttest: 0.7429713\tbest: 0.7430100 (1074)\ttotal: 1m 53s\tremaining: 2m 19s\n"
     ]
    },
    {
     "name": "stderr",
     "output_type": "stream",
     "text": [
      "[I 2025-02-26 16:46:12,124] Trial 35 finished with value: 0.7430099854446371 and parameters: {'iterations': 2678, 'depth': 8, 'learning_rate': 0.016259420985453674, 'l2_leaf_reg': 9.971230264853805}. Best is trial 19 with value: 0.7433219064993528.\n"
     ]
    },
    {
     "name": "stdout",
     "output_type": "stream",
     "text": [
      "Stopped by overfitting detector  (300 iterations wait)\n",
      "\n",
      "bestTest = 0.7430099854\n",
      "bestIteration = 1074\n",
      "\n",
      "Shrink model to first 1075 iterations.\n",
      "0:\ttest: 0.7256274\tbest: 0.7256274 (0)\ttotal: 134ms\tremaining: 4m 52s\n",
      "300:\ttest: 0.7416802\tbest: 0.7416940 (298)\ttotal: 30.5s\tremaining: 3m 10s\n",
      "600:\ttest: 0.7422467\tbest: 0.7423520 (563)\ttotal: 1m 3s\tremaining: 2m 45s\n"
     ]
    },
    {
     "name": "stderr",
     "output_type": "stream",
     "text": [
      "[I 2025-02-26 16:47:46,458] Trial 36 finished with value: 0.7423520175389915 and parameters: {'iterations': 2181, 'depth': 9, 'learning_rate': 0.02563924765531157, 'l2_leaf_reg': 0.43165944423606806}. Best is trial 19 with value: 0.7433219064993528.\n"
     ]
    },
    {
     "name": "stdout",
     "output_type": "stream",
     "text": [
      "Stopped by overfitting detector  (300 iterations wait)\n",
      "\n",
      "bestTest = 0.7423520175\n",
      "bestIteration = 563\n",
      "\n",
      "Shrink model to first 564 iterations.\n",
      "0:\ttest: 0.7113893\tbest: 0.7113893 (0)\ttotal: 83ms\tremaining: 2m 49s\n",
      "300:\ttest: 0.7371963\tbest: 0.7371963 (300)\ttotal: 19.8s\tremaining: 1m 54s\n",
      "600:\ttest: 0.7401087\tbest: 0.7401087 (600)\ttotal: 40.3s\tremaining: 1m 36s\n",
      "900:\ttest: 0.7412623\tbest: 0.7412623 (900)\ttotal: 1m 1s\tremaining: 1m 17s\n",
      "1200:\ttest: 0.7417427\tbest: 0.7417430 (1196)\ttotal: 1m 23s\tremaining: 58s\n",
      "1500:\ttest: 0.7421592\tbest: 0.7421663 (1499)\ttotal: 1m 44s\tremaining: 37.5s\n",
      "1800:\ttest: 0.7425527\tbest: 0.7425585 (1796)\ttotal: 2m 6s\tremaining: 16.8s\n"
     ]
    },
    {
     "name": "stderr",
     "output_type": "stream",
     "text": [
      "[I 2025-02-26 16:50:12,035] Trial 37 finished with value: 0.7428118263093704 and parameters: {'iterations': 2040, 'depth': 6, 'learning_rate': 0.007854056834208062, 'l2_leaf_reg': 0.02694078029855476}. Best is trial 19 with value: 0.7433219064993528.\n"
     ]
    },
    {
     "name": "stdout",
     "output_type": "stream",
     "text": [
      "2039:\ttest: 0.7428118\tbest: 0.7428118 (2039)\ttotal: 2m 25s\tremaining: 0us\n",
      "\n",
      "bestTest = 0.7428118263\n",
      "bestIteration = 2039\n",
      "\n",
      "0:\ttest: 0.7056529\tbest: 0.7056529 (0)\ttotal: 65.7ms\tremaining: 2m 37s\n",
      "300:\ttest: 0.7412647\tbest: 0.7412647 (300)\ttotal: 17.9s\tremaining: 2m 5s\n",
      "600:\ttest: 0.7426736\tbest: 0.7426987 (577)\ttotal: 36.8s\tremaining: 1m 50s\n",
      "900:\ttest: 0.7425211\tbest: 0.7428273 (700)\ttotal: 56.3s\tremaining: 1m 33s\n"
     ]
    },
    {
     "name": "stderr",
     "output_type": "stream",
     "text": [
      "[I 2025-02-26 16:51:15,074] Trial 38 finished with value: 0.7428272571732392 and parameters: {'iterations': 2404, 'depth': 5, 'learning_rate': 0.03546255350971265, 'l2_leaf_reg': 0.0024599881747061083}. Best is trial 19 with value: 0.7433219064993528.\n"
     ]
    },
    {
     "name": "stdout",
     "output_type": "stream",
     "text": [
      "Stopped by overfitting detector  (300 iterations wait)\n",
      "\n",
      "bestTest = 0.7428272572\n",
      "bestIteration = 700\n",
      "\n",
      "Shrink model to first 701 iterations.\n",
      "0:\ttest: 0.7256087\tbest: 0.7256087 (0)\ttotal: 86.5ms\tremaining: 2m 32s\n",
      "300:\ttest: 0.7424536\tbest: 0.7424567 (299)\ttotal: 24.6s\tremaining: 1m 59s\n",
      "600:\ttest: 0.7430378\tbest: 0.7432097 (459)\ttotal: 52.2s\tremaining: 1m 41s\n"
     ]
    },
    {
     "name": "stderr",
     "output_type": "stream",
     "text": [
      "[I 2025-02-26 16:52:22,182] Trial 39 finished with value: 0.7432097051381902 and parameters: {'iterations': 1767, 'depth': 7, 'learning_rate': 0.04553223444486671, 'l2_leaf_reg': 1.0005365501241053}. Best is trial 19 with value: 0.7433219064993528.\n",
      "[I 2025-02-26 16:52:22,187] A new study created in memory with name: no-name-afc72f1d-3935-4dda-8929-25be77615575\n"
     ]
    },
    {
     "name": "stdout",
     "output_type": "stream",
     "text": [
      "Stopped by overfitting detector  (300 iterations wait)\n",
      "\n",
      "bestTest = 0.7432097051\n",
      "bestIteration = 459\n",
      "\n",
      "Shrink model to first 460 iterations.\n"
     ]
    },
    {
     "name": "stderr",
     "output_type": "stream",
     "text": [
      "[I 2025-02-26 16:52:45,696] Trial 0 finished with value: 0.732142376665624 and parameters: {'num_iterations': 2366, 'objective': 'binary', 'metric': 'auc', 'verbose': -1, 'learning_rate': 0.0652646236447618, 'n_estimators': 236, 'min_child_samples': 45, 'subsample': 0.7, 'colsample_bytree': 0.5}. Best is trial 0 with value: 0.732142376665624.\n",
      "[I 2025-02-26 16:53:03,081] Trial 1 finished with value: 0.7432274549996142 and parameters: {'num_iterations': 1510, 'objective': 'binary', 'metric': 'auc', 'verbose': -1, 'learning_rate': 0.005231880959249543, 'n_estimators': 1411, 'min_child_samples': 10, 'subsample': 1.0, 'colsample_bytree': 0.5}. Best is trial 1 with value: 0.7432274549996142.\n",
      "[I 2025-02-26 16:53:22,954] Trial 2 finished with value: 0.7420994572624475 and parameters: {'num_iterations': 2334, 'objective': 'binary', 'metric': 'auc', 'verbose': -1, 'learning_rate': 0.006578527777128852, 'n_estimators': 931, 'min_child_samples': 15, 'subsample': 0.5, 'colsample_bytree': 1.0}. Best is trial 1 with value: 0.7432274549996142.\n",
      "[I 2025-02-26 16:53:39,841] Trial 3 finished with value: 0.7431921776463948 and parameters: {'num_iterations': 1620, 'objective': 'binary', 'metric': 'auc', 'verbose': -1, 'learning_rate': 0.0058823249237283685, 'n_estimators': 837, 'min_child_samples': 10, 'subsample': 0.9, 'colsample_bytree': 0.6}. Best is trial 1 with value: 0.7432274549996142.\n",
      "[I 2025-02-26 16:53:56,562] Trial 4 finished with value: 0.7426559610832819 and parameters: {'num_iterations': 1997, 'objective': 'binary', 'metric': 'auc', 'verbose': -1, 'learning_rate': 0.010907507425244923, 'n_estimators': 1597, 'min_child_samples': 50, 'subsample': 0.6, 'colsample_bytree': 0.8}. Best is trial 1 with value: 0.7432274549996142.\n",
      "[I 2025-02-26 16:54:19,532] Trial 5 finished with value: 0.7389754101758693 and parameters: {'num_iterations': 2909, 'objective': 'binary', 'metric': 'auc', 'verbose': -1, 'learning_rate': 0.019760591962733942, 'n_estimators': 612, 'min_child_samples': 30, 'subsample': 0.7, 'colsample_bytree': 0.9}. Best is trial 1 with value: 0.7432274549996142.\n",
      "[I 2025-02-26 16:54:40,343] Trial 6 finished with value: 0.7408026134721242 and parameters: {'num_iterations': 2639, 'objective': 'binary', 'metric': 'auc', 'verbose': -1, 'learning_rate': 0.017862094446750985, 'n_estimators': 794, 'min_child_samples': 35, 'subsample': 1.0, 'colsample_bytree': 0.8}. Best is trial 1 with value: 0.7432274549996142.\n",
      "[I 2025-02-26 16:54:57,112] Trial 7 finished with value: 0.7424743168638233 and parameters: {'num_iterations': 1580, 'objective': 'binary', 'metric': 'auc', 'verbose': -1, 'learning_rate': 0.01776722177611332, 'n_estimators': 529, 'min_child_samples': 25, 'subsample': 0.8, 'colsample_bytree': 0.5}. Best is trial 1 with value: 0.7432274549996142.\n",
      "[I 2025-02-26 16:55:14,963] Trial 8 finished with value: 0.7388533213080074 and parameters: {'num_iterations': 1911, 'objective': 'binary', 'metric': 'auc', 'verbose': -1, 'learning_rate': 0.0304747553332844, 'n_estimators': 1328, 'min_child_samples': 10, 'subsample': 0.7, 'colsample_bytree': 0.6}. Best is trial 1 with value: 0.7432274549996142.\n",
      "[I 2025-02-26 16:55:42,869] Trial 9 finished with value: 0.7385514227701226 and parameters: {'num_iterations': 2739, 'objective': 'binary', 'metric': 'auc', 'verbose': -1, 'learning_rate': 0.02691531614176271, 'n_estimators': 1438, 'min_child_samples': 20, 'subsample': 0.6, 'colsample_bytree': 0.5}. Best is trial 1 with value: 0.7432274549996142.\n",
      "[I 2025-02-26 16:55:57,953] Trial 10 finished with value: 0.7319099011316041 and parameters: {'num_iterations': 1933, 'objective': 'binary', 'metric': 'auc', 'verbose': -1, 'learning_rate': 0.08223556891145911, 'n_estimators': 1960, 'min_child_samples': 40, 'subsample': 1.0, 'colsample_bytree': 0.7}. Best is trial 1 with value: 0.7432274549996142.\n",
      "[I 2025-02-26 16:56:13,685] Trial 11 finished with value: 0.7431959619009668 and parameters: {'num_iterations': 1513, 'objective': 'binary', 'metric': 'auc', 'verbose': -1, 'learning_rate': 0.005340229419903739, 'n_estimators': 1206, 'min_child_samples': 10, 'subsample': 0.9, 'colsample_bytree': 0.6}. Best is trial 1 with value: 0.7432274549996142.\n",
      "[I 2025-02-26 16:56:30,020] Trial 12 finished with value: 0.7431985985694199 and parameters: {'num_iterations': 1550, 'objective': 'binary', 'metric': 'auc', 'verbose': -1, 'learning_rate': 0.005009803090245928, 'n_estimators': 1192, 'min_child_samples': 20, 'subsample': 0.9, 'colsample_bytree': 0.6}. Best is trial 1 with value: 0.7432274549996142.\n",
      "[I 2025-02-26 16:56:45,627] Trial 13 finished with value: 0.7430733727014406 and parameters: {'num_iterations': 1777, 'objective': 'binary', 'metric': 'auc', 'verbose': -1, 'learning_rate': 0.01061042275547689, 'n_estimators': 1698, 'min_child_samples': 20, 'subsample': 0.9, 'colsample_bytree': 0.7}. Best is trial 1 with value: 0.7432274549996142.\n",
      "[I 2025-02-26 16:57:06,953] Trial 14 finished with value: 0.7427221914946222 and parameters: {'num_iterations': 2165, 'objective': 'binary', 'metric': 'auc', 'verbose': -1, 'learning_rate': 0.011084406731310557, 'n_estimators': 1104, 'min_child_samples': 20, 'subsample': 1.0, 'colsample_bytree': 0.6}. Best is trial 1 with value: 0.7432274549996142.\n",
      "[I 2025-02-26 16:57:26,107] Trial 15 finished with value: 0.7433182771093435 and parameters: {'num_iterations': 1745, 'objective': 'binary', 'metric': 'auc', 'verbose': -1, 'learning_rate': 0.008235043203871414, 'n_estimators': 1836, 'min_child_samples': 25, 'subsample': 0.8, 'colsample_bytree': 0.5}. Best is trial 15 with value: 0.7433182771093435.\n",
      "[I 2025-02-26 16:57:45,436] Trial 16 finished with value: 0.743252539087895 and parameters: {'num_iterations': 1766, 'objective': 'binary', 'metric': 'auc', 'verbose': -1, 'learning_rate': 0.00832239661073869, 'n_estimators': 1981, 'min_child_samples': 30, 'subsample': 0.8, 'colsample_bytree': 0.5}. Best is trial 15 with value: 0.7433182771093435.\n",
      "[I 2025-02-26 16:58:00,895] Trial 17 finished with value: 0.743042638042062 and parameters: {'num_iterations': 1770, 'objective': 'binary', 'metric': 'auc', 'verbose': -1, 'learning_rate': 0.008304533336298605, 'n_estimators': 1961, 'min_child_samples': 30, 'subsample': 0.8, 'colsample_bytree': 0.7}. Best is trial 15 with value: 0.7433182771093435.\n",
      "[I 2025-02-26 16:58:22,858] Trial 18 finished with value: 0.7426404627143472 and parameters: {'num_iterations': 2102, 'objective': 'binary', 'metric': 'auc', 'verbose': -1, 'learning_rate': 0.01356820322695768, 'n_estimators': 1759, 'min_child_samples': 35, 'subsample': 0.8, 'colsample_bytree': 0.5}. Best is trial 15 with value: 0.7433182771093435.\n",
      "[I 2025-02-26 16:58:36,594] Trial 19 finished with value: 0.7389126066393408 and parameters: {'num_iterations': 1766, 'objective': 'binary', 'metric': 'auc', 'verbose': -1, 'learning_rate': 0.036046045230807594, 'n_estimators': 1833, 'min_child_samples': 30, 'subsample': 0.6, 'colsample_bytree': 0.9}. Best is trial 15 with value: 0.7433182771093435.\n",
      "[I 2025-02-26 16:59:03,284] Trial 20 finished with value: 0.7429127940334035 and parameters: {'num_iterations': 2504, 'objective': 'binary', 'metric': 'auc', 'verbose': -1, 'learning_rate': 0.007877155758725746, 'n_estimators': 1570, 'min_child_samples': 25, 'subsample': 0.8, 'colsample_bytree': 0.5}. Best is trial 15 with value: 0.7433182771093435.\n",
      "[I 2025-02-26 16:59:21,989] Trial 21 finished with value: 0.7432927641653504 and parameters: {'num_iterations': 1703, 'objective': 'binary', 'metric': 'auc', 'verbose': -1, 'learning_rate': 0.007958519680625017, 'n_estimators': 1444, 'min_child_samples': 35, 'subsample': 0.9, 'colsample_bytree': 0.5}. Best is trial 15 with value: 0.7433182771093435.\n",
      "[I 2025-02-26 16:59:38,900] Trial 22 finished with value: 0.743375513463385 and parameters: {'num_iterations': 1714, 'objective': 'binary', 'metric': 'auc', 'verbose': -1, 'learning_rate': 0.008737945925178545, 'n_estimators': 1989, 'min_child_samples': 35, 'subsample': 0.9, 'colsample_bytree': 0.6}. Best is trial 22 with value: 0.743375513463385.\n",
      "[I 2025-02-26 16:59:55,181] Trial 23 finished with value: 0.7430873661044961 and parameters: {'num_iterations': 1682, 'objective': 'binary', 'metric': 'auc', 'verbose': -1, 'learning_rate': 0.013923730020120035, 'n_estimators': 1630, 'min_child_samples': 40, 'subsample': 0.9, 'colsample_bytree': 0.6}. Best is trial 22 with value: 0.743375513463385.\n",
      "[I 2025-02-26 17:00:15,545] Trial 24 finished with value: 0.7433251824804881 and parameters: {'num_iterations': 2039, 'objective': 'binary', 'metric': 'auc', 'verbose': -1, 'learning_rate': 0.007179504527852681, 'n_estimators': 1822, 'min_child_samples': 35, 'subsample': 0.9, 'colsample_bytree': 0.6}. Best is trial 22 with value: 0.743375513463385.\n",
      "[I 2025-02-26 17:00:31,957] Trial 25 finished with value: 0.7376037191510982 and parameters: {'num_iterations': 2050, 'objective': 'binary', 'metric': 'auc', 'verbose': -1, 'learning_rate': 0.040985709725715073, 'n_estimators': 1821, 'min_child_samples': 40, 'subsample': 0.9, 'colsample_bytree': 0.7}. Best is trial 22 with value: 0.743375513463385.\n",
      "[I 2025-02-26 17:00:50,388] Trial 26 finished with value: 0.742497788772297 and parameters: {'num_iterations': 1872, 'objective': 'binary', 'metric': 'auc', 'verbose': -1, 'learning_rate': 0.013871373485008012, 'n_estimators': 1745, 'min_child_samples': 25, 'subsample': 0.8, 'colsample_bytree': 0.6}. Best is trial 22 with value: 0.743375513463385.\n",
      "[I 2025-02-26 17:01:09,933] Trial 27 finished with value: 0.7433462043521611 and parameters: {'num_iterations': 2185, 'objective': 'binary', 'metric': 'auc', 'verbose': -1, 'learning_rate': 0.006564621093239974, 'n_estimators': 1871, 'min_child_samples': 45, 'subsample': 1.0, 'colsample_bytree': 0.7}. Best is trial 22 with value: 0.743375513463385.\n",
      "[I 2025-02-26 17:01:29,082] Trial 28 finished with value: 0.7429396729622579 and parameters: {'num_iterations': 2223, 'objective': 'binary', 'metric': 'auc', 'verbose': -1, 'learning_rate': 0.00707714484945746, 'n_estimators': 1544, 'min_child_samples': 50, 'subsample': 1.0, 'colsample_bytree': 0.8}. Best is trial 22 with value: 0.743375513463385.\n",
      "[I 2025-02-26 17:01:49,517] Trial 29 finished with value: 0.742846754224602 and parameters: {'num_iterations': 2362, 'objective': 'binary', 'metric': 'auc', 'verbose': -1, 'learning_rate': 0.010376148502160063, 'n_estimators': 315, 'min_child_samples': 45, 'subsample': 1.0, 'colsample_bytree': 0.7}. Best is trial 22 with value: 0.743375513463385.\n",
      "[I 2025-02-26 17:02:11,664] Trial 30 finished with value: 0.7431694443227589 and parameters: {'num_iterations': 2462, 'objective': 'binary', 'metric': 'auc', 'verbose': -1, 'learning_rate': 0.006574803244015271, 'n_estimators': 104, 'min_child_samples': 45, 'subsample': 1.0, 'colsample_bytree': 0.7}. Best is trial 22 with value: 0.743375513463385.\n",
      "[I 2025-02-26 17:02:32,709] Trial 31 finished with value: 0.7430631556111846 and parameters: {'num_iterations': 2125, 'objective': 'binary', 'metric': 'auc', 'verbose': -1, 'learning_rate': 0.009800145285393023, 'n_estimators': 1803, 'min_child_samples': 35, 'subsample': 0.9, 'colsample_bytree': 0.6}. Best is trial 22 with value: 0.743375513463385.\n",
      "[I 2025-02-26 17:02:50,801] Trial 32 finished with value: 0.7356863251160237 and parameters: {'num_iterations': 1988, 'objective': 'binary', 'metric': 'auc', 'verbose': -1, 'learning_rate': 0.051758205311755005, 'n_estimators': 1882, 'min_child_samples': 40, 'subsample': 0.9, 'colsample_bytree': 0.6}. Best is trial 22 with value: 0.743375513463385.\n",
      "[I 2025-02-26 17:03:15,545] Trial 33 finished with value: 0.7431484423055169 and parameters: {'num_iterations': 2276, 'objective': 'binary', 'metric': 'auc', 'verbose': -1, 'learning_rate': 0.00609027414263851, 'n_estimators': 1978, 'min_child_samples': 45, 'subsample': 1.0, 'colsample_bytree': 0.5}. Best is trial 22 with value: 0.743375513463385.\n",
      "[I 2025-02-26 17:03:33,734] Trial 34 finished with value: 0.743102832706341 and parameters: {'num_iterations': 1854, 'objective': 'binary', 'metric': 'auc', 'verbose': -1, 'learning_rate': 0.008825865727459354, 'n_estimators': 1674, 'min_child_samples': 25, 'subsample': 0.8, 'colsample_bytree': 0.6}. Best is trial 22 with value: 0.743375513463385.\n",
      "[I 2025-02-26 17:03:51,466] Trial 35 finished with value: 0.7432081009001554 and parameters: {'num_iterations': 2034, 'objective': 'binary', 'metric': 'auc', 'verbose': -1, 'learning_rate': 0.0066433412481986575, 'n_estimators': 1523, 'min_child_samples': 50, 'subsample': 0.5, 'colsample_bytree': 0.7}. Best is trial 22 with value: 0.743375513463385.\n",
      "[I 2025-02-26 17:04:05,184] Trial 36 finished with value: 0.74267523179413 and parameters: {'num_iterations': 1657, 'objective': 'binary', 'metric': 'auc', 'verbose': -1, 'learning_rate': 0.012122137800129964, 'n_estimators': 1321, 'min_child_samples': 35, 'subsample': 0.7, 'colsample_bytree': 0.8}. Best is trial 22 with value: 0.743375513463385.\n",
      "[I 2025-02-26 17:04:24,149] Trial 37 finished with value: 0.742461105725354 and parameters: {'num_iterations': 2225, 'objective': 'binary', 'metric': 'auc', 'verbose': -1, 'learning_rate': 0.00573241293048583, 'n_estimators': 1856, 'min_child_samples': 45, 'subsample': 0.9, 'colsample_bytree': 1.0}. Best is trial 22 with value: 0.743375513463385.\n",
      "[I 2025-02-26 17:04:42,559] Trial 38 finished with value: 0.7432205218322661 and parameters: {'num_iterations': 1854, 'objective': 'binary', 'metric': 'auc', 'verbose': -1, 'learning_rate': 0.007059043665273918, 'n_estimators': 1898, 'min_child_samples': 15, 'subsample': 1.0, 'colsample_bytree': 0.6}. Best is trial 22 with value: 0.743375513463385.\n",
      "[I 2025-02-26 17:05:01,668] Trial 39 finished with value: 0.742041053467856 and parameters: {'num_iterations': 2311, 'objective': 'binary', 'metric': 'auc', 'verbose': -1, 'learning_rate': 0.009599590615621642, 'n_estimators': 902, 'min_child_samples': 30, 'subsample': 0.9, 'colsample_bytree': 0.9}. Best is trial 22 with value: 0.743375513463385.\n"
     ]
    },
    {
     "name": "stdout",
     "output_type": "stream",
     "text": [
      "Cat val score : 0.7433219064993528\n",
      "LGBM val score : 0.7434243156550855\n",
      "Ensemble val score : 0.743633589300895\n"
     ]
    }
   ],
   "source": [
    "for col in X.columns:\n",
    "    if X[col].dtype == 'object':  # 문자형이면 category로 변환\n",
    "        X[col] = X[col].astype('category')\n",
    "        test[col] = test[col].astype('category')\n",
    "seed = 4972\n",
    "\n",
    "test_pred_total = []\n",
    "scores_total = []\n",
    "seed_everything(seed)\n",
    "print('Seed {} Start!'.format(seed))\n",
    "cv = StratifiedKFold(n_splits = 10, random_state = seed, shuffle=True)\n",
    "\n",
    "cat_param_list = []\n",
    "lgbm_param_list = []\n",
    "for idx, (train_idx, val_idx) in enumerate(cv.split(X, y)):\n",
    "    print('='*50)\n",
    "    X_train, X_val = X.iloc[train_idx],X.iloc[val_idx]\n",
    "    y_train, y_val = y.iloc[train_idx], y.iloc[val_idx]\n",
    "    \n",
    "    best_val_auc = 0\n",
    "\n",
    "    sampler = TPESampler(seed=seed)\n",
    "    optuna_cat = optuna.create_study(direction='maximize', sampler=sampler)\n",
    "    optuna_cat.optimize(objective_cat, n_trials = 40)\n",
    "    cat_trial = optuna_cat.best_trial\n",
    "    cat_trial_params = cat_trial.params\n",
    "    cat_param_list.append(cat_trial_params)\n",
    "    \n",
    "    model = CatBoostClassifier(**cat_trial_params, auto_class_weights='Balanced', eval_metric='AUC', random_state=seed)\n",
    "    model.load_model(\"./weight/cat_fold_cpu{}.cbm\".format(idx))\n",
    "    #model = CatBoostClassifier(auto_class_weights='Balanced', eval_metric='AUC', random_state=seed, task_type=\"CPU\" )\n",
    "    #model.fit(X_train,y_train,cat_features=categorical_columns,early_stopping_rounds = 300,eval_set=[(X_val,y_val)], verbose = 300)\n",
    "    \n",
    "    # model_cpu = CatBoostClassifier(auto_class_weights='Balanced',eval_metric='AUC', random_state = 501, task_type=\"cpu\" )\n",
    "    # model_cpu.fit(X_train,y_train,cat_features=categorical_columns, early_stopping_rounds = 300,eval_set=[(X_val,y_val)], verbose = 300)\n",
    "    # model_cpu.save_model(\"cat_fold_{}.cbm\".format(idx))\n",
    "\n",
    "\n",
    "    sampler = TPESampler(seed=seed)\n",
    "    optuna_lgbm = optuna.create_study(direction='maximize', sampler=sampler)\n",
    "    optuna_lgbm.optimize(objective_lgbm, n_trials = 40)\n",
    "    lgbm_trial = optuna_lgbm.best_trial\n",
    "    lgbm_trial_params = lgbm_trial.params\n",
    "    lgbm_param_list.append(lgbm_trial_params)\n",
    "    \n",
    "    # lgbm_trial_params =loaded_lgbm_params[idx]\n",
    "    #print(lgbm_trial_params)\n",
    "\n",
    "    class_weights = compute_class_weight(class_weight=\"balanced\", classes=np.unique(y), y=y_train)\n",
    "    class_weight_dict = {i: w for i, w in enumerate(class_weights)}\n",
    "    model_lgbm = lgb.LGBMClassifier(**lgbm_trial_params,class_weight=class_weight_dict)\n",
    "    # model_lgbm = lgb.LGBMClassifier(class_weight=class_weight_dict)\n",
    "    #model_lgbm= lgb.LGBMClassifier(objective = 'binary', metric = 'auc', random_state =  seed, class_weight=class_weight_dict)\n",
    "    model_lgbm.fit(X_train, y_train, eval_set=[(X_val, y_val)],categorical_feature=categorical_columns)\n",
    "\n",
    "    val_pred = model.predict_proba(X_val)[:, 1]\n",
    "    val_pred_lgbm = model_lgbm.predict_proba(X_val)[:, 1]\n",
    "    print('Cat val score : {}'.format(roc_auc_score(y_val,val_pred)))\n",
    "    print('LGBM val score : {}'.format(roc_auc_score(y_val,val_pred_lgbm)))\n",
    "\n",
    "    roc_val = roc_auc_score(y_val, (2*val_pred+val_pred_lgbm)/3)\n",
    "    scores_total.append(roc_val)\n",
    "    print('Ensemble val score : {}'.format(roc_val))\n",
    "\n",
    "    test_pred = model.predict_proba(test)[:, 1]\n",
    "    test_pred_lgbm = model_lgbm.predict_proba(test)[:, 1]\n",
    "    test_pred_total.append((2*test_pred+test_pred_lgbm)/3)"
   ]
  },
  {
   "cell_type": "code",
   "execution_count": 26,
   "metadata": {
    "colab": {
     "base_uri": "https://localhost:8080/"
    },
    "id": "LDLeh9IJD9pt",
    "outputId": "0534775f-2085-448a-d2aa-690a9e4e4ff4"
   },
   "outputs": [
    {
     "data": {
      "text/plain": [
       "(0.7410051028000919,\n",
       " [0.7417856909636571,\n",
       "  0.7356142953136564,\n",
       "  0.7432212724216115,\n",
       "  0.7423017897991364,\n",
       "  0.7445990268977984,\n",
       "  0.7391518088546252,\n",
       "  0.7391433707213979,\n",
       "  0.7385618463464623,\n",
       "  0.7420383373816783,\n",
       "  0.743633589300895])"
      ]
     },
     "execution_count": 26,
     "metadata": {},
     "output_type": "execute_result"
    }
   ],
   "source": [
    "np.mean(scores_total), scores_total"
   ]
  },
  {
   "cell_type": "code",
   "execution_count": 27,
   "metadata": {},
   "outputs": [],
   "source": [
    "test_pred_total_mean = np.mean(test_pred_total, axis=(0))"
   ]
  },
  {
   "cell_type": "code",
   "execution_count": 28,
   "metadata": {},
   "outputs": [
    {
     "data": {
      "text/plain": [
       "array([0.00494265, 0.0082187 , 0.32423571, ..., 0.65090426, 0.40064035,\n",
       "       0.00601323])"
      ]
     },
     "execution_count": 28,
     "metadata": {},
     "output_type": "execute_result"
    }
   ],
   "source": [
    "test_pred_total_mean"
   ]
  },
  {
   "cell_type": "code",
   "execution_count": 29,
   "metadata": {
    "colab": {
     "base_uri": "https://localhost:8080/"
    },
    "id": "E8D6DZP0pIm3",
    "outputId": "946ae60d-f2f2-405e-e757-ab31fe0d2375"
   },
   "outputs": [
    {
     "data": {
      "text/plain": [
       "(0.7410051028000919,\n",
       " [0.7417856909636571,\n",
       "  0.7356142953136564,\n",
       "  0.7432212724216115,\n",
       "  0.7423017897991364,\n",
       "  0.7445990268977984,\n",
       "  0.7391518088546252,\n",
       "  0.7391433707213979,\n",
       "  0.7385618463464623,\n",
       "  0.7420383373816783,\n",
       "  0.743633589300895])"
      ]
     },
     "execution_count": 29,
     "metadata": {},
     "output_type": "execute_result"
    }
   ],
   "source": [
    "np.mean(scores_total), scores_total # 불임 원인 인코딩 + make feature 사용\n"
   ]
  },
  {
   "cell_type": "code",
   "execution_count": 30,
   "metadata": {},
   "outputs": [],
   "source": [
    "import json\n",
    "with open(\"lgbm_params.json\", \"w\") as f:\n",
    "    json.dump(lgbm_param_list, f) \n",
    "\n",
    "with open(\"lgbm_params.json\", \"r\") as f:\n",
    "    loaded_lgbm_params =  json.load(f)"
   ]
  },
  {
   "cell_type": "markdown",
   "metadata": {},
   "source": [
    "#### 재현성 확인"
   ]
  },
  {
   "cell_type": "code",
   "execution_count": 31,
   "metadata": {
    "scrolled": true,
    "tags": []
   },
   "outputs": [
    {
     "name": "stdout",
     "output_type": "stream",
     "text": [
      "Seed 4972 Start!\n",
      "==================================================\n",
      "Cat cpu val score : 0.741731173563319\n",
      "LGBM val score : 0.7410889919410257\n",
      "Ensemble val score : 0.7417856909636571\n",
      "==================================================\n",
      "==================================================\n",
      "Cat cpu val score : 0.743102126169281\n",
      "LGBM val score : 0.7426685500897883\n",
      "Ensemble val score : 0.7432212724216115\n",
      "==================================================\n",
      "Cat cpu val score : 0.7421624156635387\n",
      "LGBM val score : 0.7412061627264728\n",
      "Ensemble val score : 0.7423017897991364\n",
      "==================================================\n",
      "Cat cpu val score : 0.7444988573218965\n",
      "LGBM val score : 0.7440510644532332\n",
      "Ensemble val score : 0.7445990268977984\n",
      "==================================================\n",
      "Cat cpu val score : 0.739290424550954\n",
      "LGBM val score : 0.7381763249155733\n",
      "Ensemble val score : 0.7391518088546252\n",
      "==================================================\n",
      "Cat cpu val score : 0.739048736560893\n",
      "LGBM val score : 0.7383782722762984\n",
      "Ensemble val score : 0.7391433707213979\n",
      "==================================================\n",
      "Cat cpu val score : 0.7385730085076396\n",
      "LGBM val score : 0.7375196713732681\n",
      "Ensemble val score : 0.7385618463464623\n",
      "==================================================\n",
      "Cat cpu val score : 0.7418735773704468\n",
      "LGBM val score : 0.7415175715368654\n",
      "Ensemble val score : 0.7420383373816783\n",
      "==================================================\n",
      "Cat cpu val score : 0.7433219064993528\n",
      "LGBM val score : 0.7434243156550855\n",
      "Ensemble val score : 0.743633589300895\n"
     ]
    }
   ],
   "source": [
    "for col in X.columns:\n",
    "    if X[col].dtype == 'object':  # 문자형이면 category로 변환\n",
    "        X[col] = X[col].astype('category')\n",
    "        test[col] = test[col].astype('category')\n",
    "seed = 4972\n",
    "\n",
    "test_pred_total = []\n",
    "scores_total = []\n",
    "seed_everything(seed)\n",
    "print('Seed {} Start!'.format(seed))\n",
    "cv = StratifiedKFold(n_splits = 10, random_state = seed, shuffle=True)\n",
    "\n",
    "cat_param_list = []\n",
    "lgbm_param_list = []\n",
    "for idx, (train_idx, val_idx) in enumerate(cv.split(X, y)):\n",
    "    print('='*50)\n",
    "    X_train, X_val = X.iloc[train_idx],X.iloc[val_idx]\n",
    "    y_train, y_val = y.iloc[train_idx], y.iloc[val_idx]\n",
    "    if idx == 1:\n",
    "        continue\n",
    "    # cat_trial_params = loaded_cat_params[idx]\n",
    "    # model = CatBoostClassifier(**cat_trial_params ,auto_class_weights='Balanced', eval_metric='AUC', random_state=seed, task_type=\"CPU\")\n",
    "    # model.fit(X_train,y_train,cat_features=categorical_columns, early_stopping_rounds = 300, eval_set=[(X_val,y_val)], verbose = 300)\n",
    "    \n",
    "    model_cpu = CatBoostClassifier()\n",
    "    model_cpu.load_model(\"./weight/cat_fold_cpu{}.cbm\".format(idx))\n",
    "\n",
    "    lgbm_trial_params = loaded_lgbm_params[idx]\n",
    "    class_weights = compute_class_weight(class_weight=\"balanced\", classes=np.unique(y), y=y_train)\n",
    "    class_weight_dict = {i: w for i, w in enumerate(class_weights)}\n",
    "\n",
    "    model_lgbm = lgb.LGBMClassifier(**lgbm_trial_params,class_weight=class_weight_dict)\n",
    "    model_lgbm.fit(X_train, y_train, eval_set=[(X_val, y_val)],categorical_feature=categorical_columns)\n",
    "\n",
    "    # val_pred = model.predict_proba(X_val)[:, 1]\n",
    "    val_pred_cpu = model_cpu.predict_proba(X_val)[:, 1]\n",
    "    val_pred_lgbm = model_lgbm.predict_proba(X_val)[:, 1]\n",
    "    # print('Cat val score : {}'.format(roc_auc_score(y_val,val_pred)))\n",
    "    print('Cat cpu val score : {}'.format(roc_auc_score(y_val,val_pred_cpu)))\n",
    "    print('LGBM val score : {}'.format(roc_auc_score(y_val,val_pred_lgbm)))\n",
    "\n",
    "    roc_val = roc_auc_score(y_val, (val_pred_cpu*2 + val_pred_lgbm)/3)\n",
    "    scores_total.append(roc_val)\n",
    "    print('Ensemble val score : {}'.format(roc_val))\n",
    "\n",
    "    # test_pred = model.predict_proba(test)[:, 1]\n",
    "    test_pred_cpu = model_cpu.predict_proba(test)[:, 1]\n",
    "    test_pred_lgbm = model_lgbm.predict_proba(test)[:, 1]\n",
    "    test_pred_total.append((test_pred_cpu*2+test_pred_lgbm)/3)\n",
    "    # test_pred_total.append((test_pred_cpu))"
   ]
  },
  {
   "cell_type": "code",
   "execution_count": 32,
   "metadata": {},
   "outputs": [
    {
     "data": {
      "text/plain": [
       "(0.7416040814096958,\n",
       " [0.7417856909636571,\n",
       "  0.7432212724216115,\n",
       "  0.7423017897991364,\n",
       "  0.7445990268977984,\n",
       "  0.7391518088546252,\n",
       "  0.7391433707213979,\n",
       "  0.7385618463464623,\n",
       "  0.7420383373816783,\n",
       "  0.743633589300895])"
      ]
     },
     "execution_count": 32,
     "metadata": {},
     "output_type": "execute_result"
    }
   ],
   "source": [
    "np.mean(scores_total), scores_total"
   ]
  },
  {
   "cell_type": "code",
   "execution_count": 33,
   "metadata": {
    "id": "zdqhyNyumAyx"
   },
   "outputs": [],
   "source": [
    "test_pred_total_mean = np.mean(test_pred_total, axis=(0))"
   ]
  },
  {
   "cell_type": "code",
   "execution_count": 34,
   "metadata": {
    "colab": {
     "base_uri": "https://localhost:8080/",
     "height": 540
    },
    "id": "HHVwzBg8NEZK",
    "outputId": "7c5d38e1-affe-45e7-b863-372c9a868b84"
   },
   "outputs": [
    {
     "data": {
      "text/plain": [
       "(array([13580.,  2389.,  3332.,  6012.,  9336., 13273., 16845., 15248.,\n",
       "         9502.,   550.]),\n",
       " array([5.27311519e-04, 8.88934133e-02, 1.77259515e-01, 2.65625617e-01,\n",
       "        3.53991718e-01, 4.42357820e-01, 5.30723922e-01, 6.19090024e-01,\n",
       "        7.07456125e-01, 7.95822227e-01, 8.84188329e-01]),\n",
       " <BarContainer object of 10 artists>)"
      ]
     },
     "execution_count": 34,
     "metadata": {},
     "output_type": "execute_result"
    },
    {
     "data": {
      "image/png": "[encoded data removed]",
      "text/plain": [
       "<Figure size 640x480 with 1 Axes>"
      ]
     },
     "metadata": {},
     "output_type": "display_data"
    }
   ],
   "source": [
    "plt.hist(test_pred_total_mean)"
   ]
  },
  {
   "cell_type": "code",
   "execution_count": 35,
   "metadata": {
    "id": "KGlLsagWhQmz"
   },
   "outputs": [],
   "source": [
    "test_pred_total_mean = np.mean(test_pred_total, axis=(0))\n",
    "sample_submission = pd.read_csv('../sample_submission.csv')\n",
    "sample_submission['probability'] = test_pred_total_mean\n",
    "sample_submission.to_csv('CODE_recentgit_lgbmcat_cpu_mac_sunghyun+StandardScaler.csv', index=False)"
   ]
  }
 ],
 "metadata": {
  "accelerator": "GPU",
  "colab": {
   "gpuType": "T4",
   "provenance": []
  },
  "kernelspec": {
   "display_name": "Python 3",
   "language": "python",
   "name": "python3"
  },
  "language_info": {
   "codemirror_mode": {
    "name": "ipython",
    "version": 3
   },
   "file_extension": ".py",
   "mimetype": "text/x-python",
   "name": "python",
   "nbconvert_exporter": "python",
   "pygments_lexer": "ipython3",
   "version": "3.9.6"
  }
 },
 "nbformat": 4,
 "nbformat_minor": 4
}
