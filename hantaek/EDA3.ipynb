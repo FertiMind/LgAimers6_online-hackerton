{
 "cells": [
  {
   "cell_type": "markdown",
   "metadata": {},
   "source": [
    "- EDA2에서 진행한 전처리\n",
    "\n",
    "1. 95% 이상 결측치 컬럼 제거\n",
    "2. 수치형 변수 처리\n",
    "    - 로그 변환 (4개)\n",
    "    - 이진 범주화 (5개)\n",
    "3. 범주형 변수 처리\n",
    "    - Label Encoding\n",
    "    - 시술 유형 그룹화\n",
    "4. 시간 변수 처리\n",
    "    - DI 시술 결측치 → 0\n",
    "    - IVF 시술 결측치 → 중앙값"
   ]
  },
  {
   "cell_type": "markdown",
   "metadata": {},
   "source": [
    "---"
   ]
  },
  {
   "cell_type": "markdown",
   "metadata": {},
   "source": [
    "1. 피처 엔지니어링\n",
    "    - 변수 간 상호작용 고려\n",
    "    - 시계열적 특성 활용\n",
    "    - 새로운 피처 \n",
    "\n",
    "\n",
    "2. 결측치 처리 방법 개선\n",
    "    - 현재는 단순 0 또는 중앙값 대체\n",
    "    - 다른 방법 검토 필요\n",
    "\n",
    "\n",
    "3. 변수 선택\n",
    "    - 중요도 기반 변수 선택\n",
    "    - 다중공선성 추가 검토"
   ]
  },
  {
   "cell_type": "code",
   "execution_count": 1,
   "metadata": {},
   "outputs": [],
   "source": [
    "import pandas as pd\n",
    "import numpy as np\n",
    "\n",
    "# 데이터 로드\n",
    "df = pd.read_csv(\"../data/processed_train.csv\")"
   ]
  },
  {
   "cell_type": "code",
   "execution_count": 2,
   "metadata": {},
   "outputs": [
    {
     "name": "stdout",
     "output_type": "stream",
     "text": [
      "<class 'pandas.core.frame.DataFrame'>\n",
      "RangeIndex: 256351 entries, 0 to 256350\n",
      "Data columns (total 62 columns):\n",
      " #   Column                Non-Null Count   Dtype  \n",
      "---  ------                --------------   -----  \n",
      " 0   저장된 배아 수_log          256351 non-null  float64\n",
      " 1   수집된 신선 난자 수_log       256351 non-null  float64\n",
      " 2   혼합된 난자 수_log          256351 non-null  float64\n",
      " 3   파트너 정자와 혼합된 난자 수_log  256351 non-null  float64\n",
      " 4   미세주입 후 저장된 배아 수_cat   256351 non-null  int64  \n",
      " 5   해동된 배아 수_cat          256351 non-null  int64  \n",
      " 6   해동 난자 수_cat           256351 non-null  int64  \n",
      " 7   저장된 신선 난자 수_cat       256351 non-null  int64  \n",
      " 8   기증자 정자와 혼합된 난자 수_cat  256351 non-null  int64  \n",
      " 9   시술 당시 나이_인코딩          256351 non-null  int64  \n",
      " 10  난자 기증자 나이_인코딩         256351 non-null  int64  \n",
      " 11  정자 기증자 나이_인코딩         256351 non-null  int64  \n",
      " 12  총 시술 횟수_구간            256351 non-null  int64  \n",
      " 13  클리닉 내 총 시술 횟수_구간      256351 non-null  int64  \n",
      " 14  시술 유형_encoded         256351 non-null  int64  \n",
      " 15  특정_시술_유형_그룹_encoded   256351 non-null  int64  \n",
      " 16  배란 유도 유형_encoded      256351 non-null  int64  \n",
      " 17  배아 생성 주요 이유_encoded   256351 non-null  int64  \n",
      " 18  난자 출처_encoded         256351 non-null  int64  \n",
      " 19  정자 출처_encoded         256351 non-null  int64  \n",
      " 20  IVF 시술 횟수_encoded     256351 non-null  int64  \n",
      " 21  DI 시술 횟수_encoded      256351 non-null  int64  \n",
      " 22  총 임신 횟수_encoded       256351 non-null  int64  \n",
      " 23  IVF 임신 횟수_encoded     256351 non-null  int64  \n",
      " 24  DI 임신 횟수_encoded      256351 non-null  int64  \n",
      " 25  총 출산 횟수_encoded       256351 non-null  int64  \n",
      " 26  IVF 출산 횟수_encoded     256351 non-null  int64  \n",
      " 27  DI 출산 횟수_encoded      256351 non-null  int64  \n",
      " 28  총 생성 배아 수             256351 non-null  float64\n",
      " 29  미세주입된 난자 수            256351 non-null  float64\n",
      " 30  미세주입에서 생성된 배아 수       256351 non-null  float64\n",
      " 31  이식된 배아 수              256351 non-null  float64\n",
      " 32  미세주입 배아 이식 수          256351 non-null  float64\n",
      " 33  배아 해동 경과일             256351 non-null  float64\n",
      " 34  난자 채취 경과일             256351 non-null  float64\n",
      " 35  난자 혼합 경과일             256351 non-null  float64\n",
      " 36  배아 이식 경과일             256351 non-null  float64\n",
      " 37  배란 자극 여부              256351 non-null  int64  \n",
      " 38  단일 배아 이식 여부           256351 non-null  float64\n",
      " 39  착상 전 유전 진단 사용 여부      256351 non-null  float64\n",
      " 40  동결 배아 사용 여부           256351 non-null  float64\n",
      " 41  신선 배아 사용 여부           256351 non-null  float64\n",
      " 42  기증 배아 사용 여부           256351 non-null  float64\n",
      " 43  대리모 여부                256351 non-null  float64\n",
      " 44  남성 주 불임 원인            256351 non-null  int64  \n",
      " 45  남성 부 불임 원인            256351 non-null  int64  \n",
      " 46  여성 주 불임 원인            256351 non-null  int64  \n",
      " 47  여성 부 불임 원인            256351 non-null  int64  \n",
      " 48  부부 주 불임 원인            256351 non-null  int64  \n",
      " 49  부부 부 불임 원인            256351 non-null  int64  \n",
      " 50  불명확 불임 원인             256351 non-null  int64  \n",
      " 51  불임 원인 - 난관 질환         256351 non-null  int64  \n",
      " 52  불임 원인 - 남성 요인         256351 non-null  int64  \n",
      " 53  불임 원인 - 배란 장애         256351 non-null  int64  \n",
      " 54  불임 원인 - 여성 요인         256351 non-null  int64  \n",
      " 55  불임 원인 - 자궁경부 문제       256351 non-null  int64  \n",
      " 56  불임 원인 - 자궁내막증         256351 non-null  int64  \n",
      " 57  불임 원인 - 정자 농도         256351 non-null  int64  \n",
      " 58  불임 원인 - 정자 면역학적 요인    256351 non-null  int64  \n",
      " 59  불임 원인 - 정자 운동성        256351 non-null  int64  \n",
      " 60  불임 원인 - 정자 형태         256351 non-null  int64  \n",
      " 61  임신 성공 여부              256351 non-null  int64  \n",
      "dtypes: float64(19), int64(43)\n",
      "memory usage: 121.3 MB\n"
     ]
    }
   ],
   "source": [
    "df.info()"
   ]
  },
  {
   "cell_type": "markdown",
   "metadata": {},
   "source": [
    "\n",
    "`1. 시계열 특성 분석 방향:`\n",
    "- 각 경과일 변수들 간의 상관관계 분석\n",
    "- 각 시간 변수별 임신 성공률 추이 확인\n",
    "- 시간 간격에 따른 성공률 패턴 파악\n",
    "- 특정 시간대의 임신 성공률이 높은 구간 식별\n",
    "\n",
    "- 분석 목표:\n",
    "  - 시술 과정의 각 단계별 최적 시간 간격 파악\n",
    "  - 시간 변수들 간의 상호작용이 임신 성공에 미치는 영향 이해\n",
    "  - 중요한 시간적 패턴이나 임계점 발견\n",
    "\n",
    "- 활용 방안:\n",
    "  - 시간 간격에 따른 새로운 피처 생성 (예: 난자채취-배아이식 간격)\n",
    "  - 임신 성공률이 높은 시간대를 기반으로 한 구간화\n",
    "  - 시간 순서를 고려한 순차적 패턴 피처 생성\n",
    "\n",
    "`2. 불임 원인 변수들의 다중공선성 분석:`\n",
    "- VIF(Variance Inflation Factor) 계산\n",
    "- 상관계수 행렬 생성\n",
    "- 주성분 분석(PCA) 고려\n",
    "\n",
    "- 분석 목표:\n",
    "  - 불임 원인 변수들 간의 중복성 파악\n",
    "  - 실제로 영향력 있는 핵심 변수 식별\n",
    "  - 변수들 간의 잠재적 그룹 발견\n",
    "\n",
    "- 활용 방안:\n",
    "  - 고차원 불임 원인 데이터를 저차원으로 축소\n",
    "  - 상호 연관된 불임 원인들을 새로운 통합 변수로 생성\n",
    "  - 중요도가 낮은 변수 제거를 통한 모델 단순화\n",
    "\n",
    "`3. 로그 변환 효과 검증:`\n",
    "- 변환 전후 분포 비교 (skewness, kurtosis)\n",
    "- QQ-plot을 통한 정규성 확인\n",
    "- 로그 변환된 변수와 임신 성공률과의 관계 분석\n",
    "\n",
    "- 분석 목표:\n",
    "  - 변환의 실제 효과성 확인\n",
    "  - 정규성 개선 정도 평가\n",
    "  - 예측력 향상 여부 검증\n",
    "\n",
    "- 활용 방안:\n",
    "  - 더 효과적인 변환 방법 적용 (예: Box-Cox, Yeo-Johnson)\n",
    "  - 변환이 불필요한 변수 원복\n",
    "  - 비선형 관계를 가진 다른 변수들에 대한 추가 변환 고려\n",
    "\n"
   ]
  },
  {
   "cell_type": "markdown",
   "metadata": {},
   "source": [
    "---\n",
    "\n",
    "### 한글 폰트 설정"
   ]
  },
  {
   "cell_type": "code",
   "execution_count": 17,
   "metadata": {},
   "outputs": [
    {
     "name": "stdout",
     "output_type": "stream",
     "text": [
      "/data/ephemeral/home/.cache/pypoetry/virtualenvs/fertimind-v9Yfc7Z6-py3.11/lib/python3.11/site-packages/matplotlib/mpl-data/matplotlibrc\n",
      "['sans-serif']\n"
     ]
    }
   ],
   "source": [
    "import matplotlib\n",
    "print(matplotlib.matplotlib_fname())  # 적용된 matplotlibrc 파일 경로 확인\n",
    "print(matplotlib.rcParams['font.family'])  # 현재 적용된 폰트 확인\n"
   ]
  },
  {
   "cell_type": "code",
   "execution_count": 18,
   "metadata": {},
   "outputs": [
    {
     "name": "stdout",
     "output_type": "stream",
     "text": [
      "현재 적용된 폰트: ['NanumGothic']\n"
     ]
    }
   ],
   "source": [
    "import matplotlib.pyplot as plt\n",
    "import matplotlib.font_manager as fm\n",
    "\n",
    "# 한글 폰트 경로 (fc-list에서 확인한 폰트 사용)\n",
    "font_path = \"/usr/share/fonts/truetype/nanum/NanumGothic.ttf\"\n",
    "\n",
    "# 폰트를 matplotlib에 강제 추가\n",
    "fm.fontManager.addfont(font_path)\n",
    "plt.rcParams['font.family'] = fm.FontProperties(fname=font_path).get_name()\n",
    "\n",
    "# 적용된 폰트 확인\n",
    "print(f\"현재 적용된 폰트: {plt.rcParams['font.family']}\")"
   ]
  },
  {
   "cell_type": "code",
   "execution_count": 19,
   "metadata": {},
   "outputs": [
    {
     "data": {
      "image/png": "[encoded data removed]",
      "text/plain": [
       "<Figure size 600x300 with 1 Axes>"
      ]
     },
     "metadata": {},
     "output_type": "display_data"
    }
   ],
   "source": [
    "# 테스트 플롯\n",
    "plt.figure(figsize=(6, 3))\n",
    "plt.text(0.5, 0.5, \"한글 테스트\", fontsize=20, ha='center', va='center')\n",
    "plt.show()"
   ]
  },
  {
   "cell_type": "markdown",
   "metadata": {},
   "source": [
    "---"
   ]
  },
  {
   "cell_type": "markdown",
   "metadata": {},
   "source": [
    "### 1. 시계열 특성 분석 방향"
   ]
  },
  {
   "cell_type": "code",
   "execution_count": 20,
   "metadata": {},
   "outputs": [
    {
     "data": {
      "image/png": "[encoded data removed]",
      "text/plain": [
       "<Figure size 1000x800 with 2 Axes>"
      ]
     },
     "metadata": {},
     "output_type": "display_data"
    }
   ],
   "source": [
    "# 1. 시간 변수들 간의 상관관계 분석\n",
    "\n",
    "time_cols = ['배아 해동 경과일', '난자 채취 경과일', '난자 혼합 경과일', '배아 이식 경과일']\n",
    "\n",
    "correlation = df[time_cols].corr()\n",
    "plt.figure(figsize=(10, 8))\n",
    "sns.heatmap(correlation, annot=True, cmap='coolwarm', center=0)\n",
    "plt.title(\"시간 변수 간 상관관계\")\n",
    "plt.show()"
   ]
  },
  {
   "cell_type": "code",
   "execution_count": 24,
   "metadata": {},
   "outputs": [
    {
     "name": "stdout",
     "output_type": "stream",
     "text": [
      "\n",
      "=== 배아 해동 경과일 통계량 ===\n",
      "count    256351.000000\n",
      "mean         -0.835339\n",
      "std           0.415529\n",
      "min          -1.000000\n",
      "25%          -1.000000\n",
      "50%          -1.000000\n",
      "75%          -1.000000\n",
      "max           7.000000\n",
      "Name: 배아 해동 경과일, dtype: float64\n",
      "\n",
      "성공/실패 그룹별 배아 해동 경과일 평균\n",
      "임신 성공 여부\n",
      "0   -0.828090\n",
      "1   -0.856148\n",
      "Name: 배아 해동 경과일, dtype: float64\n",
      "\n",
      "=== 난자 채취 경과일 통계량 ===\n",
      "count    256351.000000\n",
      "mean         -0.224255\n",
      "std           0.417092\n",
      "min          -1.000000\n",
      "25%           0.000000\n",
      "50%           0.000000\n",
      "75%           0.000000\n",
      "max           0.000000\n",
      "Name: 난자 채취 경과일, dtype: float64\n",
      "\n",
      "성공/실패 그룹별 난자 채취 경과일 평균\n",
      "임신 성공 여부\n",
      "0   -0.229972\n",
      "1   -0.207843\n",
      "Name: 난자 채취 경과일, dtype: float64\n",
      "\n",
      "=== 난자 혼합 경과일 통계량 ===\n",
      "count    256351.000000\n",
      "mean         -0.205359\n",
      "std           0.421062\n",
      "min          -1.000000\n",
      "25%           0.000000\n",
      "50%           0.000000\n",
      "75%           0.000000\n",
      "max           7.000000\n",
      "Name: 난자 혼합 경과일, dtype: float64\n",
      "\n",
      "성공/실패 그룹별 난자 혼합 경과일 평균\n",
      "임신 성공 여부\n",
      "0   -0.224612\n",
      "1   -0.150088\n",
      "Name: 난자 혼합 경과일, dtype: float64\n",
      "\n",
      "=== 배아 이식 경과일 통계량 ===\n",
      "count    256351.000000\n",
      "mean          2.531662\n",
      "std           2.235406\n",
      "min          -1.000000\n",
      "25%           0.000000\n",
      "50%           3.000000\n",
      "75%           5.000000\n",
      "max           7.000000\n",
      "Name: 배아 이식 경과일, dtype: float64\n",
      "\n",
      "성공/실패 그룹별 배아 이식 경과일 평균\n",
      "임신 성공 여부\n",
      "0    2.171436\n",
      "1    3.565773\n",
      "Name: 배아 이식 경과일, dtype: float64\n"
     ]
    }
   ],
   "source": [
    "# 2. 각 시간 변수별 임신 성공률 분석\n",
    "for col in time_cols:\n",
    "    # 시간대별 그룹화 및 성공률 계산\n",
    "    success_rate = df.groupby(col)['임신 성공 여부'].agg(['mean', 'count']).reset_index()\n",
    "    success_rate.columns = [col, 'success_rate', 'count']\n",
    "    \n",
    "    # 기초 통계량 출력\n",
    "    print(f\"\\n=== {col} 통계량 ===\")\n",
    "    print(df[col].describe())\n",
    "    \n",
    "    # 성공/실패 그룹별 분포 비교\n",
    "    print(f\"\\n성공/실패 그룹별 {col} 평균\")\n",
    "    print(df.groupby('임신 성공 여부')[col].mean())"
   ]
  },
  {
   "cell_type": "code",
   "execution_count": 25,
   "metadata": {},
   "outputs": [
    {
     "name": "stdout",
     "output_type": "stream",
     "text": [
      "\n",
      "=== 배아 해동 경과일 분석 ===\n",
      "N/A 케이스 비율: 84.25%\n",
      "N/A 케이스 임신 성공률: 26.39%\n",
      "\n",
      "실제 경과일별 통계:\n",
      "   배아 해동 경과일  count      mean\n",
      "0        0.0  39801  0.229668\n",
      "1        1.0     37  0.162162\n",
      "2        2.0    182  0.159341\n",
      "3        3.0    164  0.109756\n",
      "4        4.0     12  0.000000\n",
      "5        5.0    140  0.214286\n",
      "6        6.0     30  0.166667\n",
      "7        7.0      3  0.000000\n",
      "\n",
      "=== 난자 채취 경과일 분석 ===\n",
      "N/A 케이스 비율: 22.43%\n",
      "N/A 케이스 임신 성공률: 23.94%\n",
      "\n",
      "실제 경과일별 통계:\n",
      "   난자 채취 경과일   count      mean\n",
      "0        0.0  198863  0.263815\n",
      "\n",
      "=== 난자 혼합 경과일 분석 ===\n",
      "N/A 케이스 비율: 20.96%\n",
      "N/A 케이스 임신 성공률: 18.90%\n",
      "\n",
      "실제 경과일별 통계:\n",
      "   난자 혼합 경과일   count      mean\n",
      "0        0.0  201920  0.277075\n",
      "1        1.0     488  0.153689\n",
      "2        2.0     102  0.245098\n",
      "3        3.0      68  0.279412\n",
      "4        4.0       5  0.400000\n",
      "5        5.0      24  0.208333\n",
      "6        6.0       8  0.000000\n",
      "7        7.0       1  0.000000\n",
      "\n",
      "=== 배아 이식 경과일 분석 ===\n",
      "N/A 케이스 비율: 16.99%\n",
      "N/A 케이스 임신 성공률: 2.38%\n",
      "\n",
      "실제 경과일별 통계:\n",
      "   배아 이식 경과일  count      mean\n",
      "0        0.0  24904  0.251044\n",
      "1        1.0   6053  0.187015\n",
      "2        2.0  35078  0.212469\n",
      "3        3.0  57924  0.258770\n",
      "4        4.0   4504  0.344361\n",
      "5        5.0  81459  0.404449\n",
      "6        6.0   2773  0.300036\n",
      "7        7.0     90  0.411111\n"
     ]
    }
   ],
   "source": [
    "# 각 시간 변수별 임신 성공률 분석\n",
    "for col in time_cols:\n",
    "    # N/A(-1)와 실제 경과일을 구분해서 성공률 계산\n",
    "    na_success_rate = df[df[col] == -1]['임신 성공 여부'].mean()\n",
    "    valid_success_rates = (df[df[col] != -1]\n",
    "                          .groupby(col)['임신 성공 여부']\n",
    "                          .agg(['count', 'mean'])\n",
    "                          .reset_index())\n",
    "    \n",
    "    print(f\"\\n=== {col} 분석 ===\")\n",
    "    print(f\"N/A 케이스 비율: {(df[col] == -1).mean():.2%}\")\n",
    "    print(f\"N/A 케이스 임신 성공률: {na_success_rate:.2%}\")\n",
    "    print(\"\\n실제 경과일별 통계:\")\n",
    "    print(valid_success_rates)"
   ]
  },
  {
   "cell_type": "code",
   "execution_count": 26,
   "metadata": {},
   "outputs": [
    {
     "name": "stdout",
     "output_type": "stream",
     "text": [
      "\n",
      "=== N/A 패턴 분석 ===\n",
      "  time_pattern 임신 성공 여부         \n",
      "                  count     mean\n",
      "0         0000     6301  0.12871\n",
      "1         0010        2  0.00000\n",
      "2         1001        1  0.00000\n"
     ]
    }
   ],
   "source": [
    "# N/A 패턴 분석\n",
    "# 각 시간 변수의 N/A 여부 조합 확인\n",
    "df['time_pattern'] = (df['배아 해동 경과일'].map({-1: '0', 1: '1'}) + \n",
    "                     df['난자 채취 경과일'].map({-1: '0', 1: '1'}) +\n",
    "                     df['난자 혼합 경과일'].map({-1: '0', 1: '1'}) +\n",
    "                     df['배아 이식 경과일'].map({-1: '0', 1: '1'}))\n",
    "\n",
    "pattern_analysis = (df.groupby('time_pattern')\n",
    "                   .agg({\n",
    "                       '임신 성공 여부': ['count', 'mean']\n",
    "                   })\n",
    "                   .reset_index())\n",
    "print(\"\\n=== N/A 패턴 분석 ===\")\n",
    "print(pattern_analysis)"
   ]
  },
  {
   "cell_type": "markdown",
   "metadata": {},
   "source": [
    "- 배아 해동 경과일\n",
    "\n",
    "\n",
    "대부분(84.25%)이 N/A\n",
    "N/A 케이스의 성공률(26.39%)은 당일 해동(22.97%)보다 조금 더 높음\n",
    "실제 해동된 경우는 대부분 당일(0일)에 이루어짐\n",
    "\n",
    "\n",
    "- 난자 채취 경과일\n",
    "\n",
    "\n",
    "N/A는 22.43%\n",
    "모든 유효한 케이스가 당일(0일)에 이루어짐\n",
    "당일 채취의 성공률(26.38%)이 N/A(23.94%)보다 높음\n",
    "\n",
    "\n",
    "- 난자 혼합 경과일\n",
    "\n",
    "\n",
    "N/A는 20.96%\n",
    "대부분 당일(0일)에 이루어지며, 이 경우 성공률이 27.71%로 가장 높음\n",
    "N/A 케이스의 성공률은 18.90%로 상대적으로 낮음\n",
    "\n",
    "\n",
    "- 배아 이식 경과일\n",
    "\n",
    "\n",
    "N/A는 16.99%로 가장 적음\n",
    "N/A 케이스의 성공률이 2.38%로 매우 낮음\n",
    "주목할만한 점: 4-7일차 이식이 성공률이 더 높음\n",
    "\n",
    "5일차: 40.44%\n",
    "4일차: 34.44%\n",
    "7일차: 41.11%(샘플 수가 적음)"
   ]
  },
  {
   "cell_type": "code",
   "execution_count": null,
   "metadata": {},
   "outputs": [],
   "source": [
    "# 배아 이식 시기 최적화 피처\n",
    "# 이식 시기의 최적 구간화 (4-7일을 optimal로)\n",
    "df['이식_시기_구분'] = pd.cut(df['배아 이식 경과일'], \n",
    "                         bins=[-np.inf, -1, 1, 3, 7],\n",
    "                         labels=['NA', 'immediate', 'early', 'optimal'])\n",
    "\n",
    "# 각 단계가 제대로 기록된 경우를 체크\n",
    "df['시술_과정_완성도'] = ((df['배아 이식 경과일'] != -1) & \n",
    "                       (df['난자 채취 경과일'] != -1) & \n",
    "                       (df['난자 혼합 경과일'] != -1) &\n",
    "                       (df['배아 해동 경과일'] != -1)).astype(int)"
   ]
  },
  {
   "cell_type": "markdown",
   "metadata": {},
   "source": [
    "### 2. 불임 원인 변수들의 다중공선성 분석"
   ]
  },
  {
   "cell_type": "code",
   "execution_count": 37,
   "metadata": {},
   "outputs": [
    {
     "name": "stdout",
     "output_type": "stream",
     "text": [
      "\"남성 주 불임 원인\" - \"여성 주 불임 원인\" : 0.84\n",
      "\"남성 주 불임 원인\" - \"부부 주 불임 원인\" : 0.91\n",
      "\"남성 부 불임 원인\" - \"여성 부 불임 원인\" : 0.68\n",
      "\"남성 부 불임 원인\" - \"부부 부 불임 원인\" : 0.79\n",
      "\"여성 주 불임 원인\" - \"부부 주 불임 원인\" : 0.89\n",
      "\"여성 부 불임 원인\" - \"부부 부 불임 원인\" : 0.74\n",
      "\"불명확 불임 원인\" - \"불임 원인 - 남성 요인\" : -0.37\n",
      "\"불임 원인 - 정자 운동성\" - \"불임 원인 - 정자 형태\" : 0.42\n"
     ]
    }
   ],
   "source": [
    "import pandas as pd\n",
    "import numpy as np\n",
    "\n",
    "# 1. 불임 원인 관련 변수들 선택\n",
    "infertility_cols = [\n",
    "    '남성 주 불임 원인', '남성 부 불임 원인', \n",
    "    '여성 주 불임 원인', '여성 부 불임 원인',\n",
    "    '부부 주 불임 원인', '부부 부 불임 원인',\n",
    "    '불명확 불임 원인',\n",
    "    '불임 원인 - 난관 질환', '불임 원인 - 남성 요인',\n",
    "    '불임 원인 - 배란 장애', '불임 원인 - 여성 요인',\n",
    "    '불임 원인 - 자궁경부 문제', '불임 원인 - 자궁내막증',\n",
    "    '불임 원인 - 정자 농도', '불임 원인 - 정자 면역학적 요인',\n",
    "    '불임 원인 - 정자 운동성', '불임 원인 - 정자 형태'\n",
    "]\n",
    "\n",
    "# 2. 상관관계 행렬 계산\n",
    "correlation = df[infertility_cols].corr()\n",
    "\n",
    "# 절대값이 0.3 이상인 상관관계 필터링 (상삼각 행렬만 사용)\n",
    "filtered_correlations = correlation.where(np.triu(np.ones(correlation.shape), k=1).astype(bool))\n",
    "filtered_correlations = filtered_correlations.where(abs(filtered_correlations) >= 0.3)\n",
    "\n",
    "# 텍스트로 출력\n",
    "result_text = []\n",
    "for row in filtered_correlations.index:\n",
    "    for col in filtered_correlations.columns:\n",
    "        value = filtered_correlations.loc[row, col]\n",
    "        if pd.notna(value):  # NaN이 아닌 값만 출력\n",
    "            result_text.append(f'\"{row}\" - \"{col}\" : {value:.2f}')\n",
    "\n",
    "print(\"\\n\".join(result_text))\n"
   ]
  },
  {
   "cell_type": "markdown",
   "metadata": {},
   "source": [
    "`'불임 원인 - 여성 요인'`은 모두 같은 값을 가지기 때문에 제거해도 되겠다."
   ]
  },
  {
   "cell_type": "code",
   "execution_count": 31,
   "metadata": {},
   "outputs": [
    {
     "data": {
      "text/plain": [
       "불임 원인 - 여성 요인\n",
       "0    256351\n",
       "Name: count, dtype: int64"
      ]
     },
     "execution_count": 31,
     "metadata": {},
     "output_type": "execute_result"
    }
   ],
   "source": [
    "df['불임 원인 - 여성 요인'].value_counts()"
   ]
  },
  {
   "cell_type": "code",
   "execution_count": 30,
   "metadata": {},
   "outputs": [
    {
     "data": {
      "text/plain": [
       "불임 원인 - 남성 요인\n",
       "0    160885\n",
       "1     95466\n",
       "Name: count, dtype: int64"
      ]
     },
     "execution_count": 30,
     "metadata": {},
     "output_type": "execute_result"
    }
   ],
   "source": [
    "df['불임 원인 - 남성 요인'].value_counts()"
   ]
  },
  {
   "cell_type": "code",
   "execution_count": 32,
   "metadata": {},
   "outputs": [
    {
     "name": "stderr",
     "output_type": "stream",
     "text": [
      "/data/ephemeral/home/.cache/pypoetry/virtualenvs/fertimind-v9Yfc7Z6-py3.11/lib/python3.11/site-packages/statsmodels/regression/linear_model.py:1784: RuntimeWarning: invalid value encountered in scalar divide\n",
      "  return 1 - self.ssr/self.uncentered_tss\n"
     ]
    },
    {
     "name": "stdout",
     "output_type": "stream",
     "text": [
      "\n",
      "VIF 분석 결과:\n",
      "              Variable        VIF\n",
      "4           부부 주 불임 원인  38.555999\n",
      "0           남성 주 불임 원인  33.903545\n",
      "2           여성 주 불임 원인  18.235576\n",
      "1           남성 부 불임 원인  16.733075\n",
      "5           부부 부 불임 원인  12.115164\n",
      "3           여성 부 불임 원인   8.654495\n",
      "15      불임 원인 - 정자 운동성   1.244206\n",
      "16       불임 원인 - 정자 형태   1.229006\n",
      "8        불임 원인 - 남성 요인   1.082284\n",
      "13       불임 원인 - 정자 농도   1.077215\n",
      "9        불임 원인 - 배란 장애   1.049125\n",
      "7        불임 원인 - 난관 질환   1.047921\n",
      "12       불임 원인 - 자궁내막증   1.030363\n",
      "6            불명확 불임 원인   1.010847\n",
      "11     불임 원인 - 자궁경부 문제   1.001161\n",
      "14  불임 원인 - 정자 면역학적 요인   1.000194\n",
      "10       불임 원인 - 여성 요인        NaN\n"
     ]
    }
   ],
   "source": [
    "# 3. VIF(Variance Inflation Factor) 계산\n",
    "def calculate_vif(df, features):\n",
    "    vif_data = pd.DataFrame()\n",
    "    vif_data[\"Variable\"] = features\n",
    "    vif_data[\"VIF\"] = [variance_inflation_factor(df[features].values, i)\n",
    "                       for i in range(df[features].shape[1])]\n",
    "    return vif_data.sort_values('VIF', ascending=False)\n",
    "\n",
    "vif_results = calculate_vif(df, infertility_cols)\n",
    "print(\"\\nVIF 분석 결과:\")\n",
    "print(vif_results)"
   ]
  },
  {
   "cell_type": "code",
   "execution_count": 33,
   "metadata": {},
   "outputs": [
    {
     "name": "stdout",
     "output_type": "stream",
     "text": [
      "\n",
      "=== 남성 주 불임 원인 별 임신 성공률 ===\n",
      "             count      mean\n",
      "남성 주 불임 원인                  \n",
      "0           249041  0.259475\n",
      "1             7310  0.219973\n",
      "\n",
      "=== 남성 부 불임 원인 별 임신 성공률 ===\n",
      "             count      mean\n",
      "남성 부 불임 원인                  \n",
      "0           252989  0.259158\n",
      "1             3362  0.197501\n",
      "\n",
      "=== 여성 주 불임 원인 별 임신 성공률 ===\n",
      "             count      mean\n",
      "여성 주 불임 원인                  \n",
      "0           248475  0.259592\n",
      "1             7876  0.219147\n",
      "\n",
      "=== 여성 부 불임 원인 별 임신 성공률 ===\n",
      "             count      mean\n",
      "여성 부 불임 원인                  \n",
      "0           253164  0.259136\n",
      "1             3187  0.195795\n",
      "\n",
      "=== 부부 주 불임 원인 별 임신 성공률 ===\n",
      "             count      mean\n",
      "부부 주 불임 원인                  \n",
      "0           247874  0.259652\n",
      "1             8477  0.220243\n",
      "\n",
      "=== 부부 부 불임 원인 별 임신 성공률 ===\n",
      "             count      mean\n",
      "부부 부 불임 원인                  \n",
      "0           254104  0.258981\n",
      "1             2247  0.186916\n",
      "\n",
      "=== 불명확 불임 원인 별 임신 성공률 ===\n",
      "            count      mean\n",
      "불명확 불임 원인                  \n",
      "0          192076  0.257976\n",
      "1           64275  0.259463\n",
      "\n",
      "=== 불임 원인 - 난관 질환 별 임신 성공률 ===\n",
      "                count      mean\n",
      "불임 원인 - 난관 질환                  \n",
      "0              220794  0.258445\n",
      "1               35557  0.257755\n",
      "\n",
      "=== 불임 원인 - 남성 요인 별 임신 성공률 ===\n",
      "                count      mean\n",
      "불임 원인 - 남성 요인                  \n",
      "0              160885  0.245567\n",
      "1               95466  0.279890\n",
      "\n",
      "=== 불임 원인 - 배란 장애 별 임신 성공률 ===\n",
      "                count      mean\n",
      "불임 원인 - 배란 장애                  \n",
      "0              222925  0.254108\n",
      "1               33426  0.286633\n",
      "\n",
      "=== 불임 원인 - 여성 요인 별 임신 성공률 ===\n",
      "                count      mean\n",
      "불임 원인 - 여성 요인                  \n",
      "0              256351  0.258349\n",
      "\n",
      "=== 불임 원인 - 자궁경부 문제 별 임신 성공률 ===\n",
      "                  count      mean\n",
      "불임 원인 - 자궁경부 문제                  \n",
      "0                256341  0.258359\n",
      "1                    10  0.000000\n",
      "\n",
      "=== 불임 원인 - 자궁내막증 별 임신 성공률 ===\n",
      "                count      mean\n",
      "불임 원인 - 자궁내막증                  \n",
      "0              238049  0.258619\n",
      "1               18302  0.254836\n",
      "\n",
      "=== 불임 원인 - 정자 농도 별 임신 성공률 ===\n",
      "                count      mean\n",
      "불임 원인 - 정자 농도                  \n",
      "0              256075  0.258358\n",
      "1                 276  0.250000\n",
      "\n",
      "=== 불임 원인 - 정자 면역학적 요인 별 임신 성공률 ===\n",
      "                     count     mean\n",
      "불임 원인 - 정자 면역학적 요인                 \n",
      "0                   256350  0.25835\n",
      "1                        1  0.00000\n",
      "\n",
      "=== 불임 원인 - 정자 운동성 별 임신 성공률 ===\n",
      "                 count      mean\n",
      "불임 원인 - 정자 운동성                  \n",
      "0               256254  0.258380\n",
      "1                   97  0.175258\n",
      "\n",
      "=== 불임 원인 - 정자 형태 별 임신 성공률 ===\n",
      "                count      mean\n",
      "불임 원인 - 정자 형태                  \n",
      "0              256208  0.258368\n",
      "1                 143  0.223776\n"
     ]
    }
   ],
   "source": [
    "# 4. 각 불임 원인 변수의 임신 성공률과의 관계\n",
    "success_rates = pd.DataFrame()\n",
    "for col in infertility_cols:\n",
    "    success_rate = df.groupby(col)['임신 성공 여부'].agg(['count', 'mean'])\n",
    "    print(f\"\\n=== {col} 별 임신 성공률 ===\")\n",
    "    print(success_rate)"
   ]
  },
  {
   "cell_type": "markdown",
   "metadata": {},
   "source": [
    "- 샘플 수가 매우 적고 임신 성공률에 대해 큰 차이가 없는 변수들\n",
    "    - 정자 면역학적 요인(1건) --> 정자 면역학적 요인이 있는 경우 성공률 0\n",
    "    - 자궁경부 문제(10건) --> 자궁경부 문제가 있는 경우 성공률 0\n",
    "    - 정자 운동성(97건) --> 0.083 차이\n",
    "    - 정자 형태(143건) --> 0.03 차이\n",
    "    - 정자 농도(276건) --> 0.008 차이\n",
    "\n",
    "- 몇몇 변수(예: 남성 주 불임 원인, 여성 주 불임 원인, 부부 주 불임 원인)는 두 그룹 간 성공률 차이가 약 4~6% 정도로 나타난다. 임상적으로 의미있을 수 있으나, 데이터 불균형과 높은 다중공선성 문제도 고려해야 한다.\n",
    "\n",
    "- 불균형한 변수: 극단적으로 소수의 케이스만 있는 변수(예: 불임 원인 - 정자 면역학적 요인, 불임 원인 - 자궁경부 문제)는 통계적으로 신뢰도가 낮아 예측 모델에 잡음을 줄 수 있을 것이다.\n",
    "\n",
    "- 중복되는 정보를 줄이기 위해 피처를 결합하는 방법을 고려\n",
    "\n",
    "- 피처 엔지니어링(예: 변수 결합, 차원 축소 등) 후와, 해당 피처들을 제거한 상태에서의 모델 성능을 비교\n",
    "    - 만약 피처 엔지니어링 후 모델 성능이 개선되고, 해석도 명확해진다면 이를 채택"
   ]
  },
  {
   "cell_type": "markdown",
   "metadata": {},
   "source": [
    "---"
   ]
  },
  {
   "cell_type": "markdown",
   "metadata": {},
   "source": [
    "우선 전체 피처 정보를 최대한 보존하면서도, 정보 중복과 극단적인 불균형 문제를 해결하는게 최우선 목표임\n",
    "\n",
    "- 서로 매우 높은 상관관계를 보이는 피처들은 중복된 정보를 제공하므로, 하나의 변수로 통합하면 모델에 전달하는 정보의 중복을 줄일 수도 있고.(서로 상관관계가 매우 높은 변수들은 통계적 검증(PCA, 상관관계 분석 등)을 통해 하나의 변수로 통합하여 정보 중복을 줄이는 것이 관건)\n",
    "\n",
    "- 매우 한쪽 값으로 치우쳐 있어 정보량이 거의 없거나 모델에 노이즈를 줄 가능성이 있는 컬럼은 제거할 수도 있겠다.\n",
    "\n",
    "- 그리고 통합된 변수와 제거하지 않은 나머지 피처들을 모델 입력으로 사용하여 최대한의 정보를 활용하는게 좋을 듯 싶다."
   ]
  },
  {
   "cell_type": "code",
   "execution_count": 41,
   "metadata": {},
   "outputs": [
    {
     "name": "stdout",
     "output_type": "stream",
     "text": [
      "처리된 데이터의 컬럼:\n",
      "['저장된 배아 수_log', '수집된 신선 난자 수_log', '혼합된 난자 수_log', '파트너 정자와 혼합된 난자 수_log', '미세주입 후 저장된 배아 수_cat', '해동된 배아 수_cat', '해동 난자 수_cat', '저장된 신선 난자 수_cat', '기증자 정자와 혼합된 난자 수_cat', '시술 당시 나이_인코딩', '난자 기증자 나이_인코딩', '정자 기증자 나이_인코딩', '총 시술 횟수_구간', '클리닉 내 총 시술 횟수_구간', '시술 유형_encoded', '특정_시술_유형_그룹_encoded', '배란 유도 유형_encoded', '배아 생성 주요 이유_encoded', '난자 출처_encoded', '정자 출처_encoded', 'IVF 시술 횟수_encoded', 'DI 시술 횟수_encoded', '총 임신 횟수_encoded', 'IVF 임신 횟수_encoded', 'DI 임신 횟수_encoded', '총 출산 횟수_encoded', 'IVF 출산 횟수_encoded', 'DI 출산 횟수_encoded', '총 생성 배아 수', '미세주입된 난자 수', '미세주입에서 생성된 배아 수', '이식된 배아 수', '미세주입 배아 이식 수', '배아 해동 경과일', '난자 채취 경과일', '난자 혼합 경과일', '배아 이식 경과일', '배란 자극 여부', '단일 배아 이식 여부', '착상 전 유전 진단 사용 여부', '동결 배아 사용 여부', '신선 배아 사용 여부', '기증 배아 사용 여부', '대리모 여부', '불명확 불임 원인', '불임 원인 - 난관 질환', '불임 원인 - 남성 요인', '불임 원인 - 배란 장애', '불임 원인 - 자궁내막증', '임신 성공 여부', '이식_시기_구분', '시술_과정_완성도', '통합_주_불임', '통합_부_불임', '통합_정자_문제']\n"
     ]
    }
   ],
   "source": [
    "from sklearn.preprocessing import LabelEncoder\n",
    "\n",
    "def process_data(df):\n",
    "    # 1. 시계열 특성 관련 피쳐 엔지니어링\n",
    "    \n",
    "    # 이식 시기 구분(pd.cut은 기본적으로 right=True임, 오른쪽 값까지 포함시켜서 구간화)\n",
    "    df['이식_시기_구분'] = pd.cut(df['배아 이식 경과일'],\n",
    "                            bins=[-np.inf, -1, 1, 3, 7],\n",
    "                            labels=['NA', 'immediate', 'early', 'optimal'])\n",
    "    \n",
    "    # 레이블 인코딩 수행\n",
    "    le = LabelEncoder()\n",
    "    df['이식_시기_구분'] = le.fit_transform(df['이식_시기_구분'])\n",
    "    \n",
    "    # 시술 과정 완성도\n",
    "    df['시술_과정_완성도'] = ((df['배아 이식 경과일'] != -1) & \n",
    "                         (df['난자 채취 경과일'] != -1) & \n",
    "                         (df['난자 혼합 경과일'] != -1) &\n",
    "                         (df['배아 해동 경과일'] != -1)).astype(int)\n",
    "    \n",
    "    # 2. 불임 원인 변수 통합/제거\n",
    "    \n",
    "    # 주 불임 원인 통합\n",
    "    df['통합_주_불임'] = ((df['남성 주 불임 원인'] == 1) | \n",
    "                      (df['여성 주 불임 원인'] == 1) | \n",
    "                      (df['부부 주 불임 원인'] == 1)).astype(int)\n",
    "    \n",
    "    # 부 불임 원인 통합\n",
    "    df['통합_부_불임'] = ((df['남성 부 불임 원인'] == 1) | \n",
    "                      (df['여성 부 불임 원인'] == 1) | \n",
    "                      (df['부부 부 불임 원인'] == 1)).astype(int)\n",
    "    \n",
    "    # 정자 관련 문제 통합\n",
    "    df['통합_정자_문제'] = ((df['불임 원인 - 정자 운동성'] == 1) | \n",
    "                       (df['불임 원인 - 정자 형태'] == 1) | \n",
    "                       (df['불임 원인 - 정자 농도'] == 1)).astype(int)\n",
    "    \n",
    "    # 제거할 컬럼들\n",
    "    columns_to_drop = [\n",
    "        # 통합된 주/부 불임 원인\n",
    "        '남성 주 불임 원인', '여성 주 불임 원인', '부부 주 불임 원인',\n",
    "        '남성 부 불임 원인', '여성 부 불임 원인', '부부 부 불임 원인',\n",
    "        \n",
    "        # 통합된 정자 관련 변수\n",
    "        '불임 원인 - 정자 운동성', '불임 원인 - 정자 형태', '불임 원인 - 정자 농도',\n",
    "        \n",
    "        # 제거 대상 변수\n",
    "        '불임 원인 - 여성 요인', '불임 원인 - 정자 면역학적 요인', '불임 원인 - 자궁경부 문제'\n",
    "    ]\n",
    "    \n",
    "    df = df.drop(columns=columns_to_drop)\n",
    "    \n",
    "    return df\n",
    "\n",
    "# Train 데이터 처리\n",
    "train_df = pd.read_csv('../data/processed_train.csv')\n",
    "processed_train = process_data(train_df)\n",
    "processed_train.to_csv('../data/processed_train_ver2.csv', index=False)\n",
    "\n",
    "# Test 데이터 처리\n",
    "test_df = pd.read_csv('../data/processed_test.csv')\n",
    "processed_test = process_data(test_df)\n",
    "processed_test.to_csv('../data/processed_test_ver2.csv', index=False)\n",
    "\n",
    "# 처리된 데이터의 컬럼 확인\n",
    "print(\"처리된 데이터의 컬럼:\")\n",
    "print(processed_train.columns.tolist())"
   ]
  },
  {
   "cell_type": "code",
   "execution_count": 42,
   "metadata": {},
   "outputs": [
    {
     "name": "stdout",
     "output_type": "stream",
     "text": [
      "<class 'pandas.core.frame.DataFrame'>\n",
      "RangeIndex: 256351 entries, 0 to 256350\n",
      "Data columns (total 55 columns):\n",
      " #   Column                Non-Null Count   Dtype  \n",
      "---  ------                --------------   -----  \n",
      " 0   저장된 배아 수_log          256351 non-null  float64\n",
      " 1   수집된 신선 난자 수_log       256351 non-null  float64\n",
      " 2   혼합된 난자 수_log          256351 non-null  float64\n",
      " 3   파트너 정자와 혼합된 난자 수_log  256351 non-null  float64\n",
      " 4   미세주입 후 저장된 배아 수_cat   256351 non-null  int64  \n",
      " 5   해동된 배아 수_cat          256351 non-null  int64  \n",
      " 6   해동 난자 수_cat           256351 non-null  int64  \n",
      " 7   저장된 신선 난자 수_cat       256351 non-null  int64  \n",
      " 8   기증자 정자와 혼합된 난자 수_cat  256351 non-null  int64  \n",
      " 9   시술 당시 나이_인코딩          256351 non-null  int64  \n",
      " 10  난자 기증자 나이_인코딩         256351 non-null  int64  \n",
      " 11  정자 기증자 나이_인코딩         256351 non-null  int64  \n",
      " 12  총 시술 횟수_구간            256351 non-null  int64  \n",
      " 13  클리닉 내 총 시술 횟수_구간      256351 non-null  int64  \n",
      " 14  시술 유형_encoded         256351 non-null  int64  \n",
      " 15  특정_시술_유형_그룹_encoded   256351 non-null  int64  \n",
      " 16  배란 유도 유형_encoded      256351 non-null  int64  \n",
      " 17  배아 생성 주요 이유_encoded   256351 non-null  int64  \n",
      " 18  난자 출처_encoded         256351 non-null  int64  \n",
      " 19  정자 출처_encoded         256351 non-null  int64  \n",
      " 20  IVF 시술 횟수_encoded     256351 non-null  int64  \n",
      " 21  DI 시술 횟수_encoded      256351 non-null  int64  \n",
      " 22  총 임신 횟수_encoded       256351 non-null  int64  \n",
      " 23  IVF 임신 횟수_encoded     256351 non-null  int64  \n",
      " 24  DI 임신 횟수_encoded      256351 non-null  int64  \n",
      " 25  총 출산 횟수_encoded       256351 non-null  int64  \n",
      " 26  IVF 출산 횟수_encoded     256351 non-null  int64  \n",
      " 27  DI 출산 횟수_encoded      256351 non-null  int64  \n",
      " 28  총 생성 배아 수             256351 non-null  float64\n",
      " 29  미세주입된 난자 수            256351 non-null  float64\n",
      " 30  미세주입에서 생성된 배아 수       256351 non-null  float64\n",
      " 31  이식된 배아 수              256351 non-null  float64\n",
      " 32  미세주입 배아 이식 수          256351 non-null  float64\n",
      " 33  배아 해동 경과일             256351 non-null  float64\n",
      " 34  난자 채취 경과일             256351 non-null  float64\n",
      " 35  난자 혼합 경과일             256351 non-null  float64\n",
      " 36  배아 이식 경과일             256351 non-null  float64\n",
      " 37  배란 자극 여부              256351 non-null  int64  \n",
      " 38  단일 배아 이식 여부           256351 non-null  float64\n",
      " 39  착상 전 유전 진단 사용 여부      256351 non-null  float64\n",
      " 40  동결 배아 사용 여부           256351 non-null  float64\n",
      " 41  신선 배아 사용 여부           256351 non-null  float64\n",
      " 42  기증 배아 사용 여부           256351 non-null  float64\n",
      " 43  대리모 여부                256351 non-null  float64\n",
      " 44  불명확 불임 원인             256351 non-null  int64  \n",
      " 45  불임 원인 - 난관 질환         256351 non-null  int64  \n",
      " 46  불임 원인 - 남성 요인         256351 non-null  int64  \n",
      " 47  불임 원인 - 배란 장애         256351 non-null  int64  \n",
      " 48  불임 원인 - 자궁내막증         256351 non-null  int64  \n",
      " 49  임신 성공 여부              256351 non-null  int64  \n",
      " 50  이식_시기_구분              256351 non-null  int64  \n",
      " 51  시술_과정_완성도             256351 non-null  int64  \n",
      " 52  통합_주_불임               256351 non-null  int64  \n",
      " 53  통합_부_불임               256351 non-null  int64  \n",
      " 54  통합_정자_문제              256351 non-null  int64  \n",
      "dtypes: float64(19), int64(36)\n",
      "memory usage: 107.6 MB\n"
     ]
    }
   ],
   "source": [
    "processed_train.info()"
   ]
  },
  {
   "cell_type": "code",
   "execution_count": 45,
   "metadata": {},
   "outputs": [
    {
     "name": "stdout",
     "output_type": "stream",
     "text": [
      "<class 'pandas.core.frame.DataFrame'>\n",
      "RangeIndex: 90067 entries, 0 to 90066\n",
      "Data columns (total 55 columns):\n",
      " #   Column                Non-Null Count  Dtype  \n",
      "---  ------                --------------  -----  \n",
      " 0   ID                    90067 non-null  object \n",
      " 1   저장된 배아 수_log          90067 non-null  float64\n",
      " 2   수집된 신선 난자 수_log       90067 non-null  float64\n",
      " 3   혼합된 난자 수_log          90067 non-null  float64\n",
      " 4   파트너 정자와 혼합된 난자 수_log  90067 non-null  float64\n",
      " 5   미세주입 후 저장된 배아 수_cat   90067 non-null  int64  \n",
      " 6   해동된 배아 수_cat          90067 non-null  int64  \n",
      " 7   해동 난자 수_cat           90067 non-null  int64  \n",
      " 8   저장된 신선 난자 수_cat       90067 non-null  int64  \n",
      " 9   기증자 정자와 혼합된 난자 수_cat  90067 non-null  int64  \n",
      " 10  시술 당시 나이_인코딩          90067 non-null  int64  \n",
      " 11  난자 기증자 나이_인코딩         90067 non-null  int64  \n",
      " 12  정자 기증자 나이_인코딩         90067 non-null  int64  \n",
      " 13  총 시술 횟수_구간            90067 non-null  int64  \n",
      " 14  클리닉 내 총 시술 횟수_구간      90067 non-null  int64  \n",
      " 15  시술 유형_encoded         90067 non-null  int64  \n",
      " 16  특정_시술_유형_그룹_encoded   90067 non-null  int64  \n",
      " 17  배란 유도 유형_encoded      90067 non-null  int64  \n",
      " 18  배아 생성 주요 이유_encoded   90067 non-null  int64  \n",
      " 19  난자 출처_encoded         90067 non-null  int64  \n",
      " 20  정자 출처_encoded         90067 non-null  int64  \n",
      " 21  IVF 시술 횟수_encoded     90067 non-null  int64  \n",
      " 22  DI 시술 횟수_encoded      90067 non-null  int64  \n",
      " 23  총 임신 횟수_encoded       90067 non-null  int64  \n",
      " 24  IVF 임신 횟수_encoded     90067 non-null  int64  \n",
      " 25  DI 임신 횟수_encoded      90067 non-null  int64  \n",
      " 26  총 출산 횟수_encoded       90067 non-null  int64  \n",
      " 27  IVF 출산 횟수_encoded     90067 non-null  int64  \n",
      " 28  DI 출산 횟수_encoded      90067 non-null  int64  \n",
      " 29  총 생성 배아 수             90067 non-null  float64\n",
      " 30  미세주입된 난자 수            90067 non-null  float64\n",
      " 31  미세주입에서 생성된 배아 수       90067 non-null  float64\n",
      " 32  이식된 배아 수              90067 non-null  float64\n",
      " 33  미세주입 배아 이식 수          90067 non-null  float64\n",
      " 34  배아 해동 경과일             90067 non-null  float64\n",
      " 35  난자 채취 경과일             90067 non-null  float64\n",
      " 36  난자 혼합 경과일             90067 non-null  float64\n",
      " 37  배아 이식 경과일             90067 non-null  float64\n",
      " 38  배란 자극 여부              90067 non-null  int64  \n",
      " 39  단일 배아 이식 여부           90067 non-null  float64\n",
      " 40  착상 전 유전 진단 사용 여부      90067 non-null  float64\n",
      " 41  동결 배아 사용 여부           90067 non-null  float64\n",
      " 42  신선 배아 사용 여부           90067 non-null  float64\n",
      " 43  기증 배아 사용 여부           90067 non-null  float64\n",
      " 44  대리모 여부                90067 non-null  float64\n",
      " 45  불명확 불임 원인             90067 non-null  int64  \n",
      " 46  불임 원인 - 난관 질환         90067 non-null  int64  \n",
      " 47  불임 원인 - 남성 요인         90067 non-null  int64  \n",
      " 48  불임 원인 - 배란 장애         90067 non-null  int64  \n",
      " 49  불임 원인 - 자궁내막증         90067 non-null  int64  \n",
      " 50  이식_시기_구분              90067 non-null  int64  \n",
      " 51  시술_과정_완성도             90067 non-null  int64  \n",
      " 52  통합_주_불임               90067 non-null  int64  \n",
      " 53  통합_부_불임               90067 non-null  int64  \n",
      " 54  통합_정자_문제              90067 non-null  int64  \n",
      "dtypes: float64(19), int64(35), object(1)\n",
      "memory usage: 37.8+ MB\n"
     ]
    }
   ],
   "source": [
    "processed_test.info()"
   ]
  },
  {
   "cell_type": "markdown",
   "metadata": {},
   "source": [
    "### 3. 로그 변환 효과 검증"
   ]
  },
  {
   "cell_type": "code",
   "execution_count": null,
   "metadata": {},
   "outputs": [],
   "source": []
  }
 ],
 "metadata": {
  "kernelspec": {
   "display_name": "fertimind",
   "language": "python",
   "name": "fertimind"
  },
  "language_info": {
   "codemirror_mode": {
    "name": "ipython",
    "version": 3
   },
   "file_extension": ".py",
   "mimetype": "text/x-python",
   "name": "python",
   "nbconvert_exporter": "python",
   "pygments_lexer": "ipython3",
   "version": "3.11.9"
  }
 },
 "nbformat": 4,
 "nbformat_minor": 2
}
