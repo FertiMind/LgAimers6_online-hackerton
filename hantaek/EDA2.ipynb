{
 "cells": [
  {
   "cell_type": "markdown",
   "metadata": {},
   "source": [
    "## 결측치 처리"
   ]
  },
  {
   "cell_type": "code",
   "execution_count": 1,
   "metadata": {},
   "outputs": [],
   "source": [
    "import pandas as pd\n",
    "\n",
    "df = pd.read_csv(\"../data/train.csv\")"
   ]
  },
  {
   "cell_type": "code",
   "execution_count": 2,
   "metadata": {},
   "outputs": [
    {
     "data": {
      "text/plain": [
       "임신 성공 여부\n",
       "0    190123\n",
       "1     66228\n",
       "Name: count, dtype: int64"
      ]
     },
     "execution_count": 2,
     "metadata": {},
     "output_type": "execute_result"
    }
   ],
   "source": [
    "# Target 비율 확인\n",
    "df['임신 성공 여부'].value_counts()"
   ]
  },
  {
   "cell_type": "code",
   "execution_count": 3,
   "metadata": {},
   "outputs": [
    {
     "data": {
      "text/plain": [
       "256351"
      ]
     },
     "execution_count": 3,
     "metadata": {},
     "output_type": "execute_result"
    }
   ],
   "source": [
    "len(df)"
   ]
  },
  {
   "cell_type": "code",
   "execution_count": 4,
   "metadata": {},
   "outputs": [
    {
     "data": {
      "text/html": [
       "<div>\n",
       "<style scoped>\n",
       "    .dataframe tbody tr th:only-of-type {\n",
       "        vertical-align: middle;\n",
       "    }\n",
       "\n",
       "    .dataframe tbody tr th {\n",
       "        vertical-align: top;\n",
       "    }\n",
       "\n",
       "    .dataframe thead th {\n",
       "        text-align: right;\n",
       "    }\n",
       "</style>\n",
       "<table border=\"1\" class=\"dataframe\">\n",
       "  <thead>\n",
       "    <tr style=\"text-align: right;\">\n",
       "      <th></th>\n",
       "      <th>Missing Count</th>\n",
       "      <th>Missing Percentage</th>\n",
       "    </tr>\n",
       "  </thead>\n",
       "  <tbody>\n",
       "    <tr>\n",
       "      <th>난자 해동 경과일</th>\n",
       "      <td>254915</td>\n",
       "      <td>99.439831</td>\n",
       "    </tr>\n",
       "    <tr>\n",
       "      <th>PGS 시술 여부</th>\n",
       "      <td>254422</td>\n",
       "      <td>99.247516</td>\n",
       "    </tr>\n",
       "    <tr>\n",
       "      <th>PGD 시술 여부</th>\n",
       "      <td>254172</td>\n",
       "      <td>99.149994</td>\n",
       "    </tr>\n",
       "    <tr>\n",
       "      <th>착상 전 유전 검사 사용 여부</th>\n",
       "      <td>253633</td>\n",
       "      <td>98.939735</td>\n",
       "    </tr>\n",
       "    <tr>\n",
       "      <th>임신 시도 또는 마지막 임신 경과 연수</th>\n",
       "      <td>246981</td>\n",
       "      <td>96.344855</td>\n",
       "    </tr>\n",
       "    <tr>\n",
       "      <th>배아 해동 경과일</th>\n",
       "      <td>215982</td>\n",
       "      <td>84.252451</td>\n",
       "    </tr>\n",
       "    <tr>\n",
       "      <th>난자 채취 경과일</th>\n",
       "      <td>57488</td>\n",
       "      <td>22.425503</td>\n",
       "    </tr>\n",
       "    <tr>\n",
       "      <th>난자 혼합 경과일</th>\n",
       "      <td>53735</td>\n",
       "      <td>20.961494</td>\n",
       "    </tr>\n",
       "    <tr>\n",
       "      <th>배아 이식 경과일</th>\n",
       "      <td>43566</td>\n",
       "      <td>16.994667</td>\n",
       "    </tr>\n",
       "    <tr>\n",
       "      <th>저장된 배아 수</th>\n",
       "      <td>6291</td>\n",
       "      <td>2.454057</td>\n",
       "    </tr>\n",
       "    <tr>\n",
       "      <th>단일 배아 이식 여부</th>\n",
       "      <td>6291</td>\n",
       "      <td>2.454057</td>\n",
       "    </tr>\n",
       "    <tr>\n",
       "      <th>배아 생성 주요 이유</th>\n",
       "      <td>6291</td>\n",
       "      <td>2.454057</td>\n",
       "    </tr>\n",
       "    <tr>\n",
       "      <th>착상 전 유전 진단 사용 여부</th>\n",
       "      <td>6291</td>\n",
       "      <td>2.454057</td>\n",
       "    </tr>\n",
       "    <tr>\n",
       "      <th>총 생성 배아 수</th>\n",
       "      <td>6291</td>\n",
       "      <td>2.454057</td>\n",
       "    </tr>\n",
       "    <tr>\n",
       "      <th>미세주입된 난자 수</th>\n",
       "      <td>6291</td>\n",
       "      <td>2.454057</td>\n",
       "    </tr>\n",
       "    <tr>\n",
       "      <th>기증 배아 사용 여부</th>\n",
       "      <td>6291</td>\n",
       "      <td>2.454057</td>\n",
       "    </tr>\n",
       "    <tr>\n",
       "      <th>해동 난자 수</th>\n",
       "      <td>6291</td>\n",
       "      <td>2.454057</td>\n",
       "    </tr>\n",
       "    <tr>\n",
       "      <th>미세주입 후 저장된 배아 수</th>\n",
       "      <td>6291</td>\n",
       "      <td>2.454057</td>\n",
       "    </tr>\n",
       "    <tr>\n",
       "      <th>해동된 배아 수</th>\n",
       "      <td>6291</td>\n",
       "      <td>2.454057</td>\n",
       "    </tr>\n",
       "    <tr>\n",
       "      <th>미세주입 배아 이식 수</th>\n",
       "      <td>6291</td>\n",
       "      <td>2.454057</td>\n",
       "    </tr>\n",
       "    <tr>\n",
       "      <th>이식된 배아 수</th>\n",
       "      <td>6291</td>\n",
       "      <td>2.454057</td>\n",
       "    </tr>\n",
       "    <tr>\n",
       "      <th>미세주입에서 생성된 배아 수</th>\n",
       "      <td>6291</td>\n",
       "      <td>2.454057</td>\n",
       "    </tr>\n",
       "    <tr>\n",
       "      <th>수집된 신선 난자 수</th>\n",
       "      <td>6291</td>\n",
       "      <td>2.454057</td>\n",
       "    </tr>\n",
       "    <tr>\n",
       "      <th>파트너 정자와 혼합된 난자 수</th>\n",
       "      <td>6291</td>\n",
       "      <td>2.454057</td>\n",
       "    </tr>\n",
       "    <tr>\n",
       "      <th>신선 배아 사용 여부</th>\n",
       "      <td>6291</td>\n",
       "      <td>2.454057</td>\n",
       "    </tr>\n",
       "    <tr>\n",
       "      <th>동결 배아 사용 여부</th>\n",
       "      <td>6291</td>\n",
       "      <td>2.454057</td>\n",
       "    </tr>\n",
       "    <tr>\n",
       "      <th>기증자 정자와 혼합된 난자 수</th>\n",
       "      <td>6291</td>\n",
       "      <td>2.454057</td>\n",
       "    </tr>\n",
       "    <tr>\n",
       "      <th>저장된 신선 난자 수</th>\n",
       "      <td>6291</td>\n",
       "      <td>2.454057</td>\n",
       "    </tr>\n",
       "    <tr>\n",
       "      <th>혼합된 난자 수</th>\n",
       "      <td>6291</td>\n",
       "      <td>2.454057</td>\n",
       "    </tr>\n",
       "    <tr>\n",
       "      <th>대리모 여부</th>\n",
       "      <td>6291</td>\n",
       "      <td>2.454057</td>\n",
       "    </tr>\n",
       "    <tr>\n",
       "      <th>특정 시술 유형</th>\n",
       "      <td>2</td>\n",
       "      <td>0.000780</td>\n",
       "    </tr>\n",
       "  </tbody>\n",
       "</table>\n",
       "</div>"
      ],
      "text/plain": [
       "                       Missing Count  Missing Percentage\n",
       "난자 해동 경과일                     254915           99.439831\n",
       "PGS 시술 여부                     254422           99.247516\n",
       "PGD 시술 여부                     254172           99.149994\n",
       "착상 전 유전 검사 사용 여부              253633           98.939735\n",
       "임신 시도 또는 마지막 임신 경과 연수         246981           96.344855\n",
       "배아 해동 경과일                     215982           84.252451\n",
       "난자 채취 경과일                      57488           22.425503\n",
       "난자 혼합 경과일                      53735           20.961494\n",
       "배아 이식 경과일                      43566           16.994667\n",
       "저장된 배아 수                        6291            2.454057\n",
       "단일 배아 이식 여부                     6291            2.454057\n",
       "배아 생성 주요 이유                     6291            2.454057\n",
       "착상 전 유전 진단 사용 여부                6291            2.454057\n",
       "총 생성 배아 수                       6291            2.454057\n",
       "미세주입된 난자 수                      6291            2.454057\n",
       "기증 배아 사용 여부                     6291            2.454057\n",
       "해동 난자 수                         6291            2.454057\n",
       "미세주입 후 저장된 배아 수                 6291            2.454057\n",
       "해동된 배아 수                        6291            2.454057\n",
       "미세주입 배아 이식 수                    6291            2.454057\n",
       "이식된 배아 수                        6291            2.454057\n",
       "미세주입에서 생성된 배아 수                 6291            2.454057\n",
       "수집된 신선 난자 수                     6291            2.454057\n",
       "파트너 정자와 혼합된 난자 수                6291            2.454057\n",
       "신선 배아 사용 여부                     6291            2.454057\n",
       "동결 배아 사용 여부                     6291            2.454057\n",
       "기증자 정자와 혼합된 난자 수                6291            2.454057\n",
       "저장된 신선 난자 수                     6291            2.454057\n",
       "혼합된 난자 수                        6291            2.454057\n",
       "대리모 여부                          6291            2.454057\n",
       "특정 시술 유형                           2            0.000780"
      ]
     },
     "execution_count": 4,
     "metadata": {},
     "output_type": "execute_result"
    }
   ],
   "source": [
    "# 각 컬럼별 결측치 개수와 비율 계산\n",
    "missing_counts = df.isnull().sum()\n",
    "missing_percentage = df.isnull().mean() * 100\n",
    "\n",
    "# 결측치가 존재하는 컬럼만 선택하여 DataFrame 생성\n",
    "missing_info = pd.DataFrame({\n",
    "    'Missing Count': missing_counts,\n",
    "    'Missing Percentage': missing_percentage\n",
    "})\n",
    "\n",
    "# 결측치가 없는 컬럼은 제외하고, 결측치 비율 기준으로 내림차순 정렬\n",
    "missing_info = missing_info[missing_info['Missing Count'] > 0].sort_values(by='Missing Percentage', ascending=False)\n",
    "\n",
    "# 결과 출력\n",
    "missing_info\n",
    "\n",
    "\n",
    "## 결과\n",
    "## 전체 데이터는 256,351로서 결측치가 95% 이상 되는 것들은 없애고 진행해도 좋을 것 같다.\n",
    "## 다만, 중요한 정보를 놓칠 수도 있기 때문에 이후 추가적인 검증이 필요할 듯 싶다."
   ]
  },
  {
   "cell_type": "code",
   "execution_count": 7,
   "metadata": {},
   "outputs": [
    {
     "data": {
      "text/plain": [
       "(256351, 69)"
      ]
     },
     "execution_count": 7,
     "metadata": {},
     "output_type": "execute_result"
    }
   ],
   "source": [
    "df.shape"
   ]
  },
  {
   "cell_type": "code",
   "execution_count": 8,
   "metadata": {},
   "outputs": [],
   "source": [
    "import matplotlib.pyplot as plt\n",
    "import matplotlib.font_manager as fm\n",
    "\n",
    "# 폰트 설정\n",
    "plt.rcParams['font.family'] = 'NanumGothic'  # 설치된 폰트 중 하나 선택\n",
    "plt.rcParams['axes.unicode_minus'] = False  # 마이너스 기호 깨짐 방지"
   ]
  },
  {
   "cell_type": "code",
   "execution_count": 9,
   "metadata": {},
   "outputs": [],
   "source": [
    "import seaborn as sns\n",
    "\n",
    "# 폰트 설정\n",
    "sns.set(font=\"NanumGothic\", rc={\"axes.unicode_minus\": False})"
   ]
  },
  {
   "cell_type": "markdown",
   "metadata": {},
   "source": [
    "### 수치형 범주형 나눠서 EDA"
   ]
  },
  {
   "cell_type": "code",
   "execution_count": 10,
   "metadata": {},
   "outputs": [
    {
     "name": "stdout",
     "output_type": "stream",
     "text": [
      "95% 이상 결측치 컬럼:\n",
      "임신 시도 또는 마지막 임신 경과 연수    96.344855\n",
      "착상 전 유전 검사 사용 여부         98.939735\n",
      "PGD 시술 여부                99.149994\n",
      "PGS 시술 여부                99.247516\n",
      "난자 해동 경과일                99.439831\n",
      "dtype: float64\n"
     ]
    }
   ],
   "source": [
    "# 1. 결측치 95% 이상 확인\n",
    "missing_ratio = df.isnull().sum() / len(df) * 100\n",
    "high_missing_cols = missing_ratio[missing_ratio > 95].index\n",
    "print(\"95% 이상 결측치 컬럼:\")\n",
    "print(missing_ratio[missing_ratio > 95])"
   ]
  },
  {
   "cell_type": "code",
   "execution_count": 24,
   "metadata": {},
   "outputs": [
    {
     "name": "stdout",
     "output_type": "stream",
     "text": [
      "\n",
      "수치형 변수 목록:\n",
      "['배란 자극 여부', '단일 배아 이식 여부', '착상 전 유전 진단 사용 여부', '남성 주 불임 원인', '남성 부 불임 원인', '여성 주 불임 원인', '여성 부 불임 원인', '부부 주 불임 원인', '부부 부 불임 원인', '불명확 불임 원인', '불임 원인 - 난관 질환', '불임 원인 - 남성 요인', '불임 원인 - 배란 장애', '불임 원인 - 여성 요인', '불임 원인 - 자궁경부 문제', '불임 원인 - 자궁내막증', '불임 원인 - 정자 농도', '불임 원인 - 정자 면역학적 요인', '불임 원인 - 정자 운동성', '불임 원인 - 정자 형태', '총 생성 배아 수', '미세주입된 난자 수', '미세주입에서 생성된 배아 수', '이식된 배아 수', '미세주입 배아 이식 수', '저장된 배아 수', '미세주입 후 저장된 배아 수', '해동된 배아 수', '해동 난자 수', '수집된 신선 난자 수', '저장된 신선 난자 수', '혼합된 난자 수', '파트너 정자와 혼합된 난자 수', '기증자 정자와 혼합된 난자 수', '동결 배아 사용 여부', '신선 배아 사용 여부', '기증 배아 사용 여부', '대리모 여부', '난자 채취 경과일', '난자 혼합 경과일', '배아 이식 경과일', '배아 해동 경과일', '임신 성공 여부']\n",
      "\n",
      "범주형 변수 목록:\n",
      "['ID', '시술 시기 코드', '시술 당시 나이', '시술 유형', '특정 시술 유형', '배란 유도 유형', '배아 생성 주요 이유', '총 시술 횟수', '클리닉 내 총 시술 횟수', 'IVF 시술 횟수', 'DI 시술 횟수', '총 임신 횟수', 'IVF 임신 횟수', 'DI 임신 횟수', '총 출산 횟수', 'IVF 출산 횟수', 'DI 출산 횟수', '난자 출처', '정자 출처', '난자 기증자 나이', '정자 기증자 나이']\n",
      "\n",
      "결측치를 제외한 총 컬럼 개수: 수치형: 43개, 범주형: 21개, 총 컬럼 개수: 64개\n"
     ]
    }
   ],
   "source": [
    "# 2. 데이터 타입 분리\n",
    "df_cleaned = df.drop(columns=high_missing_cols)\n",
    "numeric_cols = df_cleaned.select_dtypes(include=['int64', 'float64']).columns\n",
    "categorical_cols = df_cleaned.select_dtypes(include=['object']).columns\n",
    "\n",
    "print(\"\\n수치형 변수 목록:\")\n",
    "print(numeric_cols.tolist())\n",
    "print(\"\\n범주형 변수 목록:\")\n",
    "print(categorical_cols.tolist(), end='\\n\\n')\n",
    "\n",
    "print(f\"결측치를 제외한 총 컬럼 개수: 수치형: {len(numeric_cols)}개, 범주형: {len(categorical_cols)}개, 총 컬럼 개수: {len(numeric_cols) + len(categorical_cols)}개\")"
   ]
  },
  {
   "cell_type": "code",
   "execution_count": 20,
   "metadata": {},
   "outputs": [
    {
     "name": "stdout",
     "output_type": "stream",
     "text": [
      "\n",
      "수치형 변수 결측치 비율:\n",
      "배아 해동 경과일             84.252451\n",
      "난자 채취 경과일             22.425503\n",
      "난자 혼합 경과일             20.961494\n",
      "배아 이식 경과일             16.994667\n",
      "미세주입 배아 이식 수           2.454057\n",
      "미세주입 후 저장된 배아 수        2.454057\n",
      "이식된 배아 수               2.454057\n",
      "저장된 배아 수               2.454057\n",
      "단일 배아 이식 여부            2.454057\n",
      "착상 전 유전 진단 사용 여부       2.454057\n",
      "저장된 신선 난자 수            2.454057\n",
      "대리모 여부                 2.454057\n",
      "기증자 정자와 혼합된 난자 수       2.454057\n",
      "파트너 정자와 혼합된 난자 수       2.454057\n",
      "혼합된 난자 수               2.454057\n",
      "신선 배아 사용 여부            2.454057\n",
      "기증 배아 사용 여부            2.454057\n",
      "총 생성 배아 수              2.454057\n",
      "동결 배아 사용 여부            2.454057\n",
      "미세주입된 난자 수             2.454057\n",
      "수집된 신선 난자 수            2.454057\n",
      "해동 난자 수                2.454057\n",
      "해동된 배아 수               2.454057\n",
      "미세주입에서 생성된 배아 수        2.454057\n",
      "배란 자극 여부               0.000000\n",
      "남성 부 불임 원인             0.000000\n",
      "남성 주 불임 원인             0.000000\n",
      "불임 원인 - 난관 질환          0.000000\n",
      "불명확 불임 원인              0.000000\n",
      "부부 부 불임 원인             0.000000\n",
      "부부 주 불임 원인             0.000000\n",
      "여성 부 불임 원인             0.000000\n",
      "여성 주 불임 원인             0.000000\n",
      "불임 원인 - 정자 형태          0.000000\n",
      "불임 원인 - 정자 운동성         0.000000\n",
      "불임 원인 - 남성 요인          0.000000\n",
      "불임 원인 - 배란 장애          0.000000\n",
      "불임 원인 - 여성 요인          0.000000\n",
      "불임 원인 - 자궁경부 문제        0.000000\n",
      "불임 원인 - 자궁내막증          0.000000\n",
      "불임 원인 - 정자 농도          0.000000\n",
      "불임 원인 - 정자 면역학적 요인     0.000000\n",
      "임신 성공 여부               0.000000\n",
      "dtype: float64\n",
      "\n",
      "범주형 변수 결측치 비율:\n",
      "배아 생성 주요 이유      2.454057\n",
      "특정 시술 유형         0.000780\n",
      "ID               0.000000\n",
      "시술 당시 나이         0.000000\n",
      "시술 시기 코드         0.000000\n",
      "시술 유형            0.000000\n",
      "배란 유도 유형         0.000000\n",
      "총 시술 횟수          0.000000\n",
      "클리닉 내 총 시술 횟수    0.000000\n",
      "IVF 시술 횟수        0.000000\n",
      "DI 시술 횟수         0.000000\n",
      "총 임신 횟수          0.000000\n",
      "IVF 임신 횟수        0.000000\n",
      "DI 임신 횟수         0.000000\n",
      "총 출산 횟수          0.000000\n",
      "IVF 출산 횟수        0.000000\n",
      "DI 출산 횟수         0.000000\n",
      "난자 출처            0.000000\n",
      "정자 출처            0.000000\n",
      "난자 기증자 나이        0.000000\n",
      "정자 기증자 나이        0.000000\n",
      "dtype: float64\n"
     ]
    }
   ],
   "source": [
    "# 3. 각 타입별 결측치 비율\n",
    "print(\"\\n수치형 변수 결측치 비율:\")\n",
    "print((df_cleaned[numeric_cols].isnull().sum() / len(df_cleaned) * 100).sort_values(ascending=False))\n",
    "\n",
    "print(\"\\n범주형 변수 결측치 비율:\")\n",
    "print((df_cleaned[categorical_cols].isnull().sum() / len(df_cleaned) * 100).sort_values(ascending=False))"
   ]
  },
  {
   "cell_type": "markdown",
   "metadata": {},
   "source": [
    "### 결측치 패턴에서 보여지는 것\n",
    "\n",
    "---\n",
    "1. 시간 관련 변수들의 높은 결측률\n",
    "- 배아 해동 경과일 (84.25%)\n",
    "- 난자 채취 경과일 (22.43%)\n",
    "- 난자 혼합 경과일 (20.96%)\n",
    "- 배아 이식 경과일 (17.00%)\n",
    "---\n",
    "2. 배아/난자 관련 변수들의 일관된 결측률\n",
    "- 대부분 2.45% 정도의 동일한 결측률\n",
    "- 특정 케이스들에서의 시스템적 missing일 가능성이 있음\n",
    "---\n",
    "3. 범주형 변수들\n",
    "- 대부분 결측치 X\n",
    "- 배아 생성 주요 이유만 2.45% 결측\n",
    "---\n",
    "\n",
    "- 확인해볼 것\n",
    "1. 2.45%의 동일한 결측률을 보이는 변수들 간의 관계\n",
    "2. 시간 관련 변수들의 높은 결측률이 특정 시술 유형과 관련이 있는지"
   ]
  },
  {
   "cell_type": "code",
   "execution_count": 27,
   "metadata": {},
   "outputs": [
    {
     "name": "stdout",
     "output_type": "stream",
     "text": [
      "2.45% 결측 변수들의 패턴:\n",
      "0     250060\n",
      "21      6291\n",
      "Name: count, dtype: int64\n"
     ]
    }
   ],
   "source": [
    "# 1. 2.45% 동일한 결측률을 보이는 변수들 간의 관계 확인\n",
    "\n",
    "missing_2_45 = [col for col in df_cleaned.columns if (df_cleaned[col].isnull().sum() / len(df_cleaned) * 100) > 2.4 and (df_cleaned[col].isnull().sum() / len(df_cleaned) * 100) < 2.5]\n",
    "\n",
    "# 이 변수들의 결측치가 같은 행에서 발생하는지 확인\n",
    "missing_pattern = df_cleaned[missing_2_45].isnull().sum(axis=1)\n",
    "print(\"2.45% 결측 변수들의 패턴:\")\n",
    "print(missing_pattern.value_counts())"
   ]
  },
  {
   "cell_type": "markdown",
   "metadata": {},
   "source": [
    "- 2.45% 결측률을 가진 변수들의 패턴\n",
    "\n",
    "1. 250,060개의 행은 결측치가 없음\n",
    "2. 6,291개의 행에서 21개 변수가 모두 결측\n",
    "3. 이는 체계적인(systematic) 결측 패턴을 보여줌\n",
    "4. 특정 조건/상황에서 데이터가 수집되지 않았을 가능성이 있음"
   ]
  },
  {
   "cell_type": "code",
   "execution_count": 28,
   "metadata": {},
   "outputs": [
    {
     "name": "stdout",
     "output_type": "stream",
     "text": [
      "\n",
      "시술 유형별 시간 관련 변수 결측치 비율:\n",
      "\n",
      "배아 해동 경과일:\n",
      "시술 유형\n",
      "DI     100.000000\n",
      "IVF     83.856274\n",
      "Name: 배아 해동 경과일, dtype: float64\n",
      "\n",
      "난자 채취 경과일:\n",
      "시술 유형\n",
      "DI     100.000000\n",
      "IVF     20.473886\n",
      "Name: 난자 채취 경과일, dtype: float64\n",
      "\n",
      "난자 혼합 경과일:\n",
      "시술 유형\n",
      "DI     100.000000\n",
      "IVF     18.973046\n",
      "Name: 난자 혼합 경과일, dtype: float64\n",
      "\n",
      "배아 이식 경과일:\n",
      "시술 유형\n",
      "DI     100.000000\n",
      "IVF     14.906422\n",
      "Name: 배아 이식 경과일, dtype: float64\n",
      "\n",
      "특정 시술 유형별 시간 관련 변수 결측치 비율:\n",
      "\n",
      "배아 해동 경과일:\n",
      "특정 시술 유형\n",
      "GIFT                  100.0\n",
      "Generic DI            100.0\n",
      "ICI                   100.0\n",
      "IVI                   100.0\n",
      "IVF / AH:ICSI / AH    100.0\n",
      "Name: 배아 해동 경과일, dtype: float64\n",
      "\n",
      "난자 채취 경과일:\n",
      "특정 시술 유형\n",
      "ICI                        100.0\n",
      "Generic DI                 100.0\n",
      "IUI                        100.0\n",
      "ICSI / BLASTOCYST :ICSI    100.0\n",
      "IVI                        100.0\n",
      "Name: 난자 채취 경과일, dtype: float64\n",
      "\n",
      "난자 혼합 경과일:\n",
      "특정 시술 유형\n",
      "ICI                        100.0\n",
      "Generic DI                 100.0\n",
      "IUI                        100.0\n",
      "ICSI / BLASTOCYST :ICSI    100.0\n",
      "IVI                        100.0\n",
      "Name: 난자 혼합 경과일, dtype: float64\n",
      "\n",
      "배아 이식 경과일:\n",
      "특정 시술 유형\n",
      "GIFT          100.0\n",
      "Generic DI    100.0\n",
      "ICI           100.0\n",
      "IUI           100.0\n",
      "IVI           100.0\n",
      "Name: 배아 이식 경과일, dtype: float64\n"
     ]
    }
   ],
   "source": [
    "# 2. 시간 관련 변수들의 결측치와 시술 유형의 관계\n",
    "time_cols = ['배아 해동 경과일', '난자 채취 경과일', '난자 혼합 경과일', '배아 이식 경과일']\n",
    "\n",
    "print(\"\\n시술 유형별 시간 관련 변수 결측치 비율:\")\n",
    "for col in time_cols:\n",
    "    print(f\"\\n{col}:\")\n",
    "    missing_by_type = (df_cleaned[col].isnull().groupby(df_cleaned['시술 유형']).mean() * 100)\n",
    "    print(missing_by_type)\n",
    "\n",
    "# 특정 시술 유형별로도 확인\n",
    "print(\"\\n특정 시술 유형별 시간 관련 변수 결측치 비율:\")\n",
    "for col in time_cols:\n",
    "    print(f\"\\n{col}:\")\n",
    "    missing_by_specific_type = (df_cleaned[col].isnull().groupby(df_cleaned['특정 시술 유형']).mean() * 100)\n",
    "    print(missing_by_specific_type.sort_values(ascending=False).head())"
   ]
  },
  {
   "cell_type": "markdown",
   "metadata": {},
   "source": [
    "- 시간 관련 변수의 결측 패턴:\n",
    "\n",
    "\n",
    "1. DI 시술: 모든 시간 관련 변수가 100% 결측\n",
    "2. IVF 시술:\n",
    "    - 배아 해동 경과일: 83.9% 결측\n",
    "    - 나머지 시간 변수: 14.9~20.5% 결측\n",
    "3. 특정 시술별로는 ICI, Generic DI, IUI 등에서 대부분 100% 결측"
   ]
  },
  {
   "cell_type": "markdown",
   "metadata": {},
   "source": [
    "----"
   ]
  },
  {
   "cell_type": "markdown",
   "metadata": {},
   "source": [
    "- 시술 유형별로 다른 `결측치 처리 방법` 적용\n",
    "    - DI 시술의 경우 시간 관련 변수 제외 고려\n",
    "    - IVF 시술의 경우 시기별 중앙값으로 대체"
   ]
  },
  {
   "cell_type": "markdown",
   "metadata": {},
   "source": [
    "- 추가 확인이 필요한 사항:\n",
    "    1. 체계적 결측이 있는 6,291개 행의 특성\n",
    "    2. 이 행들의 임신 성공률이 다른지\n",
    "    3. etc"
   ]
  },
  {
   "cell_type": "code",
   "execution_count": 29,
   "metadata": {},
   "outputs": [],
   "source": [
    "# 1. 체계적 결측이 있는 행들의 특성 파악\n",
    "missing_pattern = df_cleaned[missing_2_45].isnull().sum(axis=1)\n",
    "systematic_missing = df_cleaned[missing_pattern > 0]\n",
    "normal_data = df_cleaned[missing_pattern == 0]"
   ]
  },
  {
   "cell_type": "code",
   "execution_count": 35,
   "metadata": {},
   "outputs": [
    {
     "name": "stdout",
     "output_type": "stream",
     "text": [
      "체계적 결측 데이터 vs 정상 데이터 비교\n",
      "\n",
      "결측 데이터 건수: 6291\n",
      "정상 데이터 건수: 250060\n"
     ]
    }
   ],
   "source": [
    "# 두 그룹의 기본 특성 비교\n",
    "print(\"체계적 결측 데이터 vs 정상 데이터 비교\")\n",
    "print(\"\\n결측 데이터 건수:\", len(systematic_missing))\n",
    "print(\"정상 데이터 건수:\", len(normal_data))"
   ]
  },
  {
   "cell_type": "code",
   "execution_count": 31,
   "metadata": {},
   "outputs": [
    {
     "name": "stdout",
     "output_type": "stream",
     "text": [
      "\n",
      "임신 성공률 비교:\n",
      "결측 데이터 성공률: 0.12891432204736925\n",
      "정상 데이터 성공률: 0.2616052147484604\n"
     ]
    }
   ],
   "source": [
    "# 2. 두 그룹의 임신 성공률 비교\n",
    "print(\"\\n임신 성공률 비교:\")\n",
    "print(\"결측 데이터 성공률:\", systematic_missing['임신 성공 여부'].mean())\n",
    "print(\"정상 데이터 성공률:\", normal_data['임신 성공 여부'].mean())"
   ]
  },
  {
   "cell_type": "code",
   "execution_count": 32,
   "metadata": {},
   "outputs": [
    {
     "name": "stdout",
     "output_type": "stream",
     "text": [
      "\n",
      "시술 유형 분포:\n",
      "\n",
      "결측 데이터:\n",
      "시술 유형\n",
      "DI    1.0\n",
      "Name: proportion, dtype: float64\n",
      "\n",
      "정상 데이터:\n",
      "시술 유형\n",
      "IVF    1.0\n",
      "Name: proportion, dtype: float64\n"
     ]
    }
   ],
   "source": [
    "# 3. 두 그룹의 시술 유형 분포 (DI: 정자를 제공받아서 하는 시술 -> 체내 시술 , IVF: 체외 수정 -> 체외(시험관) 시술)\n",
    "print(\"\\n시술 유형 분포:\")\n",
    "print(\"\\n결측 데이터:\")\n",
    "print(systematic_missing['시술 유형'].value_counts(normalize=True))\n",
    "print(\"\\n정상 데이터:\")\n",
    "print(normal_data['시술 유형'].value_counts(normalize=True))"
   ]
  },
  {
   "cell_type": "code",
   "execution_count": 33,
   "metadata": {},
   "outputs": [
    {
     "name": "stdout",
     "output_type": "stream",
     "text": [
      "\n",
      "시기별 분포:\n",
      "\n",
      "결측 데이터:\n",
      "시술 시기 코드\n",
      "TRVNRY    0.155619\n",
      "TRDQAZ    0.153235\n",
      "TRZKPL    0.147194\n",
      "TRXQMD    0.142108\n",
      "TRYBLT    0.136226\n",
      "TRJXFG    0.133365\n",
      "TRCMWS    0.132252\n",
      "Name: proportion, dtype: float64\n",
      "\n",
      "정상 데이터:\n",
      "시술 시기 코드\n",
      "TRDQAZ    0.151984\n",
      "TRCMWS    0.148996\n",
      "TRYBLT    0.143390\n",
      "TRVNRY    0.140742\n",
      "TRJXFG    0.140734\n",
      "TRZKPL    0.138439\n",
      "TRXQMD    0.135715\n",
      "Name: proportion, dtype: float64\n"
     ]
    }
   ],
   "source": [
    "# 4. 시기별 분포\n",
    "print(\"\\n시기별 분포:\")\n",
    "print(\"\\n결측 데이터:\")\n",
    "print(systematic_missing['시술 시기 코드'].value_counts(normalize=True))\n",
    "print(\"\\n정상 데이터:\")\n",
    "print(normal_data['시술 시기 코드'].value_counts(normalize=True))"
   ]
  },
  {
   "cell_type": "code",
   "execution_count": 34,
   "metadata": {},
   "outputs": [
    {
     "name": "stdout",
     "output_type": "stream",
     "text": [
      "\n",
      "연령대 분포:\n",
      "\n",
      "결측 데이터:\n",
      "시술 당시 나이\n",
      "만18-34세    0.329200\n",
      "만35-37세    0.230488\n",
      "만38-39세    0.167382\n",
      "만40-42세    0.164680\n",
      "만43-44세    0.066603\n",
      "만45-50세    0.041647\n",
      "Name: proportion, dtype: float64\n",
      "\n",
      "정상 데이터:\n",
      "시술 당시 나이\n",
      "만18-34세    0.401524\n",
      "만35-37세    0.225266\n",
      "만38-39세    0.152739\n",
      "만40-42세    0.145213\n",
      "만43-44세    0.047325\n",
      "만45-50세    0.026618\n",
      "알 수 없음     0.001316\n",
      "Name: proportion, dtype: float64\n"
     ]
    }
   ],
   "source": [
    "# 5. 연령대 분포\n",
    "print(\"\\n연령대 분포:\")\n",
    "print(\"\\n결측 데이터:\")\n",
    "print(systematic_missing['시술 당시 나이'].value_counts(normalize=True))\n",
    "print(\"\\n정상 데이터:\")\n",
    "print(normal_data['시술 당시 나이'].value_counts(normalize=True))"
   ]
  },
  {
   "cell_type": "markdown",
   "metadata": {},
   "source": [
    "- 추가 확인함으로써 나온 결론\n",
    "\n",
    "---\n",
    "\n",
    "1. 성공률\n",
    "    - 결측 데이터: 6,291건 (약 2.45%), 성공률 12.89%\n",
    "    - 정상 데이터: 250,060건 (약 97.55%), 성공률 26.16%\n",
    "    - `결측 데이터의 성공률`이 정상 데이터보다 `약 13.27%p 낮음`\n",
    "\n",
    "---\n",
    "\n",
    "2. 시술 유형 완벽한 분리\n",
    "    - 결측 데이터: 100% DI 시술\n",
    "    - 정상 데이터: 100% IVF 시술\n",
    "    - 결측치는 `DI와 IVF의 시술 과정 차이로 인한 체계적 결측임`을 확인. \n",
    "    \n",
    "        -> DI는 체내 시술(수정), IVF는 체외 시술(수정)\n",
    "\n",
    "---\n",
    "\n",
    "3. 시기별 분포\n",
    "- 두 그룹 모두 시기별로 비교적 균등하게 분포 (13~15% 범위)\n",
    "- 시기에 따른 큰 편향성은 없음\n",
    "\n",
    "---\n",
    "\n",
    "4. 연령대 분포\n",
    "\n",
    "- 결측 데이터(DI): 34세 이하가 32.9%\n",
    "- 정상 데이터(IVF): 34세 이하가 40.2%\n",
    "- IVF가 상대적으로 더 젊은 연령대에 집중\n",
    "\n",
    "---\n",
    "그래서?\n",
    "1) DI와 IVF를 분리해서 데이터 전처리를 고려\n",
    "- 두 시술의 특성과 결측 패턴이 완전히 다름\n",
    "- 각각의 특성에 맞는 피처 엔지니어링 가능\n",
    "\n",
    "2) 시간 관련 변수 처리\n",
    "- IVF의 경우 시기별 중앙값으로 대체 (중앙값으로 대체하는 것은 이상치 처리가 되지 않았기 때문, 따라서 초안 작업)\n",
    "- DI의 경우 해당 변수를 제외 (100% 결측이기 때문)"
   ]
  },
  {
   "cell_type": "code",
   "execution_count": 36,
   "metadata": {},
   "outputs": [
    {
     "name": "stdout",
     "output_type": "stream",
     "text": [
      "DI 데이터:\n",
      "- 샘플 수: 6291\n",
      "- 성공률: 0.12891432204736925\n",
      "\n",
      "IVF 데이터:\n",
      "- 샘플 수: 250060\n",
      "- 성공률: 0.2616052147484604\n"
     ]
    }
   ],
   "source": [
    "# 1. 데이터 분리\n",
    "df_di = df_cleaned[df_cleaned['시술 유형'] == 'DI'].copy()\n",
    "df_ivf = df_cleaned[df_cleaned['시술 유형'] == 'IVF'].copy()\n",
    "\n",
    "# 기본 정보 출력\n",
    "print(\"DI 데이터:\")\n",
    "print(\"- 샘플 수:\", len(df_di))\n",
    "print(\"- 성공률:\", df_di['임신 성공 여부'].mean())\n",
    "\n",
    "print(\"\\nIVF 데이터:\")\n",
    "print(\"- 샘플 수:\", len(df_ivf))\n",
    "print(\"- 성공률:\", df_ivf['임신 성공 여부'].mean())"
   ]
  },
  {
   "cell_type": "code",
   "execution_count": 37,
   "metadata": {},
   "outputs": [
    {
     "name": "stdout",
     "output_type": "stream",
     "text": [
      "\n",
      "IVF 데이터 시간 변수 결측치 처리 후:\n",
      "배아 해동 경과일: 0.00% 결측\n",
      "난자 채취 경과일: 0.00% 결측\n",
      "난자 혼합 경과일: 0.00% 결측\n",
      "배아 이식 경과일: 0.00% 결측\n"
     ]
    }
   ],
   "source": [
    "# 2. 시간 변수 처리\n",
    "time_cols = ['배아 해동 경과일', '난자 채취 경과일', '난자 혼합 경과일', '배아 이식 경과일']\n",
    "\n",
    "# DI: 시간 변수 제거\n",
    "df_di = df_di.drop(columns=time_cols)\n",
    "\n",
    "# IVF: 시기별 중앙값으로 대체\n",
    "for col in time_cols:\n",
    "    df_ivf[col] = df_ivf.groupby('시술 시기 코드')[col].transform(lambda x: x.fillna(x.median()))\n",
    "\n",
    "# 처리 후 결측치 확인\n",
    "print(\"\\nIVF 데이터 시간 변수 결측치 처리 후:\")\n",
    "for col in time_cols:\n",
    "    if col in df_ivf.columns:\n",
    "        missing_ratio = df_ivf[col].isnull().mean() * 100\n",
    "        print(f\"{col}: {missing_ratio:.2f}% 결측\")"
   ]
  },
  {
   "cell_type": "markdown",
   "metadata": {},
   "source": [
    "- 범주형 변수 전처리를 위해서 살펴보기"
   ]
  },
  {
   "cell_type": "code",
   "execution_count": 41,
   "metadata": {},
   "outputs": [
    {
     "name": "stdout",
     "output_type": "stream",
     "text": [
      "IVF 데이터:\n",
      "\n",
      "IVF-총 시술 횟수 분포:\n",
      "총 시술 횟수\n",
      "0회       97203\n",
      "1회       55920\n",
      "2회       38232\n",
      "3회       23491\n",
      "4회       14232\n",
      "5회        8367\n",
      "6회 이상    12615\n",
      "Name: count, dtype: int64\n",
      "\n",
      "IVF-클리닉 내 총 시술 횟수 분포:\n",
      "클리닉 내 총 시술 횟수\n",
      "0회       120757\n",
      "1회        58574\n",
      "2회        33402\n",
      "3회        17428\n",
      "4회         9224\n",
      "5회         4766\n",
      "6회 이상      5909\n",
      "Name: count, dtype: int64\n",
      "\n",
      "IVF-총 임신 횟수 분포:\n",
      "총 임신 횟수\n",
      "0회       201681\n",
      "1회        41663\n",
      "2회         5919\n",
      "3회          700\n",
      "4회           87\n",
      "5회            7\n",
      "6회 이상         3\n",
      "Name: count, dtype: int64\n",
      "\n",
      "IVF-총 출산 횟수 분포:\n",
      "총 출산 횟수\n",
      "0회       214229\n",
      "1회        33576\n",
      "2회         2091\n",
      "3회          148\n",
      "4회           13\n",
      "5회            1\n",
      "6회 이상         2\n",
      "Name: count, dtype: int64\n",
      "\n",
      "DI 데이터:\n",
      "\n",
      "DI-총 시술 횟수 분포:\n",
      "총 시술 횟수\n",
      "0회        396\n",
      "1회        899\n",
      "2회       1106\n",
      "3회       1040\n",
      "4회        909\n",
      "5회        739\n",
      "6회 이상    1202\n",
      "Name: count, dtype: int64\n",
      "\n",
      "DI-클리닉 내 총 시술 횟수 분포:\n",
      "클리닉 내 총 시술 횟수\n",
      "0회        918\n",
      "1회       1179\n",
      "2회       1160\n",
      "3회        929\n",
      "4회        794\n",
      "5회        630\n",
      "6회 이상     681\n",
      "Name: count, dtype: int64\n",
      "\n",
      "DI-총 임신 횟수 분포:\n",
      "총 임신 횟수\n",
      "0회    3745\n",
      "1회    2166\n",
      "2회     327\n",
      "3회      46\n",
      "4회       6\n",
      "5회       1\n",
      "Name: count, dtype: int64\n",
      "\n",
      "DI-총 출산 횟수 분포:\n",
      "총 출산 횟수\n",
      "0회    4326\n",
      "1회    1793\n",
      "2회     151\n",
      "3회      21\n",
      "Name: count, dtype: int64\n"
     ]
    }
   ],
   "source": [
    "# 횟수 관련 변수 분포 확인\n",
    "count_cols = ['총 시술 횟수', '클리닉 내 총 시술 횟수', \n",
    "              '총 임신 횟수', '총 출산 횟수']\n",
    "\n",
    "print(\"IVF 데이터:\")\n",
    "for col in count_cols:\n",
    "    print(f\"\\nIVF-{col} 분포:\")\n",
    "    print(df_ivf[col].value_counts().sort_index())\n",
    "\n",
    "print(\"\\nDI 데이터:\")\n",
    "for col in count_cols:\n",
    "    print(f\"\\nDI-{col} 분포:\")\n",
    "    print(df_di[col].value_counts().sort_index())"
   ]
  },
  {
   "cell_type": "markdown",
   "metadata": {},
   "source": [
    "- 시술 횟수 관련 변수들\n",
    "- 분포가 매우 치우침 (0회가 대부분)\n",
    "- IVF와 DI의 분포가 매우 다름\n",
    "- Label Encoding이 아닌 구간화(Binning) 필요\n",
    "\n",
    "    0회: 미시술\n",
    "    1-2회: 초기\n",
    "    3-5회: 중기\n",
    "    6회 이상: 후기\n",
    "\n",
    "    -> 3회 이상을 하나(반복 시술군)로 묶는 기준도 의학계에서 많이 사용된다고도 함.\n",
    "    -> 체외수정 횟수와 임신 성공률의 상관관계를 다룬 [보고서](https://nibp.kr/xe/news2/52677)​에서도 3회 이상의 시술 이후 결과 변화가 유의하게 나타난다는 점을 확인할 수 있음."
   ]
  },
  {
   "cell_type": "code",
   "execution_count": 44,
   "metadata": {},
   "outputs": [
    {
     "name": "stdout",
     "output_type": "stream",
     "text": [
      "IVF 데이터\n",
      "\n",
      "IVF-시술 당시 나이 범주:\n",
      "시술 당시 나이\n",
      "만18-34세    100405\n",
      "만35-37세     56330\n",
      "만38-39세     38194\n",
      "만40-42세     36312\n",
      "만43-44세     11834\n",
      "만45-50세      6656\n",
      "알 수 없음        329\n",
      "Name: count, dtype: int64\n",
      "\n",
      "IVF-난자 기증자 나이 범주:\n",
      "난자 기증자 나이\n",
      "만20세 이하       294\n",
      "만21-25세      2334\n",
      "만26-30세      4976\n",
      "만31-35세      6366\n",
      "알 수 없음     236090\n",
      "Name: count, dtype: int64\n",
      "\n",
      "IVF-정자 기증자 나이 범주:\n",
      "정자 기증자 나이\n",
      "만20세 이하       760\n",
      "만21-25세      4403\n",
      "만26-30세      3881\n",
      "만31-35세      3788\n",
      "만36-40세      4111\n",
      "만41-45세      2941\n",
      "알 수 없음     230176\n",
      "Name: count, dtype: int64\n",
      "\n",
      "DI 데이터\n",
      "\n",
      "DI-시술 당시 나이 범주:\n",
      "시술 당시 나이\n",
      "만18-34세    2071\n",
      "만35-37세    1450\n",
      "만38-39세    1053\n",
      "만40-42세    1036\n",
      "만43-44세     419\n",
      "만45-50세     262\n",
      "Name: count, dtype: int64\n",
      "\n",
      "DI-난자 기증자 나이 범주:\n",
      "난자 기증자 나이\n",
      "알 수 없음    6291\n",
      "Name: count, dtype: int64\n",
      "\n",
      "DI-정자 기증자 나이 범주:\n",
      "정자 기증자 나이\n",
      "만20세 이하     307\n",
      "만21-25세    1264\n",
      "만26-30세    1177\n",
      "만31-35세    1123\n",
      "만36-40세    1171\n",
      "만41-45세     907\n",
      "알 수 없음      342\n",
      "Name: count, dtype: int64\n"
     ]
    }
   ],
   "source": [
    "# 연령 관련 변수 분포 확인\n",
    "age_cols = ['시술 당시 나이', '난자 기증자 나이', '정자 기증자 나이']\n",
    "\n",
    "print(\"IVF 데이터\")\n",
    "for col in age_cols:\n",
    "    print(f\"\\nIVF-{col} 범주:\")\n",
    "    print(df_ivf[col].value_counts().sort_index())\n",
    "    \n",
    "print(\"\\nDI 데이터\")\n",
    "for col in age_cols:\n",
    "    print(f\"\\nDI-{col} 범주:\")\n",
    "    print(df_di[col].value_counts().sort_index())"
   ]
  },
  {
   "cell_type": "markdown",
   "metadata": {},
   "source": [
    "- 알 수 없음의 경우\n",
    "- 데이터 수집 과정에서 생긴 누락된 정보이거나\n",
    "- Not Applicable인 경우 (ex. DI의 경우 난자 기증자는 본인이기 때문에 `알 수 없음` 으로 처리된 것)\n",
    "- 따라서, 별도의 값으로 대체"
   ]
  },
  {
   "cell_type": "code",
   "execution_count": 45,
   "metadata": {},
   "outputs": [
    {
     "name": "stdout",
     "output_type": "stream",
     "text": [
      "전처리 적용 전 데이터 형태 확인:\n",
      "  총 시술 횟수 클리닉 내 총 시술 횟수\n",
      "0      0회            0회\n",
      "1      0회            0회\n",
      "2      1회            0회\n",
      "3      1회            1회\n",
      "4      0회            0회\n",
      "\n",
      "시술 당시 나이 분포:\n",
      "시술 당시 나이\n",
      "만18-34세    102476\n",
      "만35-37세     57780\n",
      "만38-39세     39247\n",
      "만40-42세     37348\n",
      "만43-44세     12253\n",
      "만45-50세      6918\n",
      "알 수 없음        329\n",
      "Name: count, dtype: int64\n"
     ]
    }
   ],
   "source": [
    "# 통합 데이터 전처리 전략\n",
    "\n",
    "# 1. 횟수 관련 변수 전처리\n",
    "count_features = {\n",
    "    '시술 횟수': ['총 시술 횟수', '클리닉 내 총 시술 횟수'],  # 구간화 적용\n",
    "    '임신/출산 횟수': ['총 임신 횟수', '총 출산 횟수']  # Label Encoding 유지\n",
    "}\n",
    "\n",
    "# 구간화 함수 정의\n",
    "def create_count_group(x):\n",
    "    if x == '0회': return 0\n",
    "    elif x in ['1회', '2회']: return 1\n",
    "    elif x in ['3회', '4회', '5회']: return 2\n",
    "    else: return 3  # '6회 이상'\n",
    "\n",
    "# 2. 연령 관련 전처리\n",
    "age_features = {\n",
    "    '시술 당시 나이',  # Label Encoding\n",
    "    '난자 기증자 나이',  # 'Not Applicable' 를 포함한 Label Encoding\n",
    "    '정자 기증자 나이'  # 'Not Applicable' 를 포함한 Label Encoding\n",
    "}\n",
    "\n",
    "# 시술 당시 나이 매핑 (순서 보존)\n",
    "age_mapping = {\n",
    "    '만18-34세': 0, '만35-37세': 1, '만38-39세': 2,\n",
    "    '만40-42세': 3, '만43-44세': 4, '만45-50세': 5,\n",
    "    '알 수 없음': 6\n",
    "}\n",
    "\n",
    "print(\"전처리 적용 전 데이터 형태 확인:\")\n",
    "print(df_cleaned[list(count_features['시술 횟수'])].head())\n",
    "print(\"\\n시술 당시 나이 분포:\")\n",
    "print(df_cleaned['시술 당시 나이'].value_counts())"
   ]
  },
  {
   "cell_type": "code",
   "execution_count": 46,
   "metadata": {},
   "outputs": [],
   "source": [
    "# 통합 데이터 전처리 적용\n",
    "\n",
    "# 1. 시술 횟수 관련 변수 전처리\n",
    "# 구간화 적용할 변수\n",
    "for col in ['총 시술 횟수', '클리닉 내 총 시술 횟수']:\n",
    "   df_cleaned[f'{col}_구간'] = df_cleaned[col].apply(create_count_group)\n",
    "   \n",
    "# 임신/출산 횟수는 원래 카테고리 유지하되 숫자만 추출\n",
    "for col in ['총 임신 횟수', '총 출산 횟수']:\n",
    "   df_cleaned[col] = df_cleaned[col].str.replace('회', '').str.replace('이상', '')\n",
    "   df_cleaned[col] = pd.to_numeric(df_cleaned[col])"
   ]
  },
  {
   "cell_type": "code",
   "execution_count": 47,
   "metadata": {},
   "outputs": [],
   "source": [
    "# 2. 연령 관련 변수 전처리\n",
    "# 시술 당시 나이: 순서가 있는 Label Encoding\n",
    "df_cleaned['시술 당시 나이'] = df_cleaned['시술 당시 나이'].map(age_mapping)\n",
    "\n",
    "# 기증자 나이: Not Applicable 고려한 처리\n",
    "for col in ['난자 기증자 나이', '정자 기증자 나이']:\n",
    "   # 알 수 없음은 -1로 처리 (Not Applicable 의미)\n",
    "   df_cleaned[col] = pd.Categorical(df_cleaned[col]).codes"
   ]
  },
  {
   "cell_type": "code",
   "execution_count": 48,
   "metadata": {},
   "outputs": [
    {
     "name": "stdout",
     "output_type": "stream",
     "text": [
      "전처리 후 시술 횟수 구간 분포:\n",
      "\n",
      "총 시술 횟수_구간:\n",
      "총 시술 횟수_구간\n",
      "0    97599\n",
      "1    96157\n",
      "3    13817\n",
      "2    48778\n",
      "Name: count, dtype: int64\n",
      "\n",
      "클리닉 내 총 시술 횟수_구간:\n",
      "클리닉 내 총 시술 횟수_구간\n",
      "0    121675\n",
      "1     94315\n",
      "3      6590\n",
      "2     33771\n",
      "Name: count, dtype: int64\n",
      "\n",
      "전처리 후 연령 관련 변수:\n",
      "\n",
      "시술 당시 나이:\n",
      "시술 당시 나이\n",
      "0    102476\n",
      "5      6918\n",
      "1     57780\n",
      "2     39247\n",
      "3     37348\n",
      "4     12253\n",
      "6       329\n",
      "Name: count, dtype: int64\n",
      "\n",
      "난자 기증자 나이:\n",
      "난자 기증자 나이\n",
      "4    242381\n",
      "1      2334\n",
      "3      6366\n",
      "2      4976\n",
      "0       294\n",
      "Name: count, dtype: int64\n",
      "\n",
      "정자 기증자 나이:\n",
      "정자 기증자 나이\n",
      "6    230518\n",
      "2      5058\n",
      "1      5667\n",
      "5      3848\n",
      "4      5282\n",
      "3      4911\n",
      "0      1067\n",
      "Name: count, dtype: int64\n"
     ]
    }
   ],
   "source": [
    "# 3. 확인\n",
    "print(\"전처리 후 시술 횟수 구간 분포:\")\n",
    "for col in ['총 시술 횟수_구간', '클리닉 내 총 시술 횟수_구간']:\n",
    "   print(f\"\\n{col}:\")\n",
    "   print(df_cleaned[col].value_counts(sort=False))\n",
    "\n",
    "print(\"\\n전처리 후 연령 관련 변수:\")\n",
    "for col in ['시술 당시 나이', '난자 기증자 나이', '정자 기증자 나이']:\n",
    "   print(f\"\\n{col}:\")\n",
    "   print(df_cleaned[col].value_counts(sort=False))"
   ]
  },
  {
   "cell_type": "markdown",
   "metadata": {},
   "source": [
    "- 수정이 필요한 부분:\n",
    "\n",
    "1. 시술 횟수 구간 순서 조정\n",
    "2. 기증자 나이 인코딩 방식 통일\n",
    "    - '알 수 없음'을 모두 같은 값(-1)으로 처리\n",
    "    - 실제 나이 범주를 순서대로 인코딩"
   ]
  },
  {
   "cell_type": "code",
   "execution_count": 52,
   "metadata": {},
   "outputs": [
    {
     "name": "stdout",
     "output_type": "stream",
     "text": [
      "시술 당시 나이 unique 값:\n",
      "['만18-34세' '만45-50세' '만35-37세' '만38-39세' '만40-42세' '만43-44세' '알 수 없음']\n",
      "\n",
      "난자 기증자 나이 unique 값:\n",
      "['알 수 없음' '만21-25세' '만31-35세' '만26-30세' '만20세 이하']\n",
      "\n",
      "정자 기증자 나이 unique 값:\n",
      "['알 수 없음' '만26-30세' '만21-25세' '만41-45세' '만36-40세' '만31-35세' '만20세 이하']\n"
     ]
    }
   ],
   "source": [
    "# 데이터 전처리 재시작\n",
    "# 1. 데이터 다시 불러오기\n",
    "df = pd.read_csv('../data/train.csv')\n",
    "\n",
    "# 2. 95% 이상 결측치 컬럼 제거\n",
    "missing_ratio = df.isnull().sum() / len(df) * 100\n",
    "high_missing_cols = missing_ratio[missing_ratio > 95].index\n",
    "df_cleaned = df.drop(columns=high_missing_cols)\n",
    "\n",
    "# 3. 연령 관련 변수들의 unique 값 확인\n",
    "print(\"시술 당시 나이 unique 값:\")\n",
    "print(df_cleaned['시술 당시 나이'].unique())\n",
    "\n",
    "print(\"\\n난자 기증자 나이 unique 값:\")\n",
    "print(df_cleaned['난자 기증자 나이'].unique())\n",
    "\n",
    "print(\"\\n정자 기증자 나이 unique 값:\")\n",
    "print(df_cleaned['정자 기증자 나이'].unique())"
   ]
  },
  {
   "cell_type": "code",
   "execution_count": 53,
   "metadata": {},
   "outputs": [],
   "source": [
    "# 1. 시술 횟수 구간화\n",
    "count_group_mapping = {\n",
    "    '0회': 0,          # 미시술\n",
    "    '1회': 1,          # 초기\n",
    "    '2회': 1,          # 초기\n",
    "    '3회': 2,          # 중기\n",
    "    '4회': 2,          # 중기\n",
    "    '5회': 2,          # 중기\n",
    "    '6회 이상': 3      # 후기\n",
    "}\n",
    "\n",
    "# 시술 횟수 관련 변수 전처리\n",
    "for col in ['총 시술 횟수', '클리닉 내 총 시술 횟수']:\n",
    "    df_cleaned[f'{col}_구간'] = df_cleaned[col].map(count_group_mapping)\n",
    "\n",
    "# 2. 연령 관련 변수 전처리\n",
    "# 시술 당시 나이 매핑\n",
    "age_mapping = {\n",
    "    '만18-34세': 0,\n",
    "    '만35-37세': 1, \n",
    "    '만38-39세': 2,\n",
    "    '만40-42세': 3, \n",
    "    '만43-44세': 4,\n",
    "    '만45-50세': 5,\n",
    "    '알 수 없음': -1\n",
    "}\n",
    "\n",
    "# 기증자 나이 매핑\n",
    "donor_age_mapping = {\n",
    "    '만20세 이하': 0,\n",
    "    '만21-25세': 1,\n",
    "    '만26-30세': 2,\n",
    "    '만31-35세': 3,\n",
    "    '만36-40세': 4,\n",
    "    '만41-45세': 5,\n",
    "    '알 수 없음': -1\n",
    "}\n",
    "\n",
    "# 연령 변수 매핑 적용\n",
    "df_cleaned['시술 당시 나이_인코딩'] = df_cleaned['시술 당시 나이'].map(age_mapping)\n",
    "df_cleaned['난자 기증자 나이_인코딩'] = df_cleaned['난자 기증자 나이'].map(donor_age_mapping)\n",
    "df_cleaned['정자 기증자 나이_인코딩'] = df_cleaned['정자 기증자 나이'].map(donor_age_mapping)"
   ]
  },
  {
   "cell_type": "code",
   "execution_count": 54,
   "metadata": {},
   "outputs": [
    {
     "name": "stdout",
     "output_type": "stream",
     "text": [
      "시술 횟수 구간 분포:\n",
      "\n",
      "총 시술 횟수_구간:\n",
      "총 시술 횟수_구간\n",
      "0    97599\n",
      "1    96157\n",
      "2    48778\n",
      "3    13817\n",
      "Name: count, dtype: int64\n",
      "\n",
      "클리닉 내 총 시술 횟수_구간:\n",
      "클리닉 내 총 시술 횟수_구간\n",
      "0    121675\n",
      "1     94315\n",
      "2     33771\n",
      "3      6590\n",
      "Name: count, dtype: int64\n",
      "\n",
      "연령 변수 인코딩 결과:\n",
      "\n",
      "시술 당시 나이_인코딩:\n",
      "시술 당시 나이_인코딩\n",
      "-1       329\n",
      " 0    102476\n",
      " 1     57780\n",
      " 2     39247\n",
      " 3     37348\n",
      " 4     12253\n",
      " 5      6918\n",
      "Name: count, dtype: int64\n",
      "\n",
      "난자 기증자 나이_인코딩:\n",
      "난자 기증자 나이_인코딩\n",
      "-1    242381\n",
      " 0       294\n",
      " 1      2334\n",
      " 2      4976\n",
      " 3      6366\n",
      "Name: count, dtype: int64\n",
      "\n",
      "정자 기증자 나이_인코딩:\n",
      "정자 기증자 나이_인코딩\n",
      "-1    230518\n",
      " 0      1067\n",
      " 1      5667\n",
      " 2      5058\n",
      " 3      4911\n",
      " 4      5282\n",
      " 5      3848\n",
      "Name: count, dtype: int64\n"
     ]
    }
   ],
   "source": [
    "# 3. 결과 확인\n",
    "print(\"시술 횟수 구간 분포:\")\n",
    "for col in ['총 시술 횟수_구간', '클리닉 내 총 시술 횟수_구간']:\n",
    "    print(f\"\\n{col}:\")\n",
    "    print(df_cleaned[col].value_counts().sort_index())\n",
    "\n",
    "print(\"\\n연령 변수 인코딩 결과:\")\n",
    "for col in ['시술 당시 나이_인코딩', '난자 기증자 나이_인코딩', '정자 기증자 나이_인코딩']:\n",
    "    print(f\"\\n{col}:\")\n",
    "    print(df_cleaned[col].value_counts().sort_index())"
   ]
  },
  {
   "cell_type": "markdown",
   "metadata": {},
   "source": [
    "----"
   ]
  },
  {
   "cell_type": "markdown",
   "metadata": {},
   "source": [
    "이제 다음 단계로\n",
    "\n",
    "1. 나머지 범주형 변수들에 대한 전처리\n",
    "2. 수치형 변수들의 스케일링\n",
    "3. 이전에 했던 피처 엔지니어링 (배아/난자 성공 비율 등)\n",
    "\n",
    "특히 나머지 범주형 변수들 중에서:\n",
    "- '시술 유형', '배란 유도 유형' 등은 One-Hot Encoding\n",
    "- '총 임신 횟수', '총 출산 횟수' 등은 Label Encoding"
   ]
  },
  {
   "cell_type": "markdown",
   "metadata": {},
   "source": [
    "- 스케일링을 진행하기 전에 우선 `이상치를 먼저 확인하고 처리`해야 함\n",
    "- 수치형 변수 43개(우선 Target 포함)\n",
    "\n",
    "(수치형 변수 목록:\n",
    "['배란 자극 여부', '단일 배아 이식 여부', '착상 전 유전 진단 사용 여부', '남성 주 불임 원인', '남성 부 불임 원인', '여성 주 불임 원인', '여성 부 불임 원인', '부부 주 불임 원인', '부부 부 불임 원인', '불명확 불임 원인', '불임 원인 - 난관 질환', '불임 원인 - 남성 요인', '불임 원인 - 배란 장애', '불임 원인 - 여성 요인', '불임 원인 - 자궁경부 문제', '불임 원인 - 자궁내막증', '불임 원인 - 정자 농도', '불임 원인 - 정자 면역학적 요인', '불임 원인 - 정자 운동성', '불임 원인 - 정자 형태', '총 생성 배아 수', '미세주입된 난자 수', '미세주입에서 생성된 배아 수', '이식된 배아 수', '미세주입 배아 이식 수', '저장된 배아 수', '미세주입 후 저장된 배아 수', '해동된 배아 수', '해동 난자 수', '수집된 신선 난자 수', '저장된 신선 난자 수', '혼합된 난자 수', '파트너 정자와 혼합된 난자 수', '기증자 정자와 혼합된 난자 수', '동결 배아 사용 여부', '신선 배아 사용 여부', '기증 배아 사용 여부', '대리모 여부', '난자 채취 경과일', '난자 혼합 경과일', '배아 이식 경과일', '배아 해동 경과일', '임신 성공 여부'])"
   ]
  },
  {
   "cell_type": "code",
   "execution_count": null,
   "metadata": {},
   "outputs": [],
   "source": []
  }
 ],
 "metadata": {
  "kernelspec": {
   "display_name": "fertimind",
   "language": "python",
   "name": "fertimind"
  },
  "language_info": {
   "codemirror_mode": {
    "name": "ipython",
    "version": 3
   },
   "file_extension": ".py",
   "mimetype": "text/x-python",
   "name": "python",
   "nbconvert_exporter": "python",
   "pygments_lexer": "ipython3",
   "version": "3.11.9"
  }
 },
 "nbformat": 4,
 "nbformat_minor": 2
}
