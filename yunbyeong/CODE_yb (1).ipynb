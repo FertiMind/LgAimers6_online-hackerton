{
 "cells": [
  {
   "cell_type": "code",
   "execution_count": 1,
   "metadata": {
    "colab": {
     "base_uri": "https://localhost:8080/"
    },
    "id": "0_-E_OuZQXqu",
    "outputId": "8f5cbcbb-5086-4ead-c817-9fdb22e3533b"
   },
   "outputs": [],
   "source": [
    "import random\n",
    "import os\n",
    "import pandas as pd\n",
    "import numpy as np\n",
    "\n",
    "from matplotlib import pyplot as plt\n",
    "import seaborn as sns\n",
    "from catboost import CatBoostClassifier\n",
    "import lightgbm as lgb\n",
    "\n",
    "import optuna\n",
    "from optuna import Trial\n",
    "from optuna.samplers import TPESampler\n",
    "from sklearn.model_selection import StratifiedKFold\n",
    "from sklearn.metrics import roc_auc_score\n",
    "from sklearn.utils.class_weight import compute_class_weight\n",
    "\n",
    "import warnings\n",
    "\n",
    "warnings.filterwarnings('ignore')"
   ]
  },
  {
   "cell_type": "code",
   "execution_count": 2,
   "metadata": {
    "id": "u2FSTwmUIkF5"
   },
   "outputs": [],
   "source": [
    "def seed_everything(seed: int = 42):\n",
    "    random.seed(seed)\n",
    "    np.random.seed(seed)\n",
    "    os.environ[\"PYTHONHASHSEED\"] = str(seed)"
   ]
  },
  {
   "cell_type": "code",
   "execution_count": 5,
   "metadata": {
    "colab": {
     "base_uri": "https://localhost:8080/"
    },
    "id": "bbtq1EWyQcwX",
    "outputId": "ad146067-7509-44f2-ee26-cc8bc615473f"
   },
   "outputs": [
    {
     "data": {
      "text/plain": [
       "((256351, 68), (90067, 67))"
      ]
     },
     "execution_count": 5,
     "metadata": {},
     "output_type": "execute_result"
    }
   ],
   "source": [
    "train = pd.read_csv('/work/home/ybchae/aimers/aimers_data/train.csv').drop(columns=['ID'])\n",
    "test = pd.read_csv('/work/home/ybchae/aimers/aimers_data/test.csv').drop(columns=['ID'])\n",
    "train.shape, test.shape"
   ]
  },
  {
   "cell_type": "code",
   "execution_count": 6,
   "metadata": {
    "colab": {
     "base_uri": "https://localhost:8080/",
     "height": 444
    },
    "id": "oMlMq9njWkNB",
    "outputId": "cf2dd2c1-732f-4d8a-e177-fc78f6254652"
   },
   "outputs": [
    {
     "data": {
      "text/html": [
       "<div>\n",
       "<style scoped>\n",
       "    .dataframe tbody tr th:only-of-type {\n",
       "        vertical-align: middle;\n",
       "    }\n",
       "\n",
       "    .dataframe tbody tr th {\n",
       "        vertical-align: top;\n",
       "    }\n",
       "\n",
       "    .dataframe thead th {\n",
       "        text-align: right;\n",
       "    }\n",
       "</style>\n",
       "<table border=\"1\" class=\"dataframe\">\n",
       "  <thead>\n",
       "    <tr style=\"text-align: right;\">\n",
       "      <th></th>\n",
       "      <th>시술 시기 코드</th>\n",
       "      <th>시술 당시 나이</th>\n",
       "      <th>임신 시도 또는 마지막 임신 경과 연수</th>\n",
       "      <th>시술 유형</th>\n",
       "      <th>특정 시술 유형</th>\n",
       "      <th>배란 자극 여부</th>\n",
       "      <th>배란 유도 유형</th>\n",
       "      <th>단일 배아 이식 여부</th>\n",
       "      <th>착상 전 유전 검사 사용 여부</th>\n",
       "      <th>착상 전 유전 진단 사용 여부</th>\n",
       "      <th>...</th>\n",
       "      <th>기증 배아 사용 여부</th>\n",
       "      <th>대리모 여부</th>\n",
       "      <th>PGD 시술 여부</th>\n",
       "      <th>PGS 시술 여부</th>\n",
       "      <th>난자 채취 경과일</th>\n",
       "      <th>난자 해동 경과일</th>\n",
       "      <th>난자 혼합 경과일</th>\n",
       "      <th>배아 이식 경과일</th>\n",
       "      <th>배아 해동 경과일</th>\n",
       "      <th>임신 성공 여부</th>\n",
       "    </tr>\n",
       "  </thead>\n",
       "  <tbody>\n",
       "    <tr>\n",
       "      <th>0</th>\n",
       "      <td>TRZKPL</td>\n",
       "      <td>만18-34세</td>\n",
       "      <td>NaN</td>\n",
       "      <td>IVF</td>\n",
       "      <td>ICSI</td>\n",
       "      <td>1</td>\n",
       "      <td>기록되지 않은 시행</td>\n",
       "      <td>0.0</td>\n",
       "      <td>NaN</td>\n",
       "      <td>0.0</td>\n",
       "      <td>...</td>\n",
       "      <td>0.0</td>\n",
       "      <td>0.0</td>\n",
       "      <td>NaN</td>\n",
       "      <td>NaN</td>\n",
       "      <td>0.0</td>\n",
       "      <td>NaN</td>\n",
       "      <td>0.0</td>\n",
       "      <td>3.0</td>\n",
       "      <td>NaN</td>\n",
       "      <td>0</td>\n",
       "    </tr>\n",
       "    <tr>\n",
       "      <th>1</th>\n",
       "      <td>TRYBLT</td>\n",
       "      <td>만45-50세</td>\n",
       "      <td>NaN</td>\n",
       "      <td>IVF</td>\n",
       "      <td>ICSI</td>\n",
       "      <td>0</td>\n",
       "      <td>알 수 없음</td>\n",
       "      <td>0.0</td>\n",
       "      <td>NaN</td>\n",
       "      <td>0.0</td>\n",
       "      <td>...</td>\n",
       "      <td>0.0</td>\n",
       "      <td>0.0</td>\n",
       "      <td>NaN</td>\n",
       "      <td>NaN</td>\n",
       "      <td>0.0</td>\n",
       "      <td>NaN</td>\n",
       "      <td>0.0</td>\n",
       "      <td>NaN</td>\n",
       "      <td>NaN</td>\n",
       "      <td>0</td>\n",
       "    </tr>\n",
       "    <tr>\n",
       "      <th>2</th>\n",
       "      <td>TRVNRY</td>\n",
       "      <td>만18-34세</td>\n",
       "      <td>NaN</td>\n",
       "      <td>IVF</td>\n",
       "      <td>IVF</td>\n",
       "      <td>1</td>\n",
       "      <td>기록되지 않은 시행</td>\n",
       "      <td>0.0</td>\n",
       "      <td>NaN</td>\n",
       "      <td>0.0</td>\n",
       "      <td>...</td>\n",
       "      <td>0.0</td>\n",
       "      <td>0.0</td>\n",
       "      <td>NaN</td>\n",
       "      <td>NaN</td>\n",
       "      <td>0.0</td>\n",
       "      <td>NaN</td>\n",
       "      <td>0.0</td>\n",
       "      <td>2.0</td>\n",
       "      <td>NaN</td>\n",
       "      <td>0</td>\n",
       "    </tr>\n",
       "    <tr>\n",
       "      <th>3</th>\n",
       "      <td>TRJXFG</td>\n",
       "      <td>만35-37세</td>\n",
       "      <td>NaN</td>\n",
       "      <td>IVF</td>\n",
       "      <td>ICSI</td>\n",
       "      <td>1</td>\n",
       "      <td>기록되지 않은 시행</td>\n",
       "      <td>0.0</td>\n",
       "      <td>NaN</td>\n",
       "      <td>0.0</td>\n",
       "      <td>...</td>\n",
       "      <td>0.0</td>\n",
       "      <td>0.0</td>\n",
       "      <td>NaN</td>\n",
       "      <td>NaN</td>\n",
       "      <td>0.0</td>\n",
       "      <td>NaN</td>\n",
       "      <td>0.0</td>\n",
       "      <td>NaN</td>\n",
       "      <td>NaN</td>\n",
       "      <td>0</td>\n",
       "    </tr>\n",
       "    <tr>\n",
       "      <th>4</th>\n",
       "      <td>TRVNRY</td>\n",
       "      <td>만18-34세</td>\n",
       "      <td>NaN</td>\n",
       "      <td>IVF</td>\n",
       "      <td>ICSI</td>\n",
       "      <td>1</td>\n",
       "      <td>기록되지 않은 시행</td>\n",
       "      <td>0.0</td>\n",
       "      <td>NaN</td>\n",
       "      <td>0.0</td>\n",
       "      <td>...</td>\n",
       "      <td>0.0</td>\n",
       "      <td>0.0</td>\n",
       "      <td>NaN</td>\n",
       "      <td>NaN</td>\n",
       "      <td>0.0</td>\n",
       "      <td>NaN</td>\n",
       "      <td>0.0</td>\n",
       "      <td>3.0</td>\n",
       "      <td>NaN</td>\n",
       "      <td>0</td>\n",
       "    </tr>\n",
       "  </tbody>\n",
       "</table>\n",
       "<p>5 rows × 68 columns</p>\n",
       "</div>"
      ],
      "text/plain": [
       "  시술 시기 코드 시술 당시 나이  임신 시도 또는 마지막 임신 경과 연수 시술 유형 특정 시술 유형  배란 자극 여부  \\\n",
       "0   TRZKPL  만18-34세                    NaN   IVF     ICSI         1   \n",
       "1   TRYBLT  만45-50세                    NaN   IVF     ICSI         0   \n",
       "2   TRVNRY  만18-34세                    NaN   IVF      IVF         1   \n",
       "3   TRJXFG  만35-37세                    NaN   IVF     ICSI         1   \n",
       "4   TRVNRY  만18-34세                    NaN   IVF     ICSI         1   \n",
       "\n",
       "     배란 유도 유형  단일 배아 이식 여부  착상 전 유전 검사 사용 여부  착상 전 유전 진단 사용 여부  ...  \\\n",
       "0  기록되지 않은 시행          0.0               NaN               0.0  ...   \n",
       "1      알 수 없음          0.0               NaN               0.0  ...   \n",
       "2  기록되지 않은 시행          0.0               NaN               0.0  ...   \n",
       "3  기록되지 않은 시행          0.0               NaN               0.0  ...   \n",
       "4  기록되지 않은 시행          0.0               NaN               0.0  ...   \n",
       "\n",
       "   기증 배아 사용 여부  대리모 여부  PGD 시술 여부  PGS 시술 여부  난자 채취 경과일  난자 해동 경과일  난자 혼합 경과일  \\\n",
       "0          0.0     0.0        NaN        NaN        0.0        NaN        0.0   \n",
       "1          0.0     0.0        NaN        NaN        0.0        NaN        0.0   \n",
       "2          0.0     0.0        NaN        NaN        0.0        NaN        0.0   \n",
       "3          0.0     0.0        NaN        NaN        0.0        NaN        0.0   \n",
       "4          0.0     0.0        NaN        NaN        0.0        NaN        0.0   \n",
       "\n",
       "   배아 이식 경과일  배아 해동 경과일  임신 성공 여부  \n",
       "0        3.0        NaN         0  \n",
       "1        NaN        NaN         0  \n",
       "2        2.0        NaN         0  \n",
       "3        NaN        NaN         0  \n",
       "4        3.0        NaN         0  \n",
       "\n",
       "[5 rows x 68 columns]"
      ]
     },
     "execution_count": 6,
     "metadata": {},
     "output_type": "execute_result"
    }
   ],
   "source": [
    "train.head()"
   ]
  },
  {
   "cell_type": "code",
   "execution_count": 7,
   "metadata": {
    "colab": {
     "base_uri": "https://localhost:8080/",
     "height": 178
    },
    "id": "x7kj8pMWSpd9",
    "outputId": "11cdbca0-3097-42aa-dd4e-52d7070ff5c9"
   },
   "outputs": [
    {
     "data": {
      "text/plain": [
       "0    190123\n",
       "1     66228\n",
       "Name: 임신 성공 여부, dtype: int64"
      ]
     },
     "execution_count": 7,
     "metadata": {},
     "output_type": "execute_result"
    }
   ],
   "source": [
    "train['임신 성공 여부'].value_counts()"
   ]
  },
  {
   "cell_type": "code",
   "execution_count": 8,
   "metadata": {
    "colab": {
     "base_uri": "https://localhost:8080/",
     "height": 335
    },
    "id": "EsL6VCeI_Q4D",
    "outputId": "32bd81c0-f1bf-4f45-8b2a-54bf8e66c1d1"
   },
   "outputs": [
    {
     "data": {
      "text/plain": [
       "만18-34세    102476\n",
       "만35-37세     57780\n",
       "만38-39세     39247\n",
       "만40-42세     37348\n",
       "만43-44세     12253\n",
       "만45-50세      6918\n",
       "알 수 없음        329\n",
       "Name: 시술 당시 나이, dtype: int64"
      ]
     },
     "execution_count": 8,
     "metadata": {},
     "output_type": "execute_result"
    }
   ],
   "source": [
    "# train['시술 당시 나이'] = train['시술 당시 나이'].replace('알 수 없음','만35-37세')\n",
    "# test['시술 당시 나이'] = test['시술 당시 나이'].replace('알 수 없음','만35-37세')\n",
    "\n",
    "train['시술 당시 나이'].value_counts()"
   ]
  },
  {
   "cell_type": "code",
   "execution_count": 9,
   "metadata": {
    "colab": {
     "base_uri": "https://localhost:8080/"
    },
    "id": "4xu4wqTwWgEO",
    "outputId": "8b21d1a6-d5ee-46ea-ab34-c6c2ec30bb19"
   },
   "outputs": [
    {
     "data": {
      "text/plain": [
       "((256351, 66), (90067, 65))"
      ]
     },
     "execution_count": 9,
     "metadata": {},
     "output_type": "execute_result"
    }
   ],
   "source": [
    "# drop_columns = ['착상 전 유전 검사 사용 여부',\n",
    "#                 'PGD 시술 여부', 'PGS 시술 여부', '난자 해동 경과일'] + ['배란 유도 유형', '불임 원인 - 자궁경부 문제', '불임 원인 - 정자 면역학적 요인','불임 원인 - 정자 운동성', '불임 원인 - 정자 형태']#\n",
    "drop_columns = ['난자 해동 경과일', '배란 유도 유형']\n",
    "train.drop(columns=drop_columns, inplace=True)\n",
    "test.drop(columns=drop_columns, inplace=True)\n",
    "\n",
    "train.shape, test.shape"
   ]
  },
  {
   "cell_type": "code",
   "execution_count": 10,
   "metadata": {
    "id": "q5k1E_a8a6LH"
   },
   "outputs": [],
   "source": [
    "nan_col_list = ['착상 전 유전 검사 사용 여부','PGD 시술 여부', 'PGS 시술 여부']\n",
    "for col in nan_col_list:\n",
    "    train[col] = train[col].fillna(0)\n",
    "    test[col] = test[col].fillna(0)"
   ]
  },
  {
   "cell_type": "code",
   "execution_count": 11,
   "metadata": {
    "colab": {
     "base_uri": "https://localhost:8080/"
    },
    "id": "_Q-1vJvMZVdO",
    "outputId": "c00dc096-9bb5-4d60-f38f-4908c4f8c858"
   },
   "outputs": [],
   "source": [
    "drop_columns2 = []\n",
    "for col in train.columns:\n",
    "    if len(train[col].value_counts()) == 1:\n",
    "        drop_columns2.append(col)"
   ]
  },
  {
   "cell_type": "code",
   "execution_count": 12,
   "metadata": {
    "colab": {
     "base_uri": "https://localhost:8080/"
    },
    "id": "Eb_P6B2RarRm",
    "outputId": "8648f15e-8a85-49bb-fb00-a83582492051"
   },
   "outputs": [
    {
     "name": "stdout",
     "output_type": "stream",
     "text": [
      "['불임 원인 - 여성 요인', '난자 채취 경과일']\n"
     ]
    },
    {
     "data": {
      "text/plain": [
       "((256351, 64), (90067, 63))"
      ]
     },
     "execution_count": 12,
     "metadata": {},
     "output_type": "execute_result"
    }
   ],
   "source": [
    "print(drop_columns2)\n",
    "train.drop(columns=drop_columns2, inplace=True)\n",
    "test.drop(columns=drop_columns2, inplace=True)\n",
    "\n",
    "train.shape, test.shape"
   ]
  },
  {
   "cell_type": "code",
   "execution_count": 13,
   "metadata": {
    "id": "YjAuM-pa6Ewz"
   },
   "outputs": [],
   "source": [
    "cat_to_int_dict = {'6회 이상' : 6, '5회' : 5, '4회' : 4, '3회' : 3, '2회' : 2, '1회' : 1, '0회' : 0}\n",
    "\n",
    "cat_to_int_columns = ['총 시술 횟수', '클리닉 내 총 시술 횟수', 'IVF 시술 횟수','DI 시술 횟수', 'DI 임신 횟수' ,'DI 출산 횟수',\n",
    "                      '총 임신 횟수', 'IVF 임신 횟수', '총 출산 횟수', 'IVF 출산 횟수'] #\n",
    "for col in cat_to_int_columns:\n",
    "    train[col] = train[col].map(cat_to_int_dict)\n",
    "    test[col] = test[col].map(cat_to_int_dict)"
   ]
  },
  {
   "cell_type": "code",
   "execution_count": 14,
   "metadata": {
    "id": "f-mBaoLO4ffA"
   },
   "outputs": [],
   "source": [
    "procedure_encoding_dict = {'ICSI' : 'ICSI', 'IVF' : 'IVF', 'Unknown' : 'Unknown','IUI' : 'IUI',\n",
    "                           'ICSI:ICSI' : 'ICSI', 'ICSI / BLASTOCYST ' : 'ICSI / BLASTOCYST',\n",
    "                           'IVF / BLASTOCYST' : 'IVF / BLASTOCYST','IVF:IVF' : 'IVF','ICSI:IVF' : 'ICSI:IVF',\n",
    "                           'ICSI / AH' : 'ICSI / AH','IVF:ICSI' : 'ICSI:IVF', 'IVF / AH' : 'IVF / AH',\n",
    "                           'ICSI:Unknown' : 'ICSI', 'IVF:Unknown' : 'IVF', 'ICI' : 'ICI','Generic DI' : 'Generic DI',\n",
    "                           'IVI' : 'IVI','ICSI / BLASTOCYST:IVF / BLASTOCYST' : 'ICSI / BLASTOCYST:IVF / BLASTOCYST',\n",
    "                           'ICSI / BLASTOCYST :IVF / BLASTOCYST': 'ICSI / BLASTOCYST:IVF / BLASTOCYST','FER' : 'FER',\n",
    "                           'IVF / AH:ICSI / AH' : 'IVF / AH:ICSI / AH','GIFT':'GIFT','ICSI / AH:Unknown' : 'ICSI / AH',\n",
    "                           'ICSI / BLASTOCYST :ICSI' : 'ICSI / BLASTOCYST', 'IUI:ICI' : 'IUI:ICI',\n",
    "                           'IVF:Unknown:Unknown:Unknown' : 'IVF'}\n",
    "\n",
    "train['특정 시술 유형'] = train['특정 시술 유형'].map(procedure_encoding_dict)\n",
    "test['특정 시술 유형'] = test['특정 시술 유형'].map(procedure_encoding_dict)"
   ]
  },
  {
   "cell_type": "code",
   "execution_count": 15,
   "metadata": {
    "id": "UEU77iWib0U_"
   },
   "outputs": [],
   "source": [
    "train['불임 원인 - 정자 요인'] = train['불임 원인 - 정자 면역학적 요인'] + train['불임 원인 - 정자 운동성'] + train['불임 원인 - 정자 농도']  + train['불임 원인 - 정자 형태']\n",
    "test['불임 원인 - 정자 요인'] = test['불임 원인 - 정자 면역학적 요인'] + test['불임 원인 - 정자 운동성'] + test['불임 원인 - 정자 농도'] + test['불임 원인 - 정자 형태']\n",
    "train['불임 원인 - 여성 요인'] = train['불임 원인 - 자궁경부 문제'] + train['불임 원인 - 자궁내막증'] + train['불임 원인 - 배란 장애'] + train['불임 원인 - 난관 질환']\n",
    "test['불임 원인 - 여성 요인'] = test['불임 원인 - 자궁경부 문제'] + test['불임 원인 - 자궁내막증'] + test['불임 원인 - 배란 장애'] + test['불임 원인 - 난관 질환']\n",
    "\n",
    "train['남성 불임 원인'] = train['남성 주 불임 원인'] + train['남성 부 불임 원인']\n",
    "test['남성 불임 원인'] = test['남성 주 불임 원인'] + test['남성 부 불임 원인']\n",
    "train['여성 불임 원인'] = train['여성 주 불임 원인'] + train['여성 부 불임 원인']\n",
    "test['여성 불임 원인'] = test['여성 주 불임 원인'] + test['여성 부 불임 원인']\n",
    "train['부부 불임 원인'] = train['부부 주 불임 원인'] + train['부부 부 불임 원인']\n",
    "test['부부 불임 원인'] = test['부부 주 불임 원인'] + test['부부 부 불임 원인']\n",
    "\n",
    "\n",
    "drop_columns3 = ['불임 원인 - 정자 면역학적 요인', '불임 원인 - 정자 운동성', '불임 원인 - 정자 형태', '불임 원인 - 자궁경부 문제',\n",
    "                 '남성 주 불임 원인', '남성 부 불임 원인', '여성 주 불임 원인', '여성 부 불임 원인',\n",
    "                 '부부 주 불임 원인', '부부 부 불임 원인']\n",
    "train.drop(columns=drop_columns3, inplace=True)\n",
    "test.drop(columns=drop_columns3, inplace=True)"
   ]
  },
  {
   "cell_type": "code",
   "execution_count": 104,
   "metadata": {
    "colab": {
     "base_uri": "https://localhost:8080/"
    },
    "id": "kjEBmjSkbL5j",
    "outputId": "b3db516d-031e-42fc-89bb-a3218d8bd879"
   },
   "outputs": [
    {
     "data": {
      "text/plain": [
       "Index(['시술 시기 코드', '시술 당시 나이', '임신 시도 또는 마지막 임신 경과 연수', '시술 유형', '특정 시술 유형',\n",
       "       '배란 자극 여부', '단일 배아 이식 여부', '착상 전 유전 검사 사용 여부', '착상 전 유전 진단 사용 여부',\n",
       "       '불명확 불임 원인', '불임 원인 - 난관 질환', '불임 원인 - 남성 요인', '불임 원인 - 배란 장애',\n",
       "       '불임 원인 - 자궁내막증', '불임 원인 - 정자 농도', '배아 생성 주요 이유', '총 시술 횟수',\n",
       "       '클리닉 내 총 시술 횟수', 'IVF 시술 횟수', 'DI 시술 횟수', '총 임신 횟수', 'IVF 임신 횟수',\n",
       "       'DI 임신 횟수', '총 출산 횟수', 'IVF 출산 횟수', 'DI 출산 횟수', '총 생성 배아 수',\n",
       "       '미세주입된 난자 수', '미세주입에서 생성된 배아 수', '이식된 배아 수', '미세주입 배아 이식 수', '저장된 배아 수',\n",
       "       '미세주입 후 저장된 배아 수', '해동된 배아 수', '해동 난자 수', '수집된 신선 난자 수', '저장된 신선 난자 수',\n",
       "       '혼합된 난자 수', '파트너 정자와 혼합된 난자 수', '기증자 정자와 혼합된 난자 수', '난자 출처', '정자 출처',\n",
       "       '난자 기증자 나이', '정자 기증자 나이', '동결 배아 사용 여부', '신선 배아 사용 여부', '기증 배아 사용 여부',\n",
       "       '대리모 여부', 'PGD 시술 여부', 'PGS 시술 여부', '난자 혼합 경과일', '배아 이식 경과일',\n",
       "       '배아 해동 경과일', '임신 성공 여부', '불임 원인 - 정자 요인', '불임 원인 - 여성 요인', '남성 불임 원인',\n",
       "       '여성 불임 원인', '부부 불임 원인'],\n",
       "      dtype='object')"
      ]
     },
     "execution_count": 104,
     "metadata": {},
     "output_type": "execute_result"
    }
   ],
   "source": [
    "train.columns"
   ]
  },
  {
   "cell_type": "code",
   "execution_count": 16,
   "metadata": {
    "id": "64dAkKrBayFA"
   },
   "outputs": [],
   "source": [
    "# categorical_columns = [\"시술 시기 코드\",\"시술 당시 나이\", \"시술 유형\", \"특정 시술 유형\",\"배란 자극 여부\",\n",
    "                      #  \"단일 배아 이식 여부\",\"착상 전 유전 진단 사용 여부\",\n",
    "                      #  \"남성 주 불임 원인\",\"남성 부 불임 원인\",\"여성 주 불임 원인\",\"여성 부 불임 원인\",\n",
    "                      #  \"부부 주 불임 원인\",\"부부 부 불임 원인\",\"불명확 불임 원인\",\"불임 원인 - 난관 질환\",\n",
    "                      #  \"불임 원인 - 남성 요인\",\"불임 원인 - 배란 장애\",\"불임 원인 - 자궁경부 문제\",\"불임 원인 - 자궁내막증\",\n",
    "                      #  \"불임 원인 - 정자 농도\",\"불임 원인 - 정자 면역학적 요인\",\"불임 원인 - 정자 운동성\",\"불임 원인 - 정자 형태\",\n",
    "                      #  \"배아 생성 주요 이유\",\"총 시술 횟수\",\"클리닉 내 총 시술 횟수\",\"IVF 시술 횟수\",\"DI 시술 횟수\",\n",
    "                      #  \"총 임신 횟수\",\"IVF 임신 횟수\",\"DI 임신 횟수\",\"총 출산 횟수\",\"IVF 출산 횟수\",\"DI 출산 횟수\",\n",
    "                      #  \"난자 출처\",\"정자 출처\",\"난자 기증자 나이\",\"정자 기증자 나이\",\n",
    "                      #  \"동결 배아 사용 여부\",\"신선 배아 사용 여부\",\"기증 배아 사용 여부\",\"대리모 여부\"]\n",
    "categorical_columns =  [\"시술 시기 코드\",\"시술 당시 나이\",\"시술 유형\", \"특정 시술 유형\",\n",
    "                        \"배란 자극 여부\", \"단일 배아 이식 여부\", '착상 전 유전 검사 사용 여부',\"착상 전 유전 진단 사용 여부\",\n",
    "                       \"불명확 불임 원인\",\"배아 생성 주요 이유\",\n",
    "                        \"불임 원인 - 난관 질환\",\"불임 원인 - 남성 요인\",\"불임 원인 - 배란 장애\",\n",
    "                        \"불임 원인 - 자궁내막증\",'불임 원인 - 정자 농도',\"난자 출처\",\"정자 출처\",\"난자 기증자 나이\",\"정자 기증자 나이\",\n",
    "                       \"동결 배아 사용 여부\",\"신선 배아 사용 여부\", '기증 배아 사용 여부',\"대리모 여부\",\n",
    "                        'PGD 시술 여부', 'PGS 시술 여부', '불임 원인 - 정자 요인', '불임 원인 - 여성 요인',  '남성 불임 원인', '여성 불임 원인', '부부 불임 원인'] #\n",
    "# \"남성 주 불임 원인\",\"남성 부 불임 원인\",\"여성 주 불임 원인\",\"여성 부 불임 원인\",\n",
    "#                       \"부부 주 불임 원인\",\"부부 부 불임 원인\",\n",
    "\n",
    "for col in categorical_columns:\n",
    "    if train[col].isna().sum() > 0 or test[col].isna().sum() > 0 :\n",
    "\n",
    "      mode_value = train[col].mode()[0]\n",
    "      train[col].fillna(mode_value, inplace=True)  # 최빈값으로 대체\n",
    "      test[col].fillna(mode_value, inplace = True)\n",
    "    train[col] = train[col].astype(str)\n",
    "    test[col] = test[col].astype(str)\n",
    "    #encoder = ce.OrdinalEncoder(handle_unknown='impute')\n",
    "    #encoder.fit(train[col])\n",
    "    #train[col] = encoder.transform(train[col])\n",
    "    #test[col] = encoder.transform(test[col])\n",
    "\n",
    "numeric_columns = [ '임신 시도 또는 마지막 임신 경과 연수',\"총 시술 횟수\",\"클리닉 내 총 시술 횟수\",\"IVF 시술 횟수\",\"DI 시술 횟수\",\n",
    "                   \"총 임신 횟수\",\"IVF 임신 횟수\",\"DI 임신 횟수\",\"총 출산 횟수\",\"IVF 출산 횟수\",\"DI 출산 횟수\",\n",
    "                    '총 생성 배아 수','미세주입된 난자 수', '미세주입에서 생성된 배아 수', '이식된 배아 수', '미세주입 배아 이식 수', '저장된 배아 수',\n",
    "       '미세주입 후 저장된 배아 수', '해동된 배아 수', '해동 난자 수', '수집된 신선 난자 수', '저장된 신선 난자 수',\n",
    "       '혼합된 난자 수', '파트너 정자와 혼합된 난자 수', '기증자 정자와 혼합된 난자 수', '난자 혼합 경과일', '배아 이식 경과일', '배아 해동 경과일'] #\n",
    "\n",
    "# numeric_columns = [\"총 생성 배아 수\",\"미세주입된 난자 수\",\"미세주입에서 생성된 배아 수\",\n",
    "#                    \"이식된 배아 수\",\"미세주입 배아 이식 수\",\"저장된 배아 수\",\"미세주입 후 저장된 배아 수\",\n",
    "#                    \"수집된 신선 난자 수\",\"혼합된 난자 수\",\"파트너 정자와 혼합된 난자 수\",\n",
    "#                    \"기증자 정자와 혼합된 난자 수\",\"배아 이식 경과일\"]\n",
    "\n",
    "for col in numeric_columns:\n",
    "  if train[col].isna().sum():\n",
    "    if train[col].isna().sum() >= len(train)*0.5: # 결측치가 절반이 넘어갈 경우\n",
    "      train[col].fillna(-1, inplace=True)  # -1로 대체\n",
    "      test[col].fillna(-1, inplace = True)\n",
    "    else:\n",
    "      mode_value = train[col].mode()[0]  # 최빈값 구하기\n",
    "      train[col].fillna(mode_value, inplace=True)  # 최빈값으로 대체\n",
    "      test[col].fillna(mode_value, inplace = True)\n"
   ]
  },
  {
   "cell_type": "code",
   "execution_count": 17,
   "metadata": {
    "colab": {
     "base_uri": "https://localhost:8080/"
    },
    "id": "rrQrzq0H_QfV",
    "outputId": "255208d3-85ca-4d21-d9d0-eb8dccc27e6d"
   },
   "outputs": [
    {
     "data": {
      "text/plain": [
       "58"
      ]
     },
     "execution_count": 17,
     "metadata": {},
     "output_type": "execute_result"
    }
   ],
   "source": [
    "len(categorical_columns) + len(numeric_columns)"
   ]
  },
  {
   "cell_type": "code",
   "execution_count": 18,
   "metadata": {
    "id": "CI8IOlCFVXGY"
   },
   "outputs": [],
   "source": [
    "def make_feature(df):\n",
    "  #df['연령 가중치'] = df['시술 당시 나이'].map(age_weight_dict)\n",
    "\n",
    "  #df['난자 활용률'] = df['미세주입된 난자 수'] / (df['수집된 신선 난자 수'] + df['해동 난자 수'] + 1)\n",
    "  df['미세주입 배아 생성률'] = (df['미세주입에서 생성된 배아 수']) / (df['미세주입된 난자 수'] + 1)\n",
    "  df['미세주입 배아 이식률'] = (df['미세주입 배아 이식 수']) / (df['미세주입에서 생성된 배아 수'] + 1)\n",
    "  df['배아 이식률'] = (df['이식된 배아 수']) / (df['총 생성 배아 수'] + 1)\n",
    "  df['저장 배아 비율'] = (df['저장된 배아 수'])/ (df['총 생성 배아 수'] + 1)\n",
    "  df['해동 배아 생존율'] = (df['해동된 배아 수'])/ (df['총 생성 배아 수'] + 1)\n",
    "  df['파트너 정자 혼합 비율'] = (df['파트너 정자와 혼합된 난자 수']) / (df['혼합된 난자 수'] + 1)\n",
    "\n",
    "  # df['저장 배아 비율2'] = (df['저장된 배아 수'])/ (df['이식된 배아 수'] + 1)\n",
    "  # df['해동 배아 생존율2'] = (df['해동된 배아 수'])/ (df['이식된 배아 수'] + 1)\n",
    "  # df['미세주입 배아 이식 비율'] = df['미세주입 배아 이식 수'] / (df['이식된 배아 수'] + 1)\n",
    "  #df['나이보정 배아 이식 수'] = df['이식된 배아 수']*df['연령 가중치']\n",
    "\n",
    "  df['임신 성공률'] = (df['총 임신 횟수']) / (df['총 시술 횟수'] + 1)\n",
    "  #df['IVF 시술 성공률'] = (df['IVF 임신 횟수'])/ (df['IVF 시술 횟수'] + 1)\n",
    "  #df['DI 시술 성공률'] = (df['DI 임신 횟수']) / (df['DI 시술 횟수'] + 1)\n",
    "  df['출산율'] = df['총 출산 횟수'] / (df['총 임신 횟수'] + 1)\n",
    "  #df['IVF 출산율'] = df['IVF 출산 횟수'] / (df['IVF 임신 횟수'] + 1)\n",
    "  #df['DI 출산율'] = df['DI 출산 횟수'] / (df['DI 임신 횟수'] + 1)\n",
    "  #df['시술 기준 출산 성공률'] = df['총 출산 횟수'] / (df['총 시술 횟수'] + 1)\n",
    "\n",
    "  #df = df.drop(columns = ['연령 가중치'])\n",
    "\n",
    "  return df"
   ]
  },
  {
   "cell_type": "code",
   "execution_count": 19,
   "metadata": {
    "colab": {
     "base_uri": "https://localhost:8080/"
    },
    "id": "_VNPbGSR4h_I",
    "outputId": "44e7b9c5-1948-417e-b02a-64267fb91fae"
   },
   "outputs": [
    {
     "data": {
      "text/plain": [
       "((256351, 66), (90067, 66))"
      ]
     },
     "execution_count": 19,
     "metadata": {},
     "output_type": "execute_result"
    }
   ],
   "source": [
    "X = train.drop('임신 성공 여부', axis=1)\n",
    "y = train['임신 성공 여부']\n",
    "\n",
    "X = make_feature(X)\n",
    "test = make_feature(test)\n",
    "\n",
    "X.shape, test.shape"
   ]
  },
  {
   "cell_type": "code",
   "execution_count": 55,
   "metadata": {
    "colab": {
     "base_uri": "https://localhost:8080/",
     "height": 178
    },
    "id": "1WNQj2e8ukWK",
    "outputId": "039cab20-93c0-4ab4-f8a6-8098c62dc87f"
   },
   "outputs": [
    {
     "data": {
      "text/html": [
       "<div>\n",
       "<style scoped>\n",
       "    .dataframe tbody tr th:only-of-type {\n",
       "        vertical-align: middle;\n",
       "    }\n",
       "\n",
       "    .dataframe tbody tr th {\n",
       "        vertical-align: top;\n",
       "    }\n",
       "\n",
       "    .dataframe thead th {\n",
       "        text-align: right;\n",
       "    }\n",
       "</style>\n",
       "<table border=\"1\" class=\"dataframe\">\n",
       "  <thead>\n",
       "    <tr style=\"text-align: right;\">\n",
       "      <th></th>\n",
       "      <th>count</th>\n",
       "    </tr>\n",
       "    <tr>\n",
       "      <th>임신 성공 여부</th>\n",
       "      <th></th>\n",
       "    </tr>\n",
       "  </thead>\n",
       "  <tbody>\n",
       "    <tr>\n",
       "      <th>0</th>\n",
       "      <td>190123</td>\n",
       "    </tr>\n",
       "    <tr>\n",
       "      <th>1</th>\n",
       "      <td>66228</td>\n",
       "    </tr>\n",
       "  </tbody>\n",
       "</table>\n",
       "</div><br><label><b>dtype:</b> int64</label>"
      ],
      "text/plain": [
       "임신 성공 여부\n",
       "0    190123\n",
       "1     66228\n",
       "Name: count, dtype: int64"
      ]
     },
     "execution_count": 55,
     "metadata": {},
     "output_type": "execute_result"
    }
   ],
   "source": [
    "y.value_counts()"
   ]
  },
  {
   "cell_type": "code",
   "execution_count": 98,
   "metadata": {
    "id": "nsRZfmFixgqm"
   },
   "outputs": [],
   "source": [
    "from sklearn.utils.class_weight import compute_class_weight\n",
    "def objective_cat(trial):\n",
    "    global best_val_auc\n",
    "    cbrm_param = {\n",
    "        'iterations':trial.suggest_int(\"iterations\", 1000, 3000),\n",
    "        'depth':trial.suggest_int(\"depth\", 4, 10),\n",
    "        'learning_rate' : trial.suggest_float('learning_rate',0.005, 0.1),\n",
    "        'l2_leaf_reg': trial.suggest_float(\"l2_leaf_reg\", 1e-4, 100.0, log=True)\n",
    "    }\n",
    "\n",
    "    # Generate model\n",
    "    model_cat = CatBoostClassifier(**cbrm_param, auto_class_weights='Balanced', eval_metric='AUC', random_state=seed, task_type=\"GPU\")\n",
    "    model_cat.fit(X_train,\n",
    "          y_train,\n",
    "          cat_features=categorical_columns,\n",
    "          early_stopping_rounds= 300,\n",
    "          eval_set=[(X_val,y_val)],\n",
    "          verbose = 300)\n",
    "    \n",
    "    val_auc = model_cat.get_best_score()[\"validation\"][\"AUC\"]\n",
    "    best_model_path = \"./weight/cat_fold_gpu{}.cbm\".format(idx)\n",
    "    if val_auc > best_val_auc:\n",
    "        best_val_auc = val_auc\n",
    "        model_cat.save_model(best_model_path)\n",
    "        print('저장 완료')\n",
    "\n",
    "    return val_auc\n",
    "\n",
    "def objective_lgbm(trial):\n",
    "\n",
    "    lgbm_params = {\n",
    "         #'num_leaves': trial.suggest_int('num_leaves', 2, 1024, step=1),\n",
    "         #'max_depth': trial.suggest_int('max_depth', 3, 18, step=1),\n",
    "        \"objective\":  trial.suggest_categorical(\"objective\", [\"binary\"]),\n",
    "         \"metric\":  trial.suggest_categorical(\"metric\", [\"auc\"]),\n",
    "         \"random_state\":  trial.suggest_int('random_state', 42, 42),\n",
    "        \"verbose\":  trial.suggest_int('verbose', -1, -1),\n",
    "        'learning_rate': trial.suggest_float('learning_rate', 0.005, 0.1, log=True),\n",
    "        'n_estimators': trial.suggest_int('n_estimators', 100, 2000),\n",
    "        'min_child_samples': trial.suggest_int('min_child_samples', 10, 50, step=5, log=False),\n",
    "        'subsample': trial.suggest_float('subsample', 0.5, 1.0, step=0.1, log=False),\n",
    "        'colsample_bytree': trial.suggest_float('colsample_bytree', 0.5, 1.0, step=0.1, log=False),\n",
    "    }\n",
    "\n",
    "    # Generate model\n",
    "\n",
    "    class_weights = compute_class_weight(class_weight=\"balanced\", classes=np.unique(y), y=y_train)\n",
    "    class_weight_dict = {i: w for i, w in enumerate(class_weights)}\n",
    "\n",
    "    model_lgbm = lgb.LGBMClassifier(**lgbm_params, class_weight=class_weight_dict)\n",
    "\n",
    "    model_lgbm.fit(X_train, y_train,eval_set=[(X_val, y_val)],categorical_feature=categorical_columns)\n",
    "\n",
    "    return model_lgbm.best_score_['valid_0']['auc']"
   ]
  },
  {
   "cell_type": "code",
   "execution_count": 101,
   "metadata": {
    "colab": {
     "base_uri": "https://localhost:8080/"
    },
    "id": "NsuYwQX28LzT",
    "outputId": "392153b7-08f0-4feb-9a83-6016732f894c",
    "scrolled": true,
    "tags": []
   },
   "outputs": [
    {
     "name": "stderr",
     "output_type": "stream",
     "text": [
      "[I 2025-02-17 15:07:23,696] A new study created in memory with name: no-name-eaf20120-1c68-4303-b1c6-4d80b8b97199\n"
     ]
    },
    {
     "name": "stdout",
     "output_type": "stream",
     "text": [
      "Seed 42 Start!\n",
      "==================================================\n"
     ]
    },
    {
     "name": "stderr",
     "output_type": "stream",
     "text": [
      "Default metric period is 5 because AUC is/are not implemented for GPU\n"
     ]
    },
    {
     "name": "stdout",
     "output_type": "stream",
     "text": [
      "0:\ttest: 0.7326191\tbest: 0.7326191 (0)\ttotal: 72.1ms\tremaining: 2m 6s\n",
      "300:\ttest: 0.7386052\tbest: 0.7423840 (81)\ttotal: 19.8s\tremaining: 1m 35s\n",
      "bestTest = 0.7423840165\n",
      "bestIteration = 81\n",
      "Shrink model to first 82 iterations.\n"
     ]
    },
    {
     "name": "stderr",
     "output_type": "stream",
     "text": [
      "[I 2025-02-17 15:07:50,165] Trial 0 finished with value: 0.7423840165138245 and parameters: {'iterations': 1749, 'depth': 10, 'learning_rate': 0.07453942447208349, 'l2_leaf_reg': 0.39079671568228835}. Best is trial 0 with value: 0.7423840165138245.\n"
     ]
    },
    {
     "name": "stdout",
     "output_type": "stream",
     "text": [
      "저장 완료\n"
     ]
    },
    {
     "name": "stderr",
     "output_type": "stream",
     "text": [
      "Default metric period is 5 because AUC is/are not implemented for GPU\n"
     ]
    },
    {
     "name": "stdout",
     "output_type": "stream",
     "text": [
      "0:\ttest: 0.7178718\tbest: 0.7178718 (0)\ttotal: 14.8ms\tremaining: 19.4s\n",
      "300:\ttest: 0.7385333\tbest: 0.7385333 (300)\ttotal: 4.09s\tremaining: 13.7s\n",
      "600:\ttest: 0.7413220\tbest: 0.7413220 (600)\ttotal: 8.16s\tremaining: 9.66s\n",
      "900:\ttest: 0.7422114\tbest: 0.7422114 (900)\ttotal: 12.2s\tremaining: 5.56s\n",
      "1200:\ttest: 0.7428088\tbest: 0.7428093 (1199)\ttotal: 16.2s\tremaining: 1.5s\n",
      "1311:\ttest: 0.7429550\tbest: 0.7429576 (1310)\ttotal: 17.7s\tremaining: 0us\n",
      "bestTest = 0.742957592\n",
      "bestIteration = 1310\n",
      "Shrink model to first 1311 iterations.\n"
     ]
    },
    {
     "name": "stderr",
     "output_type": "stream",
     "text": [
      "[I 2025-02-17 15:08:09,417] Trial 1 finished with value: 0.742957592010498 and parameters: {'iterations': 1312, 'depth': 5, 'learning_rate': 0.010517943155978949, 'l2_leaf_reg': 15.741890047456648}. Best is trial 1 with value: 0.742957592010498.\n"
     ]
    },
    {
     "name": "stdout",
     "output_type": "stream",
     "text": [
      "저장 완료\n"
     ]
    },
    {
     "name": "stderr",
     "output_type": "stream",
     "text": [
      "Default metric period is 5 because AUC is/are not implemented for GPU\n"
     ]
    },
    {
     "name": "stdout",
     "output_type": "stream",
     "text": [
      "0:\ttest: 0.7309370\tbest: 0.7309370 (0)\ttotal: 30.6ms\tremaining: 1m 7s\n",
      "300:\ttest: 0.7398137\tbest: 0.7398137 (300)\ttotal: 8.82s\tremaining: 55.7s\n",
      "600:\ttest: 0.7422290\tbest: 0.7422290 (600)\ttotal: 17.5s\tremaining: 46.6s\n",
      "900:\ttest: 0.7431483\tbest: 0.7431493 (899)\ttotal: 26.2s\tremaining: 37.8s\n",
      "1200:\ttest: 0.7436026\tbest: 0.7436026 (1200)\ttotal: 34.9s\tremaining: 29s\n",
      "1500:\ttest: 0.7437961\tbest: 0.7437984 (1490)\ttotal: 43.5s\tremaining: 20.3s\n",
      "1800:\ttest: 0.7439618\tbest: 0.7439618 (1800)\ttotal: 52.2s\tremaining: 11.6s\n",
      "2100:\ttest: 0.7440287\tbest: 0.7440558 (2037)\ttotal: 1m\tremaining: 2.92s\n",
      "2201:\ttest: 0.7440627\tbest: 0.7440627 (2201)\ttotal: 1m 3s\tremaining: 0us\n",
      "bestTest = 0.7440626621\n",
      "bestIteration = 2201\n"
     ]
    },
    {
     "name": "stderr",
     "output_type": "stream",
     "text": [
      "[I 2025-02-17 15:09:14,841] Trial 2 finished with value: 0.7440626621246338 and parameters: {'iterations': 2202, 'depth': 8, 'learning_rate': 0.006955526958101232, 'l2_leaf_reg': 65.98711072054076}. Best is trial 2 with value: 0.7440626621246338.\n"
     ]
    },
    {
     "name": "stdout",
     "output_type": "stream",
     "text": [
      "저장 완료\n"
     ]
    },
    {
     "name": "stderr",
     "output_type": "stream",
     "text": [
      "Default metric period is 5 because AUC is/are not implemented for GPU\n"
     ]
    },
    {
     "name": "stdout",
     "output_type": "stream",
     "text": [
      "0:\ttest: 0.7178745\tbest: 0.7178745 (0)\ttotal: 13.7ms\tremaining: 36.6s\n",
      "300:\ttest: 0.7414447\tbest: 0.7414456 (299)\ttotal: 3.92s\tremaining: 30.8s\n",
      "600:\ttest: 0.7428034\tbest: 0.7428124 (599)\ttotal: 7.94s\tremaining: 27.3s\n",
      "900:\ttest: 0.7432390\tbest: 0.7432396 (898)\ttotal: 11.8s\tremaining: 23.2s\n",
      "1200:\ttest: 0.7433866\tbest: 0.7434530 (1094)\ttotal: 15.8s\tremaining: 19.3s\n",
      "1500:\ttest: 0.7434335\tbest: 0.7435814 (1362)\ttotal: 19.7s\tremaining: 15.3s\n",
      "bestTest = 0.7435813546\n",
      "bestIteration = 1362\n",
      "Shrink model to first 1363 iterations.\n"
     ]
    },
    {
     "name": "stderr",
     "output_type": "stream",
     "text": [
      "[I 2025-02-17 15:09:38,118] Trial 3 finished with value: 0.7435813546180725 and parameters: {'iterations': 2665, 'depth': 5, 'learning_rate': 0.02227337188467456, 'l2_leaf_reg': 0.0012601639723276807}. Best is trial 2 with value: 0.7440626621246338.\n",
      "Default metric period is 5 because AUC is/are not implemented for GPU\n"
     ]
    },
    {
     "name": "stdout",
     "output_type": "stream",
     "text": [
      "0:\ttest: 0.7275189\tbest: 0.7275189 (0)\ttotal: 22.2ms\tremaining: 35.6s\n",
      "300:\ttest: 0.7434482\tbest: 0.7436951 (272)\ttotal: 6.43s\tremaining: 27.9s\n",
      "bestTest = 0.7436951399\n",
      "bestIteration = 272\n",
      "Shrink model to first 273 iterations.\n"
     ]
    },
    {
     "name": "stderr",
     "output_type": "stream",
     "text": [
      "[I 2025-02-17 15:09:51,825] Trial 4 finished with value: 0.7436951398849487 and parameters: {'iterations': 1608, 'depth': 7, 'learning_rate': 0.046034776771001, 'l2_leaf_reg': 0.005589524205217926}. Best is trial 2 with value: 0.7440626621246338.\n",
      "Default metric period is 5 because AUC is/are not implemented for GPU\n"
     ]
    },
    {
     "name": "stdout",
     "output_type": "stream",
     "text": [
      "0:\ttest: 0.7159628\tbest: 0.7159628 (0)\ttotal: 11.3ms\tremaining: 25s\n",
      "300:\ttest: 0.7417810\tbest: 0.7417810 (300)\ttotal: 3.17s\tremaining: 20.3s\n",
      "600:\ttest: 0.7430221\tbest: 0.7430284 (587)\ttotal: 6.29s\tremaining: 17s\n",
      "900:\ttest: 0.7434285\tbest: 0.7434384 (890)\ttotal: 9.43s\tremaining: 13.8s\n",
      "1200:\ttest: 0.7435890\tbest: 0.7436614 (1051)\ttotal: 12.6s\tremaining: 10.7s\n",
      "1500:\ttest: 0.7437296\tbest: 0.7437653 (1420)\ttotal: 15.7s\tremaining: 7.58s\n",
      "1800:\ttest: 0.7437626\tbest: 0.7437704 (1797)\ttotal: 18.9s\tremaining: 4.44s\n",
      "2100:\ttest: 0.7437152\tbest: 0.7437965 (1971)\ttotal: 22.1s\tremaining: 1.29s\n",
      "2223:\ttest: 0.7437206\tbest: 0.7437965 (1971)\ttotal: 23.4s\tremaining: 0us\n",
      "bestTest = 0.7437964678\n",
      "bestIteration = 1971\n",
      "Shrink model to first 1972 iterations.\n"
     ]
    },
    {
     "name": "stderr",
     "output_type": "stream",
     "text": [
      "[I 2025-02-17 15:10:16,760] Trial 5 finished with value: 0.7437964677810669 and parameters: {'iterations': 2224, 'depth': 4, 'learning_rate': 0.032753741610845724, 'l2_leaf_reg': 0.01578232781079559}. Best is trial 2 with value: 0.7440626621246338.\n",
      "Default metric period is 5 because AUC is/are not implemented for GPU\n"
     ]
    },
    {
     "name": "stdout",
     "output_type": "stream",
     "text": [
      "0:\ttest: 0.7334892\tbest: 0.7334892 (0)\ttotal: 42.1ms\tremaining: 1m 20s\n",
      "300:\ttest: 0.7429585\tbest: 0.7429714 (294)\ttotal: 12.8s\tremaining: 1m 8s\n",
      "600:\ttest: 0.7425097\tbest: 0.7431923 (452)\ttotal: 25.5s\tremaining: 55.7s\n",
      "bestTest = 0.7431922555\n",
      "bestIteration = 452\n",
      "Shrink model to first 453 iterations.\n"
     ]
    },
    {
     "name": "stderr",
     "output_type": "stream",
     "text": [
      "[I 2025-02-17 15:10:50,304] Trial 6 finished with value: 0.7431922554969788 and parameters: {'iterations': 1912, 'depth': 9, 'learning_rate': 0.023969009305044177, 'l2_leaf_reg': 0.12173252504194051}. Best is trial 2 with value: 0.7440626621246338.\n",
      "Default metric period is 5 because AUC is/are not implemented for GPU\n"
     ]
    },
    {
     "name": "stdout",
     "output_type": "stream",
     "text": [
      "0:\ttest: 0.7159628\tbest: 0.7159628 (0)\ttotal: 11.2ms\tremaining: 24.5s\n",
      "300:\ttest: 0.7426773\tbest: 0.7426848 (299)\ttotal: 3.12s\tremaining: 19.5s\n",
      "600:\ttest: 0.7430896\tbest: 0.7431107 (594)\ttotal: 6.24s\tremaining: 16.5s\n",
      "900:\ttest: 0.7432907\tbest: 0.7433266 (828)\ttotal: 9.41s\tremaining: 13.4s\n",
      "1200:\ttest: 0.7431822\tbest: 0.7433403 (1039)\ttotal: 12.6s\tremaining: 10.3s\n"
     ]
    },
    {
     "name": "stderr",
     "output_type": "stream",
     "text": [
      "[I 2025-02-17 15:11:05,746] Trial 7 finished with value: 0.743340253829956 and parameters: {'iterations': 2185, 'depth': 4, 'learning_rate': 0.06271676093063665, 'l2_leaf_reg': 0.0010547383621352044}. Best is trial 2 with value: 0.7440626621246338.\n"
     ]
    },
    {
     "name": "stdout",
     "output_type": "stream",
     "text": [
      "bestTest = 0.7433402538\n",
      "bestIteration = 1039\n",
      "Shrink model to first 1040 iterations.\n"
     ]
    },
    {
     "name": "stderr",
     "output_type": "stream",
     "text": [
      "Default metric period is 5 because AUC is/are not implemented for GPU\n"
     ]
    },
    {
     "name": "stdout",
     "output_type": "stream",
     "text": [
      "0:\ttest: 0.7326830\tbest: 0.7326830 (0)\ttotal: 65.2ms\tremaining: 1m 13s\n",
      "300:\ttest: 0.7389760\tbest: 0.7423972 (91)\ttotal: 19.9s\tremaining: 54.7s\n",
      "bestTest = 0.7423972487\n",
      "bestIteration = 91\n",
      "Shrink model to first 92 iterations.\n"
     ]
    },
    {
     "name": "stderr",
     "output_type": "stream",
     "text": [
      "[I 2025-02-17 15:11:33,231] Trial 8 finished with value: 0.7423972487449646 and parameters: {'iterations': 1130, 'depth': 10, 'learning_rate': 0.09673504314208314, 'l2_leaf_reg': 7.085721663941605}. Best is trial 2 with value: 0.7440626621246338.\n",
      "Default metric period is 5 because AUC is/are not implemented for GPU\n"
     ]
    },
    {
     "name": "stdout",
     "output_type": "stream",
     "text": [
      "0:\ttest: 0.7159628\tbest: 0.7159628 (0)\ttotal: 11.2ms\tremaining: 18s\n",
      "300:\ttest: 0.7427149\tbest: 0.7427154 (299)\ttotal: 3.19s\tremaining: 13.9s\n",
      "600:\ttest: 0.7430345\tbest: 0.7431744 (550)\ttotal: 6.41s\tremaining: 10.7s\n"
     ]
    },
    {
     "name": "stderr",
     "output_type": "stream",
     "text": [
      "[I 2025-02-17 15:11:43,799] Trial 9 finished with value: 0.7431744039058685 and parameters: {'iterations': 1609, 'depth': 4, 'learning_rate': 0.07000213751865492, 'l2_leaf_reg': 0.04374364439939081}. Best is trial 2 with value: 0.7440626621246338.\n"
     ]
    },
    {
     "name": "stdout",
     "output_type": "stream",
     "text": [
      "bestTest = 0.7431744039\n",
      "bestIteration = 550\n",
      "Shrink model to first 551 iterations.\n"
     ]
    },
    {
     "name": "stderr",
     "output_type": "stream",
     "text": [
      "Default metric period is 5 because AUC is/are not implemented for GPU\n"
     ]
    },
    {
     "name": "stdout",
     "output_type": "stream",
     "text": [
      "0:\ttest: 0.7309179\tbest: 0.7309179 (0)\ttotal: 29.8ms\tremaining: 1m 26s\n",
      "300:\ttest: 0.7390426\tbest: 0.7390426 (300)\ttotal: 8.74s\tremaining: 1m 15s\n",
      "600:\ttest: 0.7415744\tbest: 0.7415744 (600)\ttotal: 17.5s\tremaining: 1m 7s\n",
      "900:\ttest: 0.7426945\tbest: 0.7426945 (900)\ttotal: 26.2s\tremaining: 58.4s\n",
      "1200:\ttest: 0.7432612\tbest: 0.7432612 (1200)\ttotal: 35.1s\tremaining: 49.8s\n",
      "1500:\ttest: 0.7435557\tbest: 0.7435557 (1500)\ttotal: 43.9s\tremaining: 41.1s\n",
      "1800:\ttest: 0.7437706\tbest: 0.7437735 (1799)\ttotal: 52.7s\tremaining: 32.4s\n",
      "2100:\ttest: 0.7439066\tbest: 0.7439066 (2100)\ttotal: 1m 1s\tremaining: 23.7s\n",
      "2400:\ttest: 0.7440476\tbest: 0.7440478 (2399)\ttotal: 1m 10s\tremaining: 14.9s\n",
      "2700:\ttest: 0.7440615\tbest: 0.7440905 (2640)\ttotal: 1m 19s\tremaining: 6.06s\n",
      "2907:\ttest: 0.7440331\tbest: 0.7440905 (2640)\ttotal: 1m 25s\tremaining: 0us\n",
      "bestTest = 0.7440904975\n",
      "bestIteration = 2640\n",
      "Shrink model to first 2641 iterations.\n"
     ]
    },
    {
     "name": "stderr",
     "output_type": "stream",
     "text": [
      "[I 2025-02-17 15:13:10,667] Trial 10 finished with value: 0.7440904974937439 and parameters: {'iterations': 2908, 'depth': 8, 'learning_rate': 0.005716995335047832, 'l2_leaf_reg': 53.77119408946009}. Best is trial 10 with value: 0.7440904974937439.\n"
     ]
    },
    {
     "name": "stdout",
     "output_type": "stream",
     "text": [
      "저장 완료\n"
     ]
    },
    {
     "name": "stderr",
     "output_type": "stream",
     "text": [
      "Default metric period is 5 because AUC is/are not implemented for GPU\n"
     ]
    },
    {
     "name": "stdout",
     "output_type": "stream",
     "text": [
      "0:\ttest: 0.7309391\tbest: 0.7309391 (0)\ttotal: 30.6ms\tremaining: 1m 29s\n",
      "300:\ttest: 0.7394030\tbest: 0.7394030 (300)\ttotal: 8.67s\tremaining: 1m 15s\n",
      "600:\ttest: 0.7420157\tbest: 0.7420157 (600)\ttotal: 17.3s\tremaining: 1m 7s\n",
      "900:\ttest: 0.7430373\tbest: 0.7430398 (899)\ttotal: 26.1s\tremaining: 58.7s\n",
      "1200:\ttest: 0.7435116\tbest: 0.7435116 (1199)\ttotal: 34.8s\tremaining: 50.1s\n",
      "1500:\ttest: 0.7437714\tbest: 0.7437714 (1500)\ttotal: 43.5s\tremaining: 41.4s\n",
      "1800:\ttest: 0.7439461\tbest: 0.7439461 (1800)\ttotal: 52.4s\tremaining: 32.8s\n",
      "2100:\ttest: 0.7440207\tbest: 0.7440246 (2094)\ttotal: 1m 1s\tremaining: 24.2s\n",
      "2400:\ttest: 0.7440570\tbest: 0.7440668 (2250)\ttotal: 1m 9s\tremaining: 15.4s\n",
      "2700:\ttest: 0.7441172\tbest: 0.7441303 (2675)\ttotal: 1m 18s\tremaining: 6.67s\n",
      "2929:\ttest: 0.7441504\tbest: 0.7441648 (2799)\ttotal: 1m 25s\tremaining: 0us\n",
      "bestTest = 0.7441648245\n",
      "bestIteration = 2799\n",
      "Shrink model to first 2800 iterations.\n"
     ]
    },
    {
     "name": "stderr",
     "output_type": "stream",
     "text": [
      "[I 2025-02-17 15:14:37,669] Trial 11 finished with value: 0.7441648244857788 and parameters: {'iterations': 2930, 'depth': 8, 'learning_rate': 0.006402408540446867, 'l2_leaf_reg': 83.11832707510945}. Best is trial 11 with value: 0.7441648244857788.\n"
     ]
    },
    {
     "name": "stdout",
     "output_type": "stream",
     "text": [
      "저장 완료\n"
     ]
    },
    {
     "name": "stderr",
     "output_type": "stream",
     "text": [
      "Default metric period is 5 because AUC is/are not implemented for GPU\n"
     ]
    },
    {
     "name": "stdout",
     "output_type": "stream",
     "text": [
      "0:\ttest: 0.7275186\tbest: 0.7275186 (0)\ttotal: 24.4ms\tremaining: 1m 11s\n",
      "300:\ttest: 0.7435147\tbest: 0.7435147 (300)\ttotal: 6.61s\tremaining: 57.9s\n",
      "600:\ttest: 0.7435814\tbest: 0.7438276 (468)\ttotal: 13s\tremaining: 50.8s\n",
      "bestTest = 0.743827641\n",
      "bestIteration = 468\n",
      "Shrink model to first 469 iterations.\n"
     ]
    },
    {
     "name": "stderr",
     "output_type": "stream",
     "text": [
      "[I 2025-02-17 15:14:55,750] Trial 12 finished with value: 0.7438276410102844 and parameters: {'iterations': 2941, 'depth': 7, 'learning_rate': 0.04193178467290181, 'l2_leaf_reg': 1.5372567535251158}. Best is trial 11 with value: 0.7441648244857788.\n",
      "Default metric period is 5 because AUC is/are not implemented for GPU\n"
     ]
    },
    {
     "name": "stdout",
     "output_type": "stream",
     "text": [
      "0:\ttest: 0.7309371\tbest: 0.7309371 (0)\ttotal: 29.7ms\tremaining: 1m 18s\n",
      "300:\ttest: 0.7402943\tbest: 0.7402943 (300)\ttotal: 8.7s\tremaining: 1m 7s\n",
      "600:\ttest: 0.7425278\tbest: 0.7425278 (600)\ttotal: 17.3s\tremaining: 58.6s\n",
      "900:\ttest: 0.7432965\tbest: 0.7433011 (892)\ttotal: 26.1s\tremaining: 50.2s\n",
      "1200:\ttest: 0.7436733\tbest: 0.7436752 (1199)\ttotal: 35s\tremaining: 41.9s\n",
      "1500:\ttest: 0.7437899\tbest: 0.7437943 (1478)\ttotal: 43.8s\tremaining: 33.2s\n",
      "1800:\ttest: 0.7439582\tbest: 0.7439615 (1794)\ttotal: 52.5s\tremaining: 24.4s\n",
      "2100:\ttest: 0.7440108\tbest: 0.7440359 (2027)\ttotal: 1m 1s\tremaining: 15.6s\n",
      "bestTest = 0.7440359294\n",
      "bestIteration = 2027\n",
      "Shrink model to first 2028 iterations.\n"
     ]
    },
    {
     "name": "stderr",
     "output_type": "stream",
     "text": [
      "[I 2025-02-17 15:16:05,263] Trial 13 finished with value: 0.744035929441452 and parameters: {'iterations': 2638, 'depth': 8, 'learning_rate': 0.007940569964231542, 'l2_leaf_reg': 65.5477287928456}. Best is trial 11 with value: 0.7441648244857788.\n",
      "Default metric period is 5 because AUC is/are not implemented for GPU\n"
     ]
    },
    {
     "name": "stdout",
     "output_type": "stream",
     "text": [
      "0:\ttest: 0.7309763\tbest: 0.7309763 (0)\ttotal: 29.2ms\tremaining: 1m 27s\n",
      "300:\ttest: 0.7429859\tbest: 0.7429859 (300)\ttotal: 8.75s\tremaining: 1m 18s\n",
      "600:\ttest: 0.7435730\tbest: 0.7436662 (554)\ttotal: 17.5s\tremaining: 1m 9s\n",
      "bestTest = 0.7436662018\n",
      "bestIteration = 554\n",
      "Shrink model to first 555 iterations.\n"
     ]
    },
    {
     "name": "stderr",
     "output_type": "stream",
     "text": [
      "[I 2025-02-17 15:16:31,475] Trial 14 finished with value: 0.7436662018299103 and parameters: {'iterations': 2990, 'depth': 8, 'learning_rate': 0.02191927121203297, 'l2_leaf_reg': 3.4437900071734107}. Best is trial 11 with value: 0.7441648244857788.\n",
      "Default metric period is 5 because AUC is/are not implemented for GPU\n"
     ]
    },
    {
     "name": "stdout",
     "output_type": "stream",
     "text": [
      "0:\ttest: 0.7217555\tbest: 0.7217555 (0)\ttotal: 20.4ms\tremaining: 52.8s\n",
      "300:\ttest: 0.7428099\tbest: 0.7428140 (298)\ttotal: 5.89s\tremaining: 44.7s\n",
      "600:\ttest: 0.7436487\tbest: 0.7436487 (600)\ttotal: 11s\tremaining: 36.4s\n",
      "900:\ttest: 0.7437299\tbest: 0.7437930 (857)\ttotal: 16.1s\tremaining: 30s\n",
      "1200:\ttest: 0.7437578\tbest: 0.7438198 (991)\ttotal: 21.1s\tremaining: 24.3s\n",
      "1500:\ttest: 0.7437145\tbest: 0.7438427 (1282)\ttotal: 26.1s\tremaining: 18.8s\n",
      "bestTest = 0.743842721\n",
      "bestIteration = 1282\n",
      "Shrink model to first 1283 iterations.\n"
     ]
    },
    {
     "name": "stderr",
     "output_type": "stream",
     "text": [
      "[I 2025-02-17 15:17:00,475] Trial 15 finished with value: 0.7438427209854126 and parameters: {'iterations': 2583, 'depth': 6, 'learning_rate': 0.02963805491728204, 'l2_leaf_reg': 0.8243036091063639}. Best is trial 11 with value: 0.7441648244857788.\n",
      "Default metric period is 5 because AUC is/are not implemented for GPU\n"
     ]
    },
    {
     "name": "stdout",
     "output_type": "stream",
     "text": [
      "0:\ttest: 0.7336274\tbest: 0.7336274 (0)\ttotal: 42.4ms\tremaining: 1m 41s\n",
      "300:\ttest: 0.7426794\tbest: 0.7426794 (300)\ttotal: 12.8s\tremaining: 1m 29s\n",
      "600:\ttest: 0.7437927\tbest: 0.7437927 (600)\ttotal: 25.5s\tremaining: 1m 16s\n",
      "900:\ttest: 0.7440704\tbest: 0.7440709 (899)\ttotal: 38.3s\tremaining: 1m 3s\n",
      "1200:\ttest: 0.7441164\tbest: 0.7441478 (1070)\ttotal: 51s\tremaining: 51.1s\n",
      "bestTest = 0.7441478372\n",
      "bestIteration = 1070\n",
      "Shrink model to first 1071 iterations.\n"
     ]
    },
    {
     "name": "stderr",
     "output_type": "stream",
     "text": [
      "[I 2025-02-17 15:18:00,366] Trial 16 finished with value: 0.7441478371620178 and parameters: {'iterations': 2403, 'depth': 9, 'learning_rate': 0.015196777855232777, 'l2_leaf_reg': 94.64533014403676}. Best is trial 11 with value: 0.7441648244857788.\n",
      "Default metric period is 5 because AUC is/are not implemented for GPU\n"
     ]
    },
    {
     "name": "stdout",
     "output_type": "stream",
     "text": [
      "0:\ttest: 0.7335311\tbest: 0.7335311 (0)\ttotal: 42.4ms\tremaining: 1m 43s\n",
      "300:\ttest: 0.7431229\tbest: 0.7431229 (300)\ttotal: 12.9s\tremaining: 1m 31s\n",
      "600:\ttest: 0.7439895\tbest: 0.7439909 (597)\ttotal: 25.7s\tremaining: 1m 19s\n",
      "900:\ttest: 0.7439317\tbest: 0.7441171 (710)\ttotal: 38.5s\tremaining: 1m 6s\n",
      "bestTest = 0.7441170812\n",
      "bestIteration = 710\n",
      "Shrink model to first 711 iterations.\n"
     ]
    },
    {
     "name": "stderr",
     "output_type": "stream",
     "text": [
      "[I 2025-02-17 15:18:45,037] Trial 17 finished with value: 0.7441170811653137 and parameters: {'iterations': 2448, 'depth': 9, 'learning_rate': 0.01706356018010325, 'l2_leaf_reg': 11.764065887527059}. Best is trial 11 with value: 0.7441648244857788.\n",
      "Default metric period is 5 because AUC is/are not implemented for GPU\n"
     ]
    },
    {
     "name": "stdout",
     "output_type": "stream",
     "text": [
      "0:\ttest: 0.7336257\tbest: 0.7336257 (0)\ttotal: 42.3ms\tremaining: 1m 44s\n",
      "300:\ttest: 0.7438811\tbest: 0.7439031 (296)\ttotal: 12.8s\tremaining: 1m 32s\n",
      "600:\ttest: 0.7436440\tbest: 0.7439721 (333)\ttotal: 25.5s\tremaining: 1m 19s\n",
      "bestTest = 0.7439721227\n",
      "bestIteration = 333\n",
      "Shrink model to first 334 iterations.\n"
     ]
    },
    {
     "name": "stderr",
     "output_type": "stream",
     "text": [
      "[I 2025-02-17 15:19:13,445] Trial 18 finished with value: 0.74397212266922 and parameters: {'iterations': 2478, 'depth': 9, 'learning_rate': 0.03721319326346145, 'l2_leaf_reg': 98.56235002614817}. Best is trial 11 with value: 0.7441648244857788.\n",
      "Default metric period is 5 because AUC is/are not implemented for GPU\n"
     ]
    },
    {
     "name": "stdout",
     "output_type": "stream",
     "text": [
      "0:\ttest: 0.7326192\tbest: 0.7326192 (0)\ttotal: 65.7ms\tremaining: 3m 2s\n",
      "300:\ttest: 0.7407184\tbest: 0.7420758 (130)\ttotal: 20.2s\tremaining: 2m 45s\n",
      "bestTest = 0.7420758009\n",
      "bestIteration = 130\n",
      "Shrink model to first 131 iterations.\n"
     ]
    },
    {
     "name": "stderr",
     "output_type": "stream",
     "text": [
      "[I 2025-02-17 15:19:43,858] Trial 19 finished with value: 0.7420758008956909 and parameters: {'iterations': 2772, 'depth': 10, 'learning_rate': 0.0526711296023181, 'l2_leaf_reg': 0.18304865137789625}. Best is trial 11 with value: 0.7441648244857788.\n"
     ]
    },
    {
     "name": "stdout",
     "output_type": "stream",
     "text": [
      "Cat val score : 0.7441647620187619\n",
      "LGBM val score : 0.7439849578352579\n",
      "Ensemble val score : 0.7443275439083659\n"
     ]
    },
    {
     "name": "stderr",
     "output_type": "stream",
     "text": [
      "[I 2025-02-17 15:19:57,744] A new study created in memory with name: no-name-e4c9c2b0-d31d-4146-bce9-e9ef16449e49\n"
     ]
    },
    {
     "name": "stdout",
     "output_type": "stream",
     "text": [
      "==================================================\n"
     ]
    },
    {
     "name": "stderr",
     "output_type": "stream",
     "text": [
      "Default metric period is 5 because AUC is/are not implemented for GPU\n"
     ]
    },
    {
     "name": "stdout",
     "output_type": "stream",
     "text": [
      "0:\ttest: 0.7213705\tbest: 0.7213705 (0)\ttotal: 74.2ms\tremaining: 2m 9s\n",
      "300:\ttest: 0.7261553\tbest: 0.7309427 (93)\ttotal: 20.1s\tremaining: 1m 36s\n",
      "bestTest = 0.7309426665\n",
      "bestIteration = 93\n",
      "Shrink model to first 94 iterations.\n"
     ]
    },
    {
     "name": "stderr",
     "output_type": "stream",
     "text": [
      "[I 2025-02-17 15:20:25,204] Trial 0 finished with value: 0.7309426665306091 and parameters: {'iterations': 1749, 'depth': 10, 'learning_rate': 0.07453942447208349, 'l2_leaf_reg': 0.39079671568228835}. Best is trial 0 with value: 0.7309426665306091.\n"
     ]
    },
    {
     "name": "stdout",
     "output_type": "stream",
     "text": [
      "저장 완료\n"
     ]
    },
    {
     "name": "stderr",
     "output_type": "stream",
     "text": [
      "Default metric period is 5 because AUC is/are not implemented for GPU\n"
     ]
    },
    {
     "name": "stdout",
     "output_type": "stream",
     "text": [
      "0:\ttest: 0.7034566\tbest: 0.7034566 (0)\ttotal: 14.1ms\tremaining: 18.5s\n",
      "300:\ttest: 0.7271377\tbest: 0.7271377 (300)\ttotal: 3.97s\tremaining: 13.3s\n",
      "600:\ttest: 0.7301401\tbest: 0.7301401 (600)\ttotal: 8.2s\tremaining: 9.7s\n",
      "900:\ttest: 0.7313224\tbest: 0.7313224 (900)\ttotal: 12.4s\tremaining: 5.68s\n",
      "1200:\ttest: 0.7320054\tbest: 0.7320058 (1199)\ttotal: 16.6s\tremaining: 1.53s\n",
      "1311:\ttest: 0.7321984\tbest: 0.7321984 (1311)\ttotal: 18.1s\tremaining: 0us\n",
      "bestTest = 0.7321983576\n",
      "bestIteration = 1311\n"
     ]
    },
    {
     "name": "stderr",
     "output_type": "stream",
     "text": [
      "[I 2025-02-17 15:20:44,793] Trial 1 finished with value: 0.7321983575820923 and parameters: {'iterations': 1312, 'depth': 5, 'learning_rate': 0.010517943155978949, 'l2_leaf_reg': 15.741890047456648}. Best is trial 1 with value: 0.7321983575820923.\n"
     ]
    },
    {
     "name": "stdout",
     "output_type": "stream",
     "text": [
      "저장 완료\n"
     ]
    },
    {
     "name": "stderr",
     "output_type": "stream",
     "text": [
      "Default metric period is 5 because AUC is/are not implemented for GPU\n"
     ]
    },
    {
     "name": "stdout",
     "output_type": "stream",
     "text": [
      "0:\ttest: 0.7204369\tbest: 0.7204369 (0)\ttotal: 29.5ms\tremaining: 1m 4s\n",
      "300:\ttest: 0.7282984\tbest: 0.7282984 (300)\ttotal: 8.82s\tremaining: 55.7s\n",
      "600:\ttest: 0.7305775\tbest: 0.7305775 (600)\ttotal: 18s\tremaining: 48s\n",
      "900:\ttest: 0.7315427\tbest: 0.7315427 (900)\ttotal: 26.9s\tremaining: 38.8s\n",
      "1200:\ttest: 0.7320523\tbest: 0.7320591 (1198)\ttotal: 35.9s\tremaining: 29.9s\n",
      "1500:\ttest: 0.7323671\tbest: 0.7323671 (1500)\ttotal: 44.8s\tremaining: 20.9s\n",
      "1800:\ttest: 0.7325395\tbest: 0.7325395 (1800)\ttotal: 53.7s\tremaining: 12s\n",
      "2100:\ttest: 0.7325636\tbest: 0.7325813 (2050)\ttotal: 1m 2s\tremaining: 3.01s\n",
      "2201:\ttest: 0.7325931\tbest: 0.7325931 (2201)\ttotal: 1m 5s\tremaining: 0us\n",
      "bestTest = 0.7325930595\n",
      "bestIteration = 2201\n"
     ]
    },
    {
     "name": "stderr",
     "output_type": "stream",
     "text": [
      "[I 2025-02-17 15:21:51,953] Trial 2 finished with value: 0.7325930595397949 and parameters: {'iterations': 2202, 'depth': 8, 'learning_rate': 0.006955526958101232, 'l2_leaf_reg': 65.98711072054076}. Best is trial 2 with value: 0.7325930595397949.\n"
     ]
    },
    {
     "name": "stdout",
     "output_type": "stream",
     "text": [
      "저장 완료\n"
     ]
    },
    {
     "name": "stderr",
     "output_type": "stream",
     "text": [
      "Default metric period is 5 because AUC is/are not implemented for GPU\n"
     ]
    },
    {
     "name": "stdout",
     "output_type": "stream",
     "text": [
      "0:\ttest: 0.7034329\tbest: 0.7034329 (0)\ttotal: 14.6ms\tremaining: 38.8s\n",
      "300:\ttest: 0.7303464\tbest: 0.7303464 (300)\ttotal: 4.13s\tremaining: 32.5s\n",
      "600:\ttest: 0.7319472\tbest: 0.7319480 (599)\ttotal: 8.33s\tremaining: 28.6s\n",
      "900:\ttest: 0.7326781\tbest: 0.7327085 (891)\ttotal: 12.3s\tremaining: 24.1s\n",
      "1200:\ttest: 0.7329500\tbest: 0.7329759 (1111)\ttotal: 16.3s\tremaining: 19.9s\n",
      "1500:\ttest: 0.7328671\tbest: 0.7329826 (1329)\ttotal: 20.3s\tremaining: 15.7s\n",
      "bestTest = 0.7329826355\n",
      "bestIteration = 1329\n",
      "Shrink model to first 1330 iterations.\n"
     ]
    },
    {
     "name": "stderr",
     "output_type": "stream",
     "text": [
      "[I 2025-02-17 15:22:15,368] Trial 3 finished with value: 0.7329826354980469 and parameters: {'iterations': 2665, 'depth': 5, 'learning_rate': 0.02227337188467456, 'l2_leaf_reg': 0.0012601639723276807}. Best is trial 3 with value: 0.7329826354980469.\n"
     ]
    },
    {
     "name": "stdout",
     "output_type": "stream",
     "text": [
      "저장 완료\n"
     ]
    },
    {
     "name": "stderr",
     "output_type": "stream",
     "text": [
      "Default metric period is 5 because AUC is/are not implemented for GPU\n"
     ]
    },
    {
     "name": "stdout",
     "output_type": "stream",
     "text": [
      "0:\ttest: 0.7160500\tbest: 0.7160500 (0)\ttotal: 24.3ms\tremaining: 39s\n",
      "300:\ttest: 0.7321786\tbest: 0.7322186 (247)\ttotal: 6.96s\tremaining: 30.2s\n",
      "600:\ttest: 0.7314774\tbest: 0.7322544 (309)\ttotal: 13.6s\tremaining: 22.7s\n",
      "bestTest = 0.7322543561\n",
      "bestIteration = 309\n",
      "Shrink model to first 310 iterations.\n"
     ]
    },
    {
     "name": "stderr",
     "output_type": "stream",
     "text": [
      "[I 2025-02-17 15:22:30,809] Trial 4 finished with value: 0.7322543561458588 and parameters: {'iterations': 1608, 'depth': 7, 'learning_rate': 0.046034776771001, 'l2_leaf_reg': 0.005589524205217926}. Best is trial 3 with value: 0.7329826354980469.\n",
      "Default metric period is 5 because AUC is/are not implemented for GPU\n"
     ]
    },
    {
     "name": "stdout",
     "output_type": "stream",
     "text": [
      "0:\ttest: 0.7013710\tbest: 0.7013710 (0)\ttotal: 11.4ms\tremaining: 25.3s\n",
      "300:\ttest: 0.7304132\tbest: 0.7304132 (300)\ttotal: 3.22s\tremaining: 20.6s\n",
      "600:\ttest: 0.7320269\tbest: 0.7320269 (600)\ttotal: 6.38s\tremaining: 17.2s\n",
      "900:\ttest: 0.7326801\tbest: 0.7327024 (885)\ttotal: 9.56s\tremaining: 14s\n",
      "1200:\ttest: 0.7329098\tbest: 0.7329541 (1132)\ttotal: 12.7s\tremaining: 10.8s\n",
      "1500:\ttest: 0.7329120\tbest: 0.7329779 (1267)\ttotal: 15.9s\tremaining: 7.67s\n",
      "bestTest = 0.7329778969\n",
      "bestIteration = 1267\n",
      "Shrink model to first 1268 iterations.\n"
     ]
    },
    {
     "name": "stderr",
     "output_type": "stream",
     "text": [
      "[I 2025-02-17 15:22:48,896] Trial 5 finished with value: 0.7329778969287872 and parameters: {'iterations': 2224, 'depth': 4, 'learning_rate': 0.032753741610845724, 'l2_leaf_reg': 0.01578232781079559}. Best is trial 3 with value: 0.7329826354980469.\n",
      "Default metric period is 5 because AUC is/are not implemented for GPU\n"
     ]
    },
    {
     "name": "stdout",
     "output_type": "stream",
     "text": [
      "0:\ttest: 0.7218685\tbest: 0.7218685 (0)\ttotal: 43.2ms\tremaining: 1m 22s\n",
      "300:\ttest: 0.7310558\tbest: 0.7310674 (298)\ttotal: 12.9s\tremaining: 1m 8s\n",
      "600:\ttest: 0.7308141\tbest: 0.7311600 (369)\ttotal: 25.7s\tremaining: 56s\n",
      "bestTest = 0.7311600447\n",
      "bestIteration = 369\n",
      "Shrink model to first 370 iterations.\n"
     ]
    },
    {
     "name": "stderr",
     "output_type": "stream",
     "text": [
      "[I 2025-02-17 15:23:19,077] Trial 6 finished with value: 0.731160044670105 and parameters: {'iterations': 1912, 'depth': 9, 'learning_rate': 0.023969009305044177, 'l2_leaf_reg': 0.12173252504194051}. Best is trial 3 with value: 0.7329826354980469.\n",
      "Default metric period is 5 because AUC is/are not implemented for GPU\n"
     ]
    },
    {
     "name": "stdout",
     "output_type": "stream",
     "text": [
      "0:\ttest: 0.7013710\tbest: 0.7013710 (0)\ttotal: 11.7ms\tremaining: 25.5s\n",
      "300:\ttest: 0.7320350\tbest: 0.7320531 (297)\ttotal: 3.18s\tremaining: 19.9s\n",
      "600:\ttest: 0.7325392\tbest: 0.7326072 (571)\ttotal: 6.35s\tremaining: 16.7s\n"
     ]
    },
    {
     "name": "stderr",
     "output_type": "stream",
     "text": [
      "[I 2025-02-17 15:23:29,746] Trial 7 finished with value: 0.7326071858406067 and parameters: {'iterations': 2185, 'depth': 4, 'learning_rate': 0.06271676093063665, 'l2_leaf_reg': 0.0010547383621352044}. Best is trial 3 with value: 0.7329826354980469.\n"
     ]
    },
    {
     "name": "stdout",
     "output_type": "stream",
     "text": [
      "bestTest = 0.7326071858\n",
      "bestIteration = 571\n",
      "Shrink model to first 572 iterations.\n"
     ]
    },
    {
     "name": "stderr",
     "output_type": "stream",
     "text": [
      "Default metric period is 5 because AUC is/are not implemented for GPU\n"
     ]
    },
    {
     "name": "stdout",
     "output_type": "stream",
     "text": [
      "0:\ttest: 0.7214071\tbest: 0.7214071 (0)\ttotal: 65.9ms\tremaining: 1m 14s\n",
      "300:\ttest: 0.7268719\tbest: 0.7307761 (75)\ttotal: 19.9s\tremaining: 54.8s\n",
      "bestTest = 0.7307761014\n",
      "bestIteration = 75\n",
      "Shrink model to first 76 iterations.\n"
     ]
    },
    {
     "name": "stderr",
     "output_type": "stream",
     "text": [
      "[I 2025-02-17 15:23:56,208] Trial 8 finished with value: 0.7307761013507843 and parameters: {'iterations': 1130, 'depth': 10, 'learning_rate': 0.09673504314208314, 'l2_leaf_reg': 7.085721663941605}. Best is trial 3 with value: 0.7329826354980469.\n",
      "Default metric period is 5 because AUC is/are not implemented for GPU\n"
     ]
    },
    {
     "name": "stdout",
     "output_type": "stream",
     "text": [
      "0:\ttest: 0.7013710\tbest: 0.7013710 (0)\ttotal: 11.3ms\tremaining: 18.1s\n",
      "300:\ttest: 0.7319374\tbest: 0.7319604 (286)\ttotal: 3.17s\tremaining: 13.8s\n",
      "600:\ttest: 0.7325311\tbest: 0.7325442 (585)\ttotal: 6.35s\tremaining: 10.7s\n",
      "900:\ttest: 0.7324783\tbest: 0.7325567 (845)\ttotal: 9.56s\tremaining: 7.51s\n"
     ]
    },
    {
     "name": "stderr",
     "output_type": "stream",
     "text": [
      "[I 2025-02-17 15:24:09,810] Trial 9 finished with value: 0.7325567305088043 and parameters: {'iterations': 1609, 'depth': 4, 'learning_rate': 0.07000213751865492, 'l2_leaf_reg': 0.04374364439939081}. Best is trial 3 with value: 0.7329826354980469.\n"
     ]
    },
    {
     "name": "stdout",
     "output_type": "stream",
     "text": [
      "bestTest = 0.7325567305\n",
      "bestIteration = 845\n",
      "Shrink model to first 846 iterations.\n"
     ]
    },
    {
     "name": "stderr",
     "output_type": "stream",
     "text": [
      "Default metric period is 5 because AUC is/are not implemented for GPU\n"
     ]
    },
    {
     "name": "stdout",
     "output_type": "stream",
     "text": [
      "0:\ttest: 0.7100796\tbest: 0.7100796 (0)\ttotal: 19.3ms\tremaining: 55.9s\n",
      "300:\ttest: 0.7316126\tbest: 0.7316568 (296)\ttotal: 5.17s\tremaining: 44.5s\n",
      "600:\ttest: 0.7319226\tbest: 0.7319871 (522)\ttotal: 10.2s\tremaining: 39s\n",
      "900:\ttest: 0.7319300\tbest: 0.7320326 (877)\ttotal: 15.3s\tremaining: 33.8s\n",
      "1200:\ttest: 0.7314143\tbest: 0.7320383 (925)\ttotal: 20.4s\tremaining: 28.7s\n",
      "bestTest = 0.7320383191\n",
      "bestIteration = 925\n",
      "Shrink model to first 926 iterations.\n"
     ]
    },
    {
     "name": "stderr",
     "output_type": "stream",
     "text": [
      "[I 2025-02-17 15:24:32,153] Trial 10 finished with value: 0.7320383191108704 and parameters: {'iterations': 2891, 'depth': 6, 'learning_rate': 0.04002923340850424, 'l2_leaf_reg': 0.000128165534691859}. Best is trial 3 with value: 0.7329826354980469.\n",
      "Default metric period is 5 because AUC is/are not implemented for GPU\n"
     ]
    },
    {
     "name": "stdout",
     "output_type": "stream",
     "text": [
      "0:\ttest: 0.7034329\tbest: 0.7034329 (0)\ttotal: 14.6ms\tremaining: 38.5s\n",
      "300:\ttest: 0.7312520\tbest: 0.7312520 (300)\ttotal: 4.05s\tremaining: 31.5s\n",
      "600:\ttest: 0.7324081\tbest: 0.7324081 (600)\ttotal: 8.02s\tremaining: 27.2s\n",
      "900:\ttest: 0.7328346\tbest: 0.7328440 (880)\ttotal: 12s\tremaining: 23.1s\n",
      "1200:\ttest: 0.7329086\tbest: 0.7329661 (1104)\ttotal: 15.9s\tremaining: 19.1s\n",
      "bestTest = 0.7329660654\n",
      "bestIteration = 1104\n",
      "Shrink model to first 1105 iterations.\n"
     ]
    },
    {
     "name": "stderr",
     "output_type": "stream",
     "text": [
      "[I 2025-02-17 15:24:52,293] Trial 11 finished with value: 0.7329660654067993 and parameters: {'iterations': 2643, 'depth': 5, 'learning_rate': 0.02926712858269389, 'l2_leaf_reg': 0.00479333817463658}. Best is trial 3 with value: 0.7329826354980469.\n",
      "Default metric period is 5 because AUC is/are not implemented for GPU\n"
     ]
    },
    {
     "name": "stdout",
     "output_type": "stream",
     "text": [
      "0:\ttest: 0.7100796\tbest: 0.7100796 (0)\ttotal: 17.3ms\tremaining: 43.2s\n",
      "300:\ttest: 0.7313388\tbest: 0.7313516 (298)\ttotal: 5.04s\tremaining: 36.6s\n",
      "600:\ttest: 0.7326007\tbest: 0.7326157 (586)\ttotal: 10.1s\tremaining: 31.8s\n",
      "900:\ttest: 0.7328920\tbest: 0.7329126 (870)\ttotal: 15.2s\tremaining: 26.8s\n",
      "1200:\ttest: 0.7324831\tbest: 0.7329628 (946)\ttotal: 20.2s\tremaining: 21.7s\n",
      "bestTest = 0.7329627872\n",
      "bestIteration = 946\n",
      "Shrink model to first 947 iterations.\n"
     ]
    },
    {
     "name": "stderr",
     "output_type": "stream",
     "text": [
      "[I 2025-02-17 15:25:14,797] Trial 12 finished with value: 0.7329627871513367 and parameters: {'iterations': 2490, 'depth': 6, 'learning_rate': 0.025490361333901267, 'l2_leaf_reg': 0.00011330390824985123}. Best is trial 3 with value: 0.7329826354980469.\n",
      "Default metric period is 5 because AUC is/are not implemented for GPU\n"
     ]
    },
    {
     "name": "stdout",
     "output_type": "stream",
     "text": [
      "0:\ttest: 0.7013710\tbest: 0.7013710 (0)\ttotal: 11.4ms\tremaining: 28.3s\n",
      "300:\ttest: 0.7308724\tbest: 0.7308885 (298)\ttotal: 3.2s\tremaining: 23.3s\n",
      "600:\ttest: 0.7322724\tbest: 0.7322724 (600)\ttotal: 6.36s\tremaining: 20s\n",
      "900:\ttest: 0.7327635\tbest: 0.7327930 (886)\ttotal: 9.55s\tremaining: 16.9s\n",
      "1200:\ttest: 0.7328422\tbest: 0.7328843 (1135)\ttotal: 12.7s\tremaining: 13.7s\n",
      "1500:\ttest: 0.7328568\tbest: 0.7329500 (1363)\ttotal: 16s\tremaining: 10.5s\n",
      "bestTest = 0.7329500318\n",
      "bestIteration = 1363\n",
      "Shrink model to first 1364 iterations.\n"
     ]
    },
    {
     "name": "stderr",
     "output_type": "stream",
     "text": [
      "[I 2025-02-17 15:25:34,029] Trial 13 finished with value: 0.7329500317573547 and parameters: {'iterations': 2490, 'depth': 4, 'learning_rate': 0.037539019405086874, 'l2_leaf_reg': 0.008836133639122057}. Best is trial 3 with value: 0.7329826354980469.\n",
      "Default metric period is 5 because AUC is/are not implemented for GPU\n"
     ]
    },
    {
     "name": "stdout",
     "output_type": "stream",
     "text": [
      "0:\ttest: 0.7034329\tbest: 0.7034329 (0)\ttotal: 14.4ms\tremaining: 42.5s\n",
      "300:\ttest: 0.7296233\tbest: 0.7296255 (299)\ttotal: 4s\tremaining: 35.2s\n",
      "600:\ttest: 0.7315442\tbest: 0.7315442 (600)\ttotal: 8.03s\tremaining: 31.3s\n",
      "900:\ttest: 0.7324031\tbest: 0.7324250 (891)\ttotal: 12s\tremaining: 27.2s\n",
      "1200:\ttest: 0.7327899\tbest: 0.7327901 (1199)\ttotal: 16s\tremaining: 23.2s\n",
      "1500:\ttest: 0.7327477\tbest: 0.7328450 (1239)\ttotal: 19.9s\tremaining: 19.2s\n",
      "bestTest = 0.7328450084\n",
      "bestIteration = 1239\n",
      "Shrink model to first 1240 iterations.\n"
     ]
    },
    {
     "name": "stderr",
     "output_type": "stream",
     "text": [
      "[I 2025-02-17 15:25:55,982] Trial 14 finished with value: 0.7328450083732605 and parameters: {'iterations': 2946, 'depth': 5, 'learning_rate': 0.018618197681913726, 'l2_leaf_reg': 0.0007615231559767447}. Best is trial 3 with value: 0.7329826354980469.\n",
      "Default metric period is 5 because AUC is/are not implemented for GPU\n"
     ]
    },
    {
     "name": "stdout",
     "output_type": "stream",
     "text": [
      "0:\ttest: 0.7101059\tbest: 0.7101059 (0)\ttotal: 17.8ms\tremaining: 39.4s\n",
      "300:\ttest: 0.7323385\tbest: 0.7323385 (300)\ttotal: 5.16s\tremaining: 32.8s\n",
      "600:\ttest: 0.7327225\tbest: 0.7328967 (502)\ttotal: 10.2s\tremaining: 27.4s\n",
      "bestTest = 0.7328967154\n",
      "bestIteration = 502\n",
      "Shrink model to first 503 iterations.\n"
     ]
    },
    {
     "name": "stderr",
     "output_type": "stream",
     "text": [
      "[I 2025-02-17 15:26:11,108] Trial 15 finished with value: 0.7328967154026031 and parameters: {'iterations': 2216, 'depth': 6, 'learning_rate': 0.054182769936289704, 'l2_leaf_reg': 0.7965345598945991}. Best is trial 3 with value: 0.7329826354980469.\n",
      "Default metric period is 5 because AUC is/are not implemented for GPU\n"
     ]
    },
    {
     "name": "stdout",
     "output_type": "stream",
     "text": [
      "0:\ttest: 0.7160764\tbest: 0.7160764 (0)\ttotal: 22.3ms\tremaining: 58.5s\n",
      "300:\ttest: 0.7322613\tbest: 0.7322896 (297)\ttotal: 6.58s\tremaining: 50.7s\n",
      "600:\ttest: 0.7327945\tbest: 0.7328038 (598)\ttotal: 13.1s\tremaining: 43.9s\n",
      "900:\ttest: 0.7320574\tbest: 0.7328272 (616)\ttotal: 19.6s\tremaining: 37.4s\n",
      "bestTest = 0.7328271866\n",
      "bestIteration = 616\n",
      "Shrink model to first 617 iterations.\n"
     ]
    },
    {
     "name": "stderr",
     "output_type": "stream",
     "text": [
      "[I 2025-02-17 15:26:32,599] Trial 16 finished with value: 0.7328271865844727 and parameters: {'iterations': 2621, 'depth': 7, 'learning_rate': 0.03520827945008767, 'l2_leaf_reg': 0.020409909532914425}. Best is trial 3 with value: 0.7329826354980469.\n",
      "Default metric period is 5 because AUC is/are not implemented for GPU\n"
     ]
    },
    {
     "name": "stdout",
     "output_type": "stream",
     "text": [
      "0:\ttest: 0.7034329\tbest: 0.7034329 (0)\ttotal: 14.1ms\tremaining: 32.6s\n",
      "300:\ttest: 0.7293896\tbest: 0.7293896 (300)\ttotal: 3.99s\tremaining: 26.8s\n",
      "600:\ttest: 0.7313776\tbest: 0.7313790 (599)\ttotal: 8.02s\tremaining: 22.9s\n",
      "900:\ttest: 0.7323816\tbest: 0.7323859 (891)\ttotal: 12s\tremaining: 18.8s\n",
      "1200:\ttest: 0.7328364\tbest: 0.7328437 (1191)\ttotal: 15.9s\tremaining: 14.8s\n",
      "1500:\ttest: 0.7328142\tbest: 0.7328905 (1239)\ttotal: 19.9s\tremaining: 10.8s\n",
      "bestTest = 0.7328905463\n",
      "bestIteration = 1239\n",
      "Shrink model to first 1240 iterations.\n"
     ]
    },
    {
     "name": "stderr",
     "output_type": "stream",
     "text": [
      "[I 2025-02-17 15:26:54,498] Trial 17 finished with value: 0.7328905463218689 and parameters: {'iterations': 2318, 'depth': 5, 'learning_rate': 0.01706356018010325, 'l2_leaf_reg': 0.0008188474004243405}. Best is trial 3 with value: 0.7329826354980469.\n",
      "Default metric period is 5 because AUC is/are not implemented for GPU\n"
     ]
    },
    {
     "name": "stdout",
     "output_type": "stream",
     "text": [
      "0:\ttest: 0.7013710\tbest: 0.7013710 (0)\ttotal: 12.4ms\tremaining: 24.8s\n",
      "300:\ttest: 0.7317011\tbest: 0.7317011 (300)\ttotal: 3.23s\tremaining: 18.1s\n",
      "600:\ttest: 0.7326435\tbest: 0.7326682 (586)\ttotal: 6.42s\tremaining: 14.9s\n",
      "900:\ttest: 0.7326762\tbest: 0.7327455 (886)\ttotal: 9.66s\tremaining: 11.7s\n",
      "bestTest = 0.7327454686\n",
      "bestIteration = 886\n",
      "Shrink model to first 887 iterations.\n"
     ]
    },
    {
     "name": "stderr",
     "output_type": "stream",
     "text": [
      "[I 2025-02-17 15:27:08,734] Trial 18 finished with value: 0.7327454686164856 and parameters: {'iterations': 1994, 'depth': 4, 'learning_rate': 0.05222311239303098, 'l2_leaf_reg': 0.0022072033947375387}. Best is trial 3 with value: 0.7329826354980469.\n",
      "Default metric period is 5 because AUC is/are not implemented for GPU\n"
     ]
    },
    {
     "name": "stdout",
     "output_type": "stream",
     "text": [
      "0:\ttest: 0.7160763\tbest: 0.7160763 (0)\ttotal: 22.2ms\tremaining: 1m 1s\n",
      "300:\ttest: 0.7310752\tbest: 0.7318607 (167)\ttotal: 6.47s\tremaining: 53.2s\n",
      "bestTest = 0.7318606973\n",
      "bestIteration = 167\n",
      "Shrink model to first 168 iterations.\n"
     ]
    },
    {
     "name": "stderr",
     "output_type": "stream",
     "text": [
      "[I 2025-02-17 15:27:20,348] Trial 19 finished with value: 0.7318606972694397 and parameters: {'iterations': 2772, 'depth': 7, 'learning_rate': 0.08614192101110421, 'l2_leaf_reg': 0.1423205689447929}. Best is trial 3 with value: 0.7329826354980469.\n"
     ]
    },
    {
     "name": "stdout",
     "output_type": "stream",
     "text": [
      "Cat val score : 0.7329827047868804\n",
      "LGBM val score : 0.7326602847504091\n",
      "Ensemble val score : 0.7332942435243921\n"
     ]
    },
    {
     "name": "stderr",
     "output_type": "stream",
     "text": [
      "[I 2025-02-17 15:27:30,849] A new study created in memory with name: no-name-55028244-f478-4381-b621-bb01d6f4398c\n"
     ]
    },
    {
     "name": "stdout",
     "output_type": "stream",
     "text": [
      "==================================================\n"
     ]
    },
    {
     "name": "stderr",
     "output_type": "stream",
     "text": [
      "Default metric period is 5 because AUC is/are not implemented for GPU\n"
     ]
    },
    {
     "name": "stdout",
     "output_type": "stream",
     "text": [
      "0:\ttest: 0.7259500\tbest: 0.7259500 (0)\ttotal: 72.8ms\tremaining: 2m 7s\n",
      "300:\ttest: 0.7351516\tbest: 0.7381862 (127)\ttotal: 20.1s\tremaining: 1m 36s\n",
      "bestTest = 0.7381862402\n",
      "bestIteration = 127\n",
      "Shrink model to first 128 iterations.\n"
     ]
    },
    {
     "name": "stderr",
     "output_type": "stream",
     "text": [
      "[I 2025-02-17 15:28:00,659] Trial 0 finished with value: 0.738186240196228 and parameters: {'iterations': 1749, 'depth': 10, 'learning_rate': 0.07453942447208349, 'l2_leaf_reg': 0.39079671568228835}. Best is trial 0 with value: 0.738186240196228.\n"
     ]
    },
    {
     "name": "stdout",
     "output_type": "stream",
     "text": [
      "저장 완료\n"
     ]
    },
    {
     "name": "stderr",
     "output_type": "stream",
     "text": [
      "Default metric period is 5 because AUC is/are not implemented for GPU\n"
     ]
    },
    {
     "name": "stdout",
     "output_type": "stream",
     "text": [
      "0:\ttest: 0.7092260\tbest: 0.7092260 (0)\ttotal: 13.9ms\tremaining: 18.2s\n",
      "300:\ttest: 0.7323175\tbest: 0.7323175 (300)\ttotal: 4.01s\tremaining: 13.5s\n",
      "600:\ttest: 0.7358645\tbest: 0.7358645 (600)\ttotal: 8.02s\tremaining: 9.49s\n",
      "900:\ttest: 0.7372832\tbest: 0.7372832 (900)\ttotal: 12.1s\tremaining: 5.5s\n",
      "1200:\ttest: 0.7380377\tbest: 0.7380377 (1200)\ttotal: 16.2s\tremaining: 1.5s\n",
      "1311:\ttest: 0.7382627\tbest: 0.7382627 (1311)\ttotal: 17.7s\tremaining: 0us\n",
      "bestTest = 0.7382626534\n",
      "bestIteration = 1311\n"
     ]
    },
    {
     "name": "stderr",
     "output_type": "stream",
     "text": [
      "[I 2025-02-17 15:28:19,884] Trial 1 finished with value: 0.7382626533508301 and parameters: {'iterations': 1312, 'depth': 5, 'learning_rate': 0.010517943155978949, 'l2_leaf_reg': 15.741890047456648}. Best is trial 1 with value: 0.7382626533508301.\n"
     ]
    },
    {
     "name": "stdout",
     "output_type": "stream",
     "text": [
      "저장 완료\n"
     ]
    },
    {
     "name": "stderr",
     "output_type": "stream",
     "text": [
      "Default metric period is 5 because AUC is/are not implemented for GPU\n"
     ]
    },
    {
     "name": "stdout",
     "output_type": "stream",
     "text": [
      "0:\ttest: 0.7227673\tbest: 0.7227673 (0)\ttotal: 30.4ms\tremaining: 1m 6s\n",
      "300:\ttest: 0.7335159\tbest: 0.7335159 (300)\ttotal: 9s\tremaining: 56.8s\n",
      "600:\ttest: 0.7366594\tbest: 0.7366594 (600)\ttotal: 17.8s\tremaining: 47.5s\n",
      "900:\ttest: 0.7378834\tbest: 0.7378834 (900)\ttotal: 26.7s\tremaining: 38.6s\n",
      "1200:\ttest: 0.7385349\tbest: 0.7385394 (1195)\ttotal: 35.5s\tremaining: 29.6s\n",
      "1500:\ttest: 0.7388747\tbest: 0.7388747 (1500)\ttotal: 44.5s\tremaining: 20.8s\n",
      "1800:\ttest: 0.7390474\tbest: 0.7390518 (1797)\ttotal: 53.3s\tremaining: 11.9s\n",
      "2100:\ttest: 0.7391964\tbest: 0.7391984 (2093)\ttotal: 1m 2s\tremaining: 2.98s\n",
      "2201:\ttest: 0.7392262\tbest: 0.7392269 (2176)\ttotal: 1m 4s\tremaining: 0us\n",
      "bestTest = 0.7392268777\n",
      "bestIteration = 2176\n",
      "Shrink model to first 2177 iterations.\n"
     ]
    },
    {
     "name": "stderr",
     "output_type": "stream",
     "text": [
      "[I 2025-02-17 15:29:26,589] Trial 2 finished with value: 0.7392268776893616 and parameters: {'iterations': 2202, 'depth': 8, 'learning_rate': 0.006955526958101232, 'l2_leaf_reg': 65.98711072054076}. Best is trial 2 with value: 0.7392268776893616.\n"
     ]
    },
    {
     "name": "stdout",
     "output_type": "stream",
     "text": [
      "저장 완료\n"
     ]
    },
    {
     "name": "stderr",
     "output_type": "stream",
     "text": [
      "Default metric period is 5 because AUC is/are not implemented for GPU\n"
     ]
    },
    {
     "name": "stdout",
     "output_type": "stream",
     "text": [
      "0:\ttest: 0.7092182\tbest: 0.7092182 (0)\ttotal: 13.9ms\tremaining: 36.9s\n",
      "300:\ttest: 0.7360907\tbest: 0.7360907 (300)\ttotal: 3.99s\tremaining: 31.3s\n",
      "600:\ttest: 0.7380607\tbest: 0.7380611 (598)\ttotal: 7.99s\tremaining: 27.4s\n",
      "900:\ttest: 0.7388815\tbest: 0.7388815 (900)\ttotal: 11.9s\tremaining: 23.4s\n",
      "1200:\ttest: 0.7391103\tbest: 0.7391231 (1176)\ttotal: 15.9s\tremaining: 19.4s\n",
      "1500:\ttest: 0.7393152\tbest: 0.7393375 (1439)\ttotal: 19.9s\tremaining: 15.5s\n",
      "1800:\ttest: 0.7394415\tbest: 0.7394684 (1706)\ttotal: 24s\tremaining: 11.5s\n",
      "2100:\ttest: 0.7394920\tbest: 0.7394977 (2094)\ttotal: 28.1s\tremaining: 7.54s\n",
      "2400:\ttest: 0.7393726\tbest: 0.7395137 (2147)\ttotal: 32.1s\tremaining: 3.53s\n",
      "bestTest = 0.739513725\n",
      "bestIteration = 2147\n",
      "Shrink model to first 2148 iterations.\n"
     ]
    },
    {
     "name": "stderr",
     "output_type": "stream",
     "text": [
      "[I 2025-02-17 15:30:00,833] Trial 3 finished with value: 0.7395137250423431 and parameters: {'iterations': 2665, 'depth': 5, 'learning_rate': 0.02227337188467456, 'l2_leaf_reg': 0.0012601639723276807}. Best is trial 3 with value: 0.7395137250423431.\n"
     ]
    },
    {
     "name": "stdout",
     "output_type": "stream",
     "text": [
      "저장 완료\n"
     ]
    },
    {
     "name": "stderr",
     "output_type": "stream",
     "text": [
      "Default metric period is 5 because AUC is/are not implemented for GPU\n"
     ]
    },
    {
     "name": "stdout",
     "output_type": "stream",
     "text": [
      "0:\ttest: 0.7200207\tbest: 0.7200207 (0)\ttotal: 21.8ms\tremaining: 35.1s\n",
      "300:\ttest: 0.7393747\tbest: 0.7393747 (300)\ttotal: 6.54s\tremaining: 28.4s\n",
      "600:\ttest: 0.7397875\tbest: 0.7399336 (463)\ttotal: 13.1s\tremaining: 22s\n",
      "900:\ttest: 0.7394262\tbest: 0.7399571 (635)\ttotal: 19.6s\tremaining: 15.3s\n",
      "bestTest = 0.7399570942\n",
      "bestIteration = 635\n",
      "Shrink model to first 636 iterations.\n"
     ]
    },
    {
     "name": "stderr",
     "output_type": "stream",
     "text": [
      "[I 2025-02-17 15:30:22,669] Trial 4 finished with value: 0.7399570941925049 and parameters: {'iterations': 1608, 'depth': 7, 'learning_rate': 0.046034776771001, 'l2_leaf_reg': 0.005589524205217926}. Best is trial 4 with value: 0.7399570941925049.\n"
     ]
    },
    {
     "name": "stdout",
     "output_type": "stream",
     "text": [
      "저장 완료\n"
     ]
    },
    {
     "name": "stderr",
     "output_type": "stream",
     "text": [
      "Default metric period is 5 because AUC is/are not implemented for GPU\n"
     ]
    },
    {
     "name": "stdout",
     "output_type": "stream",
     "text": [
      "0:\ttest: 0.6947436\tbest: 0.6947436 (0)\ttotal: 11.1ms\tremaining: 24.8s\n",
      "300:\ttest: 0.7362868\tbest: 0.7362868 (300)\ttotal: 3.18s\tremaining: 20.3s\n",
      "600:\ttest: 0.7382713\tbest: 0.7382782 (597)\ttotal: 6.29s\tremaining: 17s\n",
      "900:\ttest: 0.7387511\tbest: 0.7387526 (895)\ttotal: 9.46s\tremaining: 13.9s\n",
      "1200:\ttest: 0.7390494\tbest: 0.7390661 (1138)\ttotal: 12.6s\tremaining: 10.8s\n",
      "1500:\ttest: 0.7391928\tbest: 0.7392182 (1385)\ttotal: 15.8s\tremaining: 7.62s\n",
      "1800:\ttest: 0.7393094\tbest: 0.7393681 (1715)\ttotal: 19s\tremaining: 4.46s\n",
      "2100:\ttest: 0.7393467\tbest: 0.7393703 (2003)\ttotal: 22.2s\tremaining: 1.3s\n",
      "2223:\ttest: 0.7393852\tbest: 0.7393921 (2208)\ttotal: 23.5s\tremaining: 0us\n",
      "bestTest = 0.7393921018\n",
      "bestIteration = 2208\n",
      "Shrink model to first 2209 iterations.\n"
     ]
    },
    {
     "name": "stderr",
     "output_type": "stream",
     "text": [
      "[I 2025-02-17 15:30:47,684] Trial 5 finished with value: 0.739392101764679 and parameters: {'iterations': 2224, 'depth': 4, 'learning_rate': 0.032753741610845724, 'l2_leaf_reg': 0.01578232781079559}. Best is trial 4 with value: 0.7399570941925049.\n",
      "Default metric period is 5 because AUC is/are not implemented for GPU\n"
     ]
    },
    {
     "name": "stdout",
     "output_type": "stream",
     "text": [
      "0:\ttest: 0.7247363\tbest: 0.7247363 (0)\ttotal: 43.4ms\tremaining: 1m 23s\n",
      "300:\ttest: 0.7384561\tbest: 0.7384561 (300)\ttotal: 13.1s\tremaining: 1m 9s\n",
      "600:\ttest: 0.7387648\tbest: 0.7389735 (441)\ttotal: 26.1s\tremaining: 56.9s\n",
      "bestTest = 0.7389734685\n",
      "bestIteration = 441\n",
      "Shrink model to first 442 iterations.\n"
     ]
    },
    {
     "name": "stderr",
     "output_type": "stream",
     "text": [
      "[I 2025-02-17 15:31:21,411] Trial 6 finished with value: 0.738973468542099 and parameters: {'iterations': 1912, 'depth': 9, 'learning_rate': 0.023969009305044177, 'l2_leaf_reg': 0.12173252504194051}. Best is trial 4 with value: 0.7399570941925049.\n",
      "Default metric period is 5 because AUC is/are not implemented for GPU\n"
     ]
    },
    {
     "name": "stdout",
     "output_type": "stream",
     "text": [
      "0:\ttest: 0.6947436\tbest: 0.6947436 (0)\ttotal: 11ms\tremaining: 24.1s\n",
      "300:\ttest: 0.7380611\tbest: 0.7380630 (299)\ttotal: 3.28s\tremaining: 20.6s\n",
      "600:\ttest: 0.7387807\tbest: 0.7388327 (588)\ttotal: 6.64s\tremaining: 17.5s\n",
      "900:\ttest: 0.7390013\tbest: 0.7390056 (892)\ttotal: 9.86s\tremaining: 14s\n",
      "1200:\ttest: 0.7391197\tbest: 0.7391464 (1165)\ttotal: 13.2s\tremaining: 10.8s\n",
      "1500:\ttest: 0.7390300\tbest: 0.7391629 (1471)\ttotal: 16.4s\tremaining: 7.49s\n",
      "bestTest = 0.7391628921\n",
      "bestIteration = 1471\n",
      "Shrink model to first 1472 iterations.\n"
     ]
    },
    {
     "name": "stderr",
     "output_type": "stream",
     "text": [
      "[I 2025-02-17 15:31:42,289] Trial 7 finished with value: 0.7391628921031952 and parameters: {'iterations': 2185, 'depth': 4, 'learning_rate': 0.06271676093063665, 'l2_leaf_reg': 0.0010547383621352044}. Best is trial 4 with value: 0.7399570941925049.\n",
      "Default metric period is 5 because AUC is/are not implemented for GPU\n"
     ]
    },
    {
     "name": "stdout",
     "output_type": "stream",
     "text": [
      "0:\ttest: 0.7259490\tbest: 0.7259490 (0)\ttotal: 64.6ms\tremaining: 1m 12s\n",
      "300:\ttest: 0.7353113\tbest: 0.7384405 (100)\ttotal: 19.9s\tremaining: 54.8s\n",
      "bestTest = 0.7384405136\n",
      "bestIteration = 100\n",
      "Shrink model to first 101 iterations.\n"
     ]
    },
    {
     "name": "stderr",
     "output_type": "stream",
     "text": [
      "[I 2025-02-17 15:32:10,451] Trial 8 finished with value: 0.7384405136108398 and parameters: {'iterations': 1130, 'depth': 10, 'learning_rate': 0.09673504314208314, 'l2_leaf_reg': 7.085721663941605}. Best is trial 4 with value: 0.7399570941925049.\n",
      "Default metric period is 5 because AUC is/are not implemented for GPU\n"
     ]
    },
    {
     "name": "stdout",
     "output_type": "stream",
     "text": [
      "0:\ttest: 0.6947436\tbest: 0.6947436 (0)\ttotal: 12.9ms\tremaining: 20.7s\n",
      "300:\ttest: 0.7379357\tbest: 0.7379384 (299)\ttotal: 3.36s\tremaining: 14.6s\n",
      "600:\ttest: 0.7386318\tbest: 0.7386688 (593)\ttotal: 6.61s\tremaining: 11.1s\n",
      "900:\ttest: 0.7388859\tbest: 0.7388905 (897)\ttotal: 9.82s\tremaining: 7.72s\n",
      "1200:\ttest: 0.7388974\tbest: 0.7389873 (1038)\ttotal: 13s\tremaining: 4.43s\n",
      "bestTest = 0.7389873266\n",
      "bestIteration = 1038\n",
      "Shrink model to first 1039 iterations.\n"
     ]
    },
    {
     "name": "stderr",
     "output_type": "stream",
     "text": [
      "[I 2025-02-17 15:32:26,504] Trial 9 finished with value: 0.7389873266220093 and parameters: {'iterations': 1609, 'depth': 4, 'learning_rate': 0.07000213751865492, 'l2_leaf_reg': 0.04374364439939081}. Best is trial 4 with value: 0.7399570941925049.\n",
      "Default metric period is 5 because AUC is/are not implemented for GPU\n"
     ]
    },
    {
     "name": "stdout",
     "output_type": "stream",
     "text": [
      "0:\ttest: 0.7200207\tbest: 0.7200207 (0)\ttotal: 22.3ms\tremaining: 1m 4s\n",
      "300:\ttest: 0.7390844\tbest: 0.7391356 (298)\ttotal: 6.47s\tremaining: 55.7s\n",
      "600:\ttest: 0.7394550\tbest: 0.7394550 (600)\ttotal: 13.1s\tremaining: 49.8s\n",
      "900:\ttest: 0.7386503\tbest: 0.7394550 (600)\ttotal: 19.6s\tremaining: 43.3s\n",
      "bestTest = 0.7394550443\n",
      "bestIteration = 600\n",
      "Shrink model to first 601 iterations.\n"
     ]
    },
    {
     "name": "stderr",
     "output_type": "stream",
     "text": [
      "[I 2025-02-17 15:32:47,665] Trial 10 finished with value: 0.7394550442695618 and parameters: {'iterations': 2891, 'depth': 7, 'learning_rate': 0.04584783385796229, 'l2_leaf_reg': 0.000128165534691859}. Best is trial 4 with value: 0.7399570941925049.\n",
      "Default metric period is 5 because AUC is/are not implemented for GPU\n"
     ]
    },
    {
     "name": "stdout",
     "output_type": "stream",
     "text": [
      "0:\ttest: 0.7171634\tbest: 0.7171634 (0)\ttotal: 20.4ms\tremaining: 56.1s\n",
      "300:\ttest: 0.7384653\tbest: 0.7384840 (293)\ttotal: 5.19s\tremaining: 42.2s\n",
      "600:\ttest: 0.7391659\tbest: 0.7392687 (582)\ttotal: 10.2s\tremaining: 36.6s\n",
      "bestTest = 0.7392686605\n",
      "bestIteration = 582\n",
      "Shrink model to first 583 iterations.\n"
     ]
    },
    {
     "name": "stderr",
     "output_type": "stream",
     "text": [
      "[I 2025-02-17 15:33:04,301] Trial 11 finished with value: 0.7392686605453491 and parameters: {'iterations': 2752, 'depth': 6, 'learning_rate': 0.04069340053417332, 'l2_leaf_reg': 0.0017578879572528634}. Best is trial 4 with value: 0.7399570941925049.\n",
      "Default metric period is 5 because AUC is/are not implemented for GPU\n"
     ]
    },
    {
     "name": "stdout",
     "output_type": "stream",
     "text": [
      "0:\ttest: 0.7171634\tbest: 0.7171634 (0)\ttotal: 19.4ms\tremaining: 49.7s\n",
      "300:\ttest: 0.7373158\tbest: 0.7373158 (300)\ttotal: 5.25s\tremaining: 39.5s\n",
      "600:\ttest: 0.7387230\tbest: 0.7387275 (597)\ttotal: 10.3s\tremaining: 33.8s\n",
      "900:\ttest: 0.7392804\tbest: 0.7392903 (870)\ttotal: 15.3s\tremaining: 28.3s\n",
      "1200:\ttest: 0.7394271\tbest: 0.7394719 (1046)\ttotal: 20.3s\tremaining: 23.1s\n",
      "1500:\ttest: 0.7393024\tbest: 0.7395337 (1320)\ttotal: 25.3s\tremaining: 18s\n",
      "bestTest = 0.7395337224\n",
      "bestIteration = 1320\n",
      "Shrink model to first 1321 iterations.\n"
     ]
    },
    {
     "name": "stderr",
     "output_type": "stream",
     "text": [
      "[I 2025-02-17 15:33:33,123] Trial 12 finished with value: 0.7395337224006653 and parameters: {'iterations': 2568, 'depth': 6, 'learning_rate': 0.023782954997258212, 'l2_leaf_reg': 0.0038317147749786563}. Best is trial 4 with value: 0.7399570941925049.\n",
      "Default metric period is 5 because AUC is/are not implemented for GPU\n"
     ]
    },
    {
     "name": "stdout",
     "output_type": "stream",
     "text": [
      "0:\ttest: 0.7200207\tbest: 0.7200207 (0)\ttotal: 22.9ms\tremaining: 55.2s\n",
      "300:\ttest: 0.7389205\tbest: 0.7391282 (254)\ttotal: 6.6s\tremaining: 46.3s\n",
      "bestTest = 0.739128232\n",
      "bestIteration = 254\n",
      "Shrink model to first 255 iterations.\n"
     ]
    },
    {
     "name": "stderr",
     "output_type": "stream",
     "text": [
      "[I 2025-02-17 15:33:46,644] Trial 13 finished with value: 0.7391282320022583 and parameters: {'iterations': 2413, 'depth': 7, 'learning_rate': 0.052406287975782825, 'l2_leaf_reg': 0.008123019592628788}. Best is trial 4 with value: 0.7399570941925049.\n",
      "Default metric period is 5 because AUC is/are not implemented for GPU\n"
     ]
    },
    {
     "name": "stdout",
     "output_type": "stream",
     "text": [
      "0:\ttest: 0.7171634\tbest: 0.7171634 (0)\ttotal: 17.6ms\tremaining: 28.6s\n",
      "300:\ttest: 0.7380900\tbest: 0.7380900 (300)\ttotal: 5.05s\tremaining: 22.2s\n",
      "600:\ttest: 0.7394182\tbest: 0.7394987 (582)\ttotal: 10.1s\tremaining: 17.2s\n",
      "900:\ttest: 0.7395511\tbest: 0.7395888 (783)\ttotal: 15.2s\tremaining: 12.2s\n",
      "1200:\ttest: 0.7392805\tbest: 0.7395990 (948)\ttotal: 20.3s\tremaining: 7.13s\n",
      "bestTest = 0.7395990491\n",
      "bestIteration = 948\n",
      "Shrink model to first 949 iterations.\n"
     ]
    },
    {
     "name": "stderr",
     "output_type": "stream",
     "text": [
      "[I 2025-02-17 15:34:09,361] Trial 14 finished with value: 0.7395990490913391 and parameters: {'iterations': 1622, 'depth': 6, 'learning_rate': 0.030364151929810096, 'l2_leaf_reg': 0.00011488664586377342}. Best is trial 4 with value: 0.7399570941925049.\n",
      "Default metric period is 5 because AUC is/are not implemented for GPU\n"
     ]
    },
    {
     "name": "stdout",
     "output_type": "stream",
     "text": [
      "0:\ttest: 0.7227408\tbest: 0.7227408 (0)\ttotal: 38.6ms\tremaining: 55.1s\n",
      "300:\ttest: 0.7368260\tbest: 0.7380998 (159)\ttotal: 8.72s\tremaining: 32.7s\n",
      "bestTest = 0.7380997539\n",
      "bestIteration = 159\n",
      "Shrink model to first 160 iterations.\n"
     ]
    },
    {
     "name": "stderr",
     "output_type": "stream",
     "text": [
      "[I 2025-02-17 15:34:24,246] Trial 15 finished with value: 0.7380997538566589 and parameters: {'iterations': 1428, 'depth': 8, 'learning_rate': 0.0601227752016405, 'l2_leaf_reg': 0.0002585616045284539}. Best is trial 4 with value: 0.7399570941925049.\n",
      "Default metric period is 5 because AUC is/are not implemented for GPU\n"
     ]
    },
    {
     "name": "stdout",
     "output_type": "stream",
     "text": [
      "0:\ttest: 0.7171632\tbest: 0.7171632 (0)\ttotal: 17.4ms\tremaining: 29.4s\n",
      "300:\ttest: 0.7379441\tbest: 0.7379441 (300)\ttotal: 5.24s\tremaining: 24.3s\n",
      "600:\ttest: 0.7390822\tbest: 0.7391189 (592)\ttotal: 10.2s\tremaining: 18.6s\n",
      "900:\ttest: 0.7393552\tbest: 0.7393552 (900)\ttotal: 15.4s\tremaining: 13.6s\n",
      "1200:\ttest: 0.7392905\tbest: 0.7394730 (1040)\ttotal: 20.5s\tremaining: 8.41s\n",
      "bestTest = 0.7394729853\n",
      "bestIteration = 1040\n",
      "Shrink model to first 1041 iterations.\n"
     ]
    },
    {
     "name": "stderr",
     "output_type": "stream",
     "text": [
      "[I 2025-02-17 15:34:48,585] Trial 16 finished with value: 0.7394729852676392 and parameters: {'iterations': 1695, 'depth': 6, 'learning_rate': 0.03694705348047124, 'l2_leaf_reg': 0.7392089492536406}. Best is trial 4 with value: 0.7399570941925049.\n",
      "Default metric period is 5 because AUC is/are not implemented for GPU\n"
     ]
    },
    {
     "name": "stdout",
     "output_type": "stream",
     "text": [
      "0:\ttest: 0.7227408\tbest: 0.7227408 (0)\ttotal: 32.7ms\tremaining: 46.1s\n",
      "300:\ttest: 0.7351949\tbest: 0.7382712 (136)\ttotal: 8.87s\tremaining: 32.7s\n",
      "bestTest = 0.7382712066\n",
      "bestIteration = 136\n",
      "Shrink model to first 137 iterations.\n"
     ]
    },
    {
     "name": "stderr",
     "output_type": "stream",
     "text": [
      "[I 2025-02-17 15:35:02,908] Trial 17 finished with value: 0.7382712066173553 and parameters: {'iterations': 1411, 'depth': 8, 'learning_rate': 0.087054491373927, 'l2_leaf_reg': 0.000367837975936652}. Best is trial 4 with value: 0.7399570941925049.\n",
      "Default metric period is 5 because AUC is/are not implemented for GPU\n"
     ]
    },
    {
     "name": "stdout",
     "output_type": "stream",
     "text": [
      "0:\ttest: 0.7200207\tbest: 0.7200207 (0)\ttotal: 24ms\tremaining: 25.2s\n",
      "300:\ttest: 0.7388052\tbest: 0.7388102 (299)\ttotal: 6.55s\tremaining: 16.3s\n",
      "600:\ttest: 0.7389354\tbest: 0.7390280 (565)\ttotal: 13s\tremaining: 9.73s\n",
      "bestTest = 0.739027977\n",
      "bestIteration = 565\n",
      "Shrink model to first 566 iterations.\n"
     ]
    },
    {
     "name": "stderr",
     "output_type": "stream",
     "text": [
      "[I 2025-02-17 15:35:23,165] Trial 18 finished with value: 0.7390279769897461 and parameters: {'iterations': 1051, 'depth': 7, 'learning_rate': 0.05222311239303098, 'l2_leaf_reg': 0.031911628026870635}. Best is trial 4 with value: 0.7399570941925049.\n",
      "Default metric period is 5 because AUC is/are not implemented for GPU\n"
     ]
    },
    {
     "name": "stdout",
     "output_type": "stream",
     "text": [
      "0:\ttest: 0.7092182\tbest: 0.7092182 (0)\ttotal: 14ms\tremaining: 28.5s\n",
      "300:\ttest: 0.7368351\tbest: 0.7368351 (300)\ttotal: 4s\tremaining: 23.2s\n",
      "600:\ttest: 0.7383039\tbest: 0.7383340 (594)\ttotal: 7.99s\tremaining: 19.1s\n",
      "900:\ttest: 0.7390480\tbest: 0.7390480 (900)\ttotal: 12s\tremaining: 15.2s\n",
      "1200:\ttest: 0.7390398\tbest: 0.7391058 (947)\ttotal: 16s\tremaining: 11.2s\n",
      "bestTest = 0.7391057611\n",
      "bestIteration = 947\n",
      "Shrink model to first 948 iterations.\n"
     ]
    },
    {
     "name": "stderr",
     "output_type": "stream",
     "text": [
      "[I 2025-02-17 15:35:41,292] Trial 19 finished with value: 0.739105761051178 and parameters: {'iterations': 2042, 'depth': 5, 'learning_rate': 0.02957124224373413, 'l2_leaf_reg': 0.0001026536056157824}. Best is trial 4 with value: 0.7399570941925049.\n"
     ]
    },
    {
     "name": "stdout",
     "output_type": "stream",
     "text": [
      "Cat val score : 0.739957061441199\n",
      "LGBM val score : 0.7394204902929044\n",
      "Ensemble val score : 0.7403343565831533\n"
     ]
    },
    {
     "name": "stderr",
     "output_type": "stream",
     "text": [
      "[I 2025-02-17 15:35:52,581] A new study created in memory with name: no-name-eaca5f7d-23c9-4c9e-94a3-73db4e32a58f\n"
     ]
    },
    {
     "name": "stdout",
     "output_type": "stream",
     "text": [
      "==================================================\n"
     ]
    },
    {
     "name": "stderr",
     "output_type": "stream",
     "text": [
      "Default metric period is 5 because AUC is/are not implemented for GPU\n"
     ]
    },
    {
     "name": "stdout",
     "output_type": "stream",
     "text": [
      "0:\ttest: 0.7339236\tbest: 0.7339236 (0)\ttotal: 73.1ms\tremaining: 2m 7s\n",
      "300:\ttest: 0.7417336\tbest: 0.7443335 (152)\ttotal: 20.2s\tremaining: 1m 37s\n",
      "bestTest = 0.7443335354\n",
      "bestIteration = 152\n",
      "Shrink model to first 153 iterations.\n"
     ]
    },
    {
     "name": "stderr",
     "output_type": "stream",
     "text": [
      "[I 2025-02-17 15:36:24,185] Trial 0 finished with value: 0.7443335354328156 and parameters: {'iterations': 1749, 'depth': 10, 'learning_rate': 0.07453942447208349, 'l2_leaf_reg': 0.39079671568228835}. Best is trial 0 with value: 0.7443335354328156.\n"
     ]
    },
    {
     "name": "stdout",
     "output_type": "stream",
     "text": [
      "저장 완료\n"
     ]
    },
    {
     "name": "stderr",
     "output_type": "stream",
     "text": [
      "Default metric period is 5 because AUC is/are not implemented for GPU\n"
     ]
    },
    {
     "name": "stdout",
     "output_type": "stream",
     "text": [
      "0:\ttest: 0.7208990\tbest: 0.7208990 (0)\ttotal: 14.3ms\tremaining: 18.8s\n",
      "300:\ttest: 0.7405053\tbest: 0.7405053 (300)\ttotal: 4.07s\tremaining: 13.7s\n",
      "600:\ttest: 0.7442684\tbest: 0.7442684 (600)\ttotal: 8.16s\tremaining: 9.66s\n",
      "900:\ttest: 0.7456217\tbest: 0.7456217 (900)\ttotal: 12.2s\tremaining: 5.58s\n",
      "1200:\ttest: 0.7462843\tbest: 0.7462843 (1200)\ttotal: 16.3s\tremaining: 1.5s\n",
      "1311:\ttest: 0.7464982\tbest: 0.7464986 (1310)\ttotal: 17.7s\tremaining: 0us\n",
      "bestTest = 0.7464986145\n",
      "bestIteration = 1310\n",
      "Shrink model to first 1311 iterations.\n"
     ]
    },
    {
     "name": "stderr",
     "output_type": "stream",
     "text": [
      "[I 2025-02-17 15:36:43,460] Trial 1 finished with value: 0.7464986145496368 and parameters: {'iterations': 1312, 'depth': 5, 'learning_rate': 0.010517943155978949, 'l2_leaf_reg': 15.741890047456648}. Best is trial 1 with value: 0.7464986145496368.\n"
     ]
    },
    {
     "name": "stdout",
     "output_type": "stream",
     "text": [
      "저장 완료\n"
     ]
    },
    {
     "name": "stderr",
     "output_type": "stream",
     "text": [
      "Default metric period is 5 because AUC is/are not implemented for GPU\n"
     ]
    },
    {
     "name": "stdout",
     "output_type": "stream",
     "text": [
      "0:\ttest: 0.7328834\tbest: 0.7328834 (0)\ttotal: 31.6ms\tremaining: 1m 9s\n",
      "300:\ttest: 0.7415838\tbest: 0.7415838 (300)\ttotal: 8.79s\tremaining: 55.5s\n",
      "600:\ttest: 0.7447910\tbest: 0.7447910 (600)\ttotal: 17.6s\tremaining: 46.9s\n",
      "900:\ttest: 0.7459925\tbest: 0.7459925 (900)\ttotal: 26.5s\tremaining: 38.2s\n",
      "1200:\ttest: 0.7465872\tbest: 0.7465887 (1199)\ttotal: 35.3s\tremaining: 29.4s\n",
      "1500:\ttest: 0.7469533\tbest: 0.7469552 (1498)\ttotal: 44.1s\tremaining: 20.6s\n",
      "1800:\ttest: 0.7471914\tbest: 0.7471918 (1798)\ttotal: 52.9s\tremaining: 11.8s\n",
      "2100:\ttest: 0.7473066\tbest: 0.7473149 (2070)\ttotal: 1m 1s\tremaining: 2.97s\n",
      "2201:\ttest: 0.7473344\tbest: 0.7473361 (2198)\ttotal: 1m 4s\tremaining: 0us\n",
      "bestTest = 0.7473361492\n",
      "bestIteration = 2198\n",
      "Shrink model to first 2199 iterations.\n"
     ]
    },
    {
     "name": "stderr",
     "output_type": "stream",
     "text": [
      "[I 2025-02-17 15:37:49,873] Trial 2 finished with value: 0.7473361492156982 and parameters: {'iterations': 2202, 'depth': 8, 'learning_rate': 0.006955526958101232, 'l2_leaf_reg': 65.98711072054076}. Best is trial 2 with value: 0.7473361492156982.\n"
     ]
    },
    {
     "name": "stdout",
     "output_type": "stream",
     "text": [
      "저장 완료\n"
     ]
    },
    {
     "name": "stderr",
     "output_type": "stream",
     "text": [
      "Default metric period is 5 because AUC is/are not implemented for GPU\n"
     ]
    },
    {
     "name": "stdout",
     "output_type": "stream",
     "text": [
      "0:\ttest: 0.7208853\tbest: 0.7208853 (0)\ttotal: 14ms\tremaining: 37.3s\n",
      "300:\ttest: 0.7443834\tbest: 0.7443834 (300)\ttotal: 4.12s\tremaining: 32.3s\n",
      "600:\ttest: 0.7460915\tbest: 0.7461108 (596)\ttotal: 8.29s\tremaining: 28.5s\n",
      "900:\ttest: 0.7467550\tbest: 0.7467550 (900)\ttotal: 12.2s\tremaining: 24s\n",
      "1200:\ttest: 0.7469161\tbest: 0.7469273 (1175)\ttotal: 16.3s\tremaining: 19.9s\n",
      "bestTest = 0.746927321\n",
      "bestIteration = 1175\n",
      "Shrink model to first 1176 iterations.\n"
     ]
    },
    {
     "name": "stderr",
     "output_type": "stream",
     "text": [
      "[I 2025-02-17 15:38:11,385] Trial 3 finished with value: 0.7469273209571838 and parameters: {'iterations': 2665, 'depth': 5, 'learning_rate': 0.02227337188467456, 'l2_leaf_reg': 0.0012601639723276807}. Best is trial 2 with value: 0.7473361492156982.\n",
      "Default metric period is 5 because AUC is/are not implemented for GPU\n"
     ]
    },
    {
     "name": "stdout",
     "output_type": "stream",
     "text": [
      "0:\ttest: 0.7319939\tbest: 0.7319939 (0)\ttotal: 23.4ms\tremaining: 37.5s\n",
      "300:\ttest: 0.7458405\tbest: 0.7458405 (300)\ttotal: 6.67s\tremaining: 29s\n",
      "600:\ttest: 0.7455875\tbest: 0.7460752 (385)\ttotal: 13.2s\tremaining: 22.2s\n",
      "bestTest = 0.746075213\n",
      "bestIteration = 385\n",
      "Shrink model to first 386 iterations.\n"
     ]
    },
    {
     "name": "stderr",
     "output_type": "stream",
     "text": [
      "[I 2025-02-17 15:38:28,078] Trial 4 finished with value: 0.7460752129554749 and parameters: {'iterations': 1608, 'depth': 7, 'learning_rate': 0.046034776771001, 'l2_leaf_reg': 0.005589524205217926}. Best is trial 2 with value: 0.7473361492156982.\n",
      "Default metric period is 5 because AUC is/are not implemented for GPU\n"
     ]
    },
    {
     "name": "stdout",
     "output_type": "stream",
     "text": [
      "0:\ttest: 0.7046825\tbest: 0.7046825 (0)\ttotal: 11.3ms\tremaining: 25.2s\n",
      "300:\ttest: 0.7447507\tbest: 0.7447507 (300)\ttotal: 3.25s\tremaining: 20.8s\n",
      "600:\ttest: 0.7464506\tbest: 0.7464506 (600)\ttotal: 6.45s\tremaining: 17.4s\n",
      "900:\ttest: 0.7469792\tbest: 0.7469792 (900)\ttotal: 9.81s\tremaining: 14.4s\n",
      "1200:\ttest: 0.7470420\tbest: 0.7470755 (1074)\ttotal: 13s\tremaining: 11.1s\n",
      "1500:\ttest: 0.7472235\tbest: 0.7472311 (1496)\ttotal: 16.3s\tremaining: 7.85s\n",
      "1800:\ttest: 0.7472910\tbest: 0.7472910 (1800)\ttotal: 19.6s\tremaining: 4.59s\n",
      "2100:\ttest: 0.7472188\tbest: 0.7473421 (2002)\ttotal: 22.8s\tremaining: 1.34s\n",
      "2223:\ttest: 0.7471766\tbest: 0.7473421 (2002)\ttotal: 24.2s\tremaining: 0us\n",
      "bestTest = 0.7473421097\n",
      "bestIteration = 2002\n",
      "Shrink model to first 2003 iterations.\n"
     ]
    },
    {
     "name": "stderr",
     "output_type": "stream",
     "text": [
      "[I 2025-02-17 15:38:53,840] Trial 5 finished with value: 0.7473421096801758 and parameters: {'iterations': 2224, 'depth': 4, 'learning_rate': 0.032753741610845724, 'l2_leaf_reg': 0.01578232781079559}. Best is trial 5 with value: 0.7473421096801758.\n"
     ]
    },
    {
     "name": "stdout",
     "output_type": "stream",
     "text": [
      "저장 완료\n"
     ]
    },
    {
     "name": "stderr",
     "output_type": "stream",
     "text": [
      "Default metric period is 5 because AUC is/are not implemented for GPU\n"
     ]
    },
    {
     "name": "stdout",
     "output_type": "stream",
     "text": [
      "0:\ttest: 0.7342460\tbest: 0.7342460 (0)\ttotal: 43ms\tremaining: 1m 22s\n",
      "300:\ttest: 0.7457411\tbest: 0.7457551 (298)\ttotal: 13.1s\tremaining: 1m 10s\n",
      "600:\ttest: 0.7462414\tbest: 0.7463105 (597)\ttotal: 26.2s\tremaining: 57.1s\n",
      "bestTest = 0.7463104725\n",
      "bestIteration = 597\n",
      "Shrink model to first 598 iterations.\n"
     ]
    },
    {
     "name": "stderr",
     "output_type": "stream",
     "text": [
      "[I 2025-02-17 15:39:34,373] Trial 6 finished with value: 0.7463104724884033 and parameters: {'iterations': 1912, 'depth': 9, 'learning_rate': 0.023969009305044177, 'l2_leaf_reg': 0.12173252504194051}. Best is trial 5 with value: 0.7473421096801758.\n",
      "Default metric period is 5 because AUC is/are not implemented for GPU\n"
     ]
    },
    {
     "name": "stdout",
     "output_type": "stream",
     "text": [
      "0:\ttest: 0.7046825\tbest: 0.7046825 (0)\ttotal: 11.2ms\tremaining: 24.4s\n",
      "300:\ttest: 0.7462349\tbest: 0.7462349 (300)\ttotal: 3.34s\tremaining: 20.9s\n",
      "600:\ttest: 0.7468553\tbest: 0.7468637 (596)\ttotal: 6.64s\tremaining: 17.5s\n",
      "900:\ttest: 0.7468204\tbest: 0.7469470 (709)\ttotal: 9.91s\tremaining: 14.1s\n",
      "bestTest = 0.7469470203\n",
      "bestIteration = 709\n",
      "Shrink model to first 710 iterations.\n"
     ]
    },
    {
     "name": "stderr",
     "output_type": "stream",
     "text": [
      "[I 2025-02-17 15:39:46,934] Trial 7 finished with value: 0.7469470202922821 and parameters: {'iterations': 2185, 'depth': 4, 'learning_rate': 0.06271676093063665, 'l2_leaf_reg': 0.0010547383621352044}. Best is trial 5 with value: 0.7473421096801758.\n",
      "Default metric period is 5 because AUC is/are not implemented for GPU\n"
     ]
    },
    {
     "name": "stdout",
     "output_type": "stream",
     "text": [
      "0:\ttest: 0.7339168\tbest: 0.7339168 (0)\ttotal: 65.8ms\tremaining: 1m 14s\n",
      "300:\ttest: 0.7426082\tbest: 0.7452220 (99)\ttotal: 20.1s\tremaining: 55.4s\n",
      "bestTest = 0.7452220321\n",
      "bestIteration = 99\n",
      "Shrink model to first 100 iterations.\n"
     ]
    },
    {
     "name": "stderr",
     "output_type": "stream",
     "text": [
      "[I 2025-02-17 15:40:15,162] Trial 8 finished with value: 0.7452220320701599 and parameters: {'iterations': 1130, 'depth': 10, 'learning_rate': 0.09673504314208314, 'l2_leaf_reg': 7.085721663941605}. Best is trial 5 with value: 0.7473421096801758.\n",
      "Default metric period is 5 because AUC is/are not implemented for GPU\n"
     ]
    },
    {
     "name": "stdout",
     "output_type": "stream",
     "text": [
      "0:\ttest: 0.7046825\tbest: 0.7046825 (0)\ttotal: 10.9ms\tremaining: 17.5s\n",
      "300:\ttest: 0.7464722\tbest: 0.7464746 (298)\ttotal: 3.22s\tremaining: 14s\n",
      "600:\ttest: 0.7469518\tbest: 0.7470343 (513)\ttotal: 6.52s\tremaining: 10.9s\n",
      "bestTest = 0.7470343411\n",
      "bestIteration = 513\n",
      "Shrink model to first 514 iterations.\n"
     ]
    },
    {
     "name": "stderr",
     "output_type": "stream",
     "text": [
      "[I 2025-02-17 15:40:25,476] Trial 9 finished with value: 0.747034341096878 and parameters: {'iterations': 1609, 'depth': 4, 'learning_rate': 0.07000213751865492, 'l2_leaf_reg': 0.04374364439939081}. Best is trial 5 with value: 0.7473421096801758.\n",
      "Default metric period is 5 because AUC is/are not implemented for GPU\n"
     ]
    },
    {
     "name": "stdout",
     "output_type": "stream",
     "text": [
      "0:\ttest: 0.7269539\tbest: 0.7269539 (0)\ttotal: 17.8ms\tremaining: 51.8s\n",
      "300:\ttest: 0.7461764\tbest: 0.7461764 (300)\ttotal: 5.18s\tremaining: 44.9s\n",
      "600:\ttest: 0.7462643\tbest: 0.7463791 (527)\ttotal: 10.3s\tremaining: 39.5s\n",
      "bestTest = 0.7463790774\n",
      "bestIteration = 527\n",
      "Shrink model to first 528 iterations.\n"
     ]
    },
    {
     "name": "stderr",
     "output_type": "stream",
     "text": [
      "[I 2025-02-17 15:40:41,040] Trial 10 finished with value: 0.7463790774345398 and parameters: {'iterations': 2912, 'depth': 6, 'learning_rate': 0.04039108028802378, 'l2_leaf_reg': 0.000128165534691859}. Best is trial 5 with value: 0.7473421096801758.\n",
      "Default metric period is 5 because AUC is/are not implemented for GPU\n"
     ]
    },
    {
     "name": "stdout",
     "output_type": "stream",
     "text": [
      "0:\ttest: 0.7328848\tbest: 0.7328848 (0)\ttotal: 29.2ms\tremaining: 1m 8s\n",
      "300:\ttest: 0.7406879\tbest: 0.7406879 (300)\ttotal: 8.68s\tremaining: 58.5s\n",
      "600:\ttest: 0.7440463\tbest: 0.7440463 (600)\ttotal: 17.4s\tremaining: 49.9s\n",
      "900:\ttest: 0.7455390\tbest: 0.7455390 (900)\ttotal: 26.2s\tremaining: 41.6s\n",
      "1200:\ttest: 0.7462474\tbest: 0.7462501 (1199)\ttotal: 35.1s\tremaining: 33s\n",
      "1500:\ttest: 0.7466274\tbest: 0.7466280 (1498)\ttotal: 43.9s\tremaining: 24.2s\n",
      "1800:\ttest: 0.7469128\tbest: 0.7469128 (1800)\ttotal: 52.8s\tremaining: 15.4s\n",
      "2100:\ttest: 0.7471093\tbest: 0.7471114 (2093)\ttotal: 1m 1s\tremaining: 6.65s\n",
      "2327:\ttest: 0.7471924\tbest: 0.7471925 (2325)\ttotal: 1m 8s\tremaining: 0us\n",
      "bestTest = 0.7471925318\n",
      "bestIteration = 2325\n",
      "Shrink model to first 2326 iterations.\n"
     ]
    },
    {
     "name": "stderr",
     "output_type": "stream",
     "text": [
      "[I 2025-02-17 15:41:50,936] Trial 11 finished with value: 0.7471925318241119 and parameters: {'iterations': 2328, 'depth': 8, 'learning_rate': 0.005870495975123518, 'l2_leaf_reg': 72.625156020769}. Best is trial 5 with value: 0.7473421096801758.\n",
      "Default metric period is 5 because AUC is/are not implemented for GPU\n"
     ]
    },
    {
     "name": "stdout",
     "output_type": "stream",
     "text": [
      "0:\ttest: 0.7319939\tbest: 0.7319939 (0)\ttotal: 22.7ms\tremaining: 54.4s\n",
      "300:\ttest: 0.7463316\tbest: 0.7463358 (299)\ttotal: 6.64s\tremaining: 46.2s\n",
      "600:\ttest: 0.7470713\tbest: 0.7471027 (582)\ttotal: 13.1s\tremaining: 39.2s\n",
      "bestTest = 0.7471027076\n",
      "bestIteration = 582\n",
      "Shrink model to first 583 iterations.\n"
     ]
    },
    {
     "name": "stderr",
     "output_type": "stream",
     "text": [
      "[I 2025-02-17 15:42:11,565] Trial 12 finished with value: 0.7471027076244354 and parameters: {'iterations': 2396, 'depth': 7, 'learning_rate': 0.031672290652771884, 'l2_leaf_reg': 1.4864820357964372}. Best is trial 5 with value: 0.7473421096801758.\n",
      "Default metric period is 5 because AUC is/are not implemented for GPU\n"
     ]
    },
    {
     "name": "stdout",
     "output_type": "stream",
     "text": [
      "0:\ttest: 0.7328840\tbest: 0.7328840 (0)\ttotal: 29.8ms\tremaining: 1m 17s\n",
      "300:\ttest: 0.7451327\tbest: 0.7451327 (300)\ttotal: 8.9s\tremaining: 1m 7s\n",
      "600:\ttest: 0.7461399\tbest: 0.7461399 (600)\ttotal: 17.7s\tremaining: 58.8s\n",
      "900:\ttest: 0.7461497\tbest: 0.7462658 (779)\ttotal: 26.4s\tremaining: 49.8s\n",
      "bestTest = 0.7462657988\n",
      "bestIteration = 779\n",
      "Shrink model to first 780 iterations.\n"
     ]
    },
    {
     "name": "stderr",
     "output_type": "stream",
     "text": [
      "[I 2025-02-17 15:42:44,724] Trial 13 finished with value: 0.7462657988071442 and parameters: {'iterations': 2597, 'depth': 8, 'learning_rate': 0.01722486982832179, 'l2_leaf_reg': 0.027476881608817696}. Best is trial 5 with value: 0.7473421096801758.\n",
      "Default metric period is 5 because AUC is/are not implemented for GPU\n"
     ]
    },
    {
     "name": "stdout",
     "output_type": "stream",
     "text": [
      "0:\ttest: 0.7328838\tbest: 0.7328838 (0)\ttotal: 29.6ms\tremaining: 1m 2s\n",
      "300:\ttest: 0.7465962\tbest: 0.7466048 (299)\ttotal: 8.89s\tremaining: 53.6s\n",
      "600:\ttest: 0.7463322\tbest: 0.7467991 (375)\ttotal: 17.7s\tremaining: 44.5s\n",
      "bestTest = 0.7467991412\n",
      "bestIteration = 375\n",
      "Shrink model to first 376 iterations.\n"
     ]
    },
    {
     "name": "stderr",
     "output_type": "stream",
     "text": [
      "[I 2025-02-17 15:43:06,045] Trial 14 finished with value: 0.7467991411685944 and parameters: {'iterations': 2114, 'depth': 8, 'learning_rate': 0.03398646658044312, 'l2_leaf_reg': 0.8821725806720432}. Best is trial 5 with value: 0.7473421096801758.\n",
      "Default metric period is 5 because AUC is/are not implemented for GPU\n"
     ]
    },
    {
     "name": "stdout",
     "output_type": "stream",
     "text": [
      "0:\ttest: 0.7269539\tbest: 0.7269539 (0)\ttotal: 17.8ms\tremaining: 33.8s\n",
      "300:\ttest: 0.7464947\tbest: 0.7465260 (297)\ttotal: 5.12s\tremaining: 27.2s\n",
      "600:\ttest: 0.7464996\tbest: 0.7468834 (391)\ttotal: 10.2s\tremaining: 22.1s\n"
     ]
    },
    {
     "name": "stderr",
     "output_type": "stream",
     "text": [
      "[I 2025-02-17 15:43:19,184] Trial 15 finished with value: 0.746883362531662 and parameters: {'iterations': 1904, 'depth': 6, 'learning_rate': 0.05528444691997589, 'l2_leaf_reg': 0.013194010639714482}. Best is trial 5 with value: 0.7473421096801758.\n"
     ]
    },
    {
     "name": "stdout",
     "output_type": "stream",
     "text": [
      "bestTest = 0.7468833625\n",
      "bestIteration = 391\n",
      "Shrink model to first 392 iterations.\n"
     ]
    },
    {
     "name": "stderr",
     "output_type": "stream",
     "text": [
      "Default metric period is 5 because AUC is/are not implemented for GPU\n"
     ]
    },
    {
     "name": "stdout",
     "output_type": "stream",
     "text": [
      "0:\ttest: 0.7341969\tbest: 0.7341969 (0)\ttotal: 43ms\tremaining: 1m 49s\n",
      "300:\ttest: 0.7417760\tbest: 0.7417760 (300)\ttotal: 12.9s\tremaining: 1m 36s\n",
      "600:\ttest: 0.7447023\tbest: 0.7447023 (600)\ttotal: 25.9s\tremaining: 1m 23s\n",
      "900:\ttest: 0.7459338\tbest: 0.7459348 (899)\ttotal: 38.7s\tremaining: 1m 10s\n",
      "1200:\ttest: 0.7464902\tbest: 0.7464902 (1200)\ttotal: 51.7s\tremaining: 57.8s\n",
      "1500:\ttest: 0.7468609\tbest: 0.7468609 (1500)\ttotal: 1m 4s\tremaining: 45s\n",
      "1800:\ttest: 0.7470329\tbest: 0.7470329 (1800)\ttotal: 1m 17s\tremaining: 32.1s\n",
      "2100:\ttest: 0.7471630\tbest: 0.7471646 (2096)\ttotal: 1m 30s\tremaining: 19.2s\n",
      "2400:\ttest: 0.7472238\tbest: 0.7472265 (2398)\ttotal: 1m 43s\tremaining: 6.19s\n",
      "2543:\ttest: 0.7472207\tbest: 0.7472340 (2479)\ttotal: 1m 50s\tremaining: 0us\n",
      "bestTest = 0.7472340167\n",
      "bestIteration = 2479\n",
      "Shrink model to first 2480 iterations.\n"
     ]
    },
    {
     "name": "stderr",
     "output_type": "stream",
     "text": [
      "[I 2025-02-17 15:45:11,176] Trial 16 finished with value: 0.7472340166568756 and parameters: {'iterations': 2544, 'depth': 9, 'learning_rate': 0.005944315033918464, 'l2_leaf_reg': 94.64533014403676}. Best is trial 5 with value: 0.7473421096801758.\n",
      "Default metric period is 5 because AUC is/are not implemented for GPU\n"
     ]
    },
    {
     "name": "stdout",
     "output_type": "stream",
     "text": [
      "0:\ttest: 0.7269539\tbest: 0.7269539 (0)\ttotal: 17.6ms\tremaining: 51.6s\n",
      "300:\ttest: 0.7458630\tbest: 0.7458646 (299)\ttotal: 5.11s\tremaining: 44.7s\n",
      "600:\ttest: 0.7466314\tbest: 0.7466745 (550)\ttotal: 10.1s\tremaining: 39.3s\n",
      "900:\ttest: 0.7466956\tbest: 0.7468456 (804)\ttotal: 15.2s\tremaining: 34.3s\n",
      "bestTest = 0.746845603\n",
      "bestIteration = 804\n",
      "Shrink model to first 805 iterations.\n"
     ]
    },
    {
     "name": "stderr",
     "output_type": "stream",
     "text": [
      "[I 2025-02-17 15:45:31,130] Trial 17 finished with value: 0.7468456029891968 and parameters: {'iterations': 2935, 'depth': 6, 'learning_rate': 0.029780281992136996, 'l2_leaf_reg': 0.13435004091492816}. Best is trial 5 with value: 0.7473421096801758.\n",
      "Default metric period is 5 because AUC is/are not implemented for GPU\n"
     ]
    },
    {
     "name": "stdout",
     "output_type": "stream",
     "text": [
      "0:\ttest: 0.7319821\tbest: 0.7319821 (0)\ttotal: 22.3ms\tremaining: 50s\n",
      "300:\ttest: 0.7449072\tbest: 0.7449072 (300)\ttotal: 6.63s\tremaining: 42.6s\n",
      "600:\ttest: 0.7466884\tbest: 0.7466884 (600)\ttotal: 13.3s\tremaining: 36.3s\n",
      "900:\ttest: 0.7471814\tbest: 0.7471814 (900)\ttotal: 20s\tremaining: 29.6s\n",
      "1200:\ttest: 0.7473938\tbest: 0.7474058 (1175)\ttotal: 26.4s\tremaining: 22.8s\n",
      "1500:\ttest: 0.7473759\tbest: 0.7474416 (1229)\ttotal: 33s\tremaining: 16.2s\n",
      "bestTest = 0.74744156\n",
      "bestIteration = 1229\n",
      "Shrink model to first 1230 iterations.\n"
     ]
    },
    {
     "name": "stderr",
     "output_type": "stream",
     "text": [
      "[I 2025-02-17 15:46:06,344] Trial 18 finished with value: 0.7474415600299835 and parameters: {'iterations': 2238, 'depth': 7, 'learning_rate': 0.015604656439686575, 'l2_leaf_reg': 4.0059252720606}. Best is trial 18 with value: 0.7474415600299835.\n"
     ]
    },
    {
     "name": "stdout",
     "output_type": "stream",
     "text": [
      "저장 완료\n"
     ]
    },
    {
     "name": "stderr",
     "output_type": "stream",
     "text": [
      "Default metric period is 5 because AUC is/are not implemented for GPU\n"
     ]
    },
    {
     "name": "stdout",
     "output_type": "stream",
     "text": [
      "0:\ttest: 0.7208853\tbest: 0.7208853 (0)\ttotal: 15.7ms\tremaining: 30.9s\n",
      "300:\ttest: 0.7466953\tbest: 0.7466974 (299)\ttotal: 4.56s\tremaining: 25.2s\n",
      "600:\ttest: 0.7470533\tbest: 0.7470571 (595)\ttotal: 9.1s\tremaining: 20.6s\n",
      "900:\ttest: 0.7469702\tbest: 0.7470694 (622)\ttotal: 13.7s\tremaining: 16.1s\n",
      "bestTest = 0.7470694184\n",
      "bestIteration = 622\n",
      "Shrink model to first 623 iterations.\n"
     ]
    },
    {
     "name": "stderr",
     "output_type": "stream",
     "text": [
      "[I 2025-02-17 15:46:21,750] Trial 19 finished with value: 0.7470694184303284 and parameters: {'iterations': 1964, 'depth': 5, 'learning_rate': 0.048900902048107174, 'l2_leaf_reg': 3.958640846287098}. Best is trial 18 with value: 0.7474415600299835.\n"
     ]
    },
    {
     "name": "stdout",
     "output_type": "stream",
     "text": [
      "Cat val score : 0.7474415858016865\n",
      "LGBM val score : 0.7467345178878735\n",
      "Ensemble val score : 0.7473621124847871\n"
     ]
    },
    {
     "name": "stderr",
     "output_type": "stream",
     "text": [
      "[I 2025-02-17 15:46:29,334] A new study created in memory with name: no-name-dbba39ba-2dcb-4425-8dd5-2f4e674c27e9\n"
     ]
    },
    {
     "name": "stdout",
     "output_type": "stream",
     "text": [
      "==================================================\n"
     ]
    },
    {
     "name": "stderr",
     "output_type": "stream",
     "text": [
      "Default metric period is 5 because AUC is/are not implemented for GPU\n"
     ]
    },
    {
     "name": "stdout",
     "output_type": "stream",
     "text": [
      "0:\ttest: 0.7336249\tbest: 0.7336249 (0)\ttotal: 75.5ms\tremaining: 2m 11s\n",
      "300:\ttest: 0.7361284\tbest: 0.7416098 (58)\ttotal: 20.1s\tremaining: 1m 36s\n"
     ]
    },
    {
     "name": "stderr",
     "output_type": "stream",
     "text": [
      "[I 2025-02-17 15:46:54,436] Trial 0 finished with value: 0.7416097521781921 and parameters: {'iterations': 1749, 'depth': 10, 'learning_rate': 0.07453942447208349, 'l2_leaf_reg': 0.39079671568228835}. Best is trial 0 with value: 0.7416097521781921.\n"
     ]
    },
    {
     "name": "stdout",
     "output_type": "stream",
     "text": [
      "bestTest = 0.7416097522\n",
      "bestIteration = 58\n",
      "Shrink model to first 59 iterations.\n",
      "저장 완료\n"
     ]
    },
    {
     "name": "stderr",
     "output_type": "stream",
     "text": [
      "Default metric period is 5 because AUC is/are not implemented for GPU\n"
     ]
    },
    {
     "name": "stdout",
     "output_type": "stream",
     "text": [
      "0:\ttest: 0.7145917\tbest: 0.7145917 (0)\ttotal: 14.2ms\tremaining: 18.6s\n",
      "300:\ttest: 0.7385893\tbest: 0.7385893 (300)\ttotal: 4.1s\tremaining: 13.8s\n",
      "600:\ttest: 0.7411564\tbest: 0.7411564 (600)\ttotal: 8.29s\tremaining: 9.81s\n",
      "900:\ttest: 0.7421513\tbest: 0.7421513 (900)\ttotal: 12.3s\tremaining: 5.63s\n",
      "1200:\ttest: 0.7426390\tbest: 0.7426390 (1200)\ttotal: 16.4s\tremaining: 1.52s\n",
      "1311:\ttest: 0.7428072\tbest: 0.7428111 (1307)\ttotal: 17.9s\tremaining: 0us\n",
      "bestTest = 0.7428110838\n",
      "bestIteration = 1307\n",
      "Shrink model to first 1308 iterations.\n"
     ]
    },
    {
     "name": "stderr",
     "output_type": "stream",
     "text": [
      "[I 2025-02-17 15:47:13,914] Trial 1 finished with value: 0.7428110837936401 and parameters: {'iterations': 1312, 'depth': 5, 'learning_rate': 0.010517943155978949, 'l2_leaf_reg': 15.741890047456648}. Best is trial 1 with value: 0.7428110837936401.\n"
     ]
    },
    {
     "name": "stdout",
     "output_type": "stream",
     "text": [
      "저장 완료\n"
     ]
    },
    {
     "name": "stderr",
     "output_type": "stream",
     "text": [
      "Default metric period is 5 because AUC is/are not implemented for GPU\n"
     ]
    },
    {
     "name": "stdout",
     "output_type": "stream",
     "text": [
      "0:\ttest: 0.7313291\tbest: 0.7313291 (0)\ttotal: 32.3ms\tremaining: 1m 11s\n",
      "300:\ttest: 0.7397629\tbest: 0.7397629 (300)\ttotal: 8.74s\tremaining: 55.2s\n",
      "600:\ttest: 0.7420906\tbest: 0.7420906 (600)\ttotal: 17.5s\tremaining: 46.5s\n",
      "900:\ttest: 0.7429357\tbest: 0.7429357 (900)\ttotal: 26.3s\tremaining: 37.9s\n",
      "1200:\ttest: 0.7432916\tbest: 0.7432995 (1195)\ttotal: 35s\tremaining: 29.2s\n",
      "1500:\ttest: 0.7435180\tbest: 0.7435180 (1500)\ttotal: 43.8s\tremaining: 20.4s\n",
      "1800:\ttest: 0.7436049\tbest: 0.7436097 (1781)\ttotal: 52.5s\tremaining: 11.7s\n",
      "2100:\ttest: 0.7436495\tbest: 0.7436550 (2029)\ttotal: 1m 1s\tremaining: 2.94s\n",
      "2201:\ttest: 0.7436389\tbest: 0.7436550 (2029)\ttotal: 1m 4s\tremaining: 0us\n",
      "bestTest = 0.743655026\n",
      "bestIteration = 2029\n",
      "Shrink model to first 2030 iterations.\n"
     ]
    },
    {
     "name": "stderr",
     "output_type": "stream",
     "text": [
      "[I 2025-02-17 15:48:19,740] Trial 2 finished with value: 0.7436550259590149 and parameters: {'iterations': 2202, 'depth': 8, 'learning_rate': 0.006955526958101232, 'l2_leaf_reg': 65.98711072054076}. Best is trial 2 with value: 0.7436550259590149.\n"
     ]
    },
    {
     "name": "stdout",
     "output_type": "stream",
     "text": [
      "저장 완료\n"
     ]
    },
    {
     "name": "stderr",
     "output_type": "stream",
     "text": [
      "Default metric period is 5 because AUC is/are not implemented for GPU\n"
     ]
    },
    {
     "name": "stdout",
     "output_type": "stream",
     "text": [
      "0:\ttest: 0.7145741\tbest: 0.7145741 (0)\ttotal: 15.7ms\tremaining: 41.8s\n",
      "300:\ttest: 0.7413934\tbest: 0.7413934 (300)\ttotal: 4.12s\tremaining: 32.3s\n",
      "600:\ttest: 0.7427222\tbest: 0.7427222 (600)\ttotal: 8.17s\tremaining: 28.1s\n",
      "900:\ttest: 0.7430987\tbest: 0.7431014 (898)\ttotal: 12.1s\tremaining: 23.8s\n",
      "1200:\ttest: 0.7431598\tbest: 0.7431646 (952)\ttotal: 16.2s\tremaining: 19.7s\n",
      "1500:\ttest: 0.7430925\tbest: 0.7431877 (1370)\ttotal: 20.2s\tremaining: 15.7s\n",
      "1800:\ttest: 0.7430432\tbest: 0.7431898 (1653)\ttotal: 24.3s\tremaining: 11.6s\n",
      "bestTest = 0.7431897521\n",
      "bestIteration = 1653\n",
      "Shrink model to first 1654 iterations.\n"
     ]
    },
    {
     "name": "stderr",
     "output_type": "stream",
     "text": [
      "[I 2025-02-17 15:48:47,580] Trial 3 finished with value: 0.7431897521018982 and parameters: {'iterations': 2665, 'depth': 5, 'learning_rate': 0.02227337188467456, 'l2_leaf_reg': 0.0012601639723276807}. Best is trial 2 with value: 0.7436550259590149.\n",
      "Default metric period is 5 because AUC is/are not implemented for GPU\n"
     ]
    },
    {
     "name": "stdout",
     "output_type": "stream",
     "text": [
      "0:\ttest: 0.7273457\tbest: 0.7273457 (0)\ttotal: 22.4ms\tremaining: 36s\n",
      "300:\ttest: 0.7426592\tbest: 0.7426616 (281)\ttotal: 6.52s\tremaining: 28.3s\n",
      "600:\ttest: 0.7415149\tbest: 0.7427041 (318)\ttotal: 13s\tremaining: 21.7s\n",
      "bestTest = 0.7427040637\n",
      "bestIteration = 318\n",
      "Shrink model to first 319 iterations.\n"
     ]
    },
    {
     "name": "stderr",
     "output_type": "stream",
     "text": [
      "[I 2025-02-17 15:49:02,430] Trial 4 finished with value: 0.7427040636539459 and parameters: {'iterations': 1608, 'depth': 7, 'learning_rate': 0.046034776771001, 'l2_leaf_reg': 0.005589524205217926}. Best is trial 2 with value: 0.7436550259590149.\n",
      "Default metric period is 5 because AUC is/are not implemented for GPU\n"
     ]
    },
    {
     "name": "stdout",
     "output_type": "stream",
     "text": [
      "0:\ttest: 0.7122787\tbest: 0.7122787 (0)\ttotal: 11.4ms\tremaining: 25.4s\n",
      "300:\ttest: 0.7416911\tbest: 0.7416911 (300)\ttotal: 3.19s\tremaining: 20.4s\n",
      "600:\ttest: 0.7427106\tbest: 0.7427710 (568)\ttotal: 6.34s\tremaining: 17.1s\n",
      "900:\ttest: 0.7430040\tbest: 0.7430249 (897)\ttotal: 9.55s\tremaining: 14s\n",
      "1200:\ttest: 0.7431932\tbest: 0.7431932 (1200)\ttotal: 12.8s\tremaining: 10.9s\n",
      "1500:\ttest: 0.7433115\tbest: 0.7433357 (1418)\ttotal: 16s\tremaining: 7.71s\n",
      "1800:\ttest: 0.7433322\tbest: 0.7433972 (1654)\ttotal: 19.2s\tremaining: 4.51s\n",
      "bestTest = 0.7433971763\n",
      "bestIteration = 1654\n",
      "Shrink model to first 1655 iterations.\n"
     ]
    },
    {
     "name": "stderr",
     "output_type": "stream",
     "text": [
      "[I 2025-02-17 15:49:24,822] Trial 5 finished with value: 0.7433971762657166 and parameters: {'iterations': 2224, 'depth': 4, 'learning_rate': 0.032753741610845724, 'l2_leaf_reg': 0.01578232781079559}. Best is trial 2 with value: 0.7436550259590149.\n",
      "Default metric period is 5 because AUC is/are not implemented for GPU\n"
     ]
    },
    {
     "name": "stdout",
     "output_type": "stream",
     "text": [
      "0:\ttest: 0.7331100\tbest: 0.7331100 (0)\ttotal: 45.6ms\tremaining: 1m 27s\n",
      "300:\ttest: 0.7423073\tbest: 0.7423239 (260)\ttotal: 13s\tremaining: 1m 9s\n",
      "600:\ttest: 0.7420828\tbest: 0.7423490 (505)\ttotal: 25.9s\tremaining: 56.5s\n",
      "bestTest = 0.742348969\n",
      "bestIteration = 505\n",
      "Shrink model to first 506 iterations.\n"
     ]
    },
    {
     "name": "stderr",
     "output_type": "stream",
     "text": [
      "[I 2025-02-17 15:50:01,152] Trial 6 finished with value: 0.7423489689826965 and parameters: {'iterations': 1912, 'depth': 9, 'learning_rate': 0.023969009305044177, 'l2_leaf_reg': 0.12173252504194051}. Best is trial 2 with value: 0.7436550259590149.\n",
      "Default metric period is 5 because AUC is/are not implemented for GPU\n"
     ]
    },
    {
     "name": "stdout",
     "output_type": "stream",
     "text": [
      "0:\ttest: 0.7122787\tbest: 0.7122787 (0)\ttotal: 11.5ms\tremaining: 25.2s\n",
      "300:\ttest: 0.7426057\tbest: 0.7426057 (300)\ttotal: 3.2s\tremaining: 20s\n",
      "600:\ttest: 0.7430317\tbest: 0.7430505 (573)\ttotal: 6.4s\tremaining: 16.9s\n",
      "900:\ttest: 0.7430761\tbest: 0.7431853 (813)\ttotal: 9.6s\tremaining: 13.7s\n",
      "1200:\ttest: 0.7431045\tbest: 0.7432227 (1084)\ttotal: 12.8s\tremaining: 10.5s\n",
      "1500:\ttest: 0.7431232\tbest: 0.7433206 (1266)\ttotal: 16s\tremaining: 7.31s\n",
      "bestTest = 0.7433206141\n",
      "bestIteration = 1266\n",
      "Shrink model to first 1267 iterations.\n"
     ]
    },
    {
     "name": "stderr",
     "output_type": "stream",
     "text": [
      "[I 2025-02-17 15:50:19,399] Trial 7 finished with value: 0.7433206140995026 and parameters: {'iterations': 2185, 'depth': 4, 'learning_rate': 0.06271676093063665, 'l2_leaf_reg': 0.0010547383621352044}. Best is trial 2 with value: 0.7436550259590149.\n",
      "Default metric period is 5 because AUC is/are not implemented for GPU\n"
     ]
    },
    {
     "name": "stdout",
     "output_type": "stream",
     "text": [
      "0:\ttest: 0.7336346\tbest: 0.7336346 (0)\ttotal: 66.5ms\tremaining: 1m 15s\n",
      "300:\ttest: 0.7375734\tbest: 0.7430044 (92)\ttotal: 20s\tremaining: 55s\n",
      "bestTest = 0.7430044413\n",
      "bestIteration = 92\n",
      "Shrink model to first 93 iterations.\n"
     ]
    },
    {
     "name": "stderr",
     "output_type": "stream",
     "text": [
      "[I 2025-02-17 15:50:46,977] Trial 8 finished with value: 0.7430044412612915 and parameters: {'iterations': 1130, 'depth': 10, 'learning_rate': 0.09673504314208314, 'l2_leaf_reg': 7.085721663941605}. Best is trial 2 with value: 0.7436550259590149.\n",
      "Default metric period is 5 because AUC is/are not implemented for GPU\n"
     ]
    },
    {
     "name": "stdout",
     "output_type": "stream",
     "text": [
      "0:\ttest: 0.7122787\tbest: 0.7122787 (0)\ttotal: 14ms\tremaining: 22.5s\n",
      "300:\ttest: 0.7425893\tbest: 0.7425893 (300)\ttotal: 3.24s\tremaining: 14.1s\n",
      "600:\ttest: 0.7432215\tbest: 0.7432378 (597)\ttotal: 6.44s\tremaining: 10.8s\n",
      "900:\ttest: 0.7430158\tbest: 0.7432450 (698)\ttotal: 9.64s\tremaining: 7.57s\n",
      "bestTest = 0.7432450354\n",
      "bestIteration = 698\n",
      "Shrink model to first 699 iterations.\n"
     ]
    },
    {
     "name": "stderr",
     "output_type": "stream",
     "text": [
      "[I 2025-02-17 15:50:59,145] Trial 9 finished with value: 0.7432450354099274 and parameters: {'iterations': 1609, 'depth': 4, 'learning_rate': 0.07000213751865492, 'l2_leaf_reg': 0.04374364439939081}. Best is trial 2 with value: 0.7436550259590149.\n",
      "Default metric period is 5 because AUC is/are not implemented for GPU\n"
     ]
    },
    {
     "name": "stdout",
     "output_type": "stream",
     "text": [
      "0:\ttest: 0.7313159\tbest: 0.7313159 (0)\ttotal: 29.6ms\tremaining: 1m 26s\n",
      "300:\ttest: 0.7390115\tbest: 0.7390115 (300)\ttotal: 8.72s\tremaining: 1m 15s\n",
      "600:\ttest: 0.7415122\tbest: 0.7415122 (600)\ttotal: 17.4s\tremaining: 1m 6s\n",
      "900:\ttest: 0.7424854\tbest: 0.7424854 (900)\ttotal: 26.2s\tremaining: 58.3s\n",
      "1200:\ttest: 0.7429771\tbest: 0.7429782 (1196)\ttotal: 34.9s\tremaining: 49.7s\n",
      "1500:\ttest: 0.7432114\tbest: 0.7432114 (1500)\ttotal: 43.7s\tremaining: 40.9s\n",
      "1800:\ttest: 0.7433989\tbest: 0.7433989 (1800)\ttotal: 52.5s\tremaining: 32.2s\n",
      "2100:\ttest: 0.7435241\tbest: 0.7435246 (2099)\ttotal: 1m 1s\tremaining: 23.5s\n",
      "2400:\ttest: 0.7435539\tbest: 0.7435630 (2286)\ttotal: 1m 10s\tremaining: 14.8s\n",
      "2700:\ttest: 0.7435233\tbest: 0.7435724 (2528)\ttotal: 1m 18s\tremaining: 6.04s\n",
      "bestTest = 0.7435724139\n",
      "bestIteration = 2528\n",
      "Shrink model to first 2529 iterations.\n"
     ]
    },
    {
     "name": "stderr",
     "output_type": "stream",
     "text": [
      "[I 2025-02-17 15:52:23,422] Trial 10 finished with value: 0.7435724139213562 and parameters: {'iterations': 2908, 'depth': 8, 'learning_rate': 0.005716995335047832, 'l2_leaf_reg': 53.77119408946009}. Best is trial 2 with value: 0.7436550259590149.\n",
      "Default metric period is 5 because AUC is/are not implemented for GPU\n"
     ]
    },
    {
     "name": "stdout",
     "output_type": "stream",
     "text": [
      "0:\ttest: 0.7313361\tbest: 0.7313361 (0)\ttotal: 29.4ms\tremaining: 1m 26s\n",
      "300:\ttest: 0.7394263\tbest: 0.7394263 (300)\ttotal: 8.7s\tremaining: 1m 16s\n",
      "600:\ttest: 0.7418680\tbest: 0.7418680 (600)\ttotal: 17.5s\tremaining: 1m 7s\n",
      "900:\ttest: 0.7427942\tbest: 0.7427942 (900)\ttotal: 26.1s\tremaining: 58.9s\n",
      "1200:\ttest: 0.7431752\tbest: 0.7431752 (1200)\ttotal: 34.9s\tremaining: 50.3s\n",
      "1500:\ttest: 0.7434387\tbest: 0.7434420 (1497)\ttotal: 43.7s\tremaining: 41.6s\n",
      "1800:\ttest: 0.7435597\tbest: 0.7435635 (1775)\ttotal: 52.5s\tremaining: 32.9s\n",
      "2100:\ttest: 0.7436067\tbest: 0.7436069 (2099)\ttotal: 1m 1s\tremaining: 24.2s\n",
      "2400:\ttest: 0.7436093\tbest: 0.7436330 (2286)\ttotal: 1m 9s\tremaining: 15.4s\n",
      "bestTest = 0.743633002\n",
      "bestIteration = 2286\n",
      "Shrink model to first 2287 iterations.\n"
     ]
    },
    {
     "name": "stderr",
     "output_type": "stream",
     "text": [
      "[I 2025-02-17 15:53:40,279] Trial 11 finished with value: 0.7436330020427704 and parameters: {'iterations': 2930, 'depth': 8, 'learning_rate': 0.006402408540446867, 'l2_leaf_reg': 83.11832707510945}. Best is trial 2 with value: 0.7436550259590149.\n",
      "Default metric period is 5 because AUC is/are not implemented for GPU\n"
     ]
    },
    {
     "name": "stdout",
     "output_type": "stream",
     "text": [
      "0:\ttest: 0.7273457\tbest: 0.7273457 (0)\ttotal: 23.3ms\tremaining: 58.8s\n",
      "300:\ttest: 0.7431088\tbest: 0.7431093 (293)\ttotal: 6.53s\tremaining: 48.2s\n",
      "600:\ttest: 0.7432883\tbest: 0.7433323 (537)\ttotal: 12.9s\tremaining: 41.2s\n",
      "bestTest = 0.7433323264\n",
      "bestIteration = 537\n",
      "Shrink model to first 538 iterations.\n"
     ]
    },
    {
     "name": "stderr",
     "output_type": "stream",
     "text": [
      "[I 2025-02-17 15:53:59,680] Trial 12 finished with value: 0.7433323264122009 and parameters: {'iterations': 2521, 'depth': 7, 'learning_rate': 0.03782006809201868, 'l2_leaf_reg': 1.523826037441336}. Best is trial 2 with value: 0.7436550259590149.\n",
      "Default metric period is 5 because AUC is/are not implemented for GPU\n"
     ]
    },
    {
     "name": "stdout",
     "output_type": "stream",
     "text": [
      "0:\ttest: 0.7313291\tbest: 0.7313291 (0)\ttotal: 30ms\tremaining: 1m 27s\n",
      "300:\ttest: 0.7426510\tbest: 0.7426510 (300)\ttotal: 8.7s\tremaining: 1m 15s\n",
      "600:\ttest: 0.7433969\tbest: 0.7433969 (600)\ttotal: 17.5s\tremaining: 1m 7s\n",
      "900:\ttest: 0.7435215\tbest: 0.7435609 (871)\ttotal: 26.2s\tremaining: 58.7s\n",
      "bestTest = 0.7435608804\n",
      "bestIteration = 871\n",
      "Shrink model to first 872 iterations.\n"
     ]
    },
    {
     "name": "stderr",
     "output_type": "stream",
     "text": [
      "[I 2025-02-17 15:54:35,229] Trial 13 finished with value: 0.7435608804225922 and parameters: {'iterations': 2923, 'depth': 8, 'learning_rate': 0.01844851425508691, 'l2_leaf_reg': 65.5477287928456}. Best is trial 2 with value: 0.7436550259590149.\n",
      "Default metric period is 5 because AUC is/are not implemented for GPU\n"
     ]
    },
    {
     "name": "stdout",
     "output_type": "stream",
     "text": [
      "0:\ttest: 0.7313600\tbest: 0.7313600 (0)\ttotal: 29.3ms\tremaining: 1m 13s\n",
      "300:\ttest: 0.7391897\tbest: 0.7391897 (300)\ttotal: 8.78s\tremaining: 1m 3s\n",
      "600:\ttest: 0.7415529\tbest: 0.7415529 (600)\ttotal: 17.5s\tremaining: 55.2s\n",
      "900:\ttest: 0.7424643\tbest: 0.7424643 (900)\ttotal: 26.3s\tremaining: 46.5s\n",
      "1200:\ttest: 0.7429511\tbest: 0.7429542 (1197)\ttotal: 35.1s\tremaining: 37.8s\n",
      "1500:\ttest: 0.7431932\tbest: 0.7431932 (1500)\ttotal: 43.9s\tremaining: 29.1s\n",
      "1800:\ttest: 0.7432826\tbest: 0.7432826 (1800)\ttotal: 52.7s\tremaining: 20.3s\n",
      "2100:\ttest: 0.7434037\tbest: 0.7434132 (2025)\ttotal: 1m 1s\tremaining: 11.5s\n",
      "2400:\ttest: 0.7434416\tbest: 0.7434518 (2376)\ttotal: 1m 10s\tremaining: 2.73s\n",
      "2493:\ttest: 0.7434070\tbest: 0.7434518 (2376)\ttotal: 1m 13s\tremaining: 0us\n",
      "bestTest = 0.7434517741\n",
      "bestIteration = 2376\n",
      "Shrink model to first 2377 iterations.\n"
     ]
    },
    {
     "name": "stderr",
     "output_type": "stream",
     "text": [
      "[I 2025-02-17 15:55:50,085] Trial 14 finished with value: 0.7434517741203308 and parameters: {'iterations': 2494, 'depth': 8, 'learning_rate': 0.0057375705176899395, 'l2_leaf_reg': 3.2738747363367016}. Best is trial 2 with value: 0.7436550259590149.\n",
      "Default metric period is 5 because AUC is/are not implemented for GPU\n"
     ]
    },
    {
     "name": "stdout",
     "output_type": "stream",
     "text": [
      "0:\ttest: 0.7225931\tbest: 0.7225931 (0)\ttotal: 17.6ms\tremaining: 38.4s\n",
      "300:\ttest: 0.7428857\tbest: 0.7428964 (297)\ttotal: 5.08s\tremaining: 31.8s\n",
      "600:\ttest: 0.7429707\tbest: 0.7429873 (486)\ttotal: 10s\tremaining: 26.5s\n",
      "900:\ttest: 0.7425158\tbest: 0.7430236 (624)\ttotal: 15.2s\tremaining: 21.7s\n",
      "bestTest = 0.7430235744\n",
      "bestIteration = 624\n",
      "Shrink model to first 625 iterations.\n"
     ]
    },
    {
     "name": "stderr",
     "output_type": "stream",
     "text": [
      "[I 2025-02-17 15:56:07,131] Trial 15 finished with value: 0.7430235743522644 and parameters: {'iterations': 2185, 'depth': 6, 'learning_rate': 0.049526995794345004, 'l2_leaf_reg': 0.8243036091063639}. Best is trial 2 with value: 0.7436550259590149.\n",
      "Default metric period is 5 because AUC is/are not implemented for GPU\n"
     ]
    },
    {
     "name": "stdout",
     "output_type": "stream",
     "text": [
      "0:\ttest: 0.7330914\tbest: 0.7330914 (0)\ttotal: 42.9ms\tremaining: 1m 55s\n",
      "300:\ttest: 0.7432847\tbest: 0.7432847 (300)\ttotal: 12.9s\tremaining: 1m 42s\n",
      "600:\ttest: 0.7432918\tbest: 0.7434756 (412)\ttotal: 25.7s\tremaining: 1m 29s\n",
      "bestTest = 0.7434756458\n",
      "bestIteration = 412\n",
      "Shrink model to first 413 iterations.\n"
     ]
    },
    {
     "name": "stderr",
     "output_type": "stream",
     "text": [
      "[I 2025-02-17 15:56:39,164] Trial 16 finished with value: 0.7434756457805634 and parameters: {'iterations': 2692, 'depth': 9, 'learning_rate': 0.030434232530633896, 'l2_leaf_reg': 94.64533014403676}. Best is trial 2 with value: 0.7436550259590149.\n",
      "Default metric period is 5 because AUC is/are not implemented for GPU\n"
     ]
    },
    {
     "name": "stdout",
     "output_type": "stream",
     "text": [
      "0:\ttest: 0.7330974\tbest: 0.7330974 (0)\ttotal: 42.4ms\tremaining: 1m 39s\n",
      "300:\ttest: 0.7425786\tbest: 0.7425786 (300)\ttotal: 13s\tremaining: 1m 28s\n",
      "600:\ttest: 0.7432983\tbest: 0.7432995 (582)\ttotal: 26s\tremaining: 1m 15s\n",
      "900:\ttest: 0.7433206\tbest: 0.7434115 (758)\ttotal: 39.2s\tremaining: 1m 3s\n",
      "bestTest = 0.7434114814\n",
      "bestIteration = 758\n",
      "Shrink model to first 759 iterations.\n"
     ]
    },
    {
     "name": "stderr",
     "output_type": "stream",
     "text": [
      "[I 2025-02-17 15:57:26,759] Trial 17 finished with value: 0.7434114813804626 and parameters: {'iterations': 2351, 'depth': 9, 'learning_rate': 0.015403871719562565, 'l2_leaf_reg': 16.24191867612336}. Best is trial 2 with value: 0.7436550259590149.\n",
      "Default metric period is 5 because AUC is/are not implemented for GPU\n"
     ]
    },
    {
     "name": "stdout",
     "output_type": "stream",
     "text": [
      "0:\ttest: 0.7273453\tbest: 0.7273453 (0)\ttotal: 22.3ms\tremaining: 44s\n",
      "300:\ttest: 0.7433138\tbest: 0.7433775 (176)\ttotal: 6.47s\tremaining: 35.9s\n"
     ]
    },
    {
     "name": "stderr",
     "output_type": "stream",
     "text": [
      "[I 2025-02-17 15:57:38,370] Trial 18 finished with value: 0.7433774769306183 and parameters: {'iterations': 1971, 'depth': 7, 'learning_rate': 0.09183848173899832, 'l2_leaf_reg': 18.91461659520964}. Best is trial 2 with value: 0.7436550259590149.\n"
     ]
    },
    {
     "name": "stdout",
     "output_type": "stream",
     "text": [
      "bestTest = 0.7433774769\n",
      "bestIteration = 176\n",
      "Shrink model to first 177 iterations.\n"
     ]
    },
    {
     "name": "stderr",
     "output_type": "stream",
     "text": [
      "Default metric period is 5 because AUC is/are not implemented for GPU\n"
     ]
    },
    {
     "name": "stdout",
     "output_type": "stream",
     "text": [
      "0:\ttest: 0.7225931\tbest: 0.7225931 (0)\ttotal: 17.4ms\tremaining: 51.6s\n",
      "300:\ttest: 0.7426832\tbest: 0.7427028 (296)\ttotal: 5.04s\tremaining: 44.5s\n",
      "600:\ttest: 0.7430883\tbest: 0.7430883 (600)\ttotal: 10.1s\tremaining: 39.6s\n",
      "900:\ttest: 0.7428854\tbest: 0.7431432 (624)\ttotal: 15.1s\tremaining: 34.5s\n",
      "bestTest = 0.7431432307\n",
      "bestIteration = 624\n",
      "Shrink model to first 625 iterations.\n"
     ]
    },
    {
     "name": "stderr",
     "output_type": "stream",
     "text": [
      "[I 2025-02-17 15:57:55,422] Trial 19 finished with value: 0.743143230676651 and parameters: {'iterations': 2961, 'depth': 6, 'learning_rate': 0.03818314966555223, 'l2_leaf_reg': 0.19555626253956448}. Best is trial 2 with value: 0.7436550259590149.\n"
     ]
    },
    {
     "name": "stdout",
     "output_type": "stream",
     "text": [
      "Cat val score : 0.7436549884067594\n",
      "LGBM val score : 0.7434959305881463\n",
      "Ensemble val score : 0.7438286789411102\n"
     ]
    },
    {
     "name": "stderr",
     "output_type": "stream",
     "text": [
      "[I 2025-02-17 15:58:01,288] A new study created in memory with name: no-name-b956f193-4242-43da-b2bc-0cb29203d713\n"
     ]
    },
    {
     "name": "stdout",
     "output_type": "stream",
     "text": [
      "==================================================\n"
     ]
    },
    {
     "name": "stderr",
     "output_type": "stream",
     "text": [
      "Default metric period is 5 because AUC is/are not implemented for GPU\n"
     ]
    },
    {
     "name": "stdout",
     "output_type": "stream",
     "text": [
      "0:\ttest: 0.7225066\tbest: 0.7225066 (0)\ttotal: 72.2ms\tremaining: 2m 6s\n",
      "300:\ttest: 0.7329118\tbest: 0.7354762 (100)\ttotal: 20s\tremaining: 1m 36s\n",
      "bestTest = 0.7354761958\n",
      "bestIteration = 100\n",
      "Shrink model to first 101 iterations.\n",
      "저장 완료\n"
     ]
    },
    {
     "name": "stderr",
     "output_type": "stream",
     "text": [
      "[I 2025-02-17 15:58:28,990] Trial 0 finished with value: 0.7354761958122253 and parameters: {'iterations': 1749, 'depth': 10, 'learning_rate': 0.07453942447208349, 'l2_leaf_reg': 0.39079671568228835}. Best is trial 0 with value: 0.7354761958122253.\n",
      "Default metric period is 5 because AUC is/are not implemented for GPU\n"
     ]
    },
    {
     "name": "stdout",
     "output_type": "stream",
     "text": [
      "0:\ttest: 0.7080702\tbest: 0.7080702 (0)\ttotal: 14.4ms\tremaining: 18.9s\n",
      "300:\ttest: 0.7313474\tbest: 0.7313474 (300)\ttotal: 4.04s\tremaining: 13.6s\n",
      "600:\ttest: 0.7342836\tbest: 0.7342836 (600)\ttotal: 8.03s\tremaining: 9.5s\n",
      "900:\ttest: 0.7354117\tbest: 0.7354117 (900)\ttotal: 12.3s\tremaining: 5.6s\n",
      "1200:\ttest: 0.7361185\tbest: 0.7361185 (1200)\ttotal: 16.4s\tremaining: 1.51s\n",
      "1311:\ttest: 0.7363133\tbest: 0.7363146 (1305)\ttotal: 17.8s\tremaining: 0us\n",
      "bestTest = 0.7363146245\n",
      "bestIteration = 1305\n",
      "Shrink model to first 1306 iterations.\n"
     ]
    },
    {
     "name": "stderr",
     "output_type": "stream",
     "text": [
      "[I 2025-02-17 15:58:48,395] Trial 1 finished with value: 0.7363146245479584 and parameters: {'iterations': 1312, 'depth': 5, 'learning_rate': 0.010517943155978949, 'l2_leaf_reg': 15.741890047456648}. Best is trial 1 with value: 0.7363146245479584.\n"
     ]
    },
    {
     "name": "stdout",
     "output_type": "stream",
     "text": [
      "저장 완료\n"
     ]
    },
    {
     "name": "stderr",
     "output_type": "stream",
     "text": [
      "Default metric period is 5 because AUC is/are not implemented for GPU\n"
     ]
    },
    {
     "name": "stdout",
     "output_type": "stream",
     "text": [
      "0:\ttest: 0.7217614\tbest: 0.7217614 (0)\ttotal: 30.7ms\tremaining: 1m 7s\n",
      "300:\ttest: 0.7319885\tbest: 0.7319885 (300)\ttotal: 8.74s\tremaining: 55.2s\n",
      "600:\ttest: 0.7347082\tbest: 0.7347082 (600)\ttotal: 17.5s\tremaining: 46.5s\n",
      "900:\ttest: 0.7357920\tbest: 0.7357957 (898)\ttotal: 26.2s\tremaining: 37.9s\n",
      "1200:\ttest: 0.7364486\tbest: 0.7364486 (1200)\ttotal: 35.1s\tremaining: 29.3s\n",
      "1500:\ttest: 0.7368162\tbest: 0.7368162 (1500)\ttotal: 44s\tremaining: 20.5s\n",
      "1800:\ttest: 0.7371236\tbest: 0.7371253 (1797)\ttotal: 52.9s\tremaining: 11.8s\n",
      "2100:\ttest: 0.7372619\tbest: 0.7372658 (2099)\ttotal: 1m 1s\tremaining: 2.96s\n",
      "2201:\ttest: 0.7373415\tbest: 0.7373424 (2200)\ttotal: 1m 4s\tremaining: 0us\n",
      "bestTest = 0.7373424172\n",
      "bestIteration = 2200\n",
      "Shrink model to first 2201 iterations.\n"
     ]
    },
    {
     "name": "stderr",
     "output_type": "stream",
     "text": [
      "[I 2025-02-17 15:59:54,730] Trial 2 finished with value: 0.7373424172401428 and parameters: {'iterations': 2202, 'depth': 8, 'learning_rate': 0.006955526958101232, 'l2_leaf_reg': 65.98711072054076}. Best is trial 2 with value: 0.7373424172401428.\n"
     ]
    },
    {
     "name": "stdout",
     "output_type": "stream",
     "text": [
      "저장 완료\n"
     ]
    },
    {
     "name": "stderr",
     "output_type": "stream",
     "text": [
      "Default metric period is 5 because AUC is/are not implemented for GPU\n"
     ]
    },
    {
     "name": "stdout",
     "output_type": "stream",
     "text": [
      "0:\ttest: 0.7080738\tbest: 0.7080738 (0)\ttotal: 14ms\tremaining: 37.4s\n",
      "300:\ttest: 0.7345811\tbest: 0.7345811 (300)\ttotal: 4.09s\tremaining: 32.1s\n",
      "600:\ttest: 0.7361993\tbest: 0.7362055 (597)\ttotal: 8.11s\tremaining: 27.8s\n",
      "900:\ttest: 0.7368773\tbest: 0.7368823 (899)\ttotal: 12s\tremaining: 23.5s\n",
      "1200:\ttest: 0.7371898\tbest: 0.7371938 (1168)\ttotal: 16s\tremaining: 19.5s\n",
      "1500:\ttest: 0.7372832\tbest: 0.7373024 (1464)\ttotal: 20.1s\tremaining: 15.6s\n",
      "1800:\ttest: 0.7375105\tbest: 0.7375154 (1798)\ttotal: 24.2s\tremaining: 11.6s\n",
      "2100:\ttest: 0.7374972\tbest: 0.7375528 (2061)\ttotal: 28.3s\tremaining: 7.59s\n",
      "bestTest = 0.7375528216\n",
      "bestIteration = 2061\n",
      "Shrink model to first 2062 iterations.\n"
     ]
    },
    {
     "name": "stderr",
     "output_type": "stream",
     "text": [
      "[I 2025-02-17 16:00:27,993] Trial 3 finished with value: 0.7375528216362 and parameters: {'iterations': 2665, 'depth': 5, 'learning_rate': 0.02227337188467456, 'l2_leaf_reg': 0.0012601639723276807}. Best is trial 3 with value: 0.7375528216362.\n"
     ]
    },
    {
     "name": "stdout",
     "output_type": "stream",
     "text": [
      "저장 완료\n"
     ]
    },
    {
     "name": "stderr",
     "output_type": "stream",
     "text": [
      "Default metric period is 5 because AUC is/are not implemented for GPU\n"
     ]
    },
    {
     "name": "stdout",
     "output_type": "stream",
     "text": [
      "0:\ttest: 0.7190981\tbest: 0.7190981 (0)\ttotal: 22.4ms\tremaining: 36s\n",
      "300:\ttest: 0.7369432\tbest: 0.7369432 (300)\ttotal: 6.53s\tremaining: 28.4s\n",
      "600:\ttest: 0.7371024\tbest: 0.7374846 (475)\ttotal: 12.9s\tremaining: 21.7s\n",
      "bestTest = 0.7374846041\n",
      "bestIteration = 475\n",
      "Shrink model to first 476 iterations.\n"
     ]
    },
    {
     "name": "stderr",
     "output_type": "stream",
     "text": [
      "[I 2025-02-17 16:00:46,176] Trial 4 finished with value: 0.7374846041202545 and parameters: {'iterations': 1608, 'depth': 7, 'learning_rate': 0.046034776771001, 'l2_leaf_reg': 0.005589524205217926}. Best is trial 3 with value: 0.7375528216362.\n",
      "Default metric period is 5 because AUC is/are not implemented for GPU\n"
     ]
    },
    {
     "name": "stdout",
     "output_type": "stream",
     "text": [
      "0:\ttest: 0.6967319\tbest: 0.6967319 (0)\ttotal: 11.7ms\tremaining: 25.9s\n",
      "300:\ttest: 0.7345339\tbest: 0.7345339 (300)\ttotal: 3.25s\tremaining: 20.8s\n",
      "600:\ttest: 0.7360269\tbest: 0.7360269 (600)\ttotal: 6.43s\tremaining: 17.4s\n",
      "900:\ttest: 0.7365410\tbest: 0.7365463 (899)\ttotal: 9.67s\tremaining: 14.2s\n",
      "1200:\ttest: 0.7366864\tbest: 0.7366881 (1182)\ttotal: 12.9s\tremaining: 11s\n",
      "1500:\ttest: 0.7369394\tbest: 0.7369518 (1493)\ttotal: 16.1s\tremaining: 7.75s\n",
      "1800:\ttest: 0.7370344\tbest: 0.7370749 (1778)\ttotal: 19.3s\tremaining: 4.54s\n",
      "bestTest = 0.7370749414\n",
      "bestIteration = 1778\n",
      "Shrink model to first 1779 iterations.\n"
     ]
    },
    {
     "name": "stderr",
     "output_type": "stream",
     "text": [
      "[I 2025-02-17 16:01:10,128] Trial 5 finished with value: 0.7370749413967133 and parameters: {'iterations': 2224, 'depth': 4, 'learning_rate': 0.032753741610845724, 'l2_leaf_reg': 0.01578232781079559}. Best is trial 3 with value: 0.7375528216362.\n",
      "Default metric period is 5 because AUC is/are not implemented for GPU\n"
     ]
    },
    {
     "name": "stdout",
     "output_type": "stream",
     "text": [
      "0:\ttest: 0.7233196\tbest: 0.7233196 (0)\ttotal: 43.2ms\tremaining: 1m 22s\n",
      "300:\ttest: 0.7364221\tbest: 0.7364418 (297)\ttotal: 13s\tremaining: 1m 9s\n",
      "600:\ttest: 0.7369751\tbest: 0.7371429 (547)\ttotal: 25.9s\tremaining: 56.6s\n",
      "900:\ttest: 0.7367266\tbest: 0.7371523 (626)\ttotal: 38.8s\tremaining: 43.5s\n",
      "bestTest = 0.7371523082\n",
      "bestIteration = 626\n",
      "Shrink model to first 627 iterations.\n"
     ]
    },
    {
     "name": "stderr",
     "output_type": "stream",
     "text": [
      "[I 2025-02-17 16:01:51,623] Trial 6 finished with value: 0.7371523082256317 and parameters: {'iterations': 1912, 'depth': 9, 'learning_rate': 0.023969009305044177, 'l2_leaf_reg': 0.12173252504194051}. Best is trial 3 with value: 0.7375528216362.\n",
      "Default metric period is 5 because AUC is/are not implemented for GPU\n"
     ]
    },
    {
     "name": "stdout",
     "output_type": "stream",
     "text": [
      "0:\ttest: 0.6967319\tbest: 0.6967319 (0)\ttotal: 11ms\tremaining: 24.1s\n",
      "300:\ttest: 0.7361698\tbest: 0.7361968 (297)\ttotal: 3.21s\tremaining: 20.1s\n",
      "600:\ttest: 0.7367194\tbest: 0.7367558 (567)\ttotal: 6.42s\tremaining: 16.9s\n",
      "900:\ttest: 0.7368201\tbest: 0.7368909 (719)\ttotal: 9.66s\tremaining: 13.8s\n",
      "bestTest = 0.7368908525\n",
      "bestIteration = 719\n",
      "Shrink model to first 720 iterations.\n"
     ]
    },
    {
     "name": "stderr",
     "output_type": "stream",
     "text": [
      "[I 2025-02-17 16:02:04,094] Trial 7 finished with value: 0.7368908524513245 and parameters: {'iterations': 2185, 'depth': 4, 'learning_rate': 0.06271676093063665, 'l2_leaf_reg': 0.0010547383621352044}. Best is trial 3 with value: 0.7375528216362.\n",
      "Default metric period is 5 because AUC is/are not implemented for GPU\n"
     ]
    },
    {
     "name": "stdout",
     "output_type": "stream",
     "text": [
      "0:\ttest: 0.7225935\tbest: 0.7225935 (0)\ttotal: 65.2ms\tremaining: 1m 13s\n",
      "300:\ttest: 0.7332773\tbest: 0.7357962 (81)\ttotal: 19.9s\tremaining: 54.8s\n",
      "bestTest = 0.735796243\n",
      "bestIteration = 81\n",
      "Shrink model to first 82 iterations.\n"
     ]
    },
    {
     "name": "stderr",
     "output_type": "stream",
     "text": [
      "[I 2025-02-17 16:02:30,796] Trial 8 finished with value: 0.7357962429523468 and parameters: {'iterations': 1130, 'depth': 10, 'learning_rate': 0.09673504314208314, 'l2_leaf_reg': 7.085721663941605}. Best is trial 3 with value: 0.7375528216362.\n",
      "Default metric period is 5 because AUC is/are not implemented for GPU\n"
     ]
    },
    {
     "name": "stdout",
     "output_type": "stream",
     "text": [
      "0:\ttest: 0.6967319\tbest: 0.6967319 (0)\ttotal: 13.4ms\tremaining: 21.5s\n",
      "300:\ttest: 0.7361320\tbest: 0.7361341 (296)\ttotal: 3.79s\tremaining: 16.5s\n",
      "600:\ttest: 0.7370175\tbest: 0.7370216 (598)\ttotal: 7.63s\tremaining: 12.8s\n",
      "900:\ttest: 0.7370247\tbest: 0.7371367 (823)\ttotal: 11s\tremaining: 8.61s\n",
      "1200:\ttest: 0.7372406\tbest: 0.7372407 (1198)\ttotal: 14.3s\tremaining: 4.87s\n",
      "1500:\ttest: 0.7372710\tbest: 0.7372878 (1476)\ttotal: 17.7s\tremaining: 1.28s\n",
      "1608:\ttest: 0.7373655\tbest: 0.7373655 (1608)\ttotal: 19s\tremaining: 0us\n",
      "bestTest = 0.7373654544\n",
      "bestIteration = 1608\n"
     ]
    },
    {
     "name": "stderr",
     "output_type": "stream",
     "text": [
      "[I 2025-02-17 16:02:51,358] Trial 9 finished with value: 0.7373654544353485 and parameters: {'iterations': 1609, 'depth': 4, 'learning_rate': 0.07000213751865492, 'l2_leaf_reg': 0.04374364439939081}. Best is trial 3 with value: 0.7375528216362.\n",
      "Default metric period is 5 because AUC is/are not implemented for GPU\n"
     ]
    },
    {
     "name": "stdout",
     "output_type": "stream",
     "text": [
      "0:\ttest: 0.7154495\tbest: 0.7154495 (0)\ttotal: 17.8ms\tremaining: 51.4s\n",
      "300:\ttest: 0.7362247\tbest: 0.7362247 (300)\ttotal: 5.24s\tremaining: 45.1s\n",
      "600:\ttest: 0.7374315\tbest: 0.7374557 (599)\ttotal: 10.3s\tremaining: 39.4s\n",
      "900:\ttest: 0.7373210\tbest: 0.7375224 (615)\ttotal: 15.5s\tremaining: 34.2s\n",
      "bestTest = 0.7375224233\n",
      "bestIteration = 615\n",
      "Shrink model to first 616 iterations.\n"
     ]
    },
    {
     "name": "stderr",
     "output_type": "stream",
     "text": [
      "[I 2025-02-17 16:03:08,617] Trial 10 finished with value: 0.7375224232673645 and parameters: {'iterations': 2891, 'depth': 6, 'learning_rate': 0.04002923340850424, 'l2_leaf_reg': 0.000128165534691859}. Best is trial 3 with value: 0.7375528216362.\n",
      "Default metric period is 5 because AUC is/are not implemented for GPU\n"
     ]
    },
    {
     "name": "stdout",
     "output_type": "stream",
     "text": [
      "0:\ttest: 0.7154495\tbest: 0.7154495 (0)\ttotal: 17.7ms\tremaining: 51.7s\n",
      "300:\ttest: 0.7367007\tbest: 0.7367084 (298)\ttotal: 5.11s\tremaining: 44.5s\n",
      "600:\ttest: 0.7380087\tbest: 0.7380087 (600)\ttotal: 10.1s\tremaining: 39s\n",
      "900:\ttest: 0.7376182\tbest: 0.7381439 (661)\ttotal: 15.3s\tremaining: 34.2s\n",
      "bestTest = 0.7381438911\n",
      "bestIteration = 661\n",
      "Shrink model to first 662 iterations.\n"
     ]
    },
    {
     "name": "stderr",
     "output_type": "stream",
     "text": [
      "[I 2025-02-17 16:03:26,467] Trial 11 finished with value: 0.7381438910961151 and parameters: {'iterations': 2920, 'depth': 6, 'learning_rate': 0.0395561372090833, 'l2_leaf_reg': 0.00011815814684318785}. Best is trial 11 with value: 0.7381438910961151.\n"
     ]
    },
    {
     "name": "stdout",
     "output_type": "stream",
     "text": [
      "저장 완료\n"
     ]
    },
    {
     "name": "stderr",
     "output_type": "stream",
     "text": [
      "Default metric period is 5 because AUC is/are not implemented for GPU\n"
     ]
    },
    {
     "name": "stdout",
     "output_type": "stream",
     "text": [
      "0:\ttest: 0.7154495\tbest: 0.7154495 (0)\ttotal: 18.4ms\tremaining: 54s\n",
      "300:\ttest: 0.7353547\tbest: 0.7353718 (291)\ttotal: 5.17s\tremaining: 45.3s\n",
      "600:\ttest: 0.7371531\tbest: 0.7371531 (600)\ttotal: 10.4s\tremaining: 40.4s\n",
      "900:\ttest: 0.7376675\tbest: 0.7376873 (892)\ttotal: 15.5s\tremaining: 35s\n",
      "1200:\ttest: 0.7375103\tbest: 0.7377061 (918)\ttotal: 20.6s\tremaining: 29.8s\n",
      "bestTest = 0.7377061248\n",
      "bestIteration = 918\n",
      "Shrink model to first 919 iterations.\n"
     ]
    },
    {
     "name": "stderr",
     "output_type": "stream",
     "text": [
      "[I 2025-02-17 16:03:48,867] Trial 12 finished with value: 0.7377061247825623 and parameters: {'iterations': 2937, 'depth': 6, 'learning_rate': 0.023778349384873828, 'l2_leaf_reg': 0.00011382014886547911}. Best is trial 11 with value: 0.7381438910961151.\n",
      "Default metric period is 5 because AUC is/are not implemented for GPU\n"
     ]
    },
    {
     "name": "stdout",
     "output_type": "stream",
     "text": [
      "0:\ttest: 0.7190979\tbest: 0.7190979 (0)\ttotal: 21.8ms\tremaining: 1m 4s\n",
      "300:\ttest: 0.7369965\tbest: 0.7369994 (295)\ttotal: 6.49s\tremaining: 57s\n",
      "600:\ttest: 0.7364321\tbest: 0.7370583 (333)\ttotal: 12.9s\tremaining: 50.5s\n"
     ]
    },
    {
     "name": "stderr",
     "output_type": "stream",
     "text": [
      "[I 2025-02-17 16:04:03,964] Trial 13 finished with value: 0.7370583117008209 and parameters: {'iterations': 2946, 'depth': 7, 'learning_rate': 0.05078015131801631, 'l2_leaf_reg': 0.00011612701649731215}. Best is trial 11 with value: 0.7381438910961151.\n"
     ]
    },
    {
     "name": "stdout",
     "output_type": "stream",
     "text": [
      "bestTest = 0.7370583117\n",
      "bestIteration = 333\n",
      "Shrink model to first 334 iterations.\n"
     ]
    },
    {
     "name": "stderr",
     "output_type": "stream",
     "text": [
      "Default metric period is 5 because AUC is/are not implemented for GPU\n"
     ]
    },
    {
     "name": "stdout",
     "output_type": "stream",
     "text": [
      "0:\ttest: 0.7154495\tbest: 0.7154495 (0)\ttotal: 19.1ms\tremaining: 50.4s\n",
      "300:\ttest: 0.7356250\tbest: 0.7356378 (298)\ttotal: 5.1s\tremaining: 39.7s\n",
      "600:\ttest: 0.7371023\tbest: 0.7371042 (598)\ttotal: 10.1s\tremaining: 34.4s\n",
      "900:\ttest: 0.7374318\tbest: 0.7374912 (891)\ttotal: 15.1s\tremaining: 29.3s\n",
      "bestTest = 0.7374911904\n",
      "bestIteration = 891\n",
      "Shrink model to first 892 iterations.\n"
     ]
    },
    {
     "name": "stderr",
     "output_type": "stream",
     "text": [
      "[I 2025-02-17 16:04:25,690] Trial 14 finished with value: 0.7374911904335022 and parameters: {'iterations': 2643, 'depth': 6, 'learning_rate': 0.0284422990604185, 'l2_leaf_reg': 0.0007320615656517497}. Best is trial 11 with value: 0.7381438910961151.\n",
      "Default metric period is 5 because AUC is/are not implemented for GPU\n"
     ]
    },
    {
     "name": "stdout",
     "output_type": "stream",
     "text": [
      "0:\ttest: 0.7154492\tbest: 0.7154492 (0)\ttotal: 17.5ms\tremaining: 45.1s\n",
      "300:\ttest: 0.7339268\tbest: 0.7339268 (300)\ttotal: 5.05s\tremaining: 38.3s\n",
      "600:\ttest: 0.7359433\tbest: 0.7359433 (600)\ttotal: 10.1s\tremaining: 33.4s\n",
      "900:\ttest: 0.7367454\tbest: 0.7367457 (898)\ttotal: 15.2s\tremaining: 28.4s\n",
      "1200:\ttest: 0.7372677\tbest: 0.7372808 (1185)\ttotal: 20.2s\tremaining: 23.3s\n",
      "1500:\ttest: 0.7375367\tbest: 0.7375367 (1500)\ttotal: 25.2s\tremaining: 18.2s\n",
      "1800:\ttest: 0.7377173\tbest: 0.7377246 (1736)\ttotal: 30.2s\tremaining: 13.1s\n",
      "2100:\ttest: 0.7378649\tbest: 0.7378885 (2076)\ttotal: 35.3s\tremaining: 8.11s\n",
      "2400:\ttest: 0.7380223\tbest: 0.7380223 (2400)\ttotal: 40.4s\tremaining: 3.06s\n",
      "2582:\ttest: 0.7380660\tbest: 0.7381091 (2540)\ttotal: 43.5s\tremaining: 0us\n",
      "bestTest = 0.7381091118\n",
      "bestIteration = 2540\n",
      "Shrink model to first 2541 iterations.\n"
     ]
    },
    {
     "name": "stderr",
     "output_type": "stream",
     "text": [
      "[I 2025-02-17 16:05:10,850] Trial 15 finished with value: 0.7381091117858887 and parameters: {'iterations': 2583, 'depth': 6, 'learning_rate': 0.01434752861806413, 'l2_leaf_reg': 0.8404435860635421}. Best is trial 11 with value: 0.7381438910961151.\n",
      "Default metric period is 5 because AUC is/are not implemented for GPU\n"
     ]
    },
    {
     "name": "stdout",
     "output_type": "stream",
     "text": [
      "0:\ttest: 0.7216930\tbest: 0.7216930 (0)\ttotal: 31.5ms\tremaining: 1m 20s\n",
      "300:\ttest: 0.7349156\tbest: 0.7349156 (300)\ttotal: 8.81s\tremaining: 1m 5s\n",
      "600:\ttest: 0.7368421\tbest: 0.7368448 (598)\ttotal: 17.6s\tremaining: 56.9s\n",
      "900:\ttest: 0.7377915\tbest: 0.7377936 (899)\ttotal: 26.5s\tremaining: 48.3s\n",
      "1200:\ttest: 0.7381364\tbest: 0.7381364 (1200)\ttotal: 35.2s\tremaining: 39.3s\n",
      "1500:\ttest: 0.7382192\tbest: 0.7382860 (1437)\ttotal: 44s\tremaining: 30.6s\n",
      "bestTest = 0.7382860482\n",
      "bestIteration = 1437\n",
      "Shrink model to first 1438 iterations.\n"
     ]
    },
    {
     "name": "stderr",
     "output_type": "stream",
     "text": [
      "[I 2025-02-17 16:06:03,414] Trial 16 finished with value: 0.7382860481739044 and parameters: {'iterations': 2544, 'depth': 8, 'learning_rate': 0.014116903087011697, 'l2_leaf_reg': 1.1045487630580906}. Best is trial 16 with value: 0.7382860481739044.\n"
     ]
    },
    {
     "name": "stdout",
     "output_type": "stream",
     "text": [
      "저장 완료\n"
     ]
    },
    {
     "name": "stderr",
     "output_type": "stream",
     "text": [
      "Default metric period is 5 because AUC is/are not implemented for GPU\n"
     ]
    },
    {
     "name": "stdout",
     "output_type": "stream",
     "text": [
      "0:\ttest: 0.7216926\tbest: 0.7216926 (0)\ttotal: 29.4ms\tremaining: 1m 12s\n",
      "300:\ttest: 0.7368222\tbest: 0.7368357 (298)\ttotal: 8.81s\tremaining: 1m 3s\n",
      "600:\ttest: 0.7374425\tbest: 0.7375917 (563)\ttotal: 17.5s\tremaining: 54.2s\n",
      "bestTest = 0.7375917137\n",
      "bestIteration = 563\n",
      "Shrink model to first 564 iterations.\n"
     ]
    },
    {
     "name": "stderr",
     "output_type": "stream",
     "text": [
      "[I 2025-02-17 16:06:29,968] Trial 17 finished with value: 0.7375917136669159 and parameters: {'iterations': 2469, 'depth': 8, 'learning_rate': 0.040221336184918466, 'l2_leaf_reg': 1.7515307718683315}. Best is trial 16 with value: 0.7382860481739044.\n",
      "Default metric period is 5 because AUC is/are not implemented for GPU\n"
     ]
    },
    {
     "name": "stdout",
     "output_type": "stream",
     "text": [
      "0:\ttest: 0.7216909\tbest: 0.7216909 (0)\ttotal: 29.3ms\tremaining: 1m 8s\n",
      "300:\ttest: 0.7365852\tbest: 0.7369433 (252)\ttotal: 8.75s\tremaining: 59.6s\n",
      "bestTest = 0.7369433343\n",
      "bestIteration = 252\n",
      "Shrink model to first 253 iterations.\n"
     ]
    },
    {
     "name": "stderr",
     "output_type": "stream",
     "text": [
      "[I 2025-02-17 16:06:47,521] Trial 18 finished with value: 0.7369433343410492 and parameters: {'iterations': 2352, 'depth': 8, 'learning_rate': 0.06109570455962112, 'l2_leaf_reg': 0.07264376395834626}. Best is trial 16 with value: 0.7382860481739044.\n",
      "Default metric period is 5 because AUC is/are not implemented for GPU\n"
     ]
    },
    {
     "name": "stdout",
     "output_type": "stream",
     "text": [
      "0:\ttest: 0.7233575\tbest: 0.7233575 (0)\ttotal: 43.2ms\tremaining: 1m 59s\n",
      "300:\ttest: 0.7373917\tbest: 0.7377990 (196)\ttotal: 12.9s\tremaining: 1m 46s\n",
      "bestTest = 0.7377990484\n",
      "bestIteration = 196\n",
      "Shrink model to first 197 iterations.\n"
     ]
    },
    {
     "name": "stderr",
     "output_type": "stream",
     "text": [
      "[I 2025-02-17 16:07:10,320] Trial 19 finished with value: 0.7377990484237671 and parameters: {'iterations': 2772, 'depth': 9, 'learning_rate': 0.08614192101110421, 'l2_leaf_reg': 4.327382243704863}. Best is trial 16 with value: 0.7382860481739044.\n"
     ]
    },
    {
     "name": "stdout",
     "output_type": "stream",
     "text": [
      "Cat val score : 0.7382861318323425\n",
      "LGBM val score : 0.7378922278606337\n",
      "Ensemble val score : 0.7383914079679295\n"
     ]
    },
    {
     "name": "stderr",
     "output_type": "stream",
     "text": [
      "[I 2025-02-17 16:07:20,806] A new study created in memory with name: no-name-ba7328f7-2a5a-411d-98b9-2f54c60aac90\n"
     ]
    },
    {
     "name": "stdout",
     "output_type": "stream",
     "text": [
      "==================================================\n"
     ]
    },
    {
     "name": "stderr",
     "output_type": "stream",
     "text": [
      "Default metric period is 5 because AUC is/are not implemented for GPU\n"
     ]
    },
    {
     "name": "stdout",
     "output_type": "stream",
     "text": [
      "0:\ttest: 0.7253973\tbest: 0.7253973 (0)\ttotal: 72.4ms\tremaining: 2m 6s\n",
      "300:\ttest: 0.7310510\tbest: 0.7348126 (109)\ttotal: 20s\tremaining: 1m 36s\n",
      "bestTest = 0.7348126173\n",
      "bestIteration = 109\n",
      "Shrink model to first 110 iterations.\n"
     ]
    },
    {
     "name": "stderr",
     "output_type": "stream",
     "text": [
      "[I 2025-02-17 16:07:49,304] Trial 0 finished with value: 0.7348126173019409 and parameters: {'iterations': 1749, 'depth': 10, 'learning_rate': 0.07453942447208349, 'l2_leaf_reg': 0.39079671568228835}. Best is trial 0 with value: 0.7348126173019409.\n"
     ]
    },
    {
     "name": "stdout",
     "output_type": "stream",
     "text": [
      "저장 완료\n"
     ]
    },
    {
     "name": "stderr",
     "output_type": "stream",
     "text": [
      "Default metric period is 5 because AUC is/are not implemented for GPU\n"
     ]
    },
    {
     "name": "stdout",
     "output_type": "stream",
     "text": [
      "0:\ttest: 0.7077027\tbest: 0.7077027 (0)\ttotal: 14.1ms\tremaining: 18.5s\n",
      "300:\ttest: 0.7318092\tbest: 0.7318092 (300)\ttotal: 3.98s\tremaining: 13.4s\n",
      "600:\ttest: 0.7343230\tbest: 0.7343230 (600)\ttotal: 7.96s\tremaining: 9.41s\n",
      "900:\ttest: 0.7352919\tbest: 0.7352919 (900)\ttotal: 12s\tremaining: 5.47s\n",
      "1200:\ttest: 0.7358332\tbest: 0.7358333 (1199)\ttotal: 16s\tremaining: 1.48s\n",
      "1311:\ttest: 0.7360182\tbest: 0.7360182 (1311)\ttotal: 17.5s\tremaining: 0us\n",
      "bestTest = 0.736018151\n",
      "bestIteration = 1311\n"
     ]
    },
    {
     "name": "stderr",
     "output_type": "stream",
     "text": [
      "[I 2025-02-17 16:08:08,308] Trial 1 finished with value: 0.7360181510448456 and parameters: {'iterations': 1312, 'depth': 5, 'learning_rate': 0.010517943155978949, 'l2_leaf_reg': 15.741890047456648}. Best is trial 1 with value: 0.7360181510448456.\n"
     ]
    },
    {
     "name": "stdout",
     "output_type": "stream",
     "text": [
      "저장 완료\n"
     ]
    },
    {
     "name": "stderr",
     "output_type": "stream",
     "text": [
      "Default metric period is 5 because AUC is/are not implemented for GPU\n"
     ]
    },
    {
     "name": "stdout",
     "output_type": "stream",
     "text": [
      "0:\ttest: 0.7244656\tbest: 0.7244656 (0)\ttotal: 30.1ms\tremaining: 1m 6s\n",
      "300:\ttest: 0.7325440\tbest: 0.7325440 (300)\ttotal: 8.76s\tremaining: 55.3s\n",
      "600:\ttest: 0.7347928\tbest: 0.7347928 (600)\ttotal: 17.4s\tremaining: 46.5s\n",
      "900:\ttest: 0.7358028\tbest: 0.7358028 (900)\ttotal: 26.2s\tremaining: 37.9s\n",
      "1200:\ttest: 0.7362759\tbest: 0.7362766 (1199)\ttotal: 35s\tremaining: 29.2s\n",
      "1500:\ttest: 0.7365869\tbest: 0.7365890 (1498)\ttotal: 43.8s\tremaining: 20.5s\n",
      "1800:\ttest: 0.7368446\tbest: 0.7368446 (1800)\ttotal: 52.6s\tremaining: 11.7s\n",
      "2100:\ttest: 0.7370100\tbest: 0.7370217 (2090)\ttotal: 1m 1s\tremaining: 2.95s\n",
      "2201:\ttest: 0.7370446\tbest: 0.7370518 (2178)\ttotal: 1m 4s\tremaining: 0us\n",
      "bestTest = 0.7370518446\n",
      "bestIteration = 2178\n",
      "Shrink model to first 2179 iterations.\n"
     ]
    },
    {
     "name": "stderr",
     "output_type": "stream",
     "text": [
      "[I 2025-02-17 16:09:14,301] Trial 2 finished with value: 0.7370518445968628 and parameters: {'iterations': 2202, 'depth': 8, 'learning_rate': 0.006955526958101232, 'l2_leaf_reg': 65.98711072054076}. Best is trial 2 with value: 0.7370518445968628.\n"
     ]
    },
    {
     "name": "stdout",
     "output_type": "stream",
     "text": [
      "저장 완료\n"
     ]
    },
    {
     "name": "stderr",
     "output_type": "stream",
     "text": [
      "Default metric period is 5 because AUC is/are not implemented for GPU\n"
     ]
    },
    {
     "name": "stdout",
     "output_type": "stream",
     "text": [
      "0:\ttest: 0.7077072\tbest: 0.7077072 (0)\ttotal: 14.5ms\tremaining: 38.7s\n",
      "300:\ttest: 0.7342322\tbest: 0.7342322 (300)\ttotal: 4.17s\tremaining: 32.8s\n",
      "600:\ttest: 0.7356212\tbest: 0.7356212 (600)\ttotal: 8.25s\tremaining: 28.3s\n",
      "900:\ttest: 0.7362301\tbest: 0.7362474 (887)\ttotal: 12.2s\tremaining: 23.9s\n",
      "1200:\ttest: 0.7365923\tbest: 0.7366055 (1197)\ttotal: 16.2s\tremaining: 19.7s\n",
      "1500:\ttest: 0.7367284\tbest: 0.7367575 (1304)\ttotal: 20.2s\tremaining: 15.7s\n",
      "1800:\ttest: 0.7366750\tbest: 0.7368045 (1623)\ttotal: 24.2s\tremaining: 11.6s\n",
      "bestTest = 0.7368044853\n",
      "bestIteration = 1623\n",
      "Shrink model to first 1624 iterations.\n"
     ]
    },
    {
     "name": "stderr",
     "output_type": "stream",
     "text": [
      "[I 2025-02-17 16:09:41,656] Trial 3 finished with value: 0.7368044853210449 and parameters: {'iterations': 2665, 'depth': 5, 'learning_rate': 0.02227337188467456, 'l2_leaf_reg': 0.0012601639723276807}. Best is trial 2 with value: 0.7370518445968628.\n",
      "Default metric period is 5 because AUC is/are not implemented for GPU\n"
     ]
    },
    {
     "name": "stdout",
     "output_type": "stream",
     "text": [
      "0:\ttest: 0.7214380\tbest: 0.7214380 (0)\ttotal: 22.6ms\tremaining: 36.4s\n",
      "300:\ttest: 0.7358960\tbest: 0.7360452 (288)\ttotal: 6.59s\tremaining: 28.6s\n"
     ]
    },
    {
     "name": "stderr",
     "output_type": "stream",
     "text": [
      "[I 2025-02-17 16:09:55,948] Trial 4 finished with value: 0.736045241355896 and parameters: {'iterations': 1608, 'depth': 7, 'learning_rate': 0.046034776771001, 'l2_leaf_reg': 0.005589524205217926}. Best is trial 2 with value: 0.7370518445968628.\n"
     ]
    },
    {
     "name": "stdout",
     "output_type": "stream",
     "text": [
      "bestTest = 0.7360452414\n",
      "bestIteration = 288\n",
      "Shrink model to first 289 iterations.\n"
     ]
    },
    {
     "name": "stderr",
     "output_type": "stream",
     "text": [
      "Default metric period is 5 because AUC is/are not implemented for GPU\n"
     ]
    },
    {
     "name": "stdout",
     "output_type": "stream",
     "text": [
      "0:\ttest: 0.7060946\tbest: 0.7060946 (0)\ttotal: 11.5ms\tremaining: 25.6s\n",
      "300:\ttest: 0.7342808\tbest: 0.7342808 (300)\ttotal: 3.25s\tremaining: 20.8s\n",
      "600:\ttest: 0.7356209\tbest: 0.7356284 (596)\ttotal: 6.49s\tremaining: 17.5s\n",
      "900:\ttest: 0.7360160\tbest: 0.7360271 (885)\ttotal: 9.78s\tremaining: 14.4s\n",
      "1200:\ttest: 0.7362441\tbest: 0.7362626 (1184)\ttotal: 13s\tremaining: 11.1s\n",
      "1500:\ttest: 0.7363664\tbest: 0.7363665 (1454)\ttotal: 16.3s\tremaining: 7.86s\n",
      "1800:\ttest: 0.7364221\tbest: 0.7364476 (1646)\ttotal: 19.6s\tremaining: 4.59s\n",
      "2100:\ttest: 0.7364014\tbest: 0.7364499 (1849)\ttotal: 22.8s\tremaining: 1.33s\n",
      "bestTest = 0.7364498675\n",
      "bestIteration = 1849\n",
      "Shrink model to first 1850 iterations.\n"
     ]
    },
    {
     "name": "stderr",
     "output_type": "stream",
     "text": [
      "[I 2025-02-17 16:10:20,804] Trial 5 finished with value: 0.7364498674869537 and parameters: {'iterations': 2224, 'depth': 4, 'learning_rate': 0.032753741610845724, 'l2_leaf_reg': 0.01578232781079559}. Best is trial 2 with value: 0.7370518445968628.\n",
      "Default metric period is 5 because AUC is/are not implemented for GPU\n"
     ]
    },
    {
     "name": "stdout",
     "output_type": "stream",
     "text": [
      "0:\ttest: 0.7257199\tbest: 0.7257199 (0)\ttotal: 44ms\tremaining: 1m 24s\n",
      "300:\ttest: 0.7359628\tbest: 0.7360796 (280)\ttotal: 13s\tremaining: 1m 9s\n",
      "600:\ttest: 0.7361191\tbest: 0.7363487 (384)\ttotal: 26s\tremaining: 56.6s\n",
      "bestTest = 0.7363486886\n",
      "bestIteration = 384\n",
      "Shrink model to first 385 iterations.\n"
     ]
    },
    {
     "name": "stderr",
     "output_type": "stream",
     "text": [
      "[I 2025-02-17 16:10:51,886] Trial 6 finished with value: 0.7363486886024475 and parameters: {'iterations': 1912, 'depth': 9, 'learning_rate': 0.023969009305044177, 'l2_leaf_reg': 0.12173252504194051}. Best is trial 2 with value: 0.7370518445968628.\n",
      "Default metric period is 5 because AUC is/are not implemented for GPU\n"
     ]
    },
    {
     "name": "stdout",
     "output_type": "stream",
     "text": [
      "0:\ttest: 0.7060946\tbest: 0.7060946 (0)\ttotal: 11.6ms\tremaining: 25.3s\n",
      "300:\ttest: 0.7355896\tbest: 0.7356125 (295)\ttotal: 3.23s\tremaining: 20.2s\n",
      "600:\ttest: 0.7361363\tbest: 0.7361794 (571)\ttotal: 6.51s\tremaining: 17.2s\n",
      "900:\ttest: 0.7360023\tbest: 0.7361962 (757)\ttotal: 9.74s\tremaining: 13.9s\n"
     ]
    },
    {
     "name": "stderr",
     "output_type": "stream",
     "text": [
      "[I 2025-02-17 16:11:04,790] Trial 7 finished with value: 0.7361961901187897 and parameters: {'iterations': 2185, 'depth': 4, 'learning_rate': 0.06271676093063665, 'l2_leaf_reg': 0.0010547383621352044}. Best is trial 2 with value: 0.7370518445968628.\n"
     ]
    },
    {
     "name": "stdout",
     "output_type": "stream",
     "text": [
      "bestTest = 0.7361961901\n",
      "bestIteration = 757\n",
      "Shrink model to first 758 iterations.\n"
     ]
    },
    {
     "name": "stderr",
     "output_type": "stream",
     "text": [
      "Default metric period is 5 because AUC is/are not implemented for GPU\n"
     ]
    },
    {
     "name": "stdout",
     "output_type": "stream",
     "text": [
      "0:\ttest: 0.7265585\tbest: 0.7265585 (0)\ttotal: 68.1ms\tremaining: 1m 16s\n",
      "300:\ttest: 0.7326830\tbest: 0.7353524 (106)\ttotal: 20.1s\tremaining: 55.4s\n",
      "bestTest = 0.7353524268\n",
      "bestIteration = 106\n",
      "Shrink model to first 107 iterations.\n"
     ]
    },
    {
     "name": "stderr",
     "output_type": "stream",
     "text": [
      "[I 2025-02-17 16:11:33,528] Trial 8 finished with value: 0.7353524267673492 and parameters: {'iterations': 1130, 'depth': 10, 'learning_rate': 0.09673504314208314, 'l2_leaf_reg': 7.085721663941605}. Best is trial 2 with value: 0.7370518445968628.\n",
      "Default metric period is 5 because AUC is/are not implemented for GPU\n"
     ]
    },
    {
     "name": "stdout",
     "output_type": "stream",
     "text": [
      "0:\ttest: 0.7060946\tbest: 0.7060946 (0)\ttotal: 11.5ms\tremaining: 18.5s\n",
      "300:\ttest: 0.7358875\tbest: 0.7359143 (285)\ttotal: 3.22s\tremaining: 14s\n",
      "600:\ttest: 0.7362846\tbest: 0.7364091 (570)\ttotal: 6.41s\tremaining: 10.8s\n",
      "bestTest = 0.7364090681\n",
      "bestIteration = 570\n",
      "Shrink model to first 571 iterations.\n"
     ]
    },
    {
     "name": "stderr",
     "output_type": "stream",
     "text": [
      "[I 2025-02-17 16:11:44,324] Trial 9 finished with value: 0.736409068107605 and parameters: {'iterations': 1609, 'depth': 4, 'learning_rate': 0.07000213751865492, 'l2_leaf_reg': 0.04374364439939081}. Best is trial 2 with value: 0.7370518445968628.\n",
      "Default metric period is 5 because AUC is/are not implemented for GPU\n"
     ]
    },
    {
     "name": "stdout",
     "output_type": "stream",
     "text": [
      "0:\ttest: 0.7244489\tbest: 0.7244489 (0)\ttotal: 29.7ms\tremaining: 1m 26s\n",
      "300:\ttest: 0.7317386\tbest: 0.7317386 (300)\ttotal: 8.76s\tremaining: 1m 15s\n",
      "600:\ttest: 0.7342952\tbest: 0.7342952 (600)\ttotal: 17.5s\tremaining: 1m 7s\n",
      "900:\ttest: 0.7353465\tbest: 0.7353473 (899)\ttotal: 26.3s\tremaining: 58.5s\n",
      "1200:\ttest: 0.7358837\tbest: 0.7358839 (1197)\ttotal: 35.1s\tremaining: 49.9s\n",
      "1500:\ttest: 0.7362482\tbest: 0.7362491 (1499)\ttotal: 43.9s\tremaining: 41.2s\n",
      "1800:\ttest: 0.7364757\tbest: 0.7364779 (1799)\ttotal: 52.8s\tremaining: 32.4s\n",
      "2100:\ttest: 0.7366818\tbest: 0.7366818 (2100)\ttotal: 1m 1s\tremaining: 23.7s\n",
      "2400:\ttest: 0.7368367\tbest: 0.7368413 (2397)\ttotal: 1m 10s\tremaining: 14.9s\n",
      "2700:\ttest: 0.7369456\tbest: 0.7369472 (2696)\ttotal: 1m 19s\tremaining: 6.07s\n",
      "2907:\ttest: 0.7370600\tbest: 0.7370605 (2904)\ttotal: 1m 25s\tremaining: 0us\n",
      "bestTest = 0.7370604873\n",
      "bestIteration = 2904\n",
      "Shrink model to first 2905 iterations.\n"
     ]
    },
    {
     "name": "stderr",
     "output_type": "stream",
     "text": [
      "[I 2025-02-17 16:13:11,305] Trial 10 finished with value: 0.7370604872703552 and parameters: {'iterations': 2908, 'depth': 8, 'learning_rate': 0.005716995335047832, 'l2_leaf_reg': 53.77119408946009}. Best is trial 10 with value: 0.7370604872703552.\n"
     ]
    },
    {
     "name": "stdout",
     "output_type": "stream",
     "text": [
      "저장 완료\n"
     ]
    },
    {
     "name": "stderr",
     "output_type": "stream",
     "text": [
      "Default metric period is 5 because AUC is/are not implemented for GPU\n"
     ]
    },
    {
     "name": "stdout",
     "output_type": "stream",
     "text": [
      "0:\ttest: 0.7244800\tbest: 0.7244800 (0)\ttotal: 31ms\tremaining: 1m 30s\n",
      "300:\ttest: 0.7321676\tbest: 0.7321676 (300)\ttotal: 8.73s\tremaining: 1m 16s\n",
      "600:\ttest: 0.7345778\tbest: 0.7345778 (600)\ttotal: 17.4s\tremaining: 1m 7s\n",
      "900:\ttest: 0.7356176\tbest: 0.7356202 (899)\ttotal: 26.1s\tremaining: 58.9s\n",
      "1200:\ttest: 0.7361224\tbest: 0.7361224 (1200)\ttotal: 35s\tremaining: 50.4s\n",
      "1500:\ttest: 0.7364368\tbest: 0.7364379 (1497)\ttotal: 43.9s\tremaining: 41.8s\n",
      "1800:\ttest: 0.7366604\tbest: 0.7366604 (1800)\ttotal: 52.7s\tremaining: 33s\n",
      "2100:\ttest: 0.7368848\tbest: 0.7368857 (2098)\ttotal: 1m 1s\tremaining: 24.2s\n",
      "2400:\ttest: 0.7370604\tbest: 0.7370605 (2398)\ttotal: 1m 10s\tremaining: 15.4s\n",
      "2700:\ttest: 0.7371510\tbest: 0.7371519 (2693)\ttotal: 1m 18s\tremaining: 6.68s\n",
      "2929:\ttest: 0.7372262\tbest: 0.7372269 (2928)\ttotal: 1m 25s\tremaining: 0us\n",
      "bestTest = 0.7372269034\n",
      "bestIteration = 2928\n",
      "Shrink model to first 2929 iterations.\n"
     ]
    },
    {
     "name": "stderr",
     "output_type": "stream",
     "text": [
      "[I 2025-02-17 16:14:38,435] Trial 11 finished with value: 0.7372269034385681 and parameters: {'iterations': 2930, 'depth': 8, 'learning_rate': 0.006402408540446867, 'l2_leaf_reg': 83.11832707510945}. Best is trial 11 with value: 0.7372269034385681.\n"
     ]
    },
    {
     "name": "stdout",
     "output_type": "stream",
     "text": [
      "저장 완료\n"
     ]
    },
    {
     "name": "stderr",
     "output_type": "stream",
     "text": [
      "Default metric period is 5 because AUC is/are not implemented for GPU\n"
     ]
    },
    {
     "name": "stdout",
     "output_type": "stream",
     "text": [
      "0:\ttest: 0.7214636\tbest: 0.7214636 (0)\ttotal: 25.4ms\tremaining: 1m 14s\n",
      "300:\ttest: 0.7362774\tbest: 0.7362990 (292)\ttotal: 6.55s\tremaining: 57.5s\n",
      "600:\ttest: 0.7367753\tbest: 0.7368293 (498)\ttotal: 13s\tremaining: 50.5s\n",
      "bestTest = 0.7368293107\n",
      "bestIteration = 498\n",
      "Shrink model to first 499 iterations.\n"
     ]
    },
    {
     "name": "stderr",
     "output_type": "stream",
     "text": [
      "[I 2025-02-17 16:14:57,019] Trial 12 finished with value: 0.7368293106555939 and parameters: {'iterations': 2941, 'depth': 7, 'learning_rate': 0.04193178467290181, 'l2_leaf_reg': 1.5372567535251158}. Best is trial 11 with value: 0.7372269034385681.\n",
      "Default metric period is 5 because AUC is/are not implemented for GPU\n"
     ]
    },
    {
     "name": "stdout",
     "output_type": "stream",
     "text": [
      "0:\ttest: 0.7244656\tbest: 0.7244656 (0)\ttotal: 29.4ms\tremaining: 1m 17s\n",
      "300:\ttest: 0.7331473\tbest: 0.7331473 (300)\ttotal: 8.82s\tremaining: 1m 8s\n",
      "600:\ttest: 0.7351427\tbest: 0.7351427 (600)\ttotal: 17.5s\tremaining: 59.2s\n",
      "900:\ttest: 0.7359613\tbest: 0.7359613 (900)\ttotal: 26.3s\tremaining: 50.6s\n",
      "1200:\ttest: 0.7363485\tbest: 0.7363485 (1200)\ttotal: 35.1s\tremaining: 42s\n",
      "1500:\ttest: 0.7366742\tbest: 0.7366746 (1498)\ttotal: 43.8s\tremaining: 33.2s\n",
      "1800:\ttest: 0.7369767\tbest: 0.7369767 (1800)\ttotal: 52.5s\tremaining: 24.4s\n",
      "2100:\ttest: 0.7371058\tbest: 0.7371095 (2097)\ttotal: 1m 1s\tremaining: 15.6s\n",
      "2400:\ttest: 0.7371626\tbest: 0.7371694 (2369)\ttotal: 1m 9s\tremaining: 6.9s\n",
      "2637:\ttest: 0.7371881\tbest: 0.7371952 (2448)\ttotal: 1m 16s\tremaining: 0us\n",
      "bestTest = 0.7371951938\n",
      "bestIteration = 2448\n",
      "Shrink model to first 2449 iterations.\n"
     ]
    },
    {
     "name": "stderr",
     "output_type": "stream",
     "text": [
      "[I 2025-02-17 16:16:15,578] Trial 13 finished with value: 0.7371951937675476 and parameters: {'iterations': 2638, 'depth': 8, 'learning_rate': 0.007940569964231542, 'l2_leaf_reg': 65.5477287928456}. Best is trial 11 with value: 0.7372269034385681.\n",
      "Default metric period is 5 because AUC is/are not implemented for GPU\n"
     ]
    },
    {
     "name": "stdout",
     "output_type": "stream",
     "text": [
      "0:\ttest: 0.7243825\tbest: 0.7243825 (0)\ttotal: 30.3ms\tremaining: 1m 18s\n",
      "300:\ttest: 0.7356971\tbest: 0.7356971 (300)\ttotal: 8.92s\tremaining: 1m 7s\n",
      "600:\ttest: 0.7365921\tbest: 0.7365921 (600)\ttotal: 17.8s\tremaining: 59.1s\n",
      "900:\ttest: 0.7369898\tbest: 0.7370167 (897)\ttotal: 26.6s\tremaining: 50s\n",
      "1200:\ttest: 0.7367601\tbest: 0.7370786 (941)\ttotal: 35.4s\tremaining: 41.1s\n",
      "bestTest = 0.7370785773\n",
      "bestIteration = 941\n",
      "Shrink model to first 942 iterations.\n"
     ]
    },
    {
     "name": "stderr",
     "output_type": "stream",
     "text": [
      "[I 2025-02-17 16:16:53,741] Trial 14 finished with value: 0.7370785772800446 and parameters: {'iterations': 2594, 'depth': 8, 'learning_rate': 0.02182047604346704, 'l2_leaf_reg': 2.7018508933730327}. Best is trial 11 with value: 0.7372269034385681.\n",
      "Default metric period is 5 because AUC is/are not implemented for GPU\n"
     ]
    },
    {
     "name": "stdout",
     "output_type": "stream",
     "text": [
      "0:\ttest: 0.7163130\tbest: 0.7163130 (0)\ttotal: 18.6ms\tremaining: 48.1s\n",
      "300:\ttest: 0.7353805\tbest: 0.7353805 (300)\ttotal: 5.1s\tremaining: 38.7s\n",
      "600:\ttest: 0.7366245\tbest: 0.7366422 (595)\ttotal: 10.1s\tremaining: 33.4s\n",
      "900:\ttest: 0.7369230\tbest: 0.7369274 (890)\ttotal: 15.2s\tremaining: 28.3s\n",
      "1200:\ttest: 0.7371102\tbest: 0.7371221 (1197)\ttotal: 20.2s\tremaining: 23.2s\n",
      "bestTest = 0.7371220589\n",
      "bestIteration = 1197\n",
      "Shrink model to first 1198 iterations.\n"
     ]
    },
    {
     "name": "stderr",
     "output_type": "stream",
     "text": [
      "[I 2025-02-17 16:17:20,476] Trial 15 finished with value: 0.7371220588684082 and parameters: {'iterations': 2583, 'depth': 6, 'learning_rate': 0.02945133331652104, 'l2_leaf_reg': 17.018635601186592}. Best is trial 11 with value: 0.7372269034385681.\n",
      "Default metric period is 5 because AUC is/are not implemented for GPU\n"
     ]
    },
    {
     "name": "stdout",
     "output_type": "stream",
     "text": [
      "0:\ttest: 0.7259449\tbest: 0.7259449 (0)\ttotal: 43.2ms\tremaining: 1m 45s\n",
      "300:\ttest: 0.7351761\tbest: 0.7351761 (300)\ttotal: 12.9s\tremaining: 1m 31s\n",
      "600:\ttest: 0.7364570\tbest: 0.7364740 (590)\ttotal: 25.8s\tremaining: 1m 19s\n",
      "900:\ttest: 0.7368393\tbest: 0.7368497 (898)\ttotal: 38.7s\tremaining: 1m 6s\n",
      "1200:\ttest: 0.7370970\tbest: 0.7370970 (1200)\ttotal: 51.7s\tremaining: 53.6s\n",
      "1500:\ttest: 0.7371320\tbest: 0.7371917 (1409)\ttotal: 1m 4s\tremaining: 40.7s\n",
      "bestTest = 0.7371917069\n",
      "bestIteration = 1409\n",
      "Shrink model to first 1410 iterations.\n"
     ]
    },
    {
     "name": "stderr",
     "output_type": "stream",
     "text": [
      "[I 2025-02-17 16:18:35,790] Trial 16 finished with value: 0.7371917068958282 and parameters: {'iterations': 2447, 'depth': 9, 'learning_rate': 0.01538472547421383, 'l2_leaf_reg': 94.64533014403676}. Best is trial 11 with value: 0.7372269034385681.\n",
      "Default metric period is 5 because AUC is/are not implemented for GPU\n"
     ]
    },
    {
     "name": "stdout",
     "output_type": "stream",
     "text": [
      "0:\ttest: 0.7256692\tbest: 0.7256692 (0)\ttotal: 42.5ms\tremaining: 2m 6s\n",
      "300:\ttest: 0.7352546\tbest: 0.7357930 (173)\ttotal: 13s\tremaining: 1m 55s\n",
      "bestTest = 0.7357929647\n",
      "bestIteration = 173\n",
      "Shrink model to first 174 iterations.\n"
     ]
    },
    {
     "name": "stderr",
     "output_type": "stream",
     "text": [
      "[I 2025-02-17 16:18:57,683] Trial 17 finished with value: 0.7357929646968842 and parameters: {'iterations': 2979, 'depth': 9, 'learning_rate': 0.03605925570347782, 'l2_leaf_reg': 0.00016260154106128273}. Best is trial 11 with value: 0.7372269034385681.\n",
      "Default metric period is 5 because AUC is/are not implemented for GPU\n"
     ]
    },
    {
     "name": "stdout",
     "output_type": "stream",
     "text": [
      "0:\ttest: 0.7163350\tbest: 0.7163350 (0)\ttotal: 18.1ms\tremaining: 49.2s\n",
      "300:\ttest: 0.7366251\tbest: 0.7366251 (300)\ttotal: 5.26s\tremaining: 42.3s\n",
      "600:\ttest: 0.7368675\tbest: 0.7368723 (599)\ttotal: 10.3s\tremaining: 36.5s\n",
      "bestTest = 0.7368723154\n",
      "bestIteration = 599\n",
      "Shrink model to first 600 iterations.\n"
     ]
    },
    {
     "name": "stderr",
     "output_type": "stream",
     "text": [
      "[I 2025-02-17 16:19:14,802] Trial 18 finished with value: 0.7368723154067993 and parameters: {'iterations': 2720, 'depth': 6, 'learning_rate': 0.05222311239303098, 'l2_leaf_reg': 0.7013678302835362}. Best is trial 11 with value: 0.7372269034385681.\n",
      "Default metric period is 5 because AUC is/are not implemented for GPU\n"
     ]
    },
    {
     "name": "stdout",
     "output_type": "stream",
     "text": [
      "0:\ttest: 0.7243826\tbest: 0.7243826 (0)\ttotal: 31.6ms\tremaining: 1m 15s\n",
      "300:\ttest: 0.7360243\tbest: 0.7366990 (229)\ttotal: 8.93s\tremaining: 1m 2s\n",
      "bestTest = 0.7366990447\n",
      "bestIteration = 229\n",
      "Shrink model to first 230 iterations.\n"
     ]
    },
    {
     "name": "stderr",
     "output_type": "stream",
     "text": [
      "[I 2025-02-17 16:19:32,083] Trial 19 finished with value: 0.7366990447044373 and parameters: {'iterations': 2395, 'depth': 8, 'learning_rate': 0.09179224566434405, 'l2_leaf_reg': 6.770499390711931}. Best is trial 11 with value: 0.7372269034385681.\n"
     ]
    },
    {
     "name": "stdout",
     "output_type": "stream",
     "text": [
      "Cat val score : 0.7372268463104066\n",
      "LGBM val score : 0.7371349163234207\n",
      "Ensemble val score : 0.737396625521826\n"
     ]
    },
    {
     "name": "stderr",
     "output_type": "stream",
     "text": [
      "[I 2025-02-17 16:19:44,771] A new study created in memory with name: no-name-d1c5f96f-ad61-40d9-85bd-9eaef9cb3493\n"
     ]
    },
    {
     "name": "stdout",
     "output_type": "stream",
     "text": [
      "==================================================\n"
     ]
    },
    {
     "name": "stderr",
     "output_type": "stream",
     "text": [
      "Default metric period is 5 because AUC is/are not implemented for GPU\n"
     ]
    },
    {
     "name": "stdout",
     "output_type": "stream",
     "text": [
      "0:\ttest: 0.7285603\tbest: 0.7285603 (0)\ttotal: 72ms\tremaining: 2m 5s\n",
      "300:\ttest: 0.7342030\tbest: 0.7390585 (61)\ttotal: 20s\tremaining: 1m 36s\n",
      "bestTest = 0.7390585244\n",
      "bestIteration = 61\n",
      "Shrink model to first 62 iterations.\n"
     ]
    },
    {
     "name": "stderr",
     "output_type": "stream",
     "text": [
      "[I 2025-02-17 16:20:10,172] Trial 0 finished with value: 0.7390585243701935 and parameters: {'iterations': 1749, 'depth': 10, 'learning_rate': 0.07453942447208349, 'l2_leaf_reg': 0.39079671568228835}. Best is trial 0 with value: 0.7390585243701935.\n"
     ]
    },
    {
     "name": "stdout",
     "output_type": "stream",
     "text": [
      "저장 완료\n"
     ]
    },
    {
     "name": "stderr",
     "output_type": "stream",
     "text": [
      "Default metric period is 5 because AUC is/are not implemented for GPU\n"
     ]
    },
    {
     "name": "stdout",
     "output_type": "stream",
     "text": [
      "0:\ttest: 0.7144840\tbest: 0.7144840 (0)\ttotal: 14.3ms\tremaining: 18.7s\n",
      "300:\ttest: 0.7363128\tbest: 0.7363128 (300)\ttotal: 4.05s\tremaining: 13.6s\n",
      "600:\ttest: 0.7386160\tbest: 0.7386160 (600)\ttotal: 8.1s\tremaining: 9.58s\n",
      "900:\ttest: 0.7394619\tbest: 0.7394619 (900)\ttotal: 12.2s\tremaining: 5.55s\n",
      "1200:\ttest: 0.7398275\tbest: 0.7398297 (1181)\ttotal: 16.3s\tremaining: 1.5s\n",
      "1311:\ttest: 0.7399084\tbest: 0.7399094 (1310)\ttotal: 17.8s\tremaining: 0us\n",
      "bestTest = 0.7399093509\n",
      "bestIteration = 1310\n",
      "Shrink model to first 1311 iterations.\n"
     ]
    },
    {
     "name": "stderr",
     "output_type": "stream",
     "text": [
      "[I 2025-02-17 16:20:29,448] Trial 1 finished with value: 0.7399093508720398 and parameters: {'iterations': 1312, 'depth': 5, 'learning_rate': 0.010517943155978949, 'l2_leaf_reg': 15.741890047456648}. Best is trial 1 with value: 0.7399093508720398.\n"
     ]
    },
    {
     "name": "stdout",
     "output_type": "stream",
     "text": [
      "저장 완료\n"
     ]
    },
    {
     "name": "stderr",
     "output_type": "stream",
     "text": [
      "Default metric period is 5 because AUC is/are not implemented for GPU\n"
     ]
    },
    {
     "name": "stdout",
     "output_type": "stream",
     "text": [
      "0:\ttest: 0.7274789\tbest: 0.7274789 (0)\ttotal: 29.5ms\tremaining: 1m 5s\n",
      "300:\ttest: 0.7372263\tbest: 0.7372263 (300)\ttotal: 8.81s\tremaining: 55.7s\n",
      "600:\ttest: 0.7390826\tbest: 0.7390850 (599)\ttotal: 17.5s\tremaining: 46.7s\n",
      "900:\ttest: 0.7397698\tbest: 0.7397698 (900)\ttotal: 26.3s\tremaining: 38s\n",
      "1200:\ttest: 0.7400964\tbest: 0.7400983 (1199)\ttotal: 35.1s\tremaining: 29.3s\n",
      "1500:\ttest: 0.7402597\tbest: 0.7402627 (1467)\ttotal: 44.2s\tremaining: 20.6s\n",
      "1800:\ttest: 0.7403333\tbest: 0.7403354 (1798)\ttotal: 52.9s\tremaining: 11.8s\n",
      "2100:\ttest: 0.7403651\tbest: 0.7403787 (2065)\ttotal: 1m 1s\tremaining: 2.97s\n",
      "2201:\ttest: 0.7403720\tbest: 0.7403787 (2065)\ttotal: 1m 4s\tremaining: 0us\n",
      "bestTest = 0.7403787374\n",
      "bestIteration = 2065\n",
      "Shrink model to first 2066 iterations.\n"
     ]
    },
    {
     "name": "stderr",
     "output_type": "stream",
     "text": [
      "[I 2025-02-17 16:21:35,969] Trial 2 finished with value: 0.740378737449646 and parameters: {'iterations': 2202, 'depth': 8, 'learning_rate': 0.006955526958101232, 'l2_leaf_reg': 65.98711072054076}. Best is trial 2 with value: 0.740378737449646.\n"
     ]
    },
    {
     "name": "stdout",
     "output_type": "stream",
     "text": [
      "저장 완료\n"
     ]
    },
    {
     "name": "stderr",
     "output_type": "stream",
     "text": [
      "Default metric period is 5 because AUC is/are not implemented for GPU\n"
     ]
    },
    {
     "name": "stdout",
     "output_type": "stream",
     "text": [
      "0:\ttest: 0.7144855\tbest: 0.7144855 (0)\ttotal: 14ms\tremaining: 37.3s\n",
      "300:\ttest: 0.7387687\tbest: 0.7387687 (300)\ttotal: 4.07s\tremaining: 32s\n",
      "600:\ttest: 0.7397670\tbest: 0.7397681 (599)\ttotal: 8.12s\tremaining: 27.9s\n",
      "900:\ttest: 0.7399513\tbest: 0.7400798 (771)\ttotal: 12.1s\tremaining: 23.7s\n"
     ]
    },
    {
     "name": "stderr",
     "output_type": "stream",
     "text": [
      "[I 2025-02-17 16:21:51,726] Trial 3 finished with value: 0.7400798499584198 and parameters: {'iterations': 2665, 'depth': 5, 'learning_rate': 0.02227337188467456, 'l2_leaf_reg': 0.0012601639723276807}. Best is trial 2 with value: 0.740378737449646.\n"
     ]
    },
    {
     "name": "stdout",
     "output_type": "stream",
     "text": [
      "bestTest = 0.74007985\n",
      "bestIteration = 771\n",
      "Shrink model to first 772 iterations.\n"
     ]
    },
    {
     "name": "stderr",
     "output_type": "stream",
     "text": [
      "Default metric period is 5 because AUC is/are not implemented for GPU\n"
     ]
    },
    {
     "name": "stdout",
     "output_type": "stream",
     "text": [
      "0:\ttest: 0.7238676\tbest: 0.7238676 (0)\ttotal: 21.8ms\tremaining: 35s\n",
      "300:\ttest: 0.7396958\tbest: 0.7399806 (217)\ttotal: 6.66s\tremaining: 28.9s\n"
     ]
    },
    {
     "name": "stderr",
     "output_type": "stream",
     "text": [
      "[I 2025-02-17 16:22:04,605] Trial 4 finished with value: 0.7399805784225464 and parameters: {'iterations': 1608, 'depth': 7, 'learning_rate': 0.046034776771001, 'l2_leaf_reg': 0.005589524205217926}. Best is trial 2 with value: 0.740378737449646.\n"
     ]
    },
    {
     "name": "stdout",
     "output_type": "stream",
     "text": [
      "bestTest = 0.7399805784\n",
      "bestIteration = 217\n",
      "Shrink model to first 218 iterations.\n"
     ]
    },
    {
     "name": "stderr",
     "output_type": "stream",
     "text": [
      "Default metric period is 5 because AUC is/are not implemented for GPU\n"
     ]
    },
    {
     "name": "stdout",
     "output_type": "stream",
     "text": [
      "0:\ttest: 0.7012093\tbest: 0.7012093 (0)\ttotal: 11.2ms\tremaining: 25s\n",
      "300:\ttest: 0.7389264\tbest: 0.7389264 (300)\ttotal: 3.21s\tremaining: 20.5s\n",
      "600:\ttest: 0.7399734\tbest: 0.7399786 (597)\ttotal: 6.4s\tremaining: 17.3s\n",
      "900:\ttest: 0.7398510\tbest: 0.7400292 (724)\ttotal: 9.6s\tremaining: 14.1s\n"
     ]
    },
    {
     "name": "stderr",
     "output_type": "stream",
     "text": [
      "[I 2025-02-17 16:22:16,979] Trial 5 finished with value: 0.7400291562080383 and parameters: {'iterations': 2224, 'depth': 4, 'learning_rate': 0.032753741610845724, 'l2_leaf_reg': 0.01578232781079559}. Best is trial 2 with value: 0.740378737449646.\n"
     ]
    },
    {
     "name": "stdout",
     "output_type": "stream",
     "text": [
      "bestTest = 0.7400291562\n",
      "bestIteration = 724\n",
      "Shrink model to first 725 iterations.\n"
     ]
    },
    {
     "name": "stderr",
     "output_type": "stream",
     "text": [
      "Default metric period is 5 because AUC is/are not implemented for GPU\n"
     ]
    },
    {
     "name": "stdout",
     "output_type": "stream",
     "text": [
      "0:\ttest: 0.7295199\tbest: 0.7295199 (0)\ttotal: 42.6ms\tremaining: 1m 21s\n",
      "300:\ttest: 0.7397680\tbest: 0.7398434 (274)\ttotal: 13.1s\tremaining: 1m 9s\n",
      "600:\ttest: 0.7392993\tbest: 0.7398443 (325)\ttotal: 26.1s\tremaining: 56.9s\n",
      "bestTest = 0.7398442626\n",
      "bestIteration = 325\n",
      "Shrink model to first 326 iterations.\n"
     ]
    },
    {
     "name": "stderr",
     "output_type": "stream",
     "text": [
      "[I 2025-02-17 16:22:45,658] Trial 6 finished with value: 0.7398442625999451 and parameters: {'iterations': 1912, 'depth': 9, 'learning_rate': 0.023969009305044177, 'l2_leaf_reg': 0.12173252504194051}. Best is trial 2 with value: 0.740378737449646.\n",
      "Default metric period is 5 because AUC is/are not implemented for GPU\n"
     ]
    },
    {
     "name": "stdout",
     "output_type": "stream",
     "text": [
      "0:\ttest: 0.7012093\tbest: 0.7012093 (0)\ttotal: 11.2ms\tremaining: 24.4s\n",
      "300:\ttest: 0.7396109\tbest: 0.7396109 (300)\ttotal: 3.2s\tremaining: 20s\n",
      "600:\ttest: 0.7398616\tbest: 0.7400094 (485)\ttotal: 6.39s\tremaining: 16.8s\n"
     ]
    },
    {
     "name": "stderr",
     "output_type": "stream",
     "text": [
      "[I 2025-02-17 16:22:55,426] Trial 7 finished with value: 0.7400093674659729 and parameters: {'iterations': 2185, 'depth': 4, 'learning_rate': 0.06271676093063665, 'l2_leaf_reg': 0.0010547383621352044}. Best is trial 2 with value: 0.740378737449646.\n"
     ]
    },
    {
     "name": "stdout",
     "output_type": "stream",
     "text": [
      "bestTest = 0.7400093675\n",
      "bestIteration = 485\n",
      "Shrink model to first 486 iterations.\n"
     ]
    },
    {
     "name": "stderr",
     "output_type": "stream",
     "text": [
      "Default metric period is 5 because AUC is/are not implemented for GPU\n"
     ]
    },
    {
     "name": "stdout",
     "output_type": "stream",
     "text": [
      "0:\ttest: 0.7285773\tbest: 0.7285773 (0)\ttotal: 64.8ms\tremaining: 1m 13s\n",
      "300:\ttest: 0.7344573\tbest: 0.7393444 (59)\ttotal: 20.1s\tremaining: 55.3s\n",
      "bestTest = 0.739344418\n",
      "bestIteration = 59\n",
      "Shrink model to first 60 iterations.\n"
     ]
    },
    {
     "name": "stderr",
     "output_type": "stream",
     "text": [
      "[I 2025-02-17 16:23:20,910] Trial 8 finished with value: 0.7393444180488586 and parameters: {'iterations': 1130, 'depth': 10, 'learning_rate': 0.09673504314208314, 'l2_leaf_reg': 7.085721663941605}. Best is trial 2 with value: 0.740378737449646.\n",
      "Default metric period is 5 because AUC is/are not implemented for GPU\n"
     ]
    },
    {
     "name": "stdout",
     "output_type": "stream",
     "text": [
      "0:\ttest: 0.7012093\tbest: 0.7012093 (0)\ttotal: 11ms\tremaining: 17.7s\n",
      "300:\ttest: 0.7400114\tbest: 0.7400128 (298)\ttotal: 3.21s\tremaining: 13.9s\n",
      "600:\ttest: 0.7401525\tbest: 0.7401991 (595)\ttotal: 6.44s\tremaining: 10.8s\n",
      "900:\ttest: 0.7400762\tbest: 0.7402285 (756)\ttotal: 9.77s\tremaining: 7.67s\n",
      "bestTest = 0.7402285337\n",
      "bestIteration = 756\n",
      "Shrink model to first 757 iterations.\n"
     ]
    },
    {
     "name": "stderr",
     "output_type": "stream",
     "text": [
      "[I 2025-02-17 16:23:33,856] Trial 9 finished with value: 0.740228533744812 and parameters: {'iterations': 1609, 'depth': 4, 'learning_rate': 0.07000213751865492, 'l2_leaf_reg': 0.04374364439939081}. Best is trial 2 with value: 0.740378737449646.\n",
      "Default metric period is 5 because AUC is/are not implemented for GPU\n"
     ]
    },
    {
     "name": "stdout",
     "output_type": "stream",
     "text": [
      "0:\ttest: 0.7274663\tbest: 0.7274663 (0)\ttotal: 30.2ms\tremaining: 1m 27s\n",
      "300:\ttest: 0.7365330\tbest: 0.7365330 (300)\ttotal: 8.79s\tremaining: 1m 16s\n",
      "600:\ttest: 0.7385845\tbest: 0.7385845 (600)\ttotal: 17.6s\tremaining: 1m 7s\n",
      "900:\ttest: 0.7394779\tbest: 0.7394779 (900)\ttotal: 26.4s\tremaining: 58.8s\n",
      "1200:\ttest: 0.7399254\tbest: 0.7399283 (1194)\ttotal: 35.3s\tremaining: 50.1s\n",
      "1500:\ttest: 0.7401551\tbest: 0.7401592 (1493)\ttotal: 44.1s\tremaining: 41.4s\n",
      "1800:\ttest: 0.7402612\tbest: 0.7402629 (1797)\ttotal: 53s\tremaining: 32.6s\n",
      "2100:\ttest: 0.7402682\tbest: 0.7402800 (2066)\ttotal: 1m 1s\tremaining: 23.8s\n",
      "2400:\ttest: 0.7402972\tbest: 0.7403015 (2387)\ttotal: 1m 10s\tremaining: 14.9s\n",
      "bestTest = 0.7403015494\n",
      "bestIteration = 2387\n",
      "Shrink model to first 2388 iterations.\n"
     ]
    },
    {
     "name": "stderr",
     "output_type": "stream",
     "text": [
      "[I 2025-02-17 16:24:54,753] Trial 10 finished with value: 0.7403015494346619 and parameters: {'iterations': 2908, 'depth': 8, 'learning_rate': 0.005716995335047832, 'l2_leaf_reg': 53.77119408946009}. Best is trial 2 with value: 0.740378737449646.\n",
      "Default metric period is 5 because AUC is/are not implemented for GPU\n"
     ]
    },
    {
     "name": "stdout",
     "output_type": "stream",
     "text": [
      "0:\ttest: 0.7275022\tbest: 0.7275022 (0)\ttotal: 31.3ms\tremaining: 1m 31s\n",
      "300:\ttest: 0.7369050\tbest: 0.7369050 (300)\ttotal: 8.86s\tremaining: 1m 17s\n",
      "600:\ttest: 0.7388861\tbest: 0.7388896 (599)\ttotal: 17.7s\tremaining: 1m 8s\n",
      "900:\ttest: 0.7396875\tbest: 0.7396875 (900)\ttotal: 26.6s\tremaining: 59.9s\n",
      "1200:\ttest: 0.7400543\tbest: 0.7400572 (1196)\ttotal: 35.5s\tremaining: 51.2s\n",
      "1500:\ttest: 0.7402591\tbest: 0.7402604 (1491)\ttotal: 44.5s\tremaining: 42.4s\n",
      "1800:\ttest: 0.7403382\tbest: 0.7403393 (1798)\ttotal: 53.4s\tremaining: 33.5s\n",
      "2100:\ttest: 0.7403603\tbest: 0.7403717 (2042)\ttotal: 1m 2s\tremaining: 24.6s\n",
      "2400:\ttest: 0.7403905\tbest: 0.7403948 (2395)\ttotal: 1m 11s\tremaining: 15.7s\n",
      "bestTest = 0.7403947711\n",
      "bestIteration = 2395\n",
      "Shrink model to first 2396 iterations.\n"
     ]
    },
    {
     "name": "stderr",
     "output_type": "stream",
     "text": [
      "[I 2025-02-17 16:26:16,379] Trial 11 finished with value: 0.7403947710990906 and parameters: {'iterations': 2930, 'depth': 8, 'learning_rate': 0.006402408540446867, 'l2_leaf_reg': 83.11832707510945}. Best is trial 11 with value: 0.7403947710990906.\n"
     ]
    },
    {
     "name": "stdout",
     "output_type": "stream",
     "text": [
      "저장 완료\n"
     ]
    },
    {
     "name": "stderr",
     "output_type": "stream",
     "text": [
      "Default metric period is 5 because AUC is/are not implemented for GPU\n"
     ]
    },
    {
     "name": "stdout",
     "output_type": "stream",
     "text": [
      "0:\ttest: 0.7238672\tbest: 0.7238672 (0)\ttotal: 23.1ms\tremaining: 58.2s\n",
      "300:\ttest: 0.7399504\tbest: 0.7399504 (300)\ttotal: 6.66s\tremaining: 49.1s\n",
      "600:\ttest: 0.7397740\tbest: 0.7400061 (421)\ttotal: 13.1s\tremaining: 42s\n",
      "bestTest = 0.740006119\n",
      "bestIteration = 421\n",
      "Shrink model to first 422 iterations.\n"
     ]
    },
    {
     "name": "stderr",
     "output_type": "stream",
     "text": [
      "[I 2025-02-17 16:26:33,569] Trial 12 finished with value: 0.7400061190128326 and parameters: {'iterations': 2521, 'depth': 7, 'learning_rate': 0.03782006809201868, 'l2_leaf_reg': 1.523826037441336}. Best is trial 11 with value: 0.7403947710990906.\n",
      "Default metric period is 5 because AUC is/are not implemented for GPU\n"
     ]
    },
    {
     "name": "stdout",
     "output_type": "stream",
     "text": [
      "0:\ttest: 0.7274789\tbest: 0.7274789 (0)\ttotal: 32.5ms\tremaining: 1m 34s\n",
      "300:\ttest: 0.7396238\tbest: 0.7396243 (296)\ttotal: 9.77s\tremaining: 1m 25s\n",
      "600:\ttest: 0.7401620\tbest: 0.7401620 (600)\ttotal: 19.5s\tremaining: 1m 15s\n",
      "900:\ttest: 0.7402266\tbest: 0.7403131 (762)\ttotal: 29.3s\tremaining: 1m 5s\n",
      "bestTest = 0.7403130531\n",
      "bestIteration = 762\n",
      "Shrink model to first 763 iterations.\n"
     ]
    },
    {
     "name": "stderr",
     "output_type": "stream",
     "text": [
      "[I 2025-02-17 16:27:09,596] Trial 13 finished with value: 0.7403130531311035 and parameters: {'iterations': 2923, 'depth': 8, 'learning_rate': 0.01844851425508691, 'l2_leaf_reg': 65.5477287928456}. Best is trial 11 with value: 0.7403947710990906.\n",
      "Default metric period is 5 because AUC is/are not implemented for GPU\n"
     ]
    },
    {
     "name": "stdout",
     "output_type": "stream",
     "text": [
      "0:\ttest: 0.7274312\tbest: 0.7274312 (0)\ttotal: 29.9ms\tremaining: 1m 14s\n",
      "300:\ttest: 0.7366718\tbest: 0.7366718 (300)\ttotal: 8.76s\tremaining: 1m 3s\n",
      "600:\ttest: 0.7386083\tbest: 0.7386093 (599)\ttotal: 17.6s\tremaining: 55.5s\n",
      "900:\ttest: 0.7394606\tbest: 0.7394606 (900)\ttotal: 26.7s\tremaining: 47.1s\n",
      "1200:\ttest: 0.7398552\tbest: 0.7398552 (1200)\ttotal: 35.5s\tremaining: 38.3s\n",
      "1500:\ttest: 0.7400666\tbest: 0.7400726 (1466)\ttotal: 44.4s\tremaining: 29.4s\n",
      "1800:\ttest: 0.7401898\tbest: 0.7401902 (1799)\ttotal: 53.2s\tremaining: 20.5s\n",
      "2100:\ttest: 0.7402732\tbest: 0.7402772 (2098)\ttotal: 1m 2s\tremaining: 11.6s\n",
      "2400:\ttest: 0.7403050\tbest: 0.7403185 (2384)\ttotal: 1m 10s\tremaining: 2.75s\n",
      "2493:\ttest: 0.7403293\tbest: 0.7403333 (2482)\ttotal: 1m 13s\tremaining: 0us\n",
      "bestTest = 0.7403332591\n",
      "bestIteration = 2482\n",
      "Shrink model to first 2483 iterations.\n"
     ]
    },
    {
     "name": "stderr",
     "output_type": "stream",
     "text": [
      "[I 2025-02-17 16:28:24,930] Trial 14 finished with value: 0.7403332591056824 and parameters: {'iterations': 2494, 'depth': 8, 'learning_rate': 0.0057375705176899395, 'l2_leaf_reg': 3.2738747363367016}. Best is trial 11 with value: 0.7403947710990906.\n",
      "Default metric period is 5 because AUC is/are not implemented for GPU\n"
     ]
    },
    {
     "name": "stdout",
     "output_type": "stream",
     "text": [
      "0:\ttest: 0.7205822\tbest: 0.7205822 (0)\ttotal: 18.9ms\tremaining: 41.3s\n",
      "300:\ttest: 0.7399822\tbest: 0.7400039 (297)\ttotal: 5.05s\tremaining: 31.6s\n",
      "600:\ttest: 0.7397452\tbest: 0.7401989 (377)\ttotal: 10.1s\tremaining: 26.5s\n",
      "bestTest = 0.74019894\n",
      "bestIteration = 377\n",
      "Shrink model to first 378 iterations.\n"
     ]
    },
    {
     "name": "stderr",
     "output_type": "stream",
     "text": [
      "[I 2025-02-17 16:28:37,760] Trial 15 finished with value: 0.740198940038681 and parameters: {'iterations': 2185, 'depth': 6, 'learning_rate': 0.049526995794345004, 'l2_leaf_reg': 0.8243036091063639}. Best is trial 11 with value: 0.7403947710990906.\n",
      "Default metric period is 5 because AUC is/are not implemented for GPU\n"
     ]
    },
    {
     "name": "stdout",
     "output_type": "stream",
     "text": [
      "0:\ttest: 0.7294769\tbest: 0.7294769 (0)\ttotal: 42.5ms\tremaining: 1m 54s\n",
      "300:\ttest: 0.7401803\tbest: 0.7401981 (293)\ttotal: 13s\tremaining: 1m 43s\n",
      "600:\ttest: 0.7400298\tbest: 0.7403165 (393)\ttotal: 25.9s\tremaining: 1m 30s\n",
      "bestTest = 0.7403164804\n",
      "bestIteration = 393\n",
      "Shrink model to first 394 iterations.\n"
     ]
    },
    {
     "name": "stderr",
     "output_type": "stream",
     "text": [
      "[I 2025-02-17 16:29:09,185] Trial 16 finished with value: 0.7403164803981781 and parameters: {'iterations': 2692, 'depth': 9, 'learning_rate': 0.030434232530633896, 'l2_leaf_reg': 94.64533014403676}. Best is trial 11 with value: 0.7403947710990906.\n",
      "Default metric period is 5 because AUC is/are not implemented for GPU\n"
     ]
    },
    {
     "name": "stdout",
     "output_type": "stream",
     "text": [
      "0:\ttest: 0.7295083\tbest: 0.7295083 (0)\ttotal: 42.9ms\tremaining: 1m 40s\n",
      "300:\ttest: 0.7395521\tbest: 0.7395521 (300)\ttotal: 13s\tremaining: 1m 28s\n",
      "600:\ttest: 0.7401730\tbest: 0.7401930 (544)\ttotal: 26s\tremaining: 1m 15s\n",
      "900:\ttest: 0.7400956\tbest: 0.7402379 (808)\ttotal: 39s\tremaining: 1m 2s\n",
      "bestTest = 0.7402378917\n",
      "bestIteration = 808\n",
      "Shrink model to first 809 iterations.\n"
     ]
    },
    {
     "name": "stderr",
     "output_type": "stream",
     "text": [
      "[I 2025-02-17 16:29:58,707] Trial 17 finished with value: 0.7402378916740417 and parameters: {'iterations': 2351, 'depth': 9, 'learning_rate': 0.015403871719562565, 'l2_leaf_reg': 16.24191867612336}. Best is trial 11 with value: 0.7403947710990906.\n",
      "Default metric period is 5 because AUC is/are not implemented for GPU\n"
     ]
    },
    {
     "name": "stdout",
     "output_type": "stream",
     "text": [
      "0:\ttest: 0.7238673\tbest: 0.7238673 (0)\ttotal: 23.2ms\tremaining: 45.6s\n",
      "300:\ttest: 0.7397594\tbest: 0.7398303 (293)\ttotal: 6.57s\tremaining: 36.5s\n",
      "bestTest = 0.7398303151\n",
      "bestIteration = 293\n",
      "Shrink model to first 294 iterations.\n"
     ]
    },
    {
     "name": "stderr",
     "output_type": "stream",
     "text": [
      "[I 2025-02-17 16:30:13,232] Trial 18 finished with value: 0.7398303151130676 and parameters: {'iterations': 1971, 'depth': 7, 'learning_rate': 0.09183848173899832, 'l2_leaf_reg': 18.91461659520964}. Best is trial 11 with value: 0.7403947710990906.\n",
      "Default metric period is 5 because AUC is/are not implemented for GPU\n"
     ]
    },
    {
     "name": "stdout",
     "output_type": "stream",
     "text": [
      "0:\ttest: 0.7205825\tbest: 0.7205825 (0)\ttotal: 17.4ms\tremaining: 51.5s\n",
      "300:\ttest: 0.7399451\tbest: 0.7399836 (288)\ttotal: 5.33s\tremaining: 47.1s\n",
      "600:\ttest: 0.7400541\tbest: 0.7403889 (474)\ttotal: 10.5s\tremaining: 41.4s\n",
      "bestTest = 0.7403889298\n",
      "bestIteration = 474\n",
      "Shrink model to first 475 iterations.\n"
     ]
    },
    {
     "name": "stderr",
     "output_type": "stream",
     "text": [
      "[I 2025-02-17 16:30:28,238] Trial 19 finished with value: 0.7403889298439026 and parameters: {'iterations': 2961, 'depth': 6, 'learning_rate': 0.03818314966555223, 'l2_leaf_reg': 0.19555626253956448}. Best is trial 11 with value: 0.7403947710990906.\n"
     ]
    },
    {
     "name": "stdout",
     "output_type": "stream",
     "text": [
      "Cat val score : 0.7403947280100183\n",
      "LGBM val score : 0.7400960617735204\n",
      "Ensemble val score : 0.7405065163990137\n"
     ]
    },
    {
     "name": "stderr",
     "output_type": "stream",
     "text": [
      "[I 2025-02-17 16:30:34,753] A new study created in memory with name: no-name-d8b8cc38-02ef-4bab-bc9d-b88f87403d1a\n"
     ]
    },
    {
     "name": "stdout",
     "output_type": "stream",
     "text": [
      "==================================================\n"
     ]
    },
    {
     "name": "stderr",
     "output_type": "stream",
     "text": [
      "Default metric period is 5 because AUC is/are not implemented for GPU\n"
     ]
    },
    {
     "name": "stdout",
     "output_type": "stream",
     "text": [
      "0:\ttest: 0.7299267\tbest: 0.7299267 (0)\ttotal: 74.3ms\tremaining: 2m 9s\n",
      "300:\ttest: 0.7351916\tbest: 0.7390663 (83)\ttotal: 20s\tremaining: 1m 36s\n",
      "bestTest = 0.7390663028\n",
      "bestIteration = 83\n",
      "Shrink model to first 84 iterations.\n"
     ]
    },
    {
     "name": "stderr",
     "output_type": "stream",
     "text": [
      "[I 2025-02-17 16:31:01,505] Trial 0 finished with value: 0.7390663027763367 and parameters: {'iterations': 1749, 'depth': 10, 'learning_rate': 0.07453942447208349, 'l2_leaf_reg': 0.39079671568228835}. Best is trial 0 with value: 0.7390663027763367.\n"
     ]
    },
    {
     "name": "stdout",
     "output_type": "stream",
     "text": [
      "저장 완료\n"
     ]
    },
    {
     "name": "stderr",
     "output_type": "stream",
     "text": [
      "Default metric period is 5 because AUC is/are not implemented for GPU\n"
     ]
    },
    {
     "name": "stdout",
     "output_type": "stream",
     "text": [
      "0:\ttest: 0.7107314\tbest: 0.7107314 (0)\ttotal: 14.2ms\tremaining: 18.7s\n",
      "300:\ttest: 0.7347318\tbest: 0.7347318 (300)\ttotal: 4.11s\tremaining: 13.8s\n",
      "600:\ttest: 0.7382697\tbest: 0.7382697 (600)\ttotal: 8.15s\tremaining: 9.65s\n",
      "900:\ttest: 0.7397237\tbest: 0.7397237 (900)\ttotal: 12.3s\tremaining: 5.59s\n",
      "1200:\ttest: 0.7404807\tbest: 0.7404807 (1200)\ttotal: 16.4s\tremaining: 1.51s\n",
      "1311:\ttest: 0.7406934\tbest: 0.7406934 (1311)\ttotal: 17.9s\tremaining: 0us\n",
      "bestTest = 0.7406933606\n",
      "bestIteration = 1311\n"
     ]
    },
    {
     "name": "stderr",
     "output_type": "stream",
     "text": [
      "[I 2025-02-17 16:31:20,938] Trial 1 finished with value: 0.7406933605670929 and parameters: {'iterations': 1312, 'depth': 5, 'learning_rate': 0.010517943155978949, 'l2_leaf_reg': 15.741890047456648}. Best is trial 1 with value: 0.7406933605670929.\n"
     ]
    },
    {
     "name": "stdout",
     "output_type": "stream",
     "text": [
      "저장 완료\n"
     ]
    },
    {
     "name": "stderr",
     "output_type": "stream",
     "text": [
      "Default metric period is 5 because AUC is/are not implemented for GPU\n"
     ]
    },
    {
     "name": "stdout",
     "output_type": "stream",
     "text": [
      "0:\ttest: 0.7270840\tbest: 0.7270840 (0)\ttotal: 31.3ms\tremaining: 1m 8s\n",
      "300:\ttest: 0.7357384\tbest: 0.7357384 (300)\ttotal: 8.89s\tremaining: 56.1s\n",
      "600:\ttest: 0.7389401\tbest: 0.7389401 (600)\ttotal: 17.7s\tremaining: 47.1s\n",
      "900:\ttest: 0.7402374\tbest: 0.7402374 (900)\ttotal: 26.5s\tremaining: 38.3s\n",
      "1200:\ttest: 0.7409802\tbest: 0.7409802 (1200)\ttotal: 35.4s\tremaining: 29.5s\n",
      "1500:\ttest: 0.7414129\tbest: 0.7414147 (1494)\ttotal: 44.2s\tremaining: 20.7s\n",
      "1800:\ttest: 0.7417175\tbest: 0.7417196 (1796)\ttotal: 53.1s\tremaining: 11.8s\n",
      "2100:\ttest: 0.7419382\tbest: 0.7419382 (2100)\ttotal: 1m 1s\tremaining: 2.98s\n",
      "2201:\ttest: 0.7420011\tbest: 0.7420011 (2201)\ttotal: 1m 4s\tremaining: 0us\n",
      "bestTest = 0.7420010567\n",
      "bestIteration = 2201\n"
     ]
    },
    {
     "name": "stderr",
     "output_type": "stream",
     "text": [
      "[I 2025-02-17 16:32:27,485] Trial 2 finished with value: 0.7420010566711426 and parameters: {'iterations': 2202, 'depth': 8, 'learning_rate': 0.006955526958101232, 'l2_leaf_reg': 65.98711072054076}. Best is trial 2 with value: 0.7420010566711426.\n"
     ]
    },
    {
     "name": "stdout",
     "output_type": "stream",
     "text": [
      "저장 완료\n"
     ]
    },
    {
     "name": "stderr",
     "output_type": "stream",
     "text": [
      "Default metric period is 5 because AUC is/are not implemented for GPU\n"
     ]
    },
    {
     "name": "stdout",
     "output_type": "stream",
     "text": [
      "0:\ttest: 0.7107377\tbest: 0.7107377 (0)\ttotal: 16.2ms\tremaining: 43.3s\n",
      "300:\ttest: 0.7384114\tbest: 0.7384114 (300)\ttotal: 4.05s\tremaining: 31.8s\n",
      "600:\ttest: 0.7405098\tbest: 0.7405098 (600)\ttotal: 8.05s\tremaining: 27.6s\n",
      "900:\ttest: 0.7413274\tbest: 0.7413488 (896)\ttotal: 12s\tremaining: 23.5s\n",
      "1200:\ttest: 0.7414578\tbest: 0.7415398 (1126)\ttotal: 16s\tremaining: 19.5s\n",
      "1500:\ttest: 0.7416870\tbest: 0.7416917 (1487)\ttotal: 20s\tremaining: 15.5s\n",
      "1800:\ttest: 0.7417634\tbest: 0.7417796 (1756)\ttotal: 24s\tremaining: 11.5s\n",
      "bestTest = 0.7417796254\n",
      "bestIteration = 1756\n",
      "Shrink model to first 1757 iterations.\n"
     ]
    },
    {
     "name": "stderr",
     "output_type": "stream",
     "text": [
      "[I 2025-02-17 16:32:56,216] Trial 3 finished with value: 0.741779625415802 and parameters: {'iterations': 2665, 'depth': 5, 'learning_rate': 0.02227337188467456, 'l2_leaf_reg': 0.0012601639723276807}. Best is trial 2 with value: 0.7420010566711426.\n",
      "Default metric period is 5 because AUC is/are not implemented for GPU\n"
     ]
    },
    {
     "name": "stdout",
     "output_type": "stream",
     "text": [
      "0:\ttest: 0.7237177\tbest: 0.7237177 (0)\ttotal: 25.2ms\tremaining: 40.5s\n",
      "300:\ttest: 0.7405327\tbest: 0.7407001 (260)\ttotal: 7.43s\tremaining: 32.2s\n",
      "600:\ttest: 0.7403256\tbest: 0.7407541 (360)\ttotal: 14.8s\tremaining: 24.7s\n",
      "bestTest = 0.7407540977\n",
      "bestIteration = 360\n",
      "Shrink model to first 361 iterations.\n"
     ]
    },
    {
     "name": "stderr",
     "output_type": "stream",
     "text": [
      "[I 2025-02-17 16:33:13,923] Trial 4 finished with value: 0.740754097700119 and parameters: {'iterations': 1608, 'depth': 7, 'learning_rate': 0.046034776771001, 'l2_leaf_reg': 0.005589524205217926}. Best is trial 2 with value: 0.7420010566711426.\n",
      "Default metric period is 5 because AUC is/are not implemented for GPU\n"
     ]
    },
    {
     "name": "stdout",
     "output_type": "stream",
     "text": [
      "0:\ttest: 0.6980538\tbest: 0.6980538 (0)\ttotal: 11.4ms\tremaining: 25.3s\n",
      "300:\ttest: 0.7390235\tbest: 0.7390235 (300)\ttotal: 3.25s\tremaining: 20.7s\n",
      "600:\ttest: 0.7409930\tbest: 0.7409930 (600)\ttotal: 6.46s\tremaining: 17.4s\n",
      "900:\ttest: 0.7414170\tbest: 0.7414337 (895)\ttotal: 9.71s\tremaining: 14.3s\n",
      "1200:\ttest: 0.7416593\tbest: 0.7416593 (1200)\ttotal: 13s\tremaining: 11.1s\n",
      "1500:\ttest: 0.7416641\tbest: 0.7416938 (1480)\ttotal: 16.4s\tremaining: 7.89s\n",
      "bestTest = 0.7416937947\n",
      "bestIteration = 1480\n",
      "Shrink model to first 1481 iterations.\n"
     ]
    },
    {
     "name": "stderr",
     "output_type": "stream",
     "text": [
      "[I 2025-02-17 16:33:34,958] Trial 5 finished with value: 0.7416937947273254 and parameters: {'iterations': 2224, 'depth': 4, 'learning_rate': 0.032753741610845724, 'l2_leaf_reg': 0.01578232781079559}. Best is trial 2 with value: 0.7420010566711426.\n",
      "Default metric period is 5 because AUC is/are not implemented for GPU\n"
     ]
    },
    {
     "name": "stdout",
     "output_type": "stream",
     "text": [
      "0:\ttest: 0.7291490\tbest: 0.7291490 (0)\ttotal: 43.4ms\tremaining: 1m 22s\n",
      "300:\ttest: 0.7408089\tbest: 0.7408180 (298)\ttotal: 12.9s\tremaining: 1m 9s\n",
      "600:\ttest: 0.7410344\tbest: 0.7414516 (512)\ttotal: 25.9s\tremaining: 56.5s\n",
      "bestTest = 0.7414516211\n",
      "bestIteration = 512\n",
      "Shrink model to first 513 iterations.\n"
     ]
    },
    {
     "name": "stderr",
     "output_type": "stream",
     "text": [
      "[I 2025-02-17 16:34:11,491] Trial 6 finished with value: 0.741451621055603 and parameters: {'iterations': 1912, 'depth': 9, 'learning_rate': 0.023969009305044177, 'l2_leaf_reg': 0.12173252504194051}. Best is trial 2 with value: 0.7420010566711426.\n",
      "Default metric period is 5 because AUC is/are not implemented for GPU\n"
     ]
    },
    {
     "name": "stdout",
     "output_type": "stream",
     "text": [
      "0:\ttest: 0.6980538\tbest: 0.6980538 (0)\ttotal: 11.3ms\tremaining: 24.6s\n",
      "300:\ttest: 0.7407778\tbest: 0.7407778 (300)\ttotal: 3.2s\tremaining: 20s\n",
      "600:\ttest: 0.7411737\tbest: 0.7412059 (516)\ttotal: 6.37s\tremaining: 16.8s\n",
      "900:\ttest: 0.7411166\tbest: 0.7412860 (798)\ttotal: 9.55s\tremaining: 13.6s\n"
     ]
    },
    {
     "name": "stderr",
     "output_type": "stream",
     "text": [
      "[I 2025-02-17 16:34:24,556] Trial 7 finished with value: 0.7412859797477722 and parameters: {'iterations': 2185, 'depth': 4, 'learning_rate': 0.06271676093063665, 'l2_leaf_reg': 0.0010547383621352044}. Best is trial 2 with value: 0.7420010566711426.\n"
     ]
    },
    {
     "name": "stdout",
     "output_type": "stream",
     "text": [
      "bestTest = 0.7412859797\n",
      "bestIteration = 798\n",
      "Shrink model to first 799 iterations.\n"
     ]
    },
    {
     "name": "stderr",
     "output_type": "stream",
     "text": [
      "Default metric period is 5 because AUC is/are not implemented for GPU\n"
     ]
    },
    {
     "name": "stdout",
     "output_type": "stream",
     "text": [
      "0:\ttest: 0.7299697\tbest: 0.7299697 (0)\ttotal: 67.3ms\tremaining: 1m 15s\n",
      "300:\ttest: 0.7359391\tbest: 0.7403139 (103)\ttotal: 19.9s\tremaining: 54.7s\n",
      "bestTest = 0.7403139472\n",
      "bestIteration = 103\n",
      "Shrink model to first 104 iterations.\n"
     ]
    },
    {
     "name": "stderr",
     "output_type": "stream",
     "text": [
      "[I 2025-02-17 16:34:52,856] Trial 8 finished with value: 0.7403139472007751 and parameters: {'iterations': 1130, 'depth': 10, 'learning_rate': 0.09673504314208314, 'l2_leaf_reg': 7.085721663941605}. Best is trial 2 with value: 0.7420010566711426.\n",
      "Default metric period is 5 because AUC is/are not implemented for GPU\n"
     ]
    },
    {
     "name": "stdout",
     "output_type": "stream",
     "text": [
      "0:\ttest: 0.6980538\tbest: 0.6980538 (0)\ttotal: 11.2ms\tremaining: 18s\n",
      "300:\ttest: 0.7407236\tbest: 0.7407289 (295)\ttotal: 3.18s\tremaining: 13.8s\n",
      "600:\ttest: 0.7413642\tbest: 0.7414263 (554)\ttotal: 6.36s\tremaining: 10.7s\n",
      "900:\ttest: 0.7413172\tbest: 0.7415278 (798)\ttotal: 9.56s\tremaining: 7.52s\n"
     ]
    },
    {
     "name": "stderr",
     "output_type": "stream",
     "text": [
      "[I 2025-02-17 16:35:05,987] Trial 9 finished with value: 0.741527795791626 and parameters: {'iterations': 1609, 'depth': 4, 'learning_rate': 0.07000213751865492, 'l2_leaf_reg': 0.04374364439939081}. Best is trial 2 with value: 0.7420010566711426.\n"
     ]
    },
    {
     "name": "stdout",
     "output_type": "stream",
     "text": [
      "bestTest = 0.7415277958\n",
      "bestIteration = 798\n",
      "Shrink model to first 799 iterations.\n"
     ]
    },
    {
     "name": "stderr",
     "output_type": "stream",
     "text": [
      "Default metric period is 5 because AUC is/are not implemented for GPU\n"
     ]
    },
    {
     "name": "stdout",
     "output_type": "stream",
     "text": [
      "0:\ttest: 0.7270338\tbest: 0.7270338 (0)\ttotal: 29.4ms\tremaining: 1m 25s\n",
      "300:\ttest: 0.7349097\tbest: 0.7349097 (300)\ttotal: 8.74s\tremaining: 1m 15s\n",
      "600:\ttest: 0.7381313\tbest: 0.7381313 (600)\ttotal: 17.5s\tremaining: 1m 7s\n",
      "900:\ttest: 0.7397094\tbest: 0.7397094 (900)\ttotal: 26.2s\tremaining: 58.4s\n",
      "1200:\ttest: 0.7405592\tbest: 0.7405592 (1200)\ttotal: 34.9s\tremaining: 49.6s\n",
      "1500:\ttest: 0.7410955\tbest: 0.7410955 (1500)\ttotal: 43.7s\tremaining: 41s\n",
      "1800:\ttest: 0.7414225\tbest: 0.7414225 (1800)\ttotal: 52.8s\tremaining: 32.4s\n",
      "2100:\ttest: 0.7417096\tbest: 0.7417096 (2100)\ttotal: 1m 1s\tremaining: 23.7s\n",
      "2400:\ttest: 0.7419230\tbest: 0.7419233 (2390)\ttotal: 1m 10s\tremaining: 14.9s\n",
      "2700:\ttest: 0.7420394\tbest: 0.7420420 (2689)\ttotal: 1m 19s\tremaining: 6.08s\n",
      "2907:\ttest: 0.7420986\tbest: 0.7421003 (2906)\ttotal: 1m 25s\tremaining: 0us\n",
      "bestTest = 0.7421003282\n",
      "bestIteration = 2906\n",
      "Shrink model to first 2907 iterations.\n"
     ]
    },
    {
     "name": "stderr",
     "output_type": "stream",
     "text": [
      "[I 2025-02-17 16:36:33,293] Trial 10 finished with value: 0.742100328207016 and parameters: {'iterations': 2908, 'depth': 8, 'learning_rate': 0.005716995335047832, 'l2_leaf_reg': 53.77119408946009}. Best is trial 10 with value: 0.742100328207016.\n"
     ]
    },
    {
     "name": "stdout",
     "output_type": "stream",
     "text": [
      "저장 완료\n"
     ]
    },
    {
     "name": "stderr",
     "output_type": "stream",
     "text": [
      "Default metric period is 5 because AUC is/are not implemented for GPU\n"
     ]
    },
    {
     "name": "stdout",
     "output_type": "stream",
     "text": [
      "0:\ttest: 0.7270865\tbest: 0.7270865 (0)\ttotal: 29.2ms\tremaining: 1m 25s\n",
      "300:\ttest: 0.7353356\tbest: 0.7353356 (300)\ttotal: 8.79s\tremaining: 1m 16s\n",
      "600:\ttest: 0.7385422\tbest: 0.7385422 (600)\ttotal: 17.5s\tremaining: 1m 7s\n",
      "900:\ttest: 0.7400729\tbest: 0.7400729 (900)\ttotal: 26.2s\tremaining: 59s\n",
      "1200:\ttest: 0.7408589\tbest: 0.7408589 (1200)\ttotal: 35s\tremaining: 50.3s\n",
      "1500:\ttest: 0.7413247\tbest: 0.7413247 (1500)\ttotal: 43.8s\tremaining: 41.7s\n",
      "1800:\ttest: 0.7416379\tbest: 0.7416379 (1800)\ttotal: 52.7s\tremaining: 33s\n",
      "2100:\ttest: 0.7418502\tbest: 0.7418535 (2093)\ttotal: 1m 1s\tremaining: 24.3s\n",
      "2400:\ttest: 0.7419739\tbest: 0.7419767 (2393)\ttotal: 1m 10s\tremaining: 15.5s\n",
      "2700:\ttest: 0.7420775\tbest: 0.7420825 (2697)\ttotal: 1m 18s\tremaining: 6.68s\n",
      "2929:\ttest: 0.7421132\tbest: 0.7421177 (2921)\ttotal: 1m 25s\tremaining: 0us\n",
      "bestTest = 0.742117703\n",
      "bestIteration = 2921\n",
      "Shrink model to first 2922 iterations.\n"
     ]
    },
    {
     "name": "stderr",
     "output_type": "stream",
     "text": [
      "[I 2025-02-17 16:38:00,567] Trial 11 finished with value: 0.742117702960968 and parameters: {'iterations': 2930, 'depth': 8, 'learning_rate': 0.006402408540446867, 'l2_leaf_reg': 83.11832707510945}. Best is trial 11 with value: 0.742117702960968.\n"
     ]
    },
    {
     "name": "stdout",
     "output_type": "stream",
     "text": [
      "저장 완료\n"
     ]
    },
    {
     "name": "stderr",
     "output_type": "stream",
     "text": [
      "Default metric period is 5 because AUC is/are not implemented for GPU\n"
     ]
    },
    {
     "name": "stdout",
     "output_type": "stream",
     "text": [
      "0:\ttest: 0.7237171\tbest: 0.7237171 (0)\ttotal: 22.2ms\tremaining: 1m 5s\n",
      "300:\ttest: 0.7412005\tbest: 0.7412208 (296)\ttotal: 6.55s\tremaining: 57.5s\n",
      "600:\ttest: 0.7417797\tbest: 0.7419575 (554)\ttotal: 13s\tremaining: 50.7s\n",
      "bestTest = 0.7419575453\n",
      "bestIteration = 554\n",
      "Shrink model to first 555 iterations.\n"
     ]
    },
    {
     "name": "stderr",
     "output_type": "stream",
     "text": [
      "[I 2025-02-17 16:38:20,484] Trial 12 finished with value: 0.7419575452804565 and parameters: {'iterations': 2941, 'depth': 7, 'learning_rate': 0.04193178467290181, 'l2_leaf_reg': 1.5372567535251158}. Best is trial 11 with value: 0.742117702960968.\n",
      "Default metric period is 5 because AUC is/are not implemented for GPU\n"
     ]
    },
    {
     "name": "stdout",
     "output_type": "stream",
     "text": [
      "0:\ttest: 0.7270840\tbest: 0.7270840 (0)\ttotal: 29.2ms\tremaining: 1m 17s\n",
      "300:\ttest: 0.7362865\tbest: 0.7362865 (300)\ttotal: 8.83s\tremaining: 1m 8s\n",
      "600:\ttest: 0.7393955\tbest: 0.7393955 (600)\ttotal: 17.5s\tremaining: 59.4s\n",
      "900:\ttest: 0.7406161\tbest: 0.7406161 (900)\ttotal: 26.3s\tremaining: 50.7s\n",
      "1200:\ttest: 0.7412517\tbest: 0.7412519 (1199)\ttotal: 35.1s\tremaining: 42s\n",
      "1500:\ttest: 0.7416478\tbest: 0.7416478 (1500)\ttotal: 43.8s\tremaining: 33.2s\n",
      "1800:\ttest: 0.7418928\tbest: 0.7418933 (1799)\ttotal: 52.6s\tremaining: 24.4s\n",
      "2100:\ttest: 0.7420352\tbest: 0.7420352 (2100)\ttotal: 1m 1s\tremaining: 15.7s\n",
      "2400:\ttest: 0.7420580\tbest: 0.7420896 (2237)\ttotal: 1m 10s\tremaining: 6.92s\n",
      "2637:\ttest: 0.7420784\tbest: 0.7421045 (2523)\ttotal: 1m 16s\tremaining: 0us\n",
      "bestTest = 0.7421044707\n",
      "bestIteration = 2523\n",
      "Shrink model to first 2524 iterations.\n"
     ]
    },
    {
     "name": "stderr",
     "output_type": "stream",
     "text": [
      "[I 2025-02-17 16:39:39,190] Trial 13 finished with value: 0.7421044707298279 and parameters: {'iterations': 2638, 'depth': 8, 'learning_rate': 0.007940569964231542, 'l2_leaf_reg': 65.5477287928456}. Best is trial 11 with value: 0.742117702960968.\n",
      "Default metric period is 5 because AUC is/are not implemented for GPU\n"
     ]
    },
    {
     "name": "stdout",
     "output_type": "stream",
     "text": [
      "0:\ttest: 0.7269979\tbest: 0.7269979 (0)\ttotal: 29.3ms\tremaining: 1m 15s\n",
      "300:\ttest: 0.7403478\tbest: 0.7403499 (299)\ttotal: 8.77s\tremaining: 1m 6s\n",
      "600:\ttest: 0.7416559\tbest: 0.7416559 (600)\ttotal: 17.6s\tremaining: 58.5s\n",
      "900:\ttest: 0.7417420\tbest: 0.7418948 (753)\ttotal: 26.3s\tremaining: 49.5s\n",
      "bestTest = 0.7418948412\n",
      "bestIteration = 753\n",
      "Shrink model to first 754 iterations.\n"
     ]
    },
    {
     "name": "stderr",
     "output_type": "stream",
     "text": [
      "[I 2025-02-17 16:40:11,491] Trial 14 finished with value: 0.7418948411941528 and parameters: {'iterations': 2594, 'depth': 8, 'learning_rate': 0.02182047604346704, 'l2_leaf_reg': 2.7018508933730327}. Best is trial 11 with value: 0.742117702960968.\n",
      "Default metric period is 5 because AUC is/are not implemented for GPU\n"
     ]
    },
    {
     "name": "stdout",
     "output_type": "stream",
     "text": [
      "0:\ttest: 0.7178428\tbest: 0.7178428 (0)\ttotal: 17.6ms\tremaining: 45.5s\n",
      "300:\ttest: 0.7404375\tbest: 0.7404375 (300)\ttotal: 5.13s\tremaining: 38.9s\n",
      "600:\ttest: 0.7418252\tbest: 0.7418268 (599)\ttotal: 10.1s\tremaining: 33.4s\n",
      "900:\ttest: 0.7420650\tbest: 0.7421066 (828)\ttotal: 15.1s\tremaining: 28.2s\n",
      "1200:\ttest: 0.7420775\tbest: 0.7421497 (1099)\ttotal: 20.1s\tremaining: 23.2s\n",
      "bestTest = 0.7421496809\n",
      "bestIteration = 1099\n",
      "Shrink model to first 1100 iterations.\n"
     ]
    },
    {
     "name": "stderr",
     "output_type": "stream",
     "text": [
      "[I 2025-02-17 16:40:36,614] Trial 15 finished with value: 0.74214968085289 and parameters: {'iterations': 2583, 'depth': 6, 'learning_rate': 0.02945133331652104, 'l2_leaf_reg': 17.018635601186592}. Best is trial 15 with value: 0.74214968085289.\n"
     ]
    },
    {
     "name": "stdout",
     "output_type": "stream",
     "text": [
      "저장 완료\n"
     ]
    },
    {
     "name": "stderr",
     "output_type": "stream",
     "text": [
      "Default metric period is 5 because AUC is/are not implemented for GPU\n"
     ]
    },
    {
     "name": "stdout",
     "output_type": "stream",
     "text": [
      "0:\ttest: 0.7178508\tbest: 0.7178508 (0)\ttotal: 17.3ms\tremaining: 42.4s\n",
      "300:\ttest: 0.7404634\tbest: 0.7404690 (296)\ttotal: 5.03s\tremaining: 35.9s\n",
      "600:\ttest: 0.7416528\tbest: 0.7416919 (579)\ttotal: 10s\tremaining: 30.8s\n",
      "900:\ttest: 0.7417689\tbest: 0.7419497 (807)\ttotal: 15.1s\tremaining: 26s\n",
      "bestTest = 0.7419497371\n",
      "bestIteration = 807\n",
      "Shrink model to first 808 iterations.\n"
     ]
    },
    {
     "name": "stderr",
     "output_type": "stream",
     "text": [
      "[I 2025-02-17 16:40:56,662] Trial 16 finished with value: 0.741949737071991 and parameters: {'iterations': 2447, 'depth': 6, 'learning_rate': 0.03388973769576295, 'l2_leaf_reg': 0.6982536559863144}. Best is trial 15 with value: 0.74214968085289.\n",
      "Default metric period is 5 because AUC is/are not implemented for GPU\n"
     ]
    },
    {
     "name": "stdout",
     "output_type": "stream",
     "text": [
      "0:\ttest: 0.7178497\tbest: 0.7178497 (0)\ttotal: 17.5ms\tremaining: 52s\n",
      "300:\ttest: 0.7387098\tbest: 0.7387098 (300)\ttotal: 5.05s\tremaining: 45s\n",
      "600:\ttest: 0.7406986\tbest: 0.7407015 (598)\ttotal: 10.1s\tremaining: 40.1s\n",
      "900:\ttest: 0.7415636\tbest: 0.7415641 (899)\ttotal: 15.2s\tremaining: 35s\n",
      "1200:\ttest: 0.7419131\tbest: 0.7419177 (1197)\ttotal: 20.2s\tremaining: 29.9s\n",
      "1500:\ttest: 0.7420940\tbest: 0.7421015 (1494)\ttotal: 25.2s\tremaining: 24.8s\n",
      "1800:\ttest: 0.7420676\tbest: 0.7421143 (1672)\ttotal: 30.3s\tremaining: 19.8s\n",
      "bestTest = 0.7421143055\n",
      "bestIteration = 1672\n",
      "Shrink model to first 1673 iterations.\n"
     ]
    },
    {
     "name": "stderr",
     "output_type": "stream",
     "text": [
      "[I 2025-02-17 16:41:31,560] Trial 17 finished with value: 0.7421143054962158 and parameters: {'iterations': 2979, 'depth': 6, 'learning_rate': 0.017766871991247823, 'l2_leaf_reg': 9.817028528692543}. Best is trial 15 with value: 0.74214968085289.\n",
      "Default metric period is 5 because AUC is/are not implemented for GPU\n"
     ]
    },
    {
     "name": "stdout",
     "output_type": "stream",
     "text": [
      "0:\ttest: 0.7178428\tbest: 0.7178428 (0)\ttotal: 17.7ms\tremaining: 44.2s\n",
      "300:\ttest: 0.7405781\tbest: 0.7405817 (298)\ttotal: 5.09s\tremaining: 37.2s\n",
      "600:\ttest: 0.7419787\tbest: 0.7419847 (599)\ttotal: 10.1s\tremaining: 32s\n",
      "900:\ttest: 0.7419780\tbest: 0.7420480 (880)\ttotal: 15.3s\tremaining: 27.3s\n",
      "bestTest = 0.7420480251\n",
      "bestIteration = 880\n",
      "Shrink model to first 881 iterations.\n"
     ]
    },
    {
     "name": "stderr",
     "output_type": "stream",
     "text": [
      "[I 2025-02-17 16:41:53,229] Trial 18 finished with value: 0.7420480251312256 and parameters: {'iterations': 2503, 'depth': 6, 'learning_rate': 0.03466231891260105, 'l2_leaf_reg': 16.533899587577825}. Best is trial 15 with value: 0.74214968085289.\n",
      "Default metric period is 5 because AUC is/are not implemented for GPU\n"
     ]
    },
    {
     "name": "stdout",
     "output_type": "stream",
     "text": [
      "0:\ttest: 0.7291490\tbest: 0.7291490 (0)\ttotal: 43.5ms\tremaining: 2m\n",
      "300:\ttest: 0.7371124\tbest: 0.7389602 (131)\ttotal: 13s\tremaining: 1m 46s\n",
      "bestTest = 0.7389602363\n",
      "bestIteration = 131\n",
      "Shrink model to first 132 iterations.\n"
     ]
    },
    {
     "name": "stderr",
     "output_type": "stream",
     "text": [
      "[I 2025-02-17 16:42:13,399] Trial 19 finished with value: 0.7389602363109589 and parameters: {'iterations': 2772, 'depth': 9, 'learning_rate': 0.048900902048107174, 'l2_leaf_reg': 0.00017797502732133725}. Best is trial 15 with value: 0.74214968085289.\n"
     ]
    },
    {
     "name": "stdout",
     "output_type": "stream",
     "text": [
      "Cat val score : 0.7421497564782547\n",
      "LGBM val score : 0.7417731218907365\n",
      "Ensemble val score : 0.7422389346410869\n"
     ]
    },
    {
     "name": "stderr",
     "output_type": "stream",
     "text": [
      "[I 2025-02-17 16:42:26,858] A new study created in memory with name: no-name-59dbaa60-8c98-4b9b-9ed2-bb691fb5cf6b\n"
     ]
    },
    {
     "name": "stdout",
     "output_type": "stream",
     "text": [
      "==================================================\n"
     ]
    },
    {
     "name": "stderr",
     "output_type": "stream",
     "text": [
      "Default metric period is 5 because AUC is/are not implemented for GPU\n"
     ]
    },
    {
     "name": "stdout",
     "output_type": "stream",
     "text": [
      "0:\ttest: 0.7298827\tbest: 0.7298827 (0)\ttotal: 75.1ms\tremaining: 2m 11s\n",
      "300:\ttest: 0.7363001\tbest: 0.7393504 (101)\ttotal: 20s\tremaining: 1m 36s\n",
      "bestTest = 0.7393504083\n",
      "bestIteration = 101\n",
      "Shrink model to first 102 iterations.\n"
     ]
    },
    {
     "name": "stderr",
     "output_type": "stream",
     "text": [
      "[I 2025-02-17 16:42:54,771] Trial 0 finished with value: 0.7393504083156586 and parameters: {'iterations': 1749, 'depth': 10, 'learning_rate': 0.07453942447208349, 'l2_leaf_reg': 0.39079671568228835}. Best is trial 0 with value: 0.7393504083156586.\n"
     ]
    },
    {
     "name": "stdout",
     "output_type": "stream",
     "text": [
      "저장 완료\n"
     ]
    },
    {
     "name": "stderr",
     "output_type": "stream",
     "text": [
      "Default metric period is 5 because AUC is/are not implemented for GPU\n"
     ]
    },
    {
     "name": "stdout",
     "output_type": "stream",
     "text": [
      "0:\ttest: 0.7135893\tbest: 0.7135893 (0)\ttotal: 14.3ms\tremaining: 18.8s\n",
      "300:\ttest: 0.7351475\tbest: 0.7351492 (299)\ttotal: 4.13s\tremaining: 13.9s\n",
      "600:\ttest: 0.7378249\tbest: 0.7378249 (600)\ttotal: 8.21s\tremaining: 9.71s\n",
      "900:\ttest: 0.7391776\tbest: 0.7391776 (900)\ttotal: 12.2s\tremaining: 5.57s\n",
      "1200:\ttest: 0.7398511\tbest: 0.7398523 (1199)\ttotal: 16.3s\tremaining: 1.51s\n",
      "1311:\ttest: 0.7400721\tbest: 0.7400721 (1311)\ttotal: 17.8s\tremaining: 0us\n",
      "bestTest = 0.7400721312\n",
      "bestIteration = 1311\n"
     ]
    },
    {
     "name": "stderr",
     "output_type": "stream",
     "text": [
      "[I 2025-02-17 16:43:14,052] Trial 1 finished with value: 0.7400721311569214 and parameters: {'iterations': 1312, 'depth': 5, 'learning_rate': 0.010517943155978949, 'l2_leaf_reg': 15.741890047456648}. Best is trial 1 with value: 0.7400721311569214.\n"
     ]
    },
    {
     "name": "stdout",
     "output_type": "stream",
     "text": [
      "저장 완료\n"
     ]
    },
    {
     "name": "stderr",
     "output_type": "stream",
     "text": [
      "Default metric period is 5 because AUC is/are not implemented for GPU\n"
     ]
    },
    {
     "name": "stdout",
     "output_type": "stream",
     "text": [
      "0:\ttest: 0.7293189\tbest: 0.7293189 (0)\ttotal: 30.3ms\tremaining: 1m 6s\n",
      "300:\ttest: 0.7364279\tbest: 0.7364279 (300)\ttotal: 8.86s\tremaining: 56s\n",
      "600:\ttest: 0.7388327\tbest: 0.7388327 (600)\ttotal: 17.7s\tremaining: 47.1s\n",
      "900:\ttest: 0.7398778\tbest: 0.7398780 (899)\ttotal: 26.6s\tremaining: 38.4s\n",
      "1200:\ttest: 0.7404363\tbest: 0.7404365 (1199)\ttotal: 35.5s\tremaining: 29.6s\n",
      "1500:\ttest: 0.7407994\tbest: 0.7407994 (1500)\ttotal: 44.6s\tremaining: 20.8s\n",
      "1800:\ttest: 0.7409709\tbest: 0.7409748 (1787)\ttotal: 53.6s\tremaining: 11.9s\n",
      "2100:\ttest: 0.7410921\tbest: 0.7410969 (2056)\ttotal: 1m 2s\tremaining: 3s\n",
      "2201:\ttest: 0.7411247\tbest: 0.7411309 (2179)\ttotal: 1m 5s\tremaining: 0us\n",
      "bestTest = 0.7411308885\n",
      "bestIteration = 2179\n",
      "Shrink model to first 2180 iterations.\n"
     ]
    },
    {
     "name": "stderr",
     "output_type": "stream",
     "text": [
      "[I 2025-02-17 16:44:21,241] Trial 2 finished with value: 0.7411308884620667 and parameters: {'iterations': 2202, 'depth': 8, 'learning_rate': 0.006955526958101232, 'l2_leaf_reg': 65.98711072054076}. Best is trial 2 with value: 0.7411308884620667.\n"
     ]
    },
    {
     "name": "stdout",
     "output_type": "stream",
     "text": [
      "저장 완료\n"
     ]
    },
    {
     "name": "stderr",
     "output_type": "stream",
     "text": [
      "Default metric period is 5 because AUC is/are not implemented for GPU\n"
     ]
    },
    {
     "name": "stdout",
     "output_type": "stream",
     "text": [
      "0:\ttest: 0.7135922\tbest: 0.7135922 (0)\ttotal: 14.2ms\tremaining: 38s\n",
      "300:\ttest: 0.7382689\tbest: 0.7382689 (300)\ttotal: 4.02s\tremaining: 31.6s\n",
      "600:\ttest: 0.7397836\tbest: 0.7397836 (600)\ttotal: 8.02s\tremaining: 27.5s\n",
      "900:\ttest: 0.7402762\tbest: 0.7403014 (828)\ttotal: 12s\tremaining: 23.5s\n",
      "1200:\ttest: 0.7405171\tbest: 0.7405427 (1175)\ttotal: 16s\tremaining: 19.5s\n",
      "1500:\ttest: 0.7406407\tbest: 0.7406699 (1422)\ttotal: 20.2s\tremaining: 15.6s\n",
      "1800:\ttest: 0.7405935\tbest: 0.7406951 (1558)\ttotal: 24.3s\tremaining: 11.7s\n",
      "bestTest = 0.7406950593\n",
      "bestIteration = 1558\n",
      "Shrink model to first 1559 iterations.\n"
     ]
    },
    {
     "name": "stderr",
     "output_type": "stream",
     "text": [
      "[I 2025-02-17 16:44:47,804] Trial 3 finished with value: 0.740695059299469 and parameters: {'iterations': 2665, 'depth': 5, 'learning_rate': 0.02227337188467456, 'l2_leaf_reg': 0.0012601639723276807}. Best is trial 2 with value: 0.7411308884620667.\n",
      "Default metric period is 5 because AUC is/are not implemented for GPU\n"
     ]
    },
    {
     "name": "stdout",
     "output_type": "stream",
     "text": [
      "0:\ttest: 0.7259192\tbest: 0.7259192 (0)\ttotal: 22.6ms\tremaining: 36.3s\n",
      "300:\ttest: 0.7405680\tbest: 0.7406215 (271)\ttotal: 6.59s\tremaining: 28.6s\n",
      "600:\ttest: 0.7404175\tbest: 0.7407328 (315)\ttotal: 13.1s\tremaining: 22s\n",
      "bestTest = 0.7407328486\n",
      "bestIteration = 315\n",
      "Shrink model to first 316 iterations.\n"
     ]
    },
    {
     "name": "stderr",
     "output_type": "stream",
     "text": [
      "[I 2025-02-17 16:45:02,751] Trial 4 finished with value: 0.7407328486442566 and parameters: {'iterations': 1608, 'depth': 7, 'learning_rate': 0.046034776771001, 'l2_leaf_reg': 0.005589524205217926}. Best is trial 2 with value: 0.7411308884620667.\n",
      "Default metric period is 5 because AUC is/are not implemented for GPU\n"
     ]
    },
    {
     "name": "stdout",
     "output_type": "stream",
     "text": [
      "0:\ttest: 0.7114577\tbest: 0.7114577 (0)\ttotal: 11.7ms\tremaining: 25.9s\n",
      "300:\ttest: 0.7381026\tbest: 0.7381037 (299)\ttotal: 3.27s\tremaining: 20.9s\n",
      "600:\ttest: 0.7398249\tbest: 0.7398249 (600)\ttotal: 6.55s\tremaining: 17.7s\n",
      "900:\ttest: 0.7402829\tbest: 0.7402939 (871)\ttotal: 9.78s\tremaining: 14.4s\n",
      "1200:\ttest: 0.7405102\tbest: 0.7405261 (1151)\ttotal: 13s\tremaining: 11.1s\n",
      "1500:\ttest: 0.7406637\tbest: 0.7406831 (1425)\ttotal: 16.3s\tremaining: 7.83s\n",
      "1800:\ttest: 0.7406744\tbest: 0.7407164 (1678)\ttotal: 19.7s\tremaining: 4.63s\n",
      "bestTest = 0.7407163978\n",
      "bestIteration = 1678\n",
      "Shrink model to first 1679 iterations.\n"
     ]
    },
    {
     "name": "stderr",
     "output_type": "stream",
     "text": [
      "[I 2025-02-17 16:45:25,946] Trial 5 finished with value: 0.7407163977622986 and parameters: {'iterations': 2224, 'depth': 4, 'learning_rate': 0.032753741610845724, 'l2_leaf_reg': 0.01578232781079559}. Best is trial 2 with value: 0.7411308884620667.\n",
      "Default metric period is 5 because AUC is/are not implemented for GPU\n"
     ]
    },
    {
     "name": "stdout",
     "output_type": "stream",
     "text": [
      "0:\ttest: 0.7305985\tbest: 0.7305985 (0)\ttotal: 42.9ms\tremaining: 1m 22s\n",
      "300:\ttest: 0.7396319\tbest: 0.7396818 (297)\ttotal: 13.2s\tremaining: 1m 10s\n",
      "600:\ttest: 0.7399129\tbest: 0.7401982 (575)\ttotal: 26.2s\tremaining: 57.2s\n",
      "bestTest = 0.740198195\n",
      "bestIteration = 575\n",
      "Shrink model to first 576 iterations.\n"
     ]
    },
    {
     "name": "stderr",
     "output_type": "stream",
     "text": [
      "[I 2025-02-17 16:46:05,690] Trial 6 finished with value: 0.7401981949806213 and parameters: {'iterations': 1912, 'depth': 9, 'learning_rate': 0.023969009305044177, 'l2_leaf_reg': 0.12173252504194051}. Best is trial 2 with value: 0.7411308884620667.\n",
      "Default metric period is 5 because AUC is/are not implemented for GPU\n"
     ]
    },
    {
     "name": "stdout",
     "output_type": "stream",
     "text": [
      "0:\ttest: 0.7114577\tbest: 0.7114577 (0)\ttotal: 13.4ms\tremaining: 29.3s\n",
      "300:\ttest: 0.7396050\tbest: 0.7396980 (264)\ttotal: 3.41s\tremaining: 21.4s\n",
      "600:\ttest: 0.7400717\tbest: 0.7400849 (597)\ttotal: 6.61s\tremaining: 17.4s\n",
      "900:\ttest: 0.7403284\tbest: 0.7403696 (848)\ttotal: 9.86s\tremaining: 14.1s\n",
      "bestTest = 0.7403695583\n",
      "bestIteration = 848\n",
      "Shrink model to first 849 iterations.\n"
     ]
    },
    {
     "name": "stderr",
     "output_type": "stream",
     "text": [
      "[I 2025-02-17 16:46:19,690] Trial 7 finished with value: 0.7403695583343506 and parameters: {'iterations': 2185, 'depth': 4, 'learning_rate': 0.06271676093063665, 'l2_leaf_reg': 0.0010547383621352044}. Best is trial 2 with value: 0.7411308884620667.\n",
      "Default metric period is 5 because AUC is/are not implemented for GPU\n"
     ]
    },
    {
     "name": "stdout",
     "output_type": "stream",
     "text": [
      "0:\ttest: 0.7299126\tbest: 0.7299126 (0)\ttotal: 68.4ms\tremaining: 1m 17s\n",
      "300:\ttest: 0.7376972\tbest: 0.7405563 (112)\ttotal: 20s\tremaining: 55.1s\n",
      "bestTest = 0.7405562997\n",
      "bestIteration = 112\n",
      "Shrink model to first 113 iterations.\n"
     ]
    },
    {
     "name": "stderr",
     "output_type": "stream",
     "text": [
      "[I 2025-02-17 16:46:48,763] Trial 8 finished with value: 0.7405562996864319 and parameters: {'iterations': 1130, 'depth': 10, 'learning_rate': 0.09673504314208314, 'l2_leaf_reg': 7.085721663941605}. Best is trial 2 with value: 0.7411308884620667.\n",
      "Default metric period is 5 because AUC is/are not implemented for GPU\n"
     ]
    },
    {
     "name": "stdout",
     "output_type": "stream",
     "text": [
      "0:\ttest: 0.7114577\tbest: 0.7114577 (0)\ttotal: 11.5ms\tremaining: 18.4s\n",
      "300:\ttest: 0.7398974\tbest: 0.7399052 (292)\ttotal: 3.33s\tremaining: 14.5s\n",
      "600:\ttest: 0.7405229\tbest: 0.7405469 (595)\ttotal: 6.57s\tremaining: 11s\n",
      "900:\ttest: 0.7407244\tbest: 0.7407823 (850)\ttotal: 9.82s\tremaining: 7.72s\n",
      "1200:\ttest: 0.7404982\tbest: 0.7408126 (953)\ttotal: 13.1s\tremaining: 4.44s\n",
      "bestTest = 0.7408125699\n",
      "bestIteration = 953\n",
      "Shrink model to first 954 iterations.\n"
     ]
    },
    {
     "name": "stderr",
     "output_type": "stream",
     "text": [
      "[I 2025-02-17 16:47:03,814] Trial 9 finished with value: 0.7408125698566437 and parameters: {'iterations': 1609, 'depth': 4, 'learning_rate': 0.07000213751865492, 'l2_leaf_reg': 0.04374364439939081}. Best is trial 2 with value: 0.7411308884620667.\n",
      "Default metric period is 5 because AUC is/are not implemented for GPU\n"
     ]
    },
    {
     "name": "stdout",
     "output_type": "stream",
     "text": [
      "0:\ttest: 0.7293314\tbest: 0.7293314 (0)\ttotal: 29.9ms\tremaining: 1m 26s\n",
      "300:\ttest: 0.7354867\tbest: 0.7354867 (300)\ttotal: 8.75s\tremaining: 1m 15s\n",
      "600:\ttest: 0.7381843\tbest: 0.7381843 (600)\ttotal: 17.6s\tremaining: 1m 7s\n",
      "900:\ttest: 0.7394417\tbest: 0.7394445 (899)\ttotal: 26.4s\tremaining: 58.8s\n",
      "1200:\ttest: 0.7400622\tbest: 0.7400622 (1200)\ttotal: 35.2s\tremaining: 50.1s\n",
      "1500:\ttest: 0.7405096\tbest: 0.7405096 (1500)\ttotal: 44.1s\tremaining: 41.3s\n",
      "1800:\ttest: 0.7407386\tbest: 0.7407417 (1797)\ttotal: 52.9s\tremaining: 32.5s\n",
      "2100:\ttest: 0.7409153\tbest: 0.7409153 (2100)\ttotal: 1m 1s\tremaining: 23.7s\n",
      "2400:\ttest: 0.7410471\tbest: 0.7410472 (2388)\ttotal: 1m 10s\tremaining: 14.9s\n",
      "2700:\ttest: 0.7411667\tbest: 0.7411732 (2694)\ttotal: 1m 19s\tremaining: 6.07s\n",
      "2907:\ttest: 0.7411906\tbest: 0.7411991 (2890)\ttotal: 1m 25s\tremaining: 0us\n",
      "bestTest = 0.7411991358\n",
      "bestIteration = 2890\n",
      "Shrink model to first 2891 iterations.\n"
     ]
    },
    {
     "name": "stderr",
     "output_type": "stream",
     "text": [
      "[I 2025-02-17 16:48:31,016] Trial 10 finished with value: 0.7411991357803345 and parameters: {'iterations': 2908, 'depth': 8, 'learning_rate': 0.005716995335047832, 'l2_leaf_reg': 53.77119408946009}. Best is trial 10 with value: 0.7411991357803345.\n"
     ]
    },
    {
     "name": "stdout",
     "output_type": "stream",
     "text": [
      "저장 완료\n"
     ]
    },
    {
     "name": "stderr",
     "output_type": "stream",
     "text": [
      "Default metric period is 5 because AUC is/are not implemented for GPU\n"
     ]
    },
    {
     "name": "stdout",
     "output_type": "stream",
     "text": [
      "0:\ttest: 0.7293216\tbest: 0.7293216 (0)\ttotal: 30.3ms\tremaining: 1m 28s\n",
      "300:\ttest: 0.7359899\tbest: 0.7359899 (300)\ttotal: 8.89s\tremaining: 1m 17s\n",
      "600:\ttest: 0.7385969\tbest: 0.7385969 (600)\ttotal: 17.8s\tremaining: 1m 8s\n",
      "900:\ttest: 0.7396753\tbest: 0.7396778 (897)\ttotal: 26.6s\tremaining: 60s\n",
      "1200:\ttest: 0.7402391\tbest: 0.7402391 (1200)\ttotal: 35.6s\tremaining: 51.2s\n",
      "1500:\ttest: 0.7406571\tbest: 0.7406571 (1500)\ttotal: 44.5s\tremaining: 42.4s\n",
      "1800:\ttest: 0.7408934\tbest: 0.7408934 (1800)\ttotal: 53.3s\tremaining: 33.4s\n",
      "2100:\ttest: 0.7410089\tbest: 0.7410166 (2085)\ttotal: 1m 2s\tremaining: 24.5s\n",
      "2400:\ttest: 0.7411439\tbest: 0.7411502 (2347)\ttotal: 1m 11s\tremaining: 15.6s\n",
      "2700:\ttest: 0.7412184\tbest: 0.7412223 (2688)\ttotal: 1m 19s\tremaining: 6.77s\n",
      "2929:\ttest: 0.7412367\tbest: 0.7412382 (2910)\ttotal: 1m 26s\tremaining: 0us\n",
      "bestTest = 0.7412382364\n",
      "bestIteration = 2910\n",
      "Shrink model to first 2911 iterations.\n"
     ]
    },
    {
     "name": "stderr",
     "output_type": "stream",
     "text": [
      "[I 2025-02-17 16:49:59,537] Trial 11 finished with value: 0.7412382364273071 and parameters: {'iterations': 2930, 'depth': 8, 'learning_rate': 0.006402408540446867, 'l2_leaf_reg': 83.11832707510945}. Best is trial 11 with value: 0.7412382364273071.\n"
     ]
    },
    {
     "name": "stdout",
     "output_type": "stream",
     "text": [
      "저장 완료\n"
     ]
    },
    {
     "name": "stderr",
     "output_type": "stream",
     "text": [
      "Default metric period is 5 because AUC is/are not implemented for GPU\n"
     ]
    },
    {
     "name": "stdout",
     "output_type": "stream",
     "text": [
      "0:\ttest: 0.7259188\tbest: 0.7259188 (0)\ttotal: 23.3ms\tremaining: 1m 8s\n",
      "300:\ttest: 0.7404077\tbest: 0.7404802 (289)\ttotal: 6.63s\tremaining: 58.2s\n",
      "600:\ttest: 0.7406636\tbest: 0.7407801 (494)\ttotal: 13.2s\tremaining: 51.4s\n",
      "bestTest = 0.7407800555\n",
      "bestIteration = 494\n",
      "Shrink model to first 495 iterations.\n"
     ]
    },
    {
     "name": "stderr",
     "output_type": "stream",
     "text": [
      "[I 2025-02-17 16:50:18,360] Trial 12 finished with value: 0.7407800555229187 and parameters: {'iterations': 2941, 'depth': 7, 'learning_rate': 0.04193178467290181, 'l2_leaf_reg': 1.5372567535251158}. Best is trial 11 with value: 0.7412382364273071.\n",
      "Default metric period is 5 because AUC is/are not implemented for GPU\n"
     ]
    },
    {
     "name": "stdout",
     "output_type": "stream",
     "text": [
      "0:\ttest: 0.7293189\tbest: 0.7293189 (0)\ttotal: 29.5ms\tremaining: 1m 17s\n",
      "300:\ttest: 0.7369538\tbest: 0.7369538 (300)\ttotal: 8.86s\tremaining: 1m 8s\n",
      "600:\ttest: 0.7392760\tbest: 0.7392760 (600)\ttotal: 17.6s\tremaining: 59.6s\n",
      "900:\ttest: 0.7402816\tbest: 0.7402816 (900)\ttotal: 26.5s\tremaining: 51.1s\n",
      "1200:\ttest: 0.7406805\tbest: 0.7406813 (1196)\ttotal: 35.5s\tremaining: 42.4s\n",
      "1500:\ttest: 0.7410021\tbest: 0.7410021 (1500)\ttotal: 44.4s\tremaining: 33.6s\n",
      "1800:\ttest: 0.7411775\tbest: 0.7411775 (1800)\ttotal: 53.3s\tremaining: 24.8s\n",
      "2100:\ttest: 0.7412888\tbest: 0.7412913 (2098)\ttotal: 1m 2s\tremaining: 15.9s\n",
      "2400:\ttest: 0.7413514\tbest: 0.7413591 (2393)\ttotal: 1m 10s\tremaining: 7s\n",
      "2637:\ttest: 0.7413732\tbest: 0.7413746 (2615)\ttotal: 1m 17s\tremaining: 0us\n",
      "bestTest = 0.7413746119\n",
      "bestIteration = 2615\n",
      "Shrink model to first 2616 iterations.\n"
     ]
    },
    {
     "name": "stderr",
     "output_type": "stream",
     "text": [
      "[I 2025-02-17 16:51:38,081] Trial 13 finished with value: 0.7413746118545532 and parameters: {'iterations': 2638, 'depth': 8, 'learning_rate': 0.007940569964231542, 'l2_leaf_reg': 65.5477287928456}. Best is trial 13 with value: 0.7413746118545532.\n"
     ]
    },
    {
     "name": "stdout",
     "output_type": "stream",
     "text": [
      "저장 완료\n"
     ]
    },
    {
     "name": "stderr",
     "output_type": "stream",
     "text": [
      "Default metric period is 5 because AUC is/are not implemented for GPU\n"
     ]
    },
    {
     "name": "stdout",
     "output_type": "stream",
     "text": [
      "0:\ttest: 0.7292961\tbest: 0.7292961 (0)\ttotal: 29.4ms\tremaining: 1m 16s\n",
      "300:\ttest: 0.7399203\tbest: 0.7399278 (298)\ttotal: 8.74s\tremaining: 1m 6s\n",
      "600:\ttest: 0.7410222\tbest: 0.7410222 (600)\ttotal: 17.6s\tremaining: 58.3s\n",
      "900:\ttest: 0.7410839\tbest: 0.7411455 (681)\ttotal: 26.4s\tremaining: 49.5s\n",
      "bestTest = 0.7411454916\n",
      "bestIteration = 681\n",
      "Shrink model to first 682 iterations.\n"
     ]
    },
    {
     "name": "stderr",
     "output_type": "stream",
     "text": [
      "[I 2025-02-17 16:52:08,334] Trial 14 finished with value: 0.7411454916000366 and parameters: {'iterations': 2594, 'depth': 8, 'learning_rate': 0.02182047604346704, 'l2_leaf_reg': 2.7018508933730327}. Best is trial 13 with value: 0.7413746118545532.\n",
      "Default metric period is 5 because AUC is/are not implemented for GPU\n"
     ]
    },
    {
     "name": "stdout",
     "output_type": "stream",
     "text": [
      "0:\ttest: 0.7196538\tbest: 0.7196538 (0)\ttotal: 18.1ms\tremaining: 46.7s\n",
      "300:\ttest: 0.7396536\tbest: 0.7396536 (300)\ttotal: 5.13s\tremaining: 38.9s\n",
      "600:\ttest: 0.7407756\tbest: 0.7407756 (600)\ttotal: 10.2s\tremaining: 33.7s\n",
      "900:\ttest: 0.7410212\tbest: 0.7410294 (896)\ttotal: 15.3s\tremaining: 28.6s\n",
      "1200:\ttest: 0.7409909\tbest: 0.7410663 (947)\ttotal: 20.4s\tremaining: 23.5s\n",
      "bestTest = 0.7410663366\n",
      "bestIteration = 947\n",
      "Shrink model to first 948 iterations.\n"
     ]
    },
    {
     "name": "stderr",
     "output_type": "stream",
     "text": [
      "[I 2025-02-17 16:52:31,003] Trial 15 finished with value: 0.7410663366317749 and parameters: {'iterations': 2583, 'depth': 6, 'learning_rate': 0.02945133331652104, 'l2_leaf_reg': 17.018635601186592}. Best is trial 13 with value: 0.7413746118545532.\n",
      "Default metric period is 5 because AUC is/are not implemented for GPU\n"
     ]
    },
    {
     "name": "stdout",
     "output_type": "stream",
     "text": [
      "0:\ttest: 0.7307397\tbest: 0.7307397 (0)\ttotal: 43.3ms\tremaining: 1m 45s\n",
      "300:\ttest: 0.7394281\tbest: 0.7394326 (299)\ttotal: 12.8s\tremaining: 1m 31s\n",
      "600:\ttest: 0.7406599\tbest: 0.7406599 (600)\ttotal: 25.8s\tremaining: 1m 19s\n",
      "900:\ttest: 0.7410492\tbest: 0.7410538 (897)\ttotal: 38.7s\tremaining: 1m 6s\n",
      "1200:\ttest: 0.7411094\tbest: 0.7411116 (1187)\ttotal: 51.5s\tremaining: 53.4s\n",
      "1500:\ttest: 0.7410030\tbest: 0.7411685 (1310)\ttotal: 1m 4s\tremaining: 40.6s\n",
      "bestTest = 0.741168499\n",
      "bestIteration = 1310\n",
      "Shrink model to first 1311 iterations.\n"
     ]
    },
    {
     "name": "stderr",
     "output_type": "stream",
     "text": [
      "[I 2025-02-17 16:53:41,872] Trial 16 finished with value: 0.7411684989929199 and parameters: {'iterations': 2447, 'depth': 9, 'learning_rate': 0.01538472547421383, 'l2_leaf_reg': 94.64533014403676}. Best is trial 13 with value: 0.7413746118545532.\n",
      "Default metric period is 5 because AUC is/are not implemented for GPU\n"
     ]
    },
    {
     "name": "stdout",
     "output_type": "stream",
     "text": [
      "0:\ttest: 0.7305911\tbest: 0.7305911 (0)\ttotal: 42.8ms\tremaining: 2m 7s\n",
      "300:\ttest: 0.7382319\tbest: 0.7385917 (119)\ttotal: 13.1s\tremaining: 1m 56s\n",
      "bestTest = 0.7385917306\n",
      "bestIteration = 119\n",
      "Shrink model to first 120 iterations.\n"
     ]
    },
    {
     "name": "stderr",
     "output_type": "stream",
     "text": [
      "[I 2025-02-17 16:54:01,478] Trial 17 finished with value: 0.738591730594635 and parameters: {'iterations': 2979, 'depth': 9, 'learning_rate': 0.03605925570347782, 'l2_leaf_reg': 0.00016260154106128273}. Best is trial 13 with value: 0.7413746118545532.\n",
      "Default metric period is 5 because AUC is/are not implemented for GPU\n"
     ]
    },
    {
     "name": "stdout",
     "output_type": "stream",
     "text": [
      "0:\ttest: 0.7196586\tbest: 0.7196586 (0)\ttotal: 17.6ms\tremaining: 47.8s\n",
      "300:\ttest: 0.7407325\tbest: 0.7407325 (300)\ttotal: 5.06s\tremaining: 40.7s\n",
      "600:\ttest: 0.7414441\tbest: 0.7414863 (590)\ttotal: 10.1s\tremaining: 35.5s\n",
      "900:\ttest: 0.7409766\tbest: 0.7414988 (654)\ttotal: 15.1s\tremaining: 30.5s\n",
      "bestTest = 0.7414987683\n",
      "bestIteration = 654\n",
      "Shrink model to first 655 iterations.\n"
     ]
    },
    {
     "name": "stderr",
     "output_type": "stream",
     "text": [
      "[I 2025-02-17 16:54:18,947] Trial 18 finished with value: 0.7414987683296204 and parameters: {'iterations': 2720, 'depth': 6, 'learning_rate': 0.05222311239303098, 'l2_leaf_reg': 0.7013678302835362}. Best is trial 18 with value: 0.7414987683296204.\n"
     ]
    },
    {
     "name": "stdout",
     "output_type": "stream",
     "text": [
      "저장 완료\n"
     ]
    },
    {
     "name": "stderr",
     "output_type": "stream",
     "text": [
      "Default metric period is 5 because AUC is/are not implemented for GPU\n"
     ]
    },
    {
     "name": "stdout",
     "output_type": "stream",
     "text": [
      "0:\ttest: 0.7196586\tbest: 0.7196586 (0)\ttotal: 17.6ms\tremaining: 42s\n",
      "300:\ttest: 0.7403616\tbest: 0.7406692 (260)\ttotal: 5.06s\tremaining: 35s\n"
     ]
    },
    {
     "name": "stderr",
     "output_type": "stream",
     "text": [
      "[I 2025-02-17 16:54:29,836] Trial 19 finished with value: 0.7406691908836365 and parameters: {'iterations': 2380, 'depth': 6, 'learning_rate': 0.09179224566434405, 'l2_leaf_reg': 0.6228449322684466}. Best is trial 18 with value: 0.7414987683296204.\n"
     ]
    },
    {
     "name": "stdout",
     "output_type": "stream",
     "text": [
      "bestTest = 0.7406691909\n",
      "bestIteration = 260\n",
      "Shrink model to first 261 iterations.\n",
      "Cat val score : 0.7414987932159092\n",
      "LGBM val score : 0.7406069917331549\n",
      "Ensemble val score : 0.7414138956684271\n"
     ]
    }
   ],
   "source": [
    "for col in X.columns:\n",
    "    if X[col].dtype == 'object':  # 문자형이면 category로 변환\n",
    "        X[col] = X[col].astype('category')\n",
    "        test[col] = test[col].astype('category')\n",
    "seed = 42\n",
    "\n",
    "test_pred_total = []\n",
    "scores_total = []\n",
    "seed_everything(seed)\n",
    "print('Seed {} Start!'.format(seed))\n",
    "cv = StratifiedKFold(n_splits = 10, random_state = seed, shuffle=True)\n",
    "\n",
    "cat_param_list = []\n",
    "lgbm_param_list = []\n",
    "for idx, (train_idx, val_idx) in enumerate(cv.split(X, y)):\n",
    "    print('='*50)\n",
    "    X_train, X_val = X.iloc[train_idx],X.iloc[val_idx]\n",
    "    y_train, y_val = y.iloc[train_idx], y.iloc[val_idx]\n",
    "    \n",
    "    best_val_auc = 0\n",
    "\n",
    "    sampler = TPESampler(seed=seed)\n",
    "    optuna_cat = optuna.create_study(direction='maximize', sampler=sampler)\n",
    "    optuna_cat.optimize(objective_cat, n_trials = 20)\n",
    "    cat_trial = optuna_cat.best_trial\n",
    "    cat_trial_params = cat_trial.params\n",
    "    cat_param_list.append(cat_trial_params)\n",
    "    \n",
    "    model = CatBoostClassifier(**cat_trial_params, auto_class_weights='Balanced', eval_metric='AUC', random_state=seed, task_type=\"GPU\" )\n",
    "    model.load_model(\"./weight/cat_fold_gpu{}.cbm\".format(idx))\n",
    "    #model = CatBoostClassifier(auto_class_weights='Balanced', eval_metric='AUC', random_state=seed, task_type=\"CPU\" )\n",
    "    #model.fit(X_train,y_train,cat_features=categorical_columns,early_stopping_rounds = 300,eval_set=[(X_val,y_val)], verbose = 300)\n",
    "    \n",
    "    # model_gpu = CatBoostClassifier(auto_class_weights='Balanced',eval_metric='AUC', random_state = 501, task_type=\"GPU\" )\n",
    "    # model_gpu.fit(X_train,y_train,cat_features=categorical_columns, early_stopping_rounds = 300,eval_set=[(X_val,y_val)], verbose = 300)\n",
    "    # model_gpu.save_model(\"cat_fold_{}.cbm\".format(idx))\n",
    "\n",
    "\n",
    "    # sampler = TPESampler(seed=seed)\n",
    "    # optuna_lgbm = optuna.create_study(direction='maximize', sampler=sampler)\n",
    "    # optuna_lgbm.optimize(objective_lgbm, n_trials = 20)\n",
    "    # lgbm_trial = optuna_lgbm.best_trial\n",
    "    # lgbm_trial_params = lgbm_trial.params\n",
    "    # lgbm_param_list.append(lgbm_trial_params)\n",
    "    lgbm_trial_params =loaded_lgbm_params[idx]\n",
    "    #print(lgbm_trial_params)\n",
    "\n",
    "    class_weights = compute_class_weight(class_weight=\"balanced\", classes=np.unique(y), y=y_train)\n",
    "    class_weight_dict = {i: w for i, w in enumerate(class_weights)}\n",
    "\n",
    "    model_lgbm = lgb.LGBMClassifier(**lgbm_trial_params,class_weight=class_weight_dict)\n",
    "    #model_lgbm= lgb.LGBMClassifier(objective = 'binary', metric = 'auc', random_state =  seed, class_weight=class_weight_dict)\n",
    "    model_lgbm.fit(X_train, y_train, eval_set=[(X_val, y_val)],categorical_feature=categorical_columns)\n",
    "\n",
    "    val_pred = model.predict_proba(X_val)[:, 1]\n",
    "    val_pred_lgbm = model_lgbm.predict_proba(X_val)[:, 1]\n",
    "    print('Cat val score : {}'.format(roc_auc_score(y_val,val_pred)))\n",
    "    print('LGBM val score : {}'.format(roc_auc_score(y_val,val_pred_lgbm)))\n",
    "\n",
    "    roc_val = roc_auc_score(y_val, (val_pred+val_pred_lgbm)/2)\n",
    "    scores_total.append(roc_val)\n",
    "    print('Ensemble val score : {}'.format(roc_val))\n",
    "\n",
    "    test_pred = model.predict_proba(test)[:, 1]\n",
    "    test_pred_lgbm = model_lgbm.predict_proba(test)[:, 1]\n",
    "    test_pred_total.append((test_pred+test_pred_lgbm)/2)"
   ]
  },
  {
   "cell_type": "code",
   "execution_count": 115,
   "metadata": {},
   "outputs": [],
   "source": [
    "import json\n",
    "\n",
    "# with open(\"cat_gpu_params.json\", \"w\") as f:\n",
    "#     json.dump(cat_param_list, f)\n",
    "# with open(\"lgbm_params.json\", \"w\") as f:\n",
    "#     json.dump(lgbm_param_list, f)  \n",
    "with open(\"cat_params.json\", \"r\") as f:\n",
    "    loaded_cat_params = json.load(f)\n",
    "with open(\"cat_gpu_params.json\", \"r\") as f:\n",
    "    loaded_cat_gpu_params = json.load(f)\n",
    "with open(\"lgbm_params.json\", \"r\") as f:\n",
    "    loaded_lgbm_params = json.load(f)"
   ]
  },
  {
   "cell_type": "code",
   "execution_count": 107,
   "metadata": {
    "colab": {
     "base_uri": "https://localhost:8080/"
    },
    "id": "LDLeh9IJD9pt",
    "outputId": "0534775f-2085-448a-d2aa-690a9e4e4ff4"
   },
   "outputs": [
    {
     "data": {
      "text/plain": [
       "(0.7409094315640091,\n",
       " [0.7443275439083659,\n",
       "  0.7332942435243921,\n",
       "  0.7403343565831533,\n",
       "  0.7473621124847871,\n",
       "  0.7438286789411102,\n",
       "  0.7383914079679295,\n",
       "  0.737396625521826,\n",
       "  0.7405065163990137,\n",
       "  0.7422389346410869,\n",
       "  0.7414138956684271])"
      ]
     },
     "execution_count": 107,
     "metadata": {},
     "output_type": "execute_result"
    }
   ],
   "source": [
    "np.mean(scores_total), scores_total"
   ]
  },
  {
   "cell_type": "code",
   "execution_count": null,
   "metadata": {
    "colab": {
     "base_uri": "https://localhost:8080/"
    },
    "id": "E8D6DZP0pIm3",
    "outputId": "946ae60d-f2f2-405e-e757-ab31fe0d2375"
   },
   "outputs": [
    {
     "data": {
      "text/plain": [
       "(0.7404744276134504,\n",
       " [0.7440069593585843,\n",
       "  0.732989277250303,\n",
       "  0.7394070197213457,\n",
       "  0.7468925115089784,\n",
       "  0.743303275101187,\n",
       "  0.7376786815412464,\n",
       "  0.7374083316944162,\n",
       "  0.7403934970352888,\n",
       "  0.7419200486519333,\n",
       "  0.7407446742712208])"
      ]
     },
     "execution_count": 42,
     "metadata": {},
     "output_type": "execute_result"
    }
   ],
   "source": [
    "np.mean(scores_total), scores_total # 불임 원인 인코딩 + make feature 사용\n",
    "# 불임 원인 인코딩 x + make feature 사용x - > 0.740432\n",
    "# 불임 원인 인코딩 x + make feature 사용 -> 0.740432\n",
    "# 불임 원인 인코딩 x + make feature 사용 + 배아 특성 추가 -> 0.740426"
   ]
  },
  {
   "cell_type": "markdown",
   "metadata": {},
   "source": [
    "#### 재현성 확인"
   ]
  },
  {
   "cell_type": "code",
   "execution_count": 116,
   "metadata": {
    "scrolled": true,
    "tags": []
   },
   "outputs": [
    {
     "name": "stdout",
     "output_type": "stream",
     "text": [
      "Seed 42 Start!\n",
      "==================================================\n",
      "0:\ttest: 0.7029731\tbest: 0.7029731 (0)\ttotal: 81.7ms\tremaining: 1m 51s\n",
      "300:\ttest: 0.7424229\tbest: 0.7424243 (299)\ttotal: 16.4s\tremaining: 57.9s\n",
      "600:\ttest: 0.7433793\tbest: 0.7433793 (600)\ttotal: 32.2s\tremaining: 40.8s\n",
      "900:\ttest: 0.7437817\tbest: 0.7437837 (898)\ttotal: 48.7s\tremaining: 25s\n",
      "1200:\ttest: 0.7438914\tbest: 0.7439090 (1162)\ttotal: 1m 5s\tremaining: 8.8s\n",
      "1362:\ttest: 0.7438772\tbest: 0.7439090 (1162)\ttotal: 1m 14s\tremaining: 0us\n",
      "\n",
      "bestTest = 0.7439089948\n",
      "bestIteration = 1162\n",
      "\n",
      "Shrink model to first 1163 iterations.\n",
      "Cat val score : 0.7439089948064255\n",
      "Cat gpu val score : 0.7441647620187619\n",
      "LGBM val score : 0.7439849578352579\n",
      "Ensemble val score : 0.7443213417103085\n",
      "==================================================\n",
      "0:\ttest: 0.7109930\tbest: 0.7109930 (0)\ttotal: 66.7ms\tremaining: 1m 9s\n",
      "300:\ttest: 0.7328493\tbest: 0.7330724 (234)\ttotal: 16.7s\tremaining: 41s\n",
      "Stopped by overfitting detector  (300 iterations wait)\n",
      "\n",
      "bestTest = 0.7330724\n",
      "bestIteration = 234\n",
      "\n",
      "Shrink model to first 235 iterations.\n",
      "Cat val score : 0.7330724000490342\n",
      "Cat gpu val score : 0.7329827047868804\n",
      "LGBM val score : 0.7326602847504091\n",
      "Ensemble val score : 0.7334656120691747\n",
      "==================================================\n",
      "0:\ttest: 0.7182081\tbest: 0.7182081 (0)\ttotal: 65.9ms\tremaining: 2m 55s\n",
      "300:\ttest: 0.7369249\tbest: 0.7369293 (299)\ttotal: 16.3s\tremaining: 2m 8s\n",
      "600:\ttest: 0.7386235\tbest: 0.7386235 (600)\ttotal: 32.1s\tremaining: 1m 50s\n",
      "900:\ttest: 0.7390593\tbest: 0.7390628 (899)\ttotal: 48.8s\tremaining: 1m 35s\n",
      "1200:\ttest: 0.7392803\tbest: 0.7392803 (1200)\ttotal: 1m 5s\tremaining: 1m 19s\n",
      "1500:\ttest: 0.7392609\tbest: 0.7393597 (1395)\ttotal: 1m 21s\tremaining: 1m 3s\n",
      "Stopped by overfitting detector  (300 iterations wait)\n",
      "\n",
      "bestTest = 0.7393597059\n",
      "bestIteration = 1395\n",
      "\n",
      "Shrink model to first 1396 iterations.\n",
      "Cat val score : 0.7393597059272563\n",
      "Cat gpu val score : 0.739957061441199\n",
      "LGBM val score : 0.7394204902929044\n",
      "Ensemble val score : 0.7402773250742631\n",
      "==================================================\n",
      "0:\ttest: 0.7161176\tbest: 0.7161176 (0)\ttotal: 72.9ms\tremaining: 1m 21s\n",
      "300:\ttest: 0.7475394\tbest: 0.7475605 (294)\ttotal: 16.5s\tremaining: 44.7s\n",
      "600:\ttest: 0.7472632\tbest: 0.7477173 (418)\ttotal: 33.1s\tremaining: 28.4s\n",
      "Stopped by overfitting detector  (300 iterations wait)\n",
      "\n",
      "bestTest = 0.7477173083\n",
      "bestIteration = 418\n",
      "\n",
      "Shrink model to first 419 iterations.\n",
      "Cat val score : 0.7477173082575785\n",
      "Cat gpu val score : 0.7474415858016865\n",
      "LGBM val score : 0.7467345178878735\n",
      "Ensemble val score : 0.7476893770438746\n",
      "==================================================\n",
      "0:\ttest: 0.7218343\tbest: 0.7218343 (0)\ttotal: 65.1ms\tremaining: 1m 7s\n",
      "300:\ttest: 0.7435955\tbest: 0.7436123 (294)\ttotal: 16.4s\tremaining: 40.3s\n",
      "600:\ttest: 0.7432660\tbest: 0.7437588 (413)\ttotal: 32.9s\tremaining: 24.1s\n",
      "Stopped by overfitting detector  (300 iterations wait)\n",
      "\n",
      "bestTest = 0.7437588072\n",
      "bestIteration = 413\n",
      "\n",
      "Shrink model to first 414 iterations.\n",
      "Cat val score : 0.743758807227102\n",
      "Cat gpu val score : 0.7436549884067594\n",
      "LGBM val score : 0.7434959305881463\n",
      "Ensemble val score : 0.7440354826956879\n",
      "==================================================\n",
      "0:\ttest: 0.7152302\tbest: 0.7152302 (0)\ttotal: 75.1ms\tremaining: 3m 20s\n",
      "300:\ttest: 0.7350406\tbest: 0.7350406 (300)\ttotal: 16.1s\tremaining: 2m 6s\n",
      "600:\ttest: 0.7368120\tbest: 0.7368120 (600)\ttotal: 32.1s\tremaining: 1m 50s\n",
      "900:\ttest: 0.7372389\tbest: 0.7372443 (893)\ttotal: 48.6s\tremaining: 1m 35s\n",
      "1200:\ttest: 0.7375111\tbest: 0.7375139 (1197)\ttotal: 1m 5s\tremaining: 1m 19s\n",
      "1500:\ttest: 0.7376038\tbest: 0.7376038 (1500)\ttotal: 1m 22s\tremaining: 1m 3s\n",
      "1800:\ttest: 0.7376585\tbest: 0.7376656 (1797)\ttotal: 1m 38s\tremaining: 47.5s\n",
      "2100:\ttest: 0.7376756\tbest: 0.7376768 (2098)\ttotal: 1m 55s\tremaining: 31.1s\n",
      "2400:\ttest: 0.7377264\tbest: 0.7377326 (2393)\ttotal: 2m 12s\tremaining: 14.6s\n",
      "2664:\ttest: 0.7376614\tbest: 0.7377410 (2419)\ttotal: 2m 27s\tremaining: 0us\n",
      "\n",
      "bestTest = 0.7377409609\n",
      "bestIteration = 2419\n",
      "\n",
      "Shrink model to first 2420 iterations.\n",
      "Cat val score : 0.7377409609207932\n",
      "Cat gpu val score : 0.7382861318323425\n",
      "LGBM val score : 0.7378922278606337\n",
      "Ensemble val score : 0.7383481967840333\n",
      "==================================================\n",
      "0:\ttest: 0.7088694\tbest: 0.7088694 (0)\ttotal: 57.9ms\tremaining: 1m 41s\n",
      "300:\ttest: 0.7372940\tbest: 0.7372940 (300)\ttotal: 16.6s\tremaining: 1m 19s\n",
      "600:\ttest: 0.7366086\tbest: 0.7373401 (325)\ttotal: 33.2s\tremaining: 1m 3s\n",
      "Stopped by overfitting detector  (300 iterations wait)\n",
      "\n",
      "bestTest = 0.737340096\n",
      "bestIteration = 325\n",
      "\n",
      "Shrink model to first 326 iterations.\n",
      "Cat val score : 0.7373400959855324\n",
      "Cat gpu val score : 0.7372268463104066\n",
      "LGBM val score : 0.7371349163234207\n",
      "Ensemble val score : 0.737554674735338\n",
      "==================================================\n",
      "0:\ttest: 0.7147495\tbest: 0.7147495 (0)\ttotal: 71.2ms\tremaining: 1m 36s\n",
      "300:\ttest: 0.7390178\tbest: 0.7390207 (297)\ttotal: 16.5s\tremaining: 58.3s\n",
      "600:\ttest: 0.7399851\tbest: 0.7399992 (587)\ttotal: 32.6s\tremaining: 41.3s\n",
      "900:\ttest: 0.7404279\tbest: 0.7404279 (900)\ttotal: 49.4s\tremaining: 25.4s\n",
      "1200:\ttest: 0.7405000\tbest: 0.7405219 (1177)\ttotal: 1m 6s\tremaining: 8.94s\n",
      "1362:\ttest: 0.7405230\tbest: 0.7405481 (1265)\ttotal: 1m 15s\tremaining: 0us\n",
      "\n",
      "bestTest = 0.7405480916\n",
      "bestIteration = 1265\n",
      "\n",
      "Shrink model to first 1266 iterations.\n",
      "Cat val score : 0.7405480915777852\n",
      "Cat gpu val score : 0.7403947280100183\n",
      "LGBM val score : 0.7400960617735204\n",
      "Ensemble val score : 0.7406498018575425\n",
      "==================================================\n",
      "0:\ttest: 0.7188885\tbest: 0.7188885 (0)\ttotal: 67ms\tremaining: 1m 31s\n",
      "300:\ttest: 0.7386415\tbest: 0.7386426 (299)\ttotal: 16.1s\tremaining: 56.8s\n",
      "600:\ttest: 0.7405039\tbest: 0.7405039 (600)\ttotal: 31.9s\tremaining: 40.4s\n",
      "900:\ttest: 0.7414230\tbest: 0.7414302 (884)\ttotal: 48.4s\tremaining: 24.8s\n",
      "1200:\ttest: 0.7416263\tbest: 0.7416597 (1091)\ttotal: 1m 4s\tremaining: 8.76s\n",
      "1362:\ttest: 0.7415516\tbest: 0.7416597 (1091)\ttotal: 1m 13s\tremaining: 0us\n",
      "\n",
      "bestTest = 0.7416597293\n",
      "bestIteration = 1091\n",
      "\n",
      "Shrink model to first 1092 iterations.\n",
      "Cat val score : 0.7416597292637066\n",
      "Cat gpu val score : 0.7421497564782547\n",
      "LGBM val score : 0.7417731218907365\n",
      "Ensemble val score : 0.7421629477622929\n",
      "==================================================\n",
      "0:\ttest: 0.7204691\tbest: 0.7204691 (0)\ttotal: 61.2ms\tremaining: 1m 54s\n",
      "300:\ttest: 0.7394802\tbest: 0.7394802 (300)\ttotal: 16s\tremaining: 1m 23s\n",
      "600:\ttest: 0.7409129\tbest: 0.7409431 (568)\ttotal: 32.1s\tremaining: 1m 7s\n",
      "900:\ttest: 0.7408313\tbest: 0.7409581 (626)\ttotal: 48.3s\tremaining: 51.6s\n",
      "Stopped by overfitting detector  (300 iterations wait)\n",
      "\n",
      "bestTest = 0.7409581173\n",
      "bestIteration = 626\n",
      "\n",
      "Shrink model to first 627 iterations.\n",
      "Cat val score : 0.7409581173475662\n",
      "Cat gpu val score : 0.7414987932159092\n",
      "LGBM val score : 0.7406069917331549\n",
      "Ensemble val score : 0.7413900068168997\n"
     ]
    }
   ],
   "source": [
    "for col in X.columns:\n",
    "    if X[col].dtype == 'object':  # 문자형이면 category로 변환\n",
    "        X[col] = X[col].astype('category')\n",
    "        test[col] = test[col].astype('category')\n",
    "seed = 42\n",
    "\n",
    "test_pred_total = []\n",
    "scores_total = []\n",
    "seed_everything(seed)\n",
    "print('Seed {} Start!'.format(seed))\n",
    "cv = StratifiedKFold(n_splits = 10, random_state = seed, shuffle=True)\n",
    "\n",
    "cat_param_list = []\n",
    "lgbm_param_list = []\n",
    "for idx, (train_idx, val_idx) in enumerate(cv.split(X, y)):\n",
    "    print('='*50)\n",
    "    X_train, X_val = X.iloc[train_idx],X.iloc[val_idx]\n",
    "    y_train, y_val = y.iloc[train_idx], y.iloc[val_idx]\n",
    "\n",
    "    cat_trial_params = loaded_cat_params[idx]\n",
    "    model = CatBoostClassifier(**cat_trial_params ,auto_class_weights='Balanced', eval_metric='AUC', random_state=seed, task_type=\"CPU\")\n",
    "    model.fit(X_train,y_train,cat_features=categorical_columns, early_stopping_rounds = 300, eval_set=[(X_val,y_val)], verbose = 300)\n",
    "    \n",
    "    model_gpu = CatBoostClassifier()\n",
    "    model_gpu.load_model(\"./weight/cat_fold_gpu{}.cbm\".format(idx))\n",
    "\n",
    "    lgbm_trial_params = loaded_lgbm_params[idx]\n",
    "    class_weights = compute_class_weight(class_weight=\"balanced\", classes=np.unique(y), y=y_train)\n",
    "    class_weight_dict = {i: w for i, w in enumerate(class_weights)}\n",
    "\n",
    "    model_lgbm = lgb.LGBMClassifier(**lgbm_trial_params,class_weight=class_weight_dict)\n",
    "    model_lgbm.fit(X_train, y_train, eval_set=[(X_val, y_val)],categorical_feature=categorical_columns)\n",
    "\n",
    "    val_pred = model.predict_proba(X_val)[:, 1]\n",
    "    val_pred_gpu = model_gpu.predict_proba(X_val)[:, 1]\n",
    "    val_pred_lgbm = model_lgbm.predict_proba(X_val)[:, 1]\n",
    "    print('Cat val score : {}'.format(roc_auc_score(y_val,val_pred)))\n",
    "    print('Cat gpu val score : {}'.format(roc_auc_score(y_val,val_pred_gpu)))\n",
    "    print('LGBM val score : {}'.format(roc_auc_score(y_val,val_pred_lgbm)))\n",
    "\n",
    "    roc_val = roc_auc_score(y_val, (val_pred+val_pred_gpu + val_pred_lgbm)/3)\n",
    "    scores_total.append(roc_val)\n",
    "    print('Ensemble val score : {}'.format(roc_val))\n",
    "\n",
    "    test_pred = model.predict_proba(test)[:, 1]\n",
    "    test_pred_gpu = model_gpu.predict_proba(test)[:, 1]\n",
    "    test_pred_lgbm = model_lgbm.predict_proba(test)[:, 1]\n",
    "    test_pred_total.append((test_pred+test_pred_gpu+test_pred_lgbm)/3)"
   ]
  },
  {
   "cell_type": "code",
   "execution_count": 117,
   "metadata": {},
   "outputs": [
    {
     "data": {
      "text/plain": [
       "(0.7409894766549415,\n",
       " [0.7443213417103085,\n",
       "  0.7334656120691747,\n",
       "  0.7402773250742631,\n",
       "  0.7476893770438746,\n",
       "  0.7440354826956879,\n",
       "  0.7383481967840333,\n",
       "  0.737554674735338,\n",
       "  0.7406498018575425,\n",
       "  0.7421629477622929,\n",
       "  0.7413900068168997])"
      ]
     },
     "execution_count": 117,
     "metadata": {},
     "output_type": "execute_result"
    }
   ],
   "source": [
    "np.mean(scores_total), scores_total"
   ]
  },
  {
   "cell_type": "markdown",
   "metadata": {},
   "source": [
    "(0.7409094315640091,  \n",
    " [0.7443275439083659,  \n",
    "  0.7332942435243921,  \n",
    "  0.7403343565831533,  \n",
    "  0.7473621124847871,  \n",
    "  0.7438286789411102,  \n",
    "  0.7383914079679295,  \n",
    "  0.737396625521826,  \n",
    "  0.7405065163990137,  \n",
    "  0.7422389346410869,  \n",
    "  0.7414138956684271])"
   ]
  },
  {
   "cell_type": "code",
   "execution_count": 114,
   "metadata": {
    "colab": {
     "base_uri": "https://localhost:8080/",
     "height": 1000
    },
    "id": "n3IfZ6xH9a35",
    "outputId": "9a1c106b-3242-4e3c-dbb4-ea136c7205aa"
   },
   "outputs": [
    {
     "ename": "IndexError",
     "evalue": "too many indices for array: array is 0-dimensional, but 1 were indexed",
     "output_type": "error",
     "traceback": [
      "\u001b[0;31m---------------------------------------------------------------------------\u001b[0m",
      "\u001b[0;31mIndexError\u001b[0m                                Traceback (most recent call last)",
      "\u001b[0;32m/tmp/ipykernel_116415/3849312120.py\u001b[0m in \u001b[0;36m<module>\u001b[0;34m\u001b[0m\n\u001b[1;32m      2\u001b[0m \u001b[0msorted_idx\u001b[0m \u001b[0;34m=\u001b[0m \u001b[0mnp\u001b[0m\u001b[0;34m.\u001b[0m\u001b[0margsort\u001b[0m\u001b[0;34m(\u001b[0m\u001b[0mfeature_importance\u001b[0m\u001b[0;34m)\u001b[0m\u001b[0;34m\u001b[0m\u001b[0;34m\u001b[0m\u001b[0m\n\u001b[1;32m      3\u001b[0m \u001b[0mfig\u001b[0m \u001b[0;34m=\u001b[0m \u001b[0mplt\u001b[0m\u001b[0;34m.\u001b[0m\u001b[0mfigure\u001b[0m\u001b[0;34m(\u001b[0m\u001b[0mfigsize\u001b[0m\u001b[0;34m=\u001b[0m\u001b[0;34m(\u001b[0m\u001b[0;36m12\u001b[0m\u001b[0;34m,\u001b[0m \u001b[0;36m12\u001b[0m\u001b[0;34m)\u001b[0m\u001b[0;34m)\u001b[0m\u001b[0;34m\u001b[0m\u001b[0;34m\u001b[0m\u001b[0m\n\u001b[0;32m----> 4\u001b[0;31m \u001b[0mplt\u001b[0m\u001b[0;34m.\u001b[0m\u001b[0mbarh\u001b[0m\u001b[0;34m(\u001b[0m\u001b[0mrange\u001b[0m\u001b[0;34m(\u001b[0m\u001b[0mlen\u001b[0m\u001b[0;34m(\u001b[0m\u001b[0msorted_idx\u001b[0m\u001b[0;34m)\u001b[0m\u001b[0;34m)\u001b[0m\u001b[0;34m,\u001b[0m \u001b[0mfeature_importance\u001b[0m\u001b[0;34m[\u001b[0m\u001b[0msorted_idx\u001b[0m\u001b[0;34m]\u001b[0m\u001b[0;34m,\u001b[0m \u001b[0malign\u001b[0m\u001b[0;34m=\u001b[0m\u001b[0;34m'center'\u001b[0m\u001b[0;34m)\u001b[0m\u001b[0;34m\u001b[0m\u001b[0;34m\u001b[0m\u001b[0m\n\u001b[0m\u001b[1;32m      5\u001b[0m \u001b[0mplt\u001b[0m\u001b[0;34m.\u001b[0m\u001b[0myticks\u001b[0m\u001b[0;34m(\u001b[0m\u001b[0mrange\u001b[0m\u001b[0;34m(\u001b[0m\u001b[0mlen\u001b[0m\u001b[0;34m(\u001b[0m\u001b[0msorted_idx\u001b[0m\u001b[0;34m)\u001b[0m\u001b[0;34m)\u001b[0m\u001b[0;34m,\u001b[0m \u001b[0mnp\u001b[0m\u001b[0;34m.\u001b[0m\u001b[0marray\u001b[0m\u001b[0;34m(\u001b[0m\u001b[0mX\u001b[0m\u001b[0;34m.\u001b[0m\u001b[0mcolumns\u001b[0m\u001b[0;34m)\u001b[0m\u001b[0;34m[\u001b[0m\u001b[0msorted_idx\u001b[0m\u001b[0;34m]\u001b[0m\u001b[0;34m)\u001b[0m\u001b[0;34m\u001b[0m\u001b[0;34m\u001b[0m\u001b[0m\n\u001b[1;32m      6\u001b[0m \u001b[0mplt\u001b[0m\u001b[0;34m.\u001b[0m\u001b[0mtitle\u001b[0m\u001b[0;34m(\u001b[0m\u001b[0;34m'Feature Importance'\u001b[0m\u001b[0;34m)\u001b[0m\u001b[0;34m\u001b[0m\u001b[0;34m\u001b[0m\u001b[0m\n",
      "\u001b[0;31mIndexError\u001b[0m: too many indices for array: array is 0-dimensional, but 1 were indexed"
     ]
    },
    {
     "data": {
      "text/plain": [
       "<Figure size 1200x1200 with 0 Axes>"
      ]
     },
     "metadata": {},
     "output_type": "display_data"
    }
   ],
   "source": [
    "feature_importance = model.feature_importances_\n",
    "sorted_idx = np.argsort(feature_importance)\n",
    "fig = plt.figure(figsize=(12, 12))\n",
    "plt.barh(range(len(sorted_idx)), feature_importance[sorted_idx], align='center')\n",
    "plt.yticks(range(len(sorted_idx)), np.array(X.columns)[sorted_idx])\n",
    "plt.title('Feature Importance')"
   ]
  },
  {
   "cell_type": "code",
   "execution_count": 54,
   "metadata": {},
   "outputs": [
    {
     "data": {
      "text/plain": [
       "array(['배아 이식률', '이식된 배아 수', '시술 당시 나이', '총 생성 배아 수', '배아 이식 경과일',\n",
       "       '저장된 배아 수', '저장 배아 비율', '난자 출처', '배아 생성 주요 이유', '수집된 신선 난자 수',\n",
       "       '배란 자극 여부', '임신 성공률', '혼합된 난자 수', '시술 시기 코드', '해동 배아 생존율',\n",
       "       '난자 기증자 나이', 'IVF 시술 횟수', '클리닉 내 총 시술 횟수', '미세주입 배아 생성률',\n",
       "       '특정 시술 유형', 'IVF 임신 횟수', '배아 해동 경과일', '불임 원인 - 남성 요인',\n",
       "       '미세주입 배아 이식률', '해동된 배아 수', 'IVF 출산 횟수', '총 출산 횟수', '총 임신 횟수',\n",
       "       '총 시술 횟수', '정자 기증자 나이', '출산율', '불임 원인 - 여성 요인', '불임 원인 - 난관 질환',\n",
       "       'PGS 시술 여부', '파트너 정자 혼합 비율', '미세주입된 난자 수', '동결 배아 사용 여부', '정자 출처',\n",
       "       '파트너 정자와 혼합된 난자 수', 'DI 시술 횟수', '단일 배아 이식 여부', '남성 불임 원인',\n",
       "       '임신 시도 또는 마지막 임신 경과 연수', '해동 난자 수', '미세주입 배아 이식 수', '신선 배아 사용 여부',\n",
       "       '여성 불임 원인', '부부 불임 원인', '불임 원인 - 배란 장애', '기증자 정자와 혼합된 난자 수',\n",
       "       '시술 유형', '미세주입에서 생성된 배아 수', '미세주입 후 저장된 배아 수', '착상 전 유전 검사 사용 여부',\n",
       "       '난자 혼합 경과일', '착상 전 유전 진단 사용 여부', '불명확 불임 원인', 'DI 출산 횟수',\n",
       "       '불임 원인 - 정자 요인', '대리모 여부', 'PGD 시술 여부', '불임 원인 - 자궁내막증',\n",
       "       'DI 임신 횟수', '기증 배아 사용 여부', '저장된 신선 난자 수', '불임 원인 - 정자 농도'],\n",
       "      dtype=object)"
      ]
     },
     "execution_count": 54,
     "metadata": {},
     "output_type": "execute_result"
    }
   ],
   "source": [
    "np.array(X.columns)[sorted_idx][::-1]"
   ]
  },
  {
   "cell_type": "code",
   "execution_count": 118,
   "metadata": {
    "id": "zdqhyNyumAyx"
   },
   "outputs": [],
   "source": [
    "test_pred_total_mean = np.mean(test_pred_total, axis=(0))"
   ]
  },
  {
   "cell_type": "code",
   "execution_count": 119,
   "metadata": {
    "colab": {
     "base_uri": "https://localhost:8080/",
     "height": 540
    },
    "id": "HHVwzBg8NEZK",
    "outputId": "7c5d38e1-affe-45e7-b863-372c9a868b84"
   },
   "outputs": [
    {
     "data": {
      "text/plain": [
       "(array([13507.,  2366.,  3330.,  5985.,  9234., 13176., 16786., 15237.,\n",
       "         9841.,   605.]),\n",
       " array([6.39773651e-04, 8.87313716e-02, 1.76822970e-01, 2.64914568e-01,\n",
       "        3.53006165e-01, 4.41097763e-01, 5.29189361e-01, 6.17280959e-01,\n",
       "        7.05372557e-01, 7.93464155e-01, 8.81555753e-01]),\n",
       " <BarContainer object of 10 artists>)"
      ]
     },
     "execution_count": 119,
     "metadata": {},
     "output_type": "execute_result"
    },
    {
     "data": {
      "image/png": "[encoded data removed]",
      "text/plain": [
       "<Figure size 640x480 with 1 Axes>"
      ]
     },
     "metadata": {},
     "output_type": "display_data"
    }
   ],
   "source": [
    "plt.hist(test_pred_total_mean)"
   ]
  },
  {
   "cell_type": "code",
   "execution_count": 120,
   "metadata": {
    "id": "KGlLsagWhQmz"
   },
   "outputs": [],
   "source": [
    "sample_submission = pd.read_csv('/work/home/ybchae/aimers/aimers_data/sample_submission.csv')\n",
    "sample_submission['probability'] = test_pred_total_mean"
   ]
  },
  {
   "cell_type": "code",
   "execution_count": 121,
   "metadata": {
    "id": "cRPfPmjigZCd"
   },
   "outputs": [],
   "source": [
    "sample_submission.to_csv('/work/home/ybchae/aimers/aimers_data/Add_feature_reason2_lgbmcat_cpugpu.csv', index=False)"
   ]
  },
  {
   "cell_type": "code",
   "execution_count": null,
   "metadata": {
    "id": "FhfFoj0tvQ-j"
   },
   "outputs": [],
   "source": []
  }
 ],
 "metadata": {
  "accelerator": "GPU",
  "colab": {
   "gpuType": "T4",
   "provenance": []
  },
  "kernelspec": {
   "display_name": "Python 3 (ipykernel)",
   "language": "python",
   "name": "python3"
  },
  "language_info": {
   "codemirror_mode": {
    "name": "ipython",
    "version": 3
   },
   "file_extension": ".py",
   "mimetype": "text/x-python",
   "name": "python",
   "nbconvert_exporter": "python",
   "pygments_lexer": "ipython3",
   "version": "3.9.13"
  }
 },
 "nbformat": 4,
 "nbformat_minor": 4
}
