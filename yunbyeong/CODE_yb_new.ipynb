{
 "cells": [
  {
   "cell_type": "code",
   "execution_count": 1,
   "metadata": {
    "colab": {
     "base_uri": "https://localhost:8080/"
    },
    "id": "0_-E_OuZQXqu",
    "outputId": "8f5cbcbb-5086-4ead-c817-9fdb22e3533b"
   },
   "outputs": [],
   "source": [
    "import random\n",
    "import os\n",
    "import pandas as pd\n",
    "import numpy as np\n",
    "\n",
    "from matplotlib import pyplot as plt\n",
    "import seaborn as sns\n",
    "from catboost import CatBoostClassifier\n",
    "import lightgbm as lgb\n",
    "import xgboost as xgb\n",
    "\n",
    "import optuna\n",
    "from optuna import Trial\n",
    "from optuna.samplers import TPESampler\n",
    "from sklearn.model_selection import StratifiedKFold\n",
    "from sklearn.metrics import roc_auc_score\n",
    "from sklearn.utils.class_weight import compute_class_weight\n",
    "\n",
    "import warnings\n",
    "\n",
    "warnings.filterwarnings('ignore')"
   ]
  },
  {
   "cell_type": "code",
   "execution_count": 2,
   "metadata": {
    "id": "u2FSTwmUIkF5"
   },
   "outputs": [],
   "source": [
    "def seed_everything(seed: int = 42):\n",
    "    random.seed(seed)\n",
    "    np.random.seed(seed)\n",
    "    os.environ[\"PYTHONHASHSEED\"] = str(seed)"
   ]
  },
  {
   "cell_type": "code",
   "execution_count": 70,
   "metadata": {
    "colab": {
     "base_uri": "https://localhost:8080/"
    },
    "id": "bbtq1EWyQcwX",
    "outputId": "ad146067-7509-44f2-ee26-cc8bc615473f"
   },
   "outputs": [
    {
     "data": {
      "text/plain": [
       "((256351, 68), (90067, 67))"
      ]
     },
     "execution_count": 70,
     "metadata": {},
     "output_type": "execute_result"
    }
   ],
   "source": [
    "train = pd.read_csv('/work/home/ybchae/aimers/aimers_data/train.csv').drop(columns=['ID'])\n",
    "test = pd.read_csv('/work/home/ybchae/aimers/aimers_data/test.csv').drop(columns=['ID'])\n",
    "train.shape, test.shape"
   ]
  },
  {
   "cell_type": "code",
   "execution_count": 71,
   "metadata": {},
   "outputs": [
    {
     "data": {
      "text/plain": [
       "(256321, 68)"
      ]
     },
     "execution_count": 71,
     "metadata": {},
     "output_type": "execute_result"
    }
   ],
   "source": [
    "train = train[~((train[\"이식된 배아 수\"] == 0) & (train[\"임신 성공 여부\"] == 1))]\n",
    "train.shape"
   ]
  },
  {
   "cell_type": "code",
   "execution_count": 72,
   "metadata": {},
   "outputs": [
    {
     "data": {
      "text/plain": [
       "0    190123\n",
       "1     66198\n",
       "Name: 임신 성공 여부, dtype: int64"
      ]
     },
     "execution_count": 72,
     "metadata": {},
     "output_type": "execute_result"
    }
   ],
   "source": [
    "train['임신 성공 여부'].value_counts()"
   ]
  },
  {
   "cell_type": "code",
   "execution_count": 73,
   "metadata": {
    "colab": {
     "base_uri": "https://localhost:8080/",
     "height": 444
    },
    "id": "oMlMq9njWkNB",
    "outputId": "cf2dd2c1-732f-4d8a-e177-fc78f6254652"
   },
   "outputs": [
    {
     "data": {
      "text/plain": [
       "((256321, 62), (90067, 61))"
      ]
     },
     "execution_count": 73,
     "metadata": {},
     "output_type": "execute_result"
    }
   ],
   "source": [
    "drop_columns = ['임신 시도 또는 마지막 임신 경과 연수', '난자 해동 경과일', '배란 유도 유형', '배아 해동 경과일', '불임 원인 - 여성 요인', '난자 채취 경과일']\n",
    "train.drop(columns=drop_columns, inplace=True)\n",
    "test.drop(columns=drop_columns, inplace=True)\n",
    "\n",
    "train.shape, test.shape"
   ]
  },
  {
   "cell_type": "code",
   "execution_count": 74,
   "metadata": {},
   "outputs": [
    {
     "data": {
      "text/plain": [
       "(0.0    253605\n",
       " 2.0      1928\n",
       " 1.0       788\n",
       " Name: PGS, dtype: int64,\n",
       " 0.0    253129\n",
       " 2.0      2178\n",
       " 1.0      1014\n",
       " Name: PGD, dtype: int64)"
      ]
     },
     "execution_count": 74,
     "metadata": {},
     "output_type": "execute_result"
    }
   ],
   "source": [
    "PGS_PGD_col_list = ['착상 전 유전 검사 사용 여부','착상 전 유전 진단 사용 여부', 'PGD 시술 여부', 'PGS 시술 여부']\n",
    "for col in PGS_PGD_col_list:\n",
    "    train[col] = train[col].fillna(0)\n",
    "    test[col] = test[col].fillna(0)\n",
    "\n",
    "train['PGS'] = train['착상 전 유전 검사 사용 여부'] + train['PGS 시술 여부'] \n",
    "test['PGS'] = test['착상 전 유전 검사 사용 여부'] + test['PGS 시술 여부'] \n",
    "\n",
    "train['PGD'] = train['착상 전 유전 진단 사용 여부'] + train['PGD 시술 여부']\n",
    "test['PGD'] = test['착상 전 유전 진단 사용 여부'] + test['PGD 시술 여부']\n",
    "\n",
    "train.drop(columns=PGS_PGD_col_list, inplace=True)\n",
    "test.drop(columns=PGS_PGD_col_list, inplace=True)\n",
    "\n",
    "train['PGS'].value_counts(), train['PGD'].value_counts()"
   ]
  },
  {
   "cell_type": "code",
   "execution_count": 75,
   "metadata": {},
   "outputs": [
    {
     "data": {
      "text/plain": [
       "(만18-34세    102463\n",
       " 만35-37세     57777\n",
       " 만38-39세     39242\n",
       " 만40-42세     37344\n",
       " 만43-44세     12250\n",
       " 만45-50세      6916\n",
       " 알 수 없음        329\n",
       " Name: 시술 당시 나이, dtype: int64,\n",
       " 만18-34세    36178\n",
       " 만35-37세    20211\n",
       " 만38-39세    13611\n",
       " 만40-42세    13266\n",
       " 만43-44세     4272\n",
       " 만45-50세     2413\n",
       " 알 수 없음       116\n",
       " Name: 시술 당시 나이, dtype: int64)"
      ]
     },
     "execution_count": 75,
     "metadata": {},
     "output_type": "execute_result"
    }
   ],
   "source": [
    "train['난자 출처'] = train['난자 출처'].replace('알 수 없음','본인 제공')\n",
    "test['난자 출처'] = test['난자 출처'].replace('알 수 없음','본인 제공')\n",
    "\n",
    "train['정자 출처'] = train['정자 출처'].replace('배우자 및 기증 제공','배우자 제공')\n",
    "test['정자 출처'] = test['정자 출처'].replace('배우자 및 기증 제공','배우자 제공')\n",
    "\n",
    "# train['시술 당시 나이'] = train['시술 당시 나이'].replace('알 수 없음','만43-44세')\n",
    "# test['시술 당시 나이'] = test['시술 당시 나이'].replace('알 수 없음','만43-44세')\n",
    "\n",
    "train['시술 당시 나이'].value_counts(), test['시술 당시 나이'].value_counts()"
   ]
  },
  {
   "cell_type": "code",
   "execution_count": 76,
   "metadata": {},
   "outputs": [
    {
     "name": "stdout",
     "output_type": "stream",
     "text": [
      "단일 배아 이식 여부 0\n",
      "배아 생성 주요 이유 현재 시술용\n",
      "총 생성 배아 수 5\n",
      "미세주입된 난자 수 0\n",
      "미세주입에서 생성된 배아 수 0\n",
      "이식된 배아 수 -1\n",
      "미세주입 배아 이식 수 0\n",
      "저장된 배아 수 0\n",
      "미세주입 후 저장된 배아 수 0\n",
      "해동된 배아 수 0\n",
      "해동 난자 수 0\n",
      "수집된 신선 난자 수 0\n",
      "저장된 신선 난자 수 0\n",
      "혼합된 난자 수 8\n",
      "파트너 정자와 혼합된 난자 수 0\n",
      "기증자 정자와 혼합된 난자 수 1\n",
      "동결 배아 사용 여부 0\n",
      "신선 배아 사용 여부 0\n",
      "기증 배아 사용 여부 0\n",
      "대리모 여부 0\n",
      "난자 혼합 경과일 0\n",
      "배아 이식 경과일 0\n"
     ]
    }
   ],
   "source": [
    "di_idx_train = train.loc[train['시술 유형'] == 'DI'].index\n",
    "di_idx_test = test.loc[test['시술 유형'] == 'DI'].index\n",
    "mean_col = ['총 생성 배아 수', '혼합된 난자 수', '기증자 정자와 혼합된 난자 수']\n",
    "for col in train.columns:\n",
    "    if train.loc[di_idx_train, col].isna().sum():  # 특정 컬럼에서 결측치가 존재하는지 확인\n",
    "        if train[col].dtypes == 'object': # 배아 생성 주요 이유\n",
    "            mode_value = train[col].mode()[0]\n",
    "            train.loc[di_idx_train, col] = train.loc[di_idx_train, col].fillna(mode_value)\n",
    "            test.loc[di_idx_test, col] = test.loc[di_idx_test, col].fillna(mode_value)\n",
    "            print(col, mode_value)\n",
    "        elif col in mean_col:\n",
    "            mean_value = round(train[col].mean())\n",
    "            train.loc[di_idx_train, col] = train.loc[di_idx_train, col].fillna(mean_value)\n",
    "            test.loc[di_idx_test, col] = test.loc[di_idx_test, col].fillna(mean_value)\n",
    "            print(col, mean_value)\n",
    "        elif col == '이식된 배아 수':\n",
    "            train.loc[di_idx_train, col] = train.loc[di_idx_train, col].fillna(-1)\n",
    "            test.loc[di_idx_test, col] = test.loc[di_idx_test, col].fillna(-1)\n",
    "            print(col, -1)\n",
    "        else:\n",
    "            train.loc[di_idx_train, col] = train.loc[di_idx_train, col].fillna(0)\n",
    "            test.loc[di_idx_test, col] = test.loc[di_idx_test, col].fillna(0)\n",
    "            print(col, 0)"
   ]
  },
  {
   "cell_type": "code",
   "execution_count": 77,
   "metadata": {},
   "outputs": [
    {
     "name": "stdout",
     "output_type": "stream",
     "text": [
      "     임신 성공 비율  데이터 개수\n",
      "PGD                  \n",
      "0.0  0.259109  253129\n",
      "1.0  0.001972    1014\n",
      "2.0  0.279155    2178\n",
      "     임신 성공 비율  데이터 개수\n",
      "PGS                  \n",
      "0.0  0.259447  253605\n",
      "1.0  0.005076     788\n",
      "2.0  0.205913    1928\n",
      "          임신 성공 비율  데이터 개수\n",
      "이식된 배아 수                  \n",
      "-1.0      0.128914    6291\n",
      " 0.0      0.000000   36514\n",
      " 1.0      0.313548   93791\n",
      " 2.0      0.311092  110845\n",
      " 3.0      0.168468    8880\n"
     ]
    }
   ],
   "source": [
    "def calculate_pregnancy_success_rate(df, column):\n",
    "    # 각 고유값별 임신 성공 여부 평균 (즉, 1의 비율) 및 개수 계산\n",
    "    result = df.groupby(column)[\"임신 성공 여부\"].agg(['mean', 'count'])\n",
    "    result.columns = [\"임신 성공 비율\", \"데이터 개수\"]\n",
    "    print(result)\n",
    "    return\n",
    "calculate_pregnancy_success_rate(train,'PGD')\n",
    "calculate_pregnancy_success_rate(train,'PGS')\n",
    "calculate_pregnancy_success_rate(train,'이식된 배아 수')"
   ]
  },
  {
   "cell_type": "code",
   "execution_count": 78,
   "metadata": {},
   "outputs": [
    {
     "data": {
      "text/plain": [
       "0.005289016565092491"
      ]
     },
     "execution_count": 78,
     "metadata": {},
     "output_type": "execute_result"
    }
   ],
   "source": [
    "len(train.loc[train['배아 이식 경과일'].isna()&train['임신 성공 여부'] == 1])/len(train.loc[train['배아 이식 경과일'].isna()])"
   ]
  },
  {
   "cell_type": "code",
   "execution_count": 79,
   "metadata": {},
   "outputs": [],
   "source": [
    "mapping_dict = {0.0: '0일',1.0: '1일',2.0: '2일',3.0: '3일',4.0: '4일', 5.0: '5일',6.0: '6일',7.0: '7일'}\n",
    "\n",
    "train['배아 이식 경과일'] = train['배아 이식 경과일'].map(mapping_dict)\n",
    "test['배아 이식 경과일'] = test['배아 이식 경과일'].map(mapping_dict)\n",
    "\n",
    "train['배아 이식 경과일'] = train['배아 이식 경과일'].fillna('Missing')\n",
    "test['배아 이식 경과일'] = test['배아 이식 경과일'].fillna('Missing')\n",
    "\n",
    "mapping_dict2 = {-1 : 'DI', 0.0: '0일',1.0: '1일',2.0: '2일',3.0: '3일'}\n",
    "\n",
    "train['이식된 배아 수_cat'] = train['이식된 배아 수'].map(mapping_dict2)\n",
    "test['이식된 배아 수_cat'] = test['이식된 배아 수'].map(mapping_dict2)"
   ]
  },
  {
   "cell_type": "code",
   "execution_count": 80,
   "metadata": {},
   "outputs": [
    {
     "name": "stdout",
     "output_type": "stream",
     "text": [
      "              임신 성공 비율  데이터 개수\n",
      "이식된 배아 수_cat                  \n",
      "0일            0.000000   36514\n",
      "1일            0.313548   93791\n",
      "2일            0.311092  110845\n",
      "3일            0.168468    8880\n",
      "DI            0.128914    6291\n"
     ]
    }
   ],
   "source": [
    "calculate_pregnancy_success_rate(train,'이식된 배아 수_cat')"
   ]
  },
  {
   "cell_type": "code",
   "execution_count": 81,
   "metadata": {
    "id": "YjAuM-pa6Ewz"
   },
   "outputs": [],
   "source": [
    "cat_to_int_dict = {'6회 이상' : 6, '5회' : 5, '4회' : 4, '3회' : 3, '2회' : 2, '1회' : 1, '0회' : 0}\n",
    "\n",
    "cat_to_int_columns = ['총 시술 횟수', '클리닉 내 총 시술 횟수', 'IVF 시술 횟수','DI 시술 횟수', 'DI 임신 횟수' ,'DI 출산 횟수',\n",
    "                      '총 임신 횟수', 'IVF 임신 횟수', '총 출산 횟수', 'IVF 출산 횟수'] #\n",
    "for col in cat_to_int_columns:\n",
    "    train[col] = train[col].map(cat_to_int_dict)\n",
    "    test[col] = test[col].map(cat_to_int_dict)"
   ]
  },
  {
   "cell_type": "code",
   "execution_count": 82,
   "metadata": {
    "id": "f-mBaoLO4ffA"
   },
   "outputs": [],
   "source": [
    "procedure_encoding_dict = {'ICSI' : 'ICSI', 'IVF' : 'IVF', 'Unknown' : 'Unknown','IUI' : 'IUI',\n",
    "                           'ICSI:ICSI' : 'ICSI', 'ICSI / BLASTOCYST ' : 'ICSI / BLASTOCYST',\n",
    "                           'IVF / BLASTOCYST' : 'IVF / BLASTOCYST','IVF:IVF' : 'IVF','ICSI:IVF' : 'ICSI:IVF',\n",
    "                           'ICSI / AH' : 'ICSI / AH','IVF:ICSI' : 'ICSI:IVF', 'IVF / AH' : 'IVF / AH',\n",
    "                           'ICSI:Unknown' : 'ICSI', 'IVF:Unknown' : 'IVF', 'ICI' : 'ICI','Generic DI' : 'Generic DI',\n",
    "                           'IVI' : 'IVI','ICSI / BLASTOCYST:IVF / BLASTOCYST' : 'ICSI / BLASTOCYST:IVF / BLASTOCYST',\n",
    "                           'ICSI / BLASTOCYST :IVF / BLASTOCYST': 'ICSI / BLASTOCYST:IVF / BLASTOCYST','FER' : 'FER',\n",
    "                           'IVF / AH:ICSI / AH' : 'IVF / AH:ICSI / AH','GIFT':'GIFT','ICSI / AH:Unknown' : 'ICSI / AH',\n",
    "                           'ICSI / BLASTOCYST :ICSI' : 'ICSI / BLASTOCYST', 'IUI:ICI' : 'IUI:ICI',\n",
    "                           'IVF:Unknown:Unknown:Unknown' : 'IVF'}\n",
    "\n",
    "train['특정 시술 유형'] = train['특정 시술 유형'].map(procedure_encoding_dict)\n",
    "test['특정 시술 유형'] = test['특정 시술 유형'].map(procedure_encoding_dict)"
   ]
  },
  {
   "cell_type": "code",
   "execution_count": 83,
   "metadata": {},
   "outputs": [
    {
     "data": {
      "text/plain": [
       "ICSI                                  124870\n",
       "IVF                                    92991\n",
       "Unknown                                26938\n",
       "IUI                                     6100\n",
       "ICSI / BLASTOCYST                       1610\n",
       "ICSI:IVF                                1265\n",
       "IVF / BLASTOCYST                        1248\n",
       "ICSI / AH                                771\n",
       "IVF / AH                                 319\n",
       "ICI                                       96\n",
       "Generic DI                                71\n",
       "IVI                                       23\n",
       "ICSI / BLASTOCYST:IVF / BLASTOCYST        10\n",
       "FER                                        3\n",
       "IVF / AH:ICSI / AH                         2\n",
       "GIFT                                       2\n",
       "Name: 특정 시술 유형, dtype: int64"
      ]
     },
     "execution_count": 83,
     "metadata": {},
     "output_type": "execute_result"
    }
   ],
   "source": [
    "train['특정 시술 유형'].value_counts()"
   ]
  },
  {
   "cell_type": "code",
   "execution_count": 84,
   "metadata": {
    "id": "UEU77iWib0U_"
   },
   "outputs": [],
   "source": [
    "train['불임 원인 - 정자 요인'] = train['불임 원인 - 정자 면역학적 요인'] + train['불임 원인 - 정자 운동성'] + train['불임 원인 - 정자 농도']  + train['불임 원인 - 정자 형태']\n",
    "test['불임 원인 - 정자 요인'] = test['불임 원인 - 정자 면역학적 요인'] + test['불임 원인 - 정자 운동성'] + test['불임 원인 - 정자 농도'] + test['불임 원인 - 정자 형태']\n",
    "train['불임 원인 - 여성 요인'] = train['불임 원인 - 자궁경부 문제'] + train['불임 원인 - 자궁내막증'] + train['불임 원인 - 배란 장애'] + train['불임 원인 - 난관 질환']\n",
    "test['불임 원인 - 여성 요인'] = test['불임 원인 - 자궁경부 문제'] + test['불임 원인 - 자궁내막증'] + test['불임 원인 - 배란 장애'] + test['불임 원인 - 난관 질환']\n",
    "\n",
    "train['남성 불임 원인'] = train['남성 주 불임 원인'] + train['남성 부 불임 원인']\n",
    "test['남성 불임 원인'] = test['남성 주 불임 원인'] + test['남성 부 불임 원인']\n",
    "train['여성 불임 원인'] = train['여성 주 불임 원인'] + train['여성 부 불임 원인']\n",
    "test['여성 불임 원인'] = test['여성 주 불임 원인'] + test['여성 부 불임 원인']\n",
    "train['부부 불임 원인'] = train['부부 주 불임 원인'] + train['부부 부 불임 원인']\n",
    "test['부부 불임 원인'] = test['부부 주 불임 원인'] + test['부부 부 불임 원인']\n",
    "\n",
    "\n",
    "drop_columns3 = ['불임 원인 - 정자 면역학적 요인', '불임 원인 - 정자 운동성', '불임 원인 - 정자 형태', '불임 원인 - 자궁경부 문제','불임 원인 - 정자 농도',\n",
    "                 '남성 주 불임 원인', '남성 부 불임 원인', '여성 주 불임 원인', '여성 부 불임 원인',\n",
    "                 '부부 주 불임 원인', '부부 부 불임 원인']\n",
    "train.drop(columns=drop_columns3, inplace=True)\n",
    "test.drop(columns=drop_columns3, inplace=True)"
   ]
  },
  {
   "cell_type": "code",
   "execution_count": 85,
   "metadata": {
    "colab": {
     "base_uri": "https://localhost:8080/"
    },
    "id": "kjEBmjSkbL5j",
    "outputId": "b3db516d-031e-42fc-89bb-a3218d8bd879"
   },
   "outputs": [
    {
     "data": {
      "text/plain": [
       "(Index(['시술 시기 코드', '시술 당시 나이', '시술 유형', '특정 시술 유형', '배란 자극 여부', '단일 배아 이식 여부',\n",
       "        '불명확 불임 원인', '불임 원인 - 난관 질환', '불임 원인 - 남성 요인', '불임 원인 - 배란 장애',\n",
       "        '불임 원인 - 자궁내막증', '배아 생성 주요 이유', '총 시술 횟수', '클리닉 내 총 시술 횟수', 'IVF 시술 횟수',\n",
       "        'DI 시술 횟수', '총 임신 횟수', 'IVF 임신 횟수', 'DI 임신 횟수', '총 출산 횟수', 'IVF 출산 횟수',\n",
       "        'DI 출산 횟수', '총 생성 배아 수', '미세주입된 난자 수', '미세주입에서 생성된 배아 수', '이식된 배아 수',\n",
       "        '미세주입 배아 이식 수', '저장된 배아 수', '미세주입 후 저장된 배아 수', '해동된 배아 수', '해동 난자 수',\n",
       "        '수집된 신선 난자 수', '저장된 신선 난자 수', '혼합된 난자 수', '파트너 정자와 혼합된 난자 수',\n",
       "        '기증자 정자와 혼합된 난자 수', '난자 출처', '정자 출처', '난자 기증자 나이', '정자 기증자 나이',\n",
       "        '동결 배아 사용 여부', '신선 배아 사용 여부', '기증 배아 사용 여부', '대리모 여부', '난자 혼합 경과일',\n",
       "        '배아 이식 경과일', '임신 성공 여부', 'PGS', 'PGD', '이식된 배아 수_cat', '불임 원인 - 정자 요인',\n",
       "        '불임 원인 - 여성 요인', '남성 불임 원인', '여성 불임 원인', '부부 불임 원인'],\n",
       "       dtype='object'),\n",
       " 55)"
      ]
     },
     "execution_count": 85,
     "metadata": {},
     "output_type": "execute_result"
    }
   ],
   "source": [
    "train.columns, len(train.columns)"
   ]
  },
  {
   "cell_type": "code",
   "execution_count": 86,
   "metadata": {
    "id": "64dAkKrBayFA"
   },
   "outputs": [
    {
     "name": "stdout",
     "output_type": "stream",
     "text": [
      "특정 시술 유형 ICSI\n",
      "난자 혼합 경과일\n",
      "0.19686334028963512 0.2725111198639678 0.2725111198639678\n",
      "0.0 0\n"
     ]
    }
   ],
   "source": [
    "categorical_columns =  [\"시술 시기 코드\",\"시술 당시 나이\",\"시술 유형\", \"특정 시술 유형\",\n",
    "                        \"배란 자극 여부\", \"단일 배아 이식 여부\", \"불명확 불임 원인\"\n",
    "                       ,\"배아 생성 주요 이유\",\n",
    "                        \"불임 원인 - 난관 질환\",\"불임 원인 - 남성 요인\",\"불임 원인 - 배란 장애\",\n",
    "                        \"불임 원인 - 자궁내막증\",\"난자 출처\",\"정자 출처\",\"난자 기증자 나이\",\"정자 기증자 나이\",\n",
    "                       \"동결 배아 사용 여부\",\"신선 배아 사용 여부\", '기증 배아 사용 여부',\"대리모 여부\",\n",
    "                        'PGS', 'PGD', '불임 원인 - 정자 요인', '불임 원인 - 여성 요인',  '남성 불임 원인', '여성 불임 원인', '부부 불임 원인'\n",
    "                       ,'배아 이식 경과일', '이식된 배아 수_cat'] #'이식된 배아 수_cat'\n",
    "\n",
    "\n",
    "for col in categorical_columns:\n",
    "    if train[col].isna().sum() > 0 or test[col].isna().sum() > 0 :\n",
    "        mode_value = train[col].mode()[0]\n",
    "        train[col].fillna(mode_value, inplace=True)  # 최빈값으로 대체\n",
    "        test[col].fillna(mode_value, inplace = True)\n",
    "        print(col, mode_value)\n",
    "    train[col] = train[col].astype(str)\n",
    "    test[col] = test[col].astype(str)\n",
    "\n",
    "\n",
    "numeric_columns = [\"총 시술 횟수\",\"클리닉 내 총 시술 횟수\",\"IVF 시술 횟수\",\"DI 시술 횟수\",\n",
    "                   \"총 임신 횟수\",\"IVF 임신 횟수\",\"DI 임신 횟수\",\"총 출산 횟수\",\"IVF 출산 횟수\",\"DI 출산 횟수\",\n",
    "                    '총 생성 배아 수','미세주입된 난자 수', '미세주입에서 생성된 배아 수','이식된 배아 수', '미세주입 배아 이식 수', '저장된 배아 수',\n",
    "       '미세주입 후 저장된 배아 수', '해동된 배아 수', '해동 난자 수', '수집된 신선 난자 수', '저장된 신선 난자 수',\n",
    "       '혼합된 난자 수', '파트너 정자와 혼합된 난자 수', '기증자 정자와 혼합된 난자 수', '난자 혼합 경과일']\n",
    "\n",
    "for col in numeric_columns:\n",
    "    if train[col].isna().sum():\n",
    "        print(col)\n",
    "        nan_prob = len(train.loc[train[col].isna()&train['임신 성공 여부'] == 1])/len(train.loc[train[col].isna()])\n",
    "        mode_value = train[col].mode()[0]  # 최빈값 구하기\n",
    "        mode_df = train.loc[train[col]== mode_value]\n",
    "        mode_prob = len(mode_df.loc[mode_df['임신 성공 여부'] == 1])/len(mode_df)\n",
    "\n",
    "        mean_value = round(train[col].mean())\n",
    "        mean_df = train.loc[train[col]== mean_value]\n",
    "        mean_prob = len(mean_df.loc[mean_df['임신 성공 여부'] == 1])/len(mean_df)\n",
    "\n",
    "        print(nan_prob, mode_prob, mean_prob)\n",
    "        print(mode_value, mean_value)\n",
    "        if abs(nan_prob - mode_prob) < abs(nan_prob - mean_prob):\n",
    "            train[col].fillna(mode_value, inplace=True)  # 최빈값으로 대체\n",
    "            test[col].fillna(mode_value, inplace = True)\n",
    "        else:\n",
    "            train[col].fillna(mean_value, inplace=True)  # 평균값으로 대체\n",
    "            test[col].fillna(mean_value, inplace = True)"
   ]
  },
  {
   "cell_type": "code",
   "execution_count": 87,
   "metadata": {
    "colab": {
     "base_uri": "https://localhost:8080/"
    },
    "id": "rrQrzq0H_QfV",
    "outputId": "255208d3-85ca-4d21-d9d0-eb8dccc27e6d"
   },
   "outputs": [
    {
     "data": {
      "text/plain": [
       "54"
      ]
     },
     "execution_count": 87,
     "metadata": {},
     "output_type": "execute_result"
    }
   ],
   "source": [
    "len(categorical_columns) + len(numeric_columns)"
   ]
  },
  {
   "cell_type": "code",
   "execution_count": 88,
   "metadata": {
    "id": "CI8IOlCFVXGY"
   },
   "outputs": [],
   "source": [
    "def make_feature(df):\n",
    "    df['미세주입 배아 생성률'] = (df['미세주입에서 생성된 배아 수']) / (df['미세주입된 난자 수'] + 1)\n",
    "    df['미세주입 배아 이식률'] = (df['미세주입 배아 이식 수']) / (df['미세주입에서 생성된 배아 수'] + 1)\n",
    "    df['배아 이식률'] = ((df['이식된 배아 수']) / (df['총 생성 배아 수'] + 1)).clip(lower = 0)\n",
    "    df['저장 배아 비율'] = (df['저장된 배아 수'])/ (df['총 생성 배아 수'] + 1)\n",
    "    df['해동 배아 생존율'] = (df['해동된 배아 수'])/ (df['총 생성 배아 수'] + 1)\n",
    "    df['파트너 정자 혼합 비율'] = (df['파트너 정자와 혼합된 난자 수']) / (df['혼합된 난자 수'] + 1)\n",
    "\n",
    "    df['임신 성공률'] = (df['총 임신 횟수']) / (df['총 시술 횟수'] + 1)\n",
    "    df['출산율'] = df['총 출산 횟수'] / (df['총 임신 횟수'] + 1)\n",
    "    \n",
    "    df.drop(['이식된 배아 수'], axis = 1, inplace = True)\n",
    "\n",
    "    return df"
   ]
  },
  {
   "cell_type": "code",
   "execution_count": 89,
   "metadata": {
    "colab": {
     "base_uri": "https://localhost:8080/"
    },
    "id": "_VNPbGSR4h_I",
    "outputId": "44e7b9c5-1948-417e-b02a-64267fb91fae"
   },
   "outputs": [
    {
     "data": {
      "text/plain": [
       "((256321, 61), (90067, 61))"
      ]
     },
     "execution_count": 89,
     "metadata": {},
     "output_type": "execute_result"
    }
   ],
   "source": [
    "X = train.drop('임신 성공 여부', axis=1)\n",
    "y = train['임신 성공 여부']\n",
    "\n",
    "X = make_feature(X)\n",
    "test = make_feature(test)\n",
    "\n",
    "X.shape, test.shape"
   ]
  },
  {
   "cell_type": "code",
   "execution_count": 90,
   "metadata": {},
   "outputs": [],
   "source": [
    "for col in X.columns:\n",
    "    if X[col].isna().sum():\n",
    "        print(col)\n",
    "for col in test.columns:\n",
    "    if test[col].isna().sum():\n",
    "        print(col)"
   ]
  },
  {
   "cell_type": "code",
   "execution_count": 91,
   "metadata": {
    "colab": {
     "base_uri": "https://localhost:8080/",
     "height": 178
    },
    "id": "1WNQj2e8ukWK",
    "outputId": "039cab20-93c0-4ab4-f8a6-8098c62dc87f"
   },
   "outputs": [
    {
     "data": {
      "text/plain": [
       "0    190123\n",
       "1     66198\n",
       "Name: 임신 성공 여부, dtype: int64"
      ]
     },
     "execution_count": 91,
     "metadata": {},
     "output_type": "execute_result"
    }
   ],
   "source": [
    "y.value_counts()"
   ]
  },
  {
   "cell_type": "code",
   "execution_count": 23,
   "metadata": {
    "id": "nsRZfmFixgqm"
   },
   "outputs": [],
   "source": [
    "def objective_cat(trial):\n",
    "    global best_val_auc, best_model_path\n",
    "    cbrm_param = {\n",
    "        'iterations':trial.suggest_int(\"iterations\", 1000, 3000),\n",
    "        'depth':trial.suggest_int(\"depth\", 4, 10),\n",
    "        'learning_rate' : trial.suggest_float('learning_rate',0.005, 0.1),\n",
    "        'l2_leaf_reg': trial.suggest_float(\"l2_leaf_reg\", 1e-4, 100.0, log=True),\n",
    "    }\n",
    "\n",
    "    # Generate model\n",
    "    model_cat = CatBoostClassifier(**cbrm_param, auto_class_weights='Balanced', eval_metric='AUC', random_state=seed, task_type=\"GPU\")\n",
    "    model_cat.fit(X_train,y_train,cat_features=categorical_columns,early_stopping_rounds= 300, eval_set=[(X_val,y_val)],verbose = False)\n",
    "    \n",
    "    val_auc = model_cat.get_best_score()[\"validation\"][\"AUC\"]\n",
    "    if val_auc > best_val_auc:\n",
    "        best_val_auc = val_auc\n",
    "        model_cat.save_model(best_model_path)\n",
    "        print('저장 완료')\n",
    "\n",
    "    return val_auc\n",
    "\n",
    "def objective_lgbm(trial):\n",
    "\n",
    "    lgbm_params = {\n",
    "         #'num_leaves': trial.suggest_int('num_leaves', 2, 1024, step=1),\n",
    "         #'max_depth': trial.suggest_int('max_depth', 3, 12, step=1),\n",
    "        \"objective\":  trial.suggest_categorical(\"objective\", [\"binary\"]),\n",
    "         \"metric\":  trial.suggest_categorical(\"metric\", [\"auc\"]),\n",
    "        \"verbose\":  trial.suggest_int('verbose', -1, -1),\n",
    "        \"random_state\": trial.suggest_int('random_state', 42, 42),\n",
    "        'learning_rate': trial.suggest_float('learning_rate', 0.005, 0.1, log=True),\n",
    "        'n_estimators': trial.suggest_int('n_estimators', 100, 3000),\n",
    "        'min_child_samples': trial.suggest_int('min_child_samples', 10, 50, step=5, log=False),\n",
    "        'subsample': trial.suggest_float('subsample', 0.5, 1.0, step=0.1, log=False),\n",
    "        'colsample_bytree': trial.suggest_float('colsample_bytree', 0.5, 1.0, step=0.1, log=False),\n",
    "    }\n",
    "\n",
    "    # Generate model\n",
    "\n",
    "    class_weights = compute_class_weight(class_weight=\"balanced\", classes=np.unique(y), y=y_train)\n",
    "    class_weight_dict = {i: w for i, w in enumerate(class_weights)}\n",
    "\n",
    "    model_lgbm = lgb.LGBMClassifier(**lgbm_params, class_weight=class_weight_dict)\n",
    "\n",
    "    model_lgbm.fit(X_train, y_train, eval_set=[(X_val, y_val)],categorical_feature=categorical_columns)\n",
    "\n",
    "    return model_lgbm.best_score_['valid_0']['auc']"
   ]
  },
  {
   "cell_type": "code",
   "execution_count": null,
   "metadata": {
    "colab": {
     "base_uri": "https://localhost:8080/"
    },
    "id": "NsuYwQX28LzT",
    "outputId": "392153b7-08f0-4feb-9a83-6016732f894c",
    "scrolled": true,
    "tags": []
   },
   "outputs": [
    {
     "name": "stderr",
     "output_type": "stream",
     "text": [
      "[I 2025-02-26 06:12:44,062] A new study created in memory with name: no-name-9cac4db4-4539-4d5c-ad50-3f5b1aaa740f\n"
     ]
    },
    {
     "name": "stdout",
     "output_type": "stream",
     "text": [
      "==================================================\n"
     ]
    },
    {
     "name": "stderr",
     "output_type": "stream",
     "text": [
      "Default metric period is 5 because AUC is/are not implemented for GPU\n",
      "[I 2025-02-26 06:13:56,346] Trial 0 finished with value: 0.7443420886993408 and parameters: {'iterations': 2154, 'depth': 10, 'learning_rate': 0.01181021951839225, 'l2_leaf_reg': 9.980783802743254}. Best is trial 0 with value: 0.7443420886993408.\n"
     ]
    },
    {
     "name": "stdout",
     "output_type": "stream",
     "text": [
      "저장 완료\n"
     ]
    },
    {
     "name": "stderr",
     "output_type": "stream",
     "text": [
      "Default metric period is 5 because AUC is/are not implemented for GPU\n",
      "[I 2025-02-26 06:14:21,219] Trial 1 finished with value: 0.7428832650184631 and parameters: {'iterations': 1925, 'depth': 4, 'learning_rate': 0.005671430811678843, 'l2_leaf_reg': 0.00012325230809466137}. Best is trial 0 with value: 0.7443420886993408.\n",
      "Default metric period is 5 because AUC is/are not implemented for GPU\n",
      "[I 2025-02-26 06:14:34,643] Trial 2 finished with value: 0.743840754032135 and parameters: {'iterations': 2380, 'depth': 4, 'learning_rate': 0.09275339199839054, 'l2_leaf_reg': 0.0008705394248343123}. Best is trial 0 with value: 0.7443420886993408.\n",
      "Default metric period is 5 because AUC is/are not implemented for GPU\n",
      "[I 2025-02-26 06:14:54,461] Trial 3 finished with value: 0.7443823218345642 and parameters: {'iterations': 2112, 'depth': 4, 'learning_rate': 0.04657568321363276, 'l2_leaf_reg': 0.0008640473331457248}. Best is trial 3 with value: 0.7443823218345642.\n"
     ]
    },
    {
     "name": "stdout",
     "output_type": "stream",
     "text": [
      "저장 완료\n"
     ]
    },
    {
     "name": "stderr",
     "output_type": "stream",
     "text": [
      "Default metric period is 5 because AUC is/are not implemented for GPU\n",
      "[I 2025-02-26 06:15:44,114] Trial 4 finished with value: 0.7419223785400391 and parameters: {'iterations': 1323, 'depth': 10, 'learning_rate': 0.012622767482095846, 'l2_leaf_reg': 0.00021158816350109617}. Best is trial 3 with value: 0.7443823218345642.\n",
      "Default metric period is 5 because AUC is/are not implemented for GPU\n",
      "[I 2025-02-26 06:15:55,488] Trial 5 finished with value: 0.7441838085651398 and parameters: {'iterations': 1776, 'depth': 4, 'learning_rate': 0.06995196593094148, 'l2_leaf_reg': 0.0018080296485396804}. Best is trial 3 with value: 0.7443823218345642.\n",
      "Default metric period is 5 because AUC is/are not implemented for GPU\n",
      "[I 2025-02-26 06:16:10,173] Trial 6 finished with value: 0.744431734085083 and parameters: {'iterations': 1663, 'depth': 5, 'learning_rate': 0.07985155992831598, 'l2_leaf_reg': 62.52181000710482}. Best is trial 6 with value: 0.744431734085083.\n"
     ]
    },
    {
     "name": "stdout",
     "output_type": "stream",
     "text": [
      "저장 완료\n"
     ]
    },
    {
     "name": "stderr",
     "output_type": "stream",
     "text": [
      "Default metric period is 5 because AUC is/are not implemented for GPU\n",
      "[I 2025-02-26 06:16:22,921] Trial 7 finished with value: 0.7438559830188751 and parameters: {'iterations': 1570, 'depth': 7, 'learning_rate': 0.0941937211034094, 'l2_leaf_reg': 0.05654822767791934}. Best is trial 6 with value: 0.744431734085083.\n",
      "Default metric period is 5 because AUC is/are not implemented for GPU\n",
      "[I 2025-02-26 06:16:43,231] Trial 8 finished with value: 0.7442586421966553 and parameters: {'iterations': 1539, 'depth': 7, 'learning_rate': 0.05155602859187331, 'l2_leaf_reg': 1.299974533316308}. Best is trial 6 with value: 0.744431734085083.\n",
      "Default metric period is 5 because AUC is/are not implemented for GPU\n",
      "[I 2025-02-26 06:16:58,876] Trial 9 finished with value: 0.7443599998950958 and parameters: {'iterations': 2519, 'depth': 6, 'learning_rate': 0.03968704290444751, 'l2_leaf_reg': 0.30557194377967184}. Best is trial 6 with value: 0.744431734085083.\n",
      "Default metric period is 5 because AUC is/are not implemented for GPU\n",
      "[I 2025-02-26 06:17:14,521] Trial 10 finished with value: 0.7445728182792664 and parameters: {'iterations': 2927, 'depth': 6, 'learning_rate': 0.07265276039199581, 'l2_leaf_reg': 97.18545559492455}. Best is trial 10 with value: 0.7445728182792664.\n"
     ]
    },
    {
     "name": "stdout",
     "output_type": "stream",
     "text": [
      "저장 완료\n"
     ]
    },
    {
     "name": "stderr",
     "output_type": "stream",
     "text": [
      "Default metric period is 5 because AUC is/are not implemented for GPU\n",
      "[I 2025-02-26 06:17:27,446] Trial 11 finished with value: 0.744820773601532 and parameters: {'iterations': 2991, 'depth': 6, 'learning_rate': 0.07131044509072976, 'l2_leaf_reg': 73.12133513928165}. Best is trial 11 with value: 0.744820773601532.\n"
     ]
    },
    {
     "name": "stdout",
     "output_type": "stream",
     "text": [
      "저장 완료\n"
     ]
    },
    {
     "name": "stderr",
     "output_type": "stream",
     "text": [
      "Default metric period is 5 because AUC is/are not implemented for GPU\n",
      "[I 2025-02-26 06:17:43,295] Trial 12 finished with value: 0.7445856332778931 and parameters: {'iterations': 2862, 'depth': 6, 'learning_rate': 0.06853332055535903, 'l2_leaf_reg': 87.13438924619741}. Best is trial 11 with value: 0.744820773601532.\n",
      "Default metric period is 5 because AUC is/are not implemented for GPU\n",
      "[I 2025-02-26 06:18:02,183] Trial 13 finished with value: 0.7445861399173737 and parameters: {'iterations': 2967, 'depth': 8, 'learning_rate': 0.06289338859497583, 'l2_leaf_reg': 6.517900520162297}. Best is trial 11 with value: 0.744820773601532.\n",
      "Default metric period is 5 because AUC is/are not implemented for GPU\n",
      "[I 2025-02-26 06:18:33,891] Trial 14 finished with value: 0.7439888119697571 and parameters: {'iterations': 2672, 'depth': 9, 'learning_rate': 0.030866060002221387, 'l2_leaf_reg': 7.23581953055628}. Best is trial 11 with value: 0.744820773601532.\n",
      "Default metric period is 5 because AUC is/are not implemented for GPU\n",
      "[I 2025-02-26 06:18:50,166] Trial 15 finished with value: 0.7438925206661224 and parameters: {'iterations': 1017, 'depth': 8, 'learning_rate': 0.0644555296593475, 'l2_leaf_reg': 8.660342030662777}. Best is trial 11 with value: 0.744820773601532.\n",
      "Default metric period is 5 because AUC is/are not implemented for GPU\n",
      "[I 2025-02-26 06:19:08,851] Trial 16 finished with value: 0.7438082993030548 and parameters: {'iterations': 2953, 'depth': 8, 'learning_rate': 0.05730728956548646, 'l2_leaf_reg': 0.03562900678874197}. Best is trial 11 with value: 0.744820773601532.\n",
      "Default metric period is 5 because AUC is/are not implemented for GPU\n",
      "[I 2025-02-26 06:19:23,833] Trial 17 finished with value: 0.7434924840927124 and parameters: {'iterations': 2651, 'depth': 8, 'learning_rate': 0.09019885583117822, 'l2_leaf_reg': 1.0786964460598871}. Best is trial 11 with value: 0.744820773601532.\n",
      "Default metric period is 5 because AUC is/are not implemented for GPU\n",
      "[I 2025-02-26 06:19:38,197] Trial 18 finished with value: 0.7452460527420044 and parameters: {'iterations': 2365, 'depth': 7, 'learning_rate': 0.0804451533916715, 'l2_leaf_reg': 17.720451104799878}. Best is trial 18 with value: 0.7452460527420044.\n"
     ]
    },
    {
     "name": "stdout",
     "output_type": "stream",
     "text": [
      "저장 완료\n"
     ]
    },
    {
     "name": "stderr",
     "output_type": "stream",
     "text": [
      "Default metric period is 5 because AUC is/are not implemented for GPU\n",
      "[I 2025-02-26 06:19:51,964] Trial 19 finished with value: 0.7445130050182343 and parameters: {'iterations': 2319, 'depth': 7, 'learning_rate': 0.08356539486820506, 'l2_leaf_reg': 0.008523791233313186}. Best is trial 18 with value: 0.7452460527420044.\n",
      "Default metric period is 5 because AUC is/are not implemented for GPU\n",
      "[I 2025-02-26 06:20:06,749] Trial 20 finished with value: 0.7443869709968567 and parameters: {'iterations': 2637, 'depth': 5, 'learning_rate': 0.07791091794357091, 'l2_leaf_reg': 25.121986351201198}. Best is trial 18 with value: 0.7452460527420044.\n",
      "Default metric period is 5 because AUC is/are not implemented for GPU\n",
      "[I 2025-02-26 06:20:29,229] Trial 21 finished with value: 0.7441461980342865 and parameters: {'iterations': 2791, 'depth': 9, 'learning_rate': 0.06020943341372356, 'l2_leaf_reg': 1.0126089000943805}. Best is trial 18 with value: 0.7452460527420044.\n",
      "Default metric period is 5 because AUC is/are not implemented for GPU\n",
      "[I 2025-02-26 06:20:43,226] Trial 22 finished with value: 0.7449180483818054 and parameters: {'iterations': 2397, 'depth': 7, 'learning_rate': 0.08255335593868422, 'l2_leaf_reg': 4.3396493380323555}. Best is trial 18 with value: 0.7452460527420044.\n",
      "Default metric period is 5 because AUC is/are not implemented for GPU\n",
      "[I 2025-02-26 06:20:56,401] Trial 23 finished with value: 0.7448682487010956 and parameters: {'iterations': 2360, 'depth': 7, 'learning_rate': 0.09988539436526017, 'l2_leaf_reg': 22.131851802044093}. Best is trial 18 with value: 0.7452460527420044.\n",
      "Default metric period is 5 because AUC is/are not implemented for GPU\n",
      "[I 2025-02-26 06:21:09,925] Trial 24 finished with value: 0.7447092533111572 and parameters: {'iterations': 2366, 'depth': 7, 'learning_rate': 0.09882324062882451, 'l2_leaf_reg': 2.6272691712577334}. Best is trial 18 with value: 0.7452460527420044.\n",
      "Default metric period is 5 because AUC is/are not implemented for GPU\n",
      "[I 2025-02-26 06:21:23,372] Trial 25 finished with value: 0.7444608509540558 and parameters: {'iterations': 2228, 'depth': 7, 'learning_rate': 0.0856762992342343, 'l2_leaf_reg': 0.19013529025692433}. Best is trial 18 with value: 0.7452460527420044.\n",
      "Default metric period is 5 because AUC is/are not implemented for GPU\n",
      "[I 2025-02-26 06:21:43,828] Trial 26 finished with value: 0.744592696428299 and parameters: {'iterations': 2019, 'depth': 9, 'learning_rate': 0.09980168073314649, 'l2_leaf_reg': 19.694504233388077}. Best is trial 18 with value: 0.7452460527420044.\n",
      "Default metric period is 5 because AUC is/are not implemented for GPU\n",
      "[I 2025-02-26 06:21:54,711] Trial 27 finished with value: 0.7443654835224152 and parameters: {'iterations': 2448, 'depth': 5, 'learning_rate': 0.0871721756192313, 'l2_leaf_reg': 2.7176929372989242}. Best is trial 18 with value: 0.7452460527420044.\n",
      "Default metric period is 5 because AUC is/are not implemented for GPU\n",
      "[I 2025-02-26 06:22:13,934] Trial 28 finished with value: 0.74453204870224 and parameters: {'iterations': 1900, 'depth': 8, 'learning_rate': 0.07778050282358477, 'l2_leaf_reg': 28.494174322766195}. Best is trial 18 with value: 0.7452460527420044.\n",
      "Default metric period is 5 because AUC is/are not implemented for GPU\n",
      "[I 2025-02-26 06:22:25,555] Trial 29 finished with value: 0.7442277073860168 and parameters: {'iterations': 2174, 'depth': 6, 'learning_rate': 0.09402597877081789, 'l2_leaf_reg': 0.3082414812022889}. Best is trial 18 with value: 0.7452460527420044.\n",
      "Default metric period is 5 because AUC is/are not implemented for GPU\n",
      "[I 2025-02-26 06:22:39,530] Trial 30 finished with value: 0.7449911832809448 and parameters: {'iterations': 2556, 'depth': 7, 'learning_rate': 0.08232060802511036, 'l2_leaf_reg': 3.835525309724286}. Best is trial 18 with value: 0.7452460527420044.\n",
      "Default metric period is 5 because AUC is/are not implemented for GPU\n",
      "[I 2025-02-26 06:22:55,462] Trial 31 finished with value: 0.7448928952217102 and parameters: {'iterations': 2515, 'depth': 7, 'learning_rate': 0.08321193404091493, 'l2_leaf_reg': 17.197528870157395}. Best is trial 18 with value: 0.7452460527420044.\n",
      "Default metric period is 5 because AUC is/are not implemented for GPU\n",
      "[I 2025-02-26 06:23:09,000] Trial 32 finished with value: 0.7444047033786774 and parameters: {'iterations': 2554, 'depth': 7, 'learning_rate': 0.08156226156771144, 'l2_leaf_reg': 4.865072762502055}. Best is trial 18 with value: 0.7452460527420044.\n",
      "Default metric period is 5 because AUC is/are not implemented for GPU\n",
      "[I 2025-02-26 06:23:27,861] Trial 33 finished with value: 0.744498074054718 and parameters: {'iterations': 2500, 'depth': 8, 'learning_rate': 0.07421755188704574, 'l2_leaf_reg': 0.5983096128937868}. Best is trial 18 with value: 0.7452460527420044.\n",
      "Default metric period is 5 because AUC is/are not implemented for GPU\n",
      "[I 2025-02-26 06:23:42,659] Trial 34 finished with value: 0.7443151473999023 and parameters: {'iterations': 2778, 'depth': 6, 'learning_rate': 0.07705418062956015, 'l2_leaf_reg': 2.740135312472917}. Best is trial 18 with value: 0.7452460527420044.\n",
      "Default metric period is 5 because AUC is/are not implemented for GPU\n",
      "[I 2025-02-26 06:23:56,959] Trial 35 finished with value: 0.7449407279491425 and parameters: {'iterations': 2282, 'depth': 7, 'learning_rate': 0.0879146433414958, 'l2_leaf_reg': 17.132311378487845}. Best is trial 18 with value: 0.7452460527420044.\n",
      "Default metric period is 5 because AUC is/are not implemented for GPU\n",
      "[I 2025-02-26 06:24:13,177] Trial 36 finished with value: 0.7452932894229889 and parameters: {'iterations': 2252, 'depth': 7, 'learning_rate': 0.08974672715641574, 'l2_leaf_reg': 12.15656593425925}. Best is trial 36 with value: 0.7452932894229889.\n"
     ]
    },
    {
     "name": "stdout",
     "output_type": "stream",
     "text": [
      "저장 완료\n"
     ]
    },
    {
     "name": "stderr",
     "output_type": "stream",
     "text": [
      "Default metric period is 5 because AUC is/are not implemented for GPU\n",
      "[I 2025-02-26 06:24:25,944] Trial 37 finished with value: 0.7440207004547119 and parameters: {'iterations': 2059, 'depth': 6, 'learning_rate': 0.09025777882048742, 'l2_leaf_reg': 46.687632224842716}. Best is trial 36 with value: 0.7452932894229889.\n",
      "Default metric period is 5 because AUC is/are not implemented for GPU\n",
      "[I 2025-02-26 06:24:42,112] Trial 38 finished with value: 0.7444350719451904 and parameters: {'iterations': 2237, 'depth': 8, 'learning_rate': 0.089137458409409, 'l2_leaf_reg': 10.951463362329326}. Best is trial 36 with value: 0.7452932894229889.\n",
      "Default metric period is 5 because AUC is/are not implemented for GPU\n",
      "[I 2025-02-26 06:25:07,980] Trial 39 finished with value: 0.7443515658378601 and parameters: {'iterations': 1913, 'depth': 5, 'learning_rate': 0.02321153685299171, 'l2_leaf_reg': 1.7726011823114154}. Best is trial 36 with value: 0.7452932894229889.\n",
      "Default metric period is 5 because AUC is/are not implemented for GPU\n",
      "[I 2025-02-26 06:25:31,893] Trial 40 finished with value: 0.7439034879207611 and parameters: {'iterations': 2264, 'depth': 9, 'learning_rate': 0.09452880260523033, 'l2_leaf_reg': 38.45980132472}. Best is trial 36 with value: 0.7452932894229889.\n",
      "Default metric period is 5 because AUC is/are not implemented for GPU\n",
      "[I 2025-02-26 06:25:45,568] Trial 41 finished with value: 0.7445414364337921 and parameters: {'iterations': 2407, 'depth': 7, 'learning_rate': 0.06744905963902816, 'l2_leaf_reg': 5.117315428632445}. Best is trial 36 with value: 0.7452932894229889.\n",
      "Default metric period is 5 because AUC is/are not implemented for GPU\n",
      "[I 2025-02-26 06:25:59,662] Trial 42 finished with value: 0.7448487281799316 and parameters: {'iterations': 2122, 'depth': 7, 'learning_rate': 0.0844417868246587, 'l2_leaf_reg': 15.86137752634196}. Best is trial 36 with value: 0.7452932894229889.\n",
      "Default metric period is 5 because AUC is/are not implemented for GPU\n",
      "[I 2025-02-26 06:26:13,109] Trial 43 finished with value: 0.7446429133415222 and parameters: {'iterations': 1809, 'depth': 7, 'learning_rate': 0.09467836995266246, 'l2_leaf_reg': 4.234420699519412}. Best is trial 36 with value: 0.7452932894229889.\n",
      "Default metric period is 5 because AUC is/are not implemented for GPU\n",
      "[I 2025-02-26 06:26:26,006] Trial 44 finished with value: 0.7443941831588745 and parameters: {'iterations': 2166, 'depth': 6, 'learning_rate': 0.07447127458411747, 'l2_leaf_reg': 12.467308768639258}. Best is trial 36 with value: 0.7452932894229889.\n",
      "Default metric period is 5 because AUC is/are not implemented for GPU\n",
      "[I 2025-02-26 06:26:38,520] Trial 45 finished with value: 0.744379073381424 and parameters: {'iterations': 2575, 'depth': 7, 'learning_rate': 0.08033982622065719, 'l2_leaf_reg': 0.6996129357144032}. Best is trial 36 with value: 0.7452932894229889.\n",
      "Default metric period is 5 because AUC is/are not implemented for GPU\n",
      "[I 2025-02-26 06:26:59,903] Trial 46 finished with value: 0.7447499632835388 and parameters: {'iterations': 2309, 'depth': 8, 'learning_rate': 0.048151774834595616, 'l2_leaf_reg': 49.07931133823867}. Best is trial 36 with value: 0.7452932894229889.\n",
      "Default metric period is 5 because AUC is/are not implemented for GPU\n",
      "[I 2025-02-26 06:27:12,903] Trial 47 finished with value: 0.7444141805171967 and parameters: {'iterations': 2447, 'depth': 6, 'learning_rate': 0.08701320109843622, 'l2_leaf_reg': 0.08439142465699533}. Best is trial 36 with value: 0.7452932894229889.\n",
      "Default metric period is 5 because AUC is/are not implemented for GPU\n",
      "[I 2025-02-26 06:27:23,845] Trial 48 finished with value: 0.7443218231201172 and parameters: {'iterations': 2760, 'depth': 6, 'learning_rate': 0.0697744067196654, 'l2_leaf_reg': 0.0004091024178847901}. Best is trial 36 with value: 0.7452932894229889.\n",
      "Default metric period is 5 because AUC is/are not implemented for GPU\n",
      "[I 2025-02-26 06:27:40,546] Trial 49 finished with value: 0.7445713877677917 and parameters: {'iterations': 2082, 'depth': 7, 'learning_rate': 0.05492392760530887, 'l2_leaf_reg': 7.735586922067923}. Best is trial 36 with value: 0.7452932894229889.\n",
      "Default metric period is 5 because AUC is/are not implemented for GPU\n",
      "[I 2025-02-26 06:27:54,622] Trial 50 finished with value: 0.7431886494159698 and parameters: {'iterations': 1995, 'depth': 8, 'learning_rate': 0.09176921626879352, 'l2_leaf_reg': 0.011908557501210858}. Best is trial 36 with value: 0.7452932894229889.\n",
      "Default metric period is 5 because AUC is/are not implemented for GPU\n",
      "[I 2025-02-26 06:28:08,704] Trial 51 finished with value: 0.7448237836360931 and parameters: {'iterations': 2528, 'depth': 7, 'learning_rate': 0.08324696105364063, 'l2_leaf_reg': 16.244018241589302}. Best is trial 36 with value: 0.7452932894229889.\n",
      "Default metric period is 5 because AUC is/are not implemented for GPU\n",
      "[I 2025-02-26 06:28:22,599] Trial 52 finished with value: 0.7446322739124298 and parameters: {'iterations': 2453, 'depth': 7, 'learning_rate': 0.08014580331674787, 'l2_leaf_reg': 3.4098685203773558}. Best is trial 36 with value: 0.7452932894229889.\n",
      "Default metric period is 5 because AUC is/are not implemented for GPU\n",
      "[I 2025-02-26 06:29:26,563] Trial 53 finished with value: 0.7445957958698273 and parameters: {'iterations': 2605, 'depth': 7, 'learning_rate': 0.007220147111280412, 'l2_leaf_reg': 9.921500724838314}. Best is trial 36 with value: 0.7452932894229889.\n",
      "Default metric period is 5 because AUC is/are not implemented for GPU\n",
      "[I 2025-02-26 06:29:43,508] Trial 54 finished with value: 0.7443403005599976 and parameters: {'iterations': 2712, 'depth': 7, 'learning_rate': 0.0748467742344488, 'l2_leaf_reg': 93.83476277284143}. Best is trial 36 with value: 0.7452932894229889.\n",
      "Default metric period is 5 because AUC is/are not implemented for GPU\n",
      "[I 2025-02-26 06:30:02,716] Trial 55 finished with value: 0.7447851896286011 and parameters: {'iterations': 2282, 'depth': 8, 'learning_rate': 0.06417455395722997, 'l2_leaf_reg': 35.09813599483962}. Best is trial 36 with value: 0.7452932894229889.\n",
      "Default metric period is 5 because AUC is/are not implemented for GPU\n",
      "[I 2025-02-26 06:30:16,313] Trial 56 finished with value: 0.7443253993988037 and parameters: {'iterations': 2357, 'depth': 6, 'learning_rate': 0.0865262923214854, 'l2_leaf_reg': 6.673599730566437}. Best is trial 36 with value: 0.7452932894229889.\n",
      "Default metric period is 5 because AUC is/are not implemented for GPU\n",
      "[I 2025-02-26 06:30:40,047] Trial 57 finished with value: 0.7444664239883423 and parameters: {'iterations': 1320, 'depth': 7, 'learning_rate': 0.03682221143364481, 'l2_leaf_reg': 1.7506815785963603}. Best is trial 36 with value: 0.7452932894229889.\n",
      "Default metric period is 5 because AUC is/are not implemented for GPU\n",
      "[I 2025-02-26 06:30:51,092] Trial 58 finished with value: 0.7438952326774597 and parameters: {'iterations': 2206, 'depth': 6, 'learning_rate': 0.09704036045252856, 'l2_leaf_reg': 23.18982829403054}. Best is trial 36 with value: 0.7452932894229889.\n",
      "Default metric period is 5 because AUC is/are not implemented for GPU\n",
      "[I 2025-02-26 06:31:08,905] Trial 59 finished with value: 0.7447893023490906 and parameters: {'iterations': 2887, 'depth': 8, 'learning_rate': 0.09030633628621222, 'l2_leaf_reg': 60.9429564710514}. Best is trial 36 with value: 0.7452932894229889.\n",
      "[I 2025-02-26 06:31:08,915] A new study created in memory with name: no-name-eb94aeda-7bed-4d16-a6db-216b2ae05a2a\n",
      "[I 2025-02-26 06:31:19,815] Trial 0 finished with value: 0.7386195929228261 and parameters: {'objective': 'binary', 'metric': 'auc', 'verbose': -1, 'random_state': 42, 'learning_rate': 0.028176029297306456, 'n_estimators': 2587, 'min_child_samples': 10, 'subsample': 0.9, 'colsample_bytree': 0.7}. Best is trial 0 with value: 0.7386195929228261.\n",
      "[I 2025-02-26 06:31:21,186] Trial 1 finished with value: 0.7369967527385858 and parameters: {'objective': 'binary', 'metric': 'auc', 'verbose': -1, 'random_state': 42, 'learning_rate': 0.005944336111080004, 'n_estimators': 120, 'min_child_samples': 10, 'subsample': 0.9, 'colsample_bytree': 0.5}. Best is trial 0 with value: 0.7386195929228261.\n",
      "[I 2025-02-26 06:31:24,024] Trial 2 finished with value: 0.7396694986718421 and parameters: {'objective': 'binary', 'metric': 'auc', 'verbose': -1, 'random_state': 42, 'learning_rate': 0.07957145920376708, 'n_estimators': 554, 'min_child_samples': 35, 'subsample': 0.5, 'colsample_bytree': 0.7}. Best is trial 2 with value: 0.7396694986718421.\n",
      "[I 2025-02-26 06:31:28,454] Trial 3 finished with value: 0.7432637042901001 and parameters: {'objective': 'binary', 'metric': 'auc', 'verbose': -1, 'random_state': 42, 'learning_rate': 0.007980814962048806, 'n_estimators': 568, 'min_child_samples': 50, 'subsample': 0.5, 'colsample_bytree': 0.5}. Best is trial 3 with value: 0.7432637042901001.\n",
      "[I 2025-02-26 06:31:30,450] Trial 4 finished with value: 0.7427042365511402 and parameters: {'objective': 'binary', 'metric': 'auc', 'verbose': -1, 'random_state': 42, 'learning_rate': 0.01599119727287282, 'n_estimators': 227, 'min_child_samples': 40, 'subsample': 0.6, 'colsample_bytree': 0.6}. Best is trial 3 with value: 0.7432637042901001.\n",
      "[I 2025-02-26 06:31:41,560] Trial 5 finished with value: 0.7425324388480898 and parameters: {'objective': 'binary', 'metric': 'auc', 'verbose': -1, 'random_state': 42, 'learning_rate': 0.010907507425244923, 'n_estimators': 2385, 'min_child_samples': 50, 'subsample': 0.6, 'colsample_bytree': 0.8}. Best is trial 3 with value: 0.7432637042901001.\n",
      "[I 2025-02-26 06:31:47,480] Trial 6 finished with value: 0.7347449701690829 and parameters: {'objective': 'binary', 'metric': 'auc', 'verbose': -1, 'random_state': 42, 'learning_rate': 0.0832688765336147, 'n_estimators': 1430, 'min_child_samples': 20, 'subsample': 0.7, 'colsample_bytree': 0.7}. Best is trial 3 with value: 0.7432637042901001.\n",
      "[I 2025-02-26 06:31:56,921] Trial 7 finished with value: 0.7365320841853634 and parameters: {'objective': 'binary', 'metric': 'auc', 'verbose': -1, 'random_state': 42, 'learning_rate': 0.03899678252089179, 'n_estimators': 2302, 'min_child_samples': 25, 'subsample': 0.7, 'colsample_bytree': 0.8}. Best is trial 3 with value: 0.7432637042901001.\n",
      "[I 2025-02-26 06:32:05,932] Trial 8 finished with value: 0.7346900228703432 and parameters: {'objective': 'binary', 'metric': 'auc', 'verbose': -1, 'random_state': 42, 'learning_rate': 0.06174177473816209, 'n_estimators': 2024, 'min_child_samples': 10, 'subsample': 0.7, 'colsample_bytree': 0.6}. Best is trial 3 with value: 0.7432637042901001.\n",
      "[I 2025-02-26 06:32:13,922] Trial 9 finished with value: 0.742700633514706 and parameters: {'objective': 'binary', 'metric': 'auc', 'verbose': -1, 'random_state': 42, 'learning_rate': 0.013735964154420877, 'n_estimators': 1705, 'min_child_samples': 10, 'subsample': 0.6, 'colsample_bytree': 0.8}. Best is trial 3 with value: 0.7432637042901001.\n",
      "[I 2025-02-26 06:32:20,419] Trial 10 finished with value: 0.7432616862718989 and parameters: {'objective': 'binary', 'metric': 'auc', 'verbose': -1, 'random_state': 42, 'learning_rate': 0.005236123002416718, 'n_estimators': 992, 'min_child_samples': 50, 'subsample': 1.0, 'colsample_bytree': 1.0}. Best is trial 3 with value: 0.7432637042901001.\n",
      "[I 2025-02-26 06:32:26,563] Trial 11 finished with value: 0.7432506626488506 and parameters: {'objective': 'binary', 'metric': 'auc', 'verbose': -1, 'random_state': 42, 'learning_rate': 0.0054962591518223575, 'n_estimators': 935, 'min_child_samples': 50, 'subsample': 1.0, 'colsample_bytree': 1.0}. Best is trial 3 with value: 0.7432637042901001.\n",
      "[I 2025-02-26 06:32:33,054] Trial 12 finished with value: 0.7433760975754703 and parameters: {'objective': 'binary', 'metric': 'auc', 'verbose': -1, 'random_state': 42, 'learning_rate': 0.008536222047955655, 'n_estimators': 1114, 'min_child_samples': 45, 'subsample': 1.0, 'colsample_bytree': 1.0}. Best is trial 12 with value: 0.7433760975754703.\n",
      "[I 2025-02-26 06:32:39,253] Trial 13 finished with value: 0.7434000357205112 and parameters: {'objective': 'binary', 'metric': 'auc', 'verbose': -1, 'random_state': 42, 'learning_rate': 0.009225570344685555, 'n_estimators': 1069, 'min_child_samples': 40, 'subsample': 0.8, 'colsample_bytree': 0.9}. Best is trial 13 with value: 0.7434000357205112.\n",
      "[I 2025-02-26 06:32:45,549] Trial 14 finished with value: 0.7417083326513915 and parameters: {'objective': 'binary', 'metric': 'auc', 'verbose': -1, 'random_state': 42, 'learning_rate': 0.021599715034250407, 'n_estimators': 1304, 'min_child_samples': 40, 'subsample': 0.9, 'colsample_bytree': 0.9}. Best is trial 13 with value: 0.7434000357205112.\n",
      "[I 2025-02-26 06:32:51,375] Trial 15 finished with value: 0.7435375390315705 and parameters: {'objective': 'binary', 'metric': 'auc', 'verbose': -1, 'random_state': 42, 'learning_rate': 0.00961163373116126, 'n_estimators': 1029, 'min_child_samples': 40, 'subsample': 0.8, 'colsample_bytree': 0.9}. Best is trial 15 with value: 0.7435375390315705.\n",
      "[I 2025-02-26 06:32:59,570] Trial 16 finished with value: 0.7416301900607678 and parameters: {'objective': 'binary', 'metric': 'auc', 'verbose': -1, 'random_state': 42, 'learning_rate': 0.017559664113971928, 'n_estimators': 1828, 'min_child_samples': 30, 'subsample': 0.8, 'colsample_bytree': 0.9}. Best is trial 15 with value: 0.7435375390315705.\n",
      "[I 2025-02-26 06:33:04,063] Trial 17 finished with value: 0.7436192727411981 and parameters: {'objective': 'binary', 'metric': 'auc', 'verbose': -1, 'random_state': 42, 'learning_rate': 0.009863576525739739, 'n_estimators': 705, 'min_child_samples': 35, 'subsample': 0.8, 'colsample_bytree': 0.9}. Best is trial 17 with value: 0.7436192727411981.\n",
      "[I 2025-02-26 06:33:08,037] Trial 18 finished with value: 0.7435764256067124 and parameters: {'objective': 'binary', 'metric': 'auc', 'verbose': -1, 'random_state': 42, 'learning_rate': 0.011812704219369242, 'n_estimators': 604, 'min_child_samples': 30, 'subsample': 0.8, 'colsample_bytree': 0.9}. Best is trial 17 with value: 0.7436192727411981.\n",
      "[I 2025-02-26 06:33:11,343] Trial 19 finished with value: 0.7428858502442994 and parameters: {'objective': 'binary', 'metric': 'auc', 'verbose': -1, 'random_state': 42, 'learning_rate': 0.03090313049589223, 'n_estimators': 599, 'min_child_samples': 20, 'subsample': 0.8, 'colsample_bytree': 0.9}. Best is trial 17 with value: 0.7436192727411981.\n",
      "[I 2025-02-26 06:33:23,956] Trial 20 finished with value: 0.7402854470855765 and parameters: {'objective': 'binary', 'metric': 'auc', 'verbose': -1, 'random_state': 42, 'learning_rate': 0.013728340077609927, 'n_estimators': 2921, 'min_child_samples': 30, 'subsample': 0.9, 'colsample_bytree': 1.0}. Best is trial 17 with value: 0.7436192727411981.\n",
      "[I 2025-02-26 06:33:28,278] Trial 21 finished with value: 0.7437228113758387 and parameters: {'objective': 'binary', 'metric': 'auc', 'verbose': -1, 'random_state': 42, 'learning_rate': 0.011943253408695632, 'n_estimators': 699, 'min_child_samples': 35, 'subsample': 0.8, 'colsample_bytree': 0.9}. Best is trial 21 with value: 0.7437228113758387.\n",
      "[I 2025-02-26 06:33:32,661] Trial 22 finished with value: 0.7436971293134941 and parameters: {'objective': 'binary', 'metric': 'auc', 'verbose': -1, 'random_state': 42, 'learning_rate': 0.011810149481247286, 'n_estimators': 716, 'min_child_samples': 35, 'subsample': 0.8, 'colsample_bytree': 0.8}. Best is trial 21 with value: 0.7437228113758387.\n",
      "[I 2025-02-26 06:33:35,365] Trial 23 finished with value: 0.7417161226783455 and parameters: {'objective': 'binary', 'metric': 'auc', 'verbose': -1, 'random_state': 42, 'learning_rate': 0.007349472125189151, 'n_estimators': 355, 'min_child_samples': 35, 'subsample': 0.7, 'colsample_bytree': 0.8}. Best is trial 21 with value: 0.7437228113758387.\n",
      "[I 2025-02-26 06:33:39,593] Trial 24 finished with value: 0.7431724406086915 and parameters: {'objective': 'binary', 'metric': 'auc', 'verbose': -1, 'random_state': 42, 'learning_rate': 0.019923132267368495, 'n_estimators': 782, 'min_child_samples': 35, 'subsample': 0.9, 'colsample_bytree': 0.8}. Best is trial 21 with value: 0.7437228113758387.\n",
      "[I 2025-02-26 06:33:46,900] Trial 25 finished with value: 0.7436204803741374 and parameters: {'objective': 'binary', 'metric': 'auc', 'verbose': -1, 'random_state': 42, 'learning_rate': 0.006909895470940625, 'n_estimators': 1272, 'min_child_samples': 25, 'subsample': 0.8, 'colsample_bytree': 0.9}. Best is trial 21 with value: 0.7437228113758387.\n",
      "[I 2025-02-26 06:33:54,244] Trial 26 finished with value: 0.7437119625417686 and parameters: {'objective': 'binary', 'metric': 'auc', 'verbose': -1, 'random_state': 42, 'learning_rate': 0.006894721111378898, 'n_estimators': 1291, 'min_child_samples': 25, 'subsample': 0.7, 'colsample_bytree': 0.8}. Best is trial 21 with value: 0.7437228113758387.\n",
      "[I 2025-02-26 06:34:01,611] Trial 27 finished with value: 0.7433186754237004 and parameters: {'objective': 'binary', 'metric': 'auc', 'verbose': -1, 'random_state': 42, 'learning_rate': 0.013182711521141572, 'n_estimators': 1519, 'min_child_samples': 25, 'subsample': 0.7, 'colsample_bytree': 0.7}. Best is trial 21 with value: 0.7437228113758387.\n",
      "[I 2025-02-26 06:34:05,861] Trial 28 finished with value: 0.7426771442595407 and parameters: {'objective': 'binary', 'metric': 'auc', 'verbose': -1, 'random_state': 42, 'learning_rate': 0.027800896676113365, 'n_estimators': 829, 'min_child_samples': 20, 'subsample': 0.6, 'colsample_bytree': 0.8}. Best is trial 21 with value: 0.7437228113758387.\n",
      "[I 2025-02-26 06:34:09,174] Trial 29 finished with value: 0.7418879243538726 and parameters: {'objective': 'binary', 'metric': 'auc', 'verbose': -1, 'random_state': 42, 'learning_rate': 0.006502273218367306, 'n_estimators': 430, 'min_child_samples': 15, 'subsample': 0.7, 'colsample_bytree': 0.6}. Best is trial 21 with value: 0.7437228113758387.\n",
      "[I 2025-02-26 06:34:15,425] Trial 30 finished with value: 0.7433378624865195 and parameters: {'objective': 'binary', 'metric': 'auc', 'verbose': -1, 'random_state': 42, 'learning_rate': 0.01611463360815633, 'n_estimators': 1246, 'min_child_samples': 45, 'subsample': 0.9, 'colsample_bytree': 0.7}. Best is trial 21 with value: 0.7437228113758387.\n",
      "[I 2025-02-26 06:34:22,877] Trial 31 finished with value: 0.743872116915394 and parameters: {'objective': 'binary', 'metric': 'auc', 'verbose': -1, 'random_state': 42, 'learning_rate': 0.006823870896976523, 'n_estimators': 1298, 'min_child_samples': 25, 'subsample': 0.8, 'colsample_bytree': 0.8}. Best is trial 31 with value: 0.743872116915394.\n",
      "[I 2025-02-26 06:34:32,461] Trial 32 finished with value: 0.7437767019957564 and parameters: {'objective': 'binary', 'metric': 'auc', 'verbose': -1, 'random_state': 42, 'learning_rate': 0.005114897051926385, 'n_estimators': 1707, 'min_child_samples': 25, 'subsample': 0.9, 'colsample_bytree': 0.8}. Best is trial 31 with value: 0.743872116915394.\n",
      "[I 2025-02-26 06:34:42,568] Trial 33 finished with value: 0.7437093963217726 and parameters: {'objective': 'binary', 'metric': 'auc', 'verbose': -1, 'random_state': 42, 'learning_rate': 0.005168395381817954, 'n_estimators': 1787, 'min_child_samples': 25, 'subsample': 0.9, 'colsample_bytree': 0.8}. Best is trial 31 with value: 0.743872116915394.\n",
      "[I 2025-02-26 06:34:53,360] Trial 34 finished with value: 0.7435958232108004 and parameters: {'objective': 'binary', 'metric': 'auc', 'verbose': -1, 'random_state': 42, 'learning_rate': 0.00618327361202865, 'n_estimators': 2051, 'min_child_samples': 15, 'subsample': 0.9, 'colsample_bytree': 0.7}. Best is trial 31 with value: 0.743872116915394.\n",
      "[I 2025-02-26 06:35:01,865] Trial 35 finished with value: 0.7437946019761006 and parameters: {'objective': 'binary', 'metric': 'auc', 'verbose': -1, 'random_state': 42, 'learning_rate': 0.0079292115308194, 'n_estimators': 1605, 'min_child_samples': 25, 'subsample': 1.0, 'colsample_bytree': 0.8}. Best is trial 31 with value: 0.743872116915394.\n",
      "[I 2025-02-26 06:35:10,808] Trial 36 finished with value: 0.7436334266759442 and parameters: {'objective': 'binary', 'metric': 'auc', 'verbose': -1, 'random_state': 42, 'learning_rate': 0.007920165735076624, 'n_estimators': 1668, 'min_child_samples': 30, 'subsample': 1.0, 'colsample_bytree': 0.7}. Best is trial 31 with value: 0.743872116915394.\n",
      "[I 2025-02-26 06:35:19,569] Trial 37 finished with value: 0.7436997471756882 and parameters: {'objective': 'binary', 'metric': 'auc', 'verbose': -1, 'random_state': 42, 'learning_rate': 0.0058874412637056235, 'n_estimators': 1512, 'min_child_samples': 20, 'subsample': 1.0, 'colsample_bytree': 0.8}. Best is trial 31 with value: 0.743872116915394.\n",
      "[I 2025-02-26 06:35:29,203] Trial 38 finished with value: 0.743417220655036 and parameters: {'objective': 'binary', 'metric': 'auc', 'verbose': -1, 'random_state': 42, 'learning_rate': 0.008209138120679306, 'n_estimators': 1906, 'min_child_samples': 15, 'subsample': 1.0, 'colsample_bytree': 0.9}. Best is trial 31 with value: 0.743872116915394.\n",
      "[I 2025-02-26 06:35:41,777] Trial 39 finished with value: 0.7429647277431263 and parameters: {'objective': 'binary', 'metric': 'auc', 'verbose': -1, 'random_state': 42, 'learning_rate': 0.010463688671499487, 'n_estimators': 2479, 'min_child_samples': 30, 'subsample': 0.9, 'colsample_bytree': 0.6}. Best is trial 31 with value: 0.743872116915394.\n",
      "[I 2025-02-26 06:35:52,949] Trial 40 finished with value: 0.737647948938737 and parameters: {'objective': 'binary', 'metric': 'auc', 'verbose': -1, 'random_state': 42, 'learning_rate': 0.04571726152041547, 'n_estimators': 2188, 'min_child_samples': 20, 'subsample': 0.9, 'colsample_bytree': 0.5}. Best is trial 31 with value: 0.743872116915394.\n",
      "[I 2025-02-26 06:36:01,029] Trial 41 finished with value: 0.7437873243986505 and parameters: {'objective': 'binary', 'metric': 'auc', 'verbose': -1, 'random_state': 42, 'learning_rate': 0.0070919127107380835, 'n_estimators': 1419, 'min_child_samples': 25, 'subsample': 0.7, 'colsample_bytree': 0.8}. Best is trial 31 with value: 0.743872116915394.\n",
      "[I 2025-02-26 06:36:10,201] Trial 42 finished with value: 0.7437372711912965 and parameters: {'objective': 'binary', 'metric': 'auc', 'verbose': -1, 'random_state': 42, 'learning_rate': 0.006152712497053614, 'n_estimators': 1658, 'min_child_samples': 25, 'subsample': 0.5, 'colsample_bytree': 0.8}. Best is trial 31 with value: 0.743872116915394.\n",
      "[I 2025-02-26 06:36:19,804] Trial 43 finished with value: 0.7436343800703701 and parameters: {'objective': 'binary', 'metric': 'auc', 'verbose': -1, 'random_state': 42, 'learning_rate': 0.005056550885607858, 'n_estimators': 1664, 'min_child_samples': 25, 'subsample': 0.5, 'colsample_bytree': 0.8}. Best is trial 31 with value: 0.743872116915394.\n",
      "[I 2025-02-26 06:36:28,012] Trial 44 finished with value: 0.743789056398524 and parameters: {'objective': 'binary', 'metric': 'auc', 'verbose': -1, 'random_state': 42, 'learning_rate': 0.0061011774100345, 'n_estimators': 1387, 'min_child_samples': 25, 'subsample': 0.5, 'colsample_bytree': 0.7}. Best is trial 31 with value: 0.743872116915394.\n",
      "[I 2025-02-26 06:36:35,964] Trial 45 finished with value: 0.7436561849953832 and parameters: {'objective': 'binary', 'metric': 'auc', 'verbose': -1, 'random_state': 42, 'learning_rate': 0.007601777185705862, 'n_estimators': 1436, 'min_child_samples': 20, 'subsample': 0.6, 'colsample_bytree': 0.7}. Best is trial 31 with value: 0.743872116915394.\n",
      "[I 2025-02-26 06:36:43,325] Trial 46 finished with value: 0.7438510190912467 and parameters: {'objective': 'binary', 'metric': 'auc', 'verbose': -1, 'random_state': 42, 'learning_rate': 0.00591933151315261, 'n_estimators': 1190, 'min_child_samples': 30, 'subsample': 0.5, 'colsample_bytree': 0.7}. Best is trial 31 with value: 0.743872116915394.\n",
      "[I 2025-02-26 06:36:50,079] Trial 47 finished with value: 0.7438676359615928 and parameters: {'objective': 'binary', 'metric': 'auc', 'verbose': -1, 'random_state': 42, 'learning_rate': 0.008750029819827643, 'n_estimators': 1188, 'min_child_samples': 30, 'subsample': 0.5, 'colsample_bytree': 0.7}. Best is trial 31 with value: 0.743872116915394.\n",
      "[I 2025-02-26 06:36:57,124] Trial 48 finished with value: 0.7439239060950983 and parameters: {'objective': 'binary', 'metric': 'auc', 'verbose': -1, 'random_state': 42, 'learning_rate': 0.00881721435610702, 'n_estimators': 1152, 'min_child_samples': 30, 'subsample': 0.5, 'colsample_bytree': 0.6}. Best is trial 48 with value: 0.7439239060950983.\n",
      "[I 2025-02-26 06:37:04,398] Trial 49 finished with value: 0.7438772215480488 and parameters: {'objective': 'binary', 'metric': 'auc', 'verbose': -1, 'random_state': 42, 'learning_rate': 0.00889486912848302, 'n_estimators': 1206, 'min_child_samples': 30, 'subsample': 0.5, 'colsample_bytree': 0.6}. Best is trial 48 with value: 0.7439239060950983.\n",
      "[I 2025-02-26 06:37:11,550] Trial 50 finished with value: 0.7438491718895467 and parameters: {'objective': 'binary', 'metric': 'auc', 'verbose': -1, 'random_state': 42, 'learning_rate': 0.009006980043812816, 'n_estimators': 1177, 'min_child_samples': 30, 'subsample': 0.5, 'colsample_bytree': 0.6}. Best is trial 48 with value: 0.7439239060950983.\n",
      "[I 2025-02-26 06:37:16,920] Trial 51 finished with value: 0.7354990694075909 and parameters: {'objective': 'binary', 'metric': 'auc', 'verbose': -1, 'random_state': 42, 'learning_rate': 0.09859705659062341, 'n_estimators': 1143, 'min_child_samples': 30, 'subsample': 0.5, 'colsample_bytree': 0.6}. Best is trial 48 with value: 0.7439239060950983.\n",
      "[I 2025-02-26 06:37:23,529] Trial 52 finished with value: 0.7437923853340607 and parameters: {'objective': 'binary', 'metric': 'auc', 'verbose': -1, 'random_state': 42, 'learning_rate': 0.00894911749506536, 'n_estimators': 956, 'min_child_samples': 30, 'subsample': 0.5, 'colsample_bytree': 0.5}. Best is trial 48 with value: 0.7439239060950983.\n",
      "[I 2025-02-26 06:37:30,459] Trial 53 finished with value: 0.7438465738897364 and parameters: {'objective': 'binary', 'metric': 'auc', 'verbose': -1, 'random_state': 42, 'learning_rate': 0.01032121230557126, 'n_estimators': 1184, 'min_child_samples': 30, 'subsample': 0.5, 'colsample_bytree': 0.6}. Best is trial 48 with value: 0.7439239060950983.\n",
      "[I 2025-02-26 06:37:36,202] Trial 54 finished with value: 0.7438884954371338 and parameters: {'objective': 'binary', 'metric': 'auc', 'verbose': -1, 'random_state': 42, 'learning_rate': 0.009064601453007307, 'n_estimators': 891, 'min_child_samples': 35, 'subsample': 0.6, 'colsample_bytree': 0.6}. Best is trial 48 with value: 0.7439239060950983.\n",
      "[I 2025-02-26 06:37:42,263] Trial 55 finished with value: 0.7438558694853878 and parameters: {'objective': 'binary', 'metric': 'auc', 'verbose': -1, 'random_state': 42, 'learning_rate': 0.00908990166044227, 'n_estimators': 943, 'min_child_samples': 35, 'subsample': 0.6, 'colsample_bytree': 0.6}. Best is trial 48 with value: 0.7439239060950983.\n",
      "[I 2025-02-26 06:37:48,638] Trial 56 finished with value: 0.7438884755747499 and parameters: {'objective': 'binary', 'metric': 'auc', 'verbose': -1, 'random_state': 42, 'learning_rate': 0.010780541886234328, 'n_estimators': 940, 'min_child_samples': 40, 'subsample': 0.6, 'colsample_bytree': 0.5}. Best is trial 48 with value: 0.7439239060950983.\n",
      "[I 2025-02-26 06:37:54,220] Trial 57 finished with value: 0.7439710077522089 and parameters: {'objective': 'binary', 'metric': 'auc', 'verbose': -1, 'random_state': 42, 'learning_rate': 0.015287641212146305, 'n_estimators': 840, 'min_child_samples': 40, 'subsample': 0.6, 'colsample_bytree': 0.5}. Best is trial 57 with value: 0.7439710077522089.\n",
      "[I 2025-02-26 06:37:59,842] Trial 58 finished with value: 0.7438319472302541 and parameters: {'objective': 'binary', 'metric': 'auc', 'verbose': -1, 'random_state': 42, 'learning_rate': 0.014905378035925424, 'n_estimators': 847, 'min_child_samples': 40, 'subsample': 0.6, 'colsample_bytree': 0.5}. Best is trial 57 with value: 0.7439710077522089.\n",
      "[I 2025-02-26 06:38:06,428] Trial 59 finished with value: 0.7439157347103739 and parameters: {'objective': 'binary', 'metric': 'auc', 'verbose': -1, 'random_state': 42, 'learning_rate': 0.011708155659571605, 'n_estimators': 997, 'min_child_samples': 45, 'subsample': 0.6, 'colsample_bytree': 0.5}. Best is trial 57 with value: 0.7439710077522089.\n"
     ]
    },
    {
     "name": "stdout",
     "output_type": "stream",
     "text": [
      "Cat val score : 0.7452932784262889\n",
      "LGBM val score : 0.7439710077522089\n",
      "Ensemble val score : 0.7450573808380114\n"
     ]
    },
    {
     "name": "stderr",
     "output_type": "stream",
     "text": [
      "[I 2025-02-26 06:38:12,585] A new study created in memory with name: no-name-a072167e-7c4b-4058-83be-99945f27f5cc\n"
     ]
    },
    {
     "name": "stdout",
     "output_type": "stream",
     "text": [
      "==================================================\n"
     ]
    },
    {
     "name": "stderr",
     "output_type": "stream",
     "text": [
      "Default metric period is 5 because AUC is/are not implemented for GPU\n",
      "[I 2025-02-26 06:39:25,282] Trial 0 finished with value: 0.737199455499649 and parameters: {'iterations': 2154, 'depth': 10, 'learning_rate': 0.01181021951839225, 'l2_leaf_reg': 9.980783802743254}. Best is trial 0 with value: 0.737199455499649.\n"
     ]
    },
    {
     "name": "stdout",
     "output_type": "stream",
     "text": [
      "저장 완료\n"
     ]
    },
    {
     "name": "stderr",
     "output_type": "stream",
     "text": [
      "Default metric period is 5 because AUC is/are not implemented for GPU\n",
      "[I 2025-02-26 06:39:49,750] Trial 1 finished with value: 0.7350329458713531 and parameters: {'iterations': 1925, 'depth': 4, 'learning_rate': 0.005671430811678843, 'l2_leaf_reg': 0.00012325230809466137}. Best is trial 0 with value: 0.737199455499649.\n",
      "Default metric period is 5 because AUC is/are not implemented for GPU\n",
      "[I 2025-02-26 06:40:01,122] Trial 2 finished with value: 0.7371193170547485 and parameters: {'iterations': 2380, 'depth': 4, 'learning_rate': 0.09275339199839054, 'l2_leaf_reg': 0.0008705394248343123}. Best is trial 0 with value: 0.737199455499649.\n",
      "Default metric period is 5 because AUC is/are not implemented for GPU\n",
      "[I 2025-02-26 06:40:21,143] Trial 3 finished with value: 0.7371049225330353 and parameters: {'iterations': 2112, 'depth': 4, 'learning_rate': 0.04657568321363276, 'l2_leaf_reg': 0.0008640473331457248}. Best is trial 0 with value: 0.737199455499649.\n",
      "Default metric period is 5 because AUC is/are not implemented for GPU\n",
      "[I 2025-02-26 06:41:18,402] Trial 4 finished with value: 0.7344104945659637 and parameters: {'iterations': 1323, 'depth': 10, 'learning_rate': 0.012622767482095846, 'l2_leaf_reg': 0.00021158816350109617}. Best is trial 0 with value: 0.737199455499649.\n",
      "Default metric period is 5 because AUC is/are not implemented for GPU\n",
      "[I 2025-02-26 06:41:33,457] Trial 5 finished with value: 0.7373048067092896 and parameters: {'iterations': 1776, 'depth': 4, 'learning_rate': 0.06995196593094148, 'l2_leaf_reg': 0.0018080296485396804}. Best is trial 5 with value: 0.7373048067092896.\n"
     ]
    },
    {
     "name": "stdout",
     "output_type": "stream",
     "text": [
      "저장 완료\n"
     ]
    },
    {
     "name": "stderr",
     "output_type": "stream",
     "text": [
      "Default metric period is 5 because AUC is/are not implemented for GPU\n",
      "[I 2025-02-26 06:41:52,543] Trial 6 finished with value: 0.7376720905303955 and parameters: {'iterations': 1663, 'depth': 5, 'learning_rate': 0.07985155992831598, 'l2_leaf_reg': 62.52181000710482}. Best is trial 6 with value: 0.7376720905303955.\n"
     ]
    },
    {
     "name": "stdout",
     "output_type": "stream",
     "text": [
      "저장 완료\n"
     ]
    },
    {
     "name": "stderr",
     "output_type": "stream",
     "text": [
      "Default metric period is 5 because AUC is/are not implemented for GPU\n",
      "[I 2025-02-26 06:42:04,185] Trial 7 finished with value: 0.7363642454147339 and parameters: {'iterations': 1570, 'depth': 7, 'learning_rate': 0.0941937211034094, 'l2_leaf_reg': 0.05654822767791934}. Best is trial 6 with value: 0.7376720905303955.\n",
      "Default metric period is 5 because AUC is/are not implemented for GPU\n",
      "[I 2025-02-26 06:42:21,370] Trial 8 finished with value: 0.7368764579296112 and parameters: {'iterations': 1539, 'depth': 7, 'learning_rate': 0.05155602859187331, 'l2_leaf_reg': 1.299974533316308}. Best is trial 6 with value: 0.7376720905303955.\n",
      "Default metric period is 5 because AUC is/are not implemented for GPU\n",
      "[I 2025-02-26 06:42:43,438] Trial 9 finished with value: 0.7372618317604065 and parameters: {'iterations': 2519, 'depth': 6, 'learning_rate': 0.03968704290444751, 'l2_leaf_reg': 0.30557194377967184}. Best is trial 6 with value: 0.7376720905303955.\n",
      "Default metric period is 5 because AUC is/are not implemented for GPU\n",
      "[I 2025-02-26 06:42:58,865] Trial 10 finished with value: 0.7377303540706635 and parameters: {'iterations': 2927, 'depth': 6, 'learning_rate': 0.07265276039199581, 'l2_leaf_reg': 97.18545559492455}. Best is trial 10 with value: 0.7377303540706635.\n"
     ]
    },
    {
     "name": "stdout",
     "output_type": "stream",
     "text": [
      "저장 완료\n"
     ]
    },
    {
     "name": "stderr",
     "output_type": "stream",
     "text": [
      "Default metric period is 5 because AUC is/are not implemented for GPU\n",
      "[I 2025-02-26 06:43:14,249] Trial 11 finished with value: 0.7374595403671265 and parameters: {'iterations': 2991, 'depth': 6, 'learning_rate': 0.07131044509072976, 'l2_leaf_reg': 73.12133513928165}. Best is trial 10 with value: 0.7377303540706635.\n",
      "Default metric period is 5 because AUC is/are not implemented for GPU\n",
      "[I 2025-02-26 06:43:28,293] Trial 12 finished with value: 0.7373763918876648 and parameters: {'iterations': 1117, 'depth': 6, 'learning_rate': 0.07382783813729095, 'l2_leaf_reg': 87.13438924619741}. Best is trial 10 with value: 0.7377303540706635.\n",
      "Default metric period is 5 because AUC is/are not implemented for GPU\n",
      "[I 2025-02-26 06:43:44,266] Trial 13 finished with value: 0.737486720085144 and parameters: {'iterations': 2967, 'depth': 5, 'learning_rate': 0.07888750974731618, 'l2_leaf_reg': 6.819372056732027}. Best is trial 10 with value: 0.7377303540706635.\n",
      "Default metric period is 5 because AUC is/are not implemented for GPU\n",
      "[I 2025-02-26 06:44:02,123] Trial 14 finished with value: 0.7370565533638 and parameters: {'iterations': 2603, 'depth': 8, 'learning_rate': 0.06308101933412968, 'l2_leaf_reg': 11.43898266416441}. Best is trial 10 with value: 0.7377303540706635.\n",
      "Default metric period is 5 because AUC is/are not implemented for GPU\n",
      "[I 2025-02-26 06:44:17,760] Trial 15 finished with value: 0.7361891865730286 and parameters: {'iterations': 1017, 'depth': 8, 'learning_rate': 0.08625378621185843, 'l2_leaf_reg': 0.026986971696484445}. Best is trial 10 with value: 0.7377303540706635.\n",
      "Default metric period is 5 because AUC is/are not implemented for GPU\n",
      "[I 2025-02-26 06:44:42,132] Trial 16 finished with value: 0.7376117706298828 and parameters: {'iterations': 1688, 'depth': 5, 'learning_rate': 0.03297321538665532, 'l2_leaf_reg': 1.8163096738383553}. Best is trial 10 with value: 0.7377303540706635.\n",
      "Default metric period is 5 because AUC is/are not implemented for GPU\n",
      "[I 2025-02-26 06:45:01,215] Trial 17 finished with value: 0.7377681136131287 and parameters: {'iterations': 2755, 'depth': 5, 'learning_rate': 0.0615894500743966, 'l2_leaf_reg': 30.65193510830995}. Best is trial 17 with value: 0.7377681136131287.\n"
     ]
    },
    {
     "name": "stdout",
     "output_type": "stream",
     "text": [
      "저장 완료\n"
     ]
    },
    {
     "name": "stderr",
     "output_type": "stream",
     "text": [
      "Default metric period is 5 because AUC is/are not implemented for GPU\n",
      "[I 2025-02-26 06:45:13,680] Trial 18 finished with value: 0.736701488494873 and parameters: {'iterations': 2753, 'depth': 7, 'learning_rate': 0.05970016430294879, 'l2_leaf_reg': 0.010016909578442512}. Best is trial 17 with value: 0.7377681136131287.\n",
      "Default metric period is 5 because AUC is/are not implemented for GPU\n",
      "[I 2025-02-26 06:45:45,249] Trial 19 finished with value: 0.7372860014438629 and parameters: {'iterations': 2749, 'depth': 8, 'learning_rate': 0.02938354818655775, 'l2_leaf_reg': 0.33175635561801586}. Best is trial 17 with value: 0.7377681136131287.\n",
      "Default metric period is 5 because AUC is/are not implemented for GPU\n",
      "[I 2025-02-26 06:46:03,831] Trial 20 finished with value: 0.7377012670040131 and parameters: {'iterations': 2378, 'depth': 5, 'learning_rate': 0.062318829639131094, 'l2_leaf_reg': 20.41978753971729}. Best is trial 17 with value: 0.7377681136131287.\n",
      "Default metric period is 5 because AUC is/are not implemented for GPU\n",
      "[I 2025-02-26 06:46:22,462] Trial 21 finished with value: 0.7377884089946747 and parameters: {'iterations': 2435, 'depth': 5, 'learning_rate': 0.06020943341372356, 'l2_leaf_reg': 21.243266545378265}. Best is trial 21 with value: 0.7377884089946747.\n"
     ]
    },
    {
     "name": "stdout",
     "output_type": "stream",
     "text": [
      "저장 완료\n"
     ]
    },
    {
     "name": "stderr",
     "output_type": "stream",
     "text": [
      "Default metric period is 5 because AUC is/are not implemented for GPU\n",
      "[I 2025-02-26 06:46:44,801] Trial 22 finished with value: 0.7371159195899963 and parameters: {'iterations': 2768, 'depth': 6, 'learning_rate': 0.0526800164682337, 'l2_leaf_reg': 2.0190810712398486}. Best is trial 21 with value: 0.7377884089946747.\n",
      "Default metric period is 5 because AUC is/are not implemented for GPU\n",
      "[I 2025-02-26 06:47:04,635] Trial 23 finished with value: 0.7377581596374512 and parameters: {'iterations': 2336, 'depth': 5, 'learning_rate': 0.05990668078126798, 'l2_leaf_reg': 24.246184155884677}. Best is trial 21 with value: 0.7377884089946747.\n",
      "Default metric period is 5 because AUC is/are not implemented for GPU\n",
      "[I 2025-02-26 06:47:29,932] Trial 24 finished with value: 0.7375202775001526 and parameters: {'iterations': 2275, 'depth': 5, 'learning_rate': 0.047523248749361875, 'l2_leaf_reg': 24.244573438342965}. Best is trial 21 with value: 0.7377884089946747.\n",
      "Default metric period is 5 because AUC is/are not implemented for GPU\n",
      "[I 2025-02-26 06:47:48,987] Trial 25 finished with value: 0.7377704977989197 and parameters: {'iterations': 2526, 'depth': 5, 'learning_rate': 0.058047861276907364, 'l2_leaf_reg': 4.434744046254836}. Best is trial 21 with value: 0.7377884089946747.\n",
      "Default metric period is 5 because AUC is/are not implemented for GPU\n",
      "[I 2025-02-26 06:48:10,024] Trial 26 finished with value: 0.7374466955661774 and parameters: {'iterations': 2524, 'depth': 4, 'learning_rate': 0.039063305630111844, 'l2_leaf_reg': 4.366642424534305}. Best is trial 21 with value: 0.7377884089946747.\n",
      "Default metric period is 5 because AUC is/are not implemented for GPU\n",
      "[I 2025-02-26 06:48:35,893] Trial 27 finished with value: 0.7366656064987183 and parameters: {'iterations': 2646, 'depth': 9, 'learning_rate': 0.0548093056139875, 'l2_leaf_reg': 0.4145234167780916}. Best is trial 21 with value: 0.7377884089946747.\n",
      "Default metric period is 5 because AUC is/are not implemented for GPU\n",
      "[I 2025-02-26 06:48:49,438] Trial 28 finished with value: 0.7371339797973633 and parameters: {'iterations': 1955, 'depth': 5, 'learning_rate': 0.06616701351953852, 'l2_leaf_reg': 0.8376461316402141}. Best is trial 21 with value: 0.7377884089946747.\n",
      "Default metric period is 5 because AUC is/are not implemented for GPU\n",
      "[I 2025-02-26 06:49:21,405] Trial 29 finished with value: 0.7378095388412476 and parameters: {'iterations': 2455, 'depth': 6, 'learning_rate': 0.023174536645179024, 'l2_leaf_reg': 4.390698458757904}. Best is trial 29 with value: 0.7378095388412476.\n"
     ]
    },
    {
     "name": "stdout",
     "output_type": "stream",
     "text": [
      "저장 완료\n"
     ]
    },
    {
     "name": "stderr",
     "output_type": "stream",
     "text": [
      "Default metric period is 5 because AUC is/are not implemented for GPU\n",
      "[I 2025-02-26 06:49:52,860] Trial 30 finished with value: 0.7376611530780792 and parameters: {'iterations': 2176, 'depth': 6, 'learning_rate': 0.025017215532873328, 'l2_leaf_reg': 4.2852407341792595}. Best is trial 29 with value: 0.7378095388412476.\n",
      "Default metric period is 5 because AUC is/are not implemented for GPU\n",
      "[I 2025-02-26 06:50:31,763] Trial 31 finished with value: 0.7375258207321167 and parameters: {'iterations': 2474, 'depth': 5, 'learning_rate': 0.018923194422876766, 'l2_leaf_reg': 9.116067168577343}. Best is trial 29 with value: 0.7378095388412476.\n",
      "Default metric period is 5 because AUC is/are not implemented for GPU\n",
      "[I 2025-02-26 06:50:55,400] Trial 32 finished with value: 0.737517774105072 and parameters: {'iterations': 2177, 'depth': 6, 'learning_rate': 0.04196578974041921, 'l2_leaf_reg': 30.472090337551474}. Best is trial 29 with value: 0.7378095388412476.\n",
      "Default metric period is 5 because AUC is/are not implemented for GPU\n",
      "[I 2025-02-26 06:51:15,893] Trial 33 finished with value: 0.7375364303588867 and parameters: {'iterations': 2819, 'depth': 4, 'learning_rate': 0.058210623773368726, 'l2_leaf_reg': 3.045023745356115}. Best is trial 29 with value: 0.7378095388412476.\n",
      "Default metric period is 5 because AUC is/are not implemented for GPU\n",
      "[I 2025-02-26 06:51:35,533] Trial 34 finished with value: 0.7375372350215912 and parameters: {'iterations': 2658, 'depth': 4, 'learning_rate': 0.04719946343187882, 'l2_leaf_reg': 11.38718471769807}. Best is trial 29 with value: 0.7378095388412476.\n",
      "Default metric period is 5 because AUC is/are not implemented for GPU\n",
      "[I 2025-02-26 06:51:53,815] Trial 35 finished with value: 0.7371295690536499 and parameters: {'iterations': 2460, 'depth': 5, 'learning_rate': 0.06625124611516571, 'l2_leaf_reg': 0.7057188288454269}. Best is trial 29 with value: 0.7378095388412476.\n",
      "Default metric period is 5 because AUC is/are not implemented for GPU\n",
      "[I 2025-02-26 06:52:14,908] Trial 36 finished with value: 0.7375723719596863 and parameters: {'iterations': 2252, 'depth': 4, 'learning_rate': 0.054657952484789385, 'l2_leaf_reg': 35.02451946094041}. Best is trial 29 with value: 0.7378095388412476.\n",
      "Default metric period is 5 because AUC is/are not implemented for GPU\n",
      "[I 2025-02-26 06:52:56,661] Trial 37 finished with value: 0.7370437979698181 and parameters: {'iterations': 2099, 'depth': 6, 'learning_rate': 0.007854056834208062, 'l2_leaf_reg': 0.09432432995611649}. Best is trial 29 with value: 0.7378095388412476.\n",
      "Default metric period is 5 because AUC is/are not implemented for GPU\n",
      "[I 2025-02-26 06:53:12,446] Trial 38 finished with value: 0.7371027171611786 and parameters: {'iterations': 1866, 'depth': 7, 'learning_rate': 0.08029122983652684, 'l2_leaf_reg': 13.42488862908132}. Best is trial 29 with value: 0.7378095388412476.\n",
      "Default metric period is 5 because AUC is/are not implemented for GPU\n",
      "[I 2025-02-26 06:53:44,205] Trial 39 finished with value: 0.7376189231872559 and parameters: {'iterations': 2878, 'depth': 4, 'learning_rate': 0.03394299991167332, 'l2_leaf_reg': 5.477302309409057}. Best is trial 29 with value: 0.7378095388412476.\n",
      "Default metric period is 5 because AUC is/are not implemented for GPU\n",
      "[I 2025-02-26 06:54:16,283] Trial 40 finished with value: 0.737475723028183 and parameters: {'iterations': 2026, 'depth': 5, 'learning_rate': 0.019581254826500534, 'l2_leaf_reg': 44.55901085432536}. Best is trial 29 with value: 0.7378095388412476.\n",
      "Default metric period is 5 because AUC is/are not implemented for GPU\n",
      "[I 2025-02-26 06:54:35,454] Trial 41 finished with value: 0.7372696995735168 and parameters: {'iterations': 2371, 'depth': 5, 'learning_rate': 0.06668987298993642, 'l2_leaf_reg': 20.312148384958814}. Best is trial 29 with value: 0.7378095388412476.\n",
      "Default metric period is 5 because AUC is/are not implemented for GPU\n",
      "[I 2025-02-26 06:54:54,007] Trial 42 finished with value: 0.7376004755496979 and parameters: {'iterations': 2337, 'depth': 5, 'learning_rate': 0.0585478968761654, 'l2_leaf_reg': 42.18161672526831}. Best is trial 29 with value: 0.7378095388412476.\n",
      "Default metric period is 5 because AUC is/are not implemented for GPU\n",
      "[I 2025-02-26 06:55:10,951] Trial 43 finished with value: 0.7374083995819092 and parameters: {'iterations': 2586, 'depth': 6, 'learning_rate': 0.049331866791530725, 'l2_leaf_reg': 16.126835807492366}. Best is trial 29 with value: 0.7378095388412476.\n",
      "Default metric period is 5 because AUC is/are not implemented for GPU\n",
      "[I 2025-02-26 06:55:35,453] Trial 44 finished with value: 0.7374972999095917 and parameters: {'iterations': 2273, 'depth': 5, 'learning_rate': 0.04203167751075307, 'l2_leaf_reg': 2.5146747136619494}. Best is trial 29 with value: 0.7378095388412476.\n",
      "Default metric period is 5 because AUC is/are not implemented for GPU\n",
      "[I 2025-02-26 06:55:52,496] Trial 45 finished with value: 0.737592488527298 and parameters: {'iterations': 2453, 'depth': 4, 'learning_rate': 0.07600757447756028, 'l2_leaf_reg': 1.0385686485018888}. Best is trial 29 with value: 0.7378095388412476.\n",
      "Default metric period is 5 because AUC is/are not implemented for GPU\n",
      "[I 2025-02-26 06:56:06,370] Trial 46 finished with value: 0.7371863126754761 and parameters: {'iterations': 2566, 'depth': 6, 'learning_rate': 0.06991356444095201, 'l2_leaf_reg': 8.010540372693875}. Best is trial 29 with value: 0.7378095388412476.\n",
      "Default metric period is 5 because AUC is/are not implemented for GPU\n",
      "[I 2025-02-26 06:56:22,673] Trial 47 finished with value: 0.7372656762599945 and parameters: {'iterations': 2423, 'depth': 7, 'learning_rate': 0.08661269871265039, 'l2_leaf_reg': 51.42753912172868}. Best is trial 29 with value: 0.7378095388412476.\n",
      "Default metric period is 5 because AUC is/are not implemented for GPU\n",
      "[I 2025-02-26 06:56:36,631] Trial 48 finished with value: 0.7365505993366241 and parameters: {'iterations': 2677, 'depth': 5, 'learning_rate': 0.06153252038133966, 'l2_leaf_reg': 0.0004091024178847901}. Best is trial 29 with value: 0.7378095388412476.\n",
      "Default metric period is 5 because AUC is/are not implemented for GPU\n",
      "[I 2025-02-26 06:56:51,108] Trial 49 finished with value: 0.7372936904430389 and parameters: {'iterations': 2317, 'depth': 6, 'learning_rate': 0.05647259355738925, 'l2_leaf_reg': 0.0026667318465648368}. Best is trial 29 with value: 0.7378095388412476.\n",
      "Default metric period is 5 because AUC is/are not implemented for GPU\n",
      "[I 2025-02-26 06:57:06,712] Trial 50 finished with value: 0.7374649047851562 and parameters: {'iterations': 2897, 'depth': 7, 'learning_rate': 0.052070236822346475, 'l2_leaf_reg': 4.341789749701731}. Best is trial 29 with value: 0.7378095388412476.\n",
      "Default metric period is 5 because AUC is/are not implemented for GPU\n",
      "[I 2025-02-26 06:57:21,789] Trial 51 finished with value: 0.7376987934112549 and parameters: {'iterations': 2904, 'depth': 6, 'learning_rate': 0.07264381790693432, 'l2_leaf_reg': 83.12893182879367}. Best is trial 29 with value: 0.7378095388412476.\n",
      "Default metric period is 5 because AUC is/are not implemented for GPU\n",
      "[I 2025-02-26 06:57:43,340] Trial 52 finished with value: 0.7376623749732971 and parameters: {'iterations': 2723, 'depth': 5, 'learning_rate': 0.06829624393321203, 'l2_leaf_reg': 78.13293455426628}. Best is trial 29 with value: 0.7378095388412476.\n",
      "Default metric period is 5 because AUC is/are not implemented for GPU\n",
      "[I 2025-02-26 06:57:55,993] Trial 53 finished with value: 0.7368364036083221 and parameters: {'iterations': 2821, 'depth': 6, 'learning_rate': 0.09751817047884734, 'l2_leaf_reg': 25.482921321116642}. Best is trial 29 with value: 0.7378095388412476.\n",
      "Default metric period is 5 because AUC is/are not implemented for GPU\n",
      "[I 2025-02-26 06:58:14,257] Trial 54 finished with value: 0.7376307249069214 and parameters: {'iterations': 2975, 'depth': 5, 'learning_rate': 0.0635290941450532, 'l2_leaf_reg': 89.6988268096426}. Best is trial 29 with value: 0.7378095388412476.\n",
      "Default metric period is 5 because AUC is/are not implemented for GPU\n",
      "[I 2025-02-26 06:58:29,639] Trial 55 finished with value: 0.7371972799301147 and parameters: {'iterations': 2538, 'depth': 7, 'learning_rate': 0.08292887292888684, 'l2_leaf_reg': 15.901578470802157}. Best is trial 29 with value: 0.7378095388412476.\n",
      "Default metric period is 5 because AUC is/are not implemented for GPU\n",
      "[I 2025-02-26 06:58:44,775] Trial 56 finished with value: 0.737570732831955 and parameters: {'iterations': 2610, 'depth': 4, 'learning_rate': 0.07450510803288919, 'l2_leaf_reg': 0.18253829804629243}. Best is trial 29 with value: 0.7378095388412476.\n",
      "Default metric period is 5 because AUC is/are not implemented for GPU\n",
      "[I 2025-02-26 06:59:03,151] Trial 57 finished with value: 0.7374871373176575 and parameters: {'iterations': 1320, 'depth': 6, 'learning_rate': 0.06359901462385284, 'l2_leaf_reg': 8.10060009642179}. Best is trial 29 with value: 0.7378095388412476.\n",
      "Default metric period is 5 because AUC is/are not implemented for GPU\n",
      "[I 2025-02-26 06:59:45,185] Trial 58 finished with value: 0.7376596927642822 and parameters: {'iterations': 2680, 'depth': 10, 'learning_rate': 0.044112490988779576, 'l2_leaf_reg': 53.38479165981418}. Best is trial 29 with value: 0.7378095388412476.\n",
      "Default metric period is 5 because AUC is/are not implemented for GPU\n",
      "[I 2025-02-26 07:00:09,426] Trial 59 finished with value: 0.7379263043403625 and parameters: {'iterations': 2791, 'depth': 5, 'learning_rate': 0.05031945681557074, 'l2_leaf_reg': 1.4613522060511341}. Best is trial 59 with value: 0.7379263043403625.\n",
      "[I 2025-02-26 07:00:09,442] A new study created in memory with name: no-name-019310d3-ae8e-4d49-8ffa-3f1d1b23bc16\n"
     ]
    },
    {
     "name": "stdout",
     "output_type": "stream",
     "text": [
      "저장 완료\n"
     ]
    },
    {
     "name": "stderr",
     "output_type": "stream",
     "text": [
      "[I 2025-02-26 07:00:20,485] Trial 0 finished with value: 0.7297071658741424 and parameters: {'objective': 'binary', 'metric': 'auc', 'verbose': -1, 'random_state': 42, 'learning_rate': 0.028176029297306456, 'n_estimators': 2587, 'min_child_samples': 10, 'subsample': 0.9, 'colsample_bytree': 0.7}. Best is trial 0 with value: 0.7297071658741424.\n",
      "[I 2025-02-26 07:00:21,913] Trial 1 finished with value: 0.7282236785420956 and parameters: {'objective': 'binary', 'metric': 'auc', 'verbose': -1, 'random_state': 42, 'learning_rate': 0.005944336111080004, 'n_estimators': 120, 'min_child_samples': 10, 'subsample': 0.9, 'colsample_bytree': 0.5}. Best is trial 0 with value: 0.7297071658741424.\n",
      "[I 2025-02-26 07:00:24,775] Trial 2 finished with value: 0.733395071240726 and parameters: {'objective': 'binary', 'metric': 'auc', 'verbose': -1, 'random_state': 42, 'learning_rate': 0.07957145920376708, 'n_estimators': 554, 'min_child_samples': 35, 'subsample': 0.5, 'colsample_bytree': 0.7}. Best is trial 2 with value: 0.733395071240726.\n",
      "[I 2025-02-26 07:00:29,143] Trial 3 finished with value: 0.7358747877492906 and parameters: {'objective': 'binary', 'metric': 'auc', 'verbose': -1, 'random_state': 42, 'learning_rate': 0.007980814962048806, 'n_estimators': 568, 'min_child_samples': 50, 'subsample': 0.5, 'colsample_bytree': 0.5}. Best is trial 3 with value: 0.7358747877492906.\n",
      "[I 2025-02-26 07:00:31,116] Trial 4 finished with value: 0.7353896432706919 and parameters: {'objective': 'binary', 'metric': 'auc', 'verbose': -1, 'random_state': 42, 'learning_rate': 0.01599119727287282, 'n_estimators': 227, 'min_child_samples': 40, 'subsample': 0.6, 'colsample_bytree': 0.6}. Best is trial 3 with value: 0.7358747877492906.\n",
      "[I 2025-02-26 07:00:42,471] Trial 5 finished with value: 0.7348189147417976 and parameters: {'objective': 'binary', 'metric': 'auc', 'verbose': -1, 'random_state': 42, 'learning_rate': 0.010907507425244923, 'n_estimators': 2385, 'min_child_samples': 50, 'subsample': 0.6, 'colsample_bytree': 0.8}. Best is trial 3 with value: 0.7358747877492906.\n",
      "[I 2025-02-26 07:00:48,517] Trial 6 finished with value: 0.7258854234378658 and parameters: {'objective': 'binary', 'metric': 'auc', 'verbose': -1, 'random_state': 42, 'learning_rate': 0.0832688765336147, 'n_estimators': 1430, 'min_child_samples': 20, 'subsample': 0.7, 'colsample_bytree': 0.7}. Best is trial 3 with value: 0.7358747877492906.\n",
      "[I 2025-02-26 07:00:58,233] Trial 7 finished with value: 0.7276536850324347 and parameters: {'objective': 'binary', 'metric': 'auc', 'verbose': -1, 'random_state': 42, 'learning_rate': 0.03899678252089179, 'n_estimators': 2302, 'min_child_samples': 25, 'subsample': 0.7, 'colsample_bytree': 0.8}. Best is trial 3 with value: 0.7358747877492906.\n",
      "[I 2025-02-26 07:01:07,414] Trial 8 finished with value: 0.7248359073534717 and parameters: {'objective': 'binary', 'metric': 'auc', 'verbose': -1, 'random_state': 42, 'learning_rate': 0.06174177473816209, 'n_estimators': 2024, 'min_child_samples': 10, 'subsample': 0.7, 'colsample_bytree': 0.6}. Best is trial 3 with value: 0.7358747877492906.\n",
      "[I 2025-02-26 07:01:15,517] Trial 9 finished with value: 0.7351938301738618 and parameters: {'objective': 'binary', 'metric': 'auc', 'verbose': -1, 'random_state': 42, 'learning_rate': 0.013735964154420877, 'n_estimators': 1705, 'min_child_samples': 10, 'subsample': 0.6, 'colsample_bytree': 0.8}. Best is trial 3 with value: 0.7358747877492906.\n",
      "[I 2025-02-26 07:01:22,060] Trial 10 finished with value: 0.7363674890202231 and parameters: {'objective': 'binary', 'metric': 'auc', 'verbose': -1, 'random_state': 42, 'learning_rate': 0.005236123002416718, 'n_estimators': 992, 'min_child_samples': 50, 'subsample': 1.0, 'colsample_bytree': 1.0}. Best is trial 10 with value: 0.7363674890202231.\n",
      "[I 2025-02-26 07:01:28,379] Trial 11 finished with value: 0.7364009820588003 and parameters: {'objective': 'binary', 'metric': 'auc', 'verbose': -1, 'random_state': 42, 'learning_rate': 0.0054962591518223575, 'n_estimators': 935, 'min_child_samples': 50, 'subsample': 1.0, 'colsample_bytree': 1.0}. Best is trial 11 with value: 0.7364009820588003.\n",
      "[I 2025-02-26 07:01:35,738] Trial 12 finished with value: 0.7364764943590612 and parameters: {'objective': 'binary', 'metric': 'auc', 'verbose': -1, 'random_state': 42, 'learning_rate': 0.005037597623428152, 'n_estimators': 1132, 'min_child_samples': 45, 'subsample': 1.0, 'colsample_bytree': 1.0}. Best is trial 12 with value: 0.7364764943590612.\n",
      "[I 2025-02-26 07:01:42,274] Trial 13 finished with value: 0.7365152715899643 and parameters: {'objective': 'binary', 'metric': 'auc', 'verbose': -1, 'random_state': 42, 'learning_rate': 0.009004111874292661, 'n_estimators': 1117, 'min_child_samples': 40, 'subsample': 1.0, 'colsample_bytree': 1.0}. Best is trial 13 with value: 0.7365152715899643.\n",
      "[I 2025-02-26 07:01:49,578] Trial 14 finished with value: 0.736359638220196 and parameters: {'objective': 'binary', 'metric': 'auc', 'verbose': -1, 'random_state': 42, 'learning_rate': 0.008777034464268349, 'n_estimators': 1317, 'min_child_samples': 40, 'subsample': 0.9, 'colsample_bytree': 0.9}. Best is trial 13 with value: 0.7365152715899643.\n",
      "[I 2025-02-26 07:01:56,090] Trial 15 finished with value: 0.7366344599249913 and parameters: {'objective': 'binary', 'metric': 'auc', 'verbose': -1, 'random_state': 42, 'learning_rate': 0.00798983079798067, 'n_estimators': 1066, 'min_child_samples': 40, 'subsample': 1.0, 'colsample_bytree': 0.9}. Best is trial 15 with value: 0.7366344599249913.\n",
      "[I 2025-02-26 07:02:03,917] Trial 16 finished with value: 0.7331358994859848 and parameters: {'objective': 'binary', 'metric': 'auc', 'verbose': -1, 'random_state': 42, 'learning_rate': 0.021978864776805457, 'n_estimators': 1700, 'min_child_samples': 30, 'subsample': 0.8, 'colsample_bytree': 0.9}. Best is trial 15 with value: 0.7366344599249913.\n",
      "[I 2025-02-26 07:02:08,078] Trial 17 finished with value: 0.73637283678178 and parameters: {'objective': 'binary', 'metric': 'auc', 'verbose': -1, 'random_state': 42, 'learning_rate': 0.017475783788404184, 'n_estimators': 705, 'min_child_samples': 35, 'subsample': 0.8, 'colsample_bytree': 0.9}. Best is trial 15 with value: 0.7366344599249913.\n",
      "[I 2025-02-26 07:02:17,329] Trial 18 finished with value: 0.7362730529545123 and parameters: {'objective': 'binary', 'metric': 'auc', 'verbose': -1, 'random_state': 42, 'learning_rate': 0.008889962186752977, 'n_estimators': 1812, 'min_child_samples': 40, 'subsample': 0.9, 'colsample_bytree': 0.9}. Best is trial 15 with value: 0.7366344599249913.\n",
      "[I 2025-02-26 07:02:24,526] Trial 19 finished with value: 0.7361651282926011 and parameters: {'objective': 'binary', 'metric': 'auc', 'verbose': -1, 'random_state': 42, 'learning_rate': 0.011392425903932335, 'n_estimators': 1379, 'min_child_samples': 30, 'subsample': 1.0, 'colsample_bytree': 1.0}. Best is trial 15 with value: 0.7366344599249913.\n",
      "[I 2025-02-26 07:02:38,322] Trial 20 finished with value: 0.7355209335980685 and parameters: {'objective': 'binary', 'metric': 'auc', 'verbose': -1, 'random_state': 42, 'learning_rate': 0.007135718366742831, 'n_estimators': 2921, 'min_child_samples': 20, 'subsample': 0.8, 'colsample_bytree': 0.9}. Best is trial 15 with value: 0.7366344599249913.\n",
      "[I 2025-02-26 07:02:44,874] Trial 21 finished with value: 0.7367365282714977 and parameters: {'objective': 'binary', 'metric': 'auc', 'verbose': -1, 'random_state': 42, 'learning_rate': 0.006982526007634058, 'n_estimators': 1047, 'min_child_samples': 45, 'subsample': 1.0, 'colsample_bytree': 1.0}. Best is trial 21 with value: 0.7367365282714977.\n",
      "[I 2025-02-26 07:02:49,752] Trial 22 finished with value: 0.7364554092397575 and parameters: {'objective': 'binary', 'metric': 'auc', 'verbose': -1, 'random_state': 42, 'learning_rate': 0.010706988634822414, 'n_estimators': 809, 'min_child_samples': 45, 'subsample': 1.0, 'colsample_bytree': 1.0}. Best is trial 21 with value: 0.7367365282714977.\n",
      "[I 2025-02-26 07:02:56,609] Trial 23 finished with value: 0.7365791030440308 and parameters: {'objective': 'binary', 'metric': 'auc', 'verbose': -1, 'random_state': 42, 'learning_rate': 0.006721828531995291, 'n_estimators': 1153, 'min_child_samples': 45, 'subsample': 0.9, 'colsample_bytree': 1.0}. Best is trial 21 with value: 0.7367365282714977.\n",
      "[I 2025-02-26 07:02:59,568] Trial 24 finished with value: 0.7343131380746661 and parameters: {'objective': 'binary', 'metric': 'auc', 'verbose': -1, 'random_state': 42, 'learning_rate': 0.0068603754592139465, 'n_estimators': 396, 'min_child_samples': 45, 'subsample': 0.9, 'colsample_bytree': 0.9}. Best is trial 21 with value: 0.7367365282714977.\n",
      "[I 2025-02-26 07:03:06,695] Trial 25 finished with value: 0.7365142346168838 and parameters: {'objective': 'binary', 'metric': 'auc', 'verbose': -1, 'random_state': 42, 'learning_rate': 0.006895146220377492, 'n_estimators': 1231, 'min_child_samples': 35, 'subsample': 0.9, 'colsample_bytree': 1.0}. Best is trial 21 with value: 0.7367365282714977.\n",
      "[I 2025-02-26 07:03:14,111] Trial 26 finished with value: 0.735840690803019 and parameters: {'objective': 'binary', 'metric': 'auc', 'verbose': -1, 'random_state': 42, 'learning_rate': 0.012974823173871922, 'n_estimators': 1531, 'min_child_samples': 45, 'subsample': 1.0, 'colsample_bytree': 0.9}. Best is trial 21 with value: 0.7367365282714977.\n",
      "[I 2025-02-26 07:03:18,162] Trial 27 finished with value: 0.7347661840646924 and parameters: {'objective': 'binary', 'metric': 'auc', 'verbose': -1, 'random_state': 42, 'learning_rate': 0.03556437124256014, 'n_estimators': 818, 'min_child_samples': 45, 'subsample': 0.9, 'colsample_bytree': 0.8}. Best is trial 21 with value: 0.7367365282714977.\n",
      "[I 2025-02-26 07:03:27,486] Trial 28 finished with value: 0.7359600499803544 and parameters: {'objective': 'binary', 'metric': 'auc', 'verbose': -1, 'random_state': 42, 'learning_rate': 0.009731595040159111, 'n_estimators': 1949, 'min_child_samples': 35, 'subsample': 0.8, 'colsample_bytree': 1.0}. Best is trial 21 with value: 0.7367365282714977.\n",
      "[I 2025-02-26 07:03:32,808] Trial 29 finished with value: 0.7350490194656693 and parameters: {'objective': 'binary', 'metric': 'auc', 'verbose': -1, 'random_state': 42, 'learning_rate': 0.022382421900695636, 'n_estimators': 1103, 'min_child_samples': 40, 'subsample': 0.9, 'colsample_bytree': 0.9}. Best is trial 21 with value: 0.7367365282714977.\n",
      "[I 2025-02-26 07:03:37,172] Trial 30 finished with value: 0.7357954493759397 and parameters: {'objective': 'binary', 'metric': 'auc', 'verbose': -1, 'random_state': 42, 'learning_rate': 0.006328184923121407, 'n_estimators': 634, 'min_child_samples': 45, 'subsample': 1.0, 'colsample_bytree': 1.0}. Best is trial 21 with value: 0.7367365282714977.\n",
      "[I 2025-02-26 07:03:43,309] Trial 31 finished with value: 0.7366611232443142 and parameters: {'objective': 'binary', 'metric': 'auc', 'verbose': -1, 'random_state': 42, 'learning_rate': 0.007731057201945562, 'n_estimators': 1030, 'min_child_samples': 40, 'subsample': 1.0, 'colsample_bytree': 1.0}. Best is trial 21 with value: 0.7367365282714977.\n",
      "[I 2025-02-26 07:03:49,224] Trial 32 finished with value: 0.7365703384363084 and parameters: {'objective': 'binary', 'metric': 'auc', 'verbose': -1, 'random_state': 42, 'learning_rate': 0.007908510767962172, 'n_estimators': 986, 'min_child_samples': 40, 'subsample': 1.0, 'colsample_bytree': 1.0}. Best is trial 21 with value: 0.7367365282714977.\n",
      "[I 2025-02-26 07:03:52,393] Trial 33 finished with value: 0.7341194863316897 and parameters: {'objective': 'binary', 'metric': 'auc', 'verbose': -1, 'random_state': 42, 'learning_rate': 0.005782806814458764, 'n_estimators': 429, 'min_child_samples': 35, 'subsample': 0.9, 'colsample_bytree': 1.0}. Best is trial 21 with value: 0.7367365282714977.\n",
      "[I 2025-02-26 07:04:00,733] Trial 34 finished with value: 0.7362467035082675 and parameters: {'objective': 'binary', 'metric': 'auc', 'verbose': -1, 'random_state': 42, 'learning_rate': 0.007409417298285313, 'n_estimators': 1543, 'min_child_samples': 50, 'subsample': 1.0, 'colsample_bytree': 0.9}. Best is trial 21 with value: 0.7367365282714977.\n",
      "[I 2025-02-26 07:04:07,135] Trial 35 finished with value: 0.7362046047850451 and parameters: {'objective': 'binary', 'metric': 'auc', 'verbose': -1, 'random_state': 42, 'learning_rate': 0.013220567762410446, 'n_estimators': 1260, 'min_child_samples': 45, 'subsample': 0.9, 'colsample_bytree': 1.0}. Best is trial 21 with value: 0.7367365282714977.\n",
      "[I 2025-02-26 07:04:12,376] Trial 36 finished with value: 0.736258237350615 and parameters: {'objective': 'binary', 'metric': 'auc', 'verbose': -1, 'random_state': 42, 'learning_rate': 0.00622357203021226, 'n_estimators': 783, 'min_child_samples': 40, 'subsample': 1.0, 'colsample_bytree': 0.9}. Best is trial 21 with value: 0.7367365282714977.\n",
      "[I 2025-02-26 07:04:15,527] Trial 37 finished with value: 0.7371531530652443 and parameters: {'objective': 'binary', 'metric': 'auc', 'verbose': -1, 'random_state': 42, 'learning_rate': 0.017281848866327283, 'n_estimators': 444, 'min_child_samples': 35, 'subsample': 1.0, 'colsample_bytree': 0.6}. Best is trial 37 with value: 0.7371531530652443.\n",
      "[I 2025-02-26 07:04:17,021] Trial 38 finished with value: 0.7341006579200862 and parameters: {'objective': 'binary', 'metric': 'auc', 'verbose': -1, 'random_state': 42, 'learning_rate': 0.017122502342924794, 'n_estimators': 144, 'min_child_samples': 35, 'subsample': 1.0, 'colsample_bytree': 0.6}. Best is trial 37 with value: 0.7371531530652443.\n",
      "[I 2025-02-26 07:04:20,612] Trial 39 finished with value: 0.7368915021104945 and parameters: {'objective': 'binary', 'metric': 'auc', 'verbose': -1, 'random_state': 42, 'learning_rate': 0.02117684092670548, 'n_estimators': 520, 'min_child_samples': 25, 'subsample': 0.5, 'colsample_bytree': 0.5}. Best is trial 37 with value: 0.7371531530652443.\n",
      "[I 2025-02-26 07:04:23,471] Trial 40 finished with value: 0.736869089983494 and parameters: {'objective': 'binary', 'metric': 'auc', 'verbose': -1, 'random_state': 42, 'learning_rate': 0.026838676930327734, 'n_estimators': 387, 'min_child_samples': 25, 'subsample': 0.5, 'colsample_bytree': 0.5}. Best is trial 37 with value: 0.7371531530652443.\n",
      "[I 2025-02-26 07:04:26,263] Trial 41 finished with value: 0.7368539763988264 and parameters: {'objective': 'binary', 'metric': 'auc', 'verbose': -1, 'random_state': 42, 'learning_rate': 0.02811016068473553, 'n_estimators': 371, 'min_child_samples': 25, 'subsample': 0.5, 'colsample_bytree': 0.5}. Best is trial 37 with value: 0.7371531530652443.\n",
      "[I 2025-02-26 07:04:28,714] Trial 42 finished with value: 0.7369269459298476 and parameters: {'objective': 'binary', 'metric': 'auc', 'verbose': -1, 'random_state': 42, 'learning_rate': 0.028925573684847796, 'n_estimators': 313, 'min_child_samples': 25, 'subsample': 0.5, 'colsample_bytree': 0.5}. Best is trial 37 with value: 0.7371531530652443.\n",
      "[I 2025-02-26 07:04:31,201] Trial 43 finished with value: 0.7370428922340942 and parameters: {'objective': 'binary', 'metric': 'auc', 'verbose': -1, 'random_state': 42, 'learning_rate': 0.030522460523842405, 'n_estimators': 325, 'min_child_samples': 25, 'subsample': 0.5, 'colsample_bytree': 0.5}. Best is trial 37 with value: 0.7371531530652443.\n",
      "[I 2025-02-26 07:04:33,241] Trial 44 finished with value: 0.7367367666561139 and parameters: {'objective': 'binary', 'metric': 'auc', 'verbose': -1, 'random_state': 42, 'learning_rate': 0.04393439628053642, 'n_estimators': 245, 'min_child_samples': 25, 'subsample': 0.5, 'colsample_bytree': 0.5}. Best is trial 37 with value: 0.7371531530652443.\n",
      "[I 2025-02-26 07:04:36,547] Trial 45 finished with value: 0.7368011185832593 and parameters: {'objective': 'binary', 'metric': 'auc', 'verbose': -1, 'random_state': 42, 'learning_rate': 0.02833844021650184, 'n_estimators': 480, 'min_child_samples': 20, 'subsample': 0.5, 'colsample_bytree': 0.5}. Best is trial 37 with value: 0.7371531530652443.\n",
      "[I 2025-02-26 07:04:38,888] Trial 46 finished with value: 0.7366104387018314 and parameters: {'objective': 'binary', 'metric': 'auc', 'verbose': -1, 'random_state': 42, 'learning_rate': 0.021133889019969505, 'n_estimators': 296, 'min_child_samples': 20, 'subsample': 0.6, 'colsample_bytree': 0.6}. Best is trial 37 with value: 0.7371531530652443.\n",
      "[I 2025-02-26 07:04:42,252] Trial 47 finished with value: 0.7353381005435908 and parameters: {'objective': 'binary', 'metric': 'auc', 'verbose': -1, 'random_state': 42, 'learning_rate': 0.05190087435905122, 'n_estimators': 539, 'min_child_samples': 15, 'subsample': 0.6, 'colsample_bytree': 0.5}. Best is trial 37 with value: 0.7371531530652443.\n",
      "[I 2025-02-26 07:04:43,703] Trial 48 finished with value: 0.7358093630913723 and parameters: {'objective': 'binary', 'metric': 'auc', 'verbose': -1, 'random_state': 42, 'learning_rate': 0.029085243802353968, 'n_estimators': 140, 'min_child_samples': 25, 'subsample': 0.5, 'colsample_bytree': 0.6}. Best is trial 37 with value: 0.7371531530652443.\n",
      "[I 2025-02-26 07:04:47,619] Trial 49 finished with value: 0.7369981355224012 and parameters: {'objective': 'binary', 'metric': 'auc', 'verbose': -1, 'random_state': 42, 'learning_rate': 0.025192073193040905, 'n_estimators': 599, 'min_child_samples': 30, 'subsample': 0.6, 'colsample_bytree': 0.5}. Best is trial 37 with value: 0.7371531530652443.\n",
      "[I 2025-02-26 07:04:50,908] Trial 50 finished with value: 0.7360922302769647 and parameters: {'objective': 'binary', 'metric': 'auc', 'verbose': -1, 'random_state': 42, 'learning_rate': 0.03299909670780132, 'n_estimators': 612, 'min_child_samples': 30, 'subsample': 0.6, 'colsample_bytree': 0.7}. Best is trial 37 with value: 0.7371531530652443.\n",
      "[I 2025-02-26 07:04:53,127] Trial 51 finished with value: 0.7366483418558085 and parameters: {'objective': 'binary', 'metric': 'auc', 'verbose': -1, 'random_state': 42, 'learning_rate': 0.025260860446624858, 'n_estimators': 268, 'min_child_samples': 25, 'subsample': 0.5, 'colsample_bytree': 0.5}. Best is trial 37 with value: 0.7371531530652443.\n",
      "[I 2025-02-26 07:04:56,945] Trial 52 finished with value: 0.737091824649648 and parameters: {'objective': 'binary', 'metric': 'auc', 'verbose': -1, 'random_state': 42, 'learning_rate': 0.018534850376938486, 'n_estimators': 547, 'min_child_samples': 30, 'subsample': 0.5, 'colsample_bytree': 0.5}. Best is trial 37 with value: 0.7371531530652443.\n",
      "[I 2025-02-26 07:05:01,127] Trial 53 finished with value: 0.7366715207866578 and parameters: {'objective': 'binary', 'metric': 'auc', 'verbose': -1, 'random_state': 42, 'learning_rate': 0.01887999030529243, 'n_estimators': 689, 'min_child_samples': 30, 'subsample': 0.6, 'colsample_bytree': 0.6}. Best is trial 37 with value: 0.7371531530652443.\n",
      "[I 2025-02-26 07:05:04,886] Trial 54 finished with value: 0.7368865437104773 and parameters: {'objective': 'binary', 'metric': 'auc', 'verbose': -1, 'random_state': 42, 'learning_rate': 0.014955880574488985, 'n_estimators': 515, 'min_child_samples': 30, 'subsample': 0.5, 'colsample_bytree': 0.5}. Best is trial 37 with value: 0.7371531530652443.\n",
      "[I 2025-02-26 07:05:06,122] Trial 55 finished with value: 0.7323519239986617 and parameters: {'objective': 'binary', 'metric': 'auc', 'verbose': -1, 'random_state': 42, 'learning_rate': 0.019781994232500467, 'n_estimators': 104, 'min_child_samples': 30, 'subsample': 0.7, 'colsample_bytree': 0.5}. Best is trial 37 with value: 0.7371531530652443.\n",
      "[I 2025-02-26 07:05:10,988] Trial 56 finished with value: 0.7363454225509161 and parameters: {'objective': 'binary', 'metric': 'auc', 'verbose': -1, 'random_state': 42, 'learning_rate': 0.02365287923943119, 'n_estimators': 910, 'min_child_samples': 15, 'subsample': 0.5, 'colsample_bytree': 0.6}. Best is trial 37 with value: 0.7371531530652443.\n",
      "[I 2025-02-26 07:05:13,068] Trial 57 finished with value: 0.7371202083112844 and parameters: {'objective': 'binary', 'metric': 'auc', 'verbose': -1, 'random_state': 42, 'learning_rate': 0.04119638589011596, 'n_estimators': 258, 'min_child_samples': 25, 'subsample': 0.6, 'colsample_bytree': 0.5}. Best is trial 37 with value: 0.7371531530652443.\n",
      "[I 2025-02-26 07:05:15,239] Trial 58 finished with value: 0.7369072474143951 and parameters: {'objective': 'binary', 'metric': 'auc', 'verbose': -1, 'random_state': 42, 'learning_rate': 0.042006180049137205, 'n_estimators': 305, 'min_child_samples': 30, 'subsample': 0.6, 'colsample_bytree': 0.6}. Best is trial 37 with value: 0.7371531530652443.\n",
      "[I 2025-02-26 07:05:19,307] Trial 59 finished with value: 0.732743041638474 and parameters: {'objective': 'binary', 'metric': 'auc', 'verbose': -1, 'random_state': 42, 'learning_rate': 0.06584662068558646, 'n_estimators': 723, 'min_child_samples': 20, 'subsample': 0.7, 'colsample_bytree': 0.5}. Best is trial 37 with value: 0.7371531530652443.\n"
     ]
    },
    {
     "name": "stdout",
     "output_type": "stream",
     "text": [
      "Cat val score : 0.7379263138371455\n",
      "LGBM val score : 0.7371531530652443\n",
      "Ensemble val score : 0.7379660843372828\n"
     ]
    },
    {
     "name": "stderr",
     "output_type": "stream",
     "text": [
      "[I 2025-02-26 07:05:22,847] A new study created in memory with name: no-name-5eb5c028-071a-478e-bad5-2f5925001ed1\n"
     ]
    },
    {
     "name": "stdout",
     "output_type": "stream",
     "text": [
      "==================================================\n"
     ]
    },
    {
     "name": "stderr",
     "output_type": "stream",
     "text": [
      "Default metric period is 5 because AUC is/are not implemented for GPU\n",
      "[I 2025-02-26 07:07:00,627] Trial 0 finished with value: 0.7427507042884827 and parameters: {'iterations': 2154, 'depth': 10, 'learning_rate': 0.01181021951839225, 'l2_leaf_reg': 9.980783802743254}. Best is trial 0 with value: 0.7427507042884827.\n"
     ]
    },
    {
     "name": "stdout",
     "output_type": "stream",
     "text": [
      "저장 완료\n"
     ]
    },
    {
     "name": "stderr",
     "output_type": "stream",
     "text": [
      "Default metric period is 5 because AUC is/are not implemented for GPU\n",
      "[I 2025-02-26 07:07:25,448] Trial 1 finished with value: 0.7400147616863251 and parameters: {'iterations': 1925, 'depth': 4, 'learning_rate': 0.005671430811678843, 'l2_leaf_reg': 0.00012325230809466137}. Best is trial 0 with value: 0.7427507042884827.\n",
      "Default metric period is 5 because AUC is/are not implemented for GPU\n",
      "[I 2025-02-26 07:07:38,198] Trial 2 finished with value: 0.7422509789466858 and parameters: {'iterations': 2380, 'depth': 4, 'learning_rate': 0.09275339199839054, 'l2_leaf_reg': 0.0008705394248343123}. Best is trial 0 with value: 0.7427507042884827.\n",
      "Default metric period is 5 because AUC is/are not implemented for GPU\n",
      "[I 2025-02-26 07:07:54,416] Trial 3 finished with value: 0.7416426539421082 and parameters: {'iterations': 2112, 'depth': 4, 'learning_rate': 0.04657568321363276, 'l2_leaf_reg': 0.0008640473331457248}. Best is trial 0 with value: 0.7427507042884827.\n",
      "Default metric period is 5 because AUC is/are not implemented for GPU\n",
      "[I 2025-02-26 07:08:58,661] Trial 4 finished with value: 0.741069495677948 and parameters: {'iterations': 1323, 'depth': 10, 'learning_rate': 0.012622767482095846, 'l2_leaf_reg': 0.00021158816350109617}. Best is trial 0 with value: 0.7427507042884827.\n",
      "Default metric period is 5 because AUC is/are not implemented for GPU\n",
      "[I 2025-02-26 07:09:12,029] Trial 5 finished with value: 0.7414500713348389 and parameters: {'iterations': 1776, 'depth': 4, 'learning_rate': 0.06995196593094148, 'l2_leaf_reg': 0.0018080296485396804}. Best is trial 0 with value: 0.7427507042884827.\n",
      "Default metric period is 5 because AUC is/are not implemented for GPU\n",
      "[I 2025-02-26 07:09:26,545] Trial 6 finished with value: 0.7422266006469727 and parameters: {'iterations': 1663, 'depth': 5, 'learning_rate': 0.07985155992831598, 'l2_leaf_reg': 62.52181000710482}. Best is trial 0 with value: 0.7427507042884827.\n",
      "Default metric period is 5 because AUC is/are not implemented for GPU\n",
      "[I 2025-02-26 07:09:38,867] Trial 7 finished with value: 0.7419936954975128 and parameters: {'iterations': 1570, 'depth': 7, 'learning_rate': 0.0941937211034094, 'l2_leaf_reg': 0.05654822767791934}. Best is trial 0 with value: 0.7427507042884827.\n",
      "Default metric period is 5 because AUC is/are not implemented for GPU\n",
      "[I 2025-02-26 07:09:56,523] Trial 8 finished with value: 0.7423661053180695 and parameters: {'iterations': 1539, 'depth': 7, 'learning_rate': 0.05155602859187331, 'l2_leaf_reg': 1.299974533316308}. Best is trial 0 with value: 0.7427507042884827.\n",
      "Default metric period is 5 because AUC is/are not implemented for GPU\n",
      "[I 2025-02-26 07:10:18,141] Trial 9 finished with value: 0.7422839403152466 and parameters: {'iterations': 2519, 'depth': 6, 'learning_rate': 0.03968704290444751, 'l2_leaf_reg': 0.30557194377967184}. Best is trial 0 with value: 0.7427507042884827.\n",
      "Default metric period is 5 because AUC is/are not implemented for GPU\n",
      "[I 2025-02-26 07:11:19,880] Trial 10 finished with value: 0.7425758838653564 and parameters: {'iterations': 2927, 'depth': 10, 'learning_rate': 0.025911330134996406, 'l2_leaf_reg': 97.18545559492455}. Best is trial 0 with value: 0.7427507042884827.\n",
      "Default metric period is 5 because AUC is/are not implemented for GPU\n",
      "[I 2025-02-26 07:12:17,675] Trial 11 finished with value: 0.7424992918968201 and parameters: {'iterations': 2993, 'depth': 10, 'learning_rate': 0.026163874004606635, 'l2_leaf_reg': 73.12133513928165}. Best is trial 0 with value: 0.7427507042884827.\n",
      "Default metric period is 5 because AUC is/are not implemented for GPU\n",
      "[I 2025-02-26 07:12:58,216] Trial 12 finished with value: 0.7419935464859009 and parameters: {'iterations': 2778, 'depth': 9, 'learning_rate': 0.02599223527222509, 'l2_leaf_reg': 4.031595942972523}. Best is trial 0 with value: 0.7427507042884827.\n",
      "Default metric period is 5 because AUC is/are not implemented for GPU\n",
      "[I 2025-02-26 07:13:44,139] Trial 13 finished with value: 0.7425875961780548 and parameters: {'iterations': 2252, 'depth': 9, 'learning_rate': 0.022316119918197153, 'l2_leaf_reg': 10.229612344837264}. Best is trial 0 with value: 0.7427507042884827.\n",
      "Default metric period is 5 because AUC is/are not implemented for GPU\n",
      "[I 2025-02-26 07:14:31,414] Trial 14 finished with value: 0.742483913898468 and parameters: {'iterations': 2160, 'depth': 8, 'learning_rate': 0.017758727932018253, 'l2_leaf_reg': 5.108626929126313}. Best is trial 0 with value: 0.7427507042884827.\n",
      "Default metric period is 5 because AUC is/are not implemented for GPU\n",
      "[I 2025-02-26 07:14:58,969] Trial 15 finished with value: 0.7414052188396454 and parameters: {'iterations': 1017, 'depth': 9, 'learning_rate': 0.036326865698647015, 'l2_leaf_reg': 0.028369951060622425}. Best is trial 0 with value: 0.7427507042884827.\n",
      "Default metric period is 5 because AUC is/are not implemented for GPU\n",
      "[I 2025-02-26 07:15:20,947] Trial 16 finished with value: 0.7421015202999115 and parameters: {'iterations': 2462, 'depth': 9, 'learning_rate': 0.06522242113054028, 'l2_leaf_reg': 4.362107830119575}. Best is trial 0 with value: 0.7427507042884827.\n",
      "Default metric period is 5 because AUC is/are not implemented for GPU\n",
      "[I 2025-02-26 07:16:35,377] Trial 17 finished with value: 0.7422303557395935 and parameters: {'iterations': 2269, 'depth': 8, 'learning_rate': 0.005523304611431277, 'l2_leaf_reg': 0.3285101342399454}. Best is trial 0 with value: 0.7427507042884827.\n",
      "Default metric period is 5 because AUC is/are not implemented for GPU\n",
      "[I 2025-02-26 07:17:00,666] Trial 18 finished with value: 0.7421199083328247 and parameters: {'iterations': 2593, 'depth': 8, 'learning_rate': 0.03502011586957375, 'l2_leaf_reg': 13.010060937715258}. Best is trial 0 with value: 0.7427507042884827.\n",
      "Default metric period is 5 because AUC is/are not implemented for GPU\n",
      "[I 2025-02-26 07:17:50,022] Trial 19 finished with value: 0.7413604557514191 and parameters: {'iterations': 1918, 'depth': 9, 'learning_rate': 0.017707691364119434, 'l2_leaf_reg': 0.01183860899423476}. Best is trial 0 with value: 0.7427507042884827.\n",
      "Default metric period is 5 because AUC is/are not implemented for GPU\n",
      "[I 2025-02-26 07:18:21,102] Trial 20 finished with value: 0.7416360080242157 and parameters: {'iterations': 2631, 'depth': 10, 'learning_rate': 0.0643358770176726, 'l2_leaf_reg': 0.6256872063919952}. Best is trial 0 with value: 0.7427507042884827.\n",
      "Default metric period is 5 because AUC is/are not implemented for GPU\n",
      "[I 2025-02-26 07:19:16,215] Trial 21 finished with value: 0.7424448728561401 and parameters: {'iterations': 2968, 'depth': 10, 'learning_rate': 0.027512609029123204, 'l2_leaf_reg': 20.70442940062652}. Best is trial 0 with value: 0.7427507042884827.\n",
      "Default metric period is 5 because AUC is/are not implemented for GPU\n",
      "[I 2025-02-26 07:20:26,273] Trial 22 finished with value: 0.7424043118953705 and parameters: {'iterations': 2727, 'depth': 10, 'learning_rate': 0.01802575024659001, 'l2_leaf_reg': 25.03453806107937}. Best is trial 0 with value: 0.7427507042884827.\n",
      "Default metric period is 5 because AUC is/are not implemented for GPU\n",
      "[I 2025-02-26 07:21:07,941] Trial 23 finished with value: 0.7426358461380005 and parameters: {'iterations': 2105, 'depth': 9, 'learning_rate': 0.028736265630500236, 'l2_leaf_reg': 89.42219921015194}. Best is trial 0 with value: 0.7427507042884827.\n",
      "Default metric period is 5 because AUC is/are not implemented for GPU\n",
      "[I 2025-02-26 07:21:36,004] Trial 24 finished with value: 0.7415702044963837 and parameters: {'iterations': 2062, 'depth': 9, 'learning_rate': 0.04369611562336986, 'l2_leaf_reg': 1.6951625535386994}. Best is trial 0 with value: 0.7427507042884827.\n",
      "Default metric period is 5 because AUC is/are not implemented for GPU\n",
      "[I 2025-02-26 07:22:50,713] Trial 25 finished with value: 0.7426266372203827 and parameters: {'iterations': 2276, 'depth': 8, 'learning_rate': 0.011451847551398544, 'l2_leaf_reg': 9.997350176658875}. Best is trial 0 with value: 0.7427507042884827.\n",
      "Default metric period is 5 because AUC is/are not implemented for GPU\n",
      "[I 2025-02-26 07:23:48,447] Trial 26 finished with value: 0.7426443994045258 and parameters: {'iterations': 2321, 'depth': 7, 'learning_rate': 0.012807550995961717, 'l2_leaf_reg': 45.92734552929956}. Best is trial 0 with value: 0.7427507042884827.\n",
      "Default metric period is 5 because AUC is/are not implemented for GPU\n",
      "[I 2025-02-26 07:24:10,622] Trial 27 finished with value: 0.7426084578037262 and parameters: {'iterations': 1845, 'depth': 7, 'learning_rate': 0.0336395874961747, 'l2_leaf_reg': 35.3235456756648}. Best is trial 0 with value: 0.7427507042884827.\n",
      "Default metric period is 5 because AUC is/are not implemented for GPU\n",
      "[I 2025-02-26 07:24:56,998] Trial 28 finished with value: 0.7423862218856812 and parameters: {'iterations': 2378, 'depth': 6, 'learning_rate': 0.011438620377296344, 'l2_leaf_reg': 35.589652313523665}. Best is trial 0 with value: 0.7427507042884827.\n",
      "Default metric period is 5 because AUC is/are not implemented for GPU\n",
      "[I 2025-02-26 07:25:33,944] Trial 29 finished with value: 0.7419544160366058 and parameters: {'iterations': 1886, 'depth': 6, 'learning_rate': 0.00893579189720932, 'l2_leaf_reg': 2.2790416668259303}. Best is trial 0 with value: 0.7427507042884827.\n",
      "Default metric period is 5 because AUC is/are not implemented for GPU\n",
      "[I 2025-02-26 07:26:26,138] Trial 30 finished with value: 0.7418022751808167 and parameters: {'iterations': 2078, 'depth': 7, 'learning_rate': 0.005516846271520889, 'l2_leaf_reg': 88.04533262851784}. Best is trial 0 with value: 0.7427507042884827.\n",
      "Default metric period is 5 because AUC is/are not implemented for GPU\n",
      "[I 2025-02-26 07:27:22,357] Trial 31 finished with value: 0.7424694001674652 and parameters: {'iterations': 2236, 'depth': 8, 'learning_rate': 0.014464437813262383, 'l2_leaf_reg': 11.816803084710646}. Best is trial 0 with value: 0.7427507042884827.\n",
      "Default metric period is 5 because AUC is/are not implemented for GPU\n",
      "[I 2025-02-26 07:27:56,310] Trial 32 finished with value: 0.7423394322395325 and parameters: {'iterations': 2359, 'depth': 8, 'learning_rate': 0.02053769423580474, 'l2_leaf_reg': 7.163757087851412}. Best is trial 0 with value: 0.7427507042884827.\n",
      "Default metric period is 5 because AUC is/are not implemented for GPU\n",
      "[I 2025-02-26 07:28:28,448] Trial 33 finished with value: 0.7424949407577515 and parameters: {'iterations': 2034, 'depth': 8, 'learning_rate': 0.031049475849877235, 'l2_leaf_reg': 30.00719257439178}. Best is trial 0 with value: 0.7427507042884827.\n",
      "Default metric period is 5 because AUC is/are not implemented for GPU\n",
      "[I 2025-02-26 07:29:22,135] Trial 34 finished with value: 0.7424764037132263 and parameters: {'iterations': 2183, 'depth': 7, 'learning_rate': 0.011634469645246484, 'l2_leaf_reg': 1.018158213790196}. Best is trial 0 with value: 0.7427507042884827.\n",
      "Default metric period is 5 because AUC is/are not implemented for GPU\n",
      "[I 2025-02-26 07:30:28,204] Trial 35 finished with value: 0.7427254915237427 and parameters: {'iterations': 2434, 'depth': 9, 'learning_rate': 0.015334912413921663, 'l2_leaf_reg': 16.018720582622645}. Best is trial 0 with value: 0.7427507042884827.\n",
      "Default metric period is 5 because AUC is/are not implemented for GPU\n",
      "[I 2025-02-26 07:31:14,723] Trial 36 finished with value: 0.7427701056003571 and parameters: {'iterations': 2466, 'depth': 9, 'learning_rate': 0.02244572234577773, 'l2_leaf_reg': 44.1650777694895}. Best is trial 36 with value: 0.7427701056003571.\n"
     ]
    },
    {
     "name": "stdout",
     "output_type": "stream",
     "text": [
      "저장 완료\n"
     ]
    },
    {
     "name": "stderr",
     "output_type": "stream",
     "text": [
      "Default metric period is 5 because AUC is/are not implemented for GPU\n",
      "[I 2025-02-26 07:31:25,285] Trial 37 finished with value: 0.7415910065174103 and parameters: {'iterations': 2465, 'depth': 5, 'learning_rate': 0.0875094905019923, 'l2_leaf_reg': 0.00011207505346582832}. Best is trial 36 with value: 0.7427701056003571.\n",
      "Default metric period is 5 because AUC is/are not implemented for GPU\n",
      "[I 2025-02-26 07:32:15,421] Trial 38 finished with value: 0.7404433786869049 and parameters: {'iterations': 2745, 'depth': 10, 'learning_rate': 0.021850310370662054, 'l2_leaf_reg': 0.007732432465843709}. Best is trial 36 with value: 0.7427701056003571.\n",
      "Default metric period is 5 because AUC is/are not implemented for GPU\n",
      "[I 2025-02-26 07:32:42,078] Trial 39 finished with value: 0.7413144409656525 and parameters: {'iterations': 2623, 'depth': 9, 'learning_rate': 0.05056543960989726, 'l2_leaf_reg': 0.13100013910549854}. Best is trial 36 with value: 0.7427701056003571.\n",
      "Default metric period is 5 because AUC is/are not implemented for GPU\n",
      "[I 2025-02-26 07:32:57,674] Trial 40 finished with value: 0.7420284152030945 and parameters: {'iterations': 2383, 'depth': 5, 'learning_rate': 0.05901868785255104, 'l2_leaf_reg': 3.2615662537845798}. Best is trial 36 with value: 0.7427701056003571.\n",
      "Default metric period is 5 because AUC is/are not implemented for GPU\n",
      "[I 2025-02-26 07:33:59,176] Trial 41 finished with value: 0.7426623106002808 and parameters: {'iterations': 1980, 'depth': 9, 'learning_rate': 0.016536274814068788, 'l2_leaf_reg': 50.18200165437283}. Best is trial 36 with value: 0.7427701056003571.\n",
      "Default metric period is 5 because AUC is/are not implemented for GPU\n",
      "[I 2025-02-26 07:35:20,411] Trial 42 finished with value: 0.7425805330276489 and parameters: {'iterations': 1967, 'depth': 10, 'learning_rate': 0.014994709593983031, 'l2_leaf_reg': 50.869372891788515}. Best is trial 36 with value: 0.7427701056003571.\n",
      "Default metric period is 5 because AUC is/are not implemented for GPU\n",
      "[I 2025-02-26 07:36:41,143] Trial 43 finished with value: 0.7426809668540955 and parameters: {'iterations': 1734, 'depth': 9, 'learning_rate': 0.009588795248849492, 'l2_leaf_reg': 20.632760634953225}. Best is trial 36 with value: 0.7427701056003571.\n",
      "Default metric period is 5 because AUC is/are not implemented for GPU\n",
      "[I 2025-02-26 07:37:58,431] Trial 44 finished with value: 0.7425251007080078 and parameters: {'iterations': 1665, 'depth': 9, 'learning_rate': 0.00812037329172077, 'l2_leaf_reg': 17.735533983396994}. Best is trial 36 with value: 0.7427701056003571.\n",
      "Default metric period is 5 because AUC is/are not implemented for GPU\n",
      "[I 2025-02-26 07:38:54,926] Trial 45 finished with value: 0.7419949471950531 and parameters: {'iterations': 1399, 'depth': 10, 'learning_rate': 0.023233924360160363, 'l2_leaf_reg': 6.821776420908743}. Best is trial 36 with value: 0.7427701056003571.\n",
      "Default metric period is 5 because AUC is/are not implemented for GPU\n",
      "[I 2025-02-26 07:39:29,120] Trial 46 finished with value: 0.7423051595687866 and parameters: {'iterations': 1750, 'depth': 9, 'learning_rate': 0.040985001888971195, 'l2_leaf_reg': 17.819460635557228}. Best is trial 36 with value: 0.7427701056003571.\n",
      "Default metric period is 5 because AUC is/are not implemented for GPU\n",
      "[I 2025-02-26 07:40:08,125] Trial 47 finished with value: 0.7408779561519623 and parameters: {'iterations': 1765, 'depth': 9, 'learning_rate': 0.016776326824289745, 'l2_leaf_reg': 0.0005128211254689566}. Best is trial 36 with value: 0.7427701056003571.\n",
      "Default metric period is 5 because AUC is/are not implemented for GPU\n",
      "[I 2025-02-26 07:41:51,233] Trial 48 finished with value: 0.7423663139343262 and parameters: {'iterations': 1449, 'depth': 10, 'learning_rate': 0.007971933985125832, 'l2_leaf_reg': 2.585729501591189}. Best is trial 36 with value: 0.7427701056003571.\n",
      "Default metric period is 5 because AUC is/are not implemented for GPU\n",
      "[I 2025-02-26 07:42:39,737] Trial 49 finished with value: 0.7427600920200348 and parameters: {'iterations': 1186, 'depth': 9, 'learning_rate': 0.02298077463149509, 'l2_leaf_reg': 51.08004792819586}. Best is trial 36 with value: 0.7427701056003571.\n",
      "Default metric period is 5 because AUC is/are not implemented for GPU\n",
      "[I 2025-02-26 07:42:58,015] Trial 50 finished with value: 0.7421367168426514 and parameters: {'iterations': 1230, 'depth': 8, 'learning_rate': 0.07846766194611907, 'l2_leaf_reg': 0.6662346413870072}. Best is trial 36 with value: 0.7427701056003571.\n",
      "Default metric period is 5 because AUC is/are not implemented for GPU\n",
      "[I 2025-02-26 07:43:49,735] Trial 51 finished with value: 0.7426396608352661 and parameters: {'iterations': 1092, 'depth': 9, 'learning_rate': 0.020446803305558335, 'l2_leaf_reg': 52.16978799254292}. Best is trial 36 with value: 0.7427701056003571.\n",
      "Default metric period is 5 because AUC is/are not implemented for GPU\n",
      "[I 2025-02-26 07:44:35,809] Trial 52 finished with value: 0.7427588999271393 and parameters: {'iterations': 1617, 'depth': 9, 'learning_rate': 0.024077176347802633, 'l2_leaf_reg': 20.943181016808378}. Best is trial 36 with value: 0.7427701056003571.\n",
      "Default metric period is 5 because AUC is/are not implemented for GPU\n",
      "[I 2025-02-26 07:45:09,761] Trial 53 finished with value: 0.7420212626457214 and parameters: {'iterations': 1568, 'depth': 9, 'learning_rate': 0.029628963074496712, 'l2_leaf_reg': 7.778749948196118}. Best is trial 36 with value: 0.7427701056003571.\n",
      "Default metric period is 5 because AUC is/are not implemented for GPU\n",
      "[I 2025-02-26 07:46:09,248] Trial 54 finished with value: 0.7421523034572601 and parameters: {'iterations': 1291, 'depth': 10, 'learning_rate': 0.022434394790258883, 'l2_leaf_reg': 16.522223606795734}. Best is trial 36 with value: 0.7427701056003571.\n",
      "Default metric period is 5 because AUC is/are not implemented for GPU\n",
      "[I 2025-02-26 07:47:13,123] Trial 55 finished with value: 0.7423893511295319 and parameters: {'iterations': 1637, 'depth': 10, 'learning_rate': 0.0250503538560189, 'l2_leaf_reg': 25.357897225400546}. Best is trial 36 with value: 0.7427701056003571.\n",
      "Default metric period is 5 because AUC is/are not implemented for GPU\n",
      "[I 2025-02-26 07:47:36,719] Trial 56 finished with value: 0.742337703704834 and parameters: {'iterations': 1153, 'depth': 8, 'learning_rate': 0.037143949575599786, 'l2_leaf_reg': 5.012226023614645}. Best is trial 36 with value: 0.7427701056003571.\n",
      "Default metric period is 5 because AUC is/are not implemented for GPU\n",
      "[I 2025-02-26 07:48:12,154] Trial 57 finished with value: 0.7427363693714142 and parameters: {'iterations': 2531, 'depth': 9, 'learning_rate': 0.032516576443633365, 'l2_leaf_reg': 96.7784160149905}. Best is trial 36 with value: 0.7427701056003571.\n",
      "Default metric period is 5 because AUC is/are not implemented for GPU\n",
      "[I 2025-02-26 07:48:49,805] Trial 58 finished with value: 0.7424341440200806 and parameters: {'iterations': 2530, 'depth': 9, 'learning_rate': 0.03260346025608213, 'l2_leaf_reg': 95.66399645866242}. Best is trial 36 with value: 0.7427701056003571.\n",
      "Default metric period is 5 because AUC is/are not implemented for GPU\n",
      "[I 2025-02-26 07:49:55,244] Trial 59 finished with value: 0.7424308657646179 and parameters: {'iterations': 2884, 'depth': 10, 'learning_rate': 0.02679557694268841, 'l2_leaf_reg': 35.66220898855259}. Best is trial 36 with value: 0.7427701056003571.\n",
      "[I 2025-02-26 07:49:55,260] A new study created in memory with name: no-name-5222ecdd-70f5-4543-b480-11f9b32765fc\n",
      "[I 2025-02-26 07:50:06,570] Trial 0 finished with value: 0.7395394824004095 and parameters: {'objective': 'binary', 'metric': 'auc', 'verbose': -1, 'random_state': 42, 'learning_rate': 0.028176029297306456, 'n_estimators': 2587, 'min_child_samples': 10, 'subsample': 0.9, 'colsample_bytree': 0.7}. Best is trial 0 with value: 0.7395394824004095.\n",
      "[I 2025-02-26 07:50:07,965] Trial 1 finished with value: 0.7339668407157778 and parameters: {'objective': 'binary', 'metric': 'auc', 'verbose': -1, 'random_state': 42, 'learning_rate': 0.005944336111080004, 'n_estimators': 120, 'min_child_samples': 10, 'subsample': 0.9, 'colsample_bytree': 0.5}. Best is trial 0 with value: 0.7395394824004095.\n",
      "[I 2025-02-26 07:50:10,882] Trial 2 finished with value: 0.7394654838424616 and parameters: {'objective': 'binary', 'metric': 'auc', 'verbose': -1, 'random_state': 42, 'learning_rate': 0.07957145920376708, 'n_estimators': 554, 'min_child_samples': 35, 'subsample': 0.5, 'colsample_bytree': 0.7}. Best is trial 0 with value: 0.7395394824004095.\n",
      "[I 2025-02-26 07:50:15,190] Trial 3 finished with value: 0.7410579169171924 and parameters: {'objective': 'binary', 'metric': 'auc', 'verbose': -1, 'random_state': 42, 'learning_rate': 0.007980814962048806, 'n_estimators': 568, 'min_child_samples': 50, 'subsample': 0.5, 'colsample_bytree': 0.5}. Best is trial 3 with value: 0.7410579169171924.\n",
      "[I 2025-02-26 07:50:17,209] Trial 4 finished with value: 0.7405944455732839 and parameters: {'objective': 'binary', 'metric': 'auc', 'verbose': -1, 'random_state': 42, 'learning_rate': 0.01599119727287282, 'n_estimators': 227, 'min_child_samples': 40, 'subsample': 0.6, 'colsample_bytree': 0.6}. Best is trial 3 with value: 0.7410579169171924.\n",
      "[I 2025-02-26 07:50:28,509] Trial 5 finished with value: 0.7410430258248332 and parameters: {'objective': 'binary', 'metric': 'auc', 'verbose': -1, 'random_state': 42, 'learning_rate': 0.010907507425244923, 'n_estimators': 2385, 'min_child_samples': 50, 'subsample': 0.6, 'colsample_bytree': 0.8}. Best is trial 3 with value: 0.7410579169171924.\n",
      "[I 2025-02-26 07:50:34,528] Trial 6 finished with value: 0.7333679947214018 and parameters: {'objective': 'binary', 'metric': 'auc', 'verbose': -1, 'random_state': 42, 'learning_rate': 0.0832688765336147, 'n_estimators': 1430, 'min_child_samples': 20, 'subsample': 0.7, 'colsample_bytree': 0.7}. Best is trial 3 with value: 0.7410579169171924.\n",
      "[I 2025-02-26 07:50:44,053] Trial 7 finished with value: 0.7356996386256087 and parameters: {'objective': 'binary', 'metric': 'auc', 'verbose': -1, 'random_state': 42, 'learning_rate': 0.03899678252089179, 'n_estimators': 2302, 'min_child_samples': 25, 'subsample': 0.7, 'colsample_bytree': 0.8}. Best is trial 3 with value: 0.7410579169171924.\n",
      "[I 2025-02-26 07:50:53,467] Trial 8 finished with value: 0.7338634811192669 and parameters: {'objective': 'binary', 'metric': 'auc', 'verbose': -1, 'random_state': 42, 'learning_rate': 0.06174177473816209, 'n_estimators': 2024, 'min_child_samples': 10, 'subsample': 0.7, 'colsample_bytree': 0.6}. Best is trial 3 with value: 0.7410579169171924.\n",
      "[I 2025-02-26 07:51:01,802] Trial 9 finished with value: 0.7413215663296414 and parameters: {'objective': 'binary', 'metric': 'auc', 'verbose': -1, 'random_state': 42, 'learning_rate': 0.013735964154420877, 'n_estimators': 1705, 'min_child_samples': 10, 'subsample': 0.6, 'colsample_bytree': 0.8}. Best is trial 9 with value: 0.7413215663296414.\n",
      "[I 2025-02-26 07:51:08,865] Trial 10 finished with value: 0.7405710878539724 and parameters: {'objective': 'binary', 'metric': 'auc', 'verbose': -1, 'random_state': 42, 'learning_rate': 0.017124792806562778, 'n_estimators': 1464, 'min_child_samples': 20, 'subsample': 1.0, 'colsample_bytree': 1.0}. Best is trial 9 with value: 0.7413215663296414.\n",
      "[I 2025-02-26 07:51:15,022] Trial 11 finished with value: 0.7412838499102804 and parameters: {'objective': 'binary', 'metric': 'auc', 'verbose': -1, 'random_state': 42, 'learning_rate': 0.007148938216777203, 'n_estimators': 894, 'min_child_samples': 50, 'subsample': 0.5, 'colsample_bytree': 0.9}. Best is trial 9 with value: 0.7413215663296414.\n",
      "[I 2025-02-26 07:51:21,971] Trial 12 finished with value: 0.7411189632443262 and parameters: {'objective': 'binary', 'metric': 'auc', 'verbose': -1, 'random_state': 42, 'learning_rate': 0.005037597623428152, 'n_estimators': 1041, 'min_child_samples': 40, 'subsample': 0.5, 'colsample_bytree': 1.0}. Best is trial 9 with value: 0.7413215663296414.\n",
      "[I 2025-02-26 07:51:28,230] Trial 13 finished with value: 0.7411681022598806 and parameters: {'objective': 'binary', 'metric': 'auc', 'verbose': -1, 'random_state': 42, 'learning_rate': 0.010653563883180055, 'n_estimators': 1117, 'min_child_samples': 30, 'subsample': 0.6, 'colsample_bytree': 0.9}. Best is trial 9 with value: 0.7413215663296414.\n",
      "[I 2025-02-26 07:51:37,918] Trial 14 finished with value: 0.7412225294408378 and parameters: {'objective': 'binary', 'metric': 'auc', 'verbose': -1, 'random_state': 42, 'learning_rate': 0.009738832690130726, 'n_estimators': 1930, 'min_child_samples': 45, 'subsample': 0.6, 'colsample_bytree': 0.9}. Best is trial 9 with value: 0.7413215663296414.\n",
      "[I 2025-02-26 07:51:43,231] Trial 15 finished with value: 0.7408013157432292 and parameters: {'objective': 'binary', 'metric': 'auc', 'verbose': -1, 'random_state': 42, 'learning_rate': 0.01721153206460666, 'n_estimators': 1018, 'min_child_samples': 20, 'subsample': 0.8, 'colsample_bytree': 0.9}. Best is trial 9 with value: 0.7413215663296414.\n",
      "[I 2025-02-26 07:51:51,852] Trial 16 finished with value: 0.7414883004763712 and parameters: {'objective': 'binary', 'metric': 'auc', 'verbose': -1, 'random_state': 42, 'learning_rate': 0.007182180307284492, 'n_estimators': 1558, 'min_child_samples': 30, 'subsample': 0.5, 'colsample_bytree': 0.8}. Best is trial 16 with value: 0.7414883004763712.\n",
      "[I 2025-02-26 07:52:03,917] Trial 17 finished with value: 0.7376190162014687 and parameters: {'objective': 'binary', 'metric': 'auc', 'verbose': -1, 'random_state': 42, 'learning_rate': 0.024702088529810737, 'n_estimators': 2870, 'min_child_samples': 30, 'subsample': 0.6, 'colsample_bytree': 0.8}. Best is trial 16 with value: 0.7414883004763712.\n",
      "[I 2025-02-26 07:52:12,451] Trial 18 finished with value: 0.740885501270443 and parameters: {'objective': 'binary', 'metric': 'auc', 'verbose': -1, 'random_state': 42, 'learning_rate': 0.01394651350875441, 'n_estimators': 1788, 'min_child_samples': 15, 'subsample': 0.8, 'colsample_bytree': 0.8}. Best is trial 16 with value: 0.7414883004763712.\n",
      "[I 2025-02-26 07:52:20,049] Trial 19 finished with value: 0.7379863351104298 and parameters: {'objective': 'binary', 'metric': 'auc', 'verbose': -1, 'random_state': 42, 'learning_rate': 0.04102626259762077, 'n_estimators': 1527, 'min_child_samples': 25, 'subsample': 0.5, 'colsample_bytree': 0.6}. Best is trial 16 with value: 0.7414883004763712.\n",
      "[I 2025-02-26 07:52:29,470] Trial 20 finished with value: 0.7417068991694338 and parameters: {'objective': 'binary', 'metric': 'auc', 'verbose': -1, 'random_state': 42, 'learning_rate': 0.007966238333883612, 'n_estimators': 1765, 'min_child_samples': 35, 'subsample': 0.7, 'colsample_bytree': 0.7}. Best is trial 20 with value: 0.7417068991694338.\n",
      "[I 2025-02-26 07:52:38,547] Trial 21 finished with value: 0.7417857846120139 and parameters: {'objective': 'binary', 'metric': 'auc', 'verbose': -1, 'random_state': 42, 'learning_rate': 0.00777943564185405, 'n_estimators': 1699, 'min_child_samples': 35, 'subsample': 0.7, 'colsample_bytree': 0.7}. Best is trial 21 with value: 0.7417857846120139.\n",
      "[I 2025-02-26 07:52:49,225] Trial 22 finished with value: 0.7418046090505406 and parameters: {'objective': 'binary', 'metric': 'auc', 'verbose': -1, 'random_state': 42, 'learning_rate': 0.007389244971728173, 'n_estimators': 2075, 'min_child_samples': 35, 'subsample': 0.8, 'colsample_bytree': 0.7}. Best is trial 22 with value: 0.7418046090505406.\n",
      "[I 2025-02-26 07:53:00,909] Trial 23 finished with value: 0.7419150685355375 and parameters: {'objective': 'binary', 'metric': 'auc', 'verbose': -1, 'random_state': 42, 'learning_rate': 0.005049100975782913, 'n_estimators': 2103, 'min_child_samples': 35, 'subsample': 0.8, 'colsample_bytree': 0.7}. Best is trial 23 with value: 0.7419150685355375.\n",
      "[I 2025-02-26 07:53:13,735] Trial 24 finished with value: 0.7418912936431477 and parameters: {'objective': 'binary', 'metric': 'auc', 'verbose': -1, 'random_state': 42, 'learning_rate': 0.005087322628988749, 'n_estimators': 2123, 'min_child_samples': 35, 'subsample': 0.8, 'colsample_bytree': 0.6}. Best is trial 23 with value: 0.7419150685355375.\n",
      "[I 2025-02-26 07:53:26,883] Trial 25 finished with value: 0.7420030165666104 and parameters: {'objective': 'binary', 'metric': 'auc', 'verbose': -1, 'random_state': 42, 'learning_rate': 0.00508857228163423, 'n_estimators': 2163, 'min_child_samples': 40, 'subsample': 0.9, 'colsample_bytree': 0.6}. Best is trial 25 with value: 0.7420030165666104.\n",
      "[I 2025-02-26 07:53:40,489] Trial 26 finished with value: 0.742010017128173 and parameters: {'objective': 'binary', 'metric': 'auc', 'verbose': -1, 'random_state': 42, 'learning_rate': 0.005095373409640716, 'n_estimators': 2271, 'min_child_samples': 40, 'subsample': 0.9, 'colsample_bytree': 0.6}. Best is trial 26 with value: 0.742010017128173.\n",
      "[I 2025-02-26 07:53:56,758] Trial 27 finished with value: 0.7416699773654601 and parameters: {'objective': 'binary', 'metric': 'auc', 'verbose': -1, 'random_state': 42, 'learning_rate': 0.005804890857215437, 'n_estimators': 2720, 'min_child_samples': 45, 'subsample': 0.9, 'colsample_bytree': 0.5}. Best is trial 26 with value: 0.742010017128173.\n",
      "[I 2025-02-26 07:54:10,646] Trial 28 finished with value: 0.7419395426894682 and parameters: {'objective': 'binary', 'metric': 'auc', 'verbose': -1, 'random_state': 42, 'learning_rate': 0.0061244221447591665, 'n_estimators': 2449, 'min_child_samples': 40, 'subsample': 1.0, 'colsample_bytree': 0.6}. Best is trial 26 with value: 0.742010017128173.\n",
      "[I 2025-02-26 07:54:23,703] Trial 29 finished with value: 0.7416032296729219 and parameters: {'objective': 'binary', 'metric': 'auc', 'verbose': -1, 'random_state': 42, 'learning_rate': 0.009413753933179864, 'n_estimators': 2455, 'min_child_samples': 40, 'subsample': 1.0, 'colsample_bytree': 0.6}. Best is trial 26 with value: 0.742010017128173.\n",
      "[I 2025-02-26 07:54:41,379] Trial 30 finished with value: 0.7417708140581161 and parameters: {'objective': 'binary', 'metric': 'auc', 'verbose': -1, 'random_state': 42, 'learning_rate': 0.0059768903950037176, 'n_estimators': 2984, 'min_child_samples': 45, 'subsample': 1.0, 'colsample_bytree': 0.5}. Best is trial 26 with value: 0.742010017128173.\n",
      "[I 2025-02-26 07:54:56,130] Trial 31 finished with value: 0.7418538712314799 and parameters: {'objective': 'binary', 'metric': 'auc', 'verbose': -1, 'random_state': 42, 'learning_rate': 0.006080329390368217, 'n_estimators': 2632, 'min_child_samples': 40, 'subsample': 0.9, 'colsample_bytree': 0.6}. Best is trial 26 with value: 0.742010017128173.\n",
      "[I 2025-02-26 07:55:09,281] Trial 32 finished with value: 0.7418777931277164 and parameters: {'objective': 'binary', 'metric': 'auc', 'verbose': -1, 'random_state': 42, 'learning_rate': 0.0050638751983899275, 'n_estimators': 2239, 'min_child_samples': 45, 'subsample': 0.9, 'colsample_bytree': 0.6}. Best is trial 26 with value: 0.742010017128173.\n",
      "[I 2025-02-26 07:55:24,460] Trial 33 finished with value: 0.7418653295853657 and parameters: {'objective': 'binary', 'metric': 'auc', 'verbose': -1, 'random_state': 42, 'learning_rate': 0.006274010624970801, 'n_estimators': 2506, 'min_child_samples': 40, 'subsample': 1.0, 'colsample_bytree': 0.5}. Best is trial 26 with value: 0.742010017128173.\n",
      "[I 2025-02-26 07:55:37,355] Trial 34 finished with value: 0.7413855288952469 and parameters: {'objective': 'binary', 'metric': 'auc', 'verbose': -1, 'random_state': 42, 'learning_rate': 0.009016155019936432, 'n_estimators': 2770, 'min_child_samples': 40, 'subsample': 0.9, 'colsample_bytree': 0.7}. Best is trial 26 with value: 0.742010017128173.\n",
      "[I 2025-02-26 07:55:49,033] Trial 35 finished with value: 0.7412152189792741 and parameters: {'objective': 'binary', 'metric': 'auc', 'verbose': -1, 'random_state': 42, 'learning_rate': 0.012144017673153809, 'n_estimators': 2246, 'min_child_samples': 35, 'subsample': 0.9, 'colsample_bytree': 0.6}. Best is trial 26 with value: 0.742010017128173.\n",
      "[I 2025-02-26 07:56:04,463] Trial 36 finished with value: 0.7417339796618351 and parameters: {'objective': 'binary', 'metric': 'auc', 'verbose': -1, 'random_state': 42, 'learning_rate': 0.006480423452114635, 'n_estimators': 2593, 'min_child_samples': 45, 'subsample': 1.0, 'colsample_bytree': 0.5}. Best is trial 26 with value: 0.742010017128173.\n",
      "[I 2025-02-26 07:56:14,282] Trial 37 finished with value: 0.741591906403652 and parameters: {'objective': 'binary', 'metric': 'auc', 'verbose': -1, 'random_state': 42, 'learning_rate': 0.008832170557601689, 'n_estimators': 1969, 'min_child_samples': 35, 'subsample': 0.8, 'colsample_bytree': 0.7}. Best is trial 26 with value: 0.742010017128173.\n",
      "[I 2025-02-26 07:56:27,998] Trial 38 finished with value: 0.7419781888088324 and parameters: {'objective': 'binary', 'metric': 'auc', 'verbose': -1, 'random_state': 42, 'learning_rate': 0.005798900252523614, 'n_estimators': 2355, 'min_child_samples': 40, 'subsample': 0.9, 'colsample_bytree': 0.6}. Best is trial 26 with value: 0.742010017128173.\n",
      "[I 2025-02-26 07:56:41,005] Trial 39 finished with value: 0.7393304071727642 and parameters: {'objective': 'binary', 'metric': 'auc', 'verbose': -1, 'random_state': 42, 'learning_rate': 0.02117684092670548, 'n_estimators': 2380, 'min_child_samples': 50, 'subsample': 0.9, 'colsample_bytree': 0.5}. Best is trial 26 with value: 0.742010017128173.\n",
      "[I 2025-02-26 07:56:54,007] Trial 40 finished with value: 0.7418545625468669 and parameters: {'objective': 'binary', 'metric': 'auc', 'verbose': -1, 'random_state': 42, 'learning_rate': 0.00658737628675678, 'n_estimators': 2231, 'min_child_samples': 45, 'subsample': 1.0, 'colsample_bytree': 0.6}. Best is trial 26 with value: 0.742010017128173.\n",
      "[I 2025-02-26 07:57:05,458] Trial 41 finished with value: 0.7419755626049771 and parameters: {'objective': 'binary', 'metric': 'auc', 'verbose': -1, 'random_state': 42, 'learning_rate': 0.00564071243550662, 'n_estimators': 1888, 'min_child_samples': 40, 'subsample': 0.9, 'colsample_bytree': 0.6}. Best is trial 26 with value: 0.742010017128173.\n",
      "[I 2025-02-26 07:57:17,009] Trial 42 finished with value: 0.7419895796204101 and parameters: {'objective': 'binary', 'metric': 'auc', 'verbose': -1, 'random_state': 42, 'learning_rate': 0.005753891260299179, 'n_estimators': 1912, 'min_child_samples': 40, 'subsample': 0.9, 'colsample_bytree': 0.6}. Best is trial 26 with value: 0.742010017128173.\n",
      "[I 2025-02-26 07:57:27,623] Trial 43 finished with value: 0.7419097128278266 and parameters: {'objective': 'binary', 'metric': 'auc', 'verbose': -1, 'random_state': 42, 'learning_rate': 0.008357982108897315, 'n_estimators': 1896, 'min_child_samples': 40, 'subsample': 0.9, 'colsample_bytree': 0.6}. Best is trial 26 with value: 0.742010017128173.\n",
      "[I 2025-02-26 07:57:37,226] Trial 44 finished with value: 0.7418924935123825 and parameters: {'objective': 'binary', 'metric': 'auc', 'verbose': -1, 'random_state': 42, 'learning_rate': 0.005641763129699637, 'n_estimators': 1374, 'min_child_samples': 50, 'subsample': 0.9, 'colsample_bytree': 0.5}. Best is trial 26 with value: 0.742010017128173.\n",
      "[I 2025-02-26 07:57:45,811] Trial 45 finished with value: 0.7340102346620815 and parameters: {'objective': 'binary', 'metric': 'auc', 'verbose': -1, 'random_state': 42, 'learning_rate': 0.06541933921371479, 'n_estimators': 1837, 'min_child_samples': 40, 'subsample': 0.9, 'colsample_bytree': 0.6}. Best is trial 26 with value: 0.742010017128173.\n",
      "[I 2025-02-26 07:57:52,233] Trial 46 finished with value: 0.7397293239626036 and parameters: {'objective': 'binary', 'metric': 'auc', 'verbose': -1, 'random_state': 42, 'learning_rate': 0.036691178643140344, 'n_estimators': 1256, 'min_child_samples': 45, 'subsample': 0.9, 'colsample_bytree': 0.6}. Best is trial 26 with value: 0.742010017128173.\n",
      "[I 2025-02-26 07:58:02,043] Trial 47 finished with value: 0.7417683308850306 and parameters: {'objective': 'binary', 'metric': 'auc', 'verbose': -1, 'random_state': 42, 'learning_rate': 0.011280801891325378, 'n_estimators': 1657, 'min_child_samples': 30, 'subsample': 0.8, 'colsample_bytree': 0.5}. Best is trial 26 with value: 0.742010017128173.\n",
      "[I 2025-02-26 07:58:13,870] Trial 48 finished with value: 0.7417964483505124 and parameters: {'objective': 'binary', 'metric': 'auc', 'verbose': -1, 'random_state': 42, 'learning_rate': 0.00701990530198634, 'n_estimators': 2151, 'min_child_samples': 40, 'subsample': 0.9, 'colsample_bytree': 0.7}. Best is trial 26 with value: 0.742010017128173.\n",
      "[I 2025-02-26 07:58:17,079] Trial 49 finished with value: 0.7389378274406391 and parameters: {'objective': 'binary', 'metric': 'auc', 'verbose': -1, 'random_state': 42, 'learning_rate': 0.0055789011250551605, 'n_estimators': 377, 'min_child_samples': 45, 'subsample': 1.0, 'colsample_bytree': 0.6}. Best is trial 26 with value: 0.742010017128173.\n",
      "[I 2025-02-26 07:58:28,528] Trial 50 finished with value: 0.7419297570009727 and parameters: {'objective': 'binary', 'metric': 'auc', 'verbose': -1, 'random_state': 42, 'learning_rate': 0.0068640392026662915, 'n_estimators': 1994, 'min_child_samples': 50, 'subsample': 0.9, 'colsample_bytree': 0.6}. Best is trial 26 with value: 0.742010017128173.\n",
      "[I 2025-02-26 07:58:39,154] Trial 51 finished with value: 0.7274384872932299 and parameters: {'objective': 'binary', 'metric': 'auc', 'verbose': -1, 'random_state': 42, 'learning_rate': 0.09859705659062341, 'n_estimators': 2362, 'min_child_samples': 40, 'subsample': 1.0, 'colsample_bytree': 0.6}. Best is trial 26 with value: 0.742010017128173.\n",
      "[I 2025-02-26 07:58:53,217] Trial 52 finished with value: 0.7419612237703123 and parameters: {'objective': 'binary', 'metric': 'auc', 'verbose': -1, 'random_state': 42, 'learning_rate': 0.005607066618883614, 'n_estimators': 2465, 'min_child_samples': 40, 'subsample': 1.0, 'colsample_bytree': 0.6}. Best is trial 26 with value: 0.742010017128173.\n",
      "[I 2025-02-26 07:59:06,611] Trial 53 finished with value: 0.7417619064196238 and parameters: {'objective': 'binary', 'metric': 'auc', 'verbose': -1, 'random_state': 42, 'learning_rate': 0.005403783354998688, 'n_estimators': 2304, 'min_child_samples': 35, 'subsample': 1.0, 'colsample_bytree': 0.7}. Best is trial 26 with value: 0.742010017128173.\n",
      "[I 2025-02-26 07:59:20,653] Trial 54 finished with value: 0.7416194398268241 and parameters: {'objective': 'binary', 'metric': 'auc', 'verbose': -1, 'random_state': 42, 'learning_rate': 0.007762570881729965, 'n_estimators': 2502, 'min_child_samples': 40, 'subsample': 0.9, 'colsample_bytree': 0.6}. Best is trial 26 with value: 0.742010017128173.\n",
      "[I 2025-02-26 07:59:33,983] Trial 55 finished with value: 0.7418248439313797 and parameters: {'objective': 'binary', 'metric': 'auc', 'verbose': -1, 'random_state': 42, 'learning_rate': 0.00665592453715862, 'n_estimators': 2149, 'min_child_samples': 45, 'subsample': 0.8, 'colsample_bytree': 0.5}. Best is trial 26 with value: 0.742010017128173.\n",
      "[I 2025-02-26 07:59:45,021] Trial 56 finished with value: 0.7419529160664374 and parameters: {'objective': 'binary', 'metric': 'auc', 'verbose': -1, 'random_state': 42, 'learning_rate': 0.0056058012051650305, 'n_estimators': 1868, 'min_child_samples': 30, 'subsample': 0.9, 'colsample_bytree': 0.6}. Best is trial 26 with value: 0.742010017128173.\n",
      "[I 2025-02-26 07:59:58,369] Trial 57 finished with value: 0.7413238985258033 and parameters: {'objective': 'binary', 'metric': 'auc', 'verbose': -1, 'random_state': 42, 'learning_rate': 0.010222983241492838, 'n_estimators': 2681, 'min_child_samples': 35, 'subsample': 0.8, 'colsample_bytree': 0.7}. Best is trial 26 with value: 0.742010017128173.\n",
      "[I 2025-02-26 08:00:09,962] Trial 58 finished with value: 0.7417738018119726 and parameters: {'objective': 'binary', 'metric': 'auc', 'verbose': -1, 'random_state': 42, 'learning_rate': 0.007437771319324217, 'n_estimators': 2062, 'min_child_samples': 40, 'subsample': 1.0, 'colsample_bytree': 0.6}. Best is trial 26 with value: 0.742010017128173.\n",
      "[I 2025-02-26 08:00:20,231] Trial 59 finished with value: 0.7420772972130208 and parameters: {'objective': 'binary', 'metric': 'auc', 'verbose': -1, 'random_state': 42, 'learning_rate': 0.008320958110643033, 'n_estimators': 1644, 'min_child_samples': 25, 'subsample': 0.9, 'colsample_bytree': 0.5}. Best is trial 59 with value: 0.7420772972130208.\n"
     ]
    },
    {
     "name": "stdout",
     "output_type": "stream",
     "text": [
      "Cat val score : 0.7427701064769521\n",
      "LGBM val score : 0.7420772972130208\n",
      "Ensemble val score : 0.7427150396306081\n"
     ]
    },
    {
     "name": "stderr",
     "output_type": "stream",
     "text": [
      "[I 2025-02-26 08:00:31,544] A new study created in memory with name: no-name-8bea45b8-756e-4a64-8547-90646bd6add5\n"
     ]
    },
    {
     "name": "stdout",
     "output_type": "stream",
     "text": [
      "==================================================\n"
     ]
    },
    {
     "name": "stderr",
     "output_type": "stream",
     "text": [
      "Default metric period is 5 because AUC is/are not implemented for GPU\n",
      "[I 2025-02-26 08:02:04,954] Trial 0 finished with value: 0.7422042489051819 and parameters: {'iterations': 2154, 'depth': 10, 'learning_rate': 0.01181021951839225, 'l2_leaf_reg': 9.980783802743254}. Best is trial 0 with value: 0.7422042489051819.\n"
     ]
    },
    {
     "name": "stdout",
     "output_type": "stream",
     "text": [
      "저장 완료\n"
     ]
    },
    {
     "name": "stderr",
     "output_type": "stream",
     "text": [
      "Default metric period is 5 because AUC is/are not implemented for GPU\n",
      "[I 2025-02-26 08:02:29,786] Trial 1 finished with value: 0.7390458285808563 and parameters: {'iterations': 1925, 'depth': 4, 'learning_rate': 0.005671430811678843, 'l2_leaf_reg': 0.00012325230809466137}. Best is trial 0 with value: 0.7422042489051819.\n",
      "Default metric period is 5 because AUC is/are not implemented for GPU\n",
      "[I 2025-02-26 08:02:39,664] Trial 2 finished with value: 0.7406827211380005 and parameters: {'iterations': 2380, 'depth': 4, 'learning_rate': 0.09275339199839054, 'l2_leaf_reg': 0.0008705394248343123}. Best is trial 0 with value: 0.7422042489051819.\n",
      "Default metric period is 5 because AUC is/are not implemented for GPU\n",
      "[I 2025-02-26 08:02:57,250] Trial 3 finished with value: 0.7410917282104492 and parameters: {'iterations': 2112, 'depth': 4, 'learning_rate': 0.04657568321363276, 'l2_leaf_reg': 0.0008640473331457248}. Best is trial 0 with value: 0.7422042489051819.\n",
      "Default metric period is 5 because AUC is/are not implemented for GPU\n",
      "[I 2025-02-26 08:04:50,501] Trial 7 finished with value: 0.741866946220398 and parameters: {'iterations': 1570, 'depth': 7, 'learning_rate': 0.0941937211034094, 'l2_leaf_reg': 0.05654822767791934}. Best is trial 0 with value: 0.7422042489051819.\n",
      "Default metric period is 5 because AUC is/are not implemented for GPU\n",
      "[I 2025-02-26 08:05:08,465] Trial 8 finished with value: 0.7419731020927429 and parameters: {'iterations': 1539, 'depth': 7, 'learning_rate': 0.05155602859187331, 'l2_leaf_reg': 1.299974533316308}. Best is trial 0 with value: 0.7422042489051819.\n",
      "Default metric period is 5 because AUC is/are not implemented for GPU\n",
      "[I 2025-02-26 08:05:30,456] Trial 9 finished with value: 0.7417694926261902 and parameters: {'iterations': 2519, 'depth': 6, 'learning_rate': 0.03968704290444751, 'l2_leaf_reg': 0.30557194377967184}. Best is trial 0 with value: 0.7422042489051819.\n",
      "Default metric period is 5 because AUC is/are not implemented for GPU\n",
      "[I 2025-02-26 08:06:32,892] Trial 10 finished with value: 0.7423925995826721 and parameters: {'iterations': 2927, 'depth': 10, 'learning_rate': 0.025911330134996406, 'l2_leaf_reg': 97.18545559492455}. Best is trial 10 with value: 0.7423925995826721.\n"
     ]
    },
    {
     "name": "stdout",
     "output_type": "stream",
     "text": [
      "저장 완료\n"
     ]
    },
    {
     "name": "stderr",
     "output_type": "stream",
     "text": [
      "Default metric period is 5 because AUC is/are not implemented for GPU\n",
      "[I 2025-02-26 08:07:34,669] Trial 11 finished with value: 0.7422415912151337 and parameters: {'iterations': 2993, 'depth': 10, 'learning_rate': 0.026163874004606635, 'l2_leaf_reg': 73.12133513928165}. Best is trial 10 with value: 0.7423925995826721.\n",
      "Default metric period is 5 because AUC is/are not implemented for GPU\n",
      "[I 2025-02-26 08:08:29,957] Trial 12 finished with value: 0.7421843111515045 and parameters: {'iterations': 2863, 'depth': 9, 'learning_rate': 0.02806616524326411, 'l2_leaf_reg': 87.13438924619741}. Best is trial 10 with value: 0.7423925995826721.\n",
      "Default metric period is 5 because AUC is/are not implemented for GPU\n",
      "[I 2025-02-26 08:09:09,203] Trial 13 finished with value: 0.7416869699954987 and parameters: {'iterations': 2967, 'depth': 9, 'learning_rate': 0.028913180830738475, 'l2_leaf_reg': 7.828901342687922}. Best is trial 10 with value: 0.7423925995826721.\n",
      "Default metric period is 5 because AUC is/are not implemented for GPU\n",
      "[I 2025-02-26 08:09:44,063] Trial 14 finished with value: 0.7415997385978699 and parameters: {'iterations': 2672, 'depth': 9, 'learning_rate': 0.027816216794235737, 'l2_leaf_reg': 7.067045463613266}. Best is trial 10 with value: 0.7423925995826721.\n",
      "Default metric period is 5 because AUC is/are not implemented for GPU\n",
      "[I 2025-02-26 08:10:01,550] Trial 15 finished with value: 0.7410649955272675 and parameters: {'iterations': 1017, 'depth': 8, 'learning_rate': 0.06347916602487957, 'l2_leaf_reg': 0.026986971696484445}. Best is trial 10 with value: 0.7423925995826721.\n",
      "Default metric period is 5 because AUC is/are not implemented for GPU\n",
      "[I 2025-02-26 08:10:43,221] Trial 16 finished with value: 0.7419582605361938 and parameters: {'iterations': 2718, 'depth': 10, 'learning_rate': 0.03780133673970677, 'l2_leaf_reg': 0.8358313275560089}. Best is trial 10 with value: 0.7423925995826721.\n",
      "Default metric period is 5 because AUC is/are not implemented for GPU\n",
      "[I 2025-02-26 08:11:21,109] Trial 17 finished with value: 0.7420043349266052 and parameters: {'iterations': 2999, 'depth': 8, 'learning_rate': 0.020683376194142348, 'l2_leaf_reg': 17.971321588436588}. Best is trial 10 with value: 0.7423925995826721.\n",
      "Default metric period is 5 because AUC is/are not implemented for GPU\n",
      "[I 2025-02-26 08:11:39,443] Trial 18 finished with value: 0.741369217634201 and parameters: {'iterations': 2309, 'depth': 8, 'learning_rate': 0.06131752750249454, 'l2_leaf_reg': 0.010016909578442512}. Best is trial 10 with value: 0.7423925995826721.\n",
      "Default metric period is 5 because AUC is/are not implemented for GPU\n",
      "[I 2025-02-26 08:12:21,155] Trial 19 finished with value: 0.741897702217102 and parameters: {'iterations': 2698, 'depth': 10, 'learning_rate': 0.041068055997712544, 'l2_leaf_reg': 2.2761750054483336}. Best is trial 10 with value: 0.7423925995826721.\n",
      "Default metric period is 5 because AUC is/are not implemented for GPU\n",
      "[I 2025-02-26 08:13:08,456] Trial 20 finished with value: 0.7419888079166412 and parameters: {'iterations': 2573, 'depth': 9, 'learning_rate': 0.018990799150394793, 'l2_leaf_reg': 35.32323178547579}. Best is trial 10 with value: 0.7423925995826721.\n",
      "Default metric period is 5 because AUC is/are not implemented for GPU\n",
      "[I 2025-02-26 08:15:41,730] Trial 21 finished with value: 0.7421477437019348 and parameters: {'iterations': 2160, 'depth': 10, 'learning_rate': 0.005759664620026361, 'l2_leaf_reg': 11.59830252760564}. Best is trial 10 with value: 0.7423925995826721.\n",
      "Default metric period is 5 because AUC is/are not implemented for GPU\n",
      "[I 2025-02-26 08:16:55,814] Trial 22 finished with value: 0.7418594062328339 and parameters: {'iterations': 2815, 'depth': 10, 'learning_rate': 0.018117523532498563, 'l2_leaf_reg': 81.53250714941657}. Best is trial 10 with value: 0.7423925995826721.\n",
      "Default metric period is 5 because AUC is/are not implemented for GPU\n",
      "[I 2025-02-26 08:17:28,515] Trial 23 finished with value: 0.7419699728488922 and parameters: {'iterations': 2451, 'depth': 9, 'learning_rate': 0.028736265630500236, 'l2_leaf_reg': 3.428979016054008}. Best is trial 10 with value: 0.7423925995826721.\n",
      "Default metric period is 5 because AUC is/are not implemented for GPU\n",
      "[I 2025-02-26 08:18:51,592] Trial 24 finished with value: 0.7421551942825317 and parameters: {'iterations': 2277, 'depth': 10, 'learning_rate': 0.01413567206669741, 'l2_leaf_reg': 19.9876353039472}. Best is trial 10 with value: 0.7423925995826721.\n",
      "Default metric period is 5 because AUC is/are not implemented for GPU\n",
      "[I 2025-02-26 08:19:17,032] Trial 25 finished with value: 0.7415522336959839 and parameters: {'iterations': 1953, 'depth': 8, 'learning_rate': 0.03326960029531885, 'l2_leaf_reg': 0.6564431228000704}. Best is trial 10 with value: 0.7423925995826721.\n",
      "Default metric period is 5 because AUC is/are not implemented for GPU\n",
      "[I 2025-02-26 08:19:49,616] Trial 26 finished with value: 0.7413567006587982 and parameters: {'iterations': 2907, 'depth': 9, 'learning_rate': 0.022543324777007878, 'l2_leaf_reg': 0.15665307035952886}. Best is trial 10 with value: 0.7423925995826721.\n",
      "Default metric period is 5 because AUC is/are not implemented for GPU\n",
      "[I 2025-02-26 08:20:22,955] Trial 27 finished with value: 0.7420507073402405 and parameters: {'iterations': 1327, 'depth': 7, 'learning_rate': 0.014232631125790322, 'l2_leaf_reg': 36.04271880187666}. Best is trial 10 with value: 0.7423925995826721.\n",
      "Default metric period is 5 because AUC is/are not implemented for GPU\n",
      "[I 2025-02-26 08:21:01,364] Trial 28 finished with value: 0.7410879135131836 and parameters: {'iterations': 2600, 'depth': 10, 'learning_rate': 0.04740587970062471, 'l2_leaf_reg': 4.852132654303954}. Best is trial 10 with value: 0.7423925995826721.\n",
      "Default metric period is 5 because AUC is/are not implemented for GPU\n",
      "[I 2025-02-26 08:22:26,601] Trial 29 finished with value: 0.7423239946365356 and parameters: {'iterations': 2088, 'depth': 9, 'learning_rate': 0.00996264353251737, 'l2_leaf_reg': 32.942978485594836}. Best is trial 10 with value: 0.7423925995826721.\n",
      "Default metric period is 5 because AUC is/are not implemented for GPU\n",
      "[I 2025-02-26 08:23:20,534] Trial 30 finished with value: 0.7414583563804626 and parameters: {'iterations': 2769, 'depth': 6, 'learning_rate': 0.0054505517891232326, 'l2_leaf_reg': 29.508756308739486}. Best is trial 10 with value: 0.7423925995826721.\n",
      "Default metric period is 5 because AUC is/are not implemented for GPU\n",
      "[I 2025-02-26 08:25:47,669] Trial 31 finished with value: 0.7423537373542786 and parameters: {'iterations': 2084, 'depth': 10, 'learning_rate': 0.008864782120775794, 'l2_leaf_reg': 92.05396607315241}. Best is trial 10 with value: 0.7423925995826721.\n",
      "Default metric period is 5 because AUC is/are not implemented for GPU\n",
      "[I 2025-02-26 08:27:48,276] Trial 32 finished with value: 0.7422113120555878 and parameters: {'iterations': 1834, 'depth': 10, 'learning_rate': 0.009753053433813823, 'l2_leaf_reg': 87.64221428599832}. Best is trial 10 with value: 0.7423925995826721.\n",
      "Default metric period is 5 because AUC is/are not implemented for GPU\n",
      "[I 2025-02-26 08:28:36,300] Trial 33 finished with value: 0.742074728012085 and parameters: {'iterations': 2086, 'depth': 9, 'learning_rate': 0.02422661772543412, 'l2_leaf_reg': 16.151503931342837}. Best is trial 10 with value: 0.7423925995826721.\n",
      "Default metric period is 5 because AUC is/are not implemented for GPU\n",
      "[I 2025-02-26 08:30:32,780] Trial 34 finished with value: 0.7421637177467346 and parameters: {'iterations': 2231, 'depth': 10, 'learning_rate': 0.009743482782143794, 'l2_leaf_reg': 43.61520013475245}. Best is trial 10 with value: 0.7423925995826721.\n",
      "Default metric period is 5 because AUC is/are not implemented for GPU\n",
      "[I 2025-02-26 08:31:33,516] Trial 35 finished with value: 0.7420928180217743 and parameters: {'iterations': 2373, 'depth': 9, 'learning_rate': 0.016259420985453674, 'l2_leaf_reg': 12.781812208053704}. Best is trial 10 with value: 0.7423925995826721.\n",
      "Default metric period is 5 because AUC is/are not implemented for GPU\n",
      "[I 2025-02-26 08:32:26,908] Trial 36 finished with value: 0.7422228455543518 and parameters: {'iterations': 2009, 'depth': 10, 'learning_rate': 0.033413885170184426, 'l2_leaf_reg': 95.73149498355852}. Best is trial 10 with value: 0.7423925995826721.\n",
      "Default metric period is 5 because AUC is/are not implemented for GPU\n",
      "[I 2025-02-26 08:33:40,239] Trial 37 finished with value: 0.7421574592590332 and parameters: {'iterations': 2457, 'depth': 8, 'learning_rate': 0.009617646823345882, 'l2_leaf_reg': 2.5209935773648073}. Best is trial 10 with value: 0.7423925995826721.\n",
      "Default metric period is 5 because AUC is/are not implemented for GPU\n",
      "[I 2025-02-26 08:34:12,750] Trial 38 finished with value: 0.7411748468875885 and parameters: {'iterations': 1828, 'depth': 10, 'learning_rate': 0.08029122983652684, 'l2_leaf_reg': 27.940981728512053}. Best is trial 10 with value: 0.7423925995826721.\n",
      "Default metric period is 5 because AUC is/are not implemented for GPU\n",
      "[I 2025-02-26 08:35:19,529] Trial 39 finished with value: 0.7413573563098907 and parameters: {'iterations': 1404, 'depth': 9, 'learning_rate': 0.005007767765663366, 'l2_leaf_reg': 41.354541450828336}. Best is trial 10 with value: 0.7423925995826721.\n",
      "Default metric period is 5 because AUC is/are not implemented for GPU\n",
      "[I 2025-02-26 08:36:01,537] Trial 40 finished with value: 0.7399612069129944 and parameters: {'iterations': 1042, 'depth': 10, 'learning_rate': 0.023980692845428336, 'l2_leaf_reg': 0.007754892006080744}. Best is trial 10 with value: 0.7423925995826721.\n",
      "Default metric period is 5 because AUC is/are not implemented for GPU\n",
      "[I 2025-02-26 08:36:49,484] Trial 41 finished with value: 0.7424355149269104 and parameters: {'iterations': 2039, 'depth': 10, 'learning_rate': 0.03351257794458408, 'l2_leaf_reg': 81.29583205939205}. Best is trial 41 with value: 0.7424355149269104.\n"
     ]
    },
    {
     "name": "stdout",
     "output_type": "stream",
     "text": [
      "저장 완료\n"
     ]
    },
    {
     "name": "stderr",
     "output_type": "stream",
     "text": [
      "Default metric period is 5 because AUC is/are not implemented for GPU\n",
      "[I 2025-02-26 08:37:40,058] Trial 42 finished with value: 0.7423241138458252 and parameters: {'iterations': 1712, 'depth': 10, 'learning_rate': 0.035733702779387866, 'l2_leaf_reg': 56.68991587405288}. Best is trial 41 with value: 0.7424355149269104.\n",
      "Default metric period is 5 because AUC is/are not implemented for GPU\n",
      "[I 2025-02-26 08:38:12,526] Trial 43 finished with value: 0.7421137094497681 and parameters: {'iterations': 1577, 'depth': 9, 'learning_rate': 0.04465885883848571, 'l2_leaf_reg': 51.690368761419485}. Best is trial 41 with value: 0.7424355149269104.\n",
      "Default metric period is 5 because AUC is/are not implemented for GPU\n",
      "[I 2025-02-26 08:38:59,221] Trial 44 finished with value: 0.741972953081131 and parameters: {'iterations': 1724, 'depth': 10, 'learning_rate': 0.034474480282936905, 'l2_leaf_reg': 6.022316161107618}. Best is trial 41 with value: 0.7424355149269104.\n",
      "Default metric period is 5 because AUC is/are not implemented for GPU\n",
      "[I 2025-02-26 08:39:14,212] Trial 45 finished with value: 0.7411282956600189 and parameters: {'iterations': 2069, 'depth': 6, 'learning_rate': 0.05230339119381318, 'l2_leaf_reg': 0.00010040994611295418}. Best is trial 41 with value: 0.7424355149269104.\n",
      "Default metric period is 5 because AUC is/are not implemented for GPU\n",
      "[I 2025-02-26 08:39:44,617] Trial 46 finished with value: 0.7417946755886078 and parameters: {'iterations': 1896, 'depth': 5, 'learning_rate': 0.03703892032938056, 'l2_leaf_reg': 19.497512718206515}. Best is trial 41 with value: 0.7424355149269104.\n",
      "Default metric period is 5 because AUC is/are not implemented for GPU\n",
      "[I 2025-02-26 08:40:05,120] Trial 47 finished with value: 0.7397749423980713 and parameters: {'iterations': 1671, 'depth': 9, 'learning_rate': 0.05828866710360085, 'l2_leaf_reg': 0.0005128211254689566}. Best is trial 41 with value: 0.7424355149269104.\n",
      "Default metric period is 5 because AUC is/are not implemented for GPU\n",
      "[I 2025-02-26 08:40:55,380] Trial 48 finished with value: 0.7418889403343201 and parameters: {'iterations': 1141, 'depth': 10, 'learning_rate': 0.031825721157963074, 'l2_leaf_reg': 10.063887882915257}. Best is trial 41 with value: 0.7424355149269104.\n",
      "Default metric period is 5 because AUC is/are not implemented for GPU\n",
      "[I 2025-02-26 08:41:39,164] Trial 49 finished with value: 0.7424016892910004 and parameters: {'iterations': 1481, 'depth': 10, 'learning_rate': 0.042690075021078536, 'l2_leaf_reg': 54.396501428077876}. Best is trial 41 with value: 0.7424355149269104.\n",
      "Default metric period is 5 because AUC is/are not implemented for GPU\n",
      "[I 2025-02-26 08:42:15,911] Trial 50 finished with value: 0.7419270277023315 and parameters: {'iterations': 1430, 'depth': 10, 'learning_rate': 0.044320404523587056, 'l2_leaf_reg': 53.335466831902956}. Best is trial 41 with value: 0.7424355149269104.\n",
      "Default metric period is 5 because AUC is/are not implemented for GPU\n",
      "[I 2025-02-26 08:42:58,204] Trial 51 finished with value: 0.7420259118080139 and parameters: {'iterations': 1489, 'depth': 10, 'learning_rate': 0.04061319277162702, 'l2_leaf_reg': 92.08432302545306}. Best is trial 41 with value: 0.7424355149269104.\n",
      "Default metric period is 5 because AUC is/are not implemented for GPU\n",
      "[I 2025-02-26 08:43:36,554] Trial 52 finished with value: 0.7417550086975098 and parameters: {'iterations': 2178, 'depth': 10, 'learning_rate': 0.047300503309352586, 'l2_leaf_reg': 27.527443943545162}. Best is trial 41 with value: 0.7424355149269104.\n",
      "Default metric period is 5 because AUC is/are not implemented for GPU\n",
      "[I 2025-02-26 08:44:28,039] Trial 53 finished with value: 0.7424670457839966 and parameters: {'iterations': 1236, 'depth': 9, 'learning_rate': 0.020689062920123704, 'l2_leaf_reg': 55.29318669505831}. Best is trial 53 with value: 0.7424670457839966.\n"
     ]
    },
    {
     "name": "stdout",
     "output_type": "stream",
     "text": [
      "저장 완료\n"
     ]
    },
    {
     "name": "stderr",
     "output_type": "stream",
     "text": [
      "Default metric period is 5 because AUC is/are not implemented for GPU\n",
      "[I 2025-02-26 08:45:12,523] Trial 54 finished with value: 0.7423774600028992 and parameters: {'iterations': 1619, 'depth': 9, 'learning_rate': 0.029640875073890287, 'l2_leaf_reg': 62.40082770963733}. Best is trial 53 with value: 0.7424670457839966.\n",
      "Default metric period is 5 because AUC is/are not implemented for GPU\n",
      "[I 2025-02-26 08:45:51,719] Trial 55 finished with value: 0.7419165372848511 and parameters: {'iterations': 1223, 'depth': 8, 'learning_rate': 0.019388103713593265, 'l2_leaf_reg': 8.466522001116092}. Best is trial 53 with value: 0.7424670457839966.\n",
      "Default metric period is 5 because AUC is/are not implemented for GPU\n",
      "[I 2025-02-26 08:46:39,352] Trial 56 finished with value: 0.7418176233768463 and parameters: {'iterations': 1217, 'depth': 9, 'learning_rate': 0.02695030730328686, 'l2_leaf_reg': 21.69721831924658}. Best is trial 53 with value: 0.7424670457839966.\n",
      "Default metric period is 5 because AUC is/are not implemented for GPU\n",
      "[I 2025-02-26 08:47:13,263] Trial 57 finished with value: 0.7424148619174957 and parameters: {'iterations': 1571, 'depth': 7, 'learning_rate': 0.029653249113780117, 'l2_leaf_reg': 98.86166612033573}. Best is trial 53 with value: 0.7424670457839966.\n",
      "Default metric period is 5 because AUC is/are not implemented for GPU\n",
      "[I 2025-02-26 08:47:43,651] Trial 58 finished with value: 0.7421259582042694 and parameters: {'iterations': 1607, 'depth': 7, 'learning_rate': 0.039580028748925494, 'l2_leaf_reg': 53.86062150041084}. Best is trial 53 with value: 0.7424670457839966.\n",
      "Default metric period is 5 because AUC is/are not implemented for GPU\n",
      "[I 2025-02-26 08:48:09,254] Trial 59 finished with value: 0.7418919801712036 and parameters: {'iterations': 1331, 'depth': 7, 'learning_rate': 0.03115766363650821, 'l2_leaf_reg': 11.899566877113381}. Best is trial 53 with value: 0.7424670457839966.\n",
      "[I 2025-02-26 08:48:09,272] A new study created in memory with name: no-name-e23bb38e-ee0d-4e80-b85c-fc823b83d775\n",
      "[I 2025-02-26 08:48:20,769] Trial 0 finished with value: 0.7366343597270097 and parameters: {'objective': 'binary', 'metric': 'auc', 'verbose': -1, 'random_state': 42, 'learning_rate': 0.028176029297306456, 'n_estimators': 2587, 'min_child_samples': 10, 'subsample': 0.9, 'colsample_bytree': 0.7}. Best is trial 0 with value: 0.7366343597270097.\n",
      "[I 2025-02-26 08:48:22,128] Trial 1 finished with value: 0.7333345992958494 and parameters: {'objective': 'binary', 'metric': 'auc', 'verbose': -1, 'random_state': 42, 'learning_rate': 0.005944336111080004, 'n_estimators': 120, 'min_child_samples': 10, 'subsample': 0.9, 'colsample_bytree': 0.5}. Best is trial 0 with value: 0.7366343597270097.\n",
      "[I 2025-02-26 08:48:25,025] Trial 2 finished with value: 0.7381444808589646 and parameters: {'objective': 'binary', 'metric': 'auc', 'verbose': -1, 'random_state': 42, 'learning_rate': 0.07957145920376708, 'n_estimators': 554, 'min_child_samples': 35, 'subsample': 0.5, 'colsample_bytree': 0.7}. Best is trial 2 with value: 0.7381444808589646.\n",
      "[I 2025-02-26 08:48:29,474] Trial 3 finished with value: 0.7403880074470377 and parameters: {'objective': 'binary', 'metric': 'auc', 'verbose': -1, 'random_state': 42, 'learning_rate': 0.007980814962048806, 'n_estimators': 568, 'min_child_samples': 50, 'subsample': 0.5, 'colsample_bytree': 0.5}. Best is trial 3 with value: 0.7403880074470377.\n",
      "[I 2025-02-26 08:48:31,571] Trial 4 finished with value: 0.7397769686564631 and parameters: {'objective': 'binary', 'metric': 'auc', 'verbose': -1, 'random_state': 42, 'learning_rate': 0.01599119727287282, 'n_estimators': 227, 'min_child_samples': 40, 'subsample': 0.6, 'colsample_bytree': 0.6}. Best is trial 3 with value: 0.7403880074470377.\n",
      "[I 2025-02-26 08:48:43,052] Trial 5 finished with value: 0.7407472335805722 and parameters: {'objective': 'binary', 'metric': 'auc', 'verbose': -1, 'random_state': 42, 'learning_rate': 0.010907507425244923, 'n_estimators': 2385, 'min_child_samples': 50, 'subsample': 0.6, 'colsample_bytree': 0.8}. Best is trial 5 with value: 0.7407472335805722.\n",
      "[I 2025-02-26 08:48:49,173] Trial 6 finished with value: 0.7339509972394601 and parameters: {'objective': 'binary', 'metric': 'auc', 'verbose': -1, 'random_state': 42, 'learning_rate': 0.0832688765336147, 'n_estimators': 1430, 'min_child_samples': 20, 'subsample': 0.7, 'colsample_bytree': 0.7}. Best is trial 5 with value: 0.7407472335805722.\n",
      "[I 2025-02-26 08:48:58,841] Trial 7 finished with value: 0.7362298807304403 and parameters: {'objective': 'binary', 'metric': 'auc', 'verbose': -1, 'random_state': 42, 'learning_rate': 0.03899678252089179, 'n_estimators': 2302, 'min_child_samples': 25, 'subsample': 0.7, 'colsample_bytree': 0.8}. Best is trial 5 with value: 0.7407472335805722.\n",
      "[I 2025-02-26 08:49:07,969] Trial 8 finished with value: 0.732755723368863 and parameters: {'objective': 'binary', 'metric': 'auc', 'verbose': -1, 'random_state': 42, 'learning_rate': 0.06174177473816209, 'n_estimators': 2024, 'min_child_samples': 10, 'subsample': 0.7, 'colsample_bytree': 0.6}. Best is trial 5 with value: 0.7407472335805722.\n",
      "[I 2025-02-26 08:49:16,195] Trial 9 finished with value: 0.7401655847189531 and parameters: {'objective': 'binary', 'metric': 'auc', 'verbose': -1, 'random_state': 42, 'learning_rate': 0.013735964154420877, 'n_estimators': 1705, 'min_child_samples': 10, 'subsample': 0.6, 'colsample_bytree': 0.8}. Best is trial 5 with value: 0.7407472335805722.\n",
      "[I 2025-02-26 08:49:29,614] Trial 10 finished with value: 0.7403647433994621 and parameters: {'objective': 'binary', 'metric': 'auc', 'verbose': -1, 'random_state': 42, 'learning_rate': 0.010294631376366912, 'n_estimators': 2874, 'min_child_samples': 50, 'subsample': 1.0, 'colsample_bytree': 1.0}. Best is trial 5 with value: 0.7407472335805722.\n",
      "[I 2025-02-26 08:49:36,615] Trial 11 finished with value: 0.7416660641426658 and parameters: {'objective': 'binary', 'metric': 'auc', 'verbose': -1, 'random_state': 42, 'learning_rate': 0.005852859854986708, 'n_estimators': 1083, 'min_child_samples': 50, 'subsample': 0.5, 'colsample_bytree': 0.9}. Best is trial 11 with value: 0.7416660641426658.\n",
      "[I 2025-02-26 08:49:44,251] Trial 12 finished with value: 0.741659481402428 and parameters: {'objective': 'binary', 'metric': 'auc', 'verbose': -1, 'random_state': 42, 'learning_rate': 0.005037597623428152, 'n_estimators': 1184, 'min_child_samples': 45, 'subsample': 0.5, 'colsample_bytree': 1.0}. Best is trial 11 with value: 0.7416660641426658.\n",
      "[I 2025-02-26 08:49:51,617] Trial 13 finished with value: 0.7415990647980001 and parameters: {'objective': 'binary', 'metric': 'auc', 'verbose': -1, 'random_state': 42, 'learning_rate': 0.005285060806411452, 'n_estimators': 1141, 'min_child_samples': 40, 'subsample': 0.5, 'colsample_bytree': 1.0}. Best is trial 11 with value: 0.7416660641426658.\n",
      "[I 2025-02-26 08:49:58,284] Trial 14 finished with value: 0.741355404092057 and parameters: {'objective': 'binary', 'metric': 'auc', 'verbose': -1, 'random_state': 42, 'learning_rate': 0.005131718790565893, 'n_estimators': 1006, 'min_child_samples': 40, 'subsample': 0.5, 'colsample_bytree': 0.9}. Best is trial 11 with value: 0.7416660641426658.\n",
      "[I 2025-02-26 08:50:04,527] Trial 15 finished with value: 0.741790055636669 and parameters: {'objective': 'binary', 'metric': 'auc', 'verbose': -1, 'random_state': 42, 'learning_rate': 0.00798983079798067, 'n_estimators': 1011, 'min_child_samples': 45, 'subsample': 0.8, 'colsample_bytree': 0.9}. Best is trial 15 with value: 0.741790055636669.\n",
      "[I 2025-02-26 08:50:08,935] Trial 16 finished with value: 0.7413450194915853 and parameters: {'objective': 'binary', 'metric': 'auc', 'verbose': -1, 'random_state': 42, 'learning_rate': 0.019017859911048606, 'n_estimators': 778, 'min_child_samples': 30, 'subsample': 0.8, 'colsample_bytree': 0.9}. Best is trial 15 with value: 0.741790055636669.\n",
      "[I 2025-02-26 08:50:17,852] Trial 17 finished with value: 0.7417847322378043 and parameters: {'objective': 'binary', 'metric': 'auc', 'verbose': -1, 'random_state': 42, 'learning_rate': 0.007950308130121726, 'n_estimators': 1642, 'min_child_samples': 45, 'subsample': 0.8, 'colsample_bytree': 0.9}. Best is trial 15 with value: 0.741790055636669.\n",
      "[I 2025-02-26 08:50:26,866] Trial 18 finished with value: 0.7415289747038443 and parameters: {'objective': 'binary', 'metric': 'auc', 'verbose': -1, 'random_state': 42, 'learning_rate': 0.00886811219358429, 'n_estimators': 1723, 'min_child_samples': 35, 'subsample': 0.8, 'colsample_bytree': 0.9}. Best is trial 15 with value: 0.741790055636669.\n",
      "[I 2025-02-26 08:50:33,780] Trial 19 finished with value: 0.739538980945728 and parameters: {'objective': 'binary', 'metric': 'auc', 'verbose': -1, 'random_state': 42, 'learning_rate': 0.02759114069433981, 'n_estimators': 1491, 'min_child_samples': 45, 'subsample': 0.9, 'colsample_bytree': 0.9}. Best is trial 15 with value: 0.741790055636669.\n",
      "[I 2025-02-26 08:50:44,149] Trial 20 finished with value: 0.7418974174682487 and parameters: {'objective': 'binary', 'metric': 'auc', 'verbose': -1, 'random_state': 42, 'learning_rate': 0.007873573719564948, 'n_estimators': 2022, 'min_child_samples': 45, 'subsample': 0.8, 'colsample_bytree': 1.0}. Best is trial 20 with value: 0.7418974174682487.\n",
      "[I 2025-02-26 08:50:54,548] Trial 21 finished with value: 0.7416563390080235 and parameters: {'objective': 'binary', 'metric': 'auc', 'verbose': -1, 'random_state': 42, 'learning_rate': 0.007632100233403791, 'n_estimators': 1990, 'min_child_samples': 45, 'subsample': 0.8, 'colsample_bytree': 1.0}. Best is trial 20 with value: 0.7418974174682487.\n",
      "[I 2025-02-26 08:51:03,688] Trial 22 finished with value: 0.7407743551059818 and parameters: {'objective': 'binary', 'metric': 'auc', 'verbose': -1, 'random_state': 42, 'learning_rate': 0.012047060688786946, 'n_estimators': 1884, 'min_child_samples': 35, 'subsample': 0.8, 'colsample_bytree': 1.0}. Best is trial 20 with value: 0.7418974174682487.\n",
      "[I 2025-02-26 08:51:11,562] Trial 23 finished with value: 0.7418257422724907 and parameters: {'objective': 'binary', 'metric': 'auc', 'verbose': -1, 'random_state': 42, 'learning_rate': 0.007584577975761296, 'n_estimators': 1402, 'min_child_samples': 45, 'subsample': 1.0, 'colsample_bytree': 0.9}. Best is trial 20 with value: 0.7418974174682487.\n",
      "[I 2025-02-26 08:51:18,073] Trial 24 finished with value: 0.741100508630898 and parameters: {'objective': 'binary', 'metric': 'auc', 'verbose': -1, 'random_state': 42, 'learning_rate': 0.015351896666096036, 'n_estimators': 1278, 'min_child_samples': 40, 'subsample': 1.0, 'colsample_bytree': 0.8}. Best is trial 20 with value: 0.7418974174682487.\n",
      "[I 2025-02-26 08:51:23,469] Trial 25 finished with value: 0.7416422717278894 and parameters: {'objective': 'binary', 'metric': 'auc', 'verbose': -1, 'random_state': 42, 'learning_rate': 0.0070926735956851755, 'n_estimators': 821, 'min_child_samples': 30, 'subsample': 0.9, 'colsample_bytree': 1.0}. Best is trial 20 with value: 0.7418974174682487.\n",
      "[I 2025-02-26 08:51:33,938] Trial 26 finished with value: 0.7408309976589758 and parameters: {'objective': 'binary', 'metric': 'auc', 'verbose': -1, 'random_state': 42, 'learning_rate': 0.009823466444989822, 'n_estimators': 2244, 'min_child_samples': 45, 'subsample': 1.0, 'colsample_bytree': 0.9}. Best is trial 20 with value: 0.7418974174682487.\n",
      "[I 2025-02-26 08:51:40,061] Trial 27 finished with value: 0.7403577276364808 and parameters: {'objective': 'binary', 'metric': 'auc', 'verbose': -1, 'random_state': 42, 'learning_rate': 0.020673111615251323, 'n_estimators': 1318, 'min_child_samples': 20, 'subsample': 0.9, 'colsample_bytree': 0.8}. Best is trial 20 with value: 0.7418974174682487.\n",
      "[I 2025-02-26 08:51:44,927] Trial 28 finished with value: 0.7416707797206153 and parameters: {'objective': 'binary', 'metric': 'auc', 'verbose': -1, 'random_state': 42, 'learning_rate': 0.01251598933060397, 'n_estimators': 875, 'min_child_samples': 35, 'subsample': 1.0, 'colsample_bytree': 1.0}. Best is trial 20 with value: 0.7418974174682487.\n",
      "[I 2025-02-26 08:51:56,665] Trial 29 finished with value: 0.7336287965368351 and parameters: {'objective': 'binary', 'metric': 'auc', 'verbose': -1, 'random_state': 42, 'learning_rate': 0.03705252645205728, 'n_estimators': 3000, 'min_child_samples': 40, 'subsample': 0.7, 'colsample_bytree': 0.9}. Best is trial 20 with value: 0.7418974174682487.\n",
      "[I 2025-02-26 08:52:09,316] Trial 30 finished with value: 0.7413827004156383 and parameters: {'objective': 'binary', 'metric': 'auc', 'verbose': -1, 'random_state': 42, 'learning_rate': 0.00693729346055945, 'n_estimators': 2540, 'min_child_samples': 50, 'subsample': 0.9, 'colsample_bytree': 1.0}. Best is trial 20 with value: 0.7418974174682487.\n",
      "[I 2025-02-26 08:52:18,344] Trial 31 finished with value: 0.741454224649339 and parameters: {'objective': 'binary', 'metric': 'auc', 'verbose': -1, 'random_state': 42, 'learning_rate': 0.008539112899838316, 'n_estimators': 1738, 'min_child_samples': 45, 'subsample': 0.8, 'colsample_bytree': 0.9}. Best is trial 20 with value: 0.7418974174682487.\n",
      "[I 2025-02-26 08:52:27,091] Trial 32 finished with value: 0.74174916875524 and parameters: {'objective': 'binary', 'metric': 'auc', 'verbose': -1, 'random_state': 42, 'learning_rate': 0.006351670680080154, 'n_estimators': 1548, 'min_child_samples': 45, 'subsample': 0.8, 'colsample_bytree': 0.9}. Best is trial 20 with value: 0.7418974174682487.\n",
      "[I 2025-02-26 08:52:37,811] Trial 33 finished with value: 0.741224531906387 and parameters: {'objective': 'binary', 'metric': 'auc', 'verbose': -1, 'random_state': 42, 'learning_rate': 0.009460771747003008, 'n_estimators': 2105, 'min_child_samples': 45, 'subsample': 0.9, 'colsample_bytree': 0.8}. Best is trial 20 with value: 0.7418974174682487.\n",
      "[I 2025-02-26 08:52:41,969] Trial 34 finished with value: 0.7410704234819414 and parameters: {'objective': 'binary', 'metric': 'auc', 'verbose': -1, 'random_state': 42, 'learning_rate': 0.0076228244062286335, 'n_estimators': 590, 'min_child_samples': 40, 'subsample': 0.7, 'colsample_bytree': 0.9}. Best is trial 20 with value: 0.7418974174682487.\n",
      "[I 2025-02-26 08:52:51,997] Trial 35 finished with value: 0.7413083516023907 and parameters: {'objective': 'binary', 'metric': 'auc', 'verbose': -1, 'random_state': 42, 'learning_rate': 0.006374397730380273, 'n_estimators': 1799, 'min_child_samples': 50, 'subsample': 0.8, 'colsample_bytree': 0.7}. Best is trial 20 with value: 0.7418974174682487.\n",
      "[I 2025-02-26 08:52:58,867] Trial 36 finished with value: 0.740693868493297 and parameters: {'objective': 'binary', 'metric': 'auc', 'verbose': -1, 'random_state': 42, 'learning_rate': 0.017110153704393984, 'n_estimators': 1352, 'min_child_samples': 35, 'subsample': 0.9, 'colsample_bytree': 1.0}. Best is trial 20 with value: 0.7418974174682487.\n",
      "[I 2025-02-26 08:53:07,789] Trial 37 finished with value: 0.7412959091507161 and parameters: {'objective': 'binary', 'metric': 'auc', 'verbose': -1, 'random_state': 42, 'learning_rate': 0.0117733169805775, 'n_estimators': 1600, 'min_child_samples': 50, 'subsample': 0.6, 'colsample_bytree': 0.6}. Best is trial 20 with value: 0.7418974174682487.\n",
      "[I 2025-02-26 08:53:09,901] Trial 38 finished with value: 0.7363702635257237 and parameters: {'objective': 'binary', 'metric': 'auc', 'verbose': -1, 'random_state': 42, 'learning_rate': 0.008361867299824929, 'n_estimators': 211, 'min_child_samples': 40, 'subsample': 0.7, 'colsample_bytree': 0.5}. Best is trial 20 with value: 0.7418974174682487.\n",
      "[I 2025-02-26 08:53:21,581] Trial 39 finished with value: 0.7416117535561894 and parameters: {'objective': 'binary', 'metric': 'auc', 'verbose': -1, 'random_state': 42, 'learning_rate': 0.006142168906580049, 'n_estimators': 2199, 'min_child_samples': 45, 'subsample': 0.9, 'colsample_bytree': 0.8}. Best is trial 20 with value: 0.7418974174682487.\n",
      "[I 2025-02-26 08:53:24,358] Trial 40 finished with value: 0.7415284701727578 and parameters: {'objective': 'binary', 'metric': 'auc', 'verbose': -1, 'random_state': 42, 'learning_rate': 0.026838676930327734, 'n_estimators': 443, 'min_child_samples': 25, 'subsample': 0.8, 'colsample_bytree': 0.9}. Best is trial 20 with value: 0.7418974174682487.\n",
      "[I 2025-02-26 08:53:32,961] Trial 41 finished with value: 0.7417206091175997 and parameters: {'objective': 'binary', 'metric': 'auc', 'verbose': -1, 'random_state': 42, 'learning_rate': 0.006547629836555132, 'n_estimators': 1528, 'min_child_samples': 45, 'subsample': 0.8, 'colsample_bytree': 0.9}. Best is trial 20 with value: 0.7418974174682487.\n",
      "[I 2025-02-26 08:53:41,209] Trial 42 finished with value: 0.7413142987129134 and parameters: {'objective': 'binary', 'metric': 'auc', 'verbose': -1, 'random_state': 42, 'learning_rate': 0.010437541364694826, 'n_estimators': 1574, 'min_child_samples': 50, 'subsample': 0.8, 'colsample_bytree': 0.8}. Best is trial 20 with value: 0.7418974174682487.\n",
      "[I 2025-02-26 08:53:50,479] Trial 43 finished with value: 0.7402009138130601 and parameters: {'objective': 'binary', 'metric': 'auc', 'verbose': -1, 'random_state': 42, 'learning_rate': 0.013784308890750245, 'n_estimators': 1901, 'min_child_samples': 45, 'subsample': 0.7, 'colsample_bytree': 0.9}. Best is trial 20 with value: 0.7418974174682487.\n",
      "[I 2025-02-26 08:53:56,423] Trial 44 finished with value: 0.7416095844697863 and parameters: {'objective': 'binary', 'metric': 'auc', 'verbose': -1, 'random_state': 42, 'learning_rate': 0.007730738453041958, 'n_estimators': 964, 'min_child_samples': 40, 'subsample': 0.8, 'colsample_bytree': 0.8}. Best is trial 20 with value: 0.7418974174682487.\n",
      "[I 2025-02-26 08:54:08,963] Trial 45 finished with value: 0.7412987496210058 and parameters: {'objective': 'binary', 'metric': 'auc', 'verbose': -1, 'random_state': 42, 'learning_rate': 0.005965588976089586, 'n_estimators': 2409, 'min_child_samples': 50, 'subsample': 0.7, 'colsample_bytree': 0.7}. Best is trial 20 with value: 0.7418974174682487.\n",
      "[I 2025-02-26 08:54:14,561] Trial 46 finished with value: 0.7373890508332153 and parameters: {'objective': 'binary', 'metric': 'auc', 'verbose': -1, 'random_state': 42, 'learning_rate': 0.05006250302728042, 'n_estimators': 1211, 'min_child_samples': 45, 'subsample': 0.9, 'colsample_bytree': 1.0}. Best is trial 20 with value: 0.7418974174682487.\n",
      "[I 2025-02-26 08:54:22,911] Trial 47 finished with value: 0.7416826342148034 and parameters: {'objective': 'binary', 'metric': 'auc', 'verbose': -1, 'random_state': 42, 'learning_rate': 0.005504466516143472, 'n_estimators': 1412, 'min_child_samples': 15, 'subsample': 1.0, 'colsample_bytree': 0.9}. Best is trial 20 with value: 0.7418974174682487.\n",
      "[I 2025-02-26 08:54:33,392] Trial 48 finished with value: 0.7409858767844509 and parameters: {'objective': 'binary', 'metric': 'auc', 'verbose': -1, 'random_state': 42, 'learning_rate': 0.009101360075352203, 'n_estimators': 2093, 'min_child_samples': 40, 'subsample': 0.6, 'colsample_bytree': 1.0}. Best is trial 20 with value: 0.7418974174682487.\n",
      "[I 2025-02-26 08:54:42,421] Trial 49 finished with value: 0.7416922600323027 and parameters: {'objective': 'binary', 'metric': 'auc', 'verbose': -1, 'random_state': 42, 'learning_rate': 0.0070167363751222935, 'n_estimators': 1628, 'min_child_samples': 50, 'subsample': 0.8, 'colsample_bytree': 0.9}. Best is trial 20 with value: 0.7418974174682487.\n",
      "[I 2025-02-26 08:54:48,478] Trial 50 finished with value: 0.7415018650964917 and parameters: {'objective': 'binary', 'metric': 'auc', 'verbose': -1, 'random_state': 42, 'learning_rate': 0.011347486310533193, 'n_estimators': 1091, 'min_child_samples': 35, 'subsample': 0.9, 'colsample_bytree': 1.0}. Best is trial 20 with value: 0.7418974174682487.\n",
      "[I 2025-02-26 08:54:54,890] Trial 51 finished with value: 0.7311645515028511 and parameters: {'objective': 'binary', 'metric': 'auc', 'verbose': -1, 'random_state': 42, 'learning_rate': 0.09859705659062341, 'n_estimators': 1484, 'min_child_samples': 45, 'subsample': 0.8, 'colsample_bytree': 0.9}. Best is trial 20 with value: 0.7418974174682487.\n",
      "[I 2025-02-26 08:55:04,288] Trial 52 finished with value: 0.7418514654125269 and parameters: {'objective': 'binary', 'metric': 'auc', 'verbose': -1, 'random_state': 42, 'learning_rate': 0.0064434535295209905, 'n_estimators': 1659, 'min_child_samples': 45, 'subsample': 0.8, 'colsample_bytree': 0.9}. Best is trial 20 with value: 0.7418974174682487.\n",
      "[I 2025-02-26 08:55:14,670] Trial 53 finished with value: 0.741562929248692 and parameters: {'objective': 'binary', 'metric': 'auc', 'verbose': -1, 'random_state': 42, 'learning_rate': 0.005827791304030393, 'n_estimators': 1857, 'min_child_samples': 45, 'subsample': 0.7, 'colsample_bytree': 0.8}. Best is trial 20 with value: 0.7418974174682487.\n",
      "[I 2025-02-26 08:55:24,531] Trial 54 finished with value: 0.7417937303709599 and parameters: {'objective': 'binary', 'metric': 'auc', 'verbose': -1, 'random_state': 42, 'learning_rate': 0.005051810110628856, 'n_estimators': 1655, 'min_child_samples': 40, 'subsample': 0.8, 'colsample_bytree': 0.9}. Best is trial 20 with value: 0.7418974174682487.\n",
      "[I 2025-02-26 08:55:35,613] Trial 55 finished with value: 0.7417550205213054 and parameters: {'objective': 'binary', 'metric': 'auc', 'verbose': -1, 'random_state': 42, 'learning_rate': 0.005142979906613389, 'n_estimators': 1978, 'min_child_samples': 40, 'subsample': 0.8, 'colsample_bytree': 0.9}. Best is trial 20 with value: 0.7418974174682487.\n",
      "[I 2025-02-26 08:55:44,878] Trial 56 finished with value: 0.74177654055985 and parameters: {'objective': 'binary', 'metric': 'auc', 'verbose': -1, 'random_state': 42, 'learning_rate': 0.0079823084058544, 'n_estimators': 1716, 'min_child_samples': 40, 'subsample': 0.8, 'colsample_bytree': 1.0}. Best is trial 20 with value: 0.7418974174682487.\n",
      "[I 2025-02-26 08:55:52,939] Trial 57 finished with value: 0.7416727779815324 and parameters: {'objective': 'binary', 'metric': 'auc', 'verbose': -1, 'random_state': 42, 'learning_rate': 0.007331344590727147, 'n_estimators': 1389, 'min_child_samples': 50, 'subsample': 0.7, 'colsample_bytree': 0.9}. Best is trial 20 with value: 0.7418974174682487.\n",
      "[I 2025-02-26 08:55:57,596] Trial 58 finished with value: 0.7418253092497472 and parameters: {'objective': 'binary', 'metric': 'auc', 'verbose': -1, 'random_state': 42, 'learning_rate': 0.010356365984901009, 'n_estimators': 706, 'min_child_samples': 45, 'subsample': 0.9, 'colsample_bytree': 0.9}. Best is trial 20 with value: 0.7418974174682487.\n",
      "[I 2025-02-26 08:56:01,930] Trial 59 finished with value: 0.7415448773647809 and parameters: {'objective': 'binary', 'metric': 'auc', 'verbose': -1, 'random_state': 42, 'learning_rate': 0.010418196621557897, 'n_estimators': 644, 'min_child_samples': 40, 'subsample': 1.0, 'colsample_bytree': 0.8}. Best is trial 20 with value: 0.7418974174682487.\n"
     ]
    },
    {
     "name": "stdout",
     "output_type": "stream",
     "text": [
      "Cat val score : 0.7424670410101937\n",
      "LGBM val score : 0.7418974174682487\n",
      "Ensemble val score : 0.742670291556994\n"
     ]
    },
    {
     "name": "stderr",
     "output_type": "stream",
     "text": [
      "[I 2025-02-26 08:56:13,411] A new study created in memory with name: no-name-7952d952-8760-47e2-b8ee-26cd17b96f1d\n"
     ]
    },
    {
     "name": "stdout",
     "output_type": "stream",
     "text": [
      "==================================================\n"
     ]
    },
    {
     "name": "stderr",
     "output_type": "stream",
     "text": [
      "Default metric period is 5 because AUC is/are not implemented for GPU\n",
      "[I 2025-02-26 08:57:46,279] Trial 0 finished with value: 0.74382483959198 and parameters: {'iterations': 2154, 'depth': 10, 'learning_rate': 0.01181021951839225, 'l2_leaf_reg': 9.980783802743254}. Best is trial 0 with value: 0.74382483959198.\n"
     ]
    },
    {
     "name": "stdout",
     "output_type": "stream",
     "text": [
      "저장 완료\n"
     ]
    },
    {
     "name": "stderr",
     "output_type": "stream",
     "text": [
      "Default metric period is 5 because AUC is/are not implemented for GPU\n",
      "[I 2025-02-26 08:58:10,826] Trial 1 finished with value: 0.742774248123169 and parameters: {'iterations': 1925, 'depth': 4, 'learning_rate': 0.005671430811678843, 'l2_leaf_reg': 0.00012325230809466137}. Best is trial 0 with value: 0.74382483959198.\n",
      "Default metric period is 5 because AUC is/are not implemented for GPU\n",
      "[I 2025-02-26 08:58:22,431] Trial 2 finished with value: 0.743937075138092 and parameters: {'iterations': 2380, 'depth': 4, 'learning_rate': 0.09275339199839054, 'l2_leaf_reg': 0.0008705394248343123}. Best is trial 2 with value: 0.743937075138092.\n"
     ]
    },
    {
     "name": "stdout",
     "output_type": "stream",
     "text": [
      "저장 완료\n"
     ]
    },
    {
     "name": "stderr",
     "output_type": "stream",
     "text": [
      "Default metric period is 5 because AUC is/are not implemented for GPU\n",
      "[I 2025-02-26 08:58:41,765] Trial 3 finished with value: 0.7443209886550903 and parameters: {'iterations': 2112, 'depth': 4, 'learning_rate': 0.04657568321363276, 'l2_leaf_reg': 0.0008640473331457248}. Best is trial 3 with value: 0.7443209886550903.\n"
     ]
    },
    {
     "name": "stdout",
     "output_type": "stream",
     "text": [
      "저장 완료\n"
     ]
    },
    {
     "name": "stderr",
     "output_type": "stream",
     "text": [
      "Default metric period is 5 because AUC is/are not implemented for GPU\n",
      "[I 2025-02-26 08:59:26,437] Trial 4 finished with value: 0.7423027157783508 and parameters: {'iterations': 1323, 'depth': 10, 'learning_rate': 0.012622767482095846, 'l2_leaf_reg': 0.00021158816350109617}. Best is trial 3 with value: 0.7443209886550903.\n",
      "Default metric period is 5 because AUC is/are not implemented for GPU\n",
      "[I 2025-02-26 08:59:40,042] Trial 5 finished with value: 0.7442975342273712 and parameters: {'iterations': 1776, 'depth': 4, 'learning_rate': 0.06995196593094148, 'l2_leaf_reg': 0.0018080296485396804}. Best is trial 3 with value: 0.7443209886550903.\n",
      "Default metric period is 5 because AUC is/are not implemented for GPU\n",
      "[I 2025-02-26 08:59:54,168] Trial 6 finished with value: 0.7444740831851959 and parameters: {'iterations': 1663, 'depth': 5, 'learning_rate': 0.07985155992831598, 'l2_leaf_reg': 62.52181000710482}. Best is trial 6 with value: 0.7444740831851959.\n"
     ]
    },
    {
     "name": "stdout",
     "output_type": "stream",
     "text": [
      "저장 완료\n"
     ]
    },
    {
     "name": "stderr",
     "output_type": "stream",
     "text": [
      "Default metric period is 5 because AUC is/are not implemented for GPU\n",
      "[I 2025-02-26 09:00:05,888] Trial 7 finished with value: 0.7439734637737274 and parameters: {'iterations': 1570, 'depth': 7, 'learning_rate': 0.0941937211034094, 'l2_leaf_reg': 0.05654822767791934}. Best is trial 6 with value: 0.7444740831851959.\n",
      "Default metric period is 5 because AUC is/are not implemented for GPU\n",
      "[I 2025-02-26 09:00:22,601] Trial 8 finished with value: 0.7445023059844971 and parameters: {'iterations': 1539, 'depth': 7, 'learning_rate': 0.05155602859187331, 'l2_leaf_reg': 1.299974533316308}. Best is trial 8 with value: 0.7445023059844971.\n"
     ]
    },
    {
     "name": "stdout",
     "output_type": "stream",
     "text": [
      "저장 완료\n"
     ]
    },
    {
     "name": "stderr",
     "output_type": "stream",
     "text": [
      "Default metric period is 5 because AUC is/are not implemented for GPU\n",
      "[I 2025-02-26 09:00:42,798] Trial 9 finished with value: 0.7444914281368256 and parameters: {'iterations': 2519, 'depth': 6, 'learning_rate': 0.03968704290444751, 'l2_leaf_reg': 0.30557194377967184}. Best is trial 8 with value: 0.7445023059844971.\n",
      "Default metric period is 5 because AUC is/are not implemented for GPU\n",
      "[I 2025-02-26 09:01:10,697] Trial 10 finished with value: 0.7445442080497742 and parameters: {'iterations': 2927, 'depth': 8, 'learning_rate': 0.03258011542250505, 'l2_leaf_reg': 0.8752604651231496}. Best is trial 10 with value: 0.7445442080497742.\n"
     ]
    },
    {
     "name": "stdout",
     "output_type": "stream",
     "text": [
      "저장 완료\n"
     ]
    },
    {
     "name": "stderr",
     "output_type": "stream",
     "text": [
      "Default metric period is 5 because AUC is/are not implemented for GPU\n",
      "[I 2025-02-26 09:01:36,777] Trial 11 finished with value: 0.7442271411418915 and parameters: {'iterations': 2991, 'depth': 8, 'learning_rate': 0.031221552622542382, 'l2_leaf_reg': 0.46739503854081216}. Best is trial 10 with value: 0.7445442080497742.\n",
      "Default metric period is 5 because AUC is/are not implemented for GPU\n",
      "[I 2025-02-26 09:01:58,291] Trial 12 finished with value: 0.7436114847660065 and parameters: {'iterations': 1087, 'depth': 8, 'learning_rate': 0.061287874640168535, 'l2_leaf_reg': 1.9319439873883537}. Best is trial 10 with value: 0.7445442080497742.\n",
      "Default metric period is 5 because AUC is/are not implemented for GPU\n",
      "[I 2025-02-26 09:02:25,549] Trial 13 finished with value: 0.7444091439247131 and parameters: {'iterations': 2967, 'depth': 8, 'learning_rate': 0.026319078501895434, 'l2_leaf_reg': 0.029382971845230567}. Best is trial 10 with value: 0.7445442080497742.\n",
      "Default metric period is 5 because AUC is/are not implemented for GPU\n",
      "[I 2025-02-26 09:02:40,075] Trial 14 finished with value: 0.7444896399974823 and parameters: {'iterations': 2672, 'depth': 7, 'learning_rate': 0.0536289472022267, 'l2_leaf_reg': 5.5421147552507835}. Best is trial 10 with value: 0.7445442080497742.\n",
      "Default metric period is 5 because AUC is/are not implemented for GPU\n",
      "[I 2025-02-26 09:03:10,911] Trial 15 finished with value: 0.7436680495738983 and parameters: {'iterations': 1330, 'depth': 9, 'learning_rate': 0.028386097706760694, 'l2_leaf_reg': 0.012224965996450458}. Best is trial 10 with value: 0.7445442080497742.\n",
      "Default metric period is 5 because AUC is/are not implemented for GPU\n",
      "[I 2025-02-26 09:03:34,173] Trial 16 finished with value: 0.744513750076294 and parameters: {'iterations': 1435, 'depth': 6, 'learning_rate': 0.04223216728079997, 'l2_leaf_reg': 0.8358313275560089}. Best is trial 10 with value: 0.7445442080497742.\n",
      "Default metric period is 5 because AUC is/are not implemented for GPU\n",
      "[I 2025-02-26 09:03:55,112] Trial 17 finished with value: 0.7445708513259888 and parameters: {'iterations': 1037, 'depth': 6, 'learning_rate': 0.03616606821066076, 'l2_leaf_reg': 42.807693678228034}. Best is trial 17 with value: 0.7445708513259888.\n"
     ]
    },
    {
     "name": "stdout",
     "output_type": "stream",
     "text": [
      "저장 완료\n"
     ]
    },
    {
     "name": "stderr",
     "output_type": "stream",
     "text": [
      "Default metric period is 5 because AUC is/are not implemented for GPU\n",
      "[I 2025-02-26 09:04:17,733] Trial 18 finished with value: 0.7446658611297607 and parameters: {'iterations': 1113, 'depth': 6, 'learning_rate': 0.020686151137756875, 'l2_leaf_reg': 70.6417419024992}. Best is trial 18 with value: 0.7446658611297607.\n"
     ]
    },
    {
     "name": "stdout",
     "output_type": "stream",
     "text": [
      "저장 완료\n"
     ]
    },
    {
     "name": "stderr",
     "output_type": "stream",
     "text": [
      "Default metric period is 5 because AUC is/are not implemented for GPU\n",
      "[I 2025-02-26 09:04:38,217] Trial 19 finished with value: 0.7447048723697662 and parameters: {'iterations': 1019, 'depth': 6, 'learning_rate': 0.020121716131861724, 'l2_leaf_reg': 88.6874874673684}. Best is trial 19 with value: 0.7447048723697662.\n"
     ]
    },
    {
     "name": "stdout",
     "output_type": "stream",
     "text": [
      "저장 완료\n"
     ]
    },
    {
     "name": "stderr",
     "output_type": "stream",
     "text": [
      "Default metric period is 5 because AUC is/are not implemented for GPU\n",
      "[I 2025-02-26 09:04:57,423] Trial 20 finished with value: 0.7443253397941589 and parameters: {'iterations': 1172, 'depth': 5, 'learning_rate': 0.019215377062259634, 'l2_leaf_reg': 98.94866926200773}. Best is trial 19 with value: 0.7447048723697662.\n",
      "Default metric period is 5 because AUC is/are not implemented for GPU\n",
      "[I 2025-02-26 09:05:17,921] Trial 21 finished with value: 0.7445991635322571 and parameters: {'iterations': 1009, 'depth': 6, 'learning_rate': 0.019888829951132843, 'l2_leaf_reg': 20.70442940062652}. Best is trial 19 with value: 0.7447048723697662.\n",
      "Default metric period is 5 because AUC is/are not implemented for GPU\n",
      "[I 2025-02-26 09:05:38,315] Trial 22 finished with value: 0.744391918182373 and parameters: {'iterations': 1242, 'depth': 5, 'learning_rate': 0.019492727110560146, 'l2_leaf_reg': 14.318273147569137}. Best is trial 19 with value: 0.7447048723697662.\n",
      "Default metric period is 5 because AUC is/are not implemented for GPU\n",
      "[I 2025-02-26 09:05:58,984] Trial 23 finished with value: 0.744601845741272 and parameters: {'iterations': 1029, 'depth': 6, 'learning_rate': 0.020387549441818135, 'l2_leaf_reg': 21.876934297719746}. Best is trial 19 with value: 0.7447048723697662.\n",
      "Default metric period is 5 because AUC is/are not implemented for GPU\n",
      "[I 2025-02-26 09:06:18,387] Trial 24 finished with value: 0.7428255677223206 and parameters: {'iterations': 1195, 'depth': 5, 'learning_rate': 0.006694121218854156, 'l2_leaf_reg': 5.833773079268492}. Best is trial 19 with value: 0.7447048723697662.\n",
      "Default metric period is 5 because AUC is/are not implemented for GPU\n",
      "[I 2025-02-26 09:06:44,460] Trial 25 finished with value: 0.7446866035461426 and parameters: {'iterations': 1413, 'depth': 6, 'learning_rate': 0.02358523980169921, 'l2_leaf_reg': 29.3813468946529}. Best is trial 19 with value: 0.7447048723697662.\n",
      "Default metric period is 5 because AUC is/are not implemented for GPU\n",
      "[I 2025-02-26 09:07:11,335] Trial 26 finished with value: 0.7444616854190826 and parameters: {'iterations': 1433, 'depth': 7, 'learning_rate': 0.02539701824068987, 'l2_leaf_reg': 3.1871624579384186}. Best is trial 19 with value: 0.7447048723697662.\n",
      "Default metric period is 5 because AUC is/are not implemented for GPU\n",
      "[I 2025-02-26 09:07:38,538] Trial 27 finished with value: 0.7440618276596069 and parameters: {'iterations': 1738, 'depth': 5, 'learning_rate': 0.012019911484658034, 'l2_leaf_reg': 39.65863937627641}. Best is trial 19 with value: 0.7447048723697662.\n",
      "Default metric period is 5 because AUC is/are not implemented for GPU\n",
      "[I 2025-02-26 09:07:54,963] Trial 28 finished with value: 0.7443731129169464 and parameters: {'iterations': 1450, 'depth': 6, 'learning_rate': 0.04487187412638423, 'l2_leaf_reg': 0.17821672959815266}. Best is trial 19 with value: 0.7447048723697662.\n",
      "Default metric period is 5 because AUC is/are not implemented for GPU\n",
      "[I 2025-02-26 09:08:41,594] Trial 29 finished with value: 0.7444058060646057 and parameters: {'iterations': 1895, 'depth': 7, 'learning_rate': 0.01399791358794834, 'l2_leaf_reg': 9.21992466141794}. Best is trial 19 with value: 0.7447048723697662.\n",
      "Default metric period is 5 because AUC is/are not implemented for GPU\n",
      "[I 2025-02-26 09:09:01,890] Trial 30 finished with value: 0.7445785403251648 and parameters: {'iterations': 1283, 'depth': 6, 'learning_rate': 0.03521298043357267, 'l2_leaf_reg': 94.66387227564965}. Best is trial 19 with value: 0.7447048723697662.\n",
      "Default metric period is 5 because AUC is/are not implemented for GPU\n",
      "[I 2025-02-26 09:09:25,100] Trial 31 finished with value: 0.7444795370101929 and parameters: {'iterations': 1143, 'depth': 6, 'learning_rate': 0.022231400499261804, 'l2_leaf_reg': 22.410704414656287}. Best is trial 19 with value: 0.7447048723697662.\n",
      "Default metric period is 5 because AUC is/are not implemented for GPU\n",
      "[I 2025-02-26 09:09:41,618] Trial 32 finished with value: 0.7415246069431305 and parameters: {'iterations': 1001, 'depth': 5, 'learning_rate': 0.00527799537042219, 'l2_leaf_reg': 27.202259419122484}. Best is trial 19 with value: 0.7447048723697662.\n",
      "Default metric period is 5 because AUC is/are not implemented for GPU\n",
      "[I 2025-02-26 09:10:11,317] Trial 33 finished with value: 0.7445826828479767 and parameters: {'iterations': 1150, 'depth': 7, 'learning_rate': 0.016545732585129945, 'l2_leaf_reg': 9.209562789291482}. Best is trial 19 with value: 0.7447048723697662.\n",
      "Default metric period is 5 because AUC is/are not implemented for GPU\n",
      "[I 2025-02-26 09:10:37,368] Trial 34 finished with value: 0.7448476552963257 and parameters: {'iterations': 1319, 'depth': 6, 'learning_rate': 0.025336344965480845, 'l2_leaf_reg': 2.8181542205197574}. Best is trial 34 with value: 0.7448476552963257.\n"
     ]
    },
    {
     "name": "stdout",
     "output_type": "stream",
     "text": [
      "저장 완료\n"
     ]
    },
    {
     "name": "stderr",
     "output_type": "stream",
     "text": [
      "Default metric period is 5 because AUC is/are not implemented for GPU\n",
      "[I 2025-02-26 09:10:59,737] Trial 35 finished with value: 0.7444490790367126 and parameters: {'iterations': 1373, 'depth': 5, 'learning_rate': 0.025985730122865112, 'l2_leaf_reg': 3.3712760558443984}. Best is trial 34 with value: 0.7448476552963257.\n",
      "Default metric period is 5 because AUC is/are not implemented for GPU\n",
      "[I 2025-02-26 09:11:27,811] Trial 36 finished with value: 0.7437692582607269 and parameters: {'iterations': 2191, 'depth': 4, 'learning_rate': 0.008159339360359662, 'l2_leaf_reg': 54.854746457380195}. Best is trial 34 with value: 0.7448476552963257.\n",
      "Default metric period is 5 because AUC is/are not implemented for GPU\n",
      "[I 2025-02-26 09:11:39,850] Trial 37 finished with value: 0.744493305683136 and parameters: {'iterations': 1599, 'depth': 6, 'learning_rate': 0.0875094905019923, 'l2_leaf_reg': 12.031104698340759}. Best is trial 34 with value: 0.7448476552963257.\n",
      "Default metric period is 5 because AUC is/are not implemented for GPU\n",
      "[I 2025-02-26 09:11:59,299] Trial 38 finished with value: 0.7442135810852051 and parameters: {'iterations': 1954, 'depth': 7, 'learning_rate': 0.037438066191774144, 'l2_leaf_reg': 53.232157443814486}. Best is trial 34 with value: 0.7448476552963257.\n",
      "Default metric period is 5 because AUC is/are not implemented for GPU\n",
      "[I 2025-02-26 09:12:16,028] Trial 39 finished with value: 0.7444596290588379 and parameters: {'iterations': 1273, 'depth': 4, 'learning_rate': 0.04958286440243116, 'l2_leaf_reg': 3.4363300644162336}. Best is trial 34 with value: 0.7448476552963257.\n",
      "Default metric period is 5 because AUC is/are not implemented for GPU\n",
      "[I 2025-02-26 09:12:34,291] Trial 40 finished with value: 0.7444738745689392 and parameters: {'iterations': 1514, 'depth': 5, 'learning_rate': 0.06240887096435207, 'l2_leaf_reg': 88.13887883670395}. Best is trial 34 with value: 0.7448476552963257.\n",
      "Default metric period is 5 because AUC is/are not implemented for GPU\n"
     ]
    }
   ],
   "source": [
    "for col in X.columns:\n",
    "    if X[col].dtype == 'object':  # 문자형이면 category로 변환\n",
    "        X[col] = X[col].astype('category')\n",
    "        test[col] = test[col].astype('category')\n",
    "\n",
    "seed = 4972\n",
    "\n",
    "test_pred_cat_total = []\n",
    "test_pred_lgbm_total = []\n",
    "\n",
    "val_pred_cat_total = []\n",
    "val_pred_lgbm_total = []\n",
    "\n",
    "y_val_total = []\n",
    "scores_total = []\n",
    "\n",
    "seed_everything(seed)\n",
    "cv = StratifiedKFold(n_splits = 10, random_state = seed, shuffle=True)\n",
    "\n",
    "cat_param_list = []\n",
    "lgbm_param_list = []\n",
    "\n",
    "for idx, (train_idx, val_idx) in enumerate(cv.split(X, y)):\n",
    "    print('='*50)\n",
    "    X_train, X_val = X.iloc[train_idx],X.iloc[val_idx]\n",
    "    y_train, y_val = y.iloc[train_idx], y.iloc[val_idx]\n",
    "    y_val_total.append(y_val)\n",
    "    best_val_auc = 0\n",
    "    best_model_path = \"./weight/cat_{}_fold_{}_drop.cbm\".format(seed, idx)\n",
    "    \n",
    "    sampler = TPESampler(seed=seed)\n",
    "    optuna_cat = optuna.create_study(direction='maximize', sampler=sampler)\n",
    "    optuna_cat.optimize(objective_cat, n_trials = 60)\n",
    "    cat_trial = optuna_cat.best_trial\n",
    "    cat_trial_params = cat_trial.params\n",
    "    cat_param_list.append(cat_trial_params)\n",
    "    \n",
    "    model = CatBoostClassifier()\n",
    "    #model = CatBoostClassifier(**cat_trial_params, auto_class_weights='Balanced', eval_metric='AUC', random_state=seed, task_type=\"GPU\" )\n",
    "    model.load_model(best_model_path)\n",
    "\n",
    "    sampler = TPESampler(seed=seed)\n",
    "    optuna_lgbm = optuna.create_study(direction='maximize', sampler=sampler)\n",
    "    optuna_lgbm.optimize(objective_lgbm, n_trials = 60)\n",
    "    lgbm_trial = optuna_lgbm.best_trial\n",
    "    lgbm_trial_params = lgbm_trial.params\n",
    "    lgbm_param_list.append(lgbm_trial_params)\n",
    "    #lgbm_trial_params =loaded_lgbm_params[idx]\n",
    "    #print(lgbm_trial_params)\n",
    "\n",
    "    class_weights = compute_class_weight(class_weight=\"balanced\", classes=np.unique(y), y=y_train)\n",
    "    class_weight_dict = {i: w for i, w in enumerate(class_weights)}\n",
    "\n",
    "    model_lgbm = lgb.LGBMClassifier(**lgbm_trial_params,class_weight=class_weight_dict)\n",
    "    #model_lgbm= lgb.LGBMClassifier(objective = 'binary', metric = 'auc', random_state =  seed, class_weight=class_weight_dict)\n",
    "    model_lgbm.fit(X_train, y_train, eval_set=[(X_val, y_val)],  categorical_feature=categorical_columns)\n",
    "\n",
    "    val_pred = model.predict_proba(X_val)[:, 1]\n",
    "    val_pred_lgbm = model_lgbm.predict_proba(X_val)[:, 1]\n",
    "    print('Cat val score : {}'.format(roc_auc_score(y_val,val_pred)))\n",
    "    print('LGBM val score : {}'.format(roc_auc_score(y_val,val_pred_lgbm)))\n",
    "    \n",
    "    val_pred_cat_total.append(val_pred)\n",
    "    val_pred_lgbm_total.append(val_pred_lgbm)\n",
    "\n",
    "    roc_val = roc_auc_score(y_val, (val_pred+val_pred_lgbm)/2)\n",
    "    scores_total.append(roc_val)\n",
    "    print('Ensemble val score : {}'.format(roc_val))\n",
    "\n",
    "    test_pred = model.predict_proba(test)[:, 1]\n",
    "    test_pred_lgbm = model_lgbm.predict_proba(test)[:, 1]\n",
    "    \n",
    "    test_pred_cat_total.append(test_pred)\n",
    "    test_pred_lgbm_total.append(test_pred_lgbm)"
   ]
  },
  {
   "attachments": {
    "7660ca30-1d27-45c7-95a8-2e05143e7d15.png": {
     "image/png": "[encoded data removed]"
    }
   },
   "cell_type": "markdown",
   "metadata": {},
   "source": [
    "![KakaoTalk_20250225_083028236.png](attachment:7660ca30-1d27-45c7-95a8-2e05143e7d15.png)"
   ]
  },
  {
   "cell_type": "code",
   "execution_count": 28,
   "metadata": {
    "colab": {
     "base_uri": "https://localhost:8080/"
    },
    "id": "LDLeh9IJD9pt",
    "outputId": "0534775f-2085-448a-d2aa-690a9e4e4ff4"
   },
   "outputs": [
    {
     "data": {
      "text/plain": [
       "(0.741239073366747,\n",
       " [0.7417935846702757,\n",
       "  0.7360960548968998,\n",
       "  0.7434291568583405,\n",
       "  0.7420413711387539,\n",
       "  0.7449296230304285,\n",
       "  0.7393761758389744,\n",
       "  0.7392285899106642,\n",
       "  0.7387813728205037,\n",
       "  0.742543048933485,\n",
       "  0.7441717555691441])"
      ]
     },
     "execution_count": 28,
     "metadata": {},
     "output_type": "execute_result"
    }
   ],
   "source": [
    "np.mean(scores_total), scores_total"
   ]
  },
  {
   "cell_type": "code",
   "execution_count": 29,
   "metadata": {},
   "outputs": [],
   "source": [
    "import json\n",
    "\n",
    "with open(\"cat_4972_61_params_drop.json\", \"w\") as f:\n",
    "    json.dump(cat_param_list, f)\n",
    "with open(\"lgbm_4972_61_params_drop.json\", \"w\") as f:\n",
    "    json.dump(lgbm_param_list, f)  \n",
    "\n",
    "with open(\"cat_4972_61_params_drop.json\", \"r\") as f:\n",
    "    loaded_cat_params = json.load(f)\n",
    "with open(\"lgbm_4972_61_params_drop.json\", \"r\") as f:\n",
    "    loaded_lgbm_params = json.load(f)\n"
   ]
  },
  {
   "cell_type": "code",
   "execution_count": 39,
   "metadata": {},
   "outputs": [
    {
     "name": "stdout",
     "output_type": "stream",
     "text": [
      "Ensemble val score : 0.7417301650112662\n",
      "Ensemble val score : 0.7434975343055984\n",
      "Ensemble val score : 0.7421075261032559\n",
      "Ensemble val score : 0.7450219223098333\n",
      "Ensemble val score : 0.7395031886057548\n",
      "Ensemble val score : 0.7392950387207469\n",
      "Ensemble val score : 0.7424982017444643\n",
      "Ensemble val score : 0.7441304901194978\n",
      "0.7422230083650523\n"
     ]
    }
   ],
   "source": [
    "cat_ratio, lgbm_ratio = 2,1\n",
    "total_ratio = cat_ratio + lgbm_ratio\n",
    "\n",
    "scores_ensemble_total = []\n",
    "test_pred_ensemble_total = []\n",
    "for i in range(10):\n",
    "    if i == 1 or i == 7 : continue\n",
    "    val_pred_cat_seed = val_pred_cat_total[i]\n",
    "    val_pred_lgbm_seed = val_pred_lgbm_total[i]\n",
    "    \n",
    "    test_pred_cat_seed = test_pred_cat_total[i]\n",
    "    test_pred_lgbm_seed = test_pred_lgbm_total[i]\n",
    "    \n",
    "    val_pred_ensemble = (val_pred_cat_seed*cat_ratio + val_pred_lgbm_seed*lgbm_ratio)/total_ratio\n",
    "    y_val_seed = y_val_total[i]\n",
    "    roc_val_seed = roc_auc_score(y_val_seed, val_pred_ensemble)\n",
    "    scores_ensemble_total.append(roc_val_seed)\n",
    "    print('Ensemble val score : {}'.format(roc_val_seed))\n",
    "    \n",
    "    test_pred_ensemble = (test_pred_cat_seed*cat_ratio + test_pred_lgbm_seed*lgbm_ratio)/total_ratio\n",
    "    test_pred_ensemble_total.append(test_pred_ensemble)\n",
    "print(np.mean(scores_ensemble_total))"
   ]
  },
  {
   "cell_type": "markdown",
   "metadata": {
    "tags": []
   },
   "source": [
    "(0.7413516703548163,  \n",
    " [0.7416970614740033,  \n",
    "  0.7360713495827292,  \n",
    "  0.7436572670087928,  \n",
    "  0.7423483802072097,  \n",
    "  0.7450811917576219,  \n",
    "  0.7391112105138649,  \n",
    "  0.7395745414603249,  \n",
    "  0.7393481890328634,  \n",
    "  0.7427205197515216,  \n",
    "  0.7439069927592319])  \n",
    "Ensemble val score : 0.7417583290258765  \n",
    "Ensemble val score : 0.7436850024073087  \n",
    "Ensemble val score : 0.7424082452879319  \n",
    "Ensemble val score : 0.7450999025735123  \n",
    "Ensemble val score : 0.7391714726832095  \n",
    "Ensemble val score : 0.7396881405734386  \n",
    "Ensemble val score : 0.7394793235795449  \n",
    "Ensemble val score : 0.7426435639764886  \n",
    "Ensemble val score : 0.7438747809301778  \n",
    "0.7419787512263876  \n",
    "**64feature 0.74107**  \n",
    "**Minsu 0.74121**"
   ]
  },
  {
   "cell_type": "markdown",
   "metadata": {},
   "source": [
    "#### 재현성 확인"
   ]
  },
  {
   "cell_type": "code",
   "execution_count": 64,
   "metadata": {
    "scrolled": true,
    "tags": []
   },
   "outputs": [
    {
     "name": "stdout",
     "output_type": "stream",
     "text": [
      "Seed 4972 Start!\n",
      "==================================================\n",
      "Ensemble val score : 0.7412874027187021\n",
      "==================================================\n",
      "Ensemble val score : 0.7359910980172637\n",
      "==================================================\n",
      "Ensemble val score : 0.7435771981220689\n",
      "==================================================\n",
      "Ensemble val score : 0.7424202770731925\n",
      "==================================================\n",
      "Ensemble val score : 0.7447806592045985\n",
      "==================================================\n",
      "Ensemble val score : 0.7390228185865049\n",
      "==================================================\n",
      "Ensemble val score : 0.7393987662107062\n",
      "==================================================\n",
      "Ensemble val score : 0.7390029085629748\n",
      "==================================================\n",
      "Ensemble val score : 0.7423530420276374\n",
      "==================================================\n",
      "Ensemble val score : 0.743797138191828\n"
     ]
    }
   ],
   "source": [
    "cat_ratio, lgbm_ratio= 2,1\n",
    "total_ratio = cat_ratio + lgbm_ratio\n",
    "for col in X.columns:\n",
    "    if X[col].dtype == 'object':  # 문자형이면 category로 변환\n",
    "        X[col] = X[col].astype('category')\n",
    "        test[col] = test[col].astype('category')\n",
    "seed = 4972\n",
    "\n",
    "test_pred_total2 = []\n",
    "scores_total2 = []\n",
    "seed_everything(seed)\n",
    "\n",
    "scores_ensemble_total = []\n",
    "print('Seed {} Start!'.format(seed))\n",
    "cv = StratifiedKFold(n_splits = 10, random_state = seed, shuffle=True)\n",
    "\n",
    "for idx, (train_idx, val_idx) in enumerate(cv.split(X, y)):\n",
    "    print('='*50)\n",
    "    X_train, X_val = X.iloc[train_idx],X.iloc[val_idx]\n",
    "    y_train, y_val = y.iloc[train_idx], y.iloc[val_idx]\n",
    "    \n",
    "    model = CatBoostClassifier()\n",
    "    model.load_model(\"./weight/cat_{}_fold_{}.cbm\".format(seed, idx))\n",
    "\n",
    "    lgbm_trial_params = loaded_lgbm_params[idx]\n",
    "    class_weights = compute_class_weight(class_weight=\"balanced\", classes=np.unique(y), y=y_train)\n",
    "    class_weight_dict = {i: w for i, w in enumerate(class_weights)}\n",
    "\n",
    "    model_lgbm = lgb.LGBMClassifier(**lgbm_trial_params,class_weight=class_weight_dict)\n",
    "    model_lgbm.fit(X_train, y_train, eval_set=[(X_val, y_val)],categorical_feature=categorical_columns)\n",
    "\n",
    "    val_pred = model.predict_proba(X_val)[:, 1]\n",
    "    val_pred_lgbm = model_lgbm.predict_proba(X_val)[:, 1]\n",
    "\n",
    "    val_pred_soft = (val_pred*cat_ratio+ val_pred_lgbm*lgbm_ratio)/total_ratio\n",
    "    \n",
    "    roc_val = roc_auc_score(y_val, val_pred_soft)\n",
    "    scores_total2.append(roc_val)\n",
    "    print('Ensemble val score : {}'.format(roc_val))\n",
    "\n",
    "    test_pred = model.predict_proba(test)[:, 1]\n",
    "    test_pred_lgbm = model_lgbm.predict_proba(test)[:, 1]\n",
    "    \n",
    "    test_pred_soft = (test_pred*cat_ratio+ test_pred_lgbm*lgbm_ratio)/total_ratio\n",
    "    test_pred_total2.append(test_pred_soft)"
   ]
  },
  {
   "cell_type": "code",
   "execution_count": 56,
   "metadata": {},
   "outputs": [
    {
     "data": {
      "text/plain": [
       "'(0.7410285683267562,\\n [0.7442710570520504,\\n  0.7332683388845695,\\n  0.7402746404910163,\\n  0.7474048789294263,\\n  0.744503392073965,\\n  0.7385745928912433,\\n  0.7373400205386942,\\n  0.7406626476744791,\\n  0.7424275715911872,\\n  0.7415585431409308])'"
      ]
     },
     "execution_count": 56,
     "metadata": {},
     "output_type": "execute_result"
    }
   ],
   "source": [
    "'''(0.7410285683267562,\n",
    " [0.7442710570520504,\n",
    "  0.7332683388845695,\n",
    "  0.7402746404910163,\n",
    "  0.7474048789294263,\n",
    "  0.744503392073965,\n",
    "  0.7385745928912433,\n",
    "  0.7373400205386942,\n",
    "  0.7406626476744791,\n",
    "  0.7424275715911872,\n",
    "  0.7415585431409308])'''"
   ]
  },
  {
   "cell_type": "code",
   "execution_count": 33,
   "metadata": {
    "colab": {
     "base_uri": "https://localhost:8080/",
     "height": 1000
    },
    "id": "n3IfZ6xH9a35",
    "outputId": "9a1c106b-3242-4e3c-dbb4-ea136c7205aa"
   },
   "outputs": [
    {
     "data": {
      "text/plain": [
       "Text(0.5, 1.0, 'Feature Importance')"
      ]
     },
     "execution_count": 33,
     "metadata": {},
     "output_type": "execute_result"
    },
    {
     "data": {
      "image/png": "[encoded data removed]",
      "text/plain": [
       "<Figure size 1200x1200 with 1 Axes>"
      ]
     },
     "metadata": {},
     "output_type": "display_data"
    }
   ],
   "source": [
    "feature_importance = model_lgbm.feature_importances_\n",
    "sorted_idx = np.argsort(feature_importance)\n",
    "fig = plt.figure(figsize=(12, 12))\n",
    "plt.barh(range(len(sorted_idx)), feature_importance[sorted_idx], align='center')\n",
    "plt.yticks(range(len(sorted_idx)), np.array(X.columns)[sorted_idx])\n",
    "plt.title('Feature Importance')"
   ]
  },
  {
   "cell_type": "code",
   "execution_count": 34,
   "metadata": {},
   "outputs": [
    {
     "data": {
      "text/plain": [
       "array(['시술 당시 나이', '이식된 배아 수', '시술 시기 코드', '배아 이식 경과일', '저장 배아 비율',\n",
       "       '수집된 신선 난자 수', '총 생성 배아 수', '배아 이식률', '미세주입 배아 생성률',\n",
       "       '클리닉 내 총 시술 횟수', '혼합된 난자 수', 'IVF 시술 횟수', '임신 성공률', '미세주입 배아 이식률',\n",
       "       '미세주입된 난자 수', '파트너 정자와 혼합된 난자 수', '총 시술 횟수', '저장된 배아 수',\n",
       "       '정자 기증자 나이', '불임 원인 - 남성 요인', '특정 시술 유형', '출산율',\n",
       "       '기증자 정자와 혼합된 난자 수', '난자 출처', '해동된 배아 수', '난자 기증자 나이', 'DI 시술 횟수',\n",
       "       '미세주입에서 생성된 배아 수', '불임 원인 - 난관 질환', 'PGS', '해동 난자 수',\n",
       "       '불임 원인 - 여성 요인', '단일 배아 이식 여부', '미세주입 후 저장된 배아 수', '해동 배아 생존율',\n",
       "       '배아 생성 주요 이유', '총 임신 횟수', '배란 자극 여부', '불임 원인 - 배란 장애', '불명확 불임 원인',\n",
       "       '파트너 정자 혼합 비율', '총 출산 횟수', 'IVF 임신 횟수', '정자 출처', '미세주입 배아 이식 수',\n",
       "       'PGD', '여성 불임 원인', '남성 불임 원인', '난자 혼합 경과일', '시술 유형',\n",
       "       '불임 원인 - 자궁내막증', 'DI 임신 횟수', '부부 불임 원인', 'IVF 출산 횟수', 'DI 출산 횟수',\n",
       "       '기증 배아 사용 여부', '대리모 여부', '신선 배아 사용 여부', '동결 배아 사용 여부',\n",
       "       '저장된 신선 난자 수', '불임 원인 - 정자 요인'], dtype=object)"
      ]
     },
     "execution_count": 34,
     "metadata": {},
     "output_type": "execute_result"
    }
   ],
   "source": [
    "np.array(X.columns)[sorted_idx][::-1]"
   ]
  },
  {
   "cell_type": "code",
   "execution_count": 40,
   "metadata": {
    "id": "zdqhyNyumAyx"
   },
   "outputs": [],
   "source": [
    "test_pred_total_mean = np.mean(test_pred_ensemble_total, axis=(0))"
   ]
  },
  {
   "cell_type": "code",
   "execution_count": 41,
   "metadata": {
    "colab": {
     "base_uri": "https://localhost:8080/",
     "height": 540
    },
    "id": "HHVwzBg8NEZK",
    "outputId": "7c5d38e1-affe-45e7-b863-372c9a868b84"
   },
   "outputs": [
    {
     "data": {
      "text/plain": [
       "(array([13540.,  2386.,  3465.,  6300.,  9422., 13408., 16818., 15281.,\n",
       "         8987.,   460.]),\n",
       " array([4.87204976e-04, 8.93422512e-02, 1.78197297e-01, 2.67052344e-01,\n",
       "        3.55907390e-01, 4.44762436e-01, 5.33617482e-01, 6.22472528e-01,\n",
       "        7.11327575e-01, 8.00182621e-01, 8.89037667e-01]),\n",
       " <BarContainer object of 10 artists>)"
      ]
     },
     "execution_count": 41,
     "metadata": {},
     "output_type": "execute_result"
    },
    {
     "data": {
      "image/png": "[encoded data removed]",
      "text/plain": [
       "<Figure size 640x480 with 1 Axes>"
      ]
     },
     "metadata": {},
     "output_type": "display_data"
    }
   ],
   "source": [
    "plt.hist(test_pred_total_mean)"
   ]
  },
  {
   "cell_type": "code",
   "execution_count": 42,
   "metadata": {
    "id": "KGlLsagWhQmz"
   },
   "outputs": [],
   "source": [
    "sample_submission = pd.read_csv('/work/home/ybchae/aimers/aimers_data/sample_submission.csv')\n",
    "sample_submission['probability'] = test_pred_total_mean"
   ]
  },
  {
   "cell_type": "code",
   "execution_count": 43,
   "metadata": {
    "id": "cRPfPmjigZCd"
   },
   "outputs": [],
   "source": [
    "sample_submission.to_csv('/work/home/ybchae/aimers/aimers_data/seed4972_61_8fold.csv', index=False)"
   ]
  },
  {
   "cell_type": "code",
   "execution_count": 44,
   "metadata": {},
   "outputs": [
    {
     "data": {
      "text/plain": [
       "(array([13524.,  2400.,  3325.,  6142.,  9271., 13285., 16861., 15179.,\n",
       "         9483.,   597.]),\n",
       " array([1.41450202e-04, 8.85355551e-02, 1.76929660e-01, 2.65323765e-01,\n",
       "        3.53717870e-01, 4.42111975e-01, 5.30506080e-01, 6.18900185e-01,\n",
       "        7.07294290e-01, 7.95688394e-01, 8.84082499e-01]),\n",
       " <BarContainer object of 10 artists>)"
      ]
     },
     "execution_count": 44,
     "metadata": {},
     "output_type": "execute_result"
    },
    {
     "data": {
      "image/png": "[encoded data removed]",
      "text/plain": [
       "<Figure size 640x480 with 1 Axes>"
      ]
     },
     "metadata": {},
     "output_type": "display_data"
    }
   ],
   "source": [
    "best_submission = pd.read_csv('/work/home/ybchae/aimers/aimers_data/Add_feature_Minsu_seed_trial60_8fold.csv')\n",
    "plt.hist(best_submission['probability'])"
   ]
  },
  {
   "cell_type": "code",
   "execution_count": null,
   "metadata": {},
   "outputs": [],
   "source": []
  }
 ],
 "metadata": {
  "accelerator": "GPU",
  "colab": {
   "gpuType": "T4",
   "provenance": []
  },
  "kernelspec": {
   "display_name": "Python 3 (ipykernel)",
   "language": "python",
   "name": "python3"
  },
  "language_info": {
   "codemirror_mode": {
    "name": "ipython",
    "version": 3
   },
   "file_extension": ".py",
   "mimetype": "text/x-python",
   "name": "python",
   "nbconvert_exporter": "python",
   "pygments_lexer": "ipython3",
   "version": "3.9.13"
  }
 },
 "nbformat": 4,
 "nbformat_minor": 4
}
