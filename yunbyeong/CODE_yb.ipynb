{
 "cells": [
  {
   "cell_type": "code",
   "execution_count": 1,
   "metadata": {
    "colab": {
     "base_uri": "https://localhost:8080/"
    },
    "id": "0_-E_OuZQXqu",
    "outputId": "8f5cbcbb-5086-4ead-c817-9fdb22e3533b"
   },
   "outputs": [],
   "source": [
    "import random\n",
    "import os\n",
    "import pandas as pd\n",
    "import numpy as np\n",
    "\n",
    "from matplotlib import pyplot as plt\n",
    "import seaborn as sns\n",
    "from catboost import CatBoostClassifier\n",
    "import lightgbm as lgb\n",
    "\n",
    "import optuna\n",
    "from optuna import Trial\n",
    "from optuna.samplers import TPESampler\n",
    "from sklearn.model_selection import StratifiedKFold\n",
    "from sklearn.metrics import roc_auc_score\n",
    "from sklearn.utils.class_weight import compute_class_weight\n",
    "\n",
    "import warnings\n",
    "\n",
    "warnings.filterwarnings('ignore')"
   ]
  },
  {
   "cell_type": "code",
   "execution_count": 2,
   "metadata": {
    "id": "u2FSTwmUIkF5"
   },
   "outputs": [],
   "source": [
    "def seed_everything(seed: int = 42):\n",
    "    random.seed(seed)\n",
    "    np.random.seed(seed)\n",
    "    os.environ[\"PYTHONHASHSEED\"] = str(seed)"
   ]
  },
  {
   "cell_type": "code",
   "execution_count": 5,
   "metadata": {
    "colab": {
     "base_uri": "https://localhost:8080/"
    },
    "id": "bbtq1EWyQcwX",
    "outputId": "ad146067-7509-44f2-ee26-cc8bc615473f"
   },
   "outputs": [
    {
     "data": {
      "text/plain": [
       "((256351, 68), (90067, 67))"
      ]
     },
     "execution_count": 5,
     "metadata": {},
     "output_type": "execute_result"
    }
   ],
   "source": [
    "train = pd.read_csv('/work/home/ybchae/aimers/aimers_data/train.csv').drop(columns=['ID'])\n",
    "test = pd.read_csv('/work/home/ybchae/aimers/aimers_data/test.csv').drop(columns=['ID'])\n",
    "train.shape, test.shape"
   ]
  },
  {
   "cell_type": "code",
   "execution_count": 6,
   "metadata": {
    "colab": {
     "base_uri": "https://localhost:8080/",
     "height": 444
    },
    "id": "oMlMq9njWkNB",
    "outputId": "cf2dd2c1-732f-4d8a-e177-fc78f6254652"
   },
   "outputs": [
    {
     "data": {
      "text/html": [
       "<div>\n",
       "<style scoped>\n",
       "    .dataframe tbody tr th:only-of-type {\n",
       "        vertical-align: middle;\n",
       "    }\n",
       "\n",
       "    .dataframe tbody tr th {\n",
       "        vertical-align: top;\n",
       "    }\n",
       "\n",
       "    .dataframe thead th {\n",
       "        text-align: right;\n",
       "    }\n",
       "</style>\n",
       "<table border=\"1\" class=\"dataframe\">\n",
       "  <thead>\n",
       "    <tr style=\"text-align: right;\">\n",
       "      <th></th>\n",
       "      <th>시술 시기 코드</th>\n",
       "      <th>시술 당시 나이</th>\n",
       "      <th>임신 시도 또는 마지막 임신 경과 연수</th>\n",
       "      <th>시술 유형</th>\n",
       "      <th>특정 시술 유형</th>\n",
       "      <th>배란 자극 여부</th>\n",
       "      <th>배란 유도 유형</th>\n",
       "      <th>단일 배아 이식 여부</th>\n",
       "      <th>착상 전 유전 검사 사용 여부</th>\n",
       "      <th>착상 전 유전 진단 사용 여부</th>\n",
       "      <th>...</th>\n",
       "      <th>기증 배아 사용 여부</th>\n",
       "      <th>대리모 여부</th>\n",
       "      <th>PGD 시술 여부</th>\n",
       "      <th>PGS 시술 여부</th>\n",
       "      <th>난자 채취 경과일</th>\n",
       "      <th>난자 해동 경과일</th>\n",
       "      <th>난자 혼합 경과일</th>\n",
       "      <th>배아 이식 경과일</th>\n",
       "      <th>배아 해동 경과일</th>\n",
       "      <th>임신 성공 여부</th>\n",
       "    </tr>\n",
       "  </thead>\n",
       "  <tbody>\n",
       "    <tr>\n",
       "      <th>0</th>\n",
       "      <td>TRZKPL</td>\n",
       "      <td>만18-34세</td>\n",
       "      <td>NaN</td>\n",
       "      <td>IVF</td>\n",
       "      <td>ICSI</td>\n",
       "      <td>1</td>\n",
       "      <td>기록되지 않은 시행</td>\n",
       "      <td>0.0</td>\n",
       "      <td>NaN</td>\n",
       "      <td>0.0</td>\n",
       "      <td>...</td>\n",
       "      <td>0.0</td>\n",
       "      <td>0.0</td>\n",
       "      <td>NaN</td>\n",
       "      <td>NaN</td>\n",
       "      <td>0.0</td>\n",
       "      <td>NaN</td>\n",
       "      <td>0.0</td>\n",
       "      <td>3.0</td>\n",
       "      <td>NaN</td>\n",
       "      <td>0</td>\n",
       "    </tr>\n",
       "    <tr>\n",
       "      <th>1</th>\n",
       "      <td>TRYBLT</td>\n",
       "      <td>만45-50세</td>\n",
       "      <td>NaN</td>\n",
       "      <td>IVF</td>\n",
       "      <td>ICSI</td>\n",
       "      <td>0</td>\n",
       "      <td>알 수 없음</td>\n",
       "      <td>0.0</td>\n",
       "      <td>NaN</td>\n",
       "      <td>0.0</td>\n",
       "      <td>...</td>\n",
       "      <td>0.0</td>\n",
       "      <td>0.0</td>\n",
       "      <td>NaN</td>\n",
       "      <td>NaN</td>\n",
       "      <td>0.0</td>\n",
       "      <td>NaN</td>\n",
       "      <td>0.0</td>\n",
       "      <td>NaN</td>\n",
       "      <td>NaN</td>\n",
       "      <td>0</td>\n",
       "    </tr>\n",
       "    <tr>\n",
       "      <th>2</th>\n",
       "      <td>TRVNRY</td>\n",
       "      <td>만18-34세</td>\n",
       "      <td>NaN</td>\n",
       "      <td>IVF</td>\n",
       "      <td>IVF</td>\n",
       "      <td>1</td>\n",
       "      <td>기록되지 않은 시행</td>\n",
       "      <td>0.0</td>\n",
       "      <td>NaN</td>\n",
       "      <td>0.0</td>\n",
       "      <td>...</td>\n",
       "      <td>0.0</td>\n",
       "      <td>0.0</td>\n",
       "      <td>NaN</td>\n",
       "      <td>NaN</td>\n",
       "      <td>0.0</td>\n",
       "      <td>NaN</td>\n",
       "      <td>0.0</td>\n",
       "      <td>2.0</td>\n",
       "      <td>NaN</td>\n",
       "      <td>0</td>\n",
       "    </tr>\n",
       "    <tr>\n",
       "      <th>3</th>\n",
       "      <td>TRJXFG</td>\n",
       "      <td>만35-37세</td>\n",
       "      <td>NaN</td>\n",
       "      <td>IVF</td>\n",
       "      <td>ICSI</td>\n",
       "      <td>1</td>\n",
       "      <td>기록되지 않은 시행</td>\n",
       "      <td>0.0</td>\n",
       "      <td>NaN</td>\n",
       "      <td>0.0</td>\n",
       "      <td>...</td>\n",
       "      <td>0.0</td>\n",
       "      <td>0.0</td>\n",
       "      <td>NaN</td>\n",
       "      <td>NaN</td>\n",
       "      <td>0.0</td>\n",
       "      <td>NaN</td>\n",
       "      <td>0.0</td>\n",
       "      <td>NaN</td>\n",
       "      <td>NaN</td>\n",
       "      <td>0</td>\n",
       "    </tr>\n",
       "    <tr>\n",
       "      <th>4</th>\n",
       "      <td>TRVNRY</td>\n",
       "      <td>만18-34세</td>\n",
       "      <td>NaN</td>\n",
       "      <td>IVF</td>\n",
       "      <td>ICSI</td>\n",
       "      <td>1</td>\n",
       "      <td>기록되지 않은 시행</td>\n",
       "      <td>0.0</td>\n",
       "      <td>NaN</td>\n",
       "      <td>0.0</td>\n",
       "      <td>...</td>\n",
       "      <td>0.0</td>\n",
       "      <td>0.0</td>\n",
       "      <td>NaN</td>\n",
       "      <td>NaN</td>\n",
       "      <td>0.0</td>\n",
       "      <td>NaN</td>\n",
       "      <td>0.0</td>\n",
       "      <td>3.0</td>\n",
       "      <td>NaN</td>\n",
       "      <td>0</td>\n",
       "    </tr>\n",
       "  </tbody>\n",
       "</table>\n",
       "<p>5 rows × 68 columns</p>\n",
       "</div>"
      ],
      "text/plain": [
       "  시술 시기 코드 시술 당시 나이  임신 시도 또는 마지막 임신 경과 연수 시술 유형 특정 시술 유형  배란 자극 여부  \\\n",
       "0   TRZKPL  만18-34세                    NaN   IVF     ICSI         1   \n",
       "1   TRYBLT  만45-50세                    NaN   IVF     ICSI         0   \n",
       "2   TRVNRY  만18-34세                    NaN   IVF      IVF         1   \n",
       "3   TRJXFG  만35-37세                    NaN   IVF     ICSI         1   \n",
       "4   TRVNRY  만18-34세                    NaN   IVF     ICSI         1   \n",
       "\n",
       "     배란 유도 유형  단일 배아 이식 여부  착상 전 유전 검사 사용 여부  착상 전 유전 진단 사용 여부  ...  \\\n",
       "0  기록되지 않은 시행          0.0               NaN               0.0  ...   \n",
       "1      알 수 없음          0.0               NaN               0.0  ...   \n",
       "2  기록되지 않은 시행          0.0               NaN               0.0  ...   \n",
       "3  기록되지 않은 시행          0.0               NaN               0.0  ...   \n",
       "4  기록되지 않은 시행          0.0               NaN               0.0  ...   \n",
       "\n",
       "   기증 배아 사용 여부  대리모 여부  PGD 시술 여부  PGS 시술 여부  난자 채취 경과일  난자 해동 경과일  난자 혼합 경과일  \\\n",
       "0          0.0     0.0        NaN        NaN        0.0        NaN        0.0   \n",
       "1          0.0     0.0        NaN        NaN        0.0        NaN        0.0   \n",
       "2          0.0     0.0        NaN        NaN        0.0        NaN        0.0   \n",
       "3          0.0     0.0        NaN        NaN        0.0        NaN        0.0   \n",
       "4          0.0     0.0        NaN        NaN        0.0        NaN        0.0   \n",
       "\n",
       "   배아 이식 경과일  배아 해동 경과일  임신 성공 여부  \n",
       "0        3.0        NaN         0  \n",
       "1        NaN        NaN         0  \n",
       "2        2.0        NaN         0  \n",
       "3        NaN        NaN         0  \n",
       "4        3.0        NaN         0  \n",
       "\n",
       "[5 rows x 68 columns]"
      ]
     },
     "execution_count": 6,
     "metadata": {},
     "output_type": "execute_result"
    }
   ],
   "source": [
    "train.head()"
   ]
  },
  {
   "cell_type": "code",
   "execution_count": 7,
   "metadata": {
    "colab": {
     "base_uri": "https://localhost:8080/",
     "height": 178
    },
    "id": "x7kj8pMWSpd9",
    "outputId": "11cdbca0-3097-42aa-dd4e-52d7070ff5c9"
   },
   "outputs": [
    {
     "data": {
      "text/plain": [
       "0    190123\n",
       "1     66228\n",
       "Name: 임신 성공 여부, dtype: int64"
      ]
     },
     "execution_count": 7,
     "metadata": {},
     "output_type": "execute_result"
    }
   ],
   "source": [
    "train['임신 성공 여부'].value_counts()"
   ]
  },
  {
   "cell_type": "code",
   "execution_count": 8,
   "metadata": {
    "colab": {
     "base_uri": "https://localhost:8080/",
     "height": 335
    },
    "id": "EsL6VCeI_Q4D",
    "outputId": "32bd81c0-f1bf-4f45-8b2a-54bf8e66c1d1"
   },
   "outputs": [
    {
     "data": {
      "text/plain": [
       "만18-34세    102476\n",
       "만35-37세     57780\n",
       "만38-39세     39247\n",
       "만40-42세     37348\n",
       "만43-44세     12253\n",
       "만45-50세      6918\n",
       "알 수 없음        329\n",
       "Name: 시술 당시 나이, dtype: int64"
      ]
     },
     "execution_count": 8,
     "metadata": {},
     "output_type": "execute_result"
    }
   ],
   "source": [
    "# train['시술 당시 나이'] = train['시술 당시 나이'].replace('알 수 없음','만35-37세')\n",
    "# test['시술 당시 나이'] = test['시술 당시 나이'].replace('알 수 없음','만35-37세')\n",
    "\n",
    "train['시술 당시 나이'].value_counts()"
   ]
  },
  {
   "cell_type": "code",
   "execution_count": 9,
   "metadata": {
    "colab": {
     "base_uri": "https://localhost:8080/"
    },
    "id": "4xu4wqTwWgEO",
    "outputId": "8b21d1a6-d5ee-46ea-ab34-c6c2ec30bb19"
   },
   "outputs": [
    {
     "data": {
      "text/plain": [
       "((256351, 66), (90067, 65))"
      ]
     },
     "execution_count": 9,
     "metadata": {},
     "output_type": "execute_result"
    }
   ],
   "source": [
    "# drop_columns = ['착상 전 유전 검사 사용 여부',\n",
    "#                 'PGD 시술 여부', 'PGS 시술 여부', '난자 해동 경과일'] + ['배란 유도 유형', '불임 원인 - 자궁경부 문제', '불임 원인 - 정자 면역학적 요인','불임 원인 - 정자 운동성', '불임 원인 - 정자 형태']#\n",
    "drop_columns = ['난자 해동 경과일', '배란 유도 유형']\n",
    "train.drop(columns=drop_columns, inplace=True)\n",
    "test.drop(columns=drop_columns, inplace=True)\n",
    "\n",
    "train.shape, test.shape"
   ]
  },
  {
   "cell_type": "code",
   "execution_count": 10,
   "metadata": {
    "id": "q5k1E_a8a6LH"
   },
   "outputs": [],
   "source": [
    "nan_col_list = ['착상 전 유전 검사 사용 여부','PGD 시술 여부', 'PGS 시술 여부']\n",
    "for col in nan_col_list:\n",
    "    train[col] = train[col].fillna(0)\n",
    "    test[col] = test[col].fillna(0)"
   ]
  },
  {
   "cell_type": "code",
   "execution_count": 11,
   "metadata": {
    "colab": {
     "base_uri": "https://localhost:8080/"
    },
    "id": "_Q-1vJvMZVdO",
    "outputId": "c00dc096-9bb5-4d60-f38f-4908c4f8c858"
   },
   "outputs": [],
   "source": [
    "drop_columns2 = []\n",
    "for col in train.columns:\n",
    "    if len(train[col].value_counts()) == 1:\n",
    "        drop_columns2.append(col)"
   ]
  },
  {
   "cell_type": "code",
   "execution_count": 12,
   "metadata": {
    "colab": {
     "base_uri": "https://localhost:8080/"
    },
    "id": "Eb_P6B2RarRm",
    "outputId": "8648f15e-8a85-49bb-fb00-a83582492051"
   },
   "outputs": [
    {
     "name": "stdout",
     "output_type": "stream",
     "text": [
      "['불임 원인 - 여성 요인', '난자 채취 경과일']\n"
     ]
    },
    {
     "data": {
      "text/plain": [
       "((256351, 64), (90067, 63))"
      ]
     },
     "execution_count": 12,
     "metadata": {},
     "output_type": "execute_result"
    }
   ],
   "source": [
    "print(drop_columns2)\n",
    "train.drop(columns=drop_columns2, inplace=True)\n",
    "test.drop(columns=drop_columns2, inplace=True)\n",
    "\n",
    "train.shape, test.shape"
   ]
  },
  {
   "cell_type": "code",
   "execution_count": 13,
   "metadata": {
    "id": "YjAuM-pa6Ewz"
   },
   "outputs": [],
   "source": [
    "cat_to_int_dict = {'6회 이상' : 6, '5회' : 5, '4회' : 4, '3회' : 3, '2회' : 2, '1회' : 1, '0회' : 0}\n",
    "\n",
    "cat_to_int_columns = ['총 시술 횟수', '클리닉 내 총 시술 횟수', 'IVF 시술 횟수','DI 시술 횟수', 'DI 임신 횟수' ,'DI 출산 횟수',\n",
    "                      '총 임신 횟수', 'IVF 임신 횟수', '총 출산 횟수', 'IVF 출산 횟수'] #\n",
    "for col in cat_to_int_columns:\n",
    "    train[col] = train[col].map(cat_to_int_dict)\n",
    "    test[col] = test[col].map(cat_to_int_dict)"
   ]
  },
  {
   "cell_type": "code",
   "execution_count": 14,
   "metadata": {
    "id": "f-mBaoLO4ffA"
   },
   "outputs": [],
   "source": [
    "procedure_encoding_dict = {'ICSI' : 'ICSI', 'IVF' : 'IVF', 'Unknown' : 'Unknown','IUI' : 'IUI',\n",
    "                           'ICSI:ICSI' : 'ICSI', 'ICSI / BLASTOCYST ' : 'ICSI / BLASTOCYST',\n",
    "                           'IVF / BLASTOCYST' : 'IVF / BLASTOCYST','IVF:IVF' : 'IVF','ICSI:IVF' : 'ICSI:IVF',\n",
    "                           'ICSI / AH' : 'ICSI / AH','IVF:ICSI' : 'ICSI:IVF', 'IVF / AH' : 'IVF / AH',\n",
    "                           'ICSI:Unknown' : 'ICSI', 'IVF:Unknown' : 'IVF', 'ICI' : 'ICI','Generic DI' : 'Generic DI',\n",
    "                           'IVI' : 'IVI','ICSI / BLASTOCYST:IVF / BLASTOCYST' : 'ICSI / BLASTOCYST:IVF / BLASTOCYST',\n",
    "                           'ICSI / BLASTOCYST :IVF / BLASTOCYST': 'ICSI / BLASTOCYST:IVF / BLASTOCYST','FER' : 'FER',\n",
    "                           'IVF / AH:ICSI / AH' : 'IVF / AH:ICSI / AH','GIFT':'GIFT','ICSI / AH:Unknown' : 'ICSI / AH',\n",
    "                           'ICSI / BLASTOCYST :ICSI' : 'ICSI / BLASTOCYST', 'IUI:ICI' : 'IUI:ICI',\n",
    "                           'IVF:Unknown:Unknown:Unknown' : 'IVF'}\n",
    "\n",
    "train['특정 시술 유형'] = train['특정 시술 유형'].map(procedure_encoding_dict)\n",
    "test['특정 시술 유형'] = test['특정 시술 유형'].map(procedure_encoding_dict)"
   ]
  },
  {
   "cell_type": "code",
   "execution_count": 15,
   "metadata": {
    "id": "UEU77iWib0U_"
   },
   "outputs": [],
   "source": [
    "train['불임 원인 - 정자 요인'] = train['불임 원인 - 정자 면역학적 요인'] + train['불임 원인 - 정자 운동성'] + train['불임 원인 - 정자 농도']  + train['불임 원인 - 정자 형태']\n",
    "test['불임 원인 - 정자 요인'] = test['불임 원인 - 정자 면역학적 요인'] + test['불임 원인 - 정자 운동성'] + test['불임 원인 - 정자 농도'] + test['불임 원인 - 정자 형태']\n",
    "train['불임 원인 - 여성 요인'] = train['불임 원인 - 자궁경부 문제'] + train['불임 원인 - 자궁내막증'] + train['불임 원인 - 배란 장애'] + train['불임 원인 - 난관 질환']\n",
    "test['불임 원인 - 여성 요인'] = test['불임 원인 - 자궁경부 문제'] + test['불임 원인 - 자궁내막증'] + test['불임 원인 - 배란 장애'] + test['불임 원인 - 난관 질환']\n",
    "\n",
    "train['남성 불임 원인'] = train['남성 주 불임 원인'] + train['남성 부 불임 원인']\n",
    "test['남성 불임 원인'] = test['남성 주 불임 원인'] + test['남성 부 불임 원인']\n",
    "train['여성 불임 원인'] = train['여성 주 불임 원인'] + train['여성 부 불임 원인']\n",
    "test['여성 불임 원인'] = test['여성 주 불임 원인'] + test['여성 부 불임 원인']\n",
    "train['부부 불임 원인'] = train['부부 주 불임 원인'] + train['부부 부 불임 원인']\n",
    "test['부부 불임 원인'] = test['부부 주 불임 원인'] + test['부부 부 불임 원인']\n",
    "\n",
    "\n",
    "drop_columns3 = ['불임 원인 - 정자 면역학적 요인', '불임 원인 - 정자 운동성', '불임 원인 - 정자 형태', '불임 원인 - 자궁경부 문제',\n",
    "                 '남성 주 불임 원인', '남성 부 불임 원인', '여성 주 불임 원인', '여성 부 불임 원인',\n",
    "                 '부부 주 불임 원인', '부부 부 불임 원인']\n",
    "train.drop(columns=drop_columns3, inplace=True)\n",
    "test.drop(columns=drop_columns3, inplace=True)"
   ]
  },
  {
   "cell_type": "code",
   "execution_count": 104,
   "metadata": {
    "colab": {
     "base_uri": "https://localhost:8080/"
    },
    "id": "kjEBmjSkbL5j",
    "outputId": "b3db516d-031e-42fc-89bb-a3218d8bd879"
   },
   "outputs": [
    {
     "data": {
      "text/plain": [
       "Index(['시술 시기 코드', '시술 당시 나이', '임신 시도 또는 마지막 임신 경과 연수', '시술 유형', '특정 시술 유형',\n",
       "       '배란 자극 여부', '단일 배아 이식 여부', '착상 전 유전 검사 사용 여부', '착상 전 유전 진단 사용 여부',\n",
       "       '불명확 불임 원인', '불임 원인 - 난관 질환', '불임 원인 - 남성 요인', '불임 원인 - 배란 장애',\n",
       "       '불임 원인 - 자궁내막증', '불임 원인 - 정자 농도', '배아 생성 주요 이유', '총 시술 횟수',\n",
       "       '클리닉 내 총 시술 횟수', 'IVF 시술 횟수', 'DI 시술 횟수', '총 임신 횟수', 'IVF 임신 횟수',\n",
       "       'DI 임신 횟수', '총 출산 횟수', 'IVF 출산 횟수', 'DI 출산 횟수', '총 생성 배아 수',\n",
       "       '미세주입된 난자 수', '미세주입에서 생성된 배아 수', '이식된 배아 수', '미세주입 배아 이식 수', '저장된 배아 수',\n",
       "       '미세주입 후 저장된 배아 수', '해동된 배아 수', '해동 난자 수', '수집된 신선 난자 수', '저장된 신선 난자 수',\n",
       "       '혼합된 난자 수', '파트너 정자와 혼합된 난자 수', '기증자 정자와 혼합된 난자 수', '난자 출처', '정자 출처',\n",
       "       '난자 기증자 나이', '정자 기증자 나이', '동결 배아 사용 여부', '신선 배아 사용 여부', '기증 배아 사용 여부',\n",
       "       '대리모 여부', 'PGD 시술 여부', 'PGS 시술 여부', '난자 혼합 경과일', '배아 이식 경과일',\n",
       "       '배아 해동 경과일', '임신 성공 여부', '불임 원인 - 정자 요인', '불임 원인 - 여성 요인', '남성 불임 원인',\n",
       "       '여성 불임 원인', '부부 불임 원인'],\n",
       "      dtype='object')"
      ]
     },
     "execution_count": 104,
     "metadata": {},
     "output_type": "execute_result"
    }
   ],
   "source": [
    "train.columns"
   ]
  },
  {
   "cell_type": "code",
   "execution_count": 16,
   "metadata": {
    "id": "64dAkKrBayFA"
   },
   "outputs": [],
   "source": [
    "# categorical_columns = [\"시술 시기 코드\",\"시술 당시 나이\", \"시술 유형\", \"특정 시술 유형\",\"배란 자극 여부\",\n",
    "                      #  \"단일 배아 이식 여부\",\"착상 전 유전 진단 사용 여부\",\n",
    "                      #  \"남성 주 불임 원인\",\"남성 부 불임 원인\",\"여성 주 불임 원인\",\"여성 부 불임 원인\",\n",
    "                      #  \"부부 주 불임 원인\",\"부부 부 불임 원인\",\"불명확 불임 원인\",\"불임 원인 - 난관 질환\",\n",
    "                      #  \"불임 원인 - 남성 요인\",\"불임 원인 - 배란 장애\",\"불임 원인 - 자궁경부 문제\",\"불임 원인 - 자궁내막증\",\n",
    "                      #  \"불임 원인 - 정자 농도\",\"불임 원인 - 정자 면역학적 요인\",\"불임 원인 - 정자 운동성\",\"불임 원인 - 정자 형태\",\n",
    "                      #  \"배아 생성 주요 이유\",\"총 시술 횟수\",\"클리닉 내 총 시술 횟수\",\"IVF 시술 횟수\",\"DI 시술 횟수\",\n",
    "                      #  \"총 임신 횟수\",\"IVF 임신 횟수\",\"DI 임신 횟수\",\"총 출산 횟수\",\"IVF 출산 횟수\",\"DI 출산 횟수\",\n",
    "                      #  \"난자 출처\",\"정자 출처\",\"난자 기증자 나이\",\"정자 기증자 나이\",\n",
    "                      #  \"동결 배아 사용 여부\",\"신선 배아 사용 여부\",\"기증 배아 사용 여부\",\"대리모 여부\"]\n",
    "categorical_columns =  [\"시술 시기 코드\",\"시술 당시 나이\",\"시술 유형\", \"특정 시술 유형\",\n",
    "                        \"배란 자극 여부\", \"단일 배아 이식 여부\", '착상 전 유전 검사 사용 여부',\"착상 전 유전 진단 사용 여부\",\n",
    "                       \"불명확 불임 원인\",\"배아 생성 주요 이유\",\n",
    "                        \"불임 원인 - 난관 질환\",\"불임 원인 - 남성 요인\",\"불임 원인 - 배란 장애\",\n",
    "                        \"불임 원인 - 자궁내막증\",'불임 원인 - 정자 농도',\"난자 출처\",\"정자 출처\",\"난자 기증자 나이\",\"정자 기증자 나이\",\n",
    "                       \"동결 배아 사용 여부\",\"신선 배아 사용 여부\", '기증 배아 사용 여부',\"대리모 여부\",\n",
    "                        'PGD 시술 여부', 'PGS 시술 여부', '불임 원인 - 정자 요인', '불임 원인 - 여성 요인',  '남성 불임 원인', '여성 불임 원인', '부부 불임 원인'] #\n",
    "# \"남성 주 불임 원인\",\"남성 부 불임 원인\",\"여성 주 불임 원인\",\"여성 부 불임 원인\",\n",
    "#                       \"부부 주 불임 원인\",\"부부 부 불임 원인\",\n",
    "\n",
    "for col in categorical_columns:\n",
    "    if train[col].isna().sum() > 0 or test[col].isna().sum() > 0 :\n",
    "\n",
    "      mode_value = train[col].mode()[0]\n",
    "      train[col].fillna(mode_value, inplace=True)  # 최빈값으로 대체\n",
    "      test[col].fillna(mode_value, inplace = True)\n",
    "    train[col] = train[col].astype(str)\n",
    "    test[col] = test[col].astype(str)\n",
    "    #encoder = ce.OrdinalEncoder(handle_unknown='impute')\n",
    "    #encoder.fit(train[col])\n",
    "    #train[col] = encoder.transform(train[col])\n",
    "    #test[col] = encoder.transform(test[col])\n",
    "\n",
    "numeric_columns = [ '임신 시도 또는 마지막 임신 경과 연수',\"총 시술 횟수\",\"클리닉 내 총 시술 횟수\",\"IVF 시술 횟수\",\"DI 시술 횟수\",\n",
    "                   \"총 임신 횟수\",\"IVF 임신 횟수\",\"DI 임신 횟수\",\"총 출산 횟수\",\"IVF 출산 횟수\",\"DI 출산 횟수\",\n",
    "                    '총 생성 배아 수','미세주입된 난자 수', '미세주입에서 생성된 배아 수', '이식된 배아 수', '미세주입 배아 이식 수', '저장된 배아 수',\n",
    "       '미세주입 후 저장된 배아 수', '해동된 배아 수', '해동 난자 수', '수집된 신선 난자 수', '저장된 신선 난자 수',\n",
    "       '혼합된 난자 수', '파트너 정자와 혼합된 난자 수', '기증자 정자와 혼합된 난자 수', '난자 혼합 경과일', '배아 이식 경과일', '배아 해동 경과일'] #\n",
    "\n",
    "# numeric_columns = [\"총 생성 배아 수\",\"미세주입된 난자 수\",\"미세주입에서 생성된 배아 수\",\n",
    "#                    \"이식된 배아 수\",\"미세주입 배아 이식 수\",\"저장된 배아 수\",\"미세주입 후 저장된 배아 수\",\n",
    "#                    \"수집된 신선 난자 수\",\"혼합된 난자 수\",\"파트너 정자와 혼합된 난자 수\",\n",
    "#                    \"기증자 정자와 혼합된 난자 수\",\"배아 이식 경과일\"]\n",
    "\n",
    "for col in numeric_columns:\n",
    "  if train[col].isna().sum():\n",
    "    if train[col].isna().sum() >= len(train)*0.5: # 결측치가 절반이 넘어갈 경우\n",
    "      train[col].fillna(-1, inplace=True)  # -1로 대체\n",
    "      test[col].fillna(-1, inplace = True)\n",
    "    else:\n",
    "      mode_value = train[col].mode()[0]  # 최빈값 구하기\n",
    "      train[col].fillna(mode_value, inplace=True)  # 최빈값으로 대체\n",
    "      test[col].fillna(mode_value, inplace = True)\n"
   ]
  },
  {
   "cell_type": "code",
   "execution_count": 17,
   "metadata": {
    "colab": {
     "base_uri": "https://localhost:8080/"
    },
    "id": "rrQrzq0H_QfV",
    "outputId": "255208d3-85ca-4d21-d9d0-eb8dccc27e6d"
   },
   "outputs": [
    {
     "data": {
      "text/plain": [
       "58"
      ]
     },
     "execution_count": 17,
     "metadata": {},
     "output_type": "execute_result"
    }
   ],
   "source": [
    "len(categorical_columns) + len(numeric_columns)"
   ]
  },
  {
   "cell_type": "code",
   "execution_count": 18,
   "metadata": {
    "id": "CI8IOlCFVXGY"
   },
   "outputs": [],
   "source": [
    "def make_feature(df):\n",
    "  #df['연령 가중치'] = df['시술 당시 나이'].map(age_weight_dict)\n",
    "\n",
    "  #df['난자 활용률'] = df['미세주입된 난자 수'] / (df['수집된 신선 난자 수'] + df['해동 난자 수'] + 1)\n",
    "  df['미세주입 배아 생성률'] = (df['미세주입에서 생성된 배아 수']) / (df['미세주입된 난자 수'] + 1)\n",
    "  df['미세주입 배아 이식률'] = (df['미세주입 배아 이식 수']) / (df['미세주입에서 생성된 배아 수'] + 1)\n",
    "  df['배아 이식률'] = (df['이식된 배아 수']) / (df['총 생성 배아 수'] + 1)\n",
    "  df['저장 배아 비율'] = (df['저장된 배아 수'])/ (df['총 생성 배아 수'] + 1)\n",
    "  df['해동 배아 생존율'] = (df['해동된 배아 수'])/ (df['총 생성 배아 수'] + 1)\n",
    "  df['파트너 정자 혼합 비율'] = (df['파트너 정자와 혼합된 난자 수']) / (df['혼합된 난자 수'] + 1)\n",
    "\n",
    "  # df['저장 배아 비율2'] = (df['저장된 배아 수'])/ (df['이식된 배아 수'] + 1)\n",
    "  # df['해동 배아 생존율2'] = (df['해동된 배아 수'])/ (df['이식된 배아 수'] + 1)\n",
    "  # df['미세주입 배아 이식 비율'] = df['미세주입 배아 이식 수'] / (df['이식된 배아 수'] + 1)\n",
    "  #df['나이보정 배아 이식 수'] = df['이식된 배아 수']*df['연령 가중치']\n",
    "\n",
    "  df['임신 성공률'] = (df['총 임신 횟수']) / (df['총 시술 횟수'] + 1)\n",
    "  #df['IVF 시술 성공률'] = (df['IVF 임신 횟수'])/ (df['IVF 시술 횟수'] + 1)\n",
    "  #df['DI 시술 성공률'] = (df['DI 임신 횟수']) / (df['DI 시술 횟수'] + 1)\n",
    "  df['출산율'] = df['총 출산 횟수'] / (df['총 임신 횟수'] + 1)\n",
    "  #df['IVF 출산율'] = df['IVF 출산 횟수'] / (df['IVF 임신 횟수'] + 1)\n",
    "  #df['DI 출산율'] = df['DI 출산 횟수'] / (df['DI 임신 횟수'] + 1)\n",
    "  #df['시술 기준 출산 성공률'] = df['총 출산 횟수'] / (df['총 시술 횟수'] + 1)\n",
    "\n",
    "  #df = df.drop(columns = ['연령 가중치'])\n",
    "\n",
    "  return df"
   ]
  },
  {
   "cell_type": "code",
   "execution_count": 19,
   "metadata": {
    "colab": {
     "base_uri": "https://localhost:8080/"
    },
    "id": "_VNPbGSR4h_I",
    "outputId": "44e7b9c5-1948-417e-b02a-64267fb91fae"
   },
   "outputs": [
    {
     "data": {
      "text/plain": [
       "((256351, 66), (90067, 66))"
      ]
     },
     "execution_count": 19,
     "metadata": {},
     "output_type": "execute_result"
    }
   ],
   "source": [
    "X = train.drop('임신 성공 여부', axis=1)\n",
    "y = train['임신 성공 여부']\n",
    "\n",
    "X = make_feature(X)\n",
    "test = make_feature(test)\n",
    "\n",
    "X.shape, test.shape"
   ]
  },
  {
   "cell_type": "code",
   "execution_count": 55,
   "metadata": {
    "colab": {
     "base_uri": "https://localhost:8080/",
     "height": 178
    },
    "id": "1WNQj2e8ukWK",
    "outputId": "039cab20-93c0-4ab4-f8a6-8098c62dc87f"
   },
   "outputs": [
    {
     "data": {
      "text/html": [
       "<div>\n",
       "<style scoped>\n",
       "    .dataframe tbody tr th:only-of-type {\n",
       "        vertical-align: middle;\n",
       "    }\n",
       "\n",
       "    .dataframe tbody tr th {\n",
       "        vertical-align: top;\n",
       "    }\n",
       "\n",
       "    .dataframe thead th {\n",
       "        text-align: right;\n",
       "    }\n",
       "</style>\n",
       "<table border=\"1\" class=\"dataframe\">\n",
       "  <thead>\n",
       "    <tr style=\"text-align: right;\">\n",
       "      <th></th>\n",
       "      <th>count</th>\n",
       "    </tr>\n",
       "    <tr>\n",
       "      <th>임신 성공 여부</th>\n",
       "      <th></th>\n",
       "    </tr>\n",
       "  </thead>\n",
       "  <tbody>\n",
       "    <tr>\n",
       "      <th>0</th>\n",
       "      <td>190123</td>\n",
       "    </tr>\n",
       "    <tr>\n",
       "      <th>1</th>\n",
       "      <td>66228</td>\n",
       "    </tr>\n",
       "  </tbody>\n",
       "</table>\n",
       "</div><br><label><b>dtype:</b> int64</label>"
      ],
      "text/plain": [
       "임신 성공 여부\n",
       "0    190123\n",
       "1     66228\n",
       "Name: count, dtype: int64"
      ]
     },
     "execution_count": 55,
     "metadata": {},
     "output_type": "execute_result"
    }
   ],
   "source": [
    "y.value_counts()"
   ]
  },
  {
   "cell_type": "code",
   "execution_count": 40,
   "metadata": {
    "id": "nsRZfmFixgqm"
   },
   "outputs": [],
   "source": [
    "from sklearn.utils.class_weight import compute_class_weight\n",
    "def objective_cat(trial):\n",
    "\n",
    "    cbrm_param = {\n",
    "        'iterations':trial.suggest_int(\"iterations\", 1000, 3000),\n",
    "        'learning_rate' : trial.suggest_float('learning_rate',0.005, 0.1),\n",
    "    }\n",
    "\n",
    "    # Generate model\n",
    "    model_cat = CatBoostClassifier(**cbrm_param, auto_class_weights='Balanced', eval_metric='AUC', random_state=seed, task_type=\"CPU\")\n",
    "    model_cat.fit(X_train,\n",
    "          y_train,\n",
    "          cat_features=categorical_columns,\n",
    "          early_stopping_rounds= 300,\n",
    "          eval_set=[(X_val,y_val)],\n",
    "          verbose = 300)\n",
    "\n",
    "    return model_cat.get_best_score()[\"validation\"][\"AUC\"]\n",
    "\n",
    "def objective_lgbm(trial):\n",
    "\n",
    "    lgbm_params = {\n",
    "         #'num_leaves': trial.suggest_int('num_leaves', 2, 1024, step=1),\n",
    "         #'max_depth': trial.suggest_int('max_depth', 3, 18, step=1),\n",
    "        \"objective\":  trial.suggest_categorical(\"objective\", [\"binary\"]),\n",
    "         \"metric\":  trial.suggest_categorical(\"metric\", [\"auc\"]),\n",
    "         \"random_state\":  trial.suggest_int('random_state', 42, 42),\n",
    "        \"verbose\":  trial.suggest_int('verbose', -1, -1),\n",
    "        'learning_rate': trial.suggest_float('learning_rate', 0.005, 0.1, log=True),\n",
    "        'n_estimators': trial.suggest_int('n_estimators', 100, 2000),\n",
    "        'min_child_samples': trial.suggest_int('min_child_samples', 10, 50, step=5, log=False),\n",
    "        'subsample': trial.suggest_float('subsample', 0.5, 1.0, step=0.1, log=False),\n",
    "        'colsample_bytree': trial.suggest_float('colsample_bytree', 0.5, 1.0, step=0.1, log=False),\n",
    "    }\n",
    "\n",
    "    # Generate model\n",
    "\n",
    "    class_weights = compute_class_weight(class_weight=\"balanced\", classes=np.unique(y), y=y_train)\n",
    "    class_weight_dict = {i: w for i, w in enumerate(class_weights)}\n",
    "\n",
    "    model_lgbm = lgb.LGBMClassifier(**lgbm_params,class_weight=class_weight_dict)\n",
    "\n",
    "    model_lgbm.fit(X_train, y_train,eval_set=[(X_val, y_val)],categorical_feature=categorical_columns)\n",
    "\n",
    "    return model_lgbm.best_score_['valid_0']['auc']"
   ]
  },
  {
   "cell_type": "code",
   "execution_count": 41,
   "metadata": {
    "colab": {
     "base_uri": "https://localhost:8080/"
    },
    "id": "NsuYwQX28LzT",
    "outputId": "392153b7-08f0-4feb-9a83-6016732f894c",
    "scrolled": true,
    "tags": []
   },
   "outputs": [
    {
     "name": "stderr",
     "output_type": "stream",
     "text": [
      "[I 2025-02-17 10:36:41,549] A new study created in memory with name: no-name-9cd10df4-a045-4545-a2a5-44cd0fb41c0c\n"
     ]
    },
    {
     "name": "stdout",
     "output_type": "stream",
     "text": [
      "Seed 42 Start!\n",
      "==================================================\n",
      "0:\ttest: 0.7029731\tbest: 0.7029731 (0)\ttotal: 83.6ms\tremaining: 2m 26s\n",
      "300:\ttest: 0.7437051\tbest: 0.7438239 (241)\ttotal: 16.4s\tremaining: 1m 18s\n"
     ]
    },
    {
     "name": "stderr",
     "output_type": "stream",
     "text": [
      "[I 2025-02-17 10:37:11,704] Trial 0 finished with value: 0.743823855542183 and parameters: {'iterations': 1749, 'learning_rate': 0.09531785910894204}. Best is trial 0 with value: 0.743823855542183.\n"
     ]
    },
    {
     "name": "stdout",
     "output_type": "stream",
     "text": [
      "Stopped by overfitting detector  (300 iterations wait)\n",
      "\n",
      "bestTest = 0.7438238555\n",
      "bestIteration = 241\n",
      "\n",
      "Shrink model to first 242 iterations.\n",
      "0:\ttest: 0.7029731\tbest: 0.7029731 (0)\ttotal: 69.9ms\tremaining: 2m 52s\n",
      "300:\ttest: 0.7436279\tbest: 0.7436689 (291)\ttotal: 16.2s\tremaining: 1m 56s\n",
      "600:\ttest: 0.7435144\tbest: 0.7436727 (334)\ttotal: 32.9s\tremaining: 1m 41s\n"
     ]
    },
    {
     "name": "stderr",
     "output_type": "stream",
     "text": [
      "[I 2025-02-17 10:37:46,835] Trial 1 finished with value: 0.7436726997959286 and parameters: {'iterations': 2464, 'learning_rate': 0.06187255599871847}. Best is trial 0 with value: 0.743823855542183.\n"
     ]
    },
    {
     "name": "stdout",
     "output_type": "stream",
     "text": [
      "Stopped by overfitting detector  (300 iterations wait)\n",
      "\n",
      "bestTest = 0.7436726998\n",
      "bestIteration = 334\n",
      "\n",
      "Shrink model to first 335 iterations.\n",
      "0:\ttest: 0.7029731\tbest: 0.7029731 (0)\ttotal: 75.3ms\tremaining: 1m 38s\n",
      "300:\ttest: 0.7420398\tbest: 0.7420398 (300)\ttotal: 16s\tremaining: 53.8s\n",
      "600:\ttest: 0.7432486\tbest: 0.7432594 (597)\ttotal: 31.9s\tremaining: 37.7s\n",
      "900:\ttest: 0.7437359\tbest: 0.7437565 (879)\ttotal: 48.4s\tremaining: 22.1s\n",
      "1200:\ttest: 0.7438271\tbest: 0.7438797 (1066)\ttotal: 1m 5s\tremaining: 6.01s\n"
     ]
    },
    {
     "name": "stderr",
     "output_type": "stream",
     "text": [
      "[I 2025-02-17 10:38:58,462] Trial 2 finished with value: 0.7438828876026947 and parameters: {'iterations': 1312, 'learning_rate': 0.019819479431939253}. Best is trial 2 with value: 0.7438828876026947.\n"
     ]
    },
    {
     "name": "stdout",
     "output_type": "stream",
     "text": [
      "1311:\ttest: 0.7438802\tbest: 0.7438829 (1299)\ttotal: 1m 11s\tremaining: 0us\n",
      "\n",
      "bestTest = 0.7438828876\n",
      "bestIteration = 1299\n",
      "\n",
      "Shrink model to first 1300 iterations.\n",
      "0:\ttest: 0.7029731\tbest: 0.7029731 (0)\ttotal: 66.1ms\tremaining: 1m 13s\n",
      "300:\ttest: 0.7434304\tbest: 0.7434333 (297)\ttotal: 16.3s\tremaining: 44.2s\n",
      "600:\ttest: 0.7430763\tbest: 0.7435871 (362)\ttotal: 33.1s\tremaining: 28.3s\n"
     ]
    },
    {
     "name": "stderr",
     "output_type": "stream",
     "text": [
      "[I 2025-02-17 10:39:35,278] Trial 3 finished with value: 0.7435871316985297 and parameters: {'iterations': 1116, 'learning_rate': 0.08728673384861885}. Best is trial 2 with value: 0.7438828876026947.\n"
     ]
    },
    {
     "name": "stdout",
     "output_type": "stream",
     "text": [
      "Stopped by overfitting detector  (300 iterations wait)\n",
      "\n",
      "bestTest = 0.7435871317\n",
      "bestIteration = 362\n",
      "\n",
      "Shrink model to first 363 iterations.\n",
      "0:\ttest: 0.7029731\tbest: 0.7029731 (0)\ttotal: 68.5ms\tremaining: 2m 30s\n",
      "300:\ttest: 0.7434765\tbest: 0.7435082 (267)\ttotal: 16.3s\tremaining: 1m 42s\n",
      "600:\ttest: 0.7436379\tbest: 0.7436532 (589)\ttotal: 33s\tremaining: 1m 27s\n"
     ]
    },
    {
     "name": "stderr",
     "output_type": "stream",
     "text": [
      "[I 2025-02-17 10:40:24,749] Trial 4 finished with value: 0.7436532236234117 and parameters: {'iterations': 2202, 'learning_rate': 0.07226689489062432}. Best is trial 2 with value: 0.7438828876026947.\n"
     ]
    },
    {
     "name": "stdout",
     "output_type": "stream",
     "text": [
      "Stopped by overfitting detector  (300 iterations wait)\n",
      "\n",
      "bestTest = 0.7436532236\n",
      "bestIteration = 589\n",
      "\n",
      "Shrink model to first 590 iterations.\n",
      "0:\ttest: 0.7029731\tbest: 0.7029731 (0)\ttotal: 69.1ms\tremaining: 1m 11s\n",
      "300:\ttest: 0.7430549\tbest: 0.7433350 (183)\ttotal: 16.4s\tremaining: 40.4s\n"
     ]
    },
    {
     "name": "stderr",
     "output_type": "stream",
     "text": [
      "[I 2025-02-17 10:40:51,408] Trial 5 finished with value: 0.7433350055973448 and parameters: {'iterations': 1041, 'learning_rate': 0.09714143595538946}. Best is trial 2 with value: 0.7438828876026947.\n"
     ]
    },
    {
     "name": "stdout",
     "output_type": "stream",
     "text": [
      "Stopped by overfitting detector  (300 iterations wait)\n",
      "\n",
      "bestTest = 0.7433350056\n",
      "bestIteration = 183\n",
      "\n",
      "Shrink model to first 184 iterations.\n",
      "0:\ttest: 0.7029731\tbest: 0.7029731 (0)\ttotal: 64.5ms\tremaining: 2m 51s\n",
      "300:\ttest: 0.7422682\tbest: 0.7422682 (300)\ttotal: 15.9s\tremaining: 2m 5s\n",
      "600:\ttest: 0.7434498\tbest: 0.7434498 (600)\ttotal: 31.9s\tremaining: 1m 49s\n",
      "900:\ttest: 0.7436773\tbest: 0.7437228 (795)\ttotal: 48.2s\tremaining: 1m 34s\n",
      "1200:\ttest: 0.7438163\tbest: 0.7438285 (1195)\ttotal: 1m 4s\tremaining: 1m 19s\n",
      "1500:\ttest: 0.7438448\tbest: 0.7438629 (1371)\ttotal: 1m 21s\tremaining: 1m 3s\n"
     ]
    },
    {
     "name": "stderr",
     "output_type": "stream",
     "text": [
      "[I 2025-02-17 10:42:22,816] Trial 6 finished with value: 0.7438628595060228 and parameters: {'iterations': 2665, 'learning_rate': 0.025172215514436234}. Best is trial 2 with value: 0.7438828876026947.\n"
     ]
    },
    {
     "name": "stdout",
     "output_type": "stream",
     "text": [
      "Stopped by overfitting detector  (300 iterations wait)\n",
      "\n",
      "bestTest = 0.7438628595\n",
      "bestIteration = 1371\n",
      "\n",
      "Shrink model to first 1372 iterations.\n",
      "0:\ttest: 0.7029731\tbest: 0.7029731 (0)\ttotal: 78.7ms\tremaining: 1m 47s\n",
      "300:\ttest: 0.7424229\tbest: 0.7424243 (299)\ttotal: 16.1s\tremaining: 56.8s\n",
      "600:\ttest: 0.7433793\tbest: 0.7433793 (600)\ttotal: 31.9s\tremaining: 40.4s\n",
      "900:\ttest: 0.7437817\tbest: 0.7437837 (898)\ttotal: 48.5s\tremaining: 24.9s\n",
      "1200:\ttest: 0.7438914\tbest: 0.7439090 (1162)\ttotal: 1m 5s\tremaining: 8.8s\n"
     ]
    },
    {
     "name": "stderr",
     "output_type": "stream",
     "text": [
      "[I 2025-02-17 10:43:37,552] Trial 7 finished with value: 0.7439089948064255 and parameters: {'iterations': 1363, 'learning_rate': 0.022423428436076212}. Best is trial 7 with value: 0.7439089948064255.\n"
     ]
    },
    {
     "name": "stdout",
     "output_type": "stream",
     "text": [
      "1362:\ttest: 0.7438772\tbest: 0.7439090 (1162)\ttotal: 1m 14s\tremaining: 0us\n",
      "\n",
      "bestTest = 0.7439089948\n",
      "bestIteration = 1162\n",
      "\n",
      "Shrink model to first 1163 iterations.\n",
      "0:\ttest: 0.7029731\tbest: 0.7029731 (0)\ttotal: 71.8ms\tremaining: 1m 55s\n",
      "300:\ttest: 0.7433930\tbest: 0.7433930 (300)\ttotal: 16.1s\tremaining: 1m 10s\n",
      "600:\ttest: 0.7435511\tbest: 0.7435748 (595)\ttotal: 32.7s\tremaining: 54.7s\n"
     ]
    },
    {
     "name": "stderr",
     "output_type": "stream",
     "text": [
      "[I 2025-02-17 10:44:27,038] Trial 8 finished with value: 0.7435747670091887 and parameters: {'iterations': 1608, 'learning_rate': 0.05485186100506259}. Best is trial 7 with value: 0.7439089948064255.\n"
     ]
    },
    {
     "name": "stdout",
     "output_type": "stream",
     "text": [
      "Stopped by overfitting detector  (300 iterations wait)\n",
      "\n",
      "bestTest = 0.743574767\n",
      "bestIteration = 595\n",
      "\n",
      "Shrink model to first 596 iterations.\n",
      "0:\ttest: 0.7029731\tbest: 0.7029731 (0)\ttotal: 75.3ms\tremaining: 2m 20s\n",
      "300:\ttest: 0.7428068\tbest: 0.7428068 (300)\ttotal: 16s\tremaining: 1m 23s\n",
      "600:\ttest: 0.7437785\tbest: 0.7437981 (596)\ttotal: 32.3s\tremaining: 1m 7s\n",
      "900:\ttest: 0.7437219\tbest: 0.7438268 (638)\ttotal: 49s\tremaining: 52.3s\n"
     ]
    },
    {
     "name": "stderr",
     "output_type": "stream",
     "text": [
      "[I 2025-02-17 10:45:18,459] Trial 9 finished with value: 0.7438268216381809 and parameters: {'iterations': 1864, 'learning_rate': 0.03266676831881398}. Best is trial 7 with value: 0.7439089948064255.\n"
     ]
    },
    {
     "name": "stdout",
     "output_type": "stream",
     "text": [
      "Stopped by overfitting detector  (300 iterations wait)\n",
      "\n",
      "bestTest = 0.7438268216\n",
      "bestIteration = 638\n",
      "\n",
      "Shrink model to first 639 iterations.\n",
      "0:\ttest: 0.7029731\tbest: 0.7029731 (0)\ttotal: 73.7ms\tremaining: 1m 40s\n",
      "300:\ttest: 0.7424229\tbest: 0.7424243 (299)\ttotal: 16.2s\tremaining: 57s\n",
      "600:\ttest: 0.7433793\tbest: 0.7433793 (600)\ttotal: 31.6s\tremaining: 40.1s\n",
      "900:\ttest: 0.7437817\tbest: 0.7437837 (898)\ttotal: 47.9s\tremaining: 24.6s\n",
      "1200:\ttest: 0.7438914\tbest: 0.7439090 (1162)\ttotal: 1m 4s\tremaining: 8.65s\n"
     ]
    },
    {
     "name": "stderr",
     "output_type": "stream",
     "text": [
      "[I 2025-02-17 10:46:32,067] A new study created in memory with name: no-name-582adc89-382c-4e84-aec4-c9a8883d703d\n"
     ]
    },
    {
     "name": "stdout",
     "output_type": "stream",
     "text": [
      "1362:\ttest: 0.7438772\tbest: 0.7439090 (1162)\ttotal: 1m 13s\tremaining: 0us\n",
      "\n",
      "bestTest = 0.7439089948\n",
      "bestIteration = 1162\n",
      "\n",
      "Shrink model to first 1163 iterations.\n"
     ]
    },
    {
     "name": "stderr",
     "output_type": "stream",
     "text": [
      "[I 2025-02-17 10:46:42,943] Trial 0 finished with value: 0.7429013718920625 and parameters: {'objective': 'binary', 'metric': 'auc', 'random_state': 42, 'verbose': -1, 'learning_rate': 0.015355286838886862, 'n_estimators': 1907, 'min_child_samples': 40, 'subsample': 0.8, 'colsample_bytree': 0.5}. Best is trial 0 with value: 0.7429013718920625.\n",
      "[I 2025-02-17 10:46:44,894] Trial 1 finished with value: 0.7399748595767962 and parameters: {'objective': 'binary', 'metric': 'auc', 'random_state': 42, 'verbose': -1, 'learning_rate': 0.00797854234707418, 'n_estimators': 210, 'min_child_samples': 45, 'subsample': 0.8, 'colsample_bytree': 0.9}. Best is trial 0 with value: 0.7429013718920625.\n",
      "[I 2025-02-17 10:46:57,161] Trial 2 finished with value: 0.7439483759846158 and parameters: {'objective': 'binary', 'metric': 'auc', 'random_state': 42, 'verbose': -1, 'learning_rate': 0.005318033256270142, 'n_estimators': 1943, 'min_child_samples': 45, 'subsample': 0.6, 'colsample_bytree': 0.6}. Best is trial 2 with value: 0.7439483759846158.\n",
      "[I 2025-02-17 10:47:02,170] Trial 3 finished with value: 0.743863054069214 and parameters: {'objective': 'binary', 'metric': 'auc', 'random_state': 42, 'verbose': -1, 'learning_rate': 0.008661333735273127, 'n_estimators': 678, 'min_child_samples': 30, 'subsample': 0.7, 'colsample_bytree': 0.6}. Best is trial 2 with value: 0.7439483759846158.\n",
      "[I 2025-02-17 10:47:04,724] Trial 4 finished with value: 0.7439235949871278 and parameters: {'objective': 'binary', 'metric': 'auc', 'random_state': 42, 'verbose': -1, 'learning_rate': 0.03126143958203108, 'n_estimators': 365, 'min_child_samples': 20, 'subsample': 0.7, 'colsample_bytree': 0.7}. Best is trial 2 with value: 0.7439483759846158.\n",
      "[I 2025-02-17 10:47:07,931] Trial 5 finished with value: 0.7429780972909505 and parameters: {'objective': 'binary', 'metric': 'auc', 'random_state': 42, 'verbose': -1, 'learning_rate': 0.05254210669345883, 'n_estimators': 479, 'min_child_samples': 30, 'subsample': 0.8, 'colsample_bytree': 0.5}. Best is trial 2 with value: 0.7439483759846158.\n",
      "[I 2025-02-17 10:47:10,598] Trial 6 finished with value: 0.7435659004866136 and parameters: {'objective': 'binary', 'metric': 'auc', 'random_state': 42, 'verbose': -1, 'learning_rate': 0.030860579740535368, 'n_estimators': 424, 'min_child_samples': 10, 'subsample': 1.0, 'colsample_bytree': 1.0}. Best is trial 2 with value: 0.7439483759846158.\n",
      "[I 2025-02-17 10:47:13,994] Trial 7 finished with value: 0.7422668933838739 and parameters: {'objective': 'binary', 'metric': 'auc', 'random_state': 42, 'verbose': -1, 'learning_rate': 0.05632733481673016, 'n_estimators': 679, 'min_child_samples': 10, 'subsample': 0.9, 'colsample_bytree': 0.7}. Best is trial 2 with value: 0.7439483759846158.\n",
      "[I 2025-02-17 10:47:21,095] Trial 8 finished with value: 0.743910753816502 and parameters: {'objective': 'binary', 'metric': 'auc', 'random_state': 42, 'verbose': -1, 'learning_rate': 0.007206848764305203, 'n_estimators': 1041, 'min_child_samples': 10, 'subsample': 1.0, 'colsample_bytree': 0.6}. Best is trial 2 with value: 0.7439483759846158.\n",
      "[I 2025-02-17 10:47:25,103] Trial 9 finished with value: 0.7436646512328925 and parameters: {'objective': 'binary', 'metric': 'auc', 'random_state': 42, 'verbose': -1, 'learning_rate': 0.036385753170854684, 'n_estimators': 692, 'min_child_samples': 30, 'subsample': 0.8, 'colsample_bytree': 0.6}. Best is trial 2 with value: 0.7439483759846158.\n",
      "[I 2025-02-17 10:47:33,904] Trial 10 finished with value: 0.742820092126227 and parameters: {'objective': 'binary', 'metric': 'auc', 'random_state': 42, 'verbose': -1, 'learning_rate': 0.015894131971030487, 'n_estimators': 1873, 'min_child_samples': 50, 'subsample': 0.5, 'colsample_bytree': 0.8}. Best is trial 2 with value: 0.7439483759846158.\n",
      "[I 2025-02-17 10:47:41,454] Trial 11 finished with value: 0.7424430842509682 and parameters: {'objective': 'binary', 'metric': 'auc', 'random_state': 42, 'verbose': -1, 'learning_rate': 0.021111895577706766, 'n_estimators': 1629, 'min_child_samples': 20, 'subsample': 0.6, 'colsample_bytree': 0.7}. Best is trial 2 with value: 0.7439483759846158.\n",
      "[I 2025-02-17 10:47:47,270] Trial 12 finished with value: 0.7320346880916583 and parameters: {'objective': 'binary', 'metric': 'auc', 'random_state': 42, 'verbose': -1, 'learning_rate': 0.0933102191367511, 'n_estimators': 1376, 'min_child_samples': 20, 'subsample': 0.6, 'colsample_bytree': 0.8}. Best is trial 2 with value: 0.7439483759846158.\n",
      "[I 2025-02-17 10:47:53,766] Trial 13 finished with value: 0.7438700543734236 and parameters: {'objective': 'binary', 'metric': 'auc', 'random_state': 42, 'verbose': -1, 'learning_rate': 0.012973882577665569, 'n_estimators': 1189, 'min_child_samples': 40, 'subsample': 0.6, 'colsample_bytree': 0.7}. Best is trial 2 with value: 0.7439483759846158.\n",
      "[I 2025-02-17 10:47:55,210] Trial 14 finished with value: 0.7423077953314983 and parameters: {'objective': 'binary', 'metric': 'auc', 'random_state': 42, 'verbose': -1, 'learning_rate': 0.02650009799560713, 'n_estimators': 125, 'min_child_samples': 20, 'subsample': 0.5, 'colsample_bytree': 0.6}. Best is trial 2 with value: 0.7439483759846158.\n",
      "[I 2025-02-17 10:48:01,798] Trial 15 finished with value: 0.7437855146814645 and parameters: {'objective': 'binary', 'metric': 'auc', 'random_state': 42, 'verbose': -1, 'learning_rate': 0.005529250273153117, 'n_estimators': 986, 'min_child_samples': 40, 'subsample': 0.7, 'colsample_bytree': 0.8}. Best is trial 2 with value: 0.7439483759846158.\n",
      "[I 2025-02-17 10:48:09,667] Trial 16 finished with value: 0.7394623285121025 and parameters: {'objective': 'binary', 'metric': 'auc', 'random_state': 42, 'verbose': -1, 'learning_rate': 0.044658849726746185, 'n_estimators': 1488, 'min_child_samples': 25, 'subsample': 0.7, 'colsample_bytree': 0.5}. Best is trial 2 with value: 0.7439483759846158.\n",
      "[I 2025-02-17 10:48:16,969] Trial 17 finished with value: 0.7325169864188301 and parameters: {'objective': 'binary', 'metric': 'auc', 'random_state': 42, 'verbose': -1, 'learning_rate': 0.09164845067673508, 'n_estimators': 1756, 'min_child_samples': 50, 'subsample': 0.6, 'colsample_bytree': 0.9}. Best is trial 2 with value: 0.7439483759846158.\n",
      "[I 2025-02-17 10:48:23,986] Trial 18 finished with value: 0.7439351456876073 and parameters: {'objective': 'binary', 'metric': 'auc', 'random_state': 42, 'verbose': -1, 'learning_rate': 0.01121978176524566, 'n_estimators': 1276, 'min_child_samples': 35, 'subsample': 0.5, 'colsample_bytree': 0.7}. Best is trial 2 with value: 0.7439483759846158.\n",
      "[I 2025-02-17 10:48:36,153] Trial 19 finished with value: 0.7439849578352579 and parameters: {'objective': 'binary', 'metric': 'auc', 'random_state': 42, 'verbose': -1, 'learning_rate': 0.005593066320046345, 'n_estimators': 1996, 'min_child_samples': 35, 'subsample': 0.5, 'colsample_bytree': 0.6}. Best is trial 19 with value: 0.7439849578352579.\n"
     ]
    },
    {
     "name": "stdout",
     "output_type": "stream",
     "text": [
      "{'objective': 'binary', 'metric': 'auc', 'random_state': 42, 'verbose': -1, 'learning_rate': 0.005593066320046345, 'n_estimators': 1996, 'min_child_samples': 35, 'subsample': 0.5, 'colsample_bytree': 0.6}\n",
      "0.7439849578352579\n",
      "0.7442165237690028\n"
     ]
    },
    {
     "name": "stderr",
     "output_type": "stream",
     "text": [
      "[I 2025-02-17 10:48:48,961] A new study created in memory with name: no-name-1e7b16d9-ff2a-4495-ba23-7ec4357e751e\n"
     ]
    },
    {
     "name": "stdout",
     "output_type": "stream",
     "text": [
      "==================================================\n",
      "0:\ttest: 0.7109930\tbest: 0.7109930 (0)\ttotal: 74.5ms\tremaining: 2m 10s\n",
      "300:\ttest: 0.7322492\tbest: 0.7324940 (196)\ttotal: 16s\tremaining: 1m 16s\n"
     ]
    },
    {
     "name": "stderr",
     "output_type": "stream",
     "text": [
      "[I 2025-02-17 10:49:15,944] Trial 0 finished with value: 0.7324939517848531 and parameters: {'iterations': 1749, 'learning_rate': 0.09531785910894204}. Best is trial 0 with value: 0.7324939517848531.\n"
     ]
    },
    {
     "name": "stdout",
     "output_type": "stream",
     "text": [
      "Stopped by overfitting detector  (300 iterations wait)\n",
      "\n",
      "bestTest = 0.7324939518\n",
      "bestIteration = 196\n",
      "\n",
      "Shrink model to first 197 iterations.\n",
      "0:\ttest: 0.7109930\tbest: 0.7109930 (0)\ttotal: 67.8ms\tremaining: 2m 47s\n",
      "300:\ttest: 0.7323898\tbest: 0.7324269 (290)\ttotal: 16.1s\tremaining: 1m 55s\n",
      "600:\ttest: 0.7324658\tbest: 0.7326383 (428)\ttotal: 32.6s\tremaining: 1m 41s\n"
     ]
    },
    {
     "name": "stderr",
     "output_type": "stream",
     "text": [
      "[I 2025-02-17 10:49:55,966] Trial 1 finished with value: 0.7326383474163023 and parameters: {'iterations': 2464, 'learning_rate': 0.06187255599871847}. Best is trial 1 with value: 0.7326383474163023.\n"
     ]
    },
    {
     "name": "stdout",
     "output_type": "stream",
     "text": [
      "Stopped by overfitting detector  (300 iterations wait)\n",
      "\n",
      "bestTest = 0.7326383474\n",
      "bestIteration = 428\n",
      "\n",
      "Shrink model to first 429 iterations.\n",
      "0:\ttest: 0.7109930\tbest: 0.7109930 (0)\ttotal: 69.6ms\tremaining: 1m 31s\n",
      "300:\ttest: 0.7302454\tbest: 0.7302454 (300)\ttotal: 15.9s\tremaining: 53.4s\n",
      "600:\ttest: 0.7316979\tbest: 0.7317019 (596)\ttotal: 31.4s\tremaining: 37.1s\n",
      "900:\ttest: 0.7325116\tbest: 0.7325161 (887)\ttotal: 47.8s\tremaining: 21.8s\n",
      "1200:\ttest: 0.7325451\tbest: 0.7325856 (1107)\ttotal: 1m 4s\tremaining: 5.96s\n"
     ]
    },
    {
     "name": "stderr",
     "output_type": "stream",
     "text": [
      "[I 2025-02-17 10:51:06,903] Trial 2 finished with value: 0.7325856366567802 and parameters: {'iterations': 1312, 'learning_rate': 0.019819479431939253}. Best is trial 1 with value: 0.7326383474163023.\n"
     ]
    },
    {
     "name": "stdout",
     "output_type": "stream",
     "text": [
      "1311:\ttest: 0.7325440\tbest: 0.7325856 (1107)\ttotal: 1m 10s\tremaining: 0us\n",
      "\n",
      "bestTest = 0.7325856367\n",
      "bestIteration = 1107\n",
      "\n",
      "Shrink model to first 1108 iterations.\n",
      "0:\ttest: 0.7109930\tbest: 0.7109930 (0)\ttotal: 72ms\tremaining: 1m 20s\n",
      "300:\ttest: 0.7321100\tbest: 0.7322044 (213)\ttotal: 16.4s\tremaining: 44.3s\n"
     ]
    },
    {
     "name": "stderr",
     "output_type": "stream",
     "text": [
      "[I 2025-02-17 10:51:35,272] Trial 3 finished with value: 0.7322043543527252 and parameters: {'iterations': 1116, 'learning_rate': 0.08728673384861885}. Best is trial 1 with value: 0.7326383474163023.\n"
     ]
    },
    {
     "name": "stdout",
     "output_type": "stream",
     "text": [
      "Stopped by overfitting detector  (300 iterations wait)\n",
      "\n",
      "bestTest = 0.7322043544\n",
      "bestIteration = 213\n",
      "\n",
      "Shrink model to first 214 iterations.\n",
      "0:\ttest: 0.7109930\tbest: 0.7109930 (0)\ttotal: 79ms\tremaining: 2m 53s\n",
      "300:\ttest: 0.7326631\tbest: 0.7326980 (273)\ttotal: 16.1s\tremaining: 1m 41s\n",
      "600:\ttest: 0.7326506\tbest: 0.7329100 (418)\ttotal: 32.6s\tremaining: 1m 26s\n"
     ]
    },
    {
     "name": "stderr",
     "output_type": "stream",
     "text": [
      "[I 2025-02-17 10:52:14,777] Trial 4 finished with value: 0.7329099509923769 and parameters: {'iterations': 2202, 'learning_rate': 0.07226689489062432}. Best is trial 4 with value: 0.7329099509923769.\n"
     ]
    },
    {
     "name": "stdout",
     "output_type": "stream",
     "text": [
      "Stopped by overfitting detector  (300 iterations wait)\n",
      "\n",
      "bestTest = 0.732909951\n",
      "bestIteration = 418\n",
      "\n",
      "Shrink model to first 419 iterations.\n",
      "0:\ttest: 0.7109930\tbest: 0.7109930 (0)\ttotal: 77.5ms\tremaining: 1m 20s\n",
      "300:\ttest: 0.7328493\tbest: 0.7330724 (234)\ttotal: 16.3s\tremaining: 40.1s\n"
     ]
    },
    {
     "name": "stderr",
     "output_type": "stream",
     "text": [
      "[I 2025-02-17 10:52:44,260] Trial 5 finished with value: 0.7330724000490342 and parameters: {'iterations': 1041, 'learning_rate': 0.09714143595538946}. Best is trial 5 with value: 0.7330724000490342.\n"
     ]
    },
    {
     "name": "stdout",
     "output_type": "stream",
     "text": [
      "Stopped by overfitting detector  (300 iterations wait)\n",
      "\n",
      "bestTest = 0.7330724\n",
      "bestIteration = 234\n",
      "\n",
      "Shrink model to first 235 iterations.\n",
      "0:\ttest: 0.7109930\tbest: 0.7109930 (0)\ttotal: 74.8ms\tremaining: 3m 19s\n",
      "300:\ttest: 0.7308488\tbest: 0.7308488 (300)\ttotal: 16.1s\tremaining: 2m 6s\n",
      "600:\ttest: 0.7322146\tbest: 0.7322146 (600)\ttotal: 32.1s\tremaining: 1m 50s\n",
      "900:\ttest: 0.7326329\tbest: 0.7326892 (783)\ttotal: 48.8s\tremaining: 1m 35s\n",
      "1200:\ttest: 0.7326543\tbest: 0.7327563 (1068)\ttotal: 1m 5s\tremaining: 1m 19s\n"
     ]
    },
    {
     "name": "stderr",
     "output_type": "stream",
     "text": [
      "[I 2025-02-17 10:53:59,469] Trial 6 finished with value: 0.7327562665440421 and parameters: {'iterations': 2665, 'learning_rate': 0.025172215514436234}. Best is trial 5 with value: 0.7330724000490342.\n"
     ]
    },
    {
     "name": "stdout",
     "output_type": "stream",
     "text": [
      "Stopped by overfitting detector  (300 iterations wait)\n",
      "\n",
      "bestTest = 0.7327562665\n",
      "bestIteration = 1068\n",
      "\n",
      "Shrink model to first 1069 iterations.\n",
      "0:\ttest: 0.7109930\tbest: 0.7109930 (0)\ttotal: 70ms\tremaining: 1m 35s\n",
      "300:\ttest: 0.7306702\tbest: 0.7306702 (300)\ttotal: 16.2s\tremaining: 57s\n",
      "600:\ttest: 0.7320629\tbest: 0.7320629 (600)\ttotal: 32s\tremaining: 40.6s\n",
      "900:\ttest: 0.7325742\tbest: 0.7325767 (899)\ttotal: 48.6s\tremaining: 24.9s\n",
      "1200:\ttest: 0.7326732\tbest: 0.7326820 (1189)\ttotal: 1m 5s\tremaining: 8.81s\n"
     ]
    },
    {
     "name": "stderr",
     "output_type": "stream",
     "text": [
      "[I 2025-02-17 10:55:14,293] Trial 7 finished with value: 0.732682233998347 and parameters: {'iterations': 1363, 'learning_rate': 0.022423428436076212}. Best is trial 5 with value: 0.7330724000490342.\n"
     ]
    },
    {
     "name": "stdout",
     "output_type": "stream",
     "text": [
      "1362:\ttest: 0.7325548\tbest: 0.7326822 (1214)\ttotal: 1m 14s\tremaining: 0us\n",
      "\n",
      "bestTest = 0.732682234\n",
      "bestIteration = 1214\n",
      "\n",
      "Shrink model to first 1215 iterations.\n",
      "0:\ttest: 0.7109930\tbest: 0.7109930 (0)\ttotal: 70.7ms\tremaining: 1m 53s\n",
      "300:\ttest: 0.7326454\tbest: 0.7326454 (299)\ttotal: 16.2s\tremaining: 1m 10s\n",
      "600:\ttest: 0.7326163\tbest: 0.7328917 (502)\ttotal: 32.6s\tremaining: 54.7s\n"
     ]
    },
    {
     "name": "stderr",
     "output_type": "stream",
     "text": [
      "[I 2025-02-17 10:55:58,405] Trial 8 finished with value: 0.7328916990033191 and parameters: {'iterations': 1608, 'learning_rate': 0.05485186100506259}. Best is trial 5 with value: 0.7330724000490342.\n"
     ]
    },
    {
     "name": "stdout",
     "output_type": "stream",
     "text": [
      "Stopped by overfitting detector  (300 iterations wait)\n",
      "\n",
      "bestTest = 0.732891699\n",
      "bestIteration = 502\n",
      "\n",
      "Shrink model to first 503 iterations.\n",
      "0:\ttest: 0.7109930\tbest: 0.7109930 (0)\ttotal: 65.5ms\tremaining: 2m 2s\n",
      "300:\ttest: 0.7313471\tbest: 0.7313471 (300)\ttotal: 15.9s\tremaining: 1m 22s\n",
      "600:\ttest: 0.7324479\tbest: 0.7324537 (561)\ttotal: 32.1s\tremaining: 1m 7s\n",
      "900:\ttest: 0.7325872\tbest: 0.7327625 (788)\ttotal: 48.5s\tremaining: 51.8s\n"
     ]
    },
    {
     "name": "stderr",
     "output_type": "stream",
     "text": [
      "[I 2025-02-17 10:56:57,657] Trial 9 finished with value: 0.7327625133627513 and parameters: {'iterations': 1864, 'learning_rate': 0.03266676831881398}. Best is trial 5 with value: 0.7330724000490342.\n"
     ]
    },
    {
     "name": "stdout",
     "output_type": "stream",
     "text": [
      "Stopped by overfitting detector  (300 iterations wait)\n",
      "\n",
      "bestTest = 0.7327625134\n",
      "bestIteration = 788\n",
      "\n",
      "Shrink model to first 789 iterations.\n",
      "0:\ttest: 0.7109930\tbest: 0.7109930 (0)\ttotal: 78.3ms\tremaining: 1m 21s\n",
      "300:\ttest: 0.7328493\tbest: 0.7330724 (234)\ttotal: 16.4s\tremaining: 40.4s\n"
     ]
    },
    {
     "name": "stderr",
     "output_type": "stream",
     "text": [
      "[I 2025-02-17 10:57:27,272] A new study created in memory with name: no-name-34b28524-ea2d-40b2-bce9-99605123b467\n"
     ]
    },
    {
     "name": "stdout",
     "output_type": "stream",
     "text": [
      "Stopped by overfitting detector  (300 iterations wait)\n",
      "\n",
      "bestTest = 0.7330724\n",
      "bestIteration = 234\n",
      "\n",
      "Shrink model to first 235 iterations.\n"
     ]
    },
    {
     "name": "stderr",
     "output_type": "stream",
     "text": [
      "[I 2025-02-17 10:57:38,217] Trial 0 finished with value: 0.7324738769796557 and parameters: {'objective': 'binary', 'metric': 'auc', 'random_state': 42, 'verbose': -1, 'learning_rate': 0.015355286838886862, 'n_estimators': 1907, 'min_child_samples': 40, 'subsample': 0.8, 'colsample_bytree': 0.5}. Best is trial 0 with value: 0.7324738769796557.\n",
      "[I 2025-02-17 10:57:40,149] Trial 1 finished with value: 0.7275188670207257 and parameters: {'objective': 'binary', 'metric': 'auc', 'random_state': 42, 'verbose': -1, 'learning_rate': 0.00797854234707418, 'n_estimators': 210, 'min_child_samples': 45, 'subsample': 0.8, 'colsample_bytree': 0.9}. Best is trial 0 with value: 0.7324738769796557.\n",
      "[I 2025-02-17 10:57:52,189] Trial 2 finished with value: 0.732356501916864 and parameters: {'objective': 'binary', 'metric': 'auc', 'random_state': 42, 'verbose': -1, 'learning_rate': 0.005318033256270142, 'n_estimators': 1943, 'min_child_samples': 45, 'subsample': 0.6, 'colsample_bytree': 0.6}. Best is trial 0 with value: 0.7324738769796557.\n",
      "[I 2025-02-17 10:57:57,174] Trial 3 finished with value: 0.7318564982871167 and parameters: {'objective': 'binary', 'metric': 'auc', 'random_state': 42, 'verbose': -1, 'learning_rate': 0.008661333735273127, 'n_estimators': 678, 'min_child_samples': 30, 'subsample': 0.7, 'colsample_bytree': 0.6}. Best is trial 0 with value: 0.7324738769796557.\n",
      "[I 2025-02-17 10:57:59,642] Trial 4 finished with value: 0.7317703851168103 and parameters: {'objective': 'binary', 'metric': 'auc', 'random_state': 42, 'verbose': -1, 'learning_rate': 0.03126143958203108, 'n_estimators': 365, 'min_child_samples': 20, 'subsample': 0.7, 'colsample_bytree': 0.7}. Best is trial 0 with value: 0.7324738769796557.\n",
      "[I 2025-02-17 10:58:02,845] Trial 5 finished with value: 0.7313179573854338 and parameters: {'objective': 'binary', 'metric': 'auc', 'random_state': 42, 'verbose': -1, 'learning_rate': 0.05254210669345883, 'n_estimators': 479, 'min_child_samples': 30, 'subsample': 0.8, 'colsample_bytree': 0.5}. Best is trial 0 with value: 0.7324738769796557.\n",
      "[I 2025-02-17 10:58:05,481] Trial 6 finished with value: 0.7316987035670948 and parameters: {'objective': 'binary', 'metric': 'auc', 'random_state': 42, 'verbose': -1, 'learning_rate': 0.030860579740535368, 'n_estimators': 424, 'min_child_samples': 10, 'subsample': 1.0, 'colsample_bytree': 1.0}. Best is trial 0 with value: 0.7324738769796557.\n",
      "[I 2025-02-17 10:58:08,924] Trial 7 finished with value: 0.7296661166342131 and parameters: {'objective': 'binary', 'metric': 'auc', 'random_state': 42, 'verbose': -1, 'learning_rate': 0.05632733481673016, 'n_estimators': 679, 'min_child_samples': 10, 'subsample': 0.9, 'colsample_bytree': 0.7}. Best is trial 0 with value: 0.7324738769796557.\n",
      "[I 2025-02-17 10:58:15,880] Trial 8 finished with value: 0.7320489622552837 and parameters: {'objective': 'binary', 'metric': 'auc', 'random_state': 42, 'verbose': -1, 'learning_rate': 0.007206848764305203, 'n_estimators': 1041, 'min_child_samples': 10, 'subsample': 1.0, 'colsample_bytree': 0.6}. Best is trial 0 with value: 0.7324738769796557.\n",
      "[I 2025-02-17 10:58:19,919] Trial 9 finished with value: 0.7318097960696843 and parameters: {'objective': 'binary', 'metric': 'auc', 'random_state': 42, 'verbose': -1, 'learning_rate': 0.036385753170854684, 'n_estimators': 692, 'min_child_samples': 30, 'subsample': 0.8, 'colsample_bytree': 0.6}. Best is trial 0 with value: 0.7324738769796557.\n",
      "[I 2025-02-17 10:58:28,744] Trial 10 finished with value: 0.7319206066116075 and parameters: {'objective': 'binary', 'metric': 'auc', 'random_state': 42, 'verbose': -1, 'learning_rate': 0.015352366611984603, 'n_estimators': 1873, 'min_child_samples': 50, 'subsample': 0.5, 'colsample_bytree': 0.8}. Best is trial 0 with value: 0.7324738769796557.\n",
      "[I 2025-02-17 10:58:40,400] Trial 11 finished with value: 0.732384701954788 and parameters: {'objective': 'binary', 'metric': 'auc', 'random_state': 42, 'verbose': -1, 'learning_rate': 0.015423665558445133, 'n_estimators': 1976, 'min_child_samples': 40, 'subsample': 0.5, 'colsample_bytree': 0.5}. Best is trial 0 with value: 0.7324738769796557.\n",
      "[I 2025-02-17 10:58:49,648] Trial 12 finished with value: 0.7326602847504091 and parameters: {'objective': 'binary', 'metric': 'auc', 'random_state': 42, 'verbose': -1, 'learning_rate': 0.015451581545204445, 'n_estimators': 1574, 'min_child_samples': 40, 'subsample': 0.5, 'colsample_bytree': 0.5}. Best is trial 12 with value: 0.7326602847504091.\n",
      "[I 2025-02-17 10:58:58,729] Trial 13 finished with value: 0.7323742336686356 and parameters: {'objective': 'binary', 'metric': 'auc', 'random_state': 42, 'verbose': -1, 'learning_rate': 0.017329634243394284, 'n_estimators': 1550, 'min_child_samples': 40, 'subsample': 0.6, 'colsample_bytree': 0.5}. Best is trial 12 with value: 0.7326602847504091.\n",
      "[I 2025-02-17 10:59:07,590] Trial 14 finished with value: 0.7324583651717229 and parameters: {'objective': 'binary', 'metric': 'auc', 'random_state': 42, 'verbose': -1, 'learning_rate': 0.010849993952303332, 'n_estimators': 1410, 'min_child_samples': 35, 'subsample': 0.9, 'colsample_bytree': 0.5}. Best is trial 12 with value: 0.7326602847504091.\n",
      "[I 2025-02-17 10:59:14,138] Trial 15 finished with value: 0.7239453650455793 and parameters: {'objective': 'binary', 'metric': 'auc', 'random_state': 42, 'verbose': -1, 'learning_rate': 0.09023346061020121, 'n_estimators': 1567, 'min_child_samples': 20, 'subsample': 0.6, 'colsample_bytree': 0.8}. Best is trial 12 with value: 0.7326602847504091.\n",
      "[I 2025-02-17 10:59:20,213] Trial 16 finished with value: 0.7317605403211457 and parameters: {'objective': 'binary', 'metric': 'auc', 'random_state': 42, 'verbose': -1, 'learning_rate': 0.022178512812229493, 'n_estimators': 1218, 'min_child_samples': 50, 'subsample': 0.9, 'colsample_bytree': 0.7}. Best is trial 12 with value: 0.7326602847504091.\n",
      "[I 2025-02-17 10:59:30,531] Trial 17 finished with value: 0.7325486720105335 and parameters: {'objective': 'binary', 'metric': 'auc', 'random_state': 42, 'verbose': -1, 'learning_rate': 0.012657202739769224, 'n_estimators': 1739, 'min_child_samples': 40, 'subsample': 0.7, 'colsample_bytree': 0.5}. Best is trial 12 with value: 0.7326602847504091.\n",
      "[I 2025-02-17 10:59:39,599] Trial 18 finished with value: 0.7324299506848412 and parameters: {'objective': 'binary', 'metric': 'auc', 'random_state': 42, 'verbose': -1, 'learning_rate': 0.012241629310260922, 'n_estimators': 1658, 'min_child_samples': 35, 'subsample': 0.5, 'colsample_bytree': 0.6}. Best is trial 12 with value: 0.7326602847504091.\n",
      "[I 2025-02-17 10:59:45,108] Trial 19 finished with value: 0.731952845438233 and parameters: {'objective': 'binary', 'metric': 'auc', 'random_state': 42, 'verbose': -1, 'learning_rate': 0.02435372000020712, 'n_estimators': 1117, 'min_child_samples': 45, 'subsample': 0.7, 'colsample_bytree': 0.9}. Best is trial 12 with value: 0.7326602847504091.\n"
     ]
    },
    {
     "name": "stdout",
     "output_type": "stream",
     "text": [
      "{'objective': 'binary', 'metric': 'auc', 'random_state': 42, 'verbose': -1, 'learning_rate': 0.015451581545204445, 'n_estimators': 1574, 'min_child_samples': 40, 'subsample': 0.5, 'colsample_bytree': 0.5}\n",
      "0.7326602847504091\n",
      "0.7334558705267118\n"
     ]
    },
    {
     "name": "stderr",
     "output_type": "stream",
     "text": [
      "[I 2025-02-17 10:59:55,134] A new study created in memory with name: no-name-e9514b35-ea95-497f-8116-a530cea28776\n"
     ]
    },
    {
     "name": "stdout",
     "output_type": "stream",
     "text": [
      "==================================================\n",
      "0:\ttest: 0.7182081\tbest: 0.7182081 (0)\ttotal: 75.8ms\tremaining: 2m 12s\n",
      "300:\ttest: 0.7387617\tbest: 0.7388623 (268)\ttotal: 16.3s\tremaining: 1m 18s\n",
      "600:\ttest: 0.7387191\tbest: 0.7388766 (320)\ttotal: 32.8s\tremaining: 1m 2s\n"
     ]
    },
    {
     "name": "stderr",
     "output_type": "stream",
     "text": [
      "[I 2025-02-17 11:00:29,294] Trial 0 finished with value: 0.7388765563970656 and parameters: {'iterations': 1749, 'learning_rate': 0.09531785910894204}. Best is trial 0 with value: 0.7388765563970656.\n"
     ]
    },
    {
     "name": "stdout",
     "output_type": "stream",
     "text": [
      "Stopped by overfitting detector  (300 iterations wait)\n",
      "\n",
      "bestTest = 0.7388765564\n",
      "bestIteration = 320\n",
      "\n",
      "Shrink model to first 321 iterations.\n",
      "0:\ttest: 0.7182081\tbest: 0.7182081 (0)\ttotal: 72.4ms\tremaining: 2m 58s\n",
      "300:\ttest: 0.7388585\tbest: 0.7388858 (274)\ttotal: 16.3s\tremaining: 1m 57s\n",
      "600:\ttest: 0.7390416\tbest: 0.7391484 (468)\ttotal: 32.9s\tremaining: 1m 42s\n",
      "900:\ttest: 0.7390648\tbest: 0.7392468 (690)\ttotal: 49.8s\tremaining: 1m 26s\n"
     ]
    },
    {
     "name": "stderr",
     "output_type": "stream",
     "text": [
      "[I 2025-02-17 11:01:24,544] Trial 1 finished with value: 0.7392467786946962 and parameters: {'iterations': 2464, 'learning_rate': 0.06187255599871847}. Best is trial 1 with value: 0.7392467786946962.\n"
     ]
    },
    {
     "name": "stdout",
     "output_type": "stream",
     "text": [
      "Stopped by overfitting detector  (300 iterations wait)\n",
      "\n",
      "bestTest = 0.7392467787\n",
      "bestIteration = 690\n",
      "\n",
      "Shrink model to first 691 iterations.\n",
      "0:\ttest: 0.7182081\tbest: 0.7182081 (0)\ttotal: 69.4ms\tremaining: 1m 31s\n",
      "300:\ttest: 0.7360752\tbest: 0.7360752 (300)\ttotal: 16s\tremaining: 53.7s\n",
      "600:\ttest: 0.7380157\tbest: 0.7380157 (600)\ttotal: 31.9s\tremaining: 37.7s\n",
      "900:\ttest: 0.7387631\tbest: 0.7387668 (899)\ttotal: 48.4s\tremaining: 22.1s\n",
      "1200:\ttest: 0.7390459\tbest: 0.7390668 (1142)\ttotal: 1m 4s\tremaining: 6.01s\n"
     ]
    },
    {
     "name": "stderr",
     "output_type": "stream",
     "text": [
      "[I 2025-02-17 11:02:36,119] Trial 2 finished with value: 0.7390975659042551 and parameters: {'iterations': 1312, 'learning_rate': 0.019819479431939253}. Best is trial 1 with value: 0.7392467786946962.\n"
     ]
    },
    {
     "name": "stdout",
     "output_type": "stream",
     "text": [
      "1311:\ttest: 0.7390781\tbest: 0.7390976 (1297)\ttotal: 1m 11s\tremaining: 0us\n",
      "\n",
      "bestTest = 0.7390975659\n",
      "bestIteration = 1297\n",
      "\n",
      "Shrink model to first 1298 iterations.\n",
      "0:\ttest: 0.7182081\tbest: 0.7182081 (0)\ttotal: 77.6ms\tremaining: 1m 26s\n",
      "300:\ttest: 0.7390917\tbest: 0.7391518 (285)\ttotal: 16.6s\tremaining: 45s\n",
      "600:\ttest: 0.7388700\tbest: 0.7392254 (489)\ttotal: 33.3s\tremaining: 28.5s\n"
     ]
    },
    {
     "name": "stderr",
     "output_type": "stream",
     "text": [
      "[I 2025-02-17 11:03:20,419] Trial 3 finished with value: 0.7392254052819223 and parameters: {'iterations': 1116, 'learning_rate': 0.08728673384861885}. Best is trial 1 with value: 0.7392467786946962.\n"
     ]
    },
    {
     "name": "stdout",
     "output_type": "stream",
     "text": [
      "Stopped by overfitting detector  (300 iterations wait)\n",
      "\n",
      "bestTest = 0.7392254053\n",
      "bestIteration = 489\n",
      "\n",
      "Shrink model to first 490 iterations.\n",
      "0:\ttest: 0.7182081\tbest: 0.7182081 (0)\ttotal: 78ms\tremaining: 2m 51s\n",
      "300:\ttest: 0.7386599\tbest: 0.7386993 (295)\ttotal: 16.6s\tremaining: 1m 44s\n",
      "600:\ttest: 0.7390564\tbest: 0.7391764 (391)\ttotal: 33.3s\tremaining: 1m 28s\n"
     ]
    },
    {
     "name": "stderr",
     "output_type": "stream",
     "text": [
      "[I 2025-02-17 11:03:59,056] Trial 4 finished with value: 0.7391763997238342 and parameters: {'iterations': 2202, 'learning_rate': 0.07226689489062432}. Best is trial 1 with value: 0.7392467786946962.\n"
     ]
    },
    {
     "name": "stdout",
     "output_type": "stream",
     "text": [
      "Stopped by overfitting detector  (300 iterations wait)\n",
      "\n",
      "bestTest = 0.7391763997\n",
      "bestIteration = 391\n",
      "\n",
      "Shrink model to first 392 iterations.\n",
      "0:\ttest: 0.7182081\tbest: 0.7182081 (0)\ttotal: 72ms\tremaining: 1m 14s\n",
      "300:\ttest: 0.7389868\tbest: 0.7390158 (281)\ttotal: 16.2s\tremaining: 39.9s\n",
      "600:\ttest: 0.7388881\tbest: 0.7393052 (504)\ttotal: 32.9s\tremaining: 24.1s\n"
     ]
    },
    {
     "name": "stderr",
     "output_type": "stream",
     "text": [
      "[I 2025-02-17 11:04:43,709] Trial 5 finished with value: 0.7393051604377637 and parameters: {'iterations': 1041, 'learning_rate': 0.09714143595538946}. Best is trial 5 with value: 0.7393051604377637.\n"
     ]
    },
    {
     "name": "stdout",
     "output_type": "stream",
     "text": [
      "Stopped by overfitting detector  (300 iterations wait)\n",
      "\n",
      "bestTest = 0.7393051604\n",
      "bestIteration = 504\n",
      "\n",
      "Shrink model to first 505 iterations.\n",
      "0:\ttest: 0.7182081\tbest: 0.7182081 (0)\ttotal: 76.8ms\tremaining: 3m 24s\n",
      "300:\ttest: 0.7369249\tbest: 0.7369293 (299)\ttotal: 16s\tremaining: 2m 5s\n",
      "600:\ttest: 0.7386235\tbest: 0.7386235 (600)\ttotal: 32.1s\tremaining: 1m 50s\n",
      "900:\ttest: 0.7390593\tbest: 0.7390628 (899)\ttotal: 48.7s\tremaining: 1m 35s\n",
      "1200:\ttest: 0.7392803\tbest: 0.7392803 (1200)\ttotal: 1m 5s\tremaining: 1m 19s\n",
      "1500:\ttest: 0.7392609\tbest: 0.7393597 (1395)\ttotal: 1m 21s\tremaining: 1m 3s\n"
     ]
    },
    {
     "name": "stderr",
     "output_type": "stream",
     "text": [
      "[I 2025-02-17 11:06:16,717] Trial 6 finished with value: 0.7393597059272564 and parameters: {'iterations': 2665, 'learning_rate': 0.025172215514436234}. Best is trial 6 with value: 0.7393597059272564.\n"
     ]
    },
    {
     "name": "stdout",
     "output_type": "stream",
     "text": [
      "Stopped by overfitting detector  (300 iterations wait)\n",
      "\n",
      "bestTest = 0.7393597059\n",
      "bestIteration = 1395\n",
      "\n",
      "Shrink model to first 1396 iterations.\n",
      "0:\ttest: 0.7182081\tbest: 0.7182081 (0)\ttotal: 75.5ms\tremaining: 1m 42s\n",
      "300:\ttest: 0.7364104\tbest: 0.7364104 (300)\ttotal: 16s\tremaining: 56.4s\n",
      "600:\ttest: 0.7384489\tbest: 0.7384489 (600)\ttotal: 31.9s\tremaining: 40.4s\n",
      "900:\ttest: 0.7389473\tbest: 0.7389560 (870)\ttotal: 48.5s\tremaining: 24.9s\n",
      "1200:\ttest: 0.7391159\tbest: 0.7391223 (1198)\ttotal: 1m 5s\tremaining: 8.83s\n"
     ]
    },
    {
     "name": "stderr",
     "output_type": "stream",
     "text": [
      "[I 2025-02-17 11:07:31,710] Trial 7 finished with value: 0.7391963514194448 and parameters: {'iterations': 1363, 'learning_rate': 0.022423428436076212}. Best is trial 6 with value: 0.7393597059272564.\n"
     ]
    },
    {
     "name": "stdout",
     "output_type": "stream",
     "text": [
      "1362:\ttest: 0.7391687\tbest: 0.7391964 (1247)\ttotal: 1m 14s\tremaining: 0us\n",
      "\n",
      "bestTest = 0.7391963514\n",
      "bestIteration = 1247\n",
      "\n",
      "Shrink model to first 1248 iterations.\n",
      "0:\ttest: 0.7182081\tbest: 0.7182081 (0)\ttotal: 70.6ms\tremaining: 1m 53s\n",
      "300:\ttest: 0.7387622\tbest: 0.7387622 (300)\ttotal: 16.2s\tremaining: 1m 10s\n",
      "600:\ttest: 0.7390259\tbest: 0.7390259 (600)\ttotal: 33s\tremaining: 55.3s\n",
      "900:\ttest: 0.7390180\tbest: 0.7390477 (636)\ttotal: 49.9s\tremaining: 39.2s\n",
      "1200:\ttest: 0.7389894\tbest: 0.7390977 (1034)\ttotal: 1m 6s\tremaining: 22.7s\n"
     ]
    },
    {
     "name": "stderr",
     "output_type": "stream",
     "text": [
      "[I 2025-02-17 11:08:46,696] Trial 8 finished with value: 0.7390976890138419 and parameters: {'iterations': 1608, 'learning_rate': 0.05485186100506259}. Best is trial 6 with value: 0.7393597059272564.\n"
     ]
    },
    {
     "name": "stdout",
     "output_type": "stream",
     "text": [
      "Stopped by overfitting detector  (300 iterations wait)\n",
      "\n",
      "bestTest = 0.739097689\n",
      "bestIteration = 1034\n",
      "\n",
      "Shrink model to first 1035 iterations.\n",
      "0:\ttest: 0.7182081\tbest: 0.7182081 (0)\ttotal: 75.1ms\tremaining: 2m 19s\n",
      "300:\ttest: 0.7375634\tbest: 0.7375690 (299)\ttotal: 16s\tremaining: 1m 23s\n",
      "600:\ttest: 0.7388911\tbest: 0.7389051 (596)\ttotal: 32.1s\tremaining: 1m 7s\n",
      "900:\ttest: 0.7393100\tbest: 0.7393100 (900)\ttotal: 48.5s\tremaining: 51.8s\n",
      "1200:\ttest: 0.7392208\tbest: 0.7393452 (1020)\ttotal: 1m 4s\tremaining: 35.8s\n"
     ]
    },
    {
     "name": "stderr",
     "output_type": "stream",
     "text": [
      "[I 2025-02-17 11:09:58,692] Trial 9 finished with value: 0.7393451710534636 and parameters: {'iterations': 1864, 'learning_rate': 0.03266676831881398}. Best is trial 6 with value: 0.7393597059272564.\n"
     ]
    },
    {
     "name": "stdout",
     "output_type": "stream",
     "text": [
      "Stopped by overfitting detector  (300 iterations wait)\n",
      "\n",
      "bestTest = 0.7393451711\n",
      "bestIteration = 1020\n",
      "\n",
      "Shrink model to first 1021 iterations.\n",
      "0:\ttest: 0.7182081\tbest: 0.7182081 (0)\ttotal: 74ms\tremaining: 3m 17s\n",
      "300:\ttest: 0.7369249\tbest: 0.7369293 (299)\ttotal: 16.2s\tremaining: 2m 7s\n",
      "600:\ttest: 0.7386235\tbest: 0.7386235 (600)\ttotal: 32s\tremaining: 1m 50s\n",
      "900:\ttest: 0.7390593\tbest: 0.7390628 (899)\ttotal: 48.6s\tremaining: 1m 35s\n",
      "1200:\ttest: 0.7392803\tbest: 0.7392803 (1200)\ttotal: 1m 5s\tremaining: 1m 19s\n",
      "1500:\ttest: 0.7392609\tbest: 0.7393597 (1395)\ttotal: 1m 21s\tremaining: 1m 3s\n"
     ]
    },
    {
     "name": "stderr",
     "output_type": "stream",
     "text": [
      "[I 2025-02-17 11:11:31,214] A new study created in memory with name: no-name-4244033f-e913-4234-968a-176afa11cbbc\n"
     ]
    },
    {
     "name": "stdout",
     "output_type": "stream",
     "text": [
      "Stopped by overfitting detector  (300 iterations wait)\n",
      "\n",
      "bestTest = 0.7393597059\n",
      "bestIteration = 1395\n",
      "\n",
      "Shrink model to first 1396 iterations.\n"
     ]
    },
    {
     "name": "stderr",
     "output_type": "stream",
     "text": [
      "[I 2025-02-17 11:11:41,712] Trial 0 finished with value: 0.7390596997781311 and parameters: {'objective': 'binary', 'metric': 'auc', 'random_state': 42, 'verbose': -1, 'learning_rate': 0.015355286838886862, 'n_estimators': 1907, 'min_child_samples': 40, 'subsample': 0.8, 'colsample_bytree': 0.5}. Best is trial 0 with value: 0.7390596997781311.\n",
      "[I 2025-02-17 11:11:43,567] Trial 1 finished with value: 0.7332467788217771 and parameters: {'objective': 'binary', 'metric': 'auc', 'random_state': 42, 'verbose': -1, 'learning_rate': 0.00797854234707418, 'n_estimators': 210, 'min_child_samples': 45, 'subsample': 0.8, 'colsample_bytree': 0.9}. Best is trial 0 with value: 0.7390596997781311.\n",
      "[I 2025-02-17 11:11:55,279] Trial 2 finished with value: 0.7391447327610956 and parameters: {'objective': 'binary', 'metric': 'auc', 'random_state': 42, 'verbose': -1, 'learning_rate': 0.005318033256270142, 'n_estimators': 1943, 'min_child_samples': 45, 'subsample': 0.6, 'colsample_bytree': 0.6}. Best is trial 2 with value: 0.7391447327610956.\n",
      "[I 2025-02-17 11:12:00,119] Trial 3 finished with value: 0.7383826407349481 and parameters: {'objective': 'binary', 'metric': 'auc', 'random_state': 42, 'verbose': -1, 'learning_rate': 0.008661333735273127, 'n_estimators': 678, 'min_child_samples': 30, 'subsample': 0.7, 'colsample_bytree': 0.6}. Best is trial 2 with value: 0.7391447327610956.\n",
      "[I 2025-02-17 11:12:02,503] Trial 4 finished with value: 0.7386565833931712 and parameters: {'objective': 'binary', 'metric': 'auc', 'random_state': 42, 'verbose': -1, 'learning_rate': 0.03126143958203108, 'n_estimators': 365, 'min_child_samples': 20, 'subsample': 0.7, 'colsample_bytree': 0.7}. Best is trial 2 with value: 0.7391447327610956.\n",
      "[I 2025-02-17 11:12:05,586] Trial 5 finished with value: 0.7386302855969266 and parameters: {'objective': 'binary', 'metric': 'auc', 'random_state': 42, 'verbose': -1, 'learning_rate': 0.05254210669345883, 'n_estimators': 479, 'min_child_samples': 30, 'subsample': 0.8, 'colsample_bytree': 0.5}. Best is trial 2 with value: 0.7391447327610956.\n",
      "[I 2025-02-17 11:12:08,119] Trial 6 finished with value: 0.7382102078879315 and parameters: {'objective': 'binary', 'metric': 'auc', 'random_state': 42, 'verbose': -1, 'learning_rate': 0.030860579740535368, 'n_estimators': 424, 'min_child_samples': 10, 'subsample': 1.0, 'colsample_bytree': 1.0}. Best is trial 2 with value: 0.7391447327610956.\n",
      "[I 2025-02-17 11:12:11,442] Trial 7 finished with value: 0.7371161568179765 and parameters: {'objective': 'binary', 'metric': 'auc', 'random_state': 42, 'verbose': -1, 'learning_rate': 0.05632733481673016, 'n_estimators': 679, 'min_child_samples': 10, 'subsample': 0.9, 'colsample_bytree': 0.7}. Best is trial 2 with value: 0.7391447327610956.\n",
      "[I 2025-02-17 11:12:18,209] Trial 8 finished with value: 0.7388588405304019 and parameters: {'objective': 'binary', 'metric': 'auc', 'random_state': 42, 'verbose': -1, 'learning_rate': 0.007206848764305203, 'n_estimators': 1041, 'min_child_samples': 10, 'subsample': 1.0, 'colsample_bytree': 0.6}. Best is trial 2 with value: 0.7391447327610956.\n",
      "[I 2025-02-17 11:12:22,246] Trial 9 finished with value: 0.7381748118960968 and parameters: {'objective': 'binary', 'metric': 'auc', 'random_state': 42, 'verbose': -1, 'learning_rate': 0.036385753170854684, 'n_estimators': 692, 'min_child_samples': 30, 'subsample': 0.8, 'colsample_bytree': 0.6}. Best is trial 2 with value: 0.7391447327610956.\n",
      "[I 2025-02-17 11:12:30,895] Trial 10 finished with value: 0.7381183721074787 and parameters: {'objective': 'binary', 'metric': 'auc', 'random_state': 42, 'verbose': -1, 'learning_rate': 0.015894131971030487, 'n_estimators': 1873, 'min_child_samples': 50, 'subsample': 0.5, 'colsample_bytree': 0.8}. Best is trial 2 with value: 0.7391447327610956.\n",
      "[I 2025-02-17 11:12:41,680] Trial 11 finished with value: 0.7390488621632184 and parameters: {'objective': 'binary', 'metric': 'auc', 'random_state': 42, 'verbose': -1, 'learning_rate': 0.015423665558445133, 'n_estimators': 1976, 'min_child_samples': 40, 'subsample': 0.5, 'colsample_bytree': 0.5}. Best is trial 2 with value: 0.7391447327610956.\n",
      "[I 2025-02-17 11:12:51,998] Trial 12 finished with value: 0.7391668329175591 and parameters: {'objective': 'binary', 'metric': 'auc', 'random_state': 42, 'verbose': -1, 'learning_rate': 0.005185870664499657, 'n_estimators': 1574, 'min_child_samples': 40, 'subsample': 0.6, 'colsample_bytree': 0.5}. Best is trial 12 with value: 0.7391668329175591.\n",
      "[I 2025-02-17 11:13:01,763] Trial 13 finished with value: 0.738959536229825 and parameters: {'objective': 'binary', 'metric': 'auc', 'random_state': 42, 'verbose': -1, 'learning_rate': 0.0051662573186964005, 'n_estimators': 1550, 'min_child_samples': 40, 'subsample': 0.6, 'colsample_bytree': 0.6}. Best is trial 12 with value: 0.7391668329175591.\n",
      "[I 2025-02-17 11:13:09,872] Trial 14 finished with value: 0.738742565511337 and parameters: {'objective': 'binary', 'metric': 'auc', 'random_state': 42, 'verbose': -1, 'learning_rate': 0.005994651912381298, 'n_estimators': 1410, 'min_child_samples': 50, 'subsample': 0.6, 'colsample_bytree': 0.8}. Best is trial 12 with value: 0.7391668329175591.\n",
      "[I 2025-02-17 11:13:17,925] Trial 15 finished with value: 0.7305052990893401 and parameters: {'objective': 'binary', 'metric': 'auc', 'random_state': 42, 'verbose': -1, 'learning_rate': 0.09023346061020121, 'n_estimators': 1567, 'min_child_samples': 35, 'subsample': 0.6, 'colsample_bytree': 0.5}. Best is trial 12 with value: 0.7391668329175591.\n",
      "[I 2025-02-17 11:13:24,503] Trial 16 finished with value: 0.7389707908288219 and parameters: {'objective': 'binary', 'metric': 'auc', 'random_state': 42, 'verbose': -1, 'learning_rate': 0.010981849541328218, 'n_estimators': 1218, 'min_child_samples': 45, 'subsample': 0.6, 'colsample_bytree': 0.7}. Best is trial 12 with value: 0.7391668329175591.\n",
      "[I 2025-02-17 11:13:33,776] Trial 17 finished with value: 0.7392003425528223 and parameters: {'objective': 'binary', 'metric': 'auc', 'random_state': 42, 'verbose': -1, 'learning_rate': 0.010103486434085585, 'n_estimators': 1739, 'min_child_samples': 20, 'subsample': 0.5, 'colsample_bytree': 0.6}. Best is trial 17 with value: 0.7392003425528223.\n",
      "[I 2025-02-17 11:13:43,442] Trial 18 finished with value: 0.7394204902929044 and parameters: {'objective': 'binary', 'metric': 'auc', 'random_state': 42, 'verbose': -1, 'learning_rate': 0.011042882942242765, 'n_estimators': 1658, 'min_child_samples': 20, 'subsample': 0.5, 'colsample_bytree': 0.5}. Best is trial 18 with value: 0.7394204902929044.\n",
      "[I 2025-02-17 11:13:49,132] Trial 19 finished with value: 0.7390193118911169 and parameters: {'objective': 'binary', 'metric': 'auc', 'random_state': 42, 'verbose': -1, 'learning_rate': 0.011177271515266114, 'n_estimators': 1026, 'min_child_samples': 20, 'subsample': 0.5, 'colsample_bytree': 0.7}. Best is trial 18 with value: 0.7394204902929044.\n"
     ]
    },
    {
     "name": "stdout",
     "output_type": "stream",
     "text": [
      "{'objective': 'binary', 'metric': 'auc', 'random_state': 42, 'verbose': -1, 'learning_rate': 0.011042882942242765, 'n_estimators': 1658, 'min_child_samples': 20, 'subsample': 0.5, 'colsample_bytree': 0.5}\n",
      "0.7394204902929044\n",
      "0.7397310282686139\n"
     ]
    },
    {
     "name": "stderr",
     "output_type": "stream",
     "text": [
      "[I 2025-02-17 11:13:59,526] A new study created in memory with name: no-name-250de8b2-4784-4e0b-9443-1efc478058a8\n"
     ]
    },
    {
     "name": "stdout",
     "output_type": "stream",
     "text": [
      "==================================================\n",
      "0:\ttest: 0.7161176\tbest: 0.7161176 (0)\ttotal: 67.8ms\tremaining: 1m 58s\n",
      "300:\ttest: 0.7469546\tbest: 0.7469908 (284)\ttotal: 16.2s\tremaining: 1m 17s\n"
     ]
    },
    {
     "name": "stderr",
     "output_type": "stream",
     "text": [
      "[I 2025-02-17 11:14:31,354] Trial 0 finished with value: 0.7469908425645584 and parameters: {'iterations': 1749, 'learning_rate': 0.09531785910894204}. Best is trial 0 with value: 0.7469908425645584.\n"
     ]
    },
    {
     "name": "stdout",
     "output_type": "stream",
     "text": [
      "Stopped by overfitting detector  (300 iterations wait)\n",
      "\n",
      "bestTest = 0.7469908426\n",
      "bestIteration = 284\n",
      "\n",
      "Shrink model to first 285 iterations.\n",
      "0:\ttest: 0.7161176\tbest: 0.7161176 (0)\ttotal: 69.1ms\tremaining: 2m 50s\n",
      "300:\ttest: 0.7469615\tbest: 0.7469615 (300)\ttotal: 16.1s\tremaining: 1m 55s\n",
      "600:\ttest: 0.7471574\tbest: 0.7472341 (455)\ttotal: 32.3s\tremaining: 1m 40s\n"
     ]
    },
    {
     "name": "stderr",
     "output_type": "stream",
     "text": [
      "[I 2025-02-17 11:15:12,505] Trial 1 finished with value: 0.7472340831711333 and parameters: {'iterations': 2464, 'learning_rate': 0.06187255599871847}. Best is trial 1 with value: 0.7472340831711333.\n"
     ]
    },
    {
     "name": "stdout",
     "output_type": "stream",
     "text": [
      "Stopped by overfitting detector  (300 iterations wait)\n",
      "\n",
      "bestTest = 0.7472340832\n",
      "bestIteration = 455\n",
      "\n",
      "Shrink model to first 456 iterations.\n",
      "0:\ttest: 0.7161176\tbest: 0.7161176 (0)\ttotal: 70ms\tremaining: 1m 31s\n",
      "300:\ttest: 0.7441647\tbest: 0.7441647 (300)\ttotal: 15.9s\tremaining: 53.5s\n",
      "600:\ttest: 0.7459844\tbest: 0.7459848 (599)\ttotal: 31.7s\tremaining: 37.5s\n",
      "900:\ttest: 0.7467118\tbest: 0.7467130 (898)\ttotal: 48.1s\tremaining: 21.9s\n",
      "1200:\ttest: 0.7468868\tbest: 0.7468924 (1192)\ttotal: 1m 4s\tremaining: 5.96s\n"
     ]
    },
    {
     "name": "stderr",
     "output_type": "stream",
     "text": [
      "[I 2025-02-17 11:16:23,445] Trial 2 finished with value: 0.7469987605116903 and parameters: {'iterations': 1312, 'learning_rate': 0.019819479431939253}. Best is trial 1 with value: 0.7472340831711333.\n"
     ]
    },
    {
     "name": "stdout",
     "output_type": "stream",
     "text": [
      "1311:\ttest: 0.7469930\tbest: 0.7469988 (1307)\ttotal: 1m 10s\tremaining: 0us\n",
      "\n",
      "bestTest = 0.7469987605\n",
      "bestIteration = 1307\n",
      "\n",
      "Shrink model to first 1308 iterations.\n",
      "0:\ttest: 0.7161176\tbest: 0.7161176 (0)\ttotal: 69.5ms\tremaining: 1m 17s\n",
      "300:\ttest: 0.7475394\tbest: 0.7475605 (294)\ttotal: 16.4s\tremaining: 44.4s\n",
      "600:\ttest: 0.7472632\tbest: 0.7477173 (418)\ttotal: 32.9s\tremaining: 28.2s\n"
     ]
    },
    {
     "name": "stderr",
     "output_type": "stream",
     "text": [
      "[I 2025-02-17 11:17:03,197] Trial 3 finished with value: 0.7477173082575785 and parameters: {'iterations': 1116, 'learning_rate': 0.08728673384861885}. Best is trial 3 with value: 0.7477173082575785.\n"
     ]
    },
    {
     "name": "stdout",
     "output_type": "stream",
     "text": [
      "Stopped by overfitting detector  (300 iterations wait)\n",
      "\n",
      "bestTest = 0.7477173083\n",
      "bestIteration = 418\n",
      "\n",
      "Shrink model to first 419 iterations.\n",
      "0:\ttest: 0.7161176\tbest: 0.7161176 (0)\ttotal: 72.8ms\tremaining: 2m 40s\n",
      "300:\ttest: 0.7467075\tbest: 0.7467217 (298)\ttotal: 16.1s\tremaining: 1m 41s\n",
      "600:\ttest: 0.7467004\tbest: 0.7468915 (422)\ttotal: 32.3s\tremaining: 1m 26s\n"
     ]
    },
    {
     "name": "stderr",
     "output_type": "stream",
     "text": [
      "[I 2025-02-17 11:17:42,549] Trial 4 finished with value: 0.7468914631950151 and parameters: {'iterations': 2202, 'learning_rate': 0.07226689489062432}. Best is trial 3 with value: 0.7477173082575785.\n"
     ]
    },
    {
     "name": "stdout",
     "output_type": "stream",
     "text": [
      "Stopped by overfitting detector  (300 iterations wait)\n",
      "\n",
      "bestTest = 0.7468914632\n",
      "bestIteration = 422\n",
      "\n",
      "Shrink model to first 423 iterations.\n",
      "0:\ttest: 0.7161176\tbest: 0.7161176 (0)\ttotal: 71.4ms\tremaining: 1m 14s\n",
      "300:\ttest: 0.7461847\tbest: 0.7463432 (188)\ttotal: 16.2s\tremaining: 39.7s\n"
     ]
    },
    {
     "name": "stderr",
     "output_type": "stream",
     "text": [
      "[I 2025-02-17 11:18:09,263] Trial 5 finished with value: 0.7463432188175279 and parameters: {'iterations': 1041, 'learning_rate': 0.09714143595538946}. Best is trial 3 with value: 0.7477173082575785.\n"
     ]
    },
    {
     "name": "stdout",
     "output_type": "stream",
     "text": [
      "Stopped by overfitting detector  (300 iterations wait)\n",
      "\n",
      "bestTest = 0.7463432188\n",
      "bestIteration = 188\n",
      "\n",
      "Shrink model to first 189 iterations.\n",
      "0:\ttest: 0.7161176\tbest: 0.7161176 (0)\ttotal: 80.8ms\tremaining: 3m 35s\n",
      "300:\ttest: 0.7449781\tbest: 0.7449781 (300)\ttotal: 15.9s\tremaining: 2m 5s\n",
      "600:\ttest: 0.7465160\tbest: 0.7465162 (597)\ttotal: 31.9s\tremaining: 1m 49s\n",
      "900:\ttest: 0.7468991\tbest: 0.7468991 (900)\ttotal: 48.2s\tremaining: 1m 34s\n",
      "1200:\ttest: 0.7469641\tbest: 0.7470324 (1097)\ttotal: 1m 4s\tremaining: 1m 18s\n",
      "1500:\ttest: 0.7469932\tbest: 0.7470388 (1260)\ttotal: 1m 20s\tremaining: 1m 2s\n"
     ]
    },
    {
     "name": "stderr",
     "output_type": "stream",
     "text": [
      "[I 2025-02-17 11:19:33,675] Trial 6 finished with value: 0.747038814841038 and parameters: {'iterations': 2665, 'learning_rate': 0.025172215514436234}. Best is trial 3 with value: 0.7477173082575785.\n"
     ]
    },
    {
     "name": "stdout",
     "output_type": "stream",
     "text": [
      "Stopped by overfitting detector  (300 iterations wait)\n",
      "\n",
      "bestTest = 0.7470388148\n",
      "bestIteration = 1260\n",
      "\n",
      "Shrink model to first 1261 iterations.\n",
      "0:\ttest: 0.7161176\tbest: 0.7161176 (0)\ttotal: 69.7ms\tremaining: 1m 34s\n",
      "300:\ttest: 0.7446328\tbest: 0.7446328 (300)\ttotal: 16.2s\tremaining: 57s\n",
      "600:\ttest: 0.7463992\tbest: 0.7464007 (599)\ttotal: 32s\tremaining: 40.5s\n",
      "900:\ttest: 0.7470898\tbest: 0.7470961 (895)\ttotal: 48.4s\tremaining: 24.8s\n",
      "1200:\ttest: 0.7471656\tbest: 0.7471699 (1139)\ttotal: 1m 4s\tremaining: 8.73s\n"
     ]
    },
    {
     "name": "stderr",
     "output_type": "stream",
     "text": [
      "[I 2025-02-17 11:20:47,685] Trial 7 finished with value: 0.7472127595121071 and parameters: {'iterations': 1363, 'learning_rate': 0.022423428436076212}. Best is trial 3 with value: 0.7477173082575785.\n"
     ]
    },
    {
     "name": "stdout",
     "output_type": "stream",
     "text": [
      "1362:\ttest: 0.7472007\tbest: 0.7472128 (1307)\ttotal: 1m 13s\tremaining: 0us\n",
      "\n",
      "bestTest = 0.7472127595\n",
      "bestIteration = 1307\n",
      "\n",
      "Shrink model to first 1308 iterations.\n",
      "0:\ttest: 0.7161176\tbest: 0.7161176 (0)\ttotal: 83.1ms\tremaining: 2m 13s\n",
      "300:\ttest: 0.7467123\tbest: 0.7467123 (300)\ttotal: 16s\tremaining: 1m 9s\n",
      "600:\ttest: 0.7467811\tbest: 0.7469789 (401)\ttotal: 32.5s\tremaining: 54.5s\n"
     ]
    },
    {
     "name": "stderr",
     "output_type": "stream",
     "text": [
      "[I 2025-02-17 11:21:26,106] Trial 8 finished with value: 0.7469789338767708 and parameters: {'iterations': 1608, 'learning_rate': 0.05485186100506259}. Best is trial 3 with value: 0.7477173082575785.\n"
     ]
    },
    {
     "name": "stdout",
     "output_type": "stream",
     "text": [
      "Stopped by overfitting detector  (300 iterations wait)\n",
      "\n",
      "bestTest = 0.7469789339\n",
      "bestIteration = 401\n",
      "\n",
      "Shrink model to first 402 iterations.\n",
      "0:\ttest: 0.7161176\tbest: 0.7161176 (0)\ttotal: 71.2ms\tremaining: 2m 12s\n",
      "300:\ttest: 0.7457222\tbest: 0.7457222 (300)\ttotal: 16s\tremaining: 1m 23s\n",
      "600:\ttest: 0.7468440\tbest: 0.7468440 (600)\ttotal: 32.4s\tremaining: 1m 8s\n",
      "900:\ttest: 0.7470884\tbest: 0.7471406 (742)\ttotal: 49.1s\tremaining: 52.4s\n"
     ]
    },
    {
     "name": "stderr",
     "output_type": "stream",
     "text": [
      "[I 2025-02-17 11:22:23,418] Trial 9 finished with value: 0.7471406085094059 and parameters: {'iterations': 1864, 'learning_rate': 0.03266676831881398}. Best is trial 3 with value: 0.7477173082575785.\n"
     ]
    },
    {
     "name": "stdout",
     "output_type": "stream",
     "text": [
      "Stopped by overfitting detector  (300 iterations wait)\n",
      "\n",
      "bestTest = 0.7471406085\n",
      "bestIteration = 742\n",
      "\n",
      "Shrink model to first 743 iterations.\n",
      "0:\ttest: 0.7161176\tbest: 0.7161176 (0)\ttotal: 67.3ms\tremaining: 1m 15s\n",
      "300:\ttest: 0.7475394\tbest: 0.7475605 (294)\ttotal: 16.6s\tremaining: 45s\n",
      "600:\ttest: 0.7472632\tbest: 0.7477173 (418)\ttotal: 33.2s\tremaining: 28.5s\n"
     ]
    },
    {
     "name": "stderr",
     "output_type": "stream",
     "text": [
      "[I 2025-02-17 11:23:03,563] A new study created in memory with name: no-name-b62234d7-f9b7-4b5c-bb23-67054141afa1\n"
     ]
    },
    {
     "name": "stdout",
     "output_type": "stream",
     "text": [
      "Stopped by overfitting detector  (300 iterations wait)\n",
      "\n",
      "bestTest = 0.7477173083\n",
      "bestIteration = 418\n",
      "\n",
      "Shrink model to first 419 iterations.\n"
     ]
    },
    {
     "name": "stderr",
     "output_type": "stream",
     "text": [
      "[I 2025-02-17 11:23:13,829] Trial 0 finished with value: 0.7460864216053823 and parameters: {'objective': 'binary', 'metric': 'auc', 'random_state': 42, 'verbose': -1, 'learning_rate': 0.015355286838886862, 'n_estimators': 1907, 'min_child_samples': 40, 'subsample': 0.8, 'colsample_bytree': 0.5}. Best is trial 0 with value: 0.7460864216053823.\n",
      "[I 2025-02-17 11:23:15,630] Trial 1 finished with value: 0.7411255021145922 and parameters: {'objective': 'binary', 'metric': 'auc', 'random_state': 42, 'verbose': -1, 'learning_rate': 0.00797854234707418, 'n_estimators': 210, 'min_child_samples': 45, 'subsample': 0.8, 'colsample_bytree': 0.9}. Best is trial 0 with value: 0.7460864216053823.\n",
      "[I 2025-02-17 11:23:26,897] Trial 2 finished with value: 0.7467081710577732 and parameters: {'objective': 'binary', 'metric': 'auc', 'random_state': 42, 'verbose': -1, 'learning_rate': 0.005318033256270142, 'n_estimators': 1943, 'min_child_samples': 45, 'subsample': 0.6, 'colsample_bytree': 0.6}. Best is trial 2 with value: 0.7467081710577732.\n",
      "[I 2025-02-17 11:23:31,566] Trial 3 finished with value: 0.7459376920618395 and parameters: {'objective': 'binary', 'metric': 'auc', 'random_state': 42, 'verbose': -1, 'learning_rate': 0.008661333735273127, 'n_estimators': 678, 'min_child_samples': 30, 'subsample': 0.7, 'colsample_bytree': 0.6}. Best is trial 2 with value: 0.7467081710577732.\n",
      "[I 2025-02-17 11:23:33,904] Trial 4 finished with value: 0.7460184360623308 and parameters: {'objective': 'binary', 'metric': 'auc', 'random_state': 42, 'verbose': -1, 'learning_rate': 0.03126143958203108, 'n_estimators': 365, 'min_child_samples': 20, 'subsample': 0.7, 'colsample_bytree': 0.7}. Best is trial 2 with value: 0.7467081710577732.\n",
      "[I 2025-02-17 11:23:36,966] Trial 5 finished with value: 0.7450895147351487 and parameters: {'objective': 'binary', 'metric': 'auc', 'random_state': 42, 'verbose': -1, 'learning_rate': 0.05254210669345883, 'n_estimators': 479, 'min_child_samples': 30, 'subsample': 0.8, 'colsample_bytree': 0.5}. Best is trial 2 with value: 0.7467081710577732.\n",
      "[I 2025-02-17 11:23:39,556] Trial 6 finished with value: 0.7461019001198859 and parameters: {'objective': 'binary', 'metric': 'auc', 'random_state': 42, 'verbose': -1, 'learning_rate': 0.030860579740535368, 'n_estimators': 424, 'min_child_samples': 10, 'subsample': 1.0, 'colsample_bytree': 1.0}. Best is trial 2 with value: 0.7467081710577732.\n",
      "[I 2025-02-17 11:23:42,844] Trial 7 finished with value: 0.7435947024120974 and parameters: {'objective': 'binary', 'metric': 'auc', 'random_state': 42, 'verbose': -1, 'learning_rate': 0.05632733481673016, 'n_estimators': 679, 'min_child_samples': 10, 'subsample': 0.9, 'colsample_bytree': 0.7}. Best is trial 2 with value: 0.7467081710577732.\n",
      "[I 2025-02-17 11:23:49,471] Trial 8 finished with value: 0.7464870602001282 and parameters: {'objective': 'binary', 'metric': 'auc', 'random_state': 42, 'verbose': -1, 'learning_rate': 0.007206848764305203, 'n_estimators': 1041, 'min_child_samples': 10, 'subsample': 1.0, 'colsample_bytree': 0.6}. Best is trial 2 with value: 0.7467081710577732.\n",
      "[I 2025-02-17 11:23:53,267] Trial 9 finished with value: 0.745654750534791 and parameters: {'objective': 'binary', 'metric': 'auc', 'random_state': 42, 'verbose': -1, 'learning_rate': 0.036385753170854684, 'n_estimators': 692, 'min_child_samples': 30, 'subsample': 0.8, 'colsample_bytree': 0.6}. Best is trial 2 with value: 0.7467081710577732.\n",
      "[I 2025-02-17 11:24:01,681] Trial 10 finished with value: 0.745454149304496 and parameters: {'objective': 'binary', 'metric': 'auc', 'random_state': 42, 'verbose': -1, 'learning_rate': 0.015894131971030487, 'n_estimators': 1873, 'min_child_samples': 50, 'subsample': 0.5, 'colsample_bytree': 0.8}. Best is trial 2 with value: 0.7467081710577732.\n",
      "[I 2025-02-17 11:24:10,074] Trial 11 finished with value: 0.7464232480584987 and parameters: {'objective': 'binary', 'metric': 'auc', 'random_state': 42, 'verbose': -1, 'learning_rate': 0.0054932202901173555, 'n_estimators': 1329, 'min_child_samples': 20, 'subsample': 0.5, 'colsample_bytree': 0.6}. Best is trial 2 with value: 0.7467081710577732.\n",
      "[I 2025-02-17 11:24:17,712] Trial 12 finished with value: 0.7463464312644836 and parameters: {'objective': 'binary', 'metric': 'auc', 'random_state': 42, 'verbose': -1, 'learning_rate': 0.005247354763459572, 'n_estimators': 1273, 'min_child_samples': 40, 'subsample': 0.6, 'colsample_bytree': 0.8}. Best is trial 2 with value: 0.7467081710577732.\n",
      "[I 2025-02-17 11:24:25,941] Trial 13 finished with value: 0.7463438621010963 and parameters: {'objective': 'binary', 'metric': 'auc', 'random_state': 42, 'verbose': -1, 'learning_rate': 0.010031606831238936, 'n_estimators': 1484, 'min_child_samples': 20, 'subsample': 1.0, 'colsample_bytree': 0.6}. Best is trial 2 with value: 0.7467081710577732.\n",
      "[I 2025-02-17 11:24:31,996] Trial 14 finished with value: 0.7467345178878736 and parameters: {'objective': 'binary', 'metric': 'auc', 'random_state': 42, 'verbose': -1, 'learning_rate': 0.014790680152586035, 'n_estimators': 962, 'min_child_samples': 40, 'subsample': 0.6, 'colsample_bytree': 0.5}. Best is trial 14 with value: 0.7467345178878736.\n",
      "[I 2025-02-17 11:24:37,352] Trial 15 finished with value: 0.7409997957693797 and parameters: {'objective': 'binary', 'metric': 'auc', 'random_state': 42, 'verbose': -1, 'learning_rate': 0.09023346061020121, 'n_estimators': 986, 'min_child_samples': 40, 'subsample': 0.6, 'colsample_bytree': 0.5}. Best is trial 14 with value: 0.7467345178878736.\n",
      "[I 2025-02-17 11:24:46,699] Trial 16 finished with value: 0.7465256413306866 and parameters: {'objective': 'binary', 'metric': 'auc', 'random_state': 42, 'verbose': -1, 'learning_rate': 0.014053180012269552, 'n_estimators': 1640, 'min_child_samples': 50, 'subsample': 0.6, 'colsample_bytree': 0.5}. Best is trial 14 with value: 0.7467345178878736.\n",
      "[I 2025-02-17 11:24:51,454] Trial 17 finished with value: 0.7462831631342669 and parameters: {'objective': 'binary', 'metric': 'auc', 'random_state': 42, 'verbose': -1, 'learning_rate': 0.019919183876440906, 'n_estimators': 922, 'min_child_samples': 35, 'subsample': 0.6, 'colsample_bytree': 0.7}. Best is trial 14 with value: 0.7467345178878736.\n",
      "[I 2025-02-17 11:25:01,402] Trial 18 finished with value: 0.7466067625653692 and parameters: {'objective': 'binary', 'metric': 'auc', 'random_state': 42, 'verbose': -1, 'learning_rate': 0.011495929397172403, 'n_estimators': 1716, 'min_child_samples': 45, 'subsample': 0.5, 'colsample_bytree': 0.5}. Best is trial 14 with value: 0.7467345178878736.\n",
      "[I 2025-02-17 11:25:07,244] Trial 19 finished with value: 0.7455428866989575 and parameters: {'objective': 'binary', 'metric': 'auc', 'random_state': 42, 'verbose': -1, 'learning_rate': 0.023020119511241898, 'n_estimators': 1220, 'min_child_samples': 45, 'subsample': 0.7, 'colsample_bytree': 0.7}. Best is trial 14 with value: 0.7467345178878736.\n"
     ]
    },
    {
     "name": "stdout",
     "output_type": "stream",
     "text": [
      "{'objective': 'binary', 'metric': 'auc', 'random_state': 42, 'verbose': -1, 'learning_rate': 0.014790680152586035, 'n_estimators': 962, 'min_child_samples': 40, 'subsample': 0.6, 'colsample_bytree': 0.5}\n",
      "0.7467345178878735\n",
      "0.7476034113279981\n"
     ]
    },
    {
     "name": "stderr",
     "output_type": "stream",
     "text": [
      "[I 2025-02-17 11:25:13,925] A new study created in memory with name: no-name-b2f23785-563e-4f94-bd1c-a3282ef19e8b\n"
     ]
    },
    {
     "name": "stdout",
     "output_type": "stream",
     "text": [
      "==================================================\n",
      "0:\ttest: 0.7218343\tbest: 0.7218343 (0)\ttotal: 68.7ms\tremaining: 2m\n",
      "300:\ttest: 0.7427253\tbest: 0.7429699 (276)\ttotal: 16.1s\tremaining: 1m 17s\n",
      "600:\ttest: 0.7427205\tbest: 0.7430307 (514)\ttotal: 32.5s\tremaining: 1m 2s\n"
     ]
    },
    {
     "name": "stderr",
     "output_type": "stream",
     "text": [
      "[I 2025-02-17 11:25:58,547] Trial 0 finished with value: 0.7430306817036398 and parameters: {'iterations': 1749, 'learning_rate': 0.09531785910894204}. Best is trial 0 with value: 0.7430306817036398.\n"
     ]
    },
    {
     "name": "stdout",
     "output_type": "stream",
     "text": [
      "Stopped by overfitting detector  (300 iterations wait)\n",
      "\n",
      "bestTest = 0.7430306817\n",
      "bestIteration = 514\n",
      "\n",
      "Shrink model to first 515 iterations.\n",
      "0:\ttest: 0.7218343\tbest: 0.7218343 (0)\ttotal: 74.1ms\tremaining: 3m 2s\n",
      "300:\ttest: 0.7428383\tbest: 0.7429011 (271)\ttotal: 16s\tremaining: 1m 54s\n",
      "600:\ttest: 0.7431715\tbest: 0.7432338 (473)\ttotal: 32.2s\tremaining: 1m 39s\n",
      "900:\ttest: 0.7430913\tbest: 0.7433244 (765)\ttotal: 48.7s\tremaining: 1m 24s\n"
     ]
    },
    {
     "name": "stderr",
     "output_type": "stream",
     "text": [
      "[I 2025-02-17 11:26:56,856] Trial 1 finished with value: 0.7433243605070396 and parameters: {'iterations': 2464, 'learning_rate': 0.06187255599871847}. Best is trial 1 with value: 0.7433243605070396.\n"
     ]
    },
    {
     "name": "stdout",
     "output_type": "stream",
     "text": [
      "Stopped by overfitting detector  (300 iterations wait)\n",
      "\n",
      "bestTest = 0.7433243605\n",
      "bestIteration = 765\n",
      "\n",
      "Shrink model to first 766 iterations.\n",
      "0:\ttest: 0.7218343\tbest: 0.7218343 (0)\ttotal: 78ms\tremaining: 1m 42s\n",
      "300:\ttest: 0.7415376\tbest: 0.7415376 (300)\ttotal: 16s\tremaining: 53.8s\n",
      "600:\ttest: 0.7426871\tbest: 0.7426871 (600)\ttotal: 31.6s\tremaining: 37.4s\n",
      "900:\ttest: 0.7431703\tbest: 0.7431723 (899)\ttotal: 47.9s\tremaining: 21.9s\n",
      "1200:\ttest: 0.7433430\tbest: 0.7433743 (1088)\ttotal: 1m 4s\tremaining: 5.94s\n"
     ]
    },
    {
     "name": "stderr",
     "output_type": "stream",
     "text": [
      "[I 2025-02-17 11:28:07,620] Trial 2 finished with value: 0.7433852103675456 and parameters: {'iterations': 1312, 'learning_rate': 0.019819479431939253}. Best is trial 2 with value: 0.7433852103675456.\n"
     ]
    },
    {
     "name": "stdout",
     "output_type": "stream",
     "text": [
      "1311:\ttest: 0.7433813\tbest: 0.7433852 (1256)\ttotal: 1m 10s\tremaining: 0us\n",
      "\n",
      "bestTest = 0.7433852104\n",
      "bestIteration = 1256\n",
      "\n",
      "Shrink model to first 1257 iterations.\n",
      "0:\ttest: 0.7218343\tbest: 0.7218343 (0)\ttotal: 71.3ms\tremaining: 1m 19s\n",
      "300:\ttest: 0.7427476\tbest: 0.7428162 (212)\ttotal: 16s\tremaining: 43.4s\n"
     ]
    },
    {
     "name": "stderr",
     "output_type": "stream",
     "text": [
      "[I 2025-02-17 11:28:35,531] Trial 3 finished with value: 0.7428162260513071 and parameters: {'iterations': 1116, 'learning_rate': 0.08728673384861885}. Best is trial 2 with value: 0.7433852103675456.\n"
     ]
    },
    {
     "name": "stdout",
     "output_type": "stream",
     "text": [
      "Stopped by overfitting detector  (300 iterations wait)\n",
      "\n",
      "bestTest = 0.7428162261\n",
      "bestIteration = 212\n",
      "\n",
      "Shrink model to first 213 iterations.\n",
      "0:\ttest: 0.7218343\tbest: 0.7218343 (0)\ttotal: 81.7ms\tremaining: 2m 59s\n",
      "300:\ttest: 0.7434895\tbest: 0.7434895 (300)\ttotal: 16.1s\tremaining: 1m 41s\n",
      "600:\ttest: 0.7434979\tbest: 0.7437482 (528)\ttotal: 32.5s\tremaining: 1m 26s\n"
     ]
    },
    {
     "name": "stderr",
     "output_type": "stream",
     "text": [
      "[I 2025-02-17 11:29:20,889] Trial 4 finished with value: 0.7437482446697444 and parameters: {'iterations': 2202, 'learning_rate': 0.07226689489062432}. Best is trial 4 with value: 0.7437482446697444.\n"
     ]
    },
    {
     "name": "stdout",
     "output_type": "stream",
     "text": [
      "Stopped by overfitting detector  (300 iterations wait)\n",
      "\n",
      "bestTest = 0.7437482447\n",
      "bestIteration = 528\n",
      "\n",
      "Shrink model to first 529 iterations.\n",
      "0:\ttest: 0.7218343\tbest: 0.7218343 (0)\ttotal: 67.7ms\tremaining: 1m 10s\n",
      "300:\ttest: 0.7435955\tbest: 0.7436123 (294)\ttotal: 16.2s\tremaining: 39.9s\n",
      "600:\ttest: 0.7432660\tbest: 0.7437588 (413)\ttotal: 32.7s\tremaining: 23.9s\n"
     ]
    },
    {
     "name": "stderr",
     "output_type": "stream",
     "text": [
      "[I 2025-02-17 11:30:00,145] Trial 5 finished with value: 0.7437588072271019 and parameters: {'iterations': 1041, 'learning_rate': 0.09714143595538946}. Best is trial 5 with value: 0.7437588072271019.\n"
     ]
    },
    {
     "name": "stdout",
     "output_type": "stream",
     "text": [
      "Stopped by overfitting detector  (300 iterations wait)\n",
      "\n",
      "bestTest = 0.7437588072\n",
      "bestIteration = 413\n",
      "\n",
      "Shrink model to first 414 iterations.\n",
      "0:\ttest: 0.7218343\tbest: 0.7218343 (0)\ttotal: 78.7ms\tremaining: 3m 29s\n",
      "300:\ttest: 0.7419299\tbest: 0.7419299 (300)\ttotal: 15.7s\tremaining: 2m 3s\n",
      "600:\ttest: 0.7428118\tbest: 0.7428205 (597)\ttotal: 31.3s\tremaining: 1m 47s\n",
      "900:\ttest: 0.7431867\tbest: 0.7431946 (837)\ttotal: 47.4s\tremaining: 1m 32s\n",
      "1200:\ttest: 0.7432030\tbest: 0.7432408 (1069)\ttotal: 1m 3s\tremaining: 1m 17s\n",
      "1500:\ttest: 0.7432730\tbest: 0.7433340 (1402)\ttotal: 1m 20s\tremaining: 1m 2s\n"
     ]
    },
    {
     "name": "stderr",
     "output_type": "stream",
     "text": [
      "[I 2025-02-17 11:31:31,795] Trial 6 finished with value: 0.7433339621099306 and parameters: {'iterations': 2665, 'learning_rate': 0.025172215514436234}. Best is trial 5 with value: 0.7437588072271019.\n"
     ]
    },
    {
     "name": "stdout",
     "output_type": "stream",
     "text": [
      "Stopped by overfitting detector  (300 iterations wait)\n",
      "\n",
      "bestTest = 0.7433339621\n",
      "bestIteration = 1402\n",
      "\n",
      "Shrink model to first 1403 iterations.\n",
      "0:\ttest: 0.7218343\tbest: 0.7218343 (0)\ttotal: 71ms\tremaining: 1m 36s\n",
      "300:\ttest: 0.7416187\tbest: 0.7416187 (300)\ttotal: 15.8s\tremaining: 55.8s\n",
      "600:\ttest: 0.7425958\tbest: 0.7425958 (600)\ttotal: 31.4s\tremaining: 39.8s\n",
      "900:\ttest: 0.7431566\tbest: 0.7431806 (890)\ttotal: 47.5s\tremaining: 24.3s\n",
      "1200:\ttest: 0.7433427\tbest: 0.7433525 (1180)\ttotal: 1m 3s\tremaining: 8.61s\n"
     ]
    },
    {
     "name": "stderr",
     "output_type": "stream",
     "text": [
      "[I 2025-02-17 11:32:44,818] Trial 7 finished with value: 0.7434341594820364 and parameters: {'iterations': 1363, 'learning_rate': 0.022423428436076212}. Best is trial 5 with value: 0.7437588072271019.\n"
     ]
    },
    {
     "name": "stdout",
     "output_type": "stream",
     "text": [
      "1362:\ttest: 0.7434342\tbest: 0.7434342 (1362)\ttotal: 1m 12s\tremaining: 0us\n",
      "\n",
      "bestTest = 0.7434341595\n",
      "bestIteration = 1362\n",
      "\n",
      "0:\ttest: 0.7218343\tbest: 0.7218343 (0)\ttotal: 72.2ms\tremaining: 1m 56s\n",
      "300:\ttest: 0.7430552\tbest: 0.7430552 (300)\ttotal: 15.8s\tremaining: 1m 8s\n",
      "600:\ttest: 0.7430739\tbest: 0.7431820 (485)\ttotal: 31.8s\tremaining: 53.3s\n"
     ]
    },
    {
     "name": "stderr",
     "output_type": "stream",
     "text": [
      "[I 2025-02-17 11:33:26,793] Trial 8 finished with value: 0.7431820121776598 and parameters: {'iterations': 1608, 'learning_rate': 0.05485186100506259}. Best is trial 5 with value: 0.7437588072271019.\n"
     ]
    },
    {
     "name": "stdout",
     "output_type": "stream",
     "text": [
      "Stopped by overfitting detector  (300 iterations wait)\n",
      "\n",
      "bestTest = 0.7431820122\n",
      "bestIteration = 485\n",
      "\n",
      "Shrink model to first 486 iterations.\n",
      "0:\ttest: 0.7218343\tbest: 0.7218343 (0)\ttotal: 73.6ms\tremaining: 2m 17s\n",
      "300:\ttest: 0.7422247\tbest: 0.7422247 (300)\ttotal: 15.8s\tremaining: 1m 22s\n",
      "600:\ttest: 0.7430701\tbest: 0.7430701 (600)\ttotal: 31.8s\tremaining: 1m 6s\n",
      "900:\ttest: 0.7432233\tbest: 0.7432458 (849)\ttotal: 48.3s\tremaining: 51.6s\n",
      "1200:\ttest: 0.7433067\tbest: 0.7433138 (1199)\ttotal: 1m 4s\tremaining: 35.7s\n",
      "1500:\ttest: 0.7432255\tbest: 0.7433373 (1205)\ttotal: 1m 21s\tremaining: 19.6s\n"
     ]
    },
    {
     "name": "stderr",
     "output_type": "stream",
     "text": [
      "[I 2025-02-17 11:34:48,759] Trial 9 finished with value: 0.743337273829042 and parameters: {'iterations': 1864, 'learning_rate': 0.03266676831881398}. Best is trial 5 with value: 0.7437588072271019.\n"
     ]
    },
    {
     "name": "stdout",
     "output_type": "stream",
     "text": [
      "Stopped by overfitting detector  (300 iterations wait)\n",
      "\n",
      "bestTest = 0.7433372738\n",
      "bestIteration = 1205\n",
      "\n",
      "Shrink model to first 1206 iterations.\n",
      "0:\ttest: 0.7218343\tbest: 0.7218343 (0)\ttotal: 71.9ms\tremaining: 1m 14s\n",
      "300:\ttest: 0.7435955\tbest: 0.7436123 (294)\ttotal: 16.3s\tremaining: 40.2s\n",
      "600:\ttest: 0.7432660\tbest: 0.7437588 (413)\ttotal: 32.7s\tremaining: 23.9s\n"
     ]
    },
    {
     "name": "stderr",
     "output_type": "stream",
     "text": [
      "[I 2025-02-17 11:35:28,031] A new study created in memory with name: no-name-9bc29e1b-4bbd-40a5-ba12-0cacbb2f7c38\n"
     ]
    },
    {
     "name": "stdout",
     "output_type": "stream",
     "text": [
      "Stopped by overfitting detector  (300 iterations wait)\n",
      "\n",
      "bestTest = 0.7437588072\n",
      "bestIteration = 413\n",
      "\n",
      "Shrink model to first 414 iterations.\n"
     ]
    },
    {
     "name": "stderr",
     "output_type": "stream",
     "text": [
      "[I 2025-02-17 11:35:38,647] Trial 0 finished with value: 0.7414821750570593 and parameters: {'objective': 'binary', 'metric': 'auc', 'random_state': 42, 'verbose': -1, 'learning_rate': 0.015355286838886862, 'n_estimators': 1907, 'min_child_samples': 40, 'subsample': 0.8, 'colsample_bytree': 0.5}. Best is trial 0 with value: 0.7414821750570593.\n",
      "[I 2025-02-17 11:35:40,515] Trial 1 finished with value: 0.7399125194704465 and parameters: {'objective': 'binary', 'metric': 'auc', 'random_state': 42, 'verbose': -1, 'learning_rate': 0.00797854234707418, 'n_estimators': 210, 'min_child_samples': 45, 'subsample': 0.8, 'colsample_bytree': 0.9}. Best is trial 0 with value: 0.7414821750570593.\n",
      "[I 2025-02-17 11:35:51,924] Trial 2 finished with value: 0.7433325246491174 and parameters: {'objective': 'binary', 'metric': 'auc', 'random_state': 42, 'verbose': -1, 'learning_rate': 0.005318033256270142, 'n_estimators': 1943, 'min_child_samples': 45, 'subsample': 0.6, 'colsample_bytree': 0.6}. Best is trial 2 with value: 0.7433325246491174.\n",
      "[I 2025-02-17 11:35:56,753] Trial 3 finished with value: 0.7434959305881463 and parameters: {'objective': 'binary', 'metric': 'auc', 'random_state': 42, 'verbose': -1, 'learning_rate': 0.008661333735273127, 'n_estimators': 678, 'min_child_samples': 30, 'subsample': 0.7, 'colsample_bytree': 0.6}. Best is trial 3 with value: 0.7434959305881463.\n",
      "[I 2025-02-17 11:35:59,149] Trial 4 finished with value: 0.7428584246592161 and parameters: {'objective': 'binary', 'metric': 'auc', 'random_state': 42, 'verbose': -1, 'learning_rate': 0.03126143958203108, 'n_estimators': 365, 'min_child_samples': 20, 'subsample': 0.7, 'colsample_bytree': 0.7}. Best is trial 3 with value: 0.7434959305881463.\n",
      "[I 2025-02-17 11:36:02,294] Trial 5 finished with value: 0.7419832333935393 and parameters: {'objective': 'binary', 'metric': 'auc', 'random_state': 42, 'verbose': -1, 'learning_rate': 0.05254210669345883, 'n_estimators': 479, 'min_child_samples': 30, 'subsample': 0.8, 'colsample_bytree': 0.5}. Best is trial 3 with value: 0.7434959305881463.\n",
      "[I 2025-02-17 11:36:04,876] Trial 6 finished with value: 0.742468654380067 and parameters: {'objective': 'binary', 'metric': 'auc', 'random_state': 42, 'verbose': -1, 'learning_rate': 0.030860579740535368, 'n_estimators': 424, 'min_child_samples': 10, 'subsample': 1.0, 'colsample_bytree': 1.0}. Best is trial 3 with value: 0.7434959305881463.\n",
      "[I 2025-02-17 11:36:08,187] Trial 7 finished with value: 0.7399928346152254 and parameters: {'objective': 'binary', 'metric': 'auc', 'random_state': 42, 'verbose': -1, 'learning_rate': 0.05632733481673016, 'n_estimators': 679, 'min_child_samples': 10, 'subsample': 0.9, 'colsample_bytree': 0.7}. Best is trial 3 with value: 0.7434959305881463.\n",
      "[I 2025-02-17 11:36:14,749] Trial 8 finished with value: 0.7433342122757629 and parameters: {'objective': 'binary', 'metric': 'auc', 'random_state': 42, 'verbose': -1, 'learning_rate': 0.007206848764305203, 'n_estimators': 1041, 'min_child_samples': 10, 'subsample': 1.0, 'colsample_bytree': 0.6}. Best is trial 3 with value: 0.7434959305881463.\n",
      "[I 2025-02-17 11:36:18,535] Trial 9 finished with value: 0.7415074775440825 and parameters: {'objective': 'binary', 'metric': 'auc', 'random_state': 42, 'verbose': -1, 'learning_rate': 0.036385753170854684, 'n_estimators': 692, 'min_child_samples': 30, 'subsample': 0.8, 'colsample_bytree': 0.6}. Best is trial 3 with value: 0.7434959305881463.\n",
      "[I 2025-02-17 11:36:25,422] Trial 10 finished with value: 0.7419142948377939 and parameters: {'objective': 'binary', 'metric': 'auc', 'random_state': 42, 'verbose': -1, 'learning_rate': 0.01491283465543688, 'n_estimators': 1430, 'min_child_samples': 20, 'subsample': 0.5, 'colsample_bytree': 0.8}. Best is trial 3 with value: 0.7434959305881463.\n",
      "[I 2025-02-17 11:36:32,205] Trial 11 finished with value: 0.7430523111209053 and parameters: {'objective': 'binary', 'metric': 'auc', 'random_state': 42, 'verbose': -1, 'learning_rate': 0.0094774130099128, 'n_estimators': 1104, 'min_child_samples': 20, 'subsample': 1.0, 'colsample_bytree': 0.6}. Best is trial 3 with value: 0.7434959305881463.\n",
      "[I 2025-02-17 11:36:39,458] Trial 12 finished with value: 0.7434814487660852 and parameters: {'objective': 'binary', 'metric': 'auc', 'random_state': 42, 'verbose': -1, 'learning_rate': 0.005192914099575244, 'n_estimators': 1145, 'min_child_samples': 35, 'subsample': 0.6, 'colsample_bytree': 0.8}. Best is trial 3 with value: 0.7434959305881463.\n",
      "[I 2025-02-17 11:36:46,889] Trial 13 finished with value: 0.7434625155805663 and parameters: {'objective': 'binary', 'metric': 'auc', 'random_state': 42, 'verbose': -1, 'learning_rate': 0.005166500584930204, 'n_estimators': 1139, 'min_child_samples': 35, 'subsample': 0.6, 'colsample_bytree': 0.8}. Best is trial 3 with value: 0.7434959305881463.\n",
      "[I 2025-02-17 11:36:54,204] Trial 14 finished with value: 0.7417436142352014 and parameters: {'objective': 'binary', 'metric': 'auc', 'random_state': 42, 'verbose': -1, 'learning_rate': 0.013078263429628955, 'n_estimators': 1489, 'min_child_samples': 35, 'subsample': 0.6, 'colsample_bytree': 0.9}. Best is trial 3 with value: 0.7434959305881463.\n",
      "[I 2025-02-17 11:36:57,982] Trial 15 finished with value: 0.7366566627865284 and parameters: {'objective': 'binary', 'metric': 'auc', 'random_state': 42, 'verbose': -1, 'learning_rate': 0.09023346061020121, 'n_estimators': 807, 'min_child_samples': 50, 'subsample': 0.5, 'colsample_bytree': 0.7}. Best is trial 3 with value: 0.7434959305881463.\n",
      "[I 2025-02-17 11:37:05,221] Trial 16 finished with value: 0.7423704623055049 and parameters: {'objective': 'binary', 'metric': 'auc', 'random_state': 42, 'verbose': -1, 'learning_rate': 0.010519989510436362, 'n_estimators': 1387, 'min_child_samples': 25, 'subsample': 0.7, 'colsample_bytree': 0.9}. Best is trial 3 with value: 0.7434959305881463.\n",
      "[I 2025-02-17 11:37:09,629] Trial 17 finished with value: 0.7421940120052279 and parameters: {'objective': 'binary', 'metric': 'auc', 'random_state': 42, 'verbose': -1, 'learning_rate': 0.019919183876440906, 'n_estimators': 814, 'min_child_samples': 35, 'subsample': 0.7, 'colsample_bytree': 0.8}. Best is trial 3 with value: 0.7434959305881463.\n",
      "[I 2025-02-17 11:37:20,415] Trial 18 finished with value: 0.743312805228126 and parameters: {'objective': 'binary', 'metric': 'auc', 'random_state': 42, 'verbose': -1, 'learning_rate': 0.006254016440522748, 'n_estimators': 1692, 'min_child_samples': 30, 'subsample': 0.6, 'colsample_bytree': 0.5}. Best is trial 3 with value: 0.7434959305881463.\n",
      "[I 2025-02-17 11:37:25,875] Trial 19 finished with value: 0.7427828308981582 and parameters: {'objective': 'binary', 'metric': 'auc', 'random_state': 42, 'verbose': -1, 'learning_rate': 0.010294402716835998, 'n_estimators': 933, 'min_child_samples': 25, 'subsample': 0.5, 'colsample_bytree': 1.0}. Best is trial 3 with value: 0.7434959305881463.\n"
     ]
    },
    {
     "name": "stdout",
     "output_type": "stream",
     "text": [
      "{'objective': 'binary', 'metric': 'auc', 'random_state': 42, 'verbose': -1, 'learning_rate': 0.008661333735273127, 'n_estimators': 678, 'min_child_samples': 30, 'subsample': 0.7, 'colsample_bytree': 0.6}\n",
      "0.7434959305881463\n",
      "0.7440637315802898\n"
     ]
    },
    {
     "name": "stderr",
     "output_type": "stream",
     "text": [
      "[I 2025-02-17 11:37:31,287] A new study created in memory with name: no-name-df63f6a3-12c4-48da-a927-214706a4c68c\n"
     ]
    },
    {
     "name": "stdout",
     "output_type": "stream",
     "text": [
      "==================================================\n",
      "0:\ttest: 0.7152302\tbest: 0.7152302 (0)\ttotal: 77.8ms\tremaining: 2m 15s\n",
      "300:\ttest: 0.7369638\tbest: 0.7370525 (242)\ttotal: 16.3s\tremaining: 1m 18s\n",
      "600:\ttest: 0.7371813\tbest: 0.7372870 (545)\ttotal: 33s\tremaining: 1m 3s\n",
      "900:\ttest: 0.7372691\tbest: 0.7374048 (828)\ttotal: 49.6s\tremaining: 46.7s\n"
     ]
    },
    {
     "name": "stderr",
     "output_type": "stream",
     "text": [
      "[I 2025-02-17 11:38:34,066] Trial 0 finished with value: 0.7374048293727662 and parameters: {'iterations': 1749, 'learning_rate': 0.09531785910894204}. Best is trial 0 with value: 0.7374048293727662.\n"
     ]
    },
    {
     "name": "stdout",
     "output_type": "stream",
     "text": [
      "Stopped by overfitting detector  (300 iterations wait)\n",
      "\n",
      "bestTest = 0.7374048294\n",
      "bestIteration = 828\n",
      "\n",
      "Shrink model to first 829 iterations.\n",
      "0:\ttest: 0.7152302\tbest: 0.7152302 (0)\ttotal: 71.9ms\tremaining: 2m 57s\n",
      "300:\ttest: 0.7364084\tbest: 0.7364294 (283)\ttotal: 16.1s\tremaining: 1m 55s\n",
      "600:\ttest: 0.7367041\tbest: 0.7367432 (585)\ttotal: 32.5s\tremaining: 1m 40s\n"
     ]
    },
    {
     "name": "stderr",
     "output_type": "stream",
     "text": [
      "[I 2025-02-17 11:39:22,627] Trial 1 finished with value: 0.7367432439897699 and parameters: {'iterations': 2464, 'learning_rate': 0.06187255599871847}. Best is trial 0 with value: 0.7374048293727662.\n"
     ]
    },
    {
     "name": "stdout",
     "output_type": "stream",
     "text": [
      "Stopped by overfitting detector  (300 iterations wait)\n",
      "\n",
      "bestTest = 0.736743244\n",
      "bestIteration = 585\n",
      "\n",
      "Shrink model to first 586 iterations.\n",
      "0:\ttest: 0.7152302\tbest: 0.7152302 (0)\ttotal: 68.4ms\tremaining: 1m 29s\n",
      "300:\ttest: 0.7346310\tbest: 0.7346310 (300)\ttotal: 16s\tremaining: 53.7s\n",
      "600:\ttest: 0.7361559\tbest: 0.7361559 (600)\ttotal: 31.7s\tremaining: 37.5s\n",
      "900:\ttest: 0.7370718\tbest: 0.7370815 (895)\ttotal: 48s\tremaining: 21.9s\n",
      "1200:\ttest: 0.7373334\tbest: 0.7373334 (1200)\ttotal: 1m 4s\tremaining: 5.96s\n"
     ]
    },
    {
     "name": "stderr",
     "output_type": "stream",
     "text": [
      "[I 2025-02-17 11:40:33,686] Trial 2 finished with value: 0.7374121119781021 and parameters: {'iterations': 1312, 'learning_rate': 0.019819479431939253}. Best is trial 2 with value: 0.7374121119781021.\n"
     ]
    },
    {
     "name": "stdout",
     "output_type": "stream",
     "text": [
      "1311:\ttest: 0.7373842\tbest: 0.7374121 (1266)\ttotal: 1m 10s\tremaining: 0us\n",
      "\n",
      "bestTest = 0.737412112\n",
      "bestIteration = 1266\n",
      "\n",
      "Shrink model to first 1267 iterations.\n",
      "0:\ttest: 0.7152302\tbest: 0.7152302 (0)\ttotal: 87.4ms\tremaining: 1m 37s\n",
      "300:\ttest: 0.7370392\tbest: 0.7370914 (256)\ttotal: 16s\tremaining: 43.2s\n",
      "600:\ttest: 0.7367966\tbest: 0.7372508 (364)\ttotal: 32.2s\tremaining: 27.6s\n"
     ]
    },
    {
     "name": "stderr",
     "output_type": "stream",
     "text": [
      "[I 2025-02-17 11:41:09,733] Trial 3 finished with value: 0.7372507748707962 and parameters: {'iterations': 1116, 'learning_rate': 0.08728673384861885}. Best is trial 2 with value: 0.7374121119781021.\n"
     ]
    },
    {
     "name": "stdout",
     "output_type": "stream",
     "text": [
      "Stopped by overfitting detector  (300 iterations wait)\n",
      "\n",
      "bestTest = 0.7372507749\n",
      "bestIteration = 364\n",
      "\n",
      "Shrink model to first 365 iterations.\n",
      "0:\ttest: 0.7152302\tbest: 0.7152302 (0)\ttotal: 68.7ms\tremaining: 2m 31s\n",
      "300:\ttest: 0.7372775\tbest: 0.7372924 (281)\ttotal: 16.1s\tremaining: 1m 41s\n",
      "600:\ttest: 0.7375243\tbest: 0.7376183 (506)\ttotal: 32.7s\tremaining: 1m 27s\n"
     ]
    },
    {
     "name": "stderr",
     "output_type": "stream",
     "text": [
      "[I 2025-02-17 11:41:54,048] Trial 4 finished with value: 0.7376183280415185 and parameters: {'iterations': 2202, 'learning_rate': 0.07226689489062432}. Best is trial 4 with value: 0.7376183280415185.\n"
     ]
    },
    {
     "name": "stdout",
     "output_type": "stream",
     "text": [
      "Stopped by overfitting detector  (300 iterations wait)\n",
      "\n",
      "bestTest = 0.737618328\n",
      "bestIteration = 506\n",
      "\n",
      "Shrink model to first 507 iterations.\n",
      "0:\ttest: 0.7152302\tbest: 0.7152302 (0)\ttotal: 69.1ms\tremaining: 1m 11s\n",
      "300:\ttest: 0.7373401\tbest: 0.7373401 (300)\ttotal: 16.3s\tremaining: 40s\n",
      "600:\ttest: 0.7372949\tbest: 0.7374920 (439)\ttotal: 32.8s\tremaining: 24s\n"
     ]
    },
    {
     "name": "stderr",
     "output_type": "stream",
     "text": [
      "[I 2025-02-17 11:42:34,962] Trial 5 finished with value: 0.7374920300342586 and parameters: {'iterations': 1041, 'learning_rate': 0.09714143595538946}. Best is trial 4 with value: 0.7376183280415185.\n"
     ]
    },
    {
     "name": "stdout",
     "output_type": "stream",
     "text": [
      "Stopped by overfitting detector  (300 iterations wait)\n",
      "\n",
      "bestTest = 0.73749203\n",
      "bestIteration = 439\n",
      "\n",
      "Shrink model to first 440 iterations.\n",
      "0:\ttest: 0.7152302\tbest: 0.7152302 (0)\ttotal: 78.5ms\tremaining: 3m 29s\n",
      "300:\ttest: 0.7350406\tbest: 0.7350406 (300)\ttotal: 16.1s\tremaining: 2m 6s\n",
      "600:\ttest: 0.7368120\tbest: 0.7368120 (600)\ttotal: 32.2s\tremaining: 1m 50s\n",
      "900:\ttest: 0.7372389\tbest: 0.7372443 (893)\ttotal: 48.7s\tremaining: 1m 35s\n",
      "1200:\ttest: 0.7375111\tbest: 0.7375139 (1197)\ttotal: 1m 5s\tremaining: 1m 19s\n",
      "1500:\ttest: 0.7376038\tbest: 0.7376038 (1500)\ttotal: 1m 22s\tremaining: 1m 3s\n",
      "1800:\ttest: 0.7376585\tbest: 0.7376656 (1797)\ttotal: 1m 38s\tremaining: 47.5s\n",
      "2100:\ttest: 0.7376756\tbest: 0.7376768 (2098)\ttotal: 1m 55s\tremaining: 31.1s\n",
      "2400:\ttest: 0.7377264\tbest: 0.7377326 (2393)\ttotal: 2m 12s\tremaining: 14.6s\n"
     ]
    },
    {
     "name": "stderr",
     "output_type": "stream",
     "text": [
      "[I 2025-02-17 11:45:02,882] Trial 6 finished with value: 0.7377409609207932 and parameters: {'iterations': 2665, 'learning_rate': 0.025172215514436234}. Best is trial 6 with value: 0.7377409609207932.\n"
     ]
    },
    {
     "name": "stdout",
     "output_type": "stream",
     "text": [
      "2664:\ttest: 0.7376614\tbest: 0.7377410 (2419)\ttotal: 2m 27s\tremaining: 0us\n",
      "\n",
      "bestTest = 0.7377409609\n",
      "bestIteration = 2419\n",
      "\n",
      "Shrink model to first 2420 iterations.\n",
      "0:\ttest: 0.7152302\tbest: 0.7152302 (0)\ttotal: 67.2ms\tremaining: 1m 31s\n",
      "300:\ttest: 0.7348399\tbest: 0.7348399 (300)\ttotal: 16s\tremaining: 56.5s\n",
      "600:\ttest: 0.7363415\tbest: 0.7363423 (599)\ttotal: 31.9s\tremaining: 40.5s\n",
      "900:\ttest: 0.7369894\tbest: 0.7370026 (867)\ttotal: 48.4s\tremaining: 24.8s\n",
      "1200:\ttest: 0.7371781\tbest: 0.7371929 (1191)\ttotal: 1m 4s\tremaining: 8.74s\n"
     ]
    },
    {
     "name": "stderr",
     "output_type": "stream",
     "text": [
      "[I 2025-02-17 11:46:16,963] Trial 7 finished with value: 0.7372529628291058 and parameters: {'iterations': 1363, 'learning_rate': 0.022423428436076212}. Best is trial 6 with value: 0.7377409609207932.\n"
     ]
    },
    {
     "name": "stdout",
     "output_type": "stream",
     "text": [
      "1362:\ttest: 0.7372269\tbest: 0.7372530 (1291)\ttotal: 1m 13s\tremaining: 0us\n",
      "\n",
      "bestTest = 0.7372529628\n",
      "bestIteration = 1291\n",
      "\n",
      "Shrink model to first 1292 iterations.\n",
      "0:\ttest: 0.7152302\tbest: 0.7152302 (0)\ttotal: 81.1ms\tremaining: 2m 10s\n",
      "300:\ttest: 0.7368796\tbest: 0.7368796 (300)\ttotal: 15.9s\tremaining: 1m 8s\n",
      "600:\ttest: 0.7373780\tbest: 0.7374211 (558)\ttotal: 32s\tremaining: 53.5s\n",
      "900:\ttest: 0.7376068\tbest: 0.7376086 (898)\ttotal: 48.3s\tremaining: 37.9s\n"
     ]
    },
    {
     "name": "stderr",
     "output_type": "stream",
     "text": [
      "[I 2025-02-17 11:47:22,138] Trial 8 finished with value: 0.7376085636322922 and parameters: {'iterations': 1608, 'learning_rate': 0.05485186100506259}. Best is trial 6 with value: 0.7377409609207932.\n"
     ]
    },
    {
     "name": "stdout",
     "output_type": "stream",
     "text": [
      "Stopped by overfitting detector  (300 iterations wait)\n",
      "\n",
      "bestTest = 0.7376085636\n",
      "bestIteration = 898\n",
      "\n",
      "Shrink model to first 899 iterations.\n",
      "0:\ttest: 0.7152302\tbest: 0.7152302 (0)\ttotal: 74.5ms\tremaining: 2m 18s\n",
      "300:\ttest: 0.7357359\tbest: 0.7357359 (300)\ttotal: 15.7s\tremaining: 1m 21s\n",
      "600:\ttest: 0.7371998\tbest: 0.7371998 (600)\ttotal: 31.9s\tremaining: 1m 7s\n",
      "900:\ttest: 0.7373894\tbest: 0.7374010 (757)\ttotal: 48.3s\tremaining: 51.7s\n",
      "1200:\ttest: 0.7374154\tbest: 0.7375073 (1067)\ttotal: 1m 4s\tremaining: 35.8s\n"
     ]
    },
    {
     "name": "stderr",
     "output_type": "stream",
     "text": [
      "[I 2025-02-17 11:48:36,627] Trial 9 finished with value: 0.7375072663247024 and parameters: {'iterations': 1864, 'learning_rate': 0.03266676831881398}. Best is trial 6 with value: 0.7377409609207932.\n"
     ]
    },
    {
     "name": "stdout",
     "output_type": "stream",
     "text": [
      "Stopped by overfitting detector  (300 iterations wait)\n",
      "\n",
      "bestTest = 0.7375072663\n",
      "bestIteration = 1067\n",
      "\n",
      "Shrink model to first 1068 iterations.\n",
      "0:\ttest: 0.7152302\tbest: 0.7152302 (0)\ttotal: 73.4ms\tremaining: 3m 15s\n",
      "300:\ttest: 0.7350406\tbest: 0.7350406 (300)\ttotal: 15.9s\tremaining: 2m 5s\n",
      "600:\ttest: 0.7368120\tbest: 0.7368120 (600)\ttotal: 32s\tremaining: 1m 49s\n",
      "900:\ttest: 0.7372389\tbest: 0.7372443 (893)\ttotal: 48.5s\tremaining: 1m 34s\n",
      "1200:\ttest: 0.7375111\tbest: 0.7375139 (1197)\ttotal: 1m 5s\tremaining: 1m 19s\n",
      "1500:\ttest: 0.7376038\tbest: 0.7376038 (1500)\ttotal: 1m 21s\tremaining: 1m 3s\n",
      "1800:\ttest: 0.7376585\tbest: 0.7376656 (1797)\ttotal: 1m 37s\tremaining: 46.9s\n",
      "2100:\ttest: 0.7376756\tbest: 0.7376768 (2098)\ttotal: 1m 54s\tremaining: 30.7s\n",
      "2400:\ttest: 0.7377264\tbest: 0.7377326 (2393)\ttotal: 2m 10s\tremaining: 14.4s\n"
     ]
    },
    {
     "name": "stderr",
     "output_type": "stream",
     "text": [
      "[I 2025-02-17 11:51:02,570] A new study created in memory with name: no-name-e716fb20-e7db-400b-94ed-e54e7667bb5e\n"
     ]
    },
    {
     "name": "stdout",
     "output_type": "stream",
     "text": [
      "2664:\ttest: 0.7376614\tbest: 0.7377410 (2419)\ttotal: 2m 25s\tremaining: 0us\n",
      "\n",
      "bestTest = 0.7377409609\n",
      "bestIteration = 2419\n",
      "\n",
      "Shrink model to first 2420 iterations.\n"
     ]
    },
    {
     "name": "stderr",
     "output_type": "stream",
     "text": [
      "[I 2025-02-17 11:51:13,348] Trial 0 finished with value: 0.7372307457206791 and parameters: {'objective': 'binary', 'metric': 'auc', 'random_state': 42, 'verbose': -1, 'learning_rate': 0.015355286838886862, 'n_estimators': 1907, 'min_child_samples': 40, 'subsample': 0.8, 'colsample_bytree': 0.5}. Best is trial 0 with value: 0.7372307457206791.\n",
      "[I 2025-02-17 11:51:15,176] Trial 1 finished with value: 0.7309940559327598 and parameters: {'objective': 'binary', 'metric': 'auc', 'random_state': 42, 'verbose': -1, 'learning_rate': 0.00797854234707418, 'n_estimators': 210, 'min_child_samples': 45, 'subsample': 0.8, 'colsample_bytree': 0.9}. Best is trial 0 with value: 0.7372307457206791.\n",
      "[I 2025-02-17 11:51:27,009] Trial 2 finished with value: 0.7373473428528924 and parameters: {'objective': 'binary', 'metric': 'auc', 'random_state': 42, 'verbose': -1, 'learning_rate': 0.005318033256270142, 'n_estimators': 1943, 'min_child_samples': 45, 'subsample': 0.6, 'colsample_bytree': 0.6}. Best is trial 2 with value: 0.7373473428528924.\n",
      "[I 2025-02-17 11:51:31,765] Trial 3 finished with value: 0.7366104932923949 and parameters: {'objective': 'binary', 'metric': 'auc', 'random_state': 42, 'verbose': -1, 'learning_rate': 0.008661333735273127, 'n_estimators': 678, 'min_child_samples': 30, 'subsample': 0.7, 'colsample_bytree': 0.6}. Best is trial 2 with value: 0.7373473428528924.\n",
      "[I 2025-02-17 11:51:34,170] Trial 4 finished with value: 0.7372166609872405 and parameters: {'objective': 'binary', 'metric': 'auc', 'random_state': 42, 'verbose': -1, 'learning_rate': 0.03126143958203108, 'n_estimators': 365, 'min_child_samples': 20, 'subsample': 0.7, 'colsample_bytree': 0.7}. Best is trial 2 with value: 0.7373473428528924.\n",
      "[I 2025-02-17 11:51:37,270] Trial 5 finished with value: 0.736248554954794 and parameters: {'objective': 'binary', 'metric': 'auc', 'random_state': 42, 'verbose': -1, 'learning_rate': 0.05254210669345883, 'n_estimators': 479, 'min_child_samples': 30, 'subsample': 0.8, 'colsample_bytree': 0.5}. Best is trial 2 with value: 0.7373473428528924.\n",
      "[I 2025-02-17 11:51:39,870] Trial 6 finished with value: 0.7364233136575391 and parameters: {'objective': 'binary', 'metric': 'auc', 'random_state': 42, 'verbose': -1, 'learning_rate': 0.030860579740535368, 'n_estimators': 424, 'min_child_samples': 10, 'subsample': 1.0, 'colsample_bytree': 1.0}. Best is trial 2 with value: 0.7373473428528924.\n",
      "[I 2025-02-17 11:51:43,302] Trial 7 finished with value: 0.7367087846391127 and parameters: {'objective': 'binary', 'metric': 'auc', 'random_state': 42, 'verbose': -1, 'learning_rate': 0.05632733481673016, 'n_estimators': 679, 'min_child_samples': 10, 'subsample': 0.9, 'colsample_bytree': 0.7}. Best is trial 2 with value: 0.7373473428528924.\n",
      "[I 2025-02-17 11:51:50,116] Trial 8 finished with value: 0.7370059578223901 and parameters: {'objective': 'binary', 'metric': 'auc', 'random_state': 42, 'verbose': -1, 'learning_rate': 0.007206848764305203, 'n_estimators': 1041, 'min_child_samples': 10, 'subsample': 1.0, 'colsample_bytree': 0.6}. Best is trial 2 with value: 0.7373473428528924.\n",
      "[I 2025-02-17 11:51:54,030] Trial 9 finished with value: 0.7373176684201359 and parameters: {'objective': 'binary', 'metric': 'auc', 'random_state': 42, 'verbose': -1, 'learning_rate': 0.036385753170854684, 'n_estimators': 692, 'min_child_samples': 30, 'subsample': 0.8, 'colsample_bytree': 0.6}. Best is trial 2 with value: 0.7373473428528924.\n",
      "[I 2025-02-17 11:52:02,705] Trial 10 finished with value: 0.7364645235147782 and parameters: {'objective': 'binary', 'metric': 'auc', 'random_state': 42, 'verbose': -1, 'learning_rate': 0.015894131971030487, 'n_estimators': 1873, 'min_child_samples': 50, 'subsample': 0.5, 'colsample_bytree': 0.8}. Best is trial 2 with value: 0.7373473428528924.\n",
      "[I 2025-02-17 11:52:09,885] Trial 11 finished with value: 0.7307979854836472 and parameters: {'objective': 'binary', 'metric': 'auc', 'random_state': 42, 'verbose': -1, 'learning_rate': 0.07583490184889749, 'n_estimators': 1546, 'min_child_samples': 35, 'subsample': 0.5, 'colsample_bytree': 0.6}. Best is trial 2 with value: 0.7373473428528924.\n",
      "[I 2025-02-17 11:52:16,079] Trial 12 finished with value: 0.7372030329057176 and parameters: {'objective': 'binary', 'metric': 'auc', 'random_state': 42, 'verbose': -1, 'learning_rate': 0.016724000884430774, 'n_estimators': 1237, 'min_child_samples': 25, 'subsample': 0.6, 'colsample_bytree': 0.8}. Best is trial 2 with value: 0.7373473428528924.\n",
      "[I 2025-02-17 11:52:21,556] Trial 13 finished with value: 0.7373262693596984 and parameters: {'objective': 'binary', 'metric': 'auc', 'random_state': 42, 'verbose': -1, 'learning_rate': 0.031989116655696495, 'n_estimators': 1031, 'min_child_samples': 40, 'subsample': 0.6, 'colsample_bytree': 0.6}. Best is trial 2 with value: 0.7373473428528924.\n",
      "[I 2025-02-17 11:52:28,621] Trial 14 finished with value: 0.7376769144968764 and parameters: {'objective': 'binary', 'metric': 'auc', 'random_state': 42, 'verbose': -1, 'learning_rate': 0.011499664157958249, 'n_estimators': 1103, 'min_child_samples': 50, 'subsample': 0.6, 'colsample_bytree': 0.5}. Best is trial 14 with value: 0.7376769144968764.\n",
      "[I 2025-02-17 11:52:38,554] Trial 15 finished with value: 0.7374221622911366 and parameters: {'objective': 'binary', 'metric': 'auc', 'random_state': 42, 'verbose': -1, 'learning_rate': 0.005529250273153117, 'n_estimators': 1506, 'min_child_samples': 50, 'subsample': 0.6, 'colsample_bytree': 0.5}. Best is trial 14 with value: 0.7376769144968764.\n",
      "[I 2025-02-17 11:52:47,129] Trial 16 finished with value: 0.7378922278606336 and parameters: {'objective': 'binary', 'metric': 'auc', 'random_state': 42, 'verbose': -1, 'learning_rate': 0.010987448035742283, 'n_estimators': 1403, 'min_child_samples': 50, 'subsample': 0.6, 'colsample_bytree': 0.5}. Best is trial 16 with value: 0.7378922278606336.\n",
      "[I 2025-02-17 11:52:55,290] Trial 17 finished with value: 0.7376777245576663 and parameters: {'objective': 'binary', 'metric': 'auc', 'random_state': 42, 'verbose': -1, 'learning_rate': 0.011428661030906015, 'n_estimators': 1329, 'min_child_samples': 50, 'subsample': 0.5, 'colsample_bytree': 0.5}. Best is trial 16 with value: 0.7378922278606336.\n",
      "[I 2025-02-17 11:53:03,244] Trial 18 finished with value: 0.7371254735559785 and parameters: {'objective': 'binary', 'metric': 'auc', 'random_state': 42, 'verbose': -1, 'learning_rate': 0.011328613406224607, 'n_estimators': 1528, 'min_child_samples': 40, 'subsample': 0.5, 'colsample_bytree': 0.7}. Best is trial 16 with value: 0.7378922278606336.\n",
      "[I 2025-02-17 11:53:10,869] Trial 19 finished with value: 0.7372523354290824 and parameters: {'objective': 'binary', 'metric': 'auc', 'random_state': 42, 'verbose': -1, 'learning_rate': 0.02239593475902739, 'n_estimators': 1308, 'min_child_samples': 45, 'subsample': 0.5, 'colsample_bytree': 0.5}. Best is trial 16 with value: 0.7378922278606336.\n"
     ]
    },
    {
     "name": "stdout",
     "output_type": "stream",
     "text": [
      "{'objective': 'binary', 'metric': 'auc', 'random_state': 42, 'verbose': -1, 'learning_rate': 0.010987448035742283, 'n_estimators': 1403, 'min_child_samples': 50, 'subsample': 0.6, 'colsample_bytree': 0.5}\n",
      "0.7378922278606337\n",
      "0.738107052805385\n"
     ]
    },
    {
     "name": "stderr",
     "output_type": "stream",
     "text": [
      "[I 2025-02-17 11:53:20,350] A new study created in memory with name: no-name-cf7d71d4-ac58-42a6-b02b-58a78f941545\n"
     ]
    },
    {
     "name": "stdout",
     "output_type": "stream",
     "text": [
      "==================================================\n",
      "0:\ttest: 0.7088694\tbest: 0.7088694 (0)\ttotal: 72.1ms\tremaining: 2m 6s\n",
      "300:\ttest: 0.7372940\tbest: 0.7372940 (300)\ttotal: 15.8s\tremaining: 1m 16s\n",
      "600:\ttest: 0.7366086\tbest: 0.7373401 (325)\ttotal: 32.2s\tremaining: 1m 1s\n"
     ]
    },
    {
     "name": "stderr",
     "output_type": "stream",
     "text": [
      "[I 2025-02-17 11:53:54,176] Trial 0 finished with value: 0.7373400959855325 and parameters: {'iterations': 1749, 'learning_rate': 0.09531785910894204}. Best is trial 0 with value: 0.7373400959855325.\n"
     ]
    },
    {
     "name": "stdout",
     "output_type": "stream",
     "text": [
      "Stopped by overfitting detector  (300 iterations wait)\n",
      "\n",
      "bestTest = 0.737340096\n",
      "bestIteration = 325\n",
      "\n",
      "Shrink model to first 326 iterations.\n",
      "0:\ttest: 0.7088694\tbest: 0.7088694 (0)\ttotal: 64.5ms\tremaining: 2m 38s\n",
      "300:\ttest: 0.7365604\tbest: 0.7365604 (300)\ttotal: 16s\tremaining: 1m 55s\n",
      "600:\ttest: 0.7369807\tbest: 0.7370561 (491)\ttotal: 32.2s\tremaining: 1m 39s\n"
     ]
    },
    {
     "name": "stderr",
     "output_type": "stream",
     "text": [
      "[I 2025-02-17 11:54:37,162] Trial 1 finished with value: 0.737056110115407 and parameters: {'iterations': 2464, 'learning_rate': 0.06187255599871847}. Best is trial 0 with value: 0.7373400959855325.\n"
     ]
    },
    {
     "name": "stdout",
     "output_type": "stream",
     "text": [
      "Stopped by overfitting detector  (300 iterations wait)\n",
      "\n",
      "bestTest = 0.7370561101\n",
      "bestIteration = 491\n",
      "\n",
      "Shrink model to first 492 iterations.\n",
      "0:\ttest: 0.7088694\tbest: 0.7088694 (0)\ttotal: 73.9ms\tremaining: 1m 36s\n",
      "300:\ttest: 0.7343826\tbest: 0.7343844 (298)\ttotal: 15.8s\tremaining: 53.1s\n",
      "600:\ttest: 0.7355990\tbest: 0.7356033 (596)\ttotal: 31.6s\tremaining: 37.4s\n",
      "900:\ttest: 0.7364380\tbest: 0.7364380 (900)\ttotal: 48.1s\tremaining: 21.9s\n",
      "1200:\ttest: 0.7367281\tbest: 0.7367332 (1150)\ttotal: 1m 4s\tremaining: 5.96s\n"
     ]
    },
    {
     "name": "stderr",
     "output_type": "stream",
     "text": [
      "[I 2025-02-17 11:55:48,195] Trial 2 finished with value: 0.7367418899175673 and parameters: {'iterations': 1312, 'learning_rate': 0.019819479431939253}. Best is trial 0 with value: 0.7373400959855325.\n"
     ]
    },
    {
     "name": "stdout",
     "output_type": "stream",
     "text": [
      "1311:\ttest: 0.7367288\tbest: 0.7367419 (1230)\ttotal: 1m 10s\tremaining: 0us\n",
      "\n",
      "bestTest = 0.7367418899\n",
      "bestIteration = 1230\n",
      "\n",
      "Shrink model to first 1231 iterations.\n",
      "0:\ttest: 0.7088694\tbest: 0.7088694 (0)\ttotal: 74ms\tremaining: 1m 22s\n",
      "300:\ttest: 0.7366740\tbest: 0.7367040 (295)\ttotal: 16.5s\tremaining: 44.5s\n",
      "600:\ttest: 0.7365289\tbest: 0.7368291 (394)\ttotal: 33.1s\tremaining: 28.4s\n"
     ]
    },
    {
     "name": "stderr",
     "output_type": "stream",
     "text": [
      "[I 2025-02-17 11:56:26,846] Trial 3 finished with value: 0.7368290746955148 and parameters: {'iterations': 1116, 'learning_rate': 0.08728673384861885}. Best is trial 0 with value: 0.7373400959855325.\n"
     ]
    },
    {
     "name": "stdout",
     "output_type": "stream",
     "text": [
      "Stopped by overfitting detector  (300 iterations wait)\n",
      "\n",
      "bestTest = 0.7368290747\n",
      "bestIteration = 394\n",
      "\n",
      "Shrink model to first 395 iterations.\n",
      "0:\ttest: 0.7088694\tbest: 0.7088694 (0)\ttotal: 72.6ms\tremaining: 2m 39s\n",
      "300:\ttest: 0.7363910\tbest: 0.7364114 (291)\ttotal: 16s\tremaining: 1m 41s\n",
      "600:\ttest: 0.7364531\tbest: 0.7365235 (471)\ttotal: 32.3s\tremaining: 1m 26s\n"
     ]
    },
    {
     "name": "stderr",
     "output_type": "stream",
     "text": [
      "[I 2025-02-17 11:57:08,952] Trial 4 finished with value: 0.7365234713207824 and parameters: {'iterations': 2202, 'learning_rate': 0.07226689489062432}. Best is trial 0 with value: 0.7373400959855325.\n"
     ]
    },
    {
     "name": "stdout",
     "output_type": "stream",
     "text": [
      "Stopped by overfitting detector  (300 iterations wait)\n",
      "\n",
      "bestTest = 0.7365234713\n",
      "bestIteration = 471\n",
      "\n",
      "Shrink model to first 472 iterations.\n",
      "0:\ttest: 0.7088694\tbest: 0.7088694 (0)\ttotal: 67.7ms\tremaining: 1m 10s\n",
      "300:\ttest: 0.7369584\tbest: 0.7370234 (287)\ttotal: 16.2s\tremaining: 39.8s\n"
     ]
    },
    {
     "name": "stderr",
     "output_type": "stream",
     "text": [
      "[I 2025-02-17 11:57:41,464] Trial 5 finished with value: 0.7370234257508922 and parameters: {'iterations': 1041, 'learning_rate': 0.09714143595538946}. Best is trial 0 with value: 0.7373400959855325.\n"
     ]
    },
    {
     "name": "stdout",
     "output_type": "stream",
     "text": [
      "Stopped by overfitting detector  (300 iterations wait)\n",
      "\n",
      "bestTest = 0.7370234258\n",
      "bestIteration = 287\n",
      "\n",
      "Shrink model to first 288 iterations.\n",
      "0:\ttest: 0.7088694\tbest: 0.7088694 (0)\ttotal: 70.4ms\tremaining: 3m 7s\n",
      "300:\ttest: 0.7350734\tbest: 0.7350734 (300)\ttotal: 15.5s\tremaining: 2m 1s\n",
      "600:\ttest: 0.7362564\tbest: 0.7362564 (600)\ttotal: 31s\tremaining: 1m 46s\n",
      "900:\ttest: 0.7366512\tbest: 0.7366794 (878)\ttotal: 47.1s\tremaining: 1m 32s\n",
      "1200:\ttest: 0.7367437\tbest: 0.7367593 (1194)\ttotal: 1m 3s\tremaining: 1m 16s\n",
      "1500:\ttest: 0.7368532\tbest: 0.7368543 (1495)\ttotal: 1m 19s\tremaining: 1m 1s\n",
      "1800:\ttest: 0.7368713\tbest: 0.7368761 (1783)\ttotal: 1m 35s\tremaining: 45.9s\n",
      "2100:\ttest: 0.7368676\tbest: 0.7369277 (2001)\ttotal: 1m 52s\tremaining: 30.1s\n"
     ]
    },
    {
     "name": "stderr",
     "output_type": "stream",
     "text": [
      "[I 2025-02-17 11:59:45,155] Trial 6 finished with value: 0.7369276559169271 and parameters: {'iterations': 2665, 'learning_rate': 0.025172215514436234}. Best is trial 0 with value: 0.7373400959855325.\n"
     ]
    },
    {
     "name": "stdout",
     "output_type": "stream",
     "text": [
      "Stopped by overfitting detector  (300 iterations wait)\n",
      "\n",
      "bestTest = 0.7369276559\n",
      "bestIteration = 2001\n",
      "\n",
      "Shrink model to first 2002 iterations.\n",
      "0:\ttest: 0.7088694\tbest: 0.7088694 (0)\ttotal: 78.5ms\tremaining: 1m 46s\n",
      "300:\ttest: 0.7345772\tbest: 0.7345780 (299)\ttotal: 16s\tremaining: 56.3s\n",
      "600:\ttest: 0.7358065\tbest: 0.7358235 (597)\ttotal: 32.2s\tremaining: 40.8s\n",
      "900:\ttest: 0.7364983\tbest: 0.7365107 (888)\ttotal: 48.7s\tremaining: 25s\n",
      "1200:\ttest: 0.7367098\tbest: 0.7367301 (1120)\ttotal: 1m 5s\tremaining: 8.84s\n"
     ]
    },
    {
     "name": "stderr",
     "output_type": "stream",
     "text": [
      "[I 2025-02-17 12:00:59,983] Trial 7 finished with value: 0.7367695669945529 and parameters: {'iterations': 1363, 'learning_rate': 0.022423428436076212}. Best is trial 0 with value: 0.7373400959855325.\n"
     ]
    },
    {
     "name": "stdout",
     "output_type": "stream",
     "text": [
      "1362:\ttest: 0.7367443\tbest: 0.7367696 (1278)\ttotal: 1m 14s\tremaining: 0us\n",
      "\n",
      "bestTest = 0.736769567\n",
      "bestIteration = 1278\n",
      "\n",
      "Shrink model to first 1279 iterations.\n",
      "0:\ttest: 0.7088694\tbest: 0.7088694 (0)\ttotal: 76.9ms\tremaining: 2m 3s\n",
      "300:\ttest: 0.7360965\tbest: 0.7361058 (299)\ttotal: 15.9s\tremaining: 1m 9s\n",
      "600:\ttest: 0.7366487\tbest: 0.7366487 (600)\ttotal: 32.5s\tremaining: 54.4s\n",
      "900:\ttest: 0.7368805\tbest: 0.7369468 (780)\ttotal: 49s\tremaining: 38.5s\n"
     ]
    },
    {
     "name": "stderr",
     "output_type": "stream",
     "text": [
      "[I 2025-02-17 12:01:59,361] Trial 8 finished with value: 0.7369468392682781 and parameters: {'iterations': 1608, 'learning_rate': 0.05485186100506259}. Best is trial 0 with value: 0.7373400959855325.\n"
     ]
    },
    {
     "name": "stdout",
     "output_type": "stream",
     "text": [
      "Stopped by overfitting detector  (300 iterations wait)\n",
      "\n",
      "bestTest = 0.7369468393\n",
      "bestIteration = 780\n",
      "\n",
      "Shrink model to first 781 iterations.\n",
      "0:\ttest: 0.7088694\tbest: 0.7088694 (0)\ttotal: 70.9ms\tremaining: 2m 12s\n",
      "300:\ttest: 0.7352918\tbest: 0.7352918 (300)\ttotal: 15.9s\tremaining: 1m 22s\n",
      "600:\ttest: 0.7366416\tbest: 0.7366416 (600)\ttotal: 32.1s\tremaining: 1m 7s\n",
      "900:\ttest: 0.7368651\tbest: 0.7368695 (899)\ttotal: 48.3s\tremaining: 51.6s\n",
      "1200:\ttest: 0.7367926\tbest: 0.7368853 (939)\ttotal: 1m 4s\tremaining: 35.9s\n"
     ]
    },
    {
     "name": "stderr",
     "output_type": "stream",
     "text": [
      "[I 2025-02-17 12:03:06,915] Trial 9 finished with value: 0.7368852667064794 and parameters: {'iterations': 1864, 'learning_rate': 0.03266676831881398}. Best is trial 0 with value: 0.7373400959855325.\n"
     ]
    },
    {
     "name": "stdout",
     "output_type": "stream",
     "text": [
      "Stopped by overfitting detector  (300 iterations wait)\n",
      "\n",
      "bestTest = 0.7368852667\n",
      "bestIteration = 939\n",
      "\n",
      "Shrink model to first 940 iterations.\n",
      "0:\ttest: 0.7088694\tbest: 0.7088694 (0)\ttotal: 64.9ms\tremaining: 1m 53s\n",
      "300:\ttest: 0.7372940\tbest: 0.7372940 (300)\ttotal: 16.4s\tremaining: 1m 19s\n",
      "600:\ttest: 0.7366086\tbest: 0.7373401 (325)\ttotal: 32.9s\tremaining: 1m 2s\n"
     ]
    },
    {
     "name": "stderr",
     "output_type": "stream",
     "text": [
      "[I 2025-02-17 12:03:41,449] A new study created in memory with name: no-name-33e35924-bc3a-4a40-b186-f536455c93d2\n"
     ]
    },
    {
     "name": "stdout",
     "output_type": "stream",
     "text": [
      "Stopped by overfitting detector  (300 iterations wait)\n",
      "\n",
      "bestTest = 0.737340096\n",
      "bestIteration = 325\n",
      "\n",
      "Shrink model to first 326 iterations.\n"
     ]
    },
    {
     "name": "stderr",
     "output_type": "stream",
     "text": [
      "[I 2025-02-17 12:03:52,112] Trial 0 finished with value: 0.7359030044646421 and parameters: {'objective': 'binary', 'metric': 'auc', 'random_state': 42, 'verbose': -1, 'learning_rate': 0.015355286838886862, 'n_estimators': 1907, 'min_child_samples': 40, 'subsample': 0.8, 'colsample_bytree': 0.5}. Best is trial 0 with value: 0.7359030044646421.\n",
      "[I 2025-02-17 12:03:53,973] Trial 1 finished with value: 0.7329414738385785 and parameters: {'objective': 'binary', 'metric': 'auc', 'random_state': 42, 'verbose': -1, 'learning_rate': 0.00797854234707418, 'n_estimators': 210, 'min_child_samples': 45, 'subsample': 0.8, 'colsample_bytree': 0.9}. Best is trial 0 with value: 0.7359030044646421.\n",
      "[I 2025-02-17 12:04:05,615] Trial 2 finished with value: 0.7368988789044573 and parameters: {'objective': 'binary', 'metric': 'auc', 'random_state': 42, 'verbose': -1, 'learning_rate': 0.005318033256270142, 'n_estimators': 1943, 'min_child_samples': 45, 'subsample': 0.6, 'colsample_bytree': 0.6}. Best is trial 2 with value: 0.7368988789044573.\n",
      "[I 2025-02-17 12:04:10,418] Trial 3 finished with value: 0.736754120247139 and parameters: {'objective': 'binary', 'metric': 'auc', 'random_state': 42, 'verbose': -1, 'learning_rate': 0.008661333735273127, 'n_estimators': 678, 'min_child_samples': 30, 'subsample': 0.7, 'colsample_bytree': 0.6}. Best is trial 2 with value: 0.7368988789044573.\n",
      "[I 2025-02-17 12:04:12,811] Trial 4 finished with value: 0.7366068440479544 and parameters: {'objective': 'binary', 'metric': 'auc', 'random_state': 42, 'verbose': -1, 'learning_rate': 0.03126143958203108, 'n_estimators': 365, 'min_child_samples': 20, 'subsample': 0.7, 'colsample_bytree': 0.7}. Best is trial 2 with value: 0.7368988789044573.\n",
      "[I 2025-02-17 12:04:15,882] Trial 5 finished with value: 0.735215556699665 and parameters: {'objective': 'binary', 'metric': 'auc', 'random_state': 42, 'verbose': -1, 'learning_rate': 0.05254210669345883, 'n_estimators': 479, 'min_child_samples': 30, 'subsample': 0.8, 'colsample_bytree': 0.5}. Best is trial 2 with value: 0.7368988789044573.\n",
      "[I 2025-02-17 12:04:18,505] Trial 6 finished with value: 0.7366403146479417 and parameters: {'objective': 'binary', 'metric': 'auc', 'random_state': 42, 'verbose': -1, 'learning_rate': 0.030860579740535368, 'n_estimators': 424, 'min_child_samples': 10, 'subsample': 1.0, 'colsample_bytree': 1.0}. Best is trial 2 with value: 0.7368988789044573.\n",
      "[I 2025-02-17 12:04:21,875] Trial 7 finished with value: 0.7335275567909 and parameters: {'objective': 'binary', 'metric': 'auc', 'random_state': 42, 'verbose': -1, 'learning_rate': 0.05632733481673016, 'n_estimators': 679, 'min_child_samples': 10, 'subsample': 0.9, 'colsample_bytree': 0.7}. Best is trial 2 with value: 0.7368988789044573.\n",
      "[I 2025-02-17 12:04:28,739] Trial 8 finished with value: 0.7366966416690378 and parameters: {'objective': 'binary', 'metric': 'auc', 'random_state': 42, 'verbose': -1, 'learning_rate': 0.007206848764305203, 'n_estimators': 1041, 'min_child_samples': 10, 'subsample': 1.0, 'colsample_bytree': 0.6}. Best is trial 2 with value: 0.7368988789044573.\n",
      "[I 2025-02-17 12:04:32,702] Trial 9 finished with value: 0.7353541048909279 and parameters: {'objective': 'binary', 'metric': 'auc', 'random_state': 42, 'verbose': -1, 'learning_rate': 0.036385753170854684, 'n_estimators': 692, 'min_child_samples': 30, 'subsample': 0.8, 'colsample_bytree': 0.6}. Best is trial 2 with value: 0.7368988789044573.\n",
      "[I 2025-02-17 12:04:41,500] Trial 10 finished with value: 0.7356170688893803 and parameters: {'objective': 'binary', 'metric': 'auc', 'random_state': 42, 'verbose': -1, 'learning_rate': 0.015894131971030487, 'n_estimators': 1873, 'min_child_samples': 50, 'subsample': 0.5, 'colsample_bytree': 0.8}. Best is trial 2 with value: 0.7368988789044573.\n",
      "[I 2025-02-17 12:04:51,226] Trial 11 finished with value: 0.7368553381370044 and parameters: {'objective': 'binary', 'metric': 'auc', 'random_state': 42, 'verbose': -1, 'learning_rate': 0.0054932202901173555, 'n_estimators': 1534, 'min_child_samples': 35, 'subsample': 0.6, 'colsample_bytree': 0.6}. Best is trial 2 with value: 0.7368988789044573.\n",
      "[I 2025-02-17 12:05:00,353] Trial 12 finished with value: 0.7367419693352918 and parameters: {'objective': 'binary', 'metric': 'auc', 'random_state': 42, 'verbose': -1, 'learning_rate': 0.0052413084441113025, 'n_estimators': 1524, 'min_child_samples': 40, 'subsample': 0.5, 'colsample_bytree': 0.8}. Best is trial 2 with value: 0.7368988789044573.\n",
      "[I 2025-02-17 12:05:09,984] Trial 13 finished with value: 0.7369728446021631 and parameters: {'objective': 'binary', 'metric': 'auc', 'random_state': 42, 'verbose': -1, 'learning_rate': 0.005308815215030416, 'n_estimators': 1499, 'min_child_samples': 40, 'subsample': 0.6, 'colsample_bytree': 0.6}. Best is trial 13 with value: 0.7369728446021631.\n",
      "[I 2025-02-17 12:05:19,507] Trial 14 finished with value: 0.7366350651363528 and parameters: {'objective': 'binary', 'metric': 'auc', 'random_state': 42, 'verbose': -1, 'learning_rate': 0.011825157314578772, 'n_estimators': 1603, 'min_child_samples': 50, 'subsample': 0.6, 'colsample_bytree': 0.5}. Best is trial 13 with value: 0.7369728446021631.\n",
      "[I 2025-02-17 12:05:24,969] Trial 15 finished with value: 0.7279354331676182 and parameters: {'objective': 'binary', 'metric': 'auc', 'random_state': 42, 'verbose': -1, 'learning_rate': 0.09023346061020121, 'n_estimators': 1251, 'min_child_samples': 40, 'subsample': 0.6, 'colsample_bytree': 0.7}. Best is trial 13 with value: 0.7369728446021631.\n",
      "[I 2025-02-17 12:05:32,304] Trial 16 finished with value: 0.7368240157864647 and parameters: {'objective': 'binary', 'metric': 'auc', 'random_state': 42, 'verbose': -1, 'learning_rate': 0.011111640434185787, 'n_estimators': 1252, 'min_child_samples': 45, 'subsample': 0.6, 'colsample_bytree': 0.6}. Best is trial 13 with value: 0.7369728446021631.\n",
      "[I 2025-02-17 12:05:41,287] Trial 17 finished with value: 0.7340808997862996 and parameters: {'objective': 'binary', 'metric': 'auc', 'random_state': 42, 'verbose': -1, 'learning_rate': 0.019919183876440906, 'n_estimators': 1985, 'min_child_samples': 20, 'subsample': 0.5, 'colsample_bytree': 0.7}. Best is trial 13 with value: 0.7369728446021631.\n",
      "[I 2025-02-17 12:05:52,249] Trial 18 finished with value: 0.7371349163234207 and parameters: {'objective': 'binary', 'metric': 'auc', 'random_state': 42, 'verbose': -1, 'learning_rate': 0.0062402121860392935, 'n_estimators': 1700, 'min_child_samples': 45, 'subsample': 0.7, 'colsample_bytree': 0.5}. Best is trial 18 with value: 0.7371349163234207.\n",
      "[I 2025-02-17 12:06:02,589] Trial 19 finished with value: 0.7367813962646159 and parameters: {'objective': 'binary', 'metric': 'auc', 'random_state': 42, 'verbose': -1, 'learning_rate': 0.009146140794990303, 'n_estimators': 1706, 'min_child_samples': 35, 'subsample': 0.7, 'colsample_bytree': 0.5}. Best is trial 18 with value: 0.7371349163234207.\n"
     ]
    },
    {
     "name": "stdout",
     "output_type": "stream",
     "text": [
      "{'objective': 'binary', 'metric': 'auc', 'random_state': 42, 'verbose': -1, 'learning_rate': 0.0062402121860392935, 'n_estimators': 1700, 'min_child_samples': 45, 'subsample': 0.7, 'colsample_bytree': 0.5}\n",
      "0.7371349163234207\n",
      "0.7375637760065648\n"
     ]
    },
    {
     "name": "stderr",
     "output_type": "stream",
     "text": [
      "[I 2025-02-17 12:06:14,473] A new study created in memory with name: no-name-e1a693cb-1ea0-4e0b-b66b-69b8663110f5\n"
     ]
    },
    {
     "name": "stdout",
     "output_type": "stream",
     "text": [
      "==================================================\n",
      "0:\ttest: 0.7147495\tbest: 0.7147495 (0)\ttotal: 69.6ms\tremaining: 2m 1s\n",
      "300:\ttest: 0.7403646\tbest: 0.7403825 (298)\ttotal: 16.4s\tremaining: 1m 18s\n",
      "600:\ttest: 0.7396326\tbest: 0.7404125 (318)\ttotal: 33s\tremaining: 1m 2s\n"
     ]
    },
    {
     "name": "stderr",
     "output_type": "stream",
     "text": [
      "[I 2025-02-17 12:06:48,757] Trial 0 finished with value: 0.740412525522077 and parameters: {'iterations': 1749, 'learning_rate': 0.09531785910894204}. Best is trial 0 with value: 0.740412525522077.\n"
     ]
    },
    {
     "name": "stdout",
     "output_type": "stream",
     "text": [
      "Stopped by overfitting detector  (300 iterations wait)\n",
      "\n",
      "bestTest = 0.7404125255\n",
      "bestIteration = 318\n",
      "\n",
      "Shrink model to first 319 iterations.\n",
      "0:\ttest: 0.7147495\tbest: 0.7147495 (0)\ttotal: 70.6ms\tremaining: 2m 53s\n",
      "300:\ttest: 0.7401170\tbest: 0.7401997 (279)\ttotal: 16s\tremaining: 1m 54s\n",
      "600:\ttest: 0.7400950\tbest: 0.7402472 (534)\ttotal: 32.5s\tremaining: 1m 40s\n"
     ]
    },
    {
     "name": "stderr",
     "output_type": "stream",
     "text": [
      "[I 2025-02-17 12:07:34,585] Trial 1 finished with value: 0.7402472294412051 and parameters: {'iterations': 2464, 'learning_rate': 0.06187255599871847}. Best is trial 0 with value: 0.740412525522077.\n"
     ]
    },
    {
     "name": "stdout",
     "output_type": "stream",
     "text": [
      "Stopped by overfitting detector  (300 iterations wait)\n",
      "\n",
      "bestTest = 0.7402472294\n",
      "bestIteration = 534\n",
      "\n",
      "Shrink model to first 535 iterations.\n",
      "0:\ttest: 0.7147495\tbest: 0.7147495 (0)\ttotal: 77.8ms\tremaining: 1m 42s\n",
      "300:\ttest: 0.7389121\tbest: 0.7389121 (300)\ttotal: 15.8s\tremaining: 53.1s\n",
      "600:\ttest: 0.7398318\tbest: 0.7398323 (594)\ttotal: 31.6s\tremaining: 37.4s\n",
      "900:\ttest: 0.7402570\tbest: 0.7402582 (899)\ttotal: 48s\tremaining: 21.9s\n",
      "1200:\ttest: 0.7403818\tbest: 0.7404135 (1170)\ttotal: 1m 4s\tremaining: 5.94s\n"
     ]
    },
    {
     "name": "stderr",
     "output_type": "stream",
     "text": [
      "[I 2025-02-17 12:08:45,272] Trial 2 finished with value: 0.7404144752272133 and parameters: {'iterations': 1312, 'learning_rate': 0.019819479431939253}. Best is trial 2 with value: 0.7404144752272133.\n"
     ]
    },
    {
     "name": "stdout",
     "output_type": "stream",
     "text": [
      "1311:\ttest: 0.7404001\tbest: 0.7404145 (1265)\ttotal: 1m 10s\tremaining: 0us\n",
      "\n",
      "bestTest = 0.7404144752\n",
      "bestIteration = 1265\n",
      "\n",
      "Shrink model to first 1266 iterations.\n",
      "0:\ttest: 0.7147495\tbest: 0.7147495 (0)\ttotal: 81.2ms\tremaining: 1m 30s\n",
      "300:\ttest: 0.7399513\tbest: 0.7401431 (247)\ttotal: 16.3s\tremaining: 44.1s\n"
     ]
    },
    {
     "name": "stderr",
     "output_type": "stream",
     "text": [
      "[I 2025-02-17 12:09:15,325] Trial 3 finished with value: 0.7401431207461683 and parameters: {'iterations': 1116, 'learning_rate': 0.08728673384861885}. Best is trial 2 with value: 0.7404144752272133.\n"
     ]
    },
    {
     "name": "stdout",
     "output_type": "stream",
     "text": [
      "Stopped by overfitting detector  (300 iterations wait)\n",
      "\n",
      "bestTest = 0.7401431207\n",
      "bestIteration = 247\n",
      "\n",
      "Shrink model to first 248 iterations.\n",
      "0:\ttest: 0.7147495\tbest: 0.7147495 (0)\ttotal: 82.4ms\tremaining: 3m 1s\n",
      "300:\ttest: 0.7400725\tbest: 0.7401973 (264)\ttotal: 16.1s\tremaining: 1m 41s\n"
     ]
    },
    {
     "name": "stderr",
     "output_type": "stream",
     "text": [
      "[I 2025-02-17 12:09:46,020] Trial 4 finished with value: 0.7401972796633858 and parameters: {'iterations': 2202, 'learning_rate': 0.07226689489062432}. Best is trial 2 with value: 0.7404144752272133.\n"
     ]
    },
    {
     "name": "stdout",
     "output_type": "stream",
     "text": [
      "Stopped by overfitting detector  (300 iterations wait)\n",
      "\n",
      "bestTest = 0.7401972797\n",
      "bestIteration = 264\n",
      "\n",
      "Shrink model to first 265 iterations.\n",
      "0:\ttest: 0.7147495\tbest: 0.7147495 (0)\ttotal: 66ms\tremaining: 1m 8s\n",
      "300:\ttest: 0.7401019\tbest: 0.7403834 (183)\ttotal: 16.2s\tremaining: 39.9s\n"
     ]
    },
    {
     "name": "stderr",
     "output_type": "stream",
     "text": [
      "[I 2025-02-17 12:10:12,616] Trial 5 finished with value: 0.7403834268678231 and parameters: {'iterations': 1041, 'learning_rate': 0.09714143595538946}. Best is trial 2 with value: 0.7404144752272133.\n"
     ]
    },
    {
     "name": "stdout",
     "output_type": "stream",
     "text": [
      "Stopped by overfitting detector  (300 iterations wait)\n",
      "\n",
      "bestTest = 0.7403834269\n",
      "bestIteration = 183\n",
      "\n",
      "Shrink model to first 184 iterations.\n",
      "0:\ttest: 0.7147495\tbest: 0.7147495 (0)\ttotal: 70.4ms\tremaining: 3m 7s\n",
      "300:\ttest: 0.7392278\tbest: 0.7392291 (299)\ttotal: 15.9s\tremaining: 2m 4s\n",
      "600:\ttest: 0.7400758\tbest: 0.7400763 (599)\ttotal: 31.8s\tremaining: 1m 49s\n",
      "900:\ttest: 0.7403535\tbest: 0.7403951 (836)\ttotal: 48s\tremaining: 1m 34s\n"
     ]
    },
    {
     "name": "stderr",
     "output_type": "stream",
     "text": [
      "[I 2025-02-17 12:11:14,013] Trial 6 finished with value: 0.7403950734771199 and parameters: {'iterations': 2665, 'learning_rate': 0.025172215514436234}. Best is trial 2 with value: 0.7404144752272133.\n"
     ]
    },
    {
     "name": "stdout",
     "output_type": "stream",
     "text": [
      "Stopped by overfitting detector  (300 iterations wait)\n",
      "\n",
      "bestTest = 0.7403950735\n",
      "bestIteration = 836\n",
      "\n",
      "Shrink model to first 837 iterations.\n",
      "0:\ttest: 0.7147495\tbest: 0.7147495 (0)\ttotal: 72.6ms\tremaining: 1m 38s\n",
      "300:\ttest: 0.7390178\tbest: 0.7390207 (297)\ttotal: 16.1s\tremaining: 56.6s\n",
      "600:\ttest: 0.7399851\tbest: 0.7399992 (587)\ttotal: 31.9s\tremaining: 40.4s\n",
      "900:\ttest: 0.7404279\tbest: 0.7404279 (900)\ttotal: 48.2s\tremaining: 24.7s\n",
      "1200:\ttest: 0.7405000\tbest: 0.7405219 (1177)\ttotal: 1m 4s\tremaining: 8.73s\n"
     ]
    },
    {
     "name": "stderr",
     "output_type": "stream",
     "text": [
      "[I 2025-02-17 12:12:28,049] Trial 7 finished with value: 0.7405480915777853 and parameters: {'iterations': 1363, 'learning_rate': 0.022423428436076212}. Best is trial 7 with value: 0.7405480915777853.\n"
     ]
    },
    {
     "name": "stdout",
     "output_type": "stream",
     "text": [
      "1362:\ttest: 0.7405230\tbest: 0.7405481 (1265)\ttotal: 1m 13s\tremaining: 0us\n",
      "\n",
      "bestTest = 0.7405480916\n",
      "bestIteration = 1265\n",
      "\n",
      "Shrink model to first 1266 iterations.\n",
      "0:\ttest: 0.7147495\tbest: 0.7147495 (0)\ttotal: 74.8ms\tremaining: 2m\n",
      "300:\ttest: 0.7400565\tbest: 0.7400565 (300)\ttotal: 15.9s\tremaining: 1m 8s\n",
      "600:\ttest: 0.7402291\tbest: 0.7403006 (379)\ttotal: 32.1s\tremaining: 53.7s\n"
     ]
    },
    {
     "name": "stderr",
     "output_type": "stream",
     "text": [
      "[I 2025-02-17 12:13:04,739] Trial 8 finished with value: 0.7403006497735849 and parameters: {'iterations': 1608, 'learning_rate': 0.05485186100506259}. Best is trial 7 with value: 0.7405480915777853.\n"
     ]
    },
    {
     "name": "stdout",
     "output_type": "stream",
     "text": [
      "Stopped by overfitting detector  (300 iterations wait)\n",
      "\n",
      "bestTest = 0.7403006498\n",
      "bestIteration = 379\n",
      "\n",
      "Shrink model to first 380 iterations.\n",
      "0:\ttest: 0.7147495\tbest: 0.7147495 (0)\ttotal: 72.7ms\tremaining: 2m 15s\n",
      "300:\ttest: 0.7395932\tbest: 0.7395932 (300)\ttotal: 15.7s\tremaining: 1m 21s\n",
      "600:\ttest: 0.7404873\tbest: 0.7404977 (597)\ttotal: 31.8s\tremaining: 1m 6s\n",
      "900:\ttest: 0.7405030\tbest: 0.7405356 (877)\ttotal: 48.2s\tremaining: 51.5s\n"
     ]
    },
    {
     "name": "stderr",
     "output_type": "stream",
     "text": [
      "[I 2025-02-17 12:14:08,503] Trial 9 finished with value: 0.7405355832861777 and parameters: {'iterations': 1864, 'learning_rate': 0.03266676831881398}. Best is trial 7 with value: 0.7405480915777853.\n"
     ]
    },
    {
     "name": "stdout",
     "output_type": "stream",
     "text": [
      "Stopped by overfitting detector  (300 iterations wait)\n",
      "\n",
      "bestTest = 0.7405355833\n",
      "bestIteration = 877\n",
      "\n",
      "Shrink model to first 878 iterations.\n",
      "0:\ttest: 0.7147495\tbest: 0.7147495 (0)\ttotal: 65.5ms\tremaining: 1m 29s\n",
      "300:\ttest: 0.7390178\tbest: 0.7390207 (297)\ttotal: 16.1s\tremaining: 57s\n",
      "600:\ttest: 0.7399851\tbest: 0.7399992 (587)\ttotal: 31.9s\tremaining: 40.5s\n",
      "900:\ttest: 0.7404279\tbest: 0.7404279 (900)\ttotal: 48.4s\tremaining: 24.8s\n",
      "1200:\ttest: 0.7405000\tbest: 0.7405219 (1177)\ttotal: 1m 4s\tremaining: 8.74s\n"
     ]
    },
    {
     "name": "stderr",
     "output_type": "stream",
     "text": [
      "[I 2025-02-17 12:15:22,571] A new study created in memory with name: no-name-969fb389-1d15-4fea-af76-2e900b082702\n"
     ]
    },
    {
     "name": "stdout",
     "output_type": "stream",
     "text": [
      "1362:\ttest: 0.7405230\tbest: 0.7405481 (1265)\ttotal: 1m 13s\tremaining: 0us\n",
      "\n",
      "bestTest = 0.7405480916\n",
      "bestIteration = 1265\n",
      "\n",
      "Shrink model to first 1266 iterations.\n"
     ]
    },
    {
     "name": "stderr",
     "output_type": "stream",
     "text": [
      "[I 2025-02-17 12:15:33,080] Trial 0 finished with value: 0.7388541710776595 and parameters: {'objective': 'binary', 'metric': 'auc', 'random_state': 42, 'verbose': -1, 'learning_rate': 0.015355286838886862, 'n_estimators': 1907, 'min_child_samples': 40, 'subsample': 0.8, 'colsample_bytree': 0.5}. Best is trial 0 with value: 0.7388541710776595.\n",
      "[I 2025-02-17 12:15:34,898] Trial 1 finished with value: 0.7366805079583072 and parameters: {'objective': 'binary', 'metric': 'auc', 'random_state': 42, 'verbose': -1, 'learning_rate': 0.00797854234707418, 'n_estimators': 210, 'min_child_samples': 45, 'subsample': 0.8, 'colsample_bytree': 0.9}. Best is trial 0 with value: 0.7388541710776595.\n",
      "[I 2025-02-17 12:15:46,477] Trial 2 finished with value: 0.7400779942411985 and parameters: {'objective': 'binary', 'metric': 'auc', 'random_state': 42, 'verbose': -1, 'learning_rate': 0.005318033256270142, 'n_estimators': 1943, 'min_child_samples': 45, 'subsample': 0.6, 'colsample_bytree': 0.6}. Best is trial 2 with value: 0.7400779942411985.\n",
      "[I 2025-02-17 12:15:51,241] Trial 3 finished with value: 0.7398772103501372 and parameters: {'objective': 'binary', 'metric': 'auc', 'random_state': 42, 'verbose': -1, 'learning_rate': 0.008661333735273127, 'n_estimators': 678, 'min_child_samples': 30, 'subsample': 0.7, 'colsample_bytree': 0.6}. Best is trial 2 with value: 0.7400779942411985.\n",
      "[I 2025-02-17 12:15:53,628] Trial 4 finished with value: 0.7399171336402395 and parameters: {'objective': 'binary', 'metric': 'auc', 'random_state': 42, 'verbose': -1, 'learning_rate': 0.03126143958203108, 'n_estimators': 365, 'min_child_samples': 20, 'subsample': 0.7, 'colsample_bytree': 0.7}. Best is trial 2 with value: 0.7400779942411985.\n",
      "[I 2025-02-17 12:15:56,705] Trial 5 finished with value: 0.7383361927949762 and parameters: {'objective': 'binary', 'metric': 'auc', 'random_state': 42, 'verbose': -1, 'learning_rate': 0.05254210669345883, 'n_estimators': 479, 'min_child_samples': 30, 'subsample': 0.8, 'colsample_bytree': 0.5}. Best is trial 2 with value: 0.7400779942411985.\n",
      "[I 2025-02-17 12:15:59,266] Trial 6 finished with value: 0.7397811506414776 and parameters: {'objective': 'binary', 'metric': 'auc', 'random_state': 42, 'verbose': -1, 'learning_rate': 0.030860579740535368, 'n_estimators': 424, 'min_child_samples': 10, 'subsample': 1.0, 'colsample_bytree': 1.0}. Best is trial 2 with value: 0.7400779942411985.\n",
      "[I 2025-02-17 12:16:02,580] Trial 7 finished with value: 0.7386949861906872 and parameters: {'objective': 'binary', 'metric': 'auc', 'random_state': 42, 'verbose': -1, 'learning_rate': 0.05632733481673016, 'n_estimators': 679, 'min_child_samples': 10, 'subsample': 0.9, 'colsample_bytree': 0.7}. Best is trial 2 with value: 0.7400779942411985.\n",
      "[I 2025-02-17 12:16:09,234] Trial 8 finished with value: 0.7400325434774715 and parameters: {'objective': 'binary', 'metric': 'auc', 'random_state': 42, 'verbose': -1, 'learning_rate': 0.007206848764305203, 'n_estimators': 1041, 'min_child_samples': 10, 'subsample': 1.0, 'colsample_bytree': 0.6}. Best is trial 2 with value: 0.7400779942411985.\n",
      "[I 2025-02-17 12:16:13,136] Trial 9 finished with value: 0.739133983546363 and parameters: {'objective': 'binary', 'metric': 'auc', 'random_state': 42, 'verbose': -1, 'learning_rate': 0.036385753170854684, 'n_estimators': 692, 'min_child_samples': 30, 'subsample': 0.8, 'colsample_bytree': 0.6}. Best is trial 2 with value: 0.7400779942411985.\n",
      "[I 2025-02-17 12:16:21,872] Trial 10 finished with value: 0.7387926699918127 and parameters: {'objective': 'binary', 'metric': 'auc', 'random_state': 42, 'verbose': -1, 'learning_rate': 0.015894131971030487, 'n_estimators': 1873, 'min_child_samples': 50, 'subsample': 0.5, 'colsample_bytree': 0.8}. Best is trial 2 with value: 0.7400779942411985.\n",
      "[I 2025-02-17 12:16:30,459] Trial 11 finished with value: 0.7399820099793771 and parameters: {'objective': 'binary', 'metric': 'auc', 'random_state': 42, 'verbose': -1, 'learning_rate': 0.0054932202901173555, 'n_estimators': 1329, 'min_child_samples': 20, 'subsample': 0.5, 'colsample_bytree': 0.6}. Best is trial 2 with value: 0.7400779942411985.\n",
      "[I 2025-02-17 12:16:38,355] Trial 12 finished with value: 0.7398599846456948 and parameters: {'objective': 'binary', 'metric': 'auc', 'random_state': 42, 'verbose': -1, 'learning_rate': 0.005247354763459572, 'n_estimators': 1273, 'min_child_samples': 40, 'subsample': 0.6, 'colsample_bytree': 0.8}. Best is trial 2 with value: 0.7400779942411985.\n",
      "[I 2025-02-17 12:16:46,786] Trial 13 finished with value: 0.7399512276693639 and parameters: {'objective': 'binary', 'metric': 'auc', 'random_state': 42, 'verbose': -1, 'learning_rate': 0.010031606831238936, 'n_estimators': 1484, 'min_child_samples': 20, 'subsample': 1.0, 'colsample_bytree': 0.6}. Best is trial 2 with value: 0.7400779942411985.\n",
      "[I 2025-02-17 12:16:52,905] Trial 14 finished with value: 0.7399850794744287 and parameters: {'objective': 'binary', 'metric': 'auc', 'random_state': 42, 'verbose': -1, 'learning_rate': 0.014790680152586035, 'n_estimators': 962, 'min_child_samples': 40, 'subsample': 0.6, 'colsample_bytree': 0.5}. Best is trial 2 with value: 0.7400779942411985.\n",
      "[I 2025-02-17 12:16:59,871] Trial 15 finished with value: 0.7282129584058563 and parameters: {'objective': 'binary', 'metric': 'auc', 'random_state': 42, 'verbose': -1, 'learning_rate': 0.09023346061020121, 'n_estimators': 1643, 'min_child_samples': 50, 'subsample': 0.6, 'colsample_bytree': 0.7}. Best is trial 2 with value: 0.7400779942411985.\n",
      "[I 2025-02-17 12:17:06,629] Trial 16 finished with value: 0.7400547208770359 and parameters: {'objective': 'binary', 'metric': 'auc', 'random_state': 42, 'verbose': -1, 'learning_rate': 0.007314440229254275, 'n_estimators': 1026, 'min_child_samples': 15, 'subsample': 0.9, 'colsample_bytree': 0.6}. Best is trial 2 with value: 0.7400779942411985.\n",
      "[I 2025-02-17 12:17:12,036] Trial 17 finished with value: 0.7400960617735204 and parameters: {'objective': 'binary', 'metric': 'auc', 'random_state': 42, 'verbose': -1, 'learning_rate': 0.01111360174188732, 'n_estimators': 908, 'min_child_samples': 25, 'subsample': 0.9, 'colsample_bytree': 0.7}. Best is trial 17 with value: 0.7400960617735204.\n",
      "[I 2025-02-17 12:17:20,498] Trial 18 finished with value: 0.7398875227416625 and parameters: {'objective': 'binary', 'metric': 'auc', 'random_state': 42, 'verbose': -1, 'learning_rate': 0.011529644158518614, 'n_estimators': 1716, 'min_child_samples': 35, 'subsample': 0.9, 'colsample_bytree': 0.8}. Best is trial 17 with value: 0.7400960617735204.\n",
      "[I 2025-02-17 12:17:26,362] Trial 19 finished with value: 0.7390945764714698 and parameters: {'objective': 'binary', 'metric': 'auc', 'random_state': 42, 'verbose': -1, 'learning_rate': 0.021896517458305013, 'n_estimators': 1220, 'min_child_samples': 25, 'subsample': 0.7, 'colsample_bytree': 0.9}. Best is trial 17 with value: 0.7400960617735204.\n"
     ]
    },
    {
     "name": "stdout",
     "output_type": "stream",
     "text": [
      "{'objective': 'binary', 'metric': 'auc', 'random_state': 42, 'verbose': -1, 'learning_rate': 0.01111360174188732, 'n_estimators': 908, 'min_child_samples': 25, 'subsample': 0.9, 'colsample_bytree': 0.7}\n",
      "0.7400960617735204\n",
      "0.740625027498387\n"
     ]
    },
    {
     "name": "stderr",
     "output_type": "stream",
     "text": [
      "[I 2025-02-17 12:17:32,401] A new study created in memory with name: no-name-34bb8c54-af2b-4f63-a8b9-ec264c309294\n"
     ]
    },
    {
     "name": "stdout",
     "output_type": "stream",
     "text": [
      "==================================================\n",
      "0:\ttest: 0.7188885\tbest: 0.7188885 (0)\ttotal: 73.2ms\tremaining: 2m 7s\n",
      "300:\ttest: 0.7409138\tbest: 0.7410452 (227)\ttotal: 15.9s\tremaining: 1m 16s\n"
     ]
    },
    {
     "name": "stderr",
     "output_type": "stream",
     "text": [
      "[I 2025-02-17 12:18:00,909] Trial 0 finished with value: 0.7410451869698133 and parameters: {'iterations': 1749, 'learning_rate': 0.09531785910894204}. Best is trial 0 with value: 0.7410451869698133.\n"
     ]
    },
    {
     "name": "stdout",
     "output_type": "stream",
     "text": [
      "Stopped by overfitting detector  (300 iterations wait)\n",
      "\n",
      "bestTest = 0.741045187\n",
      "bestIteration = 227\n",
      "\n",
      "Shrink model to first 228 iterations.\n",
      "0:\ttest: 0.7188885\tbest: 0.7188885 (0)\ttotal: 75.6ms\tremaining: 3m 6s\n",
      "300:\ttest: 0.7414303\tbest: 0.7414303 (300)\ttotal: 15.9s\tremaining: 1m 54s\n",
      "600:\ttest: 0.7414163\tbest: 0.7415425 (521)\ttotal: 32s\tremaining: 1m 39s\n"
     ]
    },
    {
     "name": "stderr",
     "output_type": "stream",
     "text": [
      "[I 2025-02-17 12:18:45,368] Trial 1 finished with value: 0.7415424689934937 and parameters: {'iterations': 2464, 'learning_rate': 0.06187255599871847}. Best is trial 1 with value: 0.7415424689934937.\n"
     ]
    },
    {
     "name": "stdout",
     "output_type": "stream",
     "text": [
      "Stopped by overfitting detector  (300 iterations wait)\n",
      "\n",
      "bestTest = 0.741542469\n",
      "bestIteration = 521\n",
      "\n",
      "Shrink model to first 522 iterations.\n",
      "0:\ttest: 0.7188885\tbest: 0.7188885 (0)\ttotal: 68.8ms\tremaining: 1m 30s\n",
      "300:\ttest: 0.7383259\tbest: 0.7383259 (300)\ttotal: 16s\tremaining: 53.6s\n",
      "600:\ttest: 0.7401413\tbest: 0.7401413 (600)\ttotal: 31.2s\tremaining: 36.9s\n",
      "900:\ttest: 0.7411808\tbest: 0.7411808 (900)\ttotal: 47.5s\tremaining: 21.7s\n",
      "1200:\ttest: 0.7414386\tbest: 0.7414386 (1200)\ttotal: 1m 3s\tremaining: 5.89s\n"
     ]
    },
    {
     "name": "stderr",
     "output_type": "stream",
     "text": [
      "[I 2025-02-17 12:19:55,607] Trial 2 finished with value: 0.7414872379369957 and parameters: {'iterations': 1312, 'learning_rate': 0.019819479431939253}. Best is trial 1 with value: 0.7415424689934937.\n"
     ]
    },
    {
     "name": "stdout",
     "output_type": "stream",
     "text": [
      "1311:\ttest: 0.7414797\tbest: 0.7414872 (1300)\ttotal: 1m 9s\tremaining: 0us\n",
      "\n",
      "bestTest = 0.7414872379\n",
      "bestIteration = 1300\n",
      "\n",
      "Shrink model to first 1301 iterations.\n",
      "0:\ttest: 0.7188885\tbest: 0.7188885 (0)\ttotal: 70.2ms\tremaining: 1m 18s\n",
      "300:\ttest: 0.7412076\tbest: 0.7412341 (295)\ttotal: 16.4s\tremaining: 44.4s\n",
      "600:\ttest: 0.7406028\tbest: 0.7413242 (330)\ttotal: 33s\tremaining: 28.3s\n"
     ]
    },
    {
     "name": "stderr",
     "output_type": "stream",
     "text": [
      "[I 2025-02-17 12:20:30,540] Trial 3 finished with value: 0.7413242211448167 and parameters: {'iterations': 1116, 'learning_rate': 0.08728673384861885}. Best is trial 1 with value: 0.7415424689934937.\n"
     ]
    },
    {
     "name": "stdout",
     "output_type": "stream",
     "text": [
      "Stopped by overfitting detector  (300 iterations wait)\n",
      "\n",
      "bestTest = 0.7413242211\n",
      "bestIteration = 330\n",
      "\n",
      "Shrink model to first 331 iterations.\n",
      "0:\ttest: 0.7188885\tbest: 0.7188885 (0)\ttotal: 75ms\tremaining: 2m 45s\n",
      "300:\ttest: 0.7413467\tbest: 0.7413928 (288)\ttotal: 16.4s\tremaining: 1m 43s\n"
     ]
    },
    {
     "name": "stderr",
     "output_type": "stream",
     "text": [
      "[I 2025-02-17 12:21:03,252] Trial 4 finished with value: 0.741392786437257 and parameters: {'iterations': 2202, 'learning_rate': 0.07226689489062432}. Best is trial 1 with value: 0.7415424689934937.\n"
     ]
    },
    {
     "name": "stdout",
     "output_type": "stream",
     "text": [
      "Stopped by overfitting detector  (300 iterations wait)\n",
      "\n",
      "bestTest = 0.7413927864\n",
      "bestIteration = 288\n",
      "\n",
      "Shrink model to first 289 iterations.\n",
      "0:\ttest: 0.7188885\tbest: 0.7188885 (0)\ttotal: 80.7ms\tremaining: 1m 23s\n",
      "300:\ttest: 0.7414950\tbest: 0.7415507 (288)\ttotal: 16.4s\tremaining: 40.3s\n",
      "600:\ttest: 0.7406638\tbest: 0.7415970 (318)\ttotal: 33.1s\tremaining: 24.2s\n"
     ]
    },
    {
     "name": "stderr",
     "output_type": "stream",
     "text": [
      "[I 2025-02-17 12:21:37,663] Trial 5 finished with value: 0.7415969852904715 and parameters: {'iterations': 1041, 'learning_rate': 0.09714143595538946}. Best is trial 5 with value: 0.7415969852904715.\n"
     ]
    },
    {
     "name": "stdout",
     "output_type": "stream",
     "text": [
      "Stopped by overfitting detector  (300 iterations wait)\n",
      "\n",
      "bestTest = 0.7415969853\n",
      "bestIteration = 318\n",
      "\n",
      "Shrink model to first 319 iterations.\n",
      "0:\ttest: 0.7188885\tbest: 0.7188885 (0)\ttotal: 76.4ms\tremaining: 3m 23s\n",
      "300:\ttest: 0.7388573\tbest: 0.7388573 (300)\ttotal: 16s\tremaining: 2m 5s\n",
      "600:\ttest: 0.7406966\tbest: 0.7407023 (599)\ttotal: 32s\tremaining: 1m 49s\n",
      "900:\ttest: 0.7412597\tbest: 0.7412624 (895)\ttotal: 48.6s\tremaining: 1m 35s\n",
      "1200:\ttest: 0.7413167\tbest: 0.7413488 (1146)\ttotal: 1m 5s\tremaining: 1m 19s\n"
     ]
    },
    {
     "name": "stderr",
     "output_type": "stream",
     "text": [
      "[I 2025-02-17 12:22:57,060] Trial 6 finished with value: 0.7413488406394093 and parameters: {'iterations': 2665, 'learning_rate': 0.025172215514436234}. Best is trial 5 with value: 0.7415969852904715.\n"
     ]
    },
    {
     "name": "stdout",
     "output_type": "stream",
     "text": [
      "Stopped by overfitting detector  (300 iterations wait)\n",
      "\n",
      "bestTest = 0.7413488406\n",
      "bestIteration = 1146\n",
      "\n",
      "Shrink model to first 1147 iterations.\n",
      "0:\ttest: 0.7188885\tbest: 0.7188885 (0)\ttotal: 68.6ms\tremaining: 1m 33s\n",
      "300:\ttest: 0.7386415\tbest: 0.7386426 (299)\ttotal: 16.1s\tremaining: 56.8s\n",
      "600:\ttest: 0.7405039\tbest: 0.7405039 (600)\ttotal: 31.9s\tremaining: 40.5s\n",
      "900:\ttest: 0.7414230\tbest: 0.7414302 (884)\ttotal: 48.6s\tremaining: 24.9s\n",
      "1200:\ttest: 0.7416263\tbest: 0.7416597 (1091)\ttotal: 1m 5s\tremaining: 8.81s\n"
     ]
    },
    {
     "name": "stderr",
     "output_type": "stream",
     "text": [
      "[I 2025-02-17 12:24:11,711] Trial 7 finished with value: 0.7416597292637066 and parameters: {'iterations': 1363, 'learning_rate': 0.022423428436076212}. Best is trial 7 with value: 0.7416597292637066.\n"
     ]
    },
    {
     "name": "stdout",
     "output_type": "stream",
     "text": [
      "1362:\ttest: 0.7415516\tbest: 0.7416597 (1091)\ttotal: 1m 14s\tremaining: 0us\n",
      "\n",
      "bestTest = 0.7416597293\n",
      "bestIteration = 1091\n",
      "\n",
      "Shrink model to first 1092 iterations.\n",
      "0:\ttest: 0.7188885\tbest: 0.7188885 (0)\ttotal: 82.3ms\tremaining: 2m 12s\n",
      "300:\ttest: 0.7410426\tbest: 0.7410426 (300)\ttotal: 16.3s\tremaining: 1m 10s\n",
      "600:\ttest: 0.7414093\tbest: 0.7414245 (469)\ttotal: 32.9s\tremaining: 55.2s\n",
      "900:\ttest: 0.7415258\tbest: 0.7415685 (884)\ttotal: 49.8s\tremaining: 39s\n"
     ]
    },
    {
     "name": "stderr",
     "output_type": "stream",
     "text": [
      "[I 2025-02-17 12:25:17,859] Trial 8 finished with value: 0.7415684902109236 and parameters: {'iterations': 1608, 'learning_rate': 0.05485186100506259}. Best is trial 7 with value: 0.7416597292637066.\n"
     ]
    },
    {
     "name": "stdout",
     "output_type": "stream",
     "text": [
      "Stopped by overfitting detector  (300 iterations wait)\n",
      "\n",
      "bestTest = 0.7415684902\n",
      "bestIteration = 884\n",
      "\n",
      "Shrink model to first 885 iterations.\n",
      "0:\ttest: 0.7188885\tbest: 0.7188885 (0)\ttotal: 72.1ms\tremaining: 2m 14s\n",
      "300:\ttest: 0.7397674\tbest: 0.7397698 (299)\ttotal: 15.8s\tremaining: 1m 22s\n",
      "600:\ttest: 0.7413439\tbest: 0.7413439 (600)\ttotal: 32.1s\tremaining: 1m 7s\n",
      "900:\ttest: 0.7415024\tbest: 0.7415184 (853)\ttotal: 48.4s\tremaining: 51.7s\n",
      "1200:\ttest: 0.7414797\tbest: 0.7415745 (1054)\ttotal: 1m 4s\tremaining: 35.9s\n"
     ]
    },
    {
     "name": "stderr",
     "output_type": "stream",
     "text": [
      "[I 2025-02-17 12:26:31,883] Trial 9 finished with value: 0.7415745259579851 and parameters: {'iterations': 1864, 'learning_rate': 0.03266676831881398}. Best is trial 7 with value: 0.7416597292637066.\n"
     ]
    },
    {
     "name": "stdout",
     "output_type": "stream",
     "text": [
      "Stopped by overfitting detector  (300 iterations wait)\n",
      "\n",
      "bestTest = 0.741574526\n",
      "bestIteration = 1054\n",
      "\n",
      "Shrink model to first 1055 iterations.\n",
      "0:\ttest: 0.7188885\tbest: 0.7188885 (0)\ttotal: 64.6ms\tremaining: 1m 27s\n",
      "300:\ttest: 0.7386415\tbest: 0.7386426 (299)\ttotal: 16.5s\tremaining: 58.2s\n",
      "600:\ttest: 0.7405039\tbest: 0.7405039 (600)\ttotal: 32.5s\tremaining: 41.2s\n",
      "900:\ttest: 0.7414230\tbest: 0.7414302 (884)\ttotal: 49.3s\tremaining: 25.3s\n",
      "1200:\ttest: 0.7416263\tbest: 0.7416597 (1091)\ttotal: 1m 6s\tremaining: 8.9s\n"
     ]
    },
    {
     "name": "stderr",
     "output_type": "stream",
     "text": [
      "[I 2025-02-17 12:27:47,285] A new study created in memory with name: no-name-8184856d-cd1b-4f6d-961d-303166d26da8\n"
     ]
    },
    {
     "name": "stdout",
     "output_type": "stream",
     "text": [
      "1362:\ttest: 0.7415516\tbest: 0.7416597 (1091)\ttotal: 1m 15s\tremaining: 0us\n",
      "\n",
      "bestTest = 0.7416597293\n",
      "bestIteration = 1091\n",
      "\n",
      "Shrink model to first 1092 iterations.\n"
     ]
    },
    {
     "name": "stderr",
     "output_type": "stream",
     "text": [
      "[I 2025-02-17 12:27:58,171] Trial 0 finished with value: 0.7410092345659356 and parameters: {'objective': 'binary', 'metric': 'auc', 'random_state': 42, 'verbose': -1, 'learning_rate': 0.015355286838886862, 'n_estimators': 1907, 'min_child_samples': 40, 'subsample': 0.8, 'colsample_bytree': 0.5}. Best is trial 0 with value: 0.7410092345659356.\n",
      "[I 2025-02-17 12:27:59,991] Trial 1 finished with value: 0.7350506338820981 and parameters: {'objective': 'binary', 'metric': 'auc', 'random_state': 42, 'verbose': -1, 'learning_rate': 0.00797854234707418, 'n_estimators': 210, 'min_child_samples': 45, 'subsample': 0.8, 'colsample_bytree': 0.9}. Best is trial 0 with value: 0.7410092345659356.\n",
      "[I 2025-02-17 12:28:11,758] Trial 2 finished with value: 0.7417731218907365 and parameters: {'objective': 'binary', 'metric': 'auc', 'random_state': 42, 'verbose': -1, 'learning_rate': 0.005318033256270142, 'n_estimators': 1943, 'min_child_samples': 45, 'subsample': 0.6, 'colsample_bytree': 0.6}. Best is trial 2 with value: 0.7417731218907365.\n",
      "[I 2025-02-17 12:28:16,554] Trial 3 finished with value: 0.741068218109916 and parameters: {'objective': 'binary', 'metric': 'auc', 'random_state': 42, 'verbose': -1, 'learning_rate': 0.008661333735273127, 'n_estimators': 678, 'min_child_samples': 30, 'subsample': 0.7, 'colsample_bytree': 0.6}. Best is trial 2 with value: 0.7417731218907365.\n",
      "[I 2025-02-17 12:28:18,952] Trial 4 finished with value: 0.7414547719712232 and parameters: {'objective': 'binary', 'metric': 'auc', 'random_state': 42, 'verbose': -1, 'learning_rate': 0.03126143958203108, 'n_estimators': 365, 'min_child_samples': 20, 'subsample': 0.7, 'colsample_bytree': 0.7}. Best is trial 2 with value: 0.7417731218907365.\n",
      "[I 2025-02-17 12:28:22,109] Trial 5 finished with value: 0.7401754278764917 and parameters: {'objective': 'binary', 'metric': 'auc', 'random_state': 42, 'verbose': -1, 'learning_rate': 0.05254210669345883, 'n_estimators': 479, 'min_child_samples': 30, 'subsample': 0.8, 'colsample_bytree': 0.5}. Best is trial 2 with value: 0.7417731218907365.\n",
      "[I 2025-02-17 12:28:24,722] Trial 6 finished with value: 0.7403682501406726 and parameters: {'objective': 'binary', 'metric': 'auc', 'random_state': 42, 'verbose': -1, 'learning_rate': 0.030860579740535368, 'n_estimators': 424, 'min_child_samples': 10, 'subsample': 1.0, 'colsample_bytree': 1.0}. Best is trial 2 with value: 0.7417731218907365.\n",
      "[I 2025-02-17 12:28:28,107] Trial 7 finished with value: 0.7388472220267663 and parameters: {'objective': 'binary', 'metric': 'auc', 'random_state': 42, 'verbose': -1, 'learning_rate': 0.05632733481673016, 'n_estimators': 679, 'min_child_samples': 10, 'subsample': 0.9, 'colsample_bytree': 0.7}. Best is trial 2 with value: 0.7417731218907365.\n",
      "[I 2025-02-17 12:28:34,965] Trial 8 finished with value: 0.7414335555261251 and parameters: {'objective': 'binary', 'metric': 'auc', 'random_state': 42, 'verbose': -1, 'learning_rate': 0.007206848764305203, 'n_estimators': 1041, 'min_child_samples': 10, 'subsample': 1.0, 'colsample_bytree': 0.6}. Best is trial 2 with value: 0.7417731218907365.\n",
      "[I 2025-02-17 12:28:38,916] Trial 9 finished with value: 0.7408614937730628 and parameters: {'objective': 'binary', 'metric': 'auc', 'random_state': 42, 'verbose': -1, 'learning_rate': 0.036385753170854684, 'n_estimators': 692, 'min_child_samples': 30, 'subsample': 0.8, 'colsample_bytree': 0.6}. Best is trial 2 with value: 0.7417731218907365.\n",
      "[I 2025-02-17 12:28:47,677] Trial 10 finished with value: 0.7401046031497895 and parameters: {'objective': 'binary', 'metric': 'auc', 'random_state': 42, 'verbose': -1, 'learning_rate': 0.015894131971030487, 'n_estimators': 1873, 'min_child_samples': 50, 'subsample': 0.5, 'colsample_bytree': 0.8}. Best is trial 2 with value: 0.7417731218907365.\n",
      "[I 2025-02-17 12:28:55,198] Trial 11 finished with value: 0.7393801189289955 and parameters: {'objective': 'binary', 'metric': 'auc', 'random_state': 42, 'verbose': -1, 'learning_rate': 0.021111895577706766, 'n_estimators': 1629, 'min_child_samples': 20, 'subsample': 0.6, 'colsample_bytree': 0.7}. Best is trial 2 with value: 0.7417731218907365.\n",
      "[I 2025-02-17 12:29:01,058] Trial 12 finished with value: 0.7299807413606461 and parameters: {'objective': 'binary', 'metric': 'auc', 'random_state': 42, 'verbose': -1, 'learning_rate': 0.0933102191367511, 'n_estimators': 1376, 'min_child_samples': 20, 'subsample': 0.6, 'colsample_bytree': 0.8}. Best is trial 2 with value: 0.7417731218907365.\n",
      "[I 2025-02-17 12:29:07,565] Trial 13 finished with value: 0.7416508066823598 and parameters: {'objective': 'binary', 'metric': 'auc', 'random_state': 42, 'verbose': -1, 'learning_rate': 0.012973882577665569, 'n_estimators': 1189, 'min_child_samples': 40, 'subsample': 0.6, 'colsample_bytree': 0.7}. Best is trial 2 with value: 0.7417731218907365.\n",
      "[I 2025-02-17 12:29:14,999] Trial 14 finished with value: 0.741268183998415 and parameters: {'objective': 'binary', 'metric': 'auc', 'random_state': 42, 'verbose': -1, 'learning_rate': 0.0058761444009386545, 'n_estimators': 1103, 'min_child_samples': 40, 'subsample': 0.5, 'colsample_bytree': 0.6}. Best is trial 2 with value: 0.7417731218907365.\n",
      "[I 2025-02-17 12:29:22,495] Trial 15 finished with value: 0.7412739894340753 and parameters: {'objective': 'binary', 'metric': 'auc', 'random_state': 42, 'verbose': -1, 'learning_rate': 0.011596398970138169, 'n_estimators': 1430, 'min_child_samples': 40, 'subsample': 0.6, 'colsample_bytree': 0.8}. Best is trial 2 with value: 0.7417731218907365.\n",
      "[I 2025-02-17 12:29:30,264] Trial 16 finished with value: 0.7407101990370188 and parameters: {'objective': 'binary', 'metric': 'auc', 'random_state': 42, 'verbose': -1, 'learning_rate': 0.005096317736246619, 'n_estimators': 1105, 'min_child_samples': 50, 'subsample': 0.6, 'colsample_bytree': 0.5}. Best is trial 2 with value: 0.7417731218907365.\n",
      "[I 2025-02-17 12:29:38,354] Trial 17 finished with value: 0.7408129179218771 and parameters: {'objective': 'binary', 'metric': 'auc', 'random_state': 42, 'verbose': -1, 'learning_rate': 0.011229053120929587, 'n_estimators': 1592, 'min_child_samples': 35, 'subsample': 0.5, 'colsample_bytree': 0.9}. Best is trial 2 with value: 0.7417731218907365.\n",
      "[I 2025-02-17 12:29:48,197] Trial 18 finished with value: 0.7411154001800369 and parameters: {'objective': 'binary', 'metric': 'auc', 'random_state': 42, 'verbose': -1, 'learning_rate': 0.010395694999691138, 'n_estimators': 1958, 'min_child_samples': 45, 'subsample': 0.7, 'colsample_bytree': 0.7}. Best is trial 2 with value: 0.7417731218907365.\n",
      "[I 2025-02-17 12:29:57,093] Trial 19 finished with value: 0.7408430291521183 and parameters: {'objective': 'binary', 'metric': 'auc', 'random_state': 42, 'verbose': -1, 'learning_rate': 0.015841647035191458, 'n_estimators': 1706, 'min_child_samples': 45, 'subsample': 0.6, 'colsample_bytree': 0.6}. Best is trial 2 with value: 0.7417731218907365.\n"
     ]
    },
    {
     "name": "stdout",
     "output_type": "stream",
     "text": [
      "{'objective': 'binary', 'metric': 'auc', 'random_state': 42, 'verbose': -1, 'learning_rate': 0.005318033256270142, 'n_estimators': 1943, 'min_child_samples': 45, 'subsample': 0.6, 'colsample_bytree': 0.6}\n",
      "0.7417731218907365\n",
      "0.741986973968363\n"
     ]
    },
    {
     "name": "stderr",
     "output_type": "stream",
     "text": [
      "[I 2025-02-17 12:30:09,897] A new study created in memory with name: no-name-f00114f1-c1eb-4157-9485-465521ca3124\n"
     ]
    },
    {
     "name": "stdout",
     "output_type": "stream",
     "text": [
      "==================================================\n",
      "0:\ttest: 0.7204691\tbest: 0.7204691 (0)\ttotal: 60.7ms\tremaining: 1m 46s\n",
      "300:\ttest: 0.7408006\tbest: 0.7408079 (246)\ttotal: 16.5s\tremaining: 1m 19s\n",
      "600:\ttest: 0.7401262\tbest: 0.7408608 (313)\ttotal: 33.3s\tremaining: 1m 3s\n"
     ]
    },
    {
     "name": "stderr",
     "output_type": "stream",
     "text": [
      "[I 2025-02-17 12:30:44,261] Trial 0 finished with value: 0.7408607631299974 and parameters: {'iterations': 1749, 'learning_rate': 0.09531785910894204}. Best is trial 0 with value: 0.7408607631299974.\n"
     ]
    },
    {
     "name": "stdout",
     "output_type": "stream",
     "text": [
      "Stopped by overfitting detector  (300 iterations wait)\n",
      "\n",
      "bestTest = 0.7408607631\n",
      "bestIteration = 313\n",
      "\n",
      "Shrink model to first 314 iterations.\n",
      "0:\ttest: 0.7204691\tbest: 0.7204691 (0)\ttotal: 72.2ms\tremaining: 2m 57s\n",
      "300:\ttest: 0.7405862\tbest: 0.7405910 (299)\ttotal: 16.5s\tremaining: 1m 58s\n",
      "600:\ttest: 0.7405688\tbest: 0.7407619 (397)\ttotal: 33.2s\tremaining: 1m 42s\n"
     ]
    },
    {
     "name": "stderr",
     "output_type": "stream",
     "text": [
      "[I 2025-02-17 12:31:23,259] Trial 1 finished with value: 0.7407619158592081 and parameters: {'iterations': 2464, 'learning_rate': 0.06187255599871847}. Best is trial 0 with value: 0.7408607631299974.\n"
     ]
    },
    {
     "name": "stdout",
     "output_type": "stream",
     "text": [
      "Stopped by overfitting detector  (300 iterations wait)\n",
      "\n",
      "bestTest = 0.7407619159\n",
      "bestIteration = 397\n",
      "\n",
      "Shrink model to first 398 iterations.\n",
      "0:\ttest: 0.7204691\tbest: 0.7204691 (0)\ttotal: 70.1ms\tremaining: 1m 31s\n",
      "300:\ttest: 0.7381286\tbest: 0.7381295 (299)\ttotal: 16.1s\tremaining: 54s\n",
      "600:\ttest: 0.7398776\tbest: 0.7398776 (600)\ttotal: 32.2s\tremaining: 38.1s\n",
      "900:\ttest: 0.7407409\tbest: 0.7407428 (898)\ttotal: 48.9s\tremaining: 22.3s\n",
      "1200:\ttest: 0.7408113\tbest: 0.7408733 (1051)\ttotal: 1m 5s\tremaining: 6.05s\n"
     ]
    },
    {
     "name": "stderr",
     "output_type": "stream",
     "text": [
      "[I 2025-02-17 12:32:35,309] Trial 2 finished with value: 0.740873307159581 and parameters: {'iterations': 1312, 'learning_rate': 0.019819479431939253}. Best is trial 2 with value: 0.740873307159581.\n"
     ]
    },
    {
     "name": "stdout",
     "output_type": "stream",
     "text": [
      "1311:\ttest: 0.7408210\tbest: 0.7408733 (1051)\ttotal: 1m 11s\tremaining: 0us\n",
      "\n",
      "bestTest = 0.7408733072\n",
      "bestIteration = 1051\n",
      "\n",
      "Shrink model to first 1052 iterations.\n",
      "0:\ttest: 0.7204691\tbest: 0.7204691 (0)\ttotal: 82.6ms\tremaining: 1m 32s\n",
      "300:\ttest: 0.7401048\tbest: 0.7402963 (261)\ttotal: 16.4s\tremaining: 44.5s\n",
      "600:\ttest: 0.7401351\tbest: 0.7402985 (484)\ttotal: 33.1s\tremaining: 28.3s\n",
      "900:\ttest: 0.7400177\tbest: 0.7403216 (760)\ttotal: 49.7s\tremaining: 11.9s\n"
     ]
    },
    {
     "name": "stderr",
     "output_type": "stream",
     "text": [
      "[I 2025-02-17 12:33:34,383] Trial 3 finished with value: 0.7403215882566472 and parameters: {'iterations': 1116, 'learning_rate': 0.08728673384861885}. Best is trial 2 with value: 0.740873307159581.\n"
     ]
    },
    {
     "name": "stdout",
     "output_type": "stream",
     "text": [
      "Stopped by overfitting detector  (300 iterations wait)\n",
      "\n",
      "bestTest = 0.7403215883\n",
      "bestIteration = 760\n",
      "\n",
      "Shrink model to first 761 iterations.\n",
      "0:\ttest: 0.7204691\tbest: 0.7204691 (0)\ttotal: 71.9ms\tremaining: 2m 38s\n",
      "300:\ttest: 0.7402999\tbest: 0.7403887 (290)\ttotal: 16.3s\tremaining: 1m 43s\n",
      "600:\ttest: 0.7403730\tbest: 0.7405104 (526)\ttotal: 32.9s\tremaining: 1m 27s\n"
     ]
    },
    {
     "name": "stderr",
     "output_type": "stream",
     "text": [
      "[I 2025-02-17 12:34:20,356] Trial 4 finished with value: 0.7405103800713102 and parameters: {'iterations': 2202, 'learning_rate': 0.07226689489062432}. Best is trial 2 with value: 0.740873307159581.\n"
     ]
    },
    {
     "name": "stdout",
     "output_type": "stream",
     "text": [
      "Stopped by overfitting detector  (300 iterations wait)\n",
      "\n",
      "bestTest = 0.7405103801\n",
      "bestIteration = 526\n",
      "\n",
      "Shrink model to first 527 iterations.\n",
      "0:\ttest: 0.7204691\tbest: 0.7204691 (0)\ttotal: 74.6ms\tremaining: 1m 17s\n",
      "300:\ttest: 0.7405024\tbest: 0.7407832 (200)\ttotal: 16.6s\tremaining: 40.7s\n"
     ]
    },
    {
     "name": "stderr",
     "output_type": "stream",
     "text": [
      "[I 2025-02-17 12:34:48,382] Trial 5 finished with value: 0.7407831839258272 and parameters: {'iterations': 1041, 'learning_rate': 0.09714143595538946}. Best is trial 2 with value: 0.740873307159581.\n"
     ]
    },
    {
     "name": "stdout",
     "output_type": "stream",
     "text": [
      "Stopped by overfitting detector  (300 iterations wait)\n",
      "\n",
      "bestTest = 0.7407831839\n",
      "bestIteration = 200\n",
      "\n",
      "Shrink model to first 201 iterations.\n",
      "0:\ttest: 0.7204691\tbest: 0.7204691 (0)\ttotal: 66.3ms\tremaining: 2m 56s\n",
      "300:\ttest: 0.7392351\tbest: 0.7392351 (300)\ttotal: 16.3s\tremaining: 2m 8s\n",
      "600:\ttest: 0.7405426\tbest: 0.7405595 (595)\ttotal: 32.4s\tremaining: 1m 51s\n",
      "900:\ttest: 0.7408305\tbest: 0.7408459 (838)\ttotal: 49.3s\tremaining: 1m 36s\n",
      "1200:\ttest: 0.7408494\tbest: 0.7409310 (1039)\ttotal: 1m 6s\tremaining: 1m 20s\n"
     ]
    },
    {
     "name": "stderr",
     "output_type": "stream",
     "text": [
      "[I 2025-02-17 12:36:02,810] Trial 6 finished with value: 0.7409310081073108 and parameters: {'iterations': 2665, 'learning_rate': 0.025172215514436234}. Best is trial 6 with value: 0.7409310081073108.\n"
     ]
    },
    {
     "name": "stdout",
     "output_type": "stream",
     "text": [
      "Stopped by overfitting detector  (300 iterations wait)\n",
      "\n",
      "bestTest = 0.7409310081\n",
      "bestIteration = 1039\n",
      "\n",
      "Shrink model to first 1040 iterations.\n",
      "0:\ttest: 0.7204691\tbest: 0.7204691 (0)\ttotal: 72.5ms\tremaining: 1m 38s\n",
      "300:\ttest: 0.7385708\tbest: 0.7385784 (298)\ttotal: 16s\tremaining: 56.5s\n",
      "600:\ttest: 0.7401626\tbest: 0.7401666 (598)\ttotal: 32.2s\tremaining: 40.8s\n",
      "900:\ttest: 0.7407314\tbest: 0.7407593 (867)\ttotal: 48.9s\tremaining: 25.1s\n",
      "1200:\ttest: 0.7406950\tbest: 0.7407680 (1070)\ttotal: 1m 5s\tremaining: 8.86s\n"
     ]
    },
    {
     "name": "stderr",
     "output_type": "stream",
     "text": [
      "[I 2025-02-17 12:37:17,840] Trial 7 finished with value: 0.740768031023994 and parameters: {'iterations': 1363, 'learning_rate': 0.022423428436076212}. Best is trial 6 with value: 0.7409310081073108.\n"
     ]
    },
    {
     "name": "stdout",
     "output_type": "stream",
     "text": [
      "1362:\ttest: 0.7407047\tbest: 0.7407680 (1070)\ttotal: 1m 14s\tremaining: 0us\n",
      "\n",
      "bestTest = 0.740768031\n",
      "bestIteration = 1070\n",
      "\n",
      "Shrink model to first 1071 iterations.\n",
      "0:\ttest: 0.7204691\tbest: 0.7204691 (0)\ttotal: 73.6ms\tremaining: 1m 58s\n",
      "300:\ttest: 0.7403488\tbest: 0.7403957 (284)\ttotal: 16.3s\tremaining: 1m 10s\n",
      "600:\ttest: 0.7407143\tbest: 0.7407802 (545)\ttotal: 32.9s\tremaining: 55.1s\n"
     ]
    },
    {
     "name": "stderr",
     "output_type": "stream",
     "text": [
      "[I 2025-02-17 12:38:04,783] Trial 8 finished with value: 0.7407802017902725 and parameters: {'iterations': 1608, 'learning_rate': 0.05485186100506259}. Best is trial 6 with value: 0.7409310081073108.\n"
     ]
    },
    {
     "name": "stdout",
     "output_type": "stream",
     "text": [
      "Stopped by overfitting detector  (300 iterations wait)\n",
      "\n",
      "bestTest = 0.7407802018\n",
      "bestIteration = 545\n",
      "\n",
      "Shrink model to first 546 iterations.\n",
      "0:\ttest: 0.7204691\tbest: 0.7204691 (0)\ttotal: 69.3ms\tremaining: 2m 9s\n",
      "300:\ttest: 0.7394802\tbest: 0.7394802 (300)\ttotal: 16.1s\tremaining: 1m 23s\n",
      "600:\ttest: 0.7409129\tbest: 0.7409431 (568)\ttotal: 32.7s\tremaining: 1m 8s\n",
      "900:\ttest: 0.7408313\tbest: 0.7409581 (626)\ttotal: 49.5s\tremaining: 52.9s\n"
     ]
    },
    {
     "name": "stderr",
     "output_type": "stream",
     "text": [
      "[I 2025-02-17 12:38:56,115] Trial 9 finished with value: 0.7409581173475661 and parameters: {'iterations': 1864, 'learning_rate': 0.03266676831881398}. Best is trial 9 with value: 0.7409581173475661.\n"
     ]
    },
    {
     "name": "stdout",
     "output_type": "stream",
     "text": [
      "Stopped by overfitting detector  (300 iterations wait)\n",
      "\n",
      "bestTest = 0.7409581173\n",
      "bestIteration = 626\n",
      "\n",
      "Shrink model to first 627 iterations.\n",
      "0:\ttest: 0.7204691\tbest: 0.7204691 (0)\ttotal: 63.4ms\tremaining: 1m 58s\n",
      "300:\ttest: 0.7394802\tbest: 0.7394802 (300)\ttotal: 16.3s\tremaining: 1m 24s\n",
      "600:\ttest: 0.7409129\tbest: 0.7409431 (568)\ttotal: 32.8s\tremaining: 1m 8s\n",
      "900:\ttest: 0.7408313\tbest: 0.7409581 (626)\ttotal: 49.5s\tremaining: 52.9s\n"
     ]
    },
    {
     "name": "stderr",
     "output_type": "stream",
     "text": [
      "[I 2025-02-17 12:39:47,356] A new study created in memory with name: no-name-8596fc8f-4931-41c0-80fb-8319db23817c\n"
     ]
    },
    {
     "name": "stdout",
     "output_type": "stream",
     "text": [
      "Stopped by overfitting detector  (300 iterations wait)\n",
      "\n",
      "bestTest = 0.7409581173\n",
      "bestIteration = 626\n",
      "\n",
      "Shrink model to first 627 iterations.\n"
     ]
    },
    {
     "name": "stderr",
     "output_type": "stream",
     "text": [
      "[I 2025-02-17 12:39:58,109] Trial 0 finished with value: 0.7398104438691566 and parameters: {'objective': 'binary', 'metric': 'auc', 'random_state': 42, 'verbose': -1, 'learning_rate': 0.015355286838886862, 'n_estimators': 1907, 'min_child_samples': 40, 'subsample': 0.8, 'colsample_bytree': 0.5}. Best is trial 0 with value: 0.7398104438691566.\n",
      "[I 2025-02-17 12:39:59,964] Trial 1 finished with value: 0.7362233557108127 and parameters: {'objective': 'binary', 'metric': 'auc', 'random_state': 42, 'verbose': -1, 'learning_rate': 0.00797854234707418, 'n_estimators': 210, 'min_child_samples': 45, 'subsample': 0.8, 'colsample_bytree': 0.9}. Best is trial 0 with value: 0.7398104438691566.\n",
      "[I 2025-02-17 12:40:11,682] Trial 2 finished with value: 0.7406069917331549 and parameters: {'objective': 'binary', 'metric': 'auc', 'random_state': 42, 'verbose': -1, 'learning_rate': 0.005318033256270142, 'n_estimators': 1943, 'min_child_samples': 45, 'subsample': 0.6, 'colsample_bytree': 0.6}. Best is trial 2 with value: 0.7406069917331549.\n",
      "[I 2025-02-17 12:40:16,528] Trial 3 finished with value: 0.7401499705249057 and parameters: {'objective': 'binary', 'metric': 'auc', 'random_state': 42, 'verbose': -1, 'learning_rate': 0.008661333735273127, 'n_estimators': 678, 'min_child_samples': 30, 'subsample': 0.7, 'colsample_bytree': 0.6}. Best is trial 2 with value: 0.7406069917331549.\n",
      "[I 2025-02-17 12:40:18,943] Trial 4 finished with value: 0.7405849453728359 and parameters: {'objective': 'binary', 'metric': 'auc', 'random_state': 42, 'verbose': -1, 'learning_rate': 0.03126143958203108, 'n_estimators': 365, 'min_child_samples': 20, 'subsample': 0.7, 'colsample_bytree': 0.7}. Best is trial 2 with value: 0.7406069917331549.\n",
      "[I 2025-02-17 12:40:22,108] Trial 5 finished with value: 0.739888396336632 and parameters: {'objective': 'binary', 'metric': 'auc', 'random_state': 42, 'verbose': -1, 'learning_rate': 0.05254210669345883, 'n_estimators': 479, 'min_child_samples': 30, 'subsample': 0.8, 'colsample_bytree': 0.5}. Best is trial 2 with value: 0.7406069917331549.\n",
      "[I 2025-02-17 12:40:24,774] Trial 6 finished with value: 0.7398629945774531 and parameters: {'objective': 'binary', 'metric': 'auc', 'random_state': 42, 'verbose': -1, 'learning_rate': 0.030860579740535368, 'n_estimators': 424, 'min_child_samples': 10, 'subsample': 1.0, 'colsample_bytree': 1.0}. Best is trial 2 with value: 0.7406069917331549.\n",
      "[I 2025-02-17 12:40:28,182] Trial 7 finished with value: 0.738117500207042 and parameters: {'objective': 'binary', 'metric': 'auc', 'random_state': 42, 'verbose': -1, 'learning_rate': 0.05632733481673016, 'n_estimators': 679, 'min_child_samples': 10, 'subsample': 0.9, 'colsample_bytree': 0.7}. Best is trial 2 with value: 0.7406069917331549.\n",
      "[I 2025-02-17 12:40:35,049] Trial 8 finished with value: 0.7403563017440228 and parameters: {'objective': 'binary', 'metric': 'auc', 'random_state': 42, 'verbose': -1, 'learning_rate': 0.007206848764305203, 'n_estimators': 1041, 'min_child_samples': 10, 'subsample': 1.0, 'colsample_bytree': 0.6}. Best is trial 2 with value: 0.7406069917331549.\n",
      "[I 2025-02-17 12:40:39,021] Trial 9 finished with value: 0.7396804608794801 and parameters: {'objective': 'binary', 'metric': 'auc', 'random_state': 42, 'verbose': -1, 'learning_rate': 0.036385753170854684, 'n_estimators': 692, 'min_child_samples': 30, 'subsample': 0.8, 'colsample_bytree': 0.6}. Best is trial 2 with value: 0.7406069917331549.\n",
      "[I 2025-02-17 12:40:47,879] Trial 10 finished with value: 0.7392165144456553 and parameters: {'objective': 'binary', 'metric': 'auc', 'random_state': 42, 'verbose': -1, 'learning_rate': 0.015894131971030487, 'n_estimators': 1873, 'min_child_samples': 50, 'subsample': 0.5, 'colsample_bytree': 0.8}. Best is trial 2 with value: 0.7406069917331549.\n",
      "[I 2025-02-17 12:40:55,418] Trial 11 finished with value: 0.7386500039915348 and parameters: {'objective': 'binary', 'metric': 'auc', 'random_state': 42, 'verbose': -1, 'learning_rate': 0.021111895577706766, 'n_estimators': 1629, 'min_child_samples': 20, 'subsample': 0.6, 'colsample_bytree': 0.7}. Best is trial 2 with value: 0.7406069917331549.\n",
      "[I 2025-02-17 12:41:01,225] Trial 12 finished with value: 0.7303193110328151 and parameters: {'objective': 'binary', 'metric': 'auc', 'random_state': 42, 'verbose': -1, 'learning_rate': 0.0933102191367511, 'n_estimators': 1376, 'min_child_samples': 20, 'subsample': 0.6, 'colsample_bytree': 0.8}. Best is trial 2 with value: 0.7406069917331549.\n",
      "[I 2025-02-17 12:41:08,040] Trial 13 finished with value: 0.7405407057294074 and parameters: {'objective': 'binary', 'metric': 'auc', 'random_state': 42, 'verbose': -1, 'learning_rate': 0.012973882577665569, 'n_estimators': 1189, 'min_child_samples': 40, 'subsample': 0.6, 'colsample_bytree': 0.7}. Best is trial 2 with value: 0.7406069917331549.\n",
      "[I 2025-02-17 12:41:09,420] Trial 14 finished with value: 0.7385719204848141 and parameters: {'objective': 'binary', 'metric': 'auc', 'random_state': 42, 'verbose': -1, 'learning_rate': 0.02650009799560713, 'n_estimators': 125, 'min_child_samples': 20, 'subsample': 0.5, 'colsample_bytree': 0.6}. Best is trial 2 with value: 0.7406069917331549.\n",
      "[I 2025-02-17 12:41:15,884] Trial 15 finished with value: 0.7401661836533608 and parameters: {'objective': 'binary', 'metric': 'auc', 'random_state': 42, 'verbose': -1, 'learning_rate': 0.005529250273153117, 'n_estimators': 986, 'min_child_samples': 40, 'subsample': 0.7, 'colsample_bytree': 0.8}. Best is trial 2 with value: 0.7406069917331549.\n",
      "[I 2025-02-17 12:41:23,998] Trial 16 finished with value: 0.7364172262889568 and parameters: {'objective': 'binary', 'metric': 'auc', 'random_state': 42, 'verbose': -1, 'learning_rate': 0.044658849726746185, 'n_estimators': 1488, 'min_child_samples': 25, 'subsample': 0.7, 'colsample_bytree': 0.5}. Best is trial 2 with value: 0.7406069917331549.\n",
      "[I 2025-02-17 12:41:31,283] Trial 17 finished with value: 0.7284458707373609 and parameters: {'objective': 'binary', 'metric': 'auc', 'random_state': 42, 'verbose': -1, 'learning_rate': 0.09164845067673508, 'n_estimators': 1756, 'min_child_samples': 50, 'subsample': 0.6, 'colsample_bytree': 0.9}. Best is trial 2 with value: 0.7406069917331549.\n",
      "[I 2025-02-17 12:41:38,205] Trial 18 finished with value: 0.7403578503896504 and parameters: {'objective': 'binary', 'metric': 'auc', 'random_state': 42, 'verbose': -1, 'learning_rate': 0.01121978176524566, 'n_estimators': 1276, 'min_child_samples': 35, 'subsample': 0.5, 'colsample_bytree': 0.7}. Best is trial 2 with value: 0.7406069917331549.\n",
      "[I 2025-02-17 12:41:48,200] Trial 19 finished with value: 0.7387418863278861 and parameters: {'objective': 'binary', 'metric': 'auc', 'random_state': 42, 'verbose': -1, 'learning_rate': 0.01886026663441775, 'n_estimators': 1995, 'min_child_samples': 15, 'subsample': 0.7, 'colsample_bytree': 0.6}. Best is trial 2 with value: 0.7406069917331549.\n"
     ]
    },
    {
     "name": "stdout",
     "output_type": "stream",
     "text": [
      "{'objective': 'binary', 'metric': 'auc', 'random_state': 42, 'verbose': -1, 'learning_rate': 0.005318033256270142, 'n_estimators': 1943, 'min_child_samples': 45, 'subsample': 0.6, 'colsample_bytree': 0.6}\n",
      "0.7406069917331549\n",
      "0.7410468190040516\n"
     ]
    }
   ],
   "source": [
    "for col in X.columns:\n",
    "    if X[col].dtype == 'object':  # 문자형이면 category로 변환\n",
    "        X[col] = X[col].astype('category')\n",
    "        test[col] = test[col].astype('category')\n",
    "seed = 42\n",
    "\n",
    "test_pred_total = []\n",
    "scores_total = []\n",
    "seed_everything(seed)\n",
    "print('Seed {} Start!'.format(seed))\n",
    "cv = StratifiedKFold(n_splits = 10, random_state = seed, shuffle=True)\n",
    "\n",
    "cat_param_list = []\n",
    "lgbm_param_list = []\n",
    "for idx, (train_idx, val_idx) in enumerate(cv.split(X, y)):\n",
    "    print('='*50)\n",
    "    X_train, X_val = X.iloc[train_idx],X.iloc[val_idx]\n",
    "    y_train, y_val = y.iloc[train_idx], y.iloc[val_idx]\n",
    "\n",
    "    sampler = TPESampler(seed=seed)\n",
    "    optuna_cat = optuna.create_study(direction='maximize', sampler=sampler)\n",
    "    optuna_cat.optimize(objective_cat, n_trials = 10)\n",
    "    cat_trial = optuna_cat.best_trial\n",
    "    cat_trial_params = cat_trial.params\n",
    "    cat_param_list.append(cat_trial_params)\n",
    "    #model = CatBoostClassifier(auto_class_weights='Balanced', eval_metric='AUC', random_state=seed, task_type=\"CPU\" )\n",
    "    model = CatBoostClassifier(**cat_trial_params ,auto_class_weights='Balanced', eval_metric='AUC', random_state=seed, task_type=\"CPU\" )\n",
    "    model.fit(X_train,y_train,cat_features=categorical_columns,early_stopping_rounds= 300,eval_set=[(X_val,y_val)], verbose = 300)\n",
    "\n",
    "    sampler = TPESampler(seed=seed)\n",
    "    optuna_lgbm = optuna.create_study(direction='maximize', sampler=sampler)\n",
    "    optuna_lgbm.optimize(objective_lgbm, n_trials = 20)\n",
    "    lgbm_trial = optuna_lgbm.best_trial\n",
    "    lgbm_trial_params = lgbm_trial.params\n",
    "    lgbm_param_list.append(lgbm_trial_params)\n",
    "    #lgbm_trial_params ={'objective': 'binary', 'metric': 'auc', 'random_state': 42, 'learning_rate': 0.005318033256270142, 'n_estimators': 1943, 'min_child_samples': 45, 'subsample': 0.6, 'colsample_bytree': 0.6}\n",
    "    print(lgbm_trial_params)\n",
    "\n",
    "    class_weights = compute_class_weight(class_weight=\"balanced\", classes=np.unique(y), y=y_train)\n",
    "    class_weight_dict = {i: w for i, w in enumerate(class_weights)}\n",
    "\n",
    "    model_lgbm = lgb.LGBMClassifier(**lgbm_trial_params,class_weight=class_weight_dict)\n",
    "    #model_lgbm= lgb.LGBMClassifier(objective = 'binary', metric = 'auc', random_state =  seed, class_weight=class_weight_dict)\n",
    "    model_lgbm.fit(X_train, y_train, eval_set=[(X_val, y_val)],categorical_feature=categorical_columns)\n",
    "\n",
    "    val_pred = model.predict_proba(X_val)[:, 1]\n",
    "    val_pred_lgbm = model_lgbm.predict_proba(X_val)[:, 1]\n",
    "    print(roc_auc_score(y_val,val_pred_lgbm))\n",
    "\n",
    "    roc_val = roc_auc_score(y_val, (val_pred+val_pred_lgbm)/2)\n",
    "    scores_total.append(roc_val)\n",
    "    print(roc_val)\n",
    "\n",
    "    test_pred = model.predict_proba(test)[:, 1]\n",
    "    test_pred_lgbm = model_lgbm.predict_proba(test)[:, 1]\n",
    "    test_pred_total.append((test_pred+test_pred_lgbm)/2)"
   ]
  },
  {
   "cell_type": "code",
   "execution_count": 75,
   "metadata": {},
   "outputs": [],
   "source": [
    "import json\n",
    "\n",
    "# with open(\"cat_params.json\", \"w\") as f:\n",
    "#     json.dump(loaded_cat_params, f)\n",
    "# with open(\"lgbm_params.json\", \"w\") as f:\n",
    "#     json.dump(loaded_lgbm_params, f)  \n",
    "with open(\"cat_params.json\", \"r\") as f:\n",
    "    loaded_cat_params = json.load(f)\n",
    "with open(\"lgbm_params.json\", \"r\") as f:\n",
    "    loaded_lgbm_params = json.load(f)"
   ]
  },
  {
   "cell_type": "code",
   "execution_count": 43,
   "metadata": {
    "colab": {
     "base_uri": "https://localhost:8080/"
    },
    "id": "LDLeh9IJD9pt",
    "outputId": "0534775f-2085-448a-d2aa-690a9e4e4ff4"
   },
   "outputs": [
    {
     "data": {
      "text/plain": [
       "(0.7408400214755367,\n",
       " [0.7442165237690028,\n",
       "  0.7334558705267118,\n",
       "  0.7397310282686139,\n",
       "  0.7476034113279981,\n",
       "  0.7440637315802898,\n",
       "  0.738107052805385,\n",
       "  0.7375637760065648,\n",
       "  0.740625027498387,\n",
       "  0.741986973968363,\n",
       "  0.7410468190040516])"
      ]
     },
     "execution_count": 43,
     "metadata": {},
     "output_type": "execute_result"
    }
   ],
   "source": [
    "np.mean(scores_total), scores_total"
   ]
  },
  {
   "cell_type": "code",
   "execution_count": null,
   "metadata": {
    "colab": {
     "base_uri": "https://localhost:8080/"
    },
    "id": "E8D6DZP0pIm3",
    "outputId": "946ae60d-f2f2-405e-e757-ab31fe0d2375"
   },
   "outputs": [
    {
     "data": {
      "text/plain": [
       "(0.7404744276134504,\n",
       " [0.7440069593585843,\n",
       "  0.732989277250303,\n",
       "  0.7394070197213457,\n",
       "  0.7468925115089784,\n",
       "  0.743303275101187,\n",
       "  0.7376786815412464,\n",
       "  0.7374083316944162,\n",
       "  0.7403934970352888,\n",
       "  0.7419200486519333,\n",
       "  0.7407446742712208])"
      ]
     },
     "execution_count": 42,
     "metadata": {},
     "output_type": "execute_result"
    }
   ],
   "source": [
    "np.mean(scores_total), scores_total # 불임 원인 인코딩 + make feature 사용\n",
    "# 불임 원인 인코딩 x + make feature 사용x - > 0.740432\n",
    "# 불임 원인 인코딩 x + make feature 사용 -> 0.740432\n",
    "# 불임 원인 인코딩 x + make feature 사용 + 배아 특성 추가 -> 0.740426"
   ]
  },
  {
   "cell_type": "markdown",
   "metadata": {},
   "source": [
    "#### 재현성 확인"
   ]
  },
  {
   "cell_type": "code",
   "execution_count": 63,
   "metadata": {},
   "outputs": [
    {
     "name": "stdout",
     "output_type": "stream",
     "text": [
      "Seed 42 Start!\n",
      "==================================================\n",
      "0:\ttest: 0.7029731\tbest: 0.7029731 (0)\ttotal: 69.9ms\tremaining: 1m 35s\n",
      "300:\ttest: 0.7424229\tbest: 0.7424243 (299)\ttotal: 16.5s\tremaining: 58.2s\n",
      "600:\ttest: 0.7433793\tbest: 0.7433793 (600)\ttotal: 32.3s\tremaining: 41s\n",
      "900:\ttest: 0.7437817\tbest: 0.7437837 (898)\ttotal: 49s\tremaining: 25.1s\n",
      "1200:\ttest: 0.7438914\tbest: 0.7439090 (1162)\ttotal: 1m 5s\tremaining: 8.85s\n",
      "1362:\ttest: 0.7438772\tbest: 0.7439090 (1162)\ttotal: 1m 14s\tremaining: 0us\n",
      "\n",
      "bestTest = 0.7439089948\n",
      "bestIteration = 1162\n",
      "\n",
      "Shrink model to first 1163 iterations.\n",
      "0.7439849578352579\n",
      "0.7442165237690028\n",
      "==================================================\n",
      "0:\ttest: 0.7109930\tbest: 0.7109930 (0)\ttotal: 70.7ms\tremaining: 1m 13s\n",
      "300:\ttest: 0.7328493\tbest: 0.7330724 (234)\ttotal: 16.4s\tremaining: 40.3s\n",
      "Stopped by overfitting detector  (300 iterations wait)\n",
      "\n",
      "bestTest = 0.7330724\n",
      "bestIteration = 234\n",
      "\n",
      "Shrink model to first 235 iterations.\n",
      "0.7326602847504091\n",
      "0.7334558705267118\n",
      "==================================================\n",
      "0:\ttest: 0.7182081\tbest: 0.7182081 (0)\ttotal: 70.4ms\tremaining: 3m 7s\n",
      "300:\ttest: 0.7369249\tbest: 0.7369293 (299)\ttotal: 16.7s\tremaining: 2m 11s\n",
      "600:\ttest: 0.7386235\tbest: 0.7386235 (600)\ttotal: 32.9s\tremaining: 1m 53s\n",
      "900:\ttest: 0.7390593\tbest: 0.7390628 (899)\ttotal: 49.6s\tremaining: 1m 37s\n",
      "1200:\ttest: 0.7392803\tbest: 0.7392803 (1200)\ttotal: 1m 6s\tremaining: 1m 20s\n",
      "1500:\ttest: 0.7392609\tbest: 0.7393597 (1395)\ttotal: 1m 22s\tremaining: 1m 4s\n",
      "Stopped by overfitting detector  (300 iterations wait)\n",
      "\n",
      "bestTest = 0.7393597059\n",
      "bestIteration = 1395\n",
      "\n",
      "Shrink model to first 1396 iterations.\n",
      "0.7394204902929044\n",
      "0.7397310282686139\n",
      "==================================================\n",
      "0:\ttest: 0.7161176\tbest: 0.7161176 (0)\ttotal: 74.8ms\tremaining: 1m 23s\n",
      "300:\ttest: 0.7475394\tbest: 0.7475605 (294)\ttotal: 16.4s\tremaining: 44.4s\n",
      "600:\ttest: 0.7472632\tbest: 0.7477173 (418)\ttotal: 32.8s\tremaining: 28.1s\n",
      "Stopped by overfitting detector  (300 iterations wait)\n",
      "\n",
      "bestTest = 0.7477173083\n",
      "bestIteration = 418\n",
      "\n",
      "Shrink model to first 419 iterations.\n",
      "0.7467345178878735\n",
      "0.7476034113279981\n",
      "==================================================\n",
      "0:\ttest: 0.7218343\tbest: 0.7218343 (0)\ttotal: 66.2ms\tremaining: 1m 8s\n",
      "300:\ttest: 0.7435955\tbest: 0.7436123 (294)\ttotal: 16.2s\tremaining: 39.7s\n",
      "600:\ttest: 0.7432660\tbest: 0.7437588 (413)\ttotal: 32.5s\tremaining: 23.8s\n",
      "Stopped by overfitting detector  (300 iterations wait)\n",
      "\n",
      "bestTest = 0.7437588072\n",
      "bestIteration = 413\n",
      "\n",
      "Shrink model to first 414 iterations.\n",
      "0.7434959305881463\n",
      "0.7440637315802898\n",
      "==================================================\n",
      "0:\ttest: 0.7152302\tbest: 0.7152302 (0)\ttotal: 74.5ms\tremaining: 3m 18s\n",
      "300:\ttest: 0.7350406\tbest: 0.7350406 (300)\ttotal: 16.2s\tremaining: 2m 6s\n",
      "600:\ttest: 0.7368120\tbest: 0.7368120 (600)\ttotal: 32s\tremaining: 1m 49s\n",
      "900:\ttest: 0.7372389\tbest: 0.7372443 (893)\ttotal: 48.4s\tremaining: 1m 34s\n",
      "1200:\ttest: 0.7375111\tbest: 0.7375139 (1197)\ttotal: 1m 4s\tremaining: 1m 19s\n",
      "1500:\ttest: 0.7376038\tbest: 0.7376038 (1500)\ttotal: 1m 21s\tremaining: 1m 3s\n",
      "1800:\ttest: 0.7376585\tbest: 0.7376656 (1797)\ttotal: 1m 37s\tremaining: 46.9s\n",
      "2100:\ttest: 0.7376756\tbest: 0.7376768 (2098)\ttotal: 1m 54s\tremaining: 30.7s\n",
      "2400:\ttest: 0.7377264\tbest: 0.7377326 (2393)\ttotal: 2m 10s\tremaining: 14.4s\n",
      "2664:\ttest: 0.7376614\tbest: 0.7377410 (2419)\ttotal: 2m 25s\tremaining: 0us\n",
      "\n",
      "bestTest = 0.7377409609\n",
      "bestIteration = 2419\n",
      "\n",
      "Shrink model to first 2420 iterations.\n",
      "0.7378922278606337\n",
      "0.738107052805385\n",
      "==================================================\n",
      "0:\ttest: 0.7088694\tbest: 0.7088694 (0)\ttotal: 76.8ms\tremaining: 2m 14s\n",
      "300:\ttest: 0.7372940\tbest: 0.7372940 (300)\ttotal: 16.2s\tremaining: 1m 18s\n",
      "600:\ttest: 0.7366086\tbest: 0.7373401 (325)\ttotal: 32.6s\tremaining: 1m 2s\n",
      "Stopped by overfitting detector  (300 iterations wait)\n",
      "\n",
      "bestTest = 0.737340096\n",
      "bestIteration = 325\n",
      "\n",
      "Shrink model to first 326 iterations.\n",
      "0.7371349163234207\n",
      "0.7375637760065648\n",
      "==================================================\n",
      "0:\ttest: 0.7147495\tbest: 0.7147495 (0)\ttotal: 78.7ms\tremaining: 1m 47s\n",
      "300:\ttest: 0.7390178\tbest: 0.7390207 (297)\ttotal: 16.2s\tremaining: 57.1s\n",
      "600:\ttest: 0.7399851\tbest: 0.7399992 (587)\ttotal: 31.6s\tremaining: 40s\n",
      "900:\ttest: 0.7404279\tbest: 0.7404279 (900)\ttotal: 47.9s\tremaining: 24.6s\n",
      "1200:\ttest: 0.7405000\tbest: 0.7405219 (1177)\ttotal: 1m 4s\tremaining: 8.67s\n",
      "1362:\ttest: 0.7405230\tbest: 0.7405481 (1265)\ttotal: 1m 13s\tremaining: 0us\n",
      "\n",
      "bestTest = 0.7405480916\n",
      "bestIteration = 1265\n",
      "\n",
      "Shrink model to first 1266 iterations.\n",
      "0.7400960617735204\n",
      "0.740625027498387\n",
      "==================================================\n",
      "0:\ttest: 0.7188885\tbest: 0.7188885 (0)\ttotal: 76.3ms\tremaining: 1m 43s\n",
      "300:\ttest: 0.7386415\tbest: 0.7386426 (299)\ttotal: 16.2s\tremaining: 57.2s\n",
      "600:\ttest: 0.7405039\tbest: 0.7405039 (600)\ttotal: 31.9s\tremaining: 40.5s\n",
      "900:\ttest: 0.7414230\tbest: 0.7414302 (884)\ttotal: 48.3s\tremaining: 24.8s\n",
      "1200:\ttest: 0.7416263\tbest: 0.7416597 (1091)\ttotal: 1m 4s\tremaining: 8.72s\n",
      "1362:\ttest: 0.7415516\tbest: 0.7416597 (1091)\ttotal: 1m 13s\tremaining: 0us\n",
      "\n",
      "bestTest = 0.7416597293\n",
      "bestIteration = 1091\n",
      "\n",
      "Shrink model to first 1092 iterations.\n",
      "0.7417731218907365\n",
      "0.741986973968363\n",
      "==================================================\n",
      "0:\ttest: 0.7204691\tbest: 0.7204691 (0)\ttotal: 71.3ms\tremaining: 2m 12s\n",
      "300:\ttest: 0.7394802\tbest: 0.7394802 (300)\ttotal: 15.9s\tremaining: 1m 22s\n",
      "600:\ttest: 0.7409129\tbest: 0.7409431 (568)\ttotal: 32s\tremaining: 1m 7s\n",
      "900:\ttest: 0.7408313\tbest: 0.7409581 (626)\ttotal: 48.1s\tremaining: 51.4s\n",
      "Stopped by overfitting detector  (300 iterations wait)\n",
      "\n",
      "bestTest = 0.7409581173\n",
      "bestIteration = 626\n",
      "\n",
      "Shrink model to first 627 iterations.\n",
      "0.7406069917331549\n",
      "0.7410468190040516\n"
     ]
    }
   ],
   "source": [
    "for col in X.columns:\n",
    "    if X[col].dtype == 'object':  # 문자형이면 category로 변환\n",
    "        X[col] = X[col].astype('category')\n",
    "        test[col] = test[col].astype('category')\n",
    "seed = 42\n",
    "\n",
    "test_pred_total = []\n",
    "scores_total = []\n",
    "seed_everything(seed)\n",
    "print('Seed {} Start!'.format(seed))\n",
    "cv = StratifiedKFold(n_splits = 10, random_state = seed, shuffle=True)\n",
    "\n",
    "cat_param_list = []\n",
    "lgbm_param_list = []\n",
    "for idx, (train_idx, val_idx) in enumerate(cv.split(X, y)):\n",
    "    print('='*50)\n",
    "    X_train, X_val = X.iloc[train_idx],X.iloc[val_idx]\n",
    "    y_train, y_val = y.iloc[train_idx], y.iloc[val_idx]\n",
    "\n",
    "    cat_trial_params = loaded_cat_params[idx]\n",
    "    model = CatBoostClassifier(**cat_trial_params ,auto_class_weights='Balanced', eval_metric='AUC', random_state=seed, task_type=\"CPU\" )\n",
    "    model.fit(X_train,y_train,cat_features=categorical_columns,early_stopping_rounds= 300,eval_set=[(X_val,y_val)], verbose = 300)\n",
    "\n",
    "    lgbm_trial_params = loaded_lgbm_params[idx]\n",
    "    class_weights = compute_class_weight(class_weight=\"balanced\", classes=np.unique(y), y=y_train)\n",
    "    class_weight_dict = {i: w for i, w in enumerate(class_weights)}\n",
    "\n",
    "    model_lgbm = lgb.LGBMClassifier(**lgbm_trial_params,class_weight=class_weight_dict)\n",
    "    model_lgbm.fit(X_train, y_train, eval_set=[(X_val, y_val)],categorical_feature=categorical_columns)\n",
    "\n",
    "    val_pred = model.predict_proba(X_val)[:, 1]\n",
    "    val_pred_lgbm = model_lgbm.predict_proba(X_val)[:, 1]\n",
    "    print(roc_auc_score(y_val,val_pred_lgbm))\n",
    "\n",
    "    roc_val = roc_auc_score(y_val, (val_pred+val_pred_lgbm)/2)\n",
    "    scores_total.append(roc_val)\n",
    "    print(roc_val)\n",
    "\n",
    "    test_pred = model.predict_proba(test)[:, 1]\n",
    "    test_pred_lgbm = model_lgbm.predict_proba(test)[:, 1]\n",
    "    test_pred_total.append((test_pred+test_pred_lgbm)/2)"
   ]
  },
  {
   "cell_type": "code",
   "execution_count": 44,
   "metadata": {
    "colab": {
     "base_uri": "https://localhost:8080/",
     "height": 1000
    },
    "id": "n3IfZ6xH9a35",
    "outputId": "9a1c106b-3242-4e3c-dbb4-ea136c7205aa"
   },
   "outputs": [
    {
     "data": {
      "text/plain": [
       "Text(0.5, 1.0, 'Feature Importance')"
      ]
     },
     "execution_count": 44,
     "metadata": {},
     "output_type": "execute_result"
    },
    {
     "data": {
      "image/png": "[encoded data removed]",
      "text/plain": [
       "<Figure size 1200x1200 with 1 Axes>"
      ]
     },
     "metadata": {},
     "output_type": "display_data"
    }
   ],
   "source": [
    "feature_importance = model.feature_importances_\n",
    "sorted_idx = np.argsort(feature_importance)\n",
    "fig = plt.figure(figsize=(12, 12))\n",
    "plt.barh(range(len(sorted_idx)), feature_importance[sorted_idx], align='center')\n",
    "plt.yticks(range(len(sorted_idx)), np.array(X.columns)[sorted_idx])\n",
    "plt.title('Feature Importance')"
   ]
  },
  {
   "cell_type": "code",
   "execution_count": 54,
   "metadata": {},
   "outputs": [
    {
     "data": {
      "text/plain": [
       "array(['배아 이식률', '이식된 배아 수', '시술 당시 나이', '총 생성 배아 수', '배아 이식 경과일',\n",
       "       '저장된 배아 수', '저장 배아 비율', '난자 출처', '배아 생성 주요 이유', '수집된 신선 난자 수',\n",
       "       '배란 자극 여부', '임신 성공률', '혼합된 난자 수', '시술 시기 코드', '해동 배아 생존율',\n",
       "       '난자 기증자 나이', 'IVF 시술 횟수', '클리닉 내 총 시술 횟수', '미세주입 배아 생성률',\n",
       "       '특정 시술 유형', 'IVF 임신 횟수', '배아 해동 경과일', '불임 원인 - 남성 요인',\n",
       "       '미세주입 배아 이식률', '해동된 배아 수', 'IVF 출산 횟수', '총 출산 횟수', '총 임신 횟수',\n",
       "       '총 시술 횟수', '정자 기증자 나이', '출산율', '불임 원인 - 여성 요인', '불임 원인 - 난관 질환',\n",
       "       'PGS 시술 여부', '파트너 정자 혼합 비율', '미세주입된 난자 수', '동결 배아 사용 여부', '정자 출처',\n",
       "       '파트너 정자와 혼합된 난자 수', 'DI 시술 횟수', '단일 배아 이식 여부', '남성 불임 원인',\n",
       "       '임신 시도 또는 마지막 임신 경과 연수', '해동 난자 수', '미세주입 배아 이식 수', '신선 배아 사용 여부',\n",
       "       '여성 불임 원인', '부부 불임 원인', '불임 원인 - 배란 장애', '기증자 정자와 혼합된 난자 수',\n",
       "       '시술 유형', '미세주입에서 생성된 배아 수', '미세주입 후 저장된 배아 수', '착상 전 유전 검사 사용 여부',\n",
       "       '난자 혼합 경과일', '착상 전 유전 진단 사용 여부', '불명확 불임 원인', 'DI 출산 횟수',\n",
       "       '불임 원인 - 정자 요인', '대리모 여부', 'PGD 시술 여부', '불임 원인 - 자궁내막증',\n",
       "       'DI 임신 횟수', '기증 배아 사용 여부', '저장된 신선 난자 수', '불임 원인 - 정자 농도'],\n",
       "      dtype=object)"
      ]
     },
     "execution_count": 54,
     "metadata": {},
     "output_type": "execute_result"
    }
   ],
   "source": [
    "np.array(X.columns)[sorted_idx][::-1]"
   ]
  },
  {
   "cell_type": "code",
   "execution_count": 55,
   "metadata": {
    "id": "zdqhyNyumAyx"
   },
   "outputs": [],
   "source": [
    "test_pred_total_mean = np.mean(test_pred_total, axis=(0))"
   ]
  },
  {
   "cell_type": "code",
   "execution_count": 56,
   "metadata": {
    "colab": {
     "base_uri": "https://localhost:8080/",
     "height": 540
    },
    "id": "HHVwzBg8NEZK",
    "outputId": "7c5d38e1-affe-45e7-b863-372c9a868b84"
   },
   "outputs": [
    {
     "data": {
      "text/plain": [
       "(array([13543.,  2355.,  3292.,  5911.,  9144., 13078., 16803., 15203.,\n",
       "        10113.,   625.]),\n",
       " array([5.39478946e-04, 8.84577679e-02, 1.76376057e-01, 2.64294346e-01,\n",
       "        3.52212635e-01, 4.40130924e-01, 5.28049213e-01, 6.15967501e-01,\n",
       "        7.03885790e-01, 7.91804079e-01, 8.79722368e-01]),\n",
       " <BarContainer object of 10 artists>)"
      ]
     },
     "execution_count": 56,
     "metadata": {},
     "output_type": "execute_result"
    },
    {
     "data": {
      "image/png": "[encoded data removed]",
      "text/plain": [
       "<Figure size 640x480 with 1 Axes>"
      ]
     },
     "metadata": {},
     "output_type": "display_data"
    }
   ],
   "source": [
    "plt.hist(test_pred_total_mean)"
   ]
  },
  {
   "cell_type": "code",
   "execution_count": 57,
   "metadata": {
    "id": "KGlLsagWhQmz"
   },
   "outputs": [],
   "source": [
    "sample_submission = pd.read_csv('/work/home/ybchae/aimers/aimers_data/sample_submission.csv')\n",
    "sample_submission['probability'] = test_pred_total_mean"
   ]
  },
  {
   "cell_type": "code",
   "execution_count": 58,
   "metadata": {
    "id": "cRPfPmjigZCd"
   },
   "outputs": [],
   "source": [
    "sample_submission.to_csv('/work/home/ybchae/aimers/aimers_data/Add_feature_reason2_lgbmcat.csv', index=False)"
   ]
  },
  {
   "cell_type": "code",
   "execution_count": null,
   "metadata": {
    "id": "FhfFoj0tvQ-j"
   },
   "outputs": [],
   "source": []
  }
 ],
 "metadata": {
  "accelerator": "GPU",
  "colab": {
   "gpuType": "T4",
   "provenance": []
  },
  "kernelspec": {
   "display_name": "Python 3 (ipykernel)",
   "language": "python",
   "name": "python3"
  },
  "language_info": {
   "codemirror_mode": {
    "name": "ipython",
    "version": 3
   },
   "file_extension": ".py",
   "mimetype": "text/x-python",
   "name": "python",
   "nbconvert_exporter": "python",
   "pygments_lexer": "ipython3",
   "version": "3.9.13"
  }
 },
 "nbformat": 4,
 "nbformat_minor": 4
}
